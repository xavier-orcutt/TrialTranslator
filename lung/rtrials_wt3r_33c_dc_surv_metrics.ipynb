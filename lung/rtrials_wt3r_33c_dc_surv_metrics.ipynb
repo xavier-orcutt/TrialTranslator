{
 "cells": [
  {
   "cell_type": "markdown",
   "id": "41761224",
   "metadata": {},
   "source": [
    "# Flatiron Health aNSCLC: Survival metrics for appropriate chemo dosing \n",
    "**Background: Calculate survival metrics for emulated trials involving patients who receive appropriate upfront dosing of chemotherapeutics. Hazard ratio for the full cohort is calculated from a Cox-IPTW model. Restricted mean survival time and median overall survival are calculated for phenotypes using an IPTW-adjusted KM curve.**"
   ]
  },
  {
   "cell_type": "markdown",
   "id": "14f73929",
   "metadata": {},
   "source": [
    "## Part 1: Preprocessing"
   ]
  },
  {
   "cell_type": "markdown",
   "id": "81877ce2",
   "metadata": {},
   "source": [
    "### 1.1 Import packages and create necessary functions"
   ]
  },
  {
   "cell_type": "code",
   "execution_count": 1,
   "id": "b38000aa",
   "metadata": {},
   "outputs": [],
   "source": [
    "import numpy as np\n",
    "import pandas as pd\n",
    "\n",
    "from scipy import stats\n",
    "\n",
    "from sksurv.nonparametric import kaplan_meier_estimator\n",
    "from survive import KaplanMeier, SurvivalData\n",
    "\n",
    "from lifelines import KaplanMeierFitter, CoxPHFitter\n",
    "from lifelines.plotting import add_at_risk_counts\n",
    "from lifelines.utils import median_survival_times, restricted_mean_survival_time\n",
    "from lifelines.statistics import logrank_test\n",
    "\n",
    "from sklearn.pipeline import Pipeline\n",
    "from sklearn.impute import SimpleImputer\n",
    "from sklearn.preprocessing import StandardScaler, OneHotEncoder\n",
    "from sklearn.compose import ColumnTransformer \n",
    "from sklearn.linear_model import LogisticRegression\n",
    "from sklearn.utils import resample\n",
    "\n",
    "import warnings"
   ]
  },
  {
   "cell_type": "code",
   "execution_count": 2,
   "id": "c51a4ff2",
   "metadata": {},
   "outputs": [],
   "source": [
    "# Function that returns number of rows and count of unique PatientIDs for a dataframe. \n",
    "def row_ID(dataframe):\n",
    "    row = dataframe.shape[0]\n",
    "    ID = dataframe['PatientID'].nunique()\n",
    "    return row, ID"
   ]
  },
  {
   "cell_type": "code",
   "execution_count": 3,
   "id": "b1194553",
   "metadata": {},
   "outputs": [],
   "source": [
    "# Find index for value closest to input value. \n",
    "def find_nearest(array, value):\n",
    "    array = np.asarray(array)\n",
    "    idx = (np.abs(array - value)).argmin()\n",
    "    return array[idx]"
   ]
  },
  {
   "cell_type": "code",
   "execution_count": 4,
   "id": "ac298a04",
   "metadata": {},
   "outputs": [],
   "source": [
    "# Calculates median overeall suvival for risk groups. \n",
    "def mos(low, med, high, comp):\n",
    "    low_os = low.median_survival_time_\n",
    "    med_os = med.median_survival_time_\n",
    "    high_os = high.median_survival_time_\n",
    "    comp_os = comp.median_survival_time_\n",
    "    mos = [low_os, med_os, high_os, comp_os]\n",
    "    return (mos)"
   ]
  },
  {
   "cell_type": "code",
   "execution_count": 5,
   "id": "e2cd9122",
   "metadata": {},
   "outputs": [],
   "source": [
    "def rmst_mos_95ci(df, num_samples, drug, event, items_list, numerical_features, rmst_time):\n",
    "    \n",
    "    \"\"\"\n",
    "    Estimate the 95% confidence interval for RMST and mOS using bootstrap resampling.\n",
    "\n",
    "    Parameters:\n",
    "    - df: DataFrame containing survival data\n",
    "    - num_samples: Number of bootstrap samples\n",
    "    - drug: Treatment indicator variable\n",
    "    - event: Event type ('death' or 'progression')\n",
    "    - items_list: Feature list for IPTW \n",
    "    - numerical_features: List of numerical features\n",
    "    - rmst_time: Time to calculate RMST \n",
    "\n",
    "    Returns:\n",
    "    - mos_A_95: mOS 95% CI for treatment\n",
    "    - mos_B_95: mOS 95% CI for control\n",
    "    - rmst_A_95: RMST 95% CI for treatment\n",
    "    - rmst_B_95: RMST 95% CI for control\n",
    "    - difference_rmst_95: RMST 95% CI for difference between treatment and control \n",
    "    \"\"\"\n",
    "    \n",
    "    np.random.seed(42)\n",
    "    mos_A = []\n",
    "    mos_B = []\n",
    "    rmst_A_list = []\n",
    "    rmst_B_list = []\n",
    "    differences_rmst = []\n",
    "    \n",
    "    # Define variables based on the event type\n",
    "    if event == 'death':\n",
    "        time_column = 'timerisk_treatment'\n",
    "        status_column = 'death_status'\n",
    "        \n",
    "    else:\n",
    "        time_column = 'time_prog_treatment'\n",
    "        status_column = 'pfs_status'\n",
    "        \n",
    "    # Set up preprocessor for logistical regression which will be for IPTW  \n",
    "    numerical_transformer = Pipeline(steps = [\n",
    "        ('imputer', SimpleImputer(strategy = 'median')),\n",
    "        ('std_scaler', StandardScaler())])\n",
    "        \n",
    "    categorical_transformer = OneHotEncoder(handle_unknown = 'ignore')\n",
    "    categorical_features = list(df.select_dtypes(include = ['category']).columns)\n",
    "        \n",
    "    preprocessor = ColumnTransformer(\n",
    "        transformers = [\n",
    "            ('num', numerical_transformer, numerical_features),\n",
    "            ('cat', categorical_transformer, categorical_features)],\n",
    "        remainder = 'passthrough')\n",
    "    \n",
    "    # Boostrap \n",
    "    for _ in range(num_samples):\n",
    "        \n",
    "        # Resample data with replacement\n",
    "        resampled_df = resample(df).drop(columns = ['ps', 'weight'])\n",
    "        \n",
    "        # Calculated IPTW for the resampled group \n",
    "        df_x = preprocessor.fit_transform(resampled_df.filter(items = items_list))\n",
    "                                           \n",
    "        df_lr = LogisticRegression(max_iter = 1000)\n",
    "        df_lr.fit(df_x, resampled_df[drug])\n",
    "        warnings.filterwarnings(\"ignore\")\n",
    "                                           \n",
    "        pred = df_lr.predict_proba(df_x)        \n",
    "        resampled_df['ps'] = pred[:, 1]                          \n",
    "        resampled_df['weight'] = (\n",
    "                np.where(resampled_df[drug] == 1, 1/resampled_df['ps'], 1/(1 - resampled_df['ps'])))\n",
    "    \n",
    "        # mOS from IPTW-KM\n",
    "        kmf_A = KaplanMeierFitter()\n",
    "        kmf_A.fit(resampled_df.query(f'{drug} == 1')[time_column]/30,\n",
    "                  resampled_df.query(f'{drug} == 1')[status_column], \n",
    "                  weights = resampled_df.query(f'{drug} == 1')['weight'])\n",
    "\n",
    "        kmf_B = KaplanMeierFitter()\n",
    "        kmf_B.fit(resampled_df.query(f'{drug} == 0')[time_column]/30,\n",
    "                  resampled_df.query(f'{drug} == 0')[status_column], \n",
    "                  weights = resampled_df.query(f'{drug} == 0')['weight'])\n",
    "    \n",
    "        mos_A.append(kmf_A.median_survival_time_)\n",
    "        mos_B.append(kmf_B.median_survival_time_)\n",
    "        \n",
    "        # RMST from IPTW-KM\n",
    "        rmst_A = restricted_mean_survival_time(kmf_A, rmst_time)\n",
    "        rmst_B = restricted_mean_survival_time(kmf_B, rmst_time)\n",
    "        \n",
    "        rmst_A_list.append(rmst_A)\n",
    "        rmst_B_list.append(rmst_B)\n",
    "        differences_rmst.append(rmst_A - rmst_B)\n",
    "\n",
    "    # Calculate the 95% confidence interval\n",
    "    results = pd.Series({\n",
    "    'mos_A_95': np.percentile(mos_A, [2.5, 97.5]),\n",
    "    'mos_B_95': np.percentile(mos_B, [2.5, 97.5]),\n",
    "    'rmst_A_95': np.percentile(rmst_A_list, [2.5, 97.5]),\n",
    "    'rmst_B_95': np.percentile(rmst_B_list, [2.5, 97.5]),\n",
    "    'difference_rmst_95': np.percentile(differences_rmst, [2.5, 97.5])\n",
    "    })\n",
    "    \n",
    "    return results"
   ]
  },
  {
   "cell_type": "code",
   "execution_count": 6,
   "id": "ea1a8f28",
   "metadata": {},
   "outputs": [],
   "source": [
    "cutoff = pd.read_csv('risk_cutoff_lung.csv', index_col = 0)"
   ]
  },
  {
   "cell_type": "markdown",
   "id": "4b3663e0",
   "metadata": {},
   "source": [
    "## Part 2: In-silico trials "
   ]
  },
  {
   "cell_type": "markdown",
   "id": "d89e22e9",
   "metadata": {},
   "source": [
    "### KEYNOTE-042: First-line pembrolizumab vs. platinum-based chemotherapy in those with PDL1 >=1%\n",
    "\n",
    "**INCLUSION CRITERIA**\n",
    "* Untreated locally advanced or metastatic NSCLC\n",
    "* Received first line pemobrolizumab or platinum-based chemotherapy\n",
    "* Received appropriate dose of platinum-based chemotherapy\n",
    "* PDL1 >= 1% and status known within (-inf, +30] days of first-line treatment\n",
    "* EGFR and ALK negative"
   ]
  },
  {
   "cell_type": "markdown",
   "id": "9a6ebd20",
   "metadata": {},
   "source": [
    "#### Pembrolizumab"
   ]
  },
  {
   "cell_type": "code",
   "execution_count": 7,
   "id": "6f01cbd9",
   "metadata": {},
   "outputs": [
    {
     "data": {
      "text/plain": [
       "68483"
      ]
     },
     "execution_count": 7,
     "metadata": {},
     "output_type": "execute_result"
    }
   ],
   "source": [
    "df_full = pd.read_csv('df_risk_crude.csv', index_col = 'PatientID', dtype = {'death_status': bool})\n",
    "df_full.index.nunique()"
   ]
  },
  {
   "cell_type": "code",
   "execution_count": 8,
   "id": "1a0124ad",
   "metadata": {},
   "outputs": [],
   "source": [
    "line_therapy = pd.read_csv('LineOfTherapy.csv')"
   ]
  },
  {
   "cell_type": "code",
   "execution_count": 9,
   "id": "136fb9dc",
   "metadata": {},
   "outputs": [],
   "source": [
    "key042_pembro = (\n",
    "    line_therapy[line_therapy['PatientID'].isin(df_full.index)]\n",
    "    .query('LineNumber == 1')\n",
    "    .query('IsMaintenanceTherapy == False')\n",
    "    .query('LineName == \"Pembrolizumab\"')\n",
    "    [['PatientID', 'StartDate']]\n",
    ")"
   ]
  },
  {
   "cell_type": "code",
   "execution_count": 10,
   "id": "32e0a054",
   "metadata": {},
   "outputs": [],
   "source": [
    "key042_pembro.loc[:, 'pembro'] = 1"
   ]
  },
  {
   "cell_type": "code",
   "execution_count": 11,
   "id": "bee3830b",
   "metadata": {},
   "outputs": [
    {
     "data": {
      "text/plain": [
       "(3648, 3648)"
      ]
     },
     "execution_count": 11,
     "metadata": {},
     "output_type": "execute_result"
    }
   ],
   "source": [
    "row_ID(key042_pembro)"
   ]
  },
  {
   "cell_type": "code",
   "execution_count": 12,
   "id": "e616fa80",
   "metadata": {},
   "outputs": [],
   "source": [
    "# Dataframe of all therapies received for those receiving first line pembrolizumab only. \n",
    "line_therapy_pembro_042 = (\n",
    "    line_therapy[line_therapy['PatientID'].isin(key042_pembro.PatientID)])"
   ]
  },
  {
   "cell_type": "code",
   "execution_count": 13,
   "id": "457fe47a",
   "metadata": {},
   "outputs": [],
   "source": [
    "targeted = [\n",
    "    'Afatinib',\n",
    "    'Alectinib',\n",
    "    'Brigatinib',\n",
    "    'Cabozantinib',\n",
    "    'Capmatinib',\n",
    "    'Ceritinib',\n",
    "    'Crizotinib',\n",
    "    'Dabrafenib',\n",
    "    'Dacomitinib',\n",
    "    'Entrectinib',\n",
    "    'Erlotinib',\n",
    "    'Gefitinib',\n",
    "    'Lorlatinib',\n",
    "    'Osimertinib',\n",
    "    'Pralsetinib',\n",
    "    'Selpercatinib',\n",
    "    'Sotorasib',\n",
    "    'Tepotinib',\n",
    "    'Trametinib',\n",
    "    'Vandetanib']"
   ]
  },
  {
   "cell_type": "code",
   "execution_count": 14,
   "id": "71dd4c80",
   "metadata": {},
   "outputs": [],
   "source": [
    "# Patients receiving pembrolizumab therapy who later recieve targeted therapy. \n",
    "pembro_042_xcross = (\n",
    "    line_therapy_pembro_042[line_therapy_pembro_042['LineName'].str.contains('|'.join(targeted))].PatientID)"
   ]
  },
  {
   "cell_type": "code",
   "execution_count": 15,
   "id": "045ceaa5",
   "metadata": {},
   "outputs": [],
   "source": [
    "# Select patients who don't receive targeted therapy in future lines.\n",
    "key042_pembro = key042_pembro[~key042_pembro['PatientID'].isin(pembro_042_xcross)]"
   ]
  },
  {
   "cell_type": "code",
   "execution_count": 16,
   "id": "3d52be5f",
   "metadata": {},
   "outputs": [
    {
     "data": {
      "text/plain": [
       "(3582, 3582)"
      ]
     },
     "execution_count": 16,
     "metadata": {},
     "output_type": "execute_result"
    }
   ],
   "source": [
    "row_ID(key042_pembro)"
   ]
  },
  {
   "cell_type": "code",
   "execution_count": 17,
   "id": "ee7ecace",
   "metadata": {},
   "outputs": [
    {
     "data": {
      "text/plain": [
       "(3582, 3582)"
      ]
     },
     "execution_count": 17,
     "metadata": {},
     "output_type": "execute_result"
    }
   ],
   "source": [
    "row_ID(key042_pembro)"
   ]
  },
  {
   "cell_type": "markdown",
   "id": "d460c2d0",
   "metadata": {},
   "source": [
    "#### Platinum-based chemotherapy "
   ]
  },
  {
   "cell_type": "code",
   "execution_count": 18,
   "id": "817bea24",
   "metadata": {},
   "outputs": [],
   "source": [
    "line_therapy_fl = (\n",
    "    line_therapy[line_therapy['PatientID'].isin(df_full.index)]\n",
    "    .query('LineNumber == 1')\n",
    "    .query('IsMaintenanceTherapy == False')\n",
    ")"
   ]
  },
  {
   "cell_type": "code",
   "execution_count": 19,
   "id": "77455683",
   "metadata": {},
   "outputs": [],
   "source": [
    "plat_chemo = [\n",
    "    'Carboplatin',\n",
    "    'Cisplatin']\n",
    "\n",
    "immuno = [\n",
    "    'Atezolizumab',\n",
    "    'Cemiplimab',\n",
    "    'Durvalumab',\n",
    "    'Ipilimumab',\n",
    "    'Nivolumab',\n",
    "    'Pembrolizumab'\n",
    "]"
   ]
  },
  {
   "cell_type": "code",
   "execution_count": 20,
   "id": "06c1a9b4",
   "metadata": {},
   "outputs": [
    {
     "data": {
      "text/plain": [
       "Carboplatin,Paclitaxel                  8524\n",
       "Carboplatin,Pemetrexed                  5417\n",
       "Bevacizumab,Carboplatin,Pemetrexed      2825\n",
       "Carboplatin,Paclitaxel Protein-Bound    1826\n",
       "Bevacizumab,Carboplatin,Paclitaxel      1591\n",
       "Carboplatin,Gemcitabine                 1224\n",
       "Cisplatin,Etoposide                      793\n",
       "Carboplatin,Docetaxel                    780\n",
       "Cisplatin,Pemetrexed                     684\n",
       "Carboplatin,Etoposide                    363\n",
       "Name: LineName, dtype: int64"
      ]
     },
     "execution_count": 20,
     "metadata": {},
     "output_type": "execute_result"
    }
   ],
   "source": [
    "line_therapy_fl[line_therapy_fl['LineName'].str.contains('|'.join(plat_chemo)) & \n",
    "                ~line_therapy_fl['LineName'].str.contains('|'.join(immuno)) &\n",
    "                ~line_therapy_fl['LineName'].str.contains('|'.join(targeted)) &\n",
    "                ~line_therapy_fl['LineName'].str.contains('Clinical Study Drug')].LineName.value_counts().head(10)"
   ]
  },
  {
   "cell_type": "code",
   "execution_count": 21,
   "id": "fea1955b",
   "metadata": {},
   "outputs": [],
   "source": [
    "key042_carb = (\n",
    "    line_therapy_fl[line_therapy_fl['LineName'].str.contains('Carboplatin') & \n",
    "                    ~line_therapy_fl['LineName'].str.contains('|'.join(immuno)) &\n",
    "                    ~line_therapy_fl['LineName'].str.contains('|'.join(targeted)) &\n",
    "                    ~line_therapy_fl['LineName'].str.contains('Clinical Study Drug')]\n",
    "    [['PatientID', 'StartDate']]\n",
    ")"
   ]
  },
  {
   "cell_type": "code",
   "execution_count": 22,
   "id": "05bacc21",
   "metadata": {},
   "outputs": [],
   "source": [
    "key042_carb.loc[:, 'carb'] = 1"
   ]
  },
  {
   "cell_type": "code",
   "execution_count": 23,
   "id": "f3a9a7d8",
   "metadata": {},
   "outputs": [],
   "source": [
    "key042_cis = (\n",
    "    line_therapy_fl[line_therapy_fl['LineName'].str.contains('Cisplatin') & \n",
    "                    ~line_therapy_fl['LineName'].str.contains('|'.join(immuno)) &\n",
    "                    ~line_therapy_fl['LineName'].str.contains('|'.join(targeted)) &\n",
    "                    ~line_therapy_fl['LineName'].str.contains('Clinical Study Drug')]\n",
    "    [['PatientID', 'StartDate']]\n",
    ")"
   ]
  },
  {
   "cell_type": "code",
   "execution_count": 24,
   "id": "17000f85",
   "metadata": {},
   "outputs": [],
   "source": [
    "key042_cis.loc[:, 'carb'] = 0"
   ]
  },
  {
   "cell_type": "code",
   "execution_count": 25,
   "id": "271b8204",
   "metadata": {},
   "outputs": [],
   "source": [
    "key042_plat = pd.concat([key042_carb, key042_cis])"
   ]
  },
  {
   "cell_type": "code",
   "execution_count": 26,
   "id": "8e4dbb2d",
   "metadata": {},
   "outputs": [],
   "source": [
    "key042_plat.loc[:, 'pembro'] = 0"
   ]
  },
  {
   "cell_type": "code",
   "execution_count": 27,
   "id": "b004bca2",
   "metadata": {},
   "outputs": [
    {
     "data": {
      "text/plain": [
       "(25861, 25861)"
      ]
     },
     "execution_count": 27,
     "metadata": {},
     "output_type": "execute_result"
    }
   ],
   "source": [
    "row_ID(key042_plat)"
   ]
  },
  {
   "cell_type": "code",
   "execution_count": 28,
   "id": "40d04fd6",
   "metadata": {},
   "outputs": [],
   "source": [
    "# Dataframe of all therapies received for those receiving first line platinum regimen   \n",
    "line_therapy_plat_042 = (\n",
    "    line_therapy[line_therapy['PatientID'].isin(key042_plat.PatientID)])"
   ]
  },
  {
   "cell_type": "code",
   "execution_count": 29,
   "id": "5724208e",
   "metadata": {},
   "outputs": [],
   "source": [
    "# Patients receiving platinum therapy who later recieve targeted therapy. \n",
    "plat_042_xcross = (\n",
    "    line_therapy_plat_042[line_therapy_plat_042['LineName'].str.contains('|'.join(targeted))].PatientID)"
   ]
  },
  {
   "cell_type": "code",
   "execution_count": 30,
   "id": "407db79a",
   "metadata": {},
   "outputs": [],
   "source": [
    "# Select patients who don't receive targeted therapy in future lines \n",
    "key042_plat = key042_plat[~key042_plat['PatientID'].isin(plat_042_xcross)]"
   ]
  },
  {
   "cell_type": "code",
   "execution_count": 31,
   "id": "40a5a901",
   "metadata": {},
   "outputs": [
    {
     "data": {
      "text/plain": [
       "(23800, 23800)"
      ]
     },
     "execution_count": 31,
     "metadata": {},
     "output_type": "execute_result"
    }
   ],
   "source": [
    "row_ID(key042_plat)"
   ]
  },
  {
   "cell_type": "markdown",
   "id": "43e32649",
   "metadata": {},
   "source": [
    "#### Platinum-based chemotherapy dosing"
   ]
  },
  {
   "cell_type": "markdown",
   "id": "1565848d",
   "metadata": {},
   "source": [
    "#### Carboplatin"
   ]
  },
  {
   "cell_type": "code",
   "execution_count": 32,
   "id": "b97f7a81",
   "metadata": {},
   "outputs": [],
   "source": [
    "med_order = pd.read_csv('MedicationOrder.csv', low_memory = False)"
   ]
  },
  {
   "cell_type": "code",
   "execution_count": 33,
   "id": "556e03c4",
   "metadata": {},
   "outputs": [],
   "source": [
    "med_order['ExpectedStartDate'] = np.where(med_order['ExpectedStartDate'].isna(), \n",
    "                                          med_order['OrderedDate'], \n",
    "                                          med_order['ExpectedStartDate'])"
   ]
  },
  {
   "cell_type": "code",
   "execution_count": 34,
   "id": "485ac4af",
   "metadata": {},
   "outputs": [],
   "source": [
    "med_order.loc[:, 'ExpectedStartDate'] = pd.to_datetime(med_order['ExpectedStartDate'])"
   ]
  },
  {
   "cell_type": "code",
   "execution_count": 35,
   "id": "41f0f4e1",
   "metadata": {},
   "outputs": [],
   "source": [
    "key042_plat.loc[:, 'StartDate'] = pd.to_datetime(key042_plat['StartDate'])"
   ]
  },
  {
   "cell_type": "code",
   "execution_count": 36,
   "id": "22377422",
   "metadata": {},
   "outputs": [],
   "source": [
    "med_order_carb = (\n",
    "    med_order[med_order['PatientID'].isin(key042_plat.query('carb == 1').PatientID)]\n",
    "    .query('CommonDrugName == \"carboplatin\"')\n",
    ")"
   ]
  },
  {
   "cell_type": "code",
   "execution_count": 37,
   "id": "67eaee01",
   "metadata": {},
   "outputs": [
    {
     "data": {
      "text/plain": [
       "(147262, 18)"
      ]
     },
     "execution_count": 37,
     "metadata": {},
     "output_type": "execute_result"
    }
   ],
   "source": [
    "med_order_carb.shape"
   ]
  },
  {
   "cell_type": "code",
   "execution_count": 38,
   "id": "1d2fcd54",
   "metadata": {},
   "outputs": [],
   "source": [
    "med_order_carb = pd.merge(med_order_carb, \n",
    "                          key042_plat.query('carb == 1')[['PatientID', 'StartDate']], \n",
    "                          on = 'PatientID', \n",
    "                          how = 'left')"
   ]
  },
  {
   "cell_type": "code",
   "execution_count": 39,
   "id": "99c44d3b",
   "metadata": {},
   "outputs": [
    {
     "data": {
      "text/plain": [
       "(147262, 19)"
      ]
     },
     "execution_count": 39,
     "metadata": {},
     "output_type": "execute_result"
    }
   ],
   "source": [
    "med_order_carb.shape"
   ]
  },
  {
   "cell_type": "code",
   "execution_count": 40,
   "id": "eda137a3",
   "metadata": {},
   "outputs": [],
   "source": [
    "med_order_carb.loc[:, 'date_diff'] = (med_order_carb['ExpectedStartDate'] - med_order_carb['StartDate']).dt.days.abs()"
   ]
  },
  {
   "cell_type": "code",
   "execution_count": 41,
   "id": "c9fc9f7e",
   "metadata": {},
   "outputs": [],
   "source": [
    "med_order_carb = med_order_carb.query('date_diff <= 14')"
   ]
  },
  {
   "cell_type": "code",
   "execution_count": 42,
   "id": "ba9ffc4f",
   "metadata": {},
   "outputs": [],
   "source": [
    "carb_index = med_order_carb.groupby('PatientID')['date_diff'].idxmin()"
   ]
  },
  {
   "cell_type": "code",
   "execution_count": 43,
   "id": "cb700e13",
   "metadata": {},
   "outputs": [],
   "source": [
    "carb_dose = med_order_carb.loc[carb_index].query('RelativeOrderedUnits == \"AUC\"')[['PatientID', 'RelativeOrderedAmount']]"
   ]
  },
  {
   "cell_type": "code",
   "execution_count": 44,
   "id": "5dfd68c8",
   "metadata": {},
   "outputs": [],
   "source": [
    "carb_dose = carb_dose.rename(columns = {'RelativeOrderedAmount': 'carb_dose_auc'})"
   ]
  },
  {
   "cell_type": "code",
   "execution_count": 45,
   "id": "bb36998d",
   "metadata": {},
   "outputs": [],
   "source": [
    "carb_IDs = carb_dose.query('carb_dose_auc >= 5').PatientID"
   ]
  },
  {
   "cell_type": "markdown",
   "id": "8540c07c",
   "metadata": {},
   "source": [
    "#### Cisplatin"
   ]
  },
  {
   "cell_type": "code",
   "execution_count": 46,
   "id": "477681d6",
   "metadata": {},
   "outputs": [],
   "source": [
    "med_order_cis = (\n",
    "    med_order[med_order['PatientID'].isin(key042_plat.query('carb == 0').PatientID)]\n",
    "    .query('CommonDrugName == \"cisplatin\"')\n",
    ")"
   ]
  },
  {
   "cell_type": "code",
   "execution_count": 47,
   "id": "8d00bdf2",
   "metadata": {},
   "outputs": [
    {
     "data": {
      "text/plain": [
       "(10521, 18)"
      ]
     },
     "execution_count": 47,
     "metadata": {},
     "output_type": "execute_result"
    }
   ],
   "source": [
    "med_order_cis.shape"
   ]
  },
  {
   "cell_type": "code",
   "execution_count": 48,
   "id": "4316f16f",
   "metadata": {},
   "outputs": [],
   "source": [
    "med_order_cis = pd.merge(med_order_cis,\n",
    "                         key042_plat.query('carb == 0')[['PatientID', 'StartDate']], \n",
    "                         on = 'PatientID', \n",
    "                         how = 'left')"
   ]
  },
  {
   "cell_type": "code",
   "execution_count": 49,
   "id": "68e37f84",
   "metadata": {},
   "outputs": [
    {
     "data": {
      "text/plain": [
       "(10521, 19)"
      ]
     },
     "execution_count": 49,
     "metadata": {},
     "output_type": "execute_result"
    }
   ],
   "source": [
    "med_order_cis.shape"
   ]
  },
  {
   "cell_type": "code",
   "execution_count": 50,
   "id": "227a93ad",
   "metadata": {},
   "outputs": [],
   "source": [
    "med_order_cis.loc[:, 'date_diff'] = (med_order_cis['ExpectedStartDate'] - med_order_cis['StartDate']).dt.days.abs()"
   ]
  },
  {
   "cell_type": "code",
   "execution_count": 51,
   "id": "68ab4410",
   "metadata": {},
   "outputs": [],
   "source": [
    "med_order_cis = med_order_cis.query('date_diff <= 14')"
   ]
  },
  {
   "cell_type": "code",
   "execution_count": 52,
   "id": "2b2e6394",
   "metadata": {},
   "outputs": [],
   "source": [
    "cis_index = med_order_cis.groupby('PatientID')['date_diff'].idxmin()"
   ]
  },
  {
   "cell_type": "code",
   "execution_count": 53,
   "id": "bc4e625d",
   "metadata": {},
   "outputs": [],
   "source": [
    "cis_dose = med_order_cis.loc[cis_index].query('RelativeOrderedUnits == \"mg/m2\"')[['PatientID', 'RelativeOrderedAmount']]"
   ]
  },
  {
   "cell_type": "code",
   "execution_count": 54,
   "id": "4986c094",
   "metadata": {},
   "outputs": [],
   "source": [
    "cis_dose = cis_dose.rename(columns = {'RelativeOrderedAmount': 'cis_dose_mgm2'})"
   ]
  },
  {
   "cell_type": "code",
   "execution_count": 55,
   "id": "82495698",
   "metadata": {},
   "outputs": [],
   "source": [
    "cis_IDs = cis_dose.query('cis_dose_mgm2 >= 75').PatientID"
   ]
  },
  {
   "cell_type": "markdown",
   "id": "38d2ae1b",
   "metadata": {},
   "source": [
    "#### Combine chemotherapy and pembrolizumab dataframes "
   ]
  },
  {
   "cell_type": "code",
   "execution_count": 56,
   "id": "7ae9dad8",
   "metadata": {},
   "outputs": [],
   "source": [
    "key042_plat = key042_plat[key042_plat['PatientID'].isin(pd.concat([carb_IDs, cis_IDs]))]"
   ]
  },
  {
   "cell_type": "code",
   "execution_count": 57,
   "id": "847ab197",
   "metadata": {},
   "outputs": [],
   "source": [
    "key042_plat = key042_plat.drop(columns = ['carb'])"
   ]
  },
  {
   "cell_type": "code",
   "execution_count": 58,
   "id": "2e864ba8",
   "metadata": {},
   "outputs": [],
   "source": [
    "key_042 = pd.concat([key042_pembro, key042_plat])"
   ]
  },
  {
   "cell_type": "code",
   "execution_count": 59,
   "id": "01340f50",
   "metadata": {},
   "outputs": [
    {
     "data": {
      "text/plain": [
       "(15321, 15321)"
      ]
     },
     "execution_count": 59,
     "metadata": {},
     "output_type": "execute_result"
    }
   ],
   "source": [
    "row_ID(key_042)"
   ]
  },
  {
   "cell_type": "code",
   "execution_count": 60,
   "id": "82003efd",
   "metadata": {},
   "outputs": [],
   "source": [
    "key_042 = pd.merge(key_042, df_full, on = 'PatientID', how = 'left')"
   ]
  },
  {
   "cell_type": "code",
   "execution_count": 61,
   "id": "83603d80",
   "metadata": {},
   "outputs": [
    {
     "data": {
      "text/plain": [
       "(15321, 15321)"
      ]
     },
     "execution_count": 61,
     "metadata": {},
     "output_type": "execute_result"
    }
   ],
   "source": [
    "row_ID(key_042)"
   ]
  },
  {
   "cell_type": "code",
   "execution_count": 62,
   "id": "c20686e9",
   "metadata": {},
   "outputs": [],
   "source": [
    "key_042['StartDate'] = pd.to_datetime(key_042['StartDate'])"
   ]
  },
  {
   "cell_type": "markdown",
   "id": "5e6c2a8f",
   "metadata": {},
   "source": [
    "#### PDL1 >=1%"
   ]
  },
  {
   "cell_type": "code",
   "execution_count": 63,
   "id": "94ef406b",
   "metadata": {},
   "outputs": [],
   "source": [
    "biomarkers = pd.read_csv('Enhanced_AdvNSCLCBiomarkers.csv')"
   ]
  },
  {
   "cell_type": "code",
   "execution_count": 64,
   "id": "12c5e857",
   "metadata": {},
   "outputs": [],
   "source": [
    "biomarkers = biomarkers[biomarkers['PatientID'].isin(key_042['PatientID'])]"
   ]
  },
  {
   "cell_type": "code",
   "execution_count": 65,
   "id": "8655bacd",
   "metadata": {},
   "outputs": [],
   "source": [
    "biomarkers = pd.merge(biomarkers, key_042[['PatientID', 'StartDate']], on = 'PatientID', how = 'left')"
   ]
  },
  {
   "cell_type": "code",
   "execution_count": 66,
   "id": "79647c2d",
   "metadata": {},
   "outputs": [
    {
     "data": {
      "text/plain": [
       "(58666, 12087)"
      ]
     },
     "execution_count": 66,
     "metadata": {},
     "output_type": "execute_result"
    }
   ],
   "source": [
    "row_ID(biomarkers)"
   ]
  },
  {
   "cell_type": "code",
   "execution_count": 67,
   "id": "826dacbd",
   "metadata": {},
   "outputs": [],
   "source": [
    "biomarkers['ResultDate'] = pd.to_datetime(biomarkers['ResultDate'])"
   ]
  },
  {
   "cell_type": "code",
   "execution_count": 68,
   "id": "d46f6dca",
   "metadata": {},
   "outputs": [],
   "source": [
    "biomarkers['SpecimenReceivedDate'] = pd.to_datetime(biomarkers['SpecimenReceivedDate'])"
   ]
  },
  {
   "cell_type": "code",
   "execution_count": 69,
   "id": "ec2438c7",
   "metadata": {},
   "outputs": [],
   "source": [
    "biomarkers.loc[:, 'result_date'] = (\n",
    "    np.where(biomarkers['ResultDate'].isna(), biomarkers['SpecimenReceivedDate'], biomarkers['ResultDate'])\n",
    ")"
   ]
  },
  {
   "cell_type": "code",
   "execution_count": 70,
   "id": "f560420f",
   "metadata": {},
   "outputs": [],
   "source": [
    "biomarkers.loc[:, 'date_diff'] = (biomarkers['result_date'] - biomarkers['StartDate']).dt.days"
   ]
  },
  {
   "cell_type": "code",
   "execution_count": 71,
   "id": "e3422af3",
   "metadata": {},
   "outputs": [],
   "source": [
    "pdl1_value = (\n",
    "    biomarkers\n",
    "    .query('BiomarkerName == \"PDL1\"')\n",
    "    .query('date_diff <=30')\n",
    "    .query('PercentStaining != \"0%\" and PercentStaining != \"< 1%\" and PercentStaining.notnull()', engine = 'python')\n",
    "    .sort_values(by = ['PatientID', 'PercentStaining'], ascending = [True, False])\n",
    "    .drop_duplicates(subset = ['PatientID'], keep = 'first')\n",
    "    [['PatientID', 'PercentStaining']]\n",
    ")"
   ]
  },
  {
   "cell_type": "code",
   "execution_count": 72,
   "id": "1be363bc",
   "metadata": {},
   "outputs": [],
   "source": [
    "pdl1_ids = (\n",
    "    biomarkers\n",
    "    .query('BiomarkerName == \"PDL1\"')\n",
    "    .query('date_diff <=30')\n",
    "    .query('PercentStaining != \"0%\" and PercentStaining != \"< 1%\" and PercentStaining.notnull()', engine = 'python')\n",
    "    .PatientID\n",
    "    .unique()\n",
    ")"
   ]
  },
  {
   "cell_type": "code",
   "execution_count": 73,
   "id": "62d9ddda",
   "metadata": {},
   "outputs": [],
   "source": [
    "key_042 = key_042[key_042.PatientID.isin(pdl1_ids)]"
   ]
  },
  {
   "cell_type": "code",
   "execution_count": 74,
   "id": "ca6eb330",
   "metadata": {},
   "outputs": [
    {
     "data": {
      "text/plain": [
       "(4086, 4086)"
      ]
     },
     "execution_count": 74,
     "metadata": {},
     "output_type": "execute_result"
    }
   ],
   "source": [
    "row_ID(key_042)"
   ]
  },
  {
   "cell_type": "markdown",
   "id": "7a906510",
   "metadata": {},
   "source": [
    "#### Time from treatment to death or censor"
   ]
  },
  {
   "cell_type": "code",
   "execution_count": 75,
   "id": "a4e453d3",
   "metadata": {},
   "outputs": [],
   "source": [
    "mortality_tr = pd.read_csv('mortality_cleaned_tr.csv')"
   ]
  },
  {
   "cell_type": "code",
   "execution_count": 76,
   "id": "0d6b599d",
   "metadata": {},
   "outputs": [],
   "source": [
    "mortality_te = pd.read_csv('mortality_cleaned_te.csv')"
   ]
  },
  {
   "cell_type": "code",
   "execution_count": 77,
   "id": "92aff3af",
   "metadata": {},
   "outputs": [],
   "source": [
    "mortality_tr = mortality_tr[['PatientID', 'death_date', 'last_activity']]"
   ]
  },
  {
   "cell_type": "code",
   "execution_count": 78,
   "id": "a51214b0",
   "metadata": {},
   "outputs": [],
   "source": [
    "mortality_te = mortality_te[['PatientID', 'death_date', 'last_activity']]"
   ]
  },
  {
   "cell_type": "code",
   "execution_count": 79,
   "id": "3483ff6a",
   "metadata": {},
   "outputs": [
    {
     "name": "stdout",
     "output_type": "stream",
     "text": [
      "68483 True\n"
     ]
    }
   ],
   "source": [
    "mortality = pd.concat([mortality_tr, mortality_te], ignore_index = True)\n",
    "print(len(mortality), mortality.PatientID.is_unique)"
   ]
  },
  {
   "cell_type": "code",
   "execution_count": 80,
   "id": "ba77deaf",
   "metadata": {},
   "outputs": [],
   "source": [
    "mortality.loc[:, 'last_activity'] = pd.to_datetime(mortality['last_activity'])"
   ]
  },
  {
   "cell_type": "code",
   "execution_count": 81,
   "id": "361c4a02",
   "metadata": {},
   "outputs": [],
   "source": [
    "mortality.loc[:, 'death_date'] = pd.to_datetime(mortality['death_date'])"
   ]
  },
  {
   "cell_type": "code",
   "execution_count": 82,
   "id": "3d9e9aca",
   "metadata": {},
   "outputs": [],
   "source": [
    "key_042 = pd.merge(key_042, mortality, on = 'PatientID', how = 'left')"
   ]
  },
  {
   "cell_type": "code",
   "execution_count": 83,
   "id": "d3b1f31d",
   "metadata": {},
   "outputs": [
    {
     "data": {
      "text/plain": [
       "(4086, 4086)"
      ]
     },
     "execution_count": 83,
     "metadata": {},
     "output_type": "execute_result"
    }
   ],
   "source": [
    "row_ID(key_042)"
   ]
  },
  {
   "cell_type": "code",
   "execution_count": 84,
   "id": "d050ff20",
   "metadata": {},
   "outputs": [],
   "source": [
    "conditions = [\n",
    "    (key_042['death_status'] == 1),\n",
    "    (key_042['death_status'] == 0)]\n",
    "\n",
    "choices = [\n",
    "    (key_042['death_date'] - key_042['StartDate']).dt.days,\n",
    "    (key_042['last_activity'] - key_042['StartDate']).dt.days]\n",
    "\n",
    "key_042.loc[:, 'timerisk_treatment'] = np.select(conditions, choices)"
   ]
  },
  {
   "cell_type": "code",
   "execution_count": 85,
   "id": "09f1aa27",
   "metadata": {},
   "outputs": [],
   "source": [
    "key_042 = key_042.query('timerisk_treatment >= 0')"
   ]
  },
  {
   "cell_type": "markdown",
   "id": "37bdb536",
   "metadata": {},
   "source": [
    "#### Patient count"
   ]
  },
  {
   "cell_type": "code",
   "execution_count": 86,
   "id": "ecfcb952",
   "metadata": {},
   "outputs": [],
   "source": [
    "key_042 = (\n",
    "    key_042\n",
    "    .query('EGFR != \"positive\"')\n",
    "    .query('ALK != \"positive\"')\n",
    ")"
   ]
  },
  {
   "cell_type": "code",
   "execution_count": 87,
   "id": "e6950e6d",
   "metadata": {},
   "outputs": [],
   "source": [
    "low_cutoff_042 = cutoff.loc['keynote_042'].low"
   ]
  },
  {
   "cell_type": "code",
   "execution_count": 88,
   "id": "0b8124bd",
   "metadata": {},
   "outputs": [],
   "source": [
    "high_cutoff_042 = cutoff.loc['keynote_042'].high"
   ]
  },
  {
   "cell_type": "code",
   "execution_count": 89,
   "id": "94d872b4",
   "metadata": {},
   "outputs": [
    {
     "name": "stdout",
     "output_type": "stream",
     "text": [
      "Pembro total: 2914\n",
      "High risk: 1035\n",
      "Med risk: 983\n",
      "Low risk: 896\n"
     ]
    }
   ],
   "source": [
    "print('Pembro total:',  key_042.query('pembro == 1').shape[0])\n",
    "print('High risk:', key_042.query('pembro == 1').query('risk_score >= @high_cutoff_042').shape[0])\n",
    "print('Med risk:', key_042.query('pembro == 1').query('risk_score < @high_cutoff_042 and risk_score > @low_cutoff_042').shape[0])\n",
    "print('Low risk:', key_042.query('pembro == 1').query('risk_score <= @low_cutoff_042').shape[0])"
   ]
  },
  {
   "cell_type": "code",
   "execution_count": 90,
   "id": "c6246160",
   "metadata": {},
   "outputs": [
    {
     "name": "stdout",
     "output_type": "stream",
     "text": [
      "Platinum total: 1077\n",
      "High risk: 372\n",
      "Med risk: 370\n",
      "Low risk: 335\n"
     ]
    }
   ],
   "source": [
    "print('Platinum total:',  key_042.query('pembro == 0').shape[0])\n",
    "print('High risk:', key_042.query('pembro == 0').query('risk_score >= @high_cutoff_042').shape[0])\n",
    "print('Med risk:', key_042.query('pembro == 0').query('risk_score < @high_cutoff_042 and risk_score > @low_cutoff_042').shape[0])\n",
    "print('Low risk:', key_042.query('pembro == 0').query('risk_score <= @low_cutoff_042').shape[0])"
   ]
  },
  {
   "cell_type": "markdown",
   "id": "24fd5f9c",
   "metadata": {},
   "source": [
    "#### Survival curves with covariate balancing"
   ]
  },
  {
   "cell_type": "code",
   "execution_count": 91,
   "id": "7deb50a6",
   "metadata": {
    "scrolled": true
   },
   "outputs": [
    {
     "data": {
      "text/plain": [
       "(3991, 3991)"
      ]
     },
     "execution_count": 91,
     "metadata": {},
     "output_type": "execute_result"
    }
   ],
   "source": [
    "row_ID(key_042)"
   ]
  },
  {
   "cell_type": "code",
   "execution_count": 92,
   "id": "19892bfa",
   "metadata": {},
   "outputs": [],
   "source": [
    "key_042 = pd.merge(key_042, pdl1_value, on = 'PatientID', how = 'left')"
   ]
  },
  {
   "cell_type": "code",
   "execution_count": 93,
   "id": "1c3d41c5",
   "metadata": {},
   "outputs": [
    {
     "data": {
      "text/plain": [
       "(3991, 3991)"
      ]
     },
     "execution_count": 93,
     "metadata": {},
     "output_type": "execute_result"
    }
   ],
   "source": [
    "row_ID(key_042)"
   ]
  },
  {
   "cell_type": "code",
   "execution_count": 94,
   "id": "c66051c9",
   "metadata": {},
   "outputs": [],
   "source": [
    "conditions = [\n",
    "    (key_042['PercentStaining'] == \"1%\") | \n",
    "    (key_042['PercentStaining'] == \"2% - 4%\") |\n",
    "    (key_042['PercentStaining'] == \"5% - 9%\") |\n",
    "    (key_042['PercentStaining'] == \"10% - 19%\") |\n",
    "    (key_042['PercentStaining'] == \"20% - 29%\") |\n",
    "    (key_042['PercentStaining'] == \"30% - 39%\") |\n",
    "    (key_042['PercentStaining'] == \"40% - 49%\")\n",
    "]\n",
    "\n",
    "choices = ['lt50']\n",
    "\n",
    "key_042['pdl1_det'] = np.select(conditions, choices, default = 'gte50')"
   ]
  },
  {
   "cell_type": "code",
   "execution_count": 95,
   "id": "809ee92d",
   "metadata": {},
   "outputs": [],
   "source": [
    "key_042 = key_042.set_index('PatientID')"
   ]
  },
  {
   "cell_type": "code",
   "execution_count": 96,
   "id": "c0ed91f9",
   "metadata": {},
   "outputs": [],
   "source": [
    "key_042_iptw = key_042.filter(items = ['death_status',\n",
    "                                       'timerisk_treatment',\n",
    "                                       'pembro',\n",
    "                                       'age',\n",
    "                                       'gender',\n",
    "                                       'race',\n",
    "                                       'PracticeType',\n",
    "                                       'Histology',\n",
    "                                       'adv_year',\n",
    "                                       'delta_adv_diagnosis',\n",
    "                                       'commercial',\n",
    "                                       'medicare',\n",
    "                                       'medicaid',\n",
    "                                       'ecog_diagnosis',\n",
    "                                       'pdl1_det',\n",
    "                                       'albumin_diag',\n",
    "                                       'weight_pct_change',\n",
    "                                       'risk_score'])"
   ]
  },
  {
   "cell_type": "code",
   "execution_count": 97,
   "id": "4fc076be",
   "metadata": {},
   "outputs": [],
   "source": [
    "key_042_iptw['met_cat'] = pd.cut(key_042_iptw['adv_year'],\n",
    "                                 bins = [2010, 2016, float('inf')],\n",
    "                                 labels = ['11-16', '17-21'])"
   ]
  },
  {
   "cell_type": "code",
   "execution_count": 98,
   "id": "e30d4b27",
   "metadata": {},
   "outputs": [],
   "source": [
    "conditions = [\n",
    "    ((key_042_iptw['ecog_diagnosis'] == \"1.0\") | (key_042_iptw['ecog_diagnosis'] == \"0.0\")),  \n",
    "    ((key_042_iptw['ecog_diagnosis'] == \"2.0\") | (key_042_iptw['ecog_diagnosis'] == \"3.0\"))\n",
    "]\n",
    "\n",
    "choices = ['lt_2', 'gte_2']\n",
    "\n",
    "key_042_iptw['ecog_2'] = np.select(conditions, choices, default = 'unknown')"
   ]
  },
  {
   "cell_type": "code",
   "execution_count": 99,
   "id": "b3577c89",
   "metadata": {
    "scrolled": true
   },
   "outputs": [
    {
     "data": {
      "text/plain": [
       "death_status               bool\n",
       "timerisk_treatment      float64\n",
       "pembro                    int64\n",
       "age                       int64\n",
       "gender                   object\n",
       "race                     object\n",
       "PracticeType             object\n",
       "Histology                object\n",
       "adv_year                  int64\n",
       "delta_adv_diagnosis       int64\n",
       "commercial              float64\n",
       "medicare                float64\n",
       "medicaid                float64\n",
       "ecog_diagnosis           object\n",
       "pdl1_det                 object\n",
       "albumin_diag            float64\n",
       "weight_pct_change       float64\n",
       "risk_score              float64\n",
       "met_cat                category\n",
       "ecog_2                   object\n",
       "dtype: object"
      ]
     },
     "execution_count": 99,
     "metadata": {},
     "output_type": "execute_result"
    }
   ],
   "source": [
    "key_042_iptw.dtypes"
   ]
  },
  {
   "cell_type": "code",
   "execution_count": 100,
   "id": "42c9ef7c",
   "metadata": {},
   "outputs": [],
   "source": [
    "to_be_categorical = list(key_042_iptw.select_dtypes(include = ['object']).columns)"
   ]
  },
  {
   "cell_type": "code",
   "execution_count": 101,
   "id": "d70254c6",
   "metadata": {},
   "outputs": [
    {
     "data": {
      "text/plain": [
       "['gender',\n",
       " 'race',\n",
       " 'PracticeType',\n",
       " 'Histology',\n",
       " 'ecog_diagnosis',\n",
       " 'pdl1_det',\n",
       " 'ecog_2']"
      ]
     },
     "execution_count": 101,
     "metadata": {},
     "output_type": "execute_result"
    }
   ],
   "source": [
    "to_be_categorical"
   ]
  },
  {
   "cell_type": "code",
   "execution_count": 102,
   "id": "70a0539b",
   "metadata": {},
   "outputs": [],
   "source": [
    "to_be_categorical.append('met_cat')"
   ]
  },
  {
   "cell_type": "code",
   "execution_count": 103,
   "id": "ef4d2ea8",
   "metadata": {},
   "outputs": [],
   "source": [
    "to_be_categorical.remove('ecog_diagnosis')"
   ]
  },
  {
   "cell_type": "code",
   "execution_count": 104,
   "id": "6107d931",
   "metadata": {},
   "outputs": [],
   "source": [
    "# Convert variables in list to categorical.\n",
    "for x in list(to_be_categorical):\n",
    "    key_042_iptw[x] = key_042_iptw[x].astype('category')"
   ]
  },
  {
   "cell_type": "code",
   "execution_count": 105,
   "id": "609852ad",
   "metadata": {},
   "outputs": [],
   "source": [
    "# List of numeric variables, excluding binary variables. \n",
    "numerical_features = ['age', 'delta_adv_diagnosis', 'albumin_diag', 'weight_pct_change', 'risk_score']\n",
    "\n",
    "# Transformer will first calculate column median and impute, and then apply a standard scaler. \n",
    "numerical_transformer = Pipeline(steps = [\n",
    "    ('imputer', SimpleImputer(strategy = 'median')),\n",
    "    ('std_scaler', StandardScaler())])"
   ]
  },
  {
   "cell_type": "code",
   "execution_count": 106,
   "id": "854cbdab",
   "metadata": {},
   "outputs": [],
   "source": [
    "# List of categorical features.\n",
    "categorical_features = list(key_042_iptw.select_dtypes(include = ['category']).columns)\n",
    "\n",
    "# One-hot-encode categorical features.\n",
    "categorical_transformer = OneHotEncoder(handle_unknown = 'ignore')"
   ]
  },
  {
   "cell_type": "code",
   "execution_count": 107,
   "id": "9808142b",
   "metadata": {},
   "outputs": [],
   "source": [
    "preprocessor = ColumnTransformer(\n",
    "    transformers = [\n",
    "        ('num', numerical_transformer, numerical_features),\n",
    "        ('cat', categorical_transformer, categorical_features)],\n",
    "    remainder = 'passthrough')"
   ]
  },
  {
   "cell_type": "code",
   "execution_count": 108,
   "id": "24719ded",
   "metadata": {},
   "outputs": [],
   "source": [
    "key_042_iptw_low = (\n",
    "    key_042_iptw\n",
    "    .query('risk_score <= @low_cutoff_042'))\n",
    "\n",
    "key_042_iptw_med = (\n",
    "    key_042_iptw\n",
    "    .query('risk_score < @high_cutoff_042 and risk_score > @low_cutoff_042'))\n",
    "\n",
    "key_042_iptw_high = (\n",
    "    key_042_iptw\n",
    "    .query('risk_score >= @high_cutoff_042'))\n",
    "\n",
    "key_042_iptw_all = key_042_iptw"
   ]
  },
  {
   "cell_type": "code",
   "execution_count": 109,
   "id": "93e673e9",
   "metadata": {},
   "outputs": [],
   "source": [
    "key_042_low_x = preprocessor.fit_transform(key_042_iptw_low.filter(items = ['age',\n",
    "                                                                            'gender',\n",
    "                                                                            'race',\n",
    "                                                                            'PracticeType',\n",
    "                                                                            'Histology',\n",
    "                                                                            'met_cat',\n",
    "                                                                            'delta_adv_diagnosis',\n",
    "                                                                            'commercial',\n",
    "                                                                            'medicare',\n",
    "                                                                            'medicaid',\n",
    "                                                                            'ecog_2',\n",
    "                                                                            'pdl1_det',\n",
    "                                                                            'albumin_diag',\n",
    "                                                                            'weight_pct_change',\n",
    "                                                                            'risk_score']))\n",
    "\n",
    "key_042_med_x = preprocessor.fit_transform(key_042_iptw_med.filter(items = ['age',\n",
    "                                                                            'gender',\n",
    "                                                                            'race',\n",
    "                                                                            'PracticeType',\n",
    "                                                                            'Histology',\n",
    "                                                                            'met_cat',\n",
    "                                                                            'delta_adv_diagnosis',\n",
    "                                                                            'commercial',\n",
    "                                                                            'medicare',\n",
    "                                                                            'medicaid',\n",
    "                                                                            'ecog_2',\n",
    "                                                                            'pdl1_det',\n",
    "                                                                            'albumin_diag',\n",
    "                                                                            'weight_pct_change',\n",
    "                                                                            'risk_score']))\n",
    "\n",
    "key_042_high_x = preprocessor.fit_transform(key_042_iptw_high.filter(items = ['age',\n",
    "                                                                              'gender',\n",
    "                                                                              'race',\n",
    "                                                                              'PracticeType',\n",
    "                                                                              'Histology',\n",
    "                                                                              'met_cat',\n",
    "                                                                              'delta_adv_diagnosis',\n",
    "                                                                              'commercial',\n",
    "                                                                              'medicare',\n",
    "                                                                              'medicaid',\n",
    "                                                                              'ecog_2',\n",
    "                                                                              'pdl1_det', \n",
    "                                                                              'albumin_diag',\n",
    "                                                                              'weight_pct_change',\n",
    "                                                                              'risk_score']))\n",
    "\n",
    "key_042_all_x = preprocessor.fit_transform(key_042_iptw_all.filter(items = ['age',\n",
    "                                                                            'gender',\n",
    "                                                                            'race',\n",
    "                                                                            'PracticeType',\n",
    "                                                                            'Histology',\n",
    "                                                                            'met_cat',\n",
    "                                                                            'delta_adv_diagnosis',\n",
    "                                                                            'commercial',\n",
    "                                                                            'medicare',\n",
    "                                                                            'medicaid',\n",
    "                                                                            'ecog_2',\n",
    "                                                                            'pdl1_det', \n",
    "                                                                            'albumin_diag',\n",
    "                                                                            'weight_pct_change',\n",
    "                                                                            'risk_score']))"
   ]
  },
  {
   "cell_type": "code",
   "execution_count": 110,
   "id": "d3b50afe",
   "metadata": {},
   "outputs": [
    {
     "data": {
      "text/plain": [
       "LogisticRegression(max_iter=1000)"
      ]
     },
     "execution_count": 110,
     "metadata": {},
     "output_type": "execute_result"
    }
   ],
   "source": [
    "lr_042_low = LogisticRegression(max_iter = 1000)\n",
    "lr_042_low.fit(key_042_low_x, key_042_iptw_low['pembro'])"
   ]
  },
  {
   "cell_type": "code",
   "execution_count": 111,
   "id": "24e064a4",
   "metadata": {},
   "outputs": [
    {
     "data": {
      "text/plain": [
       "LogisticRegression(max_iter=1000)"
      ]
     },
     "execution_count": 111,
     "metadata": {},
     "output_type": "execute_result"
    }
   ],
   "source": [
    "lr_042_med = LogisticRegression(max_iter = 1000)\n",
    "lr_042_med.fit(key_042_med_x, key_042_iptw_med['pembro'])"
   ]
  },
  {
   "cell_type": "code",
   "execution_count": 112,
   "id": "17293ee1",
   "metadata": {},
   "outputs": [
    {
     "data": {
      "text/plain": [
       "LogisticRegression(max_iter=1000)"
      ]
     },
     "execution_count": 112,
     "metadata": {},
     "output_type": "execute_result"
    }
   ],
   "source": [
    "lr_042_high = LogisticRegression(max_iter = 1000)\n",
    "lr_042_high.fit(key_042_high_x, key_042_iptw_high['pembro'])"
   ]
  },
  {
   "cell_type": "code",
   "execution_count": 113,
   "id": "ab5dfa47",
   "metadata": {},
   "outputs": [
    {
     "data": {
      "text/plain": [
       "LogisticRegression(max_iter=1000)"
      ]
     },
     "execution_count": 113,
     "metadata": {},
     "output_type": "execute_result"
    }
   ],
   "source": [
    "lr_042_all = LogisticRegression(max_iter = 1000)\n",
    "lr_042_all.fit(key_042_all_x, key_042_iptw_all['pembro'])"
   ]
  },
  {
   "cell_type": "code",
   "execution_count": 114,
   "id": "39dd9ad8",
   "metadata": {},
   "outputs": [],
   "source": [
    "pred_low = lr_042_low.predict_proba(key_042_low_x)\n",
    "pred_med = lr_042_med.predict_proba(key_042_med_x)\n",
    "pred_high = lr_042_high.predict_proba(key_042_high_x)\n",
    "pred_all = lr_042_all.predict_proba(key_042_all_x)"
   ]
  },
  {
   "cell_type": "code",
   "execution_count": 115,
   "id": "83590698",
   "metadata": {},
   "outputs": [
    {
     "name": "stderr",
     "output_type": "stream",
     "text": [
      "/Users/xavierorcutt/Dropbox/ist_project/myenv/lib/python3.7/site-packages/ipykernel_launcher.py:1: SettingWithCopyWarning: \n",
      "A value is trying to be set on a copy of a slice from a DataFrame.\n",
      "Try using .loc[row_indexer,col_indexer] = value instead\n",
      "\n",
      "See the caveats in the documentation: https://pandas.pydata.org/pandas-docs/stable/user_guide/indexing.html#returning-a-view-versus-a-copy\n",
      "  \"\"\"Entry point for launching an IPython kernel.\n",
      "/Users/xavierorcutt/Dropbox/ist_project/myenv/lib/python3.7/site-packages/ipykernel_launcher.py:2: SettingWithCopyWarning: \n",
      "A value is trying to be set on a copy of a slice from a DataFrame.\n",
      "Try using .loc[row_indexer,col_indexer] = value instead\n",
      "\n",
      "See the caveats in the documentation: https://pandas.pydata.org/pandas-docs/stable/user_guide/indexing.html#returning-a-view-versus-a-copy\n",
      "  \n",
      "/Users/xavierorcutt/Dropbox/ist_project/myenv/lib/python3.7/site-packages/ipykernel_launcher.py:3: SettingWithCopyWarning: \n",
      "A value is trying to be set on a copy of a slice from a DataFrame.\n",
      "Try using .loc[row_indexer,col_indexer] = value instead\n",
      "\n",
      "See the caveats in the documentation: https://pandas.pydata.org/pandas-docs/stable/user_guide/indexing.html#returning-a-view-versus-a-copy\n",
      "  This is separate from the ipykernel package so we can avoid doing imports until\n"
     ]
    }
   ],
   "source": [
    "key_042_iptw_low['ps'] = pred_low[:, 1]\n",
    "key_042_iptw_med['ps'] = pred_med[:, 1]\n",
    "key_042_iptw_high['ps'] = pred_high[:, 1]\n",
    "key_042_iptw_all['ps'] = pred_all[:, 1]"
   ]
  },
  {
   "cell_type": "code",
   "execution_count": 116,
   "id": "357d301f",
   "metadata": {},
   "outputs": [
    {
     "name": "stderr",
     "output_type": "stream",
     "text": [
      "/Users/xavierorcutt/Dropbox/ist_project/myenv/lib/python3.7/site-packages/ipykernel_launcher.py:2: SettingWithCopyWarning: \n",
      "A value is trying to be set on a copy of a slice from a DataFrame.\n",
      "Try using .loc[row_indexer,col_indexer] = value instead\n",
      "\n",
      "See the caveats in the documentation: https://pandas.pydata.org/pandas-docs/stable/user_guide/indexing.html#returning-a-view-versus-a-copy\n",
      "  \n",
      "/Users/xavierorcutt/Dropbox/ist_project/myenv/lib/python3.7/site-packages/ipykernel_launcher.py:5: SettingWithCopyWarning: \n",
      "A value is trying to be set on a copy of a slice from a DataFrame.\n",
      "Try using .loc[row_indexer,col_indexer] = value instead\n",
      "\n",
      "See the caveats in the documentation: https://pandas.pydata.org/pandas-docs/stable/user_guide/indexing.html#returning-a-view-versus-a-copy\n",
      "  \"\"\"\n",
      "/Users/xavierorcutt/Dropbox/ist_project/myenv/lib/python3.7/site-packages/ipykernel_launcher.py:8: SettingWithCopyWarning: \n",
      "A value is trying to be set on a copy of a slice from a DataFrame.\n",
      "Try using .loc[row_indexer,col_indexer] = value instead\n",
      "\n",
      "See the caveats in the documentation: https://pandas.pydata.org/pandas-docs/stable/user_guide/indexing.html#returning-a-view-versus-a-copy\n",
      "  \n"
     ]
    }
   ],
   "source": [
    "key_042_iptw_low['weight'] = (\n",
    "    np.where(key_042_iptw_low['pembro'] == 1, 1/key_042_iptw_low['ps'], 1/(1 - key_042_iptw_low['ps'])))\n",
    "\n",
    "key_042_iptw_med['weight'] = (\n",
    "    np.where(key_042_iptw_med['pembro'] == 1, 1/key_042_iptw_med['ps'], 1/(1 - key_042_iptw_med['ps'])))\n",
    "\n",
    "key_042_iptw_high['weight'] = (\n",
    "    np.where(key_042_iptw_high['pembro'] == 1, 1/key_042_iptw_high['ps'], 1/(1 - key_042_iptw_high['ps'])))\n",
    "\n",
    "key_042_iptw_all['weight'] = (\n",
    "    np.where(key_042_iptw_all['pembro'] == 1, 1/key_042_iptw_all['ps'], 1/(1 - key_042_iptw_all['ps'])))"
   ]
  },
  {
   "cell_type": "code",
   "execution_count": 117,
   "id": "8b1936ff",
   "metadata": {},
   "outputs": [
    {
     "name": "stderr",
     "output_type": "stream",
     "text": [
      "/Users/xavierorcutt/Dropbox/ist_project/myenv/lib/python3.7/site-packages/lifelines/fitters/kaplan_meier_fitter.py:344: StatisticalWarning: It looks like your weights are not integers, possibly propensity scores then?\n",
      "  It's important to know that the naive variance estimates of the coefficients are biased. Instead use Monte Carlo to\n",
      "  estimate the variances. See paper \"Variance estimation when using inverse probability of treatment weighting (IPTW) with survival analysis\"\n",
      "  or \"Adjusted Kaplan-Meier estimator and log-rank test with inverse probability of treatment weighting for survival data.\"\n",
      "                  \n",
      "  StatisticalWarning,\n"
     ]
    },
    {
     "data": {
      "text/plain": [
       "<lifelines.KaplanMeierFitter:\"KM_estimate\", fitted with 3767.58 total observations, 1446.87 right-censored observations>"
      ]
     },
     "execution_count": 117,
     "metadata": {},
     "output_type": "execute_result"
    }
   ],
   "source": [
    "# Low KM curves\n",
    "kmf_low_pembro_042_iptw = KaplanMeierFitter()\n",
    "kmf_low_plat_042_iptw = KaplanMeierFitter()\n",
    "\n",
    "kmf_low_pembro_042_iptw.fit(\n",
    "    key_042_iptw_low.query('pembro == 1').timerisk_treatment/30,\n",
    "    key_042_iptw_low.query('pembro == 1').death_status,\n",
    "    weights = key_042_iptw_low.query('pembro == 1')['weight'])\n",
    "\n",
    "kmf_low_plat_042_iptw.fit(\n",
    "    key_042_iptw_low.query('pembro == 0').timerisk_treatment/30,\n",
    "    key_042_iptw_low.query('pembro == 0').death_status,\n",
    "    weights = key_042_iptw_low.query('pembro == 0')['weight'])\n",
    "\n",
    "# Med KM curves\n",
    "kmf_med_pembro_042_iptw = KaplanMeierFitter()\n",
    "kmf_med_plat_042_iptw = KaplanMeierFitter()\n",
    "\n",
    "kmf_med_pembro_042_iptw.fit(\n",
    "    key_042_iptw_med.query('pembro == 1').timerisk_treatment/30,\n",
    "    key_042_iptw_med.query('pembro == 1').death_status,\n",
    "    weights = key_042_iptw_med.query('pembro == 1')['weight'])\n",
    "\n",
    "kmf_med_plat_042_iptw.fit(\n",
    "    key_042_iptw_med.query('pembro == 0').timerisk_treatment/30,\n",
    "    key_042_iptw_med.query('pembro == 0').death_status,\n",
    "    weights = key_042_iptw_med.query('pembro == 0')['weight'])\n",
    "\n",
    "# High KM curves \n",
    "kmf_high_pembro_042_iptw = KaplanMeierFitter()\n",
    "kmf_high_plat_042_iptw = KaplanMeierFitter()\n",
    "\n",
    "kmf_high_pembro_042_iptw.fit(\n",
    "    key_042_iptw_high.query('pembro == 1').timerisk_treatment/30,\n",
    "    key_042_iptw_high.query('pembro == 1').death_status,\n",
    "    weights = key_042_iptw_high.query('pembro == 1')['weight'])\n",
    "\n",
    "kmf_high_plat_042_iptw.fit(\n",
    "    key_042_iptw_high.query('pembro == 0').timerisk_treatment/30,\n",
    "    key_042_iptw_high.query('pembro == 0').death_status,\n",
    "    weights = key_042_iptw_high.query('pembro == 0')['weight'])\n",
    "\n",
    "# All KM curves \n",
    "kmf_all_pembro_042_iptw = KaplanMeierFitter()\n",
    "kmf_all_plat_042_iptw = KaplanMeierFitter()\n",
    "\n",
    "kmf_all_pembro_042_iptw.fit(\n",
    "    key_042_iptw_all.query('pembro == 1').timerisk_treatment/30,\n",
    "    key_042_iptw_all.query('pembro == 1').death_status,\n",
    "    weights = key_042_iptw_all.query('pembro == 1')['weight'])\n",
    "\n",
    "kmf_all_plat_042_iptw.fit(\n",
    "    key_042_iptw_all.query('pembro == 0').timerisk_treatment/30,\n",
    "    key_042_iptw_all.query('pembro == 0').death_status,\n",
    "    weights = key_042_iptw_all.query('pembro == 0')['weight'])"
   ]
  },
  {
   "cell_type": "markdown",
   "id": "3620970e",
   "metadata": {},
   "source": [
    "#### Calculating survival metrics "
   ]
  },
  {
   "cell_type": "code",
   "execution_count": 118,
   "id": "ec36d0ac",
   "metadata": {},
   "outputs": [],
   "source": [
    "pembro_042_median_os = mos(kmf_low_pembro_042_iptw,\n",
    "                           kmf_med_pembro_042_iptw,\n",
    "                           kmf_high_pembro_042_iptw,\n",
    "                           kmf_all_pembro_042_iptw)\n",
    "\n",
    "plat_042_median_os = mos(kmf_low_plat_042_iptw,\n",
    "                         kmf_med_plat_042_iptw,\n",
    "                         kmf_high_plat_042_iptw,\n",
    "                         kmf_all_plat_042_iptw)"
   ]
  },
  {
   "cell_type": "code",
   "execution_count": 119,
   "id": "a38b76ea",
   "metadata": {},
   "outputs": [],
   "source": [
    "key_042_iptw_all_imputed = key_042_iptw_all.copy()\n",
    "key_042_iptw_all_imputed['albumin_diag'] = key_042_iptw_all_imputed['albumin_diag'].fillna(key_042_iptw_all_imputed['albumin_diag'].median())\n",
    "key_042_iptw_all_imputed['weight_pct_change'] = key_042_iptw_all_imputed['weight_pct_change'].fillna(key_042_iptw_all_imputed['weight_pct_change'].median())"
   ]
  },
  {
   "cell_type": "code",
   "execution_count": 120,
   "id": "21604a20",
   "metadata": {},
   "outputs": [
    {
     "data": {
      "text/plain": [
       "<lifelines.CoxPHFitter: fitted with 7755.04 total observations, 3137.8 right-censored observations>"
      ]
     },
     "execution_count": 120,
     "metadata": {},
     "output_type": "execute_result"
    }
   ],
   "source": [
    "key042_hr_all = CoxPHFitter()\n",
    "key042_hr_all.fit(key_042_iptw_all_imputed,\n",
    "                  duration_col = 'timerisk_treatment',\n",
    "                  event_col = 'death_status',\n",
    "                  formula = 'pembro + age + gender + race + PracticeType + Histology + met_cat + delta_adv_diagnosis + commercial + medicare + medicaid + ecog_2 + pdl1_det + albumin_diag + weight_pct_change', \n",
    "                  weights_col = 'weight', \n",
    "                  robust = True)"
   ]
  },
  {
   "cell_type": "code",
   "execution_count": 121,
   "id": "b91bc192",
   "metadata": {},
   "outputs": [],
   "source": [
    "key042_all_rmst_mos_95 = rmst_mos_95ci(key_042_iptw_all,\n",
    "                                       1000,\n",
    "                                       'pembro',\n",
    "                                       'death',\n",
    "                                       ['age',\n",
    "                                        'gender',\n",
    "                                        'race',\n",
    "                                        'PracticeType',\n",
    "                                        'Histology',\n",
    "                                        'met_cat',\n",
    "                                        'delta_adv_diagnosis',\n",
    "                                        'commercial',\n",
    "                                        'medicare',\n",
    "                                        'medicaid',\n",
    "                                        'ecog_2',\n",
    "                                        'pdl1_det', \n",
    "                                        'albumin_diag',\n",
    "                                        'weight_pct_change',\n",
    "                                        'risk_score'],\n",
    "                                       ['age', 'delta_adv_diagnosis', 'albumin_diag', 'weight_pct_change', 'risk_score'],\n",
    "                                       36)"
   ]
  },
  {
   "cell_type": "code",
   "execution_count": 122,
   "id": "c5ee2c91",
   "metadata": {},
   "outputs": [],
   "source": [
    "key042_low_rmst_mos_95 = rmst_mos_95ci(key_042_iptw_low,\n",
    "                                       1000,\n",
    "                                       'pembro',\n",
    "                                       'death',\n",
    "                                       ['age',\n",
    "                                        'gender',\n",
    "                                        'race',\n",
    "                                        'PracticeType',\n",
    "                                        'Histology',\n",
    "                                        'met_cat',\n",
    "                                        'delta_adv_diagnosis',\n",
    "                                        'commercial',\n",
    "                                        'medicare',\n",
    "                                        'medicaid',\n",
    "                                        'ecog_2',\n",
    "                                        'pdl1_det', \n",
    "                                        'albumin_diag',\n",
    "                                        'weight_pct_change',\n",
    "                                        'risk_score'],\n",
    "                                       ['age', 'delta_adv_diagnosis', 'albumin_diag', 'weight_pct_change', 'risk_score'],\n",
    "                                       36)"
   ]
  },
  {
   "cell_type": "code",
   "execution_count": 123,
   "id": "97308f2c",
   "metadata": {},
   "outputs": [],
   "source": [
    "key042_med_rmst_mos_95 = rmst_mos_95ci(key_042_iptw_med,\n",
    "                                       1000,\n",
    "                                       'pembro',\n",
    "                                       'death',\n",
    "                                       ['age',\n",
    "                                        'gender',\n",
    "                                        'race',\n",
    "                                        'PracticeType',\n",
    "                                        'Histology',\n",
    "                                        'met_cat',\n",
    "                                        'delta_adv_diagnosis',\n",
    "                                        'commercial',\n",
    "                                        'medicare',\n",
    "                                        'medicaid',\n",
    "                                        'ecog_2',\n",
    "                                        'pdl1_det', \n",
    "                                        'albumin_diag',\n",
    "                                        'weight_pct_change',\n",
    "                                        'risk_score'],\n",
    "                                       ['age', 'delta_adv_diagnosis', 'albumin_diag', 'weight_pct_change', 'risk_score'],\n",
    "                                       36)"
   ]
  },
  {
   "cell_type": "code",
   "execution_count": 124,
   "id": "94f84d1c",
   "metadata": {},
   "outputs": [],
   "source": [
    "key042_high_rmst_mos_95 = rmst_mos_95ci(key_042_iptw_high,\n",
    "                                        1000,\n",
    "                                        'pembro',\n",
    "                                        'death',\n",
    "                                        ['age',\n",
    "                                         'gender',\n",
    "                                         'race',\n",
    "                                         'PracticeType',\n",
    "                                         'Histology',\n",
    "                                         'met_cat',\n",
    "                                         'delta_adv_diagnosis',\n",
    "                                         'commercial',\n",
    "                                         'medicare',\n",
    "                                         'medicaid',\n",
    "                                         'ecog_2',\n",
    "                                         'pdl1_det', \n",
    "                                         'albumin_diag',\n",
    "                                         'weight_pct_change',\n",
    "                                         'risk_score'],\n",
    "                                        ['age', 'delta_adv_diagnosis', 'albumin_diag', 'weight_pct_change', 'risk_score'],\n",
    "                                        36)"
   ]
  },
  {
   "cell_type": "code",
   "execution_count": 125,
   "id": "0d467abd",
   "metadata": {},
   "outputs": [],
   "source": [
    "keynote_042_data = [\n",
    "    {'trial_name': 'KEYNOTE-042', \n",
    "     'risk_group': 'low', \n",
    "     'r_trt_mos': pembro_042_median_os[0],\n",
    "     'r_trt_mos_95': key042_low_rmst_mos_95.mos_A_95,\n",
    "     'r_cont_mos': plat_042_median_os[0],\n",
    "     'r_cont_mos_95': key042_low_rmst_mos_95.mos_B_95,\n",
    "     'r_mos_diff': pembro_042_median_os[0] - plat_042_median_os[0], \n",
    "     'rct_trt_arm': 16.7, \n",
    "     'rct_cont_arm': 12.1, \n",
    "     'rct_mos_diff': 16.7-12.1,\n",
    "     'trt_rmst': restricted_mean_survival_time(kmf_low_pembro_042_iptw, 36),\n",
    "     'trt_rmst_95': key042_low_rmst_mos_95.rmst_A_95,\n",
    "     'cont_rmst': restricted_mean_survival_time(kmf_low_plat_042_iptw, 36),\n",
    "     'cont_rmst_95': key042_low_rmst_mos_95.rmst_B_95,\n",
    "     'diff_rmst': restricted_mean_survival_time(kmf_low_pembro_042_iptw, 36) - restricted_mean_survival_time(kmf_low_plat_042_iptw, 36),\n",
    "     'diff_rmst_95': key042_low_rmst_mos_95.difference_rmst_95,\n",
    "     'rcount': key_042.query('risk_score <= @low_cutoff_042').shape[0],\n",
    "     'rcount_chemo': key_042.query('risk_score <= @low_cutoff_042').query('pembro == 0').shape[0]},\n",
    "    \n",
    "    {'trial_name': 'KEYNOTE-042', \n",
    "     'risk_group': 'medium', \n",
    "     'r_trt_mos': pembro_042_median_os[1],\n",
    "     'r_trt_mos_95': key042_med_rmst_mos_95.mos_A_95,\n",
    "     'r_cont_mos': plat_042_median_os[1],\n",
    "     'r_cont_mos_95': key042_med_rmst_mos_95.mos_B_95,\n",
    "     'r_mos_diff': pembro_042_median_os[1] - plat_042_median_os[1], \n",
    "     'rct_trt_arm': 16.7, \n",
    "     'rct_cont_arm': 12.1, \n",
    "     'rct_mos_diff': 16.7-12.1,\n",
    "     'trt_rmst': restricted_mean_survival_time(kmf_med_pembro_042_iptw, 36),\n",
    "     'trt_rmst_95': key042_med_rmst_mos_95.rmst_A_95,\n",
    "     'cont_rmst': restricted_mean_survival_time(kmf_med_plat_042_iptw, 36),\n",
    "     'cont_rmst_95': key042_med_rmst_mos_95.rmst_B_95,\n",
    "     'diff_rmst': restricted_mean_survival_time(kmf_med_pembro_042_iptw, 36) - restricted_mean_survival_time(kmf_med_plat_042_iptw, 36),\n",
    "     'diff_rmst_95': key042_med_rmst_mos_95.difference_rmst_95,\n",
    "     'rcount': key_042.query('risk_score < @high_cutoff_042 and risk_score > @low_cutoff_042').shape[0],\n",
    "     'rcount_chemo': key_042.query('risk_score < @high_cutoff_042 and risk_score > @low_cutoff_042').query('pembro == 0').shape[0]},\n",
    "    \n",
    "    {'trial_name': 'KEYNOTE-042', \n",
    "     'risk_group': 'high', \n",
    "     'r_trt_mos': pembro_042_median_os[2],\n",
    "     'r_trt_mos_95': key042_high_rmst_mos_95.mos_A_95,\n",
    "     'r_cont_mos': plat_042_median_os[2],\n",
    "     'r_cont_mos_95': key042_high_rmst_mos_95.mos_B_95,\n",
    "     'r_mos_diff': pembro_042_median_os[2] - plat_042_median_os[2], \n",
    "     'rct_trt_arm': 16.7, \n",
    "     'rct_cont_arm': 12.1, \n",
    "     'rct_mos_diff': 16.7-12.1,\n",
    "     'trt_rmst': restricted_mean_survival_time(kmf_high_pembro_042_iptw, 36),\n",
    "     'trt_rmst_95': key042_high_rmst_mos_95.rmst_A_95,\n",
    "     'cont_rmst': restricted_mean_survival_time(kmf_high_plat_042_iptw, 36),\n",
    "     'cont_rmst_95': key042_high_rmst_mos_95.rmst_B_95,\n",
    "     'diff_rmst': restricted_mean_survival_time(kmf_high_pembro_042_iptw, 36) - restricted_mean_survival_time(kmf_high_plat_042_iptw, 36),\n",
    "     'diff_rmst_95': key042_high_rmst_mos_95.difference_rmst_95,\n",
    "     'rcount': key_042.query('risk_score >= @high_cutoff_042').shape[0],\n",
    "     'rcount_chemo': key_042.query('risk_score >= @high_cutoff_042').query('pembro == 0').shape[0]},\n",
    "    \n",
    "    {'trial_name': 'KEYNOTE-042', \n",
    "     'risk_group': 'all', \n",
    "     'r_hr': key042_hr_all.hazard_ratios_['pembro'],\n",
    "     'r_hr_95': [key042_hr_all.summary.loc['pembro']['exp(coef) lower 95%'], key042_hr_all.summary.loc['pembro']['exp(coef) upper 95%']],\n",
    "     'r_trt_mos': pembro_042_median_os[3],\n",
    "     'r_trt_mos_95': key042_all_rmst_mos_95.mos_A_95,\n",
    "     'r_cont_mos': plat_042_median_os[3],\n",
    "     'r_cont_mos_95': key042_all_rmst_mos_95.mos_B_95,\n",
    "     'r_mos_diff': pembro_042_median_os[3] - plat_042_median_os[3], \n",
    "     'rct_trt_arm': 16.7, \n",
    "     'rct_cont_arm': 12.1, \n",
    "     'rct_mos_diff': 16.7-12.1,\n",
    "     'rcount': key_042.shape[0], \n",
    "     'rcount_chemo': key_042.query('pembro == 0').shape[0]}\n",
    "]"
   ]
  },
  {
   "cell_type": "markdown",
   "id": "c0fc9183",
   "metadata": {},
   "source": [
    "### KEYNOTE-024: First-line pembrolizumab vs. platinum-based chemotherapy in those with high PDL1 \n",
    "\n",
    "**INCLUSION CRITERIA**\n",
    "* Untreated aNSCLC\n",
    "* Received first line pemobrolizumab or platinum-based chemotherapy \n",
    "* Received appropriate dose of platinum-based chemotherapy\n",
    "* PDL1 >= 50% and status known within (-inf, +30] days of start of first-line treatment \n",
    "* EGFR and ALK negatve"
   ]
  },
  {
   "cell_type": "markdown",
   "id": "3de950a8",
   "metadata": {},
   "source": [
    "#### Pembrolizumab"
   ]
  },
  {
   "cell_type": "code",
   "execution_count": 126,
   "id": "51f6e587",
   "metadata": {},
   "outputs": [
    {
     "data": {
      "text/plain": [
       "68483"
      ]
     },
     "execution_count": 126,
     "metadata": {},
     "output_type": "execute_result"
    }
   ],
   "source": [
    "df_full = pd.read_csv('df_risk_crude.csv', index_col = 'PatientID', dtype = {'death_status': bool})\n",
    "df_full.index.nunique()"
   ]
  },
  {
   "cell_type": "code",
   "execution_count": 127,
   "id": "c5223be3",
   "metadata": {},
   "outputs": [],
   "source": [
    "line_therapy = pd.read_csv('LineOfTherapy.csv')"
   ]
  },
  {
   "cell_type": "code",
   "execution_count": 128,
   "id": "7e701a55",
   "metadata": {},
   "outputs": [],
   "source": [
    "key024_pembro = (\n",
    "    line_therapy[line_therapy['PatientID'].isin(df_full.index)]\n",
    "    .query('LineNumber == 1')\n",
    "    .query('IsMaintenanceTherapy == False')\n",
    "    .query('LineName == \"Pembrolizumab\"')\n",
    "    [['PatientID', 'StartDate']]\n",
    ")"
   ]
  },
  {
   "cell_type": "code",
   "execution_count": 129,
   "id": "2ac2113c",
   "metadata": {},
   "outputs": [],
   "source": [
    "key024_pembro.loc[:, 'pembro'] = 1"
   ]
  },
  {
   "cell_type": "code",
   "execution_count": 130,
   "id": "312b9d3b",
   "metadata": {},
   "outputs": [
    {
     "data": {
      "text/plain": [
       "(3648, 3648)"
      ]
     },
     "execution_count": 130,
     "metadata": {},
     "output_type": "execute_result"
    }
   ],
   "source": [
    "row_ID(key024_pembro)"
   ]
  },
  {
   "cell_type": "code",
   "execution_count": 131,
   "id": "07741349",
   "metadata": {},
   "outputs": [],
   "source": [
    "# Dataframe of all therapies received for those receiving first line pembrolizumab only. \n",
    "line_therapy_pembro_024 = (\n",
    "    line_therapy[line_therapy['PatientID'].isin(key024_pembro.PatientID)])"
   ]
  },
  {
   "cell_type": "code",
   "execution_count": 132,
   "id": "2ef5464d",
   "metadata": {},
   "outputs": [],
   "source": [
    "targeted = [\n",
    "    'Afatinib',\n",
    "    'Alectinib',\n",
    "    'Brigatinib',\n",
    "    'Cabozantinib',\n",
    "    'Capmatinib',\n",
    "    'Ceritinib',\n",
    "    'Crizotinib',\n",
    "    'Dabrafenib',\n",
    "    'Dacomitinib',\n",
    "    'Entrectinib',\n",
    "    'Erlotinib',\n",
    "    'Gefitinib',\n",
    "    'Lorlatinib',\n",
    "    'Osimertinib',\n",
    "    'Pralsetinib',\n",
    "    'Selpercatinib',\n",
    "    'Sotorasib',\n",
    "    'Tepotinib',\n",
    "    'Trametinib',\n",
    "    'Vandetanib']"
   ]
  },
  {
   "cell_type": "code",
   "execution_count": 133,
   "id": "0dc91629",
   "metadata": {},
   "outputs": [],
   "source": [
    "# Patients receiving pembrolizumab therapy who later recieve targeted therapy. \n",
    "pembro_024_xcross = (\n",
    "    line_therapy_pembro_024[line_therapy_pembro_024['LineName'].str.contains('|'.join(targeted))].PatientID)"
   ]
  },
  {
   "cell_type": "code",
   "execution_count": 134,
   "id": "d6a5e349",
   "metadata": {},
   "outputs": [],
   "source": [
    "# Select patients who don't receive targeted therapy in future lines.\n",
    "key024_pembro = key024_pembro[~key024_pembro['PatientID'].isin(pembro_024_xcross)]"
   ]
  },
  {
   "cell_type": "code",
   "execution_count": 135,
   "id": "110981c4",
   "metadata": {},
   "outputs": [
    {
     "data": {
      "text/plain": [
       "(3582, 3582)"
      ]
     },
     "execution_count": 135,
     "metadata": {},
     "output_type": "execute_result"
    }
   ],
   "source": [
    "row_ID(key024_pembro)"
   ]
  },
  {
   "cell_type": "markdown",
   "id": "fdbb3b63",
   "metadata": {},
   "source": [
    "#### Platinum-based chemotherapy "
   ]
  },
  {
   "cell_type": "code",
   "execution_count": 136,
   "id": "55fb8a1f",
   "metadata": {},
   "outputs": [],
   "source": [
    "line_therapy_fl = (\n",
    "    line_therapy[line_therapy['PatientID'].isin(df_full.index)]\n",
    "    .query('LineNumber == 1')\n",
    "    .query('IsMaintenanceTherapy == False')\n",
    ")"
   ]
  },
  {
   "cell_type": "code",
   "execution_count": 137,
   "id": "19a6ff92",
   "metadata": {},
   "outputs": [],
   "source": [
    "plat_chemo = [\n",
    "    'Carboplatin',\n",
    "    'Cisplatin']\n",
    "\n",
    "immuno = [\n",
    "    'Atezolizumab',\n",
    "    'Cemiplimab',\n",
    "    'Durvalumab',\n",
    "    'Ipilimumab',\n",
    "    'Nivolumab',\n",
    "    'Pembrolizumab'\n",
    "]"
   ]
  },
  {
   "cell_type": "code",
   "execution_count": 138,
   "id": "6c40f910",
   "metadata": {},
   "outputs": [
    {
     "data": {
      "text/plain": [
       "Carboplatin,Paclitaxel                  8524\n",
       "Carboplatin,Pemetrexed                  5417\n",
       "Bevacizumab,Carboplatin,Pemetrexed      2825\n",
       "Carboplatin,Paclitaxel Protein-Bound    1826\n",
       "Bevacizumab,Carboplatin,Paclitaxel      1591\n",
       "Carboplatin,Gemcitabine                 1224\n",
       "Cisplatin,Etoposide                      793\n",
       "Carboplatin,Docetaxel                    780\n",
       "Cisplatin,Pemetrexed                     684\n",
       "Carboplatin,Etoposide                    363\n",
       "Name: LineName, dtype: int64"
      ]
     },
     "execution_count": 138,
     "metadata": {},
     "output_type": "execute_result"
    }
   ],
   "source": [
    "line_therapy_fl[line_therapy_fl['LineName'].str.contains('|'.join(plat_chemo)) & \n",
    "                ~line_therapy_fl['LineName'].str.contains('|'.join(immuno)) &\n",
    "                ~line_therapy_fl['LineName'].str.contains('|'.join(targeted)) &\n",
    "                ~line_therapy_fl['LineName'].str.contains('Clinical Study Drug')].LineName.value_counts().head(10)"
   ]
  },
  {
   "cell_type": "code",
   "execution_count": 139,
   "id": "ec44e7ae",
   "metadata": {},
   "outputs": [],
   "source": [
    "key024_carb = (\n",
    "    line_therapy_fl[line_therapy_fl['LineName'].str.contains('Carboplatin') & \n",
    "                    ~line_therapy_fl['LineName'].str.contains('|'.join(immuno)) &\n",
    "                    ~line_therapy_fl['LineName'].str.contains('|'.join(targeted)) &\n",
    "                    ~line_therapy_fl['LineName'].str.contains('Clinical Study Drug')]\n",
    "    [['PatientID', 'StartDate']]\n",
    ")"
   ]
  },
  {
   "cell_type": "code",
   "execution_count": 140,
   "id": "91af396c",
   "metadata": {},
   "outputs": [],
   "source": [
    "key024_carb.loc[:, 'carb'] = 1"
   ]
  },
  {
   "cell_type": "code",
   "execution_count": 141,
   "id": "7cb9f46e",
   "metadata": {},
   "outputs": [],
   "source": [
    "key024_cis = (\n",
    "    line_therapy_fl[line_therapy_fl['LineName'].str.contains('Cisplatin') & \n",
    "                    ~line_therapy_fl['LineName'].str.contains('|'.join(immuno)) &\n",
    "                    ~line_therapy_fl['LineName'].str.contains('|'.join(targeted)) &\n",
    "                    ~line_therapy_fl['LineName'].str.contains('Clinical Study Drug')]\n",
    "    [['PatientID', 'StartDate']]\n",
    ")"
   ]
  },
  {
   "cell_type": "code",
   "execution_count": 142,
   "id": "c0456f9b",
   "metadata": {},
   "outputs": [],
   "source": [
    "key024_cis.loc[:, 'carb'] = 0"
   ]
  },
  {
   "cell_type": "code",
   "execution_count": 143,
   "id": "ae7f1963",
   "metadata": {},
   "outputs": [],
   "source": [
    "key024_plat = pd.concat([key024_carb, key024_cis])"
   ]
  },
  {
   "cell_type": "code",
   "execution_count": 144,
   "id": "5e799734",
   "metadata": {},
   "outputs": [],
   "source": [
    "key024_plat.loc[:, 'pembro'] = 0"
   ]
  },
  {
   "cell_type": "code",
   "execution_count": 145,
   "id": "dda6cc6f",
   "metadata": {},
   "outputs": [
    {
     "data": {
      "text/plain": [
       "(25861, 25861)"
      ]
     },
     "execution_count": 145,
     "metadata": {},
     "output_type": "execute_result"
    }
   ],
   "source": [
    "row_ID(key024_plat)"
   ]
  },
  {
   "cell_type": "code",
   "execution_count": 146,
   "id": "1d46afcc",
   "metadata": {},
   "outputs": [],
   "source": [
    "# Dataframe of all therapies received for those receiving first line platinum regimen   \n",
    "line_therapy_plat_024 = (\n",
    "    line_therapy[line_therapy['PatientID'].isin(key024_plat.PatientID)])"
   ]
  },
  {
   "cell_type": "code",
   "execution_count": 147,
   "id": "e9296144",
   "metadata": {},
   "outputs": [],
   "source": [
    "# Patients receiving platinum therapy who later recieve targeted therapy. \n",
    "plat_024_xcross = (\n",
    "    line_therapy_plat_024[line_therapy_plat_024['LineName'].str.contains('|'.join(targeted))].PatientID)"
   ]
  },
  {
   "cell_type": "code",
   "execution_count": 148,
   "id": "8a9e2360",
   "metadata": {},
   "outputs": [],
   "source": [
    "# Select patients who don't receive targeted therapy in future lines \n",
    "key024_plat = key024_plat[~key024_plat['PatientID'].isin(plat_024_xcross)]"
   ]
  },
  {
   "cell_type": "code",
   "execution_count": 149,
   "id": "12815b8d",
   "metadata": {},
   "outputs": [
    {
     "data": {
      "text/plain": [
       "(23800, 23800)"
      ]
     },
     "execution_count": 149,
     "metadata": {},
     "output_type": "execute_result"
    }
   ],
   "source": [
    "row_ID(key024_plat)"
   ]
  },
  {
   "cell_type": "markdown",
   "id": "fd7c583b",
   "metadata": {},
   "source": [
    "#### Platinum-based chemotherapy dosing"
   ]
  },
  {
   "cell_type": "markdown",
   "id": "357fb238",
   "metadata": {},
   "source": [
    "#### Carboplatin"
   ]
  },
  {
   "cell_type": "code",
   "execution_count": 150,
   "id": "6af3738b",
   "metadata": {},
   "outputs": [],
   "source": [
    "med_order = pd.read_csv('MedicationOrder.csv', low_memory = False)"
   ]
  },
  {
   "cell_type": "code",
   "execution_count": 151,
   "id": "ba51fc03",
   "metadata": {},
   "outputs": [],
   "source": [
    "med_order['ExpectedStartDate'] = np.where(med_order['ExpectedStartDate'].isna(), \n",
    "                                          med_order['OrderedDate'], \n",
    "                                          med_order['ExpectedStartDate'])"
   ]
  },
  {
   "cell_type": "code",
   "execution_count": 152,
   "id": "0eead873",
   "metadata": {},
   "outputs": [],
   "source": [
    "med_order.loc[:, 'ExpectedStartDate'] = pd.to_datetime(med_order['ExpectedStartDate'])"
   ]
  },
  {
   "cell_type": "code",
   "execution_count": 153,
   "id": "d93f3e07",
   "metadata": {},
   "outputs": [],
   "source": [
    "key024_plat.loc[:, 'StartDate'] = pd.to_datetime(key024_plat['StartDate'])"
   ]
  },
  {
   "cell_type": "code",
   "execution_count": 154,
   "id": "0c5d69b4",
   "metadata": {},
   "outputs": [],
   "source": [
    "med_order_carb = (\n",
    "    med_order[med_order['PatientID'].isin(key024_plat.query('carb == 1').PatientID)]\n",
    "    .query('CommonDrugName == \"carboplatin\"')\n",
    ")"
   ]
  },
  {
   "cell_type": "code",
   "execution_count": 155,
   "id": "c48d59c9",
   "metadata": {},
   "outputs": [
    {
     "data": {
      "text/plain": [
       "(147262, 18)"
      ]
     },
     "execution_count": 155,
     "metadata": {},
     "output_type": "execute_result"
    }
   ],
   "source": [
    "med_order_carb.shape"
   ]
  },
  {
   "cell_type": "code",
   "execution_count": 156,
   "id": "61990547",
   "metadata": {},
   "outputs": [],
   "source": [
    "med_order_carb = pd.merge(med_order_carb, \n",
    "                          key024_plat.query('carb == 1')[['PatientID', 'StartDate']], \n",
    "                          on = 'PatientID', \n",
    "                          how = 'left')"
   ]
  },
  {
   "cell_type": "code",
   "execution_count": 157,
   "id": "1717c661",
   "metadata": {},
   "outputs": [
    {
     "data": {
      "text/plain": [
       "(147262, 19)"
      ]
     },
     "execution_count": 157,
     "metadata": {},
     "output_type": "execute_result"
    }
   ],
   "source": [
    "med_order_carb.shape"
   ]
  },
  {
   "cell_type": "code",
   "execution_count": 158,
   "id": "b078522d",
   "metadata": {},
   "outputs": [],
   "source": [
    "med_order_carb.loc[:, 'date_diff'] = (med_order_carb['ExpectedStartDate'] - med_order_carb['StartDate']).dt.days.abs()"
   ]
  },
  {
   "cell_type": "code",
   "execution_count": 159,
   "id": "e47dfe75",
   "metadata": {},
   "outputs": [],
   "source": [
    "med_order_carb = med_order_carb.query('date_diff <= 14')"
   ]
  },
  {
   "cell_type": "code",
   "execution_count": 160,
   "id": "15c07b8d",
   "metadata": {},
   "outputs": [],
   "source": [
    "carb_index = med_order_carb.groupby('PatientID')['date_diff'].idxmin()"
   ]
  },
  {
   "cell_type": "code",
   "execution_count": 161,
   "id": "61b23cbf",
   "metadata": {},
   "outputs": [],
   "source": [
    "carb_dose = med_order_carb.loc[carb_index].query('RelativeOrderedUnits == \"AUC\"')[['PatientID', 'RelativeOrderedAmount']]"
   ]
  },
  {
   "cell_type": "code",
   "execution_count": 162,
   "id": "6bb1eaea",
   "metadata": {},
   "outputs": [],
   "source": [
    "carb_dose = carb_dose.rename(columns = {'RelativeOrderedAmount': 'carb_dose_auc'})"
   ]
  },
  {
   "cell_type": "code",
   "execution_count": 163,
   "id": "2efa2f2c",
   "metadata": {},
   "outputs": [],
   "source": [
    "carb_IDs = carb_dose.query('carb_dose_auc >= 5').PatientID"
   ]
  },
  {
   "cell_type": "markdown",
   "id": "f596a037",
   "metadata": {},
   "source": [
    "#### Cisplatin"
   ]
  },
  {
   "cell_type": "code",
   "execution_count": 164,
   "id": "9904082f",
   "metadata": {},
   "outputs": [],
   "source": [
    "med_order_cis = (\n",
    "    med_order[med_order['PatientID'].isin(key024_plat.query('carb == 0').PatientID)]\n",
    "    .query('CommonDrugName == \"cisplatin\"')\n",
    ")"
   ]
  },
  {
   "cell_type": "code",
   "execution_count": 165,
   "id": "9f72da0c",
   "metadata": {},
   "outputs": [
    {
     "data": {
      "text/plain": [
       "(10521, 18)"
      ]
     },
     "execution_count": 165,
     "metadata": {},
     "output_type": "execute_result"
    }
   ],
   "source": [
    "med_order_cis.shape"
   ]
  },
  {
   "cell_type": "code",
   "execution_count": 166,
   "id": "215902e8",
   "metadata": {},
   "outputs": [],
   "source": [
    "med_order_cis = pd.merge(med_order_cis,\n",
    "                         key024_plat.query('carb == 0')[['PatientID', 'StartDate']], \n",
    "                         on = 'PatientID', \n",
    "                         how = 'left')"
   ]
  },
  {
   "cell_type": "code",
   "execution_count": 167,
   "id": "848bc8b9",
   "metadata": {},
   "outputs": [
    {
     "data": {
      "text/plain": [
       "(10521, 19)"
      ]
     },
     "execution_count": 167,
     "metadata": {},
     "output_type": "execute_result"
    }
   ],
   "source": [
    "med_order_cis.shape"
   ]
  },
  {
   "cell_type": "code",
   "execution_count": 168,
   "id": "6032a1fd",
   "metadata": {},
   "outputs": [],
   "source": [
    "med_order_cis.loc[:, 'date_diff'] = (med_order_cis['ExpectedStartDate'] - med_order_cis['StartDate']).dt.days.abs()"
   ]
  },
  {
   "cell_type": "code",
   "execution_count": 169,
   "id": "08a51da6",
   "metadata": {},
   "outputs": [],
   "source": [
    "med_order_cis = med_order_cis.query('date_diff <= 14')"
   ]
  },
  {
   "cell_type": "code",
   "execution_count": 170,
   "id": "e669a4c4",
   "metadata": {},
   "outputs": [],
   "source": [
    "cis_index = med_order_cis.groupby('PatientID')['date_diff'].idxmin()"
   ]
  },
  {
   "cell_type": "code",
   "execution_count": 171,
   "id": "0e958320",
   "metadata": {},
   "outputs": [],
   "source": [
    "cis_dose = med_order_cis.loc[cis_index].query('RelativeOrderedUnits == \"mg/m2\"')[['PatientID', 'RelativeOrderedAmount']]"
   ]
  },
  {
   "cell_type": "code",
   "execution_count": 172,
   "id": "ddadfc8a",
   "metadata": {},
   "outputs": [],
   "source": [
    "cis_dose = cis_dose.rename(columns = {'RelativeOrderedAmount': 'cis_dose_mgm2'})"
   ]
  },
  {
   "cell_type": "code",
   "execution_count": 173,
   "id": "d6bc8299",
   "metadata": {},
   "outputs": [],
   "source": [
    "cis_IDs = cis_dose.query('cis_dose_mgm2 >= 75').PatientID"
   ]
  },
  {
   "cell_type": "markdown",
   "id": "197f0326",
   "metadata": {},
   "source": [
    "#### Combine chemotherapy and pembrolizumab dataframes "
   ]
  },
  {
   "cell_type": "code",
   "execution_count": 174,
   "id": "fa0108d2",
   "metadata": {},
   "outputs": [],
   "source": [
    "key024_plat = key024_plat[key024_plat['PatientID'].isin(pd.concat([carb_IDs, cis_IDs]))]"
   ]
  },
  {
   "cell_type": "code",
   "execution_count": 175,
   "id": "dedf0286",
   "metadata": {},
   "outputs": [],
   "source": [
    "key024_plat = key024_plat.drop(columns = ['carb'])"
   ]
  },
  {
   "cell_type": "code",
   "execution_count": 176,
   "id": "35a07837",
   "metadata": {},
   "outputs": [],
   "source": [
    "key_024 = pd.concat([key024_pembro, key024_plat])"
   ]
  },
  {
   "cell_type": "code",
   "execution_count": 177,
   "id": "b60c5d62",
   "metadata": {},
   "outputs": [
    {
     "data": {
      "text/plain": [
       "(15321, 15321)"
      ]
     },
     "execution_count": 177,
     "metadata": {},
     "output_type": "execute_result"
    }
   ],
   "source": [
    "row_ID(key_024)"
   ]
  },
  {
   "cell_type": "code",
   "execution_count": 178,
   "id": "62285e02",
   "metadata": {},
   "outputs": [],
   "source": [
    "key_024 = pd.merge(key_024, df_full, on = 'PatientID', how = 'left')"
   ]
  },
  {
   "cell_type": "code",
   "execution_count": 179,
   "id": "d242bbf8",
   "metadata": {},
   "outputs": [
    {
     "data": {
      "text/plain": [
       "(15321, 15321)"
      ]
     },
     "execution_count": 179,
     "metadata": {},
     "output_type": "execute_result"
    }
   ],
   "source": [
    "row_ID(key_024)"
   ]
  },
  {
   "cell_type": "code",
   "execution_count": 180,
   "id": "e165f718",
   "metadata": {},
   "outputs": [],
   "source": [
    "key_024['StartDate'] = pd.to_datetime(key_024['StartDate'])"
   ]
  },
  {
   "cell_type": "markdown",
   "id": "7d7e72fd",
   "metadata": {},
   "source": [
    "#### High PDL1"
   ]
  },
  {
   "cell_type": "code",
   "execution_count": 181,
   "id": "a4de3c82",
   "metadata": {},
   "outputs": [],
   "source": [
    "biomarkers = pd.read_csv('Enhanced_AdvNSCLCBiomarkers.csv')"
   ]
  },
  {
   "cell_type": "code",
   "execution_count": 182,
   "id": "66506205",
   "metadata": {},
   "outputs": [],
   "source": [
    "biomarkers = biomarkers[biomarkers['PatientID'].isin(key_024['PatientID'])]"
   ]
  },
  {
   "cell_type": "code",
   "execution_count": 183,
   "id": "163a80b0",
   "metadata": {},
   "outputs": [],
   "source": [
    "biomarkers = pd.merge(biomarkers, key_024[['PatientID', 'StartDate']], on = 'PatientID', how = 'left')"
   ]
  },
  {
   "cell_type": "code",
   "execution_count": 184,
   "id": "9785e8fc",
   "metadata": {},
   "outputs": [
    {
     "data": {
      "text/plain": [
       "(58666, 12087)"
      ]
     },
     "execution_count": 184,
     "metadata": {},
     "output_type": "execute_result"
    }
   ],
   "source": [
    "row_ID(biomarkers)"
   ]
  },
  {
   "cell_type": "code",
   "execution_count": 185,
   "id": "95416bc9",
   "metadata": {},
   "outputs": [],
   "source": [
    "biomarkers['StartDate'] = pd.to_datetime(biomarkers['StartDate'])"
   ]
  },
  {
   "cell_type": "code",
   "execution_count": 186,
   "id": "cf6d61cd",
   "metadata": {},
   "outputs": [],
   "source": [
    "biomarkers['ResultDate'] = pd.to_datetime(biomarkers['ResultDate'])"
   ]
  },
  {
   "cell_type": "code",
   "execution_count": 187,
   "id": "60fd4a56",
   "metadata": {},
   "outputs": [],
   "source": [
    "biomarkers['SpecimenReceivedDate'] = pd.to_datetime(biomarkers['SpecimenReceivedDate'])"
   ]
  },
  {
   "cell_type": "code",
   "execution_count": 188,
   "id": "9c316f07",
   "metadata": {},
   "outputs": [],
   "source": [
    "biomarkers.loc[:, 'result_date'] = (\n",
    "    np.where(biomarkers['ResultDate'].isna(), biomarkers['SpecimenReceivedDate'], biomarkers['ResultDate'])\n",
    ")"
   ]
  },
  {
   "cell_type": "code",
   "execution_count": 189,
   "id": "e42cfd3d",
   "metadata": {},
   "outputs": [],
   "source": [
    "biomarkers.loc[:, 'date_diff'] = (biomarkers['result_date'] - biomarkers['StartDate']).dt.days"
   ]
  },
  {
   "cell_type": "code",
   "execution_count": 190,
   "id": "d6b9e692",
   "metadata": {},
   "outputs": [],
   "source": [
    "lst = [\"50% - 59%\", \"60% - 69%\", \"70% - 79%\", \"80% - 89%\", \"90% - 99%\", \"100%\"]\n",
    "\n",
    "pdl1_ids = (\n",
    "    biomarkers\n",
    "    .query('BiomarkerName == \"PDL1\"')\n",
    "    .query('date_diff <=30')\n",
    "    .query('PercentStaining == @lst')\n",
    "    .PatientID\n",
    "    .unique()\n",
    ")"
   ]
  },
  {
   "cell_type": "code",
   "execution_count": 191,
   "id": "463f399e",
   "metadata": {},
   "outputs": [],
   "source": [
    "key_024 = key_024[key_024.PatientID.isin(pdl1_ids)]"
   ]
  },
  {
   "cell_type": "code",
   "execution_count": 192,
   "id": "7ef9db6b",
   "metadata": {},
   "outputs": [
    {
     "data": {
      "text/plain": [
       "(2868, 2868)"
      ]
     },
     "execution_count": 192,
     "metadata": {},
     "output_type": "execute_result"
    }
   ],
   "source": [
    "row_ID(key_024)"
   ]
  },
  {
   "cell_type": "markdown",
   "id": "d14e0564",
   "metadata": {},
   "source": [
    "#### Time from treatment to death/progression or censor "
   ]
  },
  {
   "cell_type": "code",
   "execution_count": 193,
   "id": "8d424e6a",
   "metadata": {},
   "outputs": [],
   "source": [
    "mortality_tr = pd.read_csv('mortality_cleaned_tr.csv')"
   ]
  },
  {
   "cell_type": "code",
   "execution_count": 194,
   "id": "fec96b1f",
   "metadata": {},
   "outputs": [],
   "source": [
    "mortality_te = pd.read_csv('mortality_cleaned_te.csv')"
   ]
  },
  {
   "cell_type": "code",
   "execution_count": 195,
   "id": "a127c29a",
   "metadata": {},
   "outputs": [],
   "source": [
    "mortality_tr = mortality_tr[['PatientID', 'death_date', 'last_activity']]"
   ]
  },
  {
   "cell_type": "code",
   "execution_count": 196,
   "id": "66634e35",
   "metadata": {},
   "outputs": [],
   "source": [
    "mortality_te = mortality_te[['PatientID', 'death_date', 'last_activity']]"
   ]
  },
  {
   "cell_type": "code",
   "execution_count": 197,
   "id": "526d5ab7",
   "metadata": {},
   "outputs": [
    {
     "data": {
      "text/plain": [
       "(68483, 68483)"
      ]
     },
     "execution_count": 197,
     "metadata": {},
     "output_type": "execute_result"
    }
   ],
   "source": [
    "mortality = pd.concat([mortality_tr, mortality_te], ignore_index = True)\n",
    "row_ID(mortality)"
   ]
  },
  {
   "cell_type": "code",
   "execution_count": 198,
   "id": "34bdd628",
   "metadata": {},
   "outputs": [],
   "source": [
    "mortality.loc[:, 'last_activity'] = pd.to_datetime(mortality['last_activity'])"
   ]
  },
  {
   "cell_type": "code",
   "execution_count": 199,
   "id": "5c8421e3",
   "metadata": {},
   "outputs": [],
   "source": [
    "mortality.loc[:, 'death_date'] = pd.to_datetime(mortality['death_date'])"
   ]
  },
  {
   "cell_type": "code",
   "execution_count": 200,
   "id": "e3e4db95",
   "metadata": {},
   "outputs": [
    {
     "data": {
      "text/plain": [
       "(68483, 68483)"
      ]
     },
     "execution_count": 200,
     "metadata": {},
     "output_type": "execute_result"
    }
   ],
   "source": [
    "row_ID(mortality)"
   ]
  },
  {
   "cell_type": "code",
   "execution_count": 201,
   "id": "48c41be5",
   "metadata": {},
   "outputs": [],
   "source": [
    "key_024 = pd.merge(key_024, mortality, on = 'PatientID', how = 'left')"
   ]
  },
  {
   "cell_type": "code",
   "execution_count": 202,
   "id": "cb83b5b4",
   "metadata": {},
   "outputs": [
    {
     "data": {
      "text/plain": [
       "(2868, 2868)"
      ]
     },
     "execution_count": 202,
     "metadata": {},
     "output_type": "execute_result"
    }
   ],
   "source": [
    "row_ID(key_024)"
   ]
  },
  {
   "cell_type": "code",
   "execution_count": 203,
   "id": "68fa47fc",
   "metadata": {},
   "outputs": [],
   "source": [
    "progression = pd.read_csv('Enhanced_AdvNSCLCProgression.csv')"
   ]
  },
  {
   "cell_type": "code",
   "execution_count": 204,
   "id": "8497e464",
   "metadata": {},
   "outputs": [],
   "source": [
    "progression = progression[progression.PatientID.isin(key_024.PatientID)][['PatientID', 'ProgressionDate']]"
   ]
  },
  {
   "cell_type": "code",
   "execution_count": 205,
   "id": "11ec7017",
   "metadata": {},
   "outputs": [],
   "source": [
    "progression['ProgressionDate'] = pd.to_datetime(progression['ProgressionDate'])"
   ]
  },
  {
   "cell_type": "code",
   "execution_count": 206,
   "id": "3b443f93",
   "metadata": {},
   "outputs": [],
   "source": [
    "progression = (\n",
    "    progression\n",
    "    .sort_values(['PatientID', 'ProgressionDate'], ascending = [True, True])\n",
    "    .drop_duplicates(subset = 'PatientID', keep = 'first')\n",
    ")"
   ]
  },
  {
   "cell_type": "code",
   "execution_count": 207,
   "id": "bbda6905",
   "metadata": {},
   "outputs": [
    {
     "data": {
      "text/plain": [
       "(2866, 2866)"
      ]
     },
     "execution_count": 207,
     "metadata": {},
     "output_type": "execute_result"
    }
   ],
   "source": [
    "row_ID(progression)"
   ]
  },
  {
   "cell_type": "code",
   "execution_count": 208,
   "id": "15da76ef",
   "metadata": {},
   "outputs": [],
   "source": [
    "key_024 = pd.merge(key_024, progression, on = 'PatientID', how = 'left')"
   ]
  },
  {
   "cell_type": "code",
   "execution_count": 209,
   "id": "d0140ba3",
   "metadata": {},
   "outputs": [
    {
     "data": {
      "text/plain": [
       "(2868, 2868)"
      ]
     },
     "execution_count": 209,
     "metadata": {},
     "output_type": "execute_result"
    }
   ],
   "source": [
    "row_ID(key_024)"
   ]
  },
  {
   "cell_type": "code",
   "execution_count": 210,
   "id": "a8337d36",
   "metadata": {},
   "outputs": [
    {
     "data": {
      "text/plain": [
       "0.5188284518828452"
      ]
     },
     "execution_count": 210,
     "metadata": {},
     "output_type": "execute_result"
    }
   ],
   "source": [
    "# Percent without progression date in Flaura trial\n",
    "len(key_024.query('ProgressionDate.isna()', engine = 'python'))/len(key_024)"
   ]
  },
  {
   "cell_type": "code",
   "execution_count": 211,
   "id": "4f96ee7c",
   "metadata": {},
   "outputs": [],
   "source": [
    "conditions = [\n",
    "    (key_024.ProgressionDate.notna()),\n",
    "    ((key_024.ProgressionDate.isna()) & (key_024['death_status'] == 1)),\n",
    "    ((key_024.ProgressionDate.isna()) & (key_024['death_status'] == 0))]\n",
    "\n",
    "choices = [\n",
    "    (key_024['ProgressionDate'] - key_024['StartDate']).dt.days,\n",
    "    (key_024['death_date'] - key_024['StartDate']).dt.days,\n",
    "    (key_024['last_activity'] - key_024['StartDate']).dt.days]\n",
    "\n",
    "key_024.loc[:, 'time_prog_treatment'] = np.select(conditions, choices)"
   ]
  },
  {
   "cell_type": "code",
   "execution_count": 212,
   "id": "364880b8",
   "metadata": {},
   "outputs": [],
   "source": [
    "key_024 = key_024.query('time_prog_treatment >= 0')"
   ]
  },
  {
   "cell_type": "code",
   "execution_count": 213,
   "id": "dee7c7fa",
   "metadata": {},
   "outputs": [
    {
     "data": {
      "text/plain": [
       "(2584, 2584)"
      ]
     },
     "execution_count": 213,
     "metadata": {},
     "output_type": "execute_result"
    }
   ],
   "source": [
    "row_ID(key_024)"
   ]
  },
  {
   "cell_type": "code",
   "execution_count": 214,
   "id": "145241d0",
   "metadata": {},
   "outputs": [],
   "source": [
    "conditions = [\n",
    "    (key_024.ProgressionDate.notna()),\n",
    "    ((key_024.ProgressionDate.isna()) & (key_024['death_status'] == 1)),\n",
    "    ((key_024.ProgressionDate.isna()) & (key_024['death_status'] == 0))]\n",
    "\n",
    "choices = [1, 1, 0]\n",
    "\n",
    "key_024.loc[:, 'pfs_status'] = np.select(conditions, choices)"
   ]
  },
  {
   "cell_type": "markdown",
   "id": "9f652f6e",
   "metadata": {},
   "source": [
    "#### Patient counts"
   ]
  },
  {
   "cell_type": "code",
   "execution_count": 215,
   "id": "60b72e5c",
   "metadata": {},
   "outputs": [],
   "source": [
    "key_024 = (\n",
    "    key_024\n",
    "    .query('stage == \"IV\"')\n",
    "    .query('EGFR != \"positive\"')\n",
    "    .query('ALK != \"positive\"')\n",
    ")"
   ]
  },
  {
   "cell_type": "code",
   "execution_count": 216,
   "id": "139544d0",
   "metadata": {},
   "outputs": [],
   "source": [
    "low_cutoff_024 = cutoff.loc['keynote_024'].low"
   ]
  },
  {
   "cell_type": "code",
   "execution_count": 217,
   "id": "c66b7888",
   "metadata": {},
   "outputs": [],
   "source": [
    "high_cutoff_024 = cutoff.loc['keynote_024'].high"
   ]
  },
  {
   "cell_type": "code",
   "execution_count": 218,
   "id": "ac7db448",
   "metadata": {},
   "outputs": [
    {
     "name": "stdout",
     "output_type": "stream",
     "text": [
      "Pembro total: 1656\n",
      "High risk: 546\n",
      "Med risk: 563\n",
      "Low risk: 547\n"
     ]
    }
   ],
   "source": [
    "print('Pembro total:',  key_024.query('pembro == 1').shape[0])\n",
    "print('High risk:', key_024.query('pembro == 1').query('risk_score >= @high_cutoff_024').shape[0])\n",
    "print('Med risk:', key_024.query('pembro == 1').query('risk_score < @high_cutoff_024 and risk_score > @low_cutoff_024').shape[0])\n",
    "print('Low risk:', key_024.query('pembro == 1').query('risk_score <= @low_cutoff_024').shape[0])"
   ]
  },
  {
   "cell_type": "code",
   "execution_count": 219,
   "id": "fccadc36",
   "metadata": {},
   "outputs": [
    {
     "name": "stdout",
     "output_type": "stream",
     "text": [
      "Platinum total: 240\n",
      "High risk: 76\n",
      "Med risk: 81\n",
      "Low risk: 83\n"
     ]
    }
   ],
   "source": [
    "print('Platinum total:',  key_024.query('pembro == 0').shape[0])\n",
    "print('High risk:', key_024.query('pembro == 0').query('risk_score >= @high_cutoff_024').shape[0])\n",
    "print('Med risk:', key_024.query('pembro == 0').query('risk_score < @high_cutoff_024 and risk_score > @low_cutoff_024').shape[0])\n",
    "print('Low risk:', key_024.query('pembro == 0').query('risk_score <= @low_cutoff_024').shape[0])"
   ]
  },
  {
   "cell_type": "markdown",
   "id": "2fa79433",
   "metadata": {},
   "source": [
    "#### PFS with covariate balancing "
   ]
  },
  {
   "cell_type": "code",
   "execution_count": 220,
   "id": "c4b8eb3f",
   "metadata": {},
   "outputs": [],
   "source": [
    "key_024 = key_024.set_index('PatientID')"
   ]
  },
  {
   "cell_type": "code",
   "execution_count": 221,
   "id": "55df9656",
   "metadata": {},
   "outputs": [],
   "source": [
    "key_024_iptw = key_024.filter(items = ['pfs_status',\n",
    "                                       'time_prog_treatment',\n",
    "                                       'pembro',\n",
    "                                       'age',\n",
    "                                       'gender',\n",
    "                                       'race',\n",
    "                                       'PracticeType',\n",
    "                                       'Histology',\n",
    "                                       'adv_year',\n",
    "                                       'commercial',\n",
    "                                       'medicare',\n",
    "                                       'medicaid',\n",
    "                                       'ecog_diagnosis',\n",
    "                                       'albumin_diag',\n",
    "                                       'weight_pct_change',\n",
    "                                       'risk_score'])"
   ]
  },
  {
   "cell_type": "code",
   "execution_count": 222,
   "id": "5b3b1ee6",
   "metadata": {},
   "outputs": [],
   "source": [
    "key_024_iptw['met_cat'] = pd.cut(key_024_iptw['adv_year'],\n",
    "                                 bins = [2010, 2016, float('inf')],\n",
    "                                 labels = ['11-16', '17-21'])"
   ]
  },
  {
   "cell_type": "code",
   "execution_count": 223,
   "id": "7a9c8293",
   "metadata": {},
   "outputs": [],
   "source": [
    "conditions = [\n",
    "    ((key_024_iptw['ecog_diagnosis'] == \"1.0\") | (key_024_iptw['ecog_diagnosis'] == \"0.0\")),  \n",
    "    ((key_024_iptw['ecog_diagnosis'] == \"2.0\") | (key_024_iptw['ecog_diagnosis'] == \"3.0\"))\n",
    "]\n",
    "\n",
    "choices = ['lt_2', 'gte_2']\n",
    "\n",
    "key_024_iptw['ecog_2'] = np.select(conditions, choices, default = 'unknown')"
   ]
  },
  {
   "cell_type": "code",
   "execution_count": 224,
   "id": "4aa7ac15",
   "metadata": {},
   "outputs": [
    {
     "data": {
      "text/plain": [
       "pfs_status                int64\n",
       "time_prog_treatment     float64\n",
       "pembro                    int64\n",
       "age                       int64\n",
       "gender                   object\n",
       "race                     object\n",
       "PracticeType             object\n",
       "Histology                object\n",
       "adv_year                  int64\n",
       "commercial              float64\n",
       "medicare                float64\n",
       "medicaid                float64\n",
       "ecog_diagnosis           object\n",
       "albumin_diag            float64\n",
       "weight_pct_change       float64\n",
       "risk_score              float64\n",
       "met_cat                category\n",
       "ecog_2                   object\n",
       "dtype: object"
      ]
     },
     "execution_count": 224,
     "metadata": {},
     "output_type": "execute_result"
    }
   ],
   "source": [
    "key_024_iptw.dtypes"
   ]
  },
  {
   "cell_type": "code",
   "execution_count": 225,
   "id": "583b6f2f",
   "metadata": {},
   "outputs": [],
   "source": [
    "to_be_categorical = list(key_024_iptw.select_dtypes(include = ['object']).columns)"
   ]
  },
  {
   "cell_type": "code",
   "execution_count": 226,
   "id": "d2d2d99c",
   "metadata": {},
   "outputs": [
    {
     "data": {
      "text/plain": [
       "['gender', 'race', 'PracticeType', 'Histology', 'ecog_diagnosis', 'ecog_2']"
      ]
     },
     "execution_count": 226,
     "metadata": {},
     "output_type": "execute_result"
    }
   ],
   "source": [
    "to_be_categorical"
   ]
  },
  {
   "cell_type": "code",
   "execution_count": 227,
   "id": "4854eca2",
   "metadata": {},
   "outputs": [],
   "source": [
    "to_be_categorical.append('met_cat')"
   ]
  },
  {
   "cell_type": "code",
   "execution_count": 228,
   "id": "835d4162",
   "metadata": {},
   "outputs": [],
   "source": [
    "to_be_categorical.remove('ecog_diagnosis')"
   ]
  },
  {
   "cell_type": "code",
   "execution_count": 229,
   "id": "2fbe0ebe",
   "metadata": {},
   "outputs": [],
   "source": [
    "# Convert variables in list to categorical.\n",
    "for x in list(to_be_categorical):\n",
    "    key_024_iptw[x] = key_024_iptw[x].astype('category')"
   ]
  },
  {
   "cell_type": "code",
   "execution_count": 230,
   "id": "e49ba804",
   "metadata": {},
   "outputs": [],
   "source": [
    "# List of numeric variables, excluding binary variables. \n",
    "numerical_features = ['age', 'albumin_diag', 'weight_pct_change', 'risk_score']\n",
    "\n",
    "# Transformer will first calculate column median and impute, and then apply a standard scaler. \n",
    "numerical_transformer = Pipeline(steps = [\n",
    "    ('imputer', SimpleImputer(strategy = 'median')),\n",
    "    ('std_scaler', StandardScaler())])"
   ]
  },
  {
   "cell_type": "code",
   "execution_count": 231,
   "id": "d04f0083",
   "metadata": {},
   "outputs": [],
   "source": [
    "# List of categorical features.\n",
    "categorical_features = list(key_024_iptw.select_dtypes(include = ['category']).columns)\n",
    "\n",
    "# One-hot-encode categorical features.\n",
    "categorical_transformer = OneHotEncoder(handle_unknown = 'ignore')"
   ]
  },
  {
   "cell_type": "code",
   "execution_count": 232,
   "id": "063793a4",
   "metadata": {},
   "outputs": [],
   "source": [
    "preprocessor = ColumnTransformer(\n",
    "    transformers = [\n",
    "        ('num', numerical_transformer, numerical_features),\n",
    "        ('cat', categorical_transformer, categorical_features)],\n",
    "    remainder = 'passthrough')"
   ]
  },
  {
   "cell_type": "code",
   "execution_count": 233,
   "id": "1e9ed277",
   "metadata": {},
   "outputs": [],
   "source": [
    "key_024_iptw_low = (\n",
    "    key_024_iptw\n",
    "    .query('risk_score <= @low_cutoff_024'))\n",
    "\n",
    "key_024_iptw_med = (\n",
    "    key_024_iptw\n",
    "    .query('risk_score < @high_cutoff_024 and risk_score > @low_cutoff_024'))\n",
    "\n",
    "key_024_iptw_high = (\n",
    "    key_024_iptw\n",
    "    .query('risk_score >= @high_cutoff_024'))\n",
    "\n",
    "key_024_iptw_all = key_024_iptw"
   ]
  },
  {
   "cell_type": "code",
   "execution_count": 234,
   "id": "83e55cff",
   "metadata": {},
   "outputs": [],
   "source": [
    "key_024_low_x = preprocessor.fit_transform(key_024_iptw_low.filter(items = ['age',\n",
    "                                                                            'gender',\n",
    "                                                                            'race',\n",
    "                                                                            'PracticeType',\n",
    "                                                                            'Histology',\n",
    "                                                                            'met_cat',\n",
    "                                                                            'commercial',\n",
    "                                                                            'medicare',\n",
    "                                                                            'medicaid',\n",
    "                                                                            'ecog_2',\n",
    "                                                                            'albumin_diag',\n",
    "                                                                            'weight_pct_change',\n",
    "                                                                            'risk_score']))\n",
    "\n",
    "key_024_med_x = preprocessor.fit_transform(key_024_iptw_med.filter(items = ['age',\n",
    "                                                                            'gender',\n",
    "                                                                            'race',\n",
    "                                                                            'PracticeType',\n",
    "                                                                            'Histology',\n",
    "                                                                            'met_cat',\n",
    "                                                                            'commercial',\n",
    "                                                                            'medicare',\n",
    "                                                                            'medicaid',\n",
    "                                                                            'ecog_2',\n",
    "                                                                            'albumin_diag',\n",
    "                                                                            'weight_pct_change',\n",
    "                                                                            'risk_score']))\n",
    "\n",
    "key_024_high_x = preprocessor.fit_transform(key_024_iptw_high.filter(items = ['age',\n",
    "                                                                              'gender',\n",
    "                                                                              'race',\n",
    "                                                                              'PracticeType',\n",
    "                                                                              'Histology',\n",
    "                                                                              'met_cat',\n",
    "                                                                              'commercial',\n",
    "                                                                              'medicare',\n",
    "                                                                              'medicaid',\n",
    "                                                                              'ecog_2',\n",
    "                                                                              'albumin_diag',\n",
    "                                                                              'weight_pct_change',\n",
    "                                                                              'risk_score']))\n",
    "\n",
    "key_024_all_x = preprocessor.fit_transform(key_024_iptw_all.filter(items = ['age',\n",
    "                                                                            'gender',\n",
    "                                                                            'race',\n",
    "                                                                            'PracticeType',\n",
    "                                                                            'Histology',\n",
    "                                                                            'met_cat',\n",
    "                                                                            'commercial',\n",
    "                                                                            'medicare',\n",
    "                                                                            'medicaid',\n",
    "                                                                            'ecog_2',\n",
    "                                                                            'albumin_diag',\n",
    "                                                                            'weight_pct_change',\n",
    "                                                                            'risk_score']))"
   ]
  },
  {
   "cell_type": "code",
   "execution_count": 235,
   "id": "fd30eef2",
   "metadata": {},
   "outputs": [
    {
     "data": {
      "text/plain": [
       "LogisticRegression(max_iter=1000)"
      ]
     },
     "execution_count": 235,
     "metadata": {},
     "output_type": "execute_result"
    }
   ],
   "source": [
    "lr_024_low = LogisticRegression(max_iter = 1000)\n",
    "lr_024_low.fit(key_024_low_x, key_024_iptw_low['pembro'])"
   ]
  },
  {
   "cell_type": "code",
   "execution_count": 236,
   "id": "9ac559db",
   "metadata": {},
   "outputs": [
    {
     "data": {
      "text/plain": [
       "LogisticRegression(max_iter=1000)"
      ]
     },
     "execution_count": 236,
     "metadata": {},
     "output_type": "execute_result"
    }
   ],
   "source": [
    "lr_024_med = LogisticRegression(max_iter = 1000)\n",
    "lr_024_med.fit(key_024_med_x, key_024_iptw_med['pembro'])"
   ]
  },
  {
   "cell_type": "code",
   "execution_count": 237,
   "id": "97cbce56",
   "metadata": {},
   "outputs": [
    {
     "data": {
      "text/plain": [
       "LogisticRegression(max_iter=1000)"
      ]
     },
     "execution_count": 237,
     "metadata": {},
     "output_type": "execute_result"
    }
   ],
   "source": [
    "lr_024_high = LogisticRegression(max_iter = 1000)\n",
    "lr_024_high.fit(key_024_high_x, key_024_iptw_high['pembro'])"
   ]
  },
  {
   "cell_type": "code",
   "execution_count": 238,
   "id": "a7678c7b",
   "metadata": {},
   "outputs": [
    {
     "data": {
      "text/plain": [
       "LogisticRegression(max_iter=1000)"
      ]
     },
     "execution_count": 238,
     "metadata": {},
     "output_type": "execute_result"
    }
   ],
   "source": [
    "lr_024_all = LogisticRegression(max_iter = 1000)\n",
    "lr_024_all.fit(key_024_all_x, key_024_iptw_all['pembro'])"
   ]
  },
  {
   "cell_type": "code",
   "execution_count": 239,
   "id": "dd487c2c",
   "metadata": {},
   "outputs": [],
   "source": [
    "pred_low = lr_024_low.predict_proba(key_024_low_x)\n",
    "pred_med = lr_024_med.predict_proba(key_024_med_x)\n",
    "pred_high = lr_024_high.predict_proba(key_024_high_x)\n",
    "pred_all = lr_024_all.predict_proba(key_024_all_x)"
   ]
  },
  {
   "cell_type": "code",
   "execution_count": 240,
   "id": "8d025397",
   "metadata": {},
   "outputs": [],
   "source": [
    "key_024_iptw_low['ps'] = pred_low[:, 1]\n",
    "key_024_iptw_med['ps'] = pred_med[:, 1]\n",
    "key_024_iptw_high['ps'] = pred_high[:, 1]\n",
    "key_024_iptw_all['ps'] = pred_all[:, 1]"
   ]
  },
  {
   "cell_type": "code",
   "execution_count": 241,
   "id": "1e34d68d",
   "metadata": {},
   "outputs": [],
   "source": [
    "key_024_iptw_low['weight'] = (\n",
    "    np.where(key_024_iptw_low['pembro'] == 1, 1/key_024_iptw_low['ps'], 1/(1 - key_024_iptw_low['ps'])))\n",
    "\n",
    "key_024_iptw_med['weight'] = (\n",
    "    np.where(key_024_iptw_med['pembro'] == 1, 1/key_024_iptw_med['ps'], 1/(1 - key_024_iptw_med['ps'])))\n",
    "\n",
    "key_024_iptw_high['weight'] = (\n",
    "    np.where(key_024_iptw_high['pembro'] == 1, 1/key_024_iptw_high['ps'], 1/(1 - key_024_iptw_high['ps'])))\n",
    "\n",
    "key_024_iptw_all['weight'] = (\n",
    "    np.where(key_024_iptw_all['pembro'] == 1, 1/key_024_iptw_all['ps'], 1/(1 - key_024_iptw_all['ps'])))"
   ]
  },
  {
   "cell_type": "code",
   "execution_count": 242,
   "id": "6a4176f8",
   "metadata": {},
   "outputs": [
    {
     "data": {
      "text/plain": [
       "<lifelines.KaplanMeierFitter:\"KM_estimate\", fitted with 1652.53 total observations, 326.856 right-censored observations>"
      ]
     },
     "execution_count": 242,
     "metadata": {},
     "output_type": "execute_result"
    }
   ],
   "source": [
    "# Low KM curves\n",
    "kmf_low_pembro_024_iptw = KaplanMeierFitter()\n",
    "kmf_low_plat_024_iptw = KaplanMeierFitter()\n",
    "\n",
    "kmf_low_pembro_024_iptw.fit(\n",
    "    key_024_iptw_low.query('pembro == 1').time_prog_treatment/30,\n",
    "    key_024_iptw_low.query('pembro == 1').pfs_status,\n",
    "    weights = key_024_iptw_low.query('pembro == 1')['weight'])\n",
    "\n",
    "kmf_low_plat_024_iptw.fit(\n",
    "    key_024_iptw_low.query('pembro == 0').time_prog_treatment/30,\n",
    "    key_024_iptw_low.query('pembro == 0').pfs_status,\n",
    "    weights = key_024_iptw_low.query('pembro == 0')['weight'])\n",
    "\n",
    "# Med KM curves\n",
    "kmf_med_pembro_024_iptw = KaplanMeierFitter()\n",
    "kmf_med_plat_024_iptw = KaplanMeierFitter()\n",
    "\n",
    "kmf_med_pembro_024_iptw.fit(\n",
    "    key_024_iptw_med.query('pembro == 1').time_prog_treatment/30,\n",
    "    key_024_iptw_med.query('pembro == 1').pfs_status,\n",
    "    weights = key_024_iptw_med.query('pembro == 1')['weight'])\n",
    "\n",
    "kmf_med_plat_024_iptw.fit(\n",
    "    key_024_iptw_med.query('pembro == 0').time_prog_treatment/30,\n",
    "    key_024_iptw_med.query('pembro == 0').pfs_status,\n",
    "    weights = key_024_iptw_med.query('pembro == 0')['weight'])\n",
    "\n",
    "# High KM curves \n",
    "kmf_high_pembro_024_iptw = KaplanMeierFitter()\n",
    "kmf_high_plat_024_iptw = KaplanMeierFitter()\n",
    "\n",
    "kmf_high_pembro_024_iptw.fit(\n",
    "    key_024_iptw_high.query('pembro == 1').time_prog_treatment/30,\n",
    "    key_024_iptw_high.query('pembro == 1').pfs_status,\n",
    "    weights = key_024_iptw_high.query('pembro == 1')['weight'])\n",
    "\n",
    "kmf_high_plat_024_iptw.fit(\n",
    "    key_024_iptw_high.query('pembro == 0').time_prog_treatment/30,\n",
    "    key_024_iptw_high.query('pembro == 0').pfs_status,\n",
    "    weights = key_024_iptw_high.query('pembro == 0')['weight'])\n",
    "\n",
    "# All KM curves \n",
    "kmf_all_pembro_024_iptw = KaplanMeierFitter()\n",
    "kmf_all_plat_024_iptw = KaplanMeierFitter()\n",
    "\n",
    "kmf_all_pembro_024_iptw.fit(\n",
    "    key_024_iptw_all.query('pembro == 1').time_prog_treatment/30,\n",
    "    key_024_iptw_all.query('pembro == 1').pfs_status,\n",
    "    weights = key_024_iptw_all.query('pembro == 1')['weight'])\n",
    "\n",
    "kmf_all_plat_024_iptw.fit(\n",
    "    key_024_iptw_all.query('pembro == 0').time_prog_treatment/30,\n",
    "    key_024_iptw_all.query('pembro == 0').pfs_status,\n",
    "    weights = key_024_iptw_all.query('pembro == 0')['weight'])"
   ]
  },
  {
   "cell_type": "markdown",
   "id": "8f63a86d",
   "metadata": {},
   "source": [
    "#### Calculating survival metrics "
   ]
  },
  {
   "cell_type": "code",
   "execution_count": 243,
   "id": "727856b2",
   "metadata": {},
   "outputs": [],
   "source": [
    "pembro_024_median_os = mos(kmf_low_pembro_024_iptw,\n",
    "                           kmf_med_pembro_024_iptw,\n",
    "                           kmf_high_pembro_024_iptw,\n",
    "                           kmf_all_pembro_024_iptw)\n",
    "\n",
    "plat_024_median_os = mos(kmf_low_plat_024_iptw,\n",
    "                         kmf_med_plat_024_iptw,\n",
    "                         kmf_high_plat_024_iptw,\n",
    "                         kmf_all_plat_024_iptw)"
   ]
  },
  {
   "cell_type": "code",
   "execution_count": 244,
   "id": "59ca432b",
   "metadata": {},
   "outputs": [],
   "source": [
    "key_024_iptw_all_imputed = key_024_iptw_all.copy()\n",
    "key_024_iptw_all_imputed['albumin_diag'] = key_024_iptw_all_imputed['albumin_diag'].fillna(key_024_iptw_all_imputed['albumin_diag'].median())\n",
    "key_024_iptw_all_imputed['weight_pct_change'] = key_024_iptw_all_imputed['weight_pct_change'].fillna(key_024_iptw_all_imputed['weight_pct_change'].median())"
   ]
  },
  {
   "cell_type": "code",
   "execution_count": 245,
   "id": "94d2b36d",
   "metadata": {},
   "outputs": [
    {
     "data": {
      "text/plain": [
       "<lifelines.CoxPHFitter: fitted with 3556.29 total observations, 776.792 right-censored observations>"
      ]
     },
     "execution_count": 245,
     "metadata": {},
     "output_type": "execute_result"
    }
   ],
   "source": [
    "key024_hr_all = CoxPHFitter()\n",
    "key024_hr_all.fit(key_024_iptw_all_imputed,\n",
    "                  duration_col = 'time_prog_treatment',\n",
    "                  event_col = 'pfs_status',\n",
    "                  formula = 'pembro + age + gender + race + PracticeType + Histology + met_cat + commercial + medicare + medicaid + ecog_2 + albumin_diag + weight_pct_change + risk_score', \n",
    "                  weights_col = 'weight', \n",
    "                  robust = True)"
   ]
  },
  {
   "cell_type": "code",
   "execution_count": 246,
   "id": "f8a59ff0",
   "metadata": {},
   "outputs": [],
   "source": [
    "key024_all_rmst_mos_95 = rmst_mos_95ci(key_024_iptw_all,\n",
    "                                       1000,\n",
    "                                       'pembro',\n",
    "                                       'progression',\n",
    "                                       ['age',\n",
    "                                        'gender',\n",
    "                                        'race',\n",
    "                                        'PracticeType',\n",
    "                                        'Histology',\n",
    "                                        'met_cat',\n",
    "                                        'commercial',\n",
    "                                        'medicare',\n",
    "                                        'medicaid',\n",
    "                                        'ecog_2',\n",
    "                                        'albumin_diag',\n",
    "                                        'weight_pct_change',\n",
    "                                        'risk_score'],\n",
    "                                       ['age', 'albumin_diag', 'weight_pct_change', 'risk_score'],\n",
    "                                       18)"
   ]
  },
  {
   "cell_type": "code",
   "execution_count": 247,
   "id": "4dd54dd5",
   "metadata": {},
   "outputs": [],
   "source": [
    "key024_low_rmst_mos_95 = rmst_mos_95ci(key_024_iptw_low,\n",
    "                                       1000,\n",
    "                                       'pembro',\n",
    "                                       'progression',\n",
    "                                       ['age',\n",
    "                                        'gender',\n",
    "                                        'race',\n",
    "                                        'PracticeType',\n",
    "                                        'Histology',\n",
    "                                        'met_cat',\n",
    "                                        'commercial',\n",
    "                                        'medicare',\n",
    "                                        'medicaid',\n",
    "                                        'ecog_2',\n",
    "                                        'albumin_diag',\n",
    "                                        'weight_pct_change',\n",
    "                                        'risk_score'],\n",
    "                                       ['age', 'albumin_diag', 'weight_pct_change', 'risk_score'],\n",
    "                                       18)"
   ]
  },
  {
   "cell_type": "code",
   "execution_count": 248,
   "id": "f1a7f2d3",
   "metadata": {},
   "outputs": [],
   "source": [
    "key024_med_rmst_mos_95 = rmst_mos_95ci(key_024_iptw_med,\n",
    "                                       1000,\n",
    "                                       'pembro',\n",
    "                                       'progression',\n",
    "                                       ['age',\n",
    "                                        'gender',\n",
    "                                        'race',\n",
    "                                        'PracticeType',\n",
    "                                        'Histology',\n",
    "                                        'met_cat',\n",
    "                                        'commercial',\n",
    "                                        'medicare',\n",
    "                                        'medicaid',\n",
    "                                        'ecog_2',\n",
    "                                        'albumin_diag',\n",
    "                                        'weight_pct_change',\n",
    "                                        'risk_score'],\n",
    "                                       ['age', 'albumin_diag', 'weight_pct_change', 'risk_score'],\n",
    "                                       18)"
   ]
  },
  {
   "cell_type": "code",
   "execution_count": 249,
   "id": "c0869ca5",
   "metadata": {},
   "outputs": [],
   "source": [
    "key024_high_rmst_mos_95 = rmst_mos_95ci(key_024_iptw_high,\n",
    "                                       1000,\n",
    "                                       'pembro',\n",
    "                                       'progression',\n",
    "                                       ['age',\n",
    "                                        'gender',\n",
    "                                        'race',\n",
    "                                        'PracticeType',\n",
    "                                        'Histology',\n",
    "                                        'met_cat',\n",
    "                                        'commercial',\n",
    "                                        'medicare',\n",
    "                                        'medicaid',\n",
    "                                        'ecog_2',\n",
    "                                        'albumin_diag',\n",
    "                                        'weight_pct_change',\n",
    "                                        'risk_score'],\n",
    "                                       ['age', 'albumin_diag', 'weight_pct_change', 'risk_score'],\n",
    "                                       18)"
   ]
  },
  {
   "cell_type": "code",
   "execution_count": 250,
   "id": "ed9d80bb",
   "metadata": {},
   "outputs": [],
   "source": [
    "keynote_024_data = [\n",
    "    {'trial_name': 'KEYNOTE-024', \n",
    "     'risk_group': 'low', \n",
    "     'r_trt_mos': pembro_024_median_os[0],\n",
    "     'r_trt_mos_95': key024_low_rmst_mos_95.mos_A_95,\n",
    "     'r_cont_mos': plat_024_median_os[0],\n",
    "     'r_cont_mos_95': key024_low_rmst_mos_95.mos_B_95,\n",
    "     'r_mos_diff': pembro_024_median_os[0] - plat_024_median_os[0], \n",
    "     'rct_trt_arm': 10.3, \n",
    "     'rct_cont_arm': 6.0,\n",
    "     'rct_mos_diff': 10.3-6.0, \n",
    "     'trt_rmst': restricted_mean_survival_time(kmf_low_pembro_024_iptw, 18),\n",
    "     'trt_rmst_95': key024_low_rmst_mos_95.rmst_A_95,\n",
    "     'cont_rmst': restricted_mean_survival_time(kmf_low_plat_024_iptw, 18),\n",
    "     'cont_rmst_95': key024_low_rmst_mos_95.rmst_B_95,\n",
    "     'diff_rmst': restricted_mean_survival_time(kmf_low_pembro_024_iptw, 18) - restricted_mean_survival_time(kmf_low_plat_024_iptw, 18),\n",
    "     'diff_rmst_95': key024_low_rmst_mos_95.difference_rmst_95,\n",
    "     'rcount': key_024.query('risk_score <= @low_cutoff_024').shape[0],\n",
    "     'rcount_chemo': key_024.query('risk_score <= @low_cutoff_024').query('pembro == 0').shape[0]},\n",
    "    \n",
    "    {'trial_name': 'KEYNOTE-024', \n",
    "     'risk_group': 'medium', \n",
    "     'r_trt_mos': pembro_024_median_os[1],\n",
    "     'r_trt_mos_95': key024_med_rmst_mos_95.mos_A_95,\n",
    "     'r_cont_mos': plat_024_median_os[1],\n",
    "     'r_cont_mos_95': key024_med_rmst_mos_95.mos_B_95,\n",
    "     'r_mos_diff': pembro_024_median_os[1] - plat_024_median_os[1], \n",
    "     'rct_trt_arm': 10.3, \n",
    "     'rct_cont_arm': 6.0,\n",
    "     'rct_mos_diff': 10.3-6.0, \n",
    "     'trt_rmst': restricted_mean_survival_time(kmf_med_pembro_024_iptw, 18),\n",
    "     'trt_rmst_95': key024_med_rmst_mos_95.rmst_A_95,\n",
    "     'cont_rmst': restricted_mean_survival_time(kmf_med_plat_024_iptw, 18),\n",
    "     'cont_rmst_95': key024_med_rmst_mos_95.rmst_B_95,\n",
    "     'diff_rmst': restricted_mean_survival_time(kmf_med_pembro_024_iptw, 18) - restricted_mean_survival_time(kmf_med_plat_024_iptw, 18),\n",
    "     'diff_rmst_95': key024_med_rmst_mos_95.difference_rmst_95,\n",
    "     'rcount': key_024.query('risk_score < @high_cutoff_024 and risk_score > @low_cutoff_024').shape[0],\n",
    "     'rcount_chemo': key_024.query('risk_score < @high_cutoff_024 and risk_score > @low_cutoff_024').query('pembro == 0').shape[0]},\n",
    "    \n",
    "    {'trial_name': 'KEYNOTE-024', \n",
    "     'risk_group': 'high', \n",
    "     'r_trt_mos': pembro_024_median_os[2],\n",
    "     'r_trt_mos_95': key024_high_rmst_mos_95.mos_A_95,\n",
    "     'r_cont_mos': plat_024_median_os[2],\n",
    "     'r_cont_mos_95': key024_high_rmst_mos_95.mos_B_95,\n",
    "     'r_mos_diff': pembro_024_median_os[2] - plat_024_median_os[2], \n",
    "     'rct_trt_arm': 10.3, \n",
    "     'rct_cont_arm': 6.0,\n",
    "     'rct_mos_diff': 10.3-6.0, \n",
    "     'trt_rmst': restricted_mean_survival_time(kmf_high_pembro_024_iptw, 18),\n",
    "     'trt_rmst_95': key024_high_rmst_mos_95.rmst_A_95,\n",
    "     'cont_rmst': restricted_mean_survival_time(kmf_high_plat_024_iptw, 18),\n",
    "     'cont_rmst_95': key024_high_rmst_mos_95.rmst_B_95,\n",
    "     'diff_rmst': restricted_mean_survival_time(kmf_high_pembro_024_iptw, 18) - restricted_mean_survival_time(kmf_high_plat_024_iptw, 18),\n",
    "     'diff_rmst_95': key024_high_rmst_mos_95.difference_rmst_95,\n",
    "     'rcount': key_024.query('risk_score >= @high_cutoff_024').shape[0],\n",
    "     'rcount_chemo': key_024.query('risk_score >= @high_cutoff_024').query('pembro == 0').shape[0]},\n",
    "    \n",
    "    {'trial_name': 'KEYNOTE-024', \n",
    "     'risk_group': 'all', \n",
    "     'r_hr': key024_hr_all.hazard_ratios_['pembro'],\n",
    "     'r_hr_95': [key024_hr_all.summary.loc['pembro']['exp(coef) lower 95%'], key024_hr_all.summary.loc['pembro']['exp(coef) upper 95%']],\n",
    "     'r_trt_mos': pembro_024_median_os[3],\n",
    "     'r_trt_mos_95': key024_all_rmst_mos_95.mos_A_95,\n",
    "     'r_cont_mos': plat_024_median_os[3],\n",
    "     'r_cont_mos_95': key024_all_rmst_mos_95.mos_B_95,\n",
    "     'r_mos_diff': pembro_024_median_os[3] - plat_024_median_os[3], \n",
    "     'rct_trt_arm': 10.3, \n",
    "     'rct_cont_arm': 6.0,\n",
    "     'rct_mos_diff': 10.3-6.0, \n",
    "     'rcount': key_024.shape[0], \n",
    "     'rcount_chemo': key_024.query('pembro == 0').shape[0]}\n",
    "]"
   ]
  },
  {
   "cell_type": "markdown",
   "id": "c192dd3c",
   "metadata": {},
   "source": [
    "### KEYNOTE-189: First-line pembrolizumab plus chemotherapy vs. chemotherapy\n",
    "\n",
    "**INCLUSION CRITERIA**\n",
    "* Untreated stage IV NSCLC\n",
    "* Received first line pemobrolizumab plus platinum-based chemotherapy or platinum-based chemotherapy\n",
    "* Received appropriate dose of platinum-based chemotherapy\n",
    "* EGFR and ALK negative"
   ]
  },
  {
   "cell_type": "markdown",
   "id": "6f4fb33c",
   "metadata": {},
   "source": [
    "#### Pembrolizumab + chemotherapy "
   ]
  },
  {
   "cell_type": "code",
   "execution_count": 251,
   "id": "234ad061",
   "metadata": {},
   "outputs": [
    {
     "data": {
      "text/plain": [
       "68483"
      ]
     },
     "execution_count": 251,
     "metadata": {},
     "output_type": "execute_result"
    }
   ],
   "source": [
    "df_full = pd.read_csv('df_risk_crude.csv', index_col = 'PatientID', dtype = {'death_status': bool})\n",
    "df_full.index.nunique()"
   ]
  },
  {
   "cell_type": "code",
   "execution_count": 252,
   "id": "04cbe337",
   "metadata": {},
   "outputs": [],
   "source": [
    "line_therapy = pd.read_csv('LineOfTherapy.csv')"
   ]
  },
  {
   "cell_type": "code",
   "execution_count": 253,
   "id": "d90106c6",
   "metadata": {},
   "outputs": [
    {
     "data": {
      "text/plain": [
       "Carboplatin,Pemetrexed                              6700\n",
       "Carboplatin,Pembrolizumab,Pemetrexed                5113\n",
       "Pemetrexed                                          4711\n",
       "Bevacizumab,Carboplatin,Pemetrexed                  3459\n",
       "Bevacizumab,Pemetrexed                              1569\n",
       "Pembrolizumab,Pemetrexed                            1554\n",
       "Cisplatin,Pemetrexed                                 811\n",
       "Bevacizumab,Cisplatin,Pemetrexed                     174\n",
       "Abiraterone,Carboplatin,Pembrolizumab,Pemetrexed     100\n",
       "Bevacizumab-Awwb,Carboplatin,Pemetrexed               82\n",
       "Name: LineName, dtype: int64"
      ]
     },
     "execution_count": 253,
     "metadata": {},
     "output_type": "execute_result"
    }
   ],
   "source": [
    "line_therapy[line_therapy['LineName'].str.contains('Pemetrexed')].LineName.value_counts().head(10)"
   ]
  },
  {
   "cell_type": "code",
   "execution_count": 254,
   "id": "6cfc6277",
   "metadata": {},
   "outputs": [],
   "source": [
    "line_therapy_fl = (\n",
    "    line_therapy[line_therapy['PatientID'].isin(df_full.index)]\n",
    "    .query('LineNumber == 1')\n",
    "    .query('IsMaintenanceTherapy == False')\n",
    ")"
   ]
  },
  {
   "cell_type": "code",
   "execution_count": 255,
   "id": "2b0ef1d7",
   "metadata": {},
   "outputs": [],
   "source": [
    "plat_chemo = [\n",
    "    'Carboplatin',\n",
    "    'Cisplatin']\n",
    "\n",
    "immuno_wout_pembro = [\n",
    "    'Atezolizumab',\n",
    "    'Cemiplimab',\n",
    "    'Durvalumab',\n",
    "    'Ipilimumab',\n",
    "    'Nivolumab']\n",
    "\n",
    "targeted = [\n",
    "    'Afatinib',\n",
    "    'Alectinib',\n",
    "    'Brigatinib',\n",
    "    'Cabozantinib',\n",
    "    'Capmatinib',\n",
    "    'Ceritinib',\n",
    "    'Crizotinib',\n",
    "    'Dabrafenib',\n",
    "    'Dacomitinib',\n",
    "    'Entrectinib',\n",
    "    'Erlotinib',\n",
    "    'Gefitinib',\n",
    "    'Lorlatinib',\n",
    "    'Osimertinib',\n",
    "    'Pralsetinib',\n",
    "    'Selpercatinib',\n",
    "    'Sotorasib',\n",
    "    'Tepotinib',\n",
    "    'Trametinib',\n",
    "    'Vandetanib']"
   ]
  },
  {
   "cell_type": "code",
   "execution_count": 256,
   "id": "d81d735d",
   "metadata": {},
   "outputs": [
    {
     "data": {
      "text/plain": [
       "Carboplatin,Pembrolizumab,Pemetrexed                     4275\n",
       "Carboplatin,Paclitaxel,Pembrolizumab                      803\n",
       "Carboplatin,Paclitaxel Protein-Bound,Pembrolizumab        534\n",
       "Abiraterone,Carboplatin,Pembrolizumab,Pemetrexed           79\n",
       "Carboplatin,Cyclophosphamide,Pembrolizumab,Pemetrexed      31\n",
       "Cisplatin,Pembrolizumab,Pemetrexed                         27\n",
       "Carboplatin,Pembrolizumab                                  19\n",
       "Carboplatin,Docetaxel,Pembrolizumab                        18\n",
       "Carboplatin,Paclitaxel,Pembrolizumab,Pemetrexed            18\n",
       "Bevacizumab,Carboplatin,Pembrolizumab,Pemetrexed           10\n",
       "Name: LineName, dtype: int64"
      ]
     },
     "execution_count": 256,
     "metadata": {},
     "output_type": "execute_result"
    }
   ],
   "source": [
    "line_therapy_fl[line_therapy_fl['LineName'].str.contains('|'.join(plat_chemo)) & \n",
    "                line_therapy_fl['LineName'].str.contains('Pembrolizumab') &\n",
    "                ~line_therapy_fl['LineName'].str.contains('|'.join(targeted)) &\n",
    "                ~line_therapy_fl['LineName'].str.contains('|'.join(immuno_wout_pembro)) &\n",
    "                ~line_therapy_fl['LineName'].str.contains('Clinical Study Drug')].LineName.value_counts().head(10)"
   ]
  },
  {
   "cell_type": "code",
   "execution_count": 257,
   "id": "a7d4f486",
   "metadata": {},
   "outputs": [],
   "source": [
    "key189_carb_pembro = (\n",
    "    line_therapy_fl[line_therapy_fl['LineName'].str.contains('Carboplatin') & \n",
    "                    line_therapy_fl['LineName'].str.contains('Pembrolizumab') &\n",
    "                    ~line_therapy_fl['LineName'].str.contains('|'.join(targeted)) &\n",
    "                    ~line_therapy_fl['LineName'].str.contains('|'.join(immuno_wout_pembro)) &\n",
    "                    ~line_therapy_fl['LineName'].str.contains('Clinical Study Drug')]\n",
    "    [['PatientID', 'StartDate']]\n",
    ")"
   ]
  },
  {
   "cell_type": "code",
   "execution_count": 258,
   "id": "9a845736",
   "metadata": {},
   "outputs": [],
   "source": [
    "key189_carb_pembro.loc[:, 'carb'] = 1"
   ]
  },
  {
   "cell_type": "code",
   "execution_count": 259,
   "id": "4265e15c",
   "metadata": {},
   "outputs": [],
   "source": [
    "key189_cis_pembro = (\n",
    "    line_therapy_fl[line_therapy_fl['LineName'].str.contains('Cisplatin') & \n",
    "                    line_therapy_fl['LineName'].str.contains('Pembrolizumab') &\n",
    "                    ~line_therapy_fl['LineName'].str.contains('|'.join(targeted)) &\n",
    "                    ~line_therapy_fl['LineName'].str.contains('|'.join(immuno_wout_pembro)) &\n",
    "                    ~line_therapy_fl['LineName'].str.contains('Clinical Study Drug')]\n",
    "    [['PatientID', 'StartDate']]\n",
    ")"
   ]
  },
  {
   "cell_type": "code",
   "execution_count": 260,
   "id": "52c55515",
   "metadata": {},
   "outputs": [],
   "source": [
    "key189_cis_pembro.loc[:, 'carb'] = 0"
   ]
  },
  {
   "cell_type": "code",
   "execution_count": 261,
   "id": "9da99f19",
   "metadata": {},
   "outputs": [],
   "source": [
    "key189_pembro = pd.concat([key189_carb_pembro, key189_cis_pembro])"
   ]
  },
  {
   "cell_type": "code",
   "execution_count": 262,
   "id": "f4e4b9b1",
   "metadata": {},
   "outputs": [],
   "source": [
    "key189_pembro.loc[:, 'pembro'] = 1"
   ]
  },
  {
   "cell_type": "code",
   "execution_count": 263,
   "id": "911c6267",
   "metadata": {},
   "outputs": [
    {
     "data": {
      "text/plain": [
       "(5878, 5878)"
      ]
     },
     "execution_count": 263,
     "metadata": {},
     "output_type": "execute_result"
    }
   ],
   "source": [
    "row_ID(key189_pembro)"
   ]
  },
  {
   "cell_type": "code",
   "execution_count": 264,
   "id": "84da3d15",
   "metadata": {},
   "outputs": [],
   "source": [
    "# Dataframe of all therapies received for those receiving first line pembrolizumab only. \n",
    "line_therapy_pembro_189 = (\n",
    "    line_therapy[line_therapy['PatientID'].isin(key189_pembro.PatientID)])"
   ]
  },
  {
   "cell_type": "code",
   "execution_count": 265,
   "id": "ff1b083c",
   "metadata": {},
   "outputs": [],
   "source": [
    "# Patients receiving pembrolizumab therapy who later recieve targeted therapy. \n",
    "pembro_189_xcross = (\n",
    "    line_therapy_pembro_189[line_therapy_pembro_189['LineName'].str.contains('|'.join(targeted))].PatientID)"
   ]
  },
  {
   "cell_type": "code",
   "execution_count": 266,
   "id": "80a8019f",
   "metadata": {},
   "outputs": [],
   "source": [
    "# Select patients who don't receive targeted therapy in future lines.\n",
    "key189_pembro = key189_pembro[~key189_pembro['PatientID'].isin(pembro_189_xcross)]"
   ]
  },
  {
   "cell_type": "code",
   "execution_count": 267,
   "id": "d9dcbfa6",
   "metadata": {},
   "outputs": [
    {
     "data": {
      "text/plain": [
       "(5673, 5673)"
      ]
     },
     "execution_count": 267,
     "metadata": {},
     "output_type": "execute_result"
    }
   ],
   "source": [
    "row_ID(key189_pembro)"
   ]
  },
  {
   "cell_type": "markdown",
   "id": "28530251",
   "metadata": {},
   "source": [
    "#### Platinum-based chemotherapy"
   ]
  },
  {
   "cell_type": "code",
   "execution_count": 268,
   "id": "e485e74b",
   "metadata": {},
   "outputs": [],
   "source": [
    "plat_chemo = [\n",
    "    'Carboplatin',\n",
    "    'Cisplatin']\n",
    "\n",
    "immuno = [\n",
    "    'Atezolizumab',\n",
    "    'Cemiplimab',\n",
    "    'Durvalumab',\n",
    "    'Ipilimumab',\n",
    "    'Nivolumab',\n",
    "    'Pembrolizumab'\n",
    "]"
   ]
  },
  {
   "cell_type": "code",
   "execution_count": 269,
   "id": "dfcbe553",
   "metadata": {},
   "outputs": [
    {
     "data": {
      "text/plain": [
       "Carboplatin,Paclitaxel                  8524\n",
       "Carboplatin,Pemetrexed                  5417\n",
       "Bevacizumab,Carboplatin,Pemetrexed      2825\n",
       "Carboplatin,Paclitaxel Protein-Bound    1826\n",
       "Bevacizumab,Carboplatin,Paclitaxel      1591\n",
       "Carboplatin,Gemcitabine                 1224\n",
       "Cisplatin,Etoposide                      793\n",
       "Carboplatin,Docetaxel                    780\n",
       "Cisplatin,Pemetrexed                     684\n",
       "Carboplatin,Etoposide                    363\n",
       "Name: LineName, dtype: int64"
      ]
     },
     "execution_count": 269,
     "metadata": {},
     "output_type": "execute_result"
    }
   ],
   "source": [
    "line_therapy_fl[line_therapy_fl['LineName'].str.contains('|'.join(plat_chemo)) & \n",
    "                ~line_therapy_fl['LineName'].str.contains('|'.join(immuno)) &\n",
    "                ~line_therapy_fl['LineName'].str.contains('|'.join(targeted)) &\n",
    "                ~line_therapy_fl['LineName'].str.contains('Clinical Study Drug')].LineName.value_counts().head(10)"
   ]
  },
  {
   "cell_type": "code",
   "execution_count": 270,
   "id": "fee0e8d1",
   "metadata": {},
   "outputs": [],
   "source": [
    "key189_carb = (\n",
    "    line_therapy_fl[line_therapy_fl['LineName'].str.contains('Carboplatin') & \n",
    "                    ~line_therapy_fl['LineName'].str.contains('|'.join(immuno)) &\n",
    "                    ~line_therapy_fl['LineName'].str.contains('|'.join(targeted)) &\n",
    "                    ~line_therapy_fl['LineName'].str.contains('Clinical Study Drug')]\n",
    "    [['PatientID', 'StartDate']]\n",
    ")"
   ]
  },
  {
   "cell_type": "code",
   "execution_count": 271,
   "id": "7bb36354",
   "metadata": {},
   "outputs": [],
   "source": [
    "key189_carb.loc[:, 'carb'] = 1"
   ]
  },
  {
   "cell_type": "code",
   "execution_count": 272,
   "id": "9d3982f6",
   "metadata": {},
   "outputs": [],
   "source": [
    "key189_cis = (\n",
    "    line_therapy_fl[line_therapy_fl['LineName'].str.contains('Cisplatin') & \n",
    "                    ~line_therapy_fl['LineName'].str.contains('|'.join(immuno)) &\n",
    "                    ~line_therapy_fl['LineName'].str.contains('|'.join(targeted)) &\n",
    "                    ~line_therapy_fl['LineName'].str.contains('Clinical Study Drug')]\n",
    "    [['PatientID', 'StartDate']]\n",
    ")"
   ]
  },
  {
   "cell_type": "code",
   "execution_count": 273,
   "id": "2cbd7ee3",
   "metadata": {},
   "outputs": [],
   "source": [
    "key189_cis.loc[:, 'carb'] = 0"
   ]
  },
  {
   "cell_type": "code",
   "execution_count": 274,
   "id": "420263ef",
   "metadata": {},
   "outputs": [],
   "source": [
    "key189_plat = pd.concat([key189_carb, key189_cis])"
   ]
  },
  {
   "cell_type": "code",
   "execution_count": 275,
   "id": "e0bb65e4",
   "metadata": {},
   "outputs": [],
   "source": [
    "key189_plat.loc[:, 'pembro'] = 0"
   ]
  },
  {
   "cell_type": "code",
   "execution_count": 276,
   "id": "8f6500c8",
   "metadata": {},
   "outputs": [
    {
     "data": {
      "text/plain": [
       "(25861, 25861)"
      ]
     },
     "execution_count": 276,
     "metadata": {},
     "output_type": "execute_result"
    }
   ],
   "source": [
    "row_ID(key189_plat)"
   ]
  },
  {
   "cell_type": "code",
   "execution_count": 277,
   "id": "e9a5d7df",
   "metadata": {},
   "outputs": [],
   "source": [
    "# Dataframe of all therapies received for those receiving first line platinum regimen \n",
    "line_therapy_plat_189 = (\n",
    "    line_therapy[line_therapy['PatientID'].isin(key189_plat.PatientID)])"
   ]
  },
  {
   "cell_type": "code",
   "execution_count": 278,
   "id": "f57f3d5b",
   "metadata": {},
   "outputs": [],
   "source": [
    "# Patients receiving platinum therapy who later recieve targeted therapy\n",
    "plat_189_xcross = (\n",
    "    line_therapy_plat_189[line_therapy_plat_189['LineName'].str.contains('|'.join(targeted))].PatientID)"
   ]
  },
  {
   "cell_type": "code",
   "execution_count": 279,
   "id": "98b1ad82",
   "metadata": {},
   "outputs": [],
   "source": [
    "# Select patients who don't receive targeted therapy\n",
    "key189_plat = key189_plat[~key189_plat['PatientID'].isin(plat_189_xcross)]"
   ]
  },
  {
   "cell_type": "code",
   "execution_count": 280,
   "id": "45d335e5",
   "metadata": {},
   "outputs": [
    {
     "data": {
      "text/plain": [
       "(23800, 23800)"
      ]
     },
     "execution_count": 280,
     "metadata": {},
     "output_type": "execute_result"
    }
   ],
   "source": [
    "row_ID(key189_plat)"
   ]
  },
  {
   "cell_type": "code",
   "execution_count": 281,
   "id": "270ce236",
   "metadata": {},
   "outputs": [],
   "source": [
    "key_189 = pd.concat([key189_pembro, key189_plat])"
   ]
  },
  {
   "cell_type": "code",
   "execution_count": 282,
   "id": "40afaafc",
   "metadata": {},
   "outputs": [
    {
     "data": {
      "text/plain": [
       "(29473, 29473)"
      ]
     },
     "execution_count": 282,
     "metadata": {},
     "output_type": "execute_result"
    }
   ],
   "source": [
    "row_ID(key_189)"
   ]
  },
  {
   "cell_type": "markdown",
   "id": "ee5a6440",
   "metadata": {},
   "source": [
    "#### Platinum-based chemotherapy dosing"
   ]
  },
  {
   "cell_type": "markdown",
   "id": "539dc0d0",
   "metadata": {},
   "source": [
    "#### Carboplatin"
   ]
  },
  {
   "cell_type": "code",
   "execution_count": 283,
   "id": "148fd359",
   "metadata": {},
   "outputs": [],
   "source": [
    "med_order = pd.read_csv('MedicationOrder.csv', low_memory = False)"
   ]
  },
  {
   "cell_type": "code",
   "execution_count": 284,
   "id": "10f966f0",
   "metadata": {},
   "outputs": [],
   "source": [
    "med_order['ExpectedStartDate'] = np.where(med_order['ExpectedStartDate'].isna(), \n",
    "                                          med_order['OrderedDate'], \n",
    "                                          med_order['ExpectedStartDate'])"
   ]
  },
  {
   "cell_type": "code",
   "execution_count": 285,
   "id": "934984ec",
   "metadata": {},
   "outputs": [],
   "source": [
    "med_order.loc[:, 'ExpectedStartDate'] = pd.to_datetime(med_order['ExpectedStartDate'])"
   ]
  },
  {
   "cell_type": "code",
   "execution_count": 286,
   "id": "86b5969e",
   "metadata": {},
   "outputs": [],
   "source": [
    "key_189.loc[:, 'StartDate'] = pd.to_datetime(key_189['StartDate'])"
   ]
  },
  {
   "cell_type": "code",
   "execution_count": 287,
   "id": "c9db74f8",
   "metadata": {},
   "outputs": [],
   "source": [
    "med_order_carb = (\n",
    "    med_order[med_order['PatientID'].isin(key_189.query('carb == 1').PatientID)]\n",
    "    .query('CommonDrugName == \"carboplatin\"')\n",
    ")"
   ]
  },
  {
   "cell_type": "code",
   "execution_count": 288,
   "id": "27158688",
   "metadata": {},
   "outputs": [
    {
     "data": {
      "text/plain": [
       "(176309, 18)"
      ]
     },
     "execution_count": 288,
     "metadata": {},
     "output_type": "execute_result"
    }
   ],
   "source": [
    "med_order_carb.shape"
   ]
  },
  {
   "cell_type": "code",
   "execution_count": 289,
   "id": "74dba64f",
   "metadata": {},
   "outputs": [],
   "source": [
    "med_order_carb = pd.merge(med_order_carb, \n",
    "                          key_189.query('carb == 1')[['PatientID', 'StartDate']], \n",
    "                          on = 'PatientID', \n",
    "                          how = 'left')"
   ]
  },
  {
   "cell_type": "code",
   "execution_count": 290,
   "id": "28ebc083",
   "metadata": {},
   "outputs": [
    {
     "data": {
      "text/plain": [
       "(176309, 19)"
      ]
     },
     "execution_count": 290,
     "metadata": {},
     "output_type": "execute_result"
    }
   ],
   "source": [
    "med_order_carb.shape"
   ]
  },
  {
   "cell_type": "code",
   "execution_count": 291,
   "id": "93acf1a6",
   "metadata": {},
   "outputs": [],
   "source": [
    "med_order_carb.loc[:, 'date_diff'] = (med_order_carb['ExpectedStartDate'] - med_order_carb['StartDate']).dt.days.abs()"
   ]
  },
  {
   "cell_type": "code",
   "execution_count": 292,
   "id": "cd788ca6",
   "metadata": {},
   "outputs": [],
   "source": [
    "med_order_carb = med_order_carb.query('date_diff <= 14')"
   ]
  },
  {
   "cell_type": "code",
   "execution_count": 293,
   "id": "71ddbe79",
   "metadata": {},
   "outputs": [],
   "source": [
    "carb_index = med_order_carb.groupby('PatientID')['date_diff'].idxmin()"
   ]
  },
  {
   "cell_type": "code",
   "execution_count": 294,
   "id": "6bd3595c",
   "metadata": {},
   "outputs": [],
   "source": [
    "carb_dose = med_order_carb.loc[carb_index].query('RelativeOrderedUnits == \"AUC\"')[['PatientID', 'RelativeOrderedAmount']]"
   ]
  },
  {
   "cell_type": "code",
   "execution_count": 295,
   "id": "58a56103",
   "metadata": {},
   "outputs": [],
   "source": [
    "carb_dose = carb_dose.rename(columns = {'RelativeOrderedAmount': 'carb_dose_auc'})"
   ]
  },
  {
   "cell_type": "code",
   "execution_count": 296,
   "id": "4fdd6bdf",
   "metadata": {},
   "outputs": [],
   "source": [
    "carb_IDs = carb_dose.query('carb_dose_auc >= 5').PatientID"
   ]
  },
  {
   "cell_type": "markdown",
   "id": "fb4f253e",
   "metadata": {},
   "source": [
    "#### Cisplatin"
   ]
  },
  {
   "cell_type": "code",
   "execution_count": 297,
   "id": "8ec6d295",
   "metadata": {},
   "outputs": [],
   "source": [
    "med_order_cis = (\n",
    "    med_order[med_order['PatientID'].isin(key_189.query('carb == 0').PatientID)]\n",
    "    .query('CommonDrugName == \"cisplatin\"')\n",
    ")"
   ]
  },
  {
   "cell_type": "code",
   "execution_count": 298,
   "id": "a9373864",
   "metadata": {},
   "outputs": [
    {
     "data": {
      "text/plain": [
       "(10685, 18)"
      ]
     },
     "execution_count": 298,
     "metadata": {},
     "output_type": "execute_result"
    }
   ],
   "source": [
    "med_order_cis.shape"
   ]
  },
  {
   "cell_type": "code",
   "execution_count": 299,
   "id": "1d3a3ff1",
   "metadata": {},
   "outputs": [],
   "source": [
    "med_order_cis = pd.merge(med_order_cis,\n",
    "                         key_189.query('carb == 0')[['PatientID', 'StartDate']], \n",
    "                         on = 'PatientID', \n",
    "                         how = 'left')"
   ]
  },
  {
   "cell_type": "code",
   "execution_count": 300,
   "id": "cceb1f49",
   "metadata": {},
   "outputs": [
    {
     "data": {
      "text/plain": [
       "(10685, 19)"
      ]
     },
     "execution_count": 300,
     "metadata": {},
     "output_type": "execute_result"
    }
   ],
   "source": [
    "med_order_cis.shape"
   ]
  },
  {
   "cell_type": "code",
   "execution_count": 301,
   "id": "00f28d6b",
   "metadata": {},
   "outputs": [],
   "source": [
    "med_order_cis.loc[:, 'date_diff'] = (med_order_cis['ExpectedStartDate'] - med_order_cis['StartDate']).dt.days.abs()"
   ]
  },
  {
   "cell_type": "code",
   "execution_count": 302,
   "id": "acffe7f3",
   "metadata": {},
   "outputs": [],
   "source": [
    "med_order_cis = med_order_cis.query('date_diff <= 14')"
   ]
  },
  {
   "cell_type": "code",
   "execution_count": 303,
   "id": "c39d3cac",
   "metadata": {},
   "outputs": [],
   "source": [
    "cis_index = med_order_cis.groupby('PatientID')['date_diff'].idxmin()"
   ]
  },
  {
   "cell_type": "code",
   "execution_count": 304,
   "id": "90d586dc",
   "metadata": {},
   "outputs": [],
   "source": [
    "cis_dose = med_order_cis.loc[cis_index].query('RelativeOrderedUnits == \"mg/m2\"')[['PatientID', 'RelativeOrderedAmount']]"
   ]
  },
  {
   "cell_type": "code",
   "execution_count": 305,
   "id": "da2a0217",
   "metadata": {},
   "outputs": [],
   "source": [
    "cis_dose = cis_dose.rename(columns = {'RelativeOrderedAmount': 'cis_dose_mgm2'})"
   ]
  },
  {
   "cell_type": "code",
   "execution_count": 306,
   "id": "5c431c2f",
   "metadata": {},
   "outputs": [],
   "source": [
    "cis_IDs = cis_dose.query('cis_dose_mgm2 >= 75').PatientID"
   ]
  },
  {
   "cell_type": "code",
   "execution_count": 307,
   "id": "73317659",
   "metadata": {},
   "outputs": [],
   "source": [
    "key_189 = key_189[key_189['PatientID'].isin(pd.concat([carb_IDs, cis_IDs]))]"
   ]
  },
  {
   "cell_type": "code",
   "execution_count": 308,
   "id": "ef189310",
   "metadata": {},
   "outputs": [],
   "source": [
    "key_189 = key_189.drop(columns = ['carb'])"
   ]
  },
  {
   "cell_type": "code",
   "execution_count": 309,
   "id": "15e466c9",
   "metadata": {},
   "outputs": [
    {
     "data": {
      "text/plain": [
       "(15880, 15880)"
      ]
     },
     "execution_count": 309,
     "metadata": {},
     "output_type": "execute_result"
    }
   ],
   "source": [
    "row_ID(key_189)"
   ]
  },
  {
   "cell_type": "code",
   "execution_count": 310,
   "id": "7c99ac27",
   "metadata": {},
   "outputs": [],
   "source": [
    "key_189 = pd.merge(key_189, df_full, on = 'PatientID', how = 'left')"
   ]
  },
  {
   "cell_type": "code",
   "execution_count": 311,
   "id": "6c576aa8",
   "metadata": {},
   "outputs": [
    {
     "data": {
      "text/plain": [
       "(15880, 15880)"
      ]
     },
     "execution_count": 311,
     "metadata": {},
     "output_type": "execute_result"
    }
   ],
   "source": [
    "row_ID(key_189)"
   ]
  },
  {
   "cell_type": "markdown",
   "id": "a88228f1",
   "metadata": {},
   "source": [
    "#### Time from treatment to death or censor"
   ]
  },
  {
   "cell_type": "code",
   "execution_count": 312,
   "id": "c1e8d5c4",
   "metadata": {},
   "outputs": [],
   "source": [
    "mortality_tr = pd.read_csv('mortality_cleaned_tr.csv')"
   ]
  },
  {
   "cell_type": "code",
   "execution_count": 313,
   "id": "eb139077",
   "metadata": {},
   "outputs": [],
   "source": [
    "mortality_te = pd.read_csv('mortality_cleaned_te.csv')"
   ]
  },
  {
   "cell_type": "code",
   "execution_count": 314,
   "id": "33a76b4a",
   "metadata": {},
   "outputs": [],
   "source": [
    "mortality_tr = mortality_tr[['PatientID', 'death_date', 'last_activity']]"
   ]
  },
  {
   "cell_type": "code",
   "execution_count": 315,
   "id": "2658541b",
   "metadata": {},
   "outputs": [],
   "source": [
    "mortality_te = mortality_te[['PatientID', 'death_date', 'last_activity']]"
   ]
  },
  {
   "cell_type": "code",
   "execution_count": 316,
   "id": "dacc123c",
   "metadata": {},
   "outputs": [
    {
     "name": "stdout",
     "output_type": "stream",
     "text": [
      "68483 True\n"
     ]
    }
   ],
   "source": [
    "mortality = pd.concat([mortality_tr, mortality_te], ignore_index = True)\n",
    "print(len(mortality), mortality.PatientID.is_unique)"
   ]
  },
  {
   "cell_type": "code",
   "execution_count": 317,
   "id": "5c68ef5f",
   "metadata": {},
   "outputs": [],
   "source": [
    "mortality.loc[:, 'last_activity'] = pd.to_datetime(mortality['last_activity'])"
   ]
  },
  {
   "cell_type": "code",
   "execution_count": 318,
   "id": "8ac97087",
   "metadata": {},
   "outputs": [],
   "source": [
    "mortality.loc[:, 'death_date'] = pd.to_datetime(mortality['death_date'])"
   ]
  },
  {
   "cell_type": "code",
   "execution_count": 319,
   "id": "6c67cd6d",
   "metadata": {},
   "outputs": [],
   "source": [
    "key_189 = pd.merge(key_189, mortality, on = 'PatientID', how = 'left')"
   ]
  },
  {
   "cell_type": "code",
   "execution_count": 320,
   "id": "7519c610",
   "metadata": {},
   "outputs": [
    {
     "data": {
      "text/plain": [
       "15880"
      ]
     },
     "execution_count": 320,
     "metadata": {},
     "output_type": "execute_result"
    }
   ],
   "source": [
    "len(key_189)"
   ]
  },
  {
   "cell_type": "code",
   "execution_count": 321,
   "id": "e9adfaf5",
   "metadata": {},
   "outputs": [],
   "source": [
    "conditions = [\n",
    "    (key_189['death_status'] == 1),\n",
    "    (key_189['death_status'] == 0)]\n",
    "\n",
    "choices = [\n",
    "    (key_189['death_date'] - key_189['StartDate']).dt.days,\n",
    "    (key_189['last_activity'] - key_189['StartDate']).dt.days]\n",
    "\n",
    "key_189.loc[:, 'timerisk_treatment'] = np.select(conditions, choices)"
   ]
  },
  {
   "cell_type": "code",
   "execution_count": 322,
   "id": "2dec50fc",
   "metadata": {},
   "outputs": [],
   "source": [
    "key_189 = key_189.query('timerisk_treatment >= 0')"
   ]
  },
  {
   "cell_type": "markdown",
   "id": "466c3fb8",
   "metadata": {},
   "source": [
    "#### Patient count"
   ]
  },
  {
   "cell_type": "code",
   "execution_count": 323,
   "id": "02f50d30",
   "metadata": {},
   "outputs": [],
   "source": [
    "key_189 = (\n",
    "    key_189\n",
    "    .query('EGFR != \"positive\"')\n",
    "    .query('ALK != \"positive\"')\n",
    ")"
   ]
  },
  {
   "cell_type": "code",
   "execution_count": 324,
   "id": "8009871b",
   "metadata": {},
   "outputs": [],
   "source": [
    "low_cutoff_189 = cutoff.loc['keynote_189'].low"
   ]
  },
  {
   "cell_type": "code",
   "execution_count": 325,
   "id": "6d02122f",
   "metadata": {},
   "outputs": [],
   "source": [
    "high_cutoff_189 = cutoff.loc['keynote_189'].high"
   ]
  },
  {
   "cell_type": "code",
   "execution_count": 326,
   "id": "1bf997d8",
   "metadata": {},
   "outputs": [
    {
     "name": "stdout",
     "output_type": "stream",
     "text": [
      "Pembro + chemo total: 4048\n",
      "High risk: 1435\n",
      "Med risk: 1312\n",
      "Low risk: 1301\n"
     ]
    }
   ],
   "source": [
    "print('Pembro + chemo total:',  key_189.query('pembro == 1').shape[0])\n",
    "print('High risk:', key_189.query('pembro == 1').query('risk_score >= @high_cutoff_189').shape[0])\n",
    "print('Med risk:', key_189.query('pembro == 1').query('risk_score < @high_cutoff_189 and risk_score > @low_cutoff_189').shape[0])\n",
    "print('Low risk:', key_189.query('pembro == 1').query('risk_score <= @low_cutoff_189').shape[0])"
   ]
  },
  {
   "cell_type": "code",
   "execution_count": 327,
   "id": "d74792a3",
   "metadata": {},
   "outputs": [
    {
     "name": "stdout",
     "output_type": "stream",
     "text": [
      "Platinum total: 11581\n",
      "High risk: 4106\n",
      "Med risk: 3951\n",
      "Low risk: 3524\n"
     ]
    }
   ],
   "source": [
    "print('Platinum total:',  key_189.query('pembro == 0').shape[0])\n",
    "print('High risk:', key_189.query('pembro == 0').query('risk_score >= @high_cutoff_189').shape[0])\n",
    "print('Med risk:', key_189.query('pembro == 0').query('risk_score < @high_cutoff_189 and risk_score > @low_cutoff_189').shape[0])\n",
    "print('Low risk:', key_189.query('pembro == 0').query('risk_score <= @low_cutoff_189').shape[0])"
   ]
  },
  {
   "cell_type": "markdown",
   "id": "3282df1b",
   "metadata": {},
   "source": [
    "#### Survival curves with covariate balancing"
   ]
  },
  {
   "cell_type": "code",
   "execution_count": 328,
   "id": "8404845f",
   "metadata": {},
   "outputs": [],
   "source": [
    "key_189 = key_189.set_index('PatientID')"
   ]
  },
  {
   "cell_type": "code",
   "execution_count": 329,
   "id": "6d92d733",
   "metadata": {},
   "outputs": [],
   "source": [
    "key_189_iptw = key_189.filter(items = ['death_status',\n",
    "                                       'timerisk_treatment',\n",
    "                                       'pembro',\n",
    "                                       'age',\n",
    "                                       'gender',\n",
    "                                       'race',\n",
    "                                       'PracticeType',\n",
    "                                       'Histology',\n",
    "                                       'adv_year',\n",
    "                                       'delta_adv_diagnosis',\n",
    "                                       'commercial',\n",
    "                                       'medicare',\n",
    "                                       'medicaid',\n",
    "                                       'ecog_diagnosis',\n",
    "                                       'pdl1',\n",
    "                                       'albumin_diag', \n",
    "                                       'weight_pct_change',\n",
    "                                       'risk_score'])"
   ]
  },
  {
   "cell_type": "code",
   "execution_count": 330,
   "id": "97d0a390",
   "metadata": {},
   "outputs": [],
   "source": [
    "key_189_iptw['met_cat'] = pd.cut(key_189_iptw['adv_year'],\n",
    "                                 bins = [2010, 2018, float('inf')],\n",
    "                                 labels = ['11-18', '19-22'])"
   ]
  },
  {
   "cell_type": "code",
   "execution_count": 331,
   "id": "2f611426",
   "metadata": {},
   "outputs": [],
   "source": [
    "conditions = [\n",
    "    ((key_189_iptw['pdl1'] == \"1-49%\") | (key_189_iptw['pdl1'] == \"50-100%\"))]\n",
    "\n",
    "choices = ['>0%']\n",
    "\n",
    "key_189_iptw['pdl1_cat'] = np.select(conditions, choices, default = key_189_iptw['pdl1'])"
   ]
  },
  {
   "cell_type": "code",
   "execution_count": 332,
   "id": "a41501be",
   "metadata": {},
   "outputs": [],
   "source": [
    "conditions = [\n",
    "    ((key_189_iptw['ecog_diagnosis'] == \"1.0\") | (key_189_iptw['ecog_diagnosis'] == \"0.0\")),  \n",
    "    ((key_189_iptw['ecog_diagnosis'] == \"2.0\") | (key_189_iptw['ecog_diagnosis'] == \"3.0\"))\n",
    "]\n",
    "\n",
    "choices = ['lt_2', 'gte_2']\n",
    "\n",
    "key_189_iptw['ecog_2'] = np.select(conditions, choices, default = 'unknown')"
   ]
  },
  {
   "cell_type": "code",
   "execution_count": 333,
   "id": "4491b2e9",
   "metadata": {},
   "outputs": [
    {
     "data": {
      "text/plain": [
       "death_status               bool\n",
       "timerisk_treatment      float64\n",
       "pembro                    int64\n",
       "age                       int64\n",
       "gender                   object\n",
       "race                     object\n",
       "PracticeType             object\n",
       "Histology                object\n",
       "adv_year                  int64\n",
       "delta_adv_diagnosis       int64\n",
       "commercial              float64\n",
       "medicare                float64\n",
       "medicaid                float64\n",
       "ecog_diagnosis           object\n",
       "pdl1                     object\n",
       "albumin_diag            float64\n",
       "weight_pct_change       float64\n",
       "risk_score              float64\n",
       "met_cat                category\n",
       "pdl1_cat                 object\n",
       "ecog_2                   object\n",
       "dtype: object"
      ]
     },
     "execution_count": 333,
     "metadata": {},
     "output_type": "execute_result"
    }
   ],
   "source": [
    "key_189_iptw.dtypes"
   ]
  },
  {
   "cell_type": "code",
   "execution_count": 334,
   "id": "195d0c14",
   "metadata": {},
   "outputs": [],
   "source": [
    "to_be_categorical = list(key_189_iptw.select_dtypes(include = ['object']).columns)"
   ]
  },
  {
   "cell_type": "code",
   "execution_count": 335,
   "id": "42f9796a",
   "metadata": {},
   "outputs": [
    {
     "data": {
      "text/plain": [
       "['gender',\n",
       " 'race',\n",
       " 'PracticeType',\n",
       " 'Histology',\n",
       " 'ecog_diagnosis',\n",
       " 'pdl1',\n",
       " 'pdl1_cat',\n",
       " 'ecog_2']"
      ]
     },
     "execution_count": 335,
     "metadata": {},
     "output_type": "execute_result"
    }
   ],
   "source": [
    "to_be_categorical"
   ]
  },
  {
   "cell_type": "code",
   "execution_count": 336,
   "id": "281eb0c4",
   "metadata": {},
   "outputs": [],
   "source": [
    "to_be_categorical.append('met_cat')"
   ]
  },
  {
   "cell_type": "code",
   "execution_count": 337,
   "id": "99847f4d",
   "metadata": {},
   "outputs": [],
   "source": [
    "to_be_categorical.remove('pdl1')"
   ]
  },
  {
   "cell_type": "code",
   "execution_count": 338,
   "id": "efded404",
   "metadata": {},
   "outputs": [],
   "source": [
    "to_be_categorical.remove('ecog_diagnosis')"
   ]
  },
  {
   "cell_type": "code",
   "execution_count": 339,
   "id": "3b23cbf9",
   "metadata": {},
   "outputs": [],
   "source": [
    "# Convert variables in list to categorical.\n",
    "for x in list(to_be_categorical):\n",
    "    key_189_iptw[x] = key_189_iptw[x].astype('category')"
   ]
  },
  {
   "cell_type": "code",
   "execution_count": 340,
   "id": "72778c5c",
   "metadata": {},
   "outputs": [],
   "source": [
    "# List of numeric variables, excluding binary variables. \n",
    "numerical_features = ['age', 'delta_adv_diagnosis', 'albumin_diag', 'weight_pct_change', 'risk_score']\n",
    "\n",
    "# Transformer will first calculate column median and impute, and then apply a standard scaler. \n",
    "numerical_transformer = Pipeline(steps = [\n",
    "    ('imputer', SimpleImputer(strategy = 'median')),\n",
    "    ('std_scaler', StandardScaler())])"
   ]
  },
  {
   "cell_type": "code",
   "execution_count": 341,
   "id": "03904875",
   "metadata": {},
   "outputs": [],
   "source": [
    "# List of categorical features.\n",
    "categorical_features = list(key_189_iptw.select_dtypes(include = ['category']).columns)\n",
    "\n",
    "# One-hot-encode categorical features.\n",
    "categorical_transformer = OneHotEncoder(handle_unknown = 'ignore')"
   ]
  },
  {
   "cell_type": "code",
   "execution_count": 342,
   "id": "13a084f8",
   "metadata": {},
   "outputs": [],
   "source": [
    "preprocessor = ColumnTransformer(\n",
    "    transformers = [\n",
    "        ('num', numerical_transformer, numerical_features),\n",
    "        ('cat', categorical_transformer, categorical_features)],\n",
    "    remainder = 'passthrough')"
   ]
  },
  {
   "cell_type": "code",
   "execution_count": 343,
   "id": "52fd1079",
   "metadata": {},
   "outputs": [],
   "source": [
    "key_189_iptw_low = (\n",
    "    key_189_iptw\n",
    "    .query('risk_score <= @low_cutoff_189'))\n",
    "\n",
    "key_189_iptw_med = (\n",
    "    key_189_iptw\n",
    "    .query('risk_score < @high_cutoff_189 and risk_score > @low_cutoff_189'))\n",
    "\n",
    "key_189_iptw_high = (\n",
    "    key_189_iptw\n",
    "    .query('risk_score >= @high_cutoff_189'))\n",
    "\n",
    "key_189_iptw_all = key_189_iptw"
   ]
  },
  {
   "cell_type": "code",
   "execution_count": 344,
   "id": "cb1d015e",
   "metadata": {},
   "outputs": [],
   "source": [
    "key_189_low_x = preprocessor.fit_transform(key_189_iptw_low.filter(items = ['age',\n",
    "                                                                            'gender',\n",
    "                                                                            'race',\n",
    "                                                                            'PracticeType',\n",
    "                                                                            'Histology',\n",
    "                                                                            'met_cat',\n",
    "                                                                            'delta_adv_diagnosis',\n",
    "                                                                            'commercial',\n",
    "                                                                            'medicare',\n",
    "                                                                            'medicaid',\n",
    "                                                                            'ecog_2',\n",
    "                                                                            'pdl1_cat', \n",
    "                                                                            'albumin_diag', \n",
    "                                                                            'weight_pct_change', \n",
    "                                                                            'risk_score']))\n",
    "\n",
    "key_189_med_x = preprocessor.fit_transform(key_189_iptw_med.filter(items = ['age',\n",
    "                                                                            'gender',\n",
    "                                                                            'race',\n",
    "                                                                            'PracticeType',\n",
    "                                                                            'Histology',\n",
    "                                                                            'met_cat',\n",
    "                                                                            'delta_adv_diagnosis',\n",
    "                                                                            'commercial',\n",
    "                                                                            'medicare',\n",
    "                                                                            'medicaid',\n",
    "                                                                            'ecog_2',\n",
    "                                                                            'pdl1_cat', \n",
    "                                                                            'albumin_diag', \n",
    "                                                                            'weight_pct_change', \n",
    "                                                                            'risk_score']))\n",
    "\n",
    "key_189_high_x = preprocessor.fit_transform(key_189_iptw_high.filter(items = ['age',\n",
    "                                                                              'gender',\n",
    "                                                                              'race',\n",
    "                                                                              'PracticeType',\n",
    "                                                                              'Histology',\n",
    "                                                                              'met_cat',\n",
    "                                                                              'delta_adv_diagnosis',\n",
    "                                                                              'commercial',\n",
    "                                                                              'medicare',\n",
    "                                                                              'medicaid',\n",
    "                                                                              'ecog_2',\n",
    "                                                                              'pdl1_cat', \n",
    "                                                                              'albumin_diag', \n",
    "                                                                              'weight_pct_change',\n",
    "                                                                              'risk_score']))\n",
    "\n",
    "key_189_all_x = preprocessor.fit_transform(key_189_iptw_all.filter(items = ['age',\n",
    "                                                                            'gender',\n",
    "                                                                            'race',\n",
    "                                                                            'PracticeType',\n",
    "                                                                            'Histology',\n",
    "                                                                            'met_cat',\n",
    "                                                                            'delta_adv_diagnosis',\n",
    "                                                                            'commercial',\n",
    "                                                                            'medicare',\n",
    "                                                                            'medicaid',\n",
    "                                                                            'ecog_2',\n",
    "                                                                            'pdl1_cat', \n",
    "                                                                            'albumin_diag', \n",
    "                                                                            'weight_pct_change',\n",
    "                                                                            'risk_score']))"
   ]
  },
  {
   "cell_type": "code",
   "execution_count": 345,
   "id": "58c4472f",
   "metadata": {},
   "outputs": [
    {
     "data": {
      "text/plain": [
       "LogisticRegression(max_iter=1000)"
      ]
     },
     "execution_count": 345,
     "metadata": {},
     "output_type": "execute_result"
    }
   ],
   "source": [
    "lr_189_low = LogisticRegression(max_iter = 1000)\n",
    "lr_189_low.fit(key_189_low_x, key_189_iptw_low['pembro'])"
   ]
  },
  {
   "cell_type": "code",
   "execution_count": 346,
   "id": "2d553c7b",
   "metadata": {},
   "outputs": [
    {
     "data": {
      "text/plain": [
       "LogisticRegression(max_iter=1000)"
      ]
     },
     "execution_count": 346,
     "metadata": {},
     "output_type": "execute_result"
    }
   ],
   "source": [
    "lr_189_med = LogisticRegression(max_iter = 1000)\n",
    "lr_189_med.fit(key_189_med_x, key_189_iptw_med['pembro'])"
   ]
  },
  {
   "cell_type": "code",
   "execution_count": 347,
   "id": "66f5aa5b",
   "metadata": {},
   "outputs": [
    {
     "data": {
      "text/plain": [
       "LogisticRegression(max_iter=1000)"
      ]
     },
     "execution_count": 347,
     "metadata": {},
     "output_type": "execute_result"
    }
   ],
   "source": [
    "lr_189_high = LogisticRegression(max_iter = 1000)\n",
    "lr_189_high.fit(key_189_high_x, key_189_iptw_high['pembro'])"
   ]
  },
  {
   "cell_type": "code",
   "execution_count": 348,
   "id": "834b6bde",
   "metadata": {},
   "outputs": [
    {
     "data": {
      "text/plain": [
       "LogisticRegression(max_iter=1000)"
      ]
     },
     "execution_count": 348,
     "metadata": {},
     "output_type": "execute_result"
    }
   ],
   "source": [
    "lr_189_all = LogisticRegression(max_iter = 1000)\n",
    "lr_189_all.fit(key_189_all_x, key_189_iptw_all['pembro'])"
   ]
  },
  {
   "cell_type": "code",
   "execution_count": 349,
   "id": "019571f7",
   "metadata": {},
   "outputs": [],
   "source": [
    "pred_low = lr_189_low.predict_proba(key_189_low_x)\n",
    "pred_med = lr_189_med.predict_proba(key_189_med_x)\n",
    "pred_high = lr_189_high.predict_proba(key_189_high_x)\n",
    "pred_all = lr_189_all.predict_proba(key_189_all_x)"
   ]
  },
  {
   "cell_type": "code",
   "execution_count": 350,
   "id": "5e05202f",
   "metadata": {},
   "outputs": [],
   "source": [
    "key_189_iptw_low['ps'] = pred_low[:, 1]\n",
    "key_189_iptw_med['ps'] = pred_med[:, 1]\n",
    "key_189_iptw_high['ps'] = pred_high[:, 1]\n",
    "key_189_iptw_all['ps'] = pred_all[:, 1]"
   ]
  },
  {
   "cell_type": "code",
   "execution_count": 351,
   "id": "a100ac6e",
   "metadata": {},
   "outputs": [],
   "source": [
    "key_189_iptw_low['weight'] = (\n",
    "    np.where(key_189_iptw_low['pembro'] == 1, 1/key_189_iptw_low['ps'], 1/(1 - key_189_iptw_low['ps'])))\n",
    "\n",
    "key_189_iptw_med['weight'] = (\n",
    "    np.where(key_189_iptw_med['pembro'] == 1, 1/key_189_iptw_med['ps'], 1/(1 - key_189_iptw_med['ps'])))\n",
    "\n",
    "key_189_iptw_high['weight'] = (\n",
    "    np.where(key_189_iptw_high['pembro'] == 1, 1/key_189_iptw_high['ps'], 1/(1 - key_189_iptw_high['ps'])))\n",
    "\n",
    "key_189_iptw_all['weight'] = (\n",
    "    np.where(key_189_iptw_all['pembro'] == 1, 1/key_189_iptw_all['ps'], 1/(1 - key_189_iptw_all['ps'])))"
   ]
  },
  {
   "cell_type": "code",
   "execution_count": 352,
   "id": "066d28fb",
   "metadata": {},
   "outputs": [
    {
     "data": {
      "text/plain": [
       "<lifelines.KaplanMeierFitter:\"KM_estimate\", fitted with 17164.6 total observations, 4765.47 right-censored observations>"
      ]
     },
     "execution_count": 352,
     "metadata": {},
     "output_type": "execute_result"
    }
   ],
   "source": [
    "# Low KM curves\n",
    "kmf_low_pembro_189_iptw = KaplanMeierFitter()\n",
    "kmf_low_plat_189_iptw = KaplanMeierFitter()\n",
    "\n",
    "kmf_low_pembro_189_iptw.fit(\n",
    "    key_189_iptw_low.query('pembro == 1').timerisk_treatment/30,\n",
    "    key_189_iptw_low.query('pembro == 1').death_status,\n",
    "    weights = key_189_iptw_low.query('pembro == 1')['weight'])\n",
    "\n",
    "kmf_low_plat_189_iptw.fit(\n",
    "    key_189_iptw_low.query('pembro == 0').timerisk_treatment/30,\n",
    "    key_189_iptw_low.query('pembro == 0').death_status,\n",
    "    weights = key_189_iptw_low.query('pembro == 0')['weight'])\n",
    "\n",
    "# Med KM curves\n",
    "kmf_med_pembro_189_iptw = KaplanMeierFitter()\n",
    "kmf_med_plat_189_iptw = KaplanMeierFitter()\n",
    "\n",
    "kmf_med_pembro_189_iptw.fit(\n",
    "    key_189_iptw_med.query('pembro == 1').timerisk_treatment/30,\n",
    "    key_189_iptw_med.query('pembro == 1').death_status,\n",
    "    weights = key_189_iptw_med.query('pembro == 1')['weight'])\n",
    "\n",
    "kmf_med_plat_189_iptw.fit(\n",
    "    key_189_iptw_med.query('pembro == 0').timerisk_treatment/30,\n",
    "    key_189_iptw_med.query('pembro == 0').death_status,\n",
    "    weights = key_189_iptw_med.query('pembro == 0')['weight'])\n",
    "\n",
    "# High KM curves \n",
    "kmf_high_pembro_189_iptw = KaplanMeierFitter()\n",
    "kmf_high_plat_189_iptw = KaplanMeierFitter()\n",
    "\n",
    "kmf_high_pembro_189_iptw.fit(\n",
    "    key_189_iptw_high.query('pembro == 1').timerisk_treatment/30,\n",
    "    key_189_iptw_high.query('pembro == 1').death_status,\n",
    "    weights = key_189_iptw_high.query('pembro == 1')['weight'])\n",
    "\n",
    "kmf_high_plat_189_iptw.fit(\n",
    "    key_189_iptw_high.query('pembro == 0').timerisk_treatment/30,\n",
    "    key_189_iptw_high.query('pembro == 0').death_status,\n",
    "    weights = key_189_iptw_high.query('pembro == 0')['weight'])\n",
    "\n",
    "# All KM curves \n",
    "kmf_all_pembro_189_iptw = KaplanMeierFitter()\n",
    "kmf_all_plat_189_iptw = KaplanMeierFitter()\n",
    "\n",
    "kmf_all_pembro_189_iptw.fit(\n",
    "    key_189_iptw_all.query('pembro == 1').timerisk_treatment/30,\n",
    "    key_189_iptw_all.query('pembro == 1').death_status,\n",
    "    weights = key_189_iptw_all.query('pembro == 1')['weight'])\n",
    "\n",
    "kmf_all_plat_189_iptw.fit(\n",
    "    key_189_iptw_all.query('pembro == 0').timerisk_treatment/30,\n",
    "    key_189_iptw_all.query('pembro == 0').death_status,\n",
    "    weights = key_189_iptw_all.query('pembro == 0')['weight'])"
   ]
  },
  {
   "cell_type": "markdown",
   "id": "6f2969cb",
   "metadata": {},
   "source": [
    "#### Calculating survival metrics"
   ]
  },
  {
   "cell_type": "code",
   "execution_count": 353,
   "id": "e2097673",
   "metadata": {},
   "outputs": [],
   "source": [
    "pembro_189_median_os = mos(kmf_low_pembro_189_iptw,\n",
    "                           kmf_med_pembro_189_iptw,\n",
    "                           kmf_high_pembro_189_iptw,\n",
    "                           kmf_all_pembro_189_iptw)\n",
    "\n",
    "plat_189_median_os = mos(kmf_low_plat_189_iptw,\n",
    "                         kmf_med_plat_189_iptw,\n",
    "                         kmf_high_plat_189_iptw,\n",
    "                         kmf_all_plat_189_iptw)"
   ]
  },
  {
   "cell_type": "code",
   "execution_count": 354,
   "id": "846edea3",
   "metadata": {},
   "outputs": [],
   "source": [
    "key_189_iptw_all_imputed = key_189_iptw_all.copy()\n",
    "key_189_iptw_all_imputed['albumin_diag'] = key_189_iptw_all_imputed['albumin_diag'].fillna(key_189_iptw_all_imputed['albumin_diag'].median())\n",
    "key_189_iptw_all_imputed['weight_pct_change'] = key_189_iptw_all_imputed['weight_pct_change'].fillna(key_189_iptw_all_imputed['weight_pct_change'].median())"
   ]
  },
  {
   "cell_type": "code",
   "execution_count": 355,
   "id": "30381ef9",
   "metadata": {},
   "outputs": [
    {
     "data": {
      "text/plain": [
       "<lifelines.CoxPHFitter: fitted with 31131.6 total observations, 9999.32 right-censored observations>"
      ]
     },
     "execution_count": 355,
     "metadata": {},
     "output_type": "execute_result"
    }
   ],
   "source": [
    "key189_hr_all = CoxPHFitter()\n",
    "key189_hr_all.fit(key_189_iptw_all_imputed,\n",
    "                  duration_col = 'timerisk_treatment',\n",
    "                  event_col = 'death_status',\n",
    "                  formula = 'pembro + age + gender + race + PracticeType + Histology + met_cat + delta_adv_diagnosis + commercial + medicare + medicaid + ecog_2 + pdl1_cat + albumin_diag + weight_pct_change + risk_score',\n",
    "                  weights_col = 'weight',\n",
    "                  robust = True)"
   ]
  },
  {
   "cell_type": "code",
   "execution_count": 356,
   "id": "c3563453",
   "metadata": {},
   "outputs": [],
   "source": [
    "key189_all_rmst_mos_95 = rmst_mos_95ci(key_189_iptw_all,\n",
    "                                       1000,\n",
    "                                       'pembro',\n",
    "                                       'death',\n",
    "                                       ['age',\n",
    "                                        'gender',\n",
    "                                        'race',\n",
    "                                        'PracticeType',\n",
    "                                        'Histology',\n",
    "                                        'met_cat',\n",
    "                                        'delta_adv_diagnosis',\n",
    "                                        'commercial',\n",
    "                                        'medicare',\n",
    "                                        'medicaid',\n",
    "                                        'ecog_2',\n",
    "                                        'pdl1_cat', \n",
    "                                        'albumin_diag', \n",
    "                                        'weight_pct_change',\n",
    "                                        'risk_score'],\n",
    "                                       ['age', 'delta_adv_diagnosis', 'albumin_diag', 'weight_pct_change', 'risk_score'],\n",
    "                                       36)"
   ]
  },
  {
   "cell_type": "code",
   "execution_count": 357,
   "id": "ecbf2433",
   "metadata": {},
   "outputs": [],
   "source": [
    "key189_low_rmst_mos_95 = rmst_mos_95ci(key_189_iptw_low,\n",
    "                                       1000,\n",
    "                                       'pembro',\n",
    "                                       'death',\n",
    "                                       ['age',\n",
    "                                        'gender',\n",
    "                                        'race',\n",
    "                                        'PracticeType',\n",
    "                                        'Histology',\n",
    "                                        'met_cat',\n",
    "                                        'delta_adv_diagnosis',\n",
    "                                        'commercial',\n",
    "                                        'medicare',\n",
    "                                        'medicaid',\n",
    "                                        'ecog_2',\n",
    "                                        'pdl1_cat', \n",
    "                                        'albumin_diag', \n",
    "                                        'weight_pct_change',\n",
    "                                        'risk_score'],\n",
    "                                       ['age', 'delta_adv_diagnosis', 'albumin_diag', 'weight_pct_change', 'risk_score'],\n",
    "                                       36)"
   ]
  },
  {
   "cell_type": "code",
   "execution_count": 358,
   "id": "d9eb6dc1",
   "metadata": {},
   "outputs": [],
   "source": [
    "key189_med_rmst_mos_95 = rmst_mos_95ci(key_189_iptw_med,\n",
    "                                       1000,\n",
    "                                       'pembro',\n",
    "                                       'death',\n",
    "                                       ['age',\n",
    "                                        'gender',\n",
    "                                        'race',\n",
    "                                        'PracticeType',\n",
    "                                        'Histology',\n",
    "                                        'met_cat',\n",
    "                                        'delta_adv_diagnosis',\n",
    "                                        'commercial',\n",
    "                                        'medicare',\n",
    "                                        'medicaid',\n",
    "                                        'ecog_2',\n",
    "                                        'pdl1_cat', \n",
    "                                        'albumin_diag', \n",
    "                                        'weight_pct_change',\n",
    "                                        'risk_score'],\n",
    "                                       ['age', 'delta_adv_diagnosis', 'albumin_diag', 'weight_pct_change', 'risk_score'],\n",
    "                                       36)"
   ]
  },
  {
   "cell_type": "code",
   "execution_count": 359,
   "id": "35fc6137",
   "metadata": {},
   "outputs": [],
   "source": [
    "key189_high_rmst_mos_95 = rmst_mos_95ci(key_189_iptw_high,\n",
    "                                       1000,\n",
    "                                       'pembro',\n",
    "                                       'death',\n",
    "                                       ['age',\n",
    "                                        'gender',\n",
    "                                        'race',\n",
    "                                        'PracticeType',\n",
    "                                        'Histology',\n",
    "                                        'met_cat',\n",
    "                                        'delta_adv_diagnosis',\n",
    "                                        'commercial',\n",
    "                                        'medicare',\n",
    "                                        'medicaid',\n",
    "                                        'ecog_2',\n",
    "                                        'pdl1_cat', \n",
    "                                        'albumin_diag', \n",
    "                                        'weight_pct_change',\n",
    "                                        'risk_score'],\n",
    "                                       ['age', 'delta_adv_diagnosis', 'albumin_diag', 'weight_pct_change', 'risk_score'],\n",
    "                                       36)"
   ]
  },
  {
   "cell_type": "code",
   "execution_count": 360,
   "id": "2f1f910c",
   "metadata": {},
   "outputs": [],
   "source": [
    "keynote_189_data = [\n",
    "    {'trial_name': 'KEYNOTE-189', \n",
    "     'risk_group': 'low', \n",
    "     'r_trt_mos': pembro_189_median_os[0],\n",
    "     'r_trt_mos_95': key189_low_rmst_mos_95.mos_A_95,\n",
    "     'r_cont_mos': plat_189_median_os[0],\n",
    "     'r_cont_mos_95': key189_low_rmst_mos_95.mos_B_95,\n",
    "     'r_mos_diff': pembro_189_median_os[0] - plat_189_median_os[0], \n",
    "     'rct_trt_arm': 22.0, \n",
    "     'rct_cont_arm': 10.6,\n",
    "     'rct_mos_diff': 22.0-10.6, \n",
    "     'trt_rmst': restricted_mean_survival_time(kmf_low_pembro_189_iptw, 36),\n",
    "     'trt_rmst_95': key189_low_rmst_mos_95.rmst_A_95,\n",
    "     'cont_rmst': restricted_mean_survival_time(kmf_low_plat_189_iptw, 36),\n",
    "     'cont_rmst_95': key189_low_rmst_mos_95.rmst_B_95,\n",
    "     'diff_rmst': restricted_mean_survival_time(kmf_low_pembro_189_iptw, 36) - restricted_mean_survival_time(kmf_low_plat_189_iptw, 36),\n",
    "     'diff_rmst_95': key189_low_rmst_mos_95.difference_rmst_95,\n",
    "     'rcount': key_189.query('risk_score <= @low_cutoff_189').shape[0],\n",
    "     'rcount_chemo': key_189.query('risk_score <= @low_cutoff_189').query('pembro == 0').shape[0]},\n",
    "    \n",
    "    {'trial_name': 'KEYNOTE-189', \n",
    "     'risk_group': 'medium', \n",
    "     'r_trt_mos': pembro_189_median_os[1],\n",
    "     'r_trt_mos_95': key189_med_rmst_mos_95.mos_A_95,\n",
    "     'r_cont_mos': plat_189_median_os[1],\n",
    "     'r_cont_mos_95': key189_med_rmst_mos_95.mos_B_95,\n",
    "     'r_mos_diff': pembro_189_median_os[1] - plat_189_median_os[1], \n",
    "     'rct_trt_arm': 22.0, \n",
    "     'rct_cont_arm': 10.6,\n",
    "     'rct_mos_diff': 22.0-10.6, \n",
    "     'trt_rmst': restricted_mean_survival_time(kmf_med_pembro_189_iptw, 36),\n",
    "     'trt_rmst_95': key189_med_rmst_mos_95.rmst_A_95,\n",
    "     'cont_rmst': restricted_mean_survival_time(kmf_med_plat_189_iptw, 36),\n",
    "     'cont_rmst_95': key189_med_rmst_mos_95.rmst_B_95,\n",
    "     'diff_rmst': restricted_mean_survival_time(kmf_med_pembro_189_iptw, 36) - restricted_mean_survival_time(kmf_med_plat_189_iptw, 36),\n",
    "     'diff_rmst_95': key189_med_rmst_mos_95.difference_rmst_95,\n",
    "     'rcount': key_189.query('risk_score < @high_cutoff_189 and risk_score > @low_cutoff_189').shape[0],\n",
    "     'rcount_chemo': key_189.query('risk_score < @high_cutoff_189 and risk_score > @low_cutoff_189').query('pembro == 0').shape[0]},\n",
    "    \n",
    "    {'trial_name': 'KEYNOTE-189', \n",
    "     'risk_group': 'high', \n",
    "     'r_trt_mos': pembro_189_median_os[2],\n",
    "     'r_trt_mos_95': key189_high_rmst_mos_95.mos_A_95,\n",
    "     'r_cont_mos': plat_189_median_os[2],\n",
    "     'r_cont_mos_95': key189_high_rmst_mos_95.mos_B_95,\n",
    "     'r_mos_diff': pembro_189_median_os[2] - plat_189_median_os[2], \n",
    "     'rct_trt_arm': 22.0, \n",
    "     'rct_cont_arm': 10.6,\n",
    "     'rct_mos_diff': 22.0-10.6, \n",
    "     'trt_rmst': restricted_mean_survival_time(kmf_high_pembro_189_iptw, 36),\n",
    "     'trt_rmst_95': key189_high_rmst_mos_95.rmst_A_95,\n",
    "     'cont_rmst': restricted_mean_survival_time(kmf_high_plat_189_iptw, 36),\n",
    "     'cont_rmst_95': key189_high_rmst_mos_95.rmst_B_95,\n",
    "     'diff_rmst': restricted_mean_survival_time(kmf_high_pembro_189_iptw, 36) - restricted_mean_survival_time(kmf_high_plat_189_iptw, 36),\n",
    "     'diff_rmst_95': key189_high_rmst_mos_95.difference_rmst_95,\n",
    "     'rcount': key_189.query('risk_score >= @high_cutoff_189').shape[0],\n",
    "     'rcount_chemo': key_189.query('risk_score >= @high_cutoff_189').query('pembro == 0').shape[0]},\n",
    "    \n",
    "    {'trial_name': 'KEYNOTE-189', \n",
    "     'risk_group': 'all', \n",
    "     'r_hr': key189_hr_all.hazard_ratios_['pembro'],\n",
    "     'r_hr_95': [key189_hr_all.summary.loc['pembro']['exp(coef) lower 95%'], key189_hr_all.summary.loc['pembro']['exp(coef) upper 95%']],\n",
    "     'r_trt_mos': pembro_189_median_os[3],\n",
    "     'r_trt_mos_95': key189_all_rmst_mos_95.mos_A_95,\n",
    "     'r_cont_mos': plat_189_median_os[3],\n",
    "     'r_cont_mos_95': key189_all_rmst_mos_95.mos_B_95,\n",
    "     'r_mos_diff': pembro_189_median_os[3] - plat_189_median_os[3], \n",
    "     'rct_trt_arm': 22.0, \n",
    "     'rct_cont_arm': 10.6,\n",
    "     'rct_mos_diff': 22.0-10.6, \n",
    "     'rcount': key_189.shape[0], \n",
    "     'rcount_chemo': key_189.query('pembro == 0').shape[0]}\n",
    "]"
   ]
  },
  {
   "cell_type": "markdown",
   "id": "f19ba82f",
   "metadata": {},
   "source": [
    "### CHECKMATE-078: Second-line nivolumab vs. docetaxel\n",
    "\n",
    "**INCLUSION CRITERIA**\n",
    "* Advanced or metastatic NSCLC \n",
    "* Progressed on first line platinum-based chemotherapy \n",
    "* Received second line nivolumab or docetaxel\n",
    "* Received appropriate dose of docetaxel\n",
    "* Prior treatments with docetaxel or immunotherapy contraindicated\n",
    "* EGFR and ALK negative "
   ]
  },
  {
   "cell_type": "markdown",
   "id": "4ec99a7d",
   "metadata": {},
   "source": [
    "#### Nivolumab "
   ]
  },
  {
   "cell_type": "code",
   "execution_count": 361,
   "id": "2e94f33a",
   "metadata": {},
   "outputs": [
    {
     "data": {
      "text/plain": [
       "68483"
      ]
     },
     "execution_count": 361,
     "metadata": {},
     "output_type": "execute_result"
    }
   ],
   "source": [
    "df_full = pd.read_csv('df_risk_crude.csv', index_col = 'PatientID', dtype = {'death_status': bool})\n",
    "df_full.index.nunique()"
   ]
  },
  {
   "cell_type": "code",
   "execution_count": 362,
   "id": "ea4438cf",
   "metadata": {},
   "outputs": [],
   "source": [
    "line_therapy = pd.read_csv('LineOfTherapy.csv')"
   ]
  },
  {
   "cell_type": "code",
   "execution_count": 363,
   "id": "8540b5c7",
   "metadata": {},
   "outputs": [],
   "source": [
    "line_therapy_fl = (\n",
    "    line_therapy[line_therapy.PatientID.isin(df_full.index)]\n",
    "    .query('LineNumber == 1')\n",
    "    .query('IsMaintenanceTherapy == False')\n",
    ")"
   ]
  },
  {
   "cell_type": "code",
   "execution_count": 364,
   "id": "21e6e560",
   "metadata": {},
   "outputs": [],
   "source": [
    "targeted = [\n",
    "    'Afatinib',\n",
    "    'Alectinib',\n",
    "    'Brigatinib',\n",
    "    'Cabozantinib',\n",
    "    'Capmatinib',\n",
    "    'Ceritinib',\n",
    "    'Crizotinib',\n",
    "    'Dabrafenib',\n",
    "    'Dacomitinib',\n",
    "    'Entrectinib',\n",
    "    'Erlotinib',\n",
    "    'Gefitinib',\n",
    "    'Lorlatinib',\n",
    "    'Osimertinib',\n",
    "    'Pralsetinib',\n",
    "    'Selpercatinib',\n",
    "    'Sotorasib',\n",
    "    'Tepotinib',\n",
    "    'Trametinib',\n",
    "    'Vandetanib']"
   ]
  },
  {
   "cell_type": "code",
   "execution_count": 365,
   "id": "347ad7a0",
   "metadata": {},
   "outputs": [],
   "source": [
    "immunotherapy = [\n",
    "    'Atezolizumab',\n",
    "    'Cemiplimab',\n",
    "    'Durvalumab',\n",
    "    'Ipilimumab',\n",
    "    'Nivolumab',\n",
    "    'Pembrolizumab'\n",
    "]"
   ]
  },
  {
   "cell_type": "code",
   "execution_count": 366,
   "id": "a568410f",
   "metadata": {},
   "outputs": [],
   "source": [
    "fl_plat = (\n",
    "    line_therapy_fl\n",
    "    [line_therapy_fl['LineName'].str.contains('Carboplatin|Cisplatin')\n",
    "     & ~line_therapy_fl['LineName'].str.contains('Docetaxel')\n",
    "     & ~line_therapy_fl['LineName'].str.contains('|'.join(targeted))\n",
    "     & ~line_therapy_fl['LineName'].str.contains('|'.join(immunotherapy))]\n",
    "    .PatientID\n",
    ")"
   ]
  },
  {
   "cell_type": "code",
   "execution_count": 367,
   "id": "87a9805f",
   "metadata": {},
   "outputs": [],
   "source": [
    "checkmate_nivo = (\n",
    "    line_therapy[line_therapy.PatientID.isin(fl_plat)]\n",
    "    .query('LineNumber == 2')\n",
    "    .query('LineName == \"Nivolumab\"')\n",
    "    [['PatientID', 'StartDate']]\n",
    ")"
   ]
  },
  {
   "cell_type": "code",
   "execution_count": 368,
   "id": "564ef042",
   "metadata": {},
   "outputs": [],
   "source": [
    "checkmate_nivo.loc[:, 'nivo'] = 1"
   ]
  },
  {
   "cell_type": "code",
   "execution_count": 369,
   "id": "41e6f7d1",
   "metadata": {},
   "outputs": [
    {
     "data": {
      "text/plain": [
       "(3397, 3397)"
      ]
     },
     "execution_count": 369,
     "metadata": {},
     "output_type": "execute_result"
    }
   ],
   "source": [
    "row_ID(checkmate_nivo)"
   ]
  },
  {
   "cell_type": "markdown",
   "id": "00552283",
   "metadata": {},
   "source": [
    "#### Docetaxel"
   ]
  },
  {
   "cell_type": "code",
   "execution_count": 370,
   "id": "d2a97f0e",
   "metadata": {},
   "outputs": [],
   "source": [
    "checkmate_dotx = (\n",
    "    line_therapy[line_therapy.PatientID.isin(fl_plat)]\n",
    "    .query('LineNumber == 2')\n",
    "    .query('LineName == \"Docetaxel\"')\n",
    "    [['PatientID', 'StartDate']]\n",
    ")"
   ]
  },
  {
   "cell_type": "code",
   "execution_count": 371,
   "id": "1a0428d0",
   "metadata": {},
   "outputs": [],
   "source": [
    "checkmate_dotx.loc[:, 'nivo'] = 0"
   ]
  },
  {
   "cell_type": "code",
   "execution_count": 372,
   "id": "0e3208e1",
   "metadata": {},
   "outputs": [
    {
     "data": {
      "text/plain": [
       "(745, 745)"
      ]
     },
     "execution_count": 372,
     "metadata": {},
     "output_type": "execute_result"
    }
   ],
   "source": [
    "row_ID(checkmate_dotx)"
   ]
  },
  {
   "cell_type": "markdown",
   "id": "c94b4cf2",
   "metadata": {},
   "source": [
    "#### Docetaxel dosing"
   ]
  },
  {
   "cell_type": "code",
   "execution_count": 373,
   "id": "82d1a5b7",
   "metadata": {},
   "outputs": [],
   "source": [
    "med_order = pd.read_csv('MedicationOrder.csv', low_memory = False)"
   ]
  },
  {
   "cell_type": "code",
   "execution_count": 374,
   "id": "d6a61940",
   "metadata": {},
   "outputs": [],
   "source": [
    "med_order['ExpectedStartDate'] = np.where(med_order['ExpectedStartDate'].isna(), \n",
    "                                          med_order['OrderedDate'], \n",
    "                                          med_order['ExpectedStartDate'])"
   ]
  },
  {
   "cell_type": "code",
   "execution_count": 375,
   "id": "890ff707",
   "metadata": {},
   "outputs": [],
   "source": [
    "med_order.loc[:, 'ExpectedStartDate'] = pd.to_datetime(med_order['ExpectedStartDate'])"
   ]
  },
  {
   "cell_type": "code",
   "execution_count": 376,
   "id": "78d5cf71",
   "metadata": {},
   "outputs": [],
   "source": [
    "checkmate_dotx.loc[:, 'StartDate'] = pd.to_datetime(checkmate_dotx['StartDate'])"
   ]
  },
  {
   "cell_type": "code",
   "execution_count": 377,
   "id": "0a5c7adb",
   "metadata": {},
   "outputs": [],
   "source": [
    "med_order_dotx = (\n",
    "    med_order[med_order['PatientID'].isin(checkmate_dotx.PatientID)]\n",
    "    .query('CommonDrugName == \"docetaxel\"')\n",
    ")"
   ]
  },
  {
   "cell_type": "code",
   "execution_count": 378,
   "id": "2ceb652e",
   "metadata": {},
   "outputs": [
    {
     "data": {
      "text/plain": [
       "(4537, 18)"
      ]
     },
     "execution_count": 378,
     "metadata": {},
     "output_type": "execute_result"
    }
   ],
   "source": [
    "med_order_dotx.shape"
   ]
  },
  {
   "cell_type": "code",
   "execution_count": 379,
   "id": "5cf1e0a9",
   "metadata": {},
   "outputs": [],
   "source": [
    "med_order_dotx = pd.merge(med_order_dotx, \n",
    "                          checkmate_dotx[['PatientID', 'StartDate']], \n",
    "                          on = 'PatientID', \n",
    "                          how = 'left')"
   ]
  },
  {
   "cell_type": "code",
   "execution_count": 380,
   "id": "97b5b55e",
   "metadata": {},
   "outputs": [
    {
     "data": {
      "text/plain": [
       "(4537, 19)"
      ]
     },
     "execution_count": 380,
     "metadata": {},
     "output_type": "execute_result"
    }
   ],
   "source": [
    "med_order_dotx.shape"
   ]
  },
  {
   "cell_type": "code",
   "execution_count": 381,
   "id": "d11a48ec",
   "metadata": {},
   "outputs": [],
   "source": [
    "med_order_dotx.loc[:, 'date_diff'] = (med_order_dotx['ExpectedStartDate'] - med_order_dotx['StartDate']).dt.days.abs()"
   ]
  },
  {
   "cell_type": "code",
   "execution_count": 382,
   "id": "4f94b145",
   "metadata": {},
   "outputs": [],
   "source": [
    "med_order_dotx = med_order_dotx.query('date_diff <= 14')"
   ]
  },
  {
   "cell_type": "code",
   "execution_count": 383,
   "id": "b61b4be6",
   "metadata": {},
   "outputs": [],
   "source": [
    "dotx_index = med_order_dotx.groupby('PatientID')['date_diff'].idxmin()"
   ]
  },
  {
   "cell_type": "code",
   "execution_count": 384,
   "id": "189a4280",
   "metadata": {},
   "outputs": [],
   "source": [
    "dotx_dose = med_order_dotx.loc[dotx_index].query('RelativeOrderedUnits == \"mg/m2\"')[['PatientID', 'RelativeOrderedAmount']]"
   ]
  },
  {
   "cell_type": "code",
   "execution_count": 385,
   "id": "317cd396",
   "metadata": {},
   "outputs": [],
   "source": [
    "dotx_dose = dotx_dose.rename(columns = {'RelativeOrderedAmount': 'dotx_dose_mgm2'})"
   ]
  },
  {
   "cell_type": "code",
   "execution_count": 386,
   "id": "59b85119",
   "metadata": {},
   "outputs": [],
   "source": [
    "dotx_IDs = dotx_dose.query('dotx_dose_mgm2 >= 75').PatientID"
   ]
  },
  {
   "cell_type": "code",
   "execution_count": 387,
   "id": "b0018a65",
   "metadata": {},
   "outputs": [],
   "source": [
    "checkmate_dotx = checkmate_dotx[checkmate_dotx['PatientID'].isin(dotx_IDs)]"
   ]
  },
  {
   "cell_type": "markdown",
   "id": "87721f1d",
   "metadata": {},
   "source": [
    "#### Combining docetaxel and nivolumab dataframes "
   ]
  },
  {
   "cell_type": "code",
   "execution_count": 388,
   "id": "64ac5028",
   "metadata": {},
   "outputs": [],
   "source": [
    "checkmate = pd.concat([checkmate_nivo, checkmate_dotx])"
   ]
  },
  {
   "cell_type": "code",
   "execution_count": 389,
   "id": "d22a206e",
   "metadata": {},
   "outputs": [
    {
     "data": {
      "text/plain": [
       "(3854, 3854)"
      ]
     },
     "execution_count": 389,
     "metadata": {},
     "output_type": "execute_result"
    }
   ],
   "source": [
    "row_ID(checkmate)"
   ]
  },
  {
   "cell_type": "code",
   "execution_count": 390,
   "id": "2a567a3b",
   "metadata": {},
   "outputs": [],
   "source": [
    "checkmate = pd.merge(checkmate, df_full, on = 'PatientID', how = 'left')"
   ]
  },
  {
   "cell_type": "code",
   "execution_count": 391,
   "id": "1b45fcc4",
   "metadata": {},
   "outputs": [
    {
     "data": {
      "text/plain": [
       "(3854, 3854)"
      ]
     },
     "execution_count": 391,
     "metadata": {},
     "output_type": "execute_result"
    }
   ],
   "source": [
    "row_ID(checkmate)"
   ]
  },
  {
   "cell_type": "code",
   "execution_count": 392,
   "id": "3250cdcd",
   "metadata": {},
   "outputs": [],
   "source": [
    "checkmate['StartDate'] = pd.to_datetime(checkmate['StartDate'])"
   ]
  },
  {
   "cell_type": "markdown",
   "id": "36bbdbf0",
   "metadata": {},
   "source": [
    "#### Time from treatment to death or censor "
   ]
  },
  {
   "cell_type": "code",
   "execution_count": 393,
   "id": "080df03b",
   "metadata": {},
   "outputs": [],
   "source": [
    "mortality_tr = pd.read_csv('mortality_cleaned_tr.csv')"
   ]
  },
  {
   "cell_type": "code",
   "execution_count": 394,
   "id": "c6cc6825",
   "metadata": {},
   "outputs": [],
   "source": [
    "mortality_te = pd.read_csv('mortality_cleaned_te.csv')"
   ]
  },
  {
   "cell_type": "code",
   "execution_count": 395,
   "id": "c11d83e3",
   "metadata": {},
   "outputs": [],
   "source": [
    "mortality_tr = mortality_tr[['PatientID', 'death_date', 'last_activity']]"
   ]
  },
  {
   "cell_type": "code",
   "execution_count": 396,
   "id": "6d61fa28",
   "metadata": {},
   "outputs": [],
   "source": [
    "mortality_te = mortality_te[['PatientID', 'death_date', 'last_activity']]"
   ]
  },
  {
   "cell_type": "code",
   "execution_count": 397,
   "id": "6a1350bb",
   "metadata": {},
   "outputs": [
    {
     "name": "stdout",
     "output_type": "stream",
     "text": [
      "68483 True\n"
     ]
    }
   ],
   "source": [
    "mortality = pd.concat([mortality_tr, mortality_te], ignore_index = True)\n",
    "print(len(mortality), mortality.PatientID.is_unique)"
   ]
  },
  {
   "cell_type": "code",
   "execution_count": 398,
   "id": "047b4f74",
   "metadata": {},
   "outputs": [],
   "source": [
    "mortality.loc[:, 'last_activity'] = pd.to_datetime(mortality['last_activity'])"
   ]
  },
  {
   "cell_type": "code",
   "execution_count": 399,
   "id": "f99d338e",
   "metadata": {},
   "outputs": [],
   "source": [
    "mortality.loc[:, 'death_date'] = pd.to_datetime(mortality['death_date'])"
   ]
  },
  {
   "cell_type": "code",
   "execution_count": 400,
   "id": "2f53d245",
   "metadata": {},
   "outputs": [],
   "source": [
    "checkmate = pd.merge(checkmate, mortality, on = 'PatientID', how = 'left')"
   ]
  },
  {
   "cell_type": "code",
   "execution_count": 401,
   "id": "f447adc4",
   "metadata": {},
   "outputs": [
    {
     "data": {
      "text/plain": [
       "(3854, 3854)"
      ]
     },
     "execution_count": 401,
     "metadata": {},
     "output_type": "execute_result"
    }
   ],
   "source": [
    "row_ID(checkmate)"
   ]
  },
  {
   "cell_type": "code",
   "execution_count": 402,
   "id": "15591da8",
   "metadata": {},
   "outputs": [],
   "source": [
    "conditions = [\n",
    "    (checkmate['death_status'] == 1),\n",
    "    (checkmate['death_status'] == 0)]\n",
    "\n",
    "choices = [\n",
    "    (checkmate['death_date'] - checkmate['StartDate']).dt.days,\n",
    "    (checkmate['last_activity'] - checkmate['StartDate']).dt.days]\n",
    "\n",
    "checkmate.loc[:, 'timerisk_treatment'] = np.select(conditions, choices)"
   ]
  },
  {
   "cell_type": "code",
   "execution_count": 403,
   "id": "a2e94db1",
   "metadata": {},
   "outputs": [],
   "source": [
    "checkmate = checkmate.query('timerisk_treatment >= 0')"
   ]
  },
  {
   "cell_type": "markdown",
   "id": "06dc5740",
   "metadata": {},
   "source": [
    "#### Patient count "
   ]
  },
  {
   "cell_type": "code",
   "execution_count": 404,
   "id": "73882a15",
   "metadata": {},
   "outputs": [],
   "source": [
    "checkmate = (\n",
    "    checkmate\n",
    "    .query('EGFR != \"positive\"')\n",
    "    .query('ALK != \"positive\"')\n",
    ")"
   ]
  },
  {
   "cell_type": "code",
   "execution_count": 405,
   "id": "b111ad91",
   "metadata": {},
   "outputs": [],
   "source": [
    "low_cutoff_078 = cutoff.loc['checkmate_078'].low"
   ]
  },
  {
   "cell_type": "code",
   "execution_count": 406,
   "id": "6421790f",
   "metadata": {},
   "outputs": [],
   "source": [
    "high_cutoff_078 = cutoff.loc['checkmate_078'].high"
   ]
  },
  {
   "cell_type": "code",
   "execution_count": 407,
   "id": "5fb7fc92",
   "metadata": {},
   "outputs": [
    {
     "name": "stdout",
     "output_type": "stream",
     "text": [
      "Nivolumab total: 3339\n",
      "High risk: 1112\n",
      "Med risk: 1114\n",
      "Low risk: 1113\n"
     ]
    }
   ],
   "source": [
    "print('Nivolumab total:',  checkmate.query('nivo == 1').shape[0])\n",
    "print('High risk:', checkmate.query('nivo == 1').query('risk_score >= @high_cutoff_078').shape[0])\n",
    "print('Med risk:', checkmate.query('nivo == 1').query('risk_score < @high_cutoff_078 and risk_score > @low_cutoff_078').shape[0])\n",
    "print('Low risk:', checkmate.query('nivo == 1').query('risk_score <= @low_cutoff_078').shape[0])"
   ]
  },
  {
   "cell_type": "code",
   "execution_count": 408,
   "id": "c0155796",
   "metadata": {},
   "outputs": [
    {
     "name": "stdout",
     "output_type": "stream",
     "text": [
      "Docetaxel total: 450\n",
      "High risk: 145\n",
      "Med risk: 155\n",
      "Low risk: 150\n"
     ]
    }
   ],
   "source": [
    "print('Docetaxel total:',  checkmate.query('nivo == 0').shape[0])\n",
    "print('High risk:', checkmate.query('nivo == 0').query('risk_score >= @high_cutoff_078').shape[0])\n",
    "print('Med risk:', checkmate.query('nivo == 0').query('risk_score < @high_cutoff_078 and risk_score > @low_cutoff_078').shape[0])\n",
    "print('Low risk:', checkmate.query('nivo == 0').query('risk_score <= @low_cutoff_078').shape[0])"
   ]
  },
  {
   "cell_type": "markdown",
   "id": "82286371",
   "metadata": {},
   "source": [
    "#### Survival curves with covariate balancing"
   ]
  },
  {
   "cell_type": "code",
   "execution_count": 409,
   "id": "90ef65db",
   "metadata": {},
   "outputs": [],
   "source": [
    "checkmate = checkmate.set_index('PatientID')"
   ]
  },
  {
   "cell_type": "code",
   "execution_count": 410,
   "id": "6b611f5f",
   "metadata": {},
   "outputs": [],
   "source": [
    "check_iptw = checkmate.filter(items = ['death_status',\n",
    "                                       'timerisk_treatment',\n",
    "                                       'nivo',\n",
    "                                       'age',\n",
    "                                       'gender',\n",
    "                                       'race',\n",
    "                                       'PracticeType',\n",
    "                                       'Histology',\n",
    "                                       'adv_year',\n",
    "                                       'delta_adv_diagnosis',\n",
    "                                       'commercial',\n",
    "                                       'medicare',\n",
    "                                       'medicaid',\n",
    "                                       'ecog_diagnosis',\n",
    "                                       'pdl1',\n",
    "                                       'albumin_diag', \n",
    "                                       'weight_pct_change',\n",
    "                                       'risk_score'])"
   ]
  },
  {
   "cell_type": "code",
   "execution_count": 411,
   "id": "65e2f1a2",
   "metadata": {},
   "outputs": [],
   "source": [
    "check_iptw['met_cat'] = pd.cut(check_iptw['adv_year'],\n",
    "                               bins = [2010, 2015, float('inf')],\n",
    "                               labels = ['11-15', '16-20'])"
   ]
  },
  {
   "cell_type": "code",
   "execution_count": 412,
   "id": "f5c151b4",
   "metadata": {},
   "outputs": [],
   "source": [
    "conditions = [\n",
    "    ((check_iptw['pdl1'] == \"1-49%\") | (check_iptw['pdl1'] == \"50-100%\"))]\n",
    "\n",
    "choices = ['>0%']\n",
    "\n",
    "check_iptw['pdl1_cat'] = np.select(conditions, choices, default = check_iptw['pdl1'])"
   ]
  },
  {
   "cell_type": "code",
   "execution_count": 413,
   "id": "0dad61a3",
   "metadata": {},
   "outputs": [],
   "source": [
    "conditions = [\n",
    "    ((check_iptw['ecog_diagnosis'] == \"1.0\") | (check_iptw['ecog_diagnosis'] == \"0.0\")),  \n",
    "    ((check_iptw['ecog_diagnosis'] == \"2.0\") | (check_iptw['ecog_diagnosis'] == \"3.0\"))\n",
    "]\n",
    "\n",
    "choices = ['lt_2', 'gte_2']\n",
    "\n",
    "check_iptw['ecog_2'] = np.select(conditions, choices, default = 'unknown')"
   ]
  },
  {
   "cell_type": "code",
   "execution_count": 414,
   "id": "44a45fb5",
   "metadata": {},
   "outputs": [
    {
     "data": {
      "text/plain": [
       "death_status               bool\n",
       "timerisk_treatment      float64\n",
       "nivo                      int64\n",
       "age                       int64\n",
       "gender                   object\n",
       "race                     object\n",
       "PracticeType             object\n",
       "Histology                object\n",
       "adv_year                  int64\n",
       "delta_adv_diagnosis       int64\n",
       "commercial              float64\n",
       "medicare                float64\n",
       "medicaid                float64\n",
       "ecog_diagnosis           object\n",
       "pdl1                     object\n",
       "albumin_diag            float64\n",
       "weight_pct_change       float64\n",
       "risk_score              float64\n",
       "met_cat                category\n",
       "pdl1_cat                 object\n",
       "ecog_2                   object\n",
       "dtype: object"
      ]
     },
     "execution_count": 414,
     "metadata": {},
     "output_type": "execute_result"
    }
   ],
   "source": [
    "check_iptw.dtypes"
   ]
  },
  {
   "cell_type": "code",
   "execution_count": 415,
   "id": "bfa3d033",
   "metadata": {},
   "outputs": [],
   "source": [
    "to_be_categorical = list(check_iptw.select_dtypes(include = ['object']).columns)"
   ]
  },
  {
   "cell_type": "code",
   "execution_count": 416,
   "id": "6c099487",
   "metadata": {},
   "outputs": [
    {
     "data": {
      "text/plain": [
       "['gender',\n",
       " 'race',\n",
       " 'PracticeType',\n",
       " 'Histology',\n",
       " 'ecog_diagnosis',\n",
       " 'pdl1',\n",
       " 'pdl1_cat',\n",
       " 'ecog_2']"
      ]
     },
     "execution_count": 416,
     "metadata": {},
     "output_type": "execute_result"
    }
   ],
   "source": [
    "to_be_categorical"
   ]
  },
  {
   "cell_type": "code",
   "execution_count": 417,
   "id": "b6fd99c5",
   "metadata": {},
   "outputs": [],
   "source": [
    "to_be_categorical.append('met_cat')"
   ]
  },
  {
   "cell_type": "code",
   "execution_count": 418,
   "id": "af19556e",
   "metadata": {},
   "outputs": [],
   "source": [
    "to_be_categorical.remove('pdl1')"
   ]
  },
  {
   "cell_type": "code",
   "execution_count": 419,
   "id": "9f519841",
   "metadata": {},
   "outputs": [],
   "source": [
    "to_be_categorical.remove('ecog_diagnosis')"
   ]
  },
  {
   "cell_type": "code",
   "execution_count": 420,
   "id": "8519b06a",
   "metadata": {},
   "outputs": [],
   "source": [
    "# Convert variables in list to categorical.\n",
    "for x in list(to_be_categorical):\n",
    "    check_iptw[x] = check_iptw[x].astype('category')"
   ]
  },
  {
   "cell_type": "code",
   "execution_count": 421,
   "id": "651c0edc",
   "metadata": {},
   "outputs": [],
   "source": [
    "# List of numeric variables, excluding binary variables. \n",
    "numerical_features = ['age', 'delta_adv_diagnosis', 'albumin_diag', 'weight_pct_change', 'risk_score']\n",
    "\n",
    "# Transformer will first calculate column median and impute, and then apply a standard scaler. \n",
    "numerical_transformer = Pipeline(steps = [\n",
    "    ('imputer', SimpleImputer(strategy = 'median')),\n",
    "    ('std_scaler', StandardScaler())])"
   ]
  },
  {
   "cell_type": "code",
   "execution_count": 422,
   "id": "99f75f6c",
   "metadata": {},
   "outputs": [],
   "source": [
    "# List of categorical features.\n",
    "categorical_features = list(check_iptw.select_dtypes(include = ['category']).columns)\n",
    "\n",
    "# One-hot-encode categorical features.\n",
    "categorical_transformer = OneHotEncoder(handle_unknown = 'ignore')"
   ]
  },
  {
   "cell_type": "code",
   "execution_count": 423,
   "id": "514ba9e7",
   "metadata": {},
   "outputs": [],
   "source": [
    "preprocessor = ColumnTransformer(\n",
    "    transformers = [\n",
    "        ('num', numerical_transformer, numerical_features),\n",
    "        ('cat', categorical_transformer, categorical_features)],\n",
    "    remainder = 'passthrough')"
   ]
  },
  {
   "cell_type": "code",
   "execution_count": 424,
   "id": "6dbab9d8",
   "metadata": {},
   "outputs": [],
   "source": [
    "check_iptw_low = (\n",
    "    check_iptw\n",
    "    .query('risk_score <= @low_cutoff_078'))\n",
    "\n",
    "check_iptw_med = (\n",
    "    check_iptw\n",
    "    .query('risk_score < @high_cutoff_078 and risk_score > @low_cutoff_078'))\n",
    "\n",
    "check_iptw_high = (\n",
    "    check_iptw\n",
    "    .query('risk_score >= @high_cutoff_078'))\n",
    "\n",
    "check_iptw_all = check_iptw"
   ]
  },
  {
   "cell_type": "code",
   "execution_count": 425,
   "id": "17121b54",
   "metadata": {},
   "outputs": [],
   "source": [
    "check_low_x = preprocessor.fit_transform(check_iptw_low.filter(items = ['age',\n",
    "                                                                        'gender',\n",
    "                                                                        'race',\n",
    "                                                                        'PracticeType',\n",
    "                                                                        'Histology',\n",
    "                                                                        'met_cat',\n",
    "                                                                        'delta_adv_diagnosis',\n",
    "                                                                        'commercial',\n",
    "                                                                        'medicare',\n",
    "                                                                        'medicaid',\n",
    "                                                                        'ecog_2',\n",
    "                                                                        'pdl1_cat',\n",
    "                                                                        'albumin_diag',\n",
    "                                                                        'weight_pct_change',\n",
    "                                                                        'risk_score']))\n",
    "\n",
    "check_med_x = preprocessor.fit_transform(check_iptw_med.filter(items = ['age',\n",
    "                                                                        'gender',\n",
    "                                                                        'race',\n",
    "                                                                        'PracticeType',\n",
    "                                                                        'Histology',\n",
    "                                                                        'met_cat',\n",
    "                                                                        'delta_adv_diagnosis',\n",
    "                                                                        'commercial',\n",
    "                                                                        'medicare',\n",
    "                                                                        'medicaid',\n",
    "                                                                        'ecog_2',\n",
    "                                                                        'pdl1_cat',\n",
    "                                                                        'albumin_diag',\n",
    "                                                                        'weight_pct_change',\n",
    "                                                                        'risk_score']))\n",
    "\n",
    "check_high_x = preprocessor.fit_transform(check_iptw_high.filter(items = ['age',\n",
    "                                                                          'gender',\n",
    "                                                                          'race',\n",
    "                                                                          'PracticeType',\n",
    "                                                                          'Histology',\n",
    "                                                                          'met_cat',\n",
    "                                                                          'delta_adv_diagnosis',\n",
    "                                                                          'commercial',\n",
    "                                                                          'medicare',\n",
    "                                                                          'medicaid',\n",
    "                                                                          'ecog_2',\n",
    "                                                                          'pdl1_cat',\n",
    "                                                                          'albumin_diag',\n",
    "                                                                          'weight_pct_change',\n",
    "                                                                          'risk_score']))\n",
    "\n",
    "check_all_x = preprocessor.fit_transform(check_iptw_all.filter(items = ['age',\n",
    "                                                                        'gender',\n",
    "                                                                        'race',\n",
    "                                                                        'PracticeType',\n",
    "                                                                        'Histology',\n",
    "                                                                        'met_cat',\n",
    "                                                                        'delta_adv_diagnosis',\n",
    "                                                                        'commercial',\n",
    "                                                                        'medicare',\n",
    "                                                                        'medicaid',\n",
    "                                                                        'ecog_2',\n",
    "                                                                        'pdl1_cat',\n",
    "                                                                        'albumin_diag',\n",
    "                                                                        'weight_pct_change',\n",
    "                                                                        'risk_score']))"
   ]
  },
  {
   "cell_type": "code",
   "execution_count": 426,
   "id": "309053b6",
   "metadata": {},
   "outputs": [
    {
     "data": {
      "text/plain": [
       "LogisticRegression(max_iter=1000)"
      ]
     },
     "execution_count": 426,
     "metadata": {},
     "output_type": "execute_result"
    }
   ],
   "source": [
    "lr_check_low = LogisticRegression(max_iter = 1000)\n",
    "lr_check_low.fit(check_low_x, check_iptw_low['nivo'])"
   ]
  },
  {
   "cell_type": "code",
   "execution_count": 427,
   "id": "ae54c27d",
   "metadata": {},
   "outputs": [
    {
     "data": {
      "text/plain": [
       "LogisticRegression(max_iter=1000)"
      ]
     },
     "execution_count": 427,
     "metadata": {},
     "output_type": "execute_result"
    }
   ],
   "source": [
    "lr_check_med = LogisticRegression(max_iter = 1000)\n",
    "lr_check_med.fit(check_med_x, check_iptw_med['nivo'])"
   ]
  },
  {
   "cell_type": "code",
   "execution_count": 428,
   "id": "ad37cb9f",
   "metadata": {},
   "outputs": [
    {
     "data": {
      "text/plain": [
       "LogisticRegression(max_iter=1000)"
      ]
     },
     "execution_count": 428,
     "metadata": {},
     "output_type": "execute_result"
    }
   ],
   "source": [
    "lr_check_high = LogisticRegression(max_iter = 1000)\n",
    "lr_check_high.fit(check_high_x, check_iptw_high['nivo'])"
   ]
  },
  {
   "cell_type": "code",
   "execution_count": 429,
   "id": "8b57bd7f",
   "metadata": {},
   "outputs": [
    {
     "data": {
      "text/plain": [
       "LogisticRegression(max_iter=1000)"
      ]
     },
     "execution_count": 429,
     "metadata": {},
     "output_type": "execute_result"
    }
   ],
   "source": [
    "lr_check_all = LogisticRegression(max_iter = 1000)\n",
    "lr_check_all.fit(check_all_x, check_iptw_all['nivo'])"
   ]
  },
  {
   "cell_type": "code",
   "execution_count": 430,
   "id": "f4e4f2e3",
   "metadata": {},
   "outputs": [],
   "source": [
    "pred_low = lr_check_low.predict_proba(check_low_x)\n",
    "pred_med = lr_check_med.predict_proba(check_med_x)\n",
    "pred_high = lr_check_high.predict_proba(check_high_x)\n",
    "pred_all = lr_check_all.predict_proba(check_all_x)"
   ]
  },
  {
   "cell_type": "code",
   "execution_count": 431,
   "id": "6534b746",
   "metadata": {},
   "outputs": [],
   "source": [
    "check_iptw_low['ps'] = pred_low[:, 1]\n",
    "check_iptw_med['ps'] = pred_med[:, 1]\n",
    "check_iptw_high['ps'] = pred_high[:, 1]\n",
    "check_iptw_all['ps'] = pred_all[:, 1]"
   ]
  },
  {
   "cell_type": "code",
   "execution_count": 432,
   "id": "a7ea945e",
   "metadata": {},
   "outputs": [],
   "source": [
    "check_iptw_low['weight'] = (\n",
    "    np.where(check_iptw_low['nivo'] == 1, 1/check_iptw_low['ps'], 1/(1 - check_iptw_low['ps'])))\n",
    "\n",
    "check_iptw_med['weight'] = (\n",
    "    np.where(check_iptw_med['nivo'] == 1, 1/check_iptw_med['ps'], 1/(1 - check_iptw_med['ps'])))\n",
    "\n",
    "check_iptw_high['weight'] = (\n",
    "    np.where(check_iptw_high['nivo'] == 1, 1/check_iptw_high['ps'], 1/(1 - check_iptw_high['ps'])))\n",
    "\n",
    "check_iptw_all['weight'] = (\n",
    "    np.where(check_iptw_all['nivo'] == 1, 1/check_iptw_all['ps'], 1/(1 - check_iptw_all['ps'])))"
   ]
  },
  {
   "cell_type": "code",
   "execution_count": 433,
   "id": "4752eabe",
   "metadata": {},
   "outputs": [
    {
     "data": {
      "text/plain": [
       "<lifelines.KaplanMeierFitter:\"KM_estimate\", fitted with 4034.13 total observations, 575.862 right-censored observations>"
      ]
     },
     "execution_count": 433,
     "metadata": {},
     "output_type": "execute_result"
    }
   ],
   "source": [
    "# Low KM curves\n",
    "kmf_low_nivo_check_iptw = KaplanMeierFitter()\n",
    "kmf_low_dotx_check_iptw = KaplanMeierFitter()\n",
    "\n",
    "kmf_low_nivo_check_iptw.fit(\n",
    "    check_iptw_low.query('nivo == 1').timerisk_treatment/30,\n",
    "    check_iptw_low.query('nivo == 1').death_status,\n",
    "    weights = check_iptw_low.query('nivo == 1')['weight'])\n",
    "\n",
    "kmf_low_dotx_check_iptw.fit(\n",
    "    check_iptw_low.query('nivo == 0').timerisk_treatment/30,\n",
    "    check_iptw_low.query('nivo == 0').death_status,\n",
    "    weights = check_iptw_low.query('nivo == 0')['weight'])\n",
    "\n",
    "# Med KM curves\n",
    "kmf_med_nivo_check_iptw = KaplanMeierFitter()\n",
    "kmf_med_dotx_check_iptw = KaplanMeierFitter()\n",
    "\n",
    "kmf_med_nivo_check_iptw.fit(\n",
    "    check_iptw_med.query('nivo == 1').timerisk_treatment/30,\n",
    "    check_iptw_med.query('nivo == 1').death_status,\n",
    "    weights = check_iptw_med.query('nivo == 1')['weight'])\n",
    "\n",
    "kmf_med_dotx_check_iptw.fit(\n",
    "    check_iptw_med.query('nivo == 0').timerisk_treatment/30,\n",
    "    check_iptw_med.query('nivo == 0').death_status,\n",
    "    weights = check_iptw_med.query('nivo == 0')['weight'])\n",
    "\n",
    "# High KM curves \n",
    "kmf_high_nivo_check_iptw = KaplanMeierFitter()\n",
    "kmf_high_dotx_check_iptw = KaplanMeierFitter()\n",
    "\n",
    "kmf_high_nivo_check_iptw.fit(\n",
    "    check_iptw_high.query('nivo == 1').timerisk_treatment/30,\n",
    "    check_iptw_high.query('nivo == 1').death_status,\n",
    "    weights = check_iptw_high.query('nivo == 1')['weight'])\n",
    "\n",
    "kmf_high_dotx_check_iptw.fit(\n",
    "    check_iptw_high.query('nivo == 0').timerisk_treatment/30,\n",
    "    check_iptw_high.query('nivo == 0').death_status,\n",
    "    weights = check_iptw_high.query('nivo == 0')['weight'])\n",
    "\n",
    "# All KM curves \n",
    "kmf_all_nivo_check_iptw = KaplanMeierFitter()\n",
    "kmf_all_dotx_check_iptw = KaplanMeierFitter()\n",
    "\n",
    "kmf_all_nivo_check_iptw.fit(\n",
    "    check_iptw_all.query('nivo == 1').timerisk_treatment/30,\n",
    "    check_iptw_all.query('nivo == 1').death_status,\n",
    "    weights = check_iptw_all.query('nivo == 1')['weight'])\n",
    "\n",
    "kmf_all_dotx_check_iptw.fit(\n",
    "    check_iptw_all.query('nivo == 0').timerisk_treatment/30,\n",
    "    check_iptw_all.query('nivo == 0').death_status,\n",
    "    weights = check_iptw_all.query('nivo == 0')['weight'])"
   ]
  },
  {
   "cell_type": "markdown",
   "id": "4cfb67e5",
   "metadata": {},
   "source": [
    "#### Calculating survival metrics "
   ]
  },
  {
   "cell_type": "code",
   "execution_count": 434,
   "id": "88369cae",
   "metadata": {},
   "outputs": [],
   "source": [
    "nivo_check_median_os = mos(kmf_low_nivo_check_iptw, \n",
    "                           kmf_med_nivo_check_iptw,\n",
    "                           kmf_high_nivo_check_iptw,\n",
    "                           kmf_all_nivo_check_iptw)\n",
    "\n",
    "dotx_check_median_os = mos(kmf_low_dotx_check_iptw,\n",
    "                           kmf_med_dotx_check_iptw,\n",
    "                           kmf_high_dotx_check_iptw,\n",
    "                           kmf_all_dotx_check_iptw)"
   ]
  },
  {
   "cell_type": "code",
   "execution_count": 435,
   "id": "dd0ccea7",
   "metadata": {},
   "outputs": [],
   "source": [
    "check_iptw_all_imputed = check_iptw_all.copy()\n",
    "check_iptw_all_imputed['albumin_diag'] = check_iptw_all_imputed['albumin_diag'].fillna(check_iptw_all_imputed['albumin_diag'].median())\n",
    "check_iptw_all_imputed['weight_pct_change'] = check_iptw_all_imputed['weight_pct_change'].fillna(check_iptw_all_imputed['weight_pct_change'].median())"
   ]
  },
  {
   "cell_type": "code",
   "execution_count": 436,
   "id": "765f6993",
   "metadata": {},
   "outputs": [
    {
     "data": {
      "text/plain": [
       "<lifelines.CoxPHFitter: fitted with 7817.87 total observations, 1276.35 right-censored observations>"
      ]
     },
     "execution_count": 436,
     "metadata": {},
     "output_type": "execute_result"
    }
   ],
   "source": [
    "check_hr_all = CoxPHFitter()\n",
    "check_hr_all.fit(check_iptw_all_imputed,\n",
    "                 duration_col = 'timerisk_treatment',\n",
    "                 event_col = 'death_status',\n",
    "                 formula = 'nivo + age + gender + race + PracticeType + Histology + delta_adv_diagnosis + commercial + medicare + medicaid + ecog_2 + pdl1_cat + albumin_diag + weight_pct_change + risk_score',\n",
    "                 weights_col = 'weight',\n",
    "                 robust = True)"
   ]
  },
  {
   "cell_type": "code",
   "execution_count": 437,
   "id": "4609f081",
   "metadata": {},
   "outputs": [],
   "source": [
    "check_all_rmst_mos_95 = rmst_mos_95ci(check_iptw_all,\n",
    "                                      1000,\n",
    "                                      'nivo',\n",
    "                                      'death',\n",
    "                                      ['age',\n",
    "                                       'gender',\n",
    "                                       'race',\n",
    "                                       'PracticeType',\n",
    "                                       'Histology',\n",
    "                                       'met_cat',\n",
    "                                       'delta_adv_diagnosis',\n",
    "                                       'commercial',\n",
    "                                       'medicare',\n",
    "                                       'medicaid',\n",
    "                                       'ecog_2',\n",
    "                                       'pdl1_cat',\n",
    "                                       'albumin_diag',\n",
    "                                       'weight_pct_change',\n",
    "                                       'risk_score'],\n",
    "                                      ['age', 'delta_adv_diagnosis', 'albumin_diag', 'weight_pct_change', 'risk_score'],\n",
    "                                       36)"
   ]
  },
  {
   "cell_type": "code",
   "execution_count": 438,
   "id": "7196d8c5",
   "metadata": {},
   "outputs": [],
   "source": [
    "check_low_rmst_mos_95 = rmst_mos_95ci(check_iptw_low,\n",
    "                                      1000,\n",
    "                                      'nivo',\n",
    "                                      'death',\n",
    "                                      ['age',\n",
    "                                       'gender',\n",
    "                                       'race',\n",
    "                                       'PracticeType',\n",
    "                                       'Histology',\n",
    "                                       'met_cat',\n",
    "                                       'delta_adv_diagnosis',\n",
    "                                       'commercial',\n",
    "                                       'medicare',\n",
    "                                       'medicaid',\n",
    "                                       'ecog_2',\n",
    "                                       'pdl1_cat',\n",
    "                                       'albumin_diag',\n",
    "                                       'weight_pct_change',\n",
    "                                       'risk_score'],\n",
    "                                      ['age', 'delta_adv_diagnosis', 'albumin_diag', 'weight_pct_change', 'risk_score'],\n",
    "                                       36)"
   ]
  },
  {
   "cell_type": "code",
   "execution_count": 439,
   "id": "8bb604ca",
   "metadata": {},
   "outputs": [],
   "source": [
    "check_med_rmst_mos_95 = rmst_mos_95ci(check_iptw_med,\n",
    "                                      1000,\n",
    "                                      'nivo',\n",
    "                                      'death',\n",
    "                                      ['age',\n",
    "                                       'gender',\n",
    "                                       'race',\n",
    "                                       'PracticeType',\n",
    "                                       'Histology',\n",
    "                                       'met_cat',\n",
    "                                       'delta_adv_diagnosis',\n",
    "                                       'commercial',\n",
    "                                       'medicare',\n",
    "                                       'medicaid',\n",
    "                                       'ecog_2',\n",
    "                                       'pdl1_cat',\n",
    "                                       'albumin_diag',\n",
    "                                       'weight_pct_change',\n",
    "                                       'risk_score'],\n",
    "                                      ['age', 'delta_adv_diagnosis', 'albumin_diag', 'weight_pct_change', 'risk_score'],\n",
    "                                       36)"
   ]
  },
  {
   "cell_type": "code",
   "execution_count": 440,
   "id": "10e70ed5",
   "metadata": {},
   "outputs": [],
   "source": [
    "check_high_rmst_mos_95 = rmst_mos_95ci(check_iptw_high,\n",
    "                                       1000,\n",
    "                                       'nivo',\n",
    "                                       'death',\n",
    "                                       ['age',\n",
    "                                        'gender',\n",
    "                                        'race',\n",
    "                                        'PracticeType',\n",
    "                                        'Histology',\n",
    "                                        'met_cat',\n",
    "                                        'delta_adv_diagnosis',\n",
    "                                        'commercial',\n",
    "                                        'medicare',\n",
    "                                        'medicaid',\n",
    "                                        'ecog_2',\n",
    "                                        'pdl1_cat',\n",
    "                                        'albumin_diag',\n",
    "                                        'weight_pct_change',\n",
    "                                        'risk_score'],\n",
    "                                       ['age', 'delta_adv_diagnosis', 'albumin_diag', 'weight_pct_change', 'risk_score'],\n",
    "                                        36)"
   ]
  },
  {
   "cell_type": "code",
   "execution_count": 441,
   "id": "f38b34c1",
   "metadata": {},
   "outputs": [],
   "source": [
    "check_data = [\n",
    "    {'trial_name': 'CHECKMATE-078', \n",
    "     'risk_group': 'low', \n",
    "     'r_trt_mos': nivo_check_median_os[0],\n",
    "     'r_trt_mos_95': check_low_rmst_mos_95.mos_A_95,\n",
    "     'r_cont_mos': dotx_check_median_os[0],\n",
    "     'r_cont_mos_95': check_low_rmst_mos_95.mos_B_95,\n",
    "     'r_mos_diff': nivo_check_median_os[0] - dotx_check_median_os[0], \n",
    "     'rct_trt_arm': 11.9, \n",
    "     'rct_cont_arm': 9.5,\n",
    "     'rct_mos_diff': 11.9-9.5,\n",
    "     'trt_rmst': restricted_mean_survival_time(kmf_low_nivo_check_iptw, 36),\n",
    "     'trt_rmst_95': check_low_rmst_mos_95.rmst_A_95,\n",
    "     'cont_rmst': restricted_mean_survival_time(kmf_low_dotx_check_iptw, 36),\n",
    "     'cont_rmst_95': check_low_rmst_mos_95.rmst_B_95,\n",
    "     'diff_rmst': restricted_mean_survival_time(kmf_low_nivo_check_iptw, 36) - restricted_mean_survival_time(kmf_low_dotx_check_iptw, 36),\n",
    "     'diff_rmst_95': check_low_rmst_mos_95.difference_rmst_95,\n",
    "     'rcount': checkmate.query('risk_score <= @low_cutoff_078').shape[0],\n",
    "     'rcount_chemo': checkmate.query('risk_score <= @low_cutoff_078').query('nivo == 0').shape[0]},\n",
    "    \n",
    "    {'trial_name': 'CHECKMATE-078', \n",
    "     'risk_group': 'medium', \n",
    "     'r_trt_mos': nivo_check_median_os[1],\n",
    "     'r_trt_mos_95': check_med_rmst_mos_95.mos_A_95,\n",
    "     'r_cont_mos': dotx_check_median_os[1],\n",
    "     'r_cont_mos_95': check_med_rmst_mos_95.mos_B_95,\n",
    "     'r_mos_diff': nivo_check_median_os[1] - dotx_check_median_os[1], \n",
    "     'rct_trt_arm': 11.9, \n",
    "     'rct_cont_arm': 9.5,\n",
    "     'rct_mos_diff': 11.9-9.5,\n",
    "     'trt_rmst': restricted_mean_survival_time(kmf_med_nivo_check_iptw, 36),\n",
    "     'trt_rmst_95': check_med_rmst_mos_95.rmst_A_95,\n",
    "     'cont_rmst': restricted_mean_survival_time(kmf_med_dotx_check_iptw, 36),\n",
    "     'cont_rmst_95': check_med_rmst_mos_95.rmst_B_95,\n",
    "     'diff_rmst': restricted_mean_survival_time(kmf_med_nivo_check_iptw, 36) - restricted_mean_survival_time(kmf_med_dotx_check_iptw, 36),\n",
    "     'diff_rmst_95': check_med_rmst_mos_95.difference_rmst_95,\n",
    "     'rcount': checkmate.query('risk_score < @high_cutoff_078 and risk_score > @low_cutoff_078').shape[0],\n",
    "     'rcount_chemo': checkmate.query('risk_score < @high_cutoff_078 and risk_score > @low_cutoff_078').query('nivo == 0').shape[0]},\n",
    "    \n",
    "    {'trial_name': 'CHECKMATE-078', \n",
    "     'risk_group': 'high', \n",
    "     'r_trt_mos': nivo_check_median_os[2],\n",
    "     'r_trt_mos_95': check_high_rmst_mos_95.mos_A_95,\n",
    "     'r_cont_mos': dotx_check_median_os[2],\n",
    "     'r_cont_mos_95': check_high_rmst_mos_95.mos_B_95,\n",
    "     'r_mos_diff': nivo_check_median_os[2] - dotx_check_median_os[2], \n",
    "     'rct_trt_arm': 11.9, \n",
    "     'rct_cont_arm': 9.5,\n",
    "     'rct_mos_diff': 11.9-9.5,\n",
    "     'trt_rmst': restricted_mean_survival_time(kmf_high_nivo_check_iptw, 36),\n",
    "     'trt_rmst_95': check_high_rmst_mos_95.rmst_A_95,\n",
    "     'cont_rmst': restricted_mean_survival_time(kmf_high_dotx_check_iptw, 36),\n",
    "     'cont_rmst_95': check_high_rmst_mos_95.rmst_B_95,\n",
    "     'diff_rmst': restricted_mean_survival_time(kmf_high_nivo_check_iptw, 36) - restricted_mean_survival_time(kmf_high_dotx_check_iptw, 36),\n",
    "     'diff_rmst_95': check_high_rmst_mos_95.difference_rmst_95,\n",
    "     'rcount': checkmate.query('risk_score >= @high_cutoff_078').shape[0],\n",
    "     'rcount_chemo': checkmate.query('risk_score >= @high_cutoff_078').query('nivo == 0').shape[0]},\n",
    "    \n",
    "    {'trial_name': 'CHECKMATE-078', \n",
    "     'risk_group': 'all', \n",
    "     'r_hr': check_hr_all.hazard_ratios_['nivo'],\n",
    "     'r_hr_95': [check_hr_all.summary.loc['nivo']['exp(coef) lower 95%'], check_hr_all.summary.loc['nivo']['exp(coef) upper 95%']],\n",
    "     'r_trt_mos': nivo_check_median_os[3],\n",
    "     'r_trt_mos_95': check_all_rmst_mos_95.mos_A_95,\n",
    "     'r_cont_mos': dotx_check_median_os[3],\n",
    "     'r_cont_mos_95': check_all_rmst_mos_95.mos_B_95,\n",
    "     'r_mos_diff': nivo_check_median_os[3] - dotx_check_median_os[3], \n",
    "     'rct_trt_arm': 11.9, \n",
    "     'rct_cont_arm': 9.5,\n",
    "     'rct_mos_diff': 11.9-9.5,\n",
    "     'rcount': checkmate.shape[0], \n",
    "     'rcount_chemo': checkmate.query('nivo == 0').shape[0]}\n",
    "]"
   ]
  },
  {
   "cell_type": "markdown",
   "id": "27b3a3e6",
   "metadata": {},
   "source": [
    "## Part 3. Combining dictionaries"
   ]
  },
  {
   "cell_type": "code",
   "execution_count": 442,
   "id": "2562299b",
   "metadata": {},
   "outputs": [],
   "source": [
    "data_combined = keynote_042_data + keynote_024_data + keynote_189_data + check_data"
   ]
  },
  {
   "cell_type": "code",
   "execution_count": 443,
   "id": "804e5ff4",
   "metadata": {},
   "outputs": [],
   "source": [
    "rtrials_dc_mos = pd.DataFrame(data_combined)"
   ]
  },
  {
   "cell_type": "code",
   "execution_count": 444,
   "id": "04534ad7",
   "metadata": {},
   "outputs": [
    {
     "data": {
      "text/html": [
       "<div>\n",
       "<style scoped>\n",
       "    .dataframe tbody tr th:only-of-type {\n",
       "        vertical-align: middle;\n",
       "    }\n",
       "\n",
       "    .dataframe tbody tr th {\n",
       "        vertical-align: top;\n",
       "    }\n",
       "\n",
       "    .dataframe thead th {\n",
       "        text-align: right;\n",
       "    }\n",
       "</style>\n",
       "<table border=\"1\" class=\"dataframe\">\n",
       "  <thead>\n",
       "    <tr style=\"text-align: right;\">\n",
       "      <th></th>\n",
       "      <th>trial_name</th>\n",
       "      <th>risk_group</th>\n",
       "      <th>r_trt_mos</th>\n",
       "      <th>r_trt_mos_95</th>\n",
       "      <th>r_cont_mos</th>\n",
       "      <th>r_cont_mos_95</th>\n",
       "      <th>r_mos_diff</th>\n",
       "      <th>rct_trt_arm</th>\n",
       "      <th>rct_cont_arm</th>\n",
       "      <th>rct_mos_diff</th>\n",
       "      <th>trt_rmst</th>\n",
       "      <th>trt_rmst_95</th>\n",
       "      <th>cont_rmst</th>\n",
       "      <th>cont_rmst_95</th>\n",
       "      <th>diff_rmst</th>\n",
       "      <th>diff_rmst_95</th>\n",
       "      <th>rcount</th>\n",
       "      <th>rcount_chemo</th>\n",
       "      <th>r_hr</th>\n",
       "      <th>r_hr_95</th>\n",
       "    </tr>\n",
       "  </thead>\n",
       "  <tbody>\n",
       "    <tr>\n",
       "      <th>0</th>\n",
       "      <td>KEYNOTE-042</td>\n",
       "      <td>low</td>\n",
       "      <td>25.933333</td>\n",
       "      <td>[22.7, 32.63333333333333]</td>\n",
       "      <td>23.166667</td>\n",
       "      <td>[17.733333333333334, 27.433333333333334]</td>\n",
       "      <td>2.766667</td>\n",
       "      <td>16.7</td>\n",
       "      <td>12.1</td>\n",
       "      <td>4.6</td>\n",
       "      <td>22.885616</td>\n",
       "      <td>[21.745064649363883, 24.008568671036507]</td>\n",
       "      <td>22.215395</td>\n",
       "      <td>[19.074306747125835, 24.48511725015636]</td>\n",
       "      <td>0.670221</td>\n",
       "      <td>[-1.9333075858791289, 3.8200100972148214]</td>\n",
       "      <td>1231</td>\n",
       "      <td>335</td>\n",
       "      <td>NaN</td>\n",
       "      <td>NaN</td>\n",
       "    </tr>\n",
       "    <tr>\n",
       "      <th>1</th>\n",
       "      <td>KEYNOTE-042</td>\n",
       "      <td>medium</td>\n",
       "      <td>14.533333</td>\n",
       "      <td>[12.1, 18.066666666666666]</td>\n",
       "      <td>17.533333</td>\n",
       "      <td>[11.133333333333333, 19.5]</td>\n",
       "      <td>-3.000000</td>\n",
       "      <td>16.7</td>\n",
       "      <td>12.1</td>\n",
       "      <td>4.6</td>\n",
       "      <td>18.209362</td>\n",
       "      <td>[16.975288037394186, 19.334500992671614]</td>\n",
       "      <td>17.985655</td>\n",
       "      <td>[15.150986697134792, 20.31861500951813]</td>\n",
       "      <td>0.223707</td>\n",
       "      <td>[-2.5591840204995857, 3.089148108280846]</td>\n",
       "      <td>1353</td>\n",
       "      <td>370</td>\n",
       "      <td>NaN</td>\n",
       "      <td>NaN</td>\n",
       "    </tr>\n",
       "    <tr>\n",
       "      <th>2</th>\n",
       "      <td>KEYNOTE-042</td>\n",
       "      <td>high</td>\n",
       "      <td>4.166667</td>\n",
       "      <td>[3.4991666666666665, 4.866666666666666]</td>\n",
       "      <td>6.066667</td>\n",
       "      <td>[4.329166666666667, 7.733333333333333]</td>\n",
       "      <td>-1.900000</td>\n",
       "      <td>16.7</td>\n",
       "      <td>12.1</td>\n",
       "      <td>4.6</td>\n",
       "      <td>10.801809</td>\n",
       "      <td>[9.871310661086603, 11.705978321942231]</td>\n",
       "      <td>10.241543</td>\n",
       "      <td>[7.88274591118686, 12.694509533805606]</td>\n",
       "      <td>0.560267</td>\n",
       "      <td>[-2.158321340616336, 3.0563082417678653]</td>\n",
       "      <td>1407</td>\n",
       "      <td>372</td>\n",
       "      <td>NaN</td>\n",
       "      <td>NaN</td>\n",
       "    </tr>\n",
       "    <tr>\n",
       "      <th>3</th>\n",
       "      <td>KEYNOTE-042</td>\n",
       "      <td>all</td>\n",
       "      <td>12.966667</td>\n",
       "      <td>[11.6, 14.433333333333334]</td>\n",
       "      <td>12.500000</td>\n",
       "      <td>[10.965833333333334, 15.166666666666666]</td>\n",
       "      <td>0.466667</td>\n",
       "      <td>16.7</td>\n",
       "      <td>12.1</td>\n",
       "      <td>4.6</td>\n",
       "      <td>NaN</td>\n",
       "      <td>NaN</td>\n",
       "      <td>NaN</td>\n",
       "      <td>NaN</td>\n",
       "      <td>NaN</td>\n",
       "      <td>NaN</td>\n",
       "      <td>3991</td>\n",
       "      <td>1077</td>\n",
       "      <td>0.975164</td>\n",
       "      <td>[0.8503047899525819, 1.1183572145368943]</td>\n",
       "    </tr>\n",
       "    <tr>\n",
       "      <th>4</th>\n",
       "      <td>KEYNOTE-024</td>\n",
       "      <td>low</td>\n",
       "      <td>9.233333</td>\n",
       "      <td>[7.7, 11.133333333333333]</td>\n",
       "      <td>5.833333</td>\n",
       "      <td>[2.7, 9.7]</td>\n",
       "      <td>3.400000</td>\n",
       "      <td>10.3</td>\n",
       "      <td>6.0</td>\n",
       "      <td>4.3</td>\n",
       "      <td>9.962931</td>\n",
       "      <td>[9.384983391372538, 10.61093499679533]</td>\n",
       "      <td>8.140591</td>\n",
       "      <td>[6.326049089881067, 10.017809795699154]</td>\n",
       "      <td>1.822340</td>\n",
       "      <td>[-0.10107844848126439, 3.7305269952761444]</td>\n",
       "      <td>630</td>\n",
       "      <td>83</td>\n",
       "      <td>NaN</td>\n",
       "      <td>NaN</td>\n",
       "    </tr>\n",
       "    <tr>\n",
       "      <th>5</th>\n",
       "      <td>KEYNOTE-024</td>\n",
       "      <td>medium</td>\n",
       "      <td>5.466667</td>\n",
       "      <td>[4.133333333333334, 6.4]</td>\n",
       "      <td>6.766667</td>\n",
       "      <td>[4.265, 10.866666666666667]</td>\n",
       "      <td>-1.300000</td>\n",
       "      <td>10.3</td>\n",
       "      <td>6.0</td>\n",
       "      <td>4.3</td>\n",
       "      <td>7.834143</td>\n",
       "      <td>[7.247676746754834, 8.406502218941895]</td>\n",
       "      <td>8.847136</td>\n",
       "      <td>[6.435105843681587, 11.181060579205107]</td>\n",
       "      <td>-1.012993</td>\n",
       "      <td>[-3.388098756672839, 1.498227799152481]</td>\n",
       "      <td>644</td>\n",
       "      <td>81</td>\n",
       "      <td>NaN</td>\n",
       "      <td>NaN</td>\n",
       "    </tr>\n",
       "    <tr>\n",
       "      <th>6</th>\n",
       "      <td>KEYNOTE-024</td>\n",
       "      <td>high</td>\n",
       "      <td>2.233333</td>\n",
       "      <td>[2.0, 2.4]</td>\n",
       "      <td>2.233333</td>\n",
       "      <td>[1.4, 3.1333333333333333]</td>\n",
       "      <td>0.000000</td>\n",
       "      <td>10.3</td>\n",
       "      <td>6.0</td>\n",
       "      <td>4.3</td>\n",
       "      <td>4.697469</td>\n",
       "      <td>[4.216802184362788, 5.180623730712141]</td>\n",
       "      <td>3.149833</td>\n",
       "      <td>[2.2991383622546797, 5.089488272920225]</td>\n",
       "      <td>1.547636</td>\n",
       "      <td>[-0.4577096500220877, 2.505793031532148]</td>\n",
       "      <td>622</td>\n",
       "      <td>76</td>\n",
       "      <td>NaN</td>\n",
       "      <td>NaN</td>\n",
       "    </tr>\n",
       "    <tr>\n",
       "      <th>7</th>\n",
       "      <td>KEYNOTE-024</td>\n",
       "      <td>all</td>\n",
       "      <td>4.300000</td>\n",
       "      <td>[3.9, 5.166666666666667]</td>\n",
       "      <td>4.833333</td>\n",
       "      <td>[3.1333333333333333, 6.133333333333334]</td>\n",
       "      <td>-0.533333</td>\n",
       "      <td>10.3</td>\n",
       "      <td>6.0</td>\n",
       "      <td>4.3</td>\n",
       "      <td>NaN</td>\n",
       "      <td>NaN</td>\n",
       "      <td>NaN</td>\n",
       "      <td>NaN</td>\n",
       "      <td>NaN</td>\n",
       "      <td>NaN</td>\n",
       "      <td>1896</td>\n",
       "      <td>240</td>\n",
       "      <td>0.852015</td>\n",
       "      <td>[0.7241494406497687, 1.0024586250318155]</td>\n",
       "    </tr>\n",
       "    <tr>\n",
       "      <th>8</th>\n",
       "      <td>KEYNOTE-189</td>\n",
       "      <td>low</td>\n",
       "      <td>23.866667</td>\n",
       "      <td>[19.833333333333332, 28.366666666666667]</td>\n",
       "      <td>18.833333</td>\n",
       "      <td>[17.933333333333334, 19.966666666666665]</td>\n",
       "      <td>5.033333</td>\n",
       "      <td>22.0</td>\n",
       "      <td>10.6</td>\n",
       "      <td>11.4</td>\n",
       "      <td>22.637211</td>\n",
       "      <td>[21.544869832885926, 23.88071282856943]</td>\n",
       "      <td>20.535516</td>\n",
       "      <td>[19.978771189111225, 21.10710706948151]</td>\n",
       "      <td>2.101695</td>\n",
       "      <td>[0.8337600603596916, 3.5185753746409056]</td>\n",
       "      <td>4825</td>\n",
       "      <td>3524</td>\n",
       "      <td>NaN</td>\n",
       "      <td>NaN</td>\n",
       "    </tr>\n",
       "    <tr>\n",
       "      <th>9</th>\n",
       "      <td>KEYNOTE-189</td>\n",
       "      <td>medium</td>\n",
       "      <td>12.200000</td>\n",
       "      <td>[10.766666666666667, 14.133333333333333]</td>\n",
       "      <td>11.166667</td>\n",
       "      <td>[10.433333333333334, 11.966666666666667]</td>\n",
       "      <td>1.033333</td>\n",
       "      <td>22.0</td>\n",
       "      <td>10.6</td>\n",
       "      <td>11.4</td>\n",
       "      <td>16.044271</td>\n",
       "      <td>[14.916544719546808, 17.2613484743129]</td>\n",
       "      <td>15.224627</td>\n",
       "      <td>[14.63087081644326, 15.802212537130716]</td>\n",
       "      <td>0.819644</td>\n",
       "      <td>[-0.3526890544288134, 2.2082971504959144]</td>\n",
       "      <td>5263</td>\n",
       "      <td>3951</td>\n",
       "      <td>NaN</td>\n",
       "      <td>NaN</td>\n",
       "    </tr>\n",
       "    <tr>\n",
       "      <th>10</th>\n",
       "      <td>KEYNOTE-189</td>\n",
       "      <td>high</td>\n",
       "      <td>5.100000</td>\n",
       "      <td>[4.433333333333334, 6.0]</td>\n",
       "      <td>4.466667</td>\n",
       "      <td>[4.166666666666667, 5.066666666666666]</td>\n",
       "      <td>0.633333</td>\n",
       "      <td>22.0</td>\n",
       "      <td>10.6</td>\n",
       "      <td>11.4</td>\n",
       "      <td>10.133922</td>\n",
       "      <td>[9.040569343505876, 11.36887337444083]</td>\n",
       "      <td>7.803545</td>\n",
       "      <td>[7.347213683099716, 8.324735371125206]</td>\n",
       "      <td>2.330377</td>\n",
       "      <td>[1.0823707348110998, 3.5911245406020433]</td>\n",
       "      <td>5541</td>\n",
       "      <td>4106</td>\n",
       "      <td>NaN</td>\n",
       "      <td>NaN</td>\n",
       "    </tr>\n",
       "    <tr>\n",
       "      <th>11</th>\n",
       "      <td>KEYNOTE-189</td>\n",
       "      <td>all</td>\n",
       "      <td>12.166667</td>\n",
       "      <td>[11.265833333333335, 13.066666666666666]</td>\n",
       "      <td>9.966667</td>\n",
       "      <td>[9.533333333333333, 10.433333333333334]</td>\n",
       "      <td>2.200000</td>\n",
       "      <td>22.0</td>\n",
       "      <td>10.6</td>\n",
       "      <td>11.4</td>\n",
       "      <td>NaN</td>\n",
       "      <td>NaN</td>\n",
       "      <td>NaN</td>\n",
       "      <td>NaN</td>\n",
       "      <td>NaN</td>\n",
       "      <td>NaN</td>\n",
       "      <td>15629</td>\n",
       "      <td>11581</td>\n",
       "      <td>0.851579</td>\n",
       "      <td>[0.7901287610933116, 0.9178089495068023]</td>\n",
       "    </tr>\n",
       "    <tr>\n",
       "      <th>12</th>\n",
       "      <td>CHECKMATE-078</td>\n",
       "      <td>low</td>\n",
       "      <td>13.466667</td>\n",
       "      <td>[11.933333333333334, 14.433333333333334]</td>\n",
       "      <td>10.100000</td>\n",
       "      <td>[6.966666666666667, 11.3]</td>\n",
       "      <td>3.366667</td>\n",
       "      <td>11.9</td>\n",
       "      <td>9.5</td>\n",
       "      <td>2.4</td>\n",
       "      <td>17.061383</td>\n",
       "      <td>[16.310940694601832, 17.84309446512569]</td>\n",
       "      <td>13.507632</td>\n",
       "      <td>[10.68208284937725, 16.489709587073225]</td>\n",
       "      <td>3.553752</td>\n",
       "      <td>[0.3052923658934494, 6.613064932401679]</td>\n",
       "      <td>1263</td>\n",
       "      <td>150</td>\n",
       "      <td>NaN</td>\n",
       "      <td>NaN</td>\n",
       "    </tr>\n",
       "    <tr>\n",
       "      <th>13</th>\n",
       "      <td>CHECKMATE-078</td>\n",
       "      <td>medium</td>\n",
       "      <td>9.366667</td>\n",
       "      <td>[8.566666666666666, 10.266666666666667]</td>\n",
       "      <td>4.266667</td>\n",
       "      <td>[2.966666666666667, 7.033333333333333]</td>\n",
       "      <td>5.100000</td>\n",
       "      <td>11.9</td>\n",
       "      <td>9.5</td>\n",
       "      <td>2.4</td>\n",
       "      <td>14.105704</td>\n",
       "      <td>[13.394073530086049, 14.836710648040313]</td>\n",
       "      <td>8.783209</td>\n",
       "      <td>[6.4465518374838195, 11.614396005000469]</td>\n",
       "      <td>5.322494</td>\n",
       "      <td>[2.4133708165417964, 7.854479986628653]</td>\n",
       "      <td>1269</td>\n",
       "      <td>155</td>\n",
       "      <td>NaN</td>\n",
       "      <td>NaN</td>\n",
       "    </tr>\n",
       "    <tr>\n",
       "      <th>14</th>\n",
       "      <td>CHECKMATE-078</td>\n",
       "      <td>high</td>\n",
       "      <td>4.866667</td>\n",
       "      <td>[4.266666666666667, 5.5]</td>\n",
       "      <td>4.166667</td>\n",
       "      <td>[2.796666666666667, 7.1]</td>\n",
       "      <td>0.700000</td>\n",
       "      <td>11.9</td>\n",
       "      <td>9.5</td>\n",
       "      <td>2.4</td>\n",
       "      <td>9.806457</td>\n",
       "      <td>[9.144095786553413, 10.478863782640092]</td>\n",
       "      <td>5.478899</td>\n",
       "      <td>[4.218055458539998, 6.935922067933291]</td>\n",
       "      <td>4.327558</td>\n",
       "      <td>[2.6844399206816663, 5.657671459688554]</td>\n",
       "      <td>1257</td>\n",
       "      <td>145</td>\n",
       "      <td>NaN</td>\n",
       "      <td>NaN</td>\n",
       "    </tr>\n",
       "    <tr>\n",
       "      <th>15</th>\n",
       "      <td>CHECKMATE-078</td>\n",
       "      <td>all</td>\n",
       "      <td>8.700000</td>\n",
       "      <td>[8.332500000000001, 9.234166666666665]</td>\n",
       "      <td>6.666667</td>\n",
       "      <td>[4.4, 7.566666666666666]</td>\n",
       "      <td>2.033333</td>\n",
       "      <td>11.9</td>\n",
       "      <td>9.5</td>\n",
       "      <td>2.4</td>\n",
       "      <td>NaN</td>\n",
       "      <td>NaN</td>\n",
       "      <td>NaN</td>\n",
       "      <td>NaN</td>\n",
       "      <td>NaN</td>\n",
       "      <td>NaN</td>\n",
       "      <td>3789</td>\n",
       "      <td>450</td>\n",
       "      <td>0.613394</td>\n",
       "      <td>[0.5237289518542703, 0.7184104371223985]</td>\n",
       "    </tr>\n",
       "  </tbody>\n",
       "</table>\n",
       "</div>"
      ],
      "text/plain": [
       "       trial_name risk_group  r_trt_mos  \\\n",
       "0     KEYNOTE-042        low  25.933333   \n",
       "1     KEYNOTE-042     medium  14.533333   \n",
       "2     KEYNOTE-042       high   4.166667   \n",
       "3     KEYNOTE-042        all  12.966667   \n",
       "4     KEYNOTE-024        low   9.233333   \n",
       "5     KEYNOTE-024     medium   5.466667   \n",
       "6     KEYNOTE-024       high   2.233333   \n",
       "7     KEYNOTE-024        all   4.300000   \n",
       "8     KEYNOTE-189        low  23.866667   \n",
       "9     KEYNOTE-189     medium  12.200000   \n",
       "10    KEYNOTE-189       high   5.100000   \n",
       "11    KEYNOTE-189        all  12.166667   \n",
       "12  CHECKMATE-078        low  13.466667   \n",
       "13  CHECKMATE-078     medium   9.366667   \n",
       "14  CHECKMATE-078       high   4.866667   \n",
       "15  CHECKMATE-078        all   8.700000   \n",
       "\n",
       "                                r_trt_mos_95  r_cont_mos  \\\n",
       "0                  [22.7, 32.63333333333333]   23.166667   \n",
       "1                 [12.1, 18.066666666666666]   17.533333   \n",
       "2    [3.4991666666666665, 4.866666666666666]    6.066667   \n",
       "3                 [11.6, 14.433333333333334]   12.500000   \n",
       "4                  [7.7, 11.133333333333333]    5.833333   \n",
       "5                   [4.133333333333334, 6.4]    6.766667   \n",
       "6                                 [2.0, 2.4]    2.233333   \n",
       "7                   [3.9, 5.166666666666667]    4.833333   \n",
       "8   [19.833333333333332, 28.366666666666667]   18.833333   \n",
       "9   [10.766666666666667, 14.133333333333333]   11.166667   \n",
       "10                  [4.433333333333334, 6.0]    4.466667   \n",
       "11  [11.265833333333335, 13.066666666666666]    9.966667   \n",
       "12  [11.933333333333334, 14.433333333333334]   10.100000   \n",
       "13   [8.566666666666666, 10.266666666666667]    4.266667   \n",
       "14                  [4.266666666666667, 5.5]    4.166667   \n",
       "15    [8.332500000000001, 9.234166666666665]    6.666667   \n",
       "\n",
       "                               r_cont_mos_95  r_mos_diff  rct_trt_arm  \\\n",
       "0   [17.733333333333334, 27.433333333333334]    2.766667         16.7   \n",
       "1                 [11.133333333333333, 19.5]   -3.000000         16.7   \n",
       "2     [4.329166666666667, 7.733333333333333]   -1.900000         16.7   \n",
       "3   [10.965833333333334, 15.166666666666666]    0.466667         16.7   \n",
       "4                                 [2.7, 9.7]    3.400000         10.3   \n",
       "5                [4.265, 10.866666666666667]   -1.300000         10.3   \n",
       "6                  [1.4, 3.1333333333333333]    0.000000         10.3   \n",
       "7    [3.1333333333333333, 6.133333333333334]   -0.533333         10.3   \n",
       "8   [17.933333333333334, 19.966666666666665]    5.033333         22.0   \n",
       "9   [10.433333333333334, 11.966666666666667]    1.033333         22.0   \n",
       "10    [4.166666666666667, 5.066666666666666]    0.633333         22.0   \n",
       "11   [9.533333333333333, 10.433333333333334]    2.200000         22.0   \n",
       "12                 [6.966666666666667, 11.3]    3.366667         11.9   \n",
       "13    [2.966666666666667, 7.033333333333333]    5.100000         11.9   \n",
       "14                  [2.796666666666667, 7.1]    0.700000         11.9   \n",
       "15                  [4.4, 7.566666666666666]    2.033333         11.9   \n",
       "\n",
       "    rct_cont_arm  rct_mos_diff   trt_rmst  \\\n",
       "0           12.1           4.6  22.885616   \n",
       "1           12.1           4.6  18.209362   \n",
       "2           12.1           4.6  10.801809   \n",
       "3           12.1           4.6        NaN   \n",
       "4            6.0           4.3   9.962931   \n",
       "5            6.0           4.3   7.834143   \n",
       "6            6.0           4.3   4.697469   \n",
       "7            6.0           4.3        NaN   \n",
       "8           10.6          11.4  22.637211   \n",
       "9           10.6          11.4  16.044271   \n",
       "10          10.6          11.4  10.133922   \n",
       "11          10.6          11.4        NaN   \n",
       "12           9.5           2.4  17.061383   \n",
       "13           9.5           2.4  14.105704   \n",
       "14           9.5           2.4   9.806457   \n",
       "15           9.5           2.4        NaN   \n",
       "\n",
       "                                 trt_rmst_95  cont_rmst  \\\n",
       "0   [21.745064649363883, 24.008568671036507]  22.215395   \n",
       "1   [16.975288037394186, 19.334500992671614]  17.985655   \n",
       "2    [9.871310661086603, 11.705978321942231]  10.241543   \n",
       "3                                        NaN        NaN   \n",
       "4     [9.384983391372538, 10.61093499679533]   8.140591   \n",
       "5     [7.247676746754834, 8.406502218941895]   8.847136   \n",
       "6     [4.216802184362788, 5.180623730712141]   3.149833   \n",
       "7                                        NaN        NaN   \n",
       "8    [21.544869832885926, 23.88071282856943]  20.535516   \n",
       "9     [14.916544719546808, 17.2613484743129]  15.224627   \n",
       "10    [9.040569343505876, 11.36887337444083]   7.803545   \n",
       "11                                       NaN        NaN   \n",
       "12   [16.310940694601832, 17.84309446512569]  13.507632   \n",
       "13  [13.394073530086049, 14.836710648040313]   8.783209   \n",
       "14   [9.144095786553413, 10.478863782640092]   5.478899   \n",
       "15                                       NaN        NaN   \n",
       "\n",
       "                                cont_rmst_95  diff_rmst  \\\n",
       "0    [19.074306747125835, 24.48511725015636]   0.670221   \n",
       "1    [15.150986697134792, 20.31861500951813]   0.223707   \n",
       "2     [7.88274591118686, 12.694509533805606]   0.560267   \n",
       "3                                        NaN        NaN   \n",
       "4    [6.326049089881067, 10.017809795699154]   1.822340   \n",
       "5    [6.435105843681587, 11.181060579205107]  -1.012993   \n",
       "6    [2.2991383622546797, 5.089488272920225]   1.547636   \n",
       "7                                        NaN        NaN   \n",
       "8    [19.978771189111225, 21.10710706948151]   2.101695   \n",
       "9    [14.63087081644326, 15.802212537130716]   0.819644   \n",
       "10    [7.347213683099716, 8.324735371125206]   2.330377   \n",
       "11                                       NaN        NaN   \n",
       "12   [10.68208284937725, 16.489709587073225]   3.553752   \n",
       "13  [6.4465518374838195, 11.614396005000469]   5.322494   \n",
       "14    [4.218055458539998, 6.935922067933291]   4.327558   \n",
       "15                                       NaN        NaN   \n",
       "\n",
       "                                  diff_rmst_95  rcount  rcount_chemo  \\\n",
       "0    [-1.9333075858791289, 3.8200100972148214]    1231           335   \n",
       "1     [-2.5591840204995857, 3.089148108280846]    1353           370   \n",
       "2     [-2.158321340616336, 3.0563082417678653]    1407           372   \n",
       "3                                          NaN    3991          1077   \n",
       "4   [-0.10107844848126439, 3.7305269952761444]     630            83   \n",
       "5      [-3.388098756672839, 1.498227799152481]     644            81   \n",
       "6     [-0.4577096500220877, 2.505793031532148]     622            76   \n",
       "7                                          NaN    1896           240   \n",
       "8     [0.8337600603596916, 3.5185753746409056]    4825          3524   \n",
       "9    [-0.3526890544288134, 2.2082971504959144]    5263          3951   \n",
       "10    [1.0823707348110998, 3.5911245406020433]    5541          4106   \n",
       "11                                         NaN   15629         11581   \n",
       "12     [0.3052923658934494, 6.613064932401679]    1263           150   \n",
       "13     [2.4133708165417964, 7.854479986628653]    1269           155   \n",
       "14     [2.6844399206816663, 5.657671459688554]    1257           145   \n",
       "15                                         NaN    3789           450   \n",
       "\n",
       "        r_hr                                   r_hr_95  \n",
       "0        NaN                                       NaN  \n",
       "1        NaN                                       NaN  \n",
       "2        NaN                                       NaN  \n",
       "3   0.975164  [0.8503047899525819, 1.1183572145368943]  \n",
       "4        NaN                                       NaN  \n",
       "5        NaN                                       NaN  \n",
       "6        NaN                                       NaN  \n",
       "7   0.852015  [0.7241494406497687, 1.0024586250318155]  \n",
       "8        NaN                                       NaN  \n",
       "9        NaN                                       NaN  \n",
       "10       NaN                                       NaN  \n",
       "11  0.851579  [0.7901287610933116, 0.9178089495068023]  \n",
       "12       NaN                                       NaN  \n",
       "13       NaN                                       NaN  \n",
       "14       NaN                                       NaN  \n",
       "15  0.613394  [0.5237289518542703, 0.7184104371223985]  "
      ]
     },
     "execution_count": 444,
     "metadata": {},
     "output_type": "execute_result"
    }
   ],
   "source": [
    "rtrials_dc_mos"
   ]
  },
  {
   "cell_type": "code",
   "execution_count": 445,
   "id": "416930e9",
   "metadata": {},
   "outputs": [],
   "source": [
    "rtrials_dc_mos.to_csv('rtrials_dc_mos.csv', index = False)"
   ]
  }
 ],
 "metadata": {
  "kernelspec": {
   "display_name": "My Virtual Environment",
   "language": "python",
   "name": "myenv"
  },
  "language_info": {
   "codemirror_mode": {
    "name": "ipython",
    "version": 3
   },
   "file_extension": ".py",
   "mimetype": "text/x-python",
   "name": "python",
   "nbconvert_exporter": "python",
   "pygments_lexer": "ipython3",
   "version": "3.7.10"
  }
 },
 "nbformat": 4,
 "nbformat_minor": 5
}
