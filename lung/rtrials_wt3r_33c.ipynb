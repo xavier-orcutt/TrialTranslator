{
 "cells": [
  {
   "cell_type": "markdown",
   "id": "ae1e0883",
   "metadata": {},
   "source": [
    "# Flatiron Health aNSCLC: Relaxed trials with GBM crude\n",
    "\n",
    "***OBJECTIVE:*** **Reproduce 5 landmark clinical trials in aNSCLC. Inclusion criteria for these trials will be pragmatically relaxed to allow for entry of our real-world patients, many of which would not meet criteria for inclusion in randomized controlled trials. Patients included in our trials will next be risk stratified using the gradient boosted model with crude imputation into 1 of 3 risk groups: high (top tertile), medium (middle tertile), and low (bottom tertile). Inverse-probability treatment weighted survival analysis will then be performed across these risk groups to get real-world estimates of survival while adjusting for measured confounders.** \n",
    "\n",
    "***OUTLINE:***\n",
    "1. **Preprocessing**\n",
    "2. **In silico trials:**\n",
    "* KEYNOTE-042 \n",
    "* KEYNOTE-024\n",
    "* KEYNOTE-189 \n",
    "* CHECKMATE-078\n",
    "* FLAURA"
   ]
  },
  {
   "cell_type": "markdown",
   "id": "3f752e33",
   "metadata": {},
   "source": [
    "## Part 1: Preprocessing"
   ]
  },
  {
   "cell_type": "markdown",
   "id": "d5198256",
   "metadata": {},
   "source": [
    "### 1.1 Import packages and create necessary functions"
   ]
  },
  {
   "cell_type": "code",
   "execution_count": 1,
   "id": "7b630bed",
   "metadata": {},
   "outputs": [],
   "source": [
    "import numpy as np\n",
    "import pandas as pd\n",
    "\n",
    "from scipy import stats\n",
    "\n",
    "from sksurv.nonparametric import kaplan_meier_estimator\n",
    "from survive import KaplanMeier, SurvivalData\n",
    "\n",
    "from lifelines import KaplanMeierFitter\n",
    "from lifelines.plotting import add_at_risk_counts\n",
    "from lifelines.utils import median_survival_times\n",
    "\n",
    "import matplotlib.pyplot as plt\n",
    "import matplotlib.gridspec as gridspec\n",
    "\n",
    "from sklearn.pipeline import Pipeline\n",
    "from sklearn.impute import SimpleImputer\n",
    "from sklearn.preprocessing import StandardScaler, OneHotEncoder\n",
    "from sklearn.compose import ColumnTransformer \n",
    "from sklearn.linear_model import LogisticRegression\n",
    "\n",
    "from matplotlib.lines import Line2D   "
   ]
  },
  {
   "cell_type": "code",
   "execution_count": 2,
   "id": "95b03bee",
   "metadata": {},
   "outputs": [],
   "source": [
    "# Function that returns number of rows and count of unique PatientIDs for a dataframe. \n",
    "def row_ID(dataframe):\n",
    "    row = dataframe.shape[0]\n",
    "    ID = dataframe['PatientID'].nunique()\n",
    "    return row, ID"
   ]
  },
  {
   "cell_type": "markdown",
   "id": "d38aeac9",
   "metadata": {},
   "source": [
    "### 1.2 Process data "
   ]
  },
  {
   "cell_type": "code",
   "execution_count": 3,
   "id": "598282f0",
   "metadata": {},
   "outputs": [
    {
     "data": {
      "text/plain": [
       "(54786, 54786)"
      ]
     },
     "execution_count": 3,
     "metadata": {},
     "output_type": "execute_result"
    }
   ],
   "source": [
    "train = pd.read_csv('train_full.csv')\n",
    "row_ID(train)"
   ]
  },
  {
   "cell_type": "code",
   "execution_count": 4,
   "id": "ea632e0b",
   "metadata": {},
   "outputs": [
    {
     "data": {
      "text/plain": [
       "(13697, 13697)"
      ]
     },
     "execution_count": 4,
     "metadata": {},
     "output_type": "execute_result"
    }
   ],
   "source": [
    "test = pd.read_csv('test_full.csv')\n",
    "row_ID(test)"
   ]
  },
  {
   "cell_type": "code",
   "execution_count": 5,
   "id": "43640388",
   "metadata": {},
   "outputs": [
    {
     "data": {
      "text/plain": [
       "(68483, 68483)"
      ]
     },
     "execution_count": 5,
     "metadata": {},
     "output_type": "execute_result"
    }
   ],
   "source": [
    "df = pd.concat([train, test], ignore_index = True)\n",
    "row_ID(df)"
   ]
  },
  {
   "cell_type": "code",
   "execution_count": 6,
   "id": "4923d429",
   "metadata": {},
   "outputs": [
    {
     "data": {
      "text/plain": [
       "(68483, 68483)"
      ]
     },
     "execution_count": 6,
     "metadata": {},
     "output_type": "execute_result"
    }
   ],
   "source": [
    "crude_risk_score_df = pd.read_csv('crude_risk_score_df.csv')\n",
    "row_ID(crude_risk_score_df)"
   ]
  },
  {
   "cell_type": "code",
   "execution_count": 7,
   "id": "66bb5a2d",
   "metadata": {},
   "outputs": [
    {
     "data": {
      "text/plain": [
       "(68483, 68483)"
      ]
     },
     "execution_count": 7,
     "metadata": {},
     "output_type": "execute_result"
    }
   ],
   "source": [
    "df = pd.merge(df, crude_risk_score_df, on = 'PatientID')\n",
    "row_ID(df)"
   ]
  },
  {
   "cell_type": "code",
   "execution_count": 8,
   "id": "bef1602c",
   "metadata": {},
   "outputs": [],
   "source": [
    "df.to_csv('df_risk_crude.csv', index = False, header = True)"
   ]
  },
  {
   "cell_type": "markdown",
   "id": "8cea57ca",
   "metadata": {},
   "source": [
    "## Part 2: In-silico trials "
   ]
  },
  {
   "cell_type": "markdown",
   "id": "70521978",
   "metadata": {},
   "source": [
    "### KEYNOTE-042: First-line pembrolizumab vs. platinum-based chemotherapy in those with PDL1 >=1%\n",
    "\n",
    "**INCLUSION CRITERIA**\n",
    "* Untreated locally advanced or metastatic NSCLC\n",
    "* Received first line pemobrolizumab or platinum-based chemotherapy\n",
    "* PDL1 >= 1% and status known within (-inf, +30] days of first-line treatment\n",
    "* EGFR and ALK negative"
   ]
  },
  {
   "cell_type": "markdown",
   "id": "39c56be9",
   "metadata": {},
   "source": [
    "#### Pembrolizumab"
   ]
  },
  {
   "cell_type": "code",
   "execution_count": 9,
   "id": "bf940a2c",
   "metadata": {},
   "outputs": [
    {
     "data": {
      "text/plain": [
       "68483"
      ]
     },
     "execution_count": 9,
     "metadata": {},
     "output_type": "execute_result"
    }
   ],
   "source": [
    "df_full = pd.read_csv('df_risk_crude.csv', index_col = 'PatientID', dtype = {'death_status': bool})\n",
    "df_full.index.nunique()"
   ]
  },
  {
   "cell_type": "code",
   "execution_count": 10,
   "id": "298263bc",
   "metadata": {},
   "outputs": [],
   "source": [
    "line_therapy = pd.read_csv('LineOfTherapy.csv')"
   ]
  },
  {
   "cell_type": "code",
   "execution_count": 11,
   "id": "7f08aae8",
   "metadata": {},
   "outputs": [],
   "source": [
    "key042_pembro = (\n",
    "    line_therapy[line_therapy['PatientID'].isin(df_full.index)]\n",
    "    .query('LineNumber == 1')\n",
    "    .query('IsMaintenanceTherapy == False')\n",
    "    .query('LineName == \"Pembrolizumab\"')\n",
    "    [['PatientID', 'StartDate']]\n",
    ")"
   ]
  },
  {
   "cell_type": "code",
   "execution_count": 12,
   "id": "adfc80e8",
   "metadata": {},
   "outputs": [],
   "source": [
    "key042_pembro.loc[:, 'pembro'] = 1"
   ]
  },
  {
   "cell_type": "code",
   "execution_count": 13,
   "id": "9096d339",
   "metadata": {},
   "outputs": [
    {
     "data": {
      "text/plain": [
       "(3648, 3648)"
      ]
     },
     "execution_count": 13,
     "metadata": {},
     "output_type": "execute_result"
    }
   ],
   "source": [
    "row_ID(key042_pembro)"
   ]
  },
  {
   "cell_type": "code",
   "execution_count": 14,
   "id": "124c1eb8",
   "metadata": {},
   "outputs": [],
   "source": [
    "# Dataframe of all therapies received for those receiving first line pembrolizumab only. \n",
    "line_therapy_pembro_042 = (\n",
    "    line_therapy[line_therapy['PatientID'].isin(key042_pembro.PatientID)])"
   ]
  },
  {
   "cell_type": "code",
   "execution_count": 15,
   "id": "8a8a07fd",
   "metadata": {},
   "outputs": [],
   "source": [
    "targeted = [\n",
    "    'Afatinib',\n",
    "    'Alectinib',\n",
    "    'Brigatinib',\n",
    "    'Cabozantinib',\n",
    "    'Capmatinib',\n",
    "    'Ceritinib',\n",
    "    'Crizotinib',\n",
    "    'Dabrafenib',\n",
    "    'Dacomitinib',\n",
    "    'Entrectinib',\n",
    "    'Erlotinib',\n",
    "    'Gefitinib',\n",
    "    'Lorlatinib',\n",
    "    'Osimertinib',\n",
    "    'Pralsetinib',\n",
    "    'Selpercatinib',\n",
    "    'Sotorasib',\n",
    "    'Tepotinib',\n",
    "    'Trametinib',\n",
    "    'Vandetanib']"
   ]
  },
  {
   "cell_type": "code",
   "execution_count": 16,
   "id": "cb17f0c2",
   "metadata": {},
   "outputs": [],
   "source": [
    "# Patients receiving pembrolizumab therapy who later recieve targeted therapy. \n",
    "pembro_042_xcross = (\n",
    "    line_therapy_pembro_042[line_therapy_pembro_042['LineName'].str.contains('|'.join(targeted))].PatientID)"
   ]
  },
  {
   "cell_type": "code",
   "execution_count": 17,
   "id": "6a45a0ff",
   "metadata": {},
   "outputs": [],
   "source": [
    "# Select patients who don't receive targeted therapy in future lines.\n",
    "key042_pembro = key042_pembro[~key042_pembro['PatientID'].isin(pembro_042_xcross)]"
   ]
  },
  {
   "cell_type": "code",
   "execution_count": 18,
   "id": "314ebe77",
   "metadata": {},
   "outputs": [
    {
     "data": {
      "text/plain": [
       "(3582, 3582)"
      ]
     },
     "execution_count": 18,
     "metadata": {},
     "output_type": "execute_result"
    }
   ],
   "source": [
    "row_ID(key042_pembro)"
   ]
  },
  {
   "cell_type": "code",
   "execution_count": 19,
   "id": "7d72f784",
   "metadata": {},
   "outputs": [
    {
     "data": {
      "text/plain": [
       "(3582, 3582)"
      ]
     },
     "execution_count": 19,
     "metadata": {},
     "output_type": "execute_result"
    }
   ],
   "source": [
    "row_ID(key042_pembro)"
   ]
  },
  {
   "cell_type": "markdown",
   "id": "99a741a0",
   "metadata": {},
   "source": [
    "#### Platinum-based chemotherapy "
   ]
  },
  {
   "cell_type": "code",
   "execution_count": 20,
   "id": "846800c2",
   "metadata": {},
   "outputs": [],
   "source": [
    "line_therapy_fl = (\n",
    "    line_therapy[line_therapy['PatientID'].isin(df_full.index)]\n",
    "    .query('LineNumber == 1')\n",
    "    .query('IsMaintenanceTherapy == False')\n",
    ")"
   ]
  },
  {
   "cell_type": "code",
   "execution_count": 21,
   "id": "a974088e",
   "metadata": {},
   "outputs": [],
   "source": [
    "plat_chemo = [\n",
    "    'Carboplatin',\n",
    "    'Cisplatin']\n",
    "\n",
    "immuno = [\n",
    "    'Atezolizumab',\n",
    "    'Cemiplimab',\n",
    "    'Durvalumab',\n",
    "    'Ipilimumab',\n",
    "    'Nivolumab',\n",
    "    'Pembrolizumab'\n",
    "]"
   ]
  },
  {
   "cell_type": "code",
   "execution_count": 22,
   "id": "061f38e5",
   "metadata": {},
   "outputs": [
    {
     "data": {
      "text/plain": [
       "Carboplatin,Paclitaxel                  8524\n",
       "Carboplatin,Pemetrexed                  5417\n",
       "Bevacizumab,Carboplatin,Pemetrexed      2825\n",
       "Carboplatin,Paclitaxel Protein-Bound    1826\n",
       "Bevacizumab,Carboplatin,Paclitaxel      1591\n",
       "Carboplatin,Gemcitabine                 1224\n",
       "Cisplatin,Etoposide                      793\n",
       "Carboplatin,Docetaxel                    780\n",
       "Cisplatin,Pemetrexed                     684\n",
       "Carboplatin,Etoposide                    363\n",
       "Name: LineName, dtype: int64"
      ]
     },
     "execution_count": 22,
     "metadata": {},
     "output_type": "execute_result"
    }
   ],
   "source": [
    "line_therapy_fl[line_therapy_fl['LineName'].str.contains('|'.join(plat_chemo)) & \n",
    "                ~line_therapy_fl['LineName'].str.contains('|'.join(immuno)) &\n",
    "                ~line_therapy_fl['LineName'].str.contains('|'.join(targeted)) &\n",
    "                ~line_therapy_fl['LineName'].str.contains('Clinical Study Drug')].LineName.value_counts().head(10)"
   ]
  },
  {
   "cell_type": "code",
   "execution_count": 23,
   "id": "7c524aeb",
   "metadata": {},
   "outputs": [],
   "source": [
    "key042_plat = (\n",
    "    line_therapy_fl[line_therapy_fl['LineName'].str.contains('|'.join(plat_chemo)) & \n",
    "                    ~line_therapy_fl['LineName'].str.contains('|'.join(immuno)) &\n",
    "                    ~line_therapy_fl['LineName'].str.contains('|'.join(targeted)) &\n",
    "                    ~line_therapy_fl['LineName'].str.contains('Clinical Study Drug')]\n",
    "    [['PatientID', 'StartDate']]\n",
    ")"
   ]
  },
  {
   "cell_type": "code",
   "execution_count": 24,
   "id": "9027dc09",
   "metadata": {},
   "outputs": [],
   "source": [
    "key042_plat.loc[:, 'pembro'] = 0"
   ]
  },
  {
   "cell_type": "code",
   "execution_count": 25,
   "id": "3b64dc6e",
   "metadata": {},
   "outputs": [
    {
     "data": {
      "text/plain": [
       "(25861, 25861)"
      ]
     },
     "execution_count": 25,
     "metadata": {},
     "output_type": "execute_result"
    }
   ],
   "source": [
    "row_ID(key042_plat)"
   ]
  },
  {
   "cell_type": "code",
   "execution_count": 26,
   "id": "8948f1a8",
   "metadata": {},
   "outputs": [],
   "source": [
    "# Dataframe of all therapies received for those receiving first line platinum regimen   \n",
    "line_therapy_plat_042 = (\n",
    "    line_therapy[line_therapy['PatientID'].isin(key042_plat.PatientID)])"
   ]
  },
  {
   "cell_type": "code",
   "execution_count": 27,
   "id": "066d5f94",
   "metadata": {},
   "outputs": [],
   "source": [
    "# Patients receiving platinum therapy who later recieve targeted therapy. \n",
    "plat_042_xcross = (\n",
    "    line_therapy_plat_042[line_therapy_plat_042['LineName'].str.contains('|'.join(targeted))].PatientID)"
   ]
  },
  {
   "cell_type": "code",
   "execution_count": 28,
   "id": "073bbfe1",
   "metadata": {},
   "outputs": [],
   "source": [
    "# Select patients who don't receive targeted therapy in future lines \n",
    "key042_plat = key042_plat[~key042_plat['PatientID'].isin(plat_042_xcross)]"
   ]
  },
  {
   "cell_type": "code",
   "execution_count": 29,
   "id": "dc9aa357",
   "metadata": {},
   "outputs": [
    {
     "data": {
      "text/plain": [
       "(23800, 23800)"
      ]
     },
     "execution_count": 29,
     "metadata": {},
     "output_type": "execute_result"
    }
   ],
   "source": [
    "row_ID(key042_plat)"
   ]
  },
  {
   "cell_type": "code",
   "execution_count": 30,
   "id": "678f0002",
   "metadata": {},
   "outputs": [],
   "source": [
    "key_042 = pd.concat([key042_pembro, key042_plat])"
   ]
  },
  {
   "cell_type": "code",
   "execution_count": 31,
   "id": "a7790e95",
   "metadata": {},
   "outputs": [
    {
     "data": {
      "text/plain": [
       "(27382, 27382)"
      ]
     },
     "execution_count": 31,
     "metadata": {},
     "output_type": "execute_result"
    }
   ],
   "source": [
    "row_ID(key_042)"
   ]
  },
  {
   "cell_type": "code",
   "execution_count": 32,
   "id": "e1dc37d4",
   "metadata": {},
   "outputs": [],
   "source": [
    "key_042 = pd.merge(key_042, df_full, on = 'PatientID', how = 'left')"
   ]
  },
  {
   "cell_type": "code",
   "execution_count": 33,
   "id": "93b5287b",
   "metadata": {},
   "outputs": [
    {
     "data": {
      "text/plain": [
       "(27382, 27382)"
      ]
     },
     "execution_count": 33,
     "metadata": {},
     "output_type": "execute_result"
    }
   ],
   "source": [
    "row_ID(key_042)"
   ]
  },
  {
   "cell_type": "code",
   "execution_count": 34,
   "id": "0adb668c",
   "metadata": {},
   "outputs": [],
   "source": [
    "key_042['StartDate'] = pd.to_datetime(key_042['StartDate'])"
   ]
  },
  {
   "cell_type": "markdown",
   "id": "2052ca7a",
   "metadata": {},
   "source": [
    "#### PDL1 >=1%"
   ]
  },
  {
   "cell_type": "code",
   "execution_count": 35,
   "id": "56796c29",
   "metadata": {},
   "outputs": [],
   "source": [
    "biomarkers = pd.read_csv('Enhanced_AdvNSCLCBiomarkers.csv')"
   ]
  },
  {
   "cell_type": "code",
   "execution_count": 36,
   "id": "472f9355",
   "metadata": {},
   "outputs": [],
   "source": [
    "biomarkers = biomarkers[biomarkers['PatientID'].isin(key_042['PatientID'])]"
   ]
  },
  {
   "cell_type": "code",
   "execution_count": 37,
   "id": "6d3adc84",
   "metadata": {},
   "outputs": [],
   "source": [
    "biomarkers = pd.merge(biomarkers, key_042[['PatientID', 'StartDate']], on = 'PatientID', how = 'left')"
   ]
  },
  {
   "cell_type": "code",
   "execution_count": 38,
   "id": "68fbecd3",
   "metadata": {},
   "outputs": [
    {
     "data": {
      "text/plain": [
       "(94603, 19875)"
      ]
     },
     "execution_count": 38,
     "metadata": {},
     "output_type": "execute_result"
    }
   ],
   "source": [
    "row_ID(biomarkers)"
   ]
  },
  {
   "cell_type": "code",
   "execution_count": 39,
   "id": "de8ab863",
   "metadata": {},
   "outputs": [],
   "source": [
    "biomarkers['ResultDate'] = pd.to_datetime(biomarkers['ResultDate'])"
   ]
  },
  {
   "cell_type": "code",
   "execution_count": 40,
   "id": "76782363",
   "metadata": {},
   "outputs": [],
   "source": [
    "biomarkers['SpecimenReceivedDate'] = pd.to_datetime(biomarkers['SpecimenReceivedDate'])"
   ]
  },
  {
   "cell_type": "code",
   "execution_count": 41,
   "id": "737dbd8a",
   "metadata": {},
   "outputs": [],
   "source": [
    "biomarkers.loc[:, 'result_date'] = (\n",
    "    np.where(biomarkers['ResultDate'].isna(), biomarkers['SpecimenReceivedDate'], biomarkers['ResultDate'])\n",
    ")"
   ]
  },
  {
   "cell_type": "code",
   "execution_count": 42,
   "id": "0a452926",
   "metadata": {},
   "outputs": [],
   "source": [
    "biomarkers.loc[:, 'date_diff'] = (biomarkers['result_date'] - biomarkers['StartDate']).dt.days"
   ]
  },
  {
   "cell_type": "code",
   "execution_count": 43,
   "id": "304644cb",
   "metadata": {},
   "outputs": [],
   "source": [
    "pdl1_value = (\n",
    "    biomarkers\n",
    "    .query('BiomarkerName == \"PDL1\"')\n",
    "    .query('date_diff <=30')\n",
    "    .query('PercentStaining != \"0%\" and PercentStaining != \"< 1%\" and PercentStaining.notnull()', engine = 'python')\n",
    "    .sort_values(by = ['PatientID', 'PercentStaining'], ascending = [True, False])\n",
    "    .drop_duplicates(subset = ['PatientID'], keep = 'first')\n",
    "    [['PatientID', 'PercentStaining']]\n",
    ")"
   ]
  },
  {
   "cell_type": "code",
   "execution_count": 44,
   "id": "02d06083",
   "metadata": {},
   "outputs": [],
   "source": [
    "pdl1_ids = (\n",
    "    biomarkers\n",
    "    .query('BiomarkerName == \"PDL1\"')\n",
    "    .query('date_diff <=30')\n",
    "    .query('PercentStaining != \"0%\" and PercentStaining != \"< 1%\" and PercentStaining.notnull()', engine = 'python')\n",
    "    .PatientID\n",
    "    .unique()\n",
    ")"
   ]
  },
  {
   "cell_type": "code",
   "execution_count": 45,
   "id": "00df749c",
   "metadata": {},
   "outputs": [],
   "source": [
    "key_042 = key_042[key_042.PatientID.isin(pdl1_ids)]"
   ]
  },
  {
   "cell_type": "code",
   "execution_count": 46,
   "id": "61770eaf",
   "metadata": {},
   "outputs": [
    {
     "data": {
      "text/plain": [
       "(5671, 5671)"
      ]
     },
     "execution_count": 46,
     "metadata": {},
     "output_type": "execute_result"
    }
   ],
   "source": [
    "row_ID(key_042)"
   ]
  },
  {
   "cell_type": "markdown",
   "id": "011cfc5a",
   "metadata": {},
   "source": [
    "#### Time from treatment to death or censor"
   ]
  },
  {
   "cell_type": "code",
   "execution_count": 47,
   "id": "08be94c2",
   "metadata": {},
   "outputs": [],
   "source": [
    "mortality_tr = pd.read_csv('mortality_cleaned_tr.csv')"
   ]
  },
  {
   "cell_type": "code",
   "execution_count": 48,
   "id": "b61fbba4",
   "metadata": {},
   "outputs": [],
   "source": [
    "mortality_te = pd.read_csv('mortality_cleaned_te.csv')"
   ]
  },
  {
   "cell_type": "code",
   "execution_count": 49,
   "id": "b743f8f2",
   "metadata": {},
   "outputs": [],
   "source": [
    "mortality_tr = mortality_tr[['PatientID', 'death_date', 'last_activity']]"
   ]
  },
  {
   "cell_type": "code",
   "execution_count": 50,
   "id": "29950dbf",
   "metadata": {},
   "outputs": [],
   "source": [
    "mortality_te = mortality_te[['PatientID', 'death_date', 'last_activity']]"
   ]
  },
  {
   "cell_type": "code",
   "execution_count": 51,
   "id": "cea0969c",
   "metadata": {},
   "outputs": [
    {
     "name": "stdout",
     "output_type": "stream",
     "text": [
      "68483 True\n"
     ]
    }
   ],
   "source": [
    "mortality = pd.concat([mortality_tr, mortality_te], ignore_index = True)\n",
    "print(len(mortality), mortality.PatientID.is_unique)"
   ]
  },
  {
   "cell_type": "code",
   "execution_count": 52,
   "id": "1b36933d",
   "metadata": {},
   "outputs": [],
   "source": [
    "mortality.loc[:, 'last_activity'] = pd.to_datetime(mortality['last_activity'])"
   ]
  },
  {
   "cell_type": "code",
   "execution_count": 53,
   "id": "a0c28c61",
   "metadata": {},
   "outputs": [],
   "source": [
    "mortality.loc[:, 'death_date'] = pd.to_datetime(mortality['death_date'])"
   ]
  },
  {
   "cell_type": "code",
   "execution_count": 54,
   "id": "6771fa82",
   "metadata": {},
   "outputs": [],
   "source": [
    "key_042 = pd.merge(key_042, mortality, on = 'PatientID', how = 'left')"
   ]
  },
  {
   "cell_type": "code",
   "execution_count": 55,
   "id": "5309497e",
   "metadata": {},
   "outputs": [
    {
     "data": {
      "text/plain": [
       "(5671, 5671)"
      ]
     },
     "execution_count": 55,
     "metadata": {},
     "output_type": "execute_result"
    }
   ],
   "source": [
    "row_ID(key_042)"
   ]
  },
  {
   "cell_type": "code",
   "execution_count": 56,
   "id": "e0744dd2",
   "metadata": {},
   "outputs": [],
   "source": [
    "conditions = [\n",
    "    (key_042['death_status'] == 1),\n",
    "    (key_042['death_status'] == 0)]\n",
    "\n",
    "choices = [\n",
    "    (key_042['death_date'] - key_042['StartDate']).dt.days,\n",
    "    (key_042['last_activity'] - key_042['StartDate']).dt.days]\n",
    "\n",
    "key_042.loc[:, 'timerisk_treatment'] = np.select(conditions, choices)"
   ]
  },
  {
   "cell_type": "code",
   "execution_count": 57,
   "id": "13ed9e0f",
   "metadata": {},
   "outputs": [],
   "source": [
    "key_042 = key_042.query('timerisk_treatment >= 0')"
   ]
  },
  {
   "cell_type": "markdown",
   "id": "c37e4f0c",
   "metadata": {},
   "source": [
    "#### Patient count"
   ]
  },
  {
   "cell_type": "code",
   "execution_count": 58,
   "id": "4804b3f2",
   "metadata": {},
   "outputs": [],
   "source": [
    "key_042 = (\n",
    "    key_042\n",
    "    .query('EGFR != \"positive\"')\n",
    "    .query('ALK != \"positive\"')\n",
    ")"
   ]
  },
  {
   "cell_type": "code",
   "execution_count": 59,
   "id": "6e12c1a0",
   "metadata": {},
   "outputs": [],
   "source": [
    "low_cutoff_042 = key_042.risk_score.quantile(1/3)"
   ]
  },
  {
   "cell_type": "code",
   "execution_count": 60,
   "id": "11909d69",
   "metadata": {},
   "outputs": [],
   "source": [
    "high_cutoff_042 = key_042.risk_score.quantile(2/3)"
   ]
  },
  {
   "cell_type": "code",
   "execution_count": 61,
   "id": "a775cb95",
   "metadata": {},
   "outputs": [
    {
     "name": "stdout",
     "output_type": "stream",
     "text": [
      "Pembro total: 2914\n",
      "High risk: 1035\n",
      "Med risk: 984\n",
      "Low risk: 895\n"
     ]
    }
   ],
   "source": [
    "print('Pembro total:',  key_042.query('pembro == 1').shape[0])\n",
    "print('High risk:', key_042.query('pembro == 1').query('risk_score >= @high_cutoff_042').shape[0])\n",
    "print('Med risk:', key_042.query('pembro == 1').query('risk_score < @high_cutoff_042 and risk_score > @low_cutoff_042').shape[0])\n",
    "print('Low risk:', key_042.query('pembro == 1').query('risk_score <= @low_cutoff_042').shape[0])"
   ]
  },
  {
   "cell_type": "code",
   "execution_count": 62,
   "id": "f8851e6a",
   "metadata": {},
   "outputs": [
    {
     "name": "stdout",
     "output_type": "stream",
     "text": [
      "Platinum total: 2634\n",
      "High risk: 815\n",
      "Med risk: 865\n",
      "Low risk: 954\n"
     ]
    }
   ],
   "source": [
    "print('Platinum total:',  key_042.query('pembro == 0').shape[0])\n",
    "print('High risk:', key_042.query('pembro == 0').query('risk_score >= @high_cutoff_042').shape[0])\n",
    "print('Med risk:', key_042.query('pembro == 0').query('risk_score < @high_cutoff_042 and risk_score > @low_cutoff_042').shape[0])\n",
    "print('Low risk:', key_042.query('pembro == 0').query('risk_score <= @low_cutoff_042').shape[0])"
   ]
  },
  {
   "cell_type": "code",
   "execution_count": 63,
   "id": "0bf371fd",
   "metadata": {},
   "outputs": [],
   "source": [
    "data = {'low': [low_cutoff_042],\n",
    "        'high': [high_cutoff_042]}\n",
    "risk_cutoff_lung = pd.DataFrame(data = data, index = ['keynote_042'])"
   ]
  },
  {
   "cell_type": "markdown",
   "id": "8b901aa6",
   "metadata": {},
   "source": [
    "#### Survival curves with covariate balancing"
   ]
  },
  {
   "cell_type": "code",
   "execution_count": 64,
   "id": "7deb50a6",
   "metadata": {
    "scrolled": true
   },
   "outputs": [
    {
     "data": {
      "text/plain": [
       "(5548, 5548)"
      ]
     },
     "execution_count": 64,
     "metadata": {},
     "output_type": "execute_result"
    }
   ],
   "source": [
    "row_ID(key_042)"
   ]
  },
  {
   "cell_type": "code",
   "execution_count": 65,
   "id": "19892bfa",
   "metadata": {},
   "outputs": [],
   "source": [
    "key_042 = pd.merge(key_042, pdl1_value, on = 'PatientID', how = 'left')"
   ]
  },
  {
   "cell_type": "code",
   "execution_count": 66,
   "id": "1c3d41c5",
   "metadata": {},
   "outputs": [
    {
     "data": {
      "text/plain": [
       "(5548, 5548)"
      ]
     },
     "execution_count": 66,
     "metadata": {},
     "output_type": "execute_result"
    }
   ],
   "source": [
    "row_ID(key_042)"
   ]
  },
  {
   "cell_type": "code",
   "execution_count": 67,
   "id": "c66051c9",
   "metadata": {},
   "outputs": [],
   "source": [
    "conditions = [\n",
    "    (key_042['PercentStaining'] == \"1%\") | \n",
    "    (key_042['PercentStaining'] == \"2% - 4%\") |\n",
    "    (key_042['PercentStaining'] == \"5% - 9%\") |\n",
    "    (key_042['PercentStaining'] == \"10% - 19%\") |\n",
    "    (key_042['PercentStaining'] == \"20% - 29%\") |\n",
    "    (key_042['PercentStaining'] == \"30% - 39%\") |\n",
    "    (key_042['PercentStaining'] == \"40% - 49%\")\n",
    "]\n",
    "\n",
    "choices = ['lt50']\n",
    "\n",
    "key_042['pdl1_det'] = np.select(conditions, choices, default = 'gte50')"
   ]
  },
  {
   "cell_type": "code",
   "execution_count": 68,
   "id": "809ee92d",
   "metadata": {},
   "outputs": [],
   "source": [
    "key_042 = key_042.set_index('PatientID')"
   ]
  },
  {
   "cell_type": "code",
   "execution_count": 69,
   "id": "c0ed91f9",
   "metadata": {},
   "outputs": [],
   "source": [
    "key_042_iptw = key_042.filter(items = ['death_status',\n",
    "                                       'timerisk_treatment',\n",
    "                                       'pembro',\n",
    "                                       'age',\n",
    "                                       'gender',\n",
    "                                       'race',\n",
    "                                       'PracticeType',\n",
    "                                       'Histology',\n",
    "                                       'adv_year',\n",
    "                                       'delta_adv_diagnosis',\n",
    "                                       'commercial',\n",
    "                                       'medicare',\n",
    "                                       'medicaid',\n",
    "                                       'ecog_diagnosis',\n",
    "                                       'pdl1_det',\n",
    "                                       'albumin_diag',\n",
    "                                       'weight_pct_change',\n",
    "                                       'risk_score'])"
   ]
  },
  {
   "cell_type": "code",
   "execution_count": 70,
   "id": "4fc076be",
   "metadata": {},
   "outputs": [],
   "source": [
    "key_042_iptw['met_cat'] = pd.cut(key_042_iptw['adv_year'],\n",
    "                                 bins = [2010, 2016, float('inf')],\n",
    "                                 labels = ['11-16', '17-21'])"
   ]
  },
  {
   "cell_type": "code",
   "execution_count": 71,
   "id": "e30d4b27",
   "metadata": {},
   "outputs": [],
   "source": [
    "conditions = [\n",
    "    ((key_042_iptw['ecog_diagnosis'] == \"1.0\") | (key_042_iptw['ecog_diagnosis'] == \"0.0\")),  \n",
    "    ((key_042_iptw['ecog_diagnosis'] == \"2.0\") | (key_042_iptw['ecog_diagnosis'] == \"3.0\"))\n",
    "]\n",
    "\n",
    "choices = ['lt_2', 'gte_2']\n",
    "\n",
    "key_042_iptw['ecog_2'] = np.select(conditions, choices, default = 'unknown')"
   ]
  },
  {
   "cell_type": "code",
   "execution_count": 72,
   "id": "b3577c89",
   "metadata": {
    "scrolled": true
   },
   "outputs": [
    {
     "data": {
      "text/plain": [
       "death_status               bool\n",
       "timerisk_treatment      float64\n",
       "pembro                    int64\n",
       "age                       int64\n",
       "gender                   object\n",
       "race                     object\n",
       "PracticeType             object\n",
       "Histology                object\n",
       "adv_year                  int64\n",
       "delta_adv_diagnosis       int64\n",
       "commercial              float64\n",
       "medicare                float64\n",
       "medicaid                float64\n",
       "ecog_diagnosis           object\n",
       "pdl1_det                 object\n",
       "albumin_diag            float64\n",
       "weight_pct_change       float64\n",
       "risk_score              float64\n",
       "met_cat                category\n",
       "ecog_2                   object\n",
       "dtype: object"
      ]
     },
     "execution_count": 72,
     "metadata": {},
     "output_type": "execute_result"
    }
   ],
   "source": [
    "key_042_iptw.dtypes"
   ]
  },
  {
   "cell_type": "code",
   "execution_count": 73,
   "id": "42c9ef7c",
   "metadata": {},
   "outputs": [],
   "source": [
    "to_be_categorical = list(key_042_iptw.select_dtypes(include = ['object']).columns)"
   ]
  },
  {
   "cell_type": "code",
   "execution_count": 74,
   "id": "d70254c6",
   "metadata": {},
   "outputs": [
    {
     "data": {
      "text/plain": [
       "['gender',\n",
       " 'race',\n",
       " 'PracticeType',\n",
       " 'Histology',\n",
       " 'ecog_diagnosis',\n",
       " 'pdl1_det',\n",
       " 'ecog_2']"
      ]
     },
     "execution_count": 74,
     "metadata": {},
     "output_type": "execute_result"
    }
   ],
   "source": [
    "to_be_categorical"
   ]
  },
  {
   "cell_type": "code",
   "execution_count": 75,
   "id": "70a0539b",
   "metadata": {},
   "outputs": [],
   "source": [
    "to_be_categorical.append('met_cat')"
   ]
  },
  {
   "cell_type": "code",
   "execution_count": 76,
   "id": "ef4d2ea8",
   "metadata": {},
   "outputs": [],
   "source": [
    "to_be_categorical.remove('ecog_diagnosis')"
   ]
  },
  {
   "cell_type": "code",
   "execution_count": 77,
   "id": "6107d931",
   "metadata": {},
   "outputs": [],
   "source": [
    "# Convert variables in list to categorical.\n",
    "for x in list(to_be_categorical):\n",
    "    key_042_iptw[x] = key_042_iptw[x].astype('category')"
   ]
  },
  {
   "cell_type": "code",
   "execution_count": 78,
   "id": "609852ad",
   "metadata": {},
   "outputs": [],
   "source": [
    "# List of numeric variables, excluding binary variables. \n",
    "numerical_features = ['age', 'delta_adv_diagnosis', 'albumin_diag', 'weight_pct_change', 'risk_score']\n",
    "\n",
    "# Transformer will first calculate column median and impute, and then apply a standard scaler. \n",
    "numerical_transformer = Pipeline(steps = [\n",
    "    ('imputer', SimpleImputer(strategy = 'median')),\n",
    "    ('std_scaler', StandardScaler())])"
   ]
  },
  {
   "cell_type": "code",
   "execution_count": 79,
   "id": "854cbdab",
   "metadata": {},
   "outputs": [],
   "source": [
    "# List of categorical features.\n",
    "categorical_features = list(key_042_iptw.select_dtypes(include = ['category']).columns)\n",
    "\n",
    "# One-hot-encode categorical features.\n",
    "categorical_transformer = OneHotEncoder(handle_unknown = 'ignore')"
   ]
  },
  {
   "cell_type": "code",
   "execution_count": 80,
   "id": "9808142b",
   "metadata": {},
   "outputs": [],
   "source": [
    "preprocessor = ColumnTransformer(\n",
    "    transformers = [\n",
    "        ('num', numerical_transformer, numerical_features),\n",
    "        ('cat', categorical_transformer, categorical_features)],\n",
    "    remainder = 'passthrough')"
   ]
  },
  {
   "cell_type": "code",
   "execution_count": 81,
   "id": "24719ded",
   "metadata": {},
   "outputs": [],
   "source": [
    "key_042_iptw_low = (\n",
    "    key_042_iptw\n",
    "    .query('risk_score <= @low_cutoff_042'))\n",
    "\n",
    "key_042_iptw_med = (\n",
    "    key_042_iptw\n",
    "    .query('risk_score < @high_cutoff_042 and risk_score > @low_cutoff_042'))\n",
    "\n",
    "key_042_iptw_high = (\n",
    "    key_042_iptw\n",
    "    .query('risk_score >= @high_cutoff_042'))\n",
    "\n",
    "key_042_iptw_all = key_042_iptw"
   ]
  },
  {
   "cell_type": "code",
   "execution_count": 82,
   "id": "93e673e9",
   "metadata": {},
   "outputs": [],
   "source": [
    "key_042_low_x = preprocessor.fit_transform(key_042_iptw_low.filter(items = ['age',\n",
    "                                                                            'gender',\n",
    "                                                                            'race',\n",
    "                                                                            'PracticeType',\n",
    "                                                                            'Histology',\n",
    "                                                                            'met_cat',\n",
    "                                                                            'delta_adv_diagnosis',\n",
    "                                                                            'commercial',\n",
    "                                                                            'medicare',\n",
    "                                                                            'medicaid',\n",
    "                                                                            'ecog_2',\n",
    "                                                                            'pdl1_det',\n",
    "                                                                            'albumin_diag',\n",
    "                                                                            'weight_pct_change',\n",
    "                                                                            'risk_score']))\n",
    "\n",
    "key_042_med_x = preprocessor.fit_transform(key_042_iptw_med.filter(items = ['age',\n",
    "                                                                            'gender',\n",
    "                                                                            'race',\n",
    "                                                                            'PracticeType',\n",
    "                                                                            'Histology',\n",
    "                                                                            'met_cat',\n",
    "                                                                            'delta_adv_diagnosis',\n",
    "                                                                            'commercial',\n",
    "                                                                            'medicare',\n",
    "                                                                            'medicaid',\n",
    "                                                                            'ecog_2',\n",
    "                                                                            'pdl1_det',\n",
    "                                                                            'albumin_diag',\n",
    "                                                                            'weight_pct_change',\n",
    "                                                                            'risk_score']))\n",
    "\n",
    "key_042_high_x = preprocessor.fit_transform(key_042_iptw_high.filter(items = ['age',\n",
    "                                                                              'gender',\n",
    "                                                                              'race',\n",
    "                                                                              'PracticeType',\n",
    "                                                                              'Histology',\n",
    "                                                                              'met_cat',\n",
    "                                                                              'delta_adv_diagnosis',\n",
    "                                                                              'commercial',\n",
    "                                                                              'medicare',\n",
    "                                                                              'medicaid',\n",
    "                                                                              'ecog_2',\n",
    "                                                                              'pdl1_det', \n",
    "                                                                              'albumin_diag',\n",
    "                                                                              'weight_pct_change',\n",
    "                                                                              'risk_score']))\n",
    "\n",
    "key_042_all_x = preprocessor.fit_transform(key_042_iptw_all.filter(items = ['age',\n",
    "                                                                            'gender',\n",
    "                                                                            'race',\n",
    "                                                                            'PracticeType',\n",
    "                                                                            'Histology',\n",
    "                                                                            'met_cat',\n",
    "                                                                            'delta_adv_diagnosis',\n",
    "                                                                            'commercial',\n",
    "                                                                            'medicare',\n",
    "                                                                            'medicaid',\n",
    "                                                                            'ecog_2',\n",
    "                                                                            'pdl1_det', \n",
    "                                                                            'albumin_diag',\n",
    "                                                                            'weight_pct_change',\n",
    "                                                                            'risk_score']))"
   ]
  },
  {
   "cell_type": "code",
   "execution_count": 83,
   "id": "2791eef4",
   "metadata": {},
   "outputs": [
    {
     "data": {
      "text/plain": [
       "LogisticRegression(max_iter=1000)"
      ]
     },
     "execution_count": 83,
     "metadata": {},
     "output_type": "execute_result"
    }
   ],
   "source": [
    "lr_042_low = LogisticRegression(max_iter = 1000)\n",
    "lr_042_low.fit(key_042_low_x, key_042_iptw_low['pembro'])"
   ]
  },
  {
   "cell_type": "code",
   "execution_count": 84,
   "id": "6313e255",
   "metadata": {},
   "outputs": [
    {
     "data": {
      "text/plain": [
       "LogisticRegression(max_iter=1000)"
      ]
     },
     "execution_count": 84,
     "metadata": {},
     "output_type": "execute_result"
    }
   ],
   "source": [
    "lr_042_med = LogisticRegression(max_iter = 1000)\n",
    "lr_042_med.fit(key_042_med_x, key_042_iptw_med['pembro'])"
   ]
  },
  {
   "cell_type": "code",
   "execution_count": 85,
   "id": "c2da21d6",
   "metadata": {},
   "outputs": [
    {
     "data": {
      "text/plain": [
       "LogisticRegression(max_iter=1000)"
      ]
     },
     "execution_count": 85,
     "metadata": {},
     "output_type": "execute_result"
    }
   ],
   "source": [
    "lr_042_high = LogisticRegression(max_iter = 1000)\n",
    "lr_042_high.fit(key_042_high_x, key_042_iptw_high['pembro'])"
   ]
  },
  {
   "cell_type": "code",
   "execution_count": 86,
   "id": "84148b2f",
   "metadata": {},
   "outputs": [
    {
     "data": {
      "text/plain": [
       "LogisticRegression(max_iter=1000)"
      ]
     },
     "execution_count": 86,
     "metadata": {},
     "output_type": "execute_result"
    }
   ],
   "source": [
    "lr_042_all = LogisticRegression(max_iter = 1000)\n",
    "lr_042_all.fit(key_042_all_x, key_042_iptw_all['pembro'])"
   ]
  },
  {
   "cell_type": "code",
   "execution_count": 87,
   "id": "592f6b52",
   "metadata": {},
   "outputs": [],
   "source": [
    "pred_low = lr_042_low.predict_proba(key_042_low_x)\n",
    "pred_med = lr_042_med.predict_proba(key_042_med_x)\n",
    "pred_high = lr_042_high.predict_proba(key_042_high_x)\n",
    "pred_all = lr_042_all.predict_proba(key_042_all_x)"
   ]
  },
  {
   "cell_type": "code",
   "execution_count": 88,
   "id": "47d5e8f5",
   "metadata": {},
   "outputs": [
    {
     "name": "stderr",
     "output_type": "stream",
     "text": [
      "/Users/xavierorcutt/Dropbox/ist_project/myenv/lib/python3.7/site-packages/ipykernel_launcher.py:1: SettingWithCopyWarning: \n",
      "A value is trying to be set on a copy of a slice from a DataFrame.\n",
      "Try using .loc[row_indexer,col_indexer] = value instead\n",
      "\n",
      "See the caveats in the documentation: https://pandas.pydata.org/pandas-docs/stable/user_guide/indexing.html#returning-a-view-versus-a-copy\n",
      "  \"\"\"Entry point for launching an IPython kernel.\n",
      "/Users/xavierorcutt/Dropbox/ist_project/myenv/lib/python3.7/site-packages/ipykernel_launcher.py:2: SettingWithCopyWarning: \n",
      "A value is trying to be set on a copy of a slice from a DataFrame.\n",
      "Try using .loc[row_indexer,col_indexer] = value instead\n",
      "\n",
      "See the caveats in the documentation: https://pandas.pydata.org/pandas-docs/stable/user_guide/indexing.html#returning-a-view-versus-a-copy\n",
      "  \n",
      "/Users/xavierorcutt/Dropbox/ist_project/myenv/lib/python3.7/site-packages/ipykernel_launcher.py:3: SettingWithCopyWarning: \n",
      "A value is trying to be set on a copy of a slice from a DataFrame.\n",
      "Try using .loc[row_indexer,col_indexer] = value instead\n",
      "\n",
      "See the caveats in the documentation: https://pandas.pydata.org/pandas-docs/stable/user_guide/indexing.html#returning-a-view-versus-a-copy\n",
      "  This is separate from the ipykernel package so we can avoid doing imports until\n"
     ]
    }
   ],
   "source": [
    "key_042_iptw_low['ps'] = pred_low[:, 1]\n",
    "key_042_iptw_med['ps'] = pred_med[:, 1]\n",
    "key_042_iptw_high['ps'] = pred_high[:, 1]\n",
    "key_042_iptw_all['ps'] = pred_all[:, 1]"
   ]
  },
  {
   "cell_type": "code",
   "execution_count": 89,
   "id": "ba7d976f",
   "metadata": {},
   "outputs": [
    {
     "name": "stderr",
     "output_type": "stream",
     "text": [
      "/Users/xavierorcutt/Dropbox/ist_project/myenv/lib/python3.7/site-packages/ipykernel_launcher.py:2: SettingWithCopyWarning: \n",
      "A value is trying to be set on a copy of a slice from a DataFrame.\n",
      "Try using .loc[row_indexer,col_indexer] = value instead\n",
      "\n",
      "See the caveats in the documentation: https://pandas.pydata.org/pandas-docs/stable/user_guide/indexing.html#returning-a-view-versus-a-copy\n",
      "  \n",
      "/Users/xavierorcutt/Dropbox/ist_project/myenv/lib/python3.7/site-packages/ipykernel_launcher.py:5: SettingWithCopyWarning: \n",
      "A value is trying to be set on a copy of a slice from a DataFrame.\n",
      "Try using .loc[row_indexer,col_indexer] = value instead\n",
      "\n",
      "See the caveats in the documentation: https://pandas.pydata.org/pandas-docs/stable/user_guide/indexing.html#returning-a-view-versus-a-copy\n",
      "  \"\"\"\n",
      "/Users/xavierorcutt/Dropbox/ist_project/myenv/lib/python3.7/site-packages/ipykernel_launcher.py:8: SettingWithCopyWarning: \n",
      "A value is trying to be set on a copy of a slice from a DataFrame.\n",
      "Try using .loc[row_indexer,col_indexer] = value instead\n",
      "\n",
      "See the caveats in the documentation: https://pandas.pydata.org/pandas-docs/stable/user_guide/indexing.html#returning-a-view-versus-a-copy\n",
      "  \n"
     ]
    }
   ],
   "source": [
    "key_042_iptw_low['weight'] = (\n",
    "    np.where(key_042_iptw_low['pembro'] == 1, 1/key_042_iptw_low['ps'], 1/(1 - key_042_iptw_low['ps'])))\n",
    "\n",
    "key_042_iptw_med['weight'] = (\n",
    "    np.where(key_042_iptw_med['pembro'] == 1, 1/key_042_iptw_med['ps'], 1/(1 - key_042_iptw_med['ps'])))\n",
    "\n",
    "key_042_iptw_high['weight'] = (\n",
    "    np.where(key_042_iptw_high['pembro'] == 1, 1/key_042_iptw_high['ps'], 1/(1 - key_042_iptw_high['ps'])))\n",
    "\n",
    "key_042_iptw_all['weight'] = (\n",
    "    np.where(key_042_iptw_all['pembro'] == 1, 1/key_042_iptw_all['ps'], 1/(1 - key_042_iptw_all['ps'])))"
   ]
  },
  {
   "cell_type": "code",
   "execution_count": 90,
   "id": "efc7d006",
   "metadata": {},
   "outputs": [
    {
     "name": "stderr",
     "output_type": "stream",
     "text": [
      "/Users/xavierorcutt/Dropbox/ist_project/myenv/lib/python3.7/site-packages/lifelines/fitters/kaplan_meier_fitter.py:344: StatisticalWarning: It looks like your weights are not integers, possibly propensity scores then?\n",
      "  It's important to know that the naive variance estimates of the coefficients are biased. Instead use Monte Carlo to\n",
      "  estimate the variances. See paper \"Variance estimation when using inverse probability of treatment weighting (IPTW) with survival analysis\"\n",
      "  or \"Adjusted Kaplan-Meier estimator and log-rank test with inverse probability of treatment weighting for survival data.\"\n",
      "                  \n",
      "  StatisticalWarning,\n"
     ]
    },
    {
     "data": {
      "text/plain": [
       "<lifelines.KaplanMeierFitter:\"KM_estimate\", fitted with 5620.26 total observations, 2231.02 right-censored observations>"
      ]
     },
     "execution_count": 90,
     "metadata": {},
     "output_type": "execute_result"
    }
   ],
   "source": [
    "# Low KM curves\n",
    "kmf_low_pembro_042_iptw = KaplanMeierFitter()\n",
    "kmf_low_plat_042_iptw = KaplanMeierFitter()\n",
    "\n",
    "kmf_low_pembro_042_iptw.fit(\n",
    "    key_042_iptw_low.query('pembro == 1').timerisk_treatment/30,\n",
    "    key_042_iptw_low.query('pembro == 1').death_status,\n",
    "    weights = key_042_iptw_low.query('pembro == 1')['weight'])\n",
    "\n",
    "kmf_low_plat_042_iptw.fit(\n",
    "    key_042_iptw_low.query('pembro == 0').timerisk_treatment/30,\n",
    "    key_042_iptw_low.query('pembro == 0').death_status,\n",
    "    weights = key_042_iptw_low.query('pembro == 0')['weight'])\n",
    "\n",
    "# Med KM curves\n",
    "kmf_med_pembro_042_iptw = KaplanMeierFitter()\n",
    "kmf_med_plat_042_iptw = KaplanMeierFitter()\n",
    "\n",
    "kmf_med_pembro_042_iptw.fit(\n",
    "    key_042_iptw_med.query('pembro == 1').timerisk_treatment/30,\n",
    "    key_042_iptw_med.query('pembro == 1').death_status,\n",
    "    weights = key_042_iptw_med.query('pembro == 1')['weight'])\n",
    "\n",
    "kmf_med_plat_042_iptw.fit(\n",
    "    key_042_iptw_med.query('pembro == 0').timerisk_treatment/30,\n",
    "    key_042_iptw_med.query('pembro == 0').death_status,\n",
    "    weights = key_042_iptw_med.query('pembro == 0')['weight'])\n",
    "\n",
    "# High KM curves \n",
    "kmf_high_pembro_042_iptw = KaplanMeierFitter()\n",
    "kmf_high_plat_042_iptw = KaplanMeierFitter()\n",
    "\n",
    "kmf_high_pembro_042_iptw.fit(\n",
    "    key_042_iptw_high.query('pembro == 1').timerisk_treatment/30,\n",
    "    key_042_iptw_high.query('pembro == 1').death_status,\n",
    "    weights = key_042_iptw_high.query('pembro == 1')['weight'])\n",
    "\n",
    "kmf_high_plat_042_iptw.fit(\n",
    "    key_042_iptw_high.query('pembro == 0').timerisk_treatment/30,\n",
    "    key_042_iptw_high.query('pembro == 0').death_status,\n",
    "    weights = key_042_iptw_high.query('pembro == 0')['weight'])\n",
    "\n",
    "# All KM curves \n",
    "kmf_all_pembro_042_iptw = KaplanMeierFitter()\n",
    "kmf_all_plat_042_iptw = KaplanMeierFitter()\n",
    "\n",
    "kmf_all_pembro_042_iptw.fit(\n",
    "    key_042_iptw_all.query('pembro == 1').timerisk_treatment/30,\n",
    "    key_042_iptw_all.query('pembro == 1').death_status,\n",
    "    weights = key_042_iptw_all.query('pembro == 1')['weight'])\n",
    "\n",
    "kmf_all_plat_042_iptw.fit(\n",
    "    key_042_iptw_all.query('pembro == 0').timerisk_treatment/30,\n",
    "    key_042_iptw_all.query('pembro == 0').death_status,\n",
    "    weights = key_042_iptw_all.query('pembro == 0')['weight'])"
   ]
  },
  {
   "cell_type": "code",
   "execution_count": 91,
   "id": "3c57e038",
   "metadata": {},
   "outputs": [
    {
     "data": {
      "image/png": "[encoded data removed]",
      "text/plain": [
       "<Figure size 1800x600 with 5 Axes>"
      ]
     },
     "metadata": {},
     "output_type": "display_data"
    }
   ],
   "source": [
    "fig = plt.figure(figsize=(18, 6))\n",
    "\n",
    "# Plot survival curves for low risk group \n",
    "plt.subplot(1, 4, 1)\n",
    "\n",
    "plt.step(kmf_low_pembro_042_iptw.timeline, kmf_low_pembro_042_iptw.survival_function_.values*100, color = 'red', alpha = 0.5)\n",
    "\n",
    "plt.step(kmf_low_plat_042_iptw.timeline, kmf_low_plat_042_iptw.survival_function_.values*100, color = 'black', alpha = 0.5)\n",
    "\n",
    "plt.xticks(np.arange(0, 43, 6))\n",
    "plt.xlim(0, 43)\n",
    "plt.ylim(0, 100)\n",
    "\n",
    "plt.title('Low-risk', weight = 'bold')\n",
    "plt.ylabel('Overall survival (%)', size = 12, weight = 'bold')\n",
    "\n",
    "plt.gca().spines['top'].set_visible(False)\n",
    "plt.gca().spines['right'].set_visible(False)\n",
    "\n",
    "# Plot survival curves for med risk group. \n",
    "plt.subplot(1, 4, 2)\n",
    "\n",
    "plt.step(kmf_med_pembro_042_iptw.timeline, kmf_med_pembro_042_iptw.survival_function_.values*100, color = 'red', alpha = 0.5)\n",
    "\n",
    "plt.step(kmf_med_plat_042_iptw.timeline, kmf_med_plat_042_iptw.survival_function_.values*100, color = 'black', alpha = 0.5)\n",
    "\n",
    "plt.xticks(np.arange(0, 43, 6))\n",
    "plt.xlim(0, 43)\n",
    "plt.ylim(0, 100)\n",
    "\n",
    "plt.title('Med-risk', weight = 'bold')\n",
    "\n",
    "plt.gca().spines['top'].set_visible(False)\n",
    "plt.gca().spines['right'].set_visible(False)\n",
    "\n",
    "# Plot survival curves by treatment for high risk group. \n",
    "plt.subplot(1, 4, 3)\n",
    "\n",
    "plt.step(kmf_high_pembro_042_iptw.timeline, kmf_high_pembro_042_iptw.survival_function_.values*100, color = 'red', alpha = 0.5)\n",
    "\n",
    "plt.step(kmf_high_plat_042_iptw.timeline, kmf_high_plat_042_iptw.survival_function_.values*100, color = 'black', alpha = 0.5)\n",
    "\n",
    "plt.xticks(np.arange(0, 43, 6))\n",
    "plt.xlim(0, 43)\n",
    "plt.ylim(0, 100)\n",
    "\n",
    "plt.title('High-risk', weight = 'bold')\n",
    "\n",
    "plt.gca().spines['top'].set_visible(False)\n",
    "plt.gca().spines['right'].set_visible(False)\n",
    "\n",
    "# Plot survival curves by treatment for all risk group. \n",
    "plt.subplot(1, 4, 4)\n",
    "\n",
    "plt.step(kmf_all_pembro_042_iptw.timeline, kmf_all_pembro_042_iptw.survival_function_.values*100, color = 'red', alpha = 0.5, label = 'Pembrolizumab')\n",
    "\n",
    "plt.step(kmf_all_plat_042_iptw.timeline, kmf_all_plat_042_iptw.survival_function_.values*100, color = 'black', alpha = 0.5, label = 'Chemotherapy')\n",
    "\n",
    "plt.xticks(np.arange(0, 43, 6))\n",
    "plt.xlim(0, 43)\n",
    "plt.ylim(0, 100)\n",
    "\n",
    "plt.title('Full cohort', weight = 'bold')\n",
    "\n",
    "plt.gca().spines['top'].set_visible(False)\n",
    "plt.gca().spines['right'].set_visible(False)\n",
    "\n",
    "plt.legend(loc = 'center right', prop = {'size': 9})\n",
    "\n",
    "fig.add_subplot(1, 1, 1, frameon = False)\n",
    "plt.tick_params(labelcolor = 'none', which = 'both', top = False, bottom = False, left = False, right = False)\n",
    "plt.xlabel('Months after treatment', labelpad = 15, size = 12, weight = 'bold')\n",
    "plt.title(r'KEYNOTE-042: Overall survival for pembrolizumab vs. chemotherapy for PDL1$\\geq$1%', pad = 40, size = 15, weight = 'bold')\n",
    "\n",
    "plt.show()"
   ]
  },
  {
   "cell_type": "markdown",
   "id": "ceac3662",
   "metadata": {},
   "source": [
    "### KEYNOTE-024: First-line pembrolizumab vs. platinum-based chemotherapy in those with high PDL1 \n",
    "\n",
    "**INCLUSION CRITERIA**\n",
    "* Untreated stage IV NSCLC\n",
    "* Received first line pemobrolizumab or platinum-based chemotherapy \n",
    "* PDL1 >= 50% and status known within (-inf, +30] days of start of first-line treatment \n",
    "* EGFR and ALK negatve"
   ]
  },
  {
   "cell_type": "markdown",
   "id": "feb2398d",
   "metadata": {},
   "source": [
    "#### Pembrolizumab"
   ]
  },
  {
   "cell_type": "code",
   "execution_count": 92,
   "id": "273d87fc",
   "metadata": {},
   "outputs": [
    {
     "data": {
      "text/plain": [
       "68483"
      ]
     },
     "execution_count": 92,
     "metadata": {},
     "output_type": "execute_result"
    }
   ],
   "source": [
    "df_full = pd.read_csv('df_risk_crude.csv', index_col = 'PatientID', dtype = {'death_status': bool})\n",
    "df_full.index.nunique()"
   ]
  },
  {
   "cell_type": "code",
   "execution_count": 93,
   "id": "48180c06",
   "metadata": {},
   "outputs": [],
   "source": [
    "line_therapy = pd.read_csv('LineOfTherapy.csv')"
   ]
  },
  {
   "cell_type": "code",
   "execution_count": 94,
   "id": "a741b868",
   "metadata": {},
   "outputs": [],
   "source": [
    "key024_pembro = (\n",
    "    line_therapy[line_therapy['PatientID'].isin(df_full.index)]\n",
    "    .query('LineNumber == 1')\n",
    "    .query('IsMaintenanceTherapy == False')\n",
    "    .query('LineName == \"Pembrolizumab\"')\n",
    "    [['PatientID', 'StartDate']]\n",
    ")"
   ]
  },
  {
   "cell_type": "code",
   "execution_count": 95,
   "id": "82ebc47a",
   "metadata": {},
   "outputs": [],
   "source": [
    "key024_pembro.loc[:, 'pembro'] = 1"
   ]
  },
  {
   "cell_type": "code",
   "execution_count": 96,
   "id": "a037d1f7",
   "metadata": {},
   "outputs": [
    {
     "data": {
      "text/plain": [
       "(3648, 3648)"
      ]
     },
     "execution_count": 96,
     "metadata": {},
     "output_type": "execute_result"
    }
   ],
   "source": [
    "row_ID(key024_pembro)"
   ]
  },
  {
   "cell_type": "code",
   "execution_count": 97,
   "id": "cedd1e7b",
   "metadata": {},
   "outputs": [],
   "source": [
    "# Dataframe of all therapies received for those receiving first line pembrolizumab only. \n",
    "line_therapy_pembro_024 = (\n",
    "    line_therapy[line_therapy['PatientID'].isin(key024_pembro.PatientID)])"
   ]
  },
  {
   "cell_type": "code",
   "execution_count": 98,
   "id": "020ea4f5",
   "metadata": {},
   "outputs": [],
   "source": [
    "targeted = [\n",
    "    'Afatinib',\n",
    "    'Alectinib',\n",
    "    'Brigatinib',\n",
    "    'Cabozantinib',\n",
    "    'Capmatinib',\n",
    "    'Ceritinib',\n",
    "    'Crizotinib',\n",
    "    'Dabrafenib',\n",
    "    'Dacomitinib',\n",
    "    'Entrectinib',\n",
    "    'Erlotinib',\n",
    "    'Gefitinib',\n",
    "    'Lorlatinib',\n",
    "    'Osimertinib',\n",
    "    'Pralsetinib',\n",
    "    'Selpercatinib',\n",
    "    'Sotorasib',\n",
    "    'Tepotinib',\n",
    "    'Trametinib',\n",
    "    'Vandetanib']"
   ]
  },
  {
   "cell_type": "code",
   "execution_count": 99,
   "id": "0eedb12f",
   "metadata": {},
   "outputs": [],
   "source": [
    "# Patients receiving pembrolizumab therapy who later recieve targeted therapy. \n",
    "pembro_024_xcross = (\n",
    "    line_therapy_pembro_024[line_therapy_pembro_024['LineName'].str.contains('|'.join(targeted))].PatientID)"
   ]
  },
  {
   "cell_type": "code",
   "execution_count": 100,
   "id": "5f4ec935",
   "metadata": {},
   "outputs": [],
   "source": [
    "# Select patients who don't receive targeted therapy in future lines.\n",
    "key024_pembro = key024_pembro[~key024_pembro['PatientID'].isin(pembro_024_xcross)]"
   ]
  },
  {
   "cell_type": "code",
   "execution_count": 101,
   "id": "f572489f",
   "metadata": {},
   "outputs": [
    {
     "data": {
      "text/plain": [
       "(3582, 3582)"
      ]
     },
     "execution_count": 101,
     "metadata": {},
     "output_type": "execute_result"
    }
   ],
   "source": [
    "row_ID(key024_pembro)"
   ]
  },
  {
   "cell_type": "markdown",
   "id": "75746e15",
   "metadata": {},
   "source": [
    "#### Platinum-based chemotherapy "
   ]
  },
  {
   "cell_type": "code",
   "execution_count": 102,
   "id": "4cf75084",
   "metadata": {},
   "outputs": [],
   "source": [
    "line_therapy_fl = (\n",
    "    line_therapy[line_therapy['PatientID'].isin(df_full.index)]\n",
    "    .query('LineNumber == 1')\n",
    "    .query('IsMaintenanceTherapy == False')\n",
    ")"
   ]
  },
  {
   "cell_type": "code",
   "execution_count": 103,
   "id": "b0da82b7",
   "metadata": {},
   "outputs": [],
   "source": [
    "plat_chemo = [\n",
    "    'Carboplatin',\n",
    "    'Cisplatin']\n",
    "\n",
    "immuno = [\n",
    "    'Atezolizumab',\n",
    "    'Cemiplimab',\n",
    "    'Durvalumab',\n",
    "    'Ipilimumab',\n",
    "    'Nivolumab',\n",
    "    'Pembrolizumab'\n",
    "]"
   ]
  },
  {
   "cell_type": "code",
   "execution_count": 104,
   "id": "09e6d72b",
   "metadata": {},
   "outputs": [
    {
     "data": {
      "text/plain": [
       "Carboplatin,Paclitaxel                  8524\n",
       "Carboplatin,Pemetrexed                  5417\n",
       "Bevacizumab,Carboplatin,Pemetrexed      2825\n",
       "Carboplatin,Paclitaxel Protein-Bound    1826\n",
       "Bevacizumab,Carboplatin,Paclitaxel      1591\n",
       "Carboplatin,Gemcitabine                 1224\n",
       "Cisplatin,Etoposide                      793\n",
       "Carboplatin,Docetaxel                    780\n",
       "Cisplatin,Pemetrexed                     684\n",
       "Carboplatin,Etoposide                    363\n",
       "Name: LineName, dtype: int64"
      ]
     },
     "execution_count": 104,
     "metadata": {},
     "output_type": "execute_result"
    }
   ],
   "source": [
    "line_therapy_fl[line_therapy_fl['LineName'].str.contains('|'.join(plat_chemo)) & \n",
    "                ~line_therapy_fl['LineName'].str.contains('|'.join(immuno)) &\n",
    "                ~line_therapy_fl['LineName'].str.contains('|'.join(targeted)) &\n",
    "                ~line_therapy_fl['LineName'].str.contains('Clinical Study Drug')].LineName.value_counts().head(10)"
   ]
  },
  {
   "cell_type": "code",
   "execution_count": 105,
   "id": "9fb08a16",
   "metadata": {},
   "outputs": [],
   "source": [
    "key024_plat = (\n",
    "    line_therapy_fl[line_therapy_fl['LineName'].str.contains('|'.join(plat_chemo)) & \n",
    "                    ~line_therapy_fl['LineName'].str.contains('|'.join(immuno)) &\n",
    "                    ~line_therapy_fl['LineName'].str.contains('|'.join(targeted)) &\n",
    "                    ~line_therapy_fl['LineName'].str.contains('Clinical Study Drug')]\n",
    "    [['PatientID', 'StartDate']]\n",
    ")"
   ]
  },
  {
   "cell_type": "code",
   "execution_count": 106,
   "id": "d93b6ff3",
   "metadata": {},
   "outputs": [],
   "source": [
    "key024_plat.loc[:, 'pembro'] = 0"
   ]
  },
  {
   "cell_type": "code",
   "execution_count": 107,
   "id": "061bf2ee",
   "metadata": {},
   "outputs": [
    {
     "data": {
      "text/plain": [
       "(25861, 25861)"
      ]
     },
     "execution_count": 107,
     "metadata": {},
     "output_type": "execute_result"
    }
   ],
   "source": [
    "row_ID(key024_plat)"
   ]
  },
  {
   "cell_type": "code",
   "execution_count": 108,
   "id": "70205b6e",
   "metadata": {},
   "outputs": [],
   "source": [
    "# Dataframe of all therapies received for those receiving first line platinum regimen  \n",
    "line_therapy_plat_024 = (\n",
    "    line_therapy[line_therapy['PatientID'].isin(key024_plat.PatientID)])"
   ]
  },
  {
   "cell_type": "code",
   "execution_count": 109,
   "id": "d1f8c4bc",
   "metadata": {},
   "outputs": [],
   "source": [
    "# Patients receiving platinum therapy who later recieve targeted therapy. \n",
    "plat_024_xcross = (\n",
    "    line_therapy_plat_024[line_therapy_plat_024['LineName'].str.contains('|'.join(targeted))].PatientID)"
   ]
  },
  {
   "cell_type": "code",
   "execution_count": 110,
   "id": "3efee5d9",
   "metadata": {},
   "outputs": [],
   "source": [
    "# Select patients who don't receive targeted therapy in future lines.\n",
    "key024_plat = key024_plat[~key024_plat['PatientID'].isin(plat_024_xcross)]"
   ]
  },
  {
   "cell_type": "code",
   "execution_count": 111,
   "id": "d8fe47c8",
   "metadata": {},
   "outputs": [
    {
     "data": {
      "text/plain": [
       "(23800, 23800)"
      ]
     },
     "execution_count": 111,
     "metadata": {},
     "output_type": "execute_result"
    }
   ],
   "source": [
    "row_ID(key024_plat)"
   ]
  },
  {
   "cell_type": "code",
   "execution_count": 112,
   "id": "95ccea30",
   "metadata": {},
   "outputs": [],
   "source": [
    "key_024 = pd.concat([key024_pembro, key024_plat])"
   ]
  },
  {
   "cell_type": "code",
   "execution_count": 113,
   "id": "4aaba9a1",
   "metadata": {},
   "outputs": [
    {
     "data": {
      "text/plain": [
       "(27382, 27382)"
      ]
     },
     "execution_count": 113,
     "metadata": {},
     "output_type": "execute_result"
    }
   ],
   "source": [
    "row_ID(key_024)"
   ]
  },
  {
   "cell_type": "code",
   "execution_count": 114,
   "id": "7002d7d5",
   "metadata": {},
   "outputs": [],
   "source": [
    "key_024 = pd.merge(key_024, df_full, on = 'PatientID', how = 'left')"
   ]
  },
  {
   "cell_type": "code",
   "execution_count": 115,
   "id": "56336630",
   "metadata": {},
   "outputs": [
    {
     "data": {
      "text/plain": [
       "(27382, 27382)"
      ]
     },
     "execution_count": 115,
     "metadata": {},
     "output_type": "execute_result"
    }
   ],
   "source": [
    "row_ID(key_024)"
   ]
  },
  {
   "cell_type": "code",
   "execution_count": 116,
   "id": "c3260fda",
   "metadata": {},
   "outputs": [],
   "source": [
    "key_024['StartDate'] = pd.to_datetime(key_024['StartDate'])"
   ]
  },
  {
   "cell_type": "markdown",
   "id": "603b6c4c",
   "metadata": {},
   "source": [
    "#### High PDL1"
   ]
  },
  {
   "cell_type": "code",
   "execution_count": 117,
   "id": "a985ee35",
   "metadata": {},
   "outputs": [],
   "source": [
    "biomarkers = pd.read_csv('Enhanced_AdvNSCLCBiomarkers.csv')"
   ]
  },
  {
   "cell_type": "code",
   "execution_count": 118,
   "id": "cb8385cb",
   "metadata": {},
   "outputs": [],
   "source": [
    "biomarkers = biomarkers[biomarkers['PatientID'].isin(key_024['PatientID'])]"
   ]
  },
  {
   "cell_type": "code",
   "execution_count": 119,
   "id": "bc814d29",
   "metadata": {},
   "outputs": [],
   "source": [
    "biomarkers = pd.merge(biomarkers, key_024[['PatientID', 'StartDate']], on = 'PatientID', how = 'left')"
   ]
  },
  {
   "cell_type": "code",
   "execution_count": 120,
   "id": "5d4c1a77",
   "metadata": {},
   "outputs": [
    {
     "data": {
      "text/plain": [
       "(94603, 19875)"
      ]
     },
     "execution_count": 120,
     "metadata": {},
     "output_type": "execute_result"
    }
   ],
   "source": [
    "row_ID(biomarkers)"
   ]
  },
  {
   "cell_type": "code",
   "execution_count": 121,
   "id": "992bf97b",
   "metadata": {},
   "outputs": [],
   "source": [
    "biomarkers['StartDate'] = pd.to_datetime(biomarkers['StartDate'])"
   ]
  },
  {
   "cell_type": "code",
   "execution_count": 122,
   "id": "bf6c1528",
   "metadata": {},
   "outputs": [],
   "source": [
    "biomarkers['ResultDate'] = pd.to_datetime(biomarkers['ResultDate'])"
   ]
  },
  {
   "cell_type": "code",
   "execution_count": 123,
   "id": "bfd034c0",
   "metadata": {},
   "outputs": [],
   "source": [
    "biomarkers['SpecimenReceivedDate'] = pd.to_datetime(biomarkers['SpecimenReceivedDate'])"
   ]
  },
  {
   "cell_type": "code",
   "execution_count": 124,
   "id": "e118e792",
   "metadata": {},
   "outputs": [],
   "source": [
    "biomarkers.loc[:, 'result_date'] = (\n",
    "    np.where(biomarkers['ResultDate'].isna(), biomarkers['SpecimenReceivedDate'], biomarkers['ResultDate'])\n",
    ")"
   ]
  },
  {
   "cell_type": "code",
   "execution_count": 125,
   "id": "74250164",
   "metadata": {},
   "outputs": [],
   "source": [
    "biomarkers.loc[:, 'date_diff'] = (biomarkers['result_date'] - biomarkers['StartDate']).dt.days"
   ]
  },
  {
   "cell_type": "code",
   "execution_count": 126,
   "id": "b5c2454d",
   "metadata": {},
   "outputs": [],
   "source": [
    "lst = [\"50% - 59%\", \"60% - 69%\", \"70% - 79%\", \"80% - 89%\", \"90% - 99%\", \"100%\"]\n",
    "\n",
    "pdl1_ids = (\n",
    "    biomarkers\n",
    "    .query('BiomarkerName == \"PDL1\"')\n",
    "    .query('date_diff <=30')\n",
    "    .query('PercentStaining == @lst')\n",
    "    .PatientID\n",
    "    .unique()\n",
    ")"
   ]
  },
  {
   "cell_type": "code",
   "execution_count": 127,
   "id": "515572ba",
   "metadata": {},
   "outputs": [],
   "source": [
    "key_024 = key_024[key_024.PatientID.isin(pdl1_ids)]"
   ]
  },
  {
   "cell_type": "code",
   "execution_count": 128,
   "id": "40f675ee",
   "metadata": {},
   "outputs": [
    {
     "data": {
      "text/plain": [
       "(3519, 3519)"
      ]
     },
     "execution_count": 128,
     "metadata": {},
     "output_type": "execute_result"
    }
   ],
   "source": [
    "row_ID(key_024)"
   ]
  },
  {
   "cell_type": "markdown",
   "id": "8d6f121e",
   "metadata": {},
   "source": [
    "#### Time from treatment to death/progression or censor "
   ]
  },
  {
   "cell_type": "code",
   "execution_count": 129,
   "id": "3ef34045",
   "metadata": {},
   "outputs": [],
   "source": [
    "mortality_tr = pd.read_csv('mortality_cleaned_tr.csv')"
   ]
  },
  {
   "cell_type": "code",
   "execution_count": 130,
   "id": "33a9c5b1",
   "metadata": {},
   "outputs": [],
   "source": [
    "mortality_te = pd.read_csv('mortality_cleaned_te.csv')"
   ]
  },
  {
   "cell_type": "code",
   "execution_count": 131,
   "id": "75c0ad22",
   "metadata": {},
   "outputs": [],
   "source": [
    "mortality_tr = mortality_tr[['PatientID', 'death_date', 'last_activity']]"
   ]
  },
  {
   "cell_type": "code",
   "execution_count": 132,
   "id": "e181d394",
   "metadata": {},
   "outputs": [],
   "source": [
    "mortality_te = mortality_te[['PatientID', 'death_date', 'last_activity']]"
   ]
  },
  {
   "cell_type": "code",
   "execution_count": 133,
   "id": "75355ea5",
   "metadata": {},
   "outputs": [
    {
     "data": {
      "text/plain": [
       "(68483, 68483)"
      ]
     },
     "execution_count": 133,
     "metadata": {},
     "output_type": "execute_result"
    }
   ],
   "source": [
    "mortality = pd.concat([mortality_tr, mortality_te], ignore_index = True)\n",
    "row_ID(mortality)"
   ]
  },
  {
   "cell_type": "code",
   "execution_count": 134,
   "id": "0d6418ea",
   "metadata": {},
   "outputs": [],
   "source": [
    "mortality.loc[:, 'last_activity'] = pd.to_datetime(mortality['last_activity'])"
   ]
  },
  {
   "cell_type": "code",
   "execution_count": 135,
   "id": "e0ecd7aa",
   "metadata": {},
   "outputs": [],
   "source": [
    "mortality.loc[:, 'death_date'] = pd.to_datetime(mortality['death_date'])"
   ]
  },
  {
   "cell_type": "code",
   "execution_count": 136,
   "id": "e52ab628",
   "metadata": {},
   "outputs": [
    {
     "data": {
      "text/plain": [
       "(68483, 68483)"
      ]
     },
     "execution_count": 136,
     "metadata": {},
     "output_type": "execute_result"
    }
   ],
   "source": [
    "row_ID(mortality)"
   ]
  },
  {
   "cell_type": "code",
   "execution_count": 137,
   "id": "18c96d5c",
   "metadata": {},
   "outputs": [],
   "source": [
    "key_024 = pd.merge(key_024, mortality, on = 'PatientID', how = 'left')"
   ]
  },
  {
   "cell_type": "code",
   "execution_count": 138,
   "id": "0f672d96",
   "metadata": {},
   "outputs": [
    {
     "data": {
      "text/plain": [
       "(3519, 3519)"
      ]
     },
     "execution_count": 138,
     "metadata": {},
     "output_type": "execute_result"
    }
   ],
   "source": [
    "row_ID(key_024)"
   ]
  },
  {
   "cell_type": "code",
   "execution_count": 139,
   "id": "b0b10e53",
   "metadata": {},
   "outputs": [],
   "source": [
    "progression = pd.read_csv('Enhanced_AdvNSCLCProgression.csv')"
   ]
  },
  {
   "cell_type": "code",
   "execution_count": 140,
   "id": "b68b7626",
   "metadata": {},
   "outputs": [],
   "source": [
    "progression = progression[progression.PatientID.isin(key_024.PatientID)][['PatientID', 'ProgressionDate']]"
   ]
  },
  {
   "cell_type": "code",
   "execution_count": 141,
   "id": "9130f04d",
   "metadata": {},
   "outputs": [],
   "source": [
    "progression['ProgressionDate'] = pd.to_datetime(progression['ProgressionDate'])"
   ]
  },
  {
   "cell_type": "code",
   "execution_count": 142,
   "id": "acb264c5",
   "metadata": {},
   "outputs": [],
   "source": [
    "progression = (\n",
    "    progression\n",
    "    .sort_values(['PatientID', 'ProgressionDate'], ascending = [True, True])\n",
    "    .drop_duplicates(subset = 'PatientID', keep = 'first')\n",
    ")"
   ]
  },
  {
   "cell_type": "code",
   "execution_count": 143,
   "id": "1a15b18b",
   "metadata": {},
   "outputs": [
    {
     "data": {
      "text/plain": [
       "(3517, 3517)"
      ]
     },
     "execution_count": 143,
     "metadata": {},
     "output_type": "execute_result"
    }
   ],
   "source": [
    "row_ID(progression)"
   ]
  },
  {
   "cell_type": "code",
   "execution_count": 144,
   "id": "04fad86d",
   "metadata": {},
   "outputs": [],
   "source": [
    "key_024 = pd.merge(key_024, progression, on = 'PatientID', how = 'left')"
   ]
  },
  {
   "cell_type": "code",
   "execution_count": 145,
   "id": "fa6078c0",
   "metadata": {},
   "outputs": [
    {
     "data": {
      "text/plain": [
       "(3519, 3519)"
      ]
     },
     "execution_count": 145,
     "metadata": {},
     "output_type": "execute_result"
    }
   ],
   "source": [
    "row_ID(key_024)"
   ]
  },
  {
   "cell_type": "code",
   "execution_count": 146,
   "id": "fae689d9",
   "metadata": {},
   "outputs": [
    {
     "data": {
      "text/plain": [
       "0.51974992895709"
      ]
     },
     "execution_count": 146,
     "metadata": {},
     "output_type": "execute_result"
    }
   ],
   "source": [
    "# Percent without progression date in Flaura trial\n",
    "len(key_024.query('ProgressionDate.isna()', engine = 'python'))/len(key_024)"
   ]
  },
  {
   "cell_type": "code",
   "execution_count": 147,
   "id": "46d7eaa1",
   "metadata": {},
   "outputs": [],
   "source": [
    "conditions = [\n",
    "    (key_024.ProgressionDate.notna()),\n",
    "    ((key_024.ProgressionDate.isna()) & (key_024['death_status'] == 1)),\n",
    "    ((key_024.ProgressionDate.isna()) & (key_024['death_status'] == 0))]\n",
    "\n",
    "choices = [\n",
    "    (key_024['ProgressionDate'] - key_024['StartDate']).dt.days,\n",
    "    (key_024['death_date'] - key_024['StartDate']).dt.days,\n",
    "    (key_024['last_activity'] - key_024['StartDate']).dt.days]\n",
    "\n",
    "key_024.loc[:, 'time_prog_treatment'] = np.select(conditions, choices)"
   ]
  },
  {
   "cell_type": "code",
   "execution_count": 148,
   "id": "0768f6fd",
   "metadata": {},
   "outputs": [],
   "source": [
    "key_024 = key_024.query('time_prog_treatment >= 0')"
   ]
  },
  {
   "cell_type": "code",
   "execution_count": 149,
   "id": "40729153",
   "metadata": {},
   "outputs": [
    {
     "data": {
      "text/plain": [
       "(3209, 3209)"
      ]
     },
     "execution_count": 149,
     "metadata": {},
     "output_type": "execute_result"
    }
   ],
   "source": [
    "row_ID(key_024)"
   ]
  },
  {
   "cell_type": "code",
   "execution_count": 150,
   "id": "ddef12f6",
   "metadata": {},
   "outputs": [],
   "source": [
    "conditions = [\n",
    "    (key_024.ProgressionDate.notna()),\n",
    "    ((key_024.ProgressionDate.isna()) & (key_024['death_status'] == 1)),\n",
    "    ((key_024.ProgressionDate.isna()) & (key_024['death_status'] == 0))]\n",
    "\n",
    "choices = [1, 1, 0]\n",
    "\n",
    "key_024.loc[:, 'pfs_status'] = np.select(conditions, choices)"
   ]
  },
  {
   "cell_type": "markdown",
   "id": "62d14753",
   "metadata": {},
   "source": [
    "#### Patient counts"
   ]
  },
  {
   "cell_type": "code",
   "execution_count": 151,
   "id": "605b948a",
   "metadata": {},
   "outputs": [],
   "source": [
    "key_024 = (\n",
    "    key_024\n",
    "    .query('stage == \"IV\"')\n",
    "    .query('EGFR != \"positive\"')\n",
    "    .query('ALK != \"positive\"')\n",
    ")"
   ]
  },
  {
   "cell_type": "code",
   "execution_count": 152,
   "id": "9c3d7669",
   "metadata": {},
   "outputs": [],
   "source": [
    "low_cutoff_024 = key_024.risk_score.quantile(1/3)"
   ]
  },
  {
   "cell_type": "code",
   "execution_count": 153,
   "id": "e4eb4590",
   "metadata": {},
   "outputs": [],
   "source": [
    "high_cutoff_024 = key_024.risk_score.quantile(2/3)"
   ]
  },
  {
   "cell_type": "code",
   "execution_count": 154,
   "id": "86a25f9b",
   "metadata": {},
   "outputs": [
    {
     "name": "stdout",
     "output_type": "stream",
     "text": [
      "Pembro total: 1656\n",
      "High risk: 546\n",
      "Med risk: 563\n",
      "Low risk: 547\n"
     ]
    }
   ],
   "source": [
    "print('Pembro total:',  key_024.query('pembro == 1').shape[0])\n",
    "print('High risk:', key_024.query('pembro == 1').query('risk_score >= @high_cutoff_024').shape[0])\n",
    "print('Med risk:', key_024.query('pembro == 1').query('risk_score < @high_cutoff_024 and risk_score > @low_cutoff_024').shape[0])\n",
    "print('Low risk:', key_024.query('pembro == 1').query('risk_score <= @low_cutoff_024').shape[0])"
   ]
  },
  {
   "cell_type": "code",
   "execution_count": 155,
   "id": "1e151858",
   "metadata": {},
   "outputs": [
    {
     "name": "stdout",
     "output_type": "stream",
     "text": [
      "Platinum total: 464\n",
      "High risk: 161\n",
      "Med risk: 143\n",
      "Low risk: 160\n"
     ]
    }
   ],
   "source": [
    "print('Platinum total:',  key_024.query('pembro == 0').shape[0])\n",
    "print('High risk:', key_024.query('pembro == 0').query('risk_score >= @high_cutoff_024').shape[0])\n",
    "print('Med risk:', key_024.query('pembro == 0').query('risk_score < @high_cutoff_024 and risk_score > @low_cutoff_024').shape[0])\n",
    "print('Low risk:', key_024.query('pembro == 0').query('risk_score <= @low_cutoff_024').shape[0])"
   ]
  },
  {
   "cell_type": "code",
   "execution_count": 156,
   "id": "bca89317",
   "metadata": {},
   "outputs": [],
   "source": [
    "risk_cutoff_lung.loc['keynote_024'] = [low_cutoff_024, high_cutoff_024]"
   ]
  },
  {
   "cell_type": "markdown",
   "id": "2fa79433",
   "metadata": {},
   "source": [
    "#### PFS with covariate balancing "
   ]
  },
  {
   "cell_type": "code",
   "execution_count": 157,
   "id": "c4b8eb3f",
   "metadata": {},
   "outputs": [],
   "source": [
    "key_024 = key_024.set_index('PatientID')"
   ]
  },
  {
   "cell_type": "code",
   "execution_count": 158,
   "id": "55df9656",
   "metadata": {},
   "outputs": [],
   "source": [
    "key_024_iptw = key_024.filter(items = ['pfs_status',\n",
    "                                       'time_prog_treatment',\n",
    "                                       'pembro',\n",
    "                                       'age',\n",
    "                                       'gender',\n",
    "                                       'race',\n",
    "                                       'PracticeType',\n",
    "                                       'Histology',\n",
    "                                       'adv_year',\n",
    "                                       'commercial',\n",
    "                                       'medicare',\n",
    "                                       'medicaid',\n",
    "                                       'ecog_diagnosis',\n",
    "                                       'albumin_diag',\n",
    "                                       'weight_pct_change',\n",
    "                                       'risk_score'])"
   ]
  },
  {
   "cell_type": "code",
   "execution_count": 159,
   "id": "5b3b1ee6",
   "metadata": {},
   "outputs": [],
   "source": [
    "key_024_iptw['met_cat'] = pd.cut(key_024_iptw['adv_year'],\n",
    "                                 bins = [2010, 2016, float('inf')],\n",
    "                                 labels = ['11-16', '17-21'])"
   ]
  },
  {
   "cell_type": "code",
   "execution_count": 160,
   "id": "7a9c8293",
   "metadata": {},
   "outputs": [],
   "source": [
    "conditions = [\n",
    "    ((key_024_iptw['ecog_diagnosis'] == \"1.0\") | (key_024_iptw['ecog_diagnosis'] == \"0.0\")),  \n",
    "    ((key_024_iptw['ecog_diagnosis'] == \"2.0\") | (key_024_iptw['ecog_diagnosis'] == \"3.0\"))\n",
    "]\n",
    "\n",
    "choices = ['lt_2', 'gte_2']\n",
    "\n",
    "key_024_iptw['ecog_2'] = np.select(conditions, choices, default = 'unknown')"
   ]
  },
  {
   "cell_type": "code",
   "execution_count": 161,
   "id": "4aa7ac15",
   "metadata": {},
   "outputs": [
    {
     "data": {
      "text/plain": [
       "pfs_status                int64\n",
       "time_prog_treatment     float64\n",
       "pembro                    int64\n",
       "age                       int64\n",
       "gender                   object\n",
       "race                     object\n",
       "PracticeType             object\n",
       "Histology                object\n",
       "adv_year                  int64\n",
       "commercial              float64\n",
       "medicare                float64\n",
       "medicaid                float64\n",
       "ecog_diagnosis           object\n",
       "albumin_diag            float64\n",
       "weight_pct_change       float64\n",
       "risk_score              float64\n",
       "met_cat                category\n",
       "ecog_2                   object\n",
       "dtype: object"
      ]
     },
     "execution_count": 161,
     "metadata": {},
     "output_type": "execute_result"
    }
   ],
   "source": [
    "key_024_iptw.dtypes"
   ]
  },
  {
   "cell_type": "code",
   "execution_count": 162,
   "id": "583b6f2f",
   "metadata": {},
   "outputs": [],
   "source": [
    "to_be_categorical = list(key_024_iptw.select_dtypes(include = ['object']).columns)"
   ]
  },
  {
   "cell_type": "code",
   "execution_count": 163,
   "id": "d2d2d99c",
   "metadata": {},
   "outputs": [
    {
     "data": {
      "text/plain": [
       "['gender', 'race', 'PracticeType', 'Histology', 'ecog_diagnosis', 'ecog_2']"
      ]
     },
     "execution_count": 163,
     "metadata": {},
     "output_type": "execute_result"
    }
   ],
   "source": [
    "to_be_categorical"
   ]
  },
  {
   "cell_type": "code",
   "execution_count": 164,
   "id": "4854eca2",
   "metadata": {},
   "outputs": [],
   "source": [
    "to_be_categorical.append('met_cat')"
   ]
  },
  {
   "cell_type": "code",
   "execution_count": 165,
   "id": "835d4162",
   "metadata": {},
   "outputs": [],
   "source": [
    "to_be_categorical.remove('ecog_diagnosis')"
   ]
  },
  {
   "cell_type": "code",
   "execution_count": 166,
   "id": "2fbe0ebe",
   "metadata": {},
   "outputs": [],
   "source": [
    "# Convert variables in list to categorical.\n",
    "for x in list(to_be_categorical):\n",
    "    key_024_iptw[x] = key_024_iptw[x].astype('category')"
   ]
  },
  {
   "cell_type": "code",
   "execution_count": 167,
   "id": "e49ba804",
   "metadata": {},
   "outputs": [],
   "source": [
    "# List of numeric variables, excluding binary variables. \n",
    "numerical_features = ['age', 'albumin_diag', 'weight_pct_change', 'risk_score']\n",
    "\n",
    "# Transformer will first calculate column median and impute, and then apply a standard scaler. \n",
    "numerical_transformer = Pipeline(steps = [\n",
    "    ('imputer', SimpleImputer(strategy = 'median')),\n",
    "    ('std_scaler', StandardScaler())])"
   ]
  },
  {
   "cell_type": "code",
   "execution_count": 168,
   "id": "d04f0083",
   "metadata": {},
   "outputs": [],
   "source": [
    "# List of categorical features.\n",
    "categorical_features = list(key_024_iptw.select_dtypes(include = ['category']).columns)\n",
    "\n",
    "# One-hot-encode categorical features.\n",
    "categorical_transformer = OneHotEncoder(handle_unknown = 'ignore')"
   ]
  },
  {
   "cell_type": "code",
   "execution_count": 169,
   "id": "063793a4",
   "metadata": {},
   "outputs": [],
   "source": [
    "preprocessor = ColumnTransformer(\n",
    "    transformers = [\n",
    "        ('num', numerical_transformer, numerical_features),\n",
    "        ('cat', categorical_transformer, categorical_features)],\n",
    "    remainder = 'passthrough')"
   ]
  },
  {
   "cell_type": "code",
   "execution_count": 170,
   "id": "1e9ed277",
   "metadata": {},
   "outputs": [],
   "source": [
    "key_024_iptw_low = (\n",
    "    key_024_iptw\n",
    "    .query('risk_score <= @low_cutoff_024'))\n",
    "\n",
    "key_024_iptw_med = (\n",
    "    key_024_iptw\n",
    "    .query('risk_score < @high_cutoff_024 and risk_score > @low_cutoff_024'))\n",
    "\n",
    "key_024_iptw_high = (\n",
    "    key_024_iptw\n",
    "    .query('risk_score >= @high_cutoff_024'))\n",
    "\n",
    "key_024_iptw_all = key_024_iptw"
   ]
  },
  {
   "cell_type": "code",
   "execution_count": 171,
   "id": "83e55cff",
   "metadata": {},
   "outputs": [],
   "source": [
    "key_024_low_x = preprocessor.fit_transform(key_024_iptw_low.filter(items = ['age',\n",
    "                                                                            'gender',\n",
    "                                                                            'race',\n",
    "                                                                            'PracticeType',\n",
    "                                                                            'Histology',\n",
    "                                                                            'met_cat',\n",
    "                                                                            'commercial',\n",
    "                                                                            'medicare',\n",
    "                                                                            'medicaid',\n",
    "                                                                            'ecog_2',\n",
    "                                                                            'albumin_diag',\n",
    "                                                                            'weight_pct_change',\n",
    "                                                                            'risk_score']))\n",
    "\n",
    "key_024_med_x = preprocessor.fit_transform(key_024_iptw_med.filter(items = ['age',\n",
    "                                                                            'gender',\n",
    "                                                                            'race',\n",
    "                                                                            'PracticeType',\n",
    "                                                                            'Histology',\n",
    "                                                                            'met_cat',\n",
    "                                                                            'commercial',\n",
    "                                                                            'medicare',\n",
    "                                                                            'medicaid',\n",
    "                                                                            'ecog_2',\n",
    "                                                                            'albumin_diag',\n",
    "                                                                            'weight_pct_change',\n",
    "                                                                            'risk_score']))\n",
    "\n",
    "key_024_high_x = preprocessor.fit_transform(key_024_iptw_high.filter(items = ['age',\n",
    "                                                                              'gender',\n",
    "                                                                              'race',\n",
    "                                                                              'PracticeType',\n",
    "                                                                              'Histology',\n",
    "                                                                              'met_cat',\n",
    "                                                                              'commercial',\n",
    "                                                                              'medicare',\n",
    "                                                                              'medicaid',\n",
    "                                                                              'ecog_2',\n",
    "                                                                              'albumin_diag',\n",
    "                                                                              'weight_pct_change',\n",
    "                                                                              'risk_score']))\n",
    "\n",
    "key_024_all_x = preprocessor.fit_transform(key_024_iptw_all.filter(items = ['age',\n",
    "                                                                            'gender',\n",
    "                                                                            'race',\n",
    "                                                                            'PracticeType',\n",
    "                                                                            'Histology',\n",
    "                                                                            'met_cat',\n",
    "                                                                            'commercial',\n",
    "                                                                            'medicare',\n",
    "                                                                            'medicaid',\n",
    "                                                                            'ecog_2',\n",
    "                                                                            'albumin_diag',\n",
    "                                                                            'weight_pct_change',\n",
    "                                                                            'risk_score']))"
   ]
  },
  {
   "cell_type": "code",
   "execution_count": 172,
   "id": "e19a5dba",
   "metadata": {},
   "outputs": [
    {
     "data": {
      "text/plain": [
       "LogisticRegression(max_iter=1000)"
      ]
     },
     "execution_count": 172,
     "metadata": {},
     "output_type": "execute_result"
    }
   ],
   "source": [
    "lr_024_low = LogisticRegression(max_iter = 1000)\n",
    "lr_024_low.fit(key_024_low_x, key_024_iptw_low['pembro'])"
   ]
  },
  {
   "cell_type": "code",
   "execution_count": 173,
   "id": "853e60c9",
   "metadata": {},
   "outputs": [
    {
     "data": {
      "text/plain": [
       "LogisticRegression(max_iter=1000)"
      ]
     },
     "execution_count": 173,
     "metadata": {},
     "output_type": "execute_result"
    }
   ],
   "source": [
    "lr_024_med = LogisticRegression(max_iter = 1000)\n",
    "lr_024_med.fit(key_024_med_x, key_024_iptw_med['pembro'])"
   ]
  },
  {
   "cell_type": "code",
   "execution_count": 174,
   "id": "b6849c94",
   "metadata": {},
   "outputs": [
    {
     "data": {
      "text/plain": [
       "LogisticRegression(max_iter=1000)"
      ]
     },
     "execution_count": 174,
     "metadata": {},
     "output_type": "execute_result"
    }
   ],
   "source": [
    "lr_024_high = LogisticRegression(max_iter = 1000)\n",
    "lr_024_high.fit(key_024_high_x, key_024_iptw_high['pembro'])"
   ]
  },
  {
   "cell_type": "code",
   "execution_count": 175,
   "id": "a5efd331",
   "metadata": {},
   "outputs": [
    {
     "data": {
      "text/plain": [
       "LogisticRegression(max_iter=1000)"
      ]
     },
     "execution_count": 175,
     "metadata": {},
     "output_type": "execute_result"
    }
   ],
   "source": [
    "lr_024_all = LogisticRegression(max_iter = 1000)\n",
    "lr_024_all.fit(key_024_all_x, key_024_iptw_all['pembro'])"
   ]
  },
  {
   "cell_type": "code",
   "execution_count": 176,
   "id": "2a130761",
   "metadata": {},
   "outputs": [],
   "source": [
    "pred_low = lr_024_low.predict_proba(key_024_low_x)\n",
    "pred_med = lr_024_med.predict_proba(key_024_med_x)\n",
    "pred_high = lr_024_high.predict_proba(key_024_high_x)\n",
    "pred_all = lr_024_all.predict_proba(key_024_all_x)"
   ]
  },
  {
   "cell_type": "code",
   "execution_count": 177,
   "id": "29dfa814",
   "metadata": {},
   "outputs": [
    {
     "name": "stderr",
     "output_type": "stream",
     "text": [
      "/Users/xavierorcutt/Dropbox/ist_project/myenv/lib/python3.7/site-packages/ipykernel_launcher.py:1: SettingWithCopyWarning: \n",
      "A value is trying to be set on a copy of a slice from a DataFrame.\n",
      "Try using .loc[row_indexer,col_indexer] = value instead\n",
      "\n",
      "See the caveats in the documentation: https://pandas.pydata.org/pandas-docs/stable/user_guide/indexing.html#returning-a-view-versus-a-copy\n",
      "  \"\"\"Entry point for launching an IPython kernel.\n",
      "/Users/xavierorcutt/Dropbox/ist_project/myenv/lib/python3.7/site-packages/ipykernel_launcher.py:2: SettingWithCopyWarning: \n",
      "A value is trying to be set on a copy of a slice from a DataFrame.\n",
      "Try using .loc[row_indexer,col_indexer] = value instead\n",
      "\n",
      "See the caveats in the documentation: https://pandas.pydata.org/pandas-docs/stable/user_guide/indexing.html#returning-a-view-versus-a-copy\n",
      "  \n",
      "/Users/xavierorcutt/Dropbox/ist_project/myenv/lib/python3.7/site-packages/ipykernel_launcher.py:3: SettingWithCopyWarning: \n",
      "A value is trying to be set on a copy of a slice from a DataFrame.\n",
      "Try using .loc[row_indexer,col_indexer] = value instead\n",
      "\n",
      "See the caveats in the documentation: https://pandas.pydata.org/pandas-docs/stable/user_guide/indexing.html#returning-a-view-versus-a-copy\n",
      "  This is separate from the ipykernel package so we can avoid doing imports until\n"
     ]
    }
   ],
   "source": [
    "key_024_iptw_low['ps'] = pred_low[:, 1]\n",
    "key_024_iptw_med['ps'] = pred_med[:, 1]\n",
    "key_024_iptw_high['ps'] = pred_high[:, 1]\n",
    "key_024_iptw_all['ps'] = pred_all[:, 1]"
   ]
  },
  {
   "cell_type": "code",
   "execution_count": 178,
   "id": "a223f90c",
   "metadata": {},
   "outputs": [
    {
     "name": "stderr",
     "output_type": "stream",
     "text": [
      "/Users/xavierorcutt/Dropbox/ist_project/myenv/lib/python3.7/site-packages/ipykernel_launcher.py:2: SettingWithCopyWarning: \n",
      "A value is trying to be set on a copy of a slice from a DataFrame.\n",
      "Try using .loc[row_indexer,col_indexer] = value instead\n",
      "\n",
      "See the caveats in the documentation: https://pandas.pydata.org/pandas-docs/stable/user_guide/indexing.html#returning-a-view-versus-a-copy\n",
      "  \n",
      "/Users/xavierorcutt/Dropbox/ist_project/myenv/lib/python3.7/site-packages/ipykernel_launcher.py:5: SettingWithCopyWarning: \n",
      "A value is trying to be set on a copy of a slice from a DataFrame.\n",
      "Try using .loc[row_indexer,col_indexer] = value instead\n",
      "\n",
      "See the caveats in the documentation: https://pandas.pydata.org/pandas-docs/stable/user_guide/indexing.html#returning-a-view-versus-a-copy\n",
      "  \"\"\"\n",
      "/Users/xavierorcutt/Dropbox/ist_project/myenv/lib/python3.7/site-packages/ipykernel_launcher.py:8: SettingWithCopyWarning: \n",
      "A value is trying to be set on a copy of a slice from a DataFrame.\n",
      "Try using .loc[row_indexer,col_indexer] = value instead\n",
      "\n",
      "See the caveats in the documentation: https://pandas.pydata.org/pandas-docs/stable/user_guide/indexing.html#returning-a-view-versus-a-copy\n",
      "  \n"
     ]
    }
   ],
   "source": [
    "key_024_iptw_low['weight'] = (\n",
    "    np.where(key_024_iptw_low['pembro'] == 1, 1/key_024_iptw_low['ps'], 1/(1 - key_024_iptw_low['ps'])))\n",
    "\n",
    "key_024_iptw_med['weight'] = (\n",
    "    np.where(key_024_iptw_med['pembro'] == 1, 1/key_024_iptw_med['ps'], 1/(1 - key_024_iptw_med['ps'])))\n",
    "\n",
    "key_024_iptw_high['weight'] = (\n",
    "    np.where(key_024_iptw_high['pembro'] == 1, 1/key_024_iptw_high['ps'], 1/(1 - key_024_iptw_high['ps'])))\n",
    "\n",
    "key_024_iptw_all['weight'] = (\n",
    "    np.where(key_024_iptw_all['pembro'] == 1, 1/key_024_iptw_all['ps'], 1/(1 - key_024_iptw_all['ps'])))"
   ]
  },
  {
   "cell_type": "code",
   "execution_count": 179,
   "id": "bbf80caf",
   "metadata": {},
   "outputs": [
    {
     "name": "stderr",
     "output_type": "stream",
     "text": [
      "/Users/xavierorcutt/Dropbox/ist_project/myenv/lib/python3.7/site-packages/lifelines/fitters/kaplan_meier_fitter.py:344: StatisticalWarning: It looks like your weights are not integers, possibly propensity scores then?\n",
      "  It's important to know that the naive variance estimates of the coefficients are biased. Instead use Monte Carlo to\n",
      "  estimate the variances. See paper \"Variance estimation when using inverse probability of treatment weighting (IPTW) with survival analysis\"\n",
      "  or \"Adjusted Kaplan-Meier estimator and log-rank test with inverse probability of treatment weighting for survival data.\"\n",
      "                  \n",
      "  StatisticalWarning,\n"
     ]
    },
    {
     "data": {
      "text/plain": [
       "<lifelines.KaplanMeierFitter:\"KM_estimate\", fitted with 2060.45 total observations, 442.703 right-censored observations>"
      ]
     },
     "execution_count": 179,
     "metadata": {},
     "output_type": "execute_result"
    }
   ],
   "source": [
    "# Low KM curves\n",
    "kmf_low_pembro_024_iptw = KaplanMeierFitter()\n",
    "kmf_low_plat_024_iptw = KaplanMeierFitter()\n",
    "\n",
    "kmf_low_pembro_024_iptw.fit(\n",
    "    key_024_iptw_low.query('pembro == 1').time_prog_treatment/30,\n",
    "    key_024_iptw_low.query('pembro == 1').pfs_status,\n",
    "    weights = key_024_iptw_low.query('pembro == 1')['weight'])\n",
    "\n",
    "kmf_low_plat_024_iptw.fit(\n",
    "    key_024_iptw_low.query('pembro == 0').time_prog_treatment/30,\n",
    "    key_024_iptw_low.query('pembro == 0').pfs_status,\n",
    "    weights = key_024_iptw_low.query('pembro == 0')['weight'])\n",
    "\n",
    "# Med KM curves\n",
    "kmf_med_pembro_024_iptw = KaplanMeierFitter()\n",
    "kmf_med_plat_024_iptw = KaplanMeierFitter()\n",
    "\n",
    "kmf_med_pembro_024_iptw.fit(\n",
    "    key_024_iptw_med.query('pembro == 1').time_prog_treatment/30,\n",
    "    key_024_iptw_med.query('pembro == 1').pfs_status,\n",
    "    weights = key_024_iptw_med.query('pembro == 1')['weight'])\n",
    "\n",
    "kmf_med_plat_024_iptw.fit(\n",
    "    key_024_iptw_med.query('pembro == 0').time_prog_treatment/30,\n",
    "    key_024_iptw_med.query('pembro == 0').pfs_status,\n",
    "    weights = key_024_iptw_med.query('pembro == 0')['weight'])\n",
    "\n",
    "# High KM curves \n",
    "kmf_high_pembro_024_iptw = KaplanMeierFitter()\n",
    "kmf_high_plat_024_iptw = KaplanMeierFitter()\n",
    "\n",
    "kmf_high_pembro_024_iptw.fit(\n",
    "    key_024_iptw_high.query('pembro == 1').time_prog_treatment/30,\n",
    "    key_024_iptw_high.query('pembro == 1').pfs_status,\n",
    "    weights = key_024_iptw_high.query('pembro == 1')['weight'])\n",
    "\n",
    "kmf_high_plat_024_iptw.fit(\n",
    "    key_024_iptw_high.query('pembro == 0').time_prog_treatment/30,\n",
    "    key_024_iptw_high.query('pembro == 0').pfs_status,\n",
    "    weights = key_024_iptw_high.query('pembro == 0')['weight'])\n",
    "\n",
    "# All KM curves \n",
    "kmf_all_pembro_024_iptw = KaplanMeierFitter()\n",
    "kmf_all_plat_024_iptw = KaplanMeierFitter()\n",
    "\n",
    "kmf_all_pembro_024_iptw.fit(\n",
    "    key_024_iptw_all.query('pembro == 1').time_prog_treatment/30,\n",
    "    key_024_iptw_all.query('pembro == 1').pfs_status,\n",
    "    weights = key_024_iptw_all.query('pembro == 1')['weight'])\n",
    "\n",
    "kmf_all_plat_024_iptw.fit(\n",
    "    key_024_iptw_all.query('pembro == 0').time_prog_treatment/30,\n",
    "    key_024_iptw_all.query('pembro == 0').pfs_status,\n",
    "    weights = key_024_iptw_all.query('pembro == 0')['weight'])"
   ]
  },
  {
   "cell_type": "code",
   "execution_count": 180,
   "id": "66c60343",
   "metadata": {},
   "outputs": [
    {
     "data": {
      "image/png": "[encoded data removed]",
      "text/plain": [
       "<Figure size 1800x600 with 5 Axes>"
      ]
     },
     "metadata": {},
     "output_type": "display_data"
    }
   ],
   "source": [
    "fig = plt.figure(figsize=(18, 6))\n",
    "\n",
    "# Plot survival curves for low risk group \n",
    "plt.subplot(1, 4, 1)\n",
    "\n",
    "plt.step(kmf_low_pembro_024_iptw.timeline, kmf_low_pembro_024_iptw.survival_function_.values*100, color = 'red', alpha = 0.5)\n",
    "\n",
    "plt.step(kmf_low_plat_024_iptw.timeline, kmf_low_plat_024_iptw.survival_function_.values*100, color = 'black', alpha = 0.5)\n",
    "\n",
    "plt.xticks(np.arange(0, 43, 6))\n",
    "plt.xlim(0, 43)\n",
    "plt.ylim(0, 100)\n",
    "\n",
    "plt.title('Low-risk', weight = 'bold')\n",
    "plt.ylabel('Progression free survival (%)', size = 12, weight = 'bold')\n",
    "\n",
    "plt.gca().spines['top'].set_visible(False)\n",
    "plt.gca().spines['right'].set_visible(False)\n",
    "\n",
    "# Plot survival curves for med risk group. \n",
    "plt.subplot(1, 4, 2)\n",
    "\n",
    "plt.step(kmf_med_pembro_024_iptw.timeline, kmf_med_pembro_024_iptw.survival_function_.values*100, color = 'red', alpha = 0.5)\n",
    "\n",
    "plt.step(kmf_med_plat_024_iptw.timeline, kmf_med_plat_024_iptw.survival_function_.values*100, color = 'black', alpha = 0.5)\n",
    "\n",
    "plt.xticks(np.arange(0, 43, 6))\n",
    "plt.xlim(0, 43)\n",
    "plt.ylim(0, 100)\n",
    "\n",
    "plt.title('Med-risk', weight = 'bold')\n",
    "\n",
    "plt.gca().spines['top'].set_visible(False)\n",
    "plt.gca().spines['right'].set_visible(False)\n",
    "\n",
    "# Plot survival curves by treatment for high risk group. \n",
    "plt.subplot(1, 4, 3)\n",
    "\n",
    "plt.step(kmf_high_pembro_024_iptw.timeline, kmf_high_pembro_024_iptw.survival_function_.values*100, color = 'red', alpha = 0.5)\n",
    "\n",
    "plt.step(kmf_high_plat_024_iptw.timeline, kmf_high_plat_024_iptw.survival_function_.values*100, color = 'black', alpha = 0.5)\n",
    "\n",
    "plt.xticks(np.arange(0, 43, 6))\n",
    "plt.xlim(0, 43)\n",
    "plt.ylim(0, 100)\n",
    "\n",
    "plt.title('High-risk', weight = 'bold')\n",
    "\n",
    "plt.gca().spines['top'].set_visible(False)\n",
    "plt.gca().spines['right'].set_visible(False)\n",
    "\n",
    "# Plot survival curves by treatment for all risk group. \n",
    "plt.subplot(1, 4, 4)\n",
    "\n",
    "plt.step(kmf_all_pembro_024_iptw.timeline, kmf_all_pembro_024_iptw.survival_function_.values*100, color = 'red', alpha = 0.5, label = 'Pembrolizumab')\n",
    "\n",
    "plt.step(kmf_all_plat_024_iptw.timeline, kmf_all_plat_024_iptw.survival_function_.values*100, color = 'black', alpha = 0.5, label = 'Chemotherapy')\n",
    "\n",
    "plt.xticks(np.arange(0, 43, 6))\n",
    "plt.xlim(0, 43)\n",
    "plt.ylim(0, 100)\n",
    "\n",
    "plt.title('Full cohort', weight = 'bold')\n",
    "\n",
    "plt.gca().spines['top'].set_visible(False)\n",
    "plt.gca().spines['right'].set_visible(False)\n",
    "\n",
    "plt.legend(loc = 'center right', prop = {'size': 9})\n",
    "\n",
    "fig.add_subplot(1, 1, 1, frameon = False)\n",
    "plt.tick_params(labelcolor = 'none', which = 'both', top = False, bottom = False, left = False, right = False)\n",
    "plt.xlabel('Months after treatment', labelpad = 15, size = 12, weight = 'bold')\n",
    "plt.title(r'KEYNOTE-024: Overall progression free survival for pembrolizumab vs. chemotherapy for PDL1$\\geq$50%', pad = 40, size = 15, weight = 'bold')\n",
    "\n",
    "plt.show()"
   ]
  },
  {
   "cell_type": "markdown",
   "id": "555b5208",
   "metadata": {},
   "source": [
    "### KEYNOTE-189: First-line pembrolizumab plus chemotherapy vs. chemotherapy\n",
    "\n",
    "**INCLUSION CRITERIA**\n",
    "* Untreated advanced NSCLC\n",
    "* Received first line pemobrolizumab plus platinum-based chemotherapy or platinum-based chemotherapy\n",
    "* EGFR and ALK negative"
   ]
  },
  {
   "cell_type": "markdown",
   "id": "828ae935",
   "metadata": {},
   "source": [
    "#### Pembrolizumab + chemotherapy "
   ]
  },
  {
   "cell_type": "code",
   "execution_count": 181,
   "id": "41df940c",
   "metadata": {},
   "outputs": [
    {
     "data": {
      "text/plain": [
       "68483"
      ]
     },
     "execution_count": 181,
     "metadata": {},
     "output_type": "execute_result"
    }
   ],
   "source": [
    "df_full = pd.read_csv('df_risk_crude.csv', index_col = 'PatientID', dtype = {'death_status': bool})\n",
    "df_full.index.nunique()"
   ]
  },
  {
   "cell_type": "code",
   "execution_count": 182,
   "id": "c6406abf",
   "metadata": {},
   "outputs": [],
   "source": [
    "line_therapy = pd.read_csv('LineOfTherapy.csv')"
   ]
  },
  {
   "cell_type": "code",
   "execution_count": 183,
   "id": "ef4d9a2a",
   "metadata": {},
   "outputs": [
    {
     "data": {
      "text/plain": [
       "Carboplatin,Pemetrexed                              6700\n",
       "Carboplatin,Pembrolizumab,Pemetrexed                5113\n",
       "Pemetrexed                                          4711\n",
       "Bevacizumab,Carboplatin,Pemetrexed                  3459\n",
       "Bevacizumab,Pemetrexed                              1569\n",
       "Pembrolizumab,Pemetrexed                            1554\n",
       "Cisplatin,Pemetrexed                                 811\n",
       "Bevacizumab,Cisplatin,Pemetrexed                     174\n",
       "Abiraterone,Carboplatin,Pembrolizumab,Pemetrexed     100\n",
       "Bevacizumab-Awwb,Carboplatin,Pemetrexed               82\n",
       "Name: LineName, dtype: int64"
      ]
     },
     "execution_count": 183,
     "metadata": {},
     "output_type": "execute_result"
    }
   ],
   "source": [
    "line_therapy[line_therapy['LineName'].str.contains('Pemetrexed')].LineName.value_counts().head(10)"
   ]
  },
  {
   "cell_type": "code",
   "execution_count": 184,
   "id": "2b43a0f5",
   "metadata": {},
   "outputs": [],
   "source": [
    "line_therapy_fl = (\n",
    "    line_therapy[line_therapy['PatientID'].isin(df_full.index)]\n",
    "    .query('LineNumber == 1')\n",
    "    .query('IsMaintenanceTherapy == False')\n",
    ")"
   ]
  },
  {
   "cell_type": "code",
   "execution_count": 185,
   "id": "a54dc758",
   "metadata": {},
   "outputs": [],
   "source": [
    "plat_chemo = [\n",
    "    'Carboplatin',\n",
    "    'Cisplatin']\n",
    "\n",
    "immuno_wout_pembro = [\n",
    "    'Atezolizumab',\n",
    "    'Cemiplimab',\n",
    "    'Durvalumab',\n",
    "    'Ipilimumab',\n",
    "    'Nivolumab']\n",
    "\n",
    "targeted = [\n",
    "    'Afatinib',\n",
    "    'Alectinib',\n",
    "    'Brigatinib',\n",
    "    'Cabozantinib',\n",
    "    'Capmatinib',\n",
    "    'Ceritinib',\n",
    "    'Crizotinib',\n",
    "    'Dabrafenib',\n",
    "    'Dacomitinib',\n",
    "    'Entrectinib',\n",
    "    'Erlotinib',\n",
    "    'Gefitinib',\n",
    "    'Lorlatinib',\n",
    "    'Osimertinib',\n",
    "    'Pralsetinib',\n",
    "    'Selpercatinib',\n",
    "    'Sotorasib',\n",
    "    'Tepotinib',\n",
    "    'Trametinib',\n",
    "    'Vandetanib']"
   ]
  },
  {
   "cell_type": "code",
   "execution_count": 186,
   "id": "3ade4551",
   "metadata": {},
   "outputs": [
    {
     "data": {
      "text/plain": [
       "Carboplatin,Pembrolizumab,Pemetrexed                     4275\n",
       "Carboplatin,Paclitaxel,Pembrolizumab                      803\n",
       "Carboplatin,Paclitaxel Protein-Bound,Pembrolizumab        534\n",
       "Abiraterone,Carboplatin,Pembrolizumab,Pemetrexed           79\n",
       "Carboplatin,Cyclophosphamide,Pembrolizumab,Pemetrexed      31\n",
       "Cisplatin,Pembrolizumab,Pemetrexed                         27\n",
       "Carboplatin,Pembrolizumab                                  19\n",
       "Carboplatin,Docetaxel,Pembrolizumab                        18\n",
       "Carboplatin,Paclitaxel,Pembrolizumab,Pemetrexed            18\n",
       "Bevacizumab,Carboplatin,Pembrolizumab,Pemetrexed           10\n",
       "Name: LineName, dtype: int64"
      ]
     },
     "execution_count": 186,
     "metadata": {},
     "output_type": "execute_result"
    }
   ],
   "source": [
    "line_therapy_fl[line_therapy_fl['LineName'].str.contains('|'.join(plat_chemo)) & \n",
    "                line_therapy_fl['LineName'].str.contains('Pembrolizumab') &\n",
    "                ~line_therapy_fl['LineName'].str.contains('|'.join(targeted)) &\n",
    "                ~line_therapy_fl['LineName'].str.contains('|'.join(immuno_wout_pembro)) &\n",
    "                ~line_therapy_fl['LineName'].str.contains('Clinical Study Drug')].LineName.value_counts().head(10)"
   ]
  },
  {
   "cell_type": "code",
   "execution_count": 187,
   "id": "49101aff",
   "metadata": {},
   "outputs": [],
   "source": [
    "key189_pembro = (\n",
    "    line_therapy_fl[line_therapy_fl['LineName'].str.contains('|'.join(plat_chemo)) & \n",
    "                    line_therapy_fl['LineName'].str.contains('Pembrolizumab') &\n",
    "                    ~line_therapy_fl['LineName'].str.contains('|'.join(targeted)) &\n",
    "                    ~line_therapy_fl['LineName'].str.contains('|'.join(immuno_wout_pembro)) &\n",
    "                    ~line_therapy_fl['LineName'].str.contains('Clinical Study Drug')]\n",
    "    [['PatientID', 'StartDate']]\n",
    ")"
   ]
  },
  {
   "cell_type": "code",
   "execution_count": 188,
   "id": "b452c663",
   "metadata": {},
   "outputs": [],
   "source": [
    "key189_pembro.loc[:, 'pembro'] = 1"
   ]
  },
  {
   "cell_type": "code",
   "execution_count": 189,
   "id": "661c4071",
   "metadata": {},
   "outputs": [
    {
     "data": {
      "text/plain": [
       "(5878, 5878)"
      ]
     },
     "execution_count": 189,
     "metadata": {},
     "output_type": "execute_result"
    }
   ],
   "source": [
    "row_ID(key189_pembro)"
   ]
  },
  {
   "cell_type": "code",
   "execution_count": 190,
   "id": "b4534a80",
   "metadata": {},
   "outputs": [],
   "source": [
    "# Dataframe of all therapies received for those receiving first line pembrolizumab only. \n",
    "line_therapy_pembro_189 = (\n",
    "    line_therapy[line_therapy['PatientID'].isin(key189_pembro.PatientID)])"
   ]
  },
  {
   "cell_type": "code",
   "execution_count": 191,
   "id": "48e795c2",
   "metadata": {},
   "outputs": [],
   "source": [
    "# Patients receiving pembrolizumab therapy who later recieve targeted therapy. \n",
    "pembro_189_xcross = (\n",
    "    line_therapy_pembro_189[line_therapy_pembro_189['LineName'].str.contains('|'.join(targeted))].PatientID)"
   ]
  },
  {
   "cell_type": "code",
   "execution_count": 192,
   "id": "3575c65d",
   "metadata": {},
   "outputs": [],
   "source": [
    "# Select patients who don't receive targeted therapy in future lines.\n",
    "key189_pembro = key189_pembro[~key189_pembro['PatientID'].isin(pembro_189_xcross)]"
   ]
  },
  {
   "cell_type": "code",
   "execution_count": 193,
   "id": "f0d5b594",
   "metadata": {},
   "outputs": [
    {
     "data": {
      "text/plain": [
       "(5673, 5673)"
      ]
     },
     "execution_count": 193,
     "metadata": {},
     "output_type": "execute_result"
    }
   ],
   "source": [
    "row_ID(key189_pembro)"
   ]
  },
  {
   "cell_type": "markdown",
   "id": "a9f0b9e9",
   "metadata": {},
   "source": [
    "#### Platinum-based chemotherapy"
   ]
  },
  {
   "cell_type": "code",
   "execution_count": 194,
   "id": "146ae4e2",
   "metadata": {},
   "outputs": [],
   "source": [
    "plat_chemo = [\n",
    "    'Carboplatin',\n",
    "    'Cisplatin']\n",
    "\n",
    "immuno = [\n",
    "    'Atezolizumab',\n",
    "    'Cemiplimab',\n",
    "    'Durvalumab',\n",
    "    'Ipilimumab',\n",
    "    'Nivolumab',\n",
    "    'Pembrolizumab'\n",
    "]"
   ]
  },
  {
   "cell_type": "code",
   "execution_count": 195,
   "id": "299e8054",
   "metadata": {},
   "outputs": [
    {
     "data": {
      "text/plain": [
       "Carboplatin,Paclitaxel                  8524\n",
       "Carboplatin,Pemetrexed                  5417\n",
       "Bevacizumab,Carboplatin,Pemetrexed      2825\n",
       "Carboplatin,Paclitaxel Protein-Bound    1826\n",
       "Bevacizumab,Carboplatin,Paclitaxel      1591\n",
       "Carboplatin,Gemcitabine                 1224\n",
       "Cisplatin,Etoposide                      793\n",
       "Carboplatin,Docetaxel                    780\n",
       "Cisplatin,Pemetrexed                     684\n",
       "Carboplatin,Etoposide                    363\n",
       "Name: LineName, dtype: int64"
      ]
     },
     "execution_count": 195,
     "metadata": {},
     "output_type": "execute_result"
    }
   ],
   "source": [
    "line_therapy_fl[line_therapy_fl['LineName'].str.contains('|'.join(plat_chemo)) & \n",
    "                ~line_therapy_fl['LineName'].str.contains('|'.join(immuno)) &\n",
    "                ~line_therapy_fl['LineName'].str.contains('|'.join(targeted)) &\n",
    "                ~line_therapy_fl['LineName'].str.contains('Clinical Study Drug')].LineName.value_counts().head(10)"
   ]
  },
  {
   "cell_type": "code",
   "execution_count": 196,
   "id": "04e4e547",
   "metadata": {},
   "outputs": [],
   "source": [
    "key189_plat = (\n",
    "    line_therapy_fl[line_therapy_fl['LineName'].str.contains('|'.join(plat_chemo)) & \n",
    "                    ~line_therapy_fl['LineName'].str.contains('|'.join(immuno)) &\n",
    "                    ~line_therapy_fl['LineName'].str.contains('|'.join(targeted)) &\n",
    "                    ~line_therapy_fl['LineName'].str.contains('Clinical Study Drug')]\n",
    "    [['PatientID', 'StartDate']]\n",
    ")"
   ]
  },
  {
   "cell_type": "code",
   "execution_count": 197,
   "id": "463bb847",
   "metadata": {},
   "outputs": [],
   "source": [
    "key189_plat.loc[:, 'pembro'] = 0"
   ]
  },
  {
   "cell_type": "code",
   "execution_count": 198,
   "id": "fcc74851",
   "metadata": {},
   "outputs": [
    {
     "data": {
      "text/plain": [
       "(25861, 25861)"
      ]
     },
     "execution_count": 198,
     "metadata": {},
     "output_type": "execute_result"
    }
   ],
   "source": [
    "row_ID(key189_plat)"
   ]
  },
  {
   "cell_type": "code",
   "execution_count": 199,
   "id": "a7936f36",
   "metadata": {},
   "outputs": [],
   "source": [
    "# Dataframe of all therapies received for those receiving first line platinum regimen \n",
    "line_therapy_plat_189 = (\n",
    "    line_therapy[line_therapy['PatientID'].isin(key189_plat.PatientID)])"
   ]
  },
  {
   "cell_type": "code",
   "execution_count": 200,
   "id": "4c687279",
   "metadata": {},
   "outputs": [],
   "source": [
    "# Patients receiving platinum therapy who later recieve targeted therapy\n",
    "plat_189_xcross = (\n",
    "    line_therapy_plat_189[line_therapy_plat_189['LineName'].str.contains('|'.join(targeted))].PatientID)"
   ]
  },
  {
   "cell_type": "code",
   "execution_count": 201,
   "id": "e22aa232",
   "metadata": {},
   "outputs": [],
   "source": [
    "# Select patients who don't receive targeted therapy\n",
    "key189_plat = key189_plat[~key189_plat['PatientID'].isin(plat_189_xcross)]"
   ]
  },
  {
   "cell_type": "code",
   "execution_count": 202,
   "id": "32befe77",
   "metadata": {},
   "outputs": [
    {
     "data": {
      "text/plain": [
       "(23800, 23800)"
      ]
     },
     "execution_count": 202,
     "metadata": {},
     "output_type": "execute_result"
    }
   ],
   "source": [
    "row_ID(key189_plat)"
   ]
  },
  {
   "cell_type": "code",
   "execution_count": 203,
   "id": "228277a1",
   "metadata": {},
   "outputs": [],
   "source": [
    "key_189 = pd.concat([key189_pembro, key189_plat])"
   ]
  },
  {
   "cell_type": "code",
   "execution_count": 204,
   "id": "b4161d23",
   "metadata": {},
   "outputs": [
    {
     "data": {
      "text/plain": [
       "(29473, 29473)"
      ]
     },
     "execution_count": 204,
     "metadata": {},
     "output_type": "execute_result"
    }
   ],
   "source": [
    "row_ID(key_189)"
   ]
  },
  {
   "cell_type": "code",
   "execution_count": 205,
   "id": "12b6ef3f",
   "metadata": {},
   "outputs": [],
   "source": [
    "key_189 = pd.merge(key_189, df_full, on = 'PatientID', how = 'left')"
   ]
  },
  {
   "cell_type": "code",
   "execution_count": 206,
   "id": "f0c69132",
   "metadata": {},
   "outputs": [
    {
     "data": {
      "text/plain": [
       "(29473, 29473)"
      ]
     },
     "execution_count": 206,
     "metadata": {},
     "output_type": "execute_result"
    }
   ],
   "source": [
    "row_ID(key_189)"
   ]
  },
  {
   "cell_type": "code",
   "execution_count": 207,
   "id": "70f66453",
   "metadata": {},
   "outputs": [],
   "source": [
    "key_189['StartDate'] = pd.to_datetime(key_189['StartDate'])"
   ]
  },
  {
   "cell_type": "markdown",
   "id": "7ab55f24",
   "metadata": {},
   "source": [
    "#### Time from treatment to death or censor"
   ]
  },
  {
   "cell_type": "code",
   "execution_count": 208,
   "id": "dbf11586",
   "metadata": {},
   "outputs": [],
   "source": [
    "mortality_tr = pd.read_csv('mortality_cleaned_tr.csv')"
   ]
  },
  {
   "cell_type": "code",
   "execution_count": 209,
   "id": "2bb84135",
   "metadata": {},
   "outputs": [],
   "source": [
    "mortality_te = pd.read_csv('mortality_cleaned_te.csv')"
   ]
  },
  {
   "cell_type": "code",
   "execution_count": 210,
   "id": "da7fcced",
   "metadata": {},
   "outputs": [],
   "source": [
    "mortality_tr = mortality_tr[['PatientID', 'death_date', 'last_activity']]"
   ]
  },
  {
   "cell_type": "code",
   "execution_count": 211,
   "id": "2678095c",
   "metadata": {},
   "outputs": [],
   "source": [
    "mortality_te = mortality_te[['PatientID', 'death_date', 'last_activity']]"
   ]
  },
  {
   "cell_type": "code",
   "execution_count": 212,
   "id": "ff85abe1",
   "metadata": {},
   "outputs": [
    {
     "name": "stdout",
     "output_type": "stream",
     "text": [
      "68483 True\n"
     ]
    }
   ],
   "source": [
    "mortality = pd.concat([mortality_tr, mortality_te], ignore_index = True)\n",
    "print(len(mortality), mortality.PatientID.is_unique)"
   ]
  },
  {
   "cell_type": "code",
   "execution_count": 213,
   "id": "077435e0",
   "metadata": {},
   "outputs": [],
   "source": [
    "mortality.loc[:, 'last_activity'] = pd.to_datetime(mortality['last_activity'])"
   ]
  },
  {
   "cell_type": "code",
   "execution_count": 214,
   "id": "0dba0274",
   "metadata": {},
   "outputs": [],
   "source": [
    "mortality.loc[:, 'death_date'] = pd.to_datetime(mortality['death_date'])"
   ]
  },
  {
   "cell_type": "code",
   "execution_count": 215,
   "id": "a980eeb0",
   "metadata": {},
   "outputs": [],
   "source": [
    "key_189 = pd.merge(key_189, mortality, on = 'PatientID', how = 'left')"
   ]
  },
  {
   "cell_type": "code",
   "execution_count": 216,
   "id": "4292a06b",
   "metadata": {},
   "outputs": [
    {
     "data": {
      "text/plain": [
       "29473"
      ]
     },
     "execution_count": 216,
     "metadata": {},
     "output_type": "execute_result"
    }
   ],
   "source": [
    "len(key_189)"
   ]
  },
  {
   "cell_type": "code",
   "execution_count": 217,
   "id": "fffd4e3e",
   "metadata": {},
   "outputs": [],
   "source": [
    "conditions = [\n",
    "    (key_189['death_status'] == 1),\n",
    "    (key_189['death_status'] == 0)]\n",
    "\n",
    "choices = [\n",
    "    (key_189['death_date'] - key_189['StartDate']).dt.days,\n",
    "    (key_189['last_activity'] - key_189['StartDate']).dt.days]\n",
    "\n",
    "key_189.loc[:, 'timerisk_treatment'] = np.select(conditions, choices)"
   ]
  },
  {
   "cell_type": "code",
   "execution_count": 218,
   "id": "c31ecea5",
   "metadata": {},
   "outputs": [],
   "source": [
    "key_189 = key_189.query('timerisk_treatment >= 0')"
   ]
  },
  {
   "cell_type": "markdown",
   "id": "b215220a",
   "metadata": {},
   "source": [
    "#### Patient count"
   ]
  },
  {
   "cell_type": "code",
   "execution_count": 219,
   "id": "34ee111d",
   "metadata": {},
   "outputs": [],
   "source": [
    "key_189 = (\n",
    "    key_189\n",
    "    .query('EGFR != \"positive\"')\n",
    "    .query('ALK != \"positive\"')\n",
    ")"
   ]
  },
  {
   "cell_type": "code",
   "execution_count": 220,
   "id": "0a9a7528",
   "metadata": {},
   "outputs": [],
   "source": [
    "low_cutoff_189 = key_189.risk_score.quantile(1/3)"
   ]
  },
  {
   "cell_type": "code",
   "execution_count": 221,
   "id": "3d78b5e1",
   "metadata": {},
   "outputs": [],
   "source": [
    "high_cutoff_189 = key_189.risk_score.quantile(2/3)"
   ]
  },
  {
   "cell_type": "code",
   "execution_count": 222,
   "id": "fb5f50ad",
   "metadata": {},
   "outputs": [
    {
     "name": "stdout",
     "output_type": "stream",
     "text": [
      "Pembro + chemo total: 5560\n",
      "High risk: 2010\n",
      "Med risk: 1842\n",
      "Low risk: 1708\n"
     ]
    }
   ],
   "source": [
    "print('Pembro + chemo total:',  key_189.query('pembro == 1').shape[0])\n",
    "print('High risk:', key_189.query('pembro == 1').query('risk_score >= @high_cutoff_189').shape[0])\n",
    "print('Med risk:', key_189.query('pembro == 1').query('risk_score < @high_cutoff_189 and risk_score > @low_cutoff_189').shape[0])\n",
    "print('Low risk:', key_189.query('pembro == 1').query('risk_score <= @low_cutoff_189').shape[0])"
   ]
  },
  {
   "cell_type": "code",
   "execution_count": 223,
   "id": "6ceaf88b",
   "metadata": {},
   "outputs": [
    {
     "name": "stdout",
     "output_type": "stream",
     "text": [
      "Platinum total: 23480\n",
      "High risk: 7670\n",
      "Med risk: 7838\n",
      "Low risk: 7972\n"
     ]
    }
   ],
   "source": [
    "print('Platinum total:',  key_189.query('pembro == 0').shape[0])\n",
    "print('High risk:', key_189.query('pembro == 0').query('risk_score >= @high_cutoff_189').shape[0])\n",
    "print('Med risk:', key_189.query('pembro == 0').query('risk_score < @high_cutoff_189 and risk_score > @low_cutoff_189').shape[0])\n",
    "print('Low risk:', key_189.query('pembro == 0').query('risk_score <= @low_cutoff_189').shape[0])"
   ]
  },
  {
   "cell_type": "code",
   "execution_count": 224,
   "id": "74c78779",
   "metadata": {},
   "outputs": [],
   "source": [
    "risk_cutoff_lung.loc['keynote_189'] = [low_cutoff_189, high_cutoff_189]"
   ]
  },
  {
   "cell_type": "markdown",
   "id": "ab4545bb",
   "metadata": {},
   "source": [
    "#### Survival curves with covariate balancing"
   ]
  },
  {
   "cell_type": "code",
   "execution_count": 225,
   "id": "8404845f",
   "metadata": {},
   "outputs": [],
   "source": [
    "key_189 = key_189.set_index('PatientID')"
   ]
  },
  {
   "cell_type": "code",
   "execution_count": 226,
   "id": "6d92d733",
   "metadata": {},
   "outputs": [],
   "source": [
    "key_189_iptw = key_189.filter(items = ['death_status',\n",
    "                                       'timerisk_treatment',\n",
    "                                       'pembro',\n",
    "                                       'age',\n",
    "                                       'gender',\n",
    "                                       'race',\n",
    "                                       'PracticeType',\n",
    "                                       'Histology',\n",
    "                                       'adv_year',\n",
    "                                       'delta_adv_diagnosis',\n",
    "                                       'commercial',\n",
    "                                       'medicare',\n",
    "                                       'medicaid',\n",
    "                                       'ecog_diagnosis',\n",
    "                                       'pdl1',\n",
    "                                       'albumin_diag', \n",
    "                                       'weight_pct_change',\n",
    "                                       'risk_score'])"
   ]
  },
  {
   "cell_type": "code",
   "execution_count": 227,
   "id": "97d0a390",
   "metadata": {},
   "outputs": [],
   "source": [
    "key_189_iptw['met_cat'] = pd.cut(key_189_iptw['adv_year'],\n",
    "                                 bins = [2010, 2018, float('inf')],\n",
    "                                 labels = ['11-18', '19-22'])"
   ]
  },
  {
   "cell_type": "code",
   "execution_count": 228,
   "id": "2f611426",
   "metadata": {},
   "outputs": [],
   "source": [
    "conditions = [\n",
    "    ((key_189_iptw['pdl1'] == \"1-49%\") | (key_189_iptw['pdl1'] == \"50-100%\"))]\n",
    "\n",
    "choices = ['>0%']\n",
    "\n",
    "key_189_iptw['pdl1_cat'] = np.select(conditions, choices, default = key_189_iptw['pdl1'])"
   ]
  },
  {
   "cell_type": "code",
   "execution_count": 229,
   "id": "a41501be",
   "metadata": {},
   "outputs": [],
   "source": [
    "conditions = [\n",
    "    ((key_189_iptw['ecog_diagnosis'] == \"1.0\") | (key_189_iptw['ecog_diagnosis'] == \"0.0\")),  \n",
    "    ((key_189_iptw['ecog_diagnosis'] == \"2.0\") | (key_189_iptw['ecog_diagnosis'] == \"3.0\"))\n",
    "]\n",
    "\n",
    "choices = ['lt_2', 'gte_2']\n",
    "\n",
    "key_189_iptw['ecog_2'] = np.select(conditions, choices, default = 'unknown')"
   ]
  },
  {
   "cell_type": "code",
   "execution_count": 230,
   "id": "4491b2e9",
   "metadata": {},
   "outputs": [
    {
     "data": {
      "text/plain": [
       "death_status               bool\n",
       "timerisk_treatment      float64\n",
       "pembro                    int64\n",
       "age                       int64\n",
       "gender                   object\n",
       "race                     object\n",
       "PracticeType             object\n",
       "Histology                object\n",
       "adv_year                  int64\n",
       "delta_adv_diagnosis       int64\n",
       "commercial              float64\n",
       "medicare                float64\n",
       "medicaid                float64\n",
       "ecog_diagnosis           object\n",
       "pdl1                     object\n",
       "albumin_diag            float64\n",
       "weight_pct_change       float64\n",
       "risk_score              float64\n",
       "met_cat                category\n",
       "pdl1_cat                 object\n",
       "ecog_2                   object\n",
       "dtype: object"
      ]
     },
     "execution_count": 230,
     "metadata": {},
     "output_type": "execute_result"
    }
   ],
   "source": [
    "key_189_iptw.dtypes"
   ]
  },
  {
   "cell_type": "code",
   "execution_count": 231,
   "id": "195d0c14",
   "metadata": {},
   "outputs": [],
   "source": [
    "to_be_categorical = list(key_189_iptw.select_dtypes(include = ['object']).columns)"
   ]
  },
  {
   "cell_type": "code",
   "execution_count": 232,
   "id": "42f9796a",
   "metadata": {},
   "outputs": [
    {
     "data": {
      "text/plain": [
       "['gender',\n",
       " 'race',\n",
       " 'PracticeType',\n",
       " 'Histology',\n",
       " 'ecog_diagnosis',\n",
       " 'pdl1',\n",
       " 'pdl1_cat',\n",
       " 'ecog_2']"
      ]
     },
     "execution_count": 232,
     "metadata": {},
     "output_type": "execute_result"
    }
   ],
   "source": [
    "to_be_categorical"
   ]
  },
  {
   "cell_type": "code",
   "execution_count": 233,
   "id": "281eb0c4",
   "metadata": {},
   "outputs": [],
   "source": [
    "to_be_categorical.append('met_cat')"
   ]
  },
  {
   "cell_type": "code",
   "execution_count": 234,
   "id": "99847f4d",
   "metadata": {},
   "outputs": [],
   "source": [
    "to_be_categorical.remove('pdl1')"
   ]
  },
  {
   "cell_type": "code",
   "execution_count": 235,
   "id": "efded404",
   "metadata": {},
   "outputs": [],
   "source": [
    "to_be_categorical.remove('ecog_diagnosis')"
   ]
  },
  {
   "cell_type": "code",
   "execution_count": 236,
   "id": "3b23cbf9",
   "metadata": {},
   "outputs": [],
   "source": [
    "# Convert variables in list to categorical.\n",
    "for x in list(to_be_categorical):\n",
    "    key_189_iptw[x] = key_189_iptw[x].astype('category')"
   ]
  },
  {
   "cell_type": "code",
   "execution_count": 237,
   "id": "72778c5c",
   "metadata": {},
   "outputs": [],
   "source": [
    "# List of numeric variables, excluding binary variables. \n",
    "numerical_features = ['age', 'delta_adv_diagnosis', 'albumin_diag', 'weight_pct_change', 'risk_score']\n",
    "\n",
    "# Transformer will first calculate column median and impute, and then apply a standard scaler. \n",
    "numerical_transformer = Pipeline(steps = [\n",
    "    ('imputer', SimpleImputer(strategy = 'median')),\n",
    "    ('std_scaler', StandardScaler())])"
   ]
  },
  {
   "cell_type": "code",
   "execution_count": 238,
   "id": "03904875",
   "metadata": {},
   "outputs": [],
   "source": [
    "# List of categorical features.\n",
    "categorical_features = list(key_189_iptw.select_dtypes(include = ['category']).columns)\n",
    "\n",
    "# One-hot-encode categorical features.\n",
    "categorical_transformer = OneHotEncoder(handle_unknown = 'ignore')"
   ]
  },
  {
   "cell_type": "code",
   "execution_count": 239,
   "id": "13a084f8",
   "metadata": {},
   "outputs": [],
   "source": [
    "preprocessor = ColumnTransformer(\n",
    "    transformers = [\n",
    "        ('num', numerical_transformer, numerical_features),\n",
    "        ('cat', categorical_transformer, categorical_features)],\n",
    "    remainder = 'passthrough')"
   ]
  },
  {
   "cell_type": "code",
   "execution_count": 240,
   "id": "52fd1079",
   "metadata": {},
   "outputs": [],
   "source": [
    "key_189_iptw_low = (\n",
    "    key_189_iptw\n",
    "    .query('risk_score <= @low_cutoff_189'))\n",
    "\n",
    "key_189_iptw_med = (\n",
    "    key_189_iptw\n",
    "    .query('risk_score < @high_cutoff_189 and risk_score > @low_cutoff_189'))\n",
    "\n",
    "key_189_iptw_high = (\n",
    "    key_189_iptw\n",
    "    .query('risk_score >= @high_cutoff_189'))\n",
    "\n",
    "key_189_iptw_all = key_189_iptw"
   ]
  },
  {
   "cell_type": "code",
   "execution_count": 241,
   "id": "cb1d015e",
   "metadata": {},
   "outputs": [],
   "source": [
    "key_189_low_x = preprocessor.fit_transform(key_189_iptw_low.filter(items = ['age',\n",
    "                                                                            'gender',\n",
    "                                                                            'race',\n",
    "                                                                            'PracticeType',\n",
    "                                                                            'Histology',\n",
    "                                                                            'met_cat',\n",
    "                                                                            'delta_adv_diagnosis',\n",
    "                                                                            'commercial',\n",
    "                                                                            'medicare',\n",
    "                                                                            'medicaid',\n",
    "                                                                            'ecog_2',\n",
    "                                                                            'pdl1_cat', \n",
    "                                                                            'albumin_diag', \n",
    "                                                                            'weight_pct_change', \n",
    "                                                                            'risk_score']))\n",
    "\n",
    "key_189_med_x = preprocessor.fit_transform(key_189_iptw_med.filter(items = ['age',\n",
    "                                                                            'gender',\n",
    "                                                                            'race',\n",
    "                                                                            'PracticeType',\n",
    "                                                                            'Histology',\n",
    "                                                                            'met_cat',\n",
    "                                                                            'delta_adv_diagnosis',\n",
    "                                                                            'commercial',\n",
    "                                                                            'medicare',\n",
    "                                                                            'medicaid',\n",
    "                                                                            'ecog_2',\n",
    "                                                                            'pdl1_cat', \n",
    "                                                                            'albumin_diag', \n",
    "                                                                            'weight_pct_change', \n",
    "                                                                            'risk_score']))\n",
    "\n",
    "key_189_high_x = preprocessor.fit_transform(key_189_iptw_high.filter(items = ['age',\n",
    "                                                                              'gender',\n",
    "                                                                              'race',\n",
    "                                                                              'PracticeType',\n",
    "                                                                              'Histology',\n",
    "                                                                              'met_cat',\n",
    "                                                                              'delta_adv_diagnosis',\n",
    "                                                                              'commercial',\n",
    "                                                                              'medicare',\n",
    "                                                                              'medicaid',\n",
    "                                                                              'ecog_2',\n",
    "                                                                              'pdl1_cat', \n",
    "                                                                              'albumin_diag', \n",
    "                                                                              'weight_pct_change',\n",
    "                                                                              'risk_score']))\n",
    "\n",
    "key_189_all_x = preprocessor.fit_transform(key_189_iptw_all.filter(items = ['age',\n",
    "                                                                            'gender',\n",
    "                                                                            'race',\n",
    "                                                                            'PracticeType',\n",
    "                                                                            'Histology',\n",
    "                                                                            'met_cat',\n",
    "                                                                            'delta_adv_diagnosis',\n",
    "                                                                            'commercial',\n",
    "                                                                            'medicare',\n",
    "                                                                            'medicaid',\n",
    "                                                                            'ecog_2',\n",
    "                                                                            'pdl1_cat', \n",
    "                                                                            'albumin_diag', \n",
    "                                                                            'weight_pct_change',\n",
    "                                                                            'risk_score']))"
   ]
  },
  {
   "cell_type": "code",
   "execution_count": 242,
   "id": "daca8fb1",
   "metadata": {},
   "outputs": [
    {
     "data": {
      "text/plain": [
       "LogisticRegression(max_iter=1000)"
      ]
     },
     "execution_count": 242,
     "metadata": {},
     "output_type": "execute_result"
    }
   ],
   "source": [
    "lr_189_low = LogisticRegression(max_iter = 1000)\n",
    "lr_189_low.fit(key_189_low_x, key_189_iptw_low['pembro'])"
   ]
  },
  {
   "cell_type": "code",
   "execution_count": 243,
   "id": "8b9f8ea2",
   "metadata": {},
   "outputs": [
    {
     "data": {
      "text/plain": [
       "LogisticRegression(max_iter=1000)"
      ]
     },
     "execution_count": 243,
     "metadata": {},
     "output_type": "execute_result"
    }
   ],
   "source": [
    "lr_189_med = LogisticRegression(max_iter = 1000)\n",
    "lr_189_med.fit(key_189_med_x, key_189_iptw_med['pembro'])"
   ]
  },
  {
   "cell_type": "code",
   "execution_count": 244,
   "id": "22f43f71",
   "metadata": {},
   "outputs": [
    {
     "data": {
      "text/plain": [
       "LogisticRegression(max_iter=1000)"
      ]
     },
     "execution_count": 244,
     "metadata": {},
     "output_type": "execute_result"
    }
   ],
   "source": [
    "lr_189_high = LogisticRegression(max_iter = 1000)\n",
    "lr_189_high.fit(key_189_high_x, key_189_iptw_high['pembro'])"
   ]
  },
  {
   "cell_type": "code",
   "execution_count": 245,
   "id": "44a5e3ae",
   "metadata": {},
   "outputs": [
    {
     "data": {
      "text/plain": [
       "LogisticRegression(max_iter=1000)"
      ]
     },
     "execution_count": 245,
     "metadata": {},
     "output_type": "execute_result"
    }
   ],
   "source": [
    "lr_189_all = LogisticRegression(max_iter = 1000)\n",
    "lr_189_all.fit(key_189_all_x, key_189_iptw_all['pembro'])"
   ]
  },
  {
   "cell_type": "code",
   "execution_count": 246,
   "id": "0f165364",
   "metadata": {},
   "outputs": [],
   "source": [
    "pred_low = lr_189_low.predict_proba(key_189_low_x)\n",
    "pred_med = lr_189_med.predict_proba(key_189_med_x)\n",
    "pred_high = lr_189_high.predict_proba(key_189_high_x)\n",
    "pred_all = lr_189_all.predict_proba(key_189_all_x)"
   ]
  },
  {
   "cell_type": "code",
   "execution_count": 247,
   "id": "0b4b5f6d",
   "metadata": {},
   "outputs": [
    {
     "name": "stderr",
     "output_type": "stream",
     "text": [
      "/Users/xavierorcutt/Dropbox/ist_project/myenv/lib/python3.7/site-packages/ipykernel_launcher.py:1: SettingWithCopyWarning: \n",
      "A value is trying to be set on a copy of a slice from a DataFrame.\n",
      "Try using .loc[row_indexer,col_indexer] = value instead\n",
      "\n",
      "See the caveats in the documentation: https://pandas.pydata.org/pandas-docs/stable/user_guide/indexing.html#returning-a-view-versus-a-copy\n",
      "  \"\"\"Entry point for launching an IPython kernel.\n",
      "/Users/xavierorcutt/Dropbox/ist_project/myenv/lib/python3.7/site-packages/ipykernel_launcher.py:2: SettingWithCopyWarning: \n",
      "A value is trying to be set on a copy of a slice from a DataFrame.\n",
      "Try using .loc[row_indexer,col_indexer] = value instead\n",
      "\n",
      "See the caveats in the documentation: https://pandas.pydata.org/pandas-docs/stable/user_guide/indexing.html#returning-a-view-versus-a-copy\n",
      "  \n",
      "/Users/xavierorcutt/Dropbox/ist_project/myenv/lib/python3.7/site-packages/ipykernel_launcher.py:3: SettingWithCopyWarning: \n",
      "A value is trying to be set on a copy of a slice from a DataFrame.\n",
      "Try using .loc[row_indexer,col_indexer] = value instead\n",
      "\n",
      "See the caveats in the documentation: https://pandas.pydata.org/pandas-docs/stable/user_guide/indexing.html#returning-a-view-versus-a-copy\n",
      "  This is separate from the ipykernel package so we can avoid doing imports until\n"
     ]
    }
   ],
   "source": [
    "key_189_iptw_low['ps'] = pred_low[:, 1]\n",
    "key_189_iptw_med['ps'] = pred_med[:, 1]\n",
    "key_189_iptw_high['ps'] = pred_high[:, 1]\n",
    "key_189_iptw_all['ps'] = pred_all[:, 1]"
   ]
  },
  {
   "cell_type": "code",
   "execution_count": 248,
   "id": "b1d9bc45",
   "metadata": {},
   "outputs": [
    {
     "name": "stderr",
     "output_type": "stream",
     "text": [
      "/Users/xavierorcutt/Dropbox/ist_project/myenv/lib/python3.7/site-packages/ipykernel_launcher.py:2: SettingWithCopyWarning: \n",
      "A value is trying to be set on a copy of a slice from a DataFrame.\n",
      "Try using .loc[row_indexer,col_indexer] = value instead\n",
      "\n",
      "See the caveats in the documentation: https://pandas.pydata.org/pandas-docs/stable/user_guide/indexing.html#returning-a-view-versus-a-copy\n",
      "  \n",
      "/Users/xavierorcutt/Dropbox/ist_project/myenv/lib/python3.7/site-packages/ipykernel_launcher.py:5: SettingWithCopyWarning: \n",
      "A value is trying to be set on a copy of a slice from a DataFrame.\n",
      "Try using .loc[row_indexer,col_indexer] = value instead\n",
      "\n",
      "See the caveats in the documentation: https://pandas.pydata.org/pandas-docs/stable/user_guide/indexing.html#returning-a-view-versus-a-copy\n",
      "  \"\"\"\n",
      "/Users/xavierorcutt/Dropbox/ist_project/myenv/lib/python3.7/site-packages/ipykernel_launcher.py:8: SettingWithCopyWarning: \n",
      "A value is trying to be set on a copy of a slice from a DataFrame.\n",
      "Try using .loc[row_indexer,col_indexer] = value instead\n",
      "\n",
      "See the caveats in the documentation: https://pandas.pydata.org/pandas-docs/stable/user_guide/indexing.html#returning-a-view-versus-a-copy\n",
      "  \n"
     ]
    }
   ],
   "source": [
    "key_189_iptw_low['weight'] = (\n",
    "    np.where(key_189_iptw_low['pembro'] == 1, 1/key_189_iptw_low['ps'], 1/(1 - key_189_iptw_low['ps'])))\n",
    "\n",
    "key_189_iptw_med['weight'] = (\n",
    "    np.where(key_189_iptw_med['pembro'] == 1, 1/key_189_iptw_med['ps'], 1/(1 - key_189_iptw_med['ps'])))\n",
    "\n",
    "key_189_iptw_high['weight'] = (\n",
    "    np.where(key_189_iptw_high['pembro'] == 1, 1/key_189_iptw_high['ps'], 1/(1 - key_189_iptw_high['ps'])))\n",
    "\n",
    "key_189_iptw_all['weight'] = (\n",
    "    np.where(key_189_iptw_all['pembro'] == 1, 1/key_189_iptw_all['ps'], 1/(1 - key_189_iptw_all['ps'])))"
   ]
  },
  {
   "cell_type": "code",
   "execution_count": 249,
   "id": "fbacc92c",
   "metadata": {},
   "outputs": [
    {
     "name": "stderr",
     "output_type": "stream",
     "text": [
      "/Users/xavierorcutt/Dropbox/ist_project/myenv/lib/python3.7/site-packages/lifelines/fitters/kaplan_meier_fitter.py:344: StatisticalWarning: It looks like your weights are not integers, possibly propensity scores then?\n",
      "  It's important to know that the naive variance estimates of the coefficients are biased. Instead use Monte Carlo to\n",
      "  estimate the variances. See paper \"Variance estimation when using inverse probability of treatment weighting (IPTW) with survival analysis\"\n",
      "  or \"Adjusted Kaplan-Meier estimator and log-rank test with inverse probability of treatment weighting for survival data.\"\n",
      "                  \n",
      "  StatisticalWarning,\n"
     ]
    },
    {
     "data": {
      "text/plain": [
       "<lifelines.KaplanMeierFitter:\"KM_estimate\", fitted with 29804.6 total observations, 8081.93 right-censored observations>"
      ]
     },
     "execution_count": 249,
     "metadata": {},
     "output_type": "execute_result"
    }
   ],
   "source": [
    "# Low KM curves\n",
    "kmf_low_pembro_189_iptw = KaplanMeierFitter()\n",
    "kmf_low_plat_189_iptw = KaplanMeierFitter()\n",
    "\n",
    "kmf_low_pembro_189_iptw.fit(\n",
    "    key_189_iptw_low.query('pembro == 1').timerisk_treatment/30,\n",
    "    key_189_iptw_low.query('pembro == 1').death_status,\n",
    "    weights = key_189_iptw_low.query('pembro == 1')['weight'])\n",
    "\n",
    "kmf_low_plat_189_iptw.fit(\n",
    "    key_189_iptw_low.query('pembro == 0').timerisk_treatment/30,\n",
    "    key_189_iptw_low.query('pembro == 0').death_status,\n",
    "    weights = key_189_iptw_low.query('pembro == 0')['weight'])\n",
    "\n",
    "# Med KM curves\n",
    "kmf_med_pembro_189_iptw = KaplanMeierFitter()\n",
    "kmf_med_plat_189_iptw = KaplanMeierFitter()\n",
    "\n",
    "kmf_med_pembro_189_iptw.fit(\n",
    "    key_189_iptw_med.query('pembro == 1').timerisk_treatment/30,\n",
    "    key_189_iptw_med.query('pembro == 1').death_status,\n",
    "    weights = key_189_iptw_med.query('pembro == 1')['weight'])\n",
    "\n",
    "kmf_med_plat_189_iptw.fit(\n",
    "    key_189_iptw_med.query('pembro == 0').timerisk_treatment/30,\n",
    "    key_189_iptw_med.query('pembro == 0').death_status,\n",
    "    weights = key_189_iptw_med.query('pembro == 0')['weight'])\n",
    "\n",
    "# High KM curves \n",
    "kmf_high_pembro_189_iptw = KaplanMeierFitter()\n",
    "kmf_high_plat_189_iptw = KaplanMeierFitter()\n",
    "\n",
    "kmf_high_pembro_189_iptw.fit(\n",
    "    key_189_iptw_high.query('pembro == 1').timerisk_treatment/30,\n",
    "    key_189_iptw_high.query('pembro == 1').death_status,\n",
    "    weights = key_189_iptw_high.query('pembro == 1')['weight'])\n",
    "\n",
    "kmf_high_plat_189_iptw.fit(\n",
    "    key_189_iptw_high.query('pembro == 0').timerisk_treatment/30,\n",
    "    key_189_iptw_high.query('pembro == 0').death_status,\n",
    "    weights = key_189_iptw_high.query('pembro == 0')['weight'])\n",
    "\n",
    "# All KM curves \n",
    "kmf_all_pembro_189_iptw = KaplanMeierFitter()\n",
    "kmf_all_plat_189_iptw = KaplanMeierFitter()\n",
    "\n",
    "kmf_all_pembro_189_iptw.fit(\n",
    "    key_189_iptw_all.query('pembro == 1').timerisk_treatment/30,\n",
    "    key_189_iptw_all.query('pembro == 1').death_status,\n",
    "    weights = key_189_iptw_all.query('pembro == 1')['weight'])\n",
    "\n",
    "kmf_all_plat_189_iptw.fit(\n",
    "    key_189_iptw_all.query('pembro == 0').timerisk_treatment/30,\n",
    "    key_189_iptw_all.query('pembro == 0').death_status,\n",
    "    weights = key_189_iptw_all.query('pembro == 0')['weight'])"
   ]
  },
  {
   "cell_type": "code",
   "execution_count": 250,
   "id": "f119985c",
   "metadata": {},
   "outputs": [
    {
     "data": {
      "image/png": "[encoded data removed]",
      "text/plain": [
       "<Figure size 1800x600 with 5 Axes>"
      ]
     },
     "metadata": {},
     "output_type": "display_data"
    }
   ],
   "source": [
    "fig = plt.figure(figsize=(18, 6))\n",
    "\n",
    "# Plot survival curves for low risk group \n",
    "plt.subplot(1, 4, 1)\n",
    "\n",
    "plt.step(kmf_low_pembro_189_iptw.timeline, kmf_low_pembro_189_iptw.survival_function_.values*100, color = 'red', alpha = 0.5)\n",
    "\n",
    "plt.step(kmf_low_plat_189_iptw.timeline, kmf_low_plat_189_iptw.survival_function_.values*100, color = 'black', alpha = 0.5)\n",
    "\n",
    "plt.xticks(np.arange(0, 43, 6))\n",
    "plt.xlim(0, 43)\n",
    "plt.ylim(0, 100)\n",
    "\n",
    "plt.title('Low-risk', weight = 'bold')\n",
    "plt.ylabel('Overall survival (%)', size = 12, weight = 'bold')\n",
    "\n",
    "plt.gca().spines['top'].set_visible(False)\n",
    "plt.gca().spines['right'].set_visible(False)\n",
    "\n",
    "# Plot survival curves for med risk group. \n",
    "plt.subplot(1, 4, 2)\n",
    "\n",
    "plt.step(kmf_med_pembro_189_iptw.timeline, kmf_med_pembro_189_iptw.survival_function_.values*100, color = 'red', alpha = 0.5)\n",
    "\n",
    "plt.step(kmf_med_plat_189_iptw.timeline, kmf_med_plat_189_iptw.survival_function_.values*100, color = 'black', alpha = 0.5)\n",
    "\n",
    "plt.xticks(np.arange(0, 43, 6))\n",
    "plt.xlim(0, 43)\n",
    "plt.ylim(0, 100)\n",
    "\n",
    "plt.title('Med-risk', weight = 'bold')\n",
    "\n",
    "plt.gca().spines['top'].set_visible(False)\n",
    "plt.gca().spines['right'].set_visible(False)\n",
    "\n",
    "# Plot survival curves by treatment for high risk group. \n",
    "plt.subplot(1, 4, 3)\n",
    "\n",
    "plt.step(kmf_high_pembro_189_iptw.timeline, kmf_high_pembro_189_iptw.survival_function_.values*100, color = 'red', alpha = 0.5)\n",
    "\n",
    "plt.step(kmf_high_plat_189_iptw.timeline, kmf_high_plat_189_iptw.survival_function_.values*100, color = 'black', alpha = 0.5)\n",
    "\n",
    "plt.xticks(np.arange(0, 43, 6))\n",
    "plt.xlim(0, 43)\n",
    "plt.ylim(0, 100)\n",
    "\n",
    "plt.title('High-risk', weight = 'bold')\n",
    "\n",
    "plt.gca().spines['top'].set_visible(False)\n",
    "plt.gca().spines['right'].set_visible(False)\n",
    "\n",
    "# Plot survival curves by treatment for all risk group. \n",
    "plt.subplot(1, 4, 4)\n",
    "\n",
    "plt.step(kmf_all_pembro_189_iptw.timeline, kmf_all_pembro_189_iptw.survival_function_.values*100, color = 'red', alpha = 0.5, label = 'Pembrolizumab + chemotherapy')\n",
    "\n",
    "plt.step(kmf_all_plat_189_iptw.timeline, kmf_all_plat_189_iptw.survival_function_.values*100, color = 'black', alpha = 0.5, label = 'Chemotherapy')\n",
    "\n",
    "plt.xticks(np.arange(0, 43, 6))\n",
    "plt.xlim(0, 43)\n",
    "plt.ylim(0, 100)\n",
    "\n",
    "plt.title('Full cohort', weight = 'bold')\n",
    "\n",
    "plt.gca().spines['top'].set_visible(False)\n",
    "plt.gca().spines['right'].set_visible(False)\n",
    "\n",
    "plt.legend(loc = 'center right', prop = {'size': 9})\n",
    "\n",
    "fig.add_subplot(1, 1, 1, frameon = False)\n",
    "plt.tick_params(labelcolor = 'none', which = 'both', top = False, bottom = False, left = False, right = False)\n",
    "plt.xlabel('Months after treatment', labelpad = 15, size = 12, weight = 'bold')\n",
    "plt.title('KEYNOTE-189: Overall survival for pembrolizumab plus chemotherapy vs. chemotherapy', pad = 40, size = 15, weight = 'bold')\n",
    "\n",
    "plt.show()"
   ]
  },
  {
   "cell_type": "markdown",
   "id": "83c71dec",
   "metadata": {},
   "source": [
    "### CHECKMATE-078: Second-line nivolumab vs. docetaxel\n",
    "\n",
    "**INCLUSION CRITERIA**\n",
    "* Advanced or metastatic NSCLC \n",
    "* Progressed on first line platinum-based chemotherapy \n",
    "* Received second line nivolumab or docetaxel\n",
    "* Prior treatments with docetaxel or immunotherapy contraindicated\n",
    "* EGFR and ALK negative "
   ]
  },
  {
   "cell_type": "markdown",
   "id": "0adf4af2",
   "metadata": {},
   "source": [
    "#### Nivolumab "
   ]
  },
  {
   "cell_type": "code",
   "execution_count": 251,
   "id": "85affd11",
   "metadata": {},
   "outputs": [
    {
     "data": {
      "text/plain": [
       "68483"
      ]
     },
     "execution_count": 251,
     "metadata": {},
     "output_type": "execute_result"
    }
   ],
   "source": [
    "df_full = pd.read_csv('df_risk_crude.csv', index_col = 'PatientID', dtype = {'death_status': bool})\n",
    "df_full.index.nunique()"
   ]
  },
  {
   "cell_type": "code",
   "execution_count": 252,
   "id": "f5b82d57",
   "metadata": {},
   "outputs": [],
   "source": [
    "line_therapy = pd.read_csv('LineOfTherapy.csv')"
   ]
  },
  {
   "cell_type": "code",
   "execution_count": 253,
   "id": "99702423",
   "metadata": {},
   "outputs": [],
   "source": [
    "line_therapy_fl = (\n",
    "    line_therapy[line_therapy.PatientID.isin(df_full.index)]\n",
    "    .query('LineNumber == 1')\n",
    "    .query('IsMaintenanceTherapy == False')\n",
    ")"
   ]
  },
  {
   "cell_type": "code",
   "execution_count": 254,
   "id": "25b723c9",
   "metadata": {},
   "outputs": [],
   "source": [
    "targeted = [\n",
    "    'Afatinib',\n",
    "    'Alectinib',\n",
    "    'Brigatinib',\n",
    "    'Cabozantinib',\n",
    "    'Capmatinib',\n",
    "    'Ceritinib',\n",
    "    'Crizotinib',\n",
    "    'Dabrafenib',\n",
    "    'Dacomitinib',\n",
    "    'Entrectinib',\n",
    "    'Erlotinib',\n",
    "    'Gefitinib',\n",
    "    'Lorlatinib',\n",
    "    'Osimertinib',\n",
    "    'Pralsetinib',\n",
    "    'Selpercatinib',\n",
    "    'Sotorasib',\n",
    "    'Tepotinib',\n",
    "    'Trametinib',\n",
    "    'Vandetanib']"
   ]
  },
  {
   "cell_type": "code",
   "execution_count": 255,
   "id": "73221808",
   "metadata": {},
   "outputs": [],
   "source": [
    "immunotherapy = [\n",
    "    'Atezolizumab',\n",
    "    'Cemiplimab',\n",
    "    'Durvalumab',\n",
    "    'Ipilimumab',\n",
    "    'Nivolumab',\n",
    "    'Pembrolizumab'\n",
    "]"
   ]
  },
  {
   "cell_type": "code",
   "execution_count": 256,
   "id": "17152bf0",
   "metadata": {},
   "outputs": [],
   "source": [
    "fl_plat = (\n",
    "    line_therapy_fl\n",
    "    [line_therapy_fl['LineName'].str.contains('Carboplatin|Cisplatin')\n",
    "     & ~line_therapy_fl['LineName'].str.contains('Docetaxel')\n",
    "     & ~line_therapy_fl['LineName'].str.contains('|'.join(targeted))\n",
    "     & ~line_therapy_fl['LineName'].str.contains('|'.join(immunotherapy))]\n",
    "    .PatientID\n",
    ")"
   ]
  },
  {
   "cell_type": "code",
   "execution_count": 257,
   "id": "33c41d23",
   "metadata": {},
   "outputs": [],
   "source": [
    "checkmate_nivo = (\n",
    "    line_therapy[line_therapy.PatientID.isin(fl_plat)]\n",
    "    .query('LineNumber == 2')\n",
    "    .query('LineName == \"Nivolumab\"')\n",
    "    [['PatientID', 'StartDate']]\n",
    ")"
   ]
  },
  {
   "cell_type": "code",
   "execution_count": 258,
   "id": "7de487f7",
   "metadata": {},
   "outputs": [],
   "source": [
    "checkmate_nivo.loc[:, 'nivo'] = 1"
   ]
  },
  {
   "cell_type": "code",
   "execution_count": 259,
   "id": "c2c0f34a",
   "metadata": {},
   "outputs": [
    {
     "data": {
      "text/plain": [
       "(3397, 3397)"
      ]
     },
     "execution_count": 259,
     "metadata": {},
     "output_type": "execute_result"
    }
   ],
   "source": [
    "row_ID(checkmate_nivo)"
   ]
  },
  {
   "cell_type": "markdown",
   "id": "b806a0b2",
   "metadata": {},
   "source": [
    "#### Docetaxel"
   ]
  },
  {
   "cell_type": "code",
   "execution_count": 260,
   "id": "4f788db3",
   "metadata": {},
   "outputs": [],
   "source": [
    "checkmate_dotx = (\n",
    "    line_therapy[line_therapy.PatientID.isin(fl_plat)]\n",
    "    .query('LineNumber == 2')\n",
    "    .query('LineName == \"Docetaxel\"')\n",
    "    [['PatientID', 'StartDate']]\n",
    ")"
   ]
  },
  {
   "cell_type": "code",
   "execution_count": 261,
   "id": "5a41d35c",
   "metadata": {},
   "outputs": [],
   "source": [
    "checkmate_dotx.loc[:, 'nivo'] = 0"
   ]
  },
  {
   "cell_type": "code",
   "execution_count": 262,
   "id": "3b563674",
   "metadata": {},
   "outputs": [
    {
     "data": {
      "text/plain": [
       "(745, 745)"
      ]
     },
     "execution_count": 262,
     "metadata": {},
     "output_type": "execute_result"
    }
   ],
   "source": [
    "row_ID(checkmate_dotx)"
   ]
  },
  {
   "cell_type": "code",
   "execution_count": 263,
   "id": "bfab8004",
   "metadata": {},
   "outputs": [],
   "source": [
    "checkmate = pd.concat([checkmate_nivo, checkmate_dotx])"
   ]
  },
  {
   "cell_type": "code",
   "execution_count": 264,
   "id": "51306c4b",
   "metadata": {},
   "outputs": [
    {
     "data": {
      "text/plain": [
       "(4142, 4142)"
      ]
     },
     "execution_count": 264,
     "metadata": {},
     "output_type": "execute_result"
    }
   ],
   "source": [
    "row_ID(checkmate)"
   ]
  },
  {
   "cell_type": "code",
   "execution_count": 265,
   "id": "e94faed3",
   "metadata": {},
   "outputs": [],
   "source": [
    "checkmate = pd.merge(checkmate, df_full, on = 'PatientID', how = 'left')"
   ]
  },
  {
   "cell_type": "code",
   "execution_count": 266,
   "id": "cdcb987a",
   "metadata": {},
   "outputs": [
    {
     "data": {
      "text/plain": [
       "(4142, 4142)"
      ]
     },
     "execution_count": 266,
     "metadata": {},
     "output_type": "execute_result"
    }
   ],
   "source": [
    "row_ID(checkmate)"
   ]
  },
  {
   "cell_type": "code",
   "execution_count": 267,
   "id": "087525c0",
   "metadata": {},
   "outputs": [],
   "source": [
    "checkmate['StartDate'] = pd.to_datetime(checkmate['StartDate'])"
   ]
  },
  {
   "cell_type": "markdown",
   "id": "a8a5c8ad",
   "metadata": {},
   "source": [
    "#### Time from treatment to death or censor "
   ]
  },
  {
   "cell_type": "code",
   "execution_count": 268,
   "id": "6cdd9544",
   "metadata": {},
   "outputs": [],
   "source": [
    "mortality_tr = pd.read_csv('mortality_cleaned_tr.csv')"
   ]
  },
  {
   "cell_type": "code",
   "execution_count": 269,
   "id": "63558062",
   "metadata": {},
   "outputs": [],
   "source": [
    "mortality_te = pd.read_csv('mortality_cleaned_te.csv')"
   ]
  },
  {
   "cell_type": "code",
   "execution_count": 270,
   "id": "364d2a05",
   "metadata": {},
   "outputs": [],
   "source": [
    "mortality_tr = mortality_tr[['PatientID', 'death_date', 'last_activity']]"
   ]
  },
  {
   "cell_type": "code",
   "execution_count": 271,
   "id": "cada2816",
   "metadata": {},
   "outputs": [],
   "source": [
    "mortality_te = mortality_te[['PatientID', 'death_date', 'last_activity']]"
   ]
  },
  {
   "cell_type": "code",
   "execution_count": 272,
   "id": "2a8c2b27",
   "metadata": {},
   "outputs": [
    {
     "name": "stdout",
     "output_type": "stream",
     "text": [
      "68483 True\n"
     ]
    }
   ],
   "source": [
    "mortality = pd.concat([mortality_tr, mortality_te], ignore_index = True)\n",
    "print(len(mortality), mortality.PatientID.is_unique)"
   ]
  },
  {
   "cell_type": "code",
   "execution_count": 273,
   "id": "ccc0b6a6",
   "metadata": {},
   "outputs": [],
   "source": [
    "mortality.loc[:, 'last_activity'] = pd.to_datetime(mortality['last_activity'])"
   ]
  },
  {
   "cell_type": "code",
   "execution_count": 274,
   "id": "d3382d2b",
   "metadata": {},
   "outputs": [],
   "source": [
    "mortality.loc[:, 'death_date'] = pd.to_datetime(mortality['death_date'])"
   ]
  },
  {
   "cell_type": "code",
   "execution_count": 275,
   "id": "367b3420",
   "metadata": {},
   "outputs": [],
   "source": [
    "checkmate = pd.merge(checkmate, mortality, on = 'PatientID', how = 'left')"
   ]
  },
  {
   "cell_type": "code",
   "execution_count": 276,
   "id": "1a047824",
   "metadata": {},
   "outputs": [
    {
     "data": {
      "text/plain": [
       "(4142, 4142)"
      ]
     },
     "execution_count": 276,
     "metadata": {},
     "output_type": "execute_result"
    }
   ],
   "source": [
    "row_ID(checkmate)"
   ]
  },
  {
   "cell_type": "code",
   "execution_count": 277,
   "id": "9f4bc98f",
   "metadata": {},
   "outputs": [],
   "source": [
    "conditions = [\n",
    "    (checkmate['death_status'] == 1),\n",
    "    (checkmate['death_status'] == 0)]\n",
    "\n",
    "choices = [\n",
    "    (checkmate['death_date'] - checkmate['StartDate']).dt.days,\n",
    "    (checkmate['last_activity'] - checkmate['StartDate']).dt.days]\n",
    "\n",
    "checkmate.loc[:, 'timerisk_treatment'] = np.select(conditions, choices)"
   ]
  },
  {
   "cell_type": "code",
   "execution_count": 278,
   "id": "4772d5f9",
   "metadata": {},
   "outputs": [],
   "source": [
    "checkmate = checkmate.query('timerisk_treatment >= 0')"
   ]
  },
  {
   "cell_type": "markdown",
   "id": "d9383190",
   "metadata": {},
   "source": [
    "#### Patient count "
   ]
  },
  {
   "cell_type": "code",
   "execution_count": 279,
   "id": "9261effa",
   "metadata": {},
   "outputs": [],
   "source": [
    "checkmate = (\n",
    "    checkmate\n",
    "    .query('EGFR != \"positive\"')\n",
    "    .query('ALK != \"positive\"')\n",
    ")"
   ]
  },
  {
   "cell_type": "code",
   "execution_count": 280,
   "id": "9e5d9bbc",
   "metadata": {},
   "outputs": [],
   "source": [
    "low_cutoff_078 = checkmate.risk_score.quantile(1/3)"
   ]
  },
  {
   "cell_type": "code",
   "execution_count": 281,
   "id": "9c2d87de",
   "metadata": {},
   "outputs": [],
   "source": [
    "high_cutoff_078 = checkmate.risk_score.quantile(2/3)"
   ]
  },
  {
   "cell_type": "code",
   "execution_count": 282,
   "id": "9d320765",
   "metadata": {},
   "outputs": [
    {
     "name": "stdout",
     "output_type": "stream",
     "text": [
      "Nivolumab total: 3339\n",
      "High risk: 1112\n",
      "Med risk: 1114\n",
      "Low risk: 1113\n"
     ]
    }
   ],
   "source": [
    "print('Nivolumab total:',  checkmate.query('nivo == 1').shape[0])\n",
    "print('High risk:', checkmate.query('nivo == 1').query('risk_score >= @high_cutoff_078').shape[0])\n",
    "print('Med risk:', checkmate.query('nivo == 1').query('risk_score < @high_cutoff_078 and risk_score > @low_cutoff_078').shape[0])\n",
    "print('Low risk:', checkmate.query('nivo == 1').query('risk_score <= @low_cutoff_078').shape[0])"
   ]
  },
  {
   "cell_type": "code",
   "execution_count": 283,
   "id": "690d2944",
   "metadata": {},
   "outputs": [
    {
     "name": "stdout",
     "output_type": "stream",
     "text": [
      "Docetaxel total: 734\n",
      "High risk: 246\n",
      "Med risk: 243\n",
      "Low risk: 245\n"
     ]
    }
   ],
   "source": [
    "print('Docetaxel total:',  checkmate.query('nivo == 0').shape[0])\n",
    "print('High risk:', checkmate.query('nivo == 0').query('risk_score >= @high_cutoff_078').shape[0])\n",
    "print('Med risk:', checkmate.query('nivo == 0').query('risk_score < @high_cutoff_078 and risk_score > @low_cutoff_078').shape[0])\n",
    "print('Low risk:', checkmate.query('nivo == 0').query('risk_score <= @low_cutoff_078').shape[0])"
   ]
  },
  {
   "cell_type": "code",
   "execution_count": 284,
   "id": "33e38334",
   "metadata": {},
   "outputs": [],
   "source": [
    "risk_cutoff_lung.loc['checkmate_078'] = [low_cutoff_078, high_cutoff_078]"
   ]
  },
  {
   "cell_type": "markdown",
   "id": "332e21de",
   "metadata": {},
   "source": [
    "#### Survival curves with covariate balancing"
   ]
  },
  {
   "cell_type": "code",
   "execution_count": 285,
   "id": "90ef65db",
   "metadata": {},
   "outputs": [],
   "source": [
    "checkmate = checkmate.set_index('PatientID')"
   ]
  },
  {
   "cell_type": "code",
   "execution_count": 286,
   "id": "6b611f5f",
   "metadata": {},
   "outputs": [],
   "source": [
    "check_iptw = checkmate.filter(items = ['death_status',\n",
    "                                       'timerisk_treatment',\n",
    "                                       'nivo',\n",
    "                                       'age',\n",
    "                                       'gender',\n",
    "                                       'race',\n",
    "                                       'PracticeType',\n",
    "                                       'Histology',\n",
    "                                       'adv_year',\n",
    "                                       'delta_adv_diagnosis',\n",
    "                                       'commercial',\n",
    "                                       'medicare',\n",
    "                                       'medicaid',\n",
    "                                       'ecog_diagnosis',\n",
    "                                       'pdl1',\n",
    "                                       'albumin_diag', \n",
    "                                       'weight_pct_change',\n",
    "                                       'risk_score'])"
   ]
  },
  {
   "cell_type": "code",
   "execution_count": 287,
   "id": "65e2f1a2",
   "metadata": {},
   "outputs": [],
   "source": [
    "check_iptw['met_cat'] = pd.cut(check_iptw['adv_year'],\n",
    "                               bins = [2010, 2015, float('inf')],\n",
    "                               labels = ['11-15', '16-20'])"
   ]
  },
  {
   "cell_type": "code",
   "execution_count": 288,
   "id": "f5c151b4",
   "metadata": {},
   "outputs": [],
   "source": [
    "conditions = [\n",
    "    ((check_iptw['pdl1'] == \"1-49%\") | (check_iptw['pdl1'] == \"50-100%\"))]\n",
    "\n",
    "choices = ['>0%']\n",
    "\n",
    "check_iptw['pdl1_cat'] = np.select(conditions, choices, default = check_iptw['pdl1'])"
   ]
  },
  {
   "cell_type": "code",
   "execution_count": 289,
   "id": "0dad61a3",
   "metadata": {},
   "outputs": [],
   "source": [
    "conditions = [\n",
    "    ((check_iptw['ecog_diagnosis'] == \"1.0\") | (check_iptw['ecog_diagnosis'] == \"0.0\")),  \n",
    "    ((check_iptw['ecog_diagnosis'] == \"2.0\") | (check_iptw['ecog_diagnosis'] == \"3.0\"))\n",
    "]\n",
    "\n",
    "choices = ['lt_2', 'gte_2']\n",
    "\n",
    "check_iptw['ecog_2'] = np.select(conditions, choices, default = 'unknown')"
   ]
  },
  {
   "cell_type": "code",
   "execution_count": 290,
   "id": "44a45fb5",
   "metadata": {},
   "outputs": [
    {
     "data": {
      "text/plain": [
       "death_status               bool\n",
       "timerisk_treatment      float64\n",
       "nivo                      int64\n",
       "age                       int64\n",
       "gender                   object\n",
       "race                     object\n",
       "PracticeType             object\n",
       "Histology                object\n",
       "adv_year                  int64\n",
       "delta_adv_diagnosis       int64\n",
       "commercial              float64\n",
       "medicare                float64\n",
       "medicaid                float64\n",
       "ecog_diagnosis           object\n",
       "pdl1                     object\n",
       "albumin_diag            float64\n",
       "weight_pct_change       float64\n",
       "risk_score              float64\n",
       "met_cat                category\n",
       "pdl1_cat                 object\n",
       "ecog_2                   object\n",
       "dtype: object"
      ]
     },
     "execution_count": 290,
     "metadata": {},
     "output_type": "execute_result"
    }
   ],
   "source": [
    "check_iptw.dtypes"
   ]
  },
  {
   "cell_type": "code",
   "execution_count": 291,
   "id": "bfa3d033",
   "metadata": {},
   "outputs": [],
   "source": [
    "to_be_categorical = list(check_iptw.select_dtypes(include = ['object']).columns)"
   ]
  },
  {
   "cell_type": "code",
   "execution_count": 292,
   "id": "6c099487",
   "metadata": {},
   "outputs": [
    {
     "data": {
      "text/plain": [
       "['gender',\n",
       " 'race',\n",
       " 'PracticeType',\n",
       " 'Histology',\n",
       " 'ecog_diagnosis',\n",
       " 'pdl1',\n",
       " 'pdl1_cat',\n",
       " 'ecog_2']"
      ]
     },
     "execution_count": 292,
     "metadata": {},
     "output_type": "execute_result"
    }
   ],
   "source": [
    "to_be_categorical"
   ]
  },
  {
   "cell_type": "code",
   "execution_count": 293,
   "id": "b6fd99c5",
   "metadata": {},
   "outputs": [],
   "source": [
    "to_be_categorical.append('met_cat')"
   ]
  },
  {
   "cell_type": "code",
   "execution_count": 294,
   "id": "af19556e",
   "metadata": {},
   "outputs": [],
   "source": [
    "to_be_categorical.remove('pdl1')"
   ]
  },
  {
   "cell_type": "code",
   "execution_count": 295,
   "id": "9f519841",
   "metadata": {},
   "outputs": [],
   "source": [
    "to_be_categorical.remove('ecog_diagnosis')"
   ]
  },
  {
   "cell_type": "code",
   "execution_count": 296,
   "id": "8519b06a",
   "metadata": {},
   "outputs": [],
   "source": [
    "# Convert variables in list to categorical.\n",
    "for x in list(to_be_categorical):\n",
    "    check_iptw[x] = check_iptw[x].astype('category')"
   ]
  },
  {
   "cell_type": "code",
   "execution_count": 297,
   "id": "651c0edc",
   "metadata": {},
   "outputs": [],
   "source": [
    "# List of numeric variables, excluding binary variables. \n",
    "numerical_features = ['age', 'delta_adv_diagnosis', 'albumin_diag', 'weight_pct_change', 'risk_score']\n",
    "\n",
    "# Transformer will first calculate column median and impute, and then apply a standard scaler. \n",
    "numerical_transformer = Pipeline(steps = [\n",
    "    ('imputer', SimpleImputer(strategy = 'median')),\n",
    "    ('std_scaler', StandardScaler())])"
   ]
  },
  {
   "cell_type": "code",
   "execution_count": 298,
   "id": "99f75f6c",
   "metadata": {},
   "outputs": [],
   "source": [
    "# List of categorical features.\n",
    "categorical_features = list(check_iptw.select_dtypes(include = ['category']).columns)\n",
    "\n",
    "# One-hot-encode categorical features.\n",
    "categorical_transformer = OneHotEncoder(handle_unknown = 'ignore')"
   ]
  },
  {
   "cell_type": "code",
   "execution_count": 299,
   "id": "514ba9e7",
   "metadata": {},
   "outputs": [],
   "source": [
    "preprocessor = ColumnTransformer(\n",
    "    transformers = [\n",
    "        ('num', numerical_transformer, numerical_features),\n",
    "        ('cat', categorical_transformer, categorical_features)],\n",
    "    remainder = 'passthrough')"
   ]
  },
  {
   "cell_type": "code",
   "execution_count": 300,
   "id": "6dbab9d8",
   "metadata": {},
   "outputs": [],
   "source": [
    "check_iptw_low = (\n",
    "    check_iptw\n",
    "    .query('risk_score <= @low_cutoff_078'))\n",
    "\n",
    "check_iptw_med = (\n",
    "    check_iptw\n",
    "    .query('risk_score < @high_cutoff_078 and risk_score > @low_cutoff_078'))\n",
    "\n",
    "check_iptw_high = (\n",
    "    check_iptw\n",
    "    .query('risk_score >= @high_cutoff_078'))\n",
    "\n",
    "check_iptw_all = check_iptw"
   ]
  },
  {
   "cell_type": "code",
   "execution_count": 301,
   "id": "17121b54",
   "metadata": {},
   "outputs": [],
   "source": [
    "check_low_x = preprocessor.fit_transform(check_iptw_low.filter(items = ['age',\n",
    "                                                                        'gender',\n",
    "                                                                        'race',\n",
    "                                                                        'PracticeType',\n",
    "                                                                        'Histology',\n",
    "                                                                        'met_cat',\n",
    "                                                                        'delta_adv_diagnosis',\n",
    "                                                                        'commercial',\n",
    "                                                                        'medicare',\n",
    "                                                                        'medicaid',\n",
    "                                                                        'ecog_2',\n",
    "                                                                        'pdl1_cat',\n",
    "                                                                        'albumin_diag',\n",
    "                                                                        'weight_pct_change',\n",
    "                                                                        'risk_score']))\n",
    "\n",
    "check_med_x = preprocessor.fit_transform(check_iptw_med.filter(items = ['age',\n",
    "                                                                        'gender',\n",
    "                                                                        'race',\n",
    "                                                                        'PracticeType',\n",
    "                                                                        'Histology',\n",
    "                                                                        'met_cat',\n",
    "                                                                        'delta_adv_diagnosis',\n",
    "                                                                        'commercial',\n",
    "                                                                        'medicare',\n",
    "                                                                        'medicaid',\n",
    "                                                                        'ecog_2',\n",
    "                                                                        'pdl1_cat',\n",
    "                                                                        'albumin_diag',\n",
    "                                                                        'weight_pct_change',\n",
    "                                                                        'risk_score']))\n",
    "\n",
    "check_high_x = preprocessor.fit_transform(check_iptw_high.filter(items = ['age',\n",
    "                                                                          'gender',\n",
    "                                                                          'race',\n",
    "                                                                          'PracticeType',\n",
    "                                                                          'Histology',\n",
    "                                                                          'met_cat',\n",
    "                                                                          'delta_adv_diagnosis',\n",
    "                                                                          'commercial',\n",
    "                                                                          'medicare',\n",
    "                                                                          'medicaid',\n",
    "                                                                          'ecog_2',\n",
    "                                                                          'pdl1_cat',\n",
    "                                                                          'albumin_diag',\n",
    "                                                                          'weight_pct_change',\n",
    "                                                                          'risk_score']))\n",
    "\n",
    "check_all_x = preprocessor.fit_transform(check_iptw_all.filter(items = ['age',\n",
    "                                                                        'gender',\n",
    "                                                                        'race',\n",
    "                                                                        'PracticeType',\n",
    "                                                                        'Histology',\n",
    "                                                                        'met_cat',\n",
    "                                                                        'delta_adv_diagnosis',\n",
    "                                                                        'commercial',\n",
    "                                                                        'medicare',\n",
    "                                                                        'medicaid',\n",
    "                                                                        'ecog_2',\n",
    "                                                                        'pdl1_cat',\n",
    "                                                                        'albumin_diag',\n",
    "                                                                        'weight_pct_change',\n",
    "                                                                        'risk_score']))"
   ]
  },
  {
   "cell_type": "code",
   "execution_count": 302,
   "id": "2c758a2b",
   "metadata": {},
   "outputs": [
    {
     "data": {
      "text/plain": [
       "LogisticRegression(max_iter=1000)"
      ]
     },
     "execution_count": 302,
     "metadata": {},
     "output_type": "execute_result"
    }
   ],
   "source": [
    "lr_check_low = LogisticRegression(max_iter = 1000)\n",
    "lr_check_low.fit(check_low_x, check_iptw_low['nivo'])"
   ]
  },
  {
   "cell_type": "code",
   "execution_count": 303,
   "id": "e77f8ef3",
   "metadata": {},
   "outputs": [
    {
     "data": {
      "text/plain": [
       "LogisticRegression(max_iter=1000)"
      ]
     },
     "execution_count": 303,
     "metadata": {},
     "output_type": "execute_result"
    }
   ],
   "source": [
    "lr_check_med = LogisticRegression(max_iter = 1000)\n",
    "lr_check_med.fit(check_med_x, check_iptw_med['nivo'])"
   ]
  },
  {
   "cell_type": "code",
   "execution_count": 304,
   "id": "a3e1e588",
   "metadata": {},
   "outputs": [
    {
     "data": {
      "text/plain": [
       "LogisticRegression(max_iter=1000)"
      ]
     },
     "execution_count": 304,
     "metadata": {},
     "output_type": "execute_result"
    }
   ],
   "source": [
    "lr_check_high = LogisticRegression(max_iter = 1000)\n",
    "lr_check_high.fit(check_high_x, check_iptw_high['nivo'])"
   ]
  },
  {
   "cell_type": "code",
   "execution_count": 305,
   "id": "b2aff0af",
   "metadata": {},
   "outputs": [
    {
     "data": {
      "text/plain": [
       "LogisticRegression(max_iter=1000)"
      ]
     },
     "execution_count": 305,
     "metadata": {},
     "output_type": "execute_result"
    }
   ],
   "source": [
    "lr_check_all = LogisticRegression(max_iter = 1000)\n",
    "lr_check_all.fit(check_all_x, check_iptw_all['nivo'])"
   ]
  },
  {
   "cell_type": "code",
   "execution_count": 306,
   "id": "9ce09740",
   "metadata": {},
   "outputs": [],
   "source": [
    "pred_low = lr_check_low.predict_proba(check_low_x)\n",
    "pred_med = lr_check_med.predict_proba(check_med_x)\n",
    "pred_high = lr_check_high.predict_proba(check_high_x)\n",
    "pred_all = lr_check_all.predict_proba(check_all_x)"
   ]
  },
  {
   "cell_type": "code",
   "execution_count": 307,
   "id": "b69db398",
   "metadata": {},
   "outputs": [
    {
     "name": "stderr",
     "output_type": "stream",
     "text": [
      "/Users/xavierorcutt/Dropbox/ist_project/myenv/lib/python3.7/site-packages/ipykernel_launcher.py:1: SettingWithCopyWarning: \n",
      "A value is trying to be set on a copy of a slice from a DataFrame.\n",
      "Try using .loc[row_indexer,col_indexer] = value instead\n",
      "\n",
      "See the caveats in the documentation: https://pandas.pydata.org/pandas-docs/stable/user_guide/indexing.html#returning-a-view-versus-a-copy\n",
      "  \"\"\"Entry point for launching an IPython kernel.\n",
      "/Users/xavierorcutt/Dropbox/ist_project/myenv/lib/python3.7/site-packages/ipykernel_launcher.py:2: SettingWithCopyWarning: \n",
      "A value is trying to be set on a copy of a slice from a DataFrame.\n",
      "Try using .loc[row_indexer,col_indexer] = value instead\n",
      "\n",
      "See the caveats in the documentation: https://pandas.pydata.org/pandas-docs/stable/user_guide/indexing.html#returning-a-view-versus-a-copy\n",
      "  \n",
      "/Users/xavierorcutt/Dropbox/ist_project/myenv/lib/python3.7/site-packages/ipykernel_launcher.py:3: SettingWithCopyWarning: \n",
      "A value is trying to be set on a copy of a slice from a DataFrame.\n",
      "Try using .loc[row_indexer,col_indexer] = value instead\n",
      "\n",
      "See the caveats in the documentation: https://pandas.pydata.org/pandas-docs/stable/user_guide/indexing.html#returning-a-view-versus-a-copy\n",
      "  This is separate from the ipykernel package so we can avoid doing imports until\n"
     ]
    }
   ],
   "source": [
    "check_iptw_low['ps'] = pred_low[:, 1]\n",
    "check_iptw_med['ps'] = pred_med[:, 1]\n",
    "check_iptw_high['ps'] = pred_high[:, 1]\n",
    "check_iptw_all['ps'] = pred_all[:, 1]"
   ]
  },
  {
   "cell_type": "code",
   "execution_count": 308,
   "id": "cf9367aa",
   "metadata": {},
   "outputs": [
    {
     "name": "stderr",
     "output_type": "stream",
     "text": [
      "/Users/xavierorcutt/Dropbox/ist_project/myenv/lib/python3.7/site-packages/ipykernel_launcher.py:2: SettingWithCopyWarning: \n",
      "A value is trying to be set on a copy of a slice from a DataFrame.\n",
      "Try using .loc[row_indexer,col_indexer] = value instead\n",
      "\n",
      "See the caveats in the documentation: https://pandas.pydata.org/pandas-docs/stable/user_guide/indexing.html#returning-a-view-versus-a-copy\n",
      "  \n",
      "/Users/xavierorcutt/Dropbox/ist_project/myenv/lib/python3.7/site-packages/ipykernel_launcher.py:5: SettingWithCopyWarning: \n",
      "A value is trying to be set on a copy of a slice from a DataFrame.\n",
      "Try using .loc[row_indexer,col_indexer] = value instead\n",
      "\n",
      "See the caveats in the documentation: https://pandas.pydata.org/pandas-docs/stable/user_guide/indexing.html#returning-a-view-versus-a-copy\n",
      "  \"\"\"\n",
      "/Users/xavierorcutt/Dropbox/ist_project/myenv/lib/python3.7/site-packages/ipykernel_launcher.py:8: SettingWithCopyWarning: \n",
      "A value is trying to be set on a copy of a slice from a DataFrame.\n",
      "Try using .loc[row_indexer,col_indexer] = value instead\n",
      "\n",
      "See the caveats in the documentation: https://pandas.pydata.org/pandas-docs/stable/user_guide/indexing.html#returning-a-view-versus-a-copy\n",
      "  \n"
     ]
    }
   ],
   "source": [
    "check_iptw_low['weight'] = (\n",
    "    np.where(check_iptw_low['nivo'] == 1, 1/check_iptw_low['ps'], 1/(1 - check_iptw_low['ps'])))\n",
    "\n",
    "check_iptw_med['weight'] = (\n",
    "    np.where(check_iptw_med['nivo'] == 1, 1/check_iptw_med['ps'], 1/(1 - check_iptw_med['ps'])))\n",
    "\n",
    "check_iptw_high['weight'] = (\n",
    "    np.where(check_iptw_high['nivo'] == 1, 1/check_iptw_high['ps'], 1/(1 - check_iptw_high['ps'])))\n",
    "\n",
    "check_iptw_all['weight'] = (\n",
    "    np.where(check_iptw_all['nivo'] == 1, 1/check_iptw_all['ps'], 1/(1 - check_iptw_all['ps'])))"
   ]
  },
  {
   "cell_type": "code",
   "execution_count": 309,
   "id": "339c8efc",
   "metadata": {},
   "outputs": [
    {
     "name": "stderr",
     "output_type": "stream",
     "text": [
      "/Users/xavierorcutt/Dropbox/ist_project/myenv/lib/python3.7/site-packages/lifelines/fitters/kaplan_meier_fitter.py:344: StatisticalWarning: It looks like your weights are not integers, possibly propensity scores then?\n",
      "  It's important to know that the naive variance estimates of the coefficients are biased. Instead use Monte Carlo to\n",
      "  estimate the variances. See paper \"Variance estimation when using inverse probability of treatment weighting (IPTW) with survival analysis\"\n",
      "  or \"Adjusted Kaplan-Meier estimator and log-rank test with inverse probability of treatment weighting for survival data.\"\n",
      "                  \n",
      "  StatisticalWarning,\n"
     ]
    },
    {
     "data": {
      "text/plain": [
       "<lifelines.KaplanMeierFitter:\"KM_estimate\", fitted with 4510.31 total observations, 768.868 right-censored observations>"
      ]
     },
     "execution_count": 309,
     "metadata": {},
     "output_type": "execute_result"
    }
   ],
   "source": [
    "# Low KM curves\n",
    "kmf_low_nivo_check_iptw = KaplanMeierFitter()\n",
    "kmf_low_dotx_check_iptw = KaplanMeierFitter()\n",
    "\n",
    "kmf_low_nivo_check_iptw.fit(\n",
    "    check_iptw_low.query('nivo == 1').timerisk_treatment/30,\n",
    "    check_iptw_low.query('nivo == 1').death_status,\n",
    "    weights = check_iptw_low.query('nivo == 1')['weight'])\n",
    "\n",
    "kmf_low_dotx_check_iptw.fit(\n",
    "    check_iptw_low.query('nivo == 0').timerisk_treatment/30,\n",
    "    check_iptw_low.query('nivo == 0').death_status,\n",
    "    weights = check_iptw_low.query('nivo == 0')['weight'])\n",
    "\n",
    "# Med KM curves\n",
    "kmf_med_nivo_check_iptw = KaplanMeierFitter()\n",
    "kmf_med_dotx_check_iptw = KaplanMeierFitter()\n",
    "\n",
    "kmf_med_nivo_check_iptw.fit(\n",
    "    check_iptw_med.query('nivo == 1').timerisk_treatment/30,\n",
    "    check_iptw_med.query('nivo == 1').death_status,\n",
    "    weights = check_iptw_med.query('nivo == 1')['weight'])\n",
    "\n",
    "kmf_med_dotx_check_iptw.fit(\n",
    "    check_iptw_med.query('nivo == 0').timerisk_treatment/30,\n",
    "    check_iptw_med.query('nivo == 0').death_status,\n",
    "    weights = check_iptw_med.query('nivo == 0')['weight'])\n",
    "\n",
    "# High KM curves \n",
    "kmf_high_nivo_check_iptw = KaplanMeierFitter()\n",
    "kmf_high_dotx_check_iptw = KaplanMeierFitter()\n",
    "\n",
    "kmf_high_nivo_check_iptw.fit(\n",
    "    check_iptw_high.query('nivo == 1').timerisk_treatment/30,\n",
    "    check_iptw_high.query('nivo == 1').death_status,\n",
    "    weights = check_iptw_high.query('nivo == 1')['weight'])\n",
    "\n",
    "kmf_high_dotx_check_iptw.fit(\n",
    "    check_iptw_high.query('nivo == 0').timerisk_treatment/30,\n",
    "    check_iptw_high.query('nivo == 0').death_status,\n",
    "    weights = check_iptw_high.query('nivo == 0')['weight'])\n",
    "\n",
    "# All KM curves \n",
    "kmf_all_nivo_check_iptw = KaplanMeierFitter()\n",
    "kmf_all_dotx_check_iptw = KaplanMeierFitter()\n",
    "\n",
    "kmf_all_nivo_check_iptw.fit(\n",
    "    check_iptw_all.query('nivo == 1').timerisk_treatment/30,\n",
    "    check_iptw_all.query('nivo == 1').death_status,\n",
    "    weights = check_iptw_all.query('nivo == 1')['weight'])\n",
    "\n",
    "kmf_all_dotx_check_iptw.fit(\n",
    "    check_iptw_all.query('nivo == 0').timerisk_treatment/30,\n",
    "    check_iptw_all.query('nivo == 0').death_status,\n",
    "    weights = check_iptw_all.query('nivo == 0')['weight'])"
   ]
  },
  {
   "cell_type": "code",
   "execution_count": 310,
   "id": "159c14d0",
   "metadata": {},
   "outputs": [
    {
     "data": {
      "image/png": "[encoded data removed]",
      "text/plain": [
       "<Figure size 1800x600 with 5 Axes>"
      ]
     },
     "metadata": {},
     "output_type": "display_data"
    }
   ],
   "source": [
    "fig = plt.figure(figsize=(18, 6))\n",
    "\n",
    "# Plot survival curves for low risk group \n",
    "plt.subplot(1, 4, 1)\n",
    "\n",
    "plt.step(kmf_low_nivo_check_iptw.timeline, kmf_low_nivo_check_iptw.survival_function_.values*100, color = 'red', alpha = 0.5)\n",
    "\n",
    "plt.step(kmf_low_dotx_check_iptw.timeline, kmf_low_dotx_check_iptw.survival_function_.values*100, color = 'black', alpha = 0.5)\n",
    "\n",
    "plt.xticks(np.arange(0, 37, 6))\n",
    "plt.xlim(0, 37)\n",
    "plt.ylim(0, 100)\n",
    "\n",
    "plt.title('Low-risk', weight = 'bold')\n",
    "plt.ylabel('Overall survival (%)', size = 12, weight = 'bold')\n",
    "\n",
    "plt.gca().spines['top'].set_visible(False)\n",
    "plt.gca().spines['right'].set_visible(False)\n",
    "\n",
    "# Plot survival curves for med risk group. \n",
    "plt.subplot(1, 4, 2)\n",
    "\n",
    "plt.step(kmf_med_nivo_check_iptw.timeline, kmf_med_nivo_check_iptw.survival_function_.values*100, color = 'red', alpha = 0.5)\n",
    "\n",
    "plt.step(kmf_med_dotx_check_iptw.timeline, kmf_med_dotx_check_iptw.survival_function_.values*100, color = 'black', alpha = 0.5)\n",
    "\n",
    "plt.xticks(np.arange(0, 37, 6))\n",
    "plt.xlim(0, 37)\n",
    "plt.ylim(0, 100)\n",
    "\n",
    "plt.title('Med-risk', weight = 'bold')\n",
    "\n",
    "plt.gca().spines['top'].set_visible(False)\n",
    "plt.gca().spines['right'].set_visible(False)\n",
    "\n",
    "# Plot survival curves by treatment for high risk group. \n",
    "plt.subplot(1, 4, 3)\n",
    "\n",
    "plt.step(kmf_high_nivo_check_iptw.timeline, kmf_high_nivo_check_iptw.survival_function_.values*100, color = 'red', alpha = 0.5)\n",
    "\n",
    "plt.step(kmf_high_dotx_check_iptw.timeline, kmf_high_dotx_check_iptw.survival_function_.values*100, color = 'black', alpha = 0.5)\n",
    "\n",
    "plt.xticks(np.arange(0, 37, 6))\n",
    "plt.xlim(0, 37)\n",
    "plt.ylim(0, 100)\n",
    "\n",
    "plt.title('High-risk', weight = 'bold')\n",
    "\n",
    "plt.gca().spines['top'].set_visible(False)\n",
    "plt.gca().spines['right'].set_visible(False)\n",
    "\n",
    "# Plot survival curves by treatment for all risk group. \n",
    "plt.subplot(1, 4, 4)\n",
    "\n",
    "plt.step(kmf_all_nivo_check_iptw.timeline, kmf_all_nivo_check_iptw.survival_function_.values*100, color = 'red', alpha = 0.5, label = 'Nivolumab')\n",
    "\n",
    "plt.step(kmf_all_dotx_check_iptw.timeline, kmf_all_dotx_check_iptw.survival_function_.values*100, color = 'black', alpha = 0.5, label = 'Docetaxel')\n",
    "\n",
    "plt.xticks(np.arange(0, 37, 6))\n",
    "plt.xlim(0, 37)\n",
    "plt.ylim(0, 100)\n",
    "\n",
    "plt.title('Full cohort', weight = 'bold')\n",
    "\n",
    "plt.gca().spines['top'].set_visible(False)\n",
    "plt.gca().spines['right'].set_visible(False)\n",
    "\n",
    "plt.legend(loc = 'center right', prop = {'size': 9})\n",
    "\n",
    "fig.add_subplot(1, 1, 1, frameon = False)\n",
    "plt.tick_params(labelcolor = 'none', which = 'both', top = False, bottom = False, left = False, right = False)\n",
    "plt.xlabel('Months after treatment', labelpad = 15, size = 12, weight = 'bold')\n",
    "plt.title('CHECKMATE-078: Overall survival for second-line nivolumab vs. docetaxel', pad = 40, size = 15, weight = 'bold')\n",
    "\n",
    "plt.show()"
   ]
  },
  {
   "cell_type": "markdown",
   "id": "a6b9a307",
   "metadata": {},
   "source": [
    "## FLAURA: osimertinib vs. gefitinib or erlotinib\n",
    "\n",
    "**INCLUSION CRITERIA**\n",
    "* Untreated advanced NSCLC\n",
    "* Received first line osimertinib or gefitinib or erlotinib"
   ]
  },
  {
   "cell_type": "markdown",
   "id": "b044b13c",
   "metadata": {},
   "source": [
    "#### Osimertinib"
   ]
  },
  {
   "cell_type": "code",
   "execution_count": 311,
   "id": "2503cb92",
   "metadata": {},
   "outputs": [
    {
     "data": {
      "text/plain": [
       "68483"
      ]
     },
     "execution_count": 311,
     "metadata": {},
     "output_type": "execute_result"
    }
   ],
   "source": [
    "df_full = pd.read_csv('df_risk_crude.csv', index_col = 'PatientID', dtype = {'death_status': bool})\n",
    "df_full.index.nunique()"
   ]
  },
  {
   "cell_type": "code",
   "execution_count": 312,
   "id": "ff50f8ff",
   "metadata": {},
   "outputs": [],
   "source": [
    "line_therapy = pd.read_csv('LineOfTherapy.csv')"
   ]
  },
  {
   "cell_type": "code",
   "execution_count": 313,
   "id": "432683cb",
   "metadata": {},
   "outputs": [],
   "source": [
    "flaura_osim = (\n",
    "    line_therapy[line_therapy['PatientID'].isin(df_full.index)]\n",
    "    .query('LineNumber == 1')\n",
    "    .query('IsMaintenanceTherapy == False')\n",
    "    .query('LineName == \"Osimertinib\"')\n",
    "    [['PatientID', 'StartDate']]\n",
    ")"
   ]
  },
  {
   "cell_type": "code",
   "execution_count": 314,
   "id": "209d37d8",
   "metadata": {},
   "outputs": [],
   "source": [
    "flaura_osim.loc[:, 'osim'] = 1"
   ]
  },
  {
   "cell_type": "code",
   "execution_count": 315,
   "id": "36059843",
   "metadata": {},
   "outputs": [
    {
     "data": {
      "text/plain": [
       "(1241, 1241)"
      ]
     },
     "execution_count": 315,
     "metadata": {},
     "output_type": "execute_result"
    }
   ],
   "source": [
    "row_ID(flaura_osim)"
   ]
  },
  {
   "cell_type": "markdown",
   "id": "13a09e92",
   "metadata": {},
   "source": [
    "#### Gefitinib or Erlotinib"
   ]
  },
  {
   "cell_type": "code",
   "execution_count": 316,
   "id": "66d65778",
   "metadata": {},
   "outputs": [],
   "source": [
    "flaura_gefer = (\n",
    "    line_therapy[line_therapy['PatientID'].isin(df_full.index)]\n",
    "    .query('LineNumber == 1')\n",
    "    .query('IsMaintenanceTherapy == False')\n",
    "    .query('LineName == \"Gefitinib\" or LineName == \"Erlotinib\"')\n",
    "    [['PatientID', 'StartDate']]\n",
    ")"
   ]
  },
  {
   "cell_type": "code",
   "execution_count": 317,
   "id": "a3b13eed",
   "metadata": {},
   "outputs": [],
   "source": [
    "flaura_gefer.loc[:, 'osim'] = 0"
   ]
  },
  {
   "cell_type": "code",
   "execution_count": 318,
   "id": "1de88f76",
   "metadata": {},
   "outputs": [
    {
     "data": {
      "text/plain": [
       "(3003, 3003)"
      ]
     },
     "execution_count": 318,
     "metadata": {},
     "output_type": "execute_result"
    }
   ],
   "source": [
    "row_ID(flaura_gefer)"
   ]
  },
  {
   "cell_type": "code",
   "execution_count": 319,
   "id": "cd836cb1",
   "metadata": {},
   "outputs": [],
   "source": [
    "flaura = pd.concat([flaura_osim, flaura_gefer])"
   ]
  },
  {
   "cell_type": "code",
   "execution_count": 320,
   "id": "f415eb88",
   "metadata": {},
   "outputs": [
    {
     "data": {
      "text/plain": [
       "(4244, 4244)"
      ]
     },
     "execution_count": 320,
     "metadata": {},
     "output_type": "execute_result"
    }
   ],
   "source": [
    "row_ID(flaura)"
   ]
  },
  {
   "cell_type": "code",
   "execution_count": 321,
   "id": "fd437945",
   "metadata": {},
   "outputs": [],
   "source": [
    "flaura = pd.merge(flaura, df_full, on = 'PatientID', how = 'left')"
   ]
  },
  {
   "cell_type": "code",
   "execution_count": 322,
   "id": "d7b4e62f",
   "metadata": {},
   "outputs": [
    {
     "data": {
      "text/plain": [
       "(4244, 4244)"
      ]
     },
     "execution_count": 322,
     "metadata": {},
     "output_type": "execute_result"
    }
   ],
   "source": [
    "row_ID(flaura)"
   ]
  },
  {
   "cell_type": "code",
   "execution_count": 323,
   "id": "60d133d9",
   "metadata": {},
   "outputs": [],
   "source": [
    "flaura['StartDate'] = pd.to_datetime(flaura['StartDate'])"
   ]
  },
  {
   "cell_type": "markdown",
   "id": "98fac1b0",
   "metadata": {},
   "source": [
    "#### Time from treatment to death/progression or censor "
   ]
  },
  {
   "cell_type": "code",
   "execution_count": 324,
   "id": "a006d80c",
   "metadata": {},
   "outputs": [],
   "source": [
    "mortality_tr = pd.read_csv('mortality_cleaned_tr.csv')"
   ]
  },
  {
   "cell_type": "code",
   "execution_count": 325,
   "id": "4c4fa474",
   "metadata": {},
   "outputs": [],
   "source": [
    "mortality_te = pd.read_csv('mortality_cleaned_te.csv')"
   ]
  },
  {
   "cell_type": "code",
   "execution_count": 326,
   "id": "429261cb",
   "metadata": {},
   "outputs": [],
   "source": [
    "mortality_tr = mortality_tr[['PatientID', 'death_date', 'last_activity']]"
   ]
  },
  {
   "cell_type": "code",
   "execution_count": 327,
   "id": "61956f25",
   "metadata": {},
   "outputs": [],
   "source": [
    "mortality_te = mortality_te[['PatientID', 'death_date', 'last_activity']]"
   ]
  },
  {
   "cell_type": "code",
   "execution_count": 328,
   "id": "043a62ec",
   "metadata": {},
   "outputs": [
    {
     "data": {
      "text/plain": [
       "(68483, 68483)"
      ]
     },
     "execution_count": 328,
     "metadata": {},
     "output_type": "execute_result"
    }
   ],
   "source": [
    "mortality = pd.concat([mortality_tr, mortality_te], ignore_index = True)\n",
    "row_ID(mortality)"
   ]
  },
  {
   "cell_type": "code",
   "execution_count": 329,
   "id": "8c5d05a5",
   "metadata": {},
   "outputs": [],
   "source": [
    "mortality.loc[:, 'last_activity'] = pd.to_datetime(mortality['last_activity'])"
   ]
  },
  {
   "cell_type": "code",
   "execution_count": 330,
   "id": "01e43381",
   "metadata": {},
   "outputs": [],
   "source": [
    "mortality.loc[:, 'death_date'] = pd.to_datetime(mortality['death_date'])"
   ]
  },
  {
   "cell_type": "code",
   "execution_count": 331,
   "id": "83c62908",
   "metadata": {},
   "outputs": [
    {
     "data": {
      "text/plain": [
       "(68483, 68483)"
      ]
     },
     "execution_count": 331,
     "metadata": {},
     "output_type": "execute_result"
    }
   ],
   "source": [
    "row_ID(mortality)"
   ]
  },
  {
   "cell_type": "code",
   "execution_count": 332,
   "id": "9c56a4b2",
   "metadata": {},
   "outputs": [],
   "source": [
    "flaura = pd.merge(flaura, mortality, on = 'PatientID', how = 'left')"
   ]
  },
  {
   "cell_type": "code",
   "execution_count": 333,
   "id": "45b8f011",
   "metadata": {},
   "outputs": [
    {
     "data": {
      "text/plain": [
       "(4244, 4244)"
      ]
     },
     "execution_count": 333,
     "metadata": {},
     "output_type": "execute_result"
    }
   ],
   "source": [
    "row_ID(flaura)"
   ]
  },
  {
   "cell_type": "code",
   "execution_count": 334,
   "id": "da65d84f",
   "metadata": {},
   "outputs": [],
   "source": [
    "progression = pd.read_csv('Enhanced_AdvNSCLCProgression.csv')"
   ]
  },
  {
   "cell_type": "code",
   "execution_count": 335,
   "id": "9041a808",
   "metadata": {},
   "outputs": [],
   "source": [
    "progression = progression[progression.PatientID.isin(flaura.PatientID)][['PatientID', 'ProgressionDate']]"
   ]
  },
  {
   "cell_type": "code",
   "execution_count": 336,
   "id": "5ee118ac",
   "metadata": {},
   "outputs": [],
   "source": [
    "progression['ProgressionDate'] = pd.to_datetime(progression['ProgressionDate'])"
   ]
  },
  {
   "cell_type": "code",
   "execution_count": 337,
   "id": "171a2f64",
   "metadata": {},
   "outputs": [],
   "source": [
    "progression = (\n",
    "    progression\n",
    "    .sort_values(['PatientID', 'ProgressionDate'], ascending = [True, True])\n",
    "    .drop_duplicates(subset = 'PatientID', keep = 'first')\n",
    ")"
   ]
  },
  {
   "cell_type": "code",
   "execution_count": 338,
   "id": "5d7c0139",
   "metadata": {},
   "outputs": [
    {
     "data": {
      "text/plain": [
       "(4243, 4243)"
      ]
     },
     "execution_count": 338,
     "metadata": {},
     "output_type": "execute_result"
    }
   ],
   "source": [
    "row_ID(progression)"
   ]
  },
  {
   "cell_type": "code",
   "execution_count": 339,
   "id": "e209e740",
   "metadata": {},
   "outputs": [],
   "source": [
    "flaura = pd.merge(flaura, progression, on = 'PatientID', how = 'left')"
   ]
  },
  {
   "cell_type": "code",
   "execution_count": 340,
   "id": "b54d7984",
   "metadata": {},
   "outputs": [
    {
     "data": {
      "text/plain": [
       "(4244, 4244)"
      ]
     },
     "execution_count": 340,
     "metadata": {},
     "output_type": "execute_result"
    }
   ],
   "source": [
    "row_ID(flaura)"
   ]
  },
  {
   "cell_type": "code",
   "execution_count": 341,
   "id": "c9c38e70",
   "metadata": {},
   "outputs": [
    {
     "data": {
      "text/plain": [
       "0.3437794533459001"
      ]
     },
     "execution_count": 341,
     "metadata": {},
     "output_type": "execute_result"
    }
   ],
   "source": [
    "# Percent without progression date in Flaura trial\n",
    "len(flaura.query('ProgressionDate.isna()', engine = 'python'))/len(flaura)"
   ]
  },
  {
   "cell_type": "code",
   "execution_count": 342,
   "id": "241ac700",
   "metadata": {},
   "outputs": [],
   "source": [
    "conditions = [\n",
    "    (flaura.ProgressionDate.notna()),\n",
    "    ((flaura.ProgressionDate.isna()) & (flaura['death_status'] == 1)),\n",
    "    ((flaura.ProgressionDate.isna()) & (flaura['death_status'] == 0))]\n",
    "\n",
    "choices = [\n",
    "    (flaura['ProgressionDate'] - flaura['StartDate']).dt.days,\n",
    "    (flaura['death_date'] - flaura['StartDate']).dt.days,\n",
    "    (flaura['last_activity'] - flaura['StartDate']).dt.days]\n",
    "\n",
    "flaura.loc[:, 'time_prog_treatment'] = np.select(conditions, choices)"
   ]
  },
  {
   "cell_type": "code",
   "execution_count": 343,
   "id": "238a1f69",
   "metadata": {},
   "outputs": [],
   "source": [
    "flaura = flaura.query('time_prog_treatment >= 0')"
   ]
  },
  {
   "cell_type": "code",
   "execution_count": 344,
   "id": "122c6c7a",
   "metadata": {},
   "outputs": [
    {
     "data": {
      "text/plain": [
       "(3622, 3622)"
      ]
     },
     "execution_count": 344,
     "metadata": {},
     "output_type": "execute_result"
    }
   ],
   "source": [
    "row_ID(flaura)"
   ]
  },
  {
   "cell_type": "code",
   "execution_count": 345,
   "id": "e08c6d18",
   "metadata": {},
   "outputs": [],
   "source": [
    "conditions = [\n",
    "    (flaura.ProgressionDate.notna()),\n",
    "    ((flaura.ProgressionDate.isna()) & (flaura['death_status'] == 1)),\n",
    "    ((flaura.ProgressionDate.isna()) & (flaura['death_status'] == 0))]\n",
    "\n",
    "choices = [1, 1, 0]\n",
    "\n",
    "flaura.loc[:, 'pfs_status'] = np.select(conditions, choices)"
   ]
  },
  {
   "cell_type": "markdown",
   "id": "1f8f5fa0",
   "metadata": {},
   "source": [
    "#### Patient count"
   ]
  },
  {
   "cell_type": "code",
   "execution_count": 346,
   "id": "9716e9ea",
   "metadata": {},
   "outputs": [],
   "source": [
    "low_cutoff_fl = flaura.risk_score.quantile(1/3)"
   ]
  },
  {
   "cell_type": "code",
   "execution_count": 347,
   "id": "1f945a0b",
   "metadata": {},
   "outputs": [],
   "source": [
    "high_cutoff_fl = flaura.risk_score.quantile(2/3)"
   ]
  },
  {
   "cell_type": "code",
   "execution_count": 348,
   "id": "ae3a3b0a",
   "metadata": {},
   "outputs": [
    {
     "name": "stdout",
     "output_type": "stream",
     "text": [
      "Osimertinib total: 1096\n",
      "High risk: 310\n",
      "Med risk: 343\n",
      "Low risk: 443\n"
     ]
    }
   ],
   "source": [
    "print('Osimertinib total:', flaura.query('osim == 1').shape[0])\n",
    "print('High risk:', flaura.query('osim == 1').query('risk_score >= @high_cutoff_fl').shape[0])\n",
    "print('Med risk:', flaura.query('osim == 1').query('risk_score < @high_cutoff_fl and risk_score > @low_cutoff_fl').shape[0])\n",
    "print('Low risk:', flaura.query('osim == 1').query('risk_score <= @low_cutoff_fl').shape[0])"
   ]
  },
  {
   "cell_type": "code",
   "execution_count": 349,
   "id": "a6116cb9",
   "metadata": {},
   "outputs": [
    {
     "name": "stdout",
     "output_type": "stream",
     "text": [
      "Gefitinib or Erlotinib total: 2526\n",
      "High risk: 898\n",
      "Med risk: 863\n",
      "Low risk: 765\n"
     ]
    }
   ],
   "source": [
    "print('Gefitinib or Erlotinib total:', flaura.query('osim == 0').shape[0])\n",
    "print('High risk:', flaura.query('osim == 0').query('risk_score >= @high_cutoff_fl').shape[0])\n",
    "print('Med risk:', flaura.query('osim == 0').query('risk_score < @high_cutoff_fl and risk_score > @low_cutoff_fl').shape[0])\n",
    "print('Low risk:', flaura.query('osim == 0').query('risk_score <= @low_cutoff_fl').shape[0])"
   ]
  },
  {
   "cell_type": "code",
   "execution_count": 350,
   "id": "0de9b722",
   "metadata": {},
   "outputs": [],
   "source": [
    "risk_cutoff_lung.loc['flaura'] = [low_cutoff_fl, high_cutoff_fl]"
   ]
  },
  {
   "cell_type": "code",
   "execution_count": 351,
   "id": "293e08ff",
   "metadata": {},
   "outputs": [
    {
     "data": {
      "text/html": [
       "<div>\n",
       "<style scoped>\n",
       "    .dataframe tbody tr th:only-of-type {\n",
       "        vertical-align: middle;\n",
       "    }\n",
       "\n",
       "    .dataframe tbody tr th {\n",
       "        vertical-align: top;\n",
       "    }\n",
       "\n",
       "    .dataframe thead th {\n",
       "        text-align: right;\n",
       "    }\n",
       "</style>\n",
       "<table border=\"1\" class=\"dataframe\">\n",
       "  <thead>\n",
       "    <tr style=\"text-align: right;\">\n",
       "      <th></th>\n",
       "      <th>low</th>\n",
       "      <th>high</th>\n",
       "    </tr>\n",
       "  </thead>\n",
       "  <tbody>\n",
       "    <tr>\n",
       "      <th>keynote_042</th>\n",
       "      <td>-0.413827</td>\n",
       "      <td>0.115277</td>\n",
       "    </tr>\n",
       "    <tr>\n",
       "      <th>keynote_024</th>\n",
       "      <td>-0.267158</td>\n",
       "      <td>0.279047</td>\n",
       "    </tr>\n",
       "    <tr>\n",
       "      <th>keynote_189</th>\n",
       "      <td>-0.330817</td>\n",
       "      <td>0.223936</td>\n",
       "    </tr>\n",
       "    <tr>\n",
       "      <th>checkmate_078</th>\n",
       "      <td>-0.362620</td>\n",
       "      <td>0.090050</td>\n",
       "    </tr>\n",
       "    <tr>\n",
       "      <th>flaura</th>\n",
       "      <td>-0.712585</td>\n",
       "      <td>-0.204225</td>\n",
       "    </tr>\n",
       "  </tbody>\n",
       "</table>\n",
       "</div>"
      ],
      "text/plain": [
       "                    low      high\n",
       "keynote_042   -0.413827  0.115277\n",
       "keynote_024   -0.267158  0.279047\n",
       "keynote_189   -0.330817  0.223936\n",
       "checkmate_078 -0.362620  0.090050\n",
       "flaura        -0.712585 -0.204225"
      ]
     },
     "execution_count": 351,
     "metadata": {},
     "output_type": "execute_result"
    }
   ],
   "source": [
    "risk_cutoff_lung"
   ]
  },
  {
   "cell_type": "code",
   "execution_count": 352,
   "id": "f3dc1a2c",
   "metadata": {},
   "outputs": [],
   "source": [
    "risk_cutoff_lung.to_csv('risk_cutoff_lung.csv', index = True)"
   ]
  },
  {
   "cell_type": "markdown",
   "id": "89de464a",
   "metadata": {},
   "source": [
    "#### PFS with covariate balancing "
   ]
  },
  {
   "cell_type": "code",
   "execution_count": 353,
   "id": "6a7ebbc6",
   "metadata": {},
   "outputs": [],
   "source": [
    "flaura = flaura.set_index('PatientID')"
   ]
  },
  {
   "cell_type": "code",
   "execution_count": 354,
   "id": "26efa9ca",
   "metadata": {},
   "outputs": [],
   "source": [
    "flaura['pfs_status'] = flaura['pfs_status'].astype('bool')"
   ]
  },
  {
   "cell_type": "code",
   "execution_count": 355,
   "id": "54b71cde",
   "metadata": {},
   "outputs": [],
   "source": [
    "flaura_iptw = flaura.filter(items = ['pfs_status',\n",
    "                                     'time_prog_treatment',\n",
    "                                     'osim',\n",
    "                                     'age',\n",
    "                                     'gender',\n",
    "                                     'race',\n",
    "                                     'PracticeType',\n",
    "                                     'adv_year',\n",
    "                                     'delta_adv_diagnosis',\n",
    "                                     'commercial',\n",
    "                                     'medicare',\n",
    "                                     'medicaid',\n",
    "                                     'ecog_diagnosis',\n",
    "                                     'albumin_diag',\n",
    "                                     'weight_pct_change',\n",
    "                                     'risk_score'])"
   ]
  },
  {
   "cell_type": "code",
   "execution_count": 356,
   "id": "2f2852b0",
   "metadata": {},
   "outputs": [],
   "source": [
    "flaura_iptw['met_cat'] = pd.cut(flaura_iptw['adv_year'],\n",
    "                                bins = [2010, 2018, float('inf')],\n",
    "                                labels = ['11-18', '19-21'])"
   ]
  },
  {
   "cell_type": "code",
   "execution_count": 357,
   "id": "2eab8ba2",
   "metadata": {},
   "outputs": [],
   "source": [
    "conditions = [\n",
    "    ((flaura_iptw['ecog_diagnosis'] == \"1.0\") | (flaura_iptw['ecog_diagnosis'] == \"0.0\")),  \n",
    "    ((flaura_iptw['ecog_diagnosis'] == \"2.0\") | (flaura_iptw['ecog_diagnosis'] == \"3.0\"))\n",
    "]\n",
    "\n",
    "choices = ['lt_2', 'gte_2']\n",
    "\n",
    "flaura_iptw['ecog_2'] = np.select(conditions, choices, default = 'unknown')"
   ]
  },
  {
   "cell_type": "code",
   "execution_count": 358,
   "id": "79f71787",
   "metadata": {},
   "outputs": [
    {
     "data": {
      "text/plain": [
       "pfs_status                 bool\n",
       "time_prog_treatment     float64\n",
       "osim                      int64\n",
       "age                       int64\n",
       "gender                   object\n",
       "race                     object\n",
       "PracticeType             object\n",
       "adv_year                  int64\n",
       "delta_adv_diagnosis       int64\n",
       "commercial              float64\n",
       "medicare                float64\n",
       "medicaid                float64\n",
       "ecog_diagnosis           object\n",
       "albumin_diag            float64\n",
       "weight_pct_change       float64\n",
       "risk_score              float64\n",
       "met_cat                category\n",
       "ecog_2                   object\n",
       "dtype: object"
      ]
     },
     "execution_count": 358,
     "metadata": {},
     "output_type": "execute_result"
    }
   ],
   "source": [
    "flaura_iptw.dtypes"
   ]
  },
  {
   "cell_type": "code",
   "execution_count": 359,
   "id": "733da4c9",
   "metadata": {},
   "outputs": [],
   "source": [
    "to_be_categorical = list(flaura_iptw.select_dtypes(include = ['object']).columns)"
   ]
  },
  {
   "cell_type": "code",
   "execution_count": 360,
   "id": "aae3726a",
   "metadata": {},
   "outputs": [
    {
     "data": {
      "text/plain": [
       "['gender', 'race', 'PracticeType', 'ecog_diagnosis', 'ecog_2']"
      ]
     },
     "execution_count": 360,
     "metadata": {},
     "output_type": "execute_result"
    }
   ],
   "source": [
    "to_be_categorical"
   ]
  },
  {
   "cell_type": "code",
   "execution_count": 361,
   "id": "f3b4d7c3",
   "metadata": {},
   "outputs": [],
   "source": [
    "to_be_categorical.append('met_cat')"
   ]
  },
  {
   "cell_type": "code",
   "execution_count": 362,
   "id": "cf221fd1",
   "metadata": {},
   "outputs": [],
   "source": [
    "to_be_categorical.remove('ecog_diagnosis')"
   ]
  },
  {
   "cell_type": "code",
   "execution_count": 363,
   "id": "5587660f",
   "metadata": {},
   "outputs": [],
   "source": [
    "# Convert variables in list to categorical.\n",
    "for x in list(to_be_categorical):\n",
    "    flaura_iptw[x] = flaura_iptw[x].astype('category')"
   ]
  },
  {
   "cell_type": "code",
   "execution_count": 364,
   "id": "1fe87aaf",
   "metadata": {},
   "outputs": [],
   "source": [
    "# List of numeric variables, excluding binary variables. \n",
    "numerical_features = ['age', 'delta_adv_diagnosis', 'albumin_diag', 'weight_pct_change', 'risk_score']\n",
    "\n",
    "# Transformer will first calculate column median and impute, and then apply a standard scaler. \n",
    "numerical_transformer = Pipeline(steps = [\n",
    "    ('imputer', SimpleImputer(strategy = 'median')),\n",
    "    ('std_scaler', StandardScaler())])"
   ]
  },
  {
   "cell_type": "code",
   "execution_count": 365,
   "id": "740c60e7",
   "metadata": {},
   "outputs": [],
   "source": [
    "# List of categorical features.\n",
    "categorical_features = list(flaura_iptw.select_dtypes(include = ['category']).columns)\n",
    "\n",
    "# One-hot-encode categorical features.\n",
    "categorical_transformer = OneHotEncoder(handle_unknown = 'ignore')"
   ]
  },
  {
   "cell_type": "code",
   "execution_count": 366,
   "id": "4f9ed1c9",
   "metadata": {},
   "outputs": [],
   "source": [
    "preprocessor = ColumnTransformer(\n",
    "    transformers = [\n",
    "        ('num', numerical_transformer, numerical_features),\n",
    "        ('cat', categorical_transformer, categorical_features)],\n",
    "    remainder = 'passthrough')"
   ]
  },
  {
   "cell_type": "code",
   "execution_count": 367,
   "id": "54ba46cb",
   "metadata": {},
   "outputs": [],
   "source": [
    "flaura_iptw_low = (\n",
    "    flaura_iptw\n",
    "    .query('risk_score <= @low_cutoff_fl'))\n",
    "\n",
    "flaura_iptw_med = (\n",
    "    flaura_iptw\n",
    "    .query('risk_score < @high_cutoff_fl and risk_score > @low_cutoff_fl'))\n",
    "\n",
    "flaura_iptw_high = (\n",
    "    flaura_iptw\n",
    "    .query('risk_score >= @high_cutoff_fl'))\n",
    "\n",
    "flaura_iptw_all = flaura_iptw"
   ]
  },
  {
   "cell_type": "code",
   "execution_count": 368,
   "id": "56933d2b",
   "metadata": {},
   "outputs": [],
   "source": [
    "flaura_low_x = preprocessor.fit_transform(flaura_iptw_low.filter(items = ['age',\n",
    "                                                                          'gender',\n",
    "                                                                          'race',\n",
    "                                                                          'PracticeType',\n",
    "                                                                          'met_cat',\n",
    "                                                                          'delta_adv_diagnosis',\n",
    "                                                                          'commercial',\n",
    "                                                                          'medicare',\n",
    "                                                                          'medicaid',\n",
    "                                                                          'ecog_2', \n",
    "                                                                          'albumin_diag',\n",
    "                                                                          'weight_pct_change',\n",
    "                                                                          'risk_score']))\n",
    "\n",
    "flaura_med_x = preprocessor.fit_transform(flaura_iptw_med.filter(items = ['age',\n",
    "                                                                          'gender',\n",
    "                                                                          'race',\n",
    "                                                                          'PracticeType',\n",
    "                                                                          'met_cat',\n",
    "                                                                          'delta_adv_diagnosis',\n",
    "                                                                          'commercial',\n",
    "                                                                          'medicare',\n",
    "                                                                          'medicaid',\n",
    "                                                                          'ecog_2', \n",
    "                                                                          'albumin_diag',\n",
    "                                                                          'weight_pct_change',\n",
    "                                                                          'risk_score']))\n",
    "\n",
    "flaura_high_x = preprocessor.fit_transform(flaura_iptw_high.filter(items = ['age',\n",
    "                                                                            'gender',\n",
    "                                                                            'race',\n",
    "                                                                            'PracticeType',\n",
    "                                                                            'met_cat',\n",
    "                                                                            'delta_adv_diagnosis',\n",
    "                                                                            'commercial',\n",
    "                                                                            'medicare',\n",
    "                                                                            'medicaid',\n",
    "                                                                            'ecog_2', \n",
    "                                                                            'albumin_diag',\n",
    "                                                                            'weight_pct_change',\n",
    "                                                                            'risk_score']))\n",
    "\n",
    "flaura_all_x = preprocessor.fit_transform(flaura_iptw_all.filter(items = ['age',\n",
    "                                                                          'gender',\n",
    "                                                                          'race',\n",
    "                                                                          'PracticeType',\n",
    "                                                                          'met_cat',\n",
    "                                                                          'delta_adv_diagnosis',\n",
    "                                                                          'commercial',\n",
    "                                                                          'medicare',\n",
    "                                                                          'medicaid',\n",
    "                                                                          'ecog_2', \n",
    "                                                                          'albumin_diag',\n",
    "                                                                          'weight_pct_change',\n",
    "                                                                          'risk_score']))"
   ]
  },
  {
   "cell_type": "code",
   "execution_count": 369,
   "id": "1ecd3b5d",
   "metadata": {},
   "outputs": [
    {
     "data": {
      "text/plain": [
       "LogisticRegression(max_iter=1000)"
      ]
     },
     "execution_count": 369,
     "metadata": {},
     "output_type": "execute_result"
    }
   ],
   "source": [
    "lr_flaura_low = LogisticRegression(max_iter = 1000)\n",
    "lr_flaura_low.fit(flaura_low_x, flaura_iptw_low['osim'])"
   ]
  },
  {
   "cell_type": "code",
   "execution_count": 370,
   "id": "2c5a4aea",
   "metadata": {},
   "outputs": [
    {
     "data": {
      "text/plain": [
       "LogisticRegression(max_iter=1000)"
      ]
     },
     "execution_count": 370,
     "metadata": {},
     "output_type": "execute_result"
    }
   ],
   "source": [
    "lr_flaura_med = LogisticRegression(max_iter = 1000)\n",
    "lr_flaura_med.fit(flaura_med_x, flaura_iptw_med['osim'])"
   ]
  },
  {
   "cell_type": "code",
   "execution_count": 371,
   "id": "93464cc7",
   "metadata": {},
   "outputs": [
    {
     "data": {
      "text/plain": [
       "LogisticRegression(max_iter=1000)"
      ]
     },
     "execution_count": 371,
     "metadata": {},
     "output_type": "execute_result"
    }
   ],
   "source": [
    "lr_flaura_high = LogisticRegression(max_iter = 1000)\n",
    "lr_flaura_high.fit(flaura_high_x, flaura_iptw_high['osim'])"
   ]
  },
  {
   "cell_type": "code",
   "execution_count": 372,
   "id": "e2ece926",
   "metadata": {},
   "outputs": [
    {
     "data": {
      "text/plain": [
       "LogisticRegression(max_iter=1000)"
      ]
     },
     "execution_count": 372,
     "metadata": {},
     "output_type": "execute_result"
    }
   ],
   "source": [
    "lr_flaura_all = LogisticRegression(max_iter = 1000)\n",
    "lr_flaura_all.fit(flaura_all_x, flaura_iptw_all['osim'])"
   ]
  },
  {
   "cell_type": "code",
   "execution_count": 373,
   "id": "6e82afed",
   "metadata": {},
   "outputs": [],
   "source": [
    "pred_low = lr_flaura_low.predict_proba(flaura_low_x)\n",
    "pred_med = lr_flaura_med.predict_proba(flaura_med_x)\n",
    "pred_high = lr_flaura_high.predict_proba(flaura_high_x)\n",
    "pred_all = lr_flaura_all.predict_proba(flaura_all_x)"
   ]
  },
  {
   "cell_type": "code",
   "execution_count": 374,
   "id": "6ce25f6e",
   "metadata": {},
   "outputs": [
    {
     "name": "stderr",
     "output_type": "stream",
     "text": [
      "/Users/xavierorcutt/Dropbox/ist_project/myenv/lib/python3.7/site-packages/ipykernel_launcher.py:1: SettingWithCopyWarning: \n",
      "A value is trying to be set on a copy of a slice from a DataFrame.\n",
      "Try using .loc[row_indexer,col_indexer] = value instead\n",
      "\n",
      "See the caveats in the documentation: https://pandas.pydata.org/pandas-docs/stable/user_guide/indexing.html#returning-a-view-versus-a-copy\n",
      "  \"\"\"Entry point for launching an IPython kernel.\n",
      "/Users/xavierorcutt/Dropbox/ist_project/myenv/lib/python3.7/site-packages/ipykernel_launcher.py:2: SettingWithCopyWarning: \n",
      "A value is trying to be set on a copy of a slice from a DataFrame.\n",
      "Try using .loc[row_indexer,col_indexer] = value instead\n",
      "\n",
      "See the caveats in the documentation: https://pandas.pydata.org/pandas-docs/stable/user_guide/indexing.html#returning-a-view-versus-a-copy\n",
      "  \n",
      "/Users/xavierorcutt/Dropbox/ist_project/myenv/lib/python3.7/site-packages/ipykernel_launcher.py:3: SettingWithCopyWarning: \n",
      "A value is trying to be set on a copy of a slice from a DataFrame.\n",
      "Try using .loc[row_indexer,col_indexer] = value instead\n",
      "\n",
      "See the caveats in the documentation: https://pandas.pydata.org/pandas-docs/stable/user_guide/indexing.html#returning-a-view-versus-a-copy\n",
      "  This is separate from the ipykernel package so we can avoid doing imports until\n"
     ]
    }
   ],
   "source": [
    "flaura_iptw_low['ps'] = pred_low[:, 1]\n",
    "flaura_iptw_med['ps'] = pred_med[:, 1]\n",
    "flaura_iptw_high['ps'] = pred_high[:, 1]\n",
    "flaura_iptw_all['ps'] = pred_all[:, 1]"
   ]
  },
  {
   "cell_type": "code",
   "execution_count": 375,
   "id": "8cb8587f",
   "metadata": {},
   "outputs": [
    {
     "name": "stderr",
     "output_type": "stream",
     "text": [
      "/Users/xavierorcutt/Dropbox/ist_project/myenv/lib/python3.7/site-packages/ipykernel_launcher.py:2: SettingWithCopyWarning: \n",
      "A value is trying to be set on a copy of a slice from a DataFrame.\n",
      "Try using .loc[row_indexer,col_indexer] = value instead\n",
      "\n",
      "See the caveats in the documentation: https://pandas.pydata.org/pandas-docs/stable/user_guide/indexing.html#returning-a-view-versus-a-copy\n",
      "  \n",
      "/Users/xavierorcutt/Dropbox/ist_project/myenv/lib/python3.7/site-packages/ipykernel_launcher.py:5: SettingWithCopyWarning: \n",
      "A value is trying to be set on a copy of a slice from a DataFrame.\n",
      "Try using .loc[row_indexer,col_indexer] = value instead\n",
      "\n",
      "See the caveats in the documentation: https://pandas.pydata.org/pandas-docs/stable/user_guide/indexing.html#returning-a-view-versus-a-copy\n",
      "  \"\"\"\n",
      "/Users/xavierorcutt/Dropbox/ist_project/myenv/lib/python3.7/site-packages/ipykernel_launcher.py:8: SettingWithCopyWarning: \n",
      "A value is trying to be set on a copy of a slice from a DataFrame.\n",
      "Try using .loc[row_indexer,col_indexer] = value instead\n",
      "\n",
      "See the caveats in the documentation: https://pandas.pydata.org/pandas-docs/stable/user_guide/indexing.html#returning-a-view-versus-a-copy\n",
      "  \n"
     ]
    }
   ],
   "source": [
    "flaura_iptw_low['weight'] = (\n",
    "    np.where(flaura_iptw_low['osim'] == 1, 1/flaura_iptw_low['ps'], 1/(1 - flaura_iptw_low['ps'])))\n",
    "\n",
    "flaura_iptw_med['weight'] = (\n",
    "    np.where(flaura_iptw_med['osim'] == 1, 1/flaura_iptw_med['ps'], 1/(1 - flaura_iptw_med['ps'])))\n",
    "\n",
    "flaura_iptw_high['weight'] = (\n",
    "    np.where(flaura_iptw_high['osim'] == 1, 1/flaura_iptw_high['ps'], 1/(1 - flaura_iptw_high['ps'])))\n",
    "\n",
    "flaura_iptw_all['weight'] = (\n",
    "    np.where(flaura_iptw_all['osim'] == 1, 1/flaura_iptw_all['ps'], 1/(1 - flaura_iptw_all['ps'])))"
   ]
  },
  {
   "cell_type": "code",
   "execution_count": 376,
   "id": "2bceb251",
   "metadata": {},
   "outputs": [
    {
     "name": "stderr",
     "output_type": "stream",
     "text": [
      "/Users/xavierorcutt/Dropbox/ist_project/myenv/lib/python3.7/site-packages/lifelines/fitters/kaplan_meier_fitter.py:344: StatisticalWarning: It looks like your weights are not integers, possibly propensity scores then?\n",
      "  It's important to know that the naive variance estimates of the coefficients are biased. Instead use Monte Carlo to\n",
      "  estimate the variances. See paper \"Variance estimation when using inverse probability of treatment weighting (IPTW) with survival analysis\"\n",
      "  or \"Adjusted Kaplan-Meier estimator and log-rank test with inverse probability of treatment weighting for survival data.\"\n",
      "                  \n",
      "  StatisticalWarning,\n"
     ]
    },
    {
     "data": {
      "text/plain": [
       "<lifelines.KaplanMeierFitter:\"KM_estimate\", fitted with 3578.92 total observations, 482.603 right-censored observations>"
      ]
     },
     "execution_count": 376,
     "metadata": {},
     "output_type": "execute_result"
    }
   ],
   "source": [
    "# Low KM curves\n",
    "kmf_low_osim_flaura_iptw_pfs = KaplanMeierFitter()\n",
    "kmf_low_gefer_flaura_iptw_pfs = KaplanMeierFitter()\n",
    "\n",
    "kmf_low_osim_flaura_iptw_pfs.fit(\n",
    "    flaura_iptw_low.query('osim == 1').time_prog_treatment/30,\n",
    "    flaura_iptw_low.query('osim == 1').pfs_status,\n",
    "    weights = flaura_iptw_low.query('osim == 1')['weight'])\n",
    "\n",
    "kmf_low_gefer_flaura_iptw_pfs.fit(\n",
    "    flaura_iptw_low.query('osim == 0').time_prog_treatment/30,\n",
    "    flaura_iptw_low.query('osim == 0').pfs_status,\n",
    "    weights = flaura_iptw_low.query('osim == 0')['weight'])\n",
    "\n",
    "# Med KM curves\n",
    "kmf_med_osim_flaura_iptw_pfs = KaplanMeierFitter()\n",
    "kmf_med_gefer_flaura_iptw_pfs = KaplanMeierFitter()\n",
    "\n",
    "kmf_med_osim_flaura_iptw_pfs.fit(\n",
    "    flaura_iptw_med.query('osim == 1').time_prog_treatment/30,\n",
    "    flaura_iptw_med.query('osim == 1').pfs_status,\n",
    "    weights = flaura_iptw_med.query('osim == 1')['weight'])\n",
    "\n",
    "kmf_med_gefer_flaura_iptw_pfs.fit(\n",
    "    flaura_iptw_med.query('osim == 0').time_prog_treatment/30,\n",
    "    flaura_iptw_med.query('osim == 0').pfs_status,\n",
    "    weights = flaura_iptw_med.query('osim == 0')['weight'])\n",
    "\n",
    "# High KM curves \n",
    "kmf_high_osim_flaura_iptw_pfs = KaplanMeierFitter()\n",
    "kmf_high_gefer_flaura_iptw_pfs = KaplanMeierFitter()\n",
    "\n",
    "kmf_high_osim_flaura_iptw_pfs.fit(\n",
    "    flaura_iptw_high.query('osim == 1').time_prog_treatment/30,\n",
    "    flaura_iptw_high.query('osim == 1').pfs_status,\n",
    "    weights = flaura_iptw_high.query('osim == 1')['weight'])\n",
    "\n",
    "kmf_high_gefer_flaura_iptw_pfs.fit(\n",
    "    flaura_iptw_high.query('osim == 0').time_prog_treatment/30,\n",
    "    flaura_iptw_high.query('osim == 0').pfs_status,\n",
    "    weights = flaura_iptw_high.query('osim == 0')['weight'])\n",
    "\n",
    "# All KM curves \n",
    "kmf_all_osim_flaura_iptw_pfs = KaplanMeierFitter()\n",
    "kmf_all_gefer_flaura_iptw_pfs = KaplanMeierFitter()\n",
    "\n",
    "kmf_all_osim_flaura_iptw_pfs.fit(\n",
    "    flaura_iptw_all.query('osim == 1').time_prog_treatment/30,\n",
    "    flaura_iptw_all.query('osim == 1').pfs_status,\n",
    "    weights = flaura_iptw_all.query('osim == 1')['weight'])\n",
    "\n",
    "kmf_all_gefer_flaura_iptw_pfs.fit(\n",
    "    flaura_iptw_all.query('osim == 0').time_prog_treatment/30,\n",
    "    flaura_iptw_all.query('osim == 0').pfs_status,\n",
    "    weights = flaura_iptw_all.query('osim == 0')['weight'])"
   ]
  },
  {
   "cell_type": "code",
   "execution_count": 377,
   "id": "647f6620",
   "metadata": {},
   "outputs": [
    {
     "data": {
      "image/png": "[encoded data removed]",
      "text/plain": [
       "<Figure size 1800x600 with 5 Axes>"
      ]
     },
     "metadata": {},
     "output_type": "display_data"
    }
   ],
   "source": [
    "fig = plt.figure(figsize=(18, 6))\n",
    "\n",
    "# Plot survival curves for low risk group \n",
    "plt.subplot(1, 4, 1)\n",
    "\n",
    "plt.step(kmf_low_osim_flaura_iptw_pfs.timeline, kmf_low_osim_flaura_iptw_pfs.survival_function_.values*100, color = 'red', alpha = 0.5)\n",
    "\n",
    "plt.step(kmf_low_gefer_flaura_iptw_pfs.timeline, kmf_low_gefer_flaura_iptw_pfs.survival_function_.values*100, color = 'black', alpha = 0.5)\n",
    "\n",
    "plt.xticks(np.arange(0, 37, 6))\n",
    "plt.xlim(0, 37)\n",
    "plt.ylim(0, 100)\n",
    "\n",
    "plt.title('Low-risk', weight = 'bold')\n",
    "plt.ylabel('Progression free survival (%)', size = 12, weight = 'bold')\n",
    "\n",
    "plt.gca().spines['top'].set_visible(False)\n",
    "plt.gca().spines['right'].set_visible(False)\n",
    "\n",
    "# Plot survival curves for med risk group. \n",
    "plt.subplot(1, 4, 2)\n",
    "\n",
    "plt.step(kmf_med_osim_flaura_iptw_pfs.timeline, kmf_med_osim_flaura_iptw_pfs.survival_function_.values*100, color = 'red', alpha = 0.5)\n",
    "\n",
    "plt.step(kmf_med_gefer_flaura_iptw_pfs.timeline, kmf_med_gefer_flaura_iptw_pfs.survival_function_.values*100, color = 'black', alpha = 0.5)\n",
    "\n",
    "plt.xticks(np.arange(0, 37, 6))\n",
    "plt.xlim(0, 37)\n",
    "plt.ylim(0, 100)\n",
    "\n",
    "plt.title('Med-risk', weight = 'bold')\n",
    "\n",
    "plt.gca().spines['top'].set_visible(False)\n",
    "plt.gca().spines['right'].set_visible(False)\n",
    "\n",
    "# Plot survival curves by treatment for high risk group. \n",
    "plt.subplot(1, 4, 3)\n",
    "\n",
    "plt.step(kmf_high_osim_flaura_iptw_pfs.timeline, kmf_high_osim_flaura_iptw_pfs.survival_function_.values*100, color = 'red', alpha = 0.5)\n",
    "\n",
    "plt.step(kmf_high_gefer_flaura_iptw_pfs.timeline, kmf_high_gefer_flaura_iptw_pfs.survival_function_.values*100, color = 'black', alpha = 0.5)\n",
    "\n",
    "plt.xticks(np.arange(0, 37, 6))\n",
    "plt.xlim(0, 37)\n",
    "plt.ylim(0, 100)\n",
    "\n",
    "plt.title('High-risk', weight = 'bold')\n",
    "\n",
    "plt.gca().spines['top'].set_visible(False)\n",
    "plt.gca().spines['right'].set_visible(False)\n",
    "\n",
    "# Plot survival curves by treatment for all risk group. \n",
    "plt.subplot(1, 4, 4)\n",
    "\n",
    "plt.step(kmf_all_osim_flaura_iptw_pfs.timeline, kmf_all_osim_flaura_iptw_pfs.survival_function_.values*100, color = 'red', alpha = 0.5, label = 'Osimitinib')\n",
    "\n",
    "plt.step(kmf_all_gefer_flaura_iptw_pfs.timeline, kmf_all_gefer_flaura_iptw_pfs.survival_function_.values*100, color = 'black', alpha = 0.5, label = 'Gefitinib or Erlotinib')\n",
    "\n",
    "plt.xticks(np.arange(0, 37, 6))\n",
    "plt.xlim(0, 37)\n",
    "plt.ylim(0, 100)\n",
    "\n",
    "plt.title('Full cohort', weight = 'bold')\n",
    "\n",
    "plt.gca().spines['top'].set_visible(False)\n",
    "plt.gca().spines['right'].set_visible(False)\n",
    "\n",
    "plt.legend(loc = 'center right', prop = {'size': 9})\n",
    "\n",
    "fig.add_subplot(1, 1, 1, frameon = False)\n",
    "plt.tick_params(labelcolor = 'none', which = 'both', top = False, bottom = False, left = False, right = False)\n",
    "plt.xlabel('Months after treatment', labelpad = 15, size = 12, weight = 'bold')\n",
    "plt.title('FLAURA: Progression free survival for osimitinib vs. gefitinib or erlotinib', pad = 40, size = 15, weight = 'bold')\n",
    "\n",
    "plt.show()"
   ]
  }
 ],
 "metadata": {
  "kernelspec": {
   "display_name": "My Virtual Environment",
   "language": "python",
   "name": "myenv"
  },
  "language_info": {
   "codemirror_mode": {
    "name": "ipython",
    "version": 3
   },
   "file_extension": ".py",
   "mimetype": "text/x-python",
   "name": "python",
   "nbconvert_exporter": "python",
   "pygments_lexer": "ipython3",
   "version": "3.7.10"
  }
 },
 "nbformat": 4,
 "nbformat_minor": 5
}
