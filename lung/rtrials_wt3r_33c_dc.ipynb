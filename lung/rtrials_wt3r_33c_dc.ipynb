{
 "cells": [
  {
   "cell_type": "markdown",
   "id": "41761224",
   "metadata": {},
   "source": [
    "# Flatiron Health aNSCLC: Relaxed trials with GBM crude + dose correction\n",
    "\n",
    "***OBJECTIVE:*** **Reproduce landmark clinical trials in aNSCLC while ensuring patient receiving chemotherapy are getting appropriate first dose. Inclusion criteria for these trials will be pragmatically relaxed to allow for entry of our real-world patients, many of which would not meet criteria for inclusion in randomized controlled trials. Patients included in our trials will next be risk stratified using the gradient boosted model with crude imputation into 1 of 3 risk groups: high (top tertile), medium (middle tertile), and low (bottom tertile). Inverse-probability treatment weighted survival analysis will then be performed across these risk groups to get real-world estimates of survival while adjusting for measured confounders.** \n",
    "\n",
    "***OUTLINE:***\n",
    "1. **Preprocessing**\n",
    "2. **In silico trials:**\n",
    "* KEYNOTE-042 \n",
    "* KEYNOTE-024\n",
    "* KEYNOTE-189 \n",
    "* CHECKMATE-078"
   ]
  },
  {
   "cell_type": "markdown",
   "id": "14f73929",
   "metadata": {},
   "source": [
    "## Part 1: Preprocessing"
   ]
  },
  {
   "cell_type": "markdown",
   "id": "81877ce2",
   "metadata": {},
   "source": [
    "### 1.1 Import packages and create necessary functions"
   ]
  },
  {
   "cell_type": "code",
   "execution_count": 1,
   "id": "b38000aa",
   "metadata": {},
   "outputs": [],
   "source": [
    "import numpy as np\n",
    "import pandas as pd\n",
    "\n",
    "from scipy import stats\n",
    "\n",
    "from sksurv.nonparametric import kaplan_meier_estimator\n",
    "from survive import KaplanMeier, SurvivalData\n",
    "\n",
    "from lifelines import KaplanMeierFitter\n",
    "from lifelines.plotting import add_at_risk_counts\n",
    "from lifelines.utils import median_survival_times\n",
    "\n",
    "import matplotlib.pyplot as plt\n",
    "import matplotlib.gridspec as gridspec\n",
    "\n",
    "from sklearn.pipeline import Pipeline\n",
    "from sklearn.impute import SimpleImputer\n",
    "from sklearn.preprocessing import StandardScaler, OneHotEncoder\n",
    "from sklearn.compose import ColumnTransformer \n",
    "from sklearn.linear_model import LogisticRegression\n",
    "\n",
    "from matplotlib.lines import Line2D   "
   ]
  },
  {
   "cell_type": "code",
   "execution_count": 2,
   "id": "c51a4ff2",
   "metadata": {},
   "outputs": [],
   "source": [
    "# Function that returns number of rows and count of unique PatientIDs for a dataframe. \n",
    "def row_ID(dataframe):\n",
    "    row = dataframe.shape[0]\n",
    "    ID = dataframe['PatientID'].nunique()\n",
    "    return row, ID"
   ]
  },
  {
   "cell_type": "code",
   "execution_count": 3,
   "id": "30e908ea",
   "metadata": {},
   "outputs": [],
   "source": [
    "cutoff = pd.read_csv('risk_cutoff_lung.csv', index_col = 0)"
   ]
  },
  {
   "cell_type": "markdown",
   "id": "4b3663e0",
   "metadata": {},
   "source": [
    "## Part 2: In-silico trials "
   ]
  },
  {
   "cell_type": "markdown",
   "id": "d89e22e9",
   "metadata": {},
   "source": [
    "### KEYNOTE-042: First-line pembrolizumab vs. platinum-based chemotherapy in those with PDL1 >=1%\n",
    "\n",
    "**INCLUSION CRITERIA**\n",
    "* Untreated locally advanced or metastatic NSCLC\n",
    "* Received first line pemobrolizumab or platinum-based chemotherapy\n",
    "* Received appropriate dose of platinum-based chemotherapy\n",
    "* PDL1 >= 1% and status known within (-inf, +30] days of first-line treatment\n",
    "* EGFR and ALK negative"
   ]
  },
  {
   "cell_type": "markdown",
   "id": "9a6ebd20",
   "metadata": {},
   "source": [
    "#### Pembrolizumab"
   ]
  },
  {
   "cell_type": "code",
   "execution_count": 4,
   "id": "6f01cbd9",
   "metadata": {},
   "outputs": [
    {
     "data": {
      "text/plain": [
       "68483"
      ]
     },
     "execution_count": 4,
     "metadata": {},
     "output_type": "execute_result"
    }
   ],
   "source": [
    "df_full = pd.read_csv('df_risk_crude.csv', index_col = 'PatientID', dtype = {'death_status': bool})\n",
    "df_full.index.nunique()"
   ]
  },
  {
   "cell_type": "code",
   "execution_count": 5,
   "id": "1a0124ad",
   "metadata": {},
   "outputs": [],
   "source": [
    "line_therapy = pd.read_csv('LineOfTherapy.csv')"
   ]
  },
  {
   "cell_type": "code",
   "execution_count": 6,
   "id": "136fb9dc",
   "metadata": {},
   "outputs": [],
   "source": [
    "key042_pembro = (\n",
    "    line_therapy[line_therapy['PatientID'].isin(df_full.index)]\n",
    "    .query('LineNumber == 1')\n",
    "    .query('IsMaintenanceTherapy == False')\n",
    "    .query('LineName == \"Pembrolizumab\"')\n",
    "    [['PatientID', 'StartDate']]\n",
    ")"
   ]
  },
  {
   "cell_type": "code",
   "execution_count": 7,
   "id": "32e0a054",
   "metadata": {},
   "outputs": [],
   "source": [
    "key042_pembro.loc[:, 'pembro'] = 1"
   ]
  },
  {
   "cell_type": "code",
   "execution_count": 8,
   "id": "bee3830b",
   "metadata": {},
   "outputs": [
    {
     "data": {
      "text/plain": [
       "(3648, 3648)"
      ]
     },
     "execution_count": 8,
     "metadata": {},
     "output_type": "execute_result"
    }
   ],
   "source": [
    "row_ID(key042_pembro)"
   ]
  },
  {
   "cell_type": "code",
   "execution_count": 9,
   "id": "e616fa80",
   "metadata": {},
   "outputs": [],
   "source": [
    "# Dataframe of all therapies received for those receiving first line pembrolizumab only. \n",
    "line_therapy_pembro_042 = (\n",
    "    line_therapy[line_therapy['PatientID'].isin(key042_pembro.PatientID)])"
   ]
  },
  {
   "cell_type": "code",
   "execution_count": 10,
   "id": "457fe47a",
   "metadata": {},
   "outputs": [],
   "source": [
    "targeted = [\n",
    "    'Afatinib',\n",
    "    'Alectinib',\n",
    "    'Brigatinib',\n",
    "    'Cabozantinib',\n",
    "    'Capmatinib',\n",
    "    'Ceritinib',\n",
    "    'Crizotinib',\n",
    "    'Dabrafenib',\n",
    "    'Dacomitinib',\n",
    "    'Entrectinib',\n",
    "    'Erlotinib',\n",
    "    'Gefitinib',\n",
    "    'Lorlatinib',\n",
    "    'Osimertinib',\n",
    "    'Pralsetinib',\n",
    "    'Selpercatinib',\n",
    "    'Sotorasib',\n",
    "    'Tepotinib',\n",
    "    'Trametinib',\n",
    "    'Vandetanib']"
   ]
  },
  {
   "cell_type": "code",
   "execution_count": 11,
   "id": "71dd4c80",
   "metadata": {},
   "outputs": [],
   "source": [
    "# Patients receiving pembrolizumab therapy who later recieve targeted therapy. \n",
    "pembro_042_xcross = (\n",
    "    line_therapy_pembro_042[line_therapy_pembro_042['LineName'].str.contains('|'.join(targeted))].PatientID)"
   ]
  },
  {
   "cell_type": "code",
   "execution_count": 12,
   "id": "045ceaa5",
   "metadata": {},
   "outputs": [],
   "source": [
    "# Select patients who don't receive targeted therapy in future lines.\n",
    "key042_pembro = key042_pembro[~key042_pembro['PatientID'].isin(pembro_042_xcross)]"
   ]
  },
  {
   "cell_type": "code",
   "execution_count": 13,
   "id": "3d52be5f",
   "metadata": {},
   "outputs": [
    {
     "data": {
      "text/plain": [
       "(3582, 3582)"
      ]
     },
     "execution_count": 13,
     "metadata": {},
     "output_type": "execute_result"
    }
   ],
   "source": [
    "row_ID(key042_pembro)"
   ]
  },
  {
   "cell_type": "code",
   "execution_count": 14,
   "id": "ee7ecace",
   "metadata": {},
   "outputs": [
    {
     "data": {
      "text/plain": [
       "(3582, 3582)"
      ]
     },
     "execution_count": 14,
     "metadata": {},
     "output_type": "execute_result"
    }
   ],
   "source": [
    "row_ID(key042_pembro)"
   ]
  },
  {
   "cell_type": "markdown",
   "id": "d460c2d0",
   "metadata": {},
   "source": [
    "#### Platinum-based chemotherapy "
   ]
  },
  {
   "cell_type": "code",
   "execution_count": 15,
   "id": "817bea24",
   "metadata": {},
   "outputs": [],
   "source": [
    "line_therapy_fl = (\n",
    "    line_therapy[line_therapy['PatientID'].isin(df_full.index)]\n",
    "    .query('LineNumber == 1')\n",
    "    .query('IsMaintenanceTherapy == False')\n",
    ")"
   ]
  },
  {
   "cell_type": "code",
   "execution_count": 16,
   "id": "77455683",
   "metadata": {},
   "outputs": [],
   "source": [
    "plat_chemo = [\n",
    "    'Carboplatin',\n",
    "    'Cisplatin']\n",
    "\n",
    "immuno = [\n",
    "    'Atezolizumab',\n",
    "    'Cemiplimab',\n",
    "    'Durvalumab',\n",
    "    'Ipilimumab',\n",
    "    'Nivolumab',\n",
    "    'Pembrolizumab'\n",
    "]"
   ]
  },
  {
   "cell_type": "code",
   "execution_count": 17,
   "id": "06c1a9b4",
   "metadata": {},
   "outputs": [
    {
     "data": {
      "text/plain": [
       "Carboplatin,Paclitaxel                  8524\n",
       "Carboplatin,Pemetrexed                  5417\n",
       "Bevacizumab,Carboplatin,Pemetrexed      2825\n",
       "Carboplatin,Paclitaxel Protein-Bound    1826\n",
       "Bevacizumab,Carboplatin,Paclitaxel      1591\n",
       "Carboplatin,Gemcitabine                 1224\n",
       "Cisplatin,Etoposide                      793\n",
       "Carboplatin,Docetaxel                    780\n",
       "Cisplatin,Pemetrexed                     684\n",
       "Carboplatin,Etoposide                    363\n",
       "Name: LineName, dtype: int64"
      ]
     },
     "execution_count": 17,
     "metadata": {},
     "output_type": "execute_result"
    }
   ],
   "source": [
    "line_therapy_fl[line_therapy_fl['LineName'].str.contains('|'.join(plat_chemo)) & \n",
    "                ~line_therapy_fl['LineName'].str.contains('|'.join(immuno)) &\n",
    "                ~line_therapy_fl['LineName'].str.contains('|'.join(targeted)) &\n",
    "                ~line_therapy_fl['LineName'].str.contains('Clinical Study Drug')].LineName.value_counts().head(10)"
   ]
  },
  {
   "cell_type": "code",
   "execution_count": 18,
   "id": "fea1955b",
   "metadata": {},
   "outputs": [],
   "source": [
    "key042_carb = (\n",
    "    line_therapy_fl[line_therapy_fl['LineName'].str.contains('Carboplatin') & \n",
    "                    ~line_therapy_fl['LineName'].str.contains('|'.join(immuno)) &\n",
    "                    ~line_therapy_fl['LineName'].str.contains('|'.join(targeted)) &\n",
    "                    ~line_therapy_fl['LineName'].str.contains('Clinical Study Drug')]\n",
    "    [['PatientID', 'StartDate']]\n",
    ")"
   ]
  },
  {
   "cell_type": "code",
   "execution_count": 19,
   "id": "05bacc21",
   "metadata": {},
   "outputs": [],
   "source": [
    "key042_carb.loc[:, 'carb'] = 1"
   ]
  },
  {
   "cell_type": "code",
   "execution_count": 20,
   "id": "f3a9a7d8",
   "metadata": {},
   "outputs": [],
   "source": [
    "key042_cis = (\n",
    "    line_therapy_fl[line_therapy_fl['LineName'].str.contains('Cisplatin') & \n",
    "                    ~line_therapy_fl['LineName'].str.contains('|'.join(immuno)) &\n",
    "                    ~line_therapy_fl['LineName'].str.contains('|'.join(targeted)) &\n",
    "                    ~line_therapy_fl['LineName'].str.contains('Clinical Study Drug')]\n",
    "    [['PatientID', 'StartDate']]\n",
    ")"
   ]
  },
  {
   "cell_type": "code",
   "execution_count": 21,
   "id": "17000f85",
   "metadata": {},
   "outputs": [],
   "source": [
    "key042_cis.loc[:, 'carb'] = 0"
   ]
  },
  {
   "cell_type": "code",
   "execution_count": 22,
   "id": "271b8204",
   "metadata": {},
   "outputs": [],
   "source": [
    "key042_plat = pd.concat([key042_carb, key042_cis])"
   ]
  },
  {
   "cell_type": "code",
   "execution_count": 23,
   "id": "8e4dbb2d",
   "metadata": {},
   "outputs": [],
   "source": [
    "key042_plat.loc[:, 'pembro'] = 0"
   ]
  },
  {
   "cell_type": "code",
   "execution_count": 24,
   "id": "b004bca2",
   "metadata": {},
   "outputs": [
    {
     "data": {
      "text/plain": [
       "(25861, 25861)"
      ]
     },
     "execution_count": 24,
     "metadata": {},
     "output_type": "execute_result"
    }
   ],
   "source": [
    "row_ID(key042_plat)"
   ]
  },
  {
   "cell_type": "code",
   "execution_count": 25,
   "id": "40d04fd6",
   "metadata": {},
   "outputs": [],
   "source": [
    "# Dataframe of all therapies received for those receiving first line platinum regimen   \n",
    "line_therapy_plat_042 = (\n",
    "    line_therapy[line_therapy['PatientID'].isin(key042_plat.PatientID)])"
   ]
  },
  {
   "cell_type": "code",
   "execution_count": 26,
   "id": "5724208e",
   "metadata": {},
   "outputs": [],
   "source": [
    "# Patients receiving platinum therapy who later recieve targeted therapy. \n",
    "plat_042_xcross = (\n",
    "    line_therapy_plat_042[line_therapy_plat_042['LineName'].str.contains('|'.join(targeted))].PatientID)"
   ]
  },
  {
   "cell_type": "code",
   "execution_count": 27,
   "id": "407db79a",
   "metadata": {},
   "outputs": [],
   "source": [
    "# Select patients who don't receive targeted therapy in future lines \n",
    "key042_plat = key042_plat[~key042_plat['PatientID'].isin(plat_042_xcross)]"
   ]
  },
  {
   "cell_type": "code",
   "execution_count": 28,
   "id": "40a5a901",
   "metadata": {},
   "outputs": [
    {
     "data": {
      "text/plain": [
       "(23800, 23800)"
      ]
     },
     "execution_count": 28,
     "metadata": {},
     "output_type": "execute_result"
    }
   ],
   "source": [
    "row_ID(key042_plat)"
   ]
  },
  {
   "cell_type": "markdown",
   "id": "43e32649",
   "metadata": {},
   "source": [
    "#### Platinum-based chemotherapy dosing"
   ]
  },
  {
   "cell_type": "markdown",
   "id": "1565848d",
   "metadata": {},
   "source": [
    "#### Carboplatin"
   ]
  },
  {
   "cell_type": "code",
   "execution_count": 29,
   "id": "b97f7a81",
   "metadata": {},
   "outputs": [],
   "source": [
    "med_order = pd.read_csv('MedicationOrder.csv', low_memory = False)"
   ]
  },
  {
   "cell_type": "code",
   "execution_count": 30,
   "id": "556e03c4",
   "metadata": {},
   "outputs": [],
   "source": [
    "med_order['ExpectedStartDate'] = np.where(med_order['ExpectedStartDate'].isna(), \n",
    "                                          med_order['OrderedDate'], \n",
    "                                          med_order['ExpectedStartDate'])"
   ]
  },
  {
   "cell_type": "code",
   "execution_count": 31,
   "id": "485ac4af",
   "metadata": {},
   "outputs": [],
   "source": [
    "med_order.loc[:, 'ExpectedStartDate'] = pd.to_datetime(med_order['ExpectedStartDate'])"
   ]
  },
  {
   "cell_type": "code",
   "execution_count": 32,
   "id": "41f0f4e1",
   "metadata": {},
   "outputs": [],
   "source": [
    "key042_plat.loc[:, 'StartDate'] = pd.to_datetime(key042_plat['StartDate'])"
   ]
  },
  {
   "cell_type": "code",
   "execution_count": 33,
   "id": "22377422",
   "metadata": {},
   "outputs": [],
   "source": [
    "med_order_carb = (\n",
    "    med_order[med_order['PatientID'].isin(key042_plat.query('carb == 1').PatientID)]\n",
    "    .query('CommonDrugName == \"carboplatin\"')\n",
    ")"
   ]
  },
  {
   "cell_type": "code",
   "execution_count": 34,
   "id": "67eaee01",
   "metadata": {},
   "outputs": [
    {
     "data": {
      "text/plain": [
       "(147262, 18)"
      ]
     },
     "execution_count": 34,
     "metadata": {},
     "output_type": "execute_result"
    }
   ],
   "source": [
    "med_order_carb.shape"
   ]
  },
  {
   "cell_type": "code",
   "execution_count": 35,
   "id": "1d2fcd54",
   "metadata": {},
   "outputs": [],
   "source": [
    "med_order_carb = pd.merge(med_order_carb, \n",
    "                          key042_plat.query('carb == 1')[['PatientID', 'StartDate']], \n",
    "                          on = 'PatientID', \n",
    "                          how = 'left')"
   ]
  },
  {
   "cell_type": "code",
   "execution_count": 36,
   "id": "99c44d3b",
   "metadata": {},
   "outputs": [
    {
     "data": {
      "text/plain": [
       "(147262, 19)"
      ]
     },
     "execution_count": 36,
     "metadata": {},
     "output_type": "execute_result"
    }
   ],
   "source": [
    "med_order_carb.shape"
   ]
  },
  {
   "cell_type": "code",
   "execution_count": 37,
   "id": "eda137a3",
   "metadata": {},
   "outputs": [],
   "source": [
    "med_order_carb.loc[:, 'date_diff'] = (med_order_carb['ExpectedStartDate'] - med_order_carb['StartDate']).dt.days.abs()"
   ]
  },
  {
   "cell_type": "code",
   "execution_count": 38,
   "id": "c9fc9f7e",
   "metadata": {},
   "outputs": [],
   "source": [
    "med_order_carb = med_order_carb.query('date_diff <= 14')"
   ]
  },
  {
   "cell_type": "code",
   "execution_count": 39,
   "id": "ba9ffc4f",
   "metadata": {},
   "outputs": [],
   "source": [
    "carb_index = med_order_carb.groupby('PatientID')['date_diff'].idxmin()"
   ]
  },
  {
   "cell_type": "code",
   "execution_count": 40,
   "id": "cb700e13",
   "metadata": {},
   "outputs": [],
   "source": [
    "carb_dose = med_order_carb.loc[carb_index].query('RelativeOrderedUnits == \"AUC\"')[['PatientID', 'RelativeOrderedAmount']]"
   ]
  },
  {
   "cell_type": "code",
   "execution_count": 41,
   "id": "5dfd68c8",
   "metadata": {},
   "outputs": [],
   "source": [
    "carb_dose = carb_dose.rename(columns = {'RelativeOrderedAmount': 'carb_dose_auc'})"
   ]
  },
  {
   "cell_type": "code",
   "execution_count": 42,
   "id": "bb36998d",
   "metadata": {},
   "outputs": [],
   "source": [
    "carb_IDs = carb_dose.query('carb_dose_auc >= 5').PatientID"
   ]
  },
  {
   "cell_type": "markdown",
   "id": "8540c07c",
   "metadata": {},
   "source": [
    "#### Cisplatin"
   ]
  },
  {
   "cell_type": "code",
   "execution_count": 43,
   "id": "477681d6",
   "metadata": {},
   "outputs": [],
   "source": [
    "med_order_cis = (\n",
    "    med_order[med_order['PatientID'].isin(key042_plat.query('carb == 0').PatientID)]\n",
    "    .query('CommonDrugName == \"cisplatin\"')\n",
    ")"
   ]
  },
  {
   "cell_type": "code",
   "execution_count": 44,
   "id": "8d00bdf2",
   "metadata": {},
   "outputs": [
    {
     "data": {
      "text/plain": [
       "(10521, 18)"
      ]
     },
     "execution_count": 44,
     "metadata": {},
     "output_type": "execute_result"
    }
   ],
   "source": [
    "med_order_cis.shape"
   ]
  },
  {
   "cell_type": "code",
   "execution_count": 45,
   "id": "4316f16f",
   "metadata": {},
   "outputs": [],
   "source": [
    "med_order_cis = pd.merge(med_order_cis,\n",
    "                         key042_plat.query('carb == 0')[['PatientID', 'StartDate']], \n",
    "                         on = 'PatientID', \n",
    "                         how = 'left')"
   ]
  },
  {
   "cell_type": "code",
   "execution_count": 46,
   "id": "68e37f84",
   "metadata": {},
   "outputs": [
    {
     "data": {
      "text/plain": [
       "(10521, 19)"
      ]
     },
     "execution_count": 46,
     "metadata": {},
     "output_type": "execute_result"
    }
   ],
   "source": [
    "med_order_cis.shape"
   ]
  },
  {
   "cell_type": "code",
   "execution_count": 47,
   "id": "227a93ad",
   "metadata": {},
   "outputs": [],
   "source": [
    "med_order_cis.loc[:, 'date_diff'] = (med_order_cis['ExpectedStartDate'] - med_order_cis['StartDate']).dt.days.abs()"
   ]
  },
  {
   "cell_type": "code",
   "execution_count": 48,
   "id": "68ab4410",
   "metadata": {},
   "outputs": [],
   "source": [
    "med_order_cis = med_order_cis.query('date_diff <= 14')"
   ]
  },
  {
   "cell_type": "code",
   "execution_count": 49,
   "id": "2b2e6394",
   "metadata": {},
   "outputs": [],
   "source": [
    "cis_index = med_order_cis.groupby('PatientID')['date_diff'].idxmin()"
   ]
  },
  {
   "cell_type": "code",
   "execution_count": 50,
   "id": "bc4e625d",
   "metadata": {},
   "outputs": [],
   "source": [
    "cis_dose = med_order_cis.loc[cis_index].query('RelativeOrderedUnits == \"mg/m2\"')[['PatientID', 'RelativeOrderedAmount']]"
   ]
  },
  {
   "cell_type": "code",
   "execution_count": 51,
   "id": "4986c094",
   "metadata": {},
   "outputs": [],
   "source": [
    "cis_dose = cis_dose.rename(columns = {'RelativeOrderedAmount': 'cis_dose_mgm2'})"
   ]
  },
  {
   "cell_type": "code",
   "execution_count": 52,
   "id": "82495698",
   "metadata": {},
   "outputs": [],
   "source": [
    "cis_IDs = cis_dose.query('cis_dose_mgm2 >= 75').PatientID"
   ]
  },
  {
   "cell_type": "markdown",
   "id": "38d2ae1b",
   "metadata": {},
   "source": [
    "#### Combine chemotherapy and pembrolizumab dataframes "
   ]
  },
  {
   "cell_type": "code",
   "execution_count": 53,
   "id": "7ae9dad8",
   "metadata": {},
   "outputs": [],
   "source": [
    "key042_plat = key042_plat[key042_plat['PatientID'].isin(pd.concat([carb_IDs, cis_IDs]))]"
   ]
  },
  {
   "cell_type": "code",
   "execution_count": 54,
   "id": "847ab197",
   "metadata": {},
   "outputs": [],
   "source": [
    "key042_plat = key042_plat.drop(columns = ['carb'])"
   ]
  },
  {
   "cell_type": "code",
   "execution_count": 55,
   "id": "2e864ba8",
   "metadata": {},
   "outputs": [],
   "source": [
    "key_042 = pd.concat([key042_pembro, key042_plat])"
   ]
  },
  {
   "cell_type": "code",
   "execution_count": 56,
   "id": "01340f50",
   "metadata": {},
   "outputs": [
    {
     "data": {
      "text/plain": [
       "(15321, 15321)"
      ]
     },
     "execution_count": 56,
     "metadata": {},
     "output_type": "execute_result"
    }
   ],
   "source": [
    "row_ID(key_042)"
   ]
  },
  {
   "cell_type": "code",
   "execution_count": 57,
   "id": "82003efd",
   "metadata": {},
   "outputs": [],
   "source": [
    "key_042 = pd.merge(key_042, df_full, on = 'PatientID', how = 'left')"
   ]
  },
  {
   "cell_type": "code",
   "execution_count": 58,
   "id": "83603d80",
   "metadata": {},
   "outputs": [
    {
     "data": {
      "text/plain": [
       "(15321, 15321)"
      ]
     },
     "execution_count": 58,
     "metadata": {},
     "output_type": "execute_result"
    }
   ],
   "source": [
    "row_ID(key_042)"
   ]
  },
  {
   "cell_type": "code",
   "execution_count": 59,
   "id": "c20686e9",
   "metadata": {},
   "outputs": [],
   "source": [
    "key_042['StartDate'] = pd.to_datetime(key_042['StartDate'])"
   ]
  },
  {
   "cell_type": "markdown",
   "id": "5e6c2a8f",
   "metadata": {},
   "source": [
    "#### PDL1 >=1%"
   ]
  },
  {
   "cell_type": "code",
   "execution_count": 60,
   "id": "94ef406b",
   "metadata": {},
   "outputs": [],
   "source": [
    "biomarkers = pd.read_csv('Enhanced_AdvNSCLCBiomarkers.csv')"
   ]
  },
  {
   "cell_type": "code",
   "execution_count": 61,
   "id": "12c5e857",
   "metadata": {},
   "outputs": [],
   "source": [
    "biomarkers = biomarkers[biomarkers['PatientID'].isin(key_042['PatientID'])]"
   ]
  },
  {
   "cell_type": "code",
   "execution_count": 62,
   "id": "8655bacd",
   "metadata": {},
   "outputs": [],
   "source": [
    "biomarkers = pd.merge(biomarkers, key_042[['PatientID', 'StartDate']], on = 'PatientID', how = 'left')"
   ]
  },
  {
   "cell_type": "code",
   "execution_count": 63,
   "id": "79647c2d",
   "metadata": {},
   "outputs": [
    {
     "data": {
      "text/plain": [
       "(58666, 12087)"
      ]
     },
     "execution_count": 63,
     "metadata": {},
     "output_type": "execute_result"
    }
   ],
   "source": [
    "row_ID(biomarkers)"
   ]
  },
  {
   "cell_type": "code",
   "execution_count": 64,
   "id": "826dacbd",
   "metadata": {},
   "outputs": [],
   "source": [
    "biomarkers['ResultDate'] = pd.to_datetime(biomarkers['ResultDate'])"
   ]
  },
  {
   "cell_type": "code",
   "execution_count": 65,
   "id": "d46f6dca",
   "metadata": {},
   "outputs": [],
   "source": [
    "biomarkers['SpecimenReceivedDate'] = pd.to_datetime(biomarkers['SpecimenReceivedDate'])"
   ]
  },
  {
   "cell_type": "code",
   "execution_count": 66,
   "id": "ec2438c7",
   "metadata": {},
   "outputs": [],
   "source": [
    "biomarkers.loc[:, 'result_date'] = (\n",
    "    np.where(biomarkers['ResultDate'].isna(), biomarkers['SpecimenReceivedDate'], biomarkers['ResultDate'])\n",
    ")"
   ]
  },
  {
   "cell_type": "code",
   "execution_count": 67,
   "id": "f560420f",
   "metadata": {},
   "outputs": [],
   "source": [
    "biomarkers.loc[:, 'date_diff'] = (biomarkers['result_date'] - biomarkers['StartDate']).dt.days"
   ]
  },
  {
   "cell_type": "code",
   "execution_count": 68,
   "id": "e3422af3",
   "metadata": {},
   "outputs": [],
   "source": [
    "pdl1_value = (\n",
    "    biomarkers\n",
    "    .query('BiomarkerName == \"PDL1\"')\n",
    "    .query('date_diff <=30')\n",
    "    .query('PercentStaining != \"0%\" and PercentStaining != \"< 1%\" and PercentStaining.notnull()', engine = 'python')\n",
    "    .sort_values(by = ['PatientID', 'PercentStaining'], ascending = [True, False])\n",
    "    .drop_duplicates(subset = ['PatientID'], keep = 'first')\n",
    "    [['PatientID', 'PercentStaining']]\n",
    ")"
   ]
  },
  {
   "cell_type": "code",
   "execution_count": 69,
   "id": "1be363bc",
   "metadata": {},
   "outputs": [],
   "source": [
    "pdl1_ids = (\n",
    "    biomarkers\n",
    "    .query('BiomarkerName == \"PDL1\"')\n",
    "    .query('date_diff <=30')\n",
    "    .query('PercentStaining != \"0%\" and PercentStaining != \"< 1%\" and PercentStaining.notnull()', engine = 'python')\n",
    "    .PatientID\n",
    "    .unique()\n",
    ")"
   ]
  },
  {
   "cell_type": "code",
   "execution_count": 70,
   "id": "62d9ddda",
   "metadata": {},
   "outputs": [],
   "source": [
    "key_042 = key_042[key_042.PatientID.isin(pdl1_ids)]"
   ]
  },
  {
   "cell_type": "code",
   "execution_count": 71,
   "id": "ca6eb330",
   "metadata": {},
   "outputs": [
    {
     "data": {
      "text/plain": [
       "(4086, 4086)"
      ]
     },
     "execution_count": 71,
     "metadata": {},
     "output_type": "execute_result"
    }
   ],
   "source": [
    "row_ID(key_042)"
   ]
  },
  {
   "cell_type": "markdown",
   "id": "7a906510",
   "metadata": {},
   "source": [
    "#### Time from treatment to death or censor"
   ]
  },
  {
   "cell_type": "code",
   "execution_count": 72,
   "id": "a4e453d3",
   "metadata": {},
   "outputs": [],
   "source": [
    "mortality_tr = pd.read_csv('mortality_cleaned_tr.csv')"
   ]
  },
  {
   "cell_type": "code",
   "execution_count": 73,
   "id": "0d6b599d",
   "metadata": {},
   "outputs": [],
   "source": [
    "mortality_te = pd.read_csv('mortality_cleaned_te.csv')"
   ]
  },
  {
   "cell_type": "code",
   "execution_count": 74,
   "id": "92aff3af",
   "metadata": {},
   "outputs": [],
   "source": [
    "mortality_tr = mortality_tr[['PatientID', 'death_date', 'last_activity']]"
   ]
  },
  {
   "cell_type": "code",
   "execution_count": 75,
   "id": "a51214b0",
   "metadata": {},
   "outputs": [],
   "source": [
    "mortality_te = mortality_te[['PatientID', 'death_date', 'last_activity']]"
   ]
  },
  {
   "cell_type": "code",
   "execution_count": 76,
   "id": "3483ff6a",
   "metadata": {},
   "outputs": [
    {
     "name": "stdout",
     "output_type": "stream",
     "text": [
      "68483 True\n"
     ]
    }
   ],
   "source": [
    "mortality = pd.concat([mortality_tr, mortality_te], ignore_index = True)\n",
    "print(len(mortality), mortality.PatientID.is_unique)"
   ]
  },
  {
   "cell_type": "code",
   "execution_count": 77,
   "id": "ba77deaf",
   "metadata": {},
   "outputs": [],
   "source": [
    "mortality.loc[:, 'last_activity'] = pd.to_datetime(mortality['last_activity'])"
   ]
  },
  {
   "cell_type": "code",
   "execution_count": 78,
   "id": "361c4a02",
   "metadata": {},
   "outputs": [],
   "source": [
    "mortality.loc[:, 'death_date'] = pd.to_datetime(mortality['death_date'])"
   ]
  },
  {
   "cell_type": "code",
   "execution_count": 79,
   "id": "3d9e9aca",
   "metadata": {},
   "outputs": [],
   "source": [
    "key_042 = pd.merge(key_042, mortality, on = 'PatientID', how = 'left')"
   ]
  },
  {
   "cell_type": "code",
   "execution_count": 80,
   "id": "d3b1f31d",
   "metadata": {},
   "outputs": [
    {
     "data": {
      "text/plain": [
       "(4086, 4086)"
      ]
     },
     "execution_count": 80,
     "metadata": {},
     "output_type": "execute_result"
    }
   ],
   "source": [
    "row_ID(key_042)"
   ]
  },
  {
   "cell_type": "code",
   "execution_count": 81,
   "id": "d050ff20",
   "metadata": {},
   "outputs": [],
   "source": [
    "conditions = [\n",
    "    (key_042['death_status'] == 1),\n",
    "    (key_042['death_status'] == 0)]\n",
    "\n",
    "choices = [\n",
    "    (key_042['death_date'] - key_042['StartDate']).dt.days,\n",
    "    (key_042['last_activity'] - key_042['StartDate']).dt.days]\n",
    "\n",
    "key_042.loc[:, 'timerisk_treatment'] = np.select(conditions, choices)"
   ]
  },
  {
   "cell_type": "code",
   "execution_count": 82,
   "id": "09f1aa27",
   "metadata": {},
   "outputs": [],
   "source": [
    "key_042 = key_042.query('timerisk_treatment >= 0')"
   ]
  },
  {
   "cell_type": "markdown",
   "id": "37bdb536",
   "metadata": {},
   "source": [
    "#### Patient count"
   ]
  },
  {
   "cell_type": "code",
   "execution_count": 83,
   "id": "ecfcb952",
   "metadata": {},
   "outputs": [],
   "source": [
    "key_042 = (\n",
    "    key_042\n",
    "    .query('EGFR != \"positive\"')\n",
    "    .query('ALK != \"positive\"')\n",
    ")"
   ]
  },
  {
   "cell_type": "code",
   "execution_count": 84,
   "id": "e6950e6d",
   "metadata": {},
   "outputs": [],
   "source": [
    "low_cutoff_042 = cutoff.loc['keynote_042'].low"
   ]
  },
  {
   "cell_type": "code",
   "execution_count": 85,
   "id": "0b8124bd",
   "metadata": {},
   "outputs": [],
   "source": [
    "high_cutoff_042 = cutoff.loc['keynote_042'].high"
   ]
  },
  {
   "cell_type": "code",
   "execution_count": 86,
   "id": "94d872b4",
   "metadata": {},
   "outputs": [
    {
     "name": "stdout",
     "output_type": "stream",
     "text": [
      "Pembro total: 2914\n",
      "High risk: 1035\n",
      "Med risk: 983\n",
      "Low risk: 896\n"
     ]
    }
   ],
   "source": [
    "print('Pembro total:',  key_042.query('pembro == 1').shape[0])\n",
    "print('High risk:', key_042.query('pembro == 1').query('risk_score >= @high_cutoff_042').shape[0])\n",
    "print('Med risk:', key_042.query('pembro == 1').query('risk_score < @high_cutoff_042 and risk_score > @low_cutoff_042').shape[0])\n",
    "print('Low risk:', key_042.query('pembro == 1').query('risk_score <= @low_cutoff_042').shape[0])"
   ]
  },
  {
   "cell_type": "code",
   "execution_count": 87,
   "id": "c6246160",
   "metadata": {},
   "outputs": [
    {
     "name": "stdout",
     "output_type": "stream",
     "text": [
      "Platinum total: 1077\n",
      "High risk: 372\n",
      "Med risk: 370\n",
      "Low risk: 335\n"
     ]
    }
   ],
   "source": [
    "print('Platinum total:',  key_042.query('pembro == 0').shape[0])\n",
    "print('High risk:', key_042.query('pembro == 0').query('risk_score >= @high_cutoff_042').shape[0])\n",
    "print('Med risk:', key_042.query('pembro == 0').query('risk_score < @high_cutoff_042 and risk_score > @low_cutoff_042').shape[0])\n",
    "print('Low risk:', key_042.query('pembro == 0').query('risk_score <= @low_cutoff_042').shape[0])"
   ]
  },
  {
   "cell_type": "markdown",
   "id": "24fd5f9c",
   "metadata": {},
   "source": [
    "#### Survival curves with covariate balancing"
   ]
  },
  {
   "cell_type": "code",
   "execution_count": 88,
   "id": "73e78f7e",
   "metadata": {},
   "outputs": [
    {
     "data": {
      "text/plain": [
       "(3991, 3991)"
      ]
     },
     "execution_count": 88,
     "metadata": {},
     "output_type": "execute_result"
    }
   ],
   "source": [
    "row_ID(key_042)"
   ]
  },
  {
   "cell_type": "code",
   "execution_count": 89,
   "id": "92aae1df",
   "metadata": {},
   "outputs": [],
   "source": [
    "key_042 = pd.merge(key_042, pdl1_value, on = 'PatientID', how = 'left')"
   ]
  },
  {
   "cell_type": "code",
   "execution_count": 90,
   "id": "b361cd30",
   "metadata": {},
   "outputs": [
    {
     "data": {
      "text/plain": [
       "(3991, 3991)"
      ]
     },
     "execution_count": 90,
     "metadata": {},
     "output_type": "execute_result"
    }
   ],
   "source": [
    "row_ID(key_042)"
   ]
  },
  {
   "cell_type": "code",
   "execution_count": 91,
   "id": "ebf900f6",
   "metadata": {},
   "outputs": [],
   "source": [
    "conditions = [\n",
    "    (key_042['PercentStaining'] == \"1%\") | \n",
    "    (key_042['PercentStaining'] == \"2% - 4%\") |\n",
    "    (key_042['PercentStaining'] == \"5% - 9%\") |\n",
    "    (key_042['PercentStaining'] == \"10% - 19%\") |\n",
    "    (key_042['PercentStaining'] == \"20% - 29%\") |\n",
    "    (key_042['PercentStaining'] == \"30% - 39%\") |\n",
    "    (key_042['PercentStaining'] == \"40% - 49%\") |\n",
    "    (key_042['PercentStaining'].isna())\n",
    "]\n",
    "\n",
    "choices = ['lt50']\n",
    "\n",
    "key_042['pdl1_det'] = np.select(conditions, choices, default = 'gte50')"
   ]
  },
  {
   "cell_type": "code",
   "execution_count": 92,
   "id": "7fe11c15",
   "metadata": {},
   "outputs": [],
   "source": [
    "key_042 = key_042.set_index('PatientID')"
   ]
  },
  {
   "cell_type": "code",
   "execution_count": 93,
   "id": "853c1e53",
   "metadata": {},
   "outputs": [],
   "source": [
    "key_042_iptw = key_042.filter(items = ['death_status',\n",
    "                                       'timerisk_treatment',\n",
    "                                       'pembro',\n",
    "                                       'age',\n",
    "                                       'gender',\n",
    "                                       'race',\n",
    "                                       'PracticeType',\n",
    "                                       'Histology',\n",
    "                                       'adv_year',\n",
    "                                       'delta_adv_diagnosis',\n",
    "                                       'commercial',\n",
    "                                       'medicare',\n",
    "                                       'medicaid',\n",
    "                                       'ecog_diagnosis',\n",
    "                                       'pdl1_det',\n",
    "                                       'risk_score'])"
   ]
  },
  {
   "cell_type": "code",
   "execution_count": 94,
   "id": "6386bcea",
   "metadata": {},
   "outputs": [],
   "source": [
    "key_042_iptw['met_cat'] = pd.cut(key_042_iptw['adv_year'],\n",
    "                                 bins = [2010, 2016, float('inf')],\n",
    "                                 labels = ['11-16', '17-21'])"
   ]
  },
  {
   "cell_type": "code",
   "execution_count": 95,
   "id": "f75bd216",
   "metadata": {},
   "outputs": [],
   "source": [
    "conditions = [\n",
    "    ((key_042_iptw['ecog_diagnosis'] == \"1.0\") | (key_042_iptw['ecog_diagnosis'] == \"0.0\")),  \n",
    "    ((key_042_iptw['ecog_diagnosis'] == \"2.0\") | (key_042_iptw['ecog_diagnosis'] == \"3.0\"))\n",
    "]\n",
    "\n",
    "choices = ['lt_2', 'gte_2']\n",
    "\n",
    "key_042_iptw['ecog_2'] = np.select(conditions, choices, default = 'unknown')"
   ]
  },
  {
   "cell_type": "code",
   "execution_count": 96,
   "id": "11faaa2f",
   "metadata": {
    "scrolled": true
   },
   "outputs": [
    {
     "data": {
      "text/plain": [
       "death_status               bool\n",
       "timerisk_treatment      float64\n",
       "pembro                    int64\n",
       "age                       int64\n",
       "gender                   object\n",
       "race                     object\n",
       "PracticeType             object\n",
       "Histology                object\n",
       "adv_year                  int64\n",
       "delta_adv_diagnosis       int64\n",
       "commercial              float64\n",
       "medicare                float64\n",
       "medicaid                float64\n",
       "ecog_diagnosis           object\n",
       "pdl1_det                 object\n",
       "risk_score              float64\n",
       "met_cat                category\n",
       "ecog_2                   object\n",
       "dtype: object"
      ]
     },
     "execution_count": 96,
     "metadata": {},
     "output_type": "execute_result"
    }
   ],
   "source": [
    "key_042_iptw.dtypes"
   ]
  },
  {
   "cell_type": "code",
   "execution_count": 97,
   "id": "e74a99a5",
   "metadata": {},
   "outputs": [],
   "source": [
    "to_be_categorical = list(key_042_iptw.select_dtypes(include = ['object']).columns)"
   ]
  },
  {
   "cell_type": "code",
   "execution_count": 98,
   "id": "5439e1eb",
   "metadata": {},
   "outputs": [
    {
     "data": {
      "text/plain": [
       "['gender',\n",
       " 'race',\n",
       " 'PracticeType',\n",
       " 'Histology',\n",
       " 'ecog_diagnosis',\n",
       " 'pdl1_det',\n",
       " 'ecog_2']"
      ]
     },
     "execution_count": 98,
     "metadata": {},
     "output_type": "execute_result"
    }
   ],
   "source": [
    "to_be_categorical"
   ]
  },
  {
   "cell_type": "code",
   "execution_count": 99,
   "id": "bf756c10",
   "metadata": {},
   "outputs": [],
   "source": [
    "to_be_categorical.append('met_cat')"
   ]
  },
  {
   "cell_type": "code",
   "execution_count": 100,
   "id": "bcb7c6d0",
   "metadata": {},
   "outputs": [],
   "source": [
    "to_be_categorical.remove('ecog_diagnosis')"
   ]
  },
  {
   "cell_type": "code",
   "execution_count": 101,
   "id": "0ec0b1c5",
   "metadata": {},
   "outputs": [],
   "source": [
    "# Convert variables in list to categorical.\n",
    "for x in list(to_be_categorical):\n",
    "    key_042_iptw[x] = key_042_iptw[x].astype('category')"
   ]
  },
  {
   "cell_type": "code",
   "execution_count": 102,
   "id": "72974db0",
   "metadata": {},
   "outputs": [],
   "source": [
    "# List of numeric variables, excluding binary variables. \n",
    "numerical_features = ['age', 'delta_adv_diagnosis']\n",
    "\n",
    "# Transformer will first calculate column median and impute, and then apply a standard scaler. \n",
    "numerical_transformer = Pipeline(steps = [\n",
    "    ('imputer', SimpleImputer(strategy = 'median')),\n",
    "    ('std_scaler', StandardScaler())])"
   ]
  },
  {
   "cell_type": "code",
   "execution_count": 103,
   "id": "eba3627c",
   "metadata": {},
   "outputs": [],
   "source": [
    "# List of categorical features.\n",
    "categorical_features = list(key_042_iptw.select_dtypes(include = ['category']).columns)\n",
    "\n",
    "# One-hot-encode categorical features.\n",
    "categorical_transformer = OneHotEncoder(handle_unknown = 'ignore')"
   ]
  },
  {
   "cell_type": "code",
   "execution_count": 104,
   "id": "8f2c085c",
   "metadata": {},
   "outputs": [],
   "source": [
    "preprocessor = ColumnTransformer(\n",
    "    transformers = [\n",
    "        ('num', numerical_transformer, numerical_features),\n",
    "        ('cat', categorical_transformer, categorical_features)],\n",
    "    remainder = 'passthrough')"
   ]
  },
  {
   "cell_type": "code",
   "execution_count": 105,
   "id": "2a31a98d",
   "metadata": {},
   "outputs": [],
   "source": [
    "key_042_iptw_low = (\n",
    "    key_042_iptw\n",
    "    .query('risk_score <= @low_cutoff_042')\n",
    "    .drop(columns = ['risk_score']))\n",
    "\n",
    "key_042_iptw_med = (\n",
    "    key_042_iptw\n",
    "    .query('risk_score < @high_cutoff_042 and risk_score > @low_cutoff_042')\n",
    "    .drop(columns = ['risk_score']))\n",
    "\n",
    "key_042_iptw_high = (\n",
    "    key_042_iptw\n",
    "    .query('risk_score >= @high_cutoff_042')\n",
    "    .drop(columns = ['risk_score']))\n",
    "\n",
    "key_042_iptw_all = (\n",
    "    key_042_iptw\n",
    "    .drop(columns = ['risk_score']))"
   ]
  },
  {
   "cell_type": "code",
   "execution_count": 106,
   "id": "b8be48a9",
   "metadata": {},
   "outputs": [],
   "source": [
    "key_042_low_x = preprocessor.fit_transform(key_042_iptw_low.filter(items = ['age',\n",
    "                                                                            'gender',\n",
    "                                                                            'race',\n",
    "                                                                            'PracticeType',\n",
    "                                                                            'Histology',\n",
    "                                                                            'met_cat',\n",
    "                                                                            'delta_adv_diagnosis',\n",
    "                                                                            'commercial',\n",
    "                                                                            'medicare',\n",
    "                                                                            'medicaid',\n",
    "                                                                            'ecog_2',\n",
    "                                                                            'pdl1_det']))\n",
    "\n",
    "key_042_med_x = preprocessor.fit_transform(key_042_iptw_med.filter(items = ['age',\n",
    "                                                                            'gender',\n",
    "                                                                            'race',\n",
    "                                                                            'PracticeType',\n",
    "                                                                            'Histology',\n",
    "                                                                            'met_cat',\n",
    "                                                                            'delta_adv_diagnosis',\n",
    "                                                                            'commercial',\n",
    "                                                                            'medicare',\n",
    "                                                                            'medicaid',\n",
    "                                                                            'ecog_2',\n",
    "                                                                            'pdl1_det']))\n",
    "\n",
    "key_042_high_x = preprocessor.fit_transform(key_042_iptw_high.filter(items = ['age',\n",
    "                                                                              'gender',\n",
    "                                                                              'race',\n",
    "                                                                              'PracticeType',\n",
    "                                                                              'Histology',\n",
    "                                                                              'met_cat',\n",
    "                                                                              'delta_adv_diagnosis',\n",
    "                                                                              'commercial',\n",
    "                                                                              'medicare',\n",
    "                                                                              'medicaid',\n",
    "                                                                              'ecog_2',\n",
    "                                                                              'pdl1_det']))\n",
    "\n",
    "key_042_all_x = preprocessor.fit_transform(key_042_iptw_all.filter(items = ['age',\n",
    "                                                                            'gender',\n",
    "                                                                            'race',\n",
    "                                                                            'PracticeType',\n",
    "                                                                            'Histology',\n",
    "                                                                            'met_cat',\n",
    "                                                                            'delta_adv_diagnosis',\n",
    "                                                                            'commercial',\n",
    "                                                                            'medicare',\n",
    "                                                                            'medicaid',\n",
    "                                                                            'ecog_2',\n",
    "                                                                            'pdl1_det']))"
   ]
  },
  {
   "cell_type": "code",
   "execution_count": 107,
   "id": "d3b50afe",
   "metadata": {},
   "outputs": [
    {
     "data": {
      "text/plain": [
       "LogisticRegression(max_iter=1000)"
      ]
     },
     "execution_count": 107,
     "metadata": {},
     "output_type": "execute_result"
    }
   ],
   "source": [
    "lr_042_low = LogisticRegression(max_iter = 1000)\n",
    "lr_042_low.fit(key_042_low_x, key_042_iptw_low['pembro'])"
   ]
  },
  {
   "cell_type": "code",
   "execution_count": 108,
   "id": "24e064a4",
   "metadata": {},
   "outputs": [
    {
     "data": {
      "text/plain": [
       "LogisticRegression(max_iter=1000)"
      ]
     },
     "execution_count": 108,
     "metadata": {},
     "output_type": "execute_result"
    }
   ],
   "source": [
    "lr_042_med = LogisticRegression(max_iter = 1000)\n",
    "lr_042_med.fit(key_042_med_x, key_042_iptw_med['pembro'])"
   ]
  },
  {
   "cell_type": "code",
   "execution_count": 109,
   "id": "17293ee1",
   "metadata": {},
   "outputs": [
    {
     "data": {
      "text/plain": [
       "LogisticRegression(max_iter=1000)"
      ]
     },
     "execution_count": 109,
     "metadata": {},
     "output_type": "execute_result"
    }
   ],
   "source": [
    "lr_042_high = LogisticRegression(max_iter = 1000)\n",
    "lr_042_high.fit(key_042_high_x, key_042_iptw_high['pembro'])"
   ]
  },
  {
   "cell_type": "code",
   "execution_count": 110,
   "id": "ab5dfa47",
   "metadata": {},
   "outputs": [
    {
     "data": {
      "text/plain": [
       "LogisticRegression(max_iter=1000)"
      ]
     },
     "execution_count": 110,
     "metadata": {},
     "output_type": "execute_result"
    }
   ],
   "source": [
    "lr_042_all = LogisticRegression(max_iter = 1000)\n",
    "lr_042_all.fit(key_042_all_x, key_042_iptw_all['pembro'])"
   ]
  },
  {
   "cell_type": "code",
   "execution_count": 111,
   "id": "39dd9ad8",
   "metadata": {},
   "outputs": [],
   "source": [
    "pred_low = lr_042_low.predict_proba(key_042_low_x)\n",
    "pred_med = lr_042_med.predict_proba(key_042_med_x)\n",
    "pred_high = lr_042_high.predict_proba(key_042_high_x)\n",
    "pred_all = lr_042_all.predict_proba(key_042_all_x)"
   ]
  },
  {
   "cell_type": "code",
   "execution_count": 112,
   "id": "83590698",
   "metadata": {},
   "outputs": [],
   "source": [
    "key_042_iptw_low['ps'] = pred_low[:, 1]\n",
    "key_042_iptw_med['ps'] = pred_med[:, 1]\n",
    "key_042_iptw_high['ps'] = pred_high[:, 1]\n",
    "key_042_iptw_all['ps'] = pred_all[:, 1]"
   ]
  },
  {
   "cell_type": "code",
   "execution_count": 113,
   "id": "357d301f",
   "metadata": {},
   "outputs": [],
   "source": [
    "key_042_iptw_low['weight'] = (\n",
    "    np.where(key_042_iptw_low['pembro'] == 1, 1/key_042_iptw_low['ps'], 1/(1 - key_042_iptw_low['ps'])))\n",
    "\n",
    "key_042_iptw_med['weight'] = (\n",
    "    np.where(key_042_iptw_med['pembro'] == 1, 1/key_042_iptw_med['ps'], 1/(1 - key_042_iptw_med['ps'])))\n",
    "\n",
    "key_042_iptw_high['weight'] = (\n",
    "    np.where(key_042_iptw_high['pembro'] == 1, 1/key_042_iptw_high['ps'], 1/(1 - key_042_iptw_high['ps'])))\n",
    "\n",
    "key_042_iptw_all['weight'] = (\n",
    "    np.where(key_042_iptw_all['pembro'] == 1, 1/key_042_iptw_all['ps'], 1/(1 - key_042_iptw_all['ps'])))"
   ]
  },
  {
   "cell_type": "code",
   "execution_count": 114,
   "id": "8b1936ff",
   "metadata": {},
   "outputs": [
    {
     "name": "stderr",
     "output_type": "stream",
     "text": [
      "/Users/xavierorcutt/Dropbox/ist_project/myenv/lib/python3.7/site-packages/lifelines/fitters/kaplan_meier_fitter.py:344: StatisticalWarning: It looks like your weights are not integers, possibly propensity scores then?\n",
      "  It's important to know that the naive variance estimates of the coefficients are biased. Instead use Monte Carlo to\n",
      "  estimate the variances. See paper \"Variance estimation when using inverse probability of treatment weighting (IPTW) with survival analysis\"\n",
      "  or \"Adjusted Kaplan-Meier estimator and log-rank test with inverse probability of treatment weighting for survival data.\"\n",
      "                  \n",
      "  StatisticalWarning,\n"
     ]
    },
    {
     "data": {
      "text/plain": [
       "<lifelines.KaplanMeierFitter:\"KM_estimate\", fitted with 3755.24 total observations, 1445.84 right-censored observations>"
      ]
     },
     "execution_count": 114,
     "metadata": {},
     "output_type": "execute_result"
    }
   ],
   "source": [
    "# Low KM curves\n",
    "kmf_low_pembro_042_iptw = KaplanMeierFitter()\n",
    "kmf_low_plat_042_iptw = KaplanMeierFitter()\n",
    "\n",
    "kmf_low_pembro_042_iptw.fit(\n",
    "    key_042_iptw_low.query('pembro == 1').timerisk_treatment/30,\n",
    "    key_042_iptw_low.query('pembro == 1').death_status,\n",
    "    weights = key_042_iptw_low.query('pembro == 1')['weight'])\n",
    "\n",
    "kmf_low_plat_042_iptw.fit(\n",
    "    key_042_iptw_low.query('pembro == 0').timerisk_treatment/30,\n",
    "    key_042_iptw_low.query('pembro == 0').death_status,\n",
    "    weights = key_042_iptw_low.query('pembro == 0')['weight'])\n",
    "\n",
    "# Med KM curves\n",
    "kmf_med_pembro_042_iptw = KaplanMeierFitter()\n",
    "kmf_med_plat_042_iptw = KaplanMeierFitter()\n",
    "\n",
    "kmf_med_pembro_042_iptw.fit(\n",
    "    key_042_iptw_med.query('pembro == 1').timerisk_treatment/30,\n",
    "    key_042_iptw_med.query('pembro == 1').death_status,\n",
    "    weights = key_042_iptw_med.query('pembro == 1')['weight'])\n",
    "\n",
    "kmf_med_plat_042_iptw.fit(\n",
    "    key_042_iptw_med.query('pembro == 0').timerisk_treatment/30,\n",
    "    key_042_iptw_med.query('pembro == 0').death_status,\n",
    "    weights = key_042_iptw_med.query('pembro == 0')['weight'])\n",
    "\n",
    "# High KM curves \n",
    "kmf_high_pembro_042_iptw = KaplanMeierFitter()\n",
    "kmf_high_plat_042_iptw = KaplanMeierFitter()\n",
    "\n",
    "kmf_high_pembro_042_iptw.fit(\n",
    "    key_042_iptw_high.query('pembro == 1').timerisk_treatment/30,\n",
    "    key_042_iptw_high.query('pembro == 1').death_status,\n",
    "    weights = key_042_iptw_high.query('pembro == 1')['weight'])\n",
    "\n",
    "kmf_high_plat_042_iptw.fit(\n",
    "    key_042_iptw_high.query('pembro == 0').timerisk_treatment/30,\n",
    "    key_042_iptw_high.query('pembro == 0').death_status,\n",
    "    weights = key_042_iptw_high.query('pembro == 0')['weight'])\n",
    "\n",
    "# All KM curves \n",
    "kmf_all_pembro_042_iptw = KaplanMeierFitter()\n",
    "kmf_all_plat_042_iptw = KaplanMeierFitter()\n",
    "\n",
    "kmf_all_pembro_042_iptw.fit(\n",
    "    key_042_iptw_all.query('pembro == 1').timerisk_treatment/30,\n",
    "    key_042_iptw_all.query('pembro == 1').death_status,\n",
    "    weights = key_042_iptw_all.query('pembro == 1')['weight'])\n",
    "\n",
    "kmf_all_plat_042_iptw.fit(\n",
    "    key_042_iptw_all.query('pembro == 0').timerisk_treatment/30,\n",
    "    key_042_iptw_all.query('pembro == 0').death_status,\n",
    "    weights = key_042_iptw_all.query('pembro == 0')['weight'])"
   ]
  },
  {
   "cell_type": "code",
   "execution_count": 115,
   "id": "38738ca0",
   "metadata": {
    "scrolled": true
   },
   "outputs": [
    {
     "data": {
      "image/png": "[encoded data removed]",
      "text/plain": [
       "<Figure size 1800x600 with 8 Axes>"
      ]
     },
     "metadata": {},
     "output_type": "display_data"
    }
   ],
   "source": [
    "fig = plt.figure(figsize=(18, 6))\n",
    "\n",
    "# Plot survival curves for low risk group \n",
    "plt.subplot(1, 4, 1)\n",
    "\n",
    "plt.step(kmf_low_pembro_042_iptw.timeline, kmf_low_pembro_042_iptw.survival_function_.values*100, color = 'red', alpha = 0.5)\n",
    "\n",
    "plt.step(kmf_low_plat_042_iptw.timeline, kmf_low_plat_042_iptw.survival_function_.values*100, color = 'black', alpha = 0.5)\n",
    "\n",
    "plt.xticks(np.arange(0, 43, 6))\n",
    "plt.xlim(0, 43)\n",
    "plt.ylim(0, 100)\n",
    "\n",
    "plt.title('Low-risk', weight = 'bold')\n",
    "plt.ylabel('Overall survival (%)', size = 12, weight = 'bold')\n",
    "\n",
    "plt.gca().spines['top'].set_visible(False)\n",
    "plt.gca().spines['right'].set_visible(False)\n",
    "\n",
    "add_at_risk_counts(kmf_low_pembro_042_iptw, kmf_low_plat_042_iptw, ypos = -0.8, xticks = np.arange(6, 43, 6), labels = ['Pembrolizumab', 'Chemotherapy'])\n",
    "\n",
    "# Plot survival curves for med risk group. \n",
    "plt.subplot(1, 4, 2)\n",
    "\n",
    "plt.step(kmf_med_pembro_042_iptw.timeline, kmf_med_pembro_042_iptw.survival_function_.values*100, color = 'red', alpha = 0.5)\n",
    "\n",
    "plt.step(kmf_med_plat_042_iptw.timeline, kmf_med_plat_042_iptw.survival_function_.values*100, color = 'black', alpha = 0.5)\n",
    "\n",
    "plt.xticks(np.arange(0, 43, 6))\n",
    "plt.xlim(0, 43)\n",
    "plt.ylim(0, 100)\n",
    "\n",
    "plt.title('Med-risk', weight = 'bold')\n",
    "\n",
    "plt.gca().spines['top'].set_visible(False)\n",
    "plt.gca().spines['right'].set_visible(False)\n",
    "\n",
    "add_at_risk_counts(kmf_med_pembro_042_iptw, kmf_med_plat_042_iptw, ypos = -0.8, xticks = np.arange(6, 43, 6), labels = [' ', ' '])\n",
    "\n",
    "# Plot survival curves by treatment for high risk group. \n",
    "plt.subplot(1, 4, 3)\n",
    "\n",
    "plt.step(kmf_high_pembro_042_iptw.timeline, kmf_high_pembro_042_iptw.survival_function_.values*100, color = 'red', alpha = 0.5)\n",
    "\n",
    "plt.step(kmf_high_plat_042_iptw.timeline, kmf_high_plat_042_iptw.survival_function_.values*100, color = 'black', alpha = 0.5)\n",
    "\n",
    "plt.xticks(np.arange(0, 43, 6))\n",
    "plt.xlim(0, 43)\n",
    "plt.ylim(0, 100)\n",
    "\n",
    "plt.title('High-risk', weight = 'bold')\n",
    "\n",
    "plt.gca().spines['top'].set_visible(False)\n",
    "plt.gca().spines['right'].set_visible(False)\n",
    "\n",
    "add_at_risk_counts(kmf_high_pembro_042_iptw, kmf_high_plat_042_iptw, ypos = -0.8, xticks = np.arange(6, 43, 6), labels = [' ', ' '])\n",
    "\n",
    "# Plot survival curves by treatment for all risk group. \n",
    "plt.subplot(1, 4, 4)\n",
    "\n",
    "plt.step(kmf_all_pembro_042_iptw.timeline, kmf_all_pembro_042_iptw.survival_function_.values*100, color = 'red', alpha = 0.5, label = 'Pembrolizumab')\n",
    "\n",
    "plt.step(kmf_all_plat_042_iptw.timeline, kmf_all_plat_042_iptw.survival_function_.values*100, color = 'black', alpha = 0.5, label = 'Chemotherapy')\n",
    "\n",
    "plt.xticks(np.arange(0, 43, 6))\n",
    "plt.xlim(0, 43)\n",
    "plt.ylim(0, 100)\n",
    "\n",
    "plt.title('Full cohort', weight = 'bold')\n",
    "\n",
    "plt.gca().spines['top'].set_visible(False)\n",
    "plt.gca().spines['right'].set_visible(False)\n",
    "\n",
    "plt.legend(loc = 'center right', prop = {'size': 9})\n",
    "\n",
    "fig.add_subplot(1, 1, 1, frameon = False)\n",
    "plt.tick_params(labelcolor = 'none', which = 'both', top = False, bottom = False, left = False, right = False)\n",
    "plt.xlabel('Months after treatment', labelpad = 15, size = 12, weight = 'bold')\n",
    "plt.title(r'KEYNOTE-042: Overall survival for pembrolizumab vs. chemotherapy for PDL1$\\geq$1%', pad = 40, size = 15, weight = 'bold')\n",
    "\n",
    "plt.show()"
   ]
  },
  {
   "cell_type": "markdown",
   "id": "c0fc9183",
   "metadata": {},
   "source": [
    "### KEYNOTE-024: First-line pembrolizumab vs. platinum-based chemotherapy in those with high PDL1 \n",
    "\n",
    "**INCLUSION CRITERIA**\n",
    "* Untreated aNSCLC\n",
    "* Received first line pemobrolizumab or platinum-based chemotherapy \n",
    "* Received appropriate dose of platinum-based chemotherapy\n",
    "* PDL1 >= 50% and status known within (-inf, +30] days of start of first-line treatment \n",
    "* EGFR and ALK negatve"
   ]
  },
  {
   "cell_type": "markdown",
   "id": "3de950a8",
   "metadata": {},
   "source": [
    "#### Pembrolizumab"
   ]
  },
  {
   "cell_type": "code",
   "execution_count": 116,
   "id": "51f6e587",
   "metadata": {},
   "outputs": [
    {
     "data": {
      "text/plain": [
       "68483"
      ]
     },
     "execution_count": 116,
     "metadata": {},
     "output_type": "execute_result"
    }
   ],
   "source": [
    "df_full = pd.read_csv('df_risk_crude.csv', index_col = 'PatientID', dtype = {'death_status': bool})\n",
    "df_full.index.nunique()"
   ]
  },
  {
   "cell_type": "code",
   "execution_count": 117,
   "id": "c5223be3",
   "metadata": {},
   "outputs": [],
   "source": [
    "line_therapy = pd.read_csv('LineOfTherapy.csv')"
   ]
  },
  {
   "cell_type": "code",
   "execution_count": 118,
   "id": "7e701a55",
   "metadata": {},
   "outputs": [],
   "source": [
    "key024_pembro = (\n",
    "    line_therapy[line_therapy['PatientID'].isin(df_full.index)]\n",
    "    .query('LineNumber == 1')\n",
    "    .query('IsMaintenanceTherapy == False')\n",
    "    .query('LineName == \"Pembrolizumab\"')\n",
    "    [['PatientID', 'StartDate']]\n",
    ")"
   ]
  },
  {
   "cell_type": "code",
   "execution_count": 119,
   "id": "2ac2113c",
   "metadata": {},
   "outputs": [],
   "source": [
    "key024_pembro.loc[:, 'pembro'] = 1"
   ]
  },
  {
   "cell_type": "code",
   "execution_count": 120,
   "id": "312b9d3b",
   "metadata": {},
   "outputs": [
    {
     "data": {
      "text/plain": [
       "(3648, 3648)"
      ]
     },
     "execution_count": 120,
     "metadata": {},
     "output_type": "execute_result"
    }
   ],
   "source": [
    "row_ID(key024_pembro)"
   ]
  },
  {
   "cell_type": "code",
   "execution_count": 121,
   "id": "07741349",
   "metadata": {},
   "outputs": [],
   "source": [
    "# Dataframe of all therapies received for those receiving first line pembrolizumab only. \n",
    "line_therapy_pembro_024 = (\n",
    "    line_therapy[line_therapy['PatientID'].isin(key024_pembro.PatientID)])"
   ]
  },
  {
   "cell_type": "code",
   "execution_count": 122,
   "id": "2ef5464d",
   "metadata": {},
   "outputs": [],
   "source": [
    "targeted = [\n",
    "    'Afatinib',\n",
    "    'Alectinib',\n",
    "    'Brigatinib',\n",
    "    'Cabozantinib',\n",
    "    'Capmatinib',\n",
    "    'Ceritinib',\n",
    "    'Crizotinib',\n",
    "    'Dabrafenib',\n",
    "    'Dacomitinib',\n",
    "    'Entrectinib',\n",
    "    'Erlotinib',\n",
    "    'Gefitinib',\n",
    "    'Lorlatinib',\n",
    "    'Osimertinib',\n",
    "    'Pralsetinib',\n",
    "    'Selpercatinib',\n",
    "    'Sotorasib',\n",
    "    'Tepotinib',\n",
    "    'Trametinib',\n",
    "    'Vandetanib']"
   ]
  },
  {
   "cell_type": "code",
   "execution_count": 123,
   "id": "0dc91629",
   "metadata": {},
   "outputs": [],
   "source": [
    "# Patients receiving pembrolizumab therapy who later recieve targeted therapy. \n",
    "pembro_024_xcross = (\n",
    "    line_therapy_pembro_024[line_therapy_pembro_024['LineName'].str.contains('|'.join(targeted))].PatientID)"
   ]
  },
  {
   "cell_type": "code",
   "execution_count": 124,
   "id": "d6a5e349",
   "metadata": {},
   "outputs": [],
   "source": [
    "# Select patients who don't receive targeted therapy in future lines.\n",
    "key024_pembro = key024_pembro[~key024_pembro['PatientID'].isin(pembro_024_xcross)]"
   ]
  },
  {
   "cell_type": "code",
   "execution_count": 125,
   "id": "110981c4",
   "metadata": {},
   "outputs": [
    {
     "data": {
      "text/plain": [
       "(3582, 3582)"
      ]
     },
     "execution_count": 125,
     "metadata": {},
     "output_type": "execute_result"
    }
   ],
   "source": [
    "row_ID(key024_pembro)"
   ]
  },
  {
   "cell_type": "markdown",
   "id": "fdbb3b63",
   "metadata": {},
   "source": [
    "#### Platinum-based chemotherapy "
   ]
  },
  {
   "cell_type": "code",
   "execution_count": 126,
   "id": "55fb8a1f",
   "metadata": {},
   "outputs": [],
   "source": [
    "line_therapy_fl = (\n",
    "    line_therapy[line_therapy['PatientID'].isin(df_full.index)]\n",
    "    .query('LineNumber == 1')\n",
    "    .query('IsMaintenanceTherapy == False')\n",
    ")"
   ]
  },
  {
   "cell_type": "code",
   "execution_count": 127,
   "id": "19a6ff92",
   "metadata": {},
   "outputs": [],
   "source": [
    "plat_chemo = [\n",
    "    'Carboplatin',\n",
    "    'Cisplatin']\n",
    "\n",
    "immuno = [\n",
    "    'Atezolizumab',\n",
    "    'Cemiplimab',\n",
    "    'Durvalumab',\n",
    "    'Ipilimumab',\n",
    "    'Nivolumab',\n",
    "    'Pembrolizumab'\n",
    "]"
   ]
  },
  {
   "cell_type": "code",
   "execution_count": 128,
   "id": "6c40f910",
   "metadata": {},
   "outputs": [
    {
     "data": {
      "text/plain": [
       "Carboplatin,Paclitaxel                  8524\n",
       "Carboplatin,Pemetrexed                  5417\n",
       "Bevacizumab,Carboplatin,Pemetrexed      2825\n",
       "Carboplatin,Paclitaxel Protein-Bound    1826\n",
       "Bevacizumab,Carboplatin,Paclitaxel      1591\n",
       "Carboplatin,Gemcitabine                 1224\n",
       "Cisplatin,Etoposide                      793\n",
       "Carboplatin,Docetaxel                    780\n",
       "Cisplatin,Pemetrexed                     684\n",
       "Carboplatin,Etoposide                    363\n",
       "Name: LineName, dtype: int64"
      ]
     },
     "execution_count": 128,
     "metadata": {},
     "output_type": "execute_result"
    }
   ],
   "source": [
    "line_therapy_fl[line_therapy_fl['LineName'].str.contains('|'.join(plat_chemo)) & \n",
    "                ~line_therapy_fl['LineName'].str.contains('|'.join(immuno)) &\n",
    "                ~line_therapy_fl['LineName'].str.contains('|'.join(targeted)) &\n",
    "                ~line_therapy_fl['LineName'].str.contains('Clinical Study Drug')].LineName.value_counts().head(10)"
   ]
  },
  {
   "cell_type": "code",
   "execution_count": 129,
   "id": "ec44e7ae",
   "metadata": {},
   "outputs": [],
   "source": [
    "key024_carb = (\n",
    "    line_therapy_fl[line_therapy_fl['LineName'].str.contains('Carboplatin') & \n",
    "                    ~line_therapy_fl['LineName'].str.contains('|'.join(immuno)) &\n",
    "                    ~line_therapy_fl['LineName'].str.contains('|'.join(targeted)) &\n",
    "                    ~line_therapy_fl['LineName'].str.contains('Clinical Study Drug')]\n",
    "    [['PatientID', 'StartDate']]\n",
    ")"
   ]
  },
  {
   "cell_type": "code",
   "execution_count": 130,
   "id": "91af396c",
   "metadata": {},
   "outputs": [],
   "source": [
    "key024_carb.loc[:, 'carb'] = 1"
   ]
  },
  {
   "cell_type": "code",
   "execution_count": 131,
   "id": "7cb9f46e",
   "metadata": {},
   "outputs": [],
   "source": [
    "key024_cis = (\n",
    "    line_therapy_fl[line_therapy_fl['LineName'].str.contains('Cisplatin') & \n",
    "                    ~line_therapy_fl['LineName'].str.contains('|'.join(immuno)) &\n",
    "                    ~line_therapy_fl['LineName'].str.contains('|'.join(targeted)) &\n",
    "                    ~line_therapy_fl['LineName'].str.contains('Clinical Study Drug')]\n",
    "    [['PatientID', 'StartDate']]\n",
    ")"
   ]
  },
  {
   "cell_type": "code",
   "execution_count": 132,
   "id": "c0456f9b",
   "metadata": {},
   "outputs": [],
   "source": [
    "key024_cis.loc[:, 'carb'] = 0"
   ]
  },
  {
   "cell_type": "code",
   "execution_count": 133,
   "id": "ae7f1963",
   "metadata": {},
   "outputs": [],
   "source": [
    "key024_plat = pd.concat([key024_carb, key024_cis])"
   ]
  },
  {
   "cell_type": "code",
   "execution_count": 134,
   "id": "5e799734",
   "metadata": {},
   "outputs": [],
   "source": [
    "key024_plat.loc[:, 'pembro'] = 0"
   ]
  },
  {
   "cell_type": "code",
   "execution_count": 135,
   "id": "dda6cc6f",
   "metadata": {},
   "outputs": [
    {
     "data": {
      "text/plain": [
       "(25861, 25861)"
      ]
     },
     "execution_count": 135,
     "metadata": {},
     "output_type": "execute_result"
    }
   ],
   "source": [
    "row_ID(key024_plat)"
   ]
  },
  {
   "cell_type": "code",
   "execution_count": 136,
   "id": "1d46afcc",
   "metadata": {},
   "outputs": [],
   "source": [
    "# Dataframe of all therapies received for those receiving first line platinum regimen   \n",
    "line_therapy_plat_024 = (\n",
    "    line_therapy[line_therapy['PatientID'].isin(key024_plat.PatientID)])"
   ]
  },
  {
   "cell_type": "code",
   "execution_count": 137,
   "id": "e9296144",
   "metadata": {},
   "outputs": [],
   "source": [
    "# Patients receiving platinum therapy who later recieve targeted therapy. \n",
    "plat_024_xcross = (\n",
    "    line_therapy_plat_024[line_therapy_plat_024['LineName'].str.contains('|'.join(targeted))].PatientID)"
   ]
  },
  {
   "cell_type": "code",
   "execution_count": 138,
   "id": "8a9e2360",
   "metadata": {},
   "outputs": [],
   "source": [
    "# Select patients who don't receive targeted therapy in future lines \n",
    "key024_plat = key024_plat[~key024_plat['PatientID'].isin(plat_024_xcross)]"
   ]
  },
  {
   "cell_type": "code",
   "execution_count": 139,
   "id": "12815b8d",
   "metadata": {},
   "outputs": [
    {
     "data": {
      "text/plain": [
       "(23800, 23800)"
      ]
     },
     "execution_count": 139,
     "metadata": {},
     "output_type": "execute_result"
    }
   ],
   "source": [
    "row_ID(key024_plat)"
   ]
  },
  {
   "cell_type": "markdown",
   "id": "fd7c583b",
   "metadata": {},
   "source": [
    "#### Platinum-based chemotherapy dosing"
   ]
  },
  {
   "cell_type": "markdown",
   "id": "357fb238",
   "metadata": {},
   "source": [
    "#### Carboplatin"
   ]
  },
  {
   "cell_type": "code",
   "execution_count": 140,
   "id": "6af3738b",
   "metadata": {},
   "outputs": [],
   "source": [
    "med_order = pd.read_csv('MedicationOrder.csv', low_memory = False)"
   ]
  },
  {
   "cell_type": "code",
   "execution_count": 141,
   "id": "ba51fc03",
   "metadata": {},
   "outputs": [],
   "source": [
    "med_order['ExpectedStartDate'] = np.where(med_order['ExpectedStartDate'].isna(), \n",
    "                                          med_order['OrderedDate'], \n",
    "                                          med_order['ExpectedStartDate'])"
   ]
  },
  {
   "cell_type": "code",
   "execution_count": 142,
   "id": "0eead873",
   "metadata": {},
   "outputs": [],
   "source": [
    "med_order.loc[:, 'ExpectedStartDate'] = pd.to_datetime(med_order['ExpectedStartDate'])"
   ]
  },
  {
   "cell_type": "code",
   "execution_count": 143,
   "id": "d93f3e07",
   "metadata": {},
   "outputs": [],
   "source": [
    "key024_plat.loc[:, 'StartDate'] = pd.to_datetime(key024_plat['StartDate'])"
   ]
  },
  {
   "cell_type": "code",
   "execution_count": 144,
   "id": "0c5d69b4",
   "metadata": {},
   "outputs": [],
   "source": [
    "med_order_carb = (\n",
    "    med_order[med_order['PatientID'].isin(key024_plat.query('carb == 1').PatientID)]\n",
    "    .query('CommonDrugName == \"carboplatin\"')\n",
    ")"
   ]
  },
  {
   "cell_type": "code",
   "execution_count": 145,
   "id": "c48d59c9",
   "metadata": {},
   "outputs": [
    {
     "data": {
      "text/plain": [
       "(147262, 18)"
      ]
     },
     "execution_count": 145,
     "metadata": {},
     "output_type": "execute_result"
    }
   ],
   "source": [
    "med_order_carb.shape"
   ]
  },
  {
   "cell_type": "code",
   "execution_count": 146,
   "id": "61990547",
   "metadata": {},
   "outputs": [],
   "source": [
    "med_order_carb = pd.merge(med_order_carb, \n",
    "                          key024_plat.query('carb == 1')[['PatientID', 'StartDate']], \n",
    "                          on = 'PatientID', \n",
    "                          how = 'left')"
   ]
  },
  {
   "cell_type": "code",
   "execution_count": 147,
   "id": "1717c661",
   "metadata": {},
   "outputs": [
    {
     "data": {
      "text/plain": [
       "(147262, 19)"
      ]
     },
     "execution_count": 147,
     "metadata": {},
     "output_type": "execute_result"
    }
   ],
   "source": [
    "med_order_carb.shape"
   ]
  },
  {
   "cell_type": "code",
   "execution_count": 148,
   "id": "b078522d",
   "metadata": {},
   "outputs": [],
   "source": [
    "med_order_carb.loc[:, 'date_diff'] = (med_order_carb['ExpectedStartDate'] - med_order_carb['StartDate']).dt.days.abs()"
   ]
  },
  {
   "cell_type": "code",
   "execution_count": 149,
   "id": "e47dfe75",
   "metadata": {},
   "outputs": [],
   "source": [
    "med_order_carb = med_order_carb.query('date_diff <= 14')"
   ]
  },
  {
   "cell_type": "code",
   "execution_count": 150,
   "id": "15c07b8d",
   "metadata": {},
   "outputs": [],
   "source": [
    "carb_index = med_order_carb.groupby('PatientID')['date_diff'].idxmin()"
   ]
  },
  {
   "cell_type": "code",
   "execution_count": 151,
   "id": "61b23cbf",
   "metadata": {},
   "outputs": [],
   "source": [
    "carb_dose = med_order_carb.loc[carb_index].query('RelativeOrderedUnits == \"AUC\"')[['PatientID', 'RelativeOrderedAmount']]"
   ]
  },
  {
   "cell_type": "code",
   "execution_count": 152,
   "id": "6bb1eaea",
   "metadata": {},
   "outputs": [],
   "source": [
    "carb_dose = carb_dose.rename(columns = {'RelativeOrderedAmount': 'carb_dose_auc'})"
   ]
  },
  {
   "cell_type": "code",
   "execution_count": 153,
   "id": "2efa2f2c",
   "metadata": {},
   "outputs": [],
   "source": [
    "carb_IDs = carb_dose.query('carb_dose_auc >= 4').PatientID"
   ]
  },
  {
   "cell_type": "markdown",
   "id": "f596a037",
   "metadata": {},
   "source": [
    "#### Cisplatin"
   ]
  },
  {
   "cell_type": "code",
   "execution_count": 154,
   "id": "9904082f",
   "metadata": {},
   "outputs": [],
   "source": [
    "med_order_cis = (\n",
    "    med_order[med_order['PatientID'].isin(key024_plat.query('carb == 0').PatientID)]\n",
    "    .query('CommonDrugName == \"cisplatin\"')\n",
    ")"
   ]
  },
  {
   "cell_type": "code",
   "execution_count": 155,
   "id": "9f72da0c",
   "metadata": {},
   "outputs": [
    {
     "data": {
      "text/plain": [
       "(10521, 18)"
      ]
     },
     "execution_count": 155,
     "metadata": {},
     "output_type": "execute_result"
    }
   ],
   "source": [
    "med_order_cis.shape"
   ]
  },
  {
   "cell_type": "code",
   "execution_count": 156,
   "id": "215902e8",
   "metadata": {},
   "outputs": [],
   "source": [
    "med_order_cis = pd.merge(med_order_cis,\n",
    "                         key024_plat.query('carb == 0')[['PatientID', 'StartDate']], \n",
    "                         on = 'PatientID', \n",
    "                         how = 'left')"
   ]
  },
  {
   "cell_type": "code",
   "execution_count": 157,
   "id": "848bc8b9",
   "metadata": {},
   "outputs": [
    {
     "data": {
      "text/plain": [
       "(10521, 19)"
      ]
     },
     "execution_count": 157,
     "metadata": {},
     "output_type": "execute_result"
    }
   ],
   "source": [
    "med_order_cis.shape"
   ]
  },
  {
   "cell_type": "code",
   "execution_count": 158,
   "id": "6032a1fd",
   "metadata": {},
   "outputs": [],
   "source": [
    "med_order_cis.loc[:, 'date_diff'] = (med_order_cis['ExpectedStartDate'] - med_order_cis['StartDate']).dt.days.abs()"
   ]
  },
  {
   "cell_type": "code",
   "execution_count": 159,
   "id": "08a51da6",
   "metadata": {},
   "outputs": [],
   "source": [
    "med_order_cis = med_order_cis.query('date_diff <= 14')"
   ]
  },
  {
   "cell_type": "code",
   "execution_count": 160,
   "id": "e669a4c4",
   "metadata": {},
   "outputs": [],
   "source": [
    "cis_index = med_order_cis.groupby('PatientID')['date_diff'].idxmin()"
   ]
  },
  {
   "cell_type": "code",
   "execution_count": 161,
   "id": "0e958320",
   "metadata": {},
   "outputs": [],
   "source": [
    "cis_dose = med_order_cis.loc[cis_index].query('RelativeOrderedUnits == \"mg/m2\"')[['PatientID', 'RelativeOrderedAmount']]"
   ]
  },
  {
   "cell_type": "code",
   "execution_count": 162,
   "id": "ddadfc8a",
   "metadata": {},
   "outputs": [],
   "source": [
    "cis_dose = cis_dose.rename(columns = {'RelativeOrderedAmount': 'cis_dose_mgm2'})"
   ]
  },
  {
   "cell_type": "code",
   "execution_count": 163,
   "id": "d6bc8299",
   "metadata": {},
   "outputs": [],
   "source": [
    "cis_IDs = cis_dose.query('cis_dose_mgm2 >= 75').PatientID"
   ]
  },
  {
   "cell_type": "markdown",
   "id": "197f0326",
   "metadata": {},
   "source": [
    "#### Combine chemotherapy and pembrolizumab dataframes "
   ]
  },
  {
   "cell_type": "code",
   "execution_count": 164,
   "id": "fa0108d2",
   "metadata": {},
   "outputs": [],
   "source": [
    "key024_plat = key024_plat[key024_plat['PatientID'].isin(pd.concat([carb_IDs, cis_IDs]))]"
   ]
  },
  {
   "cell_type": "code",
   "execution_count": 165,
   "id": "dedf0286",
   "metadata": {},
   "outputs": [],
   "source": [
    "key024_plat = key024_plat.drop(columns = ['carb'])"
   ]
  },
  {
   "cell_type": "code",
   "execution_count": 166,
   "id": "35a07837",
   "metadata": {},
   "outputs": [],
   "source": [
    "key_024 = pd.concat([key024_pembro, key024_plat])"
   ]
  },
  {
   "cell_type": "code",
   "execution_count": 167,
   "id": "b60c5d62",
   "metadata": {},
   "outputs": [
    {
     "data": {
      "text/plain": [
       "(15943, 15943)"
      ]
     },
     "execution_count": 167,
     "metadata": {},
     "output_type": "execute_result"
    }
   ],
   "source": [
    "row_ID(key_024)"
   ]
  },
  {
   "cell_type": "code",
   "execution_count": 168,
   "id": "62285e02",
   "metadata": {},
   "outputs": [],
   "source": [
    "key_024 = pd.merge(key_024, df_full, on = 'PatientID', how = 'left')"
   ]
  },
  {
   "cell_type": "code",
   "execution_count": 169,
   "id": "d242bbf8",
   "metadata": {},
   "outputs": [
    {
     "data": {
      "text/plain": [
       "(15943, 15943)"
      ]
     },
     "execution_count": 169,
     "metadata": {},
     "output_type": "execute_result"
    }
   ],
   "source": [
    "row_ID(key_024)"
   ]
  },
  {
   "cell_type": "code",
   "execution_count": 170,
   "id": "e165f718",
   "metadata": {},
   "outputs": [],
   "source": [
    "key_024['StartDate'] = pd.to_datetime(key_024['StartDate'])"
   ]
  },
  {
   "cell_type": "markdown",
   "id": "7d7e72fd",
   "metadata": {},
   "source": [
    "#### High PDL1"
   ]
  },
  {
   "cell_type": "code",
   "execution_count": 171,
   "id": "a4de3c82",
   "metadata": {},
   "outputs": [],
   "source": [
    "biomarkers = pd.read_csv('Enhanced_AdvNSCLCBiomarkers.csv')"
   ]
  },
  {
   "cell_type": "code",
   "execution_count": 172,
   "id": "66506205",
   "metadata": {},
   "outputs": [],
   "source": [
    "biomarkers = biomarkers[biomarkers['PatientID'].isin(key_024['PatientID'])]"
   ]
  },
  {
   "cell_type": "code",
   "execution_count": 173,
   "id": "163a80b0",
   "metadata": {},
   "outputs": [],
   "source": [
    "biomarkers = pd.merge(biomarkers, key_024[['PatientID', 'StartDate']], on = 'PatientID', how = 'left')"
   ]
  },
  {
   "cell_type": "code",
   "execution_count": 174,
   "id": "9785e8fc",
   "metadata": {},
   "outputs": [
    {
     "data": {
      "text/plain": [
       "(60351, 12520)"
      ]
     },
     "execution_count": 174,
     "metadata": {},
     "output_type": "execute_result"
    }
   ],
   "source": [
    "row_ID(biomarkers)"
   ]
  },
  {
   "cell_type": "code",
   "execution_count": 175,
   "id": "95416bc9",
   "metadata": {},
   "outputs": [],
   "source": [
    "biomarkers['StartDate'] = pd.to_datetime(biomarkers['StartDate'])"
   ]
  },
  {
   "cell_type": "code",
   "execution_count": 176,
   "id": "cf6d61cd",
   "metadata": {},
   "outputs": [],
   "source": [
    "biomarkers['ResultDate'] = pd.to_datetime(biomarkers['ResultDate'])"
   ]
  },
  {
   "cell_type": "code",
   "execution_count": 177,
   "id": "60fd4a56",
   "metadata": {},
   "outputs": [],
   "source": [
    "biomarkers['SpecimenReceivedDate'] = pd.to_datetime(biomarkers['SpecimenReceivedDate'])"
   ]
  },
  {
   "cell_type": "code",
   "execution_count": 178,
   "id": "9c316f07",
   "metadata": {},
   "outputs": [],
   "source": [
    "biomarkers.loc[:, 'result_date'] = (\n",
    "    np.where(biomarkers['ResultDate'].isna(), biomarkers['SpecimenReceivedDate'], biomarkers['ResultDate'])\n",
    ")"
   ]
  },
  {
   "cell_type": "code",
   "execution_count": 179,
   "id": "e42cfd3d",
   "metadata": {},
   "outputs": [],
   "source": [
    "biomarkers.loc[:, 'date_diff'] = (biomarkers['result_date'] - biomarkers['StartDate']).dt.days"
   ]
  },
  {
   "cell_type": "code",
   "execution_count": 180,
   "id": "d6b9e692",
   "metadata": {},
   "outputs": [],
   "source": [
    "lst = [\"50% - 59%\", \"60% - 69%\", \"70% - 79%\", \"80% - 89%\", \"90% - 99%\", \"100%\"]\n",
    "\n",
    "pdl1_ids = (\n",
    "    biomarkers\n",
    "    .query('BiomarkerName == \"PDL1\"')\n",
    "    .query('date_diff <=30')\n",
    "    .query('PercentStaining == @lst')\n",
    "    .PatientID\n",
    "    .unique()\n",
    ")"
   ]
  },
  {
   "cell_type": "code",
   "execution_count": 181,
   "id": "463f399e",
   "metadata": {},
   "outputs": [],
   "source": [
    "key_024 = key_024[key_024.PatientID.isin(pdl1_ids)]"
   ]
  },
  {
   "cell_type": "code",
   "execution_count": 182,
   "id": "7ef9db6b",
   "metadata": {},
   "outputs": [
    {
     "data": {
      "text/plain": [
       "(2887, 2887)"
      ]
     },
     "execution_count": 182,
     "metadata": {},
     "output_type": "execute_result"
    }
   ],
   "source": [
    "row_ID(key_024)"
   ]
  },
  {
   "cell_type": "markdown",
   "id": "ae60cd0f",
   "metadata": {},
   "source": [
    "#### Time from treatment to death or censor"
   ]
  },
  {
   "cell_type": "code",
   "execution_count": 183,
   "id": "64da4261",
   "metadata": {},
   "outputs": [],
   "source": [
    "mortality_tr = pd.read_csv('mortality_cleaned_tr.csv')"
   ]
  },
  {
   "cell_type": "code",
   "execution_count": 184,
   "id": "b93035fb",
   "metadata": {},
   "outputs": [],
   "source": [
    "mortality_te = pd.read_csv('mortality_cleaned_te.csv')"
   ]
  },
  {
   "cell_type": "code",
   "execution_count": 185,
   "id": "17ffe8df",
   "metadata": {},
   "outputs": [],
   "source": [
    "mortality_tr = mortality_tr[['PatientID', 'death_date', 'last_activity']]"
   ]
  },
  {
   "cell_type": "code",
   "execution_count": 186,
   "id": "df9224ac",
   "metadata": {},
   "outputs": [],
   "source": [
    "mortality_te = mortality_te[['PatientID', 'death_date', 'last_activity']]"
   ]
  },
  {
   "cell_type": "code",
   "execution_count": 187,
   "id": "72c15e51",
   "metadata": {},
   "outputs": [
    {
     "name": "stdout",
     "output_type": "stream",
     "text": [
      "68483 True\n"
     ]
    }
   ],
   "source": [
    "mortality = pd.concat([mortality_tr, mortality_te], ignore_index = True)\n",
    "print(len(mortality), mortality.PatientID.is_unique)"
   ]
  },
  {
   "cell_type": "code",
   "execution_count": 188,
   "id": "4ecb6813",
   "metadata": {},
   "outputs": [],
   "source": [
    "mortality.loc[:, 'last_activity'] = pd.to_datetime(mortality['last_activity'])"
   ]
  },
  {
   "cell_type": "code",
   "execution_count": 189,
   "id": "76044fc1",
   "metadata": {},
   "outputs": [],
   "source": [
    "mortality.loc[:, 'death_date'] = pd.to_datetime(mortality['death_date'])"
   ]
  },
  {
   "cell_type": "code",
   "execution_count": 190,
   "id": "2038de9e",
   "metadata": {},
   "outputs": [],
   "source": [
    "key_024 = pd.merge(key_024, mortality, on = 'PatientID', how = 'left')"
   ]
  },
  {
   "cell_type": "code",
   "execution_count": 191,
   "id": "622a24ac",
   "metadata": {},
   "outputs": [
    {
     "data": {
      "text/plain": [
       "(2887, 2887)"
      ]
     },
     "execution_count": 191,
     "metadata": {},
     "output_type": "execute_result"
    }
   ],
   "source": [
    "row_ID(key_024)"
   ]
  },
  {
   "cell_type": "code",
   "execution_count": 192,
   "id": "a8e5cad2",
   "metadata": {},
   "outputs": [],
   "source": [
    "conditions = [\n",
    "    (key_024['death_status'] == 1),\n",
    "    (key_024['death_status'] == 0)]\n",
    "\n",
    "choices = [\n",
    "    (key_024['death_date'] - key_024['StartDate']).dt.days,\n",
    "    (key_024['last_activity'] - key_024['StartDate']).dt.days]\n",
    "\n",
    "key_024.loc[:, 'timerisk_treatment'] = np.select(conditions, choices)"
   ]
  },
  {
   "cell_type": "code",
   "execution_count": 193,
   "id": "a87759a6",
   "metadata": {},
   "outputs": [],
   "source": [
    "key_024 = key_024.query('timerisk_treatment >= 0')"
   ]
  },
  {
   "cell_type": "markdown",
   "id": "9f652f6e",
   "metadata": {},
   "source": [
    "#### Patient counts"
   ]
  },
  {
   "cell_type": "code",
   "execution_count": 194,
   "id": "60b72e5c",
   "metadata": {},
   "outputs": [],
   "source": [
    "key_024 = (\n",
    "    key_024\n",
    "    .query('stage == \"IV\"')\n",
    "    .query('EGFR != \"positive\"')\n",
    "    .query('ALK != \"positive\"')\n",
    ")"
   ]
  },
  {
   "cell_type": "code",
   "execution_count": 195,
   "id": "139544d0",
   "metadata": {},
   "outputs": [],
   "source": [
    "low_cutoff_024 = cutoff.loc['keynote_024'].low"
   ]
  },
  {
   "cell_type": "code",
   "execution_count": 196,
   "id": "c66b7888",
   "metadata": {},
   "outputs": [],
   "source": [
    "high_cutoff_024 = cutoff.loc['keynote_024'].high"
   ]
  },
  {
   "cell_type": "code",
   "execution_count": 197,
   "id": "ac7db448",
   "metadata": {},
   "outputs": [
    {
     "name": "stdout",
     "output_type": "stream",
     "text": [
      "Pembro total: 1786\n",
      "High risk: 586\n",
      "Med risk: 608\n",
      "Low risk: 592\n"
     ]
    }
   ],
   "source": [
    "print('Pembro total:',  key_024.query('pembro == 1').shape[0])\n",
    "print('High risk:', key_024.query('pembro == 1').query('risk_score >= @high_cutoff_024').shape[0])\n",
    "print('Med risk:', key_024.query('pembro == 1').query('risk_score < @high_cutoff_024 and risk_score > @low_cutoff_024').shape[0])\n",
    "print('Low risk:', key_024.query('pembro == 1').query('risk_score <= @low_cutoff_024').shape[0])"
   ]
  },
  {
   "cell_type": "code",
   "execution_count": 198,
   "id": "fccadc36",
   "metadata": {},
   "outputs": [
    {
     "name": "stdout",
     "output_type": "stream",
     "text": [
      "Platinum total: 264\n",
      "High risk: 87\n",
      "Med risk: 92\n",
      "Low risk: 85\n"
     ]
    }
   ],
   "source": [
    "print('Platinum total:',  key_024.query('pembro == 0').shape[0])\n",
    "print('High risk:', key_024.query('pembro == 0').query('risk_score >= @high_cutoff_024').shape[0])\n",
    "print('Med risk:', key_024.query('pembro == 0').query('risk_score < @high_cutoff_024 and risk_score > @low_cutoff_024').shape[0])\n",
    "print('Low risk:', key_024.query('pembro == 0').query('risk_score <= @low_cutoff_024').shape[0])"
   ]
  },
  {
   "cell_type": "markdown",
   "id": "26e2c9fd",
   "metadata": {},
   "source": [
    "#### Survival curves with covariate balancing "
   ]
  },
  {
   "cell_type": "code",
   "execution_count": 199,
   "id": "5aa183d6",
   "metadata": {},
   "outputs": [],
   "source": [
    "key_024 = key_024.set_index('PatientID')"
   ]
  },
  {
   "cell_type": "code",
   "execution_count": 200,
   "id": "ad9da479",
   "metadata": {},
   "outputs": [],
   "source": [
    "key_024_iptw = key_024.filter(items = ['death_status',\n",
    "                                       'timerisk_treatment',\n",
    "                                       'pembro',\n",
    "                                       'age',\n",
    "                                       'gender',\n",
    "                                       'race',\n",
    "                                       'PracticeType',\n",
    "                                       'Histology',\n",
    "                                       'adv_year',\n",
    "                                       'commercial',\n",
    "                                       'medicare',\n",
    "                                       'medicaid',\n",
    "                                       'ecog_diagnosis',\n",
    "                                       'risk_score'])"
   ]
  },
  {
   "cell_type": "code",
   "execution_count": 201,
   "id": "6a41bf00",
   "metadata": {},
   "outputs": [],
   "source": [
    "key_024_iptw['met_cat'] = pd.cut(key_024_iptw['adv_year'],\n",
    "                                 bins = [2010, 2016, float('inf')],\n",
    "                                 labels = ['11-16', '17-21'])"
   ]
  },
  {
   "cell_type": "code",
   "execution_count": 202,
   "id": "ac19e183",
   "metadata": {},
   "outputs": [],
   "source": [
    "conditions = [\n",
    "    ((key_024_iptw['ecog_diagnosis'] == \"1.0\") | (key_024_iptw['ecog_diagnosis'] == \"0.0\")),  \n",
    "    ((key_024_iptw['ecog_diagnosis'] == \"2.0\") | (key_024_iptw['ecog_diagnosis'] == \"3.0\"))\n",
    "]\n",
    "\n",
    "choices = ['lt_2', 'gte_2']\n",
    "\n",
    "key_024_iptw['ecog_2'] = np.select(conditions, choices, default = 'unknown')"
   ]
  },
  {
   "cell_type": "code",
   "execution_count": 203,
   "id": "4ad8a2ac",
   "metadata": {},
   "outputs": [
    {
     "data": {
      "text/plain": [
       "death_status              bool\n",
       "timerisk_treatment     float64\n",
       "pembro                   int64\n",
       "age                      int64\n",
       "gender                  object\n",
       "race                    object\n",
       "PracticeType            object\n",
       "Histology               object\n",
       "adv_year                 int64\n",
       "commercial             float64\n",
       "medicare               float64\n",
       "medicaid               float64\n",
       "ecog_diagnosis          object\n",
       "risk_score             float64\n",
       "met_cat               category\n",
       "ecog_2                  object\n",
       "dtype: object"
      ]
     },
     "execution_count": 203,
     "metadata": {},
     "output_type": "execute_result"
    }
   ],
   "source": [
    "key_024_iptw.dtypes"
   ]
  },
  {
   "cell_type": "code",
   "execution_count": 204,
   "id": "5152da26",
   "metadata": {},
   "outputs": [],
   "source": [
    "to_be_categorical = list(key_024_iptw.select_dtypes(include = ['object']).columns)"
   ]
  },
  {
   "cell_type": "code",
   "execution_count": 205,
   "id": "75fe7b0d",
   "metadata": {},
   "outputs": [
    {
     "data": {
      "text/plain": [
       "['gender', 'race', 'PracticeType', 'Histology', 'ecog_diagnosis', 'ecog_2']"
      ]
     },
     "execution_count": 205,
     "metadata": {},
     "output_type": "execute_result"
    }
   ],
   "source": [
    "to_be_categorical"
   ]
  },
  {
   "cell_type": "code",
   "execution_count": 206,
   "id": "4f740cf6",
   "metadata": {},
   "outputs": [],
   "source": [
    "to_be_categorical.append('met_cat')"
   ]
  },
  {
   "cell_type": "code",
   "execution_count": 207,
   "id": "a1749b77",
   "metadata": {},
   "outputs": [],
   "source": [
    "to_be_categorical.remove('ecog_diagnosis')"
   ]
  },
  {
   "cell_type": "code",
   "execution_count": 208,
   "id": "f2c8c861",
   "metadata": {},
   "outputs": [],
   "source": [
    "# Convert variables in list to categorical.\n",
    "for x in list(to_be_categorical):\n",
    "    key_024_iptw[x] = key_024_iptw[x].astype('category')"
   ]
  },
  {
   "cell_type": "code",
   "execution_count": 209,
   "id": "c79d4e22",
   "metadata": {},
   "outputs": [],
   "source": [
    "# List of numeric variables, excluding binary variables. \n",
    "numerical_features = ['age']\n",
    "\n",
    "# Transformer will first calculate column median and impute, and then apply a standard scaler. \n",
    "numerical_transformer = Pipeline(steps = [\n",
    "    ('imputer', SimpleImputer(strategy = 'median')),\n",
    "    ('std_scaler', StandardScaler())])"
   ]
  },
  {
   "cell_type": "code",
   "execution_count": 210,
   "id": "ced5d868",
   "metadata": {},
   "outputs": [],
   "source": [
    "# List of categorical features.\n",
    "categorical_features = list(key_024_iptw.select_dtypes(include = ['category']).columns)\n",
    "\n",
    "# One-hot-encode categorical features.\n",
    "categorical_transformer = OneHotEncoder(handle_unknown = 'ignore')"
   ]
  },
  {
   "cell_type": "code",
   "execution_count": 211,
   "id": "75cb8069",
   "metadata": {},
   "outputs": [],
   "source": [
    "preprocessor = ColumnTransformer(\n",
    "    transformers = [\n",
    "        ('num', numerical_transformer, numerical_features),\n",
    "        ('cat', categorical_transformer, categorical_features)],\n",
    "    remainder = 'passthrough')"
   ]
  },
  {
   "cell_type": "code",
   "execution_count": 212,
   "id": "fd87b18c",
   "metadata": {},
   "outputs": [],
   "source": [
    "key_024_iptw_low = (\n",
    "    key_024_iptw\n",
    "    .query('risk_score <= @low_cutoff_024')\n",
    "    .drop(columns = ['risk_score']))\n",
    "\n",
    "key_024_iptw_med = (\n",
    "    key_024_iptw\n",
    "    .query('risk_score < @high_cutoff_024 and risk_score > @low_cutoff_024')\n",
    "    .drop(columns = ['risk_score']))\n",
    "\n",
    "key_024_iptw_high = (\n",
    "    key_024_iptw\n",
    "    .query('risk_score >= @high_cutoff_024')\n",
    "    .drop(columns = ['risk_score']))\n",
    "\n",
    "key_024_iptw_all = (\n",
    "    key_024_iptw\n",
    "    .drop(columns = ['risk_score']))"
   ]
  },
  {
   "cell_type": "code",
   "execution_count": 213,
   "id": "f0284276",
   "metadata": {},
   "outputs": [],
   "source": [
    "key_024_low_x = preprocessor.fit_transform(key_024_iptw_low.filter(items = ['age',\n",
    "                                                                            'gender',\n",
    "                                                                            'race',\n",
    "                                                                            'PracticeType',\n",
    "                                                                            'Histology',\n",
    "                                                                            'met_cat',\n",
    "                                                                            'commercial',\n",
    "                                                                            'medicare',\n",
    "                                                                            'medicaid',\n",
    "                                                                            'ecog_2']))\n",
    "\n",
    "key_024_med_x = preprocessor.fit_transform(key_024_iptw_med.filter(items = ['age',\n",
    "                                                                            'gender',\n",
    "                                                                            'race',\n",
    "                                                                            'PracticeType',\n",
    "                                                                            'Histology',\n",
    "                                                                            'met_cat',\n",
    "                                                                            'commercial',\n",
    "                                                                            'medicare',\n",
    "                                                                            'medicaid',\n",
    "                                                                            'ecog_2']))\n",
    "\n",
    "key_024_high_x = preprocessor.fit_transform(key_024_iptw_high.filter(items = ['age',\n",
    "                                                                              'gender',\n",
    "                                                                              'race',\n",
    "                                                                              'PracticeType',\n",
    "                                                                              'Histology',\n",
    "                                                                              'met_cat',\n",
    "                                                                              'commercial',\n",
    "                                                                              'medicare',\n",
    "                                                                              'medicaid',\n",
    "                                                                              'ecog_2']))\n",
    "\n",
    "key_024_all_x = preprocessor.fit_transform(key_024_iptw_all.filter(items = ['age',\n",
    "                                                                            'gender',\n",
    "                                                                            'race',\n",
    "                                                                            'PracticeType',\n",
    "                                                                            'Histology',\n",
    "                                                                            'met_cat',\n",
    "                                                                            'commercial',\n",
    "                                                                            'medicare',\n",
    "                                                                            'medicaid',\n",
    "                                                                            'ecog_2']))"
   ]
  },
  {
   "cell_type": "code",
   "execution_count": 214,
   "id": "79c35fca",
   "metadata": {},
   "outputs": [
    {
     "data": {
      "text/plain": [
       "LogisticRegression(max_iter=1000)"
      ]
     },
     "execution_count": 214,
     "metadata": {},
     "output_type": "execute_result"
    }
   ],
   "source": [
    "lr_024_low = LogisticRegression(max_iter = 1000)\n",
    "lr_024_low.fit(key_024_low_x, key_024_iptw_low['pembro'])"
   ]
  },
  {
   "cell_type": "code",
   "execution_count": 215,
   "id": "7a621a09",
   "metadata": {},
   "outputs": [
    {
     "data": {
      "text/plain": [
       "LogisticRegression(max_iter=1000)"
      ]
     },
     "execution_count": 215,
     "metadata": {},
     "output_type": "execute_result"
    }
   ],
   "source": [
    "lr_024_med = LogisticRegression(max_iter = 1000)\n",
    "lr_024_med.fit(key_024_med_x, key_024_iptw_med['pembro'])"
   ]
  },
  {
   "cell_type": "code",
   "execution_count": 216,
   "id": "20307582",
   "metadata": {},
   "outputs": [
    {
     "data": {
      "text/plain": [
       "LogisticRegression(max_iter=1000)"
      ]
     },
     "execution_count": 216,
     "metadata": {},
     "output_type": "execute_result"
    }
   ],
   "source": [
    "lr_024_high = LogisticRegression(max_iter = 1000)\n",
    "lr_024_high.fit(key_024_high_x, key_024_iptw_high['pembro'])"
   ]
  },
  {
   "cell_type": "code",
   "execution_count": 217,
   "id": "f89b550e",
   "metadata": {},
   "outputs": [
    {
     "data": {
      "text/plain": [
       "LogisticRegression(max_iter=1000)"
      ]
     },
     "execution_count": 217,
     "metadata": {},
     "output_type": "execute_result"
    }
   ],
   "source": [
    "lr_024_all = LogisticRegression(max_iter = 1000)\n",
    "lr_024_all.fit(key_024_all_x, key_024_iptw_all['pembro'])"
   ]
  },
  {
   "cell_type": "code",
   "execution_count": 218,
   "id": "8dc3bf40",
   "metadata": {},
   "outputs": [],
   "source": [
    "pred_low = lr_024_low.predict_proba(key_024_low_x)\n",
    "pred_med = lr_024_med.predict_proba(key_024_med_x)\n",
    "pred_high = lr_024_high.predict_proba(key_024_high_x)\n",
    "pred_all = lr_024_all.predict_proba(key_024_all_x)"
   ]
  },
  {
   "cell_type": "code",
   "execution_count": 219,
   "id": "9fe0f2e2",
   "metadata": {},
   "outputs": [],
   "source": [
    "key_024_iptw_low['ps'] = pred_low[:, 1]\n",
    "key_024_iptw_med['ps'] = pred_med[:, 1]\n",
    "key_024_iptw_high['ps'] = pred_high[:, 1]\n",
    "key_024_iptw_all['ps'] = pred_all[:, 1]"
   ]
  },
  {
   "cell_type": "code",
   "execution_count": 220,
   "id": "08683169",
   "metadata": {},
   "outputs": [],
   "source": [
    "key_024_iptw_low['weight'] = (\n",
    "    np.where(key_024_iptw_low['pembro'] == 1, 1/key_024_iptw_low['ps'], 1/(1 - key_024_iptw_low['ps'])))\n",
    "\n",
    "key_024_iptw_med['weight'] = (\n",
    "    np.where(key_024_iptw_med['pembro'] == 1, 1/key_024_iptw_med['ps'], 1/(1 - key_024_iptw_med['ps'])))\n",
    "\n",
    "key_024_iptw_high['weight'] = (\n",
    "    np.where(key_024_iptw_high['pembro'] == 1, 1/key_024_iptw_high['ps'], 1/(1 - key_024_iptw_high['ps'])))\n",
    "\n",
    "key_024_iptw_all['weight'] = (\n",
    "    np.where(key_024_iptw_all['pembro'] == 1, 1/key_024_iptw_all['ps'], 1/(1 - key_024_iptw_all['ps'])))"
   ]
  },
  {
   "cell_type": "code",
   "execution_count": 221,
   "id": "5fc4786f",
   "metadata": {},
   "outputs": [
    {
     "name": "stderr",
     "output_type": "stream",
     "text": [
      "/Users/xavierorcutt/Dropbox/ist_project/myenv/lib/python3.7/site-packages/lifelines/fitters/kaplan_meier_fitter.py:344: StatisticalWarning: It looks like your weights are not integers, possibly propensity scores then?\n",
      "  It's important to know that the naive variance estimates of the coefficients are biased. Instead use Monte Carlo to\n",
      "  estimate the variances. See paper \"Variance estimation when using inverse probability of treatment weighting (IPTW) with survival analysis\"\n",
      "  or \"Adjusted Kaplan-Meier estimator and log-rank test with inverse probability of treatment weighting for survival data.\"\n",
      "                  \n",
      "  StatisticalWarning,\n"
     ]
    },
    {
     "data": {
      "text/plain": [
       "<lifelines.KaplanMeierFitter:\"KM_estimate\", fitted with 1843.01 total observations, 597.88 right-censored observations>"
      ]
     },
     "execution_count": 221,
     "metadata": {},
     "output_type": "execute_result"
    }
   ],
   "source": [
    "# Low KM curves\n",
    "kmf_low_pembro_024_iptw = KaplanMeierFitter()\n",
    "kmf_low_plat_024_iptw = KaplanMeierFitter()\n",
    "\n",
    "kmf_low_pembro_024_iptw.fit(\n",
    "    key_024_iptw_low.query('pembro == 1').timerisk_treatment/30,\n",
    "    key_024_iptw_low.query('pembro == 1').death_status,\n",
    "    weights = key_024_iptw_low.query('pembro == 1')['weight'])\n",
    "\n",
    "kmf_low_plat_024_iptw.fit(\n",
    "    key_024_iptw_low.query('pembro == 0').timerisk_treatment/30,\n",
    "    key_024_iptw_low.query('pembro == 0').death_status,\n",
    "    weights = key_024_iptw_low.query('pembro == 0')['weight'])\n",
    "\n",
    "# Med KM curves\n",
    "kmf_med_pembro_024_iptw = KaplanMeierFitter()\n",
    "kmf_med_plat_024_iptw = KaplanMeierFitter()\n",
    "\n",
    "kmf_med_pembro_024_iptw.fit(\n",
    "    key_024_iptw_med.query('pembro == 1').timerisk_treatment/30,\n",
    "    key_024_iptw_med.query('pembro == 1').death_status,\n",
    "    weights = key_024_iptw_med.query('pembro == 1')['weight'])\n",
    "\n",
    "kmf_med_plat_024_iptw.fit(\n",
    "    key_024_iptw_med.query('pembro == 0').timerisk_treatment/30,\n",
    "    key_024_iptw_med.query('pembro == 0').death_status,\n",
    "    weights = key_024_iptw_med.query('pembro == 0')['weight'])\n",
    "\n",
    "# High KM curves \n",
    "kmf_high_pembro_024_iptw = KaplanMeierFitter()\n",
    "kmf_high_plat_024_iptw = KaplanMeierFitter()\n",
    "\n",
    "kmf_high_pembro_024_iptw.fit(\n",
    "    key_024_iptw_high.query('pembro == 1').timerisk_treatment/30,\n",
    "    key_024_iptw_high.query('pembro == 1').death_status,\n",
    "    weights = key_024_iptw_high.query('pembro == 1')['weight'])\n",
    "\n",
    "kmf_high_plat_024_iptw.fit(\n",
    "    key_024_iptw_high.query('pembro == 0').timerisk_treatment/30,\n",
    "    key_024_iptw_high.query('pembro == 0').death_status,\n",
    "    weights = key_024_iptw_high.query('pembro == 0')['weight'])\n",
    "\n",
    "# All KM curves \n",
    "kmf_all_pembro_024_iptw = KaplanMeierFitter()\n",
    "kmf_all_plat_024_iptw = KaplanMeierFitter()\n",
    "\n",
    "kmf_all_pembro_024_iptw.fit(\n",
    "    key_024_iptw_all.query('pembro == 1').timerisk_treatment/30,\n",
    "    key_024_iptw_all.query('pembro == 1').death_status,\n",
    "    weights = key_024_iptw_all.query('pembro == 1')['weight'])\n",
    "\n",
    "kmf_all_plat_024_iptw.fit(\n",
    "    key_024_iptw_all.query('pembro == 0').timerisk_treatment/30,\n",
    "    key_024_iptw_all.query('pembro == 0').death_status,\n",
    "    weights = key_024_iptw_all.query('pembro == 0')['weight'])"
   ]
  },
  {
   "cell_type": "code",
   "execution_count": 222,
   "id": "cfe1273a",
   "metadata": {},
   "outputs": [
    {
     "data": {
      "image/png": "[encoded data removed]",
      "text/plain": [
       "<Figure size 1800x600 with 9 Axes>"
      ]
     },
     "metadata": {},
     "output_type": "display_data"
    }
   ],
   "source": [
    "fig = plt.figure(figsize=(18, 6))\n",
    "\n",
    "# Plot survival curves for low risk group \n",
    "plt.subplot(1, 4, 1)\n",
    "\n",
    "plt.step(kmf_low_pembro_024_iptw.timeline, kmf_low_pembro_024_iptw.survival_function_.values*100, color = 'red', alpha = 0.5)\n",
    "\n",
    "plt.step(kmf_low_plat_024_iptw.timeline, kmf_low_plat_024_iptw.survival_function_.values*100, color = 'black', alpha = 0.5)\n",
    "\n",
    "plt.xticks(np.arange(0, 43, 6))\n",
    "plt.xlim(0, 43)\n",
    "plt.ylim(0, 100)\n",
    "\n",
    "plt.title('Low-risk', weight = 'bold')\n",
    "plt.ylabel('Overall survival (%)', size = 12, weight = 'bold')\n",
    "\n",
    "plt.gca().spines['top'].set_visible(False)\n",
    "plt.gca().spines['right'].set_visible(False)\n",
    "\n",
    "add_at_risk_counts(kmf_low_pembro_024_iptw, kmf_low_plat_024_iptw, ypos = -0.8, xticks = np.arange(6, 43, 6), labels = ['Pembrolizumab', 'Chemotherapy'])\n",
    "\n",
    "# Plot survival curves for med risk group. \n",
    "plt.subplot(1, 4, 2)\n",
    "\n",
    "plt.step(kmf_med_pembro_024_iptw.timeline, kmf_med_pembro_024_iptw.survival_function_.values*100, color = 'red', alpha = 0.5)\n",
    "\n",
    "plt.step(kmf_med_plat_024_iptw.timeline, kmf_med_plat_024_iptw.survival_function_.values*100, color = 'black', alpha = 0.5)\n",
    "\n",
    "plt.xticks(np.arange(0, 43, 6))\n",
    "plt.xlim(0, 43)\n",
    "plt.ylim(0, 100)\n",
    "\n",
    "plt.title('Med-risk', weight = 'bold')\n",
    "\n",
    "plt.gca().spines['top'].set_visible(False)\n",
    "plt.gca().spines['right'].set_visible(False)\n",
    "\n",
    "add_at_risk_counts(kmf_med_pembro_024_iptw, kmf_med_plat_024_iptw, ypos = -0.8, xticks = np.arange(6, 43, 6), labels = [' ', ' '])\n",
    "\n",
    "# Plot survival curves by treatment for high risk group. \n",
    "plt.subplot(1, 4, 3)\n",
    "\n",
    "plt.step(kmf_high_pembro_024_iptw.timeline, kmf_high_pembro_024_iptw.survival_function_.values*100, color = 'red', alpha = 0.5)\n",
    "\n",
    "plt.step(kmf_high_plat_024_iptw.timeline, kmf_high_plat_024_iptw.survival_function_.values*100, color = 'black', alpha = 0.5)\n",
    "\n",
    "plt.xticks(np.arange(0, 43, 6))\n",
    "plt.xlim(0, 43)\n",
    "plt.ylim(0, 100)\n",
    "\n",
    "plt.title('High-risk', weight = 'bold')\n",
    "\n",
    "plt.gca().spines['top'].set_visible(False)\n",
    "plt.gca().spines['right'].set_visible(False)\n",
    "\n",
    "add_at_risk_counts(kmf_high_pembro_024_iptw, kmf_high_plat_024_iptw, ypos = -0.8, xticks = np.arange(6, 43, 6), labels = [' ', ' '])\n",
    "\n",
    "# Plot survival curves by treatment for all risk group. \n",
    "plt.subplot(1, 4, 4)\n",
    "\n",
    "plt.step(kmf_all_pembro_024_iptw.timeline, kmf_all_pembro_024_iptw.survival_function_.values*100, color = 'red', alpha = 0.5, label = 'Pembrolizumab')\n",
    "\n",
    "plt.step(kmf_all_plat_024_iptw.timeline, kmf_all_plat_024_iptw.survival_function_.values*100, color = 'black', alpha = 0.5, label = 'Chemotherapy')\n",
    "\n",
    "plt.xticks(np.arange(0, 43, 6))\n",
    "plt.xlim(0, 43)\n",
    "plt.ylim(0, 100)\n",
    "\n",
    "plt.title('Full cohort', weight = 'bold')\n",
    "\n",
    "plt.gca().spines['top'].set_visible(False)\n",
    "plt.gca().spines['right'].set_visible(False)\n",
    "\n",
    "plt.legend(loc = 'center right', prop = {'size': 9})\n",
    "\n",
    "add_at_risk_counts(kmf_all_pembro_024_iptw, kmf_all_plat_024_iptw, ypos = -0.8, xticks = np.arange(6, 43, 6), labels = [' ', ' '])\n",
    "\n",
    "fig.add_subplot(1, 1, 1, frameon = False)\n",
    "plt.tick_params(labelcolor = 'none', which = 'both', top = False, bottom = False, left = False, right = False)\n",
    "plt.xlabel('Months after treatment', labelpad = 15, size = 12, weight = 'bold')\n",
    "plt.title(r'KEYNOTE-024: Overall survival for pembrolizumab vs. chemotherapy for PDL1$\\geq$50%', pad = 40, size = 15, weight = 'bold')\n",
    "\n",
    "plt.show()"
   ]
  },
  {
   "cell_type": "markdown",
   "id": "c192dd3c",
   "metadata": {},
   "source": [
    "### KEYNOTE-189: First-line pembrolizumab plus chemotherapy vs. chemotherapy\n",
    "\n",
    "**INCLUSION CRITERIA**\n",
    "* Untreated stage IV NSCLC\n",
    "* Received first line pemobrolizumab plus platinum-based chemotherapy or platinum-based chemotherapy\n",
    "* Received appropriate dose of platinum-based chemotherapy\n",
    "* EGFR and ALK negative"
   ]
  },
  {
   "cell_type": "markdown",
   "id": "6f4fb33c",
   "metadata": {},
   "source": [
    "#### Pembrolizumab + chemotherapy "
   ]
  },
  {
   "cell_type": "code",
   "execution_count": 223,
   "id": "234ad061",
   "metadata": {},
   "outputs": [
    {
     "data": {
      "text/plain": [
       "68483"
      ]
     },
     "execution_count": 223,
     "metadata": {},
     "output_type": "execute_result"
    }
   ],
   "source": [
    "df_full = pd.read_csv('df_risk_crude.csv', index_col = 'PatientID', dtype = {'death_status': bool})\n",
    "df_full.index.nunique()"
   ]
  },
  {
   "cell_type": "code",
   "execution_count": 224,
   "id": "04cbe337",
   "metadata": {},
   "outputs": [],
   "source": [
    "line_therapy = pd.read_csv('LineOfTherapy.csv')"
   ]
  },
  {
   "cell_type": "code",
   "execution_count": 225,
   "id": "d90106c6",
   "metadata": {},
   "outputs": [
    {
     "data": {
      "text/plain": [
       "Carboplatin,Pemetrexed                              6700\n",
       "Carboplatin,Pembrolizumab,Pemetrexed                5113\n",
       "Pemetrexed                                          4711\n",
       "Bevacizumab,Carboplatin,Pemetrexed                  3459\n",
       "Bevacizumab,Pemetrexed                              1569\n",
       "Pembrolizumab,Pemetrexed                            1554\n",
       "Cisplatin,Pemetrexed                                 811\n",
       "Bevacizumab,Cisplatin,Pemetrexed                     174\n",
       "Abiraterone,Carboplatin,Pembrolizumab,Pemetrexed     100\n",
       "Bevacizumab-Awwb,Carboplatin,Pemetrexed               82\n",
       "Name: LineName, dtype: int64"
      ]
     },
     "execution_count": 225,
     "metadata": {},
     "output_type": "execute_result"
    }
   ],
   "source": [
    "line_therapy[line_therapy['LineName'].str.contains('Pemetrexed')].LineName.value_counts().head(10)"
   ]
  },
  {
   "cell_type": "code",
   "execution_count": 226,
   "id": "6cfc6277",
   "metadata": {},
   "outputs": [],
   "source": [
    "line_therapy_fl = (\n",
    "    line_therapy[line_therapy['PatientID'].isin(df_full.index)]\n",
    "    .query('LineNumber == 1')\n",
    "    .query('IsMaintenanceTherapy == False')\n",
    ")"
   ]
  },
  {
   "cell_type": "code",
   "execution_count": 227,
   "id": "2b0ef1d7",
   "metadata": {},
   "outputs": [],
   "source": [
    "plat_chemo = [\n",
    "    'Carboplatin',\n",
    "    'Cisplatin']\n",
    "\n",
    "immuno_wout_pembro = [\n",
    "    'Atezolizumab',\n",
    "    'Cemiplimab',\n",
    "    'Durvalumab',\n",
    "    'Ipilimumab',\n",
    "    'Nivolumab']\n",
    "\n",
    "targeted = [\n",
    "    'Afatinib',\n",
    "    'Alectinib',\n",
    "    'Brigatinib',\n",
    "    'Cabozantinib',\n",
    "    'Capmatinib',\n",
    "    'Ceritinib',\n",
    "    'Crizotinib',\n",
    "    'Dabrafenib',\n",
    "    'Dacomitinib',\n",
    "    'Entrectinib',\n",
    "    'Erlotinib',\n",
    "    'Gefitinib',\n",
    "    'Lorlatinib',\n",
    "    'Osimertinib',\n",
    "    'Pralsetinib',\n",
    "    'Selpercatinib',\n",
    "    'Sotorasib',\n",
    "    'Tepotinib',\n",
    "    'Trametinib',\n",
    "    'Vandetanib']"
   ]
  },
  {
   "cell_type": "code",
   "execution_count": 228,
   "id": "d81d735d",
   "metadata": {},
   "outputs": [
    {
     "data": {
      "text/plain": [
       "Carboplatin,Pembrolizumab,Pemetrexed                     4275\n",
       "Carboplatin,Paclitaxel,Pembrolizumab                      803\n",
       "Carboplatin,Paclitaxel Protein-Bound,Pembrolizumab        534\n",
       "Abiraterone,Carboplatin,Pembrolizumab,Pemetrexed           79\n",
       "Carboplatin,Cyclophosphamide,Pembrolizumab,Pemetrexed      31\n",
       "Cisplatin,Pembrolizumab,Pemetrexed                         27\n",
       "Carboplatin,Pembrolizumab                                  19\n",
       "Carboplatin,Docetaxel,Pembrolizumab                        18\n",
       "Carboplatin,Paclitaxel,Pembrolizumab,Pemetrexed            18\n",
       "Bevacizumab,Carboplatin,Pembrolizumab,Pemetrexed           10\n",
       "Name: LineName, dtype: int64"
      ]
     },
     "execution_count": 228,
     "metadata": {},
     "output_type": "execute_result"
    }
   ],
   "source": [
    "line_therapy_fl[line_therapy_fl['LineName'].str.contains('|'.join(plat_chemo)) & \n",
    "                line_therapy_fl['LineName'].str.contains('Pembrolizumab') &\n",
    "                ~line_therapy_fl['LineName'].str.contains('|'.join(targeted)) &\n",
    "                ~line_therapy_fl['LineName'].str.contains('|'.join(immuno_wout_pembro)) &\n",
    "                ~line_therapy_fl['LineName'].str.contains('Clinical Study Drug')].LineName.value_counts().head(10)"
   ]
  },
  {
   "cell_type": "code",
   "execution_count": 229,
   "id": "a7d4f486",
   "metadata": {},
   "outputs": [],
   "source": [
    "key189_carb_pembro = (\n",
    "    line_therapy_fl[line_therapy_fl['LineName'].str.contains('Carboplatin') & \n",
    "                    line_therapy_fl['LineName'].str.contains('Pembrolizumab') &\n",
    "                    ~line_therapy_fl['LineName'].str.contains('|'.join(targeted)) &\n",
    "                    ~line_therapy_fl['LineName'].str.contains('|'.join(immuno_wout_pembro)) &\n",
    "                    ~line_therapy_fl['LineName'].str.contains('Clinical Study Drug')]\n",
    "    [['PatientID', 'StartDate']]\n",
    ")"
   ]
  },
  {
   "cell_type": "code",
   "execution_count": 230,
   "id": "9a845736",
   "metadata": {},
   "outputs": [],
   "source": [
    "key189_carb_pembro.loc[:, 'carb'] = 1"
   ]
  },
  {
   "cell_type": "code",
   "execution_count": 231,
   "id": "4265e15c",
   "metadata": {},
   "outputs": [],
   "source": [
    "key189_cis_pembro = (\n",
    "    line_therapy_fl[line_therapy_fl['LineName'].str.contains('Cisplatin') & \n",
    "                    line_therapy_fl['LineName'].str.contains('Pembrolizumab') &\n",
    "                    ~line_therapy_fl['LineName'].str.contains('|'.join(targeted)) &\n",
    "                    ~line_therapy_fl['LineName'].str.contains('|'.join(immuno_wout_pembro)) &\n",
    "                    ~line_therapy_fl['LineName'].str.contains('Clinical Study Drug')]\n",
    "    [['PatientID', 'StartDate']]\n",
    ")"
   ]
  },
  {
   "cell_type": "code",
   "execution_count": 232,
   "id": "52c55515",
   "metadata": {},
   "outputs": [],
   "source": [
    "key189_cis_pembro.loc[:, 'carb'] = 0"
   ]
  },
  {
   "cell_type": "code",
   "execution_count": 233,
   "id": "9da99f19",
   "metadata": {},
   "outputs": [],
   "source": [
    "key189_pembro = pd.concat([key189_carb_pembro, key189_cis_pembro])"
   ]
  },
  {
   "cell_type": "code",
   "execution_count": 234,
   "id": "f4e4b9b1",
   "metadata": {},
   "outputs": [],
   "source": [
    "key189_pembro.loc[:, 'pembro'] = 1"
   ]
  },
  {
   "cell_type": "code",
   "execution_count": 235,
   "id": "911c6267",
   "metadata": {},
   "outputs": [
    {
     "data": {
      "text/plain": [
       "(5878, 5878)"
      ]
     },
     "execution_count": 235,
     "metadata": {},
     "output_type": "execute_result"
    }
   ],
   "source": [
    "row_ID(key189_pembro)"
   ]
  },
  {
   "cell_type": "code",
   "execution_count": 236,
   "id": "84da3d15",
   "metadata": {},
   "outputs": [],
   "source": [
    "# Dataframe of all therapies received for those receiving first line pembrolizumab only. \n",
    "line_therapy_pembro_189 = (\n",
    "    line_therapy[line_therapy['PatientID'].isin(key189_pembro.PatientID)])"
   ]
  },
  {
   "cell_type": "code",
   "execution_count": 237,
   "id": "ff1b083c",
   "metadata": {},
   "outputs": [],
   "source": [
    "# Patients receiving pembrolizumab therapy who later recieve targeted therapy. \n",
    "pembro_189_xcross = (\n",
    "    line_therapy_pembro_189[line_therapy_pembro_189['LineName'].str.contains('|'.join(targeted))].PatientID)"
   ]
  },
  {
   "cell_type": "code",
   "execution_count": 238,
   "id": "80a8019f",
   "metadata": {},
   "outputs": [],
   "source": [
    "# Select patients who don't receive targeted therapy in future lines.\n",
    "key189_pembro = key189_pembro[~key189_pembro['PatientID'].isin(pembro_189_xcross)]"
   ]
  },
  {
   "cell_type": "code",
   "execution_count": 239,
   "id": "d9dcbfa6",
   "metadata": {},
   "outputs": [
    {
     "data": {
      "text/plain": [
       "(5673, 5673)"
      ]
     },
     "execution_count": 239,
     "metadata": {},
     "output_type": "execute_result"
    }
   ],
   "source": [
    "row_ID(key189_pembro)"
   ]
  },
  {
   "cell_type": "markdown",
   "id": "28530251",
   "metadata": {},
   "source": [
    "#### Platinum-based chemotherapy"
   ]
  },
  {
   "cell_type": "code",
   "execution_count": 240,
   "id": "e485e74b",
   "metadata": {},
   "outputs": [],
   "source": [
    "plat_chemo = [\n",
    "    'Carboplatin',\n",
    "    'Cisplatin']\n",
    "\n",
    "immuno = [\n",
    "    'Atezolizumab',\n",
    "    'Cemiplimab',\n",
    "    'Durvalumab',\n",
    "    'Ipilimumab',\n",
    "    'Nivolumab',\n",
    "    'Pembrolizumab'\n",
    "]"
   ]
  },
  {
   "cell_type": "code",
   "execution_count": 241,
   "id": "dfcbe553",
   "metadata": {},
   "outputs": [
    {
     "data": {
      "text/plain": [
       "Carboplatin,Paclitaxel                  8524\n",
       "Carboplatin,Pemetrexed                  5417\n",
       "Bevacizumab,Carboplatin,Pemetrexed      2825\n",
       "Carboplatin,Paclitaxel Protein-Bound    1826\n",
       "Bevacizumab,Carboplatin,Paclitaxel      1591\n",
       "Carboplatin,Gemcitabine                 1224\n",
       "Cisplatin,Etoposide                      793\n",
       "Carboplatin,Docetaxel                    780\n",
       "Cisplatin,Pemetrexed                     684\n",
       "Carboplatin,Etoposide                    363\n",
       "Name: LineName, dtype: int64"
      ]
     },
     "execution_count": 241,
     "metadata": {},
     "output_type": "execute_result"
    }
   ],
   "source": [
    "line_therapy_fl[line_therapy_fl['LineName'].str.contains('|'.join(plat_chemo)) & \n",
    "                ~line_therapy_fl['LineName'].str.contains('|'.join(immuno)) &\n",
    "                ~line_therapy_fl['LineName'].str.contains('|'.join(targeted)) &\n",
    "                ~line_therapy_fl['LineName'].str.contains('Clinical Study Drug')].LineName.value_counts().head(10)"
   ]
  },
  {
   "cell_type": "code",
   "execution_count": 242,
   "id": "fee0e8d1",
   "metadata": {},
   "outputs": [],
   "source": [
    "key189_carb = (\n",
    "    line_therapy_fl[line_therapy_fl['LineName'].str.contains('Carboplatin') & \n",
    "                    ~line_therapy_fl['LineName'].str.contains('|'.join(immuno)) &\n",
    "                    ~line_therapy_fl['LineName'].str.contains('|'.join(targeted)) &\n",
    "                    ~line_therapy_fl['LineName'].str.contains('Clinical Study Drug')]\n",
    "    [['PatientID', 'StartDate']]\n",
    ")"
   ]
  },
  {
   "cell_type": "code",
   "execution_count": 243,
   "id": "7bb36354",
   "metadata": {},
   "outputs": [],
   "source": [
    "key189_carb.loc[:, 'carb'] = 1"
   ]
  },
  {
   "cell_type": "code",
   "execution_count": 244,
   "id": "9d3982f6",
   "metadata": {},
   "outputs": [],
   "source": [
    "key189_cis = (\n",
    "    line_therapy_fl[line_therapy_fl['LineName'].str.contains('Cisplatin') & \n",
    "                    ~line_therapy_fl['LineName'].str.contains('|'.join(immuno)) &\n",
    "                    ~line_therapy_fl['LineName'].str.contains('|'.join(targeted)) &\n",
    "                    ~line_therapy_fl['LineName'].str.contains('Clinical Study Drug')]\n",
    "    [['PatientID', 'StartDate']]\n",
    ")"
   ]
  },
  {
   "cell_type": "code",
   "execution_count": 245,
   "id": "2cbd7ee3",
   "metadata": {},
   "outputs": [],
   "source": [
    "key189_cis.loc[:, 'carb'] = 0"
   ]
  },
  {
   "cell_type": "code",
   "execution_count": 246,
   "id": "420263ef",
   "metadata": {},
   "outputs": [],
   "source": [
    "key189_plat = pd.concat([key189_carb, key189_cis])"
   ]
  },
  {
   "cell_type": "code",
   "execution_count": 247,
   "id": "e0bb65e4",
   "metadata": {},
   "outputs": [],
   "source": [
    "key189_plat.loc[:, 'pembro'] = 0"
   ]
  },
  {
   "cell_type": "code",
   "execution_count": 248,
   "id": "8f6500c8",
   "metadata": {},
   "outputs": [
    {
     "data": {
      "text/plain": [
       "(25861, 25861)"
      ]
     },
     "execution_count": 248,
     "metadata": {},
     "output_type": "execute_result"
    }
   ],
   "source": [
    "row_ID(key189_plat)"
   ]
  },
  {
   "cell_type": "code",
   "execution_count": 249,
   "id": "e9a5d7df",
   "metadata": {},
   "outputs": [],
   "source": [
    "# Dataframe of all therapies received for those receiving first line platinum regimen \n",
    "line_therapy_plat_189 = (\n",
    "    line_therapy[line_therapy['PatientID'].isin(key189_plat.PatientID)])"
   ]
  },
  {
   "cell_type": "code",
   "execution_count": 250,
   "id": "f57f3d5b",
   "metadata": {},
   "outputs": [],
   "source": [
    "# Patients receiving platinum therapy who later recieve targeted therapy\n",
    "plat_189_xcross = (\n",
    "    line_therapy_plat_189[line_therapy_plat_189['LineName'].str.contains('|'.join(targeted))].PatientID)"
   ]
  },
  {
   "cell_type": "code",
   "execution_count": 251,
   "id": "98b1ad82",
   "metadata": {},
   "outputs": [],
   "source": [
    "# Select patients who don't receive targeted therapy\n",
    "key189_plat = key189_plat[~key189_plat['PatientID'].isin(plat_189_xcross)]"
   ]
  },
  {
   "cell_type": "code",
   "execution_count": 252,
   "id": "45d335e5",
   "metadata": {},
   "outputs": [
    {
     "data": {
      "text/plain": [
       "(23800, 23800)"
      ]
     },
     "execution_count": 252,
     "metadata": {},
     "output_type": "execute_result"
    }
   ],
   "source": [
    "row_ID(key189_plat)"
   ]
  },
  {
   "cell_type": "code",
   "execution_count": 253,
   "id": "270ce236",
   "metadata": {},
   "outputs": [],
   "source": [
    "key_189 = pd.concat([key189_pembro, key189_plat])"
   ]
  },
  {
   "cell_type": "code",
   "execution_count": 254,
   "id": "40afaafc",
   "metadata": {},
   "outputs": [
    {
     "data": {
      "text/plain": [
       "(29473, 29473)"
      ]
     },
     "execution_count": 254,
     "metadata": {},
     "output_type": "execute_result"
    }
   ],
   "source": [
    "row_ID(key_189)"
   ]
  },
  {
   "cell_type": "markdown",
   "id": "ee5a6440",
   "metadata": {},
   "source": [
    "#### Platinum-based chemotherapy dosing"
   ]
  },
  {
   "cell_type": "markdown",
   "id": "539dc0d0",
   "metadata": {},
   "source": [
    "#### Carboplatin"
   ]
  },
  {
   "cell_type": "code",
   "execution_count": 255,
   "id": "148fd359",
   "metadata": {},
   "outputs": [],
   "source": [
    "med_order = pd.read_csv('MedicationOrder.csv', low_memory = False)"
   ]
  },
  {
   "cell_type": "code",
   "execution_count": 256,
   "id": "10f966f0",
   "metadata": {},
   "outputs": [],
   "source": [
    "med_order['ExpectedStartDate'] = np.where(med_order['ExpectedStartDate'].isna(), \n",
    "                                          med_order['OrderedDate'], \n",
    "                                          med_order['ExpectedStartDate'])"
   ]
  },
  {
   "cell_type": "code",
   "execution_count": 257,
   "id": "934984ec",
   "metadata": {},
   "outputs": [],
   "source": [
    "med_order.loc[:, 'ExpectedStartDate'] = pd.to_datetime(med_order['ExpectedStartDate'])"
   ]
  },
  {
   "cell_type": "code",
   "execution_count": 258,
   "id": "86b5969e",
   "metadata": {},
   "outputs": [],
   "source": [
    "key_189.loc[:, 'StartDate'] = pd.to_datetime(key_189['StartDate'])"
   ]
  },
  {
   "cell_type": "code",
   "execution_count": 259,
   "id": "c9db74f8",
   "metadata": {},
   "outputs": [],
   "source": [
    "med_order_carb = (\n",
    "    med_order[med_order['PatientID'].isin(key_189.query('carb == 1').PatientID)]\n",
    "    .query('CommonDrugName == \"carboplatin\"')\n",
    ")"
   ]
  },
  {
   "cell_type": "code",
   "execution_count": 260,
   "id": "27158688",
   "metadata": {},
   "outputs": [
    {
     "data": {
      "text/plain": [
       "(176309, 18)"
      ]
     },
     "execution_count": 260,
     "metadata": {},
     "output_type": "execute_result"
    }
   ],
   "source": [
    "med_order_carb.shape"
   ]
  },
  {
   "cell_type": "code",
   "execution_count": 261,
   "id": "74dba64f",
   "metadata": {},
   "outputs": [],
   "source": [
    "med_order_carb = pd.merge(med_order_carb, \n",
    "                          key_189.query('carb == 1')[['PatientID', 'StartDate']], \n",
    "                          on = 'PatientID', \n",
    "                          how = 'left')"
   ]
  },
  {
   "cell_type": "code",
   "execution_count": 262,
   "id": "28ebc083",
   "metadata": {},
   "outputs": [
    {
     "data": {
      "text/plain": [
       "(176309, 19)"
      ]
     },
     "execution_count": 262,
     "metadata": {},
     "output_type": "execute_result"
    }
   ],
   "source": [
    "med_order_carb.shape"
   ]
  },
  {
   "cell_type": "code",
   "execution_count": 263,
   "id": "93acf1a6",
   "metadata": {},
   "outputs": [],
   "source": [
    "med_order_carb.loc[:, 'date_diff'] = (med_order_carb['ExpectedStartDate'] - med_order_carb['StartDate']).dt.days.abs()"
   ]
  },
  {
   "cell_type": "code",
   "execution_count": 264,
   "id": "cd788ca6",
   "metadata": {},
   "outputs": [],
   "source": [
    "med_order_carb = med_order_carb.query('date_diff <= 14')"
   ]
  },
  {
   "cell_type": "code",
   "execution_count": 265,
   "id": "71ddbe79",
   "metadata": {},
   "outputs": [],
   "source": [
    "carb_index = med_order_carb.groupby('PatientID')['date_diff'].idxmin()"
   ]
  },
  {
   "cell_type": "code",
   "execution_count": 266,
   "id": "6bd3595c",
   "metadata": {},
   "outputs": [],
   "source": [
    "carb_dose = med_order_carb.loc[carb_index].query('RelativeOrderedUnits == \"AUC\"')[['PatientID', 'RelativeOrderedAmount']]"
   ]
  },
  {
   "cell_type": "code",
   "execution_count": 267,
   "id": "58a56103",
   "metadata": {},
   "outputs": [],
   "source": [
    "carb_dose = carb_dose.rename(columns = {'RelativeOrderedAmount': 'carb_dose_auc'})"
   ]
  },
  {
   "cell_type": "code",
   "execution_count": 268,
   "id": "4fdd6bdf",
   "metadata": {},
   "outputs": [],
   "source": [
    "carb_IDs = carb_dose.query('carb_dose_auc >= 4').PatientID"
   ]
  },
  {
   "cell_type": "markdown",
   "id": "fb4f253e",
   "metadata": {},
   "source": [
    "#### Cisplatin"
   ]
  },
  {
   "cell_type": "code",
   "execution_count": 269,
   "id": "8ec6d295",
   "metadata": {},
   "outputs": [],
   "source": [
    "med_order_cis = (\n",
    "    med_order[med_order['PatientID'].isin(key_189.query('carb == 0').PatientID)]\n",
    "    .query('CommonDrugName == \"cisplatin\"')\n",
    ")"
   ]
  },
  {
   "cell_type": "code",
   "execution_count": 270,
   "id": "a9373864",
   "metadata": {},
   "outputs": [
    {
     "data": {
      "text/plain": [
       "(10685, 18)"
      ]
     },
     "execution_count": 270,
     "metadata": {},
     "output_type": "execute_result"
    }
   ],
   "source": [
    "med_order_cis.shape"
   ]
  },
  {
   "cell_type": "code",
   "execution_count": 271,
   "id": "1d3a3ff1",
   "metadata": {},
   "outputs": [],
   "source": [
    "med_order_cis = pd.merge(med_order_cis,\n",
    "                         key_189.query('carb == 0')[['PatientID', 'StartDate']], \n",
    "                         on = 'PatientID', \n",
    "                         how = 'left')"
   ]
  },
  {
   "cell_type": "code",
   "execution_count": 272,
   "id": "cceb1f49",
   "metadata": {},
   "outputs": [
    {
     "data": {
      "text/plain": [
       "(10685, 19)"
      ]
     },
     "execution_count": 272,
     "metadata": {},
     "output_type": "execute_result"
    }
   ],
   "source": [
    "med_order_cis.shape"
   ]
  },
  {
   "cell_type": "code",
   "execution_count": 273,
   "id": "00f28d6b",
   "metadata": {},
   "outputs": [],
   "source": [
    "med_order_cis.loc[:, 'date_diff'] = (med_order_cis['ExpectedStartDate'] - med_order_cis['StartDate']).dt.days.abs()"
   ]
  },
  {
   "cell_type": "code",
   "execution_count": 274,
   "id": "acffe7f3",
   "metadata": {},
   "outputs": [],
   "source": [
    "med_order_cis = med_order_cis.query('date_diff <= 14')"
   ]
  },
  {
   "cell_type": "code",
   "execution_count": 275,
   "id": "c39d3cac",
   "metadata": {},
   "outputs": [],
   "source": [
    "cis_index = med_order_cis.groupby('PatientID')['date_diff'].idxmin()"
   ]
  },
  {
   "cell_type": "code",
   "execution_count": 276,
   "id": "90d586dc",
   "metadata": {},
   "outputs": [],
   "source": [
    "cis_dose = med_order_cis.loc[cis_index].query('RelativeOrderedUnits == \"mg/m2\"')[['PatientID', 'RelativeOrderedAmount']]"
   ]
  },
  {
   "cell_type": "code",
   "execution_count": 277,
   "id": "da2a0217",
   "metadata": {},
   "outputs": [],
   "source": [
    "cis_dose = cis_dose.rename(columns = {'RelativeOrderedAmount': 'cis_dose_mgm2'})"
   ]
  },
  {
   "cell_type": "code",
   "execution_count": 278,
   "id": "5c431c2f",
   "metadata": {},
   "outputs": [],
   "source": [
    "cis_IDs = cis_dose.query('cis_dose_mgm2 >= 75').PatientID"
   ]
  },
  {
   "cell_type": "code",
   "execution_count": 279,
   "id": "73317659",
   "metadata": {},
   "outputs": [],
   "source": [
    "key_189 = key_189[key_189['PatientID'].isin(pd.concat([carb_IDs, cis_IDs]))]"
   ]
  },
  {
   "cell_type": "code",
   "execution_count": 280,
   "id": "ef189310",
   "metadata": {},
   "outputs": [],
   "source": [
    "key_189 = key_189.drop(columns = ['carb'])"
   ]
  },
  {
   "cell_type": "code",
   "execution_count": 281,
   "id": "15e466c9",
   "metadata": {},
   "outputs": [
    {
     "data": {
      "text/plain": [
       "(16634, 16634)"
      ]
     },
     "execution_count": 281,
     "metadata": {},
     "output_type": "execute_result"
    }
   ],
   "source": [
    "row_ID(key_189)"
   ]
  },
  {
   "cell_type": "code",
   "execution_count": 282,
   "id": "7c99ac27",
   "metadata": {},
   "outputs": [],
   "source": [
    "key_189 = pd.merge(key_189, df_full, on = 'PatientID', how = 'left')"
   ]
  },
  {
   "cell_type": "code",
   "execution_count": 283,
   "id": "6c576aa8",
   "metadata": {},
   "outputs": [
    {
     "data": {
      "text/plain": [
       "(16634, 16634)"
      ]
     },
     "execution_count": 283,
     "metadata": {},
     "output_type": "execute_result"
    }
   ],
   "source": [
    "row_ID(key_189)"
   ]
  },
  {
   "cell_type": "markdown",
   "id": "a88228f1",
   "metadata": {},
   "source": [
    "#### Time from treatment to death or censor"
   ]
  },
  {
   "cell_type": "code",
   "execution_count": 284,
   "id": "c1e8d5c4",
   "metadata": {},
   "outputs": [],
   "source": [
    "mortality_tr = pd.read_csv('mortality_cleaned_tr.csv')"
   ]
  },
  {
   "cell_type": "code",
   "execution_count": 285,
   "id": "eb139077",
   "metadata": {},
   "outputs": [],
   "source": [
    "mortality_te = pd.read_csv('mortality_cleaned_te.csv')"
   ]
  },
  {
   "cell_type": "code",
   "execution_count": 286,
   "id": "33a76b4a",
   "metadata": {},
   "outputs": [],
   "source": [
    "mortality_tr = mortality_tr[['PatientID', 'death_date', 'last_activity']]"
   ]
  },
  {
   "cell_type": "code",
   "execution_count": 287,
   "id": "2658541b",
   "metadata": {},
   "outputs": [],
   "source": [
    "mortality_te = mortality_te[['PatientID', 'death_date', 'last_activity']]"
   ]
  },
  {
   "cell_type": "code",
   "execution_count": 288,
   "id": "dacc123c",
   "metadata": {},
   "outputs": [
    {
     "name": "stdout",
     "output_type": "stream",
     "text": [
      "68483 True\n"
     ]
    }
   ],
   "source": [
    "mortality = pd.concat([mortality_tr, mortality_te], ignore_index = True)\n",
    "print(len(mortality), mortality.PatientID.is_unique)"
   ]
  },
  {
   "cell_type": "code",
   "execution_count": 289,
   "id": "5c68ef5f",
   "metadata": {},
   "outputs": [],
   "source": [
    "mortality.loc[:, 'last_activity'] = pd.to_datetime(mortality['last_activity'])"
   ]
  },
  {
   "cell_type": "code",
   "execution_count": 290,
   "id": "8ac97087",
   "metadata": {},
   "outputs": [],
   "source": [
    "mortality.loc[:, 'death_date'] = pd.to_datetime(mortality['death_date'])"
   ]
  },
  {
   "cell_type": "code",
   "execution_count": 291,
   "id": "6c67cd6d",
   "metadata": {},
   "outputs": [],
   "source": [
    "key_189 = pd.merge(key_189, mortality, on = 'PatientID', how = 'left')"
   ]
  },
  {
   "cell_type": "code",
   "execution_count": 292,
   "id": "7519c610",
   "metadata": {},
   "outputs": [
    {
     "data": {
      "text/plain": [
       "16634"
      ]
     },
     "execution_count": 292,
     "metadata": {},
     "output_type": "execute_result"
    }
   ],
   "source": [
    "len(key_189)"
   ]
  },
  {
   "cell_type": "code",
   "execution_count": 293,
   "id": "e9adfaf5",
   "metadata": {},
   "outputs": [],
   "source": [
    "conditions = [\n",
    "    (key_189['death_status'] == 1),\n",
    "    (key_189['death_status'] == 0)]\n",
    "\n",
    "choices = [\n",
    "    (key_189['death_date'] - key_189['StartDate']).dt.days,\n",
    "    (key_189['last_activity'] - key_189['StartDate']).dt.days]\n",
    "\n",
    "key_189.loc[:, 'timerisk_treatment'] = np.select(conditions, choices)"
   ]
  },
  {
   "cell_type": "code",
   "execution_count": 294,
   "id": "2dec50fc",
   "metadata": {},
   "outputs": [],
   "source": [
    "key_189 = key_189.query('timerisk_treatment >= 0')"
   ]
  },
  {
   "cell_type": "markdown",
   "id": "466c3fb8",
   "metadata": {},
   "source": [
    "#### Patient count"
   ]
  },
  {
   "cell_type": "code",
   "execution_count": 295,
   "id": "02f50d30",
   "metadata": {},
   "outputs": [],
   "source": [
    "key_189 = (\n",
    "    key_189\n",
    "    .query('EGFR != \"positive\"')\n",
    "    .query('ALK != \"positive\"')\n",
    ")"
   ]
  },
  {
   "cell_type": "code",
   "execution_count": 296,
   "id": "8009871b",
   "metadata": {},
   "outputs": [],
   "source": [
    "low_cutoff_189 = cutoff.loc['keynote_189'].low"
   ]
  },
  {
   "cell_type": "code",
   "execution_count": 297,
   "id": "6d02122f",
   "metadata": {},
   "outputs": [],
   "source": [
    "high_cutoff_189 = cutoff.loc['keynote_189'].high"
   ]
  },
  {
   "cell_type": "code",
   "execution_count": 298,
   "id": "1bf997d8",
   "metadata": {},
   "outputs": [
    {
     "name": "stdout",
     "output_type": "stream",
     "text": [
      "Pembro + chemo total: 4178\n",
      "High risk: 1475\n",
      "Med risk: 1362\n",
      "Low risk: 1341\n"
     ]
    }
   ],
   "source": [
    "print('Pembro + chemo total:',  key_189.query('pembro == 1').shape[0])\n",
    "print('High risk:', key_189.query('pembro == 1').query('risk_score >= @high_cutoff_189').shape[0])\n",
    "print('Med risk:', key_189.query('pembro == 1').query('risk_score < @high_cutoff_189 and risk_score > @low_cutoff_189').shape[0])\n",
    "print('Low risk:', key_189.query('pembro == 1').query('risk_score <= @low_cutoff_189').shape[0])"
   ]
  },
  {
   "cell_type": "code",
   "execution_count": 299,
   "id": "d74792a3",
   "metadata": {},
   "outputs": [
    {
     "name": "stdout",
     "output_type": "stream",
     "text": [
      "Platinum total: 12195\n",
      "High risk: 4360\n",
      "Med risk: 4173\n",
      "Low risk: 3662\n"
     ]
    }
   ],
   "source": [
    "print('Platinum total:',  key_189.query('pembro == 0').shape[0])\n",
    "print('High risk:', key_189.query('pembro == 0').query('risk_score >= @high_cutoff_189').shape[0])\n",
    "print('Med risk:', key_189.query('pembro == 0').query('risk_score < @high_cutoff_189 and risk_score > @low_cutoff_189').shape[0])\n",
    "print('Low risk:', key_189.query('pembro == 0').query('risk_score <= @low_cutoff_189').shape[0])"
   ]
  },
  {
   "cell_type": "markdown",
   "id": "3282df1b",
   "metadata": {},
   "source": [
    "#### Survival curves with covariate balancing"
   ]
  },
  {
   "cell_type": "code",
   "execution_count": 300,
   "id": "54f145cc",
   "metadata": {},
   "outputs": [],
   "source": [
    "key_189 = key_189.set_index('PatientID')"
   ]
  },
  {
   "cell_type": "code",
   "execution_count": 301,
   "id": "ad713d30",
   "metadata": {},
   "outputs": [],
   "source": [
    "key_189_iptw = key_189.filter(items = ['death_status',\n",
    "                                       'timerisk_treatment',\n",
    "                                       'pembro',\n",
    "                                       'age',\n",
    "                                       'gender',\n",
    "                                       'race',\n",
    "                                       'PracticeType',\n",
    "                                       'Histology',\n",
    "                                       'adv_year',\n",
    "                                       'delta_adv_diagnosis',\n",
    "                                       'commercial',\n",
    "                                       'medicare',\n",
    "                                       'medicaid',\n",
    "                                       'ecog_diagnosis',\n",
    "                                       'pdl1',\n",
    "                                       'risk_score'])"
   ]
  },
  {
   "cell_type": "code",
   "execution_count": 302,
   "id": "bf5405a2",
   "metadata": {},
   "outputs": [],
   "source": [
    "key_189_iptw['met_cat'] = pd.cut(key_189_iptw['adv_year'],\n",
    "                                 bins = [2010, 2018, float('inf')],\n",
    "                                 labels = ['11-18', '19-22'])"
   ]
  },
  {
   "cell_type": "code",
   "execution_count": 303,
   "id": "53dc7402",
   "metadata": {},
   "outputs": [],
   "source": [
    "conditions = [\n",
    "    ((key_189_iptw['pdl1'] == \"1-49%\") | (key_189_iptw['pdl1'] == \"50-100%\"))]\n",
    "\n",
    "choices = ['>0%']\n",
    "\n",
    "key_189_iptw['pdl1_cat'] = np.select(conditions, choices, default = key_189_iptw['pdl1'])"
   ]
  },
  {
   "cell_type": "code",
   "execution_count": 304,
   "id": "bce7fdf2",
   "metadata": {},
   "outputs": [],
   "source": [
    "conditions = [\n",
    "    ((key_189_iptw['ecog_diagnosis'] == \"1.0\") | (key_189_iptw['ecog_diagnosis'] == \"0.0\")),  \n",
    "    ((key_189_iptw['ecog_diagnosis'] == \"2.0\") | (key_189_iptw['ecog_diagnosis'] == \"3.0\"))\n",
    "]\n",
    "\n",
    "choices = ['lt_2', 'gte_2']\n",
    "\n",
    "key_189_iptw['ecog_2'] = np.select(conditions, choices, default = 'unknown')"
   ]
  },
  {
   "cell_type": "code",
   "execution_count": 305,
   "id": "6ea9392a",
   "metadata": {},
   "outputs": [
    {
     "data": {
      "text/plain": [
       "death_status               bool\n",
       "timerisk_treatment      float64\n",
       "pembro                    int64\n",
       "age                       int64\n",
       "gender                   object\n",
       "race                     object\n",
       "PracticeType             object\n",
       "Histology                object\n",
       "adv_year                  int64\n",
       "delta_adv_diagnosis       int64\n",
       "commercial              float64\n",
       "medicare                float64\n",
       "medicaid                float64\n",
       "ecog_diagnosis           object\n",
       "pdl1                     object\n",
       "risk_score              float64\n",
       "met_cat                category\n",
       "pdl1_cat                 object\n",
       "ecog_2                   object\n",
       "dtype: object"
      ]
     },
     "execution_count": 305,
     "metadata": {},
     "output_type": "execute_result"
    }
   ],
   "source": [
    "key_189_iptw.dtypes"
   ]
  },
  {
   "cell_type": "code",
   "execution_count": 306,
   "id": "47961135",
   "metadata": {},
   "outputs": [],
   "source": [
    "to_be_categorical = list(key_189_iptw.select_dtypes(include = ['object']).columns)"
   ]
  },
  {
   "cell_type": "code",
   "execution_count": 307,
   "id": "65e20309",
   "metadata": {},
   "outputs": [
    {
     "data": {
      "text/plain": [
       "['gender',\n",
       " 'race',\n",
       " 'PracticeType',\n",
       " 'Histology',\n",
       " 'ecog_diagnosis',\n",
       " 'pdl1',\n",
       " 'pdl1_cat',\n",
       " 'ecog_2']"
      ]
     },
     "execution_count": 307,
     "metadata": {},
     "output_type": "execute_result"
    }
   ],
   "source": [
    "to_be_categorical"
   ]
  },
  {
   "cell_type": "code",
   "execution_count": 308,
   "id": "0550524f",
   "metadata": {},
   "outputs": [],
   "source": [
    "to_be_categorical.append('met_cat')"
   ]
  },
  {
   "cell_type": "code",
   "execution_count": 309,
   "id": "5451bcec",
   "metadata": {},
   "outputs": [],
   "source": [
    "to_be_categorical.remove('pdl1')"
   ]
  },
  {
   "cell_type": "code",
   "execution_count": 310,
   "id": "6149e13a",
   "metadata": {},
   "outputs": [],
   "source": [
    "to_be_categorical.remove('ecog_diagnosis')"
   ]
  },
  {
   "cell_type": "code",
   "execution_count": 311,
   "id": "f085c4ee",
   "metadata": {},
   "outputs": [],
   "source": [
    "# Convert variables in list to categorical.\n",
    "for x in list(to_be_categorical):\n",
    "    key_189_iptw[x] = key_189_iptw[x].astype('category')"
   ]
  },
  {
   "cell_type": "code",
   "execution_count": 312,
   "id": "a79578b2",
   "metadata": {},
   "outputs": [],
   "source": [
    "# List of numeric variables, excluding binary variables. \n",
    "numerical_features = ['age', 'delta_adv_diagnosis']\n",
    "\n",
    "# Transformer will first calculate column median and impute, and then apply a standard scaler. \n",
    "numerical_transformer = Pipeline(steps = [\n",
    "    ('imputer', SimpleImputer(strategy = 'median')),\n",
    "    ('std_scaler', StandardScaler())])"
   ]
  },
  {
   "cell_type": "code",
   "execution_count": 313,
   "id": "954d8ba5",
   "metadata": {},
   "outputs": [],
   "source": [
    "# List of categorical features.\n",
    "categorical_features = list(key_189_iptw.select_dtypes(include = ['category']).columns)\n",
    "\n",
    "# One-hot-encode categorical features.\n",
    "categorical_transformer = OneHotEncoder(handle_unknown = 'ignore')"
   ]
  },
  {
   "cell_type": "code",
   "execution_count": 314,
   "id": "961a9b34",
   "metadata": {},
   "outputs": [],
   "source": [
    "preprocessor = ColumnTransformer(\n",
    "    transformers = [\n",
    "        ('num', numerical_transformer, numerical_features),\n",
    "        ('cat', categorical_transformer, categorical_features)],\n",
    "    remainder = 'passthrough')"
   ]
  },
  {
   "cell_type": "code",
   "execution_count": 315,
   "id": "ff3d31ab",
   "metadata": {},
   "outputs": [],
   "source": [
    "key_189_iptw_low = (\n",
    "    key_189_iptw\n",
    "    .query('risk_score <= @low_cutoff_189')\n",
    "    .drop(columns = ['risk_score']))\n",
    "\n",
    "key_189_iptw_med = (\n",
    "    key_189_iptw\n",
    "    .query('risk_score < @high_cutoff_189 and risk_score > @low_cutoff_189')\n",
    "    .drop(columns = ['risk_score']))\n",
    "\n",
    "key_189_iptw_high = (\n",
    "    key_189_iptw\n",
    "    .query('risk_score >= @high_cutoff_189')\n",
    "    .drop(columns = ['risk_score']))\n",
    "\n",
    "key_189_iptw_all = (\n",
    "    key_189_iptw\n",
    "    .drop(columns = ['risk_score']))"
   ]
  },
  {
   "cell_type": "code",
   "execution_count": 316,
   "id": "e1c1e736",
   "metadata": {},
   "outputs": [],
   "source": [
    "key_189_low_x = preprocessor.fit_transform(key_189_iptw_low.filter(items = ['age',\n",
    "                                                                            'gender',\n",
    "                                                                            'race',\n",
    "                                                                            'PracticeType',\n",
    "                                                                            'Histology',\n",
    "                                                                            'met_cat',\n",
    "                                                                            'delta_adv_diagnosis',\n",
    "                                                                            'commercial',\n",
    "                                                                            'medicare',\n",
    "                                                                            'medicaid',\n",
    "                                                                            'ecog_2',\n",
    "                                                                            'pdl1_cat']))\n",
    "\n",
    "key_189_med_x = preprocessor.fit_transform(key_189_iptw_med.filter(items = ['age',\n",
    "                                                                            'gender',\n",
    "                                                                            'race',\n",
    "                                                                            'PracticeType',\n",
    "                                                                            'Histology',\n",
    "                                                                            'met_cat',\n",
    "                                                                            'delta_adv_diagnosis',\n",
    "                                                                            'commercial',\n",
    "                                                                            'medicare',\n",
    "                                                                            'medicaid',\n",
    "                                                                            'ecog_2',\n",
    "                                                                            'pdl1_cat']))\n",
    "\n",
    "key_189_high_x = preprocessor.fit_transform(key_189_iptw_high.filter(items = ['age',\n",
    "                                                                              'gender',\n",
    "                                                                              'race',\n",
    "                                                                              'PracticeType',\n",
    "                                                                              'Histology',\n",
    "                                                                              'met_cat',\n",
    "                                                                              'delta_adv_diagnosis',\n",
    "                                                                              'commercial',\n",
    "                                                                              'medicare',\n",
    "                                                                              'medicaid',\n",
    "                                                                              'ecog_2',\n",
    "                                                                              'pdl1_cat']))\n",
    "\n",
    "key_189_all_x = preprocessor.fit_transform(key_189_iptw_all.filter(items = ['age',\n",
    "                                                                            'gender',\n",
    "                                                                            'race',\n",
    "                                                                            'PracticeType',\n",
    "                                                                            'Histology',\n",
    "                                                                            'met_cat',\n",
    "                                                                            'delta_adv_diagnosis',\n",
    "                                                                            'commercial',\n",
    "                                                                            'medicare',\n",
    "                                                                            'medicaid',\n",
    "                                                                            'ecog_2',\n",
    "                                                                            'pdl1_cat']))"
   ]
  },
  {
   "cell_type": "code",
   "execution_count": 317,
   "id": "58c4472f",
   "metadata": {},
   "outputs": [
    {
     "data": {
      "text/plain": [
       "LogisticRegression(max_iter=1000)"
      ]
     },
     "execution_count": 317,
     "metadata": {},
     "output_type": "execute_result"
    }
   ],
   "source": [
    "lr_189_low = LogisticRegression(max_iter = 1000)\n",
    "lr_189_low.fit(key_189_low_x, key_189_iptw_low['pembro'])"
   ]
  },
  {
   "cell_type": "code",
   "execution_count": 318,
   "id": "2d553c7b",
   "metadata": {},
   "outputs": [
    {
     "data": {
      "text/plain": [
       "LogisticRegression(max_iter=1000)"
      ]
     },
     "execution_count": 318,
     "metadata": {},
     "output_type": "execute_result"
    }
   ],
   "source": [
    "lr_189_med = LogisticRegression(max_iter = 1000)\n",
    "lr_189_med.fit(key_189_med_x, key_189_iptw_med['pembro'])"
   ]
  },
  {
   "cell_type": "code",
   "execution_count": 319,
   "id": "66f5aa5b",
   "metadata": {},
   "outputs": [
    {
     "data": {
      "text/plain": [
       "LogisticRegression(max_iter=1000)"
      ]
     },
     "execution_count": 319,
     "metadata": {},
     "output_type": "execute_result"
    }
   ],
   "source": [
    "lr_189_high = LogisticRegression(max_iter = 1000)\n",
    "lr_189_high.fit(key_189_high_x, key_189_iptw_high['pembro'])"
   ]
  },
  {
   "cell_type": "code",
   "execution_count": 320,
   "id": "834b6bde",
   "metadata": {},
   "outputs": [
    {
     "data": {
      "text/plain": [
       "LogisticRegression(max_iter=1000)"
      ]
     },
     "execution_count": 320,
     "metadata": {},
     "output_type": "execute_result"
    }
   ],
   "source": [
    "lr_189_all = LogisticRegression(max_iter = 1000)\n",
    "lr_189_all.fit(key_189_all_x, key_189_iptw_all['pembro'])"
   ]
  },
  {
   "cell_type": "code",
   "execution_count": 321,
   "id": "019571f7",
   "metadata": {},
   "outputs": [],
   "source": [
    "pred_low = lr_189_low.predict_proba(key_189_low_x)\n",
    "pred_med = lr_189_med.predict_proba(key_189_med_x)\n",
    "pred_high = lr_189_high.predict_proba(key_189_high_x)\n",
    "pred_all = lr_189_all.predict_proba(key_189_all_x)"
   ]
  },
  {
   "cell_type": "code",
   "execution_count": 322,
   "id": "5e05202f",
   "metadata": {},
   "outputs": [],
   "source": [
    "key_189_iptw_low['ps'] = pred_low[:, 1]\n",
    "key_189_iptw_med['ps'] = pred_med[:, 1]\n",
    "key_189_iptw_high['ps'] = pred_high[:, 1]\n",
    "key_189_iptw_all['ps'] = pred_all[:, 1]"
   ]
  },
  {
   "cell_type": "code",
   "execution_count": 323,
   "id": "a100ac6e",
   "metadata": {},
   "outputs": [],
   "source": [
    "key_189_iptw_low['weight'] = (\n",
    "    np.where(key_189_iptw_low['pembro'] == 1, 1/key_189_iptw_low['ps'], 1/(1 - key_189_iptw_low['ps'])))\n",
    "\n",
    "key_189_iptw_med['weight'] = (\n",
    "    np.where(key_189_iptw_med['pembro'] == 1, 1/key_189_iptw_med['ps'], 1/(1 - key_189_iptw_med['ps'])))\n",
    "\n",
    "key_189_iptw_high['weight'] = (\n",
    "    np.where(key_189_iptw_high['pembro'] == 1, 1/key_189_iptw_high['ps'], 1/(1 - key_189_iptw_high['ps'])))\n",
    "\n",
    "key_189_iptw_all['weight'] = (\n",
    "    np.where(key_189_iptw_all['pembro'] == 1, 1/key_189_iptw_all['ps'], 1/(1 - key_189_iptw_all['ps'])))"
   ]
  },
  {
   "cell_type": "code",
   "execution_count": 324,
   "id": "066d28fb",
   "metadata": {},
   "outputs": [
    {
     "name": "stderr",
     "output_type": "stream",
     "text": [
      "/Users/xavierorcutt/Dropbox/ist_project/myenv/lib/python3.7/site-packages/lifelines/fitters/kaplan_meier_fitter.py:344: StatisticalWarning: It looks like your weights are not integers, possibly propensity scores then?\n",
      "  It's important to know that the naive variance estimates of the coefficients are biased. Instead use Monte Carlo to\n",
      "  estimate the variances. See paper \"Variance estimation when using inverse probability of treatment weighting (IPTW) with survival analysis\"\n",
      "  or \"Adjusted Kaplan-Meier estimator and log-rank test with inverse probability of treatment weighting for survival data.\"\n",
      "                  \n",
      "  StatisticalWarning,\n"
     ]
    },
    {
     "data": {
      "text/plain": [
       "<lifelines.KaplanMeierFitter:\"KM_estimate\", fitted with 17948 total observations, 4930.09 right-censored observations>"
      ]
     },
     "execution_count": 324,
     "metadata": {},
     "output_type": "execute_result"
    }
   ],
   "source": [
    "# Low KM curves\n",
    "kmf_low_pembro_189_iptw = KaplanMeierFitter()\n",
    "kmf_low_plat_189_iptw = KaplanMeierFitter()\n",
    "\n",
    "kmf_low_pembro_189_iptw.fit(\n",
    "    key_189_iptw_low.query('pembro == 1').timerisk_treatment/30,\n",
    "    key_189_iptw_low.query('pembro == 1').death_status,\n",
    "    weights = key_189_iptw_low.query('pembro == 1')['weight'])\n",
    "\n",
    "kmf_low_plat_189_iptw.fit(\n",
    "    key_189_iptw_low.query('pembro == 0').timerisk_treatment/30,\n",
    "    key_189_iptw_low.query('pembro == 0').death_status,\n",
    "    weights = key_189_iptw_low.query('pembro == 0')['weight'])\n",
    "\n",
    "# Med KM curves\n",
    "kmf_med_pembro_189_iptw = KaplanMeierFitter()\n",
    "kmf_med_plat_189_iptw = KaplanMeierFitter()\n",
    "\n",
    "kmf_med_pembro_189_iptw.fit(\n",
    "    key_189_iptw_med.query('pembro == 1').timerisk_treatment/30,\n",
    "    key_189_iptw_med.query('pembro == 1').death_status,\n",
    "    weights = key_189_iptw_med.query('pembro == 1')['weight'])\n",
    "\n",
    "kmf_med_plat_189_iptw.fit(\n",
    "    key_189_iptw_med.query('pembro == 0').timerisk_treatment/30,\n",
    "    key_189_iptw_med.query('pembro == 0').death_status,\n",
    "    weights = key_189_iptw_med.query('pembro == 0')['weight'])\n",
    "\n",
    "# High KM curves \n",
    "kmf_high_pembro_189_iptw = KaplanMeierFitter()\n",
    "kmf_high_plat_189_iptw = KaplanMeierFitter()\n",
    "\n",
    "kmf_high_pembro_189_iptw.fit(\n",
    "    key_189_iptw_high.query('pembro == 1').timerisk_treatment/30,\n",
    "    key_189_iptw_high.query('pembro == 1').death_status,\n",
    "    weights = key_189_iptw_high.query('pembro == 1')['weight'])\n",
    "\n",
    "kmf_high_plat_189_iptw.fit(\n",
    "    key_189_iptw_high.query('pembro == 0').timerisk_treatment/30,\n",
    "    key_189_iptw_high.query('pembro == 0').death_status,\n",
    "    weights = key_189_iptw_high.query('pembro == 0')['weight'])\n",
    "\n",
    "# All KM curves \n",
    "kmf_all_pembro_189_iptw = KaplanMeierFitter()\n",
    "kmf_all_plat_189_iptw = KaplanMeierFitter()\n",
    "\n",
    "kmf_all_pembro_189_iptw.fit(\n",
    "    key_189_iptw_all.query('pembro == 1').timerisk_treatment/30,\n",
    "    key_189_iptw_all.query('pembro == 1').death_status,\n",
    "    weights = key_189_iptw_all.query('pembro == 1')['weight'])\n",
    "\n",
    "kmf_all_plat_189_iptw.fit(\n",
    "    key_189_iptw_all.query('pembro == 0').timerisk_treatment/30,\n",
    "    key_189_iptw_all.query('pembro == 0').death_status,\n",
    "    weights = key_189_iptw_all.query('pembro == 0')['weight'])"
   ]
  },
  {
   "cell_type": "code",
   "execution_count": 325,
   "id": "904f6228",
   "metadata": {},
   "outputs": [
    {
     "data": {
      "image/png": "[encoded data removed]",
      "text/plain": [
       "<Figure size 1800x600 with 9 Axes>"
      ]
     },
     "metadata": {},
     "output_type": "display_data"
    }
   ],
   "source": [
    "fig = plt.figure(figsize=(18, 6))\n",
    "\n",
    "# Plot survival curves for low risk group \n",
    "plt.subplot(1, 4, 1)\n",
    "\n",
    "plt.step(kmf_low_pembro_189_iptw.timeline, kmf_low_pembro_189_iptw.survival_function_.values*100, color = 'red', alpha = 0.5)\n",
    "\n",
    "plt.step(kmf_low_plat_189_iptw.timeline, kmf_low_plat_189_iptw.survival_function_.values*100, color = 'black', alpha = 0.5)\n",
    "\n",
    "plt.xticks(np.arange(0, 43, 6))\n",
    "plt.xlim(0, 43)\n",
    "plt.ylim(0, 100)\n",
    "\n",
    "plt.title('Low-risk', weight = 'bold')\n",
    "plt.ylabel('Overall survival (%)', size = 12, weight = 'bold')\n",
    "\n",
    "plt.gca().spines['top'].set_visible(False)\n",
    "plt.gca().spines['right'].set_visible(False)\n",
    "\n",
    "add_at_risk_counts(kmf_low_pembro_189_iptw, kmf_low_plat_189_iptw, ypos = -0.8, xticks = np.arange(6, 43, 6), labels = ['Pembrolizumab + chemotherapy', 'Chemotherapy'])\n",
    "\n",
    "# Plot survival curves for med risk group. \n",
    "plt.subplot(1, 4, 2)\n",
    "\n",
    "plt.step(kmf_med_pembro_189_iptw.timeline, kmf_med_pembro_189_iptw.survival_function_.values*100, color = 'red', alpha = 0.5)\n",
    "\n",
    "plt.step(kmf_med_plat_189_iptw.timeline, kmf_med_plat_189_iptw.survival_function_.values*100, color = 'black', alpha = 0.5)\n",
    "\n",
    "plt.xticks(np.arange(0, 43, 6))\n",
    "plt.xlim(0, 43)\n",
    "plt.ylim(0, 100)\n",
    "\n",
    "plt.title('Med-risk', weight = 'bold')\n",
    "\n",
    "plt.gca().spines['top'].set_visible(False)\n",
    "plt.gca().spines['right'].set_visible(False)\n",
    "\n",
    "add_at_risk_counts(kmf_med_pembro_189_iptw, kmf_med_plat_189_iptw, ypos = -0.8, xticks = np.arange(6, 43, 6), labels = [' ', ' '])\n",
    "\n",
    "# Plot survival curves by treatment for high risk group. \n",
    "plt.subplot(1, 4, 3)\n",
    "\n",
    "plt.step(kmf_high_pembro_189_iptw.timeline, kmf_high_pembro_189_iptw.survival_function_.values*100, color = 'red', alpha = 0.5)\n",
    "\n",
    "plt.step(kmf_high_plat_189_iptw.timeline, kmf_high_plat_189_iptw.survival_function_.values*100, color = 'black', alpha = 0.5)\n",
    "\n",
    "plt.xticks(np.arange(0, 43, 6))\n",
    "plt.xlim(0, 43)\n",
    "plt.ylim(0, 100)\n",
    "\n",
    "plt.title('High-risk', weight = 'bold')\n",
    "\n",
    "plt.gca().spines['top'].set_visible(False)\n",
    "plt.gca().spines['right'].set_visible(False)\n",
    "\n",
    "add_at_risk_counts(kmf_high_pembro_189_iptw, kmf_high_plat_189_iptw, ypos = -0.8, xticks = np.arange(6, 43, 6), labels = [' ', ' '])\n",
    "\n",
    "# Plot survival curves by treatment for all risk group. \n",
    "plt.subplot(1, 4, 4)\n",
    "\n",
    "plt.step(kmf_all_pembro_189_iptw.timeline, kmf_all_pembro_189_iptw.survival_function_.values*100, color = 'red', alpha = 0.5, label = 'Pembrolizumab + chemotherapy')\n",
    "\n",
    "plt.step(kmf_all_plat_189_iptw.timeline, kmf_all_plat_189_iptw.survival_function_.values*100, color = 'black', alpha = 0.5, label = 'Chemotherapy')\n",
    "\n",
    "plt.xticks(np.arange(0, 43, 6))\n",
    "plt.xlim(0, 43)\n",
    "plt.ylim(0, 100)\n",
    "\n",
    "plt.title('Full cohort', weight = 'bold')\n",
    "\n",
    "plt.gca().spines['top'].set_visible(False)\n",
    "plt.gca().spines['right'].set_visible(False)\n",
    "\n",
    "plt.legend(loc = 'center right', prop = {'size': 9})\n",
    "\n",
    "add_at_risk_counts(kmf_all_pembro_189_iptw, kmf_all_plat_189_iptw, ypos = -0.8, xticks = np.arange(6, 43, 6), labels = [' ', ' '])\n",
    "\n",
    "fig.add_subplot(1, 1, 1, frameon = False)\n",
    "plt.tick_params(labelcolor = 'none', which = 'both', top = False, bottom = False, left = False, right = False)\n",
    "plt.xlabel('Months after treatment', labelpad = 15, size = 12, weight = 'bold')\n",
    "plt.title('KEYNOTE-189: Overall survival for pembrolizumab plus chemotherapy vs. chemotherapy', pad = 40, size = 15, weight = 'bold')\n",
    "\n",
    "plt.show()"
   ]
  },
  {
   "cell_type": "markdown",
   "id": "f19ba82f",
   "metadata": {},
   "source": [
    "### CHECKMATE-078: Second-line nivolumab vs. docetaxel\n",
    "\n",
    "**INCLUSION CRITERIA**\n",
    "* Advanced or metastatic NSCLC \n",
    "* Progressed on first line platinum-based chemotherapy \n",
    "* Received second line nivolumab or docetaxel\n",
    "* Received appropriate dose of docetaxel\n",
    "* Prior treatments with docetaxel or immunotherapy contraindicated\n",
    "* EGFR and ALK negative "
   ]
  },
  {
   "cell_type": "markdown",
   "id": "4ec99a7d",
   "metadata": {},
   "source": [
    "#### Nivolumab "
   ]
  },
  {
   "cell_type": "code",
   "execution_count": 326,
   "id": "2e94f33a",
   "metadata": {},
   "outputs": [
    {
     "data": {
      "text/plain": [
       "68483"
      ]
     },
     "execution_count": 326,
     "metadata": {},
     "output_type": "execute_result"
    }
   ],
   "source": [
    "df_full = pd.read_csv('df_risk_crude.csv', index_col = 'PatientID', dtype = {'death_status': bool})\n",
    "df_full.index.nunique()"
   ]
  },
  {
   "cell_type": "code",
   "execution_count": 327,
   "id": "ea4438cf",
   "metadata": {},
   "outputs": [],
   "source": [
    "line_therapy = pd.read_csv('LineOfTherapy.csv')"
   ]
  },
  {
   "cell_type": "code",
   "execution_count": 328,
   "id": "8540b5c7",
   "metadata": {},
   "outputs": [],
   "source": [
    "line_therapy_fl = (\n",
    "    line_therapy[line_therapy.PatientID.isin(df_full.index)]\n",
    "    .query('LineNumber == 1')\n",
    "    .query('IsMaintenanceTherapy == False')\n",
    ")"
   ]
  },
  {
   "cell_type": "code",
   "execution_count": 329,
   "id": "21e6e560",
   "metadata": {},
   "outputs": [],
   "source": [
    "targeted = [\n",
    "    'Afatinib',\n",
    "    'Alectinib',\n",
    "    'Brigatinib',\n",
    "    'Cabozantinib',\n",
    "    'Capmatinib',\n",
    "    'Ceritinib',\n",
    "    'Crizotinib',\n",
    "    'Dabrafenib',\n",
    "    'Dacomitinib',\n",
    "    'Entrectinib',\n",
    "    'Erlotinib',\n",
    "    'Gefitinib',\n",
    "    'Lorlatinib',\n",
    "    'Osimertinib',\n",
    "    'Pralsetinib',\n",
    "    'Selpercatinib',\n",
    "    'Sotorasib',\n",
    "    'Tepotinib',\n",
    "    'Trametinib',\n",
    "    'Vandetanib']"
   ]
  },
  {
   "cell_type": "code",
   "execution_count": 330,
   "id": "347ad7a0",
   "metadata": {},
   "outputs": [],
   "source": [
    "immunotherapy = [\n",
    "    'Atezolizumab',\n",
    "    'Cemiplimab',\n",
    "    'Durvalumab',\n",
    "    'Ipilimumab',\n",
    "    'Nivolumab',\n",
    "    'Pembrolizumab'\n",
    "]"
   ]
  },
  {
   "cell_type": "code",
   "execution_count": 331,
   "id": "a568410f",
   "metadata": {},
   "outputs": [],
   "source": [
    "fl_plat = (\n",
    "    line_therapy_fl\n",
    "    [line_therapy_fl['LineName'].str.contains('Carboplatin|Cisplatin')\n",
    "     & ~line_therapy_fl['LineName'].str.contains('Docetaxel')\n",
    "     & ~line_therapy_fl['LineName'].str.contains('|'.join(targeted))\n",
    "     & ~line_therapy_fl['LineName'].str.contains('|'.join(immunotherapy))]\n",
    "    .PatientID\n",
    ")"
   ]
  },
  {
   "cell_type": "code",
   "execution_count": 332,
   "id": "87a9805f",
   "metadata": {},
   "outputs": [],
   "source": [
    "checkmate_nivo = (\n",
    "    line_therapy[line_therapy.PatientID.isin(fl_plat)]\n",
    "    .query('LineNumber == 2')\n",
    "    .query('LineName == \"Nivolumab\"')\n",
    "    [['PatientID', 'StartDate']]\n",
    ")"
   ]
  },
  {
   "cell_type": "code",
   "execution_count": 333,
   "id": "564ef042",
   "metadata": {},
   "outputs": [],
   "source": [
    "checkmate_nivo.loc[:, 'nivo'] = 1"
   ]
  },
  {
   "cell_type": "code",
   "execution_count": 334,
   "id": "41e6f7d1",
   "metadata": {},
   "outputs": [
    {
     "data": {
      "text/plain": [
       "(3397, 3397)"
      ]
     },
     "execution_count": 334,
     "metadata": {},
     "output_type": "execute_result"
    }
   ],
   "source": [
    "row_ID(checkmate_nivo)"
   ]
  },
  {
   "cell_type": "markdown",
   "id": "00552283",
   "metadata": {},
   "source": [
    "#### Docetaxel"
   ]
  },
  {
   "cell_type": "code",
   "execution_count": 335,
   "id": "d2a97f0e",
   "metadata": {},
   "outputs": [],
   "source": [
    "checkmate_dotx = (\n",
    "    line_therapy[line_therapy.PatientID.isin(fl_plat)]\n",
    "    .query('LineNumber == 2')\n",
    "    .query('LineName == \"Docetaxel\"')\n",
    "    [['PatientID', 'StartDate']]\n",
    ")"
   ]
  },
  {
   "cell_type": "code",
   "execution_count": 336,
   "id": "1a0428d0",
   "metadata": {},
   "outputs": [],
   "source": [
    "checkmate_dotx.loc[:, 'nivo'] = 0"
   ]
  },
  {
   "cell_type": "code",
   "execution_count": 337,
   "id": "0e3208e1",
   "metadata": {},
   "outputs": [
    {
     "data": {
      "text/plain": [
       "(745, 745)"
      ]
     },
     "execution_count": 337,
     "metadata": {},
     "output_type": "execute_result"
    }
   ],
   "source": [
    "row_ID(checkmate_dotx)"
   ]
  },
  {
   "cell_type": "markdown",
   "id": "c94b4cf2",
   "metadata": {},
   "source": [
    "#### Docetaxel dosing"
   ]
  },
  {
   "cell_type": "code",
   "execution_count": 338,
   "id": "82d1a5b7",
   "metadata": {},
   "outputs": [],
   "source": [
    "med_order = pd.read_csv('MedicationOrder.csv', low_memory = False)"
   ]
  },
  {
   "cell_type": "code",
   "execution_count": 339,
   "id": "d6a61940",
   "metadata": {},
   "outputs": [],
   "source": [
    "med_order['ExpectedStartDate'] = np.where(med_order['ExpectedStartDate'].isna(), \n",
    "                                          med_order['OrderedDate'], \n",
    "                                          med_order['ExpectedStartDate'])"
   ]
  },
  {
   "cell_type": "code",
   "execution_count": 340,
   "id": "890ff707",
   "metadata": {},
   "outputs": [],
   "source": [
    "med_order.loc[:, 'ExpectedStartDate'] = pd.to_datetime(med_order['ExpectedStartDate'])"
   ]
  },
  {
   "cell_type": "code",
   "execution_count": 341,
   "id": "78d5cf71",
   "metadata": {},
   "outputs": [],
   "source": [
    "checkmate_dotx.loc[:, 'StartDate'] = pd.to_datetime(checkmate_dotx['StartDate'])"
   ]
  },
  {
   "cell_type": "code",
   "execution_count": 342,
   "id": "0a5c7adb",
   "metadata": {},
   "outputs": [],
   "source": [
    "med_order_dotx = (\n",
    "    med_order[med_order['PatientID'].isin(checkmate_dotx.PatientID)]\n",
    "    .query('CommonDrugName == \"docetaxel\"')\n",
    ")"
   ]
  },
  {
   "cell_type": "code",
   "execution_count": 343,
   "id": "2ceb652e",
   "metadata": {},
   "outputs": [
    {
     "data": {
      "text/plain": [
       "(4537, 18)"
      ]
     },
     "execution_count": 343,
     "metadata": {},
     "output_type": "execute_result"
    }
   ],
   "source": [
    "med_order_dotx.shape"
   ]
  },
  {
   "cell_type": "code",
   "execution_count": 344,
   "id": "5cf1e0a9",
   "metadata": {},
   "outputs": [],
   "source": [
    "med_order_dotx = pd.merge(med_order_dotx, \n",
    "                          checkmate_dotx[['PatientID', 'StartDate']], \n",
    "                          on = 'PatientID', \n",
    "                          how = 'left')"
   ]
  },
  {
   "cell_type": "code",
   "execution_count": 345,
   "id": "97b5b55e",
   "metadata": {},
   "outputs": [
    {
     "data": {
      "text/plain": [
       "(4537, 19)"
      ]
     },
     "execution_count": 345,
     "metadata": {},
     "output_type": "execute_result"
    }
   ],
   "source": [
    "med_order_dotx.shape"
   ]
  },
  {
   "cell_type": "code",
   "execution_count": 346,
   "id": "d11a48ec",
   "metadata": {},
   "outputs": [],
   "source": [
    "med_order_dotx.loc[:, 'date_diff'] = (med_order_dotx['ExpectedStartDate'] - med_order_dotx['StartDate']).dt.days.abs()"
   ]
  },
  {
   "cell_type": "code",
   "execution_count": 347,
   "id": "4f94b145",
   "metadata": {},
   "outputs": [],
   "source": [
    "med_order_dotx = med_order_dotx.query('date_diff <= 14')"
   ]
  },
  {
   "cell_type": "code",
   "execution_count": 348,
   "id": "b61b4be6",
   "metadata": {},
   "outputs": [],
   "source": [
    "dotx_index = med_order_dotx.groupby('PatientID')['date_diff'].idxmin()"
   ]
  },
  {
   "cell_type": "code",
   "execution_count": 349,
   "id": "189a4280",
   "metadata": {},
   "outputs": [],
   "source": [
    "dotx_dose = med_order_dotx.loc[dotx_index].query('RelativeOrderedUnits == \"mg/m2\"')[['PatientID', 'RelativeOrderedAmount']]"
   ]
  },
  {
   "cell_type": "code",
   "execution_count": 350,
   "id": "317cd396",
   "metadata": {},
   "outputs": [],
   "source": [
    "dotx_dose = dotx_dose.rename(columns = {'RelativeOrderedAmount': 'dotx_dose_mgm2'})"
   ]
  },
  {
   "cell_type": "code",
   "execution_count": 351,
   "id": "59b85119",
   "metadata": {},
   "outputs": [],
   "source": [
    "dotx_IDs = dotx_dose.query('dotx_dose_mgm2 >= 75').PatientID"
   ]
  },
  {
   "cell_type": "code",
   "execution_count": 352,
   "id": "b0018a65",
   "metadata": {},
   "outputs": [],
   "source": [
    "checkmate_dotx = checkmate_dotx[checkmate_dotx['PatientID'].isin(dotx_IDs)]"
   ]
  },
  {
   "cell_type": "markdown",
   "id": "87721f1d",
   "metadata": {},
   "source": [
    "#### Combining docetaxel and nivolumab dataframes "
   ]
  },
  {
   "cell_type": "code",
   "execution_count": 353,
   "id": "64ac5028",
   "metadata": {},
   "outputs": [],
   "source": [
    "checkmate = pd.concat([checkmate_nivo, checkmate_dotx])"
   ]
  },
  {
   "cell_type": "code",
   "execution_count": 354,
   "id": "d22a206e",
   "metadata": {},
   "outputs": [
    {
     "data": {
      "text/plain": [
       "(3854, 3854)"
      ]
     },
     "execution_count": 354,
     "metadata": {},
     "output_type": "execute_result"
    }
   ],
   "source": [
    "row_ID(checkmate)"
   ]
  },
  {
   "cell_type": "code",
   "execution_count": 355,
   "id": "2a567a3b",
   "metadata": {},
   "outputs": [],
   "source": [
    "checkmate = pd.merge(checkmate, df_full, on = 'PatientID', how = 'left')"
   ]
  },
  {
   "cell_type": "code",
   "execution_count": 356,
   "id": "1b45fcc4",
   "metadata": {},
   "outputs": [
    {
     "data": {
      "text/plain": [
       "(3854, 3854)"
      ]
     },
     "execution_count": 356,
     "metadata": {},
     "output_type": "execute_result"
    }
   ],
   "source": [
    "row_ID(checkmate)"
   ]
  },
  {
   "cell_type": "code",
   "execution_count": 357,
   "id": "3250cdcd",
   "metadata": {},
   "outputs": [],
   "source": [
    "checkmate['StartDate'] = pd.to_datetime(checkmate['StartDate'])"
   ]
  },
  {
   "cell_type": "markdown",
   "id": "36bbdbf0",
   "metadata": {},
   "source": [
    "#### Time from treatment to death or censor "
   ]
  },
  {
   "cell_type": "code",
   "execution_count": 358,
   "id": "080df03b",
   "metadata": {},
   "outputs": [],
   "source": [
    "mortality_tr = pd.read_csv('mortality_cleaned_tr.csv')"
   ]
  },
  {
   "cell_type": "code",
   "execution_count": 359,
   "id": "c6cc6825",
   "metadata": {},
   "outputs": [],
   "source": [
    "mortality_te = pd.read_csv('mortality_cleaned_te.csv')"
   ]
  },
  {
   "cell_type": "code",
   "execution_count": 360,
   "id": "c11d83e3",
   "metadata": {},
   "outputs": [],
   "source": [
    "mortality_tr = mortality_tr[['PatientID', 'death_date', 'last_activity']]"
   ]
  },
  {
   "cell_type": "code",
   "execution_count": 361,
   "id": "6d61fa28",
   "metadata": {},
   "outputs": [],
   "source": [
    "mortality_te = mortality_te[['PatientID', 'death_date', 'last_activity']]"
   ]
  },
  {
   "cell_type": "code",
   "execution_count": 362,
   "id": "6a1350bb",
   "metadata": {},
   "outputs": [
    {
     "name": "stdout",
     "output_type": "stream",
     "text": [
      "68483 True\n"
     ]
    }
   ],
   "source": [
    "mortality = pd.concat([mortality_tr, mortality_te], ignore_index = True)\n",
    "print(len(mortality), mortality.PatientID.is_unique)"
   ]
  },
  {
   "cell_type": "code",
   "execution_count": 363,
   "id": "047b4f74",
   "metadata": {},
   "outputs": [],
   "source": [
    "mortality.loc[:, 'last_activity'] = pd.to_datetime(mortality['last_activity'])"
   ]
  },
  {
   "cell_type": "code",
   "execution_count": 364,
   "id": "f99d338e",
   "metadata": {},
   "outputs": [],
   "source": [
    "mortality.loc[:, 'death_date'] = pd.to_datetime(mortality['death_date'])"
   ]
  },
  {
   "cell_type": "code",
   "execution_count": 365,
   "id": "2f53d245",
   "metadata": {},
   "outputs": [],
   "source": [
    "checkmate = pd.merge(checkmate, mortality, on = 'PatientID', how = 'left')"
   ]
  },
  {
   "cell_type": "code",
   "execution_count": 366,
   "id": "f447adc4",
   "metadata": {},
   "outputs": [
    {
     "data": {
      "text/plain": [
       "(3854, 3854)"
      ]
     },
     "execution_count": 366,
     "metadata": {},
     "output_type": "execute_result"
    }
   ],
   "source": [
    "row_ID(checkmate)"
   ]
  },
  {
   "cell_type": "code",
   "execution_count": 367,
   "id": "15591da8",
   "metadata": {},
   "outputs": [],
   "source": [
    "conditions = [\n",
    "    (checkmate['death_status'] == 1),\n",
    "    (checkmate['death_status'] == 0)]\n",
    "\n",
    "choices = [\n",
    "    (checkmate['death_date'] - checkmate['StartDate']).dt.days,\n",
    "    (checkmate['last_activity'] - checkmate['StartDate']).dt.days]\n",
    "\n",
    "checkmate.loc[:, 'timerisk_treatment'] = np.select(conditions, choices)"
   ]
  },
  {
   "cell_type": "code",
   "execution_count": 368,
   "id": "a2e94db1",
   "metadata": {},
   "outputs": [],
   "source": [
    "checkmate = checkmate.query('timerisk_treatment >= 0')"
   ]
  },
  {
   "cell_type": "markdown",
   "id": "06dc5740",
   "metadata": {},
   "source": [
    "#### Patient count "
   ]
  },
  {
   "cell_type": "code",
   "execution_count": 369,
   "id": "73882a15",
   "metadata": {},
   "outputs": [],
   "source": [
    "checkmate = (\n",
    "    checkmate\n",
    "    .query('EGFR != \"positive\"')\n",
    "    .query('ALK != \"positive\"')\n",
    ")"
   ]
  },
  {
   "cell_type": "code",
   "execution_count": 370,
   "id": "b111ad91",
   "metadata": {},
   "outputs": [],
   "source": [
    "low_cutoff_078 = cutoff.loc['checkmate_078'].low"
   ]
  },
  {
   "cell_type": "code",
   "execution_count": 371,
   "id": "6421790f",
   "metadata": {},
   "outputs": [],
   "source": [
    "high_cutoff_078 = cutoff.loc['checkmate_078'].high"
   ]
  },
  {
   "cell_type": "code",
   "execution_count": 372,
   "id": "5fb7fc92",
   "metadata": {},
   "outputs": [
    {
     "name": "stdout",
     "output_type": "stream",
     "text": [
      "Nivolumab total: 3339\n",
      "High risk: 1112\n",
      "Med risk: 1114\n",
      "Low risk: 1113\n"
     ]
    }
   ],
   "source": [
    "print('Nivolumab total:',  checkmate.query('nivo == 1').shape[0])\n",
    "print('High risk:', checkmate.query('nivo == 1').query('risk_score >= @high_cutoff_078').shape[0])\n",
    "print('Med risk:', checkmate.query('nivo == 1').query('risk_score < @high_cutoff_078 and risk_score > @low_cutoff_078').shape[0])\n",
    "print('Low risk:', checkmate.query('nivo == 1').query('risk_score <= @low_cutoff_078').shape[0])"
   ]
  },
  {
   "cell_type": "code",
   "execution_count": 373,
   "id": "c0155796",
   "metadata": {},
   "outputs": [
    {
     "name": "stdout",
     "output_type": "stream",
     "text": [
      "Docetaxel total: 450\n",
      "High risk: 145\n",
      "Med risk: 155\n",
      "Low risk: 150\n"
     ]
    }
   ],
   "source": [
    "print('Docetaxel total:',  checkmate.query('nivo == 0').shape[0])\n",
    "print('High risk:', checkmate.query('nivo == 0').query('risk_score >= @high_cutoff_078').shape[0])\n",
    "print('Med risk:', checkmate.query('nivo == 0').query('risk_score < @high_cutoff_078 and risk_score > @low_cutoff_078').shape[0])\n",
    "print('Low risk:', checkmate.query('nivo == 0').query('risk_score <= @low_cutoff_078').shape[0])"
   ]
  },
  {
   "cell_type": "markdown",
   "id": "82286371",
   "metadata": {},
   "source": [
    "#### Survival curves with covariate balancing"
   ]
  },
  {
   "cell_type": "code",
   "execution_count": 374,
   "id": "8707cf67",
   "metadata": {},
   "outputs": [],
   "source": [
    "checkmate = checkmate.set_index('PatientID')"
   ]
  },
  {
   "cell_type": "code",
   "execution_count": 375,
   "id": "0c3bb415",
   "metadata": {},
   "outputs": [],
   "source": [
    "check_iptw = checkmate.filter(items = ['death_status',\n",
    "                                       'timerisk_treatment',\n",
    "                                       'nivo',\n",
    "                                       'age',\n",
    "                                       'gender',\n",
    "                                       'race',\n",
    "                                       'PracticeType',\n",
    "                                       'Histology',\n",
    "                                       'adv_year',\n",
    "                                       'delta_adv_diagnosis',\n",
    "                                       'commercial',\n",
    "                                       'medicare',\n",
    "                                       'medicaid',\n",
    "                                       'ecog_diagnosis',\n",
    "                                       'pdl1',\n",
    "                                       'risk_score'])"
   ]
  },
  {
   "cell_type": "code",
   "execution_count": 376,
   "id": "370c550a",
   "metadata": {},
   "outputs": [],
   "source": [
    "check_iptw['met_cat'] = pd.cut(check_iptw['adv_year'],\n",
    "                               bins = [2010, 2015, float('inf')],\n",
    "                               labels = ['11-15', '16-20'])"
   ]
  },
  {
   "cell_type": "code",
   "execution_count": 377,
   "id": "513a24ca",
   "metadata": {},
   "outputs": [],
   "source": [
    "conditions = [\n",
    "    ((check_iptw['pdl1'] == \"1-49%\") | (check_iptw['pdl1'] == \"50-100%\"))]\n",
    "\n",
    "choices = ['>0%']\n",
    "\n",
    "check_iptw['pdl1_cat'] = np.select(conditions, choices, default = check_iptw['pdl1'])"
   ]
  },
  {
   "cell_type": "code",
   "execution_count": 378,
   "id": "4f8d0f75",
   "metadata": {},
   "outputs": [],
   "source": [
    "conditions = [\n",
    "    ((check_iptw['ecog_diagnosis'] == \"1.0\") | (check_iptw['ecog_diagnosis'] == \"0.0\")),  \n",
    "    ((check_iptw['ecog_diagnosis'] == \"2.0\") | (check_iptw['ecog_diagnosis'] == \"3.0\"))\n",
    "]\n",
    "\n",
    "choices = ['lt_2', 'gte_2']\n",
    "\n",
    "check_iptw['ecog_2'] = np.select(conditions, choices, default = 'unknown')"
   ]
  },
  {
   "cell_type": "code",
   "execution_count": 379,
   "id": "659c29f5",
   "metadata": {},
   "outputs": [
    {
     "data": {
      "text/plain": [
       "death_status               bool\n",
       "timerisk_treatment      float64\n",
       "nivo                      int64\n",
       "age                       int64\n",
       "gender                   object\n",
       "race                     object\n",
       "PracticeType             object\n",
       "Histology                object\n",
       "adv_year                  int64\n",
       "delta_adv_diagnosis       int64\n",
       "commercial              float64\n",
       "medicare                float64\n",
       "medicaid                float64\n",
       "ecog_diagnosis           object\n",
       "pdl1                     object\n",
       "risk_score              float64\n",
       "met_cat                category\n",
       "pdl1_cat                 object\n",
       "ecog_2                   object\n",
       "dtype: object"
      ]
     },
     "execution_count": 379,
     "metadata": {},
     "output_type": "execute_result"
    }
   ],
   "source": [
    "check_iptw.dtypes"
   ]
  },
  {
   "cell_type": "code",
   "execution_count": 380,
   "id": "58164c85",
   "metadata": {},
   "outputs": [],
   "source": [
    "to_be_categorical = list(check_iptw.select_dtypes(include = ['object']).columns)"
   ]
  },
  {
   "cell_type": "code",
   "execution_count": 381,
   "id": "01a9bfb5",
   "metadata": {},
   "outputs": [
    {
     "data": {
      "text/plain": [
       "['gender',\n",
       " 'race',\n",
       " 'PracticeType',\n",
       " 'Histology',\n",
       " 'ecog_diagnosis',\n",
       " 'pdl1',\n",
       " 'pdl1_cat',\n",
       " 'ecog_2']"
      ]
     },
     "execution_count": 381,
     "metadata": {},
     "output_type": "execute_result"
    }
   ],
   "source": [
    "to_be_categorical"
   ]
  },
  {
   "cell_type": "code",
   "execution_count": 382,
   "id": "81e9b7ee",
   "metadata": {},
   "outputs": [],
   "source": [
    "to_be_categorical.append('met_cat')"
   ]
  },
  {
   "cell_type": "code",
   "execution_count": 383,
   "id": "d2285d70",
   "metadata": {},
   "outputs": [],
   "source": [
    "to_be_categorical.remove('pdl1')"
   ]
  },
  {
   "cell_type": "code",
   "execution_count": 384,
   "id": "1323ffeb",
   "metadata": {},
   "outputs": [],
   "source": [
    "to_be_categorical.remove('ecog_diagnosis')"
   ]
  },
  {
   "cell_type": "code",
   "execution_count": 385,
   "id": "27263abb",
   "metadata": {},
   "outputs": [],
   "source": [
    "# Convert variables in list to categorical.\n",
    "for x in list(to_be_categorical):\n",
    "    check_iptw[x] = check_iptw[x].astype('category')"
   ]
  },
  {
   "cell_type": "code",
   "execution_count": 386,
   "id": "8b5d8516",
   "metadata": {},
   "outputs": [],
   "source": [
    "# List of numeric variables, excluding binary variables. \n",
    "numerical_features = ['age', 'delta_adv_diagnosis']\n",
    "\n",
    "# Transformer will first calculate column median and impute, and then apply a standard scaler. \n",
    "numerical_transformer = Pipeline(steps = [\n",
    "    ('imputer', SimpleImputer(strategy = 'median')),\n",
    "    ('std_scaler', StandardScaler())])"
   ]
  },
  {
   "cell_type": "code",
   "execution_count": 387,
   "id": "f703fbfc",
   "metadata": {},
   "outputs": [],
   "source": [
    "# List of categorical features.\n",
    "categorical_features = list(check_iptw.select_dtypes(include = ['category']).columns)\n",
    "\n",
    "# One-hot-encode categorical features.\n",
    "categorical_transformer = OneHotEncoder(handle_unknown = 'ignore')"
   ]
  },
  {
   "cell_type": "code",
   "execution_count": 388,
   "id": "6c7c17a3",
   "metadata": {},
   "outputs": [],
   "source": [
    "preprocessor = ColumnTransformer(\n",
    "    transformers = [\n",
    "        ('num', numerical_transformer, numerical_features),\n",
    "        ('cat', categorical_transformer, categorical_features)],\n",
    "    remainder = 'passthrough')"
   ]
  },
  {
   "cell_type": "code",
   "execution_count": 389,
   "id": "a311c99f",
   "metadata": {},
   "outputs": [],
   "source": [
    "check_iptw_low = (\n",
    "    check_iptw\n",
    "    .query('risk_score <= @low_cutoff_078')\n",
    "    .drop(columns = ['risk_score']))\n",
    "\n",
    "check_iptw_med = (\n",
    "    check_iptw\n",
    "    .query('risk_score < @high_cutoff_078 and risk_score > @low_cutoff_078')\n",
    "    .drop(columns = ['risk_score']))\n",
    "\n",
    "check_iptw_high = (\n",
    "    check_iptw\n",
    "    .query('risk_score >= @high_cutoff_078')\n",
    "    .drop(columns = ['risk_score']))\n",
    "\n",
    "check_iptw_all = (\n",
    "    check_iptw\n",
    "    .drop(columns = ['risk_score']))"
   ]
  },
  {
   "cell_type": "code",
   "execution_count": 390,
   "id": "18babc41",
   "metadata": {},
   "outputs": [],
   "source": [
    "check_low_x = preprocessor.fit_transform(check_iptw_low.filter(items = ['age',\n",
    "                                                                        'gender',\n",
    "                                                                        'race',\n",
    "                                                                        'PracticeType',\n",
    "                                                                        'Histology',\n",
    "                                                                        'met_cat',\n",
    "                                                                        'delta_adv_diagnosis',\n",
    "                                                                        'commercial',\n",
    "                                                                        'medicare',\n",
    "                                                                        'medicaid',\n",
    "                                                                        'ecog_2',\n",
    "                                                                        'pdl1_cat']))\n",
    "\n",
    "check_med_x = preprocessor.fit_transform(check_iptw_med.filter(items = ['age',\n",
    "                                                                        'gender',\n",
    "                                                                        'race',\n",
    "                                                                        'PracticeType',\n",
    "                                                                        'Histology',\n",
    "                                                                        'met_cat',\n",
    "                                                                        'delta_adv_diagnosis',\n",
    "                                                                        'commercial',\n",
    "                                                                        'medicare',\n",
    "                                                                        'medicaid',\n",
    "                                                                        'ecog_2',\n",
    "                                                                        'pdl1_cat']))\n",
    "\n",
    "check_high_x = preprocessor.fit_transform(check_iptw_high.filter(items = ['age',\n",
    "                                                                          'gender',\n",
    "                                                                          'race',\n",
    "                                                                          'PracticeType',\n",
    "                                                                          'Histology',\n",
    "                                                                          'met_cat',\n",
    "                                                                          'delta_adv_diagnosis',\n",
    "                                                                          'commercial',\n",
    "                                                                          'medicare',\n",
    "                                                                          'medicaid',\n",
    "                                                                          'ecog_2',\n",
    "                                                                          'pdl1_cat']))\n",
    "\n",
    "check_all_x = preprocessor.fit_transform(check_iptw_all.filter(items = ['age',\n",
    "                                                                        'gender',\n",
    "                                                                        'race',\n",
    "                                                                        'PracticeType',\n",
    "                                                                        'Histology',\n",
    "                                                                        'met_cat',\n",
    "                                                                        'delta_adv_diagnosis',\n",
    "                                                                        'commercial',\n",
    "                                                                        'medicare',\n",
    "                                                                        'medicaid',\n",
    "                                                                        'ecog_2',\n",
    "                                                                        'pdl1_cat']))"
   ]
  },
  {
   "cell_type": "code",
   "execution_count": 391,
   "id": "309053b6",
   "metadata": {},
   "outputs": [
    {
     "data": {
      "text/plain": [
       "LogisticRegression(max_iter=1000)"
      ]
     },
     "execution_count": 391,
     "metadata": {},
     "output_type": "execute_result"
    }
   ],
   "source": [
    "lr_check_low = LogisticRegression(max_iter = 1000)\n",
    "lr_check_low.fit(check_low_x, check_iptw_low['nivo'])"
   ]
  },
  {
   "cell_type": "code",
   "execution_count": 392,
   "id": "ae54c27d",
   "metadata": {},
   "outputs": [
    {
     "data": {
      "text/plain": [
       "LogisticRegression(max_iter=1000)"
      ]
     },
     "execution_count": 392,
     "metadata": {},
     "output_type": "execute_result"
    }
   ],
   "source": [
    "lr_check_med = LogisticRegression(max_iter = 1000)\n",
    "lr_check_med.fit(check_med_x, check_iptw_med['nivo'])"
   ]
  },
  {
   "cell_type": "code",
   "execution_count": 393,
   "id": "ad37cb9f",
   "metadata": {},
   "outputs": [
    {
     "data": {
      "text/plain": [
       "LogisticRegression(max_iter=1000)"
      ]
     },
     "execution_count": 393,
     "metadata": {},
     "output_type": "execute_result"
    }
   ],
   "source": [
    "lr_check_high = LogisticRegression(max_iter = 1000)\n",
    "lr_check_high.fit(check_high_x, check_iptw_high['nivo'])"
   ]
  },
  {
   "cell_type": "code",
   "execution_count": 394,
   "id": "8b57bd7f",
   "metadata": {},
   "outputs": [
    {
     "data": {
      "text/plain": [
       "LogisticRegression(max_iter=1000)"
      ]
     },
     "execution_count": 394,
     "metadata": {},
     "output_type": "execute_result"
    }
   ],
   "source": [
    "lr_check_all = LogisticRegression(max_iter = 1000)\n",
    "lr_check_all.fit(check_all_x, check_iptw_all['nivo'])"
   ]
  },
  {
   "cell_type": "code",
   "execution_count": 395,
   "id": "f4e4f2e3",
   "metadata": {},
   "outputs": [],
   "source": [
    "pred_low = lr_check_low.predict_proba(check_low_x)\n",
    "pred_med = lr_check_med.predict_proba(check_med_x)\n",
    "pred_high = lr_check_high.predict_proba(check_high_x)\n",
    "pred_all = lr_check_all.predict_proba(check_all_x)"
   ]
  },
  {
   "cell_type": "code",
   "execution_count": 396,
   "id": "6534b746",
   "metadata": {},
   "outputs": [],
   "source": [
    "check_iptw_low['ps'] = pred_low[:, 1]\n",
    "check_iptw_med['ps'] = pred_med[:, 1]\n",
    "check_iptw_high['ps'] = pred_high[:, 1]\n",
    "check_iptw_all['ps'] = pred_all[:, 1]"
   ]
  },
  {
   "cell_type": "code",
   "execution_count": 397,
   "id": "a7ea945e",
   "metadata": {},
   "outputs": [],
   "source": [
    "check_iptw_low['weight'] = (\n",
    "    np.where(check_iptw_low['nivo'] == 1, 1/check_iptw_low['ps'], 1/(1 - check_iptw_low['ps'])))\n",
    "\n",
    "check_iptw_med['weight'] = (\n",
    "    np.where(check_iptw_med['nivo'] == 1, 1/check_iptw_med['ps'], 1/(1 - check_iptw_med['ps'])))\n",
    "\n",
    "check_iptw_high['weight'] = (\n",
    "    np.where(check_iptw_high['nivo'] == 1, 1/check_iptw_high['ps'], 1/(1 - check_iptw_high['ps'])))\n",
    "\n",
    "check_iptw_all['weight'] = (\n",
    "    np.where(check_iptw_all['nivo'] == 1, 1/check_iptw_all['ps'], 1/(1 - check_iptw_all['ps'])))"
   ]
  },
  {
   "cell_type": "code",
   "execution_count": 398,
   "id": "4752eabe",
   "metadata": {},
   "outputs": [
    {
     "name": "stderr",
     "output_type": "stream",
     "text": [
      "/Users/xavierorcutt/Dropbox/ist_project/myenv/lib/python3.7/site-packages/lifelines/fitters/kaplan_meier_fitter.py:344: StatisticalWarning: It looks like your weights are not integers, possibly propensity scores then?\n",
      "  It's important to know that the naive variance estimates of the coefficients are biased. Instead use Monte Carlo to\n",
      "  estimate the variances. See paper \"Variance estimation when using inverse probability of treatment weighting (IPTW) with survival analysis\"\n",
      "  or \"Adjusted Kaplan-Meier estimator and log-rank test with inverse probability of treatment weighting for survival data.\"\n",
      "                  \n",
      "  StatisticalWarning,\n"
     ]
    },
    {
     "data": {
      "text/plain": [
       "<lifelines.KaplanMeierFitter:\"KM_estimate\", fitted with 3762.15 total observations, 493.787 right-censored observations>"
      ]
     },
     "execution_count": 398,
     "metadata": {},
     "output_type": "execute_result"
    }
   ],
   "source": [
    "# Low KM curves\n",
    "kmf_low_nivo_check_iptw = KaplanMeierFitter()\n",
    "kmf_low_dotx_check_iptw = KaplanMeierFitter()\n",
    "\n",
    "kmf_low_nivo_check_iptw.fit(\n",
    "    check_iptw_low.query('nivo == 1').timerisk_treatment/30,\n",
    "    check_iptw_low.query('nivo == 1').death_status,\n",
    "    weights = check_iptw_low.query('nivo == 1')['weight'])\n",
    "\n",
    "kmf_low_dotx_check_iptw.fit(\n",
    "    check_iptw_low.query('nivo == 0').timerisk_treatment/30,\n",
    "    check_iptw_low.query('nivo == 0').death_status,\n",
    "    weights = check_iptw_low.query('nivo == 0')['weight'])\n",
    "\n",
    "# Med KM curves\n",
    "kmf_med_nivo_check_iptw = KaplanMeierFitter()\n",
    "kmf_med_dotx_check_iptw = KaplanMeierFitter()\n",
    "\n",
    "kmf_med_nivo_check_iptw.fit(\n",
    "    check_iptw_med.query('nivo == 1').timerisk_treatment/30,\n",
    "    check_iptw_med.query('nivo == 1').death_status,\n",
    "    weights = check_iptw_med.query('nivo == 1')['weight'])\n",
    "\n",
    "kmf_med_dotx_check_iptw.fit(\n",
    "    check_iptw_med.query('nivo == 0').timerisk_treatment/30,\n",
    "    check_iptw_med.query('nivo == 0').death_status,\n",
    "    weights = check_iptw_med.query('nivo == 0')['weight'])\n",
    "\n",
    "# High KM curves \n",
    "kmf_high_nivo_check_iptw = KaplanMeierFitter()\n",
    "kmf_high_dotx_check_iptw = KaplanMeierFitter()\n",
    "\n",
    "kmf_high_nivo_check_iptw.fit(\n",
    "    check_iptw_high.query('nivo == 1').timerisk_treatment/30,\n",
    "    check_iptw_high.query('nivo == 1').death_status,\n",
    "    weights = check_iptw_high.query('nivo == 1')['weight'])\n",
    "\n",
    "kmf_high_dotx_check_iptw.fit(\n",
    "    check_iptw_high.query('nivo == 0').timerisk_treatment/30,\n",
    "    check_iptw_high.query('nivo == 0').death_status,\n",
    "    weights = check_iptw_high.query('nivo == 0')['weight'])\n",
    "\n",
    "# All KM curves \n",
    "kmf_all_nivo_check_iptw = KaplanMeierFitter()\n",
    "kmf_all_dotx_check_iptw = KaplanMeierFitter()\n",
    "\n",
    "kmf_all_nivo_check_iptw.fit(\n",
    "    check_iptw_all.query('nivo == 1').timerisk_treatment/30,\n",
    "    check_iptw_all.query('nivo == 1').death_status,\n",
    "    weights = check_iptw_all.query('nivo == 1')['weight'])\n",
    "\n",
    "kmf_all_dotx_check_iptw.fit(\n",
    "    check_iptw_all.query('nivo == 0').timerisk_treatment/30,\n",
    "    check_iptw_all.query('nivo == 0').death_status,\n",
    "    weights = check_iptw_all.query('nivo == 0')['weight'])"
   ]
  },
  {
   "cell_type": "code",
   "execution_count": 399,
   "id": "4e446507",
   "metadata": {},
   "outputs": [
    {
     "data": {
      "image/png": "[encoded data removed]",
      "text/plain": [
       "<Figure size 1800x600 with 9 Axes>"
      ]
     },
     "metadata": {},
     "output_type": "display_data"
    }
   ],
   "source": [
    "fig = plt.figure(figsize=(18, 6))\n",
    "\n",
    "# Plot survival curves for low risk group \n",
    "plt.subplot(1, 4, 1)\n",
    "\n",
    "plt.step(kmf_low_nivo_check_iptw.timeline, kmf_low_nivo_check_iptw.survival_function_.values*100, color = 'red', alpha = 0.5)\n",
    "\n",
    "plt.step(kmf_low_dotx_check_iptw.timeline, kmf_low_dotx_check_iptw.survival_function_.values*100, color = 'black', alpha = 0.5)\n",
    "\n",
    "plt.xticks(np.arange(0, 37, 6))\n",
    "plt.xlim(0, 37)\n",
    "plt.ylim(0, 100)\n",
    "\n",
    "plt.title('Low-risk', weight = 'bold')\n",
    "plt.ylabel('Overall survival (%)', size = 12, weight = 'bold')\n",
    "\n",
    "plt.gca().spines['top'].set_visible(False)\n",
    "plt.gca().spines['right'].set_visible(False)\n",
    "\n",
    "add_at_risk_counts(kmf_low_nivo_check_iptw, kmf_low_dotx_check_iptw, ypos = -0.8, xticks = np.arange(6, 37, 6), labels = ['Nivolumab', 'Docetaxel'])\n",
    "\n",
    "# Plot survival curves for med risk group. \n",
    "plt.subplot(1, 4, 2)\n",
    "\n",
    "plt.step(kmf_med_nivo_check_iptw.timeline, kmf_med_nivo_check_iptw.survival_function_.values*100, color = 'red', alpha = 0.5)\n",
    "\n",
    "plt.step(kmf_med_dotx_check_iptw.timeline, kmf_med_dotx_check_iptw.survival_function_.values*100, color = 'black', alpha = 0.5)\n",
    "\n",
    "plt.xticks(np.arange(0, 37, 6))\n",
    "plt.xlim(0, 37)\n",
    "plt.ylim(0, 100)\n",
    "\n",
    "plt.title('Med-risk', weight = 'bold')\n",
    "\n",
    "plt.gca().spines['top'].set_visible(False)\n",
    "plt.gca().spines['right'].set_visible(False)\n",
    "\n",
    "add_at_risk_counts(kmf_med_nivo_check_iptw, kmf_med_dotx_check_iptw, ypos = -0.8, xticks = np.arange(6, 37, 6), labels = [' ', ' '])\n",
    "\n",
    "# Plot survival curves by treatment for high risk group. \n",
    "plt.subplot(1, 4, 3)\n",
    "\n",
    "plt.step(kmf_high_nivo_check_iptw.timeline, kmf_high_nivo_check_iptw.survival_function_.values*100, color = 'red', alpha = 0.5)\n",
    "\n",
    "plt.step(kmf_high_dotx_check_iptw.timeline, kmf_high_dotx_check_iptw.survival_function_.values*100, color = 'black', alpha = 0.5)\n",
    "\n",
    "plt.xticks(np.arange(0, 37, 6))\n",
    "plt.xlim(0, 37)\n",
    "plt.ylim(0, 100)\n",
    "\n",
    "plt.title('High-risk', weight = 'bold')\n",
    "\n",
    "plt.gca().spines['top'].set_visible(False)\n",
    "plt.gca().spines['right'].set_visible(False)\n",
    "\n",
    "add_at_risk_counts(kmf_high_nivo_check_iptw, kmf_high_dotx_check_iptw, ypos = -0.8, xticks = np.arange(6, 37, 6), labels = [' ', ' '])\n",
    "\n",
    "# Plot survival curves by treatment for all risk group. \n",
    "plt.subplot(1, 4, 4)\n",
    "\n",
    "plt.step(kmf_all_nivo_check_iptw.timeline, kmf_all_nivo_check_iptw.survival_function_.values*100, color = 'red', alpha = 0.5, label = 'Nivolumab')\n",
    "\n",
    "plt.step(kmf_all_dotx_check_iptw.timeline, kmf_all_dotx_check_iptw.survival_function_.values*100, color = 'black', alpha = 0.5, label = 'Docetaxel')\n",
    "\n",
    "plt.xticks(np.arange(0, 37, 6))\n",
    "plt.xlim(0, 37)\n",
    "plt.ylim(0, 100)\n",
    "\n",
    "plt.title('Full cohort', weight = 'bold')\n",
    "\n",
    "plt.gca().spines['top'].set_visible(False)\n",
    "plt.gca().spines['right'].set_visible(False)\n",
    "\n",
    "plt.legend(loc = 'center right', prop = {'size': 9})\n",
    "\n",
    "add_at_risk_counts(kmf_all_nivo_check_iptw, kmf_all_dotx_check_iptw, ypos = -0.8, xticks = np.arange(6, 37, 6), labels = [' ', ' '])\n",
    "\n",
    "fig.add_subplot(1, 1, 1, frameon = False)\n",
    "plt.tick_params(labelcolor = 'none', which = 'both', top = False, bottom = False, left = False, right = False)\n",
    "plt.xlabel('Months after treatment', labelpad = 15, size = 12, weight = 'bold')\n",
    "plt.title('CHECKMATE-078: Overall survival for second-line nivolumab vs. docetaxel', pad = 40, size = 15, weight = 'bold')\n",
    "\n",
    "plt.show()"
   ]
  }
 ],
 "metadata": {
  "kernelspec": {
   "display_name": "My Virtual Environment",
   "language": "python",
   "name": "myenv"
  },
  "language_info": {
   "codemirror_mode": {
    "name": "ipython",
    "version": 3
   },
   "file_extension": ".py",
   "mimetype": "text/x-python",
   "name": "python",
   "nbconvert_exporter": "python",
   "pygments_lexer": "ipython3",
   "version": "3.7.10"
  }
 },
 "nbformat": 4,
 "nbformat_minor": 5
}
