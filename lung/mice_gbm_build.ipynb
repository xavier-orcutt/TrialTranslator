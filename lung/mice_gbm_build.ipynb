{
 "cells": [
  {
   "cell_type": "markdown",
   "id": "f5d4239a",
   "metadata": {},
   "source": [
    "# Flatiron Health aNSCLC: MICE\n",
    "\n",
    "**OBJECTIVE: Impute missing variables in the training dataset using multiple imputation chained equations (MICE). Five non-missing training sets will be construced using MICE along with 5 test sets. A gradient boosting model will be fit to each training dataset and a test set AUC will be calculated. The 1 year AUCs from the test set will be pooled to get a final estimate.** \n",
    "\n",
    "**BACKGROUND: The variables with the most missingness at time of advanced diagnosis are ECOG (50%), labs (30%), and changes in weight (11%). These three variables have high predictive value in our models. Up until this point, missingness has been handled by making \"unknown\" a level in the ECOG variable and imputing median for lab values and weight loss. While this imputation strategy is simple and fast, it likely understimates the variance of variables and disturb relations between variables when the data is not missing completely at random.** \n",
    "\n",
    "**Variables that will be imputed with MICE:** \n",
    "1. **ECOG (48% missing)**\n",
    "2. **BMI (15% missing)**\n",
    "3. **Weight (14% missing)**\n",
    "4. **Percent change in weight and weight slope (11% missing)**\n",
    "5. **Labs at time of advanced diagnosis (30% missing)**\n",
    "6. **Subset of summary labs (40% missing)**\n",
    "\n",
    "**Five complete training sets will be imputed using the Python package \"miceforest\" which uses lightgbm as a backend. Five complete test sets will also be imputed from the final model used to impute the training set values. All existing variables including outcome variables like death status and time until event will be utilized to aid in the imputations. In addition, auxillary variables such as receipt of treatment, weight and BMI at 3 months, and labs at 3 months will be created to augment imputations.**   \n",
    "\n",
    "**After complete training and test sets are constructed, a gradient boosting survival model will be built for each training set in the same fashion as in the crude imputation notebook. Final test AUCs will be pooled using Rubin's rules.**\n",
    "\n",
    "**OUTLINE:**\n",
    "1. **Building auxillary variables** \n",
    "2. **Performing MICE on training and test sets** \n",
    "3. **Building gradient boosting models on imputed datasets**\n",
    "4. **Pooling results**"
   ]
  },
  {
   "cell_type": "markdown",
   "id": "a04e3e61",
   "metadata": {},
   "source": [
    "## 1. Building auxillary varibles "
   ]
  },
  {
   "cell_type": "code",
   "execution_count": 1,
   "id": "c1261e4c",
   "metadata": {},
   "outputs": [],
   "source": [
    "import numpy as np\n",
    "import pandas as pd"
   ]
  },
  {
   "cell_type": "code",
   "execution_count": 2,
   "id": "4b3097a3",
   "metadata": {},
   "outputs": [],
   "source": [
    "# Function that returns number of rows and count of unique PatientIDs for a dataframe. \n",
    "def row_ID(dataframe):\n",
    "    row = dataframe.shape[0]\n",
    "    ID = dataframe['PatientID'].nunique()\n",
    "    return row, ID"
   ]
  },
  {
   "cell_type": "markdown",
   "id": "b805cd66",
   "metadata": {},
   "source": [
    "### 1.1 Preprocessing"
   ]
  },
  {
   "cell_type": "code",
   "execution_count": 3,
   "id": "dd3b006b",
   "metadata": {},
   "outputs": [
    {
     "data": {
      "text/plain": [
       "(54786, 54786)"
      ]
     },
     "execution_count": 3,
     "metadata": {},
     "output_type": "execute_result"
    }
   ],
   "source": [
    "train = pd.read_csv('train_full.csv')\n",
    "row_ID(train)"
   ]
  },
  {
   "cell_type": "code",
   "execution_count": 4,
   "id": "1874231a",
   "metadata": {},
   "outputs": [
    {
     "data": {
      "text/plain": [
       "(13697, 13697)"
      ]
     },
     "execution_count": 4,
     "metadata": {},
     "output_type": "execute_result"
    }
   ],
   "source": [
    "test = pd.read_csv('test_full.csv')\n",
    "row_ID(test)"
   ]
  },
  {
   "cell_type": "code",
   "execution_count": 5,
   "id": "757d5b84",
   "metadata": {},
   "outputs": [
    {
     "data": {
      "text/plain": [
       "(68483, 68483)"
      ]
     },
     "execution_count": 5,
     "metadata": {},
     "output_type": "execute_result"
    }
   ],
   "source": [
    "df = pd.concat([train, test], ignore_index = True)\n",
    "row_ID(df)"
   ]
  },
  {
   "cell_type": "markdown",
   "id": "78164528",
   "metadata": {},
   "source": [
    "### 1.2 Treatment "
   ]
  },
  {
   "cell_type": "markdown",
   "id": "48cd6913",
   "metadata": {},
   "source": [
    "**Add indicator variables for first, second, and third line treatment. Treatment will be characterized as receipt of FDA approved targeted agent, immunotherapy agenet, or chemotherapy (clinical study drug included).** "
   ]
  },
  {
   "cell_type": "code",
   "execution_count": 6,
   "id": "14e21c9e",
   "metadata": {},
   "outputs": [],
   "source": [
    "line_therapy = pd.read_csv('LineOfTherapy.csv')"
   ]
  },
  {
   "cell_type": "code",
   "execution_count": 7,
   "id": "6367545b",
   "metadata": {},
   "outputs": [],
   "source": [
    "line_therapy = line_therapy[line_therapy['PatientID'].isin(df['PatientID'])]"
   ]
  },
  {
   "cell_type": "code",
   "execution_count": 8,
   "id": "2aaa8e53",
   "metadata": {},
   "outputs": [],
   "source": [
    "targeted = [\n",
    "    'Afatinib',\n",
    "    'Alectinib',\n",
    "    'Brigatinib',\n",
    "    'Cabozantinib',\n",
    "    'Capmatinib',\n",
    "    'Ceritinib',\n",
    "    'Crizotinib',\n",
    "    'Dabrafenib',\n",
    "    'Dacomitinib',\n",
    "    'Entrectinib',\n",
    "    'Erlotinib',\n",
    "    'Gefitinib',\n",
    "    'Lorlatinib',\n",
    "    'Osimertinib',\n",
    "    'Pralsetinib',\n",
    "    'Selpercatinib',\n",
    "    'Sotorasib',\n",
    "    'Tepotinib',\n",
    "    'Trametinib',\n",
    "    'Vandetanib']"
   ]
  },
  {
   "cell_type": "code",
   "execution_count": 9,
   "id": "2af2707c",
   "metadata": {},
   "outputs": [],
   "source": [
    "immunotherapy = [\n",
    "    'Atezolizumab',\n",
    "    'Cemiplimab',\n",
    "    'Durvalumab',\n",
    "    'Ipilimumab',\n",
    "    'Nivolumab',\n",
    "    'Pembrolizumab']"
   ]
  },
  {
   "cell_type": "code",
   "execution_count": 10,
   "id": "8867e1eb",
   "metadata": {},
   "outputs": [],
   "source": [
    "chemotherapy = [\n",
    "    'Carboplatin',\n",
    "    'Cisplatin',\n",
    "    'Docetaxel',\n",
    "    'Paclitaxel',\n",
    "    'Amivantamab',\n",
    "    'Bevacizumab',\n",
    "    'Doxorubicin',\n",
    "    'Everolimus',\n",
    "    'Etoposide',\n",
    "    'Gemcitabine',\n",
    "    'Methotrexate',\n",
    "    'Necitumumab',\n",
    "    'Pemetrexed',\n",
    "    'Ramucirumab',\n",
    "    'Vinorelbine',\n",
    "    'Clinical Study Drug']"
   ]
  },
  {
   "cell_type": "code",
   "execution_count": 11,
   "id": "121fcbcb",
   "metadata": {},
   "outputs": [],
   "source": [
    "line_therapy_1 = line_therapy.query('LineNumber == 1')\n",
    "line_therapy_2 = line_therapy.query('LineNumber == 2')\n",
    "line_therapy_3 = line_therapy.query('LineNumber == 3')"
   ]
  },
  {
   "cell_type": "code",
   "execution_count": 12,
   "id": "ea06c08d",
   "metadata": {},
   "outputs": [
    {
     "name": "stderr",
     "output_type": "stream",
     "text": [
      "/Applications/anaconda3/lib/python3.7/site-packages/pandas/core/indexing.py:1667: SettingWithCopyWarning: \n",
      "A value is trying to be set on a copy of a slice from a DataFrame.\n",
      "Try using .loc[row_indexer,col_indexer] = value instead\n",
      "\n",
      "See the caveats in the documentation: https://pandas.pydata.org/pandas-docs/stable/user_guide/indexing.html#returning-a-view-versus-a-copy\n",
      "  self.obj[key] = value\n"
     ]
    }
   ],
   "source": [
    "line_therapy_1.loc[:, 'targeted_1'] = np.where(\n",
    "    line_therapy_1['LineName'].str.contains('|'.join(targeted)), 1, 0)\n",
    "\n",
    "line_therapy_2.loc[:, 'targeted_2'] = np.where(\n",
    "    line_therapy_2['LineName'].str.contains('|'.join(targeted)), 1, 0)\n",
    "\n",
    "line_therapy_3.loc[:, 'targeted_3'] = np.where(\n",
    "    line_therapy_3['LineName'].str.contains('|'.join(targeted)), 1, 0)"
   ]
  },
  {
   "cell_type": "code",
   "execution_count": 13,
   "id": "c59f40df",
   "metadata": {},
   "outputs": [],
   "source": [
    "line_therapy_1.loc[:, 'io_1'] = np.where(\n",
    "    line_therapy_1['LineName'].str.contains('|'.join(immunotherapy)), 1, 0)\n",
    "\n",
    "line_therapy_2.loc[:, 'io_2'] = np.where(\n",
    "    line_therapy_2['LineName'].str.contains('|'.join(immunotherapy)), 1, 0)\n",
    "\n",
    "line_therapy_3.loc[:, 'io_3'] = np.where(\n",
    "    line_therapy_3['LineName'].str.contains('|'.join(immunotherapy)), 1, 0)"
   ]
  },
  {
   "cell_type": "code",
   "execution_count": 14,
   "id": "8f6d918d",
   "metadata": {},
   "outputs": [],
   "source": [
    "line_therapy_1.loc[:, 'chemo_1'] = np.where(\n",
    "    line_therapy_1['LineName'].str.contains('|'.join(chemotherapy)), 1, 0)\n",
    "\n",
    "line_therapy_2.loc[:, 'chemo_2'] = np.where(\n",
    "    line_therapy_2['LineName'].str.contains('|'.join(chemotherapy)), 1, 0)\n",
    "\n",
    "line_therapy_3.loc[:, 'chemo_3'] = np.where(\n",
    "    line_therapy_3['LineName'].str.contains('|'.join(chemotherapy)), 1, 0)"
   ]
  },
  {
   "cell_type": "code",
   "execution_count": 15,
   "id": "639dfe18",
   "metadata": {},
   "outputs": [
    {
     "name": "stderr",
     "output_type": "stream",
     "text": [
      "/Applications/anaconda3/lib/python3.7/site-packages/ipykernel_launcher.py:1: FutureWarning: Indexing with multiple keys (implicitly converted to a tuple of keys) will be deprecated, use a list instead.\n",
      "  \"\"\"Entry point for launching an IPython kernel.\n"
     ]
    }
   ],
   "source": [
    "line_therapy_1_n = line_therapy_1.groupby('PatientID')['targeted_1', 'io_1', 'chemo_1'].sum()"
   ]
  },
  {
   "cell_type": "code",
   "execution_count": 16,
   "id": "dcb1261c",
   "metadata": {},
   "outputs": [],
   "source": [
    "# Because of maintenance line is also listed as first line, patients can have chemo or immunotherapy twice \n",
    "line_therapy_1_final = (\n",
    "    line_therapy_1_n\n",
    "    .mask(line_therapy_1_n > 1, 1)\n",
    "    .reset_index())"
   ]
  },
  {
   "cell_type": "code",
   "execution_count": 17,
   "id": "f9edd9a5",
   "metadata": {},
   "outputs": [],
   "source": [
    "line_therapy_2 = line_therapy_2[['PatientID', 'targeted_2', 'io_2', 'chemo_2']]\n",
    "\n",
    "line_therapy_3 = line_therapy_3[['PatientID', 'targeted_3', 'io_3', 'chemo_3']]"
   ]
  },
  {
   "cell_type": "code",
   "execution_count": 18,
   "id": "f2e77b1c",
   "metadata": {},
   "outputs": [],
   "source": [
    "df = pd.merge(df, line_therapy_1_final, on = 'PatientID', how = 'outer')"
   ]
  },
  {
   "cell_type": "code",
   "execution_count": 19,
   "id": "87254410",
   "metadata": {},
   "outputs": [],
   "source": [
    "df[['targeted_1', 'io_1', 'chemo_1']] = df[['targeted_1', 'io_1', 'chemo_1']].fillna(value = 0)"
   ]
  },
  {
   "cell_type": "code",
   "execution_count": 20,
   "id": "f09030c6",
   "metadata": {},
   "outputs": [],
   "source": [
    "df = pd.merge(df, line_therapy_2, on = 'PatientID', how = 'outer')"
   ]
  },
  {
   "cell_type": "code",
   "execution_count": 21,
   "id": "666b94c1",
   "metadata": {},
   "outputs": [],
   "source": [
    "df[['targeted_2', 'io_2', 'chemo_2']] = df[['targeted_2', 'io_2', 'chemo_2']].fillna(value = 0)"
   ]
  },
  {
   "cell_type": "code",
   "execution_count": 22,
   "id": "0c2ca77a",
   "metadata": {},
   "outputs": [],
   "source": [
    "df = pd.merge(df, line_therapy_3, on = 'PatientID', how = 'outer')"
   ]
  },
  {
   "cell_type": "code",
   "execution_count": 23,
   "id": "74321268",
   "metadata": {},
   "outputs": [],
   "source": [
    "df[['targeted_3', 'io_3', 'chemo_3']] = df[['targeted_3', 'io_3', 'chemo_3']].fillna(value = 0)"
   ]
  },
  {
   "cell_type": "code",
   "execution_count": 24,
   "id": "8530131a",
   "metadata": {},
   "outputs": [
    {
     "data": {
      "text/plain": [
       "(68483, 222)"
      ]
     },
     "execution_count": 24,
     "metadata": {},
     "output_type": "execute_result"
    }
   ],
   "source": [
    "df.shape"
   ]
  },
  {
   "cell_type": "code",
   "execution_count": 25,
   "id": "6270207d",
   "metadata": {},
   "outputs": [
    {
     "name": "stdout",
     "output_type": "stream",
     "text": [
      "Variable               Type         Data/Info\n",
      "---------------------------------------------\n",
      "df                     DataFrame               PatientID Prac<...>68483 rows x 222 columns]\n",
      "line_therapy           DataFrame               PatientID     <...>n[95320 rows x 9 columns]\n",
      "line_therapy_1         DataFrame               PatientID     <...>[57330 rows x 12 columns]\n",
      "line_therapy_1_final   DataFrame               PatientID  tar<...>n[49820 rows x 4 columns]\n",
      "line_therapy_1_n       DataFrame                   targeted_1<...>n[49820 rows x 3 columns]\n",
      "line_therapy_2         DataFrame               PatientID  tar<...>n[21733 rows x 4 columns]\n",
      "line_therapy_3         DataFrame               PatientID  tar<...>\\n[9329 rows x 4 columns]\n",
      "test                   DataFrame               PatientID Prac<...>13697 rows x 213 columns]\n",
      "train                  DataFrame               PatientID Prac<...>54786 rows x 213 columns]\n"
     ]
    }
   ],
   "source": [
    "%whos DataFrame"
   ]
  },
  {
   "cell_type": "code",
   "execution_count": 26,
   "id": "b7f72e3f",
   "metadata": {},
   "outputs": [],
   "source": [
    "del line_therapy\n",
    "del line_therapy_1\n",
    "del line_therapy_1_final\n",
    "del line_therapy_1_n\n",
    "del line_therapy_2\n",
    "del line_therapy_3"
   ]
  },
  {
   "cell_type": "markdown",
   "id": "9c16c635",
   "metadata": {},
   "source": [
    "### 1.3 Weight"
   ]
  },
  {
   "cell_type": "code",
   "execution_count": 27,
   "id": "d34bf0a1",
   "metadata": {},
   "outputs": [],
   "source": [
    "vitals = pd.read_csv('Vitals.csv')\n",
    "\n",
    "vitals = vitals[vitals['PatientID'].isin(df['PatientID'])]"
   ]
  },
  {
   "cell_type": "code",
   "execution_count": 28,
   "id": "b885b46f",
   "metadata": {},
   "outputs": [],
   "source": [
    "enhanced_adv = enhanced_adv = pd.read_csv('Enhanced_AdvancedNSCLC.csv')\n",
    "\n",
    "enhanced_adv = enhanced_adv[enhanced_adv['PatientID'].isin(df['PatientID'])]\n",
    "                                                              \n",
    "enhanced_adv.loc[:, 'AdvancedDiagnosisDate'] = pd.to_datetime(enhanced_adv['AdvancedDiagnosisDate'])\n",
    "\n",
    "enhanced_adv = enhanced_adv.rename(columns = {'AdvancedDiagnosisDate': 'adv_date'})"
   ]
  },
  {
   "cell_type": "markdown",
   "id": "f43069c1",
   "metadata": {},
   "source": [
    "#### Weight and BMI"
   ]
  },
  {
   "cell_type": "code",
   "execution_count": 29,
   "id": "96a6f3e7",
   "metadata": {},
   "outputs": [],
   "source": [
    "# Create weight dataframe; remove weight values that are empty or equal to zero.\n",
    "weight = (\n",
    "    vitals\n",
    "    .query('Test == \"body weight\"')\n",
    "    .filter(items = ['PatientID', 'TestDate', 'TestResultCleaned'])\n",
    "    .rename(columns = {'TestResultCleaned': 'weight'})\n",
    "    .dropna(subset = ['weight'])\n",
    "    .query('weight != 0')\n",
    ")"
   ]
  },
  {
   "cell_type": "code",
   "execution_count": 30,
   "id": "a25d08b1",
   "metadata": {},
   "outputs": [],
   "source": [
    "weight.loc[:, 'TestDate'] = pd.to_datetime(weight['TestDate'])"
   ]
  },
  {
   "cell_type": "code",
   "execution_count": 31,
   "id": "9ae88135",
   "metadata": {},
   "outputs": [],
   "source": [
    "weight = pd.merge(weight, enhanced_adv[['PatientID', 'adv_date']], on = 'PatientID', how = 'left')"
   ]
  },
  {
   "cell_type": "code",
   "execution_count": 32,
   "id": "627a71c8",
   "metadata": {},
   "outputs": [],
   "source": [
    "# Weight elgibliity window is -60 to +60 from 3 months after advanced diagnosis. \n",
    "weight_win_bmi = (\n",
    "    weight\n",
    "    .assign(weight_date_diff = ((weight['TestDate'] - (weight['adv_date'] + pd.DateOffset(days = 90))).dt.days))\n",
    "    .query('weight_date_diff >= -60 and weight_date_diff <= 60')\n",
    ")"
   ]
  },
  {
   "cell_type": "code",
   "execution_count": 33,
   "id": "1c27a160",
   "metadata": {},
   "outputs": [],
   "source": [
    "weight_win_bmi.loc[:, 'weight_date_diff'] = weight_win_bmi['weight_date_diff'].abs()"
   ]
  },
  {
   "cell_type": "code",
   "execution_count": 34,
   "id": "7286fa67",
   "metadata": {},
   "outputs": [],
   "source": [
    "# Select weight closest to +90 from advanced diagnosis; lowest weight selected in the event of two weights on same day or equidistant. \n",
    "weight_bmi_wide = (\n",
    "    weight_win_bmi\n",
    "    .sort_values(by = ['PatientID', 'weight_date_diff', 'weight'], ascending = [True, True, True])\n",
    "    .drop_duplicates(subset = ['PatientID'], keep = 'first')\n",
    "    .filter(items = ['PatientID', 'weight'])\n",
    "    .rename(columns = {'weight': 'weight_90'})\n",
    ")"
   ]
  },
  {
   "cell_type": "code",
   "execution_count": 35,
   "id": "95541fa6",
   "metadata": {},
   "outputs": [],
   "source": [
    "# Dataframe of average height for each patient. \n",
    "height_avg = (\n",
    "    vitals\n",
    "    .query('Test == \"body height\"')\n",
    "    .filter(items = ['PatientID', 'TestResultCleaned'])\n",
    "    .groupby('PatientID')['TestResultCleaned'].mean()\n",
    "    .to_frame()\n",
    "    .reset_index()\n",
    "    .rename(columns = {'TestResultCleaned': 'height_avg'})\n",
    ")"
   ]
  },
  {
   "cell_type": "code",
   "execution_count": 36,
   "id": "0a440dd7",
   "metadata": {},
   "outputs": [],
   "source": [
    "weight_bmi_wide = pd.merge(weight_bmi_wide, height_avg, on = 'PatientID', how = 'left')"
   ]
  },
  {
   "cell_type": "code",
   "execution_count": 37,
   "id": "5487edcb",
   "metadata": {},
   "outputs": [],
   "source": [
    "# Create BMI column. \n",
    "weight_bmi_wide = (\n",
    "    weight_bmi_wide\n",
    "    .assign(bmi_90 = lambda x: (x['weight_90']/(x['height_avg']*x['height_avg']))*10000)\n",
    "    .drop(columns = ['height_avg'])\n",
    ")"
   ]
  },
  {
   "cell_type": "code",
   "execution_count": 38,
   "id": "4eefc710",
   "metadata": {},
   "outputs": [],
   "source": [
    "df = pd.merge(df, weight_bmi_wide, on = 'PatientID', how = 'outer')"
   ]
  },
  {
   "cell_type": "markdown",
   "id": "9b7db753",
   "metadata": {},
   "source": [
    "#### Percent change in weight "
   ]
  },
  {
   "cell_type": "code",
   "execution_count": 39,
   "id": "17e5a403",
   "metadata": {},
   "outputs": [],
   "source": [
    "# Select elgbility window of -90 to +180 days from advanced diagnosis.\n",
    "weight_win_summary = (\n",
    "    weight\n",
    "    .assign(weight_date_diff = (weight['TestDate'] - weight['adv_date']).dt.days)\n",
    "    .query('weight_date_diff >= -90 and weight_date_diff <= 180')\n",
    ")"
   ]
  },
  {
   "cell_type": "code",
   "execution_count": 40,
   "id": "ed374c7e",
   "metadata": {},
   "outputs": [],
   "source": [
    "# Select patients with more than 1 weight recording within elgibility window.\n",
    "weight_win_summary = weight_win_summary[weight_win_summary.duplicated(subset = ['PatientID'], keep = False)]"
   ]
  },
  {
   "cell_type": "code",
   "execution_count": 41,
   "id": "4805968a",
   "metadata": {},
   "outputs": [],
   "source": [
    "# Select weight from the earliest time within elgibility window. \n",
    "weight_tmin = weight_win_summary.loc[weight_win_summary.groupby('PatientID')['weight_date_diff'].idxmin()]"
   ]
  },
  {
   "cell_type": "code",
   "execution_count": 42,
   "id": "a2607aa8",
   "metadata": {},
   "outputs": [],
   "source": [
    "# Select weight from the latest time within elgibility window. \n",
    "weight_tmax = weight_win_summary.loc[weight_win_summary.groupby('PatientID')['weight_date_diff'].idxmax()]"
   ]
  },
  {
   "cell_type": "code",
   "execution_count": 43,
   "id": "5076d097",
   "metadata": {},
   "outputs": [],
   "source": [
    "# Combine above two dataframes and sort from earliest recorded weight to latest recorded weight for each patient. \n",
    "weight_tcomb = (\n",
    "    pd.concat([weight_tmin, weight_tmax])\n",
    "    .sort_values(by = ['PatientID', 'weight_date_diff'], ascending = True)\n",
    ")"
   ]
  },
  {
   "cell_type": "code",
   "execution_count": 44,
   "id": "4abfb98a",
   "metadata": {},
   "outputs": [],
   "source": [
    "weight_tcomb.loc[:, 'weight_pct_6m'] = weight_tcomb.groupby('PatientID')['weight'].pct_change()"
   ]
  },
  {
   "cell_type": "code",
   "execution_count": 45,
   "id": "b19c0e82",
   "metadata": {},
   "outputs": [],
   "source": [
    "# Drop empty rows for weight_pct_change.\n",
    "weight_pct_wide = (\n",
    "    weight_tcomb\n",
    "    .dropna(subset = ['weight_pct_6m'])\n",
    "    .filter(items = ['PatientID', 'weight_pct_6m'])\n",
    ")"
   ]
  },
  {
   "cell_type": "code",
   "execution_count": 46,
   "id": "e9aa4b32",
   "metadata": {},
   "outputs": [],
   "source": [
    "df = pd.merge(df, weight_pct_wide, on = 'PatientID', how = 'outer')"
   ]
  },
  {
   "cell_type": "markdown",
   "id": "c15f070c",
   "metadata": {},
   "source": [
    "#### Slope of weight "
   ]
  },
  {
   "cell_type": "code",
   "execution_count": 47,
   "id": "c8ace83b",
   "metadata": {},
   "outputs": [],
   "source": [
    "import datetime as dt\n",
    "from scipy.stats import linregress "
   ]
  },
  {
   "cell_type": "code",
   "execution_count": 48,
   "id": "f132de1c",
   "metadata": {},
   "outputs": [],
   "source": [
    "weight_win_summary.loc[:, 'date_ordinal'] = weight_win_summary['TestDate'].map(dt.datetime.toordinal)"
   ]
  },
  {
   "cell_type": "code",
   "execution_count": 49,
   "id": "cd31092b",
   "metadata": {},
   "outputs": [
    {
     "name": "stderr",
     "output_type": "stream",
     "text": [
      "/Applications/anaconda3/lib/python3.7/site-packages/scipy/stats/_stats_mstats_common.py:170: RuntimeWarning: invalid value encountered in double_scalars\n",
      "  slope = ssxym / ssxm\n"
     ]
    }
   ],
   "source": [
    "# Dataframe of slope for weight recordings within window period (kg/day).\n",
    "weight_slope_wide = (\n",
    "    weight_win_summary\n",
    "    .groupby('PatientID')\n",
    "    .apply(lambda x: pd.Series(linregress(x['date_ordinal'], x['weight'])))\n",
    "    .rename(columns = {0: 'weight_slope_6m'})\n",
    "    .reset_index()\n",
    "    .filter(items = ['PatientID', 'weight_slope_6m'])) "
   ]
  },
  {
   "cell_type": "code",
   "execution_count": 50,
   "id": "167fd260",
   "metadata": {},
   "outputs": [],
   "source": [
    "df = pd.merge(df, weight_slope_wide, on = 'PatientID', how = 'outer')"
   ]
  },
  {
   "cell_type": "code",
   "execution_count": 51,
   "id": "72c8234b",
   "metadata": {},
   "outputs": [
    {
     "data": {
      "text/plain": [
       "(68483, 226)"
      ]
     },
     "execution_count": 51,
     "metadata": {},
     "output_type": "execute_result"
    }
   ],
   "source": [
    "df.shape"
   ]
  },
  {
   "cell_type": "code",
   "execution_count": 52,
   "id": "bf58c4f2",
   "metadata": {},
   "outputs": [
    {
     "name": "stdout",
     "output_type": "stream",
     "text": [
      "Variable             Type         Data/Info\n",
      "-------------------------------------------\n",
      "df                   DataFrame               PatientID Prac<...>68483 rows x 226 columns]\n",
      "enhanced_adv         DataFrame               PatientID Diag<...>n[68483 rows x 6 columns]\n",
      "height_avg           DataFrame               PatientID  hei<...>n[67572 rows x 2 columns]\n",
      "test                 DataFrame               PatientID Prac<...>13697 rows x 213 columns]\n",
      "train                DataFrame               PatientID Prac<...>54786 rows x 213 columns]\n",
      "vitals               DataFrame                  PatientID  <...>814491 rows x 15 columns]\n",
      "weight               DataFrame                 PatientID   <...>1666797 rows x 4 columns]\n",
      "weight_bmi_wide      DataFrame               PatientID  wei<...>n[52105 rows x 3 columns]\n",
      "weight_pct_wide      DataFrame                 PatientID  w<...>n[57678 rows x 2 columns]\n",
      "weight_slope_wide    DataFrame               PatientID  wei<...>n[57678 rows x 2 columns]\n",
      "weight_tcomb         DataFrame                 PatientID   <...>[115356 rows x 6 columns]\n",
      "weight_tmax          DataFrame                 PatientID   <...>n[57678 rows x 5 columns]\n",
      "weight_tmin          DataFrame                 PatientID   <...>n[57678 rows x 5 columns]\n",
      "weight_win_bmi       DataFrame                 PatientID   <...>[385331 rows x 5 columns]\n",
      "weight_win_summary   DataFrame                 PatientID   <...>[616829 rows x 6 columns]\n"
     ]
    }
   ],
   "source": [
    "%whos DataFrame"
   ]
  },
  {
   "cell_type": "code",
   "execution_count": 53,
   "id": "a2aca9ca",
   "metadata": {},
   "outputs": [],
   "source": [
    "del height_avg\n",
    "del vitals\n",
    "del weight\n",
    "del weight_bmi_wide\n",
    "del weight_pct_wide\n",
    "del weight_slope_wide\n",
    "del weight_tcomb\n",
    "del weight_tmax\n",
    "del weight_tmin\n",
    "del weight_win_bmi\n",
    "del weight_win_summary"
   ]
  },
  {
   "cell_type": "markdown",
   "id": "1030a21e",
   "metadata": {},
   "source": [
    "### 1.4 Static labs "
   ]
  },
  {
   "cell_type": "code",
   "execution_count": 54,
   "id": "753ce745",
   "metadata": {},
   "outputs": [],
   "source": [
    "lab = pd.read_csv('Lab.csv')"
   ]
  },
  {
   "cell_type": "code",
   "execution_count": 55,
   "id": "70a2dae2",
   "metadata": {},
   "outputs": [],
   "source": [
    "lab = lab[lab['PatientID'].isin(df['PatientID'])]"
   ]
  },
  {
   "cell_type": "code",
   "execution_count": 56,
   "id": "555d4e68",
   "metadata": {},
   "outputs": [],
   "source": [
    "lab = pd.merge(lab, enhanced_adv[['PatientID', 'adv_date']], on = 'PatientID', how = 'left')"
   ]
  },
  {
   "cell_type": "code",
   "execution_count": 57,
   "id": "a671ba09",
   "metadata": {},
   "outputs": [],
   "source": [
    "lab.loc[:, 'ResultDate'] = pd.to_datetime(lab['ResultDate'], errors = 'coerce') "
   ]
  },
  {
   "cell_type": "code",
   "execution_count": 58,
   "id": "d6f406a4",
   "metadata": {},
   "outputs": [],
   "source": [
    "# Select rows with clinically relevant labs.\n",
    "lab_core = (\n",
    "    lab[\n",
    "    (lab['LOINC'] == \"2160-0\") |\n",
    "    (lab['LOINC'] == \"38483-4\") | \n",
    "    (lab['LOINC'] == \"718-7\") |\n",
    "    (lab['LOINC'] == \"20509-6\") |\n",
    "    (lab['LOINC'] == \"26464-8\") |\n",
    "    (lab['LOINC'] == \"6690-2\") |\n",
    "    (lab['LOINC'] == \"26499-4\") |\n",
    "    (lab['LOINC'] == \"751-8\") |\n",
    "    (lab['LOINC'] == \"30451-9\") |\n",
    "    (lab['LOINC'] == \"753-4\") |\n",
    "    (lab['LOINC'] == \"1751-7\") |\n",
    "    (lab['LOINC'] == \"42719-5\") |\n",
    "    (lab['LOINC'] == \"1975-2\") |\n",
    "    (lab['LOINC'] == \"2947-0\") |\n",
    "    (lab['LOINC'] == \"2951-2\") |\n",
    "    (lab['LOINC'] == \"1963-8\") |\n",
    "    (lab['LOINC'] == \"1959-6\") |\n",
    "    (lab['LOINC'] == \"14627-4\") |\n",
    "    (lab['LOINC'] == \"1960-4\") |\n",
    "    (lab['LOINC'] == \"2028-9\") |\n",
    "    (lab['LOINC'] == \"17861-6\") |\n",
    "    (lab['LOINC'] == \"49765-1\") |\n",
    "    (lab['LOINC'] == \"1920-8\") |\n",
    "    (lab['LOINC'] == \"1742-6\") | \n",
    "    (lab['LOINC'] == \"1743-4\") |\n",
    "    (lab['LOINC'] == \"1744-2\") |\n",
    "    (lab['LOINC'] == \"26515-7\") | \n",
    "    (lab['LOINC'] == \"777-3\") |\n",
    "    (lab['LOINC'] == \"778-1\") |\n",
    "    (lab['LOINC'] == \"49497-1\") | \n",
    "    (lab['LOINC'] == \"6298-4\") |\n",
    "    (lab['LOINC'] == \"2823-3\") |\n",
    "    (lab['LOINC'] == \"2075-0\") | \n",
    "    (lab['LOINC'] == \"3094-0\") | \n",
    "    (lab['LOINC'] == \"6768-6\")]\n",
    "    .filter(items = ['PatientID', \n",
    "                     'ResultDate', \n",
    "                     'LOINC', \n",
    "                     'LabComponent', \n",
    "                     'TestUnits', \n",
    "                     'TestUnitsCleaned', \n",
    "                     'TestResult', \n",
    "                     'TestResultCleaned', \n",
    "                     'adv_date'])\n",
    ")"
   ]
  },
  {
   "cell_type": "code",
   "execution_count": 59,
   "id": "fed45ef2",
   "metadata": {},
   "outputs": [],
   "source": [
    "conditions = [\n",
    "    ((lab_core['LOINC'] == '2160-0') | (lab_core['LOINC'] == '38483-4')),\n",
    "    ((lab_core['LOINC'] == '718-7') | (lab_core['LOINC'] == '20509-6')),\n",
    "    ((lab_core['LOINC'] == '26464-8') | (lab_core['LOINC'] == '6690-2')), \n",
    "    ((lab_core['LOINC'] == '26499-4') | (lab_core['LOINC'] == '751-8') | (lab_core['LOINC'] == '30451-9') | (lab_core['LOINC'] == '753-4')),\n",
    "    (lab_core['LOINC'] == '1751-7'),\n",
    "    ((lab_core['LOINC'] == '42719-5') | (lab_core['LOINC'] == '1975-2')),\n",
    "    ((lab_core['LOINC'] == '2947-0') | (lab_core['LOINC'] == '2951-2')),\n",
    "    ((lab_core['LOINC'] == '1963-8') | (lab_core['LOINC'] == '1959-6') | (lab_core['LOINC'] == '14627-4') | (lab_core['LOINC'] == '1960-4') | (lab_core['LOINC'] == '2028-9')),\n",
    "    ((lab_core['LOINC'] == '17861-6') | (lab_core['LOINC'] == '49765-1')),\n",
    "    (lab_core['LOINC'] == '1920-8'),\n",
    "    ((lab_core['LOINC'] == '1742-6') | (lab_core['LOINC'] == '1743-4') | (lab_core['LOINC'] == '1744-2')),\n",
    "    ((lab_core['LOINC'] == '26515-7') | (lab_core['LOINC'] == '777-3') | (lab_core['LOINC'] == '778-1') | (lab_core['LOINC'] == '49497-1')),\n",
    "    ((lab_core['LOINC'] == '6298-4') | (lab_core['LOINC'] == '2823-3')),\n",
    "    (lab_core['LOINC'] == '2075-0'), \n",
    "    (lab_core['LOINC'] == '3094-0'),\n",
    "    (lab_core['LOINC'] == '6768-6')]\n",
    "\n",
    "choices = ['creatinine', \n",
    "           'hemoglobin', \n",
    "           'wbc', \n",
    "           'neutrophil_count',  \n",
    "           'albumin', \n",
    "           'total_bilirubin', \n",
    "           'sodium', \n",
    "           'bicarb',\n",
    "           'calcium',\n",
    "           'ast', \n",
    "           'alt',\n",
    "           'platelet',\n",
    "           'potassium', \n",
    "           'chloride',\n",
    "           'bun',\n",
    "           'alp']\n",
    "\n",
    "lab_core.loc[:, 'lab_name'] = np.select(conditions, choices)"
   ]
  },
  {
   "cell_type": "code",
   "execution_count": 60,
   "id": "1f0f102f",
   "metadata": {},
   "outputs": [],
   "source": [
    "lab_core = (\n",
    "    lab_core\n",
    "    .dropna(subset = ['TestResultCleaned'])\n",
    ")"
   ]
  },
  {
   "cell_type": "code",
   "execution_count": 61,
   "id": "a29dbb26",
   "metadata": {},
   "outputs": [],
   "source": [
    "conditions = [\n",
    "    ((lab_core['lab_name'] == 'wbc') | (lab_core['lab_name'] == 'neutrophil_count') | (lab_core['lab_name'] == 'platelet')) & \n",
    "    (lab_core['TestUnits'] == '10*3/L'),\n",
    "    (lab_core['lab_name'] == 'hemoglobin') & (lab_core['TestUnits'] == 'g/uL')]\n",
    "\n",
    "choices = [lab_core['TestResultCleaned'] * 1000000,\n",
    "           lab_core['TestResultCleaned'] / 100000]\n",
    "\n",
    "lab_core.loc[:, 'test_result_cleaned'] = np.select(conditions, choices, default = lab_core['TestResultCleaned'])"
   ]
  },
  {
   "cell_type": "code",
   "execution_count": 62,
   "id": "33ee8cfc",
   "metadata": {},
   "outputs": [],
   "source": [
    "# Elgibliity window is +30 to +150 from advanced diagnosis. \n",
    "lab_core_win = (\n",
    "    lab_core\n",
    "    .assign(lab_date_diff = ((lab_core['ResultDate'] - (lab_core['adv_date'] + pd.DateOffset(days = 90))).dt.days))\n",
    "    .query('lab_date_diff >= -60 and lab_date_diff <= 60')\n",
    "    .filter(items = ['PatientID', 'ResultDate', 'TestResultCleaned', 'lab_name', 'adv_date', 'test_result_cleaned', 'lab_date_diff'])\n",
    ")"
   ]
  },
  {
   "cell_type": "code",
   "execution_count": 63,
   "id": "b8f7db38",
   "metadata": {},
   "outputs": [],
   "source": [
    "lab_core_win.loc[:, 'lab_date_diff'] = lab_core_win['lab_date_diff'].abs()"
   ]
  },
  {
   "cell_type": "code",
   "execution_count": 64,
   "id": "29dbfc11",
   "metadata": {},
   "outputs": [],
   "source": [
    "# Select lab closest to date of advanced diagnosis and pivot to a wide table. \n",
    "lab_90_wide = (\n",
    "    lab_core_win\n",
    "    .loc[lab_core_win.groupby(['PatientID', 'lab_name'])['lab_date_diff'].idxmin()]\n",
    "    .pivot(index = 'PatientID', columns = 'lab_name', values = 'test_result_cleaned')\n",
    "    .reset_index()\n",
    "    .rename(columns = {\n",
    "        'albumin': 'albumin_90',\n",
    "        'creatinine': 'creatinine_90',\n",
    "        'hemoglobin': 'hemoglobin_90',\n",
    "        'neutrophil_count': 'neutrophil_count_90',\n",
    "        'total_bilirubin': 'total_bilirubin_90',\n",
    "        'wbc': 'wbc_90',\n",
    "        'sodium': 'sodium_90', \n",
    "        'bicarb': 'bicarb_90',\n",
    "        'calcium': 'calcium_90',\n",
    "        'ast': 'ast_90', \n",
    "        'alt': 'alt_90',\n",
    "        'platelet': 'platelet_90',\n",
    "        'potassium': 'potassium_90',\n",
    "        'chloride': 'chloride_90',\n",
    "        'bun': 'bun_90',\n",
    "        'alp': 'alp_90'})\n",
    ")\n",
    "\n",
    "lab_90_wide.columns.name = None"
   ]
  },
  {
   "cell_type": "code",
   "execution_count": 65,
   "id": "ce1d03b4",
   "metadata": {},
   "outputs": [],
   "source": [
    "df = pd.merge(df, lab_90_wide, on = 'PatientID', how = 'outer')"
   ]
  },
  {
   "cell_type": "code",
   "execution_count": 66,
   "id": "2026dc50",
   "metadata": {},
   "outputs": [
    {
     "data": {
      "text/plain": [
       "(68483, 242)"
      ]
     },
     "execution_count": 66,
     "metadata": {},
     "output_type": "execute_result"
    }
   ],
   "source": [
    "df.shape"
   ]
  },
  {
   "cell_type": "markdown",
   "id": "48faed9a",
   "metadata": {},
   "source": [
    "### 1.5 Summary labs"
   ]
  },
  {
   "cell_type": "code",
   "execution_count": 67,
   "id": "3d6b63bb",
   "metadata": {},
   "outputs": [],
   "source": [
    "# Elgibility window is negative infinity to +150 from advanced diagnosis. \n",
    "lab_core_win_summ = (\n",
    "    lab_core\n",
    "    .assign(lab_date_diff = (lab_core['ResultDate'] - lab_core['adv_date']).dt.days)\n",
    "    .query('lab_date_diff <= 150')\n",
    "    .filter(items = ['PatientID', 'ResultDate', 'TestResultCleaned', 'lab_name', 'adv_date', 'test_result_cleaned', 'lab_date_diff'])\n",
    ")"
   ]
  },
  {
   "cell_type": "code",
   "execution_count": 68,
   "id": "c62e5d30",
   "metadata": {},
   "outputs": [],
   "source": [
    "# Pivot table of maximum values for core labs during elgibility period of -inf to +150 days from advanced diagnosis. \n",
    "lab_max_wide = (\n",
    "    lab_core_win_summ\n",
    "    .groupby(['PatientID', 'lab_name'])['test_result_cleaned'].max()\n",
    "    .to_frame()\n",
    "    .reset_index()\n",
    "    .pivot(index = 'PatientID', columns = 'lab_name', values = 'test_result_cleaned')\n",
    "    .filter(items = ['alp', 'alt', 'ast', 'calcium', 'creatinine', 'total_bilirubin', 'wbc'])\n",
    "    .reset_index()\n",
    "    .rename(columns = {\n",
    "        'alp': 'alp_max_f',\n",
    "        'alt': 'alt_max_f',\n",
    "        'ast': 'ast_max_f',\n",
    "        'calcium': 'calcium_max_f',\n",
    "        'creatinine': 'creatinine_max_f',\n",
    "        'total_bilirubin': 'total_bilirubin_max_f',\n",
    "        'wbc': 'wbc_max_f'})\n",
    ")\n",
    "\n",
    "lab_max_wide.columns.name = None"
   ]
  },
  {
   "cell_type": "code",
   "execution_count": 69,
   "id": "06e5ca21",
   "metadata": {},
   "outputs": [],
   "source": [
    "# Pivot table of minimum values for core labs during elgibility period of -inf to +150 days from advanced diagnosis. \n",
    "lab_min_wide = (\n",
    "    lab_core_win_summ\n",
    "    .groupby(['PatientID', 'lab_name'])['test_result_cleaned'].min()\n",
    "    .to_frame()\n",
    "    .reset_index()\n",
    "    .pivot(index = 'PatientID', columns = 'lab_name', values = 'test_result_cleaned')\n",
    "    .filter(items = ['albumin', 'bicarb', 'hemoglobin', 'platelet', 'sodium', 'wbc'])\n",
    "    .reset_index()\n",
    "    .rename(columns = {\n",
    "        'albumin': 'albumin_min_f',\n",
    "        'bicarb': 'bicarb_min_f',\n",
    "        'hemoglobin': 'hemoglobin_min_f',\n",
    "        'platelet': 'platelet_min_f',\n",
    "        'sodium': 'sodium_min_f', \n",
    "        'wbc': 'wbc_min_f'})\n",
    ")\n",
    "\n",
    "lab_min_wide.columns.name = None"
   ]
  },
  {
   "cell_type": "code",
   "execution_count": 70,
   "id": "e1050e6a",
   "metadata": {},
   "outputs": [],
   "source": [
    "df = pd.merge(df, lab_max_wide, on = 'PatientID', how = 'outer')"
   ]
  },
  {
   "cell_type": "code",
   "execution_count": 71,
   "id": "56b10ee7",
   "metadata": {},
   "outputs": [
    {
     "data": {
      "text/plain": [
       "(68483, 249)"
      ]
     },
     "execution_count": 71,
     "metadata": {},
     "output_type": "execute_result"
    }
   ],
   "source": [
    "df.shape"
   ]
  },
  {
   "cell_type": "code",
   "execution_count": 72,
   "id": "11dd2f2f",
   "metadata": {},
   "outputs": [],
   "source": [
    "df = pd.merge(df, lab_min_wide, on = 'PatientID', how = 'outer')"
   ]
  },
  {
   "cell_type": "code",
   "execution_count": 73,
   "id": "c2dee274",
   "metadata": {},
   "outputs": [
    {
     "data": {
      "text/plain": [
       "(68483, 255)"
      ]
     },
     "execution_count": 73,
     "metadata": {},
     "output_type": "execute_result"
    }
   ],
   "source": [
    "df.shape"
   ]
  },
  {
   "cell_type": "code",
   "execution_count": 74,
   "id": "8c0f9367",
   "metadata": {},
   "outputs": [
    {
     "name": "stdout",
     "output_type": "stream",
     "text": [
      "Variable            Type         Data/Info\n",
      "------------------------------------------\n",
      "df                  DataFrame               PatientID Prac<...>68483 rows x 255 columns]\n",
      "enhanced_adv        DataFrame               PatientID Diag<...>n[68483 rows x 6 columns]\n",
      "lab                 DataFrame                  PatientID  <...>492037 rows x 17 columns]\n",
      "lab_90_wide         DataFrame               PatientID  alb<...>[50538 rows x 17 columns]\n",
      "lab_core            DataFrame                  PatientID R<...>287133 rows x 11 columns]\n",
      "lab_core_win        DataFrame                  PatientID R<...>4311889 rows x 7 columns]\n",
      "lab_core_win_summ   DataFrame                  PatientID R<...>8342666 rows x 7 columns]\n",
      "lab_max_wide        DataFrame               PatientID  alp<...>n[59845 rows x 8 columns]\n",
      "lab_min_wide        DataFrame               PatientID  alb<...>n[59845 rows x 7 columns]\n",
      "test                DataFrame               PatientID Prac<...>13697 rows x 213 columns]\n",
      "train               DataFrame               PatientID Prac<...>54786 rows x 213 columns]\n"
     ]
    }
   ],
   "source": [
    "%whos DataFrame"
   ]
  },
  {
   "cell_type": "code",
   "execution_count": 75,
   "id": "d86fbd50",
   "metadata": {},
   "outputs": [],
   "source": [
    "del enhanced_adv\n",
    "del lab\n",
    "del lab_90_wide\n",
    "del lab_core\n",
    "del lab_core_win\n",
    "del lab_core_win_summ\n",
    "del lab_max_wide\n",
    "del lab_min_wide"
   ]
  },
  {
   "cell_type": "markdown",
   "id": "28baa4f4",
   "metadata": {},
   "source": [
    "### 1.6 Replacing 'unknown' with np.nan for variables of interest"
   ]
  },
  {
   "cell_type": "code",
   "execution_count": 76,
   "id": "9e0a53e0",
   "metadata": {},
   "outputs": [],
   "source": [
    "df = df.replace({'stage': {'unknown': np.nan},\n",
    "                 'ecog_diagnosis': {'unknown': np.nan}})"
   ]
  },
  {
   "cell_type": "markdown",
   "id": "6f14204f",
   "metadata": {},
   "source": [
    "### 1.7 Dropping unwanted summary variables "
   ]
  },
  {
   "cell_type": "code",
   "execution_count": 77,
   "id": "5d54cd4b",
   "metadata": {},
   "outputs": [],
   "source": [
    "drop_labs = [\n",
    "    'albumin_avg',\n",
    "    'alp_avg',\n",
    "    'alt_avg',\n",
    "    'ast_avg',\n",
    "    'bicarb_avg',\n",
    "    'bun_avg',\n",
    "    'calcium_avg',\n",
    "    'chloride_avg',\n",
    "    'creatinine_avg',\n",
    "    'hemoglobin_avg',\n",
    "    'neutrophil_count_avg',\n",
    "    'platelet_avg',\n",
    "    'potassium_avg',\n",
    "    'sodium_avg',\n",
    "    'total_bilirubin_avg',\n",
    "    'wbc_avg',\n",
    "    'albumin_max',\n",
    "    'bicarb_max',\n",
    "    'bun_max',\n",
    "    'chloride_max',\n",
    "    'hemoglobin_max',\n",
    "    'neutrophil_count_max',\n",
    "    'platelet_max',\n",
    "    'potassium_max',\n",
    "    'sodium_max',\n",
    "    'alp_min',\n",
    "    'alt_min',\n",
    "    'ast_min',\n",
    "    'bun_min',\n",
    "    'calcium_min',\n",
    "    'chloride_min',\n",
    "    'creatinine_min',\n",
    "    'neutrophil_count_min',\n",
    "    'potassium_min',\n",
    "    'total_bilirubin_min',\n",
    "    'albumin_std',\n",
    "    'alp_std',\n",
    "    'alt_std',\n",
    "    'ast_std',\n",
    "    'bicarb_std',\n",
    "    'bun_std',\n",
    "    'calcium_std',\n",
    "    'chloride_std',\n",
    "    'creatinine_std',\n",
    "    'hemoglobin_std',\n",
    "    'neutrophil_count_std',\n",
    "    'platelet_std',\n",
    "    'potassium_std',\n",
    "    'sodium_std',\n",
    "    'total_bilirubin_std',\n",
    "    'wbc_std',\n",
    "    'albumin_slope',\n",
    "    'alp_slope',\n",
    "    'alt_slope',\n",
    "    'ast_slope',\n",
    "    'bicarb_slope',\n",
    "    'bun_slope',\n",
    "    'calcium_slope',\n",
    "    'chloride_slope',\n",
    "    'creatinine_slope',\n",
    "    'hemoglobin_slope',\n",
    "    'neutrophil_count_slope',\n",
    "    'platelet_slope',\n",
    "    'potassium_slope',\n",
    "    'sodium_slope',\n",
    "    'total_bilirubin_slope',\n",
    "    'wbc_slope',\n",
    "    'albumin_slope_na',\n",
    "    'alp_slope_na',\n",
    "    'alt_slope_na',\n",
    "    'ast_slope_na',\n",
    "    'bicarb_slope_na',\n",
    "    'bun_slope_na',\n",
    "    'calcium_slope_na',\n",
    "    'chloride_slope_na',\n",
    "    'creatinine_slope_na',\n",
    "    'hemoglobin_slope_na',\n",
    "    'neutrophil_count_slope_na',\n",
    "    'platelet_slope_na',\n",
    "    'potassium_slope_na',\n",
    "    'sodium_slope_na',\n",
    "    'total_bilirubin_slope_na',\n",
    "    'wbc_slope_na']"
   ]
  },
  {
   "cell_type": "code",
   "execution_count": 78,
   "id": "3144c20f",
   "metadata": {},
   "outputs": [],
   "source": [
    "df = df.drop(columns = drop_labs)"
   ]
  },
  {
   "cell_type": "code",
   "execution_count": 79,
   "id": "3a6ea049",
   "metadata": {},
   "outputs": [
    {
     "data": {
      "text/plain": [
       "(68483, 172)"
      ]
     },
     "execution_count": 79,
     "metadata": {},
     "output_type": "execute_result"
    }
   ],
   "source": [
    "df.shape"
   ]
  },
  {
   "cell_type": "code",
   "execution_count": 80,
   "id": "e48a1b7c",
   "metadata": {},
   "outputs": [],
   "source": [
    "df.loc[:, 'alp_max_na'] = np.where(df['alp_max'].isna(), 1, 0)\n",
    "df.loc[:, 'alt_max_na'] = np.where(df['alt_max'].isna(), 1, 0)\n",
    "df.loc[:, 'ast_max_na'] = np.where(df['ast_max'].isna(), 1, 0)\n",
    "df.loc[:, 'calcium_max_na'] = np.where(df['calcium_max'].isna(), 1, 0)\n",
    "df.loc[:, 'creatinine_max_na'] = np.where(df['creatinine_max'].isna(), 1, 0)\n",
    "df.loc[:, 'total_bilirubin_max_na'] = np.where(df['total_bilirubin_max'].isna(), 1, 0)\n",
    "df.loc[:, 'wbc_max_na'] = np.where(df['wbc_max'].isna(), 1, 0)\n",
    "df.loc[:, 'albumin_min_na'] = np.where(df['albumin_min'].isna(), 1, 0)\n",
    "df.loc[:, 'bicarb_min_na'] = np.where(df['bicarb_min'].isna(), 1, 0)\n",
    "df.loc[:, 'hemoglobin_min_na'] = np.where(df['hemoglobin_min'].isna(), 1, 0)\n",
    "df.loc[:, 'platelet_min_na'] = np.where(df['platelet_min'].isna(), 1, 0)\n",
    "df.loc[:, 'sodium_min_na'] = np.where(df['sodium_min'].isna(), 1, 0)\n",
    "df.loc[:, 'wbc_min_na'] = np.where(df['wbc_min'].isna(), 1, 0)"
   ]
  },
  {
   "cell_type": "code",
   "execution_count": 81,
   "id": "4b43be86",
   "metadata": {},
   "outputs": [
    {
     "data": {
      "text/plain": [
       "(68483, 185)"
      ]
     },
     "execution_count": 81,
     "metadata": {},
     "output_type": "execute_result"
    }
   ],
   "source": [
    "df.shape"
   ]
  },
  {
   "cell_type": "code",
   "execution_count": 82,
   "id": "4a6305bd",
   "metadata": {},
   "outputs": [],
   "source": [
    "df_mice = df"
   ]
  },
  {
   "cell_type": "code",
   "execution_count": 83,
   "id": "cfe2f6a1",
   "metadata": {},
   "outputs": [],
   "source": [
    "df_mice.to_csv('df_mice.csv', index = False, header = True)"
   ]
  },
  {
   "cell_type": "markdown",
   "id": "eacefc69",
   "metadata": {},
   "source": [
    "### 1.8 Final processing"
   ]
  },
  {
   "cell_type": "code",
   "execution_count": 84,
   "id": "62b24030",
   "metadata": {},
   "outputs": [],
   "source": [
    "train_mice = df_mice[df_mice['PatientID'].isin(train['PatientID'])]\n",
    "train_mice = train_mice.set_index('PatientID')"
   ]
  },
  {
   "cell_type": "code",
   "execution_count": 85,
   "id": "afdb1a12",
   "metadata": {},
   "outputs": [],
   "source": [
    "test_mice = df_mice[df_mice['PatientID'].isin(test['PatientID'])]\n",
    "test_mice = test_mice.set_index('PatientID')"
   ]
  },
  {
   "cell_type": "code",
   "execution_count": 86,
   "id": "7e02a4e8",
   "metadata": {},
   "outputs": [
    {
     "data": {
      "text/plain": [
       "['PracticeType',\n",
       " 'gender',\n",
       " 'race',\n",
       " 'ethnicity',\n",
       " 'region',\n",
       " 'Histology',\n",
       " 'SmokingStatus',\n",
       " 'stage',\n",
       " 'ALK',\n",
       " 'BRAF',\n",
       " 'EGFR',\n",
       " 'KRAS',\n",
       " 'ROS1',\n",
       " 'pdl1',\n",
       " 'pdl1_n',\n",
       " 'ecog_diagnosis']"
      ]
     },
     "execution_count": 86,
     "metadata": {},
     "output_type": "execute_result"
    }
   ],
   "source": [
    "list(train_mice.select_dtypes(include = ['object']).columns)"
   ]
  },
  {
   "cell_type": "code",
   "execution_count": 87,
   "id": "2ebe1a6f",
   "metadata": {},
   "outputs": [],
   "source": [
    "to_be_categorical = list(train_mice.select_dtypes(include = ['object']).columns)"
   ]
  },
  {
   "cell_type": "code",
   "execution_count": 88,
   "id": "09d76cc4",
   "metadata": {},
   "outputs": [],
   "source": [
    "# Add adv_year to list of object variables which will be converted to categorical in below cell. \n",
    "to_be_categorical.append('adv_year')"
   ]
  },
  {
   "cell_type": "code",
   "execution_count": 89,
   "id": "631adf19",
   "metadata": {},
   "outputs": [],
   "source": [
    "# miceforest requires columns to be category or int/float, so object columns will be converted to category. \n",
    "for x in list(to_be_categorical):\n",
    "    train_mice[x] = train_mice[x].astype('category')"
   ]
  },
  {
   "cell_type": "code",
   "execution_count": 90,
   "id": "a0e54adb",
   "metadata": {},
   "outputs": [],
   "source": [
    "# Convert variables in list to categorical.\n",
    "for x in list(to_be_categorical):\n",
    "    test_mice[x] = test_mice[x].astype('category')"
   ]
  },
  {
   "cell_type": "code",
   "execution_count": 91,
   "id": "8f0baeab",
   "metadata": {},
   "outputs": [
    {
     "data": {
      "text/plain": [
       "['stage',\n",
       " 'ecog_diagnosis',\n",
       " 'weight_diag',\n",
       " 'bmi_diag',\n",
       " 'weight_pct_change',\n",
       " 'weight_slope',\n",
       " 'albumin_diag',\n",
       " 'alp_diag',\n",
       " 'alt_diag',\n",
       " 'ast_diag',\n",
       " 'bicarb_diag',\n",
       " 'bun_diag',\n",
       " 'calcium_diag',\n",
       " 'chloride_diag',\n",
       " 'creatinine_diag',\n",
       " 'hemoglobin_diag',\n",
       " 'neutrophil_count_diag',\n",
       " 'platelet_diag',\n",
       " 'potassium_diag',\n",
       " 'sodium_diag',\n",
       " 'total_bilirubin_diag',\n",
       " 'wbc_diag',\n",
       " 'alp_max',\n",
       " 'alt_max',\n",
       " 'ast_max',\n",
       " 'calcium_max',\n",
       " 'creatinine_max',\n",
       " 'total_bilirubin_max',\n",
       " 'wbc_max',\n",
       " 'albumin_min',\n",
       " 'bicarb_min',\n",
       " 'hemoglobin_min',\n",
       " 'platelet_min',\n",
       " 'sodium_min',\n",
       " 'wbc_min',\n",
       " 'weight_90',\n",
       " 'bmi_90',\n",
       " 'weight_pct_6m',\n",
       " 'weight_slope_6m',\n",
       " 'albumin_90',\n",
       " 'alp_90',\n",
       " 'alt_90',\n",
       " 'ast_90',\n",
       " 'bicarb_90',\n",
       " 'bun_90',\n",
       " 'calcium_90',\n",
       " 'chloride_90',\n",
       " 'creatinine_90',\n",
       " 'hemoglobin_90',\n",
       " 'neutrophil_count_90',\n",
       " 'platelet_90',\n",
       " 'potassium_90',\n",
       " 'sodium_90',\n",
       " 'total_bilirubin_90',\n",
       " 'wbc_90',\n",
       " 'alp_max_f',\n",
       " 'alt_max_f',\n",
       " 'ast_max_f',\n",
       " 'calcium_max_f',\n",
       " 'creatinine_max_f',\n",
       " 'total_bilirubin_max_f',\n",
       " 'wbc_max_f',\n",
       " 'albumin_min_f',\n",
       " 'bicarb_min_f',\n",
       " 'hemoglobin_min_f',\n",
       " 'platelet_min_f',\n",
       " 'sodium_min_f',\n",
       " 'wbc_min_f']"
      ]
     },
     "execution_count": 91,
     "metadata": {},
     "output_type": "execute_result"
    }
   ],
   "source": [
    "# List of variable that have missing values which MICE will impute. \n",
    "list(train_mice.columns[train_mice.isnull().any()])"
   ]
  },
  {
   "cell_type": "code",
   "execution_count": 92,
   "id": "719b4cad",
   "metadata": {},
   "outputs": [
    {
     "data": {
      "text/plain": [
       "68"
      ]
     },
     "execution_count": 92,
     "metadata": {},
     "output_type": "execute_result"
    }
   ],
   "source": [
    "len(train_mice.columns[train_mice.isnull().any()])"
   ]
  },
  {
   "cell_type": "markdown",
   "id": "2644b114",
   "metadata": {},
   "source": [
    "## 2. Building training and test set using miceforest "
   ]
  },
  {
   "cell_type": "code",
   "execution_count": 93,
   "id": "423e595c",
   "metadata": {},
   "outputs": [],
   "source": [
    "import miceforest as mf"
   ]
  },
  {
   "cell_type": "markdown",
   "id": "b9e12b26",
   "metadata": {},
   "source": [
    "### 2.1 Finding ideal parameters"
   ]
  },
  {
   "cell_type": "code",
   "execution_count": 94,
   "id": "57a28f60",
   "metadata": {},
   "outputs": [],
   "source": [
    "# Create kernel. \n",
    "kernel = mf.ImputationKernel(\n",
    "    train_mice,\n",
    "    datasets = 5,\n",
    "    save_all_iterations = True,\n",
    "    random_state = 42)"
   ]
  },
  {
   "cell_type": "code",
   "execution_count": 95,
   "id": "cc0e8b51",
   "metadata": {},
   "outputs": [
    {
     "name": "stdout",
     "output_type": "stream",
     "text": [
      "stage | 0 - 1 - 2 - 3 - 4 - \n",
      "hemoglobin_min_f | 0 - 1 - 2 - 3 - 4 - \n",
      "creatinine_max_f | 0 - 1 - 2 - 3 - 4 - \n",
      "weight_pct_6m | 0 - 1 - 2 - 3 - 4 - \n",
      "weight_slope_6m | 0 - 1 - 2 - 3 - 4 - \n",
      "calcium_max_f | 0 - 1 - 2 - 3 - 4 - \n",
      "ast_max_f | 0 - 1 - 2 - 3 - 4 - \n",
      "alp_max_f | 0 - 1 - 2 - 3 - 4 - \n",
      "wbc_min_f | 0 - 1 - 2 - 3 - 4 - \n",
      "wbc_max_f | 0 - 1 - 2 - 3 - 4 - \n",
      "alt_max_f | 0 - 1 - 2 - 3 - 4 - \n",
      "weight_pct_change | 0 - 1 - 2 - 3 - 4 - \n",
      "weight_slope | 0 - 1 - 2 - 3 - 4 - \n",
      "total_bilirubin_max_f | 0 - 1 - 2 - 3 - 4 - \n",
      "albumin_min_f | 0 - 1 - 2 - 3 - 4 - \n",
      "platelet_min_f | 0 - 1 - 2 - 3 - 4 - \n",
      "weight_diag | 0 - 1 - 2 - 3 - 4 - \n",
      "bmi_diag | 0 - 1 - 2 - 3 - 4 - \n",
      "weight_90 | 0 - 1 - 2 - 3 - 4 - \n",
      "bmi_90 | 0 - 1 - 2 - 3 - 4 - \n",
      "sodium_min_f | 0 - 1 - 2 - 3 - 4 - \n",
      "hemoglobin_90 | 0 - 1 - 2 - 3 - 4 - \n",
      "bicarb_min_f | 0 - 1 - 2 - 3 - 4 - \n",
      "creatinine_90 | 0 - 1 - 2 - 3 - 4 - \n",
      "bun_90 | 0 - 1 - 2 - 3 - 4 - \n",
      "hemoglobin_min | 0 - 1 - 2 - 3 - 4 - \n",
      "creatinine_max | 0 - 1 - 2 - 3 - 4 - \n",
      "calcium_90 | 0 - 1 - 2 - 3 - 4 - \n",
      "wbc_90 | 0 - 1 - 2 - 3 - 4 - \n",
      "ast_90 | 0 - 1 - 2 - 3 - 4 - \n",
      "alp_90 | 0 - 1 - 2 - 3 - 4 - \n",
      "alt_90 | 0 - 1 - 2 - 3 - 4 - \n",
      "total_bilirubin_90 | 0 - 1 - 2 - 3 - 4 - \n",
      "platelet_90 | 0 - 1 - 2 - 3 - 4 - \n",
      "wbc_max | 0 - 1 - 2 - 3 - 4 - \n",
      "wbc_min | 0 - 1 - 2 - 3 - 4 - \n",
      "albumin_90 | 0 - 1 - 2 - 3 - 4 - \n",
      "hemoglobin_diag | 0 - 1 - 2 - 3 - 4 - \n",
      "calcium_max | 0 - 1 - 2 - 3 - 4 - \n",
      "creatinine_diag | 0 - 1 - 2 - 3 - 4 - \n",
      "ast_max | 0 - 1 - 2 - 3 - 4 - \n",
      "alp_max | 0 - 1 - 2 - 3 - 4 - \n",
      "alt_max | 0 - 1 - 2 - 3 - 4 - \n",
      "platelet_min | 0 - 1 - 2 - 3 - 4 - \n",
      "total_bilirubin_max | 0 - 1 - 2 - 3 - 4 - \n",
      "bun_diag | 0 - 1 - 2 - 3 - 4 - \n",
      "albumin_min | 0 - 1 - 2 - 3 - 4 - \n",
      "wbc_diag | 0 - 1 - 2 - 3 - 4 - \n",
      "calcium_diag | 0 - 1 - 2 - 3 - 4 - \n",
      "ast_diag | 0 - 1 - 2 - 3 - 4 - \n",
      "alp_diag | 0 - 1 - 2 - 3 - 4 - \n",
      "alt_diag | 0 - 1 - 2 - 3 - 4 - \n",
      "platelet_diag | 0 - 1 - 2 - 3 - 4 - \n",
      "potassium_90 | 0 - 1 - 2 - 3 - 4 - \n",
      "total_bilirubin_diag | 0 - 1 - 2 - 3 - 4 - \n",
      "sodium_90 | 0 - 1 - 2 - 3 - 4 - \n",
      "albumin_diag | 0 - 1 - 2 - 3 - 4 - \n",
      "bicarb_90 | 0 - 1 - 2 - 3 - 4 - \n",
      "sodium_min | 0 - 1 - 2 - 3 - 4 - \n",
      "bicarb_min | 0 - 1 - 2 - 3 - 4 - \n",
      "neutrophil_count_90 | 0 - 1 - 2 - 3 - 4 - \n",
      "potassium_diag | 0 - 1 - 2 - 3 - 4 - \n",
      "sodium_diag | 0 - 1 - 2 - 3 - 4 - \n",
      "chloride_90 | 0 - 1 - 2 - 3 - 4 - \n",
      "bicarb_diag | 0 - 1 - 2 - 3 - 4 - \n",
      "neutrophil_count_diag | 0 - 1 - 2 - 3 - 4 - \n",
      "ecog_diagnosis | 0 - 1 - 2 - 3 - 4 - \n",
      "chloride_diag | 0 - 1 - 2 - 3 - 4 - \n"
     ]
    }
   ],
   "source": [
    "# Using the first ImputationKernel in kernel to tune parameters with the default settings.\n",
    "optimal_parameters, losses = kernel.tune_parameters(\n",
    "    dataset = 0,\n",
    "    optimization_steps = 5,\n",
    "    verbose = 1,\n",
    "    random_state = 42)"
   ]
  },
  {
   "cell_type": "markdown",
   "id": "8a57e30d",
   "metadata": {},
   "source": [
    "### 2.2 Building training datasets"
   ]
  },
  {
   "cell_type": "code",
   "execution_count": 96,
   "id": "232cf6c8",
   "metadata": {},
   "outputs": [],
   "source": [
    "# Run mice with our newly tuned parameters.\n",
    "kernel.mice(iterations = 5, \n",
    "            variable_parameters = optimal_parameters,\n",
    "            verbose = 0)"
   ]
  },
  {
   "cell_type": "code",
   "execution_count": 97,
   "id": "8239825a",
   "metadata": {},
   "outputs": [],
   "source": [
    "for x in range(5): \n",
    "    kernel.complete_data(dataset = x).to_csv('mice_tr'+str(x)+'.csv', index = True, header = True)"
   ]
  },
  {
   "cell_type": "markdown",
   "id": "b68df750",
   "metadata": {},
   "source": [
    "### 2.3 Building test datasets"
   ]
  },
  {
   "cell_type": "code",
   "execution_count": 98,
   "id": "6478477b",
   "metadata": {},
   "outputs": [],
   "source": [
    "test_imputed = kernel.impute_new_data(new_data = test_mice, verbose = 0)"
   ]
  },
  {
   "cell_type": "code",
   "execution_count": 99,
   "id": "d3f43708",
   "metadata": {},
   "outputs": [],
   "source": [
    "for x in range(5): \n",
    "    test_imputed.complete_data(dataset = x).to_csv('mice_te'+str(x)+'.csv', index = True, header = True)"
   ]
  },
  {
   "cell_type": "markdown",
   "id": "8c287d39",
   "metadata": {},
   "source": [
    "## 3. Building gradient boosting model "
   ]
  },
  {
   "cell_type": "code",
   "execution_count": 100,
   "id": "c0ee3a61",
   "metadata": {},
   "outputs": [],
   "source": [
    "from sklearn.pipeline import Pipeline, make_pipeline\n",
    "from sklearn.impute import SimpleImputer\n",
    "from sklearn.preprocessing import StandardScaler, OneHotEncoder, OrdinalEncoder\n",
    "from sklearn.compose import ColumnTransformer \n",
    "from sklearn.experimental import enable_halving_search_cv\n",
    "from sklearn.model_selection import StratifiedKFold, HalvingGridSearchCV\n",
    "\n",
    "from sksurv.ensemble import GradientBoostingSurvivalAnalysis\n",
    "from sksurv.metrics import cumulative_dynamic_auc, as_cumulative_dynamic_auc_scorer\n",
    "\n",
    "from joblib import dump, load\n",
    "\n",
    "import matplotlib.pyplot as plt\n",
    "\n",
    "import warnings"
   ]
  },
  {
   "cell_type": "markdown",
   "id": "1c93aa21",
   "metadata": {},
   "source": [
    "### 3.1 Model 0"
   ]
  },
  {
   "cell_type": "markdown",
   "id": "2d59036d",
   "metadata": {},
   "source": [
    "#### Preprocessing and building pipeline "
   ]
  },
  {
   "cell_type": "code",
   "execution_count": 101,
   "id": "799c7de0",
   "metadata": {},
   "outputs": [],
   "source": [
    "# Import first training set\n",
    "train_mice0 = pd.read_csv('mice_tr0.csv', index_col = 'PatientID')\n",
    "\n",
    "# Import all test sets\n",
    "test_mice0 = pd.read_csv('mice_te0.csv', index_col = 'PatientID')\n",
    "test_mice1 = pd.read_csv('mice_te1.csv', index_col = 'PatientID')\n",
    "test_mice2 = pd.read_csv('mice_te2.csv', index_col = 'PatientID')\n",
    "test_mice3 = pd.read_csv('mice_te3.csv', index_col = 'PatientID')\n",
    "test_mice4 = pd.read_csv('mice_te4.csv', index_col = 'PatientID')"
   ]
  },
  {
   "cell_type": "code",
   "execution_count": 102,
   "id": "8456d8a7",
   "metadata": {},
   "outputs": [],
   "source": [
    "# Combine all test sets into 1 to get more robust estimates from models\n",
    "test_mice = pd.concat([test_mice0, test_mice1, test_mice2, test_mice3, test_mice4], ignore_index = False)"
   ]
  },
  {
   "cell_type": "code",
   "execution_count": 103,
   "id": "67da9dd4",
   "metadata": {},
   "outputs": [
    {
     "name": "stdout",
     "output_type": "stream",
     "text": [
      "(54786, 184)\n",
      "(68485, 184)\n"
     ]
    }
   ],
   "source": [
    "print(train_mice0.shape)\n",
    "print(test_mice.shape)"
   ]
  },
  {
   "cell_type": "code",
   "execution_count": 104,
   "id": "781fdd83",
   "metadata": {},
   "outputs": [
    {
     "data": {
      "text/plain": [
       "Index(['targeted_1', 'io_1', 'chemo_1', 'targeted_2', 'io_2', 'chemo_2',\n",
       "       'targeted_3', 'io_3', 'chemo_3', 'weight_90', 'bmi_90', 'weight_pct_6m',\n",
       "       'weight_slope_6m', 'albumin_90', 'alp_90', 'alt_90', 'ast_90',\n",
       "       'bicarb_90', 'bun_90', 'calcium_90', 'chloride_90', 'creatinine_90',\n",
       "       'hemoglobin_90', 'neutrophil_count_90', 'platelet_90', 'potassium_90',\n",
       "       'sodium_90', 'total_bilirubin_90', 'wbc_90', 'alp_max_f', 'alt_max_f',\n",
       "       'ast_max_f', 'calcium_max_f', 'creatinine_max_f',\n",
       "       'total_bilirubin_max_f', 'wbc_max_f', 'albumin_min_f', 'bicarb_min_f',\n",
       "       'hemoglobin_min_f', 'platelet_min_f', 'sodium_min_f', 'wbc_min_f'],\n",
       "      dtype='object')"
      ]
     },
     "execution_count": 104,
     "metadata": {},
     "output_type": "execute_result"
    }
   ],
   "source": [
    "# Auxillary variables generated for MICE\n",
    "train_mice0.columns[train_mice0.columns.str.contains('_1|_2|_3|_9|_6m|x_f|n_f')]"
   ]
  },
  {
   "cell_type": "code",
   "execution_count": 105,
   "id": "398297fb",
   "metadata": {},
   "outputs": [],
   "source": [
    "#Remove auxillary variables for train and test sets\n",
    "mice_drop = train_mice0.columns[train_mice0.columns.str.contains('_1|_2|_3|_9|_6m|x_f|n_f')]\n",
    "\n",
    "train_mice0 = train_mice0.drop(columns = mice_drop)\n",
    "\n",
    "test_mice = test_mice.drop(columns = mice_drop)"
   ]
  },
  {
   "cell_type": "code",
   "execution_count": 106,
   "id": "cbe72ee8",
   "metadata": {},
   "outputs": [
    {
     "name": "stdout",
     "output_type": "stream",
     "text": [
      "(54786, 142)\n",
      "(68485, 142)\n"
     ]
    }
   ],
   "source": [
    "print(train_mice0.shape)\n",
    "print(test_mice.shape)"
   ]
  },
  {
   "cell_type": "code",
   "execution_count": 107,
   "id": "e132948e",
   "metadata": {},
   "outputs": [],
   "source": [
    "# Remove unecessary demographic variables for train and test sets\n",
    "dem_var = ['race',\n",
    "           'ethnicity',\n",
    "           'region',\n",
    "           'commercial',\n",
    "           'medicare',\n",
    "           'medicaid',\n",
    "           'other_insurance']\n",
    "\n",
    "train_mice0 = train_mice0.drop(columns = dem_var)\n",
    "\n",
    "test_mice = test_mice.drop(columns = dem_var)"
   ]
  },
  {
   "cell_type": "code",
   "execution_count": 108,
   "id": "9d9d407c",
   "metadata": {},
   "outputs": [],
   "source": [
    "# Generate ecog_na and stage_na indicator variables\n",
    "train_mice0['ecog_na'] = np.where(train_mice0.index.isin(train.query('ecog_diagnosis == \"unknown\"').PatientID), 1, 0)\n",
    "train_mice0['stage_na'] = np.where(train_mice0.index.isin(train.query('stage == \"unknown\"').PatientID), 1, 0)\n",
    "\n",
    "test_mice['ecog_na'] = np.where(test_mice.index.isin(test.query('ecog_diagnosis == \"unknown\"').PatientID), 1, 0)\n",
    "test_mice['stage_na'] = np.where(test_mice.index.isin(test.query('stage == \"unknown\"').PatientID), 1, 0)"
   ]
  },
  {
   "cell_type": "code",
   "execution_count": 109,
   "id": "0e2cdacc",
   "metadata": {},
   "outputs": [
    {
     "data": {
      "text/plain": [
       "1    29019\n",
       "0    25767\n",
       "Name: ecog_na, dtype: int64"
      ]
     },
     "execution_count": 109,
     "metadata": {},
     "output_type": "execute_result"
    }
   ],
   "source": [
    "train_mice0.ecog_na.value_counts()"
   ]
  },
  {
   "cell_type": "code",
   "execution_count": 110,
   "id": "75e8aef7",
   "metadata": {},
   "outputs": [
    {
     "data": {
      "text/plain": [
       "1    7183.0\n",
       "0    6514.0\n",
       "Name: ecog_na, dtype: float64"
      ]
     },
     "execution_count": 110,
     "metadata": {},
     "output_type": "execute_result"
    }
   ],
   "source": [
    "test_mice.ecog_na.value_counts()/5"
   ]
  },
  {
   "cell_type": "code",
   "execution_count": 111,
   "id": "711c71e0",
   "metadata": {},
   "outputs": [],
   "source": [
    "# List of cateogrical varaibles \n",
    "to_be_categorical = ['PracticeType',\n",
    "                     'gender',\n",
    "                     'Histology',\n",
    "                     'SmokingStatus',\n",
    "                     'stage',\n",
    "                     'adv_year',\n",
    "                     'ALK',\n",
    "                     'BRAF',\n",
    "                     'EGFR',\n",
    "                     'KRAS',\n",
    "                     'ROS1',\n",
    "                     'pdl1',\n",
    "                     'pdl1_n',\n",
    "                     'ecog_diagnosis']"
   ]
  },
  {
   "cell_type": "code",
   "execution_count": 112,
   "id": "22ea8dc7",
   "metadata": {},
   "outputs": [],
   "source": [
    "# Convert object variables to categorical variables for train and test \n",
    "for x in list(to_be_categorical):\n",
    "    train_mice0[x] = train_mice0[x].astype('category')\n",
    "    \n",
    "for x in list(to_be_categorical):\n",
    "    test_mice[x] = test_mice[x].astype('category')"
   ]
  },
  {
   "cell_type": "code",
   "execution_count": 113,
   "id": "fbf31129",
   "metadata": {},
   "outputs": [
    {
     "data": {
      "text/plain": [
       "['PracticeType',\n",
       " 'gender',\n",
       " 'Histology',\n",
       " 'SmokingStatus',\n",
       " 'stage',\n",
       " 'adv_year',\n",
       " 'ALK',\n",
       " 'BRAF',\n",
       " 'EGFR',\n",
       " 'KRAS',\n",
       " 'ROS1',\n",
       " 'pdl1',\n",
       " 'pdl1_n',\n",
       " 'ecog_diagnosis']"
      ]
     },
     "execution_count": 113,
     "metadata": {},
     "output_type": "execute_result"
    }
   ],
   "source": [
    "list(train_mice0.select_dtypes(include = ['category']).columns)"
   ]
  },
  {
   "cell_type": "code",
   "execution_count": 114,
   "id": "3373aa27",
   "metadata": {},
   "outputs": [],
   "source": [
    "# Death status to boolean \n",
    "train_mice0['death_status'] = train_mice0['death_status'].astype('bool')\n",
    "\n",
    "test_mice['death_status'] = test_mice['death_status'].astype('bool')"
   ]
  },
  {
   "cell_type": "code",
   "execution_count": 115,
   "id": "54f91317",
   "metadata": {},
   "outputs": [],
   "source": [
    "#Define validation and subtrain\n",
    "val_IDs = pd.read_csv('val_IDs.csv')\n",
    "\n",
    "val_mice0 = train_mice0[train_mice0.index.isin(val_IDs['PatientID'])]\n",
    "\n",
    "sub_train_mice0 = train_mice0[~train_mice0.index.isin(val_IDs['PatientID'])]"
   ]
  },
  {
   "cell_type": "code",
   "execution_count": 116,
   "id": "4131aae2",
   "metadata": {},
   "outputs": [
    {
     "name": "stdout",
     "output_type": "stream",
     "text": [
      "(54786, 137)\n",
      "(41089, 137)\n",
      "(13697, 137)\n"
     ]
    }
   ],
   "source": [
    "print(train_mice0.shape)\n",
    "print(sub_train_mice0.shape)\n",
    "print(val_mice0.shape)"
   ]
  },
  {
   "cell_type": "code",
   "execution_count": 117,
   "id": "a74fa18f",
   "metadata": {},
   "outputs": [],
   "source": [
    "# 'X' datasets\n",
    "train_mice0_x = train_mice0.drop(columns = ['death_status', 'timerisk_activity'])\n",
    "\n",
    "sub_train_mice0_x = sub_train_mice0.drop(columns = ['death_status', 'timerisk_activity'])\n",
    "\n",
    "val_mice0_x = val_mice0.drop(columns = ['death_status', 'timerisk_activity'])\n",
    "\n",
    "test_mice_x = test_mice.drop(columns = ['death_status', 'timerisk_activity'])"
   ]
  },
  {
   "cell_type": "code",
   "execution_count": 118,
   "id": "199edd71",
   "metadata": {},
   "outputs": [
    {
     "name": "stdout",
     "output_type": "stream",
     "text": [
      "(54786, 135)\n",
      "(41089, 135)\n",
      "(13697, 135)\n",
      "(68485, 135)\n"
     ]
    }
   ],
   "source": [
    "print(train_mice0_x.shape)\n",
    "print(sub_train_mice0_x.shape)\n",
    "print(val_mice0_x.shape)\n",
    "print(test_mice_x.shape)"
   ]
  },
  {
   "cell_type": "code",
   "execution_count": 119,
   "id": "88e968a6",
   "metadata": {},
   "outputs": [],
   "source": [
    "# 'Y' datasets \n",
    "y_dtypes = train_mice0[['death_status', 'timerisk_activity']].dtypes\n",
    "\n",
    "train_y = np.array([tuple(x) for x in train[['death_status', 'timerisk_activity']].values],\n",
    "                   dtype = list(zip(y_dtypes.index, y_dtypes)))\n",
    "\n",
    "sub_train_y = np.array([tuple(x) for x in sub_train_mice0[['death_status', 'timerisk_activity']].values],\n",
    "                       dtype = list(zip(y_dtypes.index, y_dtypes)))\n",
    "\n",
    "val_y = np.array([tuple(x) for x in val_mice0[['death_status', 'timerisk_activity']].values],\n",
    "                 dtype = list(zip(y_dtypes.index, y_dtypes)))\n",
    "\n",
    "test_y = np.array([tuple(x) for x in test_mice[['death_status', 'timerisk_activity']].values],\n",
    "                  dtype = list(zip(y_dtypes.index, y_dtypes)))"
   ]
  },
  {
   "cell_type": "code",
   "execution_count": 120,
   "id": "ceaec420",
   "metadata": {},
   "outputs": [],
   "source": [
    "# List of numeric variables, excluding binary variables. \n",
    "numerical_features_red = [\n",
    "    'age',\n",
    "    'delta_adv_diagnosis',\n",
    "    'weight_diag',\n",
    "    'bmi_diag',\n",
    "    'weight_pct_change',\n",
    "    'weight_slope',\n",
    "    'albumin_diag',\n",
    "    'alp_diag',\n",
    "    'alt_diag',\n",
    "    'ast_diag',\n",
    "    'bicarb_diag',\n",
    "    'bun_diag',\n",
    "    'calcium_diag',\n",
    "    'chloride_diag',\n",
    "    'creatinine_diag',\n",
    "    'hemoglobin_diag',\n",
    "    'neutrophil_count_diag',\n",
    "    'platelet_diag',\n",
    "    'potassium_diag',\n",
    "    'sodium_diag',\n",
    "    'total_bilirubin_diag',\n",
    "    'wbc_diag',\n",
    "    'alp_max',\n",
    "    'alt_max',\n",
    "    'ast_max',\n",
    "    'calcium_max',\n",
    "    'creatinine_max',\n",
    "    'total_bilirubin_max',\n",
    "    'wbc_max',\n",
    "    'albumin_min',\n",
    "    'bicarb_min',\n",
    "    'hemoglobin_min',\n",
    "    'platelet_min',\n",
    "    'sodium_min',\n",
    "    'wbc_min',\n",
    "    'icd_count']\n",
    "\n",
    "# List of categorical features.\n",
    "categorical_features = list(train_mice0_x.select_dtypes(include = ['category']).columns)\n",
    "\n",
    "# Transformer will apply a standard scaler. \n",
    "numerical_transformer = Pipeline(steps = [\n",
    "    ('std_scaler', StandardScaler())])\n",
    "\n",
    "# One-hot-encode categorical features.\n",
    "categorical_transformer = OneHotEncoder(handle_unknown = 'ignore')"
   ]
  },
  {
   "cell_type": "code",
   "execution_count": 121,
   "id": "8dec7a77",
   "metadata": {},
   "outputs": [],
   "source": [
    "preprocessor_red = ColumnTransformer(\n",
    "    transformers = [\n",
    "        ('num', numerical_transformer, numerical_features_red),\n",
    "        ('cat', categorical_transformer, categorical_features)],\n",
    "    remainder = 'passthrough')"
   ]
  },
  {
   "cell_type": "markdown",
   "id": "aa6f85fe",
   "metadata": {},
   "source": [
    "#### Hyperparameter tuning"
   ]
  },
  {
   "cell_type": "code",
   "execution_count": 122,
   "id": "aff2c034",
   "metadata": {},
   "outputs": [
    {
     "name": "stdout",
     "output_type": "stream",
     "text": [
      "(41089, 135)\n",
      "(41089,)\n",
      "(13697, 135)\n",
      "(13697,)\n"
     ]
    }
   ],
   "source": [
    "print(sub_train_mice0_x.shape)\n",
    "print(sub_train_y.shape)\n",
    "print(val_mice0_x.shape)\n",
    "print(val_y.shape)"
   ]
  },
  {
   "cell_type": "code",
   "execution_count": 123,
   "id": "a53b63aa",
   "metadata": {},
   "outputs": [
    {
     "name": "stdout",
     "output_type": "stream",
     "text": [
      "      Iter       Train Loss      OOB Improve   Remaining Time \n",
      "         1      209594.6640          59.9758          492.71m\n",
      "         2      207956.0690          62.1261          494.57m\n",
      "         3      209198.7793          50.7473          493.69m\n",
      "         4      208852.8762          45.6657          492.83m\n",
      "         5      208340.9624          45.2188          491.67m\n",
      "         6      208226.9768          40.8033          490.80m\n",
      "         7      207995.0623          42.5042          490.02m\n",
      "         8      207896.9451          36.1534          489.50m\n",
      "         9      208151.8939          37.3041          489.25m\n",
      "        10      207198.5428          36.0601          488.67m\n",
      "        20      207288.5376          21.5870          483.81m\n",
      "        30      206527.6722          15.3271          479.94m\n",
      "        40      206013.4157           9.2123          476.41m\n",
      "        50      205405.5190           7.4045          473.67m\n",
      "        60      205219.7132           5.8286          470.39m\n",
      "        70      204798.7290           5.2113          467.17m\n",
      "        80      204387.0566           3.1735          464.03m\n",
      "        90      204531.5941           2.5012          461.07m\n",
      "       100      204466.6464           2.0778          458.13m\n",
      "       200      203780.4277           0.5381          426.89m\n",
      "       300      202367.7998           0.9470          393.75m\n",
      "       400      202199.4465           1.4685          361.31m\n",
      "       500      202125.8419          -0.2244          328.67m\n",
      "       600      202152.6617          -0.9460          295.95m\n",
      "       700      201679.4734          -0.6809          263.16m\n",
      "       800      201094.6232          -0.5269          230.33m\n",
      "       900      200494.7461           1.2915          197.46m\n",
      "      1000      200673.9485          -0.4548          164.60m\n"
     ]
    },
    {
     "data": {
      "text/plain": [
       "GradientBoostingSurvivalAnalysis(n_estimators=1500, random_state=42,\n",
       "                                 subsample=0.75, verbose=1)"
      ]
     },
     "execution_count": 123,
     "metadata": {},
     "output_type": "execute_result"
    }
   ],
   "source": [
    "sub_train_mice0_xt = preprocessor_red.fit_transform(sub_train_mice0_x)\n",
    "val_mice0_xt = preprocessor_red.transform(val_mice0_x)\n",
    "\n",
    "gbm_mice0_exp = GradientBoostingSurvivalAnalysis(n_estimators = 1500,\n",
    "                                                 learning_rate = 0.1,\n",
    "                                                 max_depth = 3,\n",
    "                                                 subsample = 0.75,\n",
    "                                                 verbose = 1,\n",
    "                                                 random_state = 42)\n",
    "\n",
    "gbm_mice0_exp.fit(sub_train_mice0_xt, sub_train_y)"
   ]
  },
  {
   "cell_type": "code",
   "execution_count": 124,
   "id": "150b9bbb",
   "metadata": {},
   "outputs": [],
   "source": [
    "gbm0_staged_auc = [cumulative_dynamic_auc(sub_train_y, val_y, risk_score, 365)[0][0] for \n",
    "                   risk_score in gbm_mice0_exp.staged_predict(val_mice0_xt)]"
   ]
  },
  {
   "cell_type": "code",
   "execution_count": 125,
   "id": "595928e5",
   "metadata": {},
   "outputs": [],
   "source": [
    "gbm0_staged_auc_tr = [cumulative_dynamic_auc(sub_train_y, sub_train_y, risk_score, 365)[0][0] for \n",
    "                      risk_score in gbm_mice0_exp.staged_predict(sub_train_mice0_xt)]"
   ]
  },
  {
   "cell_type": "code",
   "execution_count": 126,
   "id": "cda45765",
   "metadata": {},
   "outputs": [
    {
     "data": {
      "image/png": "[encoded data removed]",
      "text/plain": [
       "<Figure size 640x480 with 1 Axes>"
      ]
     },
     "metadata": {},
     "output_type": "display_data"
    }
   ],
   "source": [
    "fig = plt.figure()\n",
    "ax = fig.add_subplot(1, 1, 1)\n",
    "\n",
    "x = range(len(gbm0_staged_auc))\n",
    "plt.plot(x, gbm0_staged_auc, color = 'blue', label = 'validation')\n",
    "plt.plot(x, gbm0_staged_auc_tr, color = 'red', label = 'training')\n",
    "plt.legend(loc = 'lower right')\n",
    "\n",
    "plt.xlabel(\"n_estimators\")\n",
    "plt.ylabel(\"AUC at 1-year \")\n",
    "plt.title('Gradient boosting model learning curve for mice0')\n",
    "\n",
    "plt.show()"
   ]
  },
  {
   "cell_type": "code",
   "execution_count": 127,
   "id": "16077d26",
   "metadata": {},
   "outputs": [],
   "source": [
    "# Average AUC for every 25 additional trees. \n",
    "mean_auc_list = []\n",
    "for x in np.arange(0, len(gbm0_staged_auc), 25):\n",
    "    mean_auc_list.append(np.mean(gbm0_staged_auc[x:x+24]))"
   ]
  },
  {
   "cell_type": "code",
   "execution_count": 128,
   "id": "06e85b35",
   "metadata": {},
   "outputs": [
    {
     "name": "stdout",
     "output_type": "stream",
     "text": [
      "Number of trees where 1 year AUC on validation dataset beings to downgrade: 600\n",
      "Validation dataset AUC before degrading: 0.7907085160487947\n",
      "Training dataset AUC before degrading: 0.8217418942347195\n"
     ]
    }
   ],
   "source": [
    "print('Number of trees where 1 year AUC on validation dataset beings to downgrade:', np.where(np.diff(mean_auc_list) < 0)[0][0]*25)\n",
    "print('Validation dataset AUC before degrading:', gbm0_staged_auc[np.where(np.diff(mean_auc_list) < 0)[0][0]*25])\n",
    "print('Training dataset AUC before degrading:', gbm0_staged_auc_tr[np.where(np.diff(mean_auc_list) < 0)[0][0]*25])"
   ]
  },
  {
   "cell_type": "code",
   "execution_count": 129,
   "id": "22f9a977",
   "metadata": {},
   "outputs": [
    {
     "name": "stdout",
     "output_type": "stream",
     "text": [
      "(54786, 135)\n",
      "(54786,)\n"
     ]
    }
   ],
   "source": [
    "print(train_mice0_x.shape)\n",
    "print(train_y.shape)"
   ]
  },
  {
   "cell_type": "code",
   "execution_count": 130,
   "id": "6042e7a9",
   "metadata": {},
   "outputs": [],
   "source": [
    "gap90_IDs = pd.read_csv('gap90_IDs.csv')"
   ]
  },
  {
   "cell_type": "code",
   "execution_count": 131,
   "id": "0a28b3c9",
   "metadata": {},
   "outputs": [],
   "source": [
    "train90 = train[train.PatientID.isin(gap90_IDs['PatientID'])]"
   ]
  },
  {
   "cell_type": "code",
   "execution_count": 132,
   "id": "894cb123",
   "metadata": {},
   "outputs": [],
   "source": [
    "train90_mice0_x = train_mice0_x[train_mice0_x.index.isin(gap90_IDs['PatientID'])]"
   ]
  },
  {
   "cell_type": "code",
   "execution_count": 133,
   "id": "a4f09ecb",
   "metadata": {},
   "outputs": [],
   "source": [
    "train90_y = np.array([tuple(x) for x in train90[['death_status', 'timerisk_activity']].values], \n",
    "                   dtype = list(zip(y_dtypes.index, y_dtypes)))"
   ]
  },
  {
   "cell_type": "code",
   "execution_count": 134,
   "id": "69a8c4f5",
   "metadata": {},
   "outputs": [
    {
     "data": {
      "text/plain": [
       "(49095, 135)"
      ]
     },
     "execution_count": 134,
     "metadata": {},
     "output_type": "execute_result"
    }
   ],
   "source": [
    "train90_mice0_x.shape"
   ]
  },
  {
   "cell_type": "code",
   "execution_count": 135,
   "id": "40e1a1a2",
   "metadata": {},
   "outputs": [
    {
     "data": {
      "text/plain": [
       "(49095,)"
      ]
     },
     "execution_count": 135,
     "metadata": {},
     "output_type": "execute_result"
    }
   ],
   "source": [
    "train90_y.shape"
   ]
  },
  {
   "cell_type": "code",
   "execution_count": 136,
   "id": "e44f6b31",
   "metadata": {},
   "outputs": [
    {
     "name": "stdout",
     "output_type": "stream",
     "text": [
      "n_iterations: 4\n",
      "n_required_iterations: 4\n",
      "n_possible_iterations: 4\n",
      "min_resources_: 3750\n",
      "max_resources_: 30000\n",
      "aggressive_elimination: False\n",
      "factor: 2\n",
      "----------\n",
      "iter: 0\n",
      "n_candidates: 9\n",
      "n_resources: 3750\n",
      "Fitting 3 folds for each of 9 candidates, totalling 27 fits\n",
      "----------\n",
      "iter: 1\n",
      "n_candidates: 5\n",
      "n_resources: 7500\n",
      "Fitting 3 folds for each of 5 candidates, totalling 15 fits\n",
      "----------\n",
      "iter: 2\n",
      "n_candidates: 3\n",
      "n_resources: 15000\n",
      "Fitting 3 folds for each of 3 candidates, totalling 9 fits\n",
      "----------\n",
      "iter: 3\n",
      "n_candidates: 2\n",
      "n_resources: 30000\n",
      "Fitting 3 folds for each of 2 candidates, totalling 6 fits\n"
     ]
    },
    {
     "data": {
      "text/plain": [
       "HalvingGridSearchCV(cv=StratifiedKFold(n_splits=3, random_state=42, shuffle=True),\n",
       "                    estimator=as_cumulative_dynamic_auc_scorer(estimator=Pipeline(steps=[('columntransformer',\n",
       "                                                                                          ColumnTransformer(remainder='passthrough',\n",
       "                                                                                                            transformers=[('num',\n",
       "                                                                                                                           Pipeline(steps=[('std_scaler',\n",
       "                                                                                                                                            StandardScaler())]),\n",
       "                                                                                                                           ['age',\n",
       "                                                                                                                            'delta_adv_diagnosis',\n",
       "                                                                                                                            'weight_diag',\n",
       "                                                                                                                            'bmi_diag',\n",
       "                                                                                                                            'weight_pct_c...\n",
       "                                                                                         ('gradientboostingsurvivalanalysis',\n",
       "                                                                                          GradientBoostingSurvivalAnalysis(n_estimators=600,\n",
       "                                                                                                                           random_state=42))]),\n",
       "                                                               times=365),\n",
       "                    factor=2, max_resources=30000, n_jobs=-1,\n",
       "                    param_grid={'estimator__gradientboostingsurvivalanalysis__max_depth': [2,\n",
       "                                                                                           3,\n",
       "                                                                                           4],\n",
       "                                'estimator__gradientboostingsurvivalanalysis__subsample': [0.5,\n",
       "                                                                                           0.75,\n",
       "                                                                                           0.9]},\n",
       "                    random_state=42, refit=False, return_train_score=False,\n",
       "                    verbose=1)"
      ]
     },
     "execution_count": 136,
     "metadata": {},
     "output_type": "execute_result"
    }
   ],
   "source": [
    "pipe = make_pipeline(preprocessor_red, GradientBoostingSurvivalAnalysis(n_estimators = np.where(np.diff(mean_auc_list) < 0)[0][0]*25,\n",
    "                                                                        learning_rate = 0.1,\n",
    "                                                                        random_state = 42))\n",
    "\n",
    "# 3 fold cross-validation\n",
    "cv = StratifiedKFold(n_splits = 3, shuffle = True, random_state = 42)\n",
    "\n",
    "# Parameter gird \n",
    "param_grid = {'estimator__gradientboostingsurvivalanalysis__max_depth': [2, 3, 4], \n",
    "              'estimator__gradientboostingsurvivalanalysis__subsample': [0.5, 0.75, 0.9]}\n",
    "\n",
    "gbm_search = HalvingGridSearchCV(\n",
    "    as_cumulative_dynamic_auc_scorer(pipe, 365),\n",
    "    param_grid,\n",
    "    cv = cv,\n",
    "    factor = 2,\n",
    "    resource = 'n_samples',\n",
    "    max_resources = 30000,\n",
    "    return_train_score = False,\n",
    "    refit = False,\n",
    "    verbose = 1,\n",
    "    random_state = 42,\n",
    "    n_jobs = -1)\n",
    "\n",
    "# Run search \n",
    "warnings.filterwarnings('ignore')\n",
    "gbm_search.fit(train90_mice0_x, train90_y)"
   ]
  },
  {
   "cell_type": "code",
   "execution_count": 137,
   "id": "27af2921",
   "metadata": {},
   "outputs": [
    {
     "data": {
      "text/plain": [
       "{'estimator__gradientboostingsurvivalanalysis__max_depth': 2,\n",
       " 'estimator__gradientboostingsurvivalanalysis__subsample': 0.75}"
      ]
     },
     "execution_count": 137,
     "metadata": {},
     "output_type": "execute_result"
    },
    {
     "name": "stderr",
     "output_type": "stream",
     "text": [
      "/Users/xavierorcutt/Dropbox/ist_project/myenv/lib/python3.7/site-packages/sklearn/model_selection/_validation.py:774: UserWarning: Scoring failed. The score on this train-test partition for these parameters will be set to nan. Details: \n",
      "Traceback (most recent call last):\n",
      "  File \"/Users/xavierorcutt/Dropbox/ist_project/myenv/lib/python3.7/site-packages/sklearn/model_selection/_validation.py\", line 761, in _score\n",
      "    scores = scorer(estimator, X_test, y_test)\n",
      "  File \"/Users/xavierorcutt/Dropbox/ist_project/myenv/lib/python3.7/site-packages/sklearn/metrics/_scorer.py\", line 418, in _passthrough_scorer\n",
      "    return estimator.score(*args, **kwargs)\n",
      "  File \"/Users/xavierorcutt/Dropbox/ist_project/myenv/lib/python3.7/site-packages/sksurv/metrics.py\", line 795, in score\n",
      "    **self._get_score_params(),\n",
      "  File \"/Users/xavierorcutt/Dropbox/ist_project/myenv/lib/python3.7/site-packages/sksurv/metrics.py\", line 466, in cumulative_dynamic_auc\n",
      "    ipcw = cens.predict_ipcw(survival_test)\n",
      "  File \"/Users/xavierorcutt/Dropbox/ist_project/myenv/lib/python3.7/site-packages/sksurv/nonparametric.py\", line 445, in predict_ipcw\n",
      "    Ghat = self.predict_proba(time[event])\n",
      "  File \"/Users/xavierorcutt/Dropbox/ist_project/myenv/lib/python3.7/site-packages/sksurv/nonparametric.py\", line 381, in predict_proba\n",
      "    \"observed time point: {}\".format(self.unique_time_[-1]))\n",
      "ValueError: time must be smaller than largest observed time point: 3660.0\n",
      "\n",
      "  UserWarning,\n",
      "/Users/xavierorcutt/Dropbox/ist_project/myenv/lib/python3.7/site-packages/sklearn/model_selection/_validation.py:774: UserWarning: Scoring failed. The score on this train-test partition for these parameters will be set to nan. Details: \n",
      "Traceback (most recent call last):\n",
      "  File \"/Users/xavierorcutt/Dropbox/ist_project/myenv/lib/python3.7/site-packages/sklearn/model_selection/_validation.py\", line 761, in _score\n",
      "    scores = scorer(estimator, X_test, y_test)\n",
      "  File \"/Users/xavierorcutt/Dropbox/ist_project/myenv/lib/python3.7/site-packages/sklearn/metrics/_scorer.py\", line 418, in _passthrough_scorer\n",
      "    return estimator.score(*args, **kwargs)\n",
      "  File \"/Users/xavierorcutt/Dropbox/ist_project/myenv/lib/python3.7/site-packages/sksurv/metrics.py\", line 795, in score\n",
      "    **self._get_score_params(),\n",
      "  File \"/Users/xavierorcutt/Dropbox/ist_project/myenv/lib/python3.7/site-packages/sksurv/metrics.py\", line 466, in cumulative_dynamic_auc\n",
      "    ipcw = cens.predict_ipcw(survival_test)\n",
      "  File \"/Users/xavierorcutt/Dropbox/ist_project/myenv/lib/python3.7/site-packages/sksurv/nonparametric.py\", line 445, in predict_ipcw\n",
      "    Ghat = self.predict_proba(time[event])\n",
      "  File \"/Users/xavierorcutt/Dropbox/ist_project/myenv/lib/python3.7/site-packages/sksurv/nonparametric.py\", line 381, in predict_proba\n",
      "    \"observed time point: {}\".format(self.unique_time_[-1]))\n",
      "ValueError: time must be smaller than largest observed time point: 3660.0\n",
      "\n",
      "  UserWarning,\n"
     ]
    }
   ],
   "source": [
    "gbm_search.best_params_"
   ]
  },
  {
   "cell_type": "markdown",
   "id": "ab4ce256",
   "metadata": {},
   "source": [
    "**The above best tree depth and subsample will be used for all models moving forward mainly due to the computational cost of searching for these parameters (5-8 hours) for each MICE training set. It also seems likely that these two hyperparamters have small impact on test set AUC performance and are unlikely to change by much for each training set.** "
   ]
  },
  {
   "cell_type": "markdown",
   "id": "4b7f0171",
   "metadata": {},
   "source": [
    "#### Building model and assessing performance "
   ]
  },
  {
   "cell_type": "code",
   "execution_count": 138,
   "id": "f8fca5cd",
   "metadata": {},
   "outputs": [
    {
     "name": "stdout",
     "output_type": "stream",
     "text": [
      "      Iter       Train Loss      OOB Improve   Remaining Time \n",
      "         1      286785.7437          63.6665          344.69m\n",
      "         2      287096.2566          53.5175          345.26m\n",
      "         3      287057.7248          47.2746          344.62m\n",
      "         4      286802.1196          46.5538          343.66m\n",
      "         5      286630.4256          47.7504          342.83m\n",
      "         6      285634.1482          39.6352          342.09m\n",
      "         7      286193.8702          38.3414          341.50m\n",
      "         8      285803.2929          35.1480          340.82m\n",
      "         9      286484.1027          41.8654          340.18m\n",
      "        10      285948.6629          36.6082          339.63m\n",
      "        20      284848.3387          24.5503          333.66m\n",
      "        30      284569.8285          15.4101          327.91m\n",
      "        40      284034.9941          13.7157          322.34m\n",
      "        50      283185.8288           8.4909          317.27m\n",
      "        60      282669.0529           9.2256          312.11m\n",
      "        70      282799.8980           6.9073          306.74m\n",
      "        80      282599.4456           7.0565          301.08m\n",
      "        90      282198.9148           5.5679          295.34m\n",
      "       100      281714.1745           3.7370          289.54m\n",
      "       200      281479.1633           7.2605          232.30m\n",
      "       300      280213.6850          -0.2895          173.94m\n",
      "       400      280090.5423          -0.1393          116.06m\n",
      "       500      280010.3705          -0.0637           58.04m\n",
      "       600      279428.1634          -0.3482            0.00s\n"
     ]
    },
    {
     "data": {
      "text/plain": [
       "Pipeline(steps=[('columntransformer',\n",
       "                 ColumnTransformer(remainder='passthrough',\n",
       "                                   transformers=[('num',\n",
       "                                                  Pipeline(steps=[('std_scaler',\n",
       "                                                                   StandardScaler())]),\n",
       "                                                  ['age', 'delta_adv_diagnosis',\n",
       "                                                   'weight_diag', 'bmi_diag',\n",
       "                                                   'weight_pct_change',\n",
       "                                                   'weight_slope',\n",
       "                                                   'albumin_diag', 'alp_diag',\n",
       "                                                   'alt_diag', 'ast_diag',\n",
       "                                                   'bicarb_diag', 'bun_diag',\n",
       "                                                   'calcium_diag',\n",
       "                                                   'chloride_diag',\n",
       "                                                   'creati...\n",
       "                                                   'wbc_max', 'albumin_min', ...]),\n",
       "                                                 ('cat',\n",
       "                                                  OneHotEncoder(handle_unknown='ignore'),\n",
       "                                                  ['PracticeType', 'gender',\n",
       "                                                   'Histology', 'SmokingStatus',\n",
       "                                                   'stage', 'adv_year', 'ALK',\n",
       "                                                   'BRAF', 'EGFR', 'KRAS',\n",
       "                                                   'ROS1', 'pdl1', 'pdl1_n',\n",
       "                                                   'ecog_diagnosis'])])),\n",
       "                ('gradientboostingsurvivalanalysis',\n",
       "                 GradientBoostingSurvivalAnalysis(max_depth=2, n_estimators=600,\n",
       "                                                  random_state=42,\n",
       "                                                  subsample=0.75, verbose=1))])"
      ]
     },
     "execution_count": 138,
     "metadata": {},
     "output_type": "execute_result"
    }
   ],
   "source": [
    "gbm_mice0 = make_pipeline(preprocessor_red, GradientBoostingSurvivalAnalysis(n_estimators = 600,\n",
    "                                                                             learning_rate = 0.1,\n",
    "                                                                             max_depth = 2,\n",
    "                                                                             subsample = 0.75,\n",
    "                                                                             verbose = 1,\n",
    "                                                                             random_state = 42))\n",
    "\n",
    "gbm_mice0.fit(train_mice0_x, train_y)"
   ]
  },
  {
   "cell_type": "code",
   "execution_count": 139,
   "id": "e5d960fb",
   "metadata": {},
   "outputs": [
    {
     "data": {
      "text/plain": [
       "['gbm_mice0.joblib']"
      ]
     },
     "execution_count": 139,
     "metadata": {},
     "output_type": "execute_result"
    }
   ],
   "source": [
    "dump(gbm_mice0, 'gbm_mice0.joblib') "
   ]
  },
  {
   "cell_type": "code",
   "execution_count": 140,
   "id": "6eda3d81",
   "metadata": {},
   "outputs": [
    {
     "name": "stdout",
     "output_type": "stream",
     "text": [
      "Test set AUC at 1 year: 0.7860685457337806\n"
     ]
    }
   ],
   "source": [
    "gbm_risk_scores_te = gbm_mice0.predict(test_mice_x)\n",
    "gbm_auc_te = cumulative_dynamic_auc(train_y, test_y, gbm_risk_scores_te, 365)[0][0]\n",
    "print('Test set AUC at 1 year:', gbm_auc_te)"
   ]
  },
  {
   "cell_type": "code",
   "execution_count": 141,
   "id": "b2df1c1c",
   "metadata": {},
   "outputs": [
    {
     "name": "stdout",
     "output_type": "stream",
     "text": [
      "Training set AUC at 1 year: 0.7984161450654668\n"
     ]
    }
   ],
   "source": [
    "gbm_risk_scores_tr = gbm_mice0.predict(train_mice0_x)\n",
    "gbm_auc_tr = cumulative_dynamic_auc(train_y, train_y, gbm_risk_scores_tr, 365)[0][0]\n",
    "print('Training set AUC at 1 year:', gbm_auc_tr)"
   ]
  },
  {
   "cell_type": "code",
   "execution_count": 142,
   "id": "701fcd78",
   "metadata": {},
   "outputs": [],
   "source": [
    "# Bootstrap 10000 1 yr AUCs for test set \n",
    "n_bootstraps = 10000\n",
    "rng_seed = 42 \n",
    "bootstrapped_scores_te = []\n",
    "\n",
    "rng = np.random.RandomState(rng_seed)\n",
    "for i in range(n_bootstraps):\n",
    "    indices = rng.randint(0, len(gbm_risk_scores_te), len(gbm_risk_scores_te))\n",
    "    auc_yr = cumulative_dynamic_auc(train_y, test_y[indices], gbm_risk_scores_te[indices], 365)[0][0]\n",
    "    bootstrapped_scores_te.append(auc_yr)"
   ]
  },
  {
   "cell_type": "code",
   "execution_count": 143,
   "id": "f261b48e",
   "metadata": {},
   "outputs": [
    {
     "name": "stdout",
     "output_type": "stream",
     "text": [
      "Test set AUC standard error: 0.0018684728640348842\n"
     ]
    }
   ],
   "source": [
    "# Standard error of mean for test set AUC\n",
    "sorted_scores_te = np.array(bootstrapped_scores_te)\n",
    "sorted_scores_te.sort()\n",
    "\n",
    "conf_lower_te = sorted_scores_te[int(0.025 * len(sorted_scores_te))]\n",
    "conf_upper_te = sorted_scores_te[int(0.975 * len(sorted_scores_te))]\n",
    "\n",
    "standard_error_te = (conf_upper_te - conf_lower_te) / 3.92\n",
    "print('Test set AUC standard error:', standard_error_te)"
   ]
  },
  {
   "cell_type": "code",
   "execution_count": 144,
   "id": "9ac3f333",
   "metadata": {},
   "outputs": [],
   "source": [
    "# Bootstrap 10000 1-yr AUCs for train set \n",
    "n_bootstraps = 10000\n",
    "rng_seed = 42 \n",
    "bootstrapped_scores_tr = []\n",
    "\n",
    "rng = np.random.RandomState(rng_seed)\n",
    "for i in range(n_bootstraps):\n",
    "    indices = rng.randint(0, len(gbm_risk_scores_tr), len(gbm_risk_scores_tr))\n",
    "    auc_yr = cumulative_dynamic_auc(train_y, train_y[indices], gbm_risk_scores_tr[indices], 365)[0][0]\n",
    "    bootstrapped_scores_tr.append(auc_yr)"
   ]
  },
  {
   "cell_type": "code",
   "execution_count": 145,
   "id": "73e4ad72",
   "metadata": {},
   "outputs": [
    {
     "name": "stdout",
     "output_type": "stream",
     "text": [
      "Training set AUC standard error 0.002002084066438234\n"
     ]
    }
   ],
   "source": [
    "# Standard error of mean for train set AUC\n",
    "sorted_scores_tr = np.array(bootstrapped_scores_tr)\n",
    "sorted_scores_tr.sort()\n",
    "\n",
    "conf_lower_tr = sorted_scores_tr[int(0.025 * len(sorted_scores_tr))]\n",
    "conf_upper_tr = sorted_scores_tr[int(0.975 * len(sorted_scores_tr))]\n",
    "\n",
    "standard_error_tr = (conf_upper_tr - conf_lower_tr) / 3.92\n",
    "print('Training set AUC standard error', standard_error_tr)"
   ]
  },
  {
   "cell_type": "code",
   "execution_count": 146,
   "id": "e4dfd886",
   "metadata": {},
   "outputs": [],
   "source": [
    "mice_auc_data = {'mice_dataset': ['mice_0'],\n",
    "                 'auc_1yr_te': [gbm_auc_te],\n",
    "                 'sem_te': [standard_error_te],\n",
    "                 'auc_1yr_tr': [gbm_auc_tr],\n",
    "                 'sem_tr': [standard_error_tr]}\n",
    "\n",
    "mice_auc_df = pd.DataFrame(mice_auc_data)"
   ]
  },
  {
   "cell_type": "code",
   "execution_count": 147,
   "id": "66be3cf0",
   "metadata": {},
   "outputs": [
    {
     "data": {
      "text/html": [
       "<div>\n",
       "<style scoped>\n",
       "    .dataframe tbody tr th:only-of-type {\n",
       "        vertical-align: middle;\n",
       "    }\n",
       "\n",
       "    .dataframe tbody tr th {\n",
       "        vertical-align: top;\n",
       "    }\n",
       "\n",
       "    .dataframe thead th {\n",
       "        text-align: right;\n",
       "    }\n",
       "</style>\n",
       "<table border=\"1\" class=\"dataframe\">\n",
       "  <thead>\n",
       "    <tr style=\"text-align: right;\">\n",
       "      <th></th>\n",
       "      <th>mice_dataset</th>\n",
       "      <th>auc_1yr_te</th>\n",
       "      <th>sem_te</th>\n",
       "      <th>auc_1yr_tr</th>\n",
       "      <th>sem_tr</th>\n",
       "    </tr>\n",
       "  </thead>\n",
       "  <tbody>\n",
       "    <tr>\n",
       "      <th>0</th>\n",
       "      <td>mice_0</td>\n",
       "      <td>0.786069</td>\n",
       "      <td>0.001868</td>\n",
       "      <td>0.798416</td>\n",
       "      <td>0.002002</td>\n",
       "    </tr>\n",
       "  </tbody>\n",
       "</table>\n",
       "</div>"
      ],
      "text/plain": [
       "  mice_dataset  auc_1yr_te    sem_te  auc_1yr_tr    sem_tr\n",
       "0       mice_0    0.786069  0.001868    0.798416  0.002002"
      ]
     },
     "execution_count": 147,
     "metadata": {},
     "output_type": "execute_result"
    }
   ],
   "source": [
    "mice_auc_df"
   ]
  },
  {
   "cell_type": "code",
   "execution_count": 148,
   "id": "f51b298a",
   "metadata": {},
   "outputs": [],
   "source": [
    "mice_auc_df.to_csv('mice_auc_df.csv', index = False, header = True)"
   ]
  },
  {
   "cell_type": "code",
   "execution_count": 149,
   "id": "a3c8cf26",
   "metadata": {},
   "outputs": [],
   "source": [
    "times = np.arange(30, 1810, 30)\n",
    "mice0_auc_over5 = cumulative_dynamic_auc(train_y, test_y, gbm_risk_scores_te, times)[0]\n",
    "\n",
    "times_data = {}\n",
    "values = mice0_auc_over5\n",
    "time_names = []\n",
    "\n",
    "for x in range(len(times)):\n",
    "    time_names.append('time_'+str(times[x]))\n",
    "\n",
    "for i in range(len(time_names)):\n",
    "    times_data[time_names[i]] = values[i]\n",
    "    \n",
    "mice_auc_over5 = pd.DataFrame(times_data, index = ['mice_0'])"
   ]
  },
  {
   "cell_type": "code",
   "execution_count": 150,
   "id": "ded85dbd",
   "metadata": {},
   "outputs": [
    {
     "data": {
      "text/html": [
       "<div>\n",
       "<style scoped>\n",
       "    .dataframe tbody tr th:only-of-type {\n",
       "        vertical-align: middle;\n",
       "    }\n",
       "\n",
       "    .dataframe tbody tr th {\n",
       "        vertical-align: top;\n",
       "    }\n",
       "\n",
       "    .dataframe thead th {\n",
       "        text-align: right;\n",
       "    }\n",
       "</style>\n",
       "<table border=\"1\" class=\"dataframe\">\n",
       "  <thead>\n",
       "    <tr style=\"text-align: right;\">\n",
       "      <th></th>\n",
       "      <th>time_30</th>\n",
       "      <th>time_60</th>\n",
       "      <th>time_90</th>\n",
       "      <th>time_120</th>\n",
       "      <th>time_150</th>\n",
       "      <th>time_180</th>\n",
       "      <th>time_210</th>\n",
       "      <th>time_240</th>\n",
       "      <th>time_270</th>\n",
       "      <th>time_300</th>\n",
       "      <th>...</th>\n",
       "      <th>time_1530</th>\n",
       "      <th>time_1560</th>\n",
       "      <th>time_1590</th>\n",
       "      <th>time_1620</th>\n",
       "      <th>time_1650</th>\n",
       "      <th>time_1680</th>\n",
       "      <th>time_1710</th>\n",
       "      <th>time_1740</th>\n",
       "      <th>time_1770</th>\n",
       "      <th>time_1800</th>\n",
       "    </tr>\n",
       "  </thead>\n",
       "  <tbody>\n",
       "    <tr>\n",
       "      <th>mice_0</th>\n",
       "      <td>0.851515</td>\n",
       "      <td>0.854784</td>\n",
       "      <td>0.842271</td>\n",
       "      <td>0.833397</td>\n",
       "      <td>0.828669</td>\n",
       "      <td>0.820531</td>\n",
       "      <td>0.811525</td>\n",
       "      <td>0.803604</td>\n",
       "      <td>0.796979</td>\n",
       "      <td>0.791989</td>\n",
       "      <td>...</td>\n",
       "      <td>0.741462</td>\n",
       "      <td>0.740587</td>\n",
       "      <td>0.740732</td>\n",
       "      <td>0.739575</td>\n",
       "      <td>0.74062</td>\n",
       "      <td>0.741634</td>\n",
       "      <td>0.742895</td>\n",
       "      <td>0.742324</td>\n",
       "      <td>0.739519</td>\n",
       "      <td>0.742961</td>\n",
       "    </tr>\n",
       "  </tbody>\n",
       "</table>\n",
       "<p>1 rows × 60 columns</p>\n",
       "</div>"
      ],
      "text/plain": [
       "         time_30   time_60   time_90  time_120  time_150  time_180  time_210  \\\n",
       "mice_0  0.851515  0.854784  0.842271  0.833397  0.828669  0.820531  0.811525   \n",
       "\n",
       "        time_240  time_270  time_300  ...  time_1530  time_1560  time_1590  \\\n",
       "mice_0  0.803604  0.796979  0.791989  ...   0.741462   0.740587   0.740732   \n",
       "\n",
       "        time_1620  time_1650  time_1680  time_1710  time_1740  time_1770  \\\n",
       "mice_0   0.739575    0.74062   0.741634   0.742895   0.742324   0.739519   \n",
       "\n",
       "        time_1800  \n",
       "mice_0   0.742961  \n",
       "\n",
       "[1 rows x 60 columns]"
      ]
     },
     "execution_count": 150,
     "metadata": {},
     "output_type": "execute_result"
    }
   ],
   "source": [
    "mice_auc_over5"
   ]
  },
  {
   "cell_type": "code",
   "execution_count": 151,
   "id": "a91bec68",
   "metadata": {},
   "outputs": [],
   "source": [
    "mice_auc_over5.to_csv('mice_auc_over5.csv', index = True, header = True)"
   ]
  },
  {
   "cell_type": "code",
   "execution_count": 152,
   "id": "eec163d4",
   "metadata": {},
   "outputs": [],
   "source": [
    "# Variables passing through pipeline_rsf\n",
    "cat_encoder = list(preprocessor_red.transformers_[1][1].get_feature_names(categorical_features))\n",
    "pass_through = list(train_mice0_x.iloc[:, preprocessor_red.transformers_[2][2]].columns)\n",
    "attributes_gbm = numerical_features_red + cat_encoder + pass_through"
   ]
  },
  {
   "cell_type": "code",
   "execution_count": 153,
   "id": "1e6f2bc2",
   "metadata": {},
   "outputs": [
    {
     "name": "stdout",
     "output_type": "stream",
     "text": [
      "Total number of features: 176\n",
      "Number of non-zero features in final model: 121\n"
     ]
    },
    {
     "data": {
      "image/png": "[encoded data removed]",
      "text/plain": [
       "<Figure size 600x800 with 1 Axes>"
      ]
     },
     "metadata": {},
     "output_type": "display_data"
    }
   ],
   "source": [
    "# Dataframe of coefficients for each variable \n",
    "coefficients_mice0 = pd.DataFrame(\n",
    "    gbm_mice0.named_steps['gradientboostingsurvivalanalysis'].feature_importances_,\n",
    "    index = attributes_gbm,\n",
    "    columns = ['coefficient']\n",
    ")\n",
    "\n",
    "print('Total number of features: {}'.format(len(attributes_gbm)))\n",
    "\n",
    "non_zero = np.sum(coefficients_mice0.iloc[:, 0] != 0)\n",
    "print('Number of non-zero features in final model: {}'.format(non_zero))\n",
    "\n",
    "non_zero_coefs = coefficients_mice0.query('coefficient != 0')\n",
    "coef_order = non_zero_coefs.abs().sort_values('coefficient').tail(30).index\n",
    "\n",
    "_, ax = plt.subplots(figsize=(6, 8))\n",
    "non_zero_coefs.loc[coef_order].plot.barh(ax = ax, legend = False)\n",
    "ax.set_xlabel('coefficient')\n",
    "ax.grid(True)"
   ]
  },
  {
   "cell_type": "code",
   "execution_count": 154,
   "id": "665b3691",
   "metadata": {},
   "outputs": [],
   "source": [
    "coefficients_mice = (\n",
    "    coefficients_mice0\n",
    "    .reset_index()\n",
    "    .rename(columns = {'index':'variable'}))"
   ]
  },
  {
   "cell_type": "code",
   "execution_count": 155,
   "id": "5707a8da",
   "metadata": {},
   "outputs": [],
   "source": [
    "coefficients_mice.to_csv('coefficients_mice.csv', index = False, header = True)"
   ]
  },
  {
   "cell_type": "markdown",
   "id": "55744728",
   "metadata": {},
   "source": [
    "### 3.2 Model 1"
   ]
  },
  {
   "cell_type": "markdown",
   "id": "fa491855",
   "metadata": {},
   "source": [
    "#### Preprocessing and building pipeline "
   ]
  },
  {
   "cell_type": "code",
   "execution_count": 156,
   "id": "c139c567",
   "metadata": {},
   "outputs": [],
   "source": [
    "# Import second training set\n",
    "train_mice1 = pd.read_csv('mice_tr1.csv', index_col = 'PatientID')"
   ]
  },
  {
   "cell_type": "code",
   "execution_count": 157,
   "id": "b30f3da3",
   "metadata": {},
   "outputs": [
    {
     "name": "stdout",
     "output_type": "stream",
     "text": [
      "(54786, 184)\n"
     ]
    }
   ],
   "source": [
    "print(train_mice1.shape)"
   ]
  },
  {
   "cell_type": "code",
   "execution_count": 158,
   "id": "020bb353",
   "metadata": {},
   "outputs": [
    {
     "data": {
      "text/plain": [
       "0"
      ]
     },
     "execution_count": 158,
     "metadata": {},
     "output_type": "execute_result"
    }
   ],
   "source": [
    "train_mice1.isna().sum().sum()"
   ]
  },
  {
   "cell_type": "code",
   "execution_count": 159,
   "id": "dada0067",
   "metadata": {},
   "outputs": [],
   "source": [
    "train_mice1 = train_mice1.drop(columns = mice_drop)"
   ]
  },
  {
   "cell_type": "code",
   "execution_count": 160,
   "id": "143a7b3d",
   "metadata": {},
   "outputs": [],
   "source": [
    "train_mice1 = train_mice1.drop(columns = dem_var)"
   ]
  },
  {
   "cell_type": "code",
   "execution_count": 161,
   "id": "68892876",
   "metadata": {},
   "outputs": [
    {
     "name": "stdout",
     "output_type": "stream",
     "text": [
      "(54786, 135)\n",
      "(68485, 137)\n"
     ]
    }
   ],
   "source": [
    "print(train_mice1.shape)\n",
    "print(test_mice.shape)"
   ]
  },
  {
   "cell_type": "code",
   "execution_count": 162,
   "id": "46aa11b6",
   "metadata": {},
   "outputs": [],
   "source": [
    "train_mice1['ecog_na'] = np.where(train_mice1.index.isin(train.query('ecog_diagnosis == \"unknown\"').PatientID), 1, 0)\n",
    "train_mice1['stage_na'] = np.where(train_mice1.index.isin(train.query('stage == \"unknown\"').PatientID), 1, 0)"
   ]
  },
  {
   "cell_type": "code",
   "execution_count": 163,
   "id": "c3096828",
   "metadata": {},
   "outputs": [
    {
     "data": {
      "text/plain": [
       "1    29019\n",
       "0    25767\n",
       "Name: ecog_na, dtype: int64"
      ]
     },
     "execution_count": 163,
     "metadata": {},
     "output_type": "execute_result"
    }
   ],
   "source": [
    "train_mice1.ecog_na.value_counts()"
   ]
  },
  {
   "cell_type": "code",
   "execution_count": 164,
   "id": "7079e69b",
   "metadata": {},
   "outputs": [
    {
     "data": {
      "text/plain": [
       "['PracticeType',\n",
       " 'gender',\n",
       " 'Histology',\n",
       " 'SmokingStatus',\n",
       " 'stage',\n",
       " 'adv_year',\n",
       " 'ALK',\n",
       " 'BRAF',\n",
       " 'EGFR',\n",
       " 'KRAS',\n",
       " 'ROS1',\n",
       " 'pdl1',\n",
       " 'pdl1_n',\n",
       " 'ecog_diagnosis']"
      ]
     },
     "execution_count": 164,
     "metadata": {},
     "output_type": "execute_result"
    }
   ],
   "source": [
    "for x in list(to_be_categorical):\n",
    "    train_mice1[x] = train_mice1[x].astype('category')\n",
    "    \n",
    "list(train_mice1.select_dtypes(include = ['category']).columns)"
   ]
  },
  {
   "cell_type": "code",
   "execution_count": 165,
   "id": "3e7b4098",
   "metadata": {},
   "outputs": [],
   "source": [
    "train_mice1['death_status'] = train_mice1['death_status'].astype('bool')"
   ]
  },
  {
   "cell_type": "code",
   "execution_count": 166,
   "id": "fb6f3a30",
   "metadata": {},
   "outputs": [],
   "source": [
    "val_mice1 = train_mice1[train_mice1.index.isin(val_IDs['PatientID'])]\n",
    "\n",
    "sub_train_mice1 = train_mice1[~train_mice1.index.isin(val_IDs['PatientID'])]"
   ]
  },
  {
   "cell_type": "code",
   "execution_count": 167,
   "id": "4a6d31b2",
   "metadata": {},
   "outputs": [
    {
     "name": "stdout",
     "output_type": "stream",
     "text": [
      "(54786, 137)\n",
      "(41089, 137)\n",
      "(13697, 137)\n"
     ]
    }
   ],
   "source": [
    "print(train_mice1.shape)\n",
    "print(sub_train_mice1.shape)\n",
    "print(val_mice1.shape)"
   ]
  },
  {
   "cell_type": "code",
   "execution_count": 168,
   "id": "59c09581",
   "metadata": {},
   "outputs": [],
   "source": [
    "train_mice1_x = train_mice1.drop(columns = ['death_status', 'timerisk_activity'])\n",
    "\n",
    "sub_train_mice1_x = sub_train_mice1.drop(columns = ['death_status', 'timerisk_activity'])\n",
    "\n",
    "val_mice1_x = val_mice1.drop(columns = ['death_status', 'timerisk_activity'])"
   ]
  },
  {
   "cell_type": "code",
   "execution_count": 169,
   "id": "1b6c286c",
   "metadata": {},
   "outputs": [
    {
     "name": "stdout",
     "output_type": "stream",
     "text": [
      "(54786, 135)\n",
      "(41089, 135)\n",
      "(13697, 135)\n"
     ]
    }
   ],
   "source": [
    "print(train_mice1_x.shape)\n",
    "print(sub_train_mice1_x.shape)\n",
    "print(val_mice1_x.shape)"
   ]
  },
  {
   "cell_type": "markdown",
   "id": "fd1013e2",
   "metadata": {},
   "source": [
    "#### Hyperparameter tuning "
   ]
  },
  {
   "cell_type": "code",
   "execution_count": 170,
   "id": "be787e19",
   "metadata": {},
   "outputs": [
    {
     "name": "stdout",
     "output_type": "stream",
     "text": [
      "      Iter       Train Loss      OOB Improve   Remaining Time \n",
      "         1      209643.9721          43.3404          488.42m\n",
      "         2      208067.6008          41.6231          489.21m\n",
      "         3      209350.3755          39.2687          489.16m\n",
      "         4      209028.8065          34.7391          488.82m\n",
      "         5      208556.7180          35.0583          488.33m\n",
      "         6      208478.3222          30.4664          488.05m\n",
      "         7      208271.1554          27.6306          487.77m\n",
      "         8      208211.8404          27.9234          487.51m\n",
      "         9      208520.7825          22.7520          487.17m\n",
      "        10      207614.6081          23.9606          486.81m\n",
      "        20      207832.3408          15.2228          483.57m\n",
      "        30      207149.9931          14.3515          480.30m\n",
      "        40      206685.6485           8.8115          477.04m\n",
      "        50      206115.8142           7.2536          473.81m\n",
      "        60      205959.4148           7.7554          470.56m\n",
      "        70      205568.5276           6.0388          467.31m\n",
      "        80      205183.2706           3.3831          464.03m\n",
      "        90      205280.1075           4.5823          460.76m\n",
      "       100      205235.1774           2.7585          457.49m\n",
      "       200      204680.8773           1.3290          424.81m\n",
      "       300      203430.8742           0.2057          392.13m\n",
      "       400      203399.9872          -0.0397          359.41m\n",
      "       500      203400.4102          -0.1815          326.74m\n",
      "       600      203602.1582          -0.2254          294.09m\n",
      "       700      203255.7165          -0.1715          261.43m\n",
      "       800      202738.7217          -0.4535          228.76m\n",
      "       900      202238.8316           0.0303          196.08m\n",
      "      1000      202536.4483          -0.1838          163.40m\n"
     ]
    },
    {
     "data": {
      "text/plain": [
       "GradientBoostingSurvivalAnalysis(max_depth=2, n_estimators=1500,\n",
       "                                 random_state=42, subsample=0.75, verbose=1)"
      ]
     },
     "execution_count": 170,
     "metadata": {},
     "output_type": "execute_result"
    }
   ],
   "source": [
    "sub_train_mice1_xt = preprocessor_red.fit_transform(sub_train_mice1_x)\n",
    "val_mice1_xt = preprocessor_red.transform(val_mice1_x)\n",
    "\n",
    "gbm_mice1_exp = GradientBoostingSurvivalAnalysis(n_estimators = 1500,\n",
    "                                                 learning_rate = 0.1,\n",
    "                                                 max_depth = 2,\n",
    "                                                 subsample = 0.75,\n",
    "                                                 verbose = 1,\n",
    "                                                 random_state = 42)\n",
    "\n",
    "gbm_mice1_exp.fit(sub_train_mice1_xt, sub_train_y)"
   ]
  },
  {
   "cell_type": "code",
   "execution_count": 171,
   "id": "52048b44",
   "metadata": {},
   "outputs": [],
   "source": [
    "gbm1_staged_auc = [cumulative_dynamic_auc(sub_train_y, val_y, risk_score, 365)[0][0] for \n",
    "                   risk_score in gbm_mice1_exp.staged_predict(val_mice1_xt)]"
   ]
  },
  {
   "cell_type": "code",
   "execution_count": 172,
   "id": "c1d7beb1",
   "metadata": {},
   "outputs": [],
   "source": [
    "gbm1_staged_auc_tr = [cumulative_dynamic_auc(sub_train_y, sub_train_y, risk_score, 365)[0][0] for \n",
    "                      risk_score in gbm_mice1_exp.staged_predict(sub_train_mice1_xt)]"
   ]
  },
  {
   "cell_type": "code",
   "execution_count": 173,
   "id": "7b3faa9a",
   "metadata": {},
   "outputs": [
    {
     "data": {
      "image/png": "[encoded data removed]",
      "text/plain": [
       "<Figure size 640x480 with 1 Axes>"
      ]
     },
     "metadata": {},
     "output_type": "display_data"
    }
   ],
   "source": [
    "fig = plt.figure()\n",
    "ax = fig.add_subplot(1, 1, 1)\n",
    "\n",
    "x = range(len(gbm1_staged_auc))\n",
    "plt.plot(x, gbm1_staged_auc, color = 'blue', label = 'validation')\n",
    "plt.plot(x, gbm1_staged_auc_tr, color = 'red', label = 'training')\n",
    "plt.legend(loc = 'lower right')\n",
    "\n",
    "plt.xlabel(\"n_estimators\")\n",
    "plt.ylabel(\"AUC at 1-year \")\n",
    "plt.title('Gradient boosting model learning curve for mice1')\n",
    "\n",
    "plt.show()"
   ]
  },
  {
   "cell_type": "code",
   "execution_count": 174,
   "id": "1618b7fb",
   "metadata": {},
   "outputs": [],
   "source": [
    "# Average AUC for every 25 additional trees. \n",
    "mean_auc_list = []\n",
    "for x in np.arange(0, len(gbm1_staged_auc), 25):\n",
    "    mean_auc_list.append(np.mean(gbm1_staged_auc[x:x+24]))"
   ]
  },
  {
   "cell_type": "code",
   "execution_count": 175,
   "id": "19ca3b06",
   "metadata": {},
   "outputs": [
    {
     "name": "stdout",
     "output_type": "stream",
     "text": [
      "Number of trees where 1 year AUC on validation dataset beings to downgrade: 1225\n",
      "Validation dataset AUC before degrading: 0.7945643203797459\n",
      "Training dataset AUC before degrading: 0.8130952218954299\n"
     ]
    }
   ],
   "source": [
    "print('Number of trees where 1 year AUC on validation dataset beings to downgrade:', np.where(np.diff(mean_auc_list) < 0)[0][0]*25)\n",
    "print('Validation dataset AUC before degrading:', gbm1_staged_auc[np.where(np.diff(mean_auc_list) < 0)[0][0]*25])\n",
    "print('Training dataset AUC before degrading:', gbm1_staged_auc_tr[np.where(np.diff(mean_auc_list) < 0)[0][0]*25])"
   ]
  },
  {
   "cell_type": "markdown",
   "id": "5f1ea88b",
   "metadata": {},
   "source": [
    "#### Building model and assessing performance "
   ]
  },
  {
   "cell_type": "code",
   "execution_count": 176,
   "id": "c8c5f2f2",
   "metadata": {},
   "outputs": [
    {
     "name": "stdout",
     "output_type": "stream",
     "text": [
      "      Iter       Train Loss      OOB Improve   Remaining Time \n",
      "         1      286783.8103          62.3442          709.23m\n",
      "         2      287094.4184          53.2566          709.70m\n",
      "         3      287058.5114          53.0758          709.61m\n",
      "         4      286779.4937          49.1291          708.84m\n",
      "         5      286621.8311          42.1962          708.37m\n",
      "         6      285625.9071          42.4063          708.79m\n",
      "         7      286184.0105          33.8270          708.16m\n",
      "         8      285796.5881          36.0509          707.28m\n",
      "         9      286463.5202          42.8123          706.68m\n",
      "        10      285950.3128          32.0668          706.13m\n",
      "        20      284851.0819          32.2103          700.07m\n",
      "        30      284556.1972          15.4246          694.03m\n",
      "        40      284009.9568          12.9778          688.12m\n",
      "        50      283151.5895           8.7933          682.25m\n",
      "        60      282604.0444          14.7776          676.39m\n",
      "        70      282728.7952           6.8079          670.55m\n",
      "        80      282536.1769           6.5615          664.82m\n",
      "        90      282181.7841           3.9604          659.03m\n",
      "       100      281687.3839           4.2236          653.26m\n",
      "       200      281414.5875           8.5960          595.45m\n",
      "       300      280174.6558          -0.1669          537.73m\n",
      "       400      280010.9487           0.0014          480.11m\n",
      "       500      279846.0912          -0.4589          421.99m\n",
      "       600      279318.6564          -0.0575          363.72m\n",
      "       700      279687.4248          -0.5973          305.45m\n",
      "       800      278660.3942           0.0713          247.25m\n",
      "       900      278753.3447           0.1767          189.01m\n",
      "      1000      279057.1552          -0.1397          130.81m\n"
     ]
    },
    {
     "data": {
      "text/plain": [
       "Pipeline(steps=[('columntransformer',\n",
       "                 ColumnTransformer(remainder='passthrough',\n",
       "                                   transformers=[('num',\n",
       "                                                  Pipeline(steps=[('std_scaler',\n",
       "                                                                   StandardScaler())]),\n",
       "                                                  ['age', 'delta_adv_diagnosis',\n",
       "                                                   'weight_diag', 'bmi_diag',\n",
       "                                                   'weight_pct_change',\n",
       "                                                   'weight_slope',\n",
       "                                                   'albumin_diag', 'alp_diag',\n",
       "                                                   'alt_diag', 'ast_diag',\n",
       "                                                   'bicarb_diag', 'bun_diag',\n",
       "                                                   'calcium_diag',\n",
       "                                                   'chloride_diag',\n",
       "                                                   'creati...\n",
       "                                                   'wbc_max', 'albumin_min', ...]),\n",
       "                                                 ('cat',\n",
       "                                                  OneHotEncoder(handle_unknown='ignore'),\n",
       "                                                  ['PracticeType', 'gender',\n",
       "                                                   'Histology', 'SmokingStatus',\n",
       "                                                   'stage', 'adv_year', 'ALK',\n",
       "                                                   'BRAF', 'EGFR', 'KRAS',\n",
       "                                                   'ROS1', 'pdl1', 'pdl1_n',\n",
       "                                                   'ecog_diagnosis'])])),\n",
       "                ('gradientboostingsurvivalanalysis',\n",
       "                 GradientBoostingSurvivalAnalysis(max_depth=2,\n",
       "                                                  n_estimators=1225,\n",
       "                                                  random_state=42,\n",
       "                                                  subsample=0.75, verbose=1))])"
      ]
     },
     "execution_count": 176,
     "metadata": {},
     "output_type": "execute_result"
    }
   ],
   "source": [
    "gbm_mice1 = make_pipeline(preprocessor_red, GradientBoostingSurvivalAnalysis(n_estimators = np.where(np.diff(mean_auc_list) < 0)[0][0]*25,\n",
    "                                                                             learning_rate = 0.1,\n",
    "                                                                             max_depth = 2,\n",
    "                                                                             subsample = 0.75,\n",
    "                                                                             verbose = 1,\n",
    "                                                                             random_state = 42))\n",
    "\n",
    "gbm_mice1.fit(train_mice1_x, train_y)"
   ]
  },
  {
   "cell_type": "code",
   "execution_count": 177,
   "id": "39fd555d",
   "metadata": {},
   "outputs": [
    {
     "data": {
      "text/plain": [
       "['gbm_mice1.joblib']"
      ]
     },
     "execution_count": 177,
     "metadata": {},
     "output_type": "execute_result"
    }
   ],
   "source": [
    "dump(gbm_mice1, 'gbm_mice1.joblib') "
   ]
  },
  {
   "cell_type": "code",
   "execution_count": 178,
   "id": "84867b9c",
   "metadata": {},
   "outputs": [
    {
     "name": "stdout",
     "output_type": "stream",
     "text": [
      "Test set AUC at 1 year: 0.7909483218056663\n"
     ]
    }
   ],
   "source": [
    "gbm_risk_scores_te = gbm_mice1.predict(test_mice_x)\n",
    "gbm_auc_te = cumulative_dynamic_auc(train_y, test_y, gbm_risk_scores_te, 365)[0][0]\n",
    "print('Test set AUC at 1 year:', gbm_auc_te)"
   ]
  },
  {
   "cell_type": "code",
   "execution_count": 179,
   "id": "978df648",
   "metadata": {},
   "outputs": [
    {
     "name": "stdout",
     "output_type": "stream",
     "text": [
      "Training set AUC at 1 year: 0.8093691593118744\n"
     ]
    }
   ],
   "source": [
    "gbm_risk_scores_tr = gbm_mice1.predict(train_mice1_x)\n",
    "gbm_auc_tr = cumulative_dynamic_auc(train_y, train_y, gbm_risk_scores_tr, 365)[0][0]\n",
    "print('Training set AUC at 1 year:', gbm_auc_tr)"
   ]
  },
  {
   "cell_type": "code",
   "execution_count": 180,
   "id": "5d05b837",
   "metadata": {},
   "outputs": [],
   "source": [
    "# Bootstrap 10000 1 yr AUCs for test set \n",
    "n_bootstraps = 10000\n",
    "rng_seed = 42 \n",
    "bootstrapped_scores_te = []\n",
    "\n",
    "rng = np.random.RandomState(rng_seed)\n",
    "for i in range(n_bootstraps):\n",
    "    indices = rng.randint(0, len(gbm_risk_scores_te), len(gbm_risk_scores_te))\n",
    "    auc_yr = cumulative_dynamic_auc(train_y, test_y[indices], gbm_risk_scores_te[indices], 365)[0][0]\n",
    "    bootstrapped_scores_te.append(auc_yr)"
   ]
  },
  {
   "cell_type": "code",
   "execution_count": 181,
   "id": "e3e1ab33",
   "metadata": {},
   "outputs": [
    {
     "name": "stdout",
     "output_type": "stream",
     "text": [
      "Test set AUC standard error: 0.0018522779633705225\n"
     ]
    }
   ],
   "source": [
    "# Standard error of mean for test set AUC\n",
    "sorted_scores_te = np.array(bootstrapped_scores_te)\n",
    "sorted_scores_te.sort()\n",
    "\n",
    "conf_lower_te = sorted_scores_te[int(0.025 * len(sorted_scores_te))]\n",
    "conf_upper_te = sorted_scores_te[int(0.975 * len(sorted_scores_te))]\n",
    "\n",
    "standard_error_te = (conf_upper_te - conf_lower_te) / 3.92\n",
    "print('Test set AUC standard error:', standard_error_te)"
   ]
  },
  {
   "cell_type": "code",
   "execution_count": 182,
   "id": "34b3de1e",
   "metadata": {},
   "outputs": [],
   "source": [
    "# Bootstrap 10000 1-yr AUCs for train set \n",
    "n_bootstraps = 10000\n",
    "rng_seed = 42 \n",
    "bootstrapped_scores_tr = []\n",
    "\n",
    "rng = np.random.RandomState(rng_seed)\n",
    "for i in range(n_bootstraps):\n",
    "    indices = rng.randint(0, len(gbm_risk_scores_tr), len(gbm_risk_scores_tr))\n",
    "    auc_yr = cumulative_dynamic_auc(train_y, train_y[indices], gbm_risk_scores_tr[indices], 365)[0][0]\n",
    "    bootstrapped_scores_tr.append(auc_yr)"
   ]
  },
  {
   "cell_type": "code",
   "execution_count": 183,
   "id": "4e962997",
   "metadata": {},
   "outputs": [
    {
     "name": "stdout",
     "output_type": "stream",
     "text": [
      "Training set AUC standard error 0.0019307989190400947\n"
     ]
    }
   ],
   "source": [
    "# Standard error of mean for train set AUC\n",
    "sorted_scores_tr = np.array(bootstrapped_scores_tr)\n",
    "sorted_scores_tr.sort()\n",
    "\n",
    "conf_lower_tr = sorted_scores_tr[int(0.025 * len(sorted_scores_tr))]\n",
    "conf_upper_tr = sorted_scores_tr[int(0.975 * len(sorted_scores_tr))]\n",
    "\n",
    "standard_error_tr = (conf_upper_tr - conf_lower_tr) / 3.92\n",
    "print('Training set AUC standard error', standard_error_tr)"
   ]
  },
  {
   "cell_type": "code",
   "execution_count": 184,
   "id": "181504d9",
   "metadata": {},
   "outputs": [],
   "source": [
    "mice_auc_data = {'mice_dataset': 'mice_1',\n",
    "                 'auc_1yr_te': gbm_auc_te,\n",
    "                 'sem_te': standard_error_te,\n",
    "                 'auc_1yr_tr': gbm_auc_tr,\n",
    "                 'sem_tr': standard_error_tr}\n",
    "\n",
    "mice_auc_df = mice_auc_df.append(mice_auc_data, ignore_index = True)"
   ]
  },
  {
   "cell_type": "code",
   "execution_count": 185,
   "id": "5614f61a",
   "metadata": {},
   "outputs": [
    {
     "data": {
      "text/html": [
       "<div>\n",
       "<style scoped>\n",
       "    .dataframe tbody tr th:only-of-type {\n",
       "        vertical-align: middle;\n",
       "    }\n",
       "\n",
       "    .dataframe tbody tr th {\n",
       "        vertical-align: top;\n",
       "    }\n",
       "\n",
       "    .dataframe thead th {\n",
       "        text-align: right;\n",
       "    }\n",
       "</style>\n",
       "<table border=\"1\" class=\"dataframe\">\n",
       "  <thead>\n",
       "    <tr style=\"text-align: right;\">\n",
       "      <th></th>\n",
       "      <th>mice_dataset</th>\n",
       "      <th>auc_1yr_te</th>\n",
       "      <th>sem_te</th>\n",
       "      <th>auc_1yr_tr</th>\n",
       "      <th>sem_tr</th>\n",
       "    </tr>\n",
       "  </thead>\n",
       "  <tbody>\n",
       "    <tr>\n",
       "      <th>0</th>\n",
       "      <td>mice_0</td>\n",
       "      <td>0.786069</td>\n",
       "      <td>0.001868</td>\n",
       "      <td>0.798416</td>\n",
       "      <td>0.002002</td>\n",
       "    </tr>\n",
       "    <tr>\n",
       "      <th>1</th>\n",
       "      <td>mice_1</td>\n",
       "      <td>0.790948</td>\n",
       "      <td>0.001852</td>\n",
       "      <td>0.809369</td>\n",
       "      <td>0.001931</td>\n",
       "    </tr>\n",
       "  </tbody>\n",
       "</table>\n",
       "</div>"
      ],
      "text/plain": [
       "  mice_dataset  auc_1yr_te    sem_te  auc_1yr_tr    sem_tr\n",
       "0       mice_0    0.786069  0.001868    0.798416  0.002002\n",
       "1       mice_1    0.790948  0.001852    0.809369  0.001931"
      ]
     },
     "execution_count": 185,
     "metadata": {},
     "output_type": "execute_result"
    }
   ],
   "source": [
    "mice_auc_df "
   ]
  },
  {
   "cell_type": "code",
   "execution_count": 186,
   "id": "535eda78",
   "metadata": {},
   "outputs": [],
   "source": [
    "mice_auc_df.to_csv('mice_auc_df.csv', index = False, header = True)"
   ]
  },
  {
   "cell_type": "code",
   "execution_count": 187,
   "id": "1fddeabf",
   "metadata": {},
   "outputs": [],
   "source": [
    "times = np.arange(30, 1810, 30)\n",
    "mice1_auc_over5 = cumulative_dynamic_auc(train_y, test_y, gbm_risk_scores_te, times)[0]\n",
    "\n",
    "times_data = {}\n",
    "values = mice1_auc_over5\n",
    "time_names = []\n",
    "\n",
    "for x in range(len(times)):\n",
    "    time_names.append('time_'+str(times[x]))\n",
    "\n",
    "for i in range(len(time_names)):\n",
    "    times_data[time_names[i]] = values[i]\n",
    "    \n",
    "mice1_auc_over5_df = pd.DataFrame(times_data, index = ['mice_1'])\n",
    "\n",
    "mice_auc_over5 = mice_auc_over5.append(mice1_auc_over5_df, ignore_index = False)"
   ]
  },
  {
   "cell_type": "code",
   "execution_count": 188,
   "id": "60efb012",
   "metadata": {},
   "outputs": [
    {
     "data": {
      "text/html": [
       "<div>\n",
       "<style scoped>\n",
       "    .dataframe tbody tr th:only-of-type {\n",
       "        vertical-align: middle;\n",
       "    }\n",
       "\n",
       "    .dataframe tbody tr th {\n",
       "        vertical-align: top;\n",
       "    }\n",
       "\n",
       "    .dataframe thead th {\n",
       "        text-align: right;\n",
       "    }\n",
       "</style>\n",
       "<table border=\"1\" class=\"dataframe\">\n",
       "  <thead>\n",
       "    <tr style=\"text-align: right;\">\n",
       "      <th></th>\n",
       "      <th>time_30</th>\n",
       "      <th>time_60</th>\n",
       "      <th>time_90</th>\n",
       "      <th>time_120</th>\n",
       "      <th>time_150</th>\n",
       "      <th>time_180</th>\n",
       "      <th>time_210</th>\n",
       "      <th>time_240</th>\n",
       "      <th>time_270</th>\n",
       "      <th>time_300</th>\n",
       "      <th>...</th>\n",
       "      <th>time_1530</th>\n",
       "      <th>time_1560</th>\n",
       "      <th>time_1590</th>\n",
       "      <th>time_1620</th>\n",
       "      <th>time_1650</th>\n",
       "      <th>time_1680</th>\n",
       "      <th>time_1710</th>\n",
       "      <th>time_1740</th>\n",
       "      <th>time_1770</th>\n",
       "      <th>time_1800</th>\n",
       "    </tr>\n",
       "  </thead>\n",
       "  <tbody>\n",
       "    <tr>\n",
       "      <th>mice_0</th>\n",
       "      <td>0.851515</td>\n",
       "      <td>0.854784</td>\n",
       "      <td>0.842271</td>\n",
       "      <td>0.833397</td>\n",
       "      <td>0.828669</td>\n",
       "      <td>0.820531</td>\n",
       "      <td>0.811525</td>\n",
       "      <td>0.803604</td>\n",
       "      <td>0.796979</td>\n",
       "      <td>0.791989</td>\n",
       "      <td>...</td>\n",
       "      <td>0.741462</td>\n",
       "      <td>0.740587</td>\n",
       "      <td>0.740732</td>\n",
       "      <td>0.739575</td>\n",
       "      <td>0.740620</td>\n",
       "      <td>0.741634</td>\n",
       "      <td>0.742895</td>\n",
       "      <td>0.742324</td>\n",
       "      <td>0.739519</td>\n",
       "      <td>0.742961</td>\n",
       "    </tr>\n",
       "    <tr>\n",
       "      <th>mice_1</th>\n",
       "      <td>0.854513</td>\n",
       "      <td>0.862991</td>\n",
       "      <td>0.849394</td>\n",
       "      <td>0.838282</td>\n",
       "      <td>0.832390</td>\n",
       "      <td>0.824517</td>\n",
       "      <td>0.815171</td>\n",
       "      <td>0.808297</td>\n",
       "      <td>0.801615</td>\n",
       "      <td>0.796968</td>\n",
       "      <td>...</td>\n",
       "      <td>0.748372</td>\n",
       "      <td>0.747752</td>\n",
       "      <td>0.748136</td>\n",
       "      <td>0.747195</td>\n",
       "      <td>0.748417</td>\n",
       "      <td>0.749233</td>\n",
       "      <td>0.750629</td>\n",
       "      <td>0.750300</td>\n",
       "      <td>0.748308</td>\n",
       "      <td>0.751557</td>\n",
       "    </tr>\n",
       "  </tbody>\n",
       "</table>\n",
       "<p>2 rows × 60 columns</p>\n",
       "</div>"
      ],
      "text/plain": [
       "         time_30   time_60   time_90  time_120  time_150  time_180  time_210  \\\n",
       "mice_0  0.851515  0.854784  0.842271  0.833397  0.828669  0.820531  0.811525   \n",
       "mice_1  0.854513  0.862991  0.849394  0.838282  0.832390  0.824517  0.815171   \n",
       "\n",
       "        time_240  time_270  time_300  ...  time_1530  time_1560  time_1590  \\\n",
       "mice_0  0.803604  0.796979  0.791989  ...   0.741462   0.740587   0.740732   \n",
       "mice_1  0.808297  0.801615  0.796968  ...   0.748372   0.747752   0.748136   \n",
       "\n",
       "        time_1620  time_1650  time_1680  time_1710  time_1740  time_1770  \\\n",
       "mice_0   0.739575   0.740620   0.741634   0.742895   0.742324   0.739519   \n",
       "mice_1   0.747195   0.748417   0.749233   0.750629   0.750300   0.748308   \n",
       "\n",
       "        time_1800  \n",
       "mice_0   0.742961  \n",
       "mice_1   0.751557  \n",
       "\n",
       "[2 rows x 60 columns]"
      ]
     },
     "execution_count": 188,
     "metadata": {},
     "output_type": "execute_result"
    }
   ],
   "source": [
    "mice_auc_over5 "
   ]
  },
  {
   "cell_type": "code",
   "execution_count": 189,
   "id": "9979d815",
   "metadata": {},
   "outputs": [],
   "source": [
    "mice_auc_over5.to_csv('mice_auc_over5.csv', index = True, header = True)"
   ]
  },
  {
   "cell_type": "code",
   "execution_count": 190,
   "id": "5ad2b4ac",
   "metadata": {},
   "outputs": [],
   "source": [
    "# Variables passing through pipeline_rsf\n",
    "cat_encoder = list(preprocessor_red.transformers_[1][1].get_feature_names(categorical_features))\n",
    "pass_through = list(train_mice1_x.iloc[:, preprocessor_red.transformers_[2][2]].columns)\n",
    "attributes_gbm = numerical_features_red + cat_encoder + pass_through"
   ]
  },
  {
   "cell_type": "code",
   "execution_count": 191,
   "id": "341e9b22",
   "metadata": {},
   "outputs": [
    {
     "name": "stdout",
     "output_type": "stream",
     "text": [
      "Total number of features: 176\n",
      "Number of non-zero features in final model: 149\n"
     ]
    },
    {
     "data": {
      "image/png": "[encoded data removed]",
      "text/plain": [
       "<Figure size 600x800 with 1 Axes>"
      ]
     },
     "metadata": {},
     "output_type": "display_data"
    }
   ],
   "source": [
    "# Dataframe of coefficients for each variable \n",
    "coefficients_mice1 = pd.DataFrame(\n",
    "    gbm_mice1.named_steps['gradientboostingsurvivalanalysis'].feature_importances_,\n",
    "    index = attributes_gbm,\n",
    "    columns = ['coefficient']\n",
    ")\n",
    "\n",
    "print('Total number of features: {}'.format(len(attributes_gbm)))\n",
    "\n",
    "non_zero = np.sum(coefficients_mice1.iloc[:, 0] != 0)\n",
    "print('Number of non-zero features in final model: {}'.format(non_zero))\n",
    "\n",
    "non_zero_coefs = coefficients_mice1.query('coefficient != 0')\n",
    "coef_order = non_zero_coefs.abs().sort_values('coefficient').tail(30).index\n",
    "\n",
    "_, ax = plt.subplots(figsize=(6, 8))\n",
    "non_zero_coefs.loc[coef_order].plot.barh(ax = ax, legend = False)\n",
    "ax.set_xlabel('coefficient')\n",
    "ax.grid(True)"
   ]
  },
  {
   "cell_type": "code",
   "execution_count": 192,
   "id": "180603b5",
   "metadata": {},
   "outputs": [],
   "source": [
    "coefficients_mice1_df = (\n",
    "    coefficients_mice1\n",
    "    .reset_index()\n",
    "    .rename(columns = {'index':'variable'}))"
   ]
  },
  {
   "cell_type": "code",
   "execution_count": 193,
   "id": "d8fbbb6e",
   "metadata": {},
   "outputs": [],
   "source": [
    "coefficients_mice = coefficients_mice.append(coefficients_mice1_df, ignore_index = True)"
   ]
  },
  {
   "cell_type": "code",
   "execution_count": 194,
   "id": "217bae67",
   "metadata": {},
   "outputs": [],
   "source": [
    "coefficients_mice.to_csv('coefficients_mice.csv', index = False, header = True)"
   ]
  },
  {
   "cell_type": "markdown",
   "id": "7b960a3a",
   "metadata": {},
   "source": [
    "### 3.3 Model 3"
   ]
  },
  {
   "cell_type": "markdown",
   "id": "6417dc00",
   "metadata": {},
   "source": [
    "#### Preprocessing "
   ]
  },
  {
   "cell_type": "code",
   "execution_count": 195,
   "id": "291de5af",
   "metadata": {},
   "outputs": [],
   "source": [
    "train_mice2 = pd.read_csv('mice_tr2.csv', index_col = 'PatientID')"
   ]
  },
  {
   "cell_type": "code",
   "execution_count": 196,
   "id": "59f2c5c7",
   "metadata": {},
   "outputs": [
    {
     "name": "stdout",
     "output_type": "stream",
     "text": [
      "(54786, 184)\n",
      "Number of missing elements: 0\n"
     ]
    }
   ],
   "source": [
    "print(train_mice2.shape)\n",
    "print('Number of missing elements:', train_mice2.isna().sum().sum())"
   ]
  },
  {
   "cell_type": "code",
   "execution_count": 197,
   "id": "d9b451c3",
   "metadata": {},
   "outputs": [],
   "source": [
    "train_mice2 = train_mice2.drop(columns = mice_drop)"
   ]
  },
  {
   "cell_type": "code",
   "execution_count": 198,
   "id": "312f7cb9",
   "metadata": {},
   "outputs": [],
   "source": [
    "train_mice2 = train_mice2.drop(columns = dem_var)"
   ]
  },
  {
   "cell_type": "code",
   "execution_count": 199,
   "id": "dc4b2f02",
   "metadata": {},
   "outputs": [
    {
     "name": "stdout",
     "output_type": "stream",
     "text": [
      "(54786, 135)\n"
     ]
    }
   ],
   "source": [
    "print(train_mice2.shape)"
   ]
  },
  {
   "cell_type": "code",
   "execution_count": 200,
   "id": "91699eaa",
   "metadata": {},
   "outputs": [],
   "source": [
    "train_mice2['ecog_na'] = np.where(train_mice2.index.isin(train.query('ecog_diagnosis == \"unknown\"').PatientID), 1, 0)\n",
    "train_mice2['stage_na'] = np.where(train_mice2.index.isin(train.query('stage == \"unknown\"').PatientID), 1, 0)"
   ]
  },
  {
   "cell_type": "code",
   "execution_count": 201,
   "id": "7d245c09",
   "metadata": {},
   "outputs": [
    {
     "data": {
      "text/plain": [
       "1    29019\n",
       "0    25767\n",
       "Name: ecog_na, dtype: int64"
      ]
     },
     "execution_count": 201,
     "metadata": {},
     "output_type": "execute_result"
    }
   ],
   "source": [
    "train_mice2.ecog_na.value_counts()"
   ]
  },
  {
   "cell_type": "code",
   "execution_count": 202,
   "id": "31fc1882",
   "metadata": {},
   "outputs": [
    {
     "data": {
      "text/plain": [
       "['PracticeType',\n",
       " 'gender',\n",
       " 'Histology',\n",
       " 'SmokingStatus',\n",
       " 'stage',\n",
       " 'adv_year',\n",
       " 'ALK',\n",
       " 'BRAF',\n",
       " 'EGFR',\n",
       " 'KRAS',\n",
       " 'ROS1',\n",
       " 'pdl1',\n",
       " 'pdl1_n',\n",
       " 'ecog_diagnosis']"
      ]
     },
     "execution_count": 202,
     "metadata": {},
     "output_type": "execute_result"
    }
   ],
   "source": [
    "for x in list(to_be_categorical):\n",
    "    train_mice2[x] = train_mice2[x].astype('category')\n",
    "    \n",
    "list(train_mice2.select_dtypes(include = ['category']).columns)"
   ]
  },
  {
   "cell_type": "code",
   "execution_count": 203,
   "id": "5643055b",
   "metadata": {},
   "outputs": [],
   "source": [
    "train_mice2['death_status'] = train_mice2['death_status'].astype('bool')"
   ]
  },
  {
   "cell_type": "code",
   "execution_count": 204,
   "id": "b3b6152d",
   "metadata": {},
   "outputs": [],
   "source": [
    "val_mice2 = train_mice2[train_mice2.index.isin(val_IDs['PatientID'])]\n",
    "\n",
    "sub_train_mice2 = train_mice2[~train_mice2.index.isin(val_IDs['PatientID'])]"
   ]
  },
  {
   "cell_type": "code",
   "execution_count": 205,
   "id": "7b40bac3",
   "metadata": {},
   "outputs": [
    {
     "name": "stdout",
     "output_type": "stream",
     "text": [
      "(54786, 137)\n",
      "(41089, 137)\n",
      "(13697, 137)\n"
     ]
    }
   ],
   "source": [
    "print(train_mice2.shape)\n",
    "print(sub_train_mice2.shape)\n",
    "print(val_mice2.shape)"
   ]
  },
  {
   "cell_type": "code",
   "execution_count": 206,
   "id": "2ef3e89c",
   "metadata": {},
   "outputs": [],
   "source": [
    "train_mice2_x = train_mice2.drop(columns = ['death_status', 'timerisk_activity'])\n",
    "\n",
    "sub_train_mice2_x = sub_train_mice2.drop(columns = ['death_status', 'timerisk_activity'])\n",
    "\n",
    "val_mice2_x = val_mice2.drop(columns = ['death_status', 'timerisk_activity'])"
   ]
  },
  {
   "cell_type": "code",
   "execution_count": 207,
   "id": "2beffe9c",
   "metadata": {},
   "outputs": [
    {
     "name": "stdout",
     "output_type": "stream",
     "text": [
      "(54786, 135)\n",
      "(41089, 135)\n",
      "(13697, 135)\n"
     ]
    }
   ],
   "source": [
    "print(train_mice2_x.shape)\n",
    "print(sub_train_mice2_x.shape)\n",
    "print(val_mice2_x.shape)"
   ]
  },
  {
   "cell_type": "markdown",
   "id": "d8a93b50",
   "metadata": {},
   "source": [
    "#### Hyperparameter tuning "
   ]
  },
  {
   "cell_type": "code",
   "execution_count": 208,
   "id": "ada7e11e",
   "metadata": {},
   "outputs": [
    {
     "name": "stdout",
     "output_type": "stream",
     "text": [
      "      Iter       Train Loss      OOB Improve   Remaining Time \n",
      "         1      209650.9937          42.4332          486.09m\n",
      "         2      208078.8973          40.6565          486.30m\n",
      "         3      209362.5502          35.8434          486.46m\n",
      "         4      209053.9492          31.9258          486.19m\n",
      "         5      208576.2303          32.8067          485.99m\n",
      "         6      208506.9560          30.2655          485.80m\n",
      "         7      208306.8290          27.3210          485.36m\n",
      "         8      208248.4772          27.3248          484.95m\n",
      "         9      208547.7285          22.6942          484.63m\n",
      "        10      207629.6458          26.5821          484.33m\n",
      "        20      207875.1742          18.6753          483.17m\n",
      "        30      207196.4764          11.9818          481.36m\n",
      "        40      206753.3646           7.9395          479.18m\n",
      "        50      206159.6692           9.0497          476.17m\n",
      "        60      206000.6311           5.5426          472.79m\n",
      "        70      205581.2397           5.6803          469.39m\n",
      "        80      205218.4517           3.3898          465.99m\n",
      "        90      205300.9885           4.1742          462.60m\n",
      "       100      205263.0227           2.8654          459.24m\n",
      "       200      204724.2908           0.7130          426.62m\n",
      "       300      203420.1176          -0.0800          393.79m\n",
      "       400      203358.1915          -0.2087          361.24m\n",
      "       500      203421.7289          -0.1881          328.47m\n",
      "       600      203524.4576           0.5081          295.65m\n",
      "       700      203223.2837          -0.1302          262.87m\n",
      "       800      202736.6208          -0.4389          230.09m\n",
      "       900      202169.4975          -0.1265          197.26m\n",
      "      1000      202518.7659          -0.0464          164.42m\n"
     ]
    },
    {
     "data": {
      "text/plain": [
       "GradientBoostingSurvivalAnalysis(max_depth=2, n_estimators=1500,\n",
       "                                 random_state=42, subsample=0.75, verbose=1)"
      ]
     },
     "execution_count": 208,
     "metadata": {},
     "output_type": "execute_result"
    }
   ],
   "source": [
    "sub_train_mice2_xt = preprocessor_red.fit_transform(sub_train_mice2_x)\n",
    "val_mice2_xt = preprocessor_red.transform(val_mice2_x)\n",
    "\n",
    "gbm_mice2_exp = GradientBoostingSurvivalAnalysis(n_estimators = 1500,\n",
    "                                                 learning_rate = 0.1,\n",
    "                                                 max_depth = 2,\n",
    "                                                 subsample = 0.75,\n",
    "                                                 verbose = 1,\n",
    "                                                 random_state = 42)\n",
    "\n",
    "gbm_mice2_exp.fit(sub_train_mice2_xt, sub_train_y)"
   ]
  },
  {
   "cell_type": "code",
   "execution_count": 209,
   "id": "6ead4302",
   "metadata": {},
   "outputs": [],
   "source": [
    "gbm2_staged_auc = [cumulative_dynamic_auc(sub_train_y, val_y, risk_score, 365)[0][0] for \n",
    "                   risk_score in gbm_mice2_exp.staged_predict(val_mice2_xt)]"
   ]
  },
  {
   "cell_type": "code",
   "execution_count": 210,
   "id": "813976d9",
   "metadata": {},
   "outputs": [],
   "source": [
    "gbm2_staged_auc_tr = [cumulative_dynamic_auc(sub_train_y, sub_train_y, risk_score, 365)[0][0] for \n",
    "                      risk_score in gbm_mice2_exp.staged_predict(sub_train_mice2_xt)]"
   ]
  },
  {
   "cell_type": "code",
   "execution_count": 211,
   "id": "877645ee",
   "metadata": {},
   "outputs": [
    {
     "data": {
      "image/png": "[encoded data removed]",
      "text/plain": [
       "<Figure size 640x480 with 1 Axes>"
      ]
     },
     "metadata": {},
     "output_type": "display_data"
    }
   ],
   "source": [
    "fig = plt.figure()\n",
    "ax = fig.add_subplot(1, 1, 1)\n",
    "\n",
    "x = range(len(gbm2_staged_auc))\n",
    "plt.plot(x, gbm2_staged_auc, color = 'blue', label = 'validation')\n",
    "plt.plot(x, gbm2_staged_auc_tr, color = 'red', label = 'training')\n",
    "plt.legend(loc = 'lower right')\n",
    "\n",
    "plt.xlabel(\"n_estimators\")\n",
    "plt.ylabel(\"AUC at 1-year \")\n",
    "plt.title('Gradient boosting model learning curve for mice2')\n",
    "\n",
    "plt.show()"
   ]
  },
  {
   "cell_type": "code",
   "execution_count": 212,
   "id": "8eb7a764",
   "metadata": {},
   "outputs": [],
   "source": [
    "# Average AUC for every 25 additional trees. \n",
    "mean_auc_list = []\n",
    "for x in np.arange(0, len(gbm2_staged_auc), 25):\n",
    "    mean_auc_list.append(np.mean(gbm2_staged_auc[x:x+24]))"
   ]
  },
  {
   "cell_type": "code",
   "execution_count": 213,
   "id": "cf1b1c8a",
   "metadata": {},
   "outputs": [
    {
     "name": "stdout",
     "output_type": "stream",
     "text": [
      "Number of trees where 1 year AUC on validation dataset beings to downgrade: 1150\n",
      "Validation dataset AUC before degrading: 0.7943551238143207\n",
      "Training dataset AUC before degrading: 0.8123086304012388\n"
     ]
    }
   ],
   "source": [
    "print('Number of trees where 1 year AUC on validation dataset beings to downgrade:', np.where(np.diff(mean_auc_list) < 0)[0][0]*25)\n",
    "print('Validation dataset AUC before degrading:', gbm2_staged_auc[np.where(np.diff(mean_auc_list) < 0)[0][0]*25])\n",
    "print('Training dataset AUC before degrading:', gbm2_staged_auc_tr[np.where(np.diff(mean_auc_list) < 0)[0][0]*25])"
   ]
  },
  {
   "cell_type": "markdown",
   "id": "c76aefd2",
   "metadata": {},
   "source": [
    "#### Model building and performance assessment"
   ]
  },
  {
   "cell_type": "code",
   "execution_count": 214,
   "id": "266e8175",
   "metadata": {},
   "outputs": [
    {
     "name": "stdout",
     "output_type": "stream",
     "text": [
      "      Iter       Train Loss      OOB Improve   Remaining Time \n",
      "         1      286790.4599          57.6982          672.61m\n",
      "         2      287101.8179          52.4959          672.05m\n",
      "         3      287073.2567          48.1216          671.35m\n",
      "         4      286812.4202          45.9594          670.64m\n",
      "         5      286641.1578          45.7015          670.13m\n",
      "         6      285641.0254          40.0024          669.48m\n",
      "         7      286206.0881          34.9393          668.92m\n",
      "         8      285809.1844          37.2177          668.19m\n",
      "         9      286509.9625          36.5228          667.59m\n",
      "        10      285977.7605          35.5662          667.06m\n",
      "        20      284887.2214          21.3050          661.03m\n",
      "        30      284568.7671          14.4506          655.15m\n",
      "        40      284032.0449          11.5581          648.59m\n",
      "        50      283203.9564           9.4501          641.04m\n",
      "        60      282648.3105           8.3191          634.46m\n",
      "        70      282757.5340           6.3568          628.19m\n",
      "        80      282577.5424           5.3231          621.56m\n",
      "        90      282157.0628           4.7756          615.11m\n",
      "       100      281696.9418           3.5066          608.84m\n",
      "       200      281403.5380           0.1392          552.04m\n",
      "       300      280106.1156           2.1753          494.79m\n",
      "       400      279994.6405          -0.0765          437.19m\n",
      "       500      279854.4171          -0.0978          379.02m\n",
      "       600      279313.8639          -0.2067          320.76m\n",
      "       700      279693.2367          -0.4816          262.44m\n",
      "       800      278689.6321          -0.4271          204.10m\n",
      "       900      278685.2243          -0.4852          145.73m\n",
      "      1000      279023.7009          -0.8368           87.40m\n"
     ]
    },
    {
     "data": {
      "text/plain": [
       "Pipeline(steps=[('columntransformer',\n",
       "                 ColumnTransformer(remainder='passthrough',\n",
       "                                   transformers=[('num',\n",
       "                                                  Pipeline(steps=[('std_scaler',\n",
       "                                                                   StandardScaler())]),\n",
       "                                                  ['age', 'delta_adv_diagnosis',\n",
       "                                                   'weight_diag', 'bmi_diag',\n",
       "                                                   'weight_pct_change',\n",
       "                                                   'weight_slope',\n",
       "                                                   'albumin_diag', 'alp_diag',\n",
       "                                                   'alt_diag', 'ast_diag',\n",
       "                                                   'bicarb_diag', 'bun_diag',\n",
       "                                                   'calcium_diag',\n",
       "                                                   'chloride_diag',\n",
       "                                                   'creati...\n",
       "                                                   'wbc_max', 'albumin_min', ...]),\n",
       "                                                 ('cat',\n",
       "                                                  OneHotEncoder(handle_unknown='ignore'),\n",
       "                                                  ['PracticeType', 'gender',\n",
       "                                                   'Histology', 'SmokingStatus',\n",
       "                                                   'stage', 'adv_year', 'ALK',\n",
       "                                                   'BRAF', 'EGFR', 'KRAS',\n",
       "                                                   'ROS1', 'pdl1', 'pdl1_n',\n",
       "                                                   'ecog_diagnosis'])])),\n",
       "                ('gradientboostingsurvivalanalysis',\n",
       "                 GradientBoostingSurvivalAnalysis(max_depth=2,\n",
       "                                                  n_estimators=1150,\n",
       "                                                  random_state=42,\n",
       "                                                  subsample=0.75, verbose=1))])"
      ]
     },
     "execution_count": 214,
     "metadata": {},
     "output_type": "execute_result"
    }
   ],
   "source": [
    "gbm_mice2 = make_pipeline(preprocessor_red, GradientBoostingSurvivalAnalysis(n_estimators = np.where(np.diff(mean_auc_list) < 0)[0][0]*25,\n",
    "                                                                             learning_rate = 0.1,\n",
    "                                                                             max_depth = 2,\n",
    "                                                                             subsample = 0.75,\n",
    "                                                                             verbose = 1,\n",
    "                                                                             random_state = 42))\n",
    "\n",
    "gbm_mice2.fit(train_mice2_x, train_y)"
   ]
  },
  {
   "cell_type": "code",
   "execution_count": 215,
   "id": "949eca60",
   "metadata": {},
   "outputs": [
    {
     "data": {
      "text/plain": [
       "['gbm_mice2.joblib']"
      ]
     },
     "execution_count": 215,
     "metadata": {},
     "output_type": "execute_result"
    }
   ],
   "source": [
    "dump(gbm_mice2, 'gbm_mice2.joblib') "
   ]
  },
  {
   "cell_type": "code",
   "execution_count": 216,
   "id": "36fde5d5",
   "metadata": {},
   "outputs": [
    {
     "name": "stdout",
     "output_type": "stream",
     "text": [
      "Test set AUC at 1 year: 0.7904200802699834\n"
     ]
    }
   ],
   "source": [
    "gbm_risk_scores_te = gbm_mice2.predict(test_mice_x)\n",
    "gbm_auc_te = cumulative_dynamic_auc(train_y, test_y, gbm_risk_scores_te, 365)[0][0]\n",
    "print('Test set AUC at 1 year:', gbm_auc_te)"
   ]
  },
  {
   "cell_type": "code",
   "execution_count": 217,
   "id": "195dc184",
   "metadata": {},
   "outputs": [
    {
     "name": "stdout",
     "output_type": "stream",
     "text": [
      "Training set AUC at 1 year: 0.8085374696428542\n"
     ]
    }
   ],
   "source": [
    "gbm_risk_scores_tr = gbm_mice2.predict(train_mice2_x)\n",
    "gbm_auc_tr = cumulative_dynamic_auc(train_y, train_y, gbm_risk_scores_tr, 365)[0][0]\n",
    "print('Training set AUC at 1 year:', gbm_auc_tr)"
   ]
  },
  {
   "cell_type": "code",
   "execution_count": 218,
   "id": "99ce497f",
   "metadata": {},
   "outputs": [],
   "source": [
    "# Bootstrap 10000 1 yr AUCs for test set \n",
    "n_bootstraps = 10000\n",
    "rng_seed = 42 \n",
    "bootstrapped_scores_te = []\n",
    "\n",
    "rng = np.random.RandomState(rng_seed)\n",
    "for i in range(n_bootstraps):\n",
    "    indices = rng.randint(0, len(gbm_risk_scores_te), len(gbm_risk_scores_te))\n",
    "    auc_yr = cumulative_dynamic_auc(train_y, test_y[indices], gbm_risk_scores_te[indices], 365)[0][0]\n",
    "    bootstrapped_scores_te.append(auc_yr)"
   ]
  },
  {
   "cell_type": "code",
   "execution_count": 219,
   "id": "bad3dd02",
   "metadata": {},
   "outputs": [
    {
     "name": "stdout",
     "output_type": "stream",
     "text": [
      "Test set AUC standard error: 0.0018556798491085116\n"
     ]
    }
   ],
   "source": [
    "# Standard error of mean for test set AUC\n",
    "sorted_scores_te = np.array(bootstrapped_scores_te)\n",
    "sorted_scores_te.sort()\n",
    "\n",
    "conf_lower_te = sorted_scores_te[int(0.025 * len(sorted_scores_te))]\n",
    "conf_upper_te = sorted_scores_te[int(0.975 * len(sorted_scores_te))]\n",
    "\n",
    "standard_error_te = (conf_upper_te - conf_lower_te) / 3.92\n",
    "print('Test set AUC standard error:', standard_error_te)"
   ]
  },
  {
   "cell_type": "code",
   "execution_count": 220,
   "id": "2c9dec3a",
   "metadata": {},
   "outputs": [],
   "source": [
    "# Bootstrap 10000 1-yr AUCs for train set \n",
    "n_bootstraps = 10000\n",
    "rng_seed = 42 \n",
    "bootstrapped_scores_tr = []\n",
    "\n",
    "rng = np.random.RandomState(rng_seed)\n",
    "for i in range(n_bootstraps):\n",
    "    indices = rng.randint(0, len(gbm_risk_scores_tr), len(gbm_risk_scores_tr))\n",
    "    auc_yr = cumulative_dynamic_auc(train_y, train_y[indices], gbm_risk_scores_tr[indices], 365)[0][0]\n",
    "    bootstrapped_scores_tr.append(auc_yr)"
   ]
  },
  {
   "cell_type": "code",
   "execution_count": 221,
   "id": "8e186822",
   "metadata": {},
   "outputs": [
    {
     "name": "stdout",
     "output_type": "stream",
     "text": [
      "Training set AUC standard error 0.001941865122153227\n"
     ]
    }
   ],
   "source": [
    "# Standard error of mean for train set AUC\n",
    "sorted_scores_tr = np.array(bootstrapped_scores_tr)\n",
    "sorted_scores_tr.sort()\n",
    "\n",
    "conf_lower_tr = sorted_scores_tr[int(0.025 * len(sorted_scores_tr))]\n",
    "conf_upper_tr = sorted_scores_tr[int(0.975 * len(sorted_scores_tr))]\n",
    "\n",
    "standard_error_tr = (conf_upper_tr - conf_lower_tr) / 3.92\n",
    "print('Training set AUC standard error', standard_error_tr)"
   ]
  },
  {
   "cell_type": "code",
   "execution_count": 222,
   "id": "506af92e",
   "metadata": {},
   "outputs": [],
   "source": [
    "mice_auc_data = {'mice_dataset': 'mice_2',\n",
    "                 'auc_1yr_te': gbm_auc_te,\n",
    "                 'sem_te': standard_error_te,\n",
    "                 'auc_1yr_tr': gbm_auc_tr,\n",
    "                 'sem_tr': standard_error_tr}\n",
    "\n",
    "mice_auc_df = mice_auc_df.append(mice_auc_data, ignore_index = True)"
   ]
  },
  {
   "cell_type": "code",
   "execution_count": 223,
   "id": "97315a43",
   "metadata": {},
   "outputs": [
    {
     "data": {
      "text/html": [
       "<div>\n",
       "<style scoped>\n",
       "    .dataframe tbody tr th:only-of-type {\n",
       "        vertical-align: middle;\n",
       "    }\n",
       "\n",
       "    .dataframe tbody tr th {\n",
       "        vertical-align: top;\n",
       "    }\n",
       "\n",
       "    .dataframe thead th {\n",
       "        text-align: right;\n",
       "    }\n",
       "</style>\n",
       "<table border=\"1\" class=\"dataframe\">\n",
       "  <thead>\n",
       "    <tr style=\"text-align: right;\">\n",
       "      <th></th>\n",
       "      <th>mice_dataset</th>\n",
       "      <th>auc_1yr_te</th>\n",
       "      <th>sem_te</th>\n",
       "      <th>auc_1yr_tr</th>\n",
       "      <th>sem_tr</th>\n",
       "    </tr>\n",
       "  </thead>\n",
       "  <tbody>\n",
       "    <tr>\n",
       "      <th>0</th>\n",
       "      <td>mice_0</td>\n",
       "      <td>0.786069</td>\n",
       "      <td>0.001868</td>\n",
       "      <td>0.798416</td>\n",
       "      <td>0.002002</td>\n",
       "    </tr>\n",
       "    <tr>\n",
       "      <th>1</th>\n",
       "      <td>mice_1</td>\n",
       "      <td>0.790948</td>\n",
       "      <td>0.001852</td>\n",
       "      <td>0.809369</td>\n",
       "      <td>0.001931</td>\n",
       "    </tr>\n",
       "    <tr>\n",
       "      <th>2</th>\n",
       "      <td>mice_2</td>\n",
       "      <td>0.790420</td>\n",
       "      <td>0.001856</td>\n",
       "      <td>0.808537</td>\n",
       "      <td>0.001942</td>\n",
       "    </tr>\n",
       "  </tbody>\n",
       "</table>\n",
       "</div>"
      ],
      "text/plain": [
       "  mice_dataset  auc_1yr_te    sem_te  auc_1yr_tr    sem_tr\n",
       "0       mice_0    0.786069  0.001868    0.798416  0.002002\n",
       "1       mice_1    0.790948  0.001852    0.809369  0.001931\n",
       "2       mice_2    0.790420  0.001856    0.808537  0.001942"
      ]
     },
     "execution_count": 223,
     "metadata": {},
     "output_type": "execute_result"
    }
   ],
   "source": [
    "mice_auc_df "
   ]
  },
  {
   "cell_type": "code",
   "execution_count": 224,
   "id": "645be3cc",
   "metadata": {},
   "outputs": [],
   "source": [
    "mice_auc_df.to_csv('mice_auc_df.csv', index = False, header = True)"
   ]
  },
  {
   "cell_type": "code",
   "execution_count": 225,
   "id": "12b281fe",
   "metadata": {},
   "outputs": [],
   "source": [
    "times = np.arange(30, 1810, 30)\n",
    "mice2_auc_over5 = cumulative_dynamic_auc(train_y, test_y, gbm_risk_scores_te, times)[0]\n",
    "\n",
    "times_data = {}\n",
    "values = mice2_auc_over5\n",
    "time_names = []\n",
    "\n",
    "for x in range(len(times)):\n",
    "    time_names.append('time_'+str(times[x]))\n",
    "\n",
    "for i in range(len(time_names)):\n",
    "    times_data[time_names[i]] = values[i]\n",
    "    \n",
    "mice2_auc_over5_df = pd.DataFrame(times_data, index = ['mice_2'])\n",
    "\n",
    "mice_auc_over5 = mice_auc_over5.append(mice2_auc_over5_df, ignore_index = False)"
   ]
  },
  {
   "cell_type": "code",
   "execution_count": 226,
   "id": "814e79b2",
   "metadata": {},
   "outputs": [
    {
     "data": {
      "text/html": [
       "<div>\n",
       "<style scoped>\n",
       "    .dataframe tbody tr th:only-of-type {\n",
       "        vertical-align: middle;\n",
       "    }\n",
       "\n",
       "    .dataframe tbody tr th {\n",
       "        vertical-align: top;\n",
       "    }\n",
       "\n",
       "    .dataframe thead th {\n",
       "        text-align: right;\n",
       "    }\n",
       "</style>\n",
       "<table border=\"1\" class=\"dataframe\">\n",
       "  <thead>\n",
       "    <tr style=\"text-align: right;\">\n",
       "      <th></th>\n",
       "      <th>time_30</th>\n",
       "      <th>time_60</th>\n",
       "      <th>time_90</th>\n",
       "      <th>time_120</th>\n",
       "      <th>time_150</th>\n",
       "      <th>time_180</th>\n",
       "      <th>time_210</th>\n",
       "      <th>time_240</th>\n",
       "      <th>time_270</th>\n",
       "      <th>time_300</th>\n",
       "      <th>...</th>\n",
       "      <th>time_1530</th>\n",
       "      <th>time_1560</th>\n",
       "      <th>time_1590</th>\n",
       "      <th>time_1620</th>\n",
       "      <th>time_1650</th>\n",
       "      <th>time_1680</th>\n",
       "      <th>time_1710</th>\n",
       "      <th>time_1740</th>\n",
       "      <th>time_1770</th>\n",
       "      <th>time_1800</th>\n",
       "    </tr>\n",
       "  </thead>\n",
       "  <tbody>\n",
       "    <tr>\n",
       "      <th>mice_0</th>\n",
       "      <td>0.851515</td>\n",
       "      <td>0.854784</td>\n",
       "      <td>0.842271</td>\n",
       "      <td>0.833397</td>\n",
       "      <td>0.828669</td>\n",
       "      <td>0.820531</td>\n",
       "      <td>0.811525</td>\n",
       "      <td>0.803604</td>\n",
       "      <td>0.796979</td>\n",
       "      <td>0.791989</td>\n",
       "      <td>...</td>\n",
       "      <td>0.741462</td>\n",
       "      <td>0.740587</td>\n",
       "      <td>0.740732</td>\n",
       "      <td>0.739575</td>\n",
       "      <td>0.740620</td>\n",
       "      <td>0.741634</td>\n",
       "      <td>0.742895</td>\n",
       "      <td>0.742324</td>\n",
       "      <td>0.739519</td>\n",
       "      <td>0.742961</td>\n",
       "    </tr>\n",
       "    <tr>\n",
       "      <th>mice_1</th>\n",
       "      <td>0.854513</td>\n",
       "      <td>0.862991</td>\n",
       "      <td>0.849394</td>\n",
       "      <td>0.838282</td>\n",
       "      <td>0.832390</td>\n",
       "      <td>0.824517</td>\n",
       "      <td>0.815171</td>\n",
       "      <td>0.808297</td>\n",
       "      <td>0.801615</td>\n",
       "      <td>0.796968</td>\n",
       "      <td>...</td>\n",
       "      <td>0.748372</td>\n",
       "      <td>0.747752</td>\n",
       "      <td>0.748136</td>\n",
       "      <td>0.747195</td>\n",
       "      <td>0.748417</td>\n",
       "      <td>0.749233</td>\n",
       "      <td>0.750629</td>\n",
       "      <td>0.750300</td>\n",
       "      <td>0.748308</td>\n",
       "      <td>0.751557</td>\n",
       "    </tr>\n",
       "    <tr>\n",
       "      <th>mice_2</th>\n",
       "      <td>0.862315</td>\n",
       "      <td>0.864126</td>\n",
       "      <td>0.849871</td>\n",
       "      <td>0.838976</td>\n",
       "      <td>0.833042</td>\n",
       "      <td>0.825244</td>\n",
       "      <td>0.815636</td>\n",
       "      <td>0.808106</td>\n",
       "      <td>0.801610</td>\n",
       "      <td>0.796822</td>\n",
       "      <td>...</td>\n",
       "      <td>0.744793</td>\n",
       "      <td>0.744179</td>\n",
       "      <td>0.744571</td>\n",
       "      <td>0.743691</td>\n",
       "      <td>0.744533</td>\n",
       "      <td>0.745597</td>\n",
       "      <td>0.746786</td>\n",
       "      <td>0.746533</td>\n",
       "      <td>0.744556</td>\n",
       "      <td>0.747807</td>\n",
       "    </tr>\n",
       "  </tbody>\n",
       "</table>\n",
       "<p>3 rows × 60 columns</p>\n",
       "</div>"
      ],
      "text/plain": [
       "         time_30   time_60   time_90  time_120  time_150  time_180  time_210  \\\n",
       "mice_0  0.851515  0.854784  0.842271  0.833397  0.828669  0.820531  0.811525   \n",
       "mice_1  0.854513  0.862991  0.849394  0.838282  0.832390  0.824517  0.815171   \n",
       "mice_2  0.862315  0.864126  0.849871  0.838976  0.833042  0.825244  0.815636   \n",
       "\n",
       "        time_240  time_270  time_300  ...  time_1530  time_1560  time_1590  \\\n",
       "mice_0  0.803604  0.796979  0.791989  ...   0.741462   0.740587   0.740732   \n",
       "mice_1  0.808297  0.801615  0.796968  ...   0.748372   0.747752   0.748136   \n",
       "mice_2  0.808106  0.801610  0.796822  ...   0.744793   0.744179   0.744571   \n",
       "\n",
       "        time_1620  time_1650  time_1680  time_1710  time_1740  time_1770  \\\n",
       "mice_0   0.739575   0.740620   0.741634   0.742895   0.742324   0.739519   \n",
       "mice_1   0.747195   0.748417   0.749233   0.750629   0.750300   0.748308   \n",
       "mice_2   0.743691   0.744533   0.745597   0.746786   0.746533   0.744556   \n",
       "\n",
       "        time_1800  \n",
       "mice_0   0.742961  \n",
       "mice_1   0.751557  \n",
       "mice_2   0.747807  \n",
       "\n",
       "[3 rows x 60 columns]"
      ]
     },
     "execution_count": 226,
     "metadata": {},
     "output_type": "execute_result"
    }
   ],
   "source": [
    "mice_auc_over5 "
   ]
  },
  {
   "cell_type": "code",
   "execution_count": 227,
   "id": "dc090d3f",
   "metadata": {},
   "outputs": [],
   "source": [
    "mice_auc_over5.to_csv('mice_auc_over5.csv', index = True, header = True)"
   ]
  },
  {
   "cell_type": "code",
   "execution_count": 228,
   "id": "46cb0568",
   "metadata": {},
   "outputs": [],
   "source": [
    "# Variables passing through pipeline_rsf\n",
    "cat_encoder = list(preprocessor_red.transformers_[1][1].get_feature_names(categorical_features))\n",
    "pass_through = list(train_mice2_x.iloc[:, preprocessor_red.transformers_[2][2]].columns)\n",
    "attributes_gbm = numerical_features_red + cat_encoder + pass_through"
   ]
  },
  {
   "cell_type": "code",
   "execution_count": 229,
   "id": "140047b4",
   "metadata": {},
   "outputs": [
    {
     "name": "stdout",
     "output_type": "stream",
     "text": [
      "Total number of features: 176\n",
      "Number of non-zero features in final model: 138\n"
     ]
    },
    {
     "data": {
      "image/png": "[encoded data removed]",
      "text/plain": [
       "<Figure size 600x800 with 1 Axes>"
      ]
     },
     "metadata": {},
     "output_type": "display_data"
    }
   ],
   "source": [
    "# Dataframe of coefficients for each variable \n",
    "coefficients_mice2 = pd.DataFrame(\n",
    "    gbm_mice2.named_steps['gradientboostingsurvivalanalysis'].feature_importances_,\n",
    "    index = attributes_gbm,\n",
    "    columns = ['coefficient']\n",
    ")\n",
    "\n",
    "print('Total number of features: {}'.format(len(attributes_gbm)))\n",
    "\n",
    "non_zero = np.sum(coefficients_mice2.iloc[:, 0] != 0)\n",
    "print('Number of non-zero features in final model: {}'.format(non_zero))\n",
    "\n",
    "non_zero_coefs = coefficients_mice2.query('coefficient != 0')\n",
    "coef_order = non_zero_coefs.abs().sort_values('coefficient').tail(30).index\n",
    "\n",
    "_, ax = plt.subplots(figsize=(6, 8))\n",
    "non_zero_coefs.loc[coef_order].plot.barh(ax = ax, legend = False)\n",
    "ax.set_xlabel('coefficient')\n",
    "ax.grid(True)"
   ]
  },
  {
   "cell_type": "code",
   "execution_count": 230,
   "id": "86acda90",
   "metadata": {},
   "outputs": [],
   "source": [
    "coefficients_mice2_df = (\n",
    "    coefficients_mice2\n",
    "    .reset_index()\n",
    "    .rename(columns = {'index':'variable'}))"
   ]
  },
  {
   "cell_type": "code",
   "execution_count": 231,
   "id": "12fae0aa",
   "metadata": {},
   "outputs": [],
   "source": [
    "coefficients_mice = coefficients_mice.append(coefficients_mice2_df, ignore_index = True)"
   ]
  },
  {
   "cell_type": "code",
   "execution_count": 232,
   "id": "2a755d79",
   "metadata": {},
   "outputs": [],
   "source": [
    "coefficients_mice.to_csv('coefficients_mice.csv', index = False, header = True)"
   ]
  },
  {
   "cell_type": "markdown",
   "id": "05a4a3d2",
   "metadata": {},
   "source": [
    "### 3.4 Model 4"
   ]
  },
  {
   "cell_type": "markdown",
   "id": "160d4b18",
   "metadata": {},
   "source": [
    "#### Preprocessing "
   ]
  },
  {
   "cell_type": "code",
   "execution_count": 233,
   "id": "02a08f94",
   "metadata": {},
   "outputs": [],
   "source": [
    "train_mice3 = pd.read_csv('mice_tr3.csv', index_col = 'PatientID')"
   ]
  },
  {
   "cell_type": "code",
   "execution_count": 234,
   "id": "f78c5b0f",
   "metadata": {},
   "outputs": [
    {
     "name": "stdout",
     "output_type": "stream",
     "text": [
      "(54786, 184)\n",
      "Number of missing elements: 0\n"
     ]
    }
   ],
   "source": [
    "print(train_mice3.shape)\n",
    "print('Number of missing elements:', train_mice3.isna().sum().sum())"
   ]
  },
  {
   "cell_type": "code",
   "execution_count": 235,
   "id": "f84e0297",
   "metadata": {},
   "outputs": [],
   "source": [
    "train_mice3 = train_mice3.drop(columns = mice_drop)"
   ]
  },
  {
   "cell_type": "code",
   "execution_count": 236,
   "id": "30d4d195",
   "metadata": {},
   "outputs": [],
   "source": [
    "train_mice3 = train_mice3.drop(columns = dem_var)"
   ]
  },
  {
   "cell_type": "code",
   "execution_count": 237,
   "id": "492e392f",
   "metadata": {},
   "outputs": [
    {
     "name": "stdout",
     "output_type": "stream",
     "text": [
      "(54786, 135)\n"
     ]
    }
   ],
   "source": [
    "print(train_mice3.shape)"
   ]
  },
  {
   "cell_type": "code",
   "execution_count": 238,
   "id": "18d6a949",
   "metadata": {},
   "outputs": [],
   "source": [
    "train_mice3['ecog_na'] = np.where(train_mice3.index.isin(train.query('ecog_diagnosis == \"unknown\"').PatientID), 1, 0)\n",
    "train_mice3['stage_na'] = np.where(train_mice3.index.isin(train.query('stage == \"unknown\"').PatientID), 1, 0)"
   ]
  },
  {
   "cell_type": "code",
   "execution_count": 239,
   "id": "0ad8c52e",
   "metadata": {},
   "outputs": [
    {
     "data": {
      "text/plain": [
       "1    29019\n",
       "0    25767\n",
       "Name: ecog_na, dtype: int64"
      ]
     },
     "execution_count": 239,
     "metadata": {},
     "output_type": "execute_result"
    }
   ],
   "source": [
    "train_mice3.ecog_na.value_counts()"
   ]
  },
  {
   "cell_type": "code",
   "execution_count": 240,
   "id": "83eaf49d",
   "metadata": {},
   "outputs": [
    {
     "data": {
      "text/plain": [
       "['PracticeType',\n",
       " 'gender',\n",
       " 'Histology',\n",
       " 'SmokingStatus',\n",
       " 'stage',\n",
       " 'adv_year',\n",
       " 'ALK',\n",
       " 'BRAF',\n",
       " 'EGFR',\n",
       " 'KRAS',\n",
       " 'ROS1',\n",
       " 'pdl1',\n",
       " 'pdl1_n',\n",
       " 'ecog_diagnosis']"
      ]
     },
     "execution_count": 240,
     "metadata": {},
     "output_type": "execute_result"
    }
   ],
   "source": [
    "for x in list(to_be_categorical):\n",
    "    train_mice3[x] = train_mice3[x].astype('category')\n",
    "    \n",
    "list(train_mice3.select_dtypes(include = ['category']).columns)"
   ]
  },
  {
   "cell_type": "code",
   "execution_count": 241,
   "id": "8d89cffd",
   "metadata": {},
   "outputs": [],
   "source": [
    "train_mice3['death_status'] = train_mice3['death_status'].astype('bool')"
   ]
  },
  {
   "cell_type": "code",
   "execution_count": 242,
   "id": "16cc8aab",
   "metadata": {},
   "outputs": [],
   "source": [
    "val_mice3 = train_mice3[train_mice3.index.isin(val_IDs['PatientID'])]\n",
    "\n",
    "sub_train_mice3 = train_mice3[~train_mice3.index.isin(val_IDs['PatientID'])]"
   ]
  },
  {
   "cell_type": "code",
   "execution_count": 243,
   "id": "db114c72",
   "metadata": {},
   "outputs": [
    {
     "name": "stdout",
     "output_type": "stream",
     "text": [
      "(54786, 137)\n",
      "(41089, 137)\n",
      "(13697, 137)\n"
     ]
    }
   ],
   "source": [
    "print(train_mice3.shape)\n",
    "print(sub_train_mice3.shape)\n",
    "print(val_mice3.shape)"
   ]
  },
  {
   "cell_type": "code",
   "execution_count": 244,
   "id": "4d2a990d",
   "metadata": {},
   "outputs": [],
   "source": [
    "train_mice3_x = train_mice3.drop(columns = ['death_status', 'timerisk_activity'])\n",
    "\n",
    "sub_train_mice3_x = sub_train_mice3.drop(columns = ['death_status', 'timerisk_activity'])\n",
    "\n",
    "val_mice3_x = val_mice3.drop(columns = ['death_status', 'timerisk_activity'])"
   ]
  },
  {
   "cell_type": "code",
   "execution_count": 245,
   "id": "9bd53a6f",
   "metadata": {},
   "outputs": [
    {
     "name": "stdout",
     "output_type": "stream",
     "text": [
      "(54786, 135)\n",
      "(41089, 135)\n",
      "(13697, 135)\n"
     ]
    }
   ],
   "source": [
    "print(train_mice3_x.shape)\n",
    "print(sub_train_mice3_x.shape)\n",
    "print(val_mice3_x.shape)"
   ]
  },
  {
   "cell_type": "markdown",
   "id": "acfeea95",
   "metadata": {},
   "source": [
    "#### Hyperparameter tuning "
   ]
  },
  {
   "cell_type": "code",
   "execution_count": 246,
   "id": "a8caef45",
   "metadata": {},
   "outputs": [
    {
     "name": "stdout",
     "output_type": "stream",
     "text": [
      "      Iter       Train Loss      OOB Improve   Remaining Time \n",
      "         1      209649.3773          44.0370          493.44m\n",
      "         2      208071.9760          39.4057          493.55m\n",
      "         3      209359.1791          36.4816          493.56m\n",
      "         4      209044.0757          34.8516          492.98m\n",
      "         5      208580.2460          35.5388          492.29m\n",
      "         6      208489.3065          29.1323          491.82m\n",
      "         7      208298.0219          28.0530          491.21m\n",
      "         8      208226.3914          27.2687          490.92m\n",
      "         9      208530.6133          22.8956          490.67m\n",
      "        10      207617.6998          24.3636          490.49m\n",
      "        20      207883.6443          15.1122          486.72m\n",
      "        30      207208.3552          16.2289          483.09m\n",
      "        40      206726.7518          13.6669          479.65m\n",
      "        50      206167.5255           8.3863          476.35m\n",
      "        60      205988.1541           5.2694          473.07m\n",
      "        70      205585.2620           5.8697          469.77m\n",
      "        80      205227.5853           4.8934          466.45m\n",
      "        90      205351.1763           4.6903          463.03m\n",
      "       100      205301.1823           3.5735          459.69m\n",
      "       200      204746.7536           0.7904          426.49m\n",
      "       300      203477.9734           0.3571          393.53m\n",
      "       400      203406.4376          -0.2039          360.48m\n",
      "       500      203464.3927          -0.3145          327.36m\n",
      "       600      203613.8269          -0.3939          294.73m\n",
      "       700      203282.4593          -0.3157          262.05m\n",
      "       800      202818.6830          -0.1465          229.17m\n",
      "       900      202218.8451           0.0136          196.52m\n",
      "      1000      202553.7737          -0.6291          163.82m\n"
     ]
    },
    {
     "data": {
      "text/plain": [
       "GradientBoostingSurvivalAnalysis(max_depth=2, n_estimators=1500,\n",
       "                                 random_state=42, subsample=0.75, verbose=1)"
      ]
     },
     "execution_count": 246,
     "metadata": {},
     "output_type": "execute_result"
    }
   ],
   "source": [
    "sub_train_mice3_xt = preprocessor_red.fit_transform(sub_train_mice3_x)\n",
    "val_mice3_xt = preprocessor_red.transform(val_mice3_x)\n",
    "\n",
    "gbm_mice3_exp = GradientBoostingSurvivalAnalysis(n_estimators = 1500,\n",
    "                                                 learning_rate = 0.1,\n",
    "                                                 max_depth = 2,\n",
    "                                                 subsample = 0.75,\n",
    "                                                 verbose = 1,\n",
    "                                                 random_state = 42)\n",
    "\n",
    "gbm_mice3_exp.fit(sub_train_mice3_xt, sub_train_y)"
   ]
  },
  {
   "cell_type": "code",
   "execution_count": 247,
   "id": "68be23d3",
   "metadata": {},
   "outputs": [],
   "source": [
    "gbm3_staged_auc = [cumulative_dynamic_auc(sub_train_y, val_y, risk_score, 365)[0][0] for \n",
    "                   risk_score in gbm_mice3_exp.staged_predict(val_mice3_xt)]"
   ]
  },
  {
   "cell_type": "code",
   "execution_count": 248,
   "id": "5ad30d20",
   "metadata": {},
   "outputs": [],
   "source": [
    "gbm3_staged_auc_tr = [cumulative_dynamic_auc(sub_train_y, sub_train_y, risk_score, 365)[0][0] for \n",
    "                      risk_score in gbm_mice3_exp.staged_predict(sub_train_mice3_xt)]"
   ]
  },
  {
   "cell_type": "code",
   "execution_count": 249,
   "id": "69d2e4e8",
   "metadata": {},
   "outputs": [
    {
     "data": {
      "image/png": "[encoded data removed]",
      "text/plain": [
       "<Figure size 640x480 with 1 Axes>"
      ]
     },
     "metadata": {},
     "output_type": "display_data"
    }
   ],
   "source": [
    "fig = plt.figure()\n",
    "ax = fig.add_subplot(1, 1, 1)\n",
    "\n",
    "x = range(len(gbm3_staged_auc))\n",
    "plt.plot(x, gbm3_staged_auc, color = 'blue', label = 'validation')\n",
    "plt.plot(x, gbm3_staged_auc_tr, color = 'red', label = 'training')\n",
    "plt.legend(loc = 'lower right')\n",
    "\n",
    "plt.xlabel(\"n_estimators\")\n",
    "plt.ylabel(\"AUC at 1-year \")\n",
    "plt.title('Gradient boosting model learning curve for mice3')\n",
    "\n",
    "plt.show()"
   ]
  },
  {
   "cell_type": "code",
   "execution_count": 250,
   "id": "12f901d3",
   "metadata": {},
   "outputs": [],
   "source": [
    "# Average AUC for every 25 additional trees. \n",
    "mean_auc_list = []\n",
    "for x in np.arange(0, len(gbm3_staged_auc), 25):\n",
    "    mean_auc_list.append(np.mean(gbm3_staged_auc[x:x+24]))"
   ]
  },
  {
   "cell_type": "code",
   "execution_count": 251,
   "id": "18dd4a4b",
   "metadata": {},
   "outputs": [
    {
     "name": "stdout",
     "output_type": "stream",
     "text": [
      "Number of trees where 1 year AUC on validation dataset beings to downgrade: 1200\n",
      "Validation dataset AUC before degrading: 0.7937588487404132\n",
      "Training dataset AUC before degrading: 0.8136380903870977\n"
     ]
    }
   ],
   "source": [
    "print('Number of trees where 1 year AUC on validation dataset beings to downgrade:', np.where(np.diff(mean_auc_list) < 0)[0][0]*25)\n",
    "print('Validation dataset AUC before degrading:', gbm3_staged_auc[np.where(np.diff(mean_auc_list) < 0)[0][0]*25])\n",
    "print('Training dataset AUC before degrading:', gbm3_staged_auc_tr[np.where(np.diff(mean_auc_list) < 0)[0][0]*25])"
   ]
  },
  {
   "cell_type": "markdown",
   "id": "82f2691d",
   "metadata": {},
   "source": [
    "#### Model building and performance assessment "
   ]
  },
  {
   "cell_type": "code",
   "execution_count": 252,
   "id": "2980ab52",
   "metadata": {},
   "outputs": [
    {
     "name": "stdout",
     "output_type": "stream",
     "text": [
      "      Iter       Train Loss      OOB Improve   Remaining Time \n",
      "         1      286784.6477          60.3578          699.59m\n",
      "         2      287094.4311          52.8691          701.14m\n",
      "         3      287058.1384          48.4007          701.52m\n",
      "         4      286792.8081          45.2352          700.61m\n",
      "         5      286637.9269          44.5870          700.22m\n",
      "         6      285632.1163          41.7675          699.26m\n",
      "         7      286193.3424          35.2925          697.92m\n",
      "         8      285802.6550          38.3228          697.00m\n",
      "         9      286490.3844          37.8686          696.04m\n",
      "        10      285948.7537          35.6547          695.22m\n",
      "        20      284857.1912          23.7173          686.77m\n",
      "        30      284542.7968          14.5151          681.19m\n",
      "        40      284027.1830          15.8091          676.27m\n",
      "        50      283188.0461           8.2398          671.05m\n",
      "        60      282646.5382           9.3889          665.13m\n",
      "        70      282757.0565           5.4314          658.74m\n",
      "        80      282558.5733           6.3050          652.99m\n",
      "        90      282165.4805           5.8756          647.44m\n",
      "       100      281664.4718           3.3956          641.85m\n",
      "       200      281419.6421           7.0111          583.93m\n",
      "       300      280141.3240          -0.2599          525.74m\n",
      "       400      280057.8373          -0.5615          467.39m\n",
      "       500      279896.0653           0.3255          408.95m\n",
      "       600      279361.8486          -0.3694          350.18m\n",
      "       700      279676.7795          -1.0090          291.85m\n",
      "       800      278680.3299          -0.4596          233.54m\n",
      "       900      278703.5894          -0.2421          175.19m\n",
      "      1000      279057.6943          -0.9035          116.82m\n"
     ]
    },
    {
     "data": {
      "text/plain": [
       "Pipeline(steps=[('columntransformer',\n",
       "                 ColumnTransformer(remainder='passthrough',\n",
       "                                   transformers=[('num',\n",
       "                                                  Pipeline(steps=[('std_scaler',\n",
       "                                                                   StandardScaler())]),\n",
       "                                                  ['age', 'delta_adv_diagnosis',\n",
       "                                                   'weight_diag', 'bmi_diag',\n",
       "                                                   'weight_pct_change',\n",
       "                                                   'weight_slope',\n",
       "                                                   'albumin_diag', 'alp_diag',\n",
       "                                                   'alt_diag', 'ast_diag',\n",
       "                                                   'bicarb_diag', 'bun_diag',\n",
       "                                                   'calcium_diag',\n",
       "                                                   'chloride_diag',\n",
       "                                                   'creati...\n",
       "                                                   'wbc_max', 'albumin_min', ...]),\n",
       "                                                 ('cat',\n",
       "                                                  OneHotEncoder(handle_unknown='ignore'),\n",
       "                                                  ['PracticeType', 'gender',\n",
       "                                                   'Histology', 'SmokingStatus',\n",
       "                                                   'stage', 'adv_year', 'ALK',\n",
       "                                                   'BRAF', 'EGFR', 'KRAS',\n",
       "                                                   'ROS1', 'pdl1', 'pdl1_n',\n",
       "                                                   'ecog_diagnosis'])])),\n",
       "                ('gradientboostingsurvivalanalysis',\n",
       "                 GradientBoostingSurvivalAnalysis(max_depth=2,\n",
       "                                                  n_estimators=1200,\n",
       "                                                  random_state=42,\n",
       "                                                  subsample=0.75, verbose=1))])"
      ]
     },
     "execution_count": 252,
     "metadata": {},
     "output_type": "execute_result"
    }
   ],
   "source": [
    "gbm_mice3 = make_pipeline(preprocessor_red, GradientBoostingSurvivalAnalysis(n_estimators = np.where(np.diff(mean_auc_list) < 0)[0][0]*25,\n",
    "                                                                             learning_rate = 0.1,\n",
    "                                                                             max_depth = 2,\n",
    "                                                                             subsample = 0.75,\n",
    "                                                                             verbose = 1,\n",
    "                                                                             random_state = 42))\n",
    "\n",
    "gbm_mice3.fit(train_mice3_x, train_y)"
   ]
  },
  {
   "cell_type": "code",
   "execution_count": 253,
   "id": "38fefde4",
   "metadata": {},
   "outputs": [
    {
     "data": {
      "text/plain": [
       "['gbm_mice3.joblib']"
      ]
     },
     "execution_count": 253,
     "metadata": {},
     "output_type": "execute_result"
    }
   ],
   "source": [
    "dump(gbm_mice3, 'gbm_mice3.joblib') "
   ]
  },
  {
   "cell_type": "code",
   "execution_count": 254,
   "id": "5a71b96c",
   "metadata": {},
   "outputs": [
    {
     "name": "stdout",
     "output_type": "stream",
     "text": [
      "Test set AUC at 1 year: 0.7900331701188763\n"
     ]
    }
   ],
   "source": [
    "gbm_risk_scores_te = gbm_mice3.predict(test_mice_x)\n",
    "gbm_auc_te = cumulative_dynamic_auc(train_y, test_y, gbm_risk_scores_te, 365)[0][0]\n",
    "print('Test set AUC at 1 year:', gbm_auc_te)"
   ]
  },
  {
   "cell_type": "code",
   "execution_count": 255,
   "id": "1de0e085",
   "metadata": {},
   "outputs": [
    {
     "name": "stdout",
     "output_type": "stream",
     "text": [
      "Training set AUC at 1 year: 0.8100254463515045\n"
     ]
    }
   ],
   "source": [
    "gbm_risk_scores_tr = gbm_mice3.predict(train_mice3_x)\n",
    "gbm_auc_tr = cumulative_dynamic_auc(train_y, train_y, gbm_risk_scores_tr, 365)[0][0]\n",
    "print('Training set AUC at 1 year:', gbm_auc_tr)"
   ]
  },
  {
   "cell_type": "code",
   "execution_count": 256,
   "id": "5c4f1259",
   "metadata": {},
   "outputs": [],
   "source": [
    "# Bootstrap 10000 1 yr AUCs for test set \n",
    "n_bootstraps = 10000\n",
    "rng_seed = 42 \n",
    "bootstrapped_scores_te = []\n",
    "\n",
    "rng = np.random.RandomState(rng_seed)\n",
    "for i in range(n_bootstraps):\n",
    "    indices = rng.randint(0, len(gbm_risk_scores_te), len(gbm_risk_scores_te))\n",
    "    auc_yr = cumulative_dynamic_auc(train_y, test_y[indices], gbm_risk_scores_te[indices], 365)[0][0]\n",
    "    bootstrapped_scores_te.append(auc_yr)"
   ]
  },
  {
   "cell_type": "code",
   "execution_count": 257,
   "id": "576424b6",
   "metadata": {},
   "outputs": [
    {
     "name": "stdout",
     "output_type": "stream",
     "text": [
      "Test set AUC standard error: 0.0018518402198258223\n"
     ]
    }
   ],
   "source": [
    "# Standard error of mean for test set AUC\n",
    "sorted_scores_te = np.array(bootstrapped_scores_te)\n",
    "sorted_scores_te.sort()\n",
    "\n",
    "conf_lower_te = sorted_scores_te[int(0.025 * len(sorted_scores_te))]\n",
    "conf_upper_te = sorted_scores_te[int(0.975 * len(sorted_scores_te))]\n",
    "\n",
    "standard_error_te = (conf_upper_te - conf_lower_te) / 3.92\n",
    "print('Test set AUC standard error:', standard_error_te)"
   ]
  },
  {
   "cell_type": "code",
   "execution_count": 258,
   "id": "cf018e94",
   "metadata": {},
   "outputs": [],
   "source": [
    "# Bootstrap 10000 1-yr AUCs for train set \n",
    "n_bootstraps = 10000\n",
    "rng_seed = 42 \n",
    "bootstrapped_scores_tr = []\n",
    "\n",
    "rng = np.random.RandomState(rng_seed)\n",
    "for i in range(n_bootstraps):\n",
    "    indices = rng.randint(0, len(gbm_risk_scores_tr), len(gbm_risk_scores_tr))\n",
    "    auc_yr = cumulative_dynamic_auc(train_y, train_y[indices], gbm_risk_scores_tr[indices], 365)[0][0]\n",
    "    bootstrapped_scores_tr.append(auc_yr)"
   ]
  },
  {
   "cell_type": "code",
   "execution_count": 259,
   "id": "39ef68ac",
   "metadata": {},
   "outputs": [
    {
     "name": "stdout",
     "output_type": "stream",
     "text": [
      "Training set AUC standard error 0.0019381899154776716\n"
     ]
    }
   ],
   "source": [
    "# Standard error of mean for train set AUC\n",
    "sorted_scores_tr = np.array(bootstrapped_scores_tr)\n",
    "sorted_scores_tr.sort()\n",
    "\n",
    "conf_lower_tr = sorted_scores_tr[int(0.025 * len(sorted_scores_tr))]\n",
    "conf_upper_tr = sorted_scores_tr[int(0.975 * len(sorted_scores_tr))]\n",
    "\n",
    "standard_error_tr = (conf_upper_tr - conf_lower_tr) / 3.92\n",
    "print('Training set AUC standard error', standard_error_tr)"
   ]
  },
  {
   "cell_type": "code",
   "execution_count": 260,
   "id": "638d8e18",
   "metadata": {},
   "outputs": [],
   "source": [
    "mice_auc_data = {'mice_dataset': 'mice_3',\n",
    "                 'auc_1yr_te': gbm_auc_te,\n",
    "                 'sem_te': standard_error_te,\n",
    "                 'auc_1yr_tr': gbm_auc_tr,\n",
    "                 'sem_tr': standard_error_tr}\n",
    "\n",
    "mice_auc_df = mice_auc_df.append(mice_auc_data, ignore_index = True)"
   ]
  },
  {
   "cell_type": "code",
   "execution_count": 261,
   "id": "b3e8d0f9",
   "metadata": {},
   "outputs": [
    {
     "data": {
      "text/html": [
       "<div>\n",
       "<style scoped>\n",
       "    .dataframe tbody tr th:only-of-type {\n",
       "        vertical-align: middle;\n",
       "    }\n",
       "\n",
       "    .dataframe tbody tr th {\n",
       "        vertical-align: top;\n",
       "    }\n",
       "\n",
       "    .dataframe thead th {\n",
       "        text-align: right;\n",
       "    }\n",
       "</style>\n",
       "<table border=\"1\" class=\"dataframe\">\n",
       "  <thead>\n",
       "    <tr style=\"text-align: right;\">\n",
       "      <th></th>\n",
       "      <th>mice_dataset</th>\n",
       "      <th>auc_1yr_te</th>\n",
       "      <th>sem_te</th>\n",
       "      <th>auc_1yr_tr</th>\n",
       "      <th>sem_tr</th>\n",
       "    </tr>\n",
       "  </thead>\n",
       "  <tbody>\n",
       "    <tr>\n",
       "      <th>0</th>\n",
       "      <td>mice_0</td>\n",
       "      <td>0.786069</td>\n",
       "      <td>0.001868</td>\n",
       "      <td>0.798416</td>\n",
       "      <td>0.002002</td>\n",
       "    </tr>\n",
       "    <tr>\n",
       "      <th>1</th>\n",
       "      <td>mice_1</td>\n",
       "      <td>0.790948</td>\n",
       "      <td>0.001852</td>\n",
       "      <td>0.809369</td>\n",
       "      <td>0.001931</td>\n",
       "    </tr>\n",
       "    <tr>\n",
       "      <th>2</th>\n",
       "      <td>mice_2</td>\n",
       "      <td>0.790420</td>\n",
       "      <td>0.001856</td>\n",
       "      <td>0.808537</td>\n",
       "      <td>0.001942</td>\n",
       "    </tr>\n",
       "    <tr>\n",
       "      <th>3</th>\n",
       "      <td>mice_3</td>\n",
       "      <td>0.790033</td>\n",
       "      <td>0.001852</td>\n",
       "      <td>0.810025</td>\n",
       "      <td>0.001938</td>\n",
       "    </tr>\n",
       "  </tbody>\n",
       "</table>\n",
       "</div>"
      ],
      "text/plain": [
       "  mice_dataset  auc_1yr_te    sem_te  auc_1yr_tr    sem_tr\n",
       "0       mice_0    0.786069  0.001868    0.798416  0.002002\n",
       "1       mice_1    0.790948  0.001852    0.809369  0.001931\n",
       "2       mice_2    0.790420  0.001856    0.808537  0.001942\n",
       "3       mice_3    0.790033  0.001852    0.810025  0.001938"
      ]
     },
     "execution_count": 261,
     "metadata": {},
     "output_type": "execute_result"
    }
   ],
   "source": [
    "mice_auc_df "
   ]
  },
  {
   "cell_type": "code",
   "execution_count": 262,
   "id": "acceb87c",
   "metadata": {},
   "outputs": [],
   "source": [
    "mice_auc_df.to_csv('mice_auc_df.csv', index = False, header = True)"
   ]
  },
  {
   "cell_type": "code",
   "execution_count": 263,
   "id": "32c5ad47",
   "metadata": {},
   "outputs": [],
   "source": [
    "times = np.arange(30, 1810, 30)\n",
    "mice3_auc_over5 = cumulative_dynamic_auc(train_y, test_y, gbm_risk_scores_te, times)[0]\n",
    "\n",
    "times_data = {}\n",
    "values = mice3_auc_over5\n",
    "time_names = []\n",
    "\n",
    "for x in range(len(times)):\n",
    "    time_names.append('time_'+str(times[x]))\n",
    "\n",
    "for i in range(len(time_names)):\n",
    "    times_data[time_names[i]] = values[i]\n",
    "    \n",
    "mice3_auc_over5_df = pd.DataFrame(times_data, index = ['mice_3'])\n",
    "\n",
    "mice_auc_over5 = mice_auc_over5.append(mice3_auc_over5_df, ignore_index = False)"
   ]
  },
  {
   "cell_type": "code",
   "execution_count": 264,
   "id": "cec86c83",
   "metadata": {},
   "outputs": [
    {
     "data": {
      "text/html": [
       "<div>\n",
       "<style scoped>\n",
       "    .dataframe tbody tr th:only-of-type {\n",
       "        vertical-align: middle;\n",
       "    }\n",
       "\n",
       "    .dataframe tbody tr th {\n",
       "        vertical-align: top;\n",
       "    }\n",
       "\n",
       "    .dataframe thead th {\n",
       "        text-align: right;\n",
       "    }\n",
       "</style>\n",
       "<table border=\"1\" class=\"dataframe\">\n",
       "  <thead>\n",
       "    <tr style=\"text-align: right;\">\n",
       "      <th></th>\n",
       "      <th>time_30</th>\n",
       "      <th>time_60</th>\n",
       "      <th>time_90</th>\n",
       "      <th>time_120</th>\n",
       "      <th>time_150</th>\n",
       "      <th>time_180</th>\n",
       "      <th>time_210</th>\n",
       "      <th>time_240</th>\n",
       "      <th>time_270</th>\n",
       "      <th>time_300</th>\n",
       "      <th>...</th>\n",
       "      <th>time_1530</th>\n",
       "      <th>time_1560</th>\n",
       "      <th>time_1590</th>\n",
       "      <th>time_1620</th>\n",
       "      <th>time_1650</th>\n",
       "      <th>time_1680</th>\n",
       "      <th>time_1710</th>\n",
       "      <th>time_1740</th>\n",
       "      <th>time_1770</th>\n",
       "      <th>time_1800</th>\n",
       "    </tr>\n",
       "  </thead>\n",
       "  <tbody>\n",
       "    <tr>\n",
       "      <th>mice_0</th>\n",
       "      <td>0.851515</td>\n",
       "      <td>0.854784</td>\n",
       "      <td>0.842271</td>\n",
       "      <td>0.833397</td>\n",
       "      <td>0.828669</td>\n",
       "      <td>0.820531</td>\n",
       "      <td>0.811525</td>\n",
       "      <td>0.803604</td>\n",
       "      <td>0.796979</td>\n",
       "      <td>0.791989</td>\n",
       "      <td>...</td>\n",
       "      <td>0.741462</td>\n",
       "      <td>0.740587</td>\n",
       "      <td>0.740732</td>\n",
       "      <td>0.739575</td>\n",
       "      <td>0.740620</td>\n",
       "      <td>0.741634</td>\n",
       "      <td>0.742895</td>\n",
       "      <td>0.742324</td>\n",
       "      <td>0.739519</td>\n",
       "      <td>0.742961</td>\n",
       "    </tr>\n",
       "    <tr>\n",
       "      <th>mice_1</th>\n",
       "      <td>0.854513</td>\n",
       "      <td>0.862991</td>\n",
       "      <td>0.849394</td>\n",
       "      <td>0.838282</td>\n",
       "      <td>0.832390</td>\n",
       "      <td>0.824517</td>\n",
       "      <td>0.815171</td>\n",
       "      <td>0.808297</td>\n",
       "      <td>0.801615</td>\n",
       "      <td>0.796968</td>\n",
       "      <td>...</td>\n",
       "      <td>0.748372</td>\n",
       "      <td>0.747752</td>\n",
       "      <td>0.748136</td>\n",
       "      <td>0.747195</td>\n",
       "      <td>0.748417</td>\n",
       "      <td>0.749233</td>\n",
       "      <td>0.750629</td>\n",
       "      <td>0.750300</td>\n",
       "      <td>0.748308</td>\n",
       "      <td>0.751557</td>\n",
       "    </tr>\n",
       "    <tr>\n",
       "      <th>mice_2</th>\n",
       "      <td>0.862315</td>\n",
       "      <td>0.864126</td>\n",
       "      <td>0.849871</td>\n",
       "      <td>0.838976</td>\n",
       "      <td>0.833042</td>\n",
       "      <td>0.825244</td>\n",
       "      <td>0.815636</td>\n",
       "      <td>0.808106</td>\n",
       "      <td>0.801610</td>\n",
       "      <td>0.796822</td>\n",
       "      <td>...</td>\n",
       "      <td>0.744793</td>\n",
       "      <td>0.744179</td>\n",
       "      <td>0.744571</td>\n",
       "      <td>0.743691</td>\n",
       "      <td>0.744533</td>\n",
       "      <td>0.745597</td>\n",
       "      <td>0.746786</td>\n",
       "      <td>0.746533</td>\n",
       "      <td>0.744556</td>\n",
       "      <td>0.747807</td>\n",
       "    </tr>\n",
       "    <tr>\n",
       "      <th>mice_3</th>\n",
       "      <td>0.860280</td>\n",
       "      <td>0.865492</td>\n",
       "      <td>0.851130</td>\n",
       "      <td>0.840363</td>\n",
       "      <td>0.834217</td>\n",
       "      <td>0.825804</td>\n",
       "      <td>0.815937</td>\n",
       "      <td>0.808707</td>\n",
       "      <td>0.801859</td>\n",
       "      <td>0.796962</td>\n",
       "      <td>...</td>\n",
       "      <td>0.742296</td>\n",
       "      <td>0.741877</td>\n",
       "      <td>0.742087</td>\n",
       "      <td>0.741172</td>\n",
       "      <td>0.741561</td>\n",
       "      <td>0.743051</td>\n",
       "      <td>0.744552</td>\n",
       "      <td>0.744155</td>\n",
       "      <td>0.741812</td>\n",
       "      <td>0.744497</td>\n",
       "    </tr>\n",
       "  </tbody>\n",
       "</table>\n",
       "<p>4 rows × 60 columns</p>\n",
       "</div>"
      ],
      "text/plain": [
       "         time_30   time_60   time_90  time_120  time_150  time_180  time_210  \\\n",
       "mice_0  0.851515  0.854784  0.842271  0.833397  0.828669  0.820531  0.811525   \n",
       "mice_1  0.854513  0.862991  0.849394  0.838282  0.832390  0.824517  0.815171   \n",
       "mice_2  0.862315  0.864126  0.849871  0.838976  0.833042  0.825244  0.815636   \n",
       "mice_3  0.860280  0.865492  0.851130  0.840363  0.834217  0.825804  0.815937   \n",
       "\n",
       "        time_240  time_270  time_300  ...  time_1530  time_1560  time_1590  \\\n",
       "mice_0  0.803604  0.796979  0.791989  ...   0.741462   0.740587   0.740732   \n",
       "mice_1  0.808297  0.801615  0.796968  ...   0.748372   0.747752   0.748136   \n",
       "mice_2  0.808106  0.801610  0.796822  ...   0.744793   0.744179   0.744571   \n",
       "mice_3  0.808707  0.801859  0.796962  ...   0.742296   0.741877   0.742087   \n",
       "\n",
       "        time_1620  time_1650  time_1680  time_1710  time_1740  time_1770  \\\n",
       "mice_0   0.739575   0.740620   0.741634   0.742895   0.742324   0.739519   \n",
       "mice_1   0.747195   0.748417   0.749233   0.750629   0.750300   0.748308   \n",
       "mice_2   0.743691   0.744533   0.745597   0.746786   0.746533   0.744556   \n",
       "mice_3   0.741172   0.741561   0.743051   0.744552   0.744155   0.741812   \n",
       "\n",
       "        time_1800  \n",
       "mice_0   0.742961  \n",
       "mice_1   0.751557  \n",
       "mice_2   0.747807  \n",
       "mice_3   0.744497  \n",
       "\n",
       "[4 rows x 60 columns]"
      ]
     },
     "execution_count": 264,
     "metadata": {},
     "output_type": "execute_result"
    }
   ],
   "source": [
    "mice_auc_over5 "
   ]
  },
  {
   "cell_type": "code",
   "execution_count": 265,
   "id": "b3bdce31",
   "metadata": {},
   "outputs": [],
   "source": [
    "mice_auc_over5.to_csv('mice_auc_over5.csv', index = True, header = True)"
   ]
  },
  {
   "cell_type": "code",
   "execution_count": 266,
   "id": "9aec925a",
   "metadata": {},
   "outputs": [],
   "source": [
    "# Variables passing through pipeline_rsf\n",
    "cat_encoder = list(preprocessor_red.transformers_[1][1].get_feature_names(categorical_features))\n",
    "pass_through = list(train_mice3_x.iloc[:, preprocessor_red.transformers_[2][2]].columns)\n",
    "attributes_gbm = numerical_features_red + cat_encoder + pass_through"
   ]
  },
  {
   "cell_type": "code",
   "execution_count": 267,
   "id": "a8e75200",
   "metadata": {},
   "outputs": [
    {
     "name": "stdout",
     "output_type": "stream",
     "text": [
      "Total number of features: 176\n",
      "Number of non-zero features in final model: 150\n"
     ]
    },
    {
     "data": {
      "image/png": "[encoded data removed]",
      "text/plain": [
       "<Figure size 600x800 with 1 Axes>"
      ]
     },
     "metadata": {},
     "output_type": "display_data"
    }
   ],
   "source": [
    "# Dataframe of coefficients for each variable \n",
    "coefficients_mice3 = pd.DataFrame(\n",
    "    gbm_mice3.named_steps['gradientboostingsurvivalanalysis'].feature_importances_,\n",
    "    index = attributes_gbm,\n",
    "    columns = ['coefficient']\n",
    ")\n",
    "\n",
    "print('Total number of features: {}'.format(len(attributes_gbm)))\n",
    "\n",
    "non_zero = np.sum(coefficients_mice3.iloc[:, 0] != 0)\n",
    "print('Number of non-zero features in final model: {}'.format(non_zero))\n",
    "\n",
    "non_zero_coefs = coefficients_mice3.query('coefficient != 0')\n",
    "coef_order = non_zero_coefs.abs().sort_values('coefficient').tail(30).index\n",
    "\n",
    "_, ax = plt.subplots(figsize=(6, 8))\n",
    "non_zero_coefs.loc[coef_order].plot.barh(ax = ax, legend = False)\n",
    "ax.set_xlabel('coefficient')\n",
    "ax.grid(True)"
   ]
  },
  {
   "cell_type": "code",
   "execution_count": 268,
   "id": "86c38e7b",
   "metadata": {},
   "outputs": [],
   "source": [
    "coefficients_mice3_df = (\n",
    "    coefficients_mice3\n",
    "    .reset_index()\n",
    "    .rename(columns = {'index':'variable'}))"
   ]
  },
  {
   "cell_type": "code",
   "execution_count": 269,
   "id": "c8bb5f30",
   "metadata": {},
   "outputs": [],
   "source": [
    "coefficients_mice = coefficients_mice.append(coefficients_mice3_df, ignore_index = True)"
   ]
  },
  {
   "cell_type": "code",
   "execution_count": 270,
   "id": "b0f887c6",
   "metadata": {},
   "outputs": [],
   "source": [
    "coefficients_mice.to_csv('coefficients_mice.csv', index = False, header = True)"
   ]
  },
  {
   "cell_type": "markdown",
   "id": "9be5531c",
   "metadata": {},
   "source": [
    "### 3.5 Model 5"
   ]
  },
  {
   "cell_type": "markdown",
   "id": "f5632e41",
   "metadata": {},
   "source": [
    "#### Preprocessing"
   ]
  },
  {
   "cell_type": "code",
   "execution_count": 271,
   "id": "f9411dba",
   "metadata": {},
   "outputs": [],
   "source": [
    "train_mice4 = pd.read_csv('mice_tr4.csv', index_col = 'PatientID')"
   ]
  },
  {
   "cell_type": "code",
   "execution_count": 272,
   "id": "53bd62f6",
   "metadata": {},
   "outputs": [
    {
     "name": "stdout",
     "output_type": "stream",
     "text": [
      "(54786, 184)\n",
      "Number of missing elements: 0\n"
     ]
    }
   ],
   "source": [
    "print(train_mice4.shape)\n",
    "print('Number of missing elements:', train_mice4.isna().sum().sum())"
   ]
  },
  {
   "cell_type": "code",
   "execution_count": 273,
   "id": "255d3de7",
   "metadata": {},
   "outputs": [],
   "source": [
    "train_mice4 = train_mice4.drop(columns = mice_drop)"
   ]
  },
  {
   "cell_type": "code",
   "execution_count": 274,
   "id": "cbc6b215",
   "metadata": {},
   "outputs": [],
   "source": [
    "train_mice4 = train_mice4.drop(columns = dem_var)"
   ]
  },
  {
   "cell_type": "code",
   "execution_count": 275,
   "id": "6e8a42ed",
   "metadata": {},
   "outputs": [
    {
     "name": "stdout",
     "output_type": "stream",
     "text": [
      "(54786, 135)\n"
     ]
    }
   ],
   "source": [
    "print(train_mice4.shape)"
   ]
  },
  {
   "cell_type": "code",
   "execution_count": 276,
   "id": "a7177f95",
   "metadata": {},
   "outputs": [],
   "source": [
    "train_mice4['ecog_na'] = np.where(train_mice4.index.isin(train.query('ecog_diagnosis == \"unknown\"').PatientID), 1, 0)\n",
    "train_mice4['stage_na'] = np.where(train_mice4.index.isin(train.query('stage == \"unknown\"').PatientID), 1, 0)"
   ]
  },
  {
   "cell_type": "code",
   "execution_count": 277,
   "id": "8b524299",
   "metadata": {},
   "outputs": [
    {
     "data": {
      "text/plain": [
       "1    29019\n",
       "0    25767\n",
       "Name: ecog_na, dtype: int64"
      ]
     },
     "execution_count": 277,
     "metadata": {},
     "output_type": "execute_result"
    }
   ],
   "source": [
    "train_mice4.ecog_na.value_counts()"
   ]
  },
  {
   "cell_type": "code",
   "execution_count": 278,
   "id": "55ac8eb0",
   "metadata": {},
   "outputs": [
    {
     "data": {
      "text/plain": [
       "['PracticeType',\n",
       " 'gender',\n",
       " 'Histology',\n",
       " 'SmokingStatus',\n",
       " 'stage',\n",
       " 'adv_year',\n",
       " 'ALK',\n",
       " 'BRAF',\n",
       " 'EGFR',\n",
       " 'KRAS',\n",
       " 'ROS1',\n",
       " 'pdl1',\n",
       " 'pdl1_n',\n",
       " 'ecog_diagnosis']"
      ]
     },
     "execution_count": 278,
     "metadata": {},
     "output_type": "execute_result"
    }
   ],
   "source": [
    "for x in list(to_be_categorical):\n",
    "    train_mice4[x] = train_mice4[x].astype('category')\n",
    "    \n",
    "list(train_mice4.select_dtypes(include = ['category']).columns)"
   ]
  },
  {
   "cell_type": "code",
   "execution_count": 279,
   "id": "2ee1ef14",
   "metadata": {},
   "outputs": [],
   "source": [
    "train_mice4['death_status'] = train_mice4['death_status'].astype('bool')"
   ]
  },
  {
   "cell_type": "code",
   "execution_count": 280,
   "id": "77eabcfe",
   "metadata": {},
   "outputs": [],
   "source": [
    "val_mice4 = train_mice4[train_mice4.index.isin(val_IDs['PatientID'])]\n",
    "\n",
    "sub_train_mice4 = train_mice4[~train_mice4.index.isin(val_IDs['PatientID'])]"
   ]
  },
  {
   "cell_type": "code",
   "execution_count": 281,
   "id": "81ba876e",
   "metadata": {},
   "outputs": [
    {
     "name": "stdout",
     "output_type": "stream",
     "text": [
      "(54786, 137)\n",
      "(41089, 137)\n",
      "(13697, 137)\n"
     ]
    }
   ],
   "source": [
    "print(train_mice4.shape)\n",
    "print(sub_train_mice4.shape)\n",
    "print(val_mice4.shape)"
   ]
  },
  {
   "cell_type": "code",
   "execution_count": 282,
   "id": "c3fa2329",
   "metadata": {},
   "outputs": [],
   "source": [
    "train_mice4_x = train_mice4.drop(columns = ['death_status', 'timerisk_activity'])\n",
    "\n",
    "sub_train_mice4_x = sub_train_mice4.drop(columns = ['death_status', 'timerisk_activity'])\n",
    "\n",
    "val_mice4_x = val_mice4.drop(columns = ['death_status', 'timerisk_activity'])"
   ]
  },
  {
   "cell_type": "code",
   "execution_count": 283,
   "id": "7ae5e61c",
   "metadata": {},
   "outputs": [
    {
     "name": "stdout",
     "output_type": "stream",
     "text": [
      "(54786, 135)\n",
      "(41089, 135)\n",
      "(13697, 135)\n"
     ]
    }
   ],
   "source": [
    "print(train_mice4_x.shape)\n",
    "print(sub_train_mice4_x.shape)\n",
    "print(val_mice4_x.shape)"
   ]
  },
  {
   "cell_type": "markdown",
   "id": "7afecd7f",
   "metadata": {},
   "source": [
    "#### Hyperparameter tuning"
   ]
  },
  {
   "cell_type": "code",
   "execution_count": 284,
   "id": "32015015",
   "metadata": {},
   "outputs": [
    {
     "name": "stdout",
     "output_type": "stream",
     "text": [
      "      Iter       Train Loss      OOB Improve   Remaining Time \n",
      "         1      209651.2981          41.1792          494.35m\n",
      "         2      208079.4578          40.5800          494.13m\n",
      "         3      209366.6142          35.7934          493.87m\n",
      "         4      209048.2548          33.3138          492.96m\n",
      "         5      208585.5737          29.6834          492.49m\n",
      "         6      208503.6191          32.0780          492.21m\n",
      "         7      208307.2792          30.0303          492.15m\n",
      "         8      208227.8630          30.3766          491.63m\n",
      "         9      208529.0062          24.9437          491.55m\n",
      "        10      207606.7350          24.0723          490.98m\n",
      "        20      207818.7223          18.5167          487.12m\n",
      "        30      207140.7386          13.4110          483.60m\n",
      "        40      206645.7864          13.8387          480.22m\n",
      "        50      206089.6953           6.7423          476.83m\n",
      "        60      205921.0151           6.2079          473.43m\n",
      "        70      205529.1184           5.1611          470.11m\n",
      "        80      205163.9195           5.7110          466.84m\n",
      "        90      205265.9347           3.0810          463.45m\n",
      "       100      205211.5060           3.2110          460.07m\n",
      "       200      204689.4005           3.6487          426.85m\n",
      "       300      203413.9387           0.2295          393.90m\n",
      "       400      203336.7304          -0.3137          361.03m\n",
      "       500      203389.7186          -0.1580          328.19m\n",
      "       600      203567.1361           0.1376          295.33m\n",
      "       700      203191.0776          -0.6060          262.30m\n",
      "       800      202725.0850          -0.3405          229.37m\n",
      "       900      202209.8146           0.0398          196.65m\n",
      "      1000      202469.0061          -0.5164          163.87m\n"
     ]
    },
    {
     "data": {
      "text/plain": [
       "GradientBoostingSurvivalAnalysis(max_depth=2, n_estimators=1500,\n",
       "                                 random_state=42, subsample=0.75, verbose=1)"
      ]
     },
     "execution_count": 284,
     "metadata": {},
     "output_type": "execute_result"
    }
   ],
   "source": [
    "sub_train_mice4_xt = preprocessor_red.fit_transform(sub_train_mice4_x)\n",
    "val_mice4_xt = preprocessor_red.transform(val_mice4_x)\n",
    "\n",
    "gbm_mice4_exp = GradientBoostingSurvivalAnalysis(n_estimators = 1500,\n",
    "                                                 learning_rate = 0.1,\n",
    "                                                 max_depth = 2,\n",
    "                                                 subsample = 0.75,\n",
    "                                                 verbose = 1,\n",
    "                                                 random_state = 42)\n",
    "\n",
    "gbm_mice4_exp.fit(sub_train_mice4_xt, sub_train_y)"
   ]
  },
  {
   "cell_type": "code",
   "execution_count": 285,
   "id": "ad4b63c3",
   "metadata": {},
   "outputs": [],
   "source": [
    "gbm4_staged_auc = [cumulative_dynamic_auc(sub_train_y, val_y, risk_score, 365)[0][0] for \n",
    "                   risk_score in gbm_mice4_exp.staged_predict(val_mice4_xt)]"
   ]
  },
  {
   "cell_type": "code",
   "execution_count": 286,
   "id": "e11178f5",
   "metadata": {},
   "outputs": [],
   "source": [
    "gbm4_staged_auc_tr = [cumulative_dynamic_auc(sub_train_y, sub_train_y, risk_score, 365)[0][0] for \n",
    "                      risk_score in gbm_mice4_exp.staged_predict(sub_train_mice4_xt)]"
   ]
  },
  {
   "cell_type": "code",
   "execution_count": 287,
   "id": "0b3df540",
   "metadata": {},
   "outputs": [
    {
     "data": {
      "image/png": "[encoded data removed]",
      "text/plain": [
       "<Figure size 640x480 with 1 Axes>"
      ]
     },
     "metadata": {},
     "output_type": "display_data"
    }
   ],
   "source": [
    "fig = plt.figure()\n",
    "ax = fig.add_subplot(1, 1, 1)\n",
    "\n",
    "x = range(len(gbm4_staged_auc))\n",
    "plt.plot(x, gbm4_staged_auc, color = 'blue', label = 'validation')\n",
    "plt.plot(x, gbm4_staged_auc_tr, color = 'red', label = 'training')\n",
    "plt.legend(loc = 'lower right')\n",
    "\n",
    "plt.xlabel(\"n_estimators\")\n",
    "plt.ylabel(\"AUC at 1-year \")\n",
    "plt.title('Gradient boosting model learning curve for mice4')\n",
    "\n",
    "plt.show()"
   ]
  },
  {
   "cell_type": "code",
   "execution_count": 288,
   "id": "e53ca8ad",
   "metadata": {},
   "outputs": [],
   "source": [
    "# Average AUC for every 25 additional trees. \n",
    "mean_auc_list = []\n",
    "for x in np.arange(0, len(gbm4_staged_auc), 25):\n",
    "    mean_auc_list.append(np.mean(gbm4_staged_auc[x:x+24]))"
   ]
  },
  {
   "cell_type": "code",
   "execution_count": 289,
   "id": "30bbd808",
   "metadata": {},
   "outputs": [
    {
     "name": "stdout",
     "output_type": "stream",
     "text": [
      "Number of trees where 1 year AUC on validation dataset beings to downgrade: 975\n",
      "Validation dataset AUC before degrading: 0.7910297113241089\n",
      "Training dataset AUC before degrading: 0.8111584291886118\n"
     ]
    }
   ],
   "source": [
    "print('Number of trees where 1 year AUC on validation dataset beings to downgrade:', np.where(np.diff(mean_auc_list) < 0)[0][0]*25)\n",
    "print('Validation dataset AUC before degrading:', gbm4_staged_auc[np.where(np.diff(mean_auc_list) < 0)[0][0]*25])\n",
    "print('Training dataset AUC before degrading:', gbm4_staged_auc_tr[np.where(np.diff(mean_auc_list) < 0)[0][0]*25])"
   ]
  },
  {
   "cell_type": "markdown",
   "id": "80614ffe",
   "metadata": {},
   "source": [
    "#### Model building and performance asssessment "
   ]
  },
  {
   "cell_type": "code",
   "execution_count": 290,
   "id": "db0a6a91",
   "metadata": {},
   "outputs": [
    {
     "name": "stdout",
     "output_type": "stream",
     "text": [
      "      Iter       Train Loss      OOB Improve   Remaining Time \n",
      "         1      286788.0456          59.4138          560.68m\n",
      "         2      287099.6362          54.1419          560.06m\n",
      "         3      287061.1060          48.6958          559.37m\n",
      "         4      286800.4287          47.6881          558.74m\n",
      "         5      286631.1282          47.9259          558.29m\n",
      "         6      285637.3636          38.7074          557.57m\n",
      "         7      286193.6979          33.7046          557.15m\n",
      "         8      285800.6403          36.6317          556.79m\n",
      "         9      286497.9675          36.3053          556.13m\n",
      "        10      285933.8218          48.1664          555.54m\n",
      "        20      284816.9116          22.7257          549.73m\n",
      "        30      284514.7873          14.5039          543.90m\n",
      "        40      283994.2246          14.1791          538.40m\n",
      "        50      283132.9016           8.0896          533.19m\n",
      "        60      282609.4772           8.6942          528.38m\n",
      "        70      282716.9402           8.2967          523.56m\n",
      "        80      282530.7239           5.1389          518.51m\n",
      "        90      282119.1602           5.0929          512.95m\n",
      "       100      281646.3739           4.1713          507.18m\n",
      "       200      281415.6458           1.4946          450.26m\n",
      "       300      280146.1621          -0.1885          392.60m\n",
      "       400      280024.2215          -0.1659          334.70m\n",
      "       500      279866.8548          -0.1867          276.69m\n",
      "       600      279342.5050          -0.6068          218.65m\n",
      "       700      279700.3959          -0.2484          160.45m\n",
      "       800      278685.4239          -0.6020          102.15m\n",
      "       900      278704.9785          -0.7877           43.78m\n"
     ]
    },
    {
     "data": {
      "text/plain": [
       "Pipeline(steps=[('columntransformer',\n",
       "                 ColumnTransformer(remainder='passthrough',\n",
       "                                   transformers=[('num',\n",
       "                                                  Pipeline(steps=[('std_scaler',\n",
       "                                                                   StandardScaler())]),\n",
       "                                                  ['age', 'delta_adv_diagnosis',\n",
       "                                                   'weight_diag', 'bmi_diag',\n",
       "                                                   'weight_pct_change',\n",
       "                                                   'weight_slope',\n",
       "                                                   'albumin_diag', 'alp_diag',\n",
       "                                                   'alt_diag', 'ast_diag',\n",
       "                                                   'bicarb_diag', 'bun_diag',\n",
       "                                                   'calcium_diag',\n",
       "                                                   'chloride_diag',\n",
       "                                                   'creati...\n",
       "                                                   'wbc_max', 'albumin_min', ...]),\n",
       "                                                 ('cat',\n",
       "                                                  OneHotEncoder(handle_unknown='ignore'),\n",
       "                                                  ['PracticeType', 'gender',\n",
       "                                                   'Histology', 'SmokingStatus',\n",
       "                                                   'stage', 'adv_year', 'ALK',\n",
       "                                                   'BRAF', 'EGFR', 'KRAS',\n",
       "                                                   'ROS1', 'pdl1', 'pdl1_n',\n",
       "                                                   'ecog_diagnosis'])])),\n",
       "                ('gradientboostingsurvivalanalysis',\n",
       "                 GradientBoostingSurvivalAnalysis(max_depth=2, n_estimators=975,\n",
       "                                                  random_state=42,\n",
       "                                                  subsample=0.75, verbose=1))])"
      ]
     },
     "execution_count": 290,
     "metadata": {},
     "output_type": "execute_result"
    }
   ],
   "source": [
    "gbm_mice4 = make_pipeline(preprocessor_red, GradientBoostingSurvivalAnalysis(n_estimators = np.where(np.diff(mean_auc_list) < 0)[0][0]*25,\n",
    "                                                                             learning_rate = 0.1,\n",
    "                                                                             max_depth = 2,\n",
    "                                                                             subsample = 0.75,\n",
    "                                                                             verbose = 1,\n",
    "                                                                             random_state = 42))\n",
    "\n",
    "gbm_mice4.fit(train_mice4_x, train_y)"
   ]
  },
  {
   "cell_type": "code",
   "execution_count": 291,
   "id": "93c5ce2c",
   "metadata": {},
   "outputs": [
    {
     "data": {
      "text/plain": [
       "['gbm_mice4.joblib']"
      ]
     },
     "execution_count": 291,
     "metadata": {},
     "output_type": "execute_result"
    }
   ],
   "source": [
    "dump(gbm_mice4, 'gbm_mice4.joblib') "
   ]
  },
  {
   "cell_type": "code",
   "execution_count": 292,
   "id": "904079eb",
   "metadata": {},
   "outputs": [
    {
     "name": "stdout",
     "output_type": "stream",
     "text": [
      "Test set AUC at 1 year: 0.789718457594852\n"
     ]
    }
   ],
   "source": [
    "gbm_risk_scores_te = gbm_mice4.predict(test_mice_x)\n",
    "gbm_auc_te = cumulative_dynamic_auc(train_y, test_y, gbm_risk_scores_te, 365)[0][0]\n",
    "print('Test set AUC at 1 year:', gbm_auc_te)"
   ]
  },
  {
   "cell_type": "code",
   "execution_count": 293,
   "id": "1832244a",
   "metadata": {},
   "outputs": [
    {
     "name": "stdout",
     "output_type": "stream",
     "text": [
      "Training set AUC at 1 year: 0.8064160844336896\n"
     ]
    }
   ],
   "source": [
    "gbm_risk_scores_tr = gbm_mice4.predict(train_mice4_x)\n",
    "gbm_auc_tr = cumulative_dynamic_auc(train_y, train_y, gbm_risk_scores_tr, 365)[0][0]\n",
    "print('Training set AUC at 1 year:', gbm_auc_tr)"
   ]
  },
  {
   "cell_type": "code",
   "execution_count": 294,
   "id": "d264c3a4",
   "metadata": {},
   "outputs": [],
   "source": [
    "# Bootstrap 10000 1 yr AUCs for test set \n",
    "n_bootstraps = 10000\n",
    "rng_seed = 42 \n",
    "bootstrapped_scores_te = []\n",
    "\n",
    "rng = np.random.RandomState(rng_seed)\n",
    "for i in range(n_bootstraps):\n",
    "    indices = rng.randint(0, len(gbm_risk_scores_te), len(gbm_risk_scores_te))\n",
    "    auc_yr = cumulative_dynamic_auc(train_y, test_y[indices], gbm_risk_scores_te[indices], 365)[0][0]\n",
    "    bootstrapped_scores_te.append(auc_yr)"
   ]
  },
  {
   "cell_type": "code",
   "execution_count": 295,
   "id": "65438d90",
   "metadata": {},
   "outputs": [
    {
     "name": "stdout",
     "output_type": "stream",
     "text": [
      "Test set AUC standard error: 0.0018438017645693453\n"
     ]
    }
   ],
   "source": [
    "# Standard error of mean for test set AUC\n",
    "sorted_scores_te = np.array(bootstrapped_scores_te)\n",
    "sorted_scores_te.sort()\n",
    "\n",
    "conf_lower_te = sorted_scores_te[int(0.025 * len(sorted_scores_te))]\n",
    "conf_upper_te = sorted_scores_te[int(0.975 * len(sorted_scores_te))]\n",
    "\n",
    "standard_error_te = (conf_upper_te - conf_lower_te) / 3.92\n",
    "print('Test set AUC standard error:', standard_error_te)"
   ]
  },
  {
   "cell_type": "code",
   "execution_count": 296,
   "id": "8fbc4bea",
   "metadata": {},
   "outputs": [],
   "source": [
    "# Bootstrap 10000 1-yr AUCs for train set \n",
    "n_bootstraps = 10000\n",
    "rng_seed = 42 \n",
    "bootstrapped_scores_tr = []\n",
    "\n",
    "rng = np.random.RandomState(rng_seed)\n",
    "for i in range(n_bootstraps):\n",
    "    indices = rng.randint(0, len(gbm_risk_scores_tr), len(gbm_risk_scores_tr))\n",
    "    auc_yr = cumulative_dynamic_auc(train_y, train_y[indices], gbm_risk_scores_tr[indices], 365)[0][0]\n",
    "    bootstrapped_scores_tr.append(auc_yr)"
   ]
  },
  {
   "cell_type": "code",
   "execution_count": 297,
   "id": "35d27178",
   "metadata": {},
   "outputs": [
    {
     "name": "stdout",
     "output_type": "stream",
     "text": [
      "Training set AUC standard error 0.0019410387469600374\n"
     ]
    }
   ],
   "source": [
    "# Standard error of mean for train set AUC\n",
    "sorted_scores_tr = np.array(bootstrapped_scores_tr)\n",
    "sorted_scores_tr.sort()\n",
    "\n",
    "conf_lower_tr = sorted_scores_tr[int(0.025 * len(sorted_scores_tr))]\n",
    "conf_upper_tr = sorted_scores_tr[int(0.975 * len(sorted_scores_tr))]\n",
    "\n",
    "standard_error_tr = (conf_upper_tr - conf_lower_tr) / 3.92\n",
    "print('Training set AUC standard error', standard_error_tr)"
   ]
  },
  {
   "cell_type": "code",
   "execution_count": 298,
   "id": "4422faf4",
   "metadata": {},
   "outputs": [],
   "source": [
    "mice_auc_data = {'mice_dataset': 'mice_4',\n",
    "                 'auc_1yr_te': gbm_auc_te,\n",
    "                 'sem_te': standard_error_te,\n",
    "                 'auc_1yr_tr': gbm_auc_tr,\n",
    "                 'sem_tr': standard_error_tr}\n",
    "\n",
    "mice_auc_df = mice_auc_df.append(mice_auc_data, ignore_index = True)"
   ]
  },
  {
   "cell_type": "code",
   "execution_count": 299,
   "id": "ac8cac7d",
   "metadata": {},
   "outputs": [
    {
     "data": {
      "text/html": [
       "<div>\n",
       "<style scoped>\n",
       "    .dataframe tbody tr th:only-of-type {\n",
       "        vertical-align: middle;\n",
       "    }\n",
       "\n",
       "    .dataframe tbody tr th {\n",
       "        vertical-align: top;\n",
       "    }\n",
       "\n",
       "    .dataframe thead th {\n",
       "        text-align: right;\n",
       "    }\n",
       "</style>\n",
       "<table border=\"1\" class=\"dataframe\">\n",
       "  <thead>\n",
       "    <tr style=\"text-align: right;\">\n",
       "      <th></th>\n",
       "      <th>mice_dataset</th>\n",
       "      <th>auc_1yr_te</th>\n",
       "      <th>sem_te</th>\n",
       "      <th>auc_1yr_tr</th>\n",
       "      <th>sem_tr</th>\n",
       "    </tr>\n",
       "  </thead>\n",
       "  <tbody>\n",
       "    <tr>\n",
       "      <th>0</th>\n",
       "      <td>mice_0</td>\n",
       "      <td>0.786069</td>\n",
       "      <td>0.001868</td>\n",
       "      <td>0.798416</td>\n",
       "      <td>0.002002</td>\n",
       "    </tr>\n",
       "    <tr>\n",
       "      <th>1</th>\n",
       "      <td>mice_1</td>\n",
       "      <td>0.790948</td>\n",
       "      <td>0.001852</td>\n",
       "      <td>0.809369</td>\n",
       "      <td>0.001931</td>\n",
       "    </tr>\n",
       "    <tr>\n",
       "      <th>2</th>\n",
       "      <td>mice_2</td>\n",
       "      <td>0.790420</td>\n",
       "      <td>0.001856</td>\n",
       "      <td>0.808537</td>\n",
       "      <td>0.001942</td>\n",
       "    </tr>\n",
       "    <tr>\n",
       "      <th>3</th>\n",
       "      <td>mice_3</td>\n",
       "      <td>0.790033</td>\n",
       "      <td>0.001852</td>\n",
       "      <td>0.810025</td>\n",
       "      <td>0.001938</td>\n",
       "    </tr>\n",
       "    <tr>\n",
       "      <th>4</th>\n",
       "      <td>mice_4</td>\n",
       "      <td>0.789718</td>\n",
       "      <td>0.001844</td>\n",
       "      <td>0.806416</td>\n",
       "      <td>0.001941</td>\n",
       "    </tr>\n",
       "  </tbody>\n",
       "</table>\n",
       "</div>"
      ],
      "text/plain": [
       "  mice_dataset  auc_1yr_te    sem_te  auc_1yr_tr    sem_tr\n",
       "0       mice_0    0.786069  0.001868    0.798416  0.002002\n",
       "1       mice_1    0.790948  0.001852    0.809369  0.001931\n",
       "2       mice_2    0.790420  0.001856    0.808537  0.001942\n",
       "3       mice_3    0.790033  0.001852    0.810025  0.001938\n",
       "4       mice_4    0.789718  0.001844    0.806416  0.001941"
      ]
     },
     "execution_count": 299,
     "metadata": {},
     "output_type": "execute_result"
    }
   ],
   "source": [
    "mice_auc_df "
   ]
  },
  {
   "cell_type": "code",
   "execution_count": 300,
   "id": "70411382",
   "metadata": {},
   "outputs": [],
   "source": [
    "mice_auc_df.to_csv('mice_auc_df.csv', index = False, header = True)"
   ]
  },
  {
   "cell_type": "code",
   "execution_count": 301,
   "id": "f8d0e628",
   "metadata": {},
   "outputs": [],
   "source": [
    "times = np.arange(30, 1810, 30)\n",
    "mice4_auc_over5 = cumulative_dynamic_auc(train_y, test_y, gbm_risk_scores_te, times)[0]\n",
    "\n",
    "times_data = {}\n",
    "values = mice4_auc_over5\n",
    "time_names = []\n",
    "\n",
    "for x in range(len(times)):\n",
    "    time_names.append('time_'+str(times[x]))\n",
    "\n",
    "for i in range(len(time_names)):\n",
    "    times_data[time_names[i]] = values[i]\n",
    "    \n",
    "mice4_auc_over5_df = pd.DataFrame(times_data, index = ['mice_4'])\n",
    "\n",
    "mice_auc_over5 = mice_auc_over5.append(mice4_auc_over5_df, ignore_index = False)"
   ]
  },
  {
   "cell_type": "code",
   "execution_count": 302,
   "id": "8fd14072",
   "metadata": {},
   "outputs": [
    {
     "data": {
      "text/html": [
       "<div>\n",
       "<style scoped>\n",
       "    .dataframe tbody tr th:only-of-type {\n",
       "        vertical-align: middle;\n",
       "    }\n",
       "\n",
       "    .dataframe tbody tr th {\n",
       "        vertical-align: top;\n",
       "    }\n",
       "\n",
       "    .dataframe thead th {\n",
       "        text-align: right;\n",
       "    }\n",
       "</style>\n",
       "<table border=\"1\" class=\"dataframe\">\n",
       "  <thead>\n",
       "    <tr style=\"text-align: right;\">\n",
       "      <th></th>\n",
       "      <th>time_30</th>\n",
       "      <th>time_60</th>\n",
       "      <th>time_90</th>\n",
       "      <th>time_120</th>\n",
       "      <th>time_150</th>\n",
       "      <th>time_180</th>\n",
       "      <th>time_210</th>\n",
       "      <th>time_240</th>\n",
       "      <th>time_270</th>\n",
       "      <th>time_300</th>\n",
       "      <th>...</th>\n",
       "      <th>time_1530</th>\n",
       "      <th>time_1560</th>\n",
       "      <th>time_1590</th>\n",
       "      <th>time_1620</th>\n",
       "      <th>time_1650</th>\n",
       "      <th>time_1680</th>\n",
       "      <th>time_1710</th>\n",
       "      <th>time_1740</th>\n",
       "      <th>time_1770</th>\n",
       "      <th>time_1800</th>\n",
       "    </tr>\n",
       "  </thead>\n",
       "  <tbody>\n",
       "    <tr>\n",
       "      <th>mice_0</th>\n",
       "      <td>0.851515</td>\n",
       "      <td>0.854784</td>\n",
       "      <td>0.842271</td>\n",
       "      <td>0.833397</td>\n",
       "      <td>0.828669</td>\n",
       "      <td>0.820531</td>\n",
       "      <td>0.811525</td>\n",
       "      <td>0.803604</td>\n",
       "      <td>0.796979</td>\n",
       "      <td>0.791989</td>\n",
       "      <td>...</td>\n",
       "      <td>0.741462</td>\n",
       "      <td>0.740587</td>\n",
       "      <td>0.740732</td>\n",
       "      <td>0.739575</td>\n",
       "      <td>0.740620</td>\n",
       "      <td>0.741634</td>\n",
       "      <td>0.742895</td>\n",
       "      <td>0.742324</td>\n",
       "      <td>0.739519</td>\n",
       "      <td>0.742961</td>\n",
       "    </tr>\n",
       "    <tr>\n",
       "      <th>mice_1</th>\n",
       "      <td>0.854513</td>\n",
       "      <td>0.862991</td>\n",
       "      <td>0.849394</td>\n",
       "      <td>0.838282</td>\n",
       "      <td>0.832390</td>\n",
       "      <td>0.824517</td>\n",
       "      <td>0.815171</td>\n",
       "      <td>0.808297</td>\n",
       "      <td>0.801615</td>\n",
       "      <td>0.796968</td>\n",
       "      <td>...</td>\n",
       "      <td>0.748372</td>\n",
       "      <td>0.747752</td>\n",
       "      <td>0.748136</td>\n",
       "      <td>0.747195</td>\n",
       "      <td>0.748417</td>\n",
       "      <td>0.749233</td>\n",
       "      <td>0.750629</td>\n",
       "      <td>0.750300</td>\n",
       "      <td>0.748308</td>\n",
       "      <td>0.751557</td>\n",
       "    </tr>\n",
       "    <tr>\n",
       "      <th>mice_2</th>\n",
       "      <td>0.862315</td>\n",
       "      <td>0.864126</td>\n",
       "      <td>0.849871</td>\n",
       "      <td>0.838976</td>\n",
       "      <td>0.833042</td>\n",
       "      <td>0.825244</td>\n",
       "      <td>0.815636</td>\n",
       "      <td>0.808106</td>\n",
       "      <td>0.801610</td>\n",
       "      <td>0.796822</td>\n",
       "      <td>...</td>\n",
       "      <td>0.744793</td>\n",
       "      <td>0.744179</td>\n",
       "      <td>0.744571</td>\n",
       "      <td>0.743691</td>\n",
       "      <td>0.744533</td>\n",
       "      <td>0.745597</td>\n",
       "      <td>0.746786</td>\n",
       "      <td>0.746533</td>\n",
       "      <td>0.744556</td>\n",
       "      <td>0.747807</td>\n",
       "    </tr>\n",
       "    <tr>\n",
       "      <th>mice_3</th>\n",
       "      <td>0.860280</td>\n",
       "      <td>0.865492</td>\n",
       "      <td>0.851130</td>\n",
       "      <td>0.840363</td>\n",
       "      <td>0.834217</td>\n",
       "      <td>0.825804</td>\n",
       "      <td>0.815937</td>\n",
       "      <td>0.808707</td>\n",
       "      <td>0.801859</td>\n",
       "      <td>0.796962</td>\n",
       "      <td>...</td>\n",
       "      <td>0.742296</td>\n",
       "      <td>0.741877</td>\n",
       "      <td>0.742087</td>\n",
       "      <td>0.741172</td>\n",
       "      <td>0.741561</td>\n",
       "      <td>0.743051</td>\n",
       "      <td>0.744552</td>\n",
       "      <td>0.744155</td>\n",
       "      <td>0.741812</td>\n",
       "      <td>0.744497</td>\n",
       "    </tr>\n",
       "    <tr>\n",
       "      <th>mice_4</th>\n",
       "      <td>0.856260</td>\n",
       "      <td>0.861240</td>\n",
       "      <td>0.848552</td>\n",
       "      <td>0.838521</td>\n",
       "      <td>0.832636</td>\n",
       "      <td>0.824007</td>\n",
       "      <td>0.814635</td>\n",
       "      <td>0.807479</td>\n",
       "      <td>0.800763</td>\n",
       "      <td>0.795913</td>\n",
       "      <td>...</td>\n",
       "      <td>0.742968</td>\n",
       "      <td>0.742121</td>\n",
       "      <td>0.742417</td>\n",
       "      <td>0.741446</td>\n",
       "      <td>0.742271</td>\n",
       "      <td>0.743598</td>\n",
       "      <td>0.745031</td>\n",
       "      <td>0.744227</td>\n",
       "      <td>0.742255</td>\n",
       "      <td>0.745541</td>\n",
       "    </tr>\n",
       "  </tbody>\n",
       "</table>\n",
       "<p>5 rows × 60 columns</p>\n",
       "</div>"
      ],
      "text/plain": [
       "         time_30   time_60   time_90  time_120  time_150  time_180  time_210  \\\n",
       "mice_0  0.851515  0.854784  0.842271  0.833397  0.828669  0.820531  0.811525   \n",
       "mice_1  0.854513  0.862991  0.849394  0.838282  0.832390  0.824517  0.815171   \n",
       "mice_2  0.862315  0.864126  0.849871  0.838976  0.833042  0.825244  0.815636   \n",
       "mice_3  0.860280  0.865492  0.851130  0.840363  0.834217  0.825804  0.815937   \n",
       "mice_4  0.856260  0.861240  0.848552  0.838521  0.832636  0.824007  0.814635   \n",
       "\n",
       "        time_240  time_270  time_300  ...  time_1530  time_1560  time_1590  \\\n",
       "mice_0  0.803604  0.796979  0.791989  ...   0.741462   0.740587   0.740732   \n",
       "mice_1  0.808297  0.801615  0.796968  ...   0.748372   0.747752   0.748136   \n",
       "mice_2  0.808106  0.801610  0.796822  ...   0.744793   0.744179   0.744571   \n",
       "mice_3  0.808707  0.801859  0.796962  ...   0.742296   0.741877   0.742087   \n",
       "mice_4  0.807479  0.800763  0.795913  ...   0.742968   0.742121   0.742417   \n",
       "\n",
       "        time_1620  time_1650  time_1680  time_1710  time_1740  time_1770  \\\n",
       "mice_0   0.739575   0.740620   0.741634   0.742895   0.742324   0.739519   \n",
       "mice_1   0.747195   0.748417   0.749233   0.750629   0.750300   0.748308   \n",
       "mice_2   0.743691   0.744533   0.745597   0.746786   0.746533   0.744556   \n",
       "mice_3   0.741172   0.741561   0.743051   0.744552   0.744155   0.741812   \n",
       "mice_4   0.741446   0.742271   0.743598   0.745031   0.744227   0.742255   \n",
       "\n",
       "        time_1800  \n",
       "mice_0   0.742961  \n",
       "mice_1   0.751557  \n",
       "mice_2   0.747807  \n",
       "mice_3   0.744497  \n",
       "mice_4   0.745541  \n",
       "\n",
       "[5 rows x 60 columns]"
      ]
     },
     "execution_count": 302,
     "metadata": {},
     "output_type": "execute_result"
    }
   ],
   "source": [
    "mice_auc_over5 "
   ]
  },
  {
   "cell_type": "code",
   "execution_count": 303,
   "id": "036443eb",
   "metadata": {},
   "outputs": [],
   "source": [
    "mice_auc_over5.to_csv('mice_auc_over5.csv', index = True, header = True)"
   ]
  },
  {
   "cell_type": "code",
   "execution_count": 304,
   "id": "862ca1f3",
   "metadata": {},
   "outputs": [],
   "source": [
    "# Variables passing through pipeline_rsf\n",
    "cat_encoder = list(preprocessor_red.transformers_[1][1].get_feature_names(categorical_features))\n",
    "pass_through = list(train_mice4_x.iloc[:, preprocessor_red.transformers_[2][2]].columns)\n",
    "attributes_gbm = numerical_features_red + cat_encoder + pass_through"
   ]
  },
  {
   "cell_type": "code",
   "execution_count": 305,
   "id": "c3f66a62",
   "metadata": {},
   "outputs": [
    {
     "name": "stdout",
     "output_type": "stream",
     "text": [
      "Total number of features: 176\n",
      "Number of non-zero features in final model: 136\n"
     ]
    },
    {
     "data": {
      "image/png": "[encoded data removed]",
      "text/plain": [
       "<Figure size 600x800 with 1 Axes>"
      ]
     },
     "metadata": {},
     "output_type": "display_data"
    }
   ],
   "source": [
    "# Dataframe of coefficients for each variable \n",
    "coefficients_mice4 = pd.DataFrame(\n",
    "    gbm_mice4.named_steps['gradientboostingsurvivalanalysis'].feature_importances_,\n",
    "    index = attributes_gbm,\n",
    "    columns = ['coefficient']\n",
    ")\n",
    "\n",
    "print('Total number of features: {}'.format(len(attributes_gbm)))\n",
    "\n",
    "non_zero = np.sum(coefficients_mice4.iloc[:, 0] != 0)\n",
    "print('Number of non-zero features in final model: {}'.format(non_zero))\n",
    "\n",
    "non_zero_coefs = coefficients_mice4.query('coefficient != 0')\n",
    "coef_order = non_zero_coefs.abs().sort_values('coefficient').tail(30).index\n",
    "\n",
    "_, ax = plt.subplots(figsize=(6, 8))\n",
    "non_zero_coefs.loc[coef_order].plot.barh(ax = ax, legend = False)\n",
    "ax.set_xlabel('coefficient')\n",
    "ax.grid(True)"
   ]
  },
  {
   "cell_type": "code",
   "execution_count": 306,
   "id": "2147cb1f",
   "metadata": {},
   "outputs": [],
   "source": [
    "coefficients_mice4_df = (\n",
    "    coefficients_mice4\n",
    "    .reset_index()\n",
    "    .rename(columns = {'index':'variable'}))"
   ]
  },
  {
   "cell_type": "code",
   "execution_count": 307,
   "id": "ac820be8",
   "metadata": {},
   "outputs": [],
   "source": [
    "coefficients_mice = coefficients_mice.append(coefficients_mice4_df, ignore_index = True)"
   ]
  },
  {
   "cell_type": "code",
   "execution_count": 308,
   "id": "6e42a3d2",
   "metadata": {},
   "outputs": [],
   "source": [
    "coefficients_mice.to_csv('coefficients_mice.csv', index = False, header = True)"
   ]
  },
  {
   "cell_type": "markdown",
   "id": "8d11ccfe",
   "metadata": {},
   "source": [
    "### Part 4. Pooling results"
   ]
  },
  {
   "cell_type": "code",
   "execution_count": 309,
   "id": "287e4f2e",
   "metadata": {},
   "outputs": [],
   "source": [
    "from math import sqrt, exp \n",
    "from scipy.stats import t"
   ]
  },
  {
   "cell_type": "code",
   "execution_count": 310,
   "id": "017d832f",
   "metadata": {},
   "outputs": [],
   "source": [
    "# This function is translated from the R package: \"psfmi: Prediction Model Selection and Performance Evaluation in\n",
    "# Multiple Imputed Datasets\"\n",
    "\n",
    "def pool_auc(auc_arr, se_arr, iterations_n):\n",
    "    \n",
    "    # pooled SE using Rubin's rules \n",
    "    def rr_se(est, se, iterations_n):\n",
    "        m = iterations_n\n",
    "        w_auc = np.mean(np.square(se)) # within variance \n",
    "        b_auc = np.var(est) # between variance \n",
    "        tv_auc = w_auc + (1 + (1/m)) * b_auc # total vairance \n",
    "        se_total = sqrt(tv_auc)\n",
    "        r = (1 + (1/ m)) * (b_auc / w_auc)\n",
    "        v = (m - 1) * (1 + (1/r))**2\n",
    "        w = t.ppf(0.975, v) # Percent point function or inverse CDF with df = v\n",
    "        res = np.array([se_total, w])\n",
    "        return(res)\n",
    "    \n",
    "    # log transform\n",
    "    auc_log = np.log(auc_arr / (1-auc_arr))\n",
    "    se_log = se_arr / (auc_arr * (1-auc_arr))\n",
    "    \n",
    "    # input log transfomred auc and se to calculat RR's total se\n",
    "    se_total = rr_se(auc_log, se_log, iterations_n = iterations_n)\n",
    "    \n",
    "    # backtransform \n",
    "    inv_auc = exp(np.mean(auc_log)) / (1 + exp(np.mean(auc_log)))\n",
    "    inv_auc_upper = exp(np.mean(auc_log) + (se_total[1]*se_total[0])) / (1 + exp(np.mean(auc_log) + (se_total[1]*se_total[0])))\n",
    "    inv_auc_lower = exp(np.mean(auc_log) - (se_total[1]*se_total[0])) / (1 + exp(np.mean(auc_log) - (se_total[1]*se_total[0])))\n",
    "    sem = (inv_auc_upper - inv_auc_lower) / 3.92\n",
    "    auc_res = np.round(np.array([inv_auc_lower, inv_auc, inv_auc_upper, sem]), 6)\n",
    "    return(auc_res)"
   ]
  },
  {
   "cell_type": "code",
   "execution_count": 311,
   "id": "42e4a360",
   "metadata": {},
   "outputs": [],
   "source": [
    "mice_auc_df = pd.read_csv('mice_auc_df.csv', dtype = {'auc_1yr_te': np.float64,\n",
    "                                                      'sem_te': np.float64,\n",
    "                                                      'auc_1yr_tr': np.float64,\n",
    "                                                      'sem_tr': np.float64})"
   ]
  },
  {
   "cell_type": "code",
   "execution_count": 312,
   "id": "8b234692",
   "metadata": {},
   "outputs": [
    {
     "data": {
      "text/html": [
       "<div>\n",
       "<style scoped>\n",
       "    .dataframe tbody tr th:only-of-type {\n",
       "        vertical-align: middle;\n",
       "    }\n",
       "\n",
       "    .dataframe tbody tr th {\n",
       "        vertical-align: top;\n",
       "    }\n",
       "\n",
       "    .dataframe thead th {\n",
       "        text-align: right;\n",
       "    }\n",
       "</style>\n",
       "<table border=\"1\" class=\"dataframe\">\n",
       "  <thead>\n",
       "    <tr style=\"text-align: right;\">\n",
       "      <th></th>\n",
       "      <th>mice_dataset</th>\n",
       "      <th>auc_1yr_te</th>\n",
       "      <th>sem_te</th>\n",
       "      <th>auc_1yr_tr</th>\n",
       "      <th>sem_tr</th>\n",
       "    </tr>\n",
       "  </thead>\n",
       "  <tbody>\n",
       "    <tr>\n",
       "      <th>0</th>\n",
       "      <td>mice_0</td>\n",
       "      <td>0.786069</td>\n",
       "      <td>0.001868</td>\n",
       "      <td>0.798416</td>\n",
       "      <td>0.002002</td>\n",
       "    </tr>\n",
       "    <tr>\n",
       "      <th>1</th>\n",
       "      <td>mice_1</td>\n",
       "      <td>0.790948</td>\n",
       "      <td>0.001852</td>\n",
       "      <td>0.809369</td>\n",
       "      <td>0.001931</td>\n",
       "    </tr>\n",
       "    <tr>\n",
       "      <th>2</th>\n",
       "      <td>mice_2</td>\n",
       "      <td>0.790420</td>\n",
       "      <td>0.001856</td>\n",
       "      <td>0.808537</td>\n",
       "      <td>0.001942</td>\n",
       "    </tr>\n",
       "    <tr>\n",
       "      <th>3</th>\n",
       "      <td>mice_3</td>\n",
       "      <td>0.790033</td>\n",
       "      <td>0.001852</td>\n",
       "      <td>0.810025</td>\n",
       "      <td>0.001938</td>\n",
       "    </tr>\n",
       "    <tr>\n",
       "      <th>4</th>\n",
       "      <td>mice_4</td>\n",
       "      <td>0.789718</td>\n",
       "      <td>0.001844</td>\n",
       "      <td>0.806416</td>\n",
       "      <td>0.001941</td>\n",
       "    </tr>\n",
       "  </tbody>\n",
       "</table>\n",
       "</div>"
      ],
      "text/plain": [
       "  mice_dataset  auc_1yr_te    sem_te  auc_1yr_tr    sem_tr\n",
       "0       mice_0    0.786069  0.001868    0.798416  0.002002\n",
       "1       mice_1    0.790948  0.001852    0.809369  0.001931\n",
       "2       mice_2    0.790420  0.001856    0.808537  0.001942\n",
       "3       mice_3    0.790033  0.001852    0.810025  0.001938\n",
       "4       mice_4    0.789718  0.001844    0.806416  0.001941"
      ]
     },
     "execution_count": 312,
     "metadata": {},
     "output_type": "execute_result"
    }
   ],
   "source": [
    "mice_auc_df"
   ]
  },
  {
   "cell_type": "code",
   "execution_count": 313,
   "id": "821ebac5",
   "metadata": {},
   "outputs": [
    {
     "name": "stdout",
     "output_type": "stream",
     "text": [
      "[0.783753 0.789443 0.795022 0.002875]\n"
     ]
    }
   ],
   "source": [
    "pool_auc_test = pool_auc(mice_auc_df['auc_1yr_te'].values, \n",
    "                         mice_auc_df['sem_te'].values, \n",
    "                         5)\n",
    "\n",
    "print(pool_auc_test)"
   ]
  },
  {
   "cell_type": "code",
   "execution_count": 314,
   "id": "4fd678fe",
   "metadata": {},
   "outputs": [
    {
     "name": "stdout",
     "output_type": "stream",
     "text": [
      "[0.793807 0.806588 0.818757 0.006365]\n"
     ]
    }
   ],
   "source": [
    "pool_auc_train = pool_auc(mice_auc_df['auc_1yr_tr'].values,\n",
    "                          mice_auc_df['sem_tr'].values,\n",
    "                          5)\n",
    "\n",
    "print(pool_auc_train)"
   ]
  },
  {
   "cell_type": "code",
   "execution_count": 315,
   "id": "a1e0ca3c",
   "metadata": {},
   "outputs": [],
   "source": [
    "crude_auc_df = pd.read_csv('crude_auc_df.csv', dtype = {'auc_1yr_te': np.float64,\n",
    "                                                        'sem_te': np.float64,\n",
    "                                                        'auc_1yr_tr': np.float64,\n",
    "                                                        'sem_tr': np.float64})"
   ]
  },
  {
   "cell_type": "code",
   "execution_count": 316,
   "id": "576d3e9e",
   "metadata": {},
   "outputs": [
    {
     "data": {
      "text/html": [
       "<div>\n",
       "<style scoped>\n",
       "    .dataframe tbody tr th:only-of-type {\n",
       "        vertical-align: middle;\n",
       "    }\n",
       "\n",
       "    .dataframe tbody tr th {\n",
       "        vertical-align: top;\n",
       "    }\n",
       "\n",
       "    .dataframe thead th {\n",
       "        text-align: right;\n",
       "    }\n",
       "</style>\n",
       "<table border=\"1\" class=\"dataframe\">\n",
       "  <thead>\n",
       "    <tr style=\"text-align: right;\">\n",
       "      <th></th>\n",
       "      <th>model</th>\n",
       "      <th>auc_1yr_te</th>\n",
       "      <th>sem_te</th>\n",
       "      <th>auc_1yr_tr</th>\n",
       "      <th>sem_tr</th>\n",
       "    </tr>\n",
       "  </thead>\n",
       "  <tbody>\n",
       "    <tr>\n",
       "      <th>0</th>\n",
       "      <td>gbm_crude</td>\n",
       "      <td>0.782685</td>\n",
       "      <td>0.004171</td>\n",
       "      <td>0.787751</td>\n",
       "      <td>0.002043</td>\n",
       "    </tr>\n",
       "    <tr>\n",
       "      <th>1</th>\n",
       "      <td>rsf_crude</td>\n",
       "      <td>0.773166</td>\n",
       "      <td>0.004229</td>\n",
       "      <td>0.873461</td>\n",
       "      <td>0.001575</td>\n",
       "    </tr>\n",
       "    <tr>\n",
       "      <th>2</th>\n",
       "      <td>ridge_crude</td>\n",
       "      <td>0.746763</td>\n",
       "      <td>0.004451</td>\n",
       "      <td>0.751174</td>\n",
       "      <td>0.002195</td>\n",
       "    </tr>\n",
       "    <tr>\n",
       "      <th>3</th>\n",
       "      <td>lasso_crude</td>\n",
       "      <td>0.733723</td>\n",
       "      <td>0.004564</td>\n",
       "      <td>0.735276</td>\n",
       "      <td>0.002253</td>\n",
       "    </tr>\n",
       "    <tr>\n",
       "      <th>4</th>\n",
       "      <td>enet_crude</td>\n",
       "      <td>0.733416</td>\n",
       "      <td>0.004565</td>\n",
       "      <td>0.735011</td>\n",
       "      <td>0.002250</td>\n",
       "    </tr>\n",
       "    <tr>\n",
       "      <th>5</th>\n",
       "      <td>linear_svm_crude</td>\n",
       "      <td>0.740796</td>\n",
       "      <td>0.004516</td>\n",
       "      <td>0.746616</td>\n",
       "      <td>0.002180</td>\n",
       "    </tr>\n",
       "  </tbody>\n",
       "</table>\n",
       "</div>"
      ],
      "text/plain": [
       "              model  auc_1yr_te    sem_te  auc_1yr_tr    sem_tr\n",
       "0         gbm_crude    0.782685  0.004171    0.787751  0.002043\n",
       "1         rsf_crude    0.773166  0.004229    0.873461  0.001575\n",
       "2       ridge_crude    0.746763  0.004451    0.751174  0.002195\n",
       "3       lasso_crude    0.733723  0.004564    0.735276  0.002253\n",
       "4        enet_crude    0.733416  0.004565    0.735011  0.002250\n",
       "5  linear_svm_crude    0.740796  0.004516    0.746616  0.002180"
      ]
     },
     "execution_count": 316,
     "metadata": {},
     "output_type": "execute_result"
    }
   ],
   "source": [
    "crude_auc_df"
   ]
  },
  {
   "cell_type": "code",
   "execution_count": 317,
   "id": "91ca4995",
   "metadata": {},
   "outputs": [],
   "source": [
    "mice_auc_data = {'model': 'gbm_mice',\n",
    "                 'auc_1yr_te': pool_auc_test[1],\n",
    "                 'sem_te': pool_auc_test[3],\n",
    "                 'auc_1yr_tr': pool_auc_train[1],\n",
    "                 'sem_tr': pool_auc_train[3]}"
   ]
  },
  {
   "cell_type": "code",
   "execution_count": 318,
   "id": "e3a19dd1",
   "metadata": {},
   "outputs": [],
   "source": [
    "ml_auc_df = crude_auc_df.append(mice_auc_data, ignore_index = True)"
   ]
  },
  {
   "cell_type": "code",
   "execution_count": 319,
   "id": "ea194b2b",
   "metadata": {},
   "outputs": [
    {
     "data": {
      "text/html": [
       "<div>\n",
       "<style scoped>\n",
       "    .dataframe tbody tr th:only-of-type {\n",
       "        vertical-align: middle;\n",
       "    }\n",
       "\n",
       "    .dataframe tbody tr th {\n",
       "        vertical-align: top;\n",
       "    }\n",
       "\n",
       "    .dataframe thead th {\n",
       "        text-align: right;\n",
       "    }\n",
       "</style>\n",
       "<table border=\"1\" class=\"dataframe\">\n",
       "  <thead>\n",
       "    <tr style=\"text-align: right;\">\n",
       "      <th></th>\n",
       "      <th>model</th>\n",
       "      <th>auc_1yr_te</th>\n",
       "      <th>sem_te</th>\n",
       "      <th>auc_1yr_tr</th>\n",
       "      <th>sem_tr</th>\n",
       "    </tr>\n",
       "  </thead>\n",
       "  <tbody>\n",
       "    <tr>\n",
       "      <th>6</th>\n",
       "      <td>gbm_mice</td>\n",
       "      <td>0.789443</td>\n",
       "      <td>0.002875</td>\n",
       "      <td>0.806588</td>\n",
       "      <td>0.006365</td>\n",
       "    </tr>\n",
       "    <tr>\n",
       "      <th>0</th>\n",
       "      <td>gbm_crude</td>\n",
       "      <td>0.782685</td>\n",
       "      <td>0.004171</td>\n",
       "      <td>0.787751</td>\n",
       "      <td>0.002043</td>\n",
       "    </tr>\n",
       "    <tr>\n",
       "      <th>1</th>\n",
       "      <td>rsf_crude</td>\n",
       "      <td>0.773166</td>\n",
       "      <td>0.004229</td>\n",
       "      <td>0.873461</td>\n",
       "      <td>0.001575</td>\n",
       "    </tr>\n",
       "    <tr>\n",
       "      <th>2</th>\n",
       "      <td>ridge_crude</td>\n",
       "      <td>0.746763</td>\n",
       "      <td>0.004451</td>\n",
       "      <td>0.751174</td>\n",
       "      <td>0.002195</td>\n",
       "    </tr>\n",
       "    <tr>\n",
       "      <th>5</th>\n",
       "      <td>linear_svm_crude</td>\n",
       "      <td>0.740796</td>\n",
       "      <td>0.004516</td>\n",
       "      <td>0.746616</td>\n",
       "      <td>0.002180</td>\n",
       "    </tr>\n",
       "    <tr>\n",
       "      <th>3</th>\n",
       "      <td>lasso_crude</td>\n",
       "      <td>0.733723</td>\n",
       "      <td>0.004564</td>\n",
       "      <td>0.735276</td>\n",
       "      <td>0.002253</td>\n",
       "    </tr>\n",
       "    <tr>\n",
       "      <th>4</th>\n",
       "      <td>enet_crude</td>\n",
       "      <td>0.733416</td>\n",
       "      <td>0.004565</td>\n",
       "      <td>0.735011</td>\n",
       "      <td>0.002250</td>\n",
       "    </tr>\n",
       "  </tbody>\n",
       "</table>\n",
       "</div>"
      ],
      "text/plain": [
       "              model  auc_1yr_te    sem_te  auc_1yr_tr    sem_tr\n",
       "6          gbm_mice    0.789443  0.002875    0.806588  0.006365\n",
       "0         gbm_crude    0.782685  0.004171    0.787751  0.002043\n",
       "1         rsf_crude    0.773166  0.004229    0.873461  0.001575\n",
       "2       ridge_crude    0.746763  0.004451    0.751174  0.002195\n",
       "5  linear_svm_crude    0.740796  0.004516    0.746616  0.002180\n",
       "3       lasso_crude    0.733723  0.004564    0.735276  0.002253\n",
       "4        enet_crude    0.733416  0.004565    0.735011  0.002250"
      ]
     },
     "execution_count": 319,
     "metadata": {},
     "output_type": "execute_result"
    }
   ],
   "source": [
    "ml_auc_df.sort_values(by = 'auc_1yr_te', ascending = False)"
   ]
  },
  {
   "cell_type": "code",
   "execution_count": 320,
   "id": "bc652462",
   "metadata": {},
   "outputs": [],
   "source": [
    "ml_auc_df.to_csv('ml_auc_df.csv', index = False, header = True)"
   ]
  }
 ],
 "metadata": {
  "kernelspec": {
   "display_name": "My Virtual Environment",
   "language": "python",
   "name": "myenv"
  },
  "language_info": {
   "codemirror_mode": {
    "name": "ipython",
    "version": 3
   },
   "file_extension": ".py",
   "mimetype": "text/x-python",
   "name": "python",
   "nbconvert_exporter": "python",
   "pygments_lexer": "ipython3",
   "version": "3.7.10"
  }
 },
 "nbformat": 4,
 "nbformat_minor": 5
}
