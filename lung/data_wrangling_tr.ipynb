{
 "cells": [
  {
   "cell_type": "markdown",
   "metadata": {},
   "source": [
    "# Flatiron Health aNSCLC: Data Wrangling Training Set\n",
    "\n",
    "**OBJECTIVE: Identify a training cohort and create a dataframe of relevant variables which can be used to build machine learning survival models.**\n",
    "\n",
    "**BACKGROUND: There are three main sections to this notebook. First, the final cohort will then be split 80-20 into a training and test set. Given the rise of immunotherapy treatment in the past 5 years and increasing data missingness in the earlier years, the split will ensure the distribution of diagnosis years is the same in the training and test set.**\n",
    "\n",
    "**After identifiying the final cohort in the training set, the second part of this notebook involves reading CSV files from Flatiron and preparing the dataframes so that each row corresponds to a unique patient from the training set and each column is a relevant variable for mortality prognositication. There are 10 CSV files from Flatiron that will be used. Flatiron files that won't be used are treatment, progression data, and visits. The eligibility window for collecting variables is -90 days and +30 days from index date, which is time of advanced diagnosis. Plus 30 was selected as the upper bound of the eligibility window given that median time to start of first line treatment is 32 days from time of advanced diagnosis.**\n",
    "\n",
    "**Lastly, the processed dataframes for patients in the training set will be merged into a master dataframe which will be saved and later used for building machine learning survival models.** \n",
    "\n",
    "**Missing data will be handled in the machine learning building notebooks.** \n",
    "\n",
    "**OUTLINE:**\n",
    "1. **Creating training and test cohort**\n",
    "2. **File cleaning for patients in training set**\n",
    "3. **Merge files to create master training dataframe**"
   ]
  },
  {
   "cell_type": "code",
   "execution_count": 1,
   "metadata": {},
   "outputs": [],
   "source": [
    "import numpy as np\n",
    "import pandas as pd\n",
    "import matplotlib.pyplot as plt\n",
    "import datetime as dt\n",
    "from sklearn.model_selection import StratifiedShuffleSplit\n",
    "from scipy.stats import linregress "
   ]
  },
  {
   "cell_type": "code",
   "execution_count": 2,
   "metadata": {},
   "outputs": [],
   "source": [
    "# Function that returns number of rows and count of unique PatientIDs for a dataframe. \n",
    "def row_ID(dataframe):\n",
    "    row = dataframe.shape[0]\n",
    "    ID = dataframe['PatientID'].nunique()\n",
    "    return row, ID"
   ]
  },
  {
   "cell_type": "markdown",
   "metadata": {},
   "source": [
    "## Part 1: Creating training and test cohort"
   ]
  },
  {
   "cell_type": "code",
   "execution_count": 3,
   "metadata": {},
   "outputs": [],
   "source": [
    "import numpy as np\n",
    "import pandas as pd\n",
    "import matplotlib.pyplot as plt\n",
    "import datetime as dt\n",
    "from sklearn.model_selection import StratifiedShuffleSplit"
   ]
  },
  {
   "cell_type": "code",
   "execution_count": 4,
   "metadata": {},
   "outputs": [],
   "source": [
    "# Function that returns number of rows and count of unique PatientIDs for a dataframe. \n",
    "def row_ID(dataframe):\n",
    "    row = dataframe.shape[0]\n",
    "    ID = dataframe['PatientID'].nunique()\n",
    "    return row, ID"
   ]
  },
  {
   "cell_type": "markdown",
   "metadata": {},
   "source": [
    "**Patients will be split into a training and test set (80/20) stratified by advanced diagnosis year.**"
   ]
  },
  {
   "cell_type": "code",
   "execution_count": 5,
   "metadata": {},
   "outputs": [],
   "source": [
    "enhanced_adv = pd.read_csv('Enhanced_AdvancedNSCLC.csv')"
   ]
  },
  {
   "cell_type": "code",
   "execution_count": 6,
   "metadata": {},
   "outputs": [
    {
     "data": {
      "text/plain": [
       "(68483, 68483)"
      ]
     },
     "execution_count": 6,
     "metadata": {},
     "output_type": "execute_result"
    }
   ],
   "source": [
    "row_ID(enhanced_adv)"
   ]
  },
  {
   "cell_type": "code",
   "execution_count": 7,
   "metadata": {},
   "outputs": [],
   "source": [
    "enhanced_adv.loc[:, 'AdvancedDiagnosisDate'] = pd.to_datetime(enhanced_adv['AdvancedDiagnosisDate'])"
   ]
  },
  {
   "cell_type": "code",
   "execution_count": 8,
   "metadata": {},
   "outputs": [],
   "source": [
    "enhanced_adv = enhanced_adv.rename(columns = {'AdvancedDiagnosisDate': 'adv_date'})"
   ]
  },
  {
   "cell_type": "code",
   "execution_count": 9,
   "metadata": {},
   "outputs": [
    {
     "data": {
      "text/plain": [
       "2017    0.114627\n",
       "2016    0.112758\n",
       "2018    0.112159\n",
       "2015    0.111239\n",
       "2014    0.106479\n",
       "2019    0.104844\n",
       "2013    0.097294\n",
       "2020    0.085715\n",
       "2012    0.083043\n",
       "2011    0.065272\n",
       "2021    0.006571\n",
       "Name: adv_date, dtype: float64"
      ]
     },
     "execution_count": 9,
     "metadata": {},
     "output_type": "execute_result"
    }
   ],
   "source": [
    "enhanced_adv['adv_date'].dt.year.value_counts()/len(enhanced_adv)"
   ]
  },
  {
   "cell_type": "code",
   "execution_count": 10,
   "metadata": {},
   "outputs": [
    {
     "data": {
      "text/plain": [
       "count    68483.000000\n",
       "mean      2015.754581\n",
       "std          2.712143\n",
       "min       2011.000000\n",
       "25%       2014.000000\n",
       "50%       2016.000000\n",
       "75%       2018.000000\n",
       "max       2021.000000\n",
       "Name: adv_date, dtype: float64"
      ]
     },
     "execution_count": 10,
     "metadata": {},
     "output_type": "execute_result"
    }
   ],
   "source": [
    "enhanced_adv['adv_date'].dt.year.describe()"
   ]
  },
  {
   "cell_type": "code",
   "execution_count": 11,
   "metadata": {},
   "outputs": [
    {
     "data": {
      "text/plain": [
       "<AxesSubplot:xlabel='adv_date'>"
      ]
     },
     "execution_count": 11,
     "metadata": {},
     "output_type": "execute_result"
    },
    {
     "data": {
      "image/png": "[encoded data removed]",
      "text/plain": [
       "<Figure size 432x288 with 1 Axes>"
      ]
     },
     "metadata": {
      "needs_background": "light"
     },
     "output_type": "display_data"
    }
   ],
   "source": [
    "enhanced_adv.groupby([enhanced_adv['adv_date'].dt.year])['PatientID'].count().plot(kind = 'bar')"
   ]
  },
  {
   "cell_type": "code",
   "execution_count": 12,
   "metadata": {},
   "outputs": [
    {
     "data": {
      "text/plain": [
       "<AxesSubplot:xlabel='adv_date'>"
      ]
     },
     "execution_count": 12,
     "metadata": {},
     "output_type": "execute_result"
    },
    {
     "data": {
      "image/png": "[encoded data removed]",
      "text/plain": [
       "<Figure size 432x288 with 1 Axes>"
      ]
     },
     "metadata": {
      "needs_background": "light"
     },
     "output_type": "display_data"
    }
   ],
   "source": [
    "enhanced_adv.groupby([enhanced_adv['adv_date'].dt.month])['PatientID'].count().plot(kind = 'bar')"
   ]
  },
  {
   "cell_type": "code",
   "execution_count": 13,
   "metadata": {},
   "outputs": [],
   "source": [
    "enhanced_adv['adv_year_cat'] = pd.cut(enhanced_adv['adv_date'].dt.year,\n",
    "                                      bins = [2010, 2012, 2014, 2016, 2018, 2021],\n",
    "                                      labels = ['11-12', '13-14', '15-16', '17-18', '19-21'])"
   ]
  },
  {
   "cell_type": "code",
   "execution_count": 14,
   "metadata": {},
   "outputs": [
    {
     "data": {
      "text/plain": [
       "17-18    0.226786\n",
       "15-16    0.223997\n",
       "13-14    0.203773\n",
       "19-21    0.197129\n",
       "11-12    0.148314\n",
       "Name: adv_year_cat, dtype: float64"
      ]
     },
     "execution_count": 14,
     "metadata": {},
     "output_type": "execute_result"
    }
   ],
   "source": [
    "enhanced_adv['adv_year_cat'].value_counts(normalize = True, dropna = False)"
   ]
  },
  {
   "cell_type": "code",
   "execution_count": 15,
   "metadata": {},
   "outputs": [
    {
     "data": {
      "text/plain": [
       "<AxesSubplot:xlabel='adv_year_cat'>"
      ]
     },
     "execution_count": 15,
     "metadata": {},
     "output_type": "execute_result"
    },
    {
     "data": {
      "image/png": "[encoded data removed]",
      "text/plain": [
       "<Figure size 432x288 with 1 Axes>"
      ]
     },
     "metadata": {
      "needs_background": "light"
     },
     "output_type": "display_data"
    }
   ],
   "source": [
    "enhanced_adv.groupby([enhanced_adv['adv_year_cat']])['PatientID'].count().plot(kind = 'bar')"
   ]
  },
  {
   "cell_type": "code",
   "execution_count": 16,
   "metadata": {},
   "outputs": [],
   "source": [
    "sss = StratifiedShuffleSplit(n_splits = 1, test_size = 0.2, random_state = 42)\n",
    "\n",
    "for train_index, test_index in sss.split(enhanced_adv, enhanced_adv['adv_year_cat']):\n",
    "    train_set = enhanced_adv.iloc[train_index]\n",
    "    test_set = enhanced_adv.iloc[test_index]"
   ]
  },
  {
   "cell_type": "code",
   "execution_count": 17,
   "metadata": {},
   "outputs": [
    {
     "data": {
      "text/plain": [
       "17-18    0.226792\n",
       "15-16    0.223999\n",
       "13-14    0.203775\n",
       "19-21    0.197131\n",
       "11-12    0.148304\n",
       "Name: adv_year_cat, dtype: float64"
      ]
     },
     "execution_count": 17,
     "metadata": {},
     "output_type": "execute_result"
    }
   ],
   "source": [
    "train_set['adv_year_cat'].value_counts()/len(train_set)"
   ]
  },
  {
   "cell_type": "code",
   "execution_count": 18,
   "metadata": {},
   "outputs": [
    {
     "data": {
      "text/plain": [
       "17-18    0.226765\n",
       "15-16    0.223991\n",
       "13-14    0.203767\n",
       "19-21    0.197123\n",
       "11-12    0.148354\n",
       "Name: adv_year_cat, dtype: float64"
      ]
     },
     "execution_count": 18,
     "metadata": {},
     "output_type": "execute_result"
    }
   ],
   "source": [
    "test_set['adv_year_cat'].value_counts()/len(test_set)"
   ]
  },
  {
   "cell_type": "code",
   "execution_count": 19,
   "metadata": {},
   "outputs": [
    {
     "data": {
      "text/plain": [
       "(54786, 54786)"
      ]
     },
     "execution_count": 19,
     "metadata": {},
     "output_type": "execute_result"
    }
   ],
   "source": [
    "row_ID(train_set)"
   ]
  },
  {
   "cell_type": "code",
   "execution_count": 20,
   "metadata": {},
   "outputs": [
    {
     "data": {
      "text/plain": [
       "(13697, 13697)"
      ]
     },
     "execution_count": 20,
     "metadata": {},
     "output_type": "execute_result"
    }
   ],
   "source": [
    "row_ID(test_set)"
   ]
  },
  {
   "cell_type": "code",
   "execution_count": 21,
   "metadata": {},
   "outputs": [],
   "source": [
    "# Array of PatientIDs in training set.\n",
    "train_IDs = train_set['PatientID'].to_numpy()"
   ]
  },
  {
   "cell_type": "code",
   "execution_count": 22,
   "metadata": {},
   "outputs": [],
   "source": [
    "pd.DataFrame(train_IDs, columns = ['PatientID']).to_csv('train_IDs.csv', index = False, header = True)"
   ]
  },
  {
   "cell_type": "code",
   "execution_count": 23,
   "metadata": {},
   "outputs": [],
   "source": [
    "# Array of PatientIDs in test set.\n",
    "test_IDs = test_set['PatientID'].to_numpy()"
   ]
  },
  {
   "cell_type": "code",
   "execution_count": 24,
   "metadata": {},
   "outputs": [],
   "source": [
    "pd.DataFrame(test_IDs, columns = ['PatientID']).to_csv('test_IDs.csv', index = False, header = True)"
   ]
  },
  {
   "cell_type": "code",
   "execution_count": 25,
   "metadata": {},
   "outputs": [
    {
     "name": "stdout",
     "output_type": "stream",
     "text": [
      "Variable       Type         Data/Info\n",
      "-------------------------------------\n",
      "enhanced_adv   DataFrame               PatientID Diag<...>n[68483 rows x 7 columns]\n",
      "test_set       DataFrame               PatientID Diag<...>n[13697 rows x 7 columns]\n",
      "train_set      DataFrame               PatientID Diag<...>n[54786 rows x 7 columns]\n"
     ]
    }
   ],
   "source": [
    "%whos DataFrame"
   ]
  },
  {
   "cell_type": "code",
   "execution_count": 26,
   "metadata": {},
   "outputs": [],
   "source": [
    "# Keep enhanced_adv.\n",
    "del test_set\n",
    "del train_set"
   ]
  },
  {
   "cell_type": "markdown",
   "metadata": {},
   "source": [
    "## Part 2: File cleaning for patients in training set "
   ]
  },
  {
   "cell_type": "markdown",
   "metadata": {},
   "source": [
    "**The following 10 CSV files from Flatiron will be cleaned:**\n",
    "1. **Demographics**\n",
    "2. **Enhanced_AdvancedNSCLC**\n",
    "3. **Enhanced_Mortality_V2**\n",
    "4. **MedicationAdministration**\n",
    "5. **Enhanced_AdvNSCLCBiomarkers**\n",
    "6. **Insurance**\n",
    "7. **ECOG**\n",
    "8. **Vitals**\n",
    "9. **Labs**\n",
    "10. **Diagnosis**"
   ]
  },
  {
   "cell_type": "markdown",
   "metadata": {},
   "source": [
    "### 1. Demographics "
   ]
  },
  {
   "cell_type": "code",
   "execution_count": 27,
   "metadata": {},
   "outputs": [],
   "source": [
    "demographics = pd.read_csv('Demographics.csv')"
   ]
  },
  {
   "cell_type": "code",
   "execution_count": 28,
   "metadata": {},
   "outputs": [
    {
     "data": {
      "text/html": [
       "<div>\n",
       "<style scoped>\n",
       "    .dataframe tbody tr th:only-of-type {\n",
       "        vertical-align: middle;\n",
       "    }\n",
       "\n",
       "    .dataframe tbody tr th {\n",
       "        vertical-align: top;\n",
       "    }\n",
       "\n",
       "    .dataframe thead th {\n",
       "        text-align: right;\n",
       "    }\n",
       "</style>\n",
       "<table border=\"1\" class=\"dataframe\">\n",
       "  <thead>\n",
       "    <tr style=\"text-align: right;\">\n",
       "      <th></th>\n",
       "      <th>PatientID</th>\n",
       "      <th>PracticeID</th>\n",
       "      <th>PracticeType</th>\n",
       "      <th>PrimaryPhysicianID</th>\n",
       "      <th>BirthYear</th>\n",
       "      <th>Gender</th>\n",
       "      <th>Race</th>\n",
       "      <th>Ethnicity</th>\n",
       "      <th>State</th>\n",
       "    </tr>\n",
       "  </thead>\n",
       "  <tbody>\n",
       "    <tr>\n",
       "      <th>6064</th>\n",
       "      <td>F997A831ADF0C</td>\n",
       "      <td>S5F72990A648A</td>\n",
       "      <td>COMMUNITY</td>\n",
       "      <td>TCA694F34BF49</td>\n",
       "      <td>1961</td>\n",
       "      <td>F</td>\n",
       "      <td>White</td>\n",
       "      <td>NaN</td>\n",
       "      <td>MI</td>\n",
       "    </tr>\n",
       "    <tr>\n",
       "      <th>12063</th>\n",
       "      <td>F99B1D5724402</td>\n",
       "      <td>S23ADEA449811</td>\n",
       "      <td>COMMUNITY</td>\n",
       "      <td>T9DD7469C8F4E</td>\n",
       "      <td>1942</td>\n",
       "      <td>M</td>\n",
       "      <td>White</td>\n",
       "      <td>NaN</td>\n",
       "      <td>NJ</td>\n",
       "    </tr>\n",
       "    <tr>\n",
       "      <th>42397</th>\n",
       "      <td>F5CD7931C07DD</td>\n",
       "      <td>S10787FE9E379</td>\n",
       "      <td>COMMUNITY</td>\n",
       "      <td>TF92133D72CB7</td>\n",
       "      <td>1936</td>\n",
       "      <td>F</td>\n",
       "      <td>White</td>\n",
       "      <td>NaN</td>\n",
       "      <td>FL</td>\n",
       "    </tr>\n",
       "    <tr>\n",
       "      <th>41189</th>\n",
       "      <td>F6FA5F0BF205E</td>\n",
       "      <td>SD4C2AE2A1773</td>\n",
       "      <td>COMMUNITY</td>\n",
       "      <td>T66430C7D7A6A</td>\n",
       "      <td>1947</td>\n",
       "      <td>F</td>\n",
       "      <td>Asian</td>\n",
       "      <td>NaN</td>\n",
       "      <td>TX</td>\n",
       "    </tr>\n",
       "    <tr>\n",
       "      <th>12323</th>\n",
       "      <td>F1A3150A1BE4F</td>\n",
       "      <td>SD6317E5462ED</td>\n",
       "      <td>COMMUNITY</td>\n",
       "      <td>TDA8B41161687</td>\n",
       "      <td>1948</td>\n",
       "      <td>M</td>\n",
       "      <td>White</td>\n",
       "      <td>NaN</td>\n",
       "      <td>MI</td>\n",
       "    </tr>\n",
       "  </tbody>\n",
       "</table>\n",
       "</div>"
      ],
      "text/plain": [
       "           PatientID     PracticeID PracticeType PrimaryPhysicianID  \\\n",
       "6064   F997A831ADF0C  S5F72990A648A    COMMUNITY      TCA694F34BF49   \n",
       "12063  F99B1D5724402  S23ADEA449811    COMMUNITY      T9DD7469C8F4E   \n",
       "42397  F5CD7931C07DD  S10787FE9E379    COMMUNITY      TF92133D72CB7   \n",
       "41189  F6FA5F0BF205E  SD4C2AE2A1773    COMMUNITY      T66430C7D7A6A   \n",
       "12323  F1A3150A1BE4F  SD6317E5462ED    COMMUNITY      TDA8B41161687   \n",
       "\n",
       "       BirthYear Gender   Race Ethnicity State  \n",
       "6064        1961      F  White       NaN    MI  \n",
       "12063       1942      M  White       NaN    NJ  \n",
       "42397       1936      F  White       NaN    FL  \n",
       "41189       1947      F  Asian       NaN    TX  \n",
       "12323       1948      M  White       NaN    MI  "
      ]
     },
     "execution_count": 28,
     "metadata": {},
     "output_type": "execute_result"
    }
   ],
   "source": [
    "demographics.sample(5)"
   ]
  },
  {
   "cell_type": "code",
   "execution_count": 29,
   "metadata": {},
   "outputs": [
    {
     "name": "stdout",
     "output_type": "stream",
     "text": [
      "<class 'pandas.core.frame.DataFrame'>\n",
      "RangeIndex: 68483 entries, 0 to 68482\n",
      "Data columns (total 9 columns):\n",
      " #   Column              Non-Null Count  Dtype \n",
      "---  ------              --------------  ----- \n",
      " 0   PatientID           68483 non-null  object\n",
      " 1   PracticeID          68483 non-null  object\n",
      " 2   PracticeType        68483 non-null  object\n",
      " 3   PrimaryPhysicianID  61093 non-null  object\n",
      " 4   BirthYear           68483 non-null  int64 \n",
      " 5   Gender              68478 non-null  object\n",
      " 6   Race                60887 non-null  object\n",
      " 7   Ethnicity           2217 non-null   object\n",
      " 8   State               59646 non-null  object\n",
      "dtypes: int64(1), object(8)\n",
      "memory usage: 4.7+ MB\n"
     ]
    }
   ],
   "source": [
    "demographics.info()"
   ]
  },
  {
   "cell_type": "code",
   "execution_count": 30,
   "metadata": {},
   "outputs": [],
   "source": [
    "demographics = demographics[demographics['PatientID'].isin(train_IDs)]"
   ]
  },
  {
   "cell_type": "code",
   "execution_count": 31,
   "metadata": {},
   "outputs": [
    {
     "data": {
      "text/plain": [
       "(54786, 54786)"
      ]
     },
     "execution_count": 31,
     "metadata": {},
     "output_type": "execute_result"
    }
   ],
   "source": [
    "row_ID(demographics)"
   ]
  },
  {
   "cell_type": "markdown",
   "metadata": {},
   "source": [
    "#### 1.1 Race and Ethnicity"
   ]
  },
  {
   "cell_type": "code",
   "execution_count": 32,
   "metadata": {},
   "outputs": [
    {
     "data": {
      "text/plain": [
       "White                        68.119593\n",
       "NaN                          11.150659\n",
       "Other Race                    9.611945\n",
       "Black or African American     8.432811\n",
       "Asian                         2.555397\n",
       "Hispanic or Latino            0.129595\n",
       "Name: Race, dtype: float64"
      ]
     },
     "execution_count": 32,
     "metadata": {},
     "output_type": "execute_result"
    }
   ],
   "source": [
    "demographics['Race'].value_counts(normalize = True, dropna = False)*100"
   ]
  },
  {
   "cell_type": "code",
   "execution_count": 33,
   "metadata": {},
   "outputs": [
    {
     "data": {
      "text/plain": [
       "NaN                   96.716314\n",
       "Hispanic or Latino     3.283686\n",
       "Name: Ethnicity, dtype: float64"
      ]
     },
     "execution_count": 33,
     "metadata": {},
     "output_type": "execute_result"
    }
   ],
   "source": [
    "demographics['Ethnicity'].value_counts(normalize = True, dropna = False)*100"
   ]
  },
  {
   "cell_type": "code",
   "execution_count": 34,
   "metadata": {},
   "outputs": [
    {
     "data": {
      "text/html": [
       "<div>\n",
       "<style scoped>\n",
       "    .dataframe tbody tr th:only-of-type {\n",
       "        vertical-align: middle;\n",
       "    }\n",
       "\n",
       "    .dataframe tbody tr th {\n",
       "        vertical-align: top;\n",
       "    }\n",
       "\n",
       "    .dataframe thead th {\n",
       "        text-align: right;\n",
       "    }\n",
       "</style>\n",
       "<table border=\"1\" class=\"dataframe\">\n",
       "  <thead>\n",
       "    <tr style=\"text-align: right;\">\n",
       "      <th></th>\n",
       "      <th>PatientID</th>\n",
       "      <th>PracticeID</th>\n",
       "      <th>PracticeType</th>\n",
       "      <th>PrimaryPhysicianID</th>\n",
       "      <th>BirthYear</th>\n",
       "      <th>Gender</th>\n",
       "      <th>Race</th>\n",
       "      <th>Ethnicity</th>\n",
       "      <th>State</th>\n",
       "    </tr>\n",
       "  </thead>\n",
       "  <tbody>\n",
       "    <tr>\n",
       "      <th>28832</th>\n",
       "      <td>F57F06F3FEFCB</td>\n",
       "      <td>S43F1EC350316</td>\n",
       "      <td>COMMUNITY</td>\n",
       "      <td>T034FFA6D6909</td>\n",
       "      <td>1965</td>\n",
       "      <td>M</td>\n",
       "      <td>Other Race</td>\n",
       "      <td>Hispanic or Latino</td>\n",
       "      <td>AZ</td>\n",
       "    </tr>\n",
       "    <tr>\n",
       "      <th>40867</th>\n",
       "      <td>F18EB81CEF239</td>\n",
       "      <td>S43F1EC350316</td>\n",
       "      <td>COMMUNITY</td>\n",
       "      <td>TCEF68CC09D71</td>\n",
       "      <td>1936</td>\n",
       "      <td>F</td>\n",
       "      <td>Other Race</td>\n",
       "      <td>Hispanic or Latino</td>\n",
       "      <td>AZ</td>\n",
       "    </tr>\n",
       "    <tr>\n",
       "      <th>39390</th>\n",
       "      <td>FECDD402550B2</td>\n",
       "      <td>SE1DBAB3F93C9</td>\n",
       "      <td>COMMUNITY</td>\n",
       "      <td>TBA74201BE23A</td>\n",
       "      <td>1937</td>\n",
       "      <td>F</td>\n",
       "      <td>Other Race</td>\n",
       "      <td>Hispanic or Latino</td>\n",
       "      <td>NY</td>\n",
       "    </tr>\n",
       "    <tr>\n",
       "      <th>31387</th>\n",
       "      <td>F24D08D359721</td>\n",
       "      <td>S43F1EC350316</td>\n",
       "      <td>COMMUNITY</td>\n",
       "      <td>TF6DDB1E77996</td>\n",
       "      <td>1969</td>\n",
       "      <td>M</td>\n",
       "      <td>Other Race</td>\n",
       "      <td>Hispanic or Latino</td>\n",
       "      <td>AZ</td>\n",
       "    </tr>\n",
       "    <tr>\n",
       "      <th>56051</th>\n",
       "      <td>FF9B84724E1F3</td>\n",
       "      <td>SEDE084AEDE63</td>\n",
       "      <td>COMMUNITY</td>\n",
       "      <td>TE36AD9118E12</td>\n",
       "      <td>1943</td>\n",
       "      <td>F</td>\n",
       "      <td>White</td>\n",
       "      <td>Hispanic or Latino</td>\n",
       "      <td>PR</td>\n",
       "    </tr>\n",
       "  </tbody>\n",
       "</table>\n",
       "</div>"
      ],
      "text/plain": [
       "           PatientID     PracticeID PracticeType PrimaryPhysicianID  \\\n",
       "28832  F57F06F3FEFCB  S43F1EC350316    COMMUNITY      T034FFA6D6909   \n",
       "40867  F18EB81CEF239  S43F1EC350316    COMMUNITY      TCEF68CC09D71   \n",
       "39390  FECDD402550B2  SE1DBAB3F93C9    COMMUNITY      TBA74201BE23A   \n",
       "31387  F24D08D359721  S43F1EC350316    COMMUNITY      TF6DDB1E77996   \n",
       "56051  FF9B84724E1F3  SEDE084AEDE63    COMMUNITY      TE36AD9118E12   \n",
       "\n",
       "       BirthYear Gender        Race           Ethnicity State  \n",
       "28832       1965      M  Other Race  Hispanic or Latino    AZ  \n",
       "40867       1936      F  Other Race  Hispanic or Latino    AZ  \n",
       "39390       1937      F  Other Race  Hispanic or Latino    NY  \n",
       "31387       1969      M  Other Race  Hispanic or Latino    AZ  \n",
       "56051       1943      F       White  Hispanic or Latino    PR  "
      ]
     },
     "execution_count": 34,
     "metadata": {},
     "output_type": "execute_result"
    }
   ],
   "source": [
    "demographics.query('Ethnicity == \"Hispanic or Latino\"').sample(5)"
   ]
  },
  {
   "cell_type": "code",
   "execution_count": 35,
   "metadata": {},
   "outputs": [
    {
     "data": {
      "text/html": [
       "<div>\n",
       "<style scoped>\n",
       "    .dataframe tbody tr th:only-of-type {\n",
       "        vertical-align: middle;\n",
       "    }\n",
       "\n",
       "    .dataframe tbody tr th {\n",
       "        vertical-align: top;\n",
       "    }\n",
       "\n",
       "    .dataframe thead th {\n",
       "        text-align: right;\n",
       "    }\n",
       "</style>\n",
       "<table border=\"1\" class=\"dataframe\">\n",
       "  <thead>\n",
       "    <tr style=\"text-align: right;\">\n",
       "      <th></th>\n",
       "      <th>PatientID</th>\n",
       "      <th>PracticeID</th>\n",
       "      <th>PracticeType</th>\n",
       "      <th>PrimaryPhysicianID</th>\n",
       "      <th>BirthYear</th>\n",
       "      <th>Gender</th>\n",
       "      <th>Race</th>\n",
       "      <th>Ethnicity</th>\n",
       "      <th>State</th>\n",
       "    </tr>\n",
       "  </thead>\n",
       "  <tbody>\n",
       "    <tr>\n",
       "      <th>35627</th>\n",
       "      <td>F49B820458CD3</td>\n",
       "      <td>S87C279DB0C8A</td>\n",
       "      <td>COMMUNITY</td>\n",
       "      <td>T6C5E17A84A49</td>\n",
       "      <td>1956</td>\n",
       "      <td>M</td>\n",
       "      <td>Hispanic or Latino</td>\n",
       "      <td>NaN</td>\n",
       "      <td>AZ</td>\n",
       "    </tr>\n",
       "    <tr>\n",
       "      <th>61993</th>\n",
       "      <td>F985642701749</td>\n",
       "      <td>S3A7162E98AAC</td>\n",
       "      <td>COMMUNITY</td>\n",
       "      <td>TDD8A7C1C2632</td>\n",
       "      <td>1936</td>\n",
       "      <td>M</td>\n",
       "      <td>Hispanic or Latino</td>\n",
       "      <td>NaN</td>\n",
       "      <td>CA</td>\n",
       "    </tr>\n",
       "    <tr>\n",
       "      <th>26568</th>\n",
       "      <td>F3FC9B458DCD4</td>\n",
       "      <td>S87C279DB0C8A</td>\n",
       "      <td>COMMUNITY</td>\n",
       "      <td>T0244D3911995</td>\n",
       "      <td>1961</td>\n",
       "      <td>F</td>\n",
       "      <td>Hispanic or Latino</td>\n",
       "      <td>Hispanic or Latino</td>\n",
       "      <td>AZ</td>\n",
       "    </tr>\n",
       "    <tr>\n",
       "      <th>51995</th>\n",
       "      <td>FE67CC18CE9C0</td>\n",
       "      <td>S291CF564BD92</td>\n",
       "      <td>COMMUNITY</td>\n",
       "      <td>TC63801EE2E0D</td>\n",
       "      <td>1950</td>\n",
       "      <td>F</td>\n",
       "      <td>Hispanic or Latino</td>\n",
       "      <td>Hispanic or Latino</td>\n",
       "      <td>TN</td>\n",
       "    </tr>\n",
       "    <tr>\n",
       "      <th>33986</th>\n",
       "      <td>F24BE35DBCE1E</td>\n",
       "      <td>S02B5DAC9B9B2</td>\n",
       "      <td>COMMUNITY</td>\n",
       "      <td>TFB645CAFB022</td>\n",
       "      <td>1981</td>\n",
       "      <td>F</td>\n",
       "      <td>Hispanic or Latino</td>\n",
       "      <td>Hispanic or Latino</td>\n",
       "      <td>CA</td>\n",
       "    </tr>\n",
       "  </tbody>\n",
       "</table>\n",
       "</div>"
      ],
      "text/plain": [
       "           PatientID     PracticeID PracticeType PrimaryPhysicianID  \\\n",
       "35627  F49B820458CD3  S87C279DB0C8A    COMMUNITY      T6C5E17A84A49   \n",
       "61993  F985642701749  S3A7162E98AAC    COMMUNITY      TDD8A7C1C2632   \n",
       "26568  F3FC9B458DCD4  S87C279DB0C8A    COMMUNITY      T0244D3911995   \n",
       "51995  FE67CC18CE9C0  S291CF564BD92    COMMUNITY      TC63801EE2E0D   \n",
       "33986  F24BE35DBCE1E  S02B5DAC9B9B2    COMMUNITY      TFB645CAFB022   \n",
       "\n",
       "       BirthYear Gender                Race           Ethnicity State  \n",
       "35627       1956      M  Hispanic or Latino                 NaN    AZ  \n",
       "61993       1936      M  Hispanic or Latino                 NaN    CA  \n",
       "26568       1961      F  Hispanic or Latino  Hispanic or Latino    AZ  \n",
       "51995       1950      F  Hispanic or Latino  Hispanic or Latino    TN  \n",
       "33986       1981      F  Hispanic or Latino  Hispanic or Latino    CA  "
      ]
     },
     "execution_count": 35,
     "metadata": {},
     "output_type": "execute_result"
    }
   ],
   "source": [
    "demographics.query('Race == \"Hispanic or Latino\"').sample(5)"
   ]
  },
  {
   "cell_type": "markdown",
   "metadata": {},
   "source": [
    "**There are unexpected values where “Hispanic or Latino” appears as a race rather than ethnicity. Ethnicity will be recoded to align with the FDA standards for collecting race and ethnicity variables for clinical trials. Patients with a race value of “Hispanic or Latino” will have their race recoded as \"Unknown\" and ethnicity as “Hispanic or Latino.” Of note, ethnicity and race information is likely to be poorly captured since EHR platforms typically do not require documentation of race or ethnicity.**  "
   ]
  },
  {
   "cell_type": "code",
   "execution_count": 36,
   "metadata": {},
   "outputs": [],
   "source": [
    "# If race value is 'Hispanic or Latino', code as unknown, otherwise value unchanged.\n",
    "demographics['race'] = (\n",
    "    np.where(demographics['Race'] == 'Hispanic or Latino', 'unknown', demographics['Race'])\n",
    ")"
   ]
  },
  {
   "cell_type": "code",
   "execution_count": 37,
   "metadata": {},
   "outputs": [],
   "source": [
    "# Missing race value will be recoded as Unknown\n",
    "demographics['race'] = demographics['race'].fillna('unknown')"
   ]
  },
  {
   "cell_type": "code",
   "execution_count": 38,
   "metadata": {},
   "outputs": [
    {
     "data": {
      "text/plain": [
       "54786"
      ]
     },
     "execution_count": 38,
     "metadata": {},
     "output_type": "execute_result"
    }
   ],
   "source": [
    "demographics['race'].value_counts().sum()"
   ]
  },
  {
   "cell_type": "code",
   "execution_count": 39,
   "metadata": {},
   "outputs": [
    {
     "data": {
      "text/plain": [
       "White                        68.119593\n",
       "unknown                      11.280254\n",
       "Other Race                    9.611945\n",
       "Black or African American     8.432811\n",
       "Asian                         2.555397\n",
       "Name: race, dtype: float64"
      ]
     },
     "execution_count": 39,
     "metadata": {},
     "output_type": "execute_result"
    }
   ],
   "source": [
    "demographics['race'].value_counts(normalize = True, dropna = False)*100"
   ]
  },
  {
   "cell_type": "code",
   "execution_count": 40,
   "metadata": {},
   "outputs": [],
   "source": [
    "# If race value is equal to 'Hispanic or Latino', code ethnicity as 'Hispanic or Latino', otherwise unchanged. \n",
    "demographics['ethnicity'] = (\n",
    "    np.where(demographics['Race'] == 'Hispanic or Latino', 'hispanic_latino', demographics['Ethnicity'])\n",
    ")"
   ]
  },
  {
   "cell_type": "code",
   "execution_count": 41,
   "metadata": {},
   "outputs": [],
   "source": [
    "demographics['ethnicity'] = demographics['ethnicity'].fillna('unknown')"
   ]
  },
  {
   "cell_type": "code",
   "execution_count": 42,
   "metadata": {},
   "outputs": [],
   "source": [
    "demographics['ethnicity'] = demographics['ethnicity'].replace({'Hispanic or Latino': 'hispanic_latino'})"
   ]
  },
  {
   "cell_type": "code",
   "execution_count": 43,
   "metadata": {},
   "outputs": [
    {
     "data": {
      "text/plain": [
       "unknown            96.692586\n",
       "hispanic_latino     3.307414\n",
       "Name: ethnicity, dtype: float64"
      ]
     },
     "execution_count": 43,
     "metadata": {},
     "output_type": "execute_result"
    }
   ],
   "source": [
    "demographics['ethnicity'].value_counts(normalize = True, dropna = False)*100"
   ]
  },
  {
   "cell_type": "code",
   "execution_count": 44,
   "metadata": {},
   "outputs": [
    {
     "data": {
      "text/plain": [
       "ethnicity        race                     \n",
       "unknown          White                        0.669715\n",
       "                 unknown                      0.107071\n",
       "                 Black or African American    0.083708\n",
       "                 Other Race                   0.081116\n",
       "                 Asian                        0.025317\n",
       "hispanic_latino  Other Race                   0.015004\n",
       "                 White                        0.011481\n",
       "                 unknown                      0.005731\n",
       "                 Black or African American    0.000621\n",
       "                 Asian                        0.000237\n",
       "Name: PatientID, dtype: float64"
      ]
     },
     "execution_count": 44,
     "metadata": {},
     "output_type": "execute_result"
    }
   ],
   "source": [
    "(\n",
    "    demographics\n",
    "    .groupby(['ethnicity', 'race'])['PatientID'].count()\n",
    "    .divide(len(demographics))\n",
    "    .sort_values(ascending = False)\n",
    ")"
   ]
  },
  {
   "cell_type": "code",
   "execution_count": 45,
   "metadata": {},
   "outputs": [],
   "source": [
    "demographics = demographics.drop(columns = ['Race', 'Ethnicity'])"
   ]
  },
  {
   "cell_type": "markdown",
   "metadata": {},
   "source": [
    "#### 1.2 BirthYear"
   ]
  },
  {
   "cell_type": "code",
   "execution_count": 46,
   "metadata": {},
   "outputs": [
    {
     "data": {
      "text/plain": [
       "count    54786.000000\n",
       "mean      1947.392473\n",
       "std          9.511752\n",
       "min       1936.000000\n",
       "25%       1939.000000\n",
       "50%       1946.000000\n",
       "75%       1954.000000\n",
       "max       2001.000000\n",
       "Name: BirthYear, dtype: float64"
      ]
     },
     "execution_count": 46,
     "metadata": {},
     "output_type": "execute_result"
    }
   ],
   "source": [
    "demographics['BirthYear'].describe()"
   ]
  },
  {
   "cell_type": "code",
   "execution_count": 47,
   "metadata": {},
   "outputs": [
    {
     "data": {
      "text/plain": [
       "array([[<AxesSubplot:title={'center':'BirthYear'}>]], dtype=object)"
      ]
     },
     "execution_count": 47,
     "metadata": {},
     "output_type": "execute_result"
    },
    {
     "data": {
      "image/png": "[encoded data removed]",
      "text/plain": [
       "<Figure size 432x288 with 1 Axes>"
      ]
     },
     "metadata": {
      "needs_background": "light"
     },
     "output_type": "display_data"
    }
   ],
   "source": [
    "demographics.hist(column = 'BirthYear')"
   ]
  },
  {
   "cell_type": "code",
   "execution_count": 48,
   "metadata": {},
   "outputs": [
    {
     "data": {
      "text/plain": [
       "1936    0.177691\n",
       "1947    0.039079\n",
       "1943    0.038477\n",
       "1942    0.037145\n",
       "1946    0.036652\n",
       "1944    0.035630\n",
       "1941    0.035082\n",
       "1948    0.033603\n",
       "1949    0.033074\n",
       "1945    0.032910\n",
       "Name: BirthYear, dtype: float64"
      ]
     },
     "execution_count": 48,
     "metadata": {},
     "output_type": "execute_result"
    }
   ],
   "source": [
    "# Top 10 birth years.\n",
    "demographics['BirthYear'].value_counts(normalize = True, dropna = False).head(10)"
   ]
  },
  {
   "cell_type": "markdown",
   "metadata": {},
   "source": [
    "**Dispraportionate number of patients aged 85. Flatiron aggregates patients 85 and older into a single category of 85 years of age to limit potential for re-identification of older patients.**"
   ]
  },
  {
   "cell_type": "code",
   "execution_count": 49,
   "metadata": {},
   "outputs": [],
   "source": [
    "demographics = pd.merge(demographics, enhanced_adv[['PatientID', 'adv_date']], on = 'PatientID')"
   ]
  },
  {
   "cell_type": "code",
   "execution_count": 50,
   "metadata": {},
   "outputs": [],
   "source": [
    "demographics.loc[:, 'age'] = demographics['adv_date'].dt.year - demographics['BirthYear']"
   ]
  },
  {
   "cell_type": "code",
   "execution_count": 51,
   "metadata": {},
   "outputs": [],
   "source": [
    "demographics = demographics.drop(columns = ['BirthYear', 'adv_date'])"
   ]
  },
  {
   "cell_type": "markdown",
   "metadata": {},
   "source": [
    "#### 1.3 PracticeType"
   ]
  },
  {
   "cell_type": "code",
   "execution_count": 52,
   "metadata": {},
   "outputs": [
    {
     "data": {
      "text/plain": [
       "COMMUNITY    90.347899\n",
       "ACADEMIC      9.652101\n",
       "Name: PracticeType, dtype: float64"
      ]
     },
     "execution_count": 52,
     "metadata": {},
     "output_type": "execute_result"
    }
   ],
   "source": [
    "demographics['PracticeType'].value_counts(normalize=True, dropna=False)*100"
   ]
  },
  {
   "cell_type": "markdown",
   "metadata": {},
   "source": [
    "#### 1.4 Gender"
   ]
  },
  {
   "cell_type": "code",
   "execution_count": 53,
   "metadata": {},
   "outputs": [
    {
     "data": {
      "text/plain": [
       "M      52.172088\n",
       "F      47.820611\n",
       "NaN     0.007301\n",
       "Name: Gender, dtype: float64"
      ]
     },
     "execution_count": 53,
     "metadata": {},
     "output_type": "execute_result"
    }
   ],
   "source": [
    "demographics['Gender'].value_counts(normalize = True, dropna = False)*100"
   ]
  },
  {
   "cell_type": "code",
   "execution_count": 54,
   "metadata": {},
   "outputs": [],
   "source": [
    "# Impute M as unknown given most common gender. \n",
    "demographics['Gender'] = demographics['Gender'].fillna('M')"
   ]
  },
  {
   "cell_type": "code",
   "execution_count": 55,
   "metadata": {},
   "outputs": [],
   "source": [
    "demographics = demographics.rename(columns = {'Gender': 'gender'})"
   ]
  },
  {
   "cell_type": "markdown",
   "metadata": {},
   "source": [
    "#### 1.5 State"
   ]
  },
  {
   "cell_type": "code",
   "execution_count": 56,
   "metadata": {},
   "outputs": [
    {
     "data": {
      "text/plain": [
       "7065"
      ]
     },
     "execution_count": 56,
     "metadata": {},
     "output_type": "execute_result"
    }
   ],
   "source": [
    "demographics['State'].isna().sum()"
   ]
  },
  {
   "cell_type": "code",
   "execution_count": 57,
   "metadata": {},
   "outputs": [
    {
     "data": {
      "text/plain": [
       "NaN    0.128956\n",
       "FL     0.076899\n",
       "TN     0.070492\n",
       "CA     0.053882\n",
       "PA     0.052641\n",
       "MI     0.052331\n",
       "NY     0.051710\n",
       "AL     0.051637\n",
       "AZ     0.051236\n",
       "NJ     0.045011\n",
       "VA     0.041270\n",
       "TX     0.037656\n",
       "IL     0.025919\n",
       "OH     0.025901\n",
       "OK     0.022451\n",
       "WA     0.021721\n",
       "MS     0.019750\n",
       "AR     0.017851\n",
       "IN     0.017742\n",
       "GA     0.016665\n",
       "Name: State, dtype: float64"
      ]
     },
     "execution_count": 57,
     "metadata": {},
     "output_type": "execute_result"
    }
   ],
   "source": [
    "demographics['State'].value_counts(normalize = True, dropna = False).head(20)"
   ]
  },
  {
   "cell_type": "markdown",
   "metadata": {},
   "source": [
    "**For de-identification reasons, State is nulled out for a few low-population states (e.g., AK, MT, ND, SD, VT, and WY). New variable will be created to group states into Census-Bureau regions for simplicity.** "
   ]
  },
  {
   "cell_type": "code",
   "execution_count": 58,
   "metadata": {},
   "outputs": [],
   "source": [
    "# Group states into Census-Bureau regions  \n",
    "state_dict = { \n",
    "    'ME': 'northeast', \n",
    "    'NH': 'northeast',\n",
    "    'VT': 'northeast', \n",
    "    'MA': 'northeast',\n",
    "    'CT': 'northeast',\n",
    "    'RI': 'northeast',  \n",
    "    'NY': 'northeast', \n",
    "    'NJ': 'northeast', \n",
    "    'PA': 'northeast', \n",
    "    'IL': 'midwest', \n",
    "    'IN': 'midwest', \n",
    "    'MI': 'midwest', \n",
    "    'OH': 'midwest', \n",
    "    'WI': 'midwest',\n",
    "    'IA': 'midwest',\n",
    "    'KS': 'midwest',\n",
    "    'MN': 'midwest',\n",
    "    'MO': 'midwest', \n",
    "    'NE': 'midwest',\n",
    "    'ND': 'midwest',\n",
    "    'SD': 'midwest',\n",
    "    'DE': 'south',\n",
    "    'FL': 'south',\n",
    "    'GA': 'south',\n",
    "    'MD': 'south',\n",
    "    'NC': 'south', \n",
    "    'SC': 'south',\n",
    "    'VA': 'south',\n",
    "    'DC': 'south',\n",
    "    'WV': 'south',\n",
    "    'AL': 'south',\n",
    "    'KY': 'south',\n",
    "    'MS': 'south',\n",
    "    'TN': 'south',\n",
    "    'AR': 'south',\n",
    "    'LA': 'south',\n",
    "    'OK': 'south',\n",
    "    'TX': 'south',\n",
    "    'AZ': 'west',\n",
    "    'CO': 'west',\n",
    "    'ID': 'west',\n",
    "    'MT': 'west',\n",
    "    'NV': 'west',\n",
    "    'NM': 'west',\n",
    "    'UT': 'west',\n",
    "    'WY': 'west',\n",
    "    'AK': 'west',\n",
    "    'CA': 'west',\n",
    "    'HI': 'west',\n",
    "    'OR': 'west',\n",
    "    'WA': 'west',\n",
    "    'PR': 'unknown'\n",
    "}\n",
    "\n",
    "demographics['region'] = demographics['State'].map(state_dict)"
   ]
  },
  {
   "cell_type": "code",
   "execution_count": 59,
   "metadata": {},
   "outputs": [],
   "source": [
    "demographics['region'] = demographics['region'].fillna('unknown')"
   ]
  },
  {
   "cell_type": "code",
   "execution_count": 60,
   "metadata": {},
   "outputs": [
    {
     "data": {
      "text/plain": [
       "south        0.398478\n",
       "northeast    0.173840\n",
       "west         0.148596\n",
       "midwest      0.143431\n",
       "unknown      0.135655\n",
       "Name: region, dtype: float64"
      ]
     },
     "execution_count": 60,
     "metadata": {},
     "output_type": "execute_result"
    }
   ],
   "source": [
    "demographics['region'].value_counts(normalize = True, dropna = False)"
   ]
  },
  {
   "cell_type": "code",
   "execution_count": 61,
   "metadata": {},
   "outputs": [
    {
     "data": {
      "text/plain": [
       "54786"
      ]
     },
     "execution_count": 61,
     "metadata": {},
     "output_type": "execute_result"
    }
   ],
   "source": [
    "demographics['region'].value_counts(dropna = False).sum()"
   ]
  },
  {
   "cell_type": "code",
   "execution_count": 62,
   "metadata": {},
   "outputs": [
    {
     "data": {
      "text/plain": [
       "<AxesSubplot:xlabel='region'>"
      ]
     },
     "execution_count": 62,
     "metadata": {},
     "output_type": "execute_result"
    },
    {
     "data": {
      "image/png": "[encoded data removed]",
      "text/plain": [
       "<Figure size 432x288 with 1 Axes>"
      ]
     },
     "metadata": {
      "needs_background": "light"
     },
     "output_type": "display_data"
    }
   ],
   "source": [
    "demographics.groupby('region')['PatientID'].count().sort_values(ascending = False).plot(kind = 'bar')"
   ]
  },
  {
   "cell_type": "code",
   "execution_count": 63,
   "metadata": {},
   "outputs": [
    {
     "data": {
      "text/plain": [
       "<AxesSubplot:xlabel='PracticeType,region'>"
      ]
     },
     "execution_count": 63,
     "metadata": {},
     "output_type": "execute_result"
    },
    {
     "data": {
      "image/png": "[encoded data removed]",
      "text/plain": [
       "<Figure size 432x288 with 1 Axes>"
      ]
     },
     "metadata": {
      "needs_background": "light"
     },
     "output_type": "display_data"
    }
   ],
   "source": [
    "demographics.groupby(['PracticeType', 'region'])['PatientID'].count().sort_values(ascending = False).plot(kind = 'bar')"
   ]
  },
  {
   "cell_type": "markdown",
   "metadata": {},
   "source": [
    "**Most patients come from community programs in the south. Interestingly, all academic patients are from an unknown region, likely for de-identification purposes.**"
   ]
  },
  {
   "cell_type": "code",
   "execution_count": 64,
   "metadata": {},
   "outputs": [],
   "source": [
    "demographics = demographics.drop(columns = ['State'])"
   ]
  },
  {
   "cell_type": "markdown",
   "metadata": {},
   "source": [
    "#### 1.6 PracticeID"
   ]
  },
  {
   "cell_type": "code",
   "execution_count": 65,
   "metadata": {},
   "outputs": [
    {
     "data": {
      "text/plain": [
       "155"
      ]
     },
     "execution_count": 65,
     "metadata": {},
     "output_type": "execute_result"
    }
   ],
   "source": [
    "demographics['PracticeID'].nunique()"
   ]
  },
  {
   "cell_type": "code",
   "execution_count": 66,
   "metadata": {},
   "outputs": [
    {
     "data": {
      "text/plain": [
       "S291CF564BD92    0.073212\n",
       "S507DCE5DD8C6    0.067682\n",
       "S87C279DB0C8A    0.031395\n",
       "S32D7D3854A0D    0.030154\n",
       "SD6317E5462ED    0.029862\n",
       "S6DCB6AF0A70F    0.028730\n",
       "S10787FE9E379    0.028146\n",
       "S19210F786354    0.025481\n",
       "S260DA7B3CE37    0.022013\n",
       "SD2555DC0ACD7    0.022013\n",
       "Name: PracticeID, dtype: float64"
      ]
     },
     "execution_count": 66,
     "metadata": {},
     "output_type": "execute_result"
    }
   ],
   "source": [
    "demographics['PracticeID'].value_counts(normalize = True, dropna = False).head(10)"
   ]
  },
  {
   "cell_type": "code",
   "execution_count": 67,
   "metadata": {},
   "outputs": [],
   "source": [
    "demographics = demographics.drop(columns = ['PracticeID'])"
   ]
  },
  {
   "cell_type": "markdown",
   "metadata": {},
   "source": [
    "#### 1.7 PrimaryPhysicianID"
   ]
  },
  {
   "cell_type": "code",
   "execution_count": 68,
   "metadata": {},
   "outputs": [
    {
     "data": {
      "text/plain": [
       "1661"
      ]
     },
     "execution_count": 68,
     "metadata": {},
     "output_type": "execute_result"
    }
   ],
   "source": [
    "demographics['PrimaryPhysicianID'].nunique()"
   ]
  },
  {
   "cell_type": "code",
   "execution_count": 69,
   "metadata": {},
   "outputs": [
    {
     "data": {
      "text/plain": [
       "NaN              0.107966\n",
       "TDA8B41161687    0.008214\n",
       "TB265DE7448E6    0.006096\n",
       "T8BBC5E6BC74E    0.005713\n",
       "T4BD7593DF5D2    0.004636\n",
       "TD36E479F7705    0.004563\n",
       "T49F94535692C    0.004216\n",
       "TF20BCACCB2FC    0.004034\n",
       "T929DA10B68C8    0.003924\n",
       "T1C00C217F1E9    0.003742\n",
       "Name: PrimaryPhysicianID, dtype: float64"
      ]
     },
     "execution_count": 69,
     "metadata": {},
     "output_type": "execute_result"
    }
   ],
   "source": [
    "demographics['PrimaryPhysicianID'].value_counts(normalize = True, dropna = False).head(10)"
   ]
  },
  {
   "cell_type": "code",
   "execution_count": 70,
   "metadata": {},
   "outputs": [],
   "source": [
    "demographics = demographics.drop(columns = ['PrimaryPhysicianID'])"
   ]
  },
  {
   "cell_type": "code",
   "execution_count": 71,
   "metadata": {},
   "outputs": [
    {
     "data": {
      "text/html": [
       "<div>\n",
       "<style scoped>\n",
       "    .dataframe tbody tr th:only-of-type {\n",
       "        vertical-align: middle;\n",
       "    }\n",
       "\n",
       "    .dataframe tbody tr th {\n",
       "        vertical-align: top;\n",
       "    }\n",
       "\n",
       "    .dataframe thead th {\n",
       "        text-align: right;\n",
       "    }\n",
       "</style>\n",
       "<table border=\"1\" class=\"dataframe\">\n",
       "  <thead>\n",
       "    <tr style=\"text-align: right;\">\n",
       "      <th></th>\n",
       "      <th>PatientID</th>\n",
       "      <th>PracticeType</th>\n",
       "      <th>gender</th>\n",
       "      <th>race</th>\n",
       "      <th>ethnicity</th>\n",
       "      <th>age</th>\n",
       "      <th>region</th>\n",
       "    </tr>\n",
       "  </thead>\n",
       "  <tbody>\n",
       "    <tr>\n",
       "      <th>18711</th>\n",
       "      <td>F0A9C7DE924A7</td>\n",
       "      <td>COMMUNITY</td>\n",
       "      <td>F</td>\n",
       "      <td>Black or African American</td>\n",
       "      <td>unknown</td>\n",
       "      <td>51</td>\n",
       "      <td>west</td>\n",
       "    </tr>\n",
       "    <tr>\n",
       "      <th>38064</th>\n",
       "      <td>F7FF2EEC0B315</td>\n",
       "      <td>COMMUNITY</td>\n",
       "      <td>F</td>\n",
       "      <td>White</td>\n",
       "      <td>unknown</td>\n",
       "      <td>57</td>\n",
       "      <td>northeast</td>\n",
       "    </tr>\n",
       "    <tr>\n",
       "      <th>39851</th>\n",
       "      <td>FE212489FB4DE</td>\n",
       "      <td>COMMUNITY</td>\n",
       "      <td>F</td>\n",
       "      <td>White</td>\n",
       "      <td>unknown</td>\n",
       "      <td>52</td>\n",
       "      <td>south</td>\n",
       "    </tr>\n",
       "    <tr>\n",
       "      <th>31255</th>\n",
       "      <td>F14A9CC071E9F</td>\n",
       "      <td>COMMUNITY</td>\n",
       "      <td>M</td>\n",
       "      <td>White</td>\n",
       "      <td>unknown</td>\n",
       "      <td>57</td>\n",
       "      <td>west</td>\n",
       "    </tr>\n",
       "    <tr>\n",
       "      <th>39753</th>\n",
       "      <td>F14AB898AB212</td>\n",
       "      <td>COMMUNITY</td>\n",
       "      <td>M</td>\n",
       "      <td>White</td>\n",
       "      <td>unknown</td>\n",
       "      <td>75</td>\n",
       "      <td>northeast</td>\n",
       "    </tr>\n",
       "  </tbody>\n",
       "</table>\n",
       "</div>"
      ],
      "text/plain": [
       "           PatientID PracticeType gender                       race ethnicity  \\\n",
       "18711  F0A9C7DE924A7    COMMUNITY      F  Black or African American   unknown   \n",
       "38064  F7FF2EEC0B315    COMMUNITY      F                      White   unknown   \n",
       "39851  FE212489FB4DE    COMMUNITY      F                      White   unknown   \n",
       "31255  F14A9CC071E9F    COMMUNITY      M                      White   unknown   \n",
       "39753  F14AB898AB212    COMMUNITY      M                      White   unknown   \n",
       "\n",
       "       age     region  \n",
       "18711   51       west  \n",
       "38064   57  northeast  \n",
       "39851   52      south  \n",
       "31255   57       west  \n",
       "39753   75  northeast  "
      ]
     },
     "execution_count": 71,
     "metadata": {},
     "output_type": "execute_result"
    }
   ],
   "source": [
    "# Final training demographics table.\n",
    "demographics.sample(5)"
   ]
  },
  {
   "cell_type": "code",
   "execution_count": 72,
   "metadata": {},
   "outputs": [
    {
     "data": {
      "text/plain": [
       "(54786, 54786)"
      ]
     },
     "execution_count": 72,
     "metadata": {},
     "output_type": "execute_result"
    }
   ],
   "source": [
    "row_ID(demographics)"
   ]
  },
  {
   "cell_type": "code",
   "execution_count": 73,
   "metadata": {},
   "outputs": [
    {
     "name": "stdout",
     "output_type": "stream",
     "text": [
      "Variable       Type         Data/Info\n",
      "-------------------------------------\n",
      "demographics   DataFrame               PatientID Prac<...>n[54786 rows x 7 columns]\n",
      "enhanced_adv   DataFrame               PatientID Diag<...>n[68483 rows x 7 columns]\n"
     ]
    }
   ],
   "source": [
    "%whos DataFrame"
   ]
  },
  {
   "cell_type": "markdown",
   "metadata": {},
   "source": [
    "### 2. Enhanced_AdvancedNSCLC"
   ]
  },
  {
   "cell_type": "code",
   "execution_count": 74,
   "metadata": {},
   "outputs": [
    {
     "data": {
      "text/html": [
       "<div>\n",
       "<style scoped>\n",
       "    .dataframe tbody tr th:only-of-type {\n",
       "        vertical-align: middle;\n",
       "    }\n",
       "\n",
       "    .dataframe tbody tr th {\n",
       "        vertical-align: top;\n",
       "    }\n",
       "\n",
       "    .dataframe thead th {\n",
       "        text-align: right;\n",
       "    }\n",
       "</style>\n",
       "<table border=\"1\" class=\"dataframe\">\n",
       "  <thead>\n",
       "    <tr style=\"text-align: right;\">\n",
       "      <th></th>\n",
       "      <th>PatientID</th>\n",
       "      <th>DiagnosisDate</th>\n",
       "      <th>adv_date</th>\n",
       "      <th>Histology</th>\n",
       "      <th>GroupStage</th>\n",
       "      <th>SmokingStatus</th>\n",
       "      <th>adv_year_cat</th>\n",
       "    </tr>\n",
       "  </thead>\n",
       "  <tbody>\n",
       "    <tr>\n",
       "      <th>13663</th>\n",
       "      <td>FFD2415F7E937</td>\n",
       "      <td>2020-07-06</td>\n",
       "      <td>2020-07-06</td>\n",
       "      <td>Squamous cell carcinoma</td>\n",
       "      <td>Stage IVA</td>\n",
       "      <td>History of smoking</td>\n",
       "      <td>19-21</td>\n",
       "    </tr>\n",
       "    <tr>\n",
       "      <th>15419</th>\n",
       "      <td>F302FA7BBB722</td>\n",
       "      <td>2018-05-23</td>\n",
       "      <td>2018-05-23</td>\n",
       "      <td>Non-squamous cell carcinoma</td>\n",
       "      <td>Stage IV</td>\n",
       "      <td>History of smoking</td>\n",
       "      <td>17-18</td>\n",
       "    </tr>\n",
       "    <tr>\n",
       "      <th>35495</th>\n",
       "      <td>FF10953B17371</td>\n",
       "      <td>2015-03-05</td>\n",
       "      <td>2015-03-05</td>\n",
       "      <td>Squamous cell carcinoma</td>\n",
       "      <td>Stage IV</td>\n",
       "      <td>History of smoking</td>\n",
       "      <td>15-16</td>\n",
       "    </tr>\n",
       "    <tr>\n",
       "      <th>47204</th>\n",
       "      <td>F07699D9412B6</td>\n",
       "      <td>2017-03-20</td>\n",
       "      <td>2018-02-09</td>\n",
       "      <td>Non-squamous cell carcinoma</td>\n",
       "      <td>Stage IA</td>\n",
       "      <td>History of smoking</td>\n",
       "      <td>17-18</td>\n",
       "    </tr>\n",
       "    <tr>\n",
       "      <th>51797</th>\n",
       "      <td>F615E062DCE96</td>\n",
       "      <td>2015-04-01</td>\n",
       "      <td>2015-12-07</td>\n",
       "      <td>Non-squamous cell carcinoma</td>\n",
       "      <td>Stage IIIA</td>\n",
       "      <td>History of smoking</td>\n",
       "      <td>15-16</td>\n",
       "    </tr>\n",
       "  </tbody>\n",
       "</table>\n",
       "</div>"
      ],
      "text/plain": [
       "           PatientID DiagnosisDate   adv_date                    Histology  \\\n",
       "13663  FFD2415F7E937    2020-07-06 2020-07-06      Squamous cell carcinoma   \n",
       "15419  F302FA7BBB722    2018-05-23 2018-05-23  Non-squamous cell carcinoma   \n",
       "35495  FF10953B17371    2015-03-05 2015-03-05      Squamous cell carcinoma   \n",
       "47204  F07699D9412B6    2017-03-20 2018-02-09  Non-squamous cell carcinoma   \n",
       "51797  F615E062DCE96    2015-04-01 2015-12-07  Non-squamous cell carcinoma   \n",
       "\n",
       "       GroupStage       SmokingStatus adv_year_cat  \n",
       "13663   Stage IVA  History of smoking        19-21  \n",
       "15419    Stage IV  History of smoking        17-18  \n",
       "35495    Stage IV  History of smoking        15-16  \n",
       "47204    Stage IA  History of smoking        17-18  \n",
       "51797  Stage IIIA  History of smoking        15-16  "
      ]
     },
     "execution_count": 74,
     "metadata": {},
     "output_type": "execute_result"
    }
   ],
   "source": [
    "enhanced_adv.sample(5)"
   ]
  },
  {
   "cell_type": "code",
   "execution_count": 75,
   "metadata": {},
   "outputs": [
    {
     "name": "stdout",
     "output_type": "stream",
     "text": [
      "<class 'pandas.core.frame.DataFrame'>\n",
      "RangeIndex: 68483 entries, 0 to 68482\n",
      "Data columns (total 7 columns):\n",
      " #   Column         Non-Null Count  Dtype         \n",
      "---  ------         --------------  -----         \n",
      " 0   PatientID      68483 non-null  object        \n",
      " 1   DiagnosisDate  68447 non-null  object        \n",
      " 2   adv_date       68483 non-null  datetime64[ns]\n",
      " 3   Histology      68483 non-null  object        \n",
      " 4   GroupStage     68483 non-null  object        \n",
      " 5   SmokingStatus  68483 non-null  object        \n",
      " 6   adv_year_cat   68483 non-null  category      \n",
      "dtypes: category(1), datetime64[ns](1), object(5)\n",
      "memory usage: 3.2+ MB\n"
     ]
    }
   ],
   "source": [
    "enhanced_adv.info()"
   ]
  },
  {
   "cell_type": "code",
   "execution_count": 76,
   "metadata": {},
   "outputs": [],
   "source": [
    "enhanced_adv = enhanced_adv[enhanced_adv['PatientID'].isin(train_IDs)]"
   ]
  },
  {
   "cell_type": "code",
   "execution_count": 77,
   "metadata": {},
   "outputs": [
    {
     "data": {
      "text/plain": [
       "(54786, 54786)"
      ]
     },
     "execution_count": 77,
     "metadata": {},
     "output_type": "execute_result"
    }
   ],
   "source": [
    "row_ID(enhanced_adv)"
   ]
  },
  {
   "cell_type": "markdown",
   "metadata": {},
   "source": [
    "#### 2.1 Histology"
   ]
  },
  {
   "cell_type": "code",
   "execution_count": 78,
   "metadata": {},
   "outputs": [
    {
     "data": {
      "text/plain": [
       "Non-squamous cell carcinoma    0.689172\n",
       "Squamous cell carcinoma        0.258040\n",
       "NSCLC histology NOS            0.052787\n",
       "Name: Histology, dtype: float64"
      ]
     },
     "execution_count": 78,
     "metadata": {},
     "output_type": "execute_result"
    }
   ],
   "source": [
    "enhanced_adv['Histology'].value_counts(normalize = True, dropna = False)"
   ]
  },
  {
   "cell_type": "markdown",
   "metadata": {},
   "source": [
    "#### 2.2 GroupStage"
   ]
  },
  {
   "cell_type": "code",
   "execution_count": 79,
   "metadata": {},
   "outputs": [
    {
     "data": {
      "text/plain": [
       "Stage IV                       0.556200\n",
       "Stage IIIB                     0.109481\n",
       "Stage IIIA                     0.081024\n",
       "Stage IA                       0.036688\n",
       "Group stage is not reported    0.033749\n",
       "Stage IB                       0.032216\n",
       "Stage IVA                      0.030847\n",
       "Stage IVB                      0.026448\n",
       "Stage IIA                      0.023710\n",
       "Stage IIB                      0.023546\n",
       "Stage I                        0.018107\n",
       "Stage III                      0.013142\n",
       "Stage II                       0.005458\n",
       "Stage IIIC                     0.005403\n",
       "Stage IA3                      0.001752\n",
       "Stage IA2                      0.001570\n",
       "Stage IA1                      0.000475\n",
       "Stage 0                        0.000110\n",
       "Occult                         0.000073\n",
       "Name: GroupStage, dtype: float64"
      ]
     },
     "execution_count": 79,
     "metadata": {},
     "output_type": "execute_result"
    }
   ],
   "source": [
    "enhanced_adv['GroupStage'].value_counts(normalize = True, dropna = False)"
   ]
  },
  {
   "cell_type": "code",
   "execution_count": 80,
   "metadata": {},
   "outputs": [],
   "source": [
    "# Dictionary for regrouping stages\n",
    "stage_dict = { \n",
    "    'Stage I': 'I',\n",
    "    'Stage IA': 'I',\n",
    "    'Stage IA1': 'I', \n",
    "    'Stage IA2': 'I',\n",
    "    'Stage IA3': 'I', \n",
    "    'Stage IB': 'I',\n",
    "    'Stage II': 'II',\n",
    "    'Stage IIA': 'II',\n",
    "    'Stage IIB': 'II',\n",
    "    'Stage III': 'III',\n",
    "    'Stage IIIA': 'IIIA',\n",
    "    'Stage IIIB': 'IIIB',\n",
    "    'Stage IIIC': 'IIIC',\n",
    "    'Stage IV': 'IV',\n",
    "    'Stage IVA': 'IV',\n",
    "    'Stage IVB': 'IV'\n",
    "}\n",
    "\n",
    "enhanced_adv['stage'] = enhanced_adv['GroupStage'].map(stage_dict)"
   ]
  },
  {
   "cell_type": "code",
   "execution_count": 81,
   "metadata": {},
   "outputs": [],
   "source": [
    "enhanced_adv['stage'] = enhanced_adv['stage'].fillna('unknown')"
   ]
  },
  {
   "cell_type": "code",
   "execution_count": 82,
   "metadata": {},
   "outputs": [
    {
     "data": {
      "text/plain": [
       "IV         0.613496\n",
       "IIIB       0.109481\n",
       "I          0.090808\n",
       "IIIA       0.081024\n",
       "II         0.052714\n",
       "unknown    0.033932\n",
       "III        0.013142\n",
       "IIIC       0.005403\n",
       "Name: stage, dtype: float64"
      ]
     },
     "execution_count": 82,
     "metadata": {},
     "output_type": "execute_result"
    }
   ],
   "source": [
    "enhanced_adv['stage'].value_counts(normalize = True, dropna = False)"
   ]
  },
  {
   "cell_type": "code",
   "execution_count": 83,
   "metadata": {},
   "outputs": [],
   "source": [
    "enhanced_adv = enhanced_adv.drop(columns = ['GroupStage'])"
   ]
  },
  {
   "cell_type": "markdown",
   "metadata": {},
   "source": [
    "#### 2.3 SmokingStatus"
   ]
  },
  {
   "cell_type": "code",
   "execution_count": 84,
   "metadata": {},
   "outputs": [
    {
     "data": {
      "text/plain": [
       "History of smoking        86.819625\n",
       "No history of smoking     12.154565\n",
       "Unknown/Not documented     1.025810\n",
       "Name: SmokingStatus, dtype: float64"
      ]
     },
     "execution_count": 84,
     "metadata": {},
     "output_type": "execute_result"
    }
   ],
   "source": [
    "enhanced_adv['SmokingStatus'].value_counts(normalize = True, dropna = False)*100"
   ]
  },
  {
   "cell_type": "markdown",
   "metadata": {},
   "source": [
    "#### 2.4 AdvancedDiagnosisDate"
   ]
  },
  {
   "cell_type": "code",
   "execution_count": 85,
   "metadata": {},
   "outputs": [
    {
     "data": {
      "text/plain": [
       "Timestamp('2011-01-01 00:00:00')"
      ]
     },
     "execution_count": 85,
     "metadata": {},
     "output_type": "execute_result"
    }
   ],
   "source": [
    "enhanced_adv['adv_date'].min()"
   ]
  },
  {
   "cell_type": "code",
   "execution_count": 86,
   "metadata": {},
   "outputs": [
    {
     "data": {
      "text/plain": [
       "Timestamp('2021-02-25 00:00:00')"
      ]
     },
     "execution_count": 86,
     "metadata": {},
     "output_type": "execute_result"
    }
   ],
   "source": [
    "enhanced_adv['adv_date'].max()"
   ]
  },
  {
   "cell_type": "code",
   "execution_count": 87,
   "metadata": {},
   "outputs": [
    {
     "data": {
      "text/plain": [
       "count    54786.000000\n",
       "mean      2015.752364\n",
       "std          2.712601\n",
       "min       2011.000000\n",
       "25%       2014.000000\n",
       "50%       2016.000000\n",
       "75%       2018.000000\n",
       "max       2021.000000\n",
       "Name: adv_date, dtype: float64"
      ]
     },
     "execution_count": 87,
     "metadata": {},
     "output_type": "execute_result"
    }
   ],
   "source": [
    "enhanced_adv['adv_date'].dt.year.describe()"
   ]
  },
  {
   "cell_type": "code",
   "execution_count": 88,
   "metadata": {},
   "outputs": [
    {
     "data": {
      "text/plain": [
       "<AxesSubplot:xlabel='adv_date'>"
      ]
     },
     "execution_count": 88,
     "metadata": {},
     "output_type": "execute_result"
    },
    {
     "data": {
      "image/png": "[encoded data removed]",
      "text/plain": [
       "<Figure size 432x288 with 1 Axes>"
      ]
     },
     "metadata": {
      "needs_background": "light"
     },
     "output_type": "display_data"
    }
   ],
   "source": [
    "enhanced_adv.groupby([enhanced_adv['adv_date'].dt.year])['PatientID'].count().plot(kind = 'bar')"
   ]
  },
  {
   "cell_type": "code",
   "execution_count": 89,
   "metadata": {},
   "outputs": [
    {
     "data": {
      "text/plain": [
       "<AxesSubplot:xlabel='adv_date'>"
      ]
     },
     "execution_count": 89,
     "metadata": {},
     "output_type": "execute_result"
    },
    {
     "data": {
      "image/png": "[encoded data removed]",
      "text/plain": [
       "<Figure size 432x288 with 1 Axes>"
      ]
     },
     "metadata": {
      "needs_background": "light"
     },
     "output_type": "display_data"
    }
   ],
   "source": [
    "enhanced_adv.groupby([enhanced_adv['adv_date'].dt.month])['PatientID'].count().plot(kind = 'bar')"
   ]
  },
  {
   "cell_type": "code",
   "execution_count": 90,
   "metadata": {},
   "outputs": [],
   "source": [
    "enhanced_adv.loc[:, 'adv_year'] = enhanced_adv['adv_date'].dt.year"
   ]
  },
  {
   "cell_type": "markdown",
   "metadata": {},
   "source": [
    "#### 2.5 DiagnosisDate"
   ]
  },
  {
   "cell_type": "code",
   "execution_count": 91,
   "metadata": {},
   "outputs": [
    {
     "data": {
      "text/plain": [
       "26"
      ]
     },
     "execution_count": 91,
     "metadata": {},
     "output_type": "execute_result"
    }
   ],
   "source": [
    "enhanced_adv['DiagnosisDate'].isna().sum()"
   ]
  },
  {
   "cell_type": "code",
   "execution_count": 92,
   "metadata": {},
   "outputs": [],
   "source": [
    "enhanced_adv = enhanced_adv.rename(columns = {'DiagnosisDate': 'diagnosis_date'})"
   ]
  },
  {
   "cell_type": "code",
   "execution_count": 93,
   "metadata": {},
   "outputs": [],
   "source": [
    "# Missing diagnosis_date will be replaced with adv_date; other dates will be left untouched. \n",
    "enhanced_adv['diagnosis_date'] = (\n",
    "    np.where(enhanced_adv['diagnosis_date'].isna(), enhanced_adv['adv_date'], enhanced_adv['diagnosis_date'])\n",
    ")"
   ]
  },
  {
   "cell_type": "code",
   "execution_count": 94,
   "metadata": {},
   "outputs": [],
   "source": [
    "enhanced_adv['diagnosis_date'] = pd.to_datetime(enhanced_adv['diagnosis_date'])"
   ]
  },
  {
   "cell_type": "code",
   "execution_count": 95,
   "metadata": {},
   "outputs": [
    {
     "data": {
      "text/plain": [
       "Timestamp('1980-01-01 00:00:00')"
      ]
     },
     "execution_count": 95,
     "metadata": {},
     "output_type": "execute_result"
    }
   ],
   "source": [
    "enhanced_adv['diagnosis_date'].min()"
   ]
  },
  {
   "cell_type": "code",
   "execution_count": 96,
   "metadata": {},
   "outputs": [
    {
     "data": {
      "text/plain": [
       "Timestamp('2021-02-25 00:00:00')"
      ]
     },
     "execution_count": 96,
     "metadata": {},
     "output_type": "execute_result"
    }
   ],
   "source": [
    "enhanced_adv['diagnosis_date'].max()"
   ]
  },
  {
   "cell_type": "code",
   "execution_count": 97,
   "metadata": {},
   "outputs": [
    {
     "data": {
      "text/plain": [
       "count    54786.00000\n",
       "mean      2015.18136\n",
       "std          3.13868\n",
       "min       1980.00000\n",
       "25%       2013.00000\n",
       "50%       2015.00000\n",
       "75%       2018.00000\n",
       "max       2021.00000\n",
       "Name: diagnosis_date, dtype: float64"
      ]
     },
     "execution_count": 97,
     "metadata": {},
     "output_type": "execute_result"
    }
   ],
   "source": [
    "enhanced_adv['diagnosis_date'].dt.year.describe()"
   ]
  },
  {
   "cell_type": "code",
   "execution_count": 98,
   "metadata": {},
   "outputs": [
    {
     "data": {
      "text/plain": [
       "<AxesSubplot:xlabel='diagnosis_date'>"
      ]
     },
     "execution_count": 98,
     "metadata": {},
     "output_type": "execute_result"
    },
    {
     "data": {
      "image/png": "[encoded data removed]",
      "text/plain": [
       "<Figure size 432x288 with 1 Axes>"
      ]
     },
     "metadata": {
      "needs_background": "light"
     },
     "output_type": "display_data"
    }
   ],
   "source": [
    "# Bar plot of number of new NSCLC diagnoses per year.\n",
    "enhanced_adv.groupby([enhanced_adv['diagnosis_date'].dt.year])['PatientID'].count().plot(kind = 'bar')"
   ]
  },
  {
   "cell_type": "markdown",
   "metadata": {},
   "source": [
    "**The range of dates for diagnosis is 1/1980 to 2/2021 with a median year of 2015.** "
   ]
  },
  {
   "cell_type": "code",
   "execution_count": 99,
   "metadata": {},
   "outputs": [
    {
     "data": {
      "text/plain": [
       "0.2711824188661337"
      ]
     },
     "execution_count": 99,
     "metadata": {},
     "output_type": "execute_result"
    }
   ],
   "source": [
    "# Percent of patients diagnosed prior to advanced diagnosis. \n",
    "(\n",
    "    enhanced_adv\n",
    "    .query('diagnosis_date < adv_date')\n",
    "    .shape[0]/(len(enhanced_adv))\n",
    ")"
   ]
  },
  {
   "cell_type": "markdown",
   "metadata": {},
   "source": [
    "#### 2.6 Time from diagnosis date to advanced date"
   ]
  },
  {
   "cell_type": "code",
   "execution_count": 100,
   "metadata": {},
   "outputs": [],
   "source": [
    "enhanced_adv.loc[:, 'delta_adv_diagnosis'] = (enhanced_adv['adv_date'] - enhanced_adv['diagnosis_date']).dt.days"
   ]
  },
  {
   "cell_type": "code",
   "execution_count": 101,
   "metadata": {},
   "outputs": [
    {
     "data": {
      "text/html": [
       "<div>\n",
       "<style scoped>\n",
       "    .dataframe tbody tr th:only-of-type {\n",
       "        vertical-align: middle;\n",
       "    }\n",
       "\n",
       "    .dataframe tbody tr th {\n",
       "        vertical-align: top;\n",
       "    }\n",
       "\n",
       "    .dataframe thead th {\n",
       "        text-align: right;\n",
       "    }\n",
       "</style>\n",
       "<table border=\"1\" class=\"dataframe\">\n",
       "  <thead>\n",
       "    <tr style=\"text-align: right;\">\n",
       "      <th></th>\n",
       "      <th>adv_year</th>\n",
       "      <th>delta_adv_diagnosis</th>\n",
       "    </tr>\n",
       "  </thead>\n",
       "  <tbody>\n",
       "    <tr>\n",
       "      <th>count</th>\n",
       "      <td>14857.000000</td>\n",
       "      <td>14857.000000</td>\n",
       "    </tr>\n",
       "    <tr>\n",
       "      <th>mean</th>\n",
       "      <td>2015.782258</td>\n",
       "      <td>775.065154</td>\n",
       "    </tr>\n",
       "    <tr>\n",
       "      <th>std</th>\n",
       "      <td>2.672944</td>\n",
       "      <td>916.952853</td>\n",
       "    </tr>\n",
       "    <tr>\n",
       "      <th>min</th>\n",
       "      <td>2011.000000</td>\n",
       "      <td>1.000000</td>\n",
       "    </tr>\n",
       "    <tr>\n",
       "      <th>25%</th>\n",
       "      <td>2014.000000</td>\n",
       "      <td>252.000000</td>\n",
       "    </tr>\n",
       "    <tr>\n",
       "      <th>50%</th>\n",
       "      <td>2016.000000</td>\n",
       "      <td>462.000000</td>\n",
       "    </tr>\n",
       "    <tr>\n",
       "      <th>75%</th>\n",
       "      <td>2018.000000</td>\n",
       "      <td>920.000000</td>\n",
       "    </tr>\n",
       "    <tr>\n",
       "      <th>max</th>\n",
       "      <td>2021.000000</td>\n",
       "      <td>13062.000000</td>\n",
       "    </tr>\n",
       "  </tbody>\n",
       "</table>\n",
       "</div>"
      ],
      "text/plain": [
       "           adv_year  delta_adv_diagnosis\n",
       "count  14857.000000         14857.000000\n",
       "mean    2015.782258           775.065154\n",
       "std        2.672944           916.952853\n",
       "min     2011.000000             1.000000\n",
       "25%     2014.000000           252.000000\n",
       "50%     2016.000000           462.000000\n",
       "75%     2018.000000           920.000000\n",
       "max     2021.000000         13062.000000"
      ]
     },
     "execution_count": 101,
     "metadata": {},
     "output_type": "execute_result"
    }
   ],
   "source": [
    "# Brief summary statistics on time between diagnosis date and advanced diagnosis for those diagnosed prior to advanced diagnosis.\n",
    "(\n",
    "    enhanced_adv\n",
    "    .query('delta_adv_diagnosis > 0')\n",
    "    .describe()\n",
    ")"
   ]
  },
  {
   "cell_type": "code",
   "execution_count": 102,
   "metadata": {},
   "outputs": [
    {
     "data": {
      "text/html": [
       "<div>\n",
       "<style scoped>\n",
       "    .dataframe tbody tr th:only-of-type {\n",
       "        vertical-align: middle;\n",
       "    }\n",
       "\n",
       "    .dataframe tbody tr th {\n",
       "        vertical-align: top;\n",
       "    }\n",
       "\n",
       "    .dataframe thead th {\n",
       "        text-align: right;\n",
       "    }\n",
       "</style>\n",
       "<table border=\"1\" class=\"dataframe\">\n",
       "  <thead>\n",
       "    <tr style=\"text-align: right;\">\n",
       "      <th></th>\n",
       "      <th>PatientID</th>\n",
       "      <th>diagnosis_date</th>\n",
       "      <th>adv_date</th>\n",
       "      <th>Histology</th>\n",
       "      <th>SmokingStatus</th>\n",
       "      <th>adv_year_cat</th>\n",
       "      <th>stage</th>\n",
       "      <th>adv_year</th>\n",
       "      <th>delta_adv_diagnosis</th>\n",
       "    </tr>\n",
       "  </thead>\n",
       "  <tbody>\n",
       "    <tr>\n",
       "      <th>29061</th>\n",
       "      <td>F6C46EDC3AF8A</td>\n",
       "      <td>2013-05-09</td>\n",
       "      <td>2014-10-01</td>\n",
       "      <td>Non-squamous cell carcinoma</td>\n",
       "      <td>History of smoking</td>\n",
       "      <td>13-14</td>\n",
       "      <td>I</td>\n",
       "      <td>2014</td>\n",
       "      <td>510</td>\n",
       "    </tr>\n",
       "    <tr>\n",
       "      <th>50610</th>\n",
       "      <td>F188A158F58E8</td>\n",
       "      <td>2016-08-04</td>\n",
       "      <td>2017-05-03</td>\n",
       "      <td>Squamous cell carcinoma</td>\n",
       "      <td>History of smoking</td>\n",
       "      <td>17-18</td>\n",
       "      <td>IIIA</td>\n",
       "      <td>2017</td>\n",
       "      <td>272</td>\n",
       "    </tr>\n",
       "    <tr>\n",
       "      <th>24750</th>\n",
       "      <td>FBCB8AF1AD5C4</td>\n",
       "      <td>2015-04-15</td>\n",
       "      <td>2015-04-15</td>\n",
       "      <td>Squamous cell carcinoma</td>\n",
       "      <td>History of smoking</td>\n",
       "      <td>15-16</td>\n",
       "      <td>IV</td>\n",
       "      <td>2015</td>\n",
       "      <td>0</td>\n",
       "    </tr>\n",
       "    <tr>\n",
       "      <th>33145</th>\n",
       "      <td>F881B65E2ABFA</td>\n",
       "      <td>2018-11-26</td>\n",
       "      <td>2018-11-26</td>\n",
       "      <td>Non-squamous cell carcinoma</td>\n",
       "      <td>History of smoking</td>\n",
       "      <td>17-18</td>\n",
       "      <td>IV</td>\n",
       "      <td>2018</td>\n",
       "      <td>0</td>\n",
       "    </tr>\n",
       "    <tr>\n",
       "      <th>3688</th>\n",
       "      <td>F31E244EEAEA2</td>\n",
       "      <td>2013-06-28</td>\n",
       "      <td>2013-06-28</td>\n",
       "      <td>Non-squamous cell carcinoma</td>\n",
       "      <td>History of smoking</td>\n",
       "      <td>13-14</td>\n",
       "      <td>IV</td>\n",
       "      <td>2013</td>\n",
       "      <td>0</td>\n",
       "    </tr>\n",
       "  </tbody>\n",
       "</table>\n",
       "</div>"
      ],
      "text/plain": [
       "           PatientID diagnosis_date   adv_date                    Histology  \\\n",
       "29061  F6C46EDC3AF8A     2013-05-09 2014-10-01  Non-squamous cell carcinoma   \n",
       "50610  F188A158F58E8     2016-08-04 2017-05-03      Squamous cell carcinoma   \n",
       "24750  FBCB8AF1AD5C4     2015-04-15 2015-04-15      Squamous cell carcinoma   \n",
       "33145  F881B65E2ABFA     2018-11-26 2018-11-26  Non-squamous cell carcinoma   \n",
       "3688   F31E244EEAEA2     2013-06-28 2013-06-28  Non-squamous cell carcinoma   \n",
       "\n",
       "            SmokingStatus adv_year_cat stage  adv_year  delta_adv_diagnosis  \n",
       "29061  History of smoking        13-14     I      2014                  510  \n",
       "50610  History of smoking        17-18  IIIA      2017                  272  \n",
       "24750  History of smoking        15-16    IV      2015                    0  \n",
       "33145  History of smoking        17-18    IV      2018                    0  \n",
       "3688   History of smoking        13-14    IV      2013                    0  "
      ]
     },
     "execution_count": 102,
     "metadata": {},
     "output_type": "execute_result"
    }
   ],
   "source": [
    "# Final enhanced_adv dataframe\n",
    "enhanced_adv.sample(5)"
   ]
  },
  {
   "cell_type": "code",
   "execution_count": 103,
   "metadata": {},
   "outputs": [
    {
     "data": {
      "text/plain": [
       "(54786, 54786)"
      ]
     },
     "execution_count": 103,
     "metadata": {},
     "output_type": "execute_result"
    }
   ],
   "source": [
    "row_ID(enhanced_adv)"
   ]
  },
  {
   "cell_type": "code",
   "execution_count": 104,
   "metadata": {},
   "outputs": [
    {
     "name": "stdout",
     "output_type": "stream",
     "text": [
      "Variable       Type         Data/Info\n",
      "-------------------------------------\n",
      "demographics   DataFrame               PatientID Prac<...>n[54786 rows x 7 columns]\n",
      "enhanced_adv   DataFrame               PatientID diag<...>n[54786 rows x 9 columns]\n"
     ]
    }
   ],
   "source": [
    "%whos DataFrame"
   ]
  },
  {
   "cell_type": "markdown",
   "metadata": {},
   "source": [
    "### 3. Mortality "
   ]
  },
  {
   "cell_type": "code",
   "execution_count": 105,
   "metadata": {},
   "outputs": [],
   "source": [
    "mortality = pd.read_csv('Enhanced_Mortality_V2.csv')"
   ]
  },
  {
   "cell_type": "code",
   "execution_count": 106,
   "metadata": {},
   "outputs": [
    {
     "data": {
      "text/html": [
       "<div>\n",
       "<style scoped>\n",
       "    .dataframe tbody tr th:only-of-type {\n",
       "        vertical-align: middle;\n",
       "    }\n",
       "\n",
       "    .dataframe tbody tr th {\n",
       "        vertical-align: top;\n",
       "    }\n",
       "\n",
       "    .dataframe thead th {\n",
       "        text-align: right;\n",
       "    }\n",
       "</style>\n",
       "<table border=\"1\" class=\"dataframe\">\n",
       "  <thead>\n",
       "    <tr style=\"text-align: right;\">\n",
       "      <th></th>\n",
       "      <th>PatientID</th>\n",
       "      <th>DateOfDeath</th>\n",
       "    </tr>\n",
       "  </thead>\n",
       "  <tbody>\n",
       "    <tr>\n",
       "      <th>39562</th>\n",
       "      <td>F6509251EB0CB</td>\n",
       "      <td>2020-12</td>\n",
       "    </tr>\n",
       "    <tr>\n",
       "      <th>47374</th>\n",
       "      <td>F2648024C913A</td>\n",
       "      <td>2015-08</td>\n",
       "    </tr>\n",
       "    <tr>\n",
       "      <th>18322</th>\n",
       "      <td>FF60A3305EFBA</td>\n",
       "      <td>2021-01</td>\n",
       "    </tr>\n",
       "    <tr>\n",
       "      <th>40891</th>\n",
       "      <td>F95241B3039DE</td>\n",
       "      <td>2020-09</td>\n",
       "    </tr>\n",
       "    <tr>\n",
       "      <th>37429</th>\n",
       "      <td>F42F99FBFBA81</td>\n",
       "      <td>2014-06</td>\n",
       "    </tr>\n",
       "  </tbody>\n",
       "</table>\n",
       "</div>"
      ],
      "text/plain": [
       "           PatientID DateOfDeath\n",
       "39562  F6509251EB0CB     2020-12\n",
       "47374  F2648024C913A     2015-08\n",
       "18322  FF60A3305EFBA     2021-01\n",
       "40891  F95241B3039DE     2020-09\n",
       "37429  F42F99FBFBA81     2014-06"
      ]
     },
     "execution_count": 106,
     "metadata": {},
     "output_type": "execute_result"
    }
   ],
   "source": [
    "mortality.sample(5)"
   ]
  },
  {
   "cell_type": "code",
   "execution_count": 107,
   "metadata": {},
   "outputs": [
    {
     "name": "stdout",
     "output_type": "stream",
     "text": [
      "<class 'pandas.core.frame.DataFrame'>\n",
      "RangeIndex: 49082 entries, 0 to 49081\n",
      "Data columns (total 2 columns):\n",
      " #   Column       Non-Null Count  Dtype \n",
      "---  ------       --------------  ----- \n",
      " 0   PatientID    49082 non-null  object\n",
      " 1   DateOfDeath  49082 non-null  object\n",
      "dtypes: object(2)\n",
      "memory usage: 767.0+ KB\n"
     ]
    }
   ],
   "source": [
    "mortality.info()"
   ]
  },
  {
   "cell_type": "code",
   "execution_count": 108,
   "metadata": {},
   "outputs": [],
   "source": [
    "mortality = mortality[mortality['PatientID'].isin(train_IDs)]"
   ]
  },
  {
   "cell_type": "code",
   "execution_count": 109,
   "metadata": {},
   "outputs": [
    {
     "data": {
      "text/plain": [
       "(39276, 39276)"
      ]
     },
     "execution_count": 109,
     "metadata": {},
     "output_type": "execute_result"
    }
   ],
   "source": [
    "row_ID(mortality)"
   ]
  },
  {
   "cell_type": "code",
   "execution_count": 110,
   "metadata": {},
   "outputs": [],
   "source": [
    "mortality = mortality.rename(columns = {'DateOfDeath': 'death_date'})"
   ]
  },
  {
   "cell_type": "code",
   "execution_count": 111,
   "metadata": {},
   "outputs": [
    {
     "data": {
      "text/html": [
       "<div>\n",
       "<style scoped>\n",
       "    .dataframe tbody tr th:only-of-type {\n",
       "        vertical-align: middle;\n",
       "    }\n",
       "\n",
       "    .dataframe tbody tr th {\n",
       "        vertical-align: top;\n",
       "    }\n",
       "\n",
       "    .dataframe thead th {\n",
       "        text-align: right;\n",
       "    }\n",
       "</style>\n",
       "<table border=\"1\" class=\"dataframe\">\n",
       "  <thead>\n",
       "    <tr style=\"text-align: right;\">\n",
       "      <th></th>\n",
       "      <th>PatientID</th>\n",
       "      <th>death_date</th>\n",
       "    </tr>\n",
       "  </thead>\n",
       "  <tbody>\n",
       "    <tr>\n",
       "      <th>109</th>\n",
       "      <td>FAF6E3C8FE4AB</td>\n",
       "      <td>2019</td>\n",
       "    </tr>\n",
       "    <tr>\n",
       "      <th>120</th>\n",
       "      <td>F3C779F8FB75B</td>\n",
       "      <td>2019</td>\n",
       "    </tr>\n",
       "    <tr>\n",
       "      <th>1100</th>\n",
       "      <td>FED71A9C1D23F</td>\n",
       "      <td>2020</td>\n",
       "    </tr>\n",
       "    <tr>\n",
       "      <th>7372</th>\n",
       "      <td>F8998F4E8FBA0</td>\n",
       "      <td>2017</td>\n",
       "    </tr>\n",
       "    <tr>\n",
       "      <th>9395</th>\n",
       "      <td>F1B49E083CE0C</td>\n",
       "      <td>2015</td>\n",
       "    </tr>\n",
       "    <tr>\n",
       "      <th>12065</th>\n",
       "      <td>FFE3CF2351E63</td>\n",
       "      <td>2013</td>\n",
       "    </tr>\n",
       "    <tr>\n",
       "      <th>13575</th>\n",
       "      <td>FECA353FF9906</td>\n",
       "      <td>2014</td>\n",
       "    </tr>\n",
       "    <tr>\n",
       "      <th>23342</th>\n",
       "      <td>F3480BF8FFEFE</td>\n",
       "      <td>2014</td>\n",
       "    </tr>\n",
       "    <tr>\n",
       "      <th>24894</th>\n",
       "      <td>F67F3540EFFFB</td>\n",
       "      <td>2020</td>\n",
       "    </tr>\n",
       "    <tr>\n",
       "      <th>35358</th>\n",
       "      <td>FCAB88055F5DB</td>\n",
       "      <td>2016</td>\n",
       "    </tr>\n",
       "    <tr>\n",
       "      <th>39993</th>\n",
       "      <td>FE386C85E031F</td>\n",
       "      <td>2014</td>\n",
       "    </tr>\n",
       "    <tr>\n",
       "      <th>41151</th>\n",
       "      <td>F70189469414A</td>\n",
       "      <td>2014</td>\n",
       "    </tr>\n",
       "    <tr>\n",
       "      <th>41487</th>\n",
       "      <td>FD5D04F73ECBE</td>\n",
       "      <td>2020</td>\n",
       "    </tr>\n",
       "  </tbody>\n",
       "</table>\n",
       "</div>"
      ],
      "text/plain": [
       "           PatientID death_date\n",
       "109    FAF6E3C8FE4AB       2019\n",
       "120    F3C779F8FB75B       2019\n",
       "1100   FED71A9C1D23F       2020\n",
       "7372   F8998F4E8FBA0       2017\n",
       "9395   F1B49E083CE0C       2015\n",
       "12065  FFE3CF2351E63       2013\n",
       "13575  FECA353FF9906       2014\n",
       "23342  F3480BF8FFEFE       2014\n",
       "24894  F67F3540EFFFB       2020\n",
       "35358  FCAB88055F5DB       2016\n",
       "39993  FE386C85E031F       2014\n",
       "41151  F70189469414A       2014\n",
       "41487  FD5D04F73ECBE       2020"
      ]
     },
     "execution_count": 111,
     "metadata": {},
     "output_type": "execute_result"
    }
   ],
   "source": [
    "# Patients with year granularity.\n",
    "mortality[mortality['death_date'].str.len() == 4]"
   ]
  },
  {
   "cell_type": "markdown",
   "metadata": {},
   "source": [
    "**The date of death is generalized to the month for de-identification purposes, however a small number have just the year for date of death. For analyses requiring a day of death, Flatiron Health recommends imputing the 15th of the month since this approach best approximates the results generated from using the exact date of death. For those with a date of death at a year granularity, Flatiron recommends imputing the middle of the year and conducting a sensitivty analysis to evaluate assumption.**"
   ]
  },
  {
   "cell_type": "code",
   "execution_count": 112,
   "metadata": {},
   "outputs": [],
   "source": [
    "# For patients with year granularity, impute middle of the year (ie., July 1)\n",
    "mortality['death_date'] = (\n",
    "    np.where(mortality['death_date'].str.len() == 4, mortality['death_date'] + '-07-01', mortality['death_date'])\n",
    ")"
   ]
  },
  {
   "cell_type": "code",
   "execution_count": 113,
   "metadata": {},
   "outputs": [],
   "source": [
    "# For patients with month granularity, impute 15th of the month.\n",
    "mortality['death_date'] = (\n",
    "    np.where(mortality['death_date'].str.len() == 7, mortality['death_date'] + '-15', mortality['death_date'])\n",
    ")"
   ]
  },
  {
   "cell_type": "code",
   "execution_count": 114,
   "metadata": {},
   "outputs": [],
   "source": [
    "mortality['death_date'] = pd.to_datetime(mortality['death_date'])"
   ]
  },
  {
   "cell_type": "code",
   "execution_count": 115,
   "metadata": {},
   "outputs": [
    {
     "data": {
      "text/plain": [
       "0.7168984777132844"
      ]
     },
     "execution_count": 115,
     "metadata": {},
     "output_type": "execute_result"
    }
   ],
   "source": [
    "# Percent of patients with a death date in the training set. \n",
    "mortality.shape[0]/len(train_IDs)"
   ]
  },
  {
   "cell_type": "code",
   "execution_count": 116,
   "metadata": {},
   "outputs": [
    {
     "data": {
      "text/plain": [
       "<AxesSubplot:xlabel='death_date'>"
      ]
     },
     "execution_count": 116,
     "metadata": {},
     "output_type": "execute_result"
    },
    {
     "data": {
      "image/png": "[encoded data removed]",
      "text/plain": [
       "<Figure size 432x288 with 1 Axes>"
      ]
     },
     "metadata": {
      "needs_background": "light"
     },
     "output_type": "display_data"
    }
   ],
   "source": [
    "# Bar plot of monthly mortality for aNSCLC. \n",
    "mortality.groupby([mortality['death_date'].dt.month])['PatientID'].count().plot(kind = 'bar')"
   ]
  },
  {
   "cell_type": "code",
   "execution_count": 117,
   "metadata": {},
   "outputs": [
    {
     "data": {
      "text/plain": [
       "<AxesSubplot:xlabel='death_date'>"
      ]
     },
     "execution_count": 117,
     "metadata": {},
     "output_type": "execute_result"
    },
    {
     "data": {
      "image/png": "[encoded data removed]",
      "text/plain": [
       "<Figure size 432x288 with 1 Axes>"
      ]
     },
     "metadata": {
      "needs_background": "light"
     },
     "output_type": "display_data"
    }
   ],
   "source": [
    "# Bar plot of yearly mortality for aNSCLC. \n",
    "mortality.groupby([mortality['death_date'].dt.year])['PatientID'].count().plot(kind = 'bar')"
   ]
  },
  {
   "cell_type": "markdown",
   "metadata": {},
   "source": [
    "#### Censoring"
   ]
  },
  {
   "cell_type": "markdown",
   "metadata": {},
   "source": [
    "**For patients for whom a date of death is not known, the censor date can be defined either as the data cutoff date or as the last confirmed activity date. The last confirmed activity date is broadly defined as the last date at which there is evidence in the EHR that a patient is alive. Evidence of a record in at least one of the items listed below qualifies as patient-level confirmed activity:**\n",
    "* **Visit: VisitDate**\n",
    "* **Enhanced_AdvNSCLC_Orals: StartDate or EndDate**\n",
    "* **Enhanced_AdvNSCLCBiomarkers: SpecimenCollectedDate**\n",
    "* **Enhanced_AdvNSCLCProgression: LastClinicNoteDate or ProgressionDate**"
   ]
  },
  {
   "cell_type": "code",
   "execution_count": 118,
   "metadata": {},
   "outputs": [],
   "source": [
    "visit = pd.read_csv('Visit.csv')\n",
    "telemedicine = pd.read_csv('Telemedicine.csv')\n",
    "orals = pd.read_csv('Enhanced_AdvNSCLC_Orals.csv')\n",
    "biomarkers = pd.read_csv('Enhanced_AdvNSCLCBiomarkers.csv')\n",
    "progression = pd.read_csv ('Enhanced_AdvNSCLCProgression.csv')"
   ]
  },
  {
   "cell_type": "markdown",
   "metadata": {},
   "source": [
    "##### Visit and Telemedicine"
   ]
  },
  {
   "cell_type": "code",
   "execution_count": 119,
   "metadata": {},
   "outputs": [
    {
     "data": {
      "text/html": [
       "<div>\n",
       "<style scoped>\n",
       "    .dataframe tbody tr th:only-of-type {\n",
       "        vertical-align: middle;\n",
       "    }\n",
       "\n",
       "    .dataframe tbody tr th {\n",
       "        vertical-align: top;\n",
       "    }\n",
       "\n",
       "    .dataframe thead th {\n",
       "        text-align: right;\n",
       "    }\n",
       "</style>\n",
       "<table border=\"1\" class=\"dataframe\">\n",
       "  <thead>\n",
       "    <tr style=\"text-align: right;\">\n",
       "      <th></th>\n",
       "      <th>PatientID</th>\n",
       "      <th>VisitDate</th>\n",
       "      <th>VisitType</th>\n",
       "      <th>IsVitalsVisit</th>\n",
       "      <th>IsTreatmentVisit</th>\n",
       "      <th>IsLabVisit</th>\n",
       "    </tr>\n",
       "  </thead>\n",
       "  <tbody>\n",
       "    <tr>\n",
       "      <th>2280496</th>\n",
       "      <td>F614E10952851</td>\n",
       "      <td>2015-09-21</td>\n",
       "      <td>Vitals</td>\n",
       "      <td>True</td>\n",
       "      <td>False</td>\n",
       "      <td>True</td>\n",
       "    </tr>\n",
       "    <tr>\n",
       "      <th>1385643</th>\n",
       "      <td>F353FF1C94AC0</td>\n",
       "      <td>2016-02-23</td>\n",
       "      <td>Vitals</td>\n",
       "      <td>True</td>\n",
       "      <td>False</td>\n",
       "      <td>False</td>\n",
       "    </tr>\n",
       "    <tr>\n",
       "      <th>228888</th>\n",
       "      <td>FDF3EA95BDF6F</td>\n",
       "      <td>2018-08-16</td>\n",
       "      <td>Treatment</td>\n",
       "      <td>True</td>\n",
       "      <td>True</td>\n",
       "      <td>False</td>\n",
       "    </tr>\n",
       "    <tr>\n",
       "      <th>2155965</th>\n",
       "      <td>FE200E3E107BE</td>\n",
       "      <td>2020-07-20</td>\n",
       "      <td>Treatment</td>\n",
       "      <td>False</td>\n",
       "      <td>True</td>\n",
       "      <td>False</td>\n",
       "    </tr>\n",
       "    <tr>\n",
       "      <th>1686428</th>\n",
       "      <td>FFADA219FABC3</td>\n",
       "      <td>2016-07-19</td>\n",
       "      <td>Vitals</td>\n",
       "      <td>True</td>\n",
       "      <td>False</td>\n",
       "      <td>True</td>\n",
       "    </tr>\n",
       "  </tbody>\n",
       "</table>\n",
       "</div>"
      ],
      "text/plain": [
       "             PatientID   VisitDate  VisitType  IsVitalsVisit  \\\n",
       "2280496  F614E10952851  2015-09-21     Vitals           True   \n",
       "1385643  F353FF1C94AC0  2016-02-23     Vitals           True   \n",
       "228888   FDF3EA95BDF6F  2018-08-16  Treatment           True   \n",
       "2155965  FE200E3E107BE  2020-07-20  Treatment          False   \n",
       "1686428  FFADA219FABC3  2016-07-19     Vitals           True   \n",
       "\n",
       "         IsTreatmentVisit  IsLabVisit  \n",
       "2280496             False        True  \n",
       "1385643             False       False  \n",
       "228888               True       False  \n",
       "2155965              True       False  \n",
       "1686428             False        True  "
      ]
     },
     "execution_count": 119,
     "metadata": {},
     "output_type": "execute_result"
    }
   ],
   "source": [
    "visit.sample(5)"
   ]
  },
  {
   "cell_type": "code",
   "execution_count": 120,
   "metadata": {},
   "outputs": [
    {
     "data": {
      "text/plain": [
       "(2446952, 6)"
      ]
     },
     "execution_count": 120,
     "metadata": {},
     "output_type": "execute_result"
    }
   ],
   "source": [
    "visit.shape"
   ]
  },
  {
   "cell_type": "code",
   "execution_count": 121,
   "metadata": {},
   "outputs": [
    {
     "data": {
      "text/html": [
       "<div>\n",
       "<style scoped>\n",
       "    .dataframe tbody tr th:only-of-type {\n",
       "        vertical-align: middle;\n",
       "    }\n",
       "\n",
       "    .dataframe tbody tr th {\n",
       "        vertical-align: top;\n",
       "    }\n",
       "\n",
       "    .dataframe thead th {\n",
       "        text-align: right;\n",
       "    }\n",
       "</style>\n",
       "<table border=\"1\" class=\"dataframe\">\n",
       "  <thead>\n",
       "    <tr style=\"text-align: right;\">\n",
       "      <th></th>\n",
       "      <th>PatientID</th>\n",
       "      <th>VisitDate</th>\n",
       "    </tr>\n",
       "  </thead>\n",
       "  <tbody>\n",
       "    <tr>\n",
       "      <th>4441</th>\n",
       "      <td>F17794F154B43</td>\n",
       "      <td>2021-01-07</td>\n",
       "    </tr>\n",
       "    <tr>\n",
       "      <th>6777</th>\n",
       "      <td>FD4AA8D703350</td>\n",
       "      <td>2020-12-02</td>\n",
       "    </tr>\n",
       "    <tr>\n",
       "      <th>9007</th>\n",
       "      <td>FA94D98A0244B</td>\n",
       "      <td>2020-06-18</td>\n",
       "    </tr>\n",
       "    <tr>\n",
       "      <th>1804</th>\n",
       "      <td>F15EE8B3FE5C6</td>\n",
       "      <td>2021-02-10</td>\n",
       "    </tr>\n",
       "    <tr>\n",
       "      <th>625</th>\n",
       "      <td>F2FC9D424C622</td>\n",
       "      <td>2020-10-06</td>\n",
       "    </tr>\n",
       "  </tbody>\n",
       "</table>\n",
       "</div>"
      ],
      "text/plain": [
       "          PatientID   VisitDate\n",
       "4441  F17794F154B43  2021-01-07\n",
       "6777  FD4AA8D703350  2020-12-02\n",
       "9007  FA94D98A0244B  2020-06-18\n",
       "1804  F15EE8B3FE5C6  2021-02-10\n",
       "625   F2FC9D424C622  2020-10-06"
      ]
     },
     "execution_count": 121,
     "metadata": {},
     "output_type": "execute_result"
    }
   ],
   "source": [
    "telemedicine.sample(5)"
   ]
  },
  {
   "cell_type": "code",
   "execution_count": 122,
   "metadata": {},
   "outputs": [
    {
     "data": {
      "text/plain": [
       "(16712, 2)"
      ]
     },
     "execution_count": 122,
     "metadata": {},
     "output_type": "execute_result"
    }
   ],
   "source": [
    "telemedicine.shape"
   ]
  },
  {
   "cell_type": "code",
   "execution_count": 123,
   "metadata": {},
   "outputs": [],
   "source": [
    "visit_tele = (\n",
    "    visit\n",
    "    .drop(columns = ['VisitType', 'IsVitalsVisit', 'IsTreatmentVisit', 'IsLabVisit'])\n",
    "    .append(telemedicine)\n",
    ") "
   ]
  },
  {
   "cell_type": "code",
   "execution_count": 124,
   "metadata": {},
   "outputs": [
    {
     "data": {
      "text/plain": [
       "(2463664, 2)"
      ]
     },
     "execution_count": 124,
     "metadata": {},
     "output_type": "execute_result"
    }
   ],
   "source": [
    "visit_tele.shape"
   ]
  },
  {
   "cell_type": "code",
   "execution_count": 125,
   "metadata": {},
   "outputs": [],
   "source": [
    "visit_tele.loc[:,'VisitDate'] = pd.to_datetime(visit_tele['VisitDate'])"
   ]
  },
  {
   "cell_type": "code",
   "execution_count": 126,
   "metadata": {},
   "outputs": [
    {
     "data": {
      "text/html": [
       "<div>\n",
       "<style scoped>\n",
       "    .dataframe tbody tr th:only-of-type {\n",
       "        vertical-align: middle;\n",
       "    }\n",
       "\n",
       "    .dataframe tbody tr th {\n",
       "        vertical-align: top;\n",
       "    }\n",
       "\n",
       "    .dataframe thead th {\n",
       "        text-align: right;\n",
       "    }\n",
       "</style>\n",
       "<table border=\"1\" class=\"dataframe\">\n",
       "  <thead>\n",
       "    <tr style=\"text-align: right;\">\n",
       "      <th></th>\n",
       "      <th>PatientID</th>\n",
       "      <th>VisitDate</th>\n",
       "    </tr>\n",
       "  </thead>\n",
       "  <tbody>\n",
       "    <tr>\n",
       "      <th>433217</th>\n",
       "      <td>FEAE4C6286FA9</td>\n",
       "      <td>2011-09-26</td>\n",
       "    </tr>\n",
       "    <tr>\n",
       "      <th>2224677</th>\n",
       "      <td>F4E728E4212FC</td>\n",
       "      <td>2013-12-11</td>\n",
       "    </tr>\n",
       "    <tr>\n",
       "      <th>594466</th>\n",
       "      <td>F9366885AE3E6</td>\n",
       "      <td>2014-05-07</td>\n",
       "    </tr>\n",
       "    <tr>\n",
       "      <th>1052786</th>\n",
       "      <td>FCE739987F4A9</td>\n",
       "      <td>2012-04-25</td>\n",
       "    </tr>\n",
       "    <tr>\n",
       "      <th>12763</th>\n",
       "      <td>F07F537F1A29B</td>\n",
       "      <td>2015-06-10</td>\n",
       "    </tr>\n",
       "  </tbody>\n",
       "</table>\n",
       "</div>"
      ],
      "text/plain": [
       "             PatientID  VisitDate\n",
       "433217   FEAE4C6286FA9 2011-09-26\n",
       "2224677  F4E728E4212FC 2013-12-11\n",
       "594466   F9366885AE3E6 2014-05-07\n",
       "1052786  FCE739987F4A9 2012-04-25\n",
       "12763    F07F537F1A29B 2015-06-10"
      ]
     },
     "execution_count": 126,
     "metadata": {},
     "output_type": "execute_result"
    }
   ],
   "source": [
    "visit_tele.sample(5)"
   ]
  },
  {
   "cell_type": "code",
   "execution_count": 127,
   "metadata": {},
   "outputs": [],
   "source": [
    "# Select max VisitDate from combined Visit and Telemedicine table.\n",
    "visit_tele_max = (\n",
    "    visit_tele\n",
    "    [visit_tele['PatientID'].isin(train_IDs)]\n",
    "    .groupby('PatientID')['VisitDate'].max()\n",
    "    .to_frame(name = 'visit_max')\n",
    "    .reset_index()\n",
    ")"
   ]
  },
  {
   "cell_type": "code",
   "execution_count": 128,
   "metadata": {},
   "outputs": [
    {
     "data": {
      "text/plain": [
       "(54786, 54786)"
      ]
     },
     "execution_count": 128,
     "metadata": {},
     "output_type": "execute_result"
    }
   ],
   "source": [
    "row_ID(visit_tele_max)"
   ]
  },
  {
   "cell_type": "markdown",
   "metadata": {},
   "source": [
    "##### Orals"
   ]
  },
  {
   "cell_type": "code",
   "execution_count": 129,
   "metadata": {},
   "outputs": [],
   "source": [
    "orals = orals[orals['PatientID'].isin(train_IDs)]"
   ]
  },
  {
   "cell_type": "code",
   "execution_count": 130,
   "metadata": {},
   "outputs": [
    {
     "data": {
      "text/plain": [
       "(11313, 8067)"
      ]
     },
     "execution_count": 130,
     "metadata": {},
     "output_type": "execute_result"
    }
   ],
   "source": [
    "row_ID(orals)"
   ]
  },
  {
   "cell_type": "code",
   "execution_count": 131,
   "metadata": {},
   "outputs": [],
   "source": [
    "orals.loc[:, 'StartDate'] = pd.to_datetime(orals['StartDate'])"
   ]
  },
  {
   "cell_type": "code",
   "execution_count": 132,
   "metadata": {},
   "outputs": [],
   "source": [
    "orals.loc[:, 'EndDate'] = pd.to_datetime(orals['EndDate'])"
   ]
  },
  {
   "cell_type": "code",
   "execution_count": 133,
   "metadata": {},
   "outputs": [],
   "source": [
    "orals_max = (\n",
    "    orals\n",
    "    .assign(max_date = orals[['StartDate', 'EndDate']].max(axis = 1))\n",
    "    .groupby('PatientID')['max_date'].max()\n",
    "    .to_frame(name = 'orals_max')\n",
    "    .reset_index()\n",
    ")"
   ]
  },
  {
   "cell_type": "markdown",
   "metadata": {},
   "source": [
    "##### Biomarkers"
   ]
  },
  {
   "cell_type": "code",
   "execution_count": 134,
   "metadata": {},
   "outputs": [],
   "source": [
    "biomarkers = biomarkers[biomarkers['PatientID'].isin(train_IDs)]"
   ]
  },
  {
   "cell_type": "code",
   "execution_count": 135,
   "metadata": {},
   "outputs": [
    {
     "data": {
      "text/plain": [
       "(203645, 40197)"
      ]
     },
     "execution_count": 135,
     "metadata": {},
     "output_type": "execute_result"
    }
   ],
   "source": [
    "row_ID(biomarkers)"
   ]
  },
  {
   "cell_type": "code",
   "execution_count": 136,
   "metadata": {},
   "outputs": [],
   "source": [
    "biomarkers.loc[:, 'SpecimenCollectedDate'] = pd.to_datetime(biomarkers['SpecimenCollectedDate'])"
   ]
  },
  {
   "cell_type": "code",
   "execution_count": 137,
   "metadata": {},
   "outputs": [],
   "source": [
    "biomarkers_max = (\n",
    "    biomarkers\n",
    "    .groupby('PatientID')['SpecimenCollectedDate'].max()\n",
    "    .to_frame(name = 'biomarkers_max')\n",
    "    .reset_index()\n",
    ")"
   ]
  },
  {
   "cell_type": "markdown",
   "metadata": {},
   "source": [
    "##### Progression"
   ]
  },
  {
   "cell_type": "code",
   "execution_count": 138,
   "metadata": {},
   "outputs": [],
   "source": [
    "progression = progression[progression['PatientID'].isin(train_IDs)]"
   ]
  },
  {
   "cell_type": "code",
   "execution_count": 139,
   "metadata": {},
   "outputs": [
    {
     "data": {
      "text/plain": [
       "(68890, 39806)"
      ]
     },
     "execution_count": 139,
     "metadata": {},
     "output_type": "execute_result"
    }
   ],
   "source": [
    "row_ID(progression)"
   ]
  },
  {
   "cell_type": "code",
   "execution_count": 140,
   "metadata": {},
   "outputs": [],
   "source": [
    "progression.loc[:, 'ProgressionDate'] = pd.to_datetime(progression['ProgressionDate'])"
   ]
  },
  {
   "cell_type": "code",
   "execution_count": 141,
   "metadata": {},
   "outputs": [],
   "source": [
    "progression.loc[:, 'LastClinicNoteDate'] = pd.to_datetime(progression['LastClinicNoteDate'])"
   ]
  },
  {
   "cell_type": "code",
   "execution_count": 142,
   "metadata": {},
   "outputs": [],
   "source": [
    "progression_max = (\n",
    "    progression\n",
    "    .assign(max_date = progression[['ProgressionDate', 'LastClinicNoteDate']].max(axis = 1))\n",
    "    .groupby('PatientID')['max_date'].max()\n",
    "    .to_frame(name = 'progression_max')\n",
    "    .reset_index()\n",
    ")"
   ]
  },
  {
   "cell_type": "markdown",
   "metadata": {},
   "source": [
    "##### Max date merge"
   ]
  },
  {
   "cell_type": "code",
   "execution_count": 143,
   "metadata": {},
   "outputs": [],
   "source": [
    "last_activity = pd.merge(visit_tele_max, orals_max, on = 'PatientID', how = 'outer')"
   ]
  },
  {
   "cell_type": "code",
   "execution_count": 144,
   "metadata": {},
   "outputs": [],
   "source": [
    "last_activity = pd.merge(last_activity, biomarkers_max, on = 'PatientID', how = 'outer')"
   ]
  },
  {
   "cell_type": "code",
   "execution_count": 145,
   "metadata": {},
   "outputs": [],
   "source": [
    "last_activity = pd.merge(last_activity, progression_max, on = 'PatientID', how = 'outer')"
   ]
  },
  {
   "cell_type": "code",
   "execution_count": 146,
   "metadata": {},
   "outputs": [
    {
     "data": {
      "text/plain": [
       "(54786, 54786)"
      ]
     },
     "execution_count": 146,
     "metadata": {},
     "output_type": "execute_result"
    }
   ],
   "source": [
    "row_ID(last_activity)"
   ]
  },
  {
   "cell_type": "code",
   "execution_count": 147,
   "metadata": {},
   "outputs": [
    {
     "data": {
      "text/html": [
       "<div>\n",
       "<style scoped>\n",
       "    .dataframe tbody tr th:only-of-type {\n",
       "        vertical-align: middle;\n",
       "    }\n",
       "\n",
       "    .dataframe tbody tr th {\n",
       "        vertical-align: top;\n",
       "    }\n",
       "\n",
       "    .dataframe thead th {\n",
       "        text-align: right;\n",
       "    }\n",
       "</style>\n",
       "<table border=\"1\" class=\"dataframe\">\n",
       "  <thead>\n",
       "    <tr style=\"text-align: right;\">\n",
       "      <th></th>\n",
       "      <th>PatientID</th>\n",
       "      <th>visit_max</th>\n",
       "      <th>orals_max</th>\n",
       "      <th>biomarkers_max</th>\n",
       "      <th>progression_max</th>\n",
       "    </tr>\n",
       "  </thead>\n",
       "  <tbody>\n",
       "    <tr>\n",
       "      <th>10083</th>\n",
       "      <td>F2F1019B0DF17</td>\n",
       "      <td>2017-11-30</td>\n",
       "      <td>NaT</td>\n",
       "      <td>2017-05-12</td>\n",
       "      <td>2017-11-30</td>\n",
       "    </tr>\n",
       "    <tr>\n",
       "      <th>42519</th>\n",
       "      <td>FC70A8E490747</td>\n",
       "      <td>2014-11-27</td>\n",
       "      <td>NaT</td>\n",
       "      <td>NaT</td>\n",
       "      <td>2015-01-19</td>\n",
       "    </tr>\n",
       "    <tr>\n",
       "      <th>29617</th>\n",
       "      <td>F8ADF0FA9EAA7</td>\n",
       "      <td>2021-02-22</td>\n",
       "      <td>NaT</td>\n",
       "      <td>2020-11-13</td>\n",
       "      <td>2021-02-28</td>\n",
       "    </tr>\n",
       "    <tr>\n",
       "      <th>20497</th>\n",
       "      <td>F5FFCAFF1D0A5</td>\n",
       "      <td>2012-05-31</td>\n",
       "      <td>NaT</td>\n",
       "      <td>NaT</td>\n",
       "      <td>2012-05-31</td>\n",
       "    </tr>\n",
       "    <tr>\n",
       "      <th>5883</th>\n",
       "      <td>F1B9F0C8ED815</td>\n",
       "      <td>2016-06-21</td>\n",
       "      <td>NaT</td>\n",
       "      <td>NaT</td>\n",
       "      <td>2016-06-21</td>\n",
       "    </tr>\n",
       "  </tbody>\n",
       "</table>\n",
       "</div>"
      ],
      "text/plain": [
       "           PatientID  visit_max orals_max biomarkers_max progression_max\n",
       "10083  F2F1019B0DF17 2017-11-30       NaT     2017-05-12      2017-11-30\n",
       "42519  FC70A8E490747 2014-11-27       NaT            NaT      2015-01-19\n",
       "29617  F8ADF0FA9EAA7 2021-02-22       NaT     2020-11-13      2021-02-28\n",
       "20497  F5FFCAFF1D0A5 2012-05-31       NaT            NaT      2012-05-31\n",
       "5883   F1B9F0C8ED815 2016-06-21       NaT            NaT      2016-06-21"
      ]
     },
     "execution_count": 147,
     "metadata": {},
     "output_type": "execute_result"
    }
   ],
   "source": [
    "last_activity.sample(5)"
   ]
  },
  {
   "cell_type": "code",
   "execution_count": 148,
   "metadata": {},
   "outputs": [],
   "source": [
    "# Find max of each row. \n",
    "last_activity = (\n",
    "    last_activity\n",
    "    .assign(last_activity = last_activity[['visit_max', 'orals_max', 'biomarkers_max', 'progression_max']].max(axis = 1))\n",
    "    .filter(items = ['PatientID', 'last_activity'])\n",
    ")"
   ]
  },
  {
   "cell_type": "code",
   "execution_count": 149,
   "metadata": {},
   "outputs": [],
   "source": [
    "# Append missing training IDs.\n",
    "mortality = (\n",
    "    mortality\n",
    "    .append(\n",
    "        pd.Series(train_IDs)[~pd.Series(train_IDs).isin(mortality['PatientID'])].to_frame(name = 'PatientID'), \n",
    "        sort = False\n",
    "    )\n",
    ")"
   ]
  },
  {
   "cell_type": "code",
   "execution_count": 150,
   "metadata": {},
   "outputs": [],
   "source": [
    "mortality = pd.merge(mortality, enhanced_adv[['PatientID', 'adv_date']], on = 'PatientID')"
   ]
  },
  {
   "cell_type": "code",
   "execution_count": 151,
   "metadata": {},
   "outputs": [],
   "source": [
    "mortality = pd.merge(mortality, last_activity, on = 'PatientID')"
   ]
  },
  {
   "cell_type": "code",
   "execution_count": 152,
   "metadata": {},
   "outputs": [
    {
     "data": {
      "text/plain": [
       "(54786, 54786)"
      ]
     },
     "execution_count": 152,
     "metadata": {},
     "output_type": "execute_result"
    }
   ],
   "source": [
    "row_ID(mortality)"
   ]
  },
  {
   "cell_type": "code",
   "execution_count": 153,
   "metadata": {},
   "outputs": [],
   "source": [
    "mortality.loc[:, 'death_status'] = np.where(mortality['death_date'].isna(), 0, 1)"
   ]
  },
  {
   "cell_type": "code",
   "execution_count": 154,
   "metadata": {},
   "outputs": [],
   "source": [
    "# timerisk_activity is time from advanced disease diagnosis to death or last activity if no death date.\n",
    "mortality.loc[:, 'timerisk_activity'] = (\n",
    "    np.where(mortality['death_date'].isna(),\n",
    "             (mortality['last_activity'] - mortality['adv_date']).dt.days,\n",
    "             (mortality['death_date'] - mortality['adv_date']).dt.days)\n",
    ")"
   ]
  },
  {
   "cell_type": "code",
   "execution_count": 155,
   "metadata": {},
   "outputs": [],
   "source": [
    "# If timerisk_activity is less than 0, set to 0 otherwise remains unchanged. \n",
    "mortality['timerisk_activity'] = np.where(mortality['timerisk_activity'] < 0, 0, mortality['timerisk_activity'])"
   ]
  },
  {
   "cell_type": "code",
   "execution_count": 156,
   "metadata": {},
   "outputs": [
    {
     "data": {
      "text/html": [
       "<div>\n",
       "<style scoped>\n",
       "    .dataframe tbody tr th:only-of-type {\n",
       "        vertical-align: middle;\n",
       "    }\n",
       "\n",
       "    .dataframe tbody tr th {\n",
       "        vertical-align: top;\n",
       "    }\n",
       "\n",
       "    .dataframe thead th {\n",
       "        text-align: right;\n",
       "    }\n",
       "</style>\n",
       "<table border=\"1\" class=\"dataframe\">\n",
       "  <thead>\n",
       "    <tr style=\"text-align: right;\">\n",
       "      <th></th>\n",
       "      <th>PatientID</th>\n",
       "      <th>death_date</th>\n",
       "      <th>adv_date</th>\n",
       "      <th>last_activity</th>\n",
       "      <th>death_status</th>\n",
       "      <th>timerisk_activity</th>\n",
       "    </tr>\n",
       "  </thead>\n",
       "  <tbody>\n",
       "    <tr>\n",
       "      <th>29599</th>\n",
       "      <td>F19F97BC2C29D</td>\n",
       "      <td>2017-05-15</td>\n",
       "      <td>2017-01-11</td>\n",
       "      <td>2017-04-11</td>\n",
       "      <td>1</td>\n",
       "      <td>124.0</td>\n",
       "    </tr>\n",
       "    <tr>\n",
       "      <th>31152</th>\n",
       "      <td>F1D52BD0040A2</td>\n",
       "      <td>2016-06-15</td>\n",
       "      <td>2014-04-01</td>\n",
       "      <td>2016-11-07</td>\n",
       "      <td>1</td>\n",
       "      <td>806.0</td>\n",
       "    </tr>\n",
       "    <tr>\n",
       "      <th>26489</th>\n",
       "      <td>FB2788DE69BD2</td>\n",
       "      <td>2020-11-15</td>\n",
       "      <td>2020-04-22</td>\n",
       "      <td>2020-10-27</td>\n",
       "      <td>1</td>\n",
       "      <td>207.0</td>\n",
       "    </tr>\n",
       "    <tr>\n",
       "      <th>11275</th>\n",
       "      <td>FA8379A96CDC4</td>\n",
       "      <td>2014-07-15</td>\n",
       "      <td>2012-02-08</td>\n",
       "      <td>2014-06-16</td>\n",
       "      <td>1</td>\n",
       "      <td>888.0</td>\n",
       "    </tr>\n",
       "    <tr>\n",
       "      <th>20546</th>\n",
       "      <td>F106846801F10</td>\n",
       "      <td>2017-12-15</td>\n",
       "      <td>2017-09-18</td>\n",
       "      <td>2017-11-01</td>\n",
       "      <td>1</td>\n",
       "      <td>88.0</td>\n",
       "    </tr>\n",
       "  </tbody>\n",
       "</table>\n",
       "</div>"
      ],
      "text/plain": [
       "           PatientID death_date   adv_date last_activity  death_status  \\\n",
       "29599  F19F97BC2C29D 2017-05-15 2017-01-11    2017-04-11             1   \n",
       "31152  F1D52BD0040A2 2016-06-15 2014-04-01    2016-11-07             1   \n",
       "26489  FB2788DE69BD2 2020-11-15 2020-04-22    2020-10-27             1   \n",
       "11275  FA8379A96CDC4 2014-07-15 2012-02-08    2014-06-16             1   \n",
       "20546  F106846801F10 2017-12-15 2017-09-18    2017-11-01             1   \n",
       "\n",
       "       timerisk_activity  \n",
       "29599              124.0  \n",
       "31152              806.0  \n",
       "26489              207.0  \n",
       "11275              888.0  \n",
       "20546               88.0  "
      ]
     },
     "execution_count": 156,
     "metadata": {},
     "output_type": "execute_result"
    }
   ],
   "source": [
    "mortality.sample(5)"
   ]
  },
  {
   "cell_type": "code",
   "execution_count": 157,
   "metadata": {},
   "outputs": [
    {
     "data": {
      "text/plain": [
       "count    54786.000000\n",
       "mean       492.921476\n",
       "std        567.958201\n",
       "min          0.000000\n",
       "25%        111.000000\n",
       "50%        285.000000\n",
       "75%        652.000000\n",
       "max       3707.000000\n",
       "Name: timerisk_activity, dtype: float64"
      ]
     },
     "execution_count": 157,
     "metadata": {},
     "output_type": "execute_result"
    }
   ],
   "source": [
    "mortality.timerisk_activity.describe()"
   ]
  },
  {
   "cell_type": "code",
   "execution_count": 158,
   "metadata": {},
   "outputs": [
    {
     "data": {
      "text/plain": [
       "0.2831015222867156"
      ]
     },
     "execution_count": 158,
     "metadata": {},
     "output_type": "execute_result"
    }
   ],
   "source": [
    "# Percent of patients censored overall. \n",
    "(mortality.shape[0] - mortality['death_status'].sum())/mortality.shape[0]"
   ]
  },
  {
   "cell_type": "code",
   "execution_count": 159,
   "metadata": {},
   "outputs": [
    {
     "data": {
      "text/plain": [
       "0.4463366553499069"
      ]
     },
     "execution_count": 159,
     "metadata": {},
     "output_type": "execute_result"
    }
   ],
   "source": [
    "# Percent of patients dying within 365 days. \n",
    "((mortality['death_status'] == 1) & (mortality['timerisk_activity'] <= 365)).sum()/mortality.shape[0]"
   ]
  },
  {
   "cell_type": "code",
   "execution_count": 160,
   "metadata": {},
   "outputs": [
    {
     "data": {
      "text/plain": [
       "0.5929617055452123"
      ]
     },
     "execution_count": 160,
     "metadata": {},
     "output_type": "execute_result"
    }
   ],
   "source": [
    "# Percent of patients dying within 720 days. \n",
    "((mortality['death_status'] == 1) & (mortality['timerisk_activity'] <= 720)).sum()/mortality.shape[0]"
   ]
  },
  {
   "cell_type": "code",
   "execution_count": 161,
   "metadata": {},
   "outputs": [
    {
     "name": "stdout",
     "output_type": "stream",
     "text": [
      "Median survival in days: 379.0\n"
     ]
    },
    {
     "data": {
      "image/png": "[encoded data removed]",
      "text/plain": [
       "<Figure size 432x288 with 1 Axes>"
      ]
     },
     "metadata": {
      "needs_background": "light"
     },
     "output_type": "display_data"
    }
   ],
   "source": [
    "import matplotlib.pyplot as plt\n",
    "from sksurv.nonparametric import kaplan_meier_estimator\n",
    "\n",
    "%matplotlib inline\n",
    "\n",
    "time, survival_prob = kaplan_meier_estimator(mortality['death_status'].astype('bool'), mortality['timerisk_activity'])\n",
    "plt.step(time, survival_prob, where = 'post')\n",
    "\n",
    "plt.title('KM curve for training set')\n",
    "plt.ylabel('estimated survival probability')\n",
    "plt.xlabel('time in days from advanced diagnosis')\n",
    "print('Median survival in days:', time[np.where(survival_prob <0.5)][0])"
   ]
  },
  {
   "cell_type": "code",
   "execution_count": 162,
   "metadata": {},
   "outputs": [
    {
     "data": {
      "image/png": "[encoded data removed]",
      "text/plain": [
       "<Figure size 648x432 with 1 Axes>"
      ]
     },
     "metadata": {
      "needs_background": "light"
     },
     "output_type": "display_data"
    }
   ],
   "source": [
    "plt.figure(figsize=(9, 6))\n",
    "val, bins, patches = plt.hist((mortality['timerisk_activity'][mortality['death_status'].astype('bool')],\n",
    "                               mortality['timerisk_activity'][~mortality['death_status'].astype('bool')]),\n",
    "                              bins = 60, stacked = True)\n",
    "_ = plt.legend(patches, [\"Time of Death\", \"Time of Censoring\"])"
   ]
  },
  {
   "cell_type": "code",
   "execution_count": 163,
   "metadata": {},
   "outputs": [],
   "source": [
    "mortality = pd.merge(mortality, enhanced_adv[['PatientID', 'diagnosis_date']], on = 'PatientID', how = 'outer')"
   ]
  },
  {
   "cell_type": "code",
   "execution_count": 164,
   "metadata": {},
   "outputs": [],
   "source": [
    "# timerisk_activity_first is time from first diagnosis (advanced or not) to death or last activity if no death date.\n",
    "mortality.loc[:, 'timerisk_activity_first'] = (\n",
    "    np.where(mortality['death_date'].isna(),\n",
    "             (mortality['last_activity'] - mortality['diagnosis_date']).dt.days,\n",
    "             (mortality['death_date'] - mortality['diagnosis_date']).dt.days)\n",
    ")"
   ]
  },
  {
   "cell_type": "code",
   "execution_count": 165,
   "metadata": {},
   "outputs": [],
   "source": [
    "# If timerisk_activity is less than 0, set to 0 otherwise remains unchanged. \n",
    "mortality['timerisk_activity_first'] = np.where(\n",
    "    mortality['timerisk_activity_first'] < 0, 0, mortality['timerisk_activity_first'])"
   ]
  },
  {
   "cell_type": "code",
   "execution_count": 166,
   "metadata": {},
   "outputs": [],
   "source": [
    "mortality.to_csv('mortality_cleaned_tr.csv', index = False, header = True)"
   ]
  },
  {
   "cell_type": "code",
   "execution_count": 167,
   "metadata": {},
   "outputs": [],
   "source": [
    "mortality = mortality.filter(items = ['PatientID', 'death_status', 'timerisk_activity'])"
   ]
  },
  {
   "cell_type": "code",
   "execution_count": 168,
   "metadata": {},
   "outputs": [
    {
     "name": "stdout",
     "output_type": "stream",
     "text": [
      "Variable          Type         Data/Info\n",
      "----------------------------------------\n",
      "biomarkers        DataFrame                PatientID Bio<...>203645 rows x 18 columns]\n",
      "biomarkers_max    DataFrame               PatientID biom<...>n[40197 rows x 2 columns]\n",
      "demographics      DataFrame               PatientID Prac<...>n[54786 rows x 7 columns]\n",
      "enhanced_adv      DataFrame               PatientID diag<...>n[54786 rows x 9 columns]\n",
      "last_activity     DataFrame               PatientID last<...>n[54786 rows x 2 columns]\n",
      "mortality         DataFrame               PatientID  dea<...>n[54786 rows x 3 columns]\n",
      "orals             DataFrame               PatientID     <...>n[11313 rows x 5 columns]\n",
      "orals_max         DataFrame              PatientID  oral<...>\\n[8067 rows x 2 columns]\n",
      "progression       DataFrame               PatientID Prog<...>n[68890 rows x 8 columns]\n",
      "progression_max   DataFrame               PatientID prog<...>n[39806 rows x 2 columns]\n",
      "telemedicine      DataFrame               PatientID   Vi<...>n[16712 rows x 2 columns]\n",
      "visit             DataFrame                 PatientID   <...>2446952 rows x 6 columns]\n",
      "visit_tele        DataFrame               PatientID  Vis<...>2463664 rows x 2 columns]\n",
      "visit_tele_max    DataFrame               PatientID  vis<...>n[54786 rows x 2 columns]\n"
     ]
    }
   ],
   "source": [
    "%whos DataFrame"
   ]
  },
  {
   "cell_type": "code",
   "execution_count": 169,
   "metadata": {},
   "outputs": [],
   "source": [
    "# Keep mortality\n",
    "del biomarkers\n",
    "del biomarkers_max\n",
    "del last_activity\n",
    "del orals\n",
    "del orals_max\n",
    "del progression \n",
    "del progression_max\n",
    "del visit_tele\n",
    "del visit_tele_max"
   ]
  },
  {
   "cell_type": "markdown",
   "metadata": {},
   "source": [
    "### 4. MedicationAdministration"
   ]
  },
  {
   "cell_type": "code",
   "execution_count": 170,
   "metadata": {},
   "outputs": [],
   "source": [
    "med_admin = pd.read_csv('MedicationAdministration.csv')"
   ]
  },
  {
   "cell_type": "code",
   "execution_count": 171,
   "metadata": {},
   "outputs": [
    {
     "data": {
      "text/html": [
       "<div>\n",
       "<style scoped>\n",
       "    .dataframe tbody tr th:only-of-type {\n",
       "        vertical-align: middle;\n",
       "    }\n",
       "\n",
       "    .dataframe tbody tr th {\n",
       "        vertical-align: top;\n",
       "    }\n",
       "\n",
       "    .dataframe thead th {\n",
       "        text-align: right;\n",
       "    }\n",
       "</style>\n",
       "<table border=\"1\" class=\"dataframe\">\n",
       "  <thead>\n",
       "    <tr style=\"text-align: right;\">\n",
       "      <th></th>\n",
       "      <th>PatientID</th>\n",
       "      <th>OrderID</th>\n",
       "      <th>DrugName</th>\n",
       "      <th>CommonDrugName</th>\n",
       "      <th>Route</th>\n",
       "      <th>DrugCategory</th>\n",
       "      <th>DetailedDrugCategory</th>\n",
       "      <th>AdministeredDate</th>\n",
       "      <th>AdministeredAmount</th>\n",
       "      <th>AdministeredUnits</th>\n",
       "    </tr>\n",
       "  </thead>\n",
       "  <tbody>\n",
       "    <tr>\n",
       "      <th>0</th>\n",
       "      <td>FE3742B2CEB28</td>\n",
       "      <td>M4D4B1CABB7301DACDE43CBD12FECFD38</td>\n",
       "      <td>pantoprazole sodium</td>\n",
       "      <td>pantoprazole</td>\n",
       "      <td>Intravenous</td>\n",
       "      <td>proton pump inhibitor</td>\n",
       "      <td>proton pump inhibitor</td>\n",
       "      <td>2020-09-14</td>\n",
       "      <td>40.0</td>\n",
       "      <td>mg</td>\n",
       "    </tr>\n",
       "    <tr>\n",
       "      <th>1</th>\n",
       "      <td>FE3742B2CEB28</td>\n",
       "      <td>M6B6BC37AF71B2C90622B39BFF8E1F5CD</td>\n",
       "      <td>0.9 % sodium chloride</td>\n",
       "      <td>sodium/saline preparations</td>\n",
       "      <td>Intravenous</td>\n",
       "      <td>solution-fluid</td>\n",
       "      <td>solution-fluid</td>\n",
       "      <td>2020-09-14</td>\n",
       "      <td>300.0</td>\n",
       "      <td>mL</td>\n",
       "    </tr>\n",
       "    <tr>\n",
       "      <th>2</th>\n",
       "      <td>FE3742B2CEB28</td>\n",
       "      <td>M6FCEFA3C3DF7C345E6C22BEBAC62D4A4</td>\n",
       "      <td>0.9 % sodium chloride</td>\n",
       "      <td>sodium/saline preparations</td>\n",
       "      <td>Intravenous</td>\n",
       "      <td>solution-fluid</td>\n",
       "      <td>solution-fluid</td>\n",
       "      <td>2020-09-14</td>\n",
       "      <td>30.0</td>\n",
       "      <td>mL/hr</td>\n",
       "    </tr>\n",
       "    <tr>\n",
       "      <th>3</th>\n",
       "      <td>FE3742B2CEB28</td>\n",
       "      <td>M8D5A5DCB9E6F7312DE55DC40AF15A4F3</td>\n",
       "      <td>ringer's solution,lactated</td>\n",
       "      <td>electrolyte maintenance</td>\n",
       "      <td>Intravenous</td>\n",
       "      <td>solution-fluid</td>\n",
       "      <td>solution-fluid</td>\n",
       "      <td>2020-09-13</td>\n",
       "      <td>1000.0</td>\n",
       "      <td>mL</td>\n",
       "    </tr>\n",
       "    <tr>\n",
       "      <th>4</th>\n",
       "      <td>FE3742B2CEB28</td>\n",
       "      <td>M8D5E9A7AE9EBAB4484FB15B6F21852D5</td>\n",
       "      <td>pantoprazole sodium</td>\n",
       "      <td>pantoprazole</td>\n",
       "      <td>Intravenous</td>\n",
       "      <td>proton pump inhibitor</td>\n",
       "      <td>proton pump inhibitor</td>\n",
       "      <td>2020-09-14</td>\n",
       "      <td>40.0</td>\n",
       "      <td>mg</td>\n",
       "    </tr>\n",
       "  </tbody>\n",
       "</table>\n",
       "</div>"
      ],
      "text/plain": [
       "       PatientID                            OrderID  \\\n",
       "0  FE3742B2CEB28  M4D4B1CABB7301DACDE43CBD12FECFD38   \n",
       "1  FE3742B2CEB28  M6B6BC37AF71B2C90622B39BFF8E1F5CD   \n",
       "2  FE3742B2CEB28  M6FCEFA3C3DF7C345E6C22BEBAC62D4A4   \n",
       "3  FE3742B2CEB28  M8D5A5DCB9E6F7312DE55DC40AF15A4F3   \n",
       "4  FE3742B2CEB28  M8D5E9A7AE9EBAB4484FB15B6F21852D5   \n",
       "\n",
       "                     DrugName              CommonDrugName        Route  \\\n",
       "0         pantoprazole sodium                pantoprazole  Intravenous   \n",
       "1       0.9 % sodium chloride  sodium/saline preparations  Intravenous   \n",
       "2       0.9 % sodium chloride  sodium/saline preparations  Intravenous   \n",
       "3  ringer's solution,lactated     electrolyte maintenance  Intravenous   \n",
       "4         pantoprazole sodium                pantoprazole  Intravenous   \n",
       "\n",
       "            DrugCategory   DetailedDrugCategory AdministeredDate  \\\n",
       "0  proton pump inhibitor  proton pump inhibitor       2020-09-14   \n",
       "1         solution-fluid         solution-fluid       2020-09-14   \n",
       "2         solution-fluid         solution-fluid       2020-09-14   \n",
       "3         solution-fluid         solution-fluid       2020-09-13   \n",
       "4  proton pump inhibitor  proton pump inhibitor       2020-09-14   \n",
       "\n",
       "   AdministeredAmount AdministeredUnits  \n",
       "0                40.0                mg  \n",
       "1               300.0                mL  \n",
       "2                30.0             mL/hr  \n",
       "3              1000.0                mL  \n",
       "4                40.0                mg  "
      ]
     },
     "execution_count": 171,
     "metadata": {},
     "output_type": "execute_result"
    }
   ],
   "source": [
    "med_admin.head()"
   ]
  },
  {
   "cell_type": "code",
   "execution_count": 172,
   "metadata": {},
   "outputs": [
    {
     "name": "stdout",
     "output_type": "stream",
     "text": [
      "<class 'pandas.core.frame.DataFrame'>\n",
      "RangeIndex: 3368216 entries, 0 to 3368215\n",
      "Data columns (total 10 columns):\n",
      " #   Column                Dtype  \n",
      "---  ------                -----  \n",
      " 0   PatientID             object \n",
      " 1   OrderID               object \n",
      " 2   DrugName              object \n",
      " 3   CommonDrugName        object \n",
      " 4   Route                 object \n",
      " 5   DrugCategory          object \n",
      " 6   DetailedDrugCategory  object \n",
      " 7   AdministeredDate      object \n",
      " 8   AdministeredAmount    float64\n",
      " 9   AdministeredUnits     object \n",
      "dtypes: float64(1), object(9)\n",
      "memory usage: 257.0+ MB\n"
     ]
    }
   ],
   "source": [
    "med_admin.info()"
   ]
  },
  {
   "cell_type": "code",
   "execution_count": 173,
   "metadata": {},
   "outputs": [
    {
     "data": {
      "text/plain": [
       "(3368216, 52146)"
      ]
     },
     "execution_count": 173,
     "metadata": {},
     "output_type": "execute_result"
    }
   ],
   "source": [
    "row_ID(med_admin)"
   ]
  },
  {
   "cell_type": "code",
   "execution_count": 174,
   "metadata": {},
   "outputs": [],
   "source": [
    "# Select Patient IDs from training set. \n",
    "med_admin = med_admin[med_admin['PatientID'].isin(train_IDs)]"
   ]
  },
  {
   "cell_type": "code",
   "execution_count": 175,
   "metadata": {},
   "outputs": [
    {
     "data": {
      "text/plain": [
       "(2696916, 41687)"
      ]
     },
     "execution_count": 175,
     "metadata": {},
     "output_type": "execute_result"
    }
   ],
   "source": [
    "row_ID(med_admin)"
   ]
  },
  {
   "cell_type": "markdown",
   "metadata": {},
   "source": [
    "**The Medication Administration table documents the date a medication was administered to a patient. An indicator variable for clinically relevant administered medications received between -90 days from advanced diagnosis and up to time of first line of therapy or +30 from index dates, whichever comes first, will be created as columns. The reason for including time of first line therapy as upper bound of elgibility window is that steroids are given as part of treamtent for chemotherapy induced nausea and vomiting, so steroids might inadvertently capture chemotherpay treatment information if upper bound is after first line of treatment.** "
   ]
  },
  {
   "cell_type": "code",
   "execution_count": 176,
   "metadata": {},
   "outputs": [],
   "source": [
    "line_therapy = pd.read_csv('LineOfTherapy.csv')"
   ]
  },
  {
   "cell_type": "code",
   "execution_count": 177,
   "metadata": {},
   "outputs": [],
   "source": [
    "line_therapy_1 = (\n",
    "    line_therapy \n",
    "    .query('LineNumber == 1 and IsMaintenanceTherapy == False')\n",
    ")"
   ]
  },
  {
   "cell_type": "code",
   "execution_count": 178,
   "metadata": {},
   "outputs": [],
   "source": [
    "med_admin = pd.merge(med_admin, line_therapy_1[['PatientID', 'StartDate']], on = 'PatientID', how = 'left')"
   ]
  },
  {
   "cell_type": "code",
   "execution_count": 179,
   "metadata": {},
   "outputs": [],
   "source": [
    "med_admin = pd.merge(med_admin, enhanced_adv[['PatientID', 'adv_date']], on = 'PatientID', how = 'left')"
   ]
  },
  {
   "cell_type": "code",
   "execution_count": 180,
   "metadata": {},
   "outputs": [],
   "source": [
    "med_admin.loc[:, 'AdministeredDate'] = pd.to_datetime(med_admin['AdministeredDate'])"
   ]
  },
  {
   "cell_type": "code",
   "execution_count": 181,
   "metadata": {},
   "outputs": [],
   "source": [
    "med_admin.loc[:, 'StartDate'] = pd.to_datetime(med_admin['StartDate'])"
   ]
  },
  {
   "cell_type": "code",
   "execution_count": 182,
   "metadata": {},
   "outputs": [
    {
     "data": {
      "text/plain": [
       "0"
      ]
     },
     "execution_count": 182,
     "metadata": {},
     "output_type": "execute_result"
    }
   ],
   "source": [
    "med_admin['AdministeredDate'].isna().sum()"
   ]
  },
  {
   "cell_type": "code",
   "execution_count": 183,
   "metadata": {},
   "outputs": [
    {
     "data": {
      "text/plain": [
       "35.0"
      ]
     },
     "execution_count": 183,
     "metadata": {},
     "output_type": "execute_result"
    }
   ],
   "source": [
    "# Median days from advanced date to start of first line of therapy. \n",
    "(\n",
    "    med_admin\n",
    "    .drop_duplicates(subset = ['PatientID'], keep = 'first')\n",
    "    .assign(start_adv_diff = lambda x: (x.StartDate - x.adv_date).dt.days)\n",
    "    .start_adv_diff\n",
    "    .median()\n",
    ")"
   ]
  },
  {
   "cell_type": "code",
   "execution_count": 184,
   "metadata": {},
   "outputs": [],
   "source": [
    "# New variable upper_bound which defines upper bound\n",
    "# If no StartDate (ie., no treatment received), then upper bound +30 from advanced diagnosis \n",
    "# If StartDate is greater than 30 days from advanced diagnosis, then upper bound +30 from advanced diagnosis\n",
    "# If StartDate is less than or equal 30 from advanced diagnosis, then upper bound is one day before StartDate\n",
    "conditions = [\n",
    "    (med_admin['StartDate'].isna()) | ((med_admin['StartDate'] - med_admin['adv_date']).dt.days > 30),\n",
    "    ((med_admin['StartDate'] - med_admin['adv_date']).dt.days <= 30)]    \n",
    "\n",
    "choices = [30, (med_admin['StartDate'] - med_admin['adv_date']).dt.days - 1]\n",
    "    \n",
    "med_admin.loc[:, 'upper_bound'] = np.select(conditions, choices)"
   ]
  },
  {
   "cell_type": "code",
   "execution_count": 185,
   "metadata": {},
   "outputs": [],
   "source": [
    "med_admin.loc[:, 'upper_bound_date'] = (\n",
    "    np.where(med_admin['upper_bound'] != 30, \n",
    "             med_admin['StartDate'] - pd.DateOffset(days = 1), \n",
    "             med_admin['adv_date'] + pd.DateOffset(days = 30))\n",
    ")"
   ]
  },
  {
   "cell_type": "code",
   "execution_count": 186,
   "metadata": {},
   "outputs": [],
   "source": [
    "# Select window of -90 days and from advanced diagnosis and remove clinical study drug. \n",
    "med_admin_win = (\n",
    "    med_admin\n",
    "    [((med_admin['AdministeredDate'] - med_admin['adv_date']).dt.days >= -90) &\n",
    "    (med_admin['AdministeredDate'] <= med_admin['upper_bound_date']) &\n",
    "    (med_admin['CommonDrugName'] != 'Clinical study drug')]\n",
    ")"
   ]
  },
  {
   "cell_type": "code",
   "execution_count": 187,
   "metadata": {},
   "outputs": [
    {
     "data": {
      "text/plain": [
       "(162243, 11193)"
      ]
     },
     "execution_count": 187,
     "metadata": {},
     "output_type": "execute_result"
    }
   ],
   "source": [
    "row_ID(med_admin_win)"
   ]
  },
  {
   "cell_type": "markdown",
   "metadata": {},
   "source": [
    "#### 4.1 Antineoplastic"
   ]
  },
  {
   "cell_type": "code",
   "execution_count": 188,
   "metadata": {},
   "outputs": [
    {
     "data": {
      "text/plain": [
       "carboplatin                 0.284101\n",
       "paclitaxel                  0.217646\n",
       "durvalumab                  0.080429\n",
       "pemetrexed                  0.065074\n",
       "etoposide                   0.055732\n",
       "cisplatin                   0.050370\n",
       "gemcitabine                 0.035990\n",
       "paclitaxel protein-bound    0.030709\n",
       "docetaxel                   0.026485\n",
       "nivolumab                   0.025916\n",
       "pembrolizumab               0.021285\n",
       "vinorelbine                 0.016411\n",
       "bevacizumab                 0.013567\n",
       "fluorouracil                0.007637\n",
       "azacitidine                 0.007555\n",
       "rituximab                   0.007312\n",
       "bortezomib                  0.005606\n",
       "cetuximab                   0.004956\n",
       "bendamustine                0.004143\n",
       "erlotinib                   0.003250\n",
       "Name: CommonDrugName, dtype: float64"
      ]
     },
     "execution_count": 188,
     "metadata": {},
     "output_type": "execute_result"
    }
   ],
   "source": [
    "(\n",
    "    med_admin_win\n",
    "    .query('DrugCategory == \"antineoplastic\"')\n",
    "    .CommonDrugName\n",
    "    .value_counts(normalize = True)\n",
    "    .head(20)\n",
    ")"
   ]
  },
  {
   "cell_type": "markdown",
   "metadata": {},
   "source": [
    "#### 4.2 Antiemetic"
   ]
  },
  {
   "cell_type": "code",
   "execution_count": 189,
   "metadata": {},
   "outputs": [
    {
     "data": {
      "text/plain": [
       "palonosetron                  0.351168\n",
       "ondansetron                   0.341662\n",
       "granisetron                   0.090349\n",
       "fosaprepitant                 0.085461\n",
       "metoclopramide                0.033768\n",
       "prochlorperazine              0.028879\n",
       "aprepitant                    0.023085\n",
       "olanzapine                    0.018740\n",
       "dronabinol                    0.008148\n",
       "scopolamine                   0.005070\n",
       "meclizine                     0.003983\n",
       "dimenhydrinate                0.002806\n",
       "fosnetupitant/palonosetron    0.002716\n",
       "promethazine                  0.002082\n",
       "dolasetron                    0.001901\n",
       "rolapitant                    0.000091\n",
       "netupitant/palonosetron       0.000091\n",
       "Name: CommonDrugName, dtype: float64"
      ]
     },
     "execution_count": 189,
     "metadata": {},
     "output_type": "execute_result"
    }
   ],
   "source": [
    "(\n",
    "    med_admin_win\n",
    "    .query('DrugCategory == \"antiemetic\"')\n",
    "    .CommonDrugName\n",
    "    .value_counts(normalize = True)\n",
    "    .head(20)\n",
    ")"
   ]
  },
  {
   "cell_type": "markdown",
   "metadata": {},
   "source": [
    "#### 4.3 Solution-fluid"
   ]
  },
  {
   "cell_type": "code",
   "execution_count": 190,
   "metadata": {},
   "outputs": [
    {
     "data": {
      "text/plain": [
       "sodium/saline preparations                     0.829724\n",
       "electrolyte maintenance                        0.089274\n",
       "iv solutions: dextrose-saline                  0.029378\n",
       "iv solutions: dextrose-water                   0.029252\n",
       "sodium chloride irrigating solution            0.018826\n",
       "iv solutions: dextrose and lactated ringers    0.001857\n",
       "water for irrigation, sterile                  0.001688\n",
       "Name: CommonDrugName, dtype: float64"
      ]
     },
     "execution_count": 190,
     "metadata": {},
     "output_type": "execute_result"
    }
   ],
   "source": [
    "(\n",
    "    med_admin_win\n",
    "    .query('DrugCategory == \"solution-fluid\"')\n",
    "    .CommonDrugName\n",
    "    .value_counts(normalize = True)\n",
    ")"
   ]
  },
  {
   "cell_type": "markdown",
   "metadata": {},
   "source": [
    "#### 4.4 Glucocorticoid & steroid"
   ]
  },
  {
   "cell_type": "code",
   "execution_count": 191,
   "metadata": {},
   "outputs": [
    {
     "data": {
      "text/plain": [
       "CommonDrugName      Route           \n",
       "dexamethasone       Intravenous         8071\n",
       "                    Oral                2913\n",
       "prednisone          Oral                1285\n",
       "methylprednisolone  Intravenous          979\n",
       "hydrocortisone      Intravenous          272\n",
       "triamcinolone       Topical              110\n",
       "dexamethasone       Intrajejunal         106\n",
       "hydrocortisone      Topical               88\n",
       "prednisolone        Ophthalmic            66\n",
       "fludrocortisone     Oral                  57\n",
       "mometasone furoate  Inhalation            42\n",
       "cortisone           Oral                  30\n",
       "methylprednisolone  Oral                  24\n",
       "prednisone          enteral               23\n",
       "hydrocortisone      Oral                  19\n",
       "clobetasol          Topical               19\n",
       "dexamethasone       Intramuscular         18\n",
       "methylprednisolone  Intramuscular         14\n",
       "dexamethasone       Otic                  11\n",
       "                    Nasogastric           10\n",
       "beclomethasone      Inhalation             8\n",
       "methylprednisolone  Intrajejunal           7\n",
       "prednisone          Nasogastric            5\n",
       "triamcinolone       Intra-arterial         5\n",
       "prednisone          Gastrostomy Tube       3\n",
       "triamcinolone       Intrajejunal           2\n",
       "methylprednisolone  Intralesional          1\n",
       "                    Epidural               1\n",
       "hydrocortisone      Intrajejunal           1\n",
       "fludrocortisone     enteral                1\n",
       "dexamethasone       subconjunctiva         1\n",
       "                    enteral                1\n",
       "                    Intraspinal            1\n",
       "triamcinolone       Intramuscular          1\n",
       "hydrocortisone      Rectal                 1\n",
       "Name: PatientID, dtype: int64"
      ]
     },
     "execution_count": 191,
     "metadata": {},
     "output_type": "execute_result"
    }
   ],
   "source": [
    "(\n",
    "    med_admin_win\n",
    "    .query('DrugCategory == \"glucocorticoid\" or DrugCategory == \"steroid\"')\n",
    "    .groupby(['CommonDrugName', 'Route'])['PatientID'].count()\n",
    "    .sort_values(ascending = False)\n",
    ")"
   ]
  },
  {
   "cell_type": "markdown",
   "metadata": {},
   "source": [
    "High frequency of glucocorticoid administration. A large portion likely reflects use in prevention and treatment of chemotherapy-induced nausea and vomiting. Clinically relevant so will create glucocorticoid indicator variable. "
   ]
  },
  {
   "cell_type": "code",
   "execution_count": 192,
   "metadata": {},
   "outputs": [
    {
     "data": {
      "text/plain": [
       "CommonDrugName      Route       \n",
       "dexamethasone       Intravenous     8071\n",
       "                    Oral            2913\n",
       "prednisone          Oral            1285\n",
       "methylprednisolone  Intravenous      979\n",
       "hydrocortisone      Intravenous      272\n",
       "dexamethasone       Intrajejunal     106\n",
       "methylprednisolone  Oral              24\n",
       "hydrocortisone      Oral              19\n",
       "methylprednisolone  Intrajejunal       7\n",
       "hydrocortisone      Intrajejunal       1\n",
       "Name: PatientID, dtype: int64"
      ]
     },
     "execution_count": 192,
     "metadata": {},
     "output_type": "execute_result"
    }
   ],
   "source": [
    "(\n",
    "    med_admin_win\n",
    "    [((med_admin_win['DrugCategory'] == 'glucocorticoid') | \n",
    "      (med_admin_win['CommonDrugName'] == 'hydrocortisone')) & \n",
    "     ((med_admin_win['Route'] == 'Intravenous') | \n",
    "     (med_admin_win['Route'] == 'Oral') | \n",
    "     (med_admin_win['Route'] == 'Intrajejunal'))]\n",
    "    .groupby(['CommonDrugName', 'Route'])['PatientID'].count()\n",
    "    .sort_values(ascending = False)\n",
    ")"
   ]
  },
  {
   "cell_type": "code",
   "execution_count": 193,
   "metadata": {},
   "outputs": [
    {
     "name": "stderr",
     "output_type": "stream",
     "text": [
      "/Applications/anaconda3/lib/python3.7/site-packages/pandas/core/indexing.py:1667: SettingWithCopyWarning: \n",
      "A value is trying to be set on a copy of a slice from a DataFrame.\n",
      "Try using .loc[row_indexer,col_indexer] = value instead\n",
      "\n",
      "See the caveats in the documentation: https://pandas.pydata.org/pandas-docs/stable/user_guide/indexing.html#returning-a-view-versus-a-copy\n",
      "  self.obj[key] = value\n"
     ]
    }
   ],
   "source": [
    "med_admin_win.loc[:, 'steroid_diag'] = (\n",
    "    np.where(((med_admin_win['DrugCategory'] == 'glucocorticoid') | \n",
    "              (med_admin_win['CommonDrugName'] == 'hydrocortisone')) & \n",
    "             ((med_admin_win['Route'] == 'Intravenous') | \n",
    "              (med_admin_win['Route'] == 'Oral') | \n",
    "              (med_admin_win['Route'] == 'Intrajejunal')), 1, 0)\n",
    ")"
   ]
  },
  {
   "cell_type": "markdown",
   "metadata": {},
   "source": [
    "#### 4.5 Pain agent"
   ]
  },
  {
   "cell_type": "code",
   "execution_count": 194,
   "metadata": {},
   "outputs": [
    {
     "data": {
      "text/plain": [
       "CommonDrugName             Route       \n",
       "oxycodone                  Oral            4897\n",
       "morphine                   Intravenous     2616\n",
       "hydromorphone              Intravenous     2305\n",
       "acetaminophen              Oral            1899\n",
       "gabapentin                 Oral            1864\n",
       "lidocaine                  Transdermal     1381\n",
       "morphine                   Oral             950\n",
       "acetaminophen/oxycodone    Oral             862\n",
       "tramadol                   Oral             848\n",
       "lidocaine                  Intravenous      840\n",
       "hydromorphone              Oral             526\n",
       "ketorolac                  Intravenous      506\n",
       "ibuprofen                  Oral             495\n",
       "lidocaine                  Topical          459\n",
       "pregabalin                 Oral             360\n",
       "morphine                   Subcutaneous     319\n",
       "acetaminophen/hydrocodone  Oral             292\n",
       "fentanyl                   Transdermal      250\n",
       "cyclobenzaprine            Oral             218\n",
       "lidocaine                  Intradermal      206\n",
       "Name: PatientID, dtype: int64"
      ]
     },
     "execution_count": 194,
     "metadata": {},
     "output_type": "execute_result"
    }
   ],
   "source": [
    "(\n",
    "    med_admin_win\n",
    "    .query('DrugCategory == \"pain agent\"')\n",
    "    .groupby(['CommonDrugName', 'Route'])['PatientID'].count()\n",
    "    .sort_values(ascending=False)\n",
    "    .head(20)\n",
    ")"
   ]
  },
  {
   "cell_type": "markdown",
   "metadata": {},
   "source": [
    "Clinically releavant. Three indicator variables from 'pain agent' category will be created:\n",
    "- opioid PO: patient recieved oral opioid (fentanyl patch included)\n",
    "- non-opioid PO: patient received non-opioid orally \n",
    "- pain IV: patient received pain medciation intravenously"
   ]
  },
  {
   "cell_type": "markdown",
   "metadata": {},
   "source": [
    "##### 4.5a opioid PO"
   ]
  },
  {
   "cell_type": "code",
   "execution_count": 195,
   "metadata": {},
   "outputs": [],
   "source": [
    "# List of avialable opioids in the US. \n",
    "opioid_list = [\n",
    "    'buprenorphine',\n",
    "    'codeine',\n",
    "    'fentanyl',\n",
    "    'hydrocodone',\n",
    "    'hydromorphone',\n",
    "    'methadone',\n",
    "    'morphine',\n",
    "    'oxycodone',\n",
    "    'oxymorphone',\n",
    "    'tapentadol',\n",
    "    'tramadol'\n",
    "]"
   ]
  },
  {
   "cell_type": "code",
   "execution_count": 196,
   "metadata": {},
   "outputs": [
    {
     "data": {
      "text/plain": [
       "CommonDrugName             Route      \n",
       "oxycodone                  Oral           4897\n",
       "morphine                   Oral            950\n",
       "acetaminophen/oxycodone    Oral            862\n",
       "tramadol                   Oral            848\n",
       "hydromorphone              Oral            526\n",
       "acetaminophen/hydrocodone  Oral            292\n",
       "fentanyl                   Transdermal     250\n",
       "methadone                  Oral            202\n",
       "acetaminophen/codeine      Oral            164\n",
       "codeine                    Oral             16\n",
       "buprenorphine              Sublingual       14\n",
       "morphine                   Sublingual       13\n",
       "fentanyl                   Sublingual        9\n",
       "oxymorphone                Oral              4\n",
       "tapentadol                 Oral              4\n",
       "fentanyl                   Oral              1\n",
       "Name: PatientID, dtype: int64"
      ]
     },
     "execution_count": 196,
     "metadata": {},
     "output_type": "execute_result"
    }
   ],
   "source": [
    "(\n",
    "    med_admin_win\n",
    "    [((med_admin_win['Route'] == 'Oral') | \n",
    "      (med_admin_win['Route'] == 'Transdermal') | \n",
    "      (med_admin_win['Route'] == 'Sublingual')) &\n",
    "     (med_admin_win['CommonDrugName'].str.contains('|'.join(opioid_list)))]\n",
    "    .groupby(['CommonDrugName', 'Route'])['PatientID'].count()\n",
    "    .sort_values(ascending = False)\n",
    ")"
   ]
  },
  {
   "cell_type": "code",
   "execution_count": 197,
   "metadata": {},
   "outputs": [],
   "source": [
    "med_admin_win.loc[:, 'opioid_PO_diag'] = (\n",
    "    np.where(((med_admin_win['Route'] == 'Oral') | \n",
    "              (med_admin_win['Route'] == 'Transdermal') | \n",
    "              (med_admin_win['Route'] == 'Sublingual')) &\n",
    "             (med_admin_win['CommonDrugName'].str.contains('|'.join(opioid_list))), 1, 0)\n",
    ")"
   ]
  },
  {
   "cell_type": "markdown",
   "metadata": {},
   "source": [
    "##### 4.5b Nonopioid PO"
   ]
  },
  {
   "cell_type": "code",
   "execution_count": 198,
   "metadata": {},
   "outputs": [
    {
     "data": {
      "text/plain": [
       "CommonDrugName                     Route\n",
       "acetaminophen                      Oral     1899\n",
       "gabapentin                         Oral     1864\n",
       "ibuprofen                          Oral      495\n",
       "pregabalin                         Oral      360\n",
       "cyclobenzaprine                    Oral      218\n",
       "baclofen                           Oral      122\n",
       "salicylates                        Oral      113\n",
       "sulfasalazine                      Oral      108\n",
       "acetaminophen/butalbital/caffeine  Oral       89\n",
       "celecoxib                          Oral       81\n",
       "naproxen                           Oral       71\n",
       "phenol                             Oral       66\n",
       "lidocaine                          Oral       50\n",
       "benzocaine/menthol                 Oral       35\n",
       "naloxegol                          Oral       31\n",
       "meloxicam                          Oral       20\n",
       "clonidine                          Oral       19\n",
       "aspirin                            Oral       14\n",
       "tizanidine                         Oral       11\n",
       "methocarbamol                      Oral        5\n",
       "indomethacin                       Oral        5\n",
       "nabumetone                         Oral        4\n",
       "diclofenac                         Oral        3\n",
       "acetaminophen/aspirin/caffeine     Oral        2\n",
       "benzocaine                         Oral        2\n",
       "diclofenac/misoprostol             Oral        1\n",
       "Name: PatientID, dtype: int64"
      ]
     },
     "execution_count": 198,
     "metadata": {},
     "output_type": "execute_result"
    }
   ],
   "source": [
    "(\n",
    "    med_admin_win\n",
    "    [(med_admin_win['DrugCategory'] == 'pain agent') & \n",
    "     (med_admin_win['Route'] == 'Oral') & \n",
    "     (~med_admin_win['CommonDrugName'].str.contains('|'.join(opioid_list)))]\n",
    "    .groupby(['CommonDrugName', 'Route'])['PatientID'].count()\n",
    "    .sort_values(ascending = False)\n",
    ")"
   ]
  },
  {
   "cell_type": "code",
   "execution_count": 199,
   "metadata": {},
   "outputs": [],
   "source": [
    "med_admin_win.loc[:, 'nonopioid_PO_diag'] = (\n",
    "    np.where((med_admin_win['DrugCategory'] == 'pain agent') & \n",
    "             (med_admin_win['Route'] == 'Oral') & \n",
    "             (~med_admin_win['CommonDrugName'].str.contains('|'.join(opioid_list))), 1, 0)\n",
    ")"
   ]
  },
  {
   "cell_type": "markdown",
   "metadata": {},
   "source": [
    "##### 4.5c Pain IV"
   ]
  },
  {
   "cell_type": "code",
   "execution_count": 200,
   "metadata": {},
   "outputs": [
    {
     "data": {
      "text/plain": [
       "CommonDrugName  Route      \n",
       "morphine        Intravenous    2616\n",
       "hydromorphone   Intravenous    2305\n",
       "lidocaine       Intravenous     840\n",
       "ketorolac       Intravenous     506\n",
       "acetaminophen   Intravenous     185\n",
       "fentanyl        Intravenous     139\n",
       "meperidine      Intravenous      34\n",
       "oxymorphone     Intravenous      22\n",
       "abatacept       Intravenous       9\n",
       "methadone       Intravenous       6\n",
       "alfentanil      Intravenous       3\n",
       "droperidol      Intravenous       1\n",
       "nalbuphine      Intravenous       1\n",
       "Name: PatientID, dtype: int64"
      ]
     },
     "execution_count": 200,
     "metadata": {},
     "output_type": "execute_result"
    }
   ],
   "source": [
    "(\n",
    "    med_admin_win\n",
    "    [(med_admin_win['DrugCategory'] == 'pain agent') & (med_admin_win['Route'] == 'Intravenous')]\n",
    "    .groupby(['CommonDrugName', 'Route'])['PatientID'].count()\n",
    "    .sort_values(ascending = False)\n",
    "    .head(20)\n",
    ")"
   ]
  },
  {
   "cell_type": "code",
   "execution_count": 201,
   "metadata": {},
   "outputs": [],
   "source": [
    "med_admin_win.loc[:, 'pain_IV_diag'] = (\n",
    "    np.where((med_admin_win['DrugCategory'] == 'pain agent') & \n",
    "             (med_admin_win['Route'] == 'Intravenous') & \n",
    "             (med_admin_win['CommonDrugName'] != 'abatacept') & \n",
    "             (med_admin_win['CommonDrugName'] != 'lidocaine'), 1, 0)\n",
    ")"
   ]
  },
  {
   "cell_type": "markdown",
   "metadata": {},
   "source": [
    "#### 4.6 A. Hematological agent"
   ]
  },
  {
   "cell_type": "code",
   "execution_count": 202,
   "metadata": {},
   "outputs": [
    {
     "data": {
      "text/plain": [
       "heparin (porcine)            8037\n",
       "enoxaparin                   3614\n",
       "aspirin                      3001\n",
       "pegfilgrastim                 764\n",
       "epoetin alfa                  716\n",
       "clopidogrel                   401\n",
       "filgrastim                    400\n",
       "warfarin                      307\n",
       "darbepoetin alfa              300\n",
       "apixaban                      299\n",
       "rivaroxaban                   246\n",
       "alteplase                     173\n",
       "fondaparinux                  154\n",
       "albumin human                 148\n",
       "filgrastim-sndz               146\n",
       "sargramostim                   94\n",
       "thrombin                       88\n",
       "dalteparin,porcine             88\n",
       "thrombin (recombinant)         69\n",
       "gelatin sponge,absorbable      50\n",
       "Name: CommonDrugName, dtype: int64"
      ]
     },
     "execution_count": 202,
     "metadata": {},
     "output_type": "execute_result"
    }
   ],
   "source": [
    "(\n",
    "    med_admin_win\n",
    "    [med_admin_win['DrugCategory'] == 'hematological agent']\n",
    "    .CommonDrugName\n",
    "    .value_counts()\n",
    "    .head(20)\n",
    ")"
   ]
  },
  {
   "cell_type": "markdown",
   "metadata": {},
   "source": [
    "**A therapeutic anticoagulation indicator variable will be created from the hematological agent category and will consist of:** \n",
    "* **Heparin: patients on a heparin gtt or other pareneral agents (eg., bivilrudin or argatroban)**\n",
    "* **Enoxaparin: patients administered greater than prophylactic dosing of enoxaparin or other subcutaneous agents (eg., dalteparin or fondaparinux)**\n",
    "* **DOAC: patients administered any dose of apxiaban, rivaroxabn, edoxaban, or dabigatran**\n",
    "* **Warfarin: patients administered any dose of warfarin.**  "
   ]
  },
  {
   "cell_type": "markdown",
   "metadata": {},
   "source": [
    "##### 4.6 Aa. Heparin and other parenteral agents"
   ]
  },
  {
   "cell_type": "code",
   "execution_count": 203,
   "metadata": {},
   "outputs": [
    {
     "data": {
      "text/plain": [
       "5000.0    0.608624\n",
       "500.0     0.111749\n",
       "5.0       0.039163\n",
       "18.0      0.030871\n",
       "15.0      0.016966\n",
       "7500.0    0.013395\n",
       "16.0      0.012374\n",
       "20.0      0.011226\n",
       "12.0      0.009440\n",
       "22.0      0.009312\n",
       "30.0      0.008930\n",
       "17.0      0.008037\n",
       "14.0      0.006123\n",
       "19.0      0.005485\n",
       "21.0      0.004465\n",
       "23.0      0.004082\n",
       "13.0      0.004082\n",
       "1000.0    0.003827\n",
       "2500.0    0.003827\n",
       "60.0      0.003827\n",
       "Name: AdministeredAmount, dtype: float64"
      ]
     },
     "execution_count": 203,
     "metadata": {},
     "output_type": "execute_result"
    }
   ],
   "source": [
    "(\n",
    "    med_admin_win\n",
    "    [med_admin_win['CommonDrugName'].str.contains('heparin')]\n",
    "    .AdministeredAmount\n",
    "    .value_counts(normalize = True)\n",
    "    .head(20)\n",
    ")"
   ]
  },
  {
   "cell_type": "markdown",
   "metadata": {},
   "source": [
    "**About 70% of administered doses of heparin are either 5000 or 500 units, likely reflecting prophylacitc dosing and catheter lock therapy, respectively. Doses in the teens likely indicate heparin gtt doses.** "
   ]
  },
  {
   "cell_type": "code",
   "execution_count": 204,
   "metadata": {},
   "outputs": [
    {
     "data": {
      "text/plain": [
       "Subcutaneous    0.993711\n",
       "Intravenous     0.006289\n",
       "Name: Route, dtype: float64"
      ]
     },
     "execution_count": 204,
     "metadata": {},
     "output_type": "execute_result"
    }
   ],
   "source": [
    "(\n",
    "    med_admin_win\n",
    "    [(med_admin_win['CommonDrugName'].str.contains('heparin')) & (med_admin_win['AdministeredAmount'] == 5000)]\n",
    "    .Route\n",
    "    .value_counts(normalize = True)\n",
    ")"
   ]
  },
  {
   "cell_type": "code",
   "execution_count": 205,
   "metadata": {},
   "outputs": [
    {
     "data": {
      "text/plain": [
       "Intrajejunal           0.716763\n",
       "Intravenous            0.272832\n",
       "Other/Miscellaneous    0.010405\n",
       "Name: Route, dtype: float64"
      ]
     },
     "execution_count": 205,
     "metadata": {},
     "output_type": "execute_result"
    }
   ],
   "source": [
    "(\n",
    "    med_admin_win\n",
    "    [(med_admin_win['CommonDrugName'].str.contains('heparin')) & (med_admin_win['AdministeredAmount'] == 500)]\n",
    "    .Route\n",
    "    .value_counts(normalize = True)\n",
    ")"
   ]
  },
  {
   "cell_type": "code",
   "execution_count": 206,
   "metadata": {},
   "outputs": [
    {
     "data": {
      "text/plain": [
       "18.0    0.201499\n",
       "15.0    0.109908\n",
       "16.0    0.080766\n",
       "20.0    0.073272\n",
       "12.0    0.061615\n",
       "22.0    0.060783\n",
       "17.0    0.052456\n",
       "14.0    0.039967\n",
       "19.0    0.035803\n",
       "21.0    0.029142\n",
       "Name: AdministeredAmount, dtype: float64"
      ]
     },
     "execution_count": 206,
     "metadata": {},
     "output_type": "execute_result"
    }
   ],
   "source": [
    "(\n",
    "    med_admin_win\n",
    "    [(med_admin_win['CommonDrugName'].str.contains('heparin')) & (med_admin_win['AdministeredUnits'] == 'unit/kg/hr')]\n",
    "    .AdministeredAmount\n",
    "    .value_counts(normalize = True)\n",
    "    .head(10)\n",
    ")"
   ]
  },
  {
   "cell_type": "code",
   "execution_count": 207,
   "metadata": {},
   "outputs": [
    {
     "data": {
      "text/plain": [
       "CommonDrugName     AdministeredUnits\n",
       "heparin (porcine)  unit/kg/hr           1204\n",
       "bivalirudin        mg/kg/hr               41\n",
       "argatroban         mcg/kg/min             11\n",
       "Name: PatientID, dtype: int64"
      ]
     },
     "execution_count": 207,
     "metadata": {},
     "output_type": "execute_result"
    }
   ],
   "source": [
    "# Total number of instances of a patient receiving heparin, bivalrudin, or argatroban drip\n",
    "(\n",
    "    med_admin_win\n",
    "    [((med_admin_win['CommonDrugName'].str.contains('heparin')) & \n",
    "      (med_admin_win['AdministeredUnits'] == 'unit/kg/hr')) | \n",
    "     (med_admin_win['CommonDrugName'].str.contains('bivalirudin')) | \n",
    "     (med_admin_win['CommonDrugName'].str.contains('argatroban'))]\n",
    "    .groupby(['CommonDrugName', 'AdministeredUnits'])['PatientID'].count()\n",
    "    .sort_values(ascending = False)\n",
    " )"
   ]
  },
  {
   "cell_type": "code",
   "execution_count": 208,
   "metadata": {},
   "outputs": [],
   "source": [
    "med_admin_win.loc[:, 'heparin_diag'] = (\n",
    "    np.where(((med_admin_win['CommonDrugName'].str.contains('heparin')) & \n",
    "              (med_admin_win['AdministeredUnits'] == 'unit/kg/hr')) | \n",
    "             (med_admin_win['CommonDrugName'].str.contains('bivalirudin')) | \n",
    "             (med_admin_win['CommonDrugName'].str.contains('argatroban')), 1, 0)\n",
    ")"
   ]
  },
  {
   "cell_type": "markdown",
   "metadata": {},
   "source": [
    "##### 4.6 Ab. Enoxaparin and other subcutaneous agents "
   ]
  },
  {
   "cell_type": "code",
   "execution_count": 209,
   "metadata": {},
   "outputs": [
    {
     "data": {
      "text/plain": [
       "40.0     0.558357\n",
       "80.0     0.116997\n",
       "30.0     0.115864\n",
       "60.0     0.067989\n",
       "120.0    0.043626\n",
       "100.0    0.041360\n",
       "150.0    0.014731\n",
       "70.0     0.008215\n",
       "90.0     0.007932\n",
       "50.0     0.007082\n",
       "Name: AdministeredAmount, dtype: float64"
      ]
     },
     "execution_count": 209,
     "metadata": {},
     "output_type": "execute_result"
    }
   ],
   "source": [
    "(\n",
    "    med_admin_win\n",
    "    [med_admin_win['CommonDrugName'].str.contains('enoxaparin')]\n",
    "    .AdministeredAmount\n",
    "    .value_counts(normalize = True)\n",
    "    .head(10)\n",
    ")"
   ]
  },
  {
   "cell_type": "markdown",
   "metadata": {},
   "source": [
    "Doses of 40 or 30 likley reflect prophylactic VTE dosing and are less clinically relevant than higher doses. "
   ]
  },
  {
   "cell_type": "code",
   "execution_count": 210,
   "metadata": {},
   "outputs": [
    {
     "data": {
      "text/plain": [
       "5000.0     0.522727\n",
       "12500.0    0.170455\n",
       "6250.0     0.113636\n",
       "7500.0     0.090909\n",
       "10000.0    0.056818\n",
       "17500.0    0.022727\n",
       "20000.0    0.011364\n",
       "12400.0    0.011364\n",
       "Name: AdministeredAmount, dtype: float64"
      ]
     },
     "execution_count": 210,
     "metadata": {},
     "output_type": "execute_result"
    }
   ],
   "source": [
    "(\n",
    "    med_admin_win\n",
    "    [med_admin_win['CommonDrugName'].str.contains('dalteparin')]\n",
    "    .AdministeredAmount\n",
    "    .value_counts(normalize = True)\n",
    "    .head(10)\n",
    ")"
   ]
  },
  {
   "cell_type": "markdown",
   "metadata": {},
   "source": [
    "**Dose of 5,000 likley reflects prophylactic VTE dosing and is less clinically relevant than higher doses.** "
   ]
  },
  {
   "cell_type": "code",
   "execution_count": 211,
   "metadata": {},
   "outputs": [
    {
     "data": {
      "text/plain": [
       "7.5     0.766234\n",
       "2.5     0.136364\n",
       "5.0     0.090909\n",
       "10.0    0.006494\n",
       "Name: AdministeredAmount, dtype: float64"
      ]
     },
     "execution_count": 211,
     "metadata": {},
     "output_type": "execute_result"
    }
   ],
   "source": [
    "(\n",
    "    med_admin_win\n",
    "    [med_admin_win['CommonDrugName'].str.contains('fondaparinux')]\n",
    "    .AdministeredAmount\n",
    "    .value_counts(normalize = True)\n",
    ")"
   ]
  },
  {
   "cell_type": "markdown",
   "metadata": {},
   "source": [
    "**Dose of 2.5 likley reflects prophylactic VTE dosing and is less clinically relevant than higher doses.** "
   ]
  },
  {
   "cell_type": "code",
   "execution_count": 212,
   "metadata": {},
   "outputs": [
    {
     "data": {
      "text/plain": [
       "CommonDrugName      AdministeredAmount\n",
       "enoxaparin          80.0                  413\n",
       "                    60.0                  240\n",
       "                    120.0                 154\n",
       "                    100.0                 146\n",
       "fondaparinux        7.5                   118\n",
       "enoxaparin          150.0                  52\n",
       "                    70.0                   29\n",
       "                    90.0                   28\n",
       "                    110.0                  25\n",
       "                    50.0                   25\n",
       "                    130.0                  20\n",
       "dalteparin,porcine  12500.0                15\n",
       "fondaparinux        5.0                    14\n",
       "dalteparin,porcine  6250.0                 10\n",
       "                    7500.0                  8\n",
       "enoxaparin          125.0                   5\n",
       "dalteparin,porcine  10000.0                 5\n",
       "enoxaparin          160.0                   4\n",
       "                    140.0                   3\n",
       "                    101.0                   2\n",
       "Name: PatientID, dtype: int64"
      ]
     },
     "execution_count": 212,
     "metadata": {},
     "output_type": "execute_result"
    }
   ],
   "source": [
    "(\n",
    "    med_admin_win\n",
    "    [((med_admin_win['CommonDrugName'].str.contains('enoxaparin')) & \n",
    "      (med_admin_win['AdministeredAmount'] > 40)) | \n",
    "     ((med_admin_win['CommonDrugName'].str.contains('dalteparin')) & \n",
    "      (med_admin_win['AdministeredAmount'] > 5000)) | \n",
    "     ((med_admin_win['CommonDrugName'].str.contains('fondaparinux')) & \n",
    "      (med_admin_win['AdministeredAmount'] > 2.5))]\n",
    "    .groupby(['CommonDrugName', 'AdministeredAmount'])['PatientID'].count()\n",
    "    .sort_values(ascending = False)\n",
    "    .head(20)\n",
    ")"
   ]
  },
  {
   "cell_type": "code",
   "execution_count": 213,
   "metadata": {},
   "outputs": [],
   "source": [
    "med_admin_win.loc[:, 'enoxaparin_diag'] = (\n",
    "    np.where(((med_admin_win['CommonDrugName'].str.contains('enoxaparin')) & \n",
    "              (med_admin_win['AdministeredAmount'] > 40)) | \n",
    "             ((med_admin_win['CommonDrugName'].str.contains('dalteparin')) & \n",
    "              (med_admin_win['AdministeredAmount'] > 5000)) | \n",
    "             ((med_admin_win['CommonDrugName'].str.contains('fondaparinux')) & \n",
    "              (med_admin_win['AdministeredAmount'] > 2.5)), 1, 0)\n",
    ")"
   ]
  },
  {
   "cell_type": "markdown",
   "metadata": {},
   "source": [
    "##### 4.6 Ac. DOAC"
   ]
  },
  {
   "cell_type": "code",
   "execution_count": 214,
   "metadata": {},
   "outputs": [
    {
     "data": {
      "text/plain": [
       "apixaban                299\n",
       "rivaroxaban             246\n",
       "dabigatran etexilate     15\n",
       "Name: CommonDrugName, dtype: int64"
      ]
     },
     "execution_count": 214,
     "metadata": {},
     "output_type": "execute_result"
    }
   ],
   "source": [
    "(\n",
    "    med_admin_win\n",
    "    [(med_admin_win['CommonDrugName'].str.contains('apixaban')) | \n",
    "     (med_admin_win['CommonDrugName'].str.contains('rivaroxaban')) | \n",
    "     (med_admin_win['CommonDrugName'].str.contains('dabigatran')) | \n",
    "     (med_admin_win['CommonDrugName'].str.contains('edoxaban'))]\n",
    "    .CommonDrugName\n",
    "    .value_counts()\n",
    ")"
   ]
  },
  {
   "cell_type": "code",
   "execution_count": 215,
   "metadata": {},
   "outputs": [],
   "source": [
    "med_admin_win.loc[:, 'doac_diag'] = (\n",
    "    np.where((med_admin_win['CommonDrugName'].str.contains('apixaban')) | \n",
    "             (med_admin_win['CommonDrugName'].str.contains('rivaroxaban')) | \n",
    "             (med_admin_win['CommonDrugName'].str.contains('dabigatran')) | \n",
    "             (med_admin_win['CommonDrugName'].str.contains('edoxaban')), 1, 0)\n",
    ")"
   ]
  },
  {
   "cell_type": "markdown",
   "metadata": {},
   "source": [
    "##### 4.6 Ad. Warfarin"
   ]
  },
  {
   "cell_type": "code",
   "execution_count": 216,
   "metadata": {},
   "outputs": [
    {
     "data": {
      "text/plain": [
       "5.00     124\n",
       "2.50      49\n",
       "2.00      35\n",
       "7.50      19\n",
       "6.00      19\n",
       "3.00      17\n",
       "4.00      16\n",
       "10.00      8\n",
       "1.00       8\n",
       "8.00       3\n",
       "0.50       2\n",
       "9.00       1\n",
       "12.00      1\n",
       "1.25       1\n",
       "1.50       1\n",
       "11.00      1\n",
       "Name: AdministeredAmount, dtype: int64"
      ]
     },
     "execution_count": 216,
     "metadata": {},
     "output_type": "execute_result"
    }
   ],
   "source": [
    "(\n",
    "    med_admin_win\n",
    "    [(med_admin_win['CommonDrugName'].str.contains('warfarin'))]\n",
    "    .AdministeredAmount\n",
    "    .value_counts()\n",
    ")"
   ]
  },
  {
   "cell_type": "code",
   "execution_count": 217,
   "metadata": {},
   "outputs": [],
   "source": [
    "med_admin_win.loc[:, 'warfarin_diag'] = np.where((med_admin_win['CommonDrugName'].str.contains('warfarin')), 1, 0)"
   ]
  },
  {
   "cell_type": "markdown",
   "metadata": {},
   "source": [
    "##### 4.6 Ae. Anticaogulation merge "
   ]
  },
  {
   "cell_type": "code",
   "execution_count": 218,
   "metadata": {},
   "outputs": [
    {
     "name": "stderr",
     "output_type": "stream",
     "text": [
      "/Applications/anaconda3/lib/python3.7/site-packages/ipykernel_launcher.py:3: SettingWithCopyWarning: \n",
      "A value is trying to be set on a copy of a slice from a DataFrame.\n",
      "Try using .loc[row_indexer,col_indexer] = value instead\n",
      "\n",
      "See the caveats in the documentation: https://pandas.pydata.org/pandas-docs/stable/user_guide/indexing.html#returning-a-view-versus-a-copy\n",
      "  This is separate from the ipykernel package so we can avoid doing imports until\n"
     ]
    }
   ],
   "source": [
    "# Combine heparin, enoxparin, DOAC, and warfarin columns into a single anticoagulation indicator variable. \n",
    "med_admin_win['ac_diag'] = (\n",
    "    med_admin_win['heparin_diag'] + med_admin_win['enoxaparin_diag'] + med_admin_win['doac_diag'] + med_admin_win['warfarin_diag']\n",
    ")"
   ]
  },
  {
   "cell_type": "code",
   "execution_count": 219,
   "metadata": {},
   "outputs": [],
   "source": [
    "# Drop heparin, enoxaparin, DOAC, and warfarin columns. \n",
    "med_admin_win = med_admin_win.drop(columns = ['heparin_diag', 'enoxaparin_diag', 'doac_diag', 'warfarin_diag'])"
   ]
  },
  {
   "cell_type": "markdown",
   "metadata": {},
   "source": [
    "#### 4.6 B. DAPT"
   ]
  },
  {
   "cell_type": "code",
   "execution_count": 220,
   "metadata": {},
   "outputs": [
    {
     "data": {
      "text/plain": [
       "dapt    52\n",
       "dtype: int64"
      ]
     },
     "execution_count": 220,
     "metadata": {},
     "output_type": "execute_result"
    }
   ],
   "source": [
    "# Create dataframe containing patients who received aspirin or clopidogrel. \n",
    "(\n",
    "    med_admin_win\n",
    "    [(med_admin_win['CommonDrugName'].str.contains('aspirin')) | \n",
    "     (med_admin_win['CommonDrugName'].str.contains('clopidogrel')) | \n",
    "     (med_admin_win['CommonDrugName'].str.contains('ticagrelor')) | \n",
    "     (med_admin_win['CommonDrugName'].str.contains('prasugrel'))]\n",
    "    .drop_duplicates(subset = ['PatientID', 'CommonDrugName'], keep = 'first')\n",
    "    .groupby('PatientID')['PatientID'].count()\n",
    "    .to_frame(name = 'dapt')\n",
    "    .query('dapt == 2')\n",
    "    .count()\n",
    ")"
   ]
  },
  {
   "cell_type": "markdown",
   "metadata": {},
   "source": [
    "**Considering such a small number of patients are receiving DAPT, no variable created.** "
   ]
  },
  {
   "cell_type": "markdown",
   "metadata": {},
   "source": [
    "#### 4.6 C. G-CSF"
   ]
  },
  {
   "cell_type": "code",
   "execution_count": 221,
   "metadata": {},
   "outputs": [
    {
     "data": {
      "text/plain": [
       "pegfilgrastim         764\n",
       "filgrastim            400\n",
       "filgrastim-sndz       146\n",
       "tbo-filgrastim         35\n",
       "filgrastim-aafi        15\n",
       "pegfilgrastim-cbqv     12\n",
       "pegfilgrastim-jmdb     10\n",
       "Name: CommonDrugName, dtype: int64"
      ]
     },
     "execution_count": 221,
     "metadata": {},
     "output_type": "execute_result"
    }
   ],
   "source": [
    "(\n",
    "    med_admin_win\n",
    "    [med_admin_win['CommonDrugName'].str.contains('filgrastim')]\n",
    "    .CommonDrugName\n",
    "    .value_counts()\n",
    ")"
   ]
  },
  {
   "cell_type": "markdown",
   "metadata": {},
   "source": [
    "**Receipt of G-CSF likely reflects chemotherapy toxicity which should not be included at time of diagnosis.** "
   ]
  },
  {
   "cell_type": "markdown",
   "metadata": {},
   "source": [
    "#### 4.6 C. ESA"
   ]
  },
  {
   "cell_type": "code",
   "execution_count": 222,
   "metadata": {},
   "outputs": [
    {
     "data": {
      "text/plain": [
       "epoetin alfa         716\n",
       "darbepoetin alfa     300\n",
       "epoetin alfa-epbx     43\n",
       "Name: CommonDrugName, dtype: int64"
      ]
     },
     "execution_count": 222,
     "metadata": {},
     "output_type": "execute_result"
    }
   ],
   "source": [
    "(\n",
    "    med_admin_win\n",
    "    [med_admin_win['CommonDrugName'].str.contains('epoetin')]\n",
    "    .CommonDrugName\n",
    "    .value_counts()\n",
    ")"
   ]
  },
  {
   "cell_type": "markdown",
   "metadata": {},
   "source": [
    "**No ESA variable created for the same reason as G-CSF.**"
   ]
  },
  {
   "cell_type": "markdown",
   "metadata": {},
   "source": [
    "#### 4.6 D. tPA"
   ]
  },
  {
   "cell_type": "code",
   "execution_count": 223,
   "metadata": {},
   "outputs": [
    {
     "data": {
      "text/plain": [
       "AdministeredAmount  Route              \n",
       "2.0                 Intravenous            83\n",
       "                    Other/Miscellaneous    28\n",
       "1.0                 Other/Miscellaneous    16\n",
       "10.0                Intrapleural           14\n",
       "2.0                 Intrajejunal            4\n",
       "0.5                 Other/Miscellaneous     3\n",
       "2.2                 Intravenous             2\n",
       "4.0                 Intravenous             1\n",
       "Name: PatientID, dtype: int64"
      ]
     },
     "execution_count": 223,
     "metadata": {},
     "output_type": "execute_result"
    }
   ],
   "source": [
    "(\n",
    "    med_admin_win\n",
    "    [med_admin_win['CommonDrugName'].str.contains('alteplase')]\n",
    "    .groupby(['AdministeredAmount', 'Route'])['PatientID'].count()\n",
    "    .sort_values (ascending = False)\n",
    ")"
   ]
  },
  {
   "cell_type": "markdown",
   "metadata": {},
   "source": [
    "**No indicator variable created since doses received are for catheter clearance rather than for acute ischemic stroke or pulmonary embolism.** "
   ]
  },
  {
   "cell_type": "markdown",
   "metadata": {},
   "source": [
    "#### 4.7 Anti-infective "
   ]
  },
  {
   "cell_type": "code",
   "execution_count": 224,
   "metadata": {},
   "outputs": [
    {
     "data": {
      "text/plain": [
       "CommonDrugName                                 Route      \n",
       "vancomycin                                     Intravenous    1414\n",
       "cefazolin                                      Intravenous    1204\n",
       "piperacillin/tazobactam                        Intravenous    1136\n",
       "ceftriaxone                                    Intravenous    1103\n",
       "doxycycline                                    Oral            633\n",
       "nystatin                                       Topical         505\n",
       "ampicillin/sulbactam                           Intravenous     389\n",
       "ceftazidime                                    Intravenous     381\n",
       "cefepime                                       Intravenous     369\n",
       "nystatin                                       Oral            354\n",
       "moxifloxacin                                   Oral            314\n",
       "amoxicillin/clavulanic acid                    Oral            309\n",
       "sulfamethoxazole/trimethoprim                  Oral            281\n",
       "metronidazole                                  Intravenous     273\n",
       "azithromycin                                   Intravenous     227\n",
       "                                               Oral            211\n",
       "ciprofloxacin                                  Oral            198\n",
       "dextrose, iso-osmotic/piperacillin/tazobactam  Intravenous     177\n",
       "cefuroxime                                     Oral            159\n",
       "hydroxychloroquine                             Oral            156\n",
       "Name: PatientID, dtype: int64"
      ]
     },
     "execution_count": 224,
     "metadata": {},
     "output_type": "execute_result"
    }
   ],
   "source": [
    "(\n",
    "    med_admin_win\n",
    "    [(med_admin_win['DrugCategory'] == 'anti-infective')] \n",
    "    .groupby(['CommonDrugName', 'Route'])['PatientID'].count()\n",
    "    .sort_values(ascending = False)\n",
    "    .head(20)\n",
    ")"
   ]
  },
  {
   "cell_type": "markdown",
   "metadata": {},
   "source": [
    "**Clinically relevant; two separate indicator variables from the anti-infective drug category will be created:** \n",
    "* **antiinfective IV group** \n",
    "* **antiinfective PO group**"
   ]
  },
  {
   "cell_type": "markdown",
   "metadata": {},
   "source": [
    "##### 4.7a Antiinfective IV "
   ]
  },
  {
   "cell_type": "code",
   "execution_count": 225,
   "metadata": {},
   "outputs": [
    {
     "data": {
      "text/plain": [
       "vancomycin                                       0.184091\n",
       "cefazolin                                        0.156750\n",
       "piperacillin/tazobactam                          0.147897\n",
       "ceftriaxone                                      0.143601\n",
       "ampicillin/sulbactam                             0.050644\n",
       "ceftazidime                                      0.049603\n",
       "cefepime                                         0.048041\n",
       "metronidazole                                    0.035542\n",
       "azithromycin                                     0.029553\n",
       "dextrose, iso-osmotic/piperacillin/tazobactam    0.023044\n",
       "doxycycline                                      0.016274\n",
       "moxifloxacin                                     0.016274\n",
       "meropenem                                        0.016144\n",
       "ciprofloxacin                                    0.009504\n",
       "ertapenem                                        0.009504\n",
       "oxacillin                                        0.008462\n",
       "levofloxacin                                     0.007942\n",
       "foscarnet                                        0.006119\n",
       "clindamycin                                      0.006119\n",
       "fluconazole                                      0.005208\n",
       "Name: CommonDrugName, dtype: float64"
      ]
     },
     "execution_count": 225,
     "metadata": {},
     "output_type": "execute_result"
    }
   ],
   "source": [
    "(\n",
    "    med_admin_win\n",
    "    [(med_admin_win['DrugCategory'] == 'anti-infective') & \n",
    "     (med_admin_win['Route'] == 'Intravenous')]\n",
    "    .CommonDrugName\n",
    "    .value_counts(normalize = True)\n",
    "    .head(20)\n",
    ")"
   ]
  },
  {
   "cell_type": "markdown",
   "metadata": {},
   "source": [
    "**This group consists mainly of antibacterials. Antifungals and antivirals are also included.** "
   ]
  },
  {
   "cell_type": "code",
   "execution_count": 226,
   "metadata": {},
   "outputs": [],
   "source": [
    "med_admin_win.loc[:, 'antiinfective_IV_diag'] = (\n",
    "    np.where((med_admin_win['DrugCategory'] == 'anti-infective') & \n",
    "             (med_admin_win['Route'] == 'Intravenous'), 1, 0)\n",
    ")"
   ]
  },
  {
   "cell_type": "markdown",
   "metadata": {},
   "source": [
    "##### 4.7b Antiinfective PO"
   ]
  },
  {
   "cell_type": "code",
   "execution_count": 227,
   "metadata": {},
   "outputs": [
    {
     "data": {
      "text/plain": [
       "CommonDrugName                 Route\n",
       "doxycycline                    Oral     633\n",
       "nystatin                       Oral     354\n",
       "moxifloxacin                   Oral     314\n",
       "amoxicillin/clavulanic acid    Oral     309\n",
       "sulfamethoxazole/trimethoprim  Oral     281\n",
       "azithromycin                   Oral     211\n",
       "ciprofloxacin                  Oral     198\n",
       "cefuroxime                     Oral     159\n",
       "hydroxychloroquine             Oral     156\n",
       "metronidazole                  Oral     148\n",
       "fluconazole                    Oral     121\n",
       "levofloxacin                   Oral      83\n",
       "acyclovir                      Oral      74\n",
       "cephalexin                     Oral      55\n",
       "vancomycin                     Oral      53\n",
       "lamivudine                     Oral      49\n",
       "nitrofurantoin                 Oral      47\n",
       "dolutegravir                   Oral      46\n",
       "emtricitabine/tenofovir        Oral      44\n",
       "minocycline                    Oral      42\n",
       "Name: PatientID, dtype: int64"
      ]
     },
     "execution_count": 227,
     "metadata": {},
     "output_type": "execute_result"
    }
   ],
   "source": [
    "(\n",
    "    med_admin_win\n",
    "    [(med_admin_win['DrugCategory'] == 'anti-infective') & \n",
    "     (med_admin_win['Route'] == 'Oral')]\n",
    "    .groupby(['CommonDrugName', 'Route'])['PatientID'].count()\n",
    "    .sort_values(ascending = False)\n",
    "    .head(20)\n",
    ")"
   ]
  },
  {
   "cell_type": "markdown",
   "metadata": {},
   "source": [
    "**This group contains a very diverse collection of medications. In addition to typical antibiotics it also has HIV medications, antihemlinthic agents, and creams.**"
   ]
  },
  {
   "cell_type": "code",
   "execution_count": 228,
   "metadata": {},
   "outputs": [],
   "source": [
    "med_admin_win.loc[:, 'antiinfective_diag'] = (\n",
    "    np.where((med_admin_win['DrugCategory'] == 'anti-infective') & \n",
    "             (med_admin_win['Route'] == 'Oral'), 1, 0)\n",
    ")"
   ]
  },
  {
   "cell_type": "markdown",
   "metadata": {},
   "source": [
    "#### 4.8 Anesthetic"
   ]
  },
  {
   "cell_type": "code",
   "execution_count": 229,
   "metadata": {},
   "outputs": [
    {
     "data": {
      "text/plain": [
       "CommonDrugName  Route        \n",
       "fentanyl        Intravenous      4524\n",
       "propofol        Intravenous      4320\n",
       "midazolam       Intravenous      2228\n",
       "remifentanil    Intravenous       681\n",
       "ketamine        Intravenous       160\n",
       "etomidate       Intravenous        84\n",
       "sufentanil      Intravenous        22\n",
       "midazolam       Intramuscular      21\n",
       "fentanyl        Buccal              6\n",
       "                Intrathecal         1\n",
       "                Oral                1\n",
       "midazolam       Intrajejunal        1\n",
       "Name: PatientID, dtype: int64"
      ]
     },
     "execution_count": 229,
     "metadata": {},
     "output_type": "execute_result"
    }
   ],
   "source": [
    "(\n",
    "    med_admin_win\n",
    "    .query('DrugCategory == \"anesthetic\"')\n",
    "    .groupby(['CommonDrugName', 'Route'])['PatientID'].count()\n",
    "    .sort_values(ascending = False)\n",
    ")"
   ]
  },
  {
   "cell_type": "markdown",
   "metadata": {},
   "source": [
    "**Most likely capturing patients undergoing biopsy for new advanced diagnosis. Unclear prognostic value so no indicator variable created.** "
   ]
  },
  {
   "cell_type": "markdown",
   "metadata": {},
   "source": [
    "#### 4.9 Cytoprotective"
   ]
  },
  {
   "cell_type": "code",
   "execution_count": 230,
   "metadata": {},
   "outputs": [
    {
     "data": {
      "text/plain": [
       "CommonDrugName            Route        \n",
       "vitamin b12 preparations  Intramuscular    4416\n",
       "folic acid                Oral             1365\n",
       "vitamin b12 preparations  Subcutaneous      910\n",
       "                          Intrajejunal      555\n",
       "                          Oral              267\n",
       "folic acid                enteral            35\n",
       "                          Intravenous        20\n",
       "                          Nasogastric         6\n",
       "vitamin b12 preparations  Nasogastric         4\n",
       "urate oxidase             Intravenous         2\n",
       "Name: PatientID, dtype: int64"
      ]
     },
     "execution_count": 230,
     "metadata": {},
     "output_type": "execute_result"
    }
   ],
   "source": [
    "(\n",
    "    med_admin_win\n",
    "    .query('DrugCategory == \"cytoprotective\"')\n",
    "    .groupby(['CommonDrugName', 'Route'])['PatientID'].count()\n",
    "    .sort_values(ascending = False)\n",
    ")"
   ]
  },
  {
   "cell_type": "markdown",
   "metadata": {},
   "source": [
    "#### 4.10 Antihyperglycemic"
   ]
  },
  {
   "cell_type": "code",
   "execution_count": 231,
   "metadata": {},
   "outputs": [
    {
     "data": {
      "text/plain": [
       "insulin lispro                             0.528839\n",
       "insulin regular                            0.204307\n",
       "insulin glargine                           0.154153\n",
       "metformin                                  0.046024\n",
       "insulin isophane (nph)                     0.029650\n",
       "sitagliptin                                0.007671\n",
       "linagliptin                                0.007228\n",
       "glipizide                                  0.006638\n",
       "glimepiride                                0.005901\n",
       "pioglitazone                               0.002065\n",
       "insulin detemir                            0.001918\n",
       "insulin isophane (nph)/insulin regular     0.001770\n",
       "repaglinide                                0.001623\n",
       "dapagliflozin                              0.000738\n",
       "empagliflozin                              0.000590\n",
       "glyburide                                  0.000443\n",
       "insulin lispro/insulin lispro protamine    0.000443\n",
       "Name: CommonDrugName, dtype: float64"
      ]
     },
     "execution_count": 231,
     "metadata": {},
     "output_type": "execute_result"
    }
   ],
   "source": [
    "(\n",
    "    med_admin_win\n",
    "    .query('DrugCategory == \"antihyperglycemic\"')\n",
    "    .CommonDrugName\n",
    "    .value_counts(normalize = True)\n",
    ")"
   ]
  },
  {
   "cell_type": "code",
   "execution_count": 232,
   "metadata": {},
   "outputs": [],
   "source": [
    "med_admin_win.loc[:, 'antihyperglycemic_diag'] = np.where(med_admin_win['DrugCategory'] == 'antihyperglycemic', 1, 0)"
   ]
  },
  {
   "cell_type": "markdown",
   "metadata": {},
   "source": [
    "#### 4.11 Proton pump inhibitor"
   ]
  },
  {
   "cell_type": "code",
   "execution_count": 233,
   "metadata": {},
   "outputs": [
    {
     "data": {
      "text/plain": [
       "CommonDrugName  Route           \n",
       "pantoprazole    Oral                3097\n",
       "lansoprazole    Oral                 728\n",
       "omeprazole      Oral                 667\n",
       "pantoprazole    Intravenous          466\n",
       "omeprazole      enteral               64\n",
       "lansoprazole    enteral               42\n",
       "                Nasogastric           24\n",
       "esomeprazole    Intravenous            8\n",
       "lansoprazole    Gastrostomy Tube       3\n",
       "Name: PatientID, dtype: int64"
      ]
     },
     "execution_count": 233,
     "metadata": {},
     "output_type": "execute_result"
    }
   ],
   "source": [
    "(\n",
    "    med_admin_win\n",
    "    .query('DrugCategory == \"proton pump inhibitor\"')\n",
    "    .groupby(['CommonDrugName', 'Route'])['PatientID'].count()\n",
    "    .sort_values(ascending = False)\n",
    ")"
   ]
  },
  {
   "cell_type": "code",
   "execution_count": 234,
   "metadata": {},
   "outputs": [],
   "source": [
    "med_admin_win.loc[:, 'ppi_diag'] = np.where(med_admin_win['DrugCategory'] == 'proton pump inhibitor', 1, 0)"
   ]
  },
  {
   "cell_type": "markdown",
   "metadata": {},
   "source": [
    "#### 4.12 Antidepressant"
   ]
  },
  {
   "cell_type": "code",
   "execution_count": 235,
   "metadata": {},
   "outputs": [
    {
     "data": {
      "text/plain": [
       "escitalopram     746\n",
       "trazodone        705\n",
       "sertraline       565\n",
       "duloxetine       413\n",
       "bupropion        402\n",
       "mirtazapine      312\n",
       "fluoxetine       216\n",
       "venlafaxine      153\n",
       "paroxetine       122\n",
       "amitriptyline     91\n",
       "nortriptyline     79\n",
       "citalopram        66\n",
       "imipramine         8\n",
       "Name: CommonDrugName, dtype: int64"
      ]
     },
     "execution_count": 235,
     "metadata": {},
     "output_type": "execute_result"
    }
   ],
   "source": [
    "(\n",
    "    med_admin_win\n",
    "    .query('DrugCategory == \"antidepressant\"')\n",
    "    .CommonDrugName\n",
    "    .value_counts()\n",
    ")"
   ]
  },
  {
   "cell_type": "code",
   "execution_count": 236,
   "metadata": {},
   "outputs": [],
   "source": [
    "med_admin_win.loc[:, 'antidepressant_diag'] = np.where(med_admin_win['DrugCategory'] == 'antidepressant', 1, 0)"
   ]
  },
  {
   "cell_type": "markdown",
   "metadata": {},
   "source": [
    "#### 4.13 Bone therapy agent"
   ]
  },
  {
   "cell_type": "code",
   "execution_count": 237,
   "metadata": {},
   "outputs": [
    {
     "data": {
      "text/plain": [
       "denosumab          676\n",
       "zoledronic acid    664\n",
       "pamidronic acid     63\n",
       "raloxifene           6\n",
       "ibandronic acid      2\n",
       "Name: CommonDrugName, dtype: int64"
      ]
     },
     "execution_count": 237,
     "metadata": {},
     "output_type": "execute_result"
    }
   ],
   "source": [
    "(\n",
    "    med_admin_win\n",
    "    .query('DrugCategory == \"bone therapy agent (bta)\"')\n",
    "    .CommonDrugName\n",
    "    .value_counts()\n",
    ")"
   ]
  },
  {
   "cell_type": "code",
   "execution_count": 238,
   "metadata": {},
   "outputs": [],
   "source": [
    "med_admin_win.loc[:, 'bta_diag'] = np.where(med_admin_win['DrugCategory'] == 'bone therapy agent (bta)', 1, 0)"
   ]
  },
  {
   "cell_type": "markdown",
   "metadata": {},
   "source": [
    "#### 4.14 Hormone"
   ]
  },
  {
   "cell_type": "code",
   "execution_count": 239,
   "metadata": {},
   "outputs": [
    {
     "data": {
      "text/plain": [
       "levothyroxine            1359\n",
       "vasopressin               106\n",
       "calcitonin                 54\n",
       "octreotide                 50\n",
       "liothyronine               22\n",
       "desmopressin               12\n",
       "thyroid                    11\n",
       "estrogens, conjugated      10\n",
       "testosterone                7\n",
       "estradiol                   4\n",
       "danazol                     3\n",
       "lanreotide                  2\n",
       "Name: CommonDrugName, dtype: int64"
      ]
     },
     "execution_count": 239,
     "metadata": {},
     "output_type": "execute_result"
    }
   ],
   "source": [
    "(\n",
    "    med_admin_win\n",
    "    .query('DrugCategory == \"hormone\"')\n",
    "    .CommonDrugName\n",
    "    .value_counts()\n",
    ")"
   ]
  },
  {
   "cell_type": "markdown",
   "metadata": {},
   "source": [
    "**Hypothyroidism might be clinically relevant given higher all-cause mortality risk. Indicator variable will be created for patients receiving levothyroxine.** "
   ]
  },
  {
   "cell_type": "code",
   "execution_count": 240,
   "metadata": {},
   "outputs": [],
   "source": [
    "med_admin_win.loc[:, 'thyroid_diag'] = np.where(med_admin_win['CommonDrugName'] == 'levothyroxine', 1, 0)"
   ]
  },
  {
   "cell_type": "markdown",
   "metadata": {},
   "source": [
    "#### 4.15 Gout and hyperurecemia agent "
   ]
  },
  {
   "cell_type": "code",
   "execution_count": 241,
   "metadata": {},
   "outputs": [
    {
     "data": {
      "text/plain": [
       "allopurinol    333\n",
       "colchicine      98\n",
       "Name: CommonDrugName, dtype: int64"
      ]
     },
     "execution_count": 241,
     "metadata": {},
     "output_type": "execute_result"
    }
   ],
   "source": [
    "(\n",
    "    med_admin_win\n",
    "    .query('DrugCategory == \"gout and hyperurecemia agent\"')\n",
    "    .CommonDrugName\n",
    "    .value_counts()\n",
    ")"
   ]
  },
  {
   "cell_type": "markdown",
   "metadata": {},
   "source": [
    "#### 4.16 Immunosuppressive "
   ]
  },
  {
   "cell_type": "code",
   "execution_count": 242,
   "metadata": {},
   "outputs": [
    {
     "data": {
      "text/plain": [
       "cyclosporine         183\n",
       "tacrolimus           138\n",
       "mycophenolic acid    106\n",
       "azathioprine          52\n",
       "sirolimus             27\n",
       "Name: CommonDrugName, dtype: int64"
      ]
     },
     "execution_count": 242,
     "metadata": {},
     "output_type": "execute_result"
    }
   ],
   "source": [
    "(\n",
    "    med_admin_win\n",
    "    .query('DrugCategory == \"immunosuppressive\"')\n",
    "    .CommonDrugName\n",
    "    .value_counts()\n",
    ")"
   ]
  },
  {
   "cell_type": "code",
   "execution_count": 243,
   "metadata": {},
   "outputs": [],
   "source": [
    "med_admin_win.loc[:, 'is_diag'] = np.where(med_admin_win['DrugCategory'] == 'immunosuppressive', 1, 0)"
   ]
  },
  {
   "cell_type": "markdown",
   "metadata": {},
   "source": [
    "#### 4.17 Sedative agent "
   ]
  },
  {
   "cell_type": "code",
   "execution_count": 244,
   "metadata": {},
   "outputs": [
    {
     "data": {
      "text/plain": [
       "zolpidem    382\n",
       "Name: CommonDrugName, dtype: int64"
      ]
     },
     "execution_count": 244,
     "metadata": {},
     "output_type": "execute_result"
    }
   ],
   "source": [
    "(\n",
    "    med_admin_win\n",
    "    .query('DrugCategory == \"sedative agent\"')\n",
    "    .CommonDrugName\n",
    "    .value_counts()\n",
    ")"
   ]
  },
  {
   "cell_type": "markdown",
   "metadata": {},
   "source": [
    "#### 4.18 Endocrine "
   ]
  },
  {
   "cell_type": "code",
   "execution_count": 245,
   "metadata": {},
   "outputs": [
    {
     "data": {
      "text/plain": [
       "oxytocin    86\n",
       "Name: CommonDrugName, dtype: int64"
      ]
     },
     "execution_count": 245,
     "metadata": {},
     "output_type": "execute_result"
    }
   ],
   "source": [
    "(\n",
    "    med_admin_win\n",
    "    .query('DrugCategory == \"endocrine\"')\n",
    "    .CommonDrugName\n",
    "    .value_counts()\n",
    ")"
   ]
  },
  {
   "cell_type": "markdown",
   "metadata": {},
   "source": [
    "#### 4.19 Antidote and reversal agent"
   ]
  },
  {
   "cell_type": "code",
   "execution_count": 246,
   "metadata": {},
   "outputs": [
    {
     "data": {
      "text/plain": [
       "acetylcysteine              148\n",
       "naloxone                     69\n",
       "protamine                    13\n",
       "flumazenil                    8\n",
       "naltrexone                    6\n",
       "physostigmine                 3\n",
       "methylene blue                2\n",
       "vitamin b12 preparations      2\n",
       "Name: CommonDrugName, dtype: int64"
      ]
     },
     "execution_count": 246,
     "metadata": {},
     "output_type": "execute_result"
    }
   ],
   "source": [
    "(\n",
    "    med_admin_win\n",
    "    .query('DrugCategory == \"antidote and reversal agent\"')\n",
    "    .CommonDrugName\n",
    "    .value_counts()\n",
    ")"
   ]
  },
  {
   "cell_type": "markdown",
   "metadata": {},
   "source": [
    "#### 4.20 Hyperglycemic"
   ]
  },
  {
   "cell_type": "code",
   "execution_count": 247,
   "metadata": {},
   "outputs": [
    {
     "data": {
      "text/plain": [
       "glucagon         91\n",
       "carbohydrates    87\n",
       "Name: CommonDrugName, dtype: int64"
      ]
     },
     "execution_count": 247,
     "metadata": {},
     "output_type": "execute_result"
    }
   ],
   "source": [
    "(\n",
    "    med_admin_win\n",
    "    .query('DrugCategory == \"hyperglycemic\"')\n",
    "    .CommonDrugName\n",
    "    .value_counts()\n",
    ")"
   ]
  },
  {
   "cell_type": "markdown",
   "metadata": {},
   "source": [
    "#### 4.21 Antithyroid agent"
   ]
  },
  {
   "cell_type": "code",
   "execution_count": 248,
   "metadata": {},
   "outputs": [
    {
     "data": {
      "text/plain": [
       "methimazole    50\n",
       "Name: CommonDrugName, dtype: int64"
      ]
     },
     "execution_count": 248,
     "metadata": {},
     "output_type": "execute_result"
    }
   ],
   "source": [
    "(\n",
    "    med_admin_win\n",
    "    .query('DrugCategory == \"antithyroid agent\"')\n",
    "    .CommonDrugName\n",
    "    .value_counts()\n",
    ")"
   ]
  },
  {
   "cell_type": "markdown",
   "metadata": {},
   "source": [
    "#### 4.22 Anticholinergic"
   ]
  },
  {
   "cell_type": "code",
   "execution_count": 249,
   "metadata": {},
   "outputs": [
    {
     "data": {
      "text/plain": [
       "atropine    44\n",
       "Name: CommonDrugName, dtype: int64"
      ]
     },
     "execution_count": 249,
     "metadata": {},
     "output_type": "execute_result"
    }
   ],
   "source": [
    "(\n",
    "    med_admin_win\n",
    "    .query('DrugCategory == \"anticholinergic\"')\n",
    "    .CommonDrugName\n",
    "    .value_counts()\n",
    ")"
   ]
  },
  {
   "cell_type": "markdown",
   "metadata": {},
   "source": [
    "#### 4.23 Calcimimetic "
   ]
  },
  {
   "cell_type": "code",
   "execution_count": 250,
   "metadata": {},
   "outputs": [
    {
     "data": {
      "text/plain": [
       "Series([], Name: CommonDrugName, dtype: int64)"
      ]
     },
     "execution_count": 250,
     "metadata": {},
     "output_type": "execute_result"
    }
   ],
   "source": [
    "(\n",
    "    med_admin_win\n",
    "    .query('DrugCategory == \"calcimimetic\"')\n",
    "    .CommonDrugName\n",
    "    .value_counts()\n",
    ")"
   ]
  },
  {
   "cell_type": "markdown",
   "metadata": {},
   "source": [
    "#### 4.24 Targeted therapy "
   ]
  },
  {
   "cell_type": "code",
   "execution_count": 251,
   "metadata": {},
   "outputs": [
    {
     "data": {
      "text/plain": [
       "infliximab         2\n",
       "infliximab-dyyb    2\n",
       "adalimumab         1\n",
       "Name: CommonDrugName, dtype: int64"
      ]
     },
     "execution_count": 251,
     "metadata": {},
     "output_type": "execute_result"
    }
   ],
   "source": [
    "(\n",
    "    med_admin_win\n",
    "    .query('DrugCategory == \"targeted therapy\"')\n",
    "    .CommonDrugName\n",
    "    .value_counts()\n",
    ")"
   ]
  },
  {
   "cell_type": "markdown",
   "metadata": {},
   "source": [
    "#### 4.25 Anti-convulsant agent"
   ]
  },
  {
   "cell_type": "code",
   "execution_count": 252,
   "metadata": {},
   "outputs": [
    {
     "data": {
      "text/plain": [
       "tiagabine    9\n",
       "Name: CommonDrugName, dtype: int64"
      ]
     },
     "execution_count": 252,
     "metadata": {},
     "output_type": "execute_result"
    }
   ],
   "source": [
    "(\n",
    "    med_admin_win\n",
    "    .query('DrugCategory == \"anti-convulsant agent\"')\n",
    "    .CommonDrugName\n",
    "    .value_counts()\n",
    ")"
   ]
  },
  {
   "cell_type": "markdown",
   "metadata": {},
   "source": [
    "#### 4.26 Route"
   ]
  },
  {
   "cell_type": "code",
   "execution_count": 253,
   "metadata": {},
   "outputs": [
    {
     "data": {
      "text/plain": [
       "Intravenous            0.512636\n",
       "Oral                   0.264854\n",
       "Subcutaneous           0.124593\n",
       "Intramuscular          0.030254\n",
       "Intrajejunal           0.019849\n",
       "Other/Miscellaneous    0.012046\n",
       "Transdermal            0.011566\n",
       "Topical                0.010335\n",
       "enteral                0.002263\n",
       "Intradermal            0.001878\n",
       "Name: Route, dtype: float64"
      ]
     },
     "execution_count": 253,
     "metadata": {},
     "output_type": "execute_result"
    }
   ],
   "source": [
    "(\n",
    "    med_admin_win['Route']\n",
    "    .value_counts(normalize = True)\n",
    "    .head(10)\n",
    ")"
   ]
  },
  {
   "cell_type": "code",
   "execution_count": 254,
   "metadata": {},
   "outputs": [
    {
     "data": {
      "text/plain": [
       "sodium/saline preparations    1633\n",
       "heparin (porcine)              623\n",
       "vitamin b12 preparations       555\n",
       "dexamethasone                  106\n",
       "epoetin alfa                    66\n",
       "morphine                        15\n",
       "azacitidine                     14\n",
       "hydromorphone                   13\n",
       "darbepoetin alfa                12\n",
       "ceftriaxone                     10\n",
       "Name: CommonDrugName, dtype: int64"
      ]
     },
     "execution_count": 254,
     "metadata": {},
     "output_type": "execute_result"
    }
   ],
   "source": [
    "(\n",
    "    med_admin_win\n",
    "    .query('Route == \"Intrajejunal\"')\n",
    "    .CommonDrugName\n",
    "    .value_counts()\n",
    "    .head(10)\n",
    ")"
   ]
  },
  {
   "cell_type": "markdown",
   "metadata": {},
   "source": [
    "#### 4.27 Condensing "
   ]
  },
  {
   "cell_type": "code",
   "execution_count": 255,
   "metadata": {},
   "outputs": [],
   "source": [
    "# Select columns with indicator variables and PatientID, then collapse rows by PatientID and sum columns. \n",
    "med_admin_wide = (\n",
    "    med_admin_win\n",
    "    [med_admin_win.columns[med_admin_win.columns.str.contains('diag|PatientID')]]\n",
    "    .groupby('PatientID').sum()\n",
    ")"
   ]
  },
  {
   "cell_type": "code",
   "execution_count": 256,
   "metadata": {},
   "outputs": [],
   "source": [
    "# Replace numbers greater than 1 with 1; 0 remains unchanged. \n",
    "med_admin_wide = (\n",
    "    med_admin_wide.mask(med_admin_wide > 1, 1)\n",
    "    .reset_index()\n",
    ")"
   ]
  },
  {
   "cell_type": "code",
   "execution_count": 257,
   "metadata": {},
   "outputs": [
    {
     "data": {
      "text/plain": [
       "(11193, 11193)"
      ]
     },
     "execution_count": 257,
     "metadata": {},
     "output_type": "execute_result"
    }
   ],
   "source": [
    "row_ID(med_admin_wide)"
   ]
  },
  {
   "cell_type": "code",
   "execution_count": 258,
   "metadata": {},
   "outputs": [],
   "source": [
    "# Append missing training IDs.\n",
    "med_admin_wide = (\n",
    "    med_admin_wide.append(\n",
    "        pd.Series(train_IDs)[~pd.Series(train_IDs).isin(med_admin_wide['PatientID'])].to_frame(name = 'PatientID'),\n",
    "        sort = False\n",
    "    )\n",
    "    .fillna(0)\n",
    ")"
   ]
  },
  {
   "cell_type": "code",
   "execution_count": 259,
   "metadata": {},
   "outputs": [
    {
     "data": {
      "text/plain": [
       "(54786, 54786)"
      ]
     },
     "execution_count": 259,
     "metadata": {},
     "output_type": "execute_result"
    }
   ],
   "source": [
    "row_ID(med_admin_wide)"
   ]
  },
  {
   "cell_type": "code",
   "execution_count": 260,
   "metadata": {},
   "outputs": [
    {
     "data": {
      "text/html": [
       "<div>\n",
       "<style scoped>\n",
       "    .dataframe tbody tr th:only-of-type {\n",
       "        vertical-align: middle;\n",
       "    }\n",
       "\n",
       "    .dataframe tbody tr th {\n",
       "        vertical-align: top;\n",
       "    }\n",
       "\n",
       "    .dataframe thead th {\n",
       "        text-align: right;\n",
       "    }\n",
       "</style>\n",
       "<table border=\"1\" class=\"dataframe\">\n",
       "  <thead>\n",
       "    <tr style=\"text-align: right;\">\n",
       "      <th></th>\n",
       "      <th>PatientID</th>\n",
       "      <th>steroid_diag</th>\n",
       "      <th>opioid_PO_diag</th>\n",
       "      <th>nonopioid_PO_diag</th>\n",
       "      <th>pain_IV_diag</th>\n",
       "      <th>ac_diag</th>\n",
       "      <th>antiinfective_IV_diag</th>\n",
       "      <th>antiinfective_diag</th>\n",
       "      <th>antihyperglycemic_diag</th>\n",
       "      <th>ppi_diag</th>\n",
       "      <th>antidepressant_diag</th>\n",
       "      <th>bta_diag</th>\n",
       "      <th>thyroid_diag</th>\n",
       "      <th>is_diag</th>\n",
       "    </tr>\n",
       "  </thead>\n",
       "  <tbody>\n",
       "    <tr>\n",
       "      <th>3489</th>\n",
       "      <td>F4F54600F42E8</td>\n",
       "      <td>0.0</td>\n",
       "      <td>0.0</td>\n",
       "      <td>0.0</td>\n",
       "      <td>0.0</td>\n",
       "      <td>0.0</td>\n",
       "      <td>0.0</td>\n",
       "      <td>0.0</td>\n",
       "      <td>0.0</td>\n",
       "      <td>0.0</td>\n",
       "      <td>0.0</td>\n",
       "      <td>0.0</td>\n",
       "      <td>0.0</td>\n",
       "      <td>0.0</td>\n",
       "    </tr>\n",
       "    <tr>\n",
       "      <th>43491</th>\n",
       "      <td>FFD148C5CF5B0</td>\n",
       "      <td>0.0</td>\n",
       "      <td>0.0</td>\n",
       "      <td>0.0</td>\n",
       "      <td>0.0</td>\n",
       "      <td>0.0</td>\n",
       "      <td>0.0</td>\n",
       "      <td>0.0</td>\n",
       "      <td>0.0</td>\n",
       "      <td>0.0</td>\n",
       "      <td>0.0</td>\n",
       "      <td>0.0</td>\n",
       "      <td>0.0</td>\n",
       "      <td>0.0</td>\n",
       "    </tr>\n",
       "    <tr>\n",
       "      <th>50170</th>\n",
       "      <td>F366519B35D0D</td>\n",
       "      <td>0.0</td>\n",
       "      <td>0.0</td>\n",
       "      <td>0.0</td>\n",
       "      <td>0.0</td>\n",
       "      <td>0.0</td>\n",
       "      <td>0.0</td>\n",
       "      <td>0.0</td>\n",
       "      <td>0.0</td>\n",
       "      <td>0.0</td>\n",
       "      <td>0.0</td>\n",
       "      <td>0.0</td>\n",
       "      <td>0.0</td>\n",
       "      <td>0.0</td>\n",
       "    </tr>\n",
       "    <tr>\n",
       "      <th>13789</th>\n",
       "      <td>FD591C820EAD4</td>\n",
       "      <td>0.0</td>\n",
       "      <td>0.0</td>\n",
       "      <td>0.0</td>\n",
       "      <td>0.0</td>\n",
       "      <td>0.0</td>\n",
       "      <td>0.0</td>\n",
       "      <td>0.0</td>\n",
       "      <td>0.0</td>\n",
       "      <td>0.0</td>\n",
       "      <td>0.0</td>\n",
       "      <td>0.0</td>\n",
       "      <td>0.0</td>\n",
       "      <td>0.0</td>\n",
       "    </tr>\n",
       "    <tr>\n",
       "      <th>33888</th>\n",
       "      <td>F0761A96BDCD3</td>\n",
       "      <td>0.0</td>\n",
       "      <td>0.0</td>\n",
       "      <td>0.0</td>\n",
       "      <td>0.0</td>\n",
       "      <td>0.0</td>\n",
       "      <td>0.0</td>\n",
       "      <td>0.0</td>\n",
       "      <td>0.0</td>\n",
       "      <td>0.0</td>\n",
       "      <td>0.0</td>\n",
       "      <td>0.0</td>\n",
       "      <td>0.0</td>\n",
       "      <td>0.0</td>\n",
       "    </tr>\n",
       "  </tbody>\n",
       "</table>\n",
       "</div>"
      ],
      "text/plain": [
       "           PatientID  steroid_diag  opioid_PO_diag  nonopioid_PO_diag  \\\n",
       "3489   F4F54600F42E8           0.0             0.0                0.0   \n",
       "43491  FFD148C5CF5B0           0.0             0.0                0.0   \n",
       "50170  F366519B35D0D           0.0             0.0                0.0   \n",
       "13789  FD591C820EAD4           0.0             0.0                0.0   \n",
       "33888  F0761A96BDCD3           0.0             0.0                0.0   \n",
       "\n",
       "       pain_IV_diag  ac_diag  antiinfective_IV_diag  antiinfective_diag  \\\n",
       "3489            0.0      0.0                    0.0                 0.0   \n",
       "43491           0.0      0.0                    0.0                 0.0   \n",
       "50170           0.0      0.0                    0.0                 0.0   \n",
       "13789           0.0      0.0                    0.0                 0.0   \n",
       "33888           0.0      0.0                    0.0                 0.0   \n",
       "\n",
       "       antihyperglycemic_diag  ppi_diag  antidepressant_diag  bta_diag  \\\n",
       "3489                      0.0       0.0                  0.0       0.0   \n",
       "43491                     0.0       0.0                  0.0       0.0   \n",
       "50170                     0.0       0.0                  0.0       0.0   \n",
       "13789                     0.0       0.0                  0.0       0.0   \n",
       "33888                     0.0       0.0                  0.0       0.0   \n",
       "\n",
       "       thyroid_diag  is_diag  \n",
       "3489            0.0      0.0  \n",
       "43491           0.0      0.0  \n",
       "50170           0.0      0.0  \n",
       "13789           0.0      0.0  \n",
       "33888           0.0      0.0  "
      ]
     },
     "execution_count": 260,
     "metadata": {},
     "output_type": "execute_result"
    }
   ],
   "source": [
    "med_admin_wide.sample(5)"
   ]
  },
  {
   "cell_type": "code",
   "execution_count": 261,
   "metadata": {},
   "outputs": [
    {
     "data": {
      "text/plain": [
       "steroid_diag              0.051290\n",
       "bta_diag                  0.022999\n",
       "antiinfective_IV_diag     0.020991\n",
       "pain_IV_diag              0.020224\n",
       "opioid_PO_diag            0.018581\n",
       "nonopioid_PO_diag         0.014456\n",
       "ppi_diag                  0.011335\n",
       "antiinfective_diag        0.010532\n",
       "antihyperglycemic_diag    0.008725\n",
       "antidepressant_diag       0.008050\n",
       "ac_diag                   0.007776\n",
       "thyroid_diag              0.003377\n",
       "is_diag                   0.000584\n",
       "dtype: float64"
      ]
     },
     "execution_count": 261,
     "metadata": {},
     "output_type": "execute_result"
    }
   ],
   "source": [
    "# Percent of patients receiving relevant medications at time of advanced diagnosis. \n",
    "(med_admin_wide.iloc[:, 1:].sum()/len(med_admin_wide)).sort_values(ascending = False)"
   ]
  },
  {
   "cell_type": "code",
   "execution_count": 262,
   "metadata": {},
   "outputs": [
    {
     "data": {
      "text/plain": [
       "0.09000474573796226"
      ]
     },
     "execution_count": 262,
     "metadata": {},
     "output_type": "execute_result"
    }
   ],
   "source": [
    "# Percent of patients receiving at least one of the clinically relevant medications at time of advanced diagnosis.\n",
    "med_admin_wide[med_admin_wide.eq(1).any(1)].shape[0]/len(med_admin_wide)"
   ]
  },
  {
   "cell_type": "code",
   "execution_count": 263,
   "metadata": {},
   "outputs": [
    {
     "name": "stdout",
     "output_type": "stream",
     "text": [
      "Variable         Type         Data/Info\n",
      "---------------------------------------\n",
      "demographics     DataFrame               PatientID Prac<...>n[54786 rows x 7 columns]\n",
      "enhanced_adv     DataFrame               PatientID diag<...>n[54786 rows x 9 columns]\n",
      "line_therapy     DataFrame               PatientID     <...>n[95320 rows x 9 columns]\n",
      "line_therapy_1   DataFrame               PatientID     <...>n[49820 rows x 9 columns]\n",
      "med_admin        DataFrame                 PatientID   <...>696916 rows x 14 columns]\n",
      "med_admin_wide   DataFrame               PatientID  ste<...>[54786 rows x 14 columns]\n",
      "med_admin_win    DataFrame                 PatientID   <...>162243 rows x 27 columns]\n",
      "mortality        DataFrame               PatientID  dea<...>n[54786 rows x 3 columns]\n",
      "telemedicine     DataFrame               PatientID   Vi<...>n[16712 rows x 2 columns]\n",
      "visit            DataFrame                 PatientID   <...>2446952 rows x 6 columns]\n"
     ]
    }
   ],
   "source": [
    "%whos DataFrame"
   ]
  },
  {
   "cell_type": "code",
   "execution_count": 264,
   "metadata": {},
   "outputs": [],
   "source": [
    "# Keep med_admin_wide.\n",
    "del line_therapy\n",
    "del line_therapy_1\n",
    "del med_admin\n",
    "del med_admin_win"
   ]
  },
  {
   "cell_type": "markdown",
   "metadata": {},
   "source": [
    "### 5. Biomarkers "
   ]
  },
  {
   "cell_type": "code",
   "execution_count": 265,
   "metadata": {},
   "outputs": [],
   "source": [
    "biomarkers = pd.read_csv('Enhanced_AdvNSCLCBiomarkers.csv')"
   ]
  },
  {
   "cell_type": "code",
   "execution_count": 266,
   "metadata": {},
   "outputs": [
    {
     "data": {
      "text/html": [
       "<div>\n",
       "<style scoped>\n",
       "    .dataframe tbody tr th:only-of-type {\n",
       "        vertical-align: middle;\n",
       "    }\n",
       "\n",
       "    .dataframe tbody tr th {\n",
       "        vertical-align: top;\n",
       "    }\n",
       "\n",
       "    .dataframe thead th {\n",
       "        text-align: right;\n",
       "    }\n",
       "</style>\n",
       "<table border=\"1\" class=\"dataframe\">\n",
       "  <thead>\n",
       "    <tr style=\"text-align: right;\">\n",
       "      <th></th>\n",
       "      <th>PatientID</th>\n",
       "      <th>BiomarkerName</th>\n",
       "      <th>CellType</th>\n",
       "      <th>SpecimenCollectedDate</th>\n",
       "      <th>SpecimenReceivedDate</th>\n",
       "      <th>ResultDate</th>\n",
       "      <th>BiomarkerStatus</th>\n",
       "      <th>ExpressionLevel</th>\n",
       "      <th>BiomarkerDetail</th>\n",
       "      <th>SampleType</th>\n",
       "      <th>TissueCollectionSite</th>\n",
       "      <th>TestType</th>\n",
       "      <th>LabName</th>\n",
       "      <th>Assay</th>\n",
       "      <th>IHCClone</th>\n",
       "      <th>StainingIntensity</th>\n",
       "      <th>PercentStaining</th>\n",
       "      <th>CombinedPositiveScore</th>\n",
       "    </tr>\n",
       "  </thead>\n",
       "  <tbody>\n",
       "    <tr>\n",
       "      <th>0</th>\n",
       "      <td>FE3742B2CEB28</td>\n",
       "      <td>BRAF</td>\n",
       "      <td>NaN</td>\n",
       "      <td>NaN</td>\n",
       "      <td>NaN</td>\n",
       "      <td>2020-07-02</td>\n",
       "      <td>Mutation positive</td>\n",
       "      <td>NaN</td>\n",
       "      <td>V600E BRAF mutation</td>\n",
       "      <td>Unknown</td>\n",
       "      <td>NaN</td>\n",
       "      <td>Unknown</td>\n",
       "      <td>Other</td>\n",
       "      <td>NaN</td>\n",
       "      <td>NaN</td>\n",
       "      <td>NaN</td>\n",
       "      <td>NaN</td>\n",
       "      <td>NaN</td>\n",
       "    </tr>\n",
       "    <tr>\n",
       "      <th>1</th>\n",
       "      <td>F14C7F1E28E8C</td>\n",
       "      <td>ALK</td>\n",
       "      <td>NaN</td>\n",
       "      <td>2015-08-04</td>\n",
       "      <td>2015-08-04</td>\n",
       "      <td>2015-08-14</td>\n",
       "      <td>Rearrangement present</td>\n",
       "      <td>NaN</td>\n",
       "      <td>NaN</td>\n",
       "      <td>Tissue</td>\n",
       "      <td>Metastatic site</td>\n",
       "      <td>NGS</td>\n",
       "      <td>ARUP</td>\n",
       "      <td>NaN</td>\n",
       "      <td>NaN</td>\n",
       "      <td>NaN</td>\n",
       "      <td>NaN</td>\n",
       "      <td>NaN</td>\n",
       "    </tr>\n",
       "    <tr>\n",
       "      <th>2</th>\n",
       "      <td>F14C7F1E28E8C</td>\n",
       "      <td>BRAF</td>\n",
       "      <td>NaN</td>\n",
       "      <td>2015-07-29</td>\n",
       "      <td>2015-08-04</td>\n",
       "      <td>2015-08-14</td>\n",
       "      <td>Mutation negative</td>\n",
       "      <td>NaN</td>\n",
       "      <td>NaN</td>\n",
       "      <td>Tissue</td>\n",
       "      <td>Metastatic site</td>\n",
       "      <td>NGS</td>\n",
       "      <td>ARUP</td>\n",
       "      <td>NaN</td>\n",
       "      <td>NaN</td>\n",
       "      <td>NaN</td>\n",
       "      <td>NaN</td>\n",
       "      <td>NaN</td>\n",
       "    </tr>\n",
       "    <tr>\n",
       "      <th>3</th>\n",
       "      <td>F14C7F1E28E8C</td>\n",
       "      <td>EGFR</td>\n",
       "      <td>NaN</td>\n",
       "      <td>2015-08-04</td>\n",
       "      <td>2015-08-04</td>\n",
       "      <td>2015-08-14</td>\n",
       "      <td>Mutation negative</td>\n",
       "      <td>NaN</td>\n",
       "      <td>NaN</td>\n",
       "      <td>Tissue</td>\n",
       "      <td>Metastatic site</td>\n",
       "      <td>NGS</td>\n",
       "      <td>ARUP</td>\n",
       "      <td>NaN</td>\n",
       "      <td>NaN</td>\n",
       "      <td>NaN</td>\n",
       "      <td>NaN</td>\n",
       "      <td>NaN</td>\n",
       "    </tr>\n",
       "    <tr>\n",
       "      <th>4</th>\n",
       "      <td>F14C7F1E28E8C</td>\n",
       "      <td>KRAS</td>\n",
       "      <td>NaN</td>\n",
       "      <td>2015-08-04</td>\n",
       "      <td>2015-08-04</td>\n",
       "      <td>2015-08-14</td>\n",
       "      <td>Mutation negative</td>\n",
       "      <td>NaN</td>\n",
       "      <td>NaN</td>\n",
       "      <td>Tissue</td>\n",
       "      <td>Metastatic site</td>\n",
       "      <td>NGS</td>\n",
       "      <td>ARUP</td>\n",
       "      <td>NaN</td>\n",
       "      <td>NaN</td>\n",
       "      <td>NaN</td>\n",
       "      <td>NaN</td>\n",
       "      <td>NaN</td>\n",
       "    </tr>\n",
       "  </tbody>\n",
       "</table>\n",
       "</div>"
      ],
      "text/plain": [
       "       PatientID BiomarkerName CellType SpecimenCollectedDate  \\\n",
       "0  FE3742B2CEB28          BRAF      NaN                   NaN   \n",
       "1  F14C7F1E28E8C           ALK      NaN            2015-08-04   \n",
       "2  F14C7F1E28E8C          BRAF      NaN            2015-07-29   \n",
       "3  F14C7F1E28E8C          EGFR      NaN            2015-08-04   \n",
       "4  F14C7F1E28E8C          KRAS      NaN            2015-08-04   \n",
       "\n",
       "  SpecimenReceivedDate  ResultDate        BiomarkerStatus ExpressionLevel  \\\n",
       "0                  NaN  2020-07-02      Mutation positive             NaN   \n",
       "1           2015-08-04  2015-08-14  Rearrangement present             NaN   \n",
       "2           2015-08-04  2015-08-14      Mutation negative             NaN   \n",
       "3           2015-08-04  2015-08-14      Mutation negative             NaN   \n",
       "4           2015-08-04  2015-08-14      Mutation negative             NaN   \n",
       "\n",
       "       BiomarkerDetail SampleType TissueCollectionSite TestType LabName Assay  \\\n",
       "0  V600E BRAF mutation    Unknown                  NaN  Unknown   Other   NaN   \n",
       "1                  NaN     Tissue      Metastatic site      NGS    ARUP   NaN   \n",
       "2                  NaN     Tissue      Metastatic site      NGS    ARUP   NaN   \n",
       "3                  NaN     Tissue      Metastatic site      NGS    ARUP   NaN   \n",
       "4                  NaN     Tissue      Metastatic site      NGS    ARUP   NaN   \n",
       "\n",
       "  IHCClone StainingIntensity PercentStaining CombinedPositiveScore  \n",
       "0      NaN               NaN             NaN                   NaN  \n",
       "1      NaN               NaN             NaN                   NaN  \n",
       "2      NaN               NaN             NaN                   NaN  \n",
       "3      NaN               NaN             NaN                   NaN  \n",
       "4      NaN               NaN             NaN                   NaN  "
      ]
     },
     "execution_count": 266,
     "metadata": {},
     "output_type": "execute_result"
    }
   ],
   "source": [
    "biomarkers.head()"
   ]
  },
  {
   "cell_type": "code",
   "execution_count": 267,
   "metadata": {},
   "outputs": [
    {
     "name": "stdout",
     "output_type": "stream",
     "text": [
      "<class 'pandas.core.frame.DataFrame'>\n",
      "RangeIndex: 255246 entries, 0 to 255245\n",
      "Data columns (total 18 columns):\n",
      " #   Column                 Non-Null Count   Dtype \n",
      "---  ------                 --------------   ----- \n",
      " 0   PatientID              255246 non-null  object\n",
      " 1   BiomarkerName          255246 non-null  object\n",
      " 2   CellType               35309 non-null   object\n",
      " 3   SpecimenCollectedDate  246757 non-null  object\n",
      " 4   SpecimenReceivedDate   215545 non-null  object\n",
      " 5   ResultDate             241712 non-null  object\n",
      " 6   BiomarkerStatus        255246 non-null  object\n",
      " 7   ExpressionLevel        7965 non-null    object\n",
      " 8   BiomarkerDetail        10959 non-null   object\n",
      " 9   SampleType             255246 non-null  object\n",
      " 10  TissueCollectionSite   200697 non-null  object\n",
      " 11  TestType               255246 non-null  object\n",
      " 12  LabName                255175 non-null  object\n",
      " 13  Assay                  35309 non-null   object\n",
      " 14  IHCClone               35309 non-null   object\n",
      " 15  StainingIntensity      9374 non-null    object\n",
      " 16  PercentStaining        29009 non-null   object\n",
      " 17  CombinedPositiveScore  146 non-null     object\n",
      "dtypes: object(18)\n",
      "memory usage: 35.1+ MB\n"
     ]
    }
   ],
   "source": [
    "biomarkers.info()"
   ]
  },
  {
   "cell_type": "code",
   "execution_count": 268,
   "metadata": {},
   "outputs": [
    {
     "data": {
      "text/plain": [
       "(255246, 50357)"
      ]
     },
     "execution_count": 268,
     "metadata": {},
     "output_type": "execute_result"
    }
   ],
   "source": [
    "row_ID(biomarkers)"
   ]
  },
  {
   "cell_type": "code",
   "execution_count": 269,
   "metadata": {},
   "outputs": [],
   "source": [
    "biomarkers = biomarkers[biomarkers['PatientID'].isin(train_IDs)]"
   ]
  },
  {
   "cell_type": "code",
   "execution_count": 270,
   "metadata": {},
   "outputs": [
    {
     "data": {
      "text/plain": [
       "(203645, 40197)"
      ]
     },
     "execution_count": 270,
     "metadata": {},
     "output_type": "execute_result"
    }
   ],
   "source": [
    "row_ID(biomarkers)"
   ]
  },
  {
   "cell_type": "code",
   "execution_count": 271,
   "metadata": {},
   "outputs": [
    {
     "data": {
      "text/plain": [
       "BiomarkerName  BiomarkerStatus                  \n",
       "ALK            Rearrangement not present            0.877028\n",
       "               Unsuccessful/indeterminate test      0.070472\n",
       "               Rearrangement present                0.024736\n",
       "               Results pending                      0.013948\n",
       "               Unknown                              0.013816\n",
       "BRAF           Mutation negative                    0.897710\n",
       "               Mutation positive                    0.048047\n",
       "               Unsuccessful/indeterminate test      0.042411\n",
       "               Results pending                      0.006755\n",
       "               Unknown                              0.005077\n",
       "EGFR           Mutation negative                    0.768132\n",
       "               Mutation positive                    0.156079\n",
       "               Unsuccessful/indeterminate test      0.054091\n",
       "               Results pending                      0.011272\n",
       "               Unknown                              0.010426\n",
       "KRAS           Mutation negative                    0.697684\n",
       "               Mutation positive                    0.249543\n",
       "               Unsuccessful/indeterminate test      0.040163\n",
       "               Unknown                              0.006694\n",
       "               Results pending                      0.005916\n",
       "PDL1           No interpretation given in report    0.467266\n",
       "               PD-L1 negative/not detected          0.301314\n",
       "               PD-L1 positive                       0.142230\n",
       "               Unsuccessful/indeterminate test      0.053146\n",
       "               Unknown                              0.019297\n",
       "               Results pending                      0.016393\n",
       "               PD-L1 equivocal                      0.000354\n",
       "ROS1           Rearrangement not present            0.897050\n",
       "               Unsuccessful/indeterminate test      0.069934\n",
       "               Results pending                      0.013219\n",
       "               Unknown                              0.011575\n",
       "               Rearrangement present                0.008222\n",
       "Name: BiomarkerStatus, dtype: float64"
      ]
     },
     "execution_count": 271,
     "metadata": {},
     "output_type": "execute_result"
    }
   ],
   "source": [
    "biomarkers.groupby('BiomarkerName')['BiomarkerStatus'].value_counts(normalize = True, dropna = False)"
   ]
  },
  {
   "cell_type": "code",
   "execution_count": 272,
   "metadata": {},
   "outputs": [
    {
     "data": {
      "text/plain": [
       "0%           0.222356\n",
       "NaN          0.176079\n",
       "< 1%         0.091492\n",
       "90% - 99%    0.066317\n",
       "10% - 19%    0.054173\n",
       "5% - 9%      0.053571\n",
       "1%           0.047445\n",
       "20% - 29%    0.040824\n",
       "80% - 89%    0.038452\n",
       "50% - 59%    0.037284\n",
       "70% - 79%    0.033920\n",
       "2% - 4%      0.032893\n",
       "100%         0.029813\n",
       "60% - 69%    0.029317\n",
       "30% - 39%    0.027688\n",
       "40% - 49%    0.018376\n",
       "Name: PercentStaining, dtype: float64"
      ]
     },
     "execution_count": 272,
     "metadata": {},
     "output_type": "execute_result"
    }
   ],
   "source": [
    "biomarkers[biomarkers['BiomarkerName'] == 'PDL1'].PercentStaining.value_counts(normalize = True, dropna = False)"
   ]
  },
  {
   "cell_type": "markdown",
   "metadata": {},
   "source": [
    "**The Biomarkers dataframe is in a long format. A single-row-per-patient dataframe will be built where each column represents biomarker status. Index date will be date of advanced diagnosis and elgibility windown is negative infinity to +30 days of advanced diagnosis.** "
   ]
  },
  {
   "cell_type": "markdown",
   "metadata": {},
   "source": [
    "#### 5.1 Assigning patient-level biomarker status "
   ]
  },
  {
   "cell_type": "code",
   "execution_count": 273,
   "metadata": {},
   "outputs": [
    {
     "data": {
      "text/plain": [
       "0.03322939428908149"
      ]
     },
     "execution_count": 273,
     "metadata": {},
     "output_type": "execute_result"
    }
   ],
   "source": [
    "biomarkers['SpecimenCollectedDate'].isna().sum()/biomarkers.shape[0]"
   ]
  },
  {
   "cell_type": "code",
   "execution_count": 274,
   "metadata": {},
   "outputs": [
    {
     "data": {
      "text/plain": [
       "0.05263571411033907"
      ]
     },
     "execution_count": 274,
     "metadata": {},
     "output_type": "execute_result"
    }
   ],
   "source": [
    "biomarkers['ResultDate'].isna().sum()/biomarkers.shape[0]"
   ]
  },
  {
   "cell_type": "code",
   "execution_count": 275,
   "metadata": {},
   "outputs": [
    {
     "data": {
      "text/plain": [
       "0.154607282280439"
      ]
     },
     "execution_count": 275,
     "metadata": {},
     "output_type": "execute_result"
    }
   ],
   "source": [
    "biomarkers['SpecimenReceivedDate'].isna().sum()/biomarkers.shape[0]"
   ]
  },
  {
   "cell_type": "markdown",
   "metadata": {},
   "source": [
    "**Result date is the date the biomarker result was first reported, and therefore represents the date on which the clinician would be expected to have information about the patient’s biomarker status to inform the course of treatment. Flatiron recommends using result date as the relevant biomarker test date and using specimen received date as the proxy when result date is not available.** "
   ]
  },
  {
   "cell_type": "code",
   "execution_count": 276,
   "metadata": {},
   "outputs": [],
   "source": [
    "biomarkers.loc[:, 'ResultDate'] = pd.to_datetime(biomarkers['ResultDate'])"
   ]
  },
  {
   "cell_type": "code",
   "execution_count": 277,
   "metadata": {},
   "outputs": [],
   "source": [
    "biomarkers.loc[:, 'SpecimenReceivedDate'] = pd.to_datetime(biomarkers['SpecimenReceivedDate'])"
   ]
  },
  {
   "cell_type": "code",
   "execution_count": 278,
   "metadata": {},
   "outputs": [
    {
     "data": {
      "text/plain": [
       "0.17669558727493237"
      ]
     },
     "execution_count": 278,
     "metadata": {},
     "output_type": "execute_result"
    }
   ],
   "source": [
    "# Percenage of missing 'ResultDate' that can be replaced by 'SpecimenReceivedDate'. \n",
    "(\n",
    "    len(biomarkers[(biomarkers['ResultDate'].isna()) & (biomarkers['SpecimenReceivedDate'].notna())])\n",
    "    /len(biomarkers[biomarkers['ResultDate'].isna()])\n",
    ")"
   ]
  },
  {
   "cell_type": "code",
   "execution_count": 279,
   "metadata": {},
   "outputs": [],
   "source": [
    "# Replace missing result date with specimen received date. \n",
    "biomarkers.loc[:, 'result_date'] = (\n",
    "    np.where(biomarkers['ResultDate'].isna(), biomarkers['SpecimenReceivedDate'], biomarkers['ResultDate'])\n",
    ")"
   ]
  },
  {
   "cell_type": "code",
   "execution_count": 280,
   "metadata": {},
   "outputs": [],
   "source": [
    "biomarkers = pd.merge(biomarkers, enhanced_adv[['PatientID', 'adv_date']], on = 'PatientID', how = 'left')"
   ]
  },
  {
   "cell_type": "code",
   "execution_count": 281,
   "metadata": {},
   "outputs": [],
   "source": [
    "# Create new variable 'date_diff' that marks difference in days between collected specimen advanced diagnosis. \n",
    "biomarkers.loc[:, 'bio_date_diff'] = (biomarkers['result_date'] - biomarkers['adv_date']).dt.days"
   ]
  },
  {
   "cell_type": "code",
   "execution_count": 282,
   "metadata": {},
   "outputs": [],
   "source": [
    "biomarker_win = biomarkers[biomarkers['bio_date_diff'] <= 30]"
   ]
  },
  {
   "cell_type": "code",
   "execution_count": 283,
   "metadata": {},
   "outputs": [
    {
     "data": {
      "text/plain": [
       "(101519, 27594)"
      ]
     },
     "execution_count": 283,
     "metadata": {},
     "output_type": "execute_result"
    }
   ],
   "source": [
    "row_ID(biomarker_win)"
   ]
  },
  {
   "cell_type": "markdown",
   "metadata": {},
   "source": [
    "**Patients with at least one confirmed positive test result for the biomarker of interest within the eligibility window will be considered “ever-positive”. This will include patients who may have confirmed negative results before and/or after a positive result within the eligibility window.** \n",
    "\n",
    "**Patients with at least one confirmed negative test result for the biomarker of interest, and no confirmed positive test results for the same biomarker within the eligibility window may be considered “only-negative”.** "
   ]
  },
  {
   "cell_type": "code",
   "execution_count": 284,
   "metadata": {},
   "outputs": [
    {
     "data": {
      "text/plain": [
       "Mutation negative                    37455\n",
       "Rearrangement not present            34115\n",
       "No interpretation given in report     8735\n",
       "Mutation positive                     7116\n",
       "Unsuccessful/indeterminate test       5732\n",
       "PD-L1 negative/not detected           4595\n",
       "PD-L1 positive                        2081\n",
       "Rearrangement present                  739\n",
       "Unknown                                491\n",
       "Results pending                        455\n",
       "PD-L1 equivocal                          5\n",
       "Name: BiomarkerStatus, dtype: int64"
      ]
     },
     "execution_count": 284,
     "metadata": {},
     "output_type": "execute_result"
    }
   ],
   "source": [
    "biomarker_win.BiomarkerStatus.value_counts(dropna = False)"
   ]
  },
  {
   "cell_type": "code",
   "execution_count": 285,
   "metadata": {},
   "outputs": [
    {
     "name": "stderr",
     "output_type": "stream",
     "text": [
      "/Applications/anaconda3/lib/python3.7/site-packages/pandas/core/indexing.py:1667: SettingWithCopyWarning: \n",
      "A value is trying to be set on a copy of a slice from a DataFrame.\n",
      "Try using .loc[row_indexer,col_indexer] = value instead\n",
      "\n",
      "See the caveats in the documentation: https://pandas.pydata.org/pandas-docs/stable/user_guide/indexing.html#returning-a-view-versus-a-copy\n",
      "  self.obj[key] = value\n"
     ]
    }
   ],
   "source": [
    "# Create indicator variable where where 2 if positive, 1 if negative, and 0 if unknown or missing. \n",
    "conditions = [\n",
    "    (biomarker_win['BiomarkerStatus'] == 'Rearrangement present') | (biomarker_win['BiomarkerStatus'] == 'Mutation positive') | (biomarker_win['BiomarkerStatus'] == 'PD-L1 positive'),\n",
    "    (biomarker_win['BiomarkerStatus'] == 'Rearrangement not present') | (biomarker_win['BiomarkerStatus'] == 'Mutation negative') | (biomarker_win['BiomarkerStatus'] == 'PD-L1 negative/not detected')\n",
    "]\n",
    "\n",
    "choices = [2,1]\n",
    "biomarker_win.loc[:, 'bio_status'] = np.select(conditions, choices, default = 0)"
   ]
  },
  {
   "cell_type": "code",
   "execution_count": 286,
   "metadata": {},
   "outputs": [],
   "source": [
    "# Excluding PDL1, select highest number biomarker status among duplicates, merge with nonduplciates, then pivot. \n",
    "biomarker_notpdl1 = (\n",
    "    biomarker_win.query('BiomarkerName != \"PDL1\"')\n",
    "    .sort_values(by = ['PatientID', 'BiomarkerName', 'bio_status'], ascending = False)\n",
    "    .drop_duplicates(subset = ['PatientID', 'BiomarkerName'], keep = 'first')\n",
    "    .pivot(index = 'PatientID', columns = 'BiomarkerName', values = 'bio_status')\n",
    "    .reset_index()\n",
    ")\n",
    "biomarker_notpdl1.columns.name = None"
   ]
  },
  {
   "cell_type": "code",
   "execution_count": 287,
   "metadata": {},
   "outputs": [
    {
     "data": {
      "text/plain": [
       "(24660, 24660)"
      ]
     },
     "execution_count": 287,
     "metadata": {},
     "output_type": "execute_result"
    }
   ],
   "source": [
    "row_ID(biomarker_notpdl1)"
   ]
  },
  {
   "cell_type": "code",
   "execution_count": 288,
   "metadata": {},
   "outputs": [
    {
     "data": {
      "text/html": [
       "<div>\n",
       "<style scoped>\n",
       "    .dataframe tbody tr th:only-of-type {\n",
       "        vertical-align: middle;\n",
       "    }\n",
       "\n",
       "    .dataframe tbody tr th {\n",
       "        vertical-align: top;\n",
       "    }\n",
       "\n",
       "    .dataframe thead th {\n",
       "        text-align: right;\n",
       "    }\n",
       "</style>\n",
       "<table border=\"1\" class=\"dataframe\">\n",
       "  <thead>\n",
       "    <tr style=\"text-align: right;\">\n",
       "      <th></th>\n",
       "      <th>PatientID</th>\n",
       "      <th>ALK</th>\n",
       "      <th>BRAF</th>\n",
       "      <th>EGFR</th>\n",
       "      <th>KRAS</th>\n",
       "      <th>ROS1</th>\n",
       "    </tr>\n",
       "  </thead>\n",
       "  <tbody>\n",
       "    <tr>\n",
       "      <th>4371</th>\n",
       "      <td>F2D8DD8CFFE85</td>\n",
       "      <td>1.0</td>\n",
       "      <td>NaN</td>\n",
       "      <td>1.0</td>\n",
       "      <td>NaN</td>\n",
       "      <td>NaN</td>\n",
       "    </tr>\n",
       "    <tr>\n",
       "      <th>9156</th>\n",
       "      <td>F5F64CAB1B6B2</td>\n",
       "      <td>1.0</td>\n",
       "      <td>NaN</td>\n",
       "      <td>1.0</td>\n",
       "      <td>2.0</td>\n",
       "      <td>NaN</td>\n",
       "    </tr>\n",
       "    <tr>\n",
       "      <th>254</th>\n",
       "      <td>F029A4AC4FA0F</td>\n",
       "      <td>1.0</td>\n",
       "      <td>NaN</td>\n",
       "      <td>1.0</td>\n",
       "      <td>1.0</td>\n",
       "      <td>NaN</td>\n",
       "    </tr>\n",
       "    <tr>\n",
       "      <th>13372</th>\n",
       "      <td>F8B81BBE89F69</td>\n",
       "      <td>1.0</td>\n",
       "      <td>2.0</td>\n",
       "      <td>2.0</td>\n",
       "      <td>1.0</td>\n",
       "      <td>1.0</td>\n",
       "    </tr>\n",
       "    <tr>\n",
       "      <th>12281</th>\n",
       "      <td>F8081572C4FB7</td>\n",
       "      <td>0.0</td>\n",
       "      <td>NaN</td>\n",
       "      <td>0.0</td>\n",
       "      <td>NaN</td>\n",
       "      <td>0.0</td>\n",
       "    </tr>\n",
       "  </tbody>\n",
       "</table>\n",
       "</div>"
      ],
      "text/plain": [
       "           PatientID  ALK  BRAF  EGFR  KRAS  ROS1\n",
       "4371   F2D8DD8CFFE85  1.0   NaN   1.0   NaN   NaN\n",
       "9156   F5F64CAB1B6B2  1.0   NaN   1.0   2.0   NaN\n",
       "254    F029A4AC4FA0F  1.0   NaN   1.0   1.0   NaN\n",
       "13372  F8B81BBE89F69  1.0   2.0   2.0   1.0   1.0\n",
       "12281  F8081572C4FB7  0.0   NaN   0.0   NaN   0.0"
      ]
     },
     "execution_count": 288,
     "metadata": {},
     "output_type": "execute_result"
    }
   ],
   "source": [
    "biomarker_notpdl1.sample(5)"
   ]
  },
  {
   "cell_type": "code",
   "execution_count": 289,
   "metadata": {},
   "outputs": [],
   "source": [
    "# Append misisng patient IDs.\n",
    "biomarker_notpdl1_wide = (\n",
    "    biomarker_notpdl1\n",
    "    .append(\n",
    "        pd.Series(train_IDs)[~pd.Series(train_IDs).isin(biomarker_notpdl1['PatientID'])].to_frame(name = 'PatientID'),\n",
    "        sort = False)\n",
    ")"
   ]
  },
  {
   "cell_type": "code",
   "execution_count": 290,
   "metadata": {},
   "outputs": [
    {
     "data": {
      "text/plain": [
       "(54786, 54786)"
      ]
     },
     "execution_count": 290,
     "metadata": {},
     "output_type": "execute_result"
    }
   ],
   "source": [
    "row_ID(biomarker_notpdl1_wide)"
   ]
  },
  {
   "cell_type": "code",
   "execution_count": 291,
   "metadata": {},
   "outputs": [],
   "source": [
    "biomarker_notpdl1_wide['ALK'] = (\n",
    "    biomarker_notpdl1_wide['ALK'].replace({\n",
    "        2: 'positive',\n",
    "        1: 'negative',\n",
    "        0: 'unknown',\n",
    "        np.nan: 'unknown'})\n",
    ")"
   ]
  },
  {
   "cell_type": "code",
   "execution_count": 292,
   "metadata": {},
   "outputs": [],
   "source": [
    "biomarker_notpdl1_wide['BRAF'] = (\n",
    "    biomarker_notpdl1_wide['BRAF'].replace({\n",
    "        2: 'positive',\n",
    "        1: 'negative',\n",
    "        0: 'unknown',\n",
    "        np.nan: 'unknown'})\n",
    ")"
   ]
  },
  {
   "cell_type": "code",
   "execution_count": 293,
   "metadata": {},
   "outputs": [],
   "source": [
    "biomarker_notpdl1_wide['EGFR'] = (\n",
    "    biomarker_notpdl1_wide['EGFR'].replace({\n",
    "        2: 'positive',\n",
    "        1: 'negative',\n",
    "        0: 'unknown',\n",
    "        np.nan: 'unknown'})\n",
    ")"
   ]
  },
  {
   "cell_type": "code",
   "execution_count": 294,
   "metadata": {},
   "outputs": [],
   "source": [
    "biomarker_notpdl1_wide['KRAS'] = (\n",
    "    biomarker_notpdl1_wide['KRAS'].replace({\n",
    "        2: 'positive',\n",
    "        1: 'negative',\n",
    "        0: 'unknown',\n",
    "        np.nan: 'unknown'})\n",
    ")"
   ]
  },
  {
   "cell_type": "code",
   "execution_count": 295,
   "metadata": {},
   "outputs": [],
   "source": [
    "biomarker_notpdl1_wide['ROS1'] = (\n",
    "    biomarker_notpdl1_wide['ROS1'].replace({\n",
    "        2: 'positive',\n",
    "        1: 'negative',\n",
    "        0: 'unknown',\n",
    "        np.nan: 'unknown'})\n",
    ")"
   ]
  },
  {
   "cell_type": "code",
   "execution_count": 296,
   "metadata": {},
   "outputs": [
    {
     "data": {
      "text/html": [
       "<div>\n",
       "<style scoped>\n",
       "    .dataframe tbody tr th:only-of-type {\n",
       "        vertical-align: middle;\n",
       "    }\n",
       "\n",
       "    .dataframe tbody tr th {\n",
       "        vertical-align: top;\n",
       "    }\n",
       "\n",
       "    .dataframe thead th {\n",
       "        text-align: right;\n",
       "    }\n",
       "</style>\n",
       "<table border=\"1\" class=\"dataframe\">\n",
       "  <thead>\n",
       "    <tr style=\"text-align: right;\">\n",
       "      <th></th>\n",
       "      <th>PatientID</th>\n",
       "      <th>ALK</th>\n",
       "      <th>BRAF</th>\n",
       "      <th>EGFR</th>\n",
       "      <th>KRAS</th>\n",
       "      <th>ROS1</th>\n",
       "    </tr>\n",
       "  </thead>\n",
       "  <tbody>\n",
       "    <tr>\n",
       "      <th>6253</th>\n",
       "      <td>F4123020E1CD8</td>\n",
       "      <td>unknown</td>\n",
       "      <td>unknown</td>\n",
       "      <td>negative</td>\n",
       "      <td>unknown</td>\n",
       "      <td>unknown</td>\n",
       "    </tr>\n",
       "    <tr>\n",
       "      <th>53263</th>\n",
       "      <td>FF855530DBA97</td>\n",
       "      <td>unknown</td>\n",
       "      <td>unknown</td>\n",
       "      <td>unknown</td>\n",
       "      <td>unknown</td>\n",
       "      <td>unknown</td>\n",
       "    </tr>\n",
       "    <tr>\n",
       "      <th>1006</th>\n",
       "      <td>F0A9C2326349F</td>\n",
       "      <td>negative</td>\n",
       "      <td>negative</td>\n",
       "      <td>negative</td>\n",
       "      <td>positive</td>\n",
       "      <td>negative</td>\n",
       "    </tr>\n",
       "    <tr>\n",
       "      <th>7180</th>\n",
       "      <td>FDEE180B2A9D9</td>\n",
       "      <td>unknown</td>\n",
       "      <td>unknown</td>\n",
       "      <td>unknown</td>\n",
       "      <td>unknown</td>\n",
       "      <td>unknown</td>\n",
       "    </tr>\n",
       "    <tr>\n",
       "      <th>22664</th>\n",
       "      <td>FEADFA9F730FF</td>\n",
       "      <td>unknown</td>\n",
       "      <td>unknown</td>\n",
       "      <td>negative</td>\n",
       "      <td>unknown</td>\n",
       "      <td>unknown</td>\n",
       "    </tr>\n",
       "  </tbody>\n",
       "</table>\n",
       "</div>"
      ],
      "text/plain": [
       "           PatientID       ALK      BRAF      EGFR      KRAS      ROS1\n",
       "6253   F4123020E1CD8   unknown   unknown  negative   unknown   unknown\n",
       "53263  FF855530DBA97   unknown   unknown   unknown   unknown   unknown\n",
       "1006   F0A9C2326349F  negative  negative  negative  positive  negative\n",
       "7180   FDEE180B2A9D9   unknown   unknown   unknown   unknown   unknown\n",
       "22664  FEADFA9F730FF   unknown   unknown  negative   unknown   unknown"
      ]
     },
     "execution_count": 296,
     "metadata": {},
     "output_type": "execute_result"
    }
   ],
   "source": [
    "biomarker_notpdl1_wide.sample(5)"
   ]
  },
  {
   "cell_type": "markdown",
   "metadata": {},
   "source": [
    "#### 5.2 Assigning patient-level PD-L1"
   ]
  },
  {
   "cell_type": "markdown",
   "metadata": {},
   "source": [
    "**Flatiron recommends using PercentStaining as the primary source of truth to assess PD-L1 status over other options in the Biomarker table. For patients with multiple PDL1 testing instances, the maximum PercentStaining level will be selected and assigned to the patient. PD-L1 testing instances from earlier years, specifically before 2017, are likely to be missing PercentStaining values** "
   ]
  },
  {
   "cell_type": "code",
   "execution_count": 297,
   "metadata": {},
   "outputs": [
    {
     "data": {
      "text/plain": [
       "1062"
      ]
     },
     "execution_count": 297,
     "metadata": {},
     "output_type": "execute_result"
    }
   ],
   "source": [
    "# Number of patients with PDL1 testing prior to 12/31/2016.\n",
    "biomarker_win.query('BiomarkerName == \"PDL1\"').query('result_date < \"2017-01-01\"').PatientID.nunique()"
   ]
  },
  {
   "cell_type": "code",
   "execution_count": 298,
   "metadata": {},
   "outputs": [
    {
     "data": {
      "text/plain": [
       "0.13060524381279098"
      ]
     },
     "execution_count": 298,
     "metadata": {},
     "output_type": "execute_result"
    }
   ],
   "source": [
    "# Percent of patients with missing PDL1 percent staining occuring after 12/31/2016.\n",
    "(\n",
    "    biomarker_win\n",
    "    .query('BiomarkerName == \"PDL1\"')\n",
    "    .PercentStaining\n",
    "    .value_counts(normalize = True, dropna = False)\n",
    "    .loc[np.nan]\n",
    ")"
   ]
  },
  {
   "cell_type": "code",
   "execution_count": 299,
   "metadata": {},
   "outputs": [
    {
     "data": {
      "text/plain": [
       "0.2687296416938111"
      ]
     },
     "execution_count": 299,
     "metadata": {},
     "output_type": "execute_result"
    }
   ],
   "source": [
    "# Percent of patients with missing PDL1 percent staining occuring prior to 12/31/2016.\n",
    "(\n",
    "    biomarker_win\n",
    "    .query('BiomarkerName == \"PDL1\"')\n",
    "    .query('result_date <= \"2016-12-31\"')\n",
    "    .PercentStaining\n",
    "    .value_counts(normalize = True, dropna = False)\n",
    "    .loc[np.nan]\n",
    ")"
   ]
  },
  {
   "cell_type": "code",
   "execution_count": 300,
   "metadata": {},
   "outputs": [
    {
     "data": {
      "text/plain": [
       "0.07522666013232052"
      ]
     },
     "execution_count": 300,
     "metadata": {},
     "output_type": "execute_result"
    }
   ],
   "source": [
    "# Percent of PDL1 results that occur before 12/31/2016. \n",
    "(\n",
    "    biomarker_win\n",
    "    .query('BiomarkerName == \"PDL1\"')\n",
    "    .query('result_date <= \"2016-12-31\"')\n",
    "    .shape[0]\n",
    "    /len(biomarker_win.query('BiomarkerName == \"PDL1\"'))\n",
    ")"
   ]
  },
  {
   "cell_type": "code",
   "execution_count": 301,
   "metadata": {},
   "outputs": [],
   "source": [
    "biomarker_win_pdl1 = (\n",
    "    biomarker_win\n",
    "    .query('BiomarkerName == \"PDL1\"')\n",
    ")"
   ]
  },
  {
   "cell_type": "code",
   "execution_count": 302,
   "metadata": {},
   "outputs": [
    {
     "data": {
      "text/plain": [
       "(16324, 13742)"
      ]
     },
     "execution_count": 302,
     "metadata": {},
     "output_type": "execute_result"
    }
   ],
   "source": [
    "row_ID(biomarker_win_pdl1)"
   ]
  },
  {
   "cell_type": "code",
   "execution_count": 303,
   "metadata": {},
   "outputs": [
    {
     "name": "stderr",
     "output_type": "stream",
     "text": [
      "/Applications/anaconda3/lib/python3.7/site-packages/pandas/core/indexing.py:1667: SettingWithCopyWarning: \n",
      "A value is trying to be set on a copy of a slice from a DataFrame.\n",
      "Try using .loc[row_indexer,col_indexer] = value instead\n",
      "\n",
      "See the caveats in the documentation: https://pandas.pydata.org/pandas-docs/stable/user_guide/indexing.html#returning-a-view-versus-a-copy\n",
      "  self.obj[key] = value\n"
     ]
    }
   ],
   "source": [
    "pdl1_dict = { \n",
    "    np.nan: 0,\n",
    "    '0%': 1, \n",
    "    '< 1%': 2,\n",
    "    '1%': 3, \n",
    "    '2% - 4%': 4,\n",
    "    '5% - 9%': 5,\n",
    "    '10% - 19%': 6,  \n",
    "    '20% - 29%': 7, \n",
    "    '30% - 39%': 8, \n",
    "    '40% - 49%': 9, \n",
    "    '50% - 59%': 10, \n",
    "    '60% - 69%': 11, \n",
    "    '70% - 79%': 12, \n",
    "    '80% - 89%': 13, \n",
    "    '90% - 99%': 14,\n",
    "    '100%': 15\n",
    "}\n",
    "\n",
    "biomarker_win_pdl1.loc[:, 'percent_staining'] = biomarker_win_pdl1['PercentStaining'].map(pdl1_dict)"
   ]
  },
  {
   "cell_type": "code",
   "execution_count": 304,
   "metadata": {},
   "outputs": [],
   "source": [
    "biomarker_pdl1_staining = (\n",
    "    biomarker_win_pdl1\n",
    "    .sort_values(by = ['PatientID', 'percent_staining'], ascending = False)\n",
    "    .drop_duplicates(subset = ['PatientID'], keep = 'first')\n",
    "    .pivot(index = 'PatientID', columns = 'BiomarkerName', values = 'percent_staining')\n",
    "    .rename(columns = {'PDL1': 'pdl1_staining'})\n",
    "    .reset_index()\n",
    ")\n",
    "biomarker_pdl1_staining.columns.name = None"
   ]
  },
  {
   "cell_type": "code",
   "execution_count": 305,
   "metadata": {},
   "outputs": [
    {
     "data": {
      "text/plain": [
       "(13742, 13742)"
      ]
     },
     "execution_count": 305,
     "metadata": {},
     "output_type": "execute_result"
    }
   ],
   "source": [
    "row_ID(biomarker_pdl1_staining)"
   ]
  },
  {
   "cell_type": "code",
   "execution_count": 306,
   "metadata": {},
   "outputs": [
    {
     "data": {
      "text/html": [
       "<div>\n",
       "<style scoped>\n",
       "    .dataframe tbody tr th:only-of-type {\n",
       "        vertical-align: middle;\n",
       "    }\n",
       "\n",
       "    .dataframe tbody tr th {\n",
       "        vertical-align: top;\n",
       "    }\n",
       "\n",
       "    .dataframe thead th {\n",
       "        text-align: right;\n",
       "    }\n",
       "</style>\n",
       "<table border=\"1\" class=\"dataframe\">\n",
       "  <thead>\n",
       "    <tr style=\"text-align: right;\">\n",
       "      <th></th>\n",
       "      <th>PatientID</th>\n",
       "      <th>pdl1_staining</th>\n",
       "    </tr>\n",
       "  </thead>\n",
       "  <tbody>\n",
       "    <tr>\n",
       "      <th>225</th>\n",
       "      <td>F0430B9BCD668</td>\n",
       "      <td>1</td>\n",
       "    </tr>\n",
       "    <tr>\n",
       "      <th>552</th>\n",
       "      <td>F0A91FEC18953</td>\n",
       "      <td>14</td>\n",
       "    </tr>\n",
       "    <tr>\n",
       "      <th>739</th>\n",
       "      <td>F0E70A674716F</td>\n",
       "      <td>2</td>\n",
       "    </tr>\n",
       "    <tr>\n",
       "      <th>891</th>\n",
       "      <td>F11369E8748E2</td>\n",
       "      <td>1</td>\n",
       "    </tr>\n",
       "    <tr>\n",
       "      <th>2849</th>\n",
       "      <td>F367BCC7D91EA</td>\n",
       "      <td>12</td>\n",
       "    </tr>\n",
       "  </tbody>\n",
       "</table>\n",
       "</div>"
      ],
      "text/plain": [
       "          PatientID  pdl1_staining\n",
       "225   F0430B9BCD668              1\n",
       "552   F0A91FEC18953             14\n",
       "739   F0E70A674716F              2\n",
       "891   F11369E8748E2              1\n",
       "2849  F367BCC7D91EA             12"
      ]
     },
     "execution_count": 306,
     "metadata": {},
     "output_type": "execute_result"
    }
   ],
   "source": [
    "biomarker_pdl1_staining.sample(5)"
   ]
  },
  {
   "cell_type": "code",
   "execution_count": 307,
   "metadata": {},
   "outputs": [
    {
     "data": {
      "text/plain": [
       "0.1021685344200262"
      ]
     },
     "execution_count": 307,
     "metadata": {},
     "output_type": "execute_result"
    }
   ],
   "source": [
    "# Percentage of patients with unknown percent staining. \n",
    "(\n",
    "    biomarker_pdl1_staining\n",
    "    .query('pdl1_staining == 0')\n",
    "    .shape[0]\n",
    "    /len(biomarker_pdl1_staining)\n",
    ")"
   ]
  },
  {
   "cell_type": "code",
   "execution_count": 308,
   "metadata": {},
   "outputs": [],
   "source": [
    "pdl1_dict_rev = { \n",
    "    0: np.nan,\n",
    "    1: '0%', \n",
    "    2: '0%',\n",
    "    3: '1-49%', \n",
    "    4: '1-49%',\n",
    "    5: '1-49%',\n",
    "    6: '1-49%',  \n",
    "    7: '1-49%', \n",
    "    8: '1-49%', \n",
    "    9: '1-49%', \n",
    "    10: '50-100%', \n",
    "    11: '50-100%', \n",
    "    12: '50-100%', \n",
    "    13: '50-100%', \n",
    "    14: '50-100%',\n",
    "    15: '50-100%'\n",
    "}\n",
    "\n",
    "biomarker_pdl1_staining.loc[:, 'pdl1_staining'] = biomarker_pdl1_staining['pdl1_staining'].map(pdl1_dict_rev)"
   ]
  },
  {
   "cell_type": "code",
   "execution_count": 309,
   "metadata": {},
   "outputs": [],
   "source": [
    "biomarker_pdl1_staining_wide = (\n",
    "    biomarker_pdl1_staining\n",
    "    .append(\n",
    "        pd.Series(train_IDs)[~pd.Series(train_IDs).isin(biomarker_pdl1_staining['PatientID'])].to_frame(name = 'PatientID'),\n",
    "        sort = False)\n",
    "    .fillna('unknown')\n",
    ")"
   ]
  },
  {
   "cell_type": "code",
   "execution_count": 310,
   "metadata": {},
   "outputs": [
    {
     "data": {
      "text/html": [
       "<div>\n",
       "<style scoped>\n",
       "    .dataframe tbody tr th:only-of-type {\n",
       "        vertical-align: middle;\n",
       "    }\n",
       "\n",
       "    .dataframe tbody tr th {\n",
       "        vertical-align: top;\n",
       "    }\n",
       "\n",
       "    .dataframe thead th {\n",
       "        text-align: right;\n",
       "    }\n",
       "</style>\n",
       "<table border=\"1\" class=\"dataframe\">\n",
       "  <thead>\n",
       "    <tr style=\"text-align: right;\">\n",
       "      <th></th>\n",
       "      <th>PatientID</th>\n",
       "      <th>pdl1_staining</th>\n",
       "    </tr>\n",
       "  </thead>\n",
       "  <tbody>\n",
       "    <tr>\n",
       "      <th>41904</th>\n",
       "      <td>F8376939058C1</td>\n",
       "      <td>unknown</td>\n",
       "    </tr>\n",
       "    <tr>\n",
       "      <th>17561</th>\n",
       "      <td>F8E74CF8C7BA5</td>\n",
       "      <td>unknown</td>\n",
       "    </tr>\n",
       "    <tr>\n",
       "      <th>10807</th>\n",
       "      <td>FB274066B71FD</td>\n",
       "      <td>unknown</td>\n",
       "    </tr>\n",
       "    <tr>\n",
       "      <th>23088</th>\n",
       "      <td>FC25309A212B5</td>\n",
       "      <td>unknown</td>\n",
       "    </tr>\n",
       "    <tr>\n",
       "      <th>38348</th>\n",
       "      <td>F035ABDB31889</td>\n",
       "      <td>unknown</td>\n",
       "    </tr>\n",
       "  </tbody>\n",
       "</table>\n",
       "</div>"
      ],
      "text/plain": [
       "           PatientID pdl1_staining\n",
       "41904  F8376939058C1       unknown\n",
       "17561  F8E74CF8C7BA5       unknown\n",
       "10807  FB274066B71FD       unknown\n",
       "23088  FC25309A212B5       unknown\n",
       "38348  F035ABDB31889       unknown"
      ]
     },
     "execution_count": 310,
     "metadata": {},
     "output_type": "execute_result"
    }
   ],
   "source": [
    "biomarker_pdl1_staining_wide.sample(5)"
   ]
  },
  {
   "cell_type": "code",
   "execution_count": 311,
   "metadata": {},
   "outputs": [
    {
     "data": {
      "text/plain": [
       "(54786, 2)"
      ]
     },
     "execution_count": 311,
     "metadata": {},
     "output_type": "execute_result"
    }
   ],
   "source": [
    "biomarker_pdl1_staining_wide.shape"
   ]
  },
  {
   "cell_type": "markdown",
   "metadata": {},
   "source": [
    "**Flatiron recommends considering using BiomarkerStatus to impute the missing patient-level PercentStaining category value. Impute missing PercentStaining values as follows:**\n",
    "* **Impute a PercentStaining value of “≥1%” for patients with at least one confirmed positive PD-L1 result within the eligible window.** \n",
    "* **Impute a PercentStaining value of “0%” to patients with no confirmed positive PD-L1 results and at least one confirmed negative PD-L1 result within the eligible window.** \n",
    "* **Do not impute a PercentStaining value to patients who have no confirmed positive or negative PD-L1 results within the eligible window.**"
   ]
  },
  {
   "cell_type": "code",
   "execution_count": 312,
   "metadata": {},
   "outputs": [],
   "source": [
    "# Among PDL1 tested patients after 12/31/2016, select highest percent staining for those with repeat testing, merge with nonduplciates, then pivot. \n",
    "biomarker_pdl1_status = (\n",
    "    biomarker_win_pdl1\n",
    "    .sort_values(by = ['PatientID', 'bio_status'], ascending = False)\n",
    "    .drop_duplicates(subset = ['PatientID'], keep = 'first')\n",
    "    .pivot(index = 'PatientID', columns = 'BiomarkerName', values = 'bio_status')\n",
    "    .rename(columns = {'PDL1': 'pdl1_status'})\n",
    "    .reset_index()\n",
    ")\n",
    "biomarker_pdl1_status.columns.name = None"
   ]
  },
  {
   "cell_type": "code",
   "execution_count": 313,
   "metadata": {},
   "outputs": [
    {
     "data": {
      "text/plain": [
       "(13742, 13742)"
      ]
     },
     "execution_count": 313,
     "metadata": {},
     "output_type": "execute_result"
    }
   ],
   "source": [
    "row_ID(biomarker_pdl1_status)"
   ]
  },
  {
   "cell_type": "code",
   "execution_count": 314,
   "metadata": {},
   "outputs": [
    {
     "data": {
      "text/html": [
       "<div>\n",
       "<style scoped>\n",
       "    .dataframe tbody tr th:only-of-type {\n",
       "        vertical-align: middle;\n",
       "    }\n",
       "\n",
       "    .dataframe tbody tr th {\n",
       "        vertical-align: top;\n",
       "    }\n",
       "\n",
       "    .dataframe thead th {\n",
       "        text-align: right;\n",
       "    }\n",
       "</style>\n",
       "<table border=\"1\" class=\"dataframe\">\n",
       "  <thead>\n",
       "    <tr style=\"text-align: right;\">\n",
       "      <th></th>\n",
       "      <th>PatientID</th>\n",
       "      <th>pdl1_status</th>\n",
       "    </tr>\n",
       "  </thead>\n",
       "  <tbody>\n",
       "    <tr>\n",
       "      <th>0</th>\n",
       "      <td>F000057FA2792</td>\n",
       "      <td>1</td>\n",
       "    </tr>\n",
       "    <tr>\n",
       "      <th>1</th>\n",
       "      <td>F00006766024F</td>\n",
       "      <td>2</td>\n",
       "    </tr>\n",
       "    <tr>\n",
       "      <th>2</th>\n",
       "      <td>F000504167881</td>\n",
       "      <td>0</td>\n",
       "    </tr>\n",
       "    <tr>\n",
       "      <th>3</th>\n",
       "      <td>F0006A2FE267F</td>\n",
       "      <td>0</td>\n",
       "    </tr>\n",
       "    <tr>\n",
       "      <th>4</th>\n",
       "      <td>F0006FC2C1957</td>\n",
       "      <td>0</td>\n",
       "    </tr>\n",
       "  </tbody>\n",
       "</table>\n",
       "</div>"
      ],
      "text/plain": [
       "       PatientID  pdl1_status\n",
       "0  F000057FA2792            1\n",
       "1  F00006766024F            2\n",
       "2  F000504167881            0\n",
       "3  F0006A2FE267F            0\n",
       "4  F0006FC2C1957            0"
      ]
     },
     "execution_count": 314,
     "metadata": {},
     "output_type": "execute_result"
    }
   ],
   "source": [
    "biomarker_pdl1_status.head()"
   ]
  },
  {
   "cell_type": "code",
   "execution_count": 315,
   "metadata": {},
   "outputs": [],
   "source": [
    "biomarker_pdl1_status_wide = (\n",
    "    biomarker_pdl1_status\n",
    "    .append(\n",
    "        pd.Series(train_IDs)[~pd.Series(train_IDs).isin(biomarker_pdl1_status['PatientID'])].to_frame(name = 'PatientID'),\n",
    "        sort = False)\n",
    "    .fillna(0)\n",
    ")"
   ]
  },
  {
   "cell_type": "code",
   "execution_count": 316,
   "metadata": {},
   "outputs": [],
   "source": [
    "biomarker_pdl1 = pd.merge(biomarker_pdl1_staining_wide, biomarker_pdl1_status_wide, on = 'PatientID')"
   ]
  },
  {
   "cell_type": "code",
   "execution_count": 317,
   "metadata": {},
   "outputs": [],
   "source": [
    "# If PDL1 staining is unknown, set to >=1% if ever positive and 0% if ever negative. \n",
    "# If PDL1 staining is known, set to >=1% if staining 1-100% and 0% if 0%.\n",
    "conditions = [\n",
    "    ((biomarker_pdl1['pdl1_staining'] == 'unknown') & (biomarker_pdl1['pdl1_status'] == 2)) | \n",
    "    (((biomarker_pdl1['pdl1_staining'] == '1-49%') | (biomarker_pdl1['pdl1_staining'] == '50-100%'))),\n",
    "    ((biomarker_pdl1['pdl1_staining'] == 'unknown') & (biomarker_pdl1['pdl1_status'] == 1)) | \n",
    "    (biomarker_pdl1['pdl1_staining'] == '0%'), \n",
    "    ((biomarker_pdl1['pdl1_staining'] == 'unknown') & (biomarker_pdl1['pdl1_status'] == 0)),\n",
    "]\n",
    "\n",
    "choices = ['>=1%', '0%', 'unknown']\n",
    "\n",
    "biomarker_pdl1.loc[:, 'pdl1_n'] = np.select(conditions, choices)"
   ]
  },
  {
   "cell_type": "code",
   "execution_count": 318,
   "metadata": {},
   "outputs": [
    {
     "data": {
      "text/html": [
       "<div>\n",
       "<style scoped>\n",
       "    .dataframe tbody tr th:only-of-type {\n",
       "        vertical-align: middle;\n",
       "    }\n",
       "\n",
       "    .dataframe tbody tr th {\n",
       "        vertical-align: top;\n",
       "    }\n",
       "\n",
       "    .dataframe thead th {\n",
       "        text-align: right;\n",
       "    }\n",
       "</style>\n",
       "<table border=\"1\" class=\"dataframe\">\n",
       "  <thead>\n",
       "    <tr style=\"text-align: right;\">\n",
       "      <th></th>\n",
       "      <th>PatientID</th>\n",
       "      <th>pdl1_staining</th>\n",
       "      <th>pdl1_status</th>\n",
       "      <th>pdl1_n</th>\n",
       "    </tr>\n",
       "  </thead>\n",
       "  <tbody>\n",
       "    <tr>\n",
       "      <th>28720</th>\n",
       "      <td>FC32B95BF9381</td>\n",
       "      <td>unknown</td>\n",
       "      <td>0.0</td>\n",
       "      <td>unknown</td>\n",
       "    </tr>\n",
       "    <tr>\n",
       "      <th>18283</th>\n",
       "      <td>FF8454007E2D6</td>\n",
       "      <td>unknown</td>\n",
       "      <td>0.0</td>\n",
       "      <td>unknown</td>\n",
       "    </tr>\n",
       "    <tr>\n",
       "      <th>45636</th>\n",
       "      <td>F17F332FC4C66</td>\n",
       "      <td>unknown</td>\n",
       "      <td>0.0</td>\n",
       "      <td>unknown</td>\n",
       "    </tr>\n",
       "    <tr>\n",
       "      <th>25710</th>\n",
       "      <td>F4AC2F47EC18B</td>\n",
       "      <td>unknown</td>\n",
       "      <td>0.0</td>\n",
       "      <td>unknown</td>\n",
       "    </tr>\n",
       "    <tr>\n",
       "      <th>4629</th>\n",
       "      <td>F579F24CEF00B</td>\n",
       "      <td>0%</td>\n",
       "      <td>0.0</td>\n",
       "      <td>0%</td>\n",
       "    </tr>\n",
       "  </tbody>\n",
       "</table>\n",
       "</div>"
      ],
      "text/plain": [
       "           PatientID pdl1_staining  pdl1_status   pdl1_n\n",
       "28720  FC32B95BF9381       unknown          0.0  unknown\n",
       "18283  FF8454007E2D6       unknown          0.0  unknown\n",
       "45636  F17F332FC4C66       unknown          0.0  unknown\n",
       "25710  F4AC2F47EC18B       unknown          0.0  unknown\n",
       "4629   F579F24CEF00B            0%          0.0       0%"
      ]
     },
     "execution_count": 318,
     "metadata": {},
     "output_type": "execute_result"
    }
   ],
   "source": [
    "biomarker_pdl1.sample(5)"
   ]
  },
  {
   "cell_type": "code",
   "execution_count": 319,
   "metadata": {},
   "outputs": [],
   "source": [
    "biomarker_pdl1_wide = (\n",
    "    biomarker_pdl1\n",
    "    .drop(columns = ['pdl1_status'])\n",
    "    .rename(columns = {'pdl1_staining': 'pdl1'})\n",
    ")"
   ]
  },
  {
   "cell_type": "code",
   "execution_count": 320,
   "metadata": {},
   "outputs": [
    {
     "data": {
      "text/plain": [
       "(54786, 54786)"
      ]
     },
     "execution_count": 320,
     "metadata": {},
     "output_type": "execute_result"
    }
   ],
   "source": [
    "row_ID(biomarker_pdl1_wide)"
   ]
  },
  {
   "cell_type": "code",
   "execution_count": 321,
   "metadata": {},
   "outputs": [],
   "source": [
    "biomarker_wide = pd.merge(biomarker_notpdl1_wide, biomarker_pdl1_wide, on = 'PatientID')"
   ]
  },
  {
   "cell_type": "code",
   "execution_count": 322,
   "metadata": {},
   "outputs": [
    {
     "data": {
      "text/plain": [
       "(54786, 54786)"
      ]
     },
     "execution_count": 322,
     "metadata": {},
     "output_type": "execute_result"
    }
   ],
   "source": [
    "row_ID(biomarker_wide)"
   ]
  },
  {
   "cell_type": "code",
   "execution_count": 323,
   "metadata": {},
   "outputs": [
    {
     "data": {
      "text/html": [
       "<div>\n",
       "<style scoped>\n",
       "    .dataframe tbody tr th:only-of-type {\n",
       "        vertical-align: middle;\n",
       "    }\n",
       "\n",
       "    .dataframe tbody tr th {\n",
       "        vertical-align: top;\n",
       "    }\n",
       "\n",
       "    .dataframe thead th {\n",
       "        text-align: right;\n",
       "    }\n",
       "</style>\n",
       "<table border=\"1\" class=\"dataframe\">\n",
       "  <thead>\n",
       "    <tr style=\"text-align: right;\">\n",
       "      <th></th>\n",
       "      <th>PatientID</th>\n",
       "      <th>ALK</th>\n",
       "      <th>BRAF</th>\n",
       "      <th>EGFR</th>\n",
       "      <th>KRAS</th>\n",
       "      <th>ROS1</th>\n",
       "      <th>pdl1</th>\n",
       "      <th>pdl1_n</th>\n",
       "    </tr>\n",
       "  </thead>\n",
       "  <tbody>\n",
       "    <tr>\n",
       "      <th>44017</th>\n",
       "      <td>F7AA6816BBE03</td>\n",
       "      <td>unknown</td>\n",
       "      <td>unknown</td>\n",
       "      <td>unknown</td>\n",
       "      <td>unknown</td>\n",
       "      <td>unknown</td>\n",
       "      <td>unknown</td>\n",
       "      <td>unknown</td>\n",
       "    </tr>\n",
       "    <tr>\n",
       "      <th>21677</th>\n",
       "      <td>FE0CEED99909F</td>\n",
       "      <td>negative</td>\n",
       "      <td>unknown</td>\n",
       "      <td>negative</td>\n",
       "      <td>negative</td>\n",
       "      <td>unknown</td>\n",
       "      <td>unknown</td>\n",
       "      <td>unknown</td>\n",
       "    </tr>\n",
       "    <tr>\n",
       "      <th>6243</th>\n",
       "      <td>F410ED91DFAF2</td>\n",
       "      <td>negative</td>\n",
       "      <td>unknown</td>\n",
       "      <td>negative</td>\n",
       "      <td>unknown</td>\n",
       "      <td>unknown</td>\n",
       "      <td>unknown</td>\n",
       "      <td>unknown</td>\n",
       "    </tr>\n",
       "    <tr>\n",
       "      <th>26356</th>\n",
       "      <td>F848B13D0C81D</td>\n",
       "      <td>unknown</td>\n",
       "      <td>unknown</td>\n",
       "      <td>unknown</td>\n",
       "      <td>unknown</td>\n",
       "      <td>unknown</td>\n",
       "      <td>unknown</td>\n",
       "      <td>unknown</td>\n",
       "    </tr>\n",
       "    <tr>\n",
       "      <th>3967</th>\n",
       "      <td>F29B04153A59B</td>\n",
       "      <td>unknown</td>\n",
       "      <td>negative</td>\n",
       "      <td>unknown</td>\n",
       "      <td>unknown</td>\n",
       "      <td>unknown</td>\n",
       "      <td>unknown</td>\n",
       "      <td>unknown</td>\n",
       "    </tr>\n",
       "  </tbody>\n",
       "</table>\n",
       "</div>"
      ],
      "text/plain": [
       "           PatientID       ALK      BRAF      EGFR      KRAS     ROS1  \\\n",
       "44017  F7AA6816BBE03   unknown   unknown   unknown   unknown  unknown   \n",
       "21677  FE0CEED99909F  negative   unknown  negative  negative  unknown   \n",
       "6243   F410ED91DFAF2  negative   unknown  negative   unknown  unknown   \n",
       "26356  F848B13D0C81D   unknown   unknown   unknown   unknown  unknown   \n",
       "3967   F29B04153A59B   unknown  negative   unknown   unknown  unknown   \n",
       "\n",
       "          pdl1   pdl1_n  \n",
       "44017  unknown  unknown  \n",
       "21677  unknown  unknown  \n",
       "6243   unknown  unknown  \n",
       "26356  unknown  unknown  \n",
       "3967   unknown  unknown  "
      ]
     },
     "execution_count": 323,
     "metadata": {},
     "output_type": "execute_result"
    }
   ],
   "source": [
    "biomarker_wide.sample(5)"
   ]
  },
  {
   "cell_type": "code",
   "execution_count": 324,
   "metadata": {},
   "outputs": [
    {
     "data": {
      "text/plain": [
       "ALK     \n",
       "unknown     0.644544\n",
       "negative    0.344814\n",
       "positive    0.010641\n",
       "dtype: float64"
      ]
     },
     "execution_count": 324,
     "metadata": {},
     "output_type": "execute_result"
    }
   ],
   "source": [
    "biomarker_wide[['ALK']].value_counts(normalize = True, dropna = False)"
   ]
  },
  {
   "cell_type": "code",
   "execution_count": 325,
   "metadata": {},
   "outputs": [
    {
     "data": {
      "text/plain": [
       "BRAF    \n",
       "unknown     0.826324\n",
       "negative    0.165371\n",
       "positive    0.008305\n",
       "dtype: float64"
      ]
     },
     "execution_count": 325,
     "metadata": {},
     "output_type": "execute_result"
    }
   ],
   "source": [
    "biomarker_wide[['BRAF']].value_counts(normalize = True, dropna = False)"
   ]
  },
  {
   "cell_type": "code",
   "execution_count": 326,
   "metadata": {},
   "outputs": [
    {
     "data": {
      "text/plain": [
       "EGFR    \n",
       "unknown     0.608623\n",
       "negative    0.332567\n",
       "positive    0.058811\n",
       "dtype: float64"
      ]
     },
     "execution_count": 326,
     "metadata": {},
     "output_type": "execute_result"
    }
   ],
   "source": [
    "biomarker_wide[['EGFR']].value_counts(normalize = True, dropna = False)"
   ]
  },
  {
   "cell_type": "code",
   "execution_count": 327,
   "metadata": {},
   "outputs": [
    {
     "data": {
      "text/plain": [
       "KRAS    \n",
       "unknown     0.818439\n",
       "negative    0.128536\n",
       "positive    0.053024\n",
       "dtype: float64"
      ]
     },
     "execution_count": 327,
     "metadata": {},
     "output_type": "execute_result"
    }
   ],
   "source": [
    "biomarker_wide[['KRAS']].value_counts(normalize = True, dropna = False)"
   ]
  },
  {
   "cell_type": "code",
   "execution_count": 328,
   "metadata": {},
   "outputs": [
    {
     "data": {
      "text/plain": [
       "ROS1    \n",
       "unknown     0.777662\n",
       "negative    0.220166\n",
       "positive    0.002172\n",
       "dtype: float64"
      ]
     },
     "execution_count": 328,
     "metadata": {},
     "output_type": "execute_result"
    }
   ],
   "source": [
    "biomarker_wide[['ROS1']].value_counts(normalize = True, dropna = False)"
   ]
  },
  {
   "cell_type": "code",
   "execution_count": 329,
   "metadata": {},
   "outputs": [
    {
     "data": {
      "text/plain": [
       "pdl1   \n",
       "unknown    0.774796\n",
       "1-49%      0.076443\n",
       "50-100%    0.075056\n",
       "0%         0.073705\n",
       "dtype: float64"
      ]
     },
     "execution_count": 329,
     "metadata": {},
     "output_type": "execute_result"
    }
   ],
   "source": [
    "biomarker_wide[['pdl1']].value_counts(normalize = True, dropna = False)"
   ]
  },
  {
   "cell_type": "code",
   "execution_count": 330,
   "metadata": {},
   "outputs": [
    {
     "data": {
      "text/plain": [
       "pdl1_n \n",
       "unknown    0.767130\n",
       ">=1%       0.154364\n",
       "0%         0.078505\n",
       "dtype: float64"
      ]
     },
     "execution_count": 330,
     "metadata": {},
     "output_type": "execute_result"
    }
   ],
   "source": [
    "biomarker_wide[['pdl1_n']].value_counts(normalize = True, dropna = False)"
   ]
  },
  {
   "cell_type": "code",
   "execution_count": 331,
   "metadata": {},
   "outputs": [
    {
     "name": "stdout",
     "output_type": "stream",
     "text": [
      "Variable                       Type         Data/Info\n",
      "-----------------------------------------------------\n",
      "biomarker_notpdl1              DataFrame               PatientID  ALK<...>n[24660 rows x 6 columns]\n",
      "biomarker_notpdl1_wide         DataFrame               PatientID     <...>n[54786 rows x 6 columns]\n",
      "biomarker_pdl1                 DataFrame               PatientID pdl1<...>n[54786 rows x 4 columns]\n",
      "biomarker_pdl1_staining        DataFrame               PatientID pdl1<...>n[13742 rows x 2 columns]\n",
      "biomarker_pdl1_staining_wide   DataFrame               PatientID pdl1<...>n[54786 rows x 2 columns]\n",
      "biomarker_pdl1_status          DataFrame               PatientID  pdl<...>n[13742 rows x 2 columns]\n",
      "biomarker_pdl1_status_wide     DataFrame               PatientID  pdl<...>n[54786 rows x 2 columns]\n",
      "biomarker_pdl1_wide            DataFrame               PatientID     <...>n[54786 rows x 3 columns]\n",
      "biomarker_wide                 DataFrame               PatientID     <...>n[54786 rows x 8 columns]\n",
      "biomarker_win                  DataFrame                PatientID Bio<...>101519 rows x 22 columns]\n",
      "biomarker_win_pdl1             DataFrame                PatientID Bio<...>[16324 rows x 23 columns]\n",
      "biomarkers                     DataFrame                PatientID Bio<...>203645 rows x 21 columns]\n",
      "demographics                   DataFrame               PatientID Prac<...>n[54786 rows x 7 columns]\n",
      "enhanced_adv                   DataFrame               PatientID diag<...>n[54786 rows x 9 columns]\n",
      "med_admin_wide                 DataFrame               PatientID  ste<...>[54786 rows x 14 columns]\n",
      "mortality                      DataFrame               PatientID  dea<...>n[54786 rows x 3 columns]\n",
      "telemedicine                   DataFrame               PatientID   Vi<...>n[16712 rows x 2 columns]\n",
      "visit                          DataFrame                 PatientID   <...>2446952 rows x 6 columns]\n"
     ]
    }
   ],
   "source": [
    "%whos DataFrame"
   ]
  },
  {
   "cell_type": "code",
   "execution_count": 332,
   "metadata": {},
   "outputs": [],
   "source": [
    "# Keep biomarker_wide.\n",
    "del biomarker_notpdl1\n",
    "del biomarker_notpdl1_wide\n",
    "del biomarker_pdl1\n",
    "del biomarker_pdl1_staining\n",
    "del biomarker_pdl1_staining_wide\n",
    "del biomarker_pdl1_status\n",
    "del biomarker_pdl1_status_wide\n",
    "del biomarker_pdl1_wide\n",
    "del biomarker_win\n",
    "del biomarker_win_pdl1\n",
    "del biomarkers"
   ]
  },
  {
   "cell_type": "markdown",
   "metadata": {},
   "source": [
    "### 6. Insurance "
   ]
  },
  {
   "cell_type": "code",
   "execution_count": 333,
   "metadata": {},
   "outputs": [],
   "source": [
    "insurance = pd.read_csv('Insurance.csv')"
   ]
  },
  {
   "cell_type": "code",
   "execution_count": 334,
   "metadata": {},
   "outputs": [
    {
     "data": {
      "text/html": [
       "<div>\n",
       "<style scoped>\n",
       "    .dataframe tbody tr th:only-of-type {\n",
       "        vertical-align: middle;\n",
       "    }\n",
       "\n",
       "    .dataframe tbody tr th {\n",
       "        vertical-align: top;\n",
       "    }\n",
       "\n",
       "    .dataframe thead th {\n",
       "        text-align: right;\n",
       "    }\n",
       "</style>\n",
       "<table border=\"1\" class=\"dataframe\">\n",
       "  <thead>\n",
       "    <tr style=\"text-align: right;\">\n",
       "      <th></th>\n",
       "      <th>PatientID</th>\n",
       "      <th>PayerCategory</th>\n",
       "      <th>StartDate</th>\n",
       "      <th>EndDate</th>\n",
       "    </tr>\n",
       "  </thead>\n",
       "  <tbody>\n",
       "    <tr>\n",
       "      <th>67121</th>\n",
       "      <td>F5BD5AD85C66C</td>\n",
       "      <td>Medicaid</td>\n",
       "      <td>2017-04-01</td>\n",
       "      <td>NaN</td>\n",
       "    </tr>\n",
       "    <tr>\n",
       "      <th>14532</th>\n",
       "      <td>F9B698DB471AC</td>\n",
       "      <td>Other Payer - Type Unknown</td>\n",
       "      <td>2012-01-01</td>\n",
       "      <td>NaN</td>\n",
       "    </tr>\n",
       "    <tr>\n",
       "      <th>67077</th>\n",
       "      <td>F30F41B4D8B1F</td>\n",
       "      <td>Commercial Health Plan</td>\n",
       "      <td>2020-01-01</td>\n",
       "      <td>NaN</td>\n",
       "    </tr>\n",
       "    <tr>\n",
       "      <th>114575</th>\n",
       "      <td>FC5D5D7495066</td>\n",
       "      <td>Patient Assistance Program</td>\n",
       "      <td>2021-01-01</td>\n",
       "      <td>2021-12-31</td>\n",
       "    </tr>\n",
       "    <tr>\n",
       "      <th>137201</th>\n",
       "      <td>FF4E365FBACBF</td>\n",
       "      <td>Medicare</td>\n",
       "      <td>2015-01-01</td>\n",
       "      <td>NaN</td>\n",
       "    </tr>\n",
       "  </tbody>\n",
       "</table>\n",
       "</div>"
      ],
      "text/plain": [
       "            PatientID               PayerCategory   StartDate     EndDate\n",
       "67121   F5BD5AD85C66C                    Medicaid  2017-04-01         NaN\n",
       "14532   F9B698DB471AC  Other Payer - Type Unknown  2012-01-01         NaN\n",
       "67077   F30F41B4D8B1F      Commercial Health Plan  2020-01-01         NaN\n",
       "114575  FC5D5D7495066  Patient Assistance Program  2021-01-01  2021-12-31\n",
       "137201  FF4E365FBACBF                    Medicare  2015-01-01         NaN"
      ]
     },
     "execution_count": 334,
     "metadata": {},
     "output_type": "execute_result"
    }
   ],
   "source": [
    "insurance.sample(5)"
   ]
  },
  {
   "cell_type": "code",
   "execution_count": 335,
   "metadata": {},
   "outputs": [
    {
     "name": "stdout",
     "output_type": "stream",
     "text": [
      "<class 'pandas.core.frame.DataFrame'>\n",
      "RangeIndex: 147794 entries, 0 to 147793\n",
      "Data columns (total 4 columns):\n",
      " #   Column         Non-Null Count   Dtype \n",
      "---  ------         --------------   ----- \n",
      " 0   PatientID      147794 non-null  object\n",
      " 1   PayerCategory  147794 non-null  object\n",
      " 2   StartDate      121882 non-null  object\n",
      " 3   EndDate        43285 non-null   object\n",
      "dtypes: object(4)\n",
      "memory usage: 4.5+ MB\n"
     ]
    }
   ],
   "source": [
    "insurance.info()"
   ]
  },
  {
   "cell_type": "code",
   "execution_count": 336,
   "metadata": {},
   "outputs": [
    {
     "data": {
      "text/plain": [
       "(147794, 63396)"
      ]
     },
     "execution_count": 336,
     "metadata": {},
     "output_type": "execute_result"
    }
   ],
   "source": [
    "row_ID(insurance)"
   ]
  },
  {
   "cell_type": "code",
   "execution_count": 337,
   "metadata": {},
   "outputs": [],
   "source": [
    "insurance = insurance[insurance['PatientID'].isin(train_IDs)]"
   ]
  },
  {
   "cell_type": "code",
   "execution_count": 338,
   "metadata": {},
   "outputs": [
    {
     "data": {
      "text/plain": [
       "(118357, 50696)"
      ]
     },
     "execution_count": 338,
     "metadata": {},
     "output_type": "execute_result"
    }
   ],
   "source": [
    "row_ID(insurance)"
   ]
  },
  {
   "cell_type": "code",
   "execution_count": 339,
   "metadata": {},
   "outputs": [
    {
     "data": {
      "text/plain": [
       "Commercial Health Plan        0.355763\n",
       "Medicare                      0.246094\n",
       "Other Payer - Type Unknown    0.236082\n",
       "Patient Assistance Program    0.061391\n",
       "Medicaid                      0.046554\n",
       "Other Government Program      0.038130\n",
       "Self Pay                      0.015622\n",
       "Workers Compensation          0.000363\n",
       "Name: PayerCategory, dtype: float64"
      ]
     },
     "execution_count": 339,
     "metadata": {},
     "output_type": "execute_result"
    }
   ],
   "source": [
    "insurance['PayerCategory'].value_counts(normalize = True, dropna = False)"
   ]
  },
  {
   "cell_type": "code",
   "execution_count": 340,
   "metadata": {},
   "outputs": [
    {
     "data": {
      "text/plain": [
       "0.175207212078711"
      ]
     },
     "execution_count": 340,
     "metadata": {},
     "output_type": "execute_result"
    }
   ],
   "source": [
    "# Percent missing start date. \n",
    "insurance['StartDate'].isna().sum()/len(insurance)"
   ]
  },
  {
   "cell_type": "code",
   "execution_count": 341,
   "metadata": {},
   "outputs": [
    {
     "data": {
      "text/plain": [
       "0.7075289167518609"
      ]
     },
     "execution_count": 341,
     "metadata": {},
     "output_type": "execute_result"
    }
   ],
   "source": [
    "# Percent missing end date. \n",
    "insurance['EndDate'].isna().sum()/len(insurance)"
   ]
  },
  {
   "cell_type": "code",
   "execution_count": 342,
   "metadata": {},
   "outputs": [
    {
     "data": {
      "text/plain": [
       "count    50696.000000\n",
       "mean         2.334642\n",
       "std          1.442947\n",
       "min          1.000000\n",
       "25%          1.000000\n",
       "50%          2.000000\n",
       "75%          3.000000\n",
       "max         27.000000\n",
       "Name: PatientID, dtype: float64"
      ]
     },
     "execution_count": 342,
     "metadata": {},
     "output_type": "execute_result"
    }
   ],
   "source": [
    "# Brief statistics on number of insurances listed for each patient. \n",
    "(\n",
    "    insurance\n",
    "    .groupby('PatientID')['PatientID'].count()\n",
    "    .describe()\n",
    ")"
   ]
  },
  {
   "cell_type": "markdown",
   "metadata": {},
   "source": [
    "**The insurance table contains patient insurance/payer information. Patients may have multiple payer categories concurrently. Start date is populated roughly 80% of the time, while end date is populated about 20% of the time. This mutiple-row-per-patient table will be transformed into a single-row-per-patient table. Indicator variables for each payer category active at time of advacned diagnosis will be made as columns. Insurance will be considered active if start date is less than 30 days from advanced diagnosis regardless of end date.** "
   ]
  },
  {
   "cell_type": "code",
   "execution_count": 343,
   "metadata": {},
   "outputs": [],
   "source": [
    "insurance.loc[:, 'StartDate'] = pd.to_datetime(insurance['StartDate'])"
   ]
  },
  {
   "cell_type": "code",
   "execution_count": 344,
   "metadata": {},
   "outputs": [],
   "source": [
    "insurance = pd.merge(insurance, enhanced_adv[['PatientID', 'adv_date']], on = 'PatientID', how = 'left')"
   ]
  },
  {
   "cell_type": "code",
   "execution_count": 345,
   "metadata": {},
   "outputs": [
    {
     "data": {
      "text/plain": [
       "count    97620.000000\n",
       "mean      2013.044919\n",
       "std          7.246462\n",
       "min       1694.000000\n",
       "25%       2011.000000\n",
       "50%       2015.000000\n",
       "75%       2018.000000\n",
       "max       2021.000000\n",
       "Name: StartDate, dtype: float64"
      ]
     },
     "execution_count": 345,
     "metadata": {},
     "output_type": "execute_result"
    }
   ],
   "source": [
    "(insurance['StartDate']).dt.year.describe()"
   ]
  },
  {
   "cell_type": "code",
   "execution_count": 346,
   "metadata": {},
   "outputs": [],
   "source": [
    "# Remove years with start dates less than 1900 (eg., 1694) which is likely a coding error. \n",
    "insurance = insurance[(insurance['StartDate']).dt.year >= 1900]"
   ]
  },
  {
   "cell_type": "code",
   "execution_count": 347,
   "metadata": {},
   "outputs": [],
   "source": [
    "insurance.loc[:, 'insurance_date_diff'] = (insurance['StartDate'] - insurance['adv_date']).dt.days"
   ]
  },
  {
   "cell_type": "code",
   "execution_count": 348,
   "metadata": {},
   "outputs": [],
   "source": [
    "insurance_win = insurance[insurance['insurance_date_diff'] <= 30]"
   ]
  },
  {
   "cell_type": "code",
   "execution_count": 349,
   "metadata": {},
   "outputs": [
    {
     "data": {
      "text/plain": [
       "(97619, 45580)"
      ]
     },
     "execution_count": 349,
     "metadata": {},
     "output_type": "execute_result"
    }
   ],
   "source": [
    "row_ID(insurance)"
   ]
  },
  {
   "cell_type": "code",
   "execution_count": 350,
   "metadata": {},
   "outputs": [
    {
     "data": {
      "text/plain": [
       "Commercial Health Plan        0.372908\n",
       "Medicare                      0.294020\n",
       "Other Payer - Type Unknown    0.211485\n",
       "Medicaid                      0.041032\n",
       "Other Government Program      0.036959\n",
       "Patient Assistance Program    0.034139\n",
       "Self Pay                      0.008973\n",
       "Workers Compensation          0.000484\n",
       "Name: PayerCategory, dtype: float64"
      ]
     },
     "execution_count": 350,
     "metadata": {},
     "output_type": "execute_result"
    }
   ],
   "source": [
    "insurance_win['PayerCategory'].value_counts(normalize = True, dropna = False)"
   ]
  },
  {
   "cell_type": "markdown",
   "metadata": {},
   "source": [
    "#### 6.1 Commerical"
   ]
  },
  {
   "cell_type": "code",
   "execution_count": 351,
   "metadata": {},
   "outputs": [
    {
     "name": "stderr",
     "output_type": "stream",
     "text": [
      "/Applications/anaconda3/lib/python3.7/site-packages/pandas/core/indexing.py:1667: SettingWithCopyWarning: \n",
      "A value is trying to be set on a copy of a slice from a DataFrame.\n",
      "Try using .loc[row_indexer,col_indexer] = value instead\n",
      "\n",
      "See the caveats in the documentation: https://pandas.pydata.org/pandas-docs/stable/user_guide/indexing.html#returning-a-view-versus-a-copy\n",
      "  self.obj[key] = value\n"
     ]
    }
   ],
   "source": [
    "insurance_win.loc[:, 'commercial'] = np.where(insurance_win['PayerCategory'] == 'Commercial Health Plan', 1, 0)"
   ]
  },
  {
   "cell_type": "markdown",
   "metadata": {},
   "source": [
    "#### 6.2 Medicare"
   ]
  },
  {
   "cell_type": "code",
   "execution_count": 352,
   "metadata": {},
   "outputs": [],
   "source": [
    "insurance_win.loc[:, 'medicare'] = np.where(insurance_win['PayerCategory'] == 'Medicare', 1, 0)"
   ]
  },
  {
   "cell_type": "markdown",
   "metadata": {},
   "source": [
    "#### 6.3 Medicaid"
   ]
  },
  {
   "cell_type": "code",
   "execution_count": 353,
   "metadata": {},
   "outputs": [],
   "source": [
    "insurance_win.loc[:, 'medicaid'] = np.where(insurance_win['PayerCategory'] == 'Medicaid', 1, 0)"
   ]
  },
  {
   "cell_type": "markdown",
   "metadata": {},
   "source": [
    "#### 6.4 Other"
   ]
  },
  {
   "cell_type": "code",
   "execution_count": 354,
   "metadata": {},
   "outputs": [],
   "source": [
    "insurance_win.loc[:, 'other_insurance'] = (\n",
    "    np.where(\n",
    "        (insurance_win['PayerCategory'] != 'Commercial Health Plan') & \n",
    "        (insurance_win['PayerCategory'] != 'Medicare') &\n",
    "        (insurance_win['PayerCategory'] != 'Medicaid'), 1, 0)\n",
    ")"
   ]
  },
  {
   "cell_type": "markdown",
   "metadata": {},
   "source": [
    "#### 6.5 Condense rows "
   ]
  },
  {
   "cell_type": "code",
   "execution_count": 355,
   "metadata": {},
   "outputs": [],
   "source": [
    "# After dropping 'insurance_date_diff', add columns by PatientID.\n",
    "insurance_wide = (\n",
    "    insurance_win\n",
    "    .drop(columns = ['insurance_date_diff'])\n",
    "    .groupby('PatientID').sum()\n",
    ")"
   ]
  },
  {
   "cell_type": "code",
   "execution_count": 356,
   "metadata": {},
   "outputs": [],
   "source": [
    "# Set any value greater than 1 to 1; leave 0 unchanged. \n",
    "insurance_wide = (\n",
    "    insurance_wide\n",
    "    .mask(insurance_wide > 1, 1)\n",
    "    .reset_index()\n",
    ")"
   ]
  },
  {
   "cell_type": "code",
   "execution_count": 357,
   "metadata": {},
   "outputs": [
    {
     "data": {
      "text/plain": [
       "(40215, 40215)"
      ]
     },
     "execution_count": 357,
     "metadata": {},
     "output_type": "execute_result"
    }
   ],
   "source": [
    "row_ID(insurance_wide)"
   ]
  },
  {
   "cell_type": "code",
   "execution_count": 358,
   "metadata": {},
   "outputs": [],
   "source": [
    "# Append missing training IDs.\n",
    "insurance_wide = (\n",
    "    insurance_wide\n",
    "    .append(\n",
    "        pd.Series(train_IDs)[~pd.Series(train_IDs).isin(insurance_wide['PatientID'])].to_frame(name = 'PatientID'),\n",
    "        sort = False)\n",
    ")"
   ]
  },
  {
   "cell_type": "code",
   "execution_count": 359,
   "metadata": {},
   "outputs": [
    {
     "data": {
      "text/plain": [
       "(54786, 54786)"
      ]
     },
     "execution_count": 359,
     "metadata": {},
     "output_type": "execute_result"
    }
   ],
   "source": [
    "row_ID(insurance_wide)"
   ]
  },
  {
   "cell_type": "code",
   "execution_count": 360,
   "metadata": {},
   "outputs": [],
   "source": [
    "insurance_wide = insurance_wide.fillna(0)"
   ]
  },
  {
   "cell_type": "code",
   "execution_count": 361,
   "metadata": {},
   "outputs": [
    {
     "data": {
      "text/plain": [
       "0.7340378928923448"
      ]
     },
     "execution_count": 361,
     "metadata": {},
     "output_type": "execute_result"
    }
   ],
   "source": [
    "# Percent of patients with at least one insurance documented with start date prior to 30 days from advanced diagnosis.\n",
    "insurance_wide.eq(1).any(1).sum()/insurance_wide.shape[0]"
   ]
  },
  {
   "cell_type": "code",
   "execution_count": 362,
   "metadata": {},
   "outputs": [
    {
     "data": {
      "text/plain": [
       "commercial         0.403698\n",
       "medicare           0.343099\n",
       "other_insurance    0.302194\n",
       "medicaid           0.047822\n",
       "dtype: float64"
      ]
     },
     "execution_count": 362,
     "metadata": {},
     "output_type": "execute_result"
    }
   ],
   "source": [
    "# Percentage breakdown of insurance by type at time of advanced diagnosis.\n",
    "(insurance_wide.iloc[:, 1:5].sum()/insurance_wide.shape[0]).sort_values(ascending = False)"
   ]
  },
  {
   "cell_type": "code",
   "execution_count": 363,
   "metadata": {},
   "outputs": [
    {
     "data": {
      "text/html": [
       "<div>\n",
       "<style scoped>\n",
       "    .dataframe tbody tr th:only-of-type {\n",
       "        vertical-align: middle;\n",
       "    }\n",
       "\n",
       "    .dataframe tbody tr th {\n",
       "        vertical-align: top;\n",
       "    }\n",
       "\n",
       "    .dataframe thead th {\n",
       "        text-align: right;\n",
       "    }\n",
       "</style>\n",
       "<table border=\"1\" class=\"dataframe\">\n",
       "  <thead>\n",
       "    <tr style=\"text-align: right;\">\n",
       "      <th></th>\n",
       "      <th>PatientID</th>\n",
       "      <th>commercial</th>\n",
       "      <th>medicare</th>\n",
       "      <th>medicaid</th>\n",
       "      <th>other_insurance</th>\n",
       "    </tr>\n",
       "  </thead>\n",
       "  <tbody>\n",
       "    <tr>\n",
       "      <th>16691</th>\n",
       "      <td>F6AE7A8D97FFD</td>\n",
       "      <td>1.0</td>\n",
       "      <td>0.0</td>\n",
       "      <td>0.0</td>\n",
       "      <td>0.0</td>\n",
       "    </tr>\n",
       "    <tr>\n",
       "      <th>33986</th>\n",
       "      <td>FD8C2FF6E8554</td>\n",
       "      <td>1.0</td>\n",
       "      <td>0.0</td>\n",
       "      <td>0.0</td>\n",
       "      <td>0.0</td>\n",
       "    </tr>\n",
       "    <tr>\n",
       "      <th>12537</th>\n",
       "      <td>F505FA237F20D</td>\n",
       "      <td>0.0</td>\n",
       "      <td>1.0</td>\n",
       "      <td>0.0</td>\n",
       "      <td>0.0</td>\n",
       "    </tr>\n",
       "    <tr>\n",
       "      <th>5717</th>\n",
       "      <td>F246EC3E3510F</td>\n",
       "      <td>0.0</td>\n",
       "      <td>1.0</td>\n",
       "      <td>0.0</td>\n",
       "      <td>1.0</td>\n",
       "    </tr>\n",
       "    <tr>\n",
       "      <th>41004</th>\n",
       "      <td>F2E277B657CCB</td>\n",
       "      <td>0.0</td>\n",
       "      <td>0.0</td>\n",
       "      <td>0.0</td>\n",
       "      <td>0.0</td>\n",
       "    </tr>\n",
       "  </tbody>\n",
       "</table>\n",
       "</div>"
      ],
      "text/plain": [
       "           PatientID  commercial  medicare  medicaid  other_insurance\n",
       "16691  F6AE7A8D97FFD         1.0       0.0       0.0              0.0\n",
       "33986  FD8C2FF6E8554         1.0       0.0       0.0              0.0\n",
       "12537  F505FA237F20D         0.0       1.0       0.0              0.0\n",
       "5717   F246EC3E3510F         0.0       1.0       0.0              1.0\n",
       "41004  F2E277B657CCB         0.0       0.0       0.0              0.0"
      ]
     },
     "execution_count": 363,
     "metadata": {},
     "output_type": "execute_result"
    }
   ],
   "source": [
    "insurance_wide.sample(5)"
   ]
  },
  {
   "cell_type": "code",
   "execution_count": 364,
   "metadata": {},
   "outputs": [
    {
     "name": "stdout",
     "output_type": "stream",
     "text": [
      "Variable         Type         Data/Info\n",
      "---------------------------------------\n",
      "biomarker_wide   DataFrame               PatientID     <...>n[54786 rows x 8 columns]\n",
      "demographics     DataFrame               PatientID Prac<...>n[54786 rows x 7 columns]\n",
      "enhanced_adv     DataFrame               PatientID diag<...>n[54786 rows x 9 columns]\n",
      "insurance        DataFrame                PatientID    <...>n[97619 rows x 6 columns]\n",
      "insurance_wide   DataFrame               PatientID  com<...>n[54786 rows x 5 columns]\n",
      "insurance_win    DataFrame                PatientID    <...>[70213 rows x 10 columns]\n",
      "med_admin_wide   DataFrame               PatientID  ste<...>[54786 rows x 14 columns]\n",
      "mortality        DataFrame               PatientID  dea<...>n[54786 rows x 3 columns]\n",
      "telemedicine     DataFrame               PatientID   Vi<...>n[16712 rows x 2 columns]\n",
      "visit            DataFrame                 PatientID   <...>2446952 rows x 6 columns]\n"
     ]
    }
   ],
   "source": [
    "%whos DataFrame"
   ]
  },
  {
   "cell_type": "code",
   "execution_count": 365,
   "metadata": {},
   "outputs": [],
   "source": [
    "# Keep insurance_wide.\n",
    "del insurance\n",
    "del insurance_win"
   ]
  },
  {
   "cell_type": "markdown",
   "metadata": {},
   "source": [
    "### 7. ECOG"
   ]
  },
  {
   "cell_type": "code",
   "execution_count": 366,
   "metadata": {},
   "outputs": [],
   "source": [
    "ecog = pd.read_csv('ECOG.csv')"
   ]
  },
  {
   "cell_type": "code",
   "execution_count": 367,
   "metadata": {},
   "outputs": [],
   "source": [
    "baseline_ecog = pd.read_csv ('BaselineECOG.csv')"
   ]
  },
  {
   "cell_type": "code",
   "execution_count": 368,
   "metadata": {
    "scrolled": true
   },
   "outputs": [
    {
     "data": {
      "text/html": [
       "<div>\n",
       "<style scoped>\n",
       "    .dataframe tbody tr th:only-of-type {\n",
       "        vertical-align: middle;\n",
       "    }\n",
       "\n",
       "    .dataframe tbody tr th {\n",
       "        vertical-align: top;\n",
       "    }\n",
       "\n",
       "    .dataframe thead th {\n",
       "        text-align: right;\n",
       "    }\n",
       "</style>\n",
       "<table border=\"1\" class=\"dataframe\">\n",
       "  <thead>\n",
       "    <tr style=\"text-align: right;\">\n",
       "      <th></th>\n",
       "      <th>PatientID</th>\n",
       "      <th>EcogDate</th>\n",
       "      <th>EcogValue</th>\n",
       "    </tr>\n",
       "  </thead>\n",
       "  <tbody>\n",
       "    <tr>\n",
       "      <th>555602</th>\n",
       "      <td>F41BA02D1DE1C</td>\n",
       "      <td>2019-07-17</td>\n",
       "      <td>1</td>\n",
       "    </tr>\n",
       "    <tr>\n",
       "      <th>495324</th>\n",
       "      <td>F3BD3C3202405</td>\n",
       "      <td>2020-12-31</td>\n",
       "      <td>3</td>\n",
       "    </tr>\n",
       "    <tr>\n",
       "      <th>388732</th>\n",
       "      <td>F6E02E6B2965B</td>\n",
       "      <td>2019-05-20</td>\n",
       "      <td>0</td>\n",
       "    </tr>\n",
       "    <tr>\n",
       "      <th>639448</th>\n",
       "      <td>FA53ED55E85E1</td>\n",
       "      <td>2020-09-23</td>\n",
       "      <td>1</td>\n",
       "    </tr>\n",
       "    <tr>\n",
       "      <th>334311</th>\n",
       "      <td>F30A25B965A9A</td>\n",
       "      <td>2017-12-28</td>\n",
       "      <td>0</td>\n",
       "    </tr>\n",
       "  </tbody>\n",
       "</table>\n",
       "</div>"
      ],
      "text/plain": [
       "            PatientID    EcogDate  EcogValue\n",
       "555602  F41BA02D1DE1C  2019-07-17          1\n",
       "495324  F3BD3C3202405  2020-12-31          3\n",
       "388732  F6E02E6B2965B  2019-05-20          0\n",
       "639448  FA53ED55E85E1  2020-09-23          1\n",
       "334311  F30A25B965A9A  2017-12-28          0"
      ]
     },
     "execution_count": 368,
     "metadata": {},
     "output_type": "execute_result"
    }
   ],
   "source": [
    "ecog.sample(5)"
   ]
  },
  {
   "cell_type": "code",
   "execution_count": 369,
   "metadata": {},
   "outputs": [
    {
     "name": "stdout",
     "output_type": "stream",
     "text": [
      "<class 'pandas.core.frame.DataFrame'>\n",
      "RangeIndex: 822210 entries, 0 to 822209\n",
      "Data columns (total 3 columns):\n",
      " #   Column     Non-Null Count   Dtype \n",
      "---  ------     --------------   ----- \n",
      " 0   PatientID  822210 non-null  object\n",
      " 1   EcogDate   822210 non-null  object\n",
      " 2   EcogValue  822210 non-null  int64 \n",
      "dtypes: int64(1), object(2)\n",
      "memory usage: 18.8+ MB\n"
     ]
    }
   ],
   "source": [
    "ecog.info()"
   ]
  },
  {
   "cell_type": "code",
   "execution_count": 370,
   "metadata": {},
   "outputs": [
    {
     "data": {
      "text/plain": [
       "(822210, 48418)"
      ]
     },
     "execution_count": 370,
     "metadata": {},
     "output_type": "execute_result"
    }
   ],
   "source": [
    "row_ID(ecog)"
   ]
  },
  {
   "cell_type": "code",
   "execution_count": 371,
   "metadata": {},
   "outputs": [],
   "source": [
    "ecog = ecog[ecog['PatientID'].isin(train_IDs)]"
   ]
  },
  {
   "cell_type": "code",
   "execution_count": 372,
   "metadata": {},
   "outputs": [
    {
     "data": {
      "text/plain": [
       "(658153, 38668)"
      ]
     },
     "execution_count": 372,
     "metadata": {},
     "output_type": "execute_result"
    }
   ],
   "source": [
    "row_ID(ecog)"
   ]
  },
  {
   "cell_type": "code",
   "execution_count": 373,
   "metadata": {},
   "outputs": [
    {
     "data": {
      "text/plain": [
       "1    0.487327\n",
       "0    0.297527\n",
       "2    0.171106\n",
       "3    0.041533\n",
       "4    0.002507\n",
       "Name: EcogValue, dtype: float64"
      ]
     },
     "execution_count": 373,
     "metadata": {},
     "output_type": "execute_result"
    }
   ],
   "source": [
    "ecog['EcogValue'].value_counts(normalize = True, dropna = False)"
   ]
  },
  {
   "cell_type": "code",
   "execution_count": 374,
   "metadata": {},
   "outputs": [
    {
     "data": {
      "text/html": [
       "<div>\n",
       "<style scoped>\n",
       "    .dataframe tbody tr th:only-of-type {\n",
       "        vertical-align: middle;\n",
       "    }\n",
       "\n",
       "    .dataframe tbody tr th {\n",
       "        vertical-align: top;\n",
       "    }\n",
       "\n",
       "    .dataframe thead th {\n",
       "        text-align: right;\n",
       "    }\n",
       "</style>\n",
       "<table border=\"1\" class=\"dataframe\">\n",
       "  <thead>\n",
       "    <tr style=\"text-align: right;\">\n",
       "      <th></th>\n",
       "      <th>PatientID</th>\n",
       "      <th>ECOGSource</th>\n",
       "      <th>LineNumber</th>\n",
       "      <th>LineStartDate</th>\n",
       "      <th>ECOGValue</th>\n",
       "      <th>ECOGDate</th>\n",
       "      <th>EnhancedCohort</th>\n",
       "    </tr>\n",
       "  </thead>\n",
       "  <tbody>\n",
       "    <tr>\n",
       "      <th>30716</th>\n",
       "      <td>F3BB4751495B6</td>\n",
       "      <td>Structured</td>\n",
       "      <td>3</td>\n",
       "      <td>2016-12-07</td>\n",
       "      <td>1</td>\n",
       "      <td>2016-11-09</td>\n",
       "      <td>AdvancedNSCLC</td>\n",
       "    </tr>\n",
       "    <tr>\n",
       "      <th>1281</th>\n",
       "      <td>FF933564A7790</td>\n",
       "      <td>Extracted</td>\n",
       "      <td>7</td>\n",
       "      <td>2016-01-26</td>\n",
       "      <td>1</td>\n",
       "      <td>2016-01-26</td>\n",
       "      <td>AdvancedNSCLC</td>\n",
       "    </tr>\n",
       "    <tr>\n",
       "      <th>2530</th>\n",
       "      <td>F4CE09A979274</td>\n",
       "      <td>Structured</td>\n",
       "      <td>2</td>\n",
       "      <td>2014-10-06</td>\n",
       "      <td>2</td>\n",
       "      <td>2014-10-06</td>\n",
       "      <td>AdvancedNSCLC</td>\n",
       "    </tr>\n",
       "    <tr>\n",
       "      <th>1603</th>\n",
       "      <td>FCE024062CACF</td>\n",
       "      <td>Extracted</td>\n",
       "      <td>1</td>\n",
       "      <td>2017-02-22</td>\n",
       "      <td>2</td>\n",
       "      <td>2017-02-03</td>\n",
       "      <td>AdvancedNSCLC</td>\n",
       "    </tr>\n",
       "    <tr>\n",
       "      <th>88963</th>\n",
       "      <td>F6CCDC72D01BE</td>\n",
       "      <td>Structured</td>\n",
       "      <td>4</td>\n",
       "      <td>2016-10-17</td>\n",
       "      <td>0</td>\n",
       "      <td>2016-10-17</td>\n",
       "      <td>AdvancedNSCLC</td>\n",
       "    </tr>\n",
       "  </tbody>\n",
       "</table>\n",
       "</div>"
      ],
      "text/plain": [
       "           PatientID  ECOGSource  LineNumber LineStartDate ECOGValue  \\\n",
       "30716  F3BB4751495B6  Structured           3    2016-12-07         1   \n",
       "1281   FF933564A7790   Extracted           7    2016-01-26         1   \n",
       "2530   F4CE09A979274  Structured           2    2014-10-06         2   \n",
       "1603   FCE024062CACF   Extracted           1    2017-02-22         2   \n",
       "88963  F6CCDC72D01BE  Structured           4    2016-10-17         0   \n",
       "\n",
       "         ECOGDate EnhancedCohort  \n",
       "30716  2016-11-09  AdvancedNSCLC  \n",
       "1281   2016-01-26  AdvancedNSCLC  \n",
       "2530   2014-10-06  AdvancedNSCLC  \n",
       "1603   2017-02-03  AdvancedNSCLC  \n",
       "88963  2016-10-17  AdvancedNSCLC  "
      ]
     },
     "execution_count": 374,
     "metadata": {},
     "output_type": "execute_result"
    }
   ],
   "source": [
    "baseline_ecog.sample(5)"
   ]
  },
  {
   "cell_type": "code",
   "execution_count": 375,
   "metadata": {},
   "outputs": [
    {
     "name": "stdout",
     "output_type": "stream",
     "text": [
      "<class 'pandas.core.frame.DataFrame'>\n",
      "RangeIndex: 95320 entries, 0 to 95319\n",
      "Data columns (total 7 columns):\n",
      " #   Column          Non-Null Count  Dtype \n",
      "---  ------          --------------  ----- \n",
      " 0   PatientID       95320 non-null  object\n",
      " 1   ECOGSource      95320 non-null  object\n",
      " 2   LineNumber      95320 non-null  int64 \n",
      " 3   LineStartDate   95320 non-null  object\n",
      " 4   ECOGValue       95320 non-null  object\n",
      " 5   ECOGDate        73595 non-null  object\n",
      " 6   EnhancedCohort  95320 non-null  object\n",
      "dtypes: int64(1), object(6)\n",
      "memory usage: 5.1+ MB\n"
     ]
    }
   ],
   "source": [
    "baseline_ecog.info()"
   ]
  },
  {
   "cell_type": "code",
   "execution_count": 376,
   "metadata": {},
   "outputs": [
    {
     "data": {
      "text/plain": [
       "(95320, 49820)"
      ]
     },
     "execution_count": 376,
     "metadata": {},
     "output_type": "execute_result"
    }
   ],
   "source": [
    "row_ID(baseline_ecog)"
   ]
  },
  {
   "cell_type": "code",
   "execution_count": 377,
   "metadata": {},
   "outputs": [],
   "source": [
    "baseline_ecog = baseline_ecog[baseline_ecog['PatientID'].isin(train_IDs)]"
   ]
  },
  {
   "cell_type": "code",
   "execution_count": 378,
   "metadata": {},
   "outputs": [
    {
     "data": {
      "text/plain": [
       "(76128, 39828)"
      ]
     },
     "execution_count": 378,
     "metadata": {},
     "output_type": "execute_result"
    }
   ],
   "source": [
    "row_ID(baseline_ecog)"
   ]
  },
  {
   "cell_type": "markdown",
   "metadata": {},
   "source": [
    "**The ECOG table is a longitudinal record of structured ECOG scores captured in the EHR for each patient. Many patients have multiple ECOG scores reported. A new dataframe will be built where one ECOG score will be assigned to each patient. The index date will be date of advanced diagnosis with an elgible window period of +30 days to -90 days from advanced diagnosis. The ECOG score closest to index date will be assigned to the patient. In the case of two ECOG scores on the same day or equidistant but on opposite sides of the index date, the higher ECOG score (worse performance) will be selected.** \n",
    "\n",
    "**BaselineECOG is a composite table that selects one ECOG score within +7 days and -30 days of a line of therapy. Of note, patients might have two baseline ECOG values for line number 1 due to maintenance therapy. BaselineECOG will not be used for creating baseline models.** "
   ]
  },
  {
   "cell_type": "markdown",
   "metadata": {},
   "source": [
    "#### 7.1 ECOG at time of advanced diagnosis"
   ]
  },
  {
   "cell_type": "code",
   "execution_count": 379,
   "metadata": {},
   "outputs": [],
   "source": [
    "ecog = pd.merge(ecog, enhanced_adv[['PatientID', 'adv_date']], on = 'PatientID', how = 'left')"
   ]
  },
  {
   "cell_type": "code",
   "execution_count": 380,
   "metadata": {},
   "outputs": [],
   "source": [
    "ecog.loc[:, 'EcogDate'] = pd.to_datetime(ecog['EcogDate'])      "
   ]
  },
  {
   "cell_type": "code",
   "execution_count": 381,
   "metadata": {},
   "outputs": [],
   "source": [
    "ecog.loc[:, 'ecog_date_diff'] = (ecog['EcogDate'] - ecog['adv_date']).dt.days"
   ]
  },
  {
   "cell_type": "code",
   "execution_count": 382,
   "metadata": {},
   "outputs": [],
   "source": [
    "ecog_win = ecog[(ecog['ecog_date_diff'] >= -90) & (ecog['ecog_date_diff'] <= 30)]"
   ]
  },
  {
   "cell_type": "code",
   "execution_count": 383,
   "metadata": {},
   "outputs": [
    {
     "data": {
      "text/plain": [
       "(65714, 25767)"
      ]
     },
     "execution_count": 383,
     "metadata": {},
     "output_type": "execute_result"
    }
   ],
   "source": [
    "row_ID(ecog_win)"
   ]
  },
  {
   "cell_type": "code",
   "execution_count": 384,
   "metadata": {},
   "outputs": [
    {
     "name": "stderr",
     "output_type": "stream",
     "text": [
      "/Applications/anaconda3/lib/python3.7/site-packages/pandas/core/indexing.py:1773: SettingWithCopyWarning: \n",
      "A value is trying to be set on a copy of a slice from a DataFrame.\n",
      "Try using .loc[row_indexer,col_indexer] = value instead\n",
      "\n",
      "See the caveats in the documentation: https://pandas.pydata.org/pandas-docs/stable/user_guide/indexing.html#returning-a-view-versus-a-copy\n",
      "  self._setitem_single_column(ilocs[0], value, pi)\n"
     ]
    }
   ],
   "source": [
    "# Delta in ECOG date and advanced diagnosis will be converted to an absolute value. \n",
    "ecog_win.loc[:, 'ecog_date_diff'] = ecog_win['ecog_date_diff'].abs()"
   ]
  },
  {
   "cell_type": "code",
   "execution_count": 385,
   "metadata": {},
   "outputs": [],
   "source": [
    "# Sort values with ECOG nearest to time of diagnosis as top row (and largest ECOG if multiple ECOGs that day) then select top row.   ECOG date nearest to day of diagnosis as top row and largest ES\n",
    "ecog_diagnosis_wide = (\n",
    "    ecog_win\n",
    "    .sort_values(by = ['PatientID', 'ecog_date_diff', 'EcogValue'], ascending = [True, True, False])\n",
    "    .drop_duplicates(subset = ['PatientID'], keep = 'first' )\n",
    "    .filter(items = ['PatientID', 'EcogValue'])\n",
    "    .rename(columns = {'EcogValue': 'ecog_diagnosis'})\n",
    ")"
   ]
  },
  {
   "cell_type": "code",
   "execution_count": 386,
   "metadata": {},
   "outputs": [
    {
     "data": {
      "text/plain": [
       "(25767, 25767)"
      ]
     },
     "execution_count": 386,
     "metadata": {},
     "output_type": "execute_result"
    }
   ],
   "source": [
    "row_ID(ecog_diagnosis_wide)"
   ]
  },
  {
   "cell_type": "code",
   "execution_count": 387,
   "metadata": {},
   "outputs": [
    {
     "data": {
      "text/plain": [
       "1    0.446152\n",
       "0    0.323243\n",
       "2    0.177126\n",
       "3    0.050879\n",
       "4    0.002600\n",
       "Name: ecog_diagnosis, dtype: float64"
      ]
     },
     "execution_count": 387,
     "metadata": {},
     "output_type": "execute_result"
    }
   ],
   "source": [
    "ecog_diagnosis_wide['ecog_diagnosis'].value_counts(normalize = True, dropna = False)"
   ]
  },
  {
   "cell_type": "code",
   "execution_count": 388,
   "metadata": {},
   "outputs": [],
   "source": [
    "# Append missing training IDs. \n",
    "ecog_diagnosis_wide = (\n",
    "    ecog_diagnosis_wide\n",
    "    .append(\n",
    "        pd.Series(train_IDs)[~pd.Series(train_IDs).isin(ecog_diagnosis_wide['PatientID'])].to_frame(name = 'PatientID'),\n",
    "        sort = False)\n",
    "    .fillna('unknown')\n",
    ")"
   ]
  },
  {
   "cell_type": "code",
   "execution_count": 389,
   "metadata": {},
   "outputs": [
    {
     "data": {
      "text/plain": [
       "(54786, 54786)"
      ]
     },
     "execution_count": 389,
     "metadata": {},
     "output_type": "execute_result"
    }
   ],
   "source": [
    "row_ID(ecog_diagnosis_wide)"
   ]
  },
  {
   "cell_type": "code",
   "execution_count": 390,
   "metadata": {},
   "outputs": [
    {
     "data": {
      "text/html": [
       "<div>\n",
       "<style scoped>\n",
       "    .dataframe tbody tr th:only-of-type {\n",
       "        vertical-align: middle;\n",
       "    }\n",
       "\n",
       "    .dataframe tbody tr th {\n",
       "        vertical-align: top;\n",
       "    }\n",
       "\n",
       "    .dataframe thead th {\n",
       "        text-align: right;\n",
       "    }\n",
       "</style>\n",
       "<table border=\"1\" class=\"dataframe\">\n",
       "  <thead>\n",
       "    <tr style=\"text-align: right;\">\n",
       "      <th></th>\n",
       "      <th>PatientID</th>\n",
       "      <th>ecog_diagnosis</th>\n",
       "    </tr>\n",
       "  </thead>\n",
       "  <tbody>\n",
       "    <tr>\n",
       "      <th>41466</th>\n",
       "      <td>F5DE13E5CEDF8</td>\n",
       "      <td>1.0</td>\n",
       "    </tr>\n",
       "    <tr>\n",
       "      <th>16416</th>\n",
       "      <td>FFEC4306AA08E</td>\n",
       "      <td>unknown</td>\n",
       "    </tr>\n",
       "    <tr>\n",
       "      <th>420938</th>\n",
       "      <td>F3BE3E07257E0</td>\n",
       "      <td>1.0</td>\n",
       "    </tr>\n",
       "    <tr>\n",
       "      <th>4376</th>\n",
       "      <td>F1F9BC761356D</td>\n",
       "      <td>unknown</td>\n",
       "    </tr>\n",
       "    <tr>\n",
       "      <th>5501</th>\n",
       "      <td>FFB630C8A71A9</td>\n",
       "      <td>unknown</td>\n",
       "    </tr>\n",
       "  </tbody>\n",
       "</table>\n",
       "</div>"
      ],
      "text/plain": [
       "            PatientID ecog_diagnosis\n",
       "41466   F5DE13E5CEDF8            1.0\n",
       "16416   FFEC4306AA08E        unknown\n",
       "420938  F3BE3E07257E0            1.0\n",
       "4376    F1F9BC761356D        unknown\n",
       "5501    FFB630C8A71A9        unknown"
      ]
     },
     "execution_count": 390,
     "metadata": {},
     "output_type": "execute_result"
    }
   ],
   "source": [
    "ecog_diagnosis_wide.sample(5)"
   ]
  },
  {
   "cell_type": "code",
   "execution_count": 391,
   "metadata": {},
   "outputs": [
    {
     "data": {
      "text/plain": [
       "unknown    0.529679\n",
       "1.0        0.209835\n",
       "0.0        0.152028\n",
       "2.0        0.083306\n",
       "3.0        0.023929\n",
       "4.0        0.001223\n",
       "Name: ecog_diagnosis, dtype: float64"
      ]
     },
     "execution_count": 391,
     "metadata": {},
     "output_type": "execute_result"
    }
   ],
   "source": [
    "ecog_diagnosis_wide['ecog_diagnosis'].value_counts(normalize = True, dropna = False)"
   ]
  },
  {
   "cell_type": "markdown",
   "metadata": {},
   "source": [
    "**About half of the patients in the training set do not have a ECOG score at time of advanced diagnosis using a window of -90 to +30 days from advanced diagnosis. The most common ECOG score is 1 during this window period. If the window period is extended to -90 days to +90 days from index date, unknown ECOG scores drops by about 11%. For now, we'll continue with the previously defined window period of -90 days to +30 days from advanced diagnosis.** "
   ]
  },
  {
   "cell_type": "code",
   "execution_count": 392,
   "metadata": {},
   "outputs": [
    {
     "name": "stdout",
     "output_type": "stream",
     "text": [
      "Variable              Type         Data/Info\n",
      "--------------------------------------------\n",
      "baseline_ecog         DataFrame               PatientID ECOG<...>n[76128 rows x 7 columns]\n",
      "biomarker_wide        DataFrame               PatientID     <...>n[54786 rows x 8 columns]\n",
      "demographics          DataFrame               PatientID Prac<...>n[54786 rows x 7 columns]\n",
      "ecog                  DataFrame                PatientID   E<...>[658153 rows x 5 columns]\n",
      "ecog_diagnosis_wide   DataFrame                PatientID eco<...>n[54786 rows x 2 columns]\n",
      "ecog_win              DataFrame                PatientID   E<...>n[65714 rows x 5 columns]\n",
      "enhanced_adv          DataFrame               PatientID diag<...>n[54786 rows x 9 columns]\n",
      "insurance_wide        DataFrame               PatientID  com<...>n[54786 rows x 5 columns]\n",
      "med_admin_wide        DataFrame               PatientID  ste<...>[54786 rows x 14 columns]\n",
      "mortality             DataFrame               PatientID  dea<...>n[54786 rows x 3 columns]\n",
      "telemedicine          DataFrame               PatientID   Vi<...>n[16712 rows x 2 columns]\n",
      "visit                 DataFrame                 PatientID   <...>2446952 rows x 6 columns]\n"
     ]
    }
   ],
   "source": [
    "%whos DataFrame"
   ]
  },
  {
   "cell_type": "code",
   "execution_count": 393,
   "metadata": {},
   "outputs": [],
   "source": [
    "# Keep ecog_diagnosis_wide \n",
    "del baseline_ecog \n",
    "del ecog \n",
    "del ecog_win "
   ]
  },
  {
   "cell_type": "markdown",
   "metadata": {},
   "source": [
    "### 8. Vitals"
   ]
  },
  {
   "cell_type": "code",
   "execution_count": 394,
   "metadata": {},
   "outputs": [],
   "source": [
    "vitals = pd.read_csv('Vitals.csv')"
   ]
  },
  {
   "cell_type": "code",
   "execution_count": 395,
   "metadata": {},
   "outputs": [
    {
     "data": {
      "text/html": [
       "<div>\n",
       "<style scoped>\n",
       "    .dataframe tbody tr th:only-of-type {\n",
       "        vertical-align: middle;\n",
       "    }\n",
       "\n",
       "    .dataframe tbody tr th {\n",
       "        vertical-align: top;\n",
       "    }\n",
       "\n",
       "    .dataframe thead th {\n",
       "        text-align: right;\n",
       "    }\n",
       "</style>\n",
       "<table border=\"1\" class=\"dataframe\">\n",
       "  <thead>\n",
       "    <tr style=\"text-align: right;\">\n",
       "      <th></th>\n",
       "      <th>PatientID</th>\n",
       "      <th>TestDate</th>\n",
       "      <th>LOINC</th>\n",
       "      <th>Test</th>\n",
       "      <th>LabComponent</th>\n",
       "      <th>TestBaseName</th>\n",
       "      <th>TestUnits</th>\n",
       "      <th>TestUnitsCleaned</th>\n",
       "      <th>ResultDate</th>\n",
       "      <th>TestResult</th>\n",
       "      <th>TestResultCleaned</th>\n",
       "      <th>MinNorm</th>\n",
       "      <th>MinNormCleaned</th>\n",
       "      <th>MaxNorm</th>\n",
       "      <th>MaxNormCleaned</th>\n",
       "    </tr>\n",
       "  </thead>\n",
       "  <tbody>\n",
       "    <tr>\n",
       "      <th>7802278</th>\n",
       "      <td>F9C1162C91CF3</td>\n",
       "      <td>2014-05-15</td>\n",
       "      <td>8462-4</td>\n",
       "      <td>diastolic blood pressure</td>\n",
       "      <td>Diastolic blood pressure</td>\n",
       "      <td>intravascular diastolic</td>\n",
       "      <td>NaN</td>\n",
       "      <td>NaN</td>\n",
       "      <td>NaN</td>\n",
       "      <td>73</td>\n",
       "      <td>NaN</td>\n",
       "      <td>NaN</td>\n",
       "      <td>NaN</td>\n",
       "      <td>NaN</td>\n",
       "      <td>NaN</td>\n",
       "    </tr>\n",
       "    <tr>\n",
       "      <th>10785342</th>\n",
       "      <td>FD715FF4DCBF4</td>\n",
       "      <td>2012-02-10</td>\n",
       "      <td>72514-3</td>\n",
       "      <td>pain severity - 0-10 verbal numeric rating [sc...</td>\n",
       "      <td>Pain severity - 0-10 verbal numeric rating</td>\n",
       "      <td>pain severity - 0-10 verbal numeric rating</td>\n",
       "      <td>NaN</td>\n",
       "      <td>NaN</td>\n",
       "      <td>NaN</td>\n",
       "      <td>0</td>\n",
       "      <td>NaN</td>\n",
       "      <td>NaN</td>\n",
       "      <td>NaN</td>\n",
       "      <td>NaN</td>\n",
       "      <td>NaN</td>\n",
       "    </tr>\n",
       "    <tr>\n",
       "      <th>3812196</th>\n",
       "      <td>F4C2702C4E88A</td>\n",
       "      <td>2019-07-23</td>\n",
       "      <td>8462-4</td>\n",
       "      <td>diastolic blood pressure</td>\n",
       "      <td>Diastolic blood pressure</td>\n",
       "      <td>intravascular diastolic</td>\n",
       "      <td>NaN</td>\n",
       "      <td>NaN</td>\n",
       "      <td>NaN</td>\n",
       "      <td>80</td>\n",
       "      <td>NaN</td>\n",
       "      <td>NaN</td>\n",
       "      <td>NaN</td>\n",
       "      <td>NaN</td>\n",
       "      <td>NaN</td>\n",
       "    </tr>\n",
       "    <tr>\n",
       "      <th>2250001</th>\n",
       "      <td>F2D0FD92B7A40</td>\n",
       "      <td>2017-02-27</td>\n",
       "      <td>8302-2</td>\n",
       "      <td>body height</td>\n",
       "      <td>Body Height</td>\n",
       "      <td>body height</td>\n",
       "      <td>cm</td>\n",
       "      <td>cm</td>\n",
       "      <td>NaN</td>\n",
       "      <td>183</td>\n",
       "      <td>183.0</td>\n",
       "      <td>NaN</td>\n",
       "      <td>NaN</td>\n",
       "      <td>NaN</td>\n",
       "      <td>NaN</td>\n",
       "    </tr>\n",
       "    <tr>\n",
       "      <th>9072703</th>\n",
       "      <td>FB4F1A1CA6235</td>\n",
       "      <td>2013-09-19</td>\n",
       "      <td>8302-2</td>\n",
       "      <td>body height</td>\n",
       "      <td>Body Height</td>\n",
       "      <td>body height</td>\n",
       "      <td>in</td>\n",
       "      <td>cm</td>\n",
       "      <td>NaN</td>\n",
       "      <td>70.000</td>\n",
       "      <td>177.8</td>\n",
       "      <td>NaN</td>\n",
       "      <td>NaN</td>\n",
       "      <td>NaN</td>\n",
       "      <td>NaN</td>\n",
       "    </tr>\n",
       "  </tbody>\n",
       "</table>\n",
       "</div>"
      ],
      "text/plain": [
       "              PatientID    TestDate    LOINC  \\\n",
       "7802278   F9C1162C91CF3  2014-05-15   8462-4   \n",
       "10785342  FD715FF4DCBF4  2012-02-10  72514-3   \n",
       "3812196   F4C2702C4E88A  2019-07-23   8462-4   \n",
       "2250001   F2D0FD92B7A40  2017-02-27   8302-2   \n",
       "9072703   FB4F1A1CA6235  2013-09-19   8302-2   \n",
       "\n",
       "                                                       Test  \\\n",
       "7802278                            diastolic blood pressure   \n",
       "10785342  pain severity - 0-10 verbal numeric rating [sc...   \n",
       "3812196                            diastolic blood pressure   \n",
       "2250001                                         body height   \n",
       "9072703                                         body height   \n",
       "\n",
       "                                        LabComponent  \\\n",
       "7802278                     Diastolic blood pressure   \n",
       "10785342  Pain severity - 0-10 verbal numeric rating   \n",
       "3812196                     Diastolic blood pressure   \n",
       "2250001                                  Body Height   \n",
       "9072703                                  Body Height   \n",
       "\n",
       "                                        TestBaseName TestUnits  \\\n",
       "7802278                      intravascular diastolic       NaN   \n",
       "10785342  pain severity - 0-10 verbal numeric rating       NaN   \n",
       "3812196                      intravascular diastolic       NaN   \n",
       "2250001                                  body height        cm   \n",
       "9072703                                  body height        in   \n",
       "\n",
       "         TestUnitsCleaned ResultDate TestResult  TestResultCleaned  MinNorm  \\\n",
       "7802278               NaN        NaN         73                NaN      NaN   \n",
       "10785342              NaN        NaN          0                NaN      NaN   \n",
       "3812196               NaN        NaN         80                NaN      NaN   \n",
       "2250001                cm        NaN        183              183.0      NaN   \n",
       "9072703                cm        NaN     70.000              177.8      NaN   \n",
       "\n",
       "          MinNormCleaned  MaxNorm  MaxNormCleaned  \n",
       "7802278              NaN      NaN             NaN  \n",
       "10785342             NaN      NaN             NaN  \n",
       "3812196              NaN      NaN             NaN  \n",
       "2250001              NaN      NaN             NaN  \n",
       "9072703              NaN      NaN             NaN  "
      ]
     },
     "execution_count": 395,
     "metadata": {},
     "output_type": "execute_result"
    }
   ],
   "source": [
    "vitals.sample(5)"
   ]
  },
  {
   "cell_type": "code",
   "execution_count": 396,
   "metadata": {},
   "outputs": [
    {
     "name": "stdout",
     "output_type": "stream",
     "text": [
      "<class 'pandas.core.frame.DataFrame'>\n",
      "RangeIndex: 12814491 entries, 0 to 12814490\n",
      "Data columns (total 15 columns):\n",
      " #   Column             Dtype  \n",
      "---  ------             -----  \n",
      " 0   PatientID          object \n",
      " 1   TestDate           object \n",
      " 2   LOINC              object \n",
      " 3   Test               object \n",
      " 4   LabComponent       object \n",
      " 5   TestBaseName       object \n",
      " 6   TestUnits          object \n",
      " 7   TestUnitsCleaned   object \n",
      " 8   ResultDate         object \n",
      " 9   TestResult         object \n",
      " 10  TestResultCleaned  float64\n",
      " 11  MinNorm            float64\n",
      " 12  MinNormCleaned     float64\n",
      " 13  MaxNorm            float64\n",
      " 14  MaxNormCleaned     float64\n",
      "dtypes: float64(5), object(10)\n",
      "memory usage: 1.4+ GB\n"
     ]
    }
   ],
   "source": [
    "vitals.info()"
   ]
  },
  {
   "cell_type": "code",
   "execution_count": 397,
   "metadata": {},
   "outputs": [
    {
     "data": {
      "text/plain": [
       "(12814491, 68313)"
      ]
     },
     "execution_count": 397,
     "metadata": {},
     "output_type": "execute_result"
    }
   ],
   "source": [
    "row_ID(vitals)"
   ]
  },
  {
   "cell_type": "code",
   "execution_count": 398,
   "metadata": {},
   "outputs": [],
   "source": [
    "vitals = vitals[vitals['PatientID'].isin(train_IDs)]"
   ]
  },
  {
   "cell_type": "code",
   "execution_count": 399,
   "metadata": {},
   "outputs": [
    {
     "data": {
      "text/plain": [
       "(10280765, 54645)"
      ]
     },
     "execution_count": 399,
     "metadata": {},
     "output_type": "execute_result"
    }
   ],
   "source": [
    "row_ID(vitals)"
   ]
  },
  {
   "cell_type": "code",
   "execution_count": 400,
   "metadata": {},
   "outputs": [
    {
     "data": {
      "text/plain": [
       "heart rate                                                       0.192997\n",
       "body temperature                                                 0.152707\n",
       "body weight                                                      0.134980\n",
       "systolic blood pressure                                          0.126764\n",
       "diastolic blood pressure                                         0.126576\n",
       "body height                                                      0.118379\n",
       "oxygen saturation in arterial blood by pulse oximetry            0.088977\n",
       "respiratory rate                                                 0.038012\n",
       "pain severity - 0-10 verbal numeric rating [score] - reported    0.019295\n",
       "body surface area                                                0.001313\n",
       "Name: Test, dtype: float64"
      ]
     },
     "execution_count": 400,
     "metadata": {},
     "output_type": "execute_result"
    }
   ],
   "source": [
    "vitals['Test'].value_counts(normalize = True, dropna = False).head(10)"
   ]
  },
  {
   "cell_type": "code",
   "execution_count": 401,
   "metadata": {},
   "outputs": [
    {
     "data": {
      "text/plain": [
       "0.0"
      ]
     },
     "execution_count": 401,
     "metadata": {},
     "output_type": "execute_result"
    }
   ],
   "source": [
    "# Percent of TestDates missing. \n",
    "vitals['TestDate'].isna().sum()/len(vitals)"
   ]
  },
  {
   "cell_type": "code",
   "execution_count": 402,
   "metadata": {},
   "outputs": [
    {
     "data": {
      "text/plain": [
       "0.982664714153081"
      ]
     },
     "execution_count": 402,
     "metadata": {},
     "output_type": "execute_result"
    }
   ],
   "source": [
    "# Percent of ResultDates missing. \n",
    "vitals['ResultDate'].isna().sum()/len(vitals)"
   ]
  },
  {
   "cell_type": "markdown",
   "metadata": {},
   "source": [
    "**The Vitals table is a longitudinal record of vitals captured in the EHR for each patient. A weight and BMI variable at time of advanced diagnosis will be created. The elgibility window will be -90 days to +30 days from advanced diagnosis. Average height from all visits will be used to calculate BMI. In the case of two weights on the same day or equidistant but on opposite sides of the index date, the lowest weight will be selected. Percent change in weight and weight slope 3 months within advanced diagnosis will be calculated as in the LCPI model. Patients must have at least two weight recordings to calculate percent change in weight or weight slope.** "
   ]
  },
  {
   "cell_type": "markdown",
   "metadata": {},
   "source": [
    "#### 8.1 Weight  and BMI"
   ]
  },
  {
   "cell_type": "code",
   "execution_count": 403,
   "metadata": {},
   "outputs": [],
   "source": [
    "# Create weight dataframe; remove weight values that are empty or equal to zero.\n",
    "weight = (\n",
    "    vitals\n",
    "    .query('Test == \"body weight\"')\n",
    "    .filter(items = ['PatientID', 'TestDate', 'TestResultCleaned'])\n",
    "    .rename(columns = {'TestResultCleaned': 'weight'})\n",
    "    .dropna(subset = ['weight'])\n",
    "    .query('weight != 0')\n",
    ")"
   ]
  },
  {
   "cell_type": "code",
   "execution_count": 404,
   "metadata": {},
   "outputs": [],
   "source": [
    "weight.loc[:, 'TestDate'] = pd.to_datetime(weight['TestDate'])"
   ]
  },
  {
   "cell_type": "code",
   "execution_count": 405,
   "metadata": {},
   "outputs": [],
   "source": [
    "weight = pd.merge(weight, enhanced_adv[['PatientID', 'adv_date']], on = 'PatientID', how = 'left')"
   ]
  },
  {
   "cell_type": "code",
   "execution_count": 406,
   "metadata": {},
   "outputs": [],
   "source": [
    "# Weight elgibliity window is -90 and +30 from advanced diagnosis. \n",
    "weight_win_bmi = (\n",
    "    weight\n",
    "    .assign(weight_date_diff = (weight['TestDate'] - weight['adv_date']).dt.days)\n",
    "    .query('weight_date_diff >= -90 and weight_date_diff <= 30')\n",
    ")"
   ]
  },
  {
   "cell_type": "code",
   "execution_count": 407,
   "metadata": {},
   "outputs": [
    {
     "data": {
      "text/plain": [
       "(141929, 43248)"
      ]
     },
     "execution_count": 407,
     "metadata": {},
     "output_type": "execute_result"
    }
   ],
   "source": [
    "row_ID(weight_win_bmi)"
   ]
  },
  {
   "cell_type": "code",
   "execution_count": 408,
   "metadata": {},
   "outputs": [],
   "source": [
    "weight_win_bmi.loc[:, 'weight_date_diff'] = weight_win_bmi['weight_date_diff'].abs()"
   ]
  },
  {
   "cell_type": "code",
   "execution_count": 409,
   "metadata": {},
   "outputs": [],
   "source": [
    "# Select weight closest to date of advanced diagnosis; lowest weight selected in the event of two weights on same day or equidistant. \n",
    "weight_bmi_wide = (\n",
    "    weight_win_bmi\n",
    "    .sort_values(by = ['PatientID', 'weight_date_diff', 'weight'], ascending = [True, True, True])\n",
    "    .drop_duplicates(subset = ['PatientID'], keep = 'first')\n",
    "    .filter(items = ['PatientID', 'weight'])\n",
    "    .rename(columns = {'weight': 'weight_diag'})\n",
    ")"
   ]
  },
  {
   "cell_type": "code",
   "execution_count": 410,
   "metadata": {},
   "outputs": [
    {
     "data": {
      "text/plain": [
       "(43248, 43248)"
      ]
     },
     "execution_count": 410,
     "metadata": {},
     "output_type": "execute_result"
    }
   ],
   "source": [
    "row_ID(weight_bmi_wide)"
   ]
  },
  {
   "cell_type": "code",
   "execution_count": 411,
   "metadata": {},
   "outputs": [],
   "source": [
    "# Dataframe of average height for each patient. \n",
    "height_avg = (\n",
    "    vitals\n",
    "    .query('Test == \"body height\"')\n",
    "    .filter(items = ['PatientID', 'TestResultCleaned'])\n",
    "    .groupby('PatientID')['TestResultCleaned'].mean()\n",
    "    .to_frame()\n",
    "    .reset_index()\n",
    "    .rename(columns = {'TestResultCleaned': 'height_avg'})\n",
    ")"
   ]
  },
  {
   "cell_type": "code",
   "execution_count": 412,
   "metadata": {},
   "outputs": [],
   "source": [
    "weight_bmi_wide = pd.merge(weight_bmi_wide, height_avg, on = 'PatientID', how = 'left')"
   ]
  },
  {
   "cell_type": "code",
   "execution_count": 413,
   "metadata": {},
   "outputs": [],
   "source": [
    "# Create BMI column. \n",
    "weight_bmi_wide = (\n",
    "    weight_bmi_wide\n",
    "    .assign(bmi_diag = lambda x: (x['weight_diag']/(x['height_avg']*x['height_avg']))*10000)\n",
    "    .drop(columns = ['height_avg'])\n",
    ")"
   ]
  },
  {
   "cell_type": "code",
   "execution_count": 414,
   "metadata": {},
   "outputs": [
    {
     "data": {
      "text/html": [
       "<div>\n",
       "<style scoped>\n",
       "    .dataframe tbody tr th:only-of-type {\n",
       "        vertical-align: middle;\n",
       "    }\n",
       "\n",
       "    .dataframe tbody tr th {\n",
       "        vertical-align: top;\n",
       "    }\n",
       "\n",
       "    .dataframe thead th {\n",
       "        text-align: right;\n",
       "    }\n",
       "</style>\n",
       "<table border=\"1\" class=\"dataframe\">\n",
       "  <thead>\n",
       "    <tr style=\"text-align: right;\">\n",
       "      <th></th>\n",
       "      <th>weight_diag</th>\n",
       "      <th>bmi_diag</th>\n",
       "    </tr>\n",
       "  </thead>\n",
       "  <tbody>\n",
       "    <tr>\n",
       "      <th>count</th>\n",
       "      <td>43248.000000</td>\n",
       "      <td>42875.000000</td>\n",
       "    </tr>\n",
       "    <tr>\n",
       "      <th>mean</th>\n",
       "      <td>74.513016</td>\n",
       "      <td>26.235467</td>\n",
       "    </tr>\n",
       "    <tr>\n",
       "      <th>std</th>\n",
       "      <td>19.268893</td>\n",
       "      <td>6.115963</td>\n",
       "    </tr>\n",
       "    <tr>\n",
       "      <th>min</th>\n",
       "      <td>4.989512</td>\n",
       "      <td>2.006380</td>\n",
       "    </tr>\n",
       "    <tr>\n",
       "      <th>25%</th>\n",
       "      <td>61.234920</td>\n",
       "      <td>22.198978</td>\n",
       "    </tr>\n",
       "    <tr>\n",
       "      <th>50%</th>\n",
       "      <td>72.574720</td>\n",
       "      <td>25.512747</td>\n",
       "    </tr>\n",
       "    <tr>\n",
       "      <th>75%</th>\n",
       "      <td>85.456733</td>\n",
       "      <td>29.409301</td>\n",
       "    </tr>\n",
       "    <tr>\n",
       "      <th>max</th>\n",
       "      <td>905.823224</td>\n",
       "      <td>322.863976</td>\n",
       "    </tr>\n",
       "  </tbody>\n",
       "</table>\n",
       "</div>"
      ],
      "text/plain": [
       "        weight_diag      bmi_diag\n",
       "count  43248.000000  42875.000000\n",
       "mean      74.513016     26.235467\n",
       "std       19.268893      6.115963\n",
       "min        4.989512      2.006380\n",
       "25%       61.234920     22.198978\n",
       "50%       72.574720     25.512747\n",
       "75%       85.456733     29.409301\n",
       "max      905.823224    322.863976"
      ]
     },
     "execution_count": 414,
     "metadata": {},
     "output_type": "execute_result"
    }
   ],
   "source": [
    "weight_bmi_wide.describe()"
   ]
  },
  {
   "cell_type": "code",
   "execution_count": 415,
   "metadata": {},
   "outputs": [],
   "source": [
    "# Append excluded IDs from training set and create a missing variable for those without BMI at diagnosis. \n",
    "weight_bmi_wide = (\n",
    "    weight_bmi_wide\n",
    "    .append(\n",
    "        pd.Series(train_IDs)[~pd.Series(train_IDs).isin(weight_bmi_wide['PatientID'])].to_frame(name = 'PatientID'),\n",
    "        sort = False)\n",
    ")"
   ]
  },
  {
   "cell_type": "code",
   "execution_count": 416,
   "metadata": {},
   "outputs": [
    {
     "data": {
      "text/plain": [
       "(54786, 54786)"
      ]
     },
     "execution_count": 416,
     "metadata": {},
     "output_type": "execute_result"
    }
   ],
   "source": [
    "row_ID(weight_bmi_wide)"
   ]
  },
  {
   "cell_type": "code",
   "execution_count": 417,
   "metadata": {},
   "outputs": [],
   "source": [
    "weight_bmi_wide.loc[:, 'bmi_diag_na'] = np.where(weight_bmi_wide['bmi_diag'].isna(), 1, 0)"
   ]
  },
  {
   "cell_type": "code",
   "execution_count": 418,
   "metadata": {},
   "outputs": [
    {
     "data": {
      "text/html": [
       "<div>\n",
       "<style scoped>\n",
       "    .dataframe tbody tr th:only-of-type {\n",
       "        vertical-align: middle;\n",
       "    }\n",
       "\n",
       "    .dataframe tbody tr th {\n",
       "        vertical-align: top;\n",
       "    }\n",
       "\n",
       "    .dataframe thead th {\n",
       "        text-align: right;\n",
       "    }\n",
       "</style>\n",
       "<table border=\"1\" class=\"dataframe\">\n",
       "  <thead>\n",
       "    <tr style=\"text-align: right;\">\n",
       "      <th></th>\n",
       "      <th>PatientID</th>\n",
       "      <th>weight_diag</th>\n",
       "      <th>bmi_diag</th>\n",
       "      <th>bmi_diag_na</th>\n",
       "    </tr>\n",
       "  </thead>\n",
       "  <tbody>\n",
       "    <tr>\n",
       "      <th>34023</th>\n",
       "      <td>FC996BE3EE64D</td>\n",
       "      <td>66.224432</td>\n",
       "      <td>21.560192</td>\n",
       "      <td>0</td>\n",
       "    </tr>\n",
       "    <tr>\n",
       "      <th>12203</th>\n",
       "      <td>F483DAEF72596</td>\n",
       "      <td>59.874144</td>\n",
       "      <td>20.673894</td>\n",
       "      <td>0</td>\n",
       "    </tr>\n",
       "    <tr>\n",
       "      <th>52976</th>\n",
       "      <td>F2ADEF145D806</td>\n",
       "      <td>NaN</td>\n",
       "      <td>NaN</td>\n",
       "      <td>1</td>\n",
       "    </tr>\n",
       "    <tr>\n",
       "      <th>37650</th>\n",
       "      <td>FDED18F6D7A44</td>\n",
       "      <td>113.398000</td>\n",
       "      <td>38.011949</td>\n",
       "      <td>0</td>\n",
       "    </tr>\n",
       "    <tr>\n",
       "      <th>11770</th>\n",
       "      <td>F4584AF955264</td>\n",
       "      <td>49.396169</td>\n",
       "      <td>20.177363</td>\n",
       "      <td>0</td>\n",
       "    </tr>\n",
       "  </tbody>\n",
       "</table>\n",
       "</div>"
      ],
      "text/plain": [
       "           PatientID  weight_diag   bmi_diag  bmi_diag_na\n",
       "34023  FC996BE3EE64D    66.224432  21.560192            0\n",
       "12203  F483DAEF72596    59.874144  20.673894            0\n",
       "52976  F2ADEF145D806          NaN        NaN            1\n",
       "37650  FDED18F6D7A44   113.398000  38.011949            0\n",
       "11770  F4584AF955264    49.396169  20.177363            0"
      ]
     },
     "execution_count": 418,
     "metadata": {},
     "output_type": "execute_result"
    }
   ],
   "source": [
    "weight_bmi_wide.sample(5)"
   ]
  },
  {
   "cell_type": "markdown",
   "metadata": {},
   "source": [
    "#### 8.2 Percent change "
   ]
  },
  {
   "cell_type": "code",
   "execution_count": 419,
   "metadata": {},
   "outputs": [],
   "source": [
    "# Select elgbility window of -90 to +90 days from advanced diagnosis.\n",
    "weight_win_summary = (\n",
    "    weight\n",
    "    .assign(weight_date_diff = (weight['TestDate'] - weight['adv_date']).dt.days)\n",
    "    .query('weight_date_diff >= -90 and weight_date_diff <= 90')\n",
    ")"
   ]
  },
  {
   "cell_type": "code",
   "execution_count": 420,
   "metadata": {},
   "outputs": [],
   "source": [
    "# Select patients with more than 1 weight recording within elgibility window.\n",
    "weight_win_summary = weight_win_summary[weight_win_summary.duplicated(subset = ['PatientID'], keep = False)]"
   ]
  },
  {
   "cell_type": "code",
   "execution_count": 421,
   "metadata": {},
   "outputs": [
    {
     "data": {
      "text/plain": [
       "(316778, 44190)"
      ]
     },
     "execution_count": 421,
     "metadata": {},
     "output_type": "execute_result"
    }
   ],
   "source": [
    "row_ID(weight_win_summary)"
   ]
  },
  {
   "cell_type": "code",
   "execution_count": 422,
   "metadata": {},
   "outputs": [],
   "source": [
    "# Select weight from the earliest time within elgibility window. \n",
    "weight_tmin = weight_win_summary.loc[weight_win_summary.groupby('PatientID')['weight_date_diff'].idxmin()]"
   ]
  },
  {
   "cell_type": "code",
   "execution_count": 423,
   "metadata": {},
   "outputs": [],
   "source": [
    "# Select weight from the latest time within elgibility window. \n",
    "weight_tmax = weight_win_summary.loc[weight_win_summary.groupby('PatientID')['weight_date_diff'].idxmax()]"
   ]
  },
  {
   "cell_type": "code",
   "execution_count": 424,
   "metadata": {},
   "outputs": [],
   "source": [
    "# Combine above two dataframes and sort from earliest recorded weight to latest recorded weight for each patient. \n",
    "weight_tcomb = (\n",
    "    pd.concat([weight_tmin, weight_tmax])\n",
    "    .sort_values(by = ['PatientID', 'weight_date_diff'], ascending = True)\n",
    ")"
   ]
  },
  {
   "cell_type": "code",
   "execution_count": 425,
   "metadata": {},
   "outputs": [
    {
     "data": {
      "text/plain": [
       "(88380, 44190)"
      ]
     },
     "execution_count": 425,
     "metadata": {},
     "output_type": "execute_result"
    }
   ],
   "source": [
    "row_ID(weight_tcomb)"
   ]
  },
  {
   "cell_type": "code",
   "execution_count": 426,
   "metadata": {},
   "outputs": [],
   "source": [
    "weight_tcomb.loc[:, 'weight_pct_change'] = weight_tcomb.groupby('PatientID')['weight'].pct_change()"
   ]
  },
  {
   "cell_type": "code",
   "execution_count": 427,
   "metadata": {},
   "outputs": [],
   "source": [
    "weight_tcomb.loc[:, 'diff_date_diff'] = weight_tcomb['weight_date_diff'].diff()"
   ]
  },
  {
   "cell_type": "code",
   "execution_count": 428,
   "metadata": {},
   "outputs": [],
   "source": [
    "# Drop empty rows for weight_pct_change.\n",
    "weight_pct_wide = (\n",
    "    weight_tcomb\n",
    "    .dropna(subset = ['weight_pct_change'])\n",
    "    .filter(items = ['PatientID', 'weight_pct_change', 'diff_date_diff'])\n",
    ")"
   ]
  },
  {
   "cell_type": "code",
   "execution_count": 429,
   "metadata": {},
   "outputs": [
    {
     "data": {
      "text/plain": [
       "(44190, 44190)"
      ]
     },
     "execution_count": 429,
     "metadata": {},
     "output_type": "execute_result"
    }
   ],
   "source": [
    "row_ID(weight_pct_wide)"
   ]
  },
  {
   "cell_type": "code",
   "execution_count": 430,
   "metadata": {},
   "outputs": [
    {
     "data": {
      "text/html": [
       "<div>\n",
       "<style scoped>\n",
       "    .dataframe tbody tr th:only-of-type {\n",
       "        vertical-align: middle;\n",
       "    }\n",
       "\n",
       "    .dataframe tbody tr th {\n",
       "        vertical-align: top;\n",
       "    }\n",
       "\n",
       "    .dataframe thead th {\n",
       "        text-align: right;\n",
       "    }\n",
       "</style>\n",
       "<table border=\"1\" class=\"dataframe\">\n",
       "  <thead>\n",
       "    <tr style=\"text-align: right;\">\n",
       "      <th></th>\n",
       "      <th>weight_pct_change</th>\n",
       "      <th>diff_date_diff</th>\n",
       "    </tr>\n",
       "  </thead>\n",
       "  <tbody>\n",
       "    <tr>\n",
       "      <th>count</th>\n",
       "      <td>44190.000000</td>\n",
       "      <td>44190.000000</td>\n",
       "    </tr>\n",
       "    <tr>\n",
       "      <th>mean</th>\n",
       "      <td>-0.026570</td>\n",
       "      <td>71.252025</td>\n",
       "    </tr>\n",
       "    <tr>\n",
       "      <th>std</th>\n",
       "      <td>0.467214</td>\n",
       "      <td>39.079891</td>\n",
       "    </tr>\n",
       "    <tr>\n",
       "      <th>min</th>\n",
       "      <td>-0.906475</td>\n",
       "      <td>0.000000</td>\n",
       "    </tr>\n",
       "    <tr>\n",
       "      <th>25%</th>\n",
       "      <td>-0.062326</td>\n",
       "      <td>46.000000</td>\n",
       "    </tr>\n",
       "    <tr>\n",
       "      <th>50%</th>\n",
       "      <td>-0.023408</td>\n",
       "      <td>69.000000</td>\n",
       "    </tr>\n",
       "    <tr>\n",
       "      <th>75%</th>\n",
       "      <td>0.005747</td>\n",
       "      <td>88.000000</td>\n",
       "    </tr>\n",
       "    <tr>\n",
       "      <th>max</th>\n",
       "      <td>96.748507</td>\n",
       "      <td>180.000000</td>\n",
       "    </tr>\n",
       "  </tbody>\n",
       "</table>\n",
       "</div>"
      ],
      "text/plain": [
       "       weight_pct_change  diff_date_diff\n",
       "count       44190.000000    44190.000000\n",
       "mean           -0.026570       71.252025\n",
       "std             0.467214       39.079891\n",
       "min            -0.906475        0.000000\n",
       "25%            -0.062326       46.000000\n",
       "50%            -0.023408       69.000000\n",
       "75%             0.005747       88.000000\n",
       "max            96.748507      180.000000"
      ]
     },
     "execution_count": 430,
     "metadata": {},
     "output_type": "execute_result"
    }
   ],
   "source": [
    "weight_pct_wide.describe()"
   ]
  },
  {
   "cell_type": "code",
   "execution_count": 431,
   "metadata": {},
   "outputs": [
    {
     "data": {
      "text/html": [
       "<div>\n",
       "<style scoped>\n",
       "    .dataframe tbody tr th:only-of-type {\n",
       "        vertical-align: middle;\n",
       "    }\n",
       "\n",
       "    .dataframe tbody tr th {\n",
       "        vertical-align: top;\n",
       "    }\n",
       "\n",
       "    .dataframe thead th {\n",
       "        text-align: right;\n",
       "    }\n",
       "</style>\n",
       "<table border=\"1\" class=\"dataframe\">\n",
       "  <thead>\n",
       "    <tr style=\"text-align: right;\">\n",
       "      <th></th>\n",
       "      <th>weight_pct_change</th>\n",
       "      <th>diff_date_diff</th>\n",
       "    </tr>\n",
       "  </thead>\n",
       "  <tbody>\n",
       "    <tr>\n",
       "      <th>count</th>\n",
       "      <td>44190.000000</td>\n",
       "      <td>44190.000000</td>\n",
       "    </tr>\n",
       "    <tr>\n",
       "      <th>mean</th>\n",
       "      <td>-0.026570</td>\n",
       "      <td>71.252025</td>\n",
       "    </tr>\n",
       "    <tr>\n",
       "      <th>std</th>\n",
       "      <td>0.467214</td>\n",
       "      <td>39.079891</td>\n",
       "    </tr>\n",
       "    <tr>\n",
       "      <th>min</th>\n",
       "      <td>-0.906475</td>\n",
       "      <td>0.000000</td>\n",
       "    </tr>\n",
       "    <tr>\n",
       "      <th>5%</th>\n",
       "      <td>-0.135537</td>\n",
       "      <td>13.000000</td>\n",
       "    </tr>\n",
       "    <tr>\n",
       "      <th>10%</th>\n",
       "      <td>-0.106127</td>\n",
       "      <td>21.000000</td>\n",
       "    </tr>\n",
       "    <tr>\n",
       "      <th>20%</th>\n",
       "      <td>-0.073472</td>\n",
       "      <td>38.000000</td>\n",
       "    </tr>\n",
       "    <tr>\n",
       "      <th>50%</th>\n",
       "      <td>-0.023408</td>\n",
       "      <td>69.000000</td>\n",
       "    </tr>\n",
       "    <tr>\n",
       "      <th>max</th>\n",
       "      <td>96.748507</td>\n",
       "      <td>180.000000</td>\n",
       "    </tr>\n",
       "  </tbody>\n",
       "</table>\n",
       "</div>"
      ],
      "text/plain": [
       "       weight_pct_change  diff_date_diff\n",
       "count       44190.000000    44190.000000\n",
       "mean           -0.026570       71.252025\n",
       "std             0.467214       39.079891\n",
       "min            -0.906475        0.000000\n",
       "5%             -0.135537       13.000000\n",
       "10%            -0.106127       21.000000\n",
       "20%            -0.073472       38.000000\n",
       "50%            -0.023408       69.000000\n",
       "max            96.748507      180.000000"
      ]
     },
     "execution_count": 431,
     "metadata": {},
     "output_type": "execute_result"
    }
   ],
   "source": [
    "weight_pct_wide.describe(percentiles=[0.05, 0.1, 0.2])"
   ]
  },
  {
   "cell_type": "code",
   "execution_count": 432,
   "metadata": {},
   "outputs": [],
   "source": [
    "# Append missing training IDs and create a missing variable for those without weight_pct_change. \n",
    "weight_pct_wide = (\n",
    "    weight_pct_wide\n",
    "    .append(\n",
    "        pd.Series(train_IDs)[~pd.Series(train_IDs).isin(weight_pct_wide['PatientID'])].to_frame(name = 'PatientID'),\n",
    "        sort = False)\n",
    "    .drop(columns = ['diff_date_diff'])\n",
    ")"
   ]
  },
  {
   "cell_type": "code",
   "execution_count": 433,
   "metadata": {},
   "outputs": [
    {
     "data": {
      "text/plain": [
       "(54786, 54786)"
      ]
     },
     "execution_count": 433,
     "metadata": {},
     "output_type": "execute_result"
    }
   ],
   "source": [
    "row_ID(weight_pct_wide)"
   ]
  },
  {
   "cell_type": "code",
   "execution_count": 434,
   "metadata": {},
   "outputs": [],
   "source": [
    "weight_pct_wide.loc[:, 'weight_pct_na'] = np.where(weight_pct_wide['weight_pct_change'].isna(), 1, 0)"
   ]
  },
  {
   "cell_type": "code",
   "execution_count": 435,
   "metadata": {},
   "outputs": [
    {
     "data": {
      "text/html": [
       "<div>\n",
       "<style scoped>\n",
       "    .dataframe tbody tr th:only-of-type {\n",
       "        vertical-align: middle;\n",
       "    }\n",
       "\n",
       "    .dataframe tbody tr th {\n",
       "        vertical-align: top;\n",
       "    }\n",
       "\n",
       "    .dataframe thead th {\n",
       "        text-align: right;\n",
       "    }\n",
       "</style>\n",
       "<table border=\"1\" class=\"dataframe\">\n",
       "  <thead>\n",
       "    <tr style=\"text-align: right;\">\n",
       "      <th></th>\n",
       "      <th>PatientID</th>\n",
       "      <th>weight_pct_change</th>\n",
       "      <th>weight_pct_na</th>\n",
       "    </tr>\n",
       "  </thead>\n",
       "  <tbody>\n",
       "    <tr>\n",
       "      <th>36050</th>\n",
       "      <td>FFF16A1807EE3</td>\n",
       "      <td>NaN</td>\n",
       "      <td>1</td>\n",
       "    </tr>\n",
       "    <tr>\n",
       "      <th>26815</th>\n",
       "      <td>FC1526852804C</td>\n",
       "      <td>NaN</td>\n",
       "      <td>1</td>\n",
       "    </tr>\n",
       "    <tr>\n",
       "      <th>16136</th>\n",
       "      <td>F3953C72DC347</td>\n",
       "      <td>NaN</td>\n",
       "      <td>1</td>\n",
       "    </tr>\n",
       "    <tr>\n",
       "      <th>1127597</th>\n",
       "      <td>FD82585A02092</td>\n",
       "      <td>-0.022901</td>\n",
       "      <td>0</td>\n",
       "    </tr>\n",
       "    <tr>\n",
       "      <th>268031</th>\n",
       "      <td>F33A428C9ADDB</td>\n",
       "      <td>-0.010152</td>\n",
       "      <td>0</td>\n",
       "    </tr>\n",
       "  </tbody>\n",
       "</table>\n",
       "</div>"
      ],
      "text/plain": [
       "             PatientID  weight_pct_change  weight_pct_na\n",
       "36050    FFF16A1807EE3                NaN              1\n",
       "26815    FC1526852804C                NaN              1\n",
       "16136    F3953C72DC347                NaN              1\n",
       "1127597  FD82585A02092          -0.022901              0\n",
       "268031   F33A428C9ADDB          -0.010152              0"
      ]
     },
     "execution_count": 435,
     "metadata": {},
     "output_type": "execute_result"
    }
   ],
   "source": [
    "weight_pct_wide.sample(5)"
   ]
  },
  {
   "cell_type": "markdown",
   "metadata": {},
   "source": [
    "#### 8.3 Weight slope"
   ]
  },
  {
   "cell_type": "code",
   "execution_count": 436,
   "metadata": {},
   "outputs": [],
   "source": [
    "weight_win_summary.loc[:, 'date_ordinal'] = weight_win_summary['TestDate'].map(dt.datetime.toordinal)"
   ]
  },
  {
   "cell_type": "code",
   "execution_count": 437,
   "metadata": {},
   "outputs": [
    {
     "name": "stderr",
     "output_type": "stream",
     "text": [
      "/Applications/anaconda3/lib/python3.7/site-packages/scipy/stats/_stats_mstats_common.py:170: RuntimeWarning: invalid value encountered in double_scalars\n",
      "  slope = ssxym / ssxm\n"
     ]
    }
   ],
   "source": [
    "# Dataframe of slope for weight recordings within window period (kg/day).\n",
    "weight_slope_wide = (\n",
    "    weight_win_summary\n",
    "    .groupby('PatientID')\n",
    "    .apply(lambda x: pd.Series(linregress(x['date_ordinal'], x['weight'])))\n",
    "    .rename(columns = {0: 'weight_slope'})\n",
    "    .reset_index()\n",
    "    .filter(items = ['PatientID', 'weight_slope']))   "
   ]
  },
  {
   "cell_type": "code",
   "execution_count": 438,
   "metadata": {},
   "outputs": [
    {
     "data": {
      "text/plain": [
       "(44190, 44190)"
      ]
     },
     "execution_count": 438,
     "metadata": {},
     "output_type": "execute_result"
    }
   ],
   "source": [
    "row_ID(weight_slope_wide)"
   ]
  },
  {
   "cell_type": "code",
   "execution_count": 439,
   "metadata": {},
   "outputs": [
    {
     "data": {
      "text/html": [
       "<div>\n",
       "<style scoped>\n",
       "    .dataframe tbody tr th:only-of-type {\n",
       "        vertical-align: middle;\n",
       "    }\n",
       "\n",
       "    .dataframe tbody tr th {\n",
       "        vertical-align: top;\n",
       "    }\n",
       "\n",
       "    .dataframe thead th {\n",
       "        text-align: right;\n",
       "    }\n",
       "</style>\n",
       "<table border=\"1\" class=\"dataframe\">\n",
       "  <thead>\n",
       "    <tr style=\"text-align: right;\">\n",
       "      <th></th>\n",
       "      <th>weight_slope</th>\n",
       "    </tr>\n",
       "  </thead>\n",
       "  <tbody>\n",
       "    <tr>\n",
       "      <th>count</th>\n",
       "      <td>44172.000000</td>\n",
       "    </tr>\n",
       "    <tr>\n",
       "      <th>mean</th>\n",
       "      <td>-0.037548</td>\n",
       "    </tr>\n",
       "    <tr>\n",
       "      <th>std</th>\n",
       "      <td>0.629352</td>\n",
       "    </tr>\n",
       "    <tr>\n",
       "      <th>min</th>\n",
       "      <td>-16.782904</td>\n",
       "    </tr>\n",
       "    <tr>\n",
       "      <th>25%</th>\n",
       "      <td>-0.075475</td>\n",
       "    </tr>\n",
       "    <tr>\n",
       "      <th>50%</th>\n",
       "      <td>-0.027408</td>\n",
       "    </tr>\n",
       "    <tr>\n",
       "      <th>75%</th>\n",
       "      <td>0.006268</td>\n",
       "    </tr>\n",
       "    <tr>\n",
       "      <th>max</th>\n",
       "      <td>123.716934</td>\n",
       "    </tr>\n",
       "  </tbody>\n",
       "</table>\n",
       "</div>"
      ],
      "text/plain": [
       "       weight_slope\n",
       "count  44172.000000\n",
       "mean      -0.037548\n",
       "std        0.629352\n",
       "min      -16.782904\n",
       "25%       -0.075475\n",
       "50%       -0.027408\n",
       "75%        0.006268\n",
       "max      123.716934"
      ]
     },
     "execution_count": 439,
     "metadata": {},
     "output_type": "execute_result"
    }
   ],
   "source": [
    "weight_slope_wide.describe()"
   ]
  },
  {
   "cell_type": "code",
   "execution_count": 440,
   "metadata": {},
   "outputs": [],
   "source": [
    "# Append missing training IDs. \n",
    "weight_slope_wide = (\n",
    "    weight_slope_wide\n",
    "    .append(\n",
    "        pd.Series(train_IDs)[~pd.Series(train_IDs).isin(weight_slope_wide['PatientID'])].to_frame(name = 'PatientID'),\n",
    "        sort = False)\n",
    ")"
   ]
  },
  {
   "cell_type": "code",
   "execution_count": 441,
   "metadata": {},
   "outputs": [
    {
     "data": {
      "text/plain": [
       "(54786, 54786)"
      ]
     },
     "execution_count": 441,
     "metadata": {},
     "output_type": "execute_result"
    }
   ],
   "source": [
    "row_ID(weight_slope_wide)"
   ]
  },
  {
   "cell_type": "code",
   "execution_count": 442,
   "metadata": {},
   "outputs": [
    {
     "data": {
      "text/html": [
       "<div>\n",
       "<style scoped>\n",
       "    .dataframe tbody tr th:only-of-type {\n",
       "        vertical-align: middle;\n",
       "    }\n",
       "\n",
       "    .dataframe tbody tr th {\n",
       "        vertical-align: top;\n",
       "    }\n",
       "\n",
       "    .dataframe thead th {\n",
       "        text-align: right;\n",
       "    }\n",
       "</style>\n",
       "<table border=\"1\" class=\"dataframe\">\n",
       "  <thead>\n",
       "    <tr style=\"text-align: right;\">\n",
       "      <th></th>\n",
       "      <th>PatientID</th>\n",
       "      <th>weight_slope</th>\n",
       "    </tr>\n",
       "  </thead>\n",
       "  <tbody>\n",
       "    <tr>\n",
       "      <th>39977</th>\n",
       "      <td>FE76070C07843</td>\n",
       "      <td>-0.026634</td>\n",
       "    </tr>\n",
       "    <tr>\n",
       "      <th>3177</th>\n",
       "      <td>F12BC515194E6</td>\n",
       "      <td>0.048357</td>\n",
       "    </tr>\n",
       "    <tr>\n",
       "      <th>31984</th>\n",
       "      <td>FB937B7975939</td>\n",
       "      <td>0.068139</td>\n",
       "    </tr>\n",
       "    <tr>\n",
       "      <th>43621</th>\n",
       "      <td>FFCB8632379FE</td>\n",
       "      <td>-1.294665</td>\n",
       "    </tr>\n",
       "    <tr>\n",
       "      <th>34819</th>\n",
       "      <td>FC9D8F246753A</td>\n",
       "      <td>0.039903</td>\n",
       "    </tr>\n",
       "  </tbody>\n",
       "</table>\n",
       "</div>"
      ],
      "text/plain": [
       "           PatientID  weight_slope\n",
       "39977  FE76070C07843     -0.026634\n",
       "3177   F12BC515194E6      0.048357\n",
       "31984  FB937B7975939      0.068139\n",
       "43621  FFCB8632379FE     -1.294665\n",
       "34819  FC9D8F246753A      0.039903"
      ]
     },
     "execution_count": 442,
     "metadata": {},
     "output_type": "execute_result"
    }
   ],
   "source": [
    "weight_slope_wide.sample(5)"
   ]
  },
  {
   "cell_type": "markdown",
   "metadata": {},
   "source": [
    "#### 8.4 Merge "
   ]
  },
  {
   "cell_type": "code",
   "execution_count": 443,
   "metadata": {},
   "outputs": [],
   "source": [
    "weight_wide = pd.merge(weight_bmi_wide, weight_pct_wide, on = 'PatientID')"
   ]
  },
  {
   "cell_type": "code",
   "execution_count": 444,
   "metadata": {},
   "outputs": [],
   "source": [
    "weight_wide = pd.merge(weight_wide, weight_slope_wide, on = 'PatientID')"
   ]
  },
  {
   "cell_type": "code",
   "execution_count": 445,
   "metadata": {},
   "outputs": [
    {
     "data": {
      "text/plain": [
       "(54786, 54786)"
      ]
     },
     "execution_count": 445,
     "metadata": {},
     "output_type": "execute_result"
    }
   ],
   "source": [
    "row_ID(weight_wide)"
   ]
  },
  {
   "cell_type": "code",
   "execution_count": 446,
   "metadata": {},
   "outputs": [
    {
     "data": {
      "text/html": [
       "<div>\n",
       "<style scoped>\n",
       "    .dataframe tbody tr th:only-of-type {\n",
       "        vertical-align: middle;\n",
       "    }\n",
       "\n",
       "    .dataframe tbody tr th {\n",
       "        vertical-align: top;\n",
       "    }\n",
       "\n",
       "    .dataframe thead th {\n",
       "        text-align: right;\n",
       "    }\n",
       "</style>\n",
       "<table border=\"1\" class=\"dataframe\">\n",
       "  <thead>\n",
       "    <tr style=\"text-align: right;\">\n",
       "      <th></th>\n",
       "      <th>PatientID</th>\n",
       "      <th>weight_diag</th>\n",
       "      <th>bmi_diag</th>\n",
       "      <th>bmi_diag_na</th>\n",
       "      <th>weight_pct_change</th>\n",
       "      <th>weight_pct_na</th>\n",
       "      <th>weight_slope</th>\n",
       "    </tr>\n",
       "  </thead>\n",
       "  <tbody>\n",
       "    <tr>\n",
       "      <th>25771</th>\n",
       "      <td>F99368CEB9638</td>\n",
       "      <td>78.471416</td>\n",
       "      <td>25.547351</td>\n",
       "      <td>0</td>\n",
       "      <td>0.011561</td>\n",
       "      <td>0</td>\n",
       "      <td>0.019975</td>\n",
       "    </tr>\n",
       "    <tr>\n",
       "      <th>5180</th>\n",
       "      <td>F1ED8693DF09F</td>\n",
       "      <td>71.304662</td>\n",
       "      <td>25.372463</td>\n",
       "      <td>0</td>\n",
       "      <td>-0.059160</td>\n",
       "      <td>0</td>\n",
       "      <td>-0.075006</td>\n",
       "    </tr>\n",
       "    <tr>\n",
       "      <th>17551</th>\n",
       "      <td>F6831E32AAB78</td>\n",
       "      <td>101.604608</td>\n",
       "      <td>36.154145</td>\n",
       "      <td>0</td>\n",
       "      <td>0.013393</td>\n",
       "      <td>0</td>\n",
       "      <td>0.026980</td>\n",
       "    </tr>\n",
       "    <tr>\n",
       "      <th>34815</th>\n",
       "      <td>FCE2E1BB0D81A</td>\n",
       "      <td>47.299440</td>\n",
       "      <td>16.348963</td>\n",
       "      <td>0</td>\n",
       "      <td>0.009917</td>\n",
       "      <td>0</td>\n",
       "      <td>-0.014766</td>\n",
       "    </tr>\n",
       "    <tr>\n",
       "      <th>27272</th>\n",
       "      <td>FA164C116227A</td>\n",
       "      <td>76.475611</td>\n",
       "      <td>28.939803</td>\n",
       "      <td>0</td>\n",
       "      <td>-0.115065</td>\n",
       "      <td>0</td>\n",
       "      <td>-0.120949</td>\n",
       "    </tr>\n",
       "  </tbody>\n",
       "</table>\n",
       "</div>"
      ],
      "text/plain": [
       "           PatientID  weight_diag   bmi_diag  bmi_diag_na  weight_pct_change  \\\n",
       "25771  F99368CEB9638    78.471416  25.547351            0           0.011561   \n",
       "5180   F1ED8693DF09F    71.304662  25.372463            0          -0.059160   \n",
       "17551  F6831E32AAB78   101.604608  36.154145            0           0.013393   \n",
       "34815  FCE2E1BB0D81A    47.299440  16.348963            0           0.009917   \n",
       "27272  FA164C116227A    76.475611  28.939803            0          -0.115065   \n",
       "\n",
       "       weight_pct_na  weight_slope  \n",
       "25771              0      0.019975  \n",
       "5180               0     -0.075006  \n",
       "17551              0      0.026980  \n",
       "34815              0     -0.014766  \n",
       "27272              0     -0.120949  "
      ]
     },
     "execution_count": 446,
     "metadata": {},
     "output_type": "execute_result"
    }
   ],
   "source": [
    "weight_wide.sample(5)"
   ]
  },
  {
   "cell_type": "code",
   "execution_count": 447,
   "metadata": {},
   "outputs": [
    {
     "name": "stdout",
     "output_type": "stream",
     "text": [
      "Variable              Type         Data/Info\n",
      "--------------------------------------------\n",
      "biomarker_wide        DataFrame               PatientID     <...>n[54786 rows x 8 columns]\n",
      "demographics          DataFrame               PatientID Prac<...>n[54786 rows x 7 columns]\n",
      "ecog_diagnosis_wide   DataFrame                PatientID eco<...>n[54786 rows x 2 columns]\n",
      "enhanced_adv          DataFrame               PatientID diag<...>n[54786 rows x 9 columns]\n",
      "height_avg            DataFrame               PatientID  hei<...>n[54049 rows x 2 columns]\n",
      "insurance_wide        DataFrame               PatientID  com<...>n[54786 rows x 5 columns]\n",
      "med_admin_wide        DataFrame               PatientID  ste<...>[54786 rows x 14 columns]\n",
      "mortality             DataFrame               PatientID  dea<...>n[54786 rows x 3 columns]\n",
      "telemedicine          DataFrame               PatientID   Vi<...>n[16712 rows x 2 columns]\n",
      "visit                 DataFrame                 PatientID   <...>2446952 rows x 6 columns]\n",
      "vitals                DataFrame                  PatientID  <...>280765 rows x 15 columns]\n",
      "weight                DataFrame                 PatientID   <...>1336868 rows x 4 columns]\n",
      "weight_bmi_wide       DataFrame               PatientID  wei<...>n[54786 rows x 4 columns]\n",
      "weight_pct_wide       DataFrame               PatientID  wei<...>n[54786 rows x 3 columns]\n",
      "weight_slope_wide     DataFrame               PatientID  wei<...>n[54786 rows x 2 columns]\n",
      "weight_tcomb          DataFrame                 PatientID   <...>n[88380 rows x 7 columns]\n",
      "weight_tmax           DataFrame                 PatientID   <...>n[44190 rows x 5 columns]\n",
      "weight_tmin           DataFrame                 PatientID   <...>n[44190 rows x 5 columns]\n",
      "weight_wide           DataFrame               PatientID  wei<...>n[54786 rows x 7 columns]\n",
      "weight_win_bmi        DataFrame                 PatientID   <...>[141929 rows x 5 columns]\n",
      "weight_win_summary    DataFrame                 PatientID   <...>[316778 rows x 6 columns]\n"
     ]
    }
   ],
   "source": [
    "%whos DataFrame"
   ]
  },
  {
   "cell_type": "code",
   "execution_count": 448,
   "metadata": {},
   "outputs": [],
   "source": [
    "# Keep weight_wide.\n",
    "del height_avg\n",
    "del vitals\n",
    "del weight\n",
    "del weight_bmi_wide\n",
    "del weight_pct_wide\n",
    "del weight_slope_wide\n",
    "del weight_tcomb\n",
    "del weight_tmax\n",
    "del weight_tmin\n",
    "del weight_win_bmi\n",
    "del weight_win_summary"
   ]
  },
  {
   "cell_type": "markdown",
   "metadata": {},
   "source": [
    "### 9. Lab"
   ]
  },
  {
   "cell_type": "code",
   "execution_count": 449,
   "metadata": {},
   "outputs": [],
   "source": [
    "lab = pd.read_csv('Lab.csv')"
   ]
  },
  {
   "cell_type": "code",
   "execution_count": 450,
   "metadata": {},
   "outputs": [
    {
     "data": {
      "text/html": [
       "<div>\n",
       "<style scoped>\n",
       "    .dataframe tbody tr th:only-of-type {\n",
       "        vertical-align: middle;\n",
       "    }\n",
       "\n",
       "    .dataframe tbody tr th {\n",
       "        vertical-align: top;\n",
       "    }\n",
       "\n",
       "    .dataframe thead th {\n",
       "        text-align: right;\n",
       "    }\n",
       "</style>\n",
       "<table border=\"1\" class=\"dataframe\">\n",
       "  <thead>\n",
       "    <tr style=\"text-align: right;\">\n",
       "      <th></th>\n",
       "      <th>PatientID</th>\n",
       "      <th>TestDate</th>\n",
       "      <th>LOINC</th>\n",
       "      <th>Test</th>\n",
       "      <th>LabComponent</th>\n",
       "      <th>TestBaseName</th>\n",
       "      <th>LabSource</th>\n",
       "      <th>TestUnits</th>\n",
       "      <th>TestUnitsCleaned</th>\n",
       "      <th>ResultDate</th>\n",
       "      <th>TestResult</th>\n",
       "      <th>TestResultCleaned</th>\n",
       "      <th>MinNorm</th>\n",
       "      <th>MinNormCleaned</th>\n",
       "      <th>MaxNorm</th>\n",
       "      <th>MaxNormCleaned</th>\n",
       "    </tr>\n",
       "  </thead>\n",
       "  <tbody>\n",
       "    <tr>\n",
       "      <th>22134411</th>\n",
       "      <td>F8F787EC44934</td>\n",
       "      <td>2014-09-09</td>\n",
       "      <td>20570-8</td>\n",
       "      <td>hematocrit [volume fraction] of blood</td>\n",
       "      <td>Hematocrit</td>\n",
       "      <td>hematocrit</td>\n",
       "      <td>source</td>\n",
       "      <td>%</td>\n",
       "      <td>%</td>\n",
       "      <td>2014-09-09</td>\n",
       "      <td>36.0</td>\n",
       "      <td>36.0</td>\n",
       "      <td>43.5</td>\n",
       "      <td>43.5</td>\n",
       "      <td>53.7</td>\n",
       "      <td>53.7</td>\n",
       "    </tr>\n",
       "    <tr>\n",
       "      <th>28825783</th>\n",
       "      <td>FBAA9AA54D559</td>\n",
       "      <td>2019-02-28</td>\n",
       "      <td>2951-2</td>\n",
       "      <td>sodium [moles/volume] in serum or plasma</td>\n",
       "      <td>Sodium [Moles/?volume] in Serum or Plasma</td>\n",
       "      <td>sodium</td>\n",
       "      <td>source</td>\n",
       "      <td>mmol/L</td>\n",
       "      <td>mmol/L</td>\n",
       "      <td>2019-03-01</td>\n",
       "      <td>138</td>\n",
       "      <td>138.0</td>\n",
       "      <td>135.0</td>\n",
       "      <td>135.0</td>\n",
       "      <td>146.0</td>\n",
       "      <td>146.0</td>\n",
       "    </tr>\n",
       "    <tr>\n",
       "      <th>30965490</th>\n",
       "      <td>FC94485FBA816</td>\n",
       "      <td>2020-04-21</td>\n",
       "      <td>30180-4</td>\n",
       "      <td>basophils/100 leukocytes in blood</td>\n",
       "      <td>Basophil count (fraction)</td>\n",
       "      <td>basophils/100 leukocytes</td>\n",
       "      <td>source</td>\n",
       "      <td>%</td>\n",
       "      <td>%</td>\n",
       "      <td>2020-04-21</td>\n",
       "      <td>0.40</td>\n",
       "      <td>0.4</td>\n",
       "      <td>0.0</td>\n",
       "      <td>0.0</td>\n",
       "      <td>2.5</td>\n",
       "      <td>2.5</td>\n",
       "    </tr>\n",
       "    <tr>\n",
       "      <th>20947348</th>\n",
       "      <td>F886CA1604131</td>\n",
       "      <td>2013-01-07</td>\n",
       "      <td>26450-7</td>\n",
       "      <td>eosinophils/100 leukocytes in blood</td>\n",
       "      <td>Eosinophils/?100 leukocytes in Blood</td>\n",
       "      <td>eosinophils/100 leukocytes</td>\n",
       "      <td>source</td>\n",
       "      <td>%</td>\n",
       "      <td>%</td>\n",
       "      <td>2013-01-07</td>\n",
       "      <td>1.30</td>\n",
       "      <td>1.3</td>\n",
       "      <td>0.0</td>\n",
       "      <td>0.0</td>\n",
       "      <td>7.0</td>\n",
       "      <td>7.0</td>\n",
       "    </tr>\n",
       "    <tr>\n",
       "      <th>4756569</th>\n",
       "      <td>F1EEA3F122645</td>\n",
       "      <td>2014-03-11</td>\n",
       "      <td>718-7</td>\n",
       "      <td>hemoglobin [mass/volume] in blood</td>\n",
       "      <td>Hemoglobin, whole blood</td>\n",
       "      <td>hemoglobin</td>\n",
       "      <td>source</td>\n",
       "      <td>g/dL</td>\n",
       "      <td>g/dL</td>\n",
       "      <td>2014-03-11</td>\n",
       "      <td>13.2</td>\n",
       "      <td>13.2</td>\n",
       "      <td>14.0</td>\n",
       "      <td>14.0</td>\n",
       "      <td>18.0</td>\n",
       "      <td>18.0</td>\n",
       "    </tr>\n",
       "  </tbody>\n",
       "</table>\n",
       "</div>"
      ],
      "text/plain": [
       "              PatientID    TestDate    LOINC  \\\n",
       "22134411  F8F787EC44934  2014-09-09  20570-8   \n",
       "28825783  FBAA9AA54D559  2019-02-28   2951-2   \n",
       "30965490  FC94485FBA816  2020-04-21  30180-4   \n",
       "20947348  F886CA1604131  2013-01-07  26450-7   \n",
       "4756569   F1EEA3F122645  2014-03-11    718-7   \n",
       "\n",
       "                                              Test  \\\n",
       "22134411     hematocrit [volume fraction] of blood   \n",
       "28825783  sodium [moles/volume] in serum or plasma   \n",
       "30965490         basophils/100 leukocytes in blood   \n",
       "20947348       eosinophils/100 leukocytes in blood   \n",
       "4756569          hemoglobin [mass/volume] in blood   \n",
       "\n",
       "                                       LabComponent  \\\n",
       "22134411                                 Hematocrit   \n",
       "28825783  Sodium [Moles/?volume] in Serum or Plasma   \n",
       "30965490                  Basophil count (fraction)   \n",
       "20947348       Eosinophils/?100 leukocytes in Blood   \n",
       "4756569                     Hemoglobin, whole blood   \n",
       "\n",
       "                        TestBaseName LabSource TestUnits TestUnitsCleaned  \\\n",
       "22134411                  hematocrit    source         %                %   \n",
       "28825783                      sodium    source    mmol/L           mmol/L   \n",
       "30965490    basophils/100 leukocytes    source         %                %   \n",
       "20947348  eosinophils/100 leukocytes    source         %                %   \n",
       "4756569                   hemoglobin    source      g/dL             g/dL   \n",
       "\n",
       "          ResultDate TestResult  TestResultCleaned  MinNorm  MinNormCleaned  \\\n",
       "22134411  2014-09-09       36.0               36.0     43.5            43.5   \n",
       "28825783  2019-03-01        138              138.0    135.0           135.0   \n",
       "30965490  2020-04-21       0.40                0.4      0.0             0.0   \n",
       "20947348  2013-01-07       1.30                1.3      0.0             0.0   \n",
       "4756569   2014-03-11       13.2               13.2     14.0            14.0   \n",
       "\n",
       "          MaxNorm  MaxNormCleaned  \n",
       "22134411     53.7            53.7  \n",
       "28825783    146.0           146.0  \n",
       "30965490      2.5             2.5  \n",
       "20947348      7.0             7.0  \n",
       "4756569      18.0            18.0  "
      ]
     },
     "execution_count": 450,
     "metadata": {},
     "output_type": "execute_result"
    }
   ],
   "source": [
    "lab.sample(5)"
   ]
  },
  {
   "cell_type": "code",
   "execution_count": 451,
   "metadata": {},
   "outputs": [
    {
     "name": "stdout",
     "output_type": "stream",
     "text": [
      "<class 'pandas.core.frame.DataFrame'>\n",
      "RangeIndex: 39492037 entries, 0 to 39492036\n",
      "Data columns (total 16 columns):\n",
      " #   Column             Dtype  \n",
      "---  ------             -----  \n",
      " 0   PatientID          object \n",
      " 1   TestDate           object \n",
      " 2   LOINC              object \n",
      " 3   Test               object \n",
      " 4   LabComponent       object \n",
      " 5   TestBaseName       object \n",
      " 6   LabSource          object \n",
      " 7   TestUnits          object \n",
      " 8   TestUnitsCleaned   object \n",
      " 9   ResultDate         object \n",
      " 10  TestResult         object \n",
      " 11  TestResultCleaned  float64\n",
      " 12  MinNorm            float64\n",
      " 13  MinNormCleaned     float64\n",
      " 14  MaxNorm            float64\n",
      " 15  MaxNormCleaned     float64\n",
      "dtypes: float64(5), object(11)\n",
      "memory usage: 4.7+ GB\n"
     ]
    }
   ],
   "source": [
    "lab.info()"
   ]
  },
  {
   "cell_type": "code",
   "execution_count": 452,
   "metadata": {},
   "outputs": [
    {
     "data": {
      "text/plain": [
       "Platelet count                     0.039119\n",
       "Hematocrit                         0.038763\n",
       "Hemoglobin, whole blood            0.038458\n",
       "White Blood Cell Count             0.038356\n",
       "Red Blood Cell Count               0.037648\n",
       "Lymphocyte Count Absolute          0.037026\n",
       "Lymphocyte Count (fractionated)    0.036108\n",
       "Monocyte count                     0.032735\n",
       "Monocyte (fractionated)            0.032212\n",
       "Creatinine, serum                  0.031054\n",
       "Name: LabComponent, dtype: float64"
      ]
     },
     "execution_count": 452,
     "metadata": {},
     "output_type": "execute_result"
    }
   ],
   "source": [
    "lab['LabComponent'].value_counts(normalize = True, dropna = False).head(10)"
   ]
  },
  {
   "cell_type": "code",
   "execution_count": 453,
   "metadata": {},
   "outputs": [],
   "source": [
    "# Selecting PatientIDs from training set. \n",
    "lab = lab[lab['PatientID'].isin(train_IDs)]"
   ]
  },
  {
   "cell_type": "code",
   "execution_count": 454,
   "metadata": {},
   "outputs": [
    {
     "data": {
      "text/plain": [
       "(31628480, 51833)"
      ]
     },
     "execution_count": 454,
     "metadata": {},
     "output_type": "execute_result"
    }
   ],
   "source": [
    "row_ID(lab)"
   ]
  },
  {
   "cell_type": "markdown",
   "metadata": {},
   "source": [
    "**The Lab table is a longitudinal record of lab captured in the EHR with multiple-rows-per-patient. A single-patient-per-row table will be built focusing on the following NCCN recommended labs (ie., CMP and CBC):** \n",
    "* **Creatinine -- (LOINC: 2160-0 and 38483-4)**\n",
    "* **Hemoglobin -- (LOINC: 718-7 and 20509-6)**\n",
    "* **White blood cell count -- (LOINC: 26464-8 and 6690-2)**\n",
    "* **Neutrophil count -- (LOINC: 26499-4, 751-8, 30451-9, and 753-4)**\n",
    "* **Albumin, serum -- (LOINC: 1751-7)**\n",
    "* **Total bilirubin -- (LOINC: 42719-5 and 1975-2)**\n",
    "* **Sodium — (LOINC: 2947-0 and 2951-2)**\n",
    "* **Bicarb — (LOINC: 1963-8, 1959-6, 14627-4, 1960-4, and 2028-9)**\n",
    "* **Calcium — (LOINC: 17861-6 and 49765-1)** \n",
    "* **AST — (LOINC: 1920-8)**\n",
    "* **ALT — (LOINC: 1742-6, 1743-4, and 1744-2)**\n",
    "* **Platelet -- (LOINC: 26515-7, 777-3, 778-1, and 49497-1)**\n",
    "* **Potassium -- (LOINC: 6298-4 and 2823-3)**\n",
    "* **Chloride -- (LOINC: 2075-0)**\n",
    "* **BUN -- (LOINC: 3094-0)**\n",
    "* **ALP -- (LOINC: 6768-6)**\n",
    "\n",
    "**The index date will be time of advanced diagnosis with an elgibility window of -90 days to +30 days. The lab value closest to the index date will be selected for each patient. The following summary statistics, using an elgibility window of negative infinity to +30 days from advanced diagnosis, will also be created for some of the above variables:** \n",
    "* **Max**\n",
    "* **Min**\n",
    "* **Mean**\n",
    "* **Standard deviation** \n",
    "* **Slope**"
   ]
  },
  {
   "cell_type": "markdown",
   "metadata": {},
   "source": [
    "#### Baseline lab values"
   ]
  },
  {
   "cell_type": "code",
   "execution_count": 455,
   "metadata": {},
   "outputs": [],
   "source": [
    "lab = pd.merge(lab, enhanced_adv[['PatientID', 'adv_date']], on = 'PatientID', how = 'left')"
   ]
  },
  {
   "cell_type": "code",
   "execution_count": 456,
   "metadata": {},
   "outputs": [],
   "source": [
    "lab.loc[:, 'ResultDate'] = pd.to_datetime(lab['ResultDate'], errors = 'coerce') "
   ]
  },
  {
   "cell_type": "code",
   "execution_count": 457,
   "metadata": {},
   "outputs": [],
   "source": [
    "# Select rows with clinically relevant labs.\n",
    "lab_core = (\n",
    "    lab[\n",
    "    (lab['LOINC'] == \"2160-0\") |\n",
    "    (lab['LOINC'] == \"38483-4\") | \n",
    "    (lab['LOINC'] == \"718-7\") |\n",
    "    (lab['LOINC'] == \"20509-6\") |\n",
    "    (lab['LOINC'] == \"26464-8\") |\n",
    "    (lab['LOINC'] == \"6690-2\") |\n",
    "    (lab['LOINC'] == \"26499-4\") |\n",
    "    (lab['LOINC'] == \"751-8\") |\n",
    "    (lab['LOINC'] == \"30451-9\") |\n",
    "    (lab['LOINC'] == \"753-4\") |\n",
    "    (lab['LOINC'] == \"1751-7\") |\n",
    "    (lab['LOINC'] == \"42719-5\") |\n",
    "    (lab['LOINC'] == \"1975-2\") |\n",
    "    (lab['LOINC'] == \"2947-0\") |\n",
    "    (lab['LOINC'] == \"2951-2\") |\n",
    "    (lab['LOINC'] == \"1963-8\") |\n",
    "    (lab['LOINC'] == \"1959-6\") |\n",
    "    (lab['LOINC'] == \"14627-4\") |\n",
    "    (lab['LOINC'] == \"1960-4\") |\n",
    "    (lab['LOINC'] == \"2028-9\") |\n",
    "    (lab['LOINC'] == \"17861-6\") |\n",
    "    (lab['LOINC'] == \"49765-1\") |\n",
    "    (lab['LOINC'] == \"1920-8\") |\n",
    "    (lab['LOINC'] == \"1742-6\") | \n",
    "    (lab['LOINC'] == \"1743-4\") |\n",
    "    (lab['LOINC'] == \"1744-2\") |\n",
    "    (lab['LOINC'] == \"26515-7\") | \n",
    "    (lab['LOINC'] == \"777-3\") |\n",
    "    (lab['LOINC'] == \"778-1\") |\n",
    "    (lab['LOINC'] == \"49497-1\") | \n",
    "    (lab['LOINC'] == \"6298-4\") |\n",
    "    (lab['LOINC'] == \"2823-3\") |\n",
    "    (lab['LOINC'] == \"2075-0\") | \n",
    "    (lab['LOINC'] == \"3094-0\") | \n",
    "    (lab['LOINC'] == \"6768-6\")]\n",
    "    .filter(items = ['PatientID', \n",
    "                     'ResultDate', \n",
    "                     'LOINC', \n",
    "                     'LabComponent', \n",
    "                     'TestUnits', \n",
    "                     'TestUnitsCleaned', \n",
    "                     'TestResult', \n",
    "                     'TestResultCleaned', \n",
    "                     'adv_date'])\n",
    ")"
   ]
  },
  {
   "cell_type": "code",
   "execution_count": 458,
   "metadata": {},
   "outputs": [],
   "source": [
    "conditions = [\n",
    "    ((lab_core['LOINC'] == '2160-0') | (lab_core['LOINC'] == '38483-4')),\n",
    "    ((lab_core['LOINC'] == '718-7') | (lab_core['LOINC'] == '20509-6')),\n",
    "    ((lab_core['LOINC'] == '26464-8') | (lab_core['LOINC'] == '6690-2')), \n",
    "    ((lab_core['LOINC'] == '26499-4') | (lab_core['LOINC'] == '751-8') | (lab_core['LOINC'] == '30451-9') | (lab_core['LOINC'] == '753-4')),\n",
    "    (lab_core['LOINC'] == '1751-7'),\n",
    "    ((lab_core['LOINC'] == '42719-5') | (lab_core['LOINC'] == '1975-2')),\n",
    "    ((lab_core['LOINC'] == '2947-0') | (lab_core['LOINC'] == '2951-2')),\n",
    "    ((lab_core['LOINC'] == '1963-8') | (lab_core['LOINC'] == '1959-6') | (lab_core['LOINC'] == '14627-4') | (lab_core['LOINC'] == '1960-4') | (lab_core['LOINC'] == '2028-9')),\n",
    "    ((lab_core['LOINC'] == '17861-6') | (lab_core['LOINC'] == '49765-1')),\n",
    "    (lab_core['LOINC'] == '1920-8'),\n",
    "    ((lab_core['LOINC'] == '1742-6') | (lab_core['LOINC'] == '1743-4') | (lab_core['LOINC'] == '1744-2')),\n",
    "    ((lab_core['LOINC'] == '26515-7') | (lab_core['LOINC'] == '777-3') | (lab_core['LOINC'] == '778-1') | (lab_core['LOINC'] == '49497-1')),\n",
    "    ((lab_core['LOINC'] == '6298-4') | (lab_core['LOINC'] == '2823-3')),\n",
    "    (lab_core['LOINC'] == '2075-0'), \n",
    "    (lab_core['LOINC'] == '3094-0'),\n",
    "    (lab_core['LOINC'] == '6768-6')]\n",
    "\n",
    "choices = ['creatinine', \n",
    "           'hemoglobin', \n",
    "           'wbc', \n",
    "           'neutrophil_count',  \n",
    "           'albumin', \n",
    "           'total_bilirubin', \n",
    "           'sodium', \n",
    "           'bicarb',\n",
    "           'calcium',\n",
    "           'ast', \n",
    "           'alt',\n",
    "           'platelet',\n",
    "           'potassium', \n",
    "           'chloride',\n",
    "           'bun',\n",
    "           'alp']\n",
    "\n",
    "lab_core.loc[:, 'lab_name'] = np.select(conditions, choices)"
   ]
  },
  {
   "cell_type": "code",
   "execution_count": 459,
   "metadata": {},
   "outputs": [],
   "source": [
    "# Remove missing lab values. \n",
    "lab_core = lab_core.dropna(subset = ['TestResultCleaned'])"
   ]
  },
  {
   "cell_type": "code",
   "execution_count": 460,
   "metadata": {},
   "outputs": [
    {
     "data": {
      "text/plain": [
       "10*3/uL     0.898337\n",
       "10*3/L      0.045239\n",
       "10*3/mm3    0.041335\n",
       "10*9/L      0.009741\n",
       "cell/uL     0.003916\n",
       "Name: TestUnits, dtype: float64"
      ]
     },
     "execution_count": 460,
     "metadata": {},
     "output_type": "execute_result"
    }
   ],
   "source": [
    "(\n",
    "    lab_core\n",
    "    .query('lab_name == \"wbc\" or lab_name == \"neutrophil_count\" or lab_name == \"platelet\"')\n",
    "    .TestUnits.value_counts(normalize = True)\n",
    "    .head(5)\n",
    ")"
   ]
  },
  {
   "cell_type": "code",
   "execution_count": 461,
   "metadata": {},
   "outputs": [
    {
     "data": {
      "text/html": [
       "<div>\n",
       "<style scoped>\n",
       "    .dataframe tbody tr th:only-of-type {\n",
       "        vertical-align: middle;\n",
       "    }\n",
       "\n",
       "    .dataframe tbody tr th {\n",
       "        vertical-align: top;\n",
       "    }\n",
       "\n",
       "    .dataframe thead th {\n",
       "        text-align: right;\n",
       "    }\n",
       "</style>\n",
       "<table border=\"1\" class=\"dataframe\">\n",
       "  <thead>\n",
       "    <tr style=\"text-align: right;\">\n",
       "      <th></th>\n",
       "      <th>PatientID</th>\n",
       "      <th>ResultDate</th>\n",
       "      <th>LOINC</th>\n",
       "      <th>LabComponent</th>\n",
       "      <th>TestUnits</th>\n",
       "      <th>TestUnitsCleaned</th>\n",
       "      <th>TestResult</th>\n",
       "      <th>TestResultCleaned</th>\n",
       "      <th>adv_date</th>\n",
       "      <th>lab_name</th>\n",
       "    </tr>\n",
       "  </thead>\n",
       "  <tbody>\n",
       "    <tr>\n",
       "      <th>11765504</th>\n",
       "      <td>F5F8FE762D389</td>\n",
       "      <td>2018-09-04</td>\n",
       "      <td>777-3</td>\n",
       "      <td>Platelet count</td>\n",
       "      <td>10*3/L</td>\n",
       "      <td>10*9/L</td>\n",
       "      <td>250</td>\n",
       "      <td>0.000250</td>\n",
       "      <td>2018-04-26</td>\n",
       "      <td>platelet</td>\n",
       "    </tr>\n",
       "    <tr>\n",
       "      <th>12448737</th>\n",
       "      <td>F6533D50646A0</td>\n",
       "      <td>2020-08-10</td>\n",
       "      <td>751-8</td>\n",
       "      <td>Neutrophil count (absolute)</td>\n",
       "      <td>10*3/L</td>\n",
       "      <td>10*9/L</td>\n",
       "      <td>5.84</td>\n",
       "      <td>0.000006</td>\n",
       "      <td>2019-07-24</td>\n",
       "      <td>neutrophil_count</td>\n",
       "    </tr>\n",
       "    <tr>\n",
       "      <th>21145315</th>\n",
       "      <td>FAB4A328E9F24</td>\n",
       "      <td>2019-05-20</td>\n",
       "      <td>777-3</td>\n",
       "      <td>Platelet count</td>\n",
       "      <td>10*3/L</td>\n",
       "      <td>10*9/L</td>\n",
       "      <td>256</td>\n",
       "      <td>0.000256</td>\n",
       "      <td>2018-08-29</td>\n",
       "      <td>platelet</td>\n",
       "    </tr>\n",
       "    <tr>\n",
       "      <th>748741</th>\n",
       "      <td>F063AD926036A</td>\n",
       "      <td>2018-03-10</td>\n",
       "      <td>777-3</td>\n",
       "      <td>Platelet count</td>\n",
       "      <td>10*3/L</td>\n",
       "      <td>10*9/L</td>\n",
       "      <td>339</td>\n",
       "      <td>0.000339</td>\n",
       "      <td>2012-04-01</td>\n",
       "      <td>platelet</td>\n",
       "    </tr>\n",
       "    <tr>\n",
       "      <th>15469564</th>\n",
       "      <td>F7DD71931856E</td>\n",
       "      <td>2018-01-05</td>\n",
       "      <td>751-8</td>\n",
       "      <td>Neutrophil count (absolute)</td>\n",
       "      <td>10*3/L</td>\n",
       "      <td>10*9/L</td>\n",
       "      <td>4.0</td>\n",
       "      <td>0.000004</td>\n",
       "      <td>2017-12-07</td>\n",
       "      <td>neutrophil_count</td>\n",
       "    </tr>\n",
       "  </tbody>\n",
       "</table>\n",
       "</div>"
      ],
      "text/plain": [
       "              PatientID ResultDate  LOINC                 LabComponent  \\\n",
       "11765504  F5F8FE762D389 2018-09-04  777-3               Platelet count   \n",
       "12448737  F6533D50646A0 2020-08-10  751-8  Neutrophil count (absolute)   \n",
       "21145315  FAB4A328E9F24 2019-05-20  777-3               Platelet count   \n",
       "748741    F063AD926036A 2018-03-10  777-3               Platelet count   \n",
       "15469564  F7DD71931856E 2018-01-05  751-8  Neutrophil count (absolute)   \n",
       "\n",
       "         TestUnits TestUnitsCleaned TestResult  TestResultCleaned   adv_date  \\\n",
       "11765504    10*3/L           10*9/L        250           0.000250 2018-04-26   \n",
       "12448737    10*3/L           10*9/L       5.84           0.000006 2019-07-24   \n",
       "21145315    10*3/L           10*9/L        256           0.000256 2018-08-29   \n",
       "748741      10*3/L           10*9/L        339           0.000339 2012-04-01   \n",
       "15469564    10*3/L           10*9/L        4.0           0.000004 2017-12-07   \n",
       "\n",
       "                  lab_name  \n",
       "11765504          platelet  \n",
       "12448737  neutrophil_count  \n",
       "21145315          platelet  \n",
       "748741            platelet  \n",
       "15469564  neutrophil_count  "
      ]
     },
     "execution_count": 461,
     "metadata": {},
     "output_type": "execute_result"
    }
   ],
   "source": [
    "(\n",
    "    lab_core\n",
    "    .query('lab_name == \"wbc\" or lab_name == \"neutrophil_count\" or lab_name == \"platelet\"')\n",
    "    .query('TestUnits == \"10*3/L\"')\n",
    "    .sample(5)\n",
    ")"
   ]
  },
  {
   "cell_type": "code",
   "execution_count": 462,
   "metadata": {},
   "outputs": [
    {
     "data": {
      "text/plain": [
       "g/dL     0.999469\n",
       "g/uL     0.000523\n",
       "mg/dL    0.000007\n",
       "Name: TestUnits, dtype: float64"
      ]
     },
     "execution_count": 462,
     "metadata": {},
     "output_type": "execute_result"
    }
   ],
   "source": [
    "(\n",
    "    lab_core\n",
    "    .query('lab_name == \"hemoglobin\"')\n",
    "    .TestUnits.value_counts(normalize = True)\n",
    "    .head(5)\n",
    ")"
   ]
  },
  {
   "cell_type": "code",
   "execution_count": 463,
   "metadata": {},
   "outputs": [
    {
     "data": {
      "text/html": [
       "<div>\n",
       "<style scoped>\n",
       "    .dataframe tbody tr th:only-of-type {\n",
       "        vertical-align: middle;\n",
       "    }\n",
       "\n",
       "    .dataframe tbody tr th {\n",
       "        vertical-align: top;\n",
       "    }\n",
       "\n",
       "    .dataframe thead th {\n",
       "        text-align: right;\n",
       "    }\n",
       "</style>\n",
       "<table border=\"1\" class=\"dataframe\">\n",
       "  <thead>\n",
       "    <tr style=\"text-align: right;\">\n",
       "      <th></th>\n",
       "      <th>PatientID</th>\n",
       "      <th>ResultDate</th>\n",
       "      <th>LOINC</th>\n",
       "      <th>LabComponent</th>\n",
       "      <th>TestUnits</th>\n",
       "      <th>TestUnitsCleaned</th>\n",
       "      <th>TestResult</th>\n",
       "      <th>TestResultCleaned</th>\n",
       "      <th>adv_date</th>\n",
       "      <th>lab_name</th>\n",
       "    </tr>\n",
       "  </thead>\n",
       "  <tbody>\n",
       "    <tr>\n",
       "      <th>8463747</th>\n",
       "      <td>F4447A97DB75A</td>\n",
       "      <td>2011-08-22</td>\n",
       "      <td>718-7</td>\n",
       "      <td>Hemoglobin, whole blood</td>\n",
       "      <td>g/uL</td>\n",
       "      <td>g/dL</td>\n",
       "      <td>9.7</td>\n",
       "      <td>970000.0</td>\n",
       "      <td>2011-05-04</td>\n",
       "      <td>hemoglobin</td>\n",
       "    </tr>\n",
       "    <tr>\n",
       "      <th>14098794</th>\n",
       "      <td>F721C75793570</td>\n",
       "      <td>2012-03-07</td>\n",
       "      <td>718-7</td>\n",
       "      <td>Hemoglobin, whole blood</td>\n",
       "      <td>g/uL</td>\n",
       "      <td>g/dL</td>\n",
       "      <td>13.0</td>\n",
       "      <td>1300000.0</td>\n",
       "      <td>2012-12-04</td>\n",
       "      <td>hemoglobin</td>\n",
       "    </tr>\n",
       "    <tr>\n",
       "      <th>10843914</th>\n",
       "      <td>F58777DAA5179</td>\n",
       "      <td>2012-01-03</td>\n",
       "      <td>718-7</td>\n",
       "      <td>Hemoglobin, whole blood</td>\n",
       "      <td>g/uL</td>\n",
       "      <td>g/dL</td>\n",
       "      <td>10.6</td>\n",
       "      <td>1060000.0</td>\n",
       "      <td>2012-05-14</td>\n",
       "      <td>hemoglobin</td>\n",
       "    </tr>\n",
       "    <tr>\n",
       "      <th>16148814</th>\n",
       "      <td>F83A103141F7F</td>\n",
       "      <td>2012-04-26</td>\n",
       "      <td>718-7</td>\n",
       "      <td>Hemoglobin, whole blood</td>\n",
       "      <td>g/uL</td>\n",
       "      <td>g/dL</td>\n",
       "      <td>14.6</td>\n",
       "      <td>1460000.0</td>\n",
       "      <td>2012-01-03</td>\n",
       "      <td>hemoglobin</td>\n",
       "    </tr>\n",
       "    <tr>\n",
       "      <th>19658311</th>\n",
       "      <td>F9FAD670294B9</td>\n",
       "      <td>2010-05-24</td>\n",
       "      <td>718-7</td>\n",
       "      <td>Hemoglobin, whole blood</td>\n",
       "      <td>g/uL</td>\n",
       "      <td>g/dL</td>\n",
       "      <td>11.5</td>\n",
       "      <td>1150000.0</td>\n",
       "      <td>2011-03-14</td>\n",
       "      <td>hemoglobin</td>\n",
       "    </tr>\n",
       "  </tbody>\n",
       "</table>\n",
       "</div>"
      ],
      "text/plain": [
       "              PatientID ResultDate  LOINC             LabComponent TestUnits  \\\n",
       "8463747   F4447A97DB75A 2011-08-22  718-7  Hemoglobin, whole blood      g/uL   \n",
       "14098794  F721C75793570 2012-03-07  718-7  Hemoglobin, whole blood      g/uL   \n",
       "10843914  F58777DAA5179 2012-01-03  718-7  Hemoglobin, whole blood      g/uL   \n",
       "16148814  F83A103141F7F 2012-04-26  718-7  Hemoglobin, whole blood      g/uL   \n",
       "19658311  F9FAD670294B9 2010-05-24  718-7  Hemoglobin, whole blood      g/uL   \n",
       "\n",
       "         TestUnitsCleaned TestResult  TestResultCleaned   adv_date    lab_name  \n",
       "8463747              g/dL        9.7           970000.0 2011-05-04  hemoglobin  \n",
       "14098794             g/dL       13.0          1300000.0 2012-12-04  hemoglobin  \n",
       "10843914             g/dL       10.6          1060000.0 2012-05-14  hemoglobin  \n",
       "16148814             g/dL       14.6          1460000.0 2012-01-03  hemoglobin  \n",
       "19658311             g/dL       11.5          1150000.0 2011-03-14  hemoglobin  "
      ]
     },
     "execution_count": 463,
     "metadata": {},
     "output_type": "execute_result"
    }
   ],
   "source": [
    "(\n",
    "    lab_core\n",
    "    .query('lab_name == \"hemoglobin\"')\n",
    "    .query('TestUnits == \"g/uL\"')\n",
    "    .sample(5)\n",
    ")"
   ]
  },
  {
   "cell_type": "code",
   "execution_count": 464,
   "metadata": {},
   "outputs": [],
   "source": [
    "conditions = [\n",
    "    ((lab_core['lab_name'] == 'wbc') | (lab_core['lab_name'] == 'neutrophil_count') | (lab_core['lab_name'] == 'platelet')) & \n",
    "    (lab_core['TestUnits'] == '10*3/L'),\n",
    "    (lab_core['lab_name'] == 'hemoglobin') & (lab_core['TestUnits'] == 'g/uL')]\n",
    "\n",
    "choices = [lab_core['TestResultCleaned'] * 1000000,\n",
    "           lab_core['TestResultCleaned'] / 100000]\n",
    "\n",
    "lab_core.loc[:, 'test_result_cleaned'] = np.select(conditions, choices, default = lab_core['TestResultCleaned'])"
   ]
  },
  {
   "cell_type": "code",
   "execution_count": 465,
   "metadata": {},
   "outputs": [],
   "source": [
    "# Elgibliity window is -90 and +30 from advanced diagnosis. \n",
    "lab_core_win = (\n",
    "    lab_core\n",
    "    .assign(lab_date_diff = (lab_core['ResultDate'] - lab_core['adv_date']).dt.days)\n",
    "    .query('lab_date_diff >= -90 and lab_date_diff <= 30')\n",
    "    .filter(items = ['PatientID', 'ResultDate', 'TestResultCleaned', 'lab_name', 'adv_date', 'test_result_cleaned', 'lab_date_diff'])\n",
    ")"
   ]
  },
  {
   "cell_type": "code",
   "execution_count": 466,
   "metadata": {},
   "outputs": [],
   "source": [
    "lab_core_win.loc[:, 'lab_date_diff'] = lab_core_win['lab_date_diff'].abs()"
   ]
  },
  {
   "cell_type": "code",
   "execution_count": 467,
   "metadata": {},
   "outputs": [],
   "source": [
    "# Select lab closest to date of advanced diagnosis and pivot to a wide table. \n",
    "lab_diag_wide = (\n",
    "    lab_core_win\n",
    "    .loc[lab_core_win.groupby(['PatientID', 'lab_name'])['lab_date_diff'].idxmin()]\n",
    "    .pivot(index = 'PatientID', columns = 'lab_name', values = 'test_result_cleaned')\n",
    "    .reset_index()\n",
    "    .rename(columns = {\n",
    "        'albumin': 'albumin_diag',\n",
    "        'creatinine': 'creatinine_diag',\n",
    "        'hemoglobin': 'hemoglobin_diag',\n",
    "        'neutrophil_count': 'neutrophil_count_diag',\n",
    "        'total_bilirubin': 'total_bilirubin_diag',\n",
    "        'wbc': 'wbc_diag',\n",
    "        'sodium': 'sodium_diag', \n",
    "        'bicarb': 'bicarb_diag',\n",
    "        'calcium': 'calcium_diag',\n",
    "        'ast': 'ast_diag', \n",
    "        'alt': 'alt_diag',\n",
    "        'platelet': 'platelet_diag',\n",
    "        'potassium': 'potassium_diag',\n",
    "        'chloride': 'chloride_diag',\n",
    "        'bun': 'bun_diag',\n",
    "        'alp': 'alp_diag'})\n",
    ")\n",
    "\n",
    "lab_diag_wide.columns.name = None"
   ]
  },
  {
   "cell_type": "code",
   "execution_count": 468,
   "metadata": {},
   "outputs": [
    {
     "data": {
      "text/plain": [
       "(37788, 37788)"
      ]
     },
     "execution_count": 468,
     "metadata": {},
     "output_type": "execute_result"
    }
   ],
   "source": [
    "row_ID(lab_diag_wide)"
   ]
  },
  {
   "cell_type": "code",
   "execution_count": 469,
   "metadata": {},
   "outputs": [],
   "source": [
    "lab_diag_wide = (\n",
    "    lab_diag_wide\n",
    "    .append(\n",
    "        pd.Series(train_IDs)[~pd.Series(train_IDs).isin(lab_diag_wide['PatientID'])].to_frame(name = 'PatientID'),\n",
    "        sort = False)\n",
    ")"
   ]
  },
  {
   "cell_type": "code",
   "execution_count": 470,
   "metadata": {},
   "outputs": [
    {
     "data": {
      "text/plain": [
       "(54786, 54786)"
      ]
     },
     "execution_count": 470,
     "metadata": {},
     "output_type": "execute_result"
    }
   ],
   "source": [
    "row_ID(lab_diag_wide)"
   ]
  },
  {
   "cell_type": "code",
   "execution_count": 471,
   "metadata": {},
   "outputs": [
    {
     "data": {
      "text/html": [
       "<div>\n",
       "<style scoped>\n",
       "    .dataframe tbody tr th:only-of-type {\n",
       "        vertical-align: middle;\n",
       "    }\n",
       "\n",
       "    .dataframe tbody tr th {\n",
       "        vertical-align: top;\n",
       "    }\n",
       "\n",
       "    .dataframe thead th {\n",
       "        text-align: right;\n",
       "    }\n",
       "</style>\n",
       "<table border=\"1\" class=\"dataframe\">\n",
       "  <thead>\n",
       "    <tr style=\"text-align: right;\">\n",
       "      <th></th>\n",
       "      <th>albumin_diag</th>\n",
       "      <th>alp_diag</th>\n",
       "      <th>alt_diag</th>\n",
       "      <th>ast_diag</th>\n",
       "      <th>bicarb_diag</th>\n",
       "      <th>bun_diag</th>\n",
       "      <th>calcium_diag</th>\n",
       "      <th>chloride_diag</th>\n",
       "      <th>creatinine_diag</th>\n",
       "      <th>hemoglobin_diag</th>\n",
       "      <th>neutrophil_count_diag</th>\n",
       "      <th>platelet_diag</th>\n",
       "      <th>potassium_diag</th>\n",
       "      <th>sodium_diag</th>\n",
       "      <th>total_bilirubin_diag</th>\n",
       "      <th>wbc_diag</th>\n",
       "    </tr>\n",
       "  </thead>\n",
       "  <tbody>\n",
       "    <tr>\n",
       "      <th>count</th>\n",
       "      <td>32460.000000</td>\n",
       "      <td>33770.000000</td>\n",
       "      <td>33390.000000</td>\n",
       "      <td>33788.000000</td>\n",
       "      <td>28597.000000</td>\n",
       "      <td>34614.000000</td>\n",
       "      <td>34176.000000</td>\n",
       "      <td>25493.000000</td>\n",
       "      <td>35791.000000</td>\n",
       "      <td>36157.000000</td>\n",
       "      <td>26369.000000</td>\n",
       "      <td>33031.000000</td>\n",
       "      <td>29296.000000</td>\n",
       "      <td>29283.000000</td>\n",
       "      <td>32680.000000</td>\n",
       "      <td>34292.000000</td>\n",
       "    </tr>\n",
       "    <tr>\n",
       "      <th>mean</th>\n",
       "      <td>37.680772</td>\n",
       "      <td>111.849769</td>\n",
       "      <td>24.898736</td>\n",
       "      <td>24.111877</td>\n",
       "      <td>26.187985</td>\n",
       "      <td>17.650529</td>\n",
       "      <td>9.434728</td>\n",
       "      <td>100.241090</td>\n",
       "      <td>0.943704</td>\n",
       "      <td>12.600041</td>\n",
       "      <td>8.749232</td>\n",
       "      <td>304.843319</td>\n",
       "      <td>4.324769</td>\n",
       "      <td>137.979744</td>\n",
       "      <td>0.497293</td>\n",
       "      <td>10.023404</td>\n",
       "    </tr>\n",
       "    <tr>\n",
       "      <th>std</th>\n",
       "      <td>5.335208</td>\n",
       "      <td>477.216271</td>\n",
       "      <td>39.682302</td>\n",
       "      <td>40.048667</td>\n",
       "      <td>3.486305</td>\n",
       "      <td>8.752838</td>\n",
       "      <td>4.834656</td>\n",
       "      <td>4.555686</td>\n",
       "      <td>0.705015</td>\n",
       "      <td>1.897591</td>\n",
       "      <td>103.084667</td>\n",
       "      <td>124.700151</td>\n",
       "      <td>0.544922</td>\n",
       "      <td>3.968144</td>\n",
       "      <td>0.440486</td>\n",
       "      <td>6.289899</td>\n",
       "    </tr>\n",
       "    <tr>\n",
       "      <th>min</th>\n",
       "      <td>-17.000000</td>\n",
       "      <td>13.000000</td>\n",
       "      <td>0.000000</td>\n",
       "      <td>1.000000</td>\n",
       "      <td>0.000000</td>\n",
       "      <td>1.000000</td>\n",
       "      <td>0.600000</td>\n",
       "      <td>1.000000</td>\n",
       "      <td>0.000000</td>\n",
       "      <td>0.100000</td>\n",
       "      <td>0.000000</td>\n",
       "      <td>0.134000</td>\n",
       "      <td>0.600000</td>\n",
       "      <td>26.000000</td>\n",
       "      <td>0.000000</td>\n",
       "      <td>0.003300</td>\n",
       "    </tr>\n",
       "    <tr>\n",
       "      <th>25%</th>\n",
       "      <td>35.000000</td>\n",
       "      <td>73.000000</td>\n",
       "      <td>12.000000</td>\n",
       "      <td>15.000000</td>\n",
       "      <td>24.000000</td>\n",
       "      <td>12.000000</td>\n",
       "      <td>9.000000</td>\n",
       "      <td>98.000000</td>\n",
       "      <td>0.700000</td>\n",
       "      <td>11.400000</td>\n",
       "      <td>4.500000</td>\n",
       "      <td>221.000000</td>\n",
       "      <td>4.000000</td>\n",
       "      <td>136.000000</td>\n",
       "      <td>0.300000</td>\n",
       "      <td>6.900000</td>\n",
       "    </tr>\n",
       "    <tr>\n",
       "      <th>50%</th>\n",
       "      <td>38.000000</td>\n",
       "      <td>91.000000</td>\n",
       "      <td>18.000000</td>\n",
       "      <td>19.000000</td>\n",
       "      <td>26.000000</td>\n",
       "      <td>16.000000</td>\n",
       "      <td>9.400000</td>\n",
       "      <td>101.000000</td>\n",
       "      <td>0.860000</td>\n",
       "      <td>12.700000</td>\n",
       "      <td>6.200000</td>\n",
       "      <td>285.000000</td>\n",
       "      <td>4.300000</td>\n",
       "      <td>138.000000</td>\n",
       "      <td>0.400000</td>\n",
       "      <td>8.800000</td>\n",
       "    </tr>\n",
       "    <tr>\n",
       "      <th>75%</th>\n",
       "      <td>41.000000</td>\n",
       "      <td>116.000000</td>\n",
       "      <td>28.000000</td>\n",
       "      <td>26.000000</td>\n",
       "      <td>28.000000</td>\n",
       "      <td>21.000000</td>\n",
       "      <td>9.700000</td>\n",
       "      <td>103.000000</td>\n",
       "      <td>1.060000</td>\n",
       "      <td>13.900000</td>\n",
       "      <td>8.741700</td>\n",
       "      <td>366.000000</td>\n",
       "      <td>4.600000</td>\n",
       "      <td>141.000000</td>\n",
       "      <td>0.600000</td>\n",
       "      <td>11.590000</td>\n",
       "    </tr>\n",
       "    <tr>\n",
       "      <th>max</th>\n",
       "      <td>77.000000</td>\n",
       "      <td>86000.000000</td>\n",
       "      <td>3488.000000</td>\n",
       "      <td>5116.000000</td>\n",
       "      <td>47.000000</td>\n",
       "      <td>142.000000</td>\n",
       "      <td>890.000000</td>\n",
       "      <td>120.000000</td>\n",
       "      <td>99.000000</td>\n",
       "      <td>44.000000</td>\n",
       "      <td>9348.000000</td>\n",
       "      <td>1973.000000</td>\n",
       "      <td>40.000000</td>\n",
       "      <td>159.000000</td>\n",
       "      <td>28.200000</td>\n",
       "      <td>362.900000</td>\n",
       "    </tr>\n",
       "  </tbody>\n",
       "</table>\n",
       "</div>"
      ],
      "text/plain": [
       "       albumin_diag      alp_diag      alt_diag      ast_diag   bicarb_diag  \\\n",
       "count  32460.000000  33770.000000  33390.000000  33788.000000  28597.000000   \n",
       "mean      37.680772    111.849769     24.898736     24.111877     26.187985   \n",
       "std        5.335208    477.216271     39.682302     40.048667      3.486305   \n",
       "min      -17.000000     13.000000      0.000000      1.000000      0.000000   \n",
       "25%       35.000000     73.000000     12.000000     15.000000     24.000000   \n",
       "50%       38.000000     91.000000     18.000000     19.000000     26.000000   \n",
       "75%       41.000000    116.000000     28.000000     26.000000     28.000000   \n",
       "max       77.000000  86000.000000   3488.000000   5116.000000     47.000000   \n",
       "\n",
       "           bun_diag  calcium_diag  chloride_diag  creatinine_diag  \\\n",
       "count  34614.000000  34176.000000   25493.000000     35791.000000   \n",
       "mean      17.650529      9.434728     100.241090         0.943704   \n",
       "std        8.752838      4.834656       4.555686         0.705015   \n",
       "min        1.000000      0.600000       1.000000         0.000000   \n",
       "25%       12.000000      9.000000      98.000000         0.700000   \n",
       "50%       16.000000      9.400000     101.000000         0.860000   \n",
       "75%       21.000000      9.700000     103.000000         1.060000   \n",
       "max      142.000000    890.000000     120.000000        99.000000   \n",
       "\n",
       "       hemoglobin_diag  neutrophil_count_diag  platelet_diag  potassium_diag  \\\n",
       "count     36157.000000           26369.000000   33031.000000    29296.000000   \n",
       "mean         12.600041               8.749232     304.843319        4.324769   \n",
       "std           1.897591             103.084667     124.700151        0.544922   \n",
       "min           0.100000               0.000000       0.134000        0.600000   \n",
       "25%          11.400000               4.500000     221.000000        4.000000   \n",
       "50%          12.700000               6.200000     285.000000        4.300000   \n",
       "75%          13.900000               8.741700     366.000000        4.600000   \n",
       "max          44.000000            9348.000000    1973.000000       40.000000   \n",
       "\n",
       "        sodium_diag  total_bilirubin_diag      wbc_diag  \n",
       "count  29283.000000          32680.000000  34292.000000  \n",
       "mean     137.979744              0.497293     10.023404  \n",
       "std        3.968144              0.440486      6.289899  \n",
       "min       26.000000              0.000000      0.003300  \n",
       "25%      136.000000              0.300000      6.900000  \n",
       "50%      138.000000              0.400000      8.800000  \n",
       "75%      141.000000              0.600000     11.590000  \n",
       "max      159.000000             28.200000    362.900000  "
      ]
     },
     "execution_count": 471,
     "metadata": {},
     "output_type": "execute_result"
    }
   ],
   "source": [
    "lab_diag_wide.describe()"
   ]
  },
  {
   "cell_type": "code",
   "execution_count": 472,
   "metadata": {},
   "outputs": [
    {
     "name": "stdout",
     "output_type": "stream",
     "text": [
      "Missing albumin: 40.75%\n",
      "Missing total_bilirubin: 40.35%\n",
      "Missing creatinine: 34.67%\n",
      "Missing hemoglobin: 34.00%\n",
      "Missing neutrophil: 51.87%\n",
      "Missing wbc: 37.41%\n",
      "Missing sodium: 46.55%\n",
      "Missing bicarb: 47.80%\n",
      "Missing calcium: 37.62%\n",
      "Missing ast: 38.33%\n",
      "Missing alt: 39.05%\n",
      "Missing platelet: 39.71%\n",
      "Missing potassium: 46.53%\n",
      "Missing chloride: 53.47%\n",
      "Missing bun: 36.82%\n",
      "Missing alp 38.36%\n"
     ]
    }
   ],
   "source": [
    "# Percentage of patients missing lab at time of advanced diagnosis.\n",
    "x = ((lab_diag_wide['albumin_diag'].isna().sum())/len(lab_diag_wide))*100\n",
    "print(f'Missing albumin: {x:.2f}%')\n",
    "\n",
    "x = ((lab_diag_wide['total_bilirubin_diag'].isna().sum())/len(lab_diag_wide))*100\n",
    "print(f'Missing total_bilirubin: {x:.2f}%')\n",
    "\n",
    "x = ((lab_diag_wide['creatinine_diag'].isna().sum())/len(lab_diag_wide))*100\n",
    "print(f'Missing creatinine: {x:.2f}%')\n",
    "\n",
    "x = ((lab_diag_wide['hemoglobin_diag'].isna().sum())/len(lab_diag_wide))*100\n",
    "print(f'Missing hemoglobin: {x:.2f}%')\n",
    "\n",
    "x = ((lab_diag_wide['neutrophil_count_diag'].isna().sum())/len(lab_diag_wide))*100\n",
    "print(f'Missing neutrophil: {x:.2f}%')\n",
    "\n",
    "x = ((lab_diag_wide['wbc_diag'].isna().sum())/len(lab_diag_wide))*100\n",
    "print(f'Missing wbc: {x:.2f}%')\n",
    "\n",
    "x = ((lab_diag_wide['sodium_diag'].isna().sum())/len(lab_diag_wide))*100\n",
    "print(f'Missing sodium: {x:.2f}%')\n",
    "\n",
    "x = ((lab_diag_wide['bicarb_diag'].isna().sum())/len(lab_diag_wide))*100\n",
    "print(f'Missing bicarb: {x:.2f}%')\n",
    "\n",
    "x = ((lab_diag_wide['calcium_diag'].isna().sum())/len(lab_diag_wide))*100\n",
    "print(f'Missing calcium: {x:.2f}%')\n",
    "\n",
    "x = ((lab_diag_wide['ast_diag'].isna().sum())/len(lab_diag_wide))*100\n",
    "print(f'Missing ast: {x:.2f}%')\n",
    "\n",
    "x = ((lab_diag_wide['alt_diag'].isna().sum())/len(lab_diag_wide))*100\n",
    "print(f'Missing alt: {x:.2f}%')\n",
    "\n",
    "x = ((lab_diag_wide['platelet_diag'].isna().sum())/len(lab_diag_wide))*100\n",
    "print(f'Missing platelet: {x:.2f}%')\n",
    "\n",
    "x = ((lab_diag_wide['potassium_diag'].isna().sum())/len(lab_diag_wide))*100\n",
    "print(f'Missing potassium: {x:.2f}%')\n",
    "\n",
    "x = ((lab_diag_wide['chloride_diag'].isna().sum())/len(lab_diag_wide))*100\n",
    "print(f'Missing chloride: {x:.2f}%')\n",
    "\n",
    "x = ((lab_diag_wide['bun_diag'].isna().sum())/len(lab_diag_wide))*100\n",
    "print(f'Missing bun: {x:.2f}%')\n",
    "\n",
    "x = ((lab_diag_wide['alp_diag'].isna().sum())/len(lab_diag_wide))*100\n",
    "print(f'Missing alp {x:.2f}%')"
   ]
  },
  {
   "cell_type": "code",
   "execution_count": 473,
   "metadata": {},
   "outputs": [],
   "source": [
    "# Create missing variables for labs at time of diagnosis. \n",
    "for x in range (1, len(lab_diag_wide.columns)):\n",
    "    lab_diag_wide.loc[:, lab_diag_wide.columns[x]+'_na'] = np.where(lab_diag_wide[lab_diag_wide.columns[x]].isna(), 1, 0)"
   ]
  },
  {
   "cell_type": "code",
   "execution_count": 474,
   "metadata": {},
   "outputs": [
    {
     "data": {
      "text/plain": [
       "['PatientID',\n",
       " 'albumin_diag',\n",
       " 'alp_diag',\n",
       " 'alt_diag',\n",
       " 'ast_diag',\n",
       " 'bicarb_diag',\n",
       " 'bun_diag',\n",
       " 'calcium_diag',\n",
       " 'chloride_diag',\n",
       " 'creatinine_diag',\n",
       " 'hemoglobin_diag',\n",
       " 'neutrophil_count_diag',\n",
       " 'platelet_diag',\n",
       " 'potassium_diag',\n",
       " 'sodium_diag',\n",
       " 'total_bilirubin_diag',\n",
       " 'wbc_diag',\n",
       " 'albumin_diag_na',\n",
       " 'alp_diag_na',\n",
       " 'alt_diag_na',\n",
       " 'ast_diag_na',\n",
       " 'bicarb_diag_na',\n",
       " 'bun_diag_na',\n",
       " 'calcium_diag_na',\n",
       " 'chloride_diag_na',\n",
       " 'creatinine_diag_na',\n",
       " 'hemoglobin_diag_na',\n",
       " 'neutrophil_count_diag_na',\n",
       " 'platelet_diag_na',\n",
       " 'potassium_diag_na',\n",
       " 'sodium_diag_na',\n",
       " 'total_bilirubin_diag_na',\n",
       " 'wbc_diag_na']"
      ]
     },
     "execution_count": 474,
     "metadata": {},
     "output_type": "execute_result"
    }
   ],
   "source": [
    "list(lab_diag_wide.columns)"
   ]
  },
  {
   "cell_type": "code",
   "execution_count": 475,
   "metadata": {},
   "outputs": [
    {
     "data": {
      "text/plain": [
       "0.25311210893293906"
      ]
     },
     "execution_count": 475,
     "metadata": {},
     "output_type": "execute_result"
    }
   ],
   "source": [
    "# Percentage of patients with all labs collected at time of advanced diagnosis.\n",
    "(\n",
    "    lab_diag_wide\n",
    "    [~lab_diag_wide.isnull().any(axis = 1)]\n",
    "    .shape[0]\n",
    "    /len(lab_diag_wide)\n",
    ")"
   ]
  },
  {
   "cell_type": "code",
   "execution_count": 476,
   "metadata": {},
   "outputs": [
    {
     "data": {
      "text/plain": [
       "0.5256634906727996"
      ]
     },
     "execution_count": 476,
     "metadata": {},
     "output_type": "execute_result"
    }
   ],
   "source": [
    "# Percentage of patients with creatinine, hemoglobin, WBC, albumin, and bilirubin, collected at time of advanced diagnosis.\n",
    "(\n",
    "    lab_diag_wide\n",
    "    [~lab_diag_wide[['albumin_diag', 'total_bilirubin_diag', 'creatinine_diag', 'hemoglobin_diag', 'wbc_diag']]\n",
    "    .isnull().any(axis = 1)]\n",
    "    .shape[0]\n",
    "    /len(lab_diag_wide)\n",
    ")"
   ]
  },
  {
   "cell_type": "code",
   "execution_count": 477,
   "metadata": {},
   "outputs": [
    {
     "data": {
      "text/plain": [
       "0.5906618479173511"
      ]
     },
     "execution_count": 477,
     "metadata": {},
     "output_type": "execute_result"
    }
   ],
   "source": [
    "# Percentage of patients with creatinine, hemoglobin, and WBC colleced at time of advanced diagnosis. \n",
    "(\n",
    "    lab_diag_wide\n",
    "    [~lab_diag_wide[['creatinine_diag', 'hemoglobin_diag', 'wbc_diag']]\n",
    "     .isnull().any(axis = 1)]\n",
    "    .shape[0]\n",
    "    /len(lab_diag_wide)\n",
    ")"
   ]
  },
  {
   "cell_type": "markdown",
   "metadata": {},
   "source": [
    "#### Mean, max, min, and standard deviation"
   ]
  },
  {
   "cell_type": "code",
   "execution_count": 478,
   "metadata": {},
   "outputs": [],
   "source": [
    "# Elgibility window is negative infinity to +30 from advanced diagnosis. \n",
    "lab_core_win_summ = (\n",
    "    lab_core\n",
    "    .assign(lab_date_diff = (lab_core['ResultDate'] - lab_core['adv_date']).dt.days)\n",
    "    .query('lab_date_diff <= 30')\n",
    "    .filter(items = ['PatientID', 'ResultDate', 'TestResultCleaned', 'lab_name', 'adv_date', 'test_result_cleaned', 'lab_date_diff'])\n",
    ")"
   ]
  },
  {
   "cell_type": "code",
   "execution_count": 479,
   "metadata": {},
   "outputs": [],
   "source": [
    "# Pivot table of average values for core labs during elgibility period of -90 to -30 days from advanced diagnosis. \n",
    "lab_avg_wide = (\n",
    "    lab_core_win_summ\n",
    "    .groupby(['PatientID', 'lab_name'])['test_result_cleaned'].mean()\n",
    "    .to_frame()\n",
    "    .reset_index()\n",
    "    .pivot(index = 'PatientID', columns = 'lab_name', values = 'test_result_cleaned')\n",
    "    .reset_index()\n",
    "    .rename(columns = {\n",
    "        'albumin': 'albumin_avg',\n",
    "        'creatinine': 'creatinine_avg',\n",
    "        'hemoglobin': 'hemoglobin_avg',\n",
    "        'neutrophil_count': 'neutrophil_count_avg',\n",
    "        'total_bilirubin': 'total_bilirubin_avg',\n",
    "        'wbc': 'wbc_avg',\n",
    "        'sodium': 'sodium_avg', \n",
    "        'bicarb': 'bicarb_avg',\n",
    "        'calcium': 'calcium_avg',\n",
    "        'ast': 'ast_avg', \n",
    "        'alt': 'alt_avg',\n",
    "        'platelet': 'platelet_avg',\n",
    "        'potassium': 'potassium_avg',\n",
    "        'chloride': 'chloride_avg',\n",
    "        'bun': 'bun_avg',\n",
    "        'alp': 'alp_avg'})\n",
    ")\n",
    "\n",
    "lab_avg_wide.columns.name = None"
   ]
  },
  {
   "cell_type": "code",
   "execution_count": 480,
   "metadata": {},
   "outputs": [
    {
     "data": {
      "text/plain": [
       "(39520, 39520)"
      ]
     },
     "execution_count": 480,
     "metadata": {},
     "output_type": "execute_result"
    }
   ],
   "source": [
    "row_ID(lab_avg_wide)"
   ]
  },
  {
   "cell_type": "code",
   "execution_count": 481,
   "metadata": {},
   "outputs": [],
   "source": [
    "# Pivot table of maximum values for core labs during elgibility period of -90 to -30 days from advanced diagnosis. \n",
    "lab_max_wide = (\n",
    "    lab_core_win_summ\n",
    "    .groupby(['PatientID', 'lab_name'])['test_result_cleaned'].max()\n",
    "    .to_frame()\n",
    "    .reset_index()\n",
    "    .pivot(index = 'PatientID', columns = 'lab_name', values = 'test_result_cleaned')\n",
    "    .reset_index()\n",
    "    .rename(columns = {\n",
    "        'albumin': 'albumin_max',\n",
    "        'creatinine': 'creatinine_max',\n",
    "        'hemoglobin': 'hemoglobin_max',\n",
    "        'neutrophil_count': 'neutrophil_count_max',\n",
    "        'total_bilirubin': 'total_bilirubin_max',\n",
    "        'wbc': 'wbc_max', \n",
    "        'sodium': 'sodium_max', \n",
    "        'bicarb': 'bicarb_max',\n",
    "        'calcium': 'calcium_max',\n",
    "        'ast': 'ast_max', \n",
    "        'alt': 'alt_max',\n",
    "        'platelet': 'platelet_max',\n",
    "        'potassium': 'potassium_max',\n",
    "        'chloride': 'chloride_max',\n",
    "        'bun': 'bun_max', \n",
    "        'alp': 'alp_max'})\n",
    ")\n",
    "\n",
    "lab_max_wide.columns.name = None"
   ]
  },
  {
   "cell_type": "code",
   "execution_count": 482,
   "metadata": {},
   "outputs": [
    {
     "data": {
      "text/plain": [
       "(39520, 39520)"
      ]
     },
     "execution_count": 482,
     "metadata": {},
     "output_type": "execute_result"
    }
   ],
   "source": [
    "row_ID(lab_max_wide)"
   ]
  },
  {
   "cell_type": "code",
   "execution_count": 483,
   "metadata": {},
   "outputs": [],
   "source": [
    "# Pivot table of minimum values for core labs during elgibility period of -90 to -30 days from advanced diagnosis. \n",
    "lab_min_wide = (\n",
    "    lab_core_win_summ\n",
    "    .groupby(['PatientID', 'lab_name'])['test_result_cleaned'].min()\n",
    "    .to_frame()\n",
    "    .reset_index()\n",
    "    .pivot(index = 'PatientID', columns = 'lab_name', values = 'test_result_cleaned')\n",
    "    .reset_index()\n",
    "    .rename(columns = {\n",
    "        'albumin': 'albumin_min',\n",
    "        'creatinine': 'creatinine_min',\n",
    "        'hemoglobin': 'hemoglobin_min',\n",
    "        'neutrophil_count': 'neutrophil_count_min',\n",
    "        'total_bilirubin': 'total_bilirubin_min',\n",
    "        'wbc': 'wbc_min',\n",
    "        'sodium': 'sodium_min', \n",
    "        'bicarb': 'bicarb_min',\n",
    "        'calcium': 'calcium_min',\n",
    "        'ast': 'ast_min', \n",
    "        'alt': 'alt_min',\n",
    "        'platelet': 'platelet_min',\n",
    "        'potassium': 'potassium_min',\n",
    "        'chloride': 'chloride_min',\n",
    "        'bun': 'bun_min',\n",
    "        'alp': 'alp_min'})\n",
    ")\n",
    "\n",
    "lab_min_wide.columns.name = None"
   ]
  },
  {
   "cell_type": "code",
   "execution_count": 484,
   "metadata": {},
   "outputs": [
    {
     "data": {
      "text/plain": [
       "(39520, 39520)"
      ]
     },
     "execution_count": 484,
     "metadata": {},
     "output_type": "execute_result"
    }
   ],
   "source": [
    "row_ID(lab_min_wide)"
   ]
  },
  {
   "cell_type": "code",
   "execution_count": 485,
   "metadata": {},
   "outputs": [],
   "source": [
    "# Pivot table of standard deviation for core labs during elgibility period of -90 to -30 days from advanced diagnosis. \n",
    "lab_std_wide = (\n",
    "    lab_core_win_summ\n",
    "    .groupby(['PatientID', 'lab_name'])['test_result_cleaned'].std()\n",
    "    .to_frame()\n",
    "    .reset_index()\n",
    "    .pivot(index = 'PatientID', columns = 'lab_name', values = 'test_result_cleaned')\n",
    "    .reset_index()\n",
    "    .rename(columns = {\n",
    "        'albumin': 'albumin_std',\n",
    "        'creatinine': 'creatinine_std',\n",
    "        'hemoglobin': 'hemoglobin_std',\n",
    "        'neutrophil_count': 'neutrophil_count_std',\n",
    "        'total_bilirubin': 'total_bilirubin_std',\n",
    "        'wbc': 'wbc_std',\n",
    "        'sodium': 'sodium_std', \n",
    "        'bicarb': 'bicarb_std',\n",
    "        'calcium': 'calcium_std',\n",
    "        'ast': 'ast_std', \n",
    "        'alt': 'alt_std',\n",
    "        'platelet': 'platelet_std',\n",
    "        'potassium': 'potassium_std',\n",
    "        'chloride': 'chloride_std',\n",
    "        'bun': 'bun_std', \n",
    "        'alp': 'alp_std'})\n",
    ")\n",
    "\n",
    "lab_std_wide.columns.name = None"
   ]
  },
  {
   "cell_type": "code",
   "execution_count": 486,
   "metadata": {},
   "outputs": [
    {
     "data": {
      "text/plain": [
       "(39520, 39520)"
      ]
     },
     "execution_count": 486,
     "metadata": {},
     "output_type": "execute_result"
    }
   ],
   "source": [
    "row_ID(lab_std_wide)"
   ]
  },
  {
   "cell_type": "code",
   "execution_count": 487,
   "metadata": {},
   "outputs": [],
   "source": [
    "lab_summary_wide = pd.merge(lab_avg_wide, lab_max_wide, on = 'PatientID', how = 'outer')"
   ]
  },
  {
   "cell_type": "code",
   "execution_count": 488,
   "metadata": {},
   "outputs": [],
   "source": [
    "lab_summary_wide = pd.merge(lab_summary_wide, lab_min_wide, on = 'PatientID', how = 'outer')"
   ]
  },
  {
   "cell_type": "code",
   "execution_count": 489,
   "metadata": {},
   "outputs": [],
   "source": [
    "lab_summary_wide = pd.merge(lab_summary_wide, lab_std_wide, on = 'PatientID', how = 'outer')"
   ]
  },
  {
   "cell_type": "code",
   "execution_count": 490,
   "metadata": {},
   "outputs": [
    {
     "data": {
      "text/plain": [
       "(39520, 39520)"
      ]
     },
     "execution_count": 490,
     "metadata": {},
     "output_type": "execute_result"
    }
   ],
   "source": [
    "row_ID(lab_summary_wide)"
   ]
  },
  {
   "cell_type": "code",
   "execution_count": 491,
   "metadata": {},
   "outputs": [],
   "source": [
    "lab_summary_wide = (\n",
    "    lab_summary_wide\n",
    "    .append(\n",
    "        pd.Series(train_IDs)[~pd.Series(train_IDs).isin(lab_summary_wide['PatientID'])].to_frame(name = 'PatientID'),\n",
    "        sort = False)\n",
    ")"
   ]
  },
  {
   "cell_type": "code",
   "execution_count": 492,
   "metadata": {},
   "outputs": [
    {
     "data": {
      "text/plain": [
       "(54786, 54786)"
      ]
     },
     "execution_count": 492,
     "metadata": {},
     "output_type": "execute_result"
    }
   ],
   "source": [
    "row_ID(lab_summary_wide)"
   ]
  },
  {
   "cell_type": "code",
   "execution_count": 493,
   "metadata": {},
   "outputs": [
    {
     "data": {
      "text/html": [
       "<div>\n",
       "<style scoped>\n",
       "    .dataframe tbody tr th:only-of-type {\n",
       "        vertical-align: middle;\n",
       "    }\n",
       "\n",
       "    .dataframe tbody tr th {\n",
       "        vertical-align: top;\n",
       "    }\n",
       "\n",
       "    .dataframe thead th {\n",
       "        text-align: right;\n",
       "    }\n",
       "</style>\n",
       "<table border=\"1\" class=\"dataframe\">\n",
       "  <thead>\n",
       "    <tr style=\"text-align: right;\">\n",
       "      <th></th>\n",
       "      <th>PatientID</th>\n",
       "      <th>albumin_avg</th>\n",
       "      <th>alp_avg</th>\n",
       "      <th>alt_avg</th>\n",
       "      <th>ast_avg</th>\n",
       "      <th>bicarb_avg</th>\n",
       "      <th>bun_avg</th>\n",
       "      <th>calcium_avg</th>\n",
       "      <th>chloride_avg</th>\n",
       "      <th>creatinine_avg</th>\n",
       "      <th>...</th>\n",
       "      <th>calcium_std</th>\n",
       "      <th>chloride_std</th>\n",
       "      <th>creatinine_std</th>\n",
       "      <th>hemoglobin_std</th>\n",
       "      <th>neutrophil_count_std</th>\n",
       "      <th>platelet_std</th>\n",
       "      <th>potassium_std</th>\n",
       "      <th>sodium_std</th>\n",
       "      <th>total_bilirubin_std</th>\n",
       "      <th>wbc_std</th>\n",
       "    </tr>\n",
       "  </thead>\n",
       "  <tbody>\n",
       "    <tr>\n",
       "      <th>35541</th>\n",
       "      <td>FE61EAA2397E7</td>\n",
       "      <td>NaN</td>\n",
       "      <td>118.000000</td>\n",
       "      <td>10.000000</td>\n",
       "      <td>14.000000</td>\n",
       "      <td>27.600000</td>\n",
       "      <td>55.000000</td>\n",
       "      <td>9.600000</td>\n",
       "      <td>103.00000</td>\n",
       "      <td>1.700000</td>\n",
       "      <td>...</td>\n",
       "      <td>NaN</td>\n",
       "      <td>NaN</td>\n",
       "      <td>NaN</td>\n",
       "      <td>NaN</td>\n",
       "      <td>NaN</td>\n",
       "      <td>NaN</td>\n",
       "      <td>NaN</td>\n",
       "      <td>NaN</td>\n",
       "      <td>NaN</td>\n",
       "      <td>NaN</td>\n",
       "    </tr>\n",
       "    <tr>\n",
       "      <th>34512</th>\n",
       "      <td>FDF932795FC28</td>\n",
       "      <td>42.333333</td>\n",
       "      <td>110.000000</td>\n",
       "      <td>30.666667</td>\n",
       "      <td>19.333333</td>\n",
       "      <td>24.650000</td>\n",
       "      <td>19.000000</td>\n",
       "      <td>9.033333</td>\n",
       "      <td>103.75000</td>\n",
       "      <td>0.866667</td>\n",
       "      <td>...</td>\n",
       "      <td>0.115470</td>\n",
       "      <td>1.484924</td>\n",
       "      <td>0.057735</td>\n",
       "      <td>0.737111</td>\n",
       "      <td>NaN</td>\n",
       "      <td>NaN</td>\n",
       "      <td>0.106066</td>\n",
       "      <td>2.262742</td>\n",
       "      <td>0.115470</td>\n",
       "      <td>1.501111</td>\n",
       "    </tr>\n",
       "    <tr>\n",
       "      <th>32524</th>\n",
       "      <td>FD309A04469E6</td>\n",
       "      <td>43.454545</td>\n",
       "      <td>102.607143</td>\n",
       "      <td>26.714286</td>\n",
       "      <td>21.000000</td>\n",
       "      <td>25.909091</td>\n",
       "      <td>25.393939</td>\n",
       "      <td>9.624242</td>\n",
       "      <td>103.69697</td>\n",
       "      <td>0.827879</td>\n",
       "      <td>...</td>\n",
       "      <td>0.272753</td>\n",
       "      <td>2.709761</td>\n",
       "      <td>0.111039</td>\n",
       "      <td>1.518042</td>\n",
       "      <td>1.351703</td>\n",
       "      <td>38.453731</td>\n",
       "      <td>0.233833</td>\n",
       "      <td>2.141314</td>\n",
       "      <td>0.148370</td>\n",
       "      <td>1.659466</td>\n",
       "    </tr>\n",
       "    <tr>\n",
       "      <th>25879</th>\n",
       "      <td>FE17B43D5A4ED</td>\n",
       "      <td>NaN</td>\n",
       "      <td>NaN</td>\n",
       "      <td>NaN</td>\n",
       "      <td>NaN</td>\n",
       "      <td>NaN</td>\n",
       "      <td>NaN</td>\n",
       "      <td>NaN</td>\n",
       "      <td>NaN</td>\n",
       "      <td>NaN</td>\n",
       "      <td>...</td>\n",
       "      <td>NaN</td>\n",
       "      <td>NaN</td>\n",
       "      <td>NaN</td>\n",
       "      <td>NaN</td>\n",
       "      <td>NaN</td>\n",
       "      <td>NaN</td>\n",
       "      <td>NaN</td>\n",
       "      <td>NaN</td>\n",
       "      <td>NaN</td>\n",
       "      <td>NaN</td>\n",
       "    </tr>\n",
       "    <tr>\n",
       "      <th>15865</th>\n",
       "      <td>F66FBB7ACBF33</td>\n",
       "      <td>NaN</td>\n",
       "      <td>82.000000</td>\n",
       "      <td>34.500000</td>\n",
       "      <td>22.500000</td>\n",
       "      <td>21.500000</td>\n",
       "      <td>15.000000</td>\n",
       "      <td>9.800000</td>\n",
       "      <td>100.00000</td>\n",
       "      <td>0.750000</td>\n",
       "      <td>...</td>\n",
       "      <td>0.141421</td>\n",
       "      <td>1.414214</td>\n",
       "      <td>0.070711</td>\n",
       "      <td>0.212132</td>\n",
       "      <td>3.464823</td>\n",
       "      <td>45.961941</td>\n",
       "      <td>0.212132</td>\n",
       "      <td>1.414214</td>\n",
       "      <td>0.049497</td>\n",
       "      <td>2.404163</td>\n",
       "    </tr>\n",
       "  </tbody>\n",
       "</table>\n",
       "<p>5 rows × 65 columns</p>\n",
       "</div>"
      ],
      "text/plain": [
       "           PatientID  albumin_avg     alp_avg    alt_avg    ast_avg  \\\n",
       "35541  FE61EAA2397E7          NaN  118.000000  10.000000  14.000000   \n",
       "34512  FDF932795FC28    42.333333  110.000000  30.666667  19.333333   \n",
       "32524  FD309A04469E6    43.454545  102.607143  26.714286  21.000000   \n",
       "25879  FE17B43D5A4ED          NaN         NaN        NaN        NaN   \n",
       "15865  F66FBB7ACBF33          NaN   82.000000  34.500000  22.500000   \n",
       "\n",
       "       bicarb_avg    bun_avg  calcium_avg  chloride_avg  creatinine_avg  ...  \\\n",
       "35541   27.600000  55.000000     9.600000     103.00000        1.700000  ...   \n",
       "34512   24.650000  19.000000     9.033333     103.75000        0.866667  ...   \n",
       "32524   25.909091  25.393939     9.624242     103.69697        0.827879  ...   \n",
       "25879         NaN        NaN          NaN           NaN             NaN  ...   \n",
       "15865   21.500000  15.000000     9.800000     100.00000        0.750000  ...   \n",
       "\n",
       "       calcium_std  chloride_std  creatinine_std  hemoglobin_std  \\\n",
       "35541          NaN           NaN             NaN             NaN   \n",
       "34512     0.115470      1.484924        0.057735        0.737111   \n",
       "32524     0.272753      2.709761        0.111039        1.518042   \n",
       "25879          NaN           NaN             NaN             NaN   \n",
       "15865     0.141421      1.414214        0.070711        0.212132   \n",
       "\n",
       "       neutrophil_count_std  platelet_std  potassium_std  sodium_std  \\\n",
       "35541                   NaN           NaN            NaN         NaN   \n",
       "34512                   NaN           NaN       0.106066    2.262742   \n",
       "32524              1.351703     38.453731       0.233833    2.141314   \n",
       "25879                   NaN           NaN            NaN         NaN   \n",
       "15865              3.464823     45.961941       0.212132    1.414214   \n",
       "\n",
       "       total_bilirubin_std   wbc_std  \n",
       "35541                  NaN       NaN  \n",
       "34512             0.115470  1.501111  \n",
       "32524             0.148370  1.659466  \n",
       "25879                  NaN       NaN  \n",
       "15865             0.049497  2.404163  \n",
       "\n",
       "[5 rows x 65 columns]"
      ]
     },
     "execution_count": 493,
     "metadata": {},
     "output_type": "execute_result"
    }
   ],
   "source": [
    "lab_summary_wide.sample(5)"
   ]
  },
  {
   "cell_type": "code",
   "execution_count": 494,
   "metadata": {},
   "outputs": [
    {
     "data": {
      "text/plain": [
       "['PatientID',\n",
       " 'albumin_avg',\n",
       " 'alp_avg',\n",
       " 'alt_avg',\n",
       " 'ast_avg',\n",
       " 'bicarb_avg',\n",
       " 'bun_avg',\n",
       " 'calcium_avg',\n",
       " 'chloride_avg',\n",
       " 'creatinine_avg',\n",
       " 'hemoglobin_avg',\n",
       " 'neutrophil_count_avg',\n",
       " 'platelet_avg',\n",
       " 'potassium_avg',\n",
       " 'sodium_avg',\n",
       " 'total_bilirubin_avg',\n",
       " 'wbc_avg',\n",
       " 'albumin_max',\n",
       " 'alp_max',\n",
       " 'alt_max',\n",
       " 'ast_max',\n",
       " 'bicarb_max',\n",
       " 'bun_max',\n",
       " 'calcium_max',\n",
       " 'chloride_max',\n",
       " 'creatinine_max',\n",
       " 'hemoglobin_max',\n",
       " 'neutrophil_count_max',\n",
       " 'platelet_max',\n",
       " 'potassium_max',\n",
       " 'sodium_max',\n",
       " 'total_bilirubin_max',\n",
       " 'wbc_max',\n",
       " 'albumin_min',\n",
       " 'alp_min',\n",
       " 'alt_min',\n",
       " 'ast_min',\n",
       " 'bicarb_min',\n",
       " 'bun_min',\n",
       " 'calcium_min',\n",
       " 'chloride_min',\n",
       " 'creatinine_min',\n",
       " 'hemoglobin_min',\n",
       " 'neutrophil_count_min',\n",
       " 'platelet_min',\n",
       " 'potassium_min',\n",
       " 'sodium_min',\n",
       " 'total_bilirubin_min',\n",
       " 'wbc_min',\n",
       " 'albumin_std',\n",
       " 'alp_std',\n",
       " 'alt_std',\n",
       " 'ast_std',\n",
       " 'bicarb_std',\n",
       " 'bun_std',\n",
       " 'calcium_std',\n",
       " 'chloride_std',\n",
       " 'creatinine_std',\n",
       " 'hemoglobin_std',\n",
       " 'neutrophil_count_std',\n",
       " 'platelet_std',\n",
       " 'potassium_std',\n",
       " 'sodium_std',\n",
       " 'total_bilirubin_std',\n",
       " 'wbc_std']"
      ]
     },
     "execution_count": 494,
     "metadata": {},
     "output_type": "execute_result"
    }
   ],
   "source": [
    "list(lab_summary_wide.columns)"
   ]
  },
  {
   "cell_type": "markdown",
   "metadata": {},
   "source": [
    "#### Slope"
   ]
  },
  {
   "cell_type": "code",
   "execution_count": 495,
   "metadata": {},
   "outputs": [],
   "source": [
    "lab_core_win_summ.loc[:, 'result_date_ordinal'] = lab_core_win_summ['ResultDate'].map(dt.datetime.toordinal)"
   ]
  },
  {
   "cell_type": "code",
   "execution_count": 496,
   "metadata": {},
   "outputs": [
    {
     "name": "stderr",
     "output_type": "stream",
     "text": [
      "/Applications/anaconda3/lib/python3.7/site-packages/scipy/stats/_stats_mstats_common.py:170: RuntimeWarning: invalid value encountered in double_scalars\n",
      "  slope = ssxym / ssxm\n",
      "/Applications/anaconda3/lib/python3.7/site-packages/scipy/stats/_stats_mstats_common.py:184: RuntimeWarning: invalid value encountered in sqrt\n",
      "  t = r * np.sqrt(df / ((1.0 - r + TINY)*(1.0 + r + TINY)))\n",
      "/Applications/anaconda3/lib/python3.7/site-packages/scipy/stats/_stats_mstats_common.py:187: RuntimeWarning: invalid value encountered in double_scalars\n",
      "  slope_stderr = np.sqrt((1 - r**2) * ssym / ssxm / df)\n",
      "/Applications/anaconda3/lib/python3.7/site-packages/scipy/stats/_stats_mstats_common.py:187: RuntimeWarning: divide by zero encountered in double_scalars\n",
      "  slope_stderr = np.sqrt((1 - r**2) * ssym / ssxm / df)\n"
     ]
    }
   ],
   "source": [
    "lab_slope_wide = (\n",
    "    lab_core_win_summ\n",
    "    .groupby(['PatientID', 'lab_name'])\n",
    "    .apply(lambda x: pd.Series(linregress(x['result_date_ordinal'], x['test_result_cleaned'])))\n",
    "    .rename(columns = {0: 'slope'})\n",
    "    .reset_index()\n",
    "    .filter(items = ['PatientID', 'lab_name', 'slope'])\n",
    "    .pivot(index = 'PatientID', columns = 'lab_name', values = 'slope')\n",
    "    .reset_index()\n",
    "    .rename(columns = {\n",
    "        'albumin': 'albumin_slope',\n",
    "        'creatinine': 'creatinine_slope',\n",
    "        'hemoglobin': 'hemoglobin_slope',\n",
    "        'neutrophil_count': 'neutrophil_count_slope',\n",
    "        'total_bilirubin': 'total_bilirubin_slope',\n",
    "        'wbc': 'wbc_slope',\n",
    "        'sodium': 'sodium_slope', \n",
    "        'bicarb': 'bicarb_slope',\n",
    "        'calcium': 'calcium_slope',\n",
    "        'ast': 'ast_slope', \n",
    "        'alt': 'alt_slope',\n",
    "        'platelet': 'platelet_slope',\n",
    "        'potassium': 'potassium_slope',\n",
    "        'chloride': 'chloride_slope',\n",
    "        'bun': 'bun_slope',\n",
    "        'alp': 'alp_slope'})\n",
    ")\n",
    "\n",
    "lab_slope_wide.columns.name = None"
   ]
  },
  {
   "cell_type": "code",
   "execution_count": 497,
   "metadata": {},
   "outputs": [
    {
     "data": {
      "text/plain": [
       "(39520, 39520)"
      ]
     },
     "execution_count": 497,
     "metadata": {},
     "output_type": "execute_result"
    }
   ],
   "source": [
    "row_ID(lab_slope_wide)"
   ]
  },
  {
   "cell_type": "code",
   "execution_count": 498,
   "metadata": {},
   "outputs": [],
   "source": [
    "lab_slope_wide = (\n",
    "    lab_slope_wide\n",
    "    .append(\n",
    "        pd.Series(train_IDs)[~pd.Series(train_IDs).isin(lab_slope_wide['PatientID'])].to_frame(name = 'PatientID'),\n",
    "        sort = False)\n",
    ")"
   ]
  },
  {
   "cell_type": "code",
   "execution_count": 499,
   "metadata": {},
   "outputs": [],
   "source": [
    "# Create missing variables for lab slope. \n",
    "for x in range (1, len(lab_slope_wide.columns)):\n",
    "    lab_slope_wide.loc[:, lab_slope_wide.columns[x]+'_na'] = np.where(lab_slope_wide[lab_slope_wide.columns[x]].isna(), 1, 0)"
   ]
  },
  {
   "cell_type": "code",
   "execution_count": 500,
   "metadata": {},
   "outputs": [
    {
     "data": {
      "text/plain": [
       "(54786, 54786)"
      ]
     },
     "execution_count": 500,
     "metadata": {},
     "output_type": "execute_result"
    }
   ],
   "source": [
    "row_ID(lab_slope_wide)"
   ]
  },
  {
   "cell_type": "markdown",
   "metadata": {},
   "source": [
    "#### Merge"
   ]
  },
  {
   "cell_type": "code",
   "execution_count": 501,
   "metadata": {},
   "outputs": [],
   "source": [
    "lab_wide = pd.merge(lab_diag_wide, lab_summary_wide, on = 'PatientID')"
   ]
  },
  {
   "cell_type": "code",
   "execution_count": 502,
   "metadata": {},
   "outputs": [],
   "source": [
    "lab_wide = pd.merge(lab_wide, lab_slope_wide, on = 'PatientID')"
   ]
  },
  {
   "cell_type": "code",
   "execution_count": 503,
   "metadata": {},
   "outputs": [
    {
     "data": {
      "text/plain": [
       "(54786, 54786)"
      ]
     },
     "execution_count": 503,
     "metadata": {},
     "output_type": "execute_result"
    }
   ],
   "source": [
    "row_ID(lab_wide)"
   ]
  },
  {
   "cell_type": "code",
   "execution_count": 504,
   "metadata": {},
   "outputs": [
    {
     "data": {
      "text/plain": [
       "['PatientID',\n",
       " 'albumin_diag',\n",
       " 'alp_diag',\n",
       " 'alt_diag',\n",
       " 'ast_diag',\n",
       " 'bicarb_diag',\n",
       " 'bun_diag',\n",
       " 'calcium_diag',\n",
       " 'chloride_diag',\n",
       " 'creatinine_diag',\n",
       " 'hemoglobin_diag',\n",
       " 'neutrophil_count_diag',\n",
       " 'platelet_diag',\n",
       " 'potassium_diag',\n",
       " 'sodium_diag',\n",
       " 'total_bilirubin_diag',\n",
       " 'wbc_diag',\n",
       " 'albumin_diag_na',\n",
       " 'alp_diag_na',\n",
       " 'alt_diag_na',\n",
       " 'ast_diag_na',\n",
       " 'bicarb_diag_na',\n",
       " 'bun_diag_na',\n",
       " 'calcium_diag_na',\n",
       " 'chloride_diag_na',\n",
       " 'creatinine_diag_na',\n",
       " 'hemoglobin_diag_na',\n",
       " 'neutrophil_count_diag_na',\n",
       " 'platelet_diag_na',\n",
       " 'potassium_diag_na',\n",
       " 'sodium_diag_na',\n",
       " 'total_bilirubin_diag_na',\n",
       " 'wbc_diag_na',\n",
       " 'albumin_avg',\n",
       " 'alp_avg',\n",
       " 'alt_avg',\n",
       " 'ast_avg',\n",
       " 'bicarb_avg',\n",
       " 'bun_avg',\n",
       " 'calcium_avg',\n",
       " 'chloride_avg',\n",
       " 'creatinine_avg',\n",
       " 'hemoglobin_avg',\n",
       " 'neutrophil_count_avg',\n",
       " 'platelet_avg',\n",
       " 'potassium_avg',\n",
       " 'sodium_avg',\n",
       " 'total_bilirubin_avg',\n",
       " 'wbc_avg',\n",
       " 'albumin_max',\n",
       " 'alp_max',\n",
       " 'alt_max',\n",
       " 'ast_max',\n",
       " 'bicarb_max',\n",
       " 'bun_max',\n",
       " 'calcium_max',\n",
       " 'chloride_max',\n",
       " 'creatinine_max',\n",
       " 'hemoglobin_max',\n",
       " 'neutrophil_count_max',\n",
       " 'platelet_max',\n",
       " 'potassium_max',\n",
       " 'sodium_max',\n",
       " 'total_bilirubin_max',\n",
       " 'wbc_max',\n",
       " 'albumin_min',\n",
       " 'alp_min',\n",
       " 'alt_min',\n",
       " 'ast_min',\n",
       " 'bicarb_min',\n",
       " 'bun_min',\n",
       " 'calcium_min',\n",
       " 'chloride_min',\n",
       " 'creatinine_min',\n",
       " 'hemoglobin_min',\n",
       " 'neutrophil_count_min',\n",
       " 'platelet_min',\n",
       " 'potassium_min',\n",
       " 'sodium_min',\n",
       " 'total_bilirubin_min',\n",
       " 'wbc_min',\n",
       " 'albumin_std',\n",
       " 'alp_std',\n",
       " 'alt_std',\n",
       " 'ast_std',\n",
       " 'bicarb_std',\n",
       " 'bun_std',\n",
       " 'calcium_std',\n",
       " 'chloride_std',\n",
       " 'creatinine_std',\n",
       " 'hemoglobin_std',\n",
       " 'neutrophil_count_std',\n",
       " 'platelet_std',\n",
       " 'potassium_std',\n",
       " 'sodium_std',\n",
       " 'total_bilirubin_std',\n",
       " 'wbc_std',\n",
       " 'albumin_slope',\n",
       " 'alp_slope',\n",
       " 'alt_slope',\n",
       " 'ast_slope',\n",
       " 'bicarb_slope',\n",
       " 'bun_slope',\n",
       " 'calcium_slope',\n",
       " 'chloride_slope',\n",
       " 'creatinine_slope',\n",
       " 'hemoglobin_slope',\n",
       " 'neutrophil_count_slope',\n",
       " 'platelet_slope',\n",
       " 'potassium_slope',\n",
       " 'sodium_slope',\n",
       " 'total_bilirubin_slope',\n",
       " 'wbc_slope',\n",
       " 'albumin_slope_na',\n",
       " 'alp_slope_na',\n",
       " 'alt_slope_na',\n",
       " 'ast_slope_na',\n",
       " 'bicarb_slope_na',\n",
       " 'bun_slope_na',\n",
       " 'calcium_slope_na',\n",
       " 'chloride_slope_na',\n",
       " 'creatinine_slope_na',\n",
       " 'hemoglobin_slope_na',\n",
       " 'neutrophil_count_slope_na',\n",
       " 'platelet_slope_na',\n",
       " 'potassium_slope_na',\n",
       " 'sodium_slope_na',\n",
       " 'total_bilirubin_slope_na',\n",
       " 'wbc_slope_na']"
      ]
     },
     "execution_count": 504,
     "metadata": {},
     "output_type": "execute_result"
    }
   ],
   "source": [
    "list(lab_wide.columns)"
   ]
  },
  {
   "cell_type": "code",
   "execution_count": 505,
   "metadata": {},
   "outputs": [
    {
     "name": "stdout",
     "output_type": "stream",
     "text": [
      "Variable              Type         Data/Info\n",
      "--------------------------------------------\n",
      "biomarker_wide        DataFrame               PatientID     <...>n[54786 rows x 8 columns]\n",
      "demographics          DataFrame               PatientID Prac<...>n[54786 rows x 7 columns]\n",
      "ecog_diagnosis_wide   DataFrame                PatientID eco<...>n[54786 rows x 2 columns]\n",
      "enhanced_adv          DataFrame               PatientID diag<...>n[54786 rows x 9 columns]\n",
      "insurance_wide        DataFrame               PatientID  com<...>n[54786 rows x 5 columns]\n",
      "lab                   DataFrame                  PatientID  <...>628480 rows x 17 columns]\n",
      "lab_avg_wide          DataFrame               PatientID  alb<...>[39520 rows x 17 columns]\n",
      "lab_core              DataFrame                  PatientID R<...>649886 rows x 11 columns]\n",
      "lab_core_win          DataFrame                  PatientID R<...>1289240 rows x 7 columns]\n",
      "lab_core_win_summ     DataFrame                  PatientID R<...>3257690 rows x 8 columns]\n",
      "lab_diag_wide         DataFrame               PatientID  alb<...>[54786 rows x 33 columns]\n",
      "lab_max_wide          DataFrame               PatientID  alb<...>[39520 rows x 17 columns]\n",
      "lab_min_wide          DataFrame               PatientID  alb<...>[39520 rows x 17 columns]\n",
      "lab_slope_wide        DataFrame               PatientID  alb<...>[54786 rows x 33 columns]\n",
      "lab_std_wide          DataFrame               PatientID  alb<...>[39520 rows x 17 columns]\n",
      "lab_summary_wide      DataFrame               PatientID  alb<...>[54786 rows x 65 columns]\n",
      "lab_wide              DataFrame               PatientID  alb<...>54786 rows x 129 columns]\n",
      "med_admin_wide        DataFrame               PatientID  ste<...>[54786 rows x 14 columns]\n",
      "mortality             DataFrame               PatientID  dea<...>n[54786 rows x 3 columns]\n",
      "telemedicine          DataFrame               PatientID   Vi<...>n[16712 rows x 2 columns]\n",
      "visit                 DataFrame                 PatientID   <...>2446952 rows x 6 columns]\n",
      "weight_wide           DataFrame               PatientID  wei<...>n[54786 rows x 7 columns]\n"
     ]
    }
   ],
   "source": [
    "%whos DataFrame"
   ]
  },
  {
   "cell_type": "code",
   "execution_count": 506,
   "metadata": {},
   "outputs": [],
   "source": [
    "# Keep biomarker_wide, demographics, ecog_diagnosis_wide, enhanced_adv, insurance_wide, lab_wide, med_admin_wide, \n",
    "# mortality, and weight_wide\n",
    "del lab\n",
    "del lab_avg_wide\n",
    "del lab_core\n",
    "del lab_core_win\n",
    "del lab_core_win_summ\n",
    "del lab_diag_wide\n",
    "del lab_max_wide\n",
    "del lab_min_wide\n",
    "del lab_slope_wide\n",
    "del lab_std_wide\n",
    "del lab_summary_wide"
   ]
  },
  {
   "cell_type": "markdown",
   "metadata": {},
   "source": [
    "### 10. Diagnosis "
   ]
  },
  {
   "cell_type": "code",
   "execution_count": 507,
   "metadata": {},
   "outputs": [],
   "source": [
    "diagnosis = pd.read_csv('Diagnosis.csv')"
   ]
  },
  {
   "cell_type": "code",
   "execution_count": 508,
   "metadata": {},
   "outputs": [
    {
     "data": {
      "text/html": [
       "<div>\n",
       "<style scoped>\n",
       "    .dataframe tbody tr th:only-of-type {\n",
       "        vertical-align: middle;\n",
       "    }\n",
       "\n",
       "    .dataframe tbody tr th {\n",
       "        vertical-align: top;\n",
       "    }\n",
       "\n",
       "    .dataframe thead th {\n",
       "        text-align: right;\n",
       "    }\n",
       "</style>\n",
       "<table border=\"1\" class=\"dataframe\">\n",
       "  <thead>\n",
       "    <tr style=\"text-align: right;\">\n",
       "      <th></th>\n",
       "      <th>PatientID</th>\n",
       "      <th>DiagnosisDate</th>\n",
       "      <th>DiagnosisCode</th>\n",
       "      <th>DiagnosisCodeSystem</th>\n",
       "      <th>DiagnosisDescription</th>\n",
       "    </tr>\n",
       "  </thead>\n",
       "  <tbody>\n",
       "    <tr>\n",
       "      <th>0</th>\n",
       "      <td>FE3742B2CEB28</td>\n",
       "      <td>2020-06-30</td>\n",
       "      <td>162.9</td>\n",
       "      <td>ICD-9-CM</td>\n",
       "      <td>Malignant neoplasm of bronchus and lung, unspe...</td>\n",
       "    </tr>\n",
       "    <tr>\n",
       "      <th>1</th>\n",
       "      <td>FE3742B2CEB28</td>\n",
       "      <td>2020-09-14</td>\n",
       "      <td>578.9</td>\n",
       "      <td>ICD-9-CM</td>\n",
       "      <td>Hemorrhage of gastrointestinal tract, unspecified</td>\n",
       "    </tr>\n",
       "    <tr>\n",
       "      <th>2</th>\n",
       "      <td>FE3742B2CEB28</td>\n",
       "      <td>2008-06-20</td>\n",
       "      <td>782.0</td>\n",
       "      <td>ICD-9-CM</td>\n",
       "      <td>Disturbance of skin sensation</td>\n",
       "    </tr>\n",
       "    <tr>\n",
       "      <th>3</th>\n",
       "      <td>FE3742B2CEB28</td>\n",
       "      <td>2008-05-28</td>\n",
       "      <td>793.0</td>\n",
       "      <td>ICD-9-CM</td>\n",
       "      <td>Nonspecific (abnormal) findings on radiologica...</td>\n",
       "    </tr>\n",
       "    <tr>\n",
       "      <th>4</th>\n",
       "      <td>FE3742B2CEB28</td>\n",
       "      <td>2008-06-20</td>\n",
       "      <td>793.0</td>\n",
       "      <td>ICD-9-CM</td>\n",
       "      <td>Nonspecific (abnormal) findings on radiologica...</td>\n",
       "    </tr>\n",
       "  </tbody>\n",
       "</table>\n",
       "</div>"
      ],
      "text/plain": [
       "       PatientID DiagnosisDate DiagnosisCode DiagnosisCodeSystem  \\\n",
       "0  FE3742B2CEB28    2020-06-30         162.9            ICD-9-CM   \n",
       "1  FE3742B2CEB28    2020-09-14         578.9            ICD-9-CM   \n",
       "2  FE3742B2CEB28    2008-06-20         782.0            ICD-9-CM   \n",
       "3  FE3742B2CEB28    2008-05-28         793.0            ICD-9-CM   \n",
       "4  FE3742B2CEB28    2008-06-20         793.0            ICD-9-CM   \n",
       "\n",
       "                                DiagnosisDescription  \n",
       "0  Malignant neoplasm of bronchus and lung, unspe...  \n",
       "1  Hemorrhage of gastrointestinal tract, unspecified  \n",
       "2                      Disturbance of skin sensation  \n",
       "3  Nonspecific (abnormal) findings on radiologica...  \n",
       "4  Nonspecific (abnormal) findings on radiologica...  "
      ]
     },
     "execution_count": 508,
     "metadata": {},
     "output_type": "execute_result"
    }
   ],
   "source": [
    "diagnosis.head(5)"
   ]
  },
  {
   "cell_type": "code",
   "execution_count": 509,
   "metadata": {},
   "outputs": [
    {
     "name": "stdout",
     "output_type": "stream",
     "text": [
      "<class 'pandas.core.frame.DataFrame'>\n",
      "RangeIndex: 1499292 entries, 0 to 1499291\n",
      "Data columns (total 5 columns):\n",
      " #   Column                Non-Null Count    Dtype \n",
      "---  ------                --------------    ----- \n",
      " 0   PatientID             1499292 non-null  object\n",
      " 1   DiagnosisDate         1491329 non-null  object\n",
      " 2   DiagnosisCode         1499292 non-null  object\n",
      " 3   DiagnosisCodeSystem   1499292 non-null  object\n",
      " 4   DiagnosisDescription  1499292 non-null  object\n",
      "dtypes: object(5)\n",
      "memory usage: 57.2+ MB\n"
     ]
    }
   ],
   "source": [
    "diagnosis.info()"
   ]
  },
  {
   "cell_type": "code",
   "execution_count": 510,
   "metadata": {},
   "outputs": [
    {
     "data": {
      "text/plain": [
       "(1499292, 68483)"
      ]
     },
     "execution_count": 510,
     "metadata": {},
     "output_type": "execute_result"
    }
   ],
   "source": [
    "row_ID(diagnosis)"
   ]
  },
  {
   "cell_type": "code",
   "execution_count": 511,
   "metadata": {},
   "outputs": [],
   "source": [
    "diagnosis = diagnosis[diagnosis['PatientID'].isin(train_IDs)]"
   ]
  },
  {
   "cell_type": "code",
   "execution_count": 512,
   "metadata": {},
   "outputs": [
    {
     "data": {
      "text/plain": [
       "(1209131, 54786)"
      ]
     },
     "execution_count": 512,
     "metadata": {},
     "output_type": "execute_result"
    }
   ],
   "source": [
    "row_ID(diagnosis)"
   ]
  },
  {
   "cell_type": "code",
   "execution_count": 513,
   "metadata": {},
   "outputs": [
    {
     "data": {
      "text/plain": [
       "count    54786.000000\n",
       "mean        22.070073\n",
       "std         74.232961\n",
       "min          1.000000\n",
       "25%          3.000000\n",
       "50%          7.000000\n",
       "75%         13.000000\n",
       "max       2390.000000\n",
       "Name: DiagnosisCode, dtype: float64"
      ]
     },
     "execution_count": 513,
     "metadata": {},
     "output_type": "execute_result"
    }
   ],
   "source": [
    "(\n",
    "    diagnosis\n",
    "    .groupby('PatientID')['DiagnosisCode'].count()\n",
    "    .describe()\n",
    ")"
   ]
  },
  {
   "cell_type": "code",
   "execution_count": 514,
   "metadata": {},
   "outputs": [
    {
     "data": {
      "text/plain": [
       "14472"
      ]
     },
     "execution_count": 514,
     "metadata": {},
     "output_type": "execute_result"
    }
   ],
   "source": [
    "diagnosis['DiagnosisCode'].nunique()"
   ]
  },
  {
   "cell_type": "markdown",
   "metadata": {},
   "source": [
    "**The Diagnosis table is in long format and has over 13,000 unique ICD 9 and 10 codes. The median number of ICD codes per patient is 7 with a standard deviation of 73.** \n",
    "\n",
    "**ICD codes before advanced diagnosis and up to 30 days past diagnosis will be mapped to the Elixhauser comorbidity index. (\"Coding Algorithms for Defining Comorbidities in ICD-9-CM and ICD-10 Administrative Data\"  by Quan et al is used as a guide for linking ICD codes to Elixhauser comorbidities.) Presence of concurrent or prior cancer diagnosis that is not lung cancer or metastasis and sites of metastases at time of diagnosis will also be created.** "
   ]
  },
  {
   "cell_type": "markdown",
   "metadata": {},
   "source": [
    "#### 11.1 Elixhauser"
   ]
  },
  {
   "cell_type": "code",
   "execution_count": 515,
   "metadata": {},
   "outputs": [],
   "source": [
    "diagnosis = pd.merge(diagnosis, enhanced_adv[['PatientID', 'adv_date']], on = 'PatientID', how = 'left')"
   ]
  },
  {
   "cell_type": "code",
   "execution_count": 516,
   "metadata": {},
   "outputs": [],
   "source": [
    "diagnosis.loc[:, 'DiagnosisDate'] = pd.to_datetime(diagnosis['DiagnosisDate'])"
   ]
  },
  {
   "cell_type": "code",
   "execution_count": 517,
   "metadata": {},
   "outputs": [],
   "source": [
    "diagnosis.loc[:, 'diagnosis_date_diff'] = (diagnosis['DiagnosisDate'] - diagnosis['adv_date']).dt.days"
   ]
  },
  {
   "cell_type": "code",
   "execution_count": 518,
   "metadata": {},
   "outputs": [],
   "source": [
    "# Remove decimal to make mapping to Elixhauser easier. \n",
    "diagnosis.loc[:, 'diagnosis_code'] = diagnosis['DiagnosisCode'].replace('\\.', '', regex = True)"
   ]
  },
  {
   "cell_type": "markdown",
   "metadata": {},
   "source": [
    "##### 10.1a Elixhauser for ICD-9"
   ]
  },
  {
   "cell_type": "code",
   "execution_count": 519,
   "metadata": {},
   "outputs": [],
   "source": [
    "# ICD-9 dataframe with unique codes for each patient. \n",
    "diagnosis_elix_9 = (\n",
    "    diagnosis\n",
    "    .query('diagnosis_date_diff <= 30')\n",
    "    .query('DiagnosisCodeSystem == \"ICD-9-CM\"')\n",
    "    .drop_duplicates(subset = (['PatientID', 'DiagnosisCode']), keep = 'first')\n",
    "    .filter(items = ['PatientID', 'DiagnosisCode', 'diagnosis_code'])\n",
    ")"
   ]
  },
  {
   "cell_type": "code",
   "execution_count": 520,
   "metadata": {},
   "outputs": [
    {
     "data": {
      "text/plain": [
       "(115721, 25868)"
      ]
     },
     "execution_count": 520,
     "metadata": {},
     "output_type": "execute_result"
    }
   ],
   "source": [
    "row_ID(diagnosis_elix_9)"
   ]
  },
  {
   "cell_type": "code",
   "execution_count": 521,
   "metadata": {},
   "outputs": [],
   "source": [
    "diagnosis_elix_9.loc[:, 'chf'] = (\n",
    "    np.where(diagnosis_elix_9['diagnosis_code'].str.match('39891|'\n",
    "                                                          '402(01|11|91)|'\n",
    "                                                          '404(01|03|[19][13])|'\n",
    "                                                          '42(5[456789]|8)'), 1, 0)\n",
    ")"
   ]
  },
  {
   "cell_type": "code",
   "execution_count": 522,
   "metadata": {},
   "outputs": [],
   "source": [
    "diagnosis_elix_9.loc[:, 'cardiac_arrhythmias'] = (\n",
    "    np.where(diagnosis_elix_9['diagnosis_code'].str.match('426([079]|1[023])|'\n",
    "                                                          '427[012346789]|'\n",
    "                                                          '7850|'\n",
    "                                                          '996(01|04)|'\n",
    "                                                          'V450|'\n",
    "                                                          'V533'), 1, 0)\n",
    ")"
   ]
  },
  {
   "cell_type": "code",
   "execution_count": 523,
   "metadata": {},
   "outputs": [],
   "source": [
    "diagnosis_elix_9.loc[:, 'valvular_disease'] = (\n",
    "    np.where(diagnosis_elix_9['diagnosis_code'].str.match('0932|'\n",
    "                                                          '39[4567]|'\n",
    "                                                          '424|'\n",
    "                                                          '746[3456]|'\n",
    "                                                          'V422|'\n",
    "                                                          'V433'), 1, 0)\n",
    ")"
   ]
  },
  {
   "cell_type": "code",
   "execution_count": 524,
   "metadata": {},
   "outputs": [],
   "source": [
    "diagnosis_elix_9.loc[:, 'pulmonary_circulation'] = (\n",
    "    np.where(diagnosis_elix_9['diagnosis_code'].str.match('41(5[01]|6|7[089])'), 1, 0)\n",
    ")"
   ]
  },
  {
   "cell_type": "code",
   "execution_count": 525,
   "metadata": {},
   "outputs": [],
   "source": [
    "diagnosis_elix_9.loc[:, 'peripheral_vascular'] = (\n",
    "    np.where(diagnosis_elix_9['diagnosis_code'].str.match('0930|'\n",
    "                                                          '4373|'\n",
    "                                                          '44([01]|3[123456789]|71)|'\n",
    "                                                          '557[19]|'\n",
    "                                                          'V434'), 1, 0)\n",
    ")"
   ]
  },
  {
   "cell_type": "code",
   "execution_count": 526,
   "metadata": {},
   "outputs": [],
   "source": [
    "diagnosis_elix_9.loc[:, 'htn_uncomplicated'] = (\n",
    "    np.where(diagnosis_elix_9['diagnosis_code'].str.match('401'), 1, 0)\n",
    ")"
   ]
  },
  {
   "cell_type": "code",
   "execution_count": 527,
   "metadata": {},
   "outputs": [],
   "source": [
    "diagnosis_elix_9.loc[:, 'htn_complicated'] = (\n",
    "    np.where(diagnosis_elix_9['diagnosis_code'].str.match('40[2345]'), 1, 0)\n",
    ")"
   ]
  },
  {
   "cell_type": "code",
   "execution_count": 528,
   "metadata": {},
   "outputs": [],
   "source": [
    "diagnosis_elix_9.loc[:, 'paralysis'] = (\n",
    "    np.where(diagnosis_elix_9['diagnosis_code'].str.match('3341|'\n",
    "                                                          '34([23]|4[01234569])'), 1, 0)\n",
    ")"
   ]
  },
  {
   "cell_type": "code",
   "execution_count": 529,
   "metadata": {},
   "outputs": [],
   "source": [
    "diagnosis_elix_9.loc[:, 'other_neuro_disorders'] = (\n",
    "    np.where(diagnosis_elix_9['diagnosis_code'].str.match('33(19|2[01]|3([45]|92)|[45]|62)|'\n",
    "                                                          '34([015]|8[13])|'\n",
    "                                                          '78[04]3'), 1, 0)\n",
    ")"
   ]
  },
  {
   "cell_type": "code",
   "execution_count": 530,
   "metadata": {},
   "outputs": [],
   "source": [
    "diagnosis_elix_9.loc[:, 'chronic_pulmonary'] = (\n",
    "    np.where(diagnosis_elix_9['diagnosis_code'].str.match('416[89]|'\n",
    "                                                          '49|'\n",
    "                                                          '50([012345]|64|8[18])'), 1, 0)\n",
    ")"
   ]
  },
  {
   "cell_type": "code",
   "execution_count": 531,
   "metadata": {},
   "outputs": [],
   "source": [
    "diagnosis_elix_9.loc[:, 'diabetes_uncomplicated'] = (\n",
    "    np.where(diagnosis_elix_9['diagnosis_code'].str.match('250[0123]'), 1, 0)\n",
    ")"
   ]
  },
  {
   "cell_type": "code",
   "execution_count": 532,
   "metadata": {},
   "outputs": [],
   "source": [
    "diagnosis_elix_9.loc[:, 'diabetes_complicated'] = (\n",
    "    np.where(diagnosis_elix_9['diagnosis_code'].str.match('250[456789]'), 1, 0)\n",
    ")"
   ]
  },
  {
   "cell_type": "code",
   "execution_count": 533,
   "metadata": {},
   "outputs": [],
   "source": [
    "diagnosis_elix_9.loc[:, 'hypothyroidism'] = (\n",
    "    np.where(diagnosis_elix_9['diagnosis_code'].str.match('2409|'\n",
    "                                                          '24([34]|6[18])'), 1, 0)\n",
    ")"
   ]
  },
  {
   "cell_type": "code",
   "execution_count": 534,
   "metadata": {},
   "outputs": [],
   "source": [
    "diagnosis_elix_9.loc[:, 'renal_failure'] = (\n",
    "    np.where(diagnosis_elix_9['diagnosis_code'].str.match('403[019]1|'\n",
    "                                                          '404[019][23]|'\n",
    "                                                          '58([56]|80)|'\n",
    "                                                          'V4(20|51)|'\n",
    "                                                          'V56'), 1, 0)\n",
    ")"
   ]
  },
  {
   "cell_type": "code",
   "execution_count": 535,
   "metadata": {},
   "outputs": [],
   "source": [
    "diagnosis_elix_9.loc[:, 'liver_disease'] = (\n",
    "    np.where(diagnosis_elix_9['diagnosis_code'].str.match('070(2[23]]|3[23]|44|54|6|9)|'\n",
    "                                                          '456[012]|'\n",
    "                                                          '57([01]|2[2345678]|3[3489])|'\n",
    "                                                          'V427'), 1, 0)\n",
    ")"
   ]
  },
  {
   "cell_type": "code",
   "execution_count": 536,
   "metadata": {},
   "outputs": [],
   "source": [
    "diagnosis_elix_9.loc[:, 'peptic_ulcer_disease'] = (\n",
    "    np.where(diagnosis_elix_9['diagnosis_code'].str.match('53[1234][79]'), 1, 0)\n",
    ")"
   ]
  },
  {
   "cell_type": "code",
   "execution_count": 537,
   "metadata": {},
   "outputs": [],
   "source": [
    "diagnosis_elix_9.loc[:, 'aids_hiv'] = (\n",
    "    np.where(diagnosis_elix_9['diagnosis_code'].str.match('04[234]'), 1, 0)\n",
    ")"
   ]
  },
  {
   "cell_type": "code",
   "execution_count": 538,
   "metadata": {},
   "outputs": [],
   "source": [
    "diagnosis_elix_9.loc[:, 'lymphoma'] = (\n",
    "    np.where(diagnosis_elix_9['diagnosis_code'].str.match('20([012]|30)|'\n",
    "                                                          '2386'), 1, 0)\n",
    ")"
   ]
  },
  {
   "cell_type": "code",
   "execution_count": 539,
   "metadata": {},
   "outputs": [],
   "source": [
    "diagnosis_elix_9.loc[:, 'metastatic_cancer'] = (\n",
    "    np.where(diagnosis_elix_9['diagnosis_code'].str.match('19[6789]'), 1, 0)\n",
    ")"
   ]
  },
  {
   "cell_type": "code",
   "execution_count": 540,
   "metadata": {},
   "outputs": [],
   "source": [
    "diagnosis_elix_9.loc[:, 'solid_tumor_wout_mets'] = (\n",
    "    np.where(diagnosis_elix_9['diagnosis_code'].str.match('1[456]|'\n",
    "                                                          '17[012456789]|'\n",
    "                                                          '18|'\n",
    "                                                          '19([012345])'), 1, 0)\n",
    ")"
   ]
  },
  {
   "cell_type": "code",
   "execution_count": 541,
   "metadata": {},
   "outputs": [],
   "source": [
    "diagnosis_elix_9.loc[:, 'rheumatoid_arthritis'] = (\n",
    "    np.where(diagnosis_elix_9['diagnosis_code'].str.match('446|'\n",
    "                                                          '7010|'\n",
    "                                                          '71(0[0123489]|12|4|93)|'\n",
    "                                                          '72([05]|85|889|930)'), 1, 0)\n",
    ")"
   ]
  },
  {
   "cell_type": "code",
   "execution_count": 542,
   "metadata": {},
   "outputs": [],
   "source": [
    "diagnosis_elix_9.loc[:, 'coagulopathy'] = (\n",
    "    np.where(diagnosis_elix_9['diagnosis_code'].str.match('28(6|7[1345])'), 1, 0)\n",
    ")"
   ]
  },
  {
   "cell_type": "code",
   "execution_count": 543,
   "metadata": {},
   "outputs": [],
   "source": [
    "diagnosis_elix_9.loc[:, 'obesity'] = (\n",
    "    np.where(diagnosis_elix_9['diagnosis_code'].str.match('2780'), 1, 0)\n",
    ")"
   ]
  },
  {
   "cell_type": "code",
   "execution_count": 544,
   "metadata": {},
   "outputs": [],
   "source": [
    "diagnosis_elix_9.loc[:, 'weight_loss'] = (\n",
    "    np.where(diagnosis_elix_9['diagnosis_code'].str.match('26[0123]|'\n",
    "                                                          '7832|'\n",
    "                                                          '7994'), 1, 0)\n",
    ")"
   ]
  },
  {
   "cell_type": "code",
   "execution_count": 545,
   "metadata": {},
   "outputs": [],
   "source": [
    "diagnosis_elix_9.loc[:, 'fluid_electrolyte'] = (\n",
    "    np.where(diagnosis_elix_9['diagnosis_code'].str.match('2(536|76)'), 1, 0)\n",
    ")"
   ]
  },
  {
   "cell_type": "code",
   "execution_count": 546,
   "metadata": {},
   "outputs": [],
   "source": [
    "diagnosis_elix_9.loc[:, 'blood_loss_anemia'] = (\n",
    "    np.where(diagnosis_elix_9['diagnosis_code'].str.match('2800'), 1, 0)\n",
    ")"
   ]
  },
  {
   "cell_type": "code",
   "execution_count": 547,
   "metadata": {},
   "outputs": [],
   "source": [
    "diagnosis_elix_9.loc[:, 'deficiency_anemia'] = (\n",
    "    np.where(diagnosis_elix_9['diagnosis_code'].str.match('28(0[123456789]|1)'), 1, 0)\n",
    ")"
   ]
  },
  {
   "cell_type": "code",
   "execution_count": 548,
   "metadata": {},
   "outputs": [],
   "source": [
    "diagnosis_elix_9.loc[:, 'alcohol_abuse'] = (\n",
    "    np.where(diagnosis_elix_9['diagnosis_code'].str.match('2652|'\n",
    "                                                          '291[12356789]|'\n",
    "                                                          '30(3[09]|50)|'\n",
    "                                                          '3575|'\n",
    "                                                          '4255|'\n",
    "                                                          '5353|'\n",
    "                                                          '571[0123]|'\n",
    "                                                          '980|'\n",
    "                                                          'V113'), 1, 0)\n",
    ")"
   ]
  },
  {
   "cell_type": "code",
   "execution_count": 549,
   "metadata": {},
   "outputs": [],
   "source": [
    "diagnosis_elix_9.loc[:, 'drug_abuse'] = (\n",
    "    np.where(diagnosis_elix_9['diagnosis_code'].str.match('292|'\n",
    "                                                          '30(4|5[23456789])|'\n",
    "                                                          'V6542'), 1, 0)\n",
    ")"
   ]
  },
  {
   "cell_type": "code",
   "execution_count": 550,
   "metadata": {},
   "outputs": [],
   "source": [
    "diagnosis_elix_9.loc[:, 'psychoses'] = (\n",
    "    np.where(diagnosis_elix_9['diagnosis_code'].str.match('2938|'\n",
    "                                                          '296[0145]4|'\n",
    "                                                          '29[578]'), 1, 0)\n",
    ")"
   ]
  },
  {
   "cell_type": "code",
   "execution_count": 551,
   "metadata": {},
   "outputs": [],
   "source": [
    "diagnosis_elix_9.loc[:, 'depression'] = (\n",
    "    np.where(diagnosis_elix_9['diagnosis_code'].str.match('296[235]|'\n",
    "                                                          '3(004|09|11)'), 1, 0)\n",
    ")"
   ]
  },
  {
   "cell_type": "code",
   "execution_count": 552,
   "metadata": {},
   "outputs": [],
   "source": [
    "# Create variable that captures ICD-9 codes not included in Elixhauser. \n",
    "diagnosis_elix_9.loc[:, 'elixhauser_other'] = (\n",
    "    np.where(diagnosis_elix_9.iloc[:, 3:].eq(0).all(1), 1, 0)\n",
    ")"
   ]
  },
  {
   "cell_type": "code",
   "execution_count": 553,
   "metadata": {},
   "outputs": [
    {
     "data": {
      "text/plain": [
       "0.5627759870723551"
      ]
     },
     "execution_count": 553,
     "metadata": {},
     "output_type": "execute_result"
    }
   ],
   "source": [
    "# Percentage of ICD-9 codes not captured by Elixhauser.\n",
    "diagnosis_elix_9['elixhauser_other'].sum()/len(diagnosis_elix_9)"
   ]
  },
  {
   "cell_type": "code",
   "execution_count": 554,
   "metadata": {},
   "outputs": [],
   "source": [
    "# Single-row-per-patient dataframe with columns as Elixhauser comorbidities. \n",
    "diagnosis_elix_9_wide = (\n",
    "    diagnosis_elix_9\n",
    "    .drop(columns = ['DiagnosisCode', 'diagnosis_code'])\n",
    "    .groupby('PatientID').sum()\n",
    "    .reset_index()\n",
    ")"
   ]
  },
  {
   "cell_type": "code",
   "execution_count": 555,
   "metadata": {},
   "outputs": [
    {
     "data": {
      "text/plain": [
       "(25868, 25868)"
      ]
     },
     "execution_count": 555,
     "metadata": {},
     "output_type": "execute_result"
    }
   ],
   "source": [
    "row_ID(diagnosis_elix_9_wide)"
   ]
  },
  {
   "cell_type": "markdown",
   "metadata": {},
   "source": [
    "##### 10.1b Elixhauser for ICD-10"
   ]
  },
  {
   "cell_type": "code",
   "execution_count": 556,
   "metadata": {},
   "outputs": [],
   "source": [
    "# ICD-10 dataframe with unique codes for each patient.  \n",
    "diagnosis_elix_10 = (\n",
    "    diagnosis\n",
    "    .query('diagnosis_date_diff <= 30')\n",
    "    .query('DiagnosisCodeSystem == \"ICD-10-CM\"')\n",
    "    .drop_duplicates(subset = (['PatientID', 'DiagnosisCode']), keep = 'first')\n",
    "    .filter(items = ['PatientID', 'DiagnosisCode', 'diagnosis_code'])\n",
    ")"
   ]
  },
  {
   "cell_type": "code",
   "execution_count": 557,
   "metadata": {},
   "outputs": [
    {
     "data": {
      "text/plain": [
       "(221151, 30508)"
      ]
     },
     "execution_count": 557,
     "metadata": {},
     "output_type": "execute_result"
    }
   ],
   "source": [
    "row_ID(diagnosis_elix_10)"
   ]
  },
  {
   "cell_type": "code",
   "execution_count": 558,
   "metadata": {},
   "outputs": [],
   "source": [
    "diagnosis_elix_10.loc[:, 'chf'] = (\n",
    "    np.where(diagnosis_elix_10['diagnosis_code'].str.match('I099|'\n",
    "                                                           'I1(10|3[02])|'\n",
    "                                                           'I255|'\n",
    "                                                           'I4(2[056789]|3)|'\n",
    "                                                           'I50|'\n",
    "                                                           'P290'), 1, 0)\n",
    ")"
   ]
  },
  {
   "cell_type": "code",
   "execution_count": 559,
   "metadata": {},
   "outputs": [],
   "source": [
    "diagnosis_elix_10.loc[:, 'cardiac_arrhythmias'] = (\n",
    "    np.where(diagnosis_elix_10['diagnosis_code'].str.match('I4(4[123]|5[69]|[789])|'\n",
    "                                                           'R00[018]|'\n",
    "                                                           'T821|'\n",
    "                                                           'Z[49]50'), 1, 0)\n",
    ")"
   ]
  },
  {
   "cell_type": "code",
   "execution_count": 560,
   "metadata": {},
   "outputs": [],
   "source": [
    "diagnosis_elix_10.loc[:, 'valvular_disease'] = (\n",
    "    np.where(diagnosis_elix_10['diagnosis_code'].str.match('A520|'\n",
    "                                                           'I0([5678]|9[18])|'\n",
    "                                                           'I3[456789]|'\n",
    "                                                           'Q23[0123]|'\n",
    "                                                           'Z95[234]'), 1, 0)\n",
    ")"
   ]
  },
  {
   "cell_type": "code",
   "execution_count": 561,
   "metadata": {},
   "outputs": [],
   "source": [
    "diagnosis_elix_10.loc[:, 'pulmonary_circulation'] = (\n",
    "    np.where(diagnosis_elix_10['diagnosis_code'].str.match('I2([67]|8[089])'), 1, 0)\n",
    ")"
   ]
  },
  {
   "cell_type": "code",
   "execution_count": 562,
   "metadata": {},
   "outputs": [],
   "source": [
    "diagnosis_elix_10.loc[:, 'peripheral_vascular'] = (\n",
    "    np.where(diagnosis_elix_10['diagnosis_code'].str.match('I7([01]|3[189]|71|9[02])|'\n",
    "                                                           'K55[189]|'\n",
    "                                                           'Z95[89]'), 1, 0)\n",
    ")"
   ]
  },
  {
   "cell_type": "code",
   "execution_count": 563,
   "metadata": {},
   "outputs": [],
   "source": [
    "diagnosis_elix_10.loc[:, 'htn_uncomplicated'] = (\n",
    "    np.where(diagnosis_elix_10['diagnosis_code'].str.match('I10'), 1, 0)\n",
    ")"
   ]
  },
  {
   "cell_type": "code",
   "execution_count": 564,
   "metadata": {},
   "outputs": [],
   "source": [
    "diagnosis_elix_10.loc[:, 'htn_complicated'] = (\n",
    "    np.where(diagnosis_elix_10['diagnosis_code'].str.match('I1[1235]'), 1, 0)\n",
    ")"
   ]
  },
  {
   "cell_type": "code",
   "execution_count": 565,
   "metadata": {},
   "outputs": [],
   "source": [
    "diagnosis_elix_10.loc[:, 'paralysis'] = (\n",
    "    np.where(diagnosis_elix_10['diagnosis_code'].str.match('G041|'\n",
    "                                                           'G114|'\n",
    "                                                           'G8(0[12]|[12]|3[012349])'), 1, 0)\n",
    ")"
   ]
  },
  {
   "cell_type": "code",
   "execution_count": 566,
   "metadata": {},
   "outputs": [],
   "source": [
    "diagnosis_elix_10.loc[:, 'other_neuro_disorders'] = (\n",
    "    np.where(diagnosis_elix_10['diagnosis_code'].str.match('G1[0123]|'\n",
    "                                                           'G2([012]|5[45])|'\n",
    "                                                           'G3(1[289]|[2567])|'\n",
    "                                                           'G4[01]|'\n",
    "                                                           'G93[14]|'\n",
    "                                                           'R470|'\n",
    "                                                           'R56'), 1, 0)\n",
    ")"
   ]
  },
  {
   "cell_type": "code",
   "execution_count": 567,
   "metadata": {},
   "outputs": [],
   "source": [
    "diagnosis_elix_10.loc[:, 'chronic_pulmonary'] = (\n",
    "    np.where(diagnosis_elix_10['diagnosis_code'].str.match('I27[89]|'\n",
    "                                                           'J4[01234567]|'\n",
    "                                                           'J6([01234567]|84)|'\n",
    "                                                           'J70[13]'), 1, 0)\n",
    ")"
   ]
  },
  {
   "cell_type": "code",
   "execution_count": 568,
   "metadata": {},
   "outputs": [],
   "source": [
    "diagnosis_elix_10.loc[:, 'diabetes_uncomplicated'] = (\n",
    "    np.where(diagnosis_elix_10['diagnosis_code'].str.match('E1[01234][019]'), 1, 0)\n",
    ")"
   ]
  },
  {
   "cell_type": "code",
   "execution_count": 569,
   "metadata": {},
   "outputs": [],
   "source": [
    "diagnosis_elix_10.loc[:, 'diabetes_complicated'] = (\n",
    "    np.where(diagnosis_elix_10['diagnosis_code'].str.match('E1[01234][2345678]'), 1, 0)\n",
    ")"
   ]
  },
  {
   "cell_type": "code",
   "execution_count": 570,
   "metadata": {},
   "outputs": [],
   "source": [
    "diagnosis_elix_10.loc[:, 'hypothyroidism'] = (\n",
    "    np.where(diagnosis_elix_10['diagnosis_code'].str.match('E0[0123]|'\n",
    "                                                           'E890'), 1, 0)\n",
    ")"
   ]
  },
  {
   "cell_type": "code",
   "execution_count": 571,
   "metadata": {},
   "outputs": [],
   "source": [
    "diagnosis_elix_10.loc[:, 'renal_failure'] = (\n",
    "    np.where(diagnosis_elix_10['diagnosis_code'].str.match('I1(20|31)|'\n",
    "                                                           'N1[89]|'\n",
    "                                                           'N250|'\n",
    "                                                           'Z49[012]|'\n",
    "                                                           'Z9(40|92)'), 1, 0)\n",
    ")"
   ]
  },
  {
   "cell_type": "code",
   "execution_count": 572,
   "metadata": {},
   "outputs": [],
   "source": [
    "diagnosis_elix_10.loc[:, 'liver_disease'] = (\n",
    "    np.where(diagnosis_elix_10['diagnosis_code'].str.match('B18|'\n",
    "                                                           'I8(5|64)|'\n",
    "                                                           'I982|'\n",
    "                                                           'K7(0|1[13457]|[234]|6[023456789])|'\n",
    "                                                           'Z944'), 1, 0)\n",
    ")"
   ]
  },
  {
   "cell_type": "code",
   "execution_count": 573,
   "metadata": {},
   "outputs": [],
   "source": [
    "diagnosis_elix_10.loc[:, 'peptic_ulcer_disease'] = (\n",
    "    np.where(diagnosis_elix_10['diagnosis_code'].str.match('K2[5678][79]'), 1, 0)\n",
    ")"
   ]
  },
  {
   "cell_type": "code",
   "execution_count": 574,
   "metadata": {},
   "outputs": [],
   "source": [
    "diagnosis_elix_10.loc[:, 'aids_hiv'] = (\n",
    "    np.where(diagnosis_elix_10['diagnosis_code'].str.match('B2[0124]'), 1, 0)\n",
    ")"
   ]
  },
  {
   "cell_type": "code",
   "execution_count": 575,
   "metadata": {},
   "outputs": [],
   "source": [
    "diagnosis_elix_10.loc[:, 'lymphoma'] = (\n",
    "    np.where(diagnosis_elix_10['diagnosis_code'].str.match('C8[123458]|'\n",
    "                                                           'C9(0[02]|6)'), 1, 0)\n",
    ")"
   ]
  },
  {
   "cell_type": "code",
   "execution_count": 576,
   "metadata": {},
   "outputs": [],
   "source": [
    "diagnosis_elix_10.loc[:, 'metastatic_cancer'] = (\n",
    "    np.where(diagnosis_elix_10['diagnosis_code'].str.match('C(7[789]|80)'), 1, 0)\n",
    ")"
   ]
  },
  {
   "cell_type": "code",
   "execution_count": 577,
   "metadata": {},
   "outputs": [],
   "source": [
    "diagnosis_elix_10.loc[:, 'solid_tumor_wout_mets'] = (\n",
    "    np.where(diagnosis_elix_10['diagnosis_code'].str.match('C[01]|'\n",
    "                                                           'C2[0123456]|'\n",
    "                                                           'C3[01234789]|'\n",
    "                                                           'C4[01356789]|'\n",
    "                                                           'C5[012345678]|'\n",
    "                                                           'C6|'\n",
    "                                                           'C7[0123456]|'\n",
    "                                                           'C97'), 1, 0)\n",
    ")"
   ]
  },
  {
   "cell_type": "code",
   "execution_count": 578,
   "metadata": {},
   "outputs": [],
   "source": [
    "diagnosis_elix_10.loc[:, 'rheumatoid_arthritis'] = (\n",
    "    np.where(diagnosis_elix_10['diagnosis_code'].str.match('L94[013]|'\n",
    "                                                           'M0[568]|'\n",
    "                                                           'M12[03]|'\n",
    "                                                           'M3(0|1[0123]|[2345])|'\n",
    "                                                           'M4(5|6[189])'), 1, 0)\n",
    ")"
   ]
  },
  {
   "cell_type": "code",
   "execution_count": 579,
   "metadata": {},
   "outputs": [],
   "source": [
    "diagnosis_elix_10.loc[:, 'coagulopathy'] = (\n",
    "    np.where(diagnosis_elix_10['diagnosis_code'].str.match('D6([5678]|9[13456])'), 1, 0)\n",
    ")"
   ]
  },
  {
   "cell_type": "code",
   "execution_count": 580,
   "metadata": {},
   "outputs": [],
   "source": [
    "diagnosis_elix_10.loc[:, 'obesity'] = (\n",
    "    np.where(diagnosis_elix_10['diagnosis_code'].str.match('E66'), 1, 0)\n",
    ")"
   ]
  },
  {
   "cell_type": "code",
   "execution_count": 581,
   "metadata": {},
   "outputs": [],
   "source": [
    "diagnosis_elix_10.loc[:, 'weight_loss'] = (\n",
    "    np.where(diagnosis_elix_10['diagnosis_code'].str.match('E4[0123456]|'\n",
    "                                                           'R6(34|4)'), 1, 0)\n",
    ")"
   ]
  },
  {
   "cell_type": "code",
   "execution_count": 582,
   "metadata": {},
   "outputs": [],
   "source": [
    "diagnosis_elix_10.loc[:, 'fluid_electrolyte'] = (\n",
    "    np.where(diagnosis_elix_10['diagnosis_code'].str.match('E222|'\n",
    "                                                           'E8[67]'), 1, 0)\n",
    ")"
   ]
  },
  {
   "cell_type": "code",
   "execution_count": 583,
   "metadata": {},
   "outputs": [],
   "source": [
    "diagnosis_elix_10.loc[:, 'blood_loss_anemia'] = (\n",
    "    np.where(diagnosis_elix_10['diagnosis_code'].str.match('D500'), 1, 0)\n",
    ")"
   ]
  },
  {
   "cell_type": "code",
   "execution_count": 584,
   "metadata": {},
   "outputs": [],
   "source": [
    "diagnosis_elix_10.loc[:, 'deficiency_anemia'] = (\n",
    "    np.where(diagnosis_elix_10['diagnosis_code'].str.match('D5(0[89]|[123])'), 1, 0)\n",
    ")"
   ]
  },
  {
   "cell_type": "code",
   "execution_count": 585,
   "metadata": {},
   "outputs": [],
   "source": [
    "diagnosis_elix_10.loc[:, 'alcohol_abuse'] = (\n",
    "    np.where(diagnosis_elix_10['diagnosis_code'].str.match('F10|'\n",
    "                                                           'E52|'\n",
    "                                                           'G621|'\n",
    "                                                           'I426|'\n",
    "                                                           'K292|'\n",
    "                                                           'K70[039]|'\n",
    "                                                           'T51|'\n",
    "                                                           'Z502|'\n",
    "                                                           'Z7(14|21)'), 1, 0)\n",
    ")"
   ]
  },
  {
   "cell_type": "code",
   "execution_count": 586,
   "metadata": {},
   "outputs": [],
   "source": [
    "diagnosis_elix_10.loc[:, 'drug_abuse'] = (\n",
    "    np.where(diagnosis_elix_10['diagnosis_code'].str.match('F1[12345689]|'\n",
    "                                                           'Z7(15|22)'), 1, 0)\n",
    ")"
   ]
  },
  {
   "cell_type": "code",
   "execution_count": 587,
   "metadata": {},
   "outputs": [],
   "source": [
    "diagnosis_elix_10.loc[:, 'psychoses'] = (\n",
    "    np.where(diagnosis_elix_10['diagnosis_code'].str.match('F2[0234589]|'\n",
    "                                                           'F3([01]2|15)'), 1, 0)\n",
    ")"
   ]
  },
  {
   "cell_type": "code",
   "execution_count": 588,
   "metadata": {},
   "outputs": [],
   "source": [
    "diagnosis_elix_10.loc[:, 'depression'] = (\n",
    "    np.where(diagnosis_elix_10['diagnosis_code'].str.match('F204|'\n",
    "                                                           'F3(1[345]|[23]|41)|'\n",
    "                                                           'F4[13]2'), 1, 0)\n",
    ")"
   ]
  },
  {
   "cell_type": "code",
   "execution_count": 589,
   "metadata": {},
   "outputs": [],
   "source": [
    "# Create variable that captures ICD-10 codes not included in Elixhauser. \n",
    "diagnosis_elix_10.loc[:, 'elixhauser_other'] = (\n",
    "    np.where(diagnosis_elix_10.iloc[:, 3:].eq(0).all(1), 1, 0)\n",
    ")"
   ]
  },
  {
   "cell_type": "code",
   "execution_count": 590,
   "metadata": {},
   "outputs": [
    {
     "data": {
      "text/plain": [
       "0.6060971915116821"
      ]
     },
     "execution_count": 590,
     "metadata": {},
     "output_type": "execute_result"
    }
   ],
   "source": [
    "# Percenage of ICD-10 codes not captured by Elixhauser\n",
    "diagnosis_elix_10['elixhauser_other'].sum()/len(diagnosis_elix_10)"
   ]
  },
  {
   "cell_type": "code",
   "execution_count": 591,
   "metadata": {},
   "outputs": [],
   "source": [
    "diagnosis_elix_10_wide = (\n",
    "    diagnosis_elix_10\n",
    "    .drop(columns = ['DiagnosisCode', 'diagnosis_code'])\n",
    "    .groupby('PatientID').sum()\n",
    "    .reset_index()\n",
    ")"
   ]
  },
  {
   "cell_type": "code",
   "execution_count": 592,
   "metadata": {},
   "outputs": [
    {
     "data": {
      "text/plain": [
       "(30508, 30508)"
      ]
     },
     "execution_count": 592,
     "metadata": {},
     "output_type": "execute_result"
    }
   ],
   "source": [
    "row_ID(diagnosis_elix_10_wide)"
   ]
  },
  {
   "cell_type": "code",
   "execution_count": 593,
   "metadata": {},
   "outputs": [],
   "source": [
    "# Merge Elixhauser 9 and 10 and sum by PatientID.\n",
    "diagnosis_elixhauser = (\n",
    "    pd.concat([diagnosis_elix_9_wide, diagnosis_elix_10_wide])\n",
    "    .groupby('PatientID').sum()\n",
    ")"
   ]
  },
  {
   "cell_type": "code",
   "execution_count": 594,
   "metadata": {},
   "outputs": [],
   "source": [
    "# Create unqiue ICD count for each patient. \n",
    "diagnosis_elixhauser['icd_count'] = diagnosis_elixhauser.sum(axis = 1)  "
   ]
  },
  {
   "cell_type": "code",
   "execution_count": 595,
   "metadata": {},
   "outputs": [],
   "source": [
    "# Other than unique ICD count, values greater than 1 are set to 1; 0 remains unchanged. \n",
    "diagnosis_elixhauser.iloc[:, :-1] = (\n",
    "    diagnosis_elixhauser.iloc[:, :-1].mask(diagnosis_elixhauser.iloc[:, :-1] >1, 1)\n",
    ")"
   ]
  },
  {
   "cell_type": "code",
   "execution_count": 596,
   "metadata": {},
   "outputs": [],
   "source": [
    "diagnosis_elixhauser = diagnosis_elixhauser.reset_index()"
   ]
  },
  {
   "cell_type": "code",
   "execution_count": 597,
   "metadata": {},
   "outputs": [
    {
     "data": {
      "text/plain": [
       "(48928, 48928)"
      ]
     },
     "execution_count": 597,
     "metadata": {},
     "output_type": "execute_result"
    }
   ],
   "source": [
    "row_ID(diagnosis_elixhauser)"
   ]
  },
  {
   "cell_type": "code",
   "execution_count": 598,
   "metadata": {},
   "outputs": [
    {
     "data": {
      "text/plain": [
       "Text(0.5, 1.0, 'Incidence of Elixhauser comorbidities at time of diagnosis of aNSCLC')"
      ]
     },
     "execution_count": 598,
     "metadata": {},
     "output_type": "execute_result"
    },
    {
     "data": {
      "image/png": "[encoded data removed]",
      "text/plain": [
       "<Figure size 720x576 with 1 Axes>"
      ]
     },
     "metadata": {
      "needs_background": "light"
     },
     "output_type": "display_data"
    }
   ],
   "source": [
    "%matplotlib inline\n",
    "diagnosis_elixhauser.iloc[:, 1:].sum(axis = 0).sort_values(ascending = False).plot(kind = 'bar', figsize = (10,8))\n",
    "plt.xlabel('Elixhauser comorbidities', fontsize = 16)\n",
    "plt.title('Incidence of Elixhauser comorbidities at time of diagnosis of aNSCLC', fontsize = 20)"
   ]
  },
  {
   "cell_type": "code",
   "execution_count": 599,
   "metadata": {},
   "outputs": [
    {
     "data": {
      "text/plain": [
       "Text(0.5, 1.0, 'Incidence of Elixhauser comorbidities at time of diagnosis of aNSCLC')"
      ]
     },
     "execution_count": 599,
     "metadata": {},
     "output_type": "execute_result"
    },
    {
     "data": {
      "image/png": "[encoded data removed]",
      "text/plain": [
       "<Figure size 720x576 with 1 Axes>"
      ]
     },
     "metadata": {
      "needs_background": "light"
     },
     "output_type": "display_data"
    }
   ],
   "source": [
    "# Same plot as above but excluding tumor and mets.\n",
    "%matplotlib inline\n",
    "diagnosis_elixhauser.iloc[:, 1:].sum(axis = 0).sort_values(ascending = False).tail(29).plot(kind = 'bar', figsize = (10,8))\n",
    "plt.xlabel('Elixhauser comorbidities', fontsize = 16)\n",
    "plt.title('Incidence of Elixhauser comorbidities at time of diagnosis of aNSCLC', fontsize = 20)"
   ]
  },
  {
   "cell_type": "code",
   "execution_count": 600,
   "metadata": {},
   "outputs": [],
   "source": [
    "# Append missing training IDs.\n",
    "diagnosis_elixhauser = (\n",
    "    diagnosis_elixhauser\n",
    "    .append(\n",
    "        pd.Series(train_IDs)[~pd.Series(train_IDs).isin(diagnosis_elixhauser['PatientID'])].to_frame(name = 'PatientID'), \n",
    "        sort = False)\n",
    "    .fillna(0)\n",
    ")"
   ]
  },
  {
   "cell_type": "code",
   "execution_count": 601,
   "metadata": {},
   "outputs": [
    {
     "data": {
      "text/plain": [
       "(54786, 54786)"
      ]
     },
     "execution_count": 601,
     "metadata": {},
     "output_type": "execute_result"
    }
   ],
   "source": [
    "row_ID(diagnosis_elixhauser)"
   ]
  },
  {
   "cell_type": "code",
   "execution_count": 602,
   "metadata": {},
   "outputs": [
    {
     "data": {
      "text/html": [
       "<div>\n",
       "<style scoped>\n",
       "    .dataframe tbody tr th:only-of-type {\n",
       "        vertical-align: middle;\n",
       "    }\n",
       "\n",
       "    .dataframe tbody tr th {\n",
       "        vertical-align: top;\n",
       "    }\n",
       "\n",
       "    .dataframe thead th {\n",
       "        text-align: right;\n",
       "    }\n",
       "</style>\n",
       "<table border=\"1\" class=\"dataframe\">\n",
       "  <thead>\n",
       "    <tr style=\"text-align: right;\">\n",
       "      <th></th>\n",
       "      <th>PatientID</th>\n",
       "      <th>chf</th>\n",
       "      <th>cardiac_arrhythmias</th>\n",
       "      <th>valvular_disease</th>\n",
       "      <th>pulmonary_circulation</th>\n",
       "      <th>peripheral_vascular</th>\n",
       "      <th>htn_uncomplicated</th>\n",
       "      <th>htn_complicated</th>\n",
       "      <th>paralysis</th>\n",
       "      <th>other_neuro_disorders</th>\n",
       "      <th>...</th>\n",
       "      <th>weight_loss</th>\n",
       "      <th>fluid_electrolyte</th>\n",
       "      <th>blood_loss_anemia</th>\n",
       "      <th>deficiency_anemia</th>\n",
       "      <th>alcohol_abuse</th>\n",
       "      <th>drug_abuse</th>\n",
       "      <th>psychoses</th>\n",
       "      <th>depression</th>\n",
       "      <th>elixhauser_other</th>\n",
       "      <th>icd_count</th>\n",
       "    </tr>\n",
       "  </thead>\n",
       "  <tbody>\n",
       "    <tr>\n",
       "      <th>18649</th>\n",
       "      <td>F61C3DF2C3E26</td>\n",
       "      <td>0.0</td>\n",
       "      <td>0.0</td>\n",
       "      <td>0.0</td>\n",
       "      <td>0.0</td>\n",
       "      <td>0.0</td>\n",
       "      <td>0.0</td>\n",
       "      <td>0.0</td>\n",
       "      <td>0.0</td>\n",
       "      <td>0.0</td>\n",
       "      <td>...</td>\n",
       "      <td>0.0</td>\n",
       "      <td>0.0</td>\n",
       "      <td>0.0</td>\n",
       "      <td>0.0</td>\n",
       "      <td>0.0</td>\n",
       "      <td>0.0</td>\n",
       "      <td>0.0</td>\n",
       "      <td>0.0</td>\n",
       "      <td>1.0</td>\n",
       "      <td>3.0</td>\n",
       "    </tr>\n",
       "    <tr>\n",
       "      <th>29674</th>\n",
       "      <td>F9C02E95C254D</td>\n",
       "      <td>0.0</td>\n",
       "      <td>0.0</td>\n",
       "      <td>0.0</td>\n",
       "      <td>0.0</td>\n",
       "      <td>0.0</td>\n",
       "      <td>0.0</td>\n",
       "      <td>0.0</td>\n",
       "      <td>0.0</td>\n",
       "      <td>0.0</td>\n",
       "      <td>...</td>\n",
       "      <td>0.0</td>\n",
       "      <td>0.0</td>\n",
       "      <td>0.0</td>\n",
       "      <td>0.0</td>\n",
       "      <td>0.0</td>\n",
       "      <td>0.0</td>\n",
       "      <td>0.0</td>\n",
       "      <td>0.0</td>\n",
       "      <td>1.0</td>\n",
       "      <td>4.0</td>\n",
       "    </tr>\n",
       "    <tr>\n",
       "      <th>2974</th>\n",
       "      <td>F0FB3FD392D14</td>\n",
       "      <td>0.0</td>\n",
       "      <td>0.0</td>\n",
       "      <td>0.0</td>\n",
       "      <td>0.0</td>\n",
       "      <td>0.0</td>\n",
       "      <td>0.0</td>\n",
       "      <td>0.0</td>\n",
       "      <td>0.0</td>\n",
       "      <td>0.0</td>\n",
       "      <td>...</td>\n",
       "      <td>1.0</td>\n",
       "      <td>0.0</td>\n",
       "      <td>0.0</td>\n",
       "      <td>0.0</td>\n",
       "      <td>0.0</td>\n",
       "      <td>0.0</td>\n",
       "      <td>0.0</td>\n",
       "      <td>0.0</td>\n",
       "      <td>1.0</td>\n",
       "      <td>3.0</td>\n",
       "    </tr>\n",
       "    <tr>\n",
       "      <th>47226</th>\n",
       "      <td>FF703FA8DB6D8</td>\n",
       "      <td>0.0</td>\n",
       "      <td>0.0</td>\n",
       "      <td>0.0</td>\n",
       "      <td>0.0</td>\n",
       "      <td>0.0</td>\n",
       "      <td>0.0</td>\n",
       "      <td>0.0</td>\n",
       "      <td>0.0</td>\n",
       "      <td>0.0</td>\n",
       "      <td>...</td>\n",
       "      <td>0.0</td>\n",
       "      <td>0.0</td>\n",
       "      <td>0.0</td>\n",
       "      <td>0.0</td>\n",
       "      <td>0.0</td>\n",
       "      <td>0.0</td>\n",
       "      <td>0.0</td>\n",
       "      <td>0.0</td>\n",
       "      <td>1.0</td>\n",
       "      <td>2.0</td>\n",
       "    </tr>\n",
       "    <tr>\n",
       "      <th>36985</th>\n",
       "      <td>F167E9586BAE8</td>\n",
       "      <td>0.0</td>\n",
       "      <td>0.0</td>\n",
       "      <td>0.0</td>\n",
       "      <td>0.0</td>\n",
       "      <td>0.0</td>\n",
       "      <td>0.0</td>\n",
       "      <td>0.0</td>\n",
       "      <td>0.0</td>\n",
       "      <td>0.0</td>\n",
       "      <td>...</td>\n",
       "      <td>0.0</td>\n",
       "      <td>0.0</td>\n",
       "      <td>0.0</td>\n",
       "      <td>0.0</td>\n",
       "      <td>0.0</td>\n",
       "      <td>0.0</td>\n",
       "      <td>0.0</td>\n",
       "      <td>0.0</td>\n",
       "      <td>0.0</td>\n",
       "      <td>0.0</td>\n",
       "    </tr>\n",
       "  </tbody>\n",
       "</table>\n",
       "<p>5 rows × 34 columns</p>\n",
       "</div>"
      ],
      "text/plain": [
       "           PatientID  chf  cardiac_arrhythmias  valvular_disease  \\\n",
       "18649  F61C3DF2C3E26  0.0                  0.0               0.0   \n",
       "29674  F9C02E95C254D  0.0                  0.0               0.0   \n",
       "2974   F0FB3FD392D14  0.0                  0.0               0.0   \n",
       "47226  FF703FA8DB6D8  0.0                  0.0               0.0   \n",
       "36985  F167E9586BAE8  0.0                  0.0               0.0   \n",
       "\n",
       "       pulmonary_circulation  peripheral_vascular  htn_uncomplicated  \\\n",
       "18649                    0.0                  0.0                0.0   \n",
       "29674                    0.0                  0.0                0.0   \n",
       "2974                     0.0                  0.0                0.0   \n",
       "47226                    0.0                  0.0                0.0   \n",
       "36985                    0.0                  0.0                0.0   \n",
       "\n",
       "       htn_complicated  paralysis  other_neuro_disorders  ...  weight_loss  \\\n",
       "18649              0.0        0.0                    0.0  ...          0.0   \n",
       "29674              0.0        0.0                    0.0  ...          0.0   \n",
       "2974               0.0        0.0                    0.0  ...          1.0   \n",
       "47226              0.0        0.0                    0.0  ...          0.0   \n",
       "36985              0.0        0.0                    0.0  ...          0.0   \n",
       "\n",
       "       fluid_electrolyte  blood_loss_anemia  deficiency_anemia  alcohol_abuse  \\\n",
       "18649                0.0                0.0                0.0            0.0   \n",
       "29674                0.0                0.0                0.0            0.0   \n",
       "2974                 0.0                0.0                0.0            0.0   \n",
       "47226                0.0                0.0                0.0            0.0   \n",
       "36985                0.0                0.0                0.0            0.0   \n",
       "\n",
       "       drug_abuse  psychoses  depression  elixhauser_other  icd_count  \n",
       "18649         0.0        0.0         0.0               1.0        3.0  \n",
       "29674         0.0        0.0         0.0               1.0        4.0  \n",
       "2974          0.0        0.0         0.0               1.0        3.0  \n",
       "47226         0.0        0.0         0.0               1.0        2.0  \n",
       "36985         0.0        0.0         0.0               0.0        0.0  \n",
       "\n",
       "[5 rows x 34 columns]"
      ]
     },
     "execution_count": 602,
     "metadata": {},
     "output_type": "execute_result"
    }
   ],
   "source": [
    "diagnosis_elixhauser.sample(5)"
   ]
  },
  {
   "cell_type": "markdown",
   "metadata": {},
   "source": [
    "#### 10.2 Other cancer "
   ]
  },
  {
   "cell_type": "markdown",
   "metadata": {},
   "source": [
    "##### 10.2a ICD-9 cancer codes"
   ]
  },
  {
   "cell_type": "code",
   "execution_count": 603,
   "metadata": {},
   "outputs": [],
   "source": [
    "# Select all ICD-9 cancer codes between 140-239 (excluding benign neoplasms: 210-229).\n",
    "cancer_9 = (\n",
    "    diagnosis_elix_9[diagnosis_elix_9['DiagnosisCode'].str.startswith(\n",
    "        ('14','15', '16', '17', '18', '19', '20', '23'))]\n",
    "    .filter(items = ['PatientID', 'DiagnosisCode', 'diagnosis_code'])\n",
    ")"
   ]
  },
  {
   "cell_type": "code",
   "execution_count": 604,
   "metadata": {},
   "outputs": [
    {
     "data": {
      "text/plain": [
       "(33916, 22883)"
      ]
     },
     "execution_count": 604,
     "metadata": {},
     "output_type": "execute_result"
    }
   ],
   "source": [
    "row_ID(cancer_9)"
   ]
  },
  {
   "cell_type": "markdown",
   "metadata": {},
   "source": [
    "**Remove the following ICD-9 codes representing lung cancer, metastasis, ill-defined neoplasms, and benign neoplasms of skin (BCC and SCC):**\n",
    "* **162 - Malignant neoplasm of trachea, bronchus, and lung**\n",
    "* **163 - Malignant neoplasm of pleura**\n",
    "* **164.2 - Malignant neoplasm of anterior mediastinum**\n",
    "* **164.3 - Malignant neoplasm of posterior mediastinum**\n",
    "* **164.8 - Malignant neoplasm other parts of mediastinum**\n",
    "* **164.9 - Malignant neoplasm of mediastinum, part unspecified** \n",
    "* **165 - Malignant neoplasm of other and ill-defined sites within respiratory system** \n",
    "* **173 - Other and unspecified malignant neoplasm of skin**\n",
    "* **195.1 - Malignant neoplasm of thorax** \n",
    "* **196 - Secondary and unspecified malignant neoplasm of lymph nodes**\n",
    "* **197 - Secondary malignant neoplasm of respiratory and digestive systems**\n",
    "* **198 - Secondary malignant neoplasm of other specified sites** \n",
    "* **199 - Malignant neoplasm without specification of site**\n",
    "* **231.1 - Carcinoma in situ of trachea**\n",
    "* **231.2 - Carcinoma in situ of bronchus and lung**\n",
    "* **231.8 - Carcinoma in situ of other specified parts of respiratory system**\n",
    "* **231.9 - Carcinoma in situ of respiratory system, part unspecified** \n",
    "* **235.7 - Neoplasm of uncertain behavior of trachea, bronchus, and lung**\n",
    "* **235.8 - Neoplasm of uncertain behavior of pleura, thymus, and mediastinum**\n",
    "* **235.9 - Neoplasm of uncertain behavior of other and unspecified respiratory organs**\n",
    "* **238.8 - Neoplasm of uncertain behavior of other specified sites**\n",
    "* **238.9 - Neoplasm of uncertain behavior, site unspecified**\n",
    "* **239 - Neoplasms of unspecified nature**"
   ]
  },
  {
   "cell_type": "code",
   "execution_count": 605,
   "metadata": {},
   "outputs": [
    {
     "data": {
      "text/plain": [
       "162.9    0.266799\n",
       "162.3    0.260049\n",
       "162.5    0.127197\n",
       "198.5    0.085701\n",
       "162.8    0.053970\n",
       "198.3    0.046123\n",
       "162.4    0.030908\n",
       "197.7    0.016825\n",
       "162.2    0.015454\n",
       "197.0    0.014940\n",
       "Name: DiagnosisCode, dtype: float64"
      ]
     },
     "execution_count": 605,
     "metadata": {},
     "output_type": "execute_result"
    }
   ],
   "source": [
    "# Count ICD-9 neoplasm codes that represent lung cancer or metastasis.\n",
    "(\n",
    "    cancer_9[cancer_9['diagnosis_code'].str.match('16([23]|4[2389]|5)|'\n",
    "                                                  '173|'\n",
    "                                                  '19(51|[6789])|'\n",
    "                                                  '23(1[1289]|5[789]|8[89]|9)')]\n",
    "    .DiagnosisCode\n",
    "    .value_counts(normalize = True)\n",
    "    .head(10)\n",
    ")"
   ]
  },
  {
   "cell_type": "markdown",
   "metadata": {},
   "source": [
    "**The top 10 ICD-9 codes for lung cancer and metastasis are:** \n",
    "* **162.9 - Bronchus and lung, unspecified**\n",
    "* **162.3 - Upper lobe, bronchus or lung**\n",
    "* **162.5 - Lower lobe, bronchus or lung**\n",
    "* **198.5 - Secondary malignant neoplasm of bone and bone marrow**\n",
    "* **162.8 - Other parts of bronchus or lung**\n",
    "* **198.3 - Secondary malignant neoplasm of brain and spinal cord**\n",
    "* **162.4 - Middle lobe, bronchus or lung**\n",
    "* **197.7 - Malignant neoplasm of liver, secondary**\n",
    "* **162.2 - Main bronchus**\n",
    "* **197.0 - Secondary malignant neoplasm of lung** "
   ]
  },
  {
   "cell_type": "code",
   "execution_count": 606,
   "metadata": {},
   "outputs": [],
   "source": [
    "# Dataframe of ICD-9 neoplasm codes that exclude lung cancer, metastasis, or benign neoplasms.\n",
    "other_cancer_9 = (\n",
    "    cancer_9[~cancer_9['diagnosis_code'].str.match('16([23]|4[2389]|5)|'\n",
    "                                                   '173|'\n",
    "                                                   '19(51|[6789])|'\n",
    "                                                   '23(1[1289]|5[789]|8[89]|9)')]\n",
    ")"
   ]
  },
  {
   "cell_type": "code",
   "execution_count": 607,
   "metadata": {},
   "outputs": [
    {
     "data": {
      "text/plain": [
       "174.9     0.113247\n",
       "185       0.099091\n",
       "174.4     0.050074\n",
       "204.10    0.035073\n",
       "153.9     0.027678\n",
       "188.9     0.027044\n",
       "189.0     0.020917\n",
       "233.0     0.020706\n",
       "174.8     0.019015\n",
       "154.1     0.015212\n",
       "Name: DiagnosisCode, dtype: float64"
      ]
     },
     "execution_count": 607,
     "metadata": {},
     "output_type": "execute_result"
    }
   ],
   "source": [
    "other_cancer_9.DiagnosisCode.value_counts(normalize = True).head(10)"
   ]
  },
  {
   "cell_type": "markdown",
   "metadata": {},
   "source": [
    "**The top 10 ICD-9 codes at time of diagnosis that aren't lung cancer, metastasis, or benign neoplasm:**\n",
    "* **174.9 - Malignant neoplasm of breast (female), unspecified**\n",
    "* **185 - Malignant neoplasm of prostate**\n",
    "* **174.4 - Malignant neoplasm of upper-outer quadrant of female breast**\n",
    "* **204.10 - Chronic lymphoid leukemia, without mention of having achieved remission**\n",
    "* **188.9 - Malignant neoplasm of bladder, part unspecified**\n",
    "* **153.9 - Malignant neoplasm of colon, unspecified site**\n",
    "* **189.0 - Malignant neoplasm of kidney, except pelvis**\n",
    "* **233 - Carcinoma in situ of breast and genitourinary system**\n",
    "* **174.8 - Malignant neoplasm of other specified sites of female breast** \n",
    "* **202.80 - Other malignant lymphomas, unspecified site, extranodal and solid organ site**"
   ]
  },
  {
   "cell_type": "code",
   "execution_count": 608,
   "metadata": {},
   "outputs": [
    {
     "data": {
      "text/plain": [
       "174    0.228185\n",
       "185    0.099091\n",
       "153    0.067188\n",
       "238    0.064652\n",
       "202    0.054511\n",
       "188    0.041623\n",
       "204    0.040566\n",
       "189    0.027467\n",
       "154    0.027044\n",
       "172    0.026410\n",
       "Name: DiagnosisCode, dtype: float64"
      ]
     },
     "execution_count": 608,
     "metadata": {},
     "output_type": "execute_result"
    }
   ],
   "source": [
    "other_cancer_9.DiagnosisCode.str[0:3].value_counts(normalize = True).head(10)"
   ]
  },
  {
   "cell_type": "markdown",
   "metadata": {},
   "source": [
    "**The top 10 ICD-9 family codes at time of diagnosis that aren't lung cancer, metastasis, or benign neoplasm:**\n",
    "* **174 - Malignant neoplasm of female breast**\n",
    "* **185 - Malignant neoplasm of prostate**\n",
    "* **153 - Malignant neoplasm of colon**\n",
    "* **238 - Neoplasm of uncertain behavior of other and unspecified sites and tissues**\n",
    "* **202 - Other malignant neoplasms of lymphoid and histiocytic tissue**\n",
    "* **204 - Lymphoid leukemia**\n",
    "* **188 - Malignant neoplasm of bladder**\n",
    "* **172 - Malignant melanoma of skin**\n",
    "* **189 - Malignant neoplasm of kidney and other and unspecified urinary organs**\n",
    "* **154 - Malignant neoplasm of rectum rectosigmoid junction and anus**"
   ]
  },
  {
   "cell_type": "code",
   "execution_count": 609,
   "metadata": {},
   "outputs": [
    {
     "name": "stderr",
     "output_type": "stream",
     "text": [
      "/Applications/anaconda3/lib/python3.7/site-packages/pandas/core/indexing.py:1667: SettingWithCopyWarning: \n",
      "A value is trying to be set on a copy of a slice from a DataFrame.\n",
      "Try using .loc[row_indexer,col_indexer] = value instead\n",
      "\n",
      "See the caveats in the documentation: https://pandas.pydata.org/pandas-docs/stable/user_guide/indexing.html#returning-a-view-versus-a-copy\n",
      "  self.obj[key] = value\n"
     ]
    }
   ],
   "source": [
    "other_cancer_9.loc[:,'other_cancer_9'] = 1"
   ]
  },
  {
   "cell_type": "code",
   "execution_count": 610,
   "metadata": {},
   "outputs": [],
   "source": [
    "other_cancer_9 = (\n",
    "    other_cancer_9\n",
    "    .drop_duplicates(subset = 'PatientID', keep = 'first')\n",
    "    .filter(items = ['PatientID', 'other_cancer_9'])\n",
    ")"
   ]
  },
  {
   "cell_type": "code",
   "execution_count": 611,
   "metadata": {},
   "outputs": [
    {
     "data": {
      "text/plain": [
       "(3946, 3946)"
      ]
     },
     "execution_count": 611,
     "metadata": {},
     "output_type": "execute_result"
    }
   ],
   "source": [
    "row_ID(other_cancer_9)"
   ]
  },
  {
   "cell_type": "code",
   "execution_count": 612,
   "metadata": {},
   "outputs": [],
   "source": [
    "other_cancer_9 = (\n",
    "    other_cancer_9\n",
    "    .append(\n",
    "        pd.Series(train_IDs)[~pd.Series(train_IDs).isin(other_cancer_9['PatientID'])].to_frame(name = 'PatientID'), \n",
    "        sort = False)\n",
    "    .fillna(0)\n",
    ")"
   ]
  },
  {
   "cell_type": "code",
   "execution_count": 613,
   "metadata": {},
   "outputs": [
    {
     "data": {
      "text/plain": [
       "(54786, 54786)"
      ]
     },
     "execution_count": 613,
     "metadata": {},
     "output_type": "execute_result"
    }
   ],
   "source": [
    "row_ID(other_cancer_9)"
   ]
  },
  {
   "cell_type": "markdown",
   "metadata": {},
   "source": [
    "##### 10.2b ICD-10 cancer codes"
   ]
  },
  {
   "cell_type": "code",
   "execution_count": 614,
   "metadata": {},
   "outputs": [],
   "source": [
    "# Select all ICD-10 codes between C00-D49 (excluding benign neoplasms: D10-D36 and benign neuroendocrine tumor: D3A) reflecting neoplasm diagnosis.\n",
    "cancer_10 = (\n",
    "    diagnosis_elix_10[diagnosis_elix_10['DiagnosisCode'].str.startswith(\n",
    "        ('C0', 'C1', 'C2', 'C3', 'C4', 'C5', 'C6', 'C7', 'C8', 'C9', 'D0', 'D37', 'D38', 'D39', 'D4'))]\n",
    "    .filter(items = ['PatientID', 'DiagnosisCode', 'diagnosis_code'])\n",
    ")"
   ]
  },
  {
   "cell_type": "code",
   "execution_count": 615,
   "metadata": {},
   "outputs": [
    {
     "data": {
      "text/plain": [
       "(50190, 28413)"
      ]
     },
     "execution_count": 615,
     "metadata": {},
     "output_type": "execute_result"
    }
   ],
   "source": [
    "row_ID(cancer_10)"
   ]
  },
  {
   "cell_type": "markdown",
   "metadata": {},
   "source": [
    "**Remove the following ICD-10 codes which capture lung cancer, metastasis, and benign skin neoplasms(eg., BCC and SCC).**\n",
    "* **C33 - Malignant neoplasm of trachea**\n",
    "* **C34 - Malignant neoplasm of bronchus and lung**\n",
    "* **C38.1 - Malignant neoplasm of anterior mediastinum**\n",
    "* **C38.2 - Malignant neoplasm of posterior mediastinum**\n",
    "* **C38.3 - Malignant neoplasm of mediastinum, part unspecified**\n",
    "* **C38.4 - Malignant neoplasm of pleura**\n",
    "* **C38.8 - Malignant neoplasm of overlapping sites of heart, mediastinum and pleura**\n",
    "* **C39 - Malignant neoplasm of other and ill-defined sites in the respiratory system and intrathoracic organs**\n",
    "* **C44 - Other and unspecified malignant neoplasm of skin**\n",
    "* **C76.1 -  Malignant neoplasm of other and ill-defined sites: malignant neoplasm of thorax**\n",
    "* **C77 - Secondary and unspecified malignant neoplasm of lymph nodes**\n",
    "* **C78 - Secondary malignant neoplasm of respiratory and digestive organs**\n",
    "* **C79 - Secondary malignant neoplasm of other and unspecified sites**\n",
    "* **C80 - Malignant neoplasm without specification of site**\n",
    "* **D02.1 - Carcinoma in situ of trachea**\n",
    "* **D02.2 - Carcinoma in situ of bronchus and lung**\n",
    "* **D02.3 - Carcinoma in situ of other parts of respiratory system**\n",
    "* **D02.4 - Carcinoma in situ of respiratory system, unspecified**\n",
    "* **D38 - Neoplasm of uncertain behavior of middle ear and respiratory and intrathoracic organs**\n",
    "* **D47.2 - Monoclonal gammopathy**\n",
    "* **D49 - Neoplasms of unspecified behavior** "
   ]
  },
  {
   "cell_type": "code",
   "execution_count": 616,
   "metadata": {},
   "outputs": [
    {
     "data": {
      "text/plain": [
       "C34.11    0.140178\n",
       "C34.12    0.106820\n",
       "C79.51    0.092600\n",
       "C34.90    0.090968\n",
       "C34.31    0.072967\n",
       "C79.31    0.060724\n",
       "C34.32    0.058297\n",
       "C34.91    0.038084\n",
       "C34.92    0.025905\n",
       "C78.7     0.024638\n",
       "Name: DiagnosisCode, dtype: float64"
      ]
     },
     "execution_count": 616,
     "metadata": {},
     "output_type": "execute_result"
    }
   ],
   "source": [
    "# Count of top 10 ICD-10 codes that represent lung cancer or metastasis. \n",
    "(\n",
    "    cancer_10[cancer_10['diagnosis_code'].str.match('C3([34]|8[12348]|9)|'\n",
    "                                                    'C44|'\n",
    "                                                    'C7(61|[789])|'\n",
    "                                                    'C80|'\n",
    "                                                    'D(02[1234]|38|472|49)')]\n",
    "    .DiagnosisCode\n",
    "    .value_counts(normalize = True)\n",
    "    .head(10)\n",
    ")"
   ]
  },
  {
   "cell_type": "markdown",
   "metadata": {},
   "source": [
    "**The top 10 ICD-10 codes at time of diagnosis that represent lung cancer, metastases, ill-defined neoplasm, or benign neoplasm:**\n",
    "* **C34.11 - Malignant neoplasm of upper lobe, right bronchus or lung**\n",
    "* **C34.12 - Malignant neoplasm of upper lobe, left bronchus or lung**\n",
    "* **C79.51 - Secondary malignant neoplasm of bone**\n",
    "* **C34.90 - Malignant neoplasm of unspecified part of unspecified bronchus or lung**\n",
    "* **C34.31 - Malignant neoplasm of lower lobe, right bronchus or lung**\n",
    "* **C79.31 - Secondary malignant neoplasm of brain**\n",
    "* **C34.32 - Malignant neoplasm of lower lobe, left bronchus or lung**\n",
    "* **C34.91 - Malignant neoplasm of unspecified part of right bronchus or lung**\n",
    "* **C78.7 - Secondary malignant neoplasm of liver and intrahepatic bile duct**\n",
    "* **C34.92 - Malignant neoplasm of unspecified part of left bronchus or lung**"
   ]
  },
  {
   "cell_type": "code",
   "execution_count": 617,
   "metadata": {},
   "outputs": [],
   "source": [
    "# Dataframe of ICD-10 neoplasm codes that exclude lung cancer, metastasis, or benign neoplasms.\n",
    "other_cancer_10 = (\n",
    "    cancer_10[~cancer_10['diagnosis_code'].str.match('C3([34]|8[12348]|9)|'\n",
    "                                                     'C44|'\n",
    "                                                     'C7(61|[789])|'\n",
    "                                                     'C80|'\n",
    "                                                     'D(02[1234]|38|472|49)')]\n",
    ")"
   ]
  },
  {
   "cell_type": "code",
   "execution_count": 618,
   "metadata": {
    "scrolled": true
   },
   "outputs": [
    {
     "data": {
      "text/plain": [
       "C61        0.087758\n",
       "D47.3      0.040165\n",
       "C67.9      0.029711\n",
       "D48.5      0.027235\n",
       "C50.919    0.022283\n",
       "C71.9      0.020083\n",
       "C18.9      0.018707\n",
       "C50.912    0.018432\n",
       "C91.10     0.018432\n",
       "C50.911    0.018157\n",
       "Name: DiagnosisCode, dtype: float64"
      ]
     },
     "execution_count": 618,
     "metadata": {},
     "output_type": "execute_result"
    }
   ],
   "source": [
    "other_cancer_10.DiagnosisCode.value_counts(normalize = True).head(10)"
   ]
  },
  {
   "cell_type": "markdown",
   "metadata": {},
   "source": [
    "**The top 10 ICD-10 codes at time of diagnosis that aren't lung cancer, metastasis, or benign neoplasm:**\n",
    "* **C61 - Malignant neoplasm of prostate**\n",
    "* **D47.3 - Essential (hemorrhagic) thrombocythemia**\n",
    "* **C67.9 - Malignant neoplasm of bladder, unspecified**\n",
    "* **D48.5 - Neoplasm of uncertain behavior of skin**\n",
    "* **C50.919 - Malignant neoplasm of unspecified site of unspecified female breast**\n",
    "* **C71.9 - Malignant neoplasm of brain, unspecified**\n",
    "* **C91.10 - Chronic lymphocytic leukemia of B-cell type**\n",
    "* **C50.912 - Malignant neoplasm of unspecified site of left female breast**\n",
    "* **C50.911 - Malignant neoplasm of unspecified site of right female breast**\n",
    "* **C18.9 - Malignant neoplasm of colon, unspecified**"
   ]
  },
  {
   "cell_type": "code",
   "execution_count": 619,
   "metadata": {},
   "outputs": [
    {
     "data": {
      "text/plain": [
       "C50    0.134250\n",
       "C61    0.087758\n",
       "C67    0.049519\n",
       "D48    0.047868\n",
       "D47    0.047043\n",
       "C18    0.047043\n",
       "C71    0.031087\n",
       "C85    0.028061\n",
       "C43    0.027235\n",
       "C91    0.025034\n",
       "Name: DiagnosisCode, dtype: float64"
      ]
     },
     "execution_count": 619,
     "metadata": {},
     "output_type": "execute_result"
    }
   ],
   "source": [
    "other_cancer_10.DiagnosisCode.str[0:3].value_counts(normalize = True).head(10)"
   ]
  },
  {
   "cell_type": "markdown",
   "metadata": {},
   "source": [
    "**The top 10 ICD-10 family codes at time of diagnosis that aren't lung cancer, metastasis, or benign neoplasm:**\n",
    "* **C50 - Malignant neoplasm of breast**\n",
    "* **C61 - Malignant neoplasm of prostate**\n",
    "* **D47 - Other neoplasms of uncertain behavior of lymphoid, hematopoietic and related tissue**\n",
    "* **C18 - Malignant neoplasm of colon**\n",
    "* **D48 - Neoplasm of uncertain behavior of other and unspecified sites**\n",
    "* **C67 - Malignant neoplasm of bladder**\n",
    "* **C71 - Malignant neoplasm of brain**\n",
    "* **C91 - Lymphoid leukemia**\n",
    "* **C85 - Other specified and unspecified types of non-Hodgkin lymphoma**\n",
    "* **C43 - Malignant melanoma of skin**"
   ]
  },
  {
   "cell_type": "code",
   "execution_count": 620,
   "metadata": {},
   "outputs": [],
   "source": [
    "other_cancer_10.loc[:,'other_cancer_10'] = 1"
   ]
  },
  {
   "cell_type": "code",
   "execution_count": 621,
   "metadata": {},
   "outputs": [],
   "source": [
    "# Drop duplicates.\n",
    "other_cancer_10 = (\n",
    "    other_cancer_10\n",
    "    .drop_duplicates(subset = 'PatientID', keep = 'first')\n",
    "    .filter(items = ['PatientID', 'other_cancer_10'])\n",
    ")"
   ]
  },
  {
   "cell_type": "code",
   "execution_count": 622,
   "metadata": {},
   "outputs": [
    {
     "data": {
      "text/plain": [
       "(2816, 2816)"
      ]
     },
     "execution_count": 622,
     "metadata": {},
     "output_type": "execute_result"
    }
   ],
   "source": [
    "row_ID(other_cancer_10)"
   ]
  },
  {
   "cell_type": "code",
   "execution_count": 623,
   "metadata": {},
   "outputs": [],
   "source": [
    "# Append missing training IDs.\n",
    "other_cancer_10 = (\n",
    "    other_cancer_10\n",
    "    .append(\n",
    "        pd.Series(train_IDs)[~pd.Series(train_IDs).isin(other_cancer_10['PatientID'])].to_frame(name = 'PatientID'), \n",
    "        sort = False)\n",
    "    .fillna(0)\n",
    ")"
   ]
  },
  {
   "cell_type": "code",
   "execution_count": 624,
   "metadata": {},
   "outputs": [
    {
     "data": {
      "text/plain": [
       "(54786, 54786)"
      ]
     },
     "execution_count": 624,
     "metadata": {},
     "output_type": "execute_result"
    }
   ],
   "source": [
    "row_ID(other_cancer_10)"
   ]
  },
  {
   "cell_type": "code",
   "execution_count": 625,
   "metadata": {},
   "outputs": [],
   "source": [
    "other_cancer = pd.merge(other_cancer_9, other_cancer_10, on = 'PatientID')"
   ]
  },
  {
   "cell_type": "code",
   "execution_count": 626,
   "metadata": {},
   "outputs": [],
   "source": [
    "# Combine other_cancer_9 and other_cancer_19; replace values equal to 2 with 1. \n",
    "other_cancer = (\n",
    "    other_cancer\n",
    "    .assign(other_cancer = other_cancer['other_cancer_9'] + other_cancer['other_cancer_10'])\n",
    "    .filter(items = ['PatientID', 'other_cancer'])\n",
    "    .replace(2, 1)\n",
    ")"
   ]
  },
  {
   "cell_type": "code",
   "execution_count": 627,
   "metadata": {},
   "outputs": [
    {
     "data": {
      "text/plain": [
       "(54786, 54786)"
      ]
     },
     "execution_count": 627,
     "metadata": {},
     "output_type": "execute_result"
    }
   ],
   "source": [
    "row_ID(other_cancer)"
   ]
  },
  {
   "cell_type": "code",
   "execution_count": 628,
   "metadata": {},
   "outputs": [
    {
     "data": {
      "text/plain": [
       "0.1150841455846384"
      ]
     },
     "execution_count": 628,
     "metadata": {},
     "output_type": "execute_result"
    }
   ],
   "source": [
    "# Percentage of patients with a cancer other than lung or mets in the training set. \n",
    "len(other_cancer[other_cancer['other_cancer'] == 1])/len(other_cancer)"
   ]
  },
  {
   "cell_type": "markdown",
   "metadata": {},
   "source": [
    "#### 10.3 Sites of metastases at diagnosis"
   ]
  },
  {
   "cell_type": "markdown",
   "metadata": {},
   "source": [
    "##### 10.3a ICD-9 sites of metastases"
   ]
  },
  {
   "cell_type": "code",
   "execution_count": 629,
   "metadata": {},
   "outputs": [],
   "source": [
    "# Create dataframe contianing patients with ICD-9 codes within -90 to +30 days from advanced diagnosis and remove duplicate codes.(\n",
    "diagnosis_mets_9 = (\n",
    "    diagnosis\n",
    "    .query('diagnosis_date_diff >= -90 and diagnosis_date_diff <= 30')\n",
    "    .query('DiagnosisCodeSystem == \"ICD-9-CM\"')\n",
    "    .drop_duplicates(subset = ['PatientID', 'DiagnosisCode'], keep = 'first')\n",
    "    .filter(items = ['PatientID', 'DiagnosisCode', 'diagnosis_code'])\n",
    ")"
   ]
  },
  {
   "cell_type": "markdown",
   "metadata": {},
   "source": [
    "**Sites of metastasis will be grouped into the following categories according to ICD-9 codes:**\n",
    "* **CNS - 198.3 and 198.4**\n",
    "* **Bone - 198.5**\n",
    "* **Liver - 197.7**\n",
    "* **Respiratory system - 197.0, 197.1, 197.2, and 197.3**\n",
    "* **Adrenal gland - 198.7**\n",
    "* **Other - kidney/bladder (198.0 and 198.1), intestines (197.4 and 197.5), lymph nodes (196), other (197.6, 197.8, 198.2, 198.6, and 198.8)**"
   ]
  },
  {
   "cell_type": "code",
   "execution_count": 630,
   "metadata": {},
   "outputs": [],
   "source": [
    "diagnosis_mets_9['cns_met'] = np.where(diagnosis_mets_9['diagnosis_code'].str.match('198[34]'), 1, 0)"
   ]
  },
  {
   "cell_type": "code",
   "execution_count": 631,
   "metadata": {},
   "outputs": [],
   "source": [
    "diagnosis_mets_9['bone_met'] = np.where(diagnosis_mets_9['diagnosis_code'].str.match('1985'), 1, 0)"
   ]
  },
  {
   "cell_type": "code",
   "execution_count": 632,
   "metadata": {},
   "outputs": [],
   "source": [
    "diagnosis_mets_9['liver_met'] = np.where(diagnosis_mets_9['diagnosis_code'].str.match('1977'), 1, 0)"
   ]
  },
  {
   "cell_type": "code",
   "execution_count": 633,
   "metadata": {},
   "outputs": [],
   "source": [
    "diagnosis_mets_9['resp_met'] = np.where(diagnosis_mets_9['diagnosis_code'].str.match('197[0123]'), 1, 0)"
   ]
  },
  {
   "cell_type": "code",
   "execution_count": 634,
   "metadata": {},
   "outputs": [],
   "source": [
    "diagnosis_mets_9['adrenal_met'] = np.where(diagnosis_mets_9['diagnosis_code'].str.match('1987'), 1, 0)"
   ]
  },
  {
   "cell_type": "code",
   "execution_count": 635,
   "metadata": {},
   "outputs": [],
   "source": [
    "diagnosis_mets_9['other_met'] = (\n",
    "    np.where(diagnosis_mets_9['diagnosis_code'].str.match('196|'\n",
    "                                                          '197[4568]|'\n",
    "                                                          '198[01268]'), 1, 0)\n",
    ")"
   ]
  },
  {
   "cell_type": "code",
   "execution_count": 636,
   "metadata": {},
   "outputs": [],
   "source": [
    "# Collapse columns and sum.\n",
    "diagnosis_mets_9 = (\n",
    "    diagnosis_mets_9\n",
    "    .drop(columns = ['DiagnosisCode', 'diagnosis_code'])\n",
    "    .groupby('PatientID').sum()\n",
    "    .reset_index()\n",
    ")"
   ]
  },
  {
   "cell_type": "markdown",
   "metadata": {},
   "source": [
    "##### 10.3b ICD-10 sites of metastases"
   ]
  },
  {
   "cell_type": "code",
   "execution_count": 637,
   "metadata": {},
   "outputs": [],
   "source": [
    "# Create dataframe contianing patients with ICD-10 codes within -90 to +30 days from advanced diagnosis and remove duplicate codes.\n",
    "diagnosis_mets_10 = (\n",
    "    diagnosis\n",
    "    .query('diagnosis_date_diff >= -90 and diagnosis_date_diff <= 30')\n",
    "    .query('DiagnosisCodeSystem == \"ICD-10-CM\"')\n",
    "    .drop_duplicates(subset = ['PatientID', 'DiagnosisCode'], keep = 'first')\n",
    "    .filter(items = ['PatientID', 'DiagnosisCode', 'diagnosis_code'])\n",
    ")"
   ]
  },
  {
   "cell_type": "markdown",
   "metadata": {},
   "source": [
    "**Sites of metastasis will be grouped into the following categories according to ICD-10 codes:**\n",
    "* **CNS - C79.3 and C79.4**\n",
    "* **Bone - C79.5**\n",
    "* **Liver - C78.7**\n",
    "* **Respiratory system - C78.0, C78.1, C78.2, and C78.3**\n",
    "* **Adrenal gland - C79.7**\n",
    "* **Other - kidney/bladder (C79.0 and C79.1) intestines (C78.4 and C78.5), lymph nodes (C77), and other (C78.6, C78.8, C79.2, C79.6, C79.8, C79.9)**"
   ]
  },
  {
   "cell_type": "code",
   "execution_count": 638,
   "metadata": {},
   "outputs": [],
   "source": [
    "diagnosis_mets_10['cns_met'] = np.where(diagnosis_mets_10['diagnosis_code'].str.match('C79[34]'), 1, 0)"
   ]
  },
  {
   "cell_type": "code",
   "execution_count": 639,
   "metadata": {},
   "outputs": [],
   "source": [
    "diagnosis_mets_10['bone_met'] = np.where(diagnosis_mets_10['diagnosis_code'].str.match('C795'), 1, 0)"
   ]
  },
  {
   "cell_type": "code",
   "execution_count": 640,
   "metadata": {},
   "outputs": [],
   "source": [
    "diagnosis_mets_10['liver_met'] = np.where(diagnosis_mets_10['diagnosis_code'].str.match('C787'), 1, 0)"
   ]
  },
  {
   "cell_type": "code",
   "execution_count": 641,
   "metadata": {},
   "outputs": [],
   "source": [
    "diagnosis_mets_10['resp_met'] = np.where(diagnosis_mets_10['diagnosis_code'].str.match('C78[0123]'), 1, 0)"
   ]
  },
  {
   "cell_type": "code",
   "execution_count": 642,
   "metadata": {},
   "outputs": [],
   "source": [
    "diagnosis_mets_10['adrenal_met'] = np.where(diagnosis_mets_10['diagnosis_code'].str.match('C797'), 1, 0)"
   ]
  },
  {
   "cell_type": "code",
   "execution_count": 643,
   "metadata": {},
   "outputs": [],
   "source": [
    "diagnosis_mets_10['other_met'] = (\n",
    "    np.where(diagnosis_mets_10['diagnosis_code'].str.match('C77|'\n",
    "                                                           'C78[4568]|'\n",
    "                                                           'C79[012689]'), 1, 0)\n",
    ")"
   ]
  },
  {
   "cell_type": "code",
   "execution_count": 644,
   "metadata": {},
   "outputs": [],
   "source": [
    "# Collapse columns and sum. \n",
    "diagnosis_mets_10 = (\n",
    "    diagnosis_mets_10\n",
    "    .drop(columns = ['DiagnosisCode', 'diagnosis_code'])\n",
    "    .groupby('PatientID').sum()\n",
    "    .reset_index()\n",
    ")"
   ]
  },
  {
   "cell_type": "code",
   "execution_count": 645,
   "metadata": {},
   "outputs": [],
   "source": [
    "# Merge ICD-9 and ICD-10 mets tables; collapse and sum. \n",
    "diagnosis_mets = (\n",
    "    pd.concat([diagnosis_mets_9, diagnosis_mets_10])\n",
    "    .groupby('PatientID').sum()\n",
    ")"
   ]
  },
  {
   "cell_type": "code",
   "execution_count": 646,
   "metadata": {},
   "outputs": [],
   "source": [
    "# All values >1 replaced by 1. \n",
    "diagnosis_mets = (\n",
    "    diagnosis_mets.mask(diagnosis_mets > 1, 1)\n",
    "    .reset_index()\n",
    ")"
   ]
  },
  {
   "cell_type": "code",
   "execution_count": 647,
   "metadata": {},
   "outputs": [],
   "source": [
    "# Append missing training IDs.\n",
    "diagnosis_mets = (\n",
    "    diagnosis_mets.append(\n",
    "        pd.Series(train_IDs)[~pd.Series(train_IDs).isin(diagnosis_mets['PatientID'])].to_frame(name = 'PatientID'), \n",
    "        sort = False)\n",
    "    .fillna(0)\n",
    ")"
   ]
  },
  {
   "cell_type": "code",
   "execution_count": 648,
   "metadata": {},
   "outputs": [
    {
     "data": {
      "text/plain": [
       "(54786, 54786)"
      ]
     },
     "execution_count": 648,
     "metadata": {},
     "output_type": "execute_result"
    }
   ],
   "source": [
    "row_ID(diagnosis_mets)"
   ]
  },
  {
   "cell_type": "code",
   "execution_count": 649,
   "metadata": {},
   "outputs": [
    {
     "data": {
      "text/plain": [
       "bone_met       0.119830\n",
       "cns_met        0.075019\n",
       "other_met      0.052586\n",
       "resp_met       0.032746\n",
       "liver_met      0.028693\n",
       "adrenal_met    0.014602\n",
       "dtype: float64"
      ]
     },
     "execution_count": 649,
     "metadata": {},
     "output_type": "execute_result"
    }
   ],
   "source": [
    "# Percentage with mets by site of location at time of advacned diagnosis\n",
    "(diagnosis_mets.iloc[:, 1:].sum()/len(diagnosis_mets)).sort_values(ascending = False)"
   ]
  },
  {
   "cell_type": "code",
   "execution_count": 650,
   "metadata": {},
   "outputs": [
    {
     "data": {
      "text/plain": [
       "0.2463220530792538"
      ]
     },
     "execution_count": 650,
     "metadata": {},
     "output_type": "execute_result"
    }
   ],
   "source": [
    "# Percentage of patiens with ICD code denoting mets at time of advanced diagnosis. \n",
    "len(diagnosis_mets[diagnosis_mets.eq(1).any(1)])/len(diagnosis_mets)"
   ]
  },
  {
   "cell_type": "code",
   "execution_count": 651,
   "metadata": {},
   "outputs": [
    {
     "data": {
      "text/html": [
       "<div>\n",
       "<style scoped>\n",
       "    .dataframe tbody tr th:only-of-type {\n",
       "        vertical-align: middle;\n",
       "    }\n",
       "\n",
       "    .dataframe tbody tr th {\n",
       "        vertical-align: top;\n",
       "    }\n",
       "\n",
       "    .dataframe thead th {\n",
       "        text-align: right;\n",
       "    }\n",
       "</style>\n",
       "<table border=\"1\" class=\"dataframe\">\n",
       "  <thead>\n",
       "    <tr style=\"text-align: right;\">\n",
       "      <th></th>\n",
       "      <th>PatientID</th>\n",
       "      <th>cns_met</th>\n",
       "      <th>bone_met</th>\n",
       "      <th>liver_met</th>\n",
       "      <th>resp_met</th>\n",
       "      <th>adrenal_met</th>\n",
       "      <th>other_met</th>\n",
       "    </tr>\n",
       "  </thead>\n",
       "  <tbody>\n",
       "    <tr>\n",
       "      <th>21932</th>\n",
       "      <td>F8671882228E9</td>\n",
       "      <td>0.0</td>\n",
       "      <td>0.0</td>\n",
       "      <td>0.0</td>\n",
       "      <td>0.0</td>\n",
       "      <td>0.0</td>\n",
       "      <td>1.0</td>\n",
       "    </tr>\n",
       "    <tr>\n",
       "      <th>12176</th>\n",
       "      <td>F4A5516DFB09B</td>\n",
       "      <td>1.0</td>\n",
       "      <td>1.0</td>\n",
       "      <td>0.0</td>\n",
       "      <td>0.0</td>\n",
       "      <td>0.0</td>\n",
       "      <td>0.0</td>\n",
       "    </tr>\n",
       "    <tr>\n",
       "      <th>1836</th>\n",
       "      <td>F0B812A06BFB7</td>\n",
       "      <td>0.0</td>\n",
       "      <td>0.0</td>\n",
       "      <td>0.0</td>\n",
       "      <td>0.0</td>\n",
       "      <td>0.0</td>\n",
       "      <td>0.0</td>\n",
       "    </tr>\n",
       "    <tr>\n",
       "      <th>8752</th>\n",
       "      <td>F3570E3F23948</td>\n",
       "      <td>0.0</td>\n",
       "      <td>0.0</td>\n",
       "      <td>0.0</td>\n",
       "      <td>0.0</td>\n",
       "      <td>0.0</td>\n",
       "      <td>0.0</td>\n",
       "    </tr>\n",
       "    <tr>\n",
       "      <th>1351</th>\n",
       "      <td>F088C028129A4</td>\n",
       "      <td>0.0</td>\n",
       "      <td>0.0</td>\n",
       "      <td>0.0</td>\n",
       "      <td>0.0</td>\n",
       "      <td>0.0</td>\n",
       "      <td>0.0</td>\n",
       "    </tr>\n",
       "  </tbody>\n",
       "</table>\n",
       "</div>"
      ],
      "text/plain": [
       "           PatientID  cns_met  bone_met  liver_met  resp_met  adrenal_met  \\\n",
       "21932  F8671882228E9      0.0       0.0        0.0       0.0          0.0   \n",
       "12176  F4A5516DFB09B      1.0       1.0        0.0       0.0          0.0   \n",
       "1836   F0B812A06BFB7      0.0       0.0        0.0       0.0          0.0   \n",
       "8752   F3570E3F23948      0.0       0.0        0.0       0.0          0.0   \n",
       "1351   F088C028129A4      0.0       0.0        0.0       0.0          0.0   \n",
       "\n",
       "       other_met  \n",
       "21932        1.0  \n",
       "12176        0.0  \n",
       "1836         0.0  \n",
       "8752         0.0  \n",
       "1351         0.0  "
      ]
     },
     "execution_count": 651,
     "metadata": {},
     "output_type": "execute_result"
    }
   ],
   "source": [
    "diagnosis_mets.sample(5)"
   ]
  },
  {
   "cell_type": "markdown",
   "metadata": {},
   "source": [
    "**Site of metastasis at time of advanced diagnosis gives unexpecedly low results suggesting that ICD codes are most likley poorly documented by providers.**   "
   ]
  },
  {
   "cell_type": "markdown",
   "metadata": {},
   "source": [
    "#### 10.4 Merge"
   ]
  },
  {
   "cell_type": "code",
   "execution_count": 652,
   "metadata": {},
   "outputs": [],
   "source": [
    "diagnosis_wide = pd.merge(diagnosis_elixhauser, other_cancer, on = 'PatientID')"
   ]
  },
  {
   "cell_type": "code",
   "execution_count": 653,
   "metadata": {},
   "outputs": [],
   "source": [
    "diagnosis_wide = pd.merge(diagnosis_wide, diagnosis_mets, on = 'PatientID')"
   ]
  },
  {
   "cell_type": "code",
   "execution_count": 654,
   "metadata": {},
   "outputs": [
    {
     "data": {
      "text/plain": [
       "(54786, 54786)"
      ]
     },
     "execution_count": 654,
     "metadata": {},
     "output_type": "execute_result"
    }
   ],
   "source": [
    "row_ID(diagnosis_wide)"
   ]
  },
  {
   "cell_type": "code",
   "execution_count": 655,
   "metadata": {},
   "outputs": [
    {
     "data": {
      "text/plain": [
       "['PatientID',\n",
       " 'chf',\n",
       " 'cardiac_arrhythmias',\n",
       " 'valvular_disease',\n",
       " 'pulmonary_circulation',\n",
       " 'peripheral_vascular',\n",
       " 'htn_uncomplicated',\n",
       " 'htn_complicated',\n",
       " 'paralysis',\n",
       " 'other_neuro_disorders',\n",
       " 'chronic_pulmonary',\n",
       " 'diabetes_uncomplicated',\n",
       " 'diabetes_complicated',\n",
       " 'hypothyroidism',\n",
       " 'renal_failure',\n",
       " 'liver_disease',\n",
       " 'peptic_ulcer_disease',\n",
       " 'aids_hiv',\n",
       " 'lymphoma',\n",
       " 'metastatic_cancer',\n",
       " 'solid_tumor_wout_mets',\n",
       " 'rheumatoid_arthritis',\n",
       " 'coagulopathy',\n",
       " 'obesity',\n",
       " 'weight_loss',\n",
       " 'fluid_electrolyte',\n",
       " 'blood_loss_anemia',\n",
       " 'deficiency_anemia',\n",
       " 'alcohol_abuse',\n",
       " 'drug_abuse',\n",
       " 'psychoses',\n",
       " 'depression',\n",
       " 'elixhauser_other',\n",
       " 'icd_count',\n",
       " 'other_cancer',\n",
       " 'cns_met',\n",
       " 'bone_met',\n",
       " 'liver_met',\n",
       " 'resp_met',\n",
       " 'adrenal_met',\n",
       " 'other_met']"
      ]
     },
     "execution_count": 655,
     "metadata": {},
     "output_type": "execute_result"
    }
   ],
   "source": [
    "list(diagnosis_wide.columns)"
   ]
  },
  {
   "cell_type": "code",
   "execution_count": 656,
   "metadata": {
    "scrolled": true
   },
   "outputs": [
    {
     "name": "stdout",
     "output_type": "stream",
     "text": [
      "Variable                 Type         Data/Info\n",
      "-----------------------------------------------\n",
      "biomarker_wide           DataFrame               PatientID     <...>n[54786 rows x 8 columns]\n",
      "cancer_10                DataFrame                 PatientID Di<...>n[50190 rows x 3 columns]\n",
      "cancer_9                 DataFrame                 PatientID Di<...>n[33916 rows x 3 columns]\n",
      "demographics             DataFrame               PatientID Prac<...>n[54786 rows x 7 columns]\n",
      "diagnosis                DataFrame                 PatientID Di<...>1209131 rows x 8 columns]\n",
      "diagnosis_elix_10        DataFrame                 PatientID Di<...>221151 rows x 35 columns]\n",
      "diagnosis_elix_10_wide   DataFrame               PatientID  chf<...>[30508 rows x 33 columns]\n",
      "diagnosis_elix_9         DataFrame                 PatientID Di<...>115721 rows x 35 columns]\n",
      "diagnosis_elix_9_wide    DataFrame               PatientID  chf<...>[25868 rows x 33 columns]\n",
      "diagnosis_elixhauser     DataFrame               PatientID  chf<...>[54786 rows x 34 columns]\n",
      "diagnosis_mets           DataFrame               PatientID  cns<...>n[54786 rows x 7 columns]\n",
      "diagnosis_mets_10        DataFrame               PatientID  cns<...>n[27509 rows x 7 columns]\n",
      "diagnosis_mets_9         DataFrame               PatientID  cns<...>n[16482 rows x 7 columns]\n",
      "diagnosis_wide           DataFrame               PatientID  chf<...>[54786 rows x 41 columns]\n",
      "ecog_diagnosis_wide      DataFrame                PatientID eco<...>n[54786 rows x 2 columns]\n",
      "enhanced_adv             DataFrame               PatientID diag<...>n[54786 rows x 9 columns]\n",
      "insurance_wide           DataFrame               PatientID  com<...>n[54786 rows x 5 columns]\n",
      "lab_wide                 DataFrame               PatientID  alb<...>54786 rows x 129 columns]\n",
      "med_admin_wide           DataFrame               PatientID  ste<...>[54786 rows x 14 columns]\n",
      "mortality                DataFrame               PatientID  dea<...>n[54786 rows x 3 columns]\n",
      "other_cancer             DataFrame               PatientID  oth<...>n[54786 rows x 2 columns]\n",
      "other_cancer_10          DataFrame               PatientID  oth<...>n[54786 rows x 2 columns]\n",
      "other_cancer_9           DataFrame               PatientID  oth<...>n[54786 rows x 2 columns]\n",
      "telemedicine             DataFrame               PatientID   Vi<...>n[16712 rows x 2 columns]\n",
      "visit                    DataFrame                 PatientID   <...>2446952 rows x 6 columns]\n",
      "weight_wide              DataFrame               PatientID  wei<...>n[54786 rows x 7 columns]\n"
     ]
    }
   ],
   "source": [
    "%whos DataFrame"
   ]
  },
  {
   "cell_type": "code",
   "execution_count": 657,
   "metadata": {},
   "outputs": [],
   "source": [
    "# Keep diagnosis_wide.\n",
    "del cancer_10\n",
    "del cancer_9\n",
    "del diagnosis\n",
    "del diagnosis_elix_10\n",
    "del diagnosis_elix_10_wide\n",
    "del diagnosis_elix_9\n",
    "del diagnosis_elix_9_wide\n",
    "del diagnosis_elixhauser\n",
    "del diagnosis_mets\n",
    "del diagnosis_mets_10\n",
    "del diagnosis_mets_9\n",
    "del other_cancer\n",
    "del other_cancer_10\n",
    "del other_cancer_9"
   ]
  },
  {
   "cell_type": "markdown",
   "metadata": {},
   "source": [
    "## Merge files to create master training dataframe"
   ]
  },
  {
   "cell_type": "code",
   "execution_count": 658,
   "metadata": {},
   "outputs": [],
   "source": [
    "enhanced_adv = enhanced_adv.drop(columns = ['diagnosis_date', 'adv_date', 'adv_year_cat'])"
   ]
  },
  {
   "cell_type": "code",
   "execution_count": 659,
   "metadata": {},
   "outputs": [],
   "source": [
    "train_full = pd.merge(demographics, enhanced_adv, on = 'PatientID')"
   ]
  },
  {
   "cell_type": "code",
   "execution_count": 660,
   "metadata": {},
   "outputs": [],
   "source": [
    "train_full = pd.merge(train_full, mortality, on = 'PatientID')"
   ]
  },
  {
   "cell_type": "code",
   "execution_count": 661,
   "metadata": {},
   "outputs": [],
   "source": [
    "train_full = pd.merge(train_full, med_admin_wide, on = 'PatientID')"
   ]
  },
  {
   "cell_type": "code",
   "execution_count": 662,
   "metadata": {},
   "outputs": [],
   "source": [
    "train_full = pd.merge(train_full, biomarker_wide, on = 'PatientID')"
   ]
  },
  {
   "cell_type": "code",
   "execution_count": 663,
   "metadata": {},
   "outputs": [],
   "source": [
    "train_full = pd.merge(train_full, insurance_wide, on = 'PatientID')"
   ]
  },
  {
   "cell_type": "code",
   "execution_count": 664,
   "metadata": {},
   "outputs": [],
   "source": [
    "train_full = pd.merge(train_full, ecog_diagnosis_wide, on = 'PatientID')"
   ]
  },
  {
   "cell_type": "code",
   "execution_count": 665,
   "metadata": {},
   "outputs": [],
   "source": [
    "train_full = pd.merge(train_full, weight_wide, on = 'PatientID')"
   ]
  },
  {
   "cell_type": "code",
   "execution_count": 666,
   "metadata": {},
   "outputs": [],
   "source": [
    "train_full = pd.merge(train_full, lab_wide, on = 'PatientID')"
   ]
  },
  {
   "cell_type": "code",
   "execution_count": 667,
   "metadata": {},
   "outputs": [],
   "source": [
    "train_full = pd.merge(train_full, diagnosis_wide, on = 'PatientID')"
   ]
  },
  {
   "cell_type": "code",
   "execution_count": 668,
   "metadata": {},
   "outputs": [
    {
     "data": {
      "text/plain": [
       "(54786, 54786)"
      ]
     },
     "execution_count": 668,
     "metadata": {},
     "output_type": "execute_result"
    }
   ],
   "source": [
    "row_ID(train_full)"
   ]
  },
  {
   "cell_type": "code",
   "execution_count": 669,
   "metadata": {},
   "outputs": [
    {
     "data": {
      "text/plain": [
       "213"
      ]
     },
     "execution_count": 669,
     "metadata": {},
     "output_type": "execute_result"
    }
   ],
   "source": [
    "len(train_full.columns)"
   ]
  },
  {
   "cell_type": "code",
   "execution_count": 670,
   "metadata": {},
   "outputs": [
    {
     "data": {
      "text/plain": [
       "['PatientID',\n",
       " 'PracticeType',\n",
       " 'gender',\n",
       " 'race',\n",
       " 'ethnicity',\n",
       " 'age',\n",
       " 'region',\n",
       " 'Histology',\n",
       " 'SmokingStatus',\n",
       " 'stage',\n",
       " 'adv_year',\n",
       " 'delta_adv_diagnosis',\n",
       " 'death_status',\n",
       " 'timerisk_activity',\n",
       " 'steroid_diag',\n",
       " 'opioid_PO_diag',\n",
       " 'nonopioid_PO_diag',\n",
       " 'pain_IV_diag',\n",
       " 'ac_diag',\n",
       " 'antiinfective_IV_diag',\n",
       " 'antiinfective_diag',\n",
       " 'antihyperglycemic_diag',\n",
       " 'ppi_diag',\n",
       " 'antidepressant_diag',\n",
       " 'bta_diag',\n",
       " 'thyroid_diag',\n",
       " 'is_diag',\n",
       " 'ALK',\n",
       " 'BRAF',\n",
       " 'EGFR',\n",
       " 'KRAS',\n",
       " 'ROS1',\n",
       " 'pdl1',\n",
       " 'pdl1_n',\n",
       " 'commercial',\n",
       " 'medicare',\n",
       " 'medicaid',\n",
       " 'other_insurance',\n",
       " 'ecog_diagnosis',\n",
       " 'weight_diag',\n",
       " 'bmi_diag',\n",
       " 'bmi_diag_na',\n",
       " 'weight_pct_change',\n",
       " 'weight_pct_na',\n",
       " 'weight_slope',\n",
       " 'albumin_diag',\n",
       " 'alp_diag',\n",
       " 'alt_diag',\n",
       " 'ast_diag',\n",
       " 'bicarb_diag',\n",
       " 'bun_diag',\n",
       " 'calcium_diag',\n",
       " 'chloride_diag',\n",
       " 'creatinine_diag',\n",
       " 'hemoglobin_diag',\n",
       " 'neutrophil_count_diag',\n",
       " 'platelet_diag',\n",
       " 'potassium_diag',\n",
       " 'sodium_diag',\n",
       " 'total_bilirubin_diag',\n",
       " 'wbc_diag',\n",
       " 'albumin_diag_na',\n",
       " 'alp_diag_na',\n",
       " 'alt_diag_na',\n",
       " 'ast_diag_na',\n",
       " 'bicarb_diag_na',\n",
       " 'bun_diag_na',\n",
       " 'calcium_diag_na',\n",
       " 'chloride_diag_na',\n",
       " 'creatinine_diag_na',\n",
       " 'hemoglobin_diag_na',\n",
       " 'neutrophil_count_diag_na',\n",
       " 'platelet_diag_na',\n",
       " 'potassium_diag_na',\n",
       " 'sodium_diag_na',\n",
       " 'total_bilirubin_diag_na',\n",
       " 'wbc_diag_na',\n",
       " 'albumin_avg',\n",
       " 'alp_avg',\n",
       " 'alt_avg',\n",
       " 'ast_avg',\n",
       " 'bicarb_avg',\n",
       " 'bun_avg',\n",
       " 'calcium_avg',\n",
       " 'chloride_avg',\n",
       " 'creatinine_avg',\n",
       " 'hemoglobin_avg',\n",
       " 'neutrophil_count_avg',\n",
       " 'platelet_avg',\n",
       " 'potassium_avg',\n",
       " 'sodium_avg',\n",
       " 'total_bilirubin_avg',\n",
       " 'wbc_avg',\n",
       " 'albumin_max',\n",
       " 'alp_max',\n",
       " 'alt_max',\n",
       " 'ast_max',\n",
       " 'bicarb_max',\n",
       " 'bun_max',\n",
       " 'calcium_max',\n",
       " 'chloride_max',\n",
       " 'creatinine_max',\n",
       " 'hemoglobin_max',\n",
       " 'neutrophil_count_max',\n",
       " 'platelet_max',\n",
       " 'potassium_max',\n",
       " 'sodium_max',\n",
       " 'total_bilirubin_max',\n",
       " 'wbc_max',\n",
       " 'albumin_min',\n",
       " 'alp_min',\n",
       " 'alt_min',\n",
       " 'ast_min',\n",
       " 'bicarb_min',\n",
       " 'bun_min',\n",
       " 'calcium_min',\n",
       " 'chloride_min',\n",
       " 'creatinine_min',\n",
       " 'hemoglobin_min',\n",
       " 'neutrophil_count_min',\n",
       " 'platelet_min',\n",
       " 'potassium_min',\n",
       " 'sodium_min',\n",
       " 'total_bilirubin_min',\n",
       " 'wbc_min',\n",
       " 'albumin_std',\n",
       " 'alp_std',\n",
       " 'alt_std',\n",
       " 'ast_std',\n",
       " 'bicarb_std',\n",
       " 'bun_std',\n",
       " 'calcium_std',\n",
       " 'chloride_std',\n",
       " 'creatinine_std',\n",
       " 'hemoglobin_std',\n",
       " 'neutrophil_count_std',\n",
       " 'platelet_std',\n",
       " 'potassium_std',\n",
       " 'sodium_std',\n",
       " 'total_bilirubin_std',\n",
       " 'wbc_std',\n",
       " 'albumin_slope',\n",
       " 'alp_slope',\n",
       " 'alt_slope',\n",
       " 'ast_slope',\n",
       " 'bicarb_slope',\n",
       " 'bun_slope',\n",
       " 'calcium_slope',\n",
       " 'chloride_slope',\n",
       " 'creatinine_slope',\n",
       " 'hemoglobin_slope',\n",
       " 'neutrophil_count_slope',\n",
       " 'platelet_slope',\n",
       " 'potassium_slope',\n",
       " 'sodium_slope',\n",
       " 'total_bilirubin_slope',\n",
       " 'wbc_slope',\n",
       " 'albumin_slope_na',\n",
       " 'alp_slope_na',\n",
       " 'alt_slope_na',\n",
       " 'ast_slope_na',\n",
       " 'bicarb_slope_na',\n",
       " 'bun_slope_na',\n",
       " 'calcium_slope_na',\n",
       " 'chloride_slope_na',\n",
       " 'creatinine_slope_na',\n",
       " 'hemoglobin_slope_na',\n",
       " 'neutrophil_count_slope_na',\n",
       " 'platelet_slope_na',\n",
       " 'potassium_slope_na',\n",
       " 'sodium_slope_na',\n",
       " 'total_bilirubin_slope_na',\n",
       " 'wbc_slope_na',\n",
       " 'chf',\n",
       " 'cardiac_arrhythmias',\n",
       " 'valvular_disease',\n",
       " 'pulmonary_circulation',\n",
       " 'peripheral_vascular',\n",
       " 'htn_uncomplicated',\n",
       " 'htn_complicated',\n",
       " 'paralysis',\n",
       " 'other_neuro_disorders',\n",
       " 'chronic_pulmonary',\n",
       " 'diabetes_uncomplicated',\n",
       " 'diabetes_complicated',\n",
       " 'hypothyroidism',\n",
       " 'renal_failure',\n",
       " 'liver_disease',\n",
       " 'peptic_ulcer_disease',\n",
       " 'aids_hiv',\n",
       " 'lymphoma',\n",
       " 'metastatic_cancer',\n",
       " 'solid_tumor_wout_mets',\n",
       " 'rheumatoid_arthritis',\n",
       " 'coagulopathy',\n",
       " 'obesity',\n",
       " 'weight_loss',\n",
       " 'fluid_electrolyte',\n",
       " 'blood_loss_anemia',\n",
       " 'deficiency_anemia',\n",
       " 'alcohol_abuse',\n",
       " 'drug_abuse',\n",
       " 'psychoses',\n",
       " 'depression',\n",
       " 'elixhauser_other',\n",
       " 'icd_count',\n",
       " 'other_cancer',\n",
       " 'cns_met',\n",
       " 'bone_met',\n",
       " 'liver_met',\n",
       " 'resp_met',\n",
       " 'adrenal_met',\n",
       " 'other_met']"
      ]
     },
     "execution_count": 670,
     "metadata": {},
     "output_type": "execute_result"
    }
   ],
   "source": [
    "list(train_full.columns)"
   ]
  },
  {
   "cell_type": "code",
   "execution_count": 671,
   "metadata": {},
   "outputs": [],
   "source": [
    "train_full.to_csv('train_full.csv', index = False, header = True)"
   ]
  }
 ],
 "metadata": {
  "kernelspec": {
   "display_name": "Python 3 (ipykernel)",
   "language": "python",
   "name": "python3"
  },
  "language_info": {
   "codemirror_mode": {
    "name": "ipython",
    "version": 3
   },
   "file_extension": ".py",
   "mimetype": "text/x-python",
   "name": "python",
   "nbconvert_exporter": "python",
   "pygments_lexer": "ipython3",
   "version": "3.7.10"
  }
 },
 "nbformat": 4,
 "nbformat_minor": 2
}
