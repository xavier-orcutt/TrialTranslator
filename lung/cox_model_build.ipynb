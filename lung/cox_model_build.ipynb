{
 "cells": [
  {
   "cell_type": "markdown",
   "id": "82cc98fc",
   "metadata": {},
   "source": [
    "# Flatiron Health aNSCLC: Cox model build \n",
    "\n",
    "**OBJECTIVE: Build the lung cancer prognostic index (LCPI) Cox model.**\n",
    "\n",
    "**BACKGROUND: The LCPI is a classical Cox model published in 2017 that predicts overall survival following NSCLC diagnosis using 9 clinical and biomarker variables. Discriminatory performance was validated on an external dataset and resulted in a concordance index of 0.71 and 0.72. The LCPI thus serves as a decent benchmark against which to judge our machine learning survival models.**\n",
    "\n",
    "**The authors of LCPI resolved missingness by using multiple imputation chained equations (MICE). In their two external validation sets, 40% and 80% of patients had complete data.***\n",
    "\n",
    "**OUTLINE:**\n",
    "1. **Preprocessing**\n",
    "2. **Crude imputation** \n",
    "3. **Complete cases** "
   ]
  },
  {
   "cell_type": "markdown",
   "id": "26492b2a",
   "metadata": {},
   "source": [
    "## 1. Preprocessing "
   ]
  },
  {
   "cell_type": "markdown",
   "id": "3371d9ad",
   "metadata": {},
   "source": [
    "**The LCPI model includes the following variables:**\n",
    "* Respiratory comorbidities\n",
    "* Weight loss\n",
    "* Mutation status\n",
    "* Age\n",
    "* Histology\n",
    "* ECOG\n",
    "* Smoking history\n",
    "* Sex\n",
    "* Stage"
   ]
  },
  {
   "cell_type": "code",
   "execution_count": 1,
   "id": "e696ed1e",
   "metadata": {},
   "outputs": [],
   "source": [
    "import numpy as np\n",
    "import pandas as pd"
   ]
  },
  {
   "cell_type": "code",
   "execution_count": 2,
   "id": "50683698",
   "metadata": {},
   "outputs": [
    {
     "name": "stdout",
     "output_type": "stream",
     "text": [
      "54786 True\n"
     ]
    }
   ],
   "source": [
    "train = pd.read_csv('train_full.csv')\n",
    "print(len(train), train.PatientID.is_unique)"
   ]
  },
  {
   "cell_type": "code",
   "execution_count": 3,
   "id": "2cafba94",
   "metadata": {},
   "outputs": [
    {
     "name": "stdout",
     "output_type": "stream",
     "text": [
      "13697 True\n"
     ]
    }
   ],
   "source": [
    "test = pd.read_csv('test_full.csv')\n",
    "print(len(test), test.PatientID.is_unique)"
   ]
  },
  {
   "cell_type": "markdown",
   "id": "31323fd8",
   "metadata": {},
   "source": [
    "### Training set "
   ]
  },
  {
   "cell_type": "code",
   "execution_count": 4,
   "id": "e8d94493",
   "metadata": {},
   "outputs": [],
   "source": [
    "train_cox = (\n",
    "    train\n",
    "    .filter(items = [\n",
    "        'PatientID',\n",
    "        'stage', \n",
    "        'Histology', \n",
    "        'ALK', \n",
    "        'EGFR',  \n",
    "        'ecog_diagnosis', \n",
    "        'weight_pct_change', \n",
    "        'SmokingStatus',\n",
    "        'gender',\n",
    "        'age',\n",
    "        'death_status',\n",
    "        'timerisk_activity'])\n",
    ")"
   ]
  },
  {
   "cell_type": "markdown",
   "id": "8d2111e7",
   "metadata": {},
   "source": [
    "#### Respiratory comorbidity variable\n",
    "**Positive respiratory comorbidity is defined as having a history of tuberculosis, pleural effusion or pneumonia, asthma, pulmonary embolism, hypoxemia < 60 mm Hg, and/or chronic obstructive pulmonary disease inducing a FEV1 < 1.5 L. ICD codes will be used to determine if a patient has one of the above respiratory comorbidity. The eligbility window for the ICD codes will be negative infinity to +30 days from advanced diagnosis.** "
   ]
  },
  {
   "cell_type": "code",
   "execution_count": 5,
   "id": "ac995683",
   "metadata": {},
   "outputs": [],
   "source": [
    "diagnosis = pd.read_csv('Diagnosis.csv')\n",
    "enhanced_adv = pd.read_csv('Enhanced_AdvancedNSCLC.csv')"
   ]
  },
  {
   "cell_type": "code",
   "execution_count": 6,
   "id": "e0dfe4f9",
   "metadata": {},
   "outputs": [],
   "source": [
    "# Select patients from training set. \n",
    "diagnosis = diagnosis[diagnosis['PatientID'].isin(train.PatientID)]\n",
    "enhanced_adv = enhanced_adv[enhanced_adv['PatientID'].isin(train.PatientID)]"
   ]
  },
  {
   "cell_type": "code",
   "execution_count": 7,
   "id": "a2445412",
   "metadata": {},
   "outputs": [],
   "source": [
    "# Convert dates to datetime format. \n",
    "diagnosis.loc[:, 'DiagnosisDate'] = pd.to_datetime(diagnosis['DiagnosisDate'])\n",
    "enhanced_adv.loc[:, 'AdvancedDiagnosisDate'] = pd.to_datetime(enhanced_adv['AdvancedDiagnosisDate'])"
   ]
  },
  {
   "cell_type": "code",
   "execution_count": 8,
   "id": "b81336f4",
   "metadata": {},
   "outputs": [],
   "source": [
    "diagnosis = pd.merge(diagnosis, enhanced_adv[['PatientID', 'AdvancedDiagnosisDate']], on = 'PatientID', how = 'left')"
   ]
  },
  {
   "cell_type": "code",
   "execution_count": 9,
   "id": "c868e63c",
   "metadata": {},
   "outputs": [],
   "source": [
    "diagnosis.loc[:, 'diagnosis_date_diff'] = (diagnosis['DiagnosisDate'] - diagnosis['AdvancedDiagnosisDate']).dt.days"
   ]
  },
  {
   "cell_type": "code",
   "execution_count": 10,
   "id": "9965aa6b",
   "metadata": {},
   "outputs": [],
   "source": [
    "# Remove decimal to make mapping to Elixhauser easier. \n",
    "diagnosis.loc[:, 'diagnosis_code'] = diagnosis['DiagnosisCode'].replace('\\.', '', regex = True)"
   ]
  },
  {
   "cell_type": "code",
   "execution_count": 11,
   "id": "fdadc941",
   "metadata": {},
   "outputs": [],
   "source": [
    "# For each patient, select unique set of ICD-9 codes less than 30 days from time of advanced diagnosis.  \n",
    "diagnosis_9 = (\n",
    "    diagnosis\n",
    "    .query('diagnosis_date_diff <= 30')\n",
    "    .query('DiagnosisCodeSystem == \"ICD-9-CM\"')\n",
    "    .drop_duplicates(subset = (['PatientID', 'DiagnosisCode']), keep = 'first')\n",
    "    .filter(items = ['PatientID', 'DiagnosisCode', 'diagnosis_code'])\n",
    ")"
   ]
  },
  {
   "cell_type": "code",
   "execution_count": 12,
   "id": "3c6baa6f",
   "metadata": {},
   "outputs": [],
   "source": [
    "diagnosis_9.loc[:, 'tb'] = (\n",
    "    np.where(diagnosis_9['diagnosis_code'].str.match('01[012345678]'), 1, 0)\n",
    ")"
   ]
  },
  {
   "cell_type": "code",
   "execution_count": 13,
   "id": "44e5228f",
   "metadata": {},
   "outputs": [],
   "source": [
    "diagnosis_9.loc[:, 'pleural_effusion'] = (\n",
    "    np.where(diagnosis_9['diagnosis_code'].str.match('511(1|8|9)'), 1, 0)\n",
    ")"
   ]
  },
  {
   "cell_type": "code",
   "execution_count": 14,
   "id": "1b0ccc3b",
   "metadata": {},
   "outputs": [],
   "source": [
    "diagnosis_9.loc[:, 'pneumonia'] = (\n",
    "    np.where(diagnosis_9['diagnosis_code'].str.match('48[0123456]|'\n",
    "                                                     '4870|'\n",
    "                                                     '488(01|11|81)'), 1, 0)\n",
    ")"
   ]
  },
  {
   "cell_type": "code",
   "execution_count": 15,
   "id": "d5ccc5b5",
   "metadata": {},
   "outputs": [],
   "source": [
    "diagnosis_9.loc[:, 'asthma'] = (\n",
    "    np.where(diagnosis_9['diagnosis_code'].str.match('493'), 1, 0)\n",
    ")"
   ]
  },
  {
   "cell_type": "code",
   "execution_count": 16,
   "id": "aeb1b4ec",
   "metadata": {},
   "outputs": [],
   "source": [
    "diagnosis_9.loc[:, 'pulmonary_embolism'] = (\n",
    "    np.where(diagnosis_9['diagnosis_code'].str.match('4151|4162'), 1, 0)\n",
    ")"
   ]
  },
  {
   "cell_type": "code",
   "execution_count": 17,
   "id": "829b6d0f",
   "metadata": {},
   "outputs": [],
   "source": [
    "diagnosis_9.loc[:, 'hypoxemia'] = (\n",
    "    np.where(diagnosis_9['diagnosis_code'].str.match('79902'), 1, 0)\n",
    ")"
   ]
  },
  {
   "cell_type": "code",
   "execution_count": 18,
   "id": "1768196b",
   "metadata": {},
   "outputs": [],
   "source": [
    "diagnosis_9.loc[:, 'copd'] = (\n",
    "    np.where(diagnosis_9['diagnosis_code'].str.match('49[126]'), 1, 0)\n",
    ")"
   ]
  },
  {
   "cell_type": "code",
   "execution_count": 19,
   "id": "3d8ff4be",
   "metadata": {},
   "outputs": [],
   "source": [
    "# Single-row-per-patient dataframe with columns as Elixhauser comorbidities. \n",
    "diagnosis_9_wide = (\n",
    "    diagnosis_9\n",
    "    .drop(columns = ['DiagnosisCode', 'diagnosis_code'])\n",
    "    .groupby('PatientID').sum()\n",
    "    .reset_index()\n",
    ")"
   ]
  },
  {
   "cell_type": "code",
   "execution_count": 20,
   "id": "5cc2bd10",
   "metadata": {},
   "outputs": [
    {
     "name": "stdout",
     "output_type": "stream",
     "text": [
      "25868 True\n"
     ]
    }
   ],
   "source": [
    "print(len(diagnosis_9_wide), diagnosis_9_wide.PatientID.is_unique)"
   ]
  },
  {
   "cell_type": "code",
   "execution_count": 21,
   "id": "a2e35b2d",
   "metadata": {},
   "outputs": [],
   "source": [
    "# For each patient, select unique set of ICD-10 codes less than 30 days from time of advanced diagnosis.   \n",
    "diagnosis_10 = (\n",
    "    diagnosis\n",
    "    .query('diagnosis_date_diff <= 30')\n",
    "    .query('DiagnosisCodeSystem == \"ICD-10-CM\"')\n",
    "    .drop_duplicates(subset = (['PatientID', 'DiagnosisCode']), keep = 'first')\n",
    "    .filter(items = ['PatientID', 'DiagnosisCode', 'diagnosis_code'])\n",
    ")"
   ]
  },
  {
   "cell_type": "code",
   "execution_count": 22,
   "id": "9544d60b",
   "metadata": {},
   "outputs": [],
   "source": [
    "diagnosis_10.loc[:, 'tb'] = (\n",
    "    np.where(diagnosis_10['diagnosis_code'].str.match('A1[56789]'), 1, 0)\n",
    ")"
   ]
  },
  {
   "cell_type": "code",
   "execution_count": 23,
   "id": "6875fac6",
   "metadata": {},
   "outputs": [],
   "source": [
    "diagnosis_10.loc[:, 'pleural_effusion'] = (\n",
    "    np.where(diagnosis_10['diagnosis_code'].str.match('J9[01]'), 1, 0)\n",
    ")"
   ]
  },
  {
   "cell_type": "code",
   "execution_count": 24,
   "id": "d156ab29",
   "metadata": {},
   "outputs": [],
   "source": [
    "diagnosis_10.loc[:, 'pneumonia'] = (\n",
    "    np.where(diagnosis_10['diagnosis_code'].str.match('J1([01]0|[2345678])|'\n",
    "                                                      'J09X1'), 1, 0)\n",
    ")"
   ]
  },
  {
   "cell_type": "code",
   "execution_count": 25,
   "id": "af6c02ec",
   "metadata": {},
   "outputs": [],
   "source": [
    "diagnosis_10.loc[:, 'asthma'] = (\n",
    "    np.where(diagnosis_10['diagnosis_code'].str.match('J45'), 1, 0)\n",
    ")"
   ]
  },
  {
   "cell_type": "code",
   "execution_count": 26,
   "id": "784750ba",
   "metadata": {},
   "outputs": [],
   "source": [
    "diagnosis_10.loc[:, 'pulmonary_embolism'] = (\n",
    "    np.where(diagnosis_10['diagnosis_code'].str.match('I26'), 1, 0)\n",
    ")"
   ]
  },
  {
   "cell_type": "code",
   "execution_count": 27,
   "id": "94549e2e",
   "metadata": {},
   "outputs": [],
   "source": [
    "diagnosis_10.loc[:, 'hypoxemia'] = (\n",
    "    np.where(diagnosis_10['diagnosis_code'].str.match('R0902'), 1, 0)\n",
    ")"
   ]
  },
  {
   "cell_type": "code",
   "execution_count": 28,
   "id": "58cb03d7",
   "metadata": {},
   "outputs": [],
   "source": [
    "diagnosis_10.loc[:, 'copd'] = (\n",
    "    np.where(diagnosis_10['diagnosis_code'].str.match('J4[01234]'), 1, 0)\n",
    ")"
   ]
  },
  {
   "cell_type": "code",
   "execution_count": 29,
   "id": "07f93135",
   "metadata": {},
   "outputs": [],
   "source": [
    "# Single-row-per-patient dataframe with columns as Elixhauser comorbidities.\n",
    "diagnosis_10_wide = (\n",
    "    diagnosis_10\n",
    "    .drop(columns = ['DiagnosisCode', 'diagnosis_code'])\n",
    "    .groupby('PatientID').sum()\n",
    "    .reset_index()\n",
    ")"
   ]
  },
  {
   "cell_type": "code",
   "execution_count": 30,
   "id": "a82c5867",
   "metadata": {},
   "outputs": [
    {
     "name": "stdout",
     "output_type": "stream",
     "text": [
      "30508 True\n"
     ]
    }
   ],
   "source": [
    "print(len(diagnosis_10_wide), diagnosis_10_wide.PatientID.is_unique)"
   ]
  },
  {
   "cell_type": "code",
   "execution_count": 31,
   "id": "f2e2ac1f",
   "metadata": {},
   "outputs": [],
   "source": [
    "# Merge 9 and 10 and sum by PatientID.\n",
    "diagnosis_wide = (\n",
    "    pd.concat([diagnosis_9_wide, diagnosis_10_wide])\n",
    "    .groupby('PatientID').sum()\n",
    ")"
   ]
  },
  {
   "cell_type": "code",
   "execution_count": 32,
   "id": "7a2253f5",
   "metadata": {},
   "outputs": [],
   "source": [
    "# Create resp_comorb variable where 1 if any of the above ICD 9 or 10 codes are captured; otherwise set to 0. \n",
    "diagnosis_wide['resp_comorb'] = np.where((diagnosis_wide == 0).all(axis = 1), 0, 1)"
   ]
  },
  {
   "cell_type": "code",
   "execution_count": 33,
   "id": "1d017e1c",
   "metadata": {},
   "outputs": [],
   "source": [
    "diagnosis_wide = (\n",
    "    diagnosis_wide\n",
    "    .reset_index()\n",
    "    .filter(items = ['PatientID', 'resp_comorb'])\n",
    ")"
   ]
  },
  {
   "cell_type": "code",
   "execution_count": 34,
   "id": "3ef0ed31",
   "metadata": {},
   "outputs": [],
   "source": [
    "# Merge respiratory comorbidity column with train_lcpi dataframe\n",
    "train_cox = pd.merge(train_cox, diagnosis_wide, on = 'PatientID', how = 'outer')"
   ]
  },
  {
   "cell_type": "code",
   "execution_count": 35,
   "id": "5442c161",
   "metadata": {},
   "outputs": [],
   "source": [
    "train_cox[['resp_comorb']] = train_cox[['resp_comorb']].fillna(value = 0)"
   ]
  },
  {
   "cell_type": "code",
   "execution_count": 36,
   "id": "be1977f7",
   "metadata": {},
   "outputs": [
    {
     "data": {
      "text/plain": [
       "0.0    0.818804\n",
       "1.0    0.181196\n",
       "Name: resp_comorb, dtype: float64"
      ]
     },
     "execution_count": 36,
     "metadata": {},
     "output_type": "execute_result"
    }
   ],
   "source": [
    "# Percent of patients with positive respiratory comorbidity\n",
    "train_cox.resp_comorb.value_counts(normalize = True, dropna = False)"
   ]
  },
  {
   "cell_type": "markdown",
   "id": "1493b8f7",
   "metadata": {},
   "source": [
    "#### Mutation status \n",
    "**No proven actionable mutation at time of diagnosis is defined by LCPI as EGFR/ALK negative, KRAS positive, or mutation not tested.**"
   ]
  },
  {
   "cell_type": "code",
   "execution_count": 37,
   "id": "e72cf46d",
   "metadata": {},
   "outputs": [],
   "source": [
    "train_cox['no_actionable_mutation'] = (\n",
    "    np.where(\n",
    "        ((train_cox['EGFR'] == 'negative') | (train_cox['EGFR'] == 'unknown')) &\n",
    "        ((train_cox['ALK'] == 'negative') | (train_cox['ALK'] == 'unknown')), 1, 0)\n",
    ")"
   ]
  },
  {
   "cell_type": "code",
   "execution_count": 38,
   "id": "a11cc6c0",
   "metadata": {},
   "outputs": [
    {
     "data": {
      "text/plain": [
       "1    0.930657\n",
       "0    0.069343\n",
       "Name: no_actionable_mutation, dtype: float64"
      ]
     },
     "execution_count": 38,
     "metadata": {},
     "output_type": "execute_result"
    }
   ],
   "source": [
    "train_cox.no_actionable_mutation.value_counts(normalize = True, dropna = False)"
   ]
  },
  {
   "cell_type": "markdown",
   "id": "7f2bd3fa",
   "metadata": {},
   "source": [
    "#### Weight loss\n",
    "**Weight loss is dichotomized to 0–10 vs >10% within 3 months of advanced diagnosis.**"
   ]
  },
  {
   "cell_type": "code",
   "execution_count": 39,
   "id": "261cf935",
   "metadata": {},
   "outputs": [],
   "source": [
    "train_cox['weight_pct_change_10'] = (\n",
    "    np.where(train_cox['weight_pct_change'] < -0.1, 1, 0)\n",
    ")"
   ]
  },
  {
   "cell_type": "code",
   "execution_count": 40,
   "id": "5cf586d3",
   "metadata": {},
   "outputs": [
    {
     "data": {
      "text/plain": [
       "0    0.907987\n",
       "1    0.092013\n",
       "Name: weight_pct_change_10, dtype: float64"
      ]
     },
     "execution_count": 40,
     "metadata": {},
     "output_type": "execute_result"
    }
   ],
   "source": [
    "train_cox.weight_pct_change_10.value_counts(normalize = True, dropna = False)"
   ]
  },
  {
   "cell_type": "markdown",
   "id": "403a0cd0",
   "metadata": {},
   "source": [
    "#### Age \n",
    "**Age was grouped as less than or equal to 50 and then grouped every 20 years (51-70, 71-90, >=91). Recall, the Flatiron dataset aggregates patients 84 and older into a single category of 84 years of age to limit potential for re-identification of older patients. Consequently, aged will be bucketed as 51-70, 71-83, and 84** "
   ]
  },
  {
   "cell_type": "code",
   "execution_count": 41,
   "id": "150cb38c",
   "metadata": {},
   "outputs": [],
   "source": [
    "train_cox['age_cat'] = pd.cut(train_cox['age'],\n",
    "                              bins = [17, 50, 70, 83, 84],\n",
    "                              labels = ['<=50', '51-70', '71-83', '84'])"
   ]
  },
  {
   "cell_type": "code",
   "execution_count": 42,
   "id": "5991aeb6",
   "metadata": {},
   "outputs": [
    {
     "data": {
      "text/plain": [
       "51-70    0.489632\n",
       "71-83    0.461505\n",
       "<=50     0.040594\n",
       "84       0.007794\n",
       "NaN      0.000475\n",
       "Name: age_cat, dtype: float64"
      ]
     },
     "execution_count": 42,
     "metadata": {},
     "output_type": "execute_result"
    }
   ],
   "source": [
    "train_cox.age_cat.value_counts(normalize = True, dropna = False)"
   ]
  },
  {
   "cell_type": "code",
   "execution_count": 43,
   "id": "1a81910f",
   "metadata": {},
   "outputs": [
    {
     "data": {
      "text/plain": [
       "70.0"
      ]
     },
     "execution_count": 43,
     "metadata": {},
     "output_type": "execute_result"
    }
   ],
   "source": [
    "train_cox.age.median()"
   ]
  },
  {
   "cell_type": "markdown",
   "id": "d2b00e40",
   "metadata": {},
   "source": [
    "#### Histology \n",
    "**Histology is dichotomized as not otherwise specified or other according to LCPI.**"
   ]
  },
  {
   "cell_type": "code",
   "execution_count": 44,
   "id": "309b5f65",
   "metadata": {},
   "outputs": [],
   "source": [
    "train_cox['histology_nos'] = (\n",
    "    np.where(train_cox['Histology'] == 'NSCLC histology NOS', 1, 0)\n",
    ")"
   ]
  },
  {
   "cell_type": "code",
   "execution_count": 45,
   "id": "1607c6b9",
   "metadata": {},
   "outputs": [
    {
     "data": {
      "text/plain": [
       "0    0.947213\n",
       "1    0.052787\n",
       "Name: histology_nos, dtype: float64"
      ]
     },
     "execution_count": 45,
     "metadata": {},
     "output_type": "execute_result"
    }
   ],
   "source": [
    "train_cox.histology_nos.value_counts(normalize = True, dropna = False)"
   ]
  },
  {
   "cell_type": "markdown",
   "id": "678f99e7",
   "metadata": {},
   "source": [
    "#### ECOG \n",
    "**ECOG was dichotomized as <2 or >=2 by LCPI.** "
   ]
  },
  {
   "cell_type": "code",
   "execution_count": 46,
   "id": "2f0c5242",
   "metadata": {},
   "outputs": [],
   "source": [
    "train_cox['ecog_2'] = (\n",
    "    np.where(((train_cox['ecog_diagnosis'] == '2.0') | \n",
    "              (train_cox['ecog_diagnosis'] == '3.0') | \n",
    "              (train_cox['ecog_diagnosis'] == '4.0')), 1, 0)\n",
    ")"
   ]
  },
  {
   "cell_type": "code",
   "execution_count": 47,
   "id": "8703abea",
   "metadata": {},
   "outputs": [
    {
     "data": {
      "text/plain": [
       "0    0.891542\n",
       "1    0.108458\n",
       "Name: ecog_2, dtype: float64"
      ]
     },
     "execution_count": 47,
     "metadata": {},
     "output_type": "execute_result"
    }
   ],
   "source": [
    "train_cox.ecog_2.value_counts(normalize = True, dropna = False)"
   ]
  },
  {
   "cell_type": "markdown",
   "id": "c269585a",
   "metadata": {},
   "source": [
    "#### Smoking status\n",
    "**Smoking status was dichotomized as ever smoker or not by LCPI.** "
   ]
  },
  {
   "cell_type": "code",
   "execution_count": 48,
   "id": "edd63b6c",
   "metadata": {},
   "outputs": [],
   "source": [
    "train_cox['ever_smoker'] = (\n",
    "    np.where(train_cox['SmokingStatus'] == 'History of smoking', 1, 0)\n",
    ")"
   ]
  },
  {
   "cell_type": "code",
   "execution_count": 49,
   "id": "63f24820",
   "metadata": {},
   "outputs": [
    {
     "data": {
      "text/plain": [
       "1    0.868196\n",
       "0    0.131804\n",
       "Name: ever_smoker, dtype: float64"
      ]
     },
     "execution_count": 49,
     "metadata": {},
     "output_type": "execute_result"
    }
   ],
   "source": [
    "train_cox.ever_smoker.value_counts(normalize = True, dropna = False)"
   ]
  },
  {
   "cell_type": "markdown",
   "id": "9bbfa907",
   "metadata": {},
   "source": [
    "#### Sex"
   ]
  },
  {
   "cell_type": "code",
   "execution_count": 50,
   "id": "8aaa2e4c",
   "metadata": {},
   "outputs": [],
   "source": [
    "train_cox['sex_m'] = (\n",
    "    np.where(train_cox['gender'] == 'M', 1, 0)\n",
    ")"
   ]
  },
  {
   "cell_type": "code",
   "execution_count": 51,
   "id": "cba66306",
   "metadata": {},
   "outputs": [
    {
     "data": {
      "text/plain": [
       "1    0.521794\n",
       "0    0.478206\n",
       "Name: sex_m, dtype: float64"
      ]
     },
     "execution_count": 51,
     "metadata": {},
     "output_type": "execute_result"
    }
   ],
   "source": [
    "train_cox.sex_m.value_counts(normalize = True, dropna = False)"
   ]
  },
  {
   "cell_type": "markdown",
   "id": "84e9f611",
   "metadata": {},
   "source": [
    "#### Stage\n",
    "**Stage at time of diagnosis was grouped according the UICC 7th edition (I, II, IIIA, IIIB, and IV). Flatiron has some patients staged as IIIC according to UICC 8th edition, but this comprises a small subset of patients and so were left as is rather than recategorizing as IV or IIIB.**"
   ]
  },
  {
   "cell_type": "code",
   "execution_count": 52,
   "id": "e5b58e14",
   "metadata": {},
   "outputs": [
    {
     "data": {
      "text/plain": [
       "IV         0.613496\n",
       "IIIB       0.109481\n",
       "I          0.090808\n",
       "IIIA       0.081024\n",
       "II         0.052714\n",
       "unknown    0.033932\n",
       "III        0.013142\n",
       "IIIC       0.005403\n",
       "Name: stage, dtype: float64"
      ]
     },
     "execution_count": 52,
     "metadata": {},
     "output_type": "execute_result"
    }
   ],
   "source": [
    "train_cox.stage.value_counts(normalize = True, dropna = False)"
   ]
  },
  {
   "cell_type": "markdown",
   "id": "e6ae8b8f",
   "metadata": {},
   "source": [
    "### Test set"
   ]
  },
  {
   "cell_type": "code",
   "execution_count": 53,
   "id": "1d72a9fa",
   "metadata": {},
   "outputs": [],
   "source": [
    "test_cox = (\n",
    "    test\n",
    "    .filter(items = [\n",
    "        'PatientID',\n",
    "        'stage', \n",
    "        'Histology', \n",
    "        'ALK', \n",
    "        'EGFR',  \n",
    "        'ecog_diagnosis', \n",
    "        'weight_pct_change', \n",
    "        'SmokingStatus',\n",
    "        'gender',\n",
    "        'age',\n",
    "        'death_status',\n",
    "        'timerisk_activity'])\n",
    ")"
   ]
  },
  {
   "cell_type": "markdown",
   "id": "658538eb",
   "metadata": {},
   "source": [
    "#### Respiratory comorbidity variable"
   ]
  },
  {
   "cell_type": "code",
   "execution_count": 54,
   "id": "9f39810a",
   "metadata": {},
   "outputs": [],
   "source": [
    "diagnosis = pd.read_csv('Diagnosis.csv')\n",
    "enhanced_adv = pd.read_csv('Enhanced_AdvancedNSCLC.csv')"
   ]
  },
  {
   "cell_type": "code",
   "execution_count": 55,
   "id": "e03b106c",
   "metadata": {},
   "outputs": [],
   "source": [
    "# Select patients from training set. \n",
    "diagnosis = diagnosis[diagnosis['PatientID'].isin(test.PatientID)]\n",
    "enhanced_adv = enhanced_adv[enhanced_adv['PatientID'].isin(test.PatientID)]"
   ]
  },
  {
   "cell_type": "code",
   "execution_count": 56,
   "id": "72ade441",
   "metadata": {},
   "outputs": [],
   "source": [
    "# Convert dates to datetime format. \n",
    "diagnosis.loc[:, 'DiagnosisDate'] = pd.to_datetime(diagnosis['DiagnosisDate'])\n",
    "enhanced_adv.loc[:, 'AdvancedDiagnosisDate'] = pd.to_datetime(enhanced_adv['AdvancedDiagnosisDate'])"
   ]
  },
  {
   "cell_type": "code",
   "execution_count": 57,
   "id": "5cf6157d",
   "metadata": {},
   "outputs": [],
   "source": [
    "diagnosis = pd.merge(diagnosis, enhanced_adv[['PatientID', 'AdvancedDiagnosisDate']], on = 'PatientID', how = 'left')"
   ]
  },
  {
   "cell_type": "code",
   "execution_count": 58,
   "id": "af144222",
   "metadata": {},
   "outputs": [],
   "source": [
    "diagnosis.loc[:, 'diagnosis_date_diff'] = (diagnosis['DiagnosisDate'] - diagnosis['AdvancedDiagnosisDate']).dt.days"
   ]
  },
  {
   "cell_type": "code",
   "execution_count": 59,
   "id": "b64a6ea0",
   "metadata": {},
   "outputs": [],
   "source": [
    "# Remove decimal to make mapping to Elixhauser easier. \n",
    "diagnosis.loc[:, 'diagnosis_code'] = diagnosis['DiagnosisCode'].replace('\\.', '', regex = True)"
   ]
  },
  {
   "cell_type": "code",
   "execution_count": 60,
   "id": "5b21e5e5",
   "metadata": {},
   "outputs": [],
   "source": [
    "# For each patient, select unique set of ICD-9 codes less than 30 days from time of advanced diagnosis.  \n",
    "diagnosis_9 = (\n",
    "    diagnosis\n",
    "    .query('diagnosis_date_diff <= 30')\n",
    "    .query('DiagnosisCodeSystem == \"ICD-9-CM\"')\n",
    "    .drop_duplicates(subset = (['PatientID', 'DiagnosisCode']), keep = 'first')\n",
    "    .filter(items = ['PatientID', 'DiagnosisCode', 'diagnosis_code'])\n",
    ")"
   ]
  },
  {
   "cell_type": "code",
   "execution_count": 61,
   "id": "1abe596b",
   "metadata": {},
   "outputs": [],
   "source": [
    "diagnosis_9.loc[:, 'tb'] = (\n",
    "    np.where(diagnosis_9['diagnosis_code'].str.match('01[012345678]'), 1, 0)\n",
    ")"
   ]
  },
  {
   "cell_type": "code",
   "execution_count": 62,
   "id": "8503db72",
   "metadata": {},
   "outputs": [],
   "source": [
    "diagnosis_9.loc[:, 'pleural_effusion'] = (\n",
    "    np.where(diagnosis_9['diagnosis_code'].str.match('511(1|8|9)'), 1, 0)\n",
    ")"
   ]
  },
  {
   "cell_type": "code",
   "execution_count": 63,
   "id": "c4d28bfe",
   "metadata": {},
   "outputs": [],
   "source": [
    "diagnosis_9.loc[:, 'pneumonia'] = (\n",
    "    np.where(diagnosis_9['diagnosis_code'].str.match('48[0123456]|'\n",
    "                                                     '4870|'\n",
    "                                                     '488(01|11|81)'), 1, 0)\n",
    ")"
   ]
  },
  {
   "cell_type": "code",
   "execution_count": 64,
   "id": "3e56acb3",
   "metadata": {},
   "outputs": [],
   "source": [
    "diagnosis_9.loc[:, 'asthma'] = (\n",
    "    np.where(diagnosis_9['diagnosis_code'].str.match('493'), 1, 0)\n",
    ")"
   ]
  },
  {
   "cell_type": "code",
   "execution_count": 65,
   "id": "6b97dff6",
   "metadata": {},
   "outputs": [],
   "source": [
    "diagnosis_9.loc[:, 'pulmonary_embolism'] = (\n",
    "    np.where(diagnosis_9['diagnosis_code'].str.match('4151|4162'), 1, 0)\n",
    ")"
   ]
  },
  {
   "cell_type": "code",
   "execution_count": 66,
   "id": "58dda465",
   "metadata": {},
   "outputs": [],
   "source": [
    "diagnosis_9.loc[:, 'hypoxemia'] = (\n",
    "    np.where(diagnosis_9['diagnosis_code'].str.match('79902'), 1, 0)\n",
    ")"
   ]
  },
  {
   "cell_type": "code",
   "execution_count": 67,
   "id": "25db17eb",
   "metadata": {},
   "outputs": [],
   "source": [
    "diagnosis_9.loc[:, 'copd'] = (\n",
    "    np.where(diagnosis_9['diagnosis_code'].str.match('49[126]'), 1, 0)\n",
    ")"
   ]
  },
  {
   "cell_type": "code",
   "execution_count": 68,
   "id": "e7f2d5b0",
   "metadata": {},
   "outputs": [],
   "source": [
    "# Single-row-per-patient dataframe with columns as Elixhauser comorbidities. \n",
    "diagnosis_9_wide = (\n",
    "    diagnosis_9\n",
    "    .drop(columns = ['DiagnosisCode', 'diagnosis_code'])\n",
    "    .groupby('PatientID').sum()\n",
    "    .reset_index()\n",
    ")"
   ]
  },
  {
   "cell_type": "code",
   "execution_count": 69,
   "id": "47bd4ded",
   "metadata": {},
   "outputs": [
    {
     "name": "stdout",
     "output_type": "stream",
     "text": [
      "6457 True\n"
     ]
    }
   ],
   "source": [
    "print(len(diagnosis_9_wide), diagnosis_9_wide.PatientID.is_unique)"
   ]
  },
  {
   "cell_type": "code",
   "execution_count": 70,
   "id": "f1ebdeae",
   "metadata": {},
   "outputs": [],
   "source": [
    "# For each patient, select unique set of ICD-10 codes less than 30 days from time of advanced diagnosis.   \n",
    "diagnosis_10 = (\n",
    "    diagnosis\n",
    "    .query('diagnosis_date_diff <= 30')\n",
    "    .query('DiagnosisCodeSystem == \"ICD-10-CM\"')\n",
    "    .drop_duplicates(subset = (['PatientID', 'DiagnosisCode']), keep = 'first')\n",
    "    .filter(items = ['PatientID', 'DiagnosisCode', 'diagnosis_code'])\n",
    ")"
   ]
  },
  {
   "cell_type": "code",
   "execution_count": 71,
   "id": "18e4f9c6",
   "metadata": {},
   "outputs": [],
   "source": [
    "diagnosis_10.loc[:, 'tb'] = (\n",
    "    np.where(diagnosis_10['diagnosis_code'].str.match('A1[56789]'), 1, 0)\n",
    ")"
   ]
  },
  {
   "cell_type": "code",
   "execution_count": 72,
   "id": "43add99b",
   "metadata": {},
   "outputs": [],
   "source": [
    "diagnosis_10.loc[:, 'pleural_effusion'] = (\n",
    "    np.where(diagnosis_10['diagnosis_code'].str.match('J9[01]'), 1, 0)\n",
    ")"
   ]
  },
  {
   "cell_type": "code",
   "execution_count": 73,
   "id": "4b961f12",
   "metadata": {},
   "outputs": [],
   "source": [
    "diagnosis_10.loc[:, 'pneumonia'] = (\n",
    "    np.where(diagnosis_10['diagnosis_code'].str.match('J1([01]0|[2345678])|'\n",
    "                                                      'J09X1'), 1, 0)\n",
    ")"
   ]
  },
  {
   "cell_type": "code",
   "execution_count": 74,
   "id": "2dccc9dd",
   "metadata": {},
   "outputs": [],
   "source": [
    "diagnosis_10.loc[:, 'asthma'] = (\n",
    "    np.where(diagnosis_10['diagnosis_code'].str.match('J45'), 1, 0)\n",
    ")"
   ]
  },
  {
   "cell_type": "code",
   "execution_count": 75,
   "id": "752f9ea9",
   "metadata": {},
   "outputs": [],
   "source": [
    "diagnosis_10.loc[:, 'pulmonary_embolism'] = (\n",
    "    np.where(diagnosis_10['diagnosis_code'].str.match('I26'), 1, 0)\n",
    ")"
   ]
  },
  {
   "cell_type": "code",
   "execution_count": 76,
   "id": "5baec240",
   "metadata": {},
   "outputs": [],
   "source": [
    "diagnosis_10.loc[:, 'hypoxemia'] = (\n",
    "    np.where(diagnosis_10['diagnosis_code'].str.match('R0902'), 1, 0)\n",
    ")"
   ]
  },
  {
   "cell_type": "code",
   "execution_count": 77,
   "id": "407655ff",
   "metadata": {},
   "outputs": [],
   "source": [
    "diagnosis_10.loc[:, 'copd'] = (\n",
    "    np.where(diagnosis_10['diagnosis_code'].str.match('J4[01234]'), 1, 0)\n",
    ")"
   ]
  },
  {
   "cell_type": "code",
   "execution_count": 78,
   "id": "5ceb99c2",
   "metadata": {},
   "outputs": [],
   "source": [
    "# Single-row-per-patient dataframe with columns as Elixhauser comorbidities.\n",
    "diagnosis_10_wide = (\n",
    "    diagnosis_10\n",
    "    .drop(columns = ['DiagnosisCode', 'diagnosis_code'])\n",
    "    .groupby('PatientID').sum()\n",
    "    .reset_index()\n",
    ")"
   ]
  },
  {
   "cell_type": "code",
   "execution_count": 79,
   "id": "54fcea8d",
   "metadata": {},
   "outputs": [
    {
     "name": "stdout",
     "output_type": "stream",
     "text": [
      "7614 True\n"
     ]
    }
   ],
   "source": [
    "print(len(diagnosis_10_wide), diagnosis_10_wide.PatientID.is_unique)"
   ]
  },
  {
   "cell_type": "code",
   "execution_count": 80,
   "id": "94388d0a",
   "metadata": {},
   "outputs": [],
   "source": [
    "# Merge Elixhauser 9 and 10 and sum by PatientID.\n",
    "diagnosis_wide = (\n",
    "    pd.concat([diagnosis_9_wide, diagnosis_10_wide])\n",
    "    .groupby('PatientID').sum()\n",
    ")"
   ]
  },
  {
   "cell_type": "code",
   "execution_count": 81,
   "id": "b360c5a0",
   "metadata": {},
   "outputs": [],
   "source": [
    "# Create resp_comorb variable where 1 if any of the above ICD 9 or 10 codes are captured; otherwise set to 0. \n",
    "diagnosis_wide['resp_comorb'] = np.where((diagnosis_wide == 0).all(axis = 1), 0, 1)"
   ]
  },
  {
   "cell_type": "code",
   "execution_count": 82,
   "id": "505c3cc4",
   "metadata": {},
   "outputs": [],
   "source": [
    "diagnosis_wide = (\n",
    "    diagnosis_wide\n",
    "    .reset_index()\n",
    "    .filter(items = ['PatientID', 'resp_comorb'])\n",
    ")"
   ]
  },
  {
   "cell_type": "code",
   "execution_count": 83,
   "id": "caf950fc",
   "metadata": {},
   "outputs": [],
   "source": [
    "# Merge respiratory comorbidity column with train_lcpi dataframe\n",
    "test_cox = pd.merge(test_cox, diagnosis_wide, on = 'PatientID', how = 'outer')"
   ]
  },
  {
   "cell_type": "code",
   "execution_count": 84,
   "id": "e69f775d",
   "metadata": {},
   "outputs": [],
   "source": [
    "test_cox[['resp_comorb']] = test_cox[['resp_comorb']].fillna(value = 0)"
   ]
  },
  {
   "cell_type": "markdown",
   "id": "18c43d0d",
   "metadata": {},
   "source": [
    "#### Mutation status"
   ]
  },
  {
   "cell_type": "code",
   "execution_count": 85,
   "id": "684afaf8",
   "metadata": {},
   "outputs": [],
   "source": [
    "test_cox['no_actionable_mutation'] = (\n",
    "    np.where(\n",
    "        ((test_cox['EGFR'] == 'negative') | (test_cox['EGFR'] == 'unknown')) &\n",
    "        ((test_cox['ALK'] == 'negative') | (test_cox['ALK'] == 'unknown')), 1, 0)\n",
    ")"
   ]
  },
  {
   "cell_type": "markdown",
   "id": "069c77f9",
   "metadata": {},
   "source": [
    "#### Weight loss"
   ]
  },
  {
   "cell_type": "code",
   "execution_count": 86,
   "id": "b794cd34",
   "metadata": {},
   "outputs": [],
   "source": [
    "test_cox['weight_pct_change_10'] = (\n",
    "    np.where(test_cox['weight_pct_change'] < -0.1, 1, 0)\n",
    ")"
   ]
  },
  {
   "cell_type": "markdown",
   "id": "5fc79aa7",
   "metadata": {},
   "source": [
    "#### Age"
   ]
  },
  {
   "cell_type": "code",
   "execution_count": 87,
   "id": "fc293d24",
   "metadata": {},
   "outputs": [],
   "source": [
    "test_cox['age_cat'] = pd.cut(test_cox['age'],\n",
    "                             bins = [17, 50, 70, 83, 84],\n",
    "                             labels = ['<=50', '51-70', '71-83', '84'])"
   ]
  },
  {
   "cell_type": "markdown",
   "id": "1fb658fe",
   "metadata": {},
   "source": [
    "#### Histology"
   ]
  },
  {
   "cell_type": "code",
   "execution_count": 88,
   "id": "f2ccdac7",
   "metadata": {},
   "outputs": [],
   "source": [
    "test_cox['histology_nos'] = (\n",
    "    np.where(test_cox['Histology'] == 'NSCLC histology NOS', 1, 0)\n",
    ")"
   ]
  },
  {
   "cell_type": "markdown",
   "id": "a88c5ba1",
   "metadata": {},
   "source": [
    "#### ECOG "
   ]
  },
  {
   "cell_type": "code",
   "execution_count": 89,
   "id": "36201e56",
   "metadata": {},
   "outputs": [],
   "source": [
    "test_cox['ecog_2'] = (\n",
    "    np.where(((test_cox['ecog_diagnosis'] == '2.0') | \n",
    "              (test_cox['ecog_diagnosis'] == '3.0') | \n",
    "              (test_cox['ecog_diagnosis'] == '4.0')), 1, 0)\n",
    ")"
   ]
  },
  {
   "cell_type": "markdown",
   "id": "58ddfafb",
   "metadata": {},
   "source": [
    "#### Smoking status "
   ]
  },
  {
   "cell_type": "code",
   "execution_count": 90,
   "id": "8b86115a",
   "metadata": {},
   "outputs": [],
   "source": [
    "test_cox['ever_smoker'] = (\n",
    "    np.where(test_cox['SmokingStatus'] == 'History of smoking', 1, 0)\n",
    ")"
   ]
  },
  {
   "cell_type": "markdown",
   "id": "88e908ed",
   "metadata": {},
   "source": [
    "#### Sex"
   ]
  },
  {
   "cell_type": "code",
   "execution_count": 91,
   "id": "5729c336",
   "metadata": {},
   "outputs": [],
   "source": [
    "test_cox['sex_m'] = (\n",
    "    np.where(test_cox['gender'] == 'M', 1, 0)\n",
    ")"
   ]
  },
  {
   "cell_type": "markdown",
   "id": "a2c0f185",
   "metadata": {},
   "source": [
    "## 2. Crude imputation \n",
    "\n",
    "**The first LCPI model build will handle missing ECOG and weight loss within 3 months of diagnosis in the same manner as in the notebook: *Machine learning models with crude imputation*. This will allow for direct comparison of performance between the LCPI model and machine learning survival models. Of note, ECOG and weight loss are dichotomized in the LCPI model, so labeling missing ECOG as \"unknown\" and imputing median for weight loss has no impact. In other words, patients with missing ECOG and/or weight loss will still have 0 after imputation for the indicator variables ECOG >=2 and weight loss >= 10%.**"
   ]
  },
  {
   "cell_type": "code",
   "execution_count": 92,
   "id": "980628f4",
   "metadata": {},
   "outputs": [],
   "source": [
    "from sksurv.linear_model import CoxPHSurvivalAnalysis\n",
    "\n",
    "from sksurv.metrics import cumulative_dynamic_auc"
   ]
  },
  {
   "cell_type": "code",
   "execution_count": 93,
   "id": "e42d1cfd",
   "metadata": {},
   "outputs": [],
   "source": [
    "# Create function that creates dummy variables for categorical variable and drops original categorical variable. \n",
    "def encode_and_bind(original_dataframe, feature_to_encode):\n",
    "    dummies = pd.get_dummies(original_dataframe[[feature_to_encode]])\n",
    "    res = pd.concat([original_dataframe, dummies], axis = 1)\n",
    "    res = res.drop([feature_to_encode], axis = 1)\n",
    "    return(res) "
   ]
  },
  {
   "cell_type": "markdown",
   "id": "07dbc6ad",
   "metadata": {},
   "source": [
    "### Processing X "
   ]
  },
  {
   "cell_type": "markdown",
   "id": "f83387fd",
   "metadata": {},
   "source": [
    "#### Select relevant variables "
   ]
  },
  {
   "cell_type": "code",
   "execution_count": 94,
   "id": "ca682911",
   "metadata": {},
   "outputs": [],
   "source": [
    "train_cox_x = (\n",
    "    train_cox\n",
    "    .filter(items = [\n",
    "        'PatientID',\n",
    "        'resp_comorb',\n",
    "        'no_actionable_mutation',\n",
    "        'weight_pct_change_10',\n",
    "        'age_cat',\n",
    "        'histology_nos',\n",
    "        'ecog_2',\n",
    "        'ever_smoker',\n",
    "        'sex_m',\n",
    "        'stage']))"
   ]
  },
  {
   "cell_type": "code",
   "execution_count": 95,
   "id": "bd62adda",
   "metadata": {},
   "outputs": [],
   "source": [
    "train_cox_x = train_cox_x.set_index('PatientID')"
   ]
  },
  {
   "cell_type": "code",
   "execution_count": 96,
   "id": "aeb41bef",
   "metadata": {},
   "outputs": [
    {
     "data": {
      "text/plain": [
       "(54786, 9)"
      ]
     },
     "execution_count": 96,
     "metadata": {},
     "output_type": "execute_result"
    }
   ],
   "source": [
    "train_cox_x.shape"
   ]
  },
  {
   "cell_type": "code",
   "execution_count": 97,
   "id": "ee3a5734",
   "metadata": {},
   "outputs": [],
   "source": [
    "test_cox_x = (\n",
    "    test_cox\n",
    "    .filter(items = [\n",
    "        'PatientID',\n",
    "        'resp_comorb',\n",
    "        'no_actionable_mutation',\n",
    "        'weight_pct_change_10',\n",
    "        'age_cat',\n",
    "        'histology_nos',\n",
    "        'ecog_2',\n",
    "        'ever_smoker',\n",
    "        'sex_m',\n",
    "        'stage']))"
   ]
  },
  {
   "cell_type": "code",
   "execution_count": 98,
   "id": "16dca8b1",
   "metadata": {},
   "outputs": [],
   "source": [
    "test_cox_x = test_cox_x.set_index('PatientID')"
   ]
  },
  {
   "cell_type": "code",
   "execution_count": 99,
   "id": "2030f36a",
   "metadata": {},
   "outputs": [
    {
     "data": {
      "text/plain": [
       "(13697, 9)"
      ]
     },
     "execution_count": 99,
     "metadata": {},
     "output_type": "execute_result"
    }
   ],
   "source": [
    "test_cox_x.shape"
   ]
  },
  {
   "cell_type": "markdown",
   "id": "72dc51c0",
   "metadata": {},
   "source": [
    "#### Convert relevant varibles to categorical "
   ]
  },
  {
   "cell_type": "code",
   "execution_count": 100,
   "id": "f9f0bfa7",
   "metadata": {},
   "outputs": [
    {
     "data": {
      "text/plain": [
       "['stage']"
      ]
     },
     "execution_count": 100,
     "metadata": {},
     "output_type": "execute_result"
    }
   ],
   "source": [
    "list(train_cox_x.select_dtypes(include = ['object']).columns)"
   ]
  },
  {
   "cell_type": "code",
   "execution_count": 101,
   "id": "a25be29e",
   "metadata": {},
   "outputs": [],
   "source": [
    "to_be_categorical = list(train_cox_x.select_dtypes(include = ['object']).columns)"
   ]
  },
  {
   "cell_type": "code",
   "execution_count": 102,
   "id": "8033d807",
   "metadata": {},
   "outputs": [],
   "source": [
    "to_be_categorical.append('resp_comorb')\n",
    "to_be_categorical.append('no_actionable_mutation')\n",
    "to_be_categorical.append('weight_pct_change_10')\n",
    "to_be_categorical.append('age_cat')\n",
    "to_be_categorical.append('histology_nos')\n",
    "to_be_categorical.append('ecog_2')\n",
    "to_be_categorical.append('ever_smoker')\n",
    "to_be_categorical.append('sex_m')"
   ]
  },
  {
   "cell_type": "code",
   "execution_count": 103,
   "id": "253217a5",
   "metadata": {},
   "outputs": [],
   "source": [
    "for x in list(to_be_categorical):\n",
    "    train_cox_x[x] = train_cox_x[x].astype('category')"
   ]
  },
  {
   "cell_type": "code",
   "execution_count": 104,
   "id": "d17faa3e",
   "metadata": {},
   "outputs": [
    {
     "data": {
      "text/plain": [
       "resp_comorb               category\n",
       "no_actionable_mutation    category\n",
       "weight_pct_change_10      category\n",
       "age_cat                   category\n",
       "histology_nos             category\n",
       "ecog_2                    category\n",
       "ever_smoker               category\n",
       "sex_m                     category\n",
       "stage                     category\n",
       "dtype: object"
      ]
     },
     "execution_count": 104,
     "metadata": {},
     "output_type": "execute_result"
    }
   ],
   "source": [
    "train_cox_x.dtypes"
   ]
  },
  {
   "cell_type": "code",
   "execution_count": 105,
   "id": "0d1feb77",
   "metadata": {},
   "outputs": [],
   "source": [
    "for x in list(to_be_categorical):\n",
    "    test_cox_x[x] = test_cox_x[x].astype('category')"
   ]
  },
  {
   "cell_type": "markdown",
   "id": "148fbbb3",
   "metadata": {},
   "source": [
    "#### Dummy encode categorical variables "
   ]
  },
  {
   "cell_type": "code",
   "execution_count": 106,
   "id": "872d7c79",
   "metadata": {},
   "outputs": [],
   "source": [
    "# Dummy variables for age_cat\n",
    "train_cox_x = encode_and_bind(train_cox_x, 'age_cat')\n",
    "train_cox_x = train_cox_x.drop(columns = ['age_cat_84'])\n",
    "\n",
    "test_cox_x = encode_and_bind(test_cox_x, 'age_cat')\n",
    "test_cox_x = test_cox_x.drop(columns = ['age_cat_84'])\n",
    "\n",
    "# Dummy variables for stage \n",
    "train_cox_x = encode_and_bind(train_cox_x, 'stage')\n",
    "train_cox_x = train_cox_x.drop(columns = ['stage_IIIC'])\n",
    "\n",
    "test_cox_x = encode_and_bind(test_cox_x, 'stage')\n",
    "test_cox_x = test_cox_x.drop(columns = ['stage_IIIC'])"
   ]
  },
  {
   "cell_type": "code",
   "execution_count": 107,
   "id": "a35959a4",
   "metadata": {},
   "outputs": [
    {
     "name": "stdout",
     "output_type": "stream",
     "text": [
      "(54786, 17)\n",
      "(13697, 17)\n"
     ]
    }
   ],
   "source": [
    "print(train_cox_x.shape)\n",
    "print(test_cox_x.shape)"
   ]
  },
  {
   "cell_type": "markdown",
   "id": "e75e67a7",
   "metadata": {},
   "source": [
    "### Processing Y"
   ]
  },
  {
   "cell_type": "code",
   "execution_count": 108,
   "id": "69e7e8f6",
   "metadata": {},
   "outputs": [],
   "source": [
    "# Convert death_status into True or False (required for scikit-survival). \n",
    "train_cox['death_status'] = train_cox['death_status'].astype('bool')"
   ]
  },
  {
   "cell_type": "code",
   "execution_count": 109,
   "id": "0b8918c2",
   "metadata": {},
   "outputs": [],
   "source": [
    "y_dtypes = train_cox[['death_status', 'timerisk_activity']].dtypes\n",
    "\n",
    "train_cox_y = np.array([tuple(x) for x in train_cox[['death_status', 'timerisk_activity']].values],\n",
    "                       dtype = list(zip(y_dtypes.index, y_dtypes)))"
   ]
  },
  {
   "cell_type": "code",
   "execution_count": 110,
   "id": "b0defa1f",
   "metadata": {},
   "outputs": [
    {
     "data": {
      "text/plain": [
       "(54786,)"
      ]
     },
     "execution_count": 110,
     "metadata": {},
     "output_type": "execute_result"
    }
   ],
   "source": [
    "train_cox_y.shape"
   ]
  },
  {
   "cell_type": "code",
   "execution_count": 111,
   "id": "19a8e5eb",
   "metadata": {},
   "outputs": [],
   "source": [
    "# Convert death_status into True or False (required for scikit-survival). \n",
    "test_cox['death_status'] = test_cox['death_status'].astype('bool')"
   ]
  },
  {
   "cell_type": "code",
   "execution_count": 112,
   "id": "43a421ac",
   "metadata": {},
   "outputs": [],
   "source": [
    "test_cox_y = np.array([tuple(x) for x in test_cox[['death_status', 'timerisk_activity']].values],\n",
    "                      dtype = list(zip(y_dtypes.index, y_dtypes)))"
   ]
  },
  {
   "cell_type": "code",
   "execution_count": 113,
   "id": "69b0d48d",
   "metadata": {},
   "outputs": [
    {
     "data": {
      "text/plain": [
       "(13697,)"
      ]
     },
     "execution_count": 113,
     "metadata": {},
     "output_type": "execute_result"
    }
   ],
   "source": [
    "test_cox_y.shape"
   ]
  },
  {
   "cell_type": "markdown",
   "id": "d47c93c8",
   "metadata": {},
   "source": [
    "### Build and assess model performance "
   ]
  },
  {
   "cell_type": "code",
   "execution_count": 114,
   "id": "37996668",
   "metadata": {},
   "outputs": [
    {
     "data": {
      "text/plain": [
       "CoxPHSurvivalAnalysis()"
      ]
     },
     "execution_count": 114,
     "metadata": {},
     "output_type": "execute_result"
    }
   ],
   "source": [
    "cox_crude = CoxPHSurvivalAnalysis()\n",
    "\n",
    "cox_crude.fit(train_cox_x, train_cox_y)"
   ]
  },
  {
   "cell_type": "code",
   "execution_count": 115,
   "id": "1fe73ac5",
   "metadata": {},
   "outputs": [
    {
     "name": "stdout",
     "output_type": "stream",
     "text": [
      "Test set AUC at 1 year: 0.6916324597100776\n"
     ]
    }
   ],
   "source": [
    "cox_crude_risk_scores_te = cox_crude.predict(test_cox_x)\n",
    "cox_crude_auc_te = cumulative_dynamic_auc(train_cox_y, test_cox_y, cox_crude_risk_scores_te, 365)[0][0]\n",
    "print('Test set AUC at 1 year:', cox_crude_auc_te)"
   ]
  },
  {
   "cell_type": "code",
   "execution_count": 116,
   "id": "d0139aa7",
   "metadata": {},
   "outputs": [
    {
     "name": "stdout",
     "output_type": "stream",
     "text": [
      "Training set AUC at 1 year: 0.686483634288571\n"
     ]
    }
   ],
   "source": [
    "cox_crude_risk_scores_tr = cox_crude.predict(train_cox_x)\n",
    "cox_crude_auc_tr = cumulative_dynamic_auc(train_cox_y, train_cox_y, cox_crude_risk_scores_tr, 365)[0][0]\n",
    "print('Training set AUC at 1 year:', cox_crude_auc_tr)"
   ]
  },
  {
   "cell_type": "code",
   "execution_count": 117,
   "id": "a8888e90",
   "metadata": {},
   "outputs": [],
   "source": [
    "# Bootstrap 10000 1 yr AUCs for test set \n",
    "n_bootstraps = 10000\n",
    "rng_seed = 42 \n",
    "bootstrapped_scores_te = []\n",
    "\n",
    "rng = np.random.RandomState(rng_seed)\n",
    "for i in range(n_bootstraps):\n",
    "    indices = rng.randint(0, len(cox_crude_risk_scores_te), len(cox_crude_risk_scores_te))\n",
    "    auc_yr = cumulative_dynamic_auc(train_cox_y, test_cox_y[indices], cox_crude_risk_scores_te[indices], 365)[0][0]\n",
    "    bootstrapped_scores_te.append(auc_yr)"
   ]
  },
  {
   "cell_type": "code",
   "execution_count": 118,
   "id": "97f66e3f",
   "metadata": {},
   "outputs": [
    {
     "name": "stdout",
     "output_type": "stream",
     "text": [
      "Test set AUC standard error: 0.004845991021631883\n"
     ]
    }
   ],
   "source": [
    "# Standard error of mean for test set AUC\n",
    "sorted_scores_te = np.array(bootstrapped_scores_te)\n",
    "sorted_scores_te.sort()\n",
    "\n",
    "conf_lower_te = sorted_scores_te[int(0.025 * len(sorted_scores_te))]\n",
    "conf_upper_te = sorted_scores_te[int(0.975 * len(sorted_scores_te))]\n",
    "\n",
    "standard_error_te = (conf_upper_te - conf_lower_te) / 3.92\n",
    "print('Test set AUC standard error:', standard_error_te)"
   ]
  },
  {
   "cell_type": "code",
   "execution_count": 119,
   "id": "1c091b2f",
   "metadata": {},
   "outputs": [],
   "source": [
    "# Bootstrap 10000 1-yr AUCs for train set \n",
    "n_bootstraps = 10000\n",
    "rng_seed = 42 \n",
    "bootstrapped_scores_tr = []\n",
    "\n",
    "rng = np.random.RandomState(rng_seed)\n",
    "for i in range(n_bootstraps):\n",
    "    indices = rng.randint(0, len(cox_crude_risk_scores_tr), len(cox_crude_risk_scores_tr))\n",
    "    auc_yr = cumulative_dynamic_auc(train_cox_y, train_cox_y[indices], cox_crude_risk_scores_tr[indices], 365)[0][0]\n",
    "    bootstrapped_scores_tr.append(auc_yr)"
   ]
  },
  {
   "cell_type": "code",
   "execution_count": 120,
   "id": "b8750f42",
   "metadata": {},
   "outputs": [
    {
     "name": "stdout",
     "output_type": "stream",
     "text": [
      "Training set AUC standard error 0.0024029075890726484\n"
     ]
    }
   ],
   "source": [
    "# Standard error of mean for train set AUC\n",
    "sorted_scores_tr = np.array(bootstrapped_scores_tr)\n",
    "sorted_scores_tr.sort()\n",
    "\n",
    "conf_lower_tr = sorted_scores_tr[int(0.025 * len(sorted_scores_tr))]\n",
    "conf_upper_tr = sorted_scores_tr[int(0.975 * len(sorted_scores_tr))]\n",
    "\n",
    "standard_error_tr = (conf_upper_tr - conf_lower_tr) / 3.92\n",
    "print('Training set AUC standard error', standard_error_tr)"
   ]
  },
  {
   "cell_type": "code",
   "execution_count": 121,
   "id": "4c1d3774",
   "metadata": {},
   "outputs": [],
   "source": [
    "cox_auc_data = {'model': ['cox_crude'],\n",
    "                'auc_1yr_te': [cox_crude_auc_te],\n",
    "                'sem_te': [standard_error_te],\n",
    "                'auc_1yr_tr': [cox_crude_auc_tr],\n",
    "                'sem_tr': [standard_error_tr]}\n",
    "\n",
    "cox_auc_df = pd.DataFrame(cox_auc_data)"
   ]
  },
  {
   "cell_type": "code",
   "execution_count": 122,
   "id": "49c2e5f3",
   "metadata": {},
   "outputs": [
    {
     "data": {
      "text/html": [
       "<div>\n",
       "<style scoped>\n",
       "    .dataframe tbody tr th:only-of-type {\n",
       "        vertical-align: middle;\n",
       "    }\n",
       "\n",
       "    .dataframe tbody tr th {\n",
       "        vertical-align: top;\n",
       "    }\n",
       "\n",
       "    .dataframe thead th {\n",
       "        text-align: right;\n",
       "    }\n",
       "</style>\n",
       "<table border=\"1\" class=\"dataframe\">\n",
       "  <thead>\n",
       "    <tr style=\"text-align: right;\">\n",
       "      <th></th>\n",
       "      <th>model</th>\n",
       "      <th>auc_1yr_te</th>\n",
       "      <th>sem_te</th>\n",
       "      <th>auc_1yr_tr</th>\n",
       "      <th>sem_tr</th>\n",
       "    </tr>\n",
       "  </thead>\n",
       "  <tbody>\n",
       "    <tr>\n",
       "      <th>0</th>\n",
       "      <td>cox_crude</td>\n",
       "      <td>0.691632</td>\n",
       "      <td>0.004846</td>\n",
       "      <td>0.686484</td>\n",
       "      <td>0.002403</td>\n",
       "    </tr>\n",
       "  </tbody>\n",
       "</table>\n",
       "</div>"
      ],
      "text/plain": [
       "       model  auc_1yr_te    sem_te  auc_1yr_tr    sem_tr\n",
       "0  cox_crude    0.691632  0.004846    0.686484  0.002403"
      ]
     },
     "execution_count": 122,
     "metadata": {},
     "output_type": "execute_result"
    }
   ],
   "source": [
    "cox_auc_df"
   ]
  },
  {
   "cell_type": "code",
   "execution_count": 123,
   "id": "0696b9ac",
   "metadata": {},
   "outputs": [],
   "source": [
    "cox_auc_df.to_csv('cox_auc_df.csv', index = False, header = True)"
   ]
  },
  {
   "cell_type": "code",
   "execution_count": 124,
   "id": "56021755",
   "metadata": {},
   "outputs": [],
   "source": [
    "times = np.arange(30, 1810, 30)\n",
    "crude_cox_auc_over5 = cumulative_dynamic_auc(train_cox_y, test_cox_y, cox_crude_risk_scores_te, times)[0]\n",
    "\n",
    "times_data = {}\n",
    "values = crude_cox_auc_over5\n",
    "time_names = []\n",
    "\n",
    "for x in range(len(times)):\n",
    "    time_names.append('time_'+str(times[x]))\n",
    "\n",
    "for i in range(len(time_names)):\n",
    "    times_data[time_names[i]] = values[i]\n",
    "    \n",
    "cox_auc_over5 = pd.DataFrame(times_data, index = ['cox_crude'])"
   ]
  },
  {
   "cell_type": "code",
   "execution_count": 125,
   "id": "3ef41cf3",
   "metadata": {},
   "outputs": [
    {
     "data": {
      "text/html": [
       "<div>\n",
       "<style scoped>\n",
       "    .dataframe tbody tr th:only-of-type {\n",
       "        vertical-align: middle;\n",
       "    }\n",
       "\n",
       "    .dataframe tbody tr th {\n",
       "        vertical-align: top;\n",
       "    }\n",
       "\n",
       "    .dataframe thead th {\n",
       "        text-align: right;\n",
       "    }\n",
       "</style>\n",
       "<table border=\"1\" class=\"dataframe\">\n",
       "  <thead>\n",
       "    <tr style=\"text-align: right;\">\n",
       "      <th></th>\n",
       "      <th>time_30</th>\n",
       "      <th>time_60</th>\n",
       "      <th>time_90</th>\n",
       "      <th>time_120</th>\n",
       "      <th>time_150</th>\n",
       "      <th>time_180</th>\n",
       "      <th>time_210</th>\n",
       "      <th>time_240</th>\n",
       "      <th>time_270</th>\n",
       "      <th>time_300</th>\n",
       "      <th>...</th>\n",
       "      <th>time_1530</th>\n",
       "      <th>time_1560</th>\n",
       "      <th>time_1590</th>\n",
       "      <th>time_1620</th>\n",
       "      <th>time_1650</th>\n",
       "      <th>time_1680</th>\n",
       "      <th>time_1710</th>\n",
       "      <th>time_1740</th>\n",
       "      <th>time_1770</th>\n",
       "      <th>time_1800</th>\n",
       "    </tr>\n",
       "  </thead>\n",
       "  <tbody>\n",
       "    <tr>\n",
       "      <th>cox_crude</th>\n",
       "      <td>0.656082</td>\n",
       "      <td>0.666745</td>\n",
       "      <td>0.675022</td>\n",
       "      <td>0.681865</td>\n",
       "      <td>0.687597</td>\n",
       "      <td>0.687069</td>\n",
       "      <td>0.689806</td>\n",
       "      <td>0.691668</td>\n",
       "      <td>0.689089</td>\n",
       "      <td>0.690166</td>\n",
       "      <td>...</td>\n",
       "      <td>0.695248</td>\n",
       "      <td>0.695567</td>\n",
       "      <td>0.699464</td>\n",
       "      <td>0.697404</td>\n",
       "      <td>0.70273</td>\n",
       "      <td>0.703662</td>\n",
       "      <td>0.70384</td>\n",
       "      <td>0.706001</td>\n",
       "      <td>0.701741</td>\n",
       "      <td>0.703521</td>\n",
       "    </tr>\n",
       "  </tbody>\n",
       "</table>\n",
       "<p>1 rows × 60 columns</p>\n",
       "</div>"
      ],
      "text/plain": [
       "            time_30   time_60   time_90  time_120  time_150  time_180  \\\n",
       "cox_crude  0.656082  0.666745  0.675022  0.681865  0.687597  0.687069   \n",
       "\n",
       "           time_210  time_240  time_270  time_300  ...  time_1530  time_1560  \\\n",
       "cox_crude  0.689806  0.691668  0.689089  0.690166  ...   0.695248   0.695567   \n",
       "\n",
       "           time_1590  time_1620  time_1650  time_1680  time_1710  time_1740  \\\n",
       "cox_crude   0.699464   0.697404    0.70273   0.703662    0.70384   0.706001   \n",
       "\n",
       "           time_1770  time_1800  \n",
       "cox_crude   0.701741   0.703521  \n",
       "\n",
       "[1 rows x 60 columns]"
      ]
     },
     "execution_count": 125,
     "metadata": {},
     "output_type": "execute_result"
    }
   ],
   "source": [
    "cox_auc_over5"
   ]
  },
  {
   "cell_type": "code",
   "execution_count": 126,
   "id": "e8f787a6",
   "metadata": {},
   "outputs": [],
   "source": [
    "cox_auc_over5.to_csv('cox_auc_over5.csv', index = True, header = True)"
   ]
  },
  {
   "cell_type": "markdown",
   "id": "60de453e",
   "metadata": {},
   "source": [
    "**Performance of the LCPI model in regards to test set 1 year AUC is clearly inferior to machine learning survival models.** "
   ]
  },
  {
   "cell_type": "markdown",
   "id": "e8cac3cb",
   "metadata": {},
   "source": [
    "## 3. Complete cases \n",
    "\n",
    "**This Cox build will look at complete cases only. Specifically excluding patients with unknown ECOG, weight, or stage.**"
   ]
  },
  {
   "cell_type": "markdown",
   "id": "788520dd",
   "metadata": {},
   "source": [
    "### Remove patients with missing values "
   ]
  },
  {
   "cell_type": "code",
   "execution_count": 127,
   "id": "c85fe579",
   "metadata": {},
   "outputs": [],
   "source": [
    "train_cox_cc = (\n",
    "    train_cox\n",
    "    .query('stage != \"unknown\"')\n",
    "    .query('ecog_diagnosis != \"unknown\"')\n",
    "    .query('weight_pct_change.notna()', engine = 'python')\n",
    ")"
   ]
  },
  {
   "cell_type": "code",
   "execution_count": 128,
   "id": "f9531da7",
   "metadata": {},
   "outputs": [],
   "source": [
    "test_cox_cc = (\n",
    "    test_cox\n",
    "    .query('stage != \"unknown\"')\n",
    "    .query('ecog_diagnosis != \"unknown\"')\n",
    "    .query('weight_pct_change.notna()', engine = 'python')\n",
    ")"
   ]
  },
  {
   "cell_type": "markdown",
   "id": "f7a44af3",
   "metadata": {},
   "source": [
    "### Processing X  "
   ]
  },
  {
   "cell_type": "markdown",
   "id": "3e33caeb",
   "metadata": {},
   "source": [
    "#### Select relevant variables "
   ]
  },
  {
   "cell_type": "code",
   "execution_count": 129,
   "id": "b802ae85",
   "metadata": {},
   "outputs": [],
   "source": [
    "train_cox_cc_x = (\n",
    "    train_cox_cc\n",
    "    .filter(items = [\n",
    "        'PatientID',\n",
    "        'resp_comorb',\n",
    "        'no_actionable_mutation',\n",
    "        'weight_pct_change_10',\n",
    "        'age_cat',\n",
    "        'histology_nos',\n",
    "        'ecog_2',\n",
    "        'ever_smoker',\n",
    "        'sex_m',\n",
    "        'stage']))"
   ]
  },
  {
   "cell_type": "code",
   "execution_count": 130,
   "id": "52280ee3",
   "metadata": {},
   "outputs": [],
   "source": [
    "train_cox_cc_x = train_cox_cc_x.set_index('PatientID')"
   ]
  },
  {
   "cell_type": "code",
   "execution_count": 131,
   "id": "07e7fab7",
   "metadata": {},
   "outputs": [
    {
     "data": {
      "text/plain": [
       "(22709, 9)"
      ]
     },
     "execution_count": 131,
     "metadata": {},
     "output_type": "execute_result"
    }
   ],
   "source": [
    "train_cox_cc_x.shape"
   ]
  },
  {
   "cell_type": "code",
   "execution_count": 132,
   "id": "3233205c",
   "metadata": {},
   "outputs": [],
   "source": [
    "test_cox_cc_x = (\n",
    "    test_cox_cc\n",
    "    .filter(items = [\n",
    "        'PatientID',\n",
    "        'resp_comorb',\n",
    "        'no_actionable_mutation',\n",
    "        'weight_pct_change_10',\n",
    "        'age_cat',\n",
    "        'histology_nos',\n",
    "        'ecog_2',\n",
    "        'ever_smoker',\n",
    "        'sex_m',\n",
    "        'stage']))"
   ]
  },
  {
   "cell_type": "code",
   "execution_count": 133,
   "id": "aea4b3df",
   "metadata": {},
   "outputs": [],
   "source": [
    "test_cox_cc_x = test_cox_cc_x.set_index('PatientID')"
   ]
  },
  {
   "cell_type": "code",
   "execution_count": 134,
   "id": "9a36ad61",
   "metadata": {},
   "outputs": [
    {
     "data": {
      "text/plain": [
       "(5759, 9)"
      ]
     },
     "execution_count": 134,
     "metadata": {},
     "output_type": "execute_result"
    }
   ],
   "source": [
    "test_cox_cc_x.shape"
   ]
  },
  {
   "cell_type": "markdown",
   "id": "651ca2b3",
   "metadata": {},
   "source": [
    "#### Dummy encode categorical variables "
   ]
  },
  {
   "cell_type": "code",
   "execution_count": 135,
   "id": "395cb513",
   "metadata": {},
   "outputs": [],
   "source": [
    "# Dummy variables for age_cat\n",
    "train_cox_cc_x = encode_and_bind(train_cox_cc_x, 'age_cat')\n",
    "train_cox_cc_x = train_cox_cc_x.drop(columns = ['age_cat_84'])\n",
    "\n",
    "test_cox_cc_x = encode_and_bind(test_cox_cc_x, 'age_cat')\n",
    "test_cox_cc_x = test_cox_cc_x.drop(columns = ['age_cat_84'])\n",
    "\n",
    "# Dummy variables for stage \n",
    "train_cox_cc_x = encode_and_bind(train_cox_cc_x, 'stage')\n",
    "train_cox_cc_x = train_cox_cc_x.drop(columns = ['stage_IIIC'])\n",
    "\n",
    "test_cox_cc_x = encode_and_bind(test_cox_cc_x, 'stage')\n",
    "test_cox_cc_x = test_cox_cc_x.drop(columns = ['stage_IIIC'])"
   ]
  },
  {
   "cell_type": "code",
   "execution_count": 136,
   "id": "0a55394a",
   "metadata": {},
   "outputs": [
    {
     "data": {
      "text/plain": [
       "(22709, 16)"
      ]
     },
     "execution_count": 136,
     "metadata": {},
     "output_type": "execute_result"
    }
   ],
   "source": [
    "train_cox_cc_x.shape"
   ]
  },
  {
   "cell_type": "code",
   "execution_count": 137,
   "id": "75a9f97e",
   "metadata": {},
   "outputs": [
    {
     "data": {
      "text/plain": [
       "(5759, 16)"
      ]
     },
     "execution_count": 137,
     "metadata": {},
     "output_type": "execute_result"
    }
   ],
   "source": [
    "test_cox_cc_x.shape"
   ]
  },
  {
   "cell_type": "markdown",
   "id": "e762d352",
   "metadata": {},
   "source": [
    "### Processing Y "
   ]
  },
  {
   "cell_type": "code",
   "execution_count": 138,
   "id": "0bf845eb",
   "metadata": {},
   "outputs": [],
   "source": [
    "train_cox_cc_y = np.array([tuple(x) for x in train_cox_cc[['death_status', 'timerisk_activity']].values],\n",
    "                          dtype = list(zip(y_dtypes.index, y_dtypes)))"
   ]
  },
  {
   "cell_type": "code",
   "execution_count": 139,
   "id": "f91ea7ff",
   "metadata": {},
   "outputs": [
    {
     "data": {
      "text/plain": [
       "(22709,)"
      ]
     },
     "execution_count": 139,
     "metadata": {},
     "output_type": "execute_result"
    }
   ],
   "source": [
    "train_cox_cc_y.shape"
   ]
  },
  {
   "cell_type": "code",
   "execution_count": 140,
   "id": "7f1b4c63",
   "metadata": {},
   "outputs": [],
   "source": [
    "test_cox_cc_y = np.array([tuple(x) for x in test_cox_cc[['death_status', 'timerisk_activity']].values],\n",
    "                         dtype = list(zip(y_dtypes.index, y_dtypes)))"
   ]
  },
  {
   "cell_type": "code",
   "execution_count": 141,
   "id": "51cd8db5",
   "metadata": {},
   "outputs": [
    {
     "data": {
      "text/plain": [
       "(5759,)"
      ]
     },
     "execution_count": 141,
     "metadata": {},
     "output_type": "execute_result"
    }
   ],
   "source": [
    "test_cox_cc_y.shape"
   ]
  },
  {
   "cell_type": "markdown",
   "id": "504f796b",
   "metadata": {},
   "source": [
    "### Build and assess model performance"
   ]
  },
  {
   "cell_type": "code",
   "execution_count": 142,
   "id": "6327111d",
   "metadata": {},
   "outputs": [
    {
     "data": {
      "text/plain": [
       "CoxPHSurvivalAnalysis()"
      ]
     },
     "execution_count": 142,
     "metadata": {},
     "output_type": "execute_result"
    }
   ],
   "source": [
    "cox_cc = CoxPHSurvivalAnalysis()\n",
    "\n",
    "cox_cc.fit(train_cox_cc_x, train_cox_cc_y)"
   ]
  },
  {
   "cell_type": "code",
   "execution_count": 143,
   "id": "c771bd47",
   "metadata": {},
   "outputs": [
    {
     "name": "stdout",
     "output_type": "stream",
     "text": [
      "Test set AUC at 1 year: 0.6983978372450695\n"
     ]
    }
   ],
   "source": [
    "cox_cc_risk_scores_te = cox_cc.predict(test_cox_cc_x)\n",
    "cox_cc_auc_te = cumulative_dynamic_auc(train_cox_cc_y, test_cox_cc_y, cox_cc_risk_scores_te, 365)[0][0]\n",
    "print('Test set AUC at 1 year:', cox_cc_auc_te)"
   ]
  },
  {
   "cell_type": "code",
   "execution_count": 144,
   "id": "320f0cd5",
   "metadata": {},
   "outputs": [
    {
     "name": "stdout",
     "output_type": "stream",
     "text": [
      "Training set AUC at 1 year: 0.6999507194609859\n"
     ]
    }
   ],
   "source": [
    "cox_cc_risk_scores_tr = cox_cc.predict(train_cox_cc_x)\n",
    "cox_cc_auc_tr = cumulative_dynamic_auc(train_cox_cc_y, train_cox_cc_y, cox_cc_risk_scores_tr, 365)[0][0]\n",
    "print('Training set AUC at 1 year:', cox_cc_auc_tr)"
   ]
  },
  {
   "cell_type": "code",
   "execution_count": 145,
   "id": "f5ee446f",
   "metadata": {},
   "outputs": [],
   "source": [
    "# Bootstrap 10000 1 yr AUCs for test set \n",
    "n_bootstraps = 10000\n",
    "rng_seed = 42 \n",
    "bootstrapped_scores_te = []\n",
    "\n",
    "rng = np.random.RandomState(rng_seed)\n",
    "for i in range(n_bootstraps):\n",
    "    indices = rng.randint(0, len(cox_cc_risk_scores_te), len(cox_cc_risk_scores_te))\n",
    "    auc_yr = cumulative_dynamic_auc(train_cox_cc_y, test_cox_cc_y[indices], cox_cc_risk_scores_te[indices], 365)[0][0]\n",
    "    bootstrapped_scores_te.append(auc_yr)"
   ]
  },
  {
   "cell_type": "code",
   "execution_count": 146,
   "id": "8da66461",
   "metadata": {},
   "outputs": [
    {
     "name": "stdout",
     "output_type": "stream",
     "text": [
      "Test set AUC standard error: 0.007457625105493983\n"
     ]
    }
   ],
   "source": [
    "# Standard error of mean for test set AUC\n",
    "sorted_scores_te = np.array(bootstrapped_scores_te)\n",
    "sorted_scores_te.sort()\n",
    "\n",
    "conf_lower_te = sorted_scores_te[int(0.025 * len(sorted_scores_te))]\n",
    "conf_upper_te = sorted_scores_te[int(0.975 * len(sorted_scores_te))]\n",
    "\n",
    "standard_error_te = (conf_upper_te - conf_lower_te) / 3.92\n",
    "print('Test set AUC standard error:', standard_error_te)"
   ]
  },
  {
   "cell_type": "code",
   "execution_count": 147,
   "id": "b90929e9",
   "metadata": {},
   "outputs": [],
   "source": [
    "# Bootstrap 10000 1-yr AUCs for train set \n",
    "n_bootstraps = 10000\n",
    "rng_seed = 42 \n",
    "bootstrapped_scores_tr = []\n",
    "\n",
    "rng = np.random.RandomState(rng_seed)\n",
    "for i in range(n_bootstraps):\n",
    "    indices = rng.randint(0, len(cox_cc_risk_scores_tr), len(cox_cc_risk_scores_tr))\n",
    "    auc_yr = cumulative_dynamic_auc(train_cox_cc_y, train_cox_cc_y[indices], cox_cc_risk_scores_tr[indices], 365)[0][0]\n",
    "    bootstrapped_scores_tr.append(auc_yr)"
   ]
  },
  {
   "cell_type": "code",
   "execution_count": 148,
   "id": "855de166",
   "metadata": {},
   "outputs": [
    {
     "name": "stdout",
     "output_type": "stream",
     "text": [
      "Training set AUC standard error 0.0037363249029020488\n"
     ]
    }
   ],
   "source": [
    "# Standard error of mean for train set AUC\n",
    "sorted_scores_tr = np.array(bootstrapped_scores_tr)\n",
    "sorted_scores_tr.sort()\n",
    "\n",
    "conf_lower_tr = sorted_scores_tr[int(0.025 * len(sorted_scores_tr))]\n",
    "conf_upper_tr = sorted_scores_tr[int(0.975 * len(sorted_scores_tr))]\n",
    "\n",
    "standard_error_tr = (conf_upper_tr - conf_lower_tr) / 3.92\n",
    "print('Training set AUC standard error', standard_error_tr)"
   ]
  },
  {
   "cell_type": "code",
   "execution_count": 149,
   "id": "ac94ec7c",
   "metadata": {},
   "outputs": [],
   "source": [
    "cox_auc_data = {'model': 'cox_cc',\n",
    "                'auc_1yr_te': cox_cc_auc_te,\n",
    "                'sem_te': standard_error_te,\n",
    "                'auc_1yr_tr': cox_cc_auc_tr,\n",
    "                'sem_tr': standard_error_tr}"
   ]
  },
  {
   "cell_type": "code",
   "execution_count": 150,
   "id": "94d0a663",
   "metadata": {},
   "outputs": [],
   "source": [
    "cox_auc_df = pd.read_csv('cox_auc_df.csv')"
   ]
  },
  {
   "cell_type": "code",
   "execution_count": 151,
   "id": "eafaece6",
   "metadata": {},
   "outputs": [],
   "source": [
    "cox_auc_df = cox_auc_df.append(cox_auc_data, ignore_index = True)"
   ]
  },
  {
   "cell_type": "code",
   "execution_count": 152,
   "id": "4ca17b1c",
   "metadata": {},
   "outputs": [
    {
     "data": {
      "text/html": [
       "<div>\n",
       "<style scoped>\n",
       "    .dataframe tbody tr th:only-of-type {\n",
       "        vertical-align: middle;\n",
       "    }\n",
       "\n",
       "    .dataframe tbody tr th {\n",
       "        vertical-align: top;\n",
       "    }\n",
       "\n",
       "    .dataframe thead th {\n",
       "        text-align: right;\n",
       "    }\n",
       "</style>\n",
       "<table border=\"1\" class=\"dataframe\">\n",
       "  <thead>\n",
       "    <tr style=\"text-align: right;\">\n",
       "      <th></th>\n",
       "      <th>model</th>\n",
       "      <th>auc_1yr_te</th>\n",
       "      <th>sem_te</th>\n",
       "      <th>auc_1yr_tr</th>\n",
       "      <th>sem_tr</th>\n",
       "    </tr>\n",
       "  </thead>\n",
       "  <tbody>\n",
       "    <tr>\n",
       "      <th>0</th>\n",
       "      <td>cox_crude</td>\n",
       "      <td>0.691632</td>\n",
       "      <td>0.004846</td>\n",
       "      <td>0.686484</td>\n",
       "      <td>0.002403</td>\n",
       "    </tr>\n",
       "    <tr>\n",
       "      <th>1</th>\n",
       "      <td>cox_cc</td>\n",
       "      <td>0.698398</td>\n",
       "      <td>0.007458</td>\n",
       "      <td>0.699951</td>\n",
       "      <td>0.003736</td>\n",
       "    </tr>\n",
       "  </tbody>\n",
       "</table>\n",
       "</div>"
      ],
      "text/plain": [
       "       model  auc_1yr_te    sem_te  auc_1yr_tr    sem_tr\n",
       "0  cox_crude    0.691632  0.004846    0.686484  0.002403\n",
       "1     cox_cc    0.698398  0.007458    0.699951  0.003736"
      ]
     },
     "execution_count": 152,
     "metadata": {},
     "output_type": "execute_result"
    }
   ],
   "source": [
    "cox_auc_df"
   ]
  },
  {
   "cell_type": "code",
   "execution_count": 153,
   "id": "03889c34",
   "metadata": {},
   "outputs": [],
   "source": [
    "cox_auc_df.to_csv('cox_auc_df.csv', index = False, header = True)"
   ]
  },
  {
   "cell_type": "code",
   "execution_count": 154,
   "id": "bec8a73b",
   "metadata": {},
   "outputs": [],
   "source": [
    "times = np.arange(30, 1810, 30)\n",
    "cc_cox_auc_over5 = cumulative_dynamic_auc(train_cox_cc_y, test_cox_cc_y, cox_cc_risk_scores_te, times)[0]\n",
    "\n",
    "times_data = {}\n",
    "values = cc_cox_auc_over5\n",
    "time_names = []\n",
    "\n",
    "for x in range(len(times)):\n",
    "    time_names.append('time_'+str(times[x]))\n",
    "\n",
    "for i in range(len(time_names)):\n",
    "    times_data[time_names[i]] = values[i]\n",
    "    \n",
    "cc_cox_over5_df = pd.DataFrame(times_data, index = ['cox_cc'])"
   ]
  },
  {
   "cell_type": "code",
   "execution_count": 155,
   "id": "90a1b70f",
   "metadata": {},
   "outputs": [],
   "source": [
    "cox_auc_over5 = pd.read_csv('cox_auc_over5.csv', index_col = 0)"
   ]
  },
  {
   "cell_type": "code",
   "execution_count": 156,
   "id": "82231e0e",
   "metadata": {},
   "outputs": [],
   "source": [
    "cox_auc_over5 = cox_auc_over5.append(cc_cox_over5_df, ignore_index = False)"
   ]
  },
  {
   "cell_type": "code",
   "execution_count": 157,
   "id": "cc8d6a65",
   "metadata": {},
   "outputs": [
    {
     "data": {
      "text/html": [
       "<div>\n",
       "<style scoped>\n",
       "    .dataframe tbody tr th:only-of-type {\n",
       "        vertical-align: middle;\n",
       "    }\n",
       "\n",
       "    .dataframe tbody tr th {\n",
       "        vertical-align: top;\n",
       "    }\n",
       "\n",
       "    .dataframe thead th {\n",
       "        text-align: right;\n",
       "    }\n",
       "</style>\n",
       "<table border=\"1\" class=\"dataframe\">\n",
       "  <thead>\n",
       "    <tr style=\"text-align: right;\">\n",
       "      <th></th>\n",
       "      <th>time_30</th>\n",
       "      <th>time_60</th>\n",
       "      <th>time_90</th>\n",
       "      <th>time_120</th>\n",
       "      <th>time_150</th>\n",
       "      <th>time_180</th>\n",
       "      <th>time_210</th>\n",
       "      <th>time_240</th>\n",
       "      <th>time_270</th>\n",
       "      <th>time_300</th>\n",
       "      <th>...</th>\n",
       "      <th>time_1530</th>\n",
       "      <th>time_1560</th>\n",
       "      <th>time_1590</th>\n",
       "      <th>time_1620</th>\n",
       "      <th>time_1650</th>\n",
       "      <th>time_1680</th>\n",
       "      <th>time_1710</th>\n",
       "      <th>time_1740</th>\n",
       "      <th>time_1770</th>\n",
       "      <th>time_1800</th>\n",
       "    </tr>\n",
       "  </thead>\n",
       "  <tbody>\n",
       "    <tr>\n",
       "      <th>cox_crude</th>\n",
       "      <td>0.656082</td>\n",
       "      <td>0.666745</td>\n",
       "      <td>0.675022</td>\n",
       "      <td>0.681865</td>\n",
       "      <td>0.687597</td>\n",
       "      <td>0.687069</td>\n",
       "      <td>0.689806</td>\n",
       "      <td>0.691668</td>\n",
       "      <td>0.689089</td>\n",
       "      <td>0.690166</td>\n",
       "      <td>...</td>\n",
       "      <td>0.695248</td>\n",
       "      <td>0.695567</td>\n",
       "      <td>0.699464</td>\n",
       "      <td>0.697404</td>\n",
       "      <td>0.70273</td>\n",
       "      <td>0.703662</td>\n",
       "      <td>0.703840</td>\n",
       "      <td>0.706001</td>\n",
       "      <td>0.701741</td>\n",
       "      <td>0.703521</td>\n",
       "    </tr>\n",
       "    <tr>\n",
       "      <th>cox_cc</th>\n",
       "      <td>0.698094</td>\n",
       "      <td>0.690005</td>\n",
       "      <td>0.686835</td>\n",
       "      <td>0.698031</td>\n",
       "      <td>0.705452</td>\n",
       "      <td>0.701884</td>\n",
       "      <td>0.701866</td>\n",
       "      <td>0.701048</td>\n",
       "      <td>0.699756</td>\n",
       "      <td>0.698598</td>\n",
       "      <td>...</td>\n",
       "      <td>0.692695</td>\n",
       "      <td>0.687785</td>\n",
       "      <td>0.695816</td>\n",
       "      <td>0.687498</td>\n",
       "      <td>0.69955</td>\n",
       "      <td>0.701582</td>\n",
       "      <td>0.697006</td>\n",
       "      <td>0.693619</td>\n",
       "      <td>0.688286</td>\n",
       "      <td>0.689227</td>\n",
       "    </tr>\n",
       "  </tbody>\n",
       "</table>\n",
       "<p>2 rows × 60 columns</p>\n",
       "</div>"
      ],
      "text/plain": [
       "            time_30   time_60   time_90  time_120  time_150  time_180  \\\n",
       "cox_crude  0.656082  0.666745  0.675022  0.681865  0.687597  0.687069   \n",
       "cox_cc     0.698094  0.690005  0.686835  0.698031  0.705452  0.701884   \n",
       "\n",
       "           time_210  time_240  time_270  time_300  ...  time_1530  time_1560  \\\n",
       "cox_crude  0.689806  0.691668  0.689089  0.690166  ...   0.695248   0.695567   \n",
       "cox_cc     0.701866  0.701048  0.699756  0.698598  ...   0.692695   0.687785   \n",
       "\n",
       "           time_1590  time_1620  time_1650  time_1680  time_1710  time_1740  \\\n",
       "cox_crude   0.699464   0.697404    0.70273   0.703662   0.703840   0.706001   \n",
       "cox_cc      0.695816   0.687498    0.69955   0.701582   0.697006   0.693619   \n",
       "\n",
       "           time_1770  time_1800  \n",
       "cox_crude   0.701741   0.703521  \n",
       "cox_cc      0.688286   0.689227  \n",
       "\n",
       "[2 rows x 60 columns]"
      ]
     },
     "execution_count": 157,
     "metadata": {},
     "output_type": "execute_result"
    }
   ],
   "source": [
    "cox_auc_over5"
   ]
  },
  {
   "cell_type": "code",
   "execution_count": 158,
   "id": "47be73bb",
   "metadata": {},
   "outputs": [],
   "source": [
    "cox_auc_over5.to_csv('cox_auc_over5.csv', index = True, header = True)"
   ]
  },
  {
   "cell_type": "code",
   "execution_count": 159,
   "id": "81336c43",
   "metadata": {},
   "outputs": [],
   "source": [
    "ml_auc_df = pd.read_csv('ml_auc_df.csv', dtype = {'auc_1yr_te': np.float64,\n",
    "                                                  'sem_te': np.float64,\n",
    "                                                  'auc_1yr_tr': np.float64,\n",
    "                                                  'sem_tr': np.float64})"
   ]
  },
  {
   "cell_type": "code",
   "execution_count": 160,
   "id": "5bb6da98",
   "metadata": {},
   "outputs": [
    {
     "data": {
      "text/html": [
       "<div>\n",
       "<style scoped>\n",
       "    .dataframe tbody tr th:only-of-type {\n",
       "        vertical-align: middle;\n",
       "    }\n",
       "\n",
       "    .dataframe tbody tr th {\n",
       "        vertical-align: top;\n",
       "    }\n",
       "\n",
       "    .dataframe thead th {\n",
       "        text-align: right;\n",
       "    }\n",
       "</style>\n",
       "<table border=\"1\" class=\"dataframe\">\n",
       "  <thead>\n",
       "    <tr style=\"text-align: right;\">\n",
       "      <th></th>\n",
       "      <th>model</th>\n",
       "      <th>auc_1yr_te</th>\n",
       "      <th>sem_te</th>\n",
       "      <th>auc_1yr_tr</th>\n",
       "      <th>sem_tr</th>\n",
       "    </tr>\n",
       "  </thead>\n",
       "  <tbody>\n",
       "    <tr>\n",
       "      <th>0</th>\n",
       "      <td>gbm_crude</td>\n",
       "      <td>0.787443</td>\n",
       "      <td>0.004128</td>\n",
       "      <td>0.793450</td>\n",
       "      <td>0.002031</td>\n",
       "    </tr>\n",
       "    <tr>\n",
       "      <th>1</th>\n",
       "      <td>rsf_crude</td>\n",
       "      <td>0.774594</td>\n",
       "      <td>0.004214</td>\n",
       "      <td>0.901029</td>\n",
       "      <td>0.001352</td>\n",
       "    </tr>\n",
       "    <tr>\n",
       "      <th>2</th>\n",
       "      <td>ridge_crude</td>\n",
       "      <td>0.751794</td>\n",
       "      <td>0.004430</td>\n",
       "      <td>0.755288</td>\n",
       "      <td>0.002165</td>\n",
       "    </tr>\n",
       "    <tr>\n",
       "      <th>3</th>\n",
       "      <td>lasso_crude</td>\n",
       "      <td>0.736107</td>\n",
       "      <td>0.004536</td>\n",
       "      <td>0.737436</td>\n",
       "      <td>0.002255</td>\n",
       "    </tr>\n",
       "    <tr>\n",
       "      <th>4</th>\n",
       "      <td>enet_crude</td>\n",
       "      <td>0.735788</td>\n",
       "      <td>0.004540</td>\n",
       "      <td>0.737163</td>\n",
       "      <td>0.002255</td>\n",
       "    </tr>\n",
       "    <tr>\n",
       "      <th>5</th>\n",
       "      <td>linear_svm_crude</td>\n",
       "      <td>0.746359</td>\n",
       "      <td>0.004484</td>\n",
       "      <td>0.751083</td>\n",
       "      <td>0.002176</td>\n",
       "    </tr>\n",
       "    <tr>\n",
       "      <th>6</th>\n",
       "      <td>gbm_mice</td>\n",
       "      <td>0.792453</td>\n",
       "      <td>0.002809</td>\n",
       "      <td>0.807179</td>\n",
       "      <td>0.005515</td>\n",
       "    </tr>\n",
       "  </tbody>\n",
       "</table>\n",
       "</div>"
      ],
      "text/plain": [
       "              model  auc_1yr_te    sem_te  auc_1yr_tr    sem_tr\n",
       "0         gbm_crude    0.787443  0.004128    0.793450  0.002031\n",
       "1         rsf_crude    0.774594  0.004214    0.901029  0.001352\n",
       "2       ridge_crude    0.751794  0.004430    0.755288  0.002165\n",
       "3       lasso_crude    0.736107  0.004536    0.737436  0.002255\n",
       "4        enet_crude    0.735788  0.004540    0.737163  0.002255\n",
       "5  linear_svm_crude    0.746359  0.004484    0.751083  0.002176\n",
       "6          gbm_mice    0.792453  0.002809    0.807179  0.005515"
      ]
     },
     "execution_count": 160,
     "metadata": {},
     "output_type": "execute_result"
    }
   ],
   "source": [
    "ml_auc_df"
   ]
  },
  {
   "cell_type": "code",
   "execution_count": 161,
   "id": "dfa9af7b",
   "metadata": {},
   "outputs": [],
   "source": [
    "all_models_auc_df = ml_auc_df.append(cox_auc_df, ignore_index = True)"
   ]
  },
  {
   "cell_type": "code",
   "execution_count": 162,
   "id": "dbe2bcd9",
   "metadata": {},
   "outputs": [
    {
     "data": {
      "text/html": [
       "<div>\n",
       "<style scoped>\n",
       "    .dataframe tbody tr th:only-of-type {\n",
       "        vertical-align: middle;\n",
       "    }\n",
       "\n",
       "    .dataframe tbody tr th {\n",
       "        vertical-align: top;\n",
       "    }\n",
       "\n",
       "    .dataframe thead th {\n",
       "        text-align: right;\n",
       "    }\n",
       "</style>\n",
       "<table border=\"1\" class=\"dataframe\">\n",
       "  <thead>\n",
       "    <tr style=\"text-align: right;\">\n",
       "      <th></th>\n",
       "      <th>model</th>\n",
       "      <th>auc_1yr_te</th>\n",
       "      <th>sem_te</th>\n",
       "      <th>auc_1yr_tr</th>\n",
       "      <th>sem_tr</th>\n",
       "    </tr>\n",
       "  </thead>\n",
       "  <tbody>\n",
       "    <tr>\n",
       "      <th>6</th>\n",
       "      <td>gbm_mice</td>\n",
       "      <td>0.792453</td>\n",
       "      <td>0.002809</td>\n",
       "      <td>0.807179</td>\n",
       "      <td>0.005515</td>\n",
       "    </tr>\n",
       "    <tr>\n",
       "      <th>0</th>\n",
       "      <td>gbm_crude</td>\n",
       "      <td>0.787443</td>\n",
       "      <td>0.004128</td>\n",
       "      <td>0.793450</td>\n",
       "      <td>0.002031</td>\n",
       "    </tr>\n",
       "    <tr>\n",
       "      <th>1</th>\n",
       "      <td>rsf_crude</td>\n",
       "      <td>0.774594</td>\n",
       "      <td>0.004214</td>\n",
       "      <td>0.901029</td>\n",
       "      <td>0.001352</td>\n",
       "    </tr>\n",
       "    <tr>\n",
       "      <th>2</th>\n",
       "      <td>ridge_crude</td>\n",
       "      <td>0.751794</td>\n",
       "      <td>0.004430</td>\n",
       "      <td>0.755288</td>\n",
       "      <td>0.002165</td>\n",
       "    </tr>\n",
       "    <tr>\n",
       "      <th>5</th>\n",
       "      <td>linear_svm_crude</td>\n",
       "      <td>0.746359</td>\n",
       "      <td>0.004484</td>\n",
       "      <td>0.751083</td>\n",
       "      <td>0.002176</td>\n",
       "    </tr>\n",
       "    <tr>\n",
       "      <th>3</th>\n",
       "      <td>lasso_crude</td>\n",
       "      <td>0.736107</td>\n",
       "      <td>0.004536</td>\n",
       "      <td>0.737436</td>\n",
       "      <td>0.002255</td>\n",
       "    </tr>\n",
       "    <tr>\n",
       "      <th>4</th>\n",
       "      <td>enet_crude</td>\n",
       "      <td>0.735788</td>\n",
       "      <td>0.004540</td>\n",
       "      <td>0.737163</td>\n",
       "      <td>0.002255</td>\n",
       "    </tr>\n",
       "    <tr>\n",
       "      <th>8</th>\n",
       "      <td>cox_cc</td>\n",
       "      <td>0.698398</td>\n",
       "      <td>0.007458</td>\n",
       "      <td>0.699951</td>\n",
       "      <td>0.003736</td>\n",
       "    </tr>\n",
       "    <tr>\n",
       "      <th>7</th>\n",
       "      <td>cox_crude</td>\n",
       "      <td>0.691632</td>\n",
       "      <td>0.004846</td>\n",
       "      <td>0.686484</td>\n",
       "      <td>0.002403</td>\n",
       "    </tr>\n",
       "  </tbody>\n",
       "</table>\n",
       "</div>"
      ],
      "text/plain": [
       "              model  auc_1yr_te    sem_te  auc_1yr_tr    sem_tr\n",
       "6          gbm_mice    0.792453  0.002809    0.807179  0.005515\n",
       "0         gbm_crude    0.787443  0.004128    0.793450  0.002031\n",
       "1         rsf_crude    0.774594  0.004214    0.901029  0.001352\n",
       "2       ridge_crude    0.751794  0.004430    0.755288  0.002165\n",
       "5  linear_svm_crude    0.746359  0.004484    0.751083  0.002176\n",
       "3       lasso_crude    0.736107  0.004536    0.737436  0.002255\n",
       "4        enet_crude    0.735788  0.004540    0.737163  0.002255\n",
       "8            cox_cc    0.698398  0.007458    0.699951  0.003736\n",
       "7         cox_crude    0.691632  0.004846    0.686484  0.002403"
      ]
     },
     "execution_count": 162,
     "metadata": {},
     "output_type": "execute_result"
    }
   ],
   "source": [
    "all_models_auc_df.sort_values(by = 'auc_1yr_te', ascending = False)"
   ]
  },
  {
   "cell_type": "code",
   "execution_count": 163,
   "id": "81414f9a",
   "metadata": {},
   "outputs": [],
   "source": [
    "all_models_auc_df.to_csv('all_models_auc_df.csv', index = False, header = True)"
   ]
  },
  {
   "cell_type": "markdown",
   "id": "48fdd039",
   "metadata": {},
   "source": [
    "**In conclusion, the Cox model performs less well than the machine learning models in regards to 1-year test AUC.** "
   ]
  }
 ],
 "metadata": {
  "kernelspec": {
   "display_name": "Python 3 (ipykernel)",
   "language": "python",
   "name": "python3"
  },
  "language_info": {
   "codemirror_mode": {
    "name": "ipython",
    "version": 3
   },
   "file_extension": ".py",
   "mimetype": "text/x-python",
   "name": "python",
   "nbconvert_exporter": "python",
   "pygments_lexer": "ipython3",
   "version": "3.7.10"
  }
 },
 "nbformat": 4,
 "nbformat_minor": 5
}
