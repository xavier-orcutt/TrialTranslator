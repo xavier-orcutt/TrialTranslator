{
 "cells": [
  {
   "cell_type": "markdown",
   "id": "e4f52b66",
   "metadata": {},
   "source": [
    "# Flatiron Health aNSCLC: Machine learning models with crude imputation \n",
    "\n",
    "**OBJECTIVE: Build 4 survival machine learning models using a crude imputation strategy. This imputation strategy assumes data is missing completely at random and will impute median for numerical variables and leave missing categorical entries as \"unknown\" (eg., possible ECOG values are 0, 1, 2, 3, 4, 5, and unknown).**\n",
    "\n",
    "**BACKGROUND: The models were built using scikit-survival which is a machine learning library for survival analysis.  All 4 of these machine learning models are intended for survival analysis and so take into account censored data.** \n",
    "\n",
    "**Time-dependent area under the receiver operator curve (AUC) at 1 year from advanced diagnosis was selected as the primary performance metric. This metric determines how well a model can distinguish patients who die by time *t* from patients who die after this time.**\n",
    "\n",
    "**OUTLINE:**\n",
    "1. **Preprocessing**\n",
    "2. **Gradient boosted model** \n",
    "3. **Random survival forest** \n",
    "4. **Penalized Cox models**\n",
    "5. **Linear support vector machine** "
   ]
  },
  {
   "cell_type": "markdown",
   "id": "088d555d",
   "metadata": {},
   "source": [
    "## 1. Preprocessing "
   ]
  },
  {
   "cell_type": "code",
   "execution_count": 1,
   "id": "b35e9bed",
   "metadata": {},
   "outputs": [],
   "source": [
    "import numpy as np\n",
    "import pandas as pd\n",
    "\n",
    "from sklearn.model_selection import StratifiedShuffleSplit\n",
    "from sklearn.pipeline import Pipeline\n",
    "from sklearn.impute import SimpleImputer\n",
    "from sklearn.preprocessing import StandardScaler, OneHotEncoder\n",
    "from sklearn.compose import ColumnTransformer "
   ]
  },
  {
   "cell_type": "markdown",
   "id": "a5a144f2",
   "metadata": {},
   "source": [
    "### 1.1 Importing full dataframes"
   ]
  },
  {
   "cell_type": "code",
   "execution_count": 2,
   "id": "09e84f94",
   "metadata": {},
   "outputs": [
    {
     "name": "stdout",
     "output_type": "stream",
     "text": [
      "54786 True\n"
     ]
    }
   ],
   "source": [
    "# Import training set and set PatientID as index.\n",
    "train = pd.read_csv('train_full.csv', index_col = 'PatientID')\n",
    "print(len(train), train.index.is_unique)"
   ]
  },
  {
   "cell_type": "code",
   "execution_count": 3,
   "id": "637ebdd2",
   "metadata": {},
   "outputs": [
    {
     "name": "stdout",
     "output_type": "stream",
     "text": [
      "13697 True\n"
     ]
    }
   ],
   "source": [
    "# Import test set and set PatientID as index.\n",
    "test = pd.read_csv('test_full.csv', index_col = 'PatientID')\n",
    "print(len(test), test.index.is_unique)"
   ]
  },
  {
   "cell_type": "markdown",
   "id": "15b1dfd8",
   "metadata": {},
   "source": [
    "### 1.2 Converting datatypes "
   ]
  },
  {
   "cell_type": "code",
   "execution_count": 4,
   "id": "fe980cfe",
   "metadata": {},
   "outputs": [
    {
     "data": {
      "text/plain": [
       "['PracticeType',\n",
       " 'gender',\n",
       " 'race',\n",
       " 'ethnicity',\n",
       " 'region',\n",
       " 'Histology',\n",
       " 'SmokingStatus',\n",
       " 'stage',\n",
       " 'ALK',\n",
       " 'BRAF',\n",
       " 'EGFR',\n",
       " 'KRAS',\n",
       " 'ROS1',\n",
       " 'pdl1',\n",
       " 'pdl1_n',\n",
       " 'ecog_diagnosis']"
      ]
     },
     "execution_count": 4,
     "metadata": {},
     "output_type": "execute_result"
    }
   ],
   "source": [
    "list(train.select_dtypes(include = ['object']).columns)"
   ]
  },
  {
   "cell_type": "code",
   "execution_count": 5,
   "id": "0252bafd",
   "metadata": {},
   "outputs": [],
   "source": [
    "to_be_categorical = list(train.select_dtypes(include = ['object']).columns)"
   ]
  },
  {
   "cell_type": "code",
   "execution_count": 6,
   "id": "c69f2098",
   "metadata": {},
   "outputs": [],
   "source": [
    "# Add adv_year to list of object variables which will be converted to categorical in below cell. \n",
    "to_be_categorical.append('adv_year')"
   ]
  },
  {
   "cell_type": "code",
   "execution_count": 7,
   "id": "7425e9ea",
   "metadata": {},
   "outputs": [],
   "source": [
    "# Convert variables in list to categorical.\n",
    "for x in list(to_be_categorical):\n",
    "    train[x] = train[x].astype('category')"
   ]
  },
  {
   "cell_type": "code",
   "execution_count": 8,
   "id": "60047fb6",
   "metadata": {},
   "outputs": [
    {
     "data": {
      "text/plain": [
       "['PracticeType',\n",
       " 'gender',\n",
       " 'race',\n",
       " 'ethnicity',\n",
       " 'region',\n",
       " 'Histology',\n",
       " 'SmokingStatus',\n",
       " 'stage',\n",
       " 'adv_year',\n",
       " 'ALK',\n",
       " 'BRAF',\n",
       " 'EGFR',\n",
       " 'KRAS',\n",
       " 'ROS1',\n",
       " 'pdl1',\n",
       " 'pdl1_n',\n",
       " 'ecog_diagnosis']"
      ]
     },
     "execution_count": 8,
     "metadata": {},
     "output_type": "execute_result"
    }
   ],
   "source": [
    "list(train.select_dtypes(include = ['category']).columns)"
   ]
  },
  {
   "cell_type": "code",
   "execution_count": 9,
   "id": "9bc7449d",
   "metadata": {},
   "outputs": [],
   "source": [
    "# Convert variables in list to categorical.\n",
    "for x in list(to_be_categorical):\n",
    "    test[x] = test[x].astype('category')"
   ]
  },
  {
   "cell_type": "code",
   "execution_count": 10,
   "id": "6b5ddfb9",
   "metadata": {},
   "outputs": [],
   "source": [
    "# Convert death_status into True or False (required for scikit-survival). \n",
    "train['death_status'] = train['death_status'].astype('bool')"
   ]
  },
  {
   "cell_type": "code",
   "execution_count": 11,
   "id": "e1313e77",
   "metadata": {},
   "outputs": [],
   "source": [
    "# Convert death_status into True or False (required for scikit-survival).\n",
    "test['death_status'] = test['death_status'].astype('bool')"
   ]
  },
  {
   "cell_type": "markdown",
   "id": "a0038a6c",
   "metadata": {},
   "source": [
    "### 1.3 Defining validation set "
   ]
  },
  {
   "cell_type": "markdown",
   "id": "885b1e07",
   "metadata": {},
   "source": [
    "**A validation dataset will be constructed from the training set. This validation set will comprise of 25% of the training set. It will be used to assist in early stopping for the gradient boosting survival model and the random survival model. Like in the training-test split, a stratified approach will be carried out to preserve the distribution of diagnosis years.**   "
   ]
  },
  {
   "cell_type": "code",
   "execution_count": 12,
   "id": "ad6e9bd1",
   "metadata": {},
   "outputs": [],
   "source": [
    "train['adv_year_cat'] = pd.cut(train['adv_year'],\n",
    "                               bins = ['2010', '2012', '2014', '2016', '2018', '2021'],\n",
    "                               labels = ['11-12', '13-14', '15-16', '17-18', '19-21'])"
   ]
  },
  {
   "cell_type": "code",
   "execution_count": 13,
   "id": "4531d1ca",
   "metadata": {},
   "outputs": [],
   "source": [
    "sss = StratifiedShuffleSplit(n_splits = 1, test_size = 0.25, random_state = 42)\n",
    "\n",
    "for sub_train_index, val_index in sss.split(train, train['adv_year_cat']):\n",
    "    sub_train = train.iloc[sub_train_index]\n",
    "    val = train.iloc[val_index]"
   ]
  },
  {
   "cell_type": "code",
   "execution_count": 14,
   "id": "d910ef2d",
   "metadata": {},
   "outputs": [],
   "source": [
    "train = train.drop(columns = ['adv_year_cat'])"
   ]
  },
  {
   "cell_type": "code",
   "execution_count": 15,
   "id": "4179366c",
   "metadata": {},
   "outputs": [],
   "source": [
    "sub_train = sub_train.drop(columns = ['adv_year_cat'])"
   ]
  },
  {
   "cell_type": "code",
   "execution_count": 16,
   "id": "ecf1582c",
   "metadata": {},
   "outputs": [],
   "source": [
    "val = val.drop(columns = ['adv_year_cat'])"
   ]
  },
  {
   "cell_type": "code",
   "execution_count": 17,
   "id": "3343cfb1",
   "metadata": {},
   "outputs": [],
   "source": [
    "pd.DataFrame(val.index, columns = ['PatientID']).to_csv('val_IDs.csv', index = False, header = True)"
   ]
  },
  {
   "cell_type": "code",
   "execution_count": 18,
   "id": "dac93e0b",
   "metadata": {},
   "outputs": [],
   "source": [
    "val_IDs = pd.read_csv('val_IDs.csv')"
   ]
  },
  {
   "cell_type": "markdown",
   "id": "9292d13e",
   "metadata": {},
   "source": [
    "### 1.4 Separate into X and Y"
   ]
  },
  {
   "cell_type": "code",
   "execution_count": 19,
   "id": "37a8204b",
   "metadata": {},
   "outputs": [],
   "source": [
    "# 'X' datasets\n",
    "train_x = train.drop(columns = ['death_status', 'timerisk_activity']) #80% of data \n",
    "\n",
    "test_x = test.drop(columns = ['death_status', 'timerisk_activity']) #20% of data \n",
    "\n",
    "sub_train_x = sub_train.drop(columns = ['death_status', 'timerisk_activity']) #60% of data\n",
    "\n",
    "val_x = val.drop(columns = ['death_status', 'timerisk_activity']) #20% of data "
   ]
  },
  {
   "cell_type": "code",
   "execution_count": 20,
   "id": "f49a7b77",
   "metadata": {},
   "outputs": [],
   "source": [
    "# 'Y' datasets\n",
    "# Death status and time until event needs to be stored as a structured array to be compatible with scikit-survival\n",
    "y_dtypes = train[['death_status', 'timerisk_activity']].dtypes\n",
    "\n",
    "train_y = np.array([tuple(x) for x in train[['death_status', 'timerisk_activity']].values], \n",
    "                   dtype = list(zip(y_dtypes.index, y_dtypes)))\n",
    "\n",
    "test_y = np.array([tuple(x) for x in test[['death_status', 'timerisk_activity']].values], \n",
    "                  dtype = list(zip(y_dtypes.index, y_dtypes)))\n",
    "\n",
    "sub_train_y = np.array([tuple(x) for x in sub_train[['death_status', 'timerisk_activity']].values],\n",
    "                       dtype = list(zip(y_dtypes.index, y_dtypes)))\n",
    "\n",
    "val_y = np.array([tuple(x) for x in val[['death_status', 'timerisk_activity']].values],\n",
    "                 dtype = list(zip(y_dtypes.index, y_dtypes)))"
   ]
  },
  {
   "cell_type": "markdown",
   "id": "2421be2a",
   "metadata": {},
   "source": [
    "### 1.5 Build pipeline"
   ]
  },
  {
   "cell_type": "code",
   "execution_count": 21,
   "id": "c0f43fa2",
   "metadata": {},
   "outputs": [
    {
     "data": {
      "text/plain": [
       "['age',\n",
       " 'delta_adv_diagnosis',\n",
       " 'steroid_diag',\n",
       " 'opioid_PO_diag',\n",
       " 'nonopioid_PO_diag',\n",
       " 'pain_IV_diag',\n",
       " 'ac_diag',\n",
       " 'antiinfective_IV_diag',\n",
       " 'antiinfective_diag',\n",
       " 'antihyperglycemic_diag',\n",
       " 'ppi_diag',\n",
       " 'antidepressant_diag',\n",
       " 'bta_diag',\n",
       " 'thyroid_diag',\n",
       " 'is_diag',\n",
       " 'commercial',\n",
       " 'medicare',\n",
       " 'medicaid',\n",
       " 'other_insurance',\n",
       " 'weight_diag',\n",
       " 'bmi_diag',\n",
       " 'bmi_diag_na',\n",
       " 'weight_pct_change',\n",
       " 'weight_pct_na',\n",
       " 'weight_slope',\n",
       " 'albumin_diag',\n",
       " 'alp_diag',\n",
       " 'alt_diag',\n",
       " 'ast_diag',\n",
       " 'bicarb_diag',\n",
       " 'bun_diag',\n",
       " 'calcium_diag',\n",
       " 'chloride_diag',\n",
       " 'creatinine_diag',\n",
       " 'hemoglobin_diag',\n",
       " 'neutrophil_count_diag',\n",
       " 'platelet_diag',\n",
       " 'potassium_diag',\n",
       " 'sodium_diag',\n",
       " 'total_bilirubin_diag',\n",
       " 'wbc_diag',\n",
       " 'albumin_diag_na',\n",
       " 'alp_diag_na',\n",
       " 'alt_diag_na',\n",
       " 'ast_diag_na',\n",
       " 'bicarb_diag_na',\n",
       " 'bun_diag_na',\n",
       " 'calcium_diag_na',\n",
       " 'chloride_diag_na',\n",
       " 'creatinine_diag_na',\n",
       " 'hemoglobin_diag_na',\n",
       " 'neutrophil_count_diag_na',\n",
       " 'platelet_diag_na',\n",
       " 'potassium_diag_na',\n",
       " 'sodium_diag_na',\n",
       " 'total_bilirubin_diag_na',\n",
       " 'wbc_diag_na',\n",
       " 'albumin_avg',\n",
       " 'alp_avg',\n",
       " 'alt_avg',\n",
       " 'ast_avg',\n",
       " 'bicarb_avg',\n",
       " 'bun_avg',\n",
       " 'calcium_avg',\n",
       " 'chloride_avg',\n",
       " 'creatinine_avg',\n",
       " 'hemoglobin_avg',\n",
       " 'neutrophil_count_avg',\n",
       " 'platelet_avg',\n",
       " 'potassium_avg',\n",
       " 'sodium_avg',\n",
       " 'total_bilirubin_avg',\n",
       " 'wbc_avg',\n",
       " 'albumin_max',\n",
       " 'alp_max',\n",
       " 'alt_max',\n",
       " 'ast_max',\n",
       " 'bicarb_max',\n",
       " 'bun_max',\n",
       " 'calcium_max',\n",
       " 'chloride_max',\n",
       " 'creatinine_max',\n",
       " 'hemoglobin_max',\n",
       " 'neutrophil_count_max',\n",
       " 'platelet_max',\n",
       " 'potassium_max',\n",
       " 'sodium_max',\n",
       " 'total_bilirubin_max',\n",
       " 'wbc_max',\n",
       " 'albumin_min',\n",
       " 'alp_min',\n",
       " 'alt_min',\n",
       " 'ast_min',\n",
       " 'bicarb_min',\n",
       " 'bun_min',\n",
       " 'calcium_min',\n",
       " 'chloride_min',\n",
       " 'creatinine_min',\n",
       " 'hemoglobin_min',\n",
       " 'neutrophil_count_min',\n",
       " 'platelet_min',\n",
       " 'potassium_min',\n",
       " 'sodium_min',\n",
       " 'total_bilirubin_min',\n",
       " 'wbc_min',\n",
       " 'albumin_std',\n",
       " 'alp_std',\n",
       " 'alt_std',\n",
       " 'ast_std',\n",
       " 'bicarb_std',\n",
       " 'bun_std',\n",
       " 'calcium_std',\n",
       " 'chloride_std',\n",
       " 'creatinine_std',\n",
       " 'hemoglobin_std',\n",
       " 'neutrophil_count_std',\n",
       " 'platelet_std',\n",
       " 'potassium_std',\n",
       " 'sodium_std',\n",
       " 'total_bilirubin_std',\n",
       " 'wbc_std',\n",
       " 'albumin_slope',\n",
       " 'alp_slope',\n",
       " 'alt_slope',\n",
       " 'ast_slope',\n",
       " 'bicarb_slope',\n",
       " 'bun_slope',\n",
       " 'calcium_slope',\n",
       " 'chloride_slope',\n",
       " 'creatinine_slope',\n",
       " 'hemoglobin_slope',\n",
       " 'neutrophil_count_slope',\n",
       " 'platelet_slope',\n",
       " 'potassium_slope',\n",
       " 'sodium_slope',\n",
       " 'total_bilirubin_slope',\n",
       " 'wbc_slope',\n",
       " 'albumin_slope_na',\n",
       " 'alp_slope_na',\n",
       " 'alt_slope_na',\n",
       " 'ast_slope_na',\n",
       " 'bicarb_slope_na',\n",
       " 'bun_slope_na',\n",
       " 'calcium_slope_na',\n",
       " 'chloride_slope_na',\n",
       " 'creatinine_slope_na',\n",
       " 'hemoglobin_slope_na',\n",
       " 'neutrophil_count_slope_na',\n",
       " 'platelet_slope_na',\n",
       " 'potassium_slope_na',\n",
       " 'sodium_slope_na',\n",
       " 'total_bilirubin_slope_na',\n",
       " 'wbc_slope_na',\n",
       " 'chf',\n",
       " 'cardiac_arrhythmias',\n",
       " 'valvular_disease',\n",
       " 'pulmonary_circulation',\n",
       " 'peripheral_vascular',\n",
       " 'htn_uncomplicated',\n",
       " 'htn_complicated',\n",
       " 'paralysis',\n",
       " 'other_neuro_disorders',\n",
       " 'chronic_pulmonary',\n",
       " 'diabetes_uncomplicated',\n",
       " 'diabetes_complicated',\n",
       " 'hypothyroidism',\n",
       " 'renal_failure',\n",
       " 'liver_disease',\n",
       " 'peptic_ulcer_disease',\n",
       " 'aids_hiv',\n",
       " 'lymphoma',\n",
       " 'metastatic_cancer',\n",
       " 'solid_tumor_wout_mets',\n",
       " 'rheumatoid_arthritis',\n",
       " 'coagulopathy',\n",
       " 'obesity',\n",
       " 'weight_loss',\n",
       " 'fluid_electrolyte',\n",
       " 'blood_loss_anemia',\n",
       " 'deficiency_anemia',\n",
       " 'alcohol_abuse',\n",
       " 'drug_abuse',\n",
       " 'psychoses',\n",
       " 'depression',\n",
       " 'elixhauser_other',\n",
       " 'icd_count',\n",
       " 'other_cancer',\n",
       " 'cns_met',\n",
       " 'bone_met',\n",
       " 'liver_met',\n",
       " 'resp_met',\n",
       " 'adrenal_met',\n",
       " 'other_met']"
      ]
     },
     "execution_count": 21,
     "metadata": {},
     "output_type": "execute_result"
    }
   ],
   "source": [
    "list(train_x.select_dtypes(exclude = ['category']).columns)"
   ]
  },
  {
   "cell_type": "code",
   "execution_count": 22,
   "id": "4644a216",
   "metadata": {},
   "outputs": [],
   "source": [
    "# List of numeric variables, excluding binary variables. \n",
    "numerical_features = [\n",
    "    'age',\n",
    "    'delta_adv_diagnosis',\n",
    "    'weight_diag',\n",
    "    'bmi_diag',\n",
    "    'weight_pct_change',\n",
    "    'weight_slope',\n",
    "    'albumin_diag',\n",
    "    'alp_diag',\n",
    "    'alt_diag',\n",
    "    'ast_diag',\n",
    "    'bicarb_diag',\n",
    "    'bun_diag',\n",
    "    'calcium_diag',\n",
    "    'chloride_diag',\n",
    "    'creatinine_diag',\n",
    "    'hemoglobin_diag',\n",
    "    'neutrophil_count_diag',\n",
    "    'platelet_diag',\n",
    "    'potassium_diag',\n",
    "    'sodium_diag',\n",
    "    'total_bilirubin_diag',\n",
    "    'wbc_diag', \n",
    "    'albumin_avg',\n",
    "    'alp_avg',\n",
    "    'alt_avg',\n",
    "    'ast_avg',\n",
    "    'bicarb_avg',\n",
    "    'bun_avg',\n",
    "    'calcium_avg',\n",
    "    'chloride_avg',\n",
    "    'creatinine_avg',\n",
    "    'hemoglobin_avg',\n",
    "    'neutrophil_count_avg',\n",
    "    'platelet_avg',\n",
    "    'potassium_avg',\n",
    "    'sodium_avg',\n",
    "    'total_bilirubin_avg',\n",
    "    'wbc_avg',\n",
    "    'albumin_max',\n",
    "    'alp_max',\n",
    "    'alt_max',\n",
    "    'ast_max',\n",
    "    'bicarb_max',\n",
    "    'bun_max',\n",
    "    'calcium_max',\n",
    "    'chloride_max',\n",
    "    'creatinine_max',\n",
    "    'hemoglobin_max',\n",
    "    'neutrophil_count_max',\n",
    "    'platelet_max',\n",
    "    'potassium_max',\n",
    "    'sodium_max',\n",
    "    'total_bilirubin_max',\n",
    "    'wbc_max',\n",
    "    'albumin_min',\n",
    "    'alp_min',\n",
    "    'alt_min',\n",
    "    'ast_min',\n",
    "    'bicarb_min',\n",
    "    'bun_min',\n",
    "    'calcium_min',\n",
    "    'chloride_min',\n",
    "    'creatinine_min',\n",
    "    'hemoglobin_min',\n",
    "    'neutrophil_count_min',\n",
    "    'platelet_min',\n",
    "    'potassium_min',\n",
    "    'sodium_min',\n",
    "    'total_bilirubin_min',\n",
    "    'wbc_min',\n",
    "    'albumin_std',\n",
    "    'alp_std',\n",
    "    'alt_std',\n",
    "    'ast_std',\n",
    "    'bicarb_std',\n",
    "    'bun_std',\n",
    "    'calcium_std',\n",
    "    'chloride_std',\n",
    "    'creatinine_std',\n",
    "    'hemoglobin_std',\n",
    "    'neutrophil_count_std',\n",
    "    'platelet_std',\n",
    "    'potassium_std',\n",
    "    'sodium_std',\n",
    "    'total_bilirubin_std',\n",
    "    'wbc_std',\n",
    "    'albumin_slope',\n",
    "    'alp_slope',\n",
    "    'alt_slope',\n",
    "    'ast_slope',\n",
    "    'bicarb_slope',\n",
    "    'bun_slope',\n",
    "    'calcium_slope',\n",
    "    'chloride_slope',\n",
    "    'creatinine_slope',\n",
    "    'hemoglobin_slope',\n",
    "    'neutrophil_count_slope',\n",
    "    'platelet_slope',\n",
    "    'potassium_slope',\n",
    "    'sodium_slope',\n",
    "    'total_bilirubin_slope',\n",
    "    'wbc_slope',\n",
    "    'icd_count']\n",
    "\n",
    "# Transformer will first calculate column median and impute, and then apply a standard scaler. \n",
    "numerical_transformer = Pipeline(steps = [\n",
    "    ('imputer', SimpleImputer(strategy = 'median')),\n",
    "    ('std_scaler', StandardScaler())])"
   ]
  },
  {
   "cell_type": "code",
   "execution_count": 23,
   "id": "1d124758",
   "metadata": {},
   "outputs": [
    {
     "data": {
      "text/plain": [
       "['PracticeType',\n",
       " 'gender',\n",
       " 'race',\n",
       " 'ethnicity',\n",
       " 'region',\n",
       " 'Histology',\n",
       " 'SmokingStatus',\n",
       " 'stage',\n",
       " 'adv_year',\n",
       " 'ALK',\n",
       " 'BRAF',\n",
       " 'EGFR',\n",
       " 'KRAS',\n",
       " 'ROS1',\n",
       " 'pdl1',\n",
       " 'pdl1_n',\n",
       " 'ecog_diagnosis']"
      ]
     },
     "execution_count": 23,
     "metadata": {},
     "output_type": "execute_result"
    }
   ],
   "source": [
    "list(train_x.select_dtypes(include = ['category']).columns)"
   ]
  },
  {
   "cell_type": "code",
   "execution_count": 24,
   "id": "6525a76c",
   "metadata": {},
   "outputs": [],
   "source": [
    "# List of categorical features.\n",
    "categorical_features = list(train_x.select_dtypes(include = ['category']).columns)\n",
    "\n",
    "# One-hot-encode categorical features.\n",
    "categorical_transformer = OneHotEncoder(handle_unknown = 'ignore')"
   ]
  },
  {
   "cell_type": "code",
   "execution_count": 25,
   "id": "5303c77a",
   "metadata": {},
   "outputs": [
    {
     "data": {
      "text/plain": [
       "90"
      ]
     },
     "execution_count": 25,
     "metadata": {},
     "output_type": "execute_result"
    }
   ],
   "source": [
    "# Remaining unprocessed columns include binary variables\n",
    "len(train_x.columns) - (len(numerical_features) + len(categorical_features))"
   ]
  },
  {
   "cell_type": "code",
   "execution_count": 26,
   "id": "d26def4a",
   "metadata": {},
   "outputs": [],
   "source": [
    "all_columns = list(train_x.columns)"
   ]
  },
  {
   "cell_type": "code",
   "execution_count": 27,
   "id": "e7e798e9",
   "metadata": {},
   "outputs": [
    {
     "data": {
      "text/plain": [
       "90"
      ]
     },
     "execution_count": 27,
     "metadata": {},
     "output_type": "execute_result"
    }
   ],
   "source": [
    "# Prints number of columns after removing columns that are numerical or categorical. \n",
    "for i in list(numerical_features + categorical_features):\n",
    "    all_columns.remove(i)\n",
    "len(all_columns)"
   ]
  },
  {
   "cell_type": "code",
   "execution_count": 28,
   "id": "c9de2915",
   "metadata": {},
   "outputs": [],
   "source": [
    "preprocessor = ColumnTransformer(\n",
    "    transformers = [\n",
    "        ('num', numerical_transformer, numerical_features),\n",
    "        ('cat', categorical_transformer, categorical_features)],\n",
    "    remainder = 'passthrough')"
   ]
  },
  {
   "cell_type": "markdown",
   "id": "d9b0ad1c",
   "metadata": {},
   "source": [
    "## 2. Gradient boosting survival model"
   ]
  },
  {
   "cell_type": "code",
   "execution_count": 29,
   "id": "a73081d6",
   "metadata": {},
   "outputs": [],
   "source": [
    "from sklearn.experimental import enable_halving_search_cv\n",
    "from sklearn.model_selection import StratifiedKFold, HalvingGridSearchCV\n",
    "from sklearn.pipeline import make_pipeline\n",
    "\n",
    "from sksurv.ensemble import GradientBoostingSurvivalAnalysis\n",
    "from sksurv.metrics import cumulative_dynamic_auc, as_cumulative_dynamic_auc_scorer\n",
    "\n",
    "from joblib import dump, load \n",
    "\n",
    "import matplotlib.pyplot as plt\n",
    "\n",
    "import warnings "
   ]
  },
  {
   "cell_type": "markdown",
   "id": "b9480325",
   "metadata": {},
   "source": [
    "**The gradient boosting survival model will be configured by setting a low learning rate (eg., <= 0.1) and choosing the number of trees by monitoring the 1 year AUC on the valdiation dataset and stopping once performance on the validation dataset begins to degrade. The learning rate will be tuned to achieve a target tree size >500. Once learning rate and tree number are set, a halving grid search with 3-fold cross validation will be performed to identify ideal max depth and subsample percentage.**  "
   ]
  },
  {
   "cell_type": "markdown",
   "id": "fbcc6efb",
   "metadata": {},
   "source": [
    "### 2.1 Determining number of trees for full model "
   ]
  },
  {
   "cell_type": "markdown",
   "id": "9bcde35b",
   "metadata": {},
   "source": [
    "**The full model includes all variables, notably 90 summary labs values which have significant missingness (>40%).**"
   ]
  },
  {
   "cell_type": "code",
   "execution_count": 30,
   "id": "7060c806",
   "metadata": {},
   "outputs": [
    {
     "name": "stdout",
     "output_type": "stream",
     "text": [
      "(41089, 210)\n",
      "(13697, 210)\n"
     ]
    }
   ],
   "source": [
    "print(sub_train_x.shape)\n",
    "print(val_x.shape)"
   ]
  },
  {
   "cell_type": "code",
   "execution_count": 31,
   "id": "cdffd8a0",
   "metadata": {},
   "outputs": [
    {
     "name": "stdout",
     "output_type": "stream",
     "text": [
      "      Iter       Train Loss      OOB Improve   Remaining Time \n",
      "         1      208565.2051          32.4486          498.29m\n",
      "         2      208794.6385          30.9620          498.95m\n",
      "         3      208900.5214          32.1751          498.21m\n",
      "         4      208854.9051          30.1561          497.86m\n",
      "         5      209067.3319          27.5748          497.36m\n",
      "         6      208348.3329          28.0982          496.86m\n",
      "         7      208873.3312          26.0178          496.60m\n",
      "         8      208078.4766          23.8382          496.21m\n",
      "         9      208263.4282          22.0678          495.77m\n",
      "        10      208289.2453          22.3027          495.34m\n",
      "        20      207034.7362          15.9052          492.42m\n",
      "        30      206752.5173          11.4947          489.05m\n",
      "        40      207134.8765           9.6838          485.58m\n",
      "        50      206517.0233           7.3744          482.13m\n",
      "        60      206497.2149           6.0181          478.75m\n",
      "        70      205685.9935           6.3974          475.49m\n",
      "        80      206005.5846           4.4131          472.20m\n",
      "        90      205580.4353           4.3331          468.87m\n",
      "       100      205753.3597           3.1781          465.59m\n",
      "       200      204520.1691           1.2108          432.42m\n",
      "       300      203924.3027           1.6246          399.54m\n",
      "       400      203805.8813          -0.0614          366.85m\n",
      "       500      203433.5968          -0.2527          333.87m\n",
      "       600      202797.2737           0.1096          300.67m\n",
      "       700      202314.1249           0.0026          267.41m\n",
      "       800      202594.8587          -0.4063          234.08m\n",
      "       900      202098.1112          -0.2438          200.72m\n",
      "      1000      201777.2166           0.1878          167.31m\n"
     ]
    },
    {
     "data": {
      "text/plain": [
       "GradientBoostingSurvivalAnalysis(learning_rate=0.05, n_estimators=1500,\n",
       "                                 random_state=42, subsample=0.75, verbose=1)"
      ]
     },
     "execution_count": 37,
     "metadata": {},
     "output_type": "execute_result"
    }
   ],
   "source": [
    "sub_train_xt = preprocessor.fit_transform(sub_train_x)\n",
    "val_xt = preprocessor.transform(val_x)\n",
    "\n",
    "gbm_exp = GradientBoostingSurvivalAnalysis(n_estimators = 1500,\n",
    "                                           learning_rate = 0.05,\n",
    "                                           max_depth = 3,\n",
    "                                           subsample = 0.75,\n",
    "                                           verbose = 1,\n",
    "                                           random_state = 42)\n",
    "\n",
    "gbm_exp.fit(sub_train_xt, sub_train_y)"
   ]
  },
  {
   "cell_type": "code",
   "execution_count": 32,
   "id": "e1052d99",
   "metadata": {},
   "outputs": [],
   "source": [
    "gbm_staged_auc = [cumulative_dynamic_auc(sub_train_y, val_y, risk_score, 365)[0][0] \n",
    "                  for risk_score in gbm_exp.staged_predict(val_xt)]"
   ]
  },
  {
   "cell_type": "code",
   "execution_count": 33,
   "id": "b95a9f54",
   "metadata": {},
   "outputs": [],
   "source": [
    "gbm_staged_auc_tr = [cumulative_dynamic_auc(sub_train_y, sub_train_y, risk_score, 365)[0][0] \n",
    "                     for risk_score in gbm_exp.staged_predict(sub_train_xt)]"
   ]
  },
  {
   "cell_type": "code",
   "execution_count": 34,
   "id": "c424e8d2",
   "metadata": {},
   "outputs": [
    {
     "data": {
      "image/png": "[encoded data removed]",
      "text/plain": [
       "<Figure size 432x288 with 1 Axes>"
      ]
     },
     "metadata": {
      "needs_background": "light"
     },
     "output_type": "display_data"
    }
   ],
   "source": [
    "fig = plt.figure()\n",
    "ax = fig.add_subplot(1, 1, 1)\n",
    "\n",
    "x = range(len(gbm_staged_auc))\n",
    "plt.plot(x, gbm_staged_auc, color = 'blue', label = 'validation')\n",
    "plt.plot(x, gbm_staged_auc_tr, color = 'red', label = 'training')\n",
    "plt.legend(loc = 'lower right')\n",
    "\n",
    "plt.xlabel(\"n_estimators\")\n",
    "plt.ylabel(\"AUC at 1-year \")\n",
    "plt.title('Full gradient boosting model learning curve with learning rate of 0.05')\n",
    "\n",
    "plt.show()"
   ]
  },
  {
   "cell_type": "code",
   "execution_count": 35,
   "id": "cb01c209",
   "metadata": {},
   "outputs": [],
   "source": [
    "# Average AUC for every 25 additional trees. \n",
    "mean_auc_list = []\n",
    "for x in np.arange(0, len(gbm_staged_auc), 25):\n",
    "    mean_auc_list.append(np.mean(gbm_staged_auc[x:x+24]))"
   ]
  },
  {
   "cell_type": "code",
   "execution_count": 36,
   "id": "047c8820",
   "metadata": {},
   "outputs": [
    {
     "name": "stdout",
     "output_type": "stream",
     "text": [
      "Number of trees where 1 year AUC on validation dataset beings to downgrade: 1125\n",
      "Validation dataset AUC before degrading: 0.7817657118378613\n",
      "Training dataset AUC before degrading: 0.8150570276634403\n"
     ]
    }
   ],
   "source": [
    "print('Number of trees where 1 year AUC on validation dataset beings to downgrade:', np.where(np.diff(mean_auc_list) < 0)[0][0]*25)\n",
    "print('Validation dataset AUC before degrading:', gbm_staged_auc[np.where(np.diff(mean_auc_list) < 0)[0][0]*25])\n",
    "print('Training dataset AUC before degrading:', gbm_staged_auc_tr[np.where(np.diff(mean_auc_list) < 0)[0][0]*25])"
   ]
  },
  {
   "cell_type": "markdown",
   "id": "7dc5a222",
   "metadata": {},
   "source": [
    "### 2.2 Determining number of trees for sparse model "
   ]
  },
  {
   "cell_type": "markdown",
   "id": "385f2743",
   "metadata": {},
   "source": [
    "**The sparse model includes a subset of the summary lab values that are considered clinically relevant. Performance will be compared to the full model.**"
   ]
  },
  {
   "cell_type": "code",
   "execution_count": 37,
   "id": "02ee8e8c",
   "metadata": {},
   "outputs": [],
   "source": [
    "all_labs = [\n",
    "    'albumin_diag',\n",
    "    'alp_diag',\n",
    "    'alt_diag',\n",
    "    'ast_diag',\n",
    "    'bicarb_diag',\n",
    "    'bun_diag',\n",
    "    'calcium_diag',\n",
    "    'chloride_diag',\n",
    "    'creatinine_diag',\n",
    "    'hemoglobin_diag',\n",
    "    'neutrophil_count_diag',\n",
    "    'platelet_diag',\n",
    "    'potassium_diag',\n",
    "    'sodium_diag',\n",
    "    'total_bilirubin_diag',\n",
    "    'wbc_diag',\n",
    "    'albumin_diag_na',\n",
    "    'alp_diag_na',\n",
    "    'alt_diag_na',\n",
    "    'ast_diag_na',\n",
    "    'bicarb_diag_na',\n",
    "    'bun_diag_na',\n",
    "    'calcium_diag_na',\n",
    "    'chloride_diag_na',\n",
    "    'creatinine_diag_na',\n",
    "    'hemoglobin_diag_na',\n",
    "    'neutrophil_count_diag_na',\n",
    "    'platelet_diag_na',\n",
    "    'potassium_diag_na',\n",
    "    'sodium_diag_na',\n",
    "    'total_bilirubin_diag_na',\n",
    "    'wbc_diag_na',\n",
    "    'albumin_avg',\n",
    "    'alp_avg',\n",
    "    'alt_avg',\n",
    "    'ast_avg',\n",
    "    'bicarb_avg',\n",
    "    'bun_avg',\n",
    "    'calcium_avg',\n",
    "    'chloride_avg',\n",
    "    'creatinine_avg',\n",
    "    'hemoglobin_avg',\n",
    "    'neutrophil_count_avg',\n",
    "    'platelet_avg',\n",
    "    'potassium_avg',\n",
    "    'sodium_avg',\n",
    "    'total_bilirubin_avg',\n",
    "    'wbc_avg',\n",
    "    'albumin_max',\n",
    "    'alp_max',\n",
    "    'alt_max',\n",
    "    'ast_max',\n",
    "    'bicarb_max',\n",
    "    'bun_max',\n",
    "    'calcium_max',\n",
    "    'chloride_max',\n",
    "    'creatinine_max',\n",
    "    'hemoglobin_max',\n",
    "    'neutrophil_count_max',\n",
    "    'platelet_max',\n",
    "    'potassium_max',\n",
    "    'sodium_max',\n",
    "    'total_bilirubin_max',\n",
    "    'wbc_max',\n",
    "    'albumin_min',\n",
    "    'alp_min',\n",
    "    'alt_min',\n",
    "    'ast_min',\n",
    "    'bicarb_min',\n",
    "    'bun_min',\n",
    "    'calcium_min',\n",
    "    'chloride_min',\n",
    "    'creatinine_min',\n",
    "    'hemoglobin_min',\n",
    "    'neutrophil_count_min',\n",
    "    'platelet_min',\n",
    "    'potassium_min',\n",
    "    'sodium_min',\n",
    "    'total_bilirubin_min',\n",
    "    'wbc_min',\n",
    "    'albumin_std',\n",
    "    'alp_std',\n",
    "    'alt_std',\n",
    "    'ast_std',\n",
    "    'bicarb_std',\n",
    "    'bun_std',\n",
    "    'calcium_std',\n",
    "    'chloride_std',\n",
    "    'creatinine_std',\n",
    "    'hemoglobin_std',\n",
    "    'neutrophil_count_std',\n",
    "    'platelet_std',\n",
    "    'potassium_std',\n",
    "    'sodium_std',\n",
    "    'total_bilirubin_std',\n",
    "    'wbc_std',\n",
    "    'albumin_slope',\n",
    "    'alp_slope',\n",
    "    'alt_slope',\n",
    "    'ast_slope',\n",
    "    'bicarb_slope',\n",
    "    'bun_slope',\n",
    "    'calcium_slope',\n",
    "    'chloride_slope',\n",
    "    'creatinine_slope',\n",
    "    'hemoglobin_slope',\n",
    "    'neutrophil_count_slope',\n",
    "    'platelet_slope',\n",
    "    'potassium_slope',\n",
    "    'sodium_slope',\n",
    "    'total_bilirubin_slope',\n",
    "    'wbc_slope',\n",
    "    'albumin_slope_na',\n",
    "    'alp_slope_na',\n",
    "    'alt_slope_na',\n",
    "    'ast_slope_na',\n",
    "    'bicarb_slope_na',\n",
    "    'bun_slope_na',\n",
    "    'calcium_slope_na',\n",
    "    'chloride_slope_na',\n",
    "    'creatinine_slope_na',\n",
    "    'hemoglobin_slope_na',\n",
    "    'neutrophil_count_slope_na',\n",
    "    'platelet_slope_na',\n",
    "    'potassium_slope_na',\n",
    "    'sodium_slope_na',\n",
    "    'total_bilirubin_slope_na',\n",
    "    'wbc_slope_na']"
   ]
  },
  {
   "cell_type": "code",
   "execution_count": 38,
   "id": "cec980fe",
   "metadata": {},
   "outputs": [],
   "source": [
    "keep_labs = [\n",
    "    'albumin_diag',\n",
    "    'alp_diag',\n",
    "    'alt_diag',\n",
    "    'ast_diag',\n",
    "    'bicarb_diag',\n",
    "    'bun_diag',\n",
    "    'calcium_diag',\n",
    "    'chloride_diag',\n",
    "    'creatinine_diag',\n",
    "    'hemoglobin_diag',\n",
    "    'neutrophil_count_diag',\n",
    "    'platelet_diag',\n",
    "    'potassium_diag',\n",
    "    'sodium_diag',\n",
    "    'total_bilirubin_diag',\n",
    "    'wbc_diag',\n",
    "    'albumin_diag_na',\n",
    "    'alp_diag_na',\n",
    "    'alt_diag_na',\n",
    "    'ast_diag_na',\n",
    "    'bicarb_diag_na',\n",
    "    'bun_diag_na',\n",
    "    'calcium_diag_na',\n",
    "    'chloride_diag_na',\n",
    "    'creatinine_diag_na',\n",
    "    'hemoglobin_diag_na',\n",
    "    'neutrophil_count_diag_na',\n",
    "    'platelet_diag_na',\n",
    "    'potassium_diag_na',\n",
    "    'sodium_diag_na',\n",
    "    'total_bilirubin_diag_na',\n",
    "    'wbc_diag_na',\n",
    "    'alp_max',\n",
    "    'alt_max',\n",
    "    'ast_max',\n",
    "    'calcium_max',\n",
    "    'creatinine_max',\n",
    "    'total_bilirubin_max',\n",
    "    'wbc_max',\n",
    "    'albumin_min',\n",
    "    'bicarb_min',\n",
    "    'hemoglobin_min',\n",
    "    'platelet_min',\n",
    "    'sodium_min',\n",
    "    'wbc_min']"
   ]
  },
  {
   "cell_type": "code",
   "execution_count": 39,
   "id": "df610cd5",
   "metadata": {},
   "outputs": [],
   "source": [
    "drop_labs = [\n",
    "    'albumin_avg',\n",
    "    'alp_avg',\n",
    "    'alt_avg',\n",
    "    'ast_avg',\n",
    "    'bicarb_avg',\n",
    "    'bun_avg',\n",
    "    'calcium_avg',\n",
    "    'chloride_avg',\n",
    "    'creatinine_avg',\n",
    "    'hemoglobin_avg',\n",
    "    'neutrophil_count_avg',\n",
    "    'platelet_avg',\n",
    "    'potassium_avg',\n",
    "    'sodium_avg',\n",
    "    'total_bilirubin_avg',\n",
    "    'wbc_avg',\n",
    "    'albumin_max',\n",
    "    'bicarb_max',\n",
    "    'bun_max',\n",
    "    'chloride_max',\n",
    "    'hemoglobin_max',\n",
    "    'neutrophil_count_max',\n",
    "    'platelet_max',\n",
    "    'potassium_max',\n",
    "    'sodium_max',\n",
    "    'alp_min',\n",
    "    'alt_min',\n",
    "    'ast_min',\n",
    "    'bun_min',\n",
    "    'calcium_min',\n",
    "    'chloride_min',\n",
    "    'creatinine_min',\n",
    "    'neutrophil_count_min',\n",
    "    'potassium_min',\n",
    "    'total_bilirubin_min',\n",
    "    'albumin_std',\n",
    "    'alp_std',\n",
    "    'alt_std',\n",
    "    'ast_std',\n",
    "    'bicarb_std',\n",
    "    'bun_std',\n",
    "    'calcium_std',\n",
    "    'chloride_std',\n",
    "    'creatinine_std',\n",
    "    'hemoglobin_std',\n",
    "    'neutrophil_count_std',\n",
    "    'platelet_std',\n",
    "    'potassium_std',\n",
    "    'sodium_std',\n",
    "    'total_bilirubin_std',\n",
    "    'wbc_std',\n",
    "    'albumin_slope',\n",
    "    'alp_slope',\n",
    "    'alt_slope',\n",
    "    'ast_slope',\n",
    "    'bicarb_slope',\n",
    "    'bun_slope',\n",
    "    'calcium_slope',\n",
    "    'chloride_slope',\n",
    "    'creatinine_slope',\n",
    "    'hemoglobin_slope',\n",
    "    'neutrophil_count_slope',\n",
    "    'platelet_slope',\n",
    "    'potassium_slope',\n",
    "    'sodium_slope',\n",
    "    'total_bilirubin_slope',\n",
    "    'wbc_slope',\n",
    "    'albumin_slope_na',\n",
    "    'alp_slope_na',\n",
    "    'alt_slope_na',\n",
    "    'ast_slope_na',\n",
    "    'bicarb_slope_na',\n",
    "    'bun_slope_na',\n",
    "    'calcium_slope_na',\n",
    "    'chloride_slope_na',\n",
    "    'creatinine_slope_na',\n",
    "    'hemoglobin_slope_na',\n",
    "    'neutrophil_count_slope_na',\n",
    "    'platelet_slope_na',\n",
    "    'potassium_slope_na',\n",
    "    'sodium_slope_na',\n",
    "    'total_bilirubin_slope_na',\n",
    "    'wbc_slope_na']"
   ]
  },
  {
   "cell_type": "code",
   "execution_count": 40,
   "id": "88c2c778",
   "metadata": {},
   "outputs": [
    {
     "data": {
      "text/plain": [
       "True"
      ]
     },
     "execution_count": 46,
     "metadata": {},
     "output_type": "execute_result"
    }
   ],
   "source": [
    "len(keep_labs) + len(drop_labs) == len(all_labs)"
   ]
  },
  {
   "cell_type": "code",
   "execution_count": 41,
   "id": "586752cd",
   "metadata": {},
   "outputs": [],
   "source": [
    "sub_train_x_red = sub_train_x.drop(columns = drop_labs)\n",
    "val_x_red = val_x.drop(columns = drop_labs)"
   ]
  },
  {
   "cell_type": "code",
   "execution_count": 42,
   "id": "aeda489f",
   "metadata": {},
   "outputs": [
    {
     "name": "stdout",
     "output_type": "stream",
     "text": [
      "(41089, 210)\n",
      "(41089, 127)\n",
      "(13697, 210)\n",
      "(13697, 127)\n"
     ]
    }
   ],
   "source": [
    "print(sub_train_x.shape)\n",
    "print(sub_train_x_red.shape)\n",
    "print(val_x.shape)\n",
    "print(val_x_red.shape)"
   ]
  },
  {
   "cell_type": "code",
   "execution_count": 43,
   "id": "cf33aba6",
   "metadata": {},
   "outputs": [],
   "source": [
    "sub_train_x_red.loc[:, 'alp_max_na'] = np.where(sub_train_x_red['alp_max'].isna(), 1, 0)\n",
    "sub_train_x_red.loc[:, 'alt_max_na'] = np.where(sub_train_x_red['alt_max'].isna(), 1, 0)\n",
    "sub_train_x_red.loc[:, 'ast_max_na'] = np.where(sub_train_x_red['ast_max'].isna(), 1, 0)\n",
    "sub_train_x_red.loc[:, 'calcium_max_na'] = np.where(sub_train_x_red['calcium_max'].isna(), 1, 0)\n",
    "sub_train_x_red.loc[:, 'creatinine_max_na'] = np.where(sub_train_x_red['creatinine_max'].isna(), 1, 0)\n",
    "sub_train_x_red.loc[:, 'total_bilirubin_max_na'] = np.where(sub_train_x_red['total_bilirubin_max'].isna(), 1, 0)\n",
    "sub_train_x_red.loc[:, 'wbc_max_na'] = np.where(sub_train_x_red['wbc_max'].isna(), 1, 0)\n",
    "sub_train_x_red.loc[:, 'albumin_min_na'] = np.where(sub_train_x_red['albumin_min'].isna(), 1, 0)\n",
    "sub_train_x_red.loc[:, 'bicarb_min_na'] = np.where(sub_train_x_red['bicarb_min'].isna(), 1, 0)\n",
    "sub_train_x_red.loc[:, 'hemoglobin_min_na'] = np.where(sub_train_x_red['hemoglobin_min'].isna(), 1, 0)\n",
    "sub_train_x_red.loc[:, 'platelet_min_na'] = np.where(sub_train_x_red['platelet_min'].isna(), 1, 0)\n",
    "sub_train_x_red.loc[:, 'sodium_min_na'] = np.where(sub_train_x_red['sodium_min'].isna(), 1, 0)\n",
    "sub_train_x_red.loc[:, 'wbc_min_na'] = np.where(sub_train_x_red['wbc_min'].isna(), 1, 0)"
   ]
  },
  {
   "cell_type": "code",
   "execution_count": 44,
   "id": "07d363bd",
   "metadata": {},
   "outputs": [],
   "source": [
    "val_x_red.loc[:, 'alp_max_na'] = np.where(val_x_red['alp_max'].isna(), 1, 0)\n",
    "val_x_red.loc[:, 'alt_max_na'] = np.where(val_x_red['alt_max'].isna(), 1, 0)\n",
    "val_x_red.loc[:, 'ast_max_na'] = np.where(val_x_red['ast_max'].isna(), 1, 0)\n",
    "val_x_red.loc[:, 'calcium_max_na'] = np.where(val_x_red['calcium_max'].isna(), 1, 0)\n",
    "val_x_red.loc[:, 'creatinine_max_na'] = np.where(val_x_red['creatinine_max'].isna(), 1, 0)\n",
    "val_x_red.loc[:, 'total_bilirubin_max_na'] = np.where(val_x_red['total_bilirubin_max'].isna(), 1, 0)\n",
    "val_x_red.loc[:, 'wbc_max_na'] = np.where(val_x_red['wbc_max'].isna(), 1, 0)\n",
    "val_x_red.loc[:, 'albumin_min_na'] = np.where(val_x_red['albumin_min'].isna(), 1, 0)\n",
    "val_x_red.loc[:, 'bicarb_min_na'] = np.where(val_x_red['bicarb_min'].isna(), 1, 0)\n",
    "val_x_red.loc[:, 'hemoglobin_min_na'] = np.where(val_x_red['hemoglobin_min'].isna(), 1, 0)\n",
    "val_x_red.loc[:, 'platelet_min_na'] = np.where(val_x_red['platelet_min'].isna(), 1, 0)\n",
    "val_x_red.loc[:, 'sodium_min_na'] = np.where(val_x_red['sodium_min'].isna(), 1, 0)\n",
    "val_x_red.loc[:, 'wbc_min_na'] = np.where(val_x_red['wbc_min'].isna(), 1, 0)"
   ]
  },
  {
   "cell_type": "code",
   "execution_count": 45,
   "id": "563f3a7a",
   "metadata": {},
   "outputs": [],
   "source": [
    "# List of numeric variables, excluding binary variables. \n",
    "numerical_features_red = [\n",
    "    'age',\n",
    "    'delta_adv_diagnosis',\n",
    "    'weight_diag',\n",
    "    'bmi_diag',\n",
    "    'weight_pct_change',\n",
    "    'weight_slope',\n",
    "    'albumin_diag',\n",
    "    'alp_diag',\n",
    "    'alt_diag',\n",
    "    'ast_diag',\n",
    "    'bicarb_diag',\n",
    "    'bun_diag',\n",
    "    'calcium_diag',\n",
    "    'chloride_diag',\n",
    "    'creatinine_diag',\n",
    "    'hemoglobin_diag',\n",
    "    'neutrophil_count_diag',\n",
    "    'platelet_diag',\n",
    "    'potassium_diag',\n",
    "    'sodium_diag',\n",
    "    'total_bilirubin_diag',\n",
    "    'wbc_diag',\n",
    "    'alp_max',\n",
    "    'alt_max',\n",
    "    'ast_max',\n",
    "    'calcium_max',\n",
    "    'creatinine_max',\n",
    "    'total_bilirubin_max',\n",
    "    'wbc_max',\n",
    "    'albumin_min',\n",
    "    'bicarb_min',\n",
    "    'hemoglobin_min',\n",
    "    'platelet_min',\n",
    "    'sodium_min',\n",
    "    'wbc_min',\n",
    "    'icd_count']\n",
    "\n",
    "# Transformer will impute column medians and then apply a standard scaler. \n",
    "numerical_transformer = Pipeline(steps = [\n",
    "    ('imputer', SimpleImputer(strategy = 'median')),\n",
    "    ('std_scaler', StandardScaler())])"
   ]
  },
  {
   "cell_type": "code",
   "execution_count": 46,
   "id": "bf4ed923",
   "metadata": {},
   "outputs": [],
   "source": [
    "preprocessor_red = ColumnTransformer(\n",
    "    transformers = [\n",
    "        ('num', numerical_transformer, numerical_features_red),\n",
    "        ('cat', categorical_transformer, categorical_features)],\n",
    "    remainder = 'passthrough')"
   ]
  },
  {
   "cell_type": "code",
   "execution_count": 47,
   "id": "243e9528",
   "metadata": {},
   "outputs": [
    {
     "name": "stdout",
     "output_type": "stream",
     "text": [
      "(41089, 140)\n",
      "(41089,)\n",
      "(13697, 140)\n",
      "(13697,)\n"
     ]
    }
   ],
   "source": [
    "print(sub_train_x_red.shape)\n",
    "print(sub_train_y.shape)\n",
    "print(val_x_red.shape)\n",
    "print(val_y.shape)"
   ]
  },
  {
   "cell_type": "code",
   "execution_count": 48,
   "id": "6b8d79bd",
   "metadata": {},
   "outputs": [
    {
     "data": {
      "text/plain": [
       "['PracticeType',\n",
       " 'gender',\n",
       " 'race',\n",
       " 'ethnicity',\n",
       " 'age',\n",
       " 'region',\n",
       " 'Histology',\n",
       " 'SmokingStatus',\n",
       " 'stage',\n",
       " 'adv_year',\n",
       " 'delta_adv_diagnosis',\n",
       " 'steroid_diag',\n",
       " 'opioid_PO_diag',\n",
       " 'nonopioid_PO_diag',\n",
       " 'pain_IV_diag',\n",
       " 'ac_diag',\n",
       " 'antiinfective_IV_diag',\n",
       " 'antiinfective_diag',\n",
       " 'antihyperglycemic_diag',\n",
       " 'ppi_diag',\n",
       " 'antidepressant_diag',\n",
       " 'bta_diag',\n",
       " 'thyroid_diag',\n",
       " 'is_diag',\n",
       " 'ALK',\n",
       " 'BRAF',\n",
       " 'EGFR',\n",
       " 'KRAS',\n",
       " 'ROS1',\n",
       " 'pdl1',\n",
       " 'pdl1_n',\n",
       " 'commercial',\n",
       " 'medicare',\n",
       " 'medicaid',\n",
       " 'other_insurance',\n",
       " 'ecog_diagnosis',\n",
       " 'weight_diag',\n",
       " 'bmi_diag',\n",
       " 'bmi_diag_na',\n",
       " 'weight_pct_change',\n",
       " 'weight_pct_na',\n",
       " 'weight_slope',\n",
       " 'albumin_diag',\n",
       " 'alp_diag',\n",
       " 'alt_diag',\n",
       " 'ast_diag',\n",
       " 'bicarb_diag',\n",
       " 'bun_diag',\n",
       " 'calcium_diag',\n",
       " 'chloride_diag',\n",
       " 'creatinine_diag',\n",
       " 'hemoglobin_diag',\n",
       " 'neutrophil_count_diag',\n",
       " 'platelet_diag',\n",
       " 'potassium_diag',\n",
       " 'sodium_diag',\n",
       " 'total_bilirubin_diag',\n",
       " 'wbc_diag',\n",
       " 'albumin_diag_na',\n",
       " 'alp_diag_na',\n",
       " 'alt_diag_na',\n",
       " 'ast_diag_na',\n",
       " 'bicarb_diag_na',\n",
       " 'bun_diag_na',\n",
       " 'calcium_diag_na',\n",
       " 'chloride_diag_na',\n",
       " 'creatinine_diag_na',\n",
       " 'hemoglobin_diag_na',\n",
       " 'neutrophil_count_diag_na',\n",
       " 'platelet_diag_na',\n",
       " 'potassium_diag_na',\n",
       " 'sodium_diag_na',\n",
       " 'total_bilirubin_diag_na',\n",
       " 'wbc_diag_na',\n",
       " 'alp_max',\n",
       " 'alt_max',\n",
       " 'ast_max',\n",
       " 'calcium_max',\n",
       " 'creatinine_max',\n",
       " 'total_bilirubin_max',\n",
       " 'wbc_max',\n",
       " 'albumin_min',\n",
       " 'bicarb_min',\n",
       " 'hemoglobin_min',\n",
       " 'platelet_min',\n",
       " 'sodium_min',\n",
       " 'wbc_min',\n",
       " 'chf',\n",
       " 'cardiac_arrhythmias',\n",
       " 'valvular_disease',\n",
       " 'pulmonary_circulation',\n",
       " 'peripheral_vascular',\n",
       " 'htn_uncomplicated',\n",
       " 'htn_complicated',\n",
       " 'paralysis',\n",
       " 'other_neuro_disorders',\n",
       " 'chronic_pulmonary',\n",
       " 'diabetes_uncomplicated',\n",
       " 'diabetes_complicated',\n",
       " 'hypothyroidism',\n",
       " 'renal_failure',\n",
       " 'liver_disease',\n",
       " 'peptic_ulcer_disease',\n",
       " 'aids_hiv',\n",
       " 'lymphoma',\n",
       " 'metastatic_cancer',\n",
       " 'solid_tumor_wout_mets',\n",
       " 'rheumatoid_arthritis',\n",
       " 'coagulopathy',\n",
       " 'obesity',\n",
       " 'weight_loss',\n",
       " 'fluid_electrolyte',\n",
       " 'blood_loss_anemia',\n",
       " 'deficiency_anemia',\n",
       " 'alcohol_abuse',\n",
       " 'drug_abuse',\n",
       " 'psychoses',\n",
       " 'depression',\n",
       " 'elixhauser_other',\n",
       " 'icd_count',\n",
       " 'other_cancer',\n",
       " 'cns_met',\n",
       " 'bone_met',\n",
       " 'liver_met',\n",
       " 'resp_met',\n",
       " 'adrenal_met',\n",
       " 'other_met',\n",
       " 'alp_max_na',\n",
       " 'alt_max_na',\n",
       " 'ast_max_na',\n",
       " 'calcium_max_na',\n",
       " 'creatinine_max_na',\n",
       " 'total_bilirubin_max_na',\n",
       " 'wbc_max_na',\n",
       " 'albumin_min_na',\n",
       " 'bicarb_min_na',\n",
       " 'hemoglobin_min_na',\n",
       " 'platelet_min_na',\n",
       " 'sodium_min_na',\n",
       " 'wbc_min_na']"
      ]
     },
     "execution_count": 54,
     "metadata": {},
     "output_type": "execute_result"
    }
   ],
   "source": [
    "list(sub_train_x_red.columns)"
   ]
  },
  {
   "cell_type": "code",
   "execution_count": 49,
   "id": "f27f04a0",
   "metadata": {},
   "outputs": [
    {
     "name": "stdout",
     "output_type": "stream",
     "text": [
      "      Iter       Train Loss      OOB Improve   Remaining Time \n",
      "         1      208565.8420          34.3303          496.49m\n",
      "         2      208795.5642          30.7579          498.11m\n",
      "         3      208901.2937          31.7237          497.73m\n",
      "         4      208856.7110          29.7326          497.07m\n",
      "         5      209068.8401          28.5139          496.49m\n",
      "         6      208350.4263          27.5346          495.97m\n",
      "         7      208876.3562          26.5964          495.88m\n",
      "         8      208080.4282          23.5778          495.43m\n",
      "         9      208268.3260          22.5249          495.38m\n",
      "        10      208293.4179          24.1108          494.93m\n",
      "        20      207035.8445          15.9054          491.13m\n",
      "        30      206755.5262          11.7527          487.78m\n",
      "        40      207143.6961           9.7981          484.66m\n",
      "        50      206522.7435           7.9061          481.34m\n",
      "        60      206512.8143           6.1942          478.09m\n",
      "        70      205704.6762           5.4756          474.90m\n",
      "        80      206019.8843           3.9366          471.55m\n",
      "        90      205602.6695           4.2154          468.23m\n",
      "       100      205776.3581           3.5888          464.84m\n",
      "       200      204557.3616           1.8289          431.55m\n",
      "       300      203996.3777          -0.0200          397.61m\n",
      "       400      203895.4862           0.6996          364.61m\n",
      "       500      203557.9664           0.1649          331.51m\n",
      "       600      202941.1755          -0.3292          298.43m\n",
      "       700      202485.3581           0.0839          265.31m\n",
      "       800      202776.6015          -0.5584          232.18m\n",
      "       900      202308.5151          -0.0524          199.04m\n",
      "      1000      202022.2001          -0.2331          165.92m\n"
     ]
    },
    {
     "data": {
      "text/plain": [
       "GradientBoostingSurvivalAnalysis(learning_rate=0.05, n_estimators=1500,\n",
       "                                 random_state=42, subsample=0.75, verbose=1)"
      ]
     },
     "execution_count": 55,
     "metadata": {},
     "output_type": "execute_result"
    }
   ],
   "source": [
    "sub_train_xt_red = preprocessor_red.fit_transform(sub_train_x_red)\n",
    "val_xt_red = preprocessor_red.transform(val_x_red)\n",
    "\n",
    "gbm_exp2 = GradientBoostingSurvivalAnalysis(n_estimators = 1500,\n",
    "                                           learning_rate = 0.05,\n",
    "                                           max_depth = 3,\n",
    "                                           subsample = 0.75,\n",
    "                                           verbose = 1,\n",
    "                                           random_state = 42)\n",
    "\n",
    "gbm_exp2.fit(sub_train_xt_red, sub_train_y)"
   ]
  },
  {
   "cell_type": "code",
   "execution_count": 50,
   "id": "af46ac9d",
   "metadata": {},
   "outputs": [],
   "source": [
    "gbm2_staged_auc = [cumulative_dynamic_auc(sub_train_y, val_y, risk_score, 365)[0][0] for \n",
    "                   risk_score in gbm_exp2.staged_predict(val_xt_red)]"
   ]
  },
  {
   "cell_type": "code",
   "execution_count": 51,
   "id": "62bee797",
   "metadata": {},
   "outputs": [],
   "source": [
    "gbm2_staged_auc_tr = [cumulative_dynamic_auc(sub_train_y, sub_train_y, risk_score, 365)[0][0] for \n",
    "                      risk_score in gbm_exp2.staged_predict(sub_train_xt_red)]"
   ]
  },
  {
   "cell_type": "code",
   "execution_count": 52,
   "id": "58178865",
   "metadata": {},
   "outputs": [
    {
     "data": {
      "image/png": "[encoded data removed]",
      "text/plain": [
       "<Figure size 432x288 with 1 Axes>"
      ]
     },
     "metadata": {
      "needs_background": "light"
     },
     "output_type": "display_data"
    }
   ],
   "source": [
    "fig = plt.figure()\n",
    "ax = fig.add_subplot(1, 1, 1)\n",
    "\n",
    "x = range(len(gbm2_staged_auc))\n",
    "plt.plot(x, gbm2_staged_auc, color = 'blue', label = 'validation')\n",
    "plt.plot(x, gbm2_staged_auc_tr, color = 'red', label = 'training')\n",
    "plt.legend(loc = 'lower right')\n",
    "\n",
    "plt.xlabel(\"n_estimators\")\n",
    "plt.ylabel(\"AUC at 1-year \")\n",
    "plt.title('Gradient boosting model learning curve for sparse dataset')\n",
    "\n",
    "plt.show()"
   ]
  },
  {
   "cell_type": "code",
   "execution_count": 53,
   "id": "6b459a19",
   "metadata": {},
   "outputs": [],
   "source": [
    "# Average AUC for every 25 additional trees. \n",
    "mean2_auc_list = []\n",
    "for x in np.arange(0, len(gbm2_staged_auc), 25):\n",
    "    mean2_auc_list.append(np.mean(gbm2_staged_auc[x:x+24]))"
   ]
  },
  {
   "cell_type": "code",
   "execution_count": 54,
   "id": "a33726c7",
   "metadata": {},
   "outputs": [
    {
     "name": "stdout",
     "output_type": "stream",
     "text": [
      "Number of trees where 1 year AUC on validation dataset beings to downgrade: 1425\n",
      "Validation dataset AUC before degrading: 0.7834668381319828\n",
      "Training dataset AUC before degrading: 0.8167228765980818\n"
     ]
    }
   ],
   "source": [
    "print('Number of trees where 1 year AUC on validation dataset beings to downgrade:', np.where(np.diff(mean2_auc_list) < 0)[0][0]*25)\n",
    "print('Validation dataset AUC before degrading:', gbm2_staged_auc[np.where(np.diff(mean2_auc_list) < 0)[0][0]*25])\n",
    "print('Training dataset AUC before degrading:', gbm2_staged_auc_tr[np.where(np.diff(mean2_auc_list) < 0)[0][0]*25])"
   ]
  },
  {
   "cell_type": "markdown",
   "id": "d866373f",
   "metadata": {},
   "source": [
    "**Performance of the sparse model appears about equivalent to the full model in regards to discriminatory performance on the validation set. The advantages of using the sparse model include less risk of overfitting of training set, faster computational speed, and improved interpretability of feature importance. In addition, there might be improved imputations of missing values with MICE. For these reasons, we'll plan to proceed with the sparse model.**"
   ]
  },
  {
   "cell_type": "markdown",
   "id": "683127f7",
   "metadata": {},
   "source": [
    "### 2.3 Further tuning of tree hyperparameters"
   ]
  },
  {
   "cell_type": "markdown",
   "id": "7e044090",
   "metadata": {},
   "source": [
    "**Tree depth and subsample will be tuned using a halving grid search with 3-fold cross validation. The other main tree hyperparameter is the minimum sample size in a terminal node (ie., leaf), but since we're using short trees it's unlikely to have significant impact on performance and so we'll omit from the parameter search to save computing time.** \n",
    "\n",
    "**A traditional cartesian grid search is not feasible for the gradient boosting model with our dataset given how computationally expensive they are to build. Instead, a halving grid search will be performed which is much faster than a traditional cartesian grid search. The major drawback of the halving grid search is that good configurations that are slow to converge at the beginning will be pruned prematurely so you can’t be entirely ensure that you’ve identified the best hyperparameters. Patients that meet criteria for the 90-day gap are used in the search given more stable distributions of survival times.**"
   ]
  },
  {
   "cell_type": "code",
   "execution_count": 55,
   "id": "0a7da4c7",
   "metadata": {},
   "outputs": [],
   "source": [
    "train_x_red = train_x.drop(columns = drop_labs)"
   ]
  },
  {
   "cell_type": "code",
   "execution_count": 56,
   "id": "5fed990d",
   "metadata": {},
   "outputs": [],
   "source": [
    "train_x_red.loc[:, 'alp_max_na'] = np.where(train_x_red['alp_max'].isna(), 1, 0)\n",
    "train_x_red.loc[:, 'alt_max_na'] = np.where(train_x_red['alt_max'].isna(), 1, 0)\n",
    "train_x_red.loc[:, 'ast_max_na'] = np.where(train_x_red['ast_max'].isna(), 1, 0)\n",
    "train_x_red.loc[:, 'calcium_max_na'] = np.where(train_x_red['calcium_max'].isna(), 1, 0)\n",
    "train_x_red.loc[:, 'creatinine_max_na'] = np.where(train_x_red['creatinine_max'].isna(), 1, 0)\n",
    "train_x_red.loc[:, 'total_bilirubin_max_na'] = np.where(train_x_red['total_bilirubin_max'].isna(), 1, 0)\n",
    "train_x_red.loc[:, 'wbc_max_na'] = np.where(train_x_red['wbc_max'].isna(), 1, 0)\n",
    "train_x_red.loc[:, 'albumin_min_na'] = np.where(train_x_red['albumin_min'].isna(), 1, 0)\n",
    "train_x_red.loc[:, 'bicarb_min_na'] = np.where(train_x_red['bicarb_min'].isna(), 1, 0)\n",
    "train_x_red.loc[:, 'hemoglobin_min_na'] = np.where(train_x_red['hemoglobin_min'].isna(), 1, 0)\n",
    "train_x_red.loc[:, 'platelet_min_na'] = np.where(train_x_red['platelet_min'].isna(), 1, 0)\n",
    "train_x_red.loc[:, 'sodium_min_na'] = np.where(train_x_red['sodium_min'].isna(), 1, 0)\n",
    "train_x_red.loc[:, 'wbc_min_na'] = np.where(train_x_red['wbc_min'].isna(), 1, 0)"
   ]
  },
  {
   "cell_type": "code",
   "execution_count": 57,
   "id": "ba57ca5f",
   "metadata": {},
   "outputs": [
    {
     "data": {
      "text/plain": [
       "(54786, 140)"
      ]
     },
     "execution_count": 269,
     "metadata": {},
     "output_type": "execute_result"
    }
   ],
   "source": [
    "train_x_red.shape"
   ]
  },
  {
   "cell_type": "code",
   "execution_count": 58,
   "id": "1a6dc81a",
   "metadata": {},
   "outputs": [
    {
     "data": {
      "text/plain": [
       "(54786,)"
      ]
     },
     "execution_count": 270,
     "metadata": {},
     "output_type": "execute_result"
    }
   ],
   "source": [
    "train_y.shape"
   ]
  },
  {
   "cell_type": "code",
   "execution_count": 59,
   "id": "16a09d6c",
   "metadata": {},
   "outputs": [
    {
     "data": {
      "text/plain": [
       "['estimator',\n",
       " 'estimator__columntransformer',\n",
       " 'estimator__columntransformer__cat',\n",
       " 'estimator__columntransformer__cat__categories',\n",
       " 'estimator__columntransformer__cat__drop',\n",
       " 'estimator__columntransformer__cat__dtype',\n",
       " 'estimator__columntransformer__cat__handle_unknown',\n",
       " 'estimator__columntransformer__cat__sparse',\n",
       " 'estimator__columntransformer__n_jobs',\n",
       " 'estimator__columntransformer__num',\n",
       " 'estimator__columntransformer__num__imputer',\n",
       " 'estimator__columntransformer__num__imputer__add_indicator',\n",
       " 'estimator__columntransformer__num__imputer__copy',\n",
       " 'estimator__columntransformer__num__imputer__fill_value',\n",
       " 'estimator__columntransformer__num__imputer__missing_values',\n",
       " 'estimator__columntransformer__num__imputer__strategy',\n",
       " 'estimator__columntransformer__num__imputer__verbose',\n",
       " 'estimator__columntransformer__num__memory',\n",
       " 'estimator__columntransformer__num__std_scaler',\n",
       " 'estimator__columntransformer__num__std_scaler__copy',\n",
       " 'estimator__columntransformer__num__std_scaler__with_mean',\n",
       " 'estimator__columntransformer__num__std_scaler__with_std',\n",
       " 'estimator__columntransformer__num__steps',\n",
       " 'estimator__columntransformer__num__verbose',\n",
       " 'estimator__columntransformer__remainder',\n",
       " 'estimator__columntransformer__sparse_threshold',\n",
       " 'estimator__columntransformer__transformer_weights',\n",
       " 'estimator__columntransformer__transformers',\n",
       " 'estimator__columntransformer__verbose',\n",
       " 'estimator__columntransformer__verbose_feature_names_out',\n",
       " 'estimator__gradientboostingsurvivalanalysis',\n",
       " 'estimator__gradientboostingsurvivalanalysis__ccp_alpha',\n",
       " 'estimator__gradientboostingsurvivalanalysis__criterion',\n",
       " 'estimator__gradientboostingsurvivalanalysis__dropout_rate',\n",
       " 'estimator__gradientboostingsurvivalanalysis__learning_rate',\n",
       " 'estimator__gradientboostingsurvivalanalysis__loss',\n",
       " 'estimator__gradientboostingsurvivalanalysis__max_depth',\n",
       " 'estimator__gradientboostingsurvivalanalysis__max_features',\n",
       " 'estimator__gradientboostingsurvivalanalysis__max_leaf_nodes',\n",
       " 'estimator__gradientboostingsurvivalanalysis__min_impurity_decrease',\n",
       " 'estimator__gradientboostingsurvivalanalysis__min_samples_leaf',\n",
       " 'estimator__gradientboostingsurvivalanalysis__min_samples_split',\n",
       " 'estimator__gradientboostingsurvivalanalysis__min_weight_fraction_leaf',\n",
       " 'estimator__gradientboostingsurvivalanalysis__n_estimators',\n",
       " 'estimator__gradientboostingsurvivalanalysis__random_state',\n",
       " 'estimator__gradientboostingsurvivalanalysis__subsample',\n",
       " 'estimator__gradientboostingsurvivalanalysis__verbose',\n",
       " 'estimator__memory',\n",
       " 'estimator__steps',\n",
       " 'estimator__verbose',\n",
       " 'tied_tol',\n",
       " 'times']"
      ]
     },
     "execution_count": 242,
     "metadata": {},
     "output_type": "execute_result"
    }
   ],
   "source": [
    "# Find all pipe item unique keys \n",
    "pipe = make_pipeline(preprocessor_red, GradientBoostingSurvivalAnalysis(n_estimators = np.where(np.diff(mean2_auc_list) < 0)[0][0]*25,\n",
    "                                                                        learning_rate = 0.05,\n",
    "                                                                        random_state = 42))\n",
    "\n",
    "estimator = as_cumulative_dynamic_auc_scorer(pipe, times = [365])\n",
    "\n",
    "sorted(estimator.get_params().keys())"
   ]
  },
  {
   "cell_type": "code",
   "execution_count": 60,
   "id": "6042e7a9",
   "metadata": {},
   "outputs": [],
   "source": [
    "gap90_IDs = pd.read_csv('gap90_IDs.csv')"
   ]
  },
  {
   "cell_type": "code",
   "execution_count": 61,
   "id": "894cb123",
   "metadata": {},
   "outputs": [],
   "source": [
    "train90 = train[train.index.isin(gap90_IDs['PatientID'])]"
   ]
  },
  {
   "cell_type": "code",
   "execution_count": 62,
   "id": "4191a0e5",
   "metadata": {},
   "outputs": [],
   "source": [
    "train90_x_red = train_x_red[train_x_red.index.isin(gap90_IDs['PatientID'])]"
   ]
  },
  {
   "cell_type": "code",
   "execution_count": 63,
   "id": "a4f09ecb",
   "metadata": {},
   "outputs": [],
   "source": [
    "train90_y = np.array([tuple(x) for x in train90[['death_status', 'timerisk_activity']].values], \n",
    "                   dtype = list(zip(y_dtypes.index, y_dtypes)))"
   ]
  },
  {
   "cell_type": "code",
   "execution_count": 64,
   "id": "69a8c4f5",
   "metadata": {},
   "outputs": [
    {
     "data": {
      "text/plain": [
       "(49095, 140)"
      ]
     },
     "execution_count": 300,
     "metadata": {},
     "output_type": "execute_result"
    }
   ],
   "source": [
    "train90_x_red.shape"
   ]
  },
  {
   "cell_type": "code",
   "execution_count": 65,
   "id": "40e1a1a2",
   "metadata": {},
   "outputs": [
    {
     "data": {
      "text/plain": [
       "(49095,)"
      ]
     },
     "execution_count": 301,
     "metadata": {},
     "output_type": "execute_result"
    }
   ],
   "source": [
    "train90_y.shape"
   ]
  },
  {
   "cell_type": "code",
   "execution_count": 66,
   "id": "84e66ac8",
   "metadata": {},
   "outputs": [
    {
     "name": "stdout",
     "output_type": "stream",
     "text": [
      "n_iterations: 4\n",
      "n_required_iterations: 4\n",
      "n_possible_iterations: 4\n",
      "min_resources_: 3750\n",
      "max_resources_: 30000\n",
      "aggressive_elimination: False\n",
      "factor: 2\n",
      "----------\n",
      "iter: 0\n",
      "n_candidates: 9\n",
      "n_resources: 3750\n",
      "Fitting 3 folds for each of 9 candidates, totalling 27 fits\n",
      "----------\n",
      "iter: 1\n",
      "n_candidates: 5\n",
      "n_resources: 7500\n",
      "Fitting 3 folds for each of 5 candidates, totalling 15 fits\n",
      "----------\n",
      "iter: 2\n",
      "n_candidates: 3\n",
      "n_resources: 15000\n",
      "Fitting 3 folds for each of 3 candidates, totalling 9 fits\n",
      "----------\n",
      "iter: 3\n",
      "n_candidates: 2\n",
      "n_resources: 30000\n",
      "Fitting 3 folds for each of 2 candidates, totalling 6 fits\n"
     ]
    },
    {
     "name": "stderr",
     "output_type": "stream",
     "text": [
      "/Applications/anaconda3/lib/python3.7/site-packages/sklearn/model_selection/_validation.py:774: UserWarning: Scoring failed. The score on this train-test partition for these parameters will be set to nan. Details: \n",
      "Traceback (most recent call last):\n",
      "  File \"/Applications/anaconda3/lib/python3.7/site-packages/sklearn/model_selection/_validation.py\", line 761, in _score\n",
      "    scores = scorer(estimator, X_test, y_test)\n",
      "  File \"/Applications/anaconda3/lib/python3.7/site-packages/sklearn/metrics/_scorer.py\", line 418, in _passthrough_scorer\n",
      "    return estimator.score(*args, **kwargs)\n",
      "  File \"/Applications/anaconda3/lib/python3.7/site-packages/sksurv/metrics.py\", line 795, in score\n",
      "    **self._get_score_params(),\n",
      "  File \"/Applications/anaconda3/lib/python3.7/site-packages/sksurv/metrics.py\", line 466, in cumulative_dynamic_auc\n",
      "    ipcw = cens.predict_ipcw(survival_test)\n",
      "  File \"/Applications/anaconda3/lib/python3.7/site-packages/sksurv/nonparametric.py\", line 445, in predict_ipcw\n",
      "    Ghat = self.predict_proba(time[event])\n",
      "  File \"/Applications/anaconda3/lib/python3.7/site-packages/sksurv/nonparametric.py\", line 381, in predict_proba\n",
      "    \"observed time point: {}\".format(self.unique_time_[-1]))\n",
      "ValueError: time must be smaller than largest observed time point: 3660.0\n",
      "\n",
      "  UserWarning,\n"
     ]
    },
    {
     "data": {
      "text/plain": [
       "HalvingGridSearchCV(cv=StratifiedKFold(n_splits=3, random_state=42, shuffle=True),\n",
       "                    estimator=as_cumulative_dynamic_auc_scorer(estimator=Pipeline(steps=[('columntransformer',\n",
       "                                                                                          ColumnTransformer(remainder='passthrough',\n",
       "                                                                                                            transformers=[('num',\n",
       "                                                                                                                           Pipeline(steps=[('imputer',\n",
       "                                                                                                                                            SimpleImputer(strategy='median')),\n",
       "                                                                                                                                           ('std_scaler',\n",
       "                                                                                                                                            StandardScaler())]),\n",
       "                                                                                                                           ['age',\n",
       "                                                                                                                            'delta_adv_diag...\n",
       "                                                                                          GradientBoostingSurvivalAnalysis(learning_rate=0.05,\n",
       "                                                                                                                           n_estimators=1425,\n",
       "                                                                                                                           random_state=42))]),\n",
       "                                                               times=365),\n",
       "                    factor=2, max_resources=30000, n_jobs=-1,\n",
       "                    param_grid={'estimator__gradientboostingsurvivalanalysis__max_depth': [2,\n",
       "                                                                                           3,\n",
       "                                                                                           4],\n",
       "                                'estimator__gradientboostingsurvivalanalysis__subsample': [0.5,\n",
       "                                                                                           0.75,\n",
       "                                                                                           0.9]},\n",
       "                    random_state=42, refit=False, return_train_score=False,\n",
       "                    verbose=1)"
      ]
     },
     "execution_count": 303,
     "metadata": {},
     "output_type": "execute_result"
    }
   ],
   "source": [
    "pipe = make_pipeline(preprocessor_red, GradientBoostingSurvivalAnalysis(n_estimators = 1425,\n",
    "                                                                        learning_rate = 0.05,\n",
    "                                                                        random_state = 42))\n",
    "\n",
    "warnings.filterwarnings('ignore')\n",
    "\n",
    "# 3 fold cross-validation\n",
    "cv = StratifiedKFold(n_splits = 3, shuffle = True, random_state = 42)\n",
    "\n",
    "# Parameter gird \n",
    "param_grid = {'estimator__gradientboostingsurvivalanalysis__max_depth': [2, 3, 4], \n",
    "              'estimator__gradientboostingsurvivalanalysis__subsample': [0.5, 0.75, 0.9]}\n",
    "\n",
    "gbm_search = HalvingGridSearchCV(\n",
    "    as_cumulative_dynamic_auc_scorer(pipe, 365),\n",
    "    param_grid,\n",
    "    cv = cv,\n",
    "    factor = 2,\n",
    "    resource = 'n_samples',\n",
    "    max_resources = 30000,\n",
    "    return_train_score = False,\n",
    "    refit = False,\n",
    "    verbose = 1,\n",
    "    random_state = 42,\n",
    "    n_jobs = -1)\n",
    "\n",
    "# Run search\n",
    "gbm_search.fit(train90_x_red, train90_y)"
   ]
  },
  {
   "cell_type": "code",
   "execution_count": 67,
   "id": "2f4f0d81",
   "metadata": {},
   "outputs": [
    {
     "data": {
      "text/plain": [
       "{'estimator__gradientboostingsurvivalanalysis__max_depth': 2,\n",
       " 'estimator__gradientboostingsurvivalanalysis__subsample': 0.75}"
      ]
     },
     "execution_count": 304,
     "metadata": {},
     "output_type": "execute_result"
    }
   ],
   "source": [
    "gbm_search.best_params_"
   ]
  },
  {
   "cell_type": "markdown",
   "id": "5cd51e28",
   "metadata": {},
   "source": [
    "### 2.4 Building and evaluating final model "
   ]
  },
  {
   "cell_type": "code",
   "execution_count": 68,
   "id": "30e351e0",
   "metadata": {},
   "outputs": [],
   "source": [
    "test_x_red = test_x.drop(columns = drop_labs)"
   ]
  },
  {
   "cell_type": "code",
   "execution_count": 69,
   "id": "c5936b93",
   "metadata": {},
   "outputs": [],
   "source": [
    "test_x_red.loc[:, 'alp_max_na'] = np.where(test_x_red['alp_max'].isna(), 1, 0)\n",
    "test_x_red.loc[:, 'alt_max_na'] = np.where(test_x_red['alt_max'].isna(), 1, 0)\n",
    "test_x_red.loc[:, 'ast_max_na'] = np.where(test_x_red['ast_max'].isna(), 1, 0)\n",
    "test_x_red.loc[:, 'calcium_max_na'] = np.where(test_x_red['calcium_max'].isna(), 1, 0)\n",
    "test_x_red.loc[:, 'creatinine_max_na'] = np.where(test_x_red['creatinine_max'].isna(), 1, 0)\n",
    "test_x_red.loc[:, 'total_bilirubin_max_na'] = np.where(test_x_red['total_bilirubin_max'].isna(), 1, 0)\n",
    "test_x_red.loc[:, 'wbc_max_na'] = np.where(test_x_red['wbc_max'].isna(), 1, 0)\n",
    "test_x_red.loc[:, 'albumin_min_na'] = np.where(test_x_red['albumin_min'].isna(), 1, 0)\n",
    "test_x_red.loc[:, 'bicarb_min_na'] = np.where(test_x_red['bicarb_min'].isna(), 1, 0)\n",
    "test_x_red.loc[:, 'hemoglobin_min_na'] = np.where(test_x_red['hemoglobin_min'].isna(), 1, 0)\n",
    "test_x_red.loc[:, 'platelet_min_na'] = np.where(test_x_red['platelet_min'].isna(), 1, 0)\n",
    "test_x_red.loc[:, 'sodium_min_na'] = np.where(test_x_red['sodium_min'].isna(), 1, 0)\n",
    "test_x_red.loc[:, 'wbc_min_na'] = np.where(test_x_red['wbc_min'].isna(), 1, 0)"
   ]
  },
  {
   "cell_type": "code",
   "execution_count": 70,
   "id": "70fdb407",
   "metadata": {},
   "outputs": [
    {
     "data": {
      "text/plain": [
       "(13697, 140)"
      ]
     },
     "execution_count": 318,
     "metadata": {},
     "output_type": "execute_result"
    }
   ],
   "source": [
    "test_x_red.shape"
   ]
  },
  {
   "cell_type": "code",
   "execution_count": 71,
   "id": "ec551be7",
   "metadata": {
    "scrolled": true
   },
   "outputs": [
    {
     "name": "stdout",
     "output_type": "stream",
     "text": [
      "      Iter       Train Loss      OOB Improve   Remaining Time \n",
      "         1      286857.1106          37.7982          834.02m\n",
      "         2      287228.6502          35.7491          830.20m\n",
      "         3      287234.4924          32.0929          834.60m\n",
      "         4      287022.0469          34.0250          832.60m\n",
      "         5      286884.3804          30.0560          830.60m\n",
      "         6      285936.2690          30.0314          829.08m\n",
      "         7      286525.2915          26.4745          828.16m\n",
      "         8      286157.8421          27.1070          826.95m\n",
      "         9      286876.1477          25.5154          826.03m\n",
      "        10      286390.4608          23.9852          825.56m\n",
      "        20      285609.5233          16.0913          818.41m\n",
      "        30      285569.0830          11.8151          812.00m\n",
      "        40      285177.3184           9.4000          806.25m\n",
      "        50      284467.6271           7.6351          801.55m\n",
      "        60      283970.6836           6.8511          796.61m\n",
      "        70      284134.0278           6.2123          791.80m\n",
      "        80      283979.8401           5.5986          786.65m\n",
      "        90      283618.4782           4.9795          781.04m\n",
      "       100      283137.3317           5.5184          775.20m\n",
      "       200      282889.5299           2.2927          716.46m\n",
      "       300      281580.5977           0.9478          658.53m\n",
      "       400      281396.4940           0.6424          600.36m\n",
      "       500      281223.2835           0.1422          541.89m\n",
      "       600      280701.7816           0.0124          483.37m\n",
      "       700      281029.2882          -0.0269          424.82m\n",
      "       800      279978.8749          -0.0054          366.24m\n",
      "       900      280061.0294           0.3492          307.63m\n",
      "      1000      280376.5946          -0.0125          248.94m\n"
     ]
    },
    {
     "data": {
      "text/plain": [
       "Pipeline(steps=[('columntransformer',\n",
       "                 ColumnTransformer(remainder='passthrough',\n",
       "                                   transformers=[('num',\n",
       "                                                  Pipeline(steps=[('imputer',\n",
       "                                                                   SimpleImputer(strategy='median')),\n",
       "                                                                  ('std_scaler',\n",
       "                                                                   StandardScaler())]),\n",
       "                                                  ['age', 'delta_adv_diagnosis',\n",
       "                                                   'weight_diag', 'bmi_diag',\n",
       "                                                   'weight_pct_change',\n",
       "                                                   'weight_slope',\n",
       "                                                   'albumin_diag', 'alp_diag',\n",
       "                                                   'alt_diag', 'ast_diag',\n",
       "                                                   'bicarb_diag', 'bun...\n",
       "                                                  OneHotEncoder(handle_unknown='ignore'),\n",
       "                                                  ['PracticeType', 'gender',\n",
       "                                                   'race', 'ethnicity',\n",
       "                                                   'region', 'Histology',\n",
       "                                                   'SmokingStatus', 'stage',\n",
       "                                                   'adv_year', 'ALK', 'BRAF',\n",
       "                                                   'EGFR', 'KRAS', 'ROS1',\n",
       "                                                   'pdl1', 'pdl1_n',\n",
       "                                                   'ecog_diagnosis'])])),\n",
       "                ('gradientboostingsurvivalanalysis',\n",
       "                 GradientBoostingSurvivalAnalysis(learning_rate=0.05,\n",
       "                                                  max_depth=2,\n",
       "                                                  n_estimators=1425,\n",
       "                                                  random_state=42,\n",
       "                                                  subsample=0.75, verbose=1))])"
      ]
     },
     "execution_count": 319,
     "metadata": {},
     "output_type": "execute_result"
    }
   ],
   "source": [
    "gbm_crude = make_pipeline(preprocessor_red, GradientBoostingSurvivalAnalysis(n_estimators = 1425,\n",
    "                                                                             learning_rate = 0.05,\n",
    "                                                                             max_depth = 2,\n",
    "                                                                             subsample = 0.75,\n",
    "                                                                             verbose = 1,\n",
    "                                                                             random_state = 42))\n",
    "\n",
    "gbm_crude.fit(train_x_red, train_y)"
   ]
  },
  {
   "cell_type": "code",
   "execution_count": 72,
   "id": "450a4486",
   "metadata": {},
   "outputs": [
    {
     "name": "stdout",
     "output_type": "stream",
     "text": [
      "Test set AUC at 1 year: 0.787442654421658\n"
     ]
    }
   ],
   "source": [
    "gbm_risk_scores_te = gbm_crude.predict(test_x_red)\n",
    "gbm_auc_te = cumulative_dynamic_auc(train_y, test_y, gbm_risk_scores_te, 365)[0][0]\n",
    "print('Test set AUC at 1 year:', gbm_auc_te)"
   ]
  },
  {
   "cell_type": "code",
   "execution_count": 73,
   "id": "646168dc",
   "metadata": {},
   "outputs": [
    {
     "name": "stdout",
     "output_type": "stream",
     "text": [
      "Training set AUC at 1 year: 0.7934495669814188\n"
     ]
    }
   ],
   "source": [
    "gbm_risk_scores_tr = gbm_crude.predict(train_x_red)\n",
    "gbm_auc_tr = cumulative_dynamic_auc(train_y, train_y, gbm_risk_scores_tr, 365)[0][0]\n",
    "print('Training set AUC at 1 year:', gbm_auc_tr)"
   ]
  },
  {
   "cell_type": "code",
   "execution_count": 74,
   "id": "21c2a7db",
   "metadata": {},
   "outputs": [],
   "source": [
    "# Bootstrap 10000 1 yr AUCs for test set \n",
    "n_bootstraps = 10000\n",
    "rng_seed = 42 \n",
    "bootstrapped_scores_te = []\n",
    "\n",
    "rng = np.random.RandomState(rng_seed)\n",
    "for i in range(n_bootstraps):\n",
    "    indices = rng.randint(0, len(gbm_risk_scores_te), len(gbm_risk_scores_te))\n",
    "    auc_yr = cumulative_dynamic_auc(train_y, test_y[indices], gbm_risk_scores_te[indices], 365)[0][0]\n",
    "    bootstrapped_scores_te.append(auc_yr)"
   ]
  },
  {
   "cell_type": "code",
   "execution_count": 75,
   "id": "17944d86",
   "metadata": {},
   "outputs": [
    {
     "name": "stdout",
     "output_type": "stream",
     "text": [
      "Test set AUC standard error: 0.004128065899577501\n"
     ]
    }
   ],
   "source": [
    "# Standard error of mean for test set AUC\n",
    "sorted_scores_te = np.array(bootstrapped_scores_te)\n",
    "sorted_scores_te.sort()\n",
    "\n",
    "conf_lower_te = sorted_scores_te[int(0.025 * len(sorted_scores_te))]\n",
    "conf_upper_te = sorted_scores_te[int(0.975 * len(sorted_scores_te))]\n",
    "\n",
    "standard_error_te = (conf_upper_te - conf_lower_te) / 3.92\n",
    "print('Test set AUC standard error:', standard_error_te)"
   ]
  },
  {
   "cell_type": "code",
   "execution_count": 76,
   "id": "e421ba69",
   "metadata": {},
   "outputs": [],
   "source": [
    "# Bootstrap 10000 1-yr AUCs for train set \n",
    "n_bootstraps = 10000\n",
    "rng_seed = 42 \n",
    "bootstrapped_scores_tr = []\n",
    "\n",
    "rng = np.random.RandomState(rng_seed)\n",
    "for i in range(n_bootstraps):\n",
    "    indices = rng.randint(0, len(gbm_risk_scores_tr), len(gbm_risk_scores_tr))\n",
    "    auc_yr = cumulative_dynamic_auc(train_y, train_y[indices], gbm_risk_scores_tr[indices], 365)[0][0]\n",
    "    bootstrapped_scores_tr.append(auc_yr)"
   ]
  },
  {
   "cell_type": "code",
   "execution_count": 77,
   "id": "c88acd39",
   "metadata": {},
   "outputs": [
    {
     "name": "stdout",
     "output_type": "stream",
     "text": [
      "Training set AUC standard error 0.0020305924319970843\n"
     ]
    }
   ],
   "source": [
    "# Standard error of mean for train set AUC\n",
    "sorted_scores_tr = np.array(bootstrapped_scores_tr)\n",
    "sorted_scores_tr.sort()\n",
    "\n",
    "conf_lower_tr = sorted_scores_tr[int(0.025 * len(sorted_scores_tr))]\n",
    "conf_upper_tr = sorted_scores_tr[int(0.975 * len(sorted_scores_tr))]\n",
    "\n",
    "standard_error_tr = (conf_upper_tr - conf_lower_tr) / 3.92\n",
    "print('Training set AUC standard error', standard_error_tr)"
   ]
  },
  {
   "cell_type": "code",
   "execution_count": 78,
   "id": "071f7766",
   "metadata": {},
   "outputs": [],
   "source": [
    "crude_auc_data = {'model': ['gbm_crude'],\n",
    "                  'auc_1yr_te': [gbm_auc_te],\n",
    "                  'sem_te': [standard_error_te],\n",
    "                  'auc_1yr_tr': [gbm_auc_tr],\n",
    "                  'sem_tr': [standard_error_tr]}\n",
    "\n",
    "crude_auc_df = pd.DataFrame(crude_auc_data)"
   ]
  },
  {
   "cell_type": "code",
   "execution_count": 79,
   "id": "0f0af58d",
   "metadata": {},
   "outputs": [
    {
     "data": {
      "text/html": [
       "<div>\n",
       "<style scoped>\n",
       "    .dataframe tbody tr th:only-of-type {\n",
       "        vertical-align: middle;\n",
       "    }\n",
       "\n",
       "    .dataframe tbody tr th {\n",
       "        vertical-align: top;\n",
       "    }\n",
       "\n",
       "    .dataframe thead th {\n",
       "        text-align: right;\n",
       "    }\n",
       "</style>\n",
       "<table border=\"1\" class=\"dataframe\">\n",
       "  <thead>\n",
       "    <tr style=\"text-align: right;\">\n",
       "      <th></th>\n",
       "      <th>model</th>\n",
       "      <th>auc_1yr_te</th>\n",
       "      <th>sem_te</th>\n",
       "      <th>auc_1yr_tr</th>\n",
       "      <th>sem_tr</th>\n",
       "    </tr>\n",
       "  </thead>\n",
       "  <tbody>\n",
       "    <tr>\n",
       "      <th>0</th>\n",
       "      <td>gbm_crude</td>\n",
       "      <td>0.787443</td>\n",
       "      <td>0.004128</td>\n",
       "      <td>0.79345</td>\n",
       "      <td>0.002031</td>\n",
       "    </tr>\n",
       "  </tbody>\n",
       "</table>\n",
       "</div>"
      ],
      "text/plain": [
       "       model  auc_1yr_te    sem_te  auc_1yr_tr    sem_tr\n",
       "0  gbm_crude    0.787443  0.004128     0.79345  0.002031"
      ]
     },
     "execution_count": 327,
     "metadata": {},
     "output_type": "execute_result"
    }
   ],
   "source": [
    "crude_auc_df"
   ]
  },
  {
   "cell_type": "code",
   "execution_count": 80,
   "id": "fa1ace4c",
   "metadata": {},
   "outputs": [],
   "source": [
    "crude_auc_df.to_csv('crude_auc_df.csv', index = False, header = True)"
   ]
  },
  {
   "cell_type": "code",
   "execution_count": 81,
   "id": "e394f1e6",
   "metadata": {},
   "outputs": [],
   "source": [
    "times = np.arange(30, 1810, 30)\n",
    "crude_gbm_auc_over5 = cumulative_dynamic_auc(train_y, test_y, gbm_risk_scores_te, times)[0]\n",
    "\n",
    "times_data = {}\n",
    "values = crude_gbm_auc_over5\n",
    "time_names = []\n",
    "\n",
    "for x in range(len(times)):\n",
    "    time_names.append('time_'+str(times[x]))\n",
    "\n",
    "for i in range(len(time_names)):\n",
    "    times_data[time_names[i]] = values[i]\n",
    "    \n",
    "crude_auc_over5 = pd.DataFrame(times_data, index = ['gbm_crude'])"
   ]
  },
  {
   "cell_type": "code",
   "execution_count": 82,
   "id": "dc5e2f00",
   "metadata": {},
   "outputs": [
    {
     "data": {
      "text/html": [
       "<div>\n",
       "<style scoped>\n",
       "    .dataframe tbody tr th:only-of-type {\n",
       "        vertical-align: middle;\n",
       "    }\n",
       "\n",
       "    .dataframe tbody tr th {\n",
       "        vertical-align: top;\n",
       "    }\n",
       "\n",
       "    .dataframe thead th {\n",
       "        text-align: right;\n",
       "    }\n",
       "</style>\n",
       "<table border=\"1\" class=\"dataframe\">\n",
       "  <thead>\n",
       "    <tr style=\"text-align: right;\">\n",
       "      <th></th>\n",
       "      <th>time_30</th>\n",
       "      <th>time_60</th>\n",
       "      <th>time_90</th>\n",
       "      <th>time_120</th>\n",
       "      <th>time_150</th>\n",
       "      <th>time_180</th>\n",
       "      <th>time_210</th>\n",
       "      <th>time_240</th>\n",
       "      <th>time_270</th>\n",
       "      <th>time_300</th>\n",
       "      <th>...</th>\n",
       "      <th>time_1530</th>\n",
       "      <th>time_1560</th>\n",
       "      <th>time_1590</th>\n",
       "      <th>time_1620</th>\n",
       "      <th>time_1650</th>\n",
       "      <th>time_1680</th>\n",
       "      <th>time_1710</th>\n",
       "      <th>time_1740</th>\n",
       "      <th>time_1770</th>\n",
       "      <th>time_1800</th>\n",
       "    </tr>\n",
       "  </thead>\n",
       "  <tbody>\n",
       "    <tr>\n",
       "      <th>gbm_crude</th>\n",
       "      <td>0.828087</td>\n",
       "      <td>0.837199</td>\n",
       "      <td>0.828516</td>\n",
       "      <td>0.822428</td>\n",
       "      <td>0.819805</td>\n",
       "      <td>0.812663</td>\n",
       "      <td>0.805503</td>\n",
       "      <td>0.801027</td>\n",
       "      <td>0.794772</td>\n",
       "      <td>0.791386</td>\n",
       "      <td>...</td>\n",
       "      <td>0.754921</td>\n",
       "      <td>0.755207</td>\n",
       "      <td>0.755186</td>\n",
       "      <td>0.753519</td>\n",
       "      <td>0.754502</td>\n",
       "      <td>0.755006</td>\n",
       "      <td>0.757776</td>\n",
       "      <td>0.757342</td>\n",
       "      <td>0.755963</td>\n",
       "      <td>0.760696</td>\n",
       "    </tr>\n",
       "  </tbody>\n",
       "</table>\n",
       "<p>1 rows × 60 columns</p>\n",
       "</div>"
      ],
      "text/plain": [
       "            time_30   time_60   time_90  time_120  time_150  time_180  \\\n",
       "gbm_crude  0.828087  0.837199  0.828516  0.822428  0.819805  0.812663   \n",
       "\n",
       "           time_210  time_240  time_270  time_300  ...  time_1530  time_1560  \\\n",
       "gbm_crude  0.805503  0.801027  0.794772  0.791386  ...   0.754921   0.755207   \n",
       "\n",
       "           time_1590  time_1620  time_1650  time_1680  time_1710  time_1740  \\\n",
       "gbm_crude   0.755186   0.753519   0.754502   0.755006   0.757776   0.757342   \n",
       "\n",
       "           time_1770  time_1800  \n",
       "gbm_crude   0.755963   0.760696  \n",
       "\n",
       "[1 rows x 60 columns]"
      ]
     },
     "execution_count": 330,
     "metadata": {},
     "output_type": "execute_result"
    }
   ],
   "source": [
    "crude_auc_over5"
   ]
  },
  {
   "cell_type": "code",
   "execution_count": 83,
   "id": "96d7e8e2",
   "metadata": {},
   "outputs": [],
   "source": [
    "crude_auc_over5.to_csv('crude_auc_over5.csv', index = True, header = True)"
   ]
  },
  {
   "cell_type": "code",
   "execution_count": 84,
   "id": "1488f41e",
   "metadata": {},
   "outputs": [],
   "source": [
    "# Variables passing through pipeline\n",
    "cat_encoder = list(preprocessor_red.transformers_[1][1].get_feature_names(categorical_features))\n",
    "pass_through = list(train_x_red.iloc[:, preprocessor_red.transformers_[2][2]].columns)\n",
    "attributes_gbm = numerical_features_red + cat_encoder + pass_through"
   ]
  },
  {
   "cell_type": "code",
   "execution_count": 85,
   "id": "55313b37",
   "metadata": {},
   "outputs": [
    {
     "name": "stdout",
     "output_type": "stream",
     "text": [
      "Total number of features: 192\n",
      "Number of non-zero features in final model: 138\n"
     ]
    },
    {
     "data": {
      "image/png": "[encoded data removed]",
      "text/plain": [
       "<Figure size 432x576 with 1 Axes>"
      ]
     },
     "metadata": {
      "needs_background": "light"
     },
     "output_type": "display_data"
    }
   ],
   "source": [
    "# Dataframe of coefficients for each variable \n",
    "coefficients_gbm = pd.DataFrame(\n",
    "    gbm_crude.named_steps['gradientboostingsurvivalanalysis'].feature_importances_,\n",
    "    index = attributes_gbm,\n",
    "    columns = ['coefficient']\n",
    ")\n",
    "\n",
    "print('Total number of features: {}'.format(len(attributes_gbm)))\n",
    "\n",
    "non_zero = np.sum(coefficients_gbm.iloc[:, 0] != 0)\n",
    "print('Number of non-zero features in final model: {}'.format(non_zero))\n",
    "\n",
    "non_zero_coefs = coefficients_gbm.query('coefficient != 0')\n",
    "coef_order = non_zero_coefs.abs().sort_values('coefficient').tail(30).index\n",
    "\n",
    "_, ax = plt.subplots(figsize=(6, 8))\n",
    "non_zero_coefs.loc[coef_order].plot.barh(ax = ax, legend = False)\n",
    "ax.set_xlabel('coefficient')\n",
    "ax.grid(True)"
   ]
  },
  {
   "cell_type": "markdown",
   "id": "76396d55",
   "metadata": {},
   "source": [
    "## 3 Random survival forest model"
   ]
  },
  {
   "cell_type": "code",
   "execution_count": 86,
   "id": "53d31fd0",
   "metadata": {},
   "outputs": [],
   "source": [
    "from sklearn.experimental import enable_halving_search_cv\n",
    "from sklearn.model_selection import StratifiedKFold, HalvingRandomSearchCV\n",
    "from sklearn.pipeline import make_pipeline\n",
    "\n",
    "from sksurv.metrics import cumulative_dynamic_auc, as_cumulative_dynamic_auc_scorer\n",
    "\n",
    "from sksurv.ensemble import RandomSurvivalForest\n",
    "\n",
    "import warnings "
   ]
  },
  {
   "cell_type": "markdown",
   "id": "55f75624",
   "metadata": {},
   "source": [
    "**Similar to the gradient boosting survival model, the random survival model will first be configured by determining ideal number of trees using early stopping. Unlike the gradient boosting survival model, however, the testing performance of the test set does not decrease with additional trees (ie., overfitting), so the main consideration is ensuring sufficiently high number of trees to achieve optimal test performance while minimzing computational time (ie., not building unnecessary number of trees). Once the ideal tree number is identified, a halving grid search with 3-fold cross validation will be performed to tune hyperparameters, though random forest models typically have excellent out-of-the-box performance so tuning will be cursory.**  "
   ]
  },
  {
   "cell_type": "markdown",
   "id": "2779fba5",
   "metadata": {},
   "source": [
    "### 3.1 Number of trees "
   ]
  },
  {
   "cell_type": "code",
   "execution_count": 87,
   "id": "ffee7eb8",
   "metadata": {},
   "outputs": [],
   "source": [
    "# Create function that adds tree one at a time, calculates AUC at 1-yr on validation set, \n",
    "# and breaks once validation AUC decreases 5 times in a row\n",
    "\n",
    "rsf = RandomSurvivalForest(min_samples_leaf = 10,\n",
    "                           max_features = 0.333,\n",
    "                           warm_start = True,\n",
    "                           verbose = 0,\n",
    "                           random_state = 42)\n",
    "\n",
    "sub_train_xt_red = preprocessor_red.fit_transform(sub_train_x_red)\n",
    "val_xt_red = preprocessor_red.transform(val_x_red)\n",
    "\n",
    "max_yr_auc = 0\n",
    "error_going_up = 0\n",
    "\n",
    "for n_estimators in range(1, 1000): \n",
    "    rsf.n_estimators = n_estimators\n",
    "    rsf.fit(sub_train_xt_red, sub_train_y)\n",
    "    \n",
    "    rsf_chf_funcs = rsf.predict_cumulative_hazard_function(val_xt_red)\n",
    "    rsf_risk_scores = np.row_stack([chf(365) for chf in rsf_chf_funcs])\n",
    "    rsf_yr_auc = cumulative_dynamic_auc(sub_train_y, val_y, rsf_risk_scores, 365)[0][0]\n",
    "    \n",
    "    if rsf_yr_auc > max_yr_auc:\n",
    "        max_yr_auc = rsf_yr_auc\n",
    "        error_going_up = 0\n",
    "    else:\n",
    "        error_going_up += 1\n",
    "        if error_going_up == 5:\n",
    "            break"
   ]
  },
  {
   "cell_type": "code",
   "execution_count": 88,
   "id": "270d4d54",
   "metadata": {},
   "outputs": [
    {
     "name": "stdout",
     "output_type": "stream",
     "text": [
      "Ideal number of trees: 78\n",
      "Validation set AUC at 1 year with ideal tree number: 0.76515\n"
     ]
    }
   ],
   "source": [
    "rsf_chf_funcs = rsf.predict_cumulative_hazard_function(val_xt_red)\n",
    "rsf_risk_scores = np.row_stack([chf(365) for chf in rsf_chf_funcs])\n",
    "rsf_yr_auc = cumulative_dynamic_auc(sub_train_y, val_y, rsf_risk_scores, 365)[0][0]\n",
    "\n",
    "print('Ideal number of trees:', rsf.n_estimators)\n",
    "print('Validation set AUC at 1 year with ideal tree number:', round(rsf_yr_auc, 5))"
   ]
  },
  {
   "cell_type": "markdown",
   "id": "c7838aed",
   "metadata": {},
   "source": [
    "### 3.2 Hyperparameter tuning "
   ]
  },
  {
   "cell_type": "markdown",
   "id": "1d0304ef",
   "metadata": {},
   "source": [
    "**About 100 trees will likely be enough to achieve optimal AUC performance. Next, we'll perform a grid search to tune hyperparameters. The hyperparamter with the largest impact on performance other than tree number is the number of features considered at any given split (ie., max_features). (Side note: if the number of features considered at each split includes all features (ie., max_features = 1) then the algrorithm will be equivalent to bagging decision trees.) Tree complexity, specifically number of samples in leaf nodes, will also be tuned in the grid search, though its impact on performance is likely marginal in comparison to number of trees or number of features considered at each split.** "
   ]
  },
  {
   "cell_type": "code",
   "execution_count": 89,
   "id": "a2fc85b2",
   "metadata": {},
   "outputs": [
    {
     "data": {
      "text/plain": [
       "['estimator',\n",
       " 'estimator__columntransformer',\n",
       " 'estimator__columntransformer__cat',\n",
       " 'estimator__columntransformer__cat__categories',\n",
       " 'estimator__columntransformer__cat__drop',\n",
       " 'estimator__columntransformer__cat__dtype',\n",
       " 'estimator__columntransformer__cat__handle_unknown',\n",
       " 'estimator__columntransformer__cat__sparse',\n",
       " 'estimator__columntransformer__n_jobs',\n",
       " 'estimator__columntransformer__num',\n",
       " 'estimator__columntransformer__num__imputer',\n",
       " 'estimator__columntransformer__num__imputer__add_indicator',\n",
       " 'estimator__columntransformer__num__imputer__copy',\n",
       " 'estimator__columntransformer__num__imputer__fill_value',\n",
       " 'estimator__columntransformer__num__imputer__missing_values',\n",
       " 'estimator__columntransformer__num__imputer__strategy',\n",
       " 'estimator__columntransformer__num__imputer__verbose',\n",
       " 'estimator__columntransformer__num__memory',\n",
       " 'estimator__columntransformer__num__std_scaler',\n",
       " 'estimator__columntransformer__num__std_scaler__copy',\n",
       " 'estimator__columntransformer__num__std_scaler__with_mean',\n",
       " 'estimator__columntransformer__num__std_scaler__with_std',\n",
       " 'estimator__columntransformer__num__steps',\n",
       " 'estimator__columntransformer__num__verbose',\n",
       " 'estimator__columntransformer__remainder',\n",
       " 'estimator__columntransformer__sparse_threshold',\n",
       " 'estimator__columntransformer__transformer_weights',\n",
       " 'estimator__columntransformer__transformers',\n",
       " 'estimator__columntransformer__verbose',\n",
       " 'estimator__columntransformer__verbose_feature_names_out',\n",
       " 'estimator__memory',\n",
       " 'estimator__randomsurvivalforest',\n",
       " 'estimator__randomsurvivalforest__bootstrap',\n",
       " 'estimator__randomsurvivalforest__max_depth',\n",
       " 'estimator__randomsurvivalforest__max_features',\n",
       " 'estimator__randomsurvivalforest__max_leaf_nodes',\n",
       " 'estimator__randomsurvivalforest__max_samples',\n",
       " 'estimator__randomsurvivalforest__min_samples_leaf',\n",
       " 'estimator__randomsurvivalforest__min_samples_split',\n",
       " 'estimator__randomsurvivalforest__min_weight_fraction_leaf',\n",
       " 'estimator__randomsurvivalforest__n_estimators',\n",
       " 'estimator__randomsurvivalforest__n_jobs',\n",
       " 'estimator__randomsurvivalforest__oob_score',\n",
       " 'estimator__randomsurvivalforest__random_state',\n",
       " 'estimator__randomsurvivalforest__verbose',\n",
       " 'estimator__randomsurvivalforest__warm_start',\n",
       " 'estimator__steps',\n",
       " 'estimator__verbose',\n",
       " 'tied_tol',\n",
       " 'times']"
      ]
     },
     "execution_count": 337,
     "metadata": {},
     "output_type": "execute_result"
    }
   ],
   "source": [
    "# Find all pipe item unique keys \n",
    "pipe = make_pipeline(preprocessor_red, RandomSurvivalForest(n_estimators = 100,\n",
    "                                                            verbose = 0,\n",
    "                                                            random_state = 42))\n",
    "\n",
    "estimator = as_cumulative_dynamic_auc_scorer(pipe, times = [365])\n",
    "\n",
    "sorted(estimator.get_params().keys())"
   ]
  },
  {
   "cell_type": "code",
   "execution_count": 90,
   "id": "fd87d093",
   "metadata": {},
   "outputs": [
    {
     "name": "stdout",
     "output_type": "stream",
     "text": [
      "n_iterations: 3\n",
      "n_required_iterations: 3\n",
      "n_possible_iterations: 3\n",
      "min_resources_: 3000\n",
      "max_resources_: 49095\n",
      "aggressive_elimination: False\n",
      "factor: 3\n",
      "----------\n",
      "iter: 0\n",
      "n_candidates: 15\n",
      "n_resources: 3000\n",
      "Fitting 3 folds for each of 15 candidates, totalling 45 fits\n",
      "----------\n",
      "iter: 1\n",
      "n_candidates: 5\n",
      "n_resources: 9000\n",
      "Fitting 3 folds for each of 5 candidates, totalling 15 fits\n",
      "----------\n",
      "iter: 2\n",
      "n_candidates: 2\n",
      "n_resources: 27000\n",
      "Fitting 3 folds for each of 2 candidates, totalling 6 fits\n"
     ]
    },
    {
     "name": "stderr",
     "output_type": "stream",
     "text": [
      "/Applications/anaconda3/lib/python3.7/site-packages/sklearn/model_selection/_validation.py:774: UserWarning: Scoring failed. The score on this train-test partition for these parameters will be set to nan. Details: \n",
      "Traceback (most recent call last):\n",
      "  File \"/Applications/anaconda3/lib/python3.7/site-packages/sklearn/model_selection/_validation.py\", line 761, in _score\n",
      "    scores = scorer(estimator, X_test, y_test)\n",
      "  File \"/Applications/anaconda3/lib/python3.7/site-packages/sklearn/metrics/_scorer.py\", line 418, in _passthrough_scorer\n",
      "    return estimator.score(*args, **kwargs)\n",
      "  File \"/Applications/anaconda3/lib/python3.7/site-packages/sksurv/metrics.py\", line 795, in score\n",
      "    **self._get_score_params(),\n",
      "  File \"/Applications/anaconda3/lib/python3.7/site-packages/sksurv/metrics.py\", line 466, in cumulative_dynamic_auc\n",
      "    ipcw = cens.predict_ipcw(survival_test)\n",
      "  File \"/Applications/anaconda3/lib/python3.7/site-packages/sksurv/nonparametric.py\", line 445, in predict_ipcw\n",
      "    Ghat = self.predict_proba(time[event])\n",
      "  File \"/Applications/anaconda3/lib/python3.7/site-packages/sksurv/nonparametric.py\", line 381, in predict_proba\n",
      "    \"observed time point: {}\".format(self.unique_time_[-1]))\n",
      "ValueError: time must be smaller than largest observed time point: 3660.0\n",
      "\n",
      "  UserWarning,\n"
     ]
    },
    {
     "data": {
      "text/plain": [
       "HalvingRandomSearchCV(cv=StratifiedKFold(n_splits=3, random_state=42, shuffle=True),\n",
       "                      estimator=as_cumulative_dynamic_auc_scorer(estimator=Pipeline(steps=[('columntransformer',\n",
       "                                                                                            ColumnTransformer(remainder='passthrough',\n",
       "                                                                                                              transformers=[('num',\n",
       "                                                                                                                             Pipeline(steps=[('imputer',\n",
       "                                                                                                                                              SimpleImputer(strategy='median')),\n",
       "                                                                                                                                             ('std_scaler',\n",
       "                                                                                                                                              StandardScaler())]),\n",
       "                                                                                                                             ['age',\n",
       "                                                                                                                              'delta_adv_di...\n",
       "                                                                                                                              'pdl1_n',\n",
       "                                                                                                                              'ecog_diagnosis'])])),\n",
       "                                                                                           ('randomsurvivalforest',\n",
       "                                                                                            RandomSurvivalForest(random_state=42))]),\n",
       "                                                                 times=365),\n",
       "                      min_resources=3000, n_jobs=-1,\n",
       "                      param_distributions={'estimator__randomsurvivalforest__max_features': [0.1,\n",
       "                                                                                             0.333,\n",
       "                                                                                             0.5,\n",
       "                                                                                             0.75,\n",
       "                                                                                             0.9],\n",
       "                                           'estimator__randomsurvivalforest__min_samples_leaf': [5,\n",
       "                                                                                                 10,\n",
       "                                                                                                 15]},\n",
       "                      random_state=42, refit=False, return_train_score=False,\n",
       "                      verbose=1)"
      ]
     },
     "execution_count": 338,
     "metadata": {},
     "output_type": "execute_result"
    }
   ],
   "source": [
    "pipe = make_pipeline(preprocessor_red, RandomSurvivalForest(n_estimators = 100,\n",
    "                                                            verbose = 0,\n",
    "                                                            random_state = 42))\n",
    "\n",
    "# 3 fold cross-validation\n",
    "cv = StratifiedKFold(n_splits = 3, shuffle = True, random_state = 42)\n",
    "\n",
    "# Parameter gird \n",
    "param_grid = {'estimator__randomsurvivalforest__max_features': [0.1, 0.333, 0.5, 0.75, 0.9], \n",
    "              'estimator__randomsurvivalforest__min_samples_leaf': [5, 10, 15]}\n",
    "\n",
    "rsf_search = HalvingRandomSearchCV(\n",
    "    as_cumulative_dynamic_auc_scorer(pipe, 365),\n",
    "    param_distributions = param_grid,\n",
    "    cv = cv,\n",
    "    factor = 3,\n",
    "    resource = 'n_samples',\n",
    "    min_resources = 3000,\n",
    "    return_train_score = False,\n",
    "    refit = False,\n",
    "    verbose = 1,\n",
    "    random_state = 42,\n",
    "    n_jobs = -1)\n",
    "\n",
    "# Run search \n",
    "warnings.filterwarnings('ignore')\n",
    "rsf_search.fit(train90_x_red, train90_y)"
   ]
  },
  {
   "cell_type": "code",
   "execution_count": 91,
   "id": "0b6579e0",
   "metadata": {},
   "outputs": [
    {
     "data": {
      "text/plain": [
       "{'estimator__randomsurvivalforest__min_samples_leaf': 10,\n",
       " 'estimator__randomsurvivalforest__max_features': 0.5}"
      ]
     },
     "execution_count": 339,
     "metadata": {},
     "output_type": "execute_result"
    }
   ],
   "source": [
    "rsf_search.best_params_"
   ]
  },
  {
   "cell_type": "markdown",
   "id": "5ec49cd5",
   "metadata": {},
   "source": [
    "### 3.3 Building model and assessing performance"
   ]
  },
  {
   "cell_type": "code",
   "execution_count": 92,
   "id": "28d8cc34",
   "metadata": {},
   "outputs": [
    {
     "data": {
      "text/plain": [
       "Pipeline(steps=[('columntransformer',\n",
       "                 ColumnTransformer(remainder='passthrough',\n",
       "                                   transformers=[('num',\n",
       "                                                  Pipeline(steps=[('imputer',\n",
       "                                                                   SimpleImputer(strategy='median')),\n",
       "                                                                  ('std_scaler',\n",
       "                                                                   StandardScaler())]),\n",
       "                                                  ['age', 'delta_adv_diagnosis',\n",
       "                                                   'weight_diag', 'bmi_diag',\n",
       "                                                   'weight_pct_change',\n",
       "                                                   'weight_slope',\n",
       "                                                   'albumin_diag', 'alp_diag',\n",
       "                                                   'alt_diag', 'ast_diag',\n",
       "                                                   'bicarb_diag', 'bun...\n",
       "                                                   'wbc_max', 'albumin_min', ...]),\n",
       "                                                 ('cat',\n",
       "                                                  OneHotEncoder(handle_unknown='ignore'),\n",
       "                                                  ['PracticeType', 'gender',\n",
       "                                                   'race', 'ethnicity',\n",
       "                                                   'region', 'Histology',\n",
       "                                                   'SmokingStatus', 'stage',\n",
       "                                                   'adv_year', 'ALK', 'BRAF',\n",
       "                                                   'EGFR', 'KRAS', 'ROS1',\n",
       "                                                   'pdl1', 'pdl1_n',\n",
       "                                                   'ecog_diagnosis'])])),\n",
       "                ('randomsurvivalforest',\n",
       "                 RandomSurvivalForest(max_features=0.5, min_samples_leaf=10,\n",
       "                                      n_jobs=-1, random_state=42))])"
      ]
     },
     "execution_count": 344,
     "metadata": {},
     "output_type": "execute_result"
    }
   ],
   "source": [
    "rsf = make_pipeline(preprocessor_red, RandomSurvivalForest(n_estimators = 100,\n",
    "                                                           max_features = 0.5, \n",
    "                                                           min_samples_leaf = 10,\n",
    "                                                           n_jobs = -1,\n",
    "                                                           verbose = 0,\n",
    "                                                           random_state = 42))\n",
    "\n",
    "rsf.fit(train_x_red, train_y)"
   ]
  },
  {
   "cell_type": "code",
   "execution_count": 93,
   "id": "065e1841",
   "metadata": {},
   "outputs": [
    {
     "name": "stdout",
     "output_type": "stream",
     "text": [
      "Test set AUC at 1 year: 0.7745935405691607\n"
     ]
    }
   ],
   "source": [
    "rsf_chf_funcs_te = rsf.predict_cumulative_hazard_function(test_x_red)\n",
    "rsf_risk_scores_te = np.row_stack([chf(365) for chf in rsf_chf_funcs_te])\n",
    "rsf_auc_te = cumulative_dynamic_auc(train_y, test_y, rsf_risk_scores_te, 365)[0][0]\n",
    "print('Test set AUC at 1 year:', rsf_auc_te)"
   ]
  },
  {
   "cell_type": "code",
   "execution_count": 94,
   "id": "700c4b20",
   "metadata": {},
   "outputs": [
    {
     "name": "stdout",
     "output_type": "stream",
     "text": [
      "Training set AUC at 1 year: 0.9010286981938638\n"
     ]
    }
   ],
   "source": [
    "rsf_risk_scores_tr = rsf.predict(train_x_red)\n",
    "rsf_auc_tr = cumulative_dynamic_auc(train_y, train_y, rsf_risk_scores_tr, 365)[0][0]\n",
    "print('Training set AUC at 1 year:', rsf_auc_tr)"
   ]
  },
  {
   "cell_type": "code",
   "execution_count": 95,
   "id": "a09b91f0",
   "metadata": {},
   "outputs": [],
   "source": [
    "# Bootstrap 10000 1 yr AUCs for test set \n",
    "n_bootstraps = 10000\n",
    "rng_seed = 42 \n",
    "bootstrapped_scores_te = []\n",
    "\n",
    "rng = np.random.RandomState(rng_seed)\n",
    "for i in range(n_bootstraps):\n",
    "    indices = rng.randint(0, len(rsf_risk_scores_te), len(rsf_risk_scores_te))\n",
    "    auc_yr = cumulative_dynamic_auc(train_y, test_y[indices], rsf_risk_scores_te[indices], 365)[0][0]\n",
    "    bootstrapped_scores_te.append(auc_yr)"
   ]
  },
  {
   "cell_type": "code",
   "execution_count": 96,
   "id": "5b06a18d",
   "metadata": {},
   "outputs": [
    {
     "name": "stdout",
     "output_type": "stream",
     "text": [
      "Test set AUC standard error: 0.0042136359808451615\n"
     ]
    }
   ],
   "source": [
    "# Standard error of mean for test set AUC\n",
    "sorted_scores_te = np.array(bootstrapped_scores_te)\n",
    "sorted_scores_te.sort()\n",
    "\n",
    "conf_lower_te = sorted_scores_te[int(0.025 * len(sorted_scores_te))]\n",
    "conf_upper_te = sorted_scores_te[int(0.975 * len(sorted_scores_te))]\n",
    "\n",
    "standard_error_te = (conf_upper_te - conf_lower_te) / 3.92\n",
    "print('Test set AUC standard error:', standard_error_te)"
   ]
  },
  {
   "cell_type": "code",
   "execution_count": 97,
   "id": "737d9b40",
   "metadata": {},
   "outputs": [],
   "source": [
    "# Bootstrap 10000 1-yr AUCs for train set \n",
    "n_bootstraps = 10000\n",
    "rng_seed = 42 \n",
    "bootstrapped_scores_tr = []\n",
    "\n",
    "rng = np.random.RandomState(rng_seed)\n",
    "for i in range(n_bootstraps):\n",
    "    indices = rng.randint(0, len(rsf_risk_scores_tr), len(rsf_risk_scores_tr))\n",
    "    auc_yr = cumulative_dynamic_auc(train_y, train_y[indices], rsf_risk_scores_tr[indices], 365)[0][0]\n",
    "    bootstrapped_scores_tr.append(auc_yr)"
   ]
  },
  {
   "cell_type": "code",
   "execution_count": 98,
   "id": "14979d26",
   "metadata": {},
   "outputs": [
    {
     "name": "stdout",
     "output_type": "stream",
     "text": [
      "Training set AUC standard error 0.0013518894082216206\n"
     ]
    }
   ],
   "source": [
    "# Standard error of mean for train set AUC\n",
    "sorted_scores_tr = np.array(bootstrapped_scores_tr)\n",
    "sorted_scores_tr.sort()\n",
    "\n",
    "conf_lower_tr = sorted_scores_tr[int(0.025 * len(sorted_scores_tr))]\n",
    "conf_upper_tr = sorted_scores_tr[int(0.975 * len(sorted_scores_tr))]\n",
    "\n",
    "standard_error_tr = (conf_upper_tr - conf_lower_tr) / 3.92\n",
    "print('Training set AUC standard error', standard_error_tr)"
   ]
  },
  {
   "cell_type": "code",
   "execution_count": 99,
   "id": "6dc9287a",
   "metadata": {},
   "outputs": [],
   "source": [
    "crude_auc_data = {'model': 'rsf_crude',\n",
    "                  'auc_1yr_te': rsf_auc_te,\n",
    "                  'sem_te': standard_error_te,\n",
    "                  'auc_1yr_tr': rsf_auc_tr,\n",
    "                  'sem_tr': standard_error_tr}"
   ]
  },
  {
   "cell_type": "code",
   "execution_count": 100,
   "id": "218a27a4",
   "metadata": {},
   "outputs": [],
   "source": [
    "crude_auc_df = pd.read_csv('crude_auc_df.csv')"
   ]
  },
  {
   "cell_type": "code",
   "execution_count": 101,
   "id": "b037f3bf",
   "metadata": {},
   "outputs": [],
   "source": [
    "crude_auc_df = crude_auc_df.append(crude_auc_data, ignore_index = True)"
   ]
  },
  {
   "cell_type": "code",
   "execution_count": 102,
   "id": "e725e6f8",
   "metadata": {},
   "outputs": [
    {
     "data": {
      "text/html": [
       "<div>\n",
       "<style scoped>\n",
       "    .dataframe tbody tr th:only-of-type {\n",
       "        vertical-align: middle;\n",
       "    }\n",
       "\n",
       "    .dataframe tbody tr th {\n",
       "        vertical-align: top;\n",
       "    }\n",
       "\n",
       "    .dataframe thead th {\n",
       "        text-align: right;\n",
       "    }\n",
       "</style>\n",
       "<table border=\"1\" class=\"dataframe\">\n",
       "  <thead>\n",
       "    <tr style=\"text-align: right;\">\n",
       "      <th></th>\n",
       "      <th>model</th>\n",
       "      <th>auc_1yr_te</th>\n",
       "      <th>sem_te</th>\n",
       "      <th>auc_1yr_tr</th>\n",
       "      <th>sem_tr</th>\n",
       "    </tr>\n",
       "  </thead>\n",
       "  <tbody>\n",
       "    <tr>\n",
       "      <th>0</th>\n",
       "      <td>gbm_crude</td>\n",
       "      <td>0.787443</td>\n",
       "      <td>0.004128</td>\n",
       "      <td>0.793450</td>\n",
       "      <td>0.002031</td>\n",
       "    </tr>\n",
       "    <tr>\n",
       "      <th>1</th>\n",
       "      <td>rsf_crude</td>\n",
       "      <td>0.774594</td>\n",
       "      <td>0.004214</td>\n",
       "      <td>0.901029</td>\n",
       "      <td>0.001352</td>\n",
       "    </tr>\n",
       "  </tbody>\n",
       "</table>\n",
       "</div>"
      ],
      "text/plain": [
       "       model  auc_1yr_te    sem_te  auc_1yr_tr    sem_tr\n",
       "0  gbm_crude    0.787443  0.004128    0.793450  0.002031\n",
       "1  rsf_crude    0.774594  0.004214    0.901029  0.001352"
      ]
     },
     "execution_count": 354,
     "metadata": {},
     "output_type": "execute_result"
    }
   ],
   "source": [
    "crude_auc_df"
   ]
  },
  {
   "cell_type": "code",
   "execution_count": 103,
   "id": "21e444e2",
   "metadata": {},
   "outputs": [],
   "source": [
    "crude_auc_df.to_csv('crude_auc_df.csv', index = False, header = True)"
   ]
  },
  {
   "cell_type": "code",
   "execution_count": 104,
   "id": "30708d2f",
   "metadata": {},
   "outputs": [],
   "source": [
    "times = np.arange(30, 1810, 30)\n",
    "\n",
    "rsf_chf_funcs_te = rsf.predict_cumulative_hazard_function(test_x_red)\n",
    "rsf_risk_scores_te = np.row_stack([chf(times) for chf in rsf_chf_funcs_te])\n",
    "crude_rsf_auc_over5 = cumulative_dynamic_auc(train_y, test_y, rsf_risk_scores_te, times)[0]\n",
    "\n",
    "times_data = {}\n",
    "values = crude_rsf_auc_over5\n",
    "time_names = []\n",
    "\n",
    "for x in range(len(times)):\n",
    "    time_names.append('time_'+str(times[x]))\n",
    "\n",
    "for i in range(len(time_names)):\n",
    "    times_data[time_names[i]] = values[i]\n",
    "    \n",
    "crude_rsf_over5_df = pd.DataFrame(times_data, index = ['rsf_crude'])"
   ]
  },
  {
   "cell_type": "code",
   "execution_count": 105,
   "id": "913f10ac",
   "metadata": {},
   "outputs": [],
   "source": [
    "crude_auc_over5 = pd.read_csv('crude_auc_over5.csv', index_col = 0)"
   ]
  },
  {
   "cell_type": "code",
   "execution_count": 106,
   "id": "b3fdc779",
   "metadata": {},
   "outputs": [],
   "source": [
    "crude_auc_over5 = crude_auc_over5.append(crude_rsf_over5_df, ignore_index = False)"
   ]
  },
  {
   "cell_type": "code",
   "execution_count": 107,
   "id": "8ae6efda",
   "metadata": {},
   "outputs": [
    {
     "data": {
      "text/html": [
       "<div>\n",
       "<style scoped>\n",
       "    .dataframe tbody tr th:only-of-type {\n",
       "        vertical-align: middle;\n",
       "    }\n",
       "\n",
       "    .dataframe tbody tr th {\n",
       "        vertical-align: top;\n",
       "    }\n",
       "\n",
       "    .dataframe thead th {\n",
       "        text-align: right;\n",
       "    }\n",
       "</style>\n",
       "<table border=\"1\" class=\"dataframe\">\n",
       "  <thead>\n",
       "    <tr style=\"text-align: right;\">\n",
       "      <th></th>\n",
       "      <th>time_30</th>\n",
       "      <th>time_60</th>\n",
       "      <th>time_90</th>\n",
       "      <th>time_120</th>\n",
       "      <th>time_150</th>\n",
       "      <th>time_180</th>\n",
       "      <th>time_210</th>\n",
       "      <th>time_240</th>\n",
       "      <th>time_270</th>\n",
       "      <th>time_300</th>\n",
       "      <th>...</th>\n",
       "      <th>time_1530</th>\n",
       "      <th>time_1560</th>\n",
       "      <th>time_1590</th>\n",
       "      <th>time_1620</th>\n",
       "      <th>time_1650</th>\n",
       "      <th>time_1680</th>\n",
       "      <th>time_1710</th>\n",
       "      <th>time_1740</th>\n",
       "      <th>time_1770</th>\n",
       "      <th>time_1800</th>\n",
       "    </tr>\n",
       "  </thead>\n",
       "  <tbody>\n",
       "    <tr>\n",
       "      <th>gbm_crude</th>\n",
       "      <td>0.828087</td>\n",
       "      <td>0.837199</td>\n",
       "      <td>0.828516</td>\n",
       "      <td>0.822428</td>\n",
       "      <td>0.819805</td>\n",
       "      <td>0.812663</td>\n",
       "      <td>0.805503</td>\n",
       "      <td>0.801027</td>\n",
       "      <td>0.794772</td>\n",
       "      <td>0.791386</td>\n",
       "      <td>...</td>\n",
       "      <td>0.754921</td>\n",
       "      <td>0.755207</td>\n",
       "      <td>0.755186</td>\n",
       "      <td>0.753519</td>\n",
       "      <td>0.754502</td>\n",
       "      <td>0.755006</td>\n",
       "      <td>0.757776</td>\n",
       "      <td>0.757342</td>\n",
       "      <td>0.755963</td>\n",
       "      <td>0.760696</td>\n",
       "    </tr>\n",
       "    <tr>\n",
       "      <th>rsf_crude</th>\n",
       "      <td>0.867312</td>\n",
       "      <td>0.859772</td>\n",
       "      <td>0.835875</td>\n",
       "      <td>0.820824</td>\n",
       "      <td>0.812596</td>\n",
       "      <td>0.802378</td>\n",
       "      <td>0.794869</td>\n",
       "      <td>0.789264</td>\n",
       "      <td>0.781928</td>\n",
       "      <td>0.778615</td>\n",
       "      <td>...</td>\n",
       "      <td>0.749314</td>\n",
       "      <td>0.749701</td>\n",
       "      <td>0.748179</td>\n",
       "      <td>0.744339</td>\n",
       "      <td>0.745877</td>\n",
       "      <td>0.746235</td>\n",
       "      <td>0.748660</td>\n",
       "      <td>0.747506</td>\n",
       "      <td>0.745445</td>\n",
       "      <td>0.751312</td>\n",
       "    </tr>\n",
       "  </tbody>\n",
       "</table>\n",
       "<p>2 rows × 60 columns</p>\n",
       "</div>"
      ],
      "text/plain": [
       "            time_30   time_60   time_90  time_120  time_150  time_180  \\\n",
       "gbm_crude  0.828087  0.837199  0.828516  0.822428  0.819805  0.812663   \n",
       "rsf_crude  0.867312  0.859772  0.835875  0.820824  0.812596  0.802378   \n",
       "\n",
       "           time_210  time_240  time_270  time_300  ...  time_1530  time_1560  \\\n",
       "gbm_crude  0.805503  0.801027  0.794772  0.791386  ...   0.754921   0.755207   \n",
       "rsf_crude  0.794869  0.789264  0.781928  0.778615  ...   0.749314   0.749701   \n",
       "\n",
       "           time_1590  time_1620  time_1650  time_1680  time_1710  time_1740  \\\n",
       "gbm_crude   0.755186   0.753519   0.754502   0.755006   0.757776   0.757342   \n",
       "rsf_crude   0.748179   0.744339   0.745877   0.746235   0.748660   0.747506   \n",
       "\n",
       "           time_1770  time_1800  \n",
       "gbm_crude   0.755963   0.760696  \n",
       "rsf_crude   0.745445   0.751312  \n",
       "\n",
       "[2 rows x 60 columns]"
      ]
     },
     "execution_count": 359,
     "metadata": {},
     "output_type": "execute_result"
    }
   ],
   "source": [
    "crude_auc_over5"
   ]
  },
  {
   "cell_type": "code",
   "execution_count": 108,
   "id": "0fe86e77",
   "metadata": {},
   "outputs": [],
   "source": [
    "crude_auc_over5.to_csv('crude_auc_over5.csv', index = True, header = True)"
   ]
  },
  {
   "cell_type": "markdown",
   "id": "e0bd2d5b",
   "metadata": {},
   "source": [
    "**No feature importance attribute is available at this time for the random survival forest model.**\n",
    "\n",
    "**The gradient survival model outperforms the random survival forest in regards to test set 1 year AUC.**"
   ]
  },
  {
   "cell_type": "markdown",
   "id": "f1dec010",
   "metadata": {},
   "source": [
    "## 4. Penalized Cox models "
   ]
  },
  {
   "cell_type": "markdown",
   "id": "50ea99d5",
   "metadata": {},
   "source": [
    "**The next group of models we'll build is the penalized Cox variety which includes ridge, LASSO, and elastic net. The main challenge will be selecting the strength of the alpha penalty for each model. The penalty will be determined by performing a grid search with cross-validation.**"
   ]
  },
  {
   "cell_type": "code",
   "execution_count": 109,
   "id": "a62c969d",
   "metadata": {},
   "outputs": [],
   "source": [
    "from sklearn.model_selection import StratifiedKFold, GridSearchCV\n",
    "from sklearn.pipeline import make_pipeline\n",
    "from sklearn.metrics import make_scorer\n",
    "\n",
    "from sksurv.linear_model import CoxPHSurvivalAnalysis, CoxnetSurvivalAnalysis\n",
    "from sksurv.metrics import cumulative_dynamic_auc, as_cumulative_dynamic_auc_scorer\n",
    "\n",
    "import warnings \n",
    "\n",
    "import matplotlib.pyplot as plt"
   ]
  },
  {
   "cell_type": "markdown",
   "id": "68c850a5",
   "metadata": {},
   "source": [
    "### 4.1 Ridge"
   ]
  },
  {
   "cell_type": "code",
   "execution_count": 110,
   "id": "d42249bc",
   "metadata": {},
   "outputs": [
    {
     "data": {
      "text/plain": [
       "GridSearchCV(cv=StratifiedKFold(n_splits=5, random_state=42, shuffle=True),\n",
       "             estimator=as_cumulative_dynamic_auc_scorer(estimator=Pipeline(steps=[('columntransformer',\n",
       "                                                                                   ColumnTransformer(remainder='passthrough',\n",
       "                                                                                                     transformers=[('num',\n",
       "                                                                                                                    Pipeline(steps=[('imputer',\n",
       "                                                                                                                                     SimpleImputer(strategy='median')),\n",
       "                                                                                                                                    ('std_scaler',\n",
       "                                                                                                                                     StandardScaler())]),\n",
       "                                                                                                                    ['age',\n",
       "                                                                                                                     'delta_adv_diagnosis',...\n",
       "             param_grid={'estimator__coxphsurvivalanalysis__alpha': array([1.00000000e-04, 2.15443469e-04, 4.64158883e-04, 1.00000000e-03,\n",
       "       2.15443469e-03, 4.64158883e-03, 1.00000000e-02, 2.15443469e-02,\n",
       "       4.64158883e-02, 1.00000000e-01, 2.15443469e-01, 4.64158883e-01,\n",
       "       1.00000000e+00, 2.15443469e+00, 4.64158883e+00, 1.00000000e+01,\n",
       "       2.15443469e+01, 4.64158883e+01, 1.00000000e+02, 2.15443469e+02,\n",
       "       4.64158883e+02, 1.00000000e+03, 2.15443469e+03, 4.64158883e+03,\n",
       "       1.00000000e+04])},\n",
       "             refit=False)"
      ]
     },
     "execution_count": 362,
     "metadata": {},
     "output_type": "execute_result"
    }
   ],
   "source": [
    "pipe = make_pipeline(preprocessor_red, CoxPHSurvivalAnalysis())\n",
    "\n",
    "# 5 fold cross-validation\n",
    "cv = StratifiedKFold(n_splits = 5, shuffle = True, random_state = 42)\n",
    "\n",
    "# Parameter gird \n",
    "param_grid = {'estimator__coxphsurvivalanalysis__alpha': 10. ** np.linspace(-4, 4, 25)}\n",
    "\n",
    "ridge_search = GridSearchCV(\n",
    "    as_cumulative_dynamic_auc_scorer(pipe, 365),\n",
    "    param_grid = param_grid,\n",
    "    cv = cv,\n",
    "    n_jobs = -1,\n",
    "    refit = False)\n",
    "\n",
    "# Run search \n",
    "warnings.filterwarnings('ignore')\n",
    "ridge_search.fit(train90_x_red, train90_y)"
   ]
  },
  {
   "cell_type": "code",
   "execution_count": 111,
   "id": "b54436d9",
   "metadata": {},
   "outputs": [
    {
     "data": {
      "text/plain": [
       "{'estimator__coxphsurvivalanalysis__alpha': 0.0001}"
      ]
     },
     "execution_count": 380,
     "metadata": {},
     "output_type": "execute_result"
    }
   ],
   "source": [
    "ridge_search.best_params_"
   ]
  },
  {
   "cell_type": "code",
   "execution_count": 112,
   "id": "e0d3b71a",
   "metadata": {},
   "outputs": [],
   "source": [
    "best_ridge_alpha = ridge_search.best_params_.get('estimator__coxphsurvivalanalysis__alpha')"
   ]
  },
  {
   "cell_type": "code",
   "execution_count": 113,
   "id": "45685d08",
   "metadata": {},
   "outputs": [
    {
     "data": {
      "text/plain": [
       "Pipeline(steps=[('columntransformer',\n",
       "                 ColumnTransformer(remainder='passthrough',\n",
       "                                   transformers=[('num',\n",
       "                                                  Pipeline(steps=[('imputer',\n",
       "                                                                   SimpleImputer(strategy='median')),\n",
       "                                                                  ('std_scaler',\n",
       "                                                                   StandardScaler())]),\n",
       "                                                  ['age', 'delta_adv_diagnosis',\n",
       "                                                   'weight_diag', 'bmi_diag',\n",
       "                                                   'weight_pct_change',\n",
       "                                                   'weight_slope',\n",
       "                                                   'albumin_diag', 'alp_diag',\n",
       "                                                   'alt_diag', 'ast_diag',\n",
       "                                                   'bicarb_diag', 'bun...\n",
       "                                                   'creatinine_max',\n",
       "                                                   'total_bilirubin_max',\n",
       "                                                   'wbc_max', 'albumin_min', ...]),\n",
       "                                                 ('cat',\n",
       "                                                  OneHotEncoder(handle_unknown='ignore'),\n",
       "                                                  ['PracticeType', 'gender',\n",
       "                                                   'race', 'ethnicity',\n",
       "                                                   'region', 'Histology',\n",
       "                                                   'SmokingStatus', 'stage',\n",
       "                                                   'adv_year', 'ALK', 'BRAF',\n",
       "                                                   'EGFR', 'KRAS', 'ROS1',\n",
       "                                                   'pdl1', 'pdl1_n',\n",
       "                                                   'ecog_diagnosis'])])),\n",
       "                ('coxphsurvivalanalysis', CoxPHSurvivalAnalysis(alpha=0.0001))])"
      ]
     },
     "execution_count": 386,
     "metadata": {},
     "output_type": "execute_result"
    }
   ],
   "source": [
    "ridge = make_pipeline(preprocessor_red, CoxPHSurvivalAnalysis(alpha = best_ridge_alpha))\n",
    "\n",
    "ridge.fit(train_x_red, train_y)"
   ]
  },
  {
   "cell_type": "code",
   "execution_count": 114,
   "id": "defccb33",
   "metadata": {},
   "outputs": [
    {
     "name": "stdout",
     "output_type": "stream",
     "text": [
      "Test set AUC at 1 year: 0.7517937018856802\n"
     ]
    }
   ],
   "source": [
    "ridge_risk_scores_te = ridge.predict(test_x_red)\n",
    "ridge_auc_te = cumulative_dynamic_auc(train_y, test_y, ridge_risk_scores_te, 365)[0][0]\n",
    "print('Test set AUC at 1 year:', ridge_auc_te)"
   ]
  },
  {
   "cell_type": "code",
   "execution_count": 115,
   "id": "0e72d889",
   "metadata": {},
   "outputs": [
    {
     "name": "stdout",
     "output_type": "stream",
     "text": [
      "Training set AUC at 1 year: 0.7552879179286013\n"
     ]
    }
   ],
   "source": [
    "ridge_risk_scores_tr = ridge.predict(train_x_red)\n",
    "ridge_auc_tr = cumulative_dynamic_auc(train_y, train_y, ridge_risk_scores_tr, 365)[0][0]\n",
    "print('Training set AUC at 1 year:', ridge_auc_tr)"
   ]
  },
  {
   "cell_type": "code",
   "execution_count": 116,
   "id": "2563a111",
   "metadata": {},
   "outputs": [],
   "source": [
    "# Bootstrap 10000 1 yr AUCs for test set \n",
    "n_bootstraps = 10000\n",
    "rng_seed = 42 \n",
    "bootstrapped_scores_te = []\n",
    "\n",
    "rng = np.random.RandomState(rng_seed)\n",
    "for i in range(n_bootstraps):\n",
    "    indices = rng.randint(0, len(ridge_risk_scores_te), len(ridge_risk_scores_te))\n",
    "    auc_yr = cumulative_dynamic_auc(train_y, test_y[indices], ridge_risk_scores_te[indices], 365)[0][0]\n",
    "    bootstrapped_scores_te.append(auc_yr)"
   ]
  },
  {
   "cell_type": "code",
   "execution_count": 117,
   "id": "f688edd0",
   "metadata": {},
   "outputs": [
    {
     "name": "stdout",
     "output_type": "stream",
     "text": [
      "Test set AUC standard error: 0.004429870818889374\n"
     ]
    }
   ],
   "source": [
    "# Standard error of mean for test set AUC\n",
    "sorted_scores_te = np.array(bootstrapped_scores_te)\n",
    "sorted_scores_te.sort()\n",
    "\n",
    "conf_lower_te = sorted_scores_te[int(0.025 * len(sorted_scores_te))]\n",
    "conf_upper_te = sorted_scores_te[int(0.975 * len(sorted_scores_te))]\n",
    "\n",
    "standard_error_te = (conf_upper_te - conf_lower_te) / 3.92\n",
    "print('Test set AUC standard error:', standard_error_te)"
   ]
  },
  {
   "cell_type": "code",
   "execution_count": 118,
   "id": "6cef2cb1",
   "metadata": {},
   "outputs": [],
   "source": [
    "# Bootstrap 10000 1-yr AUCs for train set \n",
    "n_bootstraps = 10000\n",
    "rng_seed = 42 \n",
    "bootstrapped_scores_tr = []\n",
    "\n",
    "rng = np.random.RandomState(rng_seed)\n",
    "for i in range(n_bootstraps):\n",
    "    indices = rng.randint(0, len(ridge_risk_scores_tr), len(ridge_risk_scores_tr))\n",
    "    auc_yr = cumulative_dynamic_auc(train_y, train_y[indices], ridge_risk_scores_tr[indices], 365)[0][0]\n",
    "    bootstrapped_scores_tr.append(auc_yr)"
   ]
  },
  {
   "cell_type": "code",
   "execution_count": 119,
   "id": "71f6ef75",
   "metadata": {},
   "outputs": [
    {
     "name": "stdout",
     "output_type": "stream",
     "text": [
      "Training set AUC standard error 0.00216505005146261\n"
     ]
    }
   ],
   "source": [
    "# Standard error of mean for train set AUC\n",
    "sorted_scores_tr = np.array(bootstrapped_scores_tr)\n",
    "sorted_scores_tr.sort()\n",
    "\n",
    "conf_lower_tr = sorted_scores_tr[int(0.025 * len(sorted_scores_tr))]\n",
    "conf_upper_tr = sorted_scores_tr[int(0.975 * len(sorted_scores_tr))]\n",
    "\n",
    "standard_error_tr = (conf_upper_tr - conf_lower_tr) / 3.92\n",
    "print('Training set AUC standard error', standard_error_tr)"
   ]
  },
  {
   "cell_type": "code",
   "execution_count": 120,
   "id": "83852b3d",
   "metadata": {},
   "outputs": [],
   "source": [
    "crude_auc_data = {'model': 'ridge_crude',\n",
    "                  'auc_1yr_te': ridge_auc_te,\n",
    "                  'sem_te': standard_error_te,\n",
    "                  'auc_1yr_tr': ridge_auc_tr,\n",
    "                  'sem_tr': standard_error_tr}"
   ]
  },
  {
   "cell_type": "code",
   "execution_count": 121,
   "id": "ef2222db",
   "metadata": {},
   "outputs": [],
   "source": [
    "crude_auc_df = pd.read_csv('crude_auc_df.csv')"
   ]
  },
  {
   "cell_type": "code",
   "execution_count": 122,
   "id": "ff03ca7c",
   "metadata": {},
   "outputs": [],
   "source": [
    "crude_auc_df = crude_auc_df.append(crude_auc_data, ignore_index = True)"
   ]
  },
  {
   "cell_type": "code",
   "execution_count": 123,
   "id": "59b75305",
   "metadata": {},
   "outputs": [
    {
     "data": {
      "text/html": [
       "<div>\n",
       "<style scoped>\n",
       "    .dataframe tbody tr th:only-of-type {\n",
       "        vertical-align: middle;\n",
       "    }\n",
       "\n",
       "    .dataframe tbody tr th {\n",
       "        vertical-align: top;\n",
       "    }\n",
       "\n",
       "    .dataframe thead th {\n",
       "        text-align: right;\n",
       "    }\n",
       "</style>\n",
       "<table border=\"1\" class=\"dataframe\">\n",
       "  <thead>\n",
       "    <tr style=\"text-align: right;\">\n",
       "      <th></th>\n",
       "      <th>model</th>\n",
       "      <th>auc_1yr_te</th>\n",
       "      <th>sem_te</th>\n",
       "      <th>auc_1yr_tr</th>\n",
       "      <th>sem_tr</th>\n",
       "    </tr>\n",
       "  </thead>\n",
       "  <tbody>\n",
       "    <tr>\n",
       "      <th>0</th>\n",
       "      <td>gbm_crude</td>\n",
       "      <td>0.787443</td>\n",
       "      <td>0.004128</td>\n",
       "      <td>0.793450</td>\n",
       "      <td>0.002031</td>\n",
       "    </tr>\n",
       "    <tr>\n",
       "      <th>1</th>\n",
       "      <td>rsf_crude</td>\n",
       "      <td>0.774594</td>\n",
       "      <td>0.004214</td>\n",
       "      <td>0.901029</td>\n",
       "      <td>0.001352</td>\n",
       "    </tr>\n",
       "    <tr>\n",
       "      <th>2</th>\n",
       "      <td>ridge_crude</td>\n",
       "      <td>0.751794</td>\n",
       "      <td>0.004430</td>\n",
       "      <td>0.755288</td>\n",
       "      <td>0.002165</td>\n",
       "    </tr>\n",
       "  </tbody>\n",
       "</table>\n",
       "</div>"
      ],
      "text/plain": [
       "         model  auc_1yr_te    sem_te  auc_1yr_tr    sem_tr\n",
       "0    gbm_crude    0.787443  0.004128    0.793450  0.002031\n",
       "1    rsf_crude    0.774594  0.004214    0.901029  0.001352\n",
       "2  ridge_crude    0.751794  0.004430    0.755288  0.002165"
      ]
     },
     "execution_count": 396,
     "metadata": {},
     "output_type": "execute_result"
    }
   ],
   "source": [
    "crude_auc_df"
   ]
  },
  {
   "cell_type": "code",
   "execution_count": 124,
   "id": "9585f326",
   "metadata": {},
   "outputs": [],
   "source": [
    "crude_auc_df.to_csv('crude_auc_df.csv', index = False, header = True)"
   ]
  },
  {
   "cell_type": "code",
   "execution_count": 125,
   "id": "203140be",
   "metadata": {},
   "outputs": [],
   "source": [
    "times = np.arange(30, 1810, 30)\n",
    "crude_ridge_auc_over5 = cumulative_dynamic_auc(train_y, test_y, ridge_risk_scores_te, times)[0]\n",
    "\n",
    "times_data = {}\n",
    "values = crude_ridge_auc_over5\n",
    "time_names = []\n",
    "\n",
    "for x in range(len(times)):\n",
    "    time_names.append('time_'+str(times[x]))\n",
    "\n",
    "for i in range(len(time_names)):\n",
    "    times_data[time_names[i]] = values[i]\n",
    "    \n",
    "crude_ridge_over5_df = pd.DataFrame(times_data, index = ['ridge_crude'])"
   ]
  },
  {
   "cell_type": "code",
   "execution_count": 126,
   "id": "9efff19e",
   "metadata": {},
   "outputs": [],
   "source": [
    "crude_auc_over5 = pd.read_csv('crude_auc_over5.csv', index_col = 0)"
   ]
  },
  {
   "cell_type": "code",
   "execution_count": 127,
   "id": "99cb28f2",
   "metadata": {},
   "outputs": [],
   "source": [
    "crude_auc_over5 = crude_auc_over5.append(crude_ridge_over5_df, ignore_index = False)"
   ]
  },
  {
   "cell_type": "code",
   "execution_count": 128,
   "id": "a7dccc6d",
   "metadata": {},
   "outputs": [
    {
     "data": {
      "text/html": [
       "<div>\n",
       "<style scoped>\n",
       "    .dataframe tbody tr th:only-of-type {\n",
       "        vertical-align: middle;\n",
       "    }\n",
       "\n",
       "    .dataframe tbody tr th {\n",
       "        vertical-align: top;\n",
       "    }\n",
       "\n",
       "    .dataframe thead th {\n",
       "        text-align: right;\n",
       "    }\n",
       "</style>\n",
       "<table border=\"1\" class=\"dataframe\">\n",
       "  <thead>\n",
       "    <tr style=\"text-align: right;\">\n",
       "      <th></th>\n",
       "      <th>time_30</th>\n",
       "      <th>time_60</th>\n",
       "      <th>time_90</th>\n",
       "      <th>time_120</th>\n",
       "      <th>time_150</th>\n",
       "      <th>time_180</th>\n",
       "      <th>time_210</th>\n",
       "      <th>time_240</th>\n",
       "      <th>time_270</th>\n",
       "      <th>time_300</th>\n",
       "      <th>...</th>\n",
       "      <th>time_1530</th>\n",
       "      <th>time_1560</th>\n",
       "      <th>time_1590</th>\n",
       "      <th>time_1620</th>\n",
       "      <th>time_1650</th>\n",
       "      <th>time_1680</th>\n",
       "      <th>time_1710</th>\n",
       "      <th>time_1740</th>\n",
       "      <th>time_1770</th>\n",
       "      <th>time_1800</th>\n",
       "    </tr>\n",
       "  </thead>\n",
       "  <tbody>\n",
       "    <tr>\n",
       "      <th>gbm_crude</th>\n",
       "      <td>0.828087</td>\n",
       "      <td>0.837199</td>\n",
       "      <td>0.828516</td>\n",
       "      <td>0.822428</td>\n",
       "      <td>0.819805</td>\n",
       "      <td>0.812663</td>\n",
       "      <td>0.805503</td>\n",
       "      <td>0.801027</td>\n",
       "      <td>0.794772</td>\n",
       "      <td>0.791386</td>\n",
       "      <td>...</td>\n",
       "      <td>0.754921</td>\n",
       "      <td>0.755207</td>\n",
       "      <td>0.755186</td>\n",
       "      <td>0.753519</td>\n",
       "      <td>0.754502</td>\n",
       "      <td>0.755006</td>\n",
       "      <td>0.757776</td>\n",
       "      <td>0.757342</td>\n",
       "      <td>0.755963</td>\n",
       "      <td>0.760696</td>\n",
       "    </tr>\n",
       "    <tr>\n",
       "      <th>rsf_crude</th>\n",
       "      <td>0.867312</td>\n",
       "      <td>0.859772</td>\n",
       "      <td>0.835875</td>\n",
       "      <td>0.820824</td>\n",
       "      <td>0.812596</td>\n",
       "      <td>0.802378</td>\n",
       "      <td>0.794869</td>\n",
       "      <td>0.789264</td>\n",
       "      <td>0.781928</td>\n",
       "      <td>0.778615</td>\n",
       "      <td>...</td>\n",
       "      <td>0.749314</td>\n",
       "      <td>0.749701</td>\n",
       "      <td>0.748179</td>\n",
       "      <td>0.744339</td>\n",
       "      <td>0.745877</td>\n",
       "      <td>0.746235</td>\n",
       "      <td>0.748660</td>\n",
       "      <td>0.747506</td>\n",
       "      <td>0.745445</td>\n",
       "      <td>0.751312</td>\n",
       "    </tr>\n",
       "    <tr>\n",
       "      <th>ridge_crude</th>\n",
       "      <td>0.777286</td>\n",
       "      <td>0.780309</td>\n",
       "      <td>0.769720</td>\n",
       "      <td>0.763561</td>\n",
       "      <td>0.762762</td>\n",
       "      <td>0.760119</td>\n",
       "      <td>0.758587</td>\n",
       "      <td>0.756088</td>\n",
       "      <td>0.753052</td>\n",
       "      <td>0.752842</td>\n",
       "      <td>...</td>\n",
       "      <td>0.731014</td>\n",
       "      <td>0.730098</td>\n",
       "      <td>0.729564</td>\n",
       "      <td>0.728929</td>\n",
       "      <td>0.731563</td>\n",
       "      <td>0.731050</td>\n",
       "      <td>0.730840</td>\n",
       "      <td>0.729901</td>\n",
       "      <td>0.726485</td>\n",
       "      <td>0.729286</td>\n",
       "    </tr>\n",
       "  </tbody>\n",
       "</table>\n",
       "<p>3 rows × 60 columns</p>\n",
       "</div>"
      ],
      "text/plain": [
       "              time_30   time_60   time_90  time_120  time_150  time_180  \\\n",
       "gbm_crude    0.828087  0.837199  0.828516  0.822428  0.819805  0.812663   \n",
       "rsf_crude    0.867312  0.859772  0.835875  0.820824  0.812596  0.802378   \n",
       "ridge_crude  0.777286  0.780309  0.769720  0.763561  0.762762  0.760119   \n",
       "\n",
       "             time_210  time_240  time_270  time_300  ...  time_1530  \\\n",
       "gbm_crude    0.805503  0.801027  0.794772  0.791386  ...   0.754921   \n",
       "rsf_crude    0.794869  0.789264  0.781928  0.778615  ...   0.749314   \n",
       "ridge_crude  0.758587  0.756088  0.753052  0.752842  ...   0.731014   \n",
       "\n",
       "             time_1560  time_1590  time_1620  time_1650  time_1680  time_1710  \\\n",
       "gbm_crude     0.755207   0.755186   0.753519   0.754502   0.755006   0.757776   \n",
       "rsf_crude     0.749701   0.748179   0.744339   0.745877   0.746235   0.748660   \n",
       "ridge_crude   0.730098   0.729564   0.728929   0.731563   0.731050   0.730840   \n",
       "\n",
       "             time_1740  time_1770  time_1800  \n",
       "gbm_crude     0.757342   0.755963   0.760696  \n",
       "rsf_crude     0.747506   0.745445   0.751312  \n",
       "ridge_crude   0.729901   0.726485   0.729286  \n",
       "\n",
       "[3 rows x 60 columns]"
      ]
     },
     "execution_count": 401,
     "metadata": {},
     "output_type": "execute_result"
    }
   ],
   "source": [
    "crude_auc_over5"
   ]
  },
  {
   "cell_type": "code",
   "execution_count": 129,
   "id": "6c52ac74",
   "metadata": {},
   "outputs": [],
   "source": [
    "crude_auc_over5.to_csv('crude_auc_over5.csv', index = True, header = True)"
   ]
  },
  {
   "cell_type": "code",
   "execution_count": 130,
   "id": "27876eb7",
   "metadata": {},
   "outputs": [],
   "source": [
    "# Variables passing through pipeline\n",
    "cat_encoder = list(preprocessor_red.transformers_[1][1].get_feature_names(categorical_features))\n",
    "pass_through = list(train_x_red.iloc[:, preprocessor_red.transformers_[2][2]].columns)\n",
    "attributes = numerical_features_red + cat_encoder + pass_through"
   ]
  },
  {
   "cell_type": "code",
   "execution_count": 131,
   "id": "dcbc11f7",
   "metadata": {},
   "outputs": [
    {
     "name": "stdout",
     "output_type": "stream",
     "text": [
      "Total number of features: 192\n",
      "Number of non-zero features in final model: 192\n"
     ]
    },
    {
     "data": {
      "image/png": "[encoded data removed]",
      "text/plain": [
       "<Figure size 432x576 with 1 Axes>"
      ]
     },
     "metadata": {
      "needs_background": "light"
     },
     "output_type": "display_data"
    }
   ],
   "source": [
    "# Dataframe of coefficients for each variable \n",
    "coefficients_ridge = pd.DataFrame(\n",
    "    ridge.named_steps['coxphsurvivalanalysis'].coef_,\n",
    "    index = attributes,\n",
    "    columns = ['coefficient']\n",
    ")\n",
    "\n",
    "print('Total number of features: {}'.format(len(attributes)))\n",
    "\n",
    "non_zero = np.sum(coefficients_ridge.iloc[:, 0] != 0)\n",
    "print('Number of non-zero features in final model: {}'.format(non_zero))\n",
    "\n",
    "non_zero_coefs = coefficients_ridge.query('coefficient != 0')\n",
    "coef_order = non_zero_coefs.abs().sort_values('coefficient').tail(30).index\n",
    "\n",
    "_, ax = plt.subplots(figsize=(6, 8))\n",
    "non_zero_coefs.loc[coef_order].plot.barh(ax = ax, legend = False)\n",
    "ax.set_xlabel('coefficient')\n",
    "ax.grid(True)"
   ]
  },
  {
   "cell_type": "markdown",
   "id": "932e57f1",
   "metadata": {},
   "source": [
    "### 4.2 LASSO"
   ]
  },
  {
   "cell_type": "code",
   "execution_count": 132,
   "id": "08a4d31b",
   "metadata": {},
   "outputs": [
    {
     "data": {
      "text/plain": [
       "Pipeline(steps=[('columntransformer',\n",
       "                 ColumnTransformer(remainder='passthrough',\n",
       "                                   transformers=[('num',\n",
       "                                                  Pipeline(steps=[('imputer',\n",
       "                                                                   SimpleImputer(strategy='median')),\n",
       "                                                                  ('std_scaler',\n",
       "                                                                   StandardScaler())]),\n",
       "                                                  ['age', 'delta_adv_diagnosis',\n",
       "                                                   'weight_diag', 'bmi_diag',\n",
       "                                                   'weight_pct_change',\n",
       "                                                   'weight_slope',\n",
       "                                                   'albumin_diag', 'alp_diag',\n",
       "                                                   'alt_diag', 'ast_diag',\n",
       "                                                   'bicarb_diag', 'bun...\n",
       "                                                   'total_bilirubin_max',\n",
       "                                                   'wbc_max', 'albumin_min', ...]),\n",
       "                                                 ('cat',\n",
       "                                                  OneHotEncoder(handle_unknown='ignore'),\n",
       "                                                  ['PracticeType', 'gender',\n",
       "                                                   'race', 'ethnicity',\n",
       "                                                   'region', 'Histology',\n",
       "                                                   'SmokingStatus', 'stage',\n",
       "                                                   'adv_year', 'ALK', 'BRAF',\n",
       "                                                   'EGFR', 'KRAS', 'ROS1',\n",
       "                                                   'pdl1', 'pdl1_n',\n",
       "                                                   'ecog_diagnosis'])])),\n",
       "                ('coxnetsurvivalanalysis',\n",
       "                 CoxnetSurvivalAnalysis(alpha_min_ratio=0.0001, l1_ratio=1.0))])"
      ]
     },
     "execution_count": 405,
     "metadata": {},
     "output_type": "execute_result"
    }
   ],
   "source": [
    "lasso = make_pipeline(preprocessor_red, CoxnetSurvivalAnalysis(l1_ratio = 1.0, alpha_min_ratio = 0.0001))\n",
    "\n",
    "lasso.fit(train90_x_red, train90_y)"
   ]
  },
  {
   "cell_type": "code",
   "execution_count": 133,
   "id": "c5742ac3",
   "metadata": {},
   "outputs": [
    {
     "data": {
      "text/plain": [
       "array([1.73947525e-01, 1.58494506e-01, 1.44414291e-01, 1.31584923e-01,\n",
       "       1.19895282e-01, 1.09244115e-01, 9.95391690e-02, 9.06963836e-02,\n",
       "       8.26391669e-02, 7.52977310e-02, 6.86084881e-02, 6.25134991e-02,\n",
       "       5.69599722e-02, 5.18998052e-02, 4.72891696e-02, 4.30881301e-02,\n",
       "       3.92602994e-02, 3.57725226e-02, 3.25945903e-02, 2.96989767e-02,\n",
       "       2.70606015e-02, 2.46566122e-02, 2.24661867e-02, 2.04703526e-02,\n",
       "       1.86518229e-02, 1.69948464e-02, 1.54850711e-02, 1.41094200e-02,\n",
       "       1.28559780e-02, 1.17138884e-02, 1.06732588e-02, 9.72507593e-03,\n",
       "       8.86112699e-03, 8.07392889e-03, 7.35666330e-03, 6.70311761e-03,\n",
       "       6.10763111e-03, 5.56504600e-03, 5.07066265e-03, 4.62019896e-03,\n",
       "       4.20975321e-03, 3.83577034e-03, 3.49501108e-03, 3.18452392e-03,\n",
       "       2.90161960e-03, 2.64384771e-03, 2.40897556e-03, 2.19496881e-03,\n",
       "       1.99997383e-03, 1.82230167e-03, 1.66041341e-03, 1.51290686e-03,\n",
       "       1.37850439e-03, 1.25604186e-03, 1.14445856e-03, 1.04278802e-03,\n",
       "       9.50149602e-04, 8.65740930e-04, 7.88830892e-04, 7.18753329e-04,\n",
       "       6.54901265e-04, 5.96721641e-04, 5.43710535e-04, 4.95408790e-04,\n",
       "       4.51398038e-04, 4.11297081e-04, 3.74758582e-04, 3.41466062e-04,\n",
       "       3.11131158e-04, 2.83491124e-04, 2.58306554e-04, 2.35359311e-04,\n",
       "       2.14450639e-04, 1.95399435e-04, 1.78040688e-04, 1.62224044e-04,\n",
       "       1.47812507e-04, 1.34681251e-04, 1.22716540e-04, 1.11814741e-04])"
      ]
     },
     "execution_count": 406,
     "metadata": {},
     "output_type": "execute_result"
    }
   ],
   "source": [
    "lasso.named_steps['coxnetsurvivalanalysis'].alphas_"
   ]
  },
  {
   "cell_type": "code",
   "execution_count": 134,
   "id": "4f6f9ef5",
   "metadata": {},
   "outputs": [],
   "source": [
    "estimated_alphas = lasso.named_steps['coxnetsurvivalanalysis'].alphas_"
   ]
  },
  {
   "cell_type": "code",
   "execution_count": 135,
   "id": "8670ae5c",
   "metadata": {},
   "outputs": [
    {
     "data": {
      "text/plain": [
       "GridSearchCV(cv=StratifiedKFold(n_splits=5, random_state=42, shuffle=True),\n",
       "             error_score=0.5,\n",
       "             estimator=as_cumulative_dynamic_auc_scorer(estimator=Pipeline(steps=[('columntransformer',\n",
       "                                                                                   ColumnTransformer(remainder='passthrough',\n",
       "                                                                                                     transformers=[('num',\n",
       "                                                                                                                    Pipeline(steps=[('imputer',\n",
       "                                                                                                                                     SimpleImputer(strategy='median')),\n",
       "                                                                                                                                    ('std_scaler',\n",
       "                                                                                                                                     StandardScaler())]),\n",
       "                                                                                                                    ['age',\n",
       "                                                                                                                     'delta...\n",
       "                                                                       [0.04308813008850319],\n",
       "                                                                       [0.03926029936730331],\n",
       "                                                                       [0.035772522577431284],\n",
       "                                                                       [0.03259459026485585],\n",
       "                                                                       [0.029698976700181155],\n",
       "                                                                       [0.02706060146394676],\n",
       "                                                                       [0.024656612212032573],\n",
       "                                                                       [0.02246618673958643],\n",
       "                                                                       [0.02047035262904683],\n",
       "                                                                       [0.01865182292013826],\n",
       "                                                                       [0.01699484637849123],\n",
       "                                                                       [0.01548507106598541],\n",
       "                                                                       [0.014109420031127484],\n",
       "                                                                       [0.01285597804275321],\n",
       "                                                                       [0.011713888385995228], ...]},\n",
       "             refit=False)"
      ]
     },
     "execution_count": 408,
     "metadata": {},
     "output_type": "execute_result"
    }
   ],
   "source": [
    "pipe = make_pipeline(preprocessor_red, CoxnetSurvivalAnalysis(l1_ratio = 1.0, max_iter = 100000))\n",
    "\n",
    "# 3 fold cross-validation\n",
    "cv = StratifiedKFold(n_splits = 5, shuffle = True, random_state = 42)\n",
    "\n",
    "# Parameter gird \n",
    "param_grid = {'estimator__coxnetsurvivalanalysis__alphas': [[x] for x in estimated_alphas]}\n",
    "\n",
    "lasso_search = GridSearchCV(\n",
    "    as_cumulative_dynamic_auc_scorer(pipe, 365),\n",
    "    param_grid = param_grid,\n",
    "    cv = cv,\n",
    "    error_score = 0.5,\n",
    "    n_jobs = -1,\n",
    "    refit = False)\n",
    "\n",
    "# Run search \n",
    "warnings.filterwarnings('ignore')\n",
    "lasso_search.fit(train90_x_red, train90_y)"
   ]
  },
  {
   "cell_type": "code",
   "execution_count": 136,
   "id": "c0e850e2",
   "metadata": {},
   "outputs": [
    {
     "data": {
      "text/plain": [
       "{'estimator__coxnetsurvivalanalysis__alphas': [0.007356663298116748]}"
      ]
     },
     "execution_count": 480,
     "metadata": {},
     "output_type": "execute_result"
    }
   ],
   "source": [
    "lasso_search.best_params_"
   ]
  },
  {
   "cell_type": "code",
   "execution_count": 137,
   "id": "46b647c5",
   "metadata": {},
   "outputs": [],
   "source": [
    "best_lasso_alpha = lasso_search.best_params_.get('estimator__coxnetsurvivalanalysis__alphas')"
   ]
  },
  {
   "cell_type": "code",
   "execution_count": 138,
   "id": "b3996e4b",
   "metadata": {},
   "outputs": [
    {
     "data": {
      "text/plain": [
       "Pipeline(steps=[('columntransformer',\n",
       "                 ColumnTransformer(remainder='passthrough',\n",
       "                                   transformers=[('num',\n",
       "                                                  Pipeline(steps=[('imputer',\n",
       "                                                                   SimpleImputer(strategy='median')),\n",
       "                                                                  ('std_scaler',\n",
       "                                                                   StandardScaler())]),\n",
       "                                                  ['age', 'delta_adv_diagnosis',\n",
       "                                                   'weight_diag', 'bmi_diag',\n",
       "                                                   'weight_pct_change',\n",
       "                                                   'weight_slope',\n",
       "                                                   'albumin_diag', 'alp_diag',\n",
       "                                                   'alt_diag', 'ast_diag',\n",
       "                                                   'bicarb_diag', 'bun...\n",
       "                                                   'total_bilirubin_max',\n",
       "                                                   'wbc_max', 'albumin_min', ...]),\n",
       "                                                 ('cat',\n",
       "                                                  OneHotEncoder(handle_unknown='ignore'),\n",
       "                                                  ['PracticeType', 'gender',\n",
       "                                                   'race', 'ethnicity',\n",
       "                                                   'region', 'Histology',\n",
       "                                                   'SmokingStatus', 'stage',\n",
       "                                                   'adv_year', 'ALK', 'BRAF',\n",
       "                                                   'EGFR', 'KRAS', 'ROS1',\n",
       "                                                   'pdl1', 'pdl1_n',\n",
       "                                                   'ecog_diagnosis'])])),\n",
       "                ('coxnetsurvivalanalysis',\n",
       "                 CoxnetSurvivalAnalysis(alphas=[0.007356663298116748],\n",
       "                                        l1_ratio=1.0))])"
      ]
     },
     "execution_count": 482,
     "metadata": {},
     "output_type": "execute_result"
    }
   ],
   "source": [
    "lasso = make_pipeline(preprocessor_red, CoxnetSurvivalAnalysis(l1_ratio = 1.0, \n",
    "                                                               alphas = best_lasso_alpha,\n",
    "                                                               max_iter = 100000))\n",
    "\n",
    "lasso.fit(train_x_red, train_y)"
   ]
  },
  {
   "cell_type": "code",
   "execution_count": 139,
   "id": "1898cf32",
   "metadata": {},
   "outputs": [
    {
     "name": "stdout",
     "output_type": "stream",
     "text": [
      "Test set AUC at 1 year: 0.7361069862399987\n"
     ]
    }
   ],
   "source": [
    "lasso_risk_scores_te = lasso.predict(test_x_red)\n",
    "lasso_auc_te = cumulative_dynamic_auc(train_y, test_y, lasso_risk_scores_te, 365)[0][0]\n",
    "print('Test set AUC at 1 year:', lasso_auc_te)"
   ]
  },
  {
   "cell_type": "code",
   "execution_count": 140,
   "id": "9dfc13b0",
   "metadata": {},
   "outputs": [
    {
     "name": "stdout",
     "output_type": "stream",
     "text": [
      "Training set AUC at 1 year: 0.7374363401419076\n"
     ]
    }
   ],
   "source": [
    "lasso_risk_scores_tr = lasso.predict(train_x_red)\n",
    "lasso_auc_tr = cumulative_dynamic_auc(train_y, train_y, lasso_risk_scores_tr, 365)[0][0]\n",
    "print('Training set AUC at 1 year:', lasso_auc_tr)"
   ]
  },
  {
   "cell_type": "code",
   "execution_count": 141,
   "id": "bac78485",
   "metadata": {},
   "outputs": [],
   "source": [
    "# Bootstrap 10000 1 yr AUCs for test set \n",
    "n_bootstraps = 10000\n",
    "rng_seed = 42 \n",
    "bootstrapped_scores_te = []\n",
    "\n",
    "warnings.filterwarnings('ignore')\n",
    "\n",
    "rng = np.random.RandomState(rng_seed)\n",
    "for i in range(n_bootstraps):\n",
    "    indices = rng.randint(0, len(lasso_risk_scores_te), len(lasso_risk_scores_te))\n",
    "    auc_yr = cumulative_dynamic_auc(train_y, test_y[indices], lasso_risk_scores_te[indices], 365)[0][0]\n",
    "    bootstrapped_scores_te.append(auc_yr)"
   ]
  },
  {
   "cell_type": "code",
   "execution_count": 142,
   "id": "b44cb13b",
   "metadata": {},
   "outputs": [
    {
     "name": "stdout",
     "output_type": "stream",
     "text": [
      "Test set AUC standard error: 0.004536355907505022\n"
     ]
    }
   ],
   "source": [
    "# Standard error of mean for test set AUC\n",
    "sorted_scores_te = np.array(bootstrapped_scores_te)\n",
    "sorted_scores_te.sort()\n",
    "\n",
    "conf_lower_te = sorted_scores_te[int(0.025 * len(sorted_scores_te))]\n",
    "conf_upper_te = sorted_scores_te[int(0.975 * len(sorted_scores_te))]\n",
    "\n",
    "standard_error_te = (conf_upper_te - conf_lower_te) / 3.92\n",
    "print('Test set AUC standard error:', standard_error_te)"
   ]
  },
  {
   "cell_type": "code",
   "execution_count": 143,
   "id": "9e07239c",
   "metadata": {},
   "outputs": [],
   "source": [
    "# Bootstrap 10000 1-yr AUCs for train set \n",
    "n_bootstraps = 10000\n",
    "rng_seed = 42 \n",
    "bootstrapped_scores_tr = []\n",
    "\n",
    "warnings.filterwarnings('ignore')\n",
    "\n",
    "rng = np.random.RandomState(rng_seed)\n",
    "for i in range(n_bootstraps):\n",
    "    indices = rng.randint(0, len(lasso_risk_scores_tr), len(lasso_risk_scores_tr))\n",
    "    auc_yr = cumulative_dynamic_auc(train_y, train_y[indices], lasso_risk_scores_tr[indices], 365)[0][0]\n",
    "    bootstrapped_scores_tr.append(auc_yr)"
   ]
  },
  {
   "cell_type": "code",
   "execution_count": 144,
   "id": "2bd40c08",
   "metadata": {},
   "outputs": [
    {
     "name": "stdout",
     "output_type": "stream",
     "text": [
      "Training set AUC standard error 0.002254758528593879\n"
     ]
    }
   ],
   "source": [
    "# Standard error of mean for train set AUC\n",
    "sorted_scores_tr = np.array(bootstrapped_scores_tr)\n",
    "sorted_scores_tr.sort()\n",
    "\n",
    "conf_lower_tr = sorted_scores_tr[int(0.025 * len(sorted_scores_tr))]\n",
    "conf_upper_tr = sorted_scores_tr[int(0.975 * len(sorted_scores_tr))]\n",
    "\n",
    "standard_error_tr = (conf_upper_tr - conf_lower_tr) / 3.92\n",
    "print('Training set AUC standard error', standard_error_tr)"
   ]
  },
  {
   "cell_type": "code",
   "execution_count": 145,
   "id": "d3ca8a12",
   "metadata": {},
   "outputs": [],
   "source": [
    "crude_auc_data = {'model': 'lasso_crude',\n",
    "                  'auc_1yr_te': lasso_auc_te,\n",
    "                  'sem_te': standard_error_te,\n",
    "                  'auc_1yr_tr': lasso_auc_tr,\n",
    "                  'sem_tr': standard_error_tr}"
   ]
  },
  {
   "cell_type": "code",
   "execution_count": 146,
   "id": "6f82f876",
   "metadata": {},
   "outputs": [],
   "source": [
    "crude_auc_df = pd.read_csv('crude_auc_df.csv')"
   ]
  },
  {
   "cell_type": "code",
   "execution_count": 147,
   "id": "9437a337",
   "metadata": {},
   "outputs": [],
   "source": [
    "crude_auc_df = crude_auc_df.append(crude_auc_data, ignore_index = True)"
   ]
  },
  {
   "cell_type": "code",
   "execution_count": 148,
   "id": "11fcb452",
   "metadata": {},
   "outputs": [
    {
     "data": {
      "text/html": [
       "<div>\n",
       "<style scoped>\n",
       "    .dataframe tbody tr th:only-of-type {\n",
       "        vertical-align: middle;\n",
       "    }\n",
       "\n",
       "    .dataframe tbody tr th {\n",
       "        vertical-align: top;\n",
       "    }\n",
       "\n",
       "    .dataframe thead th {\n",
       "        text-align: right;\n",
       "    }\n",
       "</style>\n",
       "<table border=\"1\" class=\"dataframe\">\n",
       "  <thead>\n",
       "    <tr style=\"text-align: right;\">\n",
       "      <th></th>\n",
       "      <th>model</th>\n",
       "      <th>auc_1yr_te</th>\n",
       "      <th>sem_te</th>\n",
       "      <th>auc_1yr_tr</th>\n",
       "      <th>sem_tr</th>\n",
       "    </tr>\n",
       "  </thead>\n",
       "  <tbody>\n",
       "    <tr>\n",
       "      <th>0</th>\n",
       "      <td>gbm_crude</td>\n",
       "      <td>0.787443</td>\n",
       "      <td>0.004128</td>\n",
       "      <td>0.793450</td>\n",
       "      <td>0.002031</td>\n",
       "    </tr>\n",
       "    <tr>\n",
       "      <th>1</th>\n",
       "      <td>rsf_crude</td>\n",
       "      <td>0.774594</td>\n",
       "      <td>0.004214</td>\n",
       "      <td>0.901029</td>\n",
       "      <td>0.001352</td>\n",
       "    </tr>\n",
       "    <tr>\n",
       "      <th>2</th>\n",
       "      <td>ridge_crude</td>\n",
       "      <td>0.751794</td>\n",
       "      <td>0.004430</td>\n",
       "      <td>0.755288</td>\n",
       "      <td>0.002165</td>\n",
       "    </tr>\n",
       "    <tr>\n",
       "      <th>3</th>\n",
       "      <td>lasso_crude</td>\n",
       "      <td>0.736107</td>\n",
       "      <td>0.004536</td>\n",
       "      <td>0.737436</td>\n",
       "      <td>0.002255</td>\n",
       "    </tr>\n",
       "  </tbody>\n",
       "</table>\n",
       "</div>"
      ],
      "text/plain": [
       "         model  auc_1yr_te    sem_te  auc_1yr_tr    sem_tr\n",
       "0    gbm_crude    0.787443  0.004128    0.793450  0.002031\n",
       "1    rsf_crude    0.774594  0.004214    0.901029  0.001352\n",
       "2  ridge_crude    0.751794  0.004430    0.755288  0.002165\n",
       "3  lasso_crude    0.736107  0.004536    0.737436  0.002255"
      ]
     },
     "execution_count": 421,
     "metadata": {},
     "output_type": "execute_result"
    }
   ],
   "source": [
    "crude_auc_df"
   ]
  },
  {
   "cell_type": "code",
   "execution_count": 149,
   "id": "92b603a5",
   "metadata": {},
   "outputs": [],
   "source": [
    "crude_auc_df.to_csv('crude_auc_df.csv', index = False, header = True)"
   ]
  },
  {
   "cell_type": "code",
   "execution_count": 150,
   "id": "2dfc9aa1",
   "metadata": {},
   "outputs": [],
   "source": [
    "times = np.arange(30, 1810, 30)\n",
    "crude_lasso_auc_over5 = cumulative_dynamic_auc(train_y, test_y, lasso_risk_scores_te, times)[0]\n",
    "\n",
    "times_data = {}\n",
    "values = crude_lasso_auc_over5\n",
    "time_names = []\n",
    "\n",
    "for x in range(len(times)):\n",
    "    time_names.append('time_'+str(times[x]))\n",
    "\n",
    "for i in range(len(time_names)):\n",
    "    times_data[time_names[i]] = values[i]\n",
    "    \n",
    "crude_lasso_over5_df = pd.DataFrame(times_data, index = ['lasso_crude'])"
   ]
  },
  {
   "cell_type": "code",
   "execution_count": 151,
   "id": "70b07223",
   "metadata": {},
   "outputs": [],
   "source": [
    "crude_auc_over5 = pd.read_csv('crude_auc_over5.csv', index_col = 0)"
   ]
  },
  {
   "cell_type": "code",
   "execution_count": 152,
   "id": "6587f38c",
   "metadata": {},
   "outputs": [],
   "source": [
    "crude_auc_over5 = crude_auc_over5.append(crude_lasso_over5_df, ignore_index = False)"
   ]
  },
  {
   "cell_type": "code",
   "execution_count": 153,
   "id": "1838b2ab",
   "metadata": {},
   "outputs": [
    {
     "data": {
      "text/html": [
       "<div>\n",
       "<style scoped>\n",
       "    .dataframe tbody tr th:only-of-type {\n",
       "        vertical-align: middle;\n",
       "    }\n",
       "\n",
       "    .dataframe tbody tr th {\n",
       "        vertical-align: top;\n",
       "    }\n",
       "\n",
       "    .dataframe thead th {\n",
       "        text-align: right;\n",
       "    }\n",
       "</style>\n",
       "<table border=\"1\" class=\"dataframe\">\n",
       "  <thead>\n",
       "    <tr style=\"text-align: right;\">\n",
       "      <th></th>\n",
       "      <th>time_30</th>\n",
       "      <th>time_60</th>\n",
       "      <th>time_90</th>\n",
       "      <th>time_120</th>\n",
       "      <th>time_150</th>\n",
       "      <th>time_180</th>\n",
       "      <th>time_210</th>\n",
       "      <th>time_240</th>\n",
       "      <th>time_270</th>\n",
       "      <th>time_300</th>\n",
       "      <th>...</th>\n",
       "      <th>time_1530</th>\n",
       "      <th>time_1560</th>\n",
       "      <th>time_1590</th>\n",
       "      <th>time_1620</th>\n",
       "      <th>time_1650</th>\n",
       "      <th>time_1680</th>\n",
       "      <th>time_1710</th>\n",
       "      <th>time_1740</th>\n",
       "      <th>time_1770</th>\n",
       "      <th>time_1800</th>\n",
       "    </tr>\n",
       "  </thead>\n",
       "  <tbody>\n",
       "    <tr>\n",
       "      <th>gbm_crude</th>\n",
       "      <td>0.828087</td>\n",
       "      <td>0.837199</td>\n",
       "      <td>0.828516</td>\n",
       "      <td>0.822428</td>\n",
       "      <td>0.819805</td>\n",
       "      <td>0.812663</td>\n",
       "      <td>0.805503</td>\n",
       "      <td>0.801027</td>\n",
       "      <td>0.794772</td>\n",
       "      <td>0.791386</td>\n",
       "      <td>...</td>\n",
       "      <td>0.754921</td>\n",
       "      <td>0.755207</td>\n",
       "      <td>0.755186</td>\n",
       "      <td>0.753519</td>\n",
       "      <td>0.754502</td>\n",
       "      <td>0.755006</td>\n",
       "      <td>0.757776</td>\n",
       "      <td>0.757342</td>\n",
       "      <td>0.755963</td>\n",
       "      <td>0.760696</td>\n",
       "    </tr>\n",
       "    <tr>\n",
       "      <th>rsf_crude</th>\n",
       "      <td>0.867312</td>\n",
       "      <td>0.859772</td>\n",
       "      <td>0.835875</td>\n",
       "      <td>0.820824</td>\n",
       "      <td>0.812596</td>\n",
       "      <td>0.802378</td>\n",
       "      <td>0.794869</td>\n",
       "      <td>0.789264</td>\n",
       "      <td>0.781928</td>\n",
       "      <td>0.778615</td>\n",
       "      <td>...</td>\n",
       "      <td>0.749314</td>\n",
       "      <td>0.749701</td>\n",
       "      <td>0.748179</td>\n",
       "      <td>0.744339</td>\n",
       "      <td>0.745877</td>\n",
       "      <td>0.746235</td>\n",
       "      <td>0.748660</td>\n",
       "      <td>0.747506</td>\n",
       "      <td>0.745445</td>\n",
       "      <td>0.751312</td>\n",
       "    </tr>\n",
       "    <tr>\n",
       "      <th>ridge_crude</th>\n",
       "      <td>0.777286</td>\n",
       "      <td>0.780309</td>\n",
       "      <td>0.769720</td>\n",
       "      <td>0.763561</td>\n",
       "      <td>0.762762</td>\n",
       "      <td>0.760119</td>\n",
       "      <td>0.758587</td>\n",
       "      <td>0.756088</td>\n",
       "      <td>0.753052</td>\n",
       "      <td>0.752842</td>\n",
       "      <td>...</td>\n",
       "      <td>0.731014</td>\n",
       "      <td>0.730098</td>\n",
       "      <td>0.729564</td>\n",
       "      <td>0.728929</td>\n",
       "      <td>0.731563</td>\n",
       "      <td>0.731050</td>\n",
       "      <td>0.730840</td>\n",
       "      <td>0.729901</td>\n",
       "      <td>0.726485</td>\n",
       "      <td>0.729286</td>\n",
       "    </tr>\n",
       "    <tr>\n",
       "      <th>lasso_crude</th>\n",
       "      <td>0.768503</td>\n",
       "      <td>0.769596</td>\n",
       "      <td>0.761076</td>\n",
       "      <td>0.753053</td>\n",
       "      <td>0.750823</td>\n",
       "      <td>0.747141</td>\n",
       "      <td>0.744786</td>\n",
       "      <td>0.741996</td>\n",
       "      <td>0.737649</td>\n",
       "      <td>0.737079</td>\n",
       "      <td>...</td>\n",
       "      <td>0.741010</td>\n",
       "      <td>0.740091</td>\n",
       "      <td>0.739450</td>\n",
       "      <td>0.740001</td>\n",
       "      <td>0.742917</td>\n",
       "      <td>0.743656</td>\n",
       "      <td>0.744641</td>\n",
       "      <td>0.743439</td>\n",
       "      <td>0.738617</td>\n",
       "      <td>0.743433</td>\n",
       "    </tr>\n",
       "  </tbody>\n",
       "</table>\n",
       "<p>4 rows × 60 columns</p>\n",
       "</div>"
      ],
      "text/plain": [
       "              time_30   time_60   time_90  time_120  time_150  time_180  \\\n",
       "gbm_crude    0.828087  0.837199  0.828516  0.822428  0.819805  0.812663   \n",
       "rsf_crude    0.867312  0.859772  0.835875  0.820824  0.812596  0.802378   \n",
       "ridge_crude  0.777286  0.780309  0.769720  0.763561  0.762762  0.760119   \n",
       "lasso_crude  0.768503  0.769596  0.761076  0.753053  0.750823  0.747141   \n",
       "\n",
       "             time_210  time_240  time_270  time_300  ...  time_1530  \\\n",
       "gbm_crude    0.805503  0.801027  0.794772  0.791386  ...   0.754921   \n",
       "rsf_crude    0.794869  0.789264  0.781928  0.778615  ...   0.749314   \n",
       "ridge_crude  0.758587  0.756088  0.753052  0.752842  ...   0.731014   \n",
       "lasso_crude  0.744786  0.741996  0.737649  0.737079  ...   0.741010   \n",
       "\n",
       "             time_1560  time_1590  time_1620  time_1650  time_1680  time_1710  \\\n",
       "gbm_crude     0.755207   0.755186   0.753519   0.754502   0.755006   0.757776   \n",
       "rsf_crude     0.749701   0.748179   0.744339   0.745877   0.746235   0.748660   \n",
       "ridge_crude   0.730098   0.729564   0.728929   0.731563   0.731050   0.730840   \n",
       "lasso_crude   0.740091   0.739450   0.740001   0.742917   0.743656   0.744641   \n",
       "\n",
       "             time_1740  time_1770  time_1800  \n",
       "gbm_crude     0.757342   0.755963   0.760696  \n",
       "rsf_crude     0.747506   0.745445   0.751312  \n",
       "ridge_crude   0.729901   0.726485   0.729286  \n",
       "lasso_crude   0.743439   0.738617   0.743433  \n",
       "\n",
       "[4 rows x 60 columns]"
      ]
     },
     "execution_count": 426,
     "metadata": {},
     "output_type": "execute_result"
    }
   ],
   "source": [
    "crude_auc_over5"
   ]
  },
  {
   "cell_type": "code",
   "execution_count": 154,
   "id": "a405840b",
   "metadata": {},
   "outputs": [],
   "source": [
    "crude_auc_over5.to_csv('crude_auc_over5.csv', index = True, header = True)"
   ]
  },
  {
   "cell_type": "code",
   "execution_count": 155,
   "id": "7ef6e3fe",
   "metadata": {},
   "outputs": [],
   "source": [
    "# Variables passing through pipeline\n",
    "cat_encoder = list(preprocessor_red.transformers_[1][1].get_feature_names(categorical_features))\n",
    "pass_through = list(train_x_red.iloc[:, preprocessor_red.transformers_[2][2]].columns)\n",
    "attributes = numerical_features_red + cat_encoder + pass_through"
   ]
  },
  {
   "cell_type": "code",
   "execution_count": 156,
   "id": "a0d90b74",
   "metadata": {},
   "outputs": [
    {
     "name": "stdout",
     "output_type": "stream",
     "text": [
      "Total number of features: 192\n",
      "Number of non-zero features in final model: 51\n"
     ]
    },
    {
     "data": {
      "image/png": "[encoded data removed]",
      "text/plain": [
       "<Figure size 432x576 with 1 Axes>"
      ]
     },
     "metadata": {
      "needs_background": "light"
     },
     "output_type": "display_data"
    }
   ],
   "source": [
    "# Dataframe of coefficients for each variable \n",
    "coefficients_lasso = pd.DataFrame(\n",
    "    lasso.named_steps['coxnetsurvivalanalysis'].coef_,\n",
    "    index = attributes,\n",
    "    columns = ['coefficient']\n",
    ")\n",
    "\n",
    "print('Total number of features: {}'.format(len(attributes)))\n",
    "\n",
    "non_zero = np.sum(coefficients_lasso.iloc[:, 0] != 0)\n",
    "print('Number of non-zero features in final model: {}'.format(non_zero))\n",
    "\n",
    "non_zero_coefs = coefficients_lasso.query('coefficient != 0')\n",
    "coef_order = non_zero_coefs.abs().sort_values('coefficient').tail(30).index\n",
    "\n",
    "_, ax = plt.subplots(figsize=(6, 8))\n",
    "non_zero_coefs.loc[coef_order].plot.barh(ax = ax, legend = False)\n",
    "ax.set_xlabel('coefficient')\n",
    "ax.grid(True)"
   ]
  },
  {
   "cell_type": "markdown",
   "id": "631497a3",
   "metadata": {},
   "source": [
    "### 4.3 Elastic net "
   ]
  },
  {
   "cell_type": "code",
   "execution_count": 157,
   "id": "dd9c4e92",
   "metadata": {},
   "outputs": [
    {
     "data": {
      "text/plain": [
       "Pipeline(steps=[('columntransformer',\n",
       "                 ColumnTransformer(remainder='passthrough',\n",
       "                                   transformers=[('num',\n",
       "                                                  Pipeline(steps=[('imputer',\n",
       "                                                                   SimpleImputer(strategy='median')),\n",
       "                                                                  ('std_scaler',\n",
       "                                                                   StandardScaler())]),\n",
       "                                                  ['age', 'delta_adv_diagnosis',\n",
       "                                                   'weight_diag', 'bmi_diag',\n",
       "                                                   'weight_pct_change',\n",
       "                                                   'weight_slope',\n",
       "                                                   'albumin_diag', 'alp_diag',\n",
       "                                                   'alt_diag', 'ast_diag',\n",
       "                                                   'bicarb_diag', 'bun...\n",
       "                                                   'total_bilirubin_max',\n",
       "                                                   'wbc_max', 'albumin_min', ...]),\n",
       "                                                 ('cat',\n",
       "                                                  OneHotEncoder(handle_unknown='ignore'),\n",
       "                                                  ['PracticeType', 'gender',\n",
       "                                                   'race', 'ethnicity',\n",
       "                                                   'region', 'Histology',\n",
       "                                                   'SmokingStatus', 'stage',\n",
       "                                                   'adv_year', 'ALK', 'BRAF',\n",
       "                                                   'EGFR', 'KRAS', 'ROS1',\n",
       "                                                   'pdl1', 'pdl1_n',\n",
       "                                                   'ecog_diagnosis'])])),\n",
       "                ('coxnetsurvivalanalysis',\n",
       "                 CoxnetSurvivalAnalysis(alpha_min_ratio=0.0001, l1_ratio=0.9))])"
      ]
     },
     "execution_count": 430,
     "metadata": {},
     "output_type": "execute_result"
    }
   ],
   "source": [
    "enet = make_pipeline(preprocessor_red, CoxnetSurvivalAnalysis(l1_ratio = 0.9, alpha_min_ratio = 0.0001))\n",
    "\n",
    "enet.fit(train90_x_red, train90_y)"
   ]
  },
  {
   "cell_type": "code",
   "execution_count": 158,
   "id": "27d043e2",
   "metadata": {},
   "outputs": [
    {
     "data": {
      "text/plain": [
       "array([1.93275028e-01, 1.76105007e-01, 1.60460323e-01, 1.46205470e-01,\n",
       "       1.33216979e-01, 1.21382350e-01, 1.10599077e-01, 1.00773760e-01,\n",
       "       9.18212965e-02, 8.36641456e-02, 7.62316535e-02, 6.94594435e-02,\n",
       "       6.32888580e-02, 5.76664503e-02, 5.25435218e-02, 4.78757001e-02,\n",
       "       4.36225549e-02, 3.97472473e-02, 3.62162114e-02, 3.29988630e-02,\n",
       "       3.00673350e-02, 2.73962358e-02, 2.49624297e-02, 2.27448363e-02,\n",
       "       2.07242477e-02, 1.88831626e-02, 1.72056345e-02, 1.56771334e-02,\n",
       "       1.42844200e-02, 1.30154315e-02, 1.18591765e-02, 1.08056399e-02,\n",
       "       9.84569665e-03, 8.97103210e-03, 8.17407033e-03, 7.44790845e-03,\n",
       "       6.78625679e-03, 6.18338444e-03, 5.63406961e-03, 5.13355439e-03,\n",
       "       4.67750357e-03, 4.26196705e-03, 3.88334564e-03, 3.53835992e-03,\n",
       "       3.22402177e-03, 2.93760856e-03, 2.67663952e-03, 2.43885424e-03,\n",
       "       2.22219315e-03, 2.02477963e-03, 1.84490379e-03, 1.68100762e-03,\n",
       "       1.53167154e-03, 1.39560206e-03, 1.27162062e-03, 1.15865335e-03,\n",
       "       1.05572178e-03, 9.61934367e-04, 8.76478769e-04, 7.98614811e-04,\n",
       "       7.27668072e-04, 6.63024046e-04, 6.04122817e-04, 5.50454211e-04,\n",
       "       5.01553376e-04, 4.56996756e-04, 4.16398424e-04, 3.79406736e-04,\n",
       "       3.45701287e-04, 3.14990137e-04, 2.87007282e-04, 2.61510346e-04,\n",
       "       2.38278488e-04, 2.17110483e-04, 1.97822986e-04, 1.80248938e-04,\n",
       "       1.64236119e-04, 1.49645835e-04, 1.36351711e-04, 1.24238601e-04,\n",
       "       1.13201586e-04])"
      ]
     },
     "execution_count": 431,
     "metadata": {},
     "output_type": "execute_result"
    }
   ],
   "source": [
    "enet.named_steps['coxnetsurvivalanalysis'].alphas_"
   ]
  },
  {
   "cell_type": "code",
   "execution_count": 159,
   "id": "3f39368d",
   "metadata": {},
   "outputs": [],
   "source": [
    "estimated_alphas = enet.named_steps['coxnetsurvivalanalysis'].alphas_"
   ]
  },
  {
   "cell_type": "code",
   "execution_count": 160,
   "id": "92b6b896",
   "metadata": {},
   "outputs": [
    {
     "name": "stderr",
     "output_type": "stream",
     "text": [
      "/Applications/anaconda3/lib/python3.7/site-packages/sklearn/pipeline.py:394: UserWarning: all coefficients are zero, consider decreasing alpha.\n",
      "  self._final_estimator.fit(Xt, y, **fit_params_last_step)\n",
      "/Applications/anaconda3/lib/python3.7/site-packages/sklearn/pipeline.py:394: UserWarning: all coefficients are zero, consider decreasing alpha.\n",
      "  self._final_estimator.fit(Xt, y, **fit_params_last_step)\n",
      "/Applications/anaconda3/lib/python3.7/site-packages/sklearn/model_selection/_validation.py:774: UserWarning: Scoring failed. The score on this train-test partition for these parameters will be set to 0.5. Details: \n",
      "Traceback (most recent call last):\n",
      "  File \"/Applications/anaconda3/lib/python3.7/site-packages/sklearn/model_selection/_validation.py\", line 761, in _score\n",
      "    scores = scorer(estimator, X_test, y_test)\n",
      "  File \"/Applications/anaconda3/lib/python3.7/site-packages/sklearn/metrics/_scorer.py\", line 418, in _passthrough_scorer\n",
      "    return estimator.score(*args, **kwargs)\n",
      "  File \"/Applications/anaconda3/lib/python3.7/site-packages/sksurv/metrics.py\", line 795, in score\n",
      "    **self._get_score_params(),\n",
      "  File \"/Applications/anaconda3/lib/python3.7/site-packages/sksurv/metrics.py\", line 466, in cumulative_dynamic_auc\n",
      "    ipcw = cens.predict_ipcw(survival_test)\n",
      "  File \"/Applications/anaconda3/lib/python3.7/site-packages/sksurv/nonparametric.py\", line 445, in predict_ipcw\n",
      "    Ghat = self.predict_proba(time[event])\n",
      "  File \"/Applications/anaconda3/lib/python3.7/site-packages/sksurv/nonparametric.py\", line 381, in predict_proba\n",
      "    \"observed time point: {}\".format(self.unique_time_[-1]))\n",
      "ValueError: time must be smaller than largest observed time point: 3660.0\n",
      "\n",
      "  UserWarning,\n",
      "/Applications/anaconda3/lib/python3.7/site-packages/sklearn/model_selection/_validation.py:774: UserWarning: Scoring failed. The score on this train-test partition for these parameters will be set to 0.5. Details: \n",
      "Traceback (most recent call last):\n",
      "  File \"/Applications/anaconda3/lib/python3.7/site-packages/sklearn/model_selection/_validation.py\", line 761, in _score\n",
      "    scores = scorer(estimator, X_test, y_test)\n",
      "  File \"/Applications/anaconda3/lib/python3.7/site-packages/sklearn/metrics/_scorer.py\", line 418, in _passthrough_scorer\n",
      "    return estimator.score(*args, **kwargs)\n",
      "  File \"/Applications/anaconda3/lib/python3.7/site-packages/sksurv/metrics.py\", line 795, in score\n",
      "    **self._get_score_params(),\n",
      "  File \"/Applications/anaconda3/lib/python3.7/site-packages/sksurv/metrics.py\", line 466, in cumulative_dynamic_auc\n",
      "    ipcw = cens.predict_ipcw(survival_test)\n",
      "  File \"/Applications/anaconda3/lib/python3.7/site-packages/sksurv/nonparametric.py\", line 445, in predict_ipcw\n",
      "    Ghat = self.predict_proba(time[event])\n",
      "  File \"/Applications/anaconda3/lib/python3.7/site-packages/sksurv/nonparametric.py\", line 381, in predict_proba\n",
      "    \"observed time point: {}\".format(self.unique_time_[-1]))\n",
      "ValueError: time must be smaller than largest observed time point: 3660.0\n",
      "\n",
      "  UserWarning,\n",
      "/Applications/anaconda3/lib/python3.7/site-packages/sklearn/model_selection/_validation.py:774: UserWarning: Scoring failed. The score on this train-test partition for these parameters will be set to 0.5. Details: \n",
      "Traceback (most recent call last):\n",
      "  File \"/Applications/anaconda3/lib/python3.7/site-packages/sklearn/model_selection/_validation.py\", line 761, in _score\n",
      "    scores = scorer(estimator, X_test, y_test)\n",
      "  File \"/Applications/anaconda3/lib/python3.7/site-packages/sklearn/metrics/_scorer.py\", line 418, in _passthrough_scorer\n",
      "    return estimator.score(*args, **kwargs)\n",
      "  File \"/Applications/anaconda3/lib/python3.7/site-packages/sksurv/metrics.py\", line 795, in score\n",
      "    **self._get_score_params(),\n",
      "  File \"/Applications/anaconda3/lib/python3.7/site-packages/sksurv/metrics.py\", line 466, in cumulative_dynamic_auc\n",
      "    ipcw = cens.predict_ipcw(survival_test)\n",
      "  File \"/Applications/anaconda3/lib/python3.7/site-packages/sksurv/nonparametric.py\", line 445, in predict_ipcw\n",
      "    Ghat = self.predict_proba(time[event])\n",
      "  File \"/Applications/anaconda3/lib/python3.7/site-packages/sksurv/nonparametric.py\", line 381, in predict_proba\n",
      "    \"observed time point: {}\".format(self.unique_time_[-1]))\n",
      "ValueError: time must be smaller than largest observed time point: 3660.0\n",
      "\n",
      "  UserWarning,\n",
      "/Applications/anaconda3/lib/python3.7/site-packages/sklearn/model_selection/_validation.py:774: UserWarning: Scoring failed. The score on this train-test partition for these parameters will be set to 0.5. Details: \n",
      "Traceback (most recent call last):\n",
      "  File \"/Applications/anaconda3/lib/python3.7/site-packages/sklearn/model_selection/_validation.py\", line 761, in _score\n",
      "    scores = scorer(estimator, X_test, y_test)\n",
      "  File \"/Applications/anaconda3/lib/python3.7/site-packages/sklearn/metrics/_scorer.py\", line 418, in _passthrough_scorer\n",
      "    return estimator.score(*args, **kwargs)\n",
      "  File \"/Applications/anaconda3/lib/python3.7/site-packages/sksurv/metrics.py\", line 795, in score\n",
      "    **self._get_score_params(),\n",
      "  File \"/Applications/anaconda3/lib/python3.7/site-packages/sksurv/metrics.py\", line 466, in cumulative_dynamic_auc\n",
      "    ipcw = cens.predict_ipcw(survival_test)\n",
      "  File \"/Applications/anaconda3/lib/python3.7/site-packages/sksurv/nonparametric.py\", line 445, in predict_ipcw\n",
      "    Ghat = self.predict_proba(time[event])\n",
      "  File \"/Applications/anaconda3/lib/python3.7/site-packages/sksurv/nonparametric.py\", line 381, in predict_proba\n",
      "    \"observed time point: {}\".format(self.unique_time_[-1]))\n",
      "ValueError: time must be smaller than largest observed time point: 3660.0\n",
      "\n",
      "  UserWarning,\n",
      "/Applications/anaconda3/lib/python3.7/site-packages/sklearn/model_selection/_validation.py:774: UserWarning: Scoring failed. The score on this train-test partition for these parameters will be set to 0.5. Details: \n",
      "Traceback (most recent call last):\n",
      "  File \"/Applications/anaconda3/lib/python3.7/site-packages/sklearn/model_selection/_validation.py\", line 761, in _score\n",
      "    scores = scorer(estimator, X_test, y_test)\n",
      "  File \"/Applications/anaconda3/lib/python3.7/site-packages/sklearn/metrics/_scorer.py\", line 418, in _passthrough_scorer\n",
      "    return estimator.score(*args, **kwargs)\n",
      "  File \"/Applications/anaconda3/lib/python3.7/site-packages/sksurv/metrics.py\", line 795, in score\n",
      "    **self._get_score_params(),\n",
      "  File \"/Applications/anaconda3/lib/python3.7/site-packages/sksurv/metrics.py\", line 466, in cumulative_dynamic_auc\n",
      "    ipcw = cens.predict_ipcw(survival_test)\n",
      "  File \"/Applications/anaconda3/lib/python3.7/site-packages/sksurv/nonparametric.py\", line 445, in predict_ipcw\n",
      "    Ghat = self.predict_proba(time[event])\n",
      "  File \"/Applications/anaconda3/lib/python3.7/site-packages/sksurv/nonparametric.py\", line 381, in predict_proba\n",
      "    \"observed time point: {}\".format(self.unique_time_[-1]))\n",
      "ValueError: time must be smaller than largest observed time point: 3660.0\n",
      "\n",
      "  UserWarning,\n",
      "/Applications/anaconda3/lib/python3.7/site-packages/sklearn/pipeline.py:394: UserWarning: all coefficients are zero, consider decreasing alpha.\n",
      "  self._final_estimator.fit(Xt, y, **fit_params_last_step)\n",
      "/Applications/anaconda3/lib/python3.7/site-packages/sklearn/model_selection/_validation.py:774: UserWarning: Scoring failed. The score on this train-test partition for these parameters will be set to 0.5. Details: \n",
      "Traceback (most recent call last):\n",
      "  File \"/Applications/anaconda3/lib/python3.7/site-packages/sklearn/model_selection/_validation.py\", line 761, in _score\n",
      "    scores = scorer(estimator, X_test, y_test)\n",
      "  File \"/Applications/anaconda3/lib/python3.7/site-packages/sklearn/metrics/_scorer.py\", line 418, in _passthrough_scorer\n",
      "    return estimator.score(*args, **kwargs)\n",
      "  File \"/Applications/anaconda3/lib/python3.7/site-packages/sksurv/metrics.py\", line 795, in score\n",
      "    **self._get_score_params(),\n",
      "  File \"/Applications/anaconda3/lib/python3.7/site-packages/sksurv/metrics.py\", line 466, in cumulative_dynamic_auc\n",
      "    ipcw = cens.predict_ipcw(survival_test)\n",
      "  File \"/Applications/anaconda3/lib/python3.7/site-packages/sksurv/nonparametric.py\", line 445, in predict_ipcw\n",
      "    Ghat = self.predict_proba(time[event])\n",
      "  File \"/Applications/anaconda3/lib/python3.7/site-packages/sksurv/nonparametric.py\", line 381, in predict_proba\n",
      "    \"observed time point: {}\".format(self.unique_time_[-1]))\n",
      "ValueError: time must be smaller than largest observed time point: 3660.0\n",
      "\n",
      "  UserWarning,\n",
      "/Applications/anaconda3/lib/python3.7/site-packages/sklearn/model_selection/_validation.py:774: UserWarning: Scoring failed. The score on this train-test partition for these parameters will be set to 0.5. Details: \n",
      "Traceback (most recent call last):\n",
      "  File \"/Applications/anaconda3/lib/python3.7/site-packages/sklearn/model_selection/_validation.py\", line 761, in _score\n",
      "    scores = scorer(estimator, X_test, y_test)\n",
      "  File \"/Applications/anaconda3/lib/python3.7/site-packages/sklearn/metrics/_scorer.py\", line 418, in _passthrough_scorer\n",
      "    return estimator.score(*args, **kwargs)\n",
      "  File \"/Applications/anaconda3/lib/python3.7/site-packages/sksurv/metrics.py\", line 795, in score\n",
      "    **self._get_score_params(),\n",
      "  File \"/Applications/anaconda3/lib/python3.7/site-packages/sksurv/metrics.py\", line 466, in cumulative_dynamic_auc\n",
      "    ipcw = cens.predict_ipcw(survival_test)\n",
      "  File \"/Applications/anaconda3/lib/python3.7/site-packages/sksurv/nonparametric.py\", line 445, in predict_ipcw\n",
      "    Ghat = self.predict_proba(time[event])\n",
      "  File \"/Applications/anaconda3/lib/python3.7/site-packages/sksurv/nonparametric.py\", line 381, in predict_proba\n",
      "    \"observed time point: {}\".format(self.unique_time_[-1]))\n",
      "ValueError: time must be smaller than largest observed time point: 3660.0\n",
      "\n",
      "  UserWarning,\n",
      "/Applications/anaconda3/lib/python3.7/site-packages/sklearn/model_selection/_validation.py:774: UserWarning: Scoring failed. The score on this train-test partition for these parameters will be set to 0.5. Details: \n",
      "Traceback (most recent call last):\n",
      "  File \"/Applications/anaconda3/lib/python3.7/site-packages/sklearn/model_selection/_validation.py\", line 761, in _score\n",
      "    scores = scorer(estimator, X_test, y_test)\n",
      "  File \"/Applications/anaconda3/lib/python3.7/site-packages/sklearn/metrics/_scorer.py\", line 418, in _passthrough_scorer\n",
      "    return estimator.score(*args, **kwargs)\n",
      "  File \"/Applications/anaconda3/lib/python3.7/site-packages/sksurv/metrics.py\", line 795, in score\n",
      "    **self._get_score_params(),\n",
      "  File \"/Applications/anaconda3/lib/python3.7/site-packages/sksurv/metrics.py\", line 466, in cumulative_dynamic_auc\n",
      "    ipcw = cens.predict_ipcw(survival_test)\n",
      "  File \"/Applications/anaconda3/lib/python3.7/site-packages/sksurv/nonparametric.py\", line 445, in predict_ipcw\n",
      "    Ghat = self.predict_proba(time[event])\n",
      "  File \"/Applications/anaconda3/lib/python3.7/site-packages/sksurv/nonparametric.py\", line 381, in predict_proba\n",
      "    \"observed time point: {}\".format(self.unique_time_[-1]))\n",
      "ValueError: time must be smaller than largest observed time point: 3660.0\n",
      "\n",
      "  UserWarning,\n"
     ]
    },
    {
     "data": {
      "text/plain": [
       "GridSearchCV(cv=StratifiedKFold(n_splits=5, random_state=42, shuffle=True),\n",
       "             error_score=0.5,\n",
       "             estimator=as_cumulative_dynamic_auc_scorer(estimator=Pipeline(steps=[('columntransformer',\n",
       "                                                                                   ColumnTransformer(remainder='passthrough',\n",
       "                                                                                                     transformers=[('num',\n",
       "                                                                                                                    Pipeline(steps=[('imputer',\n",
       "                                                                                                                                     SimpleImputer(strategy='median')),\n",
       "                                                                                                                                    ('std_scaler',\n",
       "                                                                                                                                     StandardScaler())]),\n",
       "                                                                                                                    ['age',\n",
       "                                                                                                                     'delta...\n",
       "                                                                       [0.04787570009833687],\n",
       "                                                                       [0.04362255485255922],\n",
       "                                                                       [0.03974724730825697],\n",
       "                                                                       [0.03621621140539538],\n",
       "                                                                       [0.03299886300020127],\n",
       "                                                                       [0.030067334959940833],\n",
       "                                                                       [0.02739623579114729],\n",
       "                                                                       [0.024962429710651577],\n",
       "                                                                       [0.022744836254496466],\n",
       "                                                                       [0.0207242476890425],\n",
       "                                                                       [0.018883162642768025],\n",
       "                                                                       [0.01720563451776156],\n",
       "                                                                       [0.01567713336791942],\n",
       "                                                                       [0.014284420047503561],\n",
       "                                                                       [0.013015431539994692], ...]},\n",
       "             refit=False)"
      ]
     },
     "execution_count": 433,
     "metadata": {},
     "output_type": "execute_result"
    }
   ],
   "source": [
    "pipe = make_pipeline(preprocessor_red, CoxnetSurvivalAnalysis(l1_ratio = 0.9, max_iter = 100000))\n",
    "\n",
    "# 3 fold cross-validation\n",
    "cv = StratifiedKFold(n_splits = 5, shuffle = True, random_state = 42)\n",
    "\n",
    "# Parameter gird \n",
    "param_grid = {'estimator__coxnetsurvivalanalysis__alphas': [[x] for x in estimated_alphas]}\n",
    "\n",
    "enet_search = GridSearchCV(\n",
    "    as_cumulative_dynamic_auc_scorer(pipe, 365),\n",
    "    param_grid = param_grid,\n",
    "    cv = cv,\n",
    "    error_score = 0.5,\n",
    "    n_jobs = -1,\n",
    "    refit = False)\n",
    "\n",
    "# Run search \n",
    "warnings.filterwarnings('ignore')\n",
    "enet_search.fit(train90_x_red, train90_y)"
   ]
  },
  {
   "cell_type": "code",
   "execution_count": 161,
   "id": "0704460e",
   "metadata": {},
   "outputs": [
    {
     "data": {
      "text/plain": [
       "{'estimator__coxnetsurvivalanalysis__alphas': [0.008174070331240827]}"
      ]
     },
     "execution_count": 434,
     "metadata": {},
     "output_type": "execute_result"
    }
   ],
   "source": [
    "enet_search.best_params_"
   ]
  },
  {
   "cell_type": "code",
   "execution_count": 162,
   "id": "d4c9f7d9",
   "metadata": {},
   "outputs": [],
   "source": [
    "best_enet_alpha = enet_search.best_params_.get('estimator__coxnetsurvivalanalysis__alphas')"
   ]
  },
  {
   "cell_type": "code",
   "execution_count": 163,
   "id": "e77052e3",
   "metadata": {},
   "outputs": [
    {
     "data": {
      "text/plain": [
       "Pipeline(steps=[('columntransformer',\n",
       "                 ColumnTransformer(remainder='passthrough',\n",
       "                                   transformers=[('num',\n",
       "                                                  Pipeline(steps=[('imputer',\n",
       "                                                                   SimpleImputer(strategy='median')),\n",
       "                                                                  ('std_scaler',\n",
       "                                                                   StandardScaler())]),\n",
       "                                                  ['age', 'delta_adv_diagnosis',\n",
       "                                                   'weight_diag', 'bmi_diag',\n",
       "                                                   'weight_pct_change',\n",
       "                                                   'weight_slope',\n",
       "                                                   'albumin_diag', 'alp_diag',\n",
       "                                                   'alt_diag', 'ast_diag',\n",
       "                                                   'bicarb_diag', 'bun...\n",
       "                                                   'total_bilirubin_max',\n",
       "                                                   'wbc_max', 'albumin_min', ...]),\n",
       "                                                 ('cat',\n",
       "                                                  OneHotEncoder(handle_unknown='ignore'),\n",
       "                                                  ['PracticeType', 'gender',\n",
       "                                                   'race', 'ethnicity',\n",
       "                                                   'region', 'Histology',\n",
       "                                                   'SmokingStatus', 'stage',\n",
       "                                                   'adv_year', 'ALK', 'BRAF',\n",
       "                                                   'EGFR', 'KRAS', 'ROS1',\n",
       "                                                   'pdl1', 'pdl1_n',\n",
       "                                                   'ecog_diagnosis'])])),\n",
       "                ('coxnetsurvivalanalysis',\n",
       "                 CoxnetSurvivalAnalysis(alphas=[0.008174070331240827],\n",
       "                                        l1_ratio=0.9))])"
      ]
     },
     "execution_count": 489,
     "metadata": {},
     "output_type": "execute_result"
    }
   ],
   "source": [
    "enet = make_pipeline(preprocessor_red, CoxnetSurvivalAnalysis(l1_ratio = 0.9,\n",
    "                                                              alphas = best_enet_alpha,\n",
    "                                                              max_iter = 100000))\n",
    "\n",
    "enet.fit(train_x_red, train_y)"
   ]
  },
  {
   "cell_type": "code",
   "execution_count": 164,
   "id": "f09b56f6",
   "metadata": {},
   "outputs": [
    {
     "name": "stdout",
     "output_type": "stream",
     "text": [
      "Test set AUC at 1 year: 0.7357884077467685\n"
     ]
    }
   ],
   "source": [
    "enet_risk_scores_te = enet.predict(test_x_red)\n",
    "enet_auc_te = cumulative_dynamic_auc(train_y, test_y, enet_risk_scores_te, 365)[0][0]\n",
    "print('Test set AUC at 1 year:', enet_auc_te)"
   ]
  },
  {
   "cell_type": "code",
   "execution_count": 165,
   "id": "0ddce5f2",
   "metadata": {},
   "outputs": [
    {
     "name": "stdout",
     "output_type": "stream",
     "text": [
      "Training set AUC at 1 year: 0.7371631017877147\n"
     ]
    }
   ],
   "source": [
    "enet_risk_scores_tr = enet.predict(train_x_red)\n",
    "enet_auc_tr = cumulative_dynamic_auc(train_y, train_y, enet_risk_scores_tr, 365)[0][0]\n",
    "print('Training set AUC at 1 year:', enet_auc_tr)"
   ]
  },
  {
   "cell_type": "code",
   "execution_count": 166,
   "id": "10bac374",
   "metadata": {},
   "outputs": [],
   "source": [
    "# Bootstrap 10000 1 yr AUCs for test set \n",
    "n_bootstraps = 10000\n",
    "rng_seed = 42 \n",
    "bootstrapped_scores_te = []\n",
    "\n",
    "warnings.filterwarnings('ignore')\n",
    "\n",
    "rng = np.random.RandomState(rng_seed)\n",
    "for i in range(n_bootstraps):\n",
    "    indices = rng.randint(0, len(enet_risk_scores_te), len(enet_risk_scores_te))\n",
    "    auc_yr = cumulative_dynamic_auc(train_y, test_y[indices], enet_risk_scores_te[indices], 365)[0][0]\n",
    "    bootstrapped_scores_te.append(auc_yr)"
   ]
  },
  {
   "cell_type": "code",
   "execution_count": 167,
   "id": "fe2f1f9d",
   "metadata": {},
   "outputs": [
    {
     "name": "stdout",
     "output_type": "stream",
     "text": [
      "Test set AUC standard error: 0.004540251052351145\n"
     ]
    }
   ],
   "source": [
    "# Standard error of mean for test set AUC\n",
    "sorted_scores_te = np.array(bootstrapped_scores_te)\n",
    "sorted_scores_te.sort()\n",
    "\n",
    "conf_lower_te = sorted_scores_te[int(0.025 * len(sorted_scores_te))]\n",
    "conf_upper_te = sorted_scores_te[int(0.975 * len(sorted_scores_te))]\n",
    "\n",
    "standard_error_te = (conf_upper_te - conf_lower_te) / 3.92\n",
    "print('Test set AUC standard error:', standard_error_te)"
   ]
  },
  {
   "cell_type": "code",
   "execution_count": 168,
   "id": "6b89d340",
   "metadata": {},
   "outputs": [],
   "source": [
    "# Bootstrap 10000 1-yr AUCs for train set \n",
    "n_bootstraps = 10000\n",
    "rng_seed = 42 \n",
    "bootstrapped_scores_tr = []\n",
    "\n",
    "warnings.filterwarnings('ignore')\n",
    "\n",
    "rng = np.random.RandomState(rng_seed)\n",
    "for i in range(n_bootstraps):\n",
    "    indices = rng.randint(0, len(enet_risk_scores_tr), len(enet_risk_scores_tr))\n",
    "    auc_yr = cumulative_dynamic_auc(train_y, train_y[indices], enet_risk_scores_tr[indices], 365)[0][0]\n",
    "    bootstrapped_scores_tr.append(auc_yr)"
   ]
  },
  {
   "cell_type": "code",
   "execution_count": 169,
   "id": "34a96b38",
   "metadata": {},
   "outputs": [
    {
     "name": "stdout",
     "output_type": "stream",
     "text": [
      "Training set AUC standard error 0.002255075794504135\n"
     ]
    }
   ],
   "source": [
    "# Standard error of mean for train set AUC\n",
    "sorted_scores_tr = np.array(bootstrapped_scores_tr)\n",
    "sorted_scores_tr.sort()\n",
    "\n",
    "conf_lower_tr = sorted_scores_tr[int(0.025 * len(sorted_scores_tr))]\n",
    "conf_upper_tr = sorted_scores_tr[int(0.975 * len(sorted_scores_tr))]\n",
    "\n",
    "standard_error_tr = (conf_upper_tr - conf_lower_tr) / 3.92\n",
    "print('Training set AUC standard error', standard_error_tr)"
   ]
  },
  {
   "cell_type": "code",
   "execution_count": 170,
   "id": "570e5591",
   "metadata": {},
   "outputs": [],
   "source": [
    "crude_auc_data = {'model': 'enet_crude',\n",
    "                  'auc_1yr_te': enet_auc_te,\n",
    "                  'sem_te': standard_error_te,\n",
    "                  'auc_1yr_tr': enet_auc_tr,\n",
    "                  'sem_tr': standard_error_tr}"
   ]
  },
  {
   "cell_type": "code",
   "execution_count": 171,
   "id": "740dad37",
   "metadata": {},
   "outputs": [],
   "source": [
    "crude_auc_df = pd.read_csv('crude_auc_df.csv')"
   ]
  },
  {
   "cell_type": "code",
   "execution_count": 172,
   "id": "0253bbdf",
   "metadata": {},
   "outputs": [],
   "source": [
    "crude_auc_df = crude_auc_df.append(crude_auc_data, ignore_index = True)"
   ]
  },
  {
   "cell_type": "code",
   "execution_count": 173,
   "id": "fa61e506",
   "metadata": {},
   "outputs": [
    {
     "data": {
      "text/html": [
       "<div>\n",
       "<style scoped>\n",
       "    .dataframe tbody tr th:only-of-type {\n",
       "        vertical-align: middle;\n",
       "    }\n",
       "\n",
       "    .dataframe tbody tr th {\n",
       "        vertical-align: top;\n",
       "    }\n",
       "\n",
       "    .dataframe thead th {\n",
       "        text-align: right;\n",
       "    }\n",
       "</style>\n",
       "<table border=\"1\" class=\"dataframe\">\n",
       "  <thead>\n",
       "    <tr style=\"text-align: right;\">\n",
       "      <th></th>\n",
       "      <th>model</th>\n",
       "      <th>auc_1yr_te</th>\n",
       "      <th>sem_te</th>\n",
       "      <th>auc_1yr_tr</th>\n",
       "      <th>sem_tr</th>\n",
       "    </tr>\n",
       "  </thead>\n",
       "  <tbody>\n",
       "    <tr>\n",
       "      <th>0</th>\n",
       "      <td>gbm_crude</td>\n",
       "      <td>0.787443</td>\n",
       "      <td>0.004128</td>\n",
       "      <td>0.793450</td>\n",
       "      <td>0.002031</td>\n",
       "    </tr>\n",
       "    <tr>\n",
       "      <th>1</th>\n",
       "      <td>rsf_crude</td>\n",
       "      <td>0.774594</td>\n",
       "      <td>0.004214</td>\n",
       "      <td>0.901029</td>\n",
       "      <td>0.001352</td>\n",
       "    </tr>\n",
       "    <tr>\n",
       "      <th>2</th>\n",
       "      <td>ridge_crude</td>\n",
       "      <td>0.751794</td>\n",
       "      <td>0.004430</td>\n",
       "      <td>0.755288</td>\n",
       "      <td>0.002165</td>\n",
       "    </tr>\n",
       "    <tr>\n",
       "      <th>3</th>\n",
       "      <td>lasso_crude</td>\n",
       "      <td>0.736107</td>\n",
       "      <td>0.004536</td>\n",
       "      <td>0.737436</td>\n",
       "      <td>0.002255</td>\n",
       "    </tr>\n",
       "    <tr>\n",
       "      <th>4</th>\n",
       "      <td>enet_crude</td>\n",
       "      <td>0.735788</td>\n",
       "      <td>0.004540</td>\n",
       "      <td>0.737163</td>\n",
       "      <td>0.002255</td>\n",
       "    </tr>\n",
       "  </tbody>\n",
       "</table>\n",
       "</div>"
      ],
      "text/plain": [
       "         model  auc_1yr_te    sem_te  auc_1yr_tr    sem_tr\n",
       "0    gbm_crude    0.787443  0.004128    0.793450  0.002031\n",
       "1    rsf_crude    0.774594  0.004214    0.901029  0.001352\n",
       "2  ridge_crude    0.751794  0.004430    0.755288  0.002165\n",
       "3  lasso_crude    0.736107  0.004536    0.737436  0.002255\n",
       "4   enet_crude    0.735788  0.004540    0.737163  0.002255"
      ]
     },
     "execution_count": 446,
     "metadata": {},
     "output_type": "execute_result"
    }
   ],
   "source": [
    "crude_auc_df"
   ]
  },
  {
   "cell_type": "code",
   "execution_count": 174,
   "id": "7e94440f",
   "metadata": {},
   "outputs": [],
   "source": [
    "crude_auc_df.to_csv('crude_auc_df.csv', index = False, header = True)"
   ]
  },
  {
   "cell_type": "code",
   "execution_count": 175,
   "id": "1c617eab",
   "metadata": {},
   "outputs": [],
   "source": [
    "times = np.arange(30, 1810, 30)\n",
    "crude_enet_auc_over5 = cumulative_dynamic_auc(train_y, test_y, enet_risk_scores_te, times)[0]\n",
    "\n",
    "times_data = {}\n",
    "values = crude_enet_auc_over5\n",
    "time_names = []\n",
    "\n",
    "for x in range(len(times)):\n",
    "    time_names.append('time_'+str(times[x]))\n",
    "\n",
    "for i in range(len(time_names)):\n",
    "    times_data[time_names[i]] = values[i]\n",
    "    \n",
    "crude_enet_over5_df = pd.DataFrame(times_data, index = ['enet_crude'])"
   ]
  },
  {
   "cell_type": "code",
   "execution_count": 176,
   "id": "53258a3b",
   "metadata": {},
   "outputs": [],
   "source": [
    "crude_auc_over5 = pd.read_csv('crude_auc_over5.csv', index_col = 0)"
   ]
  },
  {
   "cell_type": "code",
   "execution_count": 177,
   "id": "bcc9ea4f",
   "metadata": {},
   "outputs": [],
   "source": [
    "crude_auc_over5 = crude_auc_over5.append(crude_enet_over5_df, ignore_index = False)"
   ]
  },
  {
   "cell_type": "code",
   "execution_count": 178,
   "id": "643337ca",
   "metadata": {},
   "outputs": [
    {
     "data": {
      "text/html": [
       "<div>\n",
       "<style scoped>\n",
       "    .dataframe tbody tr th:only-of-type {\n",
       "        vertical-align: middle;\n",
       "    }\n",
       "\n",
       "    .dataframe tbody tr th {\n",
       "        vertical-align: top;\n",
       "    }\n",
       "\n",
       "    .dataframe thead th {\n",
       "        text-align: right;\n",
       "    }\n",
       "</style>\n",
       "<table border=\"1\" class=\"dataframe\">\n",
       "  <thead>\n",
       "    <tr style=\"text-align: right;\">\n",
       "      <th></th>\n",
       "      <th>time_30</th>\n",
       "      <th>time_60</th>\n",
       "      <th>time_90</th>\n",
       "      <th>time_120</th>\n",
       "      <th>time_150</th>\n",
       "      <th>time_180</th>\n",
       "      <th>time_210</th>\n",
       "      <th>time_240</th>\n",
       "      <th>time_270</th>\n",
       "      <th>time_300</th>\n",
       "      <th>...</th>\n",
       "      <th>time_1530</th>\n",
       "      <th>time_1560</th>\n",
       "      <th>time_1590</th>\n",
       "      <th>time_1620</th>\n",
       "      <th>time_1650</th>\n",
       "      <th>time_1680</th>\n",
       "      <th>time_1710</th>\n",
       "      <th>time_1740</th>\n",
       "      <th>time_1770</th>\n",
       "      <th>time_1800</th>\n",
       "    </tr>\n",
       "  </thead>\n",
       "  <tbody>\n",
       "    <tr>\n",
       "      <th>gbm_crude</th>\n",
       "      <td>0.828087</td>\n",
       "      <td>0.837199</td>\n",
       "      <td>0.828516</td>\n",
       "      <td>0.822428</td>\n",
       "      <td>0.819805</td>\n",
       "      <td>0.812663</td>\n",
       "      <td>0.805503</td>\n",
       "      <td>0.801027</td>\n",
       "      <td>0.794772</td>\n",
       "      <td>0.791386</td>\n",
       "      <td>...</td>\n",
       "      <td>0.754921</td>\n",
       "      <td>0.755207</td>\n",
       "      <td>0.755186</td>\n",
       "      <td>0.753519</td>\n",
       "      <td>0.754502</td>\n",
       "      <td>0.755006</td>\n",
       "      <td>0.757776</td>\n",
       "      <td>0.757342</td>\n",
       "      <td>0.755963</td>\n",
       "      <td>0.760696</td>\n",
       "    </tr>\n",
       "    <tr>\n",
       "      <th>rsf_crude</th>\n",
       "      <td>0.867312</td>\n",
       "      <td>0.859772</td>\n",
       "      <td>0.835875</td>\n",
       "      <td>0.820824</td>\n",
       "      <td>0.812596</td>\n",
       "      <td>0.802378</td>\n",
       "      <td>0.794869</td>\n",
       "      <td>0.789264</td>\n",
       "      <td>0.781928</td>\n",
       "      <td>0.778615</td>\n",
       "      <td>...</td>\n",
       "      <td>0.749314</td>\n",
       "      <td>0.749701</td>\n",
       "      <td>0.748179</td>\n",
       "      <td>0.744339</td>\n",
       "      <td>0.745877</td>\n",
       "      <td>0.746235</td>\n",
       "      <td>0.748660</td>\n",
       "      <td>0.747506</td>\n",
       "      <td>0.745445</td>\n",
       "      <td>0.751312</td>\n",
       "    </tr>\n",
       "    <tr>\n",
       "      <th>ridge_crude</th>\n",
       "      <td>0.777286</td>\n",
       "      <td>0.780309</td>\n",
       "      <td>0.769720</td>\n",
       "      <td>0.763561</td>\n",
       "      <td>0.762762</td>\n",
       "      <td>0.760119</td>\n",
       "      <td>0.758587</td>\n",
       "      <td>0.756088</td>\n",
       "      <td>0.753052</td>\n",
       "      <td>0.752842</td>\n",
       "      <td>...</td>\n",
       "      <td>0.731014</td>\n",
       "      <td>0.730098</td>\n",
       "      <td>0.729564</td>\n",
       "      <td>0.728929</td>\n",
       "      <td>0.731563</td>\n",
       "      <td>0.731050</td>\n",
       "      <td>0.730840</td>\n",
       "      <td>0.729901</td>\n",
       "      <td>0.726485</td>\n",
       "      <td>0.729286</td>\n",
       "    </tr>\n",
       "    <tr>\n",
       "      <th>lasso_crude</th>\n",
       "      <td>0.768503</td>\n",
       "      <td>0.769596</td>\n",
       "      <td>0.761076</td>\n",
       "      <td>0.753053</td>\n",
       "      <td>0.750823</td>\n",
       "      <td>0.747141</td>\n",
       "      <td>0.744786</td>\n",
       "      <td>0.741996</td>\n",
       "      <td>0.737649</td>\n",
       "      <td>0.737079</td>\n",
       "      <td>...</td>\n",
       "      <td>0.741010</td>\n",
       "      <td>0.740091</td>\n",
       "      <td>0.739450</td>\n",
       "      <td>0.740001</td>\n",
       "      <td>0.742917</td>\n",
       "      <td>0.743656</td>\n",
       "      <td>0.744641</td>\n",
       "      <td>0.743439</td>\n",
       "      <td>0.738617</td>\n",
       "      <td>0.743433</td>\n",
       "    </tr>\n",
       "    <tr>\n",
       "      <th>enet_crude</th>\n",
       "      <td>0.768369</td>\n",
       "      <td>0.769453</td>\n",
       "      <td>0.760871</td>\n",
       "      <td>0.752795</td>\n",
       "      <td>0.750506</td>\n",
       "      <td>0.746809</td>\n",
       "      <td>0.744442</td>\n",
       "      <td>0.741660</td>\n",
       "      <td>0.737306</td>\n",
       "      <td>0.736737</td>\n",
       "      <td>...</td>\n",
       "      <td>0.741023</td>\n",
       "      <td>0.740099</td>\n",
       "      <td>0.739453</td>\n",
       "      <td>0.739998</td>\n",
       "      <td>0.742919</td>\n",
       "      <td>0.743656</td>\n",
       "      <td>0.744617</td>\n",
       "      <td>0.743423</td>\n",
       "      <td>0.738587</td>\n",
       "      <td>0.743444</td>\n",
       "    </tr>\n",
       "  </tbody>\n",
       "</table>\n",
       "<p>5 rows × 60 columns</p>\n",
       "</div>"
      ],
      "text/plain": [
       "              time_30   time_60   time_90  time_120  time_150  time_180  \\\n",
       "gbm_crude    0.828087  0.837199  0.828516  0.822428  0.819805  0.812663   \n",
       "rsf_crude    0.867312  0.859772  0.835875  0.820824  0.812596  0.802378   \n",
       "ridge_crude  0.777286  0.780309  0.769720  0.763561  0.762762  0.760119   \n",
       "lasso_crude  0.768503  0.769596  0.761076  0.753053  0.750823  0.747141   \n",
       "enet_crude   0.768369  0.769453  0.760871  0.752795  0.750506  0.746809   \n",
       "\n",
       "             time_210  time_240  time_270  time_300  ...  time_1530  \\\n",
       "gbm_crude    0.805503  0.801027  0.794772  0.791386  ...   0.754921   \n",
       "rsf_crude    0.794869  0.789264  0.781928  0.778615  ...   0.749314   \n",
       "ridge_crude  0.758587  0.756088  0.753052  0.752842  ...   0.731014   \n",
       "lasso_crude  0.744786  0.741996  0.737649  0.737079  ...   0.741010   \n",
       "enet_crude   0.744442  0.741660  0.737306  0.736737  ...   0.741023   \n",
       "\n",
       "             time_1560  time_1590  time_1620  time_1650  time_1680  time_1710  \\\n",
       "gbm_crude     0.755207   0.755186   0.753519   0.754502   0.755006   0.757776   \n",
       "rsf_crude     0.749701   0.748179   0.744339   0.745877   0.746235   0.748660   \n",
       "ridge_crude   0.730098   0.729564   0.728929   0.731563   0.731050   0.730840   \n",
       "lasso_crude   0.740091   0.739450   0.740001   0.742917   0.743656   0.744641   \n",
       "enet_crude    0.740099   0.739453   0.739998   0.742919   0.743656   0.744617   \n",
       "\n",
       "             time_1740  time_1770  time_1800  \n",
       "gbm_crude     0.757342   0.755963   0.760696  \n",
       "rsf_crude     0.747506   0.745445   0.751312  \n",
       "ridge_crude   0.729901   0.726485   0.729286  \n",
       "lasso_crude   0.743439   0.738617   0.743433  \n",
       "enet_crude    0.743423   0.738587   0.743444  \n",
       "\n",
       "[5 rows x 60 columns]"
      ]
     },
     "execution_count": 451,
     "metadata": {},
     "output_type": "execute_result"
    }
   ],
   "source": [
    "crude_auc_over5"
   ]
  },
  {
   "cell_type": "code",
   "execution_count": 179,
   "id": "d2f18eca",
   "metadata": {},
   "outputs": [],
   "source": [
    "crude_auc_over5.to_csv('crude_auc_over5.csv', index = True, header = True)"
   ]
  },
  {
   "cell_type": "code",
   "execution_count": 180,
   "id": "47c22dd0",
   "metadata": {},
   "outputs": [],
   "source": [
    "# Variables passing through pipeline\n",
    "cat_encoder = list(preprocessor_red.transformers_[1][1].get_feature_names(categorical_features))\n",
    "pass_through = list(train_x_red.iloc[:, preprocessor_red.transformers_[2][2]].columns)\n",
    "attributes = numerical_features_red + cat_encoder + pass_through"
   ]
  },
  {
   "cell_type": "code",
   "execution_count": 181,
   "id": "fd0ebb47",
   "metadata": {},
   "outputs": [
    {
     "name": "stdout",
     "output_type": "stream",
     "text": [
      "Total number of features: 192\n",
      "Number of non-zero features in final model: 53\n"
     ]
    },
    {
     "data": {
      "image/png": "[encoded data removed]",
      "text/plain": [
       "<Figure size 432x576 with 1 Axes>"
      ]
     },
     "metadata": {
      "needs_background": "light"
     },
     "output_type": "display_data"
    }
   ],
   "source": [
    "# Dataframe of coefficients for each variable \n",
    "coefficients_enet = pd.DataFrame(\n",
    "    enet.named_steps['coxnetsurvivalanalysis'].coef_,\n",
    "    index = attributes,\n",
    "    columns = ['coefficient']\n",
    ")\n",
    "\n",
    "print('Total number of features: {}'.format(len(attributes)))\n",
    "\n",
    "non_zero = np.sum(coefficients_enet.iloc[:, 0] != 0)\n",
    "print('Number of non-zero features in final model: {}'.format(non_zero))\n",
    "\n",
    "non_zero_coefs = coefficients_enet.query('coefficient != 0')\n",
    "coef_order = non_zero_coefs.abs().sort_values('coefficient').tail(30).index\n",
    "\n",
    "_, ax = plt.subplots(figsize=(6, 8))\n",
    "non_zero_coefs.loc[coef_order].plot.barh(ax = ax, legend = False)\n",
    "ax.set_xlabel('coefficient')\n",
    "ax.grid(True)"
   ]
  },
  {
   "cell_type": "markdown",
   "id": "3eb0ed6b",
   "metadata": {},
   "source": [
    "**Among the penalized Cox models, the ridge penalty has the best performance in regards to test set 1 year AUC. Not surprisingly, the penalized Cox models perform worse than the gradient boosting model or the random survival forest.**"
   ]
  },
  {
   "cell_type": "markdown",
   "id": "e9088eb4",
   "metadata": {},
   "source": [
    "## 5. Linear survival support vector machine "
   ]
  },
  {
   "cell_type": "markdown",
   "id": "8034839f",
   "metadata": {},
   "source": [
    "**Lastly, we'll build a survival support vector machines with a linear kernel and a ranking objective.** "
   ]
  },
  {
   "cell_type": "code",
   "execution_count": 182,
   "id": "41c3bd38",
   "metadata": {},
   "outputs": [],
   "source": [
    "from sklearn.model_selection import StratifiedKFold, GridSearchCV\n",
    "from sklearn.pipeline import make_pipeline\n",
    "\n",
    "from sksurv.svm import FastSurvivalSVM\n",
    "from sksurv.metrics import cumulative_dynamic_auc, as_cumulative_dynamic_auc_scorer\n",
    "\n",
    "import warnings \n",
    "\n",
    "import matplotlib.pyplot as plt"
   ]
  },
  {
   "cell_type": "code",
   "execution_count": 183,
   "id": "a1f4c973",
   "metadata": {},
   "outputs": [
    {
     "data": {
      "text/plain": [
       "GridSearchCV(cv=StratifiedKFold(n_splits=5, random_state=42, shuffle=True),\n",
       "             error_score=0.5,\n",
       "             estimator=as_cumulative_dynamic_auc_scorer(estimator=Pipeline(steps=[('columntransformer',\n",
       "                                                                                   ColumnTransformer(remainder='passthrough',\n",
       "                                                                                                     transformers=[('num',\n",
       "                                                                                                                    Pipeline(steps=[('imputer',\n",
       "                                                                                                                                     SimpleImputer(strategy='median')),\n",
       "                                                                                                                                    ('std_scaler',\n",
       "                                                                                                                                     StandardScaler())]),\n",
       "                                                                                                                    ['age',\n",
       "                                                                                                                     'delta...\n",
       "                                                                                                   random_state=42,\n",
       "                                                                                                   rank_ratio=1,\n",
       "                                                                                                   tol=0.001))]),\n",
       "                                                        times=365),\n",
       "             n_jobs=-1,\n",
       "             param_grid={'estimator__fastsurvivalsvm__alpha': array([1.00000000e-03, 2.68269580e-03, 7.19685673e-03, 1.93069773e-02,\n",
       "       5.17947468e-02, 1.38949549e-01, 3.72759372e-01, 1.00000000e+00,\n",
       "       2.68269580e+00, 7.19685673e+00, 1.93069773e+01, 5.17947468e+01,\n",
       "       1.38949549e+02, 3.72759372e+02, 1.00000000e+03])},\n",
       "             refit=False)"
      ]
     },
     "execution_count": 456,
     "metadata": {},
     "output_type": "execute_result"
    }
   ],
   "source": [
    "pipe = make_pipeline(preprocessor_red, FastSurvivalSVM(rank_ratio = 1, \n",
    "                                                       max_iter = 1000, \n",
    "                                                       tol = 1e-3,\n",
    "                                                       random_state = 42))\n",
    "\n",
    "# 3 fold cross-validation\n",
    "cv = StratifiedKFold(n_splits = 5, shuffle = True, random_state = 42)\n",
    "\n",
    "# Parameter gird \n",
    "param_grid = {'estimator__fastsurvivalsvm__alpha': 10. ** np.linspace(-3, 3, 15)}\n",
    "\n",
    "linear_svm_search = GridSearchCV(\n",
    "    as_cumulative_dynamic_auc_scorer(pipe, 365),\n",
    "    param_grid = param_grid,\n",
    "    cv = cv,\n",
    "    error_score = 0.5,\n",
    "    n_jobs = -1,\n",
    "    refit = False)\n",
    "\n",
    "# Run search \n",
    "warnings.filterwarnings('ignore')\n",
    "linear_svm_search.fit(train90_x_red, train90_y)"
   ]
  },
  {
   "cell_type": "code",
   "execution_count": 184,
   "id": "379b24ee",
   "metadata": {},
   "outputs": [
    {
     "data": {
      "text/plain": [
       "{'estimator__fastsurvivalsvm__alpha': 19.306977288832496}"
      ]
     },
     "execution_count": 457,
     "metadata": {},
     "output_type": "execute_result"
    }
   ],
   "source": [
    "linear_svm_search.best_params_"
   ]
  },
  {
   "cell_type": "code",
   "execution_count": 185,
   "id": "08112ed5",
   "metadata": {},
   "outputs": [],
   "source": [
    "best_linear_svm_alpha = linear_svm_search.best_params_.get('estimator__fastsurvivalsvm__alpha')"
   ]
  },
  {
   "cell_type": "code",
   "execution_count": 186,
   "id": "e056d7bf",
   "metadata": {},
   "outputs": [
    {
     "data": {
      "text/plain": [
       "Pipeline(steps=[('columntransformer',\n",
       "                 ColumnTransformer(remainder='passthrough',\n",
       "                                   transformers=[('num',\n",
       "                                                  Pipeline(steps=[('imputer',\n",
       "                                                                   SimpleImputer(strategy='median')),\n",
       "                                                                  ('std_scaler',\n",
       "                                                                   StandardScaler())]),\n",
       "                                                  ['age', 'delta_adv_diagnosis',\n",
       "                                                   'weight_diag', 'bmi_diag',\n",
       "                                                   'weight_pct_change',\n",
       "                                                   'weight_slope',\n",
       "                                                   'albumin_diag', 'alp_diag',\n",
       "                                                   'alt_diag', 'ast_diag',\n",
       "                                                   'bicarb_diag', 'bun...\n",
       "                                                 ('cat',\n",
       "                                                  OneHotEncoder(handle_unknown='ignore'),\n",
       "                                                  ['PracticeType', 'gender',\n",
       "                                                   'race', 'ethnicity',\n",
       "                                                   'region', 'Histology',\n",
       "                                                   'SmokingStatus', 'stage',\n",
       "                                                   'adv_year', 'ALK', 'BRAF',\n",
       "                                                   'EGFR', 'KRAS', 'ROS1',\n",
       "                                                   'pdl1', 'pdl1_n',\n",
       "                                                   'ecog_diagnosis'])])),\n",
       "                ('fastsurvivalsvm',\n",
       "                 FastSurvivalSVM(alpha=19.306977288832496, max_iter=1000,\n",
       "                                 optimizer='avltree', random_state=42,\n",
       "                                 rank_ratio=1, tol=0.001))])"
      ]
     },
     "execution_count": 459,
     "metadata": {},
     "output_type": "execute_result"
    }
   ],
   "source": [
    "linear_svm = make_pipeline(preprocessor_red, FastSurvivalSVM(alpha = best_linear_svm_alpha,\n",
    "                                                             rank_ratio = 1,\n",
    "                                                             max_iter = 1000,\n",
    "                                                             tol = 1e-3,\n",
    "                                                             random_state = 42))\n",
    "\n",
    "linear_svm.fit(train_x_red, train_y)"
   ]
  },
  {
   "cell_type": "code",
   "execution_count": 187,
   "id": "d9de5e08",
   "metadata": {},
   "outputs": [
    {
     "name": "stdout",
     "output_type": "stream",
     "text": [
      "Test set AUC at 1 year: 0.7463586500149999\n"
     ]
    }
   ],
   "source": [
    "linear_svm_risk_scores_te = linear_svm.predict(test_x_red)\n",
    "linear_svm_auc_te = cumulative_dynamic_auc(train_y, test_y, linear_svm_risk_scores_te, 365)[0][0]\n",
    "print('Test set AUC at 1 year:', linear_svm_auc_te)"
   ]
  },
  {
   "cell_type": "code",
   "execution_count": 188,
   "id": "a654ab2a",
   "metadata": {},
   "outputs": [
    {
     "name": "stdout",
     "output_type": "stream",
     "text": [
      "Training set AUC at 1 year: 0.7510827289322517\n"
     ]
    }
   ],
   "source": [
    "linear_svm_risk_scores_tr = linear_svm.predict(train_x_red)\n",
    "linear_svm_auc_tr = cumulative_dynamic_auc(train_y, train_y, linear_svm_risk_scores_tr, 365)[0][0]\n",
    "print('Training set AUC at 1 year:', linear_svm_auc_tr)"
   ]
  },
  {
   "cell_type": "code",
   "execution_count": 189,
   "id": "e619382a",
   "metadata": {},
   "outputs": [],
   "source": [
    "# Bootstrap 10000 1 yr AUCs for test set \n",
    "n_bootstraps = 10000\n",
    "rng_seed = 42 \n",
    "bootstrapped_scores_te = []\n",
    "\n",
    "warnings.filterwarnings('ignore')\n",
    "\n",
    "rng = np.random.RandomState(rng_seed)\n",
    "for i in range(n_bootstraps):\n",
    "    indices = rng.randint(0, len(linear_svm_risk_scores_te), len(linear_svm_risk_scores_te))\n",
    "    auc_yr = cumulative_dynamic_auc(train_y, test_y[indices], linear_svm_risk_scores_te[indices], 365)[0][0]\n",
    "    bootstrapped_scores_te.append(auc_yr)"
   ]
  },
  {
   "cell_type": "code",
   "execution_count": 190,
   "id": "b382a7ad",
   "metadata": {},
   "outputs": [
    {
     "name": "stdout",
     "output_type": "stream",
     "text": [
      "Test set AUC standard error: 0.004484023523094138\n"
     ]
    }
   ],
   "source": [
    "# Standard error of mean for test set AUC\n",
    "sorted_scores_te = np.array(bootstrapped_scores_te)\n",
    "sorted_scores_te.sort()\n",
    "\n",
    "conf_lower_te = sorted_scores_te[int(0.025 * len(sorted_scores_te))]\n",
    "conf_upper_te = sorted_scores_te[int(0.975 * len(sorted_scores_te))]\n",
    "\n",
    "standard_error_te = (conf_upper_te - conf_lower_te) / 3.92\n",
    "print('Test set AUC standard error:', standard_error_te)"
   ]
  },
  {
   "cell_type": "code",
   "execution_count": 191,
   "id": "0699fd52",
   "metadata": {},
   "outputs": [],
   "source": [
    "# Bootstrap 10000 1-yr AUCs for train set \n",
    "n_bootstraps = 10000\n",
    "rng_seed = 42 \n",
    "bootstrapped_scores_tr = []\n",
    "\n",
    "warnings.filterwarnings('ignore')\n",
    "\n",
    "rng = np.random.RandomState(rng_seed)\n",
    "for i in range(n_bootstraps):\n",
    "    indices = rng.randint(0, len(linear_svm_risk_scores_tr), len(linear_svm_risk_scores_tr))\n",
    "    auc_yr = cumulative_dynamic_auc(train_y, train_y[indices], linear_svm_risk_scores_tr[indices], 365)[0][0]\n",
    "    bootstrapped_scores_tr.append(auc_yr)"
   ]
  },
  {
   "cell_type": "code",
   "execution_count": 192,
   "id": "01e26d9a",
   "metadata": {},
   "outputs": [
    {
     "name": "stdout",
     "output_type": "stream",
     "text": [
      "Training set AUC standard error 0.002175740035390034\n"
     ]
    }
   ],
   "source": [
    "# Standard error of mean for train set AUC\n",
    "sorted_scores_tr = np.array(bootstrapped_scores_tr)\n",
    "sorted_scores_tr.sort()\n",
    "\n",
    "conf_lower_tr = sorted_scores_tr[int(0.025 * len(sorted_scores_tr))]\n",
    "conf_upper_tr = sorted_scores_tr[int(0.975 * len(sorted_scores_tr))]\n",
    "\n",
    "standard_error_tr = (conf_upper_tr - conf_lower_tr) / 3.92\n",
    "print('Training set AUC standard error', standard_error_tr)"
   ]
  },
  {
   "cell_type": "code",
   "execution_count": 193,
   "id": "20fd37f4",
   "metadata": {},
   "outputs": [],
   "source": [
    "crude_auc_data = {'model': 'linear_svm_crude',\n",
    "                  'auc_1yr_te': linear_svm_auc_te,\n",
    "                  'sem_te': standard_error_te,\n",
    "                  'auc_1yr_tr': linear_svm_auc_tr,\n",
    "                  'sem_tr': standard_error_tr}"
   ]
  },
  {
   "cell_type": "code",
   "execution_count": 194,
   "id": "4a189cb5",
   "metadata": {},
   "outputs": [],
   "source": [
    "crude_auc_df = pd.read_csv('crude_auc_df.csv')"
   ]
  },
  {
   "cell_type": "code",
   "execution_count": 195,
   "id": "332a3bbf",
   "metadata": {},
   "outputs": [],
   "source": [
    "crude_auc_df = crude_auc_df.append(crude_auc_data, ignore_index = True)"
   ]
  },
  {
   "cell_type": "code",
   "execution_count": 196,
   "id": "64e19fd2",
   "metadata": {},
   "outputs": [
    {
     "data": {
      "text/html": [
       "<div>\n",
       "<style scoped>\n",
       "    .dataframe tbody tr th:only-of-type {\n",
       "        vertical-align: middle;\n",
       "    }\n",
       "\n",
       "    .dataframe tbody tr th {\n",
       "        vertical-align: top;\n",
       "    }\n",
       "\n",
       "    .dataframe thead th {\n",
       "        text-align: right;\n",
       "    }\n",
       "</style>\n",
       "<table border=\"1\" class=\"dataframe\">\n",
       "  <thead>\n",
       "    <tr style=\"text-align: right;\">\n",
       "      <th></th>\n",
       "      <th>model</th>\n",
       "      <th>auc_1yr_te</th>\n",
       "      <th>sem_te</th>\n",
       "      <th>auc_1yr_tr</th>\n",
       "      <th>sem_tr</th>\n",
       "    </tr>\n",
       "  </thead>\n",
       "  <tbody>\n",
       "    <tr>\n",
       "      <th>0</th>\n",
       "      <td>gbm_crude</td>\n",
       "      <td>0.787443</td>\n",
       "      <td>0.004128</td>\n",
       "      <td>0.793450</td>\n",
       "      <td>0.002031</td>\n",
       "    </tr>\n",
       "    <tr>\n",
       "      <th>1</th>\n",
       "      <td>rsf_crude</td>\n",
       "      <td>0.774594</td>\n",
       "      <td>0.004214</td>\n",
       "      <td>0.901029</td>\n",
       "      <td>0.001352</td>\n",
       "    </tr>\n",
       "    <tr>\n",
       "      <th>2</th>\n",
       "      <td>ridge_crude</td>\n",
       "      <td>0.751794</td>\n",
       "      <td>0.004430</td>\n",
       "      <td>0.755288</td>\n",
       "      <td>0.002165</td>\n",
       "    </tr>\n",
       "    <tr>\n",
       "      <th>5</th>\n",
       "      <td>linear_svm_crude</td>\n",
       "      <td>0.746359</td>\n",
       "      <td>0.004484</td>\n",
       "      <td>0.751083</td>\n",
       "      <td>0.002176</td>\n",
       "    </tr>\n",
       "    <tr>\n",
       "      <th>3</th>\n",
       "      <td>lasso_crude</td>\n",
       "      <td>0.736107</td>\n",
       "      <td>0.004536</td>\n",
       "      <td>0.737436</td>\n",
       "      <td>0.002255</td>\n",
       "    </tr>\n",
       "    <tr>\n",
       "      <th>4</th>\n",
       "      <td>enet_crude</td>\n",
       "      <td>0.735788</td>\n",
       "      <td>0.004540</td>\n",
       "      <td>0.737163</td>\n",
       "      <td>0.002255</td>\n",
       "    </tr>\n",
       "  </tbody>\n",
       "</table>\n",
       "</div>"
      ],
      "text/plain": [
       "              model  auc_1yr_te    sem_te  auc_1yr_tr    sem_tr\n",
       "0         gbm_crude    0.787443  0.004128    0.793450  0.002031\n",
       "1         rsf_crude    0.774594  0.004214    0.901029  0.001352\n",
       "2       ridge_crude    0.751794  0.004430    0.755288  0.002165\n",
       "5  linear_svm_crude    0.746359  0.004484    0.751083  0.002176\n",
       "3       lasso_crude    0.736107  0.004536    0.737436  0.002255\n",
       "4        enet_crude    0.735788  0.004540    0.737163  0.002255"
      ]
     },
     "execution_count": 470,
     "metadata": {},
     "output_type": "execute_result"
    }
   ],
   "source": [
    "crude_auc_df.sort_values(by = 'auc_1yr_te', ascending = False)"
   ]
  },
  {
   "cell_type": "code",
   "execution_count": 197,
   "id": "da6aad2e",
   "metadata": {},
   "outputs": [],
   "source": [
    "crude_auc_df.to_csv('crude_auc_df.csv', index = False, header = True)"
   ]
  },
  {
   "cell_type": "code",
   "execution_count": 198,
   "id": "20d4e732",
   "metadata": {},
   "outputs": [],
   "source": [
    "times = np.arange(30, 1810, 30)\n",
    "crude_linear_svm_auc_over5 = cumulative_dynamic_auc(train_y, test_y, linear_svm_risk_scores_te, times)[0]\n",
    "\n",
    "times_data = {}\n",
    "values = crude_linear_svm_auc_over5\n",
    "time_names = []\n",
    "\n",
    "for x in range(len(times)):\n",
    "    time_names.append('time_'+str(times[x]))\n",
    "\n",
    "for i in range(len(time_names)):\n",
    "    times_data[time_names[i]] = values[i]\n",
    "    \n",
    "crude_linear_svm_over5_df = pd.DataFrame(times_data, index = ['linear_svm_crude'])"
   ]
  },
  {
   "cell_type": "code",
   "execution_count": 199,
   "id": "3d3b9f5e",
   "metadata": {},
   "outputs": [],
   "source": [
    "crude_auc_over5 = pd.read_csv('crude_auc_over5.csv', index_col = 0)"
   ]
  },
  {
   "cell_type": "code",
   "execution_count": 200,
   "id": "c0fc0d95",
   "metadata": {},
   "outputs": [],
   "source": [
    "crude_auc_over5 = crude_auc_over5.append(crude_linear_svm_over5_df, ignore_index = False)"
   ]
  },
  {
   "cell_type": "code",
   "execution_count": 201,
   "id": "1a696372",
   "metadata": {},
   "outputs": [
    {
     "data": {
      "text/html": [
       "<div>\n",
       "<style scoped>\n",
       "    .dataframe tbody tr th:only-of-type {\n",
       "        vertical-align: middle;\n",
       "    }\n",
       "\n",
       "    .dataframe tbody tr th {\n",
       "        vertical-align: top;\n",
       "    }\n",
       "\n",
       "    .dataframe thead th {\n",
       "        text-align: right;\n",
       "    }\n",
       "</style>\n",
       "<table border=\"1\" class=\"dataframe\">\n",
       "  <thead>\n",
       "    <tr style=\"text-align: right;\">\n",
       "      <th></th>\n",
       "      <th>time_30</th>\n",
       "      <th>time_60</th>\n",
       "      <th>time_90</th>\n",
       "      <th>time_120</th>\n",
       "      <th>time_150</th>\n",
       "      <th>time_180</th>\n",
       "      <th>time_210</th>\n",
       "      <th>time_240</th>\n",
       "      <th>time_270</th>\n",
       "      <th>time_300</th>\n",
       "      <th>...</th>\n",
       "      <th>time_1530</th>\n",
       "      <th>time_1560</th>\n",
       "      <th>time_1590</th>\n",
       "      <th>time_1620</th>\n",
       "      <th>time_1650</th>\n",
       "      <th>time_1680</th>\n",
       "      <th>time_1710</th>\n",
       "      <th>time_1740</th>\n",
       "      <th>time_1770</th>\n",
       "      <th>time_1800</th>\n",
       "    </tr>\n",
       "  </thead>\n",
       "  <tbody>\n",
       "    <tr>\n",
       "      <th>gbm_crude</th>\n",
       "      <td>0.828087</td>\n",
       "      <td>0.837199</td>\n",
       "      <td>0.828516</td>\n",
       "      <td>0.822428</td>\n",
       "      <td>0.819805</td>\n",
       "      <td>0.812663</td>\n",
       "      <td>0.805503</td>\n",
       "      <td>0.801027</td>\n",
       "      <td>0.794772</td>\n",
       "      <td>0.791386</td>\n",
       "      <td>...</td>\n",
       "      <td>0.754921</td>\n",
       "      <td>0.755207</td>\n",
       "      <td>0.755186</td>\n",
       "      <td>0.753519</td>\n",
       "      <td>0.754502</td>\n",
       "      <td>0.755006</td>\n",
       "      <td>0.757776</td>\n",
       "      <td>0.757342</td>\n",
       "      <td>0.755963</td>\n",
       "      <td>0.760696</td>\n",
       "    </tr>\n",
       "    <tr>\n",
       "      <th>rsf_crude</th>\n",
       "      <td>0.867312</td>\n",
       "      <td>0.859772</td>\n",
       "      <td>0.835875</td>\n",
       "      <td>0.820824</td>\n",
       "      <td>0.812596</td>\n",
       "      <td>0.802378</td>\n",
       "      <td>0.794869</td>\n",
       "      <td>0.789264</td>\n",
       "      <td>0.781928</td>\n",
       "      <td>0.778615</td>\n",
       "      <td>...</td>\n",
       "      <td>0.749314</td>\n",
       "      <td>0.749701</td>\n",
       "      <td>0.748179</td>\n",
       "      <td>0.744339</td>\n",
       "      <td>0.745877</td>\n",
       "      <td>0.746235</td>\n",
       "      <td>0.748660</td>\n",
       "      <td>0.747506</td>\n",
       "      <td>0.745445</td>\n",
       "      <td>0.751312</td>\n",
       "    </tr>\n",
       "    <tr>\n",
       "      <th>ridge_crude</th>\n",
       "      <td>0.777286</td>\n",
       "      <td>0.780309</td>\n",
       "      <td>0.769720</td>\n",
       "      <td>0.763561</td>\n",
       "      <td>0.762762</td>\n",
       "      <td>0.760119</td>\n",
       "      <td>0.758587</td>\n",
       "      <td>0.756088</td>\n",
       "      <td>0.753052</td>\n",
       "      <td>0.752842</td>\n",
       "      <td>...</td>\n",
       "      <td>0.731014</td>\n",
       "      <td>0.730098</td>\n",
       "      <td>0.729564</td>\n",
       "      <td>0.728929</td>\n",
       "      <td>0.731563</td>\n",
       "      <td>0.731050</td>\n",
       "      <td>0.730840</td>\n",
       "      <td>0.729901</td>\n",
       "      <td>0.726485</td>\n",
       "      <td>0.729286</td>\n",
       "    </tr>\n",
       "    <tr>\n",
       "      <th>lasso_crude</th>\n",
       "      <td>0.768503</td>\n",
       "      <td>0.769596</td>\n",
       "      <td>0.761076</td>\n",
       "      <td>0.753053</td>\n",
       "      <td>0.750823</td>\n",
       "      <td>0.747141</td>\n",
       "      <td>0.744786</td>\n",
       "      <td>0.741996</td>\n",
       "      <td>0.737649</td>\n",
       "      <td>0.737079</td>\n",
       "      <td>...</td>\n",
       "      <td>0.741010</td>\n",
       "      <td>0.740091</td>\n",
       "      <td>0.739450</td>\n",
       "      <td>0.740001</td>\n",
       "      <td>0.742917</td>\n",
       "      <td>0.743656</td>\n",
       "      <td>0.744641</td>\n",
       "      <td>0.743439</td>\n",
       "      <td>0.738617</td>\n",
       "      <td>0.743433</td>\n",
       "    </tr>\n",
       "    <tr>\n",
       "      <th>enet_crude</th>\n",
       "      <td>0.768369</td>\n",
       "      <td>0.769453</td>\n",
       "      <td>0.760871</td>\n",
       "      <td>0.752795</td>\n",
       "      <td>0.750506</td>\n",
       "      <td>0.746809</td>\n",
       "      <td>0.744442</td>\n",
       "      <td>0.741660</td>\n",
       "      <td>0.737306</td>\n",
       "      <td>0.736737</td>\n",
       "      <td>...</td>\n",
       "      <td>0.741023</td>\n",
       "      <td>0.740099</td>\n",
       "      <td>0.739453</td>\n",
       "      <td>0.739998</td>\n",
       "      <td>0.742919</td>\n",
       "      <td>0.743656</td>\n",
       "      <td>0.744617</td>\n",
       "      <td>0.743423</td>\n",
       "      <td>0.738587</td>\n",
       "      <td>0.743444</td>\n",
       "    </tr>\n",
       "    <tr>\n",
       "      <th>linear_svm_crude</th>\n",
       "      <td>0.794071</td>\n",
       "      <td>0.797037</td>\n",
       "      <td>0.780634</td>\n",
       "      <td>0.767898</td>\n",
       "      <td>0.762944</td>\n",
       "      <td>0.757599</td>\n",
       "      <td>0.754273</td>\n",
       "      <td>0.751695</td>\n",
       "      <td>0.747845</td>\n",
       "      <td>0.747538</td>\n",
       "      <td>...</td>\n",
       "      <td>0.732331</td>\n",
       "      <td>0.731474</td>\n",
       "      <td>0.730943</td>\n",
       "      <td>0.731278</td>\n",
       "      <td>0.733874</td>\n",
       "      <td>0.733694</td>\n",
       "      <td>0.733866</td>\n",
       "      <td>0.732819</td>\n",
       "      <td>0.729257</td>\n",
       "      <td>0.731510</td>\n",
       "    </tr>\n",
       "  </tbody>\n",
       "</table>\n",
       "<p>6 rows × 60 columns</p>\n",
       "</div>"
      ],
      "text/plain": [
       "                   time_30   time_60   time_90  time_120  time_150  time_180  \\\n",
       "gbm_crude         0.828087  0.837199  0.828516  0.822428  0.819805  0.812663   \n",
       "rsf_crude         0.867312  0.859772  0.835875  0.820824  0.812596  0.802378   \n",
       "ridge_crude       0.777286  0.780309  0.769720  0.763561  0.762762  0.760119   \n",
       "lasso_crude       0.768503  0.769596  0.761076  0.753053  0.750823  0.747141   \n",
       "enet_crude        0.768369  0.769453  0.760871  0.752795  0.750506  0.746809   \n",
       "linear_svm_crude  0.794071  0.797037  0.780634  0.767898  0.762944  0.757599   \n",
       "\n",
       "                  time_210  time_240  time_270  time_300  ...  time_1530  \\\n",
       "gbm_crude         0.805503  0.801027  0.794772  0.791386  ...   0.754921   \n",
       "rsf_crude         0.794869  0.789264  0.781928  0.778615  ...   0.749314   \n",
       "ridge_crude       0.758587  0.756088  0.753052  0.752842  ...   0.731014   \n",
       "lasso_crude       0.744786  0.741996  0.737649  0.737079  ...   0.741010   \n",
       "enet_crude        0.744442  0.741660  0.737306  0.736737  ...   0.741023   \n",
       "linear_svm_crude  0.754273  0.751695  0.747845  0.747538  ...   0.732331   \n",
       "\n",
       "                  time_1560  time_1590  time_1620  time_1650  time_1680  \\\n",
       "gbm_crude          0.755207   0.755186   0.753519   0.754502   0.755006   \n",
       "rsf_crude          0.749701   0.748179   0.744339   0.745877   0.746235   \n",
       "ridge_crude        0.730098   0.729564   0.728929   0.731563   0.731050   \n",
       "lasso_crude        0.740091   0.739450   0.740001   0.742917   0.743656   \n",
       "enet_crude         0.740099   0.739453   0.739998   0.742919   0.743656   \n",
       "linear_svm_crude   0.731474   0.730943   0.731278   0.733874   0.733694   \n",
       "\n",
       "                  time_1710  time_1740  time_1770  time_1800  \n",
       "gbm_crude          0.757776   0.757342   0.755963   0.760696  \n",
       "rsf_crude          0.748660   0.747506   0.745445   0.751312  \n",
       "ridge_crude        0.730840   0.729901   0.726485   0.729286  \n",
       "lasso_crude        0.744641   0.743439   0.738617   0.743433  \n",
       "enet_crude         0.744617   0.743423   0.738587   0.743444  \n",
       "linear_svm_crude   0.733866   0.732819   0.729257   0.731510  \n",
       "\n",
       "[6 rows x 60 columns]"
      ]
     },
     "execution_count": 475,
     "metadata": {},
     "output_type": "execute_result"
    }
   ],
   "source": [
    "crude_auc_over5"
   ]
  },
  {
   "cell_type": "code",
   "execution_count": 202,
   "id": "efd52084",
   "metadata": {},
   "outputs": [],
   "source": [
    "crude_auc_over5.to_csv('crude_auc_over5.csv', index = True, header = True)"
   ]
  },
  {
   "cell_type": "code",
   "execution_count": 203,
   "id": "d630527e",
   "metadata": {},
   "outputs": [],
   "source": [
    "# Variables passing through pipeline\n",
    "cat_encoder = list(preprocessor_red.transformers_[1][1].get_feature_names_out(categorical_features))\n",
    "pass_through = list(train_x_red.iloc[:, preprocessor_red.transformers_[2][2]].columns)\n",
    "attributes = numerical_features_red + cat_encoder + pass_through"
   ]
  },
  {
   "cell_type": "code",
   "execution_count": 204,
   "id": "6351c8a4",
   "metadata": {},
   "outputs": [
    {
     "name": "stdout",
     "output_type": "stream",
     "text": [
      "Total number of features: 192\n",
      "Number of non-zero features in final model: 192\n"
     ]
    },
    {
     "data": {
      "image/png": "[encoded data removed]",
      "text/plain": [
       "<Figure size 432x576 with 1 Axes>"
      ]
     },
     "metadata": {
      "needs_background": "light"
     },
     "output_type": "display_data"
    }
   ],
   "source": [
    "# Dataframe of coefficients for each variable \n",
    "coefficients_linear_svm = pd.DataFrame(\n",
    "    linear_svm.named_steps['fastsurvivalsvm'].coef_,\n",
    "    index = attributes,\n",
    "    columns = ['coefficient']\n",
    ")\n",
    "\n",
    "print('Total number of features: {}'.format(len(attributes)))\n",
    "\n",
    "non_zero = np.sum(coefficients_linear_svm.iloc[:, 0] != 0)\n",
    "print('Number of non-zero features in final model: {}'.format(non_zero))\n",
    "\n",
    "non_zero_coefs = coefficients_linear_svm.query('coefficient != 0')\n",
    "coef_order = non_zero_coefs.abs().sort_values('coefficient').tail(30).index\n",
    "\n",
    "_, ax = plt.subplots(figsize=(6, 8))\n",
    "non_zero_coefs.loc[coef_order].plot.barh(ax = ax, legend = False)\n",
    "ax.set_xlabel('coefficient')\n",
    "ax.grid(True)"
   ]
  },
  {
   "cell_type": "markdown",
   "id": "8fc0a518",
   "metadata": {},
   "source": [
    "**In conclusion, the gradient boosting model has the best test set performance in regards to 1 year AUC. Random survival forest follows closely behind. The bottom performers are penalized Cox and linear survival support vector machine.** "
   ]
  }
 ],
 "metadata": {
  "kernelspec": {
   "display_name": "Python 3 (ipykernel)",
   "language": "python",
   "name": "python3"
  },
  "language_info": {
   "codemirror_mode": {
    "name": "ipython",
    "version": 3
   },
   "file_extension": ".py",
   "mimetype": "text/x-python",
   "name": "python",
   "nbconvert_exporter": "python",
   "pygments_lexer": "ipython3",
   "version": "3.7.10"
  }
 },
 "nbformat": 4,
 "nbformat_minor": 5
}
