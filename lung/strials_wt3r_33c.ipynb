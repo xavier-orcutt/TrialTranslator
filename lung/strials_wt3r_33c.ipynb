{
 "cells": [
  {
   "cell_type": "markdown",
   "id": "63e290bb",
   "metadata": {},
   "source": [
    "# Flatiron Health aNSCLC: Strict trials with GBM crude \n",
    "\n",
    "***OBJECTIVE:*** **Inclusion criteria for trials in other notebooks were relaxed to allow for as many patients to be included as reasonably possible. In this notebook, inclusion criteria for the trials will be followed as closely as possible. Patients included in our trials will next be risk stratified using the gradient boosted model with crude imputation into 1 of 3 risk groups: high (top tertile), medium (middle tertile), and low (bottom tertile). Inverse-probability treatment weighted survival analysis will then be performed across these risk groups to get real-world estimates of survival while adjusting for measured confounders.** \n",
    "** \n",
    "\n",
    "***OUTLINE:***\n",
    "1. **Identify patients with exclusion criteria:**\n",
    "* Autoimmune diseases in the year preceding metastatic diagnosis  \n",
    "* Other relevant comorbidities in the year preceding metastatic diagnosis  \n",
    "* CNS metastasis at start of treatment \n",
    "* ECOG 2, 3, or 4 at start of treatment \n",
    "* Organ dysfunction at time of treatment \n",
    "\n",
    "2. **In silico trials:**\n",
    "* KEYNOTE-042 \n",
    "* KEYNOTE-024\n",
    "* KEYNOTE-189 \n",
    "* CHECKMATE-078\n",
    "* FLAURA"
   ]
  },
  {
   "cell_type": "markdown",
   "id": "a34b9c4d",
   "metadata": {},
   "source": [
    "## Part 1: Identify patients with exclusion criteria"
   ]
  },
  {
   "cell_type": "code",
   "execution_count": 1,
   "id": "4c258dc8",
   "metadata": {},
   "outputs": [],
   "source": [
    "import numpy as np\n",
    "import pandas as pd"
   ]
  },
  {
   "cell_type": "code",
   "execution_count": 2,
   "id": "c83ca683",
   "metadata": {},
   "outputs": [],
   "source": [
    "# Function that returns number of rows and count of unique PatientIDs for a dataframe. \n",
    "def row_ID(dataframe):\n",
    "    row = dataframe.shape[0]\n",
    "    ID = dataframe['PatientID'].nunique()\n",
    "    return row, ID"
   ]
  },
  {
   "cell_type": "code",
   "execution_count": 3,
   "id": "6f98b3ec",
   "metadata": {},
   "outputs": [
    {
     "data": {
      "text/plain": [
       "(54786, 54786)"
      ]
     },
     "execution_count": 3,
     "metadata": {},
     "output_type": "execute_result"
    }
   ],
   "source": [
    "train = pd.read_csv('train_full.csv')\n",
    "row_ID(train)"
   ]
  },
  {
   "cell_type": "code",
   "execution_count": 4,
   "id": "0c4e0e3b",
   "metadata": {},
   "outputs": [
    {
     "data": {
      "text/plain": [
       "(13697, 13697)"
      ]
     },
     "execution_count": 4,
     "metadata": {},
     "output_type": "execute_result"
    }
   ],
   "source": [
    "test = pd.read_csv('test_full.csv')\n",
    "row_ID(test)"
   ]
  },
  {
   "cell_type": "code",
   "execution_count": 5,
   "id": "51cb81ec",
   "metadata": {},
   "outputs": [
    {
     "data": {
      "text/plain": [
       "(68483, 68483)"
      ]
     },
     "execution_count": 5,
     "metadata": {},
     "output_type": "execute_result"
    }
   ],
   "source": [
    "df = pd.concat([train, test], ignore_index = True)\n",
    "row_ID(df)"
   ]
  },
  {
   "cell_type": "markdown",
   "id": "dbbbb512",
   "metadata": {},
   "source": [
    "### 1. Autoimmune diseases in the year preceding advanced diagnosis \n",
    "* Type 1 diabetes\n",
    "* Rheumatoid arthritis\n",
    "* Lupus\n",
    "* Systemic sclerosis \n",
    "* Dermatomyositis\n",
    "* Polymyositis\n",
    "* Crohn's disease\n",
    "* Ulcerative colitis \n",
    "* Psoriasis \n",
    "* Multiple sclerosis "
   ]
  },
  {
   "cell_type": "code",
   "execution_count": 6,
   "id": "452736e5",
   "metadata": {},
   "outputs": [],
   "source": [
    "diagnosis = pd.read_csv('Diagnosis.csv')"
   ]
  },
  {
   "cell_type": "code",
   "execution_count": 7,
   "id": "3ca73c07",
   "metadata": {},
   "outputs": [],
   "source": [
    "diagnosis = diagnosis[diagnosis['PatientID'].isin(df['PatientID'])]       "
   ]
  },
  {
   "cell_type": "code",
   "execution_count": 8,
   "id": "db577375",
   "metadata": {},
   "outputs": [],
   "source": [
    "diagnosis.loc[:, 'DiagnosisDate'] = pd.to_datetime(diagnosis['DiagnosisDate'])"
   ]
  },
  {
   "cell_type": "code",
   "execution_count": 9,
   "id": "6d266c69",
   "metadata": {},
   "outputs": [],
   "source": [
    "enhanced_adv = pd.read_csv('Enhanced_AdvancedNSCLC.csv', low_memory = False)"
   ]
  },
  {
   "cell_type": "code",
   "execution_count": 10,
   "id": "21190316",
   "metadata": {},
   "outputs": [],
   "source": [
    "enhanced_adv.loc[:, 'AdvancedDiagnosisDate'] = pd.to_datetime(enhanced_adv['AdvancedDiagnosisDate'])"
   ]
  },
  {
   "cell_type": "code",
   "execution_count": 11,
   "id": "912baa98",
   "metadata": {},
   "outputs": [
    {
     "data": {
      "text/plain": [
       "(1499292, 68483)"
      ]
     },
     "execution_count": 11,
     "metadata": {},
     "output_type": "execute_result"
    }
   ],
   "source": [
    "row_ID(diagnosis)"
   ]
  },
  {
   "cell_type": "code",
   "execution_count": 12,
   "id": "fdb32a6f",
   "metadata": {},
   "outputs": [],
   "source": [
    "diagnosis = pd.merge(diagnosis, enhanced_adv[['PatientID', 'AdvancedDiagnosisDate']], on = 'PatientID', how = 'left')"
   ]
  },
  {
   "cell_type": "code",
   "execution_count": 13,
   "id": "554e25b5",
   "metadata": {},
   "outputs": [
    {
     "data": {
      "text/plain": [
       "(1499292, 68483)"
      ]
     },
     "execution_count": 13,
     "metadata": {},
     "output_type": "execute_result"
    }
   ],
   "source": [
    "row_ID(diagnosis)"
   ]
  },
  {
   "cell_type": "code",
   "execution_count": 14,
   "id": "a3b84bcb",
   "metadata": {},
   "outputs": [],
   "source": [
    "diagnosis.loc[:, 'date_diff'] = (diagnosis['DiagnosisDate'] - diagnosis['AdvancedDiagnosisDate']).dt.days"
   ]
  },
  {
   "cell_type": "code",
   "execution_count": 15,
   "id": "d5ae6b5f",
   "metadata": {},
   "outputs": [],
   "source": [
    "diagnosis.loc[:, 'diagnosis_code'] = diagnosis['DiagnosisCode'].replace('\\.', '', regex = True)"
   ]
  },
  {
   "cell_type": "code",
   "execution_count": 16,
   "id": "31604f51",
   "metadata": {},
   "outputs": [],
   "source": [
    "# ICD-9 dataframe with unique codes for each patient. \n",
    "diagnosis_9 = (\n",
    "    diagnosis\n",
    "    .query('date_diff <= 0 and date_diff > -365')\n",
    "    .query('DiagnosisCodeSystem == \"ICD-9-CM\"')\n",
    "    .drop_duplicates(subset = (['PatientID', 'DiagnosisCode']), keep = 'first')\n",
    "    .filter(items = ['PatientID', 'DiagnosisCode', 'diagnosis_code'])\n",
    ")"
   ]
  },
  {
   "cell_type": "code",
   "execution_count": 17,
   "id": "fd14c21c",
   "metadata": {},
   "outputs": [],
   "source": [
    "auto_ID_9 = (\n",
    "    diagnosis_9[diagnosis_9['diagnosis_code'].str.match('250(0[13]|1[13]|2[13]|3[13]|4[13]|5[13]|6[13]|7[13]|8[13]|9[13])|'\n",
    "                                                        '714|'\n",
    "                                                        '710[0134]|'\n",
    "                                                        '55[56]|'\n",
    "                                                        '696|'\n",
    "                                                        '340')].PatientID.unique())"
   ]
  },
  {
   "cell_type": "code",
   "execution_count": 18,
   "id": "4646e014",
   "metadata": {},
   "outputs": [
    {
     "data": {
      "text/plain": [
       "87"
      ]
     },
     "execution_count": 18,
     "metadata": {},
     "output_type": "execute_result"
    }
   ],
   "source": [
    "len(auto_ID_9)"
   ]
  },
  {
   "cell_type": "code",
   "execution_count": 19,
   "id": "89dabc22",
   "metadata": {},
   "outputs": [],
   "source": [
    "# ICD-9 dataframe with unique codes for each patient. \n",
    "diagnosis_10 = (\n",
    "    diagnosis\n",
    "    .query('date_diff <= 0 and date_diff > -365')\n",
    "    .query('DiagnosisCodeSystem == \"ICD-10-CM\"')\n",
    "    .drop_duplicates(subset = (['PatientID', 'DiagnosisCode']), keep = 'first')\n",
    "    .filter(items = ['PatientID', 'DiagnosisCode', 'diagnosis_code'])\n",
    ")"
   ]
  },
  {
   "cell_type": "code",
   "execution_count": 20,
   "id": "cf960343",
   "metadata": {},
   "outputs": [],
   "source": [
    "auto_ID_10 = (\n",
    "    diagnosis_10[diagnosis_10['diagnosis_code'].str.match('E10|'\n",
    "                                                          'M05|'\n",
    "                                                          'M32|'\n",
    "                                                          'M33|'\n",
    "                                                          'M34|'\n",
    "                                                          'K50|'\n",
    "                                                          'K51|'\n",
    "                                                          'L40|'\n",
    "                                                          'G35')].PatientID.unique())"
   ]
  },
  {
   "cell_type": "code",
   "execution_count": 21,
   "id": "ba3a09ee",
   "metadata": {},
   "outputs": [
    {
     "data": {
      "text/plain": [
       "238"
      ]
     },
     "execution_count": 21,
     "metadata": {},
     "output_type": "execute_result"
    }
   ],
   "source": [
    "len(auto_ID_10)"
   ]
  },
  {
   "cell_type": "code",
   "execution_count": 22,
   "id": "3017e142",
   "metadata": {},
   "outputs": [],
   "source": [
    "auto_IDs = np.unique(np.concatenate([auto_ID_9, auto_ID_10]))"
   ]
  },
  {
   "cell_type": "code",
   "execution_count": 23,
   "id": "7b805019",
   "metadata": {},
   "outputs": [
    {
     "data": {
      "text/plain": [
       "322"
      ]
     },
     "execution_count": 23,
     "metadata": {},
     "output_type": "execute_result"
    }
   ],
   "source": [
    "len(auto_IDs)"
   ]
  },
  {
   "cell_type": "markdown",
   "id": "dc57c2b2",
   "metadata": {},
   "source": [
    "### 2. Other relevant comorbidities in the year preceding advanced diagnosis \n",
    "* Interstitial lung disease \n",
    "* HIV\n",
    "* Hep C\n",
    "* Hep B\n",
    "* Psychosis and other significant psychiatric disorders \n",
    "* Drug use disorders"
   ]
  },
  {
   "cell_type": "code",
   "execution_count": 24,
   "id": "3fa47081",
   "metadata": {},
   "outputs": [],
   "source": [
    "other_comorb_9 = (\n",
    "    diagnosis_9[diagnosis_9['diagnosis_code'].str.match('516|'\n",
    "                                                        '042|'\n",
    "                                                        '070[234567]|'\n",
    "                                                        '29[5789]|'\n",
    "                                                        '30[34]')].PatientID.unique())"
   ]
  },
  {
   "cell_type": "code",
   "execution_count": 25,
   "id": "0e785902",
   "metadata": {},
   "outputs": [
    {
     "data": {
      "text/plain": [
       "69"
      ]
     },
     "execution_count": 25,
     "metadata": {},
     "output_type": "execute_result"
    }
   ],
   "source": [
    "len(other_comorb_9)"
   ]
  },
  {
   "cell_type": "code",
   "execution_count": 26,
   "id": "673dcd7e",
   "metadata": {},
   "outputs": [],
   "source": [
    "other_comorb_10 = (\n",
    "    diagnosis_10[diagnosis_10['diagnosis_code'].str.match('J84|'\n",
    "                                                          'B20|'\n",
    "                                                          'B18|'\n",
    "                                                          'F2[024589]|'\n",
    "                                                          'F1[0145]')].PatientID.unique())"
   ]
  },
  {
   "cell_type": "code",
   "execution_count": 27,
   "id": "f8bc1f24",
   "metadata": {},
   "outputs": [
    {
     "data": {
      "text/plain": [
       "474"
      ]
     },
     "execution_count": 27,
     "metadata": {},
     "output_type": "execute_result"
    }
   ],
   "source": [
    "len(other_comorb_10)"
   ]
  },
  {
   "cell_type": "code",
   "execution_count": 28,
   "id": "a97506fc",
   "metadata": {},
   "outputs": [],
   "source": [
    "other_comorb_IDs = np.unique(np.concatenate([other_comorb_9, other_comorb_10]))"
   ]
  },
  {
   "cell_type": "code",
   "execution_count": 29,
   "id": "5e036995",
   "metadata": {},
   "outputs": [
    {
     "data": {
      "text/plain": [
       "537"
      ]
     },
     "execution_count": 29,
     "metadata": {},
     "output_type": "execute_result"
    }
   ],
   "source": [
    "len(other_comorb_IDs)"
   ]
  },
  {
   "cell_type": "markdown",
   "id": "a62502c2",
   "metadata": {},
   "source": [
    "### 3. CNS metastasis at start of treatment "
   ]
  },
  {
   "cell_type": "markdown",
   "id": "112855bb",
   "metadata": {},
   "source": [
    "#### First line treatment"
   ]
  },
  {
   "cell_type": "code",
   "execution_count": 30,
   "id": "881d41a4",
   "metadata": {},
   "outputs": [],
   "source": [
    "line_therapy = pd.read_csv('LineOfTherapy.csv')"
   ]
  },
  {
   "cell_type": "code",
   "execution_count": 31,
   "id": "875f62c8",
   "metadata": {},
   "outputs": [],
   "source": [
    "line_therapy = line_therapy[line_therapy['PatientID'].isin(df['PatientID'])]       "
   ]
  },
  {
   "cell_type": "code",
   "execution_count": 32,
   "id": "6a25a29f",
   "metadata": {},
   "outputs": [],
   "source": [
    "line_therapy.loc[:, 'StartDate'] = pd.to_datetime(line_therapy['StartDate'])"
   ]
  },
  {
   "cell_type": "code",
   "execution_count": 33,
   "id": "c29e451f",
   "metadata": {},
   "outputs": [],
   "source": [
    "therapy_fl = line_therapy.query('LineNumber == 1').query('IsMaintenanceTherapy == False')[['PatientID', 'StartDate']]"
   ]
  },
  {
   "cell_type": "code",
   "execution_count": 34,
   "id": "4f13571d",
   "metadata": {},
   "outputs": [
    {
     "data": {
      "text/plain": [
       "(1499292, 68483)"
      ]
     },
     "execution_count": 34,
     "metadata": {},
     "output_type": "execute_result"
    }
   ],
   "source": [
    "row_ID(diagnosis)"
   ]
  },
  {
   "cell_type": "code",
   "execution_count": 35,
   "id": "7c66d690",
   "metadata": {},
   "outputs": [],
   "source": [
    "cns_fl = pd.merge(diagnosis, therapy_fl, on = 'PatientID', how = 'left')"
   ]
  },
  {
   "cell_type": "code",
   "execution_count": 36,
   "id": "5c5c34ef",
   "metadata": {},
   "outputs": [
    {
     "data": {
      "text/plain": [
       "(1499292, 68483)"
      ]
     },
     "execution_count": 36,
     "metadata": {},
     "output_type": "execute_result"
    }
   ],
   "source": [
    "row_ID(diagnosis)"
   ]
  },
  {
   "cell_type": "code",
   "execution_count": 37,
   "id": "c51ef504",
   "metadata": {},
   "outputs": [],
   "source": [
    "cns_fl.loc[:, 'fl_date_diff'] = (cns_fl['DiagnosisDate'] - cns_fl['StartDate']).dt.days"
   ]
  },
  {
   "cell_type": "code",
   "execution_count": 38,
   "id": "1c615c09",
   "metadata": {},
   "outputs": [],
   "source": [
    "# ICD-9 dataframe with unique codes for each patient. \n",
    "cns_fl_9 = (\n",
    "    cns_fl\n",
    "    .query('fl_date_diff <= 0 and fl_date_diff > -90')\n",
    "    .query('DiagnosisCodeSystem == \"ICD-9-CM\"')\n",
    "    .drop_duplicates(subset = (['PatientID', 'DiagnosisCode']), keep = 'first')\n",
    "    .filter(items = ['PatientID', 'DiagnosisCode', 'diagnosis_code'])\n",
    ")"
   ]
  },
  {
   "cell_type": "code",
   "execution_count": 39,
   "id": "7e8d8f14",
   "metadata": {},
   "outputs": [],
   "source": [
    "cns_fl_9_ids = (\n",
    "    cns_fl_9[cns_fl_9['diagnosis_code'].str.match('198[34]')].PatientID.unique()\n",
    ")"
   ]
  },
  {
   "cell_type": "code",
   "execution_count": 40,
   "id": "b66fb092",
   "metadata": {},
   "outputs": [
    {
     "data": {
      "text/plain": [
       "1065"
      ]
     },
     "execution_count": 40,
     "metadata": {},
     "output_type": "execute_result"
    }
   ],
   "source": [
    "len(cns_fl_9_ids)"
   ]
  },
  {
   "cell_type": "code",
   "execution_count": 41,
   "id": "39852c0c",
   "metadata": {},
   "outputs": [],
   "source": [
    "# ICD-9 dataframe with unique codes for each patient. \n",
    "cns_fl_10 = (\n",
    "    cns_fl\n",
    "    .query('fl_date_diff <= 0 and fl_date_diff > -90')\n",
    "    .query('DiagnosisCodeSystem == \"ICD-10-CM\"')\n",
    "    .drop_duplicates(subset = (['PatientID', 'DiagnosisCode']), keep = 'first')\n",
    "    .filter(items = ['PatientID', 'DiagnosisCode', 'diagnosis_code'])\n",
    ")"
   ]
  },
  {
   "cell_type": "code",
   "execution_count": 42,
   "id": "501f871b",
   "metadata": {},
   "outputs": [],
   "source": [
    "cns_fl_10_ids = (\n",
    "    cns_fl_10[cns_fl_10['diagnosis_code'].str.match('C79[34]')].PatientID.unique()\n",
    ")"
   ]
  },
  {
   "cell_type": "code",
   "execution_count": 43,
   "id": "e57f1ee8",
   "metadata": {},
   "outputs": [
    {
     "data": {
      "text/plain": [
       "2829"
      ]
     },
     "execution_count": 43,
     "metadata": {},
     "output_type": "execute_result"
    }
   ],
   "source": [
    "len(cns_fl_10_ids)"
   ]
  },
  {
   "cell_type": "code",
   "execution_count": 44,
   "id": "a3b8e84c",
   "metadata": {},
   "outputs": [],
   "source": [
    "cns_fl_IDs = np.unique(np.concatenate([cns_fl_9_ids, cns_fl_10_ids]))"
   ]
  },
  {
   "cell_type": "code",
   "execution_count": 45,
   "id": "8f240429",
   "metadata": {},
   "outputs": [
    {
     "data": {
      "text/plain": [
       "3876"
      ]
     },
     "execution_count": 45,
     "metadata": {},
     "output_type": "execute_result"
    }
   ],
   "source": [
    "len(cns_fl_IDs)"
   ]
  },
  {
   "cell_type": "markdown",
   "id": "47442b10",
   "metadata": {},
   "source": [
    "#### Second line treatment"
   ]
  },
  {
   "cell_type": "code",
   "execution_count": 46,
   "id": "f3836342",
   "metadata": {},
   "outputs": [],
   "source": [
    "therapy_sec = line_therapy.query('LineNumber == 2')[['PatientID', 'StartDate']]"
   ]
  },
  {
   "cell_type": "code",
   "execution_count": 47,
   "id": "4882912a",
   "metadata": {},
   "outputs": [
    {
     "data": {
      "text/plain": [
       "(1499292, 68483)"
      ]
     },
     "execution_count": 47,
     "metadata": {},
     "output_type": "execute_result"
    }
   ],
   "source": [
    "row_ID(diagnosis)"
   ]
  },
  {
   "cell_type": "code",
   "execution_count": 48,
   "id": "eb5d2487",
   "metadata": {},
   "outputs": [],
   "source": [
    "cns_sec = pd.merge(diagnosis, therapy_sec, on = 'PatientID', how = 'left')"
   ]
  },
  {
   "cell_type": "code",
   "execution_count": 49,
   "id": "5cbac3d0",
   "metadata": {},
   "outputs": [
    {
     "data": {
      "text/plain": [
       "(1499292, 68483)"
      ]
     },
     "execution_count": 49,
     "metadata": {},
     "output_type": "execute_result"
    }
   ],
   "source": [
    "row_ID(diagnosis)"
   ]
  },
  {
   "cell_type": "code",
   "execution_count": 50,
   "id": "01a493e8",
   "metadata": {},
   "outputs": [],
   "source": [
    "cns_sec.loc[:, 'sec_date_diff'] = (cns_sec['DiagnosisDate'] - cns_sec['StartDate']).dt.days"
   ]
  },
  {
   "cell_type": "code",
   "execution_count": 51,
   "id": "d7a59870",
   "metadata": {},
   "outputs": [],
   "source": [
    "# ICD-9 dataframe with unique codes for each patient. \n",
    "cns_sec_9 = (\n",
    "    cns_sec\n",
    "    .query('sec_date_diff <= 0 and sec_date_diff > -90')\n",
    "    .query('DiagnosisCodeSystem == \"ICD-9-CM\"')\n",
    "    .drop_duplicates(subset = (['PatientID', 'DiagnosisCode']), keep = 'first')\n",
    "    .filter(items = ['PatientID', 'DiagnosisCode', 'diagnosis_code'])\n",
    ")"
   ]
  },
  {
   "cell_type": "code",
   "execution_count": 52,
   "id": "e6762d5a",
   "metadata": {},
   "outputs": [],
   "source": [
    "cns_sec_9_ids = (\n",
    "    cns_sec_9[cns_sec_9['diagnosis_code'].str.match('198[34]')].PatientID.unique()\n",
    ")"
   ]
  },
  {
   "cell_type": "code",
   "execution_count": 53,
   "id": "d1332a8a",
   "metadata": {},
   "outputs": [
    {
     "data": {
      "text/plain": [
       "252"
      ]
     },
     "execution_count": 53,
     "metadata": {},
     "output_type": "execute_result"
    }
   ],
   "source": [
    "len(cns_sec_9_ids)"
   ]
  },
  {
   "cell_type": "code",
   "execution_count": 54,
   "id": "7ba1c077",
   "metadata": {},
   "outputs": [],
   "source": [
    "# ICD-9 dataframe with unique codes for each patient. \n",
    "cns_sec_10 = (\n",
    "    cns_sec\n",
    "    .query('sec_date_diff <= 0 and sec_date_diff > -90')\n",
    "    .query('DiagnosisCodeSystem == \"ICD-10-CM\"')\n",
    "    .drop_duplicates(subset = (['PatientID', 'DiagnosisCode']), keep = 'first')\n",
    "    .filter(items = ['PatientID', 'DiagnosisCode', 'diagnosis_code'])\n",
    ")"
   ]
  },
  {
   "cell_type": "code",
   "execution_count": 55,
   "id": "cda23ee5",
   "metadata": {},
   "outputs": [],
   "source": [
    "cns_sec_10_ids = (\n",
    "    cns_sec_10[cns_sec_10['diagnosis_code'].str.match('C79[34]')].PatientID.unique()\n",
    ")"
   ]
  },
  {
   "cell_type": "code",
   "execution_count": 56,
   "id": "fa6cec5e",
   "metadata": {},
   "outputs": [
    {
     "data": {
      "text/plain": [
       "765"
      ]
     },
     "execution_count": 56,
     "metadata": {},
     "output_type": "execute_result"
    }
   ],
   "source": [
    "len(cns_sec_10_ids)"
   ]
  },
  {
   "cell_type": "code",
   "execution_count": 57,
   "id": "89e2fd69",
   "metadata": {},
   "outputs": [],
   "source": [
    "cns_sec_IDs = np.unique(np.concatenate([cns_sec_9_ids, cns_sec_10_ids]))"
   ]
  },
  {
   "cell_type": "code",
   "execution_count": 58,
   "id": "219823f0",
   "metadata": {},
   "outputs": [
    {
     "data": {
      "text/plain": [
       "1000"
      ]
     },
     "execution_count": 58,
     "metadata": {},
     "output_type": "execute_result"
    }
   ],
   "source": [
    "len(cns_sec_IDs)"
   ]
  },
  {
   "cell_type": "markdown",
   "id": "bdd54ada",
   "metadata": {},
   "source": [
    "### 4. ECOG >1 at start of treatment "
   ]
  },
  {
   "cell_type": "code",
   "execution_count": 59,
   "id": "18321f66",
   "metadata": {},
   "outputs": [],
   "source": [
    "base_ecog = pd.read_csv('BaselineECOG.csv')"
   ]
  },
  {
   "cell_type": "code",
   "execution_count": 60,
   "id": "540fe676",
   "metadata": {},
   "outputs": [],
   "source": [
    "base_ecog = base_ecog[base_ecog['PatientID'].isin(df['PatientID'])]       "
   ]
  },
  {
   "cell_type": "code",
   "execution_count": 61,
   "id": "a328ea42",
   "metadata": {},
   "outputs": [],
   "source": [
    "ecog_fl_IDs = (\n",
    "    base_ecog\n",
    "    .query('LineNumber == 1')\n",
    "    .query('ECOGValue == \"2\" or ECOGValue == \"3\" or ECOGValue == \"4\"')\n",
    "    .PatientID.unique())"
   ]
  },
  {
   "cell_type": "code",
   "execution_count": 62,
   "id": "b207890a",
   "metadata": {},
   "outputs": [
    {
     "data": {
      "text/plain": [
       "8927"
      ]
     },
     "execution_count": 62,
     "metadata": {},
     "output_type": "execute_result"
    }
   ],
   "source": [
    "len(ecog_fl_IDs)"
   ]
  },
  {
   "cell_type": "code",
   "execution_count": 63,
   "id": "fc82ed82",
   "metadata": {},
   "outputs": [],
   "source": [
    "ecog_sec_IDs = (\n",
    "    base_ecog\n",
    "    .query('LineNumber == 2')\n",
    "    .query('ECOGValue == \"2\" or ECOGValue == \"3\" or ECOGValue == \"4\"')\n",
    "    .PatientID.unique())"
   ]
  },
  {
   "cell_type": "code",
   "execution_count": 64,
   "id": "f1713237",
   "metadata": {},
   "outputs": [
    {
     "data": {
      "text/plain": [
       "4022"
      ]
     },
     "execution_count": 64,
     "metadata": {},
     "output_type": "execute_result"
    }
   ],
   "source": [
    "len(ecog_sec_IDs)"
   ]
  },
  {
   "cell_type": "markdown",
   "id": "23849f86",
   "metadata": {},
   "source": [
    "### 5. Abnormal organ function at start of treatment \n",
    "* Hemoglobin >9\n",
    "* Creatinine <2\n",
    "* Total bilirubin <3"
   ]
  },
  {
   "cell_type": "code",
   "execution_count": 65,
   "id": "7a82b70c",
   "metadata": {},
   "outputs": [],
   "source": [
    "lab = pd.read_csv('Lab.csv')"
   ]
  },
  {
   "cell_type": "code",
   "execution_count": 66,
   "id": "fc8b8c90",
   "metadata": {},
   "outputs": [],
   "source": [
    "lab = lab[lab['PatientID'].isin(df['PatientID'])]"
   ]
  },
  {
   "cell_type": "code",
   "execution_count": 67,
   "id": "229ddfba",
   "metadata": {},
   "outputs": [],
   "source": [
    "lab.loc[:, 'ResultDate'] = pd.to_datetime(lab['ResultDate'], errors = 'coerce') "
   ]
  },
  {
   "cell_type": "code",
   "execution_count": 68,
   "id": "32382be9",
   "metadata": {},
   "outputs": [
    {
     "data": {
      "text/plain": [
       "(39492037, 64852)"
      ]
     },
     "execution_count": 68,
     "metadata": {},
     "output_type": "execute_result"
    }
   ],
   "source": [
    "row_ID(lab)"
   ]
  },
  {
   "cell_type": "code",
   "execution_count": 69,
   "id": "abf71815",
   "metadata": {},
   "outputs": [],
   "source": [
    "lab = pd.merge(lab, therapy_fl[['PatientID', 'StartDate']], on = 'PatientID', how = 'left')"
   ]
  },
  {
   "cell_type": "code",
   "execution_count": 70,
   "id": "b49635bd",
   "metadata": {},
   "outputs": [
    {
     "data": {
      "text/plain": [
       "(39492037, 64852)"
      ]
     },
     "execution_count": 70,
     "metadata": {},
     "output_type": "execute_result"
    }
   ],
   "source": [
    "row_ID(lab)"
   ]
  },
  {
   "cell_type": "code",
   "execution_count": 71,
   "id": "341827ba",
   "metadata": {},
   "outputs": [],
   "source": [
    "# Select rows with clinically relevant labs.\n",
    "lab_core = (\n",
    "    lab[\n",
    "    (lab['LOINC'] == \"2160-0\") |\n",
    "    (lab['LOINC'] == \"38483-4\") | \n",
    "    (lab['LOINC'] == \"718-7\") |\n",
    "    (lab['LOINC'] == \"20509-6\") |\n",
    "    (lab['LOINC'] == \"42719-5\") |\n",
    "    (lab['LOINC'] == \"1975-2\")]\n",
    "    .filter(items = ['PatientID', \n",
    "                     'ResultDate', \n",
    "                     'LOINC', \n",
    "                     'LabComponent', \n",
    "                     'TestUnits', \n",
    "                     'TestUnitsCleaned', \n",
    "                     'TestResult', \n",
    "                     'TestResultCleaned', \n",
    "                     'StartDate'])\n",
    ")"
   ]
  },
  {
   "cell_type": "code",
   "execution_count": 72,
   "id": "bdc63c78",
   "metadata": {},
   "outputs": [],
   "source": [
    "conditions = [\n",
    "    ((lab_core['LOINC'] == '2160-0') | (lab_core['LOINC'] == '38483-4')),\n",
    "    ((lab_core['LOINC'] == '718-7') | (lab_core['LOINC'] == '20509-6')),\n",
    "    ((lab_core['LOINC'] == '42719-5') | (lab_core['LOINC'] == '1975-2'))]\n",
    "\n",
    "choices = ['creatinine', \n",
    "           'hemoglobin', \n",
    "           'total_bilirubin']\n",
    "\n",
    "lab_core.loc[:, 'lab_name'] = np.select(conditions, choices)"
   ]
  },
  {
   "cell_type": "code",
   "execution_count": 73,
   "id": "ba949ae6",
   "metadata": {},
   "outputs": [
    {
     "data": {
      "text/plain": [
       "(3835679, 64616)"
      ]
     },
     "execution_count": 73,
     "metadata": {},
     "output_type": "execute_result"
    }
   ],
   "source": [
    "row_ID(lab_core)"
   ]
  },
  {
   "cell_type": "code",
   "execution_count": 74,
   "id": "ca33b731",
   "metadata": {},
   "outputs": [],
   "source": [
    "conditions = [\n",
    "    (lab_core['lab_name'] == 'hemoglobin') & (lab_core['TestUnits'] == 'g/uL')]\n",
    "\n",
    "choices = [lab_core['TestResultCleaned'] / 100000]\n",
    "\n",
    "lab_core.loc[:, 'test_result_cleaned'] = np.select(conditions, choices, default = lab_core['TestResultCleaned'])"
   ]
  },
  {
   "cell_type": "code",
   "execution_count": 75,
   "id": "95bbcbf0",
   "metadata": {},
   "outputs": [],
   "source": [
    "lab_f = (\n",
    "    lab_core\n",
    "    .assign(lab_date_diff = (lab_core['ResultDate'] - lab_core['StartDate']).dt.days)\n",
    "    .query('lab_date_diff <= 0 and lab_date_diff > -90')\n",
    "    .sort_values(by = ['PatientID', 'lab_name', 'lab_date_diff'], ascending = [True, True, False])\n",
    "    .drop_duplicates(subset = ['PatientID', 'lab_name'], keep = 'first' )\n",
    ")"
   ]
  },
  {
   "cell_type": "code",
   "execution_count": 76,
   "id": "22cf1592",
   "metadata": {},
   "outputs": [],
   "source": [
    "# Select lab closest to date of advanced diagnosis and pivot to a wide table. \n",
    "lab_wide = (\n",
    "    lab_f\n",
    "    .pivot(index = 'PatientID', columns = 'lab_name', values = 'test_result_cleaned')\n",
    "    .reset_index())\n",
    "\n",
    "lab_wide.columns.name = None"
   ]
  },
  {
   "cell_type": "code",
   "execution_count": 77,
   "id": "04e9a78d",
   "metadata": {},
   "outputs": [
    {
     "data": {
      "text/html": [
       "<div>\n",
       "<style scoped>\n",
       "    .dataframe tbody tr th:only-of-type {\n",
       "        vertical-align: middle;\n",
       "    }\n",
       "\n",
       "    .dataframe tbody tr th {\n",
       "        vertical-align: top;\n",
       "    }\n",
       "\n",
       "    .dataframe thead th {\n",
       "        text-align: right;\n",
       "    }\n",
       "</style>\n",
       "<table border=\"1\" class=\"dataframe\">\n",
       "  <thead>\n",
       "    <tr style=\"text-align: right;\">\n",
       "      <th></th>\n",
       "      <th>PatientID</th>\n",
       "      <th>creatinine</th>\n",
       "      <th>hemoglobin</th>\n",
       "      <th>total_bilirubin</th>\n",
       "    </tr>\n",
       "  </thead>\n",
       "  <tbody>\n",
       "    <tr>\n",
       "      <th>15754</th>\n",
       "      <td>F587CE14C3FE4</td>\n",
       "      <td>1.30</td>\n",
       "      <td>12.8</td>\n",
       "      <td>0.5</td>\n",
       "    </tr>\n",
       "    <tr>\n",
       "      <th>18379</th>\n",
       "      <td>F66D514B9C887</td>\n",
       "      <td>0.80</td>\n",
       "      <td>11.2</td>\n",
       "      <td>NaN</td>\n",
       "    </tr>\n",
       "    <tr>\n",
       "      <th>36092</th>\n",
       "      <td>FC9DB8A73FB3A</td>\n",
       "      <td>0.74</td>\n",
       "      <td>13.5</td>\n",
       "      <td>0.7</td>\n",
       "    </tr>\n",
       "  </tbody>\n",
       "</table>\n",
       "</div>"
      ],
      "text/plain": [
       "           PatientID  creatinine  hemoglobin  total_bilirubin\n",
       "15754  F587CE14C3FE4        1.30        12.8              0.5\n",
       "18379  F66D514B9C887        0.80        11.2              NaN\n",
       "36092  FC9DB8A73FB3A        0.74        13.5              0.7"
      ]
     },
     "execution_count": 77,
     "metadata": {},
     "output_type": "execute_result"
    }
   ],
   "source": [
    "lab_wide.sample(3)"
   ]
  },
  {
   "cell_type": "code",
   "execution_count": 78,
   "id": "d1fd1156",
   "metadata": {},
   "outputs": [],
   "source": [
    "ab_organ_IDs = lab_wide.query('creatinine > 2 or hemoglobin < 9 or total_bilirubin > 3').PatientID"
   ]
  },
  {
   "cell_type": "code",
   "execution_count": 79,
   "id": "98f4f6b3",
   "metadata": {},
   "outputs": [
    {
     "data": {
      "text/plain": [
       "2256"
      ]
     },
     "execution_count": 79,
     "metadata": {},
     "output_type": "execute_result"
    }
   ],
   "source": [
    "len(ab_organ_IDs)"
   ]
  },
  {
   "cell_type": "code",
   "execution_count": 80,
   "id": "43a9eaac",
   "metadata": {},
   "outputs": [],
   "source": [
    "ab_organ_IDs.to_csv('ab_organ_IDs.csv', index = False)"
   ]
  },
  {
   "cell_type": "code",
   "execution_count": 81,
   "id": "a86aa7da",
   "metadata": {},
   "outputs": [],
   "source": [
    "del diagnosis\n",
    "del diagnosis_10\n",
    "del diagnosis_9\n",
    "del lab\n",
    "del lab_core\n",
    "del lab_f\n",
    "del lab_wide "
   ]
  },
  {
   "cell_type": "markdown",
   "id": "4a7b7d32",
   "metadata": {},
   "source": [
    "## Part 2: In-silico trials "
   ]
  },
  {
   "cell_type": "markdown",
   "id": "eeda2460",
   "metadata": {},
   "source": [
    "### Import packages and create necessary functions"
   ]
  },
  {
   "cell_type": "code",
   "execution_count": 82,
   "id": "98cdf1c2",
   "metadata": {},
   "outputs": [],
   "source": [
    "from scipy import stats\n",
    "\n",
    "from sksurv.nonparametric import kaplan_meier_estimator\n",
    "from survive import KaplanMeier, SurvivalData\n",
    "\n",
    "from lifelines import KaplanMeierFitter\n",
    "from lifelines.plotting import add_at_risk_counts\n",
    "from lifelines.utils import median_survival_times\n",
    "\n",
    "import matplotlib.pyplot as plt\n",
    "import matplotlib.gridspec as gridspec\n",
    "\n",
    "from sklearn.pipeline import Pipeline\n",
    "from sklearn.impute import SimpleImputer\n",
    "from sklearn.preprocessing import StandardScaler, OneHotEncoder\n",
    "from sklearn.compose import ColumnTransformer \n",
    "from sklearn.linear_model import LogisticRegression\n",
    "\n",
    "from matplotlib.lines import Line2D   "
   ]
  },
  {
   "cell_type": "code",
   "execution_count": 83,
   "id": "8988c4fa",
   "metadata": {},
   "outputs": [],
   "source": [
    "cutoff = pd.read_csv('risk_cutoff_lung.csv', index_col = 0)"
   ]
  },
  {
   "cell_type": "markdown",
   "id": "7e83e4f0",
   "metadata": {},
   "source": [
    "### KEYNOTE-042: First-line pembrolizumab vs. platinum-based chemotherapy in those with PDL1 >=1%\n",
    "\n",
    "**INCLUSION CRITERIA**\n",
    "* Untreated locally advanced or metastatic NSCLC\n",
    "* Received first line pemobrolizumab or platinum-based chemotherapy\n",
    "* PDL1 >= 1% and status known within (-inf, +30] days of first-line treatment\n",
    "* EGFR and ALK negative\n",
    "* No autoimmune diseases in the year preceding metastatic diagnosis \n",
    "* No history of ILD, HIV, Hep C, Hep B, severe psychiatric history, or drug use disorder in the year preceding metastatic diagnosis \n",
    "* No CNS metastasis at start of treatment \n",
    "* ECOG is not 2, 3, or 4 at start of treatment \n",
    "* Adeuquate organ function at start of treatment "
   ]
  },
  {
   "cell_type": "markdown",
   "id": "d8bf8364",
   "metadata": {},
   "source": [
    "#### Pembrolizumab"
   ]
  },
  {
   "cell_type": "code",
   "execution_count": 84,
   "id": "09321ad9",
   "metadata": {},
   "outputs": [
    {
     "data": {
      "text/plain": [
       "68483"
      ]
     },
     "execution_count": 84,
     "metadata": {},
     "output_type": "execute_result"
    }
   ],
   "source": [
    "df_full = pd.read_csv('df_risk_crude.csv', index_col = 'PatientID', dtype = {'death_status': bool})\n",
    "df_full.index.nunique()"
   ]
  },
  {
   "cell_type": "code",
   "execution_count": 85,
   "id": "7b28fcfe",
   "metadata": {},
   "outputs": [],
   "source": [
    "line_therapy = pd.read_csv('LineOfTherapy.csv')"
   ]
  },
  {
   "cell_type": "code",
   "execution_count": 86,
   "id": "96384d46",
   "metadata": {},
   "outputs": [],
   "source": [
    "key042_pembro = (\n",
    "    line_therapy[line_therapy['PatientID'].isin(df_full.index)]\n",
    "    .query('LineNumber == 1')\n",
    "    .query('IsMaintenanceTherapy == False')\n",
    "    .query('LineName == \"Pembrolizumab\"')\n",
    "    [['PatientID', 'StartDate']]\n",
    ")"
   ]
  },
  {
   "cell_type": "code",
   "execution_count": 87,
   "id": "ed874c1d",
   "metadata": {},
   "outputs": [],
   "source": [
    "key042_pembro.loc[:, 'pembro'] = 1"
   ]
  },
  {
   "cell_type": "code",
   "execution_count": 88,
   "id": "72725c96",
   "metadata": {},
   "outputs": [
    {
     "data": {
      "text/plain": [
       "(3648, 3648)"
      ]
     },
     "execution_count": 88,
     "metadata": {},
     "output_type": "execute_result"
    }
   ],
   "source": [
    "row_ID(key042_pembro)"
   ]
  },
  {
   "cell_type": "code",
   "execution_count": 89,
   "id": "a01aae6d",
   "metadata": {},
   "outputs": [],
   "source": [
    "# Dataframe of all therapies received for those receiving first line pembrolizumab only. \n",
    "line_therapy_pembro_042 = (\n",
    "    line_therapy[line_therapy['PatientID'].isin(key042_pembro.PatientID)])"
   ]
  },
  {
   "cell_type": "code",
   "execution_count": 90,
   "id": "b9aed84a",
   "metadata": {},
   "outputs": [],
   "source": [
    "targeted = [\n",
    "    'Afatinib',\n",
    "    'Alectinib',\n",
    "    'Brigatinib',\n",
    "    'Cabozantinib',\n",
    "    'Capmatinib',\n",
    "    'Ceritinib',\n",
    "    'Crizotinib',\n",
    "    'Dabrafenib',\n",
    "    'Dacomitinib',\n",
    "    'Entrectinib',\n",
    "    'Erlotinib',\n",
    "    'Gefitinib',\n",
    "    'Lorlatinib',\n",
    "    'Osimertinib',\n",
    "    'Pralsetinib',\n",
    "    'Selpercatinib',\n",
    "    'Sotorasib',\n",
    "    'Tepotinib',\n",
    "    'Trametinib',\n",
    "    'Vandetanib']"
   ]
  },
  {
   "cell_type": "code",
   "execution_count": 91,
   "id": "1ceabf62",
   "metadata": {},
   "outputs": [],
   "source": [
    "# Patients receiving pembrolizumab therapy who later recieve targeted therapy. \n",
    "pembro_042_xcross = (\n",
    "    line_therapy_pembro_042[line_therapy_pembro_042['LineName'].str.contains('|'.join(targeted))].PatientID)"
   ]
  },
  {
   "cell_type": "code",
   "execution_count": 92,
   "id": "f59245bd",
   "metadata": {},
   "outputs": [],
   "source": [
    "# Select patients who don't receive targeted therapy in future lines.\n",
    "key042_pembro = key042_pembro[~key042_pembro['PatientID'].isin(pembro_042_xcross)]"
   ]
  },
  {
   "cell_type": "code",
   "execution_count": 93,
   "id": "4c058752",
   "metadata": {},
   "outputs": [
    {
     "data": {
      "text/plain": [
       "(3582, 3582)"
      ]
     },
     "execution_count": 93,
     "metadata": {},
     "output_type": "execute_result"
    }
   ],
   "source": [
    "row_ID(key042_pembro)"
   ]
  },
  {
   "cell_type": "code",
   "execution_count": 94,
   "id": "e298dba2",
   "metadata": {},
   "outputs": [
    {
     "data": {
      "text/plain": [
       "(3582, 3582)"
      ]
     },
     "execution_count": 94,
     "metadata": {},
     "output_type": "execute_result"
    }
   ],
   "source": [
    "row_ID(key042_pembro)"
   ]
  },
  {
   "cell_type": "markdown",
   "id": "45a1e6ce",
   "metadata": {},
   "source": [
    "#### Platinum-based chemotherapy "
   ]
  },
  {
   "cell_type": "code",
   "execution_count": 95,
   "id": "5cedfdd4",
   "metadata": {},
   "outputs": [],
   "source": [
    "line_therapy_fl = (\n",
    "    line_therapy[line_therapy['PatientID'].isin(df_full.index)]\n",
    "    .query('LineNumber == 1')\n",
    "    .query('IsMaintenanceTherapy == False')\n",
    ")"
   ]
  },
  {
   "cell_type": "code",
   "execution_count": 96,
   "id": "1a86d53f",
   "metadata": {},
   "outputs": [],
   "source": [
    "plat_chemo = [\n",
    "    'Carboplatin',\n",
    "    'Cisplatin']\n",
    "\n",
    "immuno = [\n",
    "    'Atezolizumab',\n",
    "    'Cemiplimab',\n",
    "    'Durvalumab',\n",
    "    'Ipilimumab',\n",
    "    'Nivolumab',\n",
    "    'Pembrolizumab'\n",
    "]"
   ]
  },
  {
   "cell_type": "code",
   "execution_count": 97,
   "id": "a5a99804",
   "metadata": {},
   "outputs": [
    {
     "data": {
      "text/plain": [
       "Carboplatin,Paclitaxel                  8524\n",
       "Carboplatin,Pemetrexed                  5417\n",
       "Bevacizumab,Carboplatin,Pemetrexed      2825\n",
       "Carboplatin,Paclitaxel Protein-Bound    1826\n",
       "Bevacizumab,Carboplatin,Paclitaxel      1591\n",
       "Carboplatin,Gemcitabine                 1224\n",
       "Cisplatin,Etoposide                      793\n",
       "Carboplatin,Docetaxel                    780\n",
       "Cisplatin,Pemetrexed                     684\n",
       "Carboplatin,Etoposide                    363\n",
       "Name: LineName, dtype: int64"
      ]
     },
     "execution_count": 97,
     "metadata": {},
     "output_type": "execute_result"
    }
   ],
   "source": [
    "line_therapy_fl[line_therapy_fl['LineName'].str.contains('|'.join(plat_chemo)) & \n",
    "                ~line_therapy_fl['LineName'].str.contains('|'.join(immuno)) &\n",
    "                ~line_therapy_fl['LineName'].str.contains('|'.join(targeted)) &\n",
    "                ~line_therapy_fl['LineName'].str.contains('Clinical Study Drug')].LineName.value_counts().head(10)"
   ]
  },
  {
   "cell_type": "code",
   "execution_count": 98,
   "id": "b1636989",
   "metadata": {},
   "outputs": [],
   "source": [
    "key042_plat = (\n",
    "    line_therapy_fl[line_therapy_fl['LineName'].str.contains('|'.join(plat_chemo)) & \n",
    "                    ~line_therapy_fl['LineName'].str.contains('|'.join(immuno)) &\n",
    "                    ~line_therapy_fl['LineName'].str.contains('|'.join(targeted)) &\n",
    "                    ~line_therapy_fl['LineName'].str.contains('Clinical Study Drug')]\n",
    "    [['PatientID', 'StartDate']]\n",
    ")"
   ]
  },
  {
   "cell_type": "code",
   "execution_count": 99,
   "id": "fb0986fb",
   "metadata": {},
   "outputs": [],
   "source": [
    "key042_plat.loc[:, 'pembro'] = 0"
   ]
  },
  {
   "cell_type": "code",
   "execution_count": 100,
   "id": "701da862",
   "metadata": {},
   "outputs": [
    {
     "data": {
      "text/plain": [
       "(25861, 25861)"
      ]
     },
     "execution_count": 100,
     "metadata": {},
     "output_type": "execute_result"
    }
   ],
   "source": [
    "row_ID(key042_plat)"
   ]
  },
  {
   "cell_type": "code",
   "execution_count": 101,
   "id": "fff46b4a",
   "metadata": {},
   "outputs": [],
   "source": [
    "# Dataframe of all therapies received for those receiving first line platinum regimen   \n",
    "line_therapy_plat_042 = (\n",
    "    line_therapy[line_therapy['PatientID'].isin(key042_plat.PatientID)])"
   ]
  },
  {
   "cell_type": "code",
   "execution_count": 102,
   "id": "9d4013be",
   "metadata": {},
   "outputs": [],
   "source": [
    "# Patients receiving platinum therapy who later recieve targeted therapy. \n",
    "plat_042_xcross = (\n",
    "    line_therapy_plat_042[line_therapy_plat_042['LineName'].str.contains('|'.join(targeted))].PatientID)"
   ]
  },
  {
   "cell_type": "code",
   "execution_count": 103,
   "id": "dbca074b",
   "metadata": {},
   "outputs": [],
   "source": [
    "# Select patients who don't receive targeted therapy in future lines \n",
    "key042_plat = key042_plat[~key042_plat['PatientID'].isin(plat_042_xcross)]"
   ]
  },
  {
   "cell_type": "code",
   "execution_count": 104,
   "id": "f30fd83a",
   "metadata": {},
   "outputs": [
    {
     "data": {
      "text/plain": [
       "(23800, 23800)"
      ]
     },
     "execution_count": 104,
     "metadata": {},
     "output_type": "execute_result"
    }
   ],
   "source": [
    "row_ID(key042_plat)"
   ]
  },
  {
   "cell_type": "code",
   "execution_count": 105,
   "id": "bbe0812c",
   "metadata": {},
   "outputs": [],
   "source": [
    "key_042 = pd.concat([key042_pembro, key042_plat])"
   ]
  },
  {
   "cell_type": "code",
   "execution_count": 106,
   "id": "411a39d0",
   "metadata": {},
   "outputs": [
    {
     "data": {
      "text/plain": [
       "(27382, 27382)"
      ]
     },
     "execution_count": 106,
     "metadata": {},
     "output_type": "execute_result"
    }
   ],
   "source": [
    "row_ID(key_042)"
   ]
  },
  {
   "cell_type": "code",
   "execution_count": 107,
   "id": "5c344c83",
   "metadata": {},
   "outputs": [],
   "source": [
    "key_042 = pd.merge(key_042, df_full, on = 'PatientID', how = 'left')"
   ]
  },
  {
   "cell_type": "code",
   "execution_count": 108,
   "id": "583a96ee",
   "metadata": {},
   "outputs": [
    {
     "data": {
      "text/plain": [
       "(27382, 27382)"
      ]
     },
     "execution_count": 108,
     "metadata": {},
     "output_type": "execute_result"
    }
   ],
   "source": [
    "row_ID(key_042)"
   ]
  },
  {
   "cell_type": "code",
   "execution_count": 109,
   "id": "9e212ca6",
   "metadata": {},
   "outputs": [],
   "source": [
    "key_042['StartDate'] = pd.to_datetime(key_042['StartDate'])"
   ]
  },
  {
   "cell_type": "markdown",
   "id": "4df3d119",
   "metadata": {},
   "source": [
    "#### PDL1 >=1%"
   ]
  },
  {
   "cell_type": "code",
   "execution_count": 110,
   "id": "94f3604c",
   "metadata": {},
   "outputs": [],
   "source": [
    "biomarkers = pd.read_csv('Enhanced_AdvNSCLCBiomarkers.csv')"
   ]
  },
  {
   "cell_type": "code",
   "execution_count": 111,
   "id": "efb19457",
   "metadata": {},
   "outputs": [],
   "source": [
    "biomarkers = biomarkers[biomarkers['PatientID'].isin(key_042['PatientID'])]"
   ]
  },
  {
   "cell_type": "code",
   "execution_count": 112,
   "id": "2764e392",
   "metadata": {},
   "outputs": [],
   "source": [
    "biomarkers = pd.merge(biomarkers, key_042[['PatientID', 'StartDate']], on = 'PatientID', how = 'left')"
   ]
  },
  {
   "cell_type": "code",
   "execution_count": 113,
   "id": "83cac5bf",
   "metadata": {},
   "outputs": [
    {
     "data": {
      "text/plain": [
       "(94603, 19875)"
      ]
     },
     "execution_count": 113,
     "metadata": {},
     "output_type": "execute_result"
    }
   ],
   "source": [
    "row_ID(biomarkers)"
   ]
  },
  {
   "cell_type": "code",
   "execution_count": 114,
   "id": "7cd5ca4b",
   "metadata": {},
   "outputs": [],
   "source": [
    "biomarkers['ResultDate'] = pd.to_datetime(biomarkers['ResultDate'])"
   ]
  },
  {
   "cell_type": "code",
   "execution_count": 115,
   "id": "f3b85f4d",
   "metadata": {},
   "outputs": [],
   "source": [
    "biomarkers['SpecimenReceivedDate'] = pd.to_datetime(biomarkers['SpecimenReceivedDate'])"
   ]
  },
  {
   "cell_type": "code",
   "execution_count": 116,
   "id": "4a9c6c43",
   "metadata": {},
   "outputs": [],
   "source": [
    "biomarkers.loc[:, 'result_date'] = (\n",
    "    np.where(biomarkers['ResultDate'].isna(), biomarkers['SpecimenReceivedDate'], biomarkers['ResultDate'])\n",
    ")"
   ]
  },
  {
   "cell_type": "code",
   "execution_count": 117,
   "id": "da8c499e",
   "metadata": {},
   "outputs": [],
   "source": [
    "biomarkers.loc[:, 'date_diff'] = (biomarkers['result_date'] - biomarkers['StartDate']).dt.days"
   ]
  },
  {
   "cell_type": "code",
   "execution_count": 118,
   "id": "0c338a7b",
   "metadata": {},
   "outputs": [],
   "source": [
    "pdl1_value = (\n",
    "    biomarkers\n",
    "    .query('BiomarkerName == \"PDL1\"')\n",
    "    .query('date_diff <=30')\n",
    "    .query('PercentStaining != \"0%\" and PercentStaining != \"< 1%\" and PercentStaining.notnull()', engine = 'python')\n",
    "    .sort_values(by = ['PatientID', 'PercentStaining'], ascending = [True, False])\n",
    "    .drop_duplicates(subset = ['PatientID'], keep = 'first')\n",
    "    [['PatientID', 'PercentStaining']]\n",
    ")"
   ]
  },
  {
   "cell_type": "code",
   "execution_count": 119,
   "id": "85e23a06",
   "metadata": {},
   "outputs": [],
   "source": [
    "pdl1_ids = (\n",
    "    biomarkers\n",
    "    .query('BiomarkerName == \"PDL1\"')\n",
    "    .query('date_diff <=30')\n",
    "    .query('PercentStaining != \"0%\" and PercentStaining != \"< 1%\" and PercentStaining.notnull()', engine = 'python')\n",
    "    .PatientID\n",
    "    .unique()\n",
    ")"
   ]
  },
  {
   "cell_type": "code",
   "execution_count": 120,
   "id": "ed7903ff",
   "metadata": {},
   "outputs": [],
   "source": [
    "key_042 = key_042[key_042.PatientID.isin(pdl1_ids)]"
   ]
  },
  {
   "cell_type": "code",
   "execution_count": 121,
   "id": "24628a7f",
   "metadata": {},
   "outputs": [
    {
     "data": {
      "text/plain": [
       "(5671, 5671)"
      ]
     },
     "execution_count": 121,
     "metadata": {},
     "output_type": "execute_result"
    }
   ],
   "source": [
    "row_ID(key_042)"
   ]
  },
  {
   "cell_type": "markdown",
   "id": "48a3a0cb",
   "metadata": {},
   "source": [
    "#### Time from treatment to death or censor"
   ]
  },
  {
   "cell_type": "code",
   "execution_count": 122,
   "id": "ec33b5d4",
   "metadata": {},
   "outputs": [],
   "source": [
    "mortality_tr = pd.read_csv('mortality_cleaned_tr.csv')"
   ]
  },
  {
   "cell_type": "code",
   "execution_count": 123,
   "id": "9e30d0f3",
   "metadata": {},
   "outputs": [],
   "source": [
    "mortality_te = pd.read_csv('mortality_cleaned_te.csv')"
   ]
  },
  {
   "cell_type": "code",
   "execution_count": 124,
   "id": "37770b12",
   "metadata": {},
   "outputs": [],
   "source": [
    "mortality_tr = mortality_tr[['PatientID', 'death_date', 'last_activity']]"
   ]
  },
  {
   "cell_type": "code",
   "execution_count": 125,
   "id": "200449ca",
   "metadata": {},
   "outputs": [],
   "source": [
    "mortality_te = mortality_te[['PatientID', 'death_date', 'last_activity']]"
   ]
  },
  {
   "cell_type": "code",
   "execution_count": 126,
   "id": "ac096346",
   "metadata": {},
   "outputs": [
    {
     "name": "stdout",
     "output_type": "stream",
     "text": [
      "68483 True\n"
     ]
    }
   ],
   "source": [
    "mortality = pd.concat([mortality_tr, mortality_te], ignore_index = True)\n",
    "print(len(mortality), mortality.PatientID.is_unique)"
   ]
  },
  {
   "cell_type": "code",
   "execution_count": 127,
   "id": "496a7cb3",
   "metadata": {},
   "outputs": [],
   "source": [
    "mortality.loc[:, 'last_activity'] = pd.to_datetime(mortality['last_activity'])"
   ]
  },
  {
   "cell_type": "code",
   "execution_count": 128,
   "id": "e25bb5ac",
   "metadata": {},
   "outputs": [],
   "source": [
    "mortality.loc[:, 'death_date'] = pd.to_datetime(mortality['death_date'])"
   ]
  },
  {
   "cell_type": "code",
   "execution_count": 129,
   "id": "0c785186",
   "metadata": {},
   "outputs": [],
   "source": [
    "key_042 = pd.merge(key_042, mortality, on = 'PatientID', how = 'left')"
   ]
  },
  {
   "cell_type": "code",
   "execution_count": 130,
   "id": "b77fa543",
   "metadata": {},
   "outputs": [
    {
     "data": {
      "text/plain": [
       "(5671, 5671)"
      ]
     },
     "execution_count": 130,
     "metadata": {},
     "output_type": "execute_result"
    }
   ],
   "source": [
    "row_ID(key_042)"
   ]
  },
  {
   "cell_type": "code",
   "execution_count": 131,
   "id": "ad5a3092",
   "metadata": {},
   "outputs": [],
   "source": [
    "conditions = [\n",
    "    (key_042['death_status'] == 1),\n",
    "    (key_042['death_status'] == 0)]\n",
    "\n",
    "choices = [\n",
    "    (key_042['death_date'] - key_042['StartDate']).dt.days,\n",
    "    (key_042['last_activity'] - key_042['StartDate']).dt.days]\n",
    "\n",
    "key_042.loc[:, 'timerisk_treatment'] = np.select(conditions, choices)"
   ]
  },
  {
   "cell_type": "code",
   "execution_count": 132,
   "id": "e80ff138",
   "metadata": {},
   "outputs": [],
   "source": [
    "key_042 = key_042.query('timerisk_treatment >= 0')"
   ]
  },
  {
   "cell_type": "markdown",
   "id": "1716f1c7",
   "metadata": {},
   "source": [
    "#### Patient count"
   ]
  },
  {
   "cell_type": "code",
   "execution_count": 133,
   "id": "0db54845",
   "metadata": {},
   "outputs": [],
   "source": [
    "key_042 = (\n",
    "    key_042\n",
    "    .query('EGFR != \"positive\"')\n",
    "    .query('ALK != \"positive\"')\n",
    ")"
   ]
  },
  {
   "cell_type": "code",
   "execution_count": 134,
   "id": "76172f01",
   "metadata": {},
   "outputs": [
    {
     "data": {
      "text/plain": [
       "(5548, 5548)"
      ]
     },
     "execution_count": 134,
     "metadata": {},
     "output_type": "execute_result"
    }
   ],
   "source": [
    "row_ID(key_042)"
   ]
  },
  {
   "cell_type": "code",
   "execution_count": 135,
   "id": "4741608d",
   "metadata": {},
   "outputs": [],
   "source": [
    "# Exclude those with autoimmune conditions. \n",
    "key_042 = key_042[~key_042['PatientID'].isin(auto_IDs)]"
   ]
  },
  {
   "cell_type": "code",
   "execution_count": 136,
   "id": "218c7e5b",
   "metadata": {},
   "outputs": [],
   "source": [
    "# Exclude those with other relevant comorbidities\n",
    "key_042 = key_042[~key_042['PatientID'].isin(other_comorb_IDs)]"
   ]
  },
  {
   "cell_type": "code",
   "execution_count": 137,
   "id": "102afebd",
   "metadata": {},
   "outputs": [],
   "source": [
    "# Exlcude those with CNS metastasis \n",
    "key_042 = key_042[~key_042['PatientID'].isin(cns_fl_IDs)]"
   ]
  },
  {
   "cell_type": "code",
   "execution_count": 138,
   "id": "965e34a8",
   "metadata": {},
   "outputs": [],
   "source": [
    "# Exclude those with ECOG 2, 3, or 4\n",
    "key_042 = key_042[~key_042['PatientID'].isin(ecog_fl_IDs)]"
   ]
  },
  {
   "cell_type": "code",
   "execution_count": 139,
   "id": "9feac603",
   "metadata": {},
   "outputs": [],
   "source": [
    "# Exclude those with abnormal organ function\n",
    "key_042 = key_042[~key_042['PatientID'].isin(ab_organ_IDs)]"
   ]
  },
  {
   "cell_type": "code",
   "execution_count": 140,
   "id": "eae9c16d",
   "metadata": {},
   "outputs": [
    {
     "data": {
      "text/plain": [
       "(3727, 3727)"
      ]
     },
     "execution_count": 140,
     "metadata": {},
     "output_type": "execute_result"
    }
   ],
   "source": [
    "row_ID(key_042)"
   ]
  },
  {
   "cell_type": "code",
   "execution_count": 141,
   "id": "e6950e6d",
   "metadata": {},
   "outputs": [],
   "source": [
    "low_cutoff_042 = cutoff.loc['keynote_042'].low"
   ]
  },
  {
   "cell_type": "code",
   "execution_count": 142,
   "id": "0b8124bd",
   "metadata": {},
   "outputs": [],
   "source": [
    "high_cutoff_042 = cutoff.loc['keynote_042'].high"
   ]
  },
  {
   "cell_type": "code",
   "execution_count": 143,
   "id": "f10833b6",
   "metadata": {},
   "outputs": [
    {
     "name": "stdout",
     "output_type": "stream",
     "text": [
      "Pembro total: 1818\n",
      "High risk: 475\n",
      "Med risk: 651\n",
      "Low risk: 692\n"
     ]
    }
   ],
   "source": [
    "print('Pembro total:', key_042.query('pembro == 1').shape[0])\n",
    "print('High risk:', key_042.query('pembro == 1').query('risk_score >= @high_cutoff_042').shape[0])\n",
    "print('Med risk:', key_042.query('pembro == 1').query('risk_score < @high_cutoff_042 and risk_score > @low_cutoff_042').shape[0])\n",
    "print('Low risk:', key_042.query('pembro == 1').query('risk_score <= @low_cutoff_042').shape[0])"
   ]
  },
  {
   "cell_type": "code",
   "execution_count": 144,
   "id": "12b69fb2",
   "metadata": {},
   "outputs": [
    {
     "name": "stdout",
     "output_type": "stream",
     "text": [
      "Platinum total: 1909\n",
      "High risk: 450\n",
      "Med risk: 653\n",
      "Low risk: 806\n"
     ]
    }
   ],
   "source": [
    "print('Platinum total:',  key_042.query('pembro == 0').shape[0])\n",
    "print('High risk:', key_042.query('pembro == 0').query('risk_score >= @high_cutoff_042').shape[0])\n",
    "print('Med risk:', key_042.query('pembro == 0').query('risk_score < @high_cutoff_042 and risk_score > @low_cutoff_042').shape[0])\n",
    "print('Low risk:', key_042.query('pembro == 0').query('risk_score <= @low_cutoff_042').shape[0])"
   ]
  },
  {
   "cell_type": "markdown",
   "id": "7ee2ecb2",
   "metadata": {},
   "source": [
    "#### Survival curves with covariate balancing "
   ]
  },
  {
   "cell_type": "code",
   "execution_count": 145,
   "id": "7deb50a6",
   "metadata": {
    "scrolled": true
   },
   "outputs": [
    {
     "data": {
      "text/plain": [
       "(3727, 3727)"
      ]
     },
     "execution_count": 145,
     "metadata": {},
     "output_type": "execute_result"
    }
   ],
   "source": [
    "row_ID(key_042)"
   ]
  },
  {
   "cell_type": "code",
   "execution_count": 146,
   "id": "19892bfa",
   "metadata": {},
   "outputs": [],
   "source": [
    "key_042 = pd.merge(key_042, pdl1_value, on = 'PatientID', how = 'left')"
   ]
  },
  {
   "cell_type": "code",
   "execution_count": 147,
   "id": "1c3d41c5",
   "metadata": {},
   "outputs": [
    {
     "data": {
      "text/plain": [
       "(3727, 3727)"
      ]
     },
     "execution_count": 147,
     "metadata": {},
     "output_type": "execute_result"
    }
   ],
   "source": [
    "row_ID(key_042)"
   ]
  },
  {
   "cell_type": "code",
   "execution_count": 148,
   "id": "c66051c9",
   "metadata": {},
   "outputs": [],
   "source": [
    "conditions = [\n",
    "    (key_042['PercentStaining'] == \"1%\") | \n",
    "    (key_042['PercentStaining'] == \"2% - 4%\") |\n",
    "    (key_042['PercentStaining'] == \"5% - 9%\") |\n",
    "    (key_042['PercentStaining'] == \"10% - 19%\") |\n",
    "    (key_042['PercentStaining'] == \"20% - 29%\") |\n",
    "    (key_042['PercentStaining'] == \"30% - 39%\") |\n",
    "    (key_042['PercentStaining'] == \"40% - 49%\")\n",
    "]\n",
    "\n",
    "choices = ['lt50']\n",
    "\n",
    "key_042['pdl1_det'] = np.select(conditions, choices, default = 'gte50')"
   ]
  },
  {
   "cell_type": "code",
   "execution_count": 149,
   "id": "809ee92d",
   "metadata": {},
   "outputs": [],
   "source": [
    "key_042 = key_042.set_index('PatientID')"
   ]
  },
  {
   "cell_type": "code",
   "execution_count": 150,
   "id": "c0ed91f9",
   "metadata": {},
   "outputs": [],
   "source": [
    "key_042_iptw = key_042.filter(items = ['death_status',\n",
    "                                       'timerisk_treatment',\n",
    "                                       'pembro',\n",
    "                                       'age',\n",
    "                                       'gender',\n",
    "                                       'race',\n",
    "                                       'PracticeType',\n",
    "                                       'Histology',\n",
    "                                       'adv_year',\n",
    "                                       'delta_adv_diagnosis',\n",
    "                                       'commercial',\n",
    "                                       'medicare',\n",
    "                                       'medicaid',\n",
    "                                       'ecog_diagnosis',\n",
    "                                       'pdl1_det',\n",
    "                                       'albumin_diag',\n",
    "                                       'weight_pct_change',\n",
    "                                       'risk_score'])"
   ]
  },
  {
   "cell_type": "code",
   "execution_count": 151,
   "id": "4fc076be",
   "metadata": {},
   "outputs": [],
   "source": [
    "key_042_iptw['met_cat'] = pd.cut(key_042_iptw['adv_year'],\n",
    "                                 bins = [2010, 2016, float('inf')],\n",
    "                                 labels = ['11-16', '17-21'])"
   ]
  },
  {
   "cell_type": "code",
   "execution_count": 152,
   "id": "e30d4b27",
   "metadata": {},
   "outputs": [],
   "source": [
    "conditions = [\n",
    "    ((key_042_iptw['ecog_diagnosis'] == \"1.0\") | (key_042_iptw['ecog_diagnosis'] == \"0.0\")),  \n",
    "    ((key_042_iptw['ecog_diagnosis'] == \"2.0\") | (key_042_iptw['ecog_diagnosis'] == \"3.0\"))\n",
    "]\n",
    "\n",
    "choices = ['lt_2', 'gte_2']\n",
    "\n",
    "key_042_iptw['ecog_2'] = np.select(conditions, choices, default = 'unknown')"
   ]
  },
  {
   "cell_type": "code",
   "execution_count": 153,
   "id": "b3577c89",
   "metadata": {
    "scrolled": true
   },
   "outputs": [
    {
     "data": {
      "text/plain": [
       "death_status               bool\n",
       "timerisk_treatment      float64\n",
       "pembro                    int64\n",
       "age                       int64\n",
       "gender                   object\n",
       "race                     object\n",
       "PracticeType             object\n",
       "Histology                object\n",
       "adv_year                  int64\n",
       "delta_adv_diagnosis       int64\n",
       "commercial              float64\n",
       "medicare                float64\n",
       "medicaid                float64\n",
       "ecog_diagnosis           object\n",
       "pdl1_det                 object\n",
       "albumin_diag            float64\n",
       "weight_pct_change       float64\n",
       "risk_score              float64\n",
       "met_cat                category\n",
       "ecog_2                   object\n",
       "dtype: object"
      ]
     },
     "execution_count": 153,
     "metadata": {},
     "output_type": "execute_result"
    }
   ],
   "source": [
    "key_042_iptw.dtypes"
   ]
  },
  {
   "cell_type": "code",
   "execution_count": 154,
   "id": "42c9ef7c",
   "metadata": {},
   "outputs": [],
   "source": [
    "to_be_categorical = list(key_042_iptw.select_dtypes(include = ['object']).columns)"
   ]
  },
  {
   "cell_type": "code",
   "execution_count": 155,
   "id": "d70254c6",
   "metadata": {},
   "outputs": [
    {
     "data": {
      "text/plain": [
       "['gender',\n",
       " 'race',\n",
       " 'PracticeType',\n",
       " 'Histology',\n",
       " 'ecog_diagnosis',\n",
       " 'pdl1_det',\n",
       " 'ecog_2']"
      ]
     },
     "execution_count": 155,
     "metadata": {},
     "output_type": "execute_result"
    }
   ],
   "source": [
    "to_be_categorical"
   ]
  },
  {
   "cell_type": "code",
   "execution_count": 156,
   "id": "70a0539b",
   "metadata": {},
   "outputs": [],
   "source": [
    "to_be_categorical.append('met_cat')"
   ]
  },
  {
   "cell_type": "code",
   "execution_count": 157,
   "id": "ef4d2ea8",
   "metadata": {},
   "outputs": [],
   "source": [
    "to_be_categorical.remove('ecog_diagnosis')"
   ]
  },
  {
   "cell_type": "code",
   "execution_count": 158,
   "id": "6107d931",
   "metadata": {},
   "outputs": [],
   "source": [
    "# Convert variables in list to categorical.\n",
    "for x in list(to_be_categorical):\n",
    "    key_042_iptw[x] = key_042_iptw[x].astype('category')"
   ]
  },
  {
   "cell_type": "code",
   "execution_count": 159,
   "id": "609852ad",
   "metadata": {},
   "outputs": [],
   "source": [
    "# List of numeric variables, excluding binary variables. \n",
    "numerical_features = ['age', 'delta_adv_diagnosis', 'albumin_diag', 'weight_pct_change', 'risk_score']\n",
    "\n",
    "# Transformer will first calculate column median and impute, and then apply a standard scaler. \n",
    "numerical_transformer = Pipeline(steps = [\n",
    "    ('imputer', SimpleImputer(strategy = 'median')),\n",
    "    ('std_scaler', StandardScaler())])"
   ]
  },
  {
   "cell_type": "code",
   "execution_count": 160,
   "id": "854cbdab",
   "metadata": {},
   "outputs": [],
   "source": [
    "# List of categorical features.\n",
    "categorical_features = list(key_042_iptw.select_dtypes(include = ['category']).columns)\n",
    "\n",
    "# One-hot-encode categorical features.\n",
    "categorical_transformer = OneHotEncoder(handle_unknown = 'ignore')"
   ]
  },
  {
   "cell_type": "code",
   "execution_count": 161,
   "id": "9808142b",
   "metadata": {},
   "outputs": [],
   "source": [
    "preprocessor = ColumnTransformer(\n",
    "    transformers = [\n",
    "        ('num', numerical_transformer, numerical_features),\n",
    "        ('cat', categorical_transformer, categorical_features)],\n",
    "    remainder = 'passthrough')"
   ]
  },
  {
   "cell_type": "code",
   "execution_count": 162,
   "id": "24719ded",
   "metadata": {},
   "outputs": [],
   "source": [
    "key_042_iptw_low = (\n",
    "    key_042_iptw\n",
    "    .query('risk_score <= @low_cutoff_042'))\n",
    "\n",
    "key_042_iptw_med = (\n",
    "    key_042_iptw\n",
    "    .query('risk_score < @high_cutoff_042 and risk_score > @low_cutoff_042'))\n",
    "\n",
    "key_042_iptw_high = (\n",
    "    key_042_iptw\n",
    "    .query('risk_score >= @high_cutoff_042'))\n",
    "\n",
    "key_042_iptw_all = key_042_iptw"
   ]
  },
  {
   "cell_type": "code",
   "execution_count": 163,
   "id": "93e673e9",
   "metadata": {},
   "outputs": [],
   "source": [
    "key_042_low_x = preprocessor.fit_transform(key_042_iptw_low.filter(items = ['age',\n",
    "                                                                            'gender',\n",
    "                                                                            'race',\n",
    "                                                                            'PracticeType',\n",
    "                                                                            'Histology',\n",
    "                                                                            'met_cat',\n",
    "                                                                            'delta_adv_diagnosis',\n",
    "                                                                            'commercial',\n",
    "                                                                            'medicare',\n",
    "                                                                            'medicaid',\n",
    "                                                                            'ecog_2',\n",
    "                                                                            'pdl1_det',\n",
    "                                                                            'albumin_diag',\n",
    "                                                                            'weight_pct_change',\n",
    "                                                                            'risk_score']))\n",
    "\n",
    "key_042_med_x = preprocessor.fit_transform(key_042_iptw_med.filter(items = ['age',\n",
    "                                                                            'gender',\n",
    "                                                                            'race',\n",
    "                                                                            'PracticeType',\n",
    "                                                                            'Histology',\n",
    "                                                                            'met_cat',\n",
    "                                                                            'delta_adv_diagnosis',\n",
    "                                                                            'commercial',\n",
    "                                                                            'medicare',\n",
    "                                                                            'medicaid',\n",
    "                                                                            'ecog_2',\n",
    "                                                                            'pdl1_det',\n",
    "                                                                            'albumin_diag',\n",
    "                                                                            'weight_pct_change',\n",
    "                                                                            'risk_score']))\n",
    "\n",
    "key_042_high_x = preprocessor.fit_transform(key_042_iptw_high.filter(items = ['age',\n",
    "                                                                              'gender',\n",
    "                                                                              'race',\n",
    "                                                                              'PracticeType',\n",
    "                                                                              'Histology',\n",
    "                                                                              'met_cat',\n",
    "                                                                              'delta_adv_diagnosis',\n",
    "                                                                              'commercial',\n",
    "                                                                              'medicare',\n",
    "                                                                              'medicaid',\n",
    "                                                                              'ecog_2',\n",
    "                                                                              'pdl1_det', \n",
    "                                                                              'albumin_diag',\n",
    "                                                                              'weight_pct_change',\n",
    "                                                                              'risk_score']))\n",
    "\n",
    "key_042_all_x = preprocessor.fit_transform(key_042_iptw_all.filter(items = ['age',\n",
    "                                                                            'gender',\n",
    "                                                                            'race',\n",
    "                                                                            'PracticeType',\n",
    "                                                                            'Histology',\n",
    "                                                                            'met_cat',\n",
    "                                                                            'delta_adv_diagnosis',\n",
    "                                                                            'commercial',\n",
    "                                                                            'medicare',\n",
    "                                                                            'medicaid',\n",
    "                                                                            'ecog_2',\n",
    "                                                                            'pdl1_det', \n",
    "                                                                            'albumin_diag',\n",
    "                                                                            'weight_pct_change',\n",
    "                                                                            'risk_score']))"
   ]
  },
  {
   "cell_type": "code",
   "execution_count": 164,
   "id": "8512e297",
   "metadata": {},
   "outputs": [
    {
     "data": {
      "text/plain": [
       "LogisticRegression(max_iter=1000)"
      ]
     },
     "execution_count": 164,
     "metadata": {},
     "output_type": "execute_result"
    }
   ],
   "source": [
    "lr_042_low = LogisticRegression(max_iter = 1000)\n",
    "lr_042_low.fit(key_042_low_x, key_042_iptw_low['pembro'])"
   ]
  },
  {
   "cell_type": "code",
   "execution_count": 165,
   "id": "f49bfc62",
   "metadata": {},
   "outputs": [
    {
     "data": {
      "text/plain": [
       "LogisticRegression(max_iter=1000)"
      ]
     },
     "execution_count": 165,
     "metadata": {},
     "output_type": "execute_result"
    }
   ],
   "source": [
    "lr_042_med = LogisticRegression(max_iter = 1000)\n",
    "lr_042_med.fit(key_042_med_x, key_042_iptw_med['pembro'])"
   ]
  },
  {
   "cell_type": "code",
   "execution_count": 166,
   "id": "798b2688",
   "metadata": {},
   "outputs": [
    {
     "data": {
      "text/plain": [
       "LogisticRegression(max_iter=1000)"
      ]
     },
     "execution_count": 166,
     "metadata": {},
     "output_type": "execute_result"
    }
   ],
   "source": [
    "lr_042_high = LogisticRegression(max_iter = 1000)\n",
    "lr_042_high.fit(key_042_high_x, key_042_iptw_high['pembro'])"
   ]
  },
  {
   "cell_type": "code",
   "execution_count": 167,
   "id": "b254adee",
   "metadata": {},
   "outputs": [
    {
     "data": {
      "text/plain": [
       "LogisticRegression(max_iter=1000)"
      ]
     },
     "execution_count": 167,
     "metadata": {},
     "output_type": "execute_result"
    }
   ],
   "source": [
    "lr_042_all = LogisticRegression(max_iter = 1000)\n",
    "lr_042_all.fit(key_042_all_x, key_042_iptw_all['pembro'])"
   ]
  },
  {
   "cell_type": "code",
   "execution_count": 168,
   "id": "98e90a2e",
   "metadata": {},
   "outputs": [],
   "source": [
    "pred_low = lr_042_low.predict_proba(key_042_low_x)\n",
    "pred_med = lr_042_med.predict_proba(key_042_med_x)\n",
    "pred_high = lr_042_high.predict_proba(key_042_high_x)\n",
    "pred_all = lr_042_all.predict_proba(key_042_all_x)"
   ]
  },
  {
   "cell_type": "code",
   "execution_count": 169,
   "id": "71522b84",
   "metadata": {},
   "outputs": [
    {
     "name": "stderr",
     "output_type": "stream",
     "text": [
      "/Users/xavierorcutt/Dropbox/ist_project/myenv/lib/python3.7/site-packages/ipykernel_launcher.py:1: SettingWithCopyWarning: \n",
      "A value is trying to be set on a copy of a slice from a DataFrame.\n",
      "Try using .loc[row_indexer,col_indexer] = value instead\n",
      "\n",
      "See the caveats in the documentation: https://pandas.pydata.org/pandas-docs/stable/user_guide/indexing.html#returning-a-view-versus-a-copy\n",
      "  \"\"\"Entry point for launching an IPython kernel.\n",
      "/Users/xavierorcutt/Dropbox/ist_project/myenv/lib/python3.7/site-packages/ipykernel_launcher.py:2: SettingWithCopyWarning: \n",
      "A value is trying to be set on a copy of a slice from a DataFrame.\n",
      "Try using .loc[row_indexer,col_indexer] = value instead\n",
      "\n",
      "See the caveats in the documentation: https://pandas.pydata.org/pandas-docs/stable/user_guide/indexing.html#returning-a-view-versus-a-copy\n",
      "  \n",
      "/Users/xavierorcutt/Dropbox/ist_project/myenv/lib/python3.7/site-packages/ipykernel_launcher.py:3: SettingWithCopyWarning: \n",
      "A value is trying to be set on a copy of a slice from a DataFrame.\n",
      "Try using .loc[row_indexer,col_indexer] = value instead\n",
      "\n",
      "See the caveats in the documentation: https://pandas.pydata.org/pandas-docs/stable/user_guide/indexing.html#returning-a-view-versus-a-copy\n",
      "  This is separate from the ipykernel package so we can avoid doing imports until\n"
     ]
    }
   ],
   "source": [
    "key_042_iptw_low['ps'] = pred_low[:, 1]\n",
    "key_042_iptw_med['ps'] = pred_med[:, 1]\n",
    "key_042_iptw_high['ps'] = pred_high[:, 1]\n",
    "key_042_iptw_all['ps'] = pred_all[:, 1]"
   ]
  },
  {
   "cell_type": "code",
   "execution_count": 170,
   "id": "f96a07a7",
   "metadata": {},
   "outputs": [
    {
     "name": "stderr",
     "output_type": "stream",
     "text": [
      "/Users/xavierorcutt/Dropbox/ist_project/myenv/lib/python3.7/site-packages/ipykernel_launcher.py:2: SettingWithCopyWarning: \n",
      "A value is trying to be set on a copy of a slice from a DataFrame.\n",
      "Try using .loc[row_indexer,col_indexer] = value instead\n",
      "\n",
      "See the caveats in the documentation: https://pandas.pydata.org/pandas-docs/stable/user_guide/indexing.html#returning-a-view-versus-a-copy\n",
      "  \n",
      "/Users/xavierorcutt/Dropbox/ist_project/myenv/lib/python3.7/site-packages/ipykernel_launcher.py:5: SettingWithCopyWarning: \n",
      "A value is trying to be set on a copy of a slice from a DataFrame.\n",
      "Try using .loc[row_indexer,col_indexer] = value instead\n",
      "\n",
      "See the caveats in the documentation: https://pandas.pydata.org/pandas-docs/stable/user_guide/indexing.html#returning-a-view-versus-a-copy\n",
      "  \"\"\"\n",
      "/Users/xavierorcutt/Dropbox/ist_project/myenv/lib/python3.7/site-packages/ipykernel_launcher.py:8: SettingWithCopyWarning: \n",
      "A value is trying to be set on a copy of a slice from a DataFrame.\n",
      "Try using .loc[row_indexer,col_indexer] = value instead\n",
      "\n",
      "See the caveats in the documentation: https://pandas.pydata.org/pandas-docs/stable/user_guide/indexing.html#returning-a-view-versus-a-copy\n",
      "  \n"
     ]
    }
   ],
   "source": [
    "key_042_iptw_low['weight'] = (\n",
    "    np.where(key_042_iptw_low['pembro'] == 1, 1/key_042_iptw_low['ps'], 1/(1 - key_042_iptw_low['ps'])))\n",
    "\n",
    "key_042_iptw_med['weight'] = (\n",
    "    np.where(key_042_iptw_med['pembro'] == 1, 1/key_042_iptw_med['ps'], 1/(1 - key_042_iptw_med['ps'])))\n",
    "\n",
    "key_042_iptw_high['weight'] = (\n",
    "    np.where(key_042_iptw_high['pembro'] == 1, 1/key_042_iptw_high['ps'], 1/(1 - key_042_iptw_high['ps'])))\n",
    "\n",
    "key_042_iptw_all['weight'] = (\n",
    "    np.where(key_042_iptw_all['pembro'] == 1, 1/key_042_iptw_all['ps'], 1/(1 - key_042_iptw_all['ps'])))"
   ]
  },
  {
   "cell_type": "code",
   "execution_count": 171,
   "id": "5c8d9b56",
   "metadata": {},
   "outputs": [
    {
     "name": "stderr",
     "output_type": "stream",
     "text": [
      "/Users/xavierorcutt/Dropbox/ist_project/myenv/lib/python3.7/site-packages/lifelines/fitters/kaplan_meier_fitter.py:344: StatisticalWarning: It looks like your weights are not integers, possibly propensity scores then?\n",
      "  It's important to know that the naive variance estimates of the coefficients are biased. Instead use Monte Carlo to\n",
      "  estimate the variances. See paper \"Variance estimation when using inverse probability of treatment weighting (IPTW) with survival analysis\"\n",
      "  or \"Adjusted Kaplan-Meier estimator and log-rank test with inverse probability of treatment weighting for survival data.\"\n",
      "                  \n",
      "  StatisticalWarning,\n"
     ]
    },
    {
     "data": {
      "text/plain": [
       "<lifelines.KaplanMeierFitter:\"KM_estimate\", fitted with 3897.08 total observations, 1623.18 right-censored observations>"
      ]
     },
     "execution_count": 171,
     "metadata": {},
     "output_type": "execute_result"
    }
   ],
   "source": [
    "# Low KM curves\n",
    "kmf_low_pembro_042_iptw = KaplanMeierFitter()\n",
    "kmf_low_plat_042_iptw = KaplanMeierFitter()\n",
    "\n",
    "kmf_low_pembro_042_iptw.fit(\n",
    "    key_042_iptw_low.query('pembro == 1').timerisk_treatment/30,\n",
    "    key_042_iptw_low.query('pembro == 1').death_status,\n",
    "    weights = key_042_iptw_low.query('pembro == 1')['weight'])\n",
    "\n",
    "kmf_low_plat_042_iptw.fit(\n",
    "    key_042_iptw_low.query('pembro == 0').timerisk_treatment/30,\n",
    "    key_042_iptw_low.query('pembro == 0').death_status,\n",
    "    weights = key_042_iptw_low.query('pembro == 0')['weight'])\n",
    "\n",
    "# Med KM curves\n",
    "kmf_med_pembro_042_iptw = KaplanMeierFitter()\n",
    "kmf_med_plat_042_iptw = KaplanMeierFitter()\n",
    "\n",
    "kmf_med_pembro_042_iptw.fit(\n",
    "    key_042_iptw_med.query('pembro == 1').timerisk_treatment/30,\n",
    "    key_042_iptw_med.query('pembro == 1').death_status,\n",
    "    weights = key_042_iptw_med.query('pembro == 1')['weight'])\n",
    "\n",
    "kmf_med_plat_042_iptw.fit(\n",
    "    key_042_iptw_med.query('pembro == 0').timerisk_treatment/30,\n",
    "    key_042_iptw_med.query('pembro == 0').death_status,\n",
    "    weights = key_042_iptw_med.query('pembro == 0')['weight'])\n",
    "\n",
    "# High KM curves \n",
    "kmf_high_pembro_042_iptw = KaplanMeierFitter()\n",
    "kmf_high_plat_042_iptw = KaplanMeierFitter()\n",
    "\n",
    "kmf_high_pembro_042_iptw.fit(\n",
    "    key_042_iptw_high.query('pembro == 1').timerisk_treatment/30,\n",
    "    key_042_iptw_high.query('pembro == 1').death_status,\n",
    "    weights = key_042_iptw_high.query('pembro == 1')['weight'])\n",
    "\n",
    "kmf_high_plat_042_iptw.fit(\n",
    "    key_042_iptw_high.query('pembro == 0').timerisk_treatment/30,\n",
    "    key_042_iptw_high.query('pembro == 0').death_status,\n",
    "    weights = key_042_iptw_high.query('pembro == 0')['weight'])\n",
    "\n",
    "# All KM curves \n",
    "kmf_all_pembro_042_iptw = KaplanMeierFitter()\n",
    "kmf_all_plat_042_iptw = KaplanMeierFitter()\n",
    "\n",
    "kmf_all_pembro_042_iptw.fit(\n",
    "    key_042_iptw_all.query('pembro == 1').timerisk_treatment/30,\n",
    "    key_042_iptw_all.query('pembro == 1').death_status,\n",
    "    weights = key_042_iptw_all.query('pembro == 1')['weight'])\n",
    "\n",
    "kmf_all_plat_042_iptw.fit(\n",
    "    key_042_iptw_all.query('pembro == 0').timerisk_treatment/30,\n",
    "    key_042_iptw_all.query('pembro == 0').death_status,\n",
    "    weights = key_042_iptw_all.query('pembro == 0')['weight'])"
   ]
  },
  {
   "cell_type": "code",
   "execution_count": 172,
   "id": "39ead52b",
   "metadata": {},
   "outputs": [
    {
     "data": {
      "image/png": "[encoded data removed]",
      "text/plain": [
       "<Figure size 1800x600 with 5 Axes>"
      ]
     },
     "metadata": {},
     "output_type": "display_data"
    }
   ],
   "source": [
    "fig = plt.figure(figsize=(18, 6))\n",
    "\n",
    "# Plot survival curves for low risk group \n",
    "plt.subplot(1, 4, 1)\n",
    "\n",
    "plt.step(kmf_low_pembro_042_iptw.timeline, kmf_low_pembro_042_iptw.survival_function_.values*100, color = 'red', alpha = 0.5)\n",
    "\n",
    "plt.step(kmf_low_plat_042_iptw.timeline, kmf_low_plat_042_iptw.survival_function_.values*100, color = 'black', alpha = 0.5)\n",
    "\n",
    "plt.xticks(np.arange(0, 43, 6))\n",
    "plt.xlim(0, 43)\n",
    "plt.ylim(0, 100)\n",
    "\n",
    "plt.title('Low-risk', weight = 'bold')\n",
    "plt.ylabel('Overall survival (%)', size = 12, weight = 'bold')\n",
    "\n",
    "plt.gca().spines['top'].set_visible(False)\n",
    "plt.gca().spines['right'].set_visible(False)\n",
    "\n",
    "# Plot survival curves for med risk group. \n",
    "plt.subplot(1, 4, 2)\n",
    "\n",
    "plt.step(kmf_med_pembro_042_iptw.timeline, kmf_med_pembro_042_iptw.survival_function_.values*100, color = 'red', alpha = 0.5)\n",
    "\n",
    "plt.step(kmf_med_plat_042_iptw.timeline, kmf_med_plat_042_iptw.survival_function_.values*100, color = 'black', alpha = 0.5)\n",
    "\n",
    "plt.xticks(np.arange(0, 43, 6))\n",
    "plt.xlim(0, 43)\n",
    "plt.ylim(0, 100)\n",
    "\n",
    "plt.title('Med-risk', weight = 'bold')\n",
    "\n",
    "plt.gca().spines['top'].set_visible(False)\n",
    "plt.gca().spines['right'].set_visible(False)\n",
    "\n",
    "# Plot survival curves by treatment for high risk group. \n",
    "plt.subplot(1, 4, 3)\n",
    "\n",
    "plt.step(kmf_high_pembro_042_iptw.timeline, kmf_high_pembro_042_iptw.survival_function_.values*100, color = 'red', alpha = 0.5)\n",
    "\n",
    "plt.step(kmf_high_plat_042_iptw.timeline, kmf_high_plat_042_iptw.survival_function_.values*100, color = 'black', alpha = 0.5)\n",
    "\n",
    "plt.xticks(np.arange(0, 43, 6))\n",
    "plt.xlim(0, 43)\n",
    "plt.ylim(0, 100)\n",
    "\n",
    "plt.title('High-risk', weight = 'bold')\n",
    "\n",
    "plt.gca().spines['top'].set_visible(False)\n",
    "plt.gca().spines['right'].set_visible(False)\n",
    "\n",
    "# Plot survival curves by treatment for all risk group. \n",
    "plt.subplot(1, 4, 4)\n",
    "\n",
    "plt.step(kmf_all_pembro_042_iptw.timeline, kmf_all_pembro_042_iptw.survival_function_.values*100, color = 'red', alpha = 0.5, label = 'Pembrolizumab')\n",
    "\n",
    "plt.step(kmf_all_plat_042_iptw.timeline, kmf_all_plat_042_iptw.survival_function_.values*100, color = 'black', alpha = 0.5, label = 'Chemotherapy')\n",
    "\n",
    "plt.xticks(np.arange(0, 43, 6))\n",
    "plt.xlim(0, 43)\n",
    "plt.ylim(0, 100)\n",
    "\n",
    "plt.title('Full cohort', weight = 'bold')\n",
    "\n",
    "plt.gca().spines['top'].set_visible(False)\n",
    "plt.gca().spines['right'].set_visible(False)\n",
    "\n",
    "plt.legend(loc = 'center right', prop = {'size': 9})\n",
    "\n",
    "fig.add_subplot(1, 1, 1, frameon = False)\n",
    "plt.tick_params(labelcolor = 'none', which = 'both', top = False, bottom = False, left = False, right = False)\n",
    "plt.xlabel('Months after treatment', labelpad = 15, size = 12, weight = 'bold')\n",
    "plt.title(r'KEYNOTE-042: Overall survival for pembrolizumab vs. chemotherapy for PDL1$\\geq$1%', pad = 40, size = 15, weight = 'bold')\n",
    "\n",
    "plt.show()"
   ]
  },
  {
   "cell_type": "markdown",
   "id": "ebe4fa09",
   "metadata": {},
   "source": [
    "### KEYNOTE-024: First-line pembrolizumab vs. platinum-based chemotherapy in those with high PDL1 \n",
    "\n",
    "**INCLUSION CRITERIA**\n",
    "* Untreated stage IV NSCLC\n",
    "* Received first line pemobrolizumab or platinum-based chemotherapy \n",
    "* PDL1 >= 50% and status known within (-inf, +30] days of start of first-line treatment \n",
    "* EGFR and ALK negatve\n",
    "* No autoimmune diseases in the year preceding metastatic diagnosis \n",
    "* No history of ILD, HIV, Hep C, Hep B, severe psychiatric history, or drug use disorder in the year preceding metastatic diagnosis \n",
    "* No CNS metastasis at start of treatment \n",
    "* ECOG is not 2, 3, or 4 at start of treatment \n",
    "* Adeuquate organ function at start of treatment "
   ]
  },
  {
   "cell_type": "markdown",
   "id": "bff27151",
   "metadata": {},
   "source": [
    "#### Pembrolizumab"
   ]
  },
  {
   "cell_type": "code",
   "execution_count": 173,
   "id": "66ef4678",
   "metadata": {},
   "outputs": [
    {
     "data": {
      "text/plain": [
       "68483"
      ]
     },
     "execution_count": 173,
     "metadata": {},
     "output_type": "execute_result"
    }
   ],
   "source": [
    "df_full = pd.read_csv('df_risk_crude.csv', index_col = 'PatientID', dtype = {'death_status': bool})\n",
    "df_full.index.nunique()"
   ]
  },
  {
   "cell_type": "code",
   "execution_count": 174,
   "id": "be11850e",
   "metadata": {},
   "outputs": [],
   "source": [
    "line_therapy = pd.read_csv('LineOfTherapy.csv')"
   ]
  },
  {
   "cell_type": "code",
   "execution_count": 175,
   "id": "4295d1ad",
   "metadata": {},
   "outputs": [],
   "source": [
    "key024_pembro = (\n",
    "    line_therapy[line_therapy['PatientID'].isin(df_full.index)]\n",
    "    .query('LineNumber == 1')\n",
    "    .query('IsMaintenanceTherapy == False')\n",
    "    .query('LineName == \"Pembrolizumab\"')\n",
    "    [['PatientID', 'StartDate']]\n",
    ")"
   ]
  },
  {
   "cell_type": "code",
   "execution_count": 176,
   "id": "aa41fed0",
   "metadata": {},
   "outputs": [],
   "source": [
    "key024_pembro.loc[:, 'pembro'] = 1"
   ]
  },
  {
   "cell_type": "code",
   "execution_count": 177,
   "id": "c87d1c3b",
   "metadata": {},
   "outputs": [
    {
     "data": {
      "text/plain": [
       "(3648, 3648)"
      ]
     },
     "execution_count": 177,
     "metadata": {},
     "output_type": "execute_result"
    }
   ],
   "source": [
    "row_ID(key024_pembro)"
   ]
  },
  {
   "cell_type": "code",
   "execution_count": 178,
   "id": "0588da20",
   "metadata": {},
   "outputs": [],
   "source": [
    "# Dataframe of all therapies received for those receiving first line pembrolizumab only. \n",
    "line_therapy_pembro_024 = (\n",
    "    line_therapy[line_therapy['PatientID'].isin(key024_pembro.PatientID)])"
   ]
  },
  {
   "cell_type": "code",
   "execution_count": 179,
   "id": "5cb4e61e",
   "metadata": {},
   "outputs": [],
   "source": [
    "targeted = [\n",
    "    'Afatinib',\n",
    "    'Alectinib',\n",
    "    'Brigatinib',\n",
    "    'Cabozantinib',\n",
    "    'Capmatinib',\n",
    "    'Ceritinib',\n",
    "    'Crizotinib',\n",
    "    'Dabrafenib',\n",
    "    'Dacomitinib',\n",
    "    'Entrectinib',\n",
    "    'Erlotinib',\n",
    "    'Gefitinib',\n",
    "    'Lorlatinib',\n",
    "    'Osimertinib',\n",
    "    'Pralsetinib',\n",
    "    'Selpercatinib',\n",
    "    'Sotorasib',\n",
    "    'Tepotinib',\n",
    "    'Trametinib',\n",
    "    'Vandetanib']"
   ]
  },
  {
   "cell_type": "code",
   "execution_count": 180,
   "id": "d1206c16",
   "metadata": {},
   "outputs": [],
   "source": [
    "# Patients receiving pembrolizumab therapy who later recieve targeted therapy. \n",
    "pembro_024_xcross = (\n",
    "    line_therapy_pembro_024[line_therapy_pembro_024['LineName'].str.contains('|'.join(targeted))].PatientID)"
   ]
  },
  {
   "cell_type": "code",
   "execution_count": 181,
   "id": "320ab6ca",
   "metadata": {},
   "outputs": [],
   "source": [
    "# Select patients who don't receive targeted therapy in future lines.\n",
    "key024_pembro = key024_pembro[~key024_pembro['PatientID'].isin(pembro_024_xcross)]"
   ]
  },
  {
   "cell_type": "code",
   "execution_count": 182,
   "id": "a6df15c2",
   "metadata": {},
   "outputs": [
    {
     "data": {
      "text/plain": [
       "(3582, 3582)"
      ]
     },
     "execution_count": 182,
     "metadata": {},
     "output_type": "execute_result"
    }
   ],
   "source": [
    "row_ID(key024_pembro)"
   ]
  },
  {
   "cell_type": "markdown",
   "id": "c5eeef51",
   "metadata": {},
   "source": [
    "#### Platinum-based chemotherapy "
   ]
  },
  {
   "cell_type": "code",
   "execution_count": 183,
   "id": "437c27ec",
   "metadata": {},
   "outputs": [],
   "source": [
    "line_therapy_fl = (\n",
    "    line_therapy[line_therapy['PatientID'].isin(df_full.index)]\n",
    "    .query('LineNumber == 1')\n",
    "    .query('IsMaintenanceTherapy == False')\n",
    ")"
   ]
  },
  {
   "cell_type": "code",
   "execution_count": 184,
   "id": "6909e0cd",
   "metadata": {},
   "outputs": [],
   "source": [
    "plat_chemo = [\n",
    "    'Carboplatin',\n",
    "    'Cisplatin']\n",
    "\n",
    "immuno = [\n",
    "    'Atezolizumab',\n",
    "    'Cemiplimab',\n",
    "    'Durvalumab',\n",
    "    'Ipilimumab',\n",
    "    'Nivolumab',\n",
    "    'Pembrolizumab'\n",
    "]"
   ]
  },
  {
   "cell_type": "code",
   "execution_count": 185,
   "id": "a5b34ef3",
   "metadata": {},
   "outputs": [
    {
     "data": {
      "text/plain": [
       "Carboplatin,Paclitaxel                  8524\n",
       "Carboplatin,Pemetrexed                  5417\n",
       "Bevacizumab,Carboplatin,Pemetrexed      2825\n",
       "Carboplatin,Paclitaxel Protein-Bound    1826\n",
       "Bevacizumab,Carboplatin,Paclitaxel      1591\n",
       "Carboplatin,Gemcitabine                 1224\n",
       "Cisplatin,Etoposide                      793\n",
       "Carboplatin,Docetaxel                    780\n",
       "Cisplatin,Pemetrexed                     684\n",
       "Carboplatin,Etoposide                    363\n",
       "Name: LineName, dtype: int64"
      ]
     },
     "execution_count": 185,
     "metadata": {},
     "output_type": "execute_result"
    }
   ],
   "source": [
    "line_therapy_fl[line_therapy_fl['LineName'].str.contains('|'.join(plat_chemo)) & \n",
    "                ~line_therapy_fl['LineName'].str.contains('|'.join(immuno)) &\n",
    "                ~line_therapy_fl['LineName'].str.contains('|'.join(targeted)) &\n",
    "                ~line_therapy_fl['LineName'].str.contains('Clinical Study Drug')].LineName.value_counts().head(10)"
   ]
  },
  {
   "cell_type": "code",
   "execution_count": 186,
   "id": "e8d2d27d",
   "metadata": {},
   "outputs": [],
   "source": [
    "key024_plat = (\n",
    "    line_therapy_fl[line_therapy_fl['LineName'].str.contains('|'.join(plat_chemo)) & \n",
    "                    ~line_therapy_fl['LineName'].str.contains('|'.join(immuno)) &\n",
    "                    ~line_therapy_fl['LineName'].str.contains('|'.join(targeted)) &\n",
    "                    ~line_therapy_fl['LineName'].str.contains('Clinical Study Drug')]\n",
    "    [['PatientID', 'StartDate']]\n",
    ")"
   ]
  },
  {
   "cell_type": "code",
   "execution_count": 187,
   "id": "23d38806",
   "metadata": {},
   "outputs": [],
   "source": [
    "key024_plat.loc[:, 'pembro'] = 0"
   ]
  },
  {
   "cell_type": "code",
   "execution_count": 188,
   "id": "05cae75c",
   "metadata": {},
   "outputs": [
    {
     "data": {
      "text/plain": [
       "(25861, 25861)"
      ]
     },
     "execution_count": 188,
     "metadata": {},
     "output_type": "execute_result"
    }
   ],
   "source": [
    "row_ID(key024_plat)"
   ]
  },
  {
   "cell_type": "code",
   "execution_count": 189,
   "id": "5c32af12",
   "metadata": {},
   "outputs": [],
   "source": [
    "# Dataframe of all therapies received for those receiving first line platinum regimen  \n",
    "line_therapy_plat_024 = (\n",
    "    line_therapy[line_therapy['PatientID'].isin(key024_plat.PatientID)])"
   ]
  },
  {
   "cell_type": "code",
   "execution_count": 190,
   "id": "a025ca8c",
   "metadata": {},
   "outputs": [],
   "source": [
    "# Patients receiving platinum therapy who later recieve targeted therapy. \n",
    "plat_024_xcross = (\n",
    "    line_therapy_plat_024[line_therapy_plat_024['LineName'].str.contains('|'.join(targeted))].PatientID)"
   ]
  },
  {
   "cell_type": "code",
   "execution_count": 191,
   "id": "9eb5ec3f",
   "metadata": {},
   "outputs": [],
   "source": [
    "# Select patients who don't receive targeted therapy in future lines.\n",
    "key024_plat = key024_plat[~key024_plat['PatientID'].isin(plat_024_xcross)]"
   ]
  },
  {
   "cell_type": "code",
   "execution_count": 192,
   "id": "45ebd20c",
   "metadata": {},
   "outputs": [
    {
     "data": {
      "text/plain": [
       "(23800, 23800)"
      ]
     },
     "execution_count": 192,
     "metadata": {},
     "output_type": "execute_result"
    }
   ],
   "source": [
    "row_ID(key024_plat)"
   ]
  },
  {
   "cell_type": "code",
   "execution_count": 193,
   "id": "9c238edd",
   "metadata": {},
   "outputs": [],
   "source": [
    "key_024 = pd.concat([key024_pembro, key024_plat])"
   ]
  },
  {
   "cell_type": "code",
   "execution_count": 194,
   "id": "fbf8d485",
   "metadata": {},
   "outputs": [
    {
     "data": {
      "text/plain": [
       "(27382, 27382)"
      ]
     },
     "execution_count": 194,
     "metadata": {},
     "output_type": "execute_result"
    }
   ],
   "source": [
    "row_ID(key_024)"
   ]
  },
  {
   "cell_type": "code",
   "execution_count": 195,
   "id": "46c3d8fa",
   "metadata": {},
   "outputs": [],
   "source": [
    "key_024 = pd.merge(key_024, df_full, on = 'PatientID', how = 'left')"
   ]
  },
  {
   "cell_type": "code",
   "execution_count": 196,
   "id": "c8c3c578",
   "metadata": {},
   "outputs": [
    {
     "data": {
      "text/plain": [
       "(27382, 27382)"
      ]
     },
     "execution_count": 196,
     "metadata": {},
     "output_type": "execute_result"
    }
   ],
   "source": [
    "row_ID(key_024)"
   ]
  },
  {
   "cell_type": "code",
   "execution_count": 197,
   "id": "d5face34",
   "metadata": {},
   "outputs": [],
   "source": [
    "key_024['StartDate'] = pd.to_datetime(key_024['StartDate'])"
   ]
  },
  {
   "cell_type": "markdown",
   "id": "5e5b0bbf",
   "metadata": {},
   "source": [
    "#### High PDL1"
   ]
  },
  {
   "cell_type": "code",
   "execution_count": 198,
   "id": "8948b6f3",
   "metadata": {},
   "outputs": [],
   "source": [
    "biomarkers = pd.read_csv('Enhanced_AdvNSCLCBiomarkers.csv')"
   ]
  },
  {
   "cell_type": "code",
   "execution_count": 199,
   "id": "8023cf29",
   "metadata": {},
   "outputs": [],
   "source": [
    "biomarkers = biomarkers[biomarkers['PatientID'].isin(key_024['PatientID'])]"
   ]
  },
  {
   "cell_type": "code",
   "execution_count": 200,
   "id": "4aa2581e",
   "metadata": {},
   "outputs": [],
   "source": [
    "biomarkers = pd.merge(biomarkers, key_024[['PatientID', 'StartDate']], on = 'PatientID', how = 'left')"
   ]
  },
  {
   "cell_type": "code",
   "execution_count": 201,
   "id": "0892a0ab",
   "metadata": {},
   "outputs": [
    {
     "data": {
      "text/plain": [
       "(94603, 19875)"
      ]
     },
     "execution_count": 201,
     "metadata": {},
     "output_type": "execute_result"
    }
   ],
   "source": [
    "row_ID(biomarkers)"
   ]
  },
  {
   "cell_type": "code",
   "execution_count": 202,
   "id": "65e0de4a",
   "metadata": {},
   "outputs": [],
   "source": [
    "biomarkers['StartDate'] = pd.to_datetime(biomarkers['StartDate'])"
   ]
  },
  {
   "cell_type": "code",
   "execution_count": 203,
   "id": "d5e65038",
   "metadata": {},
   "outputs": [],
   "source": [
    "biomarkers['ResultDate'] = pd.to_datetime(biomarkers['ResultDate'])"
   ]
  },
  {
   "cell_type": "code",
   "execution_count": 204,
   "id": "976fe441",
   "metadata": {},
   "outputs": [],
   "source": [
    "biomarkers['SpecimenReceivedDate'] = pd.to_datetime(biomarkers['SpecimenReceivedDate'])"
   ]
  },
  {
   "cell_type": "code",
   "execution_count": 205,
   "id": "08c1d95e",
   "metadata": {},
   "outputs": [],
   "source": [
    "biomarkers.loc[:, 'result_date'] = (\n",
    "    np.where(biomarkers['ResultDate'].isna(), biomarkers['SpecimenReceivedDate'], biomarkers['ResultDate'])\n",
    ")"
   ]
  },
  {
   "cell_type": "code",
   "execution_count": 206,
   "id": "1d81408d",
   "metadata": {},
   "outputs": [],
   "source": [
    "biomarkers.loc[:, 'date_diff'] = (biomarkers['result_date'] - biomarkers['StartDate']).dt.days"
   ]
  },
  {
   "cell_type": "code",
   "execution_count": 207,
   "id": "8074b7e9",
   "metadata": {},
   "outputs": [],
   "source": [
    "lst = [\"50% - 59%\", \"60% - 69%\", \"70% - 79%\", \"80% - 89%\", \"90% - 99%\", \"100%\"]\n",
    "\n",
    "pdl1_ids = (\n",
    "    biomarkers\n",
    "    .query('BiomarkerName == \"PDL1\"')\n",
    "    .query('date_diff <= 30')\n",
    "    .query('PercentStaining == @lst')\n",
    "    .PatientID\n",
    "    .unique()\n",
    ")"
   ]
  },
  {
   "cell_type": "code",
   "execution_count": 208,
   "id": "f4a10448",
   "metadata": {},
   "outputs": [],
   "source": [
    "key_024 = key_024[key_024.PatientID.isin(pdl1_ids)]"
   ]
  },
  {
   "cell_type": "code",
   "execution_count": 209,
   "id": "747516f1",
   "metadata": {},
   "outputs": [
    {
     "data": {
      "text/plain": [
       "(3519, 3519)"
      ]
     },
     "execution_count": 209,
     "metadata": {},
     "output_type": "execute_result"
    }
   ],
   "source": [
    "row_ID(key_024)"
   ]
  },
  {
   "cell_type": "markdown",
   "id": "8611bd25",
   "metadata": {},
   "source": [
    "#### Time from treatment to death/progression or censor "
   ]
  },
  {
   "cell_type": "code",
   "execution_count": 210,
   "id": "185c581a",
   "metadata": {},
   "outputs": [],
   "source": [
    "mortality_tr = pd.read_csv('mortality_cleaned_tr.csv')"
   ]
  },
  {
   "cell_type": "code",
   "execution_count": 211,
   "id": "3a4fffce",
   "metadata": {},
   "outputs": [],
   "source": [
    "mortality_te = pd.read_csv('mortality_cleaned_te.csv')"
   ]
  },
  {
   "cell_type": "code",
   "execution_count": 212,
   "id": "03f91455",
   "metadata": {},
   "outputs": [],
   "source": [
    "mortality_tr = mortality_tr[['PatientID', 'death_date', 'last_activity']]"
   ]
  },
  {
   "cell_type": "code",
   "execution_count": 213,
   "id": "88cc7ef5",
   "metadata": {},
   "outputs": [],
   "source": [
    "mortality_te = mortality_te[['PatientID', 'death_date', 'last_activity']]"
   ]
  },
  {
   "cell_type": "code",
   "execution_count": 214,
   "id": "7b409dbc",
   "metadata": {},
   "outputs": [
    {
     "data": {
      "text/plain": [
       "(68483, 68483)"
      ]
     },
     "execution_count": 214,
     "metadata": {},
     "output_type": "execute_result"
    }
   ],
   "source": [
    "mortality = pd.concat([mortality_tr, mortality_te], ignore_index = True)\n",
    "row_ID(mortality)"
   ]
  },
  {
   "cell_type": "code",
   "execution_count": 215,
   "id": "a71ea1d3",
   "metadata": {},
   "outputs": [],
   "source": [
    "mortality.loc[:, 'last_activity'] = pd.to_datetime(mortality['last_activity'])"
   ]
  },
  {
   "cell_type": "code",
   "execution_count": 216,
   "id": "4c7fb0a1",
   "metadata": {},
   "outputs": [],
   "source": [
    "mortality.loc[:, 'death_date'] = pd.to_datetime(mortality['death_date'])"
   ]
  },
  {
   "cell_type": "code",
   "execution_count": 217,
   "id": "cd331c0a",
   "metadata": {},
   "outputs": [
    {
     "data": {
      "text/plain": [
       "(68483, 68483)"
      ]
     },
     "execution_count": 217,
     "metadata": {},
     "output_type": "execute_result"
    }
   ],
   "source": [
    "row_ID(mortality)"
   ]
  },
  {
   "cell_type": "code",
   "execution_count": 218,
   "id": "2915d430",
   "metadata": {},
   "outputs": [],
   "source": [
    "key_024 = pd.merge(key_024, mortality, on = 'PatientID', how = 'left')"
   ]
  },
  {
   "cell_type": "code",
   "execution_count": 219,
   "id": "9123b906",
   "metadata": {},
   "outputs": [
    {
     "data": {
      "text/plain": [
       "(3519, 3519)"
      ]
     },
     "execution_count": 219,
     "metadata": {},
     "output_type": "execute_result"
    }
   ],
   "source": [
    "row_ID(key_024)"
   ]
  },
  {
   "cell_type": "code",
   "execution_count": 220,
   "id": "5e7ce98b",
   "metadata": {},
   "outputs": [],
   "source": [
    "progression = pd.read_csv('Enhanced_AdvNSCLCProgression.csv')"
   ]
  },
  {
   "cell_type": "code",
   "execution_count": 221,
   "id": "3f10011a",
   "metadata": {},
   "outputs": [],
   "source": [
    "progression = progression[progression.PatientID.isin(key_024.PatientID)][['PatientID', 'ProgressionDate']]"
   ]
  },
  {
   "cell_type": "code",
   "execution_count": 222,
   "id": "44b3ca60",
   "metadata": {},
   "outputs": [],
   "source": [
    "progression['ProgressionDate'] = pd.to_datetime(progression['ProgressionDate'])"
   ]
  },
  {
   "cell_type": "code",
   "execution_count": 223,
   "id": "75825de5",
   "metadata": {},
   "outputs": [],
   "source": [
    "progression = (\n",
    "    progression\n",
    "    .sort_values(['PatientID', 'ProgressionDate'], ascending = [True, True])\n",
    "    .drop_duplicates(subset = 'PatientID', keep = 'first')\n",
    ")"
   ]
  },
  {
   "cell_type": "code",
   "execution_count": 224,
   "id": "e1d2d9ce",
   "metadata": {},
   "outputs": [
    {
     "data": {
      "text/plain": [
       "(3517, 3517)"
      ]
     },
     "execution_count": 224,
     "metadata": {},
     "output_type": "execute_result"
    }
   ],
   "source": [
    "row_ID(progression)"
   ]
  },
  {
   "cell_type": "code",
   "execution_count": 225,
   "id": "ee043ea8",
   "metadata": {},
   "outputs": [],
   "source": [
    "key_024 = pd.merge(key_024, progression, on = 'PatientID', how = 'left')"
   ]
  },
  {
   "cell_type": "code",
   "execution_count": 226,
   "id": "a992ee62",
   "metadata": {},
   "outputs": [
    {
     "data": {
      "text/plain": [
       "(3519, 3519)"
      ]
     },
     "execution_count": 226,
     "metadata": {},
     "output_type": "execute_result"
    }
   ],
   "source": [
    "row_ID(key_024)"
   ]
  },
  {
   "cell_type": "code",
   "execution_count": 227,
   "id": "1b8d1a15",
   "metadata": {},
   "outputs": [
    {
     "data": {
      "text/plain": [
       "0.51974992895709"
      ]
     },
     "execution_count": 227,
     "metadata": {},
     "output_type": "execute_result"
    }
   ],
   "source": [
    "# Percent without progression date in Flaura trial\n",
    "len(key_024.query('ProgressionDate.isna()', engine = 'python'))/len(key_024)"
   ]
  },
  {
   "cell_type": "code",
   "execution_count": 228,
   "id": "6644776d",
   "metadata": {},
   "outputs": [],
   "source": [
    "conditions = [\n",
    "    (key_024.ProgressionDate.notna()),\n",
    "    ((key_024.ProgressionDate.isna()) & (key_024['death_status'] == 1)),\n",
    "    ((key_024.ProgressionDate.isna()) & (key_024['death_status'] == 0))]\n",
    "\n",
    "choices = [\n",
    "    (key_024['ProgressionDate'] - key_024['StartDate']).dt.days,\n",
    "    (key_024['death_date'] - key_024['StartDate']).dt.days,\n",
    "    (key_024['last_activity'] - key_024['StartDate']).dt.days]\n",
    "\n",
    "key_024.loc[:, 'time_prog_treatment'] = np.select(conditions, choices)"
   ]
  },
  {
   "cell_type": "code",
   "execution_count": 229,
   "id": "d29d7a0e",
   "metadata": {},
   "outputs": [],
   "source": [
    "key_024 = key_024.query('time_prog_treatment >= 0')"
   ]
  },
  {
   "cell_type": "code",
   "execution_count": 230,
   "id": "84672b32",
   "metadata": {},
   "outputs": [
    {
     "data": {
      "text/plain": [
       "(3209, 3209)"
      ]
     },
     "execution_count": 230,
     "metadata": {},
     "output_type": "execute_result"
    }
   ],
   "source": [
    "row_ID(key_024)"
   ]
  },
  {
   "cell_type": "code",
   "execution_count": 231,
   "id": "20e1df8f",
   "metadata": {},
   "outputs": [],
   "source": [
    "conditions = [\n",
    "    (key_024.ProgressionDate.notna()),\n",
    "    ((key_024.ProgressionDate.isna()) & (key_024['death_status'] == 1)),\n",
    "    ((key_024.ProgressionDate.isna()) & (key_024['death_status'] == 0))]\n",
    "\n",
    "choices = [1, 1, 0]\n",
    "\n",
    "key_024.loc[:, 'pfs_status'] = np.select(conditions, choices)"
   ]
  },
  {
   "cell_type": "markdown",
   "id": "8eb71e5a",
   "metadata": {},
   "source": [
    "#### Patient counts"
   ]
  },
  {
   "cell_type": "code",
   "execution_count": 232,
   "id": "01b9fd81",
   "metadata": {},
   "outputs": [],
   "source": [
    "key_024 = (\n",
    "    key_024\n",
    "    .query('stage == \"IV\"')\n",
    "    .query('EGFR != \"positive\"')\n",
    "    .query('ALK != \"positive\"')\n",
    ")"
   ]
  },
  {
   "cell_type": "code",
   "execution_count": 233,
   "id": "bbc84430",
   "metadata": {},
   "outputs": [
    {
     "data": {
      "text/plain": [
       "(2120, 2120)"
      ]
     },
     "execution_count": 233,
     "metadata": {},
     "output_type": "execute_result"
    }
   ],
   "source": [
    "row_ID(key_024)"
   ]
  },
  {
   "cell_type": "code",
   "execution_count": 234,
   "id": "5c8e207e",
   "metadata": {},
   "outputs": [],
   "source": [
    "# Exclude those with autoimmune conditions. \n",
    "key_024 = key_024[~key_024['PatientID'].isin(auto_IDs)]"
   ]
  },
  {
   "cell_type": "code",
   "execution_count": 235,
   "id": "bbb0a5f5",
   "metadata": {},
   "outputs": [],
   "source": [
    "# Exclude those with other relevant comorbidities\n",
    "key_024 = key_024[~key_024['PatientID'].isin(other_comorb_IDs)]"
   ]
  },
  {
   "cell_type": "code",
   "execution_count": 236,
   "id": "a1d7775e",
   "metadata": {},
   "outputs": [],
   "source": [
    "# Exlcude those with CNS metastasis \n",
    "key_024 = key_024[~key_024['PatientID'].isin(cns_fl_IDs)]"
   ]
  },
  {
   "cell_type": "code",
   "execution_count": 237,
   "id": "aa9053a0",
   "metadata": {},
   "outputs": [],
   "source": [
    "# Include those with ECOG 2, 3, or 4 \n",
    "key_024 = key_024[~key_024['PatientID'].isin(ecog_fl_IDs)]"
   ]
  },
  {
   "cell_type": "code",
   "execution_count": 238,
   "id": "9d0b4007",
   "metadata": {},
   "outputs": [],
   "source": [
    "# Exclude those with abnormal organ function\n",
    "key_024 = key_024[~key_024['PatientID'].isin(ab_organ_IDs)]"
   ]
  },
  {
   "cell_type": "code",
   "execution_count": 239,
   "id": "f1709292",
   "metadata": {},
   "outputs": [
    {
     "data": {
      "text/plain": [
       "(1330, 1330)"
      ]
     },
     "execution_count": 239,
     "metadata": {},
     "output_type": "execute_result"
    }
   ],
   "source": [
    "row_ID(key_024)"
   ]
  },
  {
   "cell_type": "code",
   "execution_count": 240,
   "id": "139544d0",
   "metadata": {},
   "outputs": [],
   "source": [
    "low_cutoff_024 = cutoff.loc['keynote_024'].low"
   ]
  },
  {
   "cell_type": "code",
   "execution_count": 241,
   "id": "c66b7888",
   "metadata": {},
   "outputs": [],
   "source": [
    "high_cutoff_024 = cutoff.loc['keynote_024'].high"
   ]
  },
  {
   "cell_type": "code",
   "execution_count": 242,
   "id": "cef4866f",
   "metadata": {},
   "outputs": [
    {
     "name": "stdout",
     "output_type": "stream",
     "text": [
      "Pembro total: 1016\n",
      "High risk: 230\n",
      "Med risk: 372\n",
      "Low risk: 414\n"
     ]
    }
   ],
   "source": [
    "print('Pembro total:',  key_024.query('pembro == 1').shape[0])\n",
    "print('High risk:', key_024.query('pembro == 1').query('risk_score >= @high_cutoff_024').shape[0])\n",
    "print('Med risk:', key_024.query('pembro == 1').query('risk_score < @high_cutoff_024 and risk_score > @low_cutoff_024').shape[0])\n",
    "print('Low risk:', key_024.query('pembro == 1').query('risk_score <= @low_cutoff_024').shape[0])"
   ]
  },
  {
   "cell_type": "code",
   "execution_count": 243,
   "id": "2276bb6b",
   "metadata": {},
   "outputs": [
    {
     "name": "stdout",
     "output_type": "stream",
     "text": [
      "Platinum total: 314\n",
      "High risk: 89\n",
      "Med risk: 106\n",
      "Low risk: 119\n"
     ]
    }
   ],
   "source": [
    "print('Platinum total:',  key_024.query('pembro == 0').shape[0])\n",
    "print('High risk:', key_024.query('pembro == 0').query('risk_score >= @high_cutoff_024').shape[0])\n",
    "print('Med risk:', key_024.query('pembro == 0').query('risk_score < @high_cutoff_024 and risk_score > @low_cutoff_024').shape[0])\n",
    "print('Low risk:', key_024.query('pembro == 0').query('risk_score <= @low_cutoff_024').shape[0])"
   ]
  },
  {
   "cell_type": "markdown",
   "id": "e9306975",
   "metadata": {},
   "source": [
    "#### PFS with covariate balancing "
   ]
  },
  {
   "cell_type": "code",
   "execution_count": 244,
   "id": "c4b8eb3f",
   "metadata": {},
   "outputs": [],
   "source": [
    "key_024 = key_024.set_index('PatientID')"
   ]
  },
  {
   "cell_type": "code",
   "execution_count": 245,
   "id": "55df9656",
   "metadata": {},
   "outputs": [],
   "source": [
    "key_024_iptw = key_024.filter(items = ['pfs_status',\n",
    "                                       'time_prog_treatment',\n",
    "                                       'pembro',\n",
    "                                       'age',\n",
    "                                       'gender',\n",
    "                                       'race',\n",
    "                                       'PracticeType',\n",
    "                                       'Histology',\n",
    "                                       'adv_year',\n",
    "                                       'commercial',\n",
    "                                       'medicare',\n",
    "                                       'medicaid',\n",
    "                                       'ecog_diagnosis',\n",
    "                                       'albumin_diag',\n",
    "                                       'weight_pct_change',\n",
    "                                       'risk_score'])"
   ]
  },
  {
   "cell_type": "code",
   "execution_count": 246,
   "id": "5b3b1ee6",
   "metadata": {},
   "outputs": [],
   "source": [
    "key_024_iptw['met_cat'] = pd.cut(key_024_iptw['adv_year'],\n",
    "                                 bins = [2010, 2016, float('inf')],\n",
    "                                 labels = ['11-16', '17-21'])"
   ]
  },
  {
   "cell_type": "code",
   "execution_count": 247,
   "id": "7a9c8293",
   "metadata": {},
   "outputs": [],
   "source": [
    "conditions = [\n",
    "    ((key_024_iptw['ecog_diagnosis'] == \"1.0\") | (key_024_iptw['ecog_diagnosis'] == \"0.0\")),  \n",
    "    ((key_024_iptw['ecog_diagnosis'] == \"2.0\") | (key_024_iptw['ecog_diagnosis'] == \"3.0\"))\n",
    "]\n",
    "\n",
    "choices = ['lt_2', 'gte_2']\n",
    "\n",
    "key_024_iptw['ecog_2'] = np.select(conditions, choices, default = 'unknown')"
   ]
  },
  {
   "cell_type": "code",
   "execution_count": 248,
   "id": "4aa7ac15",
   "metadata": {},
   "outputs": [
    {
     "data": {
      "text/plain": [
       "pfs_status                int64\n",
       "time_prog_treatment     float64\n",
       "pembro                    int64\n",
       "age                       int64\n",
       "gender                   object\n",
       "race                     object\n",
       "PracticeType             object\n",
       "Histology                object\n",
       "adv_year                  int64\n",
       "commercial              float64\n",
       "medicare                float64\n",
       "medicaid                float64\n",
       "ecog_diagnosis           object\n",
       "albumin_diag            float64\n",
       "weight_pct_change       float64\n",
       "risk_score              float64\n",
       "met_cat                category\n",
       "ecog_2                   object\n",
       "dtype: object"
      ]
     },
     "execution_count": 248,
     "metadata": {},
     "output_type": "execute_result"
    }
   ],
   "source": [
    "key_024_iptw.dtypes"
   ]
  },
  {
   "cell_type": "code",
   "execution_count": 249,
   "id": "583b6f2f",
   "metadata": {},
   "outputs": [],
   "source": [
    "to_be_categorical = list(key_024_iptw.select_dtypes(include = ['object']).columns)"
   ]
  },
  {
   "cell_type": "code",
   "execution_count": 250,
   "id": "d2d2d99c",
   "metadata": {},
   "outputs": [
    {
     "data": {
      "text/plain": [
       "['gender', 'race', 'PracticeType', 'Histology', 'ecog_diagnosis', 'ecog_2']"
      ]
     },
     "execution_count": 250,
     "metadata": {},
     "output_type": "execute_result"
    }
   ],
   "source": [
    "to_be_categorical"
   ]
  },
  {
   "cell_type": "code",
   "execution_count": 251,
   "id": "4854eca2",
   "metadata": {},
   "outputs": [],
   "source": [
    "to_be_categorical.append('met_cat')"
   ]
  },
  {
   "cell_type": "code",
   "execution_count": 252,
   "id": "835d4162",
   "metadata": {},
   "outputs": [],
   "source": [
    "to_be_categorical.remove('ecog_diagnosis')"
   ]
  },
  {
   "cell_type": "code",
   "execution_count": 253,
   "id": "2fbe0ebe",
   "metadata": {},
   "outputs": [],
   "source": [
    "# Convert variables in list to categorical.\n",
    "for x in list(to_be_categorical):\n",
    "    key_024_iptw[x] = key_024_iptw[x].astype('category')"
   ]
  },
  {
   "cell_type": "code",
   "execution_count": 254,
   "id": "e49ba804",
   "metadata": {},
   "outputs": [],
   "source": [
    "# List of numeric variables, excluding binary variables. \n",
    "numerical_features = ['age', 'albumin_diag', 'weight_pct_change', 'risk_score']\n",
    "\n",
    "# Transformer will first calculate column median and impute, and then apply a standard scaler. \n",
    "numerical_transformer = Pipeline(steps = [\n",
    "    ('imputer', SimpleImputer(strategy = 'median')),\n",
    "    ('std_scaler', StandardScaler())])"
   ]
  },
  {
   "cell_type": "code",
   "execution_count": 255,
   "id": "d04f0083",
   "metadata": {},
   "outputs": [],
   "source": [
    "# List of categorical features.\n",
    "categorical_features = list(key_024_iptw.select_dtypes(include = ['category']).columns)\n",
    "\n",
    "# One-hot-encode categorical features.\n",
    "categorical_transformer = OneHotEncoder(handle_unknown = 'ignore')"
   ]
  },
  {
   "cell_type": "code",
   "execution_count": 256,
   "id": "063793a4",
   "metadata": {},
   "outputs": [],
   "source": [
    "preprocessor = ColumnTransformer(\n",
    "    transformers = [\n",
    "        ('num', numerical_transformer, numerical_features),\n",
    "        ('cat', categorical_transformer, categorical_features)],\n",
    "    remainder = 'passthrough')"
   ]
  },
  {
   "cell_type": "code",
   "execution_count": 257,
   "id": "1e9ed277",
   "metadata": {},
   "outputs": [],
   "source": [
    "key_024_iptw_low = (\n",
    "    key_024_iptw\n",
    "    .query('risk_score <= @low_cutoff_024'))\n",
    "\n",
    "key_024_iptw_med = (\n",
    "    key_024_iptw\n",
    "    .query('risk_score < @high_cutoff_024 and risk_score > @low_cutoff_024'))\n",
    "\n",
    "key_024_iptw_high = (\n",
    "    key_024_iptw\n",
    "    .query('risk_score >= @high_cutoff_024'))\n",
    "\n",
    "key_024_iptw_all = key_024_iptw"
   ]
  },
  {
   "cell_type": "code",
   "execution_count": 258,
   "id": "83e55cff",
   "metadata": {},
   "outputs": [],
   "source": [
    "key_024_low_x = preprocessor.fit_transform(key_024_iptw_low.filter(items = ['age',\n",
    "                                                                            'gender',\n",
    "                                                                            'race',\n",
    "                                                                            'PracticeType',\n",
    "                                                                            'Histology',\n",
    "                                                                            'met_cat',\n",
    "                                                                            'commercial',\n",
    "                                                                            'medicare',\n",
    "                                                                            'medicaid',\n",
    "                                                                            'ecog_2',\n",
    "                                                                            'albumin_diag',\n",
    "                                                                            'weight_pct_change',\n",
    "                                                                            'risk_score']))\n",
    "\n",
    "key_024_med_x = preprocessor.fit_transform(key_024_iptw_med.filter(items = ['age',\n",
    "                                                                            'gender',\n",
    "                                                                            'race',\n",
    "                                                                            'PracticeType',\n",
    "                                                                            'Histology',\n",
    "                                                                            'met_cat',\n",
    "                                                                            'commercial',\n",
    "                                                                            'medicare',\n",
    "                                                                            'medicaid',\n",
    "                                                                            'ecog_2',\n",
    "                                                                            'albumin_diag',\n",
    "                                                                            'weight_pct_change',\n",
    "                                                                            'risk_score']))\n",
    "\n",
    "key_024_high_x = preprocessor.fit_transform(key_024_iptw_high.filter(items = ['age',\n",
    "                                                                              'gender',\n",
    "                                                                              'race',\n",
    "                                                                              'PracticeType',\n",
    "                                                                              'Histology',\n",
    "                                                                              'met_cat',\n",
    "                                                                              'commercial',\n",
    "                                                                              'medicare',\n",
    "                                                                              'medicaid',\n",
    "                                                                              'ecog_2',\n",
    "                                                                              'albumin_diag',\n",
    "                                                                              'weight_pct_change',\n",
    "                                                                              'risk_score']))\n",
    "\n",
    "key_024_all_x = preprocessor.fit_transform(key_024_iptw_all.filter(items = ['age',\n",
    "                                                                            'gender',\n",
    "                                                                            'race',\n",
    "                                                                            'PracticeType',\n",
    "                                                                            'Histology',\n",
    "                                                                            'met_cat',\n",
    "                                                                            'commercial',\n",
    "                                                                            'medicare',\n",
    "                                                                            'medicaid',\n",
    "                                                                            'ecog_2',\n",
    "                                                                            'albumin_diag',\n",
    "                                                                            'weight_pct_change',\n",
    "                                                                            'risk_score']))"
   ]
  },
  {
   "cell_type": "code",
   "execution_count": 259,
   "id": "fd30eef2",
   "metadata": {},
   "outputs": [
    {
     "data": {
      "text/plain": [
       "LogisticRegression(max_iter=1000)"
      ]
     },
     "execution_count": 259,
     "metadata": {},
     "output_type": "execute_result"
    }
   ],
   "source": [
    "lr_024_low = LogisticRegression(max_iter = 1000)\n",
    "lr_024_low.fit(key_024_low_x, key_024_iptw_low['pembro'])"
   ]
  },
  {
   "cell_type": "code",
   "execution_count": 260,
   "id": "9ac559db",
   "metadata": {},
   "outputs": [
    {
     "data": {
      "text/plain": [
       "LogisticRegression(max_iter=1000)"
      ]
     },
     "execution_count": 260,
     "metadata": {},
     "output_type": "execute_result"
    }
   ],
   "source": [
    "lr_024_med = LogisticRegression(max_iter = 1000)\n",
    "lr_024_med.fit(key_024_med_x, key_024_iptw_med['pembro'])"
   ]
  },
  {
   "cell_type": "code",
   "execution_count": 261,
   "id": "97cbce56",
   "metadata": {},
   "outputs": [
    {
     "data": {
      "text/plain": [
       "LogisticRegression(max_iter=1000)"
      ]
     },
     "execution_count": 261,
     "metadata": {},
     "output_type": "execute_result"
    }
   ],
   "source": [
    "lr_024_high = LogisticRegression(max_iter = 1000)\n",
    "lr_024_high.fit(key_024_high_x, key_024_iptw_high['pembro'])"
   ]
  },
  {
   "cell_type": "code",
   "execution_count": 262,
   "id": "a7678c7b",
   "metadata": {},
   "outputs": [
    {
     "data": {
      "text/plain": [
       "LogisticRegression(max_iter=1000)"
      ]
     },
     "execution_count": 262,
     "metadata": {},
     "output_type": "execute_result"
    }
   ],
   "source": [
    "lr_024_all = LogisticRegression(max_iter = 1000)\n",
    "lr_024_all.fit(key_024_all_x, key_024_iptw_all['pembro'])"
   ]
  },
  {
   "cell_type": "code",
   "execution_count": 263,
   "id": "dd487c2c",
   "metadata": {},
   "outputs": [],
   "source": [
    "pred_low = lr_024_low.predict_proba(key_024_low_x)\n",
    "pred_med = lr_024_med.predict_proba(key_024_med_x)\n",
    "pred_high = lr_024_high.predict_proba(key_024_high_x)\n",
    "pred_all = lr_024_all.predict_proba(key_024_all_x)"
   ]
  },
  {
   "cell_type": "code",
   "execution_count": 264,
   "id": "8d025397",
   "metadata": {},
   "outputs": [
    {
     "name": "stderr",
     "output_type": "stream",
     "text": [
      "/Users/xavierorcutt/Dropbox/ist_project/myenv/lib/python3.7/site-packages/ipykernel_launcher.py:1: SettingWithCopyWarning: \n",
      "A value is trying to be set on a copy of a slice from a DataFrame.\n",
      "Try using .loc[row_indexer,col_indexer] = value instead\n",
      "\n",
      "See the caveats in the documentation: https://pandas.pydata.org/pandas-docs/stable/user_guide/indexing.html#returning-a-view-versus-a-copy\n",
      "  \"\"\"Entry point for launching an IPython kernel.\n",
      "/Users/xavierorcutt/Dropbox/ist_project/myenv/lib/python3.7/site-packages/ipykernel_launcher.py:2: SettingWithCopyWarning: \n",
      "A value is trying to be set on a copy of a slice from a DataFrame.\n",
      "Try using .loc[row_indexer,col_indexer] = value instead\n",
      "\n",
      "See the caveats in the documentation: https://pandas.pydata.org/pandas-docs/stable/user_guide/indexing.html#returning-a-view-versus-a-copy\n",
      "  \n",
      "/Users/xavierorcutt/Dropbox/ist_project/myenv/lib/python3.7/site-packages/ipykernel_launcher.py:3: SettingWithCopyWarning: \n",
      "A value is trying to be set on a copy of a slice from a DataFrame.\n",
      "Try using .loc[row_indexer,col_indexer] = value instead\n",
      "\n",
      "See the caveats in the documentation: https://pandas.pydata.org/pandas-docs/stable/user_guide/indexing.html#returning-a-view-versus-a-copy\n",
      "  This is separate from the ipykernel package so we can avoid doing imports until\n"
     ]
    }
   ],
   "source": [
    "key_024_iptw_low['ps'] = pred_low[:, 1]\n",
    "key_024_iptw_med['ps'] = pred_med[:, 1]\n",
    "key_024_iptw_high['ps'] = pred_high[:, 1]\n",
    "key_024_iptw_all['ps'] = pred_all[:, 1]"
   ]
  },
  {
   "cell_type": "code",
   "execution_count": 265,
   "id": "1e34d68d",
   "metadata": {},
   "outputs": [
    {
     "name": "stderr",
     "output_type": "stream",
     "text": [
      "/Users/xavierorcutt/Dropbox/ist_project/myenv/lib/python3.7/site-packages/ipykernel_launcher.py:2: SettingWithCopyWarning: \n",
      "A value is trying to be set on a copy of a slice from a DataFrame.\n",
      "Try using .loc[row_indexer,col_indexer] = value instead\n",
      "\n",
      "See the caveats in the documentation: https://pandas.pydata.org/pandas-docs/stable/user_guide/indexing.html#returning-a-view-versus-a-copy\n",
      "  \n",
      "/Users/xavierorcutt/Dropbox/ist_project/myenv/lib/python3.7/site-packages/ipykernel_launcher.py:5: SettingWithCopyWarning: \n",
      "A value is trying to be set on a copy of a slice from a DataFrame.\n",
      "Try using .loc[row_indexer,col_indexer] = value instead\n",
      "\n",
      "See the caveats in the documentation: https://pandas.pydata.org/pandas-docs/stable/user_guide/indexing.html#returning-a-view-versus-a-copy\n",
      "  \"\"\"\n",
      "/Users/xavierorcutt/Dropbox/ist_project/myenv/lib/python3.7/site-packages/ipykernel_launcher.py:8: SettingWithCopyWarning: \n",
      "A value is trying to be set on a copy of a slice from a DataFrame.\n",
      "Try using .loc[row_indexer,col_indexer] = value instead\n",
      "\n",
      "See the caveats in the documentation: https://pandas.pydata.org/pandas-docs/stable/user_guide/indexing.html#returning-a-view-versus-a-copy\n",
      "  \n"
     ]
    }
   ],
   "source": [
    "key_024_iptw_low['weight'] = (\n",
    "    np.where(key_024_iptw_low['pembro'] == 1, 1/key_024_iptw_low['ps'], 1/(1 - key_024_iptw_low['ps'])))\n",
    "\n",
    "key_024_iptw_med['weight'] = (\n",
    "    np.where(key_024_iptw_med['pembro'] == 1, 1/key_024_iptw_med['ps'], 1/(1 - key_024_iptw_med['ps'])))\n",
    "\n",
    "key_024_iptw_high['weight'] = (\n",
    "    np.where(key_024_iptw_high['pembro'] == 1, 1/key_024_iptw_high['ps'], 1/(1 - key_024_iptw_high['ps'])))\n",
    "\n",
    "key_024_iptw_all['weight'] = (\n",
    "    np.where(key_024_iptw_all['pembro'] == 1, 1/key_024_iptw_all['ps'], 1/(1 - key_024_iptw_all['ps'])))"
   ]
  },
  {
   "cell_type": "code",
   "execution_count": 266,
   "id": "6a4176f8",
   "metadata": {},
   "outputs": [
    {
     "name": "stderr",
     "output_type": "stream",
     "text": [
      "/Users/xavierorcutt/Dropbox/ist_project/myenv/lib/python3.7/site-packages/lifelines/fitters/kaplan_meier_fitter.py:344: StatisticalWarning: It looks like your weights are not integers, possibly propensity scores then?\n",
      "  It's important to know that the naive variance estimates of the coefficients are biased. Instead use Monte Carlo to\n",
      "  estimate the variances. See paper \"Variance estimation when using inverse probability of treatment weighting (IPTW) with survival analysis\"\n",
      "  or \"Adjusted Kaplan-Meier estimator and log-rank test with inverse probability of treatment weighting for survival data.\"\n",
      "                  \n",
      "  StatisticalWarning,\n"
     ]
    },
    {
     "data": {
      "text/plain": [
       "<lifelines.KaplanMeierFitter:\"KM_estimate\", fitted with 1316.02 total observations, 313.729 right-censored observations>"
      ]
     },
     "execution_count": 266,
     "metadata": {},
     "output_type": "execute_result"
    }
   ],
   "source": [
    "# Low KM curves\n",
    "kmf_low_pembro_024_iptw = KaplanMeierFitter()\n",
    "kmf_low_plat_024_iptw = KaplanMeierFitter()\n",
    "\n",
    "kmf_low_pembro_024_iptw.fit(\n",
    "    key_024_iptw_low.query('pembro == 1').time_prog_treatment/30,\n",
    "    key_024_iptw_low.query('pembro == 1').pfs_status,\n",
    "    weights = key_024_iptw_low.query('pembro == 1')['weight'])\n",
    "\n",
    "kmf_low_plat_024_iptw.fit(\n",
    "    key_024_iptw_low.query('pembro == 0').time_prog_treatment/30,\n",
    "    key_024_iptw_low.query('pembro == 0').pfs_status,\n",
    "    weights = key_024_iptw_low.query('pembro == 0')['weight'])\n",
    "\n",
    "# Med KM curves\n",
    "kmf_med_pembro_024_iptw = KaplanMeierFitter()\n",
    "kmf_med_plat_024_iptw = KaplanMeierFitter()\n",
    "\n",
    "kmf_med_pembro_024_iptw.fit(\n",
    "    key_024_iptw_med.query('pembro == 1').time_prog_treatment/30,\n",
    "    key_024_iptw_med.query('pembro == 1').pfs_status,\n",
    "    weights = key_024_iptw_med.query('pembro == 1')['weight'])\n",
    "\n",
    "kmf_med_plat_024_iptw.fit(\n",
    "    key_024_iptw_med.query('pembro == 0').time_prog_treatment/30,\n",
    "    key_024_iptw_med.query('pembro == 0').pfs_status,\n",
    "    weights = key_024_iptw_med.query('pembro == 0')['weight'])\n",
    "\n",
    "# High KM curves \n",
    "kmf_high_pembro_024_iptw = KaplanMeierFitter()\n",
    "kmf_high_plat_024_iptw = KaplanMeierFitter()\n",
    "\n",
    "kmf_high_pembro_024_iptw.fit(\n",
    "    key_024_iptw_high.query('pembro == 1').time_prog_treatment/30,\n",
    "    key_024_iptw_high.query('pembro == 1').pfs_status,\n",
    "    weights = key_024_iptw_high.query('pembro == 1')['weight'])\n",
    "\n",
    "kmf_high_plat_024_iptw.fit(\n",
    "    key_024_iptw_high.query('pembro == 0').time_prog_treatment/30,\n",
    "    key_024_iptw_high.query('pembro == 0').pfs_status,\n",
    "    weights = key_024_iptw_high.query('pembro == 0')['weight'])\n",
    "\n",
    "# All KM curves \n",
    "kmf_all_pembro_024_iptw = KaplanMeierFitter()\n",
    "kmf_all_plat_024_iptw = KaplanMeierFitter()\n",
    "\n",
    "kmf_all_pembro_024_iptw.fit(\n",
    "    key_024_iptw_all.query('pembro == 1').time_prog_treatment/30,\n",
    "    key_024_iptw_all.query('pembro == 1').pfs_status,\n",
    "    weights = key_024_iptw_all.query('pembro == 1')['weight'])\n",
    "\n",
    "kmf_all_plat_024_iptw.fit(\n",
    "    key_024_iptw_all.query('pembro == 0').time_prog_treatment/30,\n",
    "    key_024_iptw_all.query('pembro == 0').pfs_status,\n",
    "    weights = key_024_iptw_all.query('pembro == 0')['weight'])"
   ]
  },
  {
   "cell_type": "code",
   "execution_count": 267,
   "id": "be39baaf",
   "metadata": {},
   "outputs": [
    {
     "data": {
      "image/png": "[encoded data removed]",
      "text/plain": [
       "<Figure size 1800x600 with 5 Axes>"
      ]
     },
     "metadata": {},
     "output_type": "display_data"
    }
   ],
   "source": [
    "fig = plt.figure(figsize=(18, 6))\n",
    "\n",
    "# Plot survival curves for low risk group \n",
    "plt.subplot(1, 4, 1)\n",
    "\n",
    "plt.step(kmf_low_pembro_024_iptw.timeline, kmf_low_pembro_024_iptw.survival_function_.values*100, color = 'red', alpha = 0.5)\n",
    "\n",
    "plt.step(kmf_low_plat_024_iptw.timeline, kmf_low_plat_024_iptw.survival_function_.values*100, color = 'black', alpha = 0.5)\n",
    "\n",
    "plt.xticks(np.arange(0, 43, 6))\n",
    "plt.xlim(0, 43)\n",
    "plt.ylim(0, 100)\n",
    "\n",
    "plt.title('Low-risk', weight = 'bold')\n",
    "plt.ylabel('Progression free survival (%)', size = 12, weight = 'bold')\n",
    "\n",
    "plt.gca().spines['top'].set_visible(False)\n",
    "plt.gca().spines['right'].set_visible(False)\n",
    "\n",
    "# Plot survival curves for med risk group. \n",
    "plt.subplot(1, 4, 2)\n",
    "\n",
    "plt.step(kmf_med_pembro_024_iptw.timeline, kmf_med_pembro_024_iptw.survival_function_.values*100, color = 'red', alpha = 0.5)\n",
    "\n",
    "plt.step(kmf_med_plat_024_iptw.timeline, kmf_med_plat_024_iptw.survival_function_.values*100, color = 'black', alpha = 0.5)\n",
    "\n",
    "plt.xticks(np.arange(0, 43, 6))\n",
    "plt.xlim(0, 43)\n",
    "plt.ylim(0, 100)\n",
    "\n",
    "plt.title('Med-risk', weight = 'bold')\n",
    "\n",
    "plt.gca().spines['top'].set_visible(False)\n",
    "plt.gca().spines['right'].set_visible(False)\n",
    "\n",
    "# Plot survival curves by treatment for high risk group. \n",
    "plt.subplot(1, 4, 3)\n",
    "\n",
    "plt.step(kmf_high_pembro_024_iptw.timeline, kmf_high_pembro_024_iptw.survival_function_.values*100, color = 'red', alpha = 0.5)\n",
    "\n",
    "plt.step(kmf_high_plat_024_iptw.timeline, kmf_high_plat_024_iptw.survival_function_.values*100, color = 'black', alpha = 0.5)\n",
    "\n",
    "plt.xticks(np.arange(0, 43, 6))\n",
    "plt.xlim(0, 43)\n",
    "plt.ylim(0, 100)\n",
    "\n",
    "plt.title('High-risk', weight = 'bold')\n",
    "\n",
    "plt.gca().spines['top'].set_visible(False)\n",
    "plt.gca().spines['right'].set_visible(False)\n",
    "\n",
    "# Plot survival curves by treatment for all risk group. \n",
    "plt.subplot(1, 4, 4)\n",
    "\n",
    "plt.step(kmf_all_pembro_024_iptw.timeline, kmf_all_pembro_024_iptw.survival_function_.values*100, color = 'red', alpha = 0.5, label = 'Pembrolizumab')\n",
    "\n",
    "plt.step(kmf_all_plat_024_iptw.timeline, kmf_all_plat_024_iptw.survival_function_.values*100, color = 'black', alpha = 0.5, label = 'Chemotherapy')\n",
    "\n",
    "plt.xticks(np.arange(0, 43, 6))\n",
    "plt.xlim(0, 43)\n",
    "plt.ylim(0, 100)\n",
    "\n",
    "plt.title('Full cohort', weight = 'bold')\n",
    "\n",
    "plt.gca().spines['top'].set_visible(False)\n",
    "plt.gca().spines['right'].set_visible(False)\n",
    "\n",
    "plt.legend(loc = 'center right', prop = {'size': 9})\n",
    "\n",
    "fig.add_subplot(1, 1, 1, frameon = False)\n",
    "plt.tick_params(labelcolor = 'none', which = 'both', top = False, bottom = False, left = False, right = False)\n",
    "plt.xlabel('Months after treatment', labelpad = 15, size = 12, weight = 'bold')\n",
    "plt.title(r'KEYNOTE-024: Overall progression free survival for pembrolizumab vs. chemotherapy for PDL1$\\geq$50%', pad = 40, size = 15, weight = 'bold')\n",
    "\n",
    "plt.show()"
   ]
  },
  {
   "cell_type": "markdown",
   "id": "12fba123",
   "metadata": {},
   "source": [
    "### KEYNOTE-189: First-line pembrolizumab plus chemotherapy vs. chemotherapy\n",
    "\n",
    "**INCLUSION CRITERIA**\n",
    "* Untreated stage IV NSCLC\n",
    "* Received first line pemobrolizumab plus platinum-based chemotherapy or platinum-based chemotherapy\n",
    "* EGFR and ALK negative\n",
    "* No autoimmune diseases in the year preceding metastatic diagnosis \n",
    "* No history of ILD, HIV, Hep C, Hep B, severe psychiatric history, or drug use disorder in the year preceding metastatic diagnosis \n",
    "* No CNS metastasis at start of treatment \n",
    "* ECOG is not 2, 3, or 4 at start of treatment \n",
    "* Adeuquate organ function at start of treatment "
   ]
  },
  {
   "cell_type": "markdown",
   "id": "0f3cfd49",
   "metadata": {},
   "source": [
    "#### Pembrolizumab + chemotherapy "
   ]
  },
  {
   "cell_type": "code",
   "execution_count": 268,
   "id": "90772405",
   "metadata": {},
   "outputs": [
    {
     "data": {
      "text/plain": [
       "68483"
      ]
     },
     "execution_count": 268,
     "metadata": {},
     "output_type": "execute_result"
    }
   ],
   "source": [
    "df_full = pd.read_csv('df_risk_crude.csv', index_col = 'PatientID', dtype = {'death_status': bool})\n",
    "df_full.index.nunique()"
   ]
  },
  {
   "cell_type": "code",
   "execution_count": 269,
   "id": "8eb80d1f",
   "metadata": {},
   "outputs": [],
   "source": [
    "line_therapy = pd.read_csv('LineOfTherapy.csv')"
   ]
  },
  {
   "cell_type": "code",
   "execution_count": 270,
   "id": "0eb9a694",
   "metadata": {},
   "outputs": [
    {
     "data": {
      "text/plain": [
       "Carboplatin,Pemetrexed                              6700\n",
       "Carboplatin,Pembrolizumab,Pemetrexed                5113\n",
       "Pemetrexed                                          4711\n",
       "Bevacizumab,Carboplatin,Pemetrexed                  3459\n",
       "Bevacizumab,Pemetrexed                              1569\n",
       "Pembrolizumab,Pemetrexed                            1554\n",
       "Cisplatin,Pemetrexed                                 811\n",
       "Bevacizumab,Cisplatin,Pemetrexed                     174\n",
       "Abiraterone,Carboplatin,Pembrolizumab,Pemetrexed     100\n",
       "Bevacizumab-Awwb,Carboplatin,Pemetrexed               82\n",
       "Name: LineName, dtype: int64"
      ]
     },
     "execution_count": 270,
     "metadata": {},
     "output_type": "execute_result"
    }
   ],
   "source": [
    "line_therapy[line_therapy['LineName'].str.contains('Pemetrexed')].LineName.value_counts().head(10)"
   ]
  },
  {
   "cell_type": "code",
   "execution_count": 271,
   "id": "cfd8b22b",
   "metadata": {},
   "outputs": [],
   "source": [
    "line_therapy_fl = (\n",
    "    line_therapy[line_therapy['PatientID'].isin(df_full.index)]\n",
    "    .query('LineNumber == 1')\n",
    "    .query('IsMaintenanceTherapy == False')\n",
    ")"
   ]
  },
  {
   "cell_type": "code",
   "execution_count": 272,
   "id": "627f5d67",
   "metadata": {},
   "outputs": [],
   "source": [
    "plat_chemo = [\n",
    "    'Carboplatin',\n",
    "    'Cisplatin']\n",
    "\n",
    "immuno_wout_pembro = [\n",
    "    'Atezolizumab',\n",
    "    'Cemiplimab',\n",
    "    'Durvalumab',\n",
    "    'Ipilimumab',\n",
    "    'Nivolumab']\n",
    "\n",
    "targeted = [\n",
    "    'Afatinib',\n",
    "    'Alectinib',\n",
    "    'Brigatinib',\n",
    "    'Cabozantinib',\n",
    "    'Capmatinib',\n",
    "    'Ceritinib',\n",
    "    'Crizotinib',\n",
    "    'Dabrafenib',\n",
    "    'Dacomitinib',\n",
    "    'Entrectinib',\n",
    "    'Erlotinib',\n",
    "    'Gefitinib',\n",
    "    'Lorlatinib',\n",
    "    'Osimertinib',\n",
    "    'Pralsetinib',\n",
    "    'Selpercatinib',\n",
    "    'Sotorasib',\n",
    "    'Tepotinib',\n",
    "    'Trametinib',\n",
    "    'Vandetanib']"
   ]
  },
  {
   "cell_type": "code",
   "execution_count": 273,
   "id": "7887cca4",
   "metadata": {},
   "outputs": [
    {
     "data": {
      "text/plain": [
       "Carboplatin,Pembrolizumab,Pemetrexed                     4275\n",
       "Carboplatin,Paclitaxel,Pembrolizumab                      803\n",
       "Carboplatin,Paclitaxel Protein-Bound,Pembrolizumab        534\n",
       "Abiraterone,Carboplatin,Pembrolizumab,Pemetrexed           79\n",
       "Carboplatin,Cyclophosphamide,Pembrolizumab,Pemetrexed      31\n",
       "Cisplatin,Pembrolizumab,Pemetrexed                         27\n",
       "Carboplatin,Pembrolizumab                                  19\n",
       "Carboplatin,Docetaxel,Pembrolizumab                        18\n",
       "Carboplatin,Paclitaxel,Pembrolizumab,Pemetrexed            18\n",
       "Bevacizumab,Carboplatin,Pembrolizumab,Pemetrexed           10\n",
       "Name: LineName, dtype: int64"
      ]
     },
     "execution_count": 273,
     "metadata": {},
     "output_type": "execute_result"
    }
   ],
   "source": [
    "line_therapy_fl[line_therapy_fl['LineName'].str.contains('|'.join(plat_chemo)) & \n",
    "                line_therapy_fl['LineName'].str.contains('Pembrolizumab') &\n",
    "                ~line_therapy_fl['LineName'].str.contains('|'.join(targeted)) &\n",
    "                ~line_therapy_fl['LineName'].str.contains('|'.join(immuno_wout_pembro)) &\n",
    "                ~line_therapy_fl['LineName'].str.contains('Clinical Study Drug')].LineName.value_counts().head(10)"
   ]
  },
  {
   "cell_type": "code",
   "execution_count": 274,
   "id": "6b09ae64",
   "metadata": {},
   "outputs": [],
   "source": [
    "key189_pembro = (\n",
    "    line_therapy_fl[line_therapy_fl['LineName'].str.contains('|'.join(plat_chemo)) & \n",
    "                    line_therapy_fl['LineName'].str.contains('Pembrolizumab') &\n",
    "                    ~line_therapy_fl['LineName'].str.contains('|'.join(targeted)) &\n",
    "                    ~line_therapy_fl['LineName'].str.contains('|'.join(immuno_wout_pembro)) &\n",
    "                    ~line_therapy_fl['LineName'].str.contains('Clinical Study Drug')]\n",
    "    [['PatientID', 'StartDate']]\n",
    ")"
   ]
  },
  {
   "cell_type": "code",
   "execution_count": 275,
   "id": "c58433bc",
   "metadata": {},
   "outputs": [],
   "source": [
    "key189_pembro.loc[:, 'pembro'] = 1"
   ]
  },
  {
   "cell_type": "code",
   "execution_count": 276,
   "id": "31baf8b4",
   "metadata": {},
   "outputs": [
    {
     "data": {
      "text/plain": [
       "(5878, 5878)"
      ]
     },
     "execution_count": 276,
     "metadata": {},
     "output_type": "execute_result"
    }
   ],
   "source": [
    "row_ID(key189_pembro)"
   ]
  },
  {
   "cell_type": "code",
   "execution_count": 277,
   "id": "c736a05e",
   "metadata": {},
   "outputs": [],
   "source": [
    "# Dataframe of all therapies received for those receiving first line pembrolizumab only. \n",
    "line_therapy_pembro_189 = (\n",
    "    line_therapy[line_therapy['PatientID'].isin(key189_pembro.PatientID)])"
   ]
  },
  {
   "cell_type": "code",
   "execution_count": 278,
   "id": "5da9f6a5",
   "metadata": {},
   "outputs": [],
   "source": [
    "# Patients receiving pembrolizumab therapy who later recieve targeted therapy. \n",
    "pembro_189_xcross = (\n",
    "    line_therapy_pembro_189[line_therapy_pembro_189['LineName'].str.contains('|'.join(targeted))].PatientID)"
   ]
  },
  {
   "cell_type": "code",
   "execution_count": 279,
   "id": "4757036d",
   "metadata": {},
   "outputs": [],
   "source": [
    "# Select patients who don't receive targeted therapy in future lines.\n",
    "key189_pembro = key189_pembro[~key189_pembro['PatientID'].isin(pembro_189_xcross)]"
   ]
  },
  {
   "cell_type": "code",
   "execution_count": 280,
   "id": "863c3340",
   "metadata": {},
   "outputs": [
    {
     "data": {
      "text/plain": [
       "(5673, 5673)"
      ]
     },
     "execution_count": 280,
     "metadata": {},
     "output_type": "execute_result"
    }
   ],
   "source": [
    "row_ID(key189_pembro)"
   ]
  },
  {
   "cell_type": "markdown",
   "id": "2b0c72bb",
   "metadata": {},
   "source": [
    "#### Platinum-based chemotherapy"
   ]
  },
  {
   "cell_type": "code",
   "execution_count": 281,
   "id": "1e44ba0e",
   "metadata": {},
   "outputs": [],
   "source": [
    "plat_chemo = [\n",
    "    'Carboplatin',\n",
    "    'Cisplatin']\n",
    "\n",
    "immuno = [\n",
    "    'Atezolizumab',\n",
    "    'Cemiplimab',\n",
    "    'Durvalumab',\n",
    "    'Ipilimumab',\n",
    "    'Nivolumab',\n",
    "    'Pembrolizumab'\n",
    "]"
   ]
  },
  {
   "cell_type": "code",
   "execution_count": 282,
   "id": "209a9015",
   "metadata": {},
   "outputs": [
    {
     "data": {
      "text/plain": [
       "Carboplatin,Paclitaxel                  8524\n",
       "Carboplatin,Pemetrexed                  5417\n",
       "Bevacizumab,Carboplatin,Pemetrexed      2825\n",
       "Carboplatin,Paclitaxel Protein-Bound    1826\n",
       "Bevacizumab,Carboplatin,Paclitaxel      1591\n",
       "Carboplatin,Gemcitabine                 1224\n",
       "Cisplatin,Etoposide                      793\n",
       "Carboplatin,Docetaxel                    780\n",
       "Cisplatin,Pemetrexed                     684\n",
       "Carboplatin,Etoposide                    363\n",
       "Name: LineName, dtype: int64"
      ]
     },
     "execution_count": 282,
     "metadata": {},
     "output_type": "execute_result"
    }
   ],
   "source": [
    "line_therapy_fl[line_therapy_fl['LineName'].str.contains('|'.join(plat_chemo)) & \n",
    "                ~line_therapy_fl['LineName'].str.contains('|'.join(immuno)) &\n",
    "                ~line_therapy_fl['LineName'].str.contains('|'.join(targeted)) &\n",
    "                ~line_therapy_fl['LineName'].str.contains('Clinical Study Drug')].LineName.value_counts().head(10)"
   ]
  },
  {
   "cell_type": "code",
   "execution_count": 283,
   "id": "bf0fef7d",
   "metadata": {},
   "outputs": [],
   "source": [
    "key189_plat = (\n",
    "    line_therapy_fl[line_therapy_fl['LineName'].str.contains('|'.join(plat_chemo)) & \n",
    "                    ~line_therapy_fl['LineName'].str.contains('|'.join(immuno)) &\n",
    "                    ~line_therapy_fl['LineName'].str.contains('|'.join(targeted)) &\n",
    "                    ~line_therapy_fl['LineName'].str.contains('Clinical Study Drug')]\n",
    "    [['PatientID', 'StartDate']]\n",
    ")"
   ]
  },
  {
   "cell_type": "code",
   "execution_count": 284,
   "id": "cb772aa3",
   "metadata": {},
   "outputs": [],
   "source": [
    "key189_plat.loc[:, 'pembro'] = 0"
   ]
  },
  {
   "cell_type": "code",
   "execution_count": 285,
   "id": "9fde114d",
   "metadata": {},
   "outputs": [
    {
     "data": {
      "text/plain": [
       "(25861, 25861)"
      ]
     },
     "execution_count": 285,
     "metadata": {},
     "output_type": "execute_result"
    }
   ],
   "source": [
    "row_ID(key189_plat)"
   ]
  },
  {
   "cell_type": "code",
   "execution_count": 286,
   "id": "c3f68fd7",
   "metadata": {},
   "outputs": [],
   "source": [
    "# Dataframe of all therapies received for those receiving first line platinum regimen \n",
    "line_therapy_plat_189 = (\n",
    "    line_therapy[line_therapy['PatientID'].isin(key189_plat.PatientID)])"
   ]
  },
  {
   "cell_type": "code",
   "execution_count": 287,
   "id": "696e8c91",
   "metadata": {},
   "outputs": [],
   "source": [
    "# Patients receiving platinum therapy who later recieve targeted therapy\n",
    "plat_189_xcross = (\n",
    "    line_therapy_plat_189[line_therapy_plat_189['LineName'].str.contains('|'.join(targeted))].PatientID)"
   ]
  },
  {
   "cell_type": "code",
   "execution_count": 288,
   "id": "da0f0fb6",
   "metadata": {},
   "outputs": [],
   "source": [
    "# Select patients who don't receive targeted therapy\n",
    "key189_plat = key189_plat[~key189_plat['PatientID'].isin(plat_189_xcross)]"
   ]
  },
  {
   "cell_type": "code",
   "execution_count": 289,
   "id": "a8c4b455",
   "metadata": {},
   "outputs": [
    {
     "data": {
      "text/plain": [
       "(23800, 23800)"
      ]
     },
     "execution_count": 289,
     "metadata": {},
     "output_type": "execute_result"
    }
   ],
   "source": [
    "row_ID(key189_plat)"
   ]
  },
  {
   "cell_type": "code",
   "execution_count": 290,
   "id": "a3c06ac3",
   "metadata": {},
   "outputs": [],
   "source": [
    "key_189 = pd.concat([key189_pembro, key189_plat])"
   ]
  },
  {
   "cell_type": "code",
   "execution_count": 291,
   "id": "81818446",
   "metadata": {},
   "outputs": [
    {
     "data": {
      "text/plain": [
       "(29473, 29473)"
      ]
     },
     "execution_count": 291,
     "metadata": {},
     "output_type": "execute_result"
    }
   ],
   "source": [
    "row_ID(key_189)"
   ]
  },
  {
   "cell_type": "code",
   "execution_count": 292,
   "id": "0eb328ff",
   "metadata": {},
   "outputs": [],
   "source": [
    "key_189 = pd.merge(key_189, df_full, on = 'PatientID', how = 'left')"
   ]
  },
  {
   "cell_type": "code",
   "execution_count": 293,
   "id": "7e4c2248",
   "metadata": {},
   "outputs": [
    {
     "data": {
      "text/plain": [
       "(29473, 29473)"
      ]
     },
     "execution_count": 293,
     "metadata": {},
     "output_type": "execute_result"
    }
   ],
   "source": [
    "row_ID(key_189)"
   ]
  },
  {
   "cell_type": "code",
   "execution_count": 294,
   "id": "4e71fcee",
   "metadata": {},
   "outputs": [],
   "source": [
    "key_189['StartDate'] = pd.to_datetime(key_189['StartDate'])"
   ]
  },
  {
   "cell_type": "markdown",
   "id": "a0681f5f",
   "metadata": {},
   "source": [
    "#### Time from treatment to death or censor"
   ]
  },
  {
   "cell_type": "code",
   "execution_count": 295,
   "id": "e4175500",
   "metadata": {},
   "outputs": [],
   "source": [
    "mortality_tr = pd.read_csv('mortality_cleaned_tr.csv')"
   ]
  },
  {
   "cell_type": "code",
   "execution_count": 296,
   "id": "180a1e0f",
   "metadata": {},
   "outputs": [],
   "source": [
    "mortality_te = pd.read_csv('mortality_cleaned_te.csv')"
   ]
  },
  {
   "cell_type": "code",
   "execution_count": 297,
   "id": "f7bffc53",
   "metadata": {},
   "outputs": [],
   "source": [
    "mortality_tr = mortality_tr[['PatientID', 'death_date', 'last_activity']]"
   ]
  },
  {
   "cell_type": "code",
   "execution_count": 298,
   "id": "46d96c21",
   "metadata": {},
   "outputs": [],
   "source": [
    "mortality_te = mortality_te[['PatientID', 'death_date', 'last_activity']]"
   ]
  },
  {
   "cell_type": "code",
   "execution_count": 299,
   "id": "9649eeb9",
   "metadata": {},
   "outputs": [
    {
     "name": "stdout",
     "output_type": "stream",
     "text": [
      "68483 True\n"
     ]
    }
   ],
   "source": [
    "mortality = pd.concat([mortality_tr, mortality_te], ignore_index = True)\n",
    "print(len(mortality), mortality.PatientID.is_unique)"
   ]
  },
  {
   "cell_type": "code",
   "execution_count": 300,
   "id": "6453151a",
   "metadata": {},
   "outputs": [],
   "source": [
    "mortality.loc[:, 'last_activity'] = pd.to_datetime(mortality['last_activity'])"
   ]
  },
  {
   "cell_type": "code",
   "execution_count": 301,
   "id": "fe58672d",
   "metadata": {},
   "outputs": [],
   "source": [
    "mortality.loc[:, 'death_date'] = pd.to_datetime(mortality['death_date'])"
   ]
  },
  {
   "cell_type": "code",
   "execution_count": 302,
   "id": "68dcbf54",
   "metadata": {},
   "outputs": [],
   "source": [
    "key_189 = pd.merge(key_189, mortality, on = 'PatientID', how = 'left')"
   ]
  },
  {
   "cell_type": "code",
   "execution_count": 303,
   "id": "d2b2dc79",
   "metadata": {},
   "outputs": [
    {
     "data": {
      "text/plain": [
       "29473"
      ]
     },
     "execution_count": 303,
     "metadata": {},
     "output_type": "execute_result"
    }
   ],
   "source": [
    "len(key_189)"
   ]
  },
  {
   "cell_type": "code",
   "execution_count": 304,
   "id": "570559ba",
   "metadata": {},
   "outputs": [],
   "source": [
    "conditions = [\n",
    "    (key_189['death_status'] == 1),\n",
    "    (key_189['death_status'] == 0)]\n",
    "\n",
    "choices = [\n",
    "    (key_189['death_date'] - key_189['StartDate']).dt.days,\n",
    "    (key_189['last_activity'] - key_189['StartDate']).dt.days]\n",
    "\n",
    "key_189.loc[:, 'timerisk_treatment'] = np.select(conditions, choices)"
   ]
  },
  {
   "cell_type": "code",
   "execution_count": 305,
   "id": "4688b631",
   "metadata": {},
   "outputs": [],
   "source": [
    "key_189 = key_189.query('timerisk_treatment >= 0')"
   ]
  },
  {
   "cell_type": "markdown",
   "id": "40bf8574",
   "metadata": {},
   "source": [
    "#### Patient count"
   ]
  },
  {
   "cell_type": "code",
   "execution_count": 306,
   "id": "8aaef272",
   "metadata": {},
   "outputs": [],
   "source": [
    "key_189 = (\n",
    "    key_189\n",
    "    .query('Histology == \"Non-squamous cell carcinoma\"')\n",
    "    .query('EGFR != \"positive\"')\n",
    "    .query('ALK != \"positive\"')\n",
    ")"
   ]
  },
  {
   "cell_type": "code",
   "execution_count": 307,
   "id": "7aa028cd",
   "metadata": {},
   "outputs": [
    {
     "data": {
      "text/plain": [
       "(19124, 19124)"
      ]
     },
     "execution_count": 307,
     "metadata": {},
     "output_type": "execute_result"
    }
   ],
   "source": [
    "row_ID(key_189)"
   ]
  },
  {
   "cell_type": "code",
   "execution_count": 308,
   "id": "6ae9de60",
   "metadata": {},
   "outputs": [],
   "source": [
    "# Exclude those with autoimmune conditions. \n",
    "key_189 = key_189[~key_189['PatientID'].isin(auto_IDs)]"
   ]
  },
  {
   "cell_type": "code",
   "execution_count": 309,
   "id": "98543f8e",
   "metadata": {},
   "outputs": [],
   "source": [
    "# Exclude those with other relevant comorbidities\n",
    "key_189 = key_189[~key_189['PatientID'].isin(other_comorb_IDs)]"
   ]
  },
  {
   "cell_type": "code",
   "execution_count": 310,
   "id": "64ea479b",
   "metadata": {},
   "outputs": [],
   "source": [
    "# Exlcude those with CNS metastasis \n",
    "key_189 = key_189[~key_189['PatientID'].isin(cns_fl_IDs)]"
   ]
  },
  {
   "cell_type": "code",
   "execution_count": 311,
   "id": "f28dd16b",
   "metadata": {},
   "outputs": [],
   "source": [
    "# Exclude those with ECOG 2, 3, or 4\n",
    "key_189 = key_189[~key_189['PatientID'].isin(ecog_fl_IDs)]"
   ]
  },
  {
   "cell_type": "code",
   "execution_count": 312,
   "id": "c0ca8e22",
   "metadata": {},
   "outputs": [],
   "source": [
    "# Exclude those with abnormal organ function\n",
    "key_189 = key_189[~key_189['PatientID'].isin(ab_organ_IDs)]"
   ]
  },
  {
   "cell_type": "code",
   "execution_count": 313,
   "id": "a5afe6c9",
   "metadata": {},
   "outputs": [
    {
     "data": {
      "text/plain": [
       "(13761, 13761)"
      ]
     },
     "execution_count": 313,
     "metadata": {},
     "output_type": "execute_result"
    }
   ],
   "source": [
    "row_ID(key_189)"
   ]
  },
  {
   "cell_type": "code",
   "execution_count": 314,
   "id": "8009871b",
   "metadata": {},
   "outputs": [],
   "source": [
    "low_cutoff_189 = cutoff.loc['keynote_189'].low"
   ]
  },
  {
   "cell_type": "code",
   "execution_count": 315,
   "id": "6d02122f",
   "metadata": {},
   "outputs": [],
   "source": [
    "high_cutoff_189 = cutoff.loc['keynote_189'].high"
   ]
  },
  {
   "cell_type": "code",
   "execution_count": 316,
   "id": "bc30a416",
   "metadata": {},
   "outputs": [
    {
     "name": "stdout",
     "output_type": "stream",
     "text": [
      "Pembro + chemo total: 2794\n",
      "High risk: 749\n",
      "Med risk: 964\n",
      "Low risk: 1081\n"
     ]
    }
   ],
   "source": [
    "print('Pembro + chemo total:',  key_189.query('pembro == 1').shape[0])\n",
    "print('High risk:', key_189.query('pembro == 1').query('risk_score >= @high_cutoff_189').shape[0])\n",
    "print('Med risk:', key_189.query('pembro == 1').query('risk_score < @high_cutoff_189 and risk_score > @low_cutoff_189').shape[0])\n",
    "print('Low risk:', key_189.query('pembro == 1').query('risk_score <= @low_cutoff_189').shape[0])"
   ]
  },
  {
   "cell_type": "code",
   "execution_count": 317,
   "id": "845fa5a3",
   "metadata": {},
   "outputs": [
    {
     "name": "stdout",
     "output_type": "stream",
     "text": [
      "Platinum total: 10967\n",
      "High risk: 2694\n",
      "Med risk: 3637\n",
      "Low risk: 4636\n"
     ]
    }
   ],
   "source": [
    "print('Platinum total:',  key_189.query('pembro == 0').shape[0])\n",
    "print('High risk:', key_189.query('pembro == 0').query('risk_score >= @high_cutoff_189').shape[0])\n",
    "print('Med risk:', key_189.query('pembro == 0').query('risk_score < @high_cutoff_189 and risk_score > @low_cutoff_189').shape[0])\n",
    "print('Low risk:', key_189.query('pembro == 0').query('risk_score <= @low_cutoff_189').shape[0])"
   ]
  },
  {
   "cell_type": "markdown",
   "id": "85ee12a6",
   "metadata": {},
   "source": [
    "#### Survival curves with covariate balancing "
   ]
  },
  {
   "cell_type": "code",
   "execution_count": 318,
   "id": "8404845f",
   "metadata": {},
   "outputs": [],
   "source": [
    "key_189 = key_189.set_index('PatientID')"
   ]
  },
  {
   "cell_type": "code",
   "execution_count": 319,
   "id": "6d92d733",
   "metadata": {},
   "outputs": [],
   "source": [
    "key_189_iptw = key_189.filter(items = ['death_status',\n",
    "                                       'timerisk_treatment',\n",
    "                                       'pembro',\n",
    "                                       'age',\n",
    "                                       'gender',\n",
    "                                       'race',\n",
    "                                       'PracticeType',\n",
    "                                       'Histology',\n",
    "                                       'adv_year',\n",
    "                                       'delta_adv_diagnosis',\n",
    "                                       'commercial',\n",
    "                                       'medicare',\n",
    "                                       'medicaid',\n",
    "                                       'ecog_diagnosis',\n",
    "                                       'pdl1',\n",
    "                                       'albumin_diag', \n",
    "                                       'weight_pct_change',\n",
    "                                       'risk_score'])"
   ]
  },
  {
   "cell_type": "code",
   "execution_count": 320,
   "id": "97d0a390",
   "metadata": {},
   "outputs": [],
   "source": [
    "key_189_iptw['met_cat'] = pd.cut(key_189_iptw['adv_year'],\n",
    "                                 bins = [2010, 2018, float('inf')],\n",
    "                                 labels = ['11-18', '19-22'])"
   ]
  },
  {
   "cell_type": "code",
   "execution_count": 321,
   "id": "2f611426",
   "metadata": {},
   "outputs": [],
   "source": [
    "conditions = [\n",
    "    ((key_189_iptw['pdl1'] == \"1-49%\") | (key_189_iptw['pdl1'] == \"50-100%\"))]\n",
    "\n",
    "choices = ['>0%']\n",
    "\n",
    "key_189_iptw['pdl1_cat'] = np.select(conditions, choices, default = key_189_iptw['pdl1'])"
   ]
  },
  {
   "cell_type": "code",
   "execution_count": 322,
   "id": "a41501be",
   "metadata": {},
   "outputs": [],
   "source": [
    "conditions = [\n",
    "    ((key_189_iptw['ecog_diagnosis'] == \"1.0\") | (key_189_iptw['ecog_diagnosis'] == \"0.0\")),  \n",
    "    ((key_189_iptw['ecog_diagnosis'] == \"2.0\") | (key_189_iptw['ecog_diagnosis'] == \"3.0\"))\n",
    "]\n",
    "\n",
    "choices = ['lt_2', 'gte_2']\n",
    "\n",
    "key_189_iptw['ecog_2'] = np.select(conditions, choices, default = 'unknown')"
   ]
  },
  {
   "cell_type": "code",
   "execution_count": 323,
   "id": "4491b2e9",
   "metadata": {},
   "outputs": [
    {
     "data": {
      "text/plain": [
       "death_status               bool\n",
       "timerisk_treatment      float64\n",
       "pembro                    int64\n",
       "age                       int64\n",
       "gender                   object\n",
       "race                     object\n",
       "PracticeType             object\n",
       "Histology                object\n",
       "adv_year                  int64\n",
       "delta_adv_diagnosis       int64\n",
       "commercial              float64\n",
       "medicare                float64\n",
       "medicaid                float64\n",
       "ecog_diagnosis           object\n",
       "pdl1                     object\n",
       "albumin_diag            float64\n",
       "weight_pct_change       float64\n",
       "risk_score              float64\n",
       "met_cat                category\n",
       "pdl1_cat                 object\n",
       "ecog_2                   object\n",
       "dtype: object"
      ]
     },
     "execution_count": 323,
     "metadata": {},
     "output_type": "execute_result"
    }
   ],
   "source": [
    "key_189_iptw.dtypes"
   ]
  },
  {
   "cell_type": "code",
   "execution_count": 324,
   "id": "195d0c14",
   "metadata": {},
   "outputs": [],
   "source": [
    "to_be_categorical = list(key_189_iptw.select_dtypes(include = ['object']).columns)"
   ]
  },
  {
   "cell_type": "code",
   "execution_count": 325,
   "id": "42f9796a",
   "metadata": {},
   "outputs": [
    {
     "data": {
      "text/plain": [
       "['gender',\n",
       " 'race',\n",
       " 'PracticeType',\n",
       " 'Histology',\n",
       " 'ecog_diagnosis',\n",
       " 'pdl1',\n",
       " 'pdl1_cat',\n",
       " 'ecog_2']"
      ]
     },
     "execution_count": 325,
     "metadata": {},
     "output_type": "execute_result"
    }
   ],
   "source": [
    "to_be_categorical"
   ]
  },
  {
   "cell_type": "code",
   "execution_count": 326,
   "id": "281eb0c4",
   "metadata": {},
   "outputs": [],
   "source": [
    "to_be_categorical.append('met_cat')"
   ]
  },
  {
   "cell_type": "code",
   "execution_count": 327,
   "id": "99847f4d",
   "metadata": {},
   "outputs": [],
   "source": [
    "to_be_categorical.remove('pdl1')"
   ]
  },
  {
   "cell_type": "code",
   "execution_count": 328,
   "id": "efded404",
   "metadata": {},
   "outputs": [],
   "source": [
    "to_be_categorical.remove('ecog_diagnosis')"
   ]
  },
  {
   "cell_type": "code",
   "execution_count": 329,
   "id": "3b23cbf9",
   "metadata": {},
   "outputs": [],
   "source": [
    "# Convert variables in list to categorical.\n",
    "for x in list(to_be_categorical):\n",
    "    key_189_iptw[x] = key_189_iptw[x].astype('category')"
   ]
  },
  {
   "cell_type": "code",
   "execution_count": 330,
   "id": "72778c5c",
   "metadata": {},
   "outputs": [],
   "source": [
    "# List of numeric variables, excluding binary variables. \n",
    "numerical_features = ['age', 'delta_adv_diagnosis', 'albumin_diag', 'weight_pct_change', 'risk_score']\n",
    "\n",
    "# Transformer will first calculate column median and impute, and then apply a standard scaler. \n",
    "numerical_transformer = Pipeline(steps = [\n",
    "    ('imputer', SimpleImputer(strategy = 'median')),\n",
    "    ('std_scaler', StandardScaler())])"
   ]
  },
  {
   "cell_type": "code",
   "execution_count": 331,
   "id": "03904875",
   "metadata": {},
   "outputs": [],
   "source": [
    "# List of categorical features.\n",
    "categorical_features = list(key_189_iptw.select_dtypes(include = ['category']).columns)\n",
    "\n",
    "# One-hot-encode categorical features.\n",
    "categorical_transformer = OneHotEncoder(handle_unknown = 'ignore')"
   ]
  },
  {
   "cell_type": "code",
   "execution_count": 332,
   "id": "13a084f8",
   "metadata": {},
   "outputs": [],
   "source": [
    "preprocessor = ColumnTransformer(\n",
    "    transformers = [\n",
    "        ('num', numerical_transformer, numerical_features),\n",
    "        ('cat', categorical_transformer, categorical_features)],\n",
    "    remainder = 'passthrough')"
   ]
  },
  {
   "cell_type": "code",
   "execution_count": 333,
   "id": "52fd1079",
   "metadata": {},
   "outputs": [],
   "source": [
    "key_189_iptw_low = (\n",
    "    key_189_iptw\n",
    "    .query('risk_score <= @low_cutoff_189'))\n",
    "\n",
    "key_189_iptw_med = (\n",
    "    key_189_iptw\n",
    "    .query('risk_score < @high_cutoff_189 and risk_score > @low_cutoff_189'))\n",
    "\n",
    "key_189_iptw_high = (\n",
    "    key_189_iptw\n",
    "    .query('risk_score >= @high_cutoff_189'))\n",
    "\n",
    "key_189_iptw_all = key_189_iptw"
   ]
  },
  {
   "cell_type": "code",
   "execution_count": 334,
   "id": "cb1d015e",
   "metadata": {},
   "outputs": [],
   "source": [
    "key_189_low_x = preprocessor.fit_transform(key_189_iptw_low.filter(items = ['age',\n",
    "                                                                            'gender',\n",
    "                                                                            'race',\n",
    "                                                                            'PracticeType',\n",
    "                                                                            'Histology',\n",
    "                                                                            'met_cat',\n",
    "                                                                            'delta_adv_diagnosis',\n",
    "                                                                            'commercial',\n",
    "                                                                            'medicare',\n",
    "                                                                            'medicaid',\n",
    "                                                                            'ecog_2',\n",
    "                                                                            'pdl1_cat', \n",
    "                                                                            'albumin_diag', \n",
    "                                                                            'weight_pct_change', \n",
    "                                                                            'risk_score']))\n",
    "\n",
    "key_189_med_x = preprocessor.fit_transform(key_189_iptw_med.filter(items = ['age',\n",
    "                                                                            'gender',\n",
    "                                                                            'race',\n",
    "                                                                            'PracticeType',\n",
    "                                                                            'Histology',\n",
    "                                                                            'met_cat',\n",
    "                                                                            'delta_adv_diagnosis',\n",
    "                                                                            'commercial',\n",
    "                                                                            'medicare',\n",
    "                                                                            'medicaid',\n",
    "                                                                            'ecog_2',\n",
    "                                                                            'pdl1_cat', \n",
    "                                                                            'albumin_diag', \n",
    "                                                                            'weight_pct_change', \n",
    "                                                                            'risk_score']))\n",
    "\n",
    "key_189_high_x = preprocessor.fit_transform(key_189_iptw_high.filter(items = ['age',\n",
    "                                                                              'gender',\n",
    "                                                                              'race',\n",
    "                                                                              'PracticeType',\n",
    "                                                                              'Histology',\n",
    "                                                                              'met_cat',\n",
    "                                                                              'delta_adv_diagnosis',\n",
    "                                                                              'commercial',\n",
    "                                                                              'medicare',\n",
    "                                                                              'medicaid',\n",
    "                                                                              'ecog_2',\n",
    "                                                                              'pdl1_cat', \n",
    "                                                                              'albumin_diag', \n",
    "                                                                              'weight_pct_change',\n",
    "                                                                              'risk_score']))\n",
    "\n",
    "key_189_all_x = preprocessor.fit_transform(key_189_iptw_all.filter(items = ['age',\n",
    "                                                                            'gender',\n",
    "                                                                            'race',\n",
    "                                                                            'PracticeType',\n",
    "                                                                            'Histology',\n",
    "                                                                            'met_cat',\n",
    "                                                                            'delta_adv_diagnosis',\n",
    "                                                                            'commercial',\n",
    "                                                                            'medicare',\n",
    "                                                                            'medicaid',\n",
    "                                                                            'ecog_2',\n",
    "                                                                            'pdl1_cat', \n",
    "                                                                            'albumin_diag', \n",
    "                                                                            'weight_pct_change',\n",
    "                                                                            'risk_score']))"
   ]
  },
  {
   "cell_type": "code",
   "execution_count": 335,
   "id": "28f15436",
   "metadata": {},
   "outputs": [
    {
     "data": {
      "text/plain": [
       "LogisticRegression(max_iter=1000)"
      ]
     },
     "execution_count": 335,
     "metadata": {},
     "output_type": "execute_result"
    }
   ],
   "source": [
    "lr_189_low = LogisticRegression(max_iter = 1000)\n",
    "lr_189_low.fit(key_189_low_x, key_189_iptw_low['pembro'])"
   ]
  },
  {
   "cell_type": "code",
   "execution_count": 336,
   "id": "5b02d2d9",
   "metadata": {},
   "outputs": [
    {
     "data": {
      "text/plain": [
       "LogisticRegression(max_iter=1000)"
      ]
     },
     "execution_count": 336,
     "metadata": {},
     "output_type": "execute_result"
    }
   ],
   "source": [
    "lr_189_med = LogisticRegression(max_iter = 1000)\n",
    "lr_189_med.fit(key_189_med_x, key_189_iptw_med['pembro'])"
   ]
  },
  {
   "cell_type": "code",
   "execution_count": 337,
   "id": "d7310828",
   "metadata": {},
   "outputs": [
    {
     "data": {
      "text/plain": [
       "LogisticRegression(max_iter=1000)"
      ]
     },
     "execution_count": 337,
     "metadata": {},
     "output_type": "execute_result"
    }
   ],
   "source": [
    "lr_189_high = LogisticRegression(max_iter = 1000)\n",
    "lr_189_high.fit(key_189_high_x, key_189_iptw_high['pembro'])"
   ]
  },
  {
   "cell_type": "code",
   "execution_count": 338,
   "id": "14cfb229",
   "metadata": {},
   "outputs": [
    {
     "data": {
      "text/plain": [
       "LogisticRegression(max_iter=1000)"
      ]
     },
     "execution_count": 338,
     "metadata": {},
     "output_type": "execute_result"
    }
   ],
   "source": [
    "lr_189_all = LogisticRegression(max_iter = 1000)\n",
    "lr_189_all.fit(key_189_all_x, key_189_iptw_all['pembro'])"
   ]
  },
  {
   "cell_type": "code",
   "execution_count": 339,
   "id": "748863b3",
   "metadata": {},
   "outputs": [],
   "source": [
    "pred_low = lr_189_low.predict_proba(key_189_low_x)\n",
    "pred_med = lr_189_med.predict_proba(key_189_med_x)\n",
    "pred_high = lr_189_high.predict_proba(key_189_high_x)\n",
    "pred_all = lr_189_all.predict_proba(key_189_all_x)"
   ]
  },
  {
   "cell_type": "code",
   "execution_count": 340,
   "id": "d4682528",
   "metadata": {},
   "outputs": [
    {
     "name": "stderr",
     "output_type": "stream",
     "text": [
      "/Users/xavierorcutt/Dropbox/ist_project/myenv/lib/python3.7/site-packages/ipykernel_launcher.py:1: SettingWithCopyWarning: \n",
      "A value is trying to be set on a copy of a slice from a DataFrame.\n",
      "Try using .loc[row_indexer,col_indexer] = value instead\n",
      "\n",
      "See the caveats in the documentation: https://pandas.pydata.org/pandas-docs/stable/user_guide/indexing.html#returning-a-view-versus-a-copy\n",
      "  \"\"\"Entry point for launching an IPython kernel.\n",
      "/Users/xavierorcutt/Dropbox/ist_project/myenv/lib/python3.7/site-packages/ipykernel_launcher.py:2: SettingWithCopyWarning: \n",
      "A value is trying to be set on a copy of a slice from a DataFrame.\n",
      "Try using .loc[row_indexer,col_indexer] = value instead\n",
      "\n",
      "See the caveats in the documentation: https://pandas.pydata.org/pandas-docs/stable/user_guide/indexing.html#returning-a-view-versus-a-copy\n",
      "  \n",
      "/Users/xavierorcutt/Dropbox/ist_project/myenv/lib/python3.7/site-packages/ipykernel_launcher.py:3: SettingWithCopyWarning: \n",
      "A value is trying to be set on a copy of a slice from a DataFrame.\n",
      "Try using .loc[row_indexer,col_indexer] = value instead\n",
      "\n",
      "See the caveats in the documentation: https://pandas.pydata.org/pandas-docs/stable/user_guide/indexing.html#returning-a-view-versus-a-copy\n",
      "  This is separate from the ipykernel package so we can avoid doing imports until\n"
     ]
    }
   ],
   "source": [
    "key_189_iptw_low['ps'] = pred_low[:, 1]\n",
    "key_189_iptw_med['ps'] = pred_med[:, 1]\n",
    "key_189_iptw_high['ps'] = pred_high[:, 1]\n",
    "key_189_iptw_all['ps'] = pred_all[:, 1]"
   ]
  },
  {
   "cell_type": "code",
   "execution_count": 341,
   "id": "8dd61c16",
   "metadata": {},
   "outputs": [
    {
     "name": "stderr",
     "output_type": "stream",
     "text": [
      "/Users/xavierorcutt/Dropbox/ist_project/myenv/lib/python3.7/site-packages/ipykernel_launcher.py:2: SettingWithCopyWarning: \n",
      "A value is trying to be set on a copy of a slice from a DataFrame.\n",
      "Try using .loc[row_indexer,col_indexer] = value instead\n",
      "\n",
      "See the caveats in the documentation: https://pandas.pydata.org/pandas-docs/stable/user_guide/indexing.html#returning-a-view-versus-a-copy\n",
      "  \n",
      "/Users/xavierorcutt/Dropbox/ist_project/myenv/lib/python3.7/site-packages/ipykernel_launcher.py:5: SettingWithCopyWarning: \n",
      "A value is trying to be set on a copy of a slice from a DataFrame.\n",
      "Try using .loc[row_indexer,col_indexer] = value instead\n",
      "\n",
      "See the caveats in the documentation: https://pandas.pydata.org/pandas-docs/stable/user_guide/indexing.html#returning-a-view-versus-a-copy\n",
      "  \"\"\"\n",
      "/Users/xavierorcutt/Dropbox/ist_project/myenv/lib/python3.7/site-packages/ipykernel_launcher.py:8: SettingWithCopyWarning: \n",
      "A value is trying to be set on a copy of a slice from a DataFrame.\n",
      "Try using .loc[row_indexer,col_indexer] = value instead\n",
      "\n",
      "See the caveats in the documentation: https://pandas.pydata.org/pandas-docs/stable/user_guide/indexing.html#returning-a-view-versus-a-copy\n",
      "  \n"
     ]
    }
   ],
   "source": [
    "key_189_iptw_low['weight'] = (\n",
    "    np.where(key_189_iptw_low['pembro'] == 1, 1/key_189_iptw_low['ps'], 1/(1 - key_189_iptw_low['ps'])))\n",
    "\n",
    "key_189_iptw_med['weight'] = (\n",
    "    np.where(key_189_iptw_med['pembro'] == 1, 1/key_189_iptw_med['ps'], 1/(1 - key_189_iptw_med['ps'])))\n",
    "\n",
    "key_189_iptw_high['weight'] = (\n",
    "    np.where(key_189_iptw_high['pembro'] == 1, 1/key_189_iptw_high['ps'], 1/(1 - key_189_iptw_high['ps'])))\n",
    "\n",
    "key_189_iptw_all['weight'] = (\n",
    "    np.where(key_189_iptw_all['pembro'] == 1, 1/key_189_iptw_all['ps'], 1/(1 - key_189_iptw_all['ps'])))"
   ]
  },
  {
   "cell_type": "code",
   "execution_count": 342,
   "id": "6ac2e78a",
   "metadata": {},
   "outputs": [
    {
     "name": "stderr",
     "output_type": "stream",
     "text": [
      "/Users/xavierorcutt/Dropbox/ist_project/myenv/lib/python3.7/site-packages/lifelines/fitters/kaplan_meier_fitter.py:344: StatisticalWarning: It looks like your weights are not integers, possibly propensity scores then?\n",
      "  It's important to know that the naive variance estimates of the coefficients are biased. Instead use Monte Carlo to\n",
      "  estimate the variances. See paper \"Variance estimation when using inverse probability of treatment weighting (IPTW) with survival analysis\"\n",
      "  or \"Adjusted Kaplan-Meier estimator and log-rank test with inverse probability of treatment weighting for survival data.\"\n",
      "                  \n",
      "  StatisticalWarning,\n"
     ]
    },
    {
     "data": {
      "text/plain": [
       "<lifelines.KaplanMeierFitter:\"KM_estimate\", fitted with 14128.8 total observations, 4227.21 right-censored observations>"
      ]
     },
     "execution_count": 342,
     "metadata": {},
     "output_type": "execute_result"
    }
   ],
   "source": [
    "# Low KM curves\n",
    "kmf_low_pembro_189_iptw = KaplanMeierFitter()\n",
    "kmf_low_plat_189_iptw = KaplanMeierFitter()\n",
    "\n",
    "kmf_low_pembro_189_iptw.fit(\n",
    "    key_189_iptw_low.query('pembro == 1').timerisk_treatment/30,\n",
    "    key_189_iptw_low.query('pembro == 1').death_status,\n",
    "    weights = key_189_iptw_low.query('pembro == 1')['weight'])\n",
    "\n",
    "kmf_low_plat_189_iptw.fit(\n",
    "    key_189_iptw_low.query('pembro == 0').timerisk_treatment/30,\n",
    "    key_189_iptw_low.query('pembro == 0').death_status,\n",
    "    weights = key_189_iptw_low.query('pembro == 0')['weight'])\n",
    "\n",
    "# Med KM curves\n",
    "kmf_med_pembro_189_iptw = KaplanMeierFitter()\n",
    "kmf_med_plat_189_iptw = KaplanMeierFitter()\n",
    "\n",
    "kmf_med_pembro_189_iptw.fit(\n",
    "    key_189_iptw_med.query('pembro == 1').timerisk_treatment/30,\n",
    "    key_189_iptw_med.query('pembro == 1').death_status,\n",
    "    weights = key_189_iptw_med.query('pembro == 1')['weight'])\n",
    "\n",
    "kmf_med_plat_189_iptw.fit(\n",
    "    key_189_iptw_med.query('pembro == 0').timerisk_treatment/30,\n",
    "    key_189_iptw_med.query('pembro == 0').death_status,\n",
    "    weights = key_189_iptw_med.query('pembro == 0')['weight'])\n",
    "\n",
    "# High KM curves \n",
    "kmf_high_pembro_189_iptw = KaplanMeierFitter()\n",
    "kmf_high_plat_189_iptw = KaplanMeierFitter()\n",
    "\n",
    "kmf_high_pembro_189_iptw.fit(\n",
    "    key_189_iptw_high.query('pembro == 1').timerisk_treatment/30,\n",
    "    key_189_iptw_high.query('pembro == 1').death_status,\n",
    "    weights = key_189_iptw_high.query('pembro == 1')['weight'])\n",
    "\n",
    "kmf_high_plat_189_iptw.fit(\n",
    "    key_189_iptw_high.query('pembro == 0').timerisk_treatment/30,\n",
    "    key_189_iptw_high.query('pembro == 0').death_status,\n",
    "    weights = key_189_iptw_high.query('pembro == 0')['weight'])\n",
    "\n",
    "# All KM curves \n",
    "kmf_all_pembro_189_iptw = KaplanMeierFitter()\n",
    "kmf_all_plat_189_iptw = KaplanMeierFitter()\n",
    "\n",
    "kmf_all_pembro_189_iptw.fit(\n",
    "    key_189_iptw_all.query('pembro == 1').timerisk_treatment/30,\n",
    "    key_189_iptw_all.query('pembro == 1').death_status,\n",
    "    weights = key_189_iptw_all.query('pembro == 1')['weight'])\n",
    "\n",
    "kmf_all_plat_189_iptw.fit(\n",
    "    key_189_iptw_all.query('pembro == 0').timerisk_treatment/30,\n",
    "    key_189_iptw_all.query('pembro == 0').death_status,\n",
    "    weights = key_189_iptw_all.query('pembro == 0')['weight'])"
   ]
  },
  {
   "cell_type": "code",
   "execution_count": 343,
   "id": "458d613f",
   "metadata": {},
   "outputs": [
    {
     "data": {
      "image/png": "[encoded data removed]",
      "text/plain": [
       "<Figure size 1800x600 with 5 Axes>"
      ]
     },
     "metadata": {},
     "output_type": "display_data"
    }
   ],
   "source": [
    "fig = plt.figure(figsize=(18, 6))\n",
    "\n",
    "# Plot survival curves for low risk group \n",
    "plt.subplot(1, 4, 1)\n",
    "\n",
    "plt.step(kmf_low_pembro_189_iptw.timeline, kmf_low_pembro_189_iptw.survival_function_.values*100, color = 'red', alpha = 0.5)\n",
    "\n",
    "plt.step(kmf_low_plat_189_iptw.timeline, kmf_low_plat_189_iptw.survival_function_.values*100, color = 'black', alpha = 0.5)\n",
    "\n",
    "plt.xticks(np.arange(0, 43, 6))\n",
    "plt.xlim(0, 43)\n",
    "plt.ylim(0, 100)\n",
    "\n",
    "plt.title('Low-risk', weight = 'bold')\n",
    "plt.ylabel('Overall survival (%)', size = 12, weight = 'bold')\n",
    "\n",
    "plt.gca().spines['top'].set_visible(False)\n",
    "plt.gca().spines['right'].set_visible(False)\n",
    "\n",
    "# Plot survival curves for med risk group. \n",
    "plt.subplot(1, 4, 2)\n",
    "\n",
    "plt.step(kmf_med_pembro_189_iptw.timeline, kmf_med_pembro_189_iptw.survival_function_.values*100, color = 'red', alpha = 0.5)\n",
    "\n",
    "plt.step(kmf_med_plat_189_iptw.timeline, kmf_med_plat_189_iptw.survival_function_.values*100, color = 'black', alpha = 0.5)\n",
    "\n",
    "plt.xticks(np.arange(0, 43, 6))\n",
    "plt.xlim(0, 43)\n",
    "plt.ylim(0, 100)\n",
    "\n",
    "plt.title('Med-risk', weight = 'bold')\n",
    "\n",
    "plt.gca().spines['top'].set_visible(False)\n",
    "plt.gca().spines['right'].set_visible(False)\n",
    "\n",
    "# Plot survival curves by treatment for high risk group. \n",
    "plt.subplot(1, 4, 3)\n",
    "\n",
    "plt.step(kmf_high_pembro_189_iptw.timeline, kmf_high_pembro_189_iptw.survival_function_.values*100, color = 'red', alpha = 0.5)\n",
    "\n",
    "plt.step(kmf_high_plat_189_iptw.timeline, kmf_high_plat_189_iptw.survival_function_.values*100, color = 'black', alpha = 0.5)\n",
    "\n",
    "plt.xticks(np.arange(0, 43, 6))\n",
    "plt.xlim(0, 43)\n",
    "plt.ylim(0, 100)\n",
    "\n",
    "plt.title('High-risk', weight = 'bold')\n",
    "\n",
    "plt.gca().spines['top'].set_visible(False)\n",
    "plt.gca().spines['right'].set_visible(False)\n",
    "\n",
    "# Plot survival curves by treatment for all risk group. \n",
    "plt.subplot(1, 4, 4)\n",
    "\n",
    "plt.step(kmf_all_pembro_189_iptw.timeline, kmf_all_pembro_189_iptw.survival_function_.values*100, color = 'red', alpha = 0.5, label = 'Pembrolizumab + chemotherapy')\n",
    "\n",
    "plt.step(kmf_all_plat_189_iptw.timeline, kmf_all_plat_189_iptw.survival_function_.values*100, color = 'black', alpha = 0.5, label = 'Chemotherapy')\n",
    "\n",
    "plt.xticks(np.arange(0, 43, 6))\n",
    "plt.xlim(0, 43)\n",
    "plt.ylim(0, 100)\n",
    "\n",
    "plt.title('Full cohort', weight = 'bold')\n",
    "\n",
    "plt.gca().spines['top'].set_visible(False)\n",
    "plt.gca().spines['right'].set_visible(False)\n",
    "\n",
    "plt.legend(loc = 'center right', prop = {'size': 9})\n",
    "\n",
    "fig.add_subplot(1, 1, 1, frameon = False)\n",
    "plt.tick_params(labelcolor = 'none', which = 'both', top = False, bottom = False, left = False, right = False)\n",
    "plt.xlabel('Months after treatment', labelpad = 15, size = 12, weight = 'bold')\n",
    "plt.title('KEYNOTE-189: Overall survival for pembrolizumab plus chemotherapy vs. chemotherapy', pad = 40, size = 15, weight = 'bold')\n",
    "\n",
    "plt.show()"
   ]
  },
  {
   "cell_type": "markdown",
   "id": "5ea68d18",
   "metadata": {},
   "source": [
    "### CHECKMATE-078: Second-line nivolumab vs. docetaxel\n",
    "\n",
    "**INCLUSION CRITERIA**\n",
    "* Advanced or metastatic NSCLC \n",
    "* Progressed on first line platinum-based chemotherapy \n",
    "* Received second line nivolumab or docetaxel\n",
    "* Prior treatments with docetaxel or immunotherapy contraindicated\n",
    "* EGFR and ALK negative \n",
    "* No autoimmune diseases in the year preceding metastatic diagnosis \n",
    "* No history of ILD, HIV, Hep C, Hep B, severe psychiatric history, or drug use disorder in the year preceding metastatic diagnosis \n",
    "* No CNS metastasis at start of treatment \n",
    "* ECOG is not 2, 3, or 4 at start of treatment "
   ]
  },
  {
   "cell_type": "markdown",
   "id": "83986c7b",
   "metadata": {},
   "source": [
    "#### Nivolumab "
   ]
  },
  {
   "cell_type": "code",
   "execution_count": 344,
   "id": "82264e7a",
   "metadata": {},
   "outputs": [
    {
     "data": {
      "text/plain": [
       "68483"
      ]
     },
     "execution_count": 344,
     "metadata": {},
     "output_type": "execute_result"
    }
   ],
   "source": [
    "df_full = pd.read_csv('df_risk_crude.csv', index_col = 'PatientID', dtype = {'death_status': bool})\n",
    "df_full.index.nunique()"
   ]
  },
  {
   "cell_type": "code",
   "execution_count": 345,
   "id": "62f0200c",
   "metadata": {},
   "outputs": [],
   "source": [
    "line_therapy = pd.read_csv('LineOfTherapy.csv')"
   ]
  },
  {
   "cell_type": "code",
   "execution_count": 346,
   "id": "06fd9fa1",
   "metadata": {},
   "outputs": [],
   "source": [
    "line_therapy_fl = (\n",
    "    line_therapy[line_therapy.PatientID.isin(df_full.index)]\n",
    "    .query('LineNumber == 1')\n",
    "    .query('IsMaintenanceTherapy == False')\n",
    ")"
   ]
  },
  {
   "cell_type": "code",
   "execution_count": 347,
   "id": "1bb11868",
   "metadata": {},
   "outputs": [],
   "source": [
    "targeted = [\n",
    "    'Afatinib',\n",
    "    'Alectinib',\n",
    "    'Brigatinib',\n",
    "    'Cabozantinib',\n",
    "    'Capmatinib',\n",
    "    'Ceritinib',\n",
    "    'Crizotinib',\n",
    "    'Dabrafenib',\n",
    "    'Dacomitinib',\n",
    "    'Entrectinib',\n",
    "    'Erlotinib',\n",
    "    'Gefitinib',\n",
    "    'Lorlatinib',\n",
    "    'Osimertinib',\n",
    "    'Pralsetinib',\n",
    "    'Selpercatinib',\n",
    "    'Sotorasib',\n",
    "    'Tepotinib',\n",
    "    'Trametinib',\n",
    "    'Vandetanib']"
   ]
  },
  {
   "cell_type": "code",
   "execution_count": 348,
   "id": "bb0882fc",
   "metadata": {},
   "outputs": [],
   "source": [
    "immunotherapy = [\n",
    "    'Atezolizumab',\n",
    "    'Cemiplimab',\n",
    "    'Durvalumab',\n",
    "    'Ipilimumab',\n",
    "    'Nivolumab',\n",
    "    'Pembrolizumab'\n",
    "]"
   ]
  },
  {
   "cell_type": "code",
   "execution_count": 349,
   "id": "a6d4a79e",
   "metadata": {},
   "outputs": [],
   "source": [
    "fl_plat = (\n",
    "    line_therapy_fl\n",
    "    [line_therapy_fl['LineName'].str.contains('Carboplatin|Cisplatin')\n",
    "     & ~line_therapy_fl['LineName'].str.contains('Docetaxel')\n",
    "     & ~line_therapy_fl['LineName'].str.contains('|'.join(targeted))\n",
    "     & ~line_therapy_fl['LineName'].str.contains('|'.join(immunotherapy))]\n",
    "    .PatientID\n",
    ")"
   ]
  },
  {
   "cell_type": "code",
   "execution_count": 350,
   "id": "64dabff3",
   "metadata": {},
   "outputs": [],
   "source": [
    "checkmate_nivo = (\n",
    "    line_therapy[line_therapy.PatientID.isin(fl_plat)]\n",
    "    .query('LineNumber == 2')\n",
    "    .query('LineName == \"Nivolumab\"')\n",
    "    [['PatientID', 'StartDate']]\n",
    ")"
   ]
  },
  {
   "cell_type": "code",
   "execution_count": 351,
   "id": "2539e49d",
   "metadata": {},
   "outputs": [],
   "source": [
    "checkmate_nivo.loc[:, 'nivo'] = 1"
   ]
  },
  {
   "cell_type": "code",
   "execution_count": 352,
   "id": "cda98c38",
   "metadata": {},
   "outputs": [
    {
     "data": {
      "text/plain": [
       "(3397, 3397)"
      ]
     },
     "execution_count": 352,
     "metadata": {},
     "output_type": "execute_result"
    }
   ],
   "source": [
    "row_ID(checkmate_nivo)"
   ]
  },
  {
   "cell_type": "markdown",
   "id": "b9eb338a",
   "metadata": {},
   "source": [
    "#### Docetaxel"
   ]
  },
  {
   "cell_type": "code",
   "execution_count": 353,
   "id": "d195dd25",
   "metadata": {},
   "outputs": [],
   "source": [
    "checkmate_dotx = (\n",
    "    line_therapy[line_therapy.PatientID.isin(fl_plat)]\n",
    "    .query('LineNumber == 2')\n",
    "    .query('LineName == \"Docetaxel\"')\n",
    "    [['PatientID', 'StartDate']]\n",
    ")"
   ]
  },
  {
   "cell_type": "code",
   "execution_count": 354,
   "id": "603e0be5",
   "metadata": {},
   "outputs": [],
   "source": [
    "checkmate_dotx.loc[:, 'nivo'] = 0"
   ]
  },
  {
   "cell_type": "code",
   "execution_count": 355,
   "id": "c6b9e1ad",
   "metadata": {},
   "outputs": [
    {
     "data": {
      "text/plain": [
       "(745, 745)"
      ]
     },
     "execution_count": 355,
     "metadata": {},
     "output_type": "execute_result"
    }
   ],
   "source": [
    "row_ID(checkmate_dotx)"
   ]
  },
  {
   "cell_type": "code",
   "execution_count": 356,
   "id": "2ee4a4a6",
   "metadata": {},
   "outputs": [],
   "source": [
    "checkmate = pd.concat([checkmate_nivo, checkmate_dotx])"
   ]
  },
  {
   "cell_type": "code",
   "execution_count": 357,
   "id": "fca129cf",
   "metadata": {},
   "outputs": [
    {
     "data": {
      "text/plain": [
       "(4142, 4142)"
      ]
     },
     "execution_count": 357,
     "metadata": {},
     "output_type": "execute_result"
    }
   ],
   "source": [
    "row_ID(checkmate)"
   ]
  },
  {
   "cell_type": "code",
   "execution_count": 358,
   "id": "7d1db901",
   "metadata": {},
   "outputs": [],
   "source": [
    "checkmate = pd.merge(checkmate, df_full, on = 'PatientID', how = 'left')"
   ]
  },
  {
   "cell_type": "code",
   "execution_count": 359,
   "id": "ec30a51f",
   "metadata": {},
   "outputs": [
    {
     "data": {
      "text/plain": [
       "(4142, 4142)"
      ]
     },
     "execution_count": 359,
     "metadata": {},
     "output_type": "execute_result"
    }
   ],
   "source": [
    "row_ID(checkmate)"
   ]
  },
  {
   "cell_type": "code",
   "execution_count": 360,
   "id": "5d2cc8af",
   "metadata": {},
   "outputs": [],
   "source": [
    "checkmate['StartDate'] = pd.to_datetime(checkmate['StartDate'])"
   ]
  },
  {
   "cell_type": "markdown",
   "id": "a7834f09",
   "metadata": {},
   "source": [
    "#### Time from treatment to death or censor "
   ]
  },
  {
   "cell_type": "code",
   "execution_count": 361,
   "id": "5e0869f0",
   "metadata": {},
   "outputs": [],
   "source": [
    "mortality_tr = pd.read_csv('mortality_cleaned_tr.csv')"
   ]
  },
  {
   "cell_type": "code",
   "execution_count": 362,
   "id": "7f7cd3d1",
   "metadata": {},
   "outputs": [],
   "source": [
    "mortality_te = pd.read_csv('mortality_cleaned_te.csv')"
   ]
  },
  {
   "cell_type": "code",
   "execution_count": 363,
   "id": "b7f78856",
   "metadata": {},
   "outputs": [],
   "source": [
    "mortality_tr = mortality_tr[['PatientID', 'death_date', 'last_activity']]"
   ]
  },
  {
   "cell_type": "code",
   "execution_count": 364,
   "id": "dd190e2e",
   "metadata": {},
   "outputs": [],
   "source": [
    "mortality_te = mortality_te[['PatientID', 'death_date', 'last_activity']]"
   ]
  },
  {
   "cell_type": "code",
   "execution_count": 365,
   "id": "c235e6ab",
   "metadata": {},
   "outputs": [
    {
     "name": "stdout",
     "output_type": "stream",
     "text": [
      "68483 True\n"
     ]
    }
   ],
   "source": [
    "mortality = pd.concat([mortality_tr, mortality_te], ignore_index = True)\n",
    "print(len(mortality), mortality.PatientID.is_unique)"
   ]
  },
  {
   "cell_type": "code",
   "execution_count": 366,
   "id": "b8cf6d51",
   "metadata": {},
   "outputs": [],
   "source": [
    "mortality.loc[:, 'last_activity'] = pd.to_datetime(mortality['last_activity'])"
   ]
  },
  {
   "cell_type": "code",
   "execution_count": 367,
   "id": "1894e36e",
   "metadata": {},
   "outputs": [],
   "source": [
    "mortality.loc[:, 'death_date'] = pd.to_datetime(mortality['death_date'])"
   ]
  },
  {
   "cell_type": "code",
   "execution_count": 368,
   "id": "7309e340",
   "metadata": {},
   "outputs": [],
   "source": [
    "checkmate = pd.merge(checkmate, mortality, on = 'PatientID', how = 'left')"
   ]
  },
  {
   "cell_type": "code",
   "execution_count": 369,
   "id": "702bcb16",
   "metadata": {},
   "outputs": [
    {
     "data": {
      "text/plain": [
       "(4142, 4142)"
      ]
     },
     "execution_count": 369,
     "metadata": {},
     "output_type": "execute_result"
    }
   ],
   "source": [
    "row_ID(checkmate)"
   ]
  },
  {
   "cell_type": "code",
   "execution_count": 370,
   "id": "65085b3b",
   "metadata": {},
   "outputs": [],
   "source": [
    "conditions = [\n",
    "    (checkmate['death_status'] == 1),\n",
    "    (checkmate['death_status'] == 0)]\n",
    "\n",
    "choices = [\n",
    "    (checkmate['death_date'] - checkmate['StartDate']).dt.days,\n",
    "    (checkmate['last_activity'] - checkmate['StartDate']).dt.days]\n",
    "\n",
    "checkmate.loc[:, 'timerisk_treatment'] = np.select(conditions, choices)"
   ]
  },
  {
   "cell_type": "code",
   "execution_count": 371,
   "id": "1b23adee",
   "metadata": {},
   "outputs": [],
   "source": [
    "checkmate = checkmate.query('timerisk_treatment >= 0')"
   ]
  },
  {
   "cell_type": "markdown",
   "id": "5d8761cc",
   "metadata": {},
   "source": [
    "#### Patient count "
   ]
  },
  {
   "cell_type": "code",
   "execution_count": 372,
   "id": "07fceb80",
   "metadata": {},
   "outputs": [],
   "source": [
    "checkmate = (\n",
    "    checkmate\n",
    "    .query('EGFR != \"positive\"')\n",
    "    .query('ALK != \"positive\"')\n",
    ")"
   ]
  },
  {
   "cell_type": "code",
   "execution_count": 373,
   "id": "a26b6aca",
   "metadata": {},
   "outputs": [
    {
     "data": {
      "text/plain": [
       "(4073, 4073)"
      ]
     },
     "execution_count": 373,
     "metadata": {},
     "output_type": "execute_result"
    }
   ],
   "source": [
    "row_ID(checkmate)"
   ]
  },
  {
   "cell_type": "code",
   "execution_count": 374,
   "id": "526fb8a8",
   "metadata": {},
   "outputs": [],
   "source": [
    "# Exclude those with autoimmune conditions. \n",
    "checkmate = checkmate[~checkmate['PatientID'].isin(auto_IDs)]"
   ]
  },
  {
   "cell_type": "code",
   "execution_count": 375,
   "id": "6e942dba",
   "metadata": {},
   "outputs": [],
   "source": [
    "# Exclude those with other relevant comorbidities\n",
    "checkmate = checkmate[~checkmate['PatientID'].isin(other_comorb_IDs)]"
   ]
  },
  {
   "cell_type": "code",
   "execution_count": 376,
   "id": "93319566",
   "metadata": {},
   "outputs": [],
   "source": [
    "# Exlcude those with CNS metastasis \n",
    "checkmate = checkmate[~checkmate['PatientID'].isin(cns_sec_IDs)]"
   ]
  },
  {
   "cell_type": "code",
   "execution_count": 377,
   "id": "a23bade9",
   "metadata": {},
   "outputs": [],
   "source": [
    "# Include only those with ECOG 2, 3, or 4 \n",
    "checkmate = checkmate[~checkmate['PatientID'].isin(ecog_sec_IDs)]"
   ]
  },
  {
   "cell_type": "code",
   "execution_count": 378,
   "id": "e632be55",
   "metadata": {},
   "outputs": [
    {
     "data": {
      "text/plain": [
       "(3045, 3045)"
      ]
     },
     "execution_count": 378,
     "metadata": {},
     "output_type": "execute_result"
    }
   ],
   "source": [
    "row_ID(checkmate)"
   ]
  },
  {
   "cell_type": "code",
   "execution_count": 379,
   "id": "b111ad91",
   "metadata": {},
   "outputs": [],
   "source": [
    "low_cutoff_078 = cutoff.loc['checkmate_078'].low"
   ]
  },
  {
   "cell_type": "code",
   "execution_count": 380,
   "id": "6421790f",
   "metadata": {},
   "outputs": [],
   "source": [
    "high_cutoff_078 = cutoff.loc['checkmate_078'].high"
   ]
  },
  {
   "cell_type": "code",
   "execution_count": 381,
   "id": "49e08dd2",
   "metadata": {},
   "outputs": [
    {
     "name": "stdout",
     "output_type": "stream",
     "text": [
      "Nivolumab total: 2460\n",
      "High risk: 703\n",
      "Med risk: 867\n",
      "Low risk: 890\n"
     ]
    }
   ],
   "source": [
    "print('Nivolumab total:',  checkmate.query('nivo == 1').shape[0])\n",
    "print('High risk:', checkmate.query('nivo == 1').query('risk_score >= @high_cutoff_078').shape[0])\n",
    "print('Med risk:', checkmate.query('nivo == 1').query('risk_score < @high_cutoff_078 and risk_score > @low_cutoff_078').shape[0])\n",
    "print('Low risk:', checkmate.query('nivo == 1').query('risk_score <= @low_cutoff_078').shape[0])"
   ]
  },
  {
   "cell_type": "code",
   "execution_count": 382,
   "id": "a0a146f5",
   "metadata": {},
   "outputs": [
    {
     "name": "stdout",
     "output_type": "stream",
     "text": [
      "Docetaxel total: 585\n",
      "High risk: 174\n",
      "Med risk: 202\n",
      "Low risk: 209\n"
     ]
    }
   ],
   "source": [
    "print('Docetaxel total:',  checkmate.query('nivo == 0').shape[0])\n",
    "print('High risk:', checkmate.query('nivo == 0').query('risk_score >= @high_cutoff_078').shape[0])\n",
    "print('Med risk:', checkmate.query('nivo == 0').query('risk_score < @high_cutoff_078 and risk_score > @low_cutoff_078').shape[0])\n",
    "print('Low risk:', checkmate.query('nivo == 0').query('risk_score <= @low_cutoff_078').shape[0])"
   ]
  },
  {
   "cell_type": "markdown",
   "id": "86a11765",
   "metadata": {},
   "source": [
    "#### Survival curves with covariate balancing "
   ]
  },
  {
   "cell_type": "code",
   "execution_count": 383,
   "id": "90ef65db",
   "metadata": {},
   "outputs": [],
   "source": [
    "checkmate = checkmate.set_index('PatientID')"
   ]
  },
  {
   "cell_type": "code",
   "execution_count": 384,
   "id": "6b611f5f",
   "metadata": {},
   "outputs": [],
   "source": [
    "check_iptw = checkmate.filter(items = ['death_status',\n",
    "                                       'timerisk_treatment',\n",
    "                                       'nivo',\n",
    "                                       'age',\n",
    "                                       'gender',\n",
    "                                       'race',\n",
    "                                       'PracticeType',\n",
    "                                       'Histology',\n",
    "                                       'adv_year',\n",
    "                                       'delta_adv_diagnosis',\n",
    "                                       'commercial',\n",
    "                                       'medicare',\n",
    "                                       'medicaid',\n",
    "                                       'ecog_diagnosis',\n",
    "                                       'pdl1',\n",
    "                                       'albumin_diag', \n",
    "                                       'weight_pct_change',\n",
    "                                       'risk_score'])"
   ]
  },
  {
   "cell_type": "code",
   "execution_count": 385,
   "id": "65e2f1a2",
   "metadata": {},
   "outputs": [],
   "source": [
    "check_iptw['met_cat'] = pd.cut(check_iptw['adv_year'],\n",
    "                               bins = [2010, 2015, float('inf')],\n",
    "                               labels = ['11-15', '16-20'])"
   ]
  },
  {
   "cell_type": "code",
   "execution_count": 386,
   "id": "f5c151b4",
   "metadata": {},
   "outputs": [],
   "source": [
    "conditions = [\n",
    "    ((check_iptw['pdl1'] == \"1-49%\") | (check_iptw['pdl1'] == \"50-100%\"))]\n",
    "\n",
    "choices = ['>0%']\n",
    "\n",
    "check_iptw['pdl1_cat'] = np.select(conditions, choices, default = check_iptw['pdl1'])"
   ]
  },
  {
   "cell_type": "code",
   "execution_count": 387,
   "id": "0dad61a3",
   "metadata": {},
   "outputs": [],
   "source": [
    "conditions = [\n",
    "    ((check_iptw['ecog_diagnosis'] == \"1.0\") | (check_iptw['ecog_diagnosis'] == \"0.0\")),  \n",
    "    ((check_iptw['ecog_diagnosis'] == \"2.0\") | (check_iptw['ecog_diagnosis'] == \"3.0\"))\n",
    "]\n",
    "\n",
    "choices = ['lt_2', 'gte_2']\n",
    "\n",
    "check_iptw['ecog_2'] = np.select(conditions, choices, default = 'unknown')"
   ]
  },
  {
   "cell_type": "code",
   "execution_count": 388,
   "id": "44a45fb5",
   "metadata": {},
   "outputs": [
    {
     "data": {
      "text/plain": [
       "death_status               bool\n",
       "timerisk_treatment      float64\n",
       "nivo                      int64\n",
       "age                       int64\n",
       "gender                   object\n",
       "race                     object\n",
       "PracticeType             object\n",
       "Histology                object\n",
       "adv_year                  int64\n",
       "delta_adv_diagnosis       int64\n",
       "commercial              float64\n",
       "medicare                float64\n",
       "medicaid                float64\n",
       "ecog_diagnosis           object\n",
       "pdl1                     object\n",
       "albumin_diag            float64\n",
       "weight_pct_change       float64\n",
       "risk_score              float64\n",
       "met_cat                category\n",
       "pdl1_cat                 object\n",
       "ecog_2                   object\n",
       "dtype: object"
      ]
     },
     "execution_count": 388,
     "metadata": {},
     "output_type": "execute_result"
    }
   ],
   "source": [
    "check_iptw.dtypes"
   ]
  },
  {
   "cell_type": "code",
   "execution_count": 389,
   "id": "bfa3d033",
   "metadata": {},
   "outputs": [],
   "source": [
    "to_be_categorical = list(check_iptw.select_dtypes(include = ['object']).columns)"
   ]
  },
  {
   "cell_type": "code",
   "execution_count": 390,
   "id": "6c099487",
   "metadata": {},
   "outputs": [
    {
     "data": {
      "text/plain": [
       "['gender',\n",
       " 'race',\n",
       " 'PracticeType',\n",
       " 'Histology',\n",
       " 'ecog_diagnosis',\n",
       " 'pdl1',\n",
       " 'pdl1_cat',\n",
       " 'ecog_2']"
      ]
     },
     "execution_count": 390,
     "metadata": {},
     "output_type": "execute_result"
    }
   ],
   "source": [
    "to_be_categorical"
   ]
  },
  {
   "cell_type": "code",
   "execution_count": 391,
   "id": "b6fd99c5",
   "metadata": {},
   "outputs": [],
   "source": [
    "to_be_categorical.append('met_cat')"
   ]
  },
  {
   "cell_type": "code",
   "execution_count": 392,
   "id": "af19556e",
   "metadata": {},
   "outputs": [],
   "source": [
    "to_be_categorical.remove('pdl1')"
   ]
  },
  {
   "cell_type": "code",
   "execution_count": 393,
   "id": "9f519841",
   "metadata": {},
   "outputs": [],
   "source": [
    "to_be_categorical.remove('ecog_diagnosis')"
   ]
  },
  {
   "cell_type": "code",
   "execution_count": 394,
   "id": "8519b06a",
   "metadata": {},
   "outputs": [],
   "source": [
    "# Convert variables in list to categorical.\n",
    "for x in list(to_be_categorical):\n",
    "    check_iptw[x] = check_iptw[x].astype('category')"
   ]
  },
  {
   "cell_type": "code",
   "execution_count": 395,
   "id": "651c0edc",
   "metadata": {},
   "outputs": [],
   "source": [
    "# List of numeric variables, excluding binary variables. \n",
    "numerical_features = ['age', 'delta_adv_diagnosis', 'albumin_diag', 'weight_pct_change', 'risk_score']\n",
    "\n",
    "# Transformer will first calculate column median and impute, and then apply a standard scaler. \n",
    "numerical_transformer = Pipeline(steps = [\n",
    "    ('imputer', SimpleImputer(strategy = 'median')),\n",
    "    ('std_scaler', StandardScaler())])"
   ]
  },
  {
   "cell_type": "code",
   "execution_count": 396,
   "id": "99f75f6c",
   "metadata": {},
   "outputs": [],
   "source": [
    "# List of categorical features.\n",
    "categorical_features = list(check_iptw.select_dtypes(include = ['category']).columns)\n",
    "\n",
    "# One-hot-encode categorical features.\n",
    "categorical_transformer = OneHotEncoder(handle_unknown = 'ignore')"
   ]
  },
  {
   "cell_type": "code",
   "execution_count": 397,
   "id": "514ba9e7",
   "metadata": {},
   "outputs": [],
   "source": [
    "preprocessor = ColumnTransformer(\n",
    "    transformers = [\n",
    "        ('num', numerical_transformer, numerical_features),\n",
    "        ('cat', categorical_transformer, categorical_features)],\n",
    "    remainder = 'passthrough')"
   ]
  },
  {
   "cell_type": "code",
   "execution_count": 398,
   "id": "6dbab9d8",
   "metadata": {},
   "outputs": [],
   "source": [
    "check_iptw_low = (\n",
    "    check_iptw\n",
    "    .query('risk_score <= @low_cutoff_078'))\n",
    "\n",
    "check_iptw_med = (\n",
    "    check_iptw\n",
    "    .query('risk_score < @high_cutoff_078 and risk_score > @low_cutoff_078'))\n",
    "\n",
    "check_iptw_high = (\n",
    "    check_iptw\n",
    "    .query('risk_score >= @high_cutoff_078'))\n",
    "\n",
    "check_iptw_all = check_iptw"
   ]
  },
  {
   "cell_type": "code",
   "execution_count": 399,
   "id": "17121b54",
   "metadata": {},
   "outputs": [],
   "source": [
    "check_low_x = preprocessor.fit_transform(check_iptw_low.filter(items = ['age',\n",
    "                                                                        'gender',\n",
    "                                                                        'race',\n",
    "                                                                        'PracticeType',\n",
    "                                                                        'Histology',\n",
    "                                                                        'met_cat',\n",
    "                                                                        'delta_adv_diagnosis',\n",
    "                                                                        'commercial',\n",
    "                                                                        'medicare',\n",
    "                                                                        'medicaid',\n",
    "                                                                        'ecog_2',\n",
    "                                                                        'pdl1_cat',\n",
    "                                                                        'albumin_diag',\n",
    "                                                                        'weight_pct_change',\n",
    "                                                                        'risk_score']))\n",
    "\n",
    "check_med_x = preprocessor.fit_transform(check_iptw_med.filter(items = ['age',\n",
    "                                                                        'gender',\n",
    "                                                                        'race',\n",
    "                                                                        'PracticeType',\n",
    "                                                                        'Histology',\n",
    "                                                                        'met_cat',\n",
    "                                                                        'delta_adv_diagnosis',\n",
    "                                                                        'commercial',\n",
    "                                                                        'medicare',\n",
    "                                                                        'medicaid',\n",
    "                                                                        'ecog_2',\n",
    "                                                                        'pdl1_cat',\n",
    "                                                                        'albumin_diag',\n",
    "                                                                        'weight_pct_change',\n",
    "                                                                        'risk_score']))\n",
    "\n",
    "check_high_x = preprocessor.fit_transform(check_iptw_high.filter(items = ['age',\n",
    "                                                                          'gender',\n",
    "                                                                          'race',\n",
    "                                                                          'PracticeType',\n",
    "                                                                          'Histology',\n",
    "                                                                          'met_cat',\n",
    "                                                                          'delta_adv_diagnosis',\n",
    "                                                                          'commercial',\n",
    "                                                                          'medicare',\n",
    "                                                                          'medicaid',\n",
    "                                                                          'ecog_2',\n",
    "                                                                          'pdl1_cat',\n",
    "                                                                          'albumin_diag',\n",
    "                                                                          'weight_pct_change',\n",
    "                                                                          'risk_score']))\n",
    "\n",
    "check_all_x = preprocessor.fit_transform(check_iptw_all.filter(items = ['age',\n",
    "                                                                        'gender',\n",
    "                                                                        'race',\n",
    "                                                                        'PracticeType',\n",
    "                                                                        'Histology',\n",
    "                                                                        'met_cat',\n",
    "                                                                        'delta_adv_diagnosis',\n",
    "                                                                        'commercial',\n",
    "                                                                        'medicare',\n",
    "                                                                        'medicaid',\n",
    "                                                                        'ecog_2',\n",
    "                                                                        'pdl1_cat',\n",
    "                                                                        'albumin_diag',\n",
    "                                                                        'weight_pct_change',\n",
    "                                                                        'risk_score']))"
   ]
  },
  {
   "cell_type": "code",
   "execution_count": 400,
   "id": "a9cd23ee",
   "metadata": {},
   "outputs": [
    {
     "data": {
      "text/plain": [
       "LogisticRegression(max_iter=1000)"
      ]
     },
     "execution_count": 400,
     "metadata": {},
     "output_type": "execute_result"
    }
   ],
   "source": [
    "lr_check_low = LogisticRegression(max_iter = 1000)\n",
    "lr_check_low.fit(check_low_x, check_iptw_low['nivo'])"
   ]
  },
  {
   "cell_type": "code",
   "execution_count": 401,
   "id": "bc889bf1",
   "metadata": {},
   "outputs": [
    {
     "data": {
      "text/plain": [
       "LogisticRegression(max_iter=1000)"
      ]
     },
     "execution_count": 401,
     "metadata": {},
     "output_type": "execute_result"
    }
   ],
   "source": [
    "lr_check_med = LogisticRegression(max_iter = 1000)\n",
    "lr_check_med.fit(check_med_x, check_iptw_med['nivo'])"
   ]
  },
  {
   "cell_type": "code",
   "execution_count": 402,
   "id": "41fed10e",
   "metadata": {},
   "outputs": [
    {
     "data": {
      "text/plain": [
       "LogisticRegression(max_iter=1000)"
      ]
     },
     "execution_count": 402,
     "metadata": {},
     "output_type": "execute_result"
    }
   ],
   "source": [
    "lr_check_high = LogisticRegression(max_iter = 1000)\n",
    "lr_check_high.fit(check_high_x, check_iptw_high['nivo'])"
   ]
  },
  {
   "cell_type": "code",
   "execution_count": 403,
   "id": "aab0e951",
   "metadata": {},
   "outputs": [
    {
     "data": {
      "text/plain": [
       "LogisticRegression(max_iter=1000)"
      ]
     },
     "execution_count": 403,
     "metadata": {},
     "output_type": "execute_result"
    }
   ],
   "source": [
    "lr_check_all = LogisticRegression(max_iter = 1000)\n",
    "lr_check_all.fit(check_all_x, check_iptw_all['nivo'])"
   ]
  },
  {
   "cell_type": "code",
   "execution_count": 404,
   "id": "5a199eff",
   "metadata": {},
   "outputs": [],
   "source": [
    "pred_low = lr_check_low.predict_proba(check_low_x)\n",
    "pred_med = lr_check_med.predict_proba(check_med_x)\n",
    "pred_high = lr_check_high.predict_proba(check_high_x)\n",
    "pred_all = lr_check_all.predict_proba(check_all_x)"
   ]
  },
  {
   "cell_type": "code",
   "execution_count": 405,
   "id": "bf8d26e9",
   "metadata": {},
   "outputs": [
    {
     "name": "stderr",
     "output_type": "stream",
     "text": [
      "/Users/xavierorcutt/Dropbox/ist_project/myenv/lib/python3.7/site-packages/ipykernel_launcher.py:1: SettingWithCopyWarning: \n",
      "A value is trying to be set on a copy of a slice from a DataFrame.\n",
      "Try using .loc[row_indexer,col_indexer] = value instead\n",
      "\n",
      "See the caveats in the documentation: https://pandas.pydata.org/pandas-docs/stable/user_guide/indexing.html#returning-a-view-versus-a-copy\n",
      "  \"\"\"Entry point for launching an IPython kernel.\n",
      "/Users/xavierorcutt/Dropbox/ist_project/myenv/lib/python3.7/site-packages/ipykernel_launcher.py:2: SettingWithCopyWarning: \n",
      "A value is trying to be set on a copy of a slice from a DataFrame.\n",
      "Try using .loc[row_indexer,col_indexer] = value instead\n",
      "\n",
      "See the caveats in the documentation: https://pandas.pydata.org/pandas-docs/stable/user_guide/indexing.html#returning-a-view-versus-a-copy\n",
      "  \n",
      "/Users/xavierorcutt/Dropbox/ist_project/myenv/lib/python3.7/site-packages/ipykernel_launcher.py:3: SettingWithCopyWarning: \n",
      "A value is trying to be set on a copy of a slice from a DataFrame.\n",
      "Try using .loc[row_indexer,col_indexer] = value instead\n",
      "\n",
      "See the caveats in the documentation: https://pandas.pydata.org/pandas-docs/stable/user_guide/indexing.html#returning-a-view-versus-a-copy\n",
      "  This is separate from the ipykernel package so we can avoid doing imports until\n"
     ]
    }
   ],
   "source": [
    "check_iptw_low['ps'] = pred_low[:, 1]\n",
    "check_iptw_med['ps'] = pred_med[:, 1]\n",
    "check_iptw_high['ps'] = pred_high[:, 1]\n",
    "check_iptw_all['ps'] = pred_all[:, 1]"
   ]
  },
  {
   "cell_type": "code",
   "execution_count": 406,
   "id": "6bcedf50",
   "metadata": {},
   "outputs": [
    {
     "name": "stderr",
     "output_type": "stream",
     "text": [
      "/Users/xavierorcutt/Dropbox/ist_project/myenv/lib/python3.7/site-packages/ipykernel_launcher.py:2: SettingWithCopyWarning: \n",
      "A value is trying to be set on a copy of a slice from a DataFrame.\n",
      "Try using .loc[row_indexer,col_indexer] = value instead\n",
      "\n",
      "See the caveats in the documentation: https://pandas.pydata.org/pandas-docs/stable/user_guide/indexing.html#returning-a-view-versus-a-copy\n",
      "  \n",
      "/Users/xavierorcutt/Dropbox/ist_project/myenv/lib/python3.7/site-packages/ipykernel_launcher.py:5: SettingWithCopyWarning: \n",
      "A value is trying to be set on a copy of a slice from a DataFrame.\n",
      "Try using .loc[row_indexer,col_indexer] = value instead\n",
      "\n",
      "See the caveats in the documentation: https://pandas.pydata.org/pandas-docs/stable/user_guide/indexing.html#returning-a-view-versus-a-copy\n",
      "  \"\"\"\n",
      "/Users/xavierorcutt/Dropbox/ist_project/myenv/lib/python3.7/site-packages/ipykernel_launcher.py:8: SettingWithCopyWarning: \n",
      "A value is trying to be set on a copy of a slice from a DataFrame.\n",
      "Try using .loc[row_indexer,col_indexer] = value instead\n",
      "\n",
      "See the caveats in the documentation: https://pandas.pydata.org/pandas-docs/stable/user_guide/indexing.html#returning-a-view-versus-a-copy\n",
      "  \n"
     ]
    }
   ],
   "source": [
    "check_iptw_low['weight'] = (\n",
    "    np.where(check_iptw_low['nivo'] == 1, 1/check_iptw_low['ps'], 1/(1 - check_iptw_low['ps'])))\n",
    "\n",
    "check_iptw_med['weight'] = (\n",
    "    np.where(check_iptw_med['nivo'] == 1, 1/check_iptw_med['ps'], 1/(1 - check_iptw_med['ps'])))\n",
    "\n",
    "check_iptw_high['weight'] = (\n",
    "    np.where(check_iptw_high['nivo'] == 1, 1/check_iptw_high['ps'], 1/(1 - check_iptw_high['ps'])))\n",
    "\n",
    "check_iptw_all['weight'] = (\n",
    "    np.where(check_iptw_all['nivo'] == 1, 1/check_iptw_all['ps'], 1/(1 - check_iptw_all['ps'])))"
   ]
  },
  {
   "cell_type": "code",
   "execution_count": 407,
   "id": "ea9d4154",
   "metadata": {},
   "outputs": [
    {
     "name": "stderr",
     "output_type": "stream",
     "text": [
      "/Users/xavierorcutt/Dropbox/ist_project/myenv/lib/python3.7/site-packages/lifelines/fitters/kaplan_meier_fitter.py:344: StatisticalWarning: It looks like your weights are not integers, possibly propensity scores then?\n",
      "  It's important to know that the naive variance estimates of the coefficients are biased. Instead use Monte Carlo to\n",
      "  estimate the variances. See paper \"Variance estimation when using inverse probability of treatment weighting (IPTW) with survival analysis\"\n",
      "  or \"Adjusted Kaplan-Meier estimator and log-rank test with inverse probability of treatment weighting for survival data.\"\n",
      "                  \n",
      "  StatisticalWarning,\n"
     ]
    },
    {
     "data": {
      "text/plain": [
       "<lifelines.KaplanMeierFitter:\"KM_estimate\", fitted with 3367.23 total observations, 698.864 right-censored observations>"
      ]
     },
     "execution_count": 407,
     "metadata": {},
     "output_type": "execute_result"
    }
   ],
   "source": [
    "# Low KM curves\n",
    "kmf_low_nivo_check_iptw = KaplanMeierFitter()\n",
    "kmf_low_dotx_check_iptw = KaplanMeierFitter()\n",
    "\n",
    "kmf_low_nivo_check_iptw.fit(\n",
    "    check_iptw_low.query('nivo == 1').timerisk_treatment/30,\n",
    "    check_iptw_low.query('nivo == 1').death_status,\n",
    "    weights = check_iptw_low.query('nivo == 1')['weight'])\n",
    "\n",
    "kmf_low_dotx_check_iptw.fit(\n",
    "    check_iptw_low.query('nivo == 0').timerisk_treatment/30,\n",
    "    check_iptw_low.query('nivo == 0').death_status,\n",
    "    weights = check_iptw_low.query('nivo == 0')['weight'])\n",
    "\n",
    "# Med KM curves\n",
    "kmf_med_nivo_check_iptw = KaplanMeierFitter()\n",
    "kmf_med_dotx_check_iptw = KaplanMeierFitter()\n",
    "\n",
    "kmf_med_nivo_check_iptw.fit(\n",
    "    check_iptw_med.query('nivo == 1').timerisk_treatment/30,\n",
    "    check_iptw_med.query('nivo == 1').death_status,\n",
    "    weights = check_iptw_med.query('nivo == 1')['weight'])\n",
    "\n",
    "kmf_med_dotx_check_iptw.fit(\n",
    "    check_iptw_med.query('nivo == 0').timerisk_treatment/30,\n",
    "    check_iptw_med.query('nivo == 0').death_status,\n",
    "    weights = check_iptw_med.query('nivo == 0')['weight'])\n",
    "\n",
    "# High KM curves \n",
    "kmf_high_nivo_check_iptw = KaplanMeierFitter()\n",
    "kmf_high_dotx_check_iptw = KaplanMeierFitter()\n",
    "\n",
    "kmf_high_nivo_check_iptw.fit(\n",
    "    check_iptw_high.query('nivo == 1').timerisk_treatment/30,\n",
    "    check_iptw_high.query('nivo == 1').death_status,\n",
    "    weights = check_iptw_high.query('nivo == 1')['weight'])\n",
    "\n",
    "kmf_high_dotx_check_iptw.fit(\n",
    "    check_iptw_high.query('nivo == 0').timerisk_treatment/30,\n",
    "    check_iptw_high.query('nivo == 0').death_status,\n",
    "    weights = check_iptw_high.query('nivo == 0')['weight'])\n",
    "\n",
    "# All KM curves \n",
    "kmf_all_nivo_check_iptw = KaplanMeierFitter()\n",
    "kmf_all_dotx_check_iptw = KaplanMeierFitter()\n",
    "\n",
    "kmf_all_nivo_check_iptw.fit(\n",
    "    check_iptw_all.query('nivo == 1').timerisk_treatment/30,\n",
    "    check_iptw_all.query('nivo == 1').death_status,\n",
    "    weights = check_iptw_all.query('nivo == 1')['weight'])\n",
    "\n",
    "kmf_all_dotx_check_iptw.fit(\n",
    "    check_iptw_all.query('nivo == 0').timerisk_treatment/30,\n",
    "    check_iptw_all.query('nivo == 0').death_status,\n",
    "    weights = check_iptw_all.query('nivo == 0')['weight'])"
   ]
  },
  {
   "cell_type": "code",
   "execution_count": 408,
   "id": "ae4cd856",
   "metadata": {},
   "outputs": [
    {
     "data": {
      "image/png": "[encoded data removed]",
      "text/plain": [
       "<Figure size 1800x600 with 5 Axes>"
      ]
     },
     "metadata": {},
     "output_type": "display_data"
    }
   ],
   "source": [
    "fig = plt.figure(figsize=(18, 6))\n",
    "\n",
    "# Plot survival curves for low risk group \n",
    "plt.subplot(1, 4, 1)\n",
    "\n",
    "plt.step(kmf_low_nivo_check_iptw.timeline, kmf_low_nivo_check_iptw.survival_function_.values*100, color = 'red', alpha = 0.5)\n",
    "\n",
    "plt.step(kmf_low_dotx_check_iptw.timeline, kmf_low_dotx_check_iptw.survival_function_.values*100, color = 'black', alpha = 0.5)\n",
    "\n",
    "plt.xticks(np.arange(0, 37, 6))\n",
    "plt.xlim(0, 37)\n",
    "plt.ylim(0, 100)\n",
    "\n",
    "plt.title('Low-risk', weight = 'bold')\n",
    "plt.ylabel('Overall survival (%)', size = 12, weight = 'bold')\n",
    "\n",
    "plt.gca().spines['top'].set_visible(False)\n",
    "plt.gca().spines['right'].set_visible(False)\n",
    "\n",
    "# Plot survival curves for med risk group. \n",
    "plt.subplot(1, 4, 2)\n",
    "\n",
    "plt.step(kmf_med_nivo_check_iptw.timeline, kmf_med_nivo_check_iptw.survival_function_.values*100, color = 'red', alpha = 0.5)\n",
    "\n",
    "plt.step(kmf_med_dotx_check_iptw.timeline, kmf_med_dotx_check_iptw.survival_function_.values*100, color = 'black', alpha = 0.5)\n",
    "\n",
    "plt.xticks(np.arange(0, 37, 6))\n",
    "plt.xlim(0, 37)\n",
    "plt.ylim(0, 100)\n",
    "\n",
    "plt.title('Med-risk', weight = 'bold')\n",
    "\n",
    "plt.gca().spines['top'].set_visible(False)\n",
    "plt.gca().spines['right'].set_visible(False)\n",
    "\n",
    "# Plot survival curves by treatment for high risk group. \n",
    "plt.subplot(1, 4, 3)\n",
    "\n",
    "plt.step(kmf_high_nivo_check_iptw.timeline, kmf_high_nivo_check_iptw.survival_function_.values*100, color = 'red', alpha = 0.5)\n",
    "\n",
    "plt.step(kmf_high_dotx_check_iptw.timeline, kmf_high_dotx_check_iptw.survival_function_.values*100, color = 'black', alpha = 0.5)\n",
    "\n",
    "plt.xticks(np.arange(0, 37, 6))\n",
    "plt.xlim(0, 37)\n",
    "plt.ylim(0, 100)\n",
    "\n",
    "plt.title('High-risk', weight = 'bold')\n",
    "\n",
    "plt.gca().spines['top'].set_visible(False)\n",
    "plt.gca().spines['right'].set_visible(False)\n",
    "\n",
    "# Plot survival curves by treatment for all risk group. \n",
    "plt.subplot(1, 4, 4)\n",
    "\n",
    "plt.step(kmf_all_nivo_check_iptw.timeline, kmf_all_nivo_check_iptw.survival_function_.values*100, color = 'red', alpha = 0.5, label = 'Nivolumab')\n",
    "\n",
    "plt.step(kmf_all_dotx_check_iptw.timeline, kmf_all_dotx_check_iptw.survival_function_.values*100, color = 'black', alpha = 0.5, label = 'Docetaxel')\n",
    "\n",
    "plt.xticks(np.arange(0, 37, 6))\n",
    "plt.xlim(0, 37)\n",
    "plt.ylim(0, 100)\n",
    "\n",
    "plt.title('Full cohort', weight = 'bold')\n",
    "\n",
    "plt.gca().spines['top'].set_visible(False)\n",
    "plt.gca().spines['right'].set_visible(False)\n",
    "\n",
    "plt.legend(loc = 'center right', prop = {'size': 9})\n",
    "\n",
    "fig.add_subplot(1, 1, 1, frameon = False)\n",
    "plt.tick_params(labelcolor = 'none', which = 'both', top = False, bottom = False, left = False, right = False)\n",
    "plt.xlabel('Months after treatment', labelpad = 15, size = 12, weight = 'bold')\n",
    "plt.title('CHECKMATE-078: Overall survival for second-line nivolumab vs. docetaxel', pad = 40, size = 15, weight = 'bold')\n",
    "\n",
    "plt.show()"
   ]
  },
  {
   "cell_type": "markdown",
   "id": "ffe5ca59",
   "metadata": {},
   "source": [
    "## FLAURA: osimertinib vs. gefitinib or erlotinib\n",
    "\n",
    "**INCLUSION CRITERIA**\n",
    "* Untreated stage IV NSCLC\n",
    "* Received first line osimertinib or gefitinib or erlotinib\n",
    "* No autoimmune diseases in the year preceding metastatic diagnosis \n",
    "* No history of ILD, HIV, Hep C, Hep B, severe psychiatric history, or drug use disorder in the year preceding metastatic diagnosis \n",
    "* No CNS metastasis at start of treatment \n",
    "* ECOG is not 2, 3, or 4 at start of treatment \n",
    "* Adeuquate organ function at start of treatment "
   ]
  },
  {
   "cell_type": "markdown",
   "id": "6ded322e",
   "metadata": {},
   "source": [
    "#### Osimertinib"
   ]
  },
  {
   "cell_type": "code",
   "execution_count": 409,
   "id": "bf16a9a0",
   "metadata": {},
   "outputs": [
    {
     "data": {
      "text/plain": [
       "68483"
      ]
     },
     "execution_count": 409,
     "metadata": {},
     "output_type": "execute_result"
    }
   ],
   "source": [
    "df_full = pd.read_csv('df_risk_crude.csv', index_col = 'PatientID', dtype = {'death_status': bool})\n",
    "df_full.index.nunique()"
   ]
  },
  {
   "cell_type": "code",
   "execution_count": 410,
   "id": "43865ac9",
   "metadata": {},
   "outputs": [],
   "source": [
    "line_therapy = pd.read_csv('LineOfTherapy.csv')"
   ]
  },
  {
   "cell_type": "code",
   "execution_count": 411,
   "id": "e32c114d",
   "metadata": {},
   "outputs": [],
   "source": [
    "flaura_osim = (\n",
    "    line_therapy[line_therapy['PatientID'].isin(df_full.index)]\n",
    "    .query('LineNumber == 1')\n",
    "    .query('IsMaintenanceTherapy == False')\n",
    "    .query('LineName == \"Osimertinib\"')\n",
    "    [['PatientID', 'StartDate']]\n",
    ")"
   ]
  },
  {
   "cell_type": "code",
   "execution_count": 412,
   "id": "a0ee0eac",
   "metadata": {},
   "outputs": [],
   "source": [
    "flaura_osim.loc[:, 'osim'] = 1"
   ]
  },
  {
   "cell_type": "code",
   "execution_count": 413,
   "id": "f7893a40",
   "metadata": {},
   "outputs": [
    {
     "data": {
      "text/plain": [
       "(1241, 1241)"
      ]
     },
     "execution_count": 413,
     "metadata": {},
     "output_type": "execute_result"
    }
   ],
   "source": [
    "row_ID(flaura_osim)"
   ]
  },
  {
   "cell_type": "markdown",
   "id": "9da67376",
   "metadata": {},
   "source": [
    "#### Gefitinib or Erlotinib"
   ]
  },
  {
   "cell_type": "code",
   "execution_count": 414,
   "id": "1c539149",
   "metadata": {},
   "outputs": [],
   "source": [
    "flaura_gefer = (\n",
    "    line_therapy[line_therapy['PatientID'].isin(df_full.index)]\n",
    "    .query('LineNumber == 1')\n",
    "    .query('IsMaintenanceTherapy == False')\n",
    "    .query('LineName == \"Gefitinib\" or LineName == \"Erlotinib\"')\n",
    "    [['PatientID', 'StartDate']]\n",
    ")"
   ]
  },
  {
   "cell_type": "code",
   "execution_count": 415,
   "id": "7d8e2ee1",
   "metadata": {},
   "outputs": [],
   "source": [
    "flaura_gefer.loc[:, 'osim'] = 0"
   ]
  },
  {
   "cell_type": "code",
   "execution_count": 416,
   "id": "bdff2027",
   "metadata": {},
   "outputs": [
    {
     "data": {
      "text/plain": [
       "(3003, 3003)"
      ]
     },
     "execution_count": 416,
     "metadata": {},
     "output_type": "execute_result"
    }
   ],
   "source": [
    "row_ID(flaura_gefer)"
   ]
  },
  {
   "cell_type": "code",
   "execution_count": 417,
   "id": "77d74f56",
   "metadata": {},
   "outputs": [],
   "source": [
    "flaura = pd.concat([flaura_osim, flaura_gefer])"
   ]
  },
  {
   "cell_type": "code",
   "execution_count": 418,
   "id": "e70a3296",
   "metadata": {},
   "outputs": [
    {
     "data": {
      "text/plain": [
       "(4244, 4244)"
      ]
     },
     "execution_count": 418,
     "metadata": {},
     "output_type": "execute_result"
    }
   ],
   "source": [
    "row_ID(flaura)"
   ]
  },
  {
   "cell_type": "code",
   "execution_count": 419,
   "id": "d209b353",
   "metadata": {},
   "outputs": [],
   "source": [
    "flaura = pd.merge(flaura, df_full, on = 'PatientID', how = 'left')"
   ]
  },
  {
   "cell_type": "code",
   "execution_count": 420,
   "id": "d467ea9d",
   "metadata": {},
   "outputs": [
    {
     "data": {
      "text/plain": [
       "(4244, 4244)"
      ]
     },
     "execution_count": 420,
     "metadata": {},
     "output_type": "execute_result"
    }
   ],
   "source": [
    "row_ID(flaura)"
   ]
  },
  {
   "cell_type": "code",
   "execution_count": 421,
   "id": "113cf202",
   "metadata": {},
   "outputs": [],
   "source": [
    "flaura['StartDate'] = pd.to_datetime(flaura['StartDate'])"
   ]
  },
  {
   "cell_type": "markdown",
   "id": "5f946094",
   "metadata": {},
   "source": [
    "#### Time from treatment to death/progression or censor "
   ]
  },
  {
   "cell_type": "code",
   "execution_count": 422,
   "id": "5b62f6f4",
   "metadata": {},
   "outputs": [],
   "source": [
    "mortality_tr = pd.read_csv('mortality_cleaned_tr.csv')"
   ]
  },
  {
   "cell_type": "code",
   "execution_count": 423,
   "id": "9ab089fc",
   "metadata": {},
   "outputs": [],
   "source": [
    "mortality_te = pd.read_csv('mortality_cleaned_te.csv')"
   ]
  },
  {
   "cell_type": "code",
   "execution_count": 424,
   "id": "caf1d7fe",
   "metadata": {},
   "outputs": [],
   "source": [
    "mortality_tr = mortality_tr[['PatientID', 'death_date', 'last_activity']]"
   ]
  },
  {
   "cell_type": "code",
   "execution_count": 425,
   "id": "73f272c1",
   "metadata": {},
   "outputs": [],
   "source": [
    "mortality_te = mortality_te[['PatientID', 'death_date', 'last_activity']]"
   ]
  },
  {
   "cell_type": "code",
   "execution_count": 426,
   "id": "f3b073a7",
   "metadata": {},
   "outputs": [
    {
     "data": {
      "text/plain": [
       "(68483, 68483)"
      ]
     },
     "execution_count": 426,
     "metadata": {},
     "output_type": "execute_result"
    }
   ],
   "source": [
    "mortality = pd.concat([mortality_tr, mortality_te], ignore_index = True)\n",
    "row_ID(mortality)"
   ]
  },
  {
   "cell_type": "code",
   "execution_count": 427,
   "id": "f69efeb0",
   "metadata": {},
   "outputs": [],
   "source": [
    "mortality.loc[:, 'last_activity'] = pd.to_datetime(mortality['last_activity'])"
   ]
  },
  {
   "cell_type": "code",
   "execution_count": 428,
   "id": "95eb5ae7",
   "metadata": {},
   "outputs": [],
   "source": [
    "mortality.loc[:, 'death_date'] = pd.to_datetime(mortality['death_date'])"
   ]
  },
  {
   "cell_type": "code",
   "execution_count": 429,
   "id": "27409757",
   "metadata": {},
   "outputs": [
    {
     "data": {
      "text/plain": [
       "(68483, 68483)"
      ]
     },
     "execution_count": 429,
     "metadata": {},
     "output_type": "execute_result"
    }
   ],
   "source": [
    "row_ID(mortality)"
   ]
  },
  {
   "cell_type": "code",
   "execution_count": 430,
   "id": "c4fe32de",
   "metadata": {},
   "outputs": [],
   "source": [
    "flaura = pd.merge(flaura, mortality, on = 'PatientID', how = 'left')"
   ]
  },
  {
   "cell_type": "code",
   "execution_count": 431,
   "id": "117c5254",
   "metadata": {},
   "outputs": [
    {
     "data": {
      "text/plain": [
       "(4244, 4244)"
      ]
     },
     "execution_count": 431,
     "metadata": {},
     "output_type": "execute_result"
    }
   ],
   "source": [
    "row_ID(flaura)"
   ]
  },
  {
   "cell_type": "code",
   "execution_count": 432,
   "id": "03c07798",
   "metadata": {},
   "outputs": [],
   "source": [
    "progression = pd.read_csv('Enhanced_AdvNSCLCProgression.csv')"
   ]
  },
  {
   "cell_type": "code",
   "execution_count": 433,
   "id": "bbdfd80d",
   "metadata": {},
   "outputs": [],
   "source": [
    "progression = progression[progression.PatientID.isin(flaura.PatientID)][['PatientID', 'ProgressionDate']]"
   ]
  },
  {
   "cell_type": "code",
   "execution_count": 434,
   "id": "1f4cb948",
   "metadata": {},
   "outputs": [],
   "source": [
    "progression['ProgressionDate'] = pd.to_datetime(progression['ProgressionDate'])"
   ]
  },
  {
   "cell_type": "code",
   "execution_count": 435,
   "id": "1797f275",
   "metadata": {},
   "outputs": [],
   "source": [
    "progression = (\n",
    "    progression\n",
    "    .sort_values(['PatientID', 'ProgressionDate'], ascending = [True, True])\n",
    "    .drop_duplicates(subset = 'PatientID', keep = 'first')\n",
    ")"
   ]
  },
  {
   "cell_type": "code",
   "execution_count": 436,
   "id": "b91c8ec3",
   "metadata": {},
   "outputs": [
    {
     "data": {
      "text/plain": [
       "(4243, 4243)"
      ]
     },
     "execution_count": 436,
     "metadata": {},
     "output_type": "execute_result"
    }
   ],
   "source": [
    "row_ID(progression)"
   ]
  },
  {
   "cell_type": "code",
   "execution_count": 437,
   "id": "836820c8",
   "metadata": {},
   "outputs": [],
   "source": [
    "flaura = pd.merge(flaura, progression, on = 'PatientID', how = 'left')"
   ]
  },
  {
   "cell_type": "code",
   "execution_count": 438,
   "id": "19b24bb2",
   "metadata": {},
   "outputs": [
    {
     "data": {
      "text/plain": [
       "(4244, 4244)"
      ]
     },
     "execution_count": 438,
     "metadata": {},
     "output_type": "execute_result"
    }
   ],
   "source": [
    "row_ID(flaura)"
   ]
  },
  {
   "cell_type": "code",
   "execution_count": 439,
   "id": "67625aa9",
   "metadata": {},
   "outputs": [
    {
     "data": {
      "text/plain": [
       "0.3437794533459001"
      ]
     },
     "execution_count": 439,
     "metadata": {},
     "output_type": "execute_result"
    }
   ],
   "source": [
    "# Percent without progression date in Flaura trial\n",
    "len(flaura.query('ProgressionDate.isna()', engine = 'python'))/len(flaura)"
   ]
  },
  {
   "cell_type": "code",
   "execution_count": 440,
   "id": "7d3aedf6",
   "metadata": {},
   "outputs": [],
   "source": [
    "conditions = [\n",
    "    (flaura.ProgressionDate.notna()),\n",
    "    ((flaura.ProgressionDate.isna()) & (flaura['death_status'] == 1)),\n",
    "    ((flaura.ProgressionDate.isna()) & (flaura['death_status'] == 0))]\n",
    "\n",
    "choices = [\n",
    "    (flaura['ProgressionDate'] - flaura['StartDate']).dt.days,\n",
    "    (flaura['death_date'] - flaura['StartDate']).dt.days,\n",
    "    (flaura['last_activity'] - flaura['StartDate']).dt.days]\n",
    "\n",
    "flaura.loc[:, 'time_prog_treatment'] = np.select(conditions, choices)"
   ]
  },
  {
   "cell_type": "code",
   "execution_count": 441,
   "id": "13ffc4b9",
   "metadata": {},
   "outputs": [],
   "source": [
    "flaura = flaura.query('time_prog_treatment >= 0')"
   ]
  },
  {
   "cell_type": "code",
   "execution_count": 442,
   "id": "b5958ee9",
   "metadata": {},
   "outputs": [
    {
     "data": {
      "text/plain": [
       "(3622, 3622)"
      ]
     },
     "execution_count": 442,
     "metadata": {},
     "output_type": "execute_result"
    }
   ],
   "source": [
    "row_ID(flaura)"
   ]
  },
  {
   "cell_type": "code",
   "execution_count": 443,
   "id": "49db6ae6",
   "metadata": {},
   "outputs": [],
   "source": [
    "conditions = [\n",
    "    (flaura.ProgressionDate.notna()),\n",
    "    ((flaura.ProgressionDate.isna()) & (flaura['death_status'] == 1)),\n",
    "    ((flaura.ProgressionDate.isna()) & (flaura['death_status'] == 0))]\n",
    "\n",
    "choices = [1, 1, 0]\n",
    "\n",
    "flaura.loc[:, 'pfs_status'] = np.select(conditions, choices)"
   ]
  },
  {
   "cell_type": "markdown",
   "id": "6989eaf5",
   "metadata": {},
   "source": [
    "#### Patient count"
   ]
  },
  {
   "cell_type": "code",
   "execution_count": 444,
   "id": "4f290a0b",
   "metadata": {},
   "outputs": [
    {
     "data": {
      "text/plain": [
       "(3622, 3622)"
      ]
     },
     "execution_count": 444,
     "metadata": {},
     "output_type": "execute_result"
    }
   ],
   "source": [
    "row_ID(flaura)"
   ]
  },
  {
   "cell_type": "code",
   "execution_count": 445,
   "id": "110c0a35",
   "metadata": {},
   "outputs": [],
   "source": [
    "# Exclude those with autoimmune conditions. \n",
    "flaura = flaura[~flaura['PatientID'].isin(auto_IDs)]"
   ]
  },
  {
   "cell_type": "code",
   "execution_count": 446,
   "id": "e373b6fd",
   "metadata": {},
   "outputs": [],
   "source": [
    "# Exclude those with other relevant comorbidities\n",
    "flaura = flaura[~flaura['PatientID'].isin(other_comorb_IDs)]"
   ]
  },
  {
   "cell_type": "code",
   "execution_count": 447,
   "id": "e1a58731",
   "metadata": {},
   "outputs": [],
   "source": [
    "# Exlcude those with CNS metastasis \n",
    "flaura = flaura[~flaura['PatientID'].isin(cns_fl_IDs)]"
   ]
  },
  {
   "cell_type": "code",
   "execution_count": 448,
   "id": "396e3e5a",
   "metadata": {},
   "outputs": [],
   "source": [
    "# Exclude those with ECOG 2, 3, or 4\n",
    "flaura = flaura[~flaura['PatientID'].isin(ecog_fl_IDs)]"
   ]
  },
  {
   "cell_type": "code",
   "execution_count": 449,
   "id": "cea45757",
   "metadata": {},
   "outputs": [],
   "source": [
    "# Exclude those with abnormal organ function\n",
    "flaura = flaura[~flaura['PatientID'].isin(ab_organ_IDs)]"
   ]
  },
  {
   "cell_type": "code",
   "execution_count": 450,
   "id": "0206a5b6",
   "metadata": {},
   "outputs": [
    {
     "data": {
      "text/plain": [
       "(2725, 2725)"
      ]
     },
     "execution_count": 450,
     "metadata": {},
     "output_type": "execute_result"
    }
   ],
   "source": [
    "row_ID(flaura)"
   ]
  },
  {
   "cell_type": "code",
   "execution_count": 451,
   "id": "f1e5d711",
   "metadata": {},
   "outputs": [],
   "source": [
    "low_cutoff_fl = cutoff.loc['flaura'].low"
   ]
  },
  {
   "cell_type": "code",
   "execution_count": 452,
   "id": "62ec8f23",
   "metadata": {},
   "outputs": [],
   "source": [
    "high_cutoff_fl = cutoff.loc['flaura'].high"
   ]
  },
  {
   "cell_type": "code",
   "execution_count": 453,
   "id": "55aaf169",
   "metadata": {},
   "outputs": [
    {
     "name": "stdout",
     "output_type": "stream",
     "text": [
      "Osimertinib total: 751\n",
      "High risk: 159\n",
      "Med risk: 234\n",
      "Low risk: 358\n"
     ]
    }
   ],
   "source": [
    "print('Osimertinib total:', flaura.query('osim == 1').shape[0])\n",
    "print('High risk:', flaura.query('osim == 1').query('risk_score >= @high_cutoff_fl').shape[0])\n",
    "print('Med risk:', flaura.query('osim == 1').query('risk_score < @high_cutoff_fl and risk_score > @low_cutoff_fl').shape[0])\n",
    "print('Low risk:', flaura.query('osim == 1').query('risk_score <= @low_cutoff_fl').shape[0])"
   ]
  },
  {
   "cell_type": "code",
   "execution_count": 454,
   "id": "f0505946",
   "metadata": {},
   "outputs": [
    {
     "name": "stdout",
     "output_type": "stream",
     "text": [
      "Gefitinib or Erlotinib total: 1974\n",
      "High risk: 579\n",
      "Med risk: 725\n",
      "Low risk: 670\n"
     ]
    }
   ],
   "source": [
    "print('Gefitinib or Erlotinib total:', flaura.query('osim == 0').shape[0])\n",
    "print('High risk:', flaura.query('osim == 0').query('risk_score >= @high_cutoff_fl').shape[0])\n",
    "print('Med risk:', flaura.query('osim == 0').query('risk_score < @high_cutoff_fl and risk_score > @low_cutoff_fl').shape[0])\n",
    "print('Low risk:', flaura.query('osim == 0').query('risk_score <= @low_cutoff_fl').shape[0])"
   ]
  },
  {
   "cell_type": "markdown",
   "id": "d4552cf1",
   "metadata": {},
   "source": [
    "#### PFS with covariate balancing "
   ]
  },
  {
   "cell_type": "code",
   "execution_count": 455,
   "id": "6a7ebbc6",
   "metadata": {},
   "outputs": [],
   "source": [
    "flaura = flaura.set_index('PatientID')"
   ]
  },
  {
   "cell_type": "code",
   "execution_count": 456,
   "id": "26efa9ca",
   "metadata": {},
   "outputs": [],
   "source": [
    "flaura['pfs_status'] = flaura['pfs_status'].astype('bool')"
   ]
  },
  {
   "cell_type": "code",
   "execution_count": 457,
   "id": "54b71cde",
   "metadata": {},
   "outputs": [],
   "source": [
    "flaura_iptw = flaura.filter(items = ['pfs_status',\n",
    "                                     'time_prog_treatment',\n",
    "                                     'osim',\n",
    "                                     'age',\n",
    "                                     'gender',\n",
    "                                     'race',\n",
    "                                     'PracticeType',\n",
    "                                     'adv_year',\n",
    "                                     'delta_adv_diagnosis',\n",
    "                                     'commercial',\n",
    "                                     'medicare',\n",
    "                                     'medicaid',\n",
    "                                     'ecog_diagnosis',\n",
    "                                     'albumin_diag',\n",
    "                                     'weight_pct_change',\n",
    "                                     'risk_score'])"
   ]
  },
  {
   "cell_type": "code",
   "execution_count": 458,
   "id": "2f2852b0",
   "metadata": {},
   "outputs": [],
   "source": [
    "flaura_iptw['met_cat'] = pd.cut(flaura_iptw['adv_year'],\n",
    "                                bins = [2010, 2018, float('inf')],\n",
    "                                labels = ['11-18', '19-21'])"
   ]
  },
  {
   "cell_type": "code",
   "execution_count": 459,
   "id": "2eab8ba2",
   "metadata": {},
   "outputs": [],
   "source": [
    "conditions = [\n",
    "    ((flaura_iptw['ecog_diagnosis'] == \"1.0\") | (flaura_iptw['ecog_diagnosis'] == \"0.0\")),  \n",
    "    ((flaura_iptw['ecog_diagnosis'] == \"2.0\") | (flaura_iptw['ecog_diagnosis'] == \"3.0\"))\n",
    "]\n",
    "\n",
    "choices = ['lt_2', 'gte_2']\n",
    "\n",
    "flaura_iptw['ecog_2'] = np.select(conditions, choices, default = 'unknown')"
   ]
  },
  {
   "cell_type": "code",
   "execution_count": 460,
   "id": "79f71787",
   "metadata": {},
   "outputs": [
    {
     "data": {
      "text/plain": [
       "pfs_status                 bool\n",
       "time_prog_treatment     float64\n",
       "osim                      int64\n",
       "age                       int64\n",
       "gender                   object\n",
       "race                     object\n",
       "PracticeType             object\n",
       "adv_year                  int64\n",
       "delta_adv_diagnosis       int64\n",
       "commercial              float64\n",
       "medicare                float64\n",
       "medicaid                float64\n",
       "ecog_diagnosis           object\n",
       "albumin_diag            float64\n",
       "weight_pct_change       float64\n",
       "risk_score              float64\n",
       "met_cat                category\n",
       "ecog_2                   object\n",
       "dtype: object"
      ]
     },
     "execution_count": 460,
     "metadata": {},
     "output_type": "execute_result"
    }
   ],
   "source": [
    "flaura_iptw.dtypes"
   ]
  },
  {
   "cell_type": "code",
   "execution_count": 461,
   "id": "733da4c9",
   "metadata": {},
   "outputs": [],
   "source": [
    "to_be_categorical = list(flaura_iptw.select_dtypes(include = ['object']).columns)"
   ]
  },
  {
   "cell_type": "code",
   "execution_count": 462,
   "id": "aae3726a",
   "metadata": {},
   "outputs": [
    {
     "data": {
      "text/plain": [
       "['gender', 'race', 'PracticeType', 'ecog_diagnosis', 'ecog_2']"
      ]
     },
     "execution_count": 462,
     "metadata": {},
     "output_type": "execute_result"
    }
   ],
   "source": [
    "to_be_categorical"
   ]
  },
  {
   "cell_type": "code",
   "execution_count": 463,
   "id": "f3b4d7c3",
   "metadata": {},
   "outputs": [],
   "source": [
    "to_be_categorical.append('met_cat')"
   ]
  },
  {
   "cell_type": "code",
   "execution_count": 464,
   "id": "cf221fd1",
   "metadata": {},
   "outputs": [],
   "source": [
    "to_be_categorical.remove('ecog_diagnosis')"
   ]
  },
  {
   "cell_type": "code",
   "execution_count": 465,
   "id": "5587660f",
   "metadata": {},
   "outputs": [],
   "source": [
    "# Convert variables in list to categorical.\n",
    "for x in list(to_be_categorical):\n",
    "    flaura_iptw[x] = flaura_iptw[x].astype('category')"
   ]
  },
  {
   "cell_type": "code",
   "execution_count": 466,
   "id": "1fe87aaf",
   "metadata": {},
   "outputs": [],
   "source": [
    "# List of numeric variables, excluding binary variables. \n",
    "numerical_features = ['age', 'delta_adv_diagnosis', 'albumin_diag', 'weight_pct_change', 'risk_score']\n",
    "\n",
    "# Transformer will first calculate column median and impute, and then apply a standard scaler. \n",
    "numerical_transformer = Pipeline(steps = [\n",
    "    ('imputer', SimpleImputer(strategy = 'median')),\n",
    "    ('std_scaler', StandardScaler())])"
   ]
  },
  {
   "cell_type": "code",
   "execution_count": 467,
   "id": "740c60e7",
   "metadata": {},
   "outputs": [],
   "source": [
    "# List of categorical features.\n",
    "categorical_features = list(flaura_iptw.select_dtypes(include = ['category']).columns)\n",
    "\n",
    "# One-hot-encode categorical features.\n",
    "categorical_transformer = OneHotEncoder(handle_unknown = 'ignore')"
   ]
  },
  {
   "cell_type": "code",
   "execution_count": 468,
   "id": "4f9ed1c9",
   "metadata": {},
   "outputs": [],
   "source": [
    "preprocessor = ColumnTransformer(\n",
    "    transformers = [\n",
    "        ('num', numerical_transformer, numerical_features),\n",
    "        ('cat', categorical_transformer, categorical_features)],\n",
    "    remainder = 'passthrough')"
   ]
  },
  {
   "cell_type": "code",
   "execution_count": 469,
   "id": "54ba46cb",
   "metadata": {},
   "outputs": [],
   "source": [
    "flaura_iptw_low = (\n",
    "    flaura_iptw\n",
    "    .query('risk_score <= @low_cutoff_fl'))\n",
    "\n",
    "flaura_iptw_med = (\n",
    "    flaura_iptw\n",
    "    .query('risk_score < @high_cutoff_fl and risk_score > @low_cutoff_fl'))\n",
    "\n",
    "flaura_iptw_high = (\n",
    "    flaura_iptw\n",
    "    .query('risk_score >= @high_cutoff_fl'))\n",
    "\n",
    "flaura_iptw_all = flaura_iptw"
   ]
  },
  {
   "cell_type": "code",
   "execution_count": 470,
   "id": "56933d2b",
   "metadata": {},
   "outputs": [],
   "source": [
    "flaura_low_x = preprocessor.fit_transform(flaura_iptw_low.filter(items = ['age',\n",
    "                                                                          'gender',\n",
    "                                                                          'race',\n",
    "                                                                          'PracticeType',\n",
    "                                                                          'met_cat',\n",
    "                                                                          'delta_adv_diagnosis',\n",
    "                                                                          'commercial',\n",
    "                                                                          'medicare',\n",
    "                                                                          'medicaid',\n",
    "                                                                          'ecog_2', \n",
    "                                                                          'albumin_diag',\n",
    "                                                                          'weight_pct_change',\n",
    "                                                                          'risk_score']))\n",
    "\n",
    "flaura_med_x = preprocessor.fit_transform(flaura_iptw_med.filter(items = ['age',\n",
    "                                                                          'gender',\n",
    "                                                                          'race',\n",
    "                                                                          'PracticeType',\n",
    "                                                                          'met_cat',\n",
    "                                                                          'delta_adv_diagnosis',\n",
    "                                                                          'commercial',\n",
    "                                                                          'medicare',\n",
    "                                                                          'medicaid',\n",
    "                                                                          'ecog_2', \n",
    "                                                                          'albumin_diag',\n",
    "                                                                          'weight_pct_change',\n",
    "                                                                          'risk_score']))\n",
    "\n",
    "flaura_high_x = preprocessor.fit_transform(flaura_iptw_high.filter(items = ['age',\n",
    "                                                                            'gender',\n",
    "                                                                            'race',\n",
    "                                                                            'PracticeType',\n",
    "                                                                            'met_cat',\n",
    "                                                                            'delta_adv_diagnosis',\n",
    "                                                                            'commercial',\n",
    "                                                                            'medicare',\n",
    "                                                                            'medicaid',\n",
    "                                                                            'ecog_2', \n",
    "                                                                            'albumin_diag',\n",
    "                                                                            'weight_pct_change',\n",
    "                                                                            'risk_score']))\n",
    "\n",
    "flaura_all_x = preprocessor.fit_transform(flaura_iptw_all.filter(items = ['age',\n",
    "                                                                          'gender',\n",
    "                                                                          'race',\n",
    "                                                                          'PracticeType',\n",
    "                                                                          'met_cat',\n",
    "                                                                          'delta_adv_diagnosis',\n",
    "                                                                          'commercial',\n",
    "                                                                          'medicare',\n",
    "                                                                          'medicaid',\n",
    "                                                                          'ecog_2', \n",
    "                                                                          'albumin_diag',\n",
    "                                                                          'weight_pct_change',\n",
    "                                                                          'risk_score']))"
   ]
  },
  {
   "cell_type": "code",
   "execution_count": 471,
   "id": "e9c707b6",
   "metadata": {},
   "outputs": [
    {
     "data": {
      "text/plain": [
       "LogisticRegression(max_iter=1000)"
      ]
     },
     "execution_count": 471,
     "metadata": {},
     "output_type": "execute_result"
    }
   ],
   "source": [
    "lr_flaura_low = LogisticRegression(max_iter = 1000)\n",
    "lr_flaura_low.fit(flaura_low_x, flaura_iptw_low['osim'])"
   ]
  },
  {
   "cell_type": "code",
   "execution_count": 472,
   "id": "4cde2070",
   "metadata": {},
   "outputs": [
    {
     "data": {
      "text/plain": [
       "LogisticRegression(max_iter=1000)"
      ]
     },
     "execution_count": 472,
     "metadata": {},
     "output_type": "execute_result"
    }
   ],
   "source": [
    "lr_flaura_med = LogisticRegression(max_iter = 1000)\n",
    "lr_flaura_med.fit(flaura_med_x, flaura_iptw_med['osim'])"
   ]
  },
  {
   "cell_type": "code",
   "execution_count": 473,
   "id": "9370c27b",
   "metadata": {},
   "outputs": [
    {
     "data": {
      "text/plain": [
       "LogisticRegression(max_iter=1000)"
      ]
     },
     "execution_count": 473,
     "metadata": {},
     "output_type": "execute_result"
    }
   ],
   "source": [
    "lr_flaura_high = LogisticRegression(max_iter = 1000)\n",
    "lr_flaura_high.fit(flaura_high_x, flaura_iptw_high['osim'])"
   ]
  },
  {
   "cell_type": "code",
   "execution_count": 474,
   "id": "d9a470e6",
   "metadata": {},
   "outputs": [
    {
     "data": {
      "text/plain": [
       "LogisticRegression(max_iter=1000)"
      ]
     },
     "execution_count": 474,
     "metadata": {},
     "output_type": "execute_result"
    }
   ],
   "source": [
    "lr_flaura_all = LogisticRegression(max_iter = 1000)\n",
    "lr_flaura_all.fit(flaura_all_x, flaura_iptw_all['osim'])"
   ]
  },
  {
   "cell_type": "code",
   "execution_count": 475,
   "id": "38ffbd0a",
   "metadata": {},
   "outputs": [],
   "source": [
    "pred_low = lr_flaura_low.predict_proba(flaura_low_x)\n",
    "pred_med = lr_flaura_med.predict_proba(flaura_med_x)\n",
    "pred_high = lr_flaura_high.predict_proba(flaura_high_x)\n",
    "pred_all = lr_flaura_all.predict_proba(flaura_all_x)"
   ]
  },
  {
   "cell_type": "code",
   "execution_count": 476,
   "id": "41af25e5",
   "metadata": {},
   "outputs": [
    {
     "name": "stderr",
     "output_type": "stream",
     "text": [
      "/Users/xavierorcutt/Dropbox/ist_project/myenv/lib/python3.7/site-packages/ipykernel_launcher.py:1: SettingWithCopyWarning: \n",
      "A value is trying to be set on a copy of a slice from a DataFrame.\n",
      "Try using .loc[row_indexer,col_indexer] = value instead\n",
      "\n",
      "See the caveats in the documentation: https://pandas.pydata.org/pandas-docs/stable/user_guide/indexing.html#returning-a-view-versus-a-copy\n",
      "  \"\"\"Entry point for launching an IPython kernel.\n",
      "/Users/xavierorcutt/Dropbox/ist_project/myenv/lib/python3.7/site-packages/ipykernel_launcher.py:2: SettingWithCopyWarning: \n",
      "A value is trying to be set on a copy of a slice from a DataFrame.\n",
      "Try using .loc[row_indexer,col_indexer] = value instead\n",
      "\n",
      "See the caveats in the documentation: https://pandas.pydata.org/pandas-docs/stable/user_guide/indexing.html#returning-a-view-versus-a-copy\n",
      "  \n",
      "/Users/xavierorcutt/Dropbox/ist_project/myenv/lib/python3.7/site-packages/ipykernel_launcher.py:3: SettingWithCopyWarning: \n",
      "A value is trying to be set on a copy of a slice from a DataFrame.\n",
      "Try using .loc[row_indexer,col_indexer] = value instead\n",
      "\n",
      "See the caveats in the documentation: https://pandas.pydata.org/pandas-docs/stable/user_guide/indexing.html#returning-a-view-versus-a-copy\n",
      "  This is separate from the ipykernel package so we can avoid doing imports until\n"
     ]
    }
   ],
   "source": [
    "flaura_iptw_low['ps'] = pred_low[:, 1]\n",
    "flaura_iptw_med['ps'] = pred_med[:, 1]\n",
    "flaura_iptw_high['ps'] = pred_high[:, 1]\n",
    "flaura_iptw_all['ps'] = pred_all[:, 1]"
   ]
  },
  {
   "cell_type": "code",
   "execution_count": 477,
   "id": "4972614e",
   "metadata": {},
   "outputs": [
    {
     "name": "stderr",
     "output_type": "stream",
     "text": [
      "/Users/xavierorcutt/Dropbox/ist_project/myenv/lib/python3.7/site-packages/ipykernel_launcher.py:2: SettingWithCopyWarning: \n",
      "A value is trying to be set on a copy of a slice from a DataFrame.\n",
      "Try using .loc[row_indexer,col_indexer] = value instead\n",
      "\n",
      "See the caveats in the documentation: https://pandas.pydata.org/pandas-docs/stable/user_guide/indexing.html#returning-a-view-versus-a-copy\n",
      "  \n",
      "/Users/xavierorcutt/Dropbox/ist_project/myenv/lib/python3.7/site-packages/ipykernel_launcher.py:5: SettingWithCopyWarning: \n",
      "A value is trying to be set on a copy of a slice from a DataFrame.\n",
      "Try using .loc[row_indexer,col_indexer] = value instead\n",
      "\n",
      "See the caveats in the documentation: https://pandas.pydata.org/pandas-docs/stable/user_guide/indexing.html#returning-a-view-versus-a-copy\n",
      "  \"\"\"\n",
      "/Users/xavierorcutt/Dropbox/ist_project/myenv/lib/python3.7/site-packages/ipykernel_launcher.py:8: SettingWithCopyWarning: \n",
      "A value is trying to be set on a copy of a slice from a DataFrame.\n",
      "Try using .loc[row_indexer,col_indexer] = value instead\n",
      "\n",
      "See the caveats in the documentation: https://pandas.pydata.org/pandas-docs/stable/user_guide/indexing.html#returning-a-view-versus-a-copy\n",
      "  \n"
     ]
    }
   ],
   "source": [
    "flaura_iptw_low['weight'] = (\n",
    "    np.where(flaura_iptw_low['osim'] == 1, 1/flaura_iptw_low['ps'], 1/(1 - flaura_iptw_low['ps'])))\n",
    "\n",
    "flaura_iptw_med['weight'] = (\n",
    "    np.where(flaura_iptw_med['osim'] == 1, 1/flaura_iptw_med['ps'], 1/(1 - flaura_iptw_med['ps'])))\n",
    "\n",
    "flaura_iptw_high['weight'] = (\n",
    "    np.where(flaura_iptw_high['osim'] == 1, 1/flaura_iptw_high['ps'], 1/(1 - flaura_iptw_high['ps'])))\n",
    "\n",
    "flaura_iptw_all['weight'] = (\n",
    "    np.where(flaura_iptw_all['osim'] == 1, 1/flaura_iptw_all['ps'], 1/(1 - flaura_iptw_all['ps'])))"
   ]
  },
  {
   "cell_type": "code",
   "execution_count": 478,
   "id": "9ed67fa2",
   "metadata": {},
   "outputs": [
    {
     "name": "stderr",
     "output_type": "stream",
     "text": [
      "/Users/xavierorcutt/Dropbox/ist_project/myenv/lib/python3.7/site-packages/lifelines/fitters/kaplan_meier_fitter.py:344: StatisticalWarning: It looks like your weights are not integers, possibly propensity scores then?\n",
      "  It's important to know that the naive variance estimates of the coefficients are biased. Instead use Monte Carlo to\n",
      "  estimate the variances. See paper \"Variance estimation when using inverse probability of treatment weighting (IPTW) with survival analysis\"\n",
      "  or \"Adjusted Kaplan-Meier estimator and log-rank test with inverse probability of treatment weighting for survival data.\"\n",
      "                  \n",
      "  StatisticalWarning,\n"
     ]
    },
    {
     "data": {
      "text/plain": [
       "<lifelines.KaplanMeierFitter:\"KM_estimate\", fitted with 2700.42 total observations, 416.461 right-censored observations>"
      ]
     },
     "execution_count": 478,
     "metadata": {},
     "output_type": "execute_result"
    }
   ],
   "source": [
    "# Low KM curves\n",
    "kmf_low_osim_flaura_iptw_pfs = KaplanMeierFitter()\n",
    "kmf_low_gefer_flaura_iptw_pfs = KaplanMeierFitter()\n",
    "\n",
    "kmf_low_osim_flaura_iptw_pfs.fit(\n",
    "    flaura_iptw_low.query('osim == 1').time_prog_treatment/30,\n",
    "    flaura_iptw_low.query('osim == 1').pfs_status,\n",
    "    weights = flaura_iptw_low.query('osim == 1')['weight'])\n",
    "\n",
    "kmf_low_gefer_flaura_iptw_pfs.fit(\n",
    "    flaura_iptw_low.query('osim == 0').time_prog_treatment/30,\n",
    "    flaura_iptw_low.query('osim == 0').pfs_status,\n",
    "    weights = flaura_iptw_low.query('osim == 0')['weight'])\n",
    "\n",
    "# Med KM curves\n",
    "kmf_med_osim_flaura_iptw_pfs = KaplanMeierFitter()\n",
    "kmf_med_gefer_flaura_iptw_pfs = KaplanMeierFitter()\n",
    "\n",
    "kmf_med_osim_flaura_iptw_pfs.fit(\n",
    "    flaura_iptw_med.query('osim == 1').time_prog_treatment/30,\n",
    "    flaura_iptw_med.query('osim == 1').pfs_status,\n",
    "    weights = flaura_iptw_med.query('osim == 1')['weight'])\n",
    "\n",
    "kmf_med_gefer_flaura_iptw_pfs.fit(\n",
    "    flaura_iptw_med.query('osim == 0').time_prog_treatment/30,\n",
    "    flaura_iptw_med.query('osim == 0').pfs_status,\n",
    "    weights = flaura_iptw_med.query('osim == 0')['weight'])\n",
    "\n",
    "# High KM curves \n",
    "kmf_high_osim_flaura_iptw_pfs = KaplanMeierFitter()\n",
    "kmf_high_gefer_flaura_iptw_pfs = KaplanMeierFitter()\n",
    "\n",
    "kmf_high_osim_flaura_iptw_pfs.fit(\n",
    "    flaura_iptw_high.query('osim == 1').time_prog_treatment/30,\n",
    "    flaura_iptw_high.query('osim == 1').pfs_status,\n",
    "    weights = flaura_iptw_high.query('osim == 1')['weight'])\n",
    "\n",
    "kmf_high_gefer_flaura_iptw_pfs.fit(\n",
    "    flaura_iptw_high.query('osim == 0').time_prog_treatment/30,\n",
    "    flaura_iptw_high.query('osim == 0').pfs_status,\n",
    "    weights = flaura_iptw_high.query('osim == 0')['weight'])\n",
    "\n",
    "# All KM curves \n",
    "kmf_all_osim_flaura_iptw_pfs = KaplanMeierFitter()\n",
    "kmf_all_gefer_flaura_iptw_pfs = KaplanMeierFitter()\n",
    "\n",
    "kmf_all_osim_flaura_iptw_pfs.fit(\n",
    "    flaura_iptw_all.query('osim == 1').time_prog_treatment/30,\n",
    "    flaura_iptw_all.query('osim == 1').pfs_status,\n",
    "    weights = flaura_iptw_all.query('osim == 1')['weight'])\n",
    "\n",
    "kmf_all_gefer_flaura_iptw_pfs.fit(\n",
    "    flaura_iptw_all.query('osim == 0').time_prog_treatment/30,\n",
    "    flaura_iptw_all.query('osim == 0').pfs_status,\n",
    "    weights = flaura_iptw_all.query('osim == 0')['weight'])"
   ]
  },
  {
   "cell_type": "code",
   "execution_count": 479,
   "id": "488a401c",
   "metadata": {},
   "outputs": [
    {
     "data": {
      "image/png": "[encoded data removed]",
      "text/plain": [
       "<Figure size 1800x600 with 5 Axes>"
      ]
     },
     "metadata": {},
     "output_type": "display_data"
    }
   ],
   "source": [
    "fig = plt.figure(figsize=(18, 6))\n",
    "\n",
    "# Plot survival curves for low risk group \n",
    "plt.subplot(1, 4, 1)\n",
    "\n",
    "plt.step(kmf_low_osim_flaura_iptw_pfs.timeline, kmf_low_osim_flaura_iptw_pfs.survival_function_.values*100, color = 'red', alpha = 0.5)\n",
    "\n",
    "plt.step(kmf_low_gefer_flaura_iptw_pfs.timeline, kmf_low_gefer_flaura_iptw_pfs.survival_function_.values*100, color = 'black', alpha = 0.5)\n",
    "\n",
    "plt.xticks(np.arange(0, 37, 6))\n",
    "plt.xlim(0, 37)\n",
    "plt.ylim(0, 100)\n",
    "\n",
    "plt.title('Low-risk', weight = 'bold')\n",
    "plt.ylabel('Progression free survival (%)', size = 12, weight = 'bold')\n",
    "\n",
    "plt.gca().spines['top'].set_visible(False)\n",
    "plt.gca().spines['right'].set_visible(False)\n",
    "\n",
    "# Plot survival curves for med risk group. \n",
    "plt.subplot(1, 4, 2)\n",
    "\n",
    "plt.step(kmf_med_osim_flaura_iptw_pfs.timeline, kmf_med_osim_flaura_iptw_pfs.survival_function_.values*100, color = 'red', alpha = 0.5)\n",
    "\n",
    "plt.step(kmf_med_gefer_flaura_iptw_pfs.timeline, kmf_med_gefer_flaura_iptw_pfs.survival_function_.values*100, color = 'black', alpha = 0.5)\n",
    "\n",
    "plt.xticks(np.arange(0, 37, 6))\n",
    "plt.xlim(0, 37)\n",
    "plt.ylim(0, 100)\n",
    "\n",
    "plt.title('Med-risk', weight = 'bold')\n",
    "\n",
    "plt.gca().spines['top'].set_visible(False)\n",
    "plt.gca().spines['right'].set_visible(False)\n",
    "\n",
    "# Plot survival curves by treatment for high risk group. \n",
    "plt.subplot(1, 4, 3)\n",
    "\n",
    "plt.step(kmf_high_osim_flaura_iptw_pfs.timeline, kmf_high_osim_flaura_iptw_pfs.survival_function_.values*100, color = 'red', alpha = 0.5)\n",
    "\n",
    "plt.step(kmf_high_gefer_flaura_iptw_pfs.timeline, kmf_high_gefer_flaura_iptw_pfs.survival_function_.values*100, color = 'black', alpha = 0.5)\n",
    "\n",
    "plt.xticks(np.arange(0, 37, 6))\n",
    "plt.xlim(0, 37)\n",
    "plt.ylim(0, 100)\n",
    "\n",
    "plt.title('High-risk', weight = 'bold')\n",
    "\n",
    "plt.gca().spines['top'].set_visible(False)\n",
    "plt.gca().spines['right'].set_visible(False)\n",
    "\n",
    "# Plot survival curves by treatment for all risk group. \n",
    "plt.subplot(1, 4, 4)\n",
    "\n",
    "plt.step(kmf_all_osim_flaura_iptw_pfs.timeline, kmf_all_osim_flaura_iptw_pfs.survival_function_.values*100, color = 'red', alpha = 0.5, label = 'Osimitinib')\n",
    "\n",
    "plt.step(kmf_all_gefer_flaura_iptw_pfs.timeline, kmf_all_gefer_flaura_iptw_pfs.survival_function_.values*100, color = 'black', alpha = 0.5, label = 'Gefitinib or Erlotinib')\n",
    "\n",
    "plt.xticks(np.arange(0, 37, 6))\n",
    "plt.xlim(0, 37)\n",
    "plt.ylim(0, 100)\n",
    "\n",
    "plt.title('Full cohort', weight = 'bold')\n",
    "\n",
    "plt.gca().spines['top'].set_visible(False)\n",
    "plt.gca().spines['right'].set_visible(False)\n",
    "\n",
    "plt.legend(loc = 'center right', prop = {'size': 9})\n",
    "\n",
    "fig.add_subplot(1, 1, 1, frameon = False)\n",
    "plt.tick_params(labelcolor = 'none', which = 'both', top = False, bottom = False, left = False, right = False)\n",
    "plt.xlabel('Months after treatment', labelpad = 15, size = 12, weight = 'bold')\n",
    "plt.title('FLAURA: Progression free survival for osimitinib vs. gefitinib or erlotinib', pad = 40, size = 15, weight = 'bold')\n",
    "\n",
    "plt.show()"
   ]
  }
 ],
 "metadata": {
  "kernelspec": {
   "display_name": "My Virtual Environment",
   "language": "python",
   "name": "myenv"
  },
  "language_info": {
   "codemirror_mode": {
    "name": "ipython",
    "version": 3
   },
   "file_extension": ".py",
   "mimetype": "text/x-python",
   "name": "python",
   "nbconvert_exporter": "python",
   "pygments_lexer": "ipython3",
   "version": "3.7.10"
  }
 },
 "nbformat": 4,
 "nbformat_minor": 5
}
