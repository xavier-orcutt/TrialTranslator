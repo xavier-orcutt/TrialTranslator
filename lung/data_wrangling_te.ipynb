{
 "cells": [
  {
   "cell_type": "markdown",
   "metadata": {},
   "source": [
    "# Flatiron Health aNSCLC: Data Wrangling Test Set\n",
    "\n",
    "**OBJECTIVE: Select patients from test cohort and create a dataframe of relevant variables which can be used to build machine learning survival models.**\n",
    "\n",
    "**BACKGROUND: The 10 CSV Flatiron files will be cleaned in the exact same fashion for the test set patients as for the training set patients. For more information on the cleaning process refer to Notebook: Data Wrangling Training Set.**\n",
    "\n",
    "**OUTLINE:**\n",
    "1. **File cleaning for patients in training set**\n",
    "2. **Merge files to create master test dataframe** "
   ]
  },
  {
   "cell_type": "code",
   "execution_count": 1,
   "metadata": {},
   "outputs": [],
   "source": [
    "import numpy as np\n",
    "import pandas as pd\n",
    "import matplotlib.pyplot as plt\n",
    "import datetime as dt\n",
    "from scipy.stats import linregress "
   ]
  },
  {
   "cell_type": "code",
   "execution_count": 2,
   "metadata": {},
   "outputs": [],
   "source": [
    "# Function that returns number of rows and count of unique PatientIDs for a dataframe. \n",
    "def row_ID(dataframe):\n",
    "    row = dataframe.shape[0]\n",
    "    ID = dataframe['PatientID'].nunique()\n",
    "    return row, ID"
   ]
  },
  {
   "cell_type": "code",
   "execution_count": 3,
   "metadata": {},
   "outputs": [],
   "source": [
    "#Import test IDs saved from Data Wrangling Training Set file. \n",
    "test_IDs = pd.read_csv('test_IDs.csv')"
   ]
  },
  {
   "cell_type": "code",
   "execution_count": 4,
   "metadata": {},
   "outputs": [],
   "source": [
    "# Array of PatientIDs in training set.\n",
    "test_IDs = test_IDs['PatientID'].to_numpy()"
   ]
  },
  {
   "cell_type": "markdown",
   "metadata": {},
   "source": [
    "## File cleaning for patients in training set"
   ]
  },
  {
   "cell_type": "markdown",
   "metadata": {},
   "source": [
    "### 1. Demographics "
   ]
  },
  {
   "cell_type": "code",
   "execution_count": 5,
   "metadata": {},
   "outputs": [],
   "source": [
    "demographics = pd.read_csv('Demographics.csv')"
   ]
  },
  {
   "cell_type": "code",
   "execution_count": 6,
   "metadata": {},
   "outputs": [],
   "source": [
    "demographics = demographics[demographics['PatientID'].isin(test_IDs)]"
   ]
  },
  {
   "cell_type": "code",
   "execution_count": 7,
   "metadata": {},
   "outputs": [
    {
     "data": {
      "text/plain": [
       "(13697, 13697)"
      ]
     },
     "execution_count": 7,
     "metadata": {},
     "output_type": "execute_result"
    }
   ],
   "source": [
    "row_ID(demographics)"
   ]
  },
  {
   "cell_type": "markdown",
   "metadata": {},
   "source": [
    "#### 1.1 Race and Ethnicity"
   ]
  },
  {
   "cell_type": "code",
   "execution_count": 8,
   "metadata": {},
   "outputs": [],
   "source": [
    "# If race value is 'Hispanic or Latino', code as unknown, otherwise value unchanged.\n",
    "demographics['race'] = (\n",
    "    np.where(demographics['Race'] == 'Hispanic or Latino', 'unknown', demographics['Race'])\n",
    ")"
   ]
  },
  {
   "cell_type": "code",
   "execution_count": 9,
   "metadata": {},
   "outputs": [],
   "source": [
    "# Missing race value will be recoded as Unknown\n",
    "demographics['race'] = demographics['race'].fillna('unknown')"
   ]
  },
  {
   "cell_type": "code",
   "execution_count": 10,
   "metadata": {},
   "outputs": [
    {
     "data": {
      "text/plain": [
       "13697"
      ]
     },
     "execution_count": 10,
     "metadata": {},
     "output_type": "execute_result"
    }
   ],
   "source": [
    "demographics['race'].value_counts().sum()"
   ]
  },
  {
   "cell_type": "code",
   "execution_count": 11,
   "metadata": {},
   "outputs": [],
   "source": [
    "# If race value is equal to 'Hispanic or Latino', code ethnicity as 'Hispanic or Latino', otherwise unchanged. \n",
    "demographics['ethnicity'] = (\n",
    "    np.where(demographics['Race'] == 'Hispanic or Latino', 'hispanic_latino', demographics['Ethnicity'])\n",
    ")"
   ]
  },
  {
   "cell_type": "code",
   "execution_count": 12,
   "metadata": {},
   "outputs": [],
   "source": [
    "demographics['ethnicity'] = demographics['ethnicity'].fillna('unknown')"
   ]
  },
  {
   "cell_type": "code",
   "execution_count": 13,
   "metadata": {},
   "outputs": [],
   "source": [
    "demographics['ethnicity'] = demographics['ethnicity'].replace({'Hispanic or Latino': 'hispanic_latino'})"
   ]
  },
  {
   "cell_type": "code",
   "execution_count": 14,
   "metadata": {},
   "outputs": [],
   "source": [
    "demographics = demographics.drop(columns = ['Race', 'Ethnicity'])"
   ]
  },
  {
   "cell_type": "markdown",
   "metadata": {},
   "source": [
    "#### 1.2 BirthYear"
   ]
  },
  {
   "cell_type": "code",
   "execution_count": 15,
   "metadata": {},
   "outputs": [],
   "source": [
    "enhanced_adv = pd.read_csv('Enhanced_AdvancedNSCLC.csv')"
   ]
  },
  {
   "cell_type": "code",
   "execution_count": 16,
   "metadata": {},
   "outputs": [],
   "source": [
    "demographics = pd.merge(demographics, enhanced_adv[['PatientID', 'AdvancedDiagnosisDate']], on = 'PatientID')"
   ]
  },
  {
   "cell_type": "code",
   "execution_count": 17,
   "metadata": {},
   "outputs": [],
   "source": [
    "demographics.loc[:, 'AdvancedDiagnosisDate'] = pd.to_datetime(demographics['AdvancedDiagnosisDate'])"
   ]
  },
  {
   "cell_type": "code",
   "execution_count": 18,
   "metadata": {},
   "outputs": [],
   "source": [
    "demographics.loc[:, 'age'] = demographics['AdvancedDiagnosisDate'].dt.year - demographics['BirthYear']"
   ]
  },
  {
   "cell_type": "code",
   "execution_count": 19,
   "metadata": {},
   "outputs": [],
   "source": [
    "demographics = demographics.drop(columns = ['BirthYear', 'AdvancedDiagnosisDate'])"
   ]
  },
  {
   "cell_type": "markdown",
   "metadata": {},
   "source": [
    "#### 1.3 PracticeType"
   ]
  },
  {
   "cell_type": "markdown",
   "metadata": {},
   "source": [
    "**No changes mades to variable.** "
   ]
  },
  {
   "cell_type": "markdown",
   "metadata": {},
   "source": [
    "#### 1.4 Gender"
   ]
  },
  {
   "cell_type": "code",
   "execution_count": 20,
   "metadata": {},
   "outputs": [],
   "source": [
    "# Impute M as unknown since M was imputed for missing values in trianing set. \n",
    "demographics['Gender'] = demographics['Gender'].fillna('M')"
   ]
  },
  {
   "cell_type": "code",
   "execution_count": 21,
   "metadata": {},
   "outputs": [],
   "source": [
    "demographics = demographics.rename(columns = {'Gender': 'gender'})"
   ]
  },
  {
   "cell_type": "markdown",
   "metadata": {},
   "source": [
    "#### 1.5 State"
   ]
  },
  {
   "cell_type": "code",
   "execution_count": 22,
   "metadata": {},
   "outputs": [],
   "source": [
    "# Group states into Census-Bureau regions  \n",
    "state_dict = { \n",
    "    'ME': 'northeast', \n",
    "    'NH': 'northeast',\n",
    "    'VT': 'northeast', \n",
    "    'MA': 'northeast',\n",
    "    'CT': 'northeast',\n",
    "    'RI': 'northeast',  \n",
    "    'NY': 'northeast', \n",
    "    'NJ': 'northeast', \n",
    "    'PA': 'northeast', \n",
    "    'IL': 'midwest', \n",
    "    'IN': 'midwest', \n",
    "    'MI': 'midwest', \n",
    "    'OH': 'midwest', \n",
    "    'WI': 'midwest',\n",
    "    'IA': 'midwest',\n",
    "    'KS': 'midwest',\n",
    "    'MN': 'midwest',\n",
    "    'MO': 'midwest', \n",
    "    'NE': 'midwest',\n",
    "    'ND': 'midwest',\n",
    "    'SD': 'midwest',\n",
    "    'DE': 'south',\n",
    "    'FL': 'south',\n",
    "    'GA': 'south',\n",
    "    'MD': 'south',\n",
    "    'NC': 'south', \n",
    "    'SC': 'south',\n",
    "    'VA': 'south',\n",
    "    'DC': 'south',\n",
    "    'WV': 'south',\n",
    "    'AL': 'south',\n",
    "    'KY': 'south',\n",
    "    'MS': 'south',\n",
    "    'TN': 'south',\n",
    "    'AR': 'south',\n",
    "    'LA': 'south',\n",
    "    'OK': 'south',\n",
    "    'TX': 'south',\n",
    "    'AZ': 'west',\n",
    "    'CO': 'west',\n",
    "    'ID': 'west',\n",
    "    'MT': 'west',\n",
    "    'NV': 'west',\n",
    "    'NM': 'west',\n",
    "    'UT': 'west',\n",
    "    'WY': 'west',\n",
    "    'AK': 'west',\n",
    "    'CA': 'west',\n",
    "    'HI': 'west',\n",
    "    'OR': 'west',\n",
    "    'WA': 'west',\n",
    "    'PR': 'unknown'\n",
    "}\n",
    "\n",
    "demographics['region'] = demographics['State'].map(state_dict)"
   ]
  },
  {
   "cell_type": "code",
   "execution_count": 23,
   "metadata": {},
   "outputs": [],
   "source": [
    "demographics['region'] = demographics['region'].fillna('unknown')"
   ]
  },
  {
   "cell_type": "code",
   "execution_count": 24,
   "metadata": {},
   "outputs": [
    {
     "data": {
      "text/plain": [
       "13697"
      ]
     },
     "execution_count": 24,
     "metadata": {},
     "output_type": "execute_result"
    }
   ],
   "source": [
    "demographics['region'].value_counts(dropna = False).sum()"
   ]
  },
  {
   "cell_type": "code",
   "execution_count": 25,
   "metadata": {},
   "outputs": [],
   "source": [
    "demographics = demographics.drop(columns = ['State'])"
   ]
  },
  {
   "cell_type": "markdown",
   "metadata": {},
   "source": [
    "#### 1.6 PracticeID"
   ]
  },
  {
   "cell_type": "code",
   "execution_count": 26,
   "metadata": {},
   "outputs": [],
   "source": [
    "demographics = demographics.drop(columns = ['PracticeID'])"
   ]
  },
  {
   "cell_type": "markdown",
   "metadata": {},
   "source": [
    "#### 1.7 PrimaryPhysicianID"
   ]
  },
  {
   "cell_type": "code",
   "execution_count": 27,
   "metadata": {},
   "outputs": [],
   "source": [
    "demographics = demographics.drop(columns = ['PrimaryPhysicianID'])"
   ]
  },
  {
   "cell_type": "code",
   "execution_count": 28,
   "metadata": {},
   "outputs": [
    {
     "data": {
      "text/html": [
       "<div>\n",
       "<style scoped>\n",
       "    .dataframe tbody tr th:only-of-type {\n",
       "        vertical-align: middle;\n",
       "    }\n",
       "\n",
       "    .dataframe tbody tr th {\n",
       "        vertical-align: top;\n",
       "    }\n",
       "\n",
       "    .dataframe thead th {\n",
       "        text-align: right;\n",
       "    }\n",
       "</style>\n",
       "<table border=\"1\" class=\"dataframe\">\n",
       "  <thead>\n",
       "    <tr style=\"text-align: right;\">\n",
       "      <th></th>\n",
       "      <th>PatientID</th>\n",
       "      <th>PracticeType</th>\n",
       "      <th>gender</th>\n",
       "      <th>race</th>\n",
       "      <th>ethnicity</th>\n",
       "      <th>age</th>\n",
       "      <th>region</th>\n",
       "    </tr>\n",
       "  </thead>\n",
       "  <tbody>\n",
       "    <tr>\n",
       "      <th>3748</th>\n",
       "      <td>F89B68E8E6D3B</td>\n",
       "      <td>COMMUNITY</td>\n",
       "      <td>M</td>\n",
       "      <td>Other Race</td>\n",
       "      <td>unknown</td>\n",
       "      <td>67</td>\n",
       "      <td>northeast</td>\n",
       "    </tr>\n",
       "    <tr>\n",
       "      <th>12585</th>\n",
       "      <td>F28A0C4FB43A3</td>\n",
       "      <td>ACADEMIC</td>\n",
       "      <td>M</td>\n",
       "      <td>White</td>\n",
       "      <td>unknown</td>\n",
       "      <td>68</td>\n",
       "      <td>unknown</td>\n",
       "    </tr>\n",
       "    <tr>\n",
       "      <th>5860</th>\n",
       "      <td>F3D961D32CC50</td>\n",
       "      <td>COMMUNITY</td>\n",
       "      <td>M</td>\n",
       "      <td>White</td>\n",
       "      <td>unknown</td>\n",
       "      <td>65</td>\n",
       "      <td>south</td>\n",
       "    </tr>\n",
       "    <tr>\n",
       "      <th>2175</th>\n",
       "      <td>F941B86667B06</td>\n",
       "      <td>COMMUNITY</td>\n",
       "      <td>F</td>\n",
       "      <td>White</td>\n",
       "      <td>unknown</td>\n",
       "      <td>79</td>\n",
       "      <td>south</td>\n",
       "    </tr>\n",
       "    <tr>\n",
       "      <th>12834</th>\n",
       "      <td>FA6394B42E670</td>\n",
       "      <td>ACADEMIC</td>\n",
       "      <td>M</td>\n",
       "      <td>White</td>\n",
       "      <td>unknown</td>\n",
       "      <td>60</td>\n",
       "      <td>unknown</td>\n",
       "    </tr>\n",
       "  </tbody>\n",
       "</table>\n",
       "</div>"
      ],
      "text/plain": [
       "           PatientID PracticeType gender        race ethnicity  age     region\n",
       "3748   F89B68E8E6D3B    COMMUNITY      M  Other Race   unknown   67  northeast\n",
       "12585  F28A0C4FB43A3     ACADEMIC      M       White   unknown   68    unknown\n",
       "5860   F3D961D32CC50    COMMUNITY      M       White   unknown   65      south\n",
       "2175   F941B86667B06    COMMUNITY      F       White   unknown   79      south\n",
       "12834  FA6394B42E670     ACADEMIC      M       White   unknown   60    unknown"
      ]
     },
     "execution_count": 28,
     "metadata": {},
     "output_type": "execute_result"
    }
   ],
   "source": [
    "# Final training demographics table.\n",
    "demographics.sample(5)"
   ]
  },
  {
   "cell_type": "code",
   "execution_count": 29,
   "metadata": {},
   "outputs": [
    {
     "data": {
      "text/plain": [
       "(13697, 13697)"
      ]
     },
     "execution_count": 29,
     "metadata": {},
     "output_type": "execute_result"
    }
   ],
   "source": [
    "row_ID(demographics)"
   ]
  },
  {
   "cell_type": "code",
   "execution_count": 30,
   "metadata": {},
   "outputs": [
    {
     "name": "stdout",
     "output_type": "stream",
     "text": [
      "Variable       Type         Data/Info\n",
      "-------------------------------------\n",
      "demographics   DataFrame               PatientID Prac<...>n[13697 rows x 7 columns]\n",
      "enhanced_adv   DataFrame               PatientID Diag<...>n[68483 rows x 6 columns]\n"
     ]
    }
   ],
   "source": [
    "%whos DataFrame"
   ]
  },
  {
   "cell_type": "code",
   "execution_count": 31,
   "metadata": {},
   "outputs": [],
   "source": [
    "del enhanced_adv"
   ]
  },
  {
   "cell_type": "markdown",
   "metadata": {},
   "source": [
    "### 2. Enhanced_AdvancedNSCLC"
   ]
  },
  {
   "cell_type": "code",
   "execution_count": 32,
   "metadata": {},
   "outputs": [],
   "source": [
    "enhanced_adv = pd.read_csv('Enhanced_AdvancedNSCLC.csv')"
   ]
  },
  {
   "cell_type": "code",
   "execution_count": 33,
   "metadata": {},
   "outputs": [],
   "source": [
    "enhanced_adv = enhanced_adv[enhanced_adv['PatientID'].isin(test_IDs)]"
   ]
  },
  {
   "cell_type": "code",
   "execution_count": 34,
   "metadata": {},
   "outputs": [
    {
     "data": {
      "text/plain": [
       "(13697, 13697)"
      ]
     },
     "execution_count": 34,
     "metadata": {},
     "output_type": "execute_result"
    }
   ],
   "source": [
    "row_ID(enhanced_adv)"
   ]
  },
  {
   "cell_type": "markdown",
   "metadata": {},
   "source": [
    "#### 2.1 Histology"
   ]
  },
  {
   "cell_type": "markdown",
   "metadata": {},
   "source": [
    "**No changes mades to variable.** "
   ]
  },
  {
   "cell_type": "markdown",
   "metadata": {},
   "source": [
    "#### 2.2 GroupStage"
   ]
  },
  {
   "cell_type": "code",
   "execution_count": 35,
   "metadata": {},
   "outputs": [],
   "source": [
    "# Dictionary for regrouping stages\n",
    "stage_dict = { \n",
    "    'Stage I': 'I',\n",
    "    'Stage IA': 'I',\n",
    "    'Stage IA1': 'I', \n",
    "    'Stage IA2': 'I',\n",
    "    'Stage IA3': 'I', \n",
    "    'Stage IB': 'I',\n",
    "    'Stage II': 'II',\n",
    "    'Stage IIA': 'II',\n",
    "    'Stage IIB': 'II',\n",
    "    'Stage III': 'III',\n",
    "    'Stage IIIA': 'IIIA',\n",
    "    'Stage IIIB': 'IIIB',\n",
    "    'Stage IIIC': 'IIIC',\n",
    "    'Stage IV': 'IV',\n",
    "    'Stage IVA': 'IV',\n",
    "    'Stage IVB': 'IV'\n",
    "}\n",
    "\n",
    "enhanced_adv['stage'] = enhanced_adv['GroupStage'].map(stage_dict)"
   ]
  },
  {
   "cell_type": "code",
   "execution_count": 36,
   "metadata": {},
   "outputs": [],
   "source": [
    "enhanced_adv['stage'] = enhanced_adv['stage'].fillna('unknown')"
   ]
  },
  {
   "cell_type": "code",
   "execution_count": 37,
   "metadata": {},
   "outputs": [],
   "source": [
    "enhanced_adv = enhanced_adv.drop(columns = ['GroupStage'])"
   ]
  },
  {
   "cell_type": "markdown",
   "metadata": {},
   "source": [
    "#### 2.3 SmokingStatus"
   ]
  },
  {
   "cell_type": "markdown",
   "metadata": {},
   "source": [
    "**No changes mades to variable.** "
   ]
  },
  {
   "cell_type": "markdown",
   "metadata": {},
   "source": [
    "#### 2.4 AdvancedDiagnosisDate"
   ]
  },
  {
   "cell_type": "code",
   "execution_count": 38,
   "metadata": {},
   "outputs": [],
   "source": [
    "enhanced_adv.loc[:, 'AdvancedDiagnosisDate'] = pd.to_datetime(enhanced_adv['AdvancedDiagnosisDate'])"
   ]
  },
  {
   "cell_type": "code",
   "execution_count": 39,
   "metadata": {},
   "outputs": [],
   "source": [
    "enhanced_adv = enhanced_adv.rename(columns = {'AdvancedDiagnosisDate': 'adv_date'})"
   ]
  },
  {
   "cell_type": "code",
   "execution_count": 40,
   "metadata": {},
   "outputs": [],
   "source": [
    "enhanced_adv['adv_year_cat'] = pd.cut(enhanced_adv['adv_date'].dt.year,\n",
    "                                      bins = [2010, 2012, 2014, 2016, 2018, 2020],\n",
    "                                      labels = ['11-12', '13-14', '15-16', '17-18', '19-20'])"
   ]
  },
  {
   "cell_type": "code",
   "execution_count": 41,
   "metadata": {},
   "outputs": [],
   "source": [
    "enhanced_adv.loc[:, 'adv_year'] = enhanced_adv['adv_date'].dt.year"
   ]
  },
  {
   "cell_type": "markdown",
   "metadata": {},
   "source": [
    "#### 2.5 DiagnosisDate"
   ]
  },
  {
   "cell_type": "code",
   "execution_count": 42,
   "metadata": {},
   "outputs": [],
   "source": [
    "enhanced_adv = enhanced_adv.rename(columns = {'DiagnosisDate': 'diagnosis_date'})"
   ]
  },
  {
   "cell_type": "code",
   "execution_count": 43,
   "metadata": {},
   "outputs": [],
   "source": [
    "# Missing diagnosis_date will be replaced with adv_date; other dates will be left untouched. \n",
    "enhanced_adv['diagnosis_date'] = (\n",
    "    np.where(enhanced_adv['diagnosis_date'].isna(), enhanced_adv['adv_date'], enhanced_adv['diagnosis_date'])\n",
    ")"
   ]
  },
  {
   "cell_type": "code",
   "execution_count": 44,
   "metadata": {},
   "outputs": [],
   "source": [
    "enhanced_adv['diagnosis_date'] = pd.to_datetime(enhanced_adv['diagnosis_date'])"
   ]
  },
  {
   "cell_type": "markdown",
   "metadata": {},
   "source": [
    "#### 2.6 Time from diagnosis date to advanced date"
   ]
  },
  {
   "cell_type": "code",
   "execution_count": 45,
   "metadata": {},
   "outputs": [],
   "source": [
    "enhanced_adv.loc[:, 'delta_adv_diagnosis'] = (enhanced_adv['adv_date'] - enhanced_adv['diagnosis_date']).dt.days"
   ]
  },
  {
   "cell_type": "code",
   "execution_count": 46,
   "metadata": {},
   "outputs": [
    {
     "data": {
      "text/html": [
       "<div>\n",
       "<style scoped>\n",
       "    .dataframe tbody tr th:only-of-type {\n",
       "        vertical-align: middle;\n",
       "    }\n",
       "\n",
       "    .dataframe tbody tr th {\n",
       "        vertical-align: top;\n",
       "    }\n",
       "\n",
       "    .dataframe thead th {\n",
       "        text-align: right;\n",
       "    }\n",
       "</style>\n",
       "<table border=\"1\" class=\"dataframe\">\n",
       "  <thead>\n",
       "    <tr style=\"text-align: right;\">\n",
       "      <th></th>\n",
       "      <th>PatientID</th>\n",
       "      <th>diagnosis_date</th>\n",
       "      <th>adv_date</th>\n",
       "      <th>Histology</th>\n",
       "      <th>SmokingStatus</th>\n",
       "      <th>stage</th>\n",
       "      <th>adv_year_cat</th>\n",
       "      <th>adv_year</th>\n",
       "      <th>delta_adv_diagnosis</th>\n",
       "    </tr>\n",
       "  </thead>\n",
       "  <tbody>\n",
       "    <tr>\n",
       "      <th>18967</th>\n",
       "      <td>F47C4D4E0908D</td>\n",
       "      <td>2013-01-01</td>\n",
       "      <td>2013-01-01</td>\n",
       "      <td>Non-squamous cell carcinoma</td>\n",
       "      <td>No history of smoking</td>\n",
       "      <td>IV</td>\n",
       "      <td>13-14</td>\n",
       "      <td>2013</td>\n",
       "      <td>0</td>\n",
       "    </tr>\n",
       "    <tr>\n",
       "      <th>38995</th>\n",
       "      <td>FB4DB20A88839</td>\n",
       "      <td>2015-09-02</td>\n",
       "      <td>2015-09-02</td>\n",
       "      <td>Non-squamous cell carcinoma</td>\n",
       "      <td>History of smoking</td>\n",
       "      <td>IV</td>\n",
       "      <td>15-16</td>\n",
       "      <td>2015</td>\n",
       "      <td>0</td>\n",
       "    </tr>\n",
       "    <tr>\n",
       "      <th>63455</th>\n",
       "      <td>FB731BD275C22</td>\n",
       "      <td>2015-08-27</td>\n",
       "      <td>2016-10-12</td>\n",
       "      <td>Non-squamous cell carcinoma</td>\n",
       "      <td>History of smoking</td>\n",
       "      <td>I</td>\n",
       "      <td>15-16</td>\n",
       "      <td>2016</td>\n",
       "      <td>412</td>\n",
       "    </tr>\n",
       "    <tr>\n",
       "      <th>30120</th>\n",
       "      <td>FE91E9FF373CC</td>\n",
       "      <td>2015-09-14</td>\n",
       "      <td>2015-09-14</td>\n",
       "      <td>NSCLC histology NOS</td>\n",
       "      <td>History of smoking</td>\n",
       "      <td>IV</td>\n",
       "      <td>15-16</td>\n",
       "      <td>2015</td>\n",
       "      <td>0</td>\n",
       "    </tr>\n",
       "    <tr>\n",
       "      <th>59224</th>\n",
       "      <td>F649A61A8426D</td>\n",
       "      <td>2014-06-20</td>\n",
       "      <td>2014-06-20</td>\n",
       "      <td>Non-squamous cell carcinoma</td>\n",
       "      <td>History of smoking</td>\n",
       "      <td>IV</td>\n",
       "      <td>13-14</td>\n",
       "      <td>2014</td>\n",
       "      <td>0</td>\n",
       "    </tr>\n",
       "  </tbody>\n",
       "</table>\n",
       "</div>"
      ],
      "text/plain": [
       "           PatientID diagnosis_date   adv_date                    Histology  \\\n",
       "18967  F47C4D4E0908D     2013-01-01 2013-01-01  Non-squamous cell carcinoma   \n",
       "38995  FB4DB20A88839     2015-09-02 2015-09-02  Non-squamous cell carcinoma   \n",
       "63455  FB731BD275C22     2015-08-27 2016-10-12  Non-squamous cell carcinoma   \n",
       "30120  FE91E9FF373CC     2015-09-14 2015-09-14          NSCLC histology NOS   \n",
       "59224  F649A61A8426D     2014-06-20 2014-06-20  Non-squamous cell carcinoma   \n",
       "\n",
       "               SmokingStatus stage adv_year_cat  adv_year  delta_adv_diagnosis  \n",
       "18967  No history of smoking    IV        13-14      2013                    0  \n",
       "38995     History of smoking    IV        15-16      2015                    0  \n",
       "63455     History of smoking     I        15-16      2016                  412  \n",
       "30120     History of smoking    IV        15-16      2015                    0  \n",
       "59224     History of smoking    IV        13-14      2014                    0  "
      ]
     },
     "execution_count": 46,
     "metadata": {},
     "output_type": "execute_result"
    }
   ],
   "source": [
    "# Final enhanced_adv dataframe\n",
    "enhanced_adv.sample(5)"
   ]
  },
  {
   "cell_type": "code",
   "execution_count": 47,
   "metadata": {},
   "outputs": [
    {
     "data": {
      "text/plain": [
       "(13697, 13697)"
      ]
     },
     "execution_count": 47,
     "metadata": {},
     "output_type": "execute_result"
    }
   ],
   "source": [
    "row_ID(enhanced_adv)"
   ]
  },
  {
   "cell_type": "code",
   "execution_count": 48,
   "metadata": {},
   "outputs": [
    {
     "name": "stdout",
     "output_type": "stream",
     "text": [
      "Variable       Type         Data/Info\n",
      "-------------------------------------\n",
      "demographics   DataFrame               PatientID Prac<...>n[13697 rows x 7 columns]\n",
      "enhanced_adv   DataFrame               PatientID diag<...>n[13697 rows x 9 columns]\n"
     ]
    }
   ],
   "source": [
    "%whos DataFrame"
   ]
  },
  {
   "cell_type": "markdown",
   "metadata": {},
   "source": [
    "### 3. Mortality "
   ]
  },
  {
   "cell_type": "code",
   "execution_count": 49,
   "metadata": {},
   "outputs": [],
   "source": [
    "mortality = pd.read_csv('Enhanced_Mortality_V2.csv')"
   ]
  },
  {
   "cell_type": "code",
   "execution_count": 50,
   "metadata": {},
   "outputs": [],
   "source": [
    "mortality = mortality[mortality['PatientID'].isin(test_IDs)]"
   ]
  },
  {
   "cell_type": "code",
   "execution_count": 51,
   "metadata": {},
   "outputs": [
    {
     "data": {
      "text/plain": [
       "(9806, 9806)"
      ]
     },
     "execution_count": 51,
     "metadata": {},
     "output_type": "execute_result"
    }
   ],
   "source": [
    "row_ID(mortality)"
   ]
  },
  {
   "cell_type": "code",
   "execution_count": 52,
   "metadata": {},
   "outputs": [],
   "source": [
    "mortality = mortality.rename(columns = {'DateOfDeath': 'death_date'})"
   ]
  },
  {
   "cell_type": "code",
   "execution_count": 53,
   "metadata": {},
   "outputs": [],
   "source": [
    "# For patients with year granularity, impute middle of the year (ie., July 1)\n",
    "mortality['death_date'] = (\n",
    "    np.where(mortality['death_date'].str.len() == 4, mortality['death_date'] + '-07-01', mortality['death_date'])\n",
    ")"
   ]
  },
  {
   "cell_type": "code",
   "execution_count": 54,
   "metadata": {},
   "outputs": [],
   "source": [
    "# For patients with month granularity, impute 15th of the month.\n",
    "mortality['death_date'] = (\n",
    "    np.where(mortality['death_date'].str.len() == 7, mortality['death_date'] + '-15', mortality['death_date'])\n",
    ")"
   ]
  },
  {
   "cell_type": "code",
   "execution_count": 55,
   "metadata": {},
   "outputs": [],
   "source": [
    "mortality['death_date'] = pd.to_datetime(mortality['death_date'])"
   ]
  },
  {
   "cell_type": "markdown",
   "metadata": {},
   "source": [
    "#### Censoring"
   ]
  },
  {
   "cell_type": "markdown",
   "metadata": {},
   "source": [
    "**For patients for whom a date of death is not known, the censor date can be defined either as the data cutoff date or as the last confirmed activity date. The last confirmed activity date is broadly defined as the last date at which there is evidence in the EHR that a patient is alive. Evidence of a record in at least one of the items listed below qualifies as patient-level confirmed activity:**\n",
    "* **Visit: VisitDate**\n",
    "* **Enhanced_AdvNSCLC_Orals: StartDate or EndDate**\n",
    "* **Enhanced_AdvNSCLCBiomarkers: SpecimenCollectedDate**\n",
    "* **Enhanced_AdvNSCLCProgression: LastClinicNoteDate or ProgressionDate**"
   ]
  },
  {
   "cell_type": "code",
   "execution_count": 56,
   "metadata": {},
   "outputs": [],
   "source": [
    "visit = pd.read_csv('Visit.csv')\n",
    "telemedicine = pd.read_csv('Telemedicine.csv')\n",
    "orals = pd.read_csv('Enhanced_AdvNSCLC_Orals.csv')\n",
    "biomarkers = pd.read_csv('Enhanced_AdvNSCLCBiomarkers.csv')\n",
    "progression = pd.read_csv ('Enhanced_AdvNSCLCProgression.csv')"
   ]
  },
  {
   "cell_type": "markdown",
   "metadata": {},
   "source": [
    "##### Visit and Telemedicine"
   ]
  },
  {
   "cell_type": "code",
   "execution_count": 57,
   "metadata": {},
   "outputs": [],
   "source": [
    "# Append telemedicine to visit table. \n",
    "visit_tele = (\n",
    "    visit\n",
    "    .drop(columns = ['VisitType', 'IsVitalsVisit', 'IsTreatmentVisit', 'IsLabVisit'])\n",
    "    .append(telemedicine)\n",
    ") "
   ]
  },
  {
   "cell_type": "code",
   "execution_count": 58,
   "metadata": {},
   "outputs": [],
   "source": [
    "visit_tele.loc[:,'VisitDate'] = pd.to_datetime(visit_tele['VisitDate'])"
   ]
  },
  {
   "cell_type": "code",
   "execution_count": 59,
   "metadata": {},
   "outputs": [],
   "source": [
    "# Select max VisitDate from combined Visit and Telemedicine table.\n",
    "visit_tele_max = (\n",
    "    visit_tele\n",
    "    [visit_tele['PatientID'].isin(test_IDs)]\n",
    "    .groupby('PatientID')['VisitDate'].max()\n",
    "    .to_frame(name = 'visit_max')\n",
    "    .reset_index()\n",
    ")"
   ]
  },
  {
   "cell_type": "markdown",
   "metadata": {},
   "source": [
    "##### Orals"
   ]
  },
  {
   "cell_type": "code",
   "execution_count": 60,
   "metadata": {},
   "outputs": [],
   "source": [
    "orals = orals[orals['PatientID'].isin(test_IDs)]"
   ]
  },
  {
   "cell_type": "code",
   "execution_count": 61,
   "metadata": {},
   "outputs": [
    {
     "data": {
      "text/plain": [
       "(2830, 1985)"
      ]
     },
     "execution_count": 61,
     "metadata": {},
     "output_type": "execute_result"
    }
   ],
   "source": [
    "row_ID(orals)"
   ]
  },
  {
   "cell_type": "code",
   "execution_count": 62,
   "metadata": {},
   "outputs": [],
   "source": [
    "orals.loc[:, 'StartDate'] = pd.to_datetime(orals['StartDate'])"
   ]
  },
  {
   "cell_type": "code",
   "execution_count": 63,
   "metadata": {},
   "outputs": [],
   "source": [
    "orals.loc[:, 'EndDate'] = pd.to_datetime(orals['EndDate'])"
   ]
  },
  {
   "cell_type": "code",
   "execution_count": 64,
   "metadata": {},
   "outputs": [],
   "source": [
    "orals_max = (\n",
    "    orals\n",
    "    .assign(max_date = orals[['StartDate', 'EndDate']].max(axis = 1))\n",
    "    .groupby('PatientID')['max_date'].max()\n",
    "    .to_frame(name = 'orals_max')\n",
    "    .reset_index()\n",
    ")"
   ]
  },
  {
   "cell_type": "markdown",
   "metadata": {},
   "source": [
    "##### Biomarkers"
   ]
  },
  {
   "cell_type": "code",
   "execution_count": 65,
   "metadata": {},
   "outputs": [],
   "source": [
    "biomarkers = biomarkers[biomarkers['PatientID'].isin(test_IDs)]"
   ]
  },
  {
   "cell_type": "code",
   "execution_count": 66,
   "metadata": {},
   "outputs": [
    {
     "data": {
      "text/plain": [
       "(51601, 10160)"
      ]
     },
     "execution_count": 66,
     "metadata": {},
     "output_type": "execute_result"
    }
   ],
   "source": [
    "row_ID(biomarkers)"
   ]
  },
  {
   "cell_type": "code",
   "execution_count": 67,
   "metadata": {},
   "outputs": [],
   "source": [
    "biomarkers.loc[:, 'SpecimenCollectedDate'] = pd.to_datetime(biomarkers['SpecimenCollectedDate'])"
   ]
  },
  {
   "cell_type": "code",
   "execution_count": 68,
   "metadata": {},
   "outputs": [],
   "source": [
    "biomarkers_max = (\n",
    "    biomarkers\n",
    "    .groupby('PatientID')['SpecimenCollectedDate'].max()\n",
    "    .to_frame(name = 'biomarkers_max')\n",
    "    .reset_index()\n",
    ")"
   ]
  },
  {
   "cell_type": "markdown",
   "metadata": {},
   "source": [
    "##### Progression"
   ]
  },
  {
   "cell_type": "code",
   "execution_count": 69,
   "metadata": {},
   "outputs": [],
   "source": [
    "progression = progression[progression['PatientID'].isin(test_IDs)]"
   ]
  },
  {
   "cell_type": "code",
   "execution_count": 70,
   "metadata": {},
   "outputs": [
    {
     "data": {
      "text/plain": [
       "(17248, 9984)"
      ]
     },
     "execution_count": 70,
     "metadata": {},
     "output_type": "execute_result"
    }
   ],
   "source": [
    "row_ID(progression)"
   ]
  },
  {
   "cell_type": "code",
   "execution_count": 71,
   "metadata": {},
   "outputs": [],
   "source": [
    "progression.loc[:, 'ProgressionDate'] = pd.to_datetime(progression['ProgressionDate'])"
   ]
  },
  {
   "cell_type": "code",
   "execution_count": 72,
   "metadata": {},
   "outputs": [],
   "source": [
    "progression.loc[:, 'LastClinicNoteDate'] = pd.to_datetime(progression['LastClinicNoteDate'])"
   ]
  },
  {
   "cell_type": "code",
   "execution_count": 73,
   "metadata": {},
   "outputs": [],
   "source": [
    "progression_max = (\n",
    "    progression\n",
    "    .assign(max_date = progression[['ProgressionDate', 'LastClinicNoteDate']].max(axis = 1))\n",
    "    .groupby('PatientID')['max_date'].max()\n",
    "    .to_frame(name = 'progression_max')\n",
    "    .reset_index()\n",
    ")"
   ]
  },
  {
   "cell_type": "markdown",
   "metadata": {},
   "source": [
    "##### Max date merge"
   ]
  },
  {
   "cell_type": "code",
   "execution_count": 74,
   "metadata": {},
   "outputs": [],
   "source": [
    "last_activity = pd.merge(visit_tele_max, orals_max, on = 'PatientID', how = 'outer')"
   ]
  },
  {
   "cell_type": "code",
   "execution_count": 75,
   "metadata": {},
   "outputs": [],
   "source": [
    "last_activity = pd.merge(last_activity, biomarkers_max, on = 'PatientID', how = 'outer')"
   ]
  },
  {
   "cell_type": "code",
   "execution_count": 76,
   "metadata": {},
   "outputs": [],
   "source": [
    "last_activity = pd.merge(last_activity, progression_max, on = 'PatientID', how = 'outer')"
   ]
  },
  {
   "cell_type": "code",
   "execution_count": 77,
   "metadata": {},
   "outputs": [
    {
     "data": {
      "text/plain": [
       "(13697, 13697)"
      ]
     },
     "execution_count": 77,
     "metadata": {},
     "output_type": "execute_result"
    }
   ],
   "source": [
    "row_ID(last_activity)"
   ]
  },
  {
   "cell_type": "code",
   "execution_count": 78,
   "metadata": {},
   "outputs": [],
   "source": [
    "# Find max of each row. \n",
    "last_activity = (\n",
    "    last_activity\n",
    "    .assign(last_activity = last_activity[['visit_max', 'orals_max', 'biomarkers_max', 'progression_max']].max(axis = 1))\n",
    "    .filter(items = ['PatientID', 'last_activity'])\n",
    ")"
   ]
  },
  {
   "cell_type": "code",
   "execution_count": 79,
   "metadata": {},
   "outputs": [],
   "source": [
    "# Append missing training IDs.\n",
    "mortality = (\n",
    "    mortality\n",
    "    .append(\n",
    "        pd.Series(test_IDs)[~pd.Series(test_IDs).isin(mortality['PatientID'])].to_frame(name = 'PatientID'), \n",
    "        sort = False\n",
    "    )\n",
    ")"
   ]
  },
  {
   "cell_type": "code",
   "execution_count": 80,
   "metadata": {},
   "outputs": [],
   "source": [
    "mortality = pd.merge(mortality, enhanced_adv[['PatientID', 'adv_date']], on = 'PatientID')"
   ]
  },
  {
   "cell_type": "code",
   "execution_count": 81,
   "metadata": {},
   "outputs": [],
   "source": [
    "mortality = pd.merge(mortality, last_activity, on = 'PatientID')"
   ]
  },
  {
   "cell_type": "code",
   "execution_count": 82,
   "metadata": {},
   "outputs": [
    {
     "data": {
      "text/plain": [
       "(13697, 13697)"
      ]
     },
     "execution_count": 82,
     "metadata": {},
     "output_type": "execute_result"
    }
   ],
   "source": [
    "row_ID(mortality)"
   ]
  },
  {
   "cell_type": "code",
   "execution_count": 83,
   "metadata": {},
   "outputs": [],
   "source": [
    "mortality.loc[:, 'death_status'] = np.where(mortality['death_date'].isna(), 0, 1)"
   ]
  },
  {
   "cell_type": "code",
   "execution_count": 84,
   "metadata": {},
   "outputs": [],
   "source": [
    "mortality.loc[:, 'timerisk_activity'] = (\n",
    "    np.where(mortality['death_date'].isna(),\n",
    "             (mortality['last_activity'] - mortality['adv_date']).dt.days,\n",
    "             (mortality['death_date'] - mortality['adv_date']).dt.days)\n",
    ")"
   ]
  },
  {
   "cell_type": "code",
   "execution_count": 85,
   "metadata": {},
   "outputs": [],
   "source": [
    "# If timerisk_activity is less than 0, set to 0 otherwise remains unchanged. \n",
    "mortality['timerisk_activity'] = np.where(mortality['timerisk_activity'] < 0, 0, mortality['timerisk_activity'])"
   ]
  },
  {
   "cell_type": "code",
   "execution_count": 86,
   "metadata": {},
   "outputs": [],
   "source": [
    "mortality = pd.merge(mortality, enhanced_adv[['PatientID', 'diagnosis_date']], on = 'PatientID', how = 'outer')"
   ]
  },
  {
   "cell_type": "code",
   "execution_count": 87,
   "metadata": {},
   "outputs": [],
   "source": [
    "# timerisk_activity_first is time from first diagnosis (advanced or not) to death or last activity if no death date.\n",
    "mortality.loc[:, 'timerisk_activity_first'] = (\n",
    "    np.where(mortality['death_date'].isna(),\n",
    "             (mortality['last_activity'] - mortality['diagnosis_date']).dt.days,\n",
    "             (mortality['death_date'] - mortality['diagnosis_date']).dt.days)\n",
    ")"
   ]
  },
  {
   "cell_type": "code",
   "execution_count": 88,
   "metadata": {},
   "outputs": [],
   "source": [
    "# If timerisk_activity is less than 0, set to 0 otherwise remains unchanged. \n",
    "mortality['timerisk_activity_first'] = np.where(\n",
    "    mortality['timerisk_activity_first'] < 0, 0, mortality['timerisk_activity_first'])"
   ]
  },
  {
   "cell_type": "code",
   "execution_count": 89,
   "metadata": {},
   "outputs": [],
   "source": [
    "mortality.to_csv('mortality_cleaned_te.csv', index = False, header = True)"
   ]
  },
  {
   "cell_type": "code",
   "execution_count": 90,
   "metadata": {},
   "outputs": [],
   "source": [
    "mortality = mortality.filter(items = ['PatientID', 'death_status', 'timerisk_activity'])"
   ]
  },
  {
   "cell_type": "code",
   "execution_count": 91,
   "metadata": {},
   "outputs": [
    {
     "name": "stdout",
     "output_type": "stream",
     "text": [
      "Variable          Type         Data/Info\n",
      "----------------------------------------\n",
      "biomarkers        DataFrame                PatientID Bio<...>[51601 rows x 18 columns]\n",
      "biomarkers_max    DataFrame               PatientID biom<...>n[10160 rows x 2 columns]\n",
      "demographics      DataFrame               PatientID Prac<...>n[13697 rows x 7 columns]\n",
      "enhanced_adv      DataFrame               PatientID diag<...>n[13697 rows x 9 columns]\n",
      "last_activity     DataFrame               PatientID last<...>n[13697 rows x 2 columns]\n",
      "mortality         DataFrame               PatientID  dea<...>n[13697 rows x 3 columns]\n",
      "orals             DataFrame               PatientID     <...>\\n[2830 rows x 5 columns]\n",
      "orals_max         DataFrame              PatientID  oral<...>\\n[1985 rows x 2 columns]\n",
      "progression       DataFrame               PatientID Prog<...>n[17248 rows x 8 columns]\n",
      "progression_max   DataFrame              PatientID progr<...>\\n[9984 rows x 2 columns]\n",
      "telemedicine      DataFrame               PatientID   Vi<...>n[16712 rows x 2 columns]\n",
      "visit             DataFrame                 PatientID   <...>2446952 rows x 6 columns]\n",
      "visit_tele        DataFrame               PatientID  Vis<...>2463664 rows x 2 columns]\n",
      "visit_tele_max    DataFrame               PatientID  vis<...>n[13697 rows x 2 columns]\n"
     ]
    }
   ],
   "source": [
    "%whos DataFrame"
   ]
  },
  {
   "cell_type": "code",
   "execution_count": 92,
   "metadata": {},
   "outputs": [],
   "source": [
    "# Keep mortality\n",
    "del biomarkers\n",
    "del biomarkers_max\n",
    "del last_activity\n",
    "del orals\n",
    "del orals_max\n",
    "del progression \n",
    "del progression_max\n",
    "del telemedicine\n",
    "del visit\n",
    "del visit_tele\n",
    "del visit_tele_max"
   ]
  },
  {
   "cell_type": "markdown",
   "metadata": {},
   "source": [
    "### 4. MedicationAdministration"
   ]
  },
  {
   "cell_type": "code",
   "execution_count": 93,
   "metadata": {},
   "outputs": [],
   "source": [
    "med_admin = pd.read_csv('MedicationAdministration.csv')"
   ]
  },
  {
   "cell_type": "code",
   "execution_count": 94,
   "metadata": {},
   "outputs": [
    {
     "data": {
      "text/plain": [
       "(3368216, 52146)"
      ]
     },
     "execution_count": 94,
     "metadata": {},
     "output_type": "execute_result"
    }
   ],
   "source": [
    "row_ID(med_admin)"
   ]
  },
  {
   "cell_type": "code",
   "execution_count": 95,
   "metadata": {},
   "outputs": [],
   "source": [
    "med_admin = med_admin[med_admin['PatientID'].isin(test_IDs)]"
   ]
  },
  {
   "cell_type": "code",
   "execution_count": 96,
   "metadata": {},
   "outputs": [
    {
     "data": {
      "text/plain": [
       "(671300, 10459)"
      ]
     },
     "execution_count": 96,
     "metadata": {},
     "output_type": "execute_result"
    }
   ],
   "source": [
    "row_ID(med_admin)"
   ]
  },
  {
   "cell_type": "markdown",
   "metadata": {},
   "source": [
    "**The Medication Administration table documents the date a medication was administered to a patient. An indicator variable for clinically relevant administered medications received between -90 days from advanced diagnosis and up to time of first line of therapy will be created as columns.** "
   ]
  },
  {
   "cell_type": "code",
   "execution_count": 97,
   "metadata": {},
   "outputs": [],
   "source": [
    "line_therapy = pd.read_csv('LineOfTherapy.csv')"
   ]
  },
  {
   "cell_type": "code",
   "execution_count": 98,
   "metadata": {},
   "outputs": [],
   "source": [
    "line_therapy_1 = (\n",
    "    line_therapy \n",
    "    .query('LineNumber == 1 and IsMaintenanceTherapy == False')\n",
    ")"
   ]
  },
  {
   "cell_type": "code",
   "execution_count": 99,
   "metadata": {},
   "outputs": [],
   "source": [
    "med_admin = pd.merge(med_admin, line_therapy_1[['PatientID', 'StartDate']], on = 'PatientID', how = 'left')"
   ]
  },
  {
   "cell_type": "code",
   "execution_count": 100,
   "metadata": {},
   "outputs": [],
   "source": [
    "med_admin = pd.merge(med_admin, enhanced_adv[['PatientID', 'adv_date']], on = 'PatientID', how = 'left')"
   ]
  },
  {
   "cell_type": "code",
   "execution_count": 101,
   "metadata": {},
   "outputs": [],
   "source": [
    "med_admin.loc[:, 'AdministeredDate'] = pd.to_datetime(med_admin['AdministeredDate'])"
   ]
  },
  {
   "cell_type": "code",
   "execution_count": 102,
   "metadata": {},
   "outputs": [],
   "source": [
    "med_admin.loc[:, 'StartDate'] = pd.to_datetime(med_admin['StartDate'])"
   ]
  },
  {
   "cell_type": "code",
   "execution_count": 103,
   "metadata": {},
   "outputs": [],
   "source": [
    "# New variable upper_bound which defines upper bound\n",
    "# If no StartDate (ie., no treatment received), then upper bound +30 from advanced diagnosis \n",
    "# If StartDate is greater than 30 days from advanced diagnosis, then upper bound +30 from advanced diagnosis\n",
    "# If StartDate is less than or equal 30 from advanced diagnosis, then upper bound is one day before StartDate\n",
    "conditions = [\n",
    "    (med_admin['StartDate'].isna()) | ((med_admin['StartDate'] - med_admin['adv_date']).dt.days > 30),\n",
    "    ((med_admin['StartDate'] - med_admin['adv_date']).dt.days <= 30)]    \n",
    "\n",
    "choices = [30, (med_admin['StartDate'] - med_admin['adv_date']).dt.days - 1]\n",
    "    \n",
    "med_admin.loc[:, 'upper_bound'] = np.select(conditions, choices)"
   ]
  },
  {
   "cell_type": "code",
   "execution_count": 104,
   "metadata": {},
   "outputs": [],
   "source": [
    "med_admin.loc[:, 'upper_bound_date'] = (\n",
    "    np.where(med_admin['upper_bound'] != 30, \n",
    "             med_admin['StartDate'] - pd.DateOffset(days = 1), \n",
    "             med_admin['adv_date'] + pd.DateOffset(days = 30))\n",
    ")"
   ]
  },
  {
   "cell_type": "code",
   "execution_count": 105,
   "metadata": {},
   "outputs": [],
   "source": [
    "# Select window of -90 to +30 or start date of first line (whichever comes first) from time of advanced diagnosis and remove clinical study drug. \n",
    "med_admin_win = (\n",
    "    med_admin\n",
    "    [((med_admin['AdministeredDate'] - med_admin['adv_date']).dt.days >= -90) &\n",
    "    (med_admin['AdministeredDate'] <= med_admin['upper_bound_date']) &\n",
    "    (med_admin['CommonDrugName'] != 'Clinical study drug')]\n",
    ")"
   ]
  },
  {
   "cell_type": "code",
   "execution_count": 106,
   "metadata": {},
   "outputs": [
    {
     "data": {
      "text/plain": [
       "(41432, 2843)"
      ]
     },
     "execution_count": 106,
     "metadata": {},
     "output_type": "execute_result"
    }
   ],
   "source": [
    "row_ID(med_admin_win)"
   ]
  },
  {
   "cell_type": "markdown",
   "metadata": {},
   "source": [
    "#### 4.1 Antineoplastic"
   ]
  },
  {
   "cell_type": "markdown",
   "metadata": {},
   "source": [
    "**No indicator variable created.** "
   ]
  },
  {
   "cell_type": "markdown",
   "metadata": {},
   "source": [
    "#### 4.2 Antiemetic"
   ]
  },
  {
   "cell_type": "markdown",
   "metadata": {},
   "source": [
    "**No indicator variable created.** "
   ]
  },
  {
   "cell_type": "markdown",
   "metadata": {},
   "source": [
    "#### 4.3 Solution-fluid"
   ]
  },
  {
   "cell_type": "markdown",
   "metadata": {},
   "source": [
    "**No indicator variable created.** "
   ]
  },
  {
   "cell_type": "markdown",
   "metadata": {},
   "source": [
    "#### 4.4 Glucocorticoid & steroid"
   ]
  },
  {
   "cell_type": "code",
   "execution_count": 107,
   "metadata": {},
   "outputs": [
    {
     "name": "stderr",
     "output_type": "stream",
     "text": [
      "/Users/xavierorcutt/Dropbox/ist_project/myenv/lib/python3.7/site-packages/pandas/core/indexing.py:1667: SettingWithCopyWarning: \n",
      "A value is trying to be set on a copy of a slice from a DataFrame.\n",
      "Try using .loc[row_indexer,col_indexer] = value instead\n",
      "\n",
      "See the caveats in the documentation: https://pandas.pydata.org/pandas-docs/stable/user_guide/indexing.html#returning-a-view-versus-a-copy\n",
      "  self.obj[key] = value\n"
     ]
    }
   ],
   "source": [
    "med_admin_win.loc[:, 'steroid_diag'] = (\n",
    "    np.where(((med_admin_win['DrugCategory'] == 'glucocorticoid') | \n",
    "              (med_admin_win['CommonDrugName'] == 'hydrocortisone')) & \n",
    "             ((med_admin_win['Route'] == 'Intravenous') | \n",
    "              (med_admin_win['Route'] == 'Oral') | \n",
    "              (med_admin_win['Route'] == 'Intrajejunal')), 1, 0)\n",
    ")"
   ]
  },
  {
   "cell_type": "markdown",
   "metadata": {},
   "source": [
    "#### 4.5 Pain agent"
   ]
  },
  {
   "cell_type": "markdown",
   "metadata": {},
   "source": [
    "**Clinically releavant. Three indicator variables from 'pain agent' category will be created:**\n",
    "* **Opioid PO: patient recieved oral opioid (fentanyl patch included)**\n",
    "* **Non-opioid PO: patient received non-opioid orally** \n",
    "* **Pain IV: patient received pain medciation intravenously**"
   ]
  },
  {
   "cell_type": "markdown",
   "metadata": {},
   "source": [
    "##### 4.5a opioid PO"
   ]
  },
  {
   "cell_type": "code",
   "execution_count": 108,
   "metadata": {},
   "outputs": [],
   "source": [
    "# List of avialable opioids in the US. \n",
    "opioid_list = [\n",
    "    'buprenorphine',\n",
    "    'codeine',\n",
    "    'fentanyl',\n",
    "    'hydrocodone',\n",
    "    'hydromorphone',\n",
    "    'methadone',\n",
    "    'morphine',\n",
    "    'oxycodone',\n",
    "    'oxymorphone',\n",
    "    'tapentadol',\n",
    "    'tramadol'\n",
    "]"
   ]
  },
  {
   "cell_type": "code",
   "execution_count": 109,
   "metadata": {},
   "outputs": [],
   "source": [
    "med_admin_win.loc[:, 'opioid_PO_diag'] = (\n",
    "    np.where(((med_admin_win['Route'] == 'Oral') | \n",
    "              (med_admin_win['Route'] == 'Transdermal') | \n",
    "              (med_admin_win['Route'] == 'Sublingual')) &\n",
    "             (med_admin_win['CommonDrugName'].str.contains('|'.join(opioid_list))), 1, 0)\n",
    ")"
   ]
  },
  {
   "cell_type": "markdown",
   "metadata": {},
   "source": [
    "##### 4.5b Nonopioid PO"
   ]
  },
  {
   "cell_type": "code",
   "execution_count": 110,
   "metadata": {},
   "outputs": [],
   "source": [
    "med_admin_win.loc[:, 'nonopioid_PO_diag'] = (\n",
    "    np.where((med_admin_win['DrugCategory'] == 'pain agent') & \n",
    "             (med_admin_win['Route'] == 'Oral') & \n",
    "             (~med_admin_win['CommonDrugName'].str.contains('|'.join(opioid_list))), 1, 0)\n",
    ")"
   ]
  },
  {
   "cell_type": "markdown",
   "metadata": {},
   "source": [
    "##### 4.5c Pain IV"
   ]
  },
  {
   "cell_type": "code",
   "execution_count": 111,
   "metadata": {},
   "outputs": [],
   "source": [
    "med_admin_win.loc[:, 'pain_IV_diag'] = (\n",
    "    np.where((med_admin_win['DrugCategory'] == 'pain agent') & \n",
    "             (med_admin_win['Route'] == 'Intravenous') & \n",
    "             (med_admin_win['CommonDrugName'] != 'abatacept') & \n",
    "             (med_admin_win['CommonDrugName'] != 'lidocaine'), 1, 0)\n",
    ")"
   ]
  },
  {
   "cell_type": "markdown",
   "metadata": {},
   "source": [
    "#### 4.6 A. Hematological agent"
   ]
  },
  {
   "cell_type": "markdown",
   "metadata": {},
   "source": [
    "**A therapeutic anticoagulation indicator variable will be created from the hematological agent category and will consist of:** \n",
    "* **Heparin: patients on a heparin gtt or other pareneral agents (eg., bivilrudin or argatroban)**\n",
    "* **Enoxaparin: patients administered greater than prophylactic dosing of enoxaparin or other subcutaneous agents (eg., dalteparin or fondaparinux)**\n",
    "* **DOAC: patients administered any dose of apxiaban, rivaroxabn, edoxaban, or dabigatran**\n",
    "* **Warfarin: patients administered any dose of warfarin**  "
   ]
  },
  {
   "cell_type": "markdown",
   "metadata": {},
   "source": [
    "##### 4.6 Aa. Heparin and other parenteral agents"
   ]
  },
  {
   "cell_type": "code",
   "execution_count": 112,
   "metadata": {},
   "outputs": [],
   "source": [
    "med_admin_win.loc[:, 'heparin_diag'] = (\n",
    "    np.where(((med_admin_win['CommonDrugName'].str.contains('heparin')) & \n",
    "              (med_admin_win['AdministeredUnits'] == 'unit/kg/hr')) | \n",
    "             (med_admin_win['CommonDrugName'].str.contains('bivalirudin')) | \n",
    "             (med_admin_win['CommonDrugName'].str.contains('argatroban')), 1, 0)\n",
    ")"
   ]
  },
  {
   "cell_type": "markdown",
   "metadata": {},
   "source": [
    "##### 4.6 Ab. Enoxaparin and other subcutaneous agents "
   ]
  },
  {
   "cell_type": "code",
   "execution_count": 113,
   "metadata": {},
   "outputs": [],
   "source": [
    "med_admin_win.loc[:, 'enoxaparin_diag'] = (\n",
    "    np.where(((med_admin_win['CommonDrugName'].str.contains('enoxaparin')) & \n",
    "              (med_admin_win['AdministeredAmount'] > 40)) | \n",
    "             ((med_admin_win['CommonDrugName'].str.contains('dalteparin')) & \n",
    "              (med_admin_win['AdministeredAmount'] > 5000)) | \n",
    "             ((med_admin_win['CommonDrugName'].str.contains('fondaparinux')) & \n",
    "              (med_admin_win['AdministeredAmount'] > 2.5)), 1, 0)\n",
    ")"
   ]
  },
  {
   "cell_type": "markdown",
   "metadata": {},
   "source": [
    "##### 4.6 Ac. DOAC"
   ]
  },
  {
   "cell_type": "code",
   "execution_count": 114,
   "metadata": {},
   "outputs": [],
   "source": [
    "med_admin_win.loc[:, 'doac_diag'] = (\n",
    "    np.where((med_admin_win['CommonDrugName'].str.contains('apixaban')) | \n",
    "             (med_admin_win['CommonDrugName'].str.contains('rivaroxaban')) | \n",
    "             (med_admin_win['CommonDrugName'].str.contains('dabigatran')) | \n",
    "             (med_admin_win['CommonDrugName'].str.contains('edoxaban')), 1, 0)\n",
    ")"
   ]
  },
  {
   "cell_type": "markdown",
   "metadata": {},
   "source": [
    "##### 4.6 Ad. Warfarin"
   ]
  },
  {
   "cell_type": "code",
   "execution_count": 115,
   "metadata": {},
   "outputs": [],
   "source": [
    "med_admin_win.loc[:, 'warfarin_diag'] = np.where((med_admin_win['CommonDrugName'].str.contains('warfarin')), 1, 0)"
   ]
  },
  {
   "cell_type": "markdown",
   "metadata": {},
   "source": [
    "##### 4.6 Ae. Anticaogulation merge "
   ]
  },
  {
   "cell_type": "code",
   "execution_count": 116,
   "metadata": {},
   "outputs": [
    {
     "name": "stderr",
     "output_type": "stream",
     "text": [
      "/Users/xavierorcutt/Dropbox/ist_project/myenv/lib/python3.7/site-packages/ipykernel_launcher.py:3: SettingWithCopyWarning: \n",
      "A value is trying to be set on a copy of a slice from a DataFrame.\n",
      "Try using .loc[row_indexer,col_indexer] = value instead\n",
      "\n",
      "See the caveats in the documentation: https://pandas.pydata.org/pandas-docs/stable/user_guide/indexing.html#returning-a-view-versus-a-copy\n",
      "  This is separate from the ipykernel package so we can avoid doing imports until\n"
     ]
    }
   ],
   "source": [
    "# Combine heparin, enoxparin, DOAC, and warfarin columns into a single anticoagulation indicator variable. \n",
    "med_admin_win['ac_diag'] = (\n",
    "    med_admin_win['heparin_diag'] + med_admin_win['enoxaparin_diag'] + med_admin_win['doac_diag'] + med_admin_win['warfarin_diag']\n",
    ")"
   ]
  },
  {
   "cell_type": "code",
   "execution_count": 117,
   "metadata": {},
   "outputs": [],
   "source": [
    "# Drop heparin, enoxaparin, DOAC, and warfarin columns. \n",
    "med_admin_win = med_admin_win.drop(columns = ['heparin_diag', 'enoxaparin_diag', 'doac_diag', 'warfarin_diag'])"
   ]
  },
  {
   "cell_type": "markdown",
   "metadata": {},
   "source": [
    "##### 4.6 B. DAPT"
   ]
  },
  {
   "cell_type": "markdown",
   "metadata": {},
   "source": [
    "**No indicator variable created.** "
   ]
  },
  {
   "cell_type": "markdown",
   "metadata": {},
   "source": [
    "##### 4.6 C. G-CSF"
   ]
  },
  {
   "cell_type": "markdown",
   "metadata": {},
   "source": [
    "**No indicator variable created.**"
   ]
  },
  {
   "cell_type": "markdown",
   "metadata": {},
   "source": [
    "##### 4.6 C. ESA"
   ]
  },
  {
   "cell_type": "markdown",
   "metadata": {},
   "source": [
    "**No indicator variable created.**"
   ]
  },
  {
   "cell_type": "markdown",
   "metadata": {},
   "source": [
    "##### 4.6 D. tPA"
   ]
  },
  {
   "cell_type": "markdown",
   "metadata": {},
   "source": [
    "**No indicator variable created.**"
   ]
  },
  {
   "cell_type": "markdown",
   "metadata": {},
   "source": [
    "#### 4.7 Anti-infective "
   ]
  },
  {
   "cell_type": "markdown",
   "metadata": {},
   "source": [
    "**Clinically relevant; two separate indicator variables from the anti-infective drug category will be created:** \n",
    "* **Antiinfective IV group** \n",
    "* **Antiinfective group**"
   ]
  },
  {
   "cell_type": "markdown",
   "metadata": {},
   "source": [
    "##### 4.7a Antiinfective IV "
   ]
  },
  {
   "cell_type": "code",
   "execution_count": 118,
   "metadata": {},
   "outputs": [],
   "source": [
    "med_admin_win.loc[:, 'antiinfective_IV_diag'] = (\n",
    "    np.where((med_admin_win['DrugCategory'] == 'anti-infective') & \n",
    "             (med_admin_win['Route'] == 'Intravenous'), 1, 0)\n",
    ")"
   ]
  },
  {
   "cell_type": "markdown",
   "metadata": {},
   "source": [
    "##### 4.7b Antiinfective PO"
   ]
  },
  {
   "cell_type": "code",
   "execution_count": 119,
   "metadata": {},
   "outputs": [],
   "source": [
    "med_admin_win.loc[:, 'antiinfective_diag'] = (\n",
    "    np.where((med_admin_win['DrugCategory'] == 'anti-infective') & \n",
    "             (med_admin_win['Route'] == 'Oral'), 1, 0)\n",
    ")"
   ]
  },
  {
   "cell_type": "markdown",
   "metadata": {},
   "source": [
    "#### 4.8 Anesthetic"
   ]
  },
  {
   "cell_type": "markdown",
   "metadata": {},
   "source": [
    "**No indicator variable created.** "
   ]
  },
  {
   "cell_type": "markdown",
   "metadata": {},
   "source": [
    "#### 4.9 Cytoprotective"
   ]
  },
  {
   "cell_type": "markdown",
   "metadata": {},
   "source": [
    "**No indicator variable created.**"
   ]
  },
  {
   "cell_type": "markdown",
   "metadata": {},
   "source": [
    "#### 4.10 Antihyperglycemic"
   ]
  },
  {
   "cell_type": "code",
   "execution_count": 120,
   "metadata": {},
   "outputs": [],
   "source": [
    "med_admin_win.loc[:, 'antihyperglycemic_diag'] = np.where(med_admin_win['DrugCategory'] == 'antihyperglycemic', 1, 0)"
   ]
  },
  {
   "cell_type": "markdown",
   "metadata": {},
   "source": [
    "#### 4.11 Proton pump inhibitor"
   ]
  },
  {
   "cell_type": "code",
   "execution_count": 121,
   "metadata": {},
   "outputs": [],
   "source": [
    "med_admin_win.loc[:, 'ppi_diag'] = np.where(med_admin_win['DrugCategory'] == 'proton pump inhibitor', 1, 0)"
   ]
  },
  {
   "cell_type": "markdown",
   "metadata": {},
   "source": [
    "#### 4.12 Antidepressant"
   ]
  },
  {
   "cell_type": "code",
   "execution_count": 122,
   "metadata": {},
   "outputs": [],
   "source": [
    "med_admin_win.loc[:, 'antidepressant_diag'] = np.where(med_admin_win['DrugCategory'] == 'antidepressant', 1, 0)"
   ]
  },
  {
   "cell_type": "markdown",
   "metadata": {},
   "source": [
    "#### 4.13 Bone therapy agent"
   ]
  },
  {
   "cell_type": "code",
   "execution_count": 123,
   "metadata": {},
   "outputs": [],
   "source": [
    "med_admin_win.loc[:, 'bta_diag'] = np.where(med_admin_win['DrugCategory'] == 'bone therapy agent (bta)', 1, 0)"
   ]
  },
  {
   "cell_type": "markdown",
   "metadata": {},
   "source": [
    "#### 4.14 Hormone"
   ]
  },
  {
   "cell_type": "code",
   "execution_count": 124,
   "metadata": {},
   "outputs": [],
   "source": [
    "med_admin_win.loc[:, 'thyroid_diag'] = np.where(med_admin_win['CommonDrugName'] == 'levothyroxine', 1, 0)"
   ]
  },
  {
   "cell_type": "markdown",
   "metadata": {},
   "source": [
    "#### 4.15 Gout and hyperurecemia agent "
   ]
  },
  {
   "cell_type": "markdown",
   "metadata": {},
   "source": [
    "**No indicator variable created.**"
   ]
  },
  {
   "cell_type": "markdown",
   "metadata": {},
   "source": [
    "#### 4.16 Immunosuppressive "
   ]
  },
  {
   "cell_type": "code",
   "execution_count": 125,
   "metadata": {},
   "outputs": [],
   "source": [
    "med_admin_win.loc[:, 'is_diag'] = np.where(med_admin_win['DrugCategory'] == 'immunosuppressive', 1, 0)"
   ]
  },
  {
   "cell_type": "markdown",
   "metadata": {},
   "source": [
    "#### 4.17 Sedative agent "
   ]
  },
  {
   "cell_type": "markdown",
   "metadata": {},
   "source": [
    "**No indicator variable created.**"
   ]
  },
  {
   "cell_type": "markdown",
   "metadata": {},
   "source": [
    "#### 4.18 Endocrine "
   ]
  },
  {
   "cell_type": "markdown",
   "metadata": {},
   "source": [
    "**No indicator variable created.**"
   ]
  },
  {
   "cell_type": "markdown",
   "metadata": {},
   "source": [
    "#### 4.19 Antidote and reversal agent"
   ]
  },
  {
   "cell_type": "markdown",
   "metadata": {},
   "source": [
    "**No indicator variable created.**"
   ]
  },
  {
   "cell_type": "markdown",
   "metadata": {},
   "source": [
    "#### 4.20 Hyperglycemic"
   ]
  },
  {
   "cell_type": "markdown",
   "metadata": {},
   "source": [
    "**No indicator variable created.**"
   ]
  },
  {
   "cell_type": "markdown",
   "metadata": {},
   "source": [
    "#### 4.21 Antithyroid agent"
   ]
  },
  {
   "cell_type": "markdown",
   "metadata": {},
   "source": [
    "**No indicator variable created.**"
   ]
  },
  {
   "cell_type": "markdown",
   "metadata": {},
   "source": [
    "#### 4.22 Anticholinergic"
   ]
  },
  {
   "cell_type": "markdown",
   "metadata": {},
   "source": [
    "**No indicator variable created.**"
   ]
  },
  {
   "cell_type": "markdown",
   "metadata": {},
   "source": [
    "#### 4.23 Calcimimetic "
   ]
  },
  {
   "cell_type": "markdown",
   "metadata": {},
   "source": [
    "**No indicator variable created.**"
   ]
  },
  {
   "cell_type": "markdown",
   "metadata": {},
   "source": [
    "#### 4.24 Targeted therapy "
   ]
  },
  {
   "cell_type": "markdown",
   "metadata": {},
   "source": [
    "**No indicator variable created.**"
   ]
  },
  {
   "cell_type": "markdown",
   "metadata": {},
   "source": [
    "#### 4.25 Anti-convulsant agent"
   ]
  },
  {
   "cell_type": "markdown",
   "metadata": {},
   "source": [
    "**No indicator variable created.**"
   ]
  },
  {
   "cell_type": "markdown",
   "metadata": {},
   "source": [
    "#### 4.26 Route"
   ]
  },
  {
   "cell_type": "markdown",
   "metadata": {},
   "source": [
    "**No indicator variable created.**"
   ]
  },
  {
   "cell_type": "markdown",
   "metadata": {},
   "source": [
    "#### 4.27 Condensing "
   ]
  },
  {
   "cell_type": "code",
   "execution_count": 126,
   "metadata": {},
   "outputs": [],
   "source": [
    "# Select columns with indicator variables and PatientID, then collapse rows by PatientID and sum columns. \n",
    "med_admin_wide = (\n",
    "    med_admin_win\n",
    "    [med_admin_win.columns[med_admin_win.columns.str.contains('diag|PatientID')]]\n",
    "    .groupby('PatientID').sum()\n",
    ")"
   ]
  },
  {
   "cell_type": "code",
   "execution_count": 127,
   "metadata": {},
   "outputs": [],
   "source": [
    "# Replace numbers greater than 1 with 1; 0 remains unchanged. \n",
    "med_admin_wide = (\n",
    "    med_admin_wide.mask(med_admin_wide > 1, 1)\n",
    "    .reset_index()\n",
    ")"
   ]
  },
  {
   "cell_type": "code",
   "execution_count": 128,
   "metadata": {},
   "outputs": [
    {
     "data": {
      "text/plain": [
       "(2843, 2843)"
      ]
     },
     "execution_count": 128,
     "metadata": {},
     "output_type": "execute_result"
    }
   ],
   "source": [
    "row_ID(med_admin_wide)"
   ]
  },
  {
   "cell_type": "code",
   "execution_count": 129,
   "metadata": {},
   "outputs": [],
   "source": [
    "# Append missing training IDs.\n",
    "med_admin_wide = (\n",
    "    med_admin_wide.append(\n",
    "        pd.Series(test_IDs)[~pd.Series(test_IDs).isin(med_admin_wide['PatientID'])].to_frame(name = 'PatientID'),\n",
    "        sort = False\n",
    "    )\n",
    "    .fillna(0)\n",
    ")"
   ]
  },
  {
   "cell_type": "code",
   "execution_count": 130,
   "metadata": {},
   "outputs": [
    {
     "data": {
      "text/plain": [
       "(13697, 13697)"
      ]
     },
     "execution_count": 130,
     "metadata": {},
     "output_type": "execute_result"
    }
   ],
   "source": [
    "row_ID(med_admin_wide)"
   ]
  },
  {
   "cell_type": "code",
   "execution_count": 131,
   "metadata": {},
   "outputs": [
    {
     "name": "stdout",
     "output_type": "stream",
     "text": [
      "Variable         Type         Data/Info\n",
      "---------------------------------------\n",
      "demographics     DataFrame               PatientID Prac<...>n[13697 rows x 7 columns]\n",
      "enhanced_adv     DataFrame               PatientID diag<...>n[13697 rows x 9 columns]\n",
      "line_therapy     DataFrame               PatientID     <...>n[95320 rows x 9 columns]\n",
      "line_therapy_1   DataFrame               PatientID     <...>n[49820 rows x 9 columns]\n",
      "med_admin        DataFrame                PatientID    <...>671300 rows x 14 columns]\n",
      "med_admin_wide   DataFrame               PatientID  ste<...>[13697 rows x 14 columns]\n",
      "med_admin_win    DataFrame                PatientID    <...>[41432 rows x 27 columns]\n",
      "mortality        DataFrame               PatientID  dea<...>n[13697 rows x 3 columns]\n"
     ]
    }
   ],
   "source": [
    "%whos DataFrame"
   ]
  },
  {
   "cell_type": "code",
   "execution_count": 132,
   "metadata": {},
   "outputs": [],
   "source": [
    "# Keep med_admin_wide.\n",
    "del line_therapy\n",
    "del line_therapy_1\n",
    "del med_admin\n",
    "del med_admin_win"
   ]
  },
  {
   "cell_type": "markdown",
   "metadata": {},
   "source": [
    "### 5. Biomarkers "
   ]
  },
  {
   "cell_type": "code",
   "execution_count": 133,
   "metadata": {},
   "outputs": [],
   "source": [
    "biomarkers = pd.read_csv('Enhanced_AdvNSCLCBiomarkers.csv')"
   ]
  },
  {
   "cell_type": "code",
   "execution_count": 134,
   "metadata": {},
   "outputs": [
    {
     "data": {
      "text/plain": [
       "(255246, 50357)"
      ]
     },
     "execution_count": 134,
     "metadata": {},
     "output_type": "execute_result"
    }
   ],
   "source": [
    "row_ID(biomarkers)"
   ]
  },
  {
   "cell_type": "code",
   "execution_count": 135,
   "metadata": {},
   "outputs": [],
   "source": [
    "biomarkers = biomarkers[biomarkers['PatientID'].isin(test_IDs)]"
   ]
  },
  {
   "cell_type": "code",
   "execution_count": 136,
   "metadata": {},
   "outputs": [
    {
     "data": {
      "text/plain": [
       "(51601, 10160)"
      ]
     },
     "execution_count": 136,
     "metadata": {},
     "output_type": "execute_result"
    }
   ],
   "source": [
    "row_ID(biomarkers)"
   ]
  },
  {
   "cell_type": "markdown",
   "metadata": {},
   "source": [
    "**The Biomarkers dataframe is in a long format. A single-row-per-patient dataframe will be built where each column represents biomarker status. Index date will be date of advanced diagnosis and elgibility windown is negative infinity to +30 days of advanced diagnosis.** "
   ]
  },
  {
   "cell_type": "markdown",
   "metadata": {},
   "source": [
    "#### 5.1 Assigning patient-level biomarker status "
   ]
  },
  {
   "cell_type": "markdown",
   "metadata": {},
   "source": [
    "**Result date is the date the biomarker result was first reported, and therefore represents the date on which the clinician would be expected to have information about the patient’s biomarker status to inform the course of treatment. Flatiron recommends using result date as the relevant biomarker test date and using specimen received date as the proxy when result date is not available.** "
   ]
  },
  {
   "cell_type": "code",
   "execution_count": 137,
   "metadata": {},
   "outputs": [],
   "source": [
    "biomarkers.loc[:, 'ResultDate'] = pd.to_datetime(biomarkers['ResultDate'])"
   ]
  },
  {
   "cell_type": "code",
   "execution_count": 138,
   "metadata": {},
   "outputs": [],
   "source": [
    "biomarkers.loc[:, 'SpecimenReceivedDate'] = pd.to_datetime(biomarkers['SpecimenReceivedDate'])"
   ]
  },
  {
   "cell_type": "code",
   "execution_count": 139,
   "metadata": {},
   "outputs": [],
   "source": [
    "# Replace missing result date with specimen received date. \n",
    "biomarkers.loc[:, 'result_date'] = (\n",
    "    np.where(biomarkers['ResultDate'].isna(), biomarkers['SpecimenReceivedDate'], biomarkers['ResultDate'])\n",
    ")"
   ]
  },
  {
   "cell_type": "code",
   "execution_count": 140,
   "metadata": {},
   "outputs": [],
   "source": [
    "biomarkers = pd.merge(biomarkers, enhanced_adv[['PatientID', 'adv_date']], on = 'PatientID', how = 'left')"
   ]
  },
  {
   "cell_type": "code",
   "execution_count": 141,
   "metadata": {},
   "outputs": [],
   "source": [
    "# Create new variable 'date_diff' that marks difference in days between collected specimen advanced diagnosis. \n",
    "biomarkers.loc[:, 'bio_date_diff'] = (biomarkers['result_date'] - biomarkers['adv_date']).dt.days"
   ]
  },
  {
   "cell_type": "code",
   "execution_count": 142,
   "metadata": {},
   "outputs": [],
   "source": [
    "biomarker_win = biomarkers[biomarkers['bio_date_diff'] <= 30]"
   ]
  },
  {
   "cell_type": "code",
   "execution_count": 143,
   "metadata": {},
   "outputs": [
    {
     "data": {
      "text/plain": [
       "(25753, 6980)"
      ]
     },
     "execution_count": 143,
     "metadata": {},
     "output_type": "execute_result"
    }
   ],
   "source": [
    "row_ID(biomarker_win)"
   ]
  },
  {
   "cell_type": "markdown",
   "metadata": {},
   "source": [
    "**Patients with at least one confirmed positive test result for the biomarker of interest within the eligibility window will be considered “ever-positive”. This will include patients who may have confirmed negative results before and/or after a positive result within the eligibility window.** \n",
    "\n",
    "**Patients with at least one confirmed negative test result for the biomarker of interest, and no confirmed positive test results for the same biomarker within the eligibility window may be considered “only-negative”.** "
   ]
  },
  {
   "cell_type": "code",
   "execution_count": 144,
   "metadata": {},
   "outputs": [
    {
     "name": "stderr",
     "output_type": "stream",
     "text": [
      "/Users/xavierorcutt/Dropbox/ist_project/myenv/lib/python3.7/site-packages/pandas/core/indexing.py:1667: SettingWithCopyWarning: \n",
      "A value is trying to be set on a copy of a slice from a DataFrame.\n",
      "Try using .loc[row_indexer,col_indexer] = value instead\n",
      "\n",
      "See the caveats in the documentation: https://pandas.pydata.org/pandas-docs/stable/user_guide/indexing.html#returning-a-view-versus-a-copy\n",
      "  self.obj[key] = value\n"
     ]
    }
   ],
   "source": [
    "# Create indicator variable where where 2 if positive, 1 if negative, and 0 if unknown or missing. \n",
    "conditions = [\n",
    "    (biomarker_win['BiomarkerStatus'] == 'Rearrangement present') | (biomarker_win['BiomarkerStatus'] == 'Mutation positive') | (biomarker_win['BiomarkerStatus'] == 'PD-L1 positive'),\n",
    "    (biomarker_win['BiomarkerStatus'] == 'Rearrangement not present') | (biomarker_win['BiomarkerStatus'] == 'Mutation negative') | (biomarker_win['BiomarkerStatus'] == 'PD-L1 negative/not detected')\n",
    "]\n",
    "\n",
    "choices = [2,1]\n",
    "biomarker_win.loc[:, 'bio_status'] = np.select(conditions, choices, default = 0)"
   ]
  },
  {
   "cell_type": "code",
   "execution_count": 145,
   "metadata": {},
   "outputs": [],
   "source": [
    "# Excluding PDL1, select highest number biomarker status among duplicates, merge with nonduplciates, then pivot. \n",
    "biomarker_notpdl1 = (\n",
    "    biomarker_win.query('BiomarkerName != \"PDL1\"')\n",
    "    .sort_values(by = ['PatientID', 'BiomarkerName','bio_status'], ascending = False)\n",
    "    .drop_duplicates(subset = ['PatientID', 'BiomarkerName'], keep = 'first')\n",
    "    .pivot(index = 'PatientID', columns = 'BiomarkerName', values = 'bio_status')\n",
    "    .reset_index()\n",
    ")\n",
    "biomarker_notpdl1.columns.name = None"
   ]
  },
  {
   "cell_type": "code",
   "execution_count": 146,
   "metadata": {},
   "outputs": [
    {
     "data": {
      "text/plain": [
       "(6248, 6248)"
      ]
     },
     "execution_count": 146,
     "metadata": {},
     "output_type": "execute_result"
    }
   ],
   "source": [
    "row_ID(biomarker_notpdl1)"
   ]
  },
  {
   "cell_type": "code",
   "execution_count": 147,
   "metadata": {},
   "outputs": [],
   "source": [
    "# Append misisng patient IDs.\n",
    "biomarker_notpdl1_wide = (\n",
    "    biomarker_notpdl1\n",
    "    .append(\n",
    "        pd.Series(test_IDs)[~pd.Series(test_IDs).isin(biomarker_notpdl1['PatientID'])].to_frame(name = 'PatientID'),\n",
    "        sort = False)\n",
    ")"
   ]
  },
  {
   "cell_type": "code",
   "execution_count": 148,
   "metadata": {},
   "outputs": [
    {
     "data": {
      "text/plain": [
       "(13697, 13697)"
      ]
     },
     "execution_count": 148,
     "metadata": {},
     "output_type": "execute_result"
    }
   ],
   "source": [
    "row_ID(biomarker_notpdl1_wide)"
   ]
  },
  {
   "cell_type": "code",
   "execution_count": 149,
   "metadata": {},
   "outputs": [],
   "source": [
    "biomarker_notpdl1_wide['ALK'] = (\n",
    "    biomarker_notpdl1_wide['ALK'].replace({\n",
    "        2: 'positive',\n",
    "        1: 'negative',\n",
    "        0: 'unknown',\n",
    "        np.nan: 'unknown'})\n",
    ")"
   ]
  },
  {
   "cell_type": "code",
   "execution_count": 150,
   "metadata": {},
   "outputs": [],
   "source": [
    "biomarker_notpdl1_wide['BRAF'] = (\n",
    "    biomarker_notpdl1_wide['BRAF'].replace({\n",
    "        2: 'positive',\n",
    "        1: 'negative',\n",
    "        0: 'unknown',\n",
    "        np.nan: 'unknown'})\n",
    ")"
   ]
  },
  {
   "cell_type": "code",
   "execution_count": 151,
   "metadata": {},
   "outputs": [],
   "source": [
    "biomarker_notpdl1_wide['EGFR'] = (\n",
    "    biomarker_notpdl1_wide['EGFR'].replace({\n",
    "        2: 'positive',\n",
    "        1: 'negative',\n",
    "        0: 'unknown',\n",
    "        np.nan: 'unknown'})\n",
    ")"
   ]
  },
  {
   "cell_type": "code",
   "execution_count": 152,
   "metadata": {},
   "outputs": [],
   "source": [
    "biomarker_notpdl1_wide['KRAS'] = (\n",
    "    biomarker_notpdl1_wide['KRAS'].replace({\n",
    "        2: 'positive',\n",
    "        1: 'negative',\n",
    "        0: 'unknown',\n",
    "        np.nan: 'unknown'})\n",
    ")"
   ]
  },
  {
   "cell_type": "code",
   "execution_count": 153,
   "metadata": {},
   "outputs": [],
   "source": [
    "biomarker_notpdl1_wide['ROS1'] = (\n",
    "    biomarker_notpdl1_wide['ROS1'].replace({\n",
    "        2: 'positive',\n",
    "        1: 'negative',\n",
    "        0: 'unknown',\n",
    "        np.nan: 'unknown'})\n",
    ")"
   ]
  },
  {
   "cell_type": "markdown",
   "metadata": {},
   "source": [
    "#### 5.2 Assigning patient-level PD-L1"
   ]
  },
  {
   "cell_type": "markdown",
   "metadata": {},
   "source": [
    "**Flatiron recommends using PercentStaining as the primary source of truth to assess PD-L1 status over other options in the Biomarker table. For patients with multiple PDL1 testing instances, the maximum PercentStaining level will be selected and assigned to the patient. Flatiron recommends excluding from the study cohort patients with one or more PD-L1 testing instances within their eligibility window that fall on or before to December 31, 2016. PD-L1 testing instances from earlier years are likely to be missing PercentStaining values and these missing values may lead to bias.** "
   ]
  },
  {
   "cell_type": "code",
   "execution_count": 154,
   "metadata": {},
   "outputs": [],
   "source": [
    "biomarker_win_pdl1 = (\n",
    "    biomarker_win\n",
    "    .query('BiomarkerName == \"PDL1\"')\n",
    ")"
   ]
  },
  {
   "cell_type": "code",
   "execution_count": 155,
   "metadata": {},
   "outputs": [
    {
     "data": {
      "text/plain": [
       "(4101, 3460)"
      ]
     },
     "execution_count": 155,
     "metadata": {},
     "output_type": "execute_result"
    }
   ],
   "source": [
    "row_ID(biomarker_win_pdl1)"
   ]
  },
  {
   "cell_type": "code",
   "execution_count": 156,
   "metadata": {},
   "outputs": [],
   "source": [
    "pdl1_dict = { \n",
    "    np.nan: 0,\n",
    "    '0%': 1, \n",
    "    '< 1%': 2,\n",
    "    '1%': 3, \n",
    "    '2% - 4%': 4,\n",
    "    '5% - 9%': 5,\n",
    "    '10% - 19%': 6,  \n",
    "    '20% - 29%': 7, \n",
    "    '30% - 39%': 8, \n",
    "    '40% - 49%': 9, \n",
    "    '50% - 59%': 10, \n",
    "    '60% - 69%': 11, \n",
    "    '70% - 79%': 12, \n",
    "    '80% - 89%': 13, \n",
    "    '90% - 99%': 14,\n",
    "    '100%': 15\n",
    "}\n",
    "\n",
    "biomarker_win_pdl1.loc[:, 'percent_staining'] = biomarker_win_pdl1['PercentStaining'].map(pdl1_dict)"
   ]
  },
  {
   "cell_type": "code",
   "execution_count": 157,
   "metadata": {},
   "outputs": [],
   "source": [
    "# Select highest percent staining for those with repeat testing, merge with nonduplciates, then pivot. \n",
    "biomarker_pdl1_staining = (\n",
    "    biomarker_win_pdl1\n",
    "    .sort_values(by = ['PatientID', 'percent_staining'], ascending = False)\n",
    "    .drop_duplicates(subset = ['PatientID'], keep = 'first')\n",
    "    .pivot(index = 'PatientID', columns = 'BiomarkerName', values = 'percent_staining')\n",
    "    .rename(columns = {'PDL1': 'pdl1_staining'})\n",
    "    .reset_index()\n",
    ")\n",
    "biomarker_pdl1_staining.columns.name = None"
   ]
  },
  {
   "cell_type": "code",
   "execution_count": 158,
   "metadata": {},
   "outputs": [
    {
     "data": {
      "text/plain": [
       "(3460, 3460)"
      ]
     },
     "execution_count": 158,
     "metadata": {},
     "output_type": "execute_result"
    }
   ],
   "source": [
    "row_ID(biomarker_pdl1_staining)"
   ]
  },
  {
   "cell_type": "code",
   "execution_count": 159,
   "metadata": {},
   "outputs": [],
   "source": [
    "pdl1_dict_rev = { \n",
    "    0: np.nan,\n",
    "    1: '0%', \n",
    "    2: '0%',\n",
    "    3: '1-49%', \n",
    "    4: '1-49%',\n",
    "    5: '1-49%',\n",
    "    6: '1-49%',  \n",
    "    7: '1-49%', \n",
    "    8: '1-49%', \n",
    "    9: '1-49%', \n",
    "    10: '50-100%', \n",
    "    11: '50-100%', \n",
    "    12: '50-100%', \n",
    "    13: '50-100%', \n",
    "    14: '50-100%',\n",
    "    15: '50-100%'\n",
    "}\n",
    "\n",
    "biomarker_pdl1_staining.loc[:, 'pdl1_staining'] = biomarker_pdl1_staining['pdl1_staining'].map(pdl1_dict_rev)"
   ]
  },
  {
   "cell_type": "code",
   "execution_count": 160,
   "metadata": {},
   "outputs": [],
   "source": [
    "biomarker_pdl1_staining_wide = (\n",
    "    biomarker_pdl1_staining\n",
    "    .append(\n",
    "        pd.Series(test_IDs)[~pd.Series(test_IDs).isin(biomarker_pdl1_staining['PatientID'])].to_frame(name = 'PatientID'),\n",
    "        sort = False)\n",
    "    .fillna('unknown')\n",
    ")"
   ]
  },
  {
   "cell_type": "code",
   "execution_count": 161,
   "metadata": {},
   "outputs": [
    {
     "data": {
      "text/plain": [
       "(13697, 2)"
      ]
     },
     "execution_count": 161,
     "metadata": {},
     "output_type": "execute_result"
    }
   ],
   "source": [
    "biomarker_pdl1_staining_wide.shape"
   ]
  },
  {
   "cell_type": "code",
   "execution_count": 162,
   "metadata": {},
   "outputs": [
    {
     "data": {
      "text/html": [
       "<div>\n",
       "<style scoped>\n",
       "    .dataframe tbody tr th:only-of-type {\n",
       "        vertical-align: middle;\n",
       "    }\n",
       "\n",
       "    .dataframe tbody tr th {\n",
       "        vertical-align: top;\n",
       "    }\n",
       "\n",
       "    .dataframe thead th {\n",
       "        text-align: right;\n",
       "    }\n",
       "</style>\n",
       "<table border=\"1\" class=\"dataframe\">\n",
       "  <thead>\n",
       "    <tr style=\"text-align: right;\">\n",
       "      <th></th>\n",
       "      <th>PatientID</th>\n",
       "      <th>pdl1_staining</th>\n",
       "    </tr>\n",
       "  </thead>\n",
       "  <tbody>\n",
       "    <tr>\n",
       "      <th>2988</th>\n",
       "      <td>FDF1277A013FB</td>\n",
       "      <td>unknown</td>\n",
       "    </tr>\n",
       "    <tr>\n",
       "      <th>319</th>\n",
       "      <td>F1A0AE9D5ABC6</td>\n",
       "      <td>1-49%</td>\n",
       "    </tr>\n",
       "    <tr>\n",
       "      <th>11204</th>\n",
       "      <td>FE5D3C47DE131</td>\n",
       "      <td>unknown</td>\n",
       "    </tr>\n",
       "    <tr>\n",
       "      <th>694</th>\n",
       "      <td>F35E6D48B4560</td>\n",
       "      <td>50-100%</td>\n",
       "    </tr>\n",
       "    <tr>\n",
       "      <th>13386</th>\n",
       "      <td>FBBD606DC8F76</td>\n",
       "      <td>unknown</td>\n",
       "    </tr>\n",
       "  </tbody>\n",
       "</table>\n",
       "</div>"
      ],
      "text/plain": [
       "           PatientID pdl1_staining\n",
       "2988   FDF1277A013FB       unknown\n",
       "319    F1A0AE9D5ABC6         1-49%\n",
       "11204  FE5D3C47DE131       unknown\n",
       "694    F35E6D48B4560       50-100%\n",
       "13386  FBBD606DC8F76       unknown"
      ]
     },
     "execution_count": 162,
     "metadata": {},
     "output_type": "execute_result"
    }
   ],
   "source": [
    "biomarker_pdl1_staining_wide.sample(5)"
   ]
  },
  {
   "cell_type": "markdown",
   "metadata": {},
   "source": [
    "**Flatiron recommends considering using BiomarkerStatus to impute the missing patient-level PercentStaining category value. Impute missing PercentStaining values as follows:**\n",
    "* **Impute a PercentStaining value of “≥1%” for patients with at least one confirmed positive PD-L1 result within the eligible window** \n",
    "* **Impute a PercentStaining value of “0%” to patients with no confirmed positive PD-L1 results and at least one confirmed negative PD-L1 result within the eligible window** \n",
    "* **Do not impute a PercentStaining value to patients who have no confirmed positive or negative PD-L1 results within the eligible window**"
   ]
  },
  {
   "cell_type": "code",
   "execution_count": 163,
   "metadata": {},
   "outputs": [],
   "source": [
    "# Select highest percent staining for those with repeat testing, merge with nonduplciates, then pivot. \n",
    "biomarker_pdl1_status = (\n",
    "    biomarker_win_pdl1\n",
    "    .sort_values(by = ['PatientID', 'bio_status'], ascending = False)\n",
    "    .drop_duplicates(subset = ['PatientID'], keep = 'first')\n",
    "    .pivot(index = 'PatientID', columns = 'BiomarkerName', values = 'bio_status')\n",
    "    .rename(columns = {'PDL1': 'pdl1_status'})\n",
    "    .reset_index()\n",
    ")\n",
    "biomarker_pdl1_status.columns.name = None"
   ]
  },
  {
   "cell_type": "code",
   "execution_count": 164,
   "metadata": {},
   "outputs": [
    {
     "data": {
      "text/plain": [
       "(3460, 3460)"
      ]
     },
     "execution_count": 164,
     "metadata": {},
     "output_type": "execute_result"
    }
   ],
   "source": [
    "row_ID(biomarker_pdl1_status)"
   ]
  },
  {
   "cell_type": "code",
   "execution_count": 165,
   "metadata": {},
   "outputs": [],
   "source": [
    "biomarker_pdl1_status_wide = (\n",
    "    biomarker_pdl1_status\n",
    "    .append(\n",
    "        pd.Series(test_IDs)[~pd.Series(test_IDs).isin(biomarker_pdl1_status['PatientID'])].to_frame(name = 'PatientID'),\n",
    "        sort = False)\n",
    "    .fillna(0)\n",
    ")"
   ]
  },
  {
   "cell_type": "code",
   "execution_count": 166,
   "metadata": {},
   "outputs": [],
   "source": [
    "biomarker_pdl1 = pd.merge(biomarker_pdl1_staining_wide, biomarker_pdl1_status_wide, on = 'PatientID')"
   ]
  },
  {
   "cell_type": "code",
   "execution_count": 167,
   "metadata": {},
   "outputs": [],
   "source": [
    "# If PDL1 staining is unknown, set to >=1% if ever positive and 0% if ever negative. \n",
    "# If PDL1 staining is known, set to >=1% if staining 1-100% and 0% if 0%.\n",
    "conditions = [\n",
    "    ((biomarker_pdl1['pdl1_staining'] == 'unknown') & (biomarker_pdl1['pdl1_status'] == 2)) | \n",
    "    (((biomarker_pdl1['pdl1_staining'] == '1-49%') | (biomarker_pdl1['pdl1_staining'] == '50-100%'))),\n",
    "    ((biomarker_pdl1['pdl1_staining'] == 'unknown') & (biomarker_pdl1['pdl1_status'] == 1)) | \n",
    "    (biomarker_pdl1['pdl1_staining'] == '0%'), \n",
    "    ((biomarker_pdl1['pdl1_staining'] == 'unknown') & (biomarker_pdl1['pdl1_status'] == 0)),\n",
    "]\n",
    "\n",
    "choices = ['>=1%', '0%', 'unknown']\n",
    "\n",
    "biomarker_pdl1.loc[:, 'pdl1_n'] = np.select(conditions, choices)"
   ]
  },
  {
   "cell_type": "code",
   "execution_count": 168,
   "metadata": {},
   "outputs": [
    {
     "data": {
      "text/html": [
       "<div>\n",
       "<style scoped>\n",
       "    .dataframe tbody tr th:only-of-type {\n",
       "        vertical-align: middle;\n",
       "    }\n",
       "\n",
       "    .dataframe tbody tr th {\n",
       "        vertical-align: top;\n",
       "    }\n",
       "\n",
       "    .dataframe thead th {\n",
       "        text-align: right;\n",
       "    }\n",
       "</style>\n",
       "<table border=\"1\" class=\"dataframe\">\n",
       "  <thead>\n",
       "    <tr style=\"text-align: right;\">\n",
       "      <th></th>\n",
       "      <th>PatientID</th>\n",
       "      <th>pdl1_staining</th>\n",
       "      <th>pdl1_status</th>\n",
       "      <th>pdl1_n</th>\n",
       "    </tr>\n",
       "  </thead>\n",
       "  <tbody>\n",
       "    <tr>\n",
       "      <th>11161</th>\n",
       "      <td>F8C7ED13640B1</td>\n",
       "      <td>unknown</td>\n",
       "      <td>0.0</td>\n",
       "      <td>unknown</td>\n",
       "    </tr>\n",
       "    <tr>\n",
       "      <th>13680</th>\n",
       "      <td>FAC8804353ADA</td>\n",
       "      <td>unknown</td>\n",
       "      <td>0.0</td>\n",
       "      <td>unknown</td>\n",
       "    </tr>\n",
       "    <tr>\n",
       "      <th>4640</th>\n",
       "      <td>F5881D36361A4</td>\n",
       "      <td>unknown</td>\n",
       "      <td>0.0</td>\n",
       "      <td>unknown</td>\n",
       "    </tr>\n",
       "    <tr>\n",
       "      <th>11229</th>\n",
       "      <td>F773F3106A800</td>\n",
       "      <td>unknown</td>\n",
       "      <td>0.0</td>\n",
       "      <td>unknown</td>\n",
       "    </tr>\n",
       "    <tr>\n",
       "      <th>10168</th>\n",
       "      <td>F302113E4258B</td>\n",
       "      <td>unknown</td>\n",
       "      <td>0.0</td>\n",
       "      <td>unknown</td>\n",
       "    </tr>\n",
       "  </tbody>\n",
       "</table>\n",
       "</div>"
      ],
      "text/plain": [
       "           PatientID pdl1_staining  pdl1_status   pdl1_n\n",
       "11161  F8C7ED13640B1       unknown          0.0  unknown\n",
       "13680  FAC8804353ADA       unknown          0.0  unknown\n",
       "4640   F5881D36361A4       unknown          0.0  unknown\n",
       "11229  F773F3106A800       unknown          0.0  unknown\n",
       "10168  F302113E4258B       unknown          0.0  unknown"
      ]
     },
     "execution_count": 168,
     "metadata": {},
     "output_type": "execute_result"
    }
   ],
   "source": [
    "biomarker_pdl1.sample(5)"
   ]
  },
  {
   "cell_type": "code",
   "execution_count": 169,
   "metadata": {},
   "outputs": [],
   "source": [
    "biomarker_pdl1_wide = (\n",
    "    biomarker_pdl1\n",
    "    .drop(columns = ['pdl1_status'])\n",
    "    .rename(columns = {'pdl1_staining': 'pdl1'})\n",
    ")"
   ]
  },
  {
   "cell_type": "code",
   "execution_count": 170,
   "metadata": {},
   "outputs": [],
   "source": [
    "biomarker_wide = pd.merge(biomarker_notpdl1_wide, biomarker_pdl1_wide, on = 'PatientID')"
   ]
  },
  {
   "cell_type": "code",
   "execution_count": 171,
   "metadata": {},
   "outputs": [
    {
     "data": {
      "text/plain": [
       "(13697, 13697)"
      ]
     },
     "execution_count": 171,
     "metadata": {},
     "output_type": "execute_result"
    }
   ],
   "source": [
    "row_ID(biomarker_wide)"
   ]
  },
  {
   "cell_type": "code",
   "execution_count": 172,
   "metadata": {},
   "outputs": [
    {
     "data": {
      "text/html": [
       "<div>\n",
       "<style scoped>\n",
       "    .dataframe tbody tr th:only-of-type {\n",
       "        vertical-align: middle;\n",
       "    }\n",
       "\n",
       "    .dataframe tbody tr th {\n",
       "        vertical-align: top;\n",
       "    }\n",
       "\n",
       "    .dataframe thead th {\n",
       "        text-align: right;\n",
       "    }\n",
       "</style>\n",
       "<table border=\"1\" class=\"dataframe\">\n",
       "  <thead>\n",
       "    <tr style=\"text-align: right;\">\n",
       "      <th></th>\n",
       "      <th>PatientID</th>\n",
       "      <th>ALK</th>\n",
       "      <th>BRAF</th>\n",
       "      <th>EGFR</th>\n",
       "      <th>KRAS</th>\n",
       "      <th>ROS1</th>\n",
       "      <th>pdl1</th>\n",
       "      <th>pdl1_n</th>\n",
       "    </tr>\n",
       "  </thead>\n",
       "  <tbody>\n",
       "    <tr>\n",
       "      <th>5156</th>\n",
       "      <td>FD22C1C245A73</td>\n",
       "      <td>negative</td>\n",
       "      <td>negative</td>\n",
       "      <td>negative</td>\n",
       "      <td>negative</td>\n",
       "      <td>negative</td>\n",
       "      <td>1-49%</td>\n",
       "      <td>&gt;=1%</td>\n",
       "    </tr>\n",
       "    <tr>\n",
       "      <th>10375</th>\n",
       "      <td>FE5A63D988653</td>\n",
       "      <td>unknown</td>\n",
       "      <td>unknown</td>\n",
       "      <td>unknown</td>\n",
       "      <td>unknown</td>\n",
       "      <td>unknown</td>\n",
       "      <td>unknown</td>\n",
       "      <td>unknown</td>\n",
       "    </tr>\n",
       "    <tr>\n",
       "      <th>13145</th>\n",
       "      <td>FB03AA50B0B71</td>\n",
       "      <td>unknown</td>\n",
       "      <td>unknown</td>\n",
       "      <td>unknown</td>\n",
       "      <td>unknown</td>\n",
       "      <td>unknown</td>\n",
       "      <td>unknown</td>\n",
       "      <td>unknown</td>\n",
       "    </tr>\n",
       "    <tr>\n",
       "      <th>4822</th>\n",
       "      <td>FC51116592F25</td>\n",
       "      <td>negative</td>\n",
       "      <td>negative</td>\n",
       "      <td>negative</td>\n",
       "      <td>positive</td>\n",
       "      <td>negative</td>\n",
       "      <td>unknown</td>\n",
       "      <td>unknown</td>\n",
       "    </tr>\n",
       "    <tr>\n",
       "      <th>7754</th>\n",
       "      <td>FC3C905B52D14</td>\n",
       "      <td>unknown</td>\n",
       "      <td>unknown</td>\n",
       "      <td>unknown</td>\n",
       "      <td>unknown</td>\n",
       "      <td>unknown</td>\n",
       "      <td>unknown</td>\n",
       "      <td>unknown</td>\n",
       "    </tr>\n",
       "  </tbody>\n",
       "</table>\n",
       "</div>"
      ],
      "text/plain": [
       "           PatientID       ALK      BRAF      EGFR      KRAS      ROS1  \\\n",
       "5156   FD22C1C245A73  negative  negative  negative  negative  negative   \n",
       "10375  FE5A63D988653   unknown   unknown   unknown   unknown   unknown   \n",
       "13145  FB03AA50B0B71   unknown   unknown   unknown   unknown   unknown   \n",
       "4822   FC51116592F25  negative  negative  negative  positive  negative   \n",
       "7754   FC3C905B52D14   unknown   unknown   unknown   unknown   unknown   \n",
       "\n",
       "          pdl1   pdl1_n  \n",
       "5156     1-49%     >=1%  \n",
       "10375  unknown  unknown  \n",
       "13145  unknown  unknown  \n",
       "4822   unknown  unknown  \n",
       "7754   unknown  unknown  "
      ]
     },
     "execution_count": 172,
     "metadata": {},
     "output_type": "execute_result"
    }
   ],
   "source": [
    "biomarker_wide.sample(5)"
   ]
  },
  {
   "cell_type": "code",
   "execution_count": 173,
   "metadata": {},
   "outputs": [
    {
     "name": "stdout",
     "output_type": "stream",
     "text": [
      "Variable                       Type         Data/Info\n",
      "-----------------------------------------------------\n",
      "biomarker_notpdl1              DataFrame              PatientID  ALK <...>\\n[6248 rows x 6 columns]\n",
      "biomarker_notpdl1_wide         DataFrame               PatientID     <...>n[13697 rows x 6 columns]\n",
      "biomarker_pdl1                 DataFrame               PatientID pdl1<...>n[13697 rows x 4 columns]\n",
      "biomarker_pdl1_staining        DataFrame              PatientID pdl1_<...>\\n[3460 rows x 2 columns]\n",
      "biomarker_pdl1_staining_wide   DataFrame               PatientID pdl1<...>n[13697 rows x 2 columns]\n",
      "biomarker_pdl1_status          DataFrame              PatientID  pdl1<...>\\n[3460 rows x 2 columns]\n",
      "biomarker_pdl1_status_wide     DataFrame               PatientID  pdl<...>n[13697 rows x 2 columns]\n",
      "biomarker_pdl1_wide            DataFrame               PatientID     <...>n[13697 rows x 3 columns]\n",
      "biomarker_wide                 DataFrame               PatientID     <...>n[13697 rows x 8 columns]\n",
      "biomarker_win                  DataFrame               PatientID Biom<...>[25753 rows x 22 columns]\n",
      "biomarker_win_pdl1             DataFrame               PatientID Biom<...>n[4101 rows x 23 columns]\n",
      "biomarkers                     DataFrame               PatientID Biom<...>[51601 rows x 21 columns]\n",
      "demographics                   DataFrame               PatientID Prac<...>n[13697 rows x 7 columns]\n",
      "enhanced_adv                   DataFrame               PatientID diag<...>n[13697 rows x 9 columns]\n",
      "med_admin_wide                 DataFrame               PatientID  ste<...>[13697 rows x 14 columns]\n",
      "mortality                      DataFrame               PatientID  dea<...>n[13697 rows x 3 columns]\n"
     ]
    }
   ],
   "source": [
    "%whos DataFrame"
   ]
  },
  {
   "cell_type": "code",
   "execution_count": 174,
   "metadata": {},
   "outputs": [],
   "source": [
    "# Keep biomarker_wide.\n",
    "del biomarker_notpdl1\n",
    "del biomarker_notpdl1_wide\n",
    "del biomarker_pdl1\n",
    "del biomarker_pdl1_staining\n",
    "del biomarker_pdl1_staining_wide\n",
    "del biomarker_pdl1_status\n",
    "del biomarker_pdl1_status_wide\n",
    "del biomarker_pdl1_wide\n",
    "del biomarker_win\n",
    "del biomarker_win_pdl1\n",
    "del biomarkers"
   ]
  },
  {
   "cell_type": "markdown",
   "metadata": {},
   "source": [
    "### 6. Insurance "
   ]
  },
  {
   "cell_type": "code",
   "execution_count": 175,
   "metadata": {},
   "outputs": [],
   "source": [
    "insurance = pd.read_csv('Insurance.csv')"
   ]
  },
  {
   "cell_type": "code",
   "execution_count": 176,
   "metadata": {},
   "outputs": [
    {
     "data": {
      "text/plain": [
       "(147794, 63396)"
      ]
     },
     "execution_count": 176,
     "metadata": {},
     "output_type": "execute_result"
    }
   ],
   "source": [
    "row_ID(insurance)"
   ]
  },
  {
   "cell_type": "code",
   "execution_count": 177,
   "metadata": {},
   "outputs": [],
   "source": [
    "insurance = insurance[insurance['PatientID'].isin(test_IDs)]"
   ]
  },
  {
   "cell_type": "code",
   "execution_count": 178,
   "metadata": {},
   "outputs": [
    {
     "data": {
      "text/plain": [
       "(29437, 12700)"
      ]
     },
     "execution_count": 178,
     "metadata": {},
     "output_type": "execute_result"
    }
   ],
   "source": [
    "row_ID(insurance)"
   ]
  },
  {
   "cell_type": "markdown",
   "metadata": {},
   "source": [
    "**The insurance table contains patient insurance/payer information. Patients may have multiple payer categories concurrently. Start date is populated roughly 80% of the time, while end date is populated about 20% of the time. This mutiple-row-per-patient table will be transformed into a single-row-per-patient table. Indicator variables for each payer category active at time of advacned diagnosis will be made as columns. Insurance will be considered active if start date is less than 30 days from advanced diagnosis regardless of end date.** "
   ]
  },
  {
   "cell_type": "code",
   "execution_count": 179,
   "metadata": {},
   "outputs": [],
   "source": [
    "insurance.loc[:, 'StartDate'] = pd.to_datetime(insurance['StartDate'])"
   ]
  },
  {
   "cell_type": "code",
   "execution_count": 180,
   "metadata": {},
   "outputs": [],
   "source": [
    "insurance = pd.merge(insurance, enhanced_adv[['PatientID', 'adv_date']], on = 'PatientID', how = 'left')"
   ]
  },
  {
   "cell_type": "code",
   "execution_count": 181,
   "metadata": {},
   "outputs": [],
   "source": [
    "# Remove years with start dates less than 1900 (eg., 1694) which is likely a coding error. \n",
    "insurance = insurance[(insurance['StartDate']).dt.year >= 1900]"
   ]
  },
  {
   "cell_type": "code",
   "execution_count": 182,
   "metadata": {},
   "outputs": [],
   "source": [
    "insurance.loc[:, 'insurance_date_diff'] = (insurance['StartDate'] - insurance['adv_date']).dt.days"
   ]
  },
  {
   "cell_type": "code",
   "execution_count": 183,
   "metadata": {},
   "outputs": [],
   "source": [
    "insurance_win = insurance[insurance['insurance_date_diff'] <= 30]"
   ]
  },
  {
   "cell_type": "code",
   "execution_count": 184,
   "metadata": {},
   "outputs": [
    {
     "data": {
      "text/plain": [
       "(24261, 11408)"
      ]
     },
     "execution_count": 184,
     "metadata": {},
     "output_type": "execute_result"
    }
   ],
   "source": [
    "row_ID(insurance)"
   ]
  },
  {
   "cell_type": "markdown",
   "metadata": {},
   "source": [
    "#### 6.1 Commerical"
   ]
  },
  {
   "cell_type": "code",
   "execution_count": 185,
   "metadata": {},
   "outputs": [
    {
     "name": "stderr",
     "output_type": "stream",
     "text": [
      "/Users/xavierorcutt/Dropbox/ist_project/myenv/lib/python3.7/site-packages/pandas/core/indexing.py:1667: SettingWithCopyWarning: \n",
      "A value is trying to be set on a copy of a slice from a DataFrame.\n",
      "Try using .loc[row_indexer,col_indexer] = value instead\n",
      "\n",
      "See the caveats in the documentation: https://pandas.pydata.org/pandas-docs/stable/user_guide/indexing.html#returning-a-view-versus-a-copy\n",
      "  self.obj[key] = value\n"
     ]
    }
   ],
   "source": [
    "insurance_win.loc[:, 'commercial'] = np.where(insurance_win['PayerCategory'] == 'Commercial Health Plan', 1, 0)"
   ]
  },
  {
   "cell_type": "markdown",
   "metadata": {},
   "source": [
    "#### 6.2 Medicare"
   ]
  },
  {
   "cell_type": "code",
   "execution_count": 186,
   "metadata": {},
   "outputs": [],
   "source": [
    "insurance_win.loc[:, 'medicare'] = np.where(insurance_win['PayerCategory'] == 'Medicare', 1, 0)"
   ]
  },
  {
   "cell_type": "markdown",
   "metadata": {},
   "source": [
    "#### 6.3 Medicaid"
   ]
  },
  {
   "cell_type": "code",
   "execution_count": 187,
   "metadata": {},
   "outputs": [],
   "source": [
    "insurance_win.loc[:, 'medicaid'] = np.where(insurance_win['PayerCategory'] == 'Medicaid', 1, 0)"
   ]
  },
  {
   "cell_type": "markdown",
   "metadata": {},
   "source": [
    "#### 6.4 Other"
   ]
  },
  {
   "cell_type": "code",
   "execution_count": 188,
   "metadata": {},
   "outputs": [],
   "source": [
    "insurance_win.loc[:, 'other_insurance'] = (\n",
    "    np.where(\n",
    "        (insurance_win['PayerCategory'] != 'Commercial Health Plan') & \n",
    "        (insurance_win['PayerCategory'] != 'Medicare') &\n",
    "        (insurance_win['PayerCategory'] != 'Medicaid'), 1, 0)\n",
    ")"
   ]
  },
  {
   "cell_type": "markdown",
   "metadata": {},
   "source": [
    "#### 6.5 Condense rows "
   ]
  },
  {
   "cell_type": "code",
   "execution_count": 189,
   "metadata": {},
   "outputs": [],
   "source": [
    "# After dropping 'insurance_date_diff', add columns by PatientID.\n",
    "insurance_wide = (\n",
    "    insurance_win\n",
    "    .drop(columns = ['insurance_date_diff'])\n",
    "    .groupby('PatientID').sum()\n",
    ")"
   ]
  },
  {
   "cell_type": "code",
   "execution_count": 190,
   "metadata": {},
   "outputs": [],
   "source": [
    "# Set any value greater than 1 to 1; leave 0 unchanged. \n",
    "insurance_wide = (\n",
    "    insurance_wide\n",
    "    .mask(insurance_wide > 1, 1)\n",
    "    .reset_index()\n",
    ")"
   ]
  },
  {
   "cell_type": "code",
   "execution_count": 191,
   "metadata": {},
   "outputs": [
    {
     "data": {
      "text/plain": [
       "(10084, 10084)"
      ]
     },
     "execution_count": 191,
     "metadata": {},
     "output_type": "execute_result"
    }
   ],
   "source": [
    "row_ID(insurance_wide)"
   ]
  },
  {
   "cell_type": "code",
   "execution_count": 192,
   "metadata": {},
   "outputs": [],
   "source": [
    "# Append missing training IDs.\n",
    "insurance_wide = (\n",
    "    insurance_wide\n",
    "    .append(\n",
    "        pd.Series(test_IDs)[~pd.Series(test_IDs).isin(insurance_wide['PatientID'])].to_frame(name = 'PatientID'),\n",
    "        sort = False)\n",
    ")"
   ]
  },
  {
   "cell_type": "code",
   "execution_count": 193,
   "metadata": {},
   "outputs": [
    {
     "data": {
      "text/plain": [
       "(13697, 13697)"
      ]
     },
     "execution_count": 193,
     "metadata": {},
     "output_type": "execute_result"
    }
   ],
   "source": [
    "row_ID(insurance_wide)"
   ]
  },
  {
   "cell_type": "code",
   "execution_count": 194,
   "metadata": {},
   "outputs": [],
   "source": [
    "insurance_wide = insurance_wide.fillna(0)"
   ]
  },
  {
   "cell_type": "code",
   "execution_count": 195,
   "metadata": {},
   "outputs": [
    {
     "name": "stdout",
     "output_type": "stream",
     "text": [
      "Variable         Type         Data/Info\n",
      "---------------------------------------\n",
      "biomarker_wide   DataFrame               PatientID     <...>n[13697 rows x 8 columns]\n",
      "demographics     DataFrame               PatientID Prac<...>n[13697 rows x 7 columns]\n",
      "enhanced_adv     DataFrame               PatientID diag<...>n[13697 rows x 9 columns]\n",
      "insurance        DataFrame               PatientID     <...>n[24261 rows x 6 columns]\n",
      "insurance_wide   DataFrame               PatientID  com<...>n[13697 rows x 5 columns]\n",
      "insurance_win    DataFrame               PatientID     <...>[17591 rows x 10 columns]\n",
      "med_admin_wide   DataFrame               PatientID  ste<...>[13697 rows x 14 columns]\n",
      "mortality        DataFrame               PatientID  dea<...>n[13697 rows x 3 columns]\n"
     ]
    }
   ],
   "source": [
    "%whos DataFrame"
   ]
  },
  {
   "cell_type": "code",
   "execution_count": 196,
   "metadata": {},
   "outputs": [],
   "source": [
    "# Keep insurance_wide.\n",
    "del insurance\n",
    "del insurance_win"
   ]
  },
  {
   "cell_type": "markdown",
   "metadata": {},
   "source": [
    "### 7. ECOG"
   ]
  },
  {
   "cell_type": "code",
   "execution_count": 197,
   "metadata": {},
   "outputs": [],
   "source": [
    "ecog = pd.read_csv('ECOG.csv')"
   ]
  },
  {
   "cell_type": "code",
   "execution_count": 198,
   "metadata": {},
   "outputs": [
    {
     "data": {
      "text/plain": [
       "(822210, 48418)"
      ]
     },
     "execution_count": 198,
     "metadata": {},
     "output_type": "execute_result"
    }
   ],
   "source": [
    "row_ID(ecog)"
   ]
  },
  {
   "cell_type": "code",
   "execution_count": 199,
   "metadata": {},
   "outputs": [],
   "source": [
    "ecog = ecog[ecog['PatientID'].isin(test_IDs)]"
   ]
  },
  {
   "cell_type": "code",
   "execution_count": 200,
   "metadata": {},
   "outputs": [
    {
     "data": {
      "text/plain": [
       "(164057, 9750)"
      ]
     },
     "execution_count": 200,
     "metadata": {},
     "output_type": "execute_result"
    }
   ],
   "source": [
    "row_ID(ecog)"
   ]
  },
  {
   "cell_type": "markdown",
   "metadata": {},
   "source": [
    "**The ECOG table is a longitudinal record of structured ECOG scores captured in the EHR for each patient. Many patients have multiple ECOG scores reported. A new dataframe will be built where one ECOG score will be assigned to each patient. The index date will be date of advanced diagnosis with an elgible window period of +30 days to -90 days from index date. The ECOG score closest to index date will be assigned to the patient. In the case of two ECOG scores on the same day or equidistant but on opposite sides of the index date, the highest ECOG score (worse performance) will be selected.** \n",
    "\n",
    "**BaselineECOG is a composite table that selectes one ECOG score within +7 days and -30 days of a line of therapy. Of note, patients might have two baseline ECOG values for line number 1 due to maintenance therapy. This table will be pivoted to a wide format and merged with the above ECOG table.** "
   ]
  },
  {
   "cell_type": "markdown",
   "metadata": {},
   "source": [
    "#### 7.1 ECOG at time of advanced diagnosis"
   ]
  },
  {
   "cell_type": "code",
   "execution_count": 201,
   "metadata": {},
   "outputs": [],
   "source": [
    "ecog = pd.merge(ecog, enhanced_adv[['PatientID', 'adv_date']], on = 'PatientID', how = 'left')"
   ]
  },
  {
   "cell_type": "code",
   "execution_count": 202,
   "metadata": {},
   "outputs": [],
   "source": [
    "ecog.loc[:, 'EcogDate'] = pd.to_datetime(ecog['EcogDate'])      "
   ]
  },
  {
   "cell_type": "code",
   "execution_count": 203,
   "metadata": {},
   "outputs": [],
   "source": [
    "ecog.loc[:, 'ecog_date_diff'] = (ecog['EcogDate'] - ecog['adv_date']).dt.days"
   ]
  },
  {
   "cell_type": "code",
   "execution_count": 204,
   "metadata": {},
   "outputs": [],
   "source": [
    "ecog_win = ecog[(ecog['ecog_date_diff'] >= -90) & (ecog['ecog_date_diff'] <= 30)]"
   ]
  },
  {
   "cell_type": "code",
   "execution_count": 205,
   "metadata": {},
   "outputs": [
    {
     "data": {
      "text/plain": [
       "(164057, 9750)"
      ]
     },
     "execution_count": 205,
     "metadata": {},
     "output_type": "execute_result"
    }
   ],
   "source": [
    "row_ID(ecog)"
   ]
  },
  {
   "cell_type": "code",
   "execution_count": 206,
   "metadata": {},
   "outputs": [
    {
     "name": "stderr",
     "output_type": "stream",
     "text": [
      "/Users/xavierorcutt/Dropbox/ist_project/myenv/lib/python3.7/site-packages/pandas/core/indexing.py:1773: SettingWithCopyWarning: \n",
      "A value is trying to be set on a copy of a slice from a DataFrame.\n",
      "Try using .loc[row_indexer,col_indexer] = value instead\n",
      "\n",
      "See the caveats in the documentation: https://pandas.pydata.org/pandas-docs/stable/user_guide/indexing.html#returning-a-view-versus-a-copy\n",
      "  self._setitem_single_column(ilocs[0], value, pi)\n"
     ]
    }
   ],
   "source": [
    "# Delta in ECOG date and advanced diagnosis will be converted to an absolute value. \n",
    "ecog_win.loc[:, 'ecog_date_diff'] = ecog_win['ecog_date_diff'].abs()"
   ]
  },
  {
   "cell_type": "code",
   "execution_count": 207,
   "metadata": {},
   "outputs": [],
   "source": [
    "# Sort values with ECOG nearest to time of diagnosis as top row (and largest ECOG if multiple ECOGs that day) then select top row.   ECOG date nearest to day of diagnosis as top row and largest ES\n",
    "ecog_diagnosis_wide = (\n",
    "    ecog_win\n",
    "    .sort_values(by = ['PatientID', 'ecog_date_diff', 'EcogValue'], ascending = [True, True, False])\n",
    "    .drop_duplicates(subset = ['PatientID'], keep = 'first' )\n",
    "    .filter(items = ['PatientID', 'EcogValue'])\n",
    "    .rename(columns = {'EcogValue': 'ecog_diagnosis'})\n",
    ")"
   ]
  },
  {
   "cell_type": "code",
   "execution_count": 208,
   "metadata": {},
   "outputs": [
    {
     "data": {
      "text/plain": [
       "(6514, 6514)"
      ]
     },
     "execution_count": 208,
     "metadata": {},
     "output_type": "execute_result"
    }
   ],
   "source": [
    "row_ID(ecog_diagnosis_wide)"
   ]
  },
  {
   "cell_type": "code",
   "execution_count": 209,
   "metadata": {},
   "outputs": [],
   "source": [
    "# Append missing training IDs. \n",
    "ecog_diagnosis_wide = (\n",
    "    ecog_diagnosis_wide\n",
    "    .append(\n",
    "        pd.Series(test_IDs)[~pd.Series(test_IDs).isin(ecog_diagnosis_wide['PatientID'])].to_frame(name = 'PatientID'),\n",
    "        sort = False)\n",
    "    .fillna('unknown')\n",
    ")"
   ]
  },
  {
   "cell_type": "code",
   "execution_count": 210,
   "metadata": {},
   "outputs": [
    {
     "data": {
      "text/plain": [
       "(13697, 13697)"
      ]
     },
     "execution_count": 210,
     "metadata": {},
     "output_type": "execute_result"
    }
   ],
   "source": [
    "row_ID(ecog_diagnosis_wide)"
   ]
  },
  {
   "cell_type": "code",
   "execution_count": 211,
   "metadata": {},
   "outputs": [
    {
     "name": "stdout",
     "output_type": "stream",
     "text": [
      "Variable              Type         Data/Info\n",
      "--------------------------------------------\n",
      "biomarker_wide        DataFrame               PatientID     <...>n[13697 rows x 8 columns]\n",
      "demographics          DataFrame               PatientID Prac<...>n[13697 rows x 7 columns]\n",
      "ecog                  DataFrame                PatientID   E<...>[164057 rows x 5 columns]\n",
      "ecog_diagnosis_wide   DataFrame                PatientID eco<...>n[13697 rows x 2 columns]\n",
      "ecog_win              DataFrame                PatientID   E<...>n[16453 rows x 5 columns]\n",
      "enhanced_adv          DataFrame               PatientID diag<...>n[13697 rows x 9 columns]\n",
      "insurance_wide        DataFrame               PatientID  com<...>n[13697 rows x 5 columns]\n",
      "med_admin_wide        DataFrame               PatientID  ste<...>[13697 rows x 14 columns]\n",
      "mortality             DataFrame               PatientID  dea<...>n[13697 rows x 3 columns]\n"
     ]
    }
   ],
   "source": [
    "%whos DataFrame"
   ]
  },
  {
   "cell_type": "code",
   "execution_count": 212,
   "metadata": {},
   "outputs": [],
   "source": [
    "# Keep ecog_diagnosis_wide \n",
    "del ecog \n",
    "del ecog_win "
   ]
  },
  {
   "cell_type": "markdown",
   "metadata": {},
   "source": [
    "### 8. Vitals"
   ]
  },
  {
   "cell_type": "code",
   "execution_count": 213,
   "metadata": {},
   "outputs": [],
   "source": [
    "vitals = pd.read_csv('Vitals.csv')"
   ]
  },
  {
   "cell_type": "code",
   "execution_count": 214,
   "metadata": {},
   "outputs": [
    {
     "data": {
      "text/plain": [
       "(12814491, 68313)"
      ]
     },
     "execution_count": 214,
     "metadata": {},
     "output_type": "execute_result"
    }
   ],
   "source": [
    "row_ID(vitals)"
   ]
  },
  {
   "cell_type": "code",
   "execution_count": 215,
   "metadata": {},
   "outputs": [],
   "source": [
    "vitals = vitals[vitals['PatientID'].isin(test_IDs)]"
   ]
  },
  {
   "cell_type": "code",
   "execution_count": 216,
   "metadata": {},
   "outputs": [
    {
     "data": {
      "text/plain": [
       "(2533726, 13668)"
      ]
     },
     "execution_count": 216,
     "metadata": {},
     "output_type": "execute_result"
    }
   ],
   "source": [
    "row_ID(vitals)"
   ]
  },
  {
   "cell_type": "markdown",
   "metadata": {},
   "source": [
    "**The Vitals table is a longitudinal record of vitals captured in the EHR for each patient. a BMI variable at time of advanced diagnosis will be created. The elgibility window will be -90 days to +30 days from advanced diagnosis. Average height from all visits will be used to calculate BMI. In the case of two weights on the same day or equidistant but on opposite sides of the index date, the lowest weight will be selected. In addition, percent change in weight will be calculated using -inf to +30. Patients must have at least two weight recordings to calculate percent change or weight.**"
   ]
  },
  {
   "cell_type": "markdown",
   "metadata": {},
   "source": [
    "#### 8.1 Weight and BMI"
   ]
  },
  {
   "cell_type": "code",
   "execution_count": 217,
   "metadata": {},
   "outputs": [],
   "source": [
    "# Create weight dataframe; remove weight values that are empty or equal to zero.\n",
    "weight = (\n",
    "    vitals\n",
    "    .query('Test == \"body weight\"')\n",
    "    .filter(items = ['PatientID', 'TestDate', 'TestResultCleaned'])\n",
    "    .rename(columns = {'TestResultCleaned': 'weight'})\n",
    "    .dropna(subset = ['weight'])\n",
    "    .query('weight != 0')\n",
    ")"
   ]
  },
  {
   "cell_type": "code",
   "execution_count": 218,
   "metadata": {},
   "outputs": [],
   "source": [
    "weight.loc[:, 'TestDate'] = pd.to_datetime(weight['TestDate'])"
   ]
  },
  {
   "cell_type": "code",
   "execution_count": 219,
   "metadata": {},
   "outputs": [],
   "source": [
    "weight = pd.merge(weight, enhanced_adv[['PatientID', 'adv_date']], on = 'PatientID', how = 'left')"
   ]
  },
  {
   "cell_type": "code",
   "execution_count": 220,
   "metadata": {},
   "outputs": [],
   "source": [
    "# Weight elgibliity window is -90 and +30 from advanced diagnosis. \n",
    "weight_win_bmi = (\n",
    "    weight\n",
    "    .assign(weight_date_diff = (weight['TestDate'] - weight['adv_date']).dt.days)\n",
    "    .query('weight_date_diff >= -90 and weight_date_diff <= 30')\n",
    ")"
   ]
  },
  {
   "cell_type": "code",
   "execution_count": 221,
   "metadata": {},
   "outputs": [
    {
     "data": {
      "text/plain": [
       "(35521, 10806)"
      ]
     },
     "execution_count": 221,
     "metadata": {},
     "output_type": "execute_result"
    }
   ],
   "source": [
    "row_ID(weight_win_bmi)"
   ]
  },
  {
   "cell_type": "code",
   "execution_count": 222,
   "metadata": {},
   "outputs": [],
   "source": [
    "weight_win_bmi.loc[:, 'weight_date_diff'] = weight_win_bmi['weight_date_diff'].abs()"
   ]
  },
  {
   "cell_type": "code",
   "execution_count": 223,
   "metadata": {},
   "outputs": [],
   "source": [
    "# Select weight closest to date of advanced diagnosis; lowest weight selected in the event of two weights on same day or equidistant. \n",
    "weight_bmi_wide = (\n",
    "    weight_win_bmi\n",
    "    .sort_values(by = ['PatientID', 'weight_date_diff', 'weight'], ascending = [True, True, True])\n",
    "    .drop_duplicates(subset = ['PatientID'], keep = 'first')\n",
    "    .filter(items = ['PatientID', 'weight'])\n",
    "    .rename(columns = {'weight': 'weight_diag'})\n",
    ")"
   ]
  },
  {
   "cell_type": "code",
   "execution_count": 224,
   "metadata": {},
   "outputs": [
    {
     "data": {
      "text/plain": [
       "(10806, 10806)"
      ]
     },
     "execution_count": 224,
     "metadata": {},
     "output_type": "execute_result"
    }
   ],
   "source": [
    "row_ID(weight_bmi_wide)"
   ]
  },
  {
   "cell_type": "code",
   "execution_count": 225,
   "metadata": {},
   "outputs": [],
   "source": [
    "# Dataframe of average height for each patient. \n",
    "height_avg = (\n",
    "    vitals\n",
    "    .query('Test == \"body height\"')\n",
    "    .filter(items = ['PatientID', 'TestResultCleaned'])\n",
    "    .groupby('PatientID')['TestResultCleaned'].mean()\n",
    "    .to_frame()\n",
    "    .reset_index()\n",
    "    .rename(columns = {'TestResultCleaned': 'height_avg'})\n",
    ")"
   ]
  },
  {
   "cell_type": "code",
   "execution_count": 226,
   "metadata": {},
   "outputs": [],
   "source": [
    "weight_bmi_wide = pd.merge(weight_bmi_wide, height_avg, on = 'PatientID', how = 'left')"
   ]
  },
  {
   "cell_type": "code",
   "execution_count": 227,
   "metadata": {},
   "outputs": [],
   "source": [
    "# Create BMI column. \n",
    "weight_bmi_wide = (\n",
    "    weight_bmi_wide\n",
    "    .assign(bmi_diag = lambda x: (x['weight_diag']/(x['height_avg']*x['height_avg']))*10000)\n",
    "    .drop(columns = ['height_avg'])\n",
    ")"
   ]
  },
  {
   "cell_type": "code",
   "execution_count": 228,
   "metadata": {},
   "outputs": [
    {
     "data": {
      "text/html": [
       "<div>\n",
       "<style scoped>\n",
       "    .dataframe tbody tr th:only-of-type {\n",
       "        vertical-align: middle;\n",
       "    }\n",
       "\n",
       "    .dataframe tbody tr th {\n",
       "        vertical-align: top;\n",
       "    }\n",
       "\n",
       "    .dataframe thead th {\n",
       "        text-align: right;\n",
       "    }\n",
       "</style>\n",
       "<table border=\"1\" class=\"dataframe\">\n",
       "  <thead>\n",
       "    <tr style=\"text-align: right;\">\n",
       "      <th></th>\n",
       "      <th>weight_diag</th>\n",
       "      <th>bmi_diag</th>\n",
       "    </tr>\n",
       "  </thead>\n",
       "  <tbody>\n",
       "    <tr>\n",
       "      <th>count</th>\n",
       "      <td>10806.000000</td>\n",
       "      <td>10721.000000</td>\n",
       "    </tr>\n",
       "    <tr>\n",
       "      <th>mean</th>\n",
       "      <td>75.092290</td>\n",
       "      <td>26.305994</td>\n",
       "    </tr>\n",
       "    <tr>\n",
       "      <th>std</th>\n",
       "      <td>18.975591</td>\n",
       "      <td>5.922231</td>\n",
       "    </tr>\n",
       "    <tr>\n",
       "      <th>min</th>\n",
       "      <td>5.443104</td>\n",
       "      <td>0.590576</td>\n",
       "    </tr>\n",
       "    <tr>\n",
       "      <th>25%</th>\n",
       "      <td>61.688512</td>\n",
       "      <td>22.239938</td>\n",
       "    </tr>\n",
       "    <tr>\n",
       "      <th>50%</th>\n",
       "      <td>72.824196</td>\n",
       "      <td>25.547351</td>\n",
       "    </tr>\n",
       "    <tr>\n",
       "      <th>75%</th>\n",
       "      <td>86.182480</td>\n",
       "      <td>29.401605</td>\n",
       "    </tr>\n",
       "    <tr>\n",
       "      <th>max</th>\n",
       "      <td>187.152059</td>\n",
       "      <td>91.651652</td>\n",
       "    </tr>\n",
       "  </tbody>\n",
       "</table>\n",
       "</div>"
      ],
      "text/plain": [
       "        weight_diag      bmi_diag\n",
       "count  10806.000000  10721.000000\n",
       "mean      75.092290     26.305994\n",
       "std       18.975591      5.922231\n",
       "min        5.443104      0.590576\n",
       "25%       61.688512     22.239938\n",
       "50%       72.824196     25.547351\n",
       "75%       86.182480     29.401605\n",
       "max      187.152059     91.651652"
      ]
     },
     "execution_count": 228,
     "metadata": {},
     "output_type": "execute_result"
    }
   ],
   "source": [
    "weight_bmi_wide.describe()"
   ]
  },
  {
   "cell_type": "code",
   "execution_count": 229,
   "metadata": {},
   "outputs": [],
   "source": [
    "# Append excluded IDs from training set and create a missing variable for those without BMI at diagnosis. \n",
    "weight_bmi_wide = (\n",
    "    weight_bmi_wide\n",
    "    .append(\n",
    "        pd.Series(test_IDs)[~pd.Series(test_IDs).isin(weight_bmi_wide['PatientID'])].to_frame(name = 'PatientID'),\n",
    "        sort = False)\n",
    ")"
   ]
  },
  {
   "cell_type": "code",
   "execution_count": 230,
   "metadata": {},
   "outputs": [
    {
     "data": {
      "text/plain": [
       "(13697, 13697)"
      ]
     },
     "execution_count": 230,
     "metadata": {},
     "output_type": "execute_result"
    }
   ],
   "source": [
    "row_ID(weight_bmi_wide)"
   ]
  },
  {
   "cell_type": "code",
   "execution_count": 231,
   "metadata": {},
   "outputs": [],
   "source": [
    "weight_bmi_wide.loc[:, 'bmi_diag_na'] = np.where(weight_bmi_wide['bmi_diag'].isna(), 1, 0)"
   ]
  },
  {
   "cell_type": "markdown",
   "metadata": {},
   "source": [
    "#### 8.2 Percent change "
   ]
  },
  {
   "cell_type": "code",
   "execution_count": 232,
   "metadata": {},
   "outputs": [],
   "source": [
    "# Select elgbility window of -90 to +90 days from advanced diagnosis.\n",
    "weight_win_summary = (\n",
    "    weight\n",
    "    .assign(weight_date_diff = (weight['TestDate'] - weight['adv_date']).dt.days)\n",
    "    .query('weight_date_diff >= -90 and weight_date_diff <= 90')\n",
    ")"
   ]
  },
  {
   "cell_type": "code",
   "execution_count": 233,
   "metadata": {},
   "outputs": [],
   "source": [
    "# Select patients with more than 1 weight recording within elgibility window.\n",
    "weight_win_summary = weight_win_summary[weight_win_summary.duplicated(subset = ['PatientID'], keep = False)]"
   ]
  },
  {
   "cell_type": "code",
   "execution_count": 234,
   "metadata": {},
   "outputs": [
    {
     "data": {
      "text/plain": [
       "(79234, 11047)"
      ]
     },
     "execution_count": 234,
     "metadata": {},
     "output_type": "execute_result"
    }
   ],
   "source": [
    "row_ID(weight_win_summary)"
   ]
  },
  {
   "cell_type": "code",
   "execution_count": 235,
   "metadata": {},
   "outputs": [],
   "source": [
    "# Select weight from the earliest time within elgibility window. \n",
    "weight_tmin = weight_win_summary.loc[weight_win_summary.groupby('PatientID')['weight_date_diff'].idxmin()]"
   ]
  },
  {
   "cell_type": "code",
   "execution_count": 236,
   "metadata": {},
   "outputs": [],
   "source": [
    "# Select weight from the latest time within elgibility window. \n",
    "weight_tmax = weight_win_summary.loc[weight_win_summary.groupby('PatientID')['weight_date_diff'].idxmax()]"
   ]
  },
  {
   "cell_type": "code",
   "execution_count": 237,
   "metadata": {},
   "outputs": [],
   "source": [
    "# Combine above two dataframes and sort from earliest recorded weight to latest recorded weight for each patient. \n",
    "weight_tcomb = (\n",
    "    pd.concat([weight_tmin, weight_tmax])\n",
    "    .sort_values(by = ['PatientID', 'weight_date_diff'], ascending = True)\n",
    ")"
   ]
  },
  {
   "cell_type": "code",
   "execution_count": 238,
   "metadata": {},
   "outputs": [
    {
     "data": {
      "text/plain": [
       "(22094, 11047)"
      ]
     },
     "execution_count": 238,
     "metadata": {},
     "output_type": "execute_result"
    }
   ],
   "source": [
    "row_ID(weight_tcomb)"
   ]
  },
  {
   "cell_type": "code",
   "execution_count": 239,
   "metadata": {},
   "outputs": [],
   "source": [
    "weight_tcomb.loc[:, 'weight_pct_change'] = weight_tcomb.groupby('PatientID')['weight'].pct_change()"
   ]
  },
  {
   "cell_type": "code",
   "execution_count": 240,
   "metadata": {},
   "outputs": [],
   "source": [
    "weight_tcomb.loc[:, 'diff_date_diff'] = weight_tcomb['weight_date_diff'].diff()"
   ]
  },
  {
   "cell_type": "code",
   "execution_count": 241,
   "metadata": {},
   "outputs": [],
   "source": [
    "# Drop empty rows for weight_pct_change.\n",
    "weight_pct_wide = (\n",
    "    weight_tcomb\n",
    "    .dropna(subset = ['weight_pct_change'])\n",
    "    .filter(items = ['PatientID', 'weight_pct_change', 'diff_date_diff'])\n",
    ")"
   ]
  },
  {
   "cell_type": "code",
   "execution_count": 242,
   "metadata": {},
   "outputs": [
    {
     "data": {
      "text/plain": [
       "(11047, 11047)"
      ]
     },
     "execution_count": 242,
     "metadata": {},
     "output_type": "execute_result"
    }
   ],
   "source": [
    "row_ID(weight_pct_wide)"
   ]
  },
  {
   "cell_type": "code",
   "execution_count": 243,
   "metadata": {},
   "outputs": [],
   "source": [
    "# Append missing training IDs and create a missing variable for those without weight_pct_change. \n",
    "weight_pct_wide = (\n",
    "    weight_pct_wide\n",
    "    .append(\n",
    "        pd.Series(test_IDs)[~pd.Series(test_IDs).isin(weight_pct_wide['PatientID'])].to_frame(name = 'PatientID'),\n",
    "        sort = False)\n",
    "    .drop(columns = ['diff_date_diff'])\n",
    ")"
   ]
  },
  {
   "cell_type": "code",
   "execution_count": 244,
   "metadata": {},
   "outputs": [
    {
     "data": {
      "text/plain": [
       "(13697, 13697)"
      ]
     },
     "execution_count": 244,
     "metadata": {},
     "output_type": "execute_result"
    }
   ],
   "source": [
    "row_ID(weight_pct_wide)"
   ]
  },
  {
   "cell_type": "code",
   "execution_count": 245,
   "metadata": {},
   "outputs": [],
   "source": [
    "weight_pct_wide.loc[:, 'weight_pct_na'] = np.where(weight_pct_wide['weight_pct_change'].isna(), 1, 0)"
   ]
  },
  {
   "cell_type": "markdown",
   "metadata": {},
   "source": [
    "#### 8.3 Weight slope"
   ]
  },
  {
   "cell_type": "code",
   "execution_count": 246,
   "metadata": {},
   "outputs": [],
   "source": [
    "weight_win_summary.loc[:, 'date_ordinal'] = weight_win_summary['TestDate'].map(dt.datetime.toordinal)"
   ]
  },
  {
   "cell_type": "code",
   "execution_count": 247,
   "metadata": {},
   "outputs": [
    {
     "name": "stderr",
     "output_type": "stream",
     "text": [
      "/Users/xavierorcutt/Dropbox/ist_project/myenv/lib/python3.7/site-packages/scipy/stats/_stats_mstats_common.py:170: RuntimeWarning: invalid value encountered in double_scalars\n",
      "  slope = ssxym / ssxm\n"
     ]
    }
   ],
   "source": [
    "# Dataframe of slope for weight recordings within window period (kg/day).\n",
    "weight_slope_wide = (\n",
    "    weight_win_summary\n",
    "    .groupby('PatientID')\n",
    "    .apply(lambda x: pd.Series(linregress(x['date_ordinal'], x['weight'])))\n",
    "    .rename(columns = {0: 'weight_slope'})\n",
    "    .reset_index()\n",
    "    .filter(items = ['PatientID', 'weight_slope']))   "
   ]
  },
  {
   "cell_type": "code",
   "execution_count": 248,
   "metadata": {},
   "outputs": [
    {
     "data": {
      "text/plain": [
       "(11047, 11047)"
      ]
     },
     "execution_count": 248,
     "metadata": {},
     "output_type": "execute_result"
    }
   ],
   "source": [
    "row_ID(weight_slope_wide)"
   ]
  },
  {
   "cell_type": "code",
   "execution_count": 249,
   "metadata": {},
   "outputs": [],
   "source": [
    "# Append missing training IDs. \n",
    "weight_slope_wide = (\n",
    "    weight_slope_wide\n",
    "    .append(\n",
    "        pd.Series(test_IDs)[~pd.Series(test_IDs).isin(weight_slope_wide['PatientID'])].to_frame(name = 'PatientID'),\n",
    "        sort = False)\n",
    ")"
   ]
  },
  {
   "cell_type": "code",
   "execution_count": 250,
   "metadata": {},
   "outputs": [
    {
     "data": {
      "text/plain": [
       "(13697, 13697)"
      ]
     },
     "execution_count": 250,
     "metadata": {},
     "output_type": "execute_result"
    }
   ],
   "source": [
    "row_ID(weight_slope_wide)"
   ]
  },
  {
   "cell_type": "markdown",
   "metadata": {},
   "source": [
    "#### 8.4 Merge "
   ]
  },
  {
   "cell_type": "code",
   "execution_count": 251,
   "metadata": {},
   "outputs": [],
   "source": [
    "weight_wide = pd.merge(weight_bmi_wide, weight_pct_wide, on = 'PatientID')"
   ]
  },
  {
   "cell_type": "code",
   "execution_count": 252,
   "metadata": {},
   "outputs": [],
   "source": [
    "weight_wide = pd.merge(weight_wide, weight_slope_wide, on = 'PatientID')"
   ]
  },
  {
   "cell_type": "code",
   "execution_count": 253,
   "metadata": {},
   "outputs": [
    {
     "data": {
      "text/plain": [
       "(13697, 13697)"
      ]
     },
     "execution_count": 253,
     "metadata": {},
     "output_type": "execute_result"
    }
   ],
   "source": [
    "row_ID(weight_wide)"
   ]
  },
  {
   "cell_type": "code",
   "execution_count": 254,
   "metadata": {},
   "outputs": [
    {
     "name": "stdout",
     "output_type": "stream",
     "text": [
      "Variable              Type         Data/Info\n",
      "--------------------------------------------\n",
      "biomarker_wide        DataFrame               PatientID     <...>n[13697 rows x 8 columns]\n",
      "demographics          DataFrame               PatientID Prac<...>n[13697 rows x 7 columns]\n",
      "ecog_diagnosis_wide   DataFrame                PatientID eco<...>n[13697 rows x 2 columns]\n",
      "enhanced_adv          DataFrame               PatientID diag<...>n[13697 rows x 9 columns]\n",
      "height_avg            DataFrame               PatientID  hei<...>n[13523 rows x 2 columns]\n",
      "insurance_wide        DataFrame               PatientID  com<...>n[13697 rows x 5 columns]\n",
      "med_admin_wide        DataFrame               PatientID  ste<...>[13697 rows x 14 columns]\n",
      "mortality             DataFrame               PatientID  dea<...>n[13697 rows x 3 columns]\n",
      "vitals                DataFrame                  PatientID  <...>533726 rows x 15 columns]\n",
      "weight                DataFrame                PatientID   T<...>[329929 rows x 4 columns]\n",
      "weight_bmi_wide       DataFrame               PatientID  wei<...>n[13697 rows x 4 columns]\n",
      "weight_pct_wide       DataFrame               PatientID  wei<...>n[13697 rows x 3 columns]\n",
      "weight_slope_wide     DataFrame               PatientID  wei<...>n[13697 rows x 2 columns]\n",
      "weight_tcomb          DataFrame                PatientID   T<...>n[22094 rows x 7 columns]\n",
      "weight_tmax           DataFrame                PatientID   T<...>n[11047 rows x 5 columns]\n",
      "weight_tmin           DataFrame                PatientID   T<...>n[11047 rows x 5 columns]\n",
      "weight_wide           DataFrame               PatientID  wei<...>n[13697 rows x 7 columns]\n",
      "weight_win_bmi        DataFrame                PatientID   T<...>n[35521 rows x 5 columns]\n",
      "weight_win_summary    DataFrame                PatientID   T<...>n[79234 rows x 6 columns]\n"
     ]
    }
   ],
   "source": [
    "%whos DataFrame"
   ]
  },
  {
   "cell_type": "code",
   "execution_count": 255,
   "metadata": {},
   "outputs": [],
   "source": [
    "# Keep weight_wide.\n",
    "del height_avg\n",
    "del vitals\n",
    "del weight\n",
    "del weight_bmi_wide\n",
    "del weight_pct_wide\n",
    "del weight_slope_wide\n",
    "del weight_tcomb\n",
    "del weight_tmax\n",
    "del weight_tmin\n",
    "del weight_win_bmi\n",
    "del weight_win_summary"
   ]
  },
  {
   "cell_type": "markdown",
   "metadata": {},
   "source": [
    "### 9. Lab"
   ]
  },
  {
   "cell_type": "code",
   "execution_count": 256,
   "metadata": {},
   "outputs": [],
   "source": [
    "lab = pd.read_csv('Lab.csv')"
   ]
  },
  {
   "cell_type": "code",
   "execution_count": 257,
   "metadata": {},
   "outputs": [
    {
     "data": {
      "text/plain": [
       "(39492037, 64852)"
      ]
     },
     "execution_count": 257,
     "metadata": {},
     "output_type": "execute_result"
    }
   ],
   "source": [
    "row_ID(lab)"
   ]
  },
  {
   "cell_type": "code",
   "execution_count": 258,
   "metadata": {},
   "outputs": [],
   "source": [
    "# Selecting PatientIDs from training set. \n",
    "lab = lab[lab['PatientID'].isin(test_IDs)]"
   ]
  },
  {
   "cell_type": "code",
   "execution_count": 259,
   "metadata": {},
   "outputs": [
    {
     "data": {
      "text/plain": [
       "(7863557, 13019)"
      ]
     },
     "execution_count": 259,
     "metadata": {},
     "output_type": "execute_result"
    }
   ],
   "source": [
    "row_ID(lab)"
   ]
  },
  {
   "cell_type": "markdown",
   "metadata": {},
   "source": [
    "**The Lab table is a longitudinal record of lab captured in the EHR with multiple-rows-per-patient. A single-patient-per-row table will be built focusing on the following NCCN recommended labs (ie., CMP and CBC):**\n",
    "\n",
    "* **Creatinine -- (LOINC: 2160-0 and 38483-4)**\n",
    "* **Hemoglobin -- (LOINC: 718-7 and 20509-6)**\n",
    "* **White blood cell count -- (LOINC: 26464-8 and 6690-2)**\n",
    "* **Neutrophil count -- (LOINC: 26499-4, 751-8, 30451-9, and 753-4)**\n",
    "* **Albumin, serum -- (LOINC: 1751-7)**\n",
    "* **Total bilirubin -- (LOINC: 42719-5 and 1975-2)**\n",
    "* **Sodium — (LOINC: 2947-0 and 2951-2)**\n",
    "* **Bicarb — (LOINC: 1963-8, 1959-6, 14627-4, 1960-4, and 2028-9)**\n",
    "* **Calcium — (LOINC: 17861-6 and 49765-1)**\n",
    "* **AST — (LOINC: 1920-8)**\n",
    "* **ALT — (LOINC: 1742-6, 1743-4, and 1744-2)**\n",
    "* **Platelet -- (LOINC: 26515-7, 777-3, 778-1, and 49497-1)**\n",
    "* **Potassium -- (LOINC: 6298-4 and 2823-3)**\n",
    "* **Chloride -- (LOINC: 2075-0)**\n",
    "* **BUN -- (LOINC: 3094-0)**\n",
    "\n",
    "**The index date will be time of advanced diagnosis with an elgibility window of -90 days to +30 days. The lab value closest to the index date will be selected for each patient. The following summary statistics, using an elgibility window of negative infinity to +30 days from advanced diagnosis, will also be created for some of the above variables:** \n",
    "* **Max**\n",
    "* **Min**\n",
    "* **Mean**\n",
    "* **Standard deviation** \n",
    "* **Slope**"
   ]
  },
  {
   "cell_type": "code",
   "execution_count": 260,
   "metadata": {},
   "outputs": [],
   "source": [
    "lab = pd.merge(lab, enhanced_adv[['PatientID', 'adv_date']], on = 'PatientID', how = 'left')"
   ]
  },
  {
   "cell_type": "code",
   "execution_count": 261,
   "metadata": {},
   "outputs": [],
   "source": [
    "lab.loc[:, 'ResultDate'] = pd.to_datetime(lab['ResultDate']) "
   ]
  },
  {
   "cell_type": "code",
   "execution_count": 262,
   "metadata": {},
   "outputs": [],
   "source": [
    "# Select rows with clinically relevant labs.\n",
    "lab_core = (\n",
    "    lab[\n",
    "    (lab['LOINC'] == \"2160-0\") |\n",
    "    (lab['LOINC'] == \"38483-4\") | \n",
    "    (lab['LOINC'] == \"718-7\") |\n",
    "    (lab['LOINC'] == \"20509-6\") |\n",
    "    (lab['LOINC'] == \"26464-8\") |\n",
    "    (lab['LOINC'] == \"6690-2\") |\n",
    "    (lab['LOINC'] == \"26499-4\") |\n",
    "    (lab['LOINC'] == \"751-8\") |\n",
    "    (lab['LOINC'] == \"30451-9\") |\n",
    "    (lab['LOINC'] == \"753-4\") |\n",
    "    (lab['LOINC'] == \"1751-7\") |\n",
    "    (lab['LOINC'] == \"42719-5\") |\n",
    "    (lab['LOINC'] == \"1975-2\") |\n",
    "    (lab['LOINC'] == \"2947-0\") |\n",
    "    (lab['LOINC'] == \"2951-2\") |\n",
    "    (lab['LOINC'] == \"1963-8\") |\n",
    "    (lab['LOINC'] == \"1959-6\") |\n",
    "    (lab['LOINC'] == \"14627-4\") |\n",
    "    (lab['LOINC'] == \"1960-4\") |\n",
    "    (lab['LOINC'] == \"2028-9\") |\n",
    "    (lab['LOINC'] == \"17861-6\") |\n",
    "    (lab['LOINC'] == \"49765-1\") |\n",
    "    (lab['LOINC'] == \"1920-8\") |\n",
    "    (lab['LOINC'] == \"1742-6\") | \n",
    "    (lab['LOINC'] == \"1743-4\") |\n",
    "    (lab['LOINC'] == \"1744-2\") |\n",
    "    (lab['LOINC'] == \"26515-7\") | \n",
    "    (lab['LOINC'] == \"777-3\") |\n",
    "    (lab['LOINC'] == \"778-1\") |\n",
    "    (lab['LOINC'] == \"49497-1\") | \n",
    "    (lab['LOINC'] == \"6298-4\") |\n",
    "    (lab['LOINC'] == \"2823-3\") |\n",
    "    (lab['LOINC'] == \"2075-0\") | \n",
    "    (lab['LOINC'] == \"3094-0\") | \n",
    "    (lab['LOINC'] == \"6768-6\")]\n",
    "    .filter(items = ['PatientID', \n",
    "                     'ResultDate', \n",
    "                     'LOINC', \n",
    "                     'LabComponent', \n",
    "                     'TestUnits', \n",
    "                     'TestUnitsCleaned', \n",
    "                     'TestResult', \n",
    "                     'TestResultCleaned', \n",
    "                     'adv_date'])\n",
    ")"
   ]
  },
  {
   "cell_type": "code",
   "execution_count": 263,
   "metadata": {},
   "outputs": [],
   "source": [
    "conditions = [\n",
    "    ((lab_core['LOINC'] == '2160-0') | (lab_core['LOINC'] == '38483-4')),\n",
    "    ((lab_core['LOINC'] == '718-7') | (lab_core['LOINC'] == '20509-6')),\n",
    "    ((lab_core['LOINC'] == '26464-8') | (lab_core['LOINC'] == '6690-2')), \n",
    "    ((lab_core['LOINC'] == '26499-4') | (lab_core['LOINC'] == '751-8') | (lab_core['LOINC'] == '30451-9') | (lab_core['LOINC'] == '753-4')),\n",
    "    (lab_core['LOINC'] == '1751-7'),\n",
    "    ((lab_core['LOINC'] == '42719-5') | (lab_core['LOINC'] == '1975-2')),\n",
    "    ((lab_core['LOINC'] == '2947-0') | (lab_core['LOINC'] == '2951-2')),\n",
    "    ((lab_core['LOINC'] == '1963-8') | (lab_core['LOINC'] == '1959-6') | (lab_core['LOINC'] == '14627-4') | (lab_core['LOINC'] == '1960-4') | (lab_core['LOINC'] == '2028-9')),\n",
    "    ((lab_core['LOINC'] == '17861-6') | (lab_core['LOINC'] == '49765-1')),\n",
    "    (lab_core['LOINC'] == '1920-8'),\n",
    "    ((lab_core['LOINC'] == '1742-6') | (lab_core['LOINC'] == '1743-4') | (lab_core['LOINC'] == '1744-2')),\n",
    "    ((lab_core['LOINC'] == '26515-7') | (lab_core['LOINC'] == '777-3') | (lab_core['LOINC'] == '778-1') | (lab_core['LOINC'] == '49497-1')),\n",
    "    ((lab_core['LOINC'] == '6298-4') | (lab_core['LOINC'] == '2823-3')),\n",
    "    (lab_core['LOINC'] == '2075-0'), \n",
    "    (lab_core['LOINC'] == '3094-0'),\n",
    "    (lab_core['LOINC'] == '6768-6')]\n",
    "\n",
    "choices = ['creatinine', \n",
    "           'hemoglobin', \n",
    "           'wbc', \n",
    "           'neutrophil_count',  \n",
    "           'albumin', \n",
    "           'total_bilirubin', \n",
    "           'sodium', \n",
    "           'bicarb',\n",
    "           'calcium',\n",
    "           'ast', \n",
    "           'alt',\n",
    "           'platelet',\n",
    "           'potassium', \n",
    "           'chloride',\n",
    "           'bun',\n",
    "           'alp']\n",
    "\n",
    "lab_core.loc[:, 'lab_name'] = np.select(conditions, choices)"
   ]
  },
  {
   "cell_type": "code",
   "execution_count": 264,
   "metadata": {},
   "outputs": [],
   "source": [
    "# Remove missing lab values. \n",
    "lab_core = lab_core.dropna(subset = ['TestResultCleaned'])"
   ]
  },
  {
   "cell_type": "code",
   "execution_count": 265,
   "metadata": {},
   "outputs": [],
   "source": [
    "conditions = [\n",
    "    ((lab_core['lab_name'] == 'wbc') | (lab_core['lab_name'] == 'neutrophil_count') | (lab_core['lab_name'] == 'platelet')) & \n",
    "    (lab_core['TestUnits'] == '10*3/L'),\n",
    "    (lab_core['lab_name'] == 'hemoglobin') & (lab_core['TestUnits'] == 'g/uL')]\n",
    "\n",
    "choices = [lab_core['TestResultCleaned'] * 1000000,\n",
    "           lab_core['TestResultCleaned'] / 100000]\n",
    "\n",
    "lab_core.loc[:, 'test_result_cleaned'] = np.select(conditions, choices, default = lab_core['TestResultCleaned'])"
   ]
  },
  {
   "cell_type": "code",
   "execution_count": 266,
   "metadata": {},
   "outputs": [],
   "source": [
    "# Elgibliity window is -90 and +30 from advanced diagnosis. \n",
    "lab_core_win = (\n",
    "    lab_core\n",
    "    .assign(lab_date_diff = (lab_core['ResultDate'] - lab_core['adv_date']).dt.days)\n",
    "    .query('lab_date_diff >= -90 and lab_date_diff <= 30')\n",
    "    .filter(items = ['PatientID', 'ResultDate', 'TestResultCleaned', 'lab_name', 'adv_date', 'test_result_cleaned', 'lab_date_diff'])\n",
    ")"
   ]
  },
  {
   "cell_type": "code",
   "execution_count": 267,
   "metadata": {},
   "outputs": [],
   "source": [
    "lab_core_win.loc[:, 'lab_date_diff'] = lab_core_win['lab_date_diff'].abs()"
   ]
  },
  {
   "cell_type": "code",
   "execution_count": 268,
   "metadata": {},
   "outputs": [],
   "source": [
    "# Select lab closest to date of advanced diagnosis and pivot to a wide table. \n",
    "lab_diag_wide = (\n",
    "    lab_core_win\n",
    "    .loc[lab_core_win.groupby(['PatientID', 'lab_name'])['lab_date_diff'].idxmin()]\n",
    "    .pivot(index = 'PatientID', columns = 'lab_name', values = 'test_result_cleaned')\n",
    "    .reset_index()\n",
    "    .rename(columns = {\n",
    "        'albumin': 'albumin_diag',\n",
    "        'creatinine': 'creatinine_diag',\n",
    "        'hemoglobin': 'hemoglobin_diag',\n",
    "        'neutrophil_count': 'neutrophil_count_diag',\n",
    "        'total_bilirubin': 'total_bilirubin_diag',\n",
    "        'wbc': 'wbc_diag',\n",
    "        'sodium': 'sodium_diag', \n",
    "        'bicarb': 'bicarb_diag',\n",
    "        'calcium': 'calcium_diag',\n",
    "        'ast': 'ast_diag', \n",
    "        'alt': 'alt_diag',\n",
    "        'platelet': 'platelet_diag',\n",
    "        'potassium': 'potassium_diag',\n",
    "        'chloride': 'chloride_diag',\n",
    "        'bun': 'bun_diag',\n",
    "        'alp': 'alp_diag'})\n",
    ")\n",
    "\n",
    "lab_diag_wide.columns.name = None"
   ]
  },
  {
   "cell_type": "code",
   "execution_count": 269,
   "metadata": {},
   "outputs": [
    {
     "data": {
      "text/plain": [
       "(9519, 9519)"
      ]
     },
     "execution_count": 269,
     "metadata": {},
     "output_type": "execute_result"
    }
   ],
   "source": [
    "row_ID(lab_diag_wide)"
   ]
  },
  {
   "cell_type": "code",
   "execution_count": 270,
   "metadata": {},
   "outputs": [],
   "source": [
    "lab_diag_wide = (\n",
    "    lab_diag_wide\n",
    "    .append(\n",
    "        pd.Series(test_IDs)[~pd.Series(test_IDs).isin(lab_diag_wide['PatientID'])].to_frame(name = 'PatientID'),\n",
    "        sort = False)\n",
    ")"
   ]
  },
  {
   "cell_type": "code",
   "execution_count": 271,
   "metadata": {},
   "outputs": [
    {
     "data": {
      "text/plain": [
       "(13697, 13697)"
      ]
     },
     "execution_count": 271,
     "metadata": {},
     "output_type": "execute_result"
    }
   ],
   "source": [
    "row_ID(lab_diag_wide)"
   ]
  },
  {
   "cell_type": "code",
   "execution_count": 272,
   "metadata": {},
   "outputs": [],
   "source": [
    "# Create missing variables for labs at time of diagnosis. \n",
    "for x in range (1, len(lab_diag_wide.columns)):\n",
    "    lab_diag_wide.loc[:, lab_diag_wide.columns[x]+'_na'] = np.where(lab_diag_wide[lab_diag_wide.columns[x]].isna(), 1, 0)"
   ]
  },
  {
   "cell_type": "code",
   "execution_count": 273,
   "metadata": {},
   "outputs": [
    {
     "data": {
      "text/plain": [
       "['PatientID',\n",
       " 'albumin_diag',\n",
       " 'alp_diag',\n",
       " 'alt_diag',\n",
       " 'ast_diag',\n",
       " 'bicarb_diag',\n",
       " 'bun_diag',\n",
       " 'calcium_diag',\n",
       " 'chloride_diag',\n",
       " 'creatinine_diag',\n",
       " 'hemoglobin_diag',\n",
       " 'neutrophil_count_diag',\n",
       " 'platelet_diag',\n",
       " 'potassium_diag',\n",
       " 'sodium_diag',\n",
       " 'total_bilirubin_diag',\n",
       " 'wbc_diag',\n",
       " 'albumin_diag_na',\n",
       " 'alp_diag_na',\n",
       " 'alt_diag_na',\n",
       " 'ast_diag_na',\n",
       " 'bicarb_diag_na',\n",
       " 'bun_diag_na',\n",
       " 'calcium_diag_na',\n",
       " 'chloride_diag_na',\n",
       " 'creatinine_diag_na',\n",
       " 'hemoglobin_diag_na',\n",
       " 'neutrophil_count_diag_na',\n",
       " 'platelet_diag_na',\n",
       " 'potassium_diag_na',\n",
       " 'sodium_diag_na',\n",
       " 'total_bilirubin_diag_na',\n",
       " 'wbc_diag_na']"
      ]
     },
     "execution_count": 273,
     "metadata": {},
     "output_type": "execute_result"
    }
   ],
   "source": [
    "list(lab_diag_wide.columns)"
   ]
  },
  {
   "cell_type": "markdown",
   "metadata": {},
   "source": [
    "#### Mean, max, min, and standard deviation"
   ]
  },
  {
   "cell_type": "code",
   "execution_count": 274,
   "metadata": {},
   "outputs": [],
   "source": [
    "# Elgibility window is negative infinity to +30 from advanced diagnosis. \n",
    "lab_core_win_summ = (\n",
    "    lab_core\n",
    "    .assign(lab_date_diff = (lab_core['ResultDate'] - lab_core['adv_date']).dt.days)\n",
    "    .query('lab_date_diff <= 30')\n",
    "    .filter(items = ['PatientID', 'ResultDate', 'TestResultCleaned', 'lab_name', 'adv_date', 'test_result_cleaned', 'lab_date_diff'])\n",
    ")"
   ]
  },
  {
   "cell_type": "code",
   "execution_count": 275,
   "metadata": {},
   "outputs": [],
   "source": [
    "# Pivot table of average values for core labs during elgibility period of -90 to -30 days from advanced diagnosis. \n",
    "lab_avg_wide = (\n",
    "    lab_core_win_summ\n",
    "    .groupby(['PatientID', 'lab_name'])['test_result_cleaned'].mean()\n",
    "    .to_frame()\n",
    "    .reset_index()\n",
    "    .pivot(index = 'PatientID', columns = 'lab_name', values = 'test_result_cleaned')\n",
    "    .reset_index()\n",
    "    .rename(columns = {\n",
    "        'albumin': 'albumin_avg',\n",
    "        'creatinine': 'creatinine_avg',\n",
    "        'hemoglobin': 'hemoglobin_avg',\n",
    "        'neutrophil_count': 'neutrophil_count_avg',\n",
    "        'total_bilirubin': 'total_bilirubin_avg',\n",
    "        'wbc': 'wbc_avg',\n",
    "        'sodium': 'sodium_avg', \n",
    "        'bicarb': 'bicarb_avg',\n",
    "        'calcium': 'calcium_avg',\n",
    "        'ast': 'ast_avg', \n",
    "        'alt': 'alt_avg',\n",
    "        'platelet': 'platelet_avg',\n",
    "        'potassium': 'potassium_avg',\n",
    "        'chloride': 'chloride_avg',\n",
    "        'bun': 'bun_avg',\n",
    "        'alp': 'alp_avg'})\n",
    ")\n",
    "\n",
    "lab_avg_wide.columns.name = None"
   ]
  },
  {
   "cell_type": "code",
   "execution_count": 276,
   "metadata": {},
   "outputs": [
    {
     "data": {
      "text/plain": [
       "(9924, 9924)"
      ]
     },
     "execution_count": 276,
     "metadata": {},
     "output_type": "execute_result"
    }
   ],
   "source": [
    "row_ID(lab_avg_wide)"
   ]
  },
  {
   "cell_type": "code",
   "execution_count": 277,
   "metadata": {},
   "outputs": [],
   "source": [
    "# Pivot table of maximum values for core labs during elgibility period of -90 to -30 days from advanced diagnosis. \n",
    "lab_max_wide = (\n",
    "    lab_core_win_summ\n",
    "    .groupby(['PatientID', 'lab_name'])['test_result_cleaned'].max()\n",
    "    .to_frame()\n",
    "    .reset_index()\n",
    "    .pivot(index = 'PatientID', columns = 'lab_name', values = 'test_result_cleaned')\n",
    "    .reset_index()\n",
    "    .rename(columns = {\n",
    "        'albumin': 'albumin_max',\n",
    "        'creatinine': 'creatinine_max',\n",
    "        'hemoglobin': 'hemoglobin_max',\n",
    "        'neutrophil_count': 'neutrophil_count_max',\n",
    "        'total_bilirubin': 'total_bilirubin_max',\n",
    "        'wbc': 'wbc_max', \n",
    "        'sodium': 'sodium_max', \n",
    "        'bicarb': 'bicarb_max',\n",
    "        'calcium': 'calcium_max',\n",
    "        'ast': 'ast_max', \n",
    "        'alt': 'alt_max',\n",
    "        'platelet': 'platelet_max',\n",
    "        'potassium': 'potassium_max',\n",
    "        'chloride': 'chloride_max',\n",
    "        'bun': 'bun_max', \n",
    "        'alp': 'alp_max'})\n",
    ")\n",
    "\n",
    "lab_max_wide.columns.name = None"
   ]
  },
  {
   "cell_type": "code",
   "execution_count": 278,
   "metadata": {},
   "outputs": [
    {
     "data": {
      "text/plain": [
       "(9924, 9924)"
      ]
     },
     "execution_count": 278,
     "metadata": {},
     "output_type": "execute_result"
    }
   ],
   "source": [
    "row_ID(lab_max_wide)"
   ]
  },
  {
   "cell_type": "code",
   "execution_count": 279,
   "metadata": {},
   "outputs": [],
   "source": [
    "# Pivot table of minimum values for core labs during elgibility period of -90 to -30 days from advanced diagnosis. \n",
    "lab_min_wide = (\n",
    "    lab_core_win_summ\n",
    "    .groupby(['PatientID', 'lab_name'])['test_result_cleaned'].min()\n",
    "    .to_frame()\n",
    "    .reset_index()\n",
    "    .pivot(index = 'PatientID', columns = 'lab_name', values = 'test_result_cleaned')\n",
    "    .reset_index()\n",
    "    .rename(columns = {\n",
    "        'albumin': 'albumin_min',\n",
    "        'creatinine': 'creatinine_min',\n",
    "        'hemoglobin': 'hemoglobin_min',\n",
    "        'neutrophil_count': 'neutrophil_count_min',\n",
    "        'total_bilirubin': 'total_bilirubin_min',\n",
    "        'wbc': 'wbc_min',\n",
    "        'sodium': 'sodium_min', \n",
    "        'bicarb': 'bicarb_min',\n",
    "        'calcium': 'calcium_min',\n",
    "        'ast': 'ast_min', \n",
    "        'alt': 'alt_min',\n",
    "        'platelet': 'platelet_min',\n",
    "        'potassium': 'potassium_min',\n",
    "        'chloride': 'chloride_min',\n",
    "        'bun': 'bun_min',\n",
    "        'alp': 'alp_min'})\n",
    ")\n",
    "\n",
    "lab_min_wide.columns.name = None"
   ]
  },
  {
   "cell_type": "code",
   "execution_count": 280,
   "metadata": {},
   "outputs": [
    {
     "data": {
      "text/plain": [
       "(9924, 9924)"
      ]
     },
     "execution_count": 280,
     "metadata": {},
     "output_type": "execute_result"
    }
   ],
   "source": [
    "row_ID(lab_min_wide)"
   ]
  },
  {
   "cell_type": "code",
   "execution_count": 281,
   "metadata": {},
   "outputs": [],
   "source": [
    "# Pivot table of standard deviation for core labs during elgibility period of -90 to -30 days from advanced diagnosis. \n",
    "lab_std_wide = (\n",
    "    lab_core_win_summ\n",
    "    .groupby(['PatientID', 'lab_name'])['test_result_cleaned'].std()\n",
    "    .to_frame()\n",
    "    .reset_index()\n",
    "    .pivot(index = 'PatientID', columns = 'lab_name', values = 'test_result_cleaned')\n",
    "    .reset_index()\n",
    "    .rename(columns = {\n",
    "        'albumin': 'albumin_std',\n",
    "        'creatinine': 'creatinine_std',\n",
    "        'hemoglobin': 'hemoglobin_std',\n",
    "        'neutrophil_count': 'neutrophil_count_std',\n",
    "        'total_bilirubin': 'total_bilirubin_std',\n",
    "        'wbc': 'wbc_std',\n",
    "        'sodium': 'sodium_std', \n",
    "        'bicarb': 'bicarb_std',\n",
    "        'calcium': 'calcium_std',\n",
    "        'ast': 'ast_std', \n",
    "        'alt': 'alt_std',\n",
    "        'platelet': 'platelet_std',\n",
    "        'potassium': 'potassium_std',\n",
    "        'chloride': 'chloride_std',\n",
    "        'bun': 'bun_std', \n",
    "        'alp': 'alp_std'})\n",
    ")\n",
    "\n",
    "lab_std_wide.columns.name = None"
   ]
  },
  {
   "cell_type": "code",
   "execution_count": 282,
   "metadata": {},
   "outputs": [
    {
     "data": {
      "text/plain": [
       "(9924, 9924)"
      ]
     },
     "execution_count": 282,
     "metadata": {},
     "output_type": "execute_result"
    }
   ],
   "source": [
    "row_ID(lab_std_wide)"
   ]
  },
  {
   "cell_type": "code",
   "execution_count": 283,
   "metadata": {},
   "outputs": [],
   "source": [
    "lab_summary_wide = pd.merge(lab_avg_wide, lab_max_wide, on = 'PatientID', how = 'outer')"
   ]
  },
  {
   "cell_type": "code",
   "execution_count": 284,
   "metadata": {},
   "outputs": [],
   "source": [
    "lab_summary_wide = pd.merge(lab_summary_wide, lab_min_wide, on = 'PatientID', how = 'outer')"
   ]
  },
  {
   "cell_type": "code",
   "execution_count": 285,
   "metadata": {},
   "outputs": [],
   "source": [
    "lab_summary_wide = pd.merge(lab_summary_wide, lab_std_wide, on = 'PatientID', how = 'outer')"
   ]
  },
  {
   "cell_type": "code",
   "execution_count": 286,
   "metadata": {},
   "outputs": [
    {
     "data": {
      "text/plain": [
       "(9924, 9924)"
      ]
     },
     "execution_count": 286,
     "metadata": {},
     "output_type": "execute_result"
    }
   ],
   "source": [
    "row_ID(lab_summary_wide)"
   ]
  },
  {
   "cell_type": "code",
   "execution_count": 287,
   "metadata": {},
   "outputs": [],
   "source": [
    "lab_summary_wide = (\n",
    "    lab_summary_wide\n",
    "    .append(\n",
    "        pd.Series(test_IDs)[~pd.Series(test_IDs).isin(lab_summary_wide['PatientID'])].to_frame(name = 'PatientID'),\n",
    "        sort = False)\n",
    ")"
   ]
  },
  {
   "cell_type": "code",
   "execution_count": 288,
   "metadata": {},
   "outputs": [
    {
     "data": {
      "text/plain": [
       "(13697, 13697)"
      ]
     },
     "execution_count": 288,
     "metadata": {},
     "output_type": "execute_result"
    }
   ],
   "source": [
    "row_ID(lab_summary_wide)"
   ]
  },
  {
   "cell_type": "code",
   "execution_count": 289,
   "metadata": {},
   "outputs": [
    {
     "data": {
      "text/plain": [
       "['PatientID',\n",
       " 'albumin_avg',\n",
       " 'alp_avg',\n",
       " 'alt_avg',\n",
       " 'ast_avg',\n",
       " 'bicarb_avg',\n",
       " 'bun_avg',\n",
       " 'calcium_avg',\n",
       " 'chloride_avg',\n",
       " 'creatinine_avg',\n",
       " 'hemoglobin_avg',\n",
       " 'neutrophil_count_avg',\n",
       " 'platelet_avg',\n",
       " 'potassium_avg',\n",
       " 'sodium_avg',\n",
       " 'total_bilirubin_avg',\n",
       " 'wbc_avg',\n",
       " 'albumin_max',\n",
       " 'alp_max',\n",
       " 'alt_max',\n",
       " 'ast_max',\n",
       " 'bicarb_max',\n",
       " 'bun_max',\n",
       " 'calcium_max',\n",
       " 'chloride_max',\n",
       " 'creatinine_max',\n",
       " 'hemoglobin_max',\n",
       " 'neutrophil_count_max',\n",
       " 'platelet_max',\n",
       " 'potassium_max',\n",
       " 'sodium_max',\n",
       " 'total_bilirubin_max',\n",
       " 'wbc_max',\n",
       " 'albumin_min',\n",
       " 'alp_min',\n",
       " 'alt_min',\n",
       " 'ast_min',\n",
       " 'bicarb_min',\n",
       " 'bun_min',\n",
       " 'calcium_min',\n",
       " 'chloride_min',\n",
       " 'creatinine_min',\n",
       " 'hemoglobin_min',\n",
       " 'neutrophil_count_min',\n",
       " 'platelet_min',\n",
       " 'potassium_min',\n",
       " 'sodium_min',\n",
       " 'total_bilirubin_min',\n",
       " 'wbc_min',\n",
       " 'albumin_std',\n",
       " 'alp_std',\n",
       " 'alt_std',\n",
       " 'ast_std',\n",
       " 'bicarb_std',\n",
       " 'bun_std',\n",
       " 'calcium_std',\n",
       " 'chloride_std',\n",
       " 'creatinine_std',\n",
       " 'hemoglobin_std',\n",
       " 'neutrophil_count_std',\n",
       " 'platelet_std',\n",
       " 'potassium_std',\n",
       " 'sodium_std',\n",
       " 'total_bilirubin_std',\n",
       " 'wbc_std']"
      ]
     },
     "execution_count": 289,
     "metadata": {},
     "output_type": "execute_result"
    }
   ],
   "source": [
    "list(lab_summary_wide.columns)"
   ]
  },
  {
   "cell_type": "markdown",
   "metadata": {},
   "source": [
    "#### Slope"
   ]
  },
  {
   "cell_type": "code",
   "execution_count": 290,
   "metadata": {},
   "outputs": [],
   "source": [
    "lab_core_win_summ.loc[:, 'result_date_ordinal'] = lab_core_win_summ['ResultDate'].map(dt.datetime.toordinal)"
   ]
  },
  {
   "cell_type": "code",
   "execution_count": 291,
   "metadata": {},
   "outputs": [
    {
     "name": "stderr",
     "output_type": "stream",
     "text": [
      "/Users/xavierorcutt/Dropbox/ist_project/myenv/lib/python3.7/site-packages/scipy/stats/_stats_mstats_common.py:170: RuntimeWarning: invalid value encountered in double_scalars\n",
      "  slope = ssxym / ssxm\n",
      "/Users/xavierorcutt/Dropbox/ist_project/myenv/lib/python3.7/site-packages/scipy/stats/_stats_mstats_common.py:184: RuntimeWarning: invalid value encountered in sqrt\n",
      "  t = r * np.sqrt(df / ((1.0 - r + TINY)*(1.0 + r + TINY)))\n",
      "/Users/xavierorcutt/Dropbox/ist_project/myenv/lib/python3.7/site-packages/scipy/stats/_stats_mstats_common.py:187: RuntimeWarning: invalid value encountered in double_scalars\n",
      "  slope_stderr = np.sqrt((1 - r**2) * ssym / ssxm / df)\n",
      "/Users/xavierorcutt/Dropbox/ist_project/myenv/lib/python3.7/site-packages/scipy/stats/_stats_mstats_common.py:187: RuntimeWarning: divide by zero encountered in double_scalars\n",
      "  slope_stderr = np.sqrt((1 - r**2) * ssym / ssxm / df)\n"
     ]
    }
   ],
   "source": [
    "lab_slope_wide = (\n",
    "    lab_core_win_summ\n",
    "    .groupby(['PatientID', 'lab_name'])\n",
    "    .apply(lambda x: pd.Series(linregress(x['result_date_ordinal'], x['test_result_cleaned'])))\n",
    "    .rename(columns = {0: 'slope'})\n",
    "    .reset_index()\n",
    "    .filter(items = ['PatientID', 'lab_name', 'slope'])\n",
    "    .pivot(index = 'PatientID', columns = 'lab_name', values = 'slope')\n",
    "    .reset_index()\n",
    "    .rename(columns = {\n",
    "        'albumin': 'albumin_slope',\n",
    "        'creatinine': 'creatinine_slope',\n",
    "        'hemoglobin': 'hemoglobin_slope',\n",
    "        'neutrophil_count': 'neutrophil_count_slope',\n",
    "        'total_bilirubin': 'total_bilirubin_slope',\n",
    "        'wbc': 'wbc_slope',\n",
    "        'sodium': 'sodium_slope', \n",
    "        'bicarb': 'bicarb_slope',\n",
    "        'calcium': 'calcium_slope',\n",
    "        'ast': 'ast_slope', \n",
    "        'alt': 'alt_slope',\n",
    "        'platelet': 'platelet_slope',\n",
    "        'potassium': 'potassium_slope',\n",
    "        'chloride': 'chloride_slope',\n",
    "        'bun': 'bun_slope',\n",
    "        'alp': 'alp_slope'})\n",
    ")\n",
    "\n",
    "lab_slope_wide.columns.name = None"
   ]
  },
  {
   "cell_type": "code",
   "execution_count": 292,
   "metadata": {},
   "outputs": [
    {
     "data": {
      "text/plain": [
       "(9924, 9924)"
      ]
     },
     "execution_count": 292,
     "metadata": {},
     "output_type": "execute_result"
    }
   ],
   "source": [
    "row_ID(lab_slope_wide)"
   ]
  },
  {
   "cell_type": "code",
   "execution_count": 293,
   "metadata": {},
   "outputs": [],
   "source": [
    "lab_slope_wide = (\n",
    "    lab_slope_wide\n",
    "    .append(\n",
    "        pd.Series(test_IDs)[~pd.Series(test_IDs).isin(lab_slope_wide['PatientID'])].to_frame(name = 'PatientID'),\n",
    "        sort = False)\n",
    ")"
   ]
  },
  {
   "cell_type": "code",
   "execution_count": 294,
   "metadata": {},
   "outputs": [],
   "source": [
    "# Create missing variables for lab slope. \n",
    "for x in range (1, len(lab_slope_wide.columns)):\n",
    "    lab_slope_wide.loc[:, lab_slope_wide.columns[x]+'_na'] = np.where(lab_slope_wide[lab_slope_wide.columns[x]].isna(), 1, 0)"
   ]
  },
  {
   "cell_type": "code",
   "execution_count": 295,
   "metadata": {},
   "outputs": [
    {
     "data": {
      "text/plain": [
       "(13697, 13697)"
      ]
     },
     "execution_count": 295,
     "metadata": {},
     "output_type": "execute_result"
    }
   ],
   "source": [
    "row_ID(lab_slope_wide)"
   ]
  },
  {
   "cell_type": "markdown",
   "metadata": {},
   "source": [
    "#### Merge"
   ]
  },
  {
   "cell_type": "code",
   "execution_count": 296,
   "metadata": {},
   "outputs": [],
   "source": [
    "lab_wide = pd.merge(lab_diag_wide, lab_summary_wide, on = 'PatientID')"
   ]
  },
  {
   "cell_type": "code",
   "execution_count": 297,
   "metadata": {},
   "outputs": [],
   "source": [
    "lab_wide = pd.merge(lab_wide, lab_slope_wide, on = 'PatientID')"
   ]
  },
  {
   "cell_type": "code",
   "execution_count": 298,
   "metadata": {},
   "outputs": [
    {
     "data": {
      "text/plain": [
       "(13697, 13697)"
      ]
     },
     "execution_count": 298,
     "metadata": {},
     "output_type": "execute_result"
    }
   ],
   "source": [
    "row_ID(lab_wide)"
   ]
  },
  {
   "cell_type": "code",
   "execution_count": 299,
   "metadata": {},
   "outputs": [
    {
     "data": {
      "text/plain": [
       "['PatientID',\n",
       " 'albumin_diag',\n",
       " 'alp_diag',\n",
       " 'alt_diag',\n",
       " 'ast_diag',\n",
       " 'bicarb_diag',\n",
       " 'bun_diag',\n",
       " 'calcium_diag',\n",
       " 'chloride_diag',\n",
       " 'creatinine_diag',\n",
       " 'hemoglobin_diag',\n",
       " 'neutrophil_count_diag',\n",
       " 'platelet_diag',\n",
       " 'potassium_diag',\n",
       " 'sodium_diag',\n",
       " 'total_bilirubin_diag',\n",
       " 'wbc_diag',\n",
       " 'albumin_diag_na',\n",
       " 'alp_diag_na',\n",
       " 'alt_diag_na',\n",
       " 'ast_diag_na',\n",
       " 'bicarb_diag_na',\n",
       " 'bun_diag_na',\n",
       " 'calcium_diag_na',\n",
       " 'chloride_diag_na',\n",
       " 'creatinine_diag_na',\n",
       " 'hemoglobin_diag_na',\n",
       " 'neutrophil_count_diag_na',\n",
       " 'platelet_diag_na',\n",
       " 'potassium_diag_na',\n",
       " 'sodium_diag_na',\n",
       " 'total_bilirubin_diag_na',\n",
       " 'wbc_diag_na',\n",
       " 'albumin_avg',\n",
       " 'alp_avg',\n",
       " 'alt_avg',\n",
       " 'ast_avg',\n",
       " 'bicarb_avg',\n",
       " 'bun_avg',\n",
       " 'calcium_avg',\n",
       " 'chloride_avg',\n",
       " 'creatinine_avg',\n",
       " 'hemoglobin_avg',\n",
       " 'neutrophil_count_avg',\n",
       " 'platelet_avg',\n",
       " 'potassium_avg',\n",
       " 'sodium_avg',\n",
       " 'total_bilirubin_avg',\n",
       " 'wbc_avg',\n",
       " 'albumin_max',\n",
       " 'alp_max',\n",
       " 'alt_max',\n",
       " 'ast_max',\n",
       " 'bicarb_max',\n",
       " 'bun_max',\n",
       " 'calcium_max',\n",
       " 'chloride_max',\n",
       " 'creatinine_max',\n",
       " 'hemoglobin_max',\n",
       " 'neutrophil_count_max',\n",
       " 'platelet_max',\n",
       " 'potassium_max',\n",
       " 'sodium_max',\n",
       " 'total_bilirubin_max',\n",
       " 'wbc_max',\n",
       " 'albumin_min',\n",
       " 'alp_min',\n",
       " 'alt_min',\n",
       " 'ast_min',\n",
       " 'bicarb_min',\n",
       " 'bun_min',\n",
       " 'calcium_min',\n",
       " 'chloride_min',\n",
       " 'creatinine_min',\n",
       " 'hemoglobin_min',\n",
       " 'neutrophil_count_min',\n",
       " 'platelet_min',\n",
       " 'potassium_min',\n",
       " 'sodium_min',\n",
       " 'total_bilirubin_min',\n",
       " 'wbc_min',\n",
       " 'albumin_std',\n",
       " 'alp_std',\n",
       " 'alt_std',\n",
       " 'ast_std',\n",
       " 'bicarb_std',\n",
       " 'bun_std',\n",
       " 'calcium_std',\n",
       " 'chloride_std',\n",
       " 'creatinine_std',\n",
       " 'hemoglobin_std',\n",
       " 'neutrophil_count_std',\n",
       " 'platelet_std',\n",
       " 'potassium_std',\n",
       " 'sodium_std',\n",
       " 'total_bilirubin_std',\n",
       " 'wbc_std',\n",
       " 'albumin_slope',\n",
       " 'alp_slope',\n",
       " 'alt_slope',\n",
       " 'ast_slope',\n",
       " 'bicarb_slope',\n",
       " 'bun_slope',\n",
       " 'calcium_slope',\n",
       " 'chloride_slope',\n",
       " 'creatinine_slope',\n",
       " 'hemoglobin_slope',\n",
       " 'neutrophil_count_slope',\n",
       " 'platelet_slope',\n",
       " 'potassium_slope',\n",
       " 'sodium_slope',\n",
       " 'total_bilirubin_slope',\n",
       " 'wbc_slope',\n",
       " 'albumin_slope_na',\n",
       " 'alp_slope_na',\n",
       " 'alt_slope_na',\n",
       " 'ast_slope_na',\n",
       " 'bicarb_slope_na',\n",
       " 'bun_slope_na',\n",
       " 'calcium_slope_na',\n",
       " 'chloride_slope_na',\n",
       " 'creatinine_slope_na',\n",
       " 'hemoglobin_slope_na',\n",
       " 'neutrophil_count_slope_na',\n",
       " 'platelet_slope_na',\n",
       " 'potassium_slope_na',\n",
       " 'sodium_slope_na',\n",
       " 'total_bilirubin_slope_na',\n",
       " 'wbc_slope_na']"
      ]
     },
     "execution_count": 299,
     "metadata": {},
     "output_type": "execute_result"
    }
   ],
   "source": [
    "list(lab_wide.columns)"
   ]
  },
  {
   "cell_type": "code",
   "execution_count": 300,
   "metadata": {},
   "outputs": [
    {
     "name": "stdout",
     "output_type": "stream",
     "text": [
      "Variable              Type         Data/Info\n",
      "--------------------------------------------\n",
      "biomarker_wide        DataFrame               PatientID     <...>n[13697 rows x 8 columns]\n",
      "demographics          DataFrame               PatientID Prac<...>n[13697 rows x 7 columns]\n",
      "ecog_diagnosis_wide   DataFrame                PatientID eco<...>n[13697 rows x 2 columns]\n",
      "enhanced_adv          DataFrame               PatientID diag<...>n[13697 rows x 9 columns]\n",
      "insurance_wide        DataFrame               PatientID  com<...>n[13697 rows x 5 columns]\n",
      "lab                   DataFrame                 PatientID   <...>863557 rows x 17 columns]\n",
      "lab_avg_wide          DataFrame              PatientID  albu<...>n[9924 rows x 17 columns]\n",
      "lab_core              DataFrame                 PatientID Re<...>637247 rows x 11 columns]\n",
      "lab_core_win          DataFrame                 PatientID Re<...>[321969 rows x 7 columns]\n",
      "lab_core_win_summ     DataFrame                 PatientID Re<...>[808646 rows x 8 columns]\n",
      "lab_diag_wide         DataFrame               PatientID  alb<...>[13697 rows x 33 columns]\n",
      "lab_max_wide          DataFrame              PatientID  albu<...>n[9924 rows x 17 columns]\n",
      "lab_min_wide          DataFrame              PatientID  albu<...>n[9924 rows x 17 columns]\n",
      "lab_slope_wide        DataFrame               PatientID  alb<...>[13697 rows x 33 columns]\n",
      "lab_std_wide          DataFrame              PatientID  albu<...>n[9924 rows x 17 columns]\n",
      "lab_summary_wide      DataFrame               PatientID  alb<...>[13697 rows x 65 columns]\n",
      "lab_wide              DataFrame               PatientID  alb<...>13697 rows x 129 columns]\n",
      "med_admin_wide        DataFrame               PatientID  ste<...>[13697 rows x 14 columns]\n",
      "mortality             DataFrame               PatientID  dea<...>n[13697 rows x 3 columns]\n",
      "weight_wide           DataFrame               PatientID  wei<...>n[13697 rows x 7 columns]\n"
     ]
    }
   ],
   "source": [
    "%whos DataFrame"
   ]
  },
  {
   "cell_type": "code",
   "execution_count": 301,
   "metadata": {},
   "outputs": [],
   "source": [
    "# Keep biomarker_wide, demographics, ecog_diagnosis_wide, enhanced_adv, insurance_wide, lab_wide, med_admin_wide, \n",
    "# mortality, and weight_wide\n",
    "del lab\n",
    "del lab_avg_wide\n",
    "del lab_core\n",
    "del lab_core_win\n",
    "del lab_core_win_summ\n",
    "del lab_diag_wide\n",
    "del lab_max_wide\n",
    "del lab_min_wide\n",
    "del lab_slope_wide\n",
    "del lab_std_wide\n",
    "del lab_summary_wide"
   ]
  },
  {
   "cell_type": "markdown",
   "metadata": {},
   "source": [
    "### 10. Diagnosis "
   ]
  },
  {
   "cell_type": "code",
   "execution_count": 302,
   "metadata": {},
   "outputs": [],
   "source": [
    "diagnosis = pd.read_csv('Diagnosis.csv')"
   ]
  },
  {
   "cell_type": "code",
   "execution_count": 303,
   "metadata": {},
   "outputs": [
    {
     "data": {
      "text/plain": [
       "(1499292, 68483)"
      ]
     },
     "execution_count": 303,
     "metadata": {},
     "output_type": "execute_result"
    }
   ],
   "source": [
    "row_ID(diagnosis)"
   ]
  },
  {
   "cell_type": "code",
   "execution_count": 304,
   "metadata": {},
   "outputs": [],
   "source": [
    "diagnosis = diagnosis[diagnosis['PatientID'].isin(test_IDs)]"
   ]
  },
  {
   "cell_type": "code",
   "execution_count": 305,
   "metadata": {},
   "outputs": [
    {
     "data": {
      "text/plain": [
       "(290161, 13697)"
      ]
     },
     "execution_count": 305,
     "metadata": {},
     "output_type": "execute_result"
    }
   ],
   "source": [
    "row_ID(diagnosis)"
   ]
  },
  {
   "cell_type": "markdown",
   "metadata": {},
   "source": [
    "**The Diagnosis table is in long format. ICD codes before advanced diagnosis and up to 30 days past diagnosis will be mapped to the Elixhauser comorbidity index. (\"Coding Algorithms for Defining Comorbidities in ICD-9-CM and ICD-10 Administrative Data\"  by Quan et al is used as a guide for linking ICD codes to Elixhauser comorbidities.) Presence of concurrent or prior cancer diagnosis that is not lung cancer or metastasis and sites of metastases at time of diagnosis will also be created.** "
   ]
  },
  {
   "cell_type": "markdown",
   "metadata": {},
   "source": [
    "#### 10.1 Elixhauser"
   ]
  },
  {
   "cell_type": "code",
   "execution_count": 306,
   "metadata": {},
   "outputs": [],
   "source": [
    "diagnosis = pd.merge(diagnosis, enhanced_adv[['PatientID', 'adv_date']], on = 'PatientID', how = 'left')"
   ]
  },
  {
   "cell_type": "code",
   "execution_count": 307,
   "metadata": {},
   "outputs": [],
   "source": [
    "diagnosis.loc[:, 'DiagnosisDate'] = pd.to_datetime(diagnosis['DiagnosisDate'])"
   ]
  },
  {
   "cell_type": "code",
   "execution_count": 308,
   "metadata": {},
   "outputs": [],
   "source": [
    "diagnosis.loc[:, 'diagnosis_date_diff'] = (diagnosis['DiagnosisDate'] - diagnosis['adv_date']).dt.days"
   ]
  },
  {
   "cell_type": "code",
   "execution_count": 309,
   "metadata": {},
   "outputs": [],
   "source": [
    "# Remove decimal to make mapping to Elixhauser easier. \n",
    "diagnosis.loc[:, 'diagnosis_code'] = diagnosis['DiagnosisCode'].replace('\\.', '', regex = True)"
   ]
  },
  {
   "cell_type": "markdown",
   "metadata": {},
   "source": [
    "##### 10.1a Elixhauser for ICD-9"
   ]
  },
  {
   "cell_type": "code",
   "execution_count": 310,
   "metadata": {},
   "outputs": [],
   "source": [
    "# ICD-9 dataframe with unique codes for each patient. \n",
    "diagnosis_elix_9 = (\n",
    "    diagnosis\n",
    "    .query('diagnosis_date_diff <= 30')\n",
    "    .query('DiagnosisCodeSystem == \"ICD-9-CM\"')\n",
    "    .drop_duplicates(subset = (['PatientID', 'DiagnosisCode']), keep = 'first')\n",
    "    .filter(items = ['PatientID', 'DiagnosisCode', 'diagnosis_code'])\n",
    ")"
   ]
  },
  {
   "cell_type": "code",
   "execution_count": 311,
   "metadata": {},
   "outputs": [
    {
     "data": {
      "text/plain": [
       "(28278, 6457)"
      ]
     },
     "execution_count": 311,
     "metadata": {},
     "output_type": "execute_result"
    }
   ],
   "source": [
    "row_ID(diagnosis_elix_9)"
   ]
  },
  {
   "cell_type": "code",
   "execution_count": 312,
   "metadata": {},
   "outputs": [],
   "source": [
    "diagnosis_elix_9.loc[:, 'chf'] = (\n",
    "    np.where(diagnosis_elix_9['diagnosis_code'].str.match('39891|'\n",
    "                                                          '402(01|11|91)|'\n",
    "                                                          '404(01|03|[19][13])|'\n",
    "                                                          '42(5[456789]|8)'), 1, 0)\n",
    ")"
   ]
  },
  {
   "cell_type": "code",
   "execution_count": 313,
   "metadata": {},
   "outputs": [],
   "source": [
    "diagnosis_elix_9.loc[:, 'cardiac_arrhythmias'] = (\n",
    "    np.where(diagnosis_elix_9['diagnosis_code'].str.match('426([079]|1[023])|'\n",
    "                                                          '427[012346789]|'\n",
    "                                                          '7850|'\n",
    "                                                          '996(01|04)|'\n",
    "                                                          'V450|'\n",
    "                                                          'V533'), 1, 0)\n",
    ")"
   ]
  },
  {
   "cell_type": "code",
   "execution_count": 314,
   "metadata": {},
   "outputs": [],
   "source": [
    "diagnosis_elix_9.loc[:, 'valvular_disease'] = (\n",
    "    np.where(diagnosis_elix_9['diagnosis_code'].str.match('0932|'\n",
    "                                                          '39[4567]|'\n",
    "                                                          '424|'\n",
    "                                                          '746[3456]|'\n",
    "                                                          'V422|'\n",
    "                                                          'V433'), 1, 0)\n",
    ")"
   ]
  },
  {
   "cell_type": "code",
   "execution_count": 315,
   "metadata": {},
   "outputs": [],
   "source": [
    "diagnosis_elix_9.loc[:, 'pulmonary_circulation'] = (\n",
    "    np.where(diagnosis_elix_9['diagnosis_code'].str.match('41(5[01]|6|7[089])'), 1, 0)\n",
    ")"
   ]
  },
  {
   "cell_type": "code",
   "execution_count": 316,
   "metadata": {},
   "outputs": [],
   "source": [
    "diagnosis_elix_9.loc[:, 'peripheral_vascular'] = (\n",
    "    np.where(diagnosis_elix_9['diagnosis_code'].str.match('0930|'\n",
    "                                                          '4373|'\n",
    "                                                          '44([01]|3[123456789]|71)|'\n",
    "                                                          '557[19]|'\n",
    "                                                          'V434'), 1, 0)\n",
    ")"
   ]
  },
  {
   "cell_type": "code",
   "execution_count": 317,
   "metadata": {},
   "outputs": [],
   "source": [
    "diagnosis_elix_9.loc[:, 'htn_uncomplicated'] = (\n",
    "    np.where(diagnosis_elix_9['diagnosis_code'].str.match('401'), 1, 0)\n",
    ")"
   ]
  },
  {
   "cell_type": "code",
   "execution_count": 318,
   "metadata": {},
   "outputs": [],
   "source": [
    "diagnosis_elix_9.loc[:, 'htn_complicated'] = (\n",
    "    np.where(diagnosis_elix_9['diagnosis_code'].str.match('40[2345]'), 1, 0)\n",
    ")"
   ]
  },
  {
   "cell_type": "code",
   "execution_count": 319,
   "metadata": {},
   "outputs": [],
   "source": [
    "diagnosis_elix_9.loc[:, 'paralysis'] = (\n",
    "    np.where(diagnosis_elix_9['diagnosis_code'].str.match('3341|'\n",
    "                                                          '34([23]|4[01234569])'), 1, 0)\n",
    ")"
   ]
  },
  {
   "cell_type": "code",
   "execution_count": 320,
   "metadata": {},
   "outputs": [],
   "source": [
    "diagnosis_elix_9.loc[:, 'other_neuro_disorders'] = (\n",
    "    np.where(diagnosis_elix_9['diagnosis_code'].str.match('33(19|2[01]|3([45]|92)|[45]|62)|'\n",
    "                                                          '34([015]|8[13])|'\n",
    "                                                          '78[04]3'), 1, 0)\n",
    ")"
   ]
  },
  {
   "cell_type": "code",
   "execution_count": 321,
   "metadata": {},
   "outputs": [],
   "source": [
    "diagnosis_elix_9.loc[:, 'chronic_pulmonary'] = (\n",
    "    np.where(diagnosis_elix_9['diagnosis_code'].str.match('416[89]|'\n",
    "                                                          '49|'\n",
    "                                                          '50([012345]|64|8[18])'), 1, 0)\n",
    ")"
   ]
  },
  {
   "cell_type": "code",
   "execution_count": 322,
   "metadata": {},
   "outputs": [],
   "source": [
    "diagnosis_elix_9.loc[:, 'diabetes_uncomplicated'] = (\n",
    "    np.where(diagnosis_elix_9['diagnosis_code'].str.match('250[0123]'), 1, 0)\n",
    ")"
   ]
  },
  {
   "cell_type": "code",
   "execution_count": 323,
   "metadata": {},
   "outputs": [],
   "source": [
    "diagnosis_elix_9.loc[:, 'diabetes_complicated'] = (\n",
    "    np.where(diagnosis_elix_9['diagnosis_code'].str.match('250[456789]'), 1, 0)\n",
    ")"
   ]
  },
  {
   "cell_type": "code",
   "execution_count": 324,
   "metadata": {},
   "outputs": [],
   "source": [
    "diagnosis_elix_9.loc[:, 'hypothyroidism'] = (\n",
    "    np.where(diagnosis_elix_9['diagnosis_code'].str.match('2409|'\n",
    "                                                          '24([34]|6[18])'), 1, 0)\n",
    ")"
   ]
  },
  {
   "cell_type": "code",
   "execution_count": 325,
   "metadata": {},
   "outputs": [],
   "source": [
    "diagnosis_elix_9.loc[:, 'renal_failure'] = (\n",
    "    np.where(diagnosis_elix_9['diagnosis_code'].str.match('403[019]1|'\n",
    "                                                          '404[019][23]|'\n",
    "                                                          '58([56]|80)|'\n",
    "                                                          'V4(20|51)|'\n",
    "                                                          'V56'), 1, 0)\n",
    ")"
   ]
  },
  {
   "cell_type": "code",
   "execution_count": 326,
   "metadata": {},
   "outputs": [],
   "source": [
    "diagnosis_elix_9.loc[:, 'liver_disease'] = (\n",
    "    np.where(diagnosis_elix_9['diagnosis_code'].str.match('070(2[23]]|3[23]|44|54|6|9)|'\n",
    "                                                          '456[012]|'\n",
    "                                                          '57([01]|2[2345678]|3[3489])|'\n",
    "                                                          'V427'), 1, 0)\n",
    ")"
   ]
  },
  {
   "cell_type": "code",
   "execution_count": 327,
   "metadata": {},
   "outputs": [],
   "source": [
    "diagnosis_elix_9.loc[:, 'peptic_ulcer_disease'] = (\n",
    "    np.where(diagnosis_elix_9['diagnosis_code'].str.match('53[1234][79]'), 1, 0)\n",
    ")"
   ]
  },
  {
   "cell_type": "code",
   "execution_count": 328,
   "metadata": {},
   "outputs": [],
   "source": [
    "diagnosis_elix_9.loc[:, 'aids_hiv'] = (\n",
    "    np.where(diagnosis_elix_9['diagnosis_code'].str.match('04[234]'), 1, 0)\n",
    ")"
   ]
  },
  {
   "cell_type": "code",
   "execution_count": 329,
   "metadata": {},
   "outputs": [],
   "source": [
    "diagnosis_elix_9.loc[:, 'lymphoma'] = (\n",
    "    np.where(diagnosis_elix_9['diagnosis_code'].str.match('20([012]|30)|'\n",
    "                                                          '2386'), 1, 0)\n",
    ")"
   ]
  },
  {
   "cell_type": "code",
   "execution_count": 330,
   "metadata": {},
   "outputs": [],
   "source": [
    "diagnosis_elix_9.loc[:, 'metastatic_cancer'] = (\n",
    "    np.where(diagnosis_elix_9['diagnosis_code'].str.match('19[6789]'), 1, 0)\n",
    ")"
   ]
  },
  {
   "cell_type": "code",
   "execution_count": 331,
   "metadata": {},
   "outputs": [],
   "source": [
    "diagnosis_elix_9.loc[:, 'solid_tumor_wout_mets'] = (\n",
    "    np.where(diagnosis_elix_9['diagnosis_code'].str.match('1[456]|'\n",
    "                                                          '17[012456789]|'\n",
    "                                                          '18|'\n",
    "                                                          '19([012345])'), 1, 0)\n",
    ")"
   ]
  },
  {
   "cell_type": "code",
   "execution_count": 332,
   "metadata": {},
   "outputs": [],
   "source": [
    "diagnosis_elix_9.loc[:, 'rheumatoid_arthritis'] = (\n",
    "    np.where(diagnosis_elix_9['diagnosis_code'].str.match('446|'\n",
    "                                                          '7010|'\n",
    "                                                          '71(0[0123489]|12|4|93)|'\n",
    "                                                          '72([05]|85|889|930)'), 1, 0)\n",
    ")"
   ]
  },
  {
   "cell_type": "code",
   "execution_count": 333,
   "metadata": {},
   "outputs": [],
   "source": [
    "diagnosis_elix_9.loc[:, 'coagulopathy'] = (\n",
    "    np.where(diagnosis_elix_9['diagnosis_code'].str.match('28(6|7[1345])'), 1, 0)\n",
    ")"
   ]
  },
  {
   "cell_type": "code",
   "execution_count": 334,
   "metadata": {},
   "outputs": [],
   "source": [
    "diagnosis_elix_9.loc[:, 'obesity'] = (\n",
    "    np.where(diagnosis_elix_9['diagnosis_code'].str.match('2780'), 1, 0)\n",
    ")"
   ]
  },
  {
   "cell_type": "code",
   "execution_count": 335,
   "metadata": {},
   "outputs": [],
   "source": [
    "diagnosis_elix_9.loc[:, 'weight_loss'] = (\n",
    "    np.where(diagnosis_elix_9['diagnosis_code'].str.match('26[0123]|'\n",
    "                                                          '7832|'\n",
    "                                                          '7994'), 1, 0)\n",
    ")"
   ]
  },
  {
   "cell_type": "code",
   "execution_count": 336,
   "metadata": {},
   "outputs": [],
   "source": [
    "diagnosis_elix_9.loc[:, 'fluid_electrolyte'] = (\n",
    "    np.where(diagnosis_elix_9['diagnosis_code'].str.match('2(536|76)'), 1, 0)\n",
    ")"
   ]
  },
  {
   "cell_type": "code",
   "execution_count": 337,
   "metadata": {},
   "outputs": [],
   "source": [
    "diagnosis_elix_9.loc[:, 'blood_loss_anemia'] = (\n",
    "    np.where(diagnosis_elix_9['diagnosis_code'].str.match('2800'), 1, 0)\n",
    ")"
   ]
  },
  {
   "cell_type": "code",
   "execution_count": 338,
   "metadata": {},
   "outputs": [],
   "source": [
    "diagnosis_elix_9.loc[:, 'deficiency_anemia'] = (\n",
    "    np.where(diagnosis_elix_9['diagnosis_code'].str.match('28(0[123456789]|1)'), 1, 0)\n",
    ")"
   ]
  },
  {
   "cell_type": "code",
   "execution_count": 339,
   "metadata": {},
   "outputs": [],
   "source": [
    "diagnosis_elix_9.loc[:, 'alcohol_abuse'] = (\n",
    "    np.where(diagnosis_elix_9['diagnosis_code'].str.match('2652|'\n",
    "                                                          '291[12356789]|'\n",
    "                                                          '30(3[09]|50)|'\n",
    "                                                          '3575|'\n",
    "                                                          '4255|'\n",
    "                                                          '5353|'\n",
    "                                                          '571[0123]|'\n",
    "                                                          '980|'\n",
    "                                                          'V113'), 1, 0)\n",
    ")"
   ]
  },
  {
   "cell_type": "code",
   "execution_count": 340,
   "metadata": {},
   "outputs": [],
   "source": [
    "diagnosis_elix_9.loc[:, 'drug_abuse'] = (\n",
    "    np.where(diagnosis_elix_9['diagnosis_code'].str.match('292|'\n",
    "                                                          '30(4|5[23456789])|'\n",
    "                                                          'V6542'), 1, 0)\n",
    ")"
   ]
  },
  {
   "cell_type": "code",
   "execution_count": 341,
   "metadata": {},
   "outputs": [],
   "source": [
    "diagnosis_elix_9.loc[:, 'psychoses'] = (\n",
    "    np.where(diagnosis_elix_9['diagnosis_code'].str.match('2938|'\n",
    "                                                          '296[0145]4|'\n",
    "                                                          '29[578]'), 1, 0)\n",
    ")"
   ]
  },
  {
   "cell_type": "code",
   "execution_count": 342,
   "metadata": {},
   "outputs": [],
   "source": [
    "diagnosis_elix_9.loc[:, 'depression'] = (\n",
    "    np.where(diagnosis_elix_9['diagnosis_code'].str.match('296[235]|'\n",
    "                                                          '3(004|09|11)'), 1, 0)\n",
    ")"
   ]
  },
  {
   "cell_type": "code",
   "execution_count": 343,
   "metadata": {},
   "outputs": [],
   "source": [
    "# Create variable that captures ICD-9 codes not included in Elixhauser. \n",
    "diagnosis_elix_9.loc[:, 'elixhauser_other'] = (\n",
    "    np.where(diagnosis_elix_9.iloc[:, 3:].eq(0).all(1), 1, 0)\n",
    ")"
   ]
  },
  {
   "cell_type": "code",
   "execution_count": 344,
   "metadata": {},
   "outputs": [],
   "source": [
    "# Single-row-per-patient dataframe with columns as Elixhauser comorbidities. \n",
    "diagnosis_elix_9_wide = (\n",
    "    diagnosis_elix_9\n",
    "    .drop(columns = ['DiagnosisCode', 'diagnosis_code'])\n",
    "    .groupby('PatientID').sum()\n",
    "    .reset_index()\n",
    ")"
   ]
  },
  {
   "cell_type": "code",
   "execution_count": 345,
   "metadata": {},
   "outputs": [
    {
     "data": {
      "text/plain": [
       "(6457, 6457)"
      ]
     },
     "execution_count": 345,
     "metadata": {},
     "output_type": "execute_result"
    }
   ],
   "source": [
    "row_ID(diagnosis_elix_9_wide)"
   ]
  },
  {
   "cell_type": "markdown",
   "metadata": {},
   "source": [
    "##### 10.1b Elixhauser for ICD-10"
   ]
  },
  {
   "cell_type": "code",
   "execution_count": 346,
   "metadata": {},
   "outputs": [],
   "source": [
    "# ICD-10 dataframe with unique codes for each patient.  \n",
    "diagnosis_elix_10 = (\n",
    "    diagnosis\n",
    "    .query('diagnosis_date_diff <= 30')\n",
    "    .query('DiagnosisCodeSystem == \"ICD-10-CM\"')\n",
    "    .drop_duplicates(subset = (['PatientID', 'DiagnosisCode']), keep = 'first')\n",
    "    .filter(items = ['PatientID', 'DiagnosisCode', 'diagnosis_code'])\n",
    ")"
   ]
  },
  {
   "cell_type": "code",
   "execution_count": 347,
   "metadata": {},
   "outputs": [
    {
     "data": {
      "text/plain": [
       "(55385, 7614)"
      ]
     },
     "execution_count": 347,
     "metadata": {},
     "output_type": "execute_result"
    }
   ],
   "source": [
    "row_ID(diagnosis_elix_10)"
   ]
  },
  {
   "cell_type": "code",
   "execution_count": 348,
   "metadata": {},
   "outputs": [],
   "source": [
    "diagnosis_elix_10.loc[:, 'chf'] = (\n",
    "    np.where(diagnosis_elix_10['diagnosis_code'].str.match('I099|'\n",
    "                                                           'I1(10|3[02])|'\n",
    "                                                           'I255|'\n",
    "                                                           'I4(2[056789]|3)|'\n",
    "                                                           'I50|'\n",
    "                                                           'P290'), 1, 0)\n",
    ")"
   ]
  },
  {
   "cell_type": "code",
   "execution_count": 349,
   "metadata": {},
   "outputs": [],
   "source": [
    "diagnosis_elix_10.loc[:, 'cardiac_arrhythmias'] = (\n",
    "    np.where(diagnosis_elix_10['diagnosis_code'].str.match('I4(4[123]|5[69]|[789])|'\n",
    "                                                           'R00[018]|'\n",
    "                                                           'T821|'\n",
    "                                                           'Z[49]50'), 1, 0)\n",
    ")"
   ]
  },
  {
   "cell_type": "code",
   "execution_count": 350,
   "metadata": {},
   "outputs": [],
   "source": [
    "diagnosis_elix_10.loc[:, 'valvular_disease'] = (\n",
    "    np.where(diagnosis_elix_10['diagnosis_code'].str.match('A520|'\n",
    "                                                           'I0([5678]|9[18])|'\n",
    "                                                           'I3[456789]|'\n",
    "                                                           'Q23[0123]|'\n",
    "                                                           'Z95[234]'), 1, 0)\n",
    ")"
   ]
  },
  {
   "cell_type": "code",
   "execution_count": 351,
   "metadata": {},
   "outputs": [],
   "source": [
    "diagnosis_elix_10.loc[:, 'pulmonary_circulation'] = (\n",
    "    np.where(diagnosis_elix_10['diagnosis_code'].str.match('I2([67]|8[089])'), 1, 0)\n",
    ")"
   ]
  },
  {
   "cell_type": "code",
   "execution_count": 352,
   "metadata": {},
   "outputs": [],
   "source": [
    "diagnosis_elix_10.loc[:, 'peripheral_vascular'] = (\n",
    "    np.where(diagnosis_elix_10['diagnosis_code'].str.match('I7([01]|3[189]|71|9[02])|'\n",
    "                                                           'K55[189]|'\n",
    "                                                           'Z95[89]'), 1, 0)\n",
    ")"
   ]
  },
  {
   "cell_type": "code",
   "execution_count": 353,
   "metadata": {},
   "outputs": [],
   "source": [
    "diagnosis_elix_10.loc[:, 'htn_uncomplicated'] = (\n",
    "    np.where(diagnosis_elix_10['diagnosis_code'].str.match('I10'), 1, 0)\n",
    ")"
   ]
  },
  {
   "cell_type": "code",
   "execution_count": 354,
   "metadata": {},
   "outputs": [],
   "source": [
    "diagnosis_elix_10.loc[:, 'htn_complicated'] = (\n",
    "    np.where(diagnosis_elix_10['diagnosis_code'].str.match('I1[1235]'), 1, 0)\n",
    ")"
   ]
  },
  {
   "cell_type": "code",
   "execution_count": 355,
   "metadata": {},
   "outputs": [],
   "source": [
    "diagnosis_elix_10.loc[:, 'paralysis'] = (\n",
    "    np.where(diagnosis_elix_10['diagnosis_code'].str.match('G041|'\n",
    "                                                           'G114|'\n",
    "                                                           'G8(0[12]|[12]|3[012349])'), 1, 0)\n",
    ")"
   ]
  },
  {
   "cell_type": "code",
   "execution_count": 356,
   "metadata": {},
   "outputs": [],
   "source": [
    "diagnosis_elix_10.loc[:, 'other_neuro_disorders'] = (\n",
    "    np.where(diagnosis_elix_10['diagnosis_code'].str.match('G1[0123]|'\n",
    "                                                           'G2([012]|5[45])|'\n",
    "                                                           'G3(1[289]|[2567])|'\n",
    "                                                           'G4[01]|'\n",
    "                                                           'G93[14]|'\n",
    "                                                           'R470|'\n",
    "                                                           'R56'), 1, 0)\n",
    ")"
   ]
  },
  {
   "cell_type": "code",
   "execution_count": 357,
   "metadata": {},
   "outputs": [],
   "source": [
    "diagnosis_elix_10.loc[:, 'chronic_pulmonary'] = (\n",
    "    np.where(diagnosis_elix_10['diagnosis_code'].str.match('I27[89]|'\n",
    "                                                           'J4[01234567]|'\n",
    "                                                           'J6([01234567]|84)|'\n",
    "                                                           'J70[13]'), 1, 0)\n",
    ")"
   ]
  },
  {
   "cell_type": "code",
   "execution_count": 358,
   "metadata": {},
   "outputs": [],
   "source": [
    "diagnosis_elix_10.loc[:, 'diabetes_uncomplicated'] = (\n",
    "    np.where(diagnosis_elix_10['diagnosis_code'].str.match('E1[01234][019]'), 1, 0)\n",
    ")"
   ]
  },
  {
   "cell_type": "code",
   "execution_count": 359,
   "metadata": {},
   "outputs": [],
   "source": [
    "diagnosis_elix_10.loc[:, 'diabetes_complicated'] = (\n",
    "    np.where(diagnosis_elix_10['diagnosis_code'].str.match('E1[01234][2345678]'), 1, 0)\n",
    ")"
   ]
  },
  {
   "cell_type": "code",
   "execution_count": 360,
   "metadata": {},
   "outputs": [],
   "source": [
    "diagnosis_elix_10.loc[:, 'hypothyroidism'] = (\n",
    "    np.where(diagnosis_elix_10['diagnosis_code'].str.match('E0[0123]|'\n",
    "                                                           'E890'), 1, 0)\n",
    ")"
   ]
  },
  {
   "cell_type": "code",
   "execution_count": 361,
   "metadata": {},
   "outputs": [],
   "source": [
    "diagnosis_elix_10.loc[:, 'renal_failure'] = (\n",
    "    np.where(diagnosis_elix_10['diagnosis_code'].str.match('I1(20|31)|'\n",
    "                                                           'N1[89]|'\n",
    "                                                           'N250|'\n",
    "                                                           'Z49[012]|'\n",
    "                                                           'Z9(40|92)'), 1, 0)\n",
    ")"
   ]
  },
  {
   "cell_type": "code",
   "execution_count": 362,
   "metadata": {},
   "outputs": [],
   "source": [
    "diagnosis_elix_10.loc[:, 'liver_disease'] = (\n",
    "    np.where(diagnosis_elix_10['diagnosis_code'].str.match('B18|'\n",
    "                                                           'I8(5|64)|'\n",
    "                                                           'I982|'\n",
    "                                                           'K7(0|1[13457]|[234]|6[023456789])|'\n",
    "                                                           'Z944'), 1, 0)\n",
    ")"
   ]
  },
  {
   "cell_type": "code",
   "execution_count": 363,
   "metadata": {},
   "outputs": [],
   "source": [
    "diagnosis_elix_10.loc[:, 'peptic_ulcer_disease'] = (\n",
    "    np.where(diagnosis_elix_10['diagnosis_code'].str.match('K2[5678][79]'), 1, 0)\n",
    ")"
   ]
  },
  {
   "cell_type": "code",
   "execution_count": 364,
   "metadata": {},
   "outputs": [],
   "source": [
    "diagnosis_elix_10.loc[:, 'aids_hiv'] = (\n",
    "    np.where(diagnosis_elix_10['diagnosis_code'].str.match('B2[0124]'), 1, 0)\n",
    ")"
   ]
  },
  {
   "cell_type": "code",
   "execution_count": 365,
   "metadata": {},
   "outputs": [],
   "source": [
    "diagnosis_elix_10.loc[:, 'lymphoma'] = (\n",
    "    np.where(diagnosis_elix_10['diagnosis_code'].str.match('C8[123458]|'\n",
    "                                                           'C9(0[02]|6)'), 1, 0)\n",
    ")"
   ]
  },
  {
   "cell_type": "code",
   "execution_count": 366,
   "metadata": {},
   "outputs": [],
   "source": [
    "diagnosis_elix_10.loc[:, 'metastatic_cancer'] = (\n",
    "    np.where(diagnosis_elix_10['diagnosis_code'].str.match('C(7[789]|80)'), 1, 0)\n",
    ")"
   ]
  },
  {
   "cell_type": "code",
   "execution_count": 367,
   "metadata": {},
   "outputs": [],
   "source": [
    "diagnosis_elix_10.loc[:, 'solid_tumor_wout_mets'] = (\n",
    "    np.where(diagnosis_elix_10['diagnosis_code'].str.match('C[01]|'\n",
    "                                                           'C2[0123456]|'\n",
    "                                                           'C3[01234789]|'\n",
    "                                                           'C4[01356789]|'\n",
    "                                                           'C5[012345678]|'\n",
    "                                                           'C6|'\n",
    "                                                           'C7[0123456]|'\n",
    "                                                           'C97'), 1, 0)\n",
    ")"
   ]
  },
  {
   "cell_type": "code",
   "execution_count": 368,
   "metadata": {},
   "outputs": [],
   "source": [
    "diagnosis_elix_10.loc[:, 'rheumatoid_arthritis'] = (\n",
    "    np.where(diagnosis_elix_10['diagnosis_code'].str.match('L94[013]|'\n",
    "                                                           'M0[568]|'\n",
    "                                                           'M12[03]|'\n",
    "                                                           'M3(0|1[0123]|[2345])|'\n",
    "                                                           'M4(5|6[189])'), 1, 0)\n",
    ")"
   ]
  },
  {
   "cell_type": "code",
   "execution_count": 369,
   "metadata": {},
   "outputs": [],
   "source": [
    "diagnosis_elix_10.loc[:, 'coagulopathy'] = (\n",
    "    np.where(diagnosis_elix_10['diagnosis_code'].str.match('D6([5678]|9[13456])'), 1, 0)\n",
    ")"
   ]
  },
  {
   "cell_type": "code",
   "execution_count": 370,
   "metadata": {},
   "outputs": [],
   "source": [
    "diagnosis_elix_10.loc[:, 'obesity'] = (\n",
    "    np.where(diagnosis_elix_10['diagnosis_code'].str.match('E66'), 1, 0)\n",
    ")"
   ]
  },
  {
   "cell_type": "code",
   "execution_count": 371,
   "metadata": {},
   "outputs": [],
   "source": [
    "diagnosis_elix_10.loc[:, 'weight_loss'] = (\n",
    "    np.where(diagnosis_elix_10['diagnosis_code'].str.match('E4[0123456]|'\n",
    "                                                           'R6(34|4)'), 1, 0)\n",
    ")"
   ]
  },
  {
   "cell_type": "code",
   "execution_count": 372,
   "metadata": {},
   "outputs": [],
   "source": [
    "diagnosis_elix_10.loc[:, 'fluid_electrolyte'] = (\n",
    "    np.where(diagnosis_elix_10['diagnosis_code'].str.match('E222|'\n",
    "                                                           'E8[67]'), 1, 0)\n",
    ")"
   ]
  },
  {
   "cell_type": "code",
   "execution_count": 373,
   "metadata": {},
   "outputs": [],
   "source": [
    "diagnosis_elix_10.loc[:, 'blood_loss_anemia'] = (\n",
    "    np.where(diagnosis_elix_10['diagnosis_code'].str.match('D500'), 1, 0)\n",
    ")"
   ]
  },
  {
   "cell_type": "code",
   "execution_count": 374,
   "metadata": {},
   "outputs": [],
   "source": [
    "diagnosis_elix_10.loc[:, 'deficiency_anemia'] = (\n",
    "    np.where(diagnosis_elix_10['diagnosis_code'].str.match('D5(0[89]|[123])'), 1, 0)\n",
    ")"
   ]
  },
  {
   "cell_type": "code",
   "execution_count": 375,
   "metadata": {},
   "outputs": [],
   "source": [
    "diagnosis_elix_10.loc[:, 'alcohol_abuse'] = (\n",
    "    np.where(diagnosis_elix_10['diagnosis_code'].str.match('F10|'\n",
    "                                                           'E52|'\n",
    "                                                           'G621|'\n",
    "                                                           'I426|'\n",
    "                                                           'K292|'\n",
    "                                                           'K70[039]|'\n",
    "                                                           'T51|'\n",
    "                                                           'Z502|'\n",
    "                                                           'Z7(14|21)'), 1, 0)\n",
    ")"
   ]
  },
  {
   "cell_type": "code",
   "execution_count": 376,
   "metadata": {},
   "outputs": [],
   "source": [
    "diagnosis_elix_10.loc[:, 'drug_abuse'] = (\n",
    "    np.where(diagnosis_elix_10['diagnosis_code'].str.match('F1[12345689]|'\n",
    "                                                           'Z7(15|22)'), 1, 0)\n",
    ")"
   ]
  },
  {
   "cell_type": "code",
   "execution_count": 377,
   "metadata": {},
   "outputs": [],
   "source": [
    "diagnosis_elix_10.loc[:, 'psychoses'] = (\n",
    "    np.where(diagnosis_elix_10['diagnosis_code'].str.match('F2[0234589]|'\n",
    "                                                           'F3([01]2|15)'), 1, 0)\n",
    ")"
   ]
  },
  {
   "cell_type": "code",
   "execution_count": 378,
   "metadata": {},
   "outputs": [],
   "source": [
    "diagnosis_elix_10.loc[:, 'depression'] = (\n",
    "    np.where(diagnosis_elix_10['diagnosis_code'].str.match('F204|'\n",
    "                                                           'F3(1[345]|[23]|41)|'\n",
    "                                                           'F4[13]2'), 1, 0)\n",
    ")"
   ]
  },
  {
   "cell_type": "code",
   "execution_count": 379,
   "metadata": {},
   "outputs": [],
   "source": [
    "# Create variable that captures ICD-10 codes not included in Elixhauser. \n",
    "diagnosis_elix_10.loc[:, 'elixhauser_other'] = (\n",
    "    np.where(diagnosis_elix_10.iloc[:, 3:].eq(0).all(1), 1, 0)\n",
    ")"
   ]
  },
  {
   "cell_type": "code",
   "execution_count": 380,
   "metadata": {},
   "outputs": [],
   "source": [
    "diagnosis_elix_10_wide = (\n",
    "    diagnosis_elix_10\n",
    "    .drop(columns = ['DiagnosisCode', 'diagnosis_code'])\n",
    "    .groupby('PatientID').sum()\n",
    "    .reset_index()\n",
    ")"
   ]
  },
  {
   "cell_type": "code",
   "execution_count": 381,
   "metadata": {},
   "outputs": [
    {
     "data": {
      "text/plain": [
       "(7614, 7614)"
      ]
     },
     "execution_count": 381,
     "metadata": {},
     "output_type": "execute_result"
    }
   ],
   "source": [
    "row_ID(diagnosis_elix_10_wide)"
   ]
  },
  {
   "cell_type": "code",
   "execution_count": 382,
   "metadata": {},
   "outputs": [],
   "source": [
    "# Merge Elixhauser 9 and 10 and sum by PatientID.\n",
    "diagnosis_elixhauser = (\n",
    "    pd.concat([diagnosis_elix_9_wide, diagnosis_elix_10_wide])\n",
    "    .groupby('PatientID').sum()\n",
    ")"
   ]
  },
  {
   "cell_type": "code",
   "execution_count": 383,
   "metadata": {},
   "outputs": [],
   "source": [
    "# Create unqiue ICD count for each patient. \n",
    "diagnosis_elixhauser['icd_count'] = diagnosis_elixhauser.sum(axis = 1)  "
   ]
  },
  {
   "cell_type": "code",
   "execution_count": 384,
   "metadata": {},
   "outputs": [],
   "source": [
    "# Other than unique ICD count, values greater than 1 are set to 1; 0 remains unchanged. \n",
    "diagnosis_elixhauser.iloc[:, :-1] = (\n",
    "    diagnosis_elixhauser.iloc[:, :-1].mask(diagnosis_elixhauser.iloc[:, :-1] >1, 1)\n",
    ")"
   ]
  },
  {
   "cell_type": "code",
   "execution_count": 385,
   "metadata": {},
   "outputs": [],
   "source": [
    "diagnosis_elixhauser = diagnosis_elixhauser.reset_index()"
   ]
  },
  {
   "cell_type": "code",
   "execution_count": 386,
   "metadata": {},
   "outputs": [
    {
     "data": {
      "text/plain": [
       "(12197, 12197)"
      ]
     },
     "execution_count": 386,
     "metadata": {},
     "output_type": "execute_result"
    }
   ],
   "source": [
    "row_ID(diagnosis_elixhauser)"
   ]
  },
  {
   "cell_type": "code",
   "execution_count": 387,
   "metadata": {},
   "outputs": [],
   "source": [
    "# Append missing training IDs.\n",
    "diagnosis_elixhauser = (\n",
    "    diagnosis_elixhauser\n",
    "    .append(\n",
    "        pd.Series(test_IDs)[~pd.Series(test_IDs).isin(diagnosis_elixhauser['PatientID'])].to_frame(name = 'PatientID'), \n",
    "        sort = False)\n",
    "    .fillna(0)\n",
    ")"
   ]
  },
  {
   "cell_type": "code",
   "execution_count": 388,
   "metadata": {},
   "outputs": [
    {
     "data": {
      "text/plain": [
       "(13697, 13697)"
      ]
     },
     "execution_count": 388,
     "metadata": {},
     "output_type": "execute_result"
    }
   ],
   "source": [
    "row_ID(diagnosis_elixhauser)"
   ]
  },
  {
   "cell_type": "markdown",
   "metadata": {},
   "source": [
    "#### 10.2 Other cancer "
   ]
  },
  {
   "cell_type": "markdown",
   "metadata": {},
   "source": [
    "##### 10.2a ICD-9 cancer codes"
   ]
  },
  {
   "cell_type": "code",
   "execution_count": 389,
   "metadata": {},
   "outputs": [],
   "source": [
    "# Select all ICD-9 cancer codes between 140-239 (excluding benign neoplasms: 210-229).\n",
    "cancer_9 = (\n",
    "    diagnosis_elix_9[diagnosis_elix_9['DiagnosisCode'].str.startswith(\n",
    "        ('14','15', '16', '17', '18', '19', '20', '23'))]\n",
    "    .filter(items = ['PatientID', 'DiagnosisCode', 'diagnosis_code'])\n",
    ")"
   ]
  },
  {
   "cell_type": "code",
   "execution_count": 390,
   "metadata": {},
   "outputs": [
    {
     "data": {
      "text/plain": [
       "(8440, 5673)"
      ]
     },
     "execution_count": 390,
     "metadata": {},
     "output_type": "execute_result"
    }
   ],
   "source": [
    "row_ID(cancer_9)"
   ]
  },
  {
   "cell_type": "markdown",
   "metadata": {},
   "source": [
    "**Remove the following ICD-9 codes representing lung cancer, metastasis, ill-defined neoplasms, and benign neoplasms of skin (BCC and SCC):**\n",
    "* **162 - Malignant neoplasm of trachea, bronchus, and lung**\n",
    "* **163 - Malignant neoplasm of pleura**\n",
    "* **164.2 - Malignant neoplasm of anterior mediastinum**\n",
    "* **164.3 - Malignant neoplasm of posterior mediastinum**\n",
    "* **164.8 - Malignant neoplasm other parts of mediastinum**\n",
    "* **164.9 - Malignant neoplasm of mediastinum, part unspecified** \n",
    "* **165 - Malignant neoplasm of other and ill-defined sites within respiratory system** \n",
    "* **173 - Other and unspecified malignant neoplasm of skin**\n",
    "* **195.1 - Malignant neoplasm of thorax** \n",
    "* **196 - Secondary and unspecified malignant neoplasm of lymph nodes**\n",
    "* **197 - Secondary malignant neoplasm of respiratory and digestive systems**\n",
    "* **198 - Secondary malignant neoplasm of other specified sites** \n",
    "* **199 - Malignant neoplasm without specification of site**\n",
    "* **231.1 - Carcinoma in situ of trachea**\n",
    "* **231.2 - Carcinoma in situ of bronchus and lung**\n",
    "* **231.8 - Carcinoma in situ of other specified parts of respiratory system**\n",
    "* **231.9 - Carcinoma in situ of respiratory system, part unspecified** \n",
    "* **235.7 - Neoplasm of uncertain behavior of trachea, bronchus, and lung**\n",
    "* **235.8 - Neoplasm of uncertain behavior of pleura, thymus, and mediastinum**\n",
    "* **235.9 - Neoplasm of uncertain behavior of other and unspecified respiratory organs**\n",
    "* **238.8 - Neoplasm of uncertain behavior of other specified sites**\n",
    "* **238.9 - Neoplasm of uncertain behavior, site unspecified**\n",
    "* **239 - Neoplasms of unspecified nature**"
   ]
  },
  {
   "cell_type": "code",
   "execution_count": 391,
   "metadata": {},
   "outputs": [],
   "source": [
    "# Dataframe of ICD-9 neoplasm codes that exclude lung cancer, metastasis, or benign neoplasms.\n",
    "other_cancer_9 = (\n",
    "    cancer_9[~cancer_9['diagnosis_code'].str.match('16([23]|4[2389]|5)|'\n",
    "                                                   '173|'\n",
    "                                                   '19(51|[6789])|'\n",
    "                                                   '23(1[1289]|5[789]|8[89]|9)')]\n",
    ")"
   ]
  },
  {
   "cell_type": "code",
   "execution_count": 392,
   "metadata": {},
   "outputs": [
    {
     "name": "stderr",
     "output_type": "stream",
     "text": [
      "/Users/xavierorcutt/Dropbox/ist_project/myenv/lib/python3.7/site-packages/pandas/core/indexing.py:1667: SettingWithCopyWarning: \n",
      "A value is trying to be set on a copy of a slice from a DataFrame.\n",
      "Try using .loc[row_indexer,col_indexer] = value instead\n",
      "\n",
      "See the caveats in the documentation: https://pandas.pydata.org/pandas-docs/stable/user_guide/indexing.html#returning-a-view-versus-a-copy\n",
      "  self.obj[key] = value\n"
     ]
    }
   ],
   "source": [
    "other_cancer_9.loc[:,'other_cancer_9'] = 1"
   ]
  },
  {
   "cell_type": "code",
   "execution_count": 393,
   "metadata": {},
   "outputs": [],
   "source": [
    "other_cancer_9 = (\n",
    "    other_cancer_9\n",
    "    .drop_duplicates(subset = 'PatientID', keep = 'first')\n",
    "    .filter(items = ['PatientID', 'other_cancer_9'])\n",
    ")"
   ]
  },
  {
   "cell_type": "code",
   "execution_count": 394,
   "metadata": {},
   "outputs": [
    {
     "data": {
      "text/plain": [
       "(923, 923)"
      ]
     },
     "execution_count": 394,
     "metadata": {},
     "output_type": "execute_result"
    }
   ],
   "source": [
    "row_ID(other_cancer_9)"
   ]
  },
  {
   "cell_type": "code",
   "execution_count": 395,
   "metadata": {},
   "outputs": [],
   "source": [
    "other_cancer_9 = (\n",
    "    other_cancer_9\n",
    "    .append(\n",
    "        pd.Series(test_IDs)[~pd.Series(test_IDs).isin(other_cancer_9['PatientID'])].to_frame(name = 'PatientID'), \n",
    "        sort = False)\n",
    "    .fillna(0)\n",
    ")"
   ]
  },
  {
   "cell_type": "code",
   "execution_count": 396,
   "metadata": {},
   "outputs": [
    {
     "data": {
      "text/plain": [
       "(13697, 13697)"
      ]
     },
     "execution_count": 396,
     "metadata": {},
     "output_type": "execute_result"
    }
   ],
   "source": [
    "row_ID(other_cancer_9)"
   ]
  },
  {
   "cell_type": "markdown",
   "metadata": {},
   "source": [
    "##### 10.2b ICD-10 cancer codes"
   ]
  },
  {
   "cell_type": "code",
   "execution_count": 397,
   "metadata": {},
   "outputs": [],
   "source": [
    "# Select all ICD-10 codes between C00-D49 (excluding benign neoplasms: D10-D36 and benign neuroendocrine tumor: D3A) reflecting neoplasm diagnosis.\n",
    "cancer_10 = (\n",
    "    diagnosis_elix_10[diagnosis_elix_10['DiagnosisCode'].str.startswith(\n",
    "        ('C0', 'C1', 'C2', 'C3', 'C4', 'C5', 'C6', 'C7', 'C8', 'C9', 'D0', 'D37', 'D38', 'D39', 'D4'))]\n",
    "    .filter(items = ['PatientID', 'DiagnosisCode', 'diagnosis_code'])\n",
    ")"
   ]
  },
  {
   "cell_type": "code",
   "execution_count": 398,
   "metadata": {},
   "outputs": [
    {
     "data": {
      "text/plain": [
       "(12605, 7059)"
      ]
     },
     "execution_count": 398,
     "metadata": {},
     "output_type": "execute_result"
    }
   ],
   "source": [
    "row_ID(cancer_10)"
   ]
  },
  {
   "cell_type": "markdown",
   "metadata": {},
   "source": [
    "**Remove the following ICD-10 codes which capture lung cancer, metastasis, and benign skin neoplasms(eg., BCC and SCC).**\n",
    "* **C33 - Malignant neoplasm of trachea**\n",
    "* **C34 - Malignant neoplasm of bronchus and lung**\n",
    "* **C38.1 - Malignant neoplasm of anterior mediastinum**\n",
    "* **C38.2 - Malignant neoplasm of posterior mediastinum**\n",
    "* **C38.3 - Malignant neoplasm of mediastinum, part unspecified**\n",
    "* **C38.4 - Malignant neoplasm of pleura**\n",
    "* **C38.8 - Malignant neoplasm of overlapping sites of heart, mediastinum and pleura**\n",
    "* **C39 - Malignant neoplasm of other and ill-defined sites in the respiratory system and intrathoracic organs**\n",
    "* **C44 - Other and unspecified malignant neoplasm of skin**\n",
    "* **C76.1 -  Malignant neoplasm of other and ill-defined sites: malignant neoplasm of thorax**\n",
    "* **C77 - Secondary and unspecified malignant neoplasm of lymph nodes**\n",
    "* **C78 - Secondary malignant neoplasm of respiratory and digestive organs**\n",
    "* **C79 - Secondary malignant neoplasm of other and unspecified sites**\n",
    "* **C80 - Malignant neoplasm without specification of site**\n",
    "* **D02.1 - Carcinoma in situ of trachea**\n",
    "* **D02.2 - Carcinoma in situ of bronchus and lung**\n",
    "* **D02.3 - Carcinoma in situ of other parts of respiratory system**\n",
    "* **D02.4 - Carcinoma in situ of respiratory system, unspecified**\n",
    "* **D38 - Neoplasm of uncertain behavior of middle ear and respiratory and intrathoracic organs**\n",
    "* **D47.2 - Monoclonal gammopathy**\n",
    "* **D49 - Neoplasms of unspecified behavior** "
   ]
  },
  {
   "cell_type": "code",
   "execution_count": 399,
   "metadata": {},
   "outputs": [],
   "source": [
    "# Dataframe of ICD-10 neoplasm codes that exclude lung cancer, metastasis, or benign neoplasms.\n",
    "other_cancer_10 = (\n",
    "    cancer_10[~cancer_10['diagnosis_code'].str.match('C3([34]|8[12348]|9)|'\n",
    "                                                     'C44|'\n",
    "                                                     'C7(61|[789])|'\n",
    "                                                     'C80|'\n",
    "                                                     'D(02[1234]|38|472|49)')]\n",
    ")"
   ]
  },
  {
   "cell_type": "code",
   "execution_count": 400,
   "metadata": {},
   "outputs": [],
   "source": [
    "other_cancer_10.loc[:,'other_cancer_10'] = 1"
   ]
  },
  {
   "cell_type": "code",
   "execution_count": 401,
   "metadata": {},
   "outputs": [],
   "source": [
    "# Drop duplicates.\n",
    "other_cancer_10 = (\n",
    "    other_cancer_10\n",
    "    .drop_duplicates(subset = 'PatientID', keep = 'first')\n",
    "    .filter(items = ['PatientID', 'other_cancer_10'])\n",
    ")"
   ]
  },
  {
   "cell_type": "code",
   "execution_count": 402,
   "metadata": {},
   "outputs": [
    {
     "data": {
      "text/plain": [
       "(718, 718)"
      ]
     },
     "execution_count": 402,
     "metadata": {},
     "output_type": "execute_result"
    }
   ],
   "source": [
    "row_ID(other_cancer_10)"
   ]
  },
  {
   "cell_type": "code",
   "execution_count": 403,
   "metadata": {},
   "outputs": [],
   "source": [
    "# Append missing training IDs.\n",
    "other_cancer_10 = (\n",
    "    other_cancer_10\n",
    "    .append(\n",
    "        pd.Series(test_IDs)[~pd.Series(test_IDs).isin(other_cancer_10['PatientID'])].to_frame(name = 'PatientID'), \n",
    "        sort = False)\n",
    "    .fillna(0)\n",
    ")"
   ]
  },
  {
   "cell_type": "code",
   "execution_count": 404,
   "metadata": {},
   "outputs": [
    {
     "data": {
      "text/plain": [
       "(13697, 13697)"
      ]
     },
     "execution_count": 404,
     "metadata": {},
     "output_type": "execute_result"
    }
   ],
   "source": [
    "row_ID(other_cancer_10)"
   ]
  },
  {
   "cell_type": "code",
   "execution_count": 405,
   "metadata": {},
   "outputs": [],
   "source": [
    "other_cancer = pd.merge(other_cancer_9, other_cancer_10, on = 'PatientID')"
   ]
  },
  {
   "cell_type": "code",
   "execution_count": 406,
   "metadata": {},
   "outputs": [],
   "source": [
    "# Combine other_cancer_9 and other_cancer_10; replace values equal to 2 with 1. \n",
    "other_cancer = (\n",
    "    other_cancer\n",
    "    .assign(other_cancer = other_cancer['other_cancer_9'] + other_cancer['other_cancer_10'])\n",
    "    .filter(items = ['PatientID', 'other_cancer'])\n",
    "    .replace(2, 1)\n",
    ")"
   ]
  },
  {
   "cell_type": "code",
   "execution_count": 407,
   "metadata": {},
   "outputs": [
    {
     "data": {
      "text/plain": [
       "(13697, 13697)"
      ]
     },
     "execution_count": 407,
     "metadata": {},
     "output_type": "execute_result"
    }
   ],
   "source": [
    "row_ID(other_cancer)"
   ]
  },
  {
   "cell_type": "markdown",
   "metadata": {},
   "source": [
    "#### 10.3 Sites of metastases at diagnosis  "
   ]
  },
  {
   "cell_type": "markdown",
   "metadata": {},
   "source": [
    "##### 10.3a ICD-9 sites of metastases"
   ]
  },
  {
   "cell_type": "code",
   "execution_count": 408,
   "metadata": {},
   "outputs": [],
   "source": [
    "# Create dataframe contianing patients with ICD-9 codes within -90 to +30 days from advanced diagnosis and remove duplicate codes.(\n",
    "diagnosis_mets_9 = (\n",
    "    diagnosis\n",
    "    .query('diagnosis_date_diff >= -90 and diagnosis_date_diff <= 30')\n",
    "    .query('DiagnosisCodeSystem == \"ICD-9-CM\"')\n",
    "    .drop_duplicates(subset = ['PatientID', 'DiagnosisCode'], keep = 'first')\n",
    "    .filter(items = ['PatientID', 'DiagnosisCode', 'diagnosis_code'])\n",
    ")"
   ]
  },
  {
   "cell_type": "markdown",
   "metadata": {},
   "source": [
    "Sites of metastasis will be grouped into the following categories according to ICD-9 codes:\n",
    "\n",
    "- CNS - 198.3 and 198.4\n",
    "- Bone - 198.5\n",
    "- Liver - 197.7\n",
    "- Respiratory system - 197.0, 197.1, 197.2, and 197.3\n",
    "- Adrenal gland - 198.7\n",
    "- Other - kidney/bladder (198.0 and 198.1), intestines (197.4 and 197.5), lymph nodes (196), other (197.6, 197.8, 198.2, 198.6, and 198.8)"
   ]
  },
  {
   "cell_type": "code",
   "execution_count": 409,
   "metadata": {},
   "outputs": [],
   "source": [
    "diagnosis_mets_9['cns_met'] = np.where(diagnosis_mets_9['diagnosis_code'].str.match('198[34]'), 1, 0)"
   ]
  },
  {
   "cell_type": "code",
   "execution_count": 410,
   "metadata": {},
   "outputs": [],
   "source": [
    "diagnosis_mets_9['bone_met'] = np.where(diagnosis_mets_9['diagnosis_code'].str.match('1985'), 1, 0)"
   ]
  },
  {
   "cell_type": "code",
   "execution_count": 411,
   "metadata": {},
   "outputs": [],
   "source": [
    "diagnosis_mets_9['liver_met'] = np.where(diagnosis_mets_9['diagnosis_code'].str.match('1977'), 1, 0)"
   ]
  },
  {
   "cell_type": "code",
   "execution_count": 412,
   "metadata": {},
   "outputs": [],
   "source": [
    "diagnosis_mets_9['resp_met'] = np.where(diagnosis_mets_9['diagnosis_code'].str.match('197[0123]'), 1, 0)"
   ]
  },
  {
   "cell_type": "code",
   "execution_count": 413,
   "metadata": {},
   "outputs": [],
   "source": [
    "diagnosis_mets_9['adrenal_met'] = np.where(diagnosis_mets_9['diagnosis_code'].str.match('1987'), 1, 0)"
   ]
  },
  {
   "cell_type": "code",
   "execution_count": 414,
   "metadata": {},
   "outputs": [],
   "source": [
    "diagnosis_mets_9['other_met'] = (\n",
    "    np.where(diagnosis_mets_9['diagnosis_code'].str.match('196|'\n",
    "                                                          '197[4568]|'\n",
    "                                                          '198[01268]'), 1, 0)\n",
    ")"
   ]
  },
  {
   "cell_type": "code",
   "execution_count": 415,
   "metadata": {},
   "outputs": [],
   "source": [
    "# Collapse columns and sum.\n",
    "diagnosis_mets_9 = (\n",
    "    diagnosis_mets_9\n",
    "    .drop(columns = ['DiagnosisCode', 'diagnosis_code'])\n",
    "    .groupby('PatientID').sum()\n",
    "    .reset_index()\n",
    ")"
   ]
  },
  {
   "cell_type": "markdown",
   "metadata": {},
   "source": [
    "##### 10.3b ICD-10 sites of metastases"
   ]
  },
  {
   "cell_type": "code",
   "execution_count": 416,
   "metadata": {},
   "outputs": [],
   "source": [
    "# Create dataframe contianing patients with ICD-10 codes within -90 to +30 days from advanced diagnosis and remove duplicate codes.\n",
    "diagnosis_mets_10 = (\n",
    "    diagnosis\n",
    "    .query('diagnosis_date_diff >= -90 and diagnosis_date_diff <= 30')\n",
    "    .query('DiagnosisCodeSystem == \"ICD-10-CM\"')\n",
    "    .drop_duplicates(subset = ['PatientID', 'DiagnosisCode'], keep = 'first')\n",
    "    .filter(items = ['PatientID', 'DiagnosisCode', 'diagnosis_code'])\n",
    ")"
   ]
  },
  {
   "cell_type": "markdown",
   "metadata": {},
   "source": [
    "**Sites of metastasis will be grouped into the following categories according to ICD-10 codes:**\n",
    "* **CNS - C79.3 and C79.4**\n",
    "* **Bone - C79.5**\n",
    "* **Liver - C78.7**\n",
    "* **Respiratory system - C78.0, C78.1, C78.2, and C78.3**\n",
    "* **Adrenal gland - C79.7**\n",
    "* **Other - kidney/bladder (C79.0 and C79.1) intestines (C78.4 and C78.5), lymph nodes (C77), and other (C78.6, C78.8, C79.2, C79.6, C79.8, C79.9)**"
   ]
  },
  {
   "cell_type": "code",
   "execution_count": 417,
   "metadata": {},
   "outputs": [],
   "source": [
    "diagnosis_mets_10['cns_met'] = np.where(diagnosis_mets_10['diagnosis_code'].str.match('C79[34]'), 1, 0)"
   ]
  },
  {
   "cell_type": "code",
   "execution_count": 418,
   "metadata": {},
   "outputs": [],
   "source": [
    "diagnosis_mets_10['bone_met'] = np.where(diagnosis_mets_10['diagnosis_code'].str.match('C795'), 1, 0)"
   ]
  },
  {
   "cell_type": "code",
   "execution_count": 419,
   "metadata": {},
   "outputs": [],
   "source": [
    "diagnosis_mets_10['liver_met'] = np.where(diagnosis_mets_10['diagnosis_code'].str.match('C787'), 1, 0)"
   ]
  },
  {
   "cell_type": "code",
   "execution_count": 420,
   "metadata": {},
   "outputs": [],
   "source": [
    "diagnosis_mets_10['resp_met'] = np.where(diagnosis_mets_10['diagnosis_code'].str.match('C78[0123]'), 1, 0)"
   ]
  },
  {
   "cell_type": "code",
   "execution_count": 421,
   "metadata": {},
   "outputs": [],
   "source": [
    "diagnosis_mets_10['adrenal_met'] = np.where(diagnosis_mets_10['diagnosis_code'].str.match('C797'), 1, 0)"
   ]
  },
  {
   "cell_type": "code",
   "execution_count": 422,
   "metadata": {},
   "outputs": [],
   "source": [
    "diagnosis_mets_10['other_met'] = (\n",
    "    np.where(diagnosis_mets_10['diagnosis_code'].str.match('C77|'\n",
    "                                                           'C78[4568]|'\n",
    "                                                           'C79[012689]'), 1, 0)\n",
    ")"
   ]
  },
  {
   "cell_type": "code",
   "execution_count": 423,
   "metadata": {},
   "outputs": [],
   "source": [
    "# Collapse columns and sum. \n",
    "diagnosis_mets_10 = (\n",
    "    diagnosis_mets_10\n",
    "    .drop(columns = ['DiagnosisCode', 'diagnosis_code'])\n",
    "    .groupby('PatientID').sum()\n",
    "    .reset_index()\n",
    ")"
   ]
  },
  {
   "cell_type": "code",
   "execution_count": 424,
   "metadata": {},
   "outputs": [],
   "source": [
    "# Merge ICD-9 and ICD-10 mets tables; collapse and sum. \n",
    "diagnosis_mets = (\n",
    "    pd.concat([diagnosis_mets_9, diagnosis_mets_10])\n",
    "    .groupby('PatientID').sum()\n",
    ")"
   ]
  },
  {
   "cell_type": "code",
   "execution_count": 425,
   "metadata": {},
   "outputs": [],
   "source": [
    "# All values >1 replaced by 1. \n",
    "diagnosis_mets = (\n",
    "    diagnosis_mets.mask(diagnosis_mets > 1, 1)\n",
    "    .reset_index()\n",
    ")"
   ]
  },
  {
   "cell_type": "code",
   "execution_count": 426,
   "metadata": {},
   "outputs": [],
   "source": [
    "# Append missing training IDs.\n",
    "diagnosis_mets = (\n",
    "    diagnosis_mets.append(\n",
    "        pd.Series(test_IDs)[~pd.Series(test_IDs).isin(diagnosis_mets['PatientID'])].to_frame(name = 'PatientID'), \n",
    "        sort = False)\n",
    "    .fillna(0)\n",
    ")"
   ]
  },
  {
   "cell_type": "code",
   "execution_count": 427,
   "metadata": {},
   "outputs": [
    {
     "data": {
      "text/plain": [
       "(13697, 13697)"
      ]
     },
     "execution_count": 427,
     "metadata": {},
     "output_type": "execute_result"
    }
   ],
   "source": [
    "row_ID(diagnosis_mets)"
   ]
  },
  {
   "cell_type": "markdown",
   "metadata": {},
   "source": [
    "#### 10.4 Merge"
   ]
  },
  {
   "cell_type": "code",
   "execution_count": 428,
   "metadata": {},
   "outputs": [],
   "source": [
    "diagnosis_wide = pd.merge(diagnosis_elixhauser, other_cancer, on = 'PatientID')"
   ]
  },
  {
   "cell_type": "code",
   "execution_count": 429,
   "metadata": {},
   "outputs": [],
   "source": [
    "diagnosis_wide = pd.merge(diagnosis_wide, diagnosis_mets, on = 'PatientID')"
   ]
  },
  {
   "cell_type": "code",
   "execution_count": 430,
   "metadata": {},
   "outputs": [
    {
     "data": {
      "text/plain": [
       "(13697, 13697)"
      ]
     },
     "execution_count": 430,
     "metadata": {},
     "output_type": "execute_result"
    }
   ],
   "source": [
    "row_ID(diagnosis_wide)"
   ]
  },
  {
   "cell_type": "code",
   "execution_count": 431,
   "metadata": {},
   "outputs": [
    {
     "data": {
      "text/plain": [
       "['PatientID',\n",
       " 'chf',\n",
       " 'cardiac_arrhythmias',\n",
       " 'valvular_disease',\n",
       " 'pulmonary_circulation',\n",
       " 'peripheral_vascular',\n",
       " 'htn_uncomplicated',\n",
       " 'htn_complicated',\n",
       " 'paralysis',\n",
       " 'other_neuro_disorders',\n",
       " 'chronic_pulmonary',\n",
       " 'diabetes_uncomplicated',\n",
       " 'diabetes_complicated',\n",
       " 'hypothyroidism',\n",
       " 'renal_failure',\n",
       " 'liver_disease',\n",
       " 'peptic_ulcer_disease',\n",
       " 'aids_hiv',\n",
       " 'lymphoma',\n",
       " 'metastatic_cancer',\n",
       " 'solid_tumor_wout_mets',\n",
       " 'rheumatoid_arthritis',\n",
       " 'coagulopathy',\n",
       " 'obesity',\n",
       " 'weight_loss',\n",
       " 'fluid_electrolyte',\n",
       " 'blood_loss_anemia',\n",
       " 'deficiency_anemia',\n",
       " 'alcohol_abuse',\n",
       " 'drug_abuse',\n",
       " 'psychoses',\n",
       " 'depression',\n",
       " 'elixhauser_other',\n",
       " 'icd_count',\n",
       " 'other_cancer',\n",
       " 'cns_met',\n",
       " 'bone_met',\n",
       " 'liver_met',\n",
       " 'resp_met',\n",
       " 'adrenal_met',\n",
       " 'other_met']"
      ]
     },
     "execution_count": 431,
     "metadata": {},
     "output_type": "execute_result"
    }
   ],
   "source": [
    "list(diagnosis_wide.columns)"
   ]
  },
  {
   "cell_type": "code",
   "execution_count": 432,
   "metadata": {
    "scrolled": true
   },
   "outputs": [
    {
     "name": "stdout",
     "output_type": "stream",
     "text": [
      "Variable                 Type         Data/Info\n",
      "-----------------------------------------------\n",
      "biomarker_wide           DataFrame               PatientID     <...>n[13697 rows x 8 columns]\n",
      "cancer_10                DataFrame                PatientID Dia<...>n[12605 rows x 3 columns]\n",
      "cancer_9                 DataFrame                PatientID Dia<...>\\n[8440 rows x 3 columns]\n",
      "demographics             DataFrame               PatientID Prac<...>n[13697 rows x 7 columns]\n",
      "diagnosis                DataFrame                PatientID Dia<...>[290161 rows x 8 columns]\n",
      "diagnosis_elix_10        DataFrame                PatientID Dia<...>[55385 rows x 35 columns]\n",
      "diagnosis_elix_10_wide   DataFrame              PatientID  chf <...>n[7614 rows x 33 columns]\n",
      "diagnosis_elix_9         DataFrame                PatientID Dia<...>[28278 rows x 35 columns]\n",
      "diagnosis_elix_9_wide    DataFrame              PatientID  chf <...>n[6457 rows x 33 columns]\n",
      "diagnosis_elixhauser     DataFrame               PatientID  chf<...>[13697 rows x 34 columns]\n",
      "diagnosis_mets           DataFrame               PatientID  cns<...>n[13697 rows x 7 columns]\n",
      "diagnosis_mets_10        DataFrame              PatientID  cns_<...>\\n[6869 rows x 7 columns]\n",
      "diagnosis_mets_9         DataFrame              PatientID  cns_<...>\\n[4127 rows x 7 columns]\n",
      "diagnosis_wide           DataFrame               PatientID  chf<...>[13697 rows x 41 columns]\n",
      "ecog_diagnosis_wide      DataFrame                PatientID eco<...>n[13697 rows x 2 columns]\n",
      "enhanced_adv             DataFrame               PatientID diag<...>n[13697 rows x 9 columns]\n",
      "insurance_wide           DataFrame               PatientID  com<...>n[13697 rows x 5 columns]\n",
      "lab_wide                 DataFrame               PatientID  alb<...>13697 rows x 129 columns]\n",
      "med_admin_wide           DataFrame               PatientID  ste<...>[13697 rows x 14 columns]\n",
      "mortality                DataFrame               PatientID  dea<...>n[13697 rows x 3 columns]\n",
      "other_cancer             DataFrame               PatientID  oth<...>n[13697 rows x 2 columns]\n",
      "other_cancer_10          DataFrame               PatientID  oth<...>n[13697 rows x 2 columns]\n",
      "other_cancer_9           DataFrame               PatientID  oth<...>n[13697 rows x 2 columns]\n",
      "weight_wide              DataFrame               PatientID  wei<...>n[13697 rows x 7 columns]\n"
     ]
    }
   ],
   "source": [
    "%whos DataFrame"
   ]
  },
  {
   "cell_type": "code",
   "execution_count": 433,
   "metadata": {},
   "outputs": [],
   "source": [
    "# Keep diagnosis_wide.\n",
    "del cancer_10\n",
    "del cancer_9\n",
    "del diagnosis\n",
    "del diagnosis_elix_10\n",
    "del diagnosis_elix_10_wide\n",
    "del diagnosis_elix_9\n",
    "del diagnosis_elix_9_wide\n",
    "del diagnosis_elixhauser\n",
    "del other_cancer\n",
    "del other_cancer_10\n",
    "del other_cancer_9"
   ]
  },
  {
   "cell_type": "markdown",
   "metadata": {},
   "source": [
    "## Merge files to create master test dataframe"
   ]
  },
  {
   "cell_type": "code",
   "execution_count": 434,
   "metadata": {},
   "outputs": [],
   "source": [
    "enhanced_adv = enhanced_adv.drop(columns = ['diagnosis_date', 'adv_date', 'adv_year_cat'])"
   ]
  },
  {
   "cell_type": "code",
   "execution_count": 435,
   "metadata": {},
   "outputs": [],
   "source": [
    "test_full = pd.merge(demographics, enhanced_adv, on = 'PatientID')"
   ]
  },
  {
   "cell_type": "code",
   "execution_count": 436,
   "metadata": {},
   "outputs": [],
   "source": [
    "test_full = pd.merge(test_full, mortality, on = 'PatientID')"
   ]
  },
  {
   "cell_type": "code",
   "execution_count": 437,
   "metadata": {},
   "outputs": [],
   "source": [
    "test_full = pd.merge(test_full, med_admin_wide, on = 'PatientID')"
   ]
  },
  {
   "cell_type": "code",
   "execution_count": 438,
   "metadata": {},
   "outputs": [],
   "source": [
    "test_full = pd.merge(test_full, biomarker_wide, on = 'PatientID')"
   ]
  },
  {
   "cell_type": "code",
   "execution_count": 439,
   "metadata": {},
   "outputs": [],
   "source": [
    "test_full = pd.merge(test_full, insurance_wide, on = 'PatientID')"
   ]
  },
  {
   "cell_type": "code",
   "execution_count": 440,
   "metadata": {},
   "outputs": [],
   "source": [
    "test_full = pd.merge(test_full, ecog_diagnosis_wide, on = 'PatientID')"
   ]
  },
  {
   "cell_type": "code",
   "execution_count": 441,
   "metadata": {},
   "outputs": [],
   "source": [
    "test_full = pd.merge(test_full, weight_wide, on = 'PatientID')"
   ]
  },
  {
   "cell_type": "code",
   "execution_count": 442,
   "metadata": {},
   "outputs": [],
   "source": [
    "test_full = pd.merge(test_full, lab_wide, on = 'PatientID')"
   ]
  },
  {
   "cell_type": "code",
   "execution_count": 443,
   "metadata": {},
   "outputs": [],
   "source": [
    "test_full = pd.merge(test_full, diagnosis_wide, on = 'PatientID')"
   ]
  },
  {
   "cell_type": "code",
   "execution_count": 444,
   "metadata": {},
   "outputs": [
    {
     "data": {
      "text/plain": [
       "(13697, 13697)"
      ]
     },
     "execution_count": 444,
     "metadata": {},
     "output_type": "execute_result"
    }
   ],
   "source": [
    "row_ID(test_full)"
   ]
  },
  {
   "cell_type": "code",
   "execution_count": 445,
   "metadata": {},
   "outputs": [
    {
     "data": {
      "text/plain": [
       "213"
      ]
     },
     "execution_count": 445,
     "metadata": {},
     "output_type": "execute_result"
    }
   ],
   "source": [
    "len(test_full.columns)"
   ]
  },
  {
   "cell_type": "code",
   "execution_count": 446,
   "metadata": {},
   "outputs": [
    {
     "data": {
      "text/plain": [
       "['PatientID',\n",
       " 'PracticeType',\n",
       " 'gender',\n",
       " 'race',\n",
       " 'ethnicity',\n",
       " 'age',\n",
       " 'region',\n",
       " 'Histology',\n",
       " 'SmokingStatus',\n",
       " 'stage',\n",
       " 'adv_year',\n",
       " 'delta_adv_diagnosis',\n",
       " 'death_status',\n",
       " 'timerisk_activity',\n",
       " 'steroid_diag',\n",
       " 'opioid_PO_diag',\n",
       " 'nonopioid_PO_diag',\n",
       " 'pain_IV_diag',\n",
       " 'ac_diag',\n",
       " 'antiinfective_IV_diag',\n",
       " 'antiinfective_diag',\n",
       " 'antihyperglycemic_diag',\n",
       " 'ppi_diag',\n",
       " 'antidepressant_diag',\n",
       " 'bta_diag',\n",
       " 'thyroid_diag',\n",
       " 'is_diag',\n",
       " 'ALK',\n",
       " 'BRAF',\n",
       " 'EGFR',\n",
       " 'KRAS',\n",
       " 'ROS1',\n",
       " 'pdl1',\n",
       " 'pdl1_n',\n",
       " 'commercial',\n",
       " 'medicare',\n",
       " 'medicaid',\n",
       " 'other_insurance',\n",
       " 'ecog_diagnosis',\n",
       " 'weight_diag',\n",
       " 'bmi_diag',\n",
       " 'bmi_diag_na',\n",
       " 'weight_pct_change',\n",
       " 'weight_pct_na',\n",
       " 'weight_slope',\n",
       " 'albumin_diag',\n",
       " 'alp_diag',\n",
       " 'alt_diag',\n",
       " 'ast_diag',\n",
       " 'bicarb_diag',\n",
       " 'bun_diag',\n",
       " 'calcium_diag',\n",
       " 'chloride_diag',\n",
       " 'creatinine_diag',\n",
       " 'hemoglobin_diag',\n",
       " 'neutrophil_count_diag',\n",
       " 'platelet_diag',\n",
       " 'potassium_diag',\n",
       " 'sodium_diag',\n",
       " 'total_bilirubin_diag',\n",
       " 'wbc_diag',\n",
       " 'albumin_diag_na',\n",
       " 'alp_diag_na',\n",
       " 'alt_diag_na',\n",
       " 'ast_diag_na',\n",
       " 'bicarb_diag_na',\n",
       " 'bun_diag_na',\n",
       " 'calcium_diag_na',\n",
       " 'chloride_diag_na',\n",
       " 'creatinine_diag_na',\n",
       " 'hemoglobin_diag_na',\n",
       " 'neutrophil_count_diag_na',\n",
       " 'platelet_diag_na',\n",
       " 'potassium_diag_na',\n",
       " 'sodium_diag_na',\n",
       " 'total_bilirubin_diag_na',\n",
       " 'wbc_diag_na',\n",
       " 'albumin_avg',\n",
       " 'alp_avg',\n",
       " 'alt_avg',\n",
       " 'ast_avg',\n",
       " 'bicarb_avg',\n",
       " 'bun_avg',\n",
       " 'calcium_avg',\n",
       " 'chloride_avg',\n",
       " 'creatinine_avg',\n",
       " 'hemoglobin_avg',\n",
       " 'neutrophil_count_avg',\n",
       " 'platelet_avg',\n",
       " 'potassium_avg',\n",
       " 'sodium_avg',\n",
       " 'total_bilirubin_avg',\n",
       " 'wbc_avg',\n",
       " 'albumin_max',\n",
       " 'alp_max',\n",
       " 'alt_max',\n",
       " 'ast_max',\n",
       " 'bicarb_max',\n",
       " 'bun_max',\n",
       " 'calcium_max',\n",
       " 'chloride_max',\n",
       " 'creatinine_max',\n",
       " 'hemoglobin_max',\n",
       " 'neutrophil_count_max',\n",
       " 'platelet_max',\n",
       " 'potassium_max',\n",
       " 'sodium_max',\n",
       " 'total_bilirubin_max',\n",
       " 'wbc_max',\n",
       " 'albumin_min',\n",
       " 'alp_min',\n",
       " 'alt_min',\n",
       " 'ast_min',\n",
       " 'bicarb_min',\n",
       " 'bun_min',\n",
       " 'calcium_min',\n",
       " 'chloride_min',\n",
       " 'creatinine_min',\n",
       " 'hemoglobin_min',\n",
       " 'neutrophil_count_min',\n",
       " 'platelet_min',\n",
       " 'potassium_min',\n",
       " 'sodium_min',\n",
       " 'total_bilirubin_min',\n",
       " 'wbc_min',\n",
       " 'albumin_std',\n",
       " 'alp_std',\n",
       " 'alt_std',\n",
       " 'ast_std',\n",
       " 'bicarb_std',\n",
       " 'bun_std',\n",
       " 'calcium_std',\n",
       " 'chloride_std',\n",
       " 'creatinine_std',\n",
       " 'hemoglobin_std',\n",
       " 'neutrophil_count_std',\n",
       " 'platelet_std',\n",
       " 'potassium_std',\n",
       " 'sodium_std',\n",
       " 'total_bilirubin_std',\n",
       " 'wbc_std',\n",
       " 'albumin_slope',\n",
       " 'alp_slope',\n",
       " 'alt_slope',\n",
       " 'ast_slope',\n",
       " 'bicarb_slope',\n",
       " 'bun_slope',\n",
       " 'calcium_slope',\n",
       " 'chloride_slope',\n",
       " 'creatinine_slope',\n",
       " 'hemoglobin_slope',\n",
       " 'neutrophil_count_slope',\n",
       " 'platelet_slope',\n",
       " 'potassium_slope',\n",
       " 'sodium_slope',\n",
       " 'total_bilirubin_slope',\n",
       " 'wbc_slope',\n",
       " 'albumin_slope_na',\n",
       " 'alp_slope_na',\n",
       " 'alt_slope_na',\n",
       " 'ast_slope_na',\n",
       " 'bicarb_slope_na',\n",
       " 'bun_slope_na',\n",
       " 'calcium_slope_na',\n",
       " 'chloride_slope_na',\n",
       " 'creatinine_slope_na',\n",
       " 'hemoglobin_slope_na',\n",
       " 'neutrophil_count_slope_na',\n",
       " 'platelet_slope_na',\n",
       " 'potassium_slope_na',\n",
       " 'sodium_slope_na',\n",
       " 'total_bilirubin_slope_na',\n",
       " 'wbc_slope_na',\n",
       " 'chf',\n",
       " 'cardiac_arrhythmias',\n",
       " 'valvular_disease',\n",
       " 'pulmonary_circulation',\n",
       " 'peripheral_vascular',\n",
       " 'htn_uncomplicated',\n",
       " 'htn_complicated',\n",
       " 'paralysis',\n",
       " 'other_neuro_disorders',\n",
       " 'chronic_pulmonary',\n",
       " 'diabetes_uncomplicated',\n",
       " 'diabetes_complicated',\n",
       " 'hypothyroidism',\n",
       " 'renal_failure',\n",
       " 'liver_disease',\n",
       " 'peptic_ulcer_disease',\n",
       " 'aids_hiv',\n",
       " 'lymphoma',\n",
       " 'metastatic_cancer',\n",
       " 'solid_tumor_wout_mets',\n",
       " 'rheumatoid_arthritis',\n",
       " 'coagulopathy',\n",
       " 'obesity',\n",
       " 'weight_loss',\n",
       " 'fluid_electrolyte',\n",
       " 'blood_loss_anemia',\n",
       " 'deficiency_anemia',\n",
       " 'alcohol_abuse',\n",
       " 'drug_abuse',\n",
       " 'psychoses',\n",
       " 'depression',\n",
       " 'elixhauser_other',\n",
       " 'icd_count',\n",
       " 'other_cancer',\n",
       " 'cns_met',\n",
       " 'bone_met',\n",
       " 'liver_met',\n",
       " 'resp_met',\n",
       " 'adrenal_met',\n",
       " 'other_met']"
      ]
     },
     "execution_count": 446,
     "metadata": {},
     "output_type": "execute_result"
    }
   ],
   "source": [
    "list(test_full.columns)"
   ]
  },
  {
   "cell_type": "code",
   "execution_count": 447,
   "metadata": {},
   "outputs": [],
   "source": [
    "test_full.to_csv('test_full.csv', index = False, header = True)"
   ]
  }
 ],
 "metadata": {
  "kernelspec": {
   "display_name": "My Virtual Environment",
   "language": "python",
   "name": "myenv"
  },
  "language_info": {
   "codemirror_mode": {
    "name": "ipython",
    "version": 3
   },
   "file_extension": ".py",
   "mimetype": "text/x-python",
   "name": "python",
   "nbconvert_exporter": "python",
   "pygments_lexer": "ipython3",
   "version": "3.7.10"
  }
 },
 "nbformat": 4,
 "nbformat_minor": 2
}
