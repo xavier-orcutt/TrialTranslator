{
 "cells": [
  {
   "cell_type": "markdown",
   "id": "a4866b84",
   "metadata": {},
   "source": [
    "# Flatiron Health mPC: Relaxed trials with GBM crude + dose correction \n",
    "\n",
    "***OBJECTIVE:*** **Reproduce CHAARTED trial while ensuring patients receiving chemotherapy are getting an  appropriate first dose. Inclusion criteria for these trials will be pragmatically relaxed to allow for entry of our real-world patients, many of which would not meet inclusion criteria in randomized controlled trials. Patients included in our trials will next be risk stratified using the gradient boosted model with crude imputation into 1 of 3 risk groups: high (top tertile), medium (middle tertile), and low (bottom tertile). Inverse-probability treatment weighted survival analysis will then be performed across these risk groups to get real-world estimates of survival while adjusting for measured confounders.** \n",
    "\n",
    "***OUTLINE:***\n",
    "1. **Preprocessing**\n",
    "\n",
    "\n",
    "2. **In-silico trials:**\n",
    "* CHAARTED"
   ]
  },
  {
   "cell_type": "markdown",
   "id": "00c73520",
   "metadata": {},
   "source": [
    "## Part 1: Preprocessing"
   ]
  },
  {
   "cell_type": "markdown",
   "id": "6921967f",
   "metadata": {},
   "source": [
    "### 1.1 Import packages and create necessary functions"
   ]
  },
  {
   "cell_type": "code",
   "execution_count": 1,
   "id": "084e7413",
   "metadata": {},
   "outputs": [],
   "source": [
    "import numpy as np\n",
    "import pandas as pd\n",
    "\n",
    "from scipy import stats\n",
    "\n",
    "from sksurv.nonparametric import kaplan_meier_estimator\n",
    "from survive import KaplanMeier, SurvivalData\n",
    "\n",
    "from lifelines import KaplanMeierFitter\n",
    "from lifelines.plotting import add_at_risk_counts\n",
    "from lifelines.utils import median_survival_times\n",
    "\n",
    "import matplotlib.pyplot as plt\n",
    "import matplotlib.gridspec as gridspec\n",
    "\n",
    "from sklearn.pipeline import Pipeline\n",
    "from sklearn.impute import SimpleImputer\n",
    "from sklearn.preprocessing import StandardScaler, OneHotEncoder\n",
    "from sklearn.compose import ColumnTransformer \n",
    "from sklearn.linear_model import LogisticRegression\n",
    "\n",
    "from matplotlib.lines import Line2D   "
   ]
  },
  {
   "cell_type": "code",
   "execution_count": 2,
   "id": "22f8115a",
   "metadata": {},
   "outputs": [],
   "source": [
    "# Function that returns number of rows and count of unique PatientIDs for a dataframe. \n",
    "def row_ID(dataframe):\n",
    "    row = dataframe.shape[0]\n",
    "    ID = dataframe['PatientID'].nunique()\n",
    "    return row, ID"
   ]
  },
  {
   "cell_type": "markdown",
   "id": "afcc9b9a",
   "metadata": {},
   "source": [
    "## Part 2: In silico trials "
   ]
  },
  {
   "cell_type": "markdown",
   "id": "37bb621b",
   "metadata": {},
   "source": [
    "### CHAARTED: docetaxel vs. ADT in metastatic, castration-sensitive prostate cancer  \n",
    "\n",
    "**INCLUSION**\n",
    "* Untreated metastatic prostate cancer, except up to 4 months of ADT \n",
    "* Castration-sensitive\n",
    "* Received ADT or docetaxel plus ADT\n",
    "* Received correct dose of docetaxel"
   ]
  },
  {
   "cell_type": "markdown",
   "id": "ef7b54fb",
   "metadata": {},
   "source": [
    "#### ADT"
   ]
  },
  {
   "cell_type": "code",
   "execution_count": 9,
   "id": "6d3b5c2a",
   "metadata": {},
   "outputs": [
    {
     "data": {
      "text/plain": [
       "18927"
      ]
     },
     "execution_count": 9,
     "metadata": {},
     "output_type": "execute_result"
    }
   ],
   "source": [
    "df_full = pd.read_csv('df_risk_crude.csv', dtype = {'death_status': bool})\n",
    "df_full.index.nunique()"
   ]
  },
  {
   "cell_type": "code",
   "execution_count": 10,
   "id": "cfc56367",
   "metadata": {},
   "outputs": [],
   "source": [
    "adt = pd.read_csv('Enhanced_MetPC_ADT.csv')"
   ]
  },
  {
   "cell_type": "code",
   "execution_count": 11,
   "id": "90f88368",
   "metadata": {},
   "outputs": [],
   "source": [
    "adt = (\n",
    "    adt[adt['PatientID'].isin(df_full['PatientID'])]\n",
    "    .query('TreatmentSetting == \"Advanced\"')\n",
    ")"
   ]
  },
  {
   "cell_type": "code",
   "execution_count": 12,
   "id": "8c361859",
   "metadata": {},
   "outputs": [
    {
     "data": {
      "text/plain": [
       "(17863, 17863)"
      ]
     },
     "execution_count": 12,
     "metadata": {},
     "output_type": "execute_result"
    }
   ],
   "source": [
    "row_ID(adt)"
   ]
  },
  {
   "cell_type": "code",
   "execution_count": 13,
   "id": "d44324c0",
   "metadata": {},
   "outputs": [],
   "source": [
    "adt.loc[:, 'StartDate'] = pd.to_datetime(adt['StartDate'])"
   ]
  },
  {
   "cell_type": "code",
   "execution_count": 14,
   "id": "73b9880e",
   "metadata": {},
   "outputs": [],
   "source": [
    "adt = adt.rename(columns = {'StartDate': 'StartDate_adt'})"
   ]
  },
  {
   "cell_type": "code",
   "execution_count": 15,
   "id": "06ee02f9",
   "metadata": {},
   "outputs": [],
   "source": [
    "df_full = pd.merge(df_full, adt[['PatientID', 'StartDate_adt']], on = 'PatientID', how = 'outer')"
   ]
  },
  {
   "cell_type": "code",
   "execution_count": 16,
   "id": "0bcb59d2",
   "metadata": {},
   "outputs": [
    {
     "data": {
      "text/plain": [
       "(18927, 18927)"
      ]
     },
     "execution_count": 16,
     "metadata": {},
     "output_type": "execute_result"
    }
   ],
   "source": [
    "row_ID(df_full)"
   ]
  },
  {
   "cell_type": "code",
   "execution_count": 17,
   "id": "5422ba1c",
   "metadata": {},
   "outputs": [],
   "source": [
    "enhanced_met = pd.read_csv('Enhanced_MetProstate.csv')"
   ]
  },
  {
   "cell_type": "code",
   "execution_count": 18,
   "id": "15ab9fae",
   "metadata": {},
   "outputs": [],
   "source": [
    "enhanced_met = enhanced_met[enhanced_met['PatientID'].isin(df_full['PatientID'])]"
   ]
  },
  {
   "cell_type": "code",
   "execution_count": 19,
   "id": "2e4fd951",
   "metadata": {},
   "outputs": [],
   "source": [
    "enhanced_met.loc[:, 'MetDiagnosisDate'] = pd.to_datetime(enhanced_met['MetDiagnosisDate'])"
   ]
  },
  {
   "cell_type": "code",
   "execution_count": 20,
   "id": "6de1060b",
   "metadata": {},
   "outputs": [],
   "source": [
    "enhanced_met.loc[:, 'CRPCDate'] = pd.to_datetime(enhanced_met['CRPCDate'])"
   ]
  },
  {
   "cell_type": "code",
   "execution_count": 21,
   "id": "919f9006",
   "metadata": {},
   "outputs": [],
   "source": [
    "df_full = pd.merge(df_full, enhanced_met[['PatientID', 'MetDiagnosisDate', 'CRPCDate']], on = 'PatientID')"
   ]
  },
  {
   "cell_type": "code",
   "execution_count": 22,
   "id": "818ac192",
   "metadata": {},
   "outputs": [
    {
     "data": {
      "text/plain": [
       "(18927, 18927)"
      ]
     },
     "execution_count": 22,
     "metadata": {},
     "output_type": "execute_result"
    }
   ],
   "source": [
    "row_ID(df_full)"
   ]
  },
  {
   "cell_type": "code",
   "execution_count": 23,
   "id": "197895f5",
   "metadata": {},
   "outputs": [],
   "source": [
    "# Find all that start ADT within -120 to +90 days of metastatic diagnosis \n",
    "chaarted_adt = (\n",
    "    df_full\n",
    "    .assign(adt_diff = (df_full['StartDate_adt'] - df_full['MetDiagnosisDate']).dt.days)\n",
    "    .query('adt_diff >= -120 and adt_diff <= 90')\n",
    ")"
   ]
  },
  {
   "cell_type": "code",
   "execution_count": 24,
   "id": "6280cf96",
   "metadata": {},
   "outputs": [],
   "source": [
    "# Find all that have missing CPRC date or date is >90 after metastatic diagnosis \n",
    "chaarted_adt = (\n",
    "    chaarted_adt\n",
    "    .assign(crpc_diff = (chaarted_adt['CRPCDate'] - chaarted_adt['MetDiagnosisDate']).dt.days)\n",
    "    .query('crpc_diff > 90 or CRPCDate.isna()', engine = 'python')\n",
    ")"
   ]
  },
  {
   "cell_type": "code",
   "execution_count": 25,
   "id": "f93caff4",
   "metadata": {},
   "outputs": [
    {
     "data": {
      "text/plain": [
       "(10475, 10475)"
      ]
     },
     "execution_count": 25,
     "metadata": {},
     "output_type": "execute_result"
    }
   ],
   "source": [
    "row_ID(chaarted_adt)"
   ]
  },
  {
   "cell_type": "code",
   "execution_count": 26,
   "id": "ff0c18b2",
   "metadata": {},
   "outputs": [],
   "source": [
    "line_therapy = pd.read_csv('LineOfTherapy.csv')"
   ]
  },
  {
   "cell_type": "code",
   "execution_count": 27,
   "id": "a5dec26f",
   "metadata": {},
   "outputs": [],
   "source": [
    "zero = (\n",
    "    line_therapy.query('LineNumber == 0')\n",
    "    .PatientID\n",
    ")"
   ]
  },
  {
   "cell_type": "code",
   "execution_count": 28,
   "id": "d301bffb",
   "metadata": {},
   "outputs": [],
   "source": [
    "# Exclude patients with missing treatment information (ie, LineNumber == 0)\n",
    "chaarted_adt = chaarted_adt[~chaarted_adt.PatientID.isin(zero)]"
   ]
  },
  {
   "cell_type": "code",
   "execution_count": 29,
   "id": "653fdd4b",
   "metadata": {},
   "outputs": [
    {
     "data": {
      "text/plain": [
       "(10117, 10117)"
      ]
     },
     "execution_count": 29,
     "metadata": {},
     "output_type": "execute_result"
    }
   ],
   "source": [
    "row_ID(chaarted_adt)"
   ]
  },
  {
   "cell_type": "code",
   "execution_count": 30,
   "id": "4e125c36",
   "metadata": {},
   "outputs": [],
   "source": [
    "line_therapy = line_therapy.query('LineSetting != \"nmCRPC\"')"
   ]
  },
  {
   "cell_type": "code",
   "execution_count": 31,
   "id": "5d33b278",
   "metadata": {},
   "outputs": [],
   "source": [
    "# List of FDA approved drugs for mPC as of July 2023. Clinical study drug is also included. \n",
    "fda_yes = [\n",
    "    'Abiraterone',\n",
    "    'Apalutamide',\n",
    "    'Cabazitaxel',\n",
    "    'Carboplatin',\n",
    "    'Cisplatin',\n",
    "    'Darolutamide',\n",
    "    'Docetaxel',\n",
    "    'Enzalutamide',\n",
    "    'Mitoxantrone',\n",
    "    'Olaparib',\n",
    "    'Oxaliplatin',\n",
    "    'Paclitaxel',\n",
    "    'Pembrolizumab',\n",
    "    'Radium-223',\n",
    "    'Rucaparib',\n",
    "    'Sipuleucel-T',\n",
    "    'Clinical Study Drug'\n",
    "]"
   ]
  },
  {
   "cell_type": "code",
   "execution_count": 32,
   "id": "dd3ab283",
   "metadata": {},
   "outputs": [],
   "source": [
    "line_therapy = line_therapy[line_therapy['LineName'].str.contains('|'.join(fda_yes))]"
   ]
  },
  {
   "cell_type": "code",
   "execution_count": 33,
   "id": "e5ced3c1",
   "metadata": {},
   "outputs": [],
   "source": [
    "line_therapy = (\n",
    "    line_therapy\n",
    "    .sort_values(by = ['PatientID', 'StartDate'], ascending = [True, True])\n",
    ")"
   ]
  },
  {
   "cell_type": "code",
   "execution_count": 34,
   "id": "e8ce1a50",
   "metadata": {},
   "outputs": [],
   "source": [
    "line_therapy['line_number'] = (\n",
    "    line_therapy.groupby('PatientID')['LineNumber'].cumcount()+1\n",
    ")"
   ]
  },
  {
   "cell_type": "code",
   "execution_count": 35,
   "id": "af8cb1b6",
   "metadata": {},
   "outputs": [],
   "source": [
    "# First line therapy is in castrate-resistant setting \n",
    "fl_crpc = (\n",
    "    line_therapy[line_therapy.PatientID.isin(chaarted_adt.PatientID)]\n",
    "    .query('line_number == 1 & LineSetting == \"mCRPC\"')\n",
    "    .PatientID\n",
    ")"
   ]
  },
  {
   "cell_type": "code",
   "execution_count": 36,
   "id": "e7b86d86",
   "metadata": {},
   "outputs": [],
   "source": [
    "# Never received therapy other than ADT\n",
    "notrt_adt = (\n",
    "    chaarted_adt[~chaarted_adt.PatientID.isin(line_therapy.PatientID)]\n",
    "    .PatientID\n",
    ")"
   ]
  },
  {
   "cell_type": "code",
   "execution_count": 37,
   "id": "320d3f77",
   "metadata": {},
   "outputs": [],
   "source": [
    "adt_IDs = np.concatenate((fl_crpc, notrt_adt))"
   ]
  },
  {
   "cell_type": "code",
   "execution_count": 38,
   "id": "020ecb8d",
   "metadata": {},
   "outputs": [
    {
     "data": {
      "text/plain": [
       "6218"
      ]
     },
     "execution_count": 38,
     "metadata": {},
     "output_type": "execute_result"
    }
   ],
   "source": [
    "len(adt_IDs)"
   ]
  },
  {
   "cell_type": "code",
   "execution_count": 39,
   "id": "e0645767",
   "metadata": {},
   "outputs": [],
   "source": [
    "chaarted_adt = chaarted_adt[chaarted_adt.PatientID.isin(adt_IDs)]"
   ]
  },
  {
   "cell_type": "code",
   "execution_count": 40,
   "id": "ce0897d0",
   "metadata": {},
   "outputs": [],
   "source": [
    "chaarted_adt.loc[:,'adt_dotx'] = 0"
   ]
  },
  {
   "cell_type": "code",
   "execution_count": 41,
   "id": "54d318c4",
   "metadata": {},
   "outputs": [
    {
     "data": {
      "text/plain": [
       "(6218, 6218)"
      ]
     },
     "execution_count": 41,
     "metadata": {},
     "output_type": "execute_result"
    }
   ],
   "source": [
    "row_ID(chaarted_adt)"
   ]
  },
  {
   "cell_type": "code",
   "execution_count": 42,
   "id": "d1b22536",
   "metadata": {
    "scrolled": true
   },
   "outputs": [
    {
     "data": {
      "text/html": [
       "<div>\n",
       "<style scoped>\n",
       "    .dataframe tbody tr th:only-of-type {\n",
       "        vertical-align: middle;\n",
       "    }\n",
       "\n",
       "    .dataframe tbody tr th {\n",
       "        vertical-align: top;\n",
       "    }\n",
       "\n",
       "    .dataframe thead th {\n",
       "        text-align: right;\n",
       "    }\n",
       "</style>\n",
       "<table border=\"1\" class=\"dataframe\">\n",
       "  <thead>\n",
       "    <tr style=\"text-align: right;\">\n",
       "      <th></th>\n",
       "      <th>PatientID</th>\n",
       "      <th>Gender</th>\n",
       "      <th>race</th>\n",
       "      <th>ethnicity</th>\n",
       "      <th>age</th>\n",
       "      <th>p_type</th>\n",
       "      <th>NStage</th>\n",
       "      <th>MStage</th>\n",
       "      <th>Histology</th>\n",
       "      <th>GleasonScore</th>\n",
       "      <th>...</th>\n",
       "      <th>other_met</th>\n",
       "      <th>prim_treatment</th>\n",
       "      <th>early_adt</th>\n",
       "      <th>risk_score</th>\n",
       "      <th>StartDate_adt</th>\n",
       "      <th>MetDiagnosisDate</th>\n",
       "      <th>CRPCDate</th>\n",
       "      <th>adt_diff</th>\n",
       "      <th>crpc_diff</th>\n",
       "      <th>adt_dotx</th>\n",
       "    </tr>\n",
       "  </thead>\n",
       "  <tbody>\n",
       "    <tr>\n",
       "      <th>17334</th>\n",
       "      <td>F47E44E24B0A0</td>\n",
       "      <td>M</td>\n",
       "      <td>white</td>\n",
       "      <td>unknown</td>\n",
       "      <td>59</td>\n",
       "      <td>COMMUNITY</td>\n",
       "      <td>N1</td>\n",
       "      <td>M1</td>\n",
       "      <td>Adenocarcinoma</td>\n",
       "      <td>9</td>\n",
       "      <td>...</td>\n",
       "      <td>0.0</td>\n",
       "      <td>unknown</td>\n",
       "      <td>0.0</td>\n",
       "      <td>-0.515222</td>\n",
       "      <td>2018-07-09</td>\n",
       "      <td>2018-06-05</td>\n",
       "      <td>2019-07-22</td>\n",
       "      <td>34.0</td>\n",
       "      <td>412.0</td>\n",
       "      <td>0</td>\n",
       "    </tr>\n",
       "    <tr>\n",
       "      <th>293</th>\n",
       "      <td>FB68DF457200F</td>\n",
       "      <td>M</td>\n",
       "      <td>white</td>\n",
       "      <td>unknown</td>\n",
       "      <td>67</td>\n",
       "      <td>COMMUNITY</td>\n",
       "      <td>N1</td>\n",
       "      <td>M1b</td>\n",
       "      <td>Adenocarcinoma</td>\n",
       "      <td>8</td>\n",
       "      <td>...</td>\n",
       "      <td>0.0</td>\n",
       "      <td>unknown</td>\n",
       "      <td>0.0</td>\n",
       "      <td>1.529357</td>\n",
       "      <td>2016-11-03</td>\n",
       "      <td>2016-11-03</td>\n",
       "      <td>NaT</td>\n",
       "      <td>0.0</td>\n",
       "      <td>NaN</td>\n",
       "      <td>0</td>\n",
       "    </tr>\n",
       "    <tr>\n",
       "      <th>12758</th>\n",
       "      <td>F2E077906D1D7</td>\n",
       "      <td>M</td>\n",
       "      <td>white</td>\n",
       "      <td>unknown</td>\n",
       "      <td>75</td>\n",
       "      <td>COMMUNITY</td>\n",
       "      <td>Unknown / Not documented</td>\n",
       "      <td>M1b</td>\n",
       "      <td>Adenocarcinoma</td>\n",
       "      <td>3 + 4 = 7</td>\n",
       "      <td>...</td>\n",
       "      <td>0.0</td>\n",
       "      <td>unknown</td>\n",
       "      <td>0.0</td>\n",
       "      <td>-0.577161</td>\n",
       "      <td>2017-11-09</td>\n",
       "      <td>2017-09-21</td>\n",
       "      <td>NaT</td>\n",
       "      <td>49.0</td>\n",
       "      <td>NaN</td>\n",
       "      <td>0</td>\n",
       "    </tr>\n",
       "  </tbody>\n",
       "</table>\n",
       "<p>3 rows × 235 columns</p>\n",
       "</div>"
      ],
      "text/plain": [
       "           PatientID Gender   race ethnicity  age     p_type  \\\n",
       "17334  F47E44E24B0A0      M  white   unknown   59  COMMUNITY   \n",
       "293    FB68DF457200F      M  white   unknown   67  COMMUNITY   \n",
       "12758  F2E077906D1D7      M  white   unknown   75  COMMUNITY   \n",
       "\n",
       "                         NStage MStage       Histology GleasonScore  ...  \\\n",
       "17334                        N1     M1  Adenocarcinoma            9  ...   \n",
       "293                          N1    M1b  Adenocarcinoma            8  ...   \n",
       "12758  Unknown / Not documented    M1b  Adenocarcinoma    3 + 4 = 7  ...   \n",
       "\n",
       "       other_met  prim_treatment early_adt  risk_score  StartDate_adt  \\\n",
       "17334        0.0         unknown       0.0   -0.515222     2018-07-09   \n",
       "293          0.0         unknown       0.0    1.529357     2016-11-03   \n",
       "12758        0.0         unknown       0.0   -0.577161     2017-11-09   \n",
       "\n",
       "       MetDiagnosisDate   CRPCDate  adt_diff  crpc_diff  adt_dotx  \n",
       "17334        2018-06-05 2019-07-22      34.0      412.0         0  \n",
       "293          2016-11-03        NaT       0.0        NaN         0  \n",
       "12758        2017-09-21        NaT      49.0        NaN         0  \n",
       "\n",
       "[3 rows x 235 columns]"
      ]
     },
     "execution_count": 42,
     "metadata": {},
     "output_type": "execute_result"
    }
   ],
   "source": [
    "chaarted_adt.sample(3)"
   ]
  },
  {
   "cell_type": "markdown",
   "id": "4341ba11",
   "metadata": {},
   "source": [
    "#### Docetaxel + ADT"
   ]
  },
  {
   "cell_type": "code",
   "execution_count": 43,
   "id": "ba2091bc",
   "metadata": {},
   "outputs": [],
   "source": [
    "# Find those that start ADT within -120 to 90 days of metastaic diagnosis \n",
    "chaarted_dotx = (\n",
    "    df_full\n",
    "    .assign(adt_diff = (df_full['StartDate_adt'] - df_full['MetDiagnosisDate']).dt.days)\n",
    "    .query('adt_diff >= -120 and adt_diff <= 90')\n",
    ")"
   ]
  },
  {
   "cell_type": "code",
   "execution_count": 44,
   "id": "c456f587",
   "metadata": {},
   "outputs": [],
   "source": [
    "# Find all that have missing CPRC date or date is >90 days metastatic diagnosis \n",
    "chaarted_dotx = (\n",
    "    chaarted_dotx\n",
    "    .assign(crpc_diff = (chaarted_dotx['CRPCDate'] - chaarted_dotx['MetDiagnosisDate']).dt.days)\n",
    "    .query('crpc_diff > 90 or CRPCDate.isna()', engine = 'python')\n",
    ")"
   ]
  },
  {
   "cell_type": "code",
   "execution_count": 45,
   "id": "aa393c04",
   "metadata": {},
   "outputs": [
    {
     "data": {
      "text/plain": [
       "(10475, 10475)"
      ]
     },
     "execution_count": 45,
     "metadata": {},
     "output_type": "execute_result"
    }
   ],
   "source": [
    "row_ID(chaarted_dotx)"
   ]
  },
  {
   "cell_type": "code",
   "execution_count": 46,
   "id": "e84cfb70",
   "metadata": {},
   "outputs": [],
   "source": [
    "line_therapy = pd.read_csv('LineOfTherapy.csv')"
   ]
  },
  {
   "cell_type": "code",
   "execution_count": 47,
   "id": "80575d06",
   "metadata": {},
   "outputs": [],
   "source": [
    "# Find start time of first line of mHSPC therapy. \n",
    "line_therapy_fl = (\n",
    "    line_therapy[line_therapy['PatientID'].isin(chaarted_dotx['PatientID'])]\n",
    "    .query('LineSetting == \"mHSPC\"')\n",
    "    .sort_values(by = ['PatientID', 'StartDate'], ascending = [True, True])\n",
    "    .drop_duplicates(subset = ['PatientID'], keep = 'first')\n",
    "    .rename(columns = {'StartDate': 'StartDate_dotx'})\n",
    ")"
   ]
  },
  {
   "cell_type": "code",
   "execution_count": 48,
   "id": "51f98d17",
   "metadata": {},
   "outputs": [
    {
     "data": {
      "text/plain": [
       "(4042, 4042)"
      ]
     },
     "execution_count": 48,
     "metadata": {},
     "output_type": "execute_result"
    }
   ],
   "source": [
    "row_ID(line_therapy_fl)"
   ]
  },
  {
   "cell_type": "code",
   "execution_count": 49,
   "id": "8ed39470",
   "metadata": {},
   "outputs": [],
   "source": [
    "line_therapy_fl.loc[:, 'StartDate_dotx'] = pd.to_datetime(line_therapy_fl['StartDate_dotx'])"
   ]
  },
  {
   "cell_type": "code",
   "execution_count": 50,
   "id": "c599e642",
   "metadata": {},
   "outputs": [
    {
     "data": {
      "text/plain": [
       "Docetaxel                                         1363\n",
       "Abiraterone,Docetaxel                               27\n",
       "Carboplatin,Docetaxel                               12\n",
       "Clinical Study Drug,Docetaxel                       11\n",
       "Darolutamide,Docetaxel                               9\n",
       "Docetaxel,Enzalutamide                               6\n",
       "Carboplatin,Docetaxel,Estramustine                   5\n",
       "Docetaxel,Ketoconazole                               3\n",
       "Apalutamide,Docetaxel                                2\n",
       "Carboplatin,Docetaxel,Estramustine,Thalidomide       2\n",
       "Name: LineName, dtype: int64"
      ]
     },
     "execution_count": 50,
     "metadata": {},
     "output_type": "execute_result"
    }
   ],
   "source": [
    "line_therapy_fl[line_therapy_fl['LineName'].str.contains('Docetaxel')].LineName.value_counts().head(10)"
   ]
  },
  {
   "cell_type": "code",
   "execution_count": 51,
   "id": "5d329517",
   "metadata": {},
   "outputs": [],
   "source": [
    "line_dotx = line_therapy_fl.query('LineName == \"Docetaxel\"')"
   ]
  },
  {
   "cell_type": "code",
   "execution_count": 52,
   "id": "ef573b92",
   "metadata": {},
   "outputs": [
    {
     "data": {
      "text/plain": [
       "(1363, 1363)"
      ]
     },
     "execution_count": 52,
     "metadata": {},
     "output_type": "execute_result"
    }
   ],
   "source": [
    "row_ID(line_dotx)"
   ]
  },
  {
   "cell_type": "code",
   "execution_count": 53,
   "id": "dadef9df",
   "metadata": {},
   "outputs": [],
   "source": [
    "chaarted_dotx = pd.merge(chaarted_dotx, line_dotx[['PatientID', 'StartDate_dotx']], on = 'PatientID', how = 'inner')"
   ]
  },
  {
   "cell_type": "code",
   "execution_count": 54,
   "id": "5b0f304a",
   "metadata": {},
   "outputs": [
    {
     "data": {
      "text/plain": [
       "(1363, 1363)"
      ]
     },
     "execution_count": 54,
     "metadata": {},
     "output_type": "execute_result"
    }
   ],
   "source": [
    "row_ID(chaarted_dotx)"
   ]
  },
  {
   "cell_type": "code",
   "execution_count": 55,
   "id": "9fd76f55",
   "metadata": {},
   "outputs": [],
   "source": [
    "# Find all patients that start enzalutamide within 180 days of metastatic diagnosis\n",
    "chaarted_dotx = (\n",
    "    chaarted_dotx\n",
    "    .assign(fl_diff = (chaarted_dotx['StartDate_dotx'] - chaarted_dotx['StartDate_adt']).dt.days)\n",
    "    .query('fl_diff >= -90 and fl_diff <= 90')\n",
    ")"
   ]
  },
  {
   "cell_type": "code",
   "execution_count": 56,
   "id": "41f647df",
   "metadata": {},
   "outputs": [
    {
     "data": {
      "text/plain": [
       "1179"
      ]
     },
     "execution_count": 56,
     "metadata": {},
     "output_type": "execute_result"
    }
   ],
   "source": [
    "len(chaarted_dotx)"
   ]
  },
  {
   "cell_type": "code",
   "execution_count": 57,
   "id": "41c83ef1",
   "metadata": {},
   "outputs": [],
   "source": [
    "chaarted_dotx.loc[:,'adt_dotx'] = 1"
   ]
  },
  {
   "cell_type": "markdown",
   "id": "ae960ec0",
   "metadata": {},
   "source": [
    "#### Docetaxel dosing"
   ]
  },
  {
   "cell_type": "code",
   "execution_count": 58,
   "id": "50db58ae",
   "metadata": {},
   "outputs": [],
   "source": [
    "med_order = pd.read_csv('MedicationOrder.csv', low_memory = False)"
   ]
  },
  {
   "cell_type": "code",
   "execution_count": 59,
   "id": "4c71be1a",
   "metadata": {},
   "outputs": [],
   "source": [
    "med_order['ExpectedStartDate'] = np.where(med_order['ExpectedStartDate'].isna(), \n",
    "                                          med_order['OrderedDate'], \n",
    "                                          med_order['ExpectedStartDate'])"
   ]
  },
  {
   "cell_type": "code",
   "execution_count": 60,
   "id": "16b981d3",
   "metadata": {},
   "outputs": [],
   "source": [
    "med_order.loc[:, 'ExpectedStartDate'] = pd.to_datetime(med_order['ExpectedStartDate'])"
   ]
  },
  {
   "cell_type": "code",
   "execution_count": 61,
   "id": "d7bf118e",
   "metadata": {},
   "outputs": [],
   "source": [
    "chaarted_dotx['StartDate_dotx'] = pd.to_datetime(chaarted_dotx['StartDate_dotx'])"
   ]
  },
  {
   "cell_type": "code",
   "execution_count": 62,
   "id": "d413901d",
   "metadata": {},
   "outputs": [],
   "source": [
    "med_order_dotx = (\n",
    "    med_order[med_order['PatientID'].isin(chaarted_dotx.PatientID)]\n",
    "    .query('CommonDrugName == \"docetaxel\"')\n",
    ")"
   ]
  },
  {
   "cell_type": "code",
   "execution_count": 63,
   "id": "598628bf",
   "metadata": {},
   "outputs": [
    {
     "data": {
      "text/plain": [
       "(9407, 18)"
      ]
     },
     "execution_count": 63,
     "metadata": {},
     "output_type": "execute_result"
    }
   ],
   "source": [
    "med_order_dotx.shape"
   ]
  },
  {
   "cell_type": "code",
   "execution_count": 64,
   "id": "530eaed2",
   "metadata": {},
   "outputs": [],
   "source": [
    "med_order_dotx = pd.merge(med_order_dotx, \n",
    "                          chaarted_dotx[['PatientID', 'StartDate_dotx']], \n",
    "                          on = 'PatientID', \n",
    "                          how = 'left')"
   ]
  },
  {
   "cell_type": "code",
   "execution_count": 65,
   "id": "02e3a4ee",
   "metadata": {},
   "outputs": [
    {
     "data": {
      "text/plain": [
       "(9407, 19)"
      ]
     },
     "execution_count": 65,
     "metadata": {},
     "output_type": "execute_result"
    }
   ],
   "source": [
    "med_order_dotx.shape"
   ]
  },
  {
   "cell_type": "code",
   "execution_count": 66,
   "id": "ebeae4f2",
   "metadata": {},
   "outputs": [],
   "source": [
    "med_order_dotx.loc[:, 'date_diff'] = (med_order_dotx['ExpectedStartDate'] - med_order_dotx['StartDate_dotx']).dt.days.abs()"
   ]
  },
  {
   "cell_type": "code",
   "execution_count": 67,
   "id": "9c8518e8",
   "metadata": {},
   "outputs": [],
   "source": [
    "med_order_dotx = med_order_dotx.query('date_diff <= 14')"
   ]
  },
  {
   "cell_type": "code",
   "execution_count": 68,
   "id": "dbc17f96",
   "metadata": {},
   "outputs": [],
   "source": [
    "dotx_index = med_order_dotx.groupby('PatientID')['date_diff'].idxmin()"
   ]
  },
  {
   "cell_type": "code",
   "execution_count": 69,
   "id": "305d4082",
   "metadata": {},
   "outputs": [],
   "source": [
    "dotx_dose = med_order_dotx.loc[dotx_index].query('RelativeOrderedUnits == \"mg/m2\"')[['PatientID', 'RelativeOrderedAmount']]"
   ]
  },
  {
   "cell_type": "code",
   "execution_count": 70,
   "id": "b89fe683",
   "metadata": {},
   "outputs": [],
   "source": [
    "dotx_dose = dotx_dose.rename(columns = {'RelativeOrderedAmount': 'dotx_dose_mgm2'})"
   ]
  },
  {
   "cell_type": "code",
   "execution_count": 71,
   "id": "fe618629",
   "metadata": {},
   "outputs": [],
   "source": [
    "dotx_IDs = dotx_dose.query('dotx_dose_mgm2 >= 75').PatientID"
   ]
  },
  {
   "cell_type": "code",
   "execution_count": 72,
   "id": "ff865352",
   "metadata": {},
   "outputs": [],
   "source": [
    "chaarted_dotx = chaarted_dotx[chaarted_dotx['PatientID'].isin(dotx_IDs)]"
   ]
  },
  {
   "cell_type": "code",
   "execution_count": 73,
   "id": "e463bc01",
   "metadata": {},
   "outputs": [],
   "source": [
    "chaarted = pd.concat([chaarted_adt, chaarted_dotx])"
   ]
  },
  {
   "cell_type": "code",
   "execution_count": 74,
   "id": "a7648d31",
   "metadata": {},
   "outputs": [
    {
     "data": {
      "text/plain": [
       "(7166, 7166)"
      ]
     },
     "execution_count": 74,
     "metadata": {},
     "output_type": "execute_result"
    }
   ],
   "source": [
    "row_ID(chaarted)"
   ]
  },
  {
   "cell_type": "markdown",
   "id": "9149a2d3",
   "metadata": {},
   "source": [
    "#### Time from ADT treatment to death or censor "
   ]
  },
  {
   "cell_type": "code",
   "execution_count": 75,
   "id": "f6015411",
   "metadata": {},
   "outputs": [],
   "source": [
    "mortality_tr = pd.read_csv('mortality_cleaned_tr.csv')"
   ]
  },
  {
   "cell_type": "code",
   "execution_count": 76,
   "id": "9a9ae3e6",
   "metadata": {},
   "outputs": [],
   "source": [
    "mortality_te = pd.read_csv('mortality_cleaned_te.csv')"
   ]
  },
  {
   "cell_type": "code",
   "execution_count": 77,
   "id": "ec96986e",
   "metadata": {},
   "outputs": [],
   "source": [
    "mortality_tr = mortality_tr[['PatientID', 'death_date', 'last_activity']]"
   ]
  },
  {
   "cell_type": "code",
   "execution_count": 78,
   "id": "8f5e7d3c",
   "metadata": {},
   "outputs": [],
   "source": [
    "mortality_te = mortality_te[['PatientID', 'death_date', 'last_activity']]"
   ]
  },
  {
   "cell_type": "code",
   "execution_count": 79,
   "id": "1fc07864",
   "metadata": {},
   "outputs": [
    {
     "data": {
      "text/plain": [
       "(18927, 18927)"
      ]
     },
     "execution_count": 79,
     "metadata": {},
     "output_type": "execute_result"
    }
   ],
   "source": [
    "mortality = pd.concat([mortality_tr, mortality_te], ignore_index = True)\n",
    "row_ID(mortality)"
   ]
  },
  {
   "cell_type": "code",
   "execution_count": 80,
   "id": "a067907c",
   "metadata": {},
   "outputs": [],
   "source": [
    "mortality.loc[:, 'last_activity'] = pd.to_datetime(mortality['last_activity'])"
   ]
  },
  {
   "cell_type": "code",
   "execution_count": 81,
   "id": "14b45f1a",
   "metadata": {},
   "outputs": [],
   "source": [
    "mortality.loc[:, 'death_date'] = pd.to_datetime(mortality['death_date'])"
   ]
  },
  {
   "cell_type": "code",
   "execution_count": 82,
   "id": "4bbb658b",
   "metadata": {},
   "outputs": [
    {
     "data": {
      "text/plain": [
       "18927"
      ]
     },
     "execution_count": 82,
     "metadata": {},
     "output_type": "execute_result"
    }
   ],
   "source": [
    "len(mortality)"
   ]
  },
  {
   "cell_type": "code",
   "execution_count": 83,
   "id": "076ef358",
   "metadata": {},
   "outputs": [],
   "source": [
    "chaarted = pd.merge(chaarted, mortality, on = 'PatientID')"
   ]
  },
  {
   "cell_type": "code",
   "execution_count": 84,
   "id": "ad6f417d",
   "metadata": {},
   "outputs": [
    {
     "data": {
      "text/plain": [
       "(7166, 7166)"
      ]
     },
     "execution_count": 84,
     "metadata": {},
     "output_type": "execute_result"
    }
   ],
   "source": [
    "row_ID(chaarted)"
   ]
  },
  {
   "cell_type": "code",
   "execution_count": 85,
   "id": "7c228ba2",
   "metadata": {},
   "outputs": [],
   "source": [
    "conditions = [\n",
    "    (chaarted['death_status'] == 1),\n",
    "    (chaarted['death_status'] == 0)]\n",
    "\n",
    "choices = [\n",
    "    (chaarted['death_date'] - chaarted['StartDate_adt']).dt.days,\n",
    "    (chaarted['last_activity'] - chaarted['StartDate_adt']).dt.days]\n",
    "\n",
    "chaarted.loc[:, 'timerisk_treatment'] = np.select(conditions, choices)\n",
    "\n",
    "chaarted = chaarted.query('timerisk_treatment >= 0')"
   ]
  },
  {
   "cell_type": "markdown",
   "id": "63c2a451",
   "metadata": {},
   "source": [
    "#### Patient count "
   ]
  },
  {
   "cell_type": "code",
   "execution_count": 86,
   "id": "1051e9cb",
   "metadata": {},
   "outputs": [],
   "source": [
    "low_cutoff_chaarted = chaarted.risk_score.quantile(1/3)"
   ]
  },
  {
   "cell_type": "code",
   "execution_count": 87,
   "id": "11951785",
   "metadata": {},
   "outputs": [],
   "source": [
    "high_cutoff_chaarted = chaarted.risk_score.quantile(2/3)"
   ]
  },
  {
   "cell_type": "code",
   "execution_count": 88,
   "id": "7969a38e",
   "metadata": {},
   "outputs": [
    {
     "name": "stdout",
     "output_type": "stream",
     "text": [
      "Docetaxel + ADT: 948\n",
      "High risk: 241\n",
      "Med risk: 346\n",
      "Low risk: 361\n"
     ]
    }
   ],
   "source": [
    "print('Docetaxel + ADT:',  chaarted.query('adt_dotx == 1').shape[0])\n",
    "print('High risk:', chaarted.query('adt_dotx == 1').query('risk_score >= @high_cutoff_chaarted').shape[0])\n",
    "print('Med risk:', chaarted.query('adt_dotx == 1').query('risk_score < @high_cutoff_chaarted and risk_score > @low_cutoff_chaarted').shape[0])\n",
    "print('Low risk:', chaarted.query('adt_dotx == 1').query('risk_score <= @low_cutoff_chaarted').shape[0])"
   ]
  },
  {
   "cell_type": "code",
   "execution_count": 89,
   "id": "41e3a770",
   "metadata": {},
   "outputs": [
    {
     "name": "stdout",
     "output_type": "stream",
     "text": [
      "ADT: 6218\n",
      "High risk: 2148\n",
      "Med risk: 2042\n",
      "Low risk: 2028\n"
     ]
    }
   ],
   "source": [
    "print('ADT:',  chaarted.query('adt_dotx == 0').shape[0])\n",
    "print('High risk:', chaarted.query('adt_dotx == 0').query('risk_score >= @high_cutoff_chaarted').shape[0])\n",
    "print('Med risk:', chaarted.query('adt_dotx == 0').query('risk_score < @high_cutoff_chaarted and risk_score > @low_cutoff_chaarted').shape[0])\n",
    "print('Low risk:', chaarted.query('adt_dotx == 0').query('risk_score <= @low_cutoff_chaarted').shape[0])"
   ]
  },
  {
   "cell_type": "markdown",
   "id": "ded5c171",
   "metadata": {},
   "source": [
    "#### Survival curves with covariate balancing "
   ]
  },
  {
   "cell_type": "code",
   "execution_count": 91,
   "id": "8c714a96",
   "metadata": {},
   "outputs": [],
   "source": [
    "chaarted = chaarted.set_index('PatientID')"
   ]
  },
  {
   "cell_type": "code",
   "execution_count": 92,
   "id": "a4ef2161",
   "metadata": {},
   "outputs": [],
   "source": [
    "chaarted['met_cat'] = pd.cut(chaarted['met_year'],\n",
    "                             bins = [2010, 2015, float('inf')],\n",
    "                             labels = ['11-15', '16-22'])"
   ]
  },
  {
   "cell_type": "code",
   "execution_count": 93,
   "id": "84c3c05d",
   "metadata": {},
   "outputs": [],
   "source": [
    "conditions = [\n",
    "    ((chaarted['ecog_diagnosis'] == \"1.0\") | (chaarted['ecog_diagnosis'] == \"0.0\")),  \n",
    "    ((chaarted['ecog_diagnosis'] == \"2.0\") | (chaarted['ecog_diagnosis'] == \"3.0\"))\n",
    "]\n",
    "\n",
    "choices = ['lt_2', 'gte_2']\n",
    "\n",
    "chaarted['ecog_2'] = np.select(conditions, choices, default = 'unknown')"
   ]
  },
  {
   "cell_type": "code",
   "execution_count": 94,
   "id": "7171ff54",
   "metadata": {},
   "outputs": [],
   "source": [
    "chaarted_iptw = chaarted.filter(items = ['death_status',\n",
    "                                         'timerisk_treatment',\n",
    "                                         'adt_dotx',\n",
    "                                         'age',\n",
    "                                         'race',\n",
    "                                         'p_type',\n",
    "                                         'met_cat',\n",
    "                                         'delta_met_diagnosis',\n",
    "                                         'commercial',\n",
    "                                         'medicare',\n",
    "                                         'medicaid',\n",
    "                                         'ecog_2',\n",
    "                                         'prim_treatment',\n",
    "                                         'PSAMetDiagnosis',\n",
    "                                         'risk_score'])"
   ]
  },
  {
   "cell_type": "code",
   "execution_count": 95,
   "id": "dfdd1355",
   "metadata": {},
   "outputs": [
    {
     "data": {
      "text/plain": [
       "death_status               bool\n",
       "timerisk_treatment      float64\n",
       "adt_dotx                  int64\n",
       "age                       int64\n",
       "race                     object\n",
       "p_type                   object\n",
       "met_cat                category\n",
       "delta_met_diagnosis       int64\n",
       "commercial              float64\n",
       "medicare                float64\n",
       "medicaid                float64\n",
       "ecog_2                   object\n",
       "prim_treatment           object\n",
       "PSAMetDiagnosis         float64\n",
       "risk_score              float64\n",
       "dtype: object"
      ]
     },
     "execution_count": 95,
     "metadata": {},
     "output_type": "execute_result"
    }
   ],
   "source": [
    "chaarted_iptw.dtypes"
   ]
  },
  {
   "cell_type": "code",
   "execution_count": 96,
   "id": "371c52e6",
   "metadata": {},
   "outputs": [],
   "source": [
    "to_be_categorical = list(chaarted_iptw.select_dtypes(include = ['object']).columns)"
   ]
  },
  {
   "cell_type": "code",
   "execution_count": 97,
   "id": "8da20eb6",
   "metadata": {},
   "outputs": [
    {
     "data": {
      "text/plain": [
       "['race', 'p_type', 'ecog_2', 'prim_treatment']"
      ]
     },
     "execution_count": 97,
     "metadata": {},
     "output_type": "execute_result"
    }
   ],
   "source": [
    "to_be_categorical"
   ]
  },
  {
   "cell_type": "code",
   "execution_count": 98,
   "id": "23bd40f0",
   "metadata": {},
   "outputs": [],
   "source": [
    "to_be_categorical.append('met_cat')"
   ]
  },
  {
   "cell_type": "code",
   "execution_count": 99,
   "id": "20a368db",
   "metadata": {},
   "outputs": [],
   "source": [
    "# Convert variables in list to categorical.\n",
    "for x in list(to_be_categorical):\n",
    "    chaarted_iptw[x] = chaarted_iptw[x].astype('category')"
   ]
  },
  {
   "cell_type": "code",
   "execution_count": 100,
   "id": "45607bb3",
   "metadata": {},
   "outputs": [],
   "source": [
    "# List of numeric variables, excluding binary variables. \n",
    "numerical_features = ['age', 'delta_met_diagnosis', 'PSAMetDiagnosis']\n",
    "\n",
    "# Transformer will first calculate column median and impute, and then apply a standard scaler. \n",
    "numerical_transformer = Pipeline(steps = [\n",
    "    ('imputer', SimpleImputer(strategy = 'median')),\n",
    "    ('std_scaler', StandardScaler())])"
   ]
  },
  {
   "cell_type": "code",
   "execution_count": 101,
   "id": "3af7db85",
   "metadata": {},
   "outputs": [],
   "source": [
    "# List of categorical features.\n",
    "categorical_features = list(chaarted_iptw.select_dtypes(include = ['category']).columns)\n",
    "\n",
    "# One-hot-encode categorical features.\n",
    "categorical_transformer = OneHotEncoder(handle_unknown = 'ignore')"
   ]
  },
  {
   "cell_type": "code",
   "execution_count": 102,
   "id": "821e3fa2",
   "metadata": {},
   "outputs": [],
   "source": [
    "preprocessor = ColumnTransformer(\n",
    "    transformers = [\n",
    "        ('num', numerical_transformer, numerical_features),\n",
    "        ('cat', categorical_transformer, categorical_features)],\n",
    "    remainder = 'passthrough')"
   ]
  },
  {
   "cell_type": "code",
   "execution_count": 103,
   "id": "89ad9e2b",
   "metadata": {},
   "outputs": [],
   "source": [
    "chaarted_iptw_low = (\n",
    "    chaarted_iptw\n",
    "    .query('risk_score <= @low_cutoff_chaarted')\n",
    "    .drop(columns = ['risk_score']))\n",
    "\n",
    "chaarted_iptw_med = (\n",
    "    chaarted_iptw\n",
    "    .query('risk_score < @high_cutoff_chaarted and risk_score > @low_cutoff_chaarted')\n",
    "    .drop(columns = ['risk_score']))\n",
    "\n",
    "chaarted_iptw_high = (\n",
    "    chaarted_iptw\n",
    "    .query('risk_score >= @high_cutoff_chaarted')\n",
    "    .drop(columns = ['risk_score']))\n",
    "\n",
    "chaarted_iptw_all = (\n",
    "    chaarted_iptw\n",
    "    .drop(columns = ['risk_score']))"
   ]
  },
  {
   "cell_type": "code",
   "execution_count": 104,
   "id": "60538f52",
   "metadata": {},
   "outputs": [],
   "source": [
    "chaarted_low_x = preprocessor.fit_transform(chaarted_iptw_low.filter(items = ['age',\n",
    "                                                                              'race',\n",
    "                                                                              'p_type',\n",
    "                                                                              'delta_met_diagnosis',\n",
    "                                                                              'met_cat',\n",
    "                                                                              'commercial',\n",
    "                                                                              'medicare',\n",
    "                                                                              'medicaid',\n",
    "                                                                              'ecog_2',\n",
    "                                                                              'prim_treatment',\n",
    "                                                                              'PSAMetDiagnosis']))\n",
    "\n",
    "chaarted_med_x = preprocessor.fit_transform(chaarted_iptw_med.filter(items = ['age',\n",
    "                                                                              'race',\n",
    "                                                                              'p_type',\n",
    "                                                                              'delta_met_diagnosis',\n",
    "                                                                              'met_cat',\n",
    "                                                                              'commercial',\n",
    "                                                                              'medicare',\n",
    "                                                                              'medicaid',\n",
    "                                                                              'ecog_2',\n",
    "                                                                              'prim_treatment',\n",
    "                                                                              'PSAMetDiagnosis']))\n",
    "\n",
    "chaarted_high_x = preprocessor.fit_transform(chaarted_iptw_high.filter(items = ['age',\n",
    "                                                                                'race',\n",
    "                                                                                'p_type',\n",
    "                                                                                'delta_met_diagnosis',\n",
    "                                                                                'met_cat',\n",
    "                                                                                'commercial',\n",
    "                                                                                'medicare',\n",
    "                                                                                'medicaid',\n",
    "                                                                                'ecog_2',\n",
    "                                                                                'prim_treatment',\n",
    "                                                                                'PSAMetDiagnosis']))\n",
    "\n",
    "chaarted_all_x = preprocessor.fit_transform(chaarted_iptw_all.filter(items = ['age',\n",
    "                                                                              'race',\n",
    "                                                                              'p_type',\n",
    "                                                                              'delta_met_diagnosis',\n",
    "                                                                              'met_cat',\n",
    "                                                                              'commercial',\n",
    "                                                                              'medicare',\n",
    "                                                                              'medicaid',\n",
    "                                                                              'ecog_2',\n",
    "                                                                              'prim_treatment',\n",
    "                                                                              'PSAMetDiagnosis']))"
   ]
  },
  {
   "cell_type": "code",
   "execution_count": 105,
   "id": "0f1666ea",
   "metadata": {},
   "outputs": [
    {
     "data": {
      "text/plain": [
       "LogisticRegression(max_iter=1000)"
      ]
     },
     "execution_count": 105,
     "metadata": {},
     "output_type": "execute_result"
    }
   ],
   "source": [
    "lr_chaarted_low = LogisticRegression(max_iter = 1000)\n",
    "lr_chaarted_low.fit(chaarted_low_x, chaarted_iptw_low['adt_dotx'])"
   ]
  },
  {
   "cell_type": "code",
   "execution_count": 106,
   "id": "43d5fd62",
   "metadata": {},
   "outputs": [
    {
     "data": {
      "text/plain": [
       "LogisticRegression(max_iter=1000)"
      ]
     },
     "execution_count": 106,
     "metadata": {},
     "output_type": "execute_result"
    }
   ],
   "source": [
    "lr_chaarted_med = LogisticRegression(max_iter = 1000)\n",
    "lr_chaarted_med.fit(chaarted_med_x, chaarted_iptw_med['adt_dotx'])"
   ]
  },
  {
   "cell_type": "code",
   "execution_count": 107,
   "id": "d851b143",
   "metadata": {},
   "outputs": [
    {
     "data": {
      "text/plain": [
       "LogisticRegression(max_iter=1000)"
      ]
     },
     "execution_count": 107,
     "metadata": {},
     "output_type": "execute_result"
    }
   ],
   "source": [
    "lr_chaarted_high = LogisticRegression(max_iter = 1000)\n",
    "lr_chaarted_high.fit(chaarted_high_x, chaarted_iptw_high['adt_dotx'])"
   ]
  },
  {
   "cell_type": "code",
   "execution_count": 108,
   "id": "00bc0d5c",
   "metadata": {},
   "outputs": [
    {
     "data": {
      "text/plain": [
       "LogisticRegression(max_iter=1000)"
      ]
     },
     "execution_count": 108,
     "metadata": {},
     "output_type": "execute_result"
    }
   ],
   "source": [
    "lr_chaarted_all = LogisticRegression(max_iter = 1000)\n",
    "lr_chaarted_all.fit(chaarted_all_x, chaarted_iptw_all['adt_dotx'])"
   ]
  },
  {
   "cell_type": "code",
   "execution_count": 109,
   "id": "05975d90",
   "metadata": {},
   "outputs": [],
   "source": [
    "pred_low = lr_chaarted_low.predict_proba(chaarted_low_x)\n",
    "pred_med = lr_chaarted_med.predict_proba(chaarted_med_x)\n",
    "pred_high = lr_chaarted_high.predict_proba(chaarted_high_x)\n",
    "pred_all = lr_chaarted_all.predict_proba(chaarted_all_x)"
   ]
  },
  {
   "cell_type": "code",
   "execution_count": 110,
   "id": "4bf88b44",
   "metadata": {},
   "outputs": [],
   "source": [
    "chaarted_iptw_low['ps'] = pred_low[:, 1]\n",
    "chaarted_iptw_med['ps'] = pred_med[:, 1]\n",
    "chaarted_iptw_high['ps'] = pred_high[:, 1]\n",
    "chaarted_iptw_all['ps'] = pred_all[:, 1]"
   ]
  },
  {
   "cell_type": "code",
   "execution_count": 111,
   "id": "6c0fc7cc",
   "metadata": {},
   "outputs": [],
   "source": [
    "chaarted_iptw_low['weight'] = (\n",
    "    np.where(chaarted_iptw_low['adt_dotx'] == 1, 1/chaarted_iptw_low['ps'], 1/(1 - chaarted_iptw_low['ps'])))\n",
    "\n",
    "chaarted_iptw_med['weight'] = (\n",
    "    np.where(chaarted_iptw_med['adt_dotx'] == 1, 1/chaarted_iptw_med['ps'], 1/(1 - chaarted_iptw_med['ps'])))\n",
    "\n",
    "chaarted_iptw_high['weight'] = (\n",
    "    np.where(chaarted_iptw_high['adt_dotx'] == 1, 1/chaarted_iptw_high['ps'], 1/(1 - chaarted_iptw_high['ps'])))\n",
    "\n",
    "chaarted_iptw_all['weight'] = (\n",
    "    np.where(chaarted_iptw_all['adt_dotx'] == 1, 1/chaarted_iptw_all['ps'], 1/(1 - chaarted_iptw_all['ps'])))"
   ]
  },
  {
   "cell_type": "code",
   "execution_count": 112,
   "id": "58f02ec9",
   "metadata": {},
   "outputs": [
    {
     "name": "stderr",
     "output_type": "stream",
     "text": [
      "/Users/xavierorcutt/Dropbox/ist_project/myenv/lib/python3.7/site-packages/lifelines/fitters/kaplan_meier_fitter.py:344: StatisticalWarning: It looks like your weights are not integers, possibly propensity scores then?\n",
      "  It's important to know that the naive variance estimates of the coefficients are biased. Instead use Monte Carlo to\n",
      "  estimate the variances. See paper \"Variance estimation when using inverse probability of treatment weighting (IPTW) with survival analysis\"\n",
      "  or \"Adjusted Kaplan-Meier estimator and log-rank test with inverse probability of treatment weighting for survival data.\"\n",
      "                  \n",
      "  StatisticalWarning,\n"
     ]
    },
    {
     "data": {
      "text/plain": [
       "<lifelines.KaplanMeierFitter:\"KM_estimate\", fitted with 7183.91 total observations, 3232.49 right-censored observations>"
      ]
     },
     "execution_count": 112,
     "metadata": {},
     "output_type": "execute_result"
    }
   ],
   "source": [
    "# Low KM curves\n",
    "kmf_low_dotx_chaarted_iptw = KaplanMeierFitter()\n",
    "kmf_low_adt_chaarted_iptw = KaplanMeierFitter()\n",
    "\n",
    "kmf_low_dotx_chaarted_iptw.fit(\n",
    "    chaarted_iptw_low.query('adt_dotx == 1').timerisk_treatment/30,\n",
    "    chaarted_iptw_low.query('adt_dotx == 1').death_status,\n",
    "    weights = chaarted_iptw_low.query('adt_dotx == 1')['weight'])\n",
    "\n",
    "kmf_low_adt_chaarted_iptw.fit(\n",
    "    chaarted_iptw_low.query('adt_dotx == 0').timerisk_treatment/30,\n",
    "    chaarted_iptw_low.query('adt_dotx == 0').death_status,\n",
    "    weights = chaarted_iptw_low.query('adt_dotx == 0')['weight'])\n",
    "\n",
    "# Med KM curves\n",
    "kmf_med_dotx_chaarted_iptw = KaplanMeierFitter()\n",
    "kmf_med_adt_chaarted_iptw = KaplanMeierFitter()\n",
    "\n",
    "kmf_med_dotx_chaarted_iptw.fit(\n",
    "    chaarted_iptw_med.query('adt_dotx == 1').timerisk_treatment/30,\n",
    "    chaarted_iptw_med.query('adt_dotx == 1').death_status,\n",
    "    weights = chaarted_iptw_med.query('adt_dotx == 1')['weight'])\n",
    "\n",
    "kmf_med_adt_chaarted_iptw.fit(\n",
    "    chaarted_iptw_med.query('adt_dotx == 0').timerisk_treatment/30,\n",
    "    chaarted_iptw_med.query('adt_dotx == 0').death_status,\n",
    "    weights = chaarted_iptw_med.query('adt_dotx == 0')['weight'])\n",
    "\n",
    "# High KM curves \n",
    "kmf_high_dotx_chaarted_iptw = KaplanMeierFitter()\n",
    "kmf_high_adt_chaarted_iptw = KaplanMeierFitter()\n",
    "\n",
    "kmf_high_dotx_chaarted_iptw.fit(\n",
    "    chaarted_iptw_high.query('adt_dotx == 1').timerisk_treatment/30,\n",
    "    chaarted_iptw_high.query('adt_dotx == 1').death_status,\n",
    "    weights = chaarted_iptw_high.query('adt_dotx == 1')['weight'])\n",
    "\n",
    "kmf_high_adt_chaarted_iptw.fit(\n",
    "    chaarted_iptw_high.query('adt_dotx == 0').timerisk_treatment/30,\n",
    "    chaarted_iptw_high.query('adt_dotx == 0').death_status,\n",
    "    weights = chaarted_iptw_high.query('adt_dotx == 0')['weight'])\n",
    "\n",
    "# All KM curves \n",
    "kmf_all_dotx_chaarted_iptw = KaplanMeierFitter()\n",
    "kmf_all_adt_chaarted_iptw = KaplanMeierFitter()\n",
    "\n",
    "kmf_all_dotx_chaarted_iptw.fit(\n",
    "    chaarted_iptw_all.query('adt_dotx == 1').timerisk_treatment/30,\n",
    "    chaarted_iptw_all.query('adt_dotx == 1').death_status,\n",
    "    weights = chaarted_iptw_all.query('adt_dotx == 1')['weight'])\n",
    "\n",
    "kmf_all_adt_chaarted_iptw.fit(\n",
    "    chaarted_iptw_all.query('adt_dotx == 0').timerisk_treatment/30,\n",
    "    chaarted_iptw_all.query('adt_dotx == 0').death_status,\n",
    "    weights = chaarted_iptw_all.query('adt_dotx == 0')['weight'])"
   ]
  },
  {
   "cell_type": "code",
   "execution_count": 113,
   "id": "5770f192",
   "metadata": {},
   "outputs": [
    {
     "data": {
      "image/png": "[encoded data removed]",
      "text/plain": [
       "<Figure size 1800x600 with 5 Axes>"
      ]
     },
     "metadata": {},
     "output_type": "display_data"
    }
   ],
   "source": [
    "fig = plt.figure(figsize=(18, 6))\n",
    "\n",
    "# Plot survival curves for low risk group \n",
    "plt.subplot(1, 4, 1)\n",
    "\n",
    "plt.step(kmf_low_dotx_chaarted_iptw.timeline, kmf_low_dotx_chaarted_iptw.survival_function_.values*100, color = 'red', alpha = 0.5)\n",
    "\n",
    "plt.step(kmf_low_adt_chaarted_iptw.timeline, kmf_low_adt_chaarted_iptw.survival_function_.values*100, color = 'black', alpha = 0.5)\n",
    "\n",
    "plt.xticks(np.arange(0, 61, 6))\n",
    "plt.xlim(0, 61)\n",
    "plt.ylim(0, 100)\n",
    "\n",
    "plt.title('Low-risk', weight = 'bold')\n",
    "plt.ylabel('OS (%)', size = 12, weight = 'bold')\n",
    "\n",
    "plt.gca().spines['top'].set_visible(False)\n",
    "plt.gca().spines['right'].set_visible(False)\n",
    "\n",
    "# Plot survival curves for med risk group. \n",
    "plt.subplot(1, 4, 2)\n",
    "\n",
    "plt.step(kmf_med_dotx_chaarted_iptw.timeline, kmf_med_dotx_chaarted_iptw.survival_function_.values*100, color = 'red', alpha = 0.5)\n",
    "\n",
    "plt.step(kmf_med_adt_chaarted_iptw.timeline, kmf_med_adt_chaarted_iptw.survival_function_.values*100, color = 'black', alpha = 0.5)\n",
    "\n",
    "plt.xticks(np.arange(0, 61, 6))\n",
    "plt.xlim(0, 61)\n",
    "plt.ylim(0, 100)\n",
    "\n",
    "plt.title('Med-risk', weight = 'bold')\n",
    "\n",
    "plt.gca().spines['top'].set_visible(False)\n",
    "plt.gca().spines['right'].set_visible(False)\n",
    "\n",
    "# Plot survival curves by treatment for high risk group. \n",
    "plt.subplot(1, 4, 3)\n",
    "\n",
    "plt.step(kmf_high_dotx_chaarted_iptw.timeline, kmf_high_dotx_chaarted_iptw.survival_function_.values*100, color = 'red', alpha = 0.5)\n",
    "\n",
    "plt.step(kmf_high_adt_chaarted_iptw.timeline, kmf_high_adt_chaarted_iptw.survival_function_.values*100, color = 'black', alpha = 0.5)\n",
    "\n",
    "plt.xticks(np.arange(0, 61, 6))\n",
    "plt.xlim(0, 61)\n",
    "plt.ylim(0, 100)\n",
    "\n",
    "plt.title('High-risk', weight = 'bold')\n",
    "\n",
    "plt.gca().spines['top'].set_visible(False)\n",
    "plt.gca().spines['right'].set_visible(False)\n",
    "\n",
    "# Plot survival curves by treatment for all risk group. \n",
    "plt.subplot(1, 4, 4)\n",
    "\n",
    "plt.step(kmf_all_dotx_chaarted_iptw.timeline, kmf_all_dotx_chaarted_iptw.survival_function_.values*100, color = 'red', alpha = 0.5, label = 'Docetaxel + ADT')\n",
    "\n",
    "plt.step(kmf_all_adt_chaarted_iptw.timeline, kmf_all_adt_chaarted_iptw.survival_function_.values*100, color = 'black', alpha = 0.5, label = 'ADT')\n",
    "\n",
    "plt.xticks(np.arange(0, 61, 6))\n",
    "plt.xlim(0, 61)\n",
    "plt.ylim(0, 100)\n",
    "\n",
    "plt.title('Full cohort', weight = 'bold')\n",
    "\n",
    "plt.gca().spines['top'].set_visible(False)\n",
    "plt.gca().spines['right'].set_visible(False)\n",
    "\n",
    "plt.legend(loc = 'upper right', prop = {'size': 9})\n",
    "\n",
    "fig.add_subplot(1, 1, 1, frameon = False)\n",
    "plt.tick_params(labelcolor = 'none', which = 'both', top = False, bottom = False, left = False, right = False)\n",
    "plt.xlabel('Months after treatment', labelpad = 15, size = 12, weight = 'bold')\n",
    "plt.title('CHAARTED: Docetaxel + ADT vs. ADT for metastatic, castration-sensitive prostate cancer', pad = 40, size = 15, weight = 'bold')\n",
    "\n",
    "plt.show()"
   ]
  }
 ],
 "metadata": {
  "kernelspec": {
   "display_name": "My Virtual Environment",
   "language": "python",
   "name": "myenv"
  },
  "language_info": {
   "codemirror_mode": {
    "name": "ipython",
    "version": 3
   },
   "file_extension": ".py",
   "mimetype": "text/x-python",
   "name": "python",
   "nbconvert_exporter": "python",
   "pygments_lexer": "ipython3",
   "version": "3.7.10"
  }
 },
 "nbformat": 4,
 "nbformat_minor": 5
}
