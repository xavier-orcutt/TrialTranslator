{
 "cells": [
  {
   "cell_type": "markdown",
   "id": "0f78cdac",
   "metadata": {},
   "source": [
    "# Flatiron Health mPC: Final GBM build \n",
    "\n",
    "**OBJECTIVE: Build a gradient boosted survival model on the entirety of the Flation Health metastatic prostate cancer data set.**\n",
    "\n",
    "**BACKGROUND: For details on hyperparameter tuning of the gradient boosted model see notebook *Machine learning crude imputation*. Missingness will be crudely imputatated given similar test-set AUC performance when compared to MICE.** \n",
    "\n",
    "**OUTLINE:**\n",
    "1. **Preprocessing**\n",
    "2. **Gradient boosted model** \n",
    "3. **Calculate patient risk scores**\n",
    "4. **Export final list of variables**"
   ]
  },
  {
   "cell_type": "markdown",
   "id": "96942fad",
   "metadata": {},
   "source": [
    "## 1. Preprocessing "
   ]
  },
  {
   "cell_type": "code",
   "execution_count": 1,
   "id": "2ed49dc3",
   "metadata": {},
   "outputs": [],
   "source": [
    "import numpy as np\n",
    "import pandas as pd\n",
    "\n",
    "from sklearn.pipeline import Pipeline\n",
    "from sklearn.impute import SimpleImputer\n",
    "from sklearn.preprocessing import StandardScaler, OneHotEncoder\n",
    "from sklearn.compose import ColumnTransformer "
   ]
  },
  {
   "cell_type": "code",
   "execution_count": 2,
   "id": "b12b50c8",
   "metadata": {},
   "outputs": [],
   "source": [
    "# Function that returns number of rows and count of unique PatientIDs for a dataframe. \n",
    "def row_ID(dataframe):\n",
    "    row = dataframe.shape[0]\n",
    "    ID = dataframe['PatientID'].nunique()\n",
    "    return row, ID"
   ]
  },
  {
   "cell_type": "markdown",
   "id": "c2ef3648",
   "metadata": {},
   "source": [
    "### Importing full dataframes"
   ]
  },
  {
   "cell_type": "code",
   "execution_count": 3,
   "id": "3f7f008b",
   "metadata": {},
   "outputs": [],
   "source": [
    "# Import training set and set PatientID as index.\n",
    "train = pd.read_csv('train_full.csv')"
   ]
  },
  {
   "cell_type": "code",
   "execution_count": 4,
   "id": "e153dc23",
   "metadata": {},
   "outputs": [
    {
     "data": {
      "text/plain": [
       "(15141, 15141)"
      ]
     },
     "execution_count": 4,
     "metadata": {},
     "output_type": "execute_result"
    }
   ],
   "source": [
    "row_ID(train)"
   ]
  },
  {
   "cell_type": "code",
   "execution_count": 5,
   "id": "a6bdff04",
   "metadata": {},
   "outputs": [],
   "source": [
    "# Import test set and set PatientID as index.\n",
    "test = pd.read_csv('test_full.csv')"
   ]
  },
  {
   "cell_type": "code",
   "execution_count": 6,
   "id": "66071f30",
   "metadata": {},
   "outputs": [
    {
     "data": {
      "text/plain": [
       "(3786, 3786)"
      ]
     },
     "execution_count": 6,
     "metadata": {},
     "output_type": "execute_result"
    }
   ],
   "source": [
    "row_ID(test)"
   ]
  },
  {
   "cell_type": "code",
   "execution_count": 7,
   "id": "43809f86",
   "metadata": {},
   "outputs": [],
   "source": [
    "df = pd.concat([train, test])"
   ]
  },
  {
   "cell_type": "code",
   "execution_count": 8,
   "id": "8bb75482",
   "metadata": {},
   "outputs": [
    {
     "data": {
      "text/plain": [
       "(18927, 18927)"
      ]
     },
     "execution_count": 8,
     "metadata": {},
     "output_type": "execute_result"
    }
   ],
   "source": [
    "row_ID(df)"
   ]
  },
  {
   "cell_type": "code",
   "execution_count": 9,
   "id": "a5d00b72",
   "metadata": {},
   "outputs": [],
   "source": [
    "df = df.set_index('PatientID')"
   ]
  },
  {
   "cell_type": "code",
   "execution_count": 10,
   "id": "b272d579",
   "metadata": {},
   "outputs": [
    {
     "data": {
      "text/html": [
       "<div>\n",
       "<style scoped>\n",
       "    .dataframe tbody tr th:only-of-type {\n",
       "        vertical-align: middle;\n",
       "    }\n",
       "\n",
       "    .dataframe tbody tr th {\n",
       "        vertical-align: top;\n",
       "    }\n",
       "\n",
       "    .dataframe thead th {\n",
       "        text-align: right;\n",
       "    }\n",
       "</style>\n",
       "<table border=\"1\" class=\"dataframe\">\n",
       "  <thead>\n",
       "    <tr style=\"text-align: right;\">\n",
       "      <th></th>\n",
       "      <th>Gender</th>\n",
       "      <th>race</th>\n",
       "      <th>ethnicity</th>\n",
       "      <th>age</th>\n",
       "      <th>p_type</th>\n",
       "      <th>NStage</th>\n",
       "      <th>MStage</th>\n",
       "      <th>Histology</th>\n",
       "      <th>GleasonScore</th>\n",
       "      <th>PSADiagnosis</th>\n",
       "      <th>...</th>\n",
       "      <th>peritoneum_met</th>\n",
       "      <th>liver_met</th>\n",
       "      <th>other_gi_met</th>\n",
       "      <th>cns_met</th>\n",
       "      <th>bone_met</th>\n",
       "      <th>lymph_met</th>\n",
       "      <th>kidney_bladder_met</th>\n",
       "      <th>other_met</th>\n",
       "      <th>prim_treatment</th>\n",
       "      <th>early_adt</th>\n",
       "    </tr>\n",
       "    <tr>\n",
       "      <th>PatientID</th>\n",
       "      <th></th>\n",
       "      <th></th>\n",
       "      <th></th>\n",
       "      <th></th>\n",
       "      <th></th>\n",
       "      <th></th>\n",
       "      <th></th>\n",
       "      <th></th>\n",
       "      <th></th>\n",
       "      <th></th>\n",
       "      <th></th>\n",
       "      <th></th>\n",
       "      <th></th>\n",
       "      <th></th>\n",
       "      <th></th>\n",
       "      <th></th>\n",
       "      <th></th>\n",
       "      <th></th>\n",
       "      <th></th>\n",
       "      <th></th>\n",
       "      <th></th>\n",
       "    </tr>\n",
       "  </thead>\n",
       "  <tbody>\n",
       "    <tr>\n",
       "      <th>F460A5F25DC6F</th>\n",
       "      <td>M</td>\n",
       "      <td>white</td>\n",
       "      <td>unknown</td>\n",
       "      <td>66</td>\n",
       "      <td>COMMUNITY</td>\n",
       "      <td>N0</td>\n",
       "      <td>M1b</td>\n",
       "      <td>Adenocarcinoma</td>\n",
       "      <td>9</td>\n",
       "      <td>32.8</td>\n",
       "      <td>...</td>\n",
       "      <td>0.0</td>\n",
       "      <td>0.0</td>\n",
       "      <td>0.0</td>\n",
       "      <td>0.0</td>\n",
       "      <td>1.0</td>\n",
       "      <td>0.0</td>\n",
       "      <td>0.0</td>\n",
       "      <td>0.0</td>\n",
       "      <td>unknown</td>\n",
       "      <td>0.0</td>\n",
       "    </tr>\n",
       "    <tr>\n",
       "      <th>F709BC26937A1</th>\n",
       "      <td>M</td>\n",
       "      <td>white</td>\n",
       "      <td>unknown</td>\n",
       "      <td>67</td>\n",
       "      <td>COMMUNITY</td>\n",
       "      <td>N0</td>\n",
       "      <td>M1</td>\n",
       "      <td>Adenocarcinoma</td>\n",
       "      <td>3 + 4 = 7</td>\n",
       "      <td>NaN</td>\n",
       "      <td>...</td>\n",
       "      <td>0.0</td>\n",
       "      <td>0.0</td>\n",
       "      <td>0.0</td>\n",
       "      <td>0.0</td>\n",
       "      <td>0.0</td>\n",
       "      <td>0.0</td>\n",
       "      <td>0.0</td>\n",
       "      <td>0.0</td>\n",
       "      <td>unknown</td>\n",
       "      <td>0.0</td>\n",
       "    </tr>\n",
       "    <tr>\n",
       "      <th>FC703172535FB</th>\n",
       "      <td>M</td>\n",
       "      <td>white</td>\n",
       "      <td>unknown</td>\n",
       "      <td>78</td>\n",
       "      <td>COMMUNITY</td>\n",
       "      <td>Unknown / Not documented</td>\n",
       "      <td>Unknown / Not documented</td>\n",
       "      <td>Adenocarcinoma</td>\n",
       "      <td>Unknown / Not documented</td>\n",
       "      <td>NaN</td>\n",
       "      <td>...</td>\n",
       "      <td>0.0</td>\n",
       "      <td>0.0</td>\n",
       "      <td>0.0</td>\n",
       "      <td>0.0</td>\n",
       "      <td>1.0</td>\n",
       "      <td>0.0</td>\n",
       "      <td>0.0</td>\n",
       "      <td>0.0</td>\n",
       "      <td>radiation</td>\n",
       "      <td>1.0</td>\n",
       "    </tr>\n",
       "  </tbody>\n",
       "</table>\n",
       "<p>3 rows × 227 columns</p>\n",
       "</div>"
      ],
      "text/plain": [
       "              Gender   race ethnicity  age     p_type  \\\n",
       "PatientID                                               \n",
       "F460A5F25DC6F      M  white   unknown   66  COMMUNITY   \n",
       "F709BC26937A1      M  white   unknown   67  COMMUNITY   \n",
       "FC703172535FB      M  white   unknown   78  COMMUNITY   \n",
       "\n",
       "                                 NStage                    MStage  \\\n",
       "PatientID                                                           \n",
       "F460A5F25DC6F                        N0                       M1b   \n",
       "F709BC26937A1                        N0                        M1   \n",
       "FC703172535FB  Unknown / Not documented  Unknown / Not documented   \n",
       "\n",
       "                    Histology              GleasonScore  PSADiagnosis  ...  \\\n",
       "PatientID                                                              ...   \n",
       "F460A5F25DC6F  Adenocarcinoma                         9          32.8  ...   \n",
       "F709BC26937A1  Adenocarcinoma                 3 + 4 = 7           NaN  ...   \n",
       "FC703172535FB  Adenocarcinoma  Unknown / Not documented           NaN  ...   \n",
       "\n",
       "               peritoneum_met liver_met  other_gi_met  cns_met  bone_met  \\\n",
       "PatientID                                                                  \n",
       "F460A5F25DC6F             0.0       0.0           0.0      0.0       1.0   \n",
       "F709BC26937A1             0.0       0.0           0.0      0.0       0.0   \n",
       "FC703172535FB             0.0       0.0           0.0      0.0       1.0   \n",
       "\n",
       "               lymph_met  kidney_bladder_met  other_met  prim_treatment  \\\n",
       "PatientID                                                                 \n",
       "F460A5F25DC6F        0.0                 0.0        0.0         unknown   \n",
       "F709BC26937A1        0.0                 0.0        0.0         unknown   \n",
       "FC703172535FB        0.0                 0.0        0.0       radiation   \n",
       "\n",
       "               early_adt  \n",
       "PatientID                 \n",
       "F460A5F25DC6F        0.0  \n",
       "F709BC26937A1        0.0  \n",
       "FC703172535FB        1.0  \n",
       "\n",
       "[3 rows x 227 columns]"
      ]
     },
     "execution_count": 10,
     "metadata": {},
     "output_type": "execute_result"
    }
   ],
   "source": [
    "df.sample(3)"
   ]
  },
  {
   "cell_type": "markdown",
   "id": "eeede61c",
   "metadata": {},
   "source": [
    "### Converting datatypes "
   ]
  },
  {
   "cell_type": "code",
   "execution_count": 11,
   "id": "89d3a565",
   "metadata": {},
   "outputs": [
    {
     "data": {
      "text/plain": [
       "['Gender',\n",
       " 'race',\n",
       " 'ethnicity',\n",
       " 'p_type',\n",
       " 'NStage',\n",
       " 'MStage',\n",
       " 'Histology',\n",
       " 'GleasonScore',\n",
       " 'stage',\n",
       " 'brca_status',\n",
       " 'ecog_diagnosis',\n",
       " 'prim_treatment']"
      ]
     },
     "execution_count": 11,
     "metadata": {},
     "output_type": "execute_result"
    }
   ],
   "source": [
    "list(df.select_dtypes(include = ['object']).columns)"
   ]
  },
  {
   "cell_type": "code",
   "execution_count": 12,
   "id": "49efb1bc",
   "metadata": {},
   "outputs": [],
   "source": [
    "to_be_categorical = list(df.select_dtypes(include = ['object']).columns)"
   ]
  },
  {
   "cell_type": "code",
   "execution_count": 13,
   "id": "c0d4c959",
   "metadata": {},
   "outputs": [],
   "source": [
    "to_be_categorical.append('met_year')"
   ]
  },
  {
   "cell_type": "code",
   "execution_count": 14,
   "id": "20843fda",
   "metadata": {},
   "outputs": [],
   "source": [
    "# Convert variables in list to categorical.\n",
    "for x in list(to_be_categorical):\n",
    "    df[x] = df[x].astype('category')"
   ]
  },
  {
   "cell_type": "code",
   "execution_count": 15,
   "id": "7b977446",
   "metadata": {},
   "outputs": [
    {
     "data": {
      "text/plain": [
       "['Gender',\n",
       " 'race',\n",
       " 'ethnicity',\n",
       " 'p_type',\n",
       " 'NStage',\n",
       " 'MStage',\n",
       " 'Histology',\n",
       " 'GleasonScore',\n",
       " 'stage',\n",
       " 'met_year',\n",
       " 'brca_status',\n",
       " 'ecog_diagnosis',\n",
       " 'prim_treatment']"
      ]
     },
     "execution_count": 15,
     "metadata": {},
     "output_type": "execute_result"
    }
   ],
   "source": [
    "list(df.select_dtypes(include = ['category']).columns)"
   ]
  },
  {
   "cell_type": "code",
   "execution_count": 16,
   "id": "737f24a1",
   "metadata": {},
   "outputs": [],
   "source": [
    "# Convert death_status into True or False (required for scikit-survival). \n",
    "df['death_status'] = df['death_status'].astype('bool')"
   ]
  },
  {
   "cell_type": "markdown",
   "id": "08de7a94",
   "metadata": {},
   "source": [
    "### Dropping unneeded labs "
   ]
  },
  {
   "cell_type": "code",
   "execution_count": 17,
   "id": "74a070f4",
   "metadata": {},
   "outputs": [],
   "source": [
    "drop_labs = [\n",
    "    'albumin_avg',\n",
    "    'alp_avg',\n",
    "    'alt_avg',\n",
    "    'ast_avg',\n",
    "    'bicarb_avg',\n",
    "    'bun_avg',\n",
    "    'calcium_avg',\n",
    "    'chloride_avg',\n",
    "    'creatinine_avg',\n",
    "    'hemoglobin_avg',\n",
    "    'neutrophil_count_avg',\n",
    "    'platelet_avg',\n",
    "    'potassium_avg',\n",
    "    'psa_avg',\n",
    "    'sodium_avg',\n",
    "    'total_bilirubin_avg',\n",
    "    'wbc_avg',\n",
    "    'albumin_max',\n",
    "    'bicarb_max',\n",
    "    'bun_max',\n",
    "    'chloride_max',\n",
    "    'hemoglobin_max',\n",
    "    'neutrophil_count_max',\n",
    "    'platelet_max',\n",
    "    'potassium_max',\n",
    "    'sodium_max',\n",
    "    'alp_min',\n",
    "    'alt_min',\n",
    "    'ast_min',\n",
    "    'bun_min',\n",
    "    'calcium_min',\n",
    "    'chloride_min',\n",
    "    'creatinine_min',\n",
    "    'neutrophil_count_min',\n",
    "    'potassium_min',\n",
    "    'psa_min',\n",
    "    'total_bilirubin_min',\n",
    "    'albumin_std',\n",
    "    'alp_std',\n",
    "    'alt_std',\n",
    "    'ast_std',\n",
    "    'bicarb_std',\n",
    "    'bun_std',\n",
    "    'calcium_std',\n",
    "    'chloride_std',\n",
    "    'creatinine_std',\n",
    "    'hemoglobin_std',\n",
    "    'neutrophil_count_std',\n",
    "    'platelet_std',\n",
    "    'potassium_std',\n",
    "    'psa_std',\n",
    "    'sodium_std',\n",
    "    'total_bilirubin_std',\n",
    "    'wbc_std',\n",
    "    'albumin_slope',\n",
    "    'alp_slope',\n",
    "    'alt_slope',\n",
    "    'ast_slope',\n",
    "    'bicarb_slope',\n",
    "    'bun_slope',\n",
    "    'calcium_slope',\n",
    "    'chloride_slope',\n",
    "    'creatinine_slope',\n",
    "    'hemoglobin_slope',\n",
    "    'neutrophil_count_slope',\n",
    "    'platelet_slope',\n",
    "    'potassium_slope',\n",
    "    'sodium_slope',\n",
    "    'total_bilirubin_slope',\n",
    "    'wbc_slope',\n",
    "    'albumin_slope_na',\n",
    "    'alp_slope_na',\n",
    "    'alt_slope_na',\n",
    "    'ast_slope_na',\n",
    "    'bicarb_slope_na',\n",
    "    'bun_slope_na',\n",
    "    'calcium_slope_na',\n",
    "    'chloride_slope_na',\n",
    "    'creatinine_slope_na',\n",
    "    'hemoglobin_slope_na',\n",
    "    'neutrophil_count_slope_na',\n",
    "    'platelet_slope_na',\n",
    "    'potassium_slope_na',\n",
    "    'sodium_slope_na',\n",
    "    'total_bilirubin_slope_na',\n",
    "    'wbc_slope_na']"
   ]
  },
  {
   "cell_type": "code",
   "execution_count": 18,
   "id": "87dfc2a7",
   "metadata": {},
   "outputs": [
    {
     "data": {
      "text/plain": [
       "(18927, 227)"
      ]
     },
     "execution_count": 18,
     "metadata": {},
     "output_type": "execute_result"
    }
   ],
   "source": [
    "df.shape"
   ]
  },
  {
   "cell_type": "code",
   "execution_count": 19,
   "id": "e89c5f22",
   "metadata": {},
   "outputs": [],
   "source": [
    "df = df.drop(columns = drop_labs)"
   ]
  },
  {
   "cell_type": "code",
   "execution_count": 20,
   "id": "1763d0d1",
   "metadata": {},
   "outputs": [
    {
     "data": {
      "text/plain": [
       "(18927, 141)"
      ]
     },
     "execution_count": 20,
     "metadata": {},
     "output_type": "execute_result"
    }
   ],
   "source": [
    "df.shape"
   ]
  },
  {
   "cell_type": "code",
   "execution_count": 21,
   "id": "4b935da4",
   "metadata": {},
   "outputs": [],
   "source": [
    "df.loc[:, 'alp_max_na'] = np.where(df['alp_max'].isna(), 1, 0)\n",
    "df.loc[:, 'alt_max_na'] = np.where(df['alt_max'].isna(), 1, 0)\n",
    "df.loc[:, 'ast_max_na'] = np.where(df['ast_max'].isna(), 1, 0)\n",
    "df.loc[:, 'calcium_max_na'] = np.where(df['calcium_max'].isna(), 1, 0)\n",
    "df.loc[:, 'creatinine_max_na'] = np.where(df['creatinine_max'].isna(), 1, 0)\n",
    "df.loc[:, 'psa_max_na'] = np.where(df['psa_max'].isna(), 1, 0)\n",
    "df.loc[:, 'total_bilirubin_max_na'] = np.where(df['total_bilirubin_max'].isna(), 1, 0)\n",
    "df.loc[:, 'wbc_max_na'] = np.where(df['wbc_max'].isna(), 1, 0)\n",
    "df.loc[:, 'albumin_min_na'] = np.where(df['albumin_min'].isna(), 1, 0)\n",
    "df.loc[:, 'bicarb_min_na'] = np.where(df['bicarb_min'].isna(), 1, 0)\n",
    "df.loc[:, 'hemoglobin_min_na'] = np.where(df['hemoglobin_min'].isna(), 1, 0)\n",
    "df.loc[:, 'platelet_min_na'] = np.where(df['platelet_min'].isna(), 1, 0)\n",
    "df.loc[:, 'sodium_min_na'] = np.where(df['sodium_min'].isna(), 1, 0)\n",
    "df.loc[:, 'wbc_min_na'] = np.where(df['wbc_min'].isna(), 1, 0)"
   ]
  },
  {
   "cell_type": "code",
   "execution_count": 22,
   "id": "6124c781",
   "metadata": {},
   "outputs": [
    {
     "data": {
      "text/plain": [
       "(18927, 155)"
      ]
     },
     "execution_count": 22,
     "metadata": {},
     "output_type": "execute_result"
    }
   ],
   "source": [
    "df.shape"
   ]
  },
  {
   "cell_type": "markdown",
   "id": "3bcc93b2",
   "metadata": {},
   "source": [
    "### Separate into X and Y "
   ]
  },
  {
   "cell_type": "code",
   "execution_count": 23,
   "id": "374e94ed",
   "metadata": {},
   "outputs": [],
   "source": [
    "# 'X' datasets\n",
    "df_x = df.drop(columns = ['death_status', 'timerisk_activity']) #80% of data "
   ]
  },
  {
   "cell_type": "code",
   "execution_count": 24,
   "id": "53405cc6",
   "metadata": {},
   "outputs": [],
   "source": [
    "# 'Y' datasets\n",
    "# Death status and time until event needs to be stored as a structured array to be compatible with scikit-survival\n",
    "y_dtypes = df[['death_status', 'timerisk_activity']].dtypes\n",
    "\n",
    "df_y = np.array([tuple(x) for x in df[['death_status', 'timerisk_activity']].values],\n",
    "                dtype = list(zip(y_dtypes.index, y_dtypes)))"
   ]
  },
  {
   "cell_type": "markdown",
   "id": "da592b54",
   "metadata": {},
   "source": [
    "### Pipeline "
   ]
  },
  {
   "cell_type": "code",
   "execution_count": 25,
   "id": "19e110f2",
   "metadata": {},
   "outputs": [],
   "source": [
    "# List of numeric variables, excluding binary variables. \n",
    "numerical_features = [\n",
    "    'age',\n",
    "    'PSADiagnosis',\n",
    "    'PSAMetDiagnosis',\n",
    "    'delta_met_diagnosis',\n",
    "    'crpc_time',\n",
    "    'weight_diag',\n",
    "    'bmi_diag',\n",
    "    'weight_pct_change',\n",
    "    'weight_slope',\n",
    "    'albumin_diag',\n",
    "    'alp_diag',\n",
    "    'alt_diag',\n",
    "    'ast_diag',\n",
    "    'bicarb_diag',\n",
    "    'bun_diag',\n",
    "    'calcium_diag',\n",
    "    'chloride_diag',\n",
    "    'creatinine_diag',\n",
    "    'hemoglobin_diag',\n",
    "    'neutrophil_count_diag',\n",
    "    'platelet_diag',\n",
    "    'potassium_diag',\n",
    "    'sodium_diag',\n",
    "    'total_bilirubin_diag',\n",
    "    'wbc_diag',\n",
    "    'alp_max',\n",
    "    'alt_max',\n",
    "    'ast_max',\n",
    "    'calcium_max',\n",
    "    'creatinine_max',\n",
    "    'psa_max',\n",
    "    'total_bilirubin_max',\n",
    "    'wbc_max',\n",
    "    'albumin_min',\n",
    "    'bicarb_min',\n",
    "    'hemoglobin_min',\n",
    "    'platelet_min',\n",
    "    'sodium_min',\n",
    "    'wbc_min',\n",
    "    'psa_slope',\n",
    "    'icd_count']\n",
    "\n",
    "# Transformer will impute column medians and then apply a standard scaler. \n",
    "numerical_transformer = Pipeline(steps = [\n",
    "    ('imputer', SimpleImputer(strategy = 'median')),\n",
    "    ('std_scaler', StandardScaler())])"
   ]
  },
  {
   "cell_type": "code",
   "execution_count": 26,
   "id": "b6f1bca4",
   "metadata": {},
   "outputs": [],
   "source": [
    "# List of categorical features.\n",
    "categorical_features = list(df_x.select_dtypes(include = ['category']).columns)\n",
    "\n",
    "# One-hot-encode categorical features.\n",
    "categorical_transformer = OneHotEncoder(handle_unknown = 'ignore')"
   ]
  },
  {
   "cell_type": "code",
   "execution_count": 27,
   "id": "b13cd654",
   "metadata": {},
   "outputs": [],
   "source": [
    "preprocessor = ColumnTransformer(\n",
    "    transformers = [\n",
    "        ('num', numerical_transformer, numerical_features),\n",
    "        ('cat', categorical_transformer, categorical_features)],\n",
    "    remainder = 'passthrough')"
   ]
  },
  {
   "cell_type": "markdown",
   "id": "0117e873",
   "metadata": {},
   "source": [
    "## 2. Gradient boosted model "
   ]
  },
  {
   "cell_type": "code",
   "execution_count": 28,
   "id": "27d25c5a",
   "metadata": {},
   "outputs": [],
   "source": [
    "from sklearn.pipeline import make_pipeline\n",
    "\n",
    "from sksurv.ensemble import GradientBoostingSurvivalAnalysis\n",
    "\n",
    "from joblib import dump, load "
   ]
  },
  {
   "cell_type": "code",
   "execution_count": 29,
   "id": "4938f130",
   "metadata": {},
   "outputs": [
    {
     "data": {
      "text/plain": [
       "(18927, 153)"
      ]
     },
     "execution_count": 29,
     "metadata": {},
     "output_type": "execute_result"
    }
   ],
   "source": [
    "df_x.shape"
   ]
  },
  {
   "cell_type": "code",
   "execution_count": 30,
   "id": "65e72753",
   "metadata": {},
   "outputs": [
    {
     "data": {
      "text/plain": [
       "(18927,)"
      ]
     },
     "execution_count": 30,
     "metadata": {},
     "output_type": "execute_result"
    }
   ],
   "source": [
    "df_y.shape"
   ]
  },
  {
   "cell_type": "code",
   "execution_count": 31,
   "id": "c6537517",
   "metadata": {},
   "outputs": [
    {
     "name": "stdout",
     "output_type": "stream",
     "text": [
      "      Iter       Train Loss      OOB Improve   Remaining Time \n",
      "         1       40495.0727          28.5857           51.78m\n",
      "         2       40457.1387          28.1595           51.30m\n",
      "         3       40381.6984          26.4578           51.07m\n",
      "         4       40668.6698          25.7462           50.90m\n",
      "         5       40055.9420          24.1777           50.78m\n",
      "         6       40593.2834          24.0648           50.64m\n",
      "         7       40681.8998          23.0587           50.59m\n",
      "         8       40245.9290          21.2085           50.46m\n",
      "         9       40339.8004          21.1435           50.33m\n",
      "        10       40050.7591          20.2727           50.26m\n",
      "        20       40244.8276          14.3636           49.43m\n",
      "        30       40448.6344           9.6662           48.65m\n",
      "        40       39774.3243           8.7681           47.87m\n",
      "        50       40234.2404           5.9704           47.10m\n",
      "        60       39699.6484           5.2839           46.32m\n",
      "        70       39496.0612           3.8257           45.56m\n",
      "        80       39353.7152           3.2301           44.84m\n",
      "        90       39261.7495           2.8858           44.08m\n",
      "       100       39495.7965           2.3116           43.31m\n",
      "       200       38997.0733           0.2097           35.70m\n",
      "       300       38746.7678           0.3606           28.16m\n",
      "       400       38708.7986          -0.1409           20.69m\n",
      "       500       38234.3591          -0.2635           13.19m\n",
      "       600       38927.9297          -0.3480            5.66m\n"
     ]
    },
    {
     "data": {
      "text/plain": [
       "Pipeline(steps=[('columntransformer',\n",
       "                 ColumnTransformer(remainder='passthrough',\n",
       "                                   transformers=[('num',\n",
       "                                                  Pipeline(steps=[('imputer',\n",
       "                                                                   SimpleImputer(strategy='median')),\n",
       "                                                                  ('std_scaler',\n",
       "                                                                   StandardScaler())]),\n",
       "                                                  ['age', 'PSADiagnosis',\n",
       "                                                   'PSAMetDiagnosis',\n",
       "                                                   'delta_met_diagnosis',\n",
       "                                                   'crpc_time', 'weight_diag',\n",
       "                                                   'bmi_diag',\n",
       "                                                   'weight_pct_change',\n",
       "                                                   'weight_slope',\n",
       "                                                   'albumin_diag', 'alp_d...\n",
       "                                                  OneHotEncoder(handle_unknown='ignore'),\n",
       "                                                  ['Gender', 'race',\n",
       "                                                   'ethnicity', 'p_type',\n",
       "                                                   'NStage', 'MStage',\n",
       "                                                   'Histology', 'GleasonScore',\n",
       "                                                   'stage', 'met_year',\n",
       "                                                   'brca_status',\n",
       "                                                   'ecog_diagnosis',\n",
       "                                                   'prim_treatment'])])),\n",
       "                ('gradientboostingsurvivalanalysis',\n",
       "                 GradientBoostingSurvivalAnalysis(learning_rate=0.05,\n",
       "                                                  max_depth=4, n_estimators=675,\n",
       "                                                  random_state=42,\n",
       "                                                  subsample=0.5, verbose=1))])"
      ]
     },
     "execution_count": 31,
     "metadata": {},
     "output_type": "execute_result"
    }
   ],
   "source": [
    "gbm_final = make_pipeline(preprocessor, GradientBoostingSurvivalAnalysis(n_estimators = 675,\n",
    "                                                                         learning_rate = 0.05,\n",
    "                                                                         max_depth = 4,\n",
    "                                                                         subsample = 0.50,\n",
    "                                                                         verbose = 1,\n",
    "                                                                         random_state = 42))\n",
    "\n",
    "gbm_final.fit(df_x, df_y)"
   ]
  },
  {
   "cell_type": "code",
   "execution_count": 32,
   "id": "1ce29df2",
   "metadata": {},
   "outputs": [
    {
     "data": {
      "text/plain": [
       "['gbm_final.joblib']"
      ]
     },
     "execution_count": 32,
     "metadata": {},
     "output_type": "execute_result"
    }
   ],
   "source": [
    "dump(gbm_final, 'gbm_final.joblib') "
   ]
  },
  {
   "cell_type": "markdown",
   "id": "0df86bdf",
   "metadata": {},
   "source": [
    "## 3. Calculate patient risk scores "
   ]
  },
  {
   "cell_type": "code",
   "execution_count": 33,
   "id": "34184c2a",
   "metadata": {},
   "outputs": [],
   "source": [
    "# Calculate risk score for patients in training set. \n",
    "crude_risk_score_df = pd.DataFrame({'risk_score': gbm_final.predict(df_x)},\n",
    "                                   index = df_x.index)"
   ]
  },
  {
   "cell_type": "code",
   "execution_count": 34,
   "id": "b83d3029",
   "metadata": {},
   "outputs": [],
   "source": [
    "crude_risk_score_df.to_csv('crude_risk_score_df.csv', index = True, header = True)"
   ]
  },
  {
   "cell_type": "markdown",
   "id": "98df4148",
   "metadata": {},
   "source": [
    "## 4. Export final list of variables"
   ]
  },
  {
   "cell_type": "code",
   "execution_count": 35,
   "id": "c731cab5",
   "metadata": {},
   "outputs": [],
   "source": [
    "import csv"
   ]
  },
  {
   "cell_type": "code",
   "execution_count": 36,
   "id": "4c271472",
   "metadata": {},
   "outputs": [],
   "source": [
    "prostate_columns = list(df_x.columns)"
   ]
  },
  {
   "cell_type": "code",
   "execution_count": 37,
   "id": "5c645803",
   "metadata": {},
   "outputs": [],
   "source": [
    "with open('prostate_columns.csv', 'w', newline='') as csv_file:\n",
    "    csv_writer = csv.writer(csv_file)\n",
    "    csv_writer.writerow(prostate_columns)"
   ]
  }
 ],
 "metadata": {
  "kernelspec": {
   "display_name": "My Virtual Environment",
   "language": "python",
   "name": "myenv"
  },
  "language_info": {
   "codemirror_mode": {
    "name": "ipython",
    "version": 3
   },
   "file_extension": ".py",
   "mimetype": "text/x-python",
   "name": "python",
   "nbconvert_exporter": "python",
   "pygments_lexer": "ipython3",
   "version": "3.7.10"
  }
 },
 "nbformat": 4,
 "nbformat_minor": 5
}
