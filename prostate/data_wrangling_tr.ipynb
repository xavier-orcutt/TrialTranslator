{
 "cells": [
  {
   "cell_type": "markdown",
   "id": "45688dbd",
   "metadata": {},
   "source": [
    "# Flatiron Health mPC: Data Wrangling Training Set\n",
    "\n",
    "**OBJECTIVE: Identify a training cohort and create a dataframe of relevant variables which can be used to build machine learning survival models.**\n",
    "\n",
    "**BACKGROUND: There are three sections to this notebook. First, the final cohort will be split 80-20 into a train and test set. The split will ensure the distribution of diagnosis years is the same in the train and test set given increased missingness of in earlier diagnosis years and changes in treatment practices with time. Of note, the 90-day-gap rule is not applied per Flatiron's new recommendations.**\n",
    "\n",
    "**The second section of this notebook involves preparing the data so that each row corresponds to a unique patient from the train set and each column is a relevant variable for mortality prognositication. There are 12 CSV files from Flatiron that will be used. The eligibility window for collecting variables is typically -90 days and +30 days from index date, which is time of metastatic diagnosis. Plus 30 was selected as the upper bound of the eligibility window given that median time to start of first line treatment is about 30 days from metastatic diagnosis.**\n",
    "\n",
    "**The last section involves merging these datatables into a master which will be used for building machine learning survival models.** \n",
    "\n",
    "**OUTLINE:**\n",
    "1. **Creating training and test cohort**\n",
    "2. **File cleaning for patients in training set**\n",
    "3. **Merge files to create master training dataframe**"
   ]
  },
  {
   "cell_type": "markdown",
   "id": "0e1b57df",
   "metadata": {},
   "source": [
    "## Part 1: Creating training and test cohort "
   ]
  },
  {
   "cell_type": "code",
   "execution_count": 1,
   "id": "336667c6",
   "metadata": {},
   "outputs": [],
   "source": [
    "import numpy as np\n",
    "import pandas as pd\n",
    "import matplotlib.pyplot as plt\n",
    "import datetime as dt\n",
    "from sklearn.model_selection import StratifiedShuffleSplit"
   ]
  },
  {
   "cell_type": "code",
   "execution_count": 2,
   "id": "61211067",
   "metadata": {},
   "outputs": [],
   "source": [
    "# Function that returns number of rows and count of unique PatientIDs for a dataframe. \n",
    "def row_ID(dataframe):\n",
    "    row = dataframe.shape[0]\n",
    "    ID = dataframe['PatientID'].nunique()\n",
    "    return row, ID"
   ]
  },
  {
   "cell_type": "markdown",
   "id": "bcd34cc4",
   "metadata": {},
   "source": [
    "**Patients will be split into a train and test set (80/20) stratified by metastatic diagnosis year.**"
   ]
  },
  {
   "cell_type": "code",
   "execution_count": 3,
   "id": "3c928ce6",
   "metadata": {},
   "outputs": [],
   "source": [
    "enhanced_met = pd.read_csv('Enhanced_MetProstate.csv')"
   ]
  },
  {
   "cell_type": "code",
   "execution_count": 4,
   "id": "e4576aa9",
   "metadata": {},
   "outputs": [
    {
     "data": {
      "text/plain": [
       "(18927, 18927)"
      ]
     },
     "execution_count": 4,
     "metadata": {},
     "output_type": "execute_result"
    }
   ],
   "source": [
    "row_ID(enhanced_met)"
   ]
  },
  {
   "cell_type": "code",
   "execution_count": 5,
   "id": "5552d837",
   "metadata": {},
   "outputs": [],
   "source": [
    "enhanced_met.loc[:, 'MetDiagnosisDate'] = pd.to_datetime(enhanced_met['MetDiagnosisDate'])"
   ]
  },
  {
   "cell_type": "code",
   "execution_count": 6,
   "id": "c6a3aa29",
   "metadata": {},
   "outputs": [],
   "source": [
    "enhanced_met = enhanced_met.rename(columns = {'MetDiagnosisDate': 'met_date'})"
   ]
  },
  {
   "cell_type": "code",
   "execution_count": 7,
   "id": "f136795e",
   "metadata": {},
   "outputs": [
    {
     "data": {
      "text/plain": [
       "2019    0.119459\n",
       "2018    0.111798\n",
       "2016    0.111428\n",
       "2017    0.106937\n",
       "2020    0.105405\n",
       "2015    0.104982\n",
       "2021    0.100386\n",
       "2014    0.097374\n",
       "2013    0.090347\n",
       "2022    0.051884\n",
       "Name: met_date, dtype: float64"
      ]
     },
     "execution_count": 7,
     "metadata": {},
     "output_type": "execute_result"
    }
   ],
   "source": [
    "enhanced_met['met_date'].dt.year.value_counts()/len(enhanced_met)"
   ]
  },
  {
   "cell_type": "code",
   "execution_count": 8,
   "id": "ec7a91f1",
   "metadata": {},
   "outputs": [
    {
     "data": {
      "text/plain": [
       "count    18927.000000\n",
       "mean      2017.352988\n",
       "std          2.677797\n",
       "min       2013.000000\n",
       "25%       2015.000000\n",
       "50%       2017.000000\n",
       "75%       2020.000000\n",
       "max       2022.000000\n",
       "Name: met_date, dtype: float64"
      ]
     },
     "execution_count": 8,
     "metadata": {},
     "output_type": "execute_result"
    }
   ],
   "source": [
    "enhanced_met['met_date'].dt.year.describe()"
   ]
  },
  {
   "cell_type": "code",
   "execution_count": 9,
   "id": "f3a505af",
   "metadata": {},
   "outputs": [
    {
     "data": {
      "text/plain": [
       "<AxesSubplot:xlabel='met_date'>"
      ]
     },
     "execution_count": 9,
     "metadata": {},
     "output_type": "execute_result"
    },
    {
     "data": {
      "image/png": "[encoded data removed]",
      "text/plain": [
       "<Figure size 640x480 with 1 Axes>"
      ]
     },
     "metadata": {},
     "output_type": "display_data"
    }
   ],
   "source": [
    "enhanced_met.groupby([enhanced_met['met_date'].dt.year])['PatientID'].count().plot(kind = 'bar')"
   ]
  },
  {
   "cell_type": "code",
   "execution_count": 10,
   "id": "30ab68a7",
   "metadata": {},
   "outputs": [
    {
     "data": {
      "text/plain": [
       "<AxesSubplot:xlabel='met_date'>"
      ]
     },
     "execution_count": 10,
     "metadata": {},
     "output_type": "execute_result"
    },
    {
     "data": {
      "image/png": "[encoded data removed]",
      "text/plain": [
       "<Figure size 640x480 with 1 Axes>"
      ]
     },
     "metadata": {},
     "output_type": "display_data"
    }
   ],
   "source": [
    "enhanced_met.groupby([enhanced_met['met_date'].dt.month])['PatientID'].count().plot(kind = 'bar')"
   ]
  },
  {
   "cell_type": "code",
   "execution_count": 11,
   "id": "7f632ccc",
   "metadata": {},
   "outputs": [],
   "source": [
    "enhanced_met['met_year_cat'] = pd.cut(enhanced_met['met_date'].dt.year,\n",
    "                                      bins = [2012, 2014, 2016, 2018, 2020, 2022],\n",
    "                                      labels = ['13-14', '15-16', '17-18', '19-20', '21-22'])"
   ]
  },
  {
   "cell_type": "code",
   "execution_count": 12,
   "id": "6ab0a3d6",
   "metadata": {},
   "outputs": [
    {
     "data": {
      "text/plain": [
       "19-20    0.224864\n",
       "17-18    0.218735\n",
       "15-16    0.216410\n",
       "13-14    0.187721\n",
       "21-22    0.152269\n",
       "Name: met_year_cat, dtype: float64"
      ]
     },
     "execution_count": 12,
     "metadata": {},
     "output_type": "execute_result"
    }
   ],
   "source": [
    "enhanced_met['met_year_cat'].value_counts(normalize = True, dropna = False)"
   ]
  },
  {
   "cell_type": "code",
   "execution_count": 13,
   "id": "af7c77f3",
   "metadata": {},
   "outputs": [
    {
     "data": {
      "text/plain": [
       "18927"
      ]
     },
     "execution_count": 13,
     "metadata": {},
     "output_type": "execute_result"
    }
   ],
   "source": [
    "enhanced_met['met_year_cat'].value_counts().sum()"
   ]
  },
  {
   "cell_type": "code",
   "execution_count": 14,
   "id": "1d9e8099",
   "metadata": {},
   "outputs": [
    {
     "data": {
      "text/plain": [
       "<AxesSubplot:xlabel='met_year_cat'>"
      ]
     },
     "execution_count": 14,
     "metadata": {},
     "output_type": "execute_result"
    },
    {
     "data": {
      "image/png": "[encoded data removed]",
      "text/plain": [
       "<Figure size 640x480 with 1 Axes>"
      ]
     },
     "metadata": {},
     "output_type": "display_data"
    }
   ],
   "source": [
    "enhanced_met.groupby([enhanced_met['met_year_cat']])['PatientID'].count().plot(kind = 'bar')"
   ]
  },
  {
   "cell_type": "code",
   "execution_count": 15,
   "id": "a9fb76e2",
   "metadata": {},
   "outputs": [],
   "source": [
    "sss = StratifiedShuffleSplit(n_splits = 1, test_size = 0.2, random_state = 42)\n",
    "\n",
    "for train_index, test_index in sss.split(enhanced_met, enhanced_met['met_year_cat']):\n",
    "    train_set = enhanced_met.iloc[train_index]\n",
    "    test_set = enhanced_met.iloc[test_index]"
   ]
  },
  {
   "cell_type": "code",
   "execution_count": 16,
   "id": "05ff8a49",
   "metadata": {},
   "outputs": [
    {
     "data": {
      "text/plain": [
       "19-20    0.224886\n",
       "17-18    0.218744\n",
       "15-16    0.216432\n",
       "13-14    0.187702\n",
       "21-22    0.152236\n",
       "Name: met_year_cat, dtype: float64"
      ]
     },
     "execution_count": 16,
     "metadata": {},
     "output_type": "execute_result"
    }
   ],
   "source": [
    "train_set['met_year_cat'].value_counts()/len(train_set)"
   ]
  },
  {
   "cell_type": "code",
   "execution_count": 17,
   "id": "dd483ff9",
   "metadata": {},
   "outputs": [
    {
     "data": {
      "text/plain": [
       "19-20    0.224775\n",
       "17-18    0.218700\n",
       "15-16    0.216323\n",
       "13-14    0.187797\n",
       "21-22    0.152404\n",
       "Name: met_year_cat, dtype: float64"
      ]
     },
     "execution_count": 17,
     "metadata": {},
     "output_type": "execute_result"
    }
   ],
   "source": [
    "test_set['met_year_cat'].value_counts()/len(test_set)"
   ]
  },
  {
   "cell_type": "code",
   "execution_count": 18,
   "id": "10f3643a",
   "metadata": {},
   "outputs": [
    {
     "data": {
      "text/plain": [
       "(15141, 15141)"
      ]
     },
     "execution_count": 18,
     "metadata": {},
     "output_type": "execute_result"
    }
   ],
   "source": [
    "row_ID(train_set)"
   ]
  },
  {
   "cell_type": "code",
   "execution_count": 19,
   "id": "653c7ee6",
   "metadata": {},
   "outputs": [
    {
     "data": {
      "text/plain": [
       "(3786, 3786)"
      ]
     },
     "execution_count": 19,
     "metadata": {},
     "output_type": "execute_result"
    }
   ],
   "source": [
    "row_ID(test_set)"
   ]
  },
  {
   "cell_type": "code",
   "execution_count": 20,
   "id": "3fe60b92",
   "metadata": {},
   "outputs": [],
   "source": [
    "# Array of PatientIDs in training set.\n",
    "train_IDs = train_set['PatientID'].to_numpy()"
   ]
  },
  {
   "cell_type": "code",
   "execution_count": 21,
   "id": "1876f9ba",
   "metadata": {},
   "outputs": [],
   "source": [
    "pd.DataFrame(train_IDs, columns = ['PatientID']).to_csv('train_IDs.csv', index = False, header = True)"
   ]
  },
  {
   "cell_type": "code",
   "execution_count": 22,
   "id": "8b6169d0",
   "metadata": {},
   "outputs": [],
   "source": [
    "# Array of PatientIDs in test set.\n",
    "test_IDs = test_set['PatientID'].to_numpy()"
   ]
  },
  {
   "cell_type": "code",
   "execution_count": 23,
   "id": "c260ced5",
   "metadata": {},
   "outputs": [],
   "source": [
    "pd.DataFrame(test_IDs, columns = ['PatientID']).to_csv('test_IDs.csv', index = False, header = True)"
   ]
  },
  {
   "cell_type": "code",
   "execution_count": 24,
   "id": "9537f2d1",
   "metadata": {},
   "outputs": [
    {
     "name": "stdout",
     "output_type": "stream",
     "text": [
      "Variable       Type         Data/Info\n",
      "-------------------------------------\n",
      "enhanced_met   DataFrame               PatientID Diag<...>[18927 rows x 14 columns]\n",
      "test_set       DataFrame               PatientID Diag<...>n[3786 rows x 14 columns]\n",
      "train_set      DataFrame               PatientID Diag<...>[15141 rows x 14 columns]\n"
     ]
    }
   ],
   "source": [
    "%whos DataFrame"
   ]
  },
  {
   "cell_type": "code",
   "execution_count": 25,
   "id": "2688dffb",
   "metadata": {},
   "outputs": [],
   "source": [
    "# Keep enhanced_met\n",
    "del test_set\n",
    "del train_set"
   ]
  },
  {
   "cell_type": "markdown",
   "id": "1aaf3c56",
   "metadata": {},
   "source": [
    "## Part 2: Data wrangling\n",
    "\n",
    "**Relevant CSV files will be imported and processed. A file is considered processed when each row corresponds to a unique patient from the training set and each column is a relevant variable for mortality prognositication. The eligibility window for collecting variables is typically defined as -90 days and +30 days from index date. The index date is time of metastatic diagnosis. Plus 30 was selected as the upper bound of the eligibility window given that median time to start of first line treatment is about 30 days from metastatic diagnosis.** \n",
    "\n",
    "**The following CSV files from Flatiron will be cleaned:**\n",
    "1. **Demographics and Practice**\n",
    "2. **Enhanced_MetProstate**\n",
    "3. **Enhanced_Mortality_V2**\n",
    "4. **MedicationAdministration**\n",
    "5. **Enhanced_MetPC_Biomarkers**\n",
    "6. **Insurance**\n",
    "7. **ECOG**\n",
    "8. **Vitals**\n",
    "9. **Labs**\n",
    "10. **Diagnosis**\n",
    "11. **Enhanced_MetPC_PrimaryTreatment**"
   ]
  },
  {
   "cell_type": "markdown",
   "id": "61e6a601",
   "metadata": {},
   "source": [
    "### 1. Demographics"
   ]
  },
  {
   "cell_type": "code",
   "execution_count": 26,
   "id": "19e440db",
   "metadata": {},
   "outputs": [],
   "source": [
    "demographics = pd.read_csv('Demographics.csv')"
   ]
  },
  {
   "cell_type": "code",
   "execution_count": 27,
   "id": "7901269b",
   "metadata": {},
   "outputs": [],
   "source": [
    "demographics = demographics[demographics['PatientID'].isin(train_IDs)]"
   ]
  },
  {
   "cell_type": "code",
   "execution_count": 28,
   "id": "78070cc7",
   "metadata": {},
   "outputs": [
    {
     "data": {
      "text/html": [
       "<div>\n",
       "<style scoped>\n",
       "    .dataframe tbody tr th:only-of-type {\n",
       "        vertical-align: middle;\n",
       "    }\n",
       "\n",
       "    .dataframe tbody tr th {\n",
       "        vertical-align: top;\n",
       "    }\n",
       "\n",
       "    .dataframe thead th {\n",
       "        text-align: right;\n",
       "    }\n",
       "</style>\n",
       "<table border=\"1\" class=\"dataframe\">\n",
       "  <thead>\n",
       "    <tr style=\"text-align: right;\">\n",
       "      <th></th>\n",
       "      <th>PatientID</th>\n",
       "      <th>BirthYear</th>\n",
       "      <th>Gender</th>\n",
       "      <th>RaceSupplementedWithEthnicity</th>\n",
       "      <th>RaceEthnicitySource</th>\n",
       "    </tr>\n",
       "  </thead>\n",
       "  <tbody>\n",
       "    <tr>\n",
       "      <th>10389</th>\n",
       "      <td>FD743E9DC6A31</td>\n",
       "      <td>1937</td>\n",
       "      <td>M</td>\n",
       "      <td>White</td>\n",
       "      <td>Race</td>\n",
       "    </tr>\n",
       "    <tr>\n",
       "      <th>17823</th>\n",
       "      <td>F4356498234EA</td>\n",
       "      <td>1937</td>\n",
       "      <td>M</td>\n",
       "      <td>White</td>\n",
       "      <td>Race</td>\n",
       "    </tr>\n",
       "    <tr>\n",
       "      <th>3134</th>\n",
       "      <td>FDAF5B0BBCE3D</td>\n",
       "      <td>1947</td>\n",
       "      <td>M</td>\n",
       "      <td>Other Race</td>\n",
       "      <td>Race</td>\n",
       "    </tr>\n",
       "    <tr>\n",
       "      <th>10380</th>\n",
       "      <td>F264C9770AAC3</td>\n",
       "      <td>1941</td>\n",
       "      <td>M</td>\n",
       "      <td>Other Race</td>\n",
       "      <td>Race</td>\n",
       "    </tr>\n",
       "    <tr>\n",
       "      <th>10929</th>\n",
       "      <td>FCB624666AA3F</td>\n",
       "      <td>1937</td>\n",
       "      <td>M</td>\n",
       "      <td>White</td>\n",
       "      <td>Race</td>\n",
       "    </tr>\n",
       "  </tbody>\n",
       "</table>\n",
       "</div>"
      ],
      "text/plain": [
       "           PatientID  BirthYear Gender RaceSupplementedWithEthnicity  \\\n",
       "10389  FD743E9DC6A31       1937      M                         White   \n",
       "17823  F4356498234EA       1937      M                         White   \n",
       "3134   FDAF5B0BBCE3D       1947      M                    Other Race   \n",
       "10380  F264C9770AAC3       1941      M                    Other Race   \n",
       "10929  FCB624666AA3F       1937      M                         White   \n",
       "\n",
       "      RaceEthnicitySource  \n",
       "10389                Race  \n",
       "17823                Race  \n",
       "3134                 Race  \n",
       "10380                Race  \n",
       "10929                Race  "
      ]
     },
     "execution_count": 28,
     "metadata": {},
     "output_type": "execute_result"
    }
   ],
   "source": [
    "demographics.sample(5)"
   ]
  },
  {
   "cell_type": "code",
   "execution_count": 29,
   "id": "0282dd3d",
   "metadata": {},
   "outputs": [
    {
     "name": "stdout",
     "output_type": "stream",
     "text": [
      "<class 'pandas.core.frame.DataFrame'>\n",
      "Int64Index: 15141 entries, 0 to 18926\n",
      "Data columns (total 5 columns):\n",
      " #   Column                         Non-Null Count  Dtype \n",
      "---  ------                         --------------  ----- \n",
      " 0   PatientID                      15141 non-null  object\n",
      " 1   BirthYear                      15141 non-null  int64 \n",
      " 2   Gender                         15141 non-null  object\n",
      " 3   RaceSupplementedWithEthnicity  13936 non-null  object\n",
      " 4   RaceEthnicitySource            15141 non-null  object\n",
      "dtypes: int64(1), object(4)\n",
      "memory usage: 709.7+ KB\n"
     ]
    }
   ],
   "source": [
    "demographics.info()"
   ]
  },
  {
   "cell_type": "code",
   "execution_count": 30,
   "id": "4708048f",
   "metadata": {},
   "outputs": [
    {
     "data": {
      "text/plain": [
       "(15141, 15141)"
      ]
     },
     "execution_count": 30,
     "metadata": {},
     "output_type": "execute_result"
    }
   ],
   "source": [
    "row_ID(demographics)"
   ]
  },
  {
   "cell_type": "markdown",
   "id": "d58e00b5",
   "metadata": {},
   "source": [
    "#### Race and Ethnicity"
   ]
  },
  {
   "cell_type": "code",
   "execution_count": 31,
   "id": "c7086ccb",
   "metadata": {},
   "outputs": [
    {
     "data": {
      "text/plain": [
       "White                        61.449046\n",
       "Other Race                   15.983092\n",
       "Black or African American    10.111617\n",
       "NaN                           7.958523\n",
       "Not Hispanic or Latino        2.298395\n",
       "Asian                         1.294498\n",
       "Hispanic or Latino            0.904828\n",
       "Name: RaceSupplementedWithEthnicity, dtype: float64"
      ]
     },
     "execution_count": 31,
     "metadata": {},
     "output_type": "execute_result"
    }
   ],
   "source": [
    "demographics['RaceSupplementedWithEthnicity'].value_counts(normalize = True, dropna = False)*100"
   ]
  },
  {
   "cell_type": "code",
   "execution_count": 32,
   "id": "ad383a5c",
   "metadata": {},
   "outputs": [
    {
     "data": {
      "text/plain": [
       "Race         88.950532\n",
       "Ethnicity    11.049468\n",
       "Name: RaceEthnicitySource, dtype: float64"
      ]
     },
     "execution_count": 32,
     "metadata": {},
     "output_type": "execute_result"
    }
   ],
   "source": [
    "demographics['RaceEthnicitySource'].value_counts(normalize = True, dropna = False)*100"
   ]
  },
  {
   "cell_type": "code",
   "execution_count": 33,
   "id": "253f766b",
   "metadata": {},
   "outputs": [
    {
     "data": {
      "text/html": [
       "<div>\n",
       "<style scoped>\n",
       "    .dataframe tbody tr th:only-of-type {\n",
       "        vertical-align: middle;\n",
       "    }\n",
       "\n",
       "    .dataframe tbody tr th {\n",
       "        vertical-align: top;\n",
       "    }\n",
       "\n",
       "    .dataframe thead th {\n",
       "        text-align: right;\n",
       "    }\n",
       "</style>\n",
       "<table border=\"1\" class=\"dataframe\">\n",
       "  <thead>\n",
       "    <tr style=\"text-align: right;\">\n",
       "      <th></th>\n",
       "      <th>PatientID</th>\n",
       "      <th>BirthYear</th>\n",
       "      <th>Gender</th>\n",
       "      <th>RaceSupplementedWithEthnicity</th>\n",
       "      <th>RaceEthnicitySource</th>\n",
       "    </tr>\n",
       "  </thead>\n",
       "  <tbody>\n",
       "    <tr>\n",
       "      <th>1389</th>\n",
       "      <td>F1638CF3404D7</td>\n",
       "      <td>1948</td>\n",
       "      <td>M</td>\n",
       "      <td>Hispanic or Latino</td>\n",
       "      <td>Ethnicity</td>\n",
       "    </tr>\n",
       "    <tr>\n",
       "      <th>12812</th>\n",
       "      <td>F37C7C6DC2359</td>\n",
       "      <td>1950</td>\n",
       "      <td>M</td>\n",
       "      <td>Hispanic or Latino</td>\n",
       "      <td>Ethnicity</td>\n",
       "    </tr>\n",
       "    <tr>\n",
       "      <th>5671</th>\n",
       "      <td>F70C38AE90AEC</td>\n",
       "      <td>1952</td>\n",
       "      <td>M</td>\n",
       "      <td>Hispanic or Latino</td>\n",
       "      <td>Ethnicity</td>\n",
       "    </tr>\n",
       "    <tr>\n",
       "      <th>18469</th>\n",
       "      <td>F3D1C082575C8</td>\n",
       "      <td>1953</td>\n",
       "      <td>M</td>\n",
       "      <td>Hispanic or Latino</td>\n",
       "      <td>Ethnicity</td>\n",
       "    </tr>\n",
       "    <tr>\n",
       "      <th>7724</th>\n",
       "      <td>F6D1F4EB1E0AF</td>\n",
       "      <td>1943</td>\n",
       "      <td>M</td>\n",
       "      <td>Hispanic or Latino</td>\n",
       "      <td>Ethnicity</td>\n",
       "    </tr>\n",
       "  </tbody>\n",
       "</table>\n",
       "</div>"
      ],
      "text/plain": [
       "           PatientID  BirthYear Gender RaceSupplementedWithEthnicity  \\\n",
       "1389   F1638CF3404D7       1948      M            Hispanic or Latino   \n",
       "12812  F37C7C6DC2359       1950      M            Hispanic or Latino   \n",
       "5671   F70C38AE90AEC       1952      M            Hispanic or Latino   \n",
       "18469  F3D1C082575C8       1953      M            Hispanic or Latino   \n",
       "7724   F6D1F4EB1E0AF       1943      M            Hispanic or Latino   \n",
       "\n",
       "      RaceEthnicitySource  \n",
       "1389            Ethnicity  \n",
       "12812           Ethnicity  \n",
       "5671            Ethnicity  \n",
       "18469           Ethnicity  \n",
       "7724            Ethnicity  "
      ]
     },
     "execution_count": 33,
     "metadata": {},
     "output_type": "execute_result"
    }
   ],
   "source": [
    "demographics.query('RaceSupplementedWithEthnicity == \"Hispanic or Latino\"').sample(5)"
   ]
  },
  {
   "cell_type": "code",
   "execution_count": 34,
   "id": "1ba6bb06",
   "metadata": {},
   "outputs": [
    {
     "data": {
      "text/html": [
       "<div>\n",
       "<style scoped>\n",
       "    .dataframe tbody tr th:only-of-type {\n",
       "        vertical-align: middle;\n",
       "    }\n",
       "\n",
       "    .dataframe tbody tr th {\n",
       "        vertical-align: top;\n",
       "    }\n",
       "\n",
       "    .dataframe thead th {\n",
       "        text-align: right;\n",
       "    }\n",
       "</style>\n",
       "<table border=\"1\" class=\"dataframe\">\n",
       "  <thead>\n",
       "    <tr style=\"text-align: right;\">\n",
       "      <th></th>\n",
       "      <th>PatientID</th>\n",
       "      <th>BirthYear</th>\n",
       "      <th>Gender</th>\n",
       "      <th>RaceSupplementedWithEthnicity</th>\n",
       "      <th>RaceEthnicitySource</th>\n",
       "    </tr>\n",
       "  </thead>\n",
       "  <tbody>\n",
       "    <tr>\n",
       "      <th>4294</th>\n",
       "      <td>F08FD404E3331</td>\n",
       "      <td>1938</td>\n",
       "      <td>M</td>\n",
       "      <td>Not Hispanic or Latino</td>\n",
       "      <td>Ethnicity</td>\n",
       "    </tr>\n",
       "    <tr>\n",
       "      <th>7673</th>\n",
       "      <td>F5C25F6CA99F1</td>\n",
       "      <td>1937</td>\n",
       "      <td>M</td>\n",
       "      <td>Not Hispanic or Latino</td>\n",
       "      <td>Ethnicity</td>\n",
       "    </tr>\n",
       "    <tr>\n",
       "      <th>965</th>\n",
       "      <td>FE86CC60126F3</td>\n",
       "      <td>1939</td>\n",
       "      <td>M</td>\n",
       "      <td>Not Hispanic or Latino</td>\n",
       "      <td>Ethnicity</td>\n",
       "    </tr>\n",
       "    <tr>\n",
       "      <th>10504</th>\n",
       "      <td>FB1303E0B62F2</td>\n",
       "      <td>1938</td>\n",
       "      <td>M</td>\n",
       "      <td>Not Hispanic or Latino</td>\n",
       "      <td>Ethnicity</td>\n",
       "    </tr>\n",
       "    <tr>\n",
       "      <th>10593</th>\n",
       "      <td>F5FA5B67B772A</td>\n",
       "      <td>1937</td>\n",
       "      <td>M</td>\n",
       "      <td>Not Hispanic or Latino</td>\n",
       "      <td>Ethnicity</td>\n",
       "    </tr>\n",
       "  </tbody>\n",
       "</table>\n",
       "</div>"
      ],
      "text/plain": [
       "           PatientID  BirthYear Gender RaceSupplementedWithEthnicity  \\\n",
       "4294   F08FD404E3331       1938      M        Not Hispanic or Latino   \n",
       "7673   F5C25F6CA99F1       1937      M        Not Hispanic or Latino   \n",
       "965    FE86CC60126F3       1939      M        Not Hispanic or Latino   \n",
       "10504  FB1303E0B62F2       1938      M        Not Hispanic or Latino   \n",
       "10593  F5FA5B67B772A       1937      M        Not Hispanic or Latino   \n",
       "\n",
       "      RaceEthnicitySource  \n",
       "4294            Ethnicity  \n",
       "7673            Ethnicity  \n",
       "965             Ethnicity  \n",
       "10504           Ethnicity  \n",
       "10593           Ethnicity  "
      ]
     },
     "execution_count": 34,
     "metadata": {},
     "output_type": "execute_result"
    }
   ],
   "source": [
    "demographics.query('RaceSupplementedWithEthnicity == \"Not Hispanic or Latino\"').sample(5)"
   ]
  },
  {
   "cell_type": "markdown",
   "id": "ab832325",
   "metadata": {},
   "source": [
    "**There are unexpected values where “Hispanic or Latino” appears as a race rather than ethnicity. Ethnicity will be recoded to align with the FDA standards for collecting race and ethnicity variables for clinical trials. Possible race values will include: 'White', 'Other Race', 'Black or African American', 'Asian', or 'unknown'. Ethnicity values will be: 'Hispanic or Latino', 'Not Hispanic or Latino', or 'unknown'. Of note, ethnicity and race information is likely to be poorly captured since EHR platforms typically do not require documentation of race or ethnicity.**  "
   ]
  },
  {
   "cell_type": "code",
   "execution_count": 35,
   "id": "fe4f7154",
   "metadata": {},
   "outputs": [],
   "source": [
    "conditions = [\n",
    "    (demographics['RaceSupplementedWithEthnicity'] == 'White'),\n",
    "    (demographics['RaceSupplementedWithEthnicity'] == 'Other Race'),\n",
    "    (demographics['RaceSupplementedWithEthnicity'] == 'Black or African American'),\n",
    "    (demographics['RaceSupplementedWithEthnicity'] == 'Asian')]\n",
    "\n",
    "choices = ['white', 'other', 'black', 'asian']\n",
    "\n",
    "demographics.loc[:, 'race'] = np.select(conditions, choices, default = 'unknown')"
   ]
  },
  {
   "cell_type": "code",
   "execution_count": 36,
   "id": "4a6ef6e0",
   "metadata": {},
   "outputs": [
    {
     "data": {
      "text/plain": [
       "white      0.614490\n",
       "other      0.159831\n",
       "unknown    0.111617\n",
       "black      0.101116\n",
       "asian      0.012945\n",
       "Name: race, dtype: float64"
      ]
     },
     "execution_count": 36,
     "metadata": {},
     "output_type": "execute_result"
    }
   ],
   "source": [
    "demographics.race.value_counts(normalize = True, dropna = False)"
   ]
  },
  {
   "cell_type": "code",
   "execution_count": 37,
   "id": "b49ffd17",
   "metadata": {},
   "outputs": [],
   "source": [
    "conditions = [\n",
    "    (demographics['RaceSupplementedWithEthnicity'] == 'Hispanic or Latino'),\n",
    "    (demographics['RaceSupplementedWithEthnicity'] == 'Not Hispanic or Latino')]\n",
    "\n",
    "choices = ['hispanic_latino', 'not_hispanic_latino']\n",
    "\n",
    "demographics.loc[:, 'ethnicity'] = np.select(conditions, choices, default = 'unknown')"
   ]
  },
  {
   "cell_type": "code",
   "execution_count": 38,
   "id": "c2864473",
   "metadata": {},
   "outputs": [
    {
     "data": {
      "text/plain": [
       "unknown                0.967968\n",
       "not_hispanic_latino    0.022984\n",
       "hispanic_latino        0.009048\n",
       "Name: ethnicity, dtype: float64"
      ]
     },
     "execution_count": 38,
     "metadata": {},
     "output_type": "execute_result"
    }
   ],
   "source": [
    "demographics.ethnicity.value_counts(normalize = True, dropna = False)"
   ]
  },
  {
   "cell_type": "code",
   "execution_count": 39,
   "id": "e7f716e3",
   "metadata": {},
   "outputs": [],
   "source": [
    "demographics = demographics.drop(columns = ['RaceSupplementedWithEthnicity', 'RaceEthnicitySource'])"
   ]
  },
  {
   "cell_type": "markdown",
   "id": "fe9ab8db",
   "metadata": {},
   "source": [
    "#### BirthYear"
   ]
  },
  {
   "cell_type": "code",
   "execution_count": 40,
   "id": "3b1a52a7",
   "metadata": {},
   "outputs": [
    {
     "data": {
      "text/plain": [
       "count    15141.000000\n",
       "mean      1945.410013\n",
       "std          8.288445\n",
       "min       1937.000000\n",
       "25%       1937.000000\n",
       "50%       1944.000000\n",
       "75%       1951.000000\n",
       "max       1980.000000\n",
       "Name: BirthYear, dtype: float64"
      ]
     },
     "execution_count": 40,
     "metadata": {},
     "output_type": "execute_result"
    }
   ],
   "source": [
    "demographics['BirthYear'].describe()"
   ]
  },
  {
   "cell_type": "code",
   "execution_count": 41,
   "id": "ab35b356",
   "metadata": {},
   "outputs": [
    {
     "data": {
      "text/plain": [
       "array([[<AxesSubplot:title={'center':'BirthYear'}>]], dtype=object)"
      ]
     },
     "execution_count": 41,
     "metadata": {},
     "output_type": "execute_result"
    },
    {
     "data": {
      "image/png": "[encoded data removed]",
      "text/plain": [
       "<Figure size 640x480 with 1 Axes>"
      ]
     },
     "metadata": {},
     "output_type": "display_data"
    }
   ],
   "source": [
    "demographics.hist(column = 'BirthYear')"
   ]
  },
  {
   "cell_type": "code",
   "execution_count": 42,
   "id": "e9e8a900",
   "metadata": {},
   "outputs": [
    {
     "data": {
      "text/plain": [
       "1937    0.285450\n",
       "1943    0.038769\n",
       "1942    0.037250\n",
       "1938    0.035136\n",
       "1947    0.035004\n",
       "1946    0.034806\n",
       "1941    0.034674\n",
       "1940    0.034608\n",
       "1949    0.033485\n",
       "1944    0.033023\n",
       "Name: BirthYear, dtype: float64"
      ]
     },
     "execution_count": 42,
     "metadata": {},
     "output_type": "execute_result"
    }
   ],
   "source": [
    "# Top 10 birth years.\n",
    "demographics['BirthYear'].value_counts(normalize = True, dropna = False).head(10)"
   ]
  },
  {
   "cell_type": "markdown",
   "id": "67aa4ca4",
   "metadata": {},
   "source": [
    "**Dispraportionate number of patients aged 85. Flatiron aggregates patients 85 and older into a single category of 85 years of age to limit potential for re-identification of older patients.**"
   ]
  },
  {
   "cell_type": "code",
   "execution_count": 43,
   "id": "7cacd0a4",
   "metadata": {},
   "outputs": [],
   "source": [
    "demographics = pd.merge(demographics, enhanced_met[['PatientID', 'met_date']], on = 'PatientID')"
   ]
  },
  {
   "cell_type": "code",
   "execution_count": 44,
   "id": "eb6d8d5d",
   "metadata": {},
   "outputs": [],
   "source": [
    "demographics.loc[:, 'age'] = demographics['met_date'].dt.year - demographics['BirthYear']"
   ]
  },
  {
   "cell_type": "code",
   "execution_count": 45,
   "id": "ef93c6eb",
   "metadata": {},
   "outputs": [],
   "source": [
    "demographics = demographics.drop(columns = ['BirthYear', 'met_date'])"
   ]
  },
  {
   "cell_type": "markdown",
   "id": "0be02050",
   "metadata": {},
   "source": [
    "#### PracticeType"
   ]
  },
  {
   "cell_type": "code",
   "execution_count": 46,
   "id": "a64d0cc2",
   "metadata": {},
   "outputs": [],
   "source": [
    "practice = pd.read_csv('Practice.csv')"
   ]
  },
  {
   "cell_type": "code",
   "execution_count": 47,
   "id": "4607be97",
   "metadata": {},
   "outputs": [
    {
     "data": {
      "text/html": [
       "<div>\n",
       "<style scoped>\n",
       "    .dataframe tbody tr th:only-of-type {\n",
       "        vertical-align: middle;\n",
       "    }\n",
       "\n",
       "    .dataframe tbody tr th {\n",
       "        vertical-align: top;\n",
       "    }\n",
       "\n",
       "    .dataframe thead th {\n",
       "        text-align: right;\n",
       "    }\n",
       "</style>\n",
       "<table border=\"1\" class=\"dataframe\">\n",
       "  <thead>\n",
       "    <tr style=\"text-align: right;\">\n",
       "      <th></th>\n",
       "      <th>PatientID</th>\n",
       "      <th>PracticeType</th>\n",
       "    </tr>\n",
       "  </thead>\n",
       "  <tbody>\n",
       "    <tr>\n",
       "      <th>8054</th>\n",
       "      <td>FC85BFD922CA6</td>\n",
       "      <td>COMMUNITY</td>\n",
       "    </tr>\n",
       "    <tr>\n",
       "      <th>18357</th>\n",
       "      <td>F2A4D495CF5ED</td>\n",
       "      <td>COMMUNITY</td>\n",
       "    </tr>\n",
       "    <tr>\n",
       "      <th>3100</th>\n",
       "      <td>FFA24024F1E6A</td>\n",
       "      <td>COMMUNITY</td>\n",
       "    </tr>\n",
       "    <tr>\n",
       "      <th>6513</th>\n",
       "      <td>F4E4860C2B54E</td>\n",
       "      <td>COMMUNITY</td>\n",
       "    </tr>\n",
       "    <tr>\n",
       "      <th>7458</th>\n",
       "      <td>FD32AD7593F39</td>\n",
       "      <td>ACADEMIC</td>\n",
       "    </tr>\n",
       "  </tbody>\n",
       "</table>\n",
       "</div>"
      ],
      "text/plain": [
       "           PatientID PracticeType\n",
       "8054   FC85BFD922CA6    COMMUNITY\n",
       "18357  F2A4D495CF5ED    COMMUNITY\n",
       "3100   FFA24024F1E6A    COMMUNITY\n",
       "6513   F4E4860C2B54E    COMMUNITY\n",
       "7458   FD32AD7593F39     ACADEMIC"
      ]
     },
     "execution_count": 47,
     "metadata": {},
     "output_type": "execute_result"
    }
   ],
   "source": [
    "practice.sample(5)"
   ]
  },
  {
   "cell_type": "code",
   "execution_count": 48,
   "id": "1fa0a7ba",
   "metadata": {},
   "outputs": [],
   "source": [
    "practice = practice[practice['PatientID'].isin(train_IDs)]"
   ]
  },
  {
   "cell_type": "code",
   "execution_count": 49,
   "id": "0097c2e6",
   "metadata": {},
   "outputs": [
    {
     "data": {
      "text/plain": [
       "(15594, 15141)"
      ]
     },
     "execution_count": 49,
     "metadata": {},
     "output_type": "execute_result"
    }
   ],
   "source": [
    "row_ID(practice)"
   ]
  },
  {
   "cell_type": "code",
   "execution_count": 50,
   "id": "22dd09bf",
   "metadata": {},
   "outputs": [
    {
     "data": {
      "text/plain": [
       "COMMUNITY    13363\n",
       "ACADEMIC      2231\n",
       "Name: PracticeType, dtype: int64"
      ]
     },
     "execution_count": 50,
     "metadata": {},
     "output_type": "execute_result"
    }
   ],
   "source": [
    "practice.PracticeType.value_counts()"
   ]
  },
  {
   "cell_type": "code",
   "execution_count": 51,
   "id": "f8647c55",
   "metadata": {},
   "outputs": [],
   "source": [
    "practice_unique_count = (\n",
    "    practice.groupby('PatientID')['PracticeType'].agg('nunique')\n",
    "    .to_frame()\n",
    "    .reset_index()\n",
    "    .rename(columns = {'PracticeType': 'n_type'})\n",
    ")"
   ]
  },
  {
   "cell_type": "code",
   "execution_count": 52,
   "id": "a19cf31d",
   "metadata": {},
   "outputs": [],
   "source": [
    "practice_n = pd.merge(practice, practice_unique_count, on = 'PatientID')"
   ]
  },
  {
   "cell_type": "code",
   "execution_count": 53,
   "id": "4f01a2d8",
   "metadata": {},
   "outputs": [],
   "source": [
    "practice_n['p_type'] = (\n",
    "    np.where(practice_n['n_type'] == 1, practice_n['PracticeType'], 'BOTH')\n",
    ")"
   ]
  },
  {
   "cell_type": "code",
   "execution_count": 54,
   "id": "8f0e23ed",
   "metadata": {},
   "outputs": [],
   "source": [
    "practice_n = (\n",
    "    practice_n.drop_duplicates(subset = ['PatientID'], keep = 'first')\n",
    "    .filter(items = ['PatientID', 'p_type'])\n",
    ")"
   ]
  },
  {
   "cell_type": "code",
   "execution_count": 55,
   "id": "65eeddb1",
   "metadata": {},
   "outputs": [],
   "source": [
    "demographics = pd.merge(demographics, practice_n, on = 'PatientID')"
   ]
  },
  {
   "cell_type": "code",
   "execution_count": 56,
   "id": "d10a9f81",
   "metadata": {},
   "outputs": [
    {
     "data": {
      "text/plain": [
       "COMMUNITY    85.284988\n",
       "ACADEMIC     12.931775\n",
       "BOTH          1.783238\n",
       "Name: p_type, dtype: float64"
      ]
     },
     "execution_count": 56,
     "metadata": {},
     "output_type": "execute_result"
    }
   ],
   "source": [
    "demographics['p_type'].value_counts(normalize = True, dropna = False)*100"
   ]
  },
  {
   "cell_type": "markdown",
   "id": "8f4635ce",
   "metadata": {},
   "source": [
    "#### Gender"
   ]
  },
  {
   "cell_type": "code",
   "execution_count": 57,
   "id": "f26a9bd5",
   "metadata": {},
   "outputs": [
    {
     "data": {
      "text/plain": [
       "M    100.0\n",
       "Name: Gender, dtype: float64"
      ]
     },
     "execution_count": 57,
     "metadata": {},
     "output_type": "execute_result"
    }
   ],
   "source": [
    "demographics['Gender'].value_counts(normalize = True, dropna = False)*100"
   ]
  },
  {
   "cell_type": "code",
   "execution_count": 58,
   "id": "5c7fc71a",
   "metadata": {},
   "outputs": [
    {
     "data": {
      "text/html": [
       "<div>\n",
       "<style scoped>\n",
       "    .dataframe tbody tr th:only-of-type {\n",
       "        vertical-align: middle;\n",
       "    }\n",
       "\n",
       "    .dataframe tbody tr th {\n",
       "        vertical-align: top;\n",
       "    }\n",
       "\n",
       "    .dataframe thead th {\n",
       "        text-align: right;\n",
       "    }\n",
       "</style>\n",
       "<table border=\"1\" class=\"dataframe\">\n",
       "  <thead>\n",
       "    <tr style=\"text-align: right;\">\n",
       "      <th></th>\n",
       "      <th>PatientID</th>\n",
       "      <th>Gender</th>\n",
       "      <th>race</th>\n",
       "      <th>ethnicity</th>\n",
       "      <th>age</th>\n",
       "      <th>p_type</th>\n",
       "    </tr>\n",
       "  </thead>\n",
       "  <tbody>\n",
       "    <tr>\n",
       "      <th>1683</th>\n",
       "      <td>F5D97538FB8F3</td>\n",
       "      <td>M</td>\n",
       "      <td>white</td>\n",
       "      <td>unknown</td>\n",
       "      <td>60</td>\n",
       "      <td>COMMUNITY</td>\n",
       "    </tr>\n",
       "    <tr>\n",
       "      <th>31</th>\n",
       "      <td>F85800BF8202F</td>\n",
       "      <td>M</td>\n",
       "      <td>unknown</td>\n",
       "      <td>unknown</td>\n",
       "      <td>80</td>\n",
       "      <td>COMMUNITY</td>\n",
       "    </tr>\n",
       "    <tr>\n",
       "      <th>13069</th>\n",
       "      <td>FF0EE14B94E4B</td>\n",
       "      <td>M</td>\n",
       "      <td>unknown</td>\n",
       "      <td>unknown</td>\n",
       "      <td>73</td>\n",
       "      <td>COMMUNITY</td>\n",
       "    </tr>\n",
       "    <tr>\n",
       "      <th>10157</th>\n",
       "      <td>F88210D594D48</td>\n",
       "      <td>M</td>\n",
       "      <td>other</td>\n",
       "      <td>unknown</td>\n",
       "      <td>63</td>\n",
       "      <td>ACADEMIC</td>\n",
       "    </tr>\n",
       "    <tr>\n",
       "      <th>8927</th>\n",
       "      <td>F35227B837AAB</td>\n",
       "      <td>M</td>\n",
       "      <td>asian</td>\n",
       "      <td>unknown</td>\n",
       "      <td>67</td>\n",
       "      <td>COMMUNITY</td>\n",
       "    </tr>\n",
       "  </tbody>\n",
       "</table>\n",
       "</div>"
      ],
      "text/plain": [
       "           PatientID Gender     race ethnicity  age     p_type\n",
       "1683   F5D97538FB8F3      M    white   unknown   60  COMMUNITY\n",
       "31     F85800BF8202F      M  unknown   unknown   80  COMMUNITY\n",
       "13069  FF0EE14B94E4B      M  unknown   unknown   73  COMMUNITY\n",
       "10157  F88210D594D48      M    other   unknown   63   ACADEMIC\n",
       "8927   F35227B837AAB      M    asian   unknown   67  COMMUNITY"
      ]
     },
     "execution_count": 58,
     "metadata": {},
     "output_type": "execute_result"
    }
   ],
   "source": [
    "# Final training demographics table.\n",
    "demographics.sample(5)"
   ]
  },
  {
   "cell_type": "code",
   "execution_count": 59,
   "id": "8a79f484",
   "metadata": {},
   "outputs": [
    {
     "name": "stdout",
     "output_type": "stream",
     "text": [
      "Variable                Type         Data/Info\n",
      "----------------------------------------------\n",
      "demographics            DataFrame               PatientID Gend<...>n[15141 rows x 6 columns]\n",
      "enhanced_met            DataFrame               PatientID Diag<...>[18927 rows x 14 columns]\n",
      "practice                DataFrame               PatientID Prac<...>n[15594 rows x 2 columns]\n",
      "practice_n              DataFrame               PatientID     <...>n[15141 rows x 2 columns]\n",
      "practice_unique_count   DataFrame               PatientID  n_t<...>n[15141 rows x 2 columns]\n"
     ]
    }
   ],
   "source": [
    "%whos DataFrame"
   ]
  },
  {
   "cell_type": "code",
   "execution_count": 60,
   "id": "ee85f589",
   "metadata": {},
   "outputs": [],
   "source": [
    "# Keep demographics and enhanced_met\n",
    "del practice\n",
    "del practice_n\n",
    "del practice_unique_count"
   ]
  },
  {
   "cell_type": "markdown",
   "id": "d12c648a",
   "metadata": {},
   "source": [
    "### 2. Enhanced_MetProstate"
   ]
  },
  {
   "cell_type": "code",
   "execution_count": 61,
   "id": "e11cee57",
   "metadata": {},
   "outputs": [
    {
     "data": {
      "text/html": [
       "<div>\n",
       "<style scoped>\n",
       "    .dataframe tbody tr th:only-of-type {\n",
       "        vertical-align: middle;\n",
       "    }\n",
       "\n",
       "    .dataframe tbody tr th {\n",
       "        vertical-align: top;\n",
       "    }\n",
       "\n",
       "    .dataframe thead th {\n",
       "        text-align: right;\n",
       "    }\n",
       "</style>\n",
       "<table border=\"1\" class=\"dataframe\">\n",
       "  <thead>\n",
       "    <tr style=\"text-align: right;\">\n",
       "      <th></th>\n",
       "      <th>PatientID</th>\n",
       "      <th>DiagnosisDate</th>\n",
       "      <th>met_date</th>\n",
       "      <th>GroupStage</th>\n",
       "      <th>TStage</th>\n",
       "      <th>NStage</th>\n",
       "      <th>MStage</th>\n",
       "      <th>Histology</th>\n",
       "      <th>IsCRPC</th>\n",
       "      <th>CRPCDate</th>\n",
       "      <th>GleasonScore</th>\n",
       "      <th>PSADiagnosis</th>\n",
       "      <th>PSAMetDiagnosis</th>\n",
       "      <th>met_year_cat</th>\n",
       "    </tr>\n",
       "  </thead>\n",
       "  <tbody>\n",
       "    <tr>\n",
       "      <th>16048</th>\n",
       "      <td>F928F95BBA130</td>\n",
       "      <td>1996-11-27</td>\n",
       "      <td>2013-04-11</td>\n",
       "      <td>Unknown / Not documented</td>\n",
       "      <td>Unknown / Not documented</td>\n",
       "      <td>Unknown / Not documented</td>\n",
       "      <td>Unknown / Not documented</td>\n",
       "      <td>Adenocarcinoma</td>\n",
       "      <td>No</td>\n",
       "      <td>NaN</td>\n",
       "      <td>3 + 4 = 7</td>\n",
       "      <td>NaN</td>\n",
       "      <td>0.98</td>\n",
       "      <td>13-14</td>\n",
       "    </tr>\n",
       "    <tr>\n",
       "      <th>1331</th>\n",
       "      <td>FDF411F6C0D05</td>\n",
       "      <td>2009-11-02</td>\n",
       "      <td>2015-10-01</td>\n",
       "      <td>Unknown / Not documented</td>\n",
       "      <td>Unknown / Not documented</td>\n",
       "      <td>Unknown / Not documented</td>\n",
       "      <td>M0</td>\n",
       "      <td>Adenocarcinoma</td>\n",
       "      <td>Yes</td>\n",
       "      <td>2015-12-30</td>\n",
       "      <td>9</td>\n",
       "      <td>27.7</td>\n",
       "      <td>76.50</td>\n",
       "      <td>15-16</td>\n",
       "    </tr>\n",
       "    <tr>\n",
       "      <th>7164</th>\n",
       "      <td>F6D21D2E0630F</td>\n",
       "      <td>2008-02-14</td>\n",
       "      <td>2015-08-15</td>\n",
       "      <td>Unknown / Not documented</td>\n",
       "      <td>Unknown / Not documented</td>\n",
       "      <td>Unknown / Not documented</td>\n",
       "      <td>Unknown / Not documented</td>\n",
       "      <td>Prostate cancer, NOS</td>\n",
       "      <td>No</td>\n",
       "      <td>NaN</td>\n",
       "      <td>Unknown / Not documented</td>\n",
       "      <td>NaN</td>\n",
       "      <td>1.70</td>\n",
       "      <td>15-16</td>\n",
       "    </tr>\n",
       "    <tr>\n",
       "      <th>15597</th>\n",
       "      <td>F416FB7B8B59D</td>\n",
       "      <td>2001-12-01</td>\n",
       "      <td>2015-03-26</td>\n",
       "      <td>IV</td>\n",
       "      <td>TX</td>\n",
       "      <td>NX</td>\n",
       "      <td>M0</td>\n",
       "      <td>Adenocarcinoma</td>\n",
       "      <td>No</td>\n",
       "      <td>NaN</td>\n",
       "      <td>Less than or equal to 6</td>\n",
       "      <td>6.8</td>\n",
       "      <td>0.71</td>\n",
       "      <td>15-16</td>\n",
       "    </tr>\n",
       "    <tr>\n",
       "      <th>14531</th>\n",
       "      <td>F7DD82C44916F</td>\n",
       "      <td>2007-04-25</td>\n",
       "      <td>2015-03-27</td>\n",
       "      <td>Unknown / Not documented</td>\n",
       "      <td>T2c</td>\n",
       "      <td>N0</td>\n",
       "      <td>M0</td>\n",
       "      <td>Adenocarcinoma</td>\n",
       "      <td>Yes</td>\n",
       "      <td>2015-03-24</td>\n",
       "      <td>8</td>\n",
       "      <td>22.0</td>\n",
       "      <td>28.00</td>\n",
       "      <td>15-16</td>\n",
       "    </tr>\n",
       "  </tbody>\n",
       "</table>\n",
       "</div>"
      ],
      "text/plain": [
       "           PatientID DiagnosisDate   met_date                GroupStage  \\\n",
       "16048  F928F95BBA130    1996-11-27 2013-04-11  Unknown / Not documented   \n",
       "1331   FDF411F6C0D05    2009-11-02 2015-10-01  Unknown / Not documented   \n",
       "7164   F6D21D2E0630F    2008-02-14 2015-08-15  Unknown / Not documented   \n",
       "15597  F416FB7B8B59D    2001-12-01 2015-03-26                        IV   \n",
       "14531  F7DD82C44916F    2007-04-25 2015-03-27  Unknown / Not documented   \n",
       "\n",
       "                         TStage                    NStage  \\\n",
       "16048  Unknown / Not documented  Unknown / Not documented   \n",
       "1331   Unknown / Not documented  Unknown / Not documented   \n",
       "7164   Unknown / Not documented  Unknown / Not documented   \n",
       "15597                        TX                        NX   \n",
       "14531                       T2c                        N0   \n",
       "\n",
       "                         MStage             Histology IsCRPC    CRPCDate  \\\n",
       "16048  Unknown / Not documented        Adenocarcinoma     No         NaN   \n",
       "1331                         M0        Adenocarcinoma    Yes  2015-12-30   \n",
       "7164   Unknown / Not documented  Prostate cancer, NOS     No         NaN   \n",
       "15597                        M0        Adenocarcinoma     No         NaN   \n",
       "14531                        M0        Adenocarcinoma    Yes  2015-03-24   \n",
       "\n",
       "                   GleasonScore  PSADiagnosis  PSAMetDiagnosis met_year_cat  \n",
       "16048                 3 + 4 = 7           NaN             0.98        13-14  \n",
       "1331                          9          27.7            76.50        15-16  \n",
       "7164   Unknown / Not documented           NaN             1.70        15-16  \n",
       "15597   Less than or equal to 6           6.8             0.71        15-16  \n",
       "14531                         8          22.0            28.00        15-16  "
      ]
     },
     "execution_count": 61,
     "metadata": {},
     "output_type": "execute_result"
    }
   ],
   "source": [
    "enhanced_met.sample(5)"
   ]
  },
  {
   "cell_type": "code",
   "execution_count": 62,
   "id": "8236938f",
   "metadata": {},
   "outputs": [
    {
     "name": "stdout",
     "output_type": "stream",
     "text": [
      "<class 'pandas.core.frame.DataFrame'>\n",
      "RangeIndex: 18927 entries, 0 to 18926\n",
      "Data columns (total 14 columns):\n",
      " #   Column           Non-Null Count  Dtype         \n",
      "---  ------           --------------  -----         \n",
      " 0   PatientID        18927 non-null  object        \n",
      " 1   DiagnosisDate    18668 non-null  object        \n",
      " 2   met_date         18927 non-null  datetime64[ns]\n",
      " 3   GroupStage       18927 non-null  object        \n",
      " 4   TStage           18927 non-null  object        \n",
      " 5   NStage           18927 non-null  object        \n",
      " 6   MStage           18927 non-null  object        \n",
      " 7   Histology        18927 non-null  object        \n",
      " 8   IsCRPC           18927 non-null  object        \n",
      " 9   CRPCDate         11708 non-null  object        \n",
      " 10  GleasonScore     18927 non-null  object        \n",
      " 11  PSADiagnosis     13463 non-null  float64       \n",
      " 12  PSAMetDiagnosis  16184 non-null  float64       \n",
      " 13  met_year_cat     18927 non-null  category      \n",
      "dtypes: category(1), datetime64[ns](1), float64(2), object(10)\n",
      "memory usage: 1.9+ MB\n"
     ]
    }
   ],
   "source": [
    "enhanced_met.info()"
   ]
  },
  {
   "cell_type": "code",
   "execution_count": 63,
   "id": "d158f3f4",
   "metadata": {},
   "outputs": [],
   "source": [
    "enhanced_met = enhanced_met[enhanced_met['PatientID'].isin(train_IDs)]"
   ]
  },
  {
   "cell_type": "code",
   "execution_count": 64,
   "id": "eec28e8e",
   "metadata": {},
   "outputs": [
    {
     "data": {
      "text/plain": [
       "(15141, 15141)"
      ]
     },
     "execution_count": 64,
     "metadata": {},
     "output_type": "execute_result"
    }
   ],
   "source": [
    "row_ID(enhanced_met)"
   ]
  },
  {
   "cell_type": "markdown",
   "id": "0b3d2d41",
   "metadata": {},
   "source": [
    "#### GroupStage "
   ]
  },
  {
   "cell_type": "code",
   "execution_count": 65,
   "id": "fc567877",
   "metadata": {},
   "outputs": [
    {
     "data": {
      "text/plain": [
       "Unknown / Not documented    0.397002\n",
       "IV                          0.284592\n",
       "IVB                         0.203553\n",
       "III                         0.030975\n",
       "IIB                         0.024833\n",
       "II                          0.016710\n",
       "IIA                         0.012086\n",
       "IVA                         0.007859\n",
       "I                           0.007727\n",
       "IIIC                        0.006340\n",
       "IIIB                        0.004293\n",
       "IIC                         0.002774\n",
       "IIIA                        0.001255\n",
       "Name: GroupStage, dtype: float64"
      ]
     },
     "execution_count": 65,
     "metadata": {},
     "output_type": "execute_result"
    }
   ],
   "source": [
    "enhanced_met.GroupStage.value_counts(dropna = False, normalize = True)"
   ]
  },
  {
   "cell_type": "code",
   "execution_count": 66,
   "id": "0437827a",
   "metadata": {},
   "outputs": [],
   "source": [
    "# Dictionary for regrouping stages\n",
    "stage_dict = { \n",
    "    'I': 'I',\n",
    "    'II': 'II',\n",
    "    'IIA': 'II',\n",
    "    'IIB': 'II',\n",
    "    'IIC': 'II',\n",
    "    'III': 'III',\n",
    "    'IIIA': 'III',\n",
    "    'IIIB': 'III',\n",
    "    'IIIC': 'III',\n",
    "    'IV': 'IV',\n",
    "    'IVA': 'IV',\n",
    "    'IVB': 'IV',\n",
    "    'Unknown / Not documented': 'unknown'\n",
    "}\n",
    "\n",
    "enhanced_met['stage'] = enhanced_met['GroupStage'].map(stage_dict)"
   ]
  },
  {
   "cell_type": "code",
   "execution_count": 67,
   "id": "6b400f22",
   "metadata": {},
   "outputs": [
    {
     "data": {
      "text/plain": [
       "IV         0.496004\n",
       "unknown    0.397002\n",
       "II         0.056403\n",
       "III        0.042864\n",
       "I          0.007727\n",
       "Name: stage, dtype: float64"
      ]
     },
     "execution_count": 67,
     "metadata": {},
     "output_type": "execute_result"
    }
   ],
   "source": [
    "enhanced_met['stage'].value_counts(normalize = True, dropna = False)"
   ]
  },
  {
   "cell_type": "code",
   "execution_count": 68,
   "id": "c571dcf5",
   "metadata": {},
   "outputs": [],
   "source": [
    "enhanced_met = enhanced_met.drop(columns = ['GroupStage'])"
   ]
  },
  {
   "cell_type": "markdown",
   "id": "00342dd8",
   "metadata": {},
   "source": [
    "#### TStage"
   ]
  },
  {
   "cell_type": "code",
   "execution_count": 69,
   "id": "7bddc6f7",
   "metadata": {},
   "outputs": [
    {
     "data": {
      "text/plain": [
       "Unknown / Not documented    0.542633\n",
       "T1c                         0.074037\n",
       "T2c                         0.072584\n",
       "T3b                         0.068093\n",
       "T3a                         0.052440\n",
       "TX                          0.044779\n",
       "T2                          0.030315\n",
       "T4                          0.028532\n",
       "T2b                         0.027607\n",
       "T3                          0.025428\n",
       "T2a                         0.024107\n",
       "T1b                         0.003699\n",
       "T1                          0.003236\n",
       "T1a                         0.001783\n",
       "T0                          0.000727\n",
       "Name: TStage, dtype: float64"
      ]
     },
     "execution_count": 69,
     "metadata": {},
     "output_type": "execute_result"
    }
   ],
   "source": [
    "enhanced_met.TStage.value_counts(normalize = True, dropna = False)"
   ]
  },
  {
   "cell_type": "code",
   "execution_count": 70,
   "id": "bfcf7861",
   "metadata": {},
   "outputs": [],
   "source": [
    "enhanced_met = enhanced_met.drop(columns = ['TStage'])"
   ]
  },
  {
   "cell_type": "markdown",
   "id": "4c634eec",
   "metadata": {},
   "source": [
    "#### NStage"
   ]
  },
  {
   "cell_type": "code",
   "execution_count": 71,
   "id": "c8ef216b",
   "metadata": {},
   "outputs": [
    {
     "data": {
      "text/plain": [
       "Unknown / Not documented    0.557493\n",
       "N0                          0.228519\n",
       "N1                          0.149924\n",
       "NX                          0.064064\n",
       "Name: NStage, dtype: float64"
      ]
     },
     "execution_count": 71,
     "metadata": {},
     "output_type": "execute_result"
    }
   ],
   "source": [
    "enhanced_met.NStage.value_counts(normalize = True, dropna = False)"
   ]
  },
  {
   "cell_type": "markdown",
   "id": "77796c83",
   "metadata": {},
   "source": [
    "#### MStage"
   ]
  },
  {
   "cell_type": "code",
   "execution_count": 72,
   "id": "0e7915b4",
   "metadata": {},
   "outputs": [
    {
     "data": {
      "text/plain": [
       "M0                          0.347269\n",
       "M1                          0.330361\n",
       "Unknown / Not documented    0.197213\n",
       "M1b                         0.084341\n",
       "M1c                         0.028994\n",
       "M1a                         0.011822\n",
       "Name: MStage, dtype: float64"
      ]
     },
     "execution_count": 72,
     "metadata": {},
     "output_type": "execute_result"
    }
   ],
   "source": [
    "enhanced_met.MStage.value_counts(normalize = True, dropna = False)"
   ]
  },
  {
   "cell_type": "markdown",
   "id": "a6ace375",
   "metadata": {},
   "source": [
    "#### Histology"
   ]
  },
  {
   "cell_type": "code",
   "execution_count": 73,
   "id": "1e67a624",
   "metadata": {},
   "outputs": [
    {
     "data": {
      "text/plain": [
       "Adenocarcinoma          0.818638\n",
       "Prostate cancer, NOS    0.181362\n",
       "Name: Histology, dtype: float64"
      ]
     },
     "execution_count": 73,
     "metadata": {},
     "output_type": "execute_result"
    }
   ],
   "source": [
    "enhanced_met.Histology.value_counts(normalize = True, dropna = False)"
   ]
  },
  {
   "cell_type": "markdown",
   "id": "3e2632c3",
   "metadata": {},
   "source": [
    "#### GleasonScore"
   ]
  },
  {
   "cell_type": "code",
   "execution_count": 74,
   "id": "b79927ae",
   "metadata": {},
   "outputs": [
    {
     "data": {
      "text/plain": [
       "Unknown / Not documented            0.278713\n",
       "9                                   0.264712\n",
       "8                                   0.152632\n",
       "4 + 3 = 7                           0.087973\n",
       "3 + 4 = 7                           0.073245\n",
       "Less than or equal to 6             0.062017\n",
       "10                                  0.058847\n",
       "7 (when breakdown not available)    0.021861\n",
       "Name: GleasonScore, dtype: float64"
      ]
     },
     "execution_count": 74,
     "metadata": {},
     "output_type": "execute_result"
    }
   ],
   "source": [
    "enhanced_met.GleasonScore.value_counts(normalize = True, dropna = False)"
   ]
  },
  {
   "cell_type": "markdown",
   "id": "dce609e4",
   "metadata": {},
   "source": [
    "#### MetDiagnosisDate"
   ]
  },
  {
   "cell_type": "code",
   "execution_count": 75,
   "id": "3350a323",
   "metadata": {},
   "outputs": [
    {
     "data": {
      "text/plain": [
       "Timestamp('2013-01-01 00:00:00')"
      ]
     },
     "execution_count": 75,
     "metadata": {},
     "output_type": "execute_result"
    }
   ],
   "source": [
    "enhanced_met['met_date'].min()"
   ]
  },
  {
   "cell_type": "code",
   "execution_count": 76,
   "id": "d2f19021",
   "metadata": {},
   "outputs": [
    {
     "data": {
      "text/plain": [
       "Timestamp('2022-09-30 00:00:00')"
      ]
     },
     "execution_count": 76,
     "metadata": {},
     "output_type": "execute_result"
    }
   ],
   "source": [
    "enhanced_met['met_date'].max()"
   ]
  },
  {
   "cell_type": "code",
   "execution_count": 77,
   "id": "43a9feba",
   "metadata": {},
   "outputs": [
    {
     "data": {
      "text/plain": [
       "count    15141.000000\n",
       "mean      2017.352619\n",
       "std          2.680035\n",
       "min       2013.000000\n",
       "25%       2015.000000\n",
       "50%       2017.000000\n",
       "75%       2020.000000\n",
       "max       2022.000000\n",
       "Name: met_date, dtype: float64"
      ]
     },
     "execution_count": 77,
     "metadata": {},
     "output_type": "execute_result"
    }
   ],
   "source": [
    "enhanced_met['met_date'].dt.year.describe()"
   ]
  },
  {
   "cell_type": "code",
   "execution_count": 78,
   "id": "17e7ffcf",
   "metadata": {},
   "outputs": [],
   "source": [
    "enhanced_met.loc[:, 'met_year'] = enhanced_met['met_date'].dt.year"
   ]
  },
  {
   "cell_type": "markdown",
   "id": "cb21e534",
   "metadata": {},
   "source": [
    "#### DiagnosisDate"
   ]
  },
  {
   "cell_type": "code",
   "execution_count": 79,
   "id": "cb9ff8c7",
   "metadata": {},
   "outputs": [
    {
     "data": {
      "text/plain": [
       "206"
      ]
     },
     "execution_count": 79,
     "metadata": {},
     "output_type": "execute_result"
    }
   ],
   "source": [
    "enhanced_met['DiagnosisDate'].isna().sum()"
   ]
  },
  {
   "cell_type": "code",
   "execution_count": 80,
   "id": "94801198",
   "metadata": {},
   "outputs": [],
   "source": [
    "enhanced_met = enhanced_met.rename(columns = {'DiagnosisDate': 'diagnosis_date'})"
   ]
  },
  {
   "cell_type": "code",
   "execution_count": 81,
   "id": "6c13be4d",
   "metadata": {},
   "outputs": [],
   "source": [
    "# Missing diagnosis_date will be replaced with met_date; other dates will be left untouched. \n",
    "enhanced_met['diagnosis_date'] = (\n",
    "    np.where(enhanced_met['diagnosis_date'].isna(), enhanced_met['met_date'], enhanced_met['diagnosis_date'])\n",
    ")"
   ]
  },
  {
   "cell_type": "code",
   "execution_count": 82,
   "id": "56206ca9",
   "metadata": {},
   "outputs": [],
   "source": [
    "enhanced_met['diagnosis_date'] = pd.to_datetime(enhanced_met['diagnosis_date'])"
   ]
  },
  {
   "cell_type": "code",
   "execution_count": 83,
   "id": "6ae1add2",
   "metadata": {},
   "outputs": [
    {
     "data": {
      "text/plain": [
       "Timestamp('1970-01-01 00:00:00')"
      ]
     },
     "execution_count": 83,
     "metadata": {},
     "output_type": "execute_result"
    }
   ],
   "source": [
    "enhanced_met['diagnosis_date'].min()"
   ]
  },
  {
   "cell_type": "code",
   "execution_count": 84,
   "id": "6ffa0aed",
   "metadata": {},
   "outputs": [
    {
     "data": {
      "text/plain": [
       "Timestamp('2022-09-29 00:00:00')"
      ]
     },
     "execution_count": 84,
     "metadata": {},
     "output_type": "execute_result"
    }
   ],
   "source": [
    "enhanced_met['diagnosis_date'].max()"
   ]
  },
  {
   "cell_type": "code",
   "execution_count": 85,
   "id": "b3e439b0",
   "metadata": {},
   "outputs": [
    {
     "data": {
      "text/plain": [
       "count    15141.000000\n",
       "mean      2012.745856\n",
       "std          7.091309\n",
       "min       1970.000000\n",
       "25%       2009.000000\n",
       "50%       2015.000000\n",
       "75%       2018.000000\n",
       "max       2022.000000\n",
       "Name: diagnosis_date, dtype: float64"
      ]
     },
     "execution_count": 85,
     "metadata": {},
     "output_type": "execute_result"
    }
   ],
   "source": [
    "enhanced_met['diagnosis_date'].dt.year.describe()"
   ]
  },
  {
   "cell_type": "code",
   "execution_count": 86,
   "id": "4565dbd7",
   "metadata": {},
   "outputs": [
    {
     "data": {
      "text/plain": [
       "<AxesSubplot:xlabel='diagnosis_date'>"
      ]
     },
     "execution_count": 86,
     "metadata": {},
     "output_type": "execute_result"
    },
    {
     "data": {
      "image/png": "[encoded data removed]",
      "text/plain": [
       "<Figure size 640x480 with 1 Axes>"
      ]
     },
     "metadata": {},
     "output_type": "display_data"
    }
   ],
   "source": [
    "# Bar plot of number of new CRC diagnoses per year.\n",
    "enhanced_met.groupby([enhanced_met['diagnosis_date'].dt.year])['PatientID'].count().plot(kind = 'bar')"
   ]
  },
  {
   "cell_type": "markdown",
   "id": "95690073",
   "metadata": {},
   "source": [
    "**The range of dates for diagnosis is 1/1970 to 9/2022 with a median year of 2015.** "
   ]
  },
  {
   "cell_type": "code",
   "execution_count": 87,
   "id": "5c3495f2",
   "metadata": {},
   "outputs": [
    {
     "data": {
      "text/plain": [
       "0.5308103824053894"
      ]
     },
     "execution_count": 87,
     "metadata": {},
     "output_type": "execute_result"
    }
   ],
   "source": [
    "# Percent of patients diagnosed prior to metastatic diagnosis. \n",
    "(\n",
    "    enhanced_met\n",
    "    .query('diagnosis_date < met_date')\n",
    "    .shape[0]/(len(enhanced_met))\n",
    ")"
   ]
  },
  {
   "cell_type": "markdown",
   "id": "eb87718d",
   "metadata": {},
   "source": [
    "#### Time from diagnosis date to metastatic date"
   ]
  },
  {
   "cell_type": "code",
   "execution_count": 88,
   "id": "132ad747",
   "metadata": {},
   "outputs": [],
   "source": [
    "enhanced_met.loc[:, 'delta_met_diagnosis'] = (enhanced_met['met_date'] - enhanced_met['diagnosis_date']).dt.days"
   ]
  },
  {
   "cell_type": "code",
   "execution_count": 89,
   "id": "cffa7dcb",
   "metadata": {},
   "outputs": [
    {
     "data": {
      "text/html": [
       "<div>\n",
       "<style scoped>\n",
       "    .dataframe tbody tr th:only-of-type {\n",
       "        vertical-align: middle;\n",
       "    }\n",
       "\n",
       "    .dataframe tbody tr th {\n",
       "        vertical-align: top;\n",
       "    }\n",
       "\n",
       "    .dataframe thead th {\n",
       "        text-align: right;\n",
       "    }\n",
       "</style>\n",
       "<table border=\"1\" class=\"dataframe\">\n",
       "  <thead>\n",
       "    <tr style=\"text-align: right;\">\n",
       "      <th></th>\n",
       "      <th>met_year</th>\n",
       "      <th>delta_met_diagnosis</th>\n",
       "    </tr>\n",
       "  </thead>\n",
       "  <tbody>\n",
       "    <tr>\n",
       "      <th>count</th>\n",
       "      <td>8037.000000</td>\n",
       "      <td>8037.000000</td>\n",
       "    </tr>\n",
       "    <tr>\n",
       "      <th>mean</th>\n",
       "      <td>2017.149683</td>\n",
       "      <td>3214.050268</td>\n",
       "    </tr>\n",
       "    <tr>\n",
       "      <th>std</th>\n",
       "      <td>2.680352</td>\n",
       "      <td>2409.455043</td>\n",
       "    </tr>\n",
       "    <tr>\n",
       "      <th>min</th>\n",
       "      <td>2013.000000</td>\n",
       "      <td>24.000000</td>\n",
       "    </tr>\n",
       "    <tr>\n",
       "      <th>25%</th>\n",
       "      <td>2015.000000</td>\n",
       "      <td>1277.000000</td>\n",
       "    </tr>\n",
       "    <tr>\n",
       "      <th>50%</th>\n",
       "      <td>2017.000000</td>\n",
       "      <td>2667.000000</td>\n",
       "    </tr>\n",
       "    <tr>\n",
       "      <th>75%</th>\n",
       "      <td>2019.000000</td>\n",
       "      <td>4665.000000</td>\n",
       "    </tr>\n",
       "    <tr>\n",
       "      <th>max</th>\n",
       "      <td>2022.000000</td>\n",
       "      <td>18993.000000</td>\n",
       "    </tr>\n",
       "  </tbody>\n",
       "</table>\n",
       "</div>"
      ],
      "text/plain": [
       "          met_year  delta_met_diagnosis\n",
       "count  8037.000000          8037.000000\n",
       "mean   2017.149683          3214.050268\n",
       "std       2.680352          2409.455043\n",
       "min    2013.000000            24.000000\n",
       "25%    2015.000000          1277.000000\n",
       "50%    2017.000000          2667.000000\n",
       "75%    2019.000000          4665.000000\n",
       "max    2022.000000         18993.000000"
      ]
     },
     "execution_count": 89,
     "metadata": {},
     "output_type": "execute_result"
    }
   ],
   "source": [
    "# Brief summary statistics on time between diagnosis date and metastatic diagnosis.\n",
    "(\n",
    "    enhanced_met[['met_year', 'delta_met_diagnosis']]\n",
    "    .query('delta_met_diagnosis > 0')\n",
    "    .describe()\n",
    ")"
   ]
  },
  {
   "cell_type": "markdown",
   "id": "d1d69722",
   "metadata": {},
   "source": [
    "#### CRPC"
   ]
  },
  {
   "cell_type": "code",
   "execution_count": 90,
   "id": "4e89c601",
   "metadata": {},
   "outputs": [
    {
     "data": {
      "text/plain": [
       "Yes    0.631332\n",
       "No     0.368668\n",
       "Name: IsCRPC, dtype: float64"
      ]
     },
     "execution_count": 90,
     "metadata": {},
     "output_type": "execute_result"
    }
   ],
   "source": [
    "enhanced_met.IsCRPC.value_counts(normalize = True, dropna = False)"
   ]
  },
  {
   "cell_type": "code",
   "execution_count": 91,
   "id": "36a2f04d",
   "metadata": {},
   "outputs": [],
   "source": [
    "enhanced_met['CRPCDate'] = pd.to_datetime(enhanced_met['CRPCDate'])"
   ]
  },
  {
   "cell_type": "code",
   "execution_count": 92,
   "id": "5fb4a8d0",
   "metadata": {},
   "outputs": [],
   "source": [
    "# Make CRPC true if date of CRPC is <= +30 days from metastatic diagnosis date. \n",
    "enhanced_met['crpc'] = (\n",
    "    np.where(((enhanced_met['CRPCDate'] - enhanced_met['met_date']).dt.days <= 30), 1, 0)\n",
    ")"
   ]
  },
  {
   "cell_type": "code",
   "execution_count": 93,
   "id": "5da78903",
   "metadata": {},
   "outputs": [
    {
     "data": {
      "text/html": [
       "<div>\n",
       "<style scoped>\n",
       "    .dataframe tbody tr th:only-of-type {\n",
       "        vertical-align: middle;\n",
       "    }\n",
       "\n",
       "    .dataframe tbody tr th {\n",
       "        vertical-align: top;\n",
       "    }\n",
       "\n",
       "    .dataframe thead th {\n",
       "        text-align: right;\n",
       "    }\n",
       "</style>\n",
       "<table border=\"1\" class=\"dataframe\">\n",
       "  <thead>\n",
       "    <tr style=\"text-align: right;\">\n",
       "      <th></th>\n",
       "      <th>PatientID</th>\n",
       "      <th>diagnosis_date</th>\n",
       "      <th>met_date</th>\n",
       "      <th>NStage</th>\n",
       "      <th>MStage</th>\n",
       "      <th>Histology</th>\n",
       "      <th>IsCRPC</th>\n",
       "      <th>CRPCDate</th>\n",
       "      <th>GleasonScore</th>\n",
       "      <th>PSADiagnosis</th>\n",
       "      <th>PSAMetDiagnosis</th>\n",
       "      <th>met_year_cat</th>\n",
       "      <th>stage</th>\n",
       "      <th>met_year</th>\n",
       "      <th>delta_met_diagnosis</th>\n",
       "      <th>crpc</th>\n",
       "    </tr>\n",
       "  </thead>\n",
       "  <tbody>\n",
       "    <tr>\n",
       "      <th>5048</th>\n",
       "      <td>F738721A49578</td>\n",
       "      <td>1997-01-01</td>\n",
       "      <td>2016-07-25</td>\n",
       "      <td>Unknown / Not documented</td>\n",
       "      <td>Unknown / Not documented</td>\n",
       "      <td>Prostate cancer, NOS</td>\n",
       "      <td>Yes</td>\n",
       "      <td>2016-07-01</td>\n",
       "      <td>Unknown / Not documented</td>\n",
       "      <td>NaN</td>\n",
       "      <td>83.00</td>\n",
       "      <td>15-16</td>\n",
       "      <td>unknown</td>\n",
       "      <td>2016</td>\n",
       "      <td>7145</td>\n",
       "      <td>1</td>\n",
       "    </tr>\n",
       "    <tr>\n",
       "      <th>11044</th>\n",
       "      <td>F5061DDE9B84B</td>\n",
       "      <td>2013-01-01</td>\n",
       "      <td>2014-11-05</td>\n",
       "      <td>Unknown / Not documented</td>\n",
       "      <td>Unknown / Not documented</td>\n",
       "      <td>Prostate cancer, NOS</td>\n",
       "      <td>Yes</td>\n",
       "      <td>2014-12-01</td>\n",
       "      <td>9</td>\n",
       "      <td>900.0</td>\n",
       "      <td>466.00</td>\n",
       "      <td>13-14</td>\n",
       "      <td>unknown</td>\n",
       "      <td>2014</td>\n",
       "      <td>673</td>\n",
       "      <td>1</td>\n",
       "    </tr>\n",
       "    <tr>\n",
       "      <th>13424</th>\n",
       "      <td>F3CAE8A87B344</td>\n",
       "      <td>1999-01-01</td>\n",
       "      <td>2020-10-07</td>\n",
       "      <td>Unknown / Not documented</td>\n",
       "      <td>M0</td>\n",
       "      <td>Prostate cancer, NOS</td>\n",
       "      <td>Yes</td>\n",
       "      <td>2019-12-01</td>\n",
       "      <td>Unknown / Not documented</td>\n",
       "      <td>NaN</td>\n",
       "      <td>6.37</td>\n",
       "      <td>19-20</td>\n",
       "      <td>unknown</td>\n",
       "      <td>2020</td>\n",
       "      <td>7950</td>\n",
       "      <td>1</td>\n",
       "    </tr>\n",
       "    <tr>\n",
       "      <th>17761</th>\n",
       "      <td>FF2CBFCDB5084</td>\n",
       "      <td>2000-11-01</td>\n",
       "      <td>2019-09-05</td>\n",
       "      <td>Unknown / Not documented</td>\n",
       "      <td>Unknown / Not documented</td>\n",
       "      <td>Adenocarcinoma</td>\n",
       "      <td>Yes</td>\n",
       "      <td>2013-01-01</td>\n",
       "      <td>4 + 3 = 7</td>\n",
       "      <td>NaN</td>\n",
       "      <td>NaN</td>\n",
       "      <td>19-20</td>\n",
       "      <td>unknown</td>\n",
       "      <td>2019</td>\n",
       "      <td>6882</td>\n",
       "      <td>1</td>\n",
       "    </tr>\n",
       "    <tr>\n",
       "      <th>12867</th>\n",
       "      <td>FAE4C38D682CC</td>\n",
       "      <td>1998-12-09</td>\n",
       "      <td>2014-08-05</td>\n",
       "      <td>Unknown / Not documented</td>\n",
       "      <td>Unknown / Not documented</td>\n",
       "      <td>Adenocarcinoma</td>\n",
       "      <td>Yes</td>\n",
       "      <td>2014-08-12</td>\n",
       "      <td>Less than or equal to 6</td>\n",
       "      <td>10.2</td>\n",
       "      <td>NaN</td>\n",
       "      <td>13-14</td>\n",
       "      <td>unknown</td>\n",
       "      <td>2014</td>\n",
       "      <td>5718</td>\n",
       "      <td>1</td>\n",
       "    </tr>\n",
       "  </tbody>\n",
       "</table>\n",
       "</div>"
      ],
      "text/plain": [
       "           PatientID diagnosis_date   met_date                    NStage  \\\n",
       "5048   F738721A49578     1997-01-01 2016-07-25  Unknown / Not documented   \n",
       "11044  F5061DDE9B84B     2013-01-01 2014-11-05  Unknown / Not documented   \n",
       "13424  F3CAE8A87B344     1999-01-01 2020-10-07  Unknown / Not documented   \n",
       "17761  FF2CBFCDB5084     2000-11-01 2019-09-05  Unknown / Not documented   \n",
       "12867  FAE4C38D682CC     1998-12-09 2014-08-05  Unknown / Not documented   \n",
       "\n",
       "                         MStage             Histology IsCRPC   CRPCDate  \\\n",
       "5048   Unknown / Not documented  Prostate cancer, NOS    Yes 2016-07-01   \n",
       "11044  Unknown / Not documented  Prostate cancer, NOS    Yes 2014-12-01   \n",
       "13424                        M0  Prostate cancer, NOS    Yes 2019-12-01   \n",
       "17761  Unknown / Not documented        Adenocarcinoma    Yes 2013-01-01   \n",
       "12867  Unknown / Not documented        Adenocarcinoma    Yes 2014-08-12   \n",
       "\n",
       "                   GleasonScore  PSADiagnosis  PSAMetDiagnosis met_year_cat  \\\n",
       "5048   Unknown / Not documented           NaN            83.00        15-16   \n",
       "11044                         9         900.0           466.00        13-14   \n",
       "13424  Unknown / Not documented           NaN             6.37        19-20   \n",
       "17761                 4 + 3 = 7           NaN              NaN        19-20   \n",
       "12867   Less than or equal to 6          10.2              NaN        13-14   \n",
       "\n",
       "         stage  met_year  delta_met_diagnosis  crpc  \n",
       "5048   unknown      2016                 7145     1  \n",
       "11044  unknown      2014                  673     1  \n",
       "13424  unknown      2020                 7950     1  \n",
       "17761  unknown      2019                 6882     1  \n",
       "12867  unknown      2014                 5718     1  "
      ]
     },
     "execution_count": 93,
     "metadata": {},
     "output_type": "execute_result"
    }
   ],
   "source": [
    "enhanced_met.query('crpc == 1').sample(5)"
   ]
  },
  {
   "cell_type": "code",
   "execution_count": 94,
   "id": "7ceb5042",
   "metadata": {},
   "outputs": [],
   "source": [
    "enhanced_met['crpc_time'] = (\n",
    "    np.where(enhanced_met['crpc'] == 1, (enhanced_met['CRPCDate'] - enhanced_met['diagnosis_date']).dt.days, 0)\n",
    ")"
   ]
  },
  {
   "cell_type": "code",
   "execution_count": 95,
   "id": "f86900c9",
   "metadata": {},
   "outputs": [
    {
     "data": {
      "text/html": [
       "<div>\n",
       "<style scoped>\n",
       "    .dataframe tbody tr th:only-of-type {\n",
       "        vertical-align: middle;\n",
       "    }\n",
       "\n",
       "    .dataframe tbody tr th {\n",
       "        vertical-align: top;\n",
       "    }\n",
       "\n",
       "    .dataframe thead th {\n",
       "        text-align: right;\n",
       "    }\n",
       "</style>\n",
       "<table border=\"1\" class=\"dataframe\">\n",
       "  <thead>\n",
       "    <tr style=\"text-align: right;\">\n",
       "      <th></th>\n",
       "      <th>crpc_time</th>\n",
       "    </tr>\n",
       "  </thead>\n",
       "  <tbody>\n",
       "    <tr>\n",
       "      <th>count</th>\n",
       "      <td>2922.000000</td>\n",
       "    </tr>\n",
       "    <tr>\n",
       "      <th>mean</th>\n",
       "      <td>3098.898700</td>\n",
       "    </tr>\n",
       "    <tr>\n",
       "      <th>std</th>\n",
       "      <td>2359.607669</td>\n",
       "    </tr>\n",
       "    <tr>\n",
       "      <th>min</th>\n",
       "      <td>2.000000</td>\n",
       "    </tr>\n",
       "    <tr>\n",
       "      <th>25%</th>\n",
       "      <td>1114.000000</td>\n",
       "    </tr>\n",
       "    <tr>\n",
       "      <th>50%</th>\n",
       "      <td>2561.500000</td>\n",
       "    </tr>\n",
       "    <tr>\n",
       "      <th>75%</th>\n",
       "      <td>4625.000000</td>\n",
       "    </tr>\n",
       "    <tr>\n",
       "      <th>max</th>\n",
       "      <td>14137.000000</td>\n",
       "    </tr>\n",
       "  </tbody>\n",
       "</table>\n",
       "</div>"
      ],
      "text/plain": [
       "          crpc_time\n",
       "count   2922.000000\n",
       "mean    3098.898700\n",
       "std     2359.607669\n",
       "min        2.000000\n",
       "25%     1114.000000\n",
       "50%     2561.500000\n",
       "75%     4625.000000\n",
       "max    14137.000000"
      ]
     },
     "execution_count": 95,
     "metadata": {},
     "output_type": "execute_result"
    }
   ],
   "source": [
    "enhanced_met[['crpc_time']].query('crpc_time > 0').describe()"
   ]
  },
  {
   "cell_type": "code",
   "execution_count": 96,
   "id": "9fe02b3a",
   "metadata": {},
   "outputs": [
    {
     "data": {
      "text/plain": [
       "0    12193\n",
       "1     2948\n",
       "Name: crpc, dtype: int64"
      ]
     },
     "execution_count": 96,
     "metadata": {},
     "output_type": "execute_result"
    }
   ],
   "source": [
    "enhanced_met.crpc.value_counts()"
   ]
  },
  {
   "cell_type": "code",
   "execution_count": 97,
   "id": "8366d53f",
   "metadata": {},
   "outputs": [
    {
     "data": {
      "text/plain": [
       "Yes    9559\n",
       "No     5582\n",
       "Name: IsCRPC, dtype: int64"
      ]
     },
     "execution_count": 97,
     "metadata": {},
     "output_type": "execute_result"
    }
   ],
   "source": [
    "enhanced_met.IsCRPC.value_counts()"
   ]
  },
  {
   "cell_type": "code",
   "execution_count": 98,
   "id": "5194fa04",
   "metadata": {},
   "outputs": [],
   "source": [
    "# Keep CRPCDate for mortality section.\n",
    "enhanced_met = enhanced_met.drop(columns = ['IsCRPC'])"
   ]
  },
  {
   "cell_type": "markdown",
   "id": "ce55ccf1",
   "metadata": {},
   "source": [
    "#### PSA "
   ]
  },
  {
   "cell_type": "code",
   "execution_count": 99,
   "id": "eccf4d95",
   "metadata": {},
   "outputs": [
    {
     "data": {
      "text/plain": [
       "4385"
      ]
     },
     "execution_count": 99,
     "metadata": {},
     "output_type": "execute_result"
    }
   ],
   "source": [
    "enhanced_met['PSADiagnosis'].isna().sum()"
   ]
  },
  {
   "cell_type": "code",
   "execution_count": 100,
   "id": "822616b0",
   "metadata": {},
   "outputs": [
    {
     "data": {
      "text/plain": [
       "2201"
      ]
     },
     "execution_count": 100,
     "metadata": {},
     "output_type": "execute_result"
    }
   ],
   "source": [
    "enhanced_met['PSAMetDiagnosis'].isna().sum()"
   ]
  },
  {
   "cell_type": "code",
   "execution_count": 101,
   "id": "5e5361b3",
   "metadata": {},
   "outputs": [
    {
     "data": {
      "text/html": [
       "<div>\n",
       "<style scoped>\n",
       "    .dataframe tbody tr th:only-of-type {\n",
       "        vertical-align: middle;\n",
       "    }\n",
       "\n",
       "    .dataframe tbody tr th {\n",
       "        vertical-align: top;\n",
       "    }\n",
       "\n",
       "    .dataframe thead th {\n",
       "        text-align: right;\n",
       "    }\n",
       "</style>\n",
       "<table border=\"1\" class=\"dataframe\">\n",
       "  <thead>\n",
       "    <tr style=\"text-align: right;\">\n",
       "      <th></th>\n",
       "      <th>PSADiagnosis</th>\n",
       "      <th>PSAMetDiagnosis</th>\n",
       "    </tr>\n",
       "  </thead>\n",
       "  <tbody>\n",
       "    <tr>\n",
       "      <th>count</th>\n",
       "      <td>10756.000000</td>\n",
       "      <td>12940.000000</td>\n",
       "    </tr>\n",
       "    <tr>\n",
       "      <th>mean</th>\n",
       "      <td>359.737904</td>\n",
       "      <td>354.208365</td>\n",
       "    </tr>\n",
       "    <tr>\n",
       "      <th>std</th>\n",
       "      <td>1963.667328</td>\n",
       "      <td>1819.321581</td>\n",
       "    </tr>\n",
       "    <tr>\n",
       "      <th>min</th>\n",
       "      <td>0.000000</td>\n",
       "      <td>0.000000</td>\n",
       "    </tr>\n",
       "    <tr>\n",
       "      <th>25%</th>\n",
       "      <td>9.800000</td>\n",
       "      <td>11.000000</td>\n",
       "    </tr>\n",
       "    <tr>\n",
       "      <th>50%</th>\n",
       "      <td>35.000000</td>\n",
       "      <td>44.500000</td>\n",
       "    </tr>\n",
       "    <tr>\n",
       "      <th>75%</th>\n",
       "      <td>191.375000</td>\n",
       "      <td>207.250000</td>\n",
       "    </tr>\n",
       "    <tr>\n",
       "      <th>max</th>\n",
       "      <td>127000.000000</td>\n",
       "      <td>127000.000000</td>\n",
       "    </tr>\n",
       "  </tbody>\n",
       "</table>\n",
       "</div>"
      ],
      "text/plain": [
       "        PSADiagnosis  PSAMetDiagnosis\n",
       "count   10756.000000     12940.000000\n",
       "mean      359.737904       354.208365\n",
       "std      1963.667328      1819.321581\n",
       "min         0.000000         0.000000\n",
       "25%         9.800000        11.000000\n",
       "50%        35.000000        44.500000\n",
       "75%       191.375000       207.250000\n",
       "max    127000.000000    127000.000000"
      ]
     },
     "execution_count": 101,
     "metadata": {},
     "output_type": "execute_result"
    }
   ],
   "source": [
    "enhanced_met[['PSADiagnosis', 'PSAMetDiagnosis']].describe()"
   ]
  },
  {
   "cell_type": "code",
   "execution_count": 102,
   "id": "385831fa",
   "metadata": {},
   "outputs": [],
   "source": [
    "enhanced_met['psa_diag_na'] = (\n",
    "    np.where(enhanced_met['PSADiagnosis'].isna(), 1, 0)\n",
    ")"
   ]
  },
  {
   "cell_type": "code",
   "execution_count": 103,
   "id": "a6ee8699",
   "metadata": {},
   "outputs": [],
   "source": [
    "enhanced_met['psa_met_na'] = (\n",
    "    np.where(enhanced_met['PSAMetDiagnosis'].isna(), 1, 0)\n",
    ")"
   ]
  },
  {
   "cell_type": "code",
   "execution_count": 104,
   "id": "35dd2ff3",
   "metadata": {},
   "outputs": [
    {
     "data": {
      "text/html": [
       "<div>\n",
       "<style scoped>\n",
       "    .dataframe tbody tr th:only-of-type {\n",
       "        vertical-align: middle;\n",
       "    }\n",
       "\n",
       "    .dataframe tbody tr th {\n",
       "        vertical-align: top;\n",
       "    }\n",
       "\n",
       "    .dataframe thead th {\n",
       "        text-align: right;\n",
       "    }\n",
       "</style>\n",
       "<table border=\"1\" class=\"dataframe\">\n",
       "  <thead>\n",
       "    <tr style=\"text-align: right;\">\n",
       "      <th></th>\n",
       "      <th>PatientID</th>\n",
       "      <th>diagnosis_date</th>\n",
       "      <th>met_date</th>\n",
       "      <th>NStage</th>\n",
       "      <th>MStage</th>\n",
       "      <th>Histology</th>\n",
       "      <th>CRPCDate</th>\n",
       "      <th>GleasonScore</th>\n",
       "      <th>PSADiagnosis</th>\n",
       "      <th>PSAMetDiagnosis</th>\n",
       "      <th>met_year_cat</th>\n",
       "      <th>stage</th>\n",
       "      <th>met_year</th>\n",
       "      <th>delta_met_diagnosis</th>\n",
       "      <th>crpc</th>\n",
       "      <th>crpc_time</th>\n",
       "      <th>psa_diag_na</th>\n",
       "      <th>psa_met_na</th>\n",
       "    </tr>\n",
       "  </thead>\n",
       "  <tbody>\n",
       "    <tr>\n",
       "      <th>14484</th>\n",
       "      <td>F7AE330A1A02E</td>\n",
       "      <td>2002-11-14</td>\n",
       "      <td>2015-06-26</td>\n",
       "      <td>Unknown / Not documented</td>\n",
       "      <td>Unknown / Not documented</td>\n",
       "      <td>Adenocarcinoma</td>\n",
       "      <td>2015-03-12</td>\n",
       "      <td>Less than or equal to 6</td>\n",
       "      <td>4.30</td>\n",
       "      <td>5.34</td>\n",
       "      <td>15-16</td>\n",
       "      <td>unknown</td>\n",
       "      <td>2015</td>\n",
       "      <td>4607</td>\n",
       "      <td>1</td>\n",
       "      <td>4501.0</td>\n",
       "      <td>0</td>\n",
       "      <td>0</td>\n",
       "    </tr>\n",
       "    <tr>\n",
       "      <th>14464</th>\n",
       "      <td>F1F1CB1D63254</td>\n",
       "      <td>2019-06-24</td>\n",
       "      <td>2019-06-24</td>\n",
       "      <td>Unknown / Not documented</td>\n",
       "      <td>M1</td>\n",
       "      <td>Prostate cancer, NOS</td>\n",
       "      <td>2019-11-08</td>\n",
       "      <td>Unknown / Not documented</td>\n",
       "      <td>828.00</td>\n",
       "      <td>828.00</td>\n",
       "      <td>19-20</td>\n",
       "      <td>IV</td>\n",
       "      <td>2019</td>\n",
       "      <td>0</td>\n",
       "      <td>0</td>\n",
       "      <td>0.0</td>\n",
       "      <td>0</td>\n",
       "      <td>0</td>\n",
       "    </tr>\n",
       "    <tr>\n",
       "      <th>5420</th>\n",
       "      <td>F63099D77E807</td>\n",
       "      <td>2019-07-02</td>\n",
       "      <td>2019-07-02</td>\n",
       "      <td>Unknown / Not documented</td>\n",
       "      <td>M1</td>\n",
       "      <td>Adenocarcinoma</td>\n",
       "      <td>2020-01-01</td>\n",
       "      <td>8</td>\n",
       "      <td>NaN</td>\n",
       "      <td>NaN</td>\n",
       "      <td>19-20</td>\n",
       "      <td>IV</td>\n",
       "      <td>2019</td>\n",
       "      <td>0</td>\n",
       "      <td>0</td>\n",
       "      <td>0.0</td>\n",
       "      <td>1</td>\n",
       "      <td>1</td>\n",
       "    </tr>\n",
       "    <tr>\n",
       "      <th>16990</th>\n",
       "      <td>F9B215F6EB708</td>\n",
       "      <td>2021-08-10</td>\n",
       "      <td>2021-08-10</td>\n",
       "      <td>Unknown / Not documented</td>\n",
       "      <td>M1</td>\n",
       "      <td>Adenocarcinoma</td>\n",
       "      <td>2022-03-02</td>\n",
       "      <td>Unknown / Not documented</td>\n",
       "      <td>122.11</td>\n",
       "      <td>122.11</td>\n",
       "      <td>21-22</td>\n",
       "      <td>IV</td>\n",
       "      <td>2021</td>\n",
       "      <td>0</td>\n",
       "      <td>0</td>\n",
       "      <td>0.0</td>\n",
       "      <td>0</td>\n",
       "      <td>0</td>\n",
       "    </tr>\n",
       "    <tr>\n",
       "      <th>18153</th>\n",
       "      <td>F5F9AF1EE23D9</td>\n",
       "      <td>2019-05-28</td>\n",
       "      <td>2019-05-28</td>\n",
       "      <td>N1</td>\n",
       "      <td>M1</td>\n",
       "      <td>Adenocarcinoma</td>\n",
       "      <td>2020-01-29</td>\n",
       "      <td>9</td>\n",
       "      <td>361.30</td>\n",
       "      <td>361.30</td>\n",
       "      <td>19-20</td>\n",
       "      <td>IV</td>\n",
       "      <td>2019</td>\n",
       "      <td>0</td>\n",
       "      <td>0</td>\n",
       "      <td>0.0</td>\n",
       "      <td>0</td>\n",
       "      <td>0</td>\n",
       "    </tr>\n",
       "  </tbody>\n",
       "</table>\n",
       "</div>"
      ],
      "text/plain": [
       "           PatientID diagnosis_date   met_date                    NStage  \\\n",
       "14484  F7AE330A1A02E     2002-11-14 2015-06-26  Unknown / Not documented   \n",
       "14464  F1F1CB1D63254     2019-06-24 2019-06-24  Unknown / Not documented   \n",
       "5420   F63099D77E807     2019-07-02 2019-07-02  Unknown / Not documented   \n",
       "16990  F9B215F6EB708     2021-08-10 2021-08-10  Unknown / Not documented   \n",
       "18153  F5F9AF1EE23D9     2019-05-28 2019-05-28                        N1   \n",
       "\n",
       "                         MStage             Histology   CRPCDate  \\\n",
       "14484  Unknown / Not documented        Adenocarcinoma 2015-03-12   \n",
       "14464                        M1  Prostate cancer, NOS 2019-11-08   \n",
       "5420                         M1        Adenocarcinoma 2020-01-01   \n",
       "16990                        M1        Adenocarcinoma 2022-03-02   \n",
       "18153                        M1        Adenocarcinoma 2020-01-29   \n",
       "\n",
       "                   GleasonScore  PSADiagnosis  PSAMetDiagnosis met_year_cat  \\\n",
       "14484   Less than or equal to 6          4.30             5.34        15-16   \n",
       "14464  Unknown / Not documented        828.00           828.00        19-20   \n",
       "5420                          8           NaN              NaN        19-20   \n",
       "16990  Unknown / Not documented        122.11           122.11        21-22   \n",
       "18153                         9        361.30           361.30        19-20   \n",
       "\n",
       "         stage  met_year  delta_met_diagnosis  crpc  crpc_time  psa_diag_na  \\\n",
       "14484  unknown      2015                 4607     1     4501.0            0   \n",
       "14464       IV      2019                    0     0        0.0            0   \n",
       "5420        IV      2019                    0     0        0.0            1   \n",
       "16990       IV      2021                    0     0        0.0            0   \n",
       "18153       IV      2019                    0     0        0.0            0   \n",
       "\n",
       "       psa_met_na  \n",
       "14484           0  \n",
       "14464           0  \n",
       "5420            1  \n",
       "16990           0  \n",
       "18153           0  "
      ]
     },
     "execution_count": 104,
     "metadata": {},
     "output_type": "execute_result"
    }
   ],
   "source": [
    "# Final enhanced_met dataframe\n",
    "enhanced_met.sample(5)"
   ]
  },
  {
   "cell_type": "code",
   "execution_count": 105,
   "id": "ea235c93",
   "metadata": {},
   "outputs": [
    {
     "name": "stdout",
     "output_type": "stream",
     "text": [
      "Variable       Type         Data/Info\n",
      "-------------------------------------\n",
      "demographics   DataFrame               PatientID Gend<...>n[15141 rows x 6 columns]\n",
      "enhanced_met   DataFrame               PatientID diag<...>[15141 rows x 18 columns]\n"
     ]
    }
   ],
   "source": [
    "# Keep demographics and enhanced_met. \n",
    "%whos DataFrame"
   ]
  },
  {
   "cell_type": "markdown",
   "id": "51ebfe53",
   "metadata": {},
   "source": [
    "### 3. Enhanced_Mortality_V2"
   ]
  },
  {
   "cell_type": "code",
   "execution_count": 106,
   "id": "5b1e18b3",
   "metadata": {},
   "outputs": [],
   "source": [
    "mortality = pd.read_csv('Enhanced_Mortality_V2.csv')"
   ]
  },
  {
   "cell_type": "code",
   "execution_count": 107,
   "id": "51e4fbd4",
   "metadata": {},
   "outputs": [],
   "source": [
    "mortality = mortality[mortality['PatientID'].isin(train_IDs)]"
   ]
  },
  {
   "cell_type": "code",
   "execution_count": 108,
   "id": "fd06a7a5",
   "metadata": {},
   "outputs": [
    {
     "data": {
      "text/html": [
       "<div>\n",
       "<style scoped>\n",
       "    .dataframe tbody tr th:only-of-type {\n",
       "        vertical-align: middle;\n",
       "    }\n",
       "\n",
       "    .dataframe tbody tr th {\n",
       "        vertical-align: top;\n",
       "    }\n",
       "\n",
       "    .dataframe thead th {\n",
       "        text-align: right;\n",
       "    }\n",
       "</style>\n",
       "<table border=\"1\" class=\"dataframe\">\n",
       "  <thead>\n",
       "    <tr style=\"text-align: right;\">\n",
       "      <th></th>\n",
       "      <th>PatientID</th>\n",
       "      <th>DateOfDeath</th>\n",
       "    </tr>\n",
       "  </thead>\n",
       "  <tbody>\n",
       "    <tr>\n",
       "      <th>5558</th>\n",
       "      <td>FCE384CAE6136</td>\n",
       "      <td>2017-11-13</td>\n",
       "    </tr>\n",
       "    <tr>\n",
       "      <th>9461</th>\n",
       "      <td>F3621B53714CA</td>\n",
       "      <td>2019-02-22</td>\n",
       "    </tr>\n",
       "    <tr>\n",
       "      <th>3057</th>\n",
       "      <td>FF58553F36F4F</td>\n",
       "      <td>2014-12-03</td>\n",
       "    </tr>\n",
       "    <tr>\n",
       "      <th>9365</th>\n",
       "      <td>FE3F164E7C3E8</td>\n",
       "      <td>2018-10-21</td>\n",
       "    </tr>\n",
       "    <tr>\n",
       "      <th>6260</th>\n",
       "      <td>F345AB8EDDD38</td>\n",
       "      <td>2019-08-21</td>\n",
       "    </tr>\n",
       "  </tbody>\n",
       "</table>\n",
       "</div>"
      ],
      "text/plain": [
       "          PatientID DateOfDeath\n",
       "5558  FCE384CAE6136  2017-11-13\n",
       "9461  F3621B53714CA  2019-02-22\n",
       "3057  FF58553F36F4F  2014-12-03\n",
       "9365  FE3F164E7C3E8  2018-10-21\n",
       "6260  F345AB8EDDD38  2019-08-21"
      ]
     },
     "execution_count": 108,
     "metadata": {},
     "output_type": "execute_result"
    }
   ],
   "source": [
    "mortality.sample(5)"
   ]
  },
  {
   "cell_type": "code",
   "execution_count": 109,
   "id": "15d21979",
   "metadata": {},
   "outputs": [
    {
     "name": "stdout",
     "output_type": "stream",
     "text": [
      "<class 'pandas.core.frame.DataFrame'>\n",
      "Int64Index: 7854 entries, 0 to 9810\n",
      "Data columns (total 2 columns):\n",
      " #   Column       Non-Null Count  Dtype \n",
      "---  ------       --------------  ----- \n",
      " 0   PatientID    7854 non-null   object\n",
      " 1   DateOfDeath  7854 non-null   object\n",
      "dtypes: object(2)\n",
      "memory usage: 184.1+ KB\n"
     ]
    }
   ],
   "source": [
    "mortality.info()"
   ]
  },
  {
   "cell_type": "code",
   "execution_count": 110,
   "id": "4edf33c9",
   "metadata": {},
   "outputs": [
    {
     "data": {
      "text/plain": [
       "(7854, 7854)"
      ]
     },
     "execution_count": 110,
     "metadata": {},
     "output_type": "execute_result"
    }
   ],
   "source": [
    "row_ID(mortality)"
   ]
  },
  {
   "cell_type": "code",
   "execution_count": 111,
   "id": "12169682",
   "metadata": {},
   "outputs": [],
   "source": [
    "mortality = mortality.rename(columns = {'DateOfDeath': 'death_date'})"
   ]
  },
  {
   "cell_type": "code",
   "execution_count": 112,
   "id": "7494c778",
   "metadata": {},
   "outputs": [
    {
     "data": {
      "text/html": [
       "<div>\n",
       "<style scoped>\n",
       "    .dataframe tbody tr th:only-of-type {\n",
       "        vertical-align: middle;\n",
       "    }\n",
       "\n",
       "    .dataframe tbody tr th {\n",
       "        vertical-align: top;\n",
       "    }\n",
       "\n",
       "    .dataframe thead th {\n",
       "        text-align: right;\n",
       "    }\n",
       "</style>\n",
       "<table border=\"1\" class=\"dataframe\">\n",
       "  <thead>\n",
       "    <tr style=\"text-align: right;\">\n",
       "      <th></th>\n",
       "      <th>PatientID</th>\n",
       "      <th>death_date</th>\n",
       "    </tr>\n",
       "  </thead>\n",
       "  <tbody>\n",
       "    <tr>\n",
       "      <th>5</th>\n",
       "      <td>F116F9597F7D3</td>\n",
       "      <td>2020</td>\n",
       "    </tr>\n",
       "    <tr>\n",
       "      <th>1018</th>\n",
       "      <td>FA84019AC51A2</td>\n",
       "      <td>2016</td>\n",
       "    </tr>\n",
       "    <tr>\n",
       "      <th>3509</th>\n",
       "      <td>F973AC7AB1862</td>\n",
       "      <td>2020</td>\n",
       "    </tr>\n",
       "    <tr>\n",
       "      <th>3968</th>\n",
       "      <td>F68D949A4FA89</td>\n",
       "      <td>2015</td>\n",
       "    </tr>\n",
       "    <tr>\n",
       "      <th>8493</th>\n",
       "      <td>F19E8A1B3B08E</td>\n",
       "      <td>2019</td>\n",
       "    </tr>\n",
       "    <tr>\n",
       "      <th>9241</th>\n",
       "      <td>FC9C9FC3C8C45</td>\n",
       "      <td>2022</td>\n",
       "    </tr>\n",
       "  </tbody>\n",
       "</table>\n",
       "</div>"
      ],
      "text/plain": [
       "          PatientID death_date\n",
       "5     F116F9597F7D3       2020\n",
       "1018  FA84019AC51A2       2016\n",
       "3509  F973AC7AB1862       2020\n",
       "3968  F68D949A4FA89       2015\n",
       "8493  F19E8A1B3B08E       2019\n",
       "9241  FC9C9FC3C8C45       2022"
      ]
     },
     "execution_count": 112,
     "metadata": {},
     "output_type": "execute_result"
    }
   ],
   "source": [
    "# Patients with year granularity.\n",
    "mortality[mortality['death_date'].str.len() == 4]"
   ]
  },
  {
   "cell_type": "markdown",
   "id": "abc3d171",
   "metadata": {},
   "source": [
    "**The date of death is generalized to the month for de-identification purposes, however, a small number of patients have just the year for date of death. For analyses requiring a day of death, Flatiron Health recommends imputing the 15th of the month since this approach best approximates the results generated from using the exact date of death. For those with a date of death with year granularity, Flatiron recommends imputing the middle of the year and conducting a sensitivty analysis to evaluate assumption.**"
   ]
  },
  {
   "cell_type": "code",
   "execution_count": 113,
   "id": "dc7250cd",
   "metadata": {},
   "outputs": [],
   "source": [
    "# For patients with year granularity, impute middle of the year (ie., July 1)\n",
    "mortality['death_date'] = (\n",
    "    np.where(mortality['death_date'].str.len() == 4, mortality['death_date'] + '-07-01', mortality['death_date'])\n",
    ")"
   ]
  },
  {
   "cell_type": "code",
   "execution_count": 114,
   "id": "36caa9f6",
   "metadata": {},
   "outputs": [],
   "source": [
    "# For patients with month granularity, impute 15th of the month.\n",
    "mortality['death_date'] = (\n",
    "    np.where(mortality['death_date'].str.len() == 7, mortality['death_date'] + '-15', mortality['death_date'])\n",
    ")"
   ]
  },
  {
   "cell_type": "code",
   "execution_count": 115,
   "id": "d06da00f",
   "metadata": {},
   "outputs": [],
   "source": [
    "mortality['death_date'] = pd.to_datetime(mortality['death_date'])"
   ]
  },
  {
   "cell_type": "code",
   "execution_count": 116,
   "id": "444ca4d0",
   "metadata": {},
   "outputs": [
    {
     "data": {
      "text/plain": [
       "0.5187239944521498"
      ]
     },
     "execution_count": 116,
     "metadata": {},
     "output_type": "execute_result"
    }
   ],
   "source": [
    "# Percent of patients with death date.  \n",
    "len(mortality)/len(train_IDs)"
   ]
  },
  {
   "cell_type": "code",
   "execution_count": 117,
   "id": "b8b8544b",
   "metadata": {},
   "outputs": [
    {
     "data": {
      "text/plain": [
       "<AxesSubplot:xlabel='death_date'>"
      ]
     },
     "execution_count": 117,
     "metadata": {},
     "output_type": "execute_result"
    },
    {
     "data": {
      "image/png": "[encoded data removed]",
      "text/plain": [
       "<Figure size 640x480 with 1 Axes>"
      ]
     },
     "metadata": {},
     "output_type": "display_data"
    }
   ],
   "source": [
    "# Bar plot of monthly mortality for aNSCLC. \n",
    "mortality.groupby([mortality['death_date'].dt.month])['PatientID'].count().plot(kind = 'bar')"
   ]
  },
  {
   "cell_type": "code",
   "execution_count": 118,
   "id": "1c969bfc",
   "metadata": {},
   "outputs": [
    {
     "data": {
      "text/plain": [
       "<AxesSubplot:xlabel='death_date'>"
      ]
     },
     "execution_count": 118,
     "metadata": {},
     "output_type": "execute_result"
    },
    {
     "data": {
      "image/png": "[encoded data removed]",
      "text/plain": [
       "<Figure size 640x480 with 1 Axes>"
      ]
     },
     "metadata": {},
     "output_type": "display_data"
    }
   ],
   "source": [
    "# Bar plot of yearly mortality for aNSCLC. \n",
    "mortality.groupby([mortality['death_date'].dt.year])['PatientID'].count().plot(kind = 'bar')"
   ]
  },
  {
   "cell_type": "markdown",
   "id": "11103e35",
   "metadata": {},
   "source": [
    "#### Censoring"
   ]
  },
  {
   "cell_type": "markdown",
   "id": "470d95a6",
   "metadata": {},
   "source": [
    "**For patients for whom a date of death is not known, the censor date can be defined either as the data cutoff date or as the last confirmed activity date. The last confirmed activity date is broadly defined as the last date at which there is evidence in the EHR that a patient is alive. Evidence of a record in at least one of the items listed below qualifies as patient-level confirmed activity:**\n",
    "* **Visit: VisitDate**\n",
    "* **Telemedicine: VisitDate**\n",
    "* **Enhanced_MetPC_Orals: StartDate or EndDate**\n",
    "* **Enhanced_MetPC_Biomarkers: SpecimenCollectedDate**\n",
    "* **Enhanced_MetPC_ADT: StartDate or EndDate**\n",
    "* **Enhanced_MetPC_AlphaBetaEmitters: AdministrationDate**\n",
    "* **Enhanced_MetPC_PrimaryTreatment: TreatmentDate**\n",
    "* **Enhanced_MetPC_Provenge: StartDate**\n",
    "* **Enhanced_MetProstate: CRPCDate**"
   ]
  },
  {
   "cell_type": "code",
   "execution_count": 119,
   "id": "b1d80aca",
   "metadata": {},
   "outputs": [],
   "source": [
    "visit = pd.read_csv('Visit.csv')\n",
    "telemedicine = pd.read_csv('Telemedicine.csv')\n",
    "orals = pd.read_csv('Enhanced_MetPC_Orals.csv')\n",
    "biomarkers = pd.read_csv('Enhanced_MetPC_Biomarkers.csv')\n",
    "adt = pd.read_csv('Enhanced_MetPC_ADT.csv')\n",
    "alpha_beta = pd.read_csv('Enhanced_MetPC_AlphaBetaEmitters.csv')\n",
    "treat = pd.read_csv('Enhanced_MetPC_PrimaryTreatment.csv')\n",
    "provenge = pd.read_csv('Enhanced_MetPC_Provenge.csv')"
   ]
  },
  {
   "cell_type": "markdown",
   "id": "f6c2994e",
   "metadata": {},
   "source": [
    "##### Visit and Telemedicine"
   ]
  },
  {
   "cell_type": "code",
   "execution_count": 120,
   "id": "70490b55",
   "metadata": {},
   "outputs": [
    {
     "data": {
      "text/html": [
       "<div>\n",
       "<style scoped>\n",
       "    .dataframe tbody tr th:only-of-type {\n",
       "        vertical-align: middle;\n",
       "    }\n",
       "\n",
       "    .dataframe tbody tr th {\n",
       "        vertical-align: top;\n",
       "    }\n",
       "\n",
       "    .dataframe thead th {\n",
       "        text-align: right;\n",
       "    }\n",
       "</style>\n",
       "<table border=\"1\" class=\"dataframe\">\n",
       "  <thead>\n",
       "    <tr style=\"text-align: right;\">\n",
       "      <th></th>\n",
       "      <th>PatientID</th>\n",
       "      <th>VisitDate</th>\n",
       "      <th>VisitType</th>\n",
       "      <th>IsVitalsVisit</th>\n",
       "      <th>IsTreatmentVisit</th>\n",
       "      <th>IsLabVisit</th>\n",
       "    </tr>\n",
       "  </thead>\n",
       "  <tbody>\n",
       "    <tr>\n",
       "      <th>127499</th>\n",
       "      <td>FE86409E1E814</td>\n",
       "      <td>2017-12-09</td>\n",
       "      <td>Treatment</td>\n",
       "      <td>True</td>\n",
       "      <td>True</td>\n",
       "      <td>True</td>\n",
       "    </tr>\n",
       "    <tr>\n",
       "      <th>216978</th>\n",
       "      <td>F4565621287CC</td>\n",
       "      <td>2019-04-30</td>\n",
       "      <td>Treatment</td>\n",
       "      <td>True</td>\n",
       "      <td>True</td>\n",
       "      <td>False</td>\n",
       "    </tr>\n",
       "    <tr>\n",
       "      <th>661482</th>\n",
       "      <td>FE41263868850</td>\n",
       "      <td>2017-06-22</td>\n",
       "      <td>Treatment</td>\n",
       "      <td>False</td>\n",
       "      <td>True</td>\n",
       "      <td>False</td>\n",
       "    </tr>\n",
       "    <tr>\n",
       "      <th>566092</th>\n",
       "      <td>F69F22F93523F</td>\n",
       "      <td>2016-11-30</td>\n",
       "      <td>Treatment</td>\n",
       "      <td>True</td>\n",
       "      <td>True</td>\n",
       "      <td>True</td>\n",
       "    </tr>\n",
       "    <tr>\n",
       "      <th>412528</th>\n",
       "      <td>F5FDF9BEA3141</td>\n",
       "      <td>2020-07-14</td>\n",
       "      <td>Treatment</td>\n",
       "      <td>True</td>\n",
       "      <td>True</td>\n",
       "      <td>True</td>\n",
       "    </tr>\n",
       "  </tbody>\n",
       "</table>\n",
       "</div>"
      ],
      "text/plain": [
       "            PatientID   VisitDate  VisitType  IsVitalsVisit  IsTreatmentVisit  \\\n",
       "127499  FE86409E1E814  2017-12-09  Treatment           True              True   \n",
       "216978  F4565621287CC  2019-04-30  Treatment           True              True   \n",
       "661482  FE41263868850  2017-06-22  Treatment          False              True   \n",
       "566092  F69F22F93523F  2016-11-30  Treatment           True              True   \n",
       "412528  F5FDF9BEA3141  2020-07-14  Treatment           True              True   \n",
       "\n",
       "        IsLabVisit  \n",
       "127499        True  \n",
       "216978       False  \n",
       "661482       False  \n",
       "566092        True  \n",
       "412528        True  "
      ]
     },
     "execution_count": 120,
     "metadata": {},
     "output_type": "execute_result"
    }
   ],
   "source": [
    "visit.sample(5)"
   ]
  },
  {
   "cell_type": "code",
   "execution_count": 121,
   "id": "4c39616d",
   "metadata": {},
   "outputs": [
    {
     "data": {
      "text/plain": [
       "(744472, 6)"
      ]
     },
     "execution_count": 121,
     "metadata": {},
     "output_type": "execute_result"
    }
   ],
   "source": [
    "visit.shape"
   ]
  },
  {
   "cell_type": "code",
   "execution_count": 122,
   "id": "b6a17ae1",
   "metadata": {},
   "outputs": [
    {
     "data": {
      "text/html": [
       "<div>\n",
       "<style scoped>\n",
       "    .dataframe tbody tr th:only-of-type {\n",
       "        vertical-align: middle;\n",
       "    }\n",
       "\n",
       "    .dataframe tbody tr th {\n",
       "        vertical-align: top;\n",
       "    }\n",
       "\n",
       "    .dataframe thead th {\n",
       "        text-align: right;\n",
       "    }\n",
       "</style>\n",
       "<table border=\"1\" class=\"dataframe\">\n",
       "  <thead>\n",
       "    <tr style=\"text-align: right;\">\n",
       "      <th></th>\n",
       "      <th>PatientID</th>\n",
       "      <th>VisitDate</th>\n",
       "    </tr>\n",
       "  </thead>\n",
       "  <tbody>\n",
       "    <tr>\n",
       "      <th>125</th>\n",
       "      <td>F1A558AE9AD0E</td>\n",
       "      <td>2020-04-20</td>\n",
       "    </tr>\n",
       "    <tr>\n",
       "      <th>1573</th>\n",
       "      <td>F1AE0E4D18B1E</td>\n",
       "      <td>2020-04-09</td>\n",
       "    </tr>\n",
       "    <tr>\n",
       "      <th>2261</th>\n",
       "      <td>F9F45A9DE9AAE</td>\n",
       "      <td>2021-05-10</td>\n",
       "    </tr>\n",
       "    <tr>\n",
       "      <th>5763</th>\n",
       "      <td>FB899AFA798FC</td>\n",
       "      <td>2020-03-30</td>\n",
       "    </tr>\n",
       "    <tr>\n",
       "      <th>2265</th>\n",
       "      <td>F9F45A9DE9AAE</td>\n",
       "      <td>2021-10-20</td>\n",
       "    </tr>\n",
       "  </tbody>\n",
       "</table>\n",
       "</div>"
      ],
      "text/plain": [
       "          PatientID   VisitDate\n",
       "125   F1A558AE9AD0E  2020-04-20\n",
       "1573  F1AE0E4D18B1E  2020-04-09\n",
       "2261  F9F45A9DE9AAE  2021-05-10\n",
       "5763  FB899AFA798FC  2020-03-30\n",
       "2265  F9F45A9DE9AAE  2021-10-20"
      ]
     },
     "execution_count": 122,
     "metadata": {},
     "output_type": "execute_result"
    }
   ],
   "source": [
    "telemedicine.sample(5)"
   ]
  },
  {
   "cell_type": "code",
   "execution_count": 123,
   "id": "30fb8dda",
   "metadata": {},
   "outputs": [
    {
     "data": {
      "text/plain": [
       "(10830, 2)"
      ]
     },
     "execution_count": 123,
     "metadata": {},
     "output_type": "execute_result"
    }
   ],
   "source": [
    "telemedicine.shape"
   ]
  },
  {
   "cell_type": "code",
   "execution_count": 124,
   "id": "12e8597a",
   "metadata": {},
   "outputs": [],
   "source": [
    "visit_tele = (\n",
    "    visit\n",
    "    .drop(columns = ['VisitType', 'IsVitalsVisit', 'IsTreatmentVisit', 'IsLabVisit'])\n",
    "    .append(telemedicine)\n",
    ") "
   ]
  },
  {
   "cell_type": "code",
   "execution_count": 125,
   "id": "9ee35ad4",
   "metadata": {},
   "outputs": [
    {
     "data": {
      "text/plain": [
       "(755302, 2)"
      ]
     },
     "execution_count": 125,
     "metadata": {},
     "output_type": "execute_result"
    }
   ],
   "source": [
    "visit_tele.shape"
   ]
  },
  {
   "cell_type": "code",
   "execution_count": 126,
   "id": "ca248288",
   "metadata": {},
   "outputs": [],
   "source": [
    "visit_tele.loc[:,'VisitDate'] = pd.to_datetime(visit_tele['VisitDate'])"
   ]
  },
  {
   "cell_type": "code",
   "execution_count": 127,
   "id": "d514b92b",
   "metadata": {},
   "outputs": [
    {
     "data": {
      "text/html": [
       "<div>\n",
       "<style scoped>\n",
       "    .dataframe tbody tr th:only-of-type {\n",
       "        vertical-align: middle;\n",
       "    }\n",
       "\n",
       "    .dataframe tbody tr th {\n",
       "        vertical-align: top;\n",
       "    }\n",
       "\n",
       "    .dataframe thead th {\n",
       "        text-align: right;\n",
       "    }\n",
       "</style>\n",
       "<table border=\"1\" class=\"dataframe\">\n",
       "  <thead>\n",
       "    <tr style=\"text-align: right;\">\n",
       "      <th></th>\n",
       "      <th>PatientID</th>\n",
       "      <th>VisitDate</th>\n",
       "    </tr>\n",
       "  </thead>\n",
       "  <tbody>\n",
       "    <tr>\n",
       "      <th>676252</th>\n",
       "      <td>F658121BD557E</td>\n",
       "      <td>2019-09-23</td>\n",
       "    </tr>\n",
       "    <tr>\n",
       "      <th>581887</th>\n",
       "      <td>F64653FF1959C</td>\n",
       "      <td>2015-06-29</td>\n",
       "    </tr>\n",
       "    <tr>\n",
       "      <th>322712</th>\n",
       "      <td>FFFD421EB1A32</td>\n",
       "      <td>2013-03-28</td>\n",
       "    </tr>\n",
       "    <tr>\n",
       "      <th>504235</th>\n",
       "      <td>F60236CC4EEB4</td>\n",
       "      <td>2020-07-01</td>\n",
       "    </tr>\n",
       "    <tr>\n",
       "      <th>635143</th>\n",
       "      <td>F048B8E0EB967</td>\n",
       "      <td>2019-07-31</td>\n",
       "    </tr>\n",
       "  </tbody>\n",
       "</table>\n",
       "</div>"
      ],
      "text/plain": [
       "            PatientID  VisitDate\n",
       "676252  F658121BD557E 2019-09-23\n",
       "581887  F64653FF1959C 2015-06-29\n",
       "322712  FFFD421EB1A32 2013-03-28\n",
       "504235  F60236CC4EEB4 2020-07-01\n",
       "635143  F048B8E0EB967 2019-07-31"
      ]
     },
     "execution_count": 127,
     "metadata": {},
     "output_type": "execute_result"
    }
   ],
   "source": [
    "visit_tele.sample(5)"
   ]
  },
  {
   "cell_type": "code",
   "execution_count": 128,
   "id": "815bd688",
   "metadata": {},
   "outputs": [],
   "source": [
    "# Select max VisitDate from combined Visit and Telemedicine table.\n",
    "visit_tele_max = (\n",
    "    visit_tele\n",
    "    [visit_tele['PatientID'].isin(train_IDs)]\n",
    "    .groupby('PatientID')['VisitDate'].max()\n",
    "    .to_frame(name = 'visit_max')\n",
    "    .reset_index()\n",
    ")"
   ]
  },
  {
   "cell_type": "code",
   "execution_count": 129,
   "id": "e7c7bea2",
   "metadata": {},
   "outputs": [
    {
     "data": {
      "text/plain": [
       "(15141, 15141)"
      ]
     },
     "execution_count": 129,
     "metadata": {},
     "output_type": "execute_result"
    }
   ],
   "source": [
    "row_ID(visit_tele_max)"
   ]
  },
  {
   "cell_type": "markdown",
   "id": "fff7cd41",
   "metadata": {},
   "source": [
    "##### Orals"
   ]
  },
  {
   "cell_type": "code",
   "execution_count": 130,
   "id": "cf255057",
   "metadata": {},
   "outputs": [],
   "source": [
    "orals = orals[orals['PatientID'].isin(train_IDs)]"
   ]
  },
  {
   "cell_type": "code",
   "execution_count": 131,
   "id": "9f8ace5f",
   "metadata": {},
   "outputs": [],
   "source": [
    "orals.loc[:, 'StartDate'] = pd.to_datetime(orals['StartDate'])"
   ]
  },
  {
   "cell_type": "code",
   "execution_count": 132,
   "id": "fd28771b",
   "metadata": {},
   "outputs": [],
   "source": [
    "orals.loc[:, 'EndDate'] = pd.to_datetime(orals['EndDate'])"
   ]
  },
  {
   "cell_type": "code",
   "execution_count": 133,
   "id": "2b3e9a45",
   "metadata": {},
   "outputs": [],
   "source": [
    "orals_max = (\n",
    "    orals\n",
    "    .assign(max_date = orals[['StartDate', 'EndDate']].max(axis = 1))\n",
    "    .groupby('PatientID')['max_date'].max()\n",
    "    .to_frame(name = 'orals_max')\n",
    "    .reset_index()\n",
    ")"
   ]
  },
  {
   "cell_type": "code",
   "execution_count": 134,
   "id": "0acebf3e",
   "metadata": {},
   "outputs": [
    {
     "data": {
      "text/plain": [
       "(13539, 13539)"
      ]
     },
     "execution_count": 134,
     "metadata": {},
     "output_type": "execute_result"
    }
   ],
   "source": [
    "row_ID(orals_max)"
   ]
  },
  {
   "cell_type": "markdown",
   "id": "8e3ca20a",
   "metadata": {},
   "source": [
    "##### Biomarkers"
   ]
  },
  {
   "cell_type": "code",
   "execution_count": 135,
   "id": "1bcc0383",
   "metadata": {},
   "outputs": [],
   "source": [
    "biomarkers = biomarkers[biomarkers['PatientID'].isin(train_IDs)]"
   ]
  },
  {
   "cell_type": "code",
   "execution_count": 136,
   "id": "55ac38d8",
   "metadata": {},
   "outputs": [],
   "source": [
    "biomarkers.loc[:, 'SpecimenCollectedDate'] = pd.to_datetime(biomarkers['SpecimenCollectedDate'])"
   ]
  },
  {
   "cell_type": "code",
   "execution_count": 137,
   "id": "a6ed6b94",
   "metadata": {},
   "outputs": [],
   "source": [
    "biomarkers_max = (\n",
    "    biomarkers\n",
    "    .groupby('PatientID')['SpecimenCollectedDate'].max()\n",
    "    .to_frame(name = 'biomarkers_max')\n",
    "    .reset_index()\n",
    ")"
   ]
  },
  {
   "cell_type": "code",
   "execution_count": 138,
   "id": "940e904a",
   "metadata": {},
   "outputs": [
    {
     "data": {
      "text/plain": [
       "(4233, 4233)"
      ]
     },
     "execution_count": 138,
     "metadata": {},
     "output_type": "execute_result"
    }
   ],
   "source": [
    "row_ID(biomarkers_max)"
   ]
  },
  {
   "cell_type": "markdown",
   "id": "476d9585",
   "metadata": {},
   "source": [
    "##### ADT"
   ]
  },
  {
   "cell_type": "code",
   "execution_count": 139,
   "id": "1e27dd17",
   "metadata": {},
   "outputs": [],
   "source": [
    "adt = adt[adt['PatientID'].isin(train_IDs)]"
   ]
  },
  {
   "cell_type": "code",
   "execution_count": 140,
   "id": "d9083715",
   "metadata": {},
   "outputs": [
    {
     "data": {
      "text/plain": [
       "(16397, 14629)"
      ]
     },
     "execution_count": 140,
     "metadata": {},
     "output_type": "execute_result"
    }
   ],
   "source": [
    "row_ID(adt)"
   ]
  },
  {
   "cell_type": "code",
   "execution_count": 141,
   "id": "e2b56772",
   "metadata": {},
   "outputs": [],
   "source": [
    "adt.loc[:, 'StartDate'] = pd.to_datetime(adt['StartDate'])"
   ]
  },
  {
   "cell_type": "code",
   "execution_count": 142,
   "id": "ea84cdd1",
   "metadata": {},
   "outputs": [],
   "source": [
    "adt.loc[:, 'EndDate'] = pd.to_datetime(adt['EndDate'])"
   ]
  },
  {
   "cell_type": "code",
   "execution_count": 143,
   "id": "69f998fb",
   "metadata": {},
   "outputs": [],
   "source": [
    "adt_max = (\n",
    "    adt\n",
    "    .assign(max_date = adt[['StartDate', 'EndDate']].max(axis = 1))\n",
    "    .groupby('PatientID')['max_date'].max()\n",
    "    .to_frame(name = 'adt_max')\n",
    "    .reset_index()\n",
    ")"
   ]
  },
  {
   "cell_type": "code",
   "execution_count": 144,
   "id": "3a143ec3",
   "metadata": {},
   "outputs": [
    {
     "data": {
      "text/plain": [
       "(14629, 14629)"
      ]
     },
     "execution_count": 144,
     "metadata": {},
     "output_type": "execute_result"
    }
   ],
   "source": [
    "row_ID(adt_max)"
   ]
  },
  {
   "cell_type": "markdown",
   "id": "ab9e7b9e",
   "metadata": {},
   "source": [
    "##### Alpha Beta Emitters"
   ]
  },
  {
   "cell_type": "code",
   "execution_count": 145,
   "id": "50256798",
   "metadata": {},
   "outputs": [],
   "source": [
    "alpha_beta = alpha_beta[alpha_beta['PatientID'].isin(train_IDs)]"
   ]
  },
  {
   "cell_type": "code",
   "execution_count": 146,
   "id": "550d6f12",
   "metadata": {},
   "outputs": [
    {
     "data": {
      "text/plain": [
       "(5792, 1377)"
      ]
     },
     "execution_count": 146,
     "metadata": {},
     "output_type": "execute_result"
    }
   ],
   "source": [
    "row_ID(alpha_beta)"
   ]
  },
  {
   "cell_type": "code",
   "execution_count": 147,
   "id": "08f3a60b",
   "metadata": {},
   "outputs": [],
   "source": [
    "alpha_beta.loc[:, 'AdministrationDate'] = pd.to_datetime(alpha_beta['AdministrationDate'])"
   ]
  },
  {
   "cell_type": "code",
   "execution_count": 148,
   "id": "1c8027fd",
   "metadata": {},
   "outputs": [],
   "source": [
    "alpha_beta_max = (\n",
    "    alpha_beta\n",
    "    .groupby('PatientID')['AdministrationDate'].max()\n",
    "    .to_frame(name = 'alpha_beta_max')\n",
    "    .reset_index()\n",
    ")"
   ]
  },
  {
   "cell_type": "code",
   "execution_count": 149,
   "id": "f837cda0",
   "metadata": {},
   "outputs": [
    {
     "data": {
      "text/plain": [
       "(1377, 1377)"
      ]
     },
     "execution_count": 149,
     "metadata": {},
     "output_type": "execute_result"
    }
   ],
   "source": [
    "row_ID(alpha_beta_max)"
   ]
  },
  {
   "cell_type": "markdown",
   "id": "409c0a87",
   "metadata": {},
   "source": [
    "##### Primary Treatment "
   ]
  },
  {
   "cell_type": "code",
   "execution_count": 150,
   "id": "fbca5273",
   "metadata": {},
   "outputs": [],
   "source": [
    "treat = treat[treat['PatientID'].isin(train_IDs)]"
   ]
  },
  {
   "cell_type": "code",
   "execution_count": 151,
   "id": "238476d6",
   "metadata": {},
   "outputs": [
    {
     "data": {
      "text/plain": [
       "(6552, 6552)"
      ]
     },
     "execution_count": 151,
     "metadata": {},
     "output_type": "execute_result"
    }
   ],
   "source": [
    "row_ID(treat)"
   ]
  },
  {
   "cell_type": "code",
   "execution_count": 152,
   "id": "5c6e3eeb",
   "metadata": {},
   "outputs": [],
   "source": [
    "treat.loc[:, 'TreatmentDate'] = pd.to_datetime(treat['TreatmentDate'])"
   ]
  },
  {
   "cell_type": "code",
   "execution_count": 153,
   "id": "abbb411e",
   "metadata": {},
   "outputs": [],
   "source": [
    "treat_max = (\n",
    "    treat\n",
    "    .groupby('PatientID')['TreatmentDate'].max()\n",
    "    .to_frame(name = 'treat_max')\n",
    "    .reset_index()\n",
    ")"
   ]
  },
  {
   "cell_type": "code",
   "execution_count": 154,
   "id": "219b6e30",
   "metadata": {},
   "outputs": [
    {
     "data": {
      "text/plain": [
       "(6552, 6552)"
      ]
     },
     "execution_count": 154,
     "metadata": {},
     "output_type": "execute_result"
    }
   ],
   "source": [
    "row_ID(treat_max)"
   ]
  },
  {
   "cell_type": "markdown",
   "id": "8ff247d1",
   "metadata": {},
   "source": [
    "##### Provenge"
   ]
  },
  {
   "cell_type": "code",
   "execution_count": 155,
   "id": "dbb5c3a6",
   "metadata": {},
   "outputs": [],
   "source": [
    "provenge = provenge[provenge['PatientID'].isin(train_IDs)]"
   ]
  },
  {
   "cell_type": "code",
   "execution_count": 156,
   "id": "df432ecd",
   "metadata": {},
   "outputs": [
    {
     "data": {
      "text/plain": [
       "(1266, 1266)"
      ]
     },
     "execution_count": 156,
     "metadata": {},
     "output_type": "execute_result"
    }
   ],
   "source": [
    "row_ID(provenge)"
   ]
  },
  {
   "cell_type": "code",
   "execution_count": 157,
   "id": "5438f731",
   "metadata": {},
   "outputs": [],
   "source": [
    "provenge.loc[:, 'StartDate'] = pd.to_datetime(provenge['StartDate'])"
   ]
  },
  {
   "cell_type": "code",
   "execution_count": 158,
   "id": "fa1ee8cc",
   "metadata": {},
   "outputs": [],
   "source": [
    "provenge_max = (\n",
    "    provenge\n",
    "    .groupby('PatientID')['StartDate'].max()\n",
    "    .to_frame(name = 'provenge_max')\n",
    "    .reset_index()\n",
    ")"
   ]
  },
  {
   "cell_type": "code",
   "execution_count": 159,
   "id": "21a36be8",
   "metadata": {},
   "outputs": [
    {
     "data": {
      "text/plain": [
       "(1266, 1266)"
      ]
     },
     "execution_count": 159,
     "metadata": {},
     "output_type": "execute_result"
    }
   ],
   "source": [
    "row_ID(provenge_max)"
   ]
  },
  {
   "cell_type": "markdown",
   "id": "c50f4f9d",
   "metadata": {},
   "source": [
    "##### CRPC Date"
   ]
  },
  {
   "cell_type": "code",
   "execution_count": 160,
   "id": "af54dd18",
   "metadata": {},
   "outputs": [],
   "source": [
    "crpc_max = enhanced_met[enhanced_met['CRPCDate'].notna()][['PatientID', 'CRPCDate']]"
   ]
  },
  {
   "cell_type": "code",
   "execution_count": 161,
   "id": "ca37231e",
   "metadata": {},
   "outputs": [
    {
     "data": {
      "text/plain": [
       "(9405, 9405)"
      ]
     },
     "execution_count": 161,
     "metadata": {},
     "output_type": "execute_result"
    }
   ],
   "source": [
    "row_ID(crpc_max)"
   ]
  },
  {
   "cell_type": "markdown",
   "id": "503c4263",
   "metadata": {},
   "source": [
    "##### Max date merge"
   ]
  },
  {
   "cell_type": "code",
   "execution_count": 162,
   "id": "7ac92b81",
   "metadata": {},
   "outputs": [],
   "source": [
    "last_activity = pd.merge(visit_tele_max, orals_max, on = 'PatientID', how = 'outer')"
   ]
  },
  {
   "cell_type": "code",
   "execution_count": 163,
   "id": "8630c561",
   "metadata": {},
   "outputs": [],
   "source": [
    "last_activity = pd.merge(last_activity, biomarkers_max, on = 'PatientID', how = 'outer')"
   ]
  },
  {
   "cell_type": "code",
   "execution_count": 164,
   "id": "e70d3d56",
   "metadata": {},
   "outputs": [],
   "source": [
    "last_activity = pd.merge(last_activity, adt_max, on = 'PatientID', how = 'outer')"
   ]
  },
  {
   "cell_type": "code",
   "execution_count": 165,
   "id": "0de9c020",
   "metadata": {},
   "outputs": [],
   "source": [
    "last_activity = pd.merge(last_activity, alpha_beta_max, on = 'PatientID', how = 'outer')"
   ]
  },
  {
   "cell_type": "code",
   "execution_count": 166,
   "id": "de2eb61d",
   "metadata": {},
   "outputs": [],
   "source": [
    "last_activity = pd.merge(last_activity, treat_max, on = 'PatientID', how = 'outer')"
   ]
  },
  {
   "cell_type": "code",
   "execution_count": 167,
   "id": "5cd75c8c",
   "metadata": {},
   "outputs": [],
   "source": [
    "last_activity = pd.merge(last_activity, provenge_max, on = 'PatientID', how = 'outer')"
   ]
  },
  {
   "cell_type": "code",
   "execution_count": 168,
   "id": "f8c1560a",
   "metadata": {},
   "outputs": [],
   "source": [
    "last_activity = pd.merge(last_activity, crpc_max, on = 'PatientID', how = 'outer')"
   ]
  },
  {
   "cell_type": "code",
   "execution_count": 169,
   "id": "722e43dd",
   "metadata": {},
   "outputs": [
    {
     "data": {
      "text/plain": [
       "(15141, 15141)"
      ]
     },
     "execution_count": 169,
     "metadata": {},
     "output_type": "execute_result"
    }
   ],
   "source": [
    "row_ID(last_activity)"
   ]
  },
  {
   "cell_type": "code",
   "execution_count": 170,
   "id": "73f434fb",
   "metadata": {},
   "outputs": [
    {
     "data": {
      "text/html": [
       "<div>\n",
       "<style scoped>\n",
       "    .dataframe tbody tr th:only-of-type {\n",
       "        vertical-align: middle;\n",
       "    }\n",
       "\n",
       "    .dataframe tbody tr th {\n",
       "        vertical-align: top;\n",
       "    }\n",
       "\n",
       "    .dataframe thead th {\n",
       "        text-align: right;\n",
       "    }\n",
       "</style>\n",
       "<table border=\"1\" class=\"dataframe\">\n",
       "  <thead>\n",
       "    <tr style=\"text-align: right;\">\n",
       "      <th></th>\n",
       "      <th>PatientID</th>\n",
       "      <th>visit_max</th>\n",
       "      <th>orals_max</th>\n",
       "      <th>biomarkers_max</th>\n",
       "      <th>adt_max</th>\n",
       "      <th>alpha_beta_max</th>\n",
       "      <th>treat_max</th>\n",
       "      <th>provenge_max</th>\n",
       "      <th>CRPCDate</th>\n",
       "    </tr>\n",
       "  </thead>\n",
       "  <tbody>\n",
       "    <tr>\n",
       "      <th>9291</th>\n",
       "      <td>F9BE21D1FFE65</td>\n",
       "      <td>2018-02-28</td>\n",
       "      <td>2018-02-28</td>\n",
       "      <td>NaT</td>\n",
       "      <td>NaT</td>\n",
       "      <td>NaT</td>\n",
       "      <td>NaT</td>\n",
       "      <td>NaT</td>\n",
       "      <td>2017-09-07</td>\n",
       "    </tr>\n",
       "    <tr>\n",
       "      <th>10692</th>\n",
       "      <td>FB3E18726E743</td>\n",
       "      <td>2014-08-07</td>\n",
       "      <td>2014-05-16</td>\n",
       "      <td>NaT</td>\n",
       "      <td>2013-07-10</td>\n",
       "      <td>NaT</td>\n",
       "      <td>NaT</td>\n",
       "      <td>NaT</td>\n",
       "      <td>2014-03-07</td>\n",
       "    </tr>\n",
       "    <tr>\n",
       "      <th>11685</th>\n",
       "      <td>FC49BE3482942</td>\n",
       "      <td>2015-05-01</td>\n",
       "      <td>NaT</td>\n",
       "      <td>NaT</td>\n",
       "      <td>2010-01-01</td>\n",
       "      <td>NaT</td>\n",
       "      <td>2001-01-01</td>\n",
       "      <td>NaT</td>\n",
       "      <td>NaT</td>\n",
       "    </tr>\n",
       "    <tr>\n",
       "      <th>13772</th>\n",
       "      <td>FE86C7426E066</td>\n",
       "      <td>2020-04-27</td>\n",
       "      <td>2020-04-27</td>\n",
       "      <td>NaT</td>\n",
       "      <td>2016-08-24</td>\n",
       "      <td>NaT</td>\n",
       "      <td>NaT</td>\n",
       "      <td>NaT</td>\n",
       "      <td>2018-01-10</td>\n",
       "    </tr>\n",
       "    <tr>\n",
       "      <th>8862</th>\n",
       "      <td>F94DF55DA1941</td>\n",
       "      <td>2022-02-08</td>\n",
       "      <td>2022-02-08</td>\n",
       "      <td>2021-07-08</td>\n",
       "      <td>2021-07-01</td>\n",
       "      <td>NaT</td>\n",
       "      <td>NaT</td>\n",
       "      <td>NaT</td>\n",
       "      <td>NaT</td>\n",
       "    </tr>\n",
       "  </tbody>\n",
       "</table>\n",
       "</div>"
      ],
      "text/plain": [
       "           PatientID  visit_max  orals_max biomarkers_max    adt_max  \\\n",
       "9291   F9BE21D1FFE65 2018-02-28 2018-02-28            NaT        NaT   \n",
       "10692  FB3E18726E743 2014-08-07 2014-05-16            NaT 2013-07-10   \n",
       "11685  FC49BE3482942 2015-05-01        NaT            NaT 2010-01-01   \n",
       "13772  FE86C7426E066 2020-04-27 2020-04-27            NaT 2016-08-24   \n",
       "8862   F94DF55DA1941 2022-02-08 2022-02-08     2021-07-08 2021-07-01   \n",
       "\n",
       "      alpha_beta_max  treat_max provenge_max   CRPCDate  \n",
       "9291             NaT        NaT          NaT 2017-09-07  \n",
       "10692            NaT        NaT          NaT 2014-03-07  \n",
       "11685            NaT 2001-01-01          NaT        NaT  \n",
       "13772            NaT        NaT          NaT 2018-01-10  \n",
       "8862             NaT        NaT          NaT        NaT  "
      ]
     },
     "execution_count": 170,
     "metadata": {},
     "output_type": "execute_result"
    }
   ],
   "source": [
    "last_activity.sample(5)"
   ]
  },
  {
   "cell_type": "code",
   "execution_count": 171,
   "id": "1405caf7",
   "metadata": {},
   "outputs": [],
   "source": [
    "# Find max of each row. \n",
    "last_activity = (\n",
    "    last_activity\n",
    "    .assign(last_activity = last_activity[['visit_max', 'orals_max', 'biomarkers_max', 'adt_max', 'alpha_beta_max', 'treat_max', 'provenge_max', 'CRPCDate']].max(axis = 1))\n",
    "    .filter(items = ['PatientID', 'last_activity'])\n",
    ")"
   ]
  },
  {
   "cell_type": "code",
   "execution_count": 172,
   "id": "7fd6240f",
   "metadata": {},
   "outputs": [
    {
     "data": {
      "text/plain": [
       "True"
      ]
     },
     "execution_count": 172,
     "metadata": {},
     "output_type": "execute_result"
    }
   ],
   "source": [
    "len(last_activity) == len(train_IDs)"
   ]
  },
  {
   "cell_type": "code",
   "execution_count": 173,
   "id": "d7655bf6",
   "metadata": {},
   "outputs": [
    {
     "data": {
      "text/plain": [
       "0"
      ]
     },
     "execution_count": 173,
     "metadata": {},
     "output_type": "execute_result"
    }
   ],
   "source": [
    "last_activity['last_activity'].isna().sum()"
   ]
  },
  {
   "cell_type": "code",
   "execution_count": 174,
   "id": "786a3c47",
   "metadata": {},
   "outputs": [],
   "source": [
    "# Append missing training IDs.\n",
    "mortality = (\n",
    "    mortality\n",
    "    .append(\n",
    "        pd.Series(train_IDs)[~pd.Series(train_IDs).isin(mortality['PatientID'])].to_frame(name = 'PatientID'), \n",
    "        sort = False\n",
    "    )\n",
    ")"
   ]
  },
  {
   "cell_type": "code",
   "execution_count": 175,
   "id": "9a96158f",
   "metadata": {},
   "outputs": [
    {
     "data": {
      "text/plain": [
       "(15141, 15141)"
      ]
     },
     "execution_count": 175,
     "metadata": {},
     "output_type": "execute_result"
    }
   ],
   "source": [
    "row_ID(mortality)"
   ]
  },
  {
   "cell_type": "code",
   "execution_count": 176,
   "id": "46783268",
   "metadata": {},
   "outputs": [],
   "source": [
    "mortality = pd.merge(mortality, enhanced_met[['PatientID', 'met_date']], on = 'PatientID')"
   ]
  },
  {
   "cell_type": "code",
   "execution_count": 177,
   "id": "e5220db8",
   "metadata": {},
   "outputs": [],
   "source": [
    "mortality = pd.merge(mortality, last_activity, on = 'PatientID')"
   ]
  },
  {
   "cell_type": "code",
   "execution_count": 178,
   "id": "0e39fe05",
   "metadata": {},
   "outputs": [
    {
     "data": {
      "text/plain": [
       "(15141, 15141)"
      ]
     },
     "execution_count": 178,
     "metadata": {},
     "output_type": "execute_result"
    }
   ],
   "source": [
    "row_ID(mortality)"
   ]
  },
  {
   "cell_type": "code",
   "execution_count": 179,
   "id": "174531bd",
   "metadata": {},
   "outputs": [
    {
     "data": {
      "text/html": [
       "<div>\n",
       "<style scoped>\n",
       "    .dataframe tbody tr th:only-of-type {\n",
       "        vertical-align: middle;\n",
       "    }\n",
       "\n",
       "    .dataframe tbody tr th {\n",
       "        vertical-align: top;\n",
       "    }\n",
       "\n",
       "    .dataframe thead th {\n",
       "        text-align: right;\n",
       "    }\n",
       "</style>\n",
       "<table border=\"1\" class=\"dataframe\">\n",
       "  <thead>\n",
       "    <tr style=\"text-align: right;\">\n",
       "      <th></th>\n",
       "      <th>PatientID</th>\n",
       "      <th>death_date</th>\n",
       "      <th>met_date</th>\n",
       "      <th>last_activity</th>\n",
       "    </tr>\n",
       "  </thead>\n",
       "  <tbody>\n",
       "    <tr>\n",
       "      <th>14849</th>\n",
       "      <td>FCA0398A9A827</td>\n",
       "      <td>NaT</td>\n",
       "      <td>2018-01-25</td>\n",
       "      <td>2022-09-29</td>\n",
       "    </tr>\n",
       "    <tr>\n",
       "      <th>6685</th>\n",
       "      <td>FE0957E771D7C</td>\n",
       "      <td>2021-07-09</td>\n",
       "      <td>2018-02-13</td>\n",
       "      <td>2021-06-01</td>\n",
       "    </tr>\n",
       "    <tr>\n",
       "      <th>6580</th>\n",
       "      <td>FC0F9E158FC12</td>\n",
       "      <td>2017-02-22</td>\n",
       "      <td>2013-10-04</td>\n",
       "      <td>2017-02-14</td>\n",
       "    </tr>\n",
       "    <tr>\n",
       "      <th>14922</th>\n",
       "      <td>F3BDE1393B566</td>\n",
       "      <td>NaT</td>\n",
       "      <td>2017-06-03</td>\n",
       "      <td>2017-06-07</td>\n",
       "    </tr>\n",
       "    <tr>\n",
       "      <th>5274</th>\n",
       "      <td>FB7AB1A928217</td>\n",
       "      <td>2017-03-08</td>\n",
       "      <td>2014-05-08</td>\n",
       "      <td>2017-01-25</td>\n",
       "    </tr>\n",
       "  </tbody>\n",
       "</table>\n",
       "</div>"
      ],
      "text/plain": [
       "           PatientID death_date   met_date last_activity\n",
       "14849  FCA0398A9A827        NaT 2018-01-25    2022-09-29\n",
       "6685   FE0957E771D7C 2021-07-09 2018-02-13    2021-06-01\n",
       "6580   FC0F9E158FC12 2017-02-22 2013-10-04    2017-02-14\n",
       "14922  F3BDE1393B566        NaT 2017-06-03    2017-06-07\n",
       "5274   FB7AB1A928217 2017-03-08 2014-05-08    2017-01-25"
      ]
     },
     "execution_count": 179,
     "metadata": {},
     "output_type": "execute_result"
    }
   ],
   "source": [
    "mortality.sample(5)"
   ]
  },
  {
   "cell_type": "code",
   "execution_count": 180,
   "id": "0c719ae7",
   "metadata": {},
   "outputs": [],
   "source": [
    "mortality.loc[:, 'death_status'] = np.where(mortality['death_date'].isna(), 0, 1)"
   ]
  },
  {
   "cell_type": "code",
   "execution_count": 181,
   "id": "7164ea42",
   "metadata": {},
   "outputs": [],
   "source": [
    "# timerisk_activity is time from metastatic diagnosis to death or last activity if no death date.\n",
    "mortality.loc[:, 'timerisk_activity'] = (\n",
    "    np.where(mortality['death_date'].isna(),\n",
    "             (mortality['last_activity'] - mortality['met_date']).dt.days,\n",
    "             (mortality['death_date'] - mortality['met_date']).dt.days)\n",
    ")"
   ]
  },
  {
   "cell_type": "code",
   "execution_count": 182,
   "id": "cea475bf",
   "metadata": {},
   "outputs": [],
   "source": [
    "# If timerisk_activity is less than 0, set to 0 otherwise remains unchanged. \n",
    "mortality['timerisk_activity'] = np.where(mortality['timerisk_activity'] < 0, 0, mortality['timerisk_activity'])"
   ]
  },
  {
   "cell_type": "code",
   "execution_count": 183,
   "id": "6196f5db",
   "metadata": {},
   "outputs": [
    {
     "data": {
      "text/html": [
       "<div>\n",
       "<style scoped>\n",
       "    .dataframe tbody tr th:only-of-type {\n",
       "        vertical-align: middle;\n",
       "    }\n",
       "\n",
       "    .dataframe tbody tr th {\n",
       "        vertical-align: top;\n",
       "    }\n",
       "\n",
       "    .dataframe thead th {\n",
       "        text-align: right;\n",
       "    }\n",
       "</style>\n",
       "<table border=\"1\" class=\"dataframe\">\n",
       "  <thead>\n",
       "    <tr style=\"text-align: right;\">\n",
       "      <th></th>\n",
       "      <th>PatientID</th>\n",
       "      <th>death_date</th>\n",
       "      <th>met_date</th>\n",
       "      <th>last_activity</th>\n",
       "      <th>death_status</th>\n",
       "      <th>timerisk_activity</th>\n",
       "    </tr>\n",
       "  </thead>\n",
       "  <tbody>\n",
       "    <tr>\n",
       "      <th>8845</th>\n",
       "      <td>F11B7C1CF1B4F</td>\n",
       "      <td>NaT</td>\n",
       "      <td>2021-10-13</td>\n",
       "      <td>2022-09-28</td>\n",
       "      <td>0</td>\n",
       "      <td>350.0</td>\n",
       "    </tr>\n",
       "    <tr>\n",
       "      <th>9542</th>\n",
       "      <td>FC0B192001A39</td>\n",
       "      <td>NaT</td>\n",
       "      <td>2016-06-20</td>\n",
       "      <td>2018-01-30</td>\n",
       "      <td>0</td>\n",
       "      <td>589.0</td>\n",
       "    </tr>\n",
       "    <tr>\n",
       "      <th>1050</th>\n",
       "      <td>FF03E9D56F023</td>\n",
       "      <td>2020-04-23</td>\n",
       "      <td>2018-01-23</td>\n",
       "      <td>2019-05-07</td>\n",
       "      <td>1</td>\n",
       "      <td>821.0</td>\n",
       "    </tr>\n",
       "    <tr>\n",
       "      <th>13722</th>\n",
       "      <td>F2A593BD80AB8</td>\n",
       "      <td>NaT</td>\n",
       "      <td>2022-05-17</td>\n",
       "      <td>2022-09-09</td>\n",
       "      <td>0</td>\n",
       "      <td>115.0</td>\n",
       "    </tr>\n",
       "    <tr>\n",
       "      <th>3925</th>\n",
       "      <td>FF08D177584BF</td>\n",
       "      <td>2016-12-06</td>\n",
       "      <td>2016-03-21</td>\n",
       "      <td>2016-11-30</td>\n",
       "      <td>1</td>\n",
       "      <td>260.0</td>\n",
       "    </tr>\n",
       "  </tbody>\n",
       "</table>\n",
       "</div>"
      ],
      "text/plain": [
       "           PatientID death_date   met_date last_activity  death_status  \\\n",
       "8845   F11B7C1CF1B4F        NaT 2021-10-13    2022-09-28             0   \n",
       "9542   FC0B192001A39        NaT 2016-06-20    2018-01-30             0   \n",
       "1050   FF03E9D56F023 2020-04-23 2018-01-23    2019-05-07             1   \n",
       "13722  F2A593BD80AB8        NaT 2022-05-17    2022-09-09             0   \n",
       "3925   FF08D177584BF 2016-12-06 2016-03-21    2016-11-30             1   \n",
       "\n",
       "       timerisk_activity  \n",
       "8845               350.0  \n",
       "9542               589.0  \n",
       "1050               821.0  \n",
       "13722              115.0  \n",
       "3925               260.0  "
      ]
     },
     "execution_count": 183,
     "metadata": {},
     "output_type": "execute_result"
    }
   ],
   "source": [
    "mortality.sample(5)"
   ]
  },
  {
   "cell_type": "code",
   "execution_count": 184,
   "id": "d1dbd7f2",
   "metadata": {},
   "outputs": [
    {
     "data": {
      "text/plain": [
       "count    15141.000000\n",
       "mean       923.884882\n",
       "std        728.399957\n",
       "min          0.000000\n",
       "25%        358.000000\n",
       "50%        732.000000\n",
       "75%       1313.000000\n",
       "max       3559.000000\n",
       "Name: timerisk_activity, dtype: float64"
      ]
     },
     "execution_count": 184,
     "metadata": {},
     "output_type": "execute_result"
    }
   ],
   "source": [
    "mortality.timerisk_activity.describe()"
   ]
  },
  {
   "cell_type": "code",
   "execution_count": 185,
   "id": "1a6d33b3",
   "metadata": {},
   "outputs": [
    {
     "data": {
      "text/plain": [
       "0.4812760055478502"
      ]
     },
     "execution_count": 185,
     "metadata": {},
     "output_type": "execute_result"
    }
   ],
   "source": [
    "# Percent of patients censored overall. \n",
    "(mortality.shape[0] - mortality['death_status'].sum())/mortality.shape[0]"
   ]
  },
  {
   "cell_type": "code",
   "execution_count": 186,
   "id": "f608bea1",
   "metadata": {},
   "outputs": [
    {
     "data": {
      "text/plain": [
       "0.12515685886004888"
      ]
     },
     "execution_count": 186,
     "metadata": {},
     "output_type": "execute_result"
    }
   ],
   "source": [
    "# Percent of patients dying within 365 days. \n",
    "((mortality['death_status'] == 1) & (mortality['timerisk_activity'] <= 365)).sum()/mortality.shape[0]"
   ]
  },
  {
   "cell_type": "code",
   "execution_count": 187,
   "id": "aa4b7fda",
   "metadata": {},
   "outputs": [
    {
     "data": {
      "text/plain": [
       "0.2626642890165775"
      ]
     },
     "execution_count": 187,
     "metadata": {},
     "output_type": "execute_result"
    }
   ],
   "source": [
    "# Percent of patients dying within 720 days. \n",
    "((mortality['death_status'] == 1) & (mortality['timerisk_activity'] <= 720)).sum()/mortality.shape[0]"
   ]
  },
  {
   "cell_type": "code",
   "execution_count": 188,
   "id": "f0101055",
   "metadata": {},
   "outputs": [
    {
     "name": "stdout",
     "output_type": "stream",
     "text": [
      "Median survival in days: 1208.0\n"
     ]
    },
    {
     "data": {
      "image/png": "[encoded data removed]",
      "text/plain": [
       "<Figure size 640x480 with 1 Axes>"
      ]
     },
     "metadata": {},
     "output_type": "display_data"
    }
   ],
   "source": [
    "import matplotlib.pyplot as plt\n",
    "from sksurv.nonparametric import kaplan_meier_estimator\n",
    "\n",
    "%matplotlib inline\n",
    "\n",
    "time, survival_prob = kaplan_meier_estimator(mortality['death_status'].astype('bool'), mortality['timerisk_activity'])\n",
    "plt.step(time, survival_prob, where = 'post')\n",
    "\n",
    "plt.title('KM curve for training set')\n",
    "plt.ylabel('estimated survival probability')\n",
    "plt.xlabel('time in days from metastatic diagnosis')\n",
    "print('Median survival in days:', time[np.where(survival_prob <0.5)][0])"
   ]
  },
  {
   "cell_type": "code",
   "execution_count": 189,
   "id": "19962589",
   "metadata": {},
   "outputs": [
    {
     "data": {
      "image/png": "[encoded data removed]",
      "text/plain": [
       "<Figure size 900x600 with 1 Axes>"
      ]
     },
     "metadata": {},
     "output_type": "display_data"
    }
   ],
   "source": [
    "plt.figure(figsize=(9, 6))\n",
    "val, bins, patches = plt.hist((mortality['timerisk_activity'][mortality['death_status'].astype('bool')],\n",
    "                               mortality['timerisk_activity'][~mortality['death_status'].astype('bool')]),\n",
    "                              bins = 60, stacked = True)\n",
    "_ = plt.legend(patches, [\"Time of Death\", \"Time of Censoring\"])"
   ]
  },
  {
   "cell_type": "code",
   "execution_count": 190,
   "id": "afacc1a9",
   "metadata": {},
   "outputs": [],
   "source": [
    "mortality = pd.merge(mortality, enhanced_met[['PatientID', 'diagnosis_date']], on = 'PatientID', how = 'outer')"
   ]
  },
  {
   "cell_type": "code",
   "execution_count": 191,
   "id": "46259be5",
   "metadata": {},
   "outputs": [],
   "source": [
    "# timerisk_activity_first is time from first diagnosis (metastatic or not) to death or last activity if no death date.\n",
    "mortality.loc[:, 'timerisk_activity_first'] = (\n",
    "    np.where(mortality['death_date'].isna(),\n",
    "             (mortality['last_activity'] - mortality['diagnosis_date']).dt.days,\n",
    "             (mortality['death_date'] - mortality['diagnosis_date']).dt.days)\n",
    ")"
   ]
  },
  {
   "cell_type": "code",
   "execution_count": 192,
   "id": "6863ad46",
   "metadata": {},
   "outputs": [],
   "source": [
    "# If timerisk_activity is less than 0, set to 0 otherwise remains unchanged. \n",
    "mortality['timerisk_activity_first'] = np.where(\n",
    "    mortality['timerisk_activity_first'] < 0, 0, mortality['timerisk_activity_first'])"
   ]
  },
  {
   "cell_type": "code",
   "execution_count": 193,
   "id": "20606fd1",
   "metadata": {},
   "outputs": [],
   "source": [
    "mortality.to_csv('mortality_cleaned_tr.csv', index = False, header = True)"
   ]
  },
  {
   "cell_type": "code",
   "execution_count": 194,
   "id": "259a6179",
   "metadata": {},
   "outputs": [],
   "source": [
    "mortality = mortality.filter(items = ['PatientID', 'death_status', 'timerisk_activity'])"
   ]
  },
  {
   "cell_type": "code",
   "execution_count": 195,
   "id": "535f4999",
   "metadata": {},
   "outputs": [
    {
     "data": {
      "text/html": [
       "<div>\n",
       "<style scoped>\n",
       "    .dataframe tbody tr th:only-of-type {\n",
       "        vertical-align: middle;\n",
       "    }\n",
       "\n",
       "    .dataframe tbody tr th {\n",
       "        vertical-align: top;\n",
       "    }\n",
       "\n",
       "    .dataframe thead th {\n",
       "        text-align: right;\n",
       "    }\n",
       "</style>\n",
       "<table border=\"1\" class=\"dataframe\">\n",
       "  <thead>\n",
       "    <tr style=\"text-align: right;\">\n",
       "      <th></th>\n",
       "      <th>PatientID</th>\n",
       "      <th>death_status</th>\n",
       "      <th>timerisk_activity</th>\n",
       "    </tr>\n",
       "  </thead>\n",
       "  <tbody>\n",
       "    <tr>\n",
       "      <th>4700</th>\n",
       "      <td>F0F760FC72C09</td>\n",
       "      <td>1</td>\n",
       "      <td>2326.0</td>\n",
       "    </tr>\n",
       "    <tr>\n",
       "      <th>1180</th>\n",
       "      <td>FD9CFDC991477</td>\n",
       "      <td>1</td>\n",
       "      <td>320.0</td>\n",
       "    </tr>\n",
       "    <tr>\n",
       "      <th>5223</th>\n",
       "      <td>F6F6487E45712</td>\n",
       "      <td>1</td>\n",
       "      <td>907.0</td>\n",
       "    </tr>\n",
       "    <tr>\n",
       "      <th>13133</th>\n",
       "      <td>F39DF309BE659</td>\n",
       "      <td>0</td>\n",
       "      <td>34.0</td>\n",
       "    </tr>\n",
       "    <tr>\n",
       "      <th>5458</th>\n",
       "      <td>F44F315F7D241</td>\n",
       "      <td>1</td>\n",
       "      <td>340.0</td>\n",
       "    </tr>\n",
       "  </tbody>\n",
       "</table>\n",
       "</div>"
      ],
      "text/plain": [
       "           PatientID  death_status  timerisk_activity\n",
       "4700   F0F760FC72C09             1             2326.0\n",
       "1180   FD9CFDC991477             1              320.0\n",
       "5223   F6F6487E45712             1              907.0\n",
       "13133  F39DF309BE659             0               34.0\n",
       "5458   F44F315F7D241             1              340.0"
      ]
     },
     "execution_count": 195,
     "metadata": {},
     "output_type": "execute_result"
    }
   ],
   "source": [
    "mortality.sample(5)"
   ]
  },
  {
   "cell_type": "code",
   "execution_count": 196,
   "id": "70d7b174",
   "metadata": {},
   "outputs": [
    {
     "name": "stdout",
     "output_type": "stream",
     "text": [
      "Variable         Type         Data/Info\n",
      "---------------------------------------\n",
      "adt              DataFrame               PatientID Trea<...>n[16397 rows x 5 columns]\n",
      "adt_max          DataFrame               PatientID    a<...>n[14629 rows x 2 columns]\n",
      "alpha_beta       DataFrame              PatientID    Dr<...>\\n[5792 rows x 3 columns]\n",
      "alpha_beta_max   DataFrame              PatientID alpha<...>\\n[1377 rows x 2 columns]\n",
      "biomarkers       DataFrame              PatientID Bioma<...>\\n[6339 rows x 9 columns]\n",
      "biomarkers_max   DataFrame              PatientID bioma<...>\\n[4233 rows x 2 columns]\n",
      "crpc_max         DataFrame               PatientID   CR<...>\\n[9405 rows x 2 columns]\n",
      "demographics     DataFrame               PatientID Gend<...>n[15141 rows x 6 columns]\n",
      "enhanced_met     DataFrame               PatientID diag<...>[15141 rows x 18 columns]\n",
      "last_activity    DataFrame               PatientID last<...>n[15141 rows x 2 columns]\n",
      "mortality        DataFrame               PatientID  dea<...>n[15141 rows x 3 columns]\n",
      "orals            DataFrame               PatientID     <...>n[28334 rows x 5 columns]\n",
      "orals_max        DataFrame               PatientID  ora<...>n[13539 rows x 2 columns]\n",
      "provenge         DataFrame              PatientID  Star<...>\\n[1266 rows x 2 columns]\n",
      "provenge_max     DataFrame              PatientID prove<...>\\n[1266 rows x 2 columns]\n",
      "telemedicine     DataFrame               PatientID   Vi<...>n[10830 rows x 2 columns]\n",
      "treat            DataFrame              PatientID      <...>\\n[6552 rows x 3 columns]\n",
      "treat_max        DataFrame              PatientID  trea<...>\\n[6552 rows x 2 columns]\n",
      "visit            DataFrame                PatientID   V<...>[744472 rows x 6 columns]\n",
      "visit_tele       DataFrame               PatientID  Vis<...>[755302 rows x 2 columns]\n",
      "visit_tele_max   DataFrame               PatientID  vis<...>n[15141 rows x 2 columns]\n"
     ]
    }
   ],
   "source": [
    "%whos DataFrame"
   ]
  },
  {
   "cell_type": "code",
   "execution_count": 197,
   "id": "d0628feb",
   "metadata": {},
   "outputs": [],
   "source": [
    "# Keep demographics, enhanced_met, and mortality\n",
    "del adt\n",
    "del adt_max\n",
    "del alpha_beta\n",
    "del alpha_beta_max\n",
    "del biomarkers\n",
    "del biomarkers_max\n",
    "del crpc_max\n",
    "del last_activity\n",
    "del orals\n",
    "del orals_max\n",
    "del provenge\n",
    "del provenge_max\n",
    "del telemedicine\n",
    "del treat\n",
    "del treat_max\n",
    "del visit\n",
    "del visit_tele\n",
    "del visit_tele_max"
   ]
  },
  {
   "cell_type": "markdown",
   "id": "69b5104c",
   "metadata": {},
   "source": [
    "### 4. MedicationAdministration"
   ]
  },
  {
   "cell_type": "code",
   "execution_count": 198,
   "id": "b92cce14",
   "metadata": {},
   "outputs": [],
   "source": [
    "med_admin = pd.read_csv('MedicationAdministration.csv')"
   ]
  },
  {
   "cell_type": "code",
   "execution_count": 199,
   "id": "1b691125",
   "metadata": {},
   "outputs": [],
   "source": [
    "med_admin = med_admin[med_admin['PatientID'].isin(train_IDs)]"
   ]
  },
  {
   "cell_type": "code",
   "execution_count": 200,
   "id": "64c19104",
   "metadata": {},
   "outputs": [
    {
     "data": {
      "text/plain": [
       "(562121, 12639)"
      ]
     },
     "execution_count": 200,
     "metadata": {},
     "output_type": "execute_result"
    }
   ],
   "source": [
    "row_ID(med_admin)"
   ]
  },
  {
   "cell_type": "code",
   "execution_count": 201,
   "id": "1ec27f46",
   "metadata": {},
   "outputs": [
    {
     "data": {
      "text/html": [
       "<div>\n",
       "<style scoped>\n",
       "    .dataframe tbody tr th:only-of-type {\n",
       "        vertical-align: middle;\n",
       "    }\n",
       "\n",
       "    .dataframe tbody tr th {\n",
       "        vertical-align: top;\n",
       "    }\n",
       "\n",
       "    .dataframe thead th {\n",
       "        text-align: right;\n",
       "    }\n",
       "</style>\n",
       "<table border=\"1\" class=\"dataframe\">\n",
       "  <thead>\n",
       "    <tr style=\"text-align: right;\">\n",
       "      <th></th>\n",
       "      <th>PatientID</th>\n",
       "      <th>OrderID</th>\n",
       "      <th>DrugName</th>\n",
       "      <th>CommonDrugName</th>\n",
       "      <th>Route</th>\n",
       "      <th>DrugCategory</th>\n",
       "      <th>DetailedDrugCategory</th>\n",
       "      <th>AdministeredDate</th>\n",
       "      <th>AdministeredAmount</th>\n",
       "      <th>AdministeredUnits</th>\n",
       "    </tr>\n",
       "  </thead>\n",
       "  <tbody>\n",
       "    <tr>\n",
       "      <th>489</th>\n",
       "      <td>F3E0E1B208CC7</td>\n",
       "      <td>M4FCC45FE751C48043F1F92DF41ABF70D</td>\n",
       "      <td>dexamethasone sodium phosphate</td>\n",
       "      <td>dexamethasone</td>\n",
       "      <td>Intravenous</td>\n",
       "      <td>steroid</td>\n",
       "      <td>glucocorticoid</td>\n",
       "      <td>2019-04-09</td>\n",
       "      <td>10.0</td>\n",
       "      <td>mg</td>\n",
       "    </tr>\n",
       "    <tr>\n",
       "      <th>302549</th>\n",
       "      <td>FF3A066BD9711</td>\n",
       "      <td>M45E6EB6AD79A44F21A22A88C1F0A3AB1</td>\n",
       "      <td>docetaxel</td>\n",
       "      <td>docetaxel</td>\n",
       "      <td>Intravenous</td>\n",
       "      <td>antineoplastic</td>\n",
       "      <td>chemotherapy</td>\n",
       "      <td>2021-10-18</td>\n",
       "      <td>55.0</td>\n",
       "      <td>mg</td>\n",
       "    </tr>\n",
       "    <tr>\n",
       "      <th>28057</th>\n",
       "      <td>FE0F9944A7037</td>\n",
       "      <td>M4BF932FDEC7F928300BA55797294DD2C</td>\n",
       "      <td>insulin nph human isophane</td>\n",
       "      <td>insulin isophane (nph)</td>\n",
       "      <td>Subcutaneous</td>\n",
       "      <td>antihyperglycemic</td>\n",
       "      <td>insulin/insulin analog</td>\n",
       "      <td>2016-10-09</td>\n",
       "      <td>20.0</td>\n",
       "      <td>U</td>\n",
       "    </tr>\n",
       "    <tr>\n",
       "      <th>351129</th>\n",
       "      <td>F5B66FA47CC86</td>\n",
       "      <td>M69CB26D6E2AE27D81D81A3C58149B381</td>\n",
       "      <td>palonosetron hcl</td>\n",
       "      <td>palonosetron</td>\n",
       "      <td>Intravenous</td>\n",
       "      <td>antiemetic</td>\n",
       "      <td>antiemetic</td>\n",
       "      <td>2018-01-31</td>\n",
       "      <td>250.0</td>\n",
       "      <td>ug</td>\n",
       "    </tr>\n",
       "    <tr>\n",
       "      <th>152137</th>\n",
       "      <td>F458E83B0D87A</td>\n",
       "      <td>M3F0F5609946CA86B5E53DBB9FF0695A1</td>\n",
       "      <td>insulin lispro</td>\n",
       "      <td>insulin lispro</td>\n",
       "      <td>Subcutaneous</td>\n",
       "      <td>antihyperglycemic</td>\n",
       "      <td>insulin/insulin analog</td>\n",
       "      <td>2019-06-25</td>\n",
       "      <td>6.0</td>\n",
       "      <td>U</td>\n",
       "    </tr>\n",
       "  </tbody>\n",
       "</table>\n",
       "</div>"
      ],
      "text/plain": [
       "            PatientID                            OrderID  \\\n",
       "489     F3E0E1B208CC7  M4FCC45FE751C48043F1F92DF41ABF70D   \n",
       "302549  FF3A066BD9711  M45E6EB6AD79A44F21A22A88C1F0A3AB1   \n",
       "28057   FE0F9944A7037  M4BF932FDEC7F928300BA55797294DD2C   \n",
       "351129  F5B66FA47CC86  M69CB26D6E2AE27D81D81A3C58149B381   \n",
       "152137  F458E83B0D87A  M3F0F5609946CA86B5E53DBB9FF0695A1   \n",
       "\n",
       "                              DrugName          CommonDrugName         Route  \\\n",
       "489     dexamethasone sodium phosphate           dexamethasone   Intravenous   \n",
       "302549                       docetaxel               docetaxel   Intravenous   \n",
       "28057       insulin nph human isophane  insulin isophane (nph)  Subcutaneous   \n",
       "351129                palonosetron hcl            palonosetron   Intravenous   \n",
       "152137                  insulin lispro          insulin lispro  Subcutaneous   \n",
       "\n",
       "             DrugCategory    DetailedDrugCategory AdministeredDate  \\\n",
       "489               steroid          glucocorticoid       2019-04-09   \n",
       "302549     antineoplastic            chemotherapy       2021-10-18   \n",
       "28057   antihyperglycemic  insulin/insulin analog       2016-10-09   \n",
       "351129         antiemetic              antiemetic       2018-01-31   \n",
       "152137  antihyperglycemic  insulin/insulin analog       2019-06-25   \n",
       "\n",
       "        AdministeredAmount AdministeredUnits  \n",
       "489                   10.0                mg  \n",
       "302549                55.0                mg  \n",
       "28057                 20.0                 U  \n",
       "351129               250.0                ug  \n",
       "152137                 6.0                 U  "
      ]
     },
     "execution_count": 201,
     "metadata": {},
     "output_type": "execute_result"
    }
   ],
   "source": [
    "med_admin.sample(5)"
   ]
  },
  {
   "cell_type": "markdown",
   "id": "32a0afca",
   "metadata": {},
   "source": [
    "**An indicator variable will be created for key medications (ie., steroids, opioids, other pain meds, antibiotics, anticoagulation, diabetic medicaitons, etc.) around time of metastatic diagnosis. The elgibility window is -90 days from metastatic diagnosis +30.** "
   ]
  },
  {
   "cell_type": "code",
   "execution_count": 202,
   "id": "a82add19",
   "metadata": {},
   "outputs": [
    {
     "data": {
      "text/plain": [
       "(562121, 10)"
      ]
     },
     "execution_count": 202,
     "metadata": {},
     "output_type": "execute_result"
    }
   ],
   "source": [
    "med_admin.shape"
   ]
  },
  {
   "cell_type": "code",
   "execution_count": 203,
   "id": "e2af9d8c",
   "metadata": {},
   "outputs": [],
   "source": [
    "med_admin = pd.merge(med_admin, enhanced_met[['PatientID', 'met_date']], on = 'PatientID', how = 'left')"
   ]
  },
  {
   "cell_type": "code",
   "execution_count": 204,
   "id": "9c2143e4",
   "metadata": {},
   "outputs": [],
   "source": [
    "med_admin.loc[:, 'AdministeredDate'] = pd.to_datetime(med_admin['AdministeredDate'])"
   ]
  },
  {
   "cell_type": "code",
   "execution_count": 205,
   "id": "8772b504",
   "metadata": {},
   "outputs": [
    {
     "data": {
      "text/plain": [
       "0"
      ]
     },
     "execution_count": 205,
     "metadata": {},
     "output_type": "execute_result"
    }
   ],
   "source": [
    "med_admin['AdministeredDate'].isna().sum()"
   ]
  },
  {
   "cell_type": "code",
   "execution_count": 206,
   "id": "4294aae6",
   "metadata": {},
   "outputs": [
    {
     "data": {
      "text/html": [
       "<div>\n",
       "<style scoped>\n",
       "    .dataframe tbody tr th:only-of-type {\n",
       "        vertical-align: middle;\n",
       "    }\n",
       "\n",
       "    .dataframe tbody tr th {\n",
       "        vertical-align: top;\n",
       "    }\n",
       "\n",
       "    .dataframe thead th {\n",
       "        text-align: right;\n",
       "    }\n",
       "</style>\n",
       "<table border=\"1\" class=\"dataframe\">\n",
       "  <thead>\n",
       "    <tr style=\"text-align: right;\">\n",
       "      <th></th>\n",
       "      <th>PatientID</th>\n",
       "      <th>OrderID</th>\n",
       "      <th>DrugName</th>\n",
       "      <th>CommonDrugName</th>\n",
       "      <th>Route</th>\n",
       "      <th>DrugCategory</th>\n",
       "      <th>DetailedDrugCategory</th>\n",
       "      <th>AdministeredDate</th>\n",
       "      <th>AdministeredAmount</th>\n",
       "      <th>AdministeredUnits</th>\n",
       "      <th>met_date</th>\n",
       "    </tr>\n",
       "  </thead>\n",
       "  <tbody>\n",
       "    <tr>\n",
       "      <th>0</th>\n",
       "      <td>FCD455E5A25FF</td>\n",
       "      <td>M037CD50AB9113F8A6934D660BA477418</td>\n",
       "      <td>denosumab</td>\n",
       "      <td>denosumab</td>\n",
       "      <td>Subcutaneous</td>\n",
       "      <td>bone therapy agent (bta)</td>\n",
       "      <td>monoclonal antibody</td>\n",
       "      <td>2020-05-21</td>\n",
       "      <td>120.0</td>\n",
       "      <td>mg</td>\n",
       "      <td>2018-09-19</td>\n",
       "    </tr>\n",
       "    <tr>\n",
       "      <th>1</th>\n",
       "      <td>FCD455E5A25FF</td>\n",
       "      <td>M07BD42CDA5644F03F42200E5757C3C85</td>\n",
       "      <td>denosumab</td>\n",
       "      <td>denosumab</td>\n",
       "      <td>Subcutaneous</td>\n",
       "      <td>bone therapy agent (bta)</td>\n",
       "      <td>monoclonal antibody</td>\n",
       "      <td>2019-07-19</td>\n",
       "      <td>120.0</td>\n",
       "      <td>mg</td>\n",
       "      <td>2018-09-19</td>\n",
       "    </tr>\n",
       "    <tr>\n",
       "      <th>2</th>\n",
       "      <td>FCD455E5A25FF</td>\n",
       "      <td>M0DC7E784067B221D1672FB40F469AFB3</td>\n",
       "      <td>denosumab</td>\n",
       "      <td>denosumab</td>\n",
       "      <td>Subcutaneous</td>\n",
       "      <td>bone therapy agent (bta)</td>\n",
       "      <td>monoclonal antibody</td>\n",
       "      <td>2019-05-23</td>\n",
       "      <td>120.0</td>\n",
       "      <td>mg</td>\n",
       "      <td>2018-09-19</td>\n",
       "    </tr>\n",
       "    <tr>\n",
       "      <th>3</th>\n",
       "      <td>FCD455E5A25FF</td>\n",
       "      <td>M0E17CB0C16573EC514F9254D756D0616</td>\n",
       "      <td>denosumab</td>\n",
       "      <td>denosumab</td>\n",
       "      <td>Subcutaneous</td>\n",
       "      <td>bone therapy agent (bta)</td>\n",
       "      <td>monoclonal antibody</td>\n",
       "      <td>2019-06-20</td>\n",
       "      <td>120.0</td>\n",
       "      <td>mg</td>\n",
       "      <td>2018-09-19</td>\n",
       "    </tr>\n",
       "    <tr>\n",
       "      <th>4</th>\n",
       "      <td>FCD455E5A25FF</td>\n",
       "      <td>M14A4F371606F839DAC711B9C2CDC822D</td>\n",
       "      <td>denosumab</td>\n",
       "      <td>denosumab</td>\n",
       "      <td>Subcutaneous</td>\n",
       "      <td>bone therapy agent (bta)</td>\n",
       "      <td>monoclonal antibody</td>\n",
       "      <td>2018-12-06</td>\n",
       "      <td>120.0</td>\n",
       "      <td>mg</td>\n",
       "      <td>2018-09-19</td>\n",
       "    </tr>\n",
       "    <tr>\n",
       "      <th>...</th>\n",
       "      <td>...</td>\n",
       "      <td>...</td>\n",
       "      <td>...</td>\n",
       "      <td>...</td>\n",
       "      <td>...</td>\n",
       "      <td>...</td>\n",
       "      <td>...</td>\n",
       "      <td>...</td>\n",
       "      <td>...</td>\n",
       "      <td>...</td>\n",
       "      <td>...</td>\n",
       "    </tr>\n",
       "    <tr>\n",
       "      <th>562116</th>\n",
       "      <td>F31BBF3155BBC</td>\n",
       "      <td>MF9E363B5AAA69FD1FFEA9532CD9A6969</td>\n",
       "      <td>ondansetron hcl</td>\n",
       "      <td>ondansetron</td>\n",
       "      <td>Intravenous</td>\n",
       "      <td>antiemetic</td>\n",
       "      <td>antiemetic</td>\n",
       "      <td>2020-01-23</td>\n",
       "      <td>8.0</td>\n",
       "      <td>mg</td>\n",
       "      <td>2016-10-11</td>\n",
       "    </tr>\n",
       "    <tr>\n",
       "      <th>562117</th>\n",
       "      <td>F31BBF3155BBC</td>\n",
       "      <td>MFB1880E191FC7E4C5882AF27F325055B</td>\n",
       "      <td>zoledronic acid</td>\n",
       "      <td>zoledronic acid</td>\n",
       "      <td>Intravenous</td>\n",
       "      <td>bone therapy agent (bta)</td>\n",
       "      <td>biphosphonate</td>\n",
       "      <td>2020-08-13</td>\n",
       "      <td>4.0</td>\n",
       "      <td>mg</td>\n",
       "      <td>2016-10-11</td>\n",
       "    </tr>\n",
       "    <tr>\n",
       "      <th>562118</th>\n",
       "      <td>F31BBF3155BBC</td>\n",
       "      <td>MFD1F1D11ECFDBA69F4C393C560FB3D36</td>\n",
       "      <td>0.9 % sodium chloride</td>\n",
       "      <td>sodium/saline preparations</td>\n",
       "      <td>Intravenous</td>\n",
       "      <td>solution-fluid</td>\n",
       "      <td>solution-fluid</td>\n",
       "      <td>2021-06-10</td>\n",
       "      <td>500.0</td>\n",
       "      <td>mL</td>\n",
       "      <td>2016-10-11</td>\n",
       "    </tr>\n",
       "    <tr>\n",
       "      <th>562119</th>\n",
       "      <td>F31BBF3155BBC</td>\n",
       "      <td>MFE2402C16E4F036E73FFADE8302FA8E3</td>\n",
       "      <td>0.9 % sodium chloride</td>\n",
       "      <td>sodium/saline preparations</td>\n",
       "      <td>Intravenous</td>\n",
       "      <td>solution-fluid</td>\n",
       "      <td>solution-fluid</td>\n",
       "      <td>2021-03-04</td>\n",
       "      <td>500.0</td>\n",
       "      <td>mL</td>\n",
       "      <td>2016-10-11</td>\n",
       "    </tr>\n",
       "    <tr>\n",
       "      <th>562120</th>\n",
       "      <td>F31BBF3155BBC</td>\n",
       "      <td>MFE4E7C839EB20323279542695583183A</td>\n",
       "      <td>0.9 % sodium chloride</td>\n",
       "      <td>sodium/saline preparations</td>\n",
       "      <td>Intravenous</td>\n",
       "      <td>solution-fluid</td>\n",
       "      <td>solution-fluid</td>\n",
       "      <td>2019-11-14</td>\n",
       "      <td>500.0</td>\n",
       "      <td>mL</td>\n",
       "      <td>2016-10-11</td>\n",
       "    </tr>\n",
       "  </tbody>\n",
       "</table>\n",
       "<p>562121 rows × 11 columns</p>\n",
       "</div>"
      ],
      "text/plain": [
       "            PatientID                            OrderID  \\\n",
       "0       FCD455E5A25FF  M037CD50AB9113F8A6934D660BA477418   \n",
       "1       FCD455E5A25FF  M07BD42CDA5644F03F42200E5757C3C85   \n",
       "2       FCD455E5A25FF  M0DC7E784067B221D1672FB40F469AFB3   \n",
       "3       FCD455E5A25FF  M0E17CB0C16573EC514F9254D756D0616   \n",
       "4       FCD455E5A25FF  M14A4F371606F839DAC711B9C2CDC822D   \n",
       "...               ...                                ...   \n",
       "562116  F31BBF3155BBC  MF9E363B5AAA69FD1FFEA9532CD9A6969   \n",
       "562117  F31BBF3155BBC  MFB1880E191FC7E4C5882AF27F325055B   \n",
       "562118  F31BBF3155BBC  MFD1F1D11ECFDBA69F4C393C560FB3D36   \n",
       "562119  F31BBF3155BBC  MFE2402C16E4F036E73FFADE8302FA8E3   \n",
       "562120  F31BBF3155BBC  MFE4E7C839EB20323279542695583183A   \n",
       "\n",
       "                     DrugName              CommonDrugName         Route  \\\n",
       "0                   denosumab                   denosumab  Subcutaneous   \n",
       "1                   denosumab                   denosumab  Subcutaneous   \n",
       "2                   denosumab                   denosumab  Subcutaneous   \n",
       "3                   denosumab                   denosumab  Subcutaneous   \n",
       "4                   denosumab                   denosumab  Subcutaneous   \n",
       "...                       ...                         ...           ...   \n",
       "562116        ondansetron hcl                 ondansetron   Intravenous   \n",
       "562117        zoledronic acid             zoledronic acid   Intravenous   \n",
       "562118  0.9 % sodium chloride  sodium/saline preparations   Intravenous   \n",
       "562119  0.9 % sodium chloride  sodium/saline preparations   Intravenous   \n",
       "562120  0.9 % sodium chloride  sodium/saline preparations   Intravenous   \n",
       "\n",
       "                    DrugCategory DetailedDrugCategory AdministeredDate  \\\n",
       "0       bone therapy agent (bta)  monoclonal antibody       2020-05-21   \n",
       "1       bone therapy agent (bta)  monoclonal antibody       2019-07-19   \n",
       "2       bone therapy agent (bta)  monoclonal antibody       2019-05-23   \n",
       "3       bone therapy agent (bta)  monoclonal antibody       2019-06-20   \n",
       "4       bone therapy agent (bta)  monoclonal antibody       2018-12-06   \n",
       "...                          ...                  ...              ...   \n",
       "562116                antiemetic           antiemetic       2020-01-23   \n",
       "562117  bone therapy agent (bta)        biphosphonate       2020-08-13   \n",
       "562118            solution-fluid       solution-fluid       2021-06-10   \n",
       "562119            solution-fluid       solution-fluid       2021-03-04   \n",
       "562120            solution-fluid       solution-fluid       2019-11-14   \n",
       "\n",
       "        AdministeredAmount AdministeredUnits   met_date  \n",
       "0                    120.0                mg 2018-09-19  \n",
       "1                    120.0                mg 2018-09-19  \n",
       "2                    120.0                mg 2018-09-19  \n",
       "3                    120.0                mg 2018-09-19  \n",
       "4                    120.0                mg 2018-09-19  \n",
       "...                    ...               ...        ...  \n",
       "562116                 8.0                mg 2016-10-11  \n",
       "562117                 4.0                mg 2016-10-11  \n",
       "562118               500.0                mL 2016-10-11  \n",
       "562119               500.0                mL 2016-10-11  \n",
       "562120               500.0                mL 2016-10-11  \n",
       "\n",
       "[562121 rows x 11 columns]"
      ]
     },
     "execution_count": 206,
     "metadata": {},
     "output_type": "execute_result"
    }
   ],
   "source": [
    "med_admin"
   ]
  },
  {
   "cell_type": "code",
   "execution_count": 207,
   "id": "4800a35f",
   "metadata": {},
   "outputs": [],
   "source": [
    "# Select window of -90 and +30 days from metastatic diagnosis. \n",
    "med_admin_win = (\n",
    "    med_admin\n",
    "    .assign(med_admin_diff = (med_admin['AdministeredDate'] - med_admin['met_date']).dt.days)\n",
    "    .query('med_admin_diff >= -90 and med_admin_diff <= 30')\n",
    ")"
   ]
  },
  {
   "cell_type": "code",
   "execution_count": 208,
   "id": "c04e2719",
   "metadata": {},
   "outputs": [
    {
     "data": {
      "text/plain": [
       "(27947, 4487)"
      ]
     },
     "execution_count": 208,
     "metadata": {},
     "output_type": "execute_result"
    }
   ],
   "source": [
    "row_ID(med_admin_win)"
   ]
  },
  {
   "cell_type": "code",
   "execution_count": 209,
   "id": "fbc186fd",
   "metadata": {},
   "outputs": [
    {
     "data": {
      "text/plain": [
       "antineoplastic                  5838\n",
       "pain agent                      4173\n",
       "solution-fluid                  3437\n",
       "hematological agent             2907\n",
       "anti-infective                  1839\n",
       "bone therapy agent (bta)        1779\n",
       "steroid                         1751\n",
       "antiemetic                      1465\n",
       "anesthetic                      1432\n",
       "cytoprotective                   870\n",
       "proton pump inhibitor            768\n",
       "antihyperglycemic                624\n",
       "antidepressant                   547\n",
       "hormone                          201\n",
       "gout and hyperurecemia agent     197\n",
       "sedative agent                    44\n",
       "anticholinergic                   26\n",
       "hyperglycemic                     22\n",
       "antidote and reversal agent       17\n",
       "antithyroid agent                  6\n",
       "calcimimetic                       4\n",
       "Name: DrugCategory, dtype: int64"
      ]
     },
     "execution_count": 209,
     "metadata": {},
     "output_type": "execute_result"
    }
   ],
   "source": [
    "med_admin_win.DrugCategory.value_counts()"
   ]
  },
  {
   "cell_type": "markdown",
   "id": "44b0568d",
   "metadata": {},
   "source": [
    "#### Antineoplastic "
   ]
  },
  {
   "cell_type": "code",
   "execution_count": 210,
   "id": "3b4647a9",
   "metadata": {},
   "outputs": [],
   "source": [
    "# Select window before upper bound (ie., < 30 or day before first LOT). \n",
    "med_admin_win_chemo = (\n",
    "    med_admin\n",
    "    [med_admin['AdministeredDate'] < med_admin['met_date']]\n",
    ")"
   ]
  },
  {
   "cell_type": "code",
   "execution_count": 211,
   "id": "71f4f337",
   "metadata": {},
   "outputs": [
    {
     "data": {
      "text/plain": [
       "leuprolide acetate     5878\n",
       "triptorelin pamoate     777\n",
       "docetaxel               660\n",
       "fluorouracil            639\n",
       "rituximab               605\n",
       "azacitidine             446\n",
       "degarelix acetate       341\n",
       "leucovorin calcium      295\n",
       "oxaliplatin             231\n",
       "cyclophosphamide        224\n",
       "bicalutamide            210\n",
       "carboplatin             201\n",
       "bevacizumab             201\n",
       "goserelin acetate       189\n",
       "doxorubicin hcl         165\n",
       "vincristine sulfate     156\n",
       "cisplatin               152\n",
       "bendamustine hcl        144\n",
       "etoposide               140\n",
       "pembrolizumab           136\n",
       "Name: DrugName, dtype: int64"
      ]
     },
     "execution_count": 211,
     "metadata": {},
     "output_type": "execute_result"
    }
   ],
   "source": [
    "(\n",
    "    med_admin_win_chemo.query('DrugCategory == \"antineoplastic\"').DrugName.value_counts().head(20)\n",
    ")"
   ]
  },
  {
   "cell_type": "markdown",
   "id": "498e1abe",
   "metadata": {},
   "source": [
    "#### Antiemetic"
   ]
  },
  {
   "cell_type": "code",
   "execution_count": 212,
   "id": "0e838dbb",
   "metadata": {},
   "outputs": [
    {
     "data": {
      "text/plain": [
       "ondansetron                   0.488055\n",
       "palonosetron                  0.251877\n",
       "granisetron                   0.105119\n",
       "fosaprepitant                 0.042321\n",
       "aprepitant                    0.027986\n",
       "prochlorperazine              0.027986\n",
       "olanzapine                    0.019795\n",
       "metoclopramide                0.016382\n",
       "fosnetupitant/palonosetron    0.010239\n",
       "promethazine                  0.004778\n",
       "meclizine                     0.002730\n",
       "Clinical study drug           0.001365\n",
       "dimenhydrinate                0.000683\n",
       "scopolamine                   0.000683\n",
       "Name: CommonDrugName, dtype: float64"
      ]
     },
     "execution_count": 212,
     "metadata": {},
     "output_type": "execute_result"
    }
   ],
   "source": [
    "(\n",
    "    med_admin_win\n",
    "    .query('DrugCategory == \"antiemetic\"')\n",
    "    .CommonDrugName\n",
    "    .value_counts(normalize = True)\n",
    "    .head(20)\n",
    ")"
   ]
  },
  {
   "cell_type": "markdown",
   "id": "67b51221",
   "metadata": {},
   "source": [
    "#### Solution-fluid"
   ]
  },
  {
   "cell_type": "code",
   "execution_count": 213,
   "id": "5a9cccc9",
   "metadata": {},
   "outputs": [
    {
     "data": {
      "text/plain": [
       "sodium/saline preparations                     0.770730\n",
       "electrolyte maintenance                        0.131510\n",
       "iv solutions: dextrose-saline                  0.032296\n",
       "iv solutions: dextrose-water                   0.031714\n",
       "sodium chloride irrigating solution            0.020658\n",
       "water for irrigation, sterile                  0.011638\n",
       "iv solutions: dextrose and lactated ringers    0.001455\n",
       "Name: CommonDrugName, dtype: float64"
      ]
     },
     "execution_count": 213,
     "metadata": {},
     "output_type": "execute_result"
    }
   ],
   "source": [
    "(\n",
    "    med_admin_win\n",
    "    .query('DrugCategory == \"solution-fluid\"')\n",
    "    .CommonDrugName\n",
    "    .value_counts(normalize = True)\n",
    ")"
   ]
  },
  {
   "cell_type": "markdown",
   "id": "939154be",
   "metadata": {},
   "source": [
    "#### Steroid"
   ]
  },
  {
   "cell_type": "code",
   "execution_count": 214,
   "id": "4f2f7d72",
   "metadata": {},
   "outputs": [
    {
     "data": {
      "text/plain": [
       "CommonDrugName       Route                   \n",
       "dexamethasone        Intravenous                 1142\n",
       "                     Oral                         244\n",
       "prednisone           Oral                         149\n",
       "methylprednisolone   Intravenous                   94\n",
       "hydrocortisone       Intravenous                   34\n",
       "                     Topical                       16\n",
       "triamcinolone        Topical                        9\n",
       "dexamethasone        Intrajejunal                   7\n",
       "methylprednisolone   enteral                        6\n",
       "prednisolone         Ophthalmic                     5\n",
       "hydrocortisone       Rectal                         5\n",
       "fludrocortisone      Oral                           5\n",
       "methylprednisolone   Intra-arterial                 3\n",
       "                     Intramuscular                  3\n",
       "Clinical study drug  Intravenous                    3\n",
       "budesonide           Inhalation                     2\n",
       "hydrocortisone       Oral                           2\n",
       "dexamethasone        enteral                        2\n",
       "                     Intramuscular                  2\n",
       "triamcinolone        Intra-arterial                 2\n",
       "methylprednisolone   Oral                           1\n",
       "dexamethasone        Immerse (Soak) Body Part       1\n",
       "Name: PatientID, dtype: int64"
      ]
     },
     "execution_count": 214,
     "metadata": {},
     "output_type": "execute_result"
    }
   ],
   "source": [
    "(\n",
    "    med_admin_win\n",
    "    .query('DrugCategory == \"steroid\"')\n",
    "    .groupby(['CommonDrugName', 'Route'])['PatientID'].count()\n",
    "    .sort_values(ascending = False)\n",
    ")"
   ]
  },
  {
   "cell_type": "markdown",
   "id": "310fe6fc",
   "metadata": {},
   "source": [
    "**Clinically relevant so will create glucocorticoid indicator variable.** "
   ]
  },
  {
   "cell_type": "code",
   "execution_count": 215,
   "id": "82a1f7af",
   "metadata": {},
   "outputs": [
    {
     "data": {
      "text/plain": [
       "CommonDrugName       Route       \n",
       "dexamethasone        Intravenous     1142\n",
       "                     Oral             244\n",
       "prednisone           Oral             149\n",
       "methylprednisolone   Intravenous       94\n",
       "hydrocortisone       Intravenous       34\n",
       "dexamethasone        Intrajejunal       7\n",
       "methylprednisolone   enteral            6\n",
       "fludrocortisone      Oral               5\n",
       "Clinical study drug  Intravenous        3\n",
       "dexamethasone        enteral            2\n",
       "hydrocortisone       Oral               2\n",
       "methylprednisolone   Oral               1\n",
       "Name: PatientID, dtype: int64"
      ]
     },
     "execution_count": 215,
     "metadata": {},
     "output_type": "execute_result"
    }
   ],
   "source": [
    "(\n",
    "    med_admin_win\n",
    "    [(med_admin_win['DrugCategory'] == 'steroid') & \n",
    "     ((med_admin_win['Route'] == 'Intravenous') | \n",
    "     (med_admin_win['Route'] == 'Oral') | \n",
    "     (med_admin_win['Route'] == 'Intrajejunal') | \n",
    "     (med_admin_win['Route'] == 'Nasogastric') | \n",
    "     (med_admin_win['Route'] == 'enteral'))]\n",
    "    .groupby(['CommonDrugName', 'Route'])['PatientID'].count()\n",
    "    .sort_values(ascending = False)\n",
    ")"
   ]
  },
  {
   "cell_type": "code",
   "execution_count": 216,
   "id": "56ca63b1",
   "metadata": {},
   "outputs": [],
   "source": [
    "med_admin_win.loc[:, 'steroid_diag'] = (\n",
    "    np.where((med_admin_win['DrugCategory'] == 'steroid') & \n",
    "             ((med_admin_win['Route'] == 'Intravenous') | \n",
    "              (med_admin_win['Route'] == 'Oral') | \n",
    "              (med_admin_win['Route'] == 'Intrajejunal') |\n",
    "              (med_admin_win['Route'] == 'Nasogastric') |\n",
    "              (med_admin_win['Route'] == 'enteral')), 1, 0)\n",
    ")"
   ]
  },
  {
   "cell_type": "markdown",
   "id": "8a8dceec",
   "metadata": {},
   "source": [
    "#### Pain"
   ]
  },
  {
   "cell_type": "code",
   "execution_count": 217,
   "id": "d5995062",
   "metadata": {},
   "outputs": [
    {
     "data": {
      "text/plain": [
       "CommonDrugName             Route       \n",
       "oxycodone                  Oral            890\n",
       "acetaminophen              Oral            560\n",
       "gabapentin                 Oral            379\n",
       "hydromorphone              Intravenous     279\n",
       "morphine                   Intravenous     244\n",
       "lidocaine                  Transdermal     188\n",
       "acetaminophen/oxycodone    Oral            137\n",
       "tramadol                   Oral            113\n",
       "cyclobenzaprine            Oral             97\n",
       "lidocaine                  Intravenous      88\n",
       "hydromorphone              Oral             87\n",
       "morphine                   Oral             83\n",
       "lidocaine                  Urethral         58\n",
       "ketorolac                  Intravenous      56\n",
       "morphine                   Subcutaneous     48\n",
       "acetaminophen/hydrocodone  Oral             42\n",
       "fentanyl                   Intravenous      41\n",
       "ibuprofen                  Oral             41\n",
       "lidocaine                  Rectal           38\n",
       "                           Intradermal      37\n",
       "Name: PatientID, dtype: int64"
      ]
     },
     "execution_count": 217,
     "metadata": {},
     "output_type": "execute_result"
    }
   ],
   "source": [
    "(\n",
    "    med_admin_win\n",
    "    .query('DrugCategory == \"pain agent\"')\n",
    "    .groupby(['CommonDrugName', 'Route'])['PatientID'].count()\n",
    "    .sort_values(ascending=False)\n",
    "    .head(20)\n",
    ")"
   ]
  },
  {
   "cell_type": "markdown",
   "id": "8d9af006",
   "metadata": {},
   "source": [
    "**Three indicator variables from 'pain agent' category will be created:**\n",
    "- **opioid PO: patient recieved oral opioid (fentanyl patch included)**\n",
    "- **non-opioid PO: patient received non-opioid orally**\n",
    "- **pain IV: patient received pain medciation intravenously**"
   ]
  },
  {
   "cell_type": "markdown",
   "id": "0332aa76",
   "metadata": {},
   "source": [
    "##### Opioid PO"
   ]
  },
  {
   "cell_type": "code",
   "execution_count": 218,
   "id": "46799df2",
   "metadata": {},
   "outputs": [],
   "source": [
    "# List of avialable opioids in the US. \n",
    "opioid_list = [\n",
    "    'buprenorphine',\n",
    "    'codeine',\n",
    "    'fentanyl',\n",
    "    'hydrocodone',\n",
    "    'hydromorphone',\n",
    "    'methadone',\n",
    "    'morphine',\n",
    "    'oxycodone',\n",
    "    'oxymorphone',\n",
    "    'tapentadol',\n",
    "    'tramadol'\n",
    "]"
   ]
  },
  {
   "cell_type": "code",
   "execution_count": 219,
   "id": "70e386cb",
   "metadata": {},
   "outputs": [
    {
     "data": {
      "text/plain": [
       "CommonDrugName             Route      \n",
       "oxycodone                  Oral           890\n",
       "acetaminophen/oxycodone    Oral           137\n",
       "tramadol                   Oral           113\n",
       "hydromorphone              Oral            87\n",
       "morphine                   Oral            83\n",
       "acetaminophen/hydrocodone  Oral            42\n",
       "fentanyl                   Transdermal     23\n",
       "acetaminophen/codeine      Oral            14\n",
       "methadone                  Oral             8\n",
       "fentanyl                   Sublingual       2\n",
       "tapentadol                 Oral             1\n",
       "Name: PatientID, dtype: int64"
      ]
     },
     "execution_count": 219,
     "metadata": {},
     "output_type": "execute_result"
    }
   ],
   "source": [
    "(\n",
    "    med_admin_win\n",
    "    [((med_admin_win['Route'] == 'Oral') | \n",
    "      (med_admin_win['Route'] == 'Transdermal') | \n",
    "      (med_admin_win['Route'] == 'Sublingual')) &\n",
    "     (med_admin_win['CommonDrugName'].str.contains('|'.join(opioid_list)))]\n",
    "    .groupby(['CommonDrugName', 'Route'])['PatientID'].count()\n",
    "    .sort_values(ascending = False)\n",
    ")"
   ]
  },
  {
   "cell_type": "code",
   "execution_count": 220,
   "id": "a076880b",
   "metadata": {},
   "outputs": [],
   "source": [
    "med_admin_win.loc[:, 'opioid_PO_diag'] = (\n",
    "    np.where(((med_admin_win['Route'] == 'Oral') | \n",
    "              (med_admin_win['Route'] == 'Transdermal') | \n",
    "              (med_admin_win['Route'] == 'Sublingual')) &\n",
    "             (med_admin_win['CommonDrugName'].str.contains('|'.join(opioid_list))), 1, 0)\n",
    ")"
   ]
  },
  {
   "cell_type": "markdown",
   "id": "939e05fc",
   "metadata": {},
   "source": [
    "##### Nonopioid PO"
   ]
  },
  {
   "cell_type": "code",
   "execution_count": 221,
   "id": "1a4a2924",
   "metadata": {},
   "outputs": [
    {
     "data": {
      "text/plain": [
       "CommonDrugName      Route\n",
       "acetaminophen       Oral     560\n",
       "gabapentin          Oral     379\n",
       "cyclobenzaprine     Oral      97\n",
       "ibuprofen           Oral      41\n",
       "pregabalin          Oral      33\n",
       "clonidine           Oral      30\n",
       "naproxen            Oral      30\n",
       "celecoxib           Oral      13\n",
       "naloxegol           Oral      13\n",
       "baclofen            Oral      10\n",
       "benzocaine/menthol  Oral       7\n",
       "salicylates         Oral       6\n",
       "tizanidine          Oral       5\n",
       "sulfasalazine       Oral       3\n",
       "benzocaine          Oral       2\n",
       "lidocaine           Oral       2\n",
       "diclofenac          Oral       1\n",
       "alvimopan           Oral       1\n",
       "Name: PatientID, dtype: int64"
      ]
     },
     "execution_count": 221,
     "metadata": {},
     "output_type": "execute_result"
    }
   ],
   "source": [
    "(\n",
    "    med_admin_win\n",
    "    [(med_admin_win['DrugCategory'] == 'pain agent') & \n",
    "     (med_admin_win['Route'] == 'Oral') & \n",
    "     (~med_admin_win['CommonDrugName'].str.contains('|'.join(opioid_list)))]\n",
    "    .groupby(['CommonDrugName', 'Route'])['PatientID'].count()\n",
    "    .sort_values(ascending = False)\n",
    ")"
   ]
  },
  {
   "cell_type": "code",
   "execution_count": 222,
   "id": "ef9490d7",
   "metadata": {},
   "outputs": [],
   "source": [
    "med_admin_win.loc[:, 'nonopioid_PO_diag'] = (\n",
    "    np.where((med_admin_win['DrugCategory'] == 'pain agent') & \n",
    "             (med_admin_win['Route'] == 'Oral') & \n",
    "             (~med_admin_win['CommonDrugName'].str.contains('|'.join(opioid_list))), 1, 0)\n",
    ")"
   ]
  },
  {
   "cell_type": "markdown",
   "id": "e6df2797",
   "metadata": {},
   "source": [
    "##### Pain IV"
   ]
  },
  {
   "cell_type": "code",
   "execution_count": 223,
   "id": "07760f1e",
   "metadata": {},
   "outputs": [
    {
     "data": {
      "text/plain": [
       "CommonDrugName  Route      \n",
       "hydromorphone   Intravenous    279\n",
       "morphine        Intravenous    244\n",
       "lidocaine       Intravenous     88\n",
       "ketorolac       Intravenous     56\n",
       "fentanyl        Intravenous     41\n",
       "acetaminophen   Intravenous     33\n",
       "meperidine      Intravenous     10\n",
       "methadone       Intravenous      1\n",
       "Name: PatientID, dtype: int64"
      ]
     },
     "execution_count": 223,
     "metadata": {},
     "output_type": "execute_result"
    }
   ],
   "source": [
    "(\n",
    "    med_admin_win\n",
    "    [(med_admin_win['DrugCategory'] == 'pain agent') & (med_admin_win['Route'] == 'Intravenous')]\n",
    "    .groupby(['CommonDrugName', 'Route'])['PatientID'].count()\n",
    "    .sort_values(ascending = False)\n",
    "    .head(20)\n",
    ")"
   ]
  },
  {
   "cell_type": "code",
   "execution_count": 224,
   "id": "db27c411",
   "metadata": {},
   "outputs": [],
   "source": [
    "med_admin_win.loc[:, 'pain_IV_diag'] = (\n",
    "    np.where((med_admin_win['DrugCategory'] == 'pain agent') & \n",
    "             (med_admin_win['Route'] == 'Intravenous'), 1, 0)\n",
    ")"
   ]
  },
  {
   "cell_type": "markdown",
   "id": "bc189574",
   "metadata": {},
   "source": [
    "#### Hematologic agent"
   ]
  },
  {
   "cell_type": "code",
   "execution_count": 225,
   "id": "615c77d3",
   "metadata": {},
   "outputs": [
    {
     "data": {
      "text/plain": [
       "heparin (porcine)     863\n",
       "aspirin               444\n",
       "enoxaparin            380\n",
       "pegfilgrastim         350\n",
       "epoetin alfa          147\n",
       "apixaban              121\n",
       "dalteparin,porcine    101\n",
       "darbepoetin alfa       77\n",
       "filgrastim-sndz        63\n",
       "filgrastim             43\n",
       "warfarin               42\n",
       "clopidogrel            31\n",
       "pegfilgrastim-cbqv     29\n",
       "epoetin alfa-epbx      27\n",
       "rivaroxaban            25\n",
       "pegfilgrastim-bmez     19\n",
       "anagrelide             18\n",
       "albumin human          14\n",
       "ticagrelor             13\n",
       "pegfilgrastim-jmdb     12\n",
       "Name: CommonDrugName, dtype: int64"
      ]
     },
     "execution_count": 225,
     "metadata": {},
     "output_type": "execute_result"
    }
   ],
   "source": [
    "(\n",
    "    med_admin_win\n",
    "    [med_admin_win['DrugCategory'] == 'hematological agent']\n",
    "    .CommonDrugName\n",
    "    .value_counts()\n",
    "    .head(20)\n",
    ")"
   ]
  },
  {
   "cell_type": "markdown",
   "id": "cae21362",
   "metadata": {},
   "source": [
    "**A therapeutic anticoagulation indicator variable will be created from the hematological agent category and will consist of:** \n",
    "* **Heparin: patients on a heparin gtt or other pareneral agents (eg., bivilrudin or argatroban)**\n",
    "* **Enoxaparin: patients administered greater than prophylactic dosing of enoxaparin or other subcutaneous agents (eg., dalteparin or fondaparinux)**\n",
    "* **DOAC: patients administered any dose of apxiaban, rivaroxabn, edoxaban, or dabigatran**\n",
    "* **Warfarin: patients administered any dose of warfarin.**  "
   ]
  },
  {
   "cell_type": "markdown",
   "id": "5784e57b",
   "metadata": {},
   "source": [
    "##### Heparin and other parenteral agents"
   ]
  },
  {
   "cell_type": "code",
   "execution_count": 226,
   "id": "f1370fe2",
   "metadata": {},
   "outputs": [
    {
     "data": {
      "text/plain": [
       "5000.000     0.711885\n",
       "500.000      0.033613\n",
       "12.000       0.026411\n",
       "15.000       0.024010\n",
       "18.000       0.019208\n",
       "17.000       0.016807\n",
       "10.000       0.016807\n",
       "30.000       0.013205\n",
       "14.000       0.010804\n",
       "5.000        0.009604\n",
       "19.000       0.008403\n",
       "24.000       0.007203\n",
       "8.000        0.006002\n",
       "4.000        0.006002\n",
       "2000.000     0.004802\n",
       "4000.000     0.004802\n",
       "2700.000     0.003601\n",
       "10.068       0.003601\n",
       "20.000       0.003601\n",
       "20000.000    0.003601\n",
       "Name: AdministeredAmount, dtype: float64"
      ]
     },
     "execution_count": 226,
     "metadata": {},
     "output_type": "execute_result"
    }
   ],
   "source": [
    "(\n",
    "    med_admin_win\n",
    "    [med_admin_win['CommonDrugName'].str.contains('heparin')]\n",
    "    .AdministeredAmount\n",
    "    .value_counts(normalize = True)\n",
    "    .head(20)\n",
    ")"
   ]
  },
  {
   "cell_type": "markdown",
   "id": "a5a0fcb3",
   "metadata": {},
   "source": [
    "**About 75% of administered doses of heparin are either 5000 or 500 units, likely reflecting prophylacitc dosing and catheter lock therapy, respectively. Doses in the teens likely indicate heparin gtt doses.** "
   ]
  },
  {
   "cell_type": "code",
   "execution_count": 227,
   "id": "704798f1",
   "metadata": {},
   "outputs": [
    {
     "data": {
      "text/plain": [
       "Subcutaneous    0.988196\n",
       "Intravenous     0.011804\n",
       "Name: Route, dtype: float64"
      ]
     },
     "execution_count": 227,
     "metadata": {},
     "output_type": "execute_result"
    }
   ],
   "source": [
    "(\n",
    "    med_admin_win\n",
    "    [(med_admin_win['CommonDrugName'].str.contains('heparin')) & (med_admin_win['AdministeredAmount'] == 5000)]\n",
    "    .Route\n",
    "    .value_counts(normalize = True)\n",
    ")"
   ]
  },
  {
   "cell_type": "code",
   "execution_count": 228,
   "id": "d1ed3f63",
   "metadata": {},
   "outputs": [
    {
     "data": {
      "text/plain": [
       "Intravenous     0.777778\n",
       "Intrajejunal    0.222222\n",
       "Name: Route, dtype: float64"
      ]
     },
     "execution_count": 228,
     "metadata": {},
     "output_type": "execute_result"
    }
   ],
   "source": [
    "(\n",
    "    med_admin_win\n",
    "    [(med_admin_win['CommonDrugName'].str.contains('heparin')) & (med_admin_win['AdministeredAmount'] == 500)]\n",
    "    .Route\n",
    "    .value_counts(normalize = True)\n",
    ")"
   ]
  },
  {
   "cell_type": "code",
   "execution_count": 229,
   "id": "9cb05977",
   "metadata": {},
   "outputs": [
    {
     "data": {
      "text/plain": [
       "12.0    0.177419\n",
       "15.0    0.161290\n",
       "18.0    0.129032\n",
       "17.0    0.112903\n",
       "14.0    0.072581\n",
       "10.0    0.072581\n",
       "19.0    0.056452\n",
       "24.0    0.048387\n",
       "8.0     0.040323\n",
       "20.0    0.024194\n",
       "Name: AdministeredAmount, dtype: float64"
      ]
     },
     "execution_count": 229,
     "metadata": {},
     "output_type": "execute_result"
    }
   ],
   "source": [
    "(\n",
    "    med_admin_win\n",
    "    [(med_admin_win['CommonDrugName'].str.contains('heparin')) & (med_admin_win['AdministeredUnits'] == 'unit/kg/hr')]\n",
    "    .AdministeredAmount\n",
    "    .value_counts(normalize = True)\n",
    "    .head(10)\n",
    ")"
   ]
  },
  {
   "cell_type": "code",
   "execution_count": 230,
   "id": "a57daff9",
   "metadata": {},
   "outputs": [
    {
     "data": {
      "text/plain": [
       "CommonDrugName     AdministeredUnits\n",
       "heparin (porcine)  unit/kg/hr           126\n",
       "bivalirudin        mg/kg/hr               6\n",
       "Name: PatientID, dtype: int64"
      ]
     },
     "execution_count": 230,
     "metadata": {},
     "output_type": "execute_result"
    }
   ],
   "source": [
    "# Total number of instances of a patient receiving heparin, bivalrudin, or argatroban drip\n",
    "(\n",
    "    med_admin_win\n",
    "    [((med_admin_win['CommonDrugName'].str.contains('heparin')) & \n",
    "      (med_admin_win['AdministeredUnits'] == 'unit/kg/hr')) | \n",
    "     (med_admin_win['CommonDrugName'].str.contains('bivalirudin')) | \n",
    "     (med_admin_win['CommonDrugName'].str.contains('argatroban'))]\n",
    "    .groupby(['CommonDrugName', 'AdministeredUnits'])['PatientID'].count()\n",
    "    .sort_values(ascending = False)\n",
    " )"
   ]
  },
  {
   "cell_type": "code",
   "execution_count": 231,
   "id": "a8027c2a",
   "metadata": {},
   "outputs": [],
   "source": [
    "med_admin_win.loc[:, 'heparin_diag'] = (\n",
    "    np.where(((med_admin_win['CommonDrugName'].str.contains('heparin')) & \n",
    "              (med_admin_win['AdministeredUnits'] == 'unit/kg/hr')) | \n",
    "             (med_admin_win['CommonDrugName'].str.contains('bivalirudin')) | \n",
    "             (med_admin_win['CommonDrugName'].str.contains('argatroban')), 1, 0)\n",
    ")"
   ]
  },
  {
   "cell_type": "markdown",
   "id": "af71b9bf",
   "metadata": {},
   "source": [
    "###### Enoxaparin and other subcutaneous agents "
   ]
  },
  {
   "cell_type": "code",
   "execution_count": 232,
   "id": "0ea35296",
   "metadata": {},
   "outputs": [
    {
     "data": {
      "text/plain": [
       "40.0     0.804290\n",
       "30.0     0.126005\n",
       "80.0     0.021448\n",
       "70.0     0.018767\n",
       "60.0     0.013405\n",
       "100.0    0.008043\n",
       "120.0    0.005362\n",
       "150.0    0.002681\n",
       "Name: AdministeredAmount, dtype: float64"
      ]
     },
     "execution_count": 232,
     "metadata": {},
     "output_type": "execute_result"
    }
   ],
   "source": [
    "(\n",
    "    med_admin_win\n",
    "    [med_admin_win['CommonDrugName'].str.contains('enoxaparin')]\n",
    "    .AdministeredAmount\n",
    "    .value_counts(normalize = True)\n",
    "    .head(10)\n",
    ")"
   ]
  },
  {
   "cell_type": "markdown",
   "id": "0e30ab6d",
   "metadata": {},
   "source": [
    "**Doses of 40 or 30 likley reflect prophylactic VTE dosing and are less clinically relevant than higher doses.** "
   ]
  },
  {
   "cell_type": "code",
   "execution_count": 233,
   "id": "d94c4642",
   "metadata": {},
   "outputs": [
    {
     "data": {
      "text/plain": [
       "12500.0    0.920792\n",
       "5000.0     0.059406\n",
       "18000.0    0.019802\n",
       "Name: AdministeredAmount, dtype: float64"
      ]
     },
     "execution_count": 233,
     "metadata": {},
     "output_type": "execute_result"
    }
   ],
   "source": [
    "(\n",
    "    med_admin_win\n",
    "    [med_admin_win['CommonDrugName'].str.contains('dalteparin')]\n",
    "    .AdministeredAmount\n",
    "    .value_counts(normalize = True)\n",
    "    .head(10)\n",
    ")"
   ]
  },
  {
   "cell_type": "markdown",
   "id": "1c55550e",
   "metadata": {},
   "source": [
    "**Dose of 5,000 or less likley reflects prophylactic VTE dosing and is less clinically relevant than higher doses.** "
   ]
  },
  {
   "cell_type": "code",
   "execution_count": 234,
   "id": "b9cf26b0",
   "metadata": {},
   "outputs": [
    {
     "data": {
      "text/plain": [
       "Series([], Name: AdministeredAmount, dtype: float64)"
      ]
     },
     "execution_count": 234,
     "metadata": {},
     "output_type": "execute_result"
    }
   ],
   "source": [
    "(\n",
    "    med_admin_win\n",
    "    [med_admin_win['CommonDrugName'].str.contains('fondaparinux')]\n",
    "    .AdministeredAmount\n",
    "    .value_counts(normalize = True)\n",
    ")"
   ]
  },
  {
   "cell_type": "markdown",
   "id": "77a23e8c",
   "metadata": {},
   "source": [
    "**Dose of 2.5 likley reflects prophylactic VTE dosing and is less clinically relevant than higher doses.** "
   ]
  },
  {
   "cell_type": "code",
   "execution_count": 235,
   "id": "0bbccde7",
   "metadata": {},
   "outputs": [
    {
     "data": {
      "text/plain": [
       "CommonDrugName      AdministeredAmount\n",
       "dalteparin,porcine  12500.0               93\n",
       "enoxaparin          80.0                   8\n",
       "                    70.0                   7\n",
       "                    60.0                   5\n",
       "                    100.0                  3\n",
       "dalteparin,porcine  18000.0                2\n",
       "enoxaparin          120.0                  2\n",
       "                    150.0                  1\n",
       "Name: PatientID, dtype: int64"
      ]
     },
     "execution_count": 235,
     "metadata": {},
     "output_type": "execute_result"
    }
   ],
   "source": [
    "(\n",
    "    med_admin_win\n",
    "    [((med_admin_win['CommonDrugName'].str.contains('enoxaparin')) & \n",
    "      (med_admin_win['AdministeredAmount'] > 40)) | \n",
    "     ((med_admin_win['CommonDrugName'].str.contains('dalteparin')) & \n",
    "      (med_admin_win['AdministeredAmount'] > 5000)) | \n",
    "     ((med_admin_win['CommonDrugName'].str.contains('fondaparinux')) & \n",
    "      (med_admin_win['AdministeredAmount'] > 2.5))]\n",
    "    .groupby(['CommonDrugName', 'AdministeredAmount'])['PatientID'].count()\n",
    "    .sort_values(ascending = False)\n",
    "    .head(20)\n",
    ")"
   ]
  },
  {
   "cell_type": "code",
   "execution_count": 236,
   "id": "9119fbd0",
   "metadata": {},
   "outputs": [],
   "source": [
    "med_admin_win.loc[:, 'enoxaparin_diag'] = (\n",
    "    np.where(((med_admin_win['CommonDrugName'].str.contains('enoxaparin')) & \n",
    "              (med_admin_win['AdministeredAmount'] > 40)) | \n",
    "             ((med_admin_win['CommonDrugName'].str.contains('dalteparin')) & \n",
    "              (med_admin_win['AdministeredAmount'] > 5000)) | \n",
    "             ((med_admin_win['CommonDrugName'].str.contains('fondaparinux')) & \n",
    "              (med_admin_win['AdministeredAmount'] > 2.5)), 1, 0)\n",
    ")"
   ]
  },
  {
   "cell_type": "markdown",
   "id": "a4dbfffd",
   "metadata": {},
   "source": [
    "##### DOAC"
   ]
  },
  {
   "cell_type": "code",
   "execution_count": 237,
   "id": "d3e39508",
   "metadata": {},
   "outputs": [
    {
     "data": {
      "text/plain": [
       "apixaban                121\n",
       "rivaroxaban              25\n",
       "dabigatran etexilate      8\n",
       "Name: CommonDrugName, dtype: int64"
      ]
     },
     "execution_count": 237,
     "metadata": {},
     "output_type": "execute_result"
    }
   ],
   "source": [
    "(\n",
    "    med_admin_win\n",
    "    [(med_admin_win['CommonDrugName'].str.contains('apixaban')) | \n",
    "     (med_admin_win['CommonDrugName'].str.contains('rivaroxaban')) | \n",
    "     (med_admin_win['CommonDrugName'].str.contains('dabigatran')) | \n",
    "     (med_admin_win['CommonDrugName'].str.contains('edoxaban'))]\n",
    "    .CommonDrugName\n",
    "    .value_counts()\n",
    ")"
   ]
  },
  {
   "cell_type": "code",
   "execution_count": 238,
   "id": "6de3d39c",
   "metadata": {},
   "outputs": [],
   "source": [
    "med_admin_win.loc[:, 'doac_diag'] = (\n",
    "    np.where((med_admin_win['CommonDrugName'].str.contains('apixaban')) | \n",
    "             (med_admin_win['CommonDrugName'].str.contains('rivaroxaban')) | \n",
    "             (med_admin_win['CommonDrugName'].str.contains('dabigatran')) | \n",
    "             (med_admin_win['CommonDrugName'].str.contains('edoxaban')), 1, 0)\n",
    ")"
   ]
  },
  {
   "cell_type": "markdown",
   "id": "28b0cd81",
   "metadata": {},
   "source": [
    "##### Warfarin"
   ]
  },
  {
   "cell_type": "code",
   "execution_count": 239,
   "id": "09c67ec0",
   "metadata": {},
   "outputs": [
    {
     "data": {
      "text/plain": [
       "5.0     17\n",
       "2.5      8\n",
       "1.0      4\n",
       "3.0      3\n",
       "6.0      3\n",
       "2.0      2\n",
       "0.5      1\n",
       "1.5      1\n",
       "4.0      1\n",
       "10.0     1\n",
       "Name: AdministeredAmount, dtype: int64"
      ]
     },
     "execution_count": 239,
     "metadata": {},
     "output_type": "execute_result"
    }
   ],
   "source": [
    "(\n",
    "    med_admin_win\n",
    "    [(med_admin_win['CommonDrugName'].str.contains('warfarin'))]\n",
    "    .AdministeredAmount\n",
    "    .value_counts()\n",
    ")"
   ]
  },
  {
   "cell_type": "code",
   "execution_count": 240,
   "id": "5f32f12c",
   "metadata": {},
   "outputs": [],
   "source": [
    "med_admin_win.loc[:, 'warfarin_diag'] = np.where((med_admin_win['CommonDrugName'].str.contains('warfarin')), 1, 0)"
   ]
  },
  {
   "cell_type": "markdown",
   "id": "b26306a1",
   "metadata": {},
   "source": [
    "##### Anticoagulation merge "
   ]
  },
  {
   "cell_type": "code",
   "execution_count": 241,
   "id": "5caa27f5",
   "metadata": {},
   "outputs": [],
   "source": [
    "# Combine heparin, enoxparin, DOAC, and warfarin columns into a single anticoagulation indicator variable. \n",
    "med_admin_win['ac_diag'] = (\n",
    "    med_admin_win['heparin_diag'] + med_admin_win['enoxaparin_diag'] + med_admin_win['doac_diag'] + med_admin_win['warfarin_diag']\n",
    ")"
   ]
  },
  {
   "cell_type": "code",
   "execution_count": 242,
   "id": "98a1315c",
   "metadata": {},
   "outputs": [],
   "source": [
    "# Drop heparin, enoxaparin, DOAC, and warfarin columns. \n",
    "med_admin_win = med_admin_win.drop(columns = ['heparin_diag', 'enoxaparin_diag', 'doac_diag', 'warfarin_diag'])"
   ]
  },
  {
   "cell_type": "markdown",
   "id": "612018d7",
   "metadata": {},
   "source": [
    "##### DAPT"
   ]
  },
  {
   "cell_type": "code",
   "execution_count": 243,
   "id": "2920b698",
   "metadata": {},
   "outputs": [
    {
     "data": {
      "text/plain": [
       "dapt    9\n",
       "dtype: int64"
      ]
     },
     "execution_count": 243,
     "metadata": {},
     "output_type": "execute_result"
    }
   ],
   "source": [
    "# Create dataframe containing patients who received aspirin or clopidogrel. \n",
    "(\n",
    "    med_admin_win\n",
    "    [(med_admin_win['CommonDrugName'].str.contains('aspirin')) | \n",
    "     (med_admin_win['CommonDrugName'].str.contains('clopidogrel')) | \n",
    "     (med_admin_win['CommonDrugName'].str.contains('ticagrelor')) | \n",
    "     (med_admin_win['CommonDrugName'].str.contains('prasugrel'))]\n",
    "    .drop_duplicates(subset = ['PatientID', 'CommonDrugName'], keep = 'first')\n",
    "    .groupby('PatientID')['PatientID'].count()\n",
    "    .to_frame(name = 'dapt')\n",
    "    .query('dapt == 2')\n",
    "    .count()\n",
    ")"
   ]
  },
  {
   "cell_type": "markdown",
   "id": "42215e5d",
   "metadata": {},
   "source": [
    "**Considering such a small number of patients are receiving DAPT, no variable created.** "
   ]
  },
  {
   "cell_type": "markdown",
   "id": "33e91278",
   "metadata": {},
   "source": [
    "##### GCSF"
   ]
  },
  {
   "cell_type": "code",
   "execution_count": 244,
   "id": "a27106f9",
   "metadata": {},
   "outputs": [
    {
     "data": {
      "text/plain": [
       "pegfilgrastim         350\n",
       "filgrastim-sndz        63\n",
       "filgrastim             43\n",
       "pegfilgrastim-cbqv     29\n",
       "pegfilgrastim-bmez     19\n",
       "pegfilgrastim-jmdb     12\n",
       "pegfilgrastim-apgf      6\n",
       "Name: CommonDrugName, dtype: int64"
      ]
     },
     "execution_count": 244,
     "metadata": {},
     "output_type": "execute_result"
    }
   ],
   "source": [
    "(\n",
    "    med_admin_win\n",
    "    [med_admin_win['CommonDrugName'].str.contains('filgrastim')]\n",
    "    .CommonDrugName\n",
    "    .value_counts()\n",
    ")"
   ]
  },
  {
   "cell_type": "markdown",
   "id": "81b064bf",
   "metadata": {},
   "source": [
    "##### Epoetin"
   ]
  },
  {
   "cell_type": "code",
   "execution_count": 245,
   "id": "bcf67332",
   "metadata": {},
   "outputs": [
    {
     "data": {
      "text/plain": [
       "epoetin alfa         147\n",
       "darbepoetin alfa      77\n",
       "epoetin alfa-epbx     27\n",
       "Name: CommonDrugName, dtype: int64"
      ]
     },
     "execution_count": 245,
     "metadata": {},
     "output_type": "execute_result"
    }
   ],
   "source": [
    "(\n",
    "    med_admin_win\n",
    "    [med_admin_win['CommonDrugName'].str.contains('epoetin')]\n",
    "    .CommonDrugName\n",
    "    .value_counts()\n",
    ")"
   ]
  },
  {
   "cell_type": "markdown",
   "id": "e2755fa2",
   "metadata": {},
   "source": [
    "**Both GCSF and epotein might reflect chemotherapy toxicity and so will not be coded.** "
   ]
  },
  {
   "cell_type": "markdown",
   "id": "aeb3297e",
   "metadata": {},
   "source": [
    "##### tPA"
   ]
  },
  {
   "cell_type": "code",
   "execution_count": 246,
   "id": "05d2fe62",
   "metadata": {},
   "outputs": [
    {
     "data": {
      "text/plain": [
       "AdministeredAmount  Route              \n",
       "2.0                 Intravenous            3\n",
       "                    Other/Miscellaneous    1\n",
       "Name: PatientID, dtype: int64"
      ]
     },
     "execution_count": 246,
     "metadata": {},
     "output_type": "execute_result"
    }
   ],
   "source": [
    "(\n",
    "    med_admin_win\n",
    "    [med_admin_win['CommonDrugName'].str.contains('alteplase')]\n",
    "    .groupby(['AdministeredAmount', 'Route'])['PatientID'].count()\n",
    "    .sort_values (ascending = False)\n",
    ")"
   ]
  },
  {
   "cell_type": "markdown",
   "id": "372f108c",
   "metadata": {},
   "source": [
    "**No indicator variable created since doses received are for catheter clearance rather than for acute ischemic stroke or pulmonary embolism.** "
   ]
  },
  {
   "cell_type": "markdown",
   "id": "3d3a38b8",
   "metadata": {},
   "source": [
    "#### Anti-infective "
   ]
  },
  {
   "cell_type": "code",
   "execution_count": 247,
   "id": "ea51a8c9",
   "metadata": {},
   "outputs": [
    {
     "data": {
      "text/plain": [
       "CommonDrugName                                 Route      \n",
       "ceftriaxone                                    Intravenous    280\n",
       "cefazolin                                      Intravenous    165\n",
       "vancomycin                                     Intravenous    160\n",
       "piperacillin/tazobactam                        Intravenous     98\n",
       "nystatin                                       Topical         86\n",
       "ciprofloxacin                                  Oral            79\n",
       "cefepime                                       Intravenous     76\n",
       "amoxicillin/clavulanic acid                    Oral            65\n",
       "doxycycline                                    Oral            63\n",
       "metronidazole                                  Intravenous     39\n",
       "ertapenem                                      Intravenous     37\n",
       "dextrose, iso-osmotic/piperacillin/tazobactam  Intravenous     36\n",
       "meropenem                                      Intravenous     36\n",
       "metronidazole                                  Oral            35\n",
       "nystatin                                       Oral            34\n",
       "sulfamethoxazole/trimethoprim                  Oral            33\n",
       "ampicillin/sulbactam                           Intravenous     32\n",
       "ciprofloxacin                                  Intravenous     27\n",
       "ceftazidime                                    Intravenous     25\n",
       "bacitracin                                     Topical         23\n",
       "Name: PatientID, dtype: int64"
      ]
     },
     "execution_count": 247,
     "metadata": {},
     "output_type": "execute_result"
    }
   ],
   "source": [
    "(\n",
    "    med_admin_win\n",
    "    [(med_admin_win['DrugCategory'] == 'anti-infective')] \n",
    "    .groupby(['CommonDrugName', 'Route'])['PatientID'].count()\n",
    "    .sort_values(ascending = False)\n",
    "    .head(20)\n",
    ")"
   ]
  },
  {
   "cell_type": "markdown",
   "id": "491c2988",
   "metadata": {},
   "source": [
    "**Clinically relevant; two separate indicator variables from the anti-infective drug category will be created:** \n",
    "* **antiinfective IV group** \n",
    "* **antiinfective PO group**"
   ]
  },
  {
   "cell_type": "markdown",
   "id": "4439cd64",
   "metadata": {},
   "source": [
    "##### Anti-infective IV"
   ]
  },
  {
   "cell_type": "code",
   "execution_count": 248,
   "id": "e0d308be",
   "metadata": {},
   "outputs": [
    {
     "data": {
      "text/plain": [
       "ceftriaxone                                      0.247569\n",
       "cefazolin                                        0.145889\n",
       "vancomycin                                       0.141468\n",
       "piperacillin/tazobactam                          0.086649\n",
       "cefepime                                         0.067197\n",
       "metronidazole                                    0.034483\n",
       "ertapenem                                        0.032714\n",
       "meropenem                                        0.031830\n",
       "dextrose, iso-osmotic/piperacillin/tazobactam    0.031830\n",
       "ampicillin/sulbactam                             0.028294\n",
       "ciprofloxacin                                    0.023873\n",
       "ceftazidime                                      0.022104\n",
       "gentamicin                                       0.016799\n",
       "azithromycin                                     0.016799\n",
       "clindamycin                                      0.015031\n",
       "fluconazole                                      0.012378\n",
       "levofloxacin                                     0.009726\n",
       "cefoxitin                                        0.007958\n",
       "ampicillin                                       0.007073\n",
       "aztreonam                                        0.005305\n",
       "Name: CommonDrugName, dtype: float64"
      ]
     },
     "execution_count": 248,
     "metadata": {},
     "output_type": "execute_result"
    }
   ],
   "source": [
    "(\n",
    "    med_admin_win\n",
    "    [(med_admin_win['DrugCategory'] == 'anti-infective') & \n",
    "     (med_admin_win['Route'] == 'Intravenous')]\n",
    "    .CommonDrugName\n",
    "    .value_counts(normalize = True)\n",
    "    .head(20)\n",
    ")"
   ]
  },
  {
   "cell_type": "markdown",
   "id": "10e7f83e",
   "metadata": {},
   "source": [
    "**This group consists mainly of antibacterials. Antifungals and antivirals are also included.** "
   ]
  },
  {
   "cell_type": "code",
   "execution_count": 249,
   "id": "047b057f",
   "metadata": {},
   "outputs": [],
   "source": [
    "med_admin_win.loc[:, 'antiinfective_IV_diag'] = (\n",
    "    np.where((med_admin_win['DrugCategory'] == 'anti-infective') & \n",
    "             (med_admin_win['Route'] == 'Intravenous'), 1, 0)\n",
    ")"
   ]
  },
  {
   "cell_type": "markdown",
   "id": "bd4a696f",
   "metadata": {},
   "source": [
    "##### Anti-infective PO"
   ]
  },
  {
   "cell_type": "code",
   "execution_count": 250,
   "id": "e2534a30",
   "metadata": {},
   "outputs": [
    {
     "data": {
      "text/plain": [
       "CommonDrugName                 Route\n",
       "ciprofloxacin                  Oral     79\n",
       "amoxicillin/clavulanic acid    Oral     65\n",
       "doxycycline                    Oral     63\n",
       "metronidazole                  Oral     35\n",
       "nystatin                       Oral     34\n",
       "sulfamethoxazole/trimethoprim  Oral     33\n",
       "fluconazole                    Oral     22\n",
       "cefuroxime                     Oral     22\n",
       "levofloxacin                   Oral     19\n",
       "vancomycin                     Oral     18\n",
       "cephalexin                     Oral     17\n",
       "rifaximin                      Oral     11\n",
       "bictegravir                    Oral      8\n",
       "clindamycin                    Oral      6\n",
       "oseltamivir                    Oral      6\n",
       "azithromycin                   Oral      5\n",
       "moxifloxacin                   Oral      3\n",
       "atovaquone                     Oral      3\n",
       "famciclovir                    Oral      2\n",
       "ketoconazole                   Oral      2\n",
       "Name: PatientID, dtype: int64"
      ]
     },
     "execution_count": 250,
     "metadata": {},
     "output_type": "execute_result"
    }
   ],
   "source": [
    "(\n",
    "    med_admin_win\n",
    "    [(med_admin_win['DrugCategory'] == 'anti-infective') & \n",
    "     (med_admin_win['Route'] == 'Oral')]\n",
    "    .groupby(['CommonDrugName', 'Route'])['PatientID'].count()\n",
    "    .sort_values(ascending = False)\n",
    "    .head(20)\n",
    ")"
   ]
  },
  {
   "cell_type": "code",
   "execution_count": 251,
   "id": "7cfa09e9",
   "metadata": {},
   "outputs": [],
   "source": [
    "med_admin_win.loc[:, 'antiinfective_diag'] = (\n",
    "    np.where((med_admin_win['DrugCategory'] == 'anti-infective') & \n",
    "             (med_admin_win['Route'] == 'Oral'), 1, 0)\n",
    ")"
   ]
  },
  {
   "cell_type": "markdown",
   "id": "9e4a241b",
   "metadata": {},
   "source": [
    "#### Anesthetic"
   ]
  },
  {
   "cell_type": "code",
   "execution_count": 252,
   "id": "7a45a8a4",
   "metadata": {},
   "outputs": [
    {
     "data": {
      "text/plain": [
       "CommonDrugName  Route      \n",
       "fentanyl        Intravenous    564\n",
       "propofol        Intravenous    459\n",
       "midazolam       Intravenous    294\n",
       "remifentanil    Intravenous     50\n",
       "ketamine        Intravenous     30\n",
       "sufentanil      Intravenous     10\n",
       "etomidate       Intravenous      3\n",
       "Name: PatientID, dtype: int64"
      ]
     },
     "execution_count": 252,
     "metadata": {},
     "output_type": "execute_result"
    }
   ],
   "source": [
    "(\n",
    "    med_admin_win\n",
    "    .query('DrugCategory == \"anesthetic\"')\n",
    "    .groupby(['CommonDrugName', 'Route'])['PatientID'].count()\n",
    "    .sort_values(ascending = False)\n",
    ")"
   ]
  },
  {
   "cell_type": "markdown",
   "id": "94796c1a",
   "metadata": {},
   "source": [
    "**Most likely capturing patients undergoing biopsy or procedure related to new metastatic diagnosis. Unclear prognostic value so no indicator variable created.** "
   ]
  },
  {
   "cell_type": "markdown",
   "id": "e12555e5",
   "metadata": {},
   "source": [
    "#### Cytoprotective"
   ]
  },
  {
   "cell_type": "code",
   "execution_count": 253,
   "id": "5e7d7048",
   "metadata": {},
   "outputs": [
    {
     "data": {
      "text/plain": [
       "CommonDrugName            Route        \n",
       "folic acid                Oral             336\n",
       "vitamin b12 preparations  Intramuscular    234\n",
       "                          Oral             200\n",
       "                          Subcutaneous      56\n",
       "folic acid                Intravenous       10\n",
       "vitamin b12 preparations  enteral            7\n",
       "                          Intrajejunal       6\n",
       "folic acid                enteral            3\n",
       "urate oxidase             Intravenous        2\n",
       "Name: PatientID, dtype: int64"
      ]
     },
     "execution_count": 253,
     "metadata": {},
     "output_type": "execute_result"
    }
   ],
   "source": [
    "(\n",
    "    med_admin_win\n",
    "    .query('DrugCategory == \"cytoprotective\"')\n",
    "    .groupby(['CommonDrugName', 'Route'])['PatientID'].count()\n",
    "    .sort_values(ascending = False)\n",
    ")"
   ]
  },
  {
   "cell_type": "markdown",
   "id": "e2101122",
   "metadata": {},
   "source": [
    "#### Antihyperglycemic"
   ]
  },
  {
   "cell_type": "code",
   "execution_count": 254,
   "id": "ba6ef449",
   "metadata": {},
   "outputs": [
    {
     "data": {
      "text/plain": [
       "insulin lispro                  0.565705\n",
       "insulin glargine                0.134615\n",
       "insulin regular                 0.107372\n",
       "metformin                       0.064103\n",
       "insulin isophane (nph)          0.059295\n",
       "repaglinide                     0.017628\n",
       "insulin aspart                  0.012821\n",
       "sitagliptin                     0.012821\n",
       "insulin degludec/liraglutide    0.008013\n",
       "glimepiride                     0.006410\n",
       "dapagliflozin                   0.006410\n",
       "insulin detemir                 0.004808\n",
       "Name: CommonDrugName, dtype: float64"
      ]
     },
     "execution_count": 254,
     "metadata": {},
     "output_type": "execute_result"
    }
   ],
   "source": [
    "(\n",
    "    med_admin_win\n",
    "    .query('DrugCategory == \"antihyperglycemic\"')\n",
    "    .CommonDrugName\n",
    "    .value_counts(normalize = True)\n",
    ")"
   ]
  },
  {
   "cell_type": "code",
   "execution_count": 255,
   "id": "513fd1fe",
   "metadata": {},
   "outputs": [],
   "source": [
    "med_admin_win.loc[:, 'antihyperglycemic_diag'] = np.where(med_admin_win['DrugCategory'] == 'antihyperglycemic', 1, 0)"
   ]
  },
  {
   "cell_type": "markdown",
   "id": "4f238432",
   "metadata": {},
   "source": [
    "#### Proton pump inhibitor"
   ]
  },
  {
   "cell_type": "code",
   "execution_count": 256,
   "id": "96d45731",
   "metadata": {},
   "outputs": [
    {
     "data": {
      "text/plain": [
       "CommonDrugName  Route      \n",
       "pantoprazole    Oral           373\n",
       "lansoprazole    Oral           137\n",
       "pantoprazole    Intravenous    136\n",
       "omeprazole      Oral           101\n",
       "lansoprazole    enteral          1\n",
       "Name: PatientID, dtype: int64"
      ]
     },
     "execution_count": 256,
     "metadata": {},
     "output_type": "execute_result"
    }
   ],
   "source": [
    "(\n",
    "    med_admin_win\n",
    "    .query('DrugCategory == \"proton pump inhibitor\"')\n",
    "    .groupby(['CommonDrugName', 'Route'])['PatientID'].count()\n",
    "    .sort_values(ascending = False)\n",
    ")"
   ]
  },
  {
   "cell_type": "code",
   "execution_count": 257,
   "id": "178e8507",
   "metadata": {},
   "outputs": [],
   "source": [
    "med_admin_win.loc[:, 'ppi_diag'] = np.where(med_admin_win['DrugCategory'] == 'proton pump inhibitor', 1, 0)"
   ]
  },
  {
   "cell_type": "markdown",
   "id": "22b2c928",
   "metadata": {},
   "source": [
    "#### Antidepressant"
   ]
  },
  {
   "cell_type": "code",
   "execution_count": 258,
   "id": "3c3c285a",
   "metadata": {},
   "outputs": [
    {
     "data": {
      "text/plain": [
       "escitalopram     156\n",
       "mirtazapine      100\n",
       "trazodone         83\n",
       "bupropion         62\n",
       "duloxetine        54\n",
       "sertraline        28\n",
       "citalopram        25\n",
       "amitriptyline     21\n",
       "paroxetine         8\n",
       "fluoxetine         6\n",
       "venlafaxine        3\n",
       "doxepin            1\n",
       "Name: CommonDrugName, dtype: int64"
      ]
     },
     "execution_count": 258,
     "metadata": {},
     "output_type": "execute_result"
    }
   ],
   "source": [
    "(\n",
    "    med_admin_win\n",
    "    .query('DrugCategory == \"antidepressant\"')\n",
    "    .CommonDrugName\n",
    "    .value_counts()\n",
    ")"
   ]
  },
  {
   "cell_type": "code",
   "execution_count": 259,
   "id": "9d66a95b",
   "metadata": {},
   "outputs": [],
   "source": [
    "med_admin_win.loc[:, 'antidepressant_diag'] = np.where(med_admin_win['DrugCategory'] == 'antidepressant', 1, 0)"
   ]
  },
  {
   "cell_type": "markdown",
   "id": "ad915471",
   "metadata": {},
   "source": [
    "#### Bone therapy agent"
   ]
  },
  {
   "cell_type": "code",
   "execution_count": 260,
   "id": "cbd2076b",
   "metadata": {},
   "outputs": [
    {
     "data": {
      "text/plain": [
       "denosumab          1174\n",
       "zoledronic acid     596\n",
       "pamidronic acid       9\n",
       "Name: CommonDrugName, dtype: int64"
      ]
     },
     "execution_count": 260,
     "metadata": {},
     "output_type": "execute_result"
    }
   ],
   "source": [
    "(\n",
    "    med_admin_win\n",
    "    .query('DrugCategory == \"bone therapy agent (bta)\"')\n",
    "    .CommonDrugName\n",
    "    .value_counts()\n",
    ")"
   ]
  },
  {
   "cell_type": "code",
   "execution_count": 261,
   "id": "05cb22b7",
   "metadata": {},
   "outputs": [],
   "source": [
    "med_admin_win.loc[:, 'bta_diag'] = np.where(med_admin_win['DrugCategory'] == 'bone therapy agent (bta)', 1, 0)"
   ]
  },
  {
   "cell_type": "markdown",
   "id": "5706c6ff",
   "metadata": {},
   "source": [
    "#### Hormone"
   ]
  },
  {
   "cell_type": "code",
   "execution_count": 262,
   "id": "f46f0b4f",
   "metadata": {},
   "outputs": [
    {
     "data": {
      "text/plain": [
       "levothyroxine    147\n",
       "vasopressin       30\n",
       "calcitonin        10\n",
       "desmopressin       6\n",
       "testosterone       4\n",
       "octreotide         4\n",
       "Name: CommonDrugName, dtype: int64"
      ]
     },
     "execution_count": 262,
     "metadata": {},
     "output_type": "execute_result"
    }
   ],
   "source": [
    "(\n",
    "    med_admin_win\n",
    "    .query('DrugCategory == \"hormone\"')\n",
    "    .CommonDrugName\n",
    "    .value_counts()\n",
    ")"
   ]
  },
  {
   "cell_type": "markdown",
   "id": "edf4622a",
   "metadata": {},
   "source": [
    "**Hypothyroidism might linked to higher all-cause mortality, so i ndicator variable will be created for patients receiving levothyroxine.** "
   ]
  },
  {
   "cell_type": "code",
   "execution_count": 263,
   "id": "f6995bc9",
   "metadata": {},
   "outputs": [],
   "source": [
    "med_admin_win.loc[:, 'thyroid_diag'] = np.where(med_admin_win['CommonDrugName'] == 'levothyroxine', 1, 0)"
   ]
  },
  {
   "cell_type": "markdown",
   "id": "291fb216",
   "metadata": {},
   "source": [
    "#### Gout and hyperurecemia agent "
   ]
  },
  {
   "cell_type": "code",
   "execution_count": 264,
   "id": "6099e462",
   "metadata": {},
   "outputs": [
    {
     "data": {
      "text/plain": [
       "allopurinol    158\n",
       "colchicine      38\n",
       "probenecid       1\n",
       "Name: CommonDrugName, dtype: int64"
      ]
     },
     "execution_count": 264,
     "metadata": {},
     "output_type": "execute_result"
    }
   ],
   "source": [
    "(\n",
    "    med_admin_win\n",
    "    .query('DrugCategory == \"gout and hyperurecemia agent\"')\n",
    "    .CommonDrugName\n",
    "    .value_counts()\n",
    ")"
   ]
  },
  {
   "cell_type": "markdown",
   "id": "f3308287",
   "metadata": {},
   "source": [
    "#### 4.16 Immunosuppressive "
   ]
  },
  {
   "cell_type": "code",
   "execution_count": 265,
   "id": "754361de",
   "metadata": {},
   "outputs": [
    {
     "data": {
      "text/plain": [
       "Series([], Name: CommonDrugName, dtype: int64)"
      ]
     },
     "execution_count": 265,
     "metadata": {},
     "output_type": "execute_result"
    }
   ],
   "source": [
    "(\n",
    "    med_admin_win\n",
    "    .query('DrugCategory == \"immunosuppressive\"')\n",
    "    .CommonDrugName\n",
    "    .value_counts()\n",
    ")"
   ]
  },
  {
   "cell_type": "markdown",
   "id": "47f9918b",
   "metadata": {},
   "source": [
    "#### Sedative agent"
   ]
  },
  {
   "cell_type": "code",
   "execution_count": 266,
   "id": "81848a30",
   "metadata": {},
   "outputs": [
    {
     "data": {
      "text/plain": [
       "zolpidem       42\n",
       "eszopiclone     2\n",
       "Name: CommonDrugName, dtype: int64"
      ]
     },
     "execution_count": 266,
     "metadata": {},
     "output_type": "execute_result"
    }
   ],
   "source": [
    "(\n",
    "    med_admin_win\n",
    "    .query('DrugCategory == \"sedative agent\"')\n",
    "    .CommonDrugName\n",
    "    .value_counts()\n",
    ")"
   ]
  },
  {
   "cell_type": "markdown",
   "id": "65060bdb",
   "metadata": {},
   "source": [
    "#### Endocrine"
   ]
  },
  {
   "cell_type": "code",
   "execution_count": 267,
   "id": "66c572ad",
   "metadata": {},
   "outputs": [
    {
     "data": {
      "text/plain": [
       "Series([], Name: CommonDrugName, dtype: int64)"
      ]
     },
     "execution_count": 267,
     "metadata": {},
     "output_type": "execute_result"
    }
   ],
   "source": [
    "(\n",
    "    med_admin_win\n",
    "    .query('DrugCategory == \"endocrine\"')\n",
    "    .CommonDrugName\n",
    "    .value_counts()\n",
    ")"
   ]
  },
  {
   "cell_type": "markdown",
   "id": "d8a9f3fe",
   "metadata": {},
   "source": [
    "#### Antidote and reversal agent"
   ]
  },
  {
   "cell_type": "code",
   "execution_count": 268,
   "id": "0e31c4ed",
   "metadata": {},
   "outputs": [
    {
     "data": {
      "text/plain": [
       "naloxone          6\n",
       "protamine         4\n",
       "flumazenil        3\n",
       "deferoxamine      2\n",
       "methylene blue    1\n",
       "acetylcysteine    1\n",
       "Name: CommonDrugName, dtype: int64"
      ]
     },
     "execution_count": 268,
     "metadata": {},
     "output_type": "execute_result"
    }
   ],
   "source": [
    "(\n",
    "    med_admin_win\n",
    "    .query('DrugCategory == \"antidote and reversal agent\"')\n",
    "    .CommonDrugName\n",
    "    .value_counts()\n",
    ")"
   ]
  },
  {
   "cell_type": "markdown",
   "id": "b0356832",
   "metadata": {},
   "source": [
    "#### Hyperglycemic"
   ]
  },
  {
   "cell_type": "code",
   "execution_count": 269,
   "id": "276df0eb",
   "metadata": {},
   "outputs": [
    {
     "data": {
      "text/plain": [
       "glucagon         21\n",
       "carbohydrates     1\n",
       "Name: CommonDrugName, dtype: int64"
      ]
     },
     "execution_count": 269,
     "metadata": {},
     "output_type": "execute_result"
    }
   ],
   "source": [
    "(\n",
    "    med_admin_win\n",
    "    .query('DrugCategory == \"hyperglycemic\"')\n",
    "    .CommonDrugName\n",
    "    .value_counts()\n",
    ")"
   ]
  },
  {
   "cell_type": "markdown",
   "id": "af322fcf",
   "metadata": {},
   "source": [
    "#### Antithyroid agent"
   ]
  },
  {
   "cell_type": "code",
   "execution_count": 270,
   "id": "2a90e9ca",
   "metadata": {},
   "outputs": [
    {
     "data": {
      "text/plain": [
       "methimazole    6\n",
       "Name: CommonDrugName, dtype: int64"
      ]
     },
     "execution_count": 270,
     "metadata": {},
     "output_type": "execute_result"
    }
   ],
   "source": [
    "(\n",
    "    med_admin_win\n",
    "    .query('DrugCategory == \"antithyroid agent\"')\n",
    "    .CommonDrugName\n",
    "    .value_counts()\n",
    ")"
   ]
  },
  {
   "cell_type": "markdown",
   "id": "553dcd34",
   "metadata": {},
   "source": [
    "#### Anticholinergic"
   ]
  },
  {
   "cell_type": "code",
   "execution_count": 271,
   "id": "fbb05561",
   "metadata": {},
   "outputs": [
    {
     "data": {
      "text/plain": [
       "atropine    26\n",
       "Name: CommonDrugName, dtype: int64"
      ]
     },
     "execution_count": 271,
     "metadata": {},
     "output_type": "execute_result"
    }
   ],
   "source": [
    "(\n",
    "    med_admin_win\n",
    "    .query('DrugCategory == \"anticholinergic\"')\n",
    "    .CommonDrugName\n",
    "    .value_counts()\n",
    ")"
   ]
  },
  {
   "cell_type": "markdown",
   "id": "69ab9feb",
   "metadata": {},
   "source": [
    "#### Calciumimetic"
   ]
  },
  {
   "cell_type": "code",
   "execution_count": 272,
   "id": "ee447cdb",
   "metadata": {},
   "outputs": [
    {
     "data": {
      "text/plain": [
       "cinacalcet    4\n",
       "Name: CommonDrugName, dtype: int64"
      ]
     },
     "execution_count": 272,
     "metadata": {},
     "output_type": "execute_result"
    }
   ],
   "source": [
    "(\n",
    "    med_admin_win\n",
    "    .query('DrugCategory == \"calcimimetic\"')\n",
    "    .CommonDrugName\n",
    "    .value_counts()\n",
    ")"
   ]
  },
  {
   "cell_type": "markdown",
   "id": "2ac4140e",
   "metadata": {},
   "source": [
    "#### Targeted therapy"
   ]
  },
  {
   "cell_type": "code",
   "execution_count": 273,
   "id": "5cf19772",
   "metadata": {},
   "outputs": [
    {
     "data": {
      "text/plain": [
       "Series([], Name: CommonDrugName, dtype: int64)"
      ]
     },
     "execution_count": 273,
     "metadata": {},
     "output_type": "execute_result"
    }
   ],
   "source": [
    "(\n",
    "    med_admin_win\n",
    "    .query('DrugCategory == \"targeted therapy\"')\n",
    "    .CommonDrugName\n",
    "    .value_counts()\n",
    ")"
   ]
  },
  {
   "cell_type": "markdown",
   "id": "95db8878",
   "metadata": {},
   "source": [
    "#### Route"
   ]
  },
  {
   "cell_type": "code",
   "execution_count": 274,
   "id": "03e605bd",
   "metadata": {},
   "outputs": [
    {
     "data": {
      "text/plain": [
       "Intravenous            0.417567\n",
       "Oral                   0.262630\n",
       "Subcutaneous           0.192772\n",
       "Intramuscular          0.085852\n",
       "Other/Miscellaneous    0.009339\n",
       "Transdermal            0.008751\n",
       "Topical                0.007537\n",
       "Intrajejunal           0.003824\n",
       "Urethral               0.002133\n",
       "Intradermal            0.001691\n",
       "Name: Route, dtype: float64"
      ]
     },
     "execution_count": 274,
     "metadata": {},
     "output_type": "execute_result"
    }
   ],
   "source": [
    "(\n",
    "    med_admin_win['Route']\n",
    "    .value_counts(normalize = True)\n",
    "    .head(10)\n",
    ")"
   ]
  },
  {
   "cell_type": "code",
   "execution_count": 275,
   "id": "14e65ba7",
   "metadata": {},
   "outputs": [
    {
     "data": {
      "text/plain": [
       "sodium/saline preparations    63\n",
       "heparin (porcine)             13\n",
       "dexamethasone                  7\n",
       "vitamin b12 preparations       6\n",
       "epoetin alfa                   6\n",
       "ondansetron                    2\n",
       "filgrastim                     2\n",
       "darbepoetin alfa               1\n",
       "enoxaparin                     1\n",
       "morphine                       1\n",
       "Name: CommonDrugName, dtype: int64"
      ]
     },
     "execution_count": 275,
     "metadata": {},
     "output_type": "execute_result"
    }
   ],
   "source": [
    "(\n",
    "    med_admin_win\n",
    "    .query('Route == \"Intrajejunal\"')\n",
    "    .CommonDrugName\n",
    "    .value_counts()\n",
    "    .head(10)\n",
    ")"
   ]
  },
  {
   "cell_type": "markdown",
   "id": "85b59353",
   "metadata": {},
   "source": [
    "#### Condensing"
   ]
  },
  {
   "cell_type": "code",
   "execution_count": 276,
   "id": "d86bf214",
   "metadata": {},
   "outputs": [],
   "source": [
    "# Select columns with indicator variables and PatientID, then collapse rows by PatientID and sum columns. \n",
    "med_admin_wide = (\n",
    "    med_admin_win\n",
    "    [med_admin_win.columns[med_admin_win.columns.str.contains('diag|PatientID')]]\n",
    "    .groupby('PatientID').sum()\n",
    ")"
   ]
  },
  {
   "cell_type": "code",
   "execution_count": 277,
   "id": "22548cab",
   "metadata": {},
   "outputs": [],
   "source": [
    "# Replace numbers greater than 1 with 1; 0 remains unchanged. \n",
    "med_admin_wide = (\n",
    "    med_admin_wide.mask(med_admin_wide > 1, 1)\n",
    "    .reset_index()\n",
    ")"
   ]
  },
  {
   "cell_type": "code",
   "execution_count": 278,
   "id": "e45df1e0",
   "metadata": {},
   "outputs": [
    {
     "data": {
      "text/plain": [
       "(4487, 4487)"
      ]
     },
     "execution_count": 278,
     "metadata": {},
     "output_type": "execute_result"
    }
   ],
   "source": [
    "row_ID(med_admin_wide)"
   ]
  },
  {
   "cell_type": "code",
   "execution_count": 279,
   "id": "770d1161",
   "metadata": {},
   "outputs": [],
   "source": [
    "# Append missing training IDs.\n",
    "med_admin_wide = (\n",
    "    med_admin_wide.append(\n",
    "        pd.Series(train_IDs)[~pd.Series(train_IDs).isin(med_admin_wide['PatientID'])].to_frame(name = 'PatientID'),\n",
    "        sort = False\n",
    "    )\n",
    "    .fillna(0)\n",
    ")"
   ]
  },
  {
   "cell_type": "code",
   "execution_count": 280,
   "id": "a8619792",
   "metadata": {},
   "outputs": [
    {
     "data": {
      "text/plain": [
       "(15141, 15141)"
      ]
     },
     "execution_count": 280,
     "metadata": {},
     "output_type": "execute_result"
    }
   ],
   "source": [
    "row_ID(med_admin_wide)"
   ]
  },
  {
   "cell_type": "code",
   "execution_count": 281,
   "id": "e4e64b57",
   "metadata": {},
   "outputs": [
    {
     "data": {
      "text/plain": [
       "(15141, 13)"
      ]
     },
     "execution_count": 281,
     "metadata": {},
     "output_type": "execute_result"
    }
   ],
   "source": [
    "med_admin_wide.shape"
   ]
  },
  {
   "cell_type": "code",
   "execution_count": 282,
   "id": "3e425cdd",
   "metadata": {},
   "outputs": [
    {
     "data": {
      "text/html": [
       "<div>\n",
       "<style scoped>\n",
       "    .dataframe tbody tr th:only-of-type {\n",
       "        vertical-align: middle;\n",
       "    }\n",
       "\n",
       "    .dataframe tbody tr th {\n",
       "        vertical-align: top;\n",
       "    }\n",
       "\n",
       "    .dataframe thead th {\n",
       "        text-align: right;\n",
       "    }\n",
       "</style>\n",
       "<table border=\"1\" class=\"dataframe\">\n",
       "  <thead>\n",
       "    <tr style=\"text-align: right;\">\n",
       "      <th></th>\n",
       "      <th>PatientID</th>\n",
       "      <th>steroid_diag</th>\n",
       "      <th>opioid_PO_diag</th>\n",
       "      <th>nonopioid_PO_diag</th>\n",
       "      <th>pain_IV_diag</th>\n",
       "      <th>ac_diag</th>\n",
       "      <th>antiinfective_IV_diag</th>\n",
       "      <th>antiinfective_diag</th>\n",
       "      <th>antihyperglycemic_diag</th>\n",
       "      <th>ppi_diag</th>\n",
       "      <th>antidepressant_diag</th>\n",
       "      <th>bta_diag</th>\n",
       "      <th>thyroid_diag</th>\n",
       "    </tr>\n",
       "  </thead>\n",
       "  <tbody>\n",
       "    <tr>\n",
       "      <th>7052</th>\n",
       "      <td>F494214A0F066</td>\n",
       "      <td>0.0</td>\n",
       "      <td>0.0</td>\n",
       "      <td>0.0</td>\n",
       "      <td>0.0</td>\n",
       "      <td>0.0</td>\n",
       "      <td>0.0</td>\n",
       "      <td>0.0</td>\n",
       "      <td>0.0</td>\n",
       "      <td>0.0</td>\n",
       "      <td>0.0</td>\n",
       "      <td>0.0</td>\n",
       "      <td>0.0</td>\n",
       "    </tr>\n",
       "    <tr>\n",
       "      <th>2785</th>\n",
       "      <td>FF898B8A8B0AF</td>\n",
       "      <td>0.0</td>\n",
       "      <td>0.0</td>\n",
       "      <td>0.0</td>\n",
       "      <td>0.0</td>\n",
       "      <td>0.0</td>\n",
       "      <td>0.0</td>\n",
       "      <td>0.0</td>\n",
       "      <td>0.0</td>\n",
       "      <td>0.0</td>\n",
       "      <td>0.0</td>\n",
       "      <td>0.0</td>\n",
       "      <td>0.0</td>\n",
       "    </tr>\n",
       "    <tr>\n",
       "      <th>8784</th>\n",
       "      <td>FEDEE468442F5</td>\n",
       "      <td>0.0</td>\n",
       "      <td>0.0</td>\n",
       "      <td>0.0</td>\n",
       "      <td>0.0</td>\n",
       "      <td>0.0</td>\n",
       "      <td>0.0</td>\n",
       "      <td>0.0</td>\n",
       "      <td>0.0</td>\n",
       "      <td>0.0</td>\n",
       "      <td>0.0</td>\n",
       "      <td>0.0</td>\n",
       "      <td>0.0</td>\n",
       "    </tr>\n",
       "    <tr>\n",
       "      <th>7429</th>\n",
       "      <td>F76FF861BFFCC</td>\n",
       "      <td>0.0</td>\n",
       "      <td>0.0</td>\n",
       "      <td>0.0</td>\n",
       "      <td>0.0</td>\n",
       "      <td>0.0</td>\n",
       "      <td>0.0</td>\n",
       "      <td>0.0</td>\n",
       "      <td>0.0</td>\n",
       "      <td>0.0</td>\n",
       "      <td>0.0</td>\n",
       "      <td>0.0</td>\n",
       "      <td>0.0</td>\n",
       "    </tr>\n",
       "    <tr>\n",
       "      <th>7345</th>\n",
       "      <td>FE252DFD5DBD7</td>\n",
       "      <td>0.0</td>\n",
       "      <td>0.0</td>\n",
       "      <td>0.0</td>\n",
       "      <td>0.0</td>\n",
       "      <td>0.0</td>\n",
       "      <td>0.0</td>\n",
       "      <td>0.0</td>\n",
       "      <td>0.0</td>\n",
       "      <td>0.0</td>\n",
       "      <td>0.0</td>\n",
       "      <td>0.0</td>\n",
       "      <td>0.0</td>\n",
       "    </tr>\n",
       "  </tbody>\n",
       "</table>\n",
       "</div>"
      ],
      "text/plain": [
       "          PatientID  steroid_diag  opioid_PO_diag  nonopioid_PO_diag  \\\n",
       "7052  F494214A0F066           0.0             0.0                0.0   \n",
       "2785  FF898B8A8B0AF           0.0             0.0                0.0   \n",
       "8784  FEDEE468442F5           0.0             0.0                0.0   \n",
       "7429  F76FF861BFFCC           0.0             0.0                0.0   \n",
       "7345  FE252DFD5DBD7           0.0             0.0                0.0   \n",
       "\n",
       "      pain_IV_diag  ac_diag  antiinfective_IV_diag  antiinfective_diag  \\\n",
       "7052           0.0      0.0                    0.0                 0.0   \n",
       "2785           0.0      0.0                    0.0                 0.0   \n",
       "8784           0.0      0.0                    0.0                 0.0   \n",
       "7429           0.0      0.0                    0.0                 0.0   \n",
       "7345           0.0      0.0                    0.0                 0.0   \n",
       "\n",
       "      antihyperglycemic_diag  ppi_diag  antidepressant_diag  bta_diag  \\\n",
       "7052                     0.0       0.0                  0.0       0.0   \n",
       "2785                     0.0       0.0                  0.0       0.0   \n",
       "8784                     0.0       0.0                  0.0       0.0   \n",
       "7429                     0.0       0.0                  0.0       0.0   \n",
       "7345                     0.0       0.0                  0.0       0.0   \n",
       "\n",
       "      thyroid_diag  \n",
       "7052           0.0  \n",
       "2785           0.0  \n",
       "8784           0.0  \n",
       "7429           0.0  \n",
       "7345           0.0  "
      ]
     },
     "execution_count": 282,
     "metadata": {},
     "output_type": "execute_result"
    }
   ],
   "source": [
    "med_admin_wide.sample(5)"
   ]
  },
  {
   "cell_type": "code",
   "execution_count": 283,
   "id": "bd90f2c8",
   "metadata": {},
   "outputs": [
    {
     "data": {
      "text/plain": [
       "bta_diag                  0.104485\n",
       "steroid_diag              0.051912\n",
       "antiinfective_IV_diag     0.017040\n",
       "pain_IV_diag              0.015983\n",
       "nonopioid_PO_diag         0.012218\n",
       "opioid_PO_diag            0.011624\n",
       "antiinfective_diag        0.007793\n",
       "ppi_diag                  0.006274\n",
       "antidepressant_diag       0.004161\n",
       "ac_diag                   0.003963\n",
       "antihyperglycemic_diag    0.003434\n",
       "thyroid_diag              0.001387\n",
       "dtype: float64"
      ]
     },
     "execution_count": 283,
     "metadata": {},
     "output_type": "execute_result"
    }
   ],
   "source": [
    "# Percent of patients receiving relevant medications at time of metastatic diagnosis. \n",
    "(med_admin_wide.iloc[:, 1:].sum()/len(med_admin_wide)).sort_values(ascending = False)"
   ]
  },
  {
   "cell_type": "code",
   "execution_count": 284,
   "id": "b4994114",
   "metadata": {},
   "outputs": [
    {
     "name": "stdout",
     "output_type": "stream",
     "text": [
      "Variable              Type         Data/Info\n",
      "--------------------------------------------\n",
      "demographics          DataFrame               PatientID Gend<...>n[15141 rows x 6 columns]\n",
      "enhanced_met          DataFrame               PatientID diag<...>[15141 rows x 18 columns]\n",
      "med_admin             DataFrame                PatientID    <...>562121 rows x 11 columns]\n",
      "med_admin_wide        DataFrame               PatientID  ste<...>[15141 rows x 13 columns]\n",
      "med_admin_win         DataFrame                PatientID    <...>[27947 rows x 24 columns]\n",
      "med_admin_win_chemo   DataFrame                PatientID    <...>[59612 rows x 11 columns]\n",
      "mortality             DataFrame               PatientID  dea<...>n[15141 rows x 3 columns]\n"
     ]
    }
   ],
   "source": [
    "%whos DataFrame"
   ]
  },
  {
   "cell_type": "code",
   "execution_count": 285,
   "id": "7cbcc521",
   "metadata": {},
   "outputs": [],
   "source": [
    "# Keep demographics, enhanced_met, med_admin_wide, and mortality\n",
    "del med_admin\n",
    "del med_admin_win\n",
    "del med_admin_win_chemo"
   ]
  },
  {
   "cell_type": "markdown",
   "id": "eb454c9f",
   "metadata": {},
   "source": [
    "### 5. Enhanced_MetPC_Biomarkers"
   ]
  },
  {
   "cell_type": "code",
   "execution_count": 286,
   "id": "379b9cf2",
   "metadata": {},
   "outputs": [],
   "source": [
    "biomarkers = pd.read_csv('Enhanced_MetPC_Biomarkers.csv')"
   ]
  },
  {
   "cell_type": "code",
   "execution_count": 287,
   "id": "a30503df",
   "metadata": {},
   "outputs": [],
   "source": [
    "biomarkers = biomarkers[biomarkers['PatientID'].isin(train_IDs)]"
   ]
  },
  {
   "cell_type": "code",
   "execution_count": 288,
   "id": "778d7233",
   "metadata": {},
   "outputs": [
    {
     "data": {
      "text/plain": [
       "(6339, 9)"
      ]
     },
     "execution_count": 288,
     "metadata": {},
     "output_type": "execute_result"
    }
   ],
   "source": [
    "biomarkers.shape"
   ]
  },
  {
   "cell_type": "code",
   "execution_count": 289,
   "id": "39fb6cde",
   "metadata": {},
   "outputs": [
    {
     "data": {
      "text/html": [
       "<div>\n",
       "<style scoped>\n",
       "    .dataframe tbody tr th:only-of-type {\n",
       "        vertical-align: middle;\n",
       "    }\n",
       "\n",
       "    .dataframe tbody tr th {\n",
       "        vertical-align: top;\n",
       "    }\n",
       "\n",
       "    .dataframe thead th {\n",
       "        text-align: right;\n",
       "    }\n",
       "</style>\n",
       "<table border=\"1\" class=\"dataframe\">\n",
       "  <thead>\n",
       "    <tr style=\"text-align: right;\">\n",
       "      <th></th>\n",
       "      <th>PatientID</th>\n",
       "      <th>BiomarkerName</th>\n",
       "      <th>SpecimenCollectedDate</th>\n",
       "      <th>SpecimenReceivedDate</th>\n",
       "      <th>ResultDate</th>\n",
       "      <th>BiomarkerStatus</th>\n",
       "      <th>DnaType</th>\n",
       "      <th>SampleType</th>\n",
       "      <th>LabName</th>\n",
       "    </tr>\n",
       "  </thead>\n",
       "  <tbody>\n",
       "    <tr>\n",
       "      <th>5744</th>\n",
       "      <td>F9C8AF70EEAB0</td>\n",
       "      <td>BRCA</td>\n",
       "      <td>2022-03-03</td>\n",
       "      <td>2022-03-04</td>\n",
       "      <td>2022-03-11</td>\n",
       "      <td>BRCA2 mutation identified</td>\n",
       "      <td>Somatic</td>\n",
       "      <td>Tissue</td>\n",
       "      <td>Foundation Medicine</td>\n",
       "    </tr>\n",
       "    <tr>\n",
       "      <th>5382</th>\n",
       "      <td>FE2F6FE61F0C7</td>\n",
       "      <td>BRCA</td>\n",
       "      <td>2016-09-22</td>\n",
       "      <td>2021-10-16</td>\n",
       "      <td>2021-11-06</td>\n",
       "      <td>No BRCA mutation</td>\n",
       "      <td>Somatic</td>\n",
       "      <td>Tissue</td>\n",
       "      <td>Caris Life Sciences</td>\n",
       "    </tr>\n",
       "    <tr>\n",
       "      <th>4002</th>\n",
       "      <td>FFFD62884DA7F</td>\n",
       "      <td>BRCA</td>\n",
       "      <td>2020-10-02</td>\n",
       "      <td>2020-10-06</td>\n",
       "      <td>2020-10-16</td>\n",
       "      <td>No BRCA mutation</td>\n",
       "      <td>Somatic</td>\n",
       "      <td>Tissue</td>\n",
       "      <td>NeoGenomics Laboratories</td>\n",
       "    </tr>\n",
       "    <tr>\n",
       "      <th>6095</th>\n",
       "      <td>FD5A1A8AF038D</td>\n",
       "      <td>BRCA</td>\n",
       "      <td>2021-11-28</td>\n",
       "      <td>2022-02-13</td>\n",
       "      <td>2022-02-22</td>\n",
       "      <td>No BRCA mutation</td>\n",
       "      <td>Somatic</td>\n",
       "      <td>Tissue</td>\n",
       "      <td>Foundation Medicine</td>\n",
       "    </tr>\n",
       "    <tr>\n",
       "      <th>3734</th>\n",
       "      <td>F39ED8AF1BE12</td>\n",
       "      <td>BRCA</td>\n",
       "      <td>2020-06-25</td>\n",
       "      <td>2020-07-07</td>\n",
       "      <td>2020-07-20</td>\n",
       "      <td>No BRCA mutation</td>\n",
       "      <td>Somatic</td>\n",
       "      <td>Tissue</td>\n",
       "      <td>Foundation Medicine</td>\n",
       "    </tr>\n",
       "  </tbody>\n",
       "</table>\n",
       "</div>"
      ],
      "text/plain": [
       "          PatientID BiomarkerName SpecimenCollectedDate SpecimenReceivedDate  \\\n",
       "5744  F9C8AF70EEAB0          BRCA            2022-03-03           2022-03-04   \n",
       "5382  FE2F6FE61F0C7          BRCA            2016-09-22           2021-10-16   \n",
       "4002  FFFD62884DA7F          BRCA            2020-10-02           2020-10-06   \n",
       "6095  FD5A1A8AF038D          BRCA            2021-11-28           2022-02-13   \n",
       "3734  F39ED8AF1BE12          BRCA            2020-06-25           2020-07-07   \n",
       "\n",
       "      ResultDate            BiomarkerStatus  DnaType SampleType  \\\n",
       "5744  2022-03-11  BRCA2 mutation identified  Somatic     Tissue   \n",
       "5382  2021-11-06           No BRCA mutation  Somatic     Tissue   \n",
       "4002  2020-10-16           No BRCA mutation  Somatic     Tissue   \n",
       "6095  2022-02-22           No BRCA mutation  Somatic     Tissue   \n",
       "3734  2020-07-20           No BRCA mutation  Somatic     Tissue   \n",
       "\n",
       "                       LabName  \n",
       "5744       Foundation Medicine  \n",
       "5382       Caris Life Sciences  \n",
       "4002  NeoGenomics Laboratories  \n",
       "6095       Foundation Medicine  \n",
       "3734       Foundation Medicine  "
      ]
     },
     "execution_count": 289,
     "metadata": {},
     "output_type": "execute_result"
    }
   ],
   "source": [
    "biomarkers.sample(5)"
   ]
  },
  {
   "cell_type": "code",
   "execution_count": 290,
   "id": "1f81fc7e",
   "metadata": {},
   "outputs": [
    {
     "data": {
      "text/plain": [
       "BiomarkerName  BiomarkerStatus                              \n",
       "BRCA           No BRCA mutation                                 0.828522\n",
       "               BRCA2 mutation identified                        0.062944\n",
       "               Genetic Variant of Unknown Significance (VUS)    0.053636\n",
       "               Unsuccessful/indeterminate test                  0.031551\n",
       "               BRCA1 mutation identified                        0.012620\n",
       "               Results pending                                  0.004259\n",
       "               Unknown                                          0.003471\n",
       "               Both BRCA1 and BRCA2 mutations identified        0.001893\n",
       "               BRCA mutation NOS                                0.000631\n",
       "               Other                                            0.000473\n",
       "Name: BiomarkerStatus, dtype: float64"
      ]
     },
     "execution_count": 290,
     "metadata": {},
     "output_type": "execute_result"
    }
   ],
   "source": [
    "biomarkers.groupby('BiomarkerName')['BiomarkerStatus'].value_counts(normalize = True, dropna = False)"
   ]
  },
  {
   "cell_type": "markdown",
   "id": "65b8a873",
   "metadata": {},
   "source": [
    "**The Biomarkers dataframe is in a long format. The goal is to build a single-row-per-patient dataframe with columns reflecting a patient's biomarker status within a predefined elgibility window. For this project, the elgibility window is defined as negative infinity to +30 days from time of diagnosis of metastatic disease (ie., index date).** \n",
    "\n",
    "**Regarding biomarker date information, result date is the date the biomarker result was first reported, and so represents the date on which the clinician would be expected to have information about the patient’s biomarker status to inform the course of treatment. Flatiron recommends using result date as the relevant biomarker test date and using specimen received date as the proxy when result date is not available. The gaps between collected date and either received or result date are substantially more variable.**\n",
    "\n",
    "**We'll begin by imputing specimen received date when result date is missing. Then, we'll select all biomarkers that fall within the elbility window.**"
   ]
  },
  {
   "cell_type": "code",
   "execution_count": 291,
   "id": "617342cc",
   "metadata": {},
   "outputs": [
    {
     "data": {
      "text/plain": [
       "0.046695062312667616"
      ]
     },
     "execution_count": 291,
     "metadata": {},
     "output_type": "execute_result"
    }
   ],
   "source": [
    "biomarkers['SpecimenCollectedDate'].isna().sum()/biomarkers.shape[0]"
   ]
  },
  {
   "cell_type": "code",
   "execution_count": 292,
   "id": "1a92ce61",
   "metadata": {},
   "outputs": [
    {
     "data": {
      "text/plain": [
       "0.07177788294683704"
      ]
     },
     "execution_count": 292,
     "metadata": {},
     "output_type": "execute_result"
    }
   ],
   "source": [
    "biomarkers['SpecimenReceivedDate'].isna().sum()/biomarkers.shape[0]"
   ]
  },
  {
   "cell_type": "code",
   "execution_count": 293,
   "id": "35a1644e",
   "metadata": {},
   "outputs": [
    {
     "data": {
      "text/plain": [
       "0.02602934216753431"
      ]
     },
     "execution_count": 293,
     "metadata": {},
     "output_type": "execute_result"
    }
   ],
   "source": [
    "biomarkers['ResultDate'].isna().sum()/biomarkers.shape[0]"
   ]
  },
  {
   "cell_type": "code",
   "execution_count": 294,
   "id": "f593ef9e",
   "metadata": {},
   "outputs": [],
   "source": [
    "biomarkers.loc[:, 'ResultDate'] = pd.to_datetime(biomarkers['ResultDate'])"
   ]
  },
  {
   "cell_type": "code",
   "execution_count": 295,
   "id": "eb5064ff",
   "metadata": {},
   "outputs": [],
   "source": [
    "biomarkers.loc[:, 'SpecimenReceivedDate'] = pd.to_datetime(biomarkers['SpecimenReceivedDate'])"
   ]
  },
  {
   "cell_type": "code",
   "execution_count": 296,
   "id": "82ecec3d",
   "metadata": {},
   "outputs": [
    {
     "data": {
      "text/plain": [
       "0.12727272727272726"
      ]
     },
     "execution_count": 296,
     "metadata": {},
     "output_type": "execute_result"
    }
   ],
   "source": [
    "# Percenage of missing 'ResultDate' that can be replaced by 'SpecimenReceivedDate'. \n",
    "(\n",
    "    len(biomarkers[(biomarkers['ResultDate'].isna()) & (biomarkers['SpecimenReceivedDate'].notna())])\n",
    "    /len(biomarkers[biomarkers['ResultDate'].isna()])\n",
    ")"
   ]
  },
  {
   "cell_type": "code",
   "execution_count": 297,
   "id": "2993a0d2",
   "metadata": {},
   "outputs": [],
   "source": [
    "# Replace missing result date with specimen received date. \n",
    "biomarkers.loc[:, 'result_date'] = (\n",
    "    np.where(biomarkers['ResultDate'].isna(), biomarkers['SpecimenReceivedDate'], biomarkers['ResultDate'])\n",
    ")"
   ]
  },
  {
   "cell_type": "code",
   "execution_count": 298,
   "id": "229422c8",
   "metadata": {},
   "outputs": [
    {
     "data": {
      "text/plain": [
       "0.022716516800757217"
      ]
     },
     "execution_count": 298,
     "metadata": {},
     "output_type": "execute_result"
    }
   ],
   "source": [
    "# Final percent of biomarkers without a result date and thus will not be included. \n",
    "biomarkers['result_date'].isna().sum()/biomarkers.shape[0]"
   ]
  },
  {
   "cell_type": "code",
   "execution_count": 299,
   "id": "8bfbca68",
   "metadata": {},
   "outputs": [],
   "source": [
    "biomarkers = pd.merge(biomarkers, enhanced_met[['PatientID', 'met_date']], on = 'PatientID', how = 'left')"
   ]
  },
  {
   "cell_type": "code",
   "execution_count": 300,
   "id": "2e3c5cbc",
   "metadata": {},
   "outputs": [],
   "source": [
    "# Create new variable that captures difference in days between result date and metastatic diagnosis. \n",
    "biomarkers.loc[:, 'bio_date_diff'] = (biomarkers['result_date'] - biomarkers['met_date']).dt.days"
   ]
  },
  {
   "cell_type": "code",
   "execution_count": 301,
   "id": "15c2fbf5",
   "metadata": {},
   "outputs": [],
   "source": [
    "# Select all patients with biomarkers < +30 from metastatic diagnosis. \n",
    "biomarker_win = biomarkers[biomarkers['bio_date_diff'] <= 30]"
   ]
  },
  {
   "cell_type": "code",
   "execution_count": 302,
   "id": "72638985",
   "metadata": {},
   "outputs": [
    {
     "data": {
      "text/plain": [
       "(717, 582)"
      ]
     },
     "execution_count": 302,
     "metadata": {},
     "output_type": "execute_result"
    }
   ],
   "source": [
    "row_ID(biomarker_win)"
   ]
  },
  {
   "cell_type": "markdown",
   "id": "348e84ac",
   "metadata": {},
   "source": [
    "**BRCA will be defined as positive if ever-positive and negative if always-negative.**"
   ]
  },
  {
   "cell_type": "markdown",
   "id": "774e0a62",
   "metadata": {},
   "source": [
    "#### Assigning patient-level biomarker status "
   ]
  },
  {
   "cell_type": "code",
   "execution_count": 303,
   "id": "91cc1658",
   "metadata": {},
   "outputs": [
    {
     "name": "stderr",
     "output_type": "stream",
     "text": [
      "/Users/xavierorcutt/Dropbox/ist_project/myenv/lib/python3.7/site-packages/pandas/core/indexing.py:1667: SettingWithCopyWarning: \n",
      "A value is trying to be set on a copy of a slice from a DataFrame.\n",
      "Try using .loc[row_indexer,col_indexer] = value instead\n",
      "\n",
      "See the caveats in the documentation: https://pandas.pydata.org/pandas-docs/stable/user_guide/indexing.html#returning-a-view-versus-a-copy\n",
      "  self.obj[key] = value\n"
     ]
    }
   ],
   "source": [
    "# Create indicator variable where where 2 if positive, 1 if negative, and 0 if unknown or missing. \n",
    "conditions = [\n",
    "    (biomarker_win['BiomarkerStatus'] == 'BRCA1 mutation identified') |\n",
    "    (biomarker_win['BiomarkerStatus'] == 'BRCA2 mutation identified') |\n",
    "    (biomarker_win['BiomarkerStatus'] == 'Both BRCA1 and BRCA2 mutations identified') |\n",
    "    (biomarker_win['BiomarkerStatus'] == 'BRCA mutation NOS'),\n",
    "    (biomarker_win['BiomarkerStatus'] == 'No BRCA mutation')]\n",
    "\n",
    "choices = [2, 1]\n",
    "biomarker_win.loc[:, 'brca_status'] = np.select(conditions, choices, default = 0)"
   ]
  },
  {
   "cell_type": "code",
   "execution_count": 304,
   "id": "5c09a832",
   "metadata": {},
   "outputs": [],
   "source": [
    "biomarker_wide = (\n",
    "    biomarker_win\n",
    "    .sort_values(by = ['PatientID', 'brca_status'], ascending = False)\n",
    "    .drop_duplicates(subset = ['PatientID'], keep = 'first')\n",
    "    [['PatientID', 'brca_status']]\n",
    ")"
   ]
  },
  {
   "cell_type": "code",
   "execution_count": 305,
   "id": "c5f9fd1c",
   "metadata": {},
   "outputs": [
    {
     "data": {
      "text/plain": [
       "(582, 582)"
      ]
     },
     "execution_count": 305,
     "metadata": {},
     "output_type": "execute_result"
    }
   ],
   "source": [
    "row_ID(biomarker_wide)"
   ]
  },
  {
   "cell_type": "code",
   "execution_count": 306,
   "id": "79c5cd1e",
   "metadata": {},
   "outputs": [],
   "source": [
    "biomarker_wide['brca_status'] = (\n",
    "    biomarker_wide['brca_status'].replace({\n",
    "        2: 'positive',\n",
    "        1: 'negative',\n",
    "        0: 'unknown',\n",
    "        np.nan: 'unknown'})\n",
    ")"
   ]
  },
  {
   "cell_type": "code",
   "execution_count": 307,
   "id": "fe5fc8e1",
   "metadata": {},
   "outputs": [],
   "source": [
    "biomarker_wide = (\n",
    "    biomarker_wide\n",
    "    .append(\n",
    "        pd.Series(train_IDs)[~pd.Series(train_IDs).isin(biomarker_wide['PatientID'])].to_frame(name = 'PatientID'),\n",
    "        sort = False)\n",
    "    .fillna('unknown')\n",
    ")"
   ]
  },
  {
   "cell_type": "code",
   "execution_count": 308,
   "id": "8e14f38d",
   "metadata": {},
   "outputs": [
    {
     "data": {
      "text/plain": [
       "(15141, 15141)"
      ]
     },
     "execution_count": 308,
     "metadata": {},
     "output_type": "execute_result"
    }
   ],
   "source": [
    "row_ID(biomarker_wide)"
   ]
  },
  {
   "cell_type": "code",
   "execution_count": 309,
   "id": "30c79ec1",
   "metadata": {},
   "outputs": [
    {
     "data": {
      "text/html": [
       "<div>\n",
       "<style scoped>\n",
       "    .dataframe tbody tr th:only-of-type {\n",
       "        vertical-align: middle;\n",
       "    }\n",
       "\n",
       "    .dataframe tbody tr th {\n",
       "        vertical-align: top;\n",
       "    }\n",
       "\n",
       "    .dataframe thead th {\n",
       "        text-align: right;\n",
       "    }\n",
       "</style>\n",
       "<table border=\"1\" class=\"dataframe\">\n",
       "  <thead>\n",
       "    <tr style=\"text-align: right;\">\n",
       "      <th></th>\n",
       "      <th>PatientID</th>\n",
       "      <th>brca_status</th>\n",
       "    </tr>\n",
       "  </thead>\n",
       "  <tbody>\n",
       "    <tr>\n",
       "      <th>8734</th>\n",
       "      <td>FD2C7EA70DD44</td>\n",
       "      <td>unknown</td>\n",
       "    </tr>\n",
       "    <tr>\n",
       "      <th>13462</th>\n",
       "      <td>FB907D4CC5C30</td>\n",
       "      <td>unknown</td>\n",
       "    </tr>\n",
       "    <tr>\n",
       "      <th>4428</th>\n",
       "      <td>FEFA22ECB5B6F</td>\n",
       "      <td>unknown</td>\n",
       "    </tr>\n",
       "    <tr>\n",
       "      <th>10025</th>\n",
       "      <td>FAD8AD27553F6</td>\n",
       "      <td>unknown</td>\n",
       "    </tr>\n",
       "    <tr>\n",
       "      <th>2352</th>\n",
       "      <td>FEB5DBB0284E1</td>\n",
       "      <td>unknown</td>\n",
       "    </tr>\n",
       "  </tbody>\n",
       "</table>\n",
       "</div>"
      ],
      "text/plain": [
       "           PatientID brca_status\n",
       "8734   FD2C7EA70DD44     unknown\n",
       "13462  FB907D4CC5C30     unknown\n",
       "4428   FEFA22ECB5B6F     unknown\n",
       "10025  FAD8AD27553F6     unknown\n",
       "2352   FEB5DBB0284E1     unknown"
      ]
     },
     "execution_count": 309,
     "metadata": {},
     "output_type": "execute_result"
    }
   ],
   "source": [
    "biomarker_wide.sample(5)"
   ]
  },
  {
   "cell_type": "code",
   "execution_count": 310,
   "id": "c1e50be6",
   "metadata": {},
   "outputs": [
    {
     "data": {
      "text/plain": [
       "brca_status\n",
       "unknown        0.963609\n",
       "negative       0.033089\n",
       "positive       0.003302\n",
       "dtype: float64"
      ]
     },
     "execution_count": 310,
     "metadata": {},
     "output_type": "execute_result"
    }
   ],
   "source": [
    "biomarker_wide[['brca_status']].value_counts(normalize = True)"
   ]
  },
  {
   "cell_type": "code",
   "execution_count": 311,
   "id": "f19ddd3d",
   "metadata": {},
   "outputs": [
    {
     "data": {
      "text/plain": [
       "brca_status\n",
       "unknown        14590\n",
       "negative         501\n",
       "positive          50\n",
       "dtype: int64"
      ]
     },
     "execution_count": 311,
     "metadata": {},
     "output_type": "execute_result"
    }
   ],
   "source": [
    "biomarker_wide[['brca_status']].value_counts()"
   ]
  },
  {
   "cell_type": "code",
   "execution_count": 312,
   "id": "5024aac5",
   "metadata": {},
   "outputs": [
    {
     "name": "stdout",
     "output_type": "stream",
     "text": [
      "Variable         Type         Data/Info\n",
      "---------------------------------------\n",
      "biomarker_wide   DataFrame               PatientID brca<...>n[15141 rows x 2 columns]\n",
      "biomarker_win    DataFrame              PatientID Bioma<...>\\n[717 rows x 13 columns]\n",
      "biomarkers       DataFrame              PatientID Bioma<...>n[6339 rows x 12 columns]\n",
      "demographics     DataFrame               PatientID Gend<...>n[15141 rows x 6 columns]\n",
      "enhanced_met     DataFrame               PatientID diag<...>[15141 rows x 18 columns]\n",
      "med_admin_wide   DataFrame               PatientID  ste<...>[15141 rows x 13 columns]\n",
      "mortality        DataFrame               PatientID  dea<...>n[15141 rows x 3 columns]\n"
     ]
    }
   ],
   "source": [
    "%whos DataFrame"
   ]
  },
  {
   "cell_type": "code",
   "execution_count": 313,
   "id": "8b8f7fe6",
   "metadata": {},
   "outputs": [],
   "source": [
    "# Keep biomarker_wide, demographics, enhanced_met, med_admin_wide, and mortality\n",
    "del biomarker_win\n",
    "del biomarkers"
   ]
  },
  {
   "cell_type": "markdown",
   "id": "66b7983b",
   "metadata": {},
   "source": [
    "### 6. Insurance"
   ]
  },
  {
   "cell_type": "code",
   "execution_count": 314,
   "id": "0e811ffc",
   "metadata": {},
   "outputs": [],
   "source": [
    "insurance = pd.read_csv('Insurance.csv')"
   ]
  },
  {
   "cell_type": "code",
   "execution_count": 315,
   "id": "59fcbf02",
   "metadata": {},
   "outputs": [],
   "source": [
    "insurance = insurance[insurance['PatientID'].isin(train_IDs)]"
   ]
  },
  {
   "cell_type": "code",
   "execution_count": 316,
   "id": "ed2791fb",
   "metadata": {},
   "outputs": [
    {
     "data": {
      "text/plain": [
       "(51326, 14706)"
      ]
     },
     "execution_count": 316,
     "metadata": {},
     "output_type": "execute_result"
    }
   ],
   "source": [
    "row_ID(insurance)"
   ]
  },
  {
   "cell_type": "code",
   "execution_count": 317,
   "id": "070e01ed",
   "metadata": {},
   "outputs": [
    {
     "data": {
      "text/html": [
       "<div>\n",
       "<style scoped>\n",
       "    .dataframe tbody tr th:only-of-type {\n",
       "        vertical-align: middle;\n",
       "    }\n",
       "\n",
       "    .dataframe tbody tr th {\n",
       "        vertical-align: top;\n",
       "    }\n",
       "\n",
       "    .dataframe thead th {\n",
       "        text-align: right;\n",
       "    }\n",
       "</style>\n",
       "<table border=\"1\" class=\"dataframe\">\n",
       "  <thead>\n",
       "    <tr style=\"text-align: right;\">\n",
       "      <th></th>\n",
       "      <th>PatientID</th>\n",
       "      <th>PayerCategory</th>\n",
       "      <th>StartDate</th>\n",
       "      <th>EndDate</th>\n",
       "      <th>IsMedicareAdv</th>\n",
       "      <th>IsMedicareSupp</th>\n",
       "      <th>IsPartAOnly</th>\n",
       "      <th>IsPartBOnly</th>\n",
       "      <th>IsPartAandPartB</th>\n",
       "      <th>IsPartDOnly</th>\n",
       "      <th>IsManagedGovtPlan</th>\n",
       "      <th>IsManagedMedicaid</th>\n",
       "      <th>IsMedicareMedicaid</th>\n",
       "    </tr>\n",
       "  </thead>\n",
       "  <tbody>\n",
       "    <tr>\n",
       "      <th>48172</th>\n",
       "      <td>F41EA68474087</td>\n",
       "      <td>Commercial Health Plan</td>\n",
       "      <td>2020-01-01</td>\n",
       "      <td>2021-01-01</td>\n",
       "      <td>No/Unknown</td>\n",
       "      <td>No/Unknown</td>\n",
       "      <td>No/Unknown</td>\n",
       "      <td>No/Unknown</td>\n",
       "      <td>No/Unknown</td>\n",
       "      <td>No/Unknown</td>\n",
       "      <td>No/Unknown</td>\n",
       "      <td>No/Unknown</td>\n",
       "      <td>No/Unknown</td>\n",
       "    </tr>\n",
       "    <tr>\n",
       "      <th>50809</th>\n",
       "      <td>F79325FD78245</td>\n",
       "      <td>Commercial Health Plan</td>\n",
       "      <td>2020-08-01</td>\n",
       "      <td>2021-07-31</td>\n",
       "      <td>No/Unknown</td>\n",
       "      <td>No/Unknown</td>\n",
       "      <td>No/Unknown</td>\n",
       "      <td>No/Unknown</td>\n",
       "      <td>No/Unknown</td>\n",
       "      <td>No/Unknown</td>\n",
       "      <td>No/Unknown</td>\n",
       "      <td>No/Unknown</td>\n",
       "      <td>No/Unknown</td>\n",
       "    </tr>\n",
       "    <tr>\n",
       "      <th>7358</th>\n",
       "      <td>F8612658744A5</td>\n",
       "      <td>Self Pay</td>\n",
       "      <td>2018-11-13</td>\n",
       "      <td>NaN</td>\n",
       "      <td>No/Unknown</td>\n",
       "      <td>No/Unknown</td>\n",
       "      <td>No/Unknown</td>\n",
       "      <td>No/Unknown</td>\n",
       "      <td>No/Unknown</td>\n",
       "      <td>No/Unknown</td>\n",
       "      <td>No/Unknown</td>\n",
       "      <td>No/Unknown</td>\n",
       "      <td>No/Unknown</td>\n",
       "    </tr>\n",
       "    <tr>\n",
       "      <th>38496</th>\n",
       "      <td>FF734A7787CEB</td>\n",
       "      <td>Commercial Health Plan</td>\n",
       "      <td>NaN</td>\n",
       "      <td>2016-12-31</td>\n",
       "      <td>Yes</td>\n",
       "      <td>No/Unknown</td>\n",
       "      <td>No/Unknown</td>\n",
       "      <td>No/Unknown</td>\n",
       "      <td>No/Unknown</td>\n",
       "      <td>No/Unknown</td>\n",
       "      <td>No/Unknown</td>\n",
       "      <td>No/Unknown</td>\n",
       "      <td>No/Unknown</td>\n",
       "    </tr>\n",
       "    <tr>\n",
       "      <th>23064</th>\n",
       "      <td>FA8CB977C47EE</td>\n",
       "      <td>Medicare</td>\n",
       "      <td>2018-01-10</td>\n",
       "      <td>NaN</td>\n",
       "      <td>No/Unknown</td>\n",
       "      <td>No/Unknown</td>\n",
       "      <td>No/Unknown</td>\n",
       "      <td>No/Unknown</td>\n",
       "      <td>Yes</td>\n",
       "      <td>No/Unknown</td>\n",
       "      <td>No/Unknown</td>\n",
       "      <td>No/Unknown</td>\n",
       "      <td>No/Unknown</td>\n",
       "    </tr>\n",
       "  </tbody>\n",
       "</table>\n",
       "</div>"
      ],
      "text/plain": [
       "           PatientID           PayerCategory   StartDate     EndDate  \\\n",
       "48172  F41EA68474087  Commercial Health Plan  2020-01-01  2021-01-01   \n",
       "50809  F79325FD78245  Commercial Health Plan  2020-08-01  2021-07-31   \n",
       "7358   F8612658744A5                Self Pay  2018-11-13         NaN   \n",
       "38496  FF734A7787CEB  Commercial Health Plan         NaN  2016-12-31   \n",
       "23064  FA8CB977C47EE                Medicare  2018-01-10         NaN   \n",
       "\n",
       "      IsMedicareAdv IsMedicareSupp IsPartAOnly IsPartBOnly IsPartAandPartB  \\\n",
       "48172    No/Unknown     No/Unknown  No/Unknown  No/Unknown      No/Unknown   \n",
       "50809    No/Unknown     No/Unknown  No/Unknown  No/Unknown      No/Unknown   \n",
       "7358     No/Unknown     No/Unknown  No/Unknown  No/Unknown      No/Unknown   \n",
       "38496           Yes     No/Unknown  No/Unknown  No/Unknown      No/Unknown   \n",
       "23064    No/Unknown     No/Unknown  No/Unknown  No/Unknown             Yes   \n",
       "\n",
       "      IsPartDOnly IsManagedGovtPlan IsManagedMedicaid IsMedicareMedicaid  \n",
       "48172  No/Unknown        No/Unknown        No/Unknown         No/Unknown  \n",
       "50809  No/Unknown        No/Unknown        No/Unknown         No/Unknown  \n",
       "7358   No/Unknown        No/Unknown        No/Unknown         No/Unknown  \n",
       "38496  No/Unknown        No/Unknown        No/Unknown         No/Unknown  \n",
       "23064  No/Unknown        No/Unknown        No/Unknown         No/Unknown  "
      ]
     },
     "execution_count": 317,
     "metadata": {},
     "output_type": "execute_result"
    }
   ],
   "source": [
    "insurance.sample(5)"
   ]
  },
  {
   "cell_type": "code",
   "execution_count": 318,
   "id": "5dfbd4fc",
   "metadata": {},
   "outputs": [
    {
     "data": {
      "text/plain": [
       "Commercial Health Plan        25299\n",
       "Medicare                      14503\n",
       "Other Payer - Type Unknown     4210\n",
       "Patient Assistance Program     2913\n",
       "Other Government Program       2020\n",
       "Medicaid                       1604\n",
       "Self Pay                        765\n",
       "Workers Compensation             12\n",
       "Name: PayerCategory, dtype: int64"
      ]
     },
     "execution_count": 318,
     "metadata": {},
     "output_type": "execute_result"
    }
   ],
   "source": [
    "insurance.PayerCategory.value_counts()"
   ]
  },
  {
   "cell_type": "code",
   "execution_count": 319,
   "id": "3b46d53c",
   "metadata": {},
   "outputs": [
    {
     "data": {
      "text/plain": [
       "0.11970541246152047"
      ]
     },
     "execution_count": 319,
     "metadata": {},
     "output_type": "execute_result"
    }
   ],
   "source": [
    "# Percent missing start date. \n",
    "insurance['StartDate'].isna().sum()/len(insurance)"
   ]
  },
  {
   "cell_type": "code",
   "execution_count": 320,
   "id": "19ab81ea",
   "metadata": {},
   "outputs": [
    {
     "data": {
      "text/plain": [
       "0.7382613100572809"
      ]
     },
     "execution_count": 320,
     "metadata": {},
     "output_type": "execute_result"
    }
   ],
   "source": [
    "# Percent missing end date. \n",
    "insurance['EndDate'].isna().sum()/len(insurance)"
   ]
  },
  {
   "cell_type": "code",
   "execution_count": 321,
   "id": "dfab18cf",
   "metadata": {},
   "outputs": [
    {
     "data": {
      "text/plain": [
       "count    14706.000000\n",
       "mean         3.490140\n",
       "std          6.999437\n",
       "min          1.000000\n",
       "25%          2.000000\n",
       "50%          2.000000\n",
       "75%          3.000000\n",
       "max        156.000000\n",
       "Name: PatientID, dtype: float64"
      ]
     },
     "execution_count": 321,
     "metadata": {},
     "output_type": "execute_result"
    }
   ],
   "source": [
    "# Brief statistics on number of insurances listed for each patient. \n",
    "(\n",
    "    insurance\n",
    "    .groupby('PatientID')['PatientID'].count()\n",
    "    .describe()\n",
    ")"
   ]
  },
  {
   "cell_type": "markdown",
   "id": "cf0e669e",
   "metadata": {},
   "source": [
    "**The insurance table contains patient insurance/payer information. Patients may have multiple payer categories concurrently. Start date is populated roughly 90% of the time, while end date is populated about 25% of the time. This mutiple-row-per-patient table will be transformed into a single-row-per-patient table. Indicator variables for each payer category active at time of metastatic diagnosis will be made as columns. Insurance will be considered active if start date is less than 30 days from metastatic diagnosis regardless of end date.** "
   ]
  },
  {
   "cell_type": "code",
   "execution_count": 322,
   "id": "388c110e",
   "metadata": {},
   "outputs": [],
   "source": [
    "insurance.loc[:, 'StartDate'] = pd.to_datetime(insurance['StartDate'])"
   ]
  },
  {
   "cell_type": "code",
   "execution_count": 323,
   "id": "db98cdee",
   "metadata": {},
   "outputs": [],
   "source": [
    "insurance = pd.merge(insurance, enhanced_met[['PatientID', 'met_date']], on = 'PatientID', how = 'left')"
   ]
  },
  {
   "cell_type": "code",
   "execution_count": 324,
   "id": "ab05eada",
   "metadata": {},
   "outputs": [
    {
     "data": {
      "text/plain": [
       "count    45182.000000\n",
       "mean      2015.522133\n",
       "std          6.889924\n",
       "min       1900.000000\n",
       "25%       2014.000000\n",
       "50%       2017.000000\n",
       "75%       2020.000000\n",
       "max       2022.000000\n",
       "Name: StartDate, dtype: float64"
      ]
     },
     "execution_count": 324,
     "metadata": {},
     "output_type": "execute_result"
    }
   ],
   "source": [
    "(insurance['StartDate']).dt.year.describe()"
   ]
  },
  {
   "cell_type": "code",
   "execution_count": 325,
   "id": "57260d0a",
   "metadata": {},
   "outputs": [],
   "source": [
    "# Remove years with start dates less than 1920 which is likely a coding error. \n",
    "insurance = insurance[(insurance['StartDate']).dt.year >= 1920]"
   ]
  },
  {
   "cell_type": "code",
   "execution_count": 326,
   "id": "422bcfdb",
   "metadata": {},
   "outputs": [],
   "source": [
    "insurance.loc[:, 'insurance_date_diff'] = (insurance['StartDate'] - insurance['met_date']).dt.days"
   ]
  },
  {
   "cell_type": "code",
   "execution_count": 327,
   "id": "0fb1d1d5",
   "metadata": {},
   "outputs": [],
   "source": [
    "insurance_win = insurance[insurance['insurance_date_diff'] <= 30]"
   ]
  },
  {
   "cell_type": "code",
   "execution_count": 328,
   "id": "73362f6e",
   "metadata": {},
   "outputs": [
    {
     "data": {
      "text/plain": [
       "(45169, 13840)"
      ]
     },
     "execution_count": 328,
     "metadata": {},
     "output_type": "execute_result"
    }
   ],
   "source": [
    "row_ID(insurance)"
   ]
  },
  {
   "cell_type": "code",
   "execution_count": 329,
   "id": "5551be84",
   "metadata": {},
   "outputs": [
    {
     "name": "stderr",
     "output_type": "stream",
     "text": [
      "/Users/xavierorcutt/Dropbox/ist_project/myenv/lib/python3.7/site-packages/pandas/core/indexing.py:1667: SettingWithCopyWarning: \n",
      "A value is trying to be set on a copy of a slice from a DataFrame.\n",
      "Try using .loc[row_indexer,col_indexer] = value instead\n",
      "\n",
      "See the caveats in the documentation: https://pandas.pydata.org/pandas-docs/stable/user_guide/indexing.html#returning-a-view-versus-a-copy\n",
      "  self.obj[key] = value\n"
     ]
    }
   ],
   "source": [
    "# Recode payer category \n",
    "conditions = [\n",
    "    (insurance_win['IsMedicareAdv'] == 'Yes') | \n",
    "    (insurance_win['IsPartAOnly'] == 'Yes') | \n",
    "    (insurance_win['IsPartBOnly'] == 'Yes') |\n",
    "    (insurance_win['IsPartAandPartB'] == 'Yes') |\n",
    "    (insurance_win['IsPartDOnly'] == 'Yes'),\n",
    "    (insurance_win['IsManagedGovtPlan'] == 'Yes'),\n",
    "    (insurance_win['IsManagedMedicaid'] == 'Yes'),\n",
    "    (insurance_win['IsMedicareMedicaid'] == 'Yes')]\n",
    "\n",
    "choices = ['Medicare', 'Other Government Program', 'Medicaid', 'medicare_medicaid']\n",
    "\n",
    "insurance_win.loc[:, 'payer_category'] = np.select(conditions, choices, insurance_win['PayerCategory'])"
   ]
  },
  {
   "cell_type": "code",
   "execution_count": 330,
   "id": "f8a0c2b5",
   "metadata": {},
   "outputs": [
    {
     "data": {
      "text/plain": [
       "Medicare                      0.483129\n",
       "Commercial Health Plan        0.331973\n",
       "Other Payer - Type Unknown    0.070159\n",
       "Other Government Program      0.035716\n",
       "Medicaid                      0.030363\n",
       "Patient Assistance Program    0.022290\n",
       "medicare_medicaid             0.019613\n",
       "Self Pay                      0.006450\n",
       "Workers Compensation          0.000307\n",
       "Name: payer_category, dtype: float64"
      ]
     },
     "execution_count": 330,
     "metadata": {},
     "output_type": "execute_result"
    }
   ],
   "source": [
    "insurance_win.payer_category.value_counts(normalize = True)"
   ]
  },
  {
   "cell_type": "code",
   "execution_count": 331,
   "id": "ff3e4e1f",
   "metadata": {},
   "outputs": [
    {
     "data": {
      "text/plain": [
       "Commercial Health Plan        0.492124\n",
       "Medicare                      0.348778\n",
       "Other Payer - Type Unknown    0.073275\n",
       "Other Government Program      0.034707\n",
       "Patient Assistance Program    0.022290\n",
       "Medicaid                      0.022070\n",
       "Self Pay                      0.006450\n",
       "Workers Compensation          0.000307\n",
       "Name: PayerCategory, dtype: float64"
      ]
     },
     "execution_count": 331,
     "metadata": {},
     "output_type": "execute_result"
    }
   ],
   "source": [
    "insurance_win.PayerCategory.value_counts(normalize = True)"
   ]
  },
  {
   "cell_type": "markdown",
   "id": "4c7cc3d0",
   "metadata": {},
   "source": [
    "#### Medicare"
   ]
  },
  {
   "cell_type": "code",
   "execution_count": 332,
   "id": "bc2b6f23",
   "metadata": {},
   "outputs": [],
   "source": [
    "insurance_win.loc[:, 'medicare'] = np.where(insurance_win['payer_category'] == 'Medicare', 1, 0)"
   ]
  },
  {
   "cell_type": "markdown",
   "id": "486a0157",
   "metadata": {},
   "source": [
    "#### Medicaid"
   ]
  },
  {
   "cell_type": "code",
   "execution_count": 333,
   "id": "5957e5d5",
   "metadata": {},
   "outputs": [],
   "source": [
    "insurance_win.loc[:, 'medicaid'] = np.where(insurance_win['payer_category'] == 'Medicaid', 1, 0)"
   ]
  },
  {
   "cell_type": "markdown",
   "id": "1f065116",
   "metadata": {},
   "source": [
    "#### Medicare/Medicaid "
   ]
  },
  {
   "cell_type": "code",
   "execution_count": 334,
   "id": "d1f79dd3",
   "metadata": {},
   "outputs": [],
   "source": [
    "insurance_win.loc[:, 'medicare_medicaid'] = np.where(insurance_win['payer_category'] == 'medicare_medicaid', 1, 0)"
   ]
  },
  {
   "cell_type": "markdown",
   "id": "dc322c58",
   "metadata": {},
   "source": [
    "#### Commercial "
   ]
  },
  {
   "cell_type": "code",
   "execution_count": 335,
   "id": "523bc47f",
   "metadata": {},
   "outputs": [],
   "source": [
    "insurance_win.loc[:, 'commercial'] = np.where(insurance_win['payer_category'] == 'Commercial Health Plan', 1, 0)"
   ]
  },
  {
   "cell_type": "markdown",
   "id": "4e695de6",
   "metadata": {},
   "source": [
    "#### Patient Assistance Programs "
   ]
  },
  {
   "cell_type": "code",
   "execution_count": 336,
   "id": "a860f663",
   "metadata": {},
   "outputs": [],
   "source": [
    "insurance_win.loc[:, 'patient_assistance'] = np.where(insurance_win['payer_category'] == 'Patient Assistance Program', 1, 0)"
   ]
  },
  {
   "cell_type": "markdown",
   "id": "68985960",
   "metadata": {},
   "source": [
    "#### Other Government Program "
   ]
  },
  {
   "cell_type": "code",
   "execution_count": 337,
   "id": "18a1f4cd",
   "metadata": {},
   "outputs": [],
   "source": [
    "insurance_win.loc[:, 'other_govt'] = np.where(insurance_win['payer_category'] == 'Other Government Program', 1, 0)"
   ]
  },
  {
   "cell_type": "markdown",
   "id": "6f0bf944",
   "metadata": {},
   "source": [
    "#### Self Pay "
   ]
  },
  {
   "cell_type": "code",
   "execution_count": 338,
   "id": "487f6709",
   "metadata": {},
   "outputs": [],
   "source": [
    "insurance_win.loc[:, 'self_pay'] = np.where(insurance_win['payer_category'] == 'Self Pay', 1, 0)"
   ]
  },
  {
   "cell_type": "markdown",
   "id": "3b9f2a59",
   "metadata": {},
   "source": [
    "#### Other Payer"
   ]
  },
  {
   "cell_type": "code",
   "execution_count": 339,
   "id": "c8ff23f6",
   "metadata": {},
   "outputs": [],
   "source": [
    "insurance_win.loc[:, 'other'] = np.where(insurance_win['payer_category'] == 'Other Payer - Type Unknown', 1, 0)"
   ]
  },
  {
   "cell_type": "markdown",
   "id": "2fe4188f",
   "metadata": {},
   "source": [
    "#### Condense "
   ]
  },
  {
   "cell_type": "code",
   "execution_count": 340,
   "id": "6978b710",
   "metadata": {},
   "outputs": [],
   "source": [
    "# After dropping 'insurance_date_diff', add columns by PatientID.\n",
    "insurance_wide = (\n",
    "    insurance_win\n",
    "    .drop(columns = ['insurance_date_diff'])\n",
    "    .groupby('PatientID').sum()\n",
    ")"
   ]
  },
  {
   "cell_type": "code",
   "execution_count": 341,
   "id": "98c9e706",
   "metadata": {},
   "outputs": [],
   "source": [
    "# Set any value greater than 1 to 1; leave 0 unchanged. \n",
    "insurance_wide = (\n",
    "    insurance_wide\n",
    "    .mask(insurance_wide > 1, 1)\n",
    "    .reset_index()\n",
    ")"
   ]
  },
  {
   "cell_type": "code",
   "execution_count": 342,
   "id": "bf5ec530",
   "metadata": {},
   "outputs": [
    {
     "data": {
      "text/plain": [
       "(11168, 11168)"
      ]
     },
     "execution_count": 342,
     "metadata": {},
     "output_type": "execute_result"
    }
   ],
   "source": [
    "row_ID(insurance_wide)"
   ]
  },
  {
   "cell_type": "code",
   "execution_count": 343,
   "id": "25f9c0e0",
   "metadata": {},
   "outputs": [],
   "source": [
    "# Append missing training IDs.\n",
    "insurance_wide = (\n",
    "    insurance_wide\n",
    "    .append(\n",
    "        pd.Series(train_IDs)[~pd.Series(train_IDs).isin(insurance_wide['PatientID'])].to_frame(name = 'PatientID'),\n",
    "        sort = False)\n",
    ")"
   ]
  },
  {
   "cell_type": "code",
   "execution_count": 344,
   "id": "9b748cce",
   "metadata": {},
   "outputs": [
    {
     "data": {
      "text/plain": [
       "(15141, 15141)"
      ]
     },
     "execution_count": 344,
     "metadata": {},
     "output_type": "execute_result"
    }
   ],
   "source": [
    "row_ID(insurance_wide)"
   ]
  },
  {
   "cell_type": "code",
   "execution_count": 345,
   "id": "b6ade656",
   "metadata": {},
   "outputs": [],
   "source": [
    "insurance_wide = insurance_wide.fillna(0)"
   ]
  },
  {
   "cell_type": "code",
   "execution_count": 346,
   "id": "8251a84c",
   "metadata": {},
   "outputs": [
    {
     "data": {
      "text/plain": [
       "0.7375998943266627"
      ]
     },
     "execution_count": 346,
     "metadata": {},
     "output_type": "execute_result"
    }
   ],
   "source": [
    "# Percent of patients with at least one insurance documented with start date prior to 30 days from metastatic diagnosis.\n",
    "insurance_wide.eq(1).any(1).sum()/insurance_wide.shape[0]"
   ]
  },
  {
   "cell_type": "code",
   "execution_count": 347,
   "id": "5cb0f843",
   "metadata": {},
   "outputs": [
    {
     "data": {
      "text/plain": [
       "medicare              0.542765\n",
       "commercial            0.368073\n",
       "other                 0.088700\n",
       "other_govt            0.040882\n",
       "medicaid              0.035665\n",
       "medicare_medicaid     0.028598\n",
       "patient_assistance    0.027673\n",
       "self_pay              0.008916\n",
       "dtype: float64"
      ]
     },
     "execution_count": 347,
     "metadata": {},
     "output_type": "execute_result"
    }
   ],
   "source": [
    "# Percentage breakdown of insurance by type at time of metastatic diagnosis.\n",
    "(insurance_wide.iloc[:, 1:9].sum()/insurance_wide.shape[0]).sort_values(ascending = False)"
   ]
  },
  {
   "cell_type": "code",
   "execution_count": 348,
   "id": "c597d0e7",
   "metadata": {},
   "outputs": [
    {
     "data": {
      "text/html": [
       "<div>\n",
       "<style scoped>\n",
       "    .dataframe tbody tr th:only-of-type {\n",
       "        vertical-align: middle;\n",
       "    }\n",
       "\n",
       "    .dataframe tbody tr th {\n",
       "        vertical-align: top;\n",
       "    }\n",
       "\n",
       "    .dataframe thead th {\n",
       "        text-align: right;\n",
       "    }\n",
       "</style>\n",
       "<table border=\"1\" class=\"dataframe\">\n",
       "  <thead>\n",
       "    <tr style=\"text-align: right;\">\n",
       "      <th></th>\n",
       "      <th>PatientID</th>\n",
       "      <th>medicare</th>\n",
       "      <th>medicaid</th>\n",
       "      <th>medicare_medicaid</th>\n",
       "      <th>commercial</th>\n",
       "      <th>patient_assistance</th>\n",
       "      <th>other_govt</th>\n",
       "      <th>self_pay</th>\n",
       "      <th>other</th>\n",
       "    </tr>\n",
       "  </thead>\n",
       "  <tbody>\n",
       "    <tr>\n",
       "      <th>1346</th>\n",
       "      <td>F1F31921E98C2</td>\n",
       "      <td>1.0</td>\n",
       "      <td>0.0</td>\n",
       "      <td>0.0</td>\n",
       "      <td>0.0</td>\n",
       "      <td>0.0</td>\n",
       "      <td>0.0</td>\n",
       "      <td>0.0</td>\n",
       "      <td>0.0</td>\n",
       "    </tr>\n",
       "    <tr>\n",
       "      <th>188</th>\n",
       "      <td>F0460D03FD269</td>\n",
       "      <td>1.0</td>\n",
       "      <td>0.0</td>\n",
       "      <td>0.0</td>\n",
       "      <td>0.0</td>\n",
       "      <td>0.0</td>\n",
       "      <td>0.0</td>\n",
       "      <td>0.0</td>\n",
       "      <td>0.0</td>\n",
       "    </tr>\n",
       "    <tr>\n",
       "      <th>10615</th>\n",
       "      <td>FF2E2F87964C8</td>\n",
       "      <td>0.0</td>\n",
       "      <td>0.0</td>\n",
       "      <td>0.0</td>\n",
       "      <td>1.0</td>\n",
       "      <td>0.0</td>\n",
       "      <td>0.0</td>\n",
       "      <td>0.0</td>\n",
       "      <td>0.0</td>\n",
       "    </tr>\n",
       "    <tr>\n",
       "      <th>2346</th>\n",
       "      <td>F35141F5AC85B</td>\n",
       "      <td>1.0</td>\n",
       "      <td>0.0</td>\n",
       "      <td>0.0</td>\n",
       "      <td>0.0</td>\n",
       "      <td>0.0</td>\n",
       "      <td>0.0</td>\n",
       "      <td>0.0</td>\n",
       "      <td>0.0</td>\n",
       "    </tr>\n",
       "    <tr>\n",
       "      <th>7304</th>\n",
       "      <td>F63F514657CCE</td>\n",
       "      <td>0.0</td>\n",
       "      <td>0.0</td>\n",
       "      <td>0.0</td>\n",
       "      <td>0.0</td>\n",
       "      <td>0.0</td>\n",
       "      <td>0.0</td>\n",
       "      <td>0.0</td>\n",
       "      <td>0.0</td>\n",
       "    </tr>\n",
       "  </tbody>\n",
       "</table>\n",
       "</div>"
      ],
      "text/plain": [
       "           PatientID  medicare  medicaid  medicare_medicaid  commercial  \\\n",
       "1346   F1F31921E98C2       1.0       0.0                0.0         0.0   \n",
       "188    F0460D03FD269       1.0       0.0                0.0         0.0   \n",
       "10615  FF2E2F87964C8       0.0       0.0                0.0         1.0   \n",
       "2346   F35141F5AC85B       1.0       0.0                0.0         0.0   \n",
       "7304   F63F514657CCE       0.0       0.0                0.0         0.0   \n",
       "\n",
       "       patient_assistance  other_govt  self_pay  other  \n",
       "1346                  0.0         0.0       0.0    0.0  \n",
       "188                   0.0         0.0       0.0    0.0  \n",
       "10615                 0.0         0.0       0.0    0.0  \n",
       "2346                  0.0         0.0       0.0    0.0  \n",
       "7304                  0.0         0.0       0.0    0.0  "
      ]
     },
     "execution_count": 348,
     "metadata": {},
     "output_type": "execute_result"
    }
   ],
   "source": [
    "insurance_wide.sample(5)"
   ]
  },
  {
   "cell_type": "code",
   "execution_count": 349,
   "id": "a38012be",
   "metadata": {},
   "outputs": [
    {
     "name": "stdout",
     "output_type": "stream",
     "text": [
      "Variable         Type         Data/Info\n",
      "---------------------------------------\n",
      "biomarker_wide   DataFrame               PatientID brca<...>n[15141 rows x 2 columns]\n",
      "demographics     DataFrame               PatientID Gend<...>n[15141 rows x 6 columns]\n",
      "enhanced_met     DataFrame               PatientID diag<...>[15141 rows x 18 columns]\n",
      "insurance        DataFrame               PatientID     <...>[45169 rows x 15 columns]\n",
      "insurance_wide   DataFrame               PatientID  med<...>n[15141 rows x 9 columns]\n",
      "insurance_win    DataFrame               PatientID     <...>[22791 rows x 24 columns]\n",
      "med_admin_wide   DataFrame               PatientID  ste<...>[15141 rows x 13 columns]\n",
      "mortality        DataFrame               PatientID  dea<...>n[15141 rows x 3 columns]\n"
     ]
    }
   ],
   "source": [
    "%whos DataFrame"
   ]
  },
  {
   "cell_type": "code",
   "execution_count": 350,
   "id": "3aa23a25",
   "metadata": {},
   "outputs": [],
   "source": [
    "# Keep biomarker_wide, demographics, enhanced_met, insurance_wide, med_admin_wide, and mortality\n",
    "del insurance\n",
    "del insurance_win"
   ]
  },
  {
   "cell_type": "markdown",
   "id": "7491c635",
   "metadata": {},
   "source": [
    "### 7. ECOG"
   ]
  },
  {
   "cell_type": "code",
   "execution_count": 351,
   "id": "33cc750c",
   "metadata": {},
   "outputs": [],
   "source": [
    "ecog = pd.read_csv('ECOG.csv')"
   ]
  },
  {
   "cell_type": "code",
   "execution_count": 352,
   "id": "604cce10",
   "metadata": {},
   "outputs": [],
   "source": [
    "ecog = ecog[ecog['PatientID'].isin(train_IDs)]"
   ]
  },
  {
   "cell_type": "code",
   "execution_count": 353,
   "id": "f3f75ed9",
   "metadata": {},
   "outputs": [
    {
     "data": {
      "text/plain": [
       "(210570, 11805)"
      ]
     },
     "execution_count": 353,
     "metadata": {},
     "output_type": "execute_result"
    }
   ],
   "source": [
    "row_ID(ecog)"
   ]
  },
  {
   "cell_type": "code",
   "execution_count": 354,
   "id": "37ac6e52",
   "metadata": {},
   "outputs": [
    {
     "data": {
      "text/html": [
       "<div>\n",
       "<style scoped>\n",
       "    .dataframe tbody tr th:only-of-type {\n",
       "        vertical-align: middle;\n",
       "    }\n",
       "\n",
       "    .dataframe tbody tr th {\n",
       "        vertical-align: top;\n",
       "    }\n",
       "\n",
       "    .dataframe thead th {\n",
       "        text-align: right;\n",
       "    }\n",
       "</style>\n",
       "<table border=\"1\" class=\"dataframe\">\n",
       "  <thead>\n",
       "    <tr style=\"text-align: right;\">\n",
       "      <th></th>\n",
       "      <th>PatientID</th>\n",
       "      <th>EcogDate</th>\n",
       "      <th>EcogValue</th>\n",
       "    </tr>\n",
       "  </thead>\n",
       "  <tbody>\n",
       "    <tr>\n",
       "      <th>34762</th>\n",
       "      <td>F35790A43FD15</td>\n",
       "      <td>2021-08-19</td>\n",
       "      <td>1</td>\n",
       "    </tr>\n",
       "    <tr>\n",
       "      <th>193343</th>\n",
       "      <td>F6C316BF53400</td>\n",
       "      <td>2022-01-03</td>\n",
       "      <td>1</td>\n",
       "    </tr>\n",
       "    <tr>\n",
       "      <th>91582</th>\n",
       "      <td>F149DBEB7324F</td>\n",
       "      <td>2021-11-29</td>\n",
       "      <td>0</td>\n",
       "    </tr>\n",
       "    <tr>\n",
       "      <th>8296</th>\n",
       "      <td>FDF2B76F9B409</td>\n",
       "      <td>2020-05-01</td>\n",
       "      <td>1</td>\n",
       "    </tr>\n",
       "    <tr>\n",
       "      <th>80808</th>\n",
       "      <td>FB60E55085460</td>\n",
       "      <td>2017-08-22</td>\n",
       "      <td>0</td>\n",
       "    </tr>\n",
       "  </tbody>\n",
       "</table>\n",
       "</div>"
      ],
      "text/plain": [
       "            PatientID    EcogDate  EcogValue\n",
       "34762   F35790A43FD15  2021-08-19          1\n",
       "193343  F6C316BF53400  2022-01-03          1\n",
       "91582   F149DBEB7324F  2021-11-29          0\n",
       "8296    FDF2B76F9B409  2020-05-01          1\n",
       "80808   FB60E55085460  2017-08-22          0"
      ]
     },
     "execution_count": 354,
     "metadata": {},
     "output_type": "execute_result"
    }
   ],
   "source": [
    "ecog.sample(5)"
   ]
  },
  {
   "cell_type": "code",
   "execution_count": 355,
   "id": "76ccd590",
   "metadata": {},
   "outputs": [
    {
     "data": {
      "text/plain": [
       "1    0.444451\n",
       "0    0.379109\n",
       "2    0.137451\n",
       "3    0.035727\n",
       "4    0.003263\n",
       "Name: EcogValue, dtype: float64"
      ]
     },
     "execution_count": 355,
     "metadata": {},
     "output_type": "execute_result"
    }
   ],
   "source": [
    "ecog.EcogValue.value_counts(dropna = False, normalize = True)"
   ]
  },
  {
   "cell_type": "markdown",
   "id": "70882647",
   "metadata": {},
   "source": [
    "**The ECOG table is a longitudinal record of structured ECOG scores captured in the EHR for each patient. Many patients have multiple ECOG scores reported. A new dataframe will be built where one ECOG score will be assigned to each patient. The index date will be date of advanced diagnosis with an elgible window period of +30 days to -90 days from advanced diagnosis. The ECOG score closest to index date will be assigned to the patient. In the case of two ECOG scores on the same day or equidistant but on opposite sides of the index date, the higher ECOG score (worse performance) will be selected.** \n",
    "\n",
    "**BaselineECOG is a composite table that selects one ECOG score within +7 days and -30 days of a line of therapy. Patients might have two baseline ECOG values for line number 1 due to maintenance therapy. BaselineECOG will not be used for creating baseline models.** "
   ]
  },
  {
   "cell_type": "code",
   "execution_count": 356,
   "id": "5eccc80d",
   "metadata": {},
   "outputs": [],
   "source": [
    "ecog = pd.merge(ecog, enhanced_met[['PatientID', 'met_date']], on = 'PatientID', how = 'left')"
   ]
  },
  {
   "cell_type": "code",
   "execution_count": 357,
   "id": "ceacccbe",
   "metadata": {},
   "outputs": [],
   "source": [
    "ecog.loc[:, 'EcogDate'] = pd.to_datetime(ecog['EcogDate'])      "
   ]
  },
  {
   "cell_type": "code",
   "execution_count": 358,
   "id": "77871cba",
   "metadata": {},
   "outputs": [],
   "source": [
    "ecog.loc[:, 'ecog_date_diff'] = (ecog['EcogDate'] - ecog['met_date']).dt.days"
   ]
  },
  {
   "cell_type": "code",
   "execution_count": 359,
   "id": "ec3d4c63",
   "metadata": {},
   "outputs": [],
   "source": [
    "ecog_win = ecog[(ecog['ecog_date_diff'] >= -90) & (ecog['ecog_date_diff'] <= 30)]"
   ]
  },
  {
   "cell_type": "code",
   "execution_count": 360,
   "id": "9eb67d82",
   "metadata": {},
   "outputs": [
    {
     "data": {
      "text/plain": [
       "(10712, 4903)"
      ]
     },
     "execution_count": 360,
     "metadata": {},
     "output_type": "execute_result"
    }
   ],
   "source": [
    "row_ID(ecog_win)"
   ]
  },
  {
   "cell_type": "code",
   "execution_count": 361,
   "id": "fb130e11",
   "metadata": {},
   "outputs": [
    {
     "name": "stderr",
     "output_type": "stream",
     "text": [
      "/Users/xavierorcutt/Dropbox/ist_project/myenv/lib/python3.7/site-packages/pandas/core/indexing.py:1773: SettingWithCopyWarning: \n",
      "A value is trying to be set on a copy of a slice from a DataFrame.\n",
      "Try using .loc[row_indexer,col_indexer] = value instead\n",
      "\n",
      "See the caveats in the documentation: https://pandas.pydata.org/pandas-docs/stable/user_guide/indexing.html#returning-a-view-versus-a-copy\n",
      "  self._setitem_single_column(ilocs[0], value, pi)\n"
     ]
    }
   ],
   "source": [
    "# Time from metastatic diagnosis to ECOG date will be converted to an absolute value. \n",
    "ecog_win.loc[:, 'ecog_date_diff'] = ecog_win['ecog_date_diff'].abs()"
   ]
  },
  {
   "cell_type": "code",
   "execution_count": 362,
   "id": "52c75786",
   "metadata": {},
   "outputs": [],
   "source": [
    "# Sort values with ECOG nearest to time of diagnosis as top row (and largest ECOG if multiple ECOGs that day) then select top row.   ECOG date nearest to day of diagnosis as top row and largest ES\n",
    "ecog_diagnosis_wide = (\n",
    "    ecog_win\n",
    "    .sort_values(by = ['PatientID', 'ecog_date_diff', 'EcogValue'], ascending = [True, True, False])\n",
    "    .drop_duplicates(subset = ['PatientID'], keep = 'first' )\n",
    "    .filter(items = ['PatientID', 'EcogValue'])\n",
    "    .rename(columns = {'EcogValue': 'ecog_diagnosis'})\n",
    ")"
   ]
  },
  {
   "cell_type": "code",
   "execution_count": 363,
   "id": "c255eaaa",
   "metadata": {},
   "outputs": [
    {
     "data": {
      "text/plain": [
       "(4903, 4903)"
      ]
     },
     "execution_count": 363,
     "metadata": {},
     "output_type": "execute_result"
    }
   ],
   "source": [
    "row_ID(ecog_diagnosis_wide)"
   ]
  },
  {
   "cell_type": "code",
   "execution_count": 364,
   "id": "a5b095db",
   "metadata": {},
   "outputs": [],
   "source": [
    "# Append missing training IDs. \n",
    "ecog_diagnosis_wide = (\n",
    "    ecog_diagnosis_wide\n",
    "    .append(\n",
    "        pd.Series(train_IDs)[~pd.Series(train_IDs).isin(ecog_diagnosis_wide['PatientID'])].to_frame(name = 'PatientID'),\n",
    "        sort = False)\n",
    "    .fillna('unknown')\n",
    ")"
   ]
  },
  {
   "cell_type": "code",
   "execution_count": 365,
   "id": "269d322b",
   "metadata": {},
   "outputs": [
    {
     "data": {
      "text/plain": [
       "(15141, 15141)"
      ]
     },
     "execution_count": 365,
     "metadata": {},
     "output_type": "execute_result"
    }
   ],
   "source": [
    "row_ID(ecog_diagnosis_wide)"
   ]
  },
  {
   "cell_type": "code",
   "execution_count": 366,
   "id": "f0afcadc",
   "metadata": {},
   "outputs": [
    {
     "data": {
      "text/html": [
       "<div>\n",
       "<style scoped>\n",
       "    .dataframe tbody tr th:only-of-type {\n",
       "        vertical-align: middle;\n",
       "    }\n",
       "\n",
       "    .dataframe tbody tr th {\n",
       "        vertical-align: top;\n",
       "    }\n",
       "\n",
       "    .dataframe thead th {\n",
       "        text-align: right;\n",
       "    }\n",
       "</style>\n",
       "<table border=\"1\" class=\"dataframe\">\n",
       "  <thead>\n",
       "    <tr style=\"text-align: right;\">\n",
       "      <th></th>\n",
       "      <th>PatientID</th>\n",
       "      <th>ecog_diagnosis</th>\n",
       "    </tr>\n",
       "  </thead>\n",
       "  <tbody>\n",
       "    <tr>\n",
       "      <th>41613</th>\n",
       "      <td>F20A18417EF66</td>\n",
       "      <td>1.0</td>\n",
       "    </tr>\n",
       "    <tr>\n",
       "      <th>5634</th>\n",
       "      <td>F58F1F209E4D2</td>\n",
       "      <td>unknown</td>\n",
       "    </tr>\n",
       "    <tr>\n",
       "      <th>7712</th>\n",
       "      <td>F9EC939A00537</td>\n",
       "      <td>unknown</td>\n",
       "    </tr>\n",
       "    <tr>\n",
       "      <th>5861</th>\n",
       "      <td>FF2C295246656</td>\n",
       "      <td>unknown</td>\n",
       "    </tr>\n",
       "    <tr>\n",
       "      <th>13363</th>\n",
       "      <td>F49283C39EDA4</td>\n",
       "      <td>unknown</td>\n",
       "    </tr>\n",
       "  </tbody>\n",
       "</table>\n",
       "</div>"
      ],
      "text/plain": [
       "           PatientID ecog_diagnosis\n",
       "41613  F20A18417EF66            1.0\n",
       "5634   F58F1F209E4D2        unknown\n",
       "7712   F9EC939A00537        unknown\n",
       "5861   FF2C295246656        unknown\n",
       "13363  F49283C39EDA4        unknown"
      ]
     },
     "execution_count": 366,
     "metadata": {},
     "output_type": "execute_result"
    }
   ],
   "source": [
    "ecog_diagnosis_wide.sample(5)"
   ]
  },
  {
   "cell_type": "code",
   "execution_count": 367,
   "id": "a1327237",
   "metadata": {},
   "outputs": [
    {
     "data": {
      "text/plain": [
       "unknown    0.676177\n",
       "0.0        0.143518\n",
       "1.0        0.125619\n",
       "2.0        0.040024\n",
       "3.0        0.013870\n",
       "4.0        0.000793\n",
       "Name: ecog_diagnosis, dtype: float64"
      ]
     },
     "execution_count": 367,
     "metadata": {},
     "output_type": "execute_result"
    }
   ],
   "source": [
    "ecog_diagnosis_wide['ecog_diagnosis'].value_counts(normalize = True, dropna = False)"
   ]
  },
  {
   "cell_type": "code",
   "execution_count": 368,
   "id": "2315d9e2",
   "metadata": {},
   "outputs": [
    {
     "name": "stdout",
     "output_type": "stream",
     "text": [
      "Variable              Type         Data/Info\n",
      "--------------------------------------------\n",
      "biomarker_wide        DataFrame               PatientID brca<...>n[15141 rows x 2 columns]\n",
      "demographics          DataFrame               PatientID Gend<...>n[15141 rows x 6 columns]\n",
      "ecog                  DataFrame                PatientID   E<...>[210570 rows x 5 columns]\n",
      "ecog_diagnosis_wide   DataFrame                PatientID eco<...>n[15141 rows x 2 columns]\n",
      "ecog_win              DataFrame                PatientID   E<...>n[10712 rows x 5 columns]\n",
      "enhanced_met          DataFrame               PatientID diag<...>[15141 rows x 18 columns]\n",
      "insurance_wide        DataFrame               PatientID  med<...>n[15141 rows x 9 columns]\n",
      "med_admin_wide        DataFrame               PatientID  ste<...>[15141 rows x 13 columns]\n",
      "mortality             DataFrame               PatientID  dea<...>n[15141 rows x 3 columns]\n"
     ]
    }
   ],
   "source": [
    "%whos DataFrame"
   ]
  },
  {
   "cell_type": "code",
   "execution_count": 369,
   "id": "0a214894",
   "metadata": {},
   "outputs": [],
   "source": [
    "# Keep biomarker_wide, demographics, ecog_diagnosis_wide, enhanced_met, insurance_wide, med_admin_wide, and mortality\n",
    "del ecog\n",
    "del ecog_win"
   ]
  },
  {
   "cell_type": "markdown",
   "id": "1f38fc48",
   "metadata": {},
   "source": [
    "### 8. Vitals"
   ]
  },
  {
   "cell_type": "code",
   "execution_count": 370,
   "id": "4d4c08c3",
   "metadata": {},
   "outputs": [],
   "source": [
    "vitals = pd.read_csv('Vitals.csv')"
   ]
  },
  {
   "cell_type": "code",
   "execution_count": 371,
   "id": "c873aef5",
   "metadata": {},
   "outputs": [],
   "source": [
    "vitals = vitals[vitals['PatientID'].isin(train_IDs)]"
   ]
  },
  {
   "cell_type": "code",
   "execution_count": 372,
   "id": "7744512a",
   "metadata": {},
   "outputs": [
    {
     "data": {
      "text/plain": [
       "(2912651, 15111)"
      ]
     },
     "execution_count": 372,
     "metadata": {},
     "output_type": "execute_result"
    }
   ],
   "source": [
    "row_ID(vitals)"
   ]
  },
  {
   "cell_type": "code",
   "execution_count": 373,
   "id": "375a01aa",
   "metadata": {},
   "outputs": [
    {
     "data": {
      "text/html": [
       "<div>\n",
       "<style scoped>\n",
       "    .dataframe tbody tr th:only-of-type {\n",
       "        vertical-align: middle;\n",
       "    }\n",
       "\n",
       "    .dataframe tbody tr th {\n",
       "        vertical-align: top;\n",
       "    }\n",
       "\n",
       "    .dataframe thead th {\n",
       "        text-align: right;\n",
       "    }\n",
       "</style>\n",
       "<table border=\"1\" class=\"dataframe\">\n",
       "  <thead>\n",
       "    <tr style=\"text-align: right;\">\n",
       "      <th></th>\n",
       "      <th>PatientID</th>\n",
       "      <th>TestDate</th>\n",
       "      <th>LOINC</th>\n",
       "      <th>Test</th>\n",
       "      <th>LabComponent</th>\n",
       "      <th>TestBaseName</th>\n",
       "      <th>TestUnits</th>\n",
       "      <th>TestUnitsCleaned</th>\n",
       "      <th>ResultDate</th>\n",
       "      <th>TestResult</th>\n",
       "      <th>TestResultCleaned</th>\n",
       "      <th>MinNorm</th>\n",
       "      <th>MinNormCleaned</th>\n",
       "      <th>MaxNorm</th>\n",
       "      <th>MaxNormCleaned</th>\n",
       "    </tr>\n",
       "  </thead>\n",
       "  <tbody>\n",
       "    <tr>\n",
       "      <th>1524639</th>\n",
       "      <td>F3900D18F0560</td>\n",
       "      <td>2015-01-26</td>\n",
       "      <td>59408-5</td>\n",
       "      <td>oxygen saturation in arterial blood by pulse o...</td>\n",
       "      <td>Oxygen saturation in Arterial blood by Pulse o...</td>\n",
       "      <td>oxygen saturation</td>\n",
       "      <td>%</td>\n",
       "      <td>%</td>\n",
       "      <td>NaN</td>\n",
       "      <td>96</td>\n",
       "      <td>96.000000</td>\n",
       "      <td>NaN</td>\n",
       "      <td>NaN</td>\n",
       "      <td>NaN</td>\n",
       "      <td>NaN</td>\n",
       "    </tr>\n",
       "    <tr>\n",
       "      <th>957792</th>\n",
       "      <td>F732AA4734B99</td>\n",
       "      <td>2018-01-17</td>\n",
       "      <td>8302-2</td>\n",
       "      <td>body height</td>\n",
       "      <td>Body Height</td>\n",
       "      <td>body height</td>\n",
       "      <td>in</td>\n",
       "      <td>cm</td>\n",
       "      <td>NaN</td>\n",
       "      <td>70.472</td>\n",
       "      <td>178.998880</td>\n",
       "      <td>NaN</td>\n",
       "      <td>NaN</td>\n",
       "      <td>NaN</td>\n",
       "      <td>NaN</td>\n",
       "    </tr>\n",
       "    <tr>\n",
       "      <th>2805438</th>\n",
       "      <td>F38B4B6A0EE56</td>\n",
       "      <td>2018-08-28</td>\n",
       "      <td>59408-5</td>\n",
       "      <td>oxygen saturation in arterial blood by pulse o...</td>\n",
       "      <td>Oxygen saturation in Arterial blood by Pulse o...</td>\n",
       "      <td>oxygen saturation</td>\n",
       "      <td>%</td>\n",
       "      <td>%</td>\n",
       "      <td>NaN</td>\n",
       "      <td>96</td>\n",
       "      <td>96.000000</td>\n",
       "      <td>NaN</td>\n",
       "      <td>NaN</td>\n",
       "      <td>NaN</td>\n",
       "      <td>NaN</td>\n",
       "    </tr>\n",
       "    <tr>\n",
       "      <th>2087145</th>\n",
       "      <td>FC252B1D62ADC</td>\n",
       "      <td>2022-05-27</td>\n",
       "      <td>29463-7</td>\n",
       "      <td>body weight</td>\n",
       "      <td>Body Weight</td>\n",
       "      <td>body weight</td>\n",
       "      <td>lb</td>\n",
       "      <td>kg</td>\n",
       "      <td>NaN</td>\n",
       "      <td>182.8</td>\n",
       "      <td>82.916618</td>\n",
       "      <td>NaN</td>\n",
       "      <td>NaN</td>\n",
       "      <td>NaN</td>\n",
       "      <td>NaN</td>\n",
       "    </tr>\n",
       "    <tr>\n",
       "      <th>1173100</th>\n",
       "      <td>F9A91BBC7AD74</td>\n",
       "      <td>2019-08-13</td>\n",
       "      <td>8302-2</td>\n",
       "      <td>body height</td>\n",
       "      <td>Body Height</td>\n",
       "      <td>body height</td>\n",
       "      <td>in</td>\n",
       "      <td>cm</td>\n",
       "      <td>NaN</td>\n",
       "      <td>67</td>\n",
       "      <td>170.180000</td>\n",
       "      <td>NaN</td>\n",
       "      <td>NaN</td>\n",
       "      <td>NaN</td>\n",
       "      <td>NaN</td>\n",
       "    </tr>\n",
       "  </tbody>\n",
       "</table>\n",
       "</div>"
      ],
      "text/plain": [
       "             PatientID    TestDate    LOINC  \\\n",
       "1524639  F3900D18F0560  2015-01-26  59408-5   \n",
       "957792   F732AA4734B99  2018-01-17   8302-2   \n",
       "2805438  F38B4B6A0EE56  2018-08-28  59408-5   \n",
       "2087145  FC252B1D62ADC  2022-05-27  29463-7   \n",
       "1173100  F9A91BBC7AD74  2019-08-13   8302-2   \n",
       "\n",
       "                                                      Test  \\\n",
       "1524639  oxygen saturation in arterial blood by pulse o...   \n",
       "957792                                         body height   \n",
       "2805438  oxygen saturation in arterial blood by pulse o...   \n",
       "2087145                                        body weight   \n",
       "1173100                                        body height   \n",
       "\n",
       "                                              LabComponent       TestBaseName  \\\n",
       "1524639  Oxygen saturation in Arterial blood by Pulse o...  oxygen saturation   \n",
       "957792                                         Body Height        body height   \n",
       "2805438  Oxygen saturation in Arterial blood by Pulse o...  oxygen saturation   \n",
       "2087145                                        Body Weight        body weight   \n",
       "1173100                                        Body Height        body height   \n",
       "\n",
       "        TestUnits TestUnitsCleaned ResultDate TestResult  TestResultCleaned  \\\n",
       "1524639         %                %        NaN         96          96.000000   \n",
       "957792         in               cm        NaN     70.472         178.998880   \n",
       "2805438         %                %        NaN         96          96.000000   \n",
       "2087145        lb               kg        NaN      182.8          82.916618   \n",
       "1173100        in               cm        NaN         67         170.180000   \n",
       "\n",
       "         MinNorm  MinNormCleaned  MaxNorm  MaxNormCleaned  \n",
       "1524639      NaN             NaN      NaN             NaN  \n",
       "957792       NaN             NaN      NaN             NaN  \n",
       "2805438      NaN             NaN      NaN             NaN  \n",
       "2087145      NaN             NaN      NaN             NaN  \n",
       "1173100      NaN             NaN      NaN             NaN  "
      ]
     },
     "execution_count": 373,
     "metadata": {},
     "output_type": "execute_result"
    }
   ],
   "source": [
    "vitals.sample(5)"
   ]
  },
  {
   "cell_type": "code",
   "execution_count": 374,
   "id": "35099654",
   "metadata": {},
   "outputs": [
    {
     "data": {
      "text/plain": [
       "heart rate                                                       0.183360\n",
       "body temperature                                                 0.153832\n",
       "body weight                                                      0.138397\n",
       "systolic blood pressure                                          0.126996\n",
       "diastolic blood pressure                                         0.126415\n",
       "body height                                                      0.123339\n",
       "oxygen saturation in arterial blood by pulse oximetry            0.090795\n",
       "respiratory rate                                                 0.032638\n",
       "pain severity - 0-10 verbal numeric rating [score] - reported    0.016967\n",
       "body surface area                                                0.005529\n",
       "Name: Test, dtype: float64"
      ]
     },
     "execution_count": 374,
     "metadata": {},
     "output_type": "execute_result"
    }
   ],
   "source": [
    "vitals['Test'].value_counts(normalize = True, dropna = False).head(10)"
   ]
  },
  {
   "cell_type": "markdown",
   "id": "22e254da",
   "metadata": {},
   "source": [
    "**The Vitals table is a longitudinal record of vitals captured in the EHR for each patient. A weight and BMI variable at time of advanced diagnosis will be created. The elgibility window will be -90 days to +30 days from advanced diagnosis. Average height from all visits will be used to calculate BMI. In the case of two weights on the same day or equidistant but on opposite sides of the index date, the lowest weight will be selected. Percent change in weight and weight slope 3 months within metastatic diagnosis will be calculated. Patients must have at least two weight recordings to calculate percent change in weight or weight slope.** "
   ]
  },
  {
   "cell_type": "markdown",
   "id": "993e3a59",
   "metadata": {},
   "source": [
    "#### Weight and BMI"
   ]
  },
  {
   "cell_type": "code",
   "execution_count": 375,
   "id": "4c61337d",
   "metadata": {},
   "outputs": [],
   "source": [
    "# Create weight dataframe; remove weight values that are empty or equal to zero.\n",
    "weight = (\n",
    "    vitals\n",
    "    .query('Test == \"body weight\"')\n",
    "    .filter(items = ['PatientID', 'TestDate', 'TestResultCleaned'])\n",
    "    .rename(columns = {'TestResultCleaned': 'weight'})\n",
    "    .dropna(subset = ['weight'])\n",
    "    .query('weight != 0')\n",
    ")"
   ]
  },
  {
   "cell_type": "code",
   "execution_count": 376,
   "id": "656e00a7",
   "metadata": {},
   "outputs": [],
   "source": [
    "weight.loc[:, 'TestDate'] = pd.to_datetime(weight['TestDate'])"
   ]
  },
  {
   "cell_type": "code",
   "execution_count": 377,
   "id": "8c1e37dd",
   "metadata": {},
   "outputs": [],
   "source": [
    "weight = pd.merge(weight, enhanced_met[['PatientID', 'met_date']], on = 'PatientID', how = 'left')"
   ]
  },
  {
   "cell_type": "code",
   "execution_count": 378,
   "id": "00525511",
   "metadata": {},
   "outputs": [],
   "source": [
    "# Weight elgibliity window is -90 and +30 from metastatic diagnosis diagnosis. \n",
    "weight_win_bmi = (\n",
    "    weight\n",
    "    .assign(weight_date_diff = (weight['TestDate'] - weight['met_date']).dt.days)\n",
    "    .query('weight_date_diff >= -90 and weight_date_diff <= 30')\n",
    ")"
   ]
  },
  {
   "cell_type": "code",
   "execution_count": 379,
   "id": "c167cf91",
   "metadata": {},
   "outputs": [],
   "source": [
    "weight_win_bmi.loc[:, 'weight_date_diff'] = weight_win_bmi['weight_date_diff'].abs()"
   ]
  },
  {
   "cell_type": "code",
   "execution_count": 380,
   "id": "e7af9a3a",
   "metadata": {},
   "outputs": [],
   "source": [
    "# Select weight closest to date of metastatic diagnosis; lowest weight selected in the event of two weights on same day or equidistant. \n",
    "weight_bmi_wide = (\n",
    "    weight_win_bmi\n",
    "    .sort_values(by = ['PatientID', 'weight_date_diff', 'weight'], ascending = [True, True, True])\n",
    "    .drop_duplicates(subset = ['PatientID'], keep = 'first')\n",
    "    .filter(items = ['PatientID', 'weight'])\n",
    "    .rename(columns = {'weight': 'weight_diag'})\n",
    ")"
   ]
  },
  {
   "cell_type": "code",
   "execution_count": 381,
   "id": "a24b34c1",
   "metadata": {},
   "outputs": [],
   "source": [
    "# Dataframe of average height for each patient. \n",
    "height_avg = (\n",
    "    vitals\n",
    "    .query('Test == \"body height\"')\n",
    "    .filter(items = ['PatientID', 'TestResultCleaned'])\n",
    "    .query('TestResultCleaned > 0')\n",
    "    .groupby('PatientID')['TestResultCleaned'].mean()\n",
    "    .to_frame()\n",
    "    .reset_index()\n",
    "    .rename(columns = {'TestResultCleaned': 'height_avg'})\n",
    ")"
   ]
  },
  {
   "cell_type": "code",
   "execution_count": 382,
   "id": "ad33d6d0",
   "metadata": {},
   "outputs": [],
   "source": [
    "weight_bmi_wide = pd.merge(weight_bmi_wide, height_avg, on = 'PatientID', how = 'left')"
   ]
  },
  {
   "cell_type": "code",
   "execution_count": 383,
   "id": "d3869a4d",
   "metadata": {},
   "outputs": [],
   "source": [
    "# Create BMI column. \n",
    "weight_bmi_wide = (\n",
    "    weight_bmi_wide\n",
    "    .assign(bmi_diag = lambda x: (x['weight_diag']/(x['height_avg']*x['height_avg']))*10000)\n",
    "    .drop(columns = ['height_avg'])\n",
    ")"
   ]
  },
  {
   "cell_type": "code",
   "execution_count": 384,
   "id": "933a4c31",
   "metadata": {},
   "outputs": [],
   "source": [
    "# Append excluded IDs from training set and create a missing variable for those without BMI at diagnosis. \n",
    "weight_bmi_wide = (\n",
    "    weight_bmi_wide\n",
    "    .append(\n",
    "        pd.Series(train_IDs)[~pd.Series(train_IDs).isin(weight_bmi_wide['PatientID'])].to_frame(name = 'PatientID'),\n",
    "        sort = False)\n",
    ")"
   ]
  },
  {
   "cell_type": "code",
   "execution_count": 385,
   "id": "2488076f",
   "metadata": {},
   "outputs": [
    {
     "data": {
      "text/plain": [
       "(15141, 15141)"
      ]
     },
     "execution_count": 385,
     "metadata": {},
     "output_type": "execute_result"
    }
   ],
   "source": [
    "row_ID(weight_bmi_wide)"
   ]
  },
  {
   "cell_type": "code",
   "execution_count": 386,
   "id": "31040eb4",
   "metadata": {},
   "outputs": [],
   "source": [
    "weight_bmi_wide.loc[:, 'bmi_diag_na'] = np.where(weight_bmi_wide['bmi_diag'].isna(), 1, 0)"
   ]
  },
  {
   "cell_type": "code",
   "execution_count": 387,
   "id": "d6ae2173",
   "metadata": {},
   "outputs": [
    {
     "data": {
      "text/html": [
       "<div>\n",
       "<style scoped>\n",
       "    .dataframe tbody tr th:only-of-type {\n",
       "        vertical-align: middle;\n",
       "    }\n",
       "\n",
       "    .dataframe tbody tr th {\n",
       "        vertical-align: top;\n",
       "    }\n",
       "\n",
       "    .dataframe thead th {\n",
       "        text-align: right;\n",
       "    }\n",
       "</style>\n",
       "<table border=\"1\" class=\"dataframe\">\n",
       "  <thead>\n",
       "    <tr style=\"text-align: right;\">\n",
       "      <th></th>\n",
       "      <th>PatientID</th>\n",
       "      <th>weight_diag</th>\n",
       "      <th>bmi_diag</th>\n",
       "      <th>bmi_diag_na</th>\n",
       "    </tr>\n",
       "  </thead>\n",
       "  <tbody>\n",
       "    <tr>\n",
       "      <th>2731</th>\n",
       "      <td>F57C5348CE7CE</td>\n",
       "      <td>65.099240</td>\n",
       "      <td>21.684243</td>\n",
       "      <td>0</td>\n",
       "    </tr>\n",
       "    <tr>\n",
       "      <th>1997</th>\n",
       "      <td>FA52B03462AB0</td>\n",
       "      <td>NaN</td>\n",
       "      <td>NaN</td>\n",
       "      <td>1</td>\n",
       "    </tr>\n",
       "    <tr>\n",
       "      <th>7715</th>\n",
       "      <td>FF138B6412131</td>\n",
       "      <td>87.543256</td>\n",
       "      <td>30.392467</td>\n",
       "      <td>0</td>\n",
       "    </tr>\n",
       "    <tr>\n",
       "      <th>3558</th>\n",
       "      <td>FE01F4812482E</td>\n",
       "      <td>NaN</td>\n",
       "      <td>NaN</td>\n",
       "      <td>1</td>\n",
       "    </tr>\n",
       "    <tr>\n",
       "      <th>605</th>\n",
       "      <td>F13E977192ADF</td>\n",
       "      <td>85.728888</td>\n",
       "      <td>25.632724</td>\n",
       "      <td>0</td>\n",
       "    </tr>\n",
       "  </tbody>\n",
       "</table>\n",
       "</div>"
      ],
      "text/plain": [
       "          PatientID  weight_diag   bmi_diag  bmi_diag_na\n",
       "2731  F57C5348CE7CE    65.099240  21.684243            0\n",
       "1997  FA52B03462AB0          NaN        NaN            1\n",
       "7715  FF138B6412131    87.543256  30.392467            0\n",
       "3558  FE01F4812482E          NaN        NaN            1\n",
       "605   F13E977192ADF    85.728888  25.632724            0"
      ]
     },
     "execution_count": 387,
     "metadata": {},
     "output_type": "execute_result"
    }
   ],
   "source": [
    "weight_bmi_wide.sample(5)"
   ]
  },
  {
   "cell_type": "code",
   "execution_count": 388,
   "id": "0d895c20",
   "metadata": {},
   "outputs": [
    {
     "data": {
      "text/html": [
       "<div>\n",
       "<style scoped>\n",
       "    .dataframe tbody tr th:only-of-type {\n",
       "        vertical-align: middle;\n",
       "    }\n",
       "\n",
       "    .dataframe tbody tr th {\n",
       "        vertical-align: top;\n",
       "    }\n",
       "\n",
       "    .dataframe thead th {\n",
       "        text-align: right;\n",
       "    }\n",
       "</style>\n",
       "<table border=\"1\" class=\"dataframe\">\n",
       "  <thead>\n",
       "    <tr style=\"text-align: right;\">\n",
       "      <th></th>\n",
       "      <th>weight_diag</th>\n",
       "      <th>bmi_diag</th>\n",
       "    </tr>\n",
       "  </thead>\n",
       "  <tbody>\n",
       "    <tr>\n",
       "      <th>count</th>\n",
       "      <td>8161.000000</td>\n",
       "      <td>8126.000000</td>\n",
       "    </tr>\n",
       "    <tr>\n",
       "      <th>mean</th>\n",
       "      <td>86.802817</td>\n",
       "      <td>29.358100</td>\n",
       "    </tr>\n",
       "    <tr>\n",
       "      <th>std</th>\n",
       "      <td>18.737733</td>\n",
       "      <td>71.529238</td>\n",
       "    </tr>\n",
       "    <tr>\n",
       "      <th>min</th>\n",
       "      <td>7.801782</td>\n",
       "      <td>3.667727</td>\n",
       "    </tr>\n",
       "    <tr>\n",
       "      <th>25%</th>\n",
       "      <td>73.971783</td>\n",
       "      <td>24.450515</td>\n",
       "    </tr>\n",
       "    <tr>\n",
       "      <th>50%</th>\n",
       "      <td>84.413471</td>\n",
       "      <td>27.626182</td>\n",
       "    </tr>\n",
       "    <tr>\n",
       "      <th>75%</th>\n",
       "      <td>97.522280</td>\n",
       "      <td>31.306450</td>\n",
       "    </tr>\n",
       "    <tr>\n",
       "      <th>max</th>\n",
       "      <td>183.704760</td>\n",
       "      <td>5030.860457</td>\n",
       "    </tr>\n",
       "  </tbody>\n",
       "</table>\n",
       "</div>"
      ],
      "text/plain": [
       "       weight_diag     bmi_diag\n",
       "count  8161.000000  8126.000000\n",
       "mean     86.802817    29.358100\n",
       "std      18.737733    71.529238\n",
       "min       7.801782     3.667727\n",
       "25%      73.971783    24.450515\n",
       "50%      84.413471    27.626182\n",
       "75%      97.522280    31.306450\n",
       "max     183.704760  5030.860457"
      ]
     },
     "execution_count": 388,
     "metadata": {},
     "output_type": "execute_result"
    }
   ],
   "source": [
    "weight_bmi_wide.iloc[:, 0:3].describe()"
   ]
  },
  {
   "cell_type": "markdown",
   "id": "af1db69e",
   "metadata": {},
   "source": [
    "#### Percent change "
   ]
  },
  {
   "cell_type": "code",
   "execution_count": 389,
   "id": "5bfb8520",
   "metadata": {},
   "outputs": [],
   "source": [
    "# Select elgbility window of -90 to +90 days from metastatic diagnosis.\n",
    "weight_win_summary = (\n",
    "    weight\n",
    "    .assign(weight_date_diff = (weight['TestDate'] - weight['met_date']).dt.days)\n",
    "    .query('weight_date_diff >= -90 and weight_date_diff <= 90')\n",
    ")"
   ]
  },
  {
   "cell_type": "code",
   "execution_count": 390,
   "id": "07464b18",
   "metadata": {},
   "outputs": [],
   "source": [
    "# Select patients with more than 1 weight recording within elgibility window.\n",
    "weight_win_summary = weight_win_summary[weight_win_summary.duplicated(subset = ['PatientID'], keep = False)]"
   ]
  },
  {
   "cell_type": "code",
   "execution_count": 391,
   "id": "d4635cd9",
   "metadata": {},
   "outputs": [],
   "source": [
    "# Select weight from the earliest time within elgibility window. \n",
    "weight_tmin = weight_win_summary.loc[weight_win_summary.groupby('PatientID')['weight_date_diff'].idxmin()]"
   ]
  },
  {
   "cell_type": "code",
   "execution_count": 392,
   "id": "6d6e8a6d",
   "metadata": {},
   "outputs": [],
   "source": [
    "# Select weight from the latest time within elgibility window. \n",
    "weight_tmax = weight_win_summary.loc[weight_win_summary.groupby('PatientID')['weight_date_diff'].idxmax()]"
   ]
  },
  {
   "cell_type": "code",
   "execution_count": 393,
   "id": "31529e3f",
   "metadata": {},
   "outputs": [],
   "source": [
    "# Combine above two dataframes and sort from earliest recorded weight to latest recorded weight for each patient. \n",
    "weight_tcomb = (\n",
    "    pd.concat([weight_tmin, weight_tmax])\n",
    "    .sort_values(by = ['PatientID', 'weight_date_diff'], ascending = True)\n",
    ")"
   ]
  },
  {
   "cell_type": "code",
   "execution_count": 394,
   "id": "ed9c1ae0",
   "metadata": {},
   "outputs": [
    {
     "data": {
      "text/plain": [
       "(18180, 9090)"
      ]
     },
     "execution_count": 394,
     "metadata": {},
     "output_type": "execute_result"
    }
   ],
   "source": [
    "row_ID(weight_tcomb)"
   ]
  },
  {
   "cell_type": "code",
   "execution_count": 395,
   "id": "1c9ba83a",
   "metadata": {},
   "outputs": [],
   "source": [
    "weight_tcomb.loc[:, 'weight_pct_change'] = weight_tcomb.groupby('PatientID')['weight'].pct_change()"
   ]
  },
  {
   "cell_type": "code",
   "execution_count": 396,
   "id": "2a48d5bf",
   "metadata": {},
   "outputs": [],
   "source": [
    "weight_tcomb.loc[:, 'diff_date_diff'] = weight_tcomb['weight_date_diff'].diff()"
   ]
  },
  {
   "cell_type": "code",
   "execution_count": 397,
   "id": "23c617eb",
   "metadata": {},
   "outputs": [],
   "source": [
    "# Drop empty rows for weight_pct_change.\n",
    "weight_pct_wide = (\n",
    "    weight_tcomb\n",
    "    .dropna(subset = ['weight_pct_change'])\n",
    "    .filter(items = ['PatientID', 'weight_pct_change', 'diff_date_diff'])\n",
    ")"
   ]
  },
  {
   "cell_type": "code",
   "execution_count": 398,
   "id": "cdb28c7a",
   "metadata": {},
   "outputs": [
    {
     "data": {
      "text/plain": [
       "(9090, 9090)"
      ]
     },
     "execution_count": 398,
     "metadata": {},
     "output_type": "execute_result"
    }
   ],
   "source": [
    "row_ID(weight_pct_wide)"
   ]
  },
  {
   "cell_type": "code",
   "execution_count": 399,
   "id": "e38b168d",
   "metadata": {},
   "outputs": [
    {
     "data": {
      "text/html": [
       "<div>\n",
       "<style scoped>\n",
       "    .dataframe tbody tr th:only-of-type {\n",
       "        vertical-align: middle;\n",
       "    }\n",
       "\n",
       "    .dataframe tbody tr th {\n",
       "        vertical-align: top;\n",
       "    }\n",
       "\n",
       "    .dataframe thead th {\n",
       "        text-align: right;\n",
       "    }\n",
       "</style>\n",
       "<table border=\"1\" class=\"dataframe\">\n",
       "  <thead>\n",
       "    <tr style=\"text-align: right;\">\n",
       "      <th></th>\n",
       "      <th>weight_pct_change</th>\n",
       "      <th>diff_date_diff</th>\n",
       "    </tr>\n",
       "  </thead>\n",
       "  <tbody>\n",
       "    <tr>\n",
       "      <th>count</th>\n",
       "      <td>9090.000000</td>\n",
       "      <td>9090.000000</td>\n",
       "    </tr>\n",
       "    <tr>\n",
       "      <th>mean</th>\n",
       "      <td>-0.002167</td>\n",
       "      <td>69.876348</td>\n",
       "    </tr>\n",
       "    <tr>\n",
       "      <th>std</th>\n",
       "      <td>0.145944</td>\n",
       "      <td>39.875939</td>\n",
       "    </tr>\n",
       "    <tr>\n",
       "      <th>min</th>\n",
       "      <td>-0.901467</td>\n",
       "      <td>0.000000</td>\n",
       "    </tr>\n",
       "    <tr>\n",
       "      <th>25%</th>\n",
       "      <td>-0.026306</td>\n",
       "      <td>41.000000</td>\n",
       "    </tr>\n",
       "    <tr>\n",
       "      <th>50%</th>\n",
       "      <td>-0.002131</td>\n",
       "      <td>65.000000</td>\n",
       "    </tr>\n",
       "    <tr>\n",
       "      <th>75%</th>\n",
       "      <td>0.018182</td>\n",
       "      <td>91.000000</td>\n",
       "    </tr>\n",
       "    <tr>\n",
       "      <th>max</th>\n",
       "      <td>9.480769</td>\n",
       "      <td>180.000000</td>\n",
       "    </tr>\n",
       "  </tbody>\n",
       "</table>\n",
       "</div>"
      ],
      "text/plain": [
       "       weight_pct_change  diff_date_diff\n",
       "count        9090.000000     9090.000000\n",
       "mean           -0.002167       69.876348\n",
       "std             0.145944       39.875939\n",
       "min            -0.901467        0.000000\n",
       "25%            -0.026306       41.000000\n",
       "50%            -0.002131       65.000000\n",
       "75%             0.018182       91.000000\n",
       "max             9.480769      180.000000"
      ]
     },
     "execution_count": 399,
     "metadata": {},
     "output_type": "execute_result"
    }
   ],
   "source": [
    "weight_pct_wide.describe()"
   ]
  },
  {
   "cell_type": "code",
   "execution_count": 400,
   "id": "ea8d831d",
   "metadata": {},
   "outputs": [],
   "source": [
    "# Append missing training IDs and create a missing variable for those without weight_pct_change. \n",
    "weight_pct_wide = (\n",
    "    weight_pct_wide\n",
    "    .append(\n",
    "        pd.Series(train_IDs)[~pd.Series(train_IDs).isin(weight_pct_wide['PatientID'])].to_frame(name = 'PatientID'),\n",
    "        sort = False)\n",
    "    .drop(columns = ['diff_date_diff'])\n",
    ")"
   ]
  },
  {
   "cell_type": "code",
   "execution_count": 401,
   "id": "07fc6082",
   "metadata": {},
   "outputs": [
    {
     "data": {
      "text/plain": [
       "(15141, 15141)"
      ]
     },
     "execution_count": 401,
     "metadata": {},
     "output_type": "execute_result"
    }
   ],
   "source": [
    "row_ID(weight_pct_wide)"
   ]
  },
  {
   "cell_type": "code",
   "execution_count": 402,
   "id": "a5c272cd",
   "metadata": {},
   "outputs": [],
   "source": [
    "weight_pct_wide.loc[:, 'weight_pct_na'] = np.where(weight_pct_wide['weight_pct_change'].isna(), 1, 0)"
   ]
  },
  {
   "cell_type": "code",
   "execution_count": 403,
   "id": "31d9c63e",
   "metadata": {},
   "outputs": [
    {
     "data": {
      "text/html": [
       "<div>\n",
       "<style scoped>\n",
       "    .dataframe tbody tr th:only-of-type {\n",
       "        vertical-align: middle;\n",
       "    }\n",
       "\n",
       "    .dataframe tbody tr th {\n",
       "        vertical-align: top;\n",
       "    }\n",
       "\n",
       "    .dataframe thead th {\n",
       "        text-align: right;\n",
       "    }\n",
       "</style>\n",
       "<table border=\"1\" class=\"dataframe\">\n",
       "  <thead>\n",
       "    <tr style=\"text-align: right;\">\n",
       "      <th></th>\n",
       "      <th>PatientID</th>\n",
       "      <th>weight_pct_change</th>\n",
       "      <th>weight_pct_na</th>\n",
       "    </tr>\n",
       "  </thead>\n",
       "  <tbody>\n",
       "    <tr>\n",
       "      <th>2509</th>\n",
       "      <td>F33D9A03BECDE</td>\n",
       "      <td>NaN</td>\n",
       "      <td>1</td>\n",
       "    </tr>\n",
       "    <tr>\n",
       "      <th>120764</th>\n",
       "      <td>F2E13ABDEAC94</td>\n",
       "      <td>-0.013889</td>\n",
       "      <td>0</td>\n",
       "    </tr>\n",
       "    <tr>\n",
       "      <th>391824</th>\n",
       "      <td>FDEAF57A6A48F</td>\n",
       "      <td>-0.020732</td>\n",
       "      <td>0</td>\n",
       "    </tr>\n",
       "    <tr>\n",
       "      <th>63313</th>\n",
       "      <td>F42D6589838ED</td>\n",
       "      <td>-0.024309</td>\n",
       "      <td>0</td>\n",
       "    </tr>\n",
       "    <tr>\n",
       "      <th>4486</th>\n",
       "      <td>F00FCF290813F</td>\n",
       "      <td>NaN</td>\n",
       "      <td>1</td>\n",
       "    </tr>\n",
       "  </tbody>\n",
       "</table>\n",
       "</div>"
      ],
      "text/plain": [
       "            PatientID  weight_pct_change  weight_pct_na\n",
       "2509    F33D9A03BECDE                NaN              1\n",
       "120764  F2E13ABDEAC94          -0.013889              0\n",
       "391824  FDEAF57A6A48F          -0.020732              0\n",
       "63313   F42D6589838ED          -0.024309              0\n",
       "4486    F00FCF290813F                NaN              1"
      ]
     },
     "execution_count": 403,
     "metadata": {},
     "output_type": "execute_result"
    }
   ],
   "source": [
    "weight_pct_wide.sample(5)"
   ]
  },
  {
   "cell_type": "markdown",
   "id": "81a721ae",
   "metadata": {},
   "source": [
    "#### Weight slope"
   ]
  },
  {
   "cell_type": "code",
   "execution_count": 404,
   "id": "69923166",
   "metadata": {},
   "outputs": [],
   "source": [
    "from scipy.stats import linregress "
   ]
  },
  {
   "cell_type": "code",
   "execution_count": 405,
   "id": "fa96d18b",
   "metadata": {},
   "outputs": [],
   "source": [
    "weight_win_summary.loc[:, 'date_ordinal'] = weight_win_summary['TestDate'].map(dt.datetime.toordinal)"
   ]
  },
  {
   "cell_type": "code",
   "execution_count": 406,
   "id": "11c3253e",
   "metadata": {},
   "outputs": [
    {
     "name": "stderr",
     "output_type": "stream",
     "text": [
      "/Users/xavierorcutt/Dropbox/ist_project/myenv/lib/python3.7/site-packages/scipy/stats/_stats_mstats_common.py:170: RuntimeWarning: invalid value encountered in double_scalars\n",
      "  slope = ssxym / ssxm\n"
     ]
    }
   ],
   "source": [
    "# Dataframe of slope for weight recordings within window period (kg/day).\n",
    "weight_slope_wide = (\n",
    "    weight_win_summary\n",
    "    .groupby('PatientID')\n",
    "    .apply(lambda x: pd.Series(linregress(x['date_ordinal'], x['weight'])))\n",
    "    .rename(columns = {0: 'weight_slope'})\n",
    "    .reset_index()\n",
    "    .filter(items = ['PatientID', 'weight_slope']))   "
   ]
  },
  {
   "cell_type": "code",
   "execution_count": 407,
   "id": "e2ff18c5",
   "metadata": {},
   "outputs": [
    {
     "data": {
      "text/plain": [
       "(9090, 9090)"
      ]
     },
     "execution_count": 407,
     "metadata": {},
     "output_type": "execute_result"
    }
   ],
   "source": [
    "row_ID(weight_slope_wide)"
   ]
  },
  {
   "cell_type": "code",
   "execution_count": 408,
   "id": "e7a7e318",
   "metadata": {},
   "outputs": [
    {
     "data": {
      "text/html": [
       "<div>\n",
       "<style scoped>\n",
       "    .dataframe tbody tr th:only-of-type {\n",
       "        vertical-align: middle;\n",
       "    }\n",
       "\n",
       "    .dataframe tbody tr th {\n",
       "        vertical-align: top;\n",
       "    }\n",
       "\n",
       "    .dataframe thead th {\n",
       "        text-align: right;\n",
       "    }\n",
       "</style>\n",
       "<table border=\"1\" class=\"dataframe\">\n",
       "  <thead>\n",
       "    <tr style=\"text-align: right;\">\n",
       "      <th></th>\n",
       "      <th>weight_slope</th>\n",
       "    </tr>\n",
       "  </thead>\n",
       "  <tbody>\n",
       "    <tr>\n",
       "      <th>count</th>\n",
       "      <td>9055.000000</td>\n",
       "    </tr>\n",
       "    <tr>\n",
       "      <th>mean</th>\n",
       "      <td>-0.004976</td>\n",
       "    </tr>\n",
       "    <tr>\n",
       "      <th>std</th>\n",
       "      <td>0.147245</td>\n",
       "    </tr>\n",
       "    <tr>\n",
       "      <th>min</th>\n",
       "      <td>-7.937860</td>\n",
       "    </tr>\n",
       "    <tr>\n",
       "      <th>25%</th>\n",
       "      <td>-0.037734</td>\n",
       "    </tr>\n",
       "    <tr>\n",
       "      <th>50%</th>\n",
       "      <td>-0.003240</td>\n",
       "    </tr>\n",
       "    <tr>\n",
       "      <th>75%</th>\n",
       "      <td>0.027502</td>\n",
       "    </tr>\n",
       "    <tr>\n",
       "      <th>max</th>\n",
       "      <td>2.737428</td>\n",
       "    </tr>\n",
       "  </tbody>\n",
       "</table>\n",
       "</div>"
      ],
      "text/plain": [
       "       weight_slope\n",
       "count   9055.000000\n",
       "mean      -0.004976\n",
       "std        0.147245\n",
       "min       -7.937860\n",
       "25%       -0.037734\n",
       "50%       -0.003240\n",
       "75%        0.027502\n",
       "max        2.737428"
      ]
     },
     "execution_count": 408,
     "metadata": {},
     "output_type": "execute_result"
    }
   ],
   "source": [
    "weight_slope_wide.describe()"
   ]
  },
  {
   "cell_type": "code",
   "execution_count": 409,
   "id": "134b71b0",
   "metadata": {},
   "outputs": [],
   "source": [
    "# Append missing training IDs. \n",
    "weight_slope_wide = (\n",
    "    weight_slope_wide\n",
    "    .append(\n",
    "        pd.Series(train_IDs)[~pd.Series(train_IDs).isin(weight_slope_wide['PatientID'])].to_frame(name = 'PatientID'),\n",
    "        sort = False)\n",
    ")"
   ]
  },
  {
   "cell_type": "code",
   "execution_count": 410,
   "id": "d9c949ab",
   "metadata": {},
   "outputs": [
    {
     "data": {
      "text/plain": [
       "(15141, 15141)"
      ]
     },
     "execution_count": 410,
     "metadata": {},
     "output_type": "execute_result"
    }
   ],
   "source": [
    "row_ID(weight_slope_wide)"
   ]
  },
  {
   "cell_type": "code",
   "execution_count": 411,
   "id": "d96587b7",
   "metadata": {},
   "outputs": [
    {
     "data": {
      "text/html": [
       "<div>\n",
       "<style scoped>\n",
       "    .dataframe tbody tr th:only-of-type {\n",
       "        vertical-align: middle;\n",
       "    }\n",
       "\n",
       "    .dataframe tbody tr th {\n",
       "        vertical-align: top;\n",
       "    }\n",
       "\n",
       "    .dataframe thead th {\n",
       "        text-align: right;\n",
       "    }\n",
       "</style>\n",
       "<table border=\"1\" class=\"dataframe\">\n",
       "  <thead>\n",
       "    <tr style=\"text-align: right;\">\n",
       "      <th></th>\n",
       "      <th>PatientID</th>\n",
       "      <th>weight_slope</th>\n",
       "    </tr>\n",
       "  </thead>\n",
       "  <tbody>\n",
       "    <tr>\n",
       "      <th>6489</th>\n",
       "      <td>FC91B8E1D8DB6</td>\n",
       "      <td>NaN</td>\n",
       "    </tr>\n",
       "    <tr>\n",
       "      <th>6881</th>\n",
       "      <td>FC10742957136</td>\n",
       "      <td>0.033943</td>\n",
       "    </tr>\n",
       "    <tr>\n",
       "      <th>4374</th>\n",
       "      <td>F7A4E54494952</td>\n",
       "      <td>0.008702</td>\n",
       "    </tr>\n",
       "    <tr>\n",
       "      <th>2628</th>\n",
       "      <td>F4B62BE30F4EF</td>\n",
       "      <td>-0.440632</td>\n",
       "    </tr>\n",
       "    <tr>\n",
       "      <th>10926</th>\n",
       "      <td>F6602BAA7FE56</td>\n",
       "      <td>NaN</td>\n",
       "    </tr>\n",
       "  </tbody>\n",
       "</table>\n",
       "</div>"
      ],
      "text/plain": [
       "           PatientID  weight_slope\n",
       "6489   FC91B8E1D8DB6           NaN\n",
       "6881   FC10742957136      0.033943\n",
       "4374   F7A4E54494952      0.008702\n",
       "2628   F4B62BE30F4EF     -0.440632\n",
       "10926  F6602BAA7FE56           NaN"
      ]
     },
     "execution_count": 411,
     "metadata": {},
     "output_type": "execute_result"
    }
   ],
   "source": [
    "weight_slope_wide.sample(5)"
   ]
  },
  {
   "cell_type": "markdown",
   "id": "38115bb6",
   "metadata": {},
   "source": [
    "#### Weight merge "
   ]
  },
  {
   "cell_type": "code",
   "execution_count": 412,
   "id": "877ab92e",
   "metadata": {},
   "outputs": [],
   "source": [
    "weight_wide = pd.merge(weight_bmi_wide, weight_pct_wide, on = 'PatientID')"
   ]
  },
  {
   "cell_type": "code",
   "execution_count": 413,
   "id": "a67224a9",
   "metadata": {},
   "outputs": [],
   "source": [
    "weight_wide = pd.merge(weight_wide, weight_slope_wide, on = 'PatientID')"
   ]
  },
  {
   "cell_type": "code",
   "execution_count": 414,
   "id": "e2441b2c",
   "metadata": {},
   "outputs": [
    {
     "data": {
      "text/plain": [
       "(15141, 15141)"
      ]
     },
     "execution_count": 414,
     "metadata": {},
     "output_type": "execute_result"
    }
   ],
   "source": [
    "row_ID(weight_wide)"
   ]
  },
  {
   "cell_type": "code",
   "execution_count": 415,
   "id": "1983d8c5",
   "metadata": {},
   "outputs": [
    {
     "data": {
      "text/html": [
       "<div>\n",
       "<style scoped>\n",
       "    .dataframe tbody tr th:only-of-type {\n",
       "        vertical-align: middle;\n",
       "    }\n",
       "\n",
       "    .dataframe tbody tr th {\n",
       "        vertical-align: top;\n",
       "    }\n",
       "\n",
       "    .dataframe thead th {\n",
       "        text-align: right;\n",
       "    }\n",
       "</style>\n",
       "<table border=\"1\" class=\"dataframe\">\n",
       "  <thead>\n",
       "    <tr style=\"text-align: right;\">\n",
       "      <th></th>\n",
       "      <th>PatientID</th>\n",
       "      <th>weight_diag</th>\n",
       "      <th>bmi_diag</th>\n",
       "      <th>bmi_diag_na</th>\n",
       "      <th>weight_pct_change</th>\n",
       "      <th>weight_pct_na</th>\n",
       "      <th>weight_slope</th>\n",
       "    </tr>\n",
       "  </thead>\n",
       "  <tbody>\n",
       "    <tr>\n",
       "      <th>3451</th>\n",
       "      <td>F6D29631B6DB1</td>\n",
       "      <td>77.110640</td>\n",
       "      <td>27.125164</td>\n",
       "      <td>0</td>\n",
       "      <td>0.011765</td>\n",
       "      <td>0</td>\n",
       "      <td>0.016443</td>\n",
       "    </tr>\n",
       "    <tr>\n",
       "      <th>3016</th>\n",
       "      <td>F607950DBD18D</td>\n",
       "      <td>108.045614</td>\n",
       "      <td>31.426353</td>\n",
       "      <td>0</td>\n",
       "      <td>0.022670</td>\n",
       "      <td>0</td>\n",
       "      <td>0.029014</td>\n",
       "    </tr>\n",
       "    <tr>\n",
       "      <th>6420</th>\n",
       "      <td>FC9026943FB98</td>\n",
       "      <td>108.680643</td>\n",
       "      <td>29.036377</td>\n",
       "      <td>0</td>\n",
       "      <td>-0.045910</td>\n",
       "      <td>0</td>\n",
       "      <td>-0.068133</td>\n",
       "    </tr>\n",
       "    <tr>\n",
       "      <th>10141</th>\n",
       "      <td>F677D940F374E</td>\n",
       "      <td>NaN</td>\n",
       "      <td>NaN</td>\n",
       "      <td>1</td>\n",
       "      <td>NaN</td>\n",
       "      <td>1</td>\n",
       "      <td>NaN</td>\n",
       "    </tr>\n",
       "    <tr>\n",
       "      <th>15036</th>\n",
       "      <td>FB5939520C6EC</td>\n",
       "      <td>NaN</td>\n",
       "      <td>NaN</td>\n",
       "      <td>1</td>\n",
       "      <td>NaN</td>\n",
       "      <td>1</td>\n",
       "      <td>NaN</td>\n",
       "    </tr>\n",
       "  </tbody>\n",
       "</table>\n",
       "</div>"
      ],
      "text/plain": [
       "           PatientID  weight_diag   bmi_diag  bmi_diag_na  weight_pct_change  \\\n",
       "3451   F6D29631B6DB1    77.110640  27.125164            0           0.011765   \n",
       "3016   F607950DBD18D   108.045614  31.426353            0           0.022670   \n",
       "6420   FC9026943FB98   108.680643  29.036377            0          -0.045910   \n",
       "10141  F677D940F374E          NaN        NaN            1                NaN   \n",
       "15036  FB5939520C6EC          NaN        NaN            1                NaN   \n",
       "\n",
       "       weight_pct_na  weight_slope  \n",
       "3451               0      0.016443  \n",
       "3016               0      0.029014  \n",
       "6420               0     -0.068133  \n",
       "10141              1           NaN  \n",
       "15036              1           NaN  "
      ]
     },
     "execution_count": 415,
     "metadata": {},
     "output_type": "execute_result"
    }
   ],
   "source": [
    "weight_wide.sample(5)"
   ]
  },
  {
   "cell_type": "code",
   "execution_count": 416,
   "id": "af481667",
   "metadata": {},
   "outputs": [
    {
     "name": "stdout",
     "output_type": "stream",
     "text": [
      "Variable              Type         Data/Info\n",
      "--------------------------------------------\n",
      "biomarker_wide        DataFrame               PatientID brca<...>n[15141 rows x 2 columns]\n",
      "demographics          DataFrame               PatientID Gend<...>n[15141 rows x 6 columns]\n",
      "ecog_diagnosis_wide   DataFrame                PatientID eco<...>n[15141 rows x 2 columns]\n",
      "enhanced_met          DataFrame               PatientID diag<...>[15141 rows x 18 columns]\n",
      "height_avg            DataFrame               PatientID  hei<...>n[14928 rows x 2 columns]\n",
      "insurance_wide        DataFrame               PatientID  med<...>n[15141 rows x 9 columns]\n",
      "med_admin_wide        DataFrame               PatientID  ste<...>[15141 rows x 13 columns]\n",
      "mortality             DataFrame               PatientID  dea<...>n[15141 rows x 3 columns]\n",
      "vitals                DataFrame                 PatientID   <...>912651 rows x 15 columns]\n",
      "weight                DataFrame                PatientID   T<...>[395819 rows x 4 columns]\n",
      "weight_bmi_wide       DataFrame               PatientID  wei<...>n[15141 rows x 4 columns]\n",
      "weight_pct_wide       DataFrame                PatientID  we<...>n[15141 rows x 3 columns]\n",
      "weight_slope_wide     DataFrame               PatientID  wei<...>n[15141 rows x 2 columns]\n",
      "weight_tcomb          DataFrame                PatientID   T<...>n[18180 rows x 7 columns]\n",
      "weight_tmax           DataFrame                PatientID   T<...>\\n[9090 rows x 5 columns]\n",
      "weight_tmin           DataFrame                PatientID   T<...>\\n[9090 rows x 5 columns]\n",
      "weight_wide           DataFrame               PatientID  wei<...>n[15141 rows x 7 columns]\n",
      "weight_win_bmi        DataFrame                PatientID   T<...>n[22496 rows x 5 columns]\n",
      "weight_win_summary    DataFrame                PatientID   T<...>n[45628 rows x 6 columns]\n"
     ]
    }
   ],
   "source": [
    "%whos DataFrame"
   ]
  },
  {
   "cell_type": "code",
   "execution_count": 417,
   "id": "1d3c79ce",
   "metadata": {},
   "outputs": [],
   "source": [
    "# Keep biomarker_wide, demographics, ecog_diagnosis_wide, enhanced_met, insurance_wide, med_admin_wide, mortality, \n",
    "# and weight_wide\n",
    "del height_avg\n",
    "del vitals\n",
    "del weight\n",
    "del weight_bmi_wide\n",
    "del weight_pct_wide\n",
    "del weight_slope_wide\n",
    "del weight_tcomb\n",
    "del weight_tmax\n",
    "del weight_tmin\n",
    "del weight_win_bmi\n",
    "del weight_win_summary"
   ]
  },
  {
   "cell_type": "markdown",
   "id": "9a227ffb",
   "metadata": {},
   "source": [
    "### 9. Labs"
   ]
  },
  {
   "cell_type": "code",
   "execution_count": 418,
   "id": "0d35e4cd",
   "metadata": {},
   "outputs": [],
   "source": [
    "lab = pd.read_csv('Lab.csv')"
   ]
  },
  {
   "cell_type": "code",
   "execution_count": 419,
   "id": "1d86e2a6",
   "metadata": {},
   "outputs": [],
   "source": [
    "lab = lab[lab['PatientID'].isin(train_IDs)]"
   ]
  },
  {
   "cell_type": "code",
   "execution_count": 420,
   "id": "bd6dcd60",
   "metadata": {},
   "outputs": [
    {
     "data": {
      "text/plain": [
       "(9201153, 14737)"
      ]
     },
     "execution_count": 420,
     "metadata": {},
     "output_type": "execute_result"
    }
   ],
   "source": [
    "row_ID(lab)"
   ]
  },
  {
   "cell_type": "code",
   "execution_count": 421,
   "id": "9d7b62a8",
   "metadata": {},
   "outputs": [
    {
     "data": {
      "text/html": [
       "<div>\n",
       "<style scoped>\n",
       "    .dataframe tbody tr th:only-of-type {\n",
       "        vertical-align: middle;\n",
       "    }\n",
       "\n",
       "    .dataframe tbody tr th {\n",
       "        vertical-align: top;\n",
       "    }\n",
       "\n",
       "    .dataframe thead th {\n",
       "        text-align: right;\n",
       "    }\n",
       "</style>\n",
       "<table border=\"1\" class=\"dataframe\">\n",
       "  <thead>\n",
       "    <tr style=\"text-align: right;\">\n",
       "      <th></th>\n",
       "      <th>PatientID</th>\n",
       "      <th>TestDate</th>\n",
       "      <th>LOINC</th>\n",
       "      <th>Test</th>\n",
       "      <th>LabComponent</th>\n",
       "      <th>TestBaseName</th>\n",
       "      <th>LabSource</th>\n",
       "      <th>TestUnits</th>\n",
       "      <th>TestUnitsCleaned</th>\n",
       "      <th>ResultDate</th>\n",
       "      <th>TestResult</th>\n",
       "      <th>TestResultCleaned</th>\n",
       "      <th>MinNorm</th>\n",
       "      <th>MinNormCleaned</th>\n",
       "      <th>MaxNorm</th>\n",
       "      <th>MaxNormCleaned</th>\n",
       "    </tr>\n",
       "  </thead>\n",
       "  <tbody>\n",
       "    <tr>\n",
       "      <th>6168383</th>\n",
       "      <td>FE724C8118788</td>\n",
       "      <td>2019-07-22</td>\n",
       "      <td>1920-8</td>\n",
       "      <td>aspartate aminotransferase [enzymatic activity...</td>\n",
       "      <td>Aspartate aminotransferase (AST or SGOT)</td>\n",
       "      <td>aspartate aminotransferase</td>\n",
       "      <td>source</td>\n",
       "      <td>iU/L</td>\n",
       "      <td>U/L</td>\n",
       "      <td>2019-07-23</td>\n",
       "      <td>31</td>\n",
       "      <td>31.0</td>\n",
       "      <td>10.0</td>\n",
       "      <td>10.000000</td>\n",
       "      <td>50.0</td>\n",
       "      <td>50.000000</td>\n",
       "    </tr>\n",
       "    <tr>\n",
       "      <th>4661535</th>\n",
       "      <td>F29B053792B9F</td>\n",
       "      <td>2018-10-25</td>\n",
       "      <td>2885-2</td>\n",
       "      <td>protein [mass/volume] in serum or plasma</td>\n",
       "      <td>Protein.Total, serum</td>\n",
       "      <td>protein</td>\n",
       "      <td>source</td>\n",
       "      <td>g/dL</td>\n",
       "      <td>g/L</td>\n",
       "      <td>2018-10-25</td>\n",
       "      <td>6.5</td>\n",
       "      <td>65.0</td>\n",
       "      <td>6.6</td>\n",
       "      <td>65.999999</td>\n",
       "      <td>8.7</td>\n",
       "      <td>86.999998</td>\n",
       "    </tr>\n",
       "    <tr>\n",
       "      <th>8712505</th>\n",
       "      <td>FCC6C8D27CF41</td>\n",
       "      <td>2016-08-11</td>\n",
       "      <td>26464-8</td>\n",
       "      <td>leukocytes [#/volume] in blood</td>\n",
       "      <td>White Blood Cell Count</td>\n",
       "      <td>leukocytes</td>\n",
       "      <td>source</td>\n",
       "      <td>mm3</td>\n",
       "      <td>NaN</td>\n",
       "      <td>2016-08-11</td>\n",
       "      <td>3.5</td>\n",
       "      <td>NaN</td>\n",
       "      <td>3.3</td>\n",
       "      <td>NaN</td>\n",
       "      <td>10.5</td>\n",
       "      <td>NaN</td>\n",
       "    </tr>\n",
       "    <tr>\n",
       "      <th>2954407</th>\n",
       "      <td>F91E804817B30</td>\n",
       "      <td>2019-01-14</td>\n",
       "      <td>2986-8</td>\n",
       "      <td>testosterone [mass/volume] in serum or plasma</td>\n",
       "      <td>Testosterone</td>\n",
       "      <td>testosterone</td>\n",
       "      <td>source</td>\n",
       "      <td>ng/dL</td>\n",
       "      <td>ng/dL</td>\n",
       "      <td>2019-01-17</td>\n",
       "      <td>7</td>\n",
       "      <td>7.0</td>\n",
       "      <td>250.0</td>\n",
       "      <td>250.000000</td>\n",
       "      <td>1100.0</td>\n",
       "      <td>1100.000000</td>\n",
       "    </tr>\n",
       "    <tr>\n",
       "      <th>2089326</th>\n",
       "      <td>F173863E8499A</td>\n",
       "      <td>2022-09-22</td>\n",
       "      <td>2028-9</td>\n",
       "      <td>carbon dioxide, total [moles/volume] in serum ...</td>\n",
       "      <td>Carbon dioxide</td>\n",
       "      <td>carbon dioxide</td>\n",
       "      <td>source</td>\n",
       "      <td>mmol/L</td>\n",
       "      <td>mmol/L</td>\n",
       "      <td>2022-09-23</td>\n",
       "      <td>28</td>\n",
       "      <td>28.0</td>\n",
       "      <td>20.0</td>\n",
       "      <td>20.000000</td>\n",
       "      <td>32.0</td>\n",
       "      <td>32.000000</td>\n",
       "    </tr>\n",
       "  </tbody>\n",
       "</table>\n",
       "</div>"
      ],
      "text/plain": [
       "             PatientID    TestDate    LOINC  \\\n",
       "6168383  FE724C8118788  2019-07-22   1920-8   \n",
       "4661535  F29B053792B9F  2018-10-25   2885-2   \n",
       "8712505  FCC6C8D27CF41  2016-08-11  26464-8   \n",
       "2954407  F91E804817B30  2019-01-14   2986-8   \n",
       "2089326  F173863E8499A  2022-09-22   2028-9   \n",
       "\n",
       "                                                      Test  \\\n",
       "6168383  aspartate aminotransferase [enzymatic activity...   \n",
       "4661535           protein [mass/volume] in serum or plasma   \n",
       "8712505                     leukocytes [#/volume] in blood   \n",
       "2954407      testosterone [mass/volume] in serum or plasma   \n",
       "2089326  carbon dioxide, total [moles/volume] in serum ...   \n",
       "\n",
       "                                     LabComponent                TestBaseName  \\\n",
       "6168383  Aspartate aminotransferase (AST or SGOT)  aspartate aminotransferase   \n",
       "4661535                      Protein.Total, serum                     protein   \n",
       "8712505                    White Blood Cell Count                  leukocytes   \n",
       "2954407                              Testosterone                testosterone   \n",
       "2089326                            Carbon dioxide              carbon dioxide   \n",
       "\n",
       "        LabSource TestUnits TestUnitsCleaned  ResultDate TestResult  \\\n",
       "6168383    source      iU/L              U/L  2019-07-23         31   \n",
       "4661535    source      g/dL              g/L  2018-10-25        6.5   \n",
       "8712505    source       mm3              NaN  2016-08-11        3.5   \n",
       "2954407    source     ng/dL            ng/dL  2019-01-17          7   \n",
       "2089326    source    mmol/L           mmol/L  2022-09-23         28   \n",
       "\n",
       "         TestResultCleaned  MinNorm  MinNormCleaned  MaxNorm  MaxNormCleaned  \n",
       "6168383               31.0     10.0       10.000000     50.0       50.000000  \n",
       "4661535               65.0      6.6       65.999999      8.7       86.999998  \n",
       "8712505                NaN      3.3             NaN     10.5             NaN  \n",
       "2954407                7.0    250.0      250.000000   1100.0     1100.000000  \n",
       "2089326               28.0     20.0       20.000000     32.0       32.000000  "
      ]
     },
     "execution_count": 421,
     "metadata": {},
     "output_type": "execute_result"
    }
   ],
   "source": [
    "lab.sample(5)"
   ]
  },
  {
   "cell_type": "markdown",
   "id": "40250770",
   "metadata": {},
   "source": [
    "**The Lab table is a longitudinal record of lab captured in the EHR with multiple-rows-per-patient. A single-patient-per-row table will be built focusing on the following NCCN recommended labs:** \n",
    "* **Creatinine -- (LOINC: 2160-0 and 38483-4)**\n",
    "* **Hemoglobin -- (LOINC: 718-7 and 20509-6)**\n",
    "* **White blood cell count -- (LOINC: 26464-8 and 6690-2)**\n",
    "* **Neutrophil count -- (LOINC: 26499-4, 751-8, 30451-9, and 753-4)**\n",
    "* **Albumin, serum -- (LOINC: 1751-7)**\n",
    "* **Total bilirubin -- (LOINC: 42719-5 and 1975-2)**\n",
    "* **Sodium — (LOINC: 2947-0 and 2951-2)**\n",
    "* **Bicarb — (LOINC: 1963-8, 1959-6, 14627-4, 1960-4, and 2028-9)**\n",
    "* **Calcium — (LOINC: 17861-6 and 49765-1)** \n",
    "* **AST — (LOINC: 1920-8)**\n",
    "* **ALT — (LOINC: 1742-6, 1743-4, and 1744-2)**\n",
    "* **Platelet -- (LOINC: 26515-7, 777-3, 778-1, and 49497-1)**\n",
    "* **Potassium -- (LOINC: 6298-4 and 2823-3)**\n",
    "* **Chloride -- (LOINC: 2075-0)**\n",
    "* **BUN -- (LOINC: 3094-0)**\n",
    "* **ALP -- (LOINC: 6768-6)**\n",
    "* **PSA -- (LOINC: 2857-1)**\n",
    "\n",
    "**The index date will be time of advanced diagnosis with an elgibility window of -90 days to +30 days. The lab value closest to the index date will be selected for each patient. The following summary statistics, using an elgibility window of negative infinity to +30 days from advanced diagnosis, will also be created for the above variables:** \n",
    "* **Max**\n",
    "* **Min**\n",
    "* **Mean**\n",
    "* **Standard deviation** \n",
    "* **Slope**"
   ]
  },
  {
   "cell_type": "markdown",
   "id": "399d9ce5",
   "metadata": {},
   "source": [
    "#### 9.1 Baseline lab values"
   ]
  },
  {
   "cell_type": "code",
   "execution_count": 422,
   "id": "f2354f48",
   "metadata": {},
   "outputs": [],
   "source": [
    "lab = pd.merge(lab, enhanced_met[['PatientID', 'met_date']], on = 'PatientID', how = 'left')"
   ]
  },
  {
   "cell_type": "code",
   "execution_count": 423,
   "id": "78b9a020",
   "metadata": {},
   "outputs": [],
   "source": [
    "lab.loc[:, 'ResultDate'] = pd.to_datetime(lab['ResultDate']) "
   ]
  },
  {
   "cell_type": "code",
   "execution_count": 424,
   "id": "a908f3c4",
   "metadata": {},
   "outputs": [],
   "source": [
    "# Select rows with clinically relevant labs.\n",
    "lab_core = (\n",
    "    lab[\n",
    "    (lab['LOINC'] == \"2160-0\") |\n",
    "    (lab['LOINC'] == \"38483-4\") | \n",
    "    (lab['LOINC'] == \"718-7\") |\n",
    "    (lab['LOINC'] == \"20509-6\") |\n",
    "    (lab['LOINC'] == \"26464-8\") |\n",
    "    (lab['LOINC'] == \"6690-2\") |\n",
    "    (lab['LOINC'] == \"26499-4\") |\n",
    "    (lab['LOINC'] == \"751-8\") |\n",
    "    (lab['LOINC'] == \"30451-9\") |\n",
    "    (lab['LOINC'] == \"753-4\") |\n",
    "    (lab['LOINC'] == \"1751-7\") |\n",
    "    (lab['LOINC'] == \"42719-5\") |\n",
    "    (lab['LOINC'] == \"1975-2\") |\n",
    "    (lab['LOINC'] == \"2947-0\") |\n",
    "    (lab['LOINC'] == \"2951-2\") |\n",
    "    (lab['LOINC'] == \"1963-8\") |\n",
    "    (lab['LOINC'] == \"1959-6\") |\n",
    "    (lab['LOINC'] == \"14627-4\") |\n",
    "    (lab['LOINC'] == \"1960-4\") |\n",
    "    (lab['LOINC'] == \"2028-9\") |\n",
    "    (lab['LOINC'] == \"17861-6\") |\n",
    "    (lab['LOINC'] == \"49765-1\") |\n",
    "    (lab['LOINC'] == \"1920-8\") |\n",
    "    (lab['LOINC'] == \"1742-6\") | \n",
    "    (lab['LOINC'] == \"1743-4\") |\n",
    "    (lab['LOINC'] == \"1744-2\") |\n",
    "    (lab['LOINC'] == \"26515-7\") | \n",
    "    (lab['LOINC'] == \"777-3\") |\n",
    "    (lab['LOINC'] == \"778-1\") |\n",
    "    (lab['LOINC'] == \"49497-1\") | \n",
    "    (lab['LOINC'] == \"6298-4\") |\n",
    "    (lab['LOINC'] == \"2823-3\") |\n",
    "    (lab['LOINC'] == \"2075-0\") | \n",
    "    (lab['LOINC'] == \"3094-0\") | \n",
    "    (lab['LOINC'] == \"6768-6\") | \n",
    "    (lab['LOINC'] == \"2857-1\")]\n",
    "    .filter(items = ['PatientID', \n",
    "                     'ResultDate', \n",
    "                     'LOINC', \n",
    "                     'LabComponent', \n",
    "                     'TestUnits', \n",
    "                     'TestUnitsCleaned', \n",
    "                     'TestResult', \n",
    "                     'TestResultCleaned', \n",
    "                     'met_date'])\n",
    ")"
   ]
  },
  {
   "cell_type": "code",
   "execution_count": 425,
   "id": "f21b6563",
   "metadata": {},
   "outputs": [],
   "source": [
    "conditions = [\n",
    "    ((lab_core['LOINC'] == '2160-0') | (lab_core['LOINC'] == '38483-4')),\n",
    "    ((lab_core['LOINC'] == '718-7') | (lab_core['LOINC'] == '20509-6')),\n",
    "    ((lab_core['LOINC'] == '26464-8') | (lab_core['LOINC'] == '6690-2')), \n",
    "    ((lab_core['LOINC'] == '26499-4') | (lab_core['LOINC'] == '751-8') | (lab_core['LOINC'] == '30451-9') | (lab_core['LOINC'] == '753-4')),\n",
    "    (lab_core['LOINC'] == '1751-7'),\n",
    "    ((lab_core['LOINC'] == '42719-5') | (lab_core['LOINC'] == '1975-2')),\n",
    "    ((lab_core['LOINC'] == '2947-0') | (lab_core['LOINC'] == '2951-2')),\n",
    "    ((lab_core['LOINC'] == '1963-8') | (lab_core['LOINC'] == '1959-6') | (lab_core['LOINC'] == '14627-4') | (lab_core['LOINC'] == '1960-4') | (lab_core['LOINC'] == '2028-9')),\n",
    "    ((lab_core['LOINC'] == '17861-6') | (lab_core['LOINC'] == '49765-1')),\n",
    "    (lab_core['LOINC'] == '1920-8'),\n",
    "    ((lab_core['LOINC'] == '1742-6') | (lab_core['LOINC'] == '1743-4') | (lab_core['LOINC'] == '1744-2')),\n",
    "    ((lab_core['LOINC'] == '26515-7') | (lab_core['LOINC'] == '777-3') | (lab_core['LOINC'] == '778-1') | (lab_core['LOINC'] == '49497-1')),\n",
    "    ((lab_core['LOINC'] == '6298-4') | (lab_core['LOINC'] == '2823-3')),\n",
    "    (lab_core['LOINC'] == '2075-0'), \n",
    "    (lab_core['LOINC'] == '3094-0'),\n",
    "    (lab_core['LOINC'] == '6768-6'),\n",
    "    (lab_core['LOINC'] == '2857-1')]\n",
    "\n",
    "choices = ['creatinine', \n",
    "           'hemoglobin', \n",
    "           'wbc', \n",
    "           'neutrophil_count',  \n",
    "           'albumin', \n",
    "           'total_bilirubin', \n",
    "           'sodium', \n",
    "           'bicarb',\n",
    "           'calcium',\n",
    "           'ast', \n",
    "           'alt',\n",
    "           'platelet',\n",
    "           'potassium', \n",
    "           'chloride',\n",
    "           'bun',\n",
    "           'alp',\n",
    "           'psa']\n",
    "\n",
    "lab_core.loc[:, 'lab_name'] = np.select(conditions, choices)"
   ]
  },
  {
   "cell_type": "code",
   "execution_count": 426,
   "id": "86762787",
   "metadata": {},
   "outputs": [],
   "source": [
    "# Remove missing lab values. \n",
    "lab_core = lab_core.dropna(subset = ['TestResultCleaned'])"
   ]
  },
  {
   "cell_type": "code",
   "execution_count": 427,
   "id": "73d68605",
   "metadata": {},
   "outputs": [
    {
     "data": {
      "text/plain": [
       "10*3/uL     0.954341\n",
       "10*3/mm3    0.028151\n",
       "10*9/L      0.010851\n",
       "cell/uL     0.005868\n",
       "10*3/L      0.000400\n",
       "Name: TestUnits, dtype: float64"
      ]
     },
     "execution_count": 427,
     "metadata": {},
     "output_type": "execute_result"
    }
   ],
   "source": [
    "(\n",
    "    lab_core\n",
    "    .query('lab_name == \"wbc\" or lab_name == \"neutrophil_count\" or lab_name == \"platelet\"')\n",
    "    .TestUnits.value_counts(normalize = True)\n",
    "    .head(5)\n",
    ")"
   ]
  },
  {
   "cell_type": "code",
   "execution_count": 428,
   "id": "cb4ac755",
   "metadata": {},
   "outputs": [
    {
     "data": {
      "text/html": [
       "<div>\n",
       "<style scoped>\n",
       "    .dataframe tbody tr th:only-of-type {\n",
       "        vertical-align: middle;\n",
       "    }\n",
       "\n",
       "    .dataframe tbody tr th {\n",
       "        vertical-align: top;\n",
       "    }\n",
       "\n",
       "    .dataframe thead th {\n",
       "        text-align: right;\n",
       "    }\n",
       "</style>\n",
       "<table border=\"1\" class=\"dataframe\">\n",
       "  <thead>\n",
       "    <tr style=\"text-align: right;\">\n",
       "      <th></th>\n",
       "      <th>PatientID</th>\n",
       "      <th>ResultDate</th>\n",
       "      <th>LOINC</th>\n",
       "      <th>LabComponent</th>\n",
       "      <th>TestUnits</th>\n",
       "      <th>TestUnitsCleaned</th>\n",
       "      <th>TestResult</th>\n",
       "      <th>TestResultCleaned</th>\n",
       "      <th>met_date</th>\n",
       "      <th>lab_name</th>\n",
       "    </tr>\n",
       "  </thead>\n",
       "  <tbody>\n",
       "    <tr>\n",
       "      <th>1823460</th>\n",
       "      <td>F568C2D5BC83A</td>\n",
       "      <td>2015-11-24</td>\n",
       "      <td>26515-7</td>\n",
       "      <td>Platelet count</td>\n",
       "      <td>10*3/L</td>\n",
       "      <td>10*9/L</td>\n",
       "      <td>217</td>\n",
       "      <td>0.000217</td>\n",
       "      <td>2013-12-08</td>\n",
       "      <td>platelet</td>\n",
       "    </tr>\n",
       "    <tr>\n",
       "      <th>1004738</th>\n",
       "      <td>F9A215CBEC952</td>\n",
       "      <td>2016-03-18</td>\n",
       "      <td>26515-7</td>\n",
       "      <td>Platelet count</td>\n",
       "      <td>10*3/L</td>\n",
       "      <td>10*9/L</td>\n",
       "      <td>190</td>\n",
       "      <td>0.000190</td>\n",
       "      <td>2022-01-17</td>\n",
       "      <td>platelet</td>\n",
       "    </tr>\n",
       "    <tr>\n",
       "      <th>5183610</th>\n",
       "      <td>FF1773A683BA8</td>\n",
       "      <td>2016-03-28</td>\n",
       "      <td>26515-7</td>\n",
       "      <td>Platelet count</td>\n",
       "      <td>10*3/L</td>\n",
       "      <td>10*9/L</td>\n",
       "      <td>266</td>\n",
       "      <td>0.000266</td>\n",
       "      <td>2014-12-01</td>\n",
       "      <td>platelet</td>\n",
       "    </tr>\n",
       "    <tr>\n",
       "      <th>1004725</th>\n",
       "      <td>F9A215CBEC952</td>\n",
       "      <td>2016-02-12</td>\n",
       "      <td>26499-4</td>\n",
       "      <td>Neutrophil count (absolute)</td>\n",
       "      <td>10*3/L</td>\n",
       "      <td>10*9/L</td>\n",
       "      <td>2.4</td>\n",
       "      <td>0.000002</td>\n",
       "      <td>2022-01-17</td>\n",
       "      <td>neutrophil_count</td>\n",
       "    </tr>\n",
       "    <tr>\n",
       "      <th>1823814</th>\n",
       "      <td>F568C2D5BC83A</td>\n",
       "      <td>2016-08-23</td>\n",
       "      <td>26499-4</td>\n",
       "      <td>Neutrophil count (absolute)</td>\n",
       "      <td>10*3/L</td>\n",
       "      <td>10*9/L</td>\n",
       "      <td>1.9</td>\n",
       "      <td>0.000002</td>\n",
       "      <td>2013-12-08</td>\n",
       "      <td>neutrophil_count</td>\n",
       "    </tr>\n",
       "  </tbody>\n",
       "</table>\n",
       "</div>"
      ],
      "text/plain": [
       "             PatientID ResultDate    LOINC                 LabComponent  \\\n",
       "1823460  F568C2D5BC83A 2015-11-24  26515-7               Platelet count   \n",
       "1004738  F9A215CBEC952 2016-03-18  26515-7               Platelet count   \n",
       "5183610  FF1773A683BA8 2016-03-28  26515-7               Platelet count   \n",
       "1004725  F9A215CBEC952 2016-02-12  26499-4  Neutrophil count (absolute)   \n",
       "1823814  F568C2D5BC83A 2016-08-23  26499-4  Neutrophil count (absolute)   \n",
       "\n",
       "        TestUnits TestUnitsCleaned TestResult  TestResultCleaned   met_date  \\\n",
       "1823460    10*3/L           10*9/L        217           0.000217 2013-12-08   \n",
       "1004738    10*3/L           10*9/L        190           0.000190 2022-01-17   \n",
       "5183610    10*3/L           10*9/L        266           0.000266 2014-12-01   \n",
       "1004725    10*3/L           10*9/L        2.4           0.000002 2022-01-17   \n",
       "1823814    10*3/L           10*9/L        1.9           0.000002 2013-12-08   \n",
       "\n",
       "                 lab_name  \n",
       "1823460          platelet  \n",
       "1004738          platelet  \n",
       "5183610          platelet  \n",
       "1004725  neutrophil_count  \n",
       "1823814  neutrophil_count  "
      ]
     },
     "execution_count": 428,
     "metadata": {},
     "output_type": "execute_result"
    }
   ],
   "source": [
    "(\n",
    "    lab_core\n",
    "    .query('lab_name == \"wbc\" or lab_name == \"neutrophil_count\" or lab_name == \"platelet\"')\n",
    "    .query('TestUnits == \"10*3/L\"')\n",
    "    .sample(5)\n",
    ")"
   ]
  },
  {
   "cell_type": "code",
   "execution_count": 429,
   "id": "2f14ae9e",
   "metadata": {},
   "outputs": [
    {
     "data": {
      "text/plain": [
       "g/dL     0.999873\n",
       "g/uL     0.000084\n",
       "mg/dL    0.000043\n",
       "Name: TestUnits, dtype: float64"
      ]
     },
     "execution_count": 429,
     "metadata": {},
     "output_type": "execute_result"
    }
   ],
   "source": [
    "(\n",
    "    lab_core\n",
    "    .query('lab_name == \"hemoglobin\"')\n",
    "    .TestUnits.value_counts(normalize = True)\n",
    "    .head(5)\n",
    ")"
   ]
  },
  {
   "cell_type": "code",
   "execution_count": 430,
   "id": "3ce1a2f1",
   "metadata": {},
   "outputs": [
    {
     "data": {
      "text/html": [
       "<div>\n",
       "<style scoped>\n",
       "    .dataframe tbody tr th:only-of-type {\n",
       "        vertical-align: middle;\n",
       "    }\n",
       "\n",
       "    .dataframe tbody tr th {\n",
       "        vertical-align: top;\n",
       "    }\n",
       "\n",
       "    .dataframe thead th {\n",
       "        text-align: right;\n",
       "    }\n",
       "</style>\n",
       "<table border=\"1\" class=\"dataframe\">\n",
       "  <thead>\n",
       "    <tr style=\"text-align: right;\">\n",
       "      <th></th>\n",
       "      <th>PatientID</th>\n",
       "      <th>ResultDate</th>\n",
       "      <th>LOINC</th>\n",
       "      <th>LabComponent</th>\n",
       "      <th>TestUnits</th>\n",
       "      <th>TestUnitsCleaned</th>\n",
       "      <th>TestResult</th>\n",
       "      <th>TestResultCleaned</th>\n",
       "      <th>met_date</th>\n",
       "      <th>lab_name</th>\n",
       "    </tr>\n",
       "  </thead>\n",
       "  <tbody>\n",
       "    <tr>\n",
       "      <th>6848998</th>\n",
       "      <td>F2BFFBB786ABE</td>\n",
       "      <td>2010-09-21</td>\n",
       "      <td>718-7</td>\n",
       "      <td>Hemoglobin, whole blood</td>\n",
       "      <td>g/uL</td>\n",
       "      <td>g/dL</td>\n",
       "      <td>10.3</td>\n",
       "      <td>1030000.0</td>\n",
       "      <td>2015-04-24</td>\n",
       "      <td>hemoglobin</td>\n",
       "    </tr>\n",
       "    <tr>\n",
       "      <th>9054294</th>\n",
       "      <td>F77CCD80CC703</td>\n",
       "      <td>2012-04-10</td>\n",
       "      <td>718-7</td>\n",
       "      <td>Hemoglobin, whole blood</td>\n",
       "      <td>g/uL</td>\n",
       "      <td>g/dL</td>\n",
       "      <td>10.6</td>\n",
       "      <td>1060000.0</td>\n",
       "      <td>2016-02-04</td>\n",
       "      <td>hemoglobin</td>\n",
       "    </tr>\n",
       "    <tr>\n",
       "      <th>6848897</th>\n",
       "      <td>F2BFFBB786ABE</td>\n",
       "      <td>2010-05-18</td>\n",
       "      <td>718-7</td>\n",
       "      <td>Hemoglobin, whole blood</td>\n",
       "      <td>g/uL</td>\n",
       "      <td>g/dL</td>\n",
       "      <td>14.1</td>\n",
       "      <td>1410000.0</td>\n",
       "      <td>2015-04-24</td>\n",
       "      <td>hemoglobin</td>\n",
       "    </tr>\n",
       "    <tr>\n",
       "      <th>9054350</th>\n",
       "      <td>F77CCD80CC703</td>\n",
       "      <td>2012-06-05</td>\n",
       "      <td>718-7</td>\n",
       "      <td>Hemoglobin, whole blood</td>\n",
       "      <td>g/uL</td>\n",
       "      <td>g/dL</td>\n",
       "      <td>11.3</td>\n",
       "      <td>1130000.0</td>\n",
       "      <td>2016-02-04</td>\n",
       "      <td>hemoglobin</td>\n",
       "    </tr>\n",
       "    <tr>\n",
       "      <th>6849073</th>\n",
       "      <td>F2BFFBB786ABE</td>\n",
       "      <td>2011-07-11</td>\n",
       "      <td>718-7</td>\n",
       "      <td>Hemoglobin, whole blood</td>\n",
       "      <td>g/uL</td>\n",
       "      <td>g/dL</td>\n",
       "      <td>12.0</td>\n",
       "      <td>1200000.0</td>\n",
       "      <td>2015-04-24</td>\n",
       "      <td>hemoglobin</td>\n",
       "    </tr>\n",
       "  </tbody>\n",
       "</table>\n",
       "</div>"
      ],
      "text/plain": [
       "             PatientID ResultDate  LOINC             LabComponent TestUnits  \\\n",
       "6848998  F2BFFBB786ABE 2010-09-21  718-7  Hemoglobin, whole blood      g/uL   \n",
       "9054294  F77CCD80CC703 2012-04-10  718-7  Hemoglobin, whole blood      g/uL   \n",
       "6848897  F2BFFBB786ABE 2010-05-18  718-7  Hemoglobin, whole blood      g/uL   \n",
       "9054350  F77CCD80CC703 2012-06-05  718-7  Hemoglobin, whole blood      g/uL   \n",
       "6849073  F2BFFBB786ABE 2011-07-11  718-7  Hemoglobin, whole blood      g/uL   \n",
       "\n",
       "        TestUnitsCleaned TestResult  TestResultCleaned   met_date    lab_name  \n",
       "6848998             g/dL       10.3          1030000.0 2015-04-24  hemoglobin  \n",
       "9054294             g/dL       10.6          1060000.0 2016-02-04  hemoglobin  \n",
       "6848897             g/dL       14.1          1410000.0 2015-04-24  hemoglobin  \n",
       "9054350             g/dL       11.3          1130000.0 2016-02-04  hemoglobin  \n",
       "6849073             g/dL       12.0          1200000.0 2015-04-24  hemoglobin  "
      ]
     },
     "execution_count": 430,
     "metadata": {},
     "output_type": "execute_result"
    }
   ],
   "source": [
    "(\n",
    "    lab_core\n",
    "    .query('lab_name == \"hemoglobin\"')\n",
    "    .query('TestUnits == \"g/uL\"')\n",
    "    .sample(5)\n",
    ")"
   ]
  },
  {
   "cell_type": "code",
   "execution_count": 431,
   "id": "f19da1f0",
   "metadata": {},
   "outputs": [],
   "source": [
    "conditions = [\n",
    "    ((lab_core['lab_name'] == 'wbc') | (lab_core['lab_name'] == 'neutrophil_count') | (lab_core['lab_name'] == 'platelet')) & \n",
    "    (lab_core['TestUnits'] == '10*3/L'),\n",
    "    (lab_core['lab_name'] == 'hemoglobin') & (lab_core['TestUnits'] == 'g/uL')]\n",
    "\n",
    "choices = [lab_core['TestResultCleaned'] * 1000000,\n",
    "           lab_core['TestResultCleaned'] / 100000]\n",
    "\n",
    "lab_core.loc[:, 'test_result_cleaned'] = np.select(conditions, choices, default = lab_core['TestResultCleaned'])"
   ]
  },
  {
   "cell_type": "code",
   "execution_count": 432,
   "id": "81c51a6e",
   "metadata": {},
   "outputs": [],
   "source": [
    "# Elgibliity window is -90 and +30 from advanced diagnosis. \n",
    "lab_core_win = (\n",
    "    lab_core\n",
    "    .assign(lab_date_diff = (lab_core['ResultDate'] - lab_core['met_date']).dt.days)\n",
    "    .query('lab_date_diff >= -90 and lab_date_diff <= 30')\n",
    "    .filter(items = ['PatientID', 'ResultDate', 'TestResultCleaned', 'lab_name', 'met_date', 'test_result_cleaned', 'lab_date_diff'])\n",
    ")"
   ]
  },
  {
   "cell_type": "code",
   "execution_count": 433,
   "id": "f134ee27",
   "metadata": {},
   "outputs": [],
   "source": [
    "lab_core_win.loc[:, 'lab_date_diff'] = lab_core_win['lab_date_diff'].abs()"
   ]
  },
  {
   "cell_type": "code",
   "execution_count": 434,
   "id": "e6211b60",
   "metadata": {},
   "outputs": [],
   "source": [
    "# Select lab closest to date of advanced diagnosis and pivot to a wide table. \n",
    "lab_diag_wide = (\n",
    "    lab_core_win\n",
    "    .loc[lab_core_win.groupby(['PatientID', 'lab_name'])['lab_date_diff'].idxmin()]\n",
    "    .pivot(index = 'PatientID', columns = 'lab_name', values = 'test_result_cleaned')\n",
    "    .reset_index()\n",
    "    .rename(columns = {\n",
    "        'albumin': 'albumin_diag',\n",
    "        'creatinine': 'creatinine_diag',\n",
    "        'hemoglobin': 'hemoglobin_diag',\n",
    "        'neutrophil_count': 'neutrophil_count_diag',\n",
    "        'total_bilirubin': 'total_bilirubin_diag',\n",
    "        'wbc': 'wbc_diag',\n",
    "        'sodium': 'sodium_diag', \n",
    "        'bicarb': 'bicarb_diag',\n",
    "        'calcium': 'calcium_diag',\n",
    "        'ast': 'ast_diag', \n",
    "        'alt': 'alt_diag',\n",
    "        'platelet': 'platelet_diag',\n",
    "        'potassium': 'potassium_diag',\n",
    "        'chloride': 'chloride_diag',\n",
    "        'bun': 'bun_diag',\n",
    "        'alp': 'alp_diag'})\n",
    ")\n",
    "\n",
    "lab_diag_wide.columns.name = None"
   ]
  },
  {
   "cell_type": "code",
   "execution_count": 435,
   "id": "ecad406a",
   "metadata": {},
   "outputs": [],
   "source": [
    "lab_diag_wide = lab_diag_wide.drop(columns = ['psa'])"
   ]
  },
  {
   "cell_type": "code",
   "execution_count": 436,
   "id": "1f0bd18e",
   "metadata": {},
   "outputs": [
    {
     "data": {
      "text/plain": [
       "(7153, 7153)"
      ]
     },
     "execution_count": 436,
     "metadata": {},
     "output_type": "execute_result"
    }
   ],
   "source": [
    "row_ID(lab_diag_wide)"
   ]
  },
  {
   "cell_type": "code",
   "execution_count": 437,
   "id": "2383685d",
   "metadata": {},
   "outputs": [],
   "source": [
    "lab_diag_wide = (\n",
    "    lab_diag_wide\n",
    "    .append(\n",
    "        pd.Series(train_IDs)[~pd.Series(train_IDs).isin(lab_diag_wide['PatientID'])].to_frame(name = 'PatientID'),\n",
    "        sort = False)\n",
    ")"
   ]
  },
  {
   "cell_type": "code",
   "execution_count": 438,
   "id": "58a1b548",
   "metadata": {},
   "outputs": [
    {
     "data": {
      "text/plain": [
       "(15141, 15141)"
      ]
     },
     "execution_count": 438,
     "metadata": {},
     "output_type": "execute_result"
    }
   ],
   "source": [
    "row_ID(lab_diag_wide)"
   ]
  },
  {
   "cell_type": "code",
   "execution_count": 439,
   "id": "0a2fd020",
   "metadata": {},
   "outputs": [
    {
     "data": {
      "text/html": [
       "<div>\n",
       "<style scoped>\n",
       "    .dataframe tbody tr th:only-of-type {\n",
       "        vertical-align: middle;\n",
       "    }\n",
       "\n",
       "    .dataframe tbody tr th {\n",
       "        vertical-align: top;\n",
       "    }\n",
       "\n",
       "    .dataframe thead th {\n",
       "        text-align: right;\n",
       "    }\n",
       "</style>\n",
       "<table border=\"1\" class=\"dataframe\">\n",
       "  <thead>\n",
       "    <tr style=\"text-align: right;\">\n",
       "      <th></th>\n",
       "      <th>albumin_diag</th>\n",
       "      <th>alp_diag</th>\n",
       "      <th>alt_diag</th>\n",
       "      <th>ast_diag</th>\n",
       "      <th>bicarb_diag</th>\n",
       "      <th>bun_diag</th>\n",
       "      <th>calcium_diag</th>\n",
       "      <th>chloride_diag</th>\n",
       "      <th>creatinine_diag</th>\n",
       "      <th>hemoglobin_diag</th>\n",
       "      <th>neutrophil_count_diag</th>\n",
       "      <th>platelet_diag</th>\n",
       "      <th>potassium_diag</th>\n",
       "      <th>sodium_diag</th>\n",
       "      <th>total_bilirubin_diag</th>\n",
       "      <th>wbc_diag</th>\n",
       "    </tr>\n",
       "  </thead>\n",
       "  <tbody>\n",
       "    <tr>\n",
       "      <th>count</th>\n",
       "      <td>6041.000000</td>\n",
       "      <td>6263.000000</td>\n",
       "      <td>6227.000000</td>\n",
       "      <td>6283.000000</td>\n",
       "      <td>5112.000000</td>\n",
       "      <td>6419.000000</td>\n",
       "      <td>6377.000000</td>\n",
       "      <td>4472.000000</td>\n",
       "      <td>6480.000000</td>\n",
       "      <td>6556.000000</td>\n",
       "      <td>4945.000000</td>\n",
       "      <td>5870.000000</td>\n",
       "      <td>4782.000000</td>\n",
       "      <td>4774.000000</td>\n",
       "      <td>6156.000000</td>\n",
       "      <td>6113.000000</td>\n",
       "    </tr>\n",
       "    <tr>\n",
       "      <th>mean</th>\n",
       "      <td>39.779499</td>\n",
       "      <td>254.425220</td>\n",
       "      <td>22.718598</td>\n",
       "      <td>26.002309</td>\n",
       "      <td>25.296952</td>\n",
       "      <td>21.373117</td>\n",
       "      <td>9.310373</td>\n",
       "      <td>102.446364</td>\n",
       "      <td>1.190458</td>\n",
       "      <td>12.549921</td>\n",
       "      <td>5.561577</td>\n",
       "      <td>238.343850</td>\n",
       "      <td>4.383323</td>\n",
       "      <td>139.136098</td>\n",
       "      <td>0.574847</td>\n",
       "      <td>7.344024</td>\n",
       "    </tr>\n",
       "    <tr>\n",
       "      <th>std</th>\n",
       "      <td>4.839096</td>\n",
       "      <td>442.289146</td>\n",
       "      <td>20.452260</td>\n",
       "      <td>23.759372</td>\n",
       "      <td>3.301661</td>\n",
       "      <td>11.027889</td>\n",
       "      <td>0.589924</td>\n",
       "      <td>3.953715</td>\n",
       "      <td>0.792666</td>\n",
       "      <td>2.113633</td>\n",
       "      <td>47.022308</td>\n",
       "      <td>92.930785</td>\n",
       "      <td>0.475594</td>\n",
       "      <td>3.350663</td>\n",
       "      <td>0.401211</td>\n",
       "      <td>4.383730</td>\n",
       "    </tr>\n",
       "    <tr>\n",
       "      <th>min</th>\n",
       "      <td>0.038000</td>\n",
       "      <td>0.000000</td>\n",
       "      <td>1.000000</td>\n",
       "      <td>1.000000</td>\n",
       "      <td>8.000000</td>\n",
       "      <td>4.000000</td>\n",
       "      <td>5.100000</td>\n",
       "      <td>82.000000</td>\n",
       "      <td>0.300000</td>\n",
       "      <td>4.400000</td>\n",
       "      <td>0.000000</td>\n",
       "      <td>4.000000</td>\n",
       "      <td>2.800000</td>\n",
       "      <td>117.000000</td>\n",
       "      <td>0.000000</td>\n",
       "      <td>0.600000</td>\n",
       "    </tr>\n",
       "    <tr>\n",
       "      <th>25%</th>\n",
       "      <td>37.000000</td>\n",
       "      <td>74.000000</td>\n",
       "      <td>13.000000</td>\n",
       "      <td>17.000000</td>\n",
       "      <td>23.000000</td>\n",
       "      <td>15.000000</td>\n",
       "      <td>9.000000</td>\n",
       "      <td>100.000000</td>\n",
       "      <td>0.880000</td>\n",
       "      <td>11.200000</td>\n",
       "      <td>3.300000</td>\n",
       "      <td>180.000000</td>\n",
       "      <td>4.100000</td>\n",
       "      <td>137.000000</td>\n",
       "      <td>0.400000</td>\n",
       "      <td>5.500000</td>\n",
       "    </tr>\n",
       "    <tr>\n",
       "      <th>50%</th>\n",
       "      <td>40.000000</td>\n",
       "      <td>106.000000</td>\n",
       "      <td>18.000000</td>\n",
       "      <td>21.000000</td>\n",
       "      <td>25.000000</td>\n",
       "      <td>19.000000</td>\n",
       "      <td>9.300000</td>\n",
       "      <td>103.000000</td>\n",
       "      <td>1.010000</td>\n",
       "      <td>12.800000</td>\n",
       "      <td>4.400000</td>\n",
       "      <td>225.000000</td>\n",
       "      <td>4.400000</td>\n",
       "      <td>139.000000</td>\n",
       "      <td>0.500000</td>\n",
       "      <td>6.730000</td>\n",
       "    </tr>\n",
       "    <tr>\n",
       "      <th>75%</th>\n",
       "      <td>43.000000</td>\n",
       "      <td>223.000000</td>\n",
       "      <td>26.000000</td>\n",
       "      <td>28.000000</td>\n",
       "      <td>27.400000</td>\n",
       "      <td>25.000000</td>\n",
       "      <td>9.700000</td>\n",
       "      <td>105.000000</td>\n",
       "      <td>1.290000</td>\n",
       "      <td>14.000000</td>\n",
       "      <td>5.700000</td>\n",
       "      <td>280.000000</td>\n",
       "      <td>4.700000</td>\n",
       "      <td>141.000000</td>\n",
       "      <td>0.700000</td>\n",
       "      <td>8.400000</td>\n",
       "    </tr>\n",
       "    <tr>\n",
       "      <th>max</th>\n",
       "      <td>52.000000</td>\n",
       "      <td>6749.000000</td>\n",
       "      <td>477.000000</td>\n",
       "      <td>620.000000</td>\n",
       "      <td>40.000000</td>\n",
       "      <td>178.000000</td>\n",
       "      <td>13.700000</td>\n",
       "      <td>120.000000</td>\n",
       "      <td>18.850000</td>\n",
       "      <td>47.100000</td>\n",
       "      <td>3264.000000</td>\n",
       "      <td>1563.000000</td>\n",
       "      <td>7.400000</td>\n",
       "      <td>152.000000</td>\n",
       "      <td>14.800000</td>\n",
       "      <td>227.100000</td>\n",
       "    </tr>\n",
       "  </tbody>\n",
       "</table>\n",
       "</div>"
      ],
      "text/plain": [
       "       albumin_diag     alp_diag     alt_diag     ast_diag  bicarb_diag  \\\n",
       "count   6041.000000  6263.000000  6227.000000  6283.000000  5112.000000   \n",
       "mean      39.779499   254.425220    22.718598    26.002309    25.296952   \n",
       "std        4.839096   442.289146    20.452260    23.759372     3.301661   \n",
       "min        0.038000     0.000000     1.000000     1.000000     8.000000   \n",
       "25%       37.000000    74.000000    13.000000    17.000000    23.000000   \n",
       "50%       40.000000   106.000000    18.000000    21.000000    25.000000   \n",
       "75%       43.000000   223.000000    26.000000    28.000000    27.400000   \n",
       "max       52.000000  6749.000000   477.000000   620.000000    40.000000   \n",
       "\n",
       "          bun_diag  calcium_diag  chloride_diag  creatinine_diag  \\\n",
       "count  6419.000000   6377.000000    4472.000000      6480.000000   \n",
       "mean     21.373117      9.310373     102.446364         1.190458   \n",
       "std      11.027889      0.589924       3.953715         0.792666   \n",
       "min       4.000000      5.100000      82.000000         0.300000   \n",
       "25%      15.000000      9.000000     100.000000         0.880000   \n",
       "50%      19.000000      9.300000     103.000000         1.010000   \n",
       "75%      25.000000      9.700000     105.000000         1.290000   \n",
       "max     178.000000     13.700000     120.000000        18.850000   \n",
       "\n",
       "       hemoglobin_diag  neutrophil_count_diag  platelet_diag  potassium_diag  \\\n",
       "count      6556.000000            4945.000000    5870.000000     4782.000000   \n",
       "mean         12.549921               5.561577     238.343850        4.383323   \n",
       "std           2.113633              47.022308      92.930785        0.475594   \n",
       "min           4.400000               0.000000       4.000000        2.800000   \n",
       "25%          11.200000               3.300000     180.000000        4.100000   \n",
       "50%          12.800000               4.400000     225.000000        4.400000   \n",
       "75%          14.000000               5.700000     280.000000        4.700000   \n",
       "max          47.100000            3264.000000    1563.000000        7.400000   \n",
       "\n",
       "       sodium_diag  total_bilirubin_diag     wbc_diag  \n",
       "count  4774.000000           6156.000000  6113.000000  \n",
       "mean    139.136098              0.574847     7.344024  \n",
       "std       3.350663              0.401211     4.383730  \n",
       "min     117.000000              0.000000     0.600000  \n",
       "25%     137.000000              0.400000     5.500000  \n",
       "50%     139.000000              0.500000     6.730000  \n",
       "75%     141.000000              0.700000     8.400000  \n",
       "max     152.000000             14.800000   227.100000  "
      ]
     },
     "execution_count": 439,
     "metadata": {},
     "output_type": "execute_result"
    }
   ],
   "source": [
    "lab_diag_wide.describe()"
   ]
  },
  {
   "cell_type": "code",
   "execution_count": 440,
   "id": "7815a2de",
   "metadata": {},
   "outputs": [
    {
     "name": "stdout",
     "output_type": "stream",
     "text": [
      "Missing albumin: 60.10%\n",
      "Missing total_bilirubin: 59.34%\n",
      "Missing creatinine: 57.20%\n",
      "Missing hemoglobin: 56.70%\n",
      "Missing neutrophil: 67.34%\n",
      "Missing wbc: 59.63%\n",
      "Missing sodium: 68.47%\n",
      "Missing bicarb: 66.24%\n",
      "Missing calcium: 57.88%\n",
      "Missing ast: 58.50%\n",
      "Missing alt: 58.87%\n",
      "Missing platelet: 61.23%\n",
      "Missing potassium: 68.42%\n",
      "Missing chloride: 70.46%\n",
      "Missing bun: 57.61%\n",
      "Missing alp 58.64%\n"
     ]
    }
   ],
   "source": [
    "# Percentage of patients missing lab at time of advanced diagnosis.\n",
    "x = ((lab_diag_wide['albumin_diag'].isna().sum())/len(lab_diag_wide))*100\n",
    "print(f'Missing albumin: {x:.2f}%')\n",
    "\n",
    "x = ((lab_diag_wide['total_bilirubin_diag'].isna().sum())/len(lab_diag_wide))*100\n",
    "print(f'Missing total_bilirubin: {x:.2f}%')\n",
    "\n",
    "x = ((lab_diag_wide['creatinine_diag'].isna().sum())/len(lab_diag_wide))*100\n",
    "print(f'Missing creatinine: {x:.2f}%')\n",
    "\n",
    "x = ((lab_diag_wide['hemoglobin_diag'].isna().sum())/len(lab_diag_wide))*100\n",
    "print(f'Missing hemoglobin: {x:.2f}%')\n",
    "\n",
    "x = ((lab_diag_wide['neutrophil_count_diag'].isna().sum())/len(lab_diag_wide))*100\n",
    "print(f'Missing neutrophil: {x:.2f}%')\n",
    "\n",
    "x = ((lab_diag_wide['wbc_diag'].isna().sum())/len(lab_diag_wide))*100\n",
    "print(f'Missing wbc: {x:.2f}%')\n",
    "\n",
    "x = ((lab_diag_wide['sodium_diag'].isna().sum())/len(lab_diag_wide))*100\n",
    "print(f'Missing sodium: {x:.2f}%')\n",
    "\n",
    "x = ((lab_diag_wide['bicarb_diag'].isna().sum())/len(lab_diag_wide))*100\n",
    "print(f'Missing bicarb: {x:.2f}%')\n",
    "\n",
    "x = ((lab_diag_wide['calcium_diag'].isna().sum())/len(lab_diag_wide))*100\n",
    "print(f'Missing calcium: {x:.2f}%')\n",
    "\n",
    "x = ((lab_diag_wide['ast_diag'].isna().sum())/len(lab_diag_wide))*100\n",
    "print(f'Missing ast: {x:.2f}%')\n",
    "\n",
    "x = ((lab_diag_wide['alt_diag'].isna().sum())/len(lab_diag_wide))*100\n",
    "print(f'Missing alt: {x:.2f}%')\n",
    "\n",
    "x = ((lab_diag_wide['platelet_diag'].isna().sum())/len(lab_diag_wide))*100\n",
    "print(f'Missing platelet: {x:.2f}%')\n",
    "\n",
    "x = ((lab_diag_wide['potassium_diag'].isna().sum())/len(lab_diag_wide))*100\n",
    "print(f'Missing potassium: {x:.2f}%')\n",
    "\n",
    "x = ((lab_diag_wide['chloride_diag'].isna().sum())/len(lab_diag_wide))*100\n",
    "print(f'Missing chloride: {x:.2f}%')\n",
    "\n",
    "x = ((lab_diag_wide['bun_diag'].isna().sum())/len(lab_diag_wide))*100\n",
    "print(f'Missing bun: {x:.2f}%')\n",
    "\n",
    "x = ((lab_diag_wide['alp_diag'].isna().sum())/len(lab_diag_wide))*100\n",
    "print(f'Missing alp {x:.2f}%')"
   ]
  },
  {
   "cell_type": "code",
   "execution_count": 441,
   "id": "4601921d",
   "metadata": {},
   "outputs": [],
   "source": [
    "# Create missing variables for labs at time of diagnosis. \n",
    "for x in range (1, len(lab_diag_wide.columns)):\n",
    "    lab_diag_wide.loc[:, lab_diag_wide.columns[x]+'_na'] = np.where(lab_diag_wide[lab_diag_wide.columns[x]].isna(), 1, 0)"
   ]
  },
  {
   "cell_type": "code",
   "execution_count": 442,
   "id": "2db9c593",
   "metadata": {},
   "outputs": [
    {
     "data": {
      "text/plain": [
       "['PatientID',\n",
       " 'albumin_diag',\n",
       " 'alp_diag',\n",
       " 'alt_diag',\n",
       " 'ast_diag',\n",
       " 'bicarb_diag',\n",
       " 'bun_diag',\n",
       " 'calcium_diag',\n",
       " 'chloride_diag',\n",
       " 'creatinine_diag',\n",
       " 'hemoglobin_diag',\n",
       " 'neutrophil_count_diag',\n",
       " 'platelet_diag',\n",
       " 'potassium_diag',\n",
       " 'sodium_diag',\n",
       " 'total_bilirubin_diag',\n",
       " 'wbc_diag',\n",
       " 'albumin_diag_na',\n",
       " 'alp_diag_na',\n",
       " 'alt_diag_na',\n",
       " 'ast_diag_na',\n",
       " 'bicarb_diag_na',\n",
       " 'bun_diag_na',\n",
       " 'calcium_diag_na',\n",
       " 'chloride_diag_na',\n",
       " 'creatinine_diag_na',\n",
       " 'hemoglobin_diag_na',\n",
       " 'neutrophil_count_diag_na',\n",
       " 'platelet_diag_na',\n",
       " 'potassium_diag_na',\n",
       " 'sodium_diag_na',\n",
       " 'total_bilirubin_diag_na',\n",
       " 'wbc_diag_na']"
      ]
     },
     "execution_count": 442,
     "metadata": {},
     "output_type": "execute_result"
    }
   ],
   "source": [
    "list(lab_diag_wide.columns)"
   ]
  },
  {
   "cell_type": "code",
   "execution_count": 443,
   "id": "5e9c1e4e",
   "metadata": {},
   "outputs": [
    {
     "data": {
      "text/plain": [
       "0.16564295621161085"
      ]
     },
     "execution_count": 443,
     "metadata": {},
     "output_type": "execute_result"
    }
   ],
   "source": [
    "# Percentage of patients with all labs collected at time of advanced diagnosis.\n",
    "(\n",
    "    lab_diag_wide\n",
    "    [~lab_diag_wide.isnull().any(axis = 1)]\n",
    "    .shape[0]\n",
    "    /len(lab_diag_wide)\n",
    ")"
   ]
  },
  {
   "cell_type": "code",
   "execution_count": 444,
   "id": "85b56235",
   "metadata": {},
   "outputs": [
    {
     "data": {
      "text/plain": [
       "0.34865596724126546"
      ]
     },
     "execution_count": 444,
     "metadata": {},
     "output_type": "execute_result"
    }
   ],
   "source": [
    "# Percentage of patients with creatinine, hemoglobin, WBC, albumin, and bilirubin, collected at time of advanced diagnosis.\n",
    "(\n",
    "    lab_diag_wide\n",
    "    [~lab_diag_wide[['albumin_diag', 'total_bilirubin_diag', 'creatinine_diag', 'hemoglobin_diag', 'wbc_diag']]\n",
    "    .isnull().any(axis = 1)]\n",
    "    .shape[0]\n",
    "    /len(lab_diag_wide)\n",
    ")"
   ]
  },
  {
   "cell_type": "code",
   "execution_count": 445,
   "id": "77915b4a",
   "metadata": {},
   "outputs": [
    {
     "data": {
      "text/plain": [
       "0.3798956475794201"
      ]
     },
     "execution_count": 445,
     "metadata": {},
     "output_type": "execute_result"
    }
   ],
   "source": [
    "# Percentage of patients with creatinine, hemoglobin, and WBC colleced at time of advanced diagnosis. \n",
    "(\n",
    "    lab_diag_wide\n",
    "    [~lab_diag_wide[['creatinine_diag', 'hemoglobin_diag', 'wbc_diag']]\n",
    "     .isnull().any(axis = 1)]\n",
    "    .shape[0]\n",
    "    /len(lab_diag_wide)\n",
    ")"
   ]
  },
  {
   "cell_type": "markdown",
   "id": "8674d91a",
   "metadata": {},
   "source": [
    "#### Mean, max, min, and standard deviation"
   ]
  },
  {
   "cell_type": "code",
   "execution_count": 446,
   "id": "fa7e7789",
   "metadata": {},
   "outputs": [],
   "source": [
    "# Elgibility window is negative infinity to +30 from advanced diagnosis. \n",
    "lab_core_win_summ = (\n",
    "    lab_core\n",
    "    .assign(lab_date_diff = (lab_core['ResultDate'] - lab_core['met_date']).dt.days)\n",
    "    .query('lab_date_diff <= 30')\n",
    "    .filter(items = ['PatientID', 'ResultDate', 'TestResultCleaned', 'lab_name', 'met_date', 'test_result_cleaned', 'lab_date_diff'])\n",
    ")"
   ]
  },
  {
   "cell_type": "code",
   "execution_count": 447,
   "id": "22f2aed3",
   "metadata": {},
   "outputs": [],
   "source": [
    "# Pivot table of average values for core labs during elgibility period of -90 to -30 days from advanced diagnosis. \n",
    "lab_avg_wide = (\n",
    "    lab_core_win_summ\n",
    "    .groupby(['PatientID', 'lab_name'])['test_result_cleaned'].mean()\n",
    "    .to_frame()\n",
    "    .reset_index()\n",
    "    .pivot(index = 'PatientID', columns = 'lab_name', values = 'test_result_cleaned')\n",
    "    .reset_index()\n",
    "    .rename(columns = {\n",
    "        'albumin': 'albumin_avg',\n",
    "        'creatinine': 'creatinine_avg',\n",
    "        'hemoglobin': 'hemoglobin_avg',\n",
    "        'neutrophil_count': 'neutrophil_count_avg',\n",
    "        'total_bilirubin': 'total_bilirubin_avg',\n",
    "        'wbc': 'wbc_avg',\n",
    "        'sodium': 'sodium_avg', \n",
    "        'bicarb': 'bicarb_avg',\n",
    "        'calcium': 'calcium_avg',\n",
    "        'ast': 'ast_avg', \n",
    "        'alt': 'alt_avg',\n",
    "        'platelet': 'platelet_avg',\n",
    "        'potassium': 'potassium_avg',\n",
    "        'chloride': 'chloride_avg',\n",
    "        'bun': 'bun_avg',\n",
    "        'alp': 'alp_avg',\n",
    "        'psa': 'psa_avg'})\n",
    ")\n",
    "\n",
    "lab_avg_wide.columns.name = None"
   ]
  },
  {
   "cell_type": "code",
   "execution_count": 448,
   "id": "f78ddf04",
   "metadata": {},
   "outputs": [
    {
     "data": {
      "text/plain": [
       "(7717, 7717)"
      ]
     },
     "execution_count": 448,
     "metadata": {},
     "output_type": "execute_result"
    }
   ],
   "source": [
    "row_ID(lab_avg_wide)"
   ]
  },
  {
   "cell_type": "code",
   "execution_count": 449,
   "id": "a2be3b70",
   "metadata": {},
   "outputs": [],
   "source": [
    "# Pivot table of maximum values for core labs during elgibility period of -90 to -30 days from advanced diagnosis. \n",
    "lab_max_wide = (\n",
    "    lab_core_win_summ\n",
    "    .groupby(['PatientID', 'lab_name'])['test_result_cleaned'].max()\n",
    "    .to_frame()\n",
    "    .reset_index()\n",
    "    .pivot(index = 'PatientID', columns = 'lab_name', values = 'test_result_cleaned')\n",
    "    .reset_index()\n",
    "    .rename(columns = {\n",
    "        'albumin': 'albumin_max',\n",
    "        'creatinine': 'creatinine_max',\n",
    "        'hemoglobin': 'hemoglobin_max',\n",
    "        'neutrophil_count': 'neutrophil_count_max',\n",
    "        'total_bilirubin': 'total_bilirubin_max',\n",
    "        'wbc': 'wbc_max', \n",
    "        'sodium': 'sodium_max', \n",
    "        'bicarb': 'bicarb_max',\n",
    "        'calcium': 'calcium_max',\n",
    "        'ast': 'ast_max', \n",
    "        'alt': 'alt_max',\n",
    "        'platelet': 'platelet_max',\n",
    "        'potassium': 'potassium_max',\n",
    "        'chloride': 'chloride_max',\n",
    "        'bun': 'bun_max', \n",
    "        'alp': 'alp_max', \n",
    "        'psa': 'psa_max'})\n",
    ")\n",
    "\n",
    "lab_max_wide.columns.name = None"
   ]
  },
  {
   "cell_type": "code",
   "execution_count": 450,
   "id": "11c1f824",
   "metadata": {},
   "outputs": [
    {
     "data": {
      "text/plain": [
       "(7717, 7717)"
      ]
     },
     "execution_count": 450,
     "metadata": {},
     "output_type": "execute_result"
    }
   ],
   "source": [
    "row_ID(lab_max_wide)"
   ]
  },
  {
   "cell_type": "code",
   "execution_count": 451,
   "id": "02d3a72d",
   "metadata": {},
   "outputs": [],
   "source": [
    "# Pivot table of minimum values for core labs during elgibility period of -90 to -30 days from advanced diagnosis. \n",
    "lab_min_wide = (\n",
    "    lab_core_win_summ\n",
    "    .groupby(['PatientID', 'lab_name'])['test_result_cleaned'].min()\n",
    "    .to_frame()\n",
    "    .reset_index()\n",
    "    .pivot(index = 'PatientID', columns = 'lab_name', values = 'test_result_cleaned')\n",
    "    .reset_index()\n",
    "    .rename(columns = {\n",
    "        'albumin': 'albumin_min',\n",
    "        'creatinine': 'creatinine_min',\n",
    "        'hemoglobin': 'hemoglobin_min',\n",
    "        'neutrophil_count': 'neutrophil_count_min',\n",
    "        'total_bilirubin': 'total_bilirubin_min',\n",
    "        'wbc': 'wbc_min',\n",
    "        'sodium': 'sodium_min', \n",
    "        'bicarb': 'bicarb_min',\n",
    "        'calcium': 'calcium_min',\n",
    "        'ast': 'ast_min', \n",
    "        'alt': 'alt_min',\n",
    "        'platelet': 'platelet_min',\n",
    "        'potassium': 'potassium_min',\n",
    "        'chloride': 'chloride_min',\n",
    "        'bun': 'bun_min',\n",
    "        'alp': 'alp_min',\n",
    "        'psa': 'psa_min'})\n",
    ")\n",
    "\n",
    "lab_min_wide.columns.name = None"
   ]
  },
  {
   "cell_type": "code",
   "execution_count": 452,
   "id": "3349d73e",
   "metadata": {},
   "outputs": [
    {
     "data": {
      "text/plain": [
       "(7717, 7717)"
      ]
     },
     "execution_count": 452,
     "metadata": {},
     "output_type": "execute_result"
    }
   ],
   "source": [
    "row_ID(lab_min_wide)"
   ]
  },
  {
   "cell_type": "code",
   "execution_count": 453,
   "id": "a574f9ec",
   "metadata": {},
   "outputs": [],
   "source": [
    "# Pivot table of standard deviation for core labs during elgibility period of -90 to -30 days from advanced diagnosis. \n",
    "lab_std_wide = (\n",
    "    lab_core_win_summ\n",
    "    .groupby(['PatientID', 'lab_name'])['test_result_cleaned'].std()\n",
    "    .to_frame()\n",
    "    .reset_index()\n",
    "    .pivot(index = 'PatientID', columns = 'lab_name', values = 'test_result_cleaned')\n",
    "    .reset_index()\n",
    "    .rename(columns = {\n",
    "        'albumin': 'albumin_std',\n",
    "        'creatinine': 'creatinine_std',\n",
    "        'hemoglobin': 'hemoglobin_std',\n",
    "        'neutrophil_count': 'neutrophil_count_std',\n",
    "        'total_bilirubin': 'total_bilirubin_std',\n",
    "        'wbc': 'wbc_std',\n",
    "        'sodium': 'sodium_std', \n",
    "        'bicarb': 'bicarb_std',\n",
    "        'calcium': 'calcium_std',\n",
    "        'ast': 'ast_std', \n",
    "        'alt': 'alt_std',\n",
    "        'platelet': 'platelet_std',\n",
    "        'potassium': 'potassium_std',\n",
    "        'chloride': 'chloride_std',\n",
    "        'bun': 'bun_std', \n",
    "        'alp': 'alp_std', \n",
    "        'psa': 'psa_std'})\n",
    ")\n",
    "\n",
    "lab_std_wide.columns.name = None"
   ]
  },
  {
   "cell_type": "code",
   "execution_count": 454,
   "id": "860ed72a",
   "metadata": {},
   "outputs": [
    {
     "data": {
      "text/plain": [
       "(7717, 7717)"
      ]
     },
     "execution_count": 454,
     "metadata": {},
     "output_type": "execute_result"
    }
   ],
   "source": [
    "row_ID(lab_std_wide)"
   ]
  },
  {
   "cell_type": "code",
   "execution_count": 455,
   "id": "cb43ab86",
   "metadata": {},
   "outputs": [],
   "source": [
    "lab_summary_wide = pd.merge(lab_avg_wide, lab_max_wide, on = 'PatientID', how = 'outer')"
   ]
  },
  {
   "cell_type": "code",
   "execution_count": 456,
   "id": "d8bdea59",
   "metadata": {},
   "outputs": [],
   "source": [
    "lab_summary_wide = pd.merge(lab_summary_wide, lab_min_wide, on = 'PatientID', how = 'outer')"
   ]
  },
  {
   "cell_type": "code",
   "execution_count": 457,
   "id": "88e0585c",
   "metadata": {},
   "outputs": [],
   "source": [
    "lab_summary_wide = pd.merge(lab_summary_wide, lab_std_wide, on = 'PatientID', how = 'outer')"
   ]
  },
  {
   "cell_type": "code",
   "execution_count": 458,
   "id": "e94cd14e",
   "metadata": {},
   "outputs": [
    {
     "data": {
      "text/plain": [
       "(7717, 7717)"
      ]
     },
     "execution_count": 458,
     "metadata": {},
     "output_type": "execute_result"
    }
   ],
   "source": [
    "row_ID(lab_summary_wide)"
   ]
  },
  {
   "cell_type": "code",
   "execution_count": 459,
   "id": "31bd4031",
   "metadata": {},
   "outputs": [],
   "source": [
    "lab_summary_wide = (\n",
    "    lab_summary_wide\n",
    "    .append(\n",
    "        pd.Series(train_IDs)[~pd.Series(train_IDs).isin(lab_summary_wide['PatientID'])].to_frame(name = 'PatientID'),\n",
    "        sort = False)\n",
    ")"
   ]
  },
  {
   "cell_type": "code",
   "execution_count": 460,
   "id": "d5da1cf0",
   "metadata": {},
   "outputs": [
    {
     "data": {
      "text/plain": [
       "(15141, 15141)"
      ]
     },
     "execution_count": 460,
     "metadata": {},
     "output_type": "execute_result"
    }
   ],
   "source": [
    "row_ID(lab_summary_wide)"
   ]
  },
  {
   "cell_type": "code",
   "execution_count": 461,
   "id": "3db9040a",
   "metadata": {},
   "outputs": [
    {
     "data": {
      "text/html": [
       "<div>\n",
       "<style scoped>\n",
       "    .dataframe tbody tr th:only-of-type {\n",
       "        vertical-align: middle;\n",
       "    }\n",
       "\n",
       "    .dataframe tbody tr th {\n",
       "        vertical-align: top;\n",
       "    }\n",
       "\n",
       "    .dataframe thead th {\n",
       "        text-align: right;\n",
       "    }\n",
       "</style>\n",
       "<table border=\"1\" class=\"dataframe\">\n",
       "  <thead>\n",
       "    <tr style=\"text-align: right;\">\n",
       "      <th></th>\n",
       "      <th>PatientID</th>\n",
       "      <th>albumin_avg</th>\n",
       "      <th>alp_avg</th>\n",
       "      <th>alt_avg</th>\n",
       "      <th>ast_avg</th>\n",
       "      <th>bicarb_avg</th>\n",
       "      <th>bun_avg</th>\n",
       "      <th>calcium_avg</th>\n",
       "      <th>chloride_avg</th>\n",
       "      <th>creatinine_avg</th>\n",
       "      <th>...</th>\n",
       "      <th>chloride_std</th>\n",
       "      <th>creatinine_std</th>\n",
       "      <th>hemoglobin_std</th>\n",
       "      <th>neutrophil_count_std</th>\n",
       "      <th>platelet_std</th>\n",
       "      <th>potassium_std</th>\n",
       "      <th>psa_std</th>\n",
       "      <th>sodium_std</th>\n",
       "      <th>total_bilirubin_std</th>\n",
       "      <th>wbc_std</th>\n",
       "    </tr>\n",
       "  </thead>\n",
       "  <tbody>\n",
       "    <tr>\n",
       "      <th>13278</th>\n",
       "      <td>F1D2B188D0437</td>\n",
       "      <td>NaN</td>\n",
       "      <td>NaN</td>\n",
       "      <td>NaN</td>\n",
       "      <td>NaN</td>\n",
       "      <td>NaN</td>\n",
       "      <td>NaN</td>\n",
       "      <td>NaN</td>\n",
       "      <td>NaN</td>\n",
       "      <td>NaN</td>\n",
       "      <td>...</td>\n",
       "      <td>NaN</td>\n",
       "      <td>NaN</td>\n",
       "      <td>NaN</td>\n",
       "      <td>NaN</td>\n",
       "      <td>NaN</td>\n",
       "      <td>NaN</td>\n",
       "      <td>NaN</td>\n",
       "      <td>NaN</td>\n",
       "      <td>NaN</td>\n",
       "      <td>NaN</td>\n",
       "    </tr>\n",
       "    <tr>\n",
       "      <th>6961</th>\n",
       "      <td>F77039A2D3C36</td>\n",
       "      <td>NaN</td>\n",
       "      <td>NaN</td>\n",
       "      <td>NaN</td>\n",
       "      <td>NaN</td>\n",
       "      <td>NaN</td>\n",
       "      <td>NaN</td>\n",
       "      <td>NaN</td>\n",
       "      <td>NaN</td>\n",
       "      <td>NaN</td>\n",
       "      <td>...</td>\n",
       "      <td>NaN</td>\n",
       "      <td>NaN</td>\n",
       "      <td>NaN</td>\n",
       "      <td>NaN</td>\n",
       "      <td>NaN</td>\n",
       "      <td>NaN</td>\n",
       "      <td>NaN</td>\n",
       "      <td>NaN</td>\n",
       "      <td>NaN</td>\n",
       "      <td>NaN</td>\n",
       "    </tr>\n",
       "    <tr>\n",
       "      <th>4683</th>\n",
       "      <td>F9B1932BD6A45</td>\n",
       "      <td>NaN</td>\n",
       "      <td>NaN</td>\n",
       "      <td>NaN</td>\n",
       "      <td>NaN</td>\n",
       "      <td>NaN</td>\n",
       "      <td>NaN</td>\n",
       "      <td>NaN</td>\n",
       "      <td>NaN</td>\n",
       "      <td>NaN</td>\n",
       "      <td>...</td>\n",
       "      <td>NaN</td>\n",
       "      <td>NaN</td>\n",
       "      <td>NaN</td>\n",
       "      <td>NaN</td>\n",
       "      <td>NaN</td>\n",
       "      <td>NaN</td>\n",
       "      <td>NaN</td>\n",
       "      <td>NaN</td>\n",
       "      <td>NaN</td>\n",
       "      <td>NaN</td>\n",
       "    </tr>\n",
       "    <tr>\n",
       "      <th>2860</th>\n",
       "      <td>FA4A569784F85</td>\n",
       "      <td>NaN</td>\n",
       "      <td>NaN</td>\n",
       "      <td>NaN</td>\n",
       "      <td>NaN</td>\n",
       "      <td>NaN</td>\n",
       "      <td>NaN</td>\n",
       "      <td>NaN</td>\n",
       "      <td>NaN</td>\n",
       "      <td>NaN</td>\n",
       "      <td>...</td>\n",
       "      <td>NaN</td>\n",
       "      <td>NaN</td>\n",
       "      <td>NaN</td>\n",
       "      <td>NaN</td>\n",
       "      <td>NaN</td>\n",
       "      <td>NaN</td>\n",
       "      <td>NaN</td>\n",
       "      <td>NaN</td>\n",
       "      <td>NaN</td>\n",
       "      <td>NaN</td>\n",
       "    </tr>\n",
       "    <tr>\n",
       "      <th>3234</th>\n",
       "      <td>F6B60C3E7D974</td>\n",
       "      <td>27.37037</td>\n",
       "      <td>157.111111</td>\n",
       "      <td>23.37037</td>\n",
       "      <td>17.925926</td>\n",
       "      <td>26.774138</td>\n",
       "      <td>40.229167</td>\n",
       "      <td>9.039583</td>\n",
       "      <td>98.354167</td>\n",
       "      <td>1.293333</td>\n",
       "      <td>...</td>\n",
       "      <td>9.203352</td>\n",
       "      <td>0.368939</td>\n",
       "      <td>1.690447</td>\n",
       "      <td>NaN</td>\n",
       "      <td>NaN</td>\n",
       "      <td>0.59391</td>\n",
       "      <td>NaN</td>\n",
       "      <td>5.777455</td>\n",
       "      <td>0.110683</td>\n",
       "      <td>NaN</td>\n",
       "    </tr>\n",
       "  </tbody>\n",
       "</table>\n",
       "<p>5 rows × 69 columns</p>\n",
       "</div>"
      ],
      "text/plain": [
       "           PatientID  albumin_avg     alp_avg   alt_avg    ast_avg  \\\n",
       "13278  F1D2B188D0437          NaN         NaN       NaN        NaN   \n",
       "6961   F77039A2D3C36          NaN         NaN       NaN        NaN   \n",
       "4683   F9B1932BD6A45          NaN         NaN       NaN        NaN   \n",
       "2860   FA4A569784F85          NaN         NaN       NaN        NaN   \n",
       "3234   F6B60C3E7D974     27.37037  157.111111  23.37037  17.925926   \n",
       "\n",
       "       bicarb_avg    bun_avg  calcium_avg  chloride_avg  creatinine_avg  ...  \\\n",
       "13278         NaN        NaN          NaN           NaN             NaN  ...   \n",
       "6961          NaN        NaN          NaN           NaN             NaN  ...   \n",
       "4683          NaN        NaN          NaN           NaN             NaN  ...   \n",
       "2860          NaN        NaN          NaN           NaN             NaN  ...   \n",
       "3234    26.774138  40.229167     9.039583     98.354167        1.293333  ...   \n",
       "\n",
       "       chloride_std  creatinine_std  hemoglobin_std  neutrophil_count_std  \\\n",
       "13278           NaN             NaN             NaN                   NaN   \n",
       "6961            NaN             NaN             NaN                   NaN   \n",
       "4683            NaN             NaN             NaN                   NaN   \n",
       "2860            NaN             NaN             NaN                   NaN   \n",
       "3234       9.203352        0.368939        1.690447                   NaN   \n",
       "\n",
       "       platelet_std  potassium_std  psa_std  sodium_std  total_bilirubin_std  \\\n",
       "13278           NaN            NaN      NaN         NaN                  NaN   \n",
       "6961            NaN            NaN      NaN         NaN                  NaN   \n",
       "4683            NaN            NaN      NaN         NaN                  NaN   \n",
       "2860            NaN            NaN      NaN         NaN                  NaN   \n",
       "3234            NaN        0.59391      NaN    5.777455             0.110683   \n",
       "\n",
       "       wbc_std  \n",
       "13278      NaN  \n",
       "6961       NaN  \n",
       "4683       NaN  \n",
       "2860       NaN  \n",
       "3234       NaN  \n",
       "\n",
       "[5 rows x 69 columns]"
      ]
     },
     "execution_count": 461,
     "metadata": {},
     "output_type": "execute_result"
    }
   ],
   "source": [
    "lab_summary_wide.sample(5)"
   ]
  },
  {
   "cell_type": "code",
   "execution_count": 462,
   "id": "33371210",
   "metadata": {},
   "outputs": [
    {
     "data": {
      "text/plain": [
       "['PatientID',\n",
       " 'albumin_avg',\n",
       " 'alp_avg',\n",
       " 'alt_avg',\n",
       " 'ast_avg',\n",
       " 'bicarb_avg',\n",
       " 'bun_avg',\n",
       " 'calcium_avg',\n",
       " 'chloride_avg',\n",
       " 'creatinine_avg',\n",
       " 'hemoglobin_avg',\n",
       " 'neutrophil_count_avg',\n",
       " 'platelet_avg',\n",
       " 'potassium_avg',\n",
       " 'psa_avg',\n",
       " 'sodium_avg',\n",
       " 'total_bilirubin_avg',\n",
       " 'wbc_avg',\n",
       " 'albumin_max',\n",
       " 'alp_max',\n",
       " 'alt_max',\n",
       " 'ast_max',\n",
       " 'bicarb_max',\n",
       " 'bun_max',\n",
       " 'calcium_max',\n",
       " 'chloride_max',\n",
       " 'creatinine_max',\n",
       " 'hemoglobin_max',\n",
       " 'neutrophil_count_max',\n",
       " 'platelet_max',\n",
       " 'potassium_max',\n",
       " 'psa_max',\n",
       " 'sodium_max',\n",
       " 'total_bilirubin_max',\n",
       " 'wbc_max',\n",
       " 'albumin_min',\n",
       " 'alp_min',\n",
       " 'alt_min',\n",
       " 'ast_min',\n",
       " 'bicarb_min',\n",
       " 'bun_min',\n",
       " 'calcium_min',\n",
       " 'chloride_min',\n",
       " 'creatinine_min',\n",
       " 'hemoglobin_min',\n",
       " 'neutrophil_count_min',\n",
       " 'platelet_min',\n",
       " 'potassium_min',\n",
       " 'psa_min',\n",
       " 'sodium_min',\n",
       " 'total_bilirubin_min',\n",
       " 'wbc_min',\n",
       " 'albumin_std',\n",
       " 'alp_std',\n",
       " 'alt_std',\n",
       " 'ast_std',\n",
       " 'bicarb_std',\n",
       " 'bun_std',\n",
       " 'calcium_std',\n",
       " 'chloride_std',\n",
       " 'creatinine_std',\n",
       " 'hemoglobin_std',\n",
       " 'neutrophil_count_std',\n",
       " 'platelet_std',\n",
       " 'potassium_std',\n",
       " 'psa_std',\n",
       " 'sodium_std',\n",
       " 'total_bilirubin_std',\n",
       " 'wbc_std']"
      ]
     },
     "execution_count": 462,
     "metadata": {},
     "output_type": "execute_result"
    }
   ],
   "source": [
    "list(lab_summary_wide.columns)"
   ]
  },
  {
   "cell_type": "markdown",
   "id": "39d6b0ac",
   "metadata": {},
   "source": [
    "#### Slope"
   ]
  },
  {
   "cell_type": "code",
   "execution_count": 463,
   "id": "705a4e7a",
   "metadata": {},
   "outputs": [],
   "source": [
    "lab_core_win_summ.loc[:, 'result_date_ordinal'] = lab_core_win_summ['ResultDate'].map(dt.datetime.toordinal)"
   ]
  },
  {
   "cell_type": "code",
   "execution_count": 464,
   "id": "a3a04be8",
   "metadata": {},
   "outputs": [
    {
     "name": "stderr",
     "output_type": "stream",
     "text": [
      "/Users/xavierorcutt/Dropbox/ist_project/myenv/lib/python3.7/site-packages/scipy/stats/_stats_mstats_common.py:170: RuntimeWarning: invalid value encountered in double_scalars\n",
      "  slope = ssxym / ssxm\n",
      "/Users/xavierorcutt/Dropbox/ist_project/myenv/lib/python3.7/site-packages/scipy/stats/_stats_mstats_common.py:184: RuntimeWarning: invalid value encountered in sqrt\n",
      "  t = r * np.sqrt(df / ((1.0 - r + TINY)*(1.0 + r + TINY)))\n",
      "/Users/xavierorcutt/Dropbox/ist_project/myenv/lib/python3.7/site-packages/scipy/stats/_stats_mstats_common.py:187: RuntimeWarning: invalid value encountered in double_scalars\n",
      "  slope_stderr = np.sqrt((1 - r**2) * ssym / ssxm / df)\n",
      "/Users/xavierorcutt/Dropbox/ist_project/myenv/lib/python3.7/site-packages/scipy/stats/_stats_mstats_common.py:187: RuntimeWarning: divide by zero encountered in double_scalars\n",
      "  slope_stderr = np.sqrt((1 - r**2) * ssym / ssxm / df)\n"
     ]
    }
   ],
   "source": [
    "lab_slope_wide = (\n",
    "    lab_core_win_summ\n",
    "    .groupby(['PatientID', 'lab_name'])\n",
    "    .apply(lambda x: pd.Series(linregress(x['result_date_ordinal'], x['test_result_cleaned'])))\n",
    "    .rename(columns = {0: 'slope'})\n",
    "    .reset_index()\n",
    "    .filter(items = ['PatientID', 'lab_name', 'slope'])\n",
    "    .pivot(index = 'PatientID', columns = 'lab_name', values = 'slope')\n",
    "    .reset_index()\n",
    "    .rename(columns = {\n",
    "        'albumin': 'albumin_slope',\n",
    "        'creatinine': 'creatinine_slope',\n",
    "        'hemoglobin': 'hemoglobin_slope',\n",
    "        'neutrophil_count': 'neutrophil_count_slope',\n",
    "        'total_bilirubin': 'total_bilirubin_slope',\n",
    "        'wbc': 'wbc_slope',\n",
    "        'sodium': 'sodium_slope', \n",
    "        'bicarb': 'bicarb_slope',\n",
    "        'calcium': 'calcium_slope',\n",
    "        'ast': 'ast_slope', \n",
    "        'alt': 'alt_slope',\n",
    "        'platelet': 'platelet_slope',\n",
    "        'potassium': 'potassium_slope',\n",
    "        'chloride': 'chloride_slope',\n",
    "        'bun': 'bun_slope',\n",
    "        'alp': 'alp_slope',\n",
    "        'psa': 'psa_slope'})\n",
    ")\n",
    "\n",
    "lab_slope_wide.columns.name = None"
   ]
  },
  {
   "cell_type": "code",
   "execution_count": 465,
   "id": "5bf8a95a",
   "metadata": {},
   "outputs": [
    {
     "data": {
      "text/plain": [
       "(7717, 7717)"
      ]
     },
     "execution_count": 465,
     "metadata": {},
     "output_type": "execute_result"
    }
   ],
   "source": [
    "row_ID(lab_slope_wide)"
   ]
  },
  {
   "cell_type": "code",
   "execution_count": 466,
   "id": "9679f32e",
   "metadata": {},
   "outputs": [],
   "source": [
    "lab_slope_wide = (\n",
    "    lab_slope_wide\n",
    "    .append(\n",
    "        pd.Series(train_IDs)[~pd.Series(train_IDs).isin(lab_slope_wide['PatientID'])].to_frame(name = 'PatientID'),\n",
    "        sort = False)\n",
    ")"
   ]
  },
  {
   "cell_type": "code",
   "execution_count": 467,
   "id": "cff2fd90",
   "metadata": {},
   "outputs": [],
   "source": [
    "# Create missing variables for lab slope. \n",
    "for x in range (1, len(lab_slope_wide.columns)):\n",
    "    lab_slope_wide.loc[:, lab_slope_wide.columns[x]+'_na'] = np.where(lab_slope_wide[lab_slope_wide.columns[x]].isna(), 1, 0)"
   ]
  },
  {
   "cell_type": "code",
   "execution_count": 468,
   "id": "f639bf9f",
   "metadata": {},
   "outputs": [
    {
     "data": {
      "text/plain": [
       "(15141, 15141)"
      ]
     },
     "execution_count": 468,
     "metadata": {},
     "output_type": "execute_result"
    }
   ],
   "source": [
    "row_ID(lab_slope_wide)"
   ]
  },
  {
   "cell_type": "markdown",
   "id": "d1ac05b9",
   "metadata": {},
   "source": [
    "#### Merge"
   ]
  },
  {
   "cell_type": "code",
   "execution_count": 469,
   "id": "1b2e7843",
   "metadata": {},
   "outputs": [],
   "source": [
    "lab_wide = pd.merge(lab_diag_wide, lab_summary_wide, on = 'PatientID')"
   ]
  },
  {
   "cell_type": "code",
   "execution_count": 470,
   "id": "a74d317e",
   "metadata": {},
   "outputs": [],
   "source": [
    "lab_wide = pd.merge(lab_wide, lab_slope_wide, on = 'PatientID')"
   ]
  },
  {
   "cell_type": "code",
   "execution_count": 471,
   "id": "9289860a",
   "metadata": {},
   "outputs": [
    {
     "data": {
      "text/plain": [
       "(15141, 15141)"
      ]
     },
     "execution_count": 471,
     "metadata": {},
     "output_type": "execute_result"
    }
   ],
   "source": [
    "row_ID(lab_wide)"
   ]
  },
  {
   "cell_type": "code",
   "execution_count": 472,
   "id": "924391ea",
   "metadata": {},
   "outputs": [
    {
     "data": {
      "text/plain": [
       "['PatientID',\n",
       " 'albumin_diag',\n",
       " 'alp_diag',\n",
       " 'alt_diag',\n",
       " 'ast_diag',\n",
       " 'bicarb_diag',\n",
       " 'bun_diag',\n",
       " 'calcium_diag',\n",
       " 'chloride_diag',\n",
       " 'creatinine_diag',\n",
       " 'hemoglobin_diag',\n",
       " 'neutrophil_count_diag',\n",
       " 'platelet_diag',\n",
       " 'potassium_diag',\n",
       " 'sodium_diag',\n",
       " 'total_bilirubin_diag',\n",
       " 'wbc_diag',\n",
       " 'albumin_diag_na',\n",
       " 'alp_diag_na',\n",
       " 'alt_diag_na',\n",
       " 'ast_diag_na',\n",
       " 'bicarb_diag_na',\n",
       " 'bun_diag_na',\n",
       " 'calcium_diag_na',\n",
       " 'chloride_diag_na',\n",
       " 'creatinine_diag_na',\n",
       " 'hemoglobin_diag_na',\n",
       " 'neutrophil_count_diag_na',\n",
       " 'platelet_diag_na',\n",
       " 'potassium_diag_na',\n",
       " 'sodium_diag_na',\n",
       " 'total_bilirubin_diag_na',\n",
       " 'wbc_diag_na',\n",
       " 'albumin_avg',\n",
       " 'alp_avg',\n",
       " 'alt_avg',\n",
       " 'ast_avg',\n",
       " 'bicarb_avg',\n",
       " 'bun_avg',\n",
       " 'calcium_avg',\n",
       " 'chloride_avg',\n",
       " 'creatinine_avg',\n",
       " 'hemoglobin_avg',\n",
       " 'neutrophil_count_avg',\n",
       " 'platelet_avg',\n",
       " 'potassium_avg',\n",
       " 'psa_avg',\n",
       " 'sodium_avg',\n",
       " 'total_bilirubin_avg',\n",
       " 'wbc_avg',\n",
       " 'albumin_max',\n",
       " 'alp_max',\n",
       " 'alt_max',\n",
       " 'ast_max',\n",
       " 'bicarb_max',\n",
       " 'bun_max',\n",
       " 'calcium_max',\n",
       " 'chloride_max',\n",
       " 'creatinine_max',\n",
       " 'hemoglobin_max',\n",
       " 'neutrophil_count_max',\n",
       " 'platelet_max',\n",
       " 'potassium_max',\n",
       " 'psa_max',\n",
       " 'sodium_max',\n",
       " 'total_bilirubin_max',\n",
       " 'wbc_max',\n",
       " 'albumin_min',\n",
       " 'alp_min',\n",
       " 'alt_min',\n",
       " 'ast_min',\n",
       " 'bicarb_min',\n",
       " 'bun_min',\n",
       " 'calcium_min',\n",
       " 'chloride_min',\n",
       " 'creatinine_min',\n",
       " 'hemoglobin_min',\n",
       " 'neutrophil_count_min',\n",
       " 'platelet_min',\n",
       " 'potassium_min',\n",
       " 'psa_min',\n",
       " 'sodium_min',\n",
       " 'total_bilirubin_min',\n",
       " 'wbc_min',\n",
       " 'albumin_std',\n",
       " 'alp_std',\n",
       " 'alt_std',\n",
       " 'ast_std',\n",
       " 'bicarb_std',\n",
       " 'bun_std',\n",
       " 'calcium_std',\n",
       " 'chloride_std',\n",
       " 'creatinine_std',\n",
       " 'hemoglobin_std',\n",
       " 'neutrophil_count_std',\n",
       " 'platelet_std',\n",
       " 'potassium_std',\n",
       " 'psa_std',\n",
       " 'sodium_std',\n",
       " 'total_bilirubin_std',\n",
       " 'wbc_std',\n",
       " 'albumin_slope',\n",
       " 'alp_slope',\n",
       " 'alt_slope',\n",
       " 'ast_slope',\n",
       " 'bicarb_slope',\n",
       " 'bun_slope',\n",
       " 'calcium_slope',\n",
       " 'chloride_slope',\n",
       " 'creatinine_slope',\n",
       " 'hemoglobin_slope',\n",
       " 'neutrophil_count_slope',\n",
       " 'platelet_slope',\n",
       " 'potassium_slope',\n",
       " 'psa_slope',\n",
       " 'sodium_slope',\n",
       " 'total_bilirubin_slope',\n",
       " 'wbc_slope',\n",
       " 'albumin_slope_na',\n",
       " 'alp_slope_na',\n",
       " 'alt_slope_na',\n",
       " 'ast_slope_na',\n",
       " 'bicarb_slope_na',\n",
       " 'bun_slope_na',\n",
       " 'calcium_slope_na',\n",
       " 'chloride_slope_na',\n",
       " 'creatinine_slope_na',\n",
       " 'hemoglobin_slope_na',\n",
       " 'neutrophil_count_slope_na',\n",
       " 'platelet_slope_na',\n",
       " 'potassium_slope_na',\n",
       " 'psa_slope_na',\n",
       " 'sodium_slope_na',\n",
       " 'total_bilirubin_slope_na',\n",
       " 'wbc_slope_na']"
      ]
     },
     "execution_count": 472,
     "metadata": {},
     "output_type": "execute_result"
    }
   ],
   "source": [
    "list(lab_wide.columns)"
   ]
  },
  {
   "cell_type": "code",
   "execution_count": 473,
   "id": "3746ca68",
   "metadata": {},
   "outputs": [
    {
     "name": "stdout",
     "output_type": "stream",
     "text": [
      "Variable              Type         Data/Info\n",
      "--------------------------------------------\n",
      "biomarker_wide        DataFrame               PatientID brca<...>n[15141 rows x 2 columns]\n",
      "demographics          DataFrame               PatientID Gend<...>n[15141 rows x 6 columns]\n",
      "ecog_diagnosis_wide   DataFrame                PatientID eco<...>n[15141 rows x 2 columns]\n",
      "enhanced_met          DataFrame               PatientID diag<...>[15141 rows x 18 columns]\n",
      "insurance_wide        DataFrame               PatientID  med<...>n[15141 rows x 9 columns]\n",
      "lab                   DataFrame                 PatientID   <...>201153 rows x 17 columns]\n",
      "lab_avg_wide          DataFrame              PatientID  albu<...>n[7717 rows x 18 columns]\n",
      "lab_core              DataFrame                 PatientID Re<...>294035 rows x 11 columns]\n",
      "lab_core_win          DataFrame                 PatientID Re<...>[204106 rows x 7 columns]\n",
      "lab_core_win_summ     DataFrame                 PatientID Re<...>[662320 rows x 8 columns]\n",
      "lab_diag_wide         DataFrame               PatientID  alb<...>[15141 rows x 33 columns]\n",
      "lab_max_wide          DataFrame              PatientID  albu<...>n[7717 rows x 18 columns]\n",
      "lab_min_wide          DataFrame              PatientID  albu<...>n[7717 rows x 18 columns]\n",
      "lab_slope_wide        DataFrame               PatientID  alb<...>[15141 rows x 35 columns]\n",
      "lab_std_wide          DataFrame              PatientID  albu<...>n[7717 rows x 18 columns]\n",
      "lab_summary_wide      DataFrame               PatientID  alb<...>[15141 rows x 69 columns]\n",
      "lab_wide              DataFrame               PatientID  alb<...>15141 rows x 135 columns]\n",
      "med_admin_wide        DataFrame               PatientID  ste<...>[15141 rows x 13 columns]\n",
      "mortality             DataFrame               PatientID  dea<...>n[15141 rows x 3 columns]\n",
      "weight_wide           DataFrame               PatientID  wei<...>n[15141 rows x 7 columns]\n"
     ]
    }
   ],
   "source": [
    "%whos DataFrame"
   ]
  },
  {
   "cell_type": "code",
   "execution_count": 474,
   "id": "f16d1b35",
   "metadata": {},
   "outputs": [],
   "source": [
    "# Keep biomarker_wide, demographics, ecog_diagnosis_wide, enhanced_met, insurance_wide, lab_wide, med_admin_wide, \n",
    "# mortality, and weight_wide\n",
    "del lab\n",
    "del lab_avg_wide\n",
    "del lab_core\n",
    "del lab_core_win\n",
    "del lab_core_win_summ\n",
    "del lab_diag_wide\n",
    "del lab_max_wide\n",
    "del lab_min_wide\n",
    "del lab_slope_wide\n",
    "del lab_std_wide\n",
    "del lab_summary_wide"
   ]
  },
  {
   "cell_type": "markdown",
   "id": "37e4e781",
   "metadata": {},
   "source": [
    "### 10. Diagnosis"
   ]
  },
  {
   "cell_type": "code",
   "execution_count": 475,
   "id": "4eed8b3d",
   "metadata": {},
   "outputs": [],
   "source": [
    "diagnosis = pd.read_csv('Diagnosis.csv')"
   ]
  },
  {
   "cell_type": "code",
   "execution_count": 476,
   "id": "37827797",
   "metadata": {},
   "outputs": [],
   "source": [
    "diagnosis = diagnosis[diagnosis['PatientID'].isin(train_IDs)]"
   ]
  },
  {
   "cell_type": "code",
   "execution_count": 477,
   "id": "ab1c3a6e",
   "metadata": {},
   "outputs": [
    {
     "data": {
      "text/plain": [
       "(480268, 15141)"
      ]
     },
     "execution_count": 477,
     "metadata": {},
     "output_type": "execute_result"
    }
   ],
   "source": [
    "row_ID(diagnosis)"
   ]
  },
  {
   "cell_type": "code",
   "execution_count": 478,
   "id": "7f149102",
   "metadata": {},
   "outputs": [
    {
     "data": {
      "text/html": [
       "<div>\n",
       "<style scoped>\n",
       "    .dataframe tbody tr th:only-of-type {\n",
       "        vertical-align: middle;\n",
       "    }\n",
       "\n",
       "    .dataframe tbody tr th {\n",
       "        vertical-align: top;\n",
       "    }\n",
       "\n",
       "    .dataframe thead th {\n",
       "        text-align: right;\n",
       "    }\n",
       "</style>\n",
       "<table border=\"1\" class=\"dataframe\">\n",
       "  <thead>\n",
       "    <tr style=\"text-align: right;\">\n",
       "      <th></th>\n",
       "      <th>PatientID</th>\n",
       "      <th>DiagnosisDate</th>\n",
       "      <th>DiagnosisCode</th>\n",
       "      <th>DiagnosisCodeSystem</th>\n",
       "      <th>DiagnosisDescription</th>\n",
       "    </tr>\n",
       "  </thead>\n",
       "  <tbody>\n",
       "    <tr>\n",
       "      <th>127192</th>\n",
       "      <td>FFC82577F87F4</td>\n",
       "      <td>2021-01-18</td>\n",
       "      <td>I49.3</td>\n",
       "      <td>ICD-10-CM</td>\n",
       "      <td>Ventricular premature depolarization</td>\n",
       "    </tr>\n",
       "    <tr>\n",
       "      <th>100506</th>\n",
       "      <td>F478B96E694BC</td>\n",
       "      <td>2018-12-06</td>\n",
       "      <td>E11.8</td>\n",
       "      <td>ICD-10-CM</td>\n",
       "      <td>Type 2 diabetes mellitus with unspecified comp...</td>\n",
       "    </tr>\n",
       "    <tr>\n",
       "      <th>410509</th>\n",
       "      <td>F4E657DDFE626</td>\n",
       "      <td>2016-08-09</td>\n",
       "      <td>F41.1</td>\n",
       "      <td>ICD-10-CM</td>\n",
       "      <td>Generalized anxiety disorder</td>\n",
       "    </tr>\n",
       "    <tr>\n",
       "      <th>425720</th>\n",
       "      <td>F038DA3650DC9</td>\n",
       "      <td>2015-10-01</td>\n",
       "      <td>C61</td>\n",
       "      <td>ICD-10-CM</td>\n",
       "      <td>Malignant neoplasm of prostate</td>\n",
       "    </tr>\n",
       "    <tr>\n",
       "      <th>384855</th>\n",
       "      <td>F180E1FE6E4FD</td>\n",
       "      <td>2018-12-12</td>\n",
       "      <td>N18.3</td>\n",
       "      <td>ICD-10-CM</td>\n",
       "      <td>Chronic kidney disease, stage 3 (moderate)</td>\n",
       "    </tr>\n",
       "  </tbody>\n",
       "</table>\n",
       "</div>"
      ],
      "text/plain": [
       "            PatientID DiagnosisDate DiagnosisCode DiagnosisCodeSystem  \\\n",
       "127192  FFC82577F87F4    2021-01-18         I49.3           ICD-10-CM   \n",
       "100506  F478B96E694BC    2018-12-06         E11.8           ICD-10-CM   \n",
       "410509  F4E657DDFE626    2016-08-09         F41.1           ICD-10-CM   \n",
       "425720  F038DA3650DC9    2015-10-01           C61           ICD-10-CM   \n",
       "384855  F180E1FE6E4FD    2018-12-12         N18.3           ICD-10-CM   \n",
       "\n",
       "                                     DiagnosisDescription  \n",
       "127192               Ventricular premature depolarization  \n",
       "100506  Type 2 diabetes mellitus with unspecified comp...  \n",
       "410509                       Generalized anxiety disorder  \n",
       "425720                     Malignant neoplasm of prostate  \n",
       "384855         Chronic kidney disease, stage 3 (moderate)  "
      ]
     },
     "execution_count": 478,
     "metadata": {},
     "output_type": "execute_result"
    }
   ],
   "source": [
    "diagnosis.sample(5)"
   ]
  },
  {
   "cell_type": "code",
   "execution_count": 479,
   "id": "4cf6a24e",
   "metadata": {},
   "outputs": [
    {
     "data": {
      "text/plain": [
       "count    15141.000000\n",
       "mean        31.719701\n",
       "std        102.915507\n",
       "min          1.000000\n",
       "25%          4.000000\n",
       "50%          7.000000\n",
       "75%         14.000000\n",
       "max       1925.000000\n",
       "Name: DiagnosisCode, dtype: float64"
      ]
     },
     "execution_count": 479,
     "metadata": {},
     "output_type": "execute_result"
    }
   ],
   "source": [
    "(\n",
    "    diagnosis\n",
    "    .groupby('PatientID')['DiagnosisCode'].count()\n",
    "    .describe()\n",
    ")"
   ]
  },
  {
   "cell_type": "code",
   "execution_count": 480,
   "id": "b88e6894",
   "metadata": {},
   "outputs": [
    {
     "data": {
      "text/plain": [
       "10063"
      ]
     },
     "execution_count": 480,
     "metadata": {},
     "output_type": "execute_result"
    }
   ],
   "source": [
    "diagnosis['DiagnosisCode'].nunique()"
   ]
  },
  {
   "cell_type": "markdown",
   "id": "1f484590",
   "metadata": {},
   "source": [
    "**The Diagnosis table is in long format and has close to 14,000 unique ICD 9 and 10 codes. The median number of ICD codes per patient is 9 with a standard deviation of about 160 which shows the high varaibility in number of ICD codes per patent.** \n",
    "\n",
    "**ICD codes before metatstatic diagnosis and up to 30 days past diagnosis will be mapped to the Elixhauser comorbidity index. (\"Coding Algorithms for Defining Comorbidities in ICD-9-CM and ICD-10 Administrative Data\" by Quan et al is used as a guide for linking ICD codes to Elixhauser comorbidities.) Presence of concurrent or prior cancer diagnosis that is not lung cancer or metastasis and sites of metastases at time of diagnosis will also be created.** "
   ]
  },
  {
   "cell_type": "markdown",
   "id": "d9b5d1a1",
   "metadata": {},
   "source": [
    "#### Elixhauser"
   ]
  },
  {
   "cell_type": "code",
   "execution_count": 481,
   "id": "799bf49f",
   "metadata": {},
   "outputs": [],
   "source": [
    "diagnosis = pd.merge(diagnosis, enhanced_met[['PatientID', 'met_date']], on = 'PatientID', how = 'left')"
   ]
  },
  {
   "cell_type": "code",
   "execution_count": 482,
   "id": "f1f88e92",
   "metadata": {},
   "outputs": [],
   "source": [
    "diagnosis.loc[:, 'DiagnosisDate'] = pd.to_datetime(diagnosis['DiagnosisDate'])"
   ]
  },
  {
   "cell_type": "code",
   "execution_count": 483,
   "id": "c91e0e1d",
   "metadata": {},
   "outputs": [],
   "source": [
    "diagnosis.loc[:, 'diagnosis_date_diff'] = (diagnosis['DiagnosisDate'] - diagnosis['met_date']).dt.days"
   ]
  },
  {
   "cell_type": "code",
   "execution_count": 484,
   "id": "a15f84ed",
   "metadata": {},
   "outputs": [],
   "source": [
    "# Remove decimal to make mapping to Elixhauser easier. \n",
    "diagnosis.loc[:, 'diagnosis_code'] = diagnosis['DiagnosisCode'].replace('\\.', '', regex = True)"
   ]
  },
  {
   "cell_type": "markdown",
   "id": "0351875c",
   "metadata": {},
   "source": [
    "##### Elixhauser for ICD-9"
   ]
  },
  {
   "cell_type": "code",
   "execution_count": 485,
   "id": "96454b21",
   "metadata": {},
   "outputs": [],
   "source": [
    "# ICD-9 dataframe with unique codes for each patient. \n",
    "diagnosis_elix_9 = (\n",
    "    diagnosis\n",
    "    .query('diagnosis_date_diff <= 30')\n",
    "    .query('DiagnosisCodeSystem == \"ICD-9-CM\"')\n",
    "    .drop_duplicates(subset = (['PatientID', 'DiagnosisCode']), keep = 'first')\n",
    "    .filter(items = ['PatientID', 'DiagnosisCode', 'diagnosis_code'])\n",
    ")"
   ]
  },
  {
   "cell_type": "code",
   "execution_count": 486,
   "id": "76998746",
   "metadata": {},
   "outputs": [
    {
     "data": {
      "text/plain": [
       "(28807, 5230)"
      ]
     },
     "execution_count": 486,
     "metadata": {},
     "output_type": "execute_result"
    }
   ],
   "source": [
    "row_ID(diagnosis_elix_9)"
   ]
  },
  {
   "cell_type": "code",
   "execution_count": 487,
   "id": "09b801f6",
   "metadata": {},
   "outputs": [],
   "source": [
    "diagnosis_elix_9.loc[:, 'chf'] = (\n",
    "    np.where(diagnosis_elix_9['diagnosis_code'].str.match('39891|'\n",
    "                                                          '402(01|11|91)|'\n",
    "                                                          '404(01|03|[19][13])|'\n",
    "                                                          '42(5[456789]|8)'), 1, 0)\n",
    ")"
   ]
  },
  {
   "cell_type": "code",
   "execution_count": 488,
   "id": "a9846180",
   "metadata": {},
   "outputs": [],
   "source": [
    "diagnosis_elix_9.loc[:, 'cardiac_arrhythmias'] = (\n",
    "    np.where(diagnosis_elix_9['diagnosis_code'].str.match('426([079]|1[023])|'\n",
    "                                                          '427[012346789]|'\n",
    "                                                          '7850|'\n",
    "                                                          '996(01|04)|'\n",
    "                                                          'V450|'\n",
    "                                                          'V533'), 1, 0)\n",
    ")"
   ]
  },
  {
   "cell_type": "code",
   "execution_count": 489,
   "id": "d58f7fed",
   "metadata": {},
   "outputs": [],
   "source": [
    "diagnosis_elix_9.loc[:, 'valvular_disease'] = (\n",
    "    np.where(diagnosis_elix_9['diagnosis_code'].str.match('0932|'\n",
    "                                                          '39[4567]|'\n",
    "                                                          '424|'\n",
    "                                                          '746[3456]|'\n",
    "                                                          'V422|'\n",
    "                                                          'V433'), 1, 0)\n",
    ")"
   ]
  },
  {
   "cell_type": "code",
   "execution_count": 490,
   "id": "1a57f54f",
   "metadata": {},
   "outputs": [],
   "source": [
    "diagnosis_elix_9.loc[:, 'pulmonary_circulation'] = (\n",
    "    np.where(diagnosis_elix_9['diagnosis_code'].str.match('41(5[01]|6|7[089])'), 1, 0)\n",
    ")"
   ]
  },
  {
   "cell_type": "code",
   "execution_count": 491,
   "id": "d67e1dc2",
   "metadata": {},
   "outputs": [],
   "source": [
    "diagnosis_elix_9.loc[:, 'peripheral_vascular'] = (\n",
    "    np.where(diagnosis_elix_9['diagnosis_code'].str.match('0930|'\n",
    "                                                          '4373|'\n",
    "                                                          '44([01]|3[123456789]|71)|'\n",
    "                                                          '557[19]|'\n",
    "                                                          'V434'), 1, 0)\n",
    ")"
   ]
  },
  {
   "cell_type": "code",
   "execution_count": 492,
   "id": "30a3add2",
   "metadata": {},
   "outputs": [],
   "source": [
    "diagnosis_elix_9.loc[:, 'htn_uncomplicated'] = (\n",
    "    np.where(diagnosis_elix_9['diagnosis_code'].str.match('401'), 1, 0)\n",
    ")"
   ]
  },
  {
   "cell_type": "code",
   "execution_count": 493,
   "id": "b627b2fe",
   "metadata": {},
   "outputs": [],
   "source": [
    "diagnosis_elix_9.loc[:, 'htn_complicated'] = (\n",
    "    np.where(diagnosis_elix_9['diagnosis_code'].str.match('40[2345]'), 1, 0)\n",
    ")"
   ]
  },
  {
   "cell_type": "code",
   "execution_count": 494,
   "id": "7e0eabfe",
   "metadata": {},
   "outputs": [],
   "source": [
    "diagnosis_elix_9.loc[:, 'paralysis'] = (\n",
    "    np.where(diagnosis_elix_9['diagnosis_code'].str.match('3341|'\n",
    "                                                          '34([23]|4[01234569])'), 1, 0)\n",
    ")"
   ]
  },
  {
   "cell_type": "code",
   "execution_count": 495,
   "id": "61014061",
   "metadata": {},
   "outputs": [],
   "source": [
    "diagnosis_elix_9.loc[:, 'other_neuro_disorders'] = (\n",
    "    np.where(diagnosis_elix_9['diagnosis_code'].str.match('33(19|2[01]|3([45]|92)|[45]|62)|'\n",
    "                                                          '34([015]|8[13])|'\n",
    "                                                          '78[04]3'), 1, 0)\n",
    ")"
   ]
  },
  {
   "cell_type": "code",
   "execution_count": 496,
   "id": "7ee9b380",
   "metadata": {},
   "outputs": [],
   "source": [
    "diagnosis_elix_9.loc[:, 'chronic_pulmonary'] = (\n",
    "    np.where(diagnosis_elix_9['diagnosis_code'].str.match('416[89]|'\n",
    "                                                          '49|'\n",
    "                                                          '50([012345]|64|8[18])'), 1, 0)\n",
    ")"
   ]
  },
  {
   "cell_type": "code",
   "execution_count": 497,
   "id": "2a86d9d1",
   "metadata": {},
   "outputs": [],
   "source": [
    "diagnosis_elix_9.loc[:, 'diabetes_uncomplicated'] = (\n",
    "    np.where(diagnosis_elix_9['diagnosis_code'].str.match('250[0123]'), 1, 0)\n",
    ")"
   ]
  },
  {
   "cell_type": "code",
   "execution_count": 498,
   "id": "59dcd9d0",
   "metadata": {},
   "outputs": [],
   "source": [
    "diagnosis_elix_9.loc[:, 'diabetes_complicated'] = (\n",
    "    np.where(diagnosis_elix_9['diagnosis_code'].str.match('250[456789]'), 1, 0)\n",
    ")"
   ]
  },
  {
   "cell_type": "code",
   "execution_count": 499,
   "id": "267dc766",
   "metadata": {},
   "outputs": [],
   "source": [
    "diagnosis_elix_9.loc[:, 'hypothyroidism'] = (\n",
    "    np.where(diagnosis_elix_9['diagnosis_code'].str.match('2409|'\n",
    "                                                          '24([34]|6[18])'), 1, 0)\n",
    ")"
   ]
  },
  {
   "cell_type": "code",
   "execution_count": 500,
   "id": "65c291b3",
   "metadata": {},
   "outputs": [],
   "source": [
    "diagnosis_elix_9.loc[:, 'renal_failure'] = (\n",
    "    np.where(diagnosis_elix_9['diagnosis_code'].str.match('403[019]1|'\n",
    "                                                          '404[019][23]|'\n",
    "                                                          '58([56]|80)|'\n",
    "                                                          'V4(20|51)|'\n",
    "                                                          'V56'), 1, 0)\n",
    ")"
   ]
  },
  {
   "cell_type": "code",
   "execution_count": 501,
   "id": "b7bfeeb0",
   "metadata": {},
   "outputs": [],
   "source": [
    "diagnosis_elix_9.loc[:, 'liver_disease'] = (\n",
    "    np.where(diagnosis_elix_9['diagnosis_code'].str.match('070(2[23]]|3[23]|44|54|6|9)|'\n",
    "                                                          '456[012]|'\n",
    "                                                          '57([01]|2[2345678]|3[3489])|'\n",
    "                                                          'V427'), 1, 0)\n",
    ")"
   ]
  },
  {
   "cell_type": "code",
   "execution_count": 502,
   "id": "8cc9d6ad",
   "metadata": {},
   "outputs": [],
   "source": [
    "diagnosis_elix_9.loc[:, 'peptic_ulcer_disease'] = (\n",
    "    np.where(diagnosis_elix_9['diagnosis_code'].str.match('53[1234][79]'), 1, 0)\n",
    ")"
   ]
  },
  {
   "cell_type": "code",
   "execution_count": 503,
   "id": "fbfbaa9c",
   "metadata": {},
   "outputs": [],
   "source": [
    "diagnosis_elix_9.loc[:, 'aids_hiv'] = (\n",
    "    np.where(diagnosis_elix_9['diagnosis_code'].str.match('04[234]'), 1, 0)\n",
    ")"
   ]
  },
  {
   "cell_type": "code",
   "execution_count": 504,
   "id": "53879f38",
   "metadata": {},
   "outputs": [],
   "source": [
    "diagnosis_elix_9.loc[:, 'lymphoma'] = (\n",
    "    np.where(diagnosis_elix_9['diagnosis_code'].str.match('20([012]|30)|'\n",
    "                                                          '2386'), 1, 0)\n",
    ")"
   ]
  },
  {
   "cell_type": "code",
   "execution_count": 505,
   "id": "c85c467c",
   "metadata": {},
   "outputs": [],
   "source": [
    "diagnosis_elix_9.loc[:, 'metastatic_cancer'] = (\n",
    "    np.where(diagnosis_elix_9['diagnosis_code'].str.match('19[6789]'), 1, 0)\n",
    ")"
   ]
  },
  {
   "cell_type": "code",
   "execution_count": 506,
   "id": "0ccec7cc",
   "metadata": {},
   "outputs": [],
   "source": [
    "diagnosis_elix_9.loc[:, 'solid_tumor_wout_mets'] = (\n",
    "    np.where(diagnosis_elix_9['diagnosis_code'].str.match('1[456]|'\n",
    "                                                          '17[012456789]|'\n",
    "                                                          '18|'\n",
    "                                                          '19([012345])'), 1, 0)\n",
    ")"
   ]
  },
  {
   "cell_type": "code",
   "execution_count": 507,
   "id": "1888cd74",
   "metadata": {},
   "outputs": [],
   "source": [
    "diagnosis_elix_9.loc[:, 'rheumatoid_arthritis'] = (\n",
    "    np.where(diagnosis_elix_9['diagnosis_code'].str.match('446|'\n",
    "                                                          '7010|'\n",
    "                                                          '71(0[0123489]|12|4|93)|'\n",
    "                                                          '72([05]|85|889|930)'), 1, 0)\n",
    ")"
   ]
  },
  {
   "cell_type": "code",
   "execution_count": 508,
   "id": "3e66cfd5",
   "metadata": {},
   "outputs": [],
   "source": [
    "diagnosis_elix_9.loc[:, 'coagulopathy'] = (\n",
    "    np.where(diagnosis_elix_9['diagnosis_code'].str.match('28(6|7[1345])'), 1, 0)\n",
    ")"
   ]
  },
  {
   "cell_type": "code",
   "execution_count": 509,
   "id": "290be24f",
   "metadata": {},
   "outputs": [],
   "source": [
    "diagnosis_elix_9.loc[:, 'obesity'] = (\n",
    "    np.where(diagnosis_elix_9['diagnosis_code'].str.match('2780'), 1, 0)\n",
    ")"
   ]
  },
  {
   "cell_type": "code",
   "execution_count": 510,
   "id": "9e29ce19",
   "metadata": {},
   "outputs": [],
   "source": [
    "diagnosis_elix_9.loc[:, 'weight_loss'] = (\n",
    "    np.where(diagnosis_elix_9['diagnosis_code'].str.match('26[0123]|'\n",
    "                                                          '7832|'\n",
    "                                                          '7994'), 1, 0)\n",
    ")"
   ]
  },
  {
   "cell_type": "code",
   "execution_count": 511,
   "id": "274468e2",
   "metadata": {},
   "outputs": [],
   "source": [
    "diagnosis_elix_9.loc[:, 'fluid_electrolyte'] = (\n",
    "    np.where(diagnosis_elix_9['diagnosis_code'].str.match('2(536|76)'), 1, 0)\n",
    ")"
   ]
  },
  {
   "cell_type": "code",
   "execution_count": 512,
   "id": "f6b50630",
   "metadata": {},
   "outputs": [],
   "source": [
    "diagnosis_elix_9.loc[:, 'blood_loss_anemia'] = (\n",
    "    np.where(diagnosis_elix_9['diagnosis_code'].str.match('2800'), 1, 0)\n",
    ")"
   ]
  },
  {
   "cell_type": "code",
   "execution_count": 513,
   "id": "fd4cbf48",
   "metadata": {},
   "outputs": [],
   "source": [
    "diagnosis_elix_9.loc[:, 'deficiency_anemia'] = (\n",
    "    np.where(diagnosis_elix_9['diagnosis_code'].str.match('28(0[123456789]|1)'), 1, 0)\n",
    ")"
   ]
  },
  {
   "cell_type": "code",
   "execution_count": 514,
   "id": "245565d0",
   "metadata": {},
   "outputs": [],
   "source": [
    "diagnosis_elix_9.loc[:, 'alcohol_abuse'] = (\n",
    "    np.where(diagnosis_elix_9['diagnosis_code'].str.match('2652|'\n",
    "                                                          '291[12356789]|'\n",
    "                                                          '30(3[09]|50)|'\n",
    "                                                          '3575|'\n",
    "                                                          '4255|'\n",
    "                                                          '5353|'\n",
    "                                                          '571[0123]|'\n",
    "                                                          '980|'\n",
    "                                                          'V113'), 1, 0)\n",
    ")"
   ]
  },
  {
   "cell_type": "code",
   "execution_count": 515,
   "id": "b1389d0c",
   "metadata": {},
   "outputs": [],
   "source": [
    "diagnosis_elix_9.loc[:, 'drug_abuse'] = (\n",
    "    np.where(diagnosis_elix_9['diagnosis_code'].str.match('292|'\n",
    "                                                          '30(4|5[23456789])|'\n",
    "                                                          'V6542'), 1, 0)\n",
    ")"
   ]
  },
  {
   "cell_type": "code",
   "execution_count": 516,
   "id": "e2e4d4ce",
   "metadata": {},
   "outputs": [],
   "source": [
    "diagnosis_elix_9.loc[:, 'psychoses'] = (\n",
    "    np.where(diagnosis_elix_9['diagnosis_code'].str.match('2938|'\n",
    "                                                          '296[0145]4|'\n",
    "                                                          '29[578]'), 1, 0)\n",
    ")"
   ]
  },
  {
   "cell_type": "code",
   "execution_count": 517,
   "id": "444e5847",
   "metadata": {},
   "outputs": [],
   "source": [
    "diagnosis_elix_9.loc[:, 'depression'] = (\n",
    "    np.where(diagnosis_elix_9['diagnosis_code'].str.match('296[235]|'\n",
    "                                                          '3(004|09|11)'), 1, 0)\n",
    ")"
   ]
  },
  {
   "cell_type": "code",
   "execution_count": 518,
   "id": "71a6afa5",
   "metadata": {},
   "outputs": [],
   "source": [
    "# Create variable that captures ICD-9 codes not included in Elixhauser. \n",
    "diagnosis_elix_9.loc[:, 'elixhauser_other'] = (\n",
    "    np.where(diagnosis_elix_9.iloc[:, 3:].eq(0).all(1), 1, 0)\n",
    ")"
   ]
  },
  {
   "cell_type": "code",
   "execution_count": 519,
   "id": "1c45968b",
   "metadata": {},
   "outputs": [
    {
     "data": {
      "text/plain": [
       "0.6535217134724199"
      ]
     },
     "execution_count": 519,
     "metadata": {},
     "output_type": "execute_result"
    }
   ],
   "source": [
    "# Percentage of ICD-9 codes not captured by Elixhauser.\n",
    "diagnosis_elix_9['elixhauser_other'].sum()/len(diagnosis_elix_9)"
   ]
  },
  {
   "cell_type": "code",
   "execution_count": 520,
   "id": "285a6e6e",
   "metadata": {},
   "outputs": [],
   "source": [
    "# Single-row-per-patient dataframe with columns as Elixhauser comorbidities. \n",
    "diagnosis_elix_9_wide = (\n",
    "    diagnosis_elix_9\n",
    "    .drop(columns = ['DiagnosisCode', 'diagnosis_code'])\n",
    "    .groupby('PatientID').sum()\n",
    "    .reset_index()\n",
    ")"
   ]
  },
  {
   "cell_type": "code",
   "execution_count": 521,
   "id": "cc398708",
   "metadata": {},
   "outputs": [
    {
     "data": {
      "text/plain": [
       "(5230, 5230)"
      ]
     },
     "execution_count": 521,
     "metadata": {},
     "output_type": "execute_result"
    }
   ],
   "source": [
    "row_ID(diagnosis_elix_9_wide)"
   ]
  },
  {
   "cell_type": "markdown",
   "id": "5ea68a82",
   "metadata": {},
   "source": [
    "##### Elixhauser for ICD-10"
   ]
  },
  {
   "cell_type": "code",
   "execution_count": 522,
   "id": "87b76a32",
   "metadata": {},
   "outputs": [],
   "source": [
    "# ICD-10 dataframe with unique codes for each patient.  \n",
    "diagnosis_elix_10 = (\n",
    "    diagnosis\n",
    "    .query('diagnosis_date_diff <= 30')\n",
    "    .query('DiagnosisCodeSystem == \"ICD-10-CM\"')\n",
    "    .drop_duplicates(subset = (['PatientID', 'DiagnosisCode']), keep = 'first')\n",
    "    .filter(items = ['PatientID', 'DiagnosisCode', 'diagnosis_code'])\n",
    ")"
   ]
  },
  {
   "cell_type": "code",
   "execution_count": 523,
   "id": "679b5053",
   "metadata": {},
   "outputs": [
    {
     "data": {
      "text/plain": [
       "(59867, 8172)"
      ]
     },
     "execution_count": 523,
     "metadata": {},
     "output_type": "execute_result"
    }
   ],
   "source": [
    "row_ID(diagnosis_elix_10)"
   ]
  },
  {
   "cell_type": "code",
   "execution_count": 524,
   "id": "4d9dcbf8",
   "metadata": {},
   "outputs": [],
   "source": [
    "diagnosis_elix_10.loc[:, 'chf'] = (\n",
    "    np.where(diagnosis_elix_10['diagnosis_code'].str.match('I099|'\n",
    "                                                           'I1(10|3[02])|'\n",
    "                                                           'I255|'\n",
    "                                                           'I4(2[056789]|3)|'\n",
    "                                                           'I50|'\n",
    "                                                           'P290'), 1, 0)\n",
    ")"
   ]
  },
  {
   "cell_type": "code",
   "execution_count": 525,
   "id": "ec22d220",
   "metadata": {},
   "outputs": [],
   "source": [
    "diagnosis_elix_10.loc[:, 'cardiac_arrhythmias'] = (\n",
    "    np.where(diagnosis_elix_10['diagnosis_code'].str.match('I4(4[123]|5[69]|[789])|'\n",
    "                                                           'R00[018]|'\n",
    "                                                           'T821|'\n",
    "                                                           'Z[49]50'), 1, 0)\n",
    ")"
   ]
  },
  {
   "cell_type": "code",
   "execution_count": 526,
   "id": "bb38048d",
   "metadata": {},
   "outputs": [],
   "source": [
    "diagnosis_elix_10.loc[:, 'valvular_disease'] = (\n",
    "    np.where(diagnosis_elix_10['diagnosis_code'].str.match('A520|'\n",
    "                                                           'I0([5678]|9[18])|'\n",
    "                                                           'I3[456789]|'\n",
    "                                                           'Q23[0123]|'\n",
    "                                                           'Z95[234]'), 1, 0)\n",
    ")"
   ]
  },
  {
   "cell_type": "code",
   "execution_count": 527,
   "id": "1364c755",
   "metadata": {},
   "outputs": [],
   "source": [
    "diagnosis_elix_10.loc[:, 'pulmonary_circulation'] = (\n",
    "    np.where(diagnosis_elix_10['diagnosis_code'].str.match('I2([67]|8[089])'), 1, 0)\n",
    ")"
   ]
  },
  {
   "cell_type": "code",
   "execution_count": 528,
   "id": "9b02e6a2",
   "metadata": {},
   "outputs": [],
   "source": [
    "diagnosis_elix_10.loc[:, 'peripheral_vascular'] = (\n",
    "    np.where(diagnosis_elix_10['diagnosis_code'].str.match('I7([01]|3[189]|71|9[02])|'\n",
    "                                                           'K55[189]|'\n",
    "                                                           'Z95[89]'), 1, 0)\n",
    ")"
   ]
  },
  {
   "cell_type": "code",
   "execution_count": 529,
   "id": "07f5361c",
   "metadata": {},
   "outputs": [],
   "source": [
    "diagnosis_elix_10.loc[:, 'htn_uncomplicated'] = (\n",
    "    np.where(diagnosis_elix_10['diagnosis_code'].str.match('I10'), 1, 0)\n",
    ")"
   ]
  },
  {
   "cell_type": "code",
   "execution_count": 530,
   "id": "590180be",
   "metadata": {},
   "outputs": [],
   "source": [
    "diagnosis_elix_10.loc[:, 'htn_complicated'] = (\n",
    "    np.where(diagnosis_elix_10['diagnosis_code'].str.match('I1[1235]'), 1, 0)\n",
    ")"
   ]
  },
  {
   "cell_type": "code",
   "execution_count": 531,
   "id": "302a9e20",
   "metadata": {},
   "outputs": [],
   "source": [
    "diagnosis_elix_10.loc[:, 'paralysis'] = (\n",
    "    np.where(diagnosis_elix_10['diagnosis_code'].str.match('G041|'\n",
    "                                                           'G114|'\n",
    "                                                           'G8(0[12]|[12]|3[012349])'), 1, 0)\n",
    ")"
   ]
  },
  {
   "cell_type": "code",
   "execution_count": 532,
   "id": "031cc07c",
   "metadata": {},
   "outputs": [],
   "source": [
    "diagnosis_elix_10.loc[:, 'other_neuro_disorders'] = (\n",
    "    np.where(diagnosis_elix_10['diagnosis_code'].str.match('G1[0123]|'\n",
    "                                                           'G2([012]|5[45])|'\n",
    "                                                           'G3(1[289]|[2567])|'\n",
    "                                                           'G4[01]|'\n",
    "                                                           'G93[14]|'\n",
    "                                                           'R470|'\n",
    "                                                           'R56'), 1, 0)\n",
    ")"
   ]
  },
  {
   "cell_type": "code",
   "execution_count": 533,
   "id": "3c17aef6",
   "metadata": {},
   "outputs": [],
   "source": [
    "diagnosis_elix_10.loc[:, 'chronic_pulmonary'] = (\n",
    "    np.where(diagnosis_elix_10['diagnosis_code'].str.match('I27[89]|'\n",
    "                                                           'J4[01234567]|'\n",
    "                                                           'J6([01234567]|84)|'\n",
    "                                                           'J70[13]'), 1, 0)\n",
    ")"
   ]
  },
  {
   "cell_type": "code",
   "execution_count": 534,
   "id": "63850519",
   "metadata": {},
   "outputs": [],
   "source": [
    "diagnosis_elix_10.loc[:, 'diabetes_uncomplicated'] = (\n",
    "    np.where(diagnosis_elix_10['diagnosis_code'].str.match('E1[01234][019]'), 1, 0)\n",
    ")"
   ]
  },
  {
   "cell_type": "code",
   "execution_count": 535,
   "id": "9c0eb8ac",
   "metadata": {},
   "outputs": [],
   "source": [
    "diagnosis_elix_10.loc[:, 'diabetes_complicated'] = (\n",
    "    np.where(diagnosis_elix_10['diagnosis_code'].str.match('E1[01234][2345678]'), 1, 0)\n",
    ")"
   ]
  },
  {
   "cell_type": "code",
   "execution_count": 536,
   "id": "9a1b7c36",
   "metadata": {},
   "outputs": [],
   "source": [
    "diagnosis_elix_10.loc[:, 'hypothyroidism'] = (\n",
    "    np.where(diagnosis_elix_10['diagnosis_code'].str.match('E0[0123]|'\n",
    "                                                           'E890'), 1, 0)\n",
    ")"
   ]
  },
  {
   "cell_type": "code",
   "execution_count": 537,
   "id": "d1a4fb41",
   "metadata": {},
   "outputs": [],
   "source": [
    "diagnosis_elix_10.loc[:, 'renal_failure'] = (\n",
    "    np.where(diagnosis_elix_10['diagnosis_code'].str.match('I1(20|31)|'\n",
    "                                                           'N1[89]|'\n",
    "                                                           'N250|'\n",
    "                                                           'Z49[012]|'\n",
    "                                                           'Z9(40|92)'), 1, 0)\n",
    ")"
   ]
  },
  {
   "cell_type": "code",
   "execution_count": 538,
   "id": "9c6084c1",
   "metadata": {},
   "outputs": [],
   "source": [
    "diagnosis_elix_10.loc[:, 'liver_disease'] = (\n",
    "    np.where(diagnosis_elix_10['diagnosis_code'].str.match('B18|'\n",
    "                                                           'I8(5|64)|'\n",
    "                                                           'I982|'\n",
    "                                                           'K7(0|1[13457]|[234]|6[023456789])|'\n",
    "                                                           'Z944'), 1, 0)\n",
    ")"
   ]
  },
  {
   "cell_type": "code",
   "execution_count": 539,
   "id": "bca986f3",
   "metadata": {},
   "outputs": [],
   "source": [
    "diagnosis_elix_10.loc[:, 'peptic_ulcer_disease'] = (\n",
    "    np.where(diagnosis_elix_10['diagnosis_code'].str.match('K2[5678][79]'), 1, 0)\n",
    ")"
   ]
  },
  {
   "cell_type": "code",
   "execution_count": 540,
   "id": "040ed239",
   "metadata": {},
   "outputs": [],
   "source": [
    "diagnosis_elix_10.loc[:, 'aids_hiv'] = (\n",
    "    np.where(diagnosis_elix_10['diagnosis_code'].str.match('B2[0124]'), 1, 0)\n",
    ")"
   ]
  },
  {
   "cell_type": "code",
   "execution_count": 541,
   "id": "1b46e8c0",
   "metadata": {},
   "outputs": [],
   "source": [
    "diagnosis_elix_10.loc[:, 'lymphoma'] = (\n",
    "    np.where(diagnosis_elix_10['diagnosis_code'].str.match('C8[123458]|'\n",
    "                                                           'C9(0[02]|6)'), 1, 0)\n",
    ")"
   ]
  },
  {
   "cell_type": "code",
   "execution_count": 542,
   "id": "5b308c73",
   "metadata": {},
   "outputs": [],
   "source": [
    "diagnosis_elix_10.loc[:, 'metastatic_cancer'] = (\n",
    "    np.where(diagnosis_elix_10['diagnosis_code'].str.match('C(7[789]|80)'), 1, 0)\n",
    ")"
   ]
  },
  {
   "cell_type": "code",
   "execution_count": 543,
   "id": "9ccb9c11",
   "metadata": {},
   "outputs": [],
   "source": [
    "diagnosis_elix_10.loc[:, 'solid_tumor_wout_mets'] = (\n",
    "    np.where(diagnosis_elix_10['diagnosis_code'].str.match('C[01]|'\n",
    "                                                           'C2[0123456]|'\n",
    "                                                           'C3[01234789]|'\n",
    "                                                           'C4[01356789]|'\n",
    "                                                           'C5[012345678]|'\n",
    "                                                           'C6|'\n",
    "                                                           'C7[0123456]|'\n",
    "                                                           'C97'), 1, 0)\n",
    ")"
   ]
  },
  {
   "cell_type": "code",
   "execution_count": 544,
   "id": "ac583522",
   "metadata": {},
   "outputs": [],
   "source": [
    "diagnosis_elix_10.loc[:, 'rheumatoid_arthritis'] = (\n",
    "    np.where(diagnosis_elix_10['diagnosis_code'].str.match('L94[013]|'\n",
    "                                                           'M0[568]|'\n",
    "                                                           'M12[03]|'\n",
    "                                                           'M3(0|1[0123]|[2345])|'\n",
    "                                                           'M4(5|6[189])'), 1, 0)\n",
    ")"
   ]
  },
  {
   "cell_type": "code",
   "execution_count": 545,
   "id": "324536e6",
   "metadata": {},
   "outputs": [],
   "source": [
    "diagnosis_elix_10.loc[:, 'coagulopathy'] = (\n",
    "    np.where(diagnosis_elix_10['diagnosis_code'].str.match('D6([5678]|9[13456])'), 1, 0)\n",
    ")"
   ]
  },
  {
   "cell_type": "code",
   "execution_count": 546,
   "id": "579d5b1c",
   "metadata": {},
   "outputs": [],
   "source": [
    "diagnosis_elix_10.loc[:, 'obesity'] = (\n",
    "    np.where(diagnosis_elix_10['diagnosis_code'].str.match('E66'), 1, 0)\n",
    ")"
   ]
  },
  {
   "cell_type": "code",
   "execution_count": 547,
   "id": "634c4628",
   "metadata": {},
   "outputs": [],
   "source": [
    "diagnosis_elix_10.loc[:, 'weight_loss'] = (\n",
    "    np.where(diagnosis_elix_10['diagnosis_code'].str.match('E4[0123456]|'\n",
    "                                                           'R6(34|4)'), 1, 0)\n",
    ")"
   ]
  },
  {
   "cell_type": "code",
   "execution_count": 548,
   "id": "f92d490e",
   "metadata": {},
   "outputs": [],
   "source": [
    "diagnosis_elix_10.loc[:, 'fluid_electrolyte'] = (\n",
    "    np.where(diagnosis_elix_10['diagnosis_code'].str.match('E222|'\n",
    "                                                           'E8[67]'), 1, 0)\n",
    ")"
   ]
  },
  {
   "cell_type": "code",
   "execution_count": 549,
   "id": "04b1830a",
   "metadata": {},
   "outputs": [],
   "source": [
    "diagnosis_elix_10.loc[:, 'blood_loss_anemia'] = (\n",
    "    np.where(diagnosis_elix_10['diagnosis_code'].str.match('D500'), 1, 0)\n",
    ")"
   ]
  },
  {
   "cell_type": "code",
   "execution_count": 550,
   "id": "a198d8fa",
   "metadata": {},
   "outputs": [],
   "source": [
    "diagnosis_elix_10.loc[:, 'deficiency_anemia'] = (\n",
    "    np.where(diagnosis_elix_10['diagnosis_code'].str.match('D5(0[89]|[123])'), 1, 0)\n",
    ")"
   ]
  },
  {
   "cell_type": "code",
   "execution_count": 551,
   "id": "267b410b",
   "metadata": {},
   "outputs": [],
   "source": [
    "diagnosis_elix_10.loc[:, 'alcohol_abuse'] = (\n",
    "    np.where(diagnosis_elix_10['diagnosis_code'].str.match('F10|'\n",
    "                                                           'E52|'\n",
    "                                                           'G621|'\n",
    "                                                           'I426|'\n",
    "                                                           'K292|'\n",
    "                                                           'K70[039]|'\n",
    "                                                           'T51|'\n",
    "                                                           'Z502|'\n",
    "                                                           'Z7(14|21)'), 1, 0)\n",
    ")"
   ]
  },
  {
   "cell_type": "code",
   "execution_count": 552,
   "id": "32b27f7a",
   "metadata": {},
   "outputs": [],
   "source": [
    "diagnosis_elix_10.loc[:, 'drug_abuse'] = (\n",
    "    np.where(diagnosis_elix_10['diagnosis_code'].str.match('F1[12345689]|'\n",
    "                                                           'Z7(15|22)'), 1, 0)\n",
    ")"
   ]
  },
  {
   "cell_type": "code",
   "execution_count": 553,
   "id": "bdf761ab",
   "metadata": {},
   "outputs": [],
   "source": [
    "diagnosis_elix_10.loc[:, 'psychoses'] = (\n",
    "    np.where(diagnosis_elix_10['diagnosis_code'].str.match('F2[0234589]|'\n",
    "                                                           'F3([01]2|15)'), 1, 0)\n",
    ")"
   ]
  },
  {
   "cell_type": "code",
   "execution_count": 554,
   "id": "d5c3b3f2",
   "metadata": {},
   "outputs": [],
   "source": [
    "diagnosis_elix_10.loc[:, 'depression'] = (\n",
    "    np.where(diagnosis_elix_10['diagnosis_code'].str.match('F204|'\n",
    "                                                           'F3(1[345]|[23]|41)|'\n",
    "                                                           'F4[13]2'), 1, 0)\n",
    ")"
   ]
  },
  {
   "cell_type": "code",
   "execution_count": 555,
   "id": "38d50044",
   "metadata": {},
   "outputs": [],
   "source": [
    "# Create variable that captures ICD-10 codes not included in Elixhauser. \n",
    "diagnosis_elix_10.loc[:, 'elixhauser_other'] = (\n",
    "    np.where(diagnosis_elix_10.iloc[:, 3:].eq(0).all(1), 1, 0)\n",
    ")"
   ]
  },
  {
   "cell_type": "code",
   "execution_count": 556,
   "id": "a13636b4",
   "metadata": {},
   "outputs": [
    {
     "data": {
      "text/plain": [
       "0.6479863697863598"
      ]
     },
     "execution_count": 556,
     "metadata": {},
     "output_type": "execute_result"
    }
   ],
   "source": [
    "# Percenage of ICD-10 codes not captured by Elixhauser\n",
    "diagnosis_elix_10['elixhauser_other'].sum()/len(diagnosis_elix_10)"
   ]
  },
  {
   "cell_type": "code",
   "execution_count": 557,
   "id": "4bc0ef6e",
   "metadata": {},
   "outputs": [],
   "source": [
    "diagnosis_elix_10_wide = (\n",
    "    diagnosis_elix_10\n",
    "    .drop(columns = ['DiagnosisCode', 'diagnosis_code'])\n",
    "    .groupby('PatientID').sum()\n",
    "    .reset_index()\n",
    ")"
   ]
  },
  {
   "cell_type": "code",
   "execution_count": 558,
   "id": "41d39223",
   "metadata": {},
   "outputs": [
    {
     "data": {
      "text/plain": [
       "(8172, 8172)"
      ]
     },
     "execution_count": 558,
     "metadata": {},
     "output_type": "execute_result"
    }
   ],
   "source": [
    "row_ID(diagnosis_elix_10_wide)"
   ]
  },
  {
   "cell_type": "code",
   "execution_count": 559,
   "id": "7a05826c",
   "metadata": {},
   "outputs": [],
   "source": [
    "# Merge Elixhauser 9 and 10 and sum by PatientID.\n",
    "diagnosis_elixhauser = (\n",
    "    pd.concat([diagnosis_elix_9_wide, diagnosis_elix_10_wide])\n",
    "    .groupby('PatientID').sum()\n",
    ")"
   ]
  },
  {
   "cell_type": "code",
   "execution_count": 560,
   "id": "254585d2",
   "metadata": {},
   "outputs": [],
   "source": [
    "# Create unqiue ICD count for each patient. \n",
    "diagnosis_elixhauser['icd_count'] = diagnosis_elixhauser.sum(axis = 1)  "
   ]
  },
  {
   "cell_type": "code",
   "execution_count": 561,
   "id": "c03e9a3d",
   "metadata": {},
   "outputs": [],
   "source": [
    "# Other than unique ICD count, values greater than 1 are set to 1; 0 remains unchanged. \n",
    "diagnosis_elixhauser.iloc[:, :-1] = (\n",
    "    diagnosis_elixhauser.iloc[:, :-1].mask(diagnosis_elixhauser.iloc[:, :-1] >1, 1)\n",
    ")"
   ]
  },
  {
   "cell_type": "code",
   "execution_count": 562,
   "id": "28393198",
   "metadata": {},
   "outputs": [],
   "source": [
    "diagnosis_elixhauser = diagnosis_elixhauser.reset_index()"
   ]
  },
  {
   "cell_type": "code",
   "execution_count": 563,
   "id": "bfeb2848",
   "metadata": {},
   "outputs": [
    {
     "data": {
      "text/plain": [
       "(11108, 11108)"
      ]
     },
     "execution_count": 563,
     "metadata": {},
     "output_type": "execute_result"
    }
   ],
   "source": [
    "row_ID(diagnosis_elixhauser)"
   ]
  },
  {
   "cell_type": "code",
   "execution_count": 564,
   "id": "511264e8",
   "metadata": {},
   "outputs": [
    {
     "data": {
      "text/plain": [
       "Text(0.5, 1.0, 'Incidence of Elixhauser comorbidities at time of metastatic CRC')"
      ]
     },
     "execution_count": 564,
     "metadata": {},
     "output_type": "execute_result"
    },
    {
     "data": {
      "image/png": "[encoded data removed]",
      "text/plain": [
       "<Figure size 1000x800 with 1 Axes>"
      ]
     },
     "metadata": {},
     "output_type": "display_data"
    }
   ],
   "source": [
    "%matplotlib inline\n",
    "diagnosis_elixhauser.iloc[:, 1:33].sum(axis = 0).sort_values(ascending = False).plot(kind = 'bar', figsize = (10,8))\n",
    "plt.xlabel('Elixhauser comorbidities', fontsize = 16)\n",
    "plt.title('Incidence of Elixhauser comorbidities at time of metastatic CRC', fontsize = 20)"
   ]
  },
  {
   "cell_type": "code",
   "execution_count": 565,
   "id": "ae7f2788",
   "metadata": {},
   "outputs": [
    {
     "data": {
      "text/plain": [
       "Text(0.5, 1.0, 'Incidence of Elixhauser comorbidities at time of metastatic CRC')"
      ]
     },
     "execution_count": 565,
     "metadata": {},
     "output_type": "execute_result"
    },
    {
     "data": {
      "image/png": "[encoded data removed]",
      "text/plain": [
       "<Figure size 1000x800 with 1 Axes>"
      ]
     },
     "metadata": {},
     "output_type": "display_data"
    }
   ],
   "source": [
    "# Same plot as above but excluding tumor and mets.\n",
    "%matplotlib inline\n",
    "diagnosis_elixhauser.iloc[:, 1:33].sum(axis = 0).sort_values(ascending = False).tail(29).plot(kind = 'bar', figsize = (10,8))\n",
    "plt.xlabel('Elixhauser comorbidities', fontsize = 16)\n",
    "plt.title('Incidence of Elixhauser comorbidities at time of metastatic CRC', fontsize = 20)"
   ]
  },
  {
   "cell_type": "code",
   "execution_count": 566,
   "id": "bce8a9ff",
   "metadata": {},
   "outputs": [],
   "source": [
    "# Append missing training IDs.\n",
    "diagnosis_elixhauser = (\n",
    "    diagnosis_elixhauser\n",
    "    .append(\n",
    "        pd.Series(train_IDs)[~pd.Series(train_IDs).isin(diagnosis_elixhauser['PatientID'])].to_frame(name = 'PatientID'), \n",
    "        sort = False)\n",
    "    .fillna(0)\n",
    ")"
   ]
  },
  {
   "cell_type": "code",
   "execution_count": 567,
   "id": "1e6ddb60",
   "metadata": {},
   "outputs": [
    {
     "data": {
      "text/plain": [
       "(15141, 15141)"
      ]
     },
     "execution_count": 567,
     "metadata": {},
     "output_type": "execute_result"
    }
   ],
   "source": [
    "row_ID(diagnosis_elixhauser)"
   ]
  },
  {
   "cell_type": "code",
   "execution_count": 568,
   "id": "e81864e5",
   "metadata": {},
   "outputs": [
    {
     "data": {
      "text/html": [
       "<div>\n",
       "<style scoped>\n",
       "    .dataframe tbody tr th:only-of-type {\n",
       "        vertical-align: middle;\n",
       "    }\n",
       "\n",
       "    .dataframe tbody tr th {\n",
       "        vertical-align: top;\n",
       "    }\n",
       "\n",
       "    .dataframe thead th {\n",
       "        text-align: right;\n",
       "    }\n",
       "</style>\n",
       "<table border=\"1\" class=\"dataframe\">\n",
       "  <thead>\n",
       "    <tr style=\"text-align: right;\">\n",
       "      <th></th>\n",
       "      <th>PatientID</th>\n",
       "      <th>chf</th>\n",
       "      <th>cardiac_arrhythmias</th>\n",
       "      <th>valvular_disease</th>\n",
       "      <th>pulmonary_circulation</th>\n",
       "      <th>peripheral_vascular</th>\n",
       "      <th>htn_uncomplicated</th>\n",
       "      <th>htn_complicated</th>\n",
       "      <th>paralysis</th>\n",
       "      <th>other_neuro_disorders</th>\n",
       "      <th>...</th>\n",
       "      <th>weight_loss</th>\n",
       "      <th>fluid_electrolyte</th>\n",
       "      <th>blood_loss_anemia</th>\n",
       "      <th>deficiency_anemia</th>\n",
       "      <th>alcohol_abuse</th>\n",
       "      <th>drug_abuse</th>\n",
       "      <th>psychoses</th>\n",
       "      <th>depression</th>\n",
       "      <th>elixhauser_other</th>\n",
       "      <th>icd_count</th>\n",
       "    </tr>\n",
       "  </thead>\n",
       "  <tbody>\n",
       "    <tr>\n",
       "      <th>5583</th>\n",
       "      <td>F7FDE7599EFBA</td>\n",
       "      <td>0.0</td>\n",
       "      <td>0.0</td>\n",
       "      <td>0.0</td>\n",
       "      <td>1.0</td>\n",
       "      <td>0.0</td>\n",
       "      <td>0.0</td>\n",
       "      <td>0.0</td>\n",
       "      <td>0.0</td>\n",
       "      <td>0.0</td>\n",
       "      <td>...</td>\n",
       "      <td>0.0</td>\n",
       "      <td>0.0</td>\n",
       "      <td>0.0</td>\n",
       "      <td>0.0</td>\n",
       "      <td>0.0</td>\n",
       "      <td>0.0</td>\n",
       "      <td>0.0</td>\n",
       "      <td>0.0</td>\n",
       "      <td>1.0</td>\n",
       "      <td>4.0</td>\n",
       "    </tr>\n",
       "    <tr>\n",
       "      <th>8994</th>\n",
       "      <td>FCE6A9DF3486E</td>\n",
       "      <td>0.0</td>\n",
       "      <td>0.0</td>\n",
       "      <td>0.0</td>\n",
       "      <td>0.0</td>\n",
       "      <td>0.0</td>\n",
       "      <td>1.0</td>\n",
       "      <td>0.0</td>\n",
       "      <td>0.0</td>\n",
       "      <td>0.0</td>\n",
       "      <td>...</td>\n",
       "      <td>0.0</td>\n",
       "      <td>0.0</td>\n",
       "      <td>0.0</td>\n",
       "      <td>0.0</td>\n",
       "      <td>0.0</td>\n",
       "      <td>0.0</td>\n",
       "      <td>0.0</td>\n",
       "      <td>0.0</td>\n",
       "      <td>1.0</td>\n",
       "      <td>5.0</td>\n",
       "    </tr>\n",
       "    <tr>\n",
       "      <th>10551</th>\n",
       "      <td>FF24C9F25663A</td>\n",
       "      <td>0.0</td>\n",
       "      <td>0.0</td>\n",
       "      <td>0.0</td>\n",
       "      <td>0.0</td>\n",
       "      <td>0.0</td>\n",
       "      <td>0.0</td>\n",
       "      <td>0.0</td>\n",
       "      <td>0.0</td>\n",
       "      <td>0.0</td>\n",
       "      <td>...</td>\n",
       "      <td>0.0</td>\n",
       "      <td>0.0</td>\n",
       "      <td>0.0</td>\n",
       "      <td>0.0</td>\n",
       "      <td>0.0</td>\n",
       "      <td>0.0</td>\n",
       "      <td>0.0</td>\n",
       "      <td>0.0</td>\n",
       "      <td>0.0</td>\n",
       "      <td>2.0</td>\n",
       "    </tr>\n",
       "    <tr>\n",
       "      <th>3341</th>\n",
       "      <td>F3E5D5DFBB08F</td>\n",
       "      <td>0.0</td>\n",
       "      <td>0.0</td>\n",
       "      <td>0.0</td>\n",
       "      <td>0.0</td>\n",
       "      <td>0.0</td>\n",
       "      <td>0.0</td>\n",
       "      <td>0.0</td>\n",
       "      <td>0.0</td>\n",
       "      <td>0.0</td>\n",
       "      <td>...</td>\n",
       "      <td>0.0</td>\n",
       "      <td>0.0</td>\n",
       "      <td>0.0</td>\n",
       "      <td>0.0</td>\n",
       "      <td>0.0</td>\n",
       "      <td>0.0</td>\n",
       "      <td>0.0</td>\n",
       "      <td>0.0</td>\n",
       "      <td>0.0</td>\n",
       "      <td>0.0</td>\n",
       "    </tr>\n",
       "    <tr>\n",
       "      <th>2852</th>\n",
       "      <td>F427773AB4244</td>\n",
       "      <td>0.0</td>\n",
       "      <td>0.0</td>\n",
       "      <td>0.0</td>\n",
       "      <td>0.0</td>\n",
       "      <td>0.0</td>\n",
       "      <td>0.0</td>\n",
       "      <td>0.0</td>\n",
       "      <td>0.0</td>\n",
       "      <td>0.0</td>\n",
       "      <td>...</td>\n",
       "      <td>0.0</td>\n",
       "      <td>0.0</td>\n",
       "      <td>0.0</td>\n",
       "      <td>0.0</td>\n",
       "      <td>0.0</td>\n",
       "      <td>0.0</td>\n",
       "      <td>0.0</td>\n",
       "      <td>0.0</td>\n",
       "      <td>0.0</td>\n",
       "      <td>1.0</td>\n",
       "    </tr>\n",
       "  </tbody>\n",
       "</table>\n",
       "<p>5 rows × 34 columns</p>\n",
       "</div>"
      ],
      "text/plain": [
       "           PatientID  chf  cardiac_arrhythmias  valvular_disease  \\\n",
       "5583   F7FDE7599EFBA  0.0                  0.0               0.0   \n",
       "8994   FCE6A9DF3486E  0.0                  0.0               0.0   \n",
       "10551  FF24C9F25663A  0.0                  0.0               0.0   \n",
       "3341   F3E5D5DFBB08F  0.0                  0.0               0.0   \n",
       "2852   F427773AB4244  0.0                  0.0               0.0   \n",
       "\n",
       "       pulmonary_circulation  peripheral_vascular  htn_uncomplicated  \\\n",
       "5583                     1.0                  0.0                0.0   \n",
       "8994                     0.0                  0.0                1.0   \n",
       "10551                    0.0                  0.0                0.0   \n",
       "3341                     0.0                  0.0                0.0   \n",
       "2852                     0.0                  0.0                0.0   \n",
       "\n",
       "       htn_complicated  paralysis  other_neuro_disorders  ...  weight_loss  \\\n",
       "5583               0.0        0.0                    0.0  ...          0.0   \n",
       "8994               0.0        0.0                    0.0  ...          0.0   \n",
       "10551              0.0        0.0                    0.0  ...          0.0   \n",
       "3341               0.0        0.0                    0.0  ...          0.0   \n",
       "2852               0.0        0.0                    0.0  ...          0.0   \n",
       "\n",
       "       fluid_electrolyte  blood_loss_anemia  deficiency_anemia  alcohol_abuse  \\\n",
       "5583                 0.0                0.0                0.0            0.0   \n",
       "8994                 0.0                0.0                0.0            0.0   \n",
       "10551                0.0                0.0                0.0            0.0   \n",
       "3341                 0.0                0.0                0.0            0.0   \n",
       "2852                 0.0                0.0                0.0            0.0   \n",
       "\n",
       "       drug_abuse  psychoses  depression  elixhauser_other  icd_count  \n",
       "5583          0.0        0.0         0.0               1.0        4.0  \n",
       "8994          0.0        0.0         0.0               1.0        5.0  \n",
       "10551         0.0        0.0         0.0               0.0        2.0  \n",
       "3341          0.0        0.0         0.0               0.0        0.0  \n",
       "2852          0.0        0.0         0.0               0.0        1.0  \n",
       "\n",
       "[5 rows x 34 columns]"
      ]
     },
     "execution_count": 568,
     "metadata": {},
     "output_type": "execute_result"
    }
   ],
   "source": [
    "diagnosis_elixhauser.sample(5)"
   ]
  },
  {
   "cell_type": "markdown",
   "id": "5fc792e4",
   "metadata": {},
   "source": [
    "#### Other cancer "
   ]
  },
  {
   "cell_type": "markdown",
   "id": "fce57a6a",
   "metadata": {},
   "source": [
    "##### ICD-9 Cancer codes "
   ]
  },
  {
   "cell_type": "code",
   "execution_count": 569,
   "id": "b32aeb3a",
   "metadata": {},
   "outputs": [],
   "source": [
    "# Select all ICD-9 cancer codes between 140-209.\n",
    "# Exclude benign neoplasms: 210-229, carcinoma in site: 230-234, and neoplasms of uncertain behavior or nature: 235-239.\n",
    "cancer_9 = (\n",
    "    diagnosis_elix_9[diagnosis_elix_9['DiagnosisCode'].str.startswith(\n",
    "        ('14','15', '16', '17', '18', '19', '20'))]\n",
    "    .filter(items = ['PatientID', 'DiagnosisCode', 'diagnosis_code'])\n",
    ")"
   ]
  },
  {
   "cell_type": "code",
   "execution_count": 570,
   "id": "296f6a76",
   "metadata": {},
   "outputs": [
    {
     "data": {
      "text/plain": [
       "(6511, 4440)"
      ]
     },
     "execution_count": 570,
     "metadata": {},
     "output_type": "execute_result"
    }
   ],
   "source": [
    "row_ID(cancer_9)"
   ]
  },
  {
   "cell_type": "markdown",
   "id": "9fefc96c",
   "metadata": {},
   "source": [
    "**Remove the following ICD-9 codes representing prostate cancer, metastasis, ill-defined neoplasms, and benign neoplasms of skin (BCC and SCC):**\n",
    "* **173 - Other and unspecified malignant neoplasm of skin**\n",
    "* **185 - Malignant neoplasm of the prostate**\n",
    "* **196 - Secondary and unspecified malignant neoplasm of lymph nodes**\n",
    "* **197 - Secondary malignant neoplasm of respiratory and digestive systems**\n",
    "* **198 - Secondary malignant neoplasm of other specified sites** \n",
    "* **199 - Malignant neoplasm without specification of site**"
   ]
  },
  {
   "cell_type": "code",
   "execution_count": 571,
   "id": "89a9eb0e",
   "metadata": {},
   "outputs": [
    {
     "data": {
      "text/plain": [
       "185       0.714509\n",
       "198.5     0.187489\n",
       "196.6     0.009731\n",
       "199.1     0.009383\n",
       "197.0     0.007993\n",
       "197.7     0.005734\n",
       "196.8     0.005213\n",
       "196.9     0.005039\n",
       "198.89    0.004692\n",
       "197.6     0.004170\n",
       "Name: DiagnosisCode, dtype: float64"
      ]
     },
     "execution_count": 571,
     "metadata": {},
     "output_type": "execute_result"
    }
   ],
   "source": [
    "# Count ICD-9 neoplasm codes that represent breast cancer or its associated metastases.\n",
    "(\n",
    "    cancer_9[cancer_9['diagnosis_code'].str.match('173|'\n",
    "                                                  '185|'\n",
    "                                                  '19([6789])')]\n",
    "    .DiagnosisCode\n",
    "    .value_counts(normalize = True)\n",
    "    .head(10)\n",
    ")"
   ]
  },
  {
   "cell_type": "code",
   "execution_count": 572,
   "id": "b5476622",
   "metadata": {},
   "outputs": [],
   "source": [
    "# Dataframe of ICD-9 neoplasm codes that exclude colorectal cancer, metastasis, or benign neoplasms.\n",
    "other_cancer_9 = (\n",
    "    cancer_9[~cancer_9['diagnosis_code'].str.match('173|'\n",
    "                                                   '185|'\n",
    "                                                   '19([6789])')]\n",
    ")"
   ]
  },
  {
   "cell_type": "code",
   "execution_count": 573,
   "id": "72b10386",
   "metadata": {},
   "outputs": [
    {
     "data": {
      "text/plain": [
       "188.9     0.071429\n",
       "189.0     0.058201\n",
       "153.9     0.050265\n",
       "204.10    0.041005\n",
       "202.80    0.037037\n",
       "162.3     0.037037\n",
       "162.9     0.031746\n",
       "172.9     0.031746\n",
       "172.5     0.022487\n",
       "154.1     0.018519\n",
       "Name: DiagnosisCode, dtype: float64"
      ]
     },
     "execution_count": 573,
     "metadata": {},
     "output_type": "execute_result"
    }
   ],
   "source": [
    "other_cancer_9.DiagnosisCode.value_counts(normalize = True).head(10)"
   ]
  },
  {
   "cell_type": "markdown",
   "id": "c68c4b7f",
   "metadata": {},
   "source": [
    "**The top 10 ICD-9 codes at time of diagnosis that aren't prostate cancer, metastasis, or benign neoplasm:**\n",
    "* **188.9 - Malignant neoplasm of bladder, part unspecified**\n",
    "* **189.0 - Malignant neoplasm of kidney and other and unspecified urinary organs**\n",
    "* **153.9 - Malignant neoplasm of colon, unspecified site**\n",
    "* **204.10 - Chronic lymphoid leukemia, without mention of having achieved remission**\n",
    "* **202.80 - Other malignant lymphomas**\n",
    "* **162.3 - Malignant neoplasm of upper lobe, bronchus or lung**\n",
    "* **162.9 - Malignant neoplasm of bronchus and lung, unspecified**\n",
    "* **172.9 - Melanoma of skin, site unspecified**\n",
    "* **172.5 - Malignant melanoma of skin of trunk, except scrotum**\n",
    "* **154.1 - Malignant neoplasm of rectum**"
   ]
  },
  {
   "cell_type": "code",
   "execution_count": 574,
   "id": "3ed5ce77",
   "metadata": {},
   "outputs": [
    {
     "data": {
      "text/plain": [
       "153    0.123016\n",
       "188    0.112434\n",
       "172    0.109788\n",
       "202    0.103175\n",
       "162    0.091270\n",
       "189    0.063492\n",
       "204    0.052910\n",
       "200    0.046296\n",
       "154    0.035714\n",
       "209    0.033069\n",
       "Name: DiagnosisCode, dtype: float64"
      ]
     },
     "execution_count": 574,
     "metadata": {},
     "output_type": "execute_result"
    }
   ],
   "source": [
    "other_cancer_9.DiagnosisCode.str[0:3].value_counts(normalize = True).head(10)"
   ]
  },
  {
   "cell_type": "markdown",
   "id": "ab1fd5f6",
   "metadata": {},
   "source": [
    "**The top 10 ICD-9 family codes at time of diagnosis that aren't prostate cancer, metastasis, or benign neoplasm:**\n",
    "* **153 - Malignant neoplasm of colon**\n",
    "* **188 - Malignant neoplasm of bladder**\n",
    "* **172 - Malignant melanoma of skin**\n",
    "* **202 - Other malignant neoplasms of lymphoid and histiocytic tissue**\n",
    "* **162 - Malignant neoplasm of trachea bronchus and lung**\n",
    "* **189 - Malignant neoplasm of kidney and other and unspecified urinary organs**\n",
    "* **204 - Lymphoid leukemia**\n",
    "* **200 - Lymphosarcoma and reticulosarcoma and other specified malignant tumors of lymphatic tissue**\n",
    "* **154 - Malignant neoplasm of rectum rectosigmoid junction and anus**\n",
    "* **209 - Neuroendocrine tumors**"
   ]
  },
  {
   "cell_type": "code",
   "execution_count": 575,
   "id": "59dc6684",
   "metadata": {},
   "outputs": [
    {
     "name": "stderr",
     "output_type": "stream",
     "text": [
      "/Users/xavierorcutt/Dropbox/ist_project/myenv/lib/python3.7/site-packages/pandas/core/indexing.py:1667: SettingWithCopyWarning: \n",
      "A value is trying to be set on a copy of a slice from a DataFrame.\n",
      "Try using .loc[row_indexer,col_indexer] = value instead\n",
      "\n",
      "See the caveats in the documentation: https://pandas.pydata.org/pandas-docs/stable/user_guide/indexing.html#returning-a-view-versus-a-copy\n",
      "  self.obj[key] = value\n"
     ]
    }
   ],
   "source": [
    "other_cancer_9.loc[:,'other_cancer_9'] = 1"
   ]
  },
  {
   "cell_type": "code",
   "execution_count": 576,
   "id": "1fe05c0f",
   "metadata": {},
   "outputs": [],
   "source": [
    "other_cancer_9 = (\n",
    "    other_cancer_9\n",
    "    .drop_duplicates(subset = 'PatientID', keep = 'first')\n",
    "    .filter(items = ['PatientID', 'other_cancer_9'])\n",
    ")"
   ]
  },
  {
   "cell_type": "code",
   "execution_count": 577,
   "id": "c52488c7",
   "metadata": {},
   "outputs": [
    {
     "data": {
      "text/plain": [
       "(588, 588)"
      ]
     },
     "execution_count": 577,
     "metadata": {},
     "output_type": "execute_result"
    }
   ],
   "source": [
    "row_ID(other_cancer_9)"
   ]
  },
  {
   "cell_type": "code",
   "execution_count": 578,
   "id": "1644b3bc",
   "metadata": {},
   "outputs": [],
   "source": [
    "other_cancer_9 = (\n",
    "    other_cancer_9\n",
    "    .append(\n",
    "        pd.Series(train_IDs)[~pd.Series(train_IDs).isin(other_cancer_9['PatientID'])].to_frame(name = 'PatientID'), \n",
    "        sort = False)\n",
    "    .fillna(0)\n",
    ")"
   ]
  },
  {
   "cell_type": "code",
   "execution_count": 579,
   "id": "95599d64",
   "metadata": {},
   "outputs": [
    {
     "data": {
      "text/plain": [
       "(15141, 15141)"
      ]
     },
     "execution_count": 579,
     "metadata": {},
     "output_type": "execute_result"
    }
   ],
   "source": [
    "row_ID(other_cancer_9)"
   ]
  },
  {
   "cell_type": "markdown",
   "id": "4c65c18c",
   "metadata": {},
   "source": [
    "##### ICD-10 Cancer codes"
   ]
  },
  {
   "cell_type": "code",
   "execution_count": 580,
   "id": "cc64df38",
   "metadata": {},
   "outputs": [],
   "source": [
    "# Select all ICD-10 codes between C00-D49 \n",
    "# Exclude in situ neoplasms: D00-D09, benign neoplasms: D10-D36, benign neuroendocrine tumor: D3A, and neoplasms of unspecified behavior: D37 and D49\n",
    "cancer_10 = (\n",
    "    diagnosis_elix_10[diagnosis_elix_10['DiagnosisCode'].str.startswith(\n",
    "        ('C0', 'C1', 'C2', 'C3', 'C4', 'C5', 'C6', 'C7', 'C8', 'C9', 'D38', 'D39', 'D4'))]\n",
    "    .filter(items = ['PatientID', 'DiagnosisCode', 'diagnosis_code'])\n",
    ")"
   ]
  },
  {
   "cell_type": "code",
   "execution_count": 581,
   "id": "12650322",
   "metadata": {},
   "outputs": [
    {
     "data": {
      "text/plain": [
       "(12469, 7372)"
      ]
     },
     "execution_count": 581,
     "metadata": {},
     "output_type": "execute_result"
    }
   ],
   "source": [
    "row_ID(cancer_10)"
   ]
  },
  {
   "cell_type": "markdown",
   "id": "20757e39",
   "metadata": {},
   "source": [
    "**Remove the following ICD-10 codes which capture breast cancer, metastasis, and benign skin neoplasms(eg., BCC and SCC).**\n",
    "* **C61 - Malignant neoplasm of prostate** \n",
    "* **C44 - Other and unspecified malignant neoplasm of skin**\n",
    "* **C77 - Secondary and unspecified malignant neoplasm of lymph nodes**\n",
    "* **C78 - Secondary malignant neoplasm of respiratory and digestive organs**\n",
    "* **C79 - Secondary malignant neoplasm of other and unspecified sites**\n",
    "* **C80 - Malignant neoplasm without specification of site**\n",
    "* **D47.2 - Monoclonal gammopathy**\n",
    "* **D48 - Neoplasm of uncertain behavior of other and unspecified sites**\n",
    "* **D49 - Neoplasms of unspecified behavior** "
   ]
  },
  {
   "cell_type": "code",
   "execution_count": 582,
   "id": "2c1de616",
   "metadata": {},
   "outputs": [
    {
     "data": {
      "text/plain": [
       "C61       0.576450\n",
       "C79.51    0.269351\n",
       "C77.5     0.014805\n",
       "C77.2     0.011255\n",
       "C77.9     0.010476\n",
       "C80.1     0.009004\n",
       "C78.7     0.008571\n",
       "C79.9     0.007446\n",
       "C77.8     0.005801\n",
       "C78.01    0.005628\n",
       "Name: DiagnosisCode, dtype: float64"
      ]
     },
     "execution_count": 582,
     "metadata": {},
     "output_type": "execute_result"
    }
   ],
   "source": [
    "# Count of top 10 ICD-10 codes that represent prostate cancer or metastasis. \n",
    "(\n",
    "    cancer_10[cancer_10['diagnosis_code'].str.match('C61|'\n",
    "                                                    'C44|'\n",
    "                                                    'C7[789]|'\n",
    "                                                    'C80|'\n",
    "                                                    'D4(72|[89])')]\n",
    "    .DiagnosisCode\n",
    "    .value_counts(normalize = True)\n",
    "    .head(10)\n",
    ")"
   ]
  },
  {
   "cell_type": "code",
   "execution_count": 583,
   "id": "fdb2d6ce",
   "metadata": {},
   "outputs": [],
   "source": [
    "# Dataframe of ICD-10 neoplasm codes that exclude prostate cancer, metastasis, or benign neoplasms.\n",
    "other_cancer_10 = (\n",
    "    cancer_10[~cancer_10['diagnosis_code'].str.match('C61|'\n",
    "                                                     'C44|'\n",
    "                                                     'C7[789]|'\n",
    "                                                     'C80|'\n",
    "                                                     'D4(72|[89])')]\n",
    ")"
   ]
  },
  {
   "cell_type": "code",
   "execution_count": 584,
   "id": "4bc25db9",
   "metadata": {},
   "outputs": [
    {
     "data": {
      "text/plain": [
       "C67.9     0.080522\n",
       "C91.10    0.031556\n",
       "C18.9     0.029380\n",
       "C20       0.020675\n",
       "C67.8     0.020675\n",
       "C90.00    0.019587\n",
       "C64.2     0.019587\n",
       "C34.12    0.018498\n",
       "C34.90    0.018498\n",
       "C34.11    0.017410\n",
       "Name: DiagnosisCode, dtype: float64"
      ]
     },
     "execution_count": 584,
     "metadata": {},
     "output_type": "execute_result"
    }
   ],
   "source": [
    "other_cancer_10.DiagnosisCode.value_counts(normalize = True).head(10)"
   ]
  },
  {
   "cell_type": "markdown",
   "id": "229b6b7c",
   "metadata": {},
   "source": [
    "**The top 10 ICD-10 codes at time of diagnosis that aren't breast cancer, metastasis, or benign neoplasm:**\n",
    "* **C67.9 - Malignant neoplasm of bladder, unspecified**\n",
    "* **C91.10 - Chronic lymphocytic leukemia of B-cell type not having achieved remission**\n",
    "* **C18.9 - Malignant neoplasm of colon, unspecified**\n",
    "* **C20 - Malignant neoplasm of rectum**\n",
    "* **C67.8 - Malignant neoplasm of overlapping sites of bladder**\n",
    "* **C90.00 - Multiple myeloma not having achieved remission**\n",
    "* **C64.2 - Malignant neoplasm of left kidney, except renal pelvis**\n",
    "* **C34.12 - Malignant neoplasm of upper lobe, left bronchus or lung**\n",
    "* **C34.90 - Malignant neoplasm of unspecified part of unspecified bronchus or lung**\n",
    "* **C34.11 - Malignant neoplasm of upper lobe, right bronchus or lung**"
   ]
  },
  {
   "cell_type": "code",
   "execution_count": 585,
   "id": "d758395c",
   "metadata": {},
   "outputs": [
    {
     "data": {
      "text/plain": [
       "C67    0.141458\n",
       "C34    0.105550\n",
       "C18    0.058760\n",
       "C91    0.048966\n",
       "C83    0.046790\n",
       "C43    0.046790\n",
       "C64    0.044614\n",
       "C85    0.040261\n",
       "C82    0.029380\n",
       "C7A    0.028292\n",
       "Name: DiagnosisCode, dtype: float64"
      ]
     },
     "execution_count": 585,
     "metadata": {},
     "output_type": "execute_result"
    }
   ],
   "source": [
    "other_cancer_10.DiagnosisCode.str[0:3].value_counts(normalize = True).head(10)"
   ]
  },
  {
   "cell_type": "markdown",
   "id": "fa127977",
   "metadata": {},
   "source": [
    "**The top 10 ICD-10 family codes at time of diagnosis that aren't colorectal cancer, metastasis, or benign neoplasm:**\n",
    "* **C67 - Malignant neoplasm of bladder**\n",
    "* **C34 - Malignant neoplasm of bronchus and lung**\n",
    "* **C18 - Malignant neoplasm of colon**\n",
    "* **C91 - Lymphoid leukemia**\n",
    "* **C83 - Non-follicular lymphoma**\n",
    "* **C43 - Malignant melanoma of skin**\n",
    "* **C64 - Malignant neoplasm of kidney, except renal pelvis**\n",
    "* **C85 - Other specified and unspecified types of non-Hodgkin lymphoma**\n",
    "* **C82 - Follicular lymphoma**\n",
    "* **C7A - Malignant neuroendocrine tumors**"
   ]
  },
  {
   "cell_type": "code",
   "execution_count": 586,
   "id": "0df127a7",
   "metadata": {},
   "outputs": [],
   "source": [
    "other_cancer_10.loc[:,'other_cancer_10'] = 1"
   ]
  },
  {
   "cell_type": "code",
   "execution_count": 587,
   "id": "d03e234c",
   "metadata": {},
   "outputs": [],
   "source": [
    "# Drop duplicates.\n",
    "other_cancer_10 = (\n",
    "    other_cancer_10\n",
    "    .drop_duplicates(subset = 'PatientID', keep = 'first')\n",
    "    .filter(items = ['PatientID', 'other_cancer_10'])\n",
    ")"
   ]
  },
  {
   "cell_type": "code",
   "execution_count": 588,
   "id": "d7d5389c",
   "metadata": {},
   "outputs": [
    {
     "data": {
      "text/plain": [
       "(681, 681)"
      ]
     },
     "execution_count": 588,
     "metadata": {},
     "output_type": "execute_result"
    }
   ],
   "source": [
    "row_ID(other_cancer_10)"
   ]
  },
  {
   "cell_type": "code",
   "execution_count": 589,
   "id": "a70051d5",
   "metadata": {},
   "outputs": [],
   "source": [
    "# Append missing training IDs.\n",
    "other_cancer_10 = (\n",
    "    other_cancer_10\n",
    "    .append(\n",
    "        pd.Series(train_IDs)[~pd.Series(train_IDs).isin(other_cancer_10['PatientID'])].to_frame(name = 'PatientID'), \n",
    "        sort = False)\n",
    "    .fillna(0)\n",
    ")"
   ]
  },
  {
   "cell_type": "code",
   "execution_count": 590,
   "id": "3050ef54",
   "metadata": {},
   "outputs": [
    {
     "data": {
      "text/plain": [
       "(15141, 15141)"
      ]
     },
     "execution_count": 590,
     "metadata": {},
     "output_type": "execute_result"
    }
   ],
   "source": [
    "row_ID(other_cancer_10)"
   ]
  },
  {
   "cell_type": "code",
   "execution_count": 591,
   "id": "830fffd4",
   "metadata": {},
   "outputs": [],
   "source": [
    "other_cancer = pd.merge(other_cancer_9, other_cancer_10, on = 'PatientID')"
   ]
  },
  {
   "cell_type": "code",
   "execution_count": 592,
   "id": "46aacdfe",
   "metadata": {},
   "outputs": [],
   "source": [
    "# Combine other_cancer_9 and other_cancer_19; replace values equal to 2 with 1. \n",
    "other_cancer = (\n",
    "    other_cancer\n",
    "    .assign(other_cancer = other_cancer['other_cancer_9'] + other_cancer['other_cancer_10'])\n",
    "    .filter(items = ['PatientID', 'other_cancer'])\n",
    "    .replace(2, 1)\n",
    ")"
   ]
  },
  {
   "cell_type": "code",
   "execution_count": 593,
   "id": "3581c9bf",
   "metadata": {},
   "outputs": [
    {
     "data": {
      "text/plain": [
       "(15141, 15141)"
      ]
     },
     "execution_count": 593,
     "metadata": {},
     "output_type": "execute_result"
    }
   ],
   "source": [
    "row_ID(other_cancer)"
   ]
  },
  {
   "cell_type": "code",
   "execution_count": 594,
   "id": "511cb697",
   "metadata": {},
   "outputs": [
    {
     "data": {
      "text/plain": [
       "0.07766990291262135"
      ]
     },
     "execution_count": 594,
     "metadata": {},
     "output_type": "execute_result"
    }
   ],
   "source": [
    "# Percentage of patients with a cancer other than prostate or mets. \n",
    "len(other_cancer[other_cancer['other_cancer'] == 1])/len(other_cancer)"
   ]
  },
  {
   "cell_type": "markdown",
   "id": "92d7a58a",
   "metadata": {},
   "source": [
    "#### Sites of metastases"
   ]
  },
  {
   "cell_type": "markdown",
   "id": "5f5fd1e9",
   "metadata": {},
   "source": [
    "##### ICD-9 sites of metastases"
   ]
  },
  {
   "cell_type": "code",
   "execution_count": 595,
   "id": "8e36b4e5",
   "metadata": {},
   "outputs": [],
   "source": [
    "# Create dataframe contianing patients with ICD-9 codes within -90 to +30 days from metastatic diagnosis and remove duplicate codes\n",
    "diagnosis_mets_9 = (\n",
    "    diagnosis\n",
    "    .query('diagnosis_date_diff >= -90 and diagnosis_date_diff <= 30')\n",
    "    .query('DiagnosisCodeSystem == \"ICD-9-CM\"')\n",
    "    .drop_duplicates(subset = ['PatientID', 'DiagnosisCode'], keep = 'first')\n",
    "    .filter(items = ['PatientID', 'DiagnosisCode', 'diagnosis_code'])\n",
    ")"
   ]
  },
  {
   "cell_type": "markdown",
   "id": "5379738e",
   "metadata": {},
   "source": [
    "**Sites of metastasis will be grouped into the following categories according to ICD-9 codes:**\n",
    "* **Thorax - 197.0, 197.1, 197.2, and 197.3**\n",
    "* **Peritoneum - 197.6**\n",
    "* **Liver - 197.7**\n",
    "* **Other GI - 197.4 and 197.8**\n",
    "* **CNS - 198.3 and 198.4**\n",
    "* **Bone - 198.5**\n",
    "* **Lymph -- 196**\n",
    "* **Kidney, bladder -- 198.0 and 198.1**\n",
    "* **Other - 198.2, 198.6, 198.7, and 198.8**"
   ]
  },
  {
   "cell_type": "code",
   "execution_count": 596,
   "id": "4eb39341",
   "metadata": {},
   "outputs": [],
   "source": [
    "diagnosis_mets_9['thorax_met'] = np.where(diagnosis_mets_9['diagnosis_code'].str.match('197[0123]'), 1, 0)"
   ]
  },
  {
   "cell_type": "code",
   "execution_count": 597,
   "id": "b64cfcc0",
   "metadata": {},
   "outputs": [],
   "source": [
    "diagnosis_mets_9['peritoneum_met'] = np.where(diagnosis_mets_9['diagnosis_code'].str.match('1976'), 1, 0)"
   ]
  },
  {
   "cell_type": "code",
   "execution_count": 598,
   "id": "9a9a5114",
   "metadata": {},
   "outputs": [],
   "source": [
    "diagnosis_mets_9['liver_met'] = np.where(diagnosis_mets_9['diagnosis_code'].str.match('1977'), 1, 0)"
   ]
  },
  {
   "cell_type": "code",
   "execution_count": 599,
   "id": "49ca8808",
   "metadata": {},
   "outputs": [],
   "source": [
    "diagnosis_mets_9['other_gi_met'] = np.where(diagnosis_mets_9['diagnosis_code'].str.match('197[48]'), 1, 0)"
   ]
  },
  {
   "cell_type": "code",
   "execution_count": 600,
   "id": "7506d47f",
   "metadata": {},
   "outputs": [],
   "source": [
    "diagnosis_mets_9['cns_met'] = np.where(diagnosis_mets_9['diagnosis_code'].str.match('198[34]'), 1, 0)"
   ]
  },
  {
   "cell_type": "code",
   "execution_count": 601,
   "id": "c450a1b3",
   "metadata": {},
   "outputs": [],
   "source": [
    "diagnosis_mets_9['bone_met'] = np.where(diagnosis_mets_9['diagnosis_code'].str.match('1985'), 1, 0)"
   ]
  },
  {
   "cell_type": "code",
   "execution_count": 602,
   "id": "9562f669",
   "metadata": {},
   "outputs": [],
   "source": [
    "diagnosis_mets_9['lymph_met'] = np.where(diagnosis_mets_9['diagnosis_code'].str.match('196'), 1, 0)"
   ]
  },
  {
   "cell_type": "code",
   "execution_count": 603,
   "id": "fe2af796",
   "metadata": {},
   "outputs": [],
   "source": [
    "diagnosis_mets_9['kidney_bladder_met'] = np.where(diagnosis_mets_9['diagnosis_code'].str.match('198[01]'), 1, 0)"
   ]
  },
  {
   "cell_type": "code",
   "execution_count": 604,
   "id": "75ef9261",
   "metadata": {},
   "outputs": [],
   "source": [
    "diagnosis_mets_9['other_met'] = np.where(diagnosis_mets_9['diagnosis_code'].str.match('198[2678]'), 1, 0)"
   ]
  },
  {
   "cell_type": "code",
   "execution_count": 605,
   "id": "f24e528b",
   "metadata": {},
   "outputs": [],
   "source": [
    "# Collapse columns and sum.\n",
    "diagnosis_mets_9 = (\n",
    "    diagnosis_mets_9\n",
    "    .drop(columns = ['DiagnosisCode', 'diagnosis_code'])\n",
    "    .groupby('PatientID').sum()\n",
    "    .reset_index()\n",
    ")"
   ]
  },
  {
   "cell_type": "markdown",
   "id": "62022485",
   "metadata": {},
   "source": [
    "##### ICD-10 sites of metastases"
   ]
  },
  {
   "cell_type": "code",
   "execution_count": 606,
   "id": "30dfe48b",
   "metadata": {},
   "outputs": [],
   "source": [
    "# Create dataframe contianing patients with ICD-10 codes within -90 to +30 days from advanced diagnosis and remove duplicate codes.\n",
    "diagnosis_mets_10 = (\n",
    "    diagnosis\n",
    "    .query('diagnosis_date_diff >= -90 and diagnosis_date_diff <= 30')\n",
    "    .query('DiagnosisCodeSystem == \"ICD-10-CM\"')\n",
    "    .drop_duplicates(subset = ['PatientID', 'DiagnosisCode'], keep = 'first')\n",
    "    .filter(items = ['PatientID', 'DiagnosisCode', 'diagnosis_code'])\n",
    ")"
   ]
  },
  {
   "cell_type": "markdown",
   "id": "ec4f0076",
   "metadata": {},
   "source": [
    "**Sites of metastasis will be grouped into the following categories according to ICD-10 codes:**\n",
    "* **Thorax - C78.0, C78.1, C78.2, and C78.3**\n",
    "* **Peritoneum - C78.6**\n",
    "* **Liver - C78.7**\n",
    "* **Other GI - C78.4 and C78.8**\n",
    "* **CNS - C79.3 and C79.4**\n",
    "* **Bone - C79.5**\n",
    "* **Lymph -- C77**\n",
    "* **Kidney, bladder -- C79.0 and 79.1**\n",
    "* **Other - C79.2, C79.6, C79.7, C79.8, and C79.9**"
   ]
  },
  {
   "cell_type": "code",
   "execution_count": 607,
   "id": "8abd5163",
   "metadata": {},
   "outputs": [],
   "source": [
    "diagnosis_mets_10['thorax_met'] = np.where(diagnosis_mets_10['diagnosis_code'].str.match('C78[0123]'), 1, 0)"
   ]
  },
  {
   "cell_type": "code",
   "execution_count": 608,
   "id": "70488fe9",
   "metadata": {},
   "outputs": [],
   "source": [
    "diagnosis_mets_10['peritoneum_met'] = np.where(diagnosis_mets_10['diagnosis_code'].str.match('C786'), 1, 0)"
   ]
  },
  {
   "cell_type": "code",
   "execution_count": 609,
   "id": "f2293830",
   "metadata": {},
   "outputs": [],
   "source": [
    "diagnosis_mets_10['liver_met'] = np.where(diagnosis_mets_10['diagnosis_code'].str.match('C787'), 1, 0)"
   ]
  },
  {
   "cell_type": "code",
   "execution_count": 610,
   "id": "7fb0c959",
   "metadata": {},
   "outputs": [],
   "source": [
    "diagnosis_mets_10['other_gi_met'] = np.where(diagnosis_mets_10['diagnosis_code'].str.match('C78[48]'), 1, 0)"
   ]
  },
  {
   "cell_type": "code",
   "execution_count": 611,
   "id": "80ce84c2",
   "metadata": {},
   "outputs": [],
   "source": [
    "diagnosis_mets_10['cns_met'] = np.where(diagnosis_mets_10['diagnosis_code'].str.match('C79[34]'), 1, 0)"
   ]
  },
  {
   "cell_type": "code",
   "execution_count": 612,
   "id": "ea5b1923",
   "metadata": {},
   "outputs": [],
   "source": [
    "diagnosis_mets_10['bone_met'] = np.where(diagnosis_mets_10['diagnosis_code'].str.match('C795'), 1, 0)"
   ]
  },
  {
   "cell_type": "code",
   "execution_count": 613,
   "id": "1bcb4740",
   "metadata": {},
   "outputs": [],
   "source": [
    "diagnosis_mets_10['lymph_met'] = np.where(diagnosis_mets_10['diagnosis_code'].str.match('C77'), 1, 0)"
   ]
  },
  {
   "cell_type": "code",
   "execution_count": 614,
   "id": "68bf1264",
   "metadata": {},
   "outputs": [],
   "source": [
    "diagnosis_mets_10['kidney_bladder_met'] = np.where(diagnosis_mets_10['diagnosis_code'].str.match('C79[01]'), 1, 0)"
   ]
  },
  {
   "cell_type": "code",
   "execution_count": 615,
   "id": "9dadaabe",
   "metadata": {},
   "outputs": [],
   "source": [
    "diagnosis_mets_10['other_met'] = np.where(diagnosis_mets_10['diagnosis_code'].str.match('C79[26789]'), 1, 0)"
   ]
  },
  {
   "cell_type": "code",
   "execution_count": 616,
   "id": "aa6f04f9",
   "metadata": {},
   "outputs": [],
   "source": [
    "# Collapse columns and sum. \n",
    "diagnosis_mets_10 = (\n",
    "    diagnosis_mets_10\n",
    "    .drop(columns = ['DiagnosisCode', 'diagnosis_code'])\n",
    "    .groupby('PatientID').sum()\n",
    "    .reset_index()\n",
    ")"
   ]
  },
  {
   "cell_type": "code",
   "execution_count": 617,
   "id": "c7fd9186",
   "metadata": {},
   "outputs": [],
   "source": [
    "# Merge ICD-9 and ICD-10 mets tables; collapse and sum. \n",
    "mets_wide = (\n",
    "    pd.concat([diagnosis_mets_9, diagnosis_mets_10])\n",
    "    .groupby('PatientID').sum()\n",
    ")"
   ]
  },
  {
   "cell_type": "code",
   "execution_count": 618,
   "id": "a92329e1",
   "metadata": {},
   "outputs": [],
   "source": [
    "# All values >1 replaced by 1. \n",
    "mets_wide = (\n",
    "    mets_wide.mask(mets_wide > 1, 1)\n",
    "    .reset_index()\n",
    ")"
   ]
  },
  {
   "cell_type": "code",
   "execution_count": 619,
   "id": "999daf3a",
   "metadata": {},
   "outputs": [],
   "source": [
    "# Append missing training IDs.\n",
    "mets_wide = (\n",
    "    mets_wide.append(\n",
    "        pd.Series(train_IDs)[~pd.Series(train_IDs).isin(mets_wide['PatientID'])].to_frame(name = 'PatientID'), \n",
    "        sort = False)\n",
    "    .fillna(0)\n",
    ")"
   ]
  },
  {
   "cell_type": "code",
   "execution_count": 620,
   "id": "4a6df9c2",
   "metadata": {},
   "outputs": [
    {
     "data": {
      "text/plain": [
       "(15141, 15141)"
      ]
     },
     "execution_count": 620,
     "metadata": {},
     "output_type": "execute_result"
    }
   ],
   "source": [
    "row_ID(mets_wide)"
   ]
  },
  {
   "cell_type": "code",
   "execution_count": 621,
   "id": "46ecb2fa",
   "metadata": {},
   "outputs": [
    {
     "data": {
      "text/plain": [
       "bone_met              0.264117\n",
       "lymph_met             0.034674\n",
       "thorax_met            0.012218\n",
       "other_met             0.010832\n",
       "liver_met             0.007397\n",
       "peritoneum_met        0.004887\n",
       "kidney_bladder_met    0.003104\n",
       "cns_met               0.002246\n",
       "other_gi_met          0.000198\n",
       "dtype: float64"
      ]
     },
     "execution_count": 621,
     "metadata": {},
     "output_type": "execute_result"
    }
   ],
   "source": [
    "# Percentage with mets by site of location at time of metastatic diagnosis\n",
    "(mets_wide.iloc[:, 1:].sum()/len(mets_wide)).sort_values(ascending = False)"
   ]
  },
  {
   "cell_type": "code",
   "execution_count": 622,
   "id": "9c9bf953",
   "metadata": {},
   "outputs": [
    {
     "data": {
      "text/plain": [
       "0.2968760319661845"
      ]
     },
     "execution_count": 622,
     "metadata": {},
     "output_type": "execute_result"
    }
   ],
   "source": [
    "# Total percentage of patiens with ICD code indicating mets at time of metastatic diagnosis. \n",
    "len(mets_wide[mets_wide.eq(1).any(1)])/len(mets_wide)"
   ]
  },
  {
   "cell_type": "code",
   "execution_count": 623,
   "id": "e03a79dc",
   "metadata": {},
   "outputs": [
    {
     "data": {
      "text/html": [
       "<div>\n",
       "<style scoped>\n",
       "    .dataframe tbody tr th:only-of-type {\n",
       "        vertical-align: middle;\n",
       "    }\n",
       "\n",
       "    .dataframe tbody tr th {\n",
       "        vertical-align: top;\n",
       "    }\n",
       "\n",
       "    .dataframe thead th {\n",
       "        text-align: right;\n",
       "    }\n",
       "</style>\n",
       "<table border=\"1\" class=\"dataframe\">\n",
       "  <thead>\n",
       "    <tr style=\"text-align: right;\">\n",
       "      <th></th>\n",
       "      <th>PatientID</th>\n",
       "      <th>thorax_met</th>\n",
       "      <th>peritoneum_met</th>\n",
       "      <th>liver_met</th>\n",
       "      <th>other_gi_met</th>\n",
       "      <th>cns_met</th>\n",
       "      <th>bone_met</th>\n",
       "      <th>lymph_met</th>\n",
       "      <th>kidney_bladder_met</th>\n",
       "      <th>other_met</th>\n",
       "    </tr>\n",
       "  </thead>\n",
       "  <tbody>\n",
       "    <tr>\n",
       "      <th>2264</th>\n",
       "      <td>F8A21980ED430</td>\n",
       "      <td>0.0</td>\n",
       "      <td>0.0</td>\n",
       "      <td>0.0</td>\n",
       "      <td>0.0</td>\n",
       "      <td>0.0</td>\n",
       "      <td>0.0</td>\n",
       "      <td>0.0</td>\n",
       "      <td>0.0</td>\n",
       "      <td>0.0</td>\n",
       "    </tr>\n",
       "    <tr>\n",
       "      <th>7780</th>\n",
       "      <td>FE05536B18B2B</td>\n",
       "      <td>0.0</td>\n",
       "      <td>0.0</td>\n",
       "      <td>0.0</td>\n",
       "      <td>0.0</td>\n",
       "      <td>0.0</td>\n",
       "      <td>0.0</td>\n",
       "      <td>0.0</td>\n",
       "      <td>0.0</td>\n",
       "      <td>0.0</td>\n",
       "    </tr>\n",
       "    <tr>\n",
       "      <th>412</th>\n",
       "      <td>F0656CD0D71B4</td>\n",
       "      <td>0.0</td>\n",
       "      <td>0.0</td>\n",
       "      <td>0.0</td>\n",
       "      <td>0.0</td>\n",
       "      <td>0.0</td>\n",
       "      <td>0.0</td>\n",
       "      <td>0.0</td>\n",
       "      <td>0.0</td>\n",
       "      <td>0.0</td>\n",
       "    </tr>\n",
       "    <tr>\n",
       "      <th>5817</th>\n",
       "      <td>F81617B440302</td>\n",
       "      <td>0.0</td>\n",
       "      <td>0.0</td>\n",
       "      <td>0.0</td>\n",
       "      <td>0.0</td>\n",
       "      <td>0.0</td>\n",
       "      <td>0.0</td>\n",
       "      <td>0.0</td>\n",
       "      <td>0.0</td>\n",
       "      <td>0.0</td>\n",
       "    </tr>\n",
       "    <tr>\n",
       "      <th>1090</th>\n",
       "      <td>F2108F7CA7CE8</td>\n",
       "      <td>0.0</td>\n",
       "      <td>0.0</td>\n",
       "      <td>0.0</td>\n",
       "      <td>0.0</td>\n",
       "      <td>0.0</td>\n",
       "      <td>0.0</td>\n",
       "      <td>0.0</td>\n",
       "      <td>0.0</td>\n",
       "      <td>0.0</td>\n",
       "    </tr>\n",
       "  </tbody>\n",
       "</table>\n",
       "</div>"
      ],
      "text/plain": [
       "          PatientID  thorax_met  peritoneum_met  liver_met  other_gi_met  \\\n",
       "2264  F8A21980ED430         0.0             0.0        0.0           0.0   \n",
       "7780  FE05536B18B2B         0.0             0.0        0.0           0.0   \n",
       "412   F0656CD0D71B4         0.0             0.0        0.0           0.0   \n",
       "5817  F81617B440302         0.0             0.0        0.0           0.0   \n",
       "1090  F2108F7CA7CE8         0.0             0.0        0.0           0.0   \n",
       "\n",
       "      cns_met  bone_met  lymph_met  kidney_bladder_met  other_met  \n",
       "2264      0.0       0.0        0.0                 0.0        0.0  \n",
       "7780      0.0       0.0        0.0                 0.0        0.0  \n",
       "412       0.0       0.0        0.0                 0.0        0.0  \n",
       "5817      0.0       0.0        0.0                 0.0        0.0  \n",
       "1090      0.0       0.0        0.0                 0.0        0.0  "
      ]
     },
     "execution_count": 623,
     "metadata": {},
     "output_type": "execute_result"
    }
   ],
   "source": [
    "mets_wide.sample(5)"
   ]
  },
  {
   "cell_type": "markdown",
   "id": "c7e5023d",
   "metadata": {},
   "source": [
    "#### Merge"
   ]
  },
  {
   "cell_type": "code",
   "execution_count": 624,
   "id": "b2f47dc5",
   "metadata": {},
   "outputs": [],
   "source": [
    "diagnosis_wide = pd.merge(diagnosis_elixhauser, other_cancer, on = 'PatientID')"
   ]
  },
  {
   "cell_type": "code",
   "execution_count": 625,
   "id": "67597b4f",
   "metadata": {},
   "outputs": [],
   "source": [
    "diagnosis_wide = pd.merge(diagnosis_wide, mets_wide, on = 'PatientID')"
   ]
  },
  {
   "cell_type": "code",
   "execution_count": 626,
   "id": "a21ff79c",
   "metadata": {},
   "outputs": [
    {
     "data": {
      "text/plain": [
       "(15141, 15141)"
      ]
     },
     "execution_count": 626,
     "metadata": {},
     "output_type": "execute_result"
    }
   ],
   "source": [
    "row_ID(diagnosis_wide)"
   ]
  },
  {
   "cell_type": "code",
   "execution_count": 627,
   "id": "4e45c424",
   "metadata": {},
   "outputs": [
    {
     "data": {
      "text/plain": [
       "['PatientID',\n",
       " 'chf',\n",
       " 'cardiac_arrhythmias',\n",
       " 'valvular_disease',\n",
       " 'pulmonary_circulation',\n",
       " 'peripheral_vascular',\n",
       " 'htn_uncomplicated',\n",
       " 'htn_complicated',\n",
       " 'paralysis',\n",
       " 'other_neuro_disorders',\n",
       " 'chronic_pulmonary',\n",
       " 'diabetes_uncomplicated',\n",
       " 'diabetes_complicated',\n",
       " 'hypothyroidism',\n",
       " 'renal_failure',\n",
       " 'liver_disease',\n",
       " 'peptic_ulcer_disease',\n",
       " 'aids_hiv',\n",
       " 'lymphoma',\n",
       " 'metastatic_cancer',\n",
       " 'solid_tumor_wout_mets',\n",
       " 'rheumatoid_arthritis',\n",
       " 'coagulopathy',\n",
       " 'obesity',\n",
       " 'weight_loss',\n",
       " 'fluid_electrolyte',\n",
       " 'blood_loss_anemia',\n",
       " 'deficiency_anemia',\n",
       " 'alcohol_abuse',\n",
       " 'drug_abuse',\n",
       " 'psychoses',\n",
       " 'depression',\n",
       " 'elixhauser_other',\n",
       " 'icd_count',\n",
       " 'other_cancer',\n",
       " 'thorax_met',\n",
       " 'peritoneum_met',\n",
       " 'liver_met',\n",
       " 'other_gi_met',\n",
       " 'cns_met',\n",
       " 'bone_met',\n",
       " 'lymph_met',\n",
       " 'kidney_bladder_met',\n",
       " 'other_met']"
      ]
     },
     "execution_count": 627,
     "metadata": {},
     "output_type": "execute_result"
    }
   ],
   "source": [
    "list(diagnosis_wide.columns)"
   ]
  },
  {
   "cell_type": "code",
   "execution_count": 628,
   "id": "bb16f6e0",
   "metadata": {},
   "outputs": [
    {
     "name": "stdout",
     "output_type": "stream",
     "text": [
      "Variable                 Type         Data/Info\n",
      "-----------------------------------------------\n",
      "biomarker_wide           DataFrame               PatientID brca<...>n[15141 rows x 2 columns]\n",
      "cancer_10                DataFrame                PatientID Dia<...>n[12469 rows x 3 columns]\n",
      "cancer_9                 DataFrame                PatientID Dia<...>\\n[6511 rows x 3 columns]\n",
      "demographics             DataFrame               PatientID Gend<...>n[15141 rows x 6 columns]\n",
      "diagnosis                DataFrame                PatientID Dia<...>[480268 rows x 8 columns]\n",
      "diagnosis_elix_10        DataFrame                PatientID Dia<...>[59867 rows x 35 columns]\n",
      "diagnosis_elix_10_wide   DataFrame              PatientID  chf <...>n[8172 rows x 33 columns]\n",
      "diagnosis_elix_9         DataFrame                PatientID Dia<...>[28807 rows x 35 columns]\n",
      "diagnosis_elix_9_wide    DataFrame              PatientID  chf <...>n[5230 rows x 33 columns]\n",
      "diagnosis_elixhauser     DataFrame               PatientID  chf<...>[15141 rows x 34 columns]\n",
      "diagnosis_mets_10        DataFrame              PatientID  thor<...>n[7122 rows x 10 columns]\n",
      "diagnosis_mets_9         DataFrame              PatientID  thor<...>n[2058 rows x 10 columns]\n",
      "diagnosis_wide           DataFrame               PatientID  chf<...>[15141 rows x 44 columns]\n",
      "ecog_diagnosis_wide      DataFrame                PatientID eco<...>n[15141 rows x 2 columns]\n",
      "enhanced_met             DataFrame               PatientID diag<...>[15141 rows x 18 columns]\n",
      "insurance_wide           DataFrame               PatientID  med<...>n[15141 rows x 9 columns]\n",
      "lab_wide                 DataFrame               PatientID  alb<...>15141 rows x 135 columns]\n",
      "med_admin_wide           DataFrame               PatientID  ste<...>[15141 rows x 13 columns]\n",
      "mets_wide                DataFrame               PatientID  tho<...>[15141 rows x 10 columns]\n",
      "mortality                DataFrame               PatientID  dea<...>n[15141 rows x 3 columns]\n",
      "other_cancer             DataFrame               PatientID  oth<...>n[15141 rows x 2 columns]\n",
      "other_cancer_10          DataFrame               PatientID  oth<...>n[15141 rows x 2 columns]\n",
      "other_cancer_9           DataFrame               PatientID  oth<...>n[15141 rows x 2 columns]\n",
      "weight_wide              DataFrame               PatientID  wei<...>n[15141 rows x 7 columns]\n"
     ]
    }
   ],
   "source": [
    "%whos DataFrame"
   ]
  },
  {
   "cell_type": "code",
   "execution_count": 629,
   "id": "90f6a3a0",
   "metadata": {},
   "outputs": [],
   "source": [
    "# Keep biomarker_wide, demographics, diagnosis_wide, ecog_diagnosis_wide, enhanced_met, insurance_wide, \n",
    "# lab_wide, med_admin_wide, mortality, and weight_wide\n",
    "del cancer_10\n",
    "del cancer_9\n",
    "del diagnosis\n",
    "del diagnosis_elix_10\n",
    "del diagnosis_elix_10_wide\n",
    "del diagnosis_elix_9\n",
    "del diagnosis_elix_9_wide\n",
    "del diagnosis_elixhauser\n",
    "del diagnosis_mets_10\n",
    "del diagnosis_mets_9\n",
    "del mets_wide\n",
    "del other_cancer\n",
    "del other_cancer_10\n",
    "del other_cancer_9"
   ]
  },
  {
   "cell_type": "markdown",
   "id": "6401480e",
   "metadata": {},
   "source": [
    "### 11. Prior treatments "
   ]
  },
  {
   "cell_type": "markdown",
   "id": "2f354114",
   "metadata": {},
   "source": [
    "#### Surgery or radiation "
   ]
  },
  {
   "cell_type": "code",
   "execution_count": 630,
   "id": "063eb2d0",
   "metadata": {},
   "outputs": [],
   "source": [
    "prim_treat = pd.read_csv('Enhanced_MetPC_PrimaryTreatment.csv')"
   ]
  },
  {
   "cell_type": "code",
   "execution_count": 631,
   "id": "e16e89c4",
   "metadata": {},
   "outputs": [],
   "source": [
    "prim_treat = prim_treat[prim_treat['PatientID'].isin(train_IDs)]"
   ]
  },
  {
   "cell_type": "code",
   "execution_count": 632,
   "id": "a8e9f3a3",
   "metadata": {},
   "outputs": [
    {
     "data": {
      "text/plain": [
       "(6552, 6552)"
      ]
     },
     "execution_count": 632,
     "metadata": {},
     "output_type": "execute_result"
    }
   ],
   "source": [
    "row_ID(prim_treat)"
   ]
  },
  {
   "cell_type": "code",
   "execution_count": 633,
   "id": "cea14ead",
   "metadata": {},
   "outputs": [
    {
     "data": {
      "text/html": [
       "<div>\n",
       "<style scoped>\n",
       "    .dataframe tbody tr th:only-of-type {\n",
       "        vertical-align: middle;\n",
       "    }\n",
       "\n",
       "    .dataframe tbody tr th {\n",
       "        vertical-align: top;\n",
       "    }\n",
       "\n",
       "    .dataframe thead th {\n",
       "        text-align: right;\n",
       "    }\n",
       "</style>\n",
       "<table border=\"1\" class=\"dataframe\">\n",
       "  <thead>\n",
       "    <tr style=\"text-align: right;\">\n",
       "      <th></th>\n",
       "      <th>PatientID</th>\n",
       "      <th>TreatmentType</th>\n",
       "      <th>TreatmentDate</th>\n",
       "    </tr>\n",
       "  </thead>\n",
       "  <tbody>\n",
       "    <tr>\n",
       "      <th>396</th>\n",
       "      <td>F48DDF5E48F3E</td>\n",
       "      <td>Prostatectomy / Surgery</td>\n",
       "      <td>1992-01-01</td>\n",
       "    </tr>\n",
       "    <tr>\n",
       "      <th>2227</th>\n",
       "      <td>F5523FC908D10</td>\n",
       "      <td>Prostatectomy / Surgery</td>\n",
       "      <td>2000-01-01</td>\n",
       "    </tr>\n",
       "    <tr>\n",
       "      <th>1840</th>\n",
       "      <td>F6B189868DD71</td>\n",
       "      <td>Radiation Therapy (Including Brachytherapy and...</td>\n",
       "      <td>2007-01-01</td>\n",
       "    </tr>\n",
       "    <tr>\n",
       "      <th>5644</th>\n",
       "      <td>FEDCD5938403D</td>\n",
       "      <td>Prostatectomy / Surgery</td>\n",
       "      <td>2013-01-01</td>\n",
       "    </tr>\n",
       "    <tr>\n",
       "      <th>3415</th>\n",
       "      <td>FEB992F0CB6A4</td>\n",
       "      <td>Prostatectomy / Surgery</td>\n",
       "      <td>2010-12-02</td>\n",
       "    </tr>\n",
       "  </tbody>\n",
       "</table>\n",
       "</div>"
      ],
      "text/plain": [
       "          PatientID                                      TreatmentType  \\\n",
       "396   F48DDF5E48F3E                            Prostatectomy / Surgery   \n",
       "2227  F5523FC908D10                            Prostatectomy / Surgery   \n",
       "1840  F6B189868DD71  Radiation Therapy (Including Brachytherapy and...   \n",
       "5644  FEDCD5938403D                            Prostatectomy / Surgery   \n",
       "3415  FEB992F0CB6A4                            Prostatectomy / Surgery   \n",
       "\n",
       "     TreatmentDate  \n",
       "396     1992-01-01  \n",
       "2227    2000-01-01  \n",
       "1840    2007-01-01  \n",
       "5644    2013-01-01  \n",
       "3415    2010-12-02  "
      ]
     },
     "execution_count": 633,
     "metadata": {},
     "output_type": "execute_result"
    }
   ],
   "source": [
    "prim_treat.sample(5)"
   ]
  },
  {
   "cell_type": "code",
   "execution_count": 634,
   "id": "e775ec52",
   "metadata": {},
   "outputs": [
    {
     "data": {
      "text/plain": [
       "Prostatectomy / Surgery                                              0.495421\n",
       "Radiation Therapy (Including Brachytherapy and Radioactive Seeds)    0.482448\n",
       "Cryotherapy                                                          0.020604\n",
       "High Intensity Focused Ultrasound (HIFU)                             0.001526\n",
       "Name: TreatmentType, dtype: float64"
      ]
     },
     "execution_count": 634,
     "metadata": {},
     "output_type": "execute_result"
    }
   ],
   "source": [
    "prim_treat.TreatmentType.value_counts(normalize = True, dropna = False)"
   ]
  },
  {
   "cell_type": "code",
   "execution_count": 635,
   "id": "8215682d",
   "metadata": {},
   "outputs": [],
   "source": [
    "prim_treat.loc[:, 'TreatmentDate'] = pd.to_datetime(prim_treat['TreatmentDate'])"
   ]
  },
  {
   "cell_type": "code",
   "execution_count": 636,
   "id": "06d377f7",
   "metadata": {},
   "outputs": [],
   "source": [
    "prim_treat = pd.merge(prim_treat, enhanced_met[['PatientID', 'met_date']], on = 'PatientID', how = 'left')"
   ]
  },
  {
   "cell_type": "code",
   "execution_count": 637,
   "id": "fc6ac7d2",
   "metadata": {},
   "outputs": [
    {
     "data": {
      "text/html": [
       "<div>\n",
       "<style scoped>\n",
       "    .dataframe tbody tr th:only-of-type {\n",
       "        vertical-align: middle;\n",
       "    }\n",
       "\n",
       "    .dataframe tbody tr th {\n",
       "        vertical-align: top;\n",
       "    }\n",
       "\n",
       "    .dataframe thead th {\n",
       "        text-align: right;\n",
       "    }\n",
       "</style>\n",
       "<table border=\"1\" class=\"dataframe\">\n",
       "  <thead>\n",
       "    <tr style=\"text-align: right;\">\n",
       "      <th></th>\n",
       "      <th>PatientID</th>\n",
       "      <th>TreatmentType</th>\n",
       "      <th>TreatmentDate</th>\n",
       "      <th>met_date</th>\n",
       "    </tr>\n",
       "  </thead>\n",
       "  <tbody>\n",
       "    <tr>\n",
       "      <th>1888</th>\n",
       "      <td>F44C43E6E39DF</td>\n",
       "      <td>Radiation Therapy (Including Brachytherapy and...</td>\n",
       "      <td>2014-02-01</td>\n",
       "      <td>2014-01-21</td>\n",
       "    </tr>\n",
       "    <tr>\n",
       "      <th>1927</th>\n",
       "      <td>F1D3075251CD9</td>\n",
       "      <td>Radiation Therapy (Including Brachytherapy and...</td>\n",
       "      <td>2022-06-28</td>\n",
       "      <td>2022-06-02</td>\n",
       "    </tr>\n",
       "    <tr>\n",
       "      <th>2000</th>\n",
       "      <td>FDB8D42BDDE06</td>\n",
       "      <td>Radiation Therapy (Including Brachytherapy and...</td>\n",
       "      <td>2014-07-15</td>\n",
       "      <td>2014-03-07</td>\n",
       "    </tr>\n",
       "    <tr>\n",
       "      <th>3113</th>\n",
       "      <td>F71D11C917212</td>\n",
       "      <td>Radiation Therapy (Including Brachytherapy and...</td>\n",
       "      <td>2016-12-28</td>\n",
       "      <td>2016-06-01</td>\n",
       "    </tr>\n",
       "    <tr>\n",
       "      <th>3986</th>\n",
       "      <td>F3A1D7A611FEA</td>\n",
       "      <td>Radiation Therapy (Including Brachytherapy and...</td>\n",
       "      <td>2018-04-01</td>\n",
       "      <td>2017-12-14</td>\n",
       "    </tr>\n",
       "    <tr>\n",
       "      <th>5178</th>\n",
       "      <td>F531D923DA9CC</td>\n",
       "      <td>Radiation Therapy (Including Brachytherapy and...</td>\n",
       "      <td>2019-06-05</td>\n",
       "      <td>2019-05-01</td>\n",
       "    </tr>\n",
       "    <tr>\n",
       "      <th>5826</th>\n",
       "      <td>F67C10C79A342</td>\n",
       "      <td>Radiation Therapy (Including Brachytherapy and...</td>\n",
       "      <td>2021-10-19</td>\n",
       "      <td>2021-09-20</td>\n",
       "    </tr>\n",
       "    <tr>\n",
       "      <th>5935</th>\n",
       "      <td>F9C37ECB924F2</td>\n",
       "      <td>Prostatectomy / Surgery</td>\n",
       "      <td>2021-10-29</td>\n",
       "      <td>2021-09-28</td>\n",
       "    </tr>\n",
       "    <tr>\n",
       "      <th>6042</th>\n",
       "      <td>FD3E314C35625</td>\n",
       "      <td>Radiation Therapy (Including Brachytherapy and...</td>\n",
       "      <td>2020-05-20</td>\n",
       "      <td>2020-03-03</td>\n",
       "    </tr>\n",
       "    <tr>\n",
       "      <th>6489</th>\n",
       "      <td>F497E0B4BE962</td>\n",
       "      <td>Radiation Therapy (Including Brachytherapy and...</td>\n",
       "      <td>2021-12-13</td>\n",
       "      <td>2021-10-26</td>\n",
       "    </tr>\n",
       "  </tbody>\n",
       "</table>\n",
       "</div>"
      ],
      "text/plain": [
       "          PatientID                                      TreatmentType  \\\n",
       "1888  F44C43E6E39DF  Radiation Therapy (Including Brachytherapy and...   \n",
       "1927  F1D3075251CD9  Radiation Therapy (Including Brachytherapy and...   \n",
       "2000  FDB8D42BDDE06  Radiation Therapy (Including Brachytherapy and...   \n",
       "3113  F71D11C917212  Radiation Therapy (Including Brachytherapy and...   \n",
       "3986  F3A1D7A611FEA  Radiation Therapy (Including Brachytherapy and...   \n",
       "5178  F531D923DA9CC  Radiation Therapy (Including Brachytherapy and...   \n",
       "5826  F67C10C79A342  Radiation Therapy (Including Brachytherapy and...   \n",
       "5935  F9C37ECB924F2                            Prostatectomy / Surgery   \n",
       "6042  FD3E314C35625  Radiation Therapy (Including Brachytherapy and...   \n",
       "6489  F497E0B4BE962  Radiation Therapy (Including Brachytherapy and...   \n",
       "\n",
       "     TreatmentDate   met_date  \n",
       "1888    2014-02-01 2014-01-21  \n",
       "1927    2022-06-28 2022-06-02  \n",
       "2000    2014-07-15 2014-03-07  \n",
       "3113    2016-12-28 2016-06-01  \n",
       "3986    2018-04-01 2017-12-14  \n",
       "5178    2019-06-05 2019-05-01  \n",
       "5826    2021-10-19 2021-09-20  \n",
       "5935    2021-10-29 2021-09-28  \n",
       "6042    2020-05-20 2020-03-03  \n",
       "6489    2021-12-13 2021-10-26  "
      ]
     },
     "execution_count": 637,
     "metadata": {},
     "output_type": "execute_result"
    }
   ],
   "source": [
    "prim_treat.query('TreatmentDate > met_date')"
   ]
  },
  {
   "cell_type": "code",
   "execution_count": 638,
   "id": "85beba04",
   "metadata": {},
   "outputs": [],
   "source": [
    "conditions = [\n",
    "    (prim_treat['TreatmentType'] == 'Prostatectomy / Surgery'),\n",
    "    (prim_treat['TreatmentType'] == 'Radiation Therapy (Including Brachytherapy and Radioactive Seeds)')]\n",
    "\n",
    "choices = ['prostatectomy', 'radiation']\n",
    "\n",
    "prim_treat.loc[:, 'prim_treatment'] = np.select(conditions, choices, default = 'other')"
   ]
  },
  {
   "cell_type": "code",
   "execution_count": 639,
   "id": "d9833b9e",
   "metadata": {},
   "outputs": [
    {
     "data": {
      "text/plain": [
       "prostatectomy    0.495421\n",
       "radiation        0.482448\n",
       "other            0.022131\n",
       "Name: prim_treatment, dtype: float64"
      ]
     },
     "execution_count": 639,
     "metadata": {},
     "output_type": "execute_result"
    }
   ],
   "source": [
    "prim_treat.prim_treatment.value_counts(normalize = True, dropna = False)"
   ]
  },
  {
   "cell_type": "code",
   "execution_count": 640,
   "id": "f06e1899",
   "metadata": {},
   "outputs": [],
   "source": [
    "prim_treat = (\n",
    "    prim_treat\n",
    "    .assign(treat_diff = (prim_treat['TreatmentDate'] - prim_treat['met_date']).dt.days)\n",
    ")"
   ]
  },
  {
   "cell_type": "code",
   "execution_count": 641,
   "id": "8d8bb278",
   "metadata": {},
   "outputs": [
    {
     "data": {
      "text/plain": [
       "count     6421.000000\n",
       "mean     -3322.379847\n",
       "std       2422.444571\n",
       "min     -18993.000000\n",
       "25%      -4821.000000\n",
       "50%      -2825.000000\n",
       "75%      -1385.000000\n",
       "max        210.000000\n",
       "Name: treat_diff, dtype: float64"
      ]
     },
     "execution_count": 641,
     "metadata": {},
     "output_type": "execute_result"
    }
   ],
   "source": [
    "prim_treat['treat_diff'].describe()"
   ]
  },
  {
   "cell_type": "code",
   "execution_count": 642,
   "id": "46e8f310",
   "metadata": {},
   "outputs": [],
   "source": [
    "prim_treat = prim_treat[['PatientID', 'prim_treatment']]"
   ]
  },
  {
   "cell_type": "code",
   "execution_count": 643,
   "id": "a8e9bc7f",
   "metadata": {},
   "outputs": [],
   "source": [
    "# Append missing training IDs.\n",
    "prim_treat_wide = (\n",
    "    prim_treat.append(\n",
    "        pd.Series(train_IDs)[~pd.Series(train_IDs).isin(prim_treat['PatientID'])].to_frame(name = 'PatientID'), \n",
    "        sort = False)\n",
    "    .fillna('unknown')\n",
    ")"
   ]
  },
  {
   "cell_type": "markdown",
   "id": "532db08d",
   "metadata": {},
   "source": [
    "#### ADT "
   ]
  },
  {
   "cell_type": "code",
   "execution_count": 644,
   "id": "6233f87c",
   "metadata": {},
   "outputs": [],
   "source": [
    "adt = pd.read_csv('Enhanced_MetPC_ADT.csv')"
   ]
  },
  {
   "cell_type": "code",
   "execution_count": 645,
   "id": "83e36c72",
   "metadata": {},
   "outputs": [],
   "source": [
    "adt = adt[adt['PatientID'].isin(train_IDs)]"
   ]
  },
  {
   "cell_type": "code",
   "execution_count": 646,
   "id": "b18cb8cb",
   "metadata": {},
   "outputs": [
    {
     "data": {
      "text/plain": [
       "(16397, 14629)"
      ]
     },
     "execution_count": 646,
     "metadata": {},
     "output_type": "execute_result"
    }
   ],
   "source": [
    "row_ID(adt)"
   ]
  },
  {
   "cell_type": "code",
   "execution_count": 647,
   "id": "1232b17b",
   "metadata": {},
   "outputs": [
    {
     "data": {
      "text/html": [
       "<div>\n",
       "<style scoped>\n",
       "    .dataframe tbody tr th:only-of-type {\n",
       "        vertical-align: middle;\n",
       "    }\n",
       "\n",
       "    .dataframe tbody tr th {\n",
       "        vertical-align: top;\n",
       "    }\n",
       "\n",
       "    .dataframe thead th {\n",
       "        text-align: right;\n",
       "    }\n",
       "</style>\n",
       "<table border=\"1\" class=\"dataframe\">\n",
       "  <thead>\n",
       "    <tr style=\"text-align: right;\">\n",
       "      <th></th>\n",
       "      <th>PatientID</th>\n",
       "      <th>TreatmentSetting</th>\n",
       "      <th>StartDate</th>\n",
       "      <th>EndDate</th>\n",
       "      <th>TreatmentStatus</th>\n",
       "    </tr>\n",
       "  </thead>\n",
       "  <tbody>\n",
       "    <tr>\n",
       "      <th>16645</th>\n",
       "      <td>F1A0FD95E6C73</td>\n",
       "      <td>Advanced</td>\n",
       "      <td>2013-12-18</td>\n",
       "      <td>NaN</td>\n",
       "      <td>Continuing</td>\n",
       "    </tr>\n",
       "    <tr>\n",
       "      <th>2370</th>\n",
       "      <td>F0D891528B359</td>\n",
       "      <td>Advanced</td>\n",
       "      <td>2018-06-01</td>\n",
       "      <td>NaN</td>\n",
       "      <td>Continuing</td>\n",
       "    </tr>\n",
       "    <tr>\n",
       "      <th>12216</th>\n",
       "      <td>F367398E7385F</td>\n",
       "      <td>Advanced</td>\n",
       "      <td>NaN</td>\n",
       "      <td>NaN</td>\n",
       "      <td>Continuing</td>\n",
       "    </tr>\n",
       "    <tr>\n",
       "      <th>8461</th>\n",
       "      <td>F1DFA5979081D</td>\n",
       "      <td>Advanced</td>\n",
       "      <td>2021-08-18</td>\n",
       "      <td>NaN</td>\n",
       "      <td>Continuing</td>\n",
       "    </tr>\n",
       "    <tr>\n",
       "      <th>15397</th>\n",
       "      <td>F09BC17E14C7F</td>\n",
       "      <td>Advanced</td>\n",
       "      <td>2022-02-17</td>\n",
       "      <td>NaN</td>\n",
       "      <td>Continuing</td>\n",
       "    </tr>\n",
       "  </tbody>\n",
       "</table>\n",
       "</div>"
      ],
      "text/plain": [
       "           PatientID TreatmentSetting   StartDate EndDate TreatmentStatus\n",
       "16645  F1A0FD95E6C73         Advanced  2013-12-18     NaN      Continuing\n",
       "2370   F0D891528B359         Advanced  2018-06-01     NaN      Continuing\n",
       "12216  F367398E7385F         Advanced         NaN     NaN      Continuing\n",
       "8461   F1DFA5979081D         Advanced  2021-08-18     NaN      Continuing\n",
       "15397  F09BC17E14C7F         Advanced  2022-02-17     NaN      Continuing"
      ]
     },
     "execution_count": 647,
     "metadata": {},
     "output_type": "execute_result"
    }
   ],
   "source": [
    "adt.sample(5)"
   ]
  },
  {
   "cell_type": "code",
   "execution_count": 648,
   "id": "e8e973e0",
   "metadata": {},
   "outputs": [
    {
     "data": {
      "text/plain": [
       "Advanced    14299\n",
       "Curative     2098\n",
       "Name: TreatmentSetting, dtype: int64"
      ]
     },
     "execution_count": 648,
     "metadata": {},
     "output_type": "execute_result"
    }
   ],
   "source": [
    "adt.TreatmentSetting.value_counts(dropna = False)"
   ]
  },
  {
   "cell_type": "code",
   "execution_count": 649,
   "id": "4de55aa2",
   "metadata": {},
   "outputs": [],
   "source": [
    "adt.loc[:, 'StartDate'] = pd.to_datetime(adt['StartDate'])"
   ]
  },
  {
   "cell_type": "code",
   "execution_count": 650,
   "id": "2238d872",
   "metadata": {},
   "outputs": [],
   "source": [
    "adt = pd.merge(adt, enhanced_met[['PatientID', 'met_date']], on = 'PatientID', how = 'left')"
   ]
  },
  {
   "cell_type": "code",
   "execution_count": 651,
   "id": "85088876",
   "metadata": {},
   "outputs": [
    {
     "data": {
      "text/plain": [
       "Advanced    8696\n",
       "Curative      20\n",
       "Name: TreatmentSetting, dtype: int64"
      ]
     },
     "execution_count": 651,
     "metadata": {},
     "output_type": "execute_result"
    }
   ],
   "source": [
    "adt.query('StartDate >= met_date').TreatmentSetting.value_counts()"
   ]
  },
  {
   "cell_type": "code",
   "execution_count": 652,
   "id": "8e676ba6",
   "metadata": {},
   "outputs": [
    {
     "data": {
      "text/plain": [
       "Advanced    4465\n",
       "Curative    1996\n",
       "Name: TreatmentSetting, dtype: int64"
      ]
     },
     "execution_count": 652,
     "metadata": {},
     "output_type": "execute_result"
    }
   ],
   "source": [
    "adt.query('StartDate < met_date').TreatmentSetting.value_counts()"
   ]
  },
  {
   "cell_type": "code",
   "execution_count": 653,
   "id": "cfa49b75",
   "metadata": {},
   "outputs": [],
   "source": [
    "adt = (\n",
    "    adt\n",
    "    .assign(adt_diff = (adt['StartDate'] - adt['met_date']).dt.days)\n",
    ")"
   ]
  },
  {
   "cell_type": "code",
   "execution_count": 654,
   "id": "6d19074b",
   "metadata": {},
   "outputs": [
    {
     "data": {
      "text/plain": [
       "count    15177.000000\n",
       "mean      -673.433287\n",
       "std       1386.593256\n",
       "min     -10654.000000\n",
       "25%       -858.000000\n",
       "50%          3.000000\n",
       "75%         27.000000\n",
       "max       3376.000000\n",
       "Name: adt_diff, dtype: float64"
      ]
     },
     "execution_count": 654,
     "metadata": {},
     "output_type": "execute_result"
    }
   ],
   "source": [
    "adt['adt_diff'].describe()"
   ]
  },
  {
   "cell_type": "code",
   "execution_count": 655,
   "id": "abd98ad2",
   "metadata": {},
   "outputs": [],
   "source": [
    "adt = adt.query('adt_diff < -90')"
   ]
  },
  {
   "cell_type": "code",
   "execution_count": 656,
   "id": "99fe7c03",
   "metadata": {},
   "outputs": [
    {
     "data": {
      "text/plain": [
       "(5692, 5037)"
      ]
     },
     "execution_count": 656,
     "metadata": {},
     "output_type": "execute_result"
    }
   ],
   "source": [
    "row_ID(adt)"
   ]
  },
  {
   "cell_type": "code",
   "execution_count": 657,
   "id": "b54bc670",
   "metadata": {},
   "outputs": [],
   "source": [
    "adt = adt.drop_duplicates(subset = ['PatientID'], keep = 'first')"
   ]
  },
  {
   "cell_type": "code",
   "execution_count": 658,
   "id": "2801722e",
   "metadata": {},
   "outputs": [
    {
     "data": {
      "text/plain": [
       "(5037, 5037)"
      ]
     },
     "execution_count": 658,
     "metadata": {},
     "output_type": "execute_result"
    }
   ],
   "source": [
    "row_ID(adt)"
   ]
  },
  {
   "cell_type": "code",
   "execution_count": 659,
   "id": "57b51c9c",
   "metadata": {},
   "outputs": [],
   "source": [
    "adt.loc[:,'early_adt'] = 1"
   ]
  },
  {
   "cell_type": "code",
   "execution_count": 660,
   "id": "02147e72",
   "metadata": {},
   "outputs": [],
   "source": [
    "adt = adt[['PatientID', 'early_adt']]"
   ]
  },
  {
   "cell_type": "code",
   "execution_count": 661,
   "id": "a3c885c0",
   "metadata": {},
   "outputs": [],
   "source": [
    "# Append missing training IDs.\n",
    "adt_wide = (\n",
    "    adt.append(\n",
    "        pd.Series(train_IDs)[~pd.Series(train_IDs).isin(adt['PatientID'])].to_frame(name = 'PatientID'), \n",
    "        sort = False)\n",
    "    .fillna(0)\n",
    ")"
   ]
  },
  {
   "cell_type": "code",
   "execution_count": 662,
   "id": "a64a53a0",
   "metadata": {},
   "outputs": [
    {
     "data": {
      "text/plain": [
       "(15141, 15141)"
      ]
     },
     "execution_count": 662,
     "metadata": {},
     "output_type": "execute_result"
    }
   ],
   "source": [
    "row_ID(adt_wide)"
   ]
  },
  {
   "cell_type": "markdown",
   "id": "03ad5a0c",
   "metadata": {},
   "source": [
    "#### Merge"
   ]
  },
  {
   "cell_type": "code",
   "execution_count": 663,
   "id": "6c7277a9",
   "metadata": {},
   "outputs": [],
   "source": [
    "treat_wide = pd.merge(prim_treat_wide, adt_wide, on = 'PatientID')"
   ]
  },
  {
   "cell_type": "code",
   "execution_count": 664,
   "id": "9dff2804",
   "metadata": {},
   "outputs": [
    {
     "data": {
      "text/plain": [
       "(15141, 15141)"
      ]
     },
     "execution_count": 664,
     "metadata": {},
     "output_type": "execute_result"
    }
   ],
   "source": [
    "row_ID(treat_wide)"
   ]
  },
  {
   "cell_type": "code",
   "execution_count": 665,
   "id": "f7a1a1dc",
   "metadata": {
    "scrolled": true
   },
   "outputs": [
    {
     "name": "stdout",
     "output_type": "stream",
     "text": [
      "Variable              Type         Data/Info\n",
      "--------------------------------------------\n",
      "adt                   DataFrame               PatientID  ear<...>\\n[5037 rows x 2 columns]\n",
      "adt_wide              DataFrame               PatientID  ear<...>n[15141 rows x 2 columns]\n",
      "biomarker_wide        DataFrame               PatientID brca<...>n[15141 rows x 2 columns]\n",
      "demographics          DataFrame               PatientID Gend<...>n[15141 rows x 6 columns]\n",
      "diagnosis_wide        DataFrame               PatientID  chf<...>[15141 rows x 44 columns]\n",
      "ecog_diagnosis_wide   DataFrame                PatientID eco<...>n[15141 rows x 2 columns]\n",
      "enhanced_met          DataFrame               PatientID diag<...>[15141 rows x 18 columns]\n",
      "insurance_wide        DataFrame               PatientID  med<...>n[15141 rows x 9 columns]\n",
      "lab_wide              DataFrame               PatientID  alb<...>15141 rows x 135 columns]\n",
      "med_admin_wide        DataFrame               PatientID  ste<...>[15141 rows x 13 columns]\n",
      "mortality             DataFrame               PatientID  dea<...>n[15141 rows x 3 columns]\n",
      "prim_treat            DataFrame              PatientID prim_<...>\\n[6552 rows x 2 columns]\n",
      "prim_treat_wide       DataFrame               PatientID prim<...>n[15141 rows x 2 columns]\n",
      "treat_wide            DataFrame               PatientID prim<...>n[15141 rows x 3 columns]\n",
      "weight_wide           DataFrame               PatientID  wei<...>n[15141 rows x 7 columns]\n"
     ]
    }
   ],
   "source": [
    "%whos DataFrame"
   ]
  },
  {
   "cell_type": "code",
   "execution_count": 666,
   "id": "38e982de",
   "metadata": {},
   "outputs": [],
   "source": [
    "# Keep biomarker_wide, demographics, ecog_diagnosis_wide, enhanced_met, mortality, \n",
    "# lab_wide, treat_wide, and weight_wide\n",
    "del adt\n",
    "del adt_wide\n",
    "del prim_treat\n",
    "del prim_treat_wide"
   ]
  },
  {
   "cell_type": "markdown",
   "id": "3945f6c7",
   "metadata": {},
   "source": [
    "## Part 3: File merge"
   ]
  },
  {
   "cell_type": "code",
   "execution_count": 667,
   "id": "8122bff8",
   "metadata": {},
   "outputs": [],
   "source": [
    "enhanced_met = enhanced_met.drop(columns = ['diagnosis_date', 'met_date', 'met_year_cat', 'CRPCDate'])"
   ]
  },
  {
   "cell_type": "code",
   "execution_count": 668,
   "id": "fcd4e933",
   "metadata": {},
   "outputs": [],
   "source": [
    "train_full = pd.merge(demographics, enhanced_met, on = 'PatientID')"
   ]
  },
  {
   "cell_type": "code",
   "execution_count": 669,
   "id": "aa81cfdd",
   "metadata": {},
   "outputs": [],
   "source": [
    "train_full = pd.merge(train_full, mortality, on = 'PatientID')"
   ]
  },
  {
   "cell_type": "code",
   "execution_count": 670,
   "id": "9240a235",
   "metadata": {},
   "outputs": [],
   "source": [
    "train_full = pd.merge(train_full, med_admin_wide, on = 'PatientID')"
   ]
  },
  {
   "cell_type": "code",
   "execution_count": 671,
   "id": "7ff8ec46",
   "metadata": {},
   "outputs": [],
   "source": [
    "train_full = pd.merge(train_full, biomarker_wide, on = 'PatientID')"
   ]
  },
  {
   "cell_type": "code",
   "execution_count": 672,
   "id": "34e5f721",
   "metadata": {},
   "outputs": [],
   "source": [
    "train_full = pd.merge(train_full, insurance_wide, on = 'PatientID')"
   ]
  },
  {
   "cell_type": "code",
   "execution_count": 673,
   "id": "16918928",
   "metadata": {},
   "outputs": [],
   "source": [
    "train_full = pd.merge(train_full, ecog_diagnosis_wide, on = 'PatientID')"
   ]
  },
  {
   "cell_type": "code",
   "execution_count": 674,
   "id": "77b2c910",
   "metadata": {},
   "outputs": [],
   "source": [
    "train_full = pd.merge(train_full, weight_wide, on = 'PatientID')"
   ]
  },
  {
   "cell_type": "code",
   "execution_count": 675,
   "id": "dc97ebee",
   "metadata": {},
   "outputs": [],
   "source": [
    "train_full = pd.merge(train_full, lab_wide, on = 'PatientID')"
   ]
  },
  {
   "cell_type": "code",
   "execution_count": 676,
   "id": "5af4ec2e",
   "metadata": {},
   "outputs": [],
   "source": [
    "train_full = pd.merge(train_full, diagnosis_wide, on = 'PatientID')"
   ]
  },
  {
   "cell_type": "code",
   "execution_count": 677,
   "id": "517e53d2",
   "metadata": {},
   "outputs": [],
   "source": [
    "train_full = pd.merge(train_full, treat_wide, on = 'PatientID')"
   ]
  },
  {
   "cell_type": "code",
   "execution_count": 678,
   "id": "1a28c2ae",
   "metadata": {},
   "outputs": [
    {
     "data": {
      "text/plain": [
       "(15141, 15141)"
      ]
     },
     "execution_count": 678,
     "metadata": {},
     "output_type": "execute_result"
    }
   ],
   "source": [
    "row_ID(train_full)"
   ]
  },
  {
   "cell_type": "code",
   "execution_count": 679,
   "id": "dc6a9076",
   "metadata": {},
   "outputs": [
    {
     "data": {
      "text/plain": [
       "228"
      ]
     },
     "execution_count": 679,
     "metadata": {},
     "output_type": "execute_result"
    }
   ],
   "source": [
    "len(train_full.columns)"
   ]
  },
  {
   "cell_type": "code",
   "execution_count": 680,
   "id": "1ec81f92",
   "metadata": {
    "scrolled": false
   },
   "outputs": [
    {
     "data": {
      "text/plain": [
       "['PatientID',\n",
       " 'Gender',\n",
       " 'race',\n",
       " 'ethnicity',\n",
       " 'age',\n",
       " 'p_type',\n",
       " 'NStage',\n",
       " 'MStage',\n",
       " 'Histology',\n",
       " 'GleasonScore',\n",
       " 'PSADiagnosis',\n",
       " 'PSAMetDiagnosis',\n",
       " 'stage',\n",
       " 'met_year',\n",
       " 'delta_met_diagnosis',\n",
       " 'crpc',\n",
       " 'crpc_time',\n",
       " 'psa_diag_na',\n",
       " 'psa_met_na',\n",
       " 'death_status',\n",
       " 'timerisk_activity',\n",
       " 'steroid_diag',\n",
       " 'opioid_PO_diag',\n",
       " 'nonopioid_PO_diag',\n",
       " 'pain_IV_diag',\n",
       " 'ac_diag',\n",
       " 'antiinfective_IV_diag',\n",
       " 'antiinfective_diag',\n",
       " 'antihyperglycemic_diag',\n",
       " 'ppi_diag',\n",
       " 'antidepressant_diag',\n",
       " 'bta_diag',\n",
       " 'thyroid_diag',\n",
       " 'brca_status',\n",
       " 'medicare',\n",
       " 'medicaid',\n",
       " 'medicare_medicaid',\n",
       " 'commercial',\n",
       " 'patient_assistance',\n",
       " 'other_govt',\n",
       " 'self_pay',\n",
       " 'other',\n",
       " 'ecog_diagnosis',\n",
       " 'weight_diag',\n",
       " 'bmi_diag',\n",
       " 'bmi_diag_na',\n",
       " 'weight_pct_change',\n",
       " 'weight_pct_na',\n",
       " 'weight_slope',\n",
       " 'albumin_diag',\n",
       " 'alp_diag',\n",
       " 'alt_diag',\n",
       " 'ast_diag',\n",
       " 'bicarb_diag',\n",
       " 'bun_diag',\n",
       " 'calcium_diag',\n",
       " 'chloride_diag',\n",
       " 'creatinine_diag',\n",
       " 'hemoglobin_diag',\n",
       " 'neutrophil_count_diag',\n",
       " 'platelet_diag',\n",
       " 'potassium_diag',\n",
       " 'sodium_diag',\n",
       " 'total_bilirubin_diag',\n",
       " 'wbc_diag',\n",
       " 'albumin_diag_na',\n",
       " 'alp_diag_na',\n",
       " 'alt_diag_na',\n",
       " 'ast_diag_na',\n",
       " 'bicarb_diag_na',\n",
       " 'bun_diag_na',\n",
       " 'calcium_diag_na',\n",
       " 'chloride_diag_na',\n",
       " 'creatinine_diag_na',\n",
       " 'hemoglobin_diag_na',\n",
       " 'neutrophil_count_diag_na',\n",
       " 'platelet_diag_na',\n",
       " 'potassium_diag_na',\n",
       " 'sodium_diag_na',\n",
       " 'total_bilirubin_diag_na',\n",
       " 'wbc_diag_na',\n",
       " 'albumin_avg',\n",
       " 'alp_avg',\n",
       " 'alt_avg',\n",
       " 'ast_avg',\n",
       " 'bicarb_avg',\n",
       " 'bun_avg',\n",
       " 'calcium_avg',\n",
       " 'chloride_avg',\n",
       " 'creatinine_avg',\n",
       " 'hemoglobin_avg',\n",
       " 'neutrophil_count_avg',\n",
       " 'platelet_avg',\n",
       " 'potassium_avg',\n",
       " 'psa_avg',\n",
       " 'sodium_avg',\n",
       " 'total_bilirubin_avg',\n",
       " 'wbc_avg',\n",
       " 'albumin_max',\n",
       " 'alp_max',\n",
       " 'alt_max',\n",
       " 'ast_max',\n",
       " 'bicarb_max',\n",
       " 'bun_max',\n",
       " 'calcium_max',\n",
       " 'chloride_max',\n",
       " 'creatinine_max',\n",
       " 'hemoglobin_max',\n",
       " 'neutrophil_count_max',\n",
       " 'platelet_max',\n",
       " 'potassium_max',\n",
       " 'psa_max',\n",
       " 'sodium_max',\n",
       " 'total_bilirubin_max',\n",
       " 'wbc_max',\n",
       " 'albumin_min',\n",
       " 'alp_min',\n",
       " 'alt_min',\n",
       " 'ast_min',\n",
       " 'bicarb_min',\n",
       " 'bun_min',\n",
       " 'calcium_min',\n",
       " 'chloride_min',\n",
       " 'creatinine_min',\n",
       " 'hemoglobin_min',\n",
       " 'neutrophil_count_min',\n",
       " 'platelet_min',\n",
       " 'potassium_min',\n",
       " 'psa_min',\n",
       " 'sodium_min',\n",
       " 'total_bilirubin_min',\n",
       " 'wbc_min',\n",
       " 'albumin_std',\n",
       " 'alp_std',\n",
       " 'alt_std',\n",
       " 'ast_std',\n",
       " 'bicarb_std',\n",
       " 'bun_std',\n",
       " 'calcium_std',\n",
       " 'chloride_std',\n",
       " 'creatinine_std',\n",
       " 'hemoglobin_std',\n",
       " 'neutrophil_count_std',\n",
       " 'platelet_std',\n",
       " 'potassium_std',\n",
       " 'psa_std',\n",
       " 'sodium_std',\n",
       " 'total_bilirubin_std',\n",
       " 'wbc_std',\n",
       " 'albumin_slope',\n",
       " 'alp_slope',\n",
       " 'alt_slope',\n",
       " 'ast_slope',\n",
       " 'bicarb_slope',\n",
       " 'bun_slope',\n",
       " 'calcium_slope',\n",
       " 'chloride_slope',\n",
       " 'creatinine_slope',\n",
       " 'hemoglobin_slope',\n",
       " 'neutrophil_count_slope',\n",
       " 'platelet_slope',\n",
       " 'potassium_slope',\n",
       " 'psa_slope',\n",
       " 'sodium_slope',\n",
       " 'total_bilirubin_slope',\n",
       " 'wbc_slope',\n",
       " 'albumin_slope_na',\n",
       " 'alp_slope_na',\n",
       " 'alt_slope_na',\n",
       " 'ast_slope_na',\n",
       " 'bicarb_slope_na',\n",
       " 'bun_slope_na',\n",
       " 'calcium_slope_na',\n",
       " 'chloride_slope_na',\n",
       " 'creatinine_slope_na',\n",
       " 'hemoglobin_slope_na',\n",
       " 'neutrophil_count_slope_na',\n",
       " 'platelet_slope_na',\n",
       " 'potassium_slope_na',\n",
       " 'psa_slope_na',\n",
       " 'sodium_slope_na',\n",
       " 'total_bilirubin_slope_na',\n",
       " 'wbc_slope_na',\n",
       " 'chf',\n",
       " 'cardiac_arrhythmias',\n",
       " 'valvular_disease',\n",
       " 'pulmonary_circulation',\n",
       " 'peripheral_vascular',\n",
       " 'htn_uncomplicated',\n",
       " 'htn_complicated',\n",
       " 'paralysis',\n",
       " 'other_neuro_disorders',\n",
       " 'chronic_pulmonary',\n",
       " 'diabetes_uncomplicated',\n",
       " 'diabetes_complicated',\n",
       " 'hypothyroidism',\n",
       " 'renal_failure',\n",
       " 'liver_disease',\n",
       " 'peptic_ulcer_disease',\n",
       " 'aids_hiv',\n",
       " 'lymphoma',\n",
       " 'metastatic_cancer',\n",
       " 'solid_tumor_wout_mets',\n",
       " 'rheumatoid_arthritis',\n",
       " 'coagulopathy',\n",
       " 'obesity',\n",
       " 'weight_loss',\n",
       " 'fluid_electrolyte',\n",
       " 'blood_loss_anemia',\n",
       " 'deficiency_anemia',\n",
       " 'alcohol_abuse',\n",
       " 'drug_abuse',\n",
       " 'psychoses',\n",
       " 'depression',\n",
       " 'elixhauser_other',\n",
       " 'icd_count',\n",
       " 'other_cancer',\n",
       " 'thorax_met',\n",
       " 'peritoneum_met',\n",
       " 'liver_met',\n",
       " 'other_gi_met',\n",
       " 'cns_met',\n",
       " 'bone_met',\n",
       " 'lymph_met',\n",
       " 'kidney_bladder_met',\n",
       " 'other_met',\n",
       " 'prim_treatment',\n",
       " 'early_adt']"
      ]
     },
     "execution_count": 680,
     "metadata": {},
     "output_type": "execute_result"
    }
   ],
   "source": [
    "list(train_full.columns)"
   ]
  },
  {
   "cell_type": "code",
   "execution_count": 681,
   "id": "6d55a436",
   "metadata": {},
   "outputs": [],
   "source": [
    "train_full.to_csv('train_full.csv', index = False, header = True)"
   ]
  }
 ],
 "metadata": {
  "kernelspec": {
   "display_name": "My Virtual Environment",
   "language": "python",
   "name": "myenv"
  },
  "language_info": {
   "codemirror_mode": {
    "name": "ipython",
    "version": 3
   },
   "file_extension": ".py",
   "mimetype": "text/x-python",
   "name": "python",
   "nbconvert_exporter": "python",
   "pygments_lexer": "ipython3",
   "version": "3.7.10"
  }
 },
 "nbformat": 4,
 "nbformat_minor": 5
}
