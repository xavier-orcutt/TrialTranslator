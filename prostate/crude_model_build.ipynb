{
 "cells": [
  {
   "cell_type": "markdown",
   "id": "78e37b51",
   "metadata": {},
   "source": [
    "# Flatiron Health mPC: Machine learning models with crude imputation \n",
    "\n",
    "**OBJECTIVE: Build 4 survival machine learning models using a crude imputation strategy. This imputation strategy assumes data is missing completely at random and will impute median for numerical variables and leave missing categorical entries as \"unknown\" (eg., possible ECOG values are 0, 1, 2, 3, 4, 5, and unknown). The machine learning model that performs best in this section will be used in the multiple imputation chained equation notebook.**\n",
    "\n",
    "**BACKGROUND: The models were built using scikit-survival which is a machine learning library for survival analysis.  All 4 of these machine learning models are intended for survival analysis and so take into account censored data.** \n",
    "\n",
    "**The measure used to evaluate model performance is time-dependent area under the receiver operator curve (AUC) at 2 years. This metric determines how well a model can distinguish patients who die by time *t* from patients who die after this time. Our focus is to assess model discriminatory performance within the few couple years from metastatic diagnosis. Time dependent AUC was selected instead of the more frequently used metric in survival data, concordance index, since the concordance index is not time dependent and thus assess models performance over the entire range of survival times which in our case would be over 10 years.** \n",
    "\n",
    "**The time point 2 year from metastatic diagnosis was selected as the primary time-point of interest and so all machine learning model hyperparamters are tuned to maximize performance at that time point.**\n",
    "\n",
    "**OUTLINE:**\n",
    "1. **Preprocessing**\n",
    "2. **Gradient boosting model** \n",
    "3. **Random survival forest** \n",
    "4. **Penalized Cox models**\n",
    "5. **Linear support vector machine** "
   ]
  },
  {
   "cell_type": "markdown",
   "id": "96942fad",
   "metadata": {},
   "source": [
    "## 1. Preprocessing "
   ]
  },
  {
   "cell_type": "code",
   "execution_count": 1,
   "id": "2ed49dc3",
   "metadata": {},
   "outputs": [],
   "source": [
    "import numpy as np\n",
    "import pandas as pd\n",
    "\n",
    "from sklearn.model_selection import StratifiedShuffleSplit\n",
    "from sklearn.pipeline import Pipeline\n",
    "from sklearn.impute import SimpleImputer\n",
    "from sklearn.preprocessing import StandardScaler, OneHotEncoder\n",
    "from sklearn.compose import ColumnTransformer "
   ]
  },
  {
   "cell_type": "markdown",
   "id": "c2ef3648",
   "metadata": {},
   "source": [
    "### 1.1 Importing full dataframes"
   ]
  },
  {
   "cell_type": "code",
   "execution_count": 2,
   "id": "3f7f008b",
   "metadata": {},
   "outputs": [
    {
     "name": "stdout",
     "output_type": "stream",
     "text": [
      "15141 True\n"
     ]
    }
   ],
   "source": [
    "# Import training set and set PatientID as index.\n",
    "train = pd.read_csv('train_full.csv', index_col = 'PatientID')\n",
    "print(len(train), train.index.is_unique)"
   ]
  },
  {
   "cell_type": "code",
   "execution_count": 3,
   "id": "a6bdff04",
   "metadata": {},
   "outputs": [
    {
     "name": "stdout",
     "output_type": "stream",
     "text": [
      "3786 True\n"
     ]
    }
   ],
   "source": [
    "# Import test set and set PatientID as index.\n",
    "test = pd.read_csv('test_full.csv', index_col = 'PatientID')\n",
    "print(len(test), test.index.is_unique)"
   ]
  },
  {
   "cell_type": "markdown",
   "id": "4f5ddc2a",
   "metadata": {},
   "source": [
    "### 1.2 Drop unnecessary demographic variables "
   ]
  },
  {
   "cell_type": "code",
   "execution_count": 4,
   "id": "63bffc8f",
   "metadata": {},
   "outputs": [],
   "source": [
    "train = train.drop(columns = ['race',\n",
    "                              'ethnicity',\n",
    "                              'medicare', \n",
    "                              'medicaid', \n",
    "                              'medicare_medicaid',\n",
    "                              'commercial', \n",
    "                              'patient_assistance', \n",
    "                              'other_govt',\n",
    "                              'self_pay', \n",
    "                              'other'])"
   ]
  },
  {
   "cell_type": "code",
   "execution_count": 5,
   "id": "12d1f59f",
   "metadata": {},
   "outputs": [],
   "source": [
    "test = test.drop(columns = ['race',\n",
    "                            'ethnicity',\n",
    "                            'medicare', \n",
    "                            'medicaid', \n",
    "                            'medicare_medicaid',\n",
    "                            'commercial', \n",
    "                            'patient_assistance', \n",
    "                            'other_govt',\n",
    "                            'self_pay', \n",
    "                            'other'])"
   ]
  },
  {
   "cell_type": "markdown",
   "id": "eeede61c",
   "metadata": {},
   "source": [
    "### 1.3 Converting datatypes "
   ]
  },
  {
   "cell_type": "code",
   "execution_count": 6,
   "id": "89d3a565",
   "metadata": {},
   "outputs": [
    {
     "data": {
      "text/plain": [
       "['Gender',\n",
       " 'p_type',\n",
       " 'NStage',\n",
       " 'MStage',\n",
       " 'Histology',\n",
       " 'GleasonScore',\n",
       " 'stage',\n",
       " 'brca_status',\n",
       " 'ecog_diagnosis',\n",
       " 'prim_treatment']"
      ]
     },
     "execution_count": 6,
     "metadata": {},
     "output_type": "execute_result"
    }
   ],
   "source": [
    "list(train.select_dtypes(include = ['object']).columns)"
   ]
  },
  {
   "cell_type": "code",
   "execution_count": 7,
   "id": "49efb1bc",
   "metadata": {},
   "outputs": [],
   "source": [
    "to_be_categorical = list(train.select_dtypes(include = ['object']).columns)"
   ]
  },
  {
   "cell_type": "code",
   "execution_count": 8,
   "id": "c0d4c959",
   "metadata": {},
   "outputs": [],
   "source": [
    "to_be_categorical.append('met_year')"
   ]
  },
  {
   "cell_type": "code",
   "execution_count": 9,
   "id": "20843fda",
   "metadata": {},
   "outputs": [],
   "source": [
    "# Convert variables in list to categorical.\n",
    "for x in list(to_be_categorical):\n",
    "    train[x] = train[x].astype('category')"
   ]
  },
  {
   "cell_type": "code",
   "execution_count": 10,
   "id": "7b977446",
   "metadata": {},
   "outputs": [
    {
     "data": {
      "text/plain": [
       "['Gender',\n",
       " 'p_type',\n",
       " 'NStage',\n",
       " 'MStage',\n",
       " 'Histology',\n",
       " 'GleasonScore',\n",
       " 'stage',\n",
       " 'met_year',\n",
       " 'brca_status',\n",
       " 'ecog_diagnosis',\n",
       " 'prim_treatment']"
      ]
     },
     "execution_count": 10,
     "metadata": {},
     "output_type": "execute_result"
    }
   ],
   "source": [
    "list(train.select_dtypes(include = ['category']).columns)"
   ]
  },
  {
   "cell_type": "code",
   "execution_count": 11,
   "id": "923e03dc",
   "metadata": {},
   "outputs": [],
   "source": [
    "# Convert variables in list to categorical.\n",
    "for x in list(to_be_categorical):\n",
    "    test[x] = test[x].astype('category')"
   ]
  },
  {
   "cell_type": "code",
   "execution_count": 12,
   "id": "737f24a1",
   "metadata": {},
   "outputs": [],
   "source": [
    "# Convert death_status into True or False (required for scikit-survival). \n",
    "train['death_status'] = train['death_status'].astype('bool')"
   ]
  },
  {
   "cell_type": "code",
   "execution_count": 13,
   "id": "07a0db5c",
   "metadata": {},
   "outputs": [],
   "source": [
    "# Convert death_status into True or False (required for scikit-survival).\n",
    "test['death_status'] = test['death_status'].astype('bool')"
   ]
  },
  {
   "cell_type": "markdown",
   "id": "ee5d1916",
   "metadata": {},
   "source": [
    "### 1.4 Defining validation set\n",
    "\n",
    "**A validation dataset will be constructed from the training set. This validation set will comprise of 25% of the training set. It will be used to assist in early stopping for the gradient boosting survival model and the random survival model. Like in the training-test split, a stratified approach will be carried out to preserve the distribution of diagnosis years.**   "
   ]
  },
  {
   "cell_type": "code",
   "execution_count": 14,
   "id": "2a396aa5",
   "metadata": {},
   "outputs": [],
   "source": [
    "train['met_year_cat'] = pd.cut(train['met_year'],\n",
    "                               bins = [2012, 2014, 2016, 2018, 2020, 2022],\n",
    "                               labels = ['13-14', '15-16', '17-18', '19-20', '21-22'])"
   ]
  },
  {
   "cell_type": "code",
   "execution_count": 15,
   "id": "c34c3ea9",
   "metadata": {},
   "outputs": [],
   "source": [
    "sss = StratifiedShuffleSplit(n_splits = 1, test_size = 0.25, random_state = 42)\n",
    "\n",
    "for sub_train_index, val_index in sss.split(train, train['met_year_cat']):\n",
    "    sub_train = train.iloc[sub_train_index]\n",
    "    val = train.iloc[val_index]"
   ]
  },
  {
   "cell_type": "code",
   "execution_count": 16,
   "id": "001965ea",
   "metadata": {},
   "outputs": [],
   "source": [
    "train = train.drop(columns = ['met_year_cat'])"
   ]
  },
  {
   "cell_type": "code",
   "execution_count": 17,
   "id": "7284aed9",
   "metadata": {},
   "outputs": [],
   "source": [
    "sub_train = sub_train.drop(columns = ['met_year_cat'])"
   ]
  },
  {
   "cell_type": "code",
   "execution_count": 18,
   "id": "92365ebe",
   "metadata": {},
   "outputs": [],
   "source": [
    "val = val.drop(columns = ['met_year_cat'])"
   ]
  },
  {
   "cell_type": "code",
   "execution_count": 19,
   "id": "2f088730",
   "metadata": {},
   "outputs": [],
   "source": [
    "pd.DataFrame(val.index, columns = ['PatientID']).to_csv('val_IDs.csv', index = False, header = True)"
   ]
  },
  {
   "cell_type": "code",
   "execution_count": 20,
   "id": "d386c370",
   "metadata": {},
   "outputs": [],
   "source": [
    "val_IDs = pd.read_csv('val_IDs.csv')"
   ]
  },
  {
   "cell_type": "markdown",
   "id": "991c4588",
   "metadata": {},
   "source": [
    "### 1.5 Separate into X and Y"
   ]
  },
  {
   "cell_type": "code",
   "execution_count": 21,
   "id": "374e94ed",
   "metadata": {},
   "outputs": [],
   "source": [
    "# 'X' datasets\n",
    "train_x = train.drop(columns = ['death_status', 'timerisk_activity']) #80% of data \n",
    "\n",
    "test_x = test.drop(columns = ['death_status', 'timerisk_activity']) #20% of data \n",
    "\n",
    "sub_train_x = sub_train.drop(columns = ['death_status', 'timerisk_activity']) #60% of data\n",
    "\n",
    "val_x = val.drop(columns = ['death_status', 'timerisk_activity']) #20% of data "
   ]
  },
  {
   "cell_type": "code",
   "execution_count": 22,
   "id": "53405cc6",
   "metadata": {},
   "outputs": [],
   "source": [
    "# 'Y' datasets\n",
    "# Death status and time until event needs to be stored as a structured array to be compatible with scikit-survival\n",
    "y_dtypes = train[['death_status', 'timerisk_activity']].dtypes\n",
    "\n",
    "train_y = np.array([tuple(x) for x in train[['death_status', 'timerisk_activity']].values], \n",
    "                   dtype = list(zip(y_dtypes.index, y_dtypes)))\n",
    "\n",
    "test_y = np.array([tuple(x) for x in test[['death_status', 'timerisk_activity']].values], \n",
    "                  dtype = list(zip(y_dtypes.index, y_dtypes)))\n",
    "\n",
    "sub_train_y = np.array([tuple(x) for x in sub_train[['death_status', 'timerisk_activity']].values],\n",
    "                       dtype = list(zip(y_dtypes.index, y_dtypes)))\n",
    "\n",
    "val_y = np.array([tuple(x) for x in val[['death_status', 'timerisk_activity']].values],\n",
    "                 dtype = list(zip(y_dtypes.index, y_dtypes)))"
   ]
  },
  {
   "cell_type": "markdown",
   "id": "dbfeac11",
   "metadata": {},
   "source": [
    "### 1.6 Build pipeline"
   ]
  },
  {
   "cell_type": "code",
   "execution_count": 23,
   "id": "fcae47e8",
   "metadata": {},
   "outputs": [
    {
     "data": {
      "text/plain": [
       "['age',\n",
       " 'PSADiagnosis',\n",
       " 'PSAMetDiagnosis',\n",
       " 'delta_met_diagnosis',\n",
       " 'crpc',\n",
       " 'crpc_time',\n",
       " 'psa_diag_na',\n",
       " 'psa_met_na',\n",
       " 'steroid_diag',\n",
       " 'opioid_PO_diag',\n",
       " 'nonopioid_PO_diag',\n",
       " 'pain_IV_diag',\n",
       " 'ac_diag',\n",
       " 'antiinfective_IV_diag',\n",
       " 'antiinfective_diag',\n",
       " 'antihyperglycemic_diag',\n",
       " 'ppi_diag',\n",
       " 'antidepressant_diag',\n",
       " 'bta_diag',\n",
       " 'thyroid_diag',\n",
       " 'weight_diag',\n",
       " 'bmi_diag',\n",
       " 'bmi_diag_na',\n",
       " 'weight_pct_change',\n",
       " 'weight_pct_na',\n",
       " 'weight_slope',\n",
       " 'albumin_diag',\n",
       " 'alp_diag',\n",
       " 'alt_diag',\n",
       " 'ast_diag',\n",
       " 'bicarb_diag',\n",
       " 'bun_diag',\n",
       " 'calcium_diag',\n",
       " 'chloride_diag',\n",
       " 'creatinine_diag',\n",
       " 'hemoglobin_diag',\n",
       " 'neutrophil_count_diag',\n",
       " 'platelet_diag',\n",
       " 'potassium_diag',\n",
       " 'sodium_diag',\n",
       " 'total_bilirubin_diag',\n",
       " 'wbc_diag',\n",
       " 'albumin_diag_na',\n",
       " 'alp_diag_na',\n",
       " 'alt_diag_na',\n",
       " 'ast_diag_na',\n",
       " 'bicarb_diag_na',\n",
       " 'bun_diag_na',\n",
       " 'calcium_diag_na',\n",
       " 'chloride_diag_na',\n",
       " 'creatinine_diag_na',\n",
       " 'hemoglobin_diag_na',\n",
       " 'neutrophil_count_diag_na',\n",
       " 'platelet_diag_na',\n",
       " 'potassium_diag_na',\n",
       " 'sodium_diag_na',\n",
       " 'total_bilirubin_diag_na',\n",
       " 'wbc_diag_na',\n",
       " 'albumin_avg',\n",
       " 'alp_avg',\n",
       " 'alt_avg',\n",
       " 'ast_avg',\n",
       " 'bicarb_avg',\n",
       " 'bun_avg',\n",
       " 'calcium_avg',\n",
       " 'chloride_avg',\n",
       " 'creatinine_avg',\n",
       " 'hemoglobin_avg',\n",
       " 'neutrophil_count_avg',\n",
       " 'platelet_avg',\n",
       " 'potassium_avg',\n",
       " 'psa_avg',\n",
       " 'sodium_avg',\n",
       " 'total_bilirubin_avg',\n",
       " 'wbc_avg',\n",
       " 'albumin_max',\n",
       " 'alp_max',\n",
       " 'alt_max',\n",
       " 'ast_max',\n",
       " 'bicarb_max',\n",
       " 'bun_max',\n",
       " 'calcium_max',\n",
       " 'chloride_max',\n",
       " 'creatinine_max',\n",
       " 'hemoglobin_max',\n",
       " 'neutrophil_count_max',\n",
       " 'platelet_max',\n",
       " 'potassium_max',\n",
       " 'psa_max',\n",
       " 'sodium_max',\n",
       " 'total_bilirubin_max',\n",
       " 'wbc_max',\n",
       " 'albumin_min',\n",
       " 'alp_min',\n",
       " 'alt_min',\n",
       " 'ast_min',\n",
       " 'bicarb_min',\n",
       " 'bun_min',\n",
       " 'calcium_min',\n",
       " 'chloride_min',\n",
       " 'creatinine_min',\n",
       " 'hemoglobin_min',\n",
       " 'neutrophil_count_min',\n",
       " 'platelet_min',\n",
       " 'potassium_min',\n",
       " 'psa_min',\n",
       " 'sodium_min',\n",
       " 'total_bilirubin_min',\n",
       " 'wbc_min',\n",
       " 'albumin_std',\n",
       " 'alp_std',\n",
       " 'alt_std',\n",
       " 'ast_std',\n",
       " 'bicarb_std',\n",
       " 'bun_std',\n",
       " 'calcium_std',\n",
       " 'chloride_std',\n",
       " 'creatinine_std',\n",
       " 'hemoglobin_std',\n",
       " 'neutrophil_count_std',\n",
       " 'platelet_std',\n",
       " 'potassium_std',\n",
       " 'psa_std',\n",
       " 'sodium_std',\n",
       " 'total_bilirubin_std',\n",
       " 'wbc_std',\n",
       " 'albumin_slope',\n",
       " 'alp_slope',\n",
       " 'alt_slope',\n",
       " 'ast_slope',\n",
       " 'bicarb_slope',\n",
       " 'bun_slope',\n",
       " 'calcium_slope',\n",
       " 'chloride_slope',\n",
       " 'creatinine_slope',\n",
       " 'hemoglobin_slope',\n",
       " 'neutrophil_count_slope',\n",
       " 'platelet_slope',\n",
       " 'potassium_slope',\n",
       " 'psa_slope',\n",
       " 'sodium_slope',\n",
       " 'total_bilirubin_slope',\n",
       " 'wbc_slope',\n",
       " 'albumin_slope_na',\n",
       " 'alp_slope_na',\n",
       " 'alt_slope_na',\n",
       " 'ast_slope_na',\n",
       " 'bicarb_slope_na',\n",
       " 'bun_slope_na',\n",
       " 'calcium_slope_na',\n",
       " 'chloride_slope_na',\n",
       " 'creatinine_slope_na',\n",
       " 'hemoglobin_slope_na',\n",
       " 'neutrophil_count_slope_na',\n",
       " 'platelet_slope_na',\n",
       " 'potassium_slope_na',\n",
       " 'psa_slope_na',\n",
       " 'sodium_slope_na',\n",
       " 'total_bilirubin_slope_na',\n",
       " 'wbc_slope_na',\n",
       " 'chf',\n",
       " 'cardiac_arrhythmias',\n",
       " 'valvular_disease',\n",
       " 'pulmonary_circulation',\n",
       " 'peripheral_vascular',\n",
       " 'htn_uncomplicated',\n",
       " 'htn_complicated',\n",
       " 'paralysis',\n",
       " 'other_neuro_disorders',\n",
       " 'chronic_pulmonary',\n",
       " 'diabetes_uncomplicated',\n",
       " 'diabetes_complicated',\n",
       " 'hypothyroidism',\n",
       " 'renal_failure',\n",
       " 'liver_disease',\n",
       " 'peptic_ulcer_disease',\n",
       " 'aids_hiv',\n",
       " 'lymphoma',\n",
       " 'metastatic_cancer',\n",
       " 'solid_tumor_wout_mets',\n",
       " 'rheumatoid_arthritis',\n",
       " 'coagulopathy',\n",
       " 'obesity',\n",
       " 'weight_loss',\n",
       " 'fluid_electrolyte',\n",
       " 'blood_loss_anemia',\n",
       " 'deficiency_anemia',\n",
       " 'alcohol_abuse',\n",
       " 'drug_abuse',\n",
       " 'psychoses',\n",
       " 'depression',\n",
       " 'elixhauser_other',\n",
       " 'icd_count',\n",
       " 'other_cancer',\n",
       " 'thorax_met',\n",
       " 'peritoneum_met',\n",
       " 'liver_met',\n",
       " 'other_gi_met',\n",
       " 'cns_met',\n",
       " 'bone_met',\n",
       " 'lymph_met',\n",
       " 'kidney_bladder_met',\n",
       " 'other_met',\n",
       " 'early_adt']"
      ]
     },
     "execution_count": 23,
     "metadata": {},
     "output_type": "execute_result"
    }
   ],
   "source": [
    "list(train_x.select_dtypes(exclude = ['category']).columns)"
   ]
  },
  {
   "cell_type": "code",
   "execution_count": 24,
   "id": "880c79bd",
   "metadata": {},
   "outputs": [],
   "source": [
    "# List of numeric variables, excluding binary variables. \n",
    "numerical_features = [\n",
    "    'age',\n",
    "    'PSADiagnosis',\n",
    "    'PSAMetDiagnosis',\n",
    "    'delta_met_diagnosis',\n",
    "    'crpc_time',\n",
    "    'weight_diag',\n",
    "    'bmi_diag',\n",
    "    'weight_pct_change',\n",
    "    'weight_slope',\n",
    "    'albumin_diag',\n",
    "    'alp_diag',\n",
    "    'alt_diag',\n",
    "    'ast_diag',\n",
    "    'bicarb_diag',\n",
    "    'bun_diag',\n",
    "    'calcium_diag',\n",
    "    'chloride_diag',\n",
    "    'creatinine_diag',\n",
    "    'hemoglobin_diag',\n",
    "    'neutrophil_count_diag',\n",
    "    'platelet_diag',\n",
    "    'potassium_diag',\n",
    "    'sodium_diag',\n",
    "    'total_bilirubin_diag',\n",
    "    'wbc_diag', \n",
    "    'albumin_avg',\n",
    "    'alp_avg',\n",
    "    'alt_avg',\n",
    "    'ast_avg',\n",
    "    'bicarb_avg',\n",
    "    'bun_avg',\n",
    "    'calcium_avg',\n",
    "    'chloride_avg',\n",
    "    'creatinine_avg',\n",
    "    'hemoglobin_avg',\n",
    "    'neutrophil_count_avg',\n",
    "    'platelet_avg',\n",
    "    'potassium_avg',\n",
    "    'psa_avg',\n",
    "    'sodium_avg',\n",
    "    'total_bilirubin_avg',\n",
    "    'wbc_avg',\n",
    "    'albumin_max',\n",
    "    'alp_max',\n",
    "    'alt_max',\n",
    "    'ast_max',\n",
    "    'bicarb_max',\n",
    "    'bun_max',\n",
    "    'calcium_max',\n",
    "    'chloride_max',\n",
    "    'creatinine_max',\n",
    "    'hemoglobin_max',\n",
    "    'neutrophil_count_max',\n",
    "    'platelet_max',\n",
    "    'potassium_max',\n",
    "    'psa_max',\n",
    "    'sodium_max',\n",
    "    'total_bilirubin_max',\n",
    "    'wbc_max',\n",
    "    'albumin_min',\n",
    "    'alp_min',\n",
    "    'alt_min',\n",
    "    'ast_min',\n",
    "    'bicarb_min',\n",
    "    'bun_min',\n",
    "    'calcium_min',\n",
    "    'chloride_min',\n",
    "    'creatinine_min',\n",
    "    'hemoglobin_min',\n",
    "    'neutrophil_count_min',\n",
    "    'platelet_min',\n",
    "    'potassium_min',\n",
    "    'psa_min',\n",
    "    'sodium_min',\n",
    "    'total_bilirubin_min',\n",
    "    'wbc_min',\n",
    "    'albumin_std',\n",
    "    'alp_std',\n",
    "    'alt_std',\n",
    "    'ast_std',\n",
    "    'bicarb_std',\n",
    "    'bun_std',\n",
    "    'calcium_std',\n",
    "    'chloride_std',\n",
    "    'creatinine_std',\n",
    "    'hemoglobin_std',\n",
    "    'neutrophil_count_std',\n",
    "    'platelet_std',\n",
    "    'potassium_std',\n",
    "    'psa_std',\n",
    "    'sodium_std',\n",
    "    'total_bilirubin_std',\n",
    "    'wbc_std',\n",
    "    'albumin_slope',\n",
    "    'alp_slope',\n",
    "    'alt_slope',\n",
    "    'ast_slope',\n",
    "    'bicarb_slope',\n",
    "    'bun_slope',\n",
    "    'calcium_slope',\n",
    "    'chloride_slope',\n",
    "    'creatinine_slope',\n",
    "    'hemoglobin_slope',\n",
    "    'neutrophil_count_slope',\n",
    "    'platelet_slope',\n",
    "    'potassium_slope',\n",
    "    'psa_slope',\n",
    "    'sodium_slope',\n",
    "    'total_bilirubin_slope',\n",
    "    'wbc_slope',\n",
    "    'icd_count']\n",
    "\n",
    "# Transformer will first calculate column median and impute, and then apply a standard scaler. \n",
    "numerical_transformer = Pipeline(steps = [\n",
    "    ('imputer', SimpleImputer(strategy = 'median')),\n",
    "    ('std_scaler', StandardScaler())])"
   ]
  },
  {
   "cell_type": "code",
   "execution_count": 25,
   "id": "e448b3e4",
   "metadata": {},
   "outputs": [
    {
     "data": {
      "text/plain": [
       "['Gender',\n",
       " 'p_type',\n",
       " 'NStage',\n",
       " 'MStage',\n",
       " 'Histology',\n",
       " 'GleasonScore',\n",
       " 'stage',\n",
       " 'met_year',\n",
       " 'brca_status',\n",
       " 'ecog_diagnosis',\n",
       " 'prim_treatment']"
      ]
     },
     "execution_count": 25,
     "metadata": {},
     "output_type": "execute_result"
    }
   ],
   "source": [
    "list(train_x.select_dtypes(include = ['category']).columns)"
   ]
  },
  {
   "cell_type": "code",
   "execution_count": 26,
   "id": "e88bb35a",
   "metadata": {},
   "outputs": [],
   "source": [
    "# List of categorical features.\n",
    "categorical_features = list(train_x.select_dtypes(include = ['category']).columns)\n",
    "\n",
    "# One-hot-encode categorical features.\n",
    "categorical_transformer = OneHotEncoder(handle_unknown = 'ignore')"
   ]
  },
  {
   "cell_type": "code",
   "execution_count": 27,
   "id": "65fd3806",
   "metadata": {},
   "outputs": [
    {
     "data": {
      "text/plain": [
       "93"
      ]
     },
     "execution_count": 27,
     "metadata": {},
     "output_type": "execute_result"
    }
   ],
   "source": [
    "# Remaining unprocessed columns which are binary variables\n",
    "len(train_x.columns) - (len(numerical_features) + len(categorical_features))"
   ]
  },
  {
   "cell_type": "code",
   "execution_count": 28,
   "id": "d63127b3",
   "metadata": {},
   "outputs": [],
   "source": [
    "all_columns = list(train_x.columns)"
   ]
  },
  {
   "cell_type": "code",
   "execution_count": 29,
   "id": "e70fd6c7",
   "metadata": {},
   "outputs": [
    {
     "data": {
      "text/plain": [
       "93"
      ]
     },
     "execution_count": 29,
     "metadata": {},
     "output_type": "execute_result"
    }
   ],
   "source": [
    "# Prints number of columns after removing columns that are numerical or categorical. \n",
    "for i in list(numerical_features + categorical_features):\n",
    "    all_columns.remove(i)\n",
    "len(all_columns)"
   ]
  },
  {
   "cell_type": "code",
   "execution_count": 30,
   "id": "228ce806",
   "metadata": {},
   "outputs": [],
   "source": [
    "preprocessor = ColumnTransformer(\n",
    "    transformers = [\n",
    "        ('num', numerical_transformer, numerical_features),\n",
    "        ('cat', categorical_transformer, categorical_features)],\n",
    "    remainder = 'passthrough')"
   ]
  },
  {
   "cell_type": "markdown",
   "id": "fb16d829",
   "metadata": {},
   "source": [
    "## 2. Gradient boosting survival model"
   ]
  },
  {
   "cell_type": "code",
   "execution_count": 31,
   "id": "151576b7",
   "metadata": {},
   "outputs": [],
   "source": [
    "from sklearn.experimental import enable_halving_search_cv\n",
    "from sklearn.model_selection import StratifiedKFold, HalvingGridSearchCV\n",
    "from sklearn.pipeline import make_pipeline\n",
    "\n",
    "from sksurv.ensemble import GradientBoostingSurvivalAnalysis\n",
    "from sksurv.metrics import cumulative_dynamic_auc, as_cumulative_dynamic_auc_scorer\n",
    "\n",
    "from joblib import dump, load \n",
    "\n",
    "import matplotlib.pyplot as plt\n",
    "\n",
    "import warnings "
   ]
  },
  {
   "cell_type": "markdown",
   "id": "b84fe09a",
   "metadata": {},
   "source": [
    "**The gradient boosting survival model will be configured by setting a low learning rate (eg., <= 0.1) and choosing the number of trees by monitoring the 3 year AUC on the valdiation dataset and stopping once performance on the validation dataset begins to degrade. The learning rate will be tuned to achieve a target tree size >500. Once learning rate and tree number are set, a halving grid search with 3-fold cross validation will be performed to identify ideal max depth and subsample percentage.**  "
   ]
  },
  {
   "cell_type": "markdown",
   "id": "aab57026",
   "metadata": {},
   "source": [
    "### 2.1 Determining number of trees for full model "
   ]
  },
  {
   "cell_type": "markdown",
   "id": "9e312db0",
   "metadata": {},
   "source": [
    "**The full model includes all variables, notably about 100 summary labs values which have significant missingness (>40%).**"
   ]
  },
  {
   "cell_type": "code",
   "execution_count": 32,
   "id": "e0f66ebe",
   "metadata": {},
   "outputs": [
    {
     "name": "stdout",
     "output_type": "stream",
     "text": [
      "      Iter       Train Loss      OOB Improve   Remaining Time \n",
      "         1       36052.3243           6.7078           39.70m\n",
      "         2       36042.2369           7.0135           39.47m\n",
      "         3       36023.5165           6.3039           39.39m\n",
      "         4       35780.7650           6.8189           39.28m\n",
      "         5       35827.5751           6.5231           39.22m\n",
      "         6       35825.0863           5.6365           39.13m\n",
      "         7       35901.5510           5.6746           39.08m\n",
      "         8       35702.4604           5.1060           39.03m\n",
      "         9       35629.3775           5.1106           38.98m\n",
      "        10       35492.4935           5.3778           38.94m\n",
      "        20       35738.7951           3.6828           38.63m\n",
      "        30       35461.2723           2.6951           38.34m\n",
      "        40       35504.6960           1.9365           38.06m\n",
      "        50       35183.7481           2.0966           37.80m\n",
      "        60       35432.2559           1.2272           37.53m\n",
      "        70       34954.1929           1.0892           37.27m\n",
      "        80       35141.9631           0.9017           37.01m\n",
      "        90       35268.7128           0.7590           36.75m\n",
      "       100       35085.9726           0.3616           36.48m\n",
      "       200       34725.0602          -0.0765           33.90m\n",
      "       300       34978.7550          -0.0421           31.30m\n",
      "       400       34612.4566          -0.2325           28.70m\n",
      "       500       34411.4358          -0.0380           26.09m\n",
      "       600       34633.6540          -0.2010           23.49m\n",
      "       700       34466.7339          -0.1174           20.88m\n",
      "       800       34351.1123          -0.2175           18.27m\n",
      "       900       34112.9863          -0.1861           15.66m\n",
      "      1000       33889.4489          -0.3004           13.05m\n"
     ]
    },
    {
     "data": {
      "text/plain": [
       "GradientBoostingSurvivalAnalysis(learning_rate=0.05, n_estimators=1500,\n",
       "                                 random_state=42, subsample=0.75, verbose=1)"
      ]
     },
     "execution_count": 32,
     "metadata": {},
     "output_type": "execute_result"
    }
   ],
   "source": [
    "sub_train_xt = preprocessor.fit_transform(sub_train_x)\n",
    "val_xt = preprocessor.transform(val_x)\n",
    "\n",
    "gbm_exp = GradientBoostingSurvivalAnalysis(n_estimators = 1500,\n",
    "                                           learning_rate = 0.05,\n",
    "                                           max_depth = 3,\n",
    "                                           subsample = 0.75,\n",
    "                                           verbose = 1,\n",
    "                                           random_state = 42)\n",
    "\n",
    "gbm_exp.fit(sub_train_xt, sub_train_y)"
   ]
  },
  {
   "cell_type": "code",
   "execution_count": 33,
   "id": "0aaddcac",
   "metadata": {},
   "outputs": [],
   "source": [
    "gbm_staged_auc = [cumulative_dynamic_auc(sub_train_y, val_y, risk_score, 730)[0][0] \n",
    "                  for risk_score in gbm_exp.staged_predict(val_xt)]"
   ]
  },
  {
   "cell_type": "code",
   "execution_count": 34,
   "id": "7099d3c6",
   "metadata": {},
   "outputs": [],
   "source": [
    "gbm_staged_auc_tr = [cumulative_dynamic_auc(sub_train_y, sub_train_y, risk_score, 730)[0][0] \n",
    "                     for risk_score in gbm_exp.staged_predict(sub_train_xt)]"
   ]
  },
  {
   "cell_type": "code",
   "execution_count": 35,
   "id": "02109136",
   "metadata": {},
   "outputs": [
    {
     "data": {
      "image/png": "[encoded data removed]",
      "text/plain": [
       "<Figure size 640x480 with 1 Axes>"
      ]
     },
     "metadata": {},
     "output_type": "display_data"
    }
   ],
   "source": [
    "fig = plt.figure()\n",
    "ax = fig.add_subplot(1, 1, 1)\n",
    "\n",
    "x = range(len(gbm_staged_auc))\n",
    "plt.plot(x, gbm_staged_auc, color = 'blue', label = 'validation')\n",
    "plt.plot(x, gbm_staged_auc_tr, color = 'red', label = 'training')\n",
    "plt.legend(loc = 'lower right')\n",
    "\n",
    "plt.xlabel(\"n_estimators\")\n",
    "plt.ylabel(\"AUC at 2-years\")\n",
    "plt.title('Full gradient boosting model learning curve with learning rate of 0.05')\n",
    "\n",
    "plt.show()"
   ]
  },
  {
   "cell_type": "code",
   "execution_count": 36,
   "id": "2c390167",
   "metadata": {},
   "outputs": [],
   "source": [
    "# Average AUC for every 25 additional trees. \n",
    "mean_auc_list = []\n",
    "for x in np.arange(0, len(gbm_staged_auc), 25):\n",
    "    mean_auc_list.append(np.mean(gbm_staged_auc[x:x+24]))"
   ]
  },
  {
   "cell_type": "code",
   "execution_count": 37,
   "id": "591f8bec",
   "metadata": {},
   "outputs": [
    {
     "name": "stdout",
     "output_type": "stream",
     "text": [
      "Number of trees where 2 year AUC on validation dataset beings to downgrade: 975\n",
      "Validation dataset AUC before degrading: 0.7680110622348705\n",
      "Training dataset AUC before degrading: 0.802830430935914\n"
     ]
    }
   ],
   "source": [
    "print('Number of trees where 2 year AUC on validation dataset beings to downgrade:', np.where(np.diff(mean_auc_list) < 0)[0][0]*25)\n",
    "print('Validation dataset AUC before degrading:', gbm_staged_auc[np.where(np.diff(mean_auc_list) < 0)[0][0]*25])\n",
    "print('Training dataset AUC before degrading:', gbm_staged_auc_tr[np.where(np.diff(mean_auc_list) < 0)[0][0]*25])"
   ]
  },
  {
   "cell_type": "markdown",
   "id": "8af66f5f",
   "metadata": {},
   "source": [
    "### 2.2 Determining number of trees for sparse model "
   ]
  },
  {
   "cell_type": "markdown",
   "id": "f52f3aa5",
   "metadata": {},
   "source": [
    "**The sparse model includes a subset of the summary lab values that are considered clinically relevant. Performance will be compared to the full model.**"
   ]
  },
  {
   "cell_type": "code",
   "execution_count": 38,
   "id": "02ee8e8c",
   "metadata": {},
   "outputs": [],
   "source": [
    "all_labs = [\n",
    "    'PSADiagnosis',\n",
    "    'PSAMetDiagnosis',\n",
    "    'psa_diag_na',\n",
    "    'psa_met_na',\n",
    "    'albumin_diag',\n",
    "    'alp_diag',\n",
    "    'alt_diag',\n",
    "    'ast_diag',\n",
    "    'bicarb_diag',\n",
    "    'bun_diag',\n",
    "    'calcium_diag',\n",
    "    'chloride_diag',\n",
    "    'creatinine_diag',\n",
    "    'hemoglobin_diag',\n",
    "    'neutrophil_count_diag',\n",
    "    'platelet_diag',\n",
    "    'potassium_diag',\n",
    "    'sodium_diag',\n",
    "    'total_bilirubin_diag',\n",
    "    'wbc_diag',\n",
    "    'albumin_diag_na',\n",
    "    'alp_diag_na',\n",
    "    'alt_diag_na',\n",
    "    'ast_diag_na',\n",
    "    'bicarb_diag_na',\n",
    "    'bun_diag_na',\n",
    "    'calcium_diag_na',\n",
    "    'chloride_diag_na',\n",
    "    'creatinine_diag_na',\n",
    "    'hemoglobin_diag_na',\n",
    "    'neutrophil_count_diag_na',\n",
    "    'platelet_diag_na',\n",
    "    'potassium_diag_na',\n",
    "    'sodium_diag_na',\n",
    "    'total_bilirubin_diag_na',\n",
    "    'wbc_diag_na',\n",
    "    'albumin_avg',\n",
    "    'alp_avg',\n",
    "    'alt_avg',\n",
    "    'ast_avg',\n",
    "    'bicarb_avg',\n",
    "    'bun_avg',\n",
    "    'calcium_avg',\n",
    "    'chloride_avg',\n",
    "    'creatinine_avg',\n",
    "    'hemoglobin_avg',\n",
    "    'neutrophil_count_avg',\n",
    "    'platelet_avg',\n",
    "    'potassium_avg',\n",
    "    'psa_avg',\n",
    "    'sodium_avg',\n",
    "    'total_bilirubin_avg',\n",
    "    'wbc_avg',\n",
    "    'albumin_max',\n",
    "    'alp_max',\n",
    "    'alt_max',\n",
    "    'ast_max',\n",
    "    'bicarb_max',\n",
    "    'bun_max',\n",
    "    'calcium_max',\n",
    "    'chloride_max',\n",
    "    'creatinine_max',\n",
    "    'hemoglobin_max',\n",
    "    'neutrophil_count_max',\n",
    "    'platelet_max',\n",
    "    'potassium_max',\n",
    "    'psa_max',\n",
    "    'sodium_max',\n",
    "    'total_bilirubin_max',\n",
    "    'wbc_max',\n",
    "    'albumin_min',\n",
    "    'alp_min',\n",
    "    'alt_min',\n",
    "    'ast_min',\n",
    "    'bicarb_min',\n",
    "    'bun_min',\n",
    "    'calcium_min',\n",
    "    'chloride_min',\n",
    "    'creatinine_min',\n",
    "    'hemoglobin_min',\n",
    "    'neutrophil_count_min',\n",
    "    'platelet_min',\n",
    "    'potassium_min',\n",
    "    'psa_min',\n",
    "    'sodium_min',\n",
    "    'total_bilirubin_min',\n",
    "    'wbc_min',\n",
    "    'albumin_std',\n",
    "    'alp_std',\n",
    "    'alt_std',\n",
    "    'ast_std',\n",
    "    'bicarb_std',\n",
    "    'bun_std',\n",
    "    'calcium_std',\n",
    "    'chloride_std',\n",
    "    'creatinine_std',\n",
    "    'hemoglobin_std',\n",
    "    'neutrophil_count_std',\n",
    "    'platelet_std',\n",
    "    'potassium_std',\n",
    "    'psa_std',\n",
    "    'sodium_std',\n",
    "    'total_bilirubin_std',\n",
    "    'wbc_std',\n",
    "    'albumin_slope',\n",
    "    'alp_slope',\n",
    "    'alt_slope',\n",
    "    'ast_slope',\n",
    "    'bicarb_slope',\n",
    "    'bun_slope',\n",
    "    'calcium_slope',\n",
    "    'chloride_slope',\n",
    "    'creatinine_slope',\n",
    "    'hemoglobin_slope',\n",
    "    'neutrophil_count_slope',\n",
    "    'platelet_slope',\n",
    "    'potassium_slope',\n",
    "    'psa_slope',\n",
    "    'sodium_slope',\n",
    "    'total_bilirubin_slope',\n",
    "    'wbc_slope',\n",
    "    'albumin_slope_na',\n",
    "    'alp_slope_na',\n",
    "    'alt_slope_na',\n",
    "    'ast_slope_na',\n",
    "    'bicarb_slope_na',\n",
    "    'bun_slope_na',\n",
    "    'calcium_slope_na',\n",
    "    'chloride_slope_na',\n",
    "    'creatinine_slope_na',\n",
    "    'hemoglobin_slope_na',\n",
    "    'neutrophil_count_slope_na',\n",
    "    'platelet_slope_na',\n",
    "    'potassium_slope_na',\n",
    "    'psa_slope_na',\n",
    "    'sodium_slope_na',\n",
    "    'total_bilirubin_slope_na',\n",
    "    'wbc_slope_na']"
   ]
  },
  {
   "cell_type": "code",
   "execution_count": 39,
   "id": "cec980fe",
   "metadata": {},
   "outputs": [],
   "source": [
    "keep_labs = [\n",
    "    'PSADiagnosis',\n",
    "    'PSAMetDiagnosis',\n",
    "    'psa_diag_na',\n",
    "    'psa_met_na',\n",
    "    'albumin_diag',\n",
    "    'alp_diag',\n",
    "    'alt_diag',\n",
    "    'ast_diag',\n",
    "    'bicarb_diag',\n",
    "    'bun_diag',\n",
    "    'calcium_diag',\n",
    "    'chloride_diag',\n",
    "    'creatinine_diag',\n",
    "    'hemoglobin_diag',\n",
    "    'neutrophil_count_diag',\n",
    "    'platelet_diag',\n",
    "    'potassium_diag',\n",
    "    'sodium_diag',\n",
    "    'total_bilirubin_diag',\n",
    "    'wbc_diag',\n",
    "    'albumin_diag_na',\n",
    "    'alp_diag_na',\n",
    "    'alt_diag_na',\n",
    "    'ast_diag_na',\n",
    "    'bicarb_diag_na',\n",
    "    'bun_diag_na',\n",
    "    'calcium_diag_na',\n",
    "    'chloride_diag_na',\n",
    "    'creatinine_diag_na',\n",
    "    'hemoglobin_diag_na',\n",
    "    'neutrophil_count_diag_na',\n",
    "    'platelet_diag_na',\n",
    "    'potassium_diag_na',\n",
    "    'sodium_diag_na',\n",
    "    'total_bilirubin_diag_na',\n",
    "    'wbc_diag_na',\n",
    "    'alp_max',\n",
    "    'alt_max',\n",
    "    'ast_max',\n",
    "    'calcium_max',\n",
    "    'creatinine_max',\n",
    "    'psa_max',\n",
    "    'total_bilirubin_max',\n",
    "    'wbc_max',\n",
    "    'albumin_min',\n",
    "    'bicarb_min',\n",
    "    'hemoglobin_min',\n",
    "    'platelet_min',\n",
    "    'sodium_min',\n",
    "    'wbc_min',\n",
    "    'psa_slope',\n",
    "    'psa_slope_na']"
   ]
  },
  {
   "cell_type": "code",
   "execution_count": 40,
   "id": "df610cd5",
   "metadata": {},
   "outputs": [],
   "source": [
    "drop_labs = [\n",
    "    'albumin_avg',\n",
    "    'alp_avg',\n",
    "    'alt_avg',\n",
    "    'ast_avg',\n",
    "    'bicarb_avg',\n",
    "    'bun_avg',\n",
    "    'calcium_avg',\n",
    "    'chloride_avg',\n",
    "    'creatinine_avg',\n",
    "    'hemoglobin_avg',\n",
    "    'neutrophil_count_avg',\n",
    "    'platelet_avg',\n",
    "    'potassium_avg',\n",
    "    'psa_avg',\n",
    "    'sodium_avg',\n",
    "    'total_bilirubin_avg',\n",
    "    'wbc_avg',\n",
    "    'albumin_max',\n",
    "    'bicarb_max',\n",
    "    'bun_max',\n",
    "    'chloride_max',\n",
    "    'hemoglobin_max',\n",
    "    'neutrophil_count_max',\n",
    "    'platelet_max',\n",
    "    'potassium_max',\n",
    "    'sodium_max',\n",
    "    'alp_min',\n",
    "    'alt_min',\n",
    "    'ast_min',\n",
    "    'bun_min',\n",
    "    'calcium_min',\n",
    "    'chloride_min',\n",
    "    'creatinine_min',\n",
    "    'neutrophil_count_min',\n",
    "    'potassium_min',\n",
    "    'psa_min',\n",
    "    'total_bilirubin_min',\n",
    "    'albumin_std',\n",
    "    'alp_std',\n",
    "    'alt_std',\n",
    "    'ast_std',\n",
    "    'bicarb_std',\n",
    "    'bun_std',\n",
    "    'calcium_std',\n",
    "    'chloride_std',\n",
    "    'creatinine_std',\n",
    "    'hemoglobin_std',\n",
    "    'neutrophil_count_std',\n",
    "    'platelet_std',\n",
    "    'potassium_std',\n",
    "    'psa_std',\n",
    "    'sodium_std',\n",
    "    'total_bilirubin_std',\n",
    "    'wbc_std',\n",
    "    'albumin_slope',\n",
    "    'alp_slope',\n",
    "    'alt_slope',\n",
    "    'ast_slope',\n",
    "    'bicarb_slope',\n",
    "    'bun_slope',\n",
    "    'calcium_slope',\n",
    "    'chloride_slope',\n",
    "    'creatinine_slope',\n",
    "    'hemoglobin_slope',\n",
    "    'neutrophil_count_slope',\n",
    "    'platelet_slope',\n",
    "    'potassium_slope',\n",
    "    'sodium_slope',\n",
    "    'total_bilirubin_slope',\n",
    "    'wbc_slope',\n",
    "    'albumin_slope_na',\n",
    "    'alp_slope_na',\n",
    "    'alt_slope_na',\n",
    "    'ast_slope_na',\n",
    "    'bicarb_slope_na',\n",
    "    'bun_slope_na',\n",
    "    'calcium_slope_na',\n",
    "    'chloride_slope_na',\n",
    "    'creatinine_slope_na',\n",
    "    'hemoglobin_slope_na',\n",
    "    'neutrophil_count_slope_na',\n",
    "    'platelet_slope_na',\n",
    "    'potassium_slope_na',\n",
    "    'sodium_slope_na',\n",
    "    'total_bilirubin_slope_na',\n",
    "    'wbc_slope_na']"
   ]
  },
  {
   "cell_type": "code",
   "execution_count": 41,
   "id": "f424d70b",
   "metadata": {},
   "outputs": [
    {
     "data": {
      "text/plain": [
       "True"
      ]
     },
     "execution_count": 41,
     "metadata": {},
     "output_type": "execute_result"
    }
   ],
   "source": [
    "len(keep_labs) + len(drop_labs) == len(all_labs)"
   ]
  },
  {
   "cell_type": "code",
   "execution_count": 42,
   "id": "e89c5f22",
   "metadata": {},
   "outputs": [],
   "source": [
    "sub_train_x_red = sub_train_x.drop(columns = drop_labs)\n",
    "val_x_red = val_x.drop(columns = drop_labs)"
   ]
  },
  {
   "cell_type": "code",
   "execution_count": 43,
   "id": "1763d0d1",
   "metadata": {},
   "outputs": [
    {
     "name": "stdout",
     "output_type": "stream",
     "text": [
      "(11355, 215)\n",
      "(11355, 129)\n",
      "(3786, 215)\n",
      "(3786, 129)\n"
     ]
    }
   ],
   "source": [
    "print(sub_train_x.shape)\n",
    "print(sub_train_x_red.shape)\n",
    "print(val_x.shape)\n",
    "print(val_x_red.shape)"
   ]
  },
  {
   "cell_type": "code",
   "execution_count": 44,
   "id": "770f93fd",
   "metadata": {},
   "outputs": [],
   "source": [
    "sub_train_x_red.loc[:, 'alp_max_na'] = np.where(sub_train_x_red['alp_max'].isna(), 1, 0)\n",
    "sub_train_x_red.loc[:, 'alt_max_na'] = np.where(sub_train_x_red['alt_max'].isna(), 1, 0)\n",
    "sub_train_x_red.loc[:, 'ast_max_na'] = np.where(sub_train_x_red['ast_max'].isna(), 1, 0)\n",
    "sub_train_x_red.loc[:, 'calcium_max_na'] = np.where(sub_train_x_red['calcium_max'].isna(), 1, 0)\n",
    "sub_train_x_red.loc[:, 'creatinine_max_na'] = np.where(sub_train_x_red['creatinine_max'].isna(), 1, 0)\n",
    "sub_train_x_red.loc[:, 'psa_max_na'] = np.where(sub_train_x_red['psa_max'].isna(), 1, 0)\n",
    "sub_train_x_red.loc[:, 'total_bilirubin_max_na'] = np.where(sub_train_x_red['total_bilirubin_max'].isna(), 1, 0)\n",
    "sub_train_x_red.loc[:, 'wbc_max_na'] = np.where(sub_train_x_red['wbc_max'].isna(), 1, 0)\n",
    "sub_train_x_red.loc[:, 'albumin_min_na'] = np.where(sub_train_x_red['albumin_min'].isna(), 1, 0)\n",
    "sub_train_x_red.loc[:, 'bicarb_min_na'] = np.where(sub_train_x_red['bicarb_min'].isna(), 1, 0)\n",
    "sub_train_x_red.loc[:, 'hemoglobin_min_na'] = np.where(sub_train_x_red['hemoglobin_min'].isna(), 1, 0)\n",
    "sub_train_x_red.loc[:, 'platelet_min_na'] = np.where(sub_train_x_red['platelet_min'].isna(), 1, 0)\n",
    "sub_train_x_red.loc[:, 'sodium_min_na'] = np.where(sub_train_x_red['sodium_min'].isna(), 1, 0)\n",
    "sub_train_x_red.loc[:, 'wbc_min_na'] = np.where(sub_train_x_red['wbc_min'].isna(), 1, 0)"
   ]
  },
  {
   "cell_type": "code",
   "execution_count": 45,
   "id": "0d4515a4",
   "metadata": {},
   "outputs": [],
   "source": [
    "val_x_red.loc[:, 'alp_max_na'] = np.where(val_x_red['alp_max'].isna(), 1, 0)\n",
    "val_x_red.loc[:, 'alt_max_na'] = np.where(val_x_red['alt_max'].isna(), 1, 0)\n",
    "val_x_red.loc[:, 'ast_max_na'] = np.where(val_x_red['ast_max'].isna(), 1, 0)\n",
    "val_x_red.loc[:, 'calcium_max_na'] = np.where(val_x_red['calcium_max'].isna(), 1, 0)\n",
    "val_x_red.loc[:, 'creatinine_max_na'] = np.where(val_x_red['creatinine_max'].isna(), 1, 0)\n",
    "val_x_red.loc[:, 'psa_max_na'] = np.where(val_x_red['psa_max'].isna(), 1, 0)\n",
    "val_x_red.loc[:, 'total_bilirubin_max_na'] = np.where(val_x_red['total_bilirubin_max'].isna(), 1, 0)\n",
    "val_x_red.loc[:, 'wbc_max_na'] = np.where(val_x_red['wbc_max'].isna(), 1, 0)\n",
    "val_x_red.loc[:, 'albumin_min_na'] = np.where(val_x_red['albumin_min'].isna(), 1, 0)\n",
    "val_x_red.loc[:, 'bicarb_min_na'] = np.where(val_x_red['bicarb_min'].isna(), 1, 0)\n",
    "val_x_red.loc[:, 'hemoglobin_min_na'] = np.where(val_x_red['hemoglobin_min'].isna(), 1, 0)\n",
    "val_x_red.loc[:, 'platelet_min_na'] = np.where(val_x_red['platelet_min'].isna(), 1, 0)\n",
    "val_x_red.loc[:, 'sodium_min_na'] = np.where(val_x_red['sodium_min'].isna(), 1, 0)\n",
    "val_x_red.loc[:, 'wbc_min_na'] = np.where(val_x_red['wbc_min'].isna(), 1, 0)"
   ]
  },
  {
   "cell_type": "code",
   "execution_count": 46,
   "id": "3f698fa3",
   "metadata": {},
   "outputs": [],
   "source": [
    "# List of numeric variables, excluding binary variables. \n",
    "numerical_features_red = [\n",
    "    'age',\n",
    "    'PSADiagnosis',\n",
    "    'PSAMetDiagnosis',\n",
    "    'delta_met_diagnosis',\n",
    "    'crpc_time',\n",
    "    'weight_diag',\n",
    "    'bmi_diag',\n",
    "    'weight_pct_change',\n",
    "    'weight_slope',\n",
    "    'albumin_diag',\n",
    "    'alp_diag',\n",
    "    'alt_diag',\n",
    "    'ast_diag',\n",
    "    'bicarb_diag',\n",
    "    'bun_diag',\n",
    "    'calcium_diag',\n",
    "    'chloride_diag',\n",
    "    'creatinine_diag',\n",
    "    'hemoglobin_diag',\n",
    "    'neutrophil_count_diag',\n",
    "    'platelet_diag',\n",
    "    'potassium_diag',\n",
    "    'sodium_diag',\n",
    "    'total_bilirubin_diag',\n",
    "    'wbc_diag',\n",
    "    'alp_max',\n",
    "    'alt_max',\n",
    "    'ast_max',\n",
    "    'calcium_max',\n",
    "    'creatinine_max',\n",
    "    'psa_max',\n",
    "    'total_bilirubin_max',\n",
    "    'wbc_max',\n",
    "    'albumin_min',\n",
    "    'bicarb_min',\n",
    "    'hemoglobin_min',\n",
    "    'platelet_min',\n",
    "    'sodium_min',\n",
    "    'wbc_min',\n",
    "    'psa_slope',\n",
    "    'icd_count']\n",
    "\n",
    "# Transformer will impute column medians and then apply a standard scaler. \n",
    "numerical_transformer = Pipeline(steps = [\n",
    "    ('imputer', SimpleImputer(strategy = 'median')),\n",
    "    ('std_scaler', StandardScaler())])"
   ]
  },
  {
   "cell_type": "code",
   "execution_count": 47,
   "id": "f07bdd24",
   "metadata": {},
   "outputs": [],
   "source": [
    "preprocessor_red = ColumnTransformer(\n",
    "    transformers = [\n",
    "        ('num', numerical_transformer, numerical_features_red),\n",
    "        ('cat', categorical_transformer, categorical_features)],\n",
    "    remainder = 'passthrough')"
   ]
  },
  {
   "cell_type": "code",
   "execution_count": 48,
   "id": "2125c279",
   "metadata": {},
   "outputs": [
    {
     "name": "stdout",
     "output_type": "stream",
     "text": [
      "(11355, 143)\n",
      "(11355,)\n",
      "(3786, 143)\n",
      "(3786,)\n"
     ]
    }
   ],
   "source": [
    "print(sub_train_x_red.shape)\n",
    "print(sub_train_y.shape)\n",
    "print(val_x_red.shape)\n",
    "print(val_y.shape)"
   ]
  },
  {
   "cell_type": "code",
   "execution_count": 49,
   "id": "baa295e6",
   "metadata": {},
   "outputs": [
    {
     "name": "stdout",
     "output_type": "stream",
     "text": [
      "      Iter       Train Loss      OOB Improve   Remaining Time \n",
      "         1       36052.1591           6.9797           38.50m\n",
      "         2       36041.9599           6.9973           38.50m\n",
      "         3       36023.4047           6.4456           38.57m\n",
      "         4       35780.7706           6.7677           38.48m\n",
      "         5       35827.7556           6.5059           38.44m\n",
      "         6       35825.3346           5.4866           38.41m\n",
      "         7       35901.4715           5.9175           38.38m\n",
      "         8       35703.2752           5.1992           38.34m\n",
      "         9       35629.5016           5.0892           38.30m\n",
      "        10       35493.3160           5.3546           38.26m\n",
      "        20       35740.0327           3.7026           37.93m\n",
      "        30       35460.4617           2.7060           37.63m\n",
      "        40       35505.8490           1.9567           37.36m\n",
      "        50       35186.0092           2.1029           37.09m\n",
      "        60       35434.2524           1.1424           36.83m\n",
      "        70       34959.3492           1.0153           36.57m\n",
      "        80       35146.0624           0.9676           36.53m\n",
      "        90       35273.3071           0.7881           36.25m\n",
      "       100       35090.5644           0.3001           35.97m\n",
      "       200       34744.4068           0.3720           33.31m\n",
      "       300       35012.6621          -0.0299           30.72m\n",
      "       400       34644.5608          -0.0755           28.14m\n",
      "       500       34445.9917          -0.1161           25.58m\n",
      "       600       34683.0647          -0.1991           23.02m\n",
      "       700       34527.2081          -0.2970           20.46m\n",
      "       800       34402.9351          -0.0579           17.90m\n",
      "       900       34176.4733          -0.2279           15.36m\n",
      "      1000       33954.3652          -0.1016           12.81m\n"
     ]
    },
    {
     "data": {
      "text/plain": [
       "GradientBoostingSurvivalAnalysis(learning_rate=0.05, n_estimators=1500,\n",
       "                                 random_state=42, subsample=0.75, verbose=1)"
      ]
     },
     "execution_count": 49,
     "metadata": {},
     "output_type": "execute_result"
    }
   ],
   "source": [
    "sub_train_xt_red = preprocessor_red.fit_transform(sub_train_x_red)\n",
    "val_xt_red = preprocessor_red.transform(val_x_red)\n",
    "\n",
    "gbm_exp2 = GradientBoostingSurvivalAnalysis(n_estimators = 1500,\n",
    "                                           learning_rate = 0.05,\n",
    "                                           max_depth = 3,\n",
    "                                           subsample = 0.75,\n",
    "                                           verbose = 1,\n",
    "                                           random_state = 42)\n",
    "\n",
    "gbm_exp2.fit(sub_train_xt_red, sub_train_y)"
   ]
  },
  {
   "cell_type": "code",
   "execution_count": 50,
   "id": "55ba521b",
   "metadata": {},
   "outputs": [],
   "source": [
    "gbm2_staged_auc = [cumulative_dynamic_auc(sub_train_y, val_y, risk_score, 730)[0][0] for \n",
    "                   risk_score in gbm_exp2.staged_predict(val_xt_red)]"
   ]
  },
  {
   "cell_type": "code",
   "execution_count": 51,
   "id": "913e6c8d",
   "metadata": {},
   "outputs": [],
   "source": [
    "gbm2_staged_auc_tr = [cumulative_dynamic_auc(sub_train_y, sub_train_y, risk_score, 730)[0][0] for \n",
    "                      risk_score in gbm_exp2.staged_predict(sub_train_xt_red)]"
   ]
  },
  {
   "cell_type": "code",
   "execution_count": 52,
   "id": "5d0a2b26",
   "metadata": {},
   "outputs": [
    {
     "data": {
      "image/png": "[encoded data removed]",
      "text/plain": [
       "<Figure size 640x480 with 1 Axes>"
      ]
     },
     "metadata": {},
     "output_type": "display_data"
    }
   ],
   "source": [
    "fig = plt.figure()\n",
    "ax = fig.add_subplot(1, 1, 1)\n",
    "\n",
    "x = range(len(gbm2_staged_auc))\n",
    "plt.plot(x, gbm2_staged_auc, color = 'blue', label = 'validation')\n",
    "plt.plot(x, gbm2_staged_auc_tr, color = 'red', label = 'training')\n",
    "plt.legend(loc = 'lower right')\n",
    "\n",
    "plt.xlabel(\"n_estimators\")\n",
    "plt.ylabel(\"AUC at 2-years\")\n",
    "plt.title('Gradient boosting model learning curve for sparse dataset')\n",
    "\n",
    "plt.show()"
   ]
  },
  {
   "cell_type": "code",
   "execution_count": 53,
   "id": "508971e1",
   "metadata": {},
   "outputs": [],
   "source": [
    "# Average AUC for every 25 additional trees. \n",
    "mean2_auc_list = []\n",
    "for x in np.arange(0, len(gbm2_staged_auc), 25):\n",
    "    mean2_auc_list.append(np.mean(gbm2_staged_auc[x:x+24]))"
   ]
  },
  {
   "cell_type": "code",
   "execution_count": 54,
   "id": "90e778ec",
   "metadata": {},
   "outputs": [
    {
     "name": "stdout",
     "output_type": "stream",
     "text": [
      "Number of trees where 2 year AUC on validation dataset beings to downgrade: 675\n",
      "Validation dataset AUC before degrading: 0.7656506228332617\n",
      "Training dataset AUC before degrading: 0.7884235354674521\n"
     ]
    }
   ],
   "source": [
    "print('Number of trees where 2 year AUC on validation dataset beings to downgrade:', np.where(np.diff(mean2_auc_list) < 0)[0][0]*25)\n",
    "print('Validation dataset AUC before degrading:', gbm2_staged_auc[np.where(np.diff(mean2_auc_list) < 0)[0][0]*25])\n",
    "print('Training dataset AUC before degrading:', gbm2_staged_auc_tr[np.where(np.diff(mean2_auc_list) < 0)[0][0]*25])"
   ]
  },
  {
   "cell_type": "markdown",
   "id": "bf4b39a1",
   "metadata": {},
   "source": [
    "**Performance of the sparse model appears about equivalent to the full model in regards to discriminatory performance on the validation set. The advantages of using the sparse model include less risk of overfitting of training set, faster computational speed, and improved interpretability of feature importance. In addition, there might be improved imputations of missing values with MICE. For these reasons, we'll plan to proceed with the sparse model.**"
   ]
  },
  {
   "cell_type": "markdown",
   "id": "78f14c78",
   "metadata": {},
   "source": [
    "### 2.3 Further tuning of tree hyperparameters"
   ]
  },
  {
   "cell_type": "markdown",
   "id": "594e180e",
   "metadata": {},
   "source": [
    "**Tree depth and subsample will be tuned using a halving grid search with 3-fold cross validation. The other main tree hyperparameter is the minimum sample size in a terminal node (ie., leaf), but since we're using short trees it's unlikely to have significant impact on performance and so we'll omit from the parameter search to save computing time.** \n",
    "\n",
    "**Performing a traditional cartesian grid search for gradient boosting model tree hyperparameters is computationally challengng. A halving grid search approach is selected instead since it is much faster. The major drawback of the halving grid search is that good configurations that are slow to converge at the beginning will be pruned prematurely so you can’t be entirely ensure that you’ve identified the best hyperparameters.**  \n",
    "\n",
    "**As you can see below, our parameter search space is very small. This is because even with a halving grid search it takes considerable time to build models on this dataset.** "
   ]
  },
  {
   "cell_type": "code",
   "execution_count": 55,
   "id": "f04d74e5",
   "metadata": {},
   "outputs": [],
   "source": [
    "train_x_red = train_x.drop(columns = drop_labs)"
   ]
  },
  {
   "cell_type": "code",
   "execution_count": 56,
   "id": "fc5e1886",
   "metadata": {},
   "outputs": [],
   "source": [
    "train_x_red.loc[:, 'alp_max_na'] = np.where(train_x_red['alp_max'].isna(), 1, 0)\n",
    "train_x_red.loc[:, 'alt_max_na'] = np.where(train_x_red['alt_max'].isna(), 1, 0)\n",
    "train_x_red.loc[:, 'ast_max_na'] = np.where(train_x_red['ast_max'].isna(), 1, 0)\n",
    "train_x_red.loc[:, 'calcium_max_na'] = np.where(train_x_red['calcium_max'].isna(), 1, 0)\n",
    "train_x_red.loc[:, 'creatinine_max_na'] = np.where(train_x_red['creatinine_max'].isna(), 1, 0)\n",
    "train_x_red.loc[:, 'psa_max_na'] = np.where(train_x_red['psa_max'].isna(), 1, 0)\n",
    "train_x_red.loc[:, 'total_bilirubin_max_na'] = np.where(train_x_red['total_bilirubin_max'].isna(), 1, 0)\n",
    "train_x_red.loc[:, 'wbc_max_na'] = np.where(train_x_red['wbc_max'].isna(), 1, 0)\n",
    "train_x_red.loc[:, 'albumin_min_na'] = np.where(train_x_red['albumin_min'].isna(), 1, 0)\n",
    "train_x_red.loc[:, 'bicarb_min_na'] = np.where(train_x_red['bicarb_min'].isna(), 1, 0)\n",
    "train_x_red.loc[:, 'hemoglobin_min_na'] = np.where(train_x_red['hemoglobin_min'].isna(), 1, 0)\n",
    "train_x_red.loc[:, 'platelet_min_na'] = np.where(train_x_red['platelet_min'].isna(), 1, 0)\n",
    "train_x_red.loc[:, 'sodium_min_na'] = np.where(train_x_red['sodium_min'].isna(), 1, 0)\n",
    "train_x_red.loc[:, 'wbc_min_na'] = np.where(train_x_red['wbc_min'].isna(), 1, 0)"
   ]
  },
  {
   "cell_type": "code",
   "execution_count": 57,
   "id": "01247ed4",
   "metadata": {},
   "outputs": [
    {
     "data": {
      "text/plain": [
       "(15141, 143)"
      ]
     },
     "execution_count": 57,
     "metadata": {},
     "output_type": "execute_result"
    }
   ],
   "source": [
    "train_x_red.shape"
   ]
  },
  {
   "cell_type": "code",
   "execution_count": 60,
   "id": "87ec2cfe",
   "metadata": {},
   "outputs": [
    {
     "data": {
      "text/plain": [
       "['estimator',\n",
       " 'estimator__columntransformer',\n",
       " 'estimator__columntransformer__cat',\n",
       " 'estimator__columntransformer__cat__categories',\n",
       " 'estimator__columntransformer__cat__drop',\n",
       " 'estimator__columntransformer__cat__dtype',\n",
       " 'estimator__columntransformer__cat__handle_unknown',\n",
       " 'estimator__columntransformer__cat__sparse',\n",
       " 'estimator__columntransformer__n_jobs',\n",
       " 'estimator__columntransformer__num',\n",
       " 'estimator__columntransformer__num__imputer',\n",
       " 'estimator__columntransformer__num__imputer__add_indicator',\n",
       " 'estimator__columntransformer__num__imputer__copy',\n",
       " 'estimator__columntransformer__num__imputer__fill_value',\n",
       " 'estimator__columntransformer__num__imputer__missing_values',\n",
       " 'estimator__columntransformer__num__imputer__strategy',\n",
       " 'estimator__columntransformer__num__imputer__verbose',\n",
       " 'estimator__columntransformer__num__memory',\n",
       " 'estimator__columntransformer__num__std_scaler',\n",
       " 'estimator__columntransformer__num__std_scaler__copy',\n",
       " 'estimator__columntransformer__num__std_scaler__with_mean',\n",
       " 'estimator__columntransformer__num__std_scaler__with_std',\n",
       " 'estimator__columntransformer__num__steps',\n",
       " 'estimator__columntransformer__num__verbose',\n",
       " 'estimator__columntransformer__remainder',\n",
       " 'estimator__columntransformer__sparse_threshold',\n",
       " 'estimator__columntransformer__transformer_weights',\n",
       " 'estimator__columntransformer__transformers',\n",
       " 'estimator__columntransformer__verbose',\n",
       " 'estimator__columntransformer__verbose_feature_names_out',\n",
       " 'estimator__gradientboostingsurvivalanalysis',\n",
       " 'estimator__gradientboostingsurvivalanalysis__ccp_alpha',\n",
       " 'estimator__gradientboostingsurvivalanalysis__criterion',\n",
       " 'estimator__gradientboostingsurvivalanalysis__dropout_rate',\n",
       " 'estimator__gradientboostingsurvivalanalysis__learning_rate',\n",
       " 'estimator__gradientboostingsurvivalanalysis__loss',\n",
       " 'estimator__gradientboostingsurvivalanalysis__max_depth',\n",
       " 'estimator__gradientboostingsurvivalanalysis__max_features',\n",
       " 'estimator__gradientboostingsurvivalanalysis__max_leaf_nodes',\n",
       " 'estimator__gradientboostingsurvivalanalysis__min_impurity_decrease',\n",
       " 'estimator__gradientboostingsurvivalanalysis__min_samples_leaf',\n",
       " 'estimator__gradientboostingsurvivalanalysis__min_samples_split',\n",
       " 'estimator__gradientboostingsurvivalanalysis__min_weight_fraction_leaf',\n",
       " 'estimator__gradientboostingsurvivalanalysis__n_estimators',\n",
       " 'estimator__gradientboostingsurvivalanalysis__random_state',\n",
       " 'estimator__gradientboostingsurvivalanalysis__subsample',\n",
       " 'estimator__gradientboostingsurvivalanalysis__verbose',\n",
       " 'estimator__memory',\n",
       " 'estimator__steps',\n",
       " 'estimator__verbose',\n",
       " 'tied_tol',\n",
       " 'times']"
      ]
     },
     "execution_count": 60,
     "metadata": {},
     "output_type": "execute_result"
    }
   ],
   "source": [
    "# Find all pipe item unique keys \n",
    "pipe = make_pipeline(preprocessor_red, GradientBoostingSurvivalAnalysis(n_estimators = 675,\n",
    "                                                                        learning_rate = 0.05,\n",
    "                                                                        random_state = 42))\n",
    "\n",
    "estimator = as_cumulative_dynamic_auc_scorer(pipe, times = [730])\n",
    "\n",
    "sorted(estimator.get_params().keys())"
   ]
  },
  {
   "cell_type": "code",
   "execution_count": 61,
   "id": "e2188028",
   "metadata": {},
   "outputs": [
    {
     "name": "stdout",
     "output_type": "stream",
     "text": [
      "n_iterations: 4\n",
      "n_required_iterations: 4\n",
      "n_possible_iterations: 4\n",
      "min_resources_: 1892\n",
      "max_resources_: 15141\n",
      "aggressive_elimination: False\n",
      "factor: 2\n",
      "----------\n",
      "iter: 0\n",
      "n_candidates: 9\n",
      "n_resources: 1892\n",
      "Fitting 3 folds for each of 9 candidates, totalling 27 fits\n",
      "----------\n",
      "iter: 1\n",
      "n_candidates: 5\n",
      "n_resources: 3784\n",
      "Fitting 3 folds for each of 5 candidates, totalling 15 fits\n",
      "----------\n",
      "iter: 2\n",
      "n_candidates: 3\n",
      "n_resources: 7568\n",
      "Fitting 3 folds for each of 3 candidates, totalling 9 fits\n",
      "----------\n",
      "iter: 3\n",
      "n_candidates: 2\n",
      "n_resources: 15136\n",
      "Fitting 3 folds for each of 2 candidates, totalling 6 fits\n"
     ]
    },
    {
     "data": {
      "text/plain": [
       "HalvingGridSearchCV(cv=StratifiedKFold(n_splits=3, random_state=42, shuffle=True),\n",
       "                    estimator=as_cumulative_dynamic_auc_scorer(estimator=Pipeline(steps=[('columntransformer',\n",
       "                                                                                          ColumnTransformer(remainder='passthrough',\n",
       "                                                                                                            transformers=[('num',\n",
       "                                                                                                                           Pipeline(steps=[('imputer',\n",
       "                                                                                                                                            SimpleImputer(strategy='median')),\n",
       "                                                                                                                                           ('std_scaler',\n",
       "                                                                                                                                            StandardScaler())]),\n",
       "                                                                                                                           ['age',\n",
       "                                                                                                                            'PSADiagnosis',...\n",
       "                                                                                                                            'prim_treatment'])])),\n",
       "                                                                                         ('gradientboostingsurvivalanalysis',\n",
       "                                                                                          GradientBoostingSurvivalAnalysis(learning_rate=0.05,\n",
       "                                                                                                                           n_estimators=675,\n",
       "                                                                                                                           random_state=42))]),\n",
       "                                                               times=730),\n",
       "                    factor=2, n_jobs=-1,\n",
       "                    param_grid={'estimator__gradientboostingsurvivalanalysis__max_depth': [2,\n",
       "                                                                                           3,\n",
       "                                                                                           4],\n",
       "                                'estimator__gradientboostingsurvivalanalysis__subsample': [0.5,\n",
       "                                                                                           0.75,\n",
       "                                                                                           0.9]},\n",
       "                    random_state=42, refit=False, verbose=1)"
      ]
     },
     "execution_count": 61,
     "metadata": {},
     "output_type": "execute_result"
    }
   ],
   "source": [
    "pipe = make_pipeline(preprocessor_red, GradientBoostingSurvivalAnalysis(n_estimators = 675,\n",
    "                                                                        learning_rate = 0.05,\n",
    "                                                                        random_state = 42))\n",
    "\n",
    "# 3 fold cross-validation\n",
    "cv = StratifiedKFold(n_splits = 3, shuffle = True, random_state = 42)\n",
    "\n",
    "# Parameter gird \n",
    "param_grid = {'estimator__gradientboostingsurvivalanalysis__max_depth': [2, 3, 4], \n",
    "              'estimator__gradientboostingsurvivalanalysis__subsample': [0.5, 0.75, 0.9]}\n",
    "\n",
    "gbm_search = HalvingGridSearchCV(\n",
    "    as_cumulative_dynamic_auc_scorer(pipe, 730),\n",
    "    param_grid,\n",
    "    cv = cv,\n",
    "    factor = 2,\n",
    "    resource = 'n_samples',\n",
    "    refit = False,\n",
    "    verbose = 1,\n",
    "    random_state = 42,\n",
    "    n_jobs = -1)\n",
    "\n",
    "# Run search \n",
    "warnings.filterwarnings('ignore')\n",
    "gbm_search.fit(train_x_red, train_y)"
   ]
  },
  {
   "cell_type": "code",
   "execution_count": 62,
   "id": "12ffa38c",
   "metadata": {},
   "outputs": [
    {
     "data": {
      "text/plain": [
       "{'estimator__gradientboostingsurvivalanalysis__max_depth': 3,\n",
       " 'estimator__gradientboostingsurvivalanalysis__subsample': 0.75}"
      ]
     },
     "execution_count": 62,
     "metadata": {},
     "output_type": "execute_result"
    }
   ],
   "source": [
    "gbm_search.best_params_"
   ]
  },
  {
   "cell_type": "markdown",
   "id": "0e931681",
   "metadata": {},
   "source": [
    "### 2.4 Building and evaluating final model "
   ]
  },
  {
   "cell_type": "code",
   "execution_count": 66,
   "id": "c2efa62b",
   "metadata": {},
   "outputs": [],
   "source": [
    "test_x_red = test_x.drop(columns = drop_labs)"
   ]
  },
  {
   "cell_type": "code",
   "execution_count": 67,
   "id": "fe928e11",
   "metadata": {},
   "outputs": [],
   "source": [
    "test_x_red.loc[:, 'alp_max_na'] = np.where(test_x_red['alp_max'].isna(), 1, 0)\n",
    "test_x_red.loc[:, 'alt_max_na'] = np.where(test_x_red['alt_max'].isna(), 1, 0)\n",
    "test_x_red.loc[:, 'ast_max_na'] = np.where(test_x_red['ast_max'].isna(), 1, 0)\n",
    "test_x_red.loc[:, 'calcium_max_na'] = np.where(test_x_red['calcium_max'].isna(), 1, 0)\n",
    "test_x_red.loc[:, 'creatinine_max_na'] = np.where(test_x_red['creatinine_max'].isna(), 1, 0)\n",
    "test_x_red.loc[:, 'psa_max_na'] = np.where(test_x_red['psa_max'].isna(), 1, 0)\n",
    "test_x_red.loc[:, 'total_bilirubin_max_na'] = np.where(test_x_red['total_bilirubin_max'].isna(), 1, 0)\n",
    "test_x_red.loc[:, 'wbc_max_na'] = np.where(test_x_red['wbc_max'].isna(), 1, 0)\n",
    "test_x_red.loc[:, 'albumin_min_na'] = np.where(test_x_red['albumin_min'].isna(), 1, 0)\n",
    "test_x_red.loc[:, 'bicarb_min_na'] = np.where(test_x_red['bicarb_min'].isna(), 1, 0)\n",
    "test_x_red.loc[:, 'hemoglobin_min_na'] = np.where(test_x_red['hemoglobin_min'].isna(), 1, 0)\n",
    "test_x_red.loc[:, 'platelet_min_na'] = np.where(test_x_red['platelet_min'].isna(), 1, 0)\n",
    "test_x_red.loc[:, 'sodium_min_na'] = np.where(test_x_red['sodium_min'].isna(), 1, 0)\n",
    "test_x_red.loc[:, 'wbc_min_na'] = np.where(test_x_red['wbc_min'].isna(), 1, 0)"
   ]
  },
  {
   "cell_type": "code",
   "execution_count": 68,
   "id": "1c1f7d2d",
   "metadata": {},
   "outputs": [
    {
     "data": {
      "text/plain": [
       "(3786, 143)"
      ]
     },
     "execution_count": 68,
     "metadata": {},
     "output_type": "execute_result"
    }
   ],
   "source": [
    "test_x_red.shape"
   ]
  },
  {
   "cell_type": "code",
   "execution_count": 69,
   "id": "b18bcec2",
   "metadata": {},
   "outputs": [
    {
     "name": "stdout",
     "output_type": "stream",
     "text": [
      "      Iter       Train Loss      OOB Improve   Remaining Time \n",
      "         1       49608.7581          10.1813           31.42m\n",
      "         2       49573.2872          10.0926           31.37m\n",
      "         3       49393.7428           9.0324           31.35m\n",
      "         4       49574.6857           9.1074           31.31m\n",
      "         5       49474.7008           8.7050           31.25m\n",
      "         6       49254.3368           8.0488           31.16m\n",
      "         7       49464.2474           7.6216           31.08m\n",
      "         8       49593.4873           6.4934           31.01m\n",
      "         9       49238.5643           7.0792           30.94m\n",
      "        10       49511.3324           6.8544           30.88m\n",
      "        20       49153.6951           4.7327           30.35m\n",
      "        30       48986.9937           3.8403           29.86m\n",
      "        40       48772.0804           2.7725           29.40m\n",
      "        50       48770.0796           2.9357           28.92m\n",
      "        60       48830.3854           1.4504           28.45m\n",
      "        70       48739.2888           1.0082           27.98m\n",
      "        80       48631.6222           1.5187           27.52m\n",
      "        90       48272.0960           0.6466           27.06m\n",
      "       100       48295.6375           0.6446           26.60m\n",
      "       200       48262.9696           0.0432           21.97m\n",
      "       300       47881.6242           0.2284           17.34m\n",
      "       400       47700.5355          -0.3636           12.71m\n",
      "       500       47783.6809          -0.0065            8.10m\n",
      "       600       47624.7723          -0.3807            3.48m\n"
     ]
    },
    {
     "data": {
      "text/plain": [
       "Pipeline(steps=[('columntransformer',\n",
       "                 ColumnTransformer(remainder='passthrough',\n",
       "                                   transformers=[('num',\n",
       "                                                  Pipeline(steps=[('imputer',\n",
       "                                                                   SimpleImputer(strategy='median')),\n",
       "                                                                  ('std_scaler',\n",
       "                                                                   StandardScaler())]),\n",
       "                                                  ['age', 'PSADiagnosis',\n",
       "                                                   'PSAMetDiagnosis',\n",
       "                                                   'delta_met_diagnosis',\n",
       "                                                   'crpc_time', 'weight_diag',\n",
       "                                                   'bmi_diag',\n",
       "                                                   'weight_pct_change',\n",
       "                                                   'weight_slope',\n",
       "                                                   'albumin_diag', 'alp_d...\n",
       "                                                   'creatinine_max', ...]),\n",
       "                                                 ('cat',\n",
       "                                                  OneHotEncoder(handle_unknown='ignore'),\n",
       "                                                  ['Gender', 'p_type', 'NStage',\n",
       "                                                   'MStage', 'Histology',\n",
       "                                                   'GleasonScore', 'stage',\n",
       "                                                   'met_year', 'brca_status',\n",
       "                                                   'ecog_diagnosis',\n",
       "                                                   'prim_treatment'])])),\n",
       "                ('gradientboostingsurvivalanalysis',\n",
       "                 GradientBoostingSurvivalAnalysis(learning_rate=0.05,\n",
       "                                                  n_estimators=675,\n",
       "                                                  random_state=42,\n",
       "                                                  subsample=0.75, verbose=1))])"
      ]
     },
     "execution_count": 69,
     "metadata": {},
     "output_type": "execute_result"
    }
   ],
   "source": [
    "gbm_crude = make_pipeline(preprocessor_red, GradientBoostingSurvivalAnalysis(n_estimators = 675,\n",
    "                                                                             learning_rate = 0.05,\n",
    "                                                                             max_depth = 3,\n",
    "                                                                             subsample = 0.75,\n",
    "                                                                             verbose = 1,\n",
    "                                                                             random_state = 42))\n",
    "\n",
    "gbm_crude.fit(train_x_red, train_y)"
   ]
  },
  {
   "cell_type": "code",
   "execution_count": 70,
   "id": "7f689432",
   "metadata": {},
   "outputs": [
    {
     "name": "stdout",
     "output_type": "stream",
     "text": [
      "Test set AUC at 2 years: 0.754325795536035\n"
     ]
    }
   ],
   "source": [
    "gbm_risk_scores_te = gbm_crude.predict(test_x_red)\n",
    "gbm_auc_te = cumulative_dynamic_auc(train_y, test_y, gbm_risk_scores_te, 730)[0][0]\n",
    "print('Test set AUC at 2 years:', gbm_auc_te)"
   ]
  },
  {
   "cell_type": "code",
   "execution_count": 71,
   "id": "aac955f4",
   "metadata": {},
   "outputs": [
    {
     "name": "stdout",
     "output_type": "stream",
     "text": [
      "Training set AUC at 2 years: 0.7848493251604663\n"
     ]
    }
   ],
   "source": [
    "gbm_risk_scores_tr = gbm_crude.predict(train_x_red)\n",
    "gbm_auc_tr = cumulative_dynamic_auc(train_y, train_y, gbm_risk_scores_tr, 730)[0][0]\n",
    "print('Training set AUC at 2 years:', gbm_auc_tr)"
   ]
  },
  {
   "cell_type": "code",
   "execution_count": 72,
   "id": "6249fc41",
   "metadata": {},
   "outputs": [],
   "source": [
    "# Bootstrap 10000 2 yr AUCs for test set \n",
    "n_bootstraps = 10000\n",
    "rng_seed = 42 \n",
    "bootstrapped_scores_te = []\n",
    "\n",
    "rng = np.random.RandomState(rng_seed)\n",
    "for i in range(n_bootstraps):\n",
    "    indices = rng.randint(0, len(gbm_risk_scores_te), len(gbm_risk_scores_te))\n",
    "    auc_yr = cumulative_dynamic_auc(train_y, test_y[indices], gbm_risk_scores_te[indices], 730)[0][0]\n",
    "    bootstrapped_scores_te.append(auc_yr)"
   ]
  },
  {
   "cell_type": "code",
   "execution_count": 73,
   "id": "eb0c4afe",
   "metadata": {},
   "outputs": [
    {
     "name": "stdout",
     "output_type": "stream",
     "text": [
      "Test set AUC standard error: 0.009488557141693763\n"
     ]
    }
   ],
   "source": [
    "# Standard error of mean for test set AUC\n",
    "sorted_scores_te = np.array(bootstrapped_scores_te)\n",
    "sorted_scores_te.sort()\n",
    "\n",
    "conf_lower_te = sorted_scores_te[int(0.025 * len(sorted_scores_te))]\n",
    "conf_upper_te = sorted_scores_te[int(0.975 * len(sorted_scores_te))]\n",
    "\n",
    "standard_error_te = (conf_upper_te - conf_lower_te) / 3.92\n",
    "print('Test set AUC standard error:', standard_error_te)"
   ]
  },
  {
   "cell_type": "code",
   "execution_count": 74,
   "id": "f5198098",
   "metadata": {},
   "outputs": [],
   "source": [
    "# Bootstrap 10000 2 yr AUCs for train set \n",
    "n_bootstraps = 10000\n",
    "rng_seed = 42 \n",
    "bootstrapped_scores_tr = []\n",
    "\n",
    "rng = np.random.RandomState(rng_seed)\n",
    "for i in range(n_bootstraps):\n",
    "    indices = rng.randint(0, len(gbm_risk_scores_tr), len(gbm_risk_scores_tr))\n",
    "    auc_yr = cumulative_dynamic_auc(train_y, train_y[indices], gbm_risk_scores_tr[indices], 730)[0][0]\n",
    "    bootstrapped_scores_tr.append(auc_yr)"
   ]
  },
  {
   "cell_type": "code",
   "execution_count": 75,
   "id": "67dabfff",
   "metadata": {},
   "outputs": [
    {
     "name": "stdout",
     "output_type": "stream",
     "text": [
      "Training set AUC standard error 0.00458979672227497\n"
     ]
    }
   ],
   "source": [
    "# Standard error of mean for train set AUC\n",
    "sorted_scores_tr = np.array(bootstrapped_scores_tr)\n",
    "sorted_scores_tr.sort()\n",
    "\n",
    "conf_lower_tr = sorted_scores_tr[int(0.025 * len(sorted_scores_tr))]\n",
    "conf_upper_tr = sorted_scores_tr[int(0.975 * len(sorted_scores_tr))]\n",
    "\n",
    "standard_error_tr = (conf_upper_tr - conf_lower_tr) / 3.92\n",
    "print('Training set AUC standard error', standard_error_tr)"
   ]
  },
  {
   "cell_type": "code",
   "execution_count": 76,
   "id": "071f7766",
   "metadata": {},
   "outputs": [],
   "source": [
    "crude_auc_data = {'model': ['gbm_crude'],\n",
    "                  'auc_2yr_te': [gbm_auc_te],\n",
    "                  'sem_te': [standard_error_te],\n",
    "                  'auc_2yr_tr': [gbm_auc_tr],\n",
    "                  'sem_tr': [standard_error_tr]}\n",
    "\n",
    "crude_auc_df = pd.DataFrame(crude_auc_data)"
   ]
  },
  {
   "cell_type": "code",
   "execution_count": 77,
   "id": "0f0af58d",
   "metadata": {},
   "outputs": [
    {
     "data": {
      "text/html": [
       "<div>\n",
       "<style scoped>\n",
       "    .dataframe tbody tr th:only-of-type {\n",
       "        vertical-align: middle;\n",
       "    }\n",
       "\n",
       "    .dataframe tbody tr th {\n",
       "        vertical-align: top;\n",
       "    }\n",
       "\n",
       "    .dataframe thead th {\n",
       "        text-align: right;\n",
       "    }\n",
       "</style>\n",
       "<table border=\"1\" class=\"dataframe\">\n",
       "  <thead>\n",
       "    <tr style=\"text-align: right;\">\n",
       "      <th></th>\n",
       "      <th>model</th>\n",
       "      <th>auc_2yr_te</th>\n",
       "      <th>sem_te</th>\n",
       "      <th>auc_2yr_tr</th>\n",
       "      <th>sem_tr</th>\n",
       "    </tr>\n",
       "  </thead>\n",
       "  <tbody>\n",
       "    <tr>\n",
       "      <th>0</th>\n",
       "      <td>gbm_crude</td>\n",
       "      <td>0.754326</td>\n",
       "      <td>0.009489</td>\n",
       "      <td>0.784849</td>\n",
       "      <td>0.00459</td>\n",
       "    </tr>\n",
       "  </tbody>\n",
       "</table>\n",
       "</div>"
      ],
      "text/plain": [
       "       model  auc_2yr_te    sem_te  auc_2yr_tr   sem_tr\n",
       "0  gbm_crude    0.754326  0.009489    0.784849  0.00459"
      ]
     },
     "execution_count": 77,
     "metadata": {},
     "output_type": "execute_result"
    }
   ],
   "source": [
    "crude_auc_df"
   ]
  },
  {
   "cell_type": "code",
   "execution_count": 78,
   "id": "fa1ace4c",
   "metadata": {},
   "outputs": [],
   "source": [
    "crude_auc_df.to_csv('crude_auc_df.csv', index = False, header = True)"
   ]
  },
  {
   "cell_type": "code",
   "execution_count": 79,
   "id": "e394f1e6",
   "metadata": {},
   "outputs": [],
   "source": [
    "times = np.arange(30, 1810, 30)\n",
    "crude_gbm_auc_over5 = cumulative_dynamic_auc(train_y, test_y, gbm_risk_scores_te, times)[0]\n",
    "\n",
    "times_data = {}\n",
    "values = crude_gbm_auc_over5\n",
    "time_names = []\n",
    "\n",
    "for x in range(len(times)):\n",
    "    time_names.append('time_'+str(times[x]))\n",
    "\n",
    "for i in range(len(time_names)):\n",
    "    times_data[time_names[i]] = values[i]\n",
    "    \n",
    "crude_auc_over5 = pd.DataFrame(times_data, index = ['gbm_crude'])"
   ]
  },
  {
   "cell_type": "code",
   "execution_count": 80,
   "id": "dc5e2f00",
   "metadata": {},
   "outputs": [
    {
     "data": {
      "text/html": [
       "<div>\n",
       "<style scoped>\n",
       "    .dataframe tbody tr th:only-of-type {\n",
       "        vertical-align: middle;\n",
       "    }\n",
       "\n",
       "    .dataframe tbody tr th {\n",
       "        vertical-align: top;\n",
       "    }\n",
       "\n",
       "    .dataframe thead th {\n",
       "        text-align: right;\n",
       "    }\n",
       "</style>\n",
       "<table border=\"1\" class=\"dataframe\">\n",
       "  <thead>\n",
       "    <tr style=\"text-align: right;\">\n",
       "      <th></th>\n",
       "      <th>time_30</th>\n",
       "      <th>time_60</th>\n",
       "      <th>time_90</th>\n",
       "      <th>time_120</th>\n",
       "      <th>time_150</th>\n",
       "      <th>time_180</th>\n",
       "      <th>time_210</th>\n",
       "      <th>time_240</th>\n",
       "      <th>time_270</th>\n",
       "      <th>time_300</th>\n",
       "      <th>...</th>\n",
       "      <th>time_1530</th>\n",
       "      <th>time_1560</th>\n",
       "      <th>time_1590</th>\n",
       "      <th>time_1620</th>\n",
       "      <th>time_1650</th>\n",
       "      <th>time_1680</th>\n",
       "      <th>time_1710</th>\n",
       "      <th>time_1740</th>\n",
       "      <th>time_1770</th>\n",
       "      <th>time_1800</th>\n",
       "    </tr>\n",
       "  </thead>\n",
       "  <tbody>\n",
       "    <tr>\n",
       "      <th>gbm_crude</th>\n",
       "      <td>0.939989</td>\n",
       "      <td>0.87969</td>\n",
       "      <td>0.847818</td>\n",
       "      <td>0.843958</td>\n",
       "      <td>0.847837</td>\n",
       "      <td>0.840647</td>\n",
       "      <td>0.814709</td>\n",
       "      <td>0.819052</td>\n",
       "      <td>0.812366</td>\n",
       "      <td>0.808159</td>\n",
       "      <td>...</td>\n",
       "      <td>0.753889</td>\n",
       "      <td>0.752263</td>\n",
       "      <td>0.749549</td>\n",
       "      <td>0.752131</td>\n",
       "      <td>0.751861</td>\n",
       "      <td>0.750556</td>\n",
       "      <td>0.753784</td>\n",
       "      <td>0.75339</td>\n",
       "      <td>0.758921</td>\n",
       "      <td>0.754951</td>\n",
       "    </tr>\n",
       "  </tbody>\n",
       "</table>\n",
       "<p>1 rows × 60 columns</p>\n",
       "</div>"
      ],
      "text/plain": [
       "            time_30  time_60   time_90  time_120  time_150  time_180  \\\n",
       "gbm_crude  0.939989  0.87969  0.847818  0.843958  0.847837  0.840647   \n",
       "\n",
       "           time_210  time_240  time_270  time_300  ...  time_1530  time_1560  \\\n",
       "gbm_crude  0.814709  0.819052  0.812366  0.808159  ...   0.753889   0.752263   \n",
       "\n",
       "           time_1590  time_1620  time_1650  time_1680  time_1710  time_1740  \\\n",
       "gbm_crude   0.749549   0.752131   0.751861   0.750556   0.753784    0.75339   \n",
       "\n",
       "           time_1770  time_1800  \n",
       "gbm_crude   0.758921   0.754951  \n",
       "\n",
       "[1 rows x 60 columns]"
      ]
     },
     "execution_count": 80,
     "metadata": {},
     "output_type": "execute_result"
    }
   ],
   "source": [
    "crude_auc_over5"
   ]
  },
  {
   "cell_type": "code",
   "execution_count": 81,
   "id": "96d7e8e2",
   "metadata": {},
   "outputs": [],
   "source": [
    "crude_auc_over5.to_csv('crude_auc_over5.csv', index = True, header = True)"
   ]
  },
  {
   "cell_type": "code",
   "execution_count": 82,
   "id": "1488f41e",
   "metadata": {},
   "outputs": [],
   "source": [
    "# Variables passing through pipeline\n",
    "cat_encoder = list(preprocessor_red.transformers_[1][1].get_feature_names(categorical_features))\n",
    "pass_through = list(train_x_red.iloc[:, preprocessor_red.transformers_[2][2]].columns)\n",
    "attributes_gbm = numerical_features_red + cat_encoder + pass_through"
   ]
  },
  {
   "cell_type": "code",
   "execution_count": 83,
   "id": "55313b37",
   "metadata": {},
   "outputs": [
    {
     "name": "stdout",
     "output_type": "stream",
     "text": [
      "Total number of features: 184\n",
      "Number of non-zero features in final model: 156\n"
     ]
    },
    {
     "data": {
      "image/png": "[encoded data removed]",
      "text/plain": [
       "<Figure size 600x800 with 1 Axes>"
      ]
     },
     "metadata": {},
     "output_type": "display_data"
    }
   ],
   "source": [
    "# Dataframe of coefficients for each variable \n",
    "coefficients_gbm = pd.DataFrame(\n",
    "    gbm_crude.named_steps['gradientboostingsurvivalanalysis'].feature_importances_,\n",
    "    index = attributes_gbm,\n",
    "    columns = ['coefficient']\n",
    ")\n",
    "\n",
    "print('Total number of features: {}'.format(len(attributes_gbm)))\n",
    "\n",
    "non_zero = np.sum(coefficients_gbm.iloc[:, 0] != 0)\n",
    "print('Number of non-zero features in final model: {}'.format(non_zero))\n",
    "\n",
    "non_zero_coefs = coefficients_gbm.query('coefficient != 0')\n",
    "coef_order = non_zero_coefs.abs().sort_values('coefficient').tail(30).index\n",
    "\n",
    "_, ax = plt.subplots(figsize=(6, 8))\n",
    "non_zero_coefs.loc[coef_order].plot.barh(ax = ax, legend = False)\n",
    "ax.set_xlabel('coefficient')\n",
    "ax.grid(True)"
   ]
  },
  {
   "cell_type": "code",
   "execution_count": 86,
   "id": "44f33483",
   "metadata": {},
   "outputs": [],
   "source": [
    "coefficients_gbm = (\n",
    "    coefficients_gbm\n",
    "    .reset_index()\n",
    "    .rename(columns = {'index':'variable'}))"
   ]
  },
  {
   "cell_type": "code",
   "execution_count": 87,
   "id": "993e71a6",
   "metadata": {},
   "outputs": [],
   "source": [
    "coefficients_gbm.to_csv('coefficients_gbm.csv', index = False, header = True)"
   ]
  },
  {
   "cell_type": "markdown",
   "id": "d103ba6f",
   "metadata": {},
   "source": [
    "## 3 Random survival forest model"
   ]
  },
  {
   "cell_type": "code",
   "execution_count": 88,
   "id": "7693e132",
   "metadata": {},
   "outputs": [],
   "source": [
    "from sklearn.experimental import enable_halving_search_cv\n",
    "from sklearn.model_selection import StratifiedKFold, HalvingRandomSearchCV\n",
    "from sklearn.pipeline import make_pipeline\n",
    "\n",
    "from sksurv.metrics import cumulative_dynamic_auc, as_cumulative_dynamic_auc_scorer\n",
    "\n",
    "from sksurv.ensemble import RandomSurvivalForest\n",
    "\n",
    "from joblib import dump, load \n",
    "\n",
    "import warnings "
   ]
  },
  {
   "cell_type": "markdown",
   "id": "45050112",
   "metadata": {},
   "source": [
    "**Similar to the gradient boosting survival model, the random survival model will first be configured by determining ideal number of trees using early stopping. Unlike the gradient boosting survival model, performance of the test set should not decrease with additional trees, so the main consideration is ensuring sufficiently high number of trees to achieve optimal test performance while minimzing computational time (ie., not building unnecessary number of trees). Once the ideal tree number is identified, a halving grid search with 3-fold cross validation will be performed to tune hyperparameters, though random forest models typically have excellent out-of-the-box performance so tuning will be cursory.**  "
   ]
  },
  {
   "cell_type": "markdown",
   "id": "ee3fcfa6",
   "metadata": {},
   "source": [
    "### 3.1 Number of trees "
   ]
  },
  {
   "cell_type": "code",
   "execution_count": 89,
   "id": "f2f6bdd1",
   "metadata": {},
   "outputs": [],
   "source": [
    "# Create function that adds tree one at a time, calculates AUC at 2-yr on validation set, \n",
    "# and breaks once validation AUC decreases 5 times in a row\n",
    "\n",
    "rsf = RandomSurvivalForest(min_samples_leaf = 10,\n",
    "                           max_features = 0.333,\n",
    "                           warm_start = True,\n",
    "                           verbose = 0,\n",
    "                           random_state = 42)\n",
    "\n",
    "sub_train_xt_red = preprocessor_red.fit_transform(sub_train_x_red)\n",
    "val_xt_red = preprocessor_red.transform(val_x_red)\n",
    "\n",
    "max_yr_auc = 0\n",
    "error_going_up = 0\n",
    "\n",
    "for n_estimators in range(1, 1000): \n",
    "    rsf.n_estimators = n_estimators\n",
    "    rsf.fit(sub_train_xt_red, sub_train_y)\n",
    "    \n",
    "    rsf_chf_funcs = rsf.predict_cumulative_hazard_function(val_xt_red)\n",
    "    rsf_risk_scores = np.row_stack([chf(730) for chf in rsf_chf_funcs])\n",
    "    rsf_yr_auc = cumulative_dynamic_auc(sub_train_y, val_y, rsf_risk_scores, 730)[0][0]\n",
    "    \n",
    "    if rsf_yr_auc > max_yr_auc:\n",
    "        max_yr_auc = rsf_yr_auc\n",
    "        error_going_up = 0\n",
    "    else:\n",
    "        error_going_up += 1\n",
    "        if error_going_up == 5:\n",
    "            break"
   ]
  },
  {
   "cell_type": "code",
   "execution_count": 90,
   "id": "1f577610",
   "metadata": {},
   "outputs": [
    {
     "name": "stdout",
     "output_type": "stream",
     "text": [
      "Ideal number of trees: 34\n",
      "Validation set AUC at 2 years with ideal tree number: 0.75143\n"
     ]
    }
   ],
   "source": [
    "rsf_chf_funcs = rsf.predict_cumulative_hazard_function(val_xt_red)\n",
    "rsf_risk_scores = np.row_stack([chf(1095) for chf in rsf_chf_funcs])\n",
    "rsf_yr_auc = cumulative_dynamic_auc(sub_train_y, val_y, rsf_risk_scores, 730)[0][0]\n",
    "\n",
    "print('Ideal number of trees:', rsf.n_estimators)\n",
    "print('Validation set AUC at 2 years with ideal tree number:', round(rsf_yr_auc, 5))"
   ]
  },
  {
   "cell_type": "markdown",
   "id": "875b8492",
   "metadata": {},
   "source": [
    "### 3.2 Hyperparameter tuning "
   ]
  },
  {
   "cell_type": "markdown",
   "id": "b74c214b",
   "metadata": {},
   "source": [
    "**Fiftt will likely be enough to ensure optimal AUC performance. Next, we'll perform a grid search to tune hyperparameters. The hyperparamter with the largest impact on performance other than tree number is the number of features considered at any given split (ie., max_features). (Side note: if the number of features considered at each split includes all features (ie., max_features = 1) then the algrorithm will be equivalent to bagging decision trees.) Tree complexity, specifically number of samples in leaf nodes, will also be tuned in the grid search, though its impact on performance is likely marginal in comparison to number of trees or number of features considered at each split.** "
   ]
  },
  {
   "cell_type": "code",
   "execution_count": 92,
   "id": "f2bf34f0",
   "metadata": {},
   "outputs": [
    {
     "data": {
      "text/plain": [
       "['estimator',\n",
       " 'estimator__columntransformer',\n",
       " 'estimator__columntransformer__cat',\n",
       " 'estimator__columntransformer__cat__categories',\n",
       " 'estimator__columntransformer__cat__drop',\n",
       " 'estimator__columntransformer__cat__dtype',\n",
       " 'estimator__columntransformer__cat__handle_unknown',\n",
       " 'estimator__columntransformer__cat__sparse',\n",
       " 'estimator__columntransformer__n_jobs',\n",
       " 'estimator__columntransformer__num',\n",
       " 'estimator__columntransformer__num__imputer',\n",
       " 'estimator__columntransformer__num__imputer__add_indicator',\n",
       " 'estimator__columntransformer__num__imputer__copy',\n",
       " 'estimator__columntransformer__num__imputer__fill_value',\n",
       " 'estimator__columntransformer__num__imputer__missing_values',\n",
       " 'estimator__columntransformer__num__imputer__strategy',\n",
       " 'estimator__columntransformer__num__imputer__verbose',\n",
       " 'estimator__columntransformer__num__memory',\n",
       " 'estimator__columntransformer__num__std_scaler',\n",
       " 'estimator__columntransformer__num__std_scaler__copy',\n",
       " 'estimator__columntransformer__num__std_scaler__with_mean',\n",
       " 'estimator__columntransformer__num__std_scaler__with_std',\n",
       " 'estimator__columntransformer__num__steps',\n",
       " 'estimator__columntransformer__num__verbose',\n",
       " 'estimator__columntransformer__remainder',\n",
       " 'estimator__columntransformer__sparse_threshold',\n",
       " 'estimator__columntransformer__transformer_weights',\n",
       " 'estimator__columntransformer__transformers',\n",
       " 'estimator__columntransformer__verbose',\n",
       " 'estimator__columntransformer__verbose_feature_names_out',\n",
       " 'estimator__memory',\n",
       " 'estimator__randomsurvivalforest',\n",
       " 'estimator__randomsurvivalforest__bootstrap',\n",
       " 'estimator__randomsurvivalforest__max_depth',\n",
       " 'estimator__randomsurvivalforest__max_features',\n",
       " 'estimator__randomsurvivalforest__max_leaf_nodes',\n",
       " 'estimator__randomsurvivalforest__max_samples',\n",
       " 'estimator__randomsurvivalforest__min_samples_leaf',\n",
       " 'estimator__randomsurvivalforest__min_samples_split',\n",
       " 'estimator__randomsurvivalforest__min_weight_fraction_leaf',\n",
       " 'estimator__randomsurvivalforest__n_estimators',\n",
       " 'estimator__randomsurvivalforest__n_jobs',\n",
       " 'estimator__randomsurvivalforest__oob_score',\n",
       " 'estimator__randomsurvivalforest__random_state',\n",
       " 'estimator__randomsurvivalforest__verbose',\n",
       " 'estimator__randomsurvivalforest__warm_start',\n",
       " 'estimator__steps',\n",
       " 'estimator__verbose',\n",
       " 'tied_tol',\n",
       " 'times']"
      ]
     },
     "execution_count": 92,
     "metadata": {},
     "output_type": "execute_result"
    }
   ],
   "source": [
    "# Find all pipe item unique keys \n",
    "pipe = make_pipeline(preprocessor_red, RandomSurvivalForest(n_estimators = 50,\n",
    "                                                            verbose = 0,\n",
    "                                                            random_state = 42))\n",
    "\n",
    "estimator = as_cumulative_dynamic_auc_scorer(pipe, times = [730])\n",
    "\n",
    "sorted(estimator.get_params().keys())"
   ]
  },
  {
   "cell_type": "code",
   "execution_count": 93,
   "id": "3f2f71ba",
   "metadata": {},
   "outputs": [
    {
     "name": "stdout",
     "output_type": "stream",
     "text": [
      "n_iterations: 3\n",
      "n_required_iterations: 3\n",
      "n_possible_iterations: 3\n",
      "min_resources_: 2500\n",
      "max_resources_: 15141\n",
      "aggressive_elimination: False\n",
      "factor: 2\n",
      "----------\n",
      "iter: 0\n",
      "n_candidates: 6\n",
      "n_resources: 2500\n",
      "Fitting 3 folds for each of 6 candidates, totalling 18 fits\n",
      "----------\n",
      "iter: 1\n",
      "n_candidates: 3\n",
      "n_resources: 5000\n",
      "Fitting 3 folds for each of 3 candidates, totalling 9 fits\n",
      "----------\n",
      "iter: 2\n",
      "n_candidates: 2\n",
      "n_resources: 10000\n",
      "Fitting 3 folds for each of 2 candidates, totalling 6 fits\n"
     ]
    },
    {
     "data": {
      "text/plain": [
       "HalvingRandomSearchCV(cv=StratifiedKFold(n_splits=3, random_state=42, shuffle=True),\n",
       "                      estimator=as_cumulative_dynamic_auc_scorer(estimator=Pipeline(steps=[('columntransformer',\n",
       "                                                                                            ColumnTransformer(remainder='passthrough',\n",
       "                                                                                                              transformers=[('num',\n",
       "                                                                                                                             Pipeline(steps=[('imputer',\n",
       "                                                                                                                                              SimpleImputer(strategy='median')),\n",
       "                                                                                                                                             ('std_scaler',\n",
       "                                                                                                                                              StandardScaler())]),\n",
       "                                                                                                                             ['age',\n",
       "                                                                                                                              'PSADiagnosis...\n",
       "                                                                                                                              'ecog_diagnosis',\n",
       "                                                                                                                              'prim_treatment'])])),\n",
       "                                                                                           ('randomsurvivalforest',\n",
       "                                                                                            RandomSurvivalForest(n_estimators=50,\n",
       "                                                                                                                 random_state=42))]),\n",
       "                                                                 times=730),\n",
       "                      factor=2, min_resources=2500, n_jobs=-1,\n",
       "                      param_distributions={'estimator__randomsurvivalforest__max_features': [0.01,\n",
       "                                                                                             0.05,\n",
       "                                                                                             0.1,\n",
       "                                                                                             0.333],\n",
       "                                           'estimator__randomsurvivalforest__min_samples_leaf': [5,\n",
       "                                                                                                 10,\n",
       "                                                                                                 15]},\n",
       "                      random_state=42, refit=False, verbose=1)"
      ]
     },
     "execution_count": 93,
     "metadata": {},
     "output_type": "execute_result"
    }
   ],
   "source": [
    "pipe = make_pipeline(preprocessor_red, RandomSurvivalForest(n_estimators = 50,\n",
    "                                                            verbose = 0,\n",
    "                                                            random_state = 42))\n",
    "\n",
    "# 3 fold cross-validation\n",
    "cv = StratifiedKFold(n_splits = 3, shuffle = True, random_state = 42)\n",
    "\n",
    "# Parameter gird \n",
    "param_grid = {'estimator__randomsurvivalforest__max_features': [0.01, 0.05, 0.1, 0.333], \n",
    "              'estimator__randomsurvivalforest__min_samples_leaf': [5, 10, 15]}\n",
    "\n",
    "rsf_search = HalvingRandomSearchCV(\n",
    "    as_cumulative_dynamic_auc_scorer(pipe, 730),\n",
    "    param_distributions = param_grid,\n",
    "    cv = cv,\n",
    "    factor = 2,\n",
    "    resource = 'n_samples',\n",
    "    min_resources = 2500,\n",
    "    refit = False,\n",
    "    verbose = 1,\n",
    "    random_state = 42,\n",
    "    n_jobs = -1)\n",
    "\n",
    "# Run search \n",
    "warnings.filterwarnings('ignore')\n",
    "rsf_search.fit(train_x_red, train_y)"
   ]
  },
  {
   "cell_type": "code",
   "execution_count": 94,
   "id": "155af85e",
   "metadata": {},
   "outputs": [
    {
     "data": {
      "text/plain": [
       "{'estimator__randomsurvivalforest__min_samples_leaf': 15,\n",
       " 'estimator__randomsurvivalforest__max_features': 0.1}"
      ]
     },
     "execution_count": 94,
     "metadata": {},
     "output_type": "execute_result"
    }
   ],
   "source": [
    "rsf_search.best_params_"
   ]
  },
  {
   "cell_type": "markdown",
   "id": "23b0cc48",
   "metadata": {},
   "source": [
    "### 3.3 Building model and assessing performance"
   ]
  },
  {
   "cell_type": "code",
   "execution_count": 96,
   "id": "25126fce",
   "metadata": {},
   "outputs": [
    {
     "data": {
      "text/plain": [
       "Pipeline(steps=[('columntransformer',\n",
       "                 ColumnTransformer(remainder='passthrough',\n",
       "                                   transformers=[('num',\n",
       "                                                  Pipeline(steps=[('imputer',\n",
       "                                                                   SimpleImputer(strategy='median')),\n",
       "                                                                  ('std_scaler',\n",
       "                                                                   StandardScaler())]),\n",
       "                                                  ['age', 'PSADiagnosis',\n",
       "                                                   'PSAMetDiagnosis',\n",
       "                                                   'delta_met_diagnosis',\n",
       "                                                   'crpc_time', 'weight_diag',\n",
       "                                                   'bmi_diag',\n",
       "                                                   'weight_pct_change',\n",
       "                                                   'weight_slope',\n",
       "                                                   'albumin_diag', 'alp_d...\n",
       "                                                   'alt_max', 'ast_max',\n",
       "                                                   'calcium_max',\n",
       "                                                   'creatinine_max', ...]),\n",
       "                                                 ('cat',\n",
       "                                                  OneHotEncoder(handle_unknown='ignore'),\n",
       "                                                  ['Gender', 'p_type', 'NStage',\n",
       "                                                   'MStage', 'Histology',\n",
       "                                                   'GleasonScore', 'stage',\n",
       "                                                   'met_year', 'brca_status',\n",
       "                                                   'ecog_diagnosis',\n",
       "                                                   'prim_treatment'])])),\n",
       "                ('randomsurvivalforest',\n",
       "                 RandomSurvivalForest(max_features=0.1, min_samples_leaf=15,\n",
       "                                      n_estimators=50, n_jobs=-1,\n",
       "                                      random_state=42))])"
      ]
     },
     "execution_count": 96,
     "metadata": {},
     "output_type": "execute_result"
    }
   ],
   "source": [
    "rsf = make_pipeline(preprocessor_red, RandomSurvivalForest(n_estimators = 50,\n",
    "                                                           max_features = 0.1, \n",
    "                                                           min_samples_leaf = 15,\n",
    "                                                           n_jobs = -1,\n",
    "                                                           verbose = 0,\n",
    "                                                           random_state = 42))\n",
    "\n",
    "rsf.fit(train_x_red, train_y)"
   ]
  },
  {
   "cell_type": "code",
   "execution_count": 97,
   "id": "5c31cc2e",
   "metadata": {},
   "outputs": [
    {
     "name": "stdout",
     "output_type": "stream",
     "text": [
      "Test set AUC at 2 years: 0.7471072722614333\n"
     ]
    }
   ],
   "source": [
    "rsf_chf_funcs_te = rsf.predict_cumulative_hazard_function(test_x_red)\n",
    "rsf_risk_scores_te = np.row_stack([chf(730) for chf in rsf_chf_funcs_te])\n",
    "rsf_auc_te = cumulative_dynamic_auc(train_y, test_y, rsf_risk_scores_te, 730)[0][0]\n",
    "print('Test set AUC at 2 years:', rsf_auc_te)"
   ]
  },
  {
   "cell_type": "code",
   "execution_count": 98,
   "id": "d45a1491",
   "metadata": {},
   "outputs": [
    {
     "name": "stdout",
     "output_type": "stream",
     "text": [
      "Training set AUC at 2 years: 0.8355882884822898\n"
     ]
    }
   ],
   "source": [
    "rsf_chf_funcs_tr = rsf.predict_cumulative_hazard_function(train_x_red)\n",
    "rsf_risk_scores_tr = np.row_stack([chf(730) for chf in rsf_chf_funcs_tr])\n",
    "rsf_auc_tr = cumulative_dynamic_auc(train_y, train_y, rsf_risk_scores_tr, 730)[0][0]\n",
    "print('Training set AUC at 2 years:', rsf_auc_tr)"
   ]
  },
  {
   "cell_type": "code",
   "execution_count": 99,
   "id": "f6703658",
   "metadata": {},
   "outputs": [],
   "source": [
    "# Bootstrap 10000 2 yr AUCs for test set \n",
    "n_bootstraps = 10000\n",
    "rng_seed = 42 \n",
    "bootstrapped_scores_te = []\n",
    "\n",
    "rng = np.random.RandomState(rng_seed)\n",
    "for i in range(n_bootstraps):\n",
    "    indices = rng.randint(0, len(rsf_risk_scores_te), len(rsf_risk_scores_te))\n",
    "    auc_yr = cumulative_dynamic_auc(train_y, test_y[indices], rsf_risk_scores_te[indices], 730)[0][0]\n",
    "    bootstrapped_scores_te.append(auc_yr)"
   ]
  },
  {
   "cell_type": "code",
   "execution_count": 100,
   "id": "37d90ee8",
   "metadata": {},
   "outputs": [
    {
     "name": "stdout",
     "output_type": "stream",
     "text": [
      "Test set AUC standard error: 0.009631374083179848\n"
     ]
    }
   ],
   "source": [
    "# Standard error of mean for test set AUC\n",
    "sorted_scores_te = np.array(bootstrapped_scores_te)\n",
    "sorted_scores_te.sort()\n",
    "\n",
    "conf_lower_te = sorted_scores_te[int(0.025 * len(sorted_scores_te))]\n",
    "conf_upper_te = sorted_scores_te[int(0.975 * len(sorted_scores_te))]\n",
    "\n",
    "standard_error_te = (conf_upper_te - conf_lower_te) / 3.92\n",
    "print('Test set AUC standard error:', standard_error_te)"
   ]
  },
  {
   "cell_type": "code",
   "execution_count": 101,
   "id": "8bb5ef19",
   "metadata": {},
   "outputs": [],
   "source": [
    "# Bootstrap 10000 2-yr AUCs for train set \n",
    "n_bootstraps = 10000\n",
    "rng_seed = 42 \n",
    "bootstrapped_scores_tr = []\n",
    "\n",
    "rng = np.random.RandomState(rng_seed)\n",
    "for i in range(n_bootstraps):\n",
    "    indices = rng.randint(0, len(rsf_risk_scores_tr), len(rsf_risk_scores_tr))\n",
    "    auc_yr = cumulative_dynamic_auc(train_y, train_y[indices], rsf_risk_scores_tr[indices], 730)[0][0]\n",
    "    bootstrapped_scores_tr.append(auc_yr)"
   ]
  },
  {
   "cell_type": "code",
   "execution_count": 102,
   "id": "1cb44d38",
   "metadata": {},
   "outputs": [
    {
     "name": "stdout",
     "output_type": "stream",
     "text": [
      "Training set AUC standard error 0.00391367264197353\n"
     ]
    }
   ],
   "source": [
    "# Standard error of mean for train set AUC\n",
    "sorted_scores_tr = np.array(bootstrapped_scores_tr)\n",
    "sorted_scores_tr.sort()\n",
    "\n",
    "conf_lower_tr = sorted_scores_tr[int(0.025 * len(sorted_scores_tr))]\n",
    "conf_upper_tr = sorted_scores_tr[int(0.975 * len(sorted_scores_tr))]\n",
    "\n",
    "standard_error_tr = (conf_upper_tr - conf_lower_tr) / 3.92\n",
    "print('Training set AUC standard error', standard_error_tr)"
   ]
  },
  {
   "cell_type": "code",
   "execution_count": 103,
   "id": "6dc9287a",
   "metadata": {},
   "outputs": [],
   "source": [
    "crude_auc_data = {'model': 'rsf_crude',\n",
    "                  'auc_2yr_te': rsf_auc_te,\n",
    "                  'sem_te': standard_error_te,\n",
    "                  'auc_2yr_tr': rsf_auc_tr,\n",
    "                  'sem_tr': standard_error_tr}"
   ]
  },
  {
   "cell_type": "code",
   "execution_count": 104,
   "id": "218a27a4",
   "metadata": {},
   "outputs": [],
   "source": [
    "crude_auc_df = pd.read_csv('crude_auc_df.csv')"
   ]
  },
  {
   "cell_type": "code",
   "execution_count": 105,
   "id": "b037f3bf",
   "metadata": {},
   "outputs": [],
   "source": [
    "crude_auc_df = crude_auc_df.append(crude_auc_data, ignore_index = True)"
   ]
  },
  {
   "cell_type": "code",
   "execution_count": 106,
   "id": "e725e6f8",
   "metadata": {},
   "outputs": [
    {
     "data": {
      "text/html": [
       "<div>\n",
       "<style scoped>\n",
       "    .dataframe tbody tr th:only-of-type {\n",
       "        vertical-align: middle;\n",
       "    }\n",
       "\n",
       "    .dataframe tbody tr th {\n",
       "        vertical-align: top;\n",
       "    }\n",
       "\n",
       "    .dataframe thead th {\n",
       "        text-align: right;\n",
       "    }\n",
       "</style>\n",
       "<table border=\"1\" class=\"dataframe\">\n",
       "  <thead>\n",
       "    <tr style=\"text-align: right;\">\n",
       "      <th></th>\n",
       "      <th>model</th>\n",
       "      <th>auc_2yr_te</th>\n",
       "      <th>sem_te</th>\n",
       "      <th>auc_2yr_tr</th>\n",
       "      <th>sem_tr</th>\n",
       "    </tr>\n",
       "  </thead>\n",
       "  <tbody>\n",
       "    <tr>\n",
       "      <th>0</th>\n",
       "      <td>gbm_crude</td>\n",
       "      <td>0.754326</td>\n",
       "      <td>0.009489</td>\n",
       "      <td>0.784849</td>\n",
       "      <td>0.004590</td>\n",
       "    </tr>\n",
       "    <tr>\n",
       "      <th>1</th>\n",
       "      <td>rsf_crude</td>\n",
       "      <td>0.747107</td>\n",
       "      <td>0.009631</td>\n",
       "      <td>0.835588</td>\n",
       "      <td>0.003914</td>\n",
       "    </tr>\n",
       "  </tbody>\n",
       "</table>\n",
       "</div>"
      ],
      "text/plain": [
       "       model  auc_2yr_te    sem_te  auc_2yr_tr    sem_tr\n",
       "0  gbm_crude    0.754326  0.009489    0.784849  0.004590\n",
       "1  rsf_crude    0.747107  0.009631    0.835588  0.003914"
      ]
     },
     "execution_count": 106,
     "metadata": {},
     "output_type": "execute_result"
    }
   ],
   "source": [
    "crude_auc_df"
   ]
  },
  {
   "cell_type": "code",
   "execution_count": 107,
   "id": "21e444e2",
   "metadata": {},
   "outputs": [],
   "source": [
    "crude_auc_df.to_csv('crude_auc_df.csv', index = False, header = True)"
   ]
  },
  {
   "cell_type": "code",
   "execution_count": 108,
   "id": "30708d2f",
   "metadata": {},
   "outputs": [],
   "source": [
    "times = np.arange(30, 1810, 30)\n",
    "\n",
    "rsf_chf_funcs_te = rsf.predict_cumulative_hazard_function(test_x_red)\n",
    "rsf_risk_scores_te = np.row_stack([chf(times) for chf in rsf_chf_funcs_te])\n",
    "crude_rsf_auc_over5 = cumulative_dynamic_auc(train_y, test_y, rsf_risk_scores_te, times)[0]\n",
    "\n",
    "times_data = {}\n",
    "values = crude_rsf_auc_over5\n",
    "time_names = []\n",
    "\n",
    "for x in range(len(times)):\n",
    "    time_names.append('time_'+str(times[x]))\n",
    "\n",
    "for i in range(len(time_names)):\n",
    "    times_data[time_names[i]] = values[i]\n",
    "    \n",
    "crude_rsf_over5_df = pd.DataFrame(times_data, index = ['rsf_crude'])"
   ]
  },
  {
   "cell_type": "code",
   "execution_count": 109,
   "id": "913f10ac",
   "metadata": {},
   "outputs": [],
   "source": [
    "crude_auc_over5 = pd.read_csv('crude_auc_over5.csv', index_col = 0)"
   ]
  },
  {
   "cell_type": "code",
   "execution_count": 110,
   "id": "b3fdc779",
   "metadata": {},
   "outputs": [],
   "source": [
    "crude_auc_over5 = crude_auc_over5.append(crude_rsf_over5_df, ignore_index = False)"
   ]
  },
  {
   "cell_type": "code",
   "execution_count": 111,
   "id": "8ae6efda",
   "metadata": {},
   "outputs": [
    {
     "data": {
      "text/html": [
       "<div>\n",
       "<style scoped>\n",
       "    .dataframe tbody tr th:only-of-type {\n",
       "        vertical-align: middle;\n",
       "    }\n",
       "\n",
       "    .dataframe tbody tr th {\n",
       "        vertical-align: top;\n",
       "    }\n",
       "\n",
       "    .dataframe thead th {\n",
       "        text-align: right;\n",
       "    }\n",
       "</style>\n",
       "<table border=\"1\" class=\"dataframe\">\n",
       "  <thead>\n",
       "    <tr style=\"text-align: right;\">\n",
       "      <th></th>\n",
       "      <th>time_30</th>\n",
       "      <th>time_60</th>\n",
       "      <th>time_90</th>\n",
       "      <th>time_120</th>\n",
       "      <th>time_150</th>\n",
       "      <th>time_180</th>\n",
       "      <th>time_210</th>\n",
       "      <th>time_240</th>\n",
       "      <th>time_270</th>\n",
       "      <th>time_300</th>\n",
       "      <th>...</th>\n",
       "      <th>time_1530</th>\n",
       "      <th>time_1560</th>\n",
       "      <th>time_1590</th>\n",
       "      <th>time_1620</th>\n",
       "      <th>time_1650</th>\n",
       "      <th>time_1680</th>\n",
       "      <th>time_1710</th>\n",
       "      <th>time_1740</th>\n",
       "      <th>time_1770</th>\n",
       "      <th>time_1800</th>\n",
       "    </tr>\n",
       "  </thead>\n",
       "  <tbody>\n",
       "    <tr>\n",
       "      <th>gbm_crude</th>\n",
       "      <td>0.939989</td>\n",
       "      <td>0.879690</td>\n",
       "      <td>0.847818</td>\n",
       "      <td>0.843958</td>\n",
       "      <td>0.847837</td>\n",
       "      <td>0.840647</td>\n",
       "      <td>0.814709</td>\n",
       "      <td>0.819052</td>\n",
       "      <td>0.812366</td>\n",
       "      <td>0.808159</td>\n",
       "      <td>...</td>\n",
       "      <td>0.753889</td>\n",
       "      <td>0.752263</td>\n",
       "      <td>0.749549</td>\n",
       "      <td>0.752131</td>\n",
       "      <td>0.751861</td>\n",
       "      <td>0.750556</td>\n",
       "      <td>0.753784</td>\n",
       "      <td>0.753390</td>\n",
       "      <td>0.758921</td>\n",
       "      <td>0.754951</td>\n",
       "    </tr>\n",
       "    <tr>\n",
       "      <th>rsf_crude</th>\n",
       "      <td>0.943321</td>\n",
       "      <td>0.859619</td>\n",
       "      <td>0.836860</td>\n",
       "      <td>0.831707</td>\n",
       "      <td>0.839734</td>\n",
       "      <td>0.835625</td>\n",
       "      <td>0.814617</td>\n",
       "      <td>0.818675</td>\n",
       "      <td>0.810828</td>\n",
       "      <td>0.804644</td>\n",
       "      <td>...</td>\n",
       "      <td>0.746811</td>\n",
       "      <td>0.745353</td>\n",
       "      <td>0.743979</td>\n",
       "      <td>0.745775</td>\n",
       "      <td>0.747025</td>\n",
       "      <td>0.745861</td>\n",
       "      <td>0.751090</td>\n",
       "      <td>0.748565</td>\n",
       "      <td>0.751606</td>\n",
       "      <td>0.747241</td>\n",
       "    </tr>\n",
       "  </tbody>\n",
       "</table>\n",
       "<p>2 rows × 60 columns</p>\n",
       "</div>"
      ],
      "text/plain": [
       "            time_30   time_60   time_90  time_120  time_150  time_180  \\\n",
       "gbm_crude  0.939989  0.879690  0.847818  0.843958  0.847837  0.840647   \n",
       "rsf_crude  0.943321  0.859619  0.836860  0.831707  0.839734  0.835625   \n",
       "\n",
       "           time_210  time_240  time_270  time_300  ...  time_1530  time_1560  \\\n",
       "gbm_crude  0.814709  0.819052  0.812366  0.808159  ...   0.753889   0.752263   \n",
       "rsf_crude  0.814617  0.818675  0.810828  0.804644  ...   0.746811   0.745353   \n",
       "\n",
       "           time_1590  time_1620  time_1650  time_1680  time_1710  time_1740  \\\n",
       "gbm_crude   0.749549   0.752131   0.751861   0.750556   0.753784   0.753390   \n",
       "rsf_crude   0.743979   0.745775   0.747025   0.745861   0.751090   0.748565   \n",
       "\n",
       "           time_1770  time_1800  \n",
       "gbm_crude   0.758921   0.754951  \n",
       "rsf_crude   0.751606   0.747241  \n",
       "\n",
       "[2 rows x 60 columns]"
      ]
     },
     "execution_count": 111,
     "metadata": {},
     "output_type": "execute_result"
    }
   ],
   "source": [
    "crude_auc_over5"
   ]
  },
  {
   "cell_type": "code",
   "execution_count": 112,
   "id": "0fe86e77",
   "metadata": {},
   "outputs": [],
   "source": [
    "crude_auc_over5.to_csv('crude_auc_over5.csv', index = True, header = True)"
   ]
  },
  {
   "cell_type": "markdown",
   "id": "2a214b68",
   "metadata": {},
   "source": [
    "**No feature importance attribute is available at this time for the random survival forest model.**\n",
    "\n",
    "**The gradient survival model outperforms the random survival forest in regards to test set 2 year AUC.**"
   ]
  },
  {
   "cell_type": "markdown",
   "id": "192b32b8",
   "metadata": {},
   "source": [
    "## 4. Penalized Cox models "
   ]
  },
  {
   "cell_type": "markdown",
   "id": "354d9c48",
   "metadata": {},
   "source": [
    "**The next group of models we'll build is the penalized Cox variety which includes ridge, LASSO, and elastic net. The main challenge will be selecting the strength of the alpha penalty for each model. The penalty will be determined by performing a grid search with cross-validation.**"
   ]
  },
  {
   "cell_type": "code",
   "execution_count": 113,
   "id": "921782bd",
   "metadata": {},
   "outputs": [],
   "source": [
    "from sklearn.model_selection import StratifiedKFold, GridSearchCV\n",
    "from sklearn.pipeline import make_pipeline\n",
    "from sklearn.metrics import make_scorer\n",
    "\n",
    "from sksurv.linear_model import CoxPHSurvivalAnalysis, CoxnetSurvivalAnalysis\n",
    "from sksurv.metrics import cumulative_dynamic_auc, as_cumulative_dynamic_auc_scorer\n",
    "\n",
    "import warnings \n",
    "\n",
    "import matplotlib.pyplot as plt"
   ]
  },
  {
   "cell_type": "markdown",
   "id": "0a6baeca",
   "metadata": {},
   "source": [
    "### 4.1 Ridge"
   ]
  },
  {
   "cell_type": "code",
   "execution_count": 114,
   "id": "da717c19",
   "metadata": {},
   "outputs": [
    {
     "data": {
      "text/plain": [
       "['estimator',\n",
       " 'estimator__columntransformer',\n",
       " 'estimator__columntransformer__cat',\n",
       " 'estimator__columntransformer__cat__categories',\n",
       " 'estimator__columntransformer__cat__drop',\n",
       " 'estimator__columntransformer__cat__dtype',\n",
       " 'estimator__columntransformer__cat__handle_unknown',\n",
       " 'estimator__columntransformer__cat__sparse',\n",
       " 'estimator__columntransformer__n_jobs',\n",
       " 'estimator__columntransformer__num',\n",
       " 'estimator__columntransformer__num__imputer',\n",
       " 'estimator__columntransformer__num__imputer__add_indicator',\n",
       " 'estimator__columntransformer__num__imputer__copy',\n",
       " 'estimator__columntransformer__num__imputer__fill_value',\n",
       " 'estimator__columntransformer__num__imputer__missing_values',\n",
       " 'estimator__columntransformer__num__imputer__strategy',\n",
       " 'estimator__columntransformer__num__imputer__verbose',\n",
       " 'estimator__columntransformer__num__memory',\n",
       " 'estimator__columntransformer__num__std_scaler',\n",
       " 'estimator__columntransformer__num__std_scaler__copy',\n",
       " 'estimator__columntransformer__num__std_scaler__with_mean',\n",
       " 'estimator__columntransformer__num__std_scaler__with_std',\n",
       " 'estimator__columntransformer__num__steps',\n",
       " 'estimator__columntransformer__num__verbose',\n",
       " 'estimator__columntransformer__remainder',\n",
       " 'estimator__columntransformer__sparse_threshold',\n",
       " 'estimator__columntransformer__transformer_weights',\n",
       " 'estimator__columntransformer__transformers',\n",
       " 'estimator__columntransformer__verbose',\n",
       " 'estimator__columntransformer__verbose_feature_names_out',\n",
       " 'estimator__coxphsurvivalanalysis',\n",
       " 'estimator__coxphsurvivalanalysis__alpha',\n",
       " 'estimator__coxphsurvivalanalysis__n_iter',\n",
       " 'estimator__coxphsurvivalanalysis__ties',\n",
       " 'estimator__coxphsurvivalanalysis__tol',\n",
       " 'estimator__coxphsurvivalanalysis__verbose',\n",
       " 'estimator__memory',\n",
       " 'estimator__steps',\n",
       " 'estimator__verbose',\n",
       " 'tied_tol',\n",
       " 'times']"
      ]
     },
     "execution_count": 114,
     "metadata": {},
     "output_type": "execute_result"
    }
   ],
   "source": [
    "# Find all pipe item unique keys \n",
    "pipe = make_pipeline(preprocessor_red, CoxPHSurvivalAnalysis())\n",
    "\n",
    "estimator = as_cumulative_dynamic_auc_scorer(pipe, times = [730])\n",
    "\n",
    "sorted(estimator.get_params().keys())"
   ]
  },
  {
   "cell_type": "code",
   "execution_count": 115,
   "id": "3777a304",
   "metadata": {},
   "outputs": [
    {
     "data": {
      "text/plain": [
       "GridSearchCV(cv=StratifiedKFold(n_splits=5, random_state=42, shuffle=True),\n",
       "             estimator=as_cumulative_dynamic_auc_scorer(estimator=Pipeline(steps=[('columntransformer',\n",
       "                                                                                   ColumnTransformer(remainder='passthrough',\n",
       "                                                                                                     transformers=[('num',\n",
       "                                                                                                                    Pipeline(steps=[('imputer',\n",
       "                                                                                                                                     SimpleImputer(strategy='median')),\n",
       "                                                                                                                                    ('std_scaler',\n",
       "                                                                                                                                     StandardScaler())]),\n",
       "                                                                                                                    ['age',\n",
       "                                                                                                                     'PSADiagnosis',\n",
       "                                                                                                                     'PSAMet...\n",
       "             param_grid={'estimator__coxphsurvivalanalysis__alpha': array([1.00000000e-04, 2.15443469e-04, 4.64158883e-04, 1.00000000e-03,\n",
       "       2.15443469e-03, 4.64158883e-03, 1.00000000e-02, 2.15443469e-02,\n",
       "       4.64158883e-02, 1.00000000e-01, 2.15443469e-01, 4.64158883e-01,\n",
       "       1.00000000e+00, 2.15443469e+00, 4.64158883e+00, 1.00000000e+01,\n",
       "       2.15443469e+01, 4.64158883e+01, 1.00000000e+02, 2.15443469e+02,\n",
       "       4.64158883e+02, 1.00000000e+03, 2.15443469e+03, 4.64158883e+03,\n",
       "       1.00000000e+04])},\n",
       "             refit=False)"
      ]
     },
     "execution_count": 115,
     "metadata": {},
     "output_type": "execute_result"
    }
   ],
   "source": [
    "pipe = make_pipeline(preprocessor_red, CoxPHSurvivalAnalysis())\n",
    "\n",
    "# 5 fold cross-validation\n",
    "cv = StratifiedKFold(n_splits = 5, shuffle = True, random_state = 42)\n",
    "\n",
    "# Parameter gird \n",
    "param_grid = {'estimator__coxphsurvivalanalysis__alpha': 10. ** np.linspace(-4, 4, 25)}\n",
    "\n",
    "ridge_search = GridSearchCV(\n",
    "    as_cumulative_dynamic_auc_scorer(pipe, 730),\n",
    "    param_grid = param_grid,\n",
    "    cv = cv,\n",
    "    n_jobs = -1,\n",
    "    refit = False)\n",
    "\n",
    "# Run search \n",
    "warnings.filterwarnings('ignore')\n",
    "ridge_search.fit(train_x_red, train_y)"
   ]
  },
  {
   "cell_type": "code",
   "execution_count": 116,
   "id": "2a0715ee",
   "metadata": {},
   "outputs": [
    {
     "data": {
      "text/plain": [
       "{'estimator__coxphsurvivalanalysis__alpha': 46.41588833612773}"
      ]
     },
     "execution_count": 116,
     "metadata": {},
     "output_type": "execute_result"
    }
   ],
   "source": [
    "ridge_search.best_params_"
   ]
  },
  {
   "cell_type": "code",
   "execution_count": 117,
   "id": "e766d434",
   "metadata": {},
   "outputs": [],
   "source": [
    "best_ridge_alpha = ridge_search.best_params_.get('estimator__coxphsurvivalanalysis__alpha')"
   ]
  },
  {
   "cell_type": "code",
   "execution_count": 118,
   "id": "6b95c162",
   "metadata": {},
   "outputs": [
    {
     "data": {
      "text/plain": [
       "Pipeline(steps=[('columntransformer',\n",
       "                 ColumnTransformer(remainder='passthrough',\n",
       "                                   transformers=[('num',\n",
       "                                                  Pipeline(steps=[('imputer',\n",
       "                                                                   SimpleImputer(strategy='median')),\n",
       "                                                                  ('std_scaler',\n",
       "                                                                   StandardScaler())]),\n",
       "                                                  ['age', 'PSADiagnosis',\n",
       "                                                   'PSAMetDiagnosis',\n",
       "                                                   'delta_met_diagnosis',\n",
       "                                                   'crpc_time', 'weight_diag',\n",
       "                                                   'bmi_diag',\n",
       "                                                   'weight_pct_change',\n",
       "                                                   'weight_slope',\n",
       "                                                   'albumin_diag', 'alp_d...\n",
       "                                                   'total_bilirubin_diag',\n",
       "                                                   'wbc_diag', 'alp_max',\n",
       "                                                   'alt_max', 'ast_max',\n",
       "                                                   'calcium_max',\n",
       "                                                   'creatinine_max', ...]),\n",
       "                                                 ('cat',\n",
       "                                                  OneHotEncoder(handle_unknown='ignore'),\n",
       "                                                  ['Gender', 'p_type', 'NStage',\n",
       "                                                   'MStage', 'Histology',\n",
       "                                                   'GleasonScore', 'stage',\n",
       "                                                   'met_year', 'brca_status',\n",
       "                                                   'ecog_diagnosis',\n",
       "                                                   'prim_treatment'])])),\n",
       "                ('coxphsurvivalanalysis',\n",
       "                 CoxPHSurvivalAnalysis(alpha=46.41588833612773))])"
      ]
     },
     "execution_count": 118,
     "metadata": {},
     "output_type": "execute_result"
    }
   ],
   "source": [
    "ridge = make_pipeline(preprocessor_red, CoxPHSurvivalAnalysis(alpha = best_ridge_alpha))\n",
    "\n",
    "ridge.fit(train_x_red, train_y)"
   ]
  },
  {
   "cell_type": "code",
   "execution_count": 119,
   "id": "744cabd4",
   "metadata": {},
   "outputs": [
    {
     "name": "stdout",
     "output_type": "stream",
     "text": [
      "Test set AUC at 2 years: 0.7394991460860104\n"
     ]
    }
   ],
   "source": [
    "ridge_risk_scores_te = ridge.predict(test_x_red)\n",
    "ridge_auc_te = cumulative_dynamic_auc(train_y, test_y, ridge_risk_scores_te, 730)[0][0]\n",
    "print('Test set AUC at 2 years:', ridge_auc_te)"
   ]
  },
  {
   "cell_type": "code",
   "execution_count": 120,
   "id": "ccacb873",
   "metadata": {},
   "outputs": [
    {
     "name": "stdout",
     "output_type": "stream",
     "text": [
      "Training set AUC at 2 years: 0.7432807141238957\n"
     ]
    }
   ],
   "source": [
    "ridge_risk_scores_tr = ridge.predict(train_x_red)\n",
    "ridge_auc_tr = cumulative_dynamic_auc(train_y, train_y, ridge_risk_scores_tr, 730)[0][0]\n",
    "print('Training set AUC at 2 years:', ridge_auc_tr)"
   ]
  },
  {
   "cell_type": "code",
   "execution_count": 121,
   "id": "ee4a4f85",
   "metadata": {},
   "outputs": [],
   "source": [
    "# Bootstrap 10000 2-yr AUCs for test set \n",
    "n_bootstraps = 10000\n",
    "rng_seed = 42 \n",
    "bootstrapped_scores_te = []\n",
    "\n",
    "rng = np.random.RandomState(rng_seed)\n",
    "for i in range(n_bootstraps):\n",
    "    indices = rng.randint(0, len(ridge_risk_scores_te), len(ridge_risk_scores_te))\n",
    "    auc_yr = cumulative_dynamic_auc(train_y, test_y[indices], ridge_risk_scores_te[indices], 730)[0][0]\n",
    "    bootstrapped_scores_te.append(auc_yr)"
   ]
  },
  {
   "cell_type": "code",
   "execution_count": 122,
   "id": "4c7aa0d6",
   "metadata": {},
   "outputs": [
    {
     "name": "stdout",
     "output_type": "stream",
     "text": [
      "Test set AUC standard error: 0.00962872997691207\n"
     ]
    }
   ],
   "source": [
    "# Standard error of mean for test set AUC\n",
    "sorted_scores_te = np.array(bootstrapped_scores_te)\n",
    "sorted_scores_te.sort()\n",
    "\n",
    "conf_lower_te = sorted_scores_te[int(0.025 * len(sorted_scores_te))]\n",
    "conf_upper_te = sorted_scores_te[int(0.975 * len(sorted_scores_te))]\n",
    "\n",
    "standard_error_te = (conf_upper_te - conf_lower_te) / 3.92\n",
    "print('Test set AUC standard error:', standard_error_te)"
   ]
  },
  {
   "cell_type": "code",
   "execution_count": 123,
   "id": "de90bd94",
   "metadata": {},
   "outputs": [],
   "source": [
    "# Bootstrap 10000 2-yr AUCs for train set \n",
    "n_bootstraps = 10000\n",
    "rng_seed = 42 \n",
    "bootstrapped_scores_tr = []\n",
    "\n",
    "rng = np.random.RandomState(rng_seed)\n",
    "for i in range(n_bootstraps):\n",
    "    indices = rng.randint(0, len(ridge_risk_scores_tr), len(ridge_risk_scores_tr))\n",
    "    auc_yr = cumulative_dynamic_auc(train_y, train_y[indices], ridge_risk_scores_tr[indices], 730)[0][0]\n",
    "    bootstrapped_scores_tr.append(auc_yr)"
   ]
  },
  {
   "cell_type": "code",
   "execution_count": 124,
   "id": "739501cd",
   "metadata": {},
   "outputs": [
    {
     "name": "stdout",
     "output_type": "stream",
     "text": [
      "Training set AUC standard error 0.004896938327880796\n"
     ]
    }
   ],
   "source": [
    "# Standard error of mean for train set AUC\n",
    "sorted_scores_tr = np.array(bootstrapped_scores_tr)\n",
    "sorted_scores_tr.sort()\n",
    "\n",
    "conf_lower_tr = sorted_scores_tr[int(0.025 * len(sorted_scores_tr))]\n",
    "conf_upper_tr = sorted_scores_tr[int(0.975 * len(sorted_scores_tr))]\n",
    "\n",
    "standard_error_tr = (conf_upper_tr - conf_lower_tr) / 3.92\n",
    "print('Training set AUC standard error', standard_error_tr)"
   ]
  },
  {
   "cell_type": "code",
   "execution_count": 125,
   "id": "83852b3d",
   "metadata": {},
   "outputs": [],
   "source": [
    "crude_auc_data = {'model': 'ridge_crude',\n",
    "                  'auc_2yr_te': ridge_auc_te,\n",
    "                  'sem_te': standard_error_te,\n",
    "                  'auc_2yr_tr': ridge_auc_tr,\n",
    "                  'sem_tr': standard_error_tr}"
   ]
  },
  {
   "cell_type": "code",
   "execution_count": 126,
   "id": "ef2222db",
   "metadata": {},
   "outputs": [],
   "source": [
    "crude_auc_df = pd.read_csv('crude_auc_df.csv')"
   ]
  },
  {
   "cell_type": "code",
   "execution_count": 127,
   "id": "ff03ca7c",
   "metadata": {},
   "outputs": [],
   "source": [
    "crude_auc_df = crude_auc_df.append(crude_auc_data, ignore_index = True)"
   ]
  },
  {
   "cell_type": "code",
   "execution_count": 128,
   "id": "59b75305",
   "metadata": {},
   "outputs": [
    {
     "data": {
      "text/html": [
       "<div>\n",
       "<style scoped>\n",
       "    .dataframe tbody tr th:only-of-type {\n",
       "        vertical-align: middle;\n",
       "    }\n",
       "\n",
       "    .dataframe tbody tr th {\n",
       "        vertical-align: top;\n",
       "    }\n",
       "\n",
       "    .dataframe thead th {\n",
       "        text-align: right;\n",
       "    }\n",
       "</style>\n",
       "<table border=\"1\" class=\"dataframe\">\n",
       "  <thead>\n",
       "    <tr style=\"text-align: right;\">\n",
       "      <th></th>\n",
       "      <th>model</th>\n",
       "      <th>auc_2yr_te</th>\n",
       "      <th>sem_te</th>\n",
       "      <th>auc_2yr_tr</th>\n",
       "      <th>sem_tr</th>\n",
       "    </tr>\n",
       "  </thead>\n",
       "  <tbody>\n",
       "    <tr>\n",
       "      <th>0</th>\n",
       "      <td>gbm_crude</td>\n",
       "      <td>0.754326</td>\n",
       "      <td>0.009489</td>\n",
       "      <td>0.784849</td>\n",
       "      <td>0.004590</td>\n",
       "    </tr>\n",
       "    <tr>\n",
       "      <th>1</th>\n",
       "      <td>rsf_crude</td>\n",
       "      <td>0.747107</td>\n",
       "      <td>0.009631</td>\n",
       "      <td>0.835588</td>\n",
       "      <td>0.003914</td>\n",
       "    </tr>\n",
       "    <tr>\n",
       "      <th>2</th>\n",
       "      <td>ridge_crude</td>\n",
       "      <td>0.739499</td>\n",
       "      <td>0.009629</td>\n",
       "      <td>0.743281</td>\n",
       "      <td>0.004897</td>\n",
       "    </tr>\n",
       "  </tbody>\n",
       "</table>\n",
       "</div>"
      ],
      "text/plain": [
       "         model  auc_2yr_te    sem_te  auc_2yr_tr    sem_tr\n",
       "0    gbm_crude    0.754326  0.009489    0.784849  0.004590\n",
       "1    rsf_crude    0.747107  0.009631    0.835588  0.003914\n",
       "2  ridge_crude    0.739499  0.009629    0.743281  0.004897"
      ]
     },
     "execution_count": 128,
     "metadata": {},
     "output_type": "execute_result"
    }
   ],
   "source": [
    "crude_auc_df"
   ]
  },
  {
   "cell_type": "code",
   "execution_count": 129,
   "id": "9585f326",
   "metadata": {},
   "outputs": [],
   "source": [
    "crude_auc_df.to_csv('crude_auc_df.csv', index = False, header = True)"
   ]
  },
  {
   "cell_type": "code",
   "execution_count": 130,
   "id": "203140be",
   "metadata": {},
   "outputs": [],
   "source": [
    "times = np.arange(30, 1810, 30)\n",
    "crude_ridge_auc_over5 = cumulative_dynamic_auc(train_y, test_y, ridge_risk_scores_te, times)[0]\n",
    "\n",
    "times_data = {}\n",
    "values = crude_ridge_auc_over5\n",
    "time_names = []\n",
    "\n",
    "for x in range(len(times)):\n",
    "    time_names.append('time_'+str(times[x]))\n",
    "\n",
    "for i in range(len(time_names)):\n",
    "    times_data[time_names[i]] = values[i]\n",
    "    \n",
    "crude_ridge_over5_df = pd.DataFrame(times_data, index = ['ridge_crude'])"
   ]
  },
  {
   "cell_type": "code",
   "execution_count": 131,
   "id": "9efff19e",
   "metadata": {},
   "outputs": [],
   "source": [
    "crude_auc_over5 = pd.read_csv('crude_auc_over5.csv', index_col = 0)"
   ]
  },
  {
   "cell_type": "code",
   "execution_count": 132,
   "id": "99cb28f2",
   "metadata": {},
   "outputs": [],
   "source": [
    "crude_auc_over5 = crude_auc_over5.append(crude_ridge_over5_df, ignore_index = False)"
   ]
  },
  {
   "cell_type": "code",
   "execution_count": 133,
   "id": "a7dccc6d",
   "metadata": {},
   "outputs": [
    {
     "data": {
      "text/html": [
       "<div>\n",
       "<style scoped>\n",
       "    .dataframe tbody tr th:only-of-type {\n",
       "        vertical-align: middle;\n",
       "    }\n",
       "\n",
       "    .dataframe tbody tr th {\n",
       "        vertical-align: top;\n",
       "    }\n",
       "\n",
       "    .dataframe thead th {\n",
       "        text-align: right;\n",
       "    }\n",
       "</style>\n",
       "<table border=\"1\" class=\"dataframe\">\n",
       "  <thead>\n",
       "    <tr style=\"text-align: right;\">\n",
       "      <th></th>\n",
       "      <th>time_30</th>\n",
       "      <th>time_60</th>\n",
       "      <th>time_90</th>\n",
       "      <th>time_120</th>\n",
       "      <th>time_150</th>\n",
       "      <th>time_180</th>\n",
       "      <th>time_210</th>\n",
       "      <th>time_240</th>\n",
       "      <th>time_270</th>\n",
       "      <th>time_300</th>\n",
       "      <th>...</th>\n",
       "      <th>time_1530</th>\n",
       "      <th>time_1560</th>\n",
       "      <th>time_1590</th>\n",
       "      <th>time_1620</th>\n",
       "      <th>time_1650</th>\n",
       "      <th>time_1680</th>\n",
       "      <th>time_1710</th>\n",
       "      <th>time_1740</th>\n",
       "      <th>time_1770</th>\n",
       "      <th>time_1800</th>\n",
       "    </tr>\n",
       "  </thead>\n",
       "  <tbody>\n",
       "    <tr>\n",
       "      <th>gbm_crude</th>\n",
       "      <td>0.939989</td>\n",
       "      <td>0.879690</td>\n",
       "      <td>0.847818</td>\n",
       "      <td>0.843958</td>\n",
       "      <td>0.847837</td>\n",
       "      <td>0.840647</td>\n",
       "      <td>0.814709</td>\n",
       "      <td>0.819052</td>\n",
       "      <td>0.812366</td>\n",
       "      <td>0.808159</td>\n",
       "      <td>...</td>\n",
       "      <td>0.753889</td>\n",
       "      <td>0.752263</td>\n",
       "      <td>0.749549</td>\n",
       "      <td>0.752131</td>\n",
       "      <td>0.751861</td>\n",
       "      <td>0.750556</td>\n",
       "      <td>0.753784</td>\n",
       "      <td>0.753390</td>\n",
       "      <td>0.758921</td>\n",
       "      <td>0.754951</td>\n",
       "    </tr>\n",
       "    <tr>\n",
       "      <th>rsf_crude</th>\n",
       "      <td>0.943321</td>\n",
       "      <td>0.859619</td>\n",
       "      <td>0.836860</td>\n",
       "      <td>0.831707</td>\n",
       "      <td>0.839734</td>\n",
       "      <td>0.835625</td>\n",
       "      <td>0.814617</td>\n",
       "      <td>0.818675</td>\n",
       "      <td>0.810828</td>\n",
       "      <td>0.804644</td>\n",
       "      <td>...</td>\n",
       "      <td>0.746811</td>\n",
       "      <td>0.745353</td>\n",
       "      <td>0.743979</td>\n",
       "      <td>0.745775</td>\n",
       "      <td>0.747025</td>\n",
       "      <td>0.745861</td>\n",
       "      <td>0.751090</td>\n",
       "      <td>0.748565</td>\n",
       "      <td>0.751606</td>\n",
       "      <td>0.747241</td>\n",
       "    </tr>\n",
       "    <tr>\n",
       "      <th>ridge_crude</th>\n",
       "      <td>0.940743</td>\n",
       "      <td>0.853769</td>\n",
       "      <td>0.835408</td>\n",
       "      <td>0.839343</td>\n",
       "      <td>0.842357</td>\n",
       "      <td>0.826953</td>\n",
       "      <td>0.810761</td>\n",
       "      <td>0.811328</td>\n",
       "      <td>0.801389</td>\n",
       "      <td>0.796506</td>\n",
       "      <td>...</td>\n",
       "      <td>0.741939</td>\n",
       "      <td>0.740517</td>\n",
       "      <td>0.738005</td>\n",
       "      <td>0.737660</td>\n",
       "      <td>0.738090</td>\n",
       "      <td>0.738095</td>\n",
       "      <td>0.740362</td>\n",
       "      <td>0.738750</td>\n",
       "      <td>0.743936</td>\n",
       "      <td>0.741682</td>\n",
       "    </tr>\n",
       "  </tbody>\n",
       "</table>\n",
       "<p>3 rows × 60 columns</p>\n",
       "</div>"
      ],
      "text/plain": [
       "              time_30   time_60   time_90  time_120  time_150  time_180  \\\n",
       "gbm_crude    0.939989  0.879690  0.847818  0.843958  0.847837  0.840647   \n",
       "rsf_crude    0.943321  0.859619  0.836860  0.831707  0.839734  0.835625   \n",
       "ridge_crude  0.940743  0.853769  0.835408  0.839343  0.842357  0.826953   \n",
       "\n",
       "             time_210  time_240  time_270  time_300  ...  time_1530  \\\n",
       "gbm_crude    0.814709  0.819052  0.812366  0.808159  ...   0.753889   \n",
       "rsf_crude    0.814617  0.818675  0.810828  0.804644  ...   0.746811   \n",
       "ridge_crude  0.810761  0.811328  0.801389  0.796506  ...   0.741939   \n",
       "\n",
       "             time_1560  time_1590  time_1620  time_1650  time_1680  time_1710  \\\n",
       "gbm_crude     0.752263   0.749549   0.752131   0.751861   0.750556   0.753784   \n",
       "rsf_crude     0.745353   0.743979   0.745775   0.747025   0.745861   0.751090   \n",
       "ridge_crude   0.740517   0.738005   0.737660   0.738090   0.738095   0.740362   \n",
       "\n",
       "             time_1740  time_1770  time_1800  \n",
       "gbm_crude     0.753390   0.758921   0.754951  \n",
       "rsf_crude     0.748565   0.751606   0.747241  \n",
       "ridge_crude   0.738750   0.743936   0.741682  \n",
       "\n",
       "[3 rows x 60 columns]"
      ]
     },
     "execution_count": 133,
     "metadata": {},
     "output_type": "execute_result"
    }
   ],
   "source": [
    "crude_auc_over5"
   ]
  },
  {
   "cell_type": "code",
   "execution_count": 134,
   "id": "6c52ac74",
   "metadata": {},
   "outputs": [],
   "source": [
    "crude_auc_over5.to_csv('crude_auc_over5.csv', index = True, header = True)"
   ]
  },
  {
   "cell_type": "code",
   "execution_count": 135,
   "id": "27876eb7",
   "metadata": {},
   "outputs": [],
   "source": [
    "# Variables passing through pipeline\n",
    "cat_encoder = list(preprocessor_red.transformers_[1][1].get_feature_names(categorical_features))\n",
    "pass_through = list(train_x_red.iloc[:, preprocessor_red.transformers_[2][2]].columns)\n",
    "attributes = numerical_features_red + cat_encoder + pass_through"
   ]
  },
  {
   "cell_type": "code",
   "execution_count": 136,
   "id": "dcbc11f7",
   "metadata": {},
   "outputs": [
    {
     "name": "stdout",
     "output_type": "stream",
     "text": [
      "Total number of features: 184\n",
      "Number of non-zero features in final model: 183\n"
     ]
    },
    {
     "data": {
      "image/png": "[encoded data removed]",
      "text/plain": [
       "<Figure size 600x800 with 1 Axes>"
      ]
     },
     "metadata": {},
     "output_type": "display_data"
    }
   ],
   "source": [
    "# Dataframe of coefficients for each variable \n",
    "coefficients_ridge = pd.DataFrame(\n",
    "    ridge.named_steps['coxphsurvivalanalysis'].coef_,\n",
    "    index = attributes,\n",
    "    columns = ['coefficient']\n",
    ")\n",
    "\n",
    "print('Total number of features: {}'.format(len(attributes)))\n",
    "\n",
    "non_zero = np.sum(coefficients_ridge.iloc[:, 0] != 0)\n",
    "print('Number of non-zero features in final model: {}'.format(non_zero))\n",
    "\n",
    "non_zero_coefs = coefficients_ridge.query('coefficient != 0')\n",
    "coef_order = non_zero_coefs.abs().sort_values('coefficient').tail(30).index\n",
    "\n",
    "_, ax = plt.subplots(figsize=(6, 8))\n",
    "non_zero_coefs.loc[coef_order].plot.barh(ax = ax, legend = False)\n",
    "ax.set_xlabel('coefficient')\n",
    "ax.grid(True)"
   ]
  },
  {
   "cell_type": "markdown",
   "id": "d74ef95b",
   "metadata": {},
   "source": [
    "### 4.2 LASSO"
   ]
  },
  {
   "cell_type": "code",
   "execution_count": 137,
   "id": "149991ef",
   "metadata": {},
   "outputs": [
    {
     "data": {
      "text/plain": [
       "Pipeline(steps=[('columntransformer',\n",
       "                 ColumnTransformer(remainder='passthrough',\n",
       "                                   transformers=[('num',\n",
       "                                                  Pipeline(steps=[('imputer',\n",
       "                                                                   SimpleImputer(strategy='median')),\n",
       "                                                                  ('std_scaler',\n",
       "                                                                   StandardScaler())]),\n",
       "                                                  ['age', 'PSADiagnosis',\n",
       "                                                   'PSAMetDiagnosis',\n",
       "                                                   'delta_met_diagnosis',\n",
       "                                                   'crpc_time', 'weight_diag',\n",
       "                                                   'bmi_diag',\n",
       "                                                   'weight_pct_change',\n",
       "                                                   'weight_slope',\n",
       "                                                   'albumin_diag', 'alp_d...\n",
       "                                                   'total_bilirubin_diag',\n",
       "                                                   'wbc_diag', 'alp_max',\n",
       "                                                   'alt_max', 'ast_max',\n",
       "                                                   'calcium_max',\n",
       "                                                   'creatinine_max', ...]),\n",
       "                                                 ('cat',\n",
       "                                                  OneHotEncoder(handle_unknown='ignore'),\n",
       "                                                  ['Gender', 'p_type', 'NStage',\n",
       "                                                   'MStage', 'Histology',\n",
       "                                                   'GleasonScore', 'stage',\n",
       "                                                   'met_year', 'brca_status',\n",
       "                                                   'ecog_diagnosis',\n",
       "                                                   'prim_treatment'])])),\n",
       "                ('coxnetsurvivalanalysis',\n",
       "                 CoxnetSurvivalAnalysis(alpha_min_ratio=0.0001, l1_ratio=1.0))])"
      ]
     },
     "execution_count": 137,
     "metadata": {},
     "output_type": "execute_result"
    }
   ],
   "source": [
    "lasso = make_pipeline(preprocessor_red, CoxnetSurvivalAnalysis(l1_ratio = 1.0, alpha_min_ratio = 0.0001))\n",
    "\n",
    "lasso.fit(train_x_red, train_y)"
   ]
  },
  {
   "cell_type": "code",
   "execution_count": 138,
   "id": "404be88f",
   "metadata": {},
   "outputs": [],
   "source": [
    "estimated_alphas = lasso.named_steps['coxnetsurvivalanalysis'].alphas_"
   ]
  },
  {
   "cell_type": "code",
   "execution_count": 139,
   "id": "5fcd608b",
   "metadata": {},
   "outputs": [
    {
     "data": {
      "text/plain": [
       "array([1.42234545e-01, 1.29598820e-01, 1.18085618e-01, 1.07595217e-01,\n",
       "       9.80367546e-02, 8.93274395e-02, 8.13918360e-02, 7.41612096e-02,\n",
       "       6.75729321e-02, 6.15699391e-02, 5.61002354e-02, 5.11164451e-02,\n",
       "       4.65754010e-02, 4.24377707e-02, 3.86677161e-02, 3.52325828e-02,\n",
       "       3.21026173e-02, 2.92507092e-02, 2.66521568e-02, 2.42844527e-02,\n",
       "       2.21270888e-02, 2.01613792e-02, 1.83702979e-02, 1.67383312e-02,\n",
       "       1.52513440e-02, 1.38964567e-02, 1.26619338e-02, 1.15370825e-02,\n",
       "       1.05121598e-02, 9.57828854e-03, 8.72737979e-03, 7.95206342e-03,\n",
       "       7.24562402e-03, 6.60194275e-03, 6.01544436e-03, 5.48104886e-03,\n",
       "       4.99412758e-03, 4.55046305e-03, 4.14621246e-03, 3.77787437e-03,\n",
       "       3.44225842e-03, 3.13645767e-03, 2.85782342e-03, 2.60394226e-03,\n",
       "       2.37261521e-03, 2.16183861e-03, 1.96978683e-03, 1.79479639e-03,\n",
       "       1.63535163e-03, 1.49007150e-03, 1.35769765e-03, 1.23708354e-03,\n",
       "       1.12718444e-03, 1.02704848e-03, 9.35808328e-04, 8.52673695e-04,\n",
       "       7.76924514e-04, 7.07904682e-04, 6.45016381e-04, 5.87714903e-04,\n",
       "       5.35503931e-04, 4.87931238e-04, 4.44584771e-04, 4.05089086e-04,\n",
       "       3.69102088e-04, 3.36312076e-04, 3.06435038e-04, 2.79212193e-04,\n",
       "       2.54407752e-04, 2.31806868e-04, 2.11213785e-04, 1.92450134e-04,\n",
       "       1.75353395e-04, 1.59775483e-04, 1.45581469e-04, 1.32648413e-04,\n",
       "       1.20864293e-04, 1.10127043e-04, 1.00343660e-04, 9.14294054e-05,\n",
       "       8.33070691e-05, 7.59062986e-05, 6.91629923e-05, 6.30187427e-05,\n",
       "       5.74203313e-05, 5.23192673e-05, 4.76713678e-05])"
      ]
     },
     "execution_count": 139,
     "metadata": {},
     "output_type": "execute_result"
    }
   ],
   "source": [
    "estimated_alphas"
   ]
  },
  {
   "cell_type": "code",
   "execution_count": 140,
   "id": "0a0034a4",
   "metadata": {},
   "outputs": [
    {
     "data": {
      "text/plain": [
       "GridSearchCV(cv=StratifiedKFold(n_splits=5, random_state=42, shuffle=True),\n",
       "             error_score=0.5,\n",
       "             estimator=as_cumulative_dynamic_auc_scorer(estimator=Pipeline(steps=[('columntransformer',\n",
       "                                                                                   ColumnTransformer(remainder='passthrough',\n",
       "                                                                                                     transformers=[('num',\n",
       "                                                                                                                    Pipeline(steps=[('imputer',\n",
       "                                                                                                                                     SimpleImputer(strategy='median')),\n",
       "                                                                                                                                    ('std_scaler',\n",
       "                                                                                                                                     StandardScaler())]),\n",
       "                                                                                                                    ['age',\n",
       "                                                                                                                     'PSADi...\n",
       "                                                                       [0.03523258281908037],\n",
       "                                                                       [0.0321026172665005],\n",
       "                                                                       [0.02925070922706529],\n",
       "                                                                       [0.026652156837665582],\n",
       "                                                                       [0.024284452680629655],\n",
       "                                                                       [0.022127088835238697],\n",
       "                                                                       [0.020161379247928362],\n",
       "                                                                       [0.018370297882632038],\n",
       "                                                                       [0.016738331249401543],\n",
       "                                                                       [0.015251344033978731],\n",
       "                                                                       [0.013896456664465585],\n",
       "                                                                       [0.012661933754633922],\n",
       "                                                                       [0.01153708245762399],\n",
       "                                                                       [0.010512159849620336],\n",
       "                                                                       [0.009578288541306653], ...]},\n",
       "             refit=False)"
      ]
     },
     "execution_count": 140,
     "metadata": {},
     "output_type": "execute_result"
    }
   ],
   "source": [
    "pipe = make_pipeline(preprocessor_red, CoxnetSurvivalAnalysis(l1_ratio = 1.0, max_iter = 100000))\n",
    "\n",
    "# 5 fold cross-validation\n",
    "cv = StratifiedKFold(n_splits = 5, shuffle = True, random_state = 42)\n",
    "\n",
    "# Parameter gird \n",
    "param_grid = {'estimator__coxnetsurvivalanalysis__alphas': [[x] for x in estimated_alphas]}\n",
    "\n",
    "lasso_search = GridSearchCV(\n",
    "    as_cumulative_dynamic_auc_scorer(pipe, 730),\n",
    "    param_grid = param_grid,\n",
    "    cv = cv,\n",
    "    error_score = 0.5,\n",
    "    n_jobs = -1,\n",
    "    refit = False)\n",
    "\n",
    "# Run search \n",
    "warnings.filterwarnings('ignore')\n",
    "lasso_search.fit(train_x_red, train_y)"
   ]
  },
  {
   "cell_type": "code",
   "execution_count": 141,
   "id": "2515ac60",
   "metadata": {},
   "outputs": [
    {
     "data": {
      "text/plain": [
       "{'estimator__coxnetsurvivalanalysis__alphas': [0.004550463053759242]}"
      ]
     },
     "execution_count": 141,
     "metadata": {},
     "output_type": "execute_result"
    }
   ],
   "source": [
    "lasso_search.best_params_"
   ]
  },
  {
   "cell_type": "code",
   "execution_count": 142,
   "id": "d01e3a7b",
   "metadata": {},
   "outputs": [],
   "source": [
    "best_lasso_alpha = lasso_search.best_params_.get('estimator__coxnetsurvivalanalysis__alphas')"
   ]
  },
  {
   "cell_type": "code",
   "execution_count": 143,
   "id": "5b6dfee3",
   "metadata": {},
   "outputs": [
    {
     "data": {
      "text/plain": [
       "Pipeline(steps=[('columntransformer',\n",
       "                 ColumnTransformer(remainder='passthrough',\n",
       "                                   transformers=[('num',\n",
       "                                                  Pipeline(steps=[('imputer',\n",
       "                                                                   SimpleImputer(strategy='median')),\n",
       "                                                                  ('std_scaler',\n",
       "                                                                   StandardScaler())]),\n",
       "                                                  ['age', 'PSADiagnosis',\n",
       "                                                   'PSAMetDiagnosis',\n",
       "                                                   'delta_met_diagnosis',\n",
       "                                                   'crpc_time', 'weight_diag',\n",
       "                                                   'bmi_diag',\n",
       "                                                   'weight_pct_change',\n",
       "                                                   'weight_slope',\n",
       "                                                   'albumin_diag', 'alp_d...\n",
       "                                                   'wbc_diag', 'alp_max',\n",
       "                                                   'alt_max', 'ast_max',\n",
       "                                                   'calcium_max',\n",
       "                                                   'creatinine_max', ...]),\n",
       "                                                 ('cat',\n",
       "                                                  OneHotEncoder(handle_unknown='ignore'),\n",
       "                                                  ['Gender', 'p_type', 'NStage',\n",
       "                                                   'MStage', 'Histology',\n",
       "                                                   'GleasonScore', 'stage',\n",
       "                                                   'met_year', 'brca_status',\n",
       "                                                   'ecog_diagnosis',\n",
       "                                                   'prim_treatment'])])),\n",
       "                ('coxnetsurvivalanalysis',\n",
       "                 CoxnetSurvivalAnalysis(alphas=[0.004550463053759242],\n",
       "                                        l1_ratio=1.0))])"
      ]
     },
     "execution_count": 143,
     "metadata": {},
     "output_type": "execute_result"
    }
   ],
   "source": [
    "lasso = make_pipeline(preprocessor_red, CoxnetSurvivalAnalysis(l1_ratio = 1.0, \n",
    "                                                               alphas = best_lasso_alpha,\n",
    "                                                               max_iter = 100000))\n",
    "\n",
    "lasso.fit(train_x_red, train_y)"
   ]
  },
  {
   "cell_type": "code",
   "execution_count": 144,
   "id": "4b31b718",
   "metadata": {},
   "outputs": [
    {
     "name": "stdout",
     "output_type": "stream",
     "text": [
      "Test set AUC at 2 years: 0.7295118385663095\n"
     ]
    }
   ],
   "source": [
    "lasso_risk_scores_te = lasso.predict(test_x_red)\n",
    "lasso_auc_te = cumulative_dynamic_auc(train_y, test_y, lasso_risk_scores_te, 730)[0][0]\n",
    "print('Test set AUC at 2 years:', lasso_auc_te)"
   ]
  },
  {
   "cell_type": "code",
   "execution_count": 145,
   "id": "8fa276c1",
   "metadata": {},
   "outputs": [
    {
     "name": "stdout",
     "output_type": "stream",
     "text": [
      "Training set AUC at 2 years: 0.7337178635976873\n"
     ]
    }
   ],
   "source": [
    "lasso_risk_scores_tr = lasso.predict(train_x_red)\n",
    "lasso_auc_tr = cumulative_dynamic_auc(train_y, train_y, lasso_risk_scores_tr, 730)[0][0]\n",
    "print('Training set AUC at 2 years:', lasso_auc_tr)"
   ]
  },
  {
   "cell_type": "code",
   "execution_count": 146,
   "id": "0cf5fc43",
   "metadata": {},
   "outputs": [],
   "source": [
    "# Bootstrap 10000 2-yr AUCs for test set \n",
    "n_bootstraps = 10000\n",
    "rng_seed = 42 \n",
    "bootstrapped_scores_te = []\n",
    "\n",
    "rng = np.random.RandomState(rng_seed)\n",
    "for i in range(n_bootstraps):\n",
    "    indices = rng.randint(0, len(lasso_risk_scores_te), len(lasso_risk_scores_te))\n",
    "    auc_yr = cumulative_dynamic_auc(train_y, test_y[indices], lasso_risk_scores_te[indices], 730)[0][0]\n",
    "    bootstrapped_scores_te.append(auc_yr)"
   ]
  },
  {
   "cell_type": "code",
   "execution_count": 147,
   "id": "a51f9c10",
   "metadata": {},
   "outputs": [
    {
     "name": "stdout",
     "output_type": "stream",
     "text": [
      "Test set AUC standard error: 0.009712146648596398\n"
     ]
    }
   ],
   "source": [
    "# Standard error of mean for test set AUC\n",
    "sorted_scores_te = np.array(bootstrapped_scores_te)\n",
    "sorted_scores_te.sort()\n",
    "\n",
    "conf_lower_te = sorted_scores_te[int(0.025 * len(sorted_scores_te))]\n",
    "conf_upper_te = sorted_scores_te[int(0.975 * len(sorted_scores_te))]\n",
    "\n",
    "standard_error_te = (conf_upper_te - conf_lower_te) / 3.92\n",
    "print('Test set AUC standard error:', standard_error_te)"
   ]
  },
  {
   "cell_type": "code",
   "execution_count": 148,
   "id": "31a6ae22",
   "metadata": {},
   "outputs": [],
   "source": [
    "# Bootstrap 10000 3-yr AUCs for train set \n",
    "n_bootstraps = 10000\n",
    "rng_seed = 42 \n",
    "bootstrapped_scores_tr = []\n",
    "\n",
    "rng = np.random.RandomState(rng_seed)\n",
    "for i in range(n_bootstraps):\n",
    "    indices = rng.randint(0, len(lasso_risk_scores_tr), len(lasso_risk_scores_tr))\n",
    "    auc_yr = cumulative_dynamic_auc(train_y, train_y[indices], lasso_risk_scores_tr[indices], 730)[0][0]\n",
    "    bootstrapped_scores_tr.append(auc_yr)"
   ]
  },
  {
   "cell_type": "code",
   "execution_count": 149,
   "id": "c4d25bed",
   "metadata": {},
   "outputs": [
    {
     "name": "stdout",
     "output_type": "stream",
     "text": [
      "Training set AUC standard error 0.004996838134834718\n"
     ]
    }
   ],
   "source": [
    "# Standard error of mean for train set AUC\n",
    "sorted_scores_tr = np.array(bootstrapped_scores_tr)\n",
    "sorted_scores_tr.sort()\n",
    "\n",
    "conf_lower_tr = sorted_scores_tr[int(0.025 * len(sorted_scores_tr))]\n",
    "conf_upper_tr = sorted_scores_tr[int(0.975 * len(sorted_scores_tr))]\n",
    "\n",
    "standard_error_tr = (conf_upper_tr - conf_lower_tr) / 3.92\n",
    "print('Training set AUC standard error', standard_error_tr)"
   ]
  },
  {
   "cell_type": "code",
   "execution_count": 150,
   "id": "d3ca8a12",
   "metadata": {},
   "outputs": [],
   "source": [
    "crude_auc_data = {'model': 'lasso_crude',\n",
    "                  'auc_2yr_te': lasso_auc_te,\n",
    "                  'sem_te': standard_error_te,\n",
    "                  'auc_2yr_tr': lasso_auc_tr,\n",
    "                  'sem_tr': standard_error_tr}"
   ]
  },
  {
   "cell_type": "code",
   "execution_count": 151,
   "id": "6f82f876",
   "metadata": {},
   "outputs": [],
   "source": [
    "crude_auc_df = pd.read_csv('crude_auc_df.csv')"
   ]
  },
  {
   "cell_type": "code",
   "execution_count": 152,
   "id": "9437a337",
   "metadata": {},
   "outputs": [],
   "source": [
    "crude_auc_df = crude_auc_df.append(crude_auc_data, ignore_index = True)"
   ]
  },
  {
   "cell_type": "code",
   "execution_count": 153,
   "id": "11fcb452",
   "metadata": {},
   "outputs": [
    {
     "data": {
      "text/html": [
       "<div>\n",
       "<style scoped>\n",
       "    .dataframe tbody tr th:only-of-type {\n",
       "        vertical-align: middle;\n",
       "    }\n",
       "\n",
       "    .dataframe tbody tr th {\n",
       "        vertical-align: top;\n",
       "    }\n",
       "\n",
       "    .dataframe thead th {\n",
       "        text-align: right;\n",
       "    }\n",
       "</style>\n",
       "<table border=\"1\" class=\"dataframe\">\n",
       "  <thead>\n",
       "    <tr style=\"text-align: right;\">\n",
       "      <th></th>\n",
       "      <th>model</th>\n",
       "      <th>auc_2yr_te</th>\n",
       "      <th>sem_te</th>\n",
       "      <th>auc_2yr_tr</th>\n",
       "      <th>sem_tr</th>\n",
       "    </tr>\n",
       "  </thead>\n",
       "  <tbody>\n",
       "    <tr>\n",
       "      <th>0</th>\n",
       "      <td>gbm_crude</td>\n",
       "      <td>0.754326</td>\n",
       "      <td>0.009489</td>\n",
       "      <td>0.784849</td>\n",
       "      <td>0.004590</td>\n",
       "    </tr>\n",
       "    <tr>\n",
       "      <th>1</th>\n",
       "      <td>rsf_crude</td>\n",
       "      <td>0.747107</td>\n",
       "      <td>0.009631</td>\n",
       "      <td>0.835588</td>\n",
       "      <td>0.003914</td>\n",
       "    </tr>\n",
       "    <tr>\n",
       "      <th>2</th>\n",
       "      <td>ridge_crude</td>\n",
       "      <td>0.739499</td>\n",
       "      <td>0.009629</td>\n",
       "      <td>0.743281</td>\n",
       "      <td>0.004897</td>\n",
       "    </tr>\n",
       "    <tr>\n",
       "      <th>3</th>\n",
       "      <td>lasso_crude</td>\n",
       "      <td>0.729512</td>\n",
       "      <td>0.009712</td>\n",
       "      <td>0.733718</td>\n",
       "      <td>0.004997</td>\n",
       "    </tr>\n",
       "  </tbody>\n",
       "</table>\n",
       "</div>"
      ],
      "text/plain": [
       "         model  auc_2yr_te    sem_te  auc_2yr_tr    sem_tr\n",
       "0    gbm_crude    0.754326  0.009489    0.784849  0.004590\n",
       "1    rsf_crude    0.747107  0.009631    0.835588  0.003914\n",
       "2  ridge_crude    0.739499  0.009629    0.743281  0.004897\n",
       "3  lasso_crude    0.729512  0.009712    0.733718  0.004997"
      ]
     },
     "execution_count": 153,
     "metadata": {},
     "output_type": "execute_result"
    }
   ],
   "source": [
    "crude_auc_df"
   ]
  },
  {
   "cell_type": "code",
   "execution_count": 154,
   "id": "92b603a5",
   "metadata": {},
   "outputs": [],
   "source": [
    "crude_auc_df.to_csv('crude_auc_df.csv', index = False, header = True)"
   ]
  },
  {
   "cell_type": "code",
   "execution_count": 155,
   "id": "2dfc9aa1",
   "metadata": {},
   "outputs": [],
   "source": [
    "times = np.arange(30, 1810, 30)\n",
    "crude_lasso_auc_over5 = cumulative_dynamic_auc(train_y, test_y, lasso_risk_scores_te, times)[0]\n",
    "\n",
    "times_data = {}\n",
    "values = crude_lasso_auc_over5\n",
    "time_names = []\n",
    "\n",
    "for x in range(len(times)):\n",
    "    time_names.append('time_'+str(times[x]))\n",
    "\n",
    "for i in range(len(time_names)):\n",
    "    times_data[time_names[i]] = values[i]\n",
    "    \n",
    "crude_lasso_over5_df = pd.DataFrame(times_data, index = ['lasso_crude'])"
   ]
  },
  {
   "cell_type": "code",
   "execution_count": 156,
   "id": "70b07223",
   "metadata": {},
   "outputs": [],
   "source": [
    "crude_auc_over5 = pd.read_csv('crude_auc_over5.csv', index_col = 0)"
   ]
  },
  {
   "cell_type": "code",
   "execution_count": 157,
   "id": "6587f38c",
   "metadata": {},
   "outputs": [],
   "source": [
    "crude_auc_over5 = crude_auc_over5.append(crude_lasso_over5_df, ignore_index = False)"
   ]
  },
  {
   "cell_type": "code",
   "execution_count": 158,
   "id": "1838b2ab",
   "metadata": {},
   "outputs": [
    {
     "data": {
      "text/html": [
       "<div>\n",
       "<style scoped>\n",
       "    .dataframe tbody tr th:only-of-type {\n",
       "        vertical-align: middle;\n",
       "    }\n",
       "\n",
       "    .dataframe tbody tr th {\n",
       "        vertical-align: top;\n",
       "    }\n",
       "\n",
       "    .dataframe thead th {\n",
       "        text-align: right;\n",
       "    }\n",
       "</style>\n",
       "<table border=\"1\" class=\"dataframe\">\n",
       "  <thead>\n",
       "    <tr style=\"text-align: right;\">\n",
       "      <th></th>\n",
       "      <th>time_30</th>\n",
       "      <th>time_60</th>\n",
       "      <th>time_90</th>\n",
       "      <th>time_120</th>\n",
       "      <th>time_150</th>\n",
       "      <th>time_180</th>\n",
       "      <th>time_210</th>\n",
       "      <th>time_240</th>\n",
       "      <th>time_270</th>\n",
       "      <th>time_300</th>\n",
       "      <th>...</th>\n",
       "      <th>time_1530</th>\n",
       "      <th>time_1560</th>\n",
       "      <th>time_1590</th>\n",
       "      <th>time_1620</th>\n",
       "      <th>time_1650</th>\n",
       "      <th>time_1680</th>\n",
       "      <th>time_1710</th>\n",
       "      <th>time_1740</th>\n",
       "      <th>time_1770</th>\n",
       "      <th>time_1800</th>\n",
       "    </tr>\n",
       "  </thead>\n",
       "  <tbody>\n",
       "    <tr>\n",
       "      <th>gbm_crude</th>\n",
       "      <td>0.939989</td>\n",
       "      <td>0.879690</td>\n",
       "      <td>0.847818</td>\n",
       "      <td>0.843958</td>\n",
       "      <td>0.847837</td>\n",
       "      <td>0.840647</td>\n",
       "      <td>0.814709</td>\n",
       "      <td>0.819052</td>\n",
       "      <td>0.812366</td>\n",
       "      <td>0.808159</td>\n",
       "      <td>...</td>\n",
       "      <td>0.753889</td>\n",
       "      <td>0.752263</td>\n",
       "      <td>0.749549</td>\n",
       "      <td>0.752131</td>\n",
       "      <td>0.751861</td>\n",
       "      <td>0.750556</td>\n",
       "      <td>0.753784</td>\n",
       "      <td>0.753390</td>\n",
       "      <td>0.758921</td>\n",
       "      <td>0.754951</td>\n",
       "    </tr>\n",
       "    <tr>\n",
       "      <th>rsf_crude</th>\n",
       "      <td>0.943321</td>\n",
       "      <td>0.859619</td>\n",
       "      <td>0.836860</td>\n",
       "      <td>0.831707</td>\n",
       "      <td>0.839734</td>\n",
       "      <td>0.835625</td>\n",
       "      <td>0.814617</td>\n",
       "      <td>0.818675</td>\n",
       "      <td>0.810828</td>\n",
       "      <td>0.804644</td>\n",
       "      <td>...</td>\n",
       "      <td>0.746811</td>\n",
       "      <td>0.745353</td>\n",
       "      <td>0.743979</td>\n",
       "      <td>0.745775</td>\n",
       "      <td>0.747025</td>\n",
       "      <td>0.745861</td>\n",
       "      <td>0.751090</td>\n",
       "      <td>0.748565</td>\n",
       "      <td>0.751606</td>\n",
       "      <td>0.747241</td>\n",
       "    </tr>\n",
       "    <tr>\n",
       "      <th>ridge_crude</th>\n",
       "      <td>0.940743</td>\n",
       "      <td>0.853769</td>\n",
       "      <td>0.835408</td>\n",
       "      <td>0.839343</td>\n",
       "      <td>0.842357</td>\n",
       "      <td>0.826953</td>\n",
       "      <td>0.810761</td>\n",
       "      <td>0.811328</td>\n",
       "      <td>0.801389</td>\n",
       "      <td>0.796506</td>\n",
       "      <td>...</td>\n",
       "      <td>0.741939</td>\n",
       "      <td>0.740517</td>\n",
       "      <td>0.738005</td>\n",
       "      <td>0.737660</td>\n",
       "      <td>0.738090</td>\n",
       "      <td>0.738095</td>\n",
       "      <td>0.740362</td>\n",
       "      <td>0.738750</td>\n",
       "      <td>0.743936</td>\n",
       "      <td>0.741682</td>\n",
       "    </tr>\n",
       "    <tr>\n",
       "      <th>lasso_crude</th>\n",
       "      <td>0.932161</td>\n",
       "      <td>0.849817</td>\n",
       "      <td>0.817803</td>\n",
       "      <td>0.822521</td>\n",
       "      <td>0.826127</td>\n",
       "      <td>0.812395</td>\n",
       "      <td>0.792999</td>\n",
       "      <td>0.795127</td>\n",
       "      <td>0.784982</td>\n",
       "      <td>0.781630</td>\n",
       "      <td>...</td>\n",
       "      <td>0.735462</td>\n",
       "      <td>0.734780</td>\n",
       "      <td>0.731321</td>\n",
       "      <td>0.732511</td>\n",
       "      <td>0.733281</td>\n",
       "      <td>0.732614</td>\n",
       "      <td>0.736599</td>\n",
       "      <td>0.735553</td>\n",
       "      <td>0.741098</td>\n",
       "      <td>0.739002</td>\n",
       "    </tr>\n",
       "  </tbody>\n",
       "</table>\n",
       "<p>4 rows × 60 columns</p>\n",
       "</div>"
      ],
      "text/plain": [
       "              time_30   time_60   time_90  time_120  time_150  time_180  \\\n",
       "gbm_crude    0.939989  0.879690  0.847818  0.843958  0.847837  0.840647   \n",
       "rsf_crude    0.943321  0.859619  0.836860  0.831707  0.839734  0.835625   \n",
       "ridge_crude  0.940743  0.853769  0.835408  0.839343  0.842357  0.826953   \n",
       "lasso_crude  0.932161  0.849817  0.817803  0.822521  0.826127  0.812395   \n",
       "\n",
       "             time_210  time_240  time_270  time_300  ...  time_1530  \\\n",
       "gbm_crude    0.814709  0.819052  0.812366  0.808159  ...   0.753889   \n",
       "rsf_crude    0.814617  0.818675  0.810828  0.804644  ...   0.746811   \n",
       "ridge_crude  0.810761  0.811328  0.801389  0.796506  ...   0.741939   \n",
       "lasso_crude  0.792999  0.795127  0.784982  0.781630  ...   0.735462   \n",
       "\n",
       "             time_1560  time_1590  time_1620  time_1650  time_1680  time_1710  \\\n",
       "gbm_crude     0.752263   0.749549   0.752131   0.751861   0.750556   0.753784   \n",
       "rsf_crude     0.745353   0.743979   0.745775   0.747025   0.745861   0.751090   \n",
       "ridge_crude   0.740517   0.738005   0.737660   0.738090   0.738095   0.740362   \n",
       "lasso_crude   0.734780   0.731321   0.732511   0.733281   0.732614   0.736599   \n",
       "\n",
       "             time_1740  time_1770  time_1800  \n",
       "gbm_crude     0.753390   0.758921   0.754951  \n",
       "rsf_crude     0.748565   0.751606   0.747241  \n",
       "ridge_crude   0.738750   0.743936   0.741682  \n",
       "lasso_crude   0.735553   0.741098   0.739002  \n",
       "\n",
       "[4 rows x 60 columns]"
      ]
     },
     "execution_count": 158,
     "metadata": {},
     "output_type": "execute_result"
    }
   ],
   "source": [
    "crude_auc_over5"
   ]
  },
  {
   "cell_type": "code",
   "execution_count": 159,
   "id": "a405840b",
   "metadata": {},
   "outputs": [],
   "source": [
    "crude_auc_over5.to_csv('crude_auc_over5.csv', index = True, header = True)"
   ]
  },
  {
   "cell_type": "code",
   "execution_count": 160,
   "id": "7ef6e3fe",
   "metadata": {},
   "outputs": [],
   "source": [
    "# Variables passing through pipeline\n",
    "cat_encoder = list(preprocessor_red.transformers_[1][1].get_feature_names(categorical_features))\n",
    "pass_through = list(train_x_red.iloc[:, preprocessor_red.transformers_[2][2]].columns)\n",
    "attributes = numerical_features_red + cat_encoder + pass_through"
   ]
  },
  {
   "cell_type": "code",
   "execution_count": 161,
   "id": "a0d90b74",
   "metadata": {},
   "outputs": [
    {
     "name": "stdout",
     "output_type": "stream",
     "text": [
      "Total number of features: 184\n",
      "Number of non-zero features in final model: 49\n"
     ]
    },
    {
     "data": {
      "image/png": "[encoded data removed]",
      "text/plain": [
       "<Figure size 600x800 with 1 Axes>"
      ]
     },
     "metadata": {},
     "output_type": "display_data"
    }
   ],
   "source": [
    "# Dataframe of coefficients for each variable \n",
    "coefficients_lasso = pd.DataFrame(\n",
    "    lasso.named_steps['coxnetsurvivalanalysis'].coef_,\n",
    "    index = attributes,\n",
    "    columns = ['coefficient']\n",
    ")\n",
    "\n",
    "print('Total number of features: {}'.format(len(attributes)))\n",
    "\n",
    "non_zero = np.sum(coefficients_lasso.iloc[:, 0] != 0)\n",
    "print('Number of non-zero features in final model: {}'.format(non_zero))\n",
    "\n",
    "non_zero_coefs = coefficients_lasso.query('coefficient != 0')\n",
    "coef_order = non_zero_coefs.abs().sort_values('coefficient').tail(30).index\n",
    "\n",
    "_, ax = plt.subplots(figsize=(6, 8))\n",
    "non_zero_coefs.loc[coef_order].plot.barh(ax = ax, legend = False)\n",
    "ax.set_xlabel('coefficient')\n",
    "ax.grid(True)"
   ]
  },
  {
   "cell_type": "markdown",
   "id": "ddbe0b63",
   "metadata": {},
   "source": [
    "### 4.3 Elastic net "
   ]
  },
  {
   "cell_type": "code",
   "execution_count": 162,
   "id": "7cbb1a2e",
   "metadata": {},
   "outputs": [
    {
     "data": {
      "text/plain": [
       "Pipeline(steps=[('columntransformer',\n",
       "                 ColumnTransformer(remainder='passthrough',\n",
       "                                   transformers=[('num',\n",
       "                                                  Pipeline(steps=[('imputer',\n",
       "                                                                   SimpleImputer(strategy='median')),\n",
       "                                                                  ('std_scaler',\n",
       "                                                                   StandardScaler())]),\n",
       "                                                  ['age', 'PSADiagnosis',\n",
       "                                                   'PSAMetDiagnosis',\n",
       "                                                   'delta_met_diagnosis',\n",
       "                                                   'crpc_time', 'weight_diag',\n",
       "                                                   'bmi_diag',\n",
       "                                                   'weight_pct_change',\n",
       "                                                   'weight_slope',\n",
       "                                                   'albumin_diag', 'alp_d...\n",
       "                                                   'total_bilirubin_diag',\n",
       "                                                   'wbc_diag', 'alp_max',\n",
       "                                                   'alt_max', 'ast_max',\n",
       "                                                   'calcium_max',\n",
       "                                                   'creatinine_max', ...]),\n",
       "                                                 ('cat',\n",
       "                                                  OneHotEncoder(handle_unknown='ignore'),\n",
       "                                                  ['Gender', 'p_type', 'NStage',\n",
       "                                                   'MStage', 'Histology',\n",
       "                                                   'GleasonScore', 'stage',\n",
       "                                                   'met_year', 'brca_status',\n",
       "                                                   'ecog_diagnosis',\n",
       "                                                   'prim_treatment'])])),\n",
       "                ('coxnetsurvivalanalysis',\n",
       "                 CoxnetSurvivalAnalysis(alpha_min_ratio=0.0001, l1_ratio=0.8))])"
      ]
     },
     "execution_count": 162,
     "metadata": {},
     "output_type": "execute_result"
    }
   ],
   "source": [
    "enet = make_pipeline(preprocessor_red, CoxnetSurvivalAnalysis(l1_ratio = 0.8, alpha_min_ratio = 0.0001))\n",
    "\n",
    "enet.fit(train_x_red, train_y)"
   ]
  },
  {
   "cell_type": "code",
   "execution_count": 163,
   "id": "52a79434",
   "metadata": {},
   "outputs": [
    {
     "data": {
      "text/plain": [
       "array([1.77793181e-01, 1.61998525e-01, 1.47607022e-01, 1.34494021e-01,\n",
       "       1.22545943e-01, 1.11659299e-01, 1.01739795e-01, 9.27015120e-02,\n",
       "       8.44661652e-02, 7.69624239e-02, 7.01252942e-02, 6.38955564e-02,\n",
       "       5.82192512e-02, 5.30472134e-02, 4.83346452e-02, 4.40407285e-02,\n",
       "       4.01282716e-02, 3.65633865e-02, 3.33151960e-02, 3.03555659e-02,\n",
       "       2.76588610e-02, 2.52017241e-02, 2.29628724e-02, 2.09229141e-02,\n",
       "       1.90641800e-02, 1.73705708e-02, 1.58274172e-02, 1.44213531e-02,\n",
       "       1.31401998e-02, 1.19728607e-02, 1.09092247e-02, 9.94007927e-03,\n",
       "       9.05703003e-03, 8.25242844e-03, 7.51930544e-03, 6.85131107e-03,\n",
       "       6.24265948e-03, 5.68807882e-03, 5.18276557e-03, 4.72234296e-03,\n",
       "       4.30282303e-03, 3.92057209e-03, 3.57227927e-03, 3.25492783e-03,\n",
       "       2.96576901e-03, 2.70229826e-03, 2.46223353e-03, 2.24349549e-03,\n",
       "       2.04418954e-03, 1.86258937e-03, 1.69712207e-03, 1.54635442e-03,\n",
       "       1.40898055e-03, 1.28381061e-03, 1.16976041e-03, 1.06584212e-03,\n",
       "       9.71155643e-04, 8.84880852e-04, 8.06270476e-04, 7.34643629e-04,\n",
       "       6.69379914e-04, 6.09914047e-04, 5.55730964e-04, 5.06361357e-04,\n",
       "       4.61377610e-04, 4.20390094e-04, 3.83043797e-04, 3.49015242e-04,\n",
       "       3.18009690e-04, 2.89758585e-04, 2.64017231e-04, 2.40562668e-04,\n",
       "       2.19191744e-04, 1.99719353e-04, 1.81976836e-04, 1.65810516e-04,\n",
       "       1.51080367e-04, 1.37658803e-04, 1.25429575e-04, 1.14286757e-04,\n",
       "       1.04133836e-04, 9.48828733e-05, 8.64537403e-05, 7.87734283e-05,\n",
       "       7.17754141e-05, 6.53990841e-05, 5.95892097e-05])"
      ]
     },
     "execution_count": 163,
     "metadata": {},
     "output_type": "execute_result"
    }
   ],
   "source": [
    "enet.named_steps['coxnetsurvivalanalysis'].alphas_"
   ]
  },
  {
   "cell_type": "code",
   "execution_count": 164,
   "id": "d85b4819",
   "metadata": {},
   "outputs": [],
   "source": [
    "estimated_alphas = enet.named_steps['coxnetsurvivalanalysis'].alphas_"
   ]
  },
  {
   "cell_type": "code",
   "execution_count": 165,
   "id": "87144802",
   "metadata": {},
   "outputs": [
    {
     "data": {
      "text/plain": [
       "GridSearchCV(cv=StratifiedKFold(n_splits=5, random_state=42, shuffle=True),\n",
       "             error_score=0.5,\n",
       "             estimator=as_cumulative_dynamic_auc_scorer(estimator=Pipeline(steps=[('columntransformer',\n",
       "                                                                                   ColumnTransformer(remainder='passthrough',\n",
       "                                                                                                     transformers=[('num',\n",
       "                                                                                                                    Pipeline(steps=[('imputer',\n",
       "                                                                                                                                     SimpleImputer(strategy='median')),\n",
       "                                                                                                                                    ('std_scaler',\n",
       "                                                                                                                                     StandardScaler())]),\n",
       "                                                                                                                    ['age',\n",
       "                                                                                                                     'PSADi...\n",
       "                                                                       [0.04404072852385046],\n",
       "                                                                       [0.040128271583125624],\n",
       "                                                                       [0.036563386533831614],\n",
       "                                                                       [0.033315196047081976],\n",
       "                                                                       [0.030355565850787067],\n",
       "                                                                       [0.02765886104404837],\n",
       "                                                                       [0.02520172405991045],\n",
       "                                                                       [0.022962872353290042],\n",
       "                                                                       [0.020922914061751924],\n",
       "                                                                       [0.01906418004247341],\n",
       "                                                                       [0.017370570830581977],\n",
       "                                                                       [0.015827417193292396],\n",
       "                                                                       [0.01442135307202998],\n",
       "                                                                       [0.013140199812025416],\n",
       "                                                                       [0.011972860676633312], ...]},\n",
       "             refit=False)"
      ]
     },
     "execution_count": 165,
     "metadata": {},
     "output_type": "execute_result"
    }
   ],
   "source": [
    "pipe = make_pipeline(preprocessor_red, CoxnetSurvivalAnalysis(l1_ratio = 0.9, max_iter = 100000))\n",
    "\n",
    "# 5 fold cross-validation\n",
    "cv = StratifiedKFold(n_splits = 5, shuffle = True, random_state = 42)\n",
    "\n",
    "# Parameter gird \n",
    "param_grid = {'estimator__coxnetsurvivalanalysis__alphas': [[x] for x in estimated_alphas]}\n",
    "\n",
    "enet_search = GridSearchCV(\n",
    "    as_cumulative_dynamic_auc_scorer(pipe, 730),\n",
    "    param_grid = param_grid,\n",
    "    cv = cv,\n",
    "    error_score = 0.5,\n",
    "    n_jobs = -1,\n",
    "    refit = False)\n",
    "\n",
    "# Run search \n",
    "warnings.filterwarnings('ignore')\n",
    "enet_search.fit(train_x_red, train_y)"
   ]
  },
  {
   "cell_type": "code",
   "execution_count": 166,
   "id": "903c3556",
   "metadata": {},
   "outputs": [
    {
     "data": {
      "text/plain": [
       "{'estimator__coxnetsurvivalanalysis__alphas': [0.004722342962957994]}"
      ]
     },
     "execution_count": 166,
     "metadata": {},
     "output_type": "execute_result"
    }
   ],
   "source": [
    "enet_search.best_params_"
   ]
  },
  {
   "cell_type": "code",
   "execution_count": 167,
   "id": "7677809d",
   "metadata": {},
   "outputs": [],
   "source": [
    "best_enet_alpha = enet_search.best_params_.get('estimator__coxnetsurvivalanalysis__alphas')"
   ]
  },
  {
   "cell_type": "code",
   "execution_count": 168,
   "id": "8c849bbf",
   "metadata": {},
   "outputs": [
    {
     "data": {
      "text/plain": [
       "Pipeline(steps=[('columntransformer',\n",
       "                 ColumnTransformer(remainder='passthrough',\n",
       "                                   transformers=[('num',\n",
       "                                                  Pipeline(steps=[('imputer',\n",
       "                                                                   SimpleImputer(strategy='median')),\n",
       "                                                                  ('std_scaler',\n",
       "                                                                   StandardScaler())]),\n",
       "                                                  ['age', 'PSADiagnosis',\n",
       "                                                   'PSAMetDiagnosis',\n",
       "                                                   'delta_met_diagnosis',\n",
       "                                                   'crpc_time', 'weight_diag',\n",
       "                                                   'bmi_diag',\n",
       "                                                   'weight_pct_change',\n",
       "                                                   'weight_slope',\n",
       "                                                   'albumin_diag', 'alp_d...\n",
       "                                                   'wbc_diag', 'alp_max',\n",
       "                                                   'alt_max', 'ast_max',\n",
       "                                                   'calcium_max',\n",
       "                                                   'creatinine_max', ...]),\n",
       "                                                 ('cat',\n",
       "                                                  OneHotEncoder(handle_unknown='ignore'),\n",
       "                                                  ['Gender', 'p_type', 'NStage',\n",
       "                                                   'MStage', 'Histology',\n",
       "                                                   'GleasonScore', 'stage',\n",
       "                                                   'met_year', 'brca_status',\n",
       "                                                   'ecog_diagnosis',\n",
       "                                                   'prim_treatment'])])),\n",
       "                ('coxnetsurvivalanalysis',\n",
       "                 CoxnetSurvivalAnalysis(alphas=[0.004722342962957994],\n",
       "                                        l1_ratio=0.8))])"
      ]
     },
     "execution_count": 168,
     "metadata": {},
     "output_type": "execute_result"
    }
   ],
   "source": [
    "enet = make_pipeline(preprocessor_red, CoxnetSurvivalAnalysis(l1_ratio = 0.8,\n",
    "                                                              alphas = best_enet_alpha,\n",
    "                                                              max_iter = 100000))\n",
    "\n",
    "enet.fit(train_x_red, train_y)"
   ]
  },
  {
   "cell_type": "code",
   "execution_count": 169,
   "id": "10f599b1",
   "metadata": {},
   "outputs": [
    {
     "name": "stdout",
     "output_type": "stream",
     "text": [
      "Test set AUC at 2 years: 0.7313231630749664\n"
     ]
    }
   ],
   "source": [
    "enet_risk_scores_te = enet.predict(test_x_red)\n",
    "enet_auc_te = cumulative_dynamic_auc(train_y, test_y, enet_risk_scores_te, 730)[0][0]\n",
    "print('Test set AUC at 2 years:', enet_auc_te)"
   ]
  },
  {
   "cell_type": "code",
   "execution_count": 170,
   "id": "b18b1308",
   "metadata": {},
   "outputs": [
    {
     "name": "stdout",
     "output_type": "stream",
     "text": [
      "Training set AUC at 2 years: 0.7349772927675777\n"
     ]
    }
   ],
   "source": [
    "enet_risk_scores_tr = enet.predict(train_x_red)\n",
    "enet_auc_tr = cumulative_dynamic_auc(train_y, train_y, enet_risk_scores_tr, 730)[0][0]\n",
    "print('Training set AUC at 2 years:', enet_auc_tr)"
   ]
  },
  {
   "cell_type": "code",
   "execution_count": 171,
   "id": "933d6973",
   "metadata": {},
   "outputs": [],
   "source": [
    "# Bootstrap 10000 2-yr AUCs for test set \n",
    "n_bootstraps = 10000\n",
    "rng_seed = 42 \n",
    "bootstrapped_scores_te = []\n",
    "\n",
    "rng = np.random.RandomState(rng_seed)\n",
    "for i in range(n_bootstraps):\n",
    "    indices = rng.randint(0, len(enet_risk_scores_te), len(enet_risk_scores_te))\n",
    "    auc_yr = cumulative_dynamic_auc(train_y, test_y[indices], enet_risk_scores_te[indices], 730)[0][0]\n",
    "    bootstrapped_scores_te.append(auc_yr)"
   ]
  },
  {
   "cell_type": "code",
   "execution_count": 172,
   "id": "ae568d0b",
   "metadata": {},
   "outputs": [
    {
     "name": "stdout",
     "output_type": "stream",
     "text": [
      "Test set AUC standard error: 0.00971883874068759\n"
     ]
    }
   ],
   "source": [
    "# Standard error of mean for test set AUC\n",
    "sorted_scores_te = np.array(bootstrapped_scores_te)\n",
    "sorted_scores_te.sort()\n",
    "\n",
    "conf_lower_te = sorted_scores_te[int(0.025 * len(sorted_scores_te))]\n",
    "conf_upper_te = sorted_scores_te[int(0.975 * len(sorted_scores_te))]\n",
    "\n",
    "standard_error_te = (conf_upper_te - conf_lower_te) / 3.92\n",
    "print('Test set AUC standard error:', standard_error_te)"
   ]
  },
  {
   "cell_type": "code",
   "execution_count": 173,
   "id": "8a562ce9",
   "metadata": {},
   "outputs": [],
   "source": [
    "# Bootstrap 10000 2-yr AUCs for train set \n",
    "n_bootstraps = 10000\n",
    "rng_seed = 42 \n",
    "bootstrapped_scores_tr = []\n",
    "\n",
    "rng = np.random.RandomState(rng_seed)\n",
    "for i in range(n_bootstraps):\n",
    "    indices = rng.randint(0, len(enet_risk_scores_tr), len(enet_risk_scores_tr))\n",
    "    auc_yr = cumulative_dynamic_auc(train_y, train_y[indices], enet_risk_scores_tr[indices], 730)[0][0]\n",
    "    bootstrapped_scores_tr.append(auc_yr)"
   ]
  },
  {
   "cell_type": "code",
   "execution_count": 174,
   "id": "09ef1ca4",
   "metadata": {},
   "outputs": [
    {
     "name": "stdout",
     "output_type": "stream",
     "text": [
      "Training set AUC standard error 0.004973486195676954\n"
     ]
    }
   ],
   "source": [
    "# Standard error of mean for train set AUC\n",
    "sorted_scores_tr = np.array(bootstrapped_scores_tr)\n",
    "sorted_scores_tr.sort()\n",
    "\n",
    "conf_lower_tr = sorted_scores_tr[int(0.025 * len(sorted_scores_tr))]\n",
    "conf_upper_tr = sorted_scores_tr[int(0.975 * len(sorted_scores_tr))]\n",
    "\n",
    "standard_error_tr = (conf_upper_tr - conf_lower_tr) / 3.92\n",
    "print('Training set AUC standard error', standard_error_tr)"
   ]
  },
  {
   "cell_type": "code",
   "execution_count": 175,
   "id": "570e5591",
   "metadata": {},
   "outputs": [],
   "source": [
    "crude_auc_data = {'model': 'enet_crude',\n",
    "                  'auc_2yr_te': enet_auc_te,\n",
    "                  'sem_te': standard_error_te,\n",
    "                  'auc_2yr_tr': enet_auc_tr,\n",
    "                  'sem_tr': standard_error_tr}"
   ]
  },
  {
   "cell_type": "code",
   "execution_count": 176,
   "id": "740dad37",
   "metadata": {},
   "outputs": [],
   "source": [
    "crude_auc_df = pd.read_csv('crude_auc_df.csv')"
   ]
  },
  {
   "cell_type": "code",
   "execution_count": 177,
   "id": "0253bbdf",
   "metadata": {},
   "outputs": [],
   "source": [
    "crude_auc_df = crude_auc_df.append(crude_auc_data, ignore_index = True)"
   ]
  },
  {
   "cell_type": "code",
   "execution_count": 178,
   "id": "fa61e506",
   "metadata": {},
   "outputs": [
    {
     "data": {
      "text/html": [
       "<div>\n",
       "<style scoped>\n",
       "    .dataframe tbody tr th:only-of-type {\n",
       "        vertical-align: middle;\n",
       "    }\n",
       "\n",
       "    .dataframe tbody tr th {\n",
       "        vertical-align: top;\n",
       "    }\n",
       "\n",
       "    .dataframe thead th {\n",
       "        text-align: right;\n",
       "    }\n",
       "</style>\n",
       "<table border=\"1\" class=\"dataframe\">\n",
       "  <thead>\n",
       "    <tr style=\"text-align: right;\">\n",
       "      <th></th>\n",
       "      <th>model</th>\n",
       "      <th>auc_2yr_te</th>\n",
       "      <th>sem_te</th>\n",
       "      <th>auc_2yr_tr</th>\n",
       "      <th>sem_tr</th>\n",
       "    </tr>\n",
       "  </thead>\n",
       "  <tbody>\n",
       "    <tr>\n",
       "      <th>0</th>\n",
       "      <td>gbm_crude</td>\n",
       "      <td>0.754326</td>\n",
       "      <td>0.009489</td>\n",
       "      <td>0.784849</td>\n",
       "      <td>0.004590</td>\n",
       "    </tr>\n",
       "    <tr>\n",
       "      <th>1</th>\n",
       "      <td>rsf_crude</td>\n",
       "      <td>0.747107</td>\n",
       "      <td>0.009631</td>\n",
       "      <td>0.835588</td>\n",
       "      <td>0.003914</td>\n",
       "    </tr>\n",
       "    <tr>\n",
       "      <th>2</th>\n",
       "      <td>ridge_crude</td>\n",
       "      <td>0.739499</td>\n",
       "      <td>0.009629</td>\n",
       "      <td>0.743281</td>\n",
       "      <td>0.004897</td>\n",
       "    </tr>\n",
       "    <tr>\n",
       "      <th>3</th>\n",
       "      <td>lasso_crude</td>\n",
       "      <td>0.729512</td>\n",
       "      <td>0.009712</td>\n",
       "      <td>0.733718</td>\n",
       "      <td>0.004997</td>\n",
       "    </tr>\n",
       "    <tr>\n",
       "      <th>4</th>\n",
       "      <td>enet_crude</td>\n",
       "      <td>0.731323</td>\n",
       "      <td>0.009719</td>\n",
       "      <td>0.734977</td>\n",
       "      <td>0.004973</td>\n",
       "    </tr>\n",
       "  </tbody>\n",
       "</table>\n",
       "</div>"
      ],
      "text/plain": [
       "         model  auc_2yr_te    sem_te  auc_2yr_tr    sem_tr\n",
       "0    gbm_crude    0.754326  0.009489    0.784849  0.004590\n",
       "1    rsf_crude    0.747107  0.009631    0.835588  0.003914\n",
       "2  ridge_crude    0.739499  0.009629    0.743281  0.004897\n",
       "3  lasso_crude    0.729512  0.009712    0.733718  0.004997\n",
       "4   enet_crude    0.731323  0.009719    0.734977  0.004973"
      ]
     },
     "execution_count": 178,
     "metadata": {},
     "output_type": "execute_result"
    }
   ],
   "source": [
    "crude_auc_df"
   ]
  },
  {
   "cell_type": "code",
   "execution_count": 179,
   "id": "7e94440f",
   "metadata": {},
   "outputs": [],
   "source": [
    "crude_auc_df.to_csv('crude_auc_df.csv', index = False, header = True)"
   ]
  },
  {
   "cell_type": "code",
   "execution_count": 180,
   "id": "1c617eab",
   "metadata": {},
   "outputs": [],
   "source": [
    "times = np.arange(30, 1810, 30)\n",
    "crude_enet_auc_over5 = cumulative_dynamic_auc(train_y, test_y, enet_risk_scores_te, times)[0]\n",
    "\n",
    "times_data = {}\n",
    "values = crude_enet_auc_over5\n",
    "time_names = []\n",
    "\n",
    "for x in range(len(times)):\n",
    "    time_names.append('time_'+str(times[x]))\n",
    "\n",
    "for i in range(len(time_names)):\n",
    "    times_data[time_names[i]] = values[i]\n",
    "    \n",
    "crude_enet_over5_df = pd.DataFrame(times_data, index = ['enet_crude'])"
   ]
  },
  {
   "cell_type": "code",
   "execution_count": 181,
   "id": "53258a3b",
   "metadata": {},
   "outputs": [],
   "source": [
    "crude_auc_over5 = pd.read_csv('crude_auc_over5.csv', index_col = 0)"
   ]
  },
  {
   "cell_type": "code",
   "execution_count": 182,
   "id": "bcc9ea4f",
   "metadata": {},
   "outputs": [],
   "source": [
    "crude_auc_over5 = crude_auc_over5.append(crude_enet_over5_df, ignore_index = False)"
   ]
  },
  {
   "cell_type": "code",
   "execution_count": 183,
   "id": "643337ca",
   "metadata": {},
   "outputs": [
    {
     "data": {
      "text/html": [
       "<div>\n",
       "<style scoped>\n",
       "    .dataframe tbody tr th:only-of-type {\n",
       "        vertical-align: middle;\n",
       "    }\n",
       "\n",
       "    .dataframe tbody tr th {\n",
       "        vertical-align: top;\n",
       "    }\n",
       "\n",
       "    .dataframe thead th {\n",
       "        text-align: right;\n",
       "    }\n",
       "</style>\n",
       "<table border=\"1\" class=\"dataframe\">\n",
       "  <thead>\n",
       "    <tr style=\"text-align: right;\">\n",
       "      <th></th>\n",
       "      <th>time_30</th>\n",
       "      <th>time_60</th>\n",
       "      <th>time_90</th>\n",
       "      <th>time_120</th>\n",
       "      <th>time_150</th>\n",
       "      <th>time_180</th>\n",
       "      <th>time_210</th>\n",
       "      <th>time_240</th>\n",
       "      <th>time_270</th>\n",
       "      <th>time_300</th>\n",
       "      <th>...</th>\n",
       "      <th>time_1530</th>\n",
       "      <th>time_1560</th>\n",
       "      <th>time_1590</th>\n",
       "      <th>time_1620</th>\n",
       "      <th>time_1650</th>\n",
       "      <th>time_1680</th>\n",
       "      <th>time_1710</th>\n",
       "      <th>time_1740</th>\n",
       "      <th>time_1770</th>\n",
       "      <th>time_1800</th>\n",
       "    </tr>\n",
       "  </thead>\n",
       "  <tbody>\n",
       "    <tr>\n",
       "      <th>gbm_crude</th>\n",
       "      <td>0.939989</td>\n",
       "      <td>0.879690</td>\n",
       "      <td>0.847818</td>\n",
       "      <td>0.843958</td>\n",
       "      <td>0.847837</td>\n",
       "      <td>0.840647</td>\n",
       "      <td>0.814709</td>\n",
       "      <td>0.819052</td>\n",
       "      <td>0.812366</td>\n",
       "      <td>0.808159</td>\n",
       "      <td>...</td>\n",
       "      <td>0.753889</td>\n",
       "      <td>0.752263</td>\n",
       "      <td>0.749549</td>\n",
       "      <td>0.752131</td>\n",
       "      <td>0.751861</td>\n",
       "      <td>0.750556</td>\n",
       "      <td>0.753784</td>\n",
       "      <td>0.753390</td>\n",
       "      <td>0.758921</td>\n",
       "      <td>0.754951</td>\n",
       "    </tr>\n",
       "    <tr>\n",
       "      <th>rsf_crude</th>\n",
       "      <td>0.943321</td>\n",
       "      <td>0.859619</td>\n",
       "      <td>0.836860</td>\n",
       "      <td>0.831707</td>\n",
       "      <td>0.839734</td>\n",
       "      <td>0.835625</td>\n",
       "      <td>0.814617</td>\n",
       "      <td>0.818675</td>\n",
       "      <td>0.810828</td>\n",
       "      <td>0.804644</td>\n",
       "      <td>...</td>\n",
       "      <td>0.746811</td>\n",
       "      <td>0.745353</td>\n",
       "      <td>0.743979</td>\n",
       "      <td>0.745775</td>\n",
       "      <td>0.747025</td>\n",
       "      <td>0.745861</td>\n",
       "      <td>0.751090</td>\n",
       "      <td>0.748565</td>\n",
       "      <td>0.751606</td>\n",
       "      <td>0.747241</td>\n",
       "    </tr>\n",
       "    <tr>\n",
       "      <th>ridge_crude</th>\n",
       "      <td>0.940743</td>\n",
       "      <td>0.853769</td>\n",
       "      <td>0.835408</td>\n",
       "      <td>0.839343</td>\n",
       "      <td>0.842357</td>\n",
       "      <td>0.826953</td>\n",
       "      <td>0.810761</td>\n",
       "      <td>0.811328</td>\n",
       "      <td>0.801389</td>\n",
       "      <td>0.796506</td>\n",
       "      <td>...</td>\n",
       "      <td>0.741939</td>\n",
       "      <td>0.740517</td>\n",
       "      <td>0.738005</td>\n",
       "      <td>0.737660</td>\n",
       "      <td>0.738090</td>\n",
       "      <td>0.738095</td>\n",
       "      <td>0.740362</td>\n",
       "      <td>0.738750</td>\n",
       "      <td>0.743936</td>\n",
       "      <td>0.741682</td>\n",
       "    </tr>\n",
       "    <tr>\n",
       "      <th>lasso_crude</th>\n",
       "      <td>0.932161</td>\n",
       "      <td>0.849817</td>\n",
       "      <td>0.817803</td>\n",
       "      <td>0.822521</td>\n",
       "      <td>0.826127</td>\n",
       "      <td>0.812395</td>\n",
       "      <td>0.792999</td>\n",
       "      <td>0.795127</td>\n",
       "      <td>0.784982</td>\n",
       "      <td>0.781630</td>\n",
       "      <td>...</td>\n",
       "      <td>0.735462</td>\n",
       "      <td>0.734780</td>\n",
       "      <td>0.731321</td>\n",
       "      <td>0.732511</td>\n",
       "      <td>0.733281</td>\n",
       "      <td>0.732614</td>\n",
       "      <td>0.736599</td>\n",
       "      <td>0.735553</td>\n",
       "      <td>0.741098</td>\n",
       "      <td>0.739002</td>\n",
       "    </tr>\n",
       "    <tr>\n",
       "      <th>enet_crude</th>\n",
       "      <td>0.935713</td>\n",
       "      <td>0.853191</td>\n",
       "      <td>0.821257</td>\n",
       "      <td>0.825660</td>\n",
       "      <td>0.828317</td>\n",
       "      <td>0.814298</td>\n",
       "      <td>0.795456</td>\n",
       "      <td>0.797324</td>\n",
       "      <td>0.787040</td>\n",
       "      <td>0.783472</td>\n",
       "      <td>...</td>\n",
       "      <td>0.736859</td>\n",
       "      <td>0.736194</td>\n",
       "      <td>0.732908</td>\n",
       "      <td>0.733932</td>\n",
       "      <td>0.734646</td>\n",
       "      <td>0.734098</td>\n",
       "      <td>0.737852</td>\n",
       "      <td>0.736771</td>\n",
       "      <td>0.742287</td>\n",
       "      <td>0.740268</td>\n",
       "    </tr>\n",
       "  </tbody>\n",
       "</table>\n",
       "<p>5 rows × 60 columns</p>\n",
       "</div>"
      ],
      "text/plain": [
       "              time_30   time_60   time_90  time_120  time_150  time_180  \\\n",
       "gbm_crude    0.939989  0.879690  0.847818  0.843958  0.847837  0.840647   \n",
       "rsf_crude    0.943321  0.859619  0.836860  0.831707  0.839734  0.835625   \n",
       "ridge_crude  0.940743  0.853769  0.835408  0.839343  0.842357  0.826953   \n",
       "lasso_crude  0.932161  0.849817  0.817803  0.822521  0.826127  0.812395   \n",
       "enet_crude   0.935713  0.853191  0.821257  0.825660  0.828317  0.814298   \n",
       "\n",
       "             time_210  time_240  time_270  time_300  ...  time_1530  \\\n",
       "gbm_crude    0.814709  0.819052  0.812366  0.808159  ...   0.753889   \n",
       "rsf_crude    0.814617  0.818675  0.810828  0.804644  ...   0.746811   \n",
       "ridge_crude  0.810761  0.811328  0.801389  0.796506  ...   0.741939   \n",
       "lasso_crude  0.792999  0.795127  0.784982  0.781630  ...   0.735462   \n",
       "enet_crude   0.795456  0.797324  0.787040  0.783472  ...   0.736859   \n",
       "\n",
       "             time_1560  time_1590  time_1620  time_1650  time_1680  time_1710  \\\n",
       "gbm_crude     0.752263   0.749549   0.752131   0.751861   0.750556   0.753784   \n",
       "rsf_crude     0.745353   0.743979   0.745775   0.747025   0.745861   0.751090   \n",
       "ridge_crude   0.740517   0.738005   0.737660   0.738090   0.738095   0.740362   \n",
       "lasso_crude   0.734780   0.731321   0.732511   0.733281   0.732614   0.736599   \n",
       "enet_crude    0.736194   0.732908   0.733932   0.734646   0.734098   0.737852   \n",
       "\n",
       "             time_1740  time_1770  time_1800  \n",
       "gbm_crude     0.753390   0.758921   0.754951  \n",
       "rsf_crude     0.748565   0.751606   0.747241  \n",
       "ridge_crude   0.738750   0.743936   0.741682  \n",
       "lasso_crude   0.735553   0.741098   0.739002  \n",
       "enet_crude    0.736771   0.742287   0.740268  \n",
       "\n",
       "[5 rows x 60 columns]"
      ]
     },
     "execution_count": 183,
     "metadata": {},
     "output_type": "execute_result"
    }
   ],
   "source": [
    "crude_auc_over5"
   ]
  },
  {
   "cell_type": "code",
   "execution_count": 184,
   "id": "d2f18eca",
   "metadata": {},
   "outputs": [],
   "source": [
    "crude_auc_over5.to_csv('crude_auc_over5.csv', index = True, header = True)"
   ]
  },
  {
   "cell_type": "code",
   "execution_count": 185,
   "id": "47c22dd0",
   "metadata": {},
   "outputs": [],
   "source": [
    "# Variables passing through pipeline\n",
    "cat_encoder = list(preprocessor_red.transformers_[1][1].get_feature_names(categorical_features))\n",
    "pass_through = list(train_x_red.iloc[:, preprocessor_red.transformers_[2][2]].columns)\n",
    "attributes = numerical_features_red + cat_encoder + pass_through"
   ]
  },
  {
   "cell_type": "code",
   "execution_count": 186,
   "id": "fd0ebb47",
   "metadata": {},
   "outputs": [
    {
     "name": "stdout",
     "output_type": "stream",
     "text": [
      "Total number of features: 184\n",
      "Number of non-zero features in final model: 54\n"
     ]
    },
    {
     "data": {
      "image/png": "[encoded data removed]",
      "text/plain": [
       "<Figure size 600x800 with 1 Axes>"
      ]
     },
     "metadata": {},
     "output_type": "display_data"
    }
   ],
   "source": [
    "# Dataframe of coefficients for each variable \n",
    "coefficients_enet = pd.DataFrame(\n",
    "    enet.named_steps['coxnetsurvivalanalysis'].coef_,\n",
    "    index = attributes,\n",
    "    columns = ['coefficient']\n",
    ")\n",
    "\n",
    "print('Total number of features: {}'.format(len(attributes)))\n",
    "\n",
    "non_zero = np.sum(coefficients_enet.iloc[:, 0] != 0)\n",
    "print('Number of non-zero features in final model: {}'.format(non_zero))\n",
    "\n",
    "non_zero_coefs = coefficients_enet.query('coefficient != 0')\n",
    "coef_order = non_zero_coefs.abs().sort_values('coefficient').tail(30).index\n",
    "\n",
    "_, ax = plt.subplots(figsize=(6, 8))\n",
    "non_zero_coefs.loc[coef_order].plot.barh(ax = ax, legend = False)\n",
    "ax.set_xlabel('coefficient')\n",
    "ax.grid(True)\n",
    "\n",
    "warnings.filterwarnings('ignore')"
   ]
  },
  {
   "cell_type": "markdown",
   "id": "82996d38",
   "metadata": {},
   "source": [
    "**Among the penalized Cox models, the ridge penalty has the best performance in regards to test set 2 year AUC. Not surprisingly, the penalized Cox models perform worse than the gradient boosting model or the random survival forest.**"
   ]
  },
  {
   "cell_type": "markdown",
   "id": "f093ffd9",
   "metadata": {},
   "source": [
    "## 5. Linear survival support vector machine "
   ]
  },
  {
   "cell_type": "markdown",
   "id": "0b31c29b",
   "metadata": {},
   "source": [
    "**Lastly, we'll build a survival support vector machines with a linear kernel and a ranking objective.** "
   ]
  },
  {
   "cell_type": "code",
   "execution_count": 187,
   "id": "ebebc8b6",
   "metadata": {},
   "outputs": [],
   "source": [
    "from sklearn.model_selection import StratifiedKFold, GridSearchCV\n",
    "from sklearn.pipeline import make_pipeline\n",
    "\n",
    "from sksurv.svm import FastSurvivalSVM\n",
    "from sksurv.metrics import cumulative_dynamic_auc, as_cumulative_dynamic_auc_scorer\n",
    "\n",
    "import warnings \n",
    "\n",
    "import matplotlib.pyplot as plt"
   ]
  },
  {
   "cell_type": "code",
   "execution_count": 188,
   "id": "5c982625",
   "metadata": {},
   "outputs": [
    {
     "data": {
      "text/plain": [
       "GridSearchCV(cv=StratifiedKFold(n_splits=5, random_state=42, shuffle=True),\n",
       "             error_score=0.5,\n",
       "             estimator=as_cumulative_dynamic_auc_scorer(estimator=Pipeline(steps=[('columntransformer',\n",
       "                                                                                   ColumnTransformer(remainder='passthrough',\n",
       "                                                                                                     transformers=[('num',\n",
       "                                                                                                                    Pipeline(steps=[('imputer',\n",
       "                                                                                                                                     SimpleImputer(strategy='median')),\n",
       "                                                                                                                                    ('std_scaler',\n",
       "                                                                                                                                     StandardScaler())]),\n",
       "                                                                                                                    ['age',\n",
       "                                                                                                                     'PSADi...\n",
       "                                                                                                   random_state=42,\n",
       "                                                                                                   rank_ratio=1,\n",
       "                                                                                                   tol=0.001))]),\n",
       "                                                        times=730),\n",
       "             n_jobs=-1,\n",
       "             param_grid={'estimator__fastsurvivalsvm__alpha': array([1.00000000e-03, 2.68269580e-03, 7.19685673e-03, 1.93069773e-02,\n",
       "       5.17947468e-02, 1.38949549e-01, 3.72759372e-01, 1.00000000e+00,\n",
       "       2.68269580e+00, 7.19685673e+00, 1.93069773e+01, 5.17947468e+01,\n",
       "       1.38949549e+02, 3.72759372e+02, 1.00000000e+03])},\n",
       "             refit=False)"
      ]
     },
     "execution_count": 188,
     "metadata": {},
     "output_type": "execute_result"
    }
   ],
   "source": [
    "pipe = make_pipeline(preprocessor_red, FastSurvivalSVM(rank_ratio = 1, \n",
    "                                                       max_iter = 1000, \n",
    "                                                       tol = 1e-3,\n",
    "                                                       random_state = 42))\n",
    "\n",
    "# 3 fold cross-validation\n",
    "cv = StratifiedKFold(n_splits = 5, shuffle = True, random_state = 42)\n",
    "\n",
    "# Parameter gird \n",
    "param_grid = {'estimator__fastsurvivalsvm__alpha': 10. ** np.linspace(-3, 3, 15)}\n",
    "\n",
    "linear_svm_search = GridSearchCV(\n",
    "    as_cumulative_dynamic_auc_scorer(pipe, 730),\n",
    "    param_grid = param_grid,\n",
    "    cv = cv,\n",
    "    error_score = 0.5,\n",
    "    n_jobs = -1,\n",
    "    refit = False)\n",
    "\n",
    "# Run search \n",
    "warnings.filterwarnings('ignore')\n",
    "linear_svm_search.fit(train_x_red, train_y)"
   ]
  },
  {
   "cell_type": "code",
   "execution_count": 189,
   "id": "eca0d5d7",
   "metadata": {},
   "outputs": [
    {
     "data": {
      "text/plain": [
       "{'estimator__fastsurvivalsvm__alpha': 0.13894954943731375}"
      ]
     },
     "execution_count": 189,
     "metadata": {},
     "output_type": "execute_result"
    }
   ],
   "source": [
    "linear_svm_search.best_params_"
   ]
  },
  {
   "cell_type": "code",
   "execution_count": 190,
   "id": "949d1058",
   "metadata": {},
   "outputs": [],
   "source": [
    "best_linear_svm_alpha = linear_svm_search.best_params_.get('estimator__fastsurvivalsvm__alpha')"
   ]
  },
  {
   "cell_type": "code",
   "execution_count": 191,
   "id": "5c9a4562",
   "metadata": {},
   "outputs": [
    {
     "data": {
      "text/plain": [
       "Pipeline(steps=[('columntransformer',\n",
       "                 ColumnTransformer(remainder='passthrough',\n",
       "                                   transformers=[('num',\n",
       "                                                  Pipeline(steps=[('imputer',\n",
       "                                                                   SimpleImputer(strategy='median')),\n",
       "                                                                  ('std_scaler',\n",
       "                                                                   StandardScaler())]),\n",
       "                                                  ['age', 'PSADiagnosis',\n",
       "                                                   'PSAMetDiagnosis',\n",
       "                                                   'delta_met_diagnosis',\n",
       "                                                   'crpc_time', 'weight_diag',\n",
       "                                                   'bmi_diag',\n",
       "                                                   'weight_pct_change',\n",
       "                                                   'weight_slope',\n",
       "                                                   'albumin_diag', 'alp_d...\n",
       "                                                   'calcium_max',\n",
       "                                                   'creatinine_max', ...]),\n",
       "                                                 ('cat',\n",
       "                                                  OneHotEncoder(handle_unknown='ignore'),\n",
       "                                                  ['Gender', 'p_type', 'NStage',\n",
       "                                                   'MStage', 'Histology',\n",
       "                                                   'GleasonScore', 'stage',\n",
       "                                                   'met_year', 'brca_status',\n",
       "                                                   'ecog_diagnosis',\n",
       "                                                   'prim_treatment'])])),\n",
       "                ('fastsurvivalsvm',\n",
       "                 FastSurvivalSVM(alpha=0.13894954943731375, max_iter=1000,\n",
       "                                 optimizer='avltree', random_state=42,\n",
       "                                 rank_ratio=1, tol=0.001))])"
      ]
     },
     "execution_count": 191,
     "metadata": {},
     "output_type": "execute_result"
    }
   ],
   "source": [
    "linear_svm = make_pipeline(preprocessor_red, FastSurvivalSVM(alpha = best_linear_svm_alpha,\n",
    "                                                             rank_ratio = 1,\n",
    "                                                             max_iter = 1000,\n",
    "                                                             tol = 1e-3,\n",
    "                                                             random_state = 42))\n",
    "\n",
    "linear_svm.fit(train_x_red, train_y)"
   ]
  },
  {
   "cell_type": "code",
   "execution_count": 192,
   "id": "7bc99b30",
   "metadata": {},
   "outputs": [
    {
     "name": "stdout",
     "output_type": "stream",
     "text": [
      "Test set AUC at 2 years: 0.7406433000543989\n"
     ]
    }
   ],
   "source": [
    "linear_svm_risk_scores_te = linear_svm.predict(test_x_red)\n",
    "linear_svm_auc_te = cumulative_dynamic_auc(train_y, test_y, linear_svm_risk_scores_te, 730)[0][0]\n",
    "print('Test set AUC at 2 years:', linear_svm_auc_te)"
   ]
  },
  {
   "cell_type": "code",
   "execution_count": 193,
   "id": "a589fcd6",
   "metadata": {},
   "outputs": [
    {
     "name": "stdout",
     "output_type": "stream",
     "text": [
      "Training set AUC at 2 years: 0.7462300131306858\n"
     ]
    }
   ],
   "source": [
    "linear_svm_risk_scores_tr = linear_svm.predict(train_x_red)\n",
    "linear_svm_auc_tr = cumulative_dynamic_auc(train_y, train_y, linear_svm_risk_scores_tr, 730)[0][0]\n",
    "print('Training set AUC at 2 years:', linear_svm_auc_tr)"
   ]
  },
  {
   "cell_type": "code",
   "execution_count": 194,
   "id": "122399b2",
   "metadata": {},
   "outputs": [],
   "source": [
    "# Bootstrap 10000 2-yr AUCs for test set \n",
    "n_bootstraps = 10000\n",
    "rng_seed = 42 \n",
    "bootstrapped_scores_te = []\n",
    "\n",
    "rng = np.random.RandomState(rng_seed)\n",
    "for i in range(n_bootstraps):\n",
    "    indices = rng.randint(0, len(linear_svm_risk_scores_te), len(linear_svm_risk_scores_te))\n",
    "    auc_yr = cumulative_dynamic_auc(train_y, test_y[indices], linear_svm_risk_scores_te[indices], 730)[0][0]\n",
    "    bootstrapped_scores_te.append(auc_yr)"
   ]
  },
  {
   "cell_type": "code",
   "execution_count": 195,
   "id": "68a2d81f",
   "metadata": {},
   "outputs": [
    {
     "name": "stdout",
     "output_type": "stream",
     "text": [
      "Test set AUC standard error: 0.009661629000266705\n"
     ]
    }
   ],
   "source": [
    "# Standard error of mean for test set AUC\n",
    "sorted_scores_te = np.array(bootstrapped_scores_te)\n",
    "sorted_scores_te.sort()\n",
    "\n",
    "conf_lower_te = sorted_scores_te[int(0.025 * len(sorted_scores_te))]\n",
    "conf_upper_te = sorted_scores_te[int(0.975 * len(sorted_scores_te))]\n",
    "\n",
    "standard_error_te = (conf_upper_te - conf_lower_te) / 3.92\n",
    "print('Test set AUC standard error:', standard_error_te)"
   ]
  },
  {
   "cell_type": "code",
   "execution_count": 196,
   "id": "a3d50ce5",
   "metadata": {},
   "outputs": [
    {
     "name": "stderr",
     "output_type": "stream",
     "text": [
      "/Users/xavierorcutt/Dropbox/ist_project/myenv/lib/python3.7/site-packages/sksurv/linear_model/coxph.py:174: RuntimeWarning: overflow encountered in exp\n",
      "  risk_set += numpy.exp(xw[k])\n",
      "/Users/xavierorcutt/Dropbox/ist_project/myenv/lib/python3.7/site-packages/sksurv/linear_model/coxph.py:171: RuntimeWarning: overflow encountered in exp\n",
      "  risk_set2 += numpy.exp(xw[k])\n",
      "/Users/xavierorcutt/Dropbox/ist_project/myenv/lib/python3.7/site-packages/sksurv/linear_model/coxph.py:174: RuntimeWarning: overflow encountered in exp\n",
      "  risk_set += numpy.exp(xw[k])\n",
      "/Users/xavierorcutt/Dropbox/ist_project/myenv/lib/python3.7/site-packages/sksurv/linear_model/coxph.py:171: RuntimeWarning: overflow encountered in exp\n",
      "  risk_set2 += numpy.exp(xw[k])\n",
      "/Users/xavierorcutt/Dropbox/ist_project/myenv/lib/python3.7/site-packages/sksurv/linear_model/coxph.py:174: RuntimeWarning: overflow encountered in exp\n",
      "  risk_set += numpy.exp(xw[k])\n",
      "/Users/xavierorcutt/Dropbox/ist_project/myenv/lib/python3.7/site-packages/sksurv/linear_model/coxph.py:171: RuntimeWarning: overflow encountered in exp\n",
      "  risk_set2 += numpy.exp(xw[k])\n",
      "/Users/xavierorcutt/Dropbox/ist_project/myenv/lib/python3.7/site-packages/sklearn/pipeline.py:394: UserWarning: all coefficients are zero, consider decreasing alpha.\n",
      "  self._final_estimator.fit(Xt, y, **fit_params_last_step)\n",
      "/Users/xavierorcutt/Dropbox/ist_project/myenv/lib/python3.7/site-packages/sklearn/pipeline.py:394: UserWarning: all coefficients are zero, consider decreasing alpha.\n",
      "  self._final_estimator.fit(Xt, y, **fit_params_last_step)\n",
      "/Users/xavierorcutt/Dropbox/ist_project/myenv/lib/python3.7/site-packages/sklearn/pipeline.py:394: ConvergenceWarning: Optimization terminated early, you might want to increase the number of iterations (max_iter=100000).\n",
      "  self._final_estimator.fit(Xt, y, **fit_params_last_step)\n",
      "/Users/xavierorcutt/Dropbox/ist_project/myenv/lib/python3.7/site-packages/sksurv/linear_model/coxph.py:171: RuntimeWarning: overflow encountered in exp\n",
      "  risk_set2 += numpy.exp(xw[k])\n",
      "/Users/xavierorcutt/Dropbox/ist_project/myenv/lib/python3.7/site-packages/sksurv/linear_model/coxph.py:171: RuntimeWarning: overflow encountered in exp\n",
      "  risk_set2 += numpy.exp(xw[k])\n",
      "/Users/xavierorcutt/Dropbox/ist_project/myenv/lib/python3.7/site-packages/sksurv/linear_model/coxph.py:171: RuntimeWarning: overflow encountered in exp\n",
      "  risk_set2 += numpy.exp(xw[k])\n",
      "/Users/xavierorcutt/Dropbox/ist_project/myenv/lib/python3.7/site-packages/sksurv/linear_model/coxph.py:171: RuntimeWarning: overflow encountered in exp\n",
      "  risk_set2 += numpy.exp(xw[k])\n",
      "/Users/xavierorcutt/Dropbox/ist_project/myenv/lib/python3.7/site-packages/sklearn/pipeline.py:394: UserWarning: all coefficients are zero, consider decreasing alpha.\n",
      "  self._final_estimator.fit(Xt, y, **fit_params_last_step)\n",
      "/Users/xavierorcutt/Dropbox/ist_project/myenv/lib/python3.7/site-packages/sksurv/linear_model/coxph.py:171: RuntimeWarning: overflow encountered in exp\n",
      "  risk_set2 += numpy.exp(xw[k])\n",
      "/Users/xavierorcutt/Dropbox/ist_project/myenv/lib/python3.7/site-packages/sksurv/linear_model/coxph.py:171: RuntimeWarning: overflow encountered in exp\n",
      "  risk_set2 += numpy.exp(xw[k])\n",
      "/Users/xavierorcutt/Dropbox/ist_project/myenv/lib/python3.7/site-packages/sksurv/linear_model/coxph.py:174: RuntimeWarning: overflow encountered in exp\n",
      "  risk_set += numpy.exp(xw[k])\n",
      "/Users/xavierorcutt/Dropbox/ist_project/myenv/lib/python3.7/site-packages/sksurv/linear_model/coxph.py:171: RuntimeWarning: overflow encountered in exp\n",
      "  risk_set2 += numpy.exp(xw[k])\n",
      "/Users/xavierorcutt/Dropbox/ist_project/myenv/lib/python3.7/site-packages/sksurv/linear_model/coxph.py:171: RuntimeWarning: overflow encountered in exp\n",
      "  risk_set2 += numpy.exp(xw[k])\n",
      "/Users/xavierorcutt/Dropbox/ist_project/myenv/lib/python3.7/site-packages/sksurv/linear_model/coxph.py:171: RuntimeWarning: overflow encountered in exp\n",
      "  risk_set2 += numpy.exp(xw[k])\n",
      "/Users/xavierorcutt/Dropbox/ist_project/myenv/lib/python3.7/site-packages/sklearn/pipeline.py:394: UserWarning: all coefficients are zero, consider decreasing alpha.\n",
      "  self._final_estimator.fit(Xt, y, **fit_params_last_step)\n",
      "/Users/xavierorcutt/Dropbox/ist_project/myenv/lib/python3.7/site-packages/sklearn/pipeline.py:394: UserWarning: all coefficients are zero, consider decreasing alpha.\n",
      "  self._final_estimator.fit(Xt, y, **fit_params_last_step)\n",
      "/Users/xavierorcutt/Dropbox/ist_project/myenv/lib/python3.7/site-packages/sklearn/pipeline.py:394: UserWarning: all coefficients are zero, consider decreasing alpha.\n",
      "  self._final_estimator.fit(Xt, y, **fit_params_last_step)\n",
      "/Users/xavierorcutt/Dropbox/ist_project/myenv/lib/python3.7/site-packages/sksurv/linear_model/coxph.py:171: RuntimeWarning: overflow encountered in exp\n",
      "  risk_set2 += numpy.exp(xw[k])\n",
      "/Users/xavierorcutt/Dropbox/ist_project/myenv/lib/python3.7/site-packages/sksurv/linear_model/coxph.py:174: RuntimeWarning: overflow encountered in exp\n",
      "  risk_set += numpy.exp(xw[k])\n",
      "/Users/xavierorcutt/Dropbox/ist_project/myenv/lib/python3.7/site-packages/sksurv/linear_model/coxph.py:171: RuntimeWarning: overflow encountered in exp\n",
      "  risk_set2 += numpy.exp(xw[k])\n",
      "/Users/xavierorcutt/Dropbox/ist_project/myenv/lib/python3.7/site-packages/sklearn/pipeline.py:394: UserWarning: all coefficients are zero, consider decreasing alpha.\n",
      "  self._final_estimator.fit(Xt, y, **fit_params_last_step)\n",
      "/Users/xavierorcutt/Dropbox/ist_project/myenv/lib/python3.7/site-packages/sklearn/pipeline.py:394: UserWarning: all coefficients are zero, consider decreasing alpha.\n",
      "  self._final_estimator.fit(Xt, y, **fit_params_last_step)\n"
     ]
    }
   ],
   "source": [
    "# Bootstrap 10000 2-yr AUCs for train set \n",
    "n_bootstraps = 10000\n",
    "rng_seed = 42 \n",
    "bootstrapped_scores_tr = []\n",
    "\n",
    "rng = np.random.RandomState(rng_seed)\n",
    "for i in range(n_bootstraps):\n",
    "    indices = rng.randint(0, len(linear_svm_risk_scores_tr), len(linear_svm_risk_scores_tr))\n",
    "    auc_yr = cumulative_dynamic_auc(train_y, train_y[indices], linear_svm_risk_scores_tr[indices], 730)[0][0]\n",
    "    bootstrapped_scores_tr.append(auc_yr)"
   ]
  },
  {
   "cell_type": "code",
   "execution_count": 197,
   "id": "ce3e1115",
   "metadata": {},
   "outputs": [
    {
     "name": "stdout",
     "output_type": "stream",
     "text": [
      "Training set AUC standard error 0.004833414609249235\n"
     ]
    }
   ],
   "source": [
    "# Standard error of mean for train set AUC\n",
    "sorted_scores_tr = np.array(bootstrapped_scores_tr)\n",
    "sorted_scores_tr.sort()\n",
    "\n",
    "conf_lower_tr = sorted_scores_tr[int(0.025 * len(sorted_scores_tr))]\n",
    "conf_upper_tr = sorted_scores_tr[int(0.975 * len(sorted_scores_tr))]\n",
    "\n",
    "standard_error_tr = (conf_upper_tr - conf_lower_tr) / 3.92\n",
    "print('Training set AUC standard error', standard_error_tr)"
   ]
  },
  {
   "cell_type": "code",
   "execution_count": 198,
   "id": "20fd37f4",
   "metadata": {},
   "outputs": [],
   "source": [
    "crude_auc_data = {'model': 'linear_svm_crude',\n",
    "                  'auc_2yr_te': linear_svm_auc_te,\n",
    "                  'sem_te': standard_error_te,\n",
    "                  'auc_2yr_tr': linear_svm_auc_tr,\n",
    "                  'sem_tr': standard_error_tr}"
   ]
  },
  {
   "cell_type": "code",
   "execution_count": 199,
   "id": "4a189cb5",
   "metadata": {},
   "outputs": [],
   "source": [
    "crude_auc_df = pd.read_csv('crude_auc_df.csv')"
   ]
  },
  {
   "cell_type": "code",
   "execution_count": 200,
   "id": "332a3bbf",
   "metadata": {},
   "outputs": [],
   "source": [
    "crude_auc_df = crude_auc_df.append(crude_auc_data, ignore_index = True)"
   ]
  },
  {
   "cell_type": "code",
   "execution_count": 201,
   "id": "64e19fd2",
   "metadata": {},
   "outputs": [
    {
     "data": {
      "text/html": [
       "<div>\n",
       "<style scoped>\n",
       "    .dataframe tbody tr th:only-of-type {\n",
       "        vertical-align: middle;\n",
       "    }\n",
       "\n",
       "    .dataframe tbody tr th {\n",
       "        vertical-align: top;\n",
       "    }\n",
       "\n",
       "    .dataframe thead th {\n",
       "        text-align: right;\n",
       "    }\n",
       "</style>\n",
       "<table border=\"1\" class=\"dataframe\">\n",
       "  <thead>\n",
       "    <tr style=\"text-align: right;\">\n",
       "      <th></th>\n",
       "      <th>model</th>\n",
       "      <th>auc_2yr_te</th>\n",
       "      <th>sem_te</th>\n",
       "      <th>auc_2yr_tr</th>\n",
       "      <th>sem_tr</th>\n",
       "    </tr>\n",
       "  </thead>\n",
       "  <tbody>\n",
       "    <tr>\n",
       "      <th>0</th>\n",
       "      <td>gbm_crude</td>\n",
       "      <td>0.754326</td>\n",
       "      <td>0.009489</td>\n",
       "      <td>0.784849</td>\n",
       "      <td>0.004590</td>\n",
       "    </tr>\n",
       "    <tr>\n",
       "      <th>1</th>\n",
       "      <td>rsf_crude</td>\n",
       "      <td>0.747107</td>\n",
       "      <td>0.009631</td>\n",
       "      <td>0.835588</td>\n",
       "      <td>0.003914</td>\n",
       "    </tr>\n",
       "    <tr>\n",
       "      <th>2</th>\n",
       "      <td>ridge_crude</td>\n",
       "      <td>0.739499</td>\n",
       "      <td>0.009629</td>\n",
       "      <td>0.743281</td>\n",
       "      <td>0.004897</td>\n",
       "    </tr>\n",
       "    <tr>\n",
       "      <th>3</th>\n",
       "      <td>lasso_crude</td>\n",
       "      <td>0.729512</td>\n",
       "      <td>0.009712</td>\n",
       "      <td>0.733718</td>\n",
       "      <td>0.004997</td>\n",
       "    </tr>\n",
       "    <tr>\n",
       "      <th>4</th>\n",
       "      <td>enet_crude</td>\n",
       "      <td>0.731323</td>\n",
       "      <td>0.009719</td>\n",
       "      <td>0.734977</td>\n",
       "      <td>0.004973</td>\n",
       "    </tr>\n",
       "    <tr>\n",
       "      <th>5</th>\n",
       "      <td>linear_svm_crude</td>\n",
       "      <td>0.740643</td>\n",
       "      <td>0.009662</td>\n",
       "      <td>0.746230</td>\n",
       "      <td>0.004833</td>\n",
       "    </tr>\n",
       "  </tbody>\n",
       "</table>\n",
       "</div>"
      ],
      "text/plain": [
       "              model  auc_2yr_te    sem_te  auc_2yr_tr    sem_tr\n",
       "0         gbm_crude    0.754326  0.009489    0.784849  0.004590\n",
       "1         rsf_crude    0.747107  0.009631    0.835588  0.003914\n",
       "2       ridge_crude    0.739499  0.009629    0.743281  0.004897\n",
       "3       lasso_crude    0.729512  0.009712    0.733718  0.004997\n",
       "4        enet_crude    0.731323  0.009719    0.734977  0.004973\n",
       "5  linear_svm_crude    0.740643  0.009662    0.746230  0.004833"
      ]
     },
     "execution_count": 201,
     "metadata": {},
     "output_type": "execute_result"
    }
   ],
   "source": [
    "crude_auc_df"
   ]
  },
  {
   "cell_type": "code",
   "execution_count": 202,
   "id": "da6aad2e",
   "metadata": {},
   "outputs": [],
   "source": [
    "crude_auc_df.to_csv('crude_auc_df.csv', index = False, header = True)"
   ]
  },
  {
   "cell_type": "code",
   "execution_count": 203,
   "id": "20d4e732",
   "metadata": {},
   "outputs": [],
   "source": [
    "times = np.arange(30, 1810, 30)\n",
    "crude_linear_svm_auc_over5 = cumulative_dynamic_auc(train_y, test_y, linear_svm_risk_scores_te, times)[0]\n",
    "\n",
    "times_data = {}\n",
    "values = crude_linear_svm_auc_over5\n",
    "time_names = []\n",
    "\n",
    "for x in range(len(times)):\n",
    "    time_names.append('time_'+str(times[x]))\n",
    "\n",
    "for i in range(len(time_names)):\n",
    "    times_data[time_names[i]] = values[i]\n",
    "    \n",
    "crude_linear_svm_over5_df = pd.DataFrame(times_data, index = ['linear_svm_crude'])"
   ]
  },
  {
   "cell_type": "code",
   "execution_count": 204,
   "id": "3d3b9f5e",
   "metadata": {},
   "outputs": [],
   "source": [
    "crude_auc_over5 = pd.read_csv('crude_auc_over5.csv', index_col = 0)"
   ]
  },
  {
   "cell_type": "code",
   "execution_count": 205,
   "id": "c0fc0d95",
   "metadata": {},
   "outputs": [],
   "source": [
    "crude_auc_over5 = crude_auc_over5.append(crude_linear_svm_over5_df, ignore_index = False)"
   ]
  },
  {
   "cell_type": "code",
   "execution_count": 206,
   "id": "1a696372",
   "metadata": {},
   "outputs": [
    {
     "data": {
      "text/html": [
       "<div>\n",
       "<style scoped>\n",
       "    .dataframe tbody tr th:only-of-type {\n",
       "        vertical-align: middle;\n",
       "    }\n",
       "\n",
       "    .dataframe tbody tr th {\n",
       "        vertical-align: top;\n",
       "    }\n",
       "\n",
       "    .dataframe thead th {\n",
       "        text-align: right;\n",
       "    }\n",
       "</style>\n",
       "<table border=\"1\" class=\"dataframe\">\n",
       "  <thead>\n",
       "    <tr style=\"text-align: right;\">\n",
       "      <th></th>\n",
       "      <th>time_30</th>\n",
       "      <th>time_60</th>\n",
       "      <th>time_90</th>\n",
       "      <th>time_120</th>\n",
       "      <th>time_150</th>\n",
       "      <th>time_180</th>\n",
       "      <th>time_210</th>\n",
       "      <th>time_240</th>\n",
       "      <th>time_270</th>\n",
       "      <th>time_300</th>\n",
       "      <th>...</th>\n",
       "      <th>time_1530</th>\n",
       "      <th>time_1560</th>\n",
       "      <th>time_1590</th>\n",
       "      <th>time_1620</th>\n",
       "      <th>time_1650</th>\n",
       "      <th>time_1680</th>\n",
       "      <th>time_1710</th>\n",
       "      <th>time_1740</th>\n",
       "      <th>time_1770</th>\n",
       "      <th>time_1800</th>\n",
       "    </tr>\n",
       "  </thead>\n",
       "  <tbody>\n",
       "    <tr>\n",
       "      <th>gbm_crude</th>\n",
       "      <td>0.939989</td>\n",
       "      <td>0.879690</td>\n",
       "      <td>0.847818</td>\n",
       "      <td>0.843958</td>\n",
       "      <td>0.847837</td>\n",
       "      <td>0.840647</td>\n",
       "      <td>0.814709</td>\n",
       "      <td>0.819052</td>\n",
       "      <td>0.812366</td>\n",
       "      <td>0.808159</td>\n",
       "      <td>...</td>\n",
       "      <td>0.753889</td>\n",
       "      <td>0.752263</td>\n",
       "      <td>0.749549</td>\n",
       "      <td>0.752131</td>\n",
       "      <td>0.751861</td>\n",
       "      <td>0.750556</td>\n",
       "      <td>0.753784</td>\n",
       "      <td>0.753390</td>\n",
       "      <td>0.758921</td>\n",
       "      <td>0.754951</td>\n",
       "    </tr>\n",
       "    <tr>\n",
       "      <th>rsf_crude</th>\n",
       "      <td>0.943321</td>\n",
       "      <td>0.859619</td>\n",
       "      <td>0.836860</td>\n",
       "      <td>0.831707</td>\n",
       "      <td>0.839734</td>\n",
       "      <td>0.835625</td>\n",
       "      <td>0.814617</td>\n",
       "      <td>0.818675</td>\n",
       "      <td>0.810828</td>\n",
       "      <td>0.804644</td>\n",
       "      <td>...</td>\n",
       "      <td>0.746811</td>\n",
       "      <td>0.745353</td>\n",
       "      <td>0.743979</td>\n",
       "      <td>0.745775</td>\n",
       "      <td>0.747025</td>\n",
       "      <td>0.745861</td>\n",
       "      <td>0.751090</td>\n",
       "      <td>0.748565</td>\n",
       "      <td>0.751606</td>\n",
       "      <td>0.747241</td>\n",
       "    </tr>\n",
       "    <tr>\n",
       "      <th>ridge_crude</th>\n",
       "      <td>0.940743</td>\n",
       "      <td>0.853769</td>\n",
       "      <td>0.835408</td>\n",
       "      <td>0.839343</td>\n",
       "      <td>0.842357</td>\n",
       "      <td>0.826953</td>\n",
       "      <td>0.810761</td>\n",
       "      <td>0.811328</td>\n",
       "      <td>0.801389</td>\n",
       "      <td>0.796506</td>\n",
       "      <td>...</td>\n",
       "      <td>0.741939</td>\n",
       "      <td>0.740517</td>\n",
       "      <td>0.738005</td>\n",
       "      <td>0.737660</td>\n",
       "      <td>0.738090</td>\n",
       "      <td>0.738095</td>\n",
       "      <td>0.740362</td>\n",
       "      <td>0.738750</td>\n",
       "      <td>0.743936</td>\n",
       "      <td>0.741682</td>\n",
       "    </tr>\n",
       "    <tr>\n",
       "      <th>lasso_crude</th>\n",
       "      <td>0.932161</td>\n",
       "      <td>0.849817</td>\n",
       "      <td>0.817803</td>\n",
       "      <td>0.822521</td>\n",
       "      <td>0.826127</td>\n",
       "      <td>0.812395</td>\n",
       "      <td>0.792999</td>\n",
       "      <td>0.795127</td>\n",
       "      <td>0.784982</td>\n",
       "      <td>0.781630</td>\n",
       "      <td>...</td>\n",
       "      <td>0.735462</td>\n",
       "      <td>0.734780</td>\n",
       "      <td>0.731321</td>\n",
       "      <td>0.732511</td>\n",
       "      <td>0.733281</td>\n",
       "      <td>0.732614</td>\n",
       "      <td>0.736599</td>\n",
       "      <td>0.735553</td>\n",
       "      <td>0.741098</td>\n",
       "      <td>0.739002</td>\n",
       "    </tr>\n",
       "    <tr>\n",
       "      <th>enet_crude</th>\n",
       "      <td>0.935713</td>\n",
       "      <td>0.853191</td>\n",
       "      <td>0.821257</td>\n",
       "      <td>0.825660</td>\n",
       "      <td>0.828317</td>\n",
       "      <td>0.814298</td>\n",
       "      <td>0.795456</td>\n",
       "      <td>0.797324</td>\n",
       "      <td>0.787040</td>\n",
       "      <td>0.783472</td>\n",
       "      <td>...</td>\n",
       "      <td>0.736859</td>\n",
       "      <td>0.736194</td>\n",
       "      <td>0.732908</td>\n",
       "      <td>0.733932</td>\n",
       "      <td>0.734646</td>\n",
       "      <td>0.734098</td>\n",
       "      <td>0.737852</td>\n",
       "      <td>0.736771</td>\n",
       "      <td>0.742287</td>\n",
       "      <td>0.740268</td>\n",
       "    </tr>\n",
       "    <tr>\n",
       "      <th>linear_svm_crude</th>\n",
       "      <td>0.937268</td>\n",
       "      <td>0.852357</td>\n",
       "      <td>0.836716</td>\n",
       "      <td>0.840963</td>\n",
       "      <td>0.844496</td>\n",
       "      <td>0.829960</td>\n",
       "      <td>0.815797</td>\n",
       "      <td>0.815083</td>\n",
       "      <td>0.807018</td>\n",
       "      <td>0.801730</td>\n",
       "      <td>...</td>\n",
       "      <td>0.740884</td>\n",
       "      <td>0.739269</td>\n",
       "      <td>0.737034</td>\n",
       "      <td>0.736596</td>\n",
       "      <td>0.736812</td>\n",
       "      <td>0.736595</td>\n",
       "      <td>0.739471</td>\n",
       "      <td>0.736800</td>\n",
       "      <td>0.741862</td>\n",
       "      <td>0.739001</td>\n",
       "    </tr>\n",
       "  </tbody>\n",
       "</table>\n",
       "<p>6 rows × 60 columns</p>\n",
       "</div>"
      ],
      "text/plain": [
       "                   time_30   time_60   time_90  time_120  time_150  time_180  \\\n",
       "gbm_crude         0.939989  0.879690  0.847818  0.843958  0.847837  0.840647   \n",
       "rsf_crude         0.943321  0.859619  0.836860  0.831707  0.839734  0.835625   \n",
       "ridge_crude       0.940743  0.853769  0.835408  0.839343  0.842357  0.826953   \n",
       "lasso_crude       0.932161  0.849817  0.817803  0.822521  0.826127  0.812395   \n",
       "enet_crude        0.935713  0.853191  0.821257  0.825660  0.828317  0.814298   \n",
       "linear_svm_crude  0.937268  0.852357  0.836716  0.840963  0.844496  0.829960   \n",
       "\n",
       "                  time_210  time_240  time_270  time_300  ...  time_1530  \\\n",
       "gbm_crude         0.814709  0.819052  0.812366  0.808159  ...   0.753889   \n",
       "rsf_crude         0.814617  0.818675  0.810828  0.804644  ...   0.746811   \n",
       "ridge_crude       0.810761  0.811328  0.801389  0.796506  ...   0.741939   \n",
       "lasso_crude       0.792999  0.795127  0.784982  0.781630  ...   0.735462   \n",
       "enet_crude        0.795456  0.797324  0.787040  0.783472  ...   0.736859   \n",
       "linear_svm_crude  0.815797  0.815083  0.807018  0.801730  ...   0.740884   \n",
       "\n",
       "                  time_1560  time_1590  time_1620  time_1650  time_1680  \\\n",
       "gbm_crude          0.752263   0.749549   0.752131   0.751861   0.750556   \n",
       "rsf_crude          0.745353   0.743979   0.745775   0.747025   0.745861   \n",
       "ridge_crude        0.740517   0.738005   0.737660   0.738090   0.738095   \n",
       "lasso_crude        0.734780   0.731321   0.732511   0.733281   0.732614   \n",
       "enet_crude         0.736194   0.732908   0.733932   0.734646   0.734098   \n",
       "linear_svm_crude   0.739269   0.737034   0.736596   0.736812   0.736595   \n",
       "\n",
       "                  time_1710  time_1740  time_1770  time_1800  \n",
       "gbm_crude          0.753784   0.753390   0.758921   0.754951  \n",
       "rsf_crude          0.751090   0.748565   0.751606   0.747241  \n",
       "ridge_crude        0.740362   0.738750   0.743936   0.741682  \n",
       "lasso_crude        0.736599   0.735553   0.741098   0.739002  \n",
       "enet_crude         0.737852   0.736771   0.742287   0.740268  \n",
       "linear_svm_crude   0.739471   0.736800   0.741862   0.739001  \n",
       "\n",
       "[6 rows x 60 columns]"
      ]
     },
     "execution_count": 206,
     "metadata": {},
     "output_type": "execute_result"
    }
   ],
   "source": [
    "crude_auc_over5"
   ]
  },
  {
   "cell_type": "code",
   "execution_count": 207,
   "id": "efd52084",
   "metadata": {},
   "outputs": [],
   "source": [
    "crude_auc_over5.to_csv('crude_auc_over5.csv', index = True, header = True)"
   ]
  },
  {
   "cell_type": "code",
   "execution_count": 208,
   "id": "d630527e",
   "metadata": {},
   "outputs": [],
   "source": [
    "# Variables passing through pipeline\n",
    "cat_encoder = list(preprocessor_red.transformers_[1][1].get_feature_names_out(categorical_features))\n",
    "pass_through = list(train_x_red.iloc[:, preprocessor_red.transformers_[2][2]].columns)\n",
    "attributes = numerical_features_red + cat_encoder + pass_through"
   ]
  },
  {
   "cell_type": "code",
   "execution_count": 209,
   "id": "6351c8a4",
   "metadata": {},
   "outputs": [
    {
     "name": "stdout",
     "output_type": "stream",
     "text": [
      "Total number of features: 184\n",
      "Number of non-zero features in final model: 184\n"
     ]
    },
    {
     "data": {
      "image/png": "[encoded data removed]",
      "text/plain": [
       "<Figure size 600x800 with 1 Axes>"
      ]
     },
     "metadata": {},
     "output_type": "display_data"
    },
    {
     "name": "stderr",
     "output_type": "stream",
     "text": [
      "/Users/xavierorcutt/Dropbox/ist_project/myenv/lib/python3.7/site-packages/sksurv/linear_model/coxph.py:174: RuntimeWarning: overflow encountered in exp\n",
      "  risk_set += numpy.exp(xw[k])\n",
      "/Users/xavierorcutt/Dropbox/ist_project/myenv/lib/python3.7/site-packages/sksurv/linear_model/coxph.py:171: RuntimeWarning: overflow encountered in exp\n",
      "  risk_set2 += numpy.exp(xw[k])\n",
      "/Users/xavierorcutt/Dropbox/ist_project/myenv/lib/python3.7/site-packages/sksurv/linear_model/coxph.py:174: RuntimeWarning: overflow encountered in exp\n",
      "  risk_set += numpy.exp(xw[k])\n",
      "/Users/xavierorcutt/Dropbox/ist_project/myenv/lib/python3.7/site-packages/sksurv/linear_model/coxph.py:171: RuntimeWarning: overflow encountered in exp\n",
      "  risk_set2 += numpy.exp(xw[k])\n",
      "/Users/xavierorcutt/Dropbox/ist_project/myenv/lib/python3.7/site-packages/sksurv/linear_model/coxph.py:174: RuntimeWarning: overflow encountered in exp\n",
      "  risk_set += numpy.exp(xw[k])\n",
      "/Users/xavierorcutt/Dropbox/ist_project/myenv/lib/python3.7/site-packages/sksurv/linear_model/coxph.py:171: RuntimeWarning: overflow encountered in exp\n",
      "  risk_set2 += numpy.exp(xw[k])\n",
      "/Users/xavierorcutt/Dropbox/ist_project/myenv/lib/python3.7/site-packages/sklearn/pipeline.py:394: UserWarning: all coefficients are zero, consider decreasing alpha.\n",
      "  self._final_estimator.fit(Xt, y, **fit_params_last_step)\n",
      "/Users/xavierorcutt/Dropbox/ist_project/myenv/lib/python3.7/site-packages/sksurv/linear_model/coxph.py:174: RuntimeWarning: overflow encountered in exp\n",
      "  risk_set += numpy.exp(xw[k])\n",
      "/Users/xavierorcutt/Dropbox/ist_project/myenv/lib/python3.7/site-packages/sksurv/linear_model/coxph.py:171: RuntimeWarning: overflow encountered in exp\n",
      "  risk_set2 += numpy.exp(xw[k])\n",
      "/Users/xavierorcutt/Dropbox/ist_project/myenv/lib/python3.7/site-packages/sksurv/linear_model/coxph.py:171: RuntimeWarning: overflow encountered in exp\n",
      "  risk_set2 += numpy.exp(xw[k])\n",
      "/Users/xavierorcutt/Dropbox/ist_project/myenv/lib/python3.7/site-packages/sksurv/linear_model/coxph.py:174: RuntimeWarning: overflow encountered in exp\n",
      "  risk_set += numpy.exp(xw[k])\n",
      "/Users/xavierorcutt/Dropbox/ist_project/myenv/lib/python3.7/site-packages/sksurv/linear_model/coxph.py:171: RuntimeWarning: overflow encountered in exp\n",
      "  risk_set2 += numpy.exp(xw[k])\n",
      "/Users/xavierorcutt/Dropbox/ist_project/myenv/lib/python3.7/site-packages/sksurv/linear_model/coxph.py:171: RuntimeWarning: overflow encountered in exp\n",
      "  risk_set2 += numpy.exp(xw[k])\n",
      "/Users/xavierorcutt/Dropbox/ist_project/myenv/lib/python3.7/site-packages/sksurv/linear_model/coxph.py:171: RuntimeWarning: overflow encountered in exp\n",
      "  risk_set2 += numpy.exp(xw[k])\n",
      "/Users/xavierorcutt/Dropbox/ist_project/myenv/lib/python3.7/site-packages/sklearn/pipeline.py:394: UserWarning: all coefficients are zero, consider decreasing alpha.\n",
      "  self._final_estimator.fit(Xt, y, **fit_params_last_step)\n",
      "/Users/xavierorcutt/Dropbox/ist_project/myenv/lib/python3.7/site-packages/sksurv/linear_model/coxph.py:171: RuntimeWarning: overflow encountered in exp\n",
      "  risk_set2 += numpy.exp(xw[k])\n",
      "/Users/xavierorcutt/Dropbox/ist_project/myenv/lib/python3.7/site-packages/sksurv/linear_model/coxph.py:174: RuntimeWarning: overflow encountered in exp\n",
      "  risk_set += numpy.exp(xw[k])\n",
      "/Users/xavierorcutt/Dropbox/ist_project/myenv/lib/python3.7/site-packages/sksurv/linear_model/coxph.py:171: RuntimeWarning: overflow encountered in exp\n",
      "  risk_set2 += numpy.exp(xw[k])\n",
      "/Users/xavierorcutt/Dropbox/ist_project/myenv/lib/python3.7/site-packages/sksurv/linear_model/coxph.py:171: RuntimeWarning: overflow encountered in exp\n",
      "  risk_set2 += numpy.exp(xw[k])\n",
      "/Users/xavierorcutt/Dropbox/ist_project/myenv/lib/python3.7/site-packages/sksurv/linear_model/coxph.py:174: RuntimeWarning: overflow encountered in exp\n",
      "  risk_set += numpy.exp(xw[k])\n",
      "/Users/xavierorcutt/Dropbox/ist_project/myenv/lib/python3.7/site-packages/sklearn/pipeline.py:394: UserWarning: all coefficients are zero, consider decreasing alpha.\n",
      "  self._final_estimator.fit(Xt, y, **fit_params_last_step)\n",
      "/Users/xavierorcutt/Dropbox/ist_project/myenv/lib/python3.7/site-packages/sksurv/linear_model/coxph.py:174: RuntimeWarning: overflow encountered in exp\n",
      "  risk_set += numpy.exp(xw[k])\n",
      "/Users/xavierorcutt/Dropbox/ist_project/myenv/lib/python3.7/site-packages/sksurv/linear_model/coxph.py:171: RuntimeWarning: overflow encountered in exp\n",
      "  risk_set2 += numpy.exp(xw[k])\n",
      "/Users/xavierorcutt/Dropbox/ist_project/myenv/lib/python3.7/site-packages/sksurv/linear_model/coxph.py:174: RuntimeWarning: overflow encountered in exp\n",
      "  risk_set += numpy.exp(xw[k])\n",
      "/Users/xavierorcutt/Dropbox/ist_project/myenv/lib/python3.7/site-packages/sksurv/linear_model/coxph.py:171: RuntimeWarning: overflow encountered in exp\n",
      "  risk_set2 += numpy.exp(xw[k])\n",
      "/Users/xavierorcutt/Dropbox/ist_project/myenv/lib/python3.7/site-packages/sksurv/linear_model/coxph.py:171: RuntimeWarning: overflow encountered in exp\n",
      "  risk_set2 += numpy.exp(xw[k])\n",
      "/Users/xavierorcutt/Dropbox/ist_project/myenv/lib/python3.7/site-packages/sklearn/pipeline.py:394: UserWarning: all coefficients are zero, consider decreasing alpha.\n",
      "  self._final_estimator.fit(Xt, y, **fit_params_last_step)\n",
      "/Users/xavierorcutt/Dropbox/ist_project/myenv/lib/python3.7/site-packages/sklearn/pipeline.py:394: UserWarning: all coefficients are zero, consider decreasing alpha.\n",
      "  self._final_estimator.fit(Xt, y, **fit_params_last_step)\n"
     ]
    }
   ],
   "source": [
    "# Dataframe of coefficients for each variable \n",
    "coefficients_linear_svm = pd.DataFrame(\n",
    "    linear_svm.named_steps['fastsurvivalsvm'].coef_,\n",
    "    index = attributes,\n",
    "    columns = ['coefficient']\n",
    ")\n",
    "\n",
    "print('Total number of features: {}'.format(len(attributes)))\n",
    "\n",
    "non_zero = np.sum(coefficients_linear_svm.iloc[:, 0] != 0)\n",
    "print('Number of non-zero features in final model: {}'.format(non_zero))\n",
    "\n",
    "non_zero_coefs = coefficients_linear_svm.query('coefficient != 0')\n",
    "coef_order = non_zero_coefs.abs().sort_values('coefficient').tail(30).index\n",
    "\n",
    "_, ax = plt.subplots(figsize=(6, 8))\n",
    "non_zero_coefs.loc[coef_order].plot.barh(ax = ax, legend = False)\n",
    "ax.set_xlabel('coefficient')\n",
    "ax.grid(True)"
   ]
  },
  {
   "cell_type": "markdown",
   "id": "8fd67e57",
   "metadata": {},
   "source": [
    "**In conclusion, the gradient boosted model has the best test set performance in regards to 2 year AUC. Random survival forest follows closely behind. The bottom performers are penalized Cox and linear survival support vector machine.** "
   ]
  }
 ],
 "metadata": {
  "kernelspec": {
   "display_name": "My Virtual Environment",
   "language": "python",
   "name": "myenv"
  },
  "language_info": {
   "codemirror_mode": {
    "name": "ipython",
    "version": 3
   },
   "file_extension": ".py",
   "mimetype": "text/x-python",
   "name": "python",
   "nbconvert_exporter": "python",
   "pygments_lexer": "ipython3",
   "version": "3.7.10"
  }
 },
 "nbformat": 4,
 "nbformat_minor": 5
}
