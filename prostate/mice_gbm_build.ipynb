{
 "cells": [
  {
   "cell_type": "markdown",
   "id": "be165f7f",
   "metadata": {},
   "source": [
    "# Flatiron Health mPC: MICE\n",
    "\n",
    "**OBJECTIVE: Impute missing variables in the training dataset using multiple imputation chained equations (MICE). Five non-missing training sets will be construced using MICE along with 5 test sets. A gradient boosted model will be fit to each training dataset and a test set AUC will be calculated. The 1 year AUCs from the test set will be pooled to get a final estimate.** \n",
    "\n",
    "**BACKGROUND: The variables with the most missingness at time of metastatic diagnosis are ECOG (50%), labs (30%), and changes in weight (11%). These three variables have high predictive value in our models. Up until this point, missingness has been handled by making \"unknown\" a level in the ECOG variable and imputing median for lab values and weight loss. While this imputation strategy is simple and fast, it likely understimates the variance of variables and disturb relations between variables when the data is not missing completely at random.** \n",
    "\n",
    "**Variables that will be imputed with MICE:** \n",
    "1. **ECOG (48% missing)**\n",
    "2. **BMI (15% missing)**\n",
    "3. **Weight (25% missing)**\n",
    "4. **Percent change in weight and weight slope (11% missing)**\n",
    "5. **Socioeconomic status (20% missing)**\n",
    "6. **Stage (40%)**\n",
    "7. **Labs at time of advanced diagnosis (30% missing)**\n",
    "8. **Subset of summary labs (40% missing)**\n",
    "\n",
    "**Five complete training sets will be imputed using the Python package \"miceforest\" which uses lightgbm as a backend. Five complete test sets will also be imputed from the final model used to impute the training set values. All existing variables including outcome variables like death status and time until event will be utilized to aid in the imputations. In addition, auxillary variables such as receipt of treatment, weight and BMI at 3 months, and labs at 3 months will be created to augment imputations.**   \n",
    "\n",
    "**After complete training and test sets are constructed, a gradient boosting survival model will be built for each training set in the same fashion as in the crude imputation notebook. Final test AUCs will be pooled using Rubin's rules.**\n",
    "\n",
    "**OUTLINE:**\n",
    "1. **Building auxillary variables** \n",
    "2. **Performing MICE on training and test sets** \n",
    "3. **Building gradient boosting models on imputed datasets**\n",
    "4. **Pooling results**"
   ]
  },
  {
   "cell_type": "markdown",
   "id": "9ffb5843",
   "metadata": {},
   "source": [
    "## 1. Building auxillary varibles "
   ]
  },
  {
   "cell_type": "code",
   "execution_count": 1,
   "id": "c012dae6",
   "metadata": {},
   "outputs": [],
   "source": [
    "import numpy as np\n",
    "import pandas as pd"
   ]
  },
  {
   "cell_type": "code",
   "execution_count": 2,
   "id": "48f3534a",
   "metadata": {},
   "outputs": [],
   "source": [
    "# Function that returns number of rows and count of unique PatientIDs for a dataframe. \n",
    "def row_ID(dataframe):\n",
    "    row = dataframe.shape[0]\n",
    "    ID = dataframe['PatientID'].nunique()\n",
    "    return row, ID"
   ]
  },
  {
   "cell_type": "markdown",
   "id": "44722009",
   "metadata": {},
   "source": [
    "### 1.1 Preprocessing"
   ]
  },
  {
   "cell_type": "code",
   "execution_count": 3,
   "id": "f4f58f4b",
   "metadata": {},
   "outputs": [
    {
     "data": {
      "text/plain": [
       "(15141, 15141)"
      ]
     },
     "execution_count": 3,
     "metadata": {},
     "output_type": "execute_result"
    }
   ],
   "source": [
    "train = pd.read_csv('train_full.csv')\n",
    "row_ID(train)"
   ]
  },
  {
   "cell_type": "code",
   "execution_count": 4,
   "id": "59d48713",
   "metadata": {},
   "outputs": [
    {
     "data": {
      "text/plain": [
       "(3786, 3786)"
      ]
     },
     "execution_count": 4,
     "metadata": {},
     "output_type": "execute_result"
    }
   ],
   "source": [
    "test = pd.read_csv('test_full.csv')\n",
    "row_ID(test)"
   ]
  },
  {
   "cell_type": "code",
   "execution_count": 5,
   "id": "83e553ab",
   "metadata": {},
   "outputs": [
    {
     "data": {
      "text/plain": [
       "(18927, 18927)"
      ]
     },
     "execution_count": 5,
     "metadata": {},
     "output_type": "execute_result"
    }
   ],
   "source": [
    "df = pd.concat([train, test], ignore_index = True)\n",
    "row_ID(df)"
   ]
  },
  {
   "cell_type": "markdown",
   "id": "9bdaf943",
   "metadata": {},
   "source": [
    "### 1.2 Treatment "
   ]
  },
  {
   "cell_type": "markdown",
   "id": "b19723a9",
   "metadata": {},
   "source": [
    "**Add indicator variables for receipt of various treatment. The 5 major treatment categories include: ADT, FDA approved therapy for metastatic HSPC that isn't ADT, alpha beta emitters, sipuleucel-T, and an FDA approved therapy for metastatic CRPC.** "
   ]
  },
  {
   "cell_type": "code",
   "execution_count": 6,
   "id": "e81f7ffd",
   "metadata": {},
   "outputs": [],
   "source": [
    "line_therapy = pd.read_csv('LineOfTherapy.csv')\n",
    "adt = pd.read_csv('Enhanced_MetPC_ADT.csv')\n",
    "abe = pd.read_csv('Enhanced_MetPC_AlphaBetaEmitters.csv')\n",
    "sipt = pd.read_csv('Enhanced_MetPC_Provenge.csv')\n",
    "enhanced_met = pd.read_csv('Enhanced_MetProstate.csv')"
   ]
  },
  {
   "cell_type": "code",
   "execution_count": 7,
   "id": "fc423f59",
   "metadata": {},
   "outputs": [],
   "source": [
    "line_therapy = line_therapy[line_therapy['PatientID'].isin(df['PatientID'])]\n",
    "\n",
    "adt = adt[adt['PatientID'].isin(df['PatientID'])]\n",
    "adt.loc[:, 'StartDate'] = pd.to_datetime(adt['StartDate'])\n",
    "\n",
    "abe = abe[abe['PatientID'].isin(df['PatientID'])]\n",
    "abe.loc[:, 'AdministrationDate'] = pd.to_datetime(abe['AdministrationDate'])\n",
    "\n",
    "sipt = sipt[sipt['PatientID'].isin(df['PatientID'])]\n",
    "sipt.loc[:, 'StartDate'] = pd.to_datetime(sipt['StartDate'])\n",
    "\n",
    "enhanced_met = enhanced_met[enhanced_met['PatientID'].isin(df['PatientID'])]\n",
    "enhanced_met.loc[:, 'MetDiagnosisDate'] = pd.to_datetime(enhanced_met['MetDiagnosisDate'])"
   ]
  },
  {
   "cell_type": "code",
   "execution_count": 8,
   "id": "981de1af",
   "metadata": {},
   "outputs": [],
   "source": [
    "adt = pd.merge(adt, enhanced_met[['PatientID', 'MetDiagnosisDate']], on = 'PatientID')\n",
    "\n",
    "adt = (\n",
    "    adt\n",
    "    .assign(adt_diff = (adt['StartDate'] - adt['MetDiagnosisDate']).dt.days)\n",
    "    .query('adt_diff >= -90')\n",
    "    .sort_values(by = ['PatientID', 'StartDate'], ascending = [False, False])\n",
    "    .drop_duplicates(subset = ['PatientID'], keep = 'first')\n",
    "    [['PatientID']]\n",
    ")\n",
    "\n",
    "adt.loc[:,'late_adt'] = 1"
   ]
  },
  {
   "cell_type": "code",
   "execution_count": 9,
   "id": "b27202e5",
   "metadata": {},
   "outputs": [],
   "source": [
    "abe = pd.merge(abe, enhanced_met[['PatientID', 'MetDiagnosisDate']], on = 'PatientID')\n",
    "\n",
    "abe = (\n",
    "    abe\n",
    "    .assign(abe_diff = (abe['AdministrationDate'] - abe['MetDiagnosisDate']).dt.days)\n",
    "    .query('abe_diff >= -90')\n",
    "    .sort_values(by = ['PatientID', 'AdministrationDate'], ascending = [False, False])\n",
    "    .drop_duplicates(subset = ['PatientID'], keep = 'first')\n",
    "    [['PatientID']]\n",
    ")\n",
    "\n",
    "abe.loc[:, 'abe'] = 1"
   ]
  },
  {
   "cell_type": "code",
   "execution_count": 10,
   "id": "d49bd01b",
   "metadata": {},
   "outputs": [],
   "source": [
    "sipt = pd.merge(sipt, enhanced_met[['PatientID', 'MetDiagnosisDate']], on = 'PatientID')\n",
    "\n",
    "sipt = (\n",
    "    sipt\n",
    "    .assign(sipt_diff = (sipt['StartDate'] - sipt['MetDiagnosisDate']).dt.days)\n",
    "    .query('sipt_diff >= -90')\n",
    "    .sort_values(by = ['PatientID', 'StartDate'], ascending = [False, False])\n",
    "    .drop_duplicates(subset = ['PatientID'], keep = 'first')\n",
    "    [['PatientID']]\n",
    ")\n",
    "\n",
    "sipt.loc[:, 'sipt'] = 1"
   ]
  },
  {
   "cell_type": "code",
   "execution_count": 11,
   "id": "53799286",
   "metadata": {},
   "outputs": [],
   "source": [
    "# List of FDA approved drugs for mPC as of July 2023. Clinical study drug is also included. \n",
    "fda_yes = [\n",
    "    'Abiraterone',\n",
    "    'Apalutamide',\n",
    "    'Cabazitaxel',\n",
    "    'Carboplatin',\n",
    "    'Cisplatin',\n",
    "    'Darolutamide',\n",
    "    'Docetaxel',\n",
    "    'Enzalutamide',\n",
    "    'Mitoxantrone',\n",
    "    'Olaparib',\n",
    "    'Oxaliplatin',\n",
    "    'Paclitaxel',\n",
    "    'Pembrolizumab',\n",
    "    'Rucaparib',\n",
    "    'Clinical Study Drug'\n",
    "]"
   ]
  },
  {
   "cell_type": "code",
   "execution_count": 12,
   "id": "6e14fedd",
   "metadata": {},
   "outputs": [],
   "source": [
    "hspc = line_therapy.query('LineSetting == \"mHSPC\"')\n",
    "\n",
    "crpc_1 = (\n",
    "    line_therapy\n",
    "    .query('LineSetting == \"mCRPC\"')\n",
    "    .query('LineNumber == 1')\n",
    "    .drop_duplicates(subset = 'PatientID', keep = 'first'))\n",
    "\n",
    "crpc_2 = (\n",
    "    line_therapy\n",
    "    .query('LineSetting == \"mCRPC\"')\n",
    "    .query('LineNumber == 2')\n",
    "    .drop_duplicates(subset = 'PatientID', keep = 'first'))\n",
    "\n",
    "crpc_3 = (\n",
    "    line_therapy\n",
    "    .query('LineSetting == \"mCRPC\"')\n",
    "    .query('LineNumber == 3')\n",
    "    .drop_duplicates(subset = 'PatientID', keep = 'first'))\n"
   ]
  },
  {
   "cell_type": "code",
   "execution_count": 13,
   "id": "14865d8c",
   "metadata": {},
   "outputs": [
    {
     "name": "stderr",
     "output_type": "stream",
     "text": [
      "/Applications/anaconda3/lib/python3.7/site-packages/pandas/core/indexing.py:1667: SettingWithCopyWarning: \n",
      "A value is trying to be set on a copy of a slice from a DataFrame.\n",
      "Try using .loc[row_indexer,col_indexer] = value instead\n",
      "\n",
      "See the caveats in the documentation: https://pandas.pydata.org/pandas-docs/stable/user_guide/indexing.html#returning-a-view-versus-a-copy\n",
      "  self.obj[key] = value\n"
     ]
    }
   ],
   "source": [
    "hspc.loc[:, 'hspc'] = np.where(\n",
    "    hspc['LineName'].str.contains('|'.join(fda_yes)), 1, 0)\n",
    "\n",
    "hspc = (\n",
    "    hspc\n",
    "    .sort_values(by = ['PatientID', 'hspc'], ascending = [False, False])\n",
    "    .drop_duplicates(subset = ['PatientID'], keep = 'first')\n",
    "    [['PatientID']]\n",
    ")\n",
    "\n",
    "hspc.loc[:, 'hspc'] = 1"
   ]
  },
  {
   "cell_type": "code",
   "execution_count": 14,
   "id": "fe862dfe",
   "metadata": {},
   "outputs": [],
   "source": [
    "crpc_1.loc[:, 'crpc_1'] = np.where(\n",
    "    crpc_1['LineName'].str.contains('|'.join(fda_yes)), 1, 0)\n",
    "\n",
    "crpc_1 = crpc_1[['PatientID', 'crpc_1']]"
   ]
  },
  {
   "cell_type": "code",
   "execution_count": 15,
   "id": "6a46c56a",
   "metadata": {},
   "outputs": [],
   "source": [
    "crpc_2.loc[:, 'crpc_2'] = np.where(\n",
    "    crpc_2['LineName'].str.contains('|'.join(fda_yes)), 1, 0)\n",
    "\n",
    "crpc_2 = crpc_2[['PatientID', 'crpc_2']]"
   ]
  },
  {
   "cell_type": "code",
   "execution_count": 16,
   "id": "d1dd9fb2",
   "metadata": {},
   "outputs": [],
   "source": [
    "crpc_3.loc[:, 'crpc_3'] = np.where(\n",
    "    crpc_3['LineName'].str.contains('|'.join(fda_yes)), 1, 0)\n",
    "\n",
    "crpc_3 = crpc_3[['PatientID', 'crpc_3']]"
   ]
  },
  {
   "cell_type": "code",
   "execution_count": 17,
   "id": "65fb8214",
   "metadata": {},
   "outputs": [],
   "source": [
    "df = pd.merge(df, adt, on = 'PatientID', how = 'outer')\n",
    "\n",
    "df = pd.merge(df, abe, on = 'PatientID', how = 'outer')\n",
    "\n",
    "df = pd.merge(df, sipt, on = 'PatientID', how = 'outer')\n",
    "\n",
    "df = pd.merge(df, hspc, on = 'PatientID', how = 'outer')\n",
    "\n",
    "df = pd.merge(df, crpc_1, on = 'PatientID', how = 'outer')\n",
    "\n",
    "df = pd.merge(df, crpc_2, on = 'PatientID', how = 'outer')\n",
    "\n",
    "df = pd.merge(df, crpc_3, on = 'PatientID', how = 'outer')"
   ]
  },
  {
   "cell_type": "code",
   "execution_count": 18,
   "id": "4ec0cf8c",
   "metadata": {},
   "outputs": [],
   "source": [
    "df[['late_adt', 'abe', 'sipt', 'hspc', 'crpc_1', 'crpc_2', 'crpc_3']] = df[['late_adt', 'abe', 'sipt', 'hspc', 'crpc_1', 'crpc_2', 'crpc_3']].fillna(value = 0)"
   ]
  },
  {
   "cell_type": "code",
   "execution_count": 19,
   "id": "dbd417da",
   "metadata": {},
   "outputs": [
    {
     "data": {
      "text/plain": [
       "1.0    11837\n",
       "0.0     7090\n",
       "Name: late_adt, dtype: int64"
      ]
     },
     "execution_count": 19,
     "metadata": {},
     "output_type": "execute_result"
    }
   ],
   "source": [
    "df.late_adt.value_counts()"
   ]
  },
  {
   "cell_type": "code",
   "execution_count": 20,
   "id": "97a27e4f",
   "metadata": {},
   "outputs": [
    {
     "data": {
      "text/plain": [
       "0.0    17284\n",
       "1.0     1643\n",
       "Name: abe, dtype: int64"
      ]
     },
     "execution_count": 20,
     "metadata": {},
     "output_type": "execute_result"
    }
   ],
   "source": [
    "df.abe.value_counts()"
   ]
  },
  {
   "cell_type": "code",
   "execution_count": 21,
   "id": "1dc85dc2",
   "metadata": {},
   "outputs": [
    {
     "data": {
      "text/plain": [
       "0.0    17591\n",
       "1.0     1336\n",
       "Name: sipt, dtype: int64"
      ]
     },
     "execution_count": 21,
     "metadata": {},
     "output_type": "execute_result"
    }
   ],
   "source": [
    "df.sipt.value_counts()"
   ]
  },
  {
   "cell_type": "code",
   "execution_count": 22,
   "id": "96bcb1aa",
   "metadata": {},
   "outputs": [
    {
     "data": {
      "text/plain": [
       "0.0    13819\n",
       "1.0     5108\n",
       "Name: hspc, dtype: int64"
      ]
     },
     "execution_count": 22,
     "metadata": {},
     "output_type": "execute_result"
    }
   ],
   "source": [
    "df.hspc.value_counts()"
   ]
  },
  {
   "cell_type": "code",
   "execution_count": 23,
   "id": "ad525b87",
   "metadata": {},
   "outputs": [
    {
     "data": {
      "text/plain": [
       "0.0    9891\n",
       "1.0    9036\n",
       "Name: crpc_1, dtype: int64"
      ]
     },
     "execution_count": 23,
     "metadata": {},
     "output_type": "execute_result"
    }
   ],
   "source": [
    "df.crpc_1.value_counts()"
   ]
  },
  {
   "cell_type": "code",
   "execution_count": 24,
   "id": "2366d25c",
   "metadata": {},
   "outputs": [
    {
     "data": {
      "text/plain": [
       "0.0    13308\n",
       "1.0     5619\n",
       "Name: crpc_2, dtype: int64"
      ]
     },
     "execution_count": 24,
     "metadata": {},
     "output_type": "execute_result"
    }
   ],
   "source": [
    "df.crpc_2.value_counts()"
   ]
  },
  {
   "cell_type": "code",
   "execution_count": 25,
   "id": "5b637d82",
   "metadata": {},
   "outputs": [
    {
     "data": {
      "text/plain": [
       "0.0    15747\n",
       "1.0     3180\n",
       "Name: crpc_3, dtype: int64"
      ]
     },
     "execution_count": 25,
     "metadata": {},
     "output_type": "execute_result"
    }
   ],
   "source": [
    "df.crpc_3.value_counts()"
   ]
  },
  {
   "cell_type": "code",
   "execution_count": 26,
   "id": "aa8a3b4a",
   "metadata": {},
   "outputs": [
    {
     "data": {
      "text/plain": [
       "(18927, 18927)"
      ]
     },
     "execution_count": 26,
     "metadata": {},
     "output_type": "execute_result"
    }
   ],
   "source": [
    "row_ID(df)"
   ]
  },
  {
   "cell_type": "code",
   "execution_count": 27,
   "id": "4b8e205f",
   "metadata": {},
   "outputs": [
    {
     "name": "stdout",
     "output_type": "stream",
     "text": [
      "Variable       Type         Data/Info\n",
      "-------------------------------------\n",
      "abe            DataFrame              PatientID  abe\\<...>\\n[1643 rows x 2 columns]\n",
      "adt            DataFrame               PatientID  lat<...>n[11837 rows x 2 columns]\n",
      "crpc_1         DataFrame               PatientID  crp<...>\\n[9788 rows x 2 columns]\n",
      "crpc_2         DataFrame               PatientID  crp<...>\\n[5983 rows x 2 columns]\n",
      "crpc_3         DataFrame               PatientID  crp<...>\\n[3509 rows x 2 columns]\n",
      "df             DataFrame               PatientID Gend<...>18927 rows x 235 columns]\n",
      "enhanced_met   DataFrame               PatientID Diag<...>[18927 rows x 13 columns]\n",
      "hspc           DataFrame               PatientID  hsp<...>\\n[5108 rows x 2 columns]\n",
      "line_therapy   DataFrame               PatientID     <...>n[31397 rows x 9 columns]\n",
      "sipt           DataFrame              PatientID  sipt<...>\\n[1336 rows x 2 columns]\n",
      "test           DataFrame              PatientID Gende<...>[3786 rows x 228 columns]\n",
      "train          DataFrame               PatientID Gend<...>15141 rows x 228 columns]\n"
     ]
    }
   ],
   "source": [
    "%whos DataFrame"
   ]
  },
  {
   "cell_type": "code",
   "execution_count": 28,
   "id": "c2b3bf87",
   "metadata": {},
   "outputs": [],
   "source": [
    "# Keep df \n",
    "del abe\n",
    "del adt\n",
    "del crpc_1\n",
    "del crpc_2\n",
    "del crpc_3\n",
    "del enhanced_met\n",
    "del hspc\n",
    "del line_therapy\n",
    "del sipt"
   ]
  },
  {
   "cell_type": "markdown",
   "id": "9d037a9a",
   "metadata": {},
   "source": [
    "### 1.3 Weight"
   ]
  },
  {
   "cell_type": "code",
   "execution_count": 29,
   "id": "b1ae8d0c",
   "metadata": {},
   "outputs": [],
   "source": [
    "vitals = pd.read_csv('Vitals.csv')\n",
    "\n",
    "vitals = vitals[vitals['PatientID'].isin(df['PatientID'])]"
   ]
  },
  {
   "cell_type": "code",
   "execution_count": 30,
   "id": "4d14ff4f",
   "metadata": {},
   "outputs": [],
   "source": [
    "enhanced_met = pd.read_csv('Enhanced_MetProstate.csv')\n",
    "\n",
    "enhanced_met = enhanced_met[enhanced_met['PatientID'].isin(df['PatientID'])]\n",
    "                                                              \n",
    "enhanced_met.loc[:, 'MetDiagnosisDate'] = pd.to_datetime(enhanced_met['MetDiagnosisDate'])\n",
    "\n",
    "enhanced_met = enhanced_met.rename(columns = {'MetDiagnosisDate': 'met_date'})"
   ]
  },
  {
   "cell_type": "markdown",
   "id": "5ef2619b",
   "metadata": {},
   "source": [
    "#### Weight and BMI"
   ]
  },
  {
   "cell_type": "code",
   "execution_count": 31,
   "id": "a12e1749",
   "metadata": {},
   "outputs": [],
   "source": [
    "# Create weight dataframe; remove weight values that are empty or equal to zero.\n",
    "weight = (\n",
    "    vitals\n",
    "    .query('Test == \"body weight\"')\n",
    "    .filter(items = ['PatientID', 'TestDate', 'TestResultCleaned'])\n",
    "    .rename(columns = {'TestResultCleaned': 'weight'})\n",
    "    .dropna(subset = ['weight'])\n",
    "    .query('weight != 0')\n",
    ")"
   ]
  },
  {
   "cell_type": "code",
   "execution_count": 32,
   "id": "1b0f979d",
   "metadata": {},
   "outputs": [],
   "source": [
    "weight.loc[:, 'TestDate'] = pd.to_datetime(weight['TestDate'])"
   ]
  },
  {
   "cell_type": "code",
   "execution_count": 33,
   "id": "2d15304c",
   "metadata": {},
   "outputs": [],
   "source": [
    "weight = pd.merge(weight, enhanced_met[['PatientID', 'met_date']], on = 'PatientID', how = 'left')"
   ]
  },
  {
   "cell_type": "code",
   "execution_count": 34,
   "id": "be4e64c0",
   "metadata": {},
   "outputs": [],
   "source": [
    "# Weight elgibliity window is -60 to +60 from 6 months after metastatic diagnosis. \n",
    "weight_win_bmi = (\n",
    "    weight\n",
    "    .assign(weight_date_diff = ((weight['TestDate'] - (weight['met_date'] + pd.DateOffset(days = 180))).dt.days))\n",
    "    .query('weight_date_diff >= -60 and weight_date_diff <= 60')\n",
    ")"
   ]
  },
  {
   "cell_type": "code",
   "execution_count": 35,
   "id": "4657fd74",
   "metadata": {},
   "outputs": [],
   "source": [
    "weight_win_bmi.loc[:, 'weight_date_diff'] = weight_win_bmi['weight_date_diff'].abs()"
   ]
  },
  {
   "cell_type": "code",
   "execution_count": 36,
   "id": "af2ee8dd",
   "metadata": {},
   "outputs": [],
   "source": [
    "# Select weight closest to +180 from metastatic diagnosis; lowest weight selected in the event of two weights on same day or equidistant. \n",
    "weight_bmi_wide = (\n",
    "    weight_win_bmi\n",
    "    .sort_values(by = ['PatientID', 'weight_date_diff', 'weight'], ascending = [True, True, True])\n",
    "    .drop_duplicates(subset = ['PatientID'], keep = 'first')\n",
    "    .filter(items = ['PatientID', 'weight'])\n",
    "    .rename(columns = {'weight': 'weight_180'})\n",
    ")"
   ]
  },
  {
   "cell_type": "code",
   "execution_count": 37,
   "id": "fef6e4ad",
   "metadata": {},
   "outputs": [],
   "source": [
    "# Dataframe of average height for each patient. \n",
    "height_avg = (\n",
    "    vitals\n",
    "    .query('Test == \"body height\"')\n",
    "    .filter(items = ['PatientID', 'TestResultCleaned'])\n",
    "    .groupby('PatientID')['TestResultCleaned'].mean()\n",
    "    .to_frame()\n",
    "    .reset_index()\n",
    "    .rename(columns = {'TestResultCleaned': 'height_avg'})\n",
    ")"
   ]
  },
  {
   "cell_type": "code",
   "execution_count": 38,
   "id": "1dfc8758",
   "metadata": {},
   "outputs": [],
   "source": [
    "weight_bmi_wide = pd.merge(weight_bmi_wide, height_avg, on = 'PatientID', how = 'left')"
   ]
  },
  {
   "cell_type": "code",
   "execution_count": 39,
   "id": "85f5641d",
   "metadata": {},
   "outputs": [],
   "source": [
    "# Create BMI column. \n",
    "weight_bmi_wide = (\n",
    "    weight_bmi_wide\n",
    "    .assign(bmi_180 = lambda x: (x['weight_180']/(x['height_avg']*x['height_avg']))*10000)\n",
    "    .drop(columns = ['height_avg'])\n",
    ")"
   ]
  },
  {
   "cell_type": "code",
   "execution_count": 40,
   "id": "3a609f02",
   "metadata": {},
   "outputs": [],
   "source": [
    "df = pd.merge(df, weight_bmi_wide, on = 'PatientID', how = 'outer')"
   ]
  },
  {
   "cell_type": "code",
   "execution_count": 41,
   "id": "d73cf3aa",
   "metadata": {},
   "outputs": [
    {
     "data": {
      "text/plain": [
       "(18927, 18927)"
      ]
     },
     "execution_count": 41,
     "metadata": {},
     "output_type": "execute_result"
    }
   ],
   "source": [
    "row_ID(df)"
   ]
  },
  {
   "cell_type": "markdown",
   "id": "fbf5e79e",
   "metadata": {},
   "source": [
    "#### Percent change in weight "
   ]
  },
  {
   "cell_type": "code",
   "execution_count": 42,
   "id": "33ca3ef0",
   "metadata": {},
   "outputs": [],
   "source": [
    "# Select elgbility window of -90 to +365 days from metastatic diagnosis.\n",
    "weight_win_summary = (\n",
    "    weight\n",
    "    .assign(weight_date_diff = (weight['TestDate'] - weight['met_date']).dt.days)\n",
    "    .query('weight_date_diff >= -90 and weight_date_diff <= 365')\n",
    ")"
   ]
  },
  {
   "cell_type": "code",
   "execution_count": 43,
   "id": "3faa5f8e",
   "metadata": {},
   "outputs": [],
   "source": [
    "# Select patients with more than 1 weight recording within elgibility window.\n",
    "weight_win_summary = weight_win_summary[weight_win_summary.duplicated(subset = ['PatientID'], keep = False)]"
   ]
  },
  {
   "cell_type": "code",
   "execution_count": 44,
   "id": "835733b2",
   "metadata": {},
   "outputs": [],
   "source": [
    "# Select weight from the earliest time within elgibility window. \n",
    "weight_tmin = weight_win_summary.loc[weight_win_summary.groupby('PatientID')['weight_date_diff'].idxmin()]"
   ]
  },
  {
   "cell_type": "code",
   "execution_count": 45,
   "id": "907f895a",
   "metadata": {},
   "outputs": [],
   "source": [
    "# Select weight from the latest time within elgibility window. \n",
    "weight_tmax = weight_win_summary.loc[weight_win_summary.groupby('PatientID')['weight_date_diff'].idxmax()]"
   ]
  },
  {
   "cell_type": "code",
   "execution_count": 46,
   "id": "c1eb5f84",
   "metadata": {},
   "outputs": [],
   "source": [
    "# Combine above two dataframes and sort from earliest recorded weight to latest recorded weight for each patient. \n",
    "weight_tcomb = (\n",
    "    pd.concat([weight_tmin, weight_tmax])\n",
    "    .sort_values(by = ['PatientID', 'weight_date_diff'], ascending = True)\n",
    ")"
   ]
  },
  {
   "cell_type": "code",
   "execution_count": 47,
   "id": "abe775c8",
   "metadata": {},
   "outputs": [],
   "source": [
    "weight_tcomb.loc[:, 'weight_pct_1yr'] = weight_tcomb.groupby('PatientID')['weight'].pct_change()"
   ]
  },
  {
   "cell_type": "code",
   "execution_count": 48,
   "id": "de59cacd",
   "metadata": {},
   "outputs": [],
   "source": [
    "# Drop empty rows for weight_pct_change.\n",
    "weight_pct_wide = (\n",
    "    weight_tcomb\n",
    "    .dropna(subset = ['weight_pct_1yr'])\n",
    "    .filter(items = ['PatientID', 'weight_pct_1yr'])\n",
    ")"
   ]
  },
  {
   "cell_type": "code",
   "execution_count": 49,
   "id": "c1eebcf2",
   "metadata": {},
   "outputs": [],
   "source": [
    "df = pd.merge(df, weight_pct_wide, on = 'PatientID', how = 'outer')"
   ]
  },
  {
   "cell_type": "code",
   "execution_count": 50,
   "id": "4c49790e",
   "metadata": {},
   "outputs": [
    {
     "data": {
      "text/plain": [
       "(18927, 18927)"
      ]
     },
     "execution_count": 50,
     "metadata": {},
     "output_type": "execute_result"
    }
   ],
   "source": [
    "row_ID(df)"
   ]
  },
  {
   "cell_type": "markdown",
   "id": "a5a1a0aa",
   "metadata": {},
   "source": [
    "#### Slope of weight "
   ]
  },
  {
   "cell_type": "code",
   "execution_count": 51,
   "id": "dd220430",
   "metadata": {},
   "outputs": [],
   "source": [
    "import datetime as dt\n",
    "from scipy.stats import linregress "
   ]
  },
  {
   "cell_type": "code",
   "execution_count": 52,
   "id": "91c50339",
   "metadata": {},
   "outputs": [],
   "source": [
    "weight_win_summary.loc[:, 'date_ordinal'] = weight_win_summary['TestDate'].map(dt.datetime.toordinal)"
   ]
  },
  {
   "cell_type": "code",
   "execution_count": 53,
   "id": "07d0cc93",
   "metadata": {},
   "outputs": [
    {
     "name": "stderr",
     "output_type": "stream",
     "text": [
      "/Applications/anaconda3/lib/python3.7/site-packages/scipy/stats/_stats_mstats_common.py:170: RuntimeWarning: invalid value encountered in double_scalars\n",
      "  slope = ssxym / ssxm\n"
     ]
    }
   ],
   "source": [
    "# Dataframe of slope for weight recordings within window period (kg/day).\n",
    "weight_slope_wide = (\n",
    "    weight_win_summary\n",
    "    .groupby('PatientID')\n",
    "    .apply(lambda x: pd.Series(linregress(x['date_ordinal'], x['weight'])))\n",
    "    .rename(columns = {0: 'weight_slope_1yr'})\n",
    "    .reset_index()\n",
    "    .filter(items = ['PatientID', 'weight_slope_1yr'])) "
   ]
  },
  {
   "cell_type": "code",
   "execution_count": 54,
   "id": "fcd33e0f",
   "metadata": {},
   "outputs": [],
   "source": [
    "df = pd.merge(df, weight_slope_wide, on = 'PatientID', how = 'outer')"
   ]
  },
  {
   "cell_type": "code",
   "execution_count": 55,
   "id": "8596aac3",
   "metadata": {},
   "outputs": [
    {
     "data": {
      "text/plain": [
       "(18927, 18927)"
      ]
     },
     "execution_count": 55,
     "metadata": {},
     "output_type": "execute_result"
    }
   ],
   "source": [
    "row_ID(df)"
   ]
  },
  {
   "cell_type": "code",
   "execution_count": 56,
   "id": "59846672",
   "metadata": {},
   "outputs": [
    {
     "name": "stdout",
     "output_type": "stream",
     "text": [
      "Variable             Type         Data/Info\n",
      "-------------------------------------------\n",
      "df                   DataFrame               PatientID Gend<...>18927 rows x 239 columns]\n",
      "enhanced_met         DataFrame               PatientID Diag<...>[18927 rows x 13 columns]\n",
      "height_avg           DataFrame               PatientID  hei<...>n[18699 rows x 2 columns]\n",
      "test                 DataFrame              PatientID Gende<...>[3786 rows x 228 columns]\n",
      "train                DataFrame               PatientID Gend<...>15141 rows x 228 columns]\n",
      "vitals               DataFrame                 PatientID   <...>647303 rows x 15 columns]\n",
      "weight               DataFrame                PatientID   T<...>[493261 rows x 4 columns]\n",
      "weight_bmi_wide      DataFrame               PatientID  wei<...>n[12166 rows x 3 columns]\n",
      "weight_pct_wide      DataFrame                PatientID  we<...>n[14825 rows x 2 columns]\n",
      "weight_slope_wide    DataFrame               PatientID  wei<...>n[14825 rows x 2 columns]\n",
      "weight_tcomb         DataFrame                PatientID   T<...>n[29650 rows x 6 columns]\n",
      "weight_tmax          DataFrame                PatientID   T<...>n[14825 rows x 5 columns]\n",
      "weight_tmin          DataFrame                PatientID   T<...>n[14825 rows x 5 columns]\n",
      "weight_win_bmi       DataFrame                PatientID   T<...>n[49838 rows x 5 columns]\n",
      "weight_win_summary   DataFrame                PatientID   T<...>[165083 rows x 6 columns]\n"
     ]
    }
   ],
   "source": [
    "%whos DataFrame"
   ]
  },
  {
   "cell_type": "code",
   "execution_count": 57,
   "id": "7c0f09e1",
   "metadata": {},
   "outputs": [],
   "source": [
    "del height_avg\n",
    "del vitals\n",
    "del weight\n",
    "del weight_bmi_wide\n",
    "del weight_pct_wide\n",
    "del weight_slope_wide\n",
    "del weight_tcomb\n",
    "del weight_tmax\n",
    "del weight_tmin\n",
    "del weight_win_bmi\n",
    "del weight_win_summary"
   ]
  },
  {
   "cell_type": "markdown",
   "id": "476643df",
   "metadata": {},
   "source": [
    "### 1.4 Static labs "
   ]
  },
  {
   "cell_type": "code",
   "execution_count": 58,
   "id": "c82b204e",
   "metadata": {},
   "outputs": [],
   "source": [
    "lab = pd.read_csv('Lab.csv')"
   ]
  },
  {
   "cell_type": "code",
   "execution_count": 59,
   "id": "dd184b05",
   "metadata": {},
   "outputs": [],
   "source": [
    "lab = lab[lab['PatientID'].isin(df['PatientID'])]"
   ]
  },
  {
   "cell_type": "code",
   "execution_count": 60,
   "id": "4cc82658",
   "metadata": {},
   "outputs": [],
   "source": [
    "lab = pd.merge(lab, enhanced_met[['PatientID', 'met_date']], on = 'PatientID', how = 'left')"
   ]
  },
  {
   "cell_type": "code",
   "execution_count": 61,
   "id": "d2a5e358",
   "metadata": {},
   "outputs": [],
   "source": [
    "lab.loc[:, 'ResultDate'] = pd.to_datetime(lab['ResultDate']) "
   ]
  },
  {
   "cell_type": "code",
   "execution_count": 62,
   "id": "35c739da",
   "metadata": {},
   "outputs": [],
   "source": [
    "# Select rows with clinically relevant labs.\n",
    "lab_core = (\n",
    "    lab[\n",
    "    (lab['LOINC'] == \"2160-0\") |\n",
    "    (lab['LOINC'] == \"38483-4\") | \n",
    "    (lab['LOINC'] == \"718-7\") |\n",
    "    (lab['LOINC'] == \"20509-6\") |\n",
    "    (lab['LOINC'] == \"26464-8\") |\n",
    "    (lab['LOINC'] == \"6690-2\") |\n",
    "    (lab['LOINC'] == \"26499-4\") |\n",
    "    (lab['LOINC'] == \"751-8\") |\n",
    "    (lab['LOINC'] == \"30451-9\") |\n",
    "    (lab['LOINC'] == \"753-4\") |\n",
    "    (lab['LOINC'] == \"1751-7\") |\n",
    "    (lab['LOINC'] == \"42719-5\") |\n",
    "    (lab['LOINC'] == \"1975-2\") |\n",
    "    (lab['LOINC'] == \"2947-0\") |\n",
    "    (lab['LOINC'] == \"2951-2\") |\n",
    "    (lab['LOINC'] == \"1963-8\") |\n",
    "    (lab['LOINC'] == \"1959-6\") |\n",
    "    (lab['LOINC'] == \"14627-4\") |\n",
    "    (lab['LOINC'] == \"1960-4\") |\n",
    "    (lab['LOINC'] == \"2028-9\") |\n",
    "    (lab['LOINC'] == \"17861-6\") |\n",
    "    (lab['LOINC'] == \"49765-1\") |\n",
    "    (lab['LOINC'] == \"1920-8\") |\n",
    "    (lab['LOINC'] == \"1742-6\") | \n",
    "    (lab['LOINC'] == \"1743-4\") |\n",
    "    (lab['LOINC'] == \"1744-2\") |\n",
    "    (lab['LOINC'] == \"26515-7\") | \n",
    "    (lab['LOINC'] == \"777-3\") |\n",
    "    (lab['LOINC'] == \"778-1\") |\n",
    "    (lab['LOINC'] == \"49497-1\") | \n",
    "    (lab['LOINC'] == \"6298-4\") |\n",
    "    (lab['LOINC'] == \"2823-3\") |\n",
    "    (lab['LOINC'] == \"2075-0\") | \n",
    "    (lab['LOINC'] == \"3094-0\") | \n",
    "    (lab['LOINC'] == \"6768-6\") | \n",
    "    (lab['LOINC'] == \"2857-1\")]\n",
    "    .filter(items = ['PatientID', \n",
    "                     'ResultDate', \n",
    "                     'LOINC', \n",
    "                     'LabComponent', \n",
    "                     'TestUnits', \n",
    "                     'TestUnitsCleaned', \n",
    "                     'TestResult', \n",
    "                     'TestResultCleaned', \n",
    "                     'met_date'])\n",
    ")"
   ]
  },
  {
   "cell_type": "code",
   "execution_count": 63,
   "id": "078a2c56",
   "metadata": {},
   "outputs": [],
   "source": [
    "conditions = [\n",
    "    ((lab_core['LOINC'] == '2160-0') | (lab_core['LOINC'] == '38483-4')),\n",
    "    ((lab_core['LOINC'] == '718-7') | (lab_core['LOINC'] == '20509-6')),\n",
    "    ((lab_core['LOINC'] == '26464-8') | (lab_core['LOINC'] == '6690-2')), \n",
    "    ((lab_core['LOINC'] == '26499-4') | (lab_core['LOINC'] == '751-8') | (lab_core['LOINC'] == '30451-9') | (lab_core['LOINC'] == '753-4')),\n",
    "    (lab_core['LOINC'] == '1751-7'),\n",
    "    ((lab_core['LOINC'] == '42719-5') | (lab_core['LOINC'] == '1975-2')),\n",
    "    ((lab_core['LOINC'] == '2947-0') | (lab_core['LOINC'] == '2951-2')),\n",
    "    ((lab_core['LOINC'] == '1963-8') | (lab_core['LOINC'] == '1959-6') | (lab_core['LOINC'] == '14627-4') | (lab_core['LOINC'] == '1960-4') | (lab_core['LOINC'] == '2028-9')),\n",
    "    ((lab_core['LOINC'] == '17861-6') | (lab_core['LOINC'] == '49765-1')),\n",
    "    (lab_core['LOINC'] == '1920-8'),\n",
    "    ((lab_core['LOINC'] == '1742-6') | (lab_core['LOINC'] == '1743-4') | (lab_core['LOINC'] == '1744-2')),\n",
    "    ((lab_core['LOINC'] == '26515-7') | (lab_core['LOINC'] == '777-3') | (lab_core['LOINC'] == '778-1') | (lab_core['LOINC'] == '49497-1')),\n",
    "    ((lab_core['LOINC'] == '6298-4') | (lab_core['LOINC'] == '2823-3')),\n",
    "    (lab_core['LOINC'] == '2075-0'), \n",
    "    (lab_core['LOINC'] == '3094-0'),\n",
    "    (lab_core['LOINC'] == '6768-6'), \n",
    "    (lab_core['LOINC'] == '2857-1')]\n",
    "\n",
    "choices = ['creatinine', \n",
    "           'hemoglobin', \n",
    "           'wbc', \n",
    "           'neutrophil_count',  \n",
    "           'albumin', \n",
    "           'total_bilirubin', \n",
    "           'sodium', \n",
    "           'bicarb',\n",
    "           'calcium',\n",
    "           'ast', \n",
    "           'alt',\n",
    "           'platelet',\n",
    "           'potassium', \n",
    "           'chloride',\n",
    "           'bun',\n",
    "           'alp', \n",
    "           'psa']\n",
    "\n",
    "lab_core.loc[:, 'lab_name'] = np.select(conditions, choices)"
   ]
  },
  {
   "cell_type": "code",
   "execution_count": 64,
   "id": "f5b224cc",
   "metadata": {},
   "outputs": [],
   "source": [
    "lab_core = (\n",
    "    lab_core\n",
    "    .dropna(subset = ['TestResultCleaned'])\n",
    ")"
   ]
  },
  {
   "cell_type": "code",
   "execution_count": 65,
   "id": "10974caa",
   "metadata": {},
   "outputs": [],
   "source": [
    "conditions = [\n",
    "    ((lab_core['lab_name'] == 'wbc') | (lab_core['lab_name'] == 'neutrophil_count') | (lab_core['lab_name'] == 'platelet')) & \n",
    "    (lab_core['TestUnits'] == '10*3/L'),\n",
    "    (lab_core['lab_name'] == 'hemoglobin') & (lab_core['TestUnits'] == 'g/uL')]\n",
    "\n",
    "choices = [lab_core['TestResultCleaned'] * 1000000,\n",
    "           lab_core['TestResultCleaned'] / 100000]\n",
    "\n",
    "lab_core.loc[:, 'test_result_cleaned'] = np.select(conditions, choices, default = lab_core['TestResultCleaned'])"
   ]
  },
  {
   "cell_type": "code",
   "execution_count": 66,
   "id": "c070d370",
   "metadata": {},
   "outputs": [],
   "source": [
    "# Elgibliity window is +30 to +330 from metastatic diagnosis. \n",
    "lab_core_win = (\n",
    "    lab_core\n",
    "    .assign(lab_date_diff = ((lab_core['ResultDate'] - (lab_core['met_date'] + pd.DateOffset(days = 180))).dt.days))\n",
    "    .query('lab_date_diff >= -150 and lab_date_diff <= 150')\n",
    "    .filter(items = ['PatientID', 'ResultDate', 'TestResultCleaned', 'lab_name', 'met_date', 'test_result_cleaned', 'lab_date_diff'])\n",
    ")"
   ]
  },
  {
   "cell_type": "code",
   "execution_count": 67,
   "id": "410bb2e9",
   "metadata": {},
   "outputs": [],
   "source": [
    "lab_core_win.loc[:, 'lab_date_diff'] = lab_core_win['lab_date_diff'].abs()"
   ]
  },
  {
   "cell_type": "code",
   "execution_count": 68,
   "id": "8dbe3bae",
   "metadata": {},
   "outputs": [],
   "source": [
    "# Select lab closest to 180 days after metastatic diagnosis and then pivot to a wide table. \n",
    "lab_180_wide = (\n",
    "    lab_core_win\n",
    "    .loc[lab_core_win.groupby(['PatientID', 'lab_name'])['lab_date_diff'].idxmin()]\n",
    "    .pivot(index = 'PatientID', columns = 'lab_name', values = 'test_result_cleaned')\n",
    "    .reset_index()\n",
    "    .rename(columns = {\n",
    "        'albumin': 'albumin_180',\n",
    "        'creatinine': 'creatinine_180',\n",
    "        'hemoglobin': 'hemoglobin_180',\n",
    "        'neutrophil_count': 'neutrophil_count_180',\n",
    "        'total_bilirubin': 'total_bilirubin_180',\n",
    "        'wbc': 'wbc_180',\n",
    "        'sodium': 'sodium_180', \n",
    "        'bicarb': 'bicarb_180',\n",
    "        'calcium': 'calcium_180',\n",
    "        'ast': 'ast_180', \n",
    "        'alt': 'alt_180',\n",
    "        'platelet': 'platelet_180',\n",
    "        'potassium': 'potassium_180',\n",
    "        'chloride': 'chloride_180',\n",
    "        'bun': 'bun_180', \n",
    "        'alp': 'alp_180',\n",
    "        'psa': 'psa_180'})\n",
    ")\n",
    "\n",
    "lab_180_wide.columns.name = None"
   ]
  },
  {
   "cell_type": "code",
   "execution_count": 69,
   "id": "9be21a01",
   "metadata": {},
   "outputs": [],
   "source": [
    "df = pd.merge(df, lab_180_wide, on = 'PatientID', how = 'outer')"
   ]
  },
  {
   "cell_type": "code",
   "execution_count": 70,
   "id": "6b69b365",
   "metadata": {},
   "outputs": [
    {
     "data": {
      "text/plain": [
       "(18927, 18927)"
      ]
     },
     "execution_count": 70,
     "metadata": {},
     "output_type": "execute_result"
    }
   ],
   "source": [
    "row_ID(df)"
   ]
  },
  {
   "cell_type": "markdown",
   "id": "1ff84373",
   "metadata": {},
   "source": [
    "### 1.5 Summary labs"
   ]
  },
  {
   "cell_type": "code",
   "execution_count": 71,
   "id": "1a594ef9",
   "metadata": {},
   "outputs": [],
   "source": [
    "# Elgibility window is negative infinity to +365 from metastatic diagnosis. \n",
    "lab_core_win_summ = (\n",
    "    lab_core\n",
    "    .assign(lab_date_diff = (lab_core['ResultDate'] - lab_core['met_date']).dt.days)\n",
    "    .query('lab_date_diff <= 365')\n",
    "    .filter(items = ['PatientID', 'ResultDate', 'TestResultCleaned', 'lab_name', 'met_date', 'test_result_cleaned', 'lab_date_diff'])\n",
    ")"
   ]
  },
  {
   "cell_type": "code",
   "execution_count": 72,
   "id": "d6838cbf",
   "metadata": {},
   "outputs": [],
   "source": [
    "# Pivot table of maximum values for core labs during elgibility period of -inf to +150 days from advanced diagnosis. \n",
    "lab_max_wide = (\n",
    "    lab_core_win_summ\n",
    "    .groupby(['PatientID', 'lab_name'])['test_result_cleaned'].max()\n",
    "    .to_frame()\n",
    "    .reset_index()\n",
    "    .pivot(index = 'PatientID', columns = 'lab_name', values = 'test_result_cleaned')\n",
    "    .filter(items = ['alp', 'alt', 'ast', 'calcium', 'creatinine', 'psa', 'total_bilirubin', 'wbc'])\n",
    "    .reset_index()\n",
    "    .rename(columns = {\n",
    "        'alp': 'alp_max_f',\n",
    "        'alt': 'alt_max_f',\n",
    "        'ast': 'ast_max_f',\n",
    "        'calcium': 'calcium_max_f',\n",
    "        'creatinine': 'creatinine_max_f',\n",
    "        'psa': 'psa_max_f',\n",
    "        'total_bilirubin': 'total_bilirubin_max_f',\n",
    "        'wbc': 'wbc_max_f'})\n",
    ")\n",
    "\n",
    "lab_max_wide.columns.name = None"
   ]
  },
  {
   "cell_type": "code",
   "execution_count": 73,
   "id": "6a4959c8",
   "metadata": {},
   "outputs": [],
   "source": [
    "# Pivot table of minimum values for core labs during elgibility period of -inf to +150 days from advanced diagnosis. \n",
    "lab_min_wide = (\n",
    "    lab_core_win_summ\n",
    "    .groupby(['PatientID', 'lab_name'])['test_result_cleaned'].min()\n",
    "    .to_frame()\n",
    "    .reset_index()\n",
    "    .pivot(index = 'PatientID', columns = 'lab_name', values = 'test_result_cleaned')\n",
    "    .filter(items = ['albumin', 'bicarb', 'hemoglobin', 'platelet', 'sodium', 'wbc'])\n",
    "    .reset_index()\n",
    "    .rename(columns = {\n",
    "        'albumin': 'albumin_min_f',\n",
    "        'bicarb': 'bicarb_min_f',\n",
    "        'hemoglobin': 'hemoglobin_min_f',\n",
    "        'platelet': 'platelet_min_f',\n",
    "        'sodium': 'sodium_min_f', \n",
    "        'wbc': 'wbc_min_f'})\n",
    ")\n",
    "\n",
    "lab_min_wide.columns.name = None"
   ]
  },
  {
   "cell_type": "code",
   "execution_count": 74,
   "id": "75a559ee",
   "metadata": {},
   "outputs": [],
   "source": [
    "df = pd.merge(df, lab_max_wide, on = 'PatientID', how = 'outer')"
   ]
  },
  {
   "cell_type": "code",
   "execution_count": 75,
   "id": "0695094e",
   "metadata": {},
   "outputs": [
    {
     "data": {
      "text/plain": [
       "(18927, 18927)"
      ]
     },
     "execution_count": 75,
     "metadata": {},
     "output_type": "execute_result"
    }
   ],
   "source": [
    "row_ID(df)"
   ]
  },
  {
   "cell_type": "code",
   "execution_count": 76,
   "id": "410b9b84",
   "metadata": {},
   "outputs": [],
   "source": [
    "df = pd.merge(df, lab_min_wide, on = 'PatientID', how = 'outer')"
   ]
  },
  {
   "cell_type": "code",
   "execution_count": 77,
   "id": "00b65d89",
   "metadata": {},
   "outputs": [
    {
     "data": {
      "text/plain": [
       "(18927, 18927)"
      ]
     },
     "execution_count": 77,
     "metadata": {},
     "output_type": "execute_result"
    }
   ],
   "source": [
    "row_ID(df)"
   ]
  },
  {
   "cell_type": "code",
   "execution_count": 78,
   "id": "e31226ac",
   "metadata": {},
   "outputs": [
    {
     "name": "stdout",
     "output_type": "stream",
     "text": [
      "Variable            Type         Data/Info\n",
      "------------------------------------------\n",
      "df                  DataFrame               PatientID Gend<...>18927 rows x 270 columns]\n",
      "enhanced_met        DataFrame               PatientID Diag<...>[18927 rows x 13 columns]\n",
      "lab                 DataFrame                  PatientID  <...>503499 rows x 17 columns]\n",
      "lab_180_wide        DataFrame               PatientID  alb<...>[14007 rows x 18 columns]\n",
      "lab_core            DataFrame                  PatientID R<...>368274 rows x 11 columns]\n",
      "lab_core_win        DataFrame                  PatientID R<...>1418619 rows x 7 columns]\n",
      "lab_core_win_summ   DataFrame                  PatientID R<...>2374164 rows x 7 columns]\n",
      "lab_max_wide        DataFrame               PatientID  alp<...>n[15226 rows x 9 columns]\n",
      "lab_min_wide        DataFrame               PatientID  alb<...>n[15226 rows x 7 columns]\n",
      "test                DataFrame              PatientID Gende<...>[3786 rows x 228 columns]\n",
      "train               DataFrame               PatientID Gend<...>15141 rows x 228 columns]\n"
     ]
    }
   ],
   "source": [
    "%whos DataFrame"
   ]
  },
  {
   "cell_type": "code",
   "execution_count": 79,
   "id": "ffabce27",
   "metadata": {},
   "outputs": [],
   "source": [
    "del enhanced_met\n",
    "del lab\n",
    "del lab_180_wide\n",
    "del lab_core\n",
    "del lab_core_win\n",
    "del lab_core_win_summ\n",
    "del lab_max_wide\n",
    "del lab_min_wide"
   ]
  },
  {
   "cell_type": "markdown",
   "id": "eecc61d5",
   "metadata": {},
   "source": [
    "### 1.6 Replacing 'unknown' with np.nan for variables of interest"
   ]
  },
  {
   "cell_type": "code",
   "execution_count": 80,
   "id": "cb424b83",
   "metadata": {},
   "outputs": [],
   "source": [
    "df = df.replace({'stage': {'unknown': np.nan, '0': 'I'},\n",
    "                 'ecog_diagnosis': {'unknown': np.nan}})"
   ]
  },
  {
   "cell_type": "code",
   "execution_count": 81,
   "id": "c8340543",
   "metadata": {},
   "outputs": [
    {
     "data": {
      "text/plain": [
       "IV     9423\n",
       "NaN    7474\n",
       "II     1065\n",
       "III     819\n",
       "I       146\n",
       "Name: stage, dtype: int64"
      ]
     },
     "execution_count": 81,
     "metadata": {},
     "output_type": "execute_result"
    }
   ],
   "source": [
    "df.stage.value_counts(dropna = False)"
   ]
  },
  {
   "cell_type": "code",
   "execution_count": 82,
   "id": "ea262b7a",
   "metadata": {},
   "outputs": [
    {
     "data": {
      "text/plain": [
       "NaN    12841\n",
       "0.0     2680\n",
       "1.0     2343\n",
       "2.0      779\n",
       "3.0      270\n",
       "4.0       14\n",
       "Name: ecog_diagnosis, dtype: int64"
      ]
     },
     "execution_count": 82,
     "metadata": {},
     "output_type": "execute_result"
    }
   ],
   "source": [
    "df.ecog_diagnosis.value_counts(dropna = False)"
   ]
  },
  {
   "cell_type": "markdown",
   "id": "c9c74efb",
   "metadata": {},
   "source": [
    "### 1.7 Dropping unwanted summary variables "
   ]
  },
  {
   "cell_type": "code",
   "execution_count": 83,
   "id": "110dfac7",
   "metadata": {},
   "outputs": [],
   "source": [
    "# Pasted from crude_model_building file \n",
    "drop_labs = [\n",
    "    'albumin_avg',\n",
    "    'alp_avg',\n",
    "    'alt_avg',\n",
    "    'ast_avg',\n",
    "    'bicarb_avg',\n",
    "    'bun_avg',\n",
    "    'calcium_avg',\n",
    "    'chloride_avg',\n",
    "    'creatinine_avg',\n",
    "    'hemoglobin_avg',\n",
    "    'neutrophil_count_avg',\n",
    "    'platelet_avg',\n",
    "    'potassium_avg',\n",
    "    'psa_avg',\n",
    "    'sodium_avg',\n",
    "    'total_bilirubin_avg',\n",
    "    'wbc_avg',\n",
    "    'albumin_max',\n",
    "    'bicarb_max',\n",
    "    'bun_max',\n",
    "    'chloride_max',\n",
    "    'hemoglobin_max',\n",
    "    'neutrophil_count_max',\n",
    "    'platelet_max',\n",
    "    'potassium_max',\n",
    "    'sodium_max',\n",
    "    'alp_min',\n",
    "    'alt_min',\n",
    "    'ast_min',\n",
    "    'bun_min',\n",
    "    'calcium_min',\n",
    "    'chloride_min',\n",
    "    'creatinine_min',\n",
    "    'neutrophil_count_min',\n",
    "    'potassium_min',\n",
    "    'psa_min',\n",
    "    'total_bilirubin_min',\n",
    "    'albumin_std',\n",
    "    'alp_std',\n",
    "    'alt_std',\n",
    "    'ast_std',\n",
    "    'bicarb_std',\n",
    "    'bun_std',\n",
    "    'calcium_std',\n",
    "    'chloride_std',\n",
    "    'creatinine_std',\n",
    "    'hemoglobin_std',\n",
    "    'neutrophil_count_std',\n",
    "    'platelet_std',\n",
    "    'potassium_std',\n",
    "    'psa_std',\n",
    "    'sodium_std',\n",
    "    'total_bilirubin_std',\n",
    "    'wbc_std',\n",
    "    'albumin_slope',\n",
    "    'alp_slope',\n",
    "    'alt_slope',\n",
    "    'ast_slope',\n",
    "    'bicarb_slope',\n",
    "    'bun_slope',\n",
    "    'calcium_slope',\n",
    "    'chloride_slope',\n",
    "    'creatinine_slope',\n",
    "    'hemoglobin_slope',\n",
    "    'neutrophil_count_slope',\n",
    "    'platelet_slope',\n",
    "    'potassium_slope',\n",
    "    'sodium_slope',\n",
    "    'total_bilirubin_slope',\n",
    "    'wbc_slope',\n",
    "    'albumin_slope_na',\n",
    "    'alp_slope_na',\n",
    "    'alt_slope_na',\n",
    "    'ast_slope_na',\n",
    "    'bicarb_slope_na',\n",
    "    'bun_slope_na',\n",
    "    'calcium_slope_na',\n",
    "    'chloride_slope_na',\n",
    "    'creatinine_slope_na',\n",
    "    'hemoglobin_slope_na',\n",
    "    'neutrophil_count_slope_na',\n",
    "    'platelet_slope_na',\n",
    "    'potassium_slope_na',\n",
    "    'sodium_slope_na',\n",
    "    'total_bilirubin_slope_na',\n",
    "    'wbc_slope_na']"
   ]
  },
  {
   "cell_type": "code",
   "execution_count": 84,
   "id": "65bb54fc",
   "metadata": {},
   "outputs": [],
   "source": [
    "df = df.drop(columns = drop_labs)"
   ]
  },
  {
   "cell_type": "code",
   "execution_count": 85,
   "id": "f82b31b0",
   "metadata": {},
   "outputs": [
    {
     "data": {
      "text/plain": [
       "(18927, 184)"
      ]
     },
     "execution_count": 85,
     "metadata": {},
     "output_type": "execute_result"
    }
   ],
   "source": [
    "df.shape"
   ]
  },
  {
   "cell_type": "code",
   "execution_count": 86,
   "id": "c1763302",
   "metadata": {},
   "outputs": [],
   "source": [
    "df.loc[:, 'alp_max_na'] = np.where(df['alp_max'].isna(), 1, 0)\n",
    "df.loc[:, 'alt_max_na'] = np.where(df['alt_max'].isna(), 1, 0)\n",
    "df.loc[:, 'ast_max_na'] = np.where(df['ast_max'].isna(), 1, 0)\n",
    "df.loc[:, 'calcium_max_na'] = np.where(df['calcium_max'].isna(), 1, 0)\n",
    "df.loc[:, 'creatinine_max_na'] = np.where(df['creatinine_max'].isna(), 1, 0)\n",
    "df.loc[:, 'psa_max_na'] = np.where(df['creatinine_max'].isna(), 1, 0)\n",
    "df.loc[:, 'total_bilirubin_max_na'] = np.where(df['total_bilirubin_max'].isna(), 1, 0)\n",
    "df.loc[:, 'wbc_max_na'] = np.where(df['wbc_max'].isna(), 1, 0)\n",
    "df.loc[:, 'albumin_min_na'] = np.where(df['albumin_min'].isna(), 1, 0)\n",
    "df.loc[:, 'bicarb_min_na'] = np.where(df['bicarb_min'].isna(), 1, 0)\n",
    "df.loc[:, 'hemoglobin_min_na'] = np.where(df['hemoglobin_min'].isna(), 1, 0)\n",
    "df.loc[:, 'platelet_min_na'] = np.where(df['platelet_min'].isna(), 1, 0)\n",
    "df.loc[:, 'sodium_min_na'] = np.where(df['sodium_min'].isna(), 1, 0)\n",
    "df.loc[:, 'wbc_min_na'] = np.where(df['wbc_min'].isna(), 1, 0)"
   ]
  },
  {
   "cell_type": "code",
   "execution_count": 87,
   "id": "327d29e8",
   "metadata": {},
   "outputs": [
    {
     "data": {
      "text/plain": [
       "(18927, 198)"
      ]
     },
     "execution_count": 87,
     "metadata": {},
     "output_type": "execute_result"
    }
   ],
   "source": [
    "df.shape"
   ]
  },
  {
   "cell_type": "code",
   "execution_count": 88,
   "id": "3809dd70",
   "metadata": {},
   "outputs": [
    {
     "data": {
      "text/plain": [
       "(18927, 18927)"
      ]
     },
     "execution_count": 88,
     "metadata": {},
     "output_type": "execute_result"
    }
   ],
   "source": [
    "row_ID(df)"
   ]
  },
  {
   "cell_type": "code",
   "execution_count": 89,
   "id": "2784e438",
   "metadata": {},
   "outputs": [],
   "source": [
    "df_mice = df"
   ]
  },
  {
   "cell_type": "code",
   "execution_count": 90,
   "id": "e31c6c8d",
   "metadata": {},
   "outputs": [],
   "source": [
    "df_mice.to_csv('df_mice.csv', index = False, header = True)"
   ]
  },
  {
   "cell_type": "markdown",
   "id": "86688b61",
   "metadata": {},
   "source": [
    "### 1.8 Final processing"
   ]
  },
  {
   "cell_type": "code",
   "execution_count": 91,
   "id": "326235c7",
   "metadata": {},
   "outputs": [],
   "source": [
    "train_mice = df_mice[df_mice['PatientID'].isin(train['PatientID'])]\n",
    "train_mice = train_mice.set_index('PatientID')"
   ]
  },
  {
   "cell_type": "code",
   "execution_count": 92,
   "id": "5cfc9253",
   "metadata": {},
   "outputs": [],
   "source": [
    "test_mice = df_mice[df_mice['PatientID'].isin(test['PatientID'])]\n",
    "test_mice = test_mice.set_index('PatientID')"
   ]
  },
  {
   "cell_type": "code",
   "execution_count": 93,
   "id": "d46a85e5",
   "metadata": {},
   "outputs": [
    {
     "data": {
      "text/plain": [
       "(15141, 197)"
      ]
     },
     "execution_count": 93,
     "metadata": {},
     "output_type": "execute_result"
    }
   ],
   "source": [
    "train_mice.shape"
   ]
  },
  {
   "cell_type": "code",
   "execution_count": 94,
   "id": "31812729",
   "metadata": {},
   "outputs": [
    {
     "data": {
      "text/plain": [
       "(3786, 197)"
      ]
     },
     "execution_count": 94,
     "metadata": {},
     "output_type": "execute_result"
    }
   ],
   "source": [
    "test_mice.shape"
   ]
  },
  {
   "cell_type": "code",
   "execution_count": 95,
   "id": "367bdd14",
   "metadata": {},
   "outputs": [
    {
     "data": {
      "text/plain": [
       "['Gender',\n",
       " 'race',\n",
       " 'ethnicity',\n",
       " 'p_type',\n",
       " 'NStage',\n",
       " 'MStage',\n",
       " 'Histology',\n",
       " 'GleasonScore',\n",
       " 'stage',\n",
       " 'brca_status',\n",
       " 'ecog_diagnosis',\n",
       " 'prim_treatment']"
      ]
     },
     "execution_count": 95,
     "metadata": {},
     "output_type": "execute_result"
    }
   ],
   "source": [
    "list(train_mice.select_dtypes(include = ['object']).columns)"
   ]
  },
  {
   "cell_type": "code",
   "execution_count": 96,
   "id": "b45f90c5",
   "metadata": {},
   "outputs": [],
   "source": [
    "to_be_categorical = list(train_mice.select_dtypes(include = ['object']).columns)"
   ]
  },
  {
   "cell_type": "code",
   "execution_count": 97,
   "id": "fcdd7122",
   "metadata": {},
   "outputs": [],
   "source": [
    "to_be_categorical.append('met_year')"
   ]
  },
  {
   "cell_type": "code",
   "execution_count": 98,
   "id": "6a07f852",
   "metadata": {},
   "outputs": [],
   "source": [
    "# miceforest requires columns to be category or int/float, so object columns will be converted to category. \n",
    "for x in list(to_be_categorical):\n",
    "    train_mice[x] = train_mice[x].astype('category')"
   ]
  },
  {
   "cell_type": "code",
   "execution_count": 99,
   "id": "52598bc3",
   "metadata": {},
   "outputs": [],
   "source": [
    "# Convert variables in list to categorical.\n",
    "for x in list(to_be_categorical):\n",
    "    test_mice[x] = test_mice[x].astype('category')"
   ]
  },
  {
   "cell_type": "code",
   "execution_count": 100,
   "id": "0a57939e",
   "metadata": {},
   "outputs": [
    {
     "data": {
      "text/plain": [
       "['Gender',\n",
       " 'race',\n",
       " 'ethnicity',\n",
       " 'p_type',\n",
       " 'NStage',\n",
       " 'MStage',\n",
       " 'Histology',\n",
       " 'GleasonScore',\n",
       " 'stage',\n",
       " 'met_year',\n",
       " 'brca_status',\n",
       " 'ecog_diagnosis',\n",
       " 'prim_treatment']"
      ]
     },
     "execution_count": 100,
     "metadata": {},
     "output_type": "execute_result"
    }
   ],
   "source": [
    "list(train_mice.select_dtypes(include = ['category']).columns)"
   ]
  },
  {
   "cell_type": "code",
   "execution_count": 101,
   "id": "41622f03",
   "metadata": {},
   "outputs": [
    {
     "data": {
      "text/plain": [
       "['PSADiagnosis',\n",
       " 'PSAMetDiagnosis',\n",
       " 'stage',\n",
       " 'ecog_diagnosis',\n",
       " 'weight_diag',\n",
       " 'bmi_diag',\n",
       " 'weight_pct_change',\n",
       " 'weight_slope',\n",
       " 'albumin_diag',\n",
       " 'alp_diag',\n",
       " 'alt_diag',\n",
       " 'ast_diag',\n",
       " 'bicarb_diag',\n",
       " 'bun_diag',\n",
       " 'calcium_diag',\n",
       " 'chloride_diag',\n",
       " 'creatinine_diag',\n",
       " 'hemoglobin_diag',\n",
       " 'neutrophil_count_diag',\n",
       " 'platelet_diag',\n",
       " 'potassium_diag',\n",
       " 'sodium_diag',\n",
       " 'total_bilirubin_diag',\n",
       " 'wbc_diag',\n",
       " 'alp_max',\n",
       " 'alt_max',\n",
       " 'ast_max',\n",
       " 'calcium_max',\n",
       " 'creatinine_max',\n",
       " 'psa_max',\n",
       " 'total_bilirubin_max',\n",
       " 'wbc_max',\n",
       " 'albumin_min',\n",
       " 'bicarb_min',\n",
       " 'hemoglobin_min',\n",
       " 'platelet_min',\n",
       " 'sodium_min',\n",
       " 'wbc_min',\n",
       " 'psa_slope',\n",
       " 'weight_180',\n",
       " 'bmi_180',\n",
       " 'weight_pct_1yr',\n",
       " 'weight_slope_1yr',\n",
       " 'albumin_180',\n",
       " 'alp_180',\n",
       " 'alt_180',\n",
       " 'ast_180',\n",
       " 'bicarb_180',\n",
       " 'bun_180',\n",
       " 'calcium_180',\n",
       " 'chloride_180',\n",
       " 'creatinine_180',\n",
       " 'hemoglobin_180',\n",
       " 'neutrophil_count_180',\n",
       " 'platelet_180',\n",
       " 'potassium_180',\n",
       " 'psa_180',\n",
       " 'sodium_180',\n",
       " 'total_bilirubin_180',\n",
       " 'wbc_180',\n",
       " 'alp_max_f',\n",
       " 'alt_max_f',\n",
       " 'ast_max_f',\n",
       " 'calcium_max_f',\n",
       " 'creatinine_max_f',\n",
       " 'psa_max_f',\n",
       " 'total_bilirubin_max_f',\n",
       " 'wbc_max_f',\n",
       " 'albumin_min_f',\n",
       " 'bicarb_min_f',\n",
       " 'hemoglobin_min_f',\n",
       " 'platelet_min_f',\n",
       " 'sodium_min_f',\n",
       " 'wbc_min_f']"
      ]
     },
     "execution_count": 101,
     "metadata": {},
     "output_type": "execute_result"
    }
   ],
   "source": [
    "# List of variable that have missing values which MICE will impute. \n",
    "list(train_mice.columns[train_mice.isnull().any()])"
   ]
  },
  {
   "cell_type": "code",
   "execution_count": 102,
   "id": "dcb5d97f",
   "metadata": {},
   "outputs": [
    {
     "data": {
      "text/plain": [
       "74"
      ]
     },
     "execution_count": 102,
     "metadata": {},
     "output_type": "execute_result"
    }
   ],
   "source": [
    "len(train_mice.columns[train_mice.isnull().any()])"
   ]
  },
  {
   "cell_type": "markdown",
   "id": "60c947ae",
   "metadata": {},
   "source": [
    "## 2. Building training and test set using miceforest "
   ]
  },
  {
   "cell_type": "code",
   "execution_count": 103,
   "id": "1feb9507",
   "metadata": {},
   "outputs": [],
   "source": [
    "import miceforest as mf"
   ]
  },
  {
   "cell_type": "markdown",
   "id": "33e1933e",
   "metadata": {},
   "source": [
    "### 2.1 Finding ideal parameters"
   ]
  },
  {
   "cell_type": "code",
   "execution_count": 104,
   "id": "4ae9a998",
   "metadata": {},
   "outputs": [],
   "source": [
    "# Create kernel. \n",
    "kernel = mf.ImputationKernel(\n",
    "    train_mice,\n",
    "    datasets = 5,\n",
    "    save_all_iterations = True,\n",
    "    random_state = 42)"
   ]
  },
  {
   "cell_type": "code",
   "execution_count": 105,
   "id": "ff27a2da",
   "metadata": {},
   "outputs": [
    {
     "name": "stdout",
     "output_type": "stream",
     "text": [
      "PSAMetDiagnosis | 0 - 1 - 2 - 3 - 4 - \n",
      "weight_pct_1yr | 0 - 1 - 2 - 3 - 4 - \n",
      "weight_slope_1yr | 0 - 1 - 2 - 3 - 4 - \n",
      "hemoglobin_min_f | 0 - 1 - 2 - 3 - 4 - \n",
      "creatinine_max_f | 0 - 1 - 2 - 3 - 4 - \n",
      "calcium_max_f | 0 - 1 - 2 - 3 - 4 - \n",
      "alp_max_f | 0 - 1 - 2 - 3 - 4 - \n",
      "ast_max_f | 0 - 1 - 2 - 3 - 4 - \n",
      "alt_max_f | 0 - 1 - 2 - 3 - 4 - \n",
      "total_bilirubin_max_f | 0 - 1 - 2 - 3 - 4 - \n",
      "wbc_min_f | 0 - 1 - 2 - 3 - 4 - \n",
      "wbc_max_f | 0 - 1 - 2 - 3 - 4 - \n",
      "albumin_min_f | 0 - 1 - 2 - 3 - 4 - \n",
      "platelet_min_f | 0 - 1 - 2 - 3 - 4 - \n",
      "hemoglobin_180 | 0 - 1 - 2 - 3 - 4 - \n",
      "PSADiagnosis | 0 - 1 - 2 - 3 - 4 - \n",
      "bun_180 | 0 - 1 - 2 - 3 - 4 - \n",
      "creatinine_180 | 0 - 1 - 2 - 3 - 4 - \n",
      "calcium_180 | 0 - 1 - 2 - 3 - 4 - \n",
      "alp_180 | 0 - 1 - 2 - 3 - 4 - \n",
      "ast_180 | 0 - 1 - 2 - 3 - 4 - \n",
      "alt_180 | 0 - 1 - 2 - 3 - 4 - \n",
      "total_bilirubin_180 | 0 - 1 - 2 - 3 - 4 - \n",
      "albumin_180 | 0 - 1 - 2 - 3 - 4 - \n",
      "wbc_180 | 0 - 1 - 2 - 3 - 4 - \n",
      "bicarb_min_f | 0 - 1 - 2 - 3 - 4 - \n",
      "platelet_180 | 0 - 1 - 2 - 3 - 4 - \n",
      "weight_180 | 0 - 1 - 2 - 3 - 4 - \n",
      "bmi_180 | 0 - 1 - 2 - 3 - 4 - \n",
      "sodium_min_f | 0 - 1 - 2 - 3 - 4 - \n",
      "stage | 0 - 1 - 2 - 3 - 4 - \n",
      "weight_pct_change | 0 - 1 - 2 - 3 - 4 - \n",
      "weight_slope | 0 - 1 - 2 - 3 - 4 - \n",
      "bicarb_180 | 0 - 1 - 2 - 3 - 4 - \n",
      "neutrophil_count_180 | 0 - 1 - 2 - 3 - 4 - \n",
      "potassium_180 | 0 - 1 - 2 - 3 - 4 - \n",
      "sodium_180 | 0 - 1 - 2 - 3 - 4 - \n",
      "weight_diag | 0 - 1 - 2 - 3 - 4 - \n",
      "bmi_diag | 0 - 1 - 2 - 3 - 4 - \n",
      "psa_max_f | 0 - 1 - 2 - 3 - 4 - \n",
      "chloride_180 | 0 - 1 - 2 - 3 - 4 - \n",
      "hemoglobin_min | 0 - 1 - 2 - 3 - 4 - \n",
      "creatinine_max | 0 - 1 - 2 - 3 - 4 - \n",
      "calcium_max | 0 - 1 - 2 - 3 - 4 - \n",
      "ast_max | 0 - 1 - 2 - 3 - 4 - \n",
      "alp_max | 0 - 1 - 2 - 3 - 4 - \n",
      "wbc_max | 0 - 1 - 2 - 3 - 4 - \n",
      "wbc_min | 0 - 1 - 2 - 3 - 4 - \n",
      "alt_max | 0 - 1 - 2 - 3 - 4 - \n",
      "total_bilirubin_max | 0 - 1 - 2 - 3 - 4 - \n",
      "psa_180 | 0 - 1 - 2 - 3 - 4 - \n",
      "platelet_min | 0 - 1 - 2 - 3 - 4 - \n",
      "albumin_min | 0 - 1 - 2 - 3 - 4 - \n",
      "hemoglobin_diag | 0 - 1 - 2 - 3 - 4 - \n",
      "creatinine_diag | 0 - 1 - 2 - 3 - 4 - \n",
      "bun_diag | 0 - 1 - 2 - 3 - 4 - \n",
      "calcium_diag | 0 - 1 - 2 - 3 - 4 - \n",
      "ast_diag | 0 - 1 - 2 - 3 - 4 - \n",
      "alp_diag | 0 - 1 - 2 - 3 - 4 - \n",
      "alt_diag | 0 - 1 - 2 - 3 - 4 - \n",
      "total_bilirubin_diag | 0 - 1 - 2 - 3 - 4 - \n",
      "wbc_diag | 0 - 1 - 2 - 3 - 4 - \n",
      "albumin_diag | 0 - 1 - 2 - 3 - 4 - \n",
      "platelet_diag | 0 - 1 - 2 - 3 - 4 - \n",
      "bicarb_min | 0 - 1 - 2 - 3 - 4 - \n",
      "sodium_min | 0 - 1 - 2 - 3 - 4 - \n",
      "bicarb_diag | 0 - 1 - 2 - 3 - 4 - \n",
      "neutrophil_count_diag | 0 - 1 - 2 - 3 - 4 - \n",
      "ecog_diagnosis | 0 - 1 - 2 - 3 - 4 - \n",
      "potassium_diag | 0 - 1 - 2 - 3 - 4 - \n",
      "sodium_diag | 0 - 1 - 2 - 3 - 4 - \n",
      "psa_max | 0 - 1 - 2 - 3 - 4 - \n",
      "chloride_diag | 0 - 1 - 2 - 3 - 4 - \n",
      "psa_slope | 0 - 1 - 2 - 3 - 4 - \n"
     ]
    }
   ],
   "source": [
    "# Using the first ImputationKernel in kernel to tune parameters with the default settings.\n",
    "optimal_parameters, losses = kernel.tune_parameters(\n",
    "    dataset = 0,\n",
    "    optimization_steps = 5,\n",
    "    verbose = 1,\n",
    "    random_state = 42)"
   ]
  },
  {
   "cell_type": "markdown",
   "id": "16d05a1c",
   "metadata": {},
   "source": [
    "### 2.2 Building training datasets"
   ]
  },
  {
   "cell_type": "code",
   "execution_count": 106,
   "id": "96b6a6f3",
   "metadata": {},
   "outputs": [],
   "source": [
    "# Run mice with our newly tuned parameters.\n",
    "kernel.mice(iterations = 5, \n",
    "            variable_parameters = optimal_parameters,\n",
    "            verbose = 0)"
   ]
  },
  {
   "cell_type": "code",
   "execution_count": 107,
   "id": "49ec5228",
   "metadata": {},
   "outputs": [],
   "source": [
    "for x in range(5): \n",
    "    kernel.complete_data(dataset = x).to_csv('mice_tr'+str(x)+'.csv', index = True, header = True)"
   ]
  },
  {
   "cell_type": "markdown",
   "id": "0d23d1dc",
   "metadata": {},
   "source": [
    "### 2.3 Building test datasets"
   ]
  },
  {
   "cell_type": "code",
   "execution_count": 108,
   "id": "d78f08d0",
   "metadata": {},
   "outputs": [],
   "source": [
    "test_imputed = kernel.impute_new_data(new_data = test_mice, verbose = 0)"
   ]
  },
  {
   "cell_type": "code",
   "execution_count": 109,
   "id": "c54007d3",
   "metadata": {},
   "outputs": [],
   "source": [
    "for x in range(5): \n",
    "    test_imputed.complete_data(dataset = x).to_csv('mice_te'+str(x)+'.csv', index = True, header = True)"
   ]
  },
  {
   "cell_type": "markdown",
   "id": "2ed41b1b",
   "metadata": {},
   "source": [
    "## 3. Building gradient boosting models "
   ]
  },
  {
   "cell_type": "code",
   "execution_count": 110,
   "id": "63ff28e9",
   "metadata": {},
   "outputs": [],
   "source": [
    "from sklearn.pipeline import Pipeline, make_pipeline\n",
    "from sklearn.impute import SimpleImputer\n",
    "from sklearn.preprocessing import StandardScaler, OneHotEncoder, OrdinalEncoder\n",
    "from sklearn.compose import ColumnTransformer \n",
    "from sklearn.experimental import enable_halving_search_cv\n",
    "from sklearn.model_selection import StratifiedKFold, HalvingGridSearchCV\n",
    "\n",
    "from sksurv.ensemble import GradientBoostingSurvivalAnalysis\n",
    "from sksurv.metrics import cumulative_dynamic_auc, as_cumulative_dynamic_auc_scorer\n",
    "\n",
    "from joblib import dump, load\n",
    "\n",
    "import matplotlib.pyplot as plt\n",
    "\n",
    "import warnings"
   ]
  },
  {
   "cell_type": "markdown",
   "id": "9c2aad23",
   "metadata": {},
   "source": [
    "### 3.1 Model 0"
   ]
  },
  {
   "cell_type": "markdown",
   "id": "82b96f0a",
   "metadata": {},
   "source": [
    "#### Preprocessing and building pipeline "
   ]
  },
  {
   "cell_type": "code",
   "execution_count": 111,
   "id": "3b00ff00",
   "metadata": {},
   "outputs": [],
   "source": [
    "# Import first training set\n",
    "train_mice0 = pd.read_csv('mice_tr0.csv', index_col = 'PatientID')\n",
    "\n",
    "# Import all test sets\n",
    "test_mice0 = pd.read_csv('mice_te0.csv', index_col = 'PatientID')\n",
    "test_mice1 = pd.read_csv('mice_te1.csv', index_col = 'PatientID')\n",
    "test_mice2 = pd.read_csv('mice_te2.csv', index_col = 'PatientID')\n",
    "test_mice3 = pd.read_csv('mice_te3.csv', index_col = 'PatientID')\n",
    "test_mice4 = pd.read_csv('mice_te4.csv', index_col = 'PatientID')"
   ]
  },
  {
   "cell_type": "code",
   "execution_count": 112,
   "id": "6f64f5ad",
   "metadata": {},
   "outputs": [],
   "source": [
    "# Combine all test sets into 1 to get more robust estimates from models\n",
    "test_mice = pd.concat([test_mice0, test_mice1, test_mice2, test_mice3, test_mice4], ignore_index = False)"
   ]
  },
  {
   "cell_type": "code",
   "execution_count": 113,
   "id": "2b7b656c",
   "metadata": {},
   "outputs": [
    {
     "name": "stdout",
     "output_type": "stream",
     "text": [
      "(15141, 197)\n",
      "(18930, 197)\n"
     ]
    }
   ],
   "source": [
    "print(train_mice0.shape)\n",
    "print(test_mice.shape)"
   ]
  },
  {
   "cell_type": "code",
   "execution_count": 114,
   "id": "6bb3a266",
   "metadata": {},
   "outputs": [
    {
     "data": {
      "text/plain": [
       "Index(['abe', 'albumin_180', 'albumin_min_f', 'alp_180', 'alp_max_f',\n",
       "       'alt_180', 'alt_max_f', 'ast_180', 'ast_max_f', 'bicarb_180',\n",
       "       'bicarb_min_f', 'bmi_180', 'bun_180', 'calcium_180', 'calcium_max_f',\n",
       "       'chloride_180', 'creatinine_180', 'creatinine_max_f', 'crpc_1',\n",
       "       'crpc_2', 'crpc_3', 'hemoglobin_180', 'hemoglobin_min_f', 'hspc',\n",
       "       'late_adt', 'neutrophil_count_180', 'platelet_180', 'platelet_min_f',\n",
       "       'potassium_180', 'psa_180', 'psa_max_f', 'sipt', 'sodium_180',\n",
       "       'sodium_min_f', 'total_bilirubin_180', 'total_bilirubin_max_f',\n",
       "       'wbc_180', 'wbc_max_f', 'wbc_min_f', 'weight_180', 'weight_pct_1yr',\n",
       "       'weight_slope_1yr'],\n",
       "      dtype='object')"
      ]
     },
     "execution_count": 114,
     "metadata": {},
     "output_type": "execute_result"
    }
   ],
   "source": [
    "# Auxillary variables generated for MICE\n",
    "(\n",
    "    train_mice0.columns[train_mice0.columns.str.contains('_1|_2|_3|_4|_180|_1yr|x_f|n_f')]\n",
    "    .union(train_mice0.columns[train_mice0.columns.str.match('late_adt|abe|sipt|hspc')])\n",
    ")"
   ]
  },
  {
   "cell_type": "code",
   "execution_count": 115,
   "id": "0bd219f9",
   "metadata": {},
   "outputs": [],
   "source": [
    "#Remove auxillary variables for train and test sets\n",
    "mice_drop = (\n",
    "    train_mice0.columns[train_mice0.columns.str.contains('_1|_2|_3|_4|_180|_1yr|x_f|n_f')]\n",
    "    .union(train_mice0.columns[train_mice0.columns.str.match('late_adt|abe|sipt|hspc')])\n",
    ")\n",
    "\n",
    "train_mice0 = train_mice0.drop(columns = mice_drop)\n",
    "\n",
    "test_mice = test_mice.drop(columns = mice_drop)"
   ]
  },
  {
   "cell_type": "code",
   "execution_count": 116,
   "id": "ccae2da6",
   "metadata": {},
   "outputs": [
    {
     "name": "stdout",
     "output_type": "stream",
     "text": [
      "(15141, 155)\n",
      "(18930, 155)\n"
     ]
    }
   ],
   "source": [
    "print(train_mice0.shape)\n",
    "print(test_mice.shape)"
   ]
  },
  {
   "cell_type": "code",
   "execution_count": 117,
   "id": "6db27b05",
   "metadata": {},
   "outputs": [],
   "source": [
    "# Generate ecog_na, stage_na, and ses_na indicator variables\n",
    "train_mice0['ecog_na'] = np.where(train_mice0.index.isin(train.query('ecog_diagnosis == \"unknown\"').PatientID), 1, 0)\n",
    "train_mice0['stage_na'] = np.where(train_mice0.index.isin(train.query('stage == \"unknown\"').PatientID), 1, 0)\n",
    "\n",
    "test_mice['ecog_na'] = np.where(test_mice.index.isin(test.query('ecog_diagnosis == \"unknown\"').PatientID), 1, 0)\n",
    "test_mice['stage_na'] = np.where(test_mice.index.isin(test.query('stage == \"unknown\"').PatientID), 1, 0)"
   ]
  },
  {
   "cell_type": "code",
   "execution_count": 118,
   "id": "4899d262",
   "metadata": {},
   "outputs": [
    {
     "data": {
      "text/plain": [
       "['Gender',\n",
       " 'race',\n",
       " 'ethnicity',\n",
       " 'p_type',\n",
       " 'NStage',\n",
       " 'MStage',\n",
       " 'Histology',\n",
       " 'GleasonScore',\n",
       " 'stage',\n",
       " 'brca_status',\n",
       " 'ecog_diagnosis',\n",
       " 'prim_treatment',\n",
       " 'met_year']"
      ]
     },
     "execution_count": 118,
     "metadata": {},
     "output_type": "execute_result"
    }
   ],
   "source": [
    "# List of cateogrical varaibles \n",
    "to_be_categorical"
   ]
  },
  {
   "cell_type": "code",
   "execution_count": 119,
   "id": "e4f25a85",
   "metadata": {},
   "outputs": [],
   "source": [
    "# Convert object variables to categorical variables for train and test \n",
    "for x in list(to_be_categorical):\n",
    "    train_mice0[x] = train_mice0[x].astype('category')\n",
    "    \n",
    "for x in list(to_be_categorical):\n",
    "    test_mice[x] = test_mice[x].astype('category')"
   ]
  },
  {
   "cell_type": "code",
   "execution_count": 120,
   "id": "58aceec1",
   "metadata": {},
   "outputs": [
    {
     "data": {
      "text/plain": [
       "['Gender',\n",
       " 'race',\n",
       " 'ethnicity',\n",
       " 'p_type',\n",
       " 'NStage',\n",
       " 'MStage',\n",
       " 'Histology',\n",
       " 'GleasonScore',\n",
       " 'stage',\n",
       " 'met_year',\n",
       " 'brca_status',\n",
       " 'ecog_diagnosis',\n",
       " 'prim_treatment']"
      ]
     },
     "execution_count": 120,
     "metadata": {},
     "output_type": "execute_result"
    }
   ],
   "source": [
    "list(train_mice0.select_dtypes(include = ['category']).columns)"
   ]
  },
  {
   "cell_type": "code",
   "execution_count": 121,
   "id": "7b2aa0dd",
   "metadata": {},
   "outputs": [],
   "source": [
    "# Death status to boolean \n",
    "train_mice0['death_status'] = train_mice0['death_status'].astype('bool')\n",
    "\n",
    "test_mice['death_status'] = test_mice['death_status'].astype('bool')"
   ]
  },
  {
   "cell_type": "code",
   "execution_count": 122,
   "id": "32da9fe5",
   "metadata": {},
   "outputs": [],
   "source": [
    "#Define validation and subtrain\n",
    "val_IDs = pd.read_csv('val_IDs.csv')\n",
    "\n",
    "val_mice0 = train_mice0[train_mice0.index.isin(val_IDs['PatientID'])]\n",
    "\n",
    "sub_train_mice0 = train_mice0[~train_mice0.index.isin(val_IDs['PatientID'])]"
   ]
  },
  {
   "cell_type": "code",
   "execution_count": 123,
   "id": "09fe01e8",
   "metadata": {},
   "outputs": [
    {
     "name": "stdout",
     "output_type": "stream",
     "text": [
      "(15141, 157)\n",
      "(11355, 157)\n",
      "(3786, 157)\n"
     ]
    }
   ],
   "source": [
    "print(train_mice0.shape)\n",
    "print(sub_train_mice0.shape)\n",
    "print(val_mice0.shape)"
   ]
  },
  {
   "cell_type": "code",
   "execution_count": 124,
   "id": "49fd3a85",
   "metadata": {},
   "outputs": [],
   "source": [
    "# 'X' datasets\n",
    "train_mice0_x = train_mice0.drop(columns = ['death_status', 'timerisk_activity'])\n",
    "\n",
    "sub_train_mice0_x = sub_train_mice0.drop(columns = ['death_status', 'timerisk_activity'])\n",
    "\n",
    "val_mice0_x = val_mice0.drop(columns = ['death_status', 'timerisk_activity'])\n",
    "\n",
    "test_mice_x = test_mice.drop(columns = ['death_status', 'timerisk_activity'])"
   ]
  },
  {
   "cell_type": "code",
   "execution_count": 125,
   "id": "f986574d",
   "metadata": {},
   "outputs": [
    {
     "name": "stdout",
     "output_type": "stream",
     "text": [
      "(15141, 155)\n",
      "(11355, 155)\n",
      "(3786, 155)\n",
      "(18930, 155)\n"
     ]
    }
   ],
   "source": [
    "print(train_mice0_x.shape)\n",
    "print(sub_train_mice0_x.shape)\n",
    "print(val_mice0_x.shape)\n",
    "print(test_mice_x.shape)"
   ]
  },
  {
   "cell_type": "code",
   "execution_count": 126,
   "id": "ddb8bbc0",
   "metadata": {},
   "outputs": [],
   "source": [
    "# 'Y' datasets \n",
    "y_dtypes = train_mice0[['death_status', 'timerisk_activity']].dtypes\n",
    "\n",
    "train_y = np.array([tuple(x) for x in train[['death_status', 'timerisk_activity']].values],\n",
    "                   dtype = list(zip(y_dtypes.index, y_dtypes)))\n",
    "\n",
    "sub_train_y = np.array([tuple(x) for x in sub_train_mice0[['death_status', 'timerisk_activity']].values],\n",
    "                       dtype = list(zip(y_dtypes.index, y_dtypes)))\n",
    "\n",
    "val_y = np.array([tuple(x) for x in val_mice0[['death_status', 'timerisk_activity']].values],\n",
    "                 dtype = list(zip(y_dtypes.index, y_dtypes)))\n",
    "\n",
    "test_y = np.array([tuple(x) for x in test_mice[['death_status', 'timerisk_activity']].values],\n",
    "                  dtype = list(zip(y_dtypes.index, y_dtypes)))"
   ]
  },
  {
   "cell_type": "code",
   "execution_count": 127,
   "id": "69df7c59",
   "metadata": {},
   "outputs": [],
   "source": [
    "# List of numeric variables, excluding binary variables. \n",
    "numerical_features_red = [\n",
    "    'age',\n",
    "    'PSADiagnosis',\n",
    "    'PSAMetDiagnosis',\n",
    "    'delta_met_diagnosis',\n",
    "    'crpc_time',\n",
    "    'weight_diag',\n",
    "    'bmi_diag',\n",
    "    'weight_pct_change',\n",
    "    'weight_slope',\n",
    "    'albumin_diag',\n",
    "    'alp_diag',\n",
    "    'alt_diag',\n",
    "    'ast_diag',\n",
    "    'bicarb_diag',\n",
    "    'bun_diag',\n",
    "    'calcium_diag',\n",
    "    'chloride_diag',\n",
    "    'creatinine_diag',\n",
    "    'hemoglobin_diag',\n",
    "    'neutrophil_count_diag',\n",
    "    'platelet_diag',\n",
    "    'potassium_diag',\n",
    "    'sodium_diag',\n",
    "    'total_bilirubin_diag',\n",
    "    'wbc_diag',\n",
    "    'alp_max',\n",
    "    'alt_max',\n",
    "    'ast_max',\n",
    "    'calcium_max',\n",
    "    'creatinine_max',\n",
    "    'psa_max',\n",
    "    'total_bilirubin_max',\n",
    "    'wbc_max',\n",
    "    'albumin_min',\n",
    "    'bicarb_min',\n",
    "    'hemoglobin_min',\n",
    "    'platelet_min',\n",
    "    'sodium_min',\n",
    "    'wbc_min',\n",
    "    'psa_slope',\n",
    "    'icd_count']\n",
    "\n",
    "# List of categorical features.\n",
    "categorical_features = list(train_mice0_x.select_dtypes(include = ['category']).columns)\n",
    "\n",
    "# Transformer will apply a standard scaler. \n",
    "numerical_transformer = Pipeline(steps = [\n",
    "    ('std_scaler', StandardScaler())])\n",
    "\n",
    "# One-hot-encode categorical features.\n",
    "categorical_transformer = OneHotEncoder(handle_unknown = 'ignore')"
   ]
  },
  {
   "cell_type": "code",
   "execution_count": 128,
   "id": "f2c4c6e7",
   "metadata": {},
   "outputs": [],
   "source": [
    "preprocessor_red = ColumnTransformer(\n",
    "    transformers = [\n",
    "        ('num', numerical_transformer, numerical_features_red),\n",
    "        ('cat', categorical_transformer, categorical_features)],\n",
    "    remainder = 'passthrough')"
   ]
  },
  {
   "cell_type": "markdown",
   "id": "2a1848b5",
   "metadata": {},
   "source": [
    "#### Hyperparameter tuning"
   ]
  },
  {
   "cell_type": "code",
   "execution_count": 129,
   "id": "585296d3",
   "metadata": {},
   "outputs": [
    {
     "name": "stdout",
     "output_type": "stream",
     "text": [
      "      Iter       Train Loss      OOB Improve   Remaining Time \n",
      "         1       35806.5749           7.1378           38.52m\n",
      "         2       36193.6824           7.5691           38.52m\n",
      "         3       36362.9641           6.8122           38.54m\n",
      "         4       35967.2473           6.5205           38.54m\n",
      "         5       36378.5839           6.2204           38.57m\n",
      "         6       36007.5083           6.0505           38.60m\n",
      "         7       35778.8153           5.9021           38.60m\n",
      "         8       35879.1462           5.3759           38.56m\n",
      "         9       35515.2244           5.7450           38.52m\n",
      "        10       35862.4532           5.7978           38.52m\n",
      "        20       35496.7984           3.9667           38.32m\n",
      "        30       35664.2757           3.1643           37.95m\n",
      "        40       35058.3116           2.3708           37.70m\n",
      "        50       35336.8770           1.9552           37.52m\n",
      "        60       35024.8069           1.6527           37.26m\n",
      "        70       35234.0733           1.3393           36.95m\n",
      "        80       35312.8189           0.9969           36.65m\n",
      "        90       35170.8765           0.8185           36.37m\n",
      "       100       34785.7898           0.6314           36.09m\n",
      "       200       34802.5264           0.1689           33.41m\n",
      "       300       34663.4412          -0.0074           30.82m\n",
      "       400       34234.3368          -0.1761           28.23m\n",
      "       500       34544.8446          -0.0685           25.66m\n",
      "       600       34094.3604          -0.1568           23.09m\n",
      "       700       34049.8082          -0.3814           20.52m\n",
      "       800       33768.6709          -0.2401           17.95m\n",
      "       900       33952.2550          -0.2139           15.39m\n",
      "      1000       33959.1119          -0.0609           12.84m\n"
     ]
    },
    {
     "data": {
      "text/plain": [
       "GradientBoostingSurvivalAnalysis(learning_rate=0.05, n_estimators=1500,\n",
       "                                 random_state=42, subsample=0.75, verbose=1)"
      ]
     },
     "execution_count": 131,
     "metadata": {},
     "output_type": "execute_result"
    }
   ],
   "source": [
    "sub_train_mice0_xt = preprocessor_red.fit_transform(sub_train_mice0_x)\n",
    "val_mice0_xt = preprocessor_red.transform(val_mice0_x)\n",
    "\n",
    "gbm_mice0_exp = GradientBoostingSurvivalAnalysis(n_estimators = 1500,\n",
    "                                                 learning_rate = 0.05,\n",
    "                                                 max_depth = 3,\n",
    "                                                 subsample = 0.75,\n",
    "                                                 verbose = 1,\n",
    "                                                 random_state = 42)\n",
    "\n",
    "gbm_mice0_exp.fit(sub_train_mice0_xt, sub_train_y)"
   ]
  },
  {
   "cell_type": "code",
   "execution_count": 130,
   "id": "2253e66d",
   "metadata": {},
   "outputs": [],
   "source": [
    "gbm0_staged_auc = [cumulative_dynamic_auc(sub_train_y, val_y, risk_score, 730)[0][0] for \n",
    "                   risk_score in gbm_mice0_exp.staged_predict(val_mice0_xt)]"
   ]
  },
  {
   "cell_type": "code",
   "execution_count": 131,
   "id": "891efd02",
   "metadata": {},
   "outputs": [],
   "source": [
    "gbm0_staged_auc_tr = [cumulative_dynamic_auc(sub_train_y, sub_train_y, risk_score, 730)[0][0] for \n",
    "                      risk_score in gbm_mice0_exp.staged_predict(sub_train_mice0_xt)]"
   ]
  },
  {
   "cell_type": "code",
   "execution_count": 132,
   "id": "d9347749",
   "metadata": {},
   "outputs": [
    {
     "data": {
      "image/png": "[encoded data removed]",
      "text/plain": [
       "<Figure size 432x288 with 1 Axes>"
      ]
     },
     "metadata": {
      "needs_background": "light"
     },
     "output_type": "display_data"
    }
   ],
   "source": [
    "fig = plt.figure()\n",
    "ax = fig.add_subplot(1, 1, 1)\n",
    "\n",
    "x = range(len(gbm0_staged_auc))\n",
    "plt.plot(x, gbm0_staged_auc, color = 'blue', label = 'validation')\n",
    "plt.plot(x, gbm0_staged_auc_tr, color = 'red', label = 'training')\n",
    "plt.legend(loc = 'lower right')\n",
    "\n",
    "plt.xlabel(\"n_estimators\")\n",
    "plt.ylabel(\"AUC at 2-years\")\n",
    "plt.title('Gradient boosting model learning curve for mice0')\n",
    "\n",
    "plt.show()"
   ]
  },
  {
   "cell_type": "code",
   "execution_count": 133,
   "id": "b741b4e5",
   "metadata": {},
   "outputs": [],
   "source": [
    "# Average AUC for every 25 additional trees. \n",
    "mean_auc_list = []\n",
    "for x in np.arange(0, len(gbm0_staged_auc), 25):\n",
    "    mean_auc_list.append(np.mean(gbm0_staged_auc[x:x+24]))"
   ]
  },
  {
   "cell_type": "code",
   "execution_count": 134,
   "id": "f1d56e2c",
   "metadata": {},
   "outputs": [
    {
     "name": "stdout",
     "output_type": "stream",
     "text": [
      "Number of trees where 2 year AUC on validation dataset beings to downgrade: 925\n",
      "Validation dataset AUC before degrading: 0.7858821801034896\n",
      "Training dataset AUC before degrading: 0.8360639366103648\n"
     ]
    }
   ],
   "source": [
    "print('Number of trees where 2 year AUC on validation dataset beings to downgrade:', np.where(np.diff(mean_auc_list) < 0)[0][0]*25)\n",
    "print('Validation dataset AUC before degrading:', gbm0_staged_auc[np.where(np.diff(mean_auc_list) < 0)[0][0]*25])\n",
    "print('Training dataset AUC before degrading:', gbm0_staged_auc_tr[np.where(np.diff(mean_auc_list) < 0)[0][0]*25])"
   ]
  },
  {
   "cell_type": "code",
   "execution_count": 135,
   "id": "bee7c005",
   "metadata": {
    "scrolled": true
   },
   "outputs": [
    {
     "name": "stdout",
     "output_type": "stream",
     "text": [
      "n_iterations: 4\n",
      "n_required_iterations: 4\n",
      "n_possible_iterations: 4\n",
      "min_resources_: 1892\n",
      "max_resources_: 15141\n",
      "aggressive_elimination: False\n",
      "factor: 2\n",
      "----------\n",
      "iter: 0\n",
      "n_candidates: 9\n",
      "n_resources: 1892\n",
      "Fitting 3 folds for each of 9 candidates, totalling 27 fits\n",
      "----------\n",
      "iter: 1\n",
      "n_candidates: 5\n",
      "n_resources: 3784\n",
      "Fitting 3 folds for each of 5 candidates, totalling 15 fits\n",
      "----------\n",
      "iter: 2\n",
      "n_candidates: 3\n",
      "n_resources: 7568\n",
      "Fitting 3 folds for each of 3 candidates, totalling 9 fits\n",
      "----------\n",
      "iter: 3\n",
      "n_candidates: 2\n",
      "n_resources: 15136\n",
      "Fitting 3 folds for each of 2 candidates, totalling 6 fits\n"
     ]
    },
    {
     "data": {
      "text/plain": [
       "HalvingGridSearchCV(cv=StratifiedKFold(n_splits=3, random_state=10, shuffle=True),\n",
       "                    estimator=as_cumulative_dynamic_auc_scorer(estimator=Pipeline(steps=[('columntransformer',\n",
       "                                                                                          ColumnTransformer(remainder='passthrough',\n",
       "                                                                                                            transformers=[('num',\n",
       "                                                                                                                           Pipeline(steps=[('std_scaler',\n",
       "                                                                                                                                            StandardScaler())]),\n",
       "                                                                                                                           ['age',\n",
       "                                                                                                                            'PSADiagnosis',\n",
       "                                                                                                                            'PSAMetDiagnosis',\n",
       "                                                                                                                            'delta_met_diagnosis',\n",
       "                                                                                                                            'crpc...\n",
       "                                                                                                                            'prim_treatment'])])),\n",
       "                                                                                         ('gradientboostingsurvivalanalysis',\n",
       "                                                                                          GradientBoostingSurvivalAnalysis(learning_rate=0.05,\n",
       "                                                                                                                           n_estimators=925,\n",
       "                                                                                                                           random_state=10))]),\n",
       "                                                               times=730),\n",
       "                    factor=2, n_jobs=-1,\n",
       "                    param_grid={'estimator__gradientboostingsurvivalanalysis__max_depth': [2,\n",
       "                                                                                           3,\n",
       "                                                                                           4],\n",
       "                                'estimator__gradientboostingsurvivalanalysis__subsample': [0.5,\n",
       "                                                                                           0.75,\n",
       "                                                                                           0.9]},\n",
       "                    random_state=10, refit=False, verbose=1)"
      ]
     },
     "execution_count": 137,
     "metadata": {},
     "output_type": "execute_result"
    }
   ],
   "source": [
    "pipe = make_pipeline(preprocessor_red, GradientBoostingSurvivalAnalysis(n_estimators = 925,\n",
    "                                                                        learning_rate = 0.05,\n",
    "                                                                        random_state = 10))\n",
    "\n",
    "# 3 fold cross-validation\n",
    "cv = StratifiedKFold(n_splits = 3, shuffle = True, random_state = 10)\n",
    "\n",
    "# Parameter gird \n",
    "param_grid = {'estimator__gradientboostingsurvivalanalysis__max_depth': [2, 3, 4], \n",
    "              'estimator__gradientboostingsurvivalanalysis__subsample': [0.5, 0.75, 0.9]}\n",
    "\n",
    "gbm_search = HalvingGridSearchCV(\n",
    "    as_cumulative_dynamic_auc_scorer(pipe, 730),\n",
    "    param_grid,\n",
    "    cv = cv,\n",
    "    factor = 2,\n",
    "    resource = 'n_samples',\n",
    "    refit = False,\n",
    "    verbose = 1,\n",
    "    random_state = 10,\n",
    "    n_jobs = -1)\n",
    "\n",
    "# Run search \n",
    "warnings.filterwarnings('ignore')\n",
    "gbm_search.fit(train_mice0_x, train_y)"
   ]
  },
  {
   "cell_type": "code",
   "execution_count": 136,
   "id": "aea15f33",
   "metadata": {},
   "outputs": [
    {
     "data": {
      "text/plain": [
       "{'estimator__gradientboostingsurvivalanalysis__max_depth': 3,\n",
       " 'estimator__gradientboostingsurvivalanalysis__subsample': 0.75}"
      ]
     },
     "execution_count": 138,
     "metadata": {},
     "output_type": "execute_result"
    }
   ],
   "source": [
    "gbm_search.best_params_"
   ]
  },
  {
   "cell_type": "code",
   "execution_count": 137,
   "id": "c7fd189f",
   "metadata": {},
   "outputs": [],
   "source": [
    "gbm_search_results = pd.DataFrame(gbm_search.cv_results_)"
   ]
  },
  {
   "cell_type": "code",
   "execution_count": 138,
   "id": "820d7352",
   "metadata": {},
   "outputs": [
    {
     "data": {
      "text/html": [
       "<div>\n",
       "<style scoped>\n",
       "    .dataframe tbody tr th:only-of-type {\n",
       "        vertical-align: middle;\n",
       "    }\n",
       "\n",
       "    .dataframe tbody tr th {\n",
       "        vertical-align: top;\n",
       "    }\n",
       "\n",
       "    .dataframe thead th {\n",
       "        text-align: right;\n",
       "    }\n",
       "</style>\n",
       "<table border=\"1\" class=\"dataframe\">\n",
       "  <thead>\n",
       "    <tr style=\"text-align: right;\">\n",
       "      <th></th>\n",
       "      <th>iter</th>\n",
       "      <th>n_resources</th>\n",
       "      <th>mean_fit_time</th>\n",
       "      <th>std_fit_time</th>\n",
       "      <th>mean_score_time</th>\n",
       "      <th>std_score_time</th>\n",
       "      <th>param_estimator__gradientboostingsurvivalanalysis__max_depth</th>\n",
       "      <th>param_estimator__gradientboostingsurvivalanalysis__subsample</th>\n",
       "      <th>params</th>\n",
       "      <th>split0_test_score</th>\n",
       "      <th>split1_test_score</th>\n",
       "      <th>split2_test_score</th>\n",
       "      <th>mean_test_score</th>\n",
       "      <th>std_test_score</th>\n",
       "      <th>rank_test_score</th>\n",
       "      <th>split0_train_score</th>\n",
       "      <th>split1_train_score</th>\n",
       "      <th>split2_train_score</th>\n",
       "      <th>mean_train_score</th>\n",
       "      <th>std_train_score</th>\n",
       "    </tr>\n",
       "  </thead>\n",
       "  <tbody>\n",
       "    <tr>\n",
       "      <th>15</th>\n",
       "      <td>2</td>\n",
       "      <td>7568</td>\n",
       "      <td>295.538415</td>\n",
       "      <td>0.530320</td>\n",
       "      <td>0.041879</td>\n",
       "      <td>0.000452</td>\n",
       "      <td>3</td>\n",
       "      <td>0.75</td>\n",
       "      <td>{'estimator__gradientboostingsurvivalanalysis_...</td>\n",
       "      <td>0.801679</td>\n",
       "      <td>0.755287</td>\n",
       "      <td>0.775214</td>\n",
       "      <td>0.777393</td>\n",
       "      <td>0.019002</td>\n",
       "      <td>1</td>\n",
       "      <td>0.867236</td>\n",
       "      <td>0.876564</td>\n",
       "      <td>0.876628</td>\n",
       "      <td>0.873476</td>\n",
       "      <td>0.004413</td>\n",
       "    </tr>\n",
       "    <tr>\n",
       "      <th>18</th>\n",
       "      <td>3</td>\n",
       "      <td>15136</td>\n",
       "      <td>1175.648900</td>\n",
       "      <td>3.049941</td>\n",
       "      <td>0.077599</td>\n",
       "      <td>0.001383</td>\n",
       "      <td>3</td>\n",
       "      <td>0.75</td>\n",
       "      <td>{'estimator__gradientboostingsurvivalanalysis_...</td>\n",
       "      <td>0.797608</td>\n",
       "      <td>0.765990</td>\n",
       "      <td>0.767291</td>\n",
       "      <td>0.776963</td>\n",
       "      <td>0.014608</td>\n",
       "      <td>2</td>\n",
       "      <td>0.831204</td>\n",
       "      <td>0.844989</td>\n",
       "      <td>0.843177</td>\n",
       "      <td>0.839790</td>\n",
       "      <td>0.006116</td>\n",
       "    </tr>\n",
       "    <tr>\n",
       "      <th>16</th>\n",
       "      <td>2</td>\n",
       "      <td>7568</td>\n",
       "      <td>269.284677</td>\n",
       "      <td>25.115155</td>\n",
       "      <td>0.037234</td>\n",
       "      <td>0.004666</td>\n",
       "      <td>2</td>\n",
       "      <td>0.75</td>\n",
       "      <td>{'estimator__gradientboostingsurvivalanalysis_...</td>\n",
       "      <td>0.800398</td>\n",
       "      <td>0.755251</td>\n",
       "      <td>0.771667</td>\n",
       "      <td>0.775772</td>\n",
       "      <td>0.018658</td>\n",
       "      <td>3</td>\n",
       "      <td>0.822118</td>\n",
       "      <td>0.834222</td>\n",
       "      <td>0.833040</td>\n",
       "      <td>0.829793</td>\n",
       "      <td>0.005449</td>\n",
       "    </tr>\n",
       "    <tr>\n",
       "      <th>14</th>\n",
       "      <td>2</td>\n",
       "      <td>7568</td>\n",
       "      <td>318.963936</td>\n",
       "      <td>0.493396</td>\n",
       "      <td>0.040954</td>\n",
       "      <td>0.000646</td>\n",
       "      <td>3</td>\n",
       "      <td>0.9</td>\n",
       "      <td>{'estimator__gradientboostingsurvivalanalysis_...</td>\n",
       "      <td>0.801031</td>\n",
       "      <td>0.753898</td>\n",
       "      <td>0.771027</td>\n",
       "      <td>0.775319</td>\n",
       "      <td>0.019480</td>\n",
       "      <td>4</td>\n",
       "      <td>0.865647</td>\n",
       "      <td>0.874677</td>\n",
       "      <td>0.874698</td>\n",
       "      <td>0.871674</td>\n",
       "      <td>0.004262</td>\n",
       "    </tr>\n",
       "    <tr>\n",
       "      <th>17</th>\n",
       "      <td>3</td>\n",
       "      <td>15136</td>\n",
       "      <td>1161.710414</td>\n",
       "      <td>5.716183</td>\n",
       "      <td>0.062095</td>\n",
       "      <td>0.000934</td>\n",
       "      <td>2</td>\n",
       "      <td>0.75</td>\n",
       "      <td>{'estimator__gradientboostingsurvivalanalysis_...</td>\n",
       "      <td>0.793923</td>\n",
       "      <td>0.764900</td>\n",
       "      <td>0.764649</td>\n",
       "      <td>0.774490</td>\n",
       "      <td>0.013741</td>\n",
       "      <td>5</td>\n",
       "      <td>0.798527</td>\n",
       "      <td>0.812608</td>\n",
       "      <td>0.812218</td>\n",
       "      <td>0.807784</td>\n",
       "      <td>0.006548</td>\n",
       "    </tr>\n",
       "    <tr>\n",
       "      <th>10</th>\n",
       "      <td>1</td>\n",
       "      <td>3784</td>\n",
       "      <td>60.819211</td>\n",
       "      <td>0.214376</td>\n",
       "      <td>0.023934</td>\n",
       "      <td>0.000919</td>\n",
       "      <td>2</td>\n",
       "      <td>0.75</td>\n",
       "      <td>{'estimator__gradientboostingsurvivalanalysis_...</td>\n",
       "      <td>0.784073</td>\n",
       "      <td>0.752724</td>\n",
       "      <td>0.765829</td>\n",
       "      <td>0.767542</td>\n",
       "      <td>0.012856</td>\n",
       "      <td>6</td>\n",
       "      <td>0.859152</td>\n",
       "      <td>0.859784</td>\n",
       "      <td>0.860957</td>\n",
       "      <td>0.859964</td>\n",
       "      <td>0.000748</td>\n",
       "    </tr>\n",
       "    <tr>\n",
       "      <th>9</th>\n",
       "      <td>1</td>\n",
       "      <td>3784</td>\n",
       "      <td>65.517945</td>\n",
       "      <td>0.107219</td>\n",
       "      <td>0.028887</td>\n",
       "      <td>0.002269</td>\n",
       "      <td>3</td>\n",
       "      <td>0.75</td>\n",
       "      <td>{'estimator__gradientboostingsurvivalanalysis_...</td>\n",
       "      <td>0.780437</td>\n",
       "      <td>0.749470</td>\n",
       "      <td>0.767235</td>\n",
       "      <td>0.765714</td>\n",
       "      <td>0.012688</td>\n",
       "      <td>7</td>\n",
       "      <td>0.912167</td>\n",
       "      <td>0.915700</td>\n",
       "      <td>0.916527</td>\n",
       "      <td>0.914798</td>\n",
       "      <td>0.001891</td>\n",
       "    </tr>\n",
       "    <tr>\n",
       "      <th>11</th>\n",
       "      <td>1</td>\n",
       "      <td>3784</td>\n",
       "      <td>71.910306</td>\n",
       "      <td>3.048911</td>\n",
       "      <td>0.025811</td>\n",
       "      <td>0.003381</td>\n",
       "      <td>3</td>\n",
       "      <td>0.9</td>\n",
       "      <td>{'estimator__gradientboostingsurvivalanalysis_...</td>\n",
       "      <td>0.781180</td>\n",
       "      <td>0.747789</td>\n",
       "      <td>0.766666</td>\n",
       "      <td>0.765211</td>\n",
       "      <td>0.013671</td>\n",
       "      <td>8</td>\n",
       "      <td>0.908558</td>\n",
       "      <td>0.912875</td>\n",
       "      <td>0.914550</td>\n",
       "      <td>0.911994</td>\n",
       "      <td>0.002524</td>\n",
       "    </tr>\n",
       "    <tr>\n",
       "      <th>12</th>\n",
       "      <td>1</td>\n",
       "      <td>3784</td>\n",
       "      <td>65.614519</td>\n",
       "      <td>0.341714</td>\n",
       "      <td>0.029128</td>\n",
       "      <td>0.000179</td>\n",
       "      <td>4</td>\n",
       "      <td>0.75</td>\n",
       "      <td>{'estimator__gradientboostingsurvivalanalysis_...</td>\n",
       "      <td>0.776862</td>\n",
       "      <td>0.754428</td>\n",
       "      <td>0.763551</td>\n",
       "      <td>0.764947</td>\n",
       "      <td>0.009211</td>\n",
       "      <td>9</td>\n",
       "      <td>0.955917</td>\n",
       "      <td>0.959639</td>\n",
       "      <td>0.959765</td>\n",
       "      <td>0.958440</td>\n",
       "      <td>0.001785</td>\n",
       "    </tr>\n",
       "    <tr>\n",
       "      <th>13</th>\n",
       "      <td>1</td>\n",
       "      <td>3784</td>\n",
       "      <td>70.752549</td>\n",
       "      <td>0.674868</td>\n",
       "      <td>0.031839</td>\n",
       "      <td>0.004954</td>\n",
       "      <td>4</td>\n",
       "      <td>0.9</td>\n",
       "      <td>{'estimator__gradientboostingsurvivalanalysis_...</td>\n",
       "      <td>0.779429</td>\n",
       "      <td>0.749342</td>\n",
       "      <td>0.765995</td>\n",
       "      <td>0.764922</td>\n",
       "      <td>0.012307</td>\n",
       "      <td>10</td>\n",
       "      <td>0.953748</td>\n",
       "      <td>0.958837</td>\n",
       "      <td>0.958968</td>\n",
       "      <td>0.957184</td>\n",
       "      <td>0.002431</td>\n",
       "    </tr>\n",
       "  </tbody>\n",
       "</table>\n",
       "</div>"
      ],
      "text/plain": [
       "    iter  n_resources  mean_fit_time  std_fit_time  mean_score_time  \\\n",
       "15     2         7568     295.538415      0.530320         0.041879   \n",
       "18     3        15136    1175.648900      3.049941         0.077599   \n",
       "16     2         7568     269.284677     25.115155         0.037234   \n",
       "14     2         7568     318.963936      0.493396         0.040954   \n",
       "17     3        15136    1161.710414      5.716183         0.062095   \n",
       "10     1         3784      60.819211      0.214376         0.023934   \n",
       "9      1         3784      65.517945      0.107219         0.028887   \n",
       "11     1         3784      71.910306      3.048911         0.025811   \n",
       "12     1         3784      65.614519      0.341714         0.029128   \n",
       "13     1         3784      70.752549      0.674868         0.031839   \n",
       "\n",
       "    std_score_time  \\\n",
       "15        0.000452   \n",
       "18        0.001383   \n",
       "16        0.004666   \n",
       "14        0.000646   \n",
       "17        0.000934   \n",
       "10        0.000919   \n",
       "9         0.002269   \n",
       "11        0.003381   \n",
       "12        0.000179   \n",
       "13        0.004954   \n",
       "\n",
       "   param_estimator__gradientboostingsurvivalanalysis__max_depth  \\\n",
       "15                                                  3             \n",
       "18                                                  3             \n",
       "16                                                  2             \n",
       "14                                                  3             \n",
       "17                                                  2             \n",
       "10                                                  2             \n",
       "9                                                   3             \n",
       "11                                                  3             \n",
       "12                                                  4             \n",
       "13                                                  4             \n",
       "\n",
       "   param_estimator__gradientboostingsurvivalanalysis__subsample  \\\n",
       "15                                               0.75             \n",
       "18                                               0.75             \n",
       "16                                               0.75             \n",
       "14                                                0.9             \n",
       "17                                               0.75             \n",
       "10                                               0.75             \n",
       "9                                                0.75             \n",
       "11                                                0.9             \n",
       "12                                               0.75             \n",
       "13                                                0.9             \n",
       "\n",
       "                                               params  split0_test_score  \\\n",
       "15  {'estimator__gradientboostingsurvivalanalysis_...           0.801679   \n",
       "18  {'estimator__gradientboostingsurvivalanalysis_...           0.797608   \n",
       "16  {'estimator__gradientboostingsurvivalanalysis_...           0.800398   \n",
       "14  {'estimator__gradientboostingsurvivalanalysis_...           0.801031   \n",
       "17  {'estimator__gradientboostingsurvivalanalysis_...           0.793923   \n",
       "10  {'estimator__gradientboostingsurvivalanalysis_...           0.784073   \n",
       "9   {'estimator__gradientboostingsurvivalanalysis_...           0.780437   \n",
       "11  {'estimator__gradientboostingsurvivalanalysis_...           0.781180   \n",
       "12  {'estimator__gradientboostingsurvivalanalysis_...           0.776862   \n",
       "13  {'estimator__gradientboostingsurvivalanalysis_...           0.779429   \n",
       "\n",
       "    split1_test_score  split2_test_score  mean_test_score  std_test_score  \\\n",
       "15           0.755287           0.775214         0.777393        0.019002   \n",
       "18           0.765990           0.767291         0.776963        0.014608   \n",
       "16           0.755251           0.771667         0.775772        0.018658   \n",
       "14           0.753898           0.771027         0.775319        0.019480   \n",
       "17           0.764900           0.764649         0.774490        0.013741   \n",
       "10           0.752724           0.765829         0.767542        0.012856   \n",
       "9            0.749470           0.767235         0.765714        0.012688   \n",
       "11           0.747789           0.766666         0.765211        0.013671   \n",
       "12           0.754428           0.763551         0.764947        0.009211   \n",
       "13           0.749342           0.765995         0.764922        0.012307   \n",
       "\n",
       "    rank_test_score  split0_train_score  split1_train_score  \\\n",
       "15                1            0.867236            0.876564   \n",
       "18                2            0.831204            0.844989   \n",
       "16                3            0.822118            0.834222   \n",
       "14                4            0.865647            0.874677   \n",
       "17                5            0.798527            0.812608   \n",
       "10                6            0.859152            0.859784   \n",
       "9                 7            0.912167            0.915700   \n",
       "11                8            0.908558            0.912875   \n",
       "12                9            0.955917            0.959639   \n",
       "13               10            0.953748            0.958837   \n",
       "\n",
       "    split2_train_score  mean_train_score  std_train_score  \n",
       "15            0.876628          0.873476         0.004413  \n",
       "18            0.843177          0.839790         0.006116  \n",
       "16            0.833040          0.829793         0.005449  \n",
       "14            0.874698          0.871674         0.004262  \n",
       "17            0.812218          0.807784         0.006548  \n",
       "10            0.860957          0.859964         0.000748  \n",
       "9             0.916527          0.914798         0.001891  \n",
       "11            0.914550          0.911994         0.002524  \n",
       "12            0.959765          0.958440         0.001785  \n",
       "13            0.958968          0.957184         0.002431  "
      ]
     },
     "execution_count": 140,
     "metadata": {},
     "output_type": "execute_result"
    }
   ],
   "source": [
    "gbm_search_results.sort_values(by = 'rank_test_score').head(10)"
   ]
  },
  {
   "cell_type": "markdown",
   "id": "85493edf",
   "metadata": {},
   "source": [
    "**The above best tree depth and subsample will be used for all models moving forward mainly due to the computational cost of searching for these parameters for each MICE training set. It also seems likely that these two hyperparamters have small impact on test set AUC performance and are unlikely to change by much for each training set.** "
   ]
  },
  {
   "cell_type": "markdown",
   "id": "0e8d5d37",
   "metadata": {},
   "source": [
    "#### Building model and assessing performance "
   ]
  },
  {
   "cell_type": "code",
   "execution_count": 139,
   "id": "d902730b",
   "metadata": {},
   "outputs": [
    {
     "name": "stdout",
     "output_type": "stream",
     "text": [
      "      Iter       Train Loss      OOB Improve   Remaining Time \n",
      "         1       49609.2215           9.8966           43.67m\n",
      "         2       49572.3210          10.4110           43.87m\n",
      "         3       49390.7824           9.4719           44.11m\n",
      "         4       49569.4130           8.8257           44.11m\n",
      "         5       49469.2405           8.6880           44.36m\n",
      "         6       49248.1400           8.1168           44.34m\n",
      "         7       49460.1090           8.0450           44.23m\n",
      "         8       49586.7039           7.6641           44.13m\n",
      "         9       49228.3787           7.1399           44.04m\n",
      "        10       49502.1676           7.2202           43.97m\n",
      "        20       49124.0993           5.8684           43.32m\n",
      "        30       48938.9987           4.5402           42.68m\n",
      "        40       48708.9502           3.8394           42.23m\n",
      "        50       48704.2910           2.8030           41.74m\n",
      "        60       48748.5424           1.7833           41.27m\n",
      "        70       48651.7297           1.8294           40.80m\n",
      "        80       48535.1282           1.1791           40.34m\n",
      "        90       48171.9308           1.4336           39.90m\n",
      "       100       48178.1303           1.0542           39.41m\n",
      "       200       48108.7014           0.1664           34.37m\n",
      "       300       47693.5350          -0.1360           29.54m\n",
      "       400       47491.0214          -0.2639           24.77m\n",
      "       500       47522.5863          -0.0079           20.03m\n",
      "       600       47365.0477          -0.1660           15.31m\n",
      "       700       47540.8269          -0.2732           10.60m\n",
      "       800       47142.1059          -0.1717            5.89m\n",
      "       900       47326.4541          -0.1050            1.18m\n"
     ]
    },
    {
     "data": {
      "text/plain": [
       "Pipeline(steps=[('columntransformer',\n",
       "                 ColumnTransformer(remainder='passthrough',\n",
       "                                   transformers=[('num',\n",
       "                                                  Pipeline(steps=[('std_scaler',\n",
       "                                                                   StandardScaler())]),\n",
       "                                                  ['age', 'PSADiagnosis',\n",
       "                                                   'PSAMetDiagnosis',\n",
       "                                                   'delta_met_diagnosis',\n",
       "                                                   'crpc_time', 'weight_diag',\n",
       "                                                   'bmi_diag',\n",
       "                                                   'weight_pct_change',\n",
       "                                                   'weight_slope',\n",
       "                                                   'albumin_diag', 'alp_diag',\n",
       "                                                   'alt_diag', 'ast_diag',\n",
       "                                                   'bicarb_diag', 'bun...\n",
       "                                                 ('cat',\n",
       "                                                  OneHotEncoder(handle_unknown='ignore'),\n",
       "                                                  ['Gender', 'race',\n",
       "                                                   'ethnicity', 'p_type',\n",
       "                                                   'NStage', 'MStage',\n",
       "                                                   'Histology', 'GleasonScore',\n",
       "                                                   'stage', 'met_year',\n",
       "                                                   'brca_status',\n",
       "                                                   'ecog_diagnosis',\n",
       "                                                   'prim_treatment'])])),\n",
       "                ('gradientboostingsurvivalanalysis',\n",
       "                 GradientBoostingSurvivalAnalysis(learning_rate=0.05,\n",
       "                                                  n_estimators=925,\n",
       "                                                  random_state=42,\n",
       "                                                  subsample=0.75, verbose=1))])"
      ]
     },
     "execution_count": 141,
     "metadata": {},
     "output_type": "execute_result"
    }
   ],
   "source": [
    "gbm_mice0 = make_pipeline(preprocessor_red, GradientBoostingSurvivalAnalysis(n_estimators = 925,\n",
    "                                                                             learning_rate = 0.05,\n",
    "                                                                             max_depth = 3,\n",
    "                                                                             subsample = 0.75,\n",
    "                                                                             verbose = 1,\n",
    "                                                                             random_state = 42))\n",
    "\n",
    "gbm_mice0.fit(train_mice0_x, train_y)"
   ]
  },
  {
   "cell_type": "code",
   "execution_count": 140,
   "id": "1277dd86",
   "metadata": {},
   "outputs": [
    {
     "data": {
      "text/plain": [
       "['gbm_mice0.joblib']"
      ]
     },
     "execution_count": 142,
     "metadata": {},
     "output_type": "execute_result"
    }
   ],
   "source": [
    "dump(gbm_mice0, 'gbm_mice0.joblib') "
   ]
  },
  {
   "cell_type": "code",
   "execution_count": 141,
   "id": "3aba3670",
   "metadata": {},
   "outputs": [
    {
     "name": "stdout",
     "output_type": "stream",
     "text": [
      "Test set AUC at 2 years: 0.7739972890524494\n"
     ]
    }
   ],
   "source": [
    "gbm_risk_scores_te = gbm_mice0.predict(test_mice_x)\n",
    "gbm_auc_te = cumulative_dynamic_auc(train_y, test_y, gbm_risk_scores_te, 730)[0][0]\n",
    "print('Test set AUC at 2 years:', gbm_auc_te)"
   ]
  },
  {
   "cell_type": "code",
   "execution_count": 142,
   "id": "b2b0dc2c",
   "metadata": {},
   "outputs": [
    {
     "name": "stdout",
     "output_type": "stream",
     "text": [
      "Training set AUC at 2 years: 0.8256840481751762\n"
     ]
    }
   ],
   "source": [
    "gbm_risk_scores_tr = gbm_mice0.predict(train_mice0_x)\n",
    "gbm_auc_tr = cumulative_dynamic_auc(train_y, train_y, gbm_risk_scores_tr, 730)[0][0]\n",
    "print('Training set AUC at 2 years:', gbm_auc_tr)"
   ]
  },
  {
   "cell_type": "code",
   "execution_count": 143,
   "id": "b1c3a428",
   "metadata": {},
   "outputs": [],
   "source": [
    "# Bootstrap 10000 1 yr AUCs for test set \n",
    "n_bootstraps = 10000\n",
    "rng_seed = 42 \n",
    "bootstrapped_scores_te = []\n",
    "\n",
    "rng = np.random.RandomState(rng_seed)\n",
    "for i in range(n_bootstraps):\n",
    "    indices = rng.randint(0, len(gbm_risk_scores_te), len(gbm_risk_scores_te))\n",
    "    auc_yr = cumulative_dynamic_auc(train_y, test_y[indices], gbm_risk_scores_te[indices], 730)[0][0]\n",
    "    bootstrapped_scores_te.append(auc_yr)"
   ]
  },
  {
   "cell_type": "code",
   "execution_count": 144,
   "id": "a9f16f7e",
   "metadata": {},
   "outputs": [
    {
     "name": "stdout",
     "output_type": "stream",
     "text": [
      "Test set AUC standard error: 0.004093344772927353\n"
     ]
    }
   ],
   "source": [
    "# Standard error of mean for test set AUC\n",
    "sorted_scores_te = np.array(bootstrapped_scores_te)\n",
    "sorted_scores_te.sort()\n",
    "\n",
    "conf_lower_te = sorted_scores_te[int(0.025 * len(sorted_scores_te))]\n",
    "conf_upper_te = sorted_scores_te[int(0.975 * len(sorted_scores_te))]\n",
    "\n",
    "standard_error_te = (conf_upper_te - conf_lower_te) / 3.92\n",
    "print('Test set AUC standard error:', standard_error_te)"
   ]
  },
  {
   "cell_type": "code",
   "execution_count": 145,
   "id": "03c7c114",
   "metadata": {},
   "outputs": [],
   "source": [
    "# Bootstrap 10000 1-yr AUCs for train set \n",
    "n_bootstraps = 10000\n",
    "rng_seed = 42 \n",
    "bootstrapped_scores_tr = []\n",
    "\n",
    "rng = np.random.RandomState(rng_seed)\n",
    "for i in range(n_bootstraps):\n",
    "    indices = rng.randint(0, len(gbm_risk_scores_tr), len(gbm_risk_scores_tr))\n",
    "    auc_yr = cumulative_dynamic_auc(train_y, train_y[indices], gbm_risk_scores_tr[indices], 730)[0][0]\n",
    "    bootstrapped_scores_tr.append(auc_yr)"
   ]
  },
  {
   "cell_type": "code",
   "execution_count": 146,
   "id": "747fec3d",
   "metadata": {},
   "outputs": [
    {
     "name": "stdout",
     "output_type": "stream",
     "text": [
      "Training set AUC standard error 0.004131329467504827\n"
     ]
    }
   ],
   "source": [
    "# Standard error of mean for train set AUC\n",
    "sorted_scores_tr = np.array(bootstrapped_scores_tr)\n",
    "sorted_scores_tr.sort()\n",
    "\n",
    "conf_lower_tr = sorted_scores_tr[int(0.025 * len(sorted_scores_tr))]\n",
    "conf_upper_tr = sorted_scores_tr[int(0.975 * len(sorted_scores_tr))]\n",
    "\n",
    "standard_error_tr = (conf_upper_tr - conf_lower_tr) / 3.92\n",
    "print('Training set AUC standard error', standard_error_tr)"
   ]
  },
  {
   "cell_type": "code",
   "execution_count": 147,
   "id": "ac9a597d",
   "metadata": {},
   "outputs": [],
   "source": [
    "mice_auc_data = {'mice_dataset': ['mice_0'],\n",
    "                 'auc_2yr_te': [gbm_auc_te],\n",
    "                 'sem_te': [standard_error_te],\n",
    "                 'auc_2yr_tr': [gbm_auc_tr],\n",
    "                 'sem_tr': [standard_error_tr]}\n",
    "\n",
    "mice_auc_df = pd.DataFrame(mice_auc_data)"
   ]
  },
  {
   "cell_type": "code",
   "execution_count": 148,
   "id": "9453255b",
   "metadata": {},
   "outputs": [
    {
     "data": {
      "text/html": [
       "<div>\n",
       "<style scoped>\n",
       "    .dataframe tbody tr th:only-of-type {\n",
       "        vertical-align: middle;\n",
       "    }\n",
       "\n",
       "    .dataframe tbody tr th {\n",
       "        vertical-align: top;\n",
       "    }\n",
       "\n",
       "    .dataframe thead th {\n",
       "        text-align: right;\n",
       "    }\n",
       "</style>\n",
       "<table border=\"1\" class=\"dataframe\">\n",
       "  <thead>\n",
       "    <tr style=\"text-align: right;\">\n",
       "      <th></th>\n",
       "      <th>mice_dataset</th>\n",
       "      <th>auc_2yr_te</th>\n",
       "      <th>sem_te</th>\n",
       "      <th>auc_2yr_tr</th>\n",
       "      <th>sem_tr</th>\n",
       "    </tr>\n",
       "  </thead>\n",
       "  <tbody>\n",
       "    <tr>\n",
       "      <th>0</th>\n",
       "      <td>mice_0</td>\n",
       "      <td>0.773997</td>\n",
       "      <td>0.004093</td>\n",
       "      <td>0.825684</td>\n",
       "      <td>0.004131</td>\n",
       "    </tr>\n",
       "  </tbody>\n",
       "</table>\n",
       "</div>"
      ],
      "text/plain": [
       "  mice_dataset  auc_2yr_te    sem_te  auc_2yr_tr    sem_tr\n",
       "0       mice_0    0.773997  0.004093    0.825684  0.004131"
      ]
     },
     "execution_count": 150,
     "metadata": {},
     "output_type": "execute_result"
    }
   ],
   "source": [
    "mice_auc_df"
   ]
  },
  {
   "cell_type": "code",
   "execution_count": 149,
   "id": "2a970c49",
   "metadata": {},
   "outputs": [],
   "source": [
    "mice_auc_df.to_csv('mice_auc_df.csv', index = False, header = True)"
   ]
  },
  {
   "cell_type": "code",
   "execution_count": 150,
   "id": "b4d71c04",
   "metadata": {},
   "outputs": [],
   "source": [
    "times = np.arange(30, 1810, 30)\n",
    "mice0_auc_over5 = cumulative_dynamic_auc(train_y, test_y, gbm_risk_scores_te, times)[0]\n",
    "\n",
    "times_data = {}\n",
    "values = mice0_auc_over5\n",
    "time_names = []\n",
    "\n",
    "for x in range(len(times)):\n",
    "    time_names.append('time_'+str(times[x]))\n",
    "\n",
    "for i in range(len(time_names)):\n",
    "    times_data[time_names[i]] = values[i]\n",
    "    \n",
    "mice_auc_over5 = pd.DataFrame(times_data, index = ['mice_0'])"
   ]
  },
  {
   "cell_type": "code",
   "execution_count": 151,
   "id": "395f4b22",
   "metadata": {},
   "outputs": [
    {
     "data": {
      "text/html": [
       "<div>\n",
       "<style scoped>\n",
       "    .dataframe tbody tr th:only-of-type {\n",
       "        vertical-align: middle;\n",
       "    }\n",
       "\n",
       "    .dataframe tbody tr th {\n",
       "        vertical-align: top;\n",
       "    }\n",
       "\n",
       "    .dataframe thead th {\n",
       "        text-align: right;\n",
       "    }\n",
       "</style>\n",
       "<table border=\"1\" class=\"dataframe\">\n",
       "  <thead>\n",
       "    <tr style=\"text-align: right;\">\n",
       "      <th></th>\n",
       "      <th>time_30</th>\n",
       "      <th>time_60</th>\n",
       "      <th>time_90</th>\n",
       "      <th>time_120</th>\n",
       "      <th>time_150</th>\n",
       "      <th>time_180</th>\n",
       "      <th>time_210</th>\n",
       "      <th>time_240</th>\n",
       "      <th>time_270</th>\n",
       "      <th>time_300</th>\n",
       "      <th>...</th>\n",
       "      <th>time_1530</th>\n",
       "      <th>time_1560</th>\n",
       "      <th>time_1590</th>\n",
       "      <th>time_1620</th>\n",
       "      <th>time_1650</th>\n",
       "      <th>time_1680</th>\n",
       "      <th>time_1710</th>\n",
       "      <th>time_1740</th>\n",
       "      <th>time_1770</th>\n",
       "      <th>time_1800</th>\n",
       "    </tr>\n",
       "  </thead>\n",
       "  <tbody>\n",
       "    <tr>\n",
       "      <th>mice_0</th>\n",
       "      <td>0.928904</td>\n",
       "      <td>0.864093</td>\n",
       "      <td>0.840115</td>\n",
       "      <td>0.836288</td>\n",
       "      <td>0.845611</td>\n",
       "      <td>0.837766</td>\n",
       "      <td>0.820487</td>\n",
       "      <td>0.828629</td>\n",
       "      <td>0.822264</td>\n",
       "      <td>0.819491</td>\n",
       "      <td>...</td>\n",
       "      <td>0.762153</td>\n",
       "      <td>0.760338</td>\n",
       "      <td>0.7602</td>\n",
       "      <td>0.762227</td>\n",
       "      <td>0.762661</td>\n",
       "      <td>0.761704</td>\n",
       "      <td>0.765279</td>\n",
       "      <td>0.764763</td>\n",
       "      <td>0.769232</td>\n",
       "      <td>0.766055</td>\n",
       "    </tr>\n",
       "  </tbody>\n",
       "</table>\n",
       "<p>1 rows × 60 columns</p>\n",
       "</div>"
      ],
      "text/plain": [
       "         time_30   time_60   time_90  time_120  time_150  time_180  time_210  \\\n",
       "mice_0  0.928904  0.864093  0.840115  0.836288  0.845611  0.837766  0.820487   \n",
       "\n",
       "        time_240  time_270  time_300  ...  time_1530  time_1560  time_1590  \\\n",
       "mice_0  0.828629  0.822264  0.819491  ...   0.762153   0.760338     0.7602   \n",
       "\n",
       "        time_1620  time_1650  time_1680  time_1710  time_1740  time_1770  \\\n",
       "mice_0   0.762227   0.762661   0.761704   0.765279   0.764763   0.769232   \n",
       "\n",
       "        time_1800  \n",
       "mice_0   0.766055  \n",
       "\n",
       "[1 rows x 60 columns]"
      ]
     },
     "execution_count": 153,
     "metadata": {},
     "output_type": "execute_result"
    }
   ],
   "source": [
    "mice_auc_over5"
   ]
  },
  {
   "cell_type": "code",
   "execution_count": 152,
   "id": "42c9c1c1",
   "metadata": {},
   "outputs": [],
   "source": [
    "mice_auc_over5.to_csv('mice_auc_over5.csv', index = True, header = True)"
   ]
  },
  {
   "cell_type": "code",
   "execution_count": 153,
   "id": "33699bdf",
   "metadata": {},
   "outputs": [],
   "source": [
    "# Variables passing through pipeline_rsf\n",
    "cat_encoder = list(preprocessor_red.transformers_[1][1].get_feature_names(categorical_features))\n",
    "pass_through = list(train_mice0_x.iloc[:, preprocessor_red.transformers_[2][2]].columns)\n",
    "attributes_gbm = numerical_features_red + cat_encoder + pass_through"
   ]
  },
  {
   "cell_type": "code",
   "execution_count": 154,
   "id": "d8f17889",
   "metadata": {},
   "outputs": [
    {
     "name": "stdout",
     "output_type": "stream",
     "text": [
      "Total number of features: 200\n",
      "Number of non-zero features in final model: 182\n"
     ]
    },
    {
     "data": {
      "image/png": "[encoded data removed]",
      "text/plain": [
       "<Figure size 432x576 with 1 Axes>"
      ]
     },
     "metadata": {
      "needs_background": "light"
     },
     "output_type": "display_data"
    }
   ],
   "source": [
    "# Dataframe of coefficients for each variable \n",
    "coefficients_mice0 = pd.DataFrame(\n",
    "    gbm_mice0.named_steps['gradientboostingsurvivalanalysis'].feature_importances_,\n",
    "    index = attributes_gbm,\n",
    "    columns = ['coefficient']\n",
    ")\n",
    "\n",
    "print('Total number of features: {}'.format(len(attributes_gbm)))\n",
    "\n",
    "non_zero = np.sum(coefficients_mice0.iloc[:, 0] != 0)\n",
    "print('Number of non-zero features in final model: {}'.format(non_zero))\n",
    "\n",
    "non_zero_coefs = coefficients_mice0.query('coefficient != 0')\n",
    "coef_order = non_zero_coefs.abs().sort_values('coefficient').tail(30).index\n",
    "\n",
    "_, ax = plt.subplots(figsize=(6, 8))\n",
    "non_zero_coefs.loc[coef_order].plot.barh(ax = ax, legend = False)\n",
    "ax.set_xlabel('coefficient')\n",
    "ax.grid(True)"
   ]
  },
  {
   "cell_type": "code",
   "execution_count": 155,
   "id": "6f14c26e",
   "metadata": {},
   "outputs": [],
   "source": [
    "coefficients_mice = (\n",
    "    coefficients_mice0\n",
    "    .reset_index()\n",
    "    .rename(columns = {'index':'variable'}))"
   ]
  },
  {
   "cell_type": "code",
   "execution_count": 156,
   "id": "264f5dd4",
   "metadata": {},
   "outputs": [],
   "source": [
    "coefficients_mice.to_csv('coefficients_mice.csv', index = False, header = True)"
   ]
  },
  {
   "cell_type": "markdown",
   "id": "5f8f50d7",
   "metadata": {},
   "source": [
    "### 3.2 Model 1"
   ]
  },
  {
   "cell_type": "markdown",
   "id": "a8acf5a6",
   "metadata": {},
   "source": [
    "#### Preprocessing and building pipeline "
   ]
  },
  {
   "cell_type": "code",
   "execution_count": 157,
   "id": "f915e4c9",
   "metadata": {},
   "outputs": [],
   "source": [
    "# Import second training set\n",
    "train_mice1 = pd.read_csv('mice_tr1.csv', index_col = 'PatientID')"
   ]
  },
  {
   "cell_type": "code",
   "execution_count": 158,
   "id": "0a57501a",
   "metadata": {},
   "outputs": [
    {
     "name": "stdout",
     "output_type": "stream",
     "text": [
      "(15141, 197)\n"
     ]
    }
   ],
   "source": [
    "print(train_mice1.shape)"
   ]
  },
  {
   "cell_type": "code",
   "execution_count": 159,
   "id": "24685d51",
   "metadata": {},
   "outputs": [
    {
     "data": {
      "text/plain": [
       "0"
      ]
     },
     "execution_count": 161,
     "metadata": {},
     "output_type": "execute_result"
    }
   ],
   "source": [
    "train_mice1.isna().sum().sum()"
   ]
  },
  {
   "cell_type": "code",
   "execution_count": 160,
   "id": "4e721a96",
   "metadata": {},
   "outputs": [],
   "source": [
    "train_mice1 = train_mice1.drop(columns = mice_drop)"
   ]
  },
  {
   "cell_type": "code",
   "execution_count": 161,
   "id": "3231823f",
   "metadata": {},
   "outputs": [
    {
     "name": "stdout",
     "output_type": "stream",
     "text": [
      "(15141, 155)\n",
      "(18930, 157)\n"
     ]
    }
   ],
   "source": [
    "print(train_mice1.shape)\n",
    "print(test_mice.shape)"
   ]
  },
  {
   "cell_type": "code",
   "execution_count": 162,
   "id": "f93dfd2b",
   "metadata": {},
   "outputs": [],
   "source": [
    "train_mice1['ecog_na'] = np.where(train_mice1.index.isin(train.query('ecog_diagnosis == \"unknown\"').PatientID), 1, 0)\n",
    "train_mice1['stage_na'] = np.where(train_mice1.index.isin(train.query('stage == \"unknown\"').PatientID), 1, 0)"
   ]
  },
  {
   "cell_type": "code",
   "execution_count": 163,
   "id": "87a7e646",
   "metadata": {},
   "outputs": [
    {
     "data": {
      "text/plain": [
       "['Gender',\n",
       " 'race',\n",
       " 'ethnicity',\n",
       " 'p_type',\n",
       " 'NStage',\n",
       " 'MStage',\n",
       " 'Histology',\n",
       " 'GleasonScore',\n",
       " 'stage',\n",
       " 'met_year',\n",
       " 'brca_status',\n",
       " 'ecog_diagnosis',\n",
       " 'prim_treatment']"
      ]
     },
     "execution_count": 165,
     "metadata": {},
     "output_type": "execute_result"
    }
   ],
   "source": [
    "for x in list(to_be_categorical):\n",
    "    train_mice1[x] = train_mice1[x].astype('category')\n",
    "    \n",
    "list(train_mice1.select_dtypes(include = ['category']).columns)"
   ]
  },
  {
   "cell_type": "code",
   "execution_count": 164,
   "id": "c9d9de74",
   "metadata": {},
   "outputs": [],
   "source": [
    "train_mice1['death_status'] = train_mice1['death_status'].astype('bool')"
   ]
  },
  {
   "cell_type": "code",
   "execution_count": 165,
   "id": "a00773e1",
   "metadata": {},
   "outputs": [],
   "source": [
    "val_mice1 = train_mice1[train_mice1.index.isin(val_IDs['PatientID'])]\n",
    "\n",
    "sub_train_mice1 = train_mice1[~train_mice1.index.isin(val_IDs['PatientID'])]"
   ]
  },
  {
   "cell_type": "code",
   "execution_count": 166,
   "id": "63275fc4",
   "metadata": {},
   "outputs": [
    {
     "name": "stdout",
     "output_type": "stream",
     "text": [
      "(15141, 157)\n",
      "(11355, 157)\n",
      "(3786, 157)\n"
     ]
    }
   ],
   "source": [
    "print(train_mice1.shape)\n",
    "print(sub_train_mice1.shape)\n",
    "print(val_mice1.shape)"
   ]
  },
  {
   "cell_type": "code",
   "execution_count": 167,
   "id": "ba48ef3c",
   "metadata": {},
   "outputs": [],
   "source": [
    "train_mice1_x = train_mice1.drop(columns = ['death_status', 'timerisk_activity'])\n",
    "\n",
    "sub_train_mice1_x = sub_train_mice1.drop(columns = ['death_status', 'timerisk_activity'])\n",
    "\n",
    "val_mice1_x = val_mice1.drop(columns = ['death_status', 'timerisk_activity'])"
   ]
  },
  {
   "cell_type": "code",
   "execution_count": 168,
   "id": "5409ab86",
   "metadata": {},
   "outputs": [
    {
     "name": "stdout",
     "output_type": "stream",
     "text": [
      "(15141, 155)\n",
      "(11355, 155)\n",
      "(3786, 155)\n"
     ]
    }
   ],
   "source": [
    "print(train_mice1_x.shape)\n",
    "print(sub_train_mice1_x.shape)\n",
    "print(val_mice1_x.shape)"
   ]
  },
  {
   "cell_type": "markdown",
   "id": "d6bc6cae",
   "metadata": {},
   "source": [
    "#### Hyperparameter tuning "
   ]
  },
  {
   "cell_type": "code",
   "execution_count": 169,
   "id": "a9bf2452",
   "metadata": {},
   "outputs": [
    {
     "name": "stdout",
     "output_type": "stream",
     "text": [
      "      Iter       Train Loss      OOB Improve   Remaining Time \n",
      "         1       35807.9397           6.9212           38.97m\n",
      "         2       36195.9609           6.3881           38.87m\n",
      "         3       36366.1707           7.2107           38.91m\n",
      "         4       35971.7734           7.1958           38.92m\n",
      "         5       36379.7202           6.2206           38.93m\n",
      "         6       36008.2076           6.4466           38.88m\n",
      "         7       35780.4063           5.8071           38.83m\n",
      "         8       35877.8891           5.2817           38.81m\n",
      "         9       35514.0871           5.5901           38.78m\n",
      "        10       35858.4904           5.3237           38.74m\n",
      "        20       35496.6238           4.4785           38.41m\n",
      "        30       35659.1397           3.0740           38.11m\n",
      "        40       35050.7777           2.2697           37.83m\n",
      "        50       35326.3589           1.9113           37.56m\n",
      "        60       35017.4067           1.4455           37.28m\n",
      "        70       35234.0193           1.4696           37.00m\n",
      "        80       35297.1695           0.7927           36.74m\n",
      "        90       35166.5605           1.4187           36.46m\n",
      "       100       34780.5962           0.8042           36.21m\n",
      "       200       34796.4720           0.3467           33.60m\n",
      "       300       34679.4885           0.0120           30.93m\n",
      "       400       34238.1398          -0.0382           28.31m\n",
      "       500       34529.4410          -0.1443           25.71m\n",
      "       600       34110.1159          -0.0976           23.13m\n",
      "       700       34042.0191          -0.2954           20.55m\n",
      "       800       33760.9660          -0.0409           17.97m\n",
      "       900       33946.6323          -0.3074           15.40m\n",
      "      1000       33952.2998          -0.1280           12.83m\n"
     ]
    },
    {
     "data": {
      "text/plain": [
       "GradientBoostingSurvivalAnalysis(learning_rate=0.05, n_estimators=1500,\n",
       "                                 random_state=42, subsample=0.75, verbose=1)"
      ]
     },
     "execution_count": 171,
     "metadata": {},
     "output_type": "execute_result"
    }
   ],
   "source": [
    "sub_train_mice1_xt = preprocessor_red.fit_transform(sub_train_mice1_x)\n",
    "val_mice1_xt = preprocessor_red.transform(val_mice1_x)\n",
    "\n",
    "gbm_mice1_exp = GradientBoostingSurvivalAnalysis(n_estimators = 1500,\n",
    "                                                 learning_rate = 0.05,\n",
    "                                                 max_depth = 3,\n",
    "                                                 subsample = 0.75,\n",
    "                                                 verbose = 1,\n",
    "                                                 random_state = 42)\n",
    "\n",
    "gbm_mice1_exp.fit(sub_train_mice1_xt, sub_train_y)"
   ]
  },
  {
   "cell_type": "code",
   "execution_count": 170,
   "id": "17b6875a",
   "metadata": {},
   "outputs": [],
   "source": [
    "gbm1_staged_auc = [cumulative_dynamic_auc(sub_train_y, val_y, risk_score, 730)[0][0] for \n",
    "                   risk_score in gbm_mice1_exp.staged_predict(val_mice1_xt)]"
   ]
  },
  {
   "cell_type": "code",
   "execution_count": 171,
   "id": "c3227ea8",
   "metadata": {},
   "outputs": [],
   "source": [
    "gbm1_staged_auc_tr = [cumulative_dynamic_auc(sub_train_y, sub_train_y, risk_score, 730)[0][0] for \n",
    "                      risk_score in gbm_mice1_exp.staged_predict(sub_train_mice1_xt)]"
   ]
  },
  {
   "cell_type": "code",
   "execution_count": 172,
   "id": "7fe07873",
   "metadata": {},
   "outputs": [
    {
     "data": {
      "image/png": "[encoded data removed]",
      "text/plain": [
       "<Figure size 432x288 with 1 Axes>"
      ]
     },
     "metadata": {
      "needs_background": "light"
     },
     "output_type": "display_data"
    }
   ],
   "source": [
    "fig = plt.figure()\n",
    "ax = fig.add_subplot(1, 1, 1)\n",
    "\n",
    "x = range(len(gbm1_staged_auc))\n",
    "plt.plot(x, gbm1_staged_auc, color = 'blue', label = 'validation')\n",
    "plt.plot(x, gbm1_staged_auc_tr, color = 'red', label = 'training')\n",
    "plt.legend(loc = 'lower right')\n",
    "\n",
    "plt.xlabel(\"n_estimators\")\n",
    "plt.ylabel(\"AUC at 2-years\")\n",
    "plt.title('Gradient boosting model learning curve for mice1')\n",
    "\n",
    "plt.show()"
   ]
  },
  {
   "cell_type": "code",
   "execution_count": 173,
   "id": "0295c1be",
   "metadata": {},
   "outputs": [],
   "source": [
    "# Average AUC for every 25 additional trees. \n",
    "mean_auc_list = []\n",
    "for x in np.arange(0, len(gbm1_staged_auc), 25):\n",
    "    mean_auc_list.append(np.mean(gbm1_staged_auc[x:x+24]))"
   ]
  },
  {
   "cell_type": "code",
   "execution_count": 174,
   "id": "442e565c",
   "metadata": {},
   "outputs": [
    {
     "name": "stdout",
     "output_type": "stream",
     "text": [
      "Number of trees where 2 year AUC on validation dataset beings to downgrade: 625\n",
      "Validation dataset AUC before degrading: 0.7884909359506813\n",
      "Training dataset AUC before degrading: 0.8235597023805907\n"
     ]
    }
   ],
   "source": [
    "print('Number of trees where 2 year AUC on validation dataset beings to downgrade:', np.where(np.diff(mean_auc_list) < 0)[0][0]*25)\n",
    "print('Validation dataset AUC before degrading:', gbm1_staged_auc[np.where(np.diff(mean_auc_list) < 0)[0][0]*25])\n",
    "print('Training dataset AUC before degrading:', gbm1_staged_auc_tr[np.where(np.diff(mean_auc_list) < 0)[0][0]*25])"
   ]
  },
  {
   "cell_type": "markdown",
   "id": "0eb06011",
   "metadata": {},
   "source": [
    "#### Building model and assessing performance "
   ]
  },
  {
   "cell_type": "code",
   "execution_count": 175,
   "id": "3f698dc6",
   "metadata": {},
   "outputs": [
    {
     "name": "stdout",
     "output_type": "stream",
     "text": [
      "      Iter       Train Loss      OOB Improve   Remaining Time \n",
      "         1       49607.7517          10.5525           29.48m\n",
      "         2       49571.2103          10.1710           29.49m\n",
      "         3       49390.3643           9.1429           29.41m\n",
      "         4       49569.8367           8.9079           29.35m\n",
      "         5       49470.7517           8.0165           29.32m\n",
      "         6       49249.6929           8.2292           29.28m\n",
      "         7       49461.3348           8.1457           29.22m\n",
      "         8       49589.4930           7.5259           29.17m\n",
      "         9       49228.6089           7.4367           29.12m\n",
      "        10       49499.5100           6.7911           29.08m\n",
      "        20       49127.6405           5.6969           28.58m\n",
      "        30       48940.2932           4.1662           28.11m\n",
      "        40       48714.8787           3.1570           27.63m\n",
      "        50       48714.1084           2.6304           27.16m\n",
      "        60       48759.2193           1.4635           26.69m\n",
      "        70       48655.0947           1.7732           26.21m\n",
      "        80       48522.9735           1.7288           25.74m\n",
      "        90       48177.4640           1.3841           25.26m\n",
      "       100       48195.2299           1.0796           24.79m\n",
      "       200       48130.5535           0.0526           20.07m\n",
      "       300       47701.4112          -0.3712           15.35m\n",
      "       400       47514.6709           0.0927           10.63m\n",
      "       500       47533.9278          -0.1030            5.90m\n",
      "       600       47374.9478          -0.1511            1.18m\n"
     ]
    },
    {
     "data": {
      "text/plain": [
       "Pipeline(steps=[('columntransformer',\n",
       "                 ColumnTransformer(remainder='passthrough',\n",
       "                                   transformers=[('num',\n",
       "                                                  Pipeline(steps=[('std_scaler',\n",
       "                                                                   StandardScaler())]),\n",
       "                                                  ['age', 'PSADiagnosis',\n",
       "                                                   'PSAMetDiagnosis',\n",
       "                                                   'delta_met_diagnosis',\n",
       "                                                   'crpc_time', 'weight_diag',\n",
       "                                                   'bmi_diag',\n",
       "                                                   'weight_pct_change',\n",
       "                                                   'weight_slope',\n",
       "                                                   'albumin_diag', 'alp_diag',\n",
       "                                                   'alt_diag', 'ast_diag',\n",
       "                                                   'bicarb_diag', 'bun...\n",
       "                                                 ('cat',\n",
       "                                                  OneHotEncoder(handle_unknown='ignore'),\n",
       "                                                  ['Gender', 'race',\n",
       "                                                   'ethnicity', 'p_type',\n",
       "                                                   'NStage', 'MStage',\n",
       "                                                   'Histology', 'GleasonScore',\n",
       "                                                   'stage', 'met_year',\n",
       "                                                   'brca_status',\n",
       "                                                   'ecog_diagnosis',\n",
       "                                                   'prim_treatment'])])),\n",
       "                ('gradientboostingsurvivalanalysis',\n",
       "                 GradientBoostingSurvivalAnalysis(learning_rate=0.05,\n",
       "                                                  n_estimators=625,\n",
       "                                                  random_state=42,\n",
       "                                                  subsample=0.75, verbose=1))])"
      ]
     },
     "execution_count": 177,
     "metadata": {},
     "output_type": "execute_result"
    }
   ],
   "source": [
    "gbm_mice1 = make_pipeline(preprocessor_red, GradientBoostingSurvivalAnalysis(n_estimators = np.where(np.diff(mean_auc_list) < 0)[0][0]*25,\n",
    "                                                                             learning_rate = 0.05,\n",
    "                                                                             max_depth = 3,\n",
    "                                                                             subsample = 0.75,\n",
    "                                                                             verbose = 1,\n",
    "                                                                             random_state = 42))\n",
    "\n",
    "gbm_mice1.fit(train_mice1_x, train_y)"
   ]
  },
  {
   "cell_type": "code",
   "execution_count": 176,
   "id": "8921c944",
   "metadata": {},
   "outputs": [
    {
     "data": {
      "text/plain": [
       "['gbm_mice1.joblib']"
      ]
     },
     "execution_count": 178,
     "metadata": {},
     "output_type": "execute_result"
    }
   ],
   "source": [
    "dump(gbm_mice1, 'gbm_mice1.joblib') "
   ]
  },
  {
   "cell_type": "code",
   "execution_count": 177,
   "id": "47285989",
   "metadata": {},
   "outputs": [
    {
     "name": "stdout",
     "output_type": "stream",
     "text": [
      "Test set AUC at 2 years: 0.7730702902848371\n"
     ]
    }
   ],
   "source": [
    "gbm_risk_scores_te = gbm_mice1.predict(test_mice_x)\n",
    "gbm_auc_te = cumulative_dynamic_auc(train_y, test_y, gbm_risk_scores_te, 730)[0][0]\n",
    "print('Test set AUC at 2 years:', gbm_auc_te)"
   ]
  },
  {
   "cell_type": "code",
   "execution_count": 178,
   "id": "cbe37c6b",
   "metadata": {},
   "outputs": [
    {
     "name": "stdout",
     "output_type": "stream",
     "text": [
      "Training set AUC at 2 years: 0.8169570648163549\n"
     ]
    }
   ],
   "source": [
    "gbm_risk_scores_tr = gbm_mice1.predict(train_mice1_x)\n",
    "gbm_auc_tr = cumulative_dynamic_auc(train_y, train_y, gbm_risk_scores_tr, 730)[0][0]\n",
    "print('Training set AUC at 2 years:', gbm_auc_tr)"
   ]
  },
  {
   "cell_type": "code",
   "execution_count": 179,
   "id": "f3f43c7d",
   "metadata": {},
   "outputs": [],
   "source": [
    "# Bootstrap 10000 1 yr AUCs for test set \n",
    "n_bootstraps = 10000\n",
    "rng_seed = 42 \n",
    "bootstrapped_scores_te = []\n",
    "\n",
    "rng = np.random.RandomState(rng_seed)\n",
    "for i in range(n_bootstraps):\n",
    "    indices = rng.randint(0, len(gbm_risk_scores_te), len(gbm_risk_scores_te))\n",
    "    auc_yr = cumulative_dynamic_auc(train_y, test_y[indices], gbm_risk_scores_te[indices], 730)[0][0]\n",
    "    bootstrapped_scores_te.append(auc_yr)"
   ]
  },
  {
   "cell_type": "code",
   "execution_count": 180,
   "id": "3d79481c",
   "metadata": {},
   "outputs": [
    {
     "name": "stdout",
     "output_type": "stream",
     "text": [
      "Test set AUC standard error: 0.004100546202106724\n"
     ]
    }
   ],
   "source": [
    "# Standard error of mean for test set AUC\n",
    "sorted_scores_te = np.array(bootstrapped_scores_te)\n",
    "sorted_scores_te.sort()\n",
    "\n",
    "conf_lower_te = sorted_scores_te[int(0.025 * len(sorted_scores_te))]\n",
    "conf_upper_te = sorted_scores_te[int(0.975 * len(sorted_scores_te))]\n",
    "\n",
    "standard_error_te = (conf_upper_te - conf_lower_te) / 3.92\n",
    "print('Test set AUC standard error:', standard_error_te)"
   ]
  },
  {
   "cell_type": "code",
   "execution_count": 181,
   "id": "8290c6ed",
   "metadata": {},
   "outputs": [],
   "source": [
    "# Bootstrap 10000 1-yr AUCs for train set \n",
    "n_bootstraps = 10000\n",
    "rng_seed = 42 \n",
    "bootstrapped_scores_tr = []\n",
    "\n",
    "rng = np.random.RandomState(rng_seed)\n",
    "for i in range(n_bootstraps):\n",
    "    indices = rng.randint(0, len(gbm_risk_scores_tr), len(gbm_risk_scores_tr))\n",
    "    auc_yr = cumulative_dynamic_auc(train_y, train_y[indices], gbm_risk_scores_tr[indices], 730)[0][0]\n",
    "    bootstrapped_scores_tr.append(auc_yr)"
   ]
  },
  {
   "cell_type": "code",
   "execution_count": 182,
   "id": "9986baea",
   "metadata": {},
   "outputs": [
    {
     "name": "stdout",
     "output_type": "stream",
     "text": [
      "Training set AUC standard error 0.004143334322696161\n"
     ]
    }
   ],
   "source": [
    "# Standard error of mean for train set AUC\n",
    "sorted_scores_tr = np.array(bootstrapped_scores_tr)\n",
    "sorted_scores_tr.sort()\n",
    "\n",
    "conf_lower_tr = sorted_scores_tr[int(0.025 * len(sorted_scores_tr))]\n",
    "conf_upper_tr = sorted_scores_tr[int(0.975 * len(sorted_scores_tr))]\n",
    "\n",
    "standard_error_tr = (conf_upper_tr - conf_lower_tr) / 3.92\n",
    "print('Training set AUC standard error', standard_error_tr)"
   ]
  },
  {
   "cell_type": "code",
   "execution_count": 183,
   "id": "aa21d0d0",
   "metadata": {},
   "outputs": [],
   "source": [
    "mice_auc_data = {'mice_dataset': 'mice_1',\n",
    "                 'auc_2yr_te': gbm_auc_te,\n",
    "                 'sem_te': standard_error_te,\n",
    "                 'auc_2yr_tr': gbm_auc_tr,\n",
    "                 'sem_tr': standard_error_tr}\n",
    "\n",
    "mice_auc_df = mice_auc_df.append(mice_auc_data, ignore_index = True)"
   ]
  },
  {
   "cell_type": "code",
   "execution_count": 184,
   "id": "581f23fa",
   "metadata": {},
   "outputs": [
    {
     "data": {
      "text/html": [
       "<div>\n",
       "<style scoped>\n",
       "    .dataframe tbody tr th:only-of-type {\n",
       "        vertical-align: middle;\n",
       "    }\n",
       "\n",
       "    .dataframe tbody tr th {\n",
       "        vertical-align: top;\n",
       "    }\n",
       "\n",
       "    .dataframe thead th {\n",
       "        text-align: right;\n",
       "    }\n",
       "</style>\n",
       "<table border=\"1\" class=\"dataframe\">\n",
       "  <thead>\n",
       "    <tr style=\"text-align: right;\">\n",
       "      <th></th>\n",
       "      <th>mice_dataset</th>\n",
       "      <th>auc_2yr_te</th>\n",
       "      <th>sem_te</th>\n",
       "      <th>auc_2yr_tr</th>\n",
       "      <th>sem_tr</th>\n",
       "    </tr>\n",
       "  </thead>\n",
       "  <tbody>\n",
       "    <tr>\n",
       "      <th>0</th>\n",
       "      <td>mice_0</td>\n",
       "      <td>0.773997</td>\n",
       "      <td>0.004093</td>\n",
       "      <td>0.825684</td>\n",
       "      <td>0.004131</td>\n",
       "    </tr>\n",
       "    <tr>\n",
       "      <th>1</th>\n",
       "      <td>mice_1</td>\n",
       "      <td>0.773070</td>\n",
       "      <td>0.004101</td>\n",
       "      <td>0.816957</td>\n",
       "      <td>0.004143</td>\n",
       "    </tr>\n",
       "  </tbody>\n",
       "</table>\n",
       "</div>"
      ],
      "text/plain": [
       "  mice_dataset  auc_2yr_te    sem_te  auc_2yr_tr    sem_tr\n",
       "0       mice_0    0.773997  0.004093    0.825684  0.004131\n",
       "1       mice_1    0.773070  0.004101    0.816957  0.004143"
      ]
     },
     "execution_count": 186,
     "metadata": {},
     "output_type": "execute_result"
    }
   ],
   "source": [
    "mice_auc_df "
   ]
  },
  {
   "cell_type": "code",
   "execution_count": 185,
   "id": "a95bf24c",
   "metadata": {},
   "outputs": [],
   "source": [
    "mice_auc_df.to_csv('mice_auc_df.csv', index = False, header = True)"
   ]
  },
  {
   "cell_type": "code",
   "execution_count": 186,
   "id": "1ee68ea3",
   "metadata": {},
   "outputs": [],
   "source": [
    "times = np.arange(30, 1810, 30)\n",
    "mice1_auc_over5 = cumulative_dynamic_auc(train_y, test_y, gbm_risk_scores_te, times)[0]\n",
    "\n",
    "times_data = {}\n",
    "values = mice1_auc_over5\n",
    "time_names = []\n",
    "\n",
    "for x in range(len(times)):\n",
    "    time_names.append('time_'+str(times[x]))\n",
    "\n",
    "for i in range(len(time_names)):\n",
    "    times_data[time_names[i]] = values[i]\n",
    "    \n",
    "mice1_auc_over5_df = pd.DataFrame(times_data, index = ['mice_1'])\n",
    "\n",
    "mice_auc_over5 = mice_auc_over5.append(mice1_auc_over5_df, ignore_index = False)"
   ]
  },
  {
   "cell_type": "code",
   "execution_count": 187,
   "id": "d49c0b94",
   "metadata": {},
   "outputs": [
    {
     "data": {
      "text/html": [
       "<div>\n",
       "<style scoped>\n",
       "    .dataframe tbody tr th:only-of-type {\n",
       "        vertical-align: middle;\n",
       "    }\n",
       "\n",
       "    .dataframe tbody tr th {\n",
       "        vertical-align: top;\n",
       "    }\n",
       "\n",
       "    .dataframe thead th {\n",
       "        text-align: right;\n",
       "    }\n",
       "</style>\n",
       "<table border=\"1\" class=\"dataframe\">\n",
       "  <thead>\n",
       "    <tr style=\"text-align: right;\">\n",
       "      <th></th>\n",
       "      <th>time_30</th>\n",
       "      <th>time_60</th>\n",
       "      <th>time_90</th>\n",
       "      <th>time_120</th>\n",
       "      <th>time_150</th>\n",
       "      <th>time_180</th>\n",
       "      <th>time_210</th>\n",
       "      <th>time_240</th>\n",
       "      <th>time_270</th>\n",
       "      <th>time_300</th>\n",
       "      <th>...</th>\n",
       "      <th>time_1530</th>\n",
       "      <th>time_1560</th>\n",
       "      <th>time_1590</th>\n",
       "      <th>time_1620</th>\n",
       "      <th>time_1650</th>\n",
       "      <th>time_1680</th>\n",
       "      <th>time_1710</th>\n",
       "      <th>time_1740</th>\n",
       "      <th>time_1770</th>\n",
       "      <th>time_1800</th>\n",
       "    </tr>\n",
       "  </thead>\n",
       "  <tbody>\n",
       "    <tr>\n",
       "      <th>mice_0</th>\n",
       "      <td>0.928904</td>\n",
       "      <td>0.864093</td>\n",
       "      <td>0.840115</td>\n",
       "      <td>0.836288</td>\n",
       "      <td>0.845611</td>\n",
       "      <td>0.837766</td>\n",
       "      <td>0.820487</td>\n",
       "      <td>0.828629</td>\n",
       "      <td>0.822264</td>\n",
       "      <td>0.819491</td>\n",
       "      <td>...</td>\n",
       "      <td>0.762153</td>\n",
       "      <td>0.760338</td>\n",
       "      <td>0.76020</td>\n",
       "      <td>0.762227</td>\n",
       "      <td>0.762661</td>\n",
       "      <td>0.761704</td>\n",
       "      <td>0.765279</td>\n",
       "      <td>0.764763</td>\n",
       "      <td>0.769232</td>\n",
       "      <td>0.766055</td>\n",
       "    </tr>\n",
       "    <tr>\n",
       "      <th>mice_1</th>\n",
       "      <td>0.938534</td>\n",
       "      <td>0.855832</td>\n",
       "      <td>0.839844</td>\n",
       "      <td>0.839509</td>\n",
       "      <td>0.848354</td>\n",
       "      <td>0.838090</td>\n",
       "      <td>0.820419</td>\n",
       "      <td>0.827062</td>\n",
       "      <td>0.819228</td>\n",
       "      <td>0.817008</td>\n",
       "      <td>...</td>\n",
       "      <td>0.764224</td>\n",
       "      <td>0.762176</td>\n",
       "      <td>0.76193</td>\n",
       "      <td>0.763859</td>\n",
       "      <td>0.764817</td>\n",
       "      <td>0.764278</td>\n",
       "      <td>0.768409</td>\n",
       "      <td>0.768135</td>\n",
       "      <td>0.773135</td>\n",
       "      <td>0.769328</td>\n",
       "    </tr>\n",
       "  </tbody>\n",
       "</table>\n",
       "<p>2 rows × 60 columns</p>\n",
       "</div>"
      ],
      "text/plain": [
       "         time_30   time_60   time_90  time_120  time_150  time_180  time_210  \\\n",
       "mice_0  0.928904  0.864093  0.840115  0.836288  0.845611  0.837766  0.820487   \n",
       "mice_1  0.938534  0.855832  0.839844  0.839509  0.848354  0.838090  0.820419   \n",
       "\n",
       "        time_240  time_270  time_300  ...  time_1530  time_1560  time_1590  \\\n",
       "mice_0  0.828629  0.822264  0.819491  ...   0.762153   0.760338    0.76020   \n",
       "mice_1  0.827062  0.819228  0.817008  ...   0.764224   0.762176    0.76193   \n",
       "\n",
       "        time_1620  time_1650  time_1680  time_1710  time_1740  time_1770  \\\n",
       "mice_0   0.762227   0.762661   0.761704   0.765279   0.764763   0.769232   \n",
       "mice_1   0.763859   0.764817   0.764278   0.768409   0.768135   0.773135   \n",
       "\n",
       "        time_1800  \n",
       "mice_0   0.766055  \n",
       "mice_1   0.769328  \n",
       "\n",
       "[2 rows x 60 columns]"
      ]
     },
     "execution_count": 189,
     "metadata": {},
     "output_type": "execute_result"
    }
   ],
   "source": [
    "mice_auc_over5 "
   ]
  },
  {
   "cell_type": "code",
   "execution_count": 188,
   "id": "8bd85871",
   "metadata": {},
   "outputs": [],
   "source": [
    "mice_auc_over5.to_csv('mice_auc_over5.csv', index = True, header = True)"
   ]
  },
  {
   "cell_type": "code",
   "execution_count": 189,
   "id": "29b1d778",
   "metadata": {},
   "outputs": [],
   "source": [
    "# Variables passing through pipeline_rsf\n",
    "cat_encoder = list(preprocessor_red.transformers_[1][1].get_feature_names(categorical_features))\n",
    "pass_through = list(train_mice1_x.iloc[:, preprocessor_red.transformers_[2][2]].columns)\n",
    "attributes_gbm = numerical_features_red + cat_encoder + pass_through"
   ]
  },
  {
   "cell_type": "code",
   "execution_count": 190,
   "id": "0cb2e5fd",
   "metadata": {},
   "outputs": [
    {
     "name": "stdout",
     "output_type": "stream",
     "text": [
      "Total number of features: 200\n",
      "Number of non-zero features in final model: 164\n"
     ]
    },
    {
     "data": {
      "image/png": "[encoded data removed]",
      "text/plain": [
       "<Figure size 432x576 with 1 Axes>"
      ]
     },
     "metadata": {
      "needs_background": "light"
     },
     "output_type": "display_data"
    }
   ],
   "source": [
    "# Dataframe of coefficients for each variable \n",
    "coefficients_mice1 = pd.DataFrame(\n",
    "    gbm_mice1.named_steps['gradientboostingsurvivalanalysis'].feature_importances_,\n",
    "    index = attributes_gbm,\n",
    "    columns = ['coefficient']\n",
    ")\n",
    "\n",
    "print('Total number of features: {}'.format(len(attributes_gbm)))\n",
    "\n",
    "non_zero = np.sum(coefficients_mice1.iloc[:, 0] != 0)\n",
    "print('Number of non-zero features in final model: {}'.format(non_zero))\n",
    "\n",
    "non_zero_coefs = coefficients_mice1.query('coefficient != 0')\n",
    "coef_order = non_zero_coefs.abs().sort_values('coefficient').tail(30).index\n",
    "\n",
    "_, ax = plt.subplots(figsize=(6, 8))\n",
    "non_zero_coefs.loc[coef_order].plot.barh(ax = ax, legend = False)\n",
    "ax.set_xlabel('coefficient')\n",
    "ax.grid(True)"
   ]
  },
  {
   "cell_type": "code",
   "execution_count": 191,
   "id": "8b566d51",
   "metadata": {},
   "outputs": [],
   "source": [
    "coefficients_mice1_df = (\n",
    "    coefficients_mice1\n",
    "    .reset_index()\n",
    "    .rename(columns = {'index':'variable'}))"
   ]
  },
  {
   "cell_type": "code",
   "execution_count": 192,
   "id": "60d869de",
   "metadata": {},
   "outputs": [],
   "source": [
    "coefficients_mice = coefficients_mice.append(coefficients_mice1_df, ignore_index = True)"
   ]
  },
  {
   "cell_type": "code",
   "execution_count": 193,
   "id": "c8855194",
   "metadata": {},
   "outputs": [],
   "source": [
    "coefficients_mice.to_csv('coefficients_mice.csv', index = False, header = True)"
   ]
  },
  {
   "cell_type": "markdown",
   "id": "52354e95",
   "metadata": {},
   "source": [
    "### 3.3 Model 3"
   ]
  },
  {
   "cell_type": "markdown",
   "id": "3f3441ba",
   "metadata": {},
   "source": [
    "#### Preprocessing "
   ]
  },
  {
   "cell_type": "code",
   "execution_count": 194,
   "id": "6ca1245e",
   "metadata": {},
   "outputs": [],
   "source": [
    "train_mice2 = pd.read_csv('mice_tr2.csv', index_col = 'PatientID')"
   ]
  },
  {
   "cell_type": "code",
   "execution_count": 195,
   "id": "7c2e68c9",
   "metadata": {},
   "outputs": [
    {
     "name": "stdout",
     "output_type": "stream",
     "text": [
      "(15141, 197)\n"
     ]
    }
   ],
   "source": [
    "print(train_mice2.shape)"
   ]
  },
  {
   "cell_type": "code",
   "execution_count": 196,
   "id": "e3c51b15",
   "metadata": {},
   "outputs": [
    {
     "data": {
      "text/plain": [
       "0"
      ]
     },
     "execution_count": 198,
     "metadata": {},
     "output_type": "execute_result"
    }
   ],
   "source": [
    "train_mice2.isna().sum().sum()"
   ]
  },
  {
   "cell_type": "code",
   "execution_count": 197,
   "id": "2130718c",
   "metadata": {},
   "outputs": [],
   "source": [
    "train_mice2 = train_mice2.drop(columns = mice_drop)"
   ]
  },
  {
   "cell_type": "code",
   "execution_count": 198,
   "id": "45b64beb",
   "metadata": {},
   "outputs": [
    {
     "name": "stdout",
     "output_type": "stream",
     "text": [
      "(15141, 155)\n"
     ]
    }
   ],
   "source": [
    "print(train_mice2.shape)"
   ]
  },
  {
   "cell_type": "code",
   "execution_count": 199,
   "id": "29a572e6",
   "metadata": {},
   "outputs": [],
   "source": [
    "train_mice2['ecog_na'] = np.where(train_mice2.index.isin(train.query('ecog_diagnosis == \"unknown\"').PatientID), 1, 0)\n",
    "train_mice2['stage_na'] = np.where(train_mice2.index.isin(train.query('stage == \"unknown\"').PatientID), 1, 0)"
   ]
  },
  {
   "cell_type": "code",
   "execution_count": 200,
   "id": "0458e6a9",
   "metadata": {},
   "outputs": [
    {
     "data": {
      "text/plain": [
       "['Gender',\n",
       " 'race',\n",
       " 'ethnicity',\n",
       " 'p_type',\n",
       " 'NStage',\n",
       " 'MStage',\n",
       " 'Histology',\n",
       " 'GleasonScore',\n",
       " 'stage',\n",
       " 'met_year',\n",
       " 'brca_status',\n",
       " 'ecog_diagnosis',\n",
       " 'prim_treatment']"
      ]
     },
     "execution_count": 202,
     "metadata": {},
     "output_type": "execute_result"
    }
   ],
   "source": [
    "for x in list(to_be_categorical):\n",
    "    train_mice2[x] = train_mice2[x].astype('category')\n",
    "    \n",
    "list(train_mice2.select_dtypes(include = ['category']).columns)"
   ]
  },
  {
   "cell_type": "code",
   "execution_count": 201,
   "id": "09732f4f",
   "metadata": {},
   "outputs": [],
   "source": [
    "train_mice2['death_status'] = train_mice2['death_status'].astype('bool')"
   ]
  },
  {
   "cell_type": "code",
   "execution_count": 202,
   "id": "44d29952",
   "metadata": {},
   "outputs": [],
   "source": [
    "val_mice2 = train_mice2[train_mice2.index.isin(val_IDs['PatientID'])]\n",
    "\n",
    "sub_train_mice2 = train_mice2[~train_mice2.index.isin(val_IDs['PatientID'])]"
   ]
  },
  {
   "cell_type": "code",
   "execution_count": 203,
   "id": "252286d5",
   "metadata": {},
   "outputs": [
    {
     "name": "stdout",
     "output_type": "stream",
     "text": [
      "(15141, 157)\n",
      "(11355, 157)\n",
      "(3786, 157)\n"
     ]
    }
   ],
   "source": [
    "print(train_mice2.shape)\n",
    "print(sub_train_mice2.shape)\n",
    "print(val_mice2.shape)"
   ]
  },
  {
   "cell_type": "code",
   "execution_count": 204,
   "id": "9b51f14a",
   "metadata": {},
   "outputs": [],
   "source": [
    "train_mice2_x = train_mice2.drop(columns = ['death_status', 'timerisk_activity'])\n",
    "\n",
    "sub_train_mice2_x = sub_train_mice2.drop(columns = ['death_status', 'timerisk_activity'])\n",
    "\n",
    "val_mice2_x = val_mice2.drop(columns = ['death_status', 'timerisk_activity'])"
   ]
  },
  {
   "cell_type": "code",
   "execution_count": 205,
   "id": "82448528",
   "metadata": {},
   "outputs": [
    {
     "name": "stdout",
     "output_type": "stream",
     "text": [
      "(15141, 155)\n",
      "(11355, 155)\n",
      "(3786, 155)\n"
     ]
    }
   ],
   "source": [
    "print(train_mice2_x.shape)\n",
    "print(sub_train_mice2_x.shape)\n",
    "print(val_mice2_x.shape)"
   ]
  },
  {
   "cell_type": "markdown",
   "id": "70406789",
   "metadata": {},
   "source": [
    "#### Hyperparameter tuning "
   ]
  },
  {
   "cell_type": "code",
   "execution_count": 206,
   "id": "7da55a9e",
   "metadata": {},
   "outputs": [
    {
     "name": "stdout",
     "output_type": "stream",
     "text": [
      "      Iter       Train Loss      OOB Improve   Remaining Time \n",
      "         1       35807.1892           6.5397           39.02m\n",
      "         2       36196.1749           6.9628           38.95m\n",
      "         3       36365.3109           6.3873           38.89m\n",
      "         4       35971.2955           6.6917           38.83m\n",
      "         5       36380.6484           5.7545           38.78m\n",
      "         6       36010.8122           6.0981           38.76m\n",
      "         7       35783.4363           6.0009           38.73m\n",
      "         8       35880.0614           5.1789           38.73m\n",
      "         9       35516.5078           5.5692           38.69m\n",
      "        10       35864.2051           5.0462           38.66m\n",
      "        20       35500.7884           4.4692           38.40m\n",
      "        30       35667.4523           3.0105           38.11m\n",
      "        40       35058.4543           2.1033           37.84m\n",
      "        50       35337.8900           2.1292           37.57m\n",
      "        60       35026.2974           1.7805           37.30m\n",
      "        70       35235.6348           1.0016           37.03m\n",
      "        80       35315.2578           0.8347           36.76m\n",
      "        90       35176.9496           1.0099           36.50m\n",
      "       100       34784.5945           0.5158           36.24m\n",
      "       200       34802.2176           0.2605           33.70m\n",
      "       300       34698.1608          -0.0379           31.08m\n",
      "       400       34234.5192          -0.1113           28.47m\n",
      "       500       34557.4821          -0.0724           25.87m\n",
      "       600       34121.3342          -0.1558           23.28m\n",
      "       700       34074.1609          -0.0576           20.69m\n",
      "       800       33782.9026          -0.2238           18.10m\n",
      "       900       33957.1463          -0.2350           15.51m\n",
      "      1000       33978.3239          -0.0758           12.93m\n"
     ]
    },
    {
     "data": {
      "text/plain": [
       "GradientBoostingSurvivalAnalysis(learning_rate=0.05, n_estimators=1500,\n",
       "                                 random_state=42, subsample=0.75, verbose=1)"
      ]
     },
     "execution_count": 208,
     "metadata": {},
     "output_type": "execute_result"
    }
   ],
   "source": [
    "sub_train_mice2_xt = preprocessor_red.fit_transform(sub_train_mice2_x)\n",
    "val_mice2_xt = preprocessor_red.transform(val_mice2_x)\n",
    "\n",
    "gbm_mice2_exp = GradientBoostingSurvivalAnalysis(n_estimators = 1500,\n",
    "                                                 learning_rate = 0.05,\n",
    "                                                 max_depth = 3,\n",
    "                                                 subsample = 0.75,\n",
    "                                                 verbose = 1,\n",
    "                                                 random_state = 42)\n",
    "\n",
    "gbm_mice2_exp.fit(sub_train_mice2_xt, sub_train_y)"
   ]
  },
  {
   "cell_type": "code",
   "execution_count": 207,
   "id": "ac64757b",
   "metadata": {},
   "outputs": [],
   "source": [
    "gbm2_staged_auc = [cumulative_dynamic_auc(sub_train_y, val_y, risk_score, 730)[0][0] for \n",
    "                   risk_score in gbm_mice2_exp.staged_predict(val_mice2_xt)]"
   ]
  },
  {
   "cell_type": "code",
   "execution_count": 208,
   "id": "1ef7bc5a",
   "metadata": {},
   "outputs": [],
   "source": [
    "gbm2_staged_auc_tr = [cumulative_dynamic_auc(sub_train_y, sub_train_y, risk_score, 730)[0][0] for \n",
    "                      risk_score in gbm_mice2_exp.staged_predict(sub_train_mice2_xt)]"
   ]
  },
  {
   "cell_type": "code",
   "execution_count": 209,
   "id": "0771ad6d",
   "metadata": {},
   "outputs": [
    {
     "data": {
      "image/png": "[encoded data removed]",
      "text/plain": [
       "<Figure size 432x288 with 1 Axes>"
      ]
     },
     "metadata": {
      "needs_background": "light"
     },
     "output_type": "display_data"
    }
   ],
   "source": [
    "fig = plt.figure()\n",
    "ax = fig.add_subplot(1, 1, 1)\n",
    "\n",
    "x = range(len(gbm2_staged_auc))\n",
    "plt.plot(x, gbm2_staged_auc, color = 'blue', label = 'validation')\n",
    "plt.plot(x, gbm2_staged_auc_tr, color = 'red', label = 'training')\n",
    "plt.legend(loc = 'lower right')\n",
    "\n",
    "plt.xlabel(\"n_estimators\")\n",
    "plt.ylabel(\"AUC at 2-years\")\n",
    "plt.title('Gradient boosting model learning curve for mice2')\n",
    "\n",
    "plt.show()"
   ]
  },
  {
   "cell_type": "code",
   "execution_count": 210,
   "id": "1f3b1693",
   "metadata": {},
   "outputs": [],
   "source": [
    "# Average AUC for every 25 additional trees. \n",
    "mean_auc_list = []\n",
    "for x in np.arange(0, len(gbm2_staged_auc), 25):\n",
    "    mean_auc_list.append(np.mean(gbm2_staged_auc[x:x+24]))"
   ]
  },
  {
   "cell_type": "code",
   "execution_count": 211,
   "id": "f7d610f9",
   "metadata": {},
   "outputs": [
    {
     "name": "stdout",
     "output_type": "stream",
     "text": [
      "Number of trees where 2 year AUC on validation dataset beings to downgrade: 450\n",
      "Validation dataset AUC before degrading: 0.7824976280559206\n",
      "Training dataset AUC before degrading: 0.8119203745448658\n"
     ]
    }
   ],
   "source": [
    "print('Number of trees where 2 year AUC on validation dataset beings to downgrade:', np.where(np.diff(mean_auc_list) < 0)[0][0]*25)\n",
    "print('Validation dataset AUC before degrading:', gbm2_staged_auc[np.where(np.diff(mean_auc_list) < 0)[0][0]*25])\n",
    "print('Training dataset AUC before degrading:', gbm2_staged_auc_tr[np.where(np.diff(mean_auc_list) < 0)[0][0]*25])"
   ]
  },
  {
   "cell_type": "markdown",
   "id": "e6fd8bd0",
   "metadata": {},
   "source": [
    "#### Building model and assessing performance "
   ]
  },
  {
   "cell_type": "code",
   "execution_count": 212,
   "id": "893d4a2f",
   "metadata": {},
   "outputs": [
    {
     "name": "stdout",
     "output_type": "stream",
     "text": [
      "      Iter       Train Loss      OOB Improve   Remaining Time \n",
      "         1       49608.9761           9.6559           21.19m\n",
      "         2       49572.0238          10.2683           21.21m\n",
      "         3       49392.1032           9.0968           21.16m\n",
      "         4       49572.0158           9.1439           21.16m\n",
      "         5       49472.2028           8.2805           21.10m\n",
      "         6       49251.7963           8.4171           21.04m\n",
      "         7       49461.7600           7.5703           20.99m\n",
      "         8       49590.0819           7.6338           20.93m\n",
      "         9       49231.8660           7.4477           20.88m\n",
      "        10       49505.4247           8.1367           20.84m\n",
      "        20       49129.0505           5.8567           20.34m\n",
      "        30       48938.7704           4.3481           19.86m\n",
      "        40       48720.3736           3.8225           19.38m\n",
      "        50       48708.4084           2.4603           18.91m\n",
      "        60       48755.6825           1.9562           18.43m\n",
      "        70       48661.5872           1.7025           17.96m\n",
      "        80       48539.9401           1.2400           17.49m\n",
      "        90       48170.4770           1.7657           17.01m\n",
      "       100       48184.1707           0.9080           16.54m\n",
      "       200       48102.3868           0.1159           11.81m\n",
      "       300       47722.0849          -0.3402            7.09m\n",
      "       400       47524.3200          -0.0234            2.36m\n"
     ]
    },
    {
     "data": {
      "text/plain": [
       "Pipeline(steps=[('columntransformer',\n",
       "                 ColumnTransformer(remainder='passthrough',\n",
       "                                   transformers=[('num',\n",
       "                                                  Pipeline(steps=[('std_scaler',\n",
       "                                                                   StandardScaler())]),\n",
       "                                                  ['age', 'PSADiagnosis',\n",
       "                                                   'PSAMetDiagnosis',\n",
       "                                                   'delta_met_diagnosis',\n",
       "                                                   'crpc_time', 'weight_diag',\n",
       "                                                   'bmi_diag',\n",
       "                                                   'weight_pct_change',\n",
       "                                                   'weight_slope',\n",
       "                                                   'albumin_diag', 'alp_diag',\n",
       "                                                   'alt_diag', 'ast_diag',\n",
       "                                                   'bicarb_diag', 'bun...\n",
       "                                                 ('cat',\n",
       "                                                  OneHotEncoder(handle_unknown='ignore'),\n",
       "                                                  ['Gender', 'race',\n",
       "                                                   'ethnicity', 'p_type',\n",
       "                                                   'NStage', 'MStage',\n",
       "                                                   'Histology', 'GleasonScore',\n",
       "                                                   'stage', 'met_year',\n",
       "                                                   'brca_status',\n",
       "                                                   'ecog_diagnosis',\n",
       "                                                   'prim_treatment'])])),\n",
       "                ('gradientboostingsurvivalanalysis',\n",
       "                 GradientBoostingSurvivalAnalysis(learning_rate=0.05,\n",
       "                                                  n_estimators=450,\n",
       "                                                  random_state=42,\n",
       "                                                  subsample=0.75, verbose=1))])"
      ]
     },
     "execution_count": 214,
     "metadata": {},
     "output_type": "execute_result"
    }
   ],
   "source": [
    "gbm_mice2 = make_pipeline(preprocessor_red, GradientBoostingSurvivalAnalysis(n_estimators = np.where(np.diff(mean_auc_list) < 0)[0][0]*25,\n",
    "                                                                             learning_rate = 0.05,\n",
    "                                                                             max_depth = 3,\n",
    "                                                                             subsample = 0.75,\n",
    "                                                                             verbose = 1,\n",
    "                                                                             random_state = 42))\n",
    "\n",
    "gbm_mice2.fit(train_mice2_x, train_y)"
   ]
  },
  {
   "cell_type": "code",
   "execution_count": 213,
   "id": "8dab64ce",
   "metadata": {},
   "outputs": [
    {
     "data": {
      "text/plain": [
       "['gbm_mice2.joblib']"
      ]
     },
     "execution_count": 215,
     "metadata": {},
     "output_type": "execute_result"
    }
   ],
   "source": [
    "dump(gbm_mice2, 'gbm_mice2.joblib') "
   ]
  },
  {
   "cell_type": "code",
   "execution_count": 214,
   "id": "6e4eac14",
   "metadata": {},
   "outputs": [
    {
     "name": "stdout",
     "output_type": "stream",
     "text": [
      "Test set AUC at 2 year: 0.7718784195725261\n"
     ]
    }
   ],
   "source": [
    "gbm_risk_scores_te = gbm_mice2.predict(test_mice_x)\n",
    "gbm_auc_te = cumulative_dynamic_auc(train_y, test_y, gbm_risk_scores_te, 730)[0][0]\n",
    "print('Test set AUC at 2 year:', gbm_auc_te)"
   ]
  },
  {
   "cell_type": "code",
   "execution_count": 215,
   "id": "bfee8ead",
   "metadata": {},
   "outputs": [
    {
     "name": "stdout",
     "output_type": "stream",
     "text": [
      "Training set AUC at 2 year: 0.807680792579551\n"
     ]
    }
   ],
   "source": [
    "gbm_risk_scores_tr = gbm_mice2.predict(train_mice2_x)\n",
    "gbm_auc_tr = cumulative_dynamic_auc(train_y, train_y, gbm_risk_scores_tr, 730)[0][0]\n",
    "print('Training set AUC at 2 year:', gbm_auc_tr)"
   ]
  },
  {
   "cell_type": "code",
   "execution_count": 216,
   "id": "c9cf4816",
   "metadata": {},
   "outputs": [],
   "source": [
    "# Bootstrap 10000 1 yr AUCs for test set \n",
    "n_bootstraps = 10000\n",
    "rng_seed = 42 \n",
    "bootstrapped_scores_te = []\n",
    "\n",
    "rng = np.random.RandomState(rng_seed)\n",
    "for i in range(n_bootstraps):\n",
    "    indices = rng.randint(0, len(gbm_risk_scores_te), len(gbm_risk_scores_te))\n",
    "    auc_yr = cumulative_dynamic_auc(train_y, test_y[indices], gbm_risk_scores_te[indices], 730)[0][0]\n",
    "    bootstrapped_scores_te.append(auc_yr)"
   ]
  },
  {
   "cell_type": "code",
   "execution_count": 217,
   "id": "1ee925cd",
   "metadata": {},
   "outputs": [
    {
     "name": "stdout",
     "output_type": "stream",
     "text": [
      "Test set AUC standard error: 0.004110018677300323\n"
     ]
    }
   ],
   "source": [
    "# Standard error of mean for test set AUC\n",
    "sorted_scores_te = np.array(bootstrapped_scores_te)\n",
    "sorted_scores_te.sort()\n",
    "\n",
    "conf_lower_te = sorted_scores_te[int(0.025 * len(sorted_scores_te))]\n",
    "conf_upper_te = sorted_scores_te[int(0.975 * len(sorted_scores_te))]\n",
    "\n",
    "standard_error_te = (conf_upper_te - conf_lower_te) / 3.92\n",
    "print('Test set AUC standard error:', standard_error_te)"
   ]
  },
  {
   "cell_type": "code",
   "execution_count": 218,
   "id": "722e79b6",
   "metadata": {},
   "outputs": [],
   "source": [
    "# Bootstrap 10000 1-yr AUCs for train set \n",
    "n_bootstraps = 10000\n",
    "rng_seed = 42 \n",
    "bootstrapped_scores_tr = []\n",
    "\n",
    "rng = np.random.RandomState(rng_seed)\n",
    "for i in range(n_bootstraps):\n",
    "    indices = rng.randint(0, len(gbm_risk_scores_tr), len(gbm_risk_scores_tr))\n",
    "    auc_yr = cumulative_dynamic_auc(train_y, train_y[indices], gbm_risk_scores_tr[indices], 730)[0][0]\n",
    "    bootstrapped_scores_tr.append(auc_yr)"
   ]
  },
  {
   "cell_type": "code",
   "execution_count": 219,
   "id": "7080d003",
   "metadata": {},
   "outputs": [
    {
     "name": "stdout",
     "output_type": "stream",
     "text": [
      "Training set AUC standard error 0.004320363108615317\n"
     ]
    }
   ],
   "source": [
    "# Standard error of mean for train set AUC\n",
    "sorted_scores_tr = np.array(bootstrapped_scores_tr)\n",
    "sorted_scores_tr.sort()\n",
    "\n",
    "conf_lower_tr = sorted_scores_tr[int(0.025 * len(sorted_scores_tr))]\n",
    "conf_upper_tr = sorted_scores_tr[int(0.975 * len(sorted_scores_tr))]\n",
    "\n",
    "standard_error_tr = (conf_upper_tr - conf_lower_tr) / 3.92\n",
    "print('Training set AUC standard error', standard_error_tr)"
   ]
  },
  {
   "cell_type": "code",
   "execution_count": 220,
   "id": "856f39e9",
   "metadata": {},
   "outputs": [],
   "source": [
    "mice_auc_data = {'mice_dataset': 'mice_2',\n",
    "                 'auc_2yr_te': gbm_auc_te,\n",
    "                 'sem_te': standard_error_te,\n",
    "                 'auc_2yr_tr': gbm_auc_tr,\n",
    "                 'sem_tr': standard_error_tr}\n",
    "\n",
    "mice_auc_df = mice_auc_df.append(mice_auc_data, ignore_index = True)"
   ]
  },
  {
   "cell_type": "code",
   "execution_count": 221,
   "id": "72cc6b57",
   "metadata": {},
   "outputs": [
    {
     "data": {
      "text/html": [
       "<div>\n",
       "<style scoped>\n",
       "    .dataframe tbody tr th:only-of-type {\n",
       "        vertical-align: middle;\n",
       "    }\n",
       "\n",
       "    .dataframe tbody tr th {\n",
       "        vertical-align: top;\n",
       "    }\n",
       "\n",
       "    .dataframe thead th {\n",
       "        text-align: right;\n",
       "    }\n",
       "</style>\n",
       "<table border=\"1\" class=\"dataframe\">\n",
       "  <thead>\n",
       "    <tr style=\"text-align: right;\">\n",
       "      <th></th>\n",
       "      <th>mice_dataset</th>\n",
       "      <th>auc_2yr_te</th>\n",
       "      <th>sem_te</th>\n",
       "      <th>auc_2yr_tr</th>\n",
       "      <th>sem_tr</th>\n",
       "    </tr>\n",
       "  </thead>\n",
       "  <tbody>\n",
       "    <tr>\n",
       "      <th>0</th>\n",
       "      <td>mice_0</td>\n",
       "      <td>0.773997</td>\n",
       "      <td>0.004093</td>\n",
       "      <td>0.825684</td>\n",
       "      <td>0.004131</td>\n",
       "    </tr>\n",
       "    <tr>\n",
       "      <th>1</th>\n",
       "      <td>mice_1</td>\n",
       "      <td>0.773070</td>\n",
       "      <td>0.004101</td>\n",
       "      <td>0.816957</td>\n",
       "      <td>0.004143</td>\n",
       "    </tr>\n",
       "    <tr>\n",
       "      <th>2</th>\n",
       "      <td>mice_2</td>\n",
       "      <td>0.771878</td>\n",
       "      <td>0.004110</td>\n",
       "      <td>0.807681</td>\n",
       "      <td>0.004320</td>\n",
       "    </tr>\n",
       "  </tbody>\n",
       "</table>\n",
       "</div>"
      ],
      "text/plain": [
       "  mice_dataset  auc_2yr_te    sem_te  auc_2yr_tr    sem_tr\n",
       "0       mice_0    0.773997  0.004093    0.825684  0.004131\n",
       "1       mice_1    0.773070  0.004101    0.816957  0.004143\n",
       "2       mice_2    0.771878  0.004110    0.807681  0.004320"
      ]
     },
     "execution_count": 223,
     "metadata": {},
     "output_type": "execute_result"
    }
   ],
   "source": [
    "mice_auc_df "
   ]
  },
  {
   "cell_type": "code",
   "execution_count": 222,
   "id": "0d145fe4",
   "metadata": {},
   "outputs": [],
   "source": [
    "mice_auc_df.to_csv('mice_auc_df.csv', index = False, header = True)"
   ]
  },
  {
   "cell_type": "code",
   "execution_count": 223,
   "id": "37547224",
   "metadata": {},
   "outputs": [],
   "source": [
    "times = np.arange(30, 1810, 30)\n",
    "mice2_auc_over5 = cumulative_dynamic_auc(train_y, test_y, gbm_risk_scores_te, times)[0]\n",
    "\n",
    "times_data = {}\n",
    "values = mice2_auc_over5\n",
    "time_names = []\n",
    "\n",
    "for x in range(len(times)):\n",
    "    time_names.append('time_'+str(times[x]))\n",
    "\n",
    "for i in range(len(time_names)):\n",
    "    times_data[time_names[i]] = values[i]\n",
    "    \n",
    "mice2_auc_over5_df = pd.DataFrame(times_data, index = ['mice_2'])\n",
    "\n",
    "mice_auc_over5 = mice_auc_over5.append(mice2_auc_over5_df, ignore_index = False)"
   ]
  },
  {
   "cell_type": "code",
   "execution_count": 224,
   "id": "b177c366",
   "metadata": {},
   "outputs": [
    {
     "data": {
      "text/html": [
       "<div>\n",
       "<style scoped>\n",
       "    .dataframe tbody tr th:only-of-type {\n",
       "        vertical-align: middle;\n",
       "    }\n",
       "\n",
       "    .dataframe tbody tr th {\n",
       "        vertical-align: top;\n",
       "    }\n",
       "\n",
       "    .dataframe thead th {\n",
       "        text-align: right;\n",
       "    }\n",
       "</style>\n",
       "<table border=\"1\" class=\"dataframe\">\n",
       "  <thead>\n",
       "    <tr style=\"text-align: right;\">\n",
       "      <th></th>\n",
       "      <th>time_30</th>\n",
       "      <th>time_60</th>\n",
       "      <th>time_90</th>\n",
       "      <th>time_120</th>\n",
       "      <th>time_150</th>\n",
       "      <th>time_180</th>\n",
       "      <th>time_210</th>\n",
       "      <th>time_240</th>\n",
       "      <th>time_270</th>\n",
       "      <th>time_300</th>\n",
       "      <th>...</th>\n",
       "      <th>time_1530</th>\n",
       "      <th>time_1560</th>\n",
       "      <th>time_1590</th>\n",
       "      <th>time_1620</th>\n",
       "      <th>time_1650</th>\n",
       "      <th>time_1680</th>\n",
       "      <th>time_1710</th>\n",
       "      <th>time_1740</th>\n",
       "      <th>time_1770</th>\n",
       "      <th>time_1800</th>\n",
       "    </tr>\n",
       "  </thead>\n",
       "  <tbody>\n",
       "    <tr>\n",
       "      <th>mice_0</th>\n",
       "      <td>0.928904</td>\n",
       "      <td>0.864093</td>\n",
       "      <td>0.840115</td>\n",
       "      <td>0.836288</td>\n",
       "      <td>0.845611</td>\n",
       "      <td>0.837766</td>\n",
       "      <td>0.820487</td>\n",
       "      <td>0.828629</td>\n",
       "      <td>0.822264</td>\n",
       "      <td>0.819491</td>\n",
       "      <td>...</td>\n",
       "      <td>0.762153</td>\n",
       "      <td>0.760338</td>\n",
       "      <td>0.760200</td>\n",
       "      <td>0.762227</td>\n",
       "      <td>0.762661</td>\n",
       "      <td>0.761704</td>\n",
       "      <td>0.765279</td>\n",
       "      <td>0.764763</td>\n",
       "      <td>0.769232</td>\n",
       "      <td>0.766055</td>\n",
       "    </tr>\n",
       "    <tr>\n",
       "      <th>mice_1</th>\n",
       "      <td>0.938534</td>\n",
       "      <td>0.855832</td>\n",
       "      <td>0.839844</td>\n",
       "      <td>0.839509</td>\n",
       "      <td>0.848354</td>\n",
       "      <td>0.838090</td>\n",
       "      <td>0.820419</td>\n",
       "      <td>0.827062</td>\n",
       "      <td>0.819228</td>\n",
       "      <td>0.817008</td>\n",
       "      <td>...</td>\n",
       "      <td>0.764224</td>\n",
       "      <td>0.762176</td>\n",
       "      <td>0.761930</td>\n",
       "      <td>0.763859</td>\n",
       "      <td>0.764817</td>\n",
       "      <td>0.764278</td>\n",
       "      <td>0.768409</td>\n",
       "      <td>0.768135</td>\n",
       "      <td>0.773135</td>\n",
       "      <td>0.769328</td>\n",
       "    </tr>\n",
       "    <tr>\n",
       "      <th>mice_2</th>\n",
       "      <td>0.937258</td>\n",
       "      <td>0.857651</td>\n",
       "      <td>0.836417</td>\n",
       "      <td>0.834835</td>\n",
       "      <td>0.844006</td>\n",
       "      <td>0.833931</td>\n",
       "      <td>0.816445</td>\n",
       "      <td>0.823575</td>\n",
       "      <td>0.816348</td>\n",
       "      <td>0.813052</td>\n",
       "      <td>...</td>\n",
       "      <td>0.764569</td>\n",
       "      <td>0.762767</td>\n",
       "      <td>0.762684</td>\n",
       "      <td>0.764612</td>\n",
       "      <td>0.765368</td>\n",
       "      <td>0.764845</td>\n",
       "      <td>0.769258</td>\n",
       "      <td>0.768813</td>\n",
       "      <td>0.773587</td>\n",
       "      <td>0.770271</td>\n",
       "    </tr>\n",
       "  </tbody>\n",
       "</table>\n",
       "<p>3 rows × 60 columns</p>\n",
       "</div>"
      ],
      "text/plain": [
       "         time_30   time_60   time_90  time_120  time_150  time_180  time_210  \\\n",
       "mice_0  0.928904  0.864093  0.840115  0.836288  0.845611  0.837766  0.820487   \n",
       "mice_1  0.938534  0.855832  0.839844  0.839509  0.848354  0.838090  0.820419   \n",
       "mice_2  0.937258  0.857651  0.836417  0.834835  0.844006  0.833931  0.816445   \n",
       "\n",
       "        time_240  time_270  time_300  ...  time_1530  time_1560  time_1590  \\\n",
       "mice_0  0.828629  0.822264  0.819491  ...   0.762153   0.760338   0.760200   \n",
       "mice_1  0.827062  0.819228  0.817008  ...   0.764224   0.762176   0.761930   \n",
       "mice_2  0.823575  0.816348  0.813052  ...   0.764569   0.762767   0.762684   \n",
       "\n",
       "        time_1620  time_1650  time_1680  time_1710  time_1740  time_1770  \\\n",
       "mice_0   0.762227   0.762661   0.761704   0.765279   0.764763   0.769232   \n",
       "mice_1   0.763859   0.764817   0.764278   0.768409   0.768135   0.773135   \n",
       "mice_2   0.764612   0.765368   0.764845   0.769258   0.768813   0.773587   \n",
       "\n",
       "        time_1800  \n",
       "mice_0   0.766055  \n",
       "mice_1   0.769328  \n",
       "mice_2   0.770271  \n",
       "\n",
       "[3 rows x 60 columns]"
      ]
     },
     "execution_count": 226,
     "metadata": {},
     "output_type": "execute_result"
    }
   ],
   "source": [
    "mice_auc_over5"
   ]
  },
  {
   "cell_type": "code",
   "execution_count": 225,
   "id": "96336f3b",
   "metadata": {},
   "outputs": [],
   "source": [
    "mice_auc_over5.to_csv('mice_auc_over5.csv', index = True, header = True)"
   ]
  },
  {
   "cell_type": "code",
   "execution_count": 226,
   "id": "170ad063",
   "metadata": {},
   "outputs": [],
   "source": [
    "# Variables passing through pipeline_rsf\n",
    "cat_encoder = list(preprocessor_red.transformers_[1][1].get_feature_names(categorical_features))\n",
    "pass_through = list(train_mice2_x.iloc[:, preprocessor_red.transformers_[2][2]].columns)\n",
    "attributes_gbm = numerical_features_red + cat_encoder + pass_through"
   ]
  },
  {
   "cell_type": "code",
   "execution_count": 227,
   "id": "1954b63d",
   "metadata": {},
   "outputs": [
    {
     "name": "stdout",
     "output_type": "stream",
     "text": [
      "Total number of features: 200\n",
      "Number of non-zero features in final model: 140\n"
     ]
    },
    {
     "data": {
      "image/png": "[encoded data removed]",
      "text/plain": [
       "<Figure size 432x576 with 1 Axes>"
      ]
     },
     "metadata": {
      "needs_background": "light"
     },
     "output_type": "display_data"
    }
   ],
   "source": [
    "# Dataframe of coefficients for each variable \n",
    "coefficients_mice2 = pd.DataFrame(\n",
    "    gbm_mice2.named_steps['gradientboostingsurvivalanalysis'].feature_importances_,\n",
    "    index = attributes_gbm,\n",
    "    columns = ['coefficient']\n",
    ")\n",
    "\n",
    "print('Total number of features: {}'.format(len(attributes_gbm)))\n",
    "\n",
    "non_zero = np.sum(coefficients_mice2.iloc[:, 0] != 0)\n",
    "print('Number of non-zero features in final model: {}'.format(non_zero))\n",
    "\n",
    "non_zero_coefs = coefficients_mice2.query('coefficient != 0')\n",
    "coef_order = non_zero_coefs.abs().sort_values('coefficient').tail(30).index\n",
    "\n",
    "_, ax = plt.subplots(figsize=(6, 8))\n",
    "non_zero_coefs.loc[coef_order].plot.barh(ax = ax, legend = False)\n",
    "ax.set_xlabel('coefficient')\n",
    "ax.grid(True)"
   ]
  },
  {
   "cell_type": "code",
   "execution_count": 228,
   "id": "0eb2b987",
   "metadata": {},
   "outputs": [],
   "source": [
    "coefficients_mice2_df = (\n",
    "    coefficients_mice2\n",
    "    .reset_index()\n",
    "    .rename(columns = {'index':'variable'}))"
   ]
  },
  {
   "cell_type": "code",
   "execution_count": 229,
   "id": "472abe83",
   "metadata": {},
   "outputs": [],
   "source": [
    "coefficients_mice = coefficients_mice.append(coefficients_mice2_df, ignore_index = True)"
   ]
  },
  {
   "cell_type": "code",
   "execution_count": 230,
   "id": "7f144c7f",
   "metadata": {},
   "outputs": [],
   "source": [
    "coefficients_mice.to_csv('coefficients_mice.csv', index = False, header = True)"
   ]
  },
  {
   "cell_type": "markdown",
   "id": "fc26e609",
   "metadata": {},
   "source": [
    "### 3.4 Model 4"
   ]
  },
  {
   "cell_type": "markdown",
   "id": "fe1a2944",
   "metadata": {},
   "source": [
    "#### Preprocessing "
   ]
  },
  {
   "cell_type": "code",
   "execution_count": 231,
   "id": "5d3a7a6d",
   "metadata": {},
   "outputs": [],
   "source": [
    "train_mice3 = pd.read_csv('mice_tr3.csv', index_col = 'PatientID')"
   ]
  },
  {
   "cell_type": "code",
   "execution_count": 232,
   "id": "d91a0c9f",
   "metadata": {},
   "outputs": [
    {
     "name": "stdout",
     "output_type": "stream",
     "text": [
      "(15141, 197)\n"
     ]
    }
   ],
   "source": [
    "print(train_mice3.shape)"
   ]
  },
  {
   "cell_type": "code",
   "execution_count": 233,
   "id": "19af2d72",
   "metadata": {},
   "outputs": [
    {
     "data": {
      "text/plain": [
       "0"
      ]
     },
     "execution_count": 235,
     "metadata": {},
     "output_type": "execute_result"
    }
   ],
   "source": [
    "train_mice3.isna().sum().sum()"
   ]
  },
  {
   "cell_type": "code",
   "execution_count": 234,
   "id": "843d186d",
   "metadata": {},
   "outputs": [],
   "source": [
    "train_mice3 = train_mice3.drop(columns = mice_drop)"
   ]
  },
  {
   "cell_type": "code",
   "execution_count": 235,
   "id": "fa75f0b4",
   "metadata": {},
   "outputs": [
    {
     "name": "stdout",
     "output_type": "stream",
     "text": [
      "(15141, 155)\n"
     ]
    }
   ],
   "source": [
    "print(train_mice3.shape)"
   ]
  },
  {
   "cell_type": "code",
   "execution_count": 236,
   "id": "d798c056",
   "metadata": {},
   "outputs": [],
   "source": [
    "train_mice3['ecog_na'] = np.where(train_mice3.index.isin(train.query('ecog_diagnosis == \"unknown\"').PatientID), 1, 0)\n",
    "train_mice3['stage_na'] = np.where(train_mice3.index.isin(train.query('stage == \"unknown\"').PatientID), 1, 0)"
   ]
  },
  {
   "cell_type": "code",
   "execution_count": 237,
   "id": "67c7c182",
   "metadata": {},
   "outputs": [
    {
     "data": {
      "text/plain": [
       "['Gender',\n",
       " 'race',\n",
       " 'ethnicity',\n",
       " 'p_type',\n",
       " 'NStage',\n",
       " 'MStage',\n",
       " 'Histology',\n",
       " 'GleasonScore',\n",
       " 'stage',\n",
       " 'met_year',\n",
       " 'brca_status',\n",
       " 'ecog_diagnosis',\n",
       " 'prim_treatment']"
      ]
     },
     "execution_count": 239,
     "metadata": {},
     "output_type": "execute_result"
    }
   ],
   "source": [
    "for x in list(to_be_categorical):\n",
    "    train_mice3[x] = train_mice3[x].astype('category')\n",
    "    \n",
    "list(train_mice3.select_dtypes(include = ['category']).columns)"
   ]
  },
  {
   "cell_type": "code",
   "execution_count": 238,
   "id": "bcd9ddc4",
   "metadata": {},
   "outputs": [],
   "source": [
    "train_mice3['death_status'] = train_mice3['death_status'].astype('bool')"
   ]
  },
  {
   "cell_type": "code",
   "execution_count": 239,
   "id": "a9f05c97",
   "metadata": {},
   "outputs": [],
   "source": [
    "val_mice3 = train_mice3[train_mice3.index.isin(val_IDs['PatientID'])]\n",
    "\n",
    "sub_train_mice3 = train_mice3[~train_mice3.index.isin(val_IDs['PatientID'])]"
   ]
  },
  {
   "cell_type": "code",
   "execution_count": 240,
   "id": "fcb5da1b",
   "metadata": {},
   "outputs": [
    {
     "name": "stdout",
     "output_type": "stream",
     "text": [
      "(15141, 157)\n",
      "(11355, 157)\n",
      "(3786, 157)\n"
     ]
    }
   ],
   "source": [
    "print(train_mice3.shape)\n",
    "print(sub_train_mice3.shape)\n",
    "print(val_mice3.shape)"
   ]
  },
  {
   "cell_type": "code",
   "execution_count": 241,
   "id": "714520ce",
   "metadata": {},
   "outputs": [],
   "source": [
    "train_mice3_x = train_mice3.drop(columns = ['death_status', 'timerisk_activity'])\n",
    "\n",
    "sub_train_mice3_x = sub_train_mice3.drop(columns = ['death_status', 'timerisk_activity'])\n",
    "\n",
    "val_mice3_x = val_mice3.drop(columns = ['death_status', 'timerisk_activity'])"
   ]
  },
  {
   "cell_type": "code",
   "execution_count": 242,
   "id": "b5aa71ea",
   "metadata": {},
   "outputs": [
    {
     "name": "stdout",
     "output_type": "stream",
     "text": [
      "(15141, 155)\n",
      "(11355, 155)\n",
      "(3786, 155)\n"
     ]
    }
   ],
   "source": [
    "print(train_mice3_x.shape)\n",
    "print(sub_train_mice3_x.shape)\n",
    "print(val_mice3_x.shape)"
   ]
  },
  {
   "cell_type": "markdown",
   "id": "f8b7f051",
   "metadata": {},
   "source": [
    "#### Hyperparameter tuning "
   ]
  },
  {
   "cell_type": "code",
   "execution_count": 243,
   "id": "4ffa2865",
   "metadata": {},
   "outputs": [
    {
     "name": "stdout",
     "output_type": "stream",
     "text": [
      "      Iter       Train Loss      OOB Improve   Remaining Time \n",
      "         1       35807.0295           7.4216           38.47m\n",
      "         2       36193.8695           7.1365           38.46m\n",
      "         3       36362.9237           6.5669           38.44m\n",
      "         4       35968.2620           6.4232           38.40m\n",
      "         5       36378.1173           6.3142           38.38m\n",
      "         6       36006.1045           6.0101           38.36m\n",
      "         7       35778.5859           5.8178           38.33m\n",
      "         8       35878.6665           5.1644           38.29m\n",
      "         9       35514.0979           5.8758           38.27m\n",
      "        10       35857.2407           4.9797           38.24m\n",
      "        20       35495.5546           4.3471           37.94m\n",
      "        30       35659.1483           2.9634           37.69m\n",
      "        40       35061.4771           2.7254           37.43m\n",
      "        50       35342.5585           2.0300           37.18m\n",
      "        60       35016.5533           1.6283           36.91m\n",
      "        70       35233.2020           1.3799           36.65m\n",
      "        80       35303.1729           1.0896           36.39m\n",
      "        90       35178.3382           0.9917           36.13m\n",
      "       100       34782.4609           0.4366           35.87m\n",
      "       200       34781.9595           0.1779           33.31m\n",
      "       300       34670.7483          -0.0417           30.74m\n",
      "       400       34233.0526           0.0715           28.18m\n",
      "       500       34532.8487          -0.0487           25.62m\n",
      "       600       34109.7269          -0.3738           23.06m\n",
      "       700       34055.7100          -0.0100           20.52m\n",
      "       800       33761.1169          -0.2431           17.97m\n",
      "       900       33934.9395          -0.0708           15.41m\n",
      "      1000       33937.8225          -0.2333           12.84m\n"
     ]
    },
    {
     "data": {
      "text/plain": [
       "GradientBoostingSurvivalAnalysis(learning_rate=0.05, n_estimators=1500,\n",
       "                                 random_state=42, subsample=0.75, verbose=1)"
      ]
     },
     "execution_count": 245,
     "metadata": {},
     "output_type": "execute_result"
    }
   ],
   "source": [
    "sub_train_mice3_xt = preprocessor_red.fit_transform(sub_train_mice3_x)\n",
    "val_mice3_xt = preprocessor_red.transform(val_mice3_x)\n",
    "\n",
    "gbm_mice3_exp = GradientBoostingSurvivalAnalysis(n_estimators = 1500,\n",
    "                                                 learning_rate = 0.05,\n",
    "                                                 max_depth = 3,\n",
    "                                                 subsample = 0.75,\n",
    "                                                 verbose = 1,\n",
    "                                                 random_state = 42)\n",
    "\n",
    "gbm_mice3_exp.fit(sub_train_mice3_xt, sub_train_y)"
   ]
  },
  {
   "cell_type": "code",
   "execution_count": 244,
   "id": "63ddda87",
   "metadata": {},
   "outputs": [],
   "source": [
    "gbm3_staged_auc = [cumulative_dynamic_auc(sub_train_y, val_y, risk_score, 730)[0][0] for \n",
    "                   risk_score in gbm_mice3_exp.staged_predict(val_mice3_xt)]"
   ]
  },
  {
   "cell_type": "code",
   "execution_count": 245,
   "id": "ba220e80",
   "metadata": {},
   "outputs": [],
   "source": [
    "gbm3_staged_auc_tr = [cumulative_dynamic_auc(sub_train_y, sub_train_y, risk_score, 730)[0][0] for \n",
    "                      risk_score in gbm_mice3_exp.staged_predict(sub_train_mice3_xt)]"
   ]
  },
  {
   "cell_type": "code",
   "execution_count": 246,
   "id": "d9df8665",
   "metadata": {},
   "outputs": [
    {
     "data": {
      "image/png": "[encoded data removed]",
      "text/plain": [
       "<Figure size 432x288 with 1 Axes>"
      ]
     },
     "metadata": {
      "needs_background": "light"
     },
     "output_type": "display_data"
    }
   ],
   "source": [
    "fig = plt.figure()\n",
    "ax = fig.add_subplot(1, 1, 1)\n",
    "\n",
    "x = range(len(gbm3_staged_auc))\n",
    "plt.plot(x, gbm3_staged_auc, color = 'blue', label = 'validation')\n",
    "plt.plot(x, gbm3_staged_auc_tr, color = 'red', label = 'training')\n",
    "plt.legend(loc = 'lower right')\n",
    "\n",
    "plt.xlabel(\"n_estimators\")\n",
    "plt.ylabel(\"AUC at 2 years\")\n",
    "plt.title('Gradient boosting model learning curve for mice3')\n",
    "\n",
    "plt.show()"
   ]
  },
  {
   "cell_type": "code",
   "execution_count": 247,
   "id": "011fa414",
   "metadata": {},
   "outputs": [],
   "source": [
    "# Average AUC for every 25 additional trees. \n",
    "mean_auc_list = []\n",
    "for x in np.arange(0, len(gbm3_staged_auc), 25):\n",
    "    mean_auc_list.append(np.mean(gbm3_staged_auc[x:x+24]))"
   ]
  },
  {
   "cell_type": "code",
   "execution_count": 248,
   "id": "b9ea30b6",
   "metadata": {},
   "outputs": [
    {
     "name": "stdout",
     "output_type": "stream",
     "text": [
      "Number of trees where 2 year AUC on validation dataset beings to downgrade: 600\n",
      "Validation dataset AUC before degrading: 0.7830638337657422\n",
      "Training dataset AUC before degrading: 0.8235854275010255\n"
     ]
    }
   ],
   "source": [
    "print('Number of trees where 2 year AUC on validation dataset beings to downgrade:', np.where(np.diff(mean_auc_list) < 0)[0][0]*25)\n",
    "print('Validation dataset AUC before degrading:', gbm3_staged_auc[np.where(np.diff(mean_auc_list) < 0)[0][0]*25])\n",
    "print('Training dataset AUC before degrading:', gbm3_staged_auc_tr[np.where(np.diff(mean_auc_list) < 0)[0][0]*25])"
   ]
  },
  {
   "cell_type": "markdown",
   "id": "ffd30a0c",
   "metadata": {},
   "source": [
    "#### Model building and performance assessment "
   ]
  },
  {
   "cell_type": "code",
   "execution_count": 249,
   "id": "1fba73ee",
   "metadata": {},
   "outputs": [
    {
     "name": "stdout",
     "output_type": "stream",
     "text": [
      "      Iter       Train Loss      OOB Improve   Remaining Time \n",
      "         1       49609.7623           9.4072           28.50m\n",
      "         2       49571.0225          10.3088           28.47m\n",
      "         3       49390.7897           9.6287           28.34m\n",
      "         4       49569.9012           9.4961           28.25m\n",
      "         5       49470.9853           8.3761           28.18m\n",
      "         6       49250.0432           7.7206           28.11m\n",
      "         7       49461.0988           8.2147           28.06m\n",
      "         8       49586.4366           7.6633           28.00m\n",
      "         9       49226.5393           7.1411           27.95m\n",
      "        10       49500.3201           7.3710           27.89m\n",
      "        20       49127.6704           5.7187           27.40m\n",
      "        30       48936.2357           4.3677           26.92m\n",
      "        40       48714.6742           3.1051           26.44m\n",
      "        50       48700.4698           2.8859           25.97m\n",
      "        60       48756.2004           1.9028           25.50m\n",
      "        70       48647.0619           1.4373           25.02m\n",
      "        80       48526.5144           1.7821           24.55m\n",
      "        90       48170.1701           1.2734           24.09m\n",
      "       100       48183.0855           1.0722           23.61m\n",
      "       200       48129.4675           0.3612           18.88m\n",
      "       300       47705.5605           0.2888           14.16m\n",
      "       400       47500.6443          -0.1655            9.44m\n",
      "       500       47531.6911          -0.1722            4.72m\n",
      "       600       47363.0374          -0.2011            0.00s\n"
     ]
    },
    {
     "data": {
      "text/plain": [
       "Pipeline(steps=[('columntransformer',\n",
       "                 ColumnTransformer(remainder='passthrough',\n",
       "                                   transformers=[('num',\n",
       "                                                  Pipeline(steps=[('std_scaler',\n",
       "                                                                   StandardScaler())]),\n",
       "                                                  ['age', 'PSADiagnosis',\n",
       "                                                   'PSAMetDiagnosis',\n",
       "                                                   'delta_met_diagnosis',\n",
       "                                                   'crpc_time', 'weight_diag',\n",
       "                                                   'bmi_diag',\n",
       "                                                   'weight_pct_change',\n",
       "                                                   'weight_slope',\n",
       "                                                   'albumin_diag', 'alp_diag',\n",
       "                                                   'alt_diag', 'ast_diag',\n",
       "                                                   'bicarb_diag', 'bun...\n",
       "                                                 ('cat',\n",
       "                                                  OneHotEncoder(handle_unknown='ignore'),\n",
       "                                                  ['Gender', 'race',\n",
       "                                                   'ethnicity', 'p_type',\n",
       "                                                   'NStage', 'MStage',\n",
       "                                                   'Histology', 'GleasonScore',\n",
       "                                                   'stage', 'met_year',\n",
       "                                                   'brca_status',\n",
       "                                                   'ecog_diagnosis',\n",
       "                                                   'prim_treatment'])])),\n",
       "                ('gradientboostingsurvivalanalysis',\n",
       "                 GradientBoostingSurvivalAnalysis(learning_rate=0.05,\n",
       "                                                  n_estimators=600,\n",
       "                                                  random_state=42,\n",
       "                                                  subsample=0.75, verbose=1))])"
      ]
     },
     "execution_count": 251,
     "metadata": {},
     "output_type": "execute_result"
    }
   ],
   "source": [
    "gbm_mice3 = make_pipeline(preprocessor_red, GradientBoostingSurvivalAnalysis(n_estimators = np.where(np.diff(mean_auc_list) < 0)[0][0]*25,\n",
    "                                                                             learning_rate = 0.05,\n",
    "                                                                             max_depth = 3,\n",
    "                                                                             subsample = 0.75,\n",
    "                                                                             verbose = 1,\n",
    "                                                                             random_state = 42))\n",
    "\n",
    "gbm_mice3.fit(train_mice3_x, train_y)"
   ]
  },
  {
   "cell_type": "code",
   "execution_count": 250,
   "id": "12557fd2",
   "metadata": {},
   "outputs": [
    {
     "data": {
      "text/plain": [
       "['gbm_mice3.joblib']"
      ]
     },
     "execution_count": 252,
     "metadata": {},
     "output_type": "execute_result"
    }
   ],
   "source": [
    "dump(gbm_mice3, 'gbm_mice3.joblib') "
   ]
  },
  {
   "cell_type": "code",
   "execution_count": 251,
   "id": "eb1cd963",
   "metadata": {},
   "outputs": [
    {
     "name": "stdout",
     "output_type": "stream",
     "text": [
      "Test set AUC at 2 years: 0.7722590754828409\n"
     ]
    }
   ],
   "source": [
    "gbm_risk_scores_te = gbm_mice3.predict(test_mice_x)\n",
    "gbm_auc_te = cumulative_dynamic_auc(train_y, test_y, gbm_risk_scores_te, 730)[0][0]\n",
    "print('Test set AUC at 2 years:', gbm_auc_te)"
   ]
  },
  {
   "cell_type": "code",
   "execution_count": 252,
   "id": "aa2e0958",
   "metadata": {},
   "outputs": [
    {
     "name": "stdout",
     "output_type": "stream",
     "text": [
      "Training set AUC at 2 years: 0.8166207306567599\n"
     ]
    }
   ],
   "source": [
    "gbm_risk_scores_tr = gbm_mice3.predict(train_mice3_x)\n",
    "gbm_auc_tr = cumulative_dynamic_auc(train_y, train_y, gbm_risk_scores_tr, 730)[0][0]\n",
    "print('Training set AUC at 2 years:', gbm_auc_tr)"
   ]
  },
  {
   "cell_type": "code",
   "execution_count": 253,
   "id": "e56f8d82",
   "metadata": {},
   "outputs": [],
   "source": [
    "# Bootstrap 10000 1 yr AUCs for test set \n",
    "n_bootstraps = 10000\n",
    "rng_seed = 42 \n",
    "bootstrapped_scores_te = []\n",
    "\n",
    "rng = np.random.RandomState(rng_seed)\n",
    "for i in range(n_bootstraps):\n",
    "    indices = rng.randint(0, len(gbm_risk_scores_te), len(gbm_risk_scores_te))\n",
    "    auc_yr = cumulative_dynamic_auc(train_y, test_y[indices], gbm_risk_scores_te[indices], 730)[0][0]\n",
    "    bootstrapped_scores_te.append(auc_yr)"
   ]
  },
  {
   "cell_type": "code",
   "execution_count": 254,
   "id": "8e32185c",
   "metadata": {},
   "outputs": [
    {
     "name": "stdout",
     "output_type": "stream",
     "text": [
      "Test set AUC standard error: 0.004097280021427178\n"
     ]
    }
   ],
   "source": [
    "# Standard error of mean for test set AUC\n",
    "sorted_scores_te = np.array(bootstrapped_scores_te)\n",
    "sorted_scores_te.sort()\n",
    "\n",
    "conf_lower_te = sorted_scores_te[int(0.025 * len(sorted_scores_te))]\n",
    "conf_upper_te = sorted_scores_te[int(0.975 * len(sorted_scores_te))]\n",
    "\n",
    "standard_error_te = (conf_upper_te - conf_lower_te) / 3.92\n",
    "print('Test set AUC standard error:', standard_error_te)"
   ]
  },
  {
   "cell_type": "code",
   "execution_count": 255,
   "id": "18ed5415",
   "metadata": {},
   "outputs": [],
   "source": [
    "# Bootstrap 10000 1-yr AUCs for train set \n",
    "n_bootstraps = 10000\n",
    "rng_seed = 42 \n",
    "bootstrapped_scores_tr = []\n",
    "\n",
    "rng = np.random.RandomState(rng_seed)\n",
    "for i in range(n_bootstraps):\n",
    "    indices = rng.randint(0, len(gbm_risk_scores_tr), len(gbm_risk_scores_tr))\n",
    "    auc_yr = cumulative_dynamic_auc(train_y, train_y[indices], gbm_risk_scores_tr[indices], 730)[0][0]\n",
    "    bootstrapped_scores_tr.append(auc_yr)"
   ]
  },
  {
   "cell_type": "code",
   "execution_count": 256,
   "id": "39fca7b3",
   "metadata": {},
   "outputs": [
    {
     "name": "stdout",
     "output_type": "stream",
     "text": [
      "Training set AUC standard error 0.00420134398047182\n"
     ]
    }
   ],
   "source": [
    "# Standard error of mean for train set AUC\n",
    "sorted_scores_tr = np.array(bootstrapped_scores_tr)\n",
    "sorted_scores_tr.sort()\n",
    "\n",
    "conf_lower_tr = sorted_scores_tr[int(0.025 * len(sorted_scores_tr))]\n",
    "conf_upper_tr = sorted_scores_tr[int(0.975 * len(sorted_scores_tr))]\n",
    "\n",
    "standard_error_tr = (conf_upper_tr - conf_lower_tr) / 3.92\n",
    "print('Training set AUC standard error', standard_error_tr)"
   ]
  },
  {
   "cell_type": "code",
   "execution_count": 257,
   "id": "93b85766",
   "metadata": {},
   "outputs": [],
   "source": [
    "mice_auc_data = {'mice_dataset': 'mice_3',\n",
    "                 'auc_2yr_te': gbm_auc_te,\n",
    "                 'sem_te': standard_error_te,\n",
    "                 'auc_2yr_tr': gbm_auc_tr,\n",
    "                 'sem_tr': standard_error_tr}\n",
    "\n",
    "mice_auc_df = mice_auc_df.append(mice_auc_data, ignore_index = True)"
   ]
  },
  {
   "cell_type": "code",
   "execution_count": 258,
   "id": "e2ac9a70",
   "metadata": {},
   "outputs": [
    {
     "data": {
      "text/html": [
       "<div>\n",
       "<style scoped>\n",
       "    .dataframe tbody tr th:only-of-type {\n",
       "        vertical-align: middle;\n",
       "    }\n",
       "\n",
       "    .dataframe tbody tr th {\n",
       "        vertical-align: top;\n",
       "    }\n",
       "\n",
       "    .dataframe thead th {\n",
       "        text-align: right;\n",
       "    }\n",
       "</style>\n",
       "<table border=\"1\" class=\"dataframe\">\n",
       "  <thead>\n",
       "    <tr style=\"text-align: right;\">\n",
       "      <th></th>\n",
       "      <th>mice_dataset</th>\n",
       "      <th>auc_2yr_te</th>\n",
       "      <th>sem_te</th>\n",
       "      <th>auc_2yr_tr</th>\n",
       "      <th>sem_tr</th>\n",
       "    </tr>\n",
       "  </thead>\n",
       "  <tbody>\n",
       "    <tr>\n",
       "      <th>0</th>\n",
       "      <td>mice_0</td>\n",
       "      <td>0.773997</td>\n",
       "      <td>0.004093</td>\n",
       "      <td>0.825684</td>\n",
       "      <td>0.004131</td>\n",
       "    </tr>\n",
       "    <tr>\n",
       "      <th>1</th>\n",
       "      <td>mice_1</td>\n",
       "      <td>0.773070</td>\n",
       "      <td>0.004101</td>\n",
       "      <td>0.816957</td>\n",
       "      <td>0.004143</td>\n",
       "    </tr>\n",
       "    <tr>\n",
       "      <th>2</th>\n",
       "      <td>mice_2</td>\n",
       "      <td>0.771878</td>\n",
       "      <td>0.004110</td>\n",
       "      <td>0.807681</td>\n",
       "      <td>0.004320</td>\n",
       "    </tr>\n",
       "    <tr>\n",
       "      <th>3</th>\n",
       "      <td>mice_3</td>\n",
       "      <td>0.772259</td>\n",
       "      <td>0.004097</td>\n",
       "      <td>0.816621</td>\n",
       "      <td>0.004201</td>\n",
       "    </tr>\n",
       "  </tbody>\n",
       "</table>\n",
       "</div>"
      ],
      "text/plain": [
       "  mice_dataset  auc_2yr_te    sem_te  auc_2yr_tr    sem_tr\n",
       "0       mice_0    0.773997  0.004093    0.825684  0.004131\n",
       "1       mice_1    0.773070  0.004101    0.816957  0.004143\n",
       "2       mice_2    0.771878  0.004110    0.807681  0.004320\n",
       "3       mice_3    0.772259  0.004097    0.816621  0.004201"
      ]
     },
     "execution_count": 260,
     "metadata": {},
     "output_type": "execute_result"
    }
   ],
   "source": [
    "mice_auc_df "
   ]
  },
  {
   "cell_type": "code",
   "execution_count": 259,
   "id": "91e2c796",
   "metadata": {},
   "outputs": [],
   "source": [
    "mice_auc_df.to_csv('mice_auc_df.csv', index = False, header = True)"
   ]
  },
  {
   "cell_type": "code",
   "execution_count": 260,
   "id": "0f069018",
   "metadata": {},
   "outputs": [],
   "source": [
    "times = np.arange(30, 1810, 30)\n",
    "mice3_auc_over5 = cumulative_dynamic_auc(train_y, test_y, gbm_risk_scores_te, times)[0]\n",
    "\n",
    "times_data = {}\n",
    "values = mice3_auc_over5\n",
    "time_names = []\n",
    "\n",
    "for x in range(len(times)):\n",
    "    time_names.append('time_'+str(times[x]))\n",
    "\n",
    "for i in range(len(time_names)):\n",
    "    times_data[time_names[i]] = values[i]\n",
    "    \n",
    "mice3_auc_over5_df = pd.DataFrame(times_data, index = ['mice_3'])\n",
    "\n",
    "mice_auc_over5 = mice_auc_over5.append(mice3_auc_over5_df, ignore_index = False)"
   ]
  },
  {
   "cell_type": "code",
   "execution_count": 261,
   "id": "5a0ff138",
   "metadata": {},
   "outputs": [
    {
     "data": {
      "text/html": [
       "<div>\n",
       "<style scoped>\n",
       "    .dataframe tbody tr th:only-of-type {\n",
       "        vertical-align: middle;\n",
       "    }\n",
       "\n",
       "    .dataframe tbody tr th {\n",
       "        vertical-align: top;\n",
       "    }\n",
       "\n",
       "    .dataframe thead th {\n",
       "        text-align: right;\n",
       "    }\n",
       "</style>\n",
       "<table border=\"1\" class=\"dataframe\">\n",
       "  <thead>\n",
       "    <tr style=\"text-align: right;\">\n",
       "      <th></th>\n",
       "      <th>time_30</th>\n",
       "      <th>time_60</th>\n",
       "      <th>time_90</th>\n",
       "      <th>time_120</th>\n",
       "      <th>time_150</th>\n",
       "      <th>time_180</th>\n",
       "      <th>time_210</th>\n",
       "      <th>time_240</th>\n",
       "      <th>time_270</th>\n",
       "      <th>time_300</th>\n",
       "      <th>...</th>\n",
       "      <th>time_1530</th>\n",
       "      <th>time_1560</th>\n",
       "      <th>time_1590</th>\n",
       "      <th>time_1620</th>\n",
       "      <th>time_1650</th>\n",
       "      <th>time_1680</th>\n",
       "      <th>time_1710</th>\n",
       "      <th>time_1740</th>\n",
       "      <th>time_1770</th>\n",
       "      <th>time_1800</th>\n",
       "    </tr>\n",
       "  </thead>\n",
       "  <tbody>\n",
       "    <tr>\n",
       "      <th>mice_0</th>\n",
       "      <td>0.928904</td>\n",
       "      <td>0.864093</td>\n",
       "      <td>0.840115</td>\n",
       "      <td>0.836288</td>\n",
       "      <td>0.845611</td>\n",
       "      <td>0.837766</td>\n",
       "      <td>0.820487</td>\n",
       "      <td>0.828629</td>\n",
       "      <td>0.822264</td>\n",
       "      <td>0.819491</td>\n",
       "      <td>...</td>\n",
       "      <td>0.762153</td>\n",
       "      <td>0.760338</td>\n",
       "      <td>0.760200</td>\n",
       "      <td>0.762227</td>\n",
       "      <td>0.762661</td>\n",
       "      <td>0.761704</td>\n",
       "      <td>0.765279</td>\n",
       "      <td>0.764763</td>\n",
       "      <td>0.769232</td>\n",
       "      <td>0.766055</td>\n",
       "    </tr>\n",
       "    <tr>\n",
       "      <th>mice_1</th>\n",
       "      <td>0.938534</td>\n",
       "      <td>0.855832</td>\n",
       "      <td>0.839844</td>\n",
       "      <td>0.839509</td>\n",
       "      <td>0.848354</td>\n",
       "      <td>0.838090</td>\n",
       "      <td>0.820419</td>\n",
       "      <td>0.827062</td>\n",
       "      <td>0.819228</td>\n",
       "      <td>0.817008</td>\n",
       "      <td>...</td>\n",
       "      <td>0.764224</td>\n",
       "      <td>0.762176</td>\n",
       "      <td>0.761930</td>\n",
       "      <td>0.763859</td>\n",
       "      <td>0.764817</td>\n",
       "      <td>0.764278</td>\n",
       "      <td>0.768409</td>\n",
       "      <td>0.768135</td>\n",
       "      <td>0.773135</td>\n",
       "      <td>0.769328</td>\n",
       "    </tr>\n",
       "    <tr>\n",
       "      <th>mice_2</th>\n",
       "      <td>0.937258</td>\n",
       "      <td>0.857651</td>\n",
       "      <td>0.836417</td>\n",
       "      <td>0.834835</td>\n",
       "      <td>0.844006</td>\n",
       "      <td>0.833931</td>\n",
       "      <td>0.816445</td>\n",
       "      <td>0.823575</td>\n",
       "      <td>0.816348</td>\n",
       "      <td>0.813052</td>\n",
       "      <td>...</td>\n",
       "      <td>0.764569</td>\n",
       "      <td>0.762767</td>\n",
       "      <td>0.762684</td>\n",
       "      <td>0.764612</td>\n",
       "      <td>0.765368</td>\n",
       "      <td>0.764845</td>\n",
       "      <td>0.769258</td>\n",
       "      <td>0.768813</td>\n",
       "      <td>0.773587</td>\n",
       "      <td>0.770271</td>\n",
       "    </tr>\n",
       "    <tr>\n",
       "      <th>mice_3</th>\n",
       "      <td>0.920580</td>\n",
       "      <td>0.855594</td>\n",
       "      <td>0.836459</td>\n",
       "      <td>0.834208</td>\n",
       "      <td>0.844403</td>\n",
       "      <td>0.836067</td>\n",
       "      <td>0.820205</td>\n",
       "      <td>0.826476</td>\n",
       "      <td>0.819472</td>\n",
       "      <td>0.815705</td>\n",
       "      <td>...</td>\n",
       "      <td>0.764346</td>\n",
       "      <td>0.762434</td>\n",
       "      <td>0.761962</td>\n",
       "      <td>0.764132</td>\n",
       "      <td>0.764698</td>\n",
       "      <td>0.763869</td>\n",
       "      <td>0.768060</td>\n",
       "      <td>0.768031</td>\n",
       "      <td>0.772544</td>\n",
       "      <td>0.769228</td>\n",
       "    </tr>\n",
       "  </tbody>\n",
       "</table>\n",
       "<p>4 rows × 60 columns</p>\n",
       "</div>"
      ],
      "text/plain": [
       "         time_30   time_60   time_90  time_120  time_150  time_180  time_210  \\\n",
       "mice_0  0.928904  0.864093  0.840115  0.836288  0.845611  0.837766  0.820487   \n",
       "mice_1  0.938534  0.855832  0.839844  0.839509  0.848354  0.838090  0.820419   \n",
       "mice_2  0.937258  0.857651  0.836417  0.834835  0.844006  0.833931  0.816445   \n",
       "mice_3  0.920580  0.855594  0.836459  0.834208  0.844403  0.836067  0.820205   \n",
       "\n",
       "        time_240  time_270  time_300  ...  time_1530  time_1560  time_1590  \\\n",
       "mice_0  0.828629  0.822264  0.819491  ...   0.762153   0.760338   0.760200   \n",
       "mice_1  0.827062  0.819228  0.817008  ...   0.764224   0.762176   0.761930   \n",
       "mice_2  0.823575  0.816348  0.813052  ...   0.764569   0.762767   0.762684   \n",
       "mice_3  0.826476  0.819472  0.815705  ...   0.764346   0.762434   0.761962   \n",
       "\n",
       "        time_1620  time_1650  time_1680  time_1710  time_1740  time_1770  \\\n",
       "mice_0   0.762227   0.762661   0.761704   0.765279   0.764763   0.769232   \n",
       "mice_1   0.763859   0.764817   0.764278   0.768409   0.768135   0.773135   \n",
       "mice_2   0.764612   0.765368   0.764845   0.769258   0.768813   0.773587   \n",
       "mice_3   0.764132   0.764698   0.763869   0.768060   0.768031   0.772544   \n",
       "\n",
       "        time_1800  \n",
       "mice_0   0.766055  \n",
       "mice_1   0.769328  \n",
       "mice_2   0.770271  \n",
       "mice_3   0.769228  \n",
       "\n",
       "[4 rows x 60 columns]"
      ]
     },
     "execution_count": 263,
     "metadata": {},
     "output_type": "execute_result"
    }
   ],
   "source": [
    "mice_auc_over5"
   ]
  },
  {
   "cell_type": "code",
   "execution_count": 262,
   "id": "8fbc670c",
   "metadata": {},
   "outputs": [],
   "source": [
    "mice_auc_over5.to_csv('mice_auc_over5.csv', index = True, header = True)"
   ]
  },
  {
   "cell_type": "code",
   "execution_count": 263,
   "id": "621f1062",
   "metadata": {},
   "outputs": [],
   "source": [
    "# Variables passing through pipeline_rsf\n",
    "cat_encoder = list(preprocessor_red.transformers_[1][1].get_feature_names(categorical_features))\n",
    "pass_through = list(train_mice3_x.iloc[:, preprocessor_red.transformers_[2][2]].columns)\n",
    "attributes_gbm = numerical_features_red + cat_encoder + pass_through"
   ]
  },
  {
   "cell_type": "code",
   "execution_count": 264,
   "id": "8a20c0bc",
   "metadata": {},
   "outputs": [
    {
     "name": "stdout",
     "output_type": "stream",
     "text": [
      "Total number of features: 200\n",
      "Number of non-zero features in final model: 163\n"
     ]
    },
    {
     "data": {
      "image/png": "[encoded data removed]",
      "text/plain": [
       "<Figure size 432x576 with 1 Axes>"
      ]
     },
     "metadata": {
      "needs_background": "light"
     },
     "output_type": "display_data"
    }
   ],
   "source": [
    "# Dataframe of coefficients for each variable \n",
    "coefficients_mice3 = pd.DataFrame(\n",
    "    gbm_mice3.named_steps['gradientboostingsurvivalanalysis'].feature_importances_,\n",
    "    index = attributes_gbm,\n",
    "    columns = ['coefficient']\n",
    ")\n",
    "\n",
    "print('Total number of features: {}'.format(len(attributes_gbm)))\n",
    "\n",
    "non_zero = np.sum(coefficients_mice3.iloc[:, 0] != 0)\n",
    "print('Number of non-zero features in final model: {}'.format(non_zero))\n",
    "\n",
    "non_zero_coefs = coefficients_mice3.query('coefficient != 0')\n",
    "coef_order = non_zero_coefs.abs().sort_values('coefficient').tail(30).index\n",
    "\n",
    "_, ax = plt.subplots(figsize=(6, 8))\n",
    "non_zero_coefs.loc[coef_order].plot.barh(ax = ax, legend = False)\n",
    "ax.set_xlabel('coefficient')\n",
    "ax.grid(True)"
   ]
  },
  {
   "cell_type": "code",
   "execution_count": 265,
   "id": "e3dbeadf",
   "metadata": {},
   "outputs": [],
   "source": [
    "coefficients_mice3_df = (\n",
    "    coefficients_mice3\n",
    "    .reset_index()\n",
    "    .rename(columns = {'index':'variable'}))"
   ]
  },
  {
   "cell_type": "code",
   "execution_count": 266,
   "id": "e14a4aad",
   "metadata": {},
   "outputs": [],
   "source": [
    "coefficients_mice = coefficients_mice.append(coefficients_mice3_df, ignore_index = True)"
   ]
  },
  {
   "cell_type": "code",
   "execution_count": 267,
   "id": "f5955c5e",
   "metadata": {},
   "outputs": [],
   "source": [
    "coefficients_mice.to_csv('coefficients_mice.csv', index = False, header = True)"
   ]
  },
  {
   "cell_type": "markdown",
   "id": "5a80f86c",
   "metadata": {},
   "source": [
    "### 3.5 Model 5"
   ]
  },
  {
   "cell_type": "markdown",
   "id": "366a8627",
   "metadata": {},
   "source": [
    "#### Preprocessing"
   ]
  },
  {
   "cell_type": "code",
   "execution_count": 268,
   "id": "0ec8ff20",
   "metadata": {},
   "outputs": [],
   "source": [
    "train_mice4 = pd.read_csv('mice_tr4.csv', index_col = 'PatientID')"
   ]
  },
  {
   "cell_type": "code",
   "execution_count": 269,
   "id": "d2a896c4",
   "metadata": {},
   "outputs": [
    {
     "data": {
      "text/plain": [
       "(15141, 197)"
      ]
     },
     "execution_count": 271,
     "metadata": {},
     "output_type": "execute_result"
    }
   ],
   "source": [
    "train_mice4.shape"
   ]
  },
  {
   "cell_type": "code",
   "execution_count": 270,
   "id": "9c8fb463",
   "metadata": {},
   "outputs": [
    {
     "data": {
      "text/plain": [
       "0"
      ]
     },
     "execution_count": 272,
     "metadata": {},
     "output_type": "execute_result"
    }
   ],
   "source": [
    "train_mice4.isna().sum().sum()"
   ]
  },
  {
   "cell_type": "code",
   "execution_count": 271,
   "id": "e5cf4013",
   "metadata": {},
   "outputs": [],
   "source": [
    "train_mice4 = train_mice4.drop(columns = mice_drop)"
   ]
  },
  {
   "cell_type": "code",
   "execution_count": 272,
   "id": "151d1069",
   "metadata": {},
   "outputs": [
    {
     "name": "stdout",
     "output_type": "stream",
     "text": [
      "(15141, 155)\n"
     ]
    }
   ],
   "source": [
    "print(train_mice4.shape)"
   ]
  },
  {
   "cell_type": "code",
   "execution_count": 273,
   "id": "031d2ea2",
   "metadata": {},
   "outputs": [],
   "source": [
    "train_mice4['ecog_na'] = np.where(train_mice4.index.isin(train.query('ecog_diagnosis == \"unknown\"').PatientID), 1, 0)\n",
    "train_mice4['stage_na'] = np.where(train_mice4.index.isin(train.query('stage == \"unknown\"').PatientID), 1, 0)"
   ]
  },
  {
   "cell_type": "code",
   "execution_count": 274,
   "id": "fe360026",
   "metadata": {},
   "outputs": [
    {
     "data": {
      "text/plain": [
       "['Gender',\n",
       " 'race',\n",
       " 'ethnicity',\n",
       " 'p_type',\n",
       " 'NStage',\n",
       " 'MStage',\n",
       " 'Histology',\n",
       " 'GleasonScore',\n",
       " 'stage',\n",
       " 'met_year',\n",
       " 'brca_status',\n",
       " 'ecog_diagnosis',\n",
       " 'prim_treatment']"
      ]
     },
     "execution_count": 276,
     "metadata": {},
     "output_type": "execute_result"
    }
   ],
   "source": [
    "for x in list(to_be_categorical):\n",
    "    train_mice4[x] = train_mice4[x].astype('category')\n",
    "    \n",
    "list(train_mice4.select_dtypes(include = ['category']).columns)"
   ]
  },
  {
   "cell_type": "code",
   "execution_count": 275,
   "id": "4f10111f",
   "metadata": {},
   "outputs": [],
   "source": [
    "train_mice4['death_status'] = train_mice4['death_status'].astype('bool')"
   ]
  },
  {
   "cell_type": "code",
   "execution_count": 276,
   "id": "d81b8506",
   "metadata": {},
   "outputs": [],
   "source": [
    "val_mice4 = train_mice4[train_mice4.index.isin(val_IDs['PatientID'])]\n",
    "\n",
    "sub_train_mice4 = train_mice4[~train_mice4.index.isin(val_IDs['PatientID'])]"
   ]
  },
  {
   "cell_type": "code",
   "execution_count": 277,
   "id": "fa3bfea8",
   "metadata": {},
   "outputs": [
    {
     "name": "stdout",
     "output_type": "stream",
     "text": [
      "(15141, 157)\n",
      "(11355, 157)\n",
      "(3786, 157)\n"
     ]
    }
   ],
   "source": [
    "print(train_mice4.shape)\n",
    "print(sub_train_mice4.shape)\n",
    "print(val_mice4.shape)"
   ]
  },
  {
   "cell_type": "code",
   "execution_count": 278,
   "id": "42e9aa96",
   "metadata": {},
   "outputs": [],
   "source": [
    "train_mice4_x = train_mice4.drop(columns = ['death_status', 'timerisk_activity'])\n",
    "\n",
    "sub_train_mice4_x = sub_train_mice4.drop(columns = ['death_status', 'timerisk_activity'])\n",
    "\n",
    "val_mice4_x = val_mice4.drop(columns = ['death_status', 'timerisk_activity'])"
   ]
  },
  {
   "cell_type": "code",
   "execution_count": 279,
   "id": "ac9dc65d",
   "metadata": {},
   "outputs": [
    {
     "name": "stdout",
     "output_type": "stream",
     "text": [
      "(15141, 155)\n",
      "(11355, 155)\n",
      "(3786, 155)\n"
     ]
    }
   ],
   "source": [
    "print(train_mice4_x.shape)\n",
    "print(sub_train_mice4_x.shape)\n",
    "print(val_mice4_x.shape)"
   ]
  },
  {
   "cell_type": "markdown",
   "id": "74333cc7",
   "metadata": {},
   "source": [
    "#### Hyperparameter tuning"
   ]
  },
  {
   "cell_type": "code",
   "execution_count": 280,
   "id": "7f9e6f10",
   "metadata": {},
   "outputs": [
    {
     "name": "stdout",
     "output_type": "stream",
     "text": [
      "      Iter       Train Loss      OOB Improve   Remaining Time \n",
      "         1       35807.7097           6.5245           39.04m\n",
      "         2       36196.4851           7.0497           38.92m\n",
      "         3       36366.4255           7.1326           38.79m\n",
      "         4       35971.2535           6.9753           38.75m\n",
      "         5       36381.4664           5.9424           38.72m\n",
      "         6       36010.0489           6.0439           38.67m\n",
      "         7       35781.1577           5.9057           38.65m\n",
      "         8       35879.8236           5.8503           38.62m\n",
      "         9       35515.1429           5.8315           38.58m\n",
      "        10       35860.1549           5.1818           38.56m\n",
      "        20       35499.9370           4.4047           38.28m\n",
      "        30       35661.1246           3.2849           38.00m\n",
      "        40       35052.1898           2.2575           37.74m\n",
      "        50       35332.4019           2.0624           37.46m\n",
      "        60       35024.3729           1.4295           37.19m\n",
      "        70       35237.0305           1.0477           36.94m\n",
      "        80       35296.1746           0.7596           36.66m\n",
      "        90       35174.2223           0.9220           36.41m\n",
      "       100       34776.6494           0.7786           36.14m\n",
      "       200       34792.0691          -0.3640           33.54m\n",
      "       300       34695.0474          -0.0422           30.96m\n",
      "       400       34235.5293          -0.1104           28.38m\n",
      "       500       34560.2145          -0.1966           25.80m\n",
      "       600       34115.2012          -0.2605           23.22m\n",
      "       700       34050.4857          -0.0936           20.64m\n",
      "       800       33782.3024          -0.0942           18.06m\n",
      "       900       33952.5785          -0.1474           15.48m\n",
      "      1000       33938.1755          -0.2015           12.90m\n"
     ]
    },
    {
     "data": {
      "text/plain": [
       "GradientBoostingSurvivalAnalysis(learning_rate=0.05, n_estimators=1500,\n",
       "                                 random_state=42, subsample=0.75, verbose=1)"
      ]
     },
     "execution_count": 282,
     "metadata": {},
     "output_type": "execute_result"
    }
   ],
   "source": [
    "sub_train_mice4_xt = preprocessor_red.fit_transform(sub_train_mice4_x)\n",
    "val_mice4_xt = preprocessor_red.transform(val_mice4_x)\n",
    "\n",
    "gbm_mice4_exp = GradientBoostingSurvivalAnalysis(n_estimators = 1500,\n",
    "                                                 learning_rate = 0.05,\n",
    "                                                 max_depth = 3,\n",
    "                                                 subsample = 0.75,\n",
    "                                                 verbose = 1,\n",
    "                                                 random_state = 42)\n",
    "\n",
    "gbm_mice4_exp.fit(sub_train_mice4_xt, sub_train_y)"
   ]
  },
  {
   "cell_type": "code",
   "execution_count": 281,
   "id": "46177f72",
   "metadata": {},
   "outputs": [],
   "source": [
    "gbm4_staged_auc = [cumulative_dynamic_auc(sub_train_y, val_y, risk_score, 730)[0][0] for \n",
    "                   risk_score in gbm_mice4_exp.staged_predict(val_mice4_xt)]"
   ]
  },
  {
   "cell_type": "code",
   "execution_count": 282,
   "id": "29cfa706",
   "metadata": {},
   "outputs": [],
   "source": [
    "gbm4_staged_auc_tr = [cumulative_dynamic_auc(sub_train_y, sub_train_y, risk_score, 730)[0][0] for \n",
    "                      risk_score in gbm_mice4_exp.staged_predict(sub_train_mice4_xt)]"
   ]
  },
  {
   "cell_type": "code",
   "execution_count": 283,
   "id": "3c7ab44d",
   "metadata": {},
   "outputs": [
    {
     "data": {
      "image/png": "[encoded data removed]",
      "text/plain": [
       "<Figure size 432x288 with 1 Axes>"
      ]
     },
     "metadata": {
      "needs_background": "light"
     },
     "output_type": "display_data"
    }
   ],
   "source": [
    "fig = plt.figure()\n",
    "ax = fig.add_subplot(1, 1, 1)\n",
    "\n",
    "x = range(len(gbm4_staged_auc))\n",
    "plt.plot(x, gbm4_staged_auc, color = 'blue', label = 'validation')\n",
    "plt.plot(x, gbm4_staged_auc_tr, color = 'red', label = 'training')\n",
    "plt.legend(loc = 'lower right')\n",
    "\n",
    "plt.xlabel(\"n_estimators\")\n",
    "plt.ylabel(\"AUC at 2 years\")\n",
    "plt.title('Gradient boosting model learning curve for mice4')\n",
    "\n",
    "plt.show()"
   ]
  },
  {
   "cell_type": "code",
   "execution_count": 284,
   "id": "13b3e6c8",
   "metadata": {},
   "outputs": [],
   "source": [
    "# Average AUC for every 25 additional trees. \n",
    "mean_auc_list = []\n",
    "for x in np.arange(0, len(gbm4_staged_auc), 25):\n",
    "    mean_auc_list.append(np.mean(gbm4_staged_auc[x:x+24]))"
   ]
  },
  {
   "cell_type": "code",
   "execution_count": 285,
   "id": "09dd42f6",
   "metadata": {},
   "outputs": [
    {
     "name": "stdout",
     "output_type": "stream",
     "text": [
      "Number of trees where 2 year AUC on validation dataset beings to downgrade: 825\n",
      "Validation dataset AUC before degrading: 0.786275596991785\n",
      "Training dataset AUC before degrading: 0.8294951771096107\n"
     ]
    }
   ],
   "source": [
    "print('Number of trees where 2 year AUC on validation dataset beings to downgrade:', np.where(np.diff(mean_auc_list) < 0)[0][0]*25)\n",
    "print('Validation dataset AUC before degrading:', gbm4_staged_auc[np.where(np.diff(mean_auc_list) < 0)[0][0]*25])\n",
    "print('Training dataset AUC before degrading:', gbm4_staged_auc_tr[np.where(np.diff(mean_auc_list) < 0)[0][0]*25])"
   ]
  },
  {
   "cell_type": "markdown",
   "id": "613f2abf",
   "metadata": {},
   "source": [
    "#### Model building and performance assessment "
   ]
  },
  {
   "cell_type": "code",
   "execution_count": 286,
   "id": "71bb2e85",
   "metadata": {},
   "outputs": [
    {
     "name": "stdout",
     "output_type": "stream",
     "text": [
      "(15141, 155)\n",
      "(15141,)\n"
     ]
    }
   ],
   "source": [
    "print(train_mice4_x.shape)\n",
    "print(train_y.shape)"
   ]
  },
  {
   "cell_type": "code",
   "execution_count": 287,
   "id": "afacbc76",
   "metadata": {},
   "outputs": [
    {
     "name": "stdout",
     "output_type": "stream",
     "text": [
      "      Iter       Train Loss      OOB Improve   Remaining Time \n",
      "         1       49608.7783          10.2998           38.91m\n",
      "         2       49571.3423          10.3547           38.97m\n",
      "         3       49389.7772           9.5671           38.92m\n",
      "         4       49570.5795           8.9290           38.88m\n",
      "         5       49469.7670           8.8065           38.81m\n",
      "         6       49247.4824           8.6734           38.74m\n",
      "         7       49457.6894           8.1102           38.71m\n",
      "         8       49584.2477           7.2273           38.65m\n",
      "         9       49224.5109           7.5403           38.61m\n",
      "        10       49500.7029           7.4778           38.56m\n",
      "        20       49118.8191           5.3733           38.08m\n",
      "        30       48931.8250           4.0294           37.62m\n",
      "        40       48711.5944           3.4775           37.13m\n",
      "        50       48699.8847           2.5901           36.65m\n",
      "        60       48752.5353           1.8768           36.17m\n",
      "        70       48646.7777           1.5880           35.70m\n",
      "        80       48531.4653           1.8576           35.22m\n",
      "        90       48165.6769           1.2013           34.75m\n",
      "       100       48187.0823           0.9874           34.28m\n",
      "       200       48105.7174           0.2088           29.54m\n",
      "       300       47713.3029          -0.0859           24.80m\n",
      "       400       47526.4366          -0.0706           20.07m\n",
      "       500       47538.8069          -0.0779           15.36m\n",
      "       600       47393.8573           0.0770           10.63m\n",
      "       700       47542.1608          -0.0887            5.91m\n",
      "       800       47167.5022          -0.1695            1.18m\n"
     ]
    },
    {
     "data": {
      "text/plain": [
       "Pipeline(steps=[('columntransformer',\n",
       "                 ColumnTransformer(remainder='passthrough',\n",
       "                                   transformers=[('num',\n",
       "                                                  Pipeline(steps=[('std_scaler',\n",
       "                                                                   StandardScaler())]),\n",
       "                                                  ['age', 'PSADiagnosis',\n",
       "                                                   'PSAMetDiagnosis',\n",
       "                                                   'delta_met_diagnosis',\n",
       "                                                   'crpc_time', 'weight_diag',\n",
       "                                                   'bmi_diag',\n",
       "                                                   'weight_pct_change',\n",
       "                                                   'weight_slope',\n",
       "                                                   'albumin_diag', 'alp_diag',\n",
       "                                                   'alt_diag', 'ast_diag',\n",
       "                                                   'bicarb_diag', 'bun...\n",
       "                                                 ('cat',\n",
       "                                                  OneHotEncoder(handle_unknown='ignore'),\n",
       "                                                  ['Gender', 'race',\n",
       "                                                   'ethnicity', 'p_type',\n",
       "                                                   'NStage', 'MStage',\n",
       "                                                   'Histology', 'GleasonScore',\n",
       "                                                   'stage', 'met_year',\n",
       "                                                   'brca_status',\n",
       "                                                   'ecog_diagnosis',\n",
       "                                                   'prim_treatment'])])),\n",
       "                ('gradientboostingsurvivalanalysis',\n",
       "                 GradientBoostingSurvivalAnalysis(learning_rate=0.05,\n",
       "                                                  n_estimators=825,\n",
       "                                                  random_state=42,\n",
       "                                                  subsample=0.75, verbose=1))])"
      ]
     },
     "execution_count": 289,
     "metadata": {},
     "output_type": "execute_result"
    }
   ],
   "source": [
    "gbm_mice4 = make_pipeline(preprocessor_red, GradientBoostingSurvivalAnalysis(n_estimators = np.where(np.diff(mean_auc_list) < 0)[0][0]*25,\n",
    "                                                                             learning_rate = 0.05,\n",
    "                                                                             max_depth = 3,\n",
    "                                                                             subsample = 0.75,\n",
    "                                                                             verbose = 1,\n",
    "                                                                             random_state = 42))\n",
    "\n",
    "gbm_mice4.fit(train_mice4_x, train_y)"
   ]
  },
  {
   "cell_type": "code",
   "execution_count": 288,
   "id": "8739bf2c",
   "metadata": {},
   "outputs": [
    {
     "data": {
      "text/plain": [
       "['gbm_mice4.joblib']"
      ]
     },
     "execution_count": 290,
     "metadata": {},
     "output_type": "execute_result"
    }
   ],
   "source": [
    "dump(gbm_mice4, 'gbm_mice4.joblib') "
   ]
  },
  {
   "cell_type": "code",
   "execution_count": 289,
   "id": "8f39997b",
   "metadata": {},
   "outputs": [
    {
     "name": "stdout",
     "output_type": "stream",
     "text": [
      "Test set AUC at 2 years: 0.7727751322996321\n"
     ]
    }
   ],
   "source": [
    "gbm_risk_scores_te = gbm_mice4.predict(test_mice_x)\n",
    "gbm_auc_te = cumulative_dynamic_auc(train_y, test_y, gbm_risk_scores_te, 730)[0][0]\n",
    "print('Test set AUC at 2 years:', gbm_auc_te)"
   ]
  },
  {
   "cell_type": "code",
   "execution_count": 290,
   "id": "c439e8bc",
   "metadata": {},
   "outputs": [
    {
     "name": "stdout",
     "output_type": "stream",
     "text": [
      "Training set AUC at 2 years: 0.8216853425702256\n"
     ]
    }
   ],
   "source": [
    "gbm_risk_scores_tr = gbm_mice4.predict(train_mice4_x)\n",
    "gbm_auc_tr = cumulative_dynamic_auc(train_y, train_y, gbm_risk_scores_tr, 730)[0][0]\n",
    "print('Training set AUC at 2 years:', gbm_auc_tr)"
   ]
  },
  {
   "cell_type": "code",
   "execution_count": 291,
   "id": "f8804f20",
   "metadata": {},
   "outputs": [],
   "source": [
    "# Bootstrap 10000 2 yr AUCs for test set \n",
    "n_bootstraps = 10000\n",
    "rng_seed = 42 \n",
    "bootstrapped_scores_te = []\n",
    "\n",
    "rng = np.random.RandomState(rng_seed)\n",
    "for i in range(n_bootstraps):\n",
    "    indices = rng.randint(0, len(gbm_risk_scores_te), len(gbm_risk_scores_te))\n",
    "    auc_yr = cumulative_dynamic_auc(train_y, test_y[indices], gbm_risk_scores_te[indices], 730)[0][0]\n",
    "    bootstrapped_scores_te.append(auc_yr)"
   ]
  },
  {
   "cell_type": "code",
   "execution_count": 292,
   "id": "30a2e982",
   "metadata": {},
   "outputs": [
    {
     "name": "stdout",
     "output_type": "stream",
     "text": [
      "Test set AUC standard error: 0.004053691786358704\n"
     ]
    }
   ],
   "source": [
    "# Standard error of mean for test set AUC\n",
    "sorted_scores_te = np.array(bootstrapped_scores_te)\n",
    "sorted_scores_te.sort()\n",
    "\n",
    "conf_lower_te = sorted_scores_te[int(0.025 * len(sorted_scores_te))]\n",
    "conf_upper_te = sorted_scores_te[int(0.975 * len(sorted_scores_te))]\n",
    "\n",
    "standard_error_te = (conf_upper_te - conf_lower_te) / 3.92\n",
    "print('Test set AUC standard error:', standard_error_te)"
   ]
  },
  {
   "cell_type": "code",
   "execution_count": 293,
   "id": "e40aa0b1",
   "metadata": {},
   "outputs": [],
   "source": [
    "# Bootstrap 10000 2 yr AUCs for train set \n",
    "n_bootstraps = 10000\n",
    "rng_seed = 42 \n",
    "bootstrapped_scores_tr = []\n",
    "\n",
    "rng = np.random.RandomState(rng_seed)\n",
    "for i in range(n_bootstraps):\n",
    "    indices = rng.randint(0, len(gbm_risk_scores_tr), len(gbm_risk_scores_tr))\n",
    "    auc_yr = cumulative_dynamic_auc(train_y, train_y[indices], gbm_risk_scores_tr[indices], 730)[0][0]\n",
    "    bootstrapped_scores_tr.append(auc_yr)"
   ]
  },
  {
   "cell_type": "code",
   "execution_count": 294,
   "id": "a019c912",
   "metadata": {},
   "outputs": [
    {
     "name": "stdout",
     "output_type": "stream",
     "text": [
      "Training set AUC standard error 0.0041256639988028\n"
     ]
    }
   ],
   "source": [
    "# Standard error of mean for train set AUC\n",
    "sorted_scores_tr = np.array(bootstrapped_scores_tr)\n",
    "sorted_scores_tr.sort()\n",
    "\n",
    "conf_lower_tr = sorted_scores_tr[int(0.025 * len(sorted_scores_tr))]\n",
    "conf_upper_tr = sorted_scores_tr[int(0.975 * len(sorted_scores_tr))]\n",
    "\n",
    "standard_error_tr = (conf_upper_tr - conf_lower_tr) / 3.92\n",
    "print('Training set AUC standard error', standard_error_tr)"
   ]
  },
  {
   "cell_type": "code",
   "execution_count": 295,
   "id": "7c2da7a5",
   "metadata": {},
   "outputs": [],
   "source": [
    "mice_auc_data = {'mice_dataset': 'mice_4',\n",
    "                 'auc_2yr_te': gbm_auc_te,\n",
    "                 'sem_te': standard_error_te,\n",
    "                 'auc_2yr_tr': gbm_auc_tr,\n",
    "                 'sem_tr': standard_error_tr}\n",
    "\n",
    "mice_auc_df = mice_auc_df.append(mice_auc_data, ignore_index = True)"
   ]
  },
  {
   "cell_type": "code",
   "execution_count": 296,
   "id": "d895d033",
   "metadata": {},
   "outputs": [
    {
     "data": {
      "text/html": [
       "<div>\n",
       "<style scoped>\n",
       "    .dataframe tbody tr th:only-of-type {\n",
       "        vertical-align: middle;\n",
       "    }\n",
       "\n",
       "    .dataframe tbody tr th {\n",
       "        vertical-align: top;\n",
       "    }\n",
       "\n",
       "    .dataframe thead th {\n",
       "        text-align: right;\n",
       "    }\n",
       "</style>\n",
       "<table border=\"1\" class=\"dataframe\">\n",
       "  <thead>\n",
       "    <tr style=\"text-align: right;\">\n",
       "      <th></th>\n",
       "      <th>mice_dataset</th>\n",
       "      <th>auc_2yr_te</th>\n",
       "      <th>sem_te</th>\n",
       "      <th>auc_2yr_tr</th>\n",
       "      <th>sem_tr</th>\n",
       "    </tr>\n",
       "  </thead>\n",
       "  <tbody>\n",
       "    <tr>\n",
       "      <th>0</th>\n",
       "      <td>mice_0</td>\n",
       "      <td>0.773997</td>\n",
       "      <td>0.004093</td>\n",
       "      <td>0.825684</td>\n",
       "      <td>0.004131</td>\n",
       "    </tr>\n",
       "    <tr>\n",
       "      <th>1</th>\n",
       "      <td>mice_1</td>\n",
       "      <td>0.773070</td>\n",
       "      <td>0.004101</td>\n",
       "      <td>0.816957</td>\n",
       "      <td>0.004143</td>\n",
       "    </tr>\n",
       "    <tr>\n",
       "      <th>2</th>\n",
       "      <td>mice_2</td>\n",
       "      <td>0.771878</td>\n",
       "      <td>0.004110</td>\n",
       "      <td>0.807681</td>\n",
       "      <td>0.004320</td>\n",
       "    </tr>\n",
       "    <tr>\n",
       "      <th>3</th>\n",
       "      <td>mice_3</td>\n",
       "      <td>0.772259</td>\n",
       "      <td>0.004097</td>\n",
       "      <td>0.816621</td>\n",
       "      <td>0.004201</td>\n",
       "    </tr>\n",
       "    <tr>\n",
       "      <th>4</th>\n",
       "      <td>mice_4</td>\n",
       "      <td>0.772775</td>\n",
       "      <td>0.004054</td>\n",
       "      <td>0.821685</td>\n",
       "      <td>0.004126</td>\n",
       "    </tr>\n",
       "  </tbody>\n",
       "</table>\n",
       "</div>"
      ],
      "text/plain": [
       "  mice_dataset  auc_2yr_te    sem_te  auc_2yr_tr    sem_tr\n",
       "0       mice_0    0.773997  0.004093    0.825684  0.004131\n",
       "1       mice_1    0.773070  0.004101    0.816957  0.004143\n",
       "2       mice_2    0.771878  0.004110    0.807681  0.004320\n",
       "3       mice_3    0.772259  0.004097    0.816621  0.004201\n",
       "4       mice_4    0.772775  0.004054    0.821685  0.004126"
      ]
     },
     "execution_count": 298,
     "metadata": {},
     "output_type": "execute_result"
    }
   ],
   "source": [
    "mice_auc_df "
   ]
  },
  {
   "cell_type": "code",
   "execution_count": 297,
   "id": "02dc3fd8",
   "metadata": {},
   "outputs": [],
   "source": [
    "mice_auc_df.to_csv('mice_auc_df.csv', index = False, header = True)"
   ]
  },
  {
   "cell_type": "code",
   "execution_count": 298,
   "id": "4f192e9d",
   "metadata": {},
   "outputs": [],
   "source": [
    "times = np.arange(30, 1810, 30)\n",
    "mice4_auc_over5 = cumulative_dynamic_auc(train_y, test_y, gbm_risk_scores_te, times)[0]\n",
    "\n",
    "times_data = {}\n",
    "values = mice4_auc_over5\n",
    "time_names = []\n",
    "\n",
    "for x in range(len(times)):\n",
    "    time_names.append('time_'+str(times[x]))\n",
    "\n",
    "for i in range(len(time_names)):\n",
    "    times_data[time_names[i]] = values[i]\n",
    "    \n",
    "mice4_auc_over5_df = pd.DataFrame(times_data, index = ['mice_4'])\n",
    "\n",
    "mice_auc_over5 = mice_auc_over5.append(mice4_auc_over5_df, ignore_index = False)"
   ]
  },
  {
   "cell_type": "code",
   "execution_count": 299,
   "id": "20390dc5",
   "metadata": {},
   "outputs": [
    {
     "data": {
      "text/html": [
       "<div>\n",
       "<style scoped>\n",
       "    .dataframe tbody tr th:only-of-type {\n",
       "        vertical-align: middle;\n",
       "    }\n",
       "\n",
       "    .dataframe tbody tr th {\n",
       "        vertical-align: top;\n",
       "    }\n",
       "\n",
       "    .dataframe thead th {\n",
       "        text-align: right;\n",
       "    }\n",
       "</style>\n",
       "<table border=\"1\" class=\"dataframe\">\n",
       "  <thead>\n",
       "    <tr style=\"text-align: right;\">\n",
       "      <th></th>\n",
       "      <th>time_30</th>\n",
       "      <th>time_60</th>\n",
       "      <th>time_90</th>\n",
       "      <th>time_120</th>\n",
       "      <th>time_150</th>\n",
       "      <th>time_180</th>\n",
       "      <th>time_210</th>\n",
       "      <th>time_240</th>\n",
       "      <th>time_270</th>\n",
       "      <th>time_300</th>\n",
       "      <th>...</th>\n",
       "      <th>time_1530</th>\n",
       "      <th>time_1560</th>\n",
       "      <th>time_1590</th>\n",
       "      <th>time_1620</th>\n",
       "      <th>time_1650</th>\n",
       "      <th>time_1680</th>\n",
       "      <th>time_1710</th>\n",
       "      <th>time_1740</th>\n",
       "      <th>time_1770</th>\n",
       "      <th>time_1800</th>\n",
       "    </tr>\n",
       "  </thead>\n",
       "  <tbody>\n",
       "    <tr>\n",
       "      <th>mice_0</th>\n",
       "      <td>0.928904</td>\n",
       "      <td>0.864093</td>\n",
       "      <td>0.840115</td>\n",
       "      <td>0.836288</td>\n",
       "      <td>0.845611</td>\n",
       "      <td>0.837766</td>\n",
       "      <td>0.820487</td>\n",
       "      <td>0.828629</td>\n",
       "      <td>0.822264</td>\n",
       "      <td>0.819491</td>\n",
       "      <td>...</td>\n",
       "      <td>0.762153</td>\n",
       "      <td>0.760338</td>\n",
       "      <td>0.760200</td>\n",
       "      <td>0.762227</td>\n",
       "      <td>0.762661</td>\n",
       "      <td>0.761704</td>\n",
       "      <td>0.765279</td>\n",
       "      <td>0.764763</td>\n",
       "      <td>0.769232</td>\n",
       "      <td>0.766055</td>\n",
       "    </tr>\n",
       "    <tr>\n",
       "      <th>mice_1</th>\n",
       "      <td>0.938534</td>\n",
       "      <td>0.855832</td>\n",
       "      <td>0.839844</td>\n",
       "      <td>0.839509</td>\n",
       "      <td>0.848354</td>\n",
       "      <td>0.838090</td>\n",
       "      <td>0.820419</td>\n",
       "      <td>0.827062</td>\n",
       "      <td>0.819228</td>\n",
       "      <td>0.817008</td>\n",
       "      <td>...</td>\n",
       "      <td>0.764224</td>\n",
       "      <td>0.762176</td>\n",
       "      <td>0.761930</td>\n",
       "      <td>0.763859</td>\n",
       "      <td>0.764817</td>\n",
       "      <td>0.764278</td>\n",
       "      <td>0.768409</td>\n",
       "      <td>0.768135</td>\n",
       "      <td>0.773135</td>\n",
       "      <td>0.769328</td>\n",
       "    </tr>\n",
       "    <tr>\n",
       "      <th>mice_2</th>\n",
       "      <td>0.937258</td>\n",
       "      <td>0.857651</td>\n",
       "      <td>0.836417</td>\n",
       "      <td>0.834835</td>\n",
       "      <td>0.844006</td>\n",
       "      <td>0.833931</td>\n",
       "      <td>0.816445</td>\n",
       "      <td>0.823575</td>\n",
       "      <td>0.816348</td>\n",
       "      <td>0.813052</td>\n",
       "      <td>...</td>\n",
       "      <td>0.764569</td>\n",
       "      <td>0.762767</td>\n",
       "      <td>0.762684</td>\n",
       "      <td>0.764612</td>\n",
       "      <td>0.765368</td>\n",
       "      <td>0.764845</td>\n",
       "      <td>0.769258</td>\n",
       "      <td>0.768813</td>\n",
       "      <td>0.773587</td>\n",
       "      <td>0.770271</td>\n",
       "    </tr>\n",
       "    <tr>\n",
       "      <th>mice_3</th>\n",
       "      <td>0.920580</td>\n",
       "      <td>0.855594</td>\n",
       "      <td>0.836459</td>\n",
       "      <td>0.834208</td>\n",
       "      <td>0.844403</td>\n",
       "      <td>0.836067</td>\n",
       "      <td>0.820205</td>\n",
       "      <td>0.826476</td>\n",
       "      <td>0.819472</td>\n",
       "      <td>0.815705</td>\n",
       "      <td>...</td>\n",
       "      <td>0.764346</td>\n",
       "      <td>0.762434</td>\n",
       "      <td>0.761962</td>\n",
       "      <td>0.764132</td>\n",
       "      <td>0.764698</td>\n",
       "      <td>0.763869</td>\n",
       "      <td>0.768060</td>\n",
       "      <td>0.768031</td>\n",
       "      <td>0.772544</td>\n",
       "      <td>0.769228</td>\n",
       "    </tr>\n",
       "    <tr>\n",
       "      <th>mice_4</th>\n",
       "      <td>0.941148</td>\n",
       "      <td>0.864575</td>\n",
       "      <td>0.842846</td>\n",
       "      <td>0.838960</td>\n",
       "      <td>0.847921</td>\n",
       "      <td>0.840051</td>\n",
       "      <td>0.821698</td>\n",
       "      <td>0.827963</td>\n",
       "      <td>0.821445</td>\n",
       "      <td>0.818379</td>\n",
       "      <td>...</td>\n",
       "      <td>0.766003</td>\n",
       "      <td>0.763590</td>\n",
       "      <td>0.763053</td>\n",
       "      <td>0.765207</td>\n",
       "      <td>0.765897</td>\n",
       "      <td>0.764887</td>\n",
       "      <td>0.768636</td>\n",
       "      <td>0.768333</td>\n",
       "      <td>0.773088</td>\n",
       "      <td>0.770166</td>\n",
       "    </tr>\n",
       "  </tbody>\n",
       "</table>\n",
       "<p>5 rows × 60 columns</p>\n",
       "</div>"
      ],
      "text/plain": [
       "         time_30   time_60   time_90  time_120  time_150  time_180  time_210  \\\n",
       "mice_0  0.928904  0.864093  0.840115  0.836288  0.845611  0.837766  0.820487   \n",
       "mice_1  0.938534  0.855832  0.839844  0.839509  0.848354  0.838090  0.820419   \n",
       "mice_2  0.937258  0.857651  0.836417  0.834835  0.844006  0.833931  0.816445   \n",
       "mice_3  0.920580  0.855594  0.836459  0.834208  0.844403  0.836067  0.820205   \n",
       "mice_4  0.941148  0.864575  0.842846  0.838960  0.847921  0.840051  0.821698   \n",
       "\n",
       "        time_240  time_270  time_300  ...  time_1530  time_1560  time_1590  \\\n",
       "mice_0  0.828629  0.822264  0.819491  ...   0.762153   0.760338   0.760200   \n",
       "mice_1  0.827062  0.819228  0.817008  ...   0.764224   0.762176   0.761930   \n",
       "mice_2  0.823575  0.816348  0.813052  ...   0.764569   0.762767   0.762684   \n",
       "mice_3  0.826476  0.819472  0.815705  ...   0.764346   0.762434   0.761962   \n",
       "mice_4  0.827963  0.821445  0.818379  ...   0.766003   0.763590   0.763053   \n",
       "\n",
       "        time_1620  time_1650  time_1680  time_1710  time_1740  time_1770  \\\n",
       "mice_0   0.762227   0.762661   0.761704   0.765279   0.764763   0.769232   \n",
       "mice_1   0.763859   0.764817   0.764278   0.768409   0.768135   0.773135   \n",
       "mice_2   0.764612   0.765368   0.764845   0.769258   0.768813   0.773587   \n",
       "mice_3   0.764132   0.764698   0.763869   0.768060   0.768031   0.772544   \n",
       "mice_4   0.765207   0.765897   0.764887   0.768636   0.768333   0.773088   \n",
       "\n",
       "        time_1800  \n",
       "mice_0   0.766055  \n",
       "mice_1   0.769328  \n",
       "mice_2   0.770271  \n",
       "mice_3   0.769228  \n",
       "mice_4   0.770166  \n",
       "\n",
       "[5 rows x 60 columns]"
      ]
     },
     "execution_count": 301,
     "metadata": {},
     "output_type": "execute_result"
    }
   ],
   "source": [
    "mice_auc_over5 "
   ]
  },
  {
   "cell_type": "code",
   "execution_count": 300,
   "id": "e10fd8f2",
   "metadata": {},
   "outputs": [],
   "source": [
    "mice_auc_over5.to_csv('mice_auc_over5.csv', index = True, header = True)"
   ]
  },
  {
   "cell_type": "code",
   "execution_count": 301,
   "id": "3919d190",
   "metadata": {},
   "outputs": [],
   "source": [
    "# Variables passing through pipeline_rsf\n",
    "cat_encoder = list(preprocessor_red.transformers_[1][1].get_feature_names(categorical_features))\n",
    "pass_through = list(train_mice4_x.iloc[:, preprocessor_red.transformers_[2][2]].columns)\n",
    "attributes_gbm = numerical_features_red + cat_encoder + pass_through"
   ]
  },
  {
   "cell_type": "code",
   "execution_count": 302,
   "id": "dbf705bc",
   "metadata": {},
   "outputs": [
    {
     "name": "stdout",
     "output_type": "stream",
     "text": [
      "Total number of features: 200\n",
      "Number of non-zero features in final model: 182\n"
     ]
    },
    {
     "data": {
      "image/png": "[encoded data removed]",
      "text/plain": [
       "<Figure size 432x576 with 1 Axes>"
      ]
     },
     "metadata": {
      "needs_background": "light"
     },
     "output_type": "display_data"
    }
   ],
   "source": [
    "# Dataframe of coefficients for each variable \n",
    "coefficients_mice4 = pd.DataFrame(\n",
    "    gbm_mice4.named_steps['gradientboostingsurvivalanalysis'].feature_importances_,\n",
    "    index = attributes_gbm,\n",
    "    columns = ['coefficient']\n",
    ")\n",
    "\n",
    "print('Total number of features: {}'.format(len(attributes_gbm)))\n",
    "\n",
    "non_zero = np.sum(coefficients_mice4.iloc[:, 0] != 0)\n",
    "print('Number of non-zero features in final model: {}'.format(non_zero))\n",
    "\n",
    "non_zero_coefs = coefficients_mice4.query('coefficient != 0')\n",
    "coef_order = non_zero_coefs.abs().sort_values('coefficient').tail(30).index\n",
    "\n",
    "_, ax = plt.subplots(figsize=(6, 8))\n",
    "non_zero_coefs.loc[coef_order].plot.barh(ax = ax, legend = False)\n",
    "ax.set_xlabel('coefficient')\n",
    "ax.grid(True)"
   ]
  },
  {
   "cell_type": "code",
   "execution_count": 303,
   "id": "81b64798",
   "metadata": {},
   "outputs": [],
   "source": [
    "coefficients_mice4_df = (\n",
    "    coefficients_mice4\n",
    "    .reset_index()\n",
    "    .rename(columns = {'index':'variable'}))"
   ]
  },
  {
   "cell_type": "code",
   "execution_count": 304,
   "id": "f01aaa9a",
   "metadata": {},
   "outputs": [],
   "source": [
    "coefficients_mice = coefficients_mice.append(coefficients_mice4_df, ignore_index = True)"
   ]
  },
  {
   "cell_type": "code",
   "execution_count": 305,
   "id": "763aac86",
   "metadata": {},
   "outputs": [],
   "source": [
    "coefficients_mice.to_csv('coefficients_mice.csv', index = False, header = True)"
   ]
  },
  {
   "cell_type": "markdown",
   "id": "a9bddf83",
   "metadata": {},
   "source": [
    "### Part 4. Pooling results"
   ]
  },
  {
   "cell_type": "markdown",
   "id": "9c650224",
   "metadata": {},
   "source": [
    "#### 4.1 Pooling AUC"
   ]
  },
  {
   "cell_type": "code",
   "execution_count": 306,
   "id": "d83ecae1",
   "metadata": {},
   "outputs": [],
   "source": [
    "from math import sqrt, exp \n",
    "from scipy.stats import t"
   ]
  },
  {
   "cell_type": "markdown",
   "id": "f074b875",
   "metadata": {},
   "source": [
    "**Test and training AUCs will be pooled using Rubin’s rules. This is complicated by the fact that AUCs are bounded and thus not normally distributed. The AUCs will therefore be logit transformed to an unbounded scale, then Rubin's rules will be applied to these values, and finally they will be back-transformed into a final pool estimate.** "
   ]
  },
  {
   "cell_type": "code",
   "execution_count": 307,
   "id": "ac9fefbc",
   "metadata": {},
   "outputs": [],
   "source": [
    "# This function is translated from the R package: \"psfmi: Prediction Model Selection and Performance Evaluation in\n",
    "# Multiple Imputed Datasets\"\n",
    "\n",
    "def pool_auc(auc_arr, se_arr, iterations_n):\n",
    "    \n",
    "    # pooled SE using Rubin's rules \n",
    "    def rr_se(est, se, iterations_n):\n",
    "        m = iterations_n\n",
    "        w_auc = np.mean(np.square(se)) # within variance \n",
    "        b_auc = np.var(est) # between variance \n",
    "        tv_auc = w_auc + (1 + (1/m)) * b_auc # total vairance \n",
    "        se_total = sqrt(tv_auc)\n",
    "        r = (1 + (1/ m)) * (b_auc / w_auc)\n",
    "        v = (m - 1) * (1 + (1/r))**2\n",
    "        w = t.ppf(0.975, v) # Percent point function or inverse CDF with df = v\n",
    "        res = np.array([se_total, w])\n",
    "        return(res)\n",
    "    \n",
    "    # log transform\n",
    "    auc_log = np.log(auc_arr / (1-auc_arr))\n",
    "    se_log = se_arr / (auc_arr * (1-auc_arr))\n",
    "    \n",
    "    # input log transfomred auc and se to calculat RR's total se\n",
    "    se_total = rr_se(auc_log, se_log, iterations_n = iterations_n)\n",
    "    \n",
    "    # backtransform \n",
    "    inv_auc = exp(np.mean(auc_log)) / (1 + exp(np.mean(auc_log)))\n",
    "    inv_auc_upper = exp(np.mean(auc_log) + (se_total[1]*se_total[0])) / (1 + exp(np.mean(auc_log) + (se_total[1]*se_total[0])))\n",
    "    inv_auc_lower = exp(np.mean(auc_log) - (se_total[1]*se_total[0])) / (1 + exp(np.mean(auc_log) - (se_total[1]*se_total[0])))\n",
    "    sem = (inv_auc_upper - inv_auc_lower) / 3.92\n",
    "    auc_res = np.round(np.array([inv_auc_lower, inv_auc, inv_auc_upper, sem]), 6)\n",
    "    return(auc_res)"
   ]
  },
  {
   "cell_type": "code",
   "execution_count": 308,
   "id": "ca586790",
   "metadata": {},
   "outputs": [],
   "source": [
    "mice_auc_df = pd.read_csv('mice_auc_df.csv', dtype = {'auc_2yr_te': np.float64,\n",
    "                                                      'sem_te': np.float64,\n",
    "                                                      'auc_2yr_tr': np.float64,\n",
    "                                                      'sem_tr': np.float64})"
   ]
  },
  {
   "cell_type": "code",
   "execution_count": 309,
   "id": "9e759b29",
   "metadata": {},
   "outputs": [
    {
     "data": {
      "text/html": [
       "<div>\n",
       "<style scoped>\n",
       "    .dataframe tbody tr th:only-of-type {\n",
       "        vertical-align: middle;\n",
       "    }\n",
       "\n",
       "    .dataframe tbody tr th {\n",
       "        vertical-align: top;\n",
       "    }\n",
       "\n",
       "    .dataframe thead th {\n",
       "        text-align: right;\n",
       "    }\n",
       "</style>\n",
       "<table border=\"1\" class=\"dataframe\">\n",
       "  <thead>\n",
       "    <tr style=\"text-align: right;\">\n",
       "      <th></th>\n",
       "      <th>mice_dataset</th>\n",
       "      <th>auc_2yr_te</th>\n",
       "      <th>sem_te</th>\n",
       "      <th>auc_2yr_tr</th>\n",
       "      <th>sem_tr</th>\n",
       "    </tr>\n",
       "  </thead>\n",
       "  <tbody>\n",
       "    <tr>\n",
       "      <th>0</th>\n",
       "      <td>mice_0</td>\n",
       "      <td>0.773997</td>\n",
       "      <td>0.004093</td>\n",
       "      <td>0.825684</td>\n",
       "      <td>0.004131</td>\n",
       "    </tr>\n",
       "    <tr>\n",
       "      <th>1</th>\n",
       "      <td>mice_1</td>\n",
       "      <td>0.773070</td>\n",
       "      <td>0.004101</td>\n",
       "      <td>0.816957</td>\n",
       "      <td>0.004143</td>\n",
       "    </tr>\n",
       "    <tr>\n",
       "      <th>2</th>\n",
       "      <td>mice_2</td>\n",
       "      <td>0.771878</td>\n",
       "      <td>0.004110</td>\n",
       "      <td>0.807681</td>\n",
       "      <td>0.004320</td>\n",
       "    </tr>\n",
       "    <tr>\n",
       "      <th>3</th>\n",
       "      <td>mice_3</td>\n",
       "      <td>0.772259</td>\n",
       "      <td>0.004097</td>\n",
       "      <td>0.816621</td>\n",
       "      <td>0.004201</td>\n",
       "    </tr>\n",
       "    <tr>\n",
       "      <th>4</th>\n",
       "      <td>mice_4</td>\n",
       "      <td>0.772775</td>\n",
       "      <td>0.004054</td>\n",
       "      <td>0.821685</td>\n",
       "      <td>0.004126</td>\n",
       "    </tr>\n",
       "  </tbody>\n",
       "</table>\n",
       "</div>"
      ],
      "text/plain": [
       "  mice_dataset  auc_2yr_te    sem_te  auc_2yr_tr    sem_tr\n",
       "0       mice_0    0.773997  0.004093    0.825684  0.004131\n",
       "1       mice_1    0.773070  0.004101    0.816957  0.004143\n",
       "2       mice_2    0.771878  0.004110    0.807681  0.004320\n",
       "3       mice_3    0.772259  0.004097    0.816621  0.004201\n",
       "4       mice_4    0.772775  0.004054    0.821685  0.004126"
      ]
     },
     "execution_count": 311,
     "metadata": {},
     "output_type": "execute_result"
    }
   ],
   "source": [
    "mice_auc_df"
   ]
  },
  {
   "cell_type": "code",
   "execution_count": 310,
   "id": "07b8acda",
   "metadata": {},
   "outputs": [
    {
     "name": "stdout",
     "output_type": "stream",
     "text": [
      "[0.764521 0.772797 0.780866 0.00417 ]\n"
     ]
    }
   ],
   "source": [
    "pool_auc_test = pool_auc(mice_auc_df['auc_2yr_te'].values, \n",
    "                         mice_auc_df['sem_te'].values, \n",
    "                         5)\n",
    "\n",
    "print(pool_auc_test)"
   ]
  },
  {
   "cell_type": "code",
   "execution_count": 311,
   "id": "4c687208",
   "metadata": {},
   "outputs": [
    {
     "name": "stdout",
     "output_type": "stream",
     "text": [
      "[0.799101 0.817802 0.835122 0.009189]\n"
     ]
    }
   ],
   "source": [
    "pool_auc_train = pool_auc(mice_auc_df['auc_2yr_tr'].values,\n",
    "                          mice_auc_df['sem_tr'].values,\n",
    "                          5)\n",
    "\n",
    "print(pool_auc_train)"
   ]
  },
  {
   "cell_type": "code",
   "execution_count": 312,
   "id": "773b1224",
   "metadata": {},
   "outputs": [],
   "source": [
    "crude_auc_df = pd.read_csv('crude_auc_df.csv', dtype = {'auc_2yr_te': np.float64,\n",
    "                                                        'sem_te': np.float64,\n",
    "                                                        'auc_2yr_tr': np.float64,\n",
    "                                                        'sem_tr': np.float64})"
   ]
  },
  {
   "cell_type": "code",
   "execution_count": 313,
   "id": "d345782a",
   "metadata": {},
   "outputs": [
    {
     "data": {
      "text/html": [
       "<div>\n",
       "<style scoped>\n",
       "    .dataframe tbody tr th:only-of-type {\n",
       "        vertical-align: middle;\n",
       "    }\n",
       "\n",
       "    .dataframe tbody tr th {\n",
       "        vertical-align: top;\n",
       "    }\n",
       "\n",
       "    .dataframe thead th {\n",
       "        text-align: right;\n",
       "    }\n",
       "</style>\n",
       "<table border=\"1\" class=\"dataframe\">\n",
       "  <thead>\n",
       "    <tr style=\"text-align: right;\">\n",
       "      <th></th>\n",
       "      <th>model</th>\n",
       "      <th>auc_2yr_te</th>\n",
       "      <th>sem_te</th>\n",
       "      <th>auc_2yr_tr</th>\n",
       "      <th>sem_tr</th>\n",
       "    </tr>\n",
       "  </thead>\n",
       "  <tbody>\n",
       "    <tr>\n",
       "      <th>0</th>\n",
       "      <td>gbm_crude</td>\n",
       "      <td>0.759629</td>\n",
       "      <td>0.009420</td>\n",
       "      <td>0.806806</td>\n",
       "      <td>0.004366</td>\n",
       "    </tr>\n",
       "    <tr>\n",
       "      <th>1</th>\n",
       "      <td>rsf_crude</td>\n",
       "      <td>0.752487</td>\n",
       "      <td>0.009532</td>\n",
       "      <td>0.841038</td>\n",
       "      <td>0.003831</td>\n",
       "    </tr>\n",
       "    <tr>\n",
       "      <th>2</th>\n",
       "      <td>ridge_crude</td>\n",
       "      <td>0.740313</td>\n",
       "      <td>0.009651</td>\n",
       "      <td>0.745116</td>\n",
       "      <td>0.004924</td>\n",
       "    </tr>\n",
       "    <tr>\n",
       "      <th>3</th>\n",
       "      <td>lasso_crude</td>\n",
       "      <td>0.729804</td>\n",
       "      <td>0.009747</td>\n",
       "      <td>0.734107</td>\n",
       "      <td>0.005027</td>\n",
       "    </tr>\n",
       "    <tr>\n",
       "      <th>4</th>\n",
       "      <td>enet_crude</td>\n",
       "      <td>0.730636</td>\n",
       "      <td>0.009755</td>\n",
       "      <td>0.734755</td>\n",
       "      <td>0.005019</td>\n",
       "    </tr>\n",
       "    <tr>\n",
       "      <th>5</th>\n",
       "      <td>linear_svm_crude</td>\n",
       "      <td>0.741471</td>\n",
       "      <td>0.009656</td>\n",
       "      <td>0.748665</td>\n",
       "      <td>0.004838</td>\n",
       "    </tr>\n",
       "  </tbody>\n",
       "</table>\n",
       "</div>"
      ],
      "text/plain": [
       "              model  auc_2yr_te    sem_te  auc_2yr_tr    sem_tr\n",
       "0         gbm_crude    0.759629  0.009420    0.806806  0.004366\n",
       "1         rsf_crude    0.752487  0.009532    0.841038  0.003831\n",
       "2       ridge_crude    0.740313  0.009651    0.745116  0.004924\n",
       "3       lasso_crude    0.729804  0.009747    0.734107  0.005027\n",
       "4        enet_crude    0.730636  0.009755    0.734755  0.005019\n",
       "5  linear_svm_crude    0.741471  0.009656    0.748665  0.004838"
      ]
     },
     "execution_count": 315,
     "metadata": {},
     "output_type": "execute_result"
    }
   ],
   "source": [
    "crude_auc_df"
   ]
  },
  {
   "cell_type": "code",
   "execution_count": 314,
   "id": "12159026",
   "metadata": {},
   "outputs": [],
   "source": [
    "mice_auc_data = {'model': 'gbm_mice',\n",
    "                 'auc_2yr_te': pool_auc_test[1],\n",
    "                 'sem_te': pool_auc_test[3],\n",
    "                 'auc_2yr_tr': pool_auc_train[1],\n",
    "                 'sem_tr': pool_auc_train[3]}"
   ]
  },
  {
   "cell_type": "code",
   "execution_count": 315,
   "id": "d7bb1d7a",
   "metadata": {},
   "outputs": [],
   "source": [
    "ml_auc_df = crude_auc_df.append(mice_auc_data, ignore_index = True)"
   ]
  },
  {
   "cell_type": "code",
   "execution_count": 316,
   "id": "4d6c6140",
   "metadata": {},
   "outputs": [
    {
     "data": {
      "text/html": [
       "<div>\n",
       "<style scoped>\n",
       "    .dataframe tbody tr th:only-of-type {\n",
       "        vertical-align: middle;\n",
       "    }\n",
       "\n",
       "    .dataframe tbody tr th {\n",
       "        vertical-align: top;\n",
       "    }\n",
       "\n",
       "    .dataframe thead th {\n",
       "        text-align: right;\n",
       "    }\n",
       "</style>\n",
       "<table border=\"1\" class=\"dataframe\">\n",
       "  <thead>\n",
       "    <tr style=\"text-align: right;\">\n",
       "      <th></th>\n",
       "      <th>model</th>\n",
       "      <th>auc_2yr_te</th>\n",
       "      <th>sem_te</th>\n",
       "      <th>auc_2yr_tr</th>\n",
       "      <th>sem_tr</th>\n",
       "    </tr>\n",
       "  </thead>\n",
       "  <tbody>\n",
       "    <tr>\n",
       "      <th>6</th>\n",
       "      <td>gbm_mice</td>\n",
       "      <td>0.772797</td>\n",
       "      <td>0.004170</td>\n",
       "      <td>0.817802</td>\n",
       "      <td>0.009189</td>\n",
       "    </tr>\n",
       "    <tr>\n",
       "      <th>0</th>\n",
       "      <td>gbm_crude</td>\n",
       "      <td>0.759629</td>\n",
       "      <td>0.009420</td>\n",
       "      <td>0.806806</td>\n",
       "      <td>0.004366</td>\n",
       "    </tr>\n",
       "    <tr>\n",
       "      <th>1</th>\n",
       "      <td>rsf_crude</td>\n",
       "      <td>0.752487</td>\n",
       "      <td>0.009532</td>\n",
       "      <td>0.841038</td>\n",
       "      <td>0.003831</td>\n",
       "    </tr>\n",
       "    <tr>\n",
       "      <th>5</th>\n",
       "      <td>linear_svm_crude</td>\n",
       "      <td>0.741471</td>\n",
       "      <td>0.009656</td>\n",
       "      <td>0.748665</td>\n",
       "      <td>0.004838</td>\n",
       "    </tr>\n",
       "    <tr>\n",
       "      <th>2</th>\n",
       "      <td>ridge_crude</td>\n",
       "      <td>0.740313</td>\n",
       "      <td>0.009651</td>\n",
       "      <td>0.745116</td>\n",
       "      <td>0.004924</td>\n",
       "    </tr>\n",
       "    <tr>\n",
       "      <th>4</th>\n",
       "      <td>enet_crude</td>\n",
       "      <td>0.730636</td>\n",
       "      <td>0.009755</td>\n",
       "      <td>0.734755</td>\n",
       "      <td>0.005019</td>\n",
       "    </tr>\n",
       "    <tr>\n",
       "      <th>3</th>\n",
       "      <td>lasso_crude</td>\n",
       "      <td>0.729804</td>\n",
       "      <td>0.009747</td>\n",
       "      <td>0.734107</td>\n",
       "      <td>0.005027</td>\n",
       "    </tr>\n",
       "  </tbody>\n",
       "</table>\n",
       "</div>"
      ],
      "text/plain": [
       "              model  auc_2yr_te    sem_te  auc_2yr_tr    sem_tr\n",
       "6          gbm_mice    0.772797  0.004170    0.817802  0.009189\n",
       "0         gbm_crude    0.759629  0.009420    0.806806  0.004366\n",
       "1         rsf_crude    0.752487  0.009532    0.841038  0.003831\n",
       "5  linear_svm_crude    0.741471  0.009656    0.748665  0.004838\n",
       "2       ridge_crude    0.740313  0.009651    0.745116  0.004924\n",
       "4        enet_crude    0.730636  0.009755    0.734755  0.005019\n",
       "3       lasso_crude    0.729804  0.009747    0.734107  0.005027"
      ]
     },
     "execution_count": 318,
     "metadata": {},
     "output_type": "execute_result"
    }
   ],
   "source": [
    "ml_auc_df.sort_values(by = 'auc_2yr_te', ascending = False)"
   ]
  },
  {
   "cell_type": "code",
   "execution_count": 317,
   "id": "3bcaa9f9",
   "metadata": {},
   "outputs": [],
   "source": [
    "ml_auc_df.to_csv('ml_auc_df.csv', index = False, header = True)"
   ]
  }
 ],
 "metadata": {
  "kernelspec": {
   "display_name": "Python 3 (ipykernel)",
   "language": "python",
   "name": "python3"
  },
  "language_info": {
   "codemirror_mode": {
    "name": "ipython",
    "version": 3
   },
   "file_extension": ".py",
   "mimetype": "text/x-python",
   "name": "python",
   "nbconvert_exporter": "python",
   "pygments_lexer": "ipython3",
   "version": "3.7.10"
  }
 },
 "nbformat": 4,
 "nbformat_minor": 5
}
