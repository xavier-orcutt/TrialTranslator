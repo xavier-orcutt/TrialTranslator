{
 "cells": [
  {
   "cell_type": "markdown",
   "id": "be165f7f",
   "metadata": {},
   "source": [
    "# Flatiron Health mPC: MICE\n",
    "\n",
    "**OBJECTIVE: Impute missing variables in the training dataset using multiple imputation chained equations (MICE). Five non-missing training sets will be construced using MICE along with 5 test sets. A gradient boosted model will be fit to each training dataset and a test set AUC will be calculated. The 1 year AUCs from the test set will be pooled to get a final estimate.** \n",
    "\n",
    "**BACKGROUND: The variables with the most missingness at time of metastatic diagnosis are ECOG (50%), labs (30%), and changes in weight (11%). These three variables have high predictive value in our models. Up until this point, missingness has been handled by making \"unknown\" a level in the ECOG variable and imputing median for lab values and weight loss. While this imputation strategy is simple and fast, it likely understimates the variance of variables and disturb relations between variables when the data is not missing completely at random.** \n",
    "\n",
    "**Variables that will be imputed with MICE:** \n",
    "1. **ECOG (48% missing)**\n",
    "2. **BMI (15% missing)**\n",
    "3. **Weight (25% missing)**\n",
    "4. **Percent change in weight and weight slope (11% missing)**\n",
    "5. **Socioeconomic status (20% missing)**\n",
    "6. **Stage (40%)**\n",
    "7. **Labs at time of advanced diagnosis (30% missing)**\n",
    "8. **Subset of summary labs (40% missing)**\n",
    "\n",
    "**Five complete training sets will be imputed using the Python package \"miceforest\" which uses lightgbm as a backend. Five complete test sets will also be imputed from the final model used to impute the training set values. All existing variables including outcome variables like death status and time until event will be utilized to aid in the imputations. In addition, auxillary variables such as receipt of treatment, weight and BMI at 3 months, and labs at 3 months will be created to augment imputations.**   \n",
    "\n",
    "**After complete training and test sets are constructed, a gradient boosting survival model will be built for each training set in the same fashion as in the crude imputation notebook. Final test AUCs will be pooled using Rubin's rules.**\n",
    "\n",
    "**OUTLINE:**\n",
    "1. **Building auxillary variables** \n",
    "2. **Performing MICE on training and test sets** \n",
    "3. **Building gradient boosting models on imputed datasets**\n",
    "4. **Pooling results**"
   ]
  },
  {
   "cell_type": "markdown",
   "id": "9ffb5843",
   "metadata": {},
   "source": [
    "## 1. Building auxillary varibles "
   ]
  },
  {
   "cell_type": "code",
   "execution_count": 1,
   "id": "c012dae6",
   "metadata": {},
   "outputs": [],
   "source": [
    "import numpy as np\n",
    "import pandas as pd"
   ]
  },
  {
   "cell_type": "code",
   "execution_count": 2,
   "id": "48f3534a",
   "metadata": {},
   "outputs": [],
   "source": [
    "# Function that returns number of rows and count of unique PatientIDs for a dataframe. \n",
    "def row_ID(dataframe):\n",
    "    row = dataframe.shape[0]\n",
    "    ID = dataframe['PatientID'].nunique()\n",
    "    return row, ID"
   ]
  },
  {
   "cell_type": "markdown",
   "id": "44722009",
   "metadata": {},
   "source": [
    "### 1.1 Preprocessing"
   ]
  },
  {
   "cell_type": "code",
   "execution_count": 3,
   "id": "f4f58f4b",
   "metadata": {},
   "outputs": [
    {
     "data": {
      "text/plain": [
       "(15141, 15141)"
      ]
     },
     "execution_count": 3,
     "metadata": {},
     "output_type": "execute_result"
    }
   ],
   "source": [
    "train = pd.read_csv('train_full.csv')\n",
    "row_ID(train)"
   ]
  },
  {
   "cell_type": "code",
   "execution_count": 4,
   "id": "59d48713",
   "metadata": {},
   "outputs": [
    {
     "data": {
      "text/plain": [
       "(3786, 3786)"
      ]
     },
     "execution_count": 4,
     "metadata": {},
     "output_type": "execute_result"
    }
   ],
   "source": [
    "test = pd.read_csv('test_full.csv')\n",
    "row_ID(test)"
   ]
  },
  {
   "cell_type": "code",
   "execution_count": 5,
   "id": "83e553ab",
   "metadata": {},
   "outputs": [
    {
     "data": {
      "text/plain": [
       "(18927, 18927)"
      ]
     },
     "execution_count": 5,
     "metadata": {},
     "output_type": "execute_result"
    }
   ],
   "source": [
    "df = pd.concat([train, test], ignore_index = True)\n",
    "row_ID(df)"
   ]
  },
  {
   "cell_type": "markdown",
   "id": "9bdaf943",
   "metadata": {},
   "source": [
    "### 1.2 Treatment "
   ]
  },
  {
   "cell_type": "markdown",
   "id": "b19723a9",
   "metadata": {},
   "source": [
    "**Add indicator variables for receipt of various treatment. The 5 major treatment categories include: ADT, FDA approved therapy for metastatic HSPC that isn't ADT, alpha beta emitters, sipuleucel-T, and an FDA approved therapy for metastatic CRPC.** "
   ]
  },
  {
   "cell_type": "code",
   "execution_count": 6,
   "id": "e81f7ffd",
   "metadata": {},
   "outputs": [],
   "source": [
    "line_therapy = pd.read_csv('LineOfTherapy.csv')\n",
    "adt = pd.read_csv('Enhanced_MetPC_ADT.csv')\n",
    "abe = pd.read_csv('Enhanced_MetPC_AlphaBetaEmitters.csv')\n",
    "sipt = pd.read_csv('Enhanced_MetPC_Provenge.csv')\n",
    "enhanced_met = pd.read_csv('Enhanced_MetProstate.csv')"
   ]
  },
  {
   "cell_type": "code",
   "execution_count": 7,
   "id": "fc423f59",
   "metadata": {},
   "outputs": [],
   "source": [
    "line_therapy = line_therapy[line_therapy['PatientID'].isin(df['PatientID'])]\n",
    "\n",
    "adt = adt[adt['PatientID'].isin(df['PatientID'])]\n",
    "adt.loc[:, 'StartDate'] = pd.to_datetime(adt['StartDate'])\n",
    "\n",
    "abe = abe[abe['PatientID'].isin(df['PatientID'])]\n",
    "abe.loc[:, 'AdministrationDate'] = pd.to_datetime(abe['AdministrationDate'])\n",
    "\n",
    "sipt = sipt[sipt['PatientID'].isin(df['PatientID'])]\n",
    "sipt.loc[:, 'StartDate'] = pd.to_datetime(sipt['StartDate'])\n",
    "\n",
    "enhanced_met = enhanced_met[enhanced_met['PatientID'].isin(df['PatientID'])]\n",
    "enhanced_met.loc[:, 'MetDiagnosisDate'] = pd.to_datetime(enhanced_met['MetDiagnosisDate'])"
   ]
  },
  {
   "cell_type": "code",
   "execution_count": 8,
   "id": "981de1af",
   "metadata": {},
   "outputs": [],
   "source": [
    "adt = pd.merge(adt, enhanced_met[['PatientID', 'MetDiagnosisDate']], on = 'PatientID')\n",
    "\n",
    "adt = (\n",
    "    adt\n",
    "    .assign(adt_diff = (adt['StartDate'] - adt['MetDiagnosisDate']).dt.days)\n",
    "    .query('adt_diff >= -90')\n",
    "    .sort_values(by = ['PatientID', 'StartDate'], ascending = [False, False])\n",
    "    .drop_duplicates(subset = ['PatientID'], keep = 'first')\n",
    "    [['PatientID']]\n",
    ")\n",
    "\n",
    "adt.loc[:,'late_adt'] = 1"
   ]
  },
  {
   "cell_type": "code",
   "execution_count": 9,
   "id": "b27202e5",
   "metadata": {},
   "outputs": [],
   "source": [
    "abe = pd.merge(abe, enhanced_met[['PatientID', 'MetDiagnosisDate']], on = 'PatientID')\n",
    "\n",
    "abe = (\n",
    "    abe\n",
    "    .assign(abe_diff = (abe['AdministrationDate'] - abe['MetDiagnosisDate']).dt.days)\n",
    "    .query('abe_diff >= -90')\n",
    "    .sort_values(by = ['PatientID', 'AdministrationDate'], ascending = [False, False])\n",
    "    .drop_duplicates(subset = ['PatientID'], keep = 'first')\n",
    "    [['PatientID']]\n",
    ")\n",
    "\n",
    "abe.loc[:, 'abe'] = 1"
   ]
  },
  {
   "cell_type": "code",
   "execution_count": 10,
   "id": "d49bd01b",
   "metadata": {},
   "outputs": [],
   "source": [
    "sipt = pd.merge(sipt, enhanced_met[['PatientID', 'MetDiagnosisDate']], on = 'PatientID')\n",
    "\n",
    "sipt = (\n",
    "    sipt\n",
    "    .assign(sipt_diff = (sipt['StartDate'] - sipt['MetDiagnosisDate']).dt.days)\n",
    "    .query('sipt_diff >= -90')\n",
    "    .sort_values(by = ['PatientID', 'StartDate'], ascending = [False, False])\n",
    "    .drop_duplicates(subset = ['PatientID'], keep = 'first')\n",
    "    [['PatientID']]\n",
    ")\n",
    "\n",
    "sipt.loc[:, 'sipt'] = 1"
   ]
  },
  {
   "cell_type": "code",
   "execution_count": 11,
   "id": "53799286",
   "metadata": {},
   "outputs": [],
   "source": [
    "# List of FDA approved drugs for mPC as of July 2023. Clinical study drug is also included. \n",
    "fda_yes = [\n",
    "    'Abiraterone',\n",
    "    'Apalutamide',\n",
    "    'Cabazitaxel',\n",
    "    'Carboplatin',\n",
    "    'Cisplatin',\n",
    "    'Darolutamide',\n",
    "    'Docetaxel',\n",
    "    'Enzalutamide',\n",
    "    'Mitoxantrone',\n",
    "    'Olaparib',\n",
    "    'Oxaliplatin',\n",
    "    'Paclitaxel',\n",
    "    'Pembrolizumab',\n",
    "    'Rucaparib',\n",
    "    'Clinical Study Drug'\n",
    "]"
   ]
  },
  {
   "cell_type": "code",
   "execution_count": 12,
   "id": "6e14fedd",
   "metadata": {},
   "outputs": [],
   "source": [
    "hspc = line_therapy.query('LineSetting == \"mHSPC\"')\n",
    "\n",
    "crpc_1 = (\n",
    "    line_therapy\n",
    "    .query('LineSetting == \"mCRPC\"')\n",
    "    .query('LineNumber == 1')\n",
    "    .drop_duplicates(subset = 'PatientID', keep = 'first'))\n",
    "\n",
    "crpc_2 = (\n",
    "    line_therapy\n",
    "    .query('LineSetting == \"mCRPC\"')\n",
    "    .query('LineNumber == 2')\n",
    "    .drop_duplicates(subset = 'PatientID', keep = 'first'))\n",
    "\n",
    "crpc_3 = (\n",
    "    line_therapy\n",
    "    .query('LineSetting == \"mCRPC\"')\n",
    "    .query('LineNumber == 3')\n",
    "    .drop_duplicates(subset = 'PatientID', keep = 'first'))\n"
   ]
  },
  {
   "cell_type": "code",
   "execution_count": 13,
   "id": "14865d8c",
   "metadata": {},
   "outputs": [
    {
     "name": "stderr",
     "output_type": "stream",
     "text": [
      "/Applications/anaconda3/lib/python3.7/site-packages/pandas/core/indexing.py:1667: SettingWithCopyWarning: \n",
      "A value is trying to be set on a copy of a slice from a DataFrame.\n",
      "Try using .loc[row_indexer,col_indexer] = value instead\n",
      "\n",
      "See the caveats in the documentation: https://pandas.pydata.org/pandas-docs/stable/user_guide/indexing.html#returning-a-view-versus-a-copy\n",
      "  self.obj[key] = value\n"
     ]
    }
   ],
   "source": [
    "hspc.loc[:, 'hspc'] = np.where(\n",
    "    hspc['LineName'].str.contains('|'.join(fda_yes)), 1, 0)\n",
    "\n",
    "hspc = (\n",
    "    hspc\n",
    "    .sort_values(by = ['PatientID', 'hspc'], ascending = [False, False])\n",
    "    .drop_duplicates(subset = ['PatientID'], keep = 'first')\n",
    "    [['PatientID']]\n",
    ")\n",
    "\n",
    "hspc.loc[:, 'hspc'] = 1"
   ]
  },
  {
   "cell_type": "code",
   "execution_count": 14,
   "id": "fe862dfe",
   "metadata": {},
   "outputs": [],
   "source": [
    "crpc_1.loc[:, 'crpc_1'] = np.where(\n",
    "    crpc_1['LineName'].str.contains('|'.join(fda_yes)), 1, 0)\n",
    "\n",
    "crpc_1 = crpc_1[['PatientID', 'crpc_1']]"
   ]
  },
  {
   "cell_type": "code",
   "execution_count": 15,
   "id": "6a46c56a",
   "metadata": {},
   "outputs": [],
   "source": [
    "crpc_2.loc[:, 'crpc_2'] = np.where(\n",
    "    crpc_2['LineName'].str.contains('|'.join(fda_yes)), 1, 0)\n",
    "\n",
    "crpc_2 = crpc_2[['PatientID', 'crpc_2']]"
   ]
  },
  {
   "cell_type": "code",
   "execution_count": 16,
   "id": "d1dd9fb2",
   "metadata": {},
   "outputs": [],
   "source": [
    "crpc_3.loc[:, 'crpc_3'] = np.where(\n",
    "    crpc_3['LineName'].str.contains('|'.join(fda_yes)), 1, 0)\n",
    "\n",
    "crpc_3 = crpc_3[['PatientID', 'crpc_3']]"
   ]
  },
  {
   "cell_type": "code",
   "execution_count": 17,
   "id": "65fb8214",
   "metadata": {},
   "outputs": [],
   "source": [
    "df = pd.merge(df, adt, on = 'PatientID', how = 'outer')\n",
    "\n",
    "df = pd.merge(df, abe, on = 'PatientID', how = 'outer')\n",
    "\n",
    "df = pd.merge(df, sipt, on = 'PatientID', how = 'outer')\n",
    "\n",
    "df = pd.merge(df, hspc, on = 'PatientID', how = 'outer')\n",
    "\n",
    "df = pd.merge(df, crpc_1, on = 'PatientID', how = 'outer')\n",
    "\n",
    "df = pd.merge(df, crpc_2, on = 'PatientID', how = 'outer')\n",
    "\n",
    "df = pd.merge(df, crpc_3, on = 'PatientID', how = 'outer')"
   ]
  },
  {
   "cell_type": "code",
   "execution_count": 18,
   "id": "4ec0cf8c",
   "metadata": {},
   "outputs": [],
   "source": [
    "df[['late_adt', 'abe', 'sipt', 'hspc', 'crpc_1', 'crpc_2', 'crpc_3']] = df[['late_adt', 'abe', 'sipt', 'hspc', 'crpc_1', 'crpc_2', 'crpc_3']].fillna(value = 0)"
   ]
  },
  {
   "cell_type": "code",
   "execution_count": 19,
   "id": "dbd417da",
   "metadata": {},
   "outputs": [
    {
     "data": {
      "text/plain": [
       "1.0    11837\n",
       "0.0     7090\n",
       "Name: late_adt, dtype: int64"
      ]
     },
     "execution_count": 19,
     "metadata": {},
     "output_type": "execute_result"
    }
   ],
   "source": [
    "df.late_adt.value_counts()"
   ]
  },
  {
   "cell_type": "code",
   "execution_count": 20,
   "id": "97a27e4f",
   "metadata": {},
   "outputs": [
    {
     "data": {
      "text/plain": [
       "0.0    17284\n",
       "1.0     1643\n",
       "Name: abe, dtype: int64"
      ]
     },
     "execution_count": 20,
     "metadata": {},
     "output_type": "execute_result"
    }
   ],
   "source": [
    "df.abe.value_counts()"
   ]
  },
  {
   "cell_type": "code",
   "execution_count": 21,
   "id": "1dc85dc2",
   "metadata": {},
   "outputs": [
    {
     "data": {
      "text/plain": [
       "0.0    17591\n",
       "1.0     1336\n",
       "Name: sipt, dtype: int64"
      ]
     },
     "execution_count": 21,
     "metadata": {},
     "output_type": "execute_result"
    }
   ],
   "source": [
    "df.sipt.value_counts()"
   ]
  },
  {
   "cell_type": "code",
   "execution_count": 22,
   "id": "96bcb1aa",
   "metadata": {},
   "outputs": [
    {
     "data": {
      "text/plain": [
       "0.0    13819\n",
       "1.0     5108\n",
       "Name: hspc, dtype: int64"
      ]
     },
     "execution_count": 22,
     "metadata": {},
     "output_type": "execute_result"
    }
   ],
   "source": [
    "df.hspc.value_counts()"
   ]
  },
  {
   "cell_type": "code",
   "execution_count": 23,
   "id": "ad525b87",
   "metadata": {},
   "outputs": [
    {
     "data": {
      "text/plain": [
       "0.0    9891\n",
       "1.0    9036\n",
       "Name: crpc_1, dtype: int64"
      ]
     },
     "execution_count": 23,
     "metadata": {},
     "output_type": "execute_result"
    }
   ],
   "source": [
    "df.crpc_1.value_counts()"
   ]
  },
  {
   "cell_type": "code",
   "execution_count": 24,
   "id": "2366d25c",
   "metadata": {},
   "outputs": [
    {
     "data": {
      "text/plain": [
       "0.0    13308\n",
       "1.0     5619\n",
       "Name: crpc_2, dtype: int64"
      ]
     },
     "execution_count": 24,
     "metadata": {},
     "output_type": "execute_result"
    }
   ],
   "source": [
    "df.crpc_2.value_counts()"
   ]
  },
  {
   "cell_type": "code",
   "execution_count": 25,
   "id": "5b637d82",
   "metadata": {},
   "outputs": [
    {
     "data": {
      "text/plain": [
       "0.0    15747\n",
       "1.0     3180\n",
       "Name: crpc_3, dtype: int64"
      ]
     },
     "execution_count": 25,
     "metadata": {},
     "output_type": "execute_result"
    }
   ],
   "source": [
    "df.crpc_3.value_counts()"
   ]
  },
  {
   "cell_type": "code",
   "execution_count": 26,
   "id": "aa8a3b4a",
   "metadata": {},
   "outputs": [
    {
     "data": {
      "text/plain": [
       "(18927, 18927)"
      ]
     },
     "execution_count": 26,
     "metadata": {},
     "output_type": "execute_result"
    }
   ],
   "source": [
    "row_ID(df)"
   ]
  },
  {
   "cell_type": "code",
   "execution_count": 27,
   "id": "4b8e205f",
   "metadata": {},
   "outputs": [
    {
     "name": "stdout",
     "output_type": "stream",
     "text": [
      "Variable       Type         Data/Info\n",
      "-------------------------------------\n",
      "abe            DataFrame              PatientID  abe\\<...>\\n[1643 rows x 2 columns]\n",
      "adt            DataFrame               PatientID  lat<...>n[11837 rows x 2 columns]\n",
      "crpc_1         DataFrame               PatientID  crp<...>\\n[9788 rows x 2 columns]\n",
      "crpc_2         DataFrame               PatientID  crp<...>\\n[5983 rows x 2 columns]\n",
      "crpc_3         DataFrame               PatientID  crp<...>\\n[3509 rows x 2 columns]\n",
      "df             DataFrame               PatientID Gend<...>18927 rows x 235 columns]\n",
      "enhanced_met   DataFrame               PatientID Diag<...>[18927 rows x 13 columns]\n",
      "hspc           DataFrame               PatientID  hsp<...>\\n[5108 rows x 2 columns]\n",
      "line_therapy   DataFrame               PatientID     <...>n[31397 rows x 9 columns]\n",
      "sipt           DataFrame              PatientID  sipt<...>\\n[1336 rows x 2 columns]\n",
      "test           DataFrame              PatientID Gende<...>[3786 rows x 228 columns]\n",
      "train          DataFrame               PatientID Gend<...>15141 rows x 228 columns]\n"
     ]
    }
   ],
   "source": [
    "%whos DataFrame"
   ]
  },
  {
   "cell_type": "code",
   "execution_count": 28,
   "id": "c2b3bf87",
   "metadata": {},
   "outputs": [],
   "source": [
    "# Keep df \n",
    "del abe\n",
    "del adt\n",
    "del crpc_1\n",
    "del crpc_2\n",
    "del crpc_3\n",
    "del enhanced_met\n",
    "del hspc\n",
    "del line_therapy\n",
    "del sipt"
   ]
  },
  {
   "cell_type": "markdown",
   "id": "9d037a9a",
   "metadata": {},
   "source": [
    "### 1.3 Weight"
   ]
  },
  {
   "cell_type": "code",
   "execution_count": 29,
   "id": "b1ae8d0c",
   "metadata": {},
   "outputs": [],
   "source": [
    "vitals = pd.read_csv('Vitals.csv')\n",
    "\n",
    "vitals = vitals[vitals['PatientID'].isin(df['PatientID'])]"
   ]
  },
  {
   "cell_type": "code",
   "execution_count": 30,
   "id": "4d14ff4f",
   "metadata": {},
   "outputs": [],
   "source": [
    "enhanced_met = pd.read_csv('Enhanced_MetProstate.csv')\n",
    "\n",
    "enhanced_met = enhanced_met[enhanced_met['PatientID'].isin(df['PatientID'])]\n",
    "                                                              \n",
    "enhanced_met.loc[:, 'MetDiagnosisDate'] = pd.to_datetime(enhanced_met['MetDiagnosisDate'])\n",
    "\n",
    "enhanced_met = enhanced_met.rename(columns = {'MetDiagnosisDate': 'met_date'})"
   ]
  },
  {
   "cell_type": "markdown",
   "id": "5ef2619b",
   "metadata": {},
   "source": [
    "#### Weight and BMI"
   ]
  },
  {
   "cell_type": "code",
   "execution_count": 31,
   "id": "a12e1749",
   "metadata": {},
   "outputs": [],
   "source": [
    "# Create weight dataframe; remove weight values that are empty or equal to zero.\n",
    "weight = (\n",
    "    vitals\n",
    "    .query('Test == \"body weight\"')\n",
    "    .filter(items = ['PatientID', 'TestDate', 'TestResultCleaned'])\n",
    "    .rename(columns = {'TestResultCleaned': 'weight'})\n",
    "    .dropna(subset = ['weight'])\n",
    "    .query('weight != 0')\n",
    ")"
   ]
  },
  {
   "cell_type": "code",
   "execution_count": 32,
   "id": "1b0f979d",
   "metadata": {},
   "outputs": [],
   "source": [
    "weight.loc[:, 'TestDate'] = pd.to_datetime(weight['TestDate'])"
   ]
  },
  {
   "cell_type": "code",
   "execution_count": 33,
   "id": "2d15304c",
   "metadata": {},
   "outputs": [],
   "source": [
    "weight = pd.merge(weight, enhanced_met[['PatientID', 'met_date']], on = 'PatientID', how = 'left')"
   ]
  },
  {
   "cell_type": "code",
   "execution_count": 34,
   "id": "be4e64c0",
   "metadata": {},
   "outputs": [],
   "source": [
    "# Weight elgibliity window is -60 to +60 from 6 months after metastatic diagnosis. \n",
    "weight_win_bmi = (\n",
    "    weight\n",
    "    .assign(weight_date_diff = ((weight['TestDate'] - (weight['met_date'] + pd.DateOffset(days = 180))).dt.days))\n",
    "    .query('weight_date_diff >= -60 and weight_date_diff <= 60')\n",
    ")"
   ]
  },
  {
   "cell_type": "code",
   "execution_count": 35,
   "id": "4657fd74",
   "metadata": {},
   "outputs": [],
   "source": [
    "weight_win_bmi.loc[:, 'weight_date_diff'] = weight_win_bmi['weight_date_diff'].abs()"
   ]
  },
  {
   "cell_type": "code",
   "execution_count": 36,
   "id": "af2ee8dd",
   "metadata": {},
   "outputs": [],
   "source": [
    "# Select weight closest to +180 from metastatic diagnosis; lowest weight selected in the event of two weights on same day or equidistant. \n",
    "weight_bmi_wide = (\n",
    "    weight_win_bmi\n",
    "    .sort_values(by = ['PatientID', 'weight_date_diff', 'weight'], ascending = [True, True, True])\n",
    "    .drop_duplicates(subset = ['PatientID'], keep = 'first')\n",
    "    .filter(items = ['PatientID', 'weight'])\n",
    "    .rename(columns = {'weight': 'weight_180'})\n",
    ")"
   ]
  },
  {
   "cell_type": "code",
   "execution_count": 37,
   "id": "fef6e4ad",
   "metadata": {},
   "outputs": [],
   "source": [
    "# Dataframe of average height for each patient. \n",
    "height_avg = (\n",
    "    vitals\n",
    "    .query('Test == \"body height\"')\n",
    "    .filter(items = ['PatientID', 'TestResultCleaned'])\n",
    "    .groupby('PatientID')['TestResultCleaned'].mean()\n",
    "    .to_frame()\n",
    "    .reset_index()\n",
    "    .rename(columns = {'TestResultCleaned': 'height_avg'})\n",
    ")"
   ]
  },
  {
   "cell_type": "code",
   "execution_count": 38,
   "id": "1dfc8758",
   "metadata": {},
   "outputs": [],
   "source": [
    "weight_bmi_wide = pd.merge(weight_bmi_wide, height_avg, on = 'PatientID', how = 'left')"
   ]
  },
  {
   "cell_type": "code",
   "execution_count": 39,
   "id": "85f5641d",
   "metadata": {},
   "outputs": [],
   "source": [
    "# Create BMI column. \n",
    "weight_bmi_wide = (\n",
    "    weight_bmi_wide\n",
    "    .assign(bmi_180 = lambda x: (x['weight_180']/(x['height_avg']*x['height_avg']))*10000)\n",
    "    .drop(columns = ['height_avg'])\n",
    ")"
   ]
  },
  {
   "cell_type": "code",
   "execution_count": 40,
   "id": "3a609f02",
   "metadata": {},
   "outputs": [],
   "source": [
    "df = pd.merge(df, weight_bmi_wide, on = 'PatientID', how = 'outer')"
   ]
  },
  {
   "cell_type": "code",
   "execution_count": 41,
   "id": "d73cf3aa",
   "metadata": {},
   "outputs": [
    {
     "data": {
      "text/plain": [
       "(18927, 18927)"
      ]
     },
     "execution_count": 41,
     "metadata": {},
     "output_type": "execute_result"
    }
   ],
   "source": [
    "row_ID(df)"
   ]
  },
  {
   "cell_type": "markdown",
   "id": "fbf5e79e",
   "metadata": {},
   "source": [
    "#### Percent change in weight "
   ]
  },
  {
   "cell_type": "code",
   "execution_count": 42,
   "id": "33ca3ef0",
   "metadata": {},
   "outputs": [],
   "source": [
    "# Select elgbility window of -90 to +365 days from metastatic diagnosis.\n",
    "weight_win_summary = (\n",
    "    weight\n",
    "    .assign(weight_date_diff = (weight['TestDate'] - weight['met_date']).dt.days)\n",
    "    .query('weight_date_diff >= -90 and weight_date_diff <= 365')\n",
    ")"
   ]
  },
  {
   "cell_type": "code",
   "execution_count": 43,
   "id": "3faa5f8e",
   "metadata": {},
   "outputs": [],
   "source": [
    "# Select patients with more than 1 weight recording within elgibility window.\n",
    "weight_win_summary = weight_win_summary[weight_win_summary.duplicated(subset = ['PatientID'], keep = False)]"
   ]
  },
  {
   "cell_type": "code",
   "execution_count": 44,
   "id": "835733b2",
   "metadata": {},
   "outputs": [],
   "source": [
    "# Select weight from the earliest time within elgibility window. \n",
    "weight_tmin = weight_win_summary.loc[weight_win_summary.groupby('PatientID')['weight_date_diff'].idxmin()]"
   ]
  },
  {
   "cell_type": "code",
   "execution_count": 45,
   "id": "907f895a",
   "metadata": {},
   "outputs": [],
   "source": [
    "# Select weight from the latest time within elgibility window. \n",
    "weight_tmax = weight_win_summary.loc[weight_win_summary.groupby('PatientID')['weight_date_diff'].idxmax()]"
   ]
  },
  {
   "cell_type": "code",
   "execution_count": 46,
   "id": "c1eb5f84",
   "metadata": {},
   "outputs": [],
   "source": [
    "# Combine above two dataframes and sort from earliest recorded weight to latest recorded weight for each patient. \n",
    "weight_tcomb = (\n",
    "    pd.concat([weight_tmin, weight_tmax])\n",
    "    .sort_values(by = ['PatientID', 'weight_date_diff'], ascending = True)\n",
    ")"
   ]
  },
  {
   "cell_type": "code",
   "execution_count": 47,
   "id": "abe775c8",
   "metadata": {},
   "outputs": [],
   "source": [
    "weight_tcomb.loc[:, 'weight_pct_1yr'] = weight_tcomb.groupby('PatientID')['weight'].pct_change()"
   ]
  },
  {
   "cell_type": "code",
   "execution_count": 48,
   "id": "de59cacd",
   "metadata": {},
   "outputs": [],
   "source": [
    "# Drop empty rows for weight_pct_change.\n",
    "weight_pct_wide = (\n",
    "    weight_tcomb\n",
    "    .dropna(subset = ['weight_pct_1yr'])\n",
    "    .filter(items = ['PatientID', 'weight_pct_1yr'])\n",
    ")"
   ]
  },
  {
   "cell_type": "code",
   "execution_count": 49,
   "id": "c1eebcf2",
   "metadata": {},
   "outputs": [],
   "source": [
    "df = pd.merge(df, weight_pct_wide, on = 'PatientID', how = 'outer')"
   ]
  },
  {
   "cell_type": "code",
   "execution_count": 50,
   "id": "4c49790e",
   "metadata": {},
   "outputs": [
    {
     "data": {
      "text/plain": [
       "(18927, 18927)"
      ]
     },
     "execution_count": 50,
     "metadata": {},
     "output_type": "execute_result"
    }
   ],
   "source": [
    "row_ID(df)"
   ]
  },
  {
   "cell_type": "markdown",
   "id": "a5a1a0aa",
   "metadata": {},
   "source": [
    "#### Slope of weight "
   ]
  },
  {
   "cell_type": "code",
   "execution_count": 51,
   "id": "dd220430",
   "metadata": {},
   "outputs": [],
   "source": [
    "import datetime as dt\n",
    "from scipy.stats import linregress "
   ]
  },
  {
   "cell_type": "code",
   "execution_count": 52,
   "id": "91c50339",
   "metadata": {},
   "outputs": [],
   "source": [
    "weight_win_summary.loc[:, 'date_ordinal'] = weight_win_summary['TestDate'].map(dt.datetime.toordinal)"
   ]
  },
  {
   "cell_type": "code",
   "execution_count": 53,
   "id": "07d0cc93",
   "metadata": {},
   "outputs": [
    {
     "name": "stderr",
     "output_type": "stream",
     "text": [
      "/Applications/anaconda3/lib/python3.7/site-packages/scipy/stats/_stats_mstats_common.py:170: RuntimeWarning: invalid value encountered in double_scalars\n",
      "  slope = ssxym / ssxm\n"
     ]
    }
   ],
   "source": [
    "# Dataframe of slope for weight recordings within window period (kg/day).\n",
    "weight_slope_wide = (\n",
    "    weight_win_summary\n",
    "    .groupby('PatientID')\n",
    "    .apply(lambda x: pd.Series(linregress(x['date_ordinal'], x['weight'])))\n",
    "    .rename(columns = {0: 'weight_slope_1yr'})\n",
    "    .reset_index()\n",
    "    .filter(items = ['PatientID', 'weight_slope_1yr'])) "
   ]
  },
  {
   "cell_type": "code",
   "execution_count": 54,
   "id": "fcd33e0f",
   "metadata": {},
   "outputs": [],
   "source": [
    "df = pd.merge(df, weight_slope_wide, on = 'PatientID', how = 'outer')"
   ]
  },
  {
   "cell_type": "code",
   "execution_count": 55,
   "id": "8596aac3",
   "metadata": {},
   "outputs": [
    {
     "data": {
      "text/plain": [
       "(18927, 18927)"
      ]
     },
     "execution_count": 55,
     "metadata": {},
     "output_type": "execute_result"
    }
   ],
   "source": [
    "row_ID(df)"
   ]
  },
  {
   "cell_type": "code",
   "execution_count": 56,
   "id": "59846672",
   "metadata": {},
   "outputs": [
    {
     "name": "stdout",
     "output_type": "stream",
     "text": [
      "Variable             Type         Data/Info\n",
      "-------------------------------------------\n",
      "df                   DataFrame               PatientID Gend<...>18927 rows x 239 columns]\n",
      "enhanced_met         DataFrame               PatientID Diag<...>[18927 rows x 13 columns]\n",
      "height_avg           DataFrame               PatientID  hei<...>n[18699 rows x 2 columns]\n",
      "test                 DataFrame              PatientID Gende<...>[3786 rows x 228 columns]\n",
      "train                DataFrame               PatientID Gend<...>15141 rows x 228 columns]\n",
      "vitals               DataFrame                 PatientID   <...>647303 rows x 15 columns]\n",
      "weight               DataFrame                PatientID   T<...>[493261 rows x 4 columns]\n",
      "weight_bmi_wide      DataFrame               PatientID  wei<...>n[12166 rows x 3 columns]\n",
      "weight_pct_wide      DataFrame                PatientID  we<...>n[14825 rows x 2 columns]\n",
      "weight_slope_wide    DataFrame               PatientID  wei<...>n[14825 rows x 2 columns]\n",
      "weight_tcomb         DataFrame                PatientID   T<...>n[29650 rows x 6 columns]\n",
      "weight_tmax          DataFrame                PatientID   T<...>n[14825 rows x 5 columns]\n",
      "weight_tmin          DataFrame                PatientID   T<...>n[14825 rows x 5 columns]\n",
      "weight_win_bmi       DataFrame                PatientID   T<...>n[49838 rows x 5 columns]\n",
      "weight_win_summary   DataFrame                PatientID   T<...>[165083 rows x 6 columns]\n"
     ]
    }
   ],
   "source": [
    "%whos DataFrame"
   ]
  },
  {
   "cell_type": "code",
   "execution_count": 57,
   "id": "7c0f09e1",
   "metadata": {},
   "outputs": [],
   "source": [
    "del height_avg\n",
    "del vitals\n",
    "del weight\n",
    "del weight_bmi_wide\n",
    "del weight_pct_wide\n",
    "del weight_slope_wide\n",
    "del weight_tcomb\n",
    "del weight_tmax\n",
    "del weight_tmin\n",
    "del weight_win_bmi\n",
    "del weight_win_summary"
   ]
  },
  {
   "cell_type": "markdown",
   "id": "476643df",
   "metadata": {},
   "source": [
    "### 1.4 Static labs "
   ]
  },
  {
   "cell_type": "code",
   "execution_count": 58,
   "id": "c82b204e",
   "metadata": {},
   "outputs": [],
   "source": [
    "lab = pd.read_csv('Lab.csv')"
   ]
  },
  {
   "cell_type": "code",
   "execution_count": 59,
   "id": "dd184b05",
   "metadata": {},
   "outputs": [],
   "source": [
    "lab = lab[lab['PatientID'].isin(df['PatientID'])]"
   ]
  },
  {
   "cell_type": "code",
   "execution_count": 60,
   "id": "4cc82658",
   "metadata": {},
   "outputs": [],
   "source": [
    "lab = pd.merge(lab, enhanced_met[['PatientID', 'met_date']], on = 'PatientID', how = 'left')"
   ]
  },
  {
   "cell_type": "code",
   "execution_count": 61,
   "id": "d2a5e358",
   "metadata": {},
   "outputs": [],
   "source": [
    "lab.loc[:, 'ResultDate'] = pd.to_datetime(lab['ResultDate']) "
   ]
  },
  {
   "cell_type": "code",
   "execution_count": 62,
   "id": "35c739da",
   "metadata": {},
   "outputs": [],
   "source": [
    "# Select rows with clinically relevant labs.\n",
    "lab_core = (\n",
    "    lab[\n",
    "    (lab['LOINC'] == \"2160-0\") |\n",
    "    (lab['LOINC'] == \"38483-4\") | \n",
    "    (lab['LOINC'] == \"718-7\") |\n",
    "    (lab['LOINC'] == \"20509-6\") |\n",
    "    (lab['LOINC'] == \"26464-8\") |\n",
    "    (lab['LOINC'] == \"6690-2\") |\n",
    "    (lab['LOINC'] == \"26499-4\") |\n",
    "    (lab['LOINC'] == \"751-8\") |\n",
    "    (lab['LOINC'] == \"30451-9\") |\n",
    "    (lab['LOINC'] == \"753-4\") |\n",
    "    (lab['LOINC'] == \"1751-7\") |\n",
    "    (lab['LOINC'] == \"42719-5\") |\n",
    "    (lab['LOINC'] == \"1975-2\") |\n",
    "    (lab['LOINC'] == \"2947-0\") |\n",
    "    (lab['LOINC'] == \"2951-2\") |\n",
    "    (lab['LOINC'] == \"1963-8\") |\n",
    "    (lab['LOINC'] == \"1959-6\") |\n",
    "    (lab['LOINC'] == \"14627-4\") |\n",
    "    (lab['LOINC'] == \"1960-4\") |\n",
    "    (lab['LOINC'] == \"2028-9\") |\n",
    "    (lab['LOINC'] == \"17861-6\") |\n",
    "    (lab['LOINC'] == \"49765-1\") |\n",
    "    (lab['LOINC'] == \"1920-8\") |\n",
    "    (lab['LOINC'] == \"1742-6\") | \n",
    "    (lab['LOINC'] == \"1743-4\") |\n",
    "    (lab['LOINC'] == \"1744-2\") |\n",
    "    (lab['LOINC'] == \"26515-7\") | \n",
    "    (lab['LOINC'] == \"777-3\") |\n",
    "    (lab['LOINC'] == \"778-1\") |\n",
    "    (lab['LOINC'] == \"49497-1\") | \n",
    "    (lab['LOINC'] == \"6298-4\") |\n",
    "    (lab['LOINC'] == \"2823-3\") |\n",
    "    (lab['LOINC'] == \"2075-0\") | \n",
    "    (lab['LOINC'] == \"3094-0\") | \n",
    "    (lab['LOINC'] == \"6768-6\") | \n",
    "    (lab['LOINC'] == \"2857-1\")]\n",
    "    .filter(items = ['PatientID', \n",
    "                     'ResultDate', \n",
    "                     'LOINC', \n",
    "                     'LabComponent', \n",
    "                     'TestUnits', \n",
    "                     'TestUnitsCleaned', \n",
    "                     'TestResult', \n",
    "                     'TestResultCleaned', \n",
    "                     'met_date'])\n",
    ")"
   ]
  },
  {
   "cell_type": "code",
   "execution_count": 63,
   "id": "078a2c56",
   "metadata": {},
   "outputs": [],
   "source": [
    "conditions = [\n",
    "    ((lab_core['LOINC'] == '2160-0') | (lab_core['LOINC'] == '38483-4')),\n",
    "    ((lab_core['LOINC'] == '718-7') | (lab_core['LOINC'] == '20509-6')),\n",
    "    ((lab_core['LOINC'] == '26464-8') | (lab_core['LOINC'] == '6690-2')), \n",
    "    ((lab_core['LOINC'] == '26499-4') | (lab_core['LOINC'] == '751-8') | (lab_core['LOINC'] == '30451-9') | (lab_core['LOINC'] == '753-4')),\n",
    "    (lab_core['LOINC'] == '1751-7'),\n",
    "    ((lab_core['LOINC'] == '42719-5') | (lab_core['LOINC'] == '1975-2')),\n",
    "    ((lab_core['LOINC'] == '2947-0') | (lab_core['LOINC'] == '2951-2')),\n",
    "    ((lab_core['LOINC'] == '1963-8') | (lab_core['LOINC'] == '1959-6') | (lab_core['LOINC'] == '14627-4') | (lab_core['LOINC'] == '1960-4') | (lab_core['LOINC'] == '2028-9')),\n",
    "    ((lab_core['LOINC'] == '17861-6') | (lab_core['LOINC'] == '49765-1')),\n",
    "    (lab_core['LOINC'] == '1920-8'),\n",
    "    ((lab_core['LOINC'] == '1742-6') | (lab_core['LOINC'] == '1743-4') | (lab_core['LOINC'] == '1744-2')),\n",
    "    ((lab_core['LOINC'] == '26515-7') | (lab_core['LOINC'] == '777-3') | (lab_core['LOINC'] == '778-1') | (lab_core['LOINC'] == '49497-1')),\n",
    "    ((lab_core['LOINC'] == '6298-4') | (lab_core['LOINC'] == '2823-3')),\n",
    "    (lab_core['LOINC'] == '2075-0'), \n",
    "    (lab_core['LOINC'] == '3094-0'),\n",
    "    (lab_core['LOINC'] == '6768-6'), \n",
    "    (lab_core['LOINC'] == '2857-1')]\n",
    "\n",
    "choices = ['creatinine', \n",
    "           'hemoglobin', \n",
    "           'wbc', \n",
    "           'neutrophil_count',  \n",
    "           'albumin', \n",
    "           'total_bilirubin', \n",
    "           'sodium', \n",
    "           'bicarb',\n",
    "           'calcium',\n",
    "           'ast', \n",
    "           'alt',\n",
    "           'platelet',\n",
    "           'potassium', \n",
    "           'chloride',\n",
    "           'bun',\n",
    "           'alp', \n",
    "           'psa']\n",
    "\n",
    "lab_core.loc[:, 'lab_name'] = np.select(conditions, choices)"
   ]
  },
  {
   "cell_type": "code",
   "execution_count": 64,
   "id": "f5b224cc",
   "metadata": {},
   "outputs": [],
   "source": [
    "lab_core = (\n",
    "    lab_core\n",
    "    .dropna(subset = ['TestResultCleaned'])\n",
    ")"
   ]
  },
  {
   "cell_type": "code",
   "execution_count": 65,
   "id": "10974caa",
   "metadata": {},
   "outputs": [],
   "source": [
    "conditions = [\n",
    "    ((lab_core['lab_name'] == 'wbc') | (lab_core['lab_name'] == 'neutrophil_count') | (lab_core['lab_name'] == 'platelet')) & \n",
    "    (lab_core['TestUnits'] == '10*3/L'),\n",
    "    (lab_core['lab_name'] == 'hemoglobin') & (lab_core['TestUnits'] == 'g/uL')]\n",
    "\n",
    "choices = [lab_core['TestResultCleaned'] * 1000000,\n",
    "           lab_core['TestResultCleaned'] / 100000]\n",
    "\n",
    "lab_core.loc[:, 'test_result_cleaned'] = np.select(conditions, choices, default = lab_core['TestResultCleaned'])"
   ]
  },
  {
   "cell_type": "code",
   "execution_count": 66,
   "id": "c070d370",
   "metadata": {},
   "outputs": [],
   "source": [
    "# Elgibliity window is +30 to +330 from metastatic diagnosis. \n",
    "lab_core_win = (\n",
    "    lab_core\n",
    "    .assign(lab_date_diff = ((lab_core['ResultDate'] - (lab_core['met_date'] + pd.DateOffset(days = 180))).dt.days))\n",
    "    .query('lab_date_diff >= -150 and lab_date_diff <= 150')\n",
    "    .filter(items = ['PatientID', 'ResultDate', 'TestResultCleaned', 'lab_name', 'met_date', 'test_result_cleaned', 'lab_date_diff'])\n",
    ")"
   ]
  },
  {
   "cell_type": "code",
   "execution_count": 67,
   "id": "410bb2e9",
   "metadata": {},
   "outputs": [],
   "source": [
    "lab_core_win.loc[:, 'lab_date_diff'] = lab_core_win['lab_date_diff'].abs()"
   ]
  },
  {
   "cell_type": "code",
   "execution_count": 68,
   "id": "8dbe3bae",
   "metadata": {},
   "outputs": [],
   "source": [
    "# Select lab closest to 180 days after metastatic diagnosis and then pivot to a wide table. \n",
    "lab_180_wide = (\n",
    "    lab_core_win\n",
    "    .loc[lab_core_win.groupby(['PatientID', 'lab_name'])['lab_date_diff'].idxmin()]\n",
    "    .pivot(index = 'PatientID', columns = 'lab_name', values = 'test_result_cleaned')\n",
    "    .reset_index()\n",
    "    .rename(columns = {\n",
    "        'albumin': 'albumin_180',\n",
    "        'creatinine': 'creatinine_180',\n",
    "        'hemoglobin': 'hemoglobin_180',\n",
    "        'neutrophil_count': 'neutrophil_count_180',\n",
    "        'total_bilirubin': 'total_bilirubin_180',\n",
    "        'wbc': 'wbc_180',\n",
    "        'sodium': 'sodium_180', \n",
    "        'bicarb': 'bicarb_180',\n",
    "        'calcium': 'calcium_180',\n",
    "        'ast': 'ast_180', \n",
    "        'alt': 'alt_180',\n",
    "        'platelet': 'platelet_180',\n",
    "        'potassium': 'potassium_180',\n",
    "        'chloride': 'chloride_180',\n",
    "        'bun': 'bun_180', \n",
    "        'alp': 'alp_180',\n",
    "        'psa': 'psa_180'})\n",
    ")\n",
    "\n",
    "lab_180_wide.columns.name = None"
   ]
  },
  {
   "cell_type": "code",
   "execution_count": 69,
   "id": "9be21a01",
   "metadata": {},
   "outputs": [],
   "source": [
    "df = pd.merge(df, lab_180_wide, on = 'PatientID', how = 'outer')"
   ]
  },
  {
   "cell_type": "code",
   "execution_count": 70,
   "id": "6b69b365",
   "metadata": {},
   "outputs": [
    {
     "data": {
      "text/plain": [
       "(18927, 18927)"
      ]
     },
     "execution_count": 70,
     "metadata": {},
     "output_type": "execute_result"
    }
   ],
   "source": [
    "row_ID(df)"
   ]
  },
  {
   "cell_type": "markdown",
   "id": "1ff84373",
   "metadata": {},
   "source": [
    "### 1.5 Summary labs"
   ]
  },
  {
   "cell_type": "code",
   "execution_count": 71,
   "id": "1a594ef9",
   "metadata": {},
   "outputs": [],
   "source": [
    "# Elgibility window is negative infinity to +365 from metastatic diagnosis. \n",
    "lab_core_win_summ = (\n",
    "    lab_core\n",
    "    .assign(lab_date_diff = (lab_core['ResultDate'] - lab_core['met_date']).dt.days)\n",
    "    .query('lab_date_diff <= 365')\n",
    "    .filter(items = ['PatientID', 'ResultDate', 'TestResultCleaned', 'lab_name', 'met_date', 'test_result_cleaned', 'lab_date_diff'])\n",
    ")"
   ]
  },
  {
   "cell_type": "code",
   "execution_count": 72,
   "id": "d6838cbf",
   "metadata": {},
   "outputs": [],
   "source": [
    "# Pivot table of maximum values for core labs during elgibility period of -inf to +150 days from advanced diagnosis. \n",
    "lab_max_wide = (\n",
    "    lab_core_win_summ\n",
    "    .groupby(['PatientID', 'lab_name'])['test_result_cleaned'].max()\n",
    "    .to_frame()\n",
    "    .reset_index()\n",
    "    .pivot(index = 'PatientID', columns = 'lab_name', values = 'test_result_cleaned')\n",
    "    .filter(items = ['alp', 'alt', 'ast', 'calcium', 'creatinine', 'psa', 'total_bilirubin', 'wbc'])\n",
    "    .reset_index()\n",
    "    .rename(columns = {\n",
    "        'alp': 'alp_max_f',\n",
    "        'alt': 'alt_max_f',\n",
    "        'ast': 'ast_max_f',\n",
    "        'calcium': 'calcium_max_f',\n",
    "        'creatinine': 'creatinine_max_f',\n",
    "        'psa': 'psa_max_f',\n",
    "        'total_bilirubin': 'total_bilirubin_max_f',\n",
    "        'wbc': 'wbc_max_f'})\n",
    ")\n",
    "\n",
    "lab_max_wide.columns.name = None"
   ]
  },
  {
   "cell_type": "code",
   "execution_count": 73,
   "id": "6a4959c8",
   "metadata": {},
   "outputs": [],
   "source": [
    "# Pivot table of minimum values for core labs during elgibility period of -inf to +150 days from advanced diagnosis. \n",
    "lab_min_wide = (\n",
    "    lab_core_win_summ\n",
    "    .groupby(['PatientID', 'lab_name'])['test_result_cleaned'].min()\n",
    "    .to_frame()\n",
    "    .reset_index()\n",
    "    .pivot(index = 'PatientID', columns = 'lab_name', values = 'test_result_cleaned')\n",
    "    .filter(items = ['albumin', 'bicarb', 'hemoglobin', 'platelet', 'sodium', 'wbc'])\n",
    "    .reset_index()\n",
    "    .rename(columns = {\n",
    "        'albumin': 'albumin_min_f',\n",
    "        'bicarb': 'bicarb_min_f',\n",
    "        'hemoglobin': 'hemoglobin_min_f',\n",
    "        'platelet': 'platelet_min_f',\n",
    "        'sodium': 'sodium_min_f', \n",
    "        'wbc': 'wbc_min_f'})\n",
    ")\n",
    "\n",
    "lab_min_wide.columns.name = None"
   ]
  },
  {
   "cell_type": "code",
   "execution_count": 74,
   "id": "75a559ee",
   "metadata": {},
   "outputs": [],
   "source": [
    "df = pd.merge(df, lab_max_wide, on = 'PatientID', how = 'outer')"
   ]
  },
  {
   "cell_type": "code",
   "execution_count": 75,
   "id": "0695094e",
   "metadata": {},
   "outputs": [
    {
     "data": {
      "text/plain": [
       "(18927, 18927)"
      ]
     },
     "execution_count": 75,
     "metadata": {},
     "output_type": "execute_result"
    }
   ],
   "source": [
    "row_ID(df)"
   ]
  },
  {
   "cell_type": "code",
   "execution_count": 76,
   "id": "410b9b84",
   "metadata": {},
   "outputs": [],
   "source": [
    "df = pd.merge(df, lab_min_wide, on = 'PatientID', how = 'outer')"
   ]
  },
  {
   "cell_type": "code",
   "execution_count": 77,
   "id": "00b65d89",
   "metadata": {},
   "outputs": [
    {
     "data": {
      "text/plain": [
       "(18927, 18927)"
      ]
     },
     "execution_count": 77,
     "metadata": {},
     "output_type": "execute_result"
    }
   ],
   "source": [
    "row_ID(df)"
   ]
  },
  {
   "cell_type": "code",
   "execution_count": 78,
   "id": "e31226ac",
   "metadata": {},
   "outputs": [
    {
     "name": "stdout",
     "output_type": "stream",
     "text": [
      "Variable            Type         Data/Info\n",
      "------------------------------------------\n",
      "df                  DataFrame               PatientID Gend<...>18927 rows x 270 columns]\n",
      "enhanced_met        DataFrame               PatientID Diag<...>[18927 rows x 13 columns]\n",
      "lab                 DataFrame                  PatientID  <...>503499 rows x 17 columns]\n",
      "lab_180_wide        DataFrame               PatientID  alb<...>[14007 rows x 18 columns]\n",
      "lab_core            DataFrame                  PatientID R<...>368274 rows x 11 columns]\n",
      "lab_core_win        DataFrame                  PatientID R<...>1418619 rows x 7 columns]\n",
      "lab_core_win_summ   DataFrame                  PatientID R<...>2374164 rows x 7 columns]\n",
      "lab_max_wide        DataFrame               PatientID  alp<...>n[15226 rows x 9 columns]\n",
      "lab_min_wide        DataFrame               PatientID  alb<...>n[15226 rows x 7 columns]\n",
      "test                DataFrame              PatientID Gende<...>[3786 rows x 228 columns]\n",
      "train               DataFrame               PatientID Gend<...>15141 rows x 228 columns]\n"
     ]
    }
   ],
   "source": [
    "%whos DataFrame"
   ]
  },
  {
   "cell_type": "code",
   "execution_count": 79,
   "id": "ffabce27",
   "metadata": {},
   "outputs": [],
   "source": [
    "del enhanced_met\n",
    "del lab\n",
    "del lab_180_wide\n",
    "del lab_core\n",
    "del lab_core_win\n",
    "del lab_core_win_summ\n",
    "del lab_max_wide\n",
    "del lab_min_wide"
   ]
  },
  {
   "cell_type": "markdown",
   "id": "eecc61d5",
   "metadata": {},
   "source": [
    "### 1.6 Replacing 'unknown' with np.nan for variables of interest"
   ]
  },
  {
   "cell_type": "code",
   "execution_count": 80,
   "id": "cb424b83",
   "metadata": {},
   "outputs": [],
   "source": [
    "df = df.replace({'stage': {'unknown': np.nan, '0': 'I'},\n",
    "                 'ecog_diagnosis': {'unknown': np.nan}})"
   ]
  },
  {
   "cell_type": "code",
   "execution_count": 81,
   "id": "c8340543",
   "metadata": {},
   "outputs": [
    {
     "data": {
      "text/plain": [
       "IV     9423\n",
       "NaN    7474\n",
       "II     1065\n",
       "III     819\n",
       "I       146\n",
       "Name: stage, dtype: int64"
      ]
     },
     "execution_count": 81,
     "metadata": {},
     "output_type": "execute_result"
    }
   ],
   "source": [
    "df.stage.value_counts(dropna = False)"
   ]
  },
  {
   "cell_type": "code",
   "execution_count": 82,
   "id": "ea262b7a",
   "metadata": {},
   "outputs": [
    {
     "data": {
      "text/plain": [
       "NaN    12841\n",
       "0.0     2680\n",
       "1.0     2343\n",
       "2.0      779\n",
       "3.0      270\n",
       "4.0       14\n",
       "Name: ecog_diagnosis, dtype: int64"
      ]
     },
     "execution_count": 82,
     "metadata": {},
     "output_type": "execute_result"
    }
   ],
   "source": [
    "df.ecog_diagnosis.value_counts(dropna = False)"
   ]
  },
  {
   "cell_type": "markdown",
   "id": "c9c74efb",
   "metadata": {},
   "source": [
    "### 1.7 Dropping unwanted summary variables "
   ]
  },
  {
   "cell_type": "code",
   "execution_count": 83,
   "id": "110dfac7",
   "metadata": {},
   "outputs": [],
   "source": [
    "# Pasted from crude_model_building file \n",
    "drop_labs = [\n",
    "    'albumin_avg',\n",
    "    'alp_avg',\n",
    "    'alt_avg',\n",
    "    'ast_avg',\n",
    "    'bicarb_avg',\n",
    "    'bun_avg',\n",
    "    'calcium_avg',\n",
    "    'chloride_avg',\n",
    "    'creatinine_avg',\n",
    "    'hemoglobin_avg',\n",
    "    'neutrophil_count_avg',\n",
    "    'platelet_avg',\n",
    "    'potassium_avg',\n",
    "    'psa_avg',\n",
    "    'sodium_avg',\n",
    "    'total_bilirubin_avg',\n",
    "    'wbc_avg',\n",
    "    'albumin_max',\n",
    "    'bicarb_max',\n",
    "    'bun_max',\n",
    "    'chloride_max',\n",
    "    'hemoglobin_max',\n",
    "    'neutrophil_count_max',\n",
    "    'platelet_max',\n",
    "    'potassium_max',\n",
    "    'sodium_max',\n",
    "    'alp_min',\n",
    "    'alt_min',\n",
    "    'ast_min',\n",
    "    'bun_min',\n",
    "    'calcium_min',\n",
    "    'chloride_min',\n",
    "    'creatinine_min',\n",
    "    'neutrophil_count_min',\n",
    "    'potassium_min',\n",
    "    'psa_min',\n",
    "    'total_bilirubin_min',\n",
    "    'albumin_std',\n",
    "    'alp_std',\n",
    "    'alt_std',\n",
    "    'ast_std',\n",
    "    'bicarb_std',\n",
    "    'bun_std',\n",
    "    'calcium_std',\n",
    "    'chloride_std',\n",
    "    'creatinine_std',\n",
    "    'hemoglobin_std',\n",
    "    'neutrophil_count_std',\n",
    "    'platelet_std',\n",
    "    'potassium_std',\n",
    "    'psa_std',\n",
    "    'sodium_std',\n",
    "    'total_bilirubin_std',\n",
    "    'wbc_std',\n",
    "    'albumin_slope',\n",
    "    'alp_slope',\n",
    "    'alt_slope',\n",
    "    'ast_slope',\n",
    "    'bicarb_slope',\n",
    "    'bun_slope',\n",
    "    'calcium_slope',\n",
    "    'chloride_slope',\n",
    "    'creatinine_slope',\n",
    "    'hemoglobin_slope',\n",
    "    'neutrophil_count_slope',\n",
    "    'platelet_slope',\n",
    "    'potassium_slope',\n",
    "    'sodium_slope',\n",
    "    'total_bilirubin_slope',\n",
    "    'wbc_slope',\n",
    "    'albumin_slope_na',\n",
    "    'alp_slope_na',\n",
    "    'alt_slope_na',\n",
    "    'ast_slope_na',\n",
    "    'bicarb_slope_na',\n",
    "    'bun_slope_na',\n",
    "    'calcium_slope_na',\n",
    "    'chloride_slope_na',\n",
    "    'creatinine_slope_na',\n",
    "    'hemoglobin_slope_na',\n",
    "    'neutrophil_count_slope_na',\n",
    "    'platelet_slope_na',\n",
    "    'potassium_slope_na',\n",
    "    'sodium_slope_na',\n",
    "    'total_bilirubin_slope_na',\n",
    "    'wbc_slope_na']"
   ]
  },
  {
   "cell_type": "code",
   "execution_count": 84,
   "id": "65bb54fc",
   "metadata": {},
   "outputs": [],
   "source": [
    "df = df.drop(columns = drop_labs)"
   ]
  },
  {
   "cell_type": "code",
   "execution_count": 85,
   "id": "f82b31b0",
   "metadata": {},
   "outputs": [
    {
     "data": {
      "text/plain": [
       "(18927, 184)"
      ]
     },
     "execution_count": 85,
     "metadata": {},
     "output_type": "execute_result"
    }
   ],
   "source": [
    "df.shape"
   ]
  },
  {
   "cell_type": "code",
   "execution_count": 86,
   "id": "c1763302",
   "metadata": {},
   "outputs": [],
   "source": [
    "df.loc[:, 'alp_max_na'] = np.where(df['alp_max'].isna(), 1, 0)\n",
    "df.loc[:, 'alt_max_na'] = np.where(df['alt_max'].isna(), 1, 0)\n",
    "df.loc[:, 'ast_max_na'] = np.where(df['ast_max'].isna(), 1, 0)\n",
    "df.loc[:, 'calcium_max_na'] = np.where(df['calcium_max'].isna(), 1, 0)\n",
    "df.loc[:, 'creatinine_max_na'] = np.where(df['creatinine_max'].isna(), 1, 0)\n",
    "df.loc[:, 'psa_max_na'] = np.where(df['creatinine_max'].isna(), 1, 0)\n",
    "df.loc[:, 'total_bilirubin_max_na'] = np.where(df['total_bilirubin_max'].isna(), 1, 0)\n",
    "df.loc[:, 'wbc_max_na'] = np.where(df['wbc_max'].isna(), 1, 0)\n",
    "df.loc[:, 'albumin_min_na'] = np.where(df['albumin_min'].isna(), 1, 0)\n",
    "df.loc[:, 'bicarb_min_na'] = np.where(df['bicarb_min'].isna(), 1, 0)\n",
    "df.loc[:, 'hemoglobin_min_na'] = np.where(df['hemoglobin_min'].isna(), 1, 0)\n",
    "df.loc[:, 'platelet_min_na'] = np.where(df['platelet_min'].isna(), 1, 0)\n",
    "df.loc[:, 'sodium_min_na'] = np.where(df['sodium_min'].isna(), 1, 0)\n",
    "df.loc[:, 'wbc_min_na'] = np.where(df['wbc_min'].isna(), 1, 0)"
   ]
  },
  {
   "cell_type": "code",
   "execution_count": 87,
   "id": "327d29e8",
   "metadata": {},
   "outputs": [
    {
     "data": {
      "text/plain": [
       "(18927, 198)"
      ]
     },
     "execution_count": 87,
     "metadata": {},
     "output_type": "execute_result"
    }
   ],
   "source": [
    "df.shape"
   ]
  },
  {
   "cell_type": "code",
   "execution_count": 88,
   "id": "3809dd70",
   "metadata": {},
   "outputs": [
    {
     "data": {
      "text/plain": [
       "(18927, 18927)"
      ]
     },
     "execution_count": 88,
     "metadata": {},
     "output_type": "execute_result"
    }
   ],
   "source": [
    "row_ID(df)"
   ]
  },
  {
   "cell_type": "code",
   "execution_count": 89,
   "id": "2784e438",
   "metadata": {},
   "outputs": [],
   "source": [
    "df_mice = df"
   ]
  },
  {
   "cell_type": "code",
   "execution_count": 90,
   "id": "e31c6c8d",
   "metadata": {},
   "outputs": [],
   "source": [
    "df_mice.to_csv('df_mice.csv', index = False, header = True)"
   ]
  },
  {
   "cell_type": "markdown",
   "id": "86688b61",
   "metadata": {},
   "source": [
    "### 1.8 Final processing"
   ]
  },
  {
   "cell_type": "code",
   "execution_count": 91,
   "id": "326235c7",
   "metadata": {},
   "outputs": [],
   "source": [
    "train_mice = df_mice[df_mice['PatientID'].isin(train['PatientID'])]\n",
    "train_mice = train_mice.set_index('PatientID')"
   ]
  },
  {
   "cell_type": "code",
   "execution_count": 92,
   "id": "5cfc9253",
   "metadata": {},
   "outputs": [],
   "source": [
    "test_mice = df_mice[df_mice['PatientID'].isin(test['PatientID'])]\n",
    "test_mice = test_mice.set_index('PatientID')"
   ]
  },
  {
   "cell_type": "code",
   "execution_count": 93,
   "id": "d46a85e5",
   "metadata": {},
   "outputs": [
    {
     "data": {
      "text/plain": [
       "(15141, 197)"
      ]
     },
     "execution_count": 93,
     "metadata": {},
     "output_type": "execute_result"
    }
   ],
   "source": [
    "train_mice.shape"
   ]
  },
  {
   "cell_type": "code",
   "execution_count": 94,
   "id": "31812729",
   "metadata": {},
   "outputs": [
    {
     "data": {
      "text/plain": [
       "(3786, 197)"
      ]
     },
     "execution_count": 94,
     "metadata": {},
     "output_type": "execute_result"
    }
   ],
   "source": [
    "test_mice.shape"
   ]
  },
  {
   "cell_type": "code",
   "execution_count": 95,
   "id": "367bdd14",
   "metadata": {},
   "outputs": [
    {
     "data": {
      "text/plain": [
       "['Gender',\n",
       " 'race',\n",
       " 'ethnicity',\n",
       " 'p_type',\n",
       " 'NStage',\n",
       " 'MStage',\n",
       " 'Histology',\n",
       " 'GleasonScore',\n",
       " 'stage',\n",
       " 'brca_status',\n",
       " 'ecog_diagnosis',\n",
       " 'prim_treatment']"
      ]
     },
     "execution_count": 95,
     "metadata": {},
     "output_type": "execute_result"
    }
   ],
   "source": [
    "list(train_mice.select_dtypes(include = ['object']).columns)"
   ]
  },
  {
   "cell_type": "code",
   "execution_count": 96,
   "id": "b45f90c5",
   "metadata": {},
   "outputs": [],
   "source": [
    "to_be_categorical = list(train_mice.select_dtypes(include = ['object']).columns)"
   ]
  },
  {
   "cell_type": "code",
   "execution_count": 97,
   "id": "fcdd7122",
   "metadata": {},
   "outputs": [],
   "source": [
    "to_be_categorical.append('met_year')"
   ]
  },
  {
   "cell_type": "code",
   "execution_count": 98,
   "id": "6a07f852",
   "metadata": {},
   "outputs": [],
   "source": [
    "# miceforest requires columns to be category or int/float, so object columns will be converted to category. \n",
    "for x in list(to_be_categorical):\n",
    "    train_mice[x] = train_mice[x].astype('category')"
   ]
  },
  {
   "cell_type": "code",
   "execution_count": 99,
   "id": "52598bc3",
   "metadata": {},
   "outputs": [],
   "source": [
    "# Convert variables in list to categorical.\n",
    "for x in list(to_be_categorical):\n",
    "    test_mice[x] = test_mice[x].astype('category')"
   ]
  },
  {
   "cell_type": "code",
   "execution_count": 100,
   "id": "0a57939e",
   "metadata": {},
   "outputs": [
    {
     "data": {
      "text/plain": [
       "['Gender',\n",
       " 'race',\n",
       " 'ethnicity',\n",
       " 'p_type',\n",
       " 'NStage',\n",
       " 'MStage',\n",
       " 'Histology',\n",
       " 'GleasonScore',\n",
       " 'stage',\n",
       " 'met_year',\n",
       " 'brca_status',\n",
       " 'ecog_diagnosis',\n",
       " 'prim_treatment']"
      ]
     },
     "execution_count": 100,
     "metadata": {},
     "output_type": "execute_result"
    }
   ],
   "source": [
    "list(train_mice.select_dtypes(include = ['category']).columns)"
   ]
  },
  {
   "cell_type": "code",
   "execution_count": 101,
   "id": "41622f03",
   "metadata": {},
   "outputs": [
    {
     "data": {
      "text/plain": [
       "['PSADiagnosis',\n",
       " 'PSAMetDiagnosis',\n",
       " 'stage',\n",
       " 'ecog_diagnosis',\n",
       " 'weight_diag',\n",
       " 'bmi_diag',\n",
       " 'weight_pct_change',\n",
       " 'weight_slope',\n",
       " 'albumin_diag',\n",
       " 'alp_diag',\n",
       " 'alt_diag',\n",
       " 'ast_diag',\n",
       " 'bicarb_diag',\n",
       " 'bun_diag',\n",
       " 'calcium_diag',\n",
       " 'chloride_diag',\n",
       " 'creatinine_diag',\n",
       " 'hemoglobin_diag',\n",
       " 'neutrophil_count_diag',\n",
       " 'platelet_diag',\n",
       " 'potassium_diag',\n",
       " 'sodium_diag',\n",
       " 'total_bilirubin_diag',\n",
       " 'wbc_diag',\n",
       " 'alp_max',\n",
       " 'alt_max',\n",
       " 'ast_max',\n",
       " 'calcium_max',\n",
       " 'creatinine_max',\n",
       " 'psa_max',\n",
       " 'total_bilirubin_max',\n",
       " 'wbc_max',\n",
       " 'albumin_min',\n",
       " 'bicarb_min',\n",
       " 'hemoglobin_min',\n",
       " 'platelet_min',\n",
       " 'sodium_min',\n",
       " 'wbc_min',\n",
       " 'psa_slope',\n",
       " 'weight_180',\n",
       " 'bmi_180',\n",
       " 'weight_pct_1yr',\n",
       " 'weight_slope_1yr',\n",
       " 'albumin_180',\n",
       " 'alp_180',\n",
       " 'alt_180',\n",
       " 'ast_180',\n",
       " 'bicarb_180',\n",
       " 'bun_180',\n",
       " 'calcium_180',\n",
       " 'chloride_180',\n",
       " 'creatinine_180',\n",
       " 'hemoglobin_180',\n",
       " 'neutrophil_count_180',\n",
       " 'platelet_180',\n",
       " 'potassium_180',\n",
       " 'psa_180',\n",
       " 'sodium_180',\n",
       " 'total_bilirubin_180',\n",
       " 'wbc_180',\n",
       " 'alp_max_f',\n",
       " 'alt_max_f',\n",
       " 'ast_max_f',\n",
       " 'calcium_max_f',\n",
       " 'creatinine_max_f',\n",
       " 'psa_max_f',\n",
       " 'total_bilirubin_max_f',\n",
       " 'wbc_max_f',\n",
       " 'albumin_min_f',\n",
       " 'bicarb_min_f',\n",
       " 'hemoglobin_min_f',\n",
       " 'platelet_min_f',\n",
       " 'sodium_min_f',\n",
       " 'wbc_min_f']"
      ]
     },
     "execution_count": 101,
     "metadata": {},
     "output_type": "execute_result"
    }
   ],
   "source": [
    "# List of variable that have missing values which MICE will impute. \n",
    "list(train_mice.columns[train_mice.isnull().any()])"
   ]
  },
  {
   "cell_type": "code",
   "execution_count": 102,
   "id": "dcb5d97f",
   "metadata": {},
   "outputs": [
    {
     "data": {
      "text/plain": [
       "74"
      ]
     },
     "execution_count": 102,
     "metadata": {},
     "output_type": "execute_result"
    }
   ],
   "source": [
    "len(train_mice.columns[train_mice.isnull().any()])"
   ]
  },
  {
   "cell_type": "markdown",
   "id": "60c947ae",
   "metadata": {},
   "source": [
    "## 2. Building training and test set using miceforest "
   ]
  },
  {
   "cell_type": "code",
   "execution_count": 103,
   "id": "1feb9507",
   "metadata": {},
   "outputs": [],
   "source": [
    "import miceforest as mf"
   ]
  },
  {
   "cell_type": "markdown",
   "id": "33e1933e",
   "metadata": {},
   "source": [
    "### 2.1 Finding ideal parameters"
   ]
  },
  {
   "cell_type": "code",
   "execution_count": 104,
   "id": "4ae9a998",
   "metadata": {},
   "outputs": [],
   "source": [
    "# Create kernel. \n",
    "kernel = mf.ImputationKernel(\n",
    "    train_mice,\n",
    "    datasets = 5,\n",
    "    save_all_iterations = True,\n",
    "    random_state = 42)"
   ]
  },
  {
   "cell_type": "code",
   "execution_count": 105,
   "id": "ff27a2da",
   "metadata": {},
   "outputs": [
    {
     "name": "stdout",
     "output_type": "stream",
     "text": [
      "PSAMetDiagnosis | 0 - 1 - 2 - 3 - 4 - \n",
      "weight_pct_1yr | 0 - 1 - 2 - 3 - 4 - \n",
      "weight_slope_1yr | 0 - 1 - 2 - 3 - 4 - \n",
      "hemoglobin_min_f | 0 - 1 - 2 - 3 - 4 - \n",
      "creatinine_max_f | 0 - 1 - 2 - 3 - 4 - \n",
      "calcium_max_f | 0 - 1 - 2 - 3 - 4 - \n",
      "alp_max_f | 0 - 1 - 2 - 3 - 4 - \n",
      "ast_max_f | 0 - 1 - 2 - 3 - 4 - \n",
      "alt_max_f | 0 - 1 - 2 - 3 - 4 - \n",
      "total_bilirubin_max_f | 0 - 1 - 2 - 3 - 4 - \n",
      "wbc_min_f | 0 - 1 - 2 - 3 - 4 - \n",
      "wbc_max_f | 0 - 1 - 2 - 3 - 4 - \n",
      "albumin_min_f | 0 - 1 - 2 - 3 - 4 - \n",
      "platelet_min_f | 0 - 1 - 2 - 3 - 4 - \n",
      "hemoglobin_180 | 0 - 1 - 2 - 3 - 4 - \n",
      "PSADiagnosis | 0 - 1 - 2 - 3 - 4 - \n",
      "bun_180 | 0 - 1 - 2 - 3 - 4 - \n",
      "creatinine_180 | 0 - 1 - 2 - 3 - 4 - \n",
      "calcium_180 | 0 - 1 - 2 - 3 - 4 - \n",
      "alp_180 | 0 - 1 - 2 - 3 - 4 - \n",
      "ast_180 | 0 - 1 - 2 - 3 - 4 - \n",
      "alt_180 | 0 - 1 - 2 - 3 - 4 - \n",
      "total_bilirubin_180 | 0 - 1 - 2 - 3 - 4 - \n",
      "albumin_180 | 0 - 1 - 2 - 3 - 4 - \n",
      "wbc_180 | 0 - 1 - 2 - 3 - 4 - \n",
      "bicarb_min_f | 0 - 1 - 2 - 3 - 4 - \n",
      "platelet_180 | 0 - 1 - 2 - 3 - 4 - \n",
      "weight_180 | 0 - 1 - 2 - 3 - 4 - \n",
      "bmi_180 | 0 - 1 - 2 - 3 - 4 - \n",
      "sodium_min_f | 0 - 1 - 2 - 3 - 4 - \n",
      "stage | 0 - 1 - 2 - 3 - 4 - \n",
      "weight_pct_change | 0 - 1 - 2 - 3 - 4 - \n",
      "weight_slope | 0 - 1 - 2 - 3 - 4 - \n",
      "bicarb_180 | 0 - 1 - 2 - 3 - 4 - \n",
      "neutrophil_count_180 | 0 - 1 - 2 - 3 - 4 - \n",
      "potassium_180 | 0 - 1 - 2 - 3 - 4 - \n",
      "sodium_180 | 0 - 1 - 2 - 3 - 4 - \n",
      "weight_diag | 0 - 1 - 2 - 3 - 4 - \n",
      "bmi_diag | 0 - 1 - 2 - 3 - 4 - \n",
      "psa_max_f | 0 - 1 - 2 - 3 - 4 - \n",
      "chloride_180 | 0 - 1 - 2 - 3 - 4 - \n",
      "hemoglobin_min | 0 - 1 - 2 - 3 - 4 - \n",
      "creatinine_max | 0 - 1 - 2 - 3 - 4 - \n",
      "calcium_max | 0 - 1 - 2 - 3 - 4 - \n",
      "ast_max | 0 - 1 - 2 - 3 - 4 - \n",
      "alp_max | 0 - 1 - 2 - 3 - 4 - \n",
      "wbc_max | 0 - 1 - 2 - 3 - 4 - \n",
      "wbc_min | 0 - 1 - 2 - 3 - 4 - \n",
      "alt_max | 0 - 1 - 2 - 3 - 4 - \n",
      "total_bilirubin_max | 0 - 1 - 2 - 3 - 4 - \n",
      "psa_180 | 0 - 1 - 2 - 3 - 4 - \n",
      "platelet_min | 0 - 1 - 2 - 3 - 4 - \n",
      "albumin_min | 0 - 1 - 2 - 3 - 4 - \n",
      "hemoglobin_diag | 0 - 1 - 2 - 3 - 4 - \n",
      "creatinine_diag | 0 - 1 - 2 - 3 - 4 - \n",
      "bun_diag | 0 - 1 - 2 - 3 - 4 - \n",
      "calcium_diag | 0 - 1 - 2 - 3 - 4 - \n",
      "ast_diag | 0 - 1 - 2 - 3 - 4 - \n",
      "alp_diag | 0 - 1 - 2 - 3 - 4 - \n",
      "alt_diag | 0 - 1 - 2 - 3 - 4 - \n",
      "total_bilirubin_diag | 0 - 1 - 2 - 3 - 4 - \n",
      "wbc_diag | 0 - 1 - 2 - 3 - 4 - \n",
      "albumin_diag | 0 - 1 - 2 - 3 - 4 - \n",
      "platelet_diag | 0 - 1 - 2 - 3 - 4 - \n",
      "bicarb_min | 0 - 1 - 2 - 3 - 4 - \n",
      "sodium_min | 0 - 1 - 2 - 3 - 4 - \n",
      "bicarb_diag | 0 - 1 - 2 - 3 - 4 - \n",
      "neutrophil_count_diag | 0 - 1 - 2 - 3 - 4 - \n",
      "ecog_diagnosis | 0 - 1 - 2 - 3 - 4 - \n",
      "potassium_diag | 0 - 1 - 2 - 3 - 4 - \n",
      "sodium_diag | 0 - 1 - 2 - 3 - 4 - \n",
      "psa_max | 0 - 1 - 2 - 3 - 4 - \n",
      "chloride_diag | 0 - 1 - 2 - 3 - 4 - \n",
      "psa_slope | 0 - 1 - 2 - 3 - 4 - \n"
     ]
    }
   ],
   "source": [
    "# Using the first ImputationKernel in kernel to tune parameters with the default settings.\n",
    "optimal_parameters, losses = kernel.tune_parameters(\n",
    "    dataset = 0,\n",
    "    optimization_steps = 5,\n",
    "    verbose = 1,\n",
    "    random_state = 42)"
   ]
  },
  {
   "cell_type": "markdown",
   "id": "16d05a1c",
   "metadata": {},
   "source": [
    "### 2.2 Building training datasets"
   ]
  },
  {
   "cell_type": "code",
   "execution_count": 106,
   "id": "96b6a6f3",
   "metadata": {},
   "outputs": [],
   "source": [
    "# Run mice with our newly tuned parameters.\n",
    "kernel.mice(iterations = 5, \n",
    "            variable_parameters = optimal_parameters,\n",
    "            verbose = 0)"
   ]
  },
  {
   "cell_type": "code",
   "execution_count": 107,
   "id": "49ec5228",
   "metadata": {},
   "outputs": [],
   "source": [
    "for x in range(5): \n",
    "    kernel.complete_data(dataset = x).to_csv('mice_tr'+str(x)+'.csv', index = True, header = True)"
   ]
  },
  {
   "cell_type": "markdown",
   "id": "0d23d1dc",
   "metadata": {},
   "source": [
    "### 2.3 Building test datasets"
   ]
  },
  {
   "cell_type": "code",
   "execution_count": 108,
   "id": "d78f08d0",
   "metadata": {},
   "outputs": [],
   "source": [
    "test_imputed = kernel.impute_new_data(new_data = test_mice, verbose = 0)"
   ]
  },
  {
   "cell_type": "code",
   "execution_count": 109,
   "id": "c54007d3",
   "metadata": {},
   "outputs": [],
   "source": [
    "for x in range(5): \n",
    "    test_imputed.complete_data(dataset = x).to_csv('mice_te'+str(x)+'.csv', index = True, header = True)"
   ]
  },
  {
   "cell_type": "markdown",
   "id": "2ed41b1b",
   "metadata": {},
   "source": [
    "## 3. Building gradient boosting models "
   ]
  },
  {
   "cell_type": "code",
   "execution_count": 110,
   "id": "63ff28e9",
   "metadata": {},
   "outputs": [],
   "source": [
    "from sklearn.pipeline import Pipeline, make_pipeline\n",
    "from sklearn.impute import SimpleImputer\n",
    "from sklearn.preprocessing import StandardScaler, OneHotEncoder, OrdinalEncoder\n",
    "from sklearn.compose import ColumnTransformer \n",
    "from sklearn.experimental import enable_halving_search_cv\n",
    "from sklearn.model_selection import StratifiedKFold, HalvingGridSearchCV\n",
    "\n",
    "from sksurv.ensemble import GradientBoostingSurvivalAnalysis\n",
    "from sksurv.metrics import cumulative_dynamic_auc, as_cumulative_dynamic_auc_scorer\n",
    "\n",
    "from joblib import dump, load\n",
    "\n",
    "import matplotlib.pyplot as plt\n",
    "\n",
    "import warnings"
   ]
  },
  {
   "cell_type": "markdown",
   "id": "9c2aad23",
   "metadata": {},
   "source": [
    "### 3.1 Model 0"
   ]
  },
  {
   "cell_type": "markdown",
   "id": "82b96f0a",
   "metadata": {},
   "source": [
    "#### Preprocessing and building pipeline "
   ]
  },
  {
   "cell_type": "code",
   "execution_count": 111,
   "id": "3b00ff00",
   "metadata": {},
   "outputs": [],
   "source": [
    "# Import first training set\n",
    "train_mice0 = pd.read_csv('mice_tr0.csv', index_col = 'PatientID')\n",
    "\n",
    "# Import all test sets\n",
    "test_mice0 = pd.read_csv('mice_te0.csv', index_col = 'PatientID')\n",
    "test_mice1 = pd.read_csv('mice_te1.csv', index_col = 'PatientID')\n",
    "test_mice2 = pd.read_csv('mice_te2.csv', index_col = 'PatientID')\n",
    "test_mice3 = pd.read_csv('mice_te3.csv', index_col = 'PatientID')\n",
    "test_mice4 = pd.read_csv('mice_te4.csv', index_col = 'PatientID')"
   ]
  },
  {
   "cell_type": "code",
   "execution_count": 112,
   "id": "6f64f5ad",
   "metadata": {},
   "outputs": [],
   "source": [
    "# Combine all test sets into 1 to get more robust estimates from models\n",
    "test_mice = pd.concat([test_mice0, test_mice1, test_mice2, test_mice3, test_mice4], ignore_index = False)"
   ]
  },
  {
   "cell_type": "code",
   "execution_count": 113,
   "id": "2b7b656c",
   "metadata": {},
   "outputs": [
    {
     "name": "stdout",
     "output_type": "stream",
     "text": [
      "(15141, 197)\n",
      "(18930, 197)\n"
     ]
    }
   ],
   "source": [
    "print(train_mice0.shape)\n",
    "print(test_mice.shape)"
   ]
  },
  {
   "cell_type": "code",
   "execution_count": 114,
   "id": "6bb3a266",
   "metadata": {},
   "outputs": [
    {
     "data": {
      "text/plain": [
       "Index(['abe', 'albumin_180', 'albumin_min_f', 'alp_180', 'alp_max_f',\n",
       "       'alt_180', 'alt_max_f', 'ast_180', 'ast_max_f', 'bicarb_180',\n",
       "       'bicarb_min_f', 'bmi_180', 'bun_180', 'calcium_180', 'calcium_max_f',\n",
       "       'chloride_180', 'creatinine_180', 'creatinine_max_f', 'crpc_1',\n",
       "       'crpc_2', 'crpc_3', 'hemoglobin_180', 'hemoglobin_min_f', 'hspc',\n",
       "       'late_adt', 'neutrophil_count_180', 'platelet_180', 'platelet_min_f',\n",
       "       'potassium_180', 'psa_180', 'psa_max_f', 'sipt', 'sodium_180',\n",
       "       'sodium_min_f', 'total_bilirubin_180', 'total_bilirubin_max_f',\n",
       "       'wbc_180', 'wbc_max_f', 'wbc_min_f', 'weight_180', 'weight_pct_1yr',\n",
       "       'weight_slope_1yr'],\n",
       "      dtype='object')"
      ]
     },
     "execution_count": 114,
     "metadata": {},
     "output_type": "execute_result"
    }
   ],
   "source": [
    "# Auxillary variables generated for MICE\n",
    "(\n",
    "    train_mice0.columns[train_mice0.columns.str.contains('_1|_2|_3|_4|_180|_1yr|x_f|n_f')]\n",
    "    .union(train_mice0.columns[train_mice0.columns.str.match('late_adt|abe|sipt|hspc')])\n",
    ")"
   ]
  },
  {
   "cell_type": "code",
   "execution_count": 115,
   "id": "0bd219f9",
   "metadata": {},
   "outputs": [],
   "source": [
    "#Remove auxillary variables for train and test sets\n",
    "mice_drop = (\n",
    "    train_mice0.columns[train_mice0.columns.str.contains('_1|_2|_3|_4|_180|_1yr|x_f|n_f')]\n",
    "    .union(train_mice0.columns[train_mice0.columns.str.match('late_adt|abe|sipt|hspc')])\n",
    ")\n",
    "\n",
    "train_mice0 = train_mice0.drop(columns = mice_drop)\n",
    "\n",
    "test_mice = test_mice.drop(columns = mice_drop)"
   ]
  },
  {
   "cell_type": "code",
   "execution_count": 116,
   "id": "ccae2da6",
   "metadata": {},
   "outputs": [
    {
     "name": "stdout",
     "output_type": "stream",
     "text": [
      "(15141, 155)\n",
      "(18930, 155)\n"
     ]
    }
   ],
   "source": [
    "print(train_mice0.shape)\n",
    "print(test_mice.shape)"
   ]
  },
  {
   "cell_type": "code",
   "execution_count": 117,
   "id": "09e645dc",
   "metadata": {},
   "outputs": [],
   "source": [
    "# Remove unecessary demographic variables for train and test sets\n",
    "dem_var = ['race',\n",
    "           'ethnicity',\n",
    "           'medicare',\n",
    "           'medicaid',\n",
    "           'medicare_medicaid',\n",
    "           'commercial',\n",
    "           'patient_assistance',\n",
    "           'other_govt',\n",
    "           'self_pay',\n",
    "           'other']\n",
    "\n",
    "train_mice0 = train_mice0.drop(columns = dem_var)\n",
    "\n",
    "test_mice = test_mice.drop(columns = dem_var)"
   ]
  },
  {
   "cell_type": "code",
   "execution_count": 118,
   "id": "6db27b05",
   "metadata": {},
   "outputs": [],
   "source": [
    "# Generate ecog_na, stage_na, and ses_na indicator variables\n",
    "train_mice0['ecog_na'] = np.where(train_mice0.index.isin(train.query('ecog_diagnosis == \"unknown\"').PatientID), 1, 0)\n",
    "train_mice0['stage_na'] = np.where(train_mice0.index.isin(train.query('stage == \"unknown\"').PatientID), 1, 0)\n",
    "\n",
    "test_mice['ecog_na'] = np.where(test_mice.index.isin(test.query('ecog_diagnosis == \"unknown\"').PatientID), 1, 0)\n",
    "test_mice['stage_na'] = np.where(test_mice.index.isin(test.query('stage == \"unknown\"').PatientID), 1, 0)"
   ]
  },
  {
   "cell_type": "code",
   "execution_count": 119,
   "id": "0d7a60f0",
   "metadata": {},
   "outputs": [],
   "source": [
    "to_be_categorical = ['Gender',\n",
    "                     'p_type',\n",
    "                     'NStage',\n",
    "                     'MStage',\n",
    "                     'Histology',\n",
    "                     'GleasonScore',\n",
    "                     'stage',\n",
    "                     'met_year',\n",
    "                     'brca_status',\n",
    "                     'ecog_diagnosis',\n",
    "                     'prim_treatment']"
   ]
  },
  {
   "cell_type": "code",
   "execution_count": 120,
   "id": "e4f25a85",
   "metadata": {},
   "outputs": [],
   "source": [
    "# Convert object variables to categorical variables for train and test \n",
    "for x in list(to_be_categorical):\n",
    "    train_mice0[x] = train_mice0[x].astype('category')\n",
    "    \n",
    "for x in list(to_be_categorical):\n",
    "    test_mice[x] = test_mice[x].astype('category')"
   ]
  },
  {
   "cell_type": "code",
   "execution_count": 121,
   "id": "58aceec1",
   "metadata": {},
   "outputs": [
    {
     "data": {
      "text/plain": [
       "['Gender',\n",
       " 'p_type',\n",
       " 'NStage',\n",
       " 'MStage',\n",
       " 'Histology',\n",
       " 'GleasonScore',\n",
       " 'stage',\n",
       " 'met_year',\n",
       " 'brca_status',\n",
       " 'ecog_diagnosis',\n",
       " 'prim_treatment']"
      ]
     },
     "execution_count": 121,
     "metadata": {},
     "output_type": "execute_result"
    }
   ],
   "source": [
    "list(train_mice0.select_dtypes(include = ['category']).columns)"
   ]
  },
  {
   "cell_type": "code",
   "execution_count": 122,
   "id": "7b2aa0dd",
   "metadata": {},
   "outputs": [],
   "source": [
    "# Death status to boolean \n",
    "train_mice0['death_status'] = train_mice0['death_status'].astype('bool')\n",
    "\n",
    "test_mice['death_status'] = test_mice['death_status'].astype('bool')"
   ]
  },
  {
   "cell_type": "code",
   "execution_count": 123,
   "id": "32da9fe5",
   "metadata": {},
   "outputs": [],
   "source": [
    "#Define validation and subtrain\n",
    "val_IDs = pd.read_csv('val_IDs.csv')\n",
    "\n",
    "val_mice0 = train_mice0[train_mice0.index.isin(val_IDs['PatientID'])]\n",
    "\n",
    "sub_train_mice0 = train_mice0[~train_mice0.index.isin(val_IDs['PatientID'])]"
   ]
  },
  {
   "cell_type": "code",
   "execution_count": 124,
   "id": "09fe01e8",
   "metadata": {},
   "outputs": [
    {
     "name": "stdout",
     "output_type": "stream",
     "text": [
      "(15141, 147)\n",
      "(11355, 147)\n",
      "(3786, 147)\n"
     ]
    }
   ],
   "source": [
    "print(train_mice0.shape)\n",
    "print(sub_train_mice0.shape)\n",
    "print(val_mice0.shape)"
   ]
  },
  {
   "cell_type": "code",
   "execution_count": 125,
   "id": "49fd3a85",
   "metadata": {},
   "outputs": [],
   "source": [
    "# 'X' datasets\n",
    "train_mice0_x = train_mice0.drop(columns = ['death_status', 'timerisk_activity'])\n",
    "\n",
    "sub_train_mice0_x = sub_train_mice0.drop(columns = ['death_status', 'timerisk_activity'])\n",
    "\n",
    "val_mice0_x = val_mice0.drop(columns = ['death_status', 'timerisk_activity'])\n",
    "\n",
    "test_mice_x = test_mice.drop(columns = ['death_status', 'timerisk_activity'])"
   ]
  },
  {
   "cell_type": "code",
   "execution_count": 126,
   "id": "f986574d",
   "metadata": {},
   "outputs": [
    {
     "name": "stdout",
     "output_type": "stream",
     "text": [
      "(15141, 145)\n",
      "(11355, 145)\n",
      "(3786, 145)\n",
      "(18930, 145)\n"
     ]
    }
   ],
   "source": [
    "print(train_mice0_x.shape)\n",
    "print(sub_train_mice0_x.shape)\n",
    "print(val_mice0_x.shape)\n",
    "print(test_mice_x.shape)"
   ]
  },
  {
   "cell_type": "code",
   "execution_count": 127,
   "id": "ddb8bbc0",
   "metadata": {},
   "outputs": [],
   "source": [
    "# 'Y' datasets \n",
    "y_dtypes = train_mice0[['death_status', 'timerisk_activity']].dtypes\n",
    "\n",
    "train_y = np.array([tuple(x) for x in train[['death_status', 'timerisk_activity']].values],\n",
    "                   dtype = list(zip(y_dtypes.index, y_dtypes)))\n",
    "\n",
    "sub_train_y = np.array([tuple(x) for x in sub_train_mice0[['death_status', 'timerisk_activity']].values],\n",
    "                       dtype = list(zip(y_dtypes.index, y_dtypes)))\n",
    "\n",
    "val_y = np.array([tuple(x) for x in val_mice0[['death_status', 'timerisk_activity']].values],\n",
    "                 dtype = list(zip(y_dtypes.index, y_dtypes)))\n",
    "\n",
    "test_y = np.array([tuple(x) for x in test_mice[['death_status', 'timerisk_activity']].values],\n",
    "                  dtype = list(zip(y_dtypes.index, y_dtypes)))"
   ]
  },
  {
   "cell_type": "code",
   "execution_count": 128,
   "id": "69df7c59",
   "metadata": {},
   "outputs": [],
   "source": [
    "# List of numeric variables, excluding binary variables. \n",
    "numerical_features_red = [\n",
    "    'age',\n",
    "    'PSADiagnosis',\n",
    "    'PSAMetDiagnosis',\n",
    "    'delta_met_diagnosis',\n",
    "    'crpc_time',\n",
    "    'weight_diag',\n",
    "    'bmi_diag',\n",
    "    'weight_pct_change',\n",
    "    'weight_slope',\n",
    "    'albumin_diag',\n",
    "    'alp_diag',\n",
    "    'alt_diag',\n",
    "    'ast_diag',\n",
    "    'bicarb_diag',\n",
    "    'bun_diag',\n",
    "    'calcium_diag',\n",
    "    'chloride_diag',\n",
    "    'creatinine_diag',\n",
    "    'hemoglobin_diag',\n",
    "    'neutrophil_count_diag',\n",
    "    'platelet_diag',\n",
    "    'potassium_diag',\n",
    "    'sodium_diag',\n",
    "    'total_bilirubin_diag',\n",
    "    'wbc_diag',\n",
    "    'alp_max',\n",
    "    'alt_max',\n",
    "    'ast_max',\n",
    "    'calcium_max',\n",
    "    'creatinine_max',\n",
    "    'psa_max',\n",
    "    'total_bilirubin_max',\n",
    "    'wbc_max',\n",
    "    'albumin_min',\n",
    "    'bicarb_min',\n",
    "    'hemoglobin_min',\n",
    "    'platelet_min',\n",
    "    'sodium_min',\n",
    "    'wbc_min',\n",
    "    'psa_slope',\n",
    "    'icd_count']\n",
    "\n",
    "# List of categorical features.\n",
    "categorical_features = list(train_mice0_x.select_dtypes(include = ['category']).columns)\n",
    "\n",
    "# Transformer will apply a standard scaler. \n",
    "numerical_transformer = Pipeline(steps = [\n",
    "    ('std_scaler', StandardScaler())])\n",
    "\n",
    "# One-hot-encode categorical features.\n",
    "categorical_transformer = OneHotEncoder(handle_unknown = 'ignore')"
   ]
  },
  {
   "cell_type": "code",
   "execution_count": 129,
   "id": "f2c4c6e7",
   "metadata": {},
   "outputs": [],
   "source": [
    "preprocessor_red = ColumnTransformer(\n",
    "    transformers = [\n",
    "        ('num', numerical_transformer, numerical_features_red),\n",
    "        ('cat', categorical_transformer, categorical_features)],\n",
    "    remainder = 'passthrough')"
   ]
  },
  {
   "cell_type": "markdown",
   "id": "2a1848b5",
   "metadata": {},
   "source": [
    "#### Hyperparameter tuning"
   ]
  },
  {
   "cell_type": "code",
   "execution_count": 130,
   "id": "585296d3",
   "metadata": {},
   "outputs": [
    {
     "name": "stdout",
     "output_type": "stream",
     "text": [
      "      Iter       Train Loss      OOB Improve   Remaining Time \n",
      "         1       35806.5749           7.1378           39.28m\n",
      "         2       36193.6824           7.5691           39.14m\n",
      "         3       36362.9641           6.8122           39.11m\n",
      "         4       35967.2473           6.5205           39.09m\n",
      "         5       36378.5839           6.2204           39.00m\n",
      "         6       36007.5083           6.0505           38.91m\n",
      "         7       35778.8153           5.9021           38.85m\n",
      "         8       35879.1462           5.3759           38.79m\n",
      "         9       35515.2244           5.7450           38.75m\n",
      "        10       35862.4532           5.7978           38.70m\n",
      "        20       35496.7984           3.9667           38.37m\n",
      "        30       35664.2757           3.1643           38.10m\n",
      "        40       35058.3116           2.3708           37.88m\n",
      "        50       35336.8770           1.9552           37.60m\n",
      "        60       35024.7291           1.6526           37.32m\n",
      "        70       35234.0751           1.3389           37.05m\n",
      "        80       35312.8214           0.9969           36.78m\n",
      "        90       35170.8794           0.8183           36.51m\n",
      "       100       34785.7207           0.6314           36.24m\n",
      "       200       34803.8592           0.1734           33.64m\n",
      "       300       34664.9301           0.0157           31.03m\n",
      "       400       34239.2477          -0.1926           28.51m\n",
      "       500       34554.6446          -0.0789           25.91m\n",
      "       600       34102.6244          -0.1491           23.31m\n",
      "       700       34056.3973          -0.3838           20.71m\n",
      "       800       33780.4183          -0.2538           18.13m\n",
      "       900       33961.4174          -0.0965           15.55m\n",
      "      1000       33963.5510          -0.0655           12.96m\n"
     ]
    },
    {
     "data": {
      "text/plain": [
       "GradientBoostingSurvivalAnalysis(learning_rate=0.05, n_estimators=1500,\n",
       "                                 random_state=42, subsample=0.75, verbose=1)"
      ]
     },
     "execution_count": 130,
     "metadata": {},
     "output_type": "execute_result"
    }
   ],
   "source": [
    "sub_train_mice0_xt = preprocessor_red.fit_transform(sub_train_mice0_x)\n",
    "val_mice0_xt = preprocessor_red.transform(val_mice0_x)\n",
    "\n",
    "gbm_mice0_exp = GradientBoostingSurvivalAnalysis(n_estimators = 1500,\n",
    "                                                 learning_rate = 0.05,\n",
    "                                                 max_depth = 3,\n",
    "                                                 subsample = 0.75,\n",
    "                                                 verbose = 1,\n",
    "                                                 random_state = 42)\n",
    "\n",
    "gbm_mice0_exp.fit(sub_train_mice0_xt, sub_train_y)"
   ]
  },
  {
   "cell_type": "code",
   "execution_count": 131,
   "id": "2253e66d",
   "metadata": {},
   "outputs": [],
   "source": [
    "gbm0_staged_auc = [cumulative_dynamic_auc(sub_train_y, val_y, risk_score, 730)[0][0] for \n",
    "                   risk_score in gbm_mice0_exp.staged_predict(val_mice0_xt)]"
   ]
  },
  {
   "cell_type": "code",
   "execution_count": 132,
   "id": "891efd02",
   "metadata": {},
   "outputs": [],
   "source": [
    "gbm0_staged_auc_tr = [cumulative_dynamic_auc(sub_train_y, sub_train_y, risk_score, 730)[0][0] for \n",
    "                      risk_score in gbm_mice0_exp.staged_predict(sub_train_mice0_xt)]"
   ]
  },
  {
   "cell_type": "code",
   "execution_count": 133,
   "id": "d9347749",
   "metadata": {},
   "outputs": [
    {
     "data": {
      "image/png": "[encoded data removed]",
      "text/plain": [
       "<Figure size 640x480 with 1 Axes>"
      ]
     },
     "metadata": {},
     "output_type": "display_data"
    }
   ],
   "source": [
    "fig = plt.figure()\n",
    "ax = fig.add_subplot(1, 1, 1)\n",
    "\n",
    "x = range(len(gbm0_staged_auc))\n",
    "plt.plot(x, gbm0_staged_auc, color = 'blue', label = 'validation')\n",
    "plt.plot(x, gbm0_staged_auc_tr, color = 'red', label = 'training')\n",
    "plt.legend(loc = 'lower right')\n",
    "\n",
    "plt.xlabel(\"n_estimators\")\n",
    "plt.ylabel(\"AUC at 2-years\")\n",
    "plt.title('Gradient boosting model learning curve for mice0')\n",
    "\n",
    "plt.show()"
   ]
  },
  {
   "cell_type": "code",
   "execution_count": 134,
   "id": "b741b4e5",
   "metadata": {},
   "outputs": [],
   "source": [
    "# Average AUC for every 25 additional trees. \n",
    "mean_auc_list = []\n",
    "for x in np.arange(0, len(gbm0_staged_auc), 25):\n",
    "    mean_auc_list.append(np.mean(gbm0_staged_auc[x:x+24]))"
   ]
  },
  {
   "cell_type": "code",
   "execution_count": 135,
   "id": "f1d56e2c",
   "metadata": {},
   "outputs": [
    {
     "name": "stdout",
     "output_type": "stream",
     "text": [
      "Number of trees where 2 year AUC on validation dataset beings to downgrade: 525\n",
      "Validation dataset AUC before degrading: 0.781799931284268\n",
      "Training dataset AUC before degrading: 0.817041674494803\n"
     ]
    }
   ],
   "source": [
    "print('Number of trees where 2 year AUC on validation dataset beings to downgrade:', np.where(np.diff(mean_auc_list) < 0)[0][0]*25)\n",
    "print('Validation dataset AUC before degrading:', gbm0_staged_auc[np.where(np.diff(mean_auc_list) < 0)[0][0]*25])\n",
    "print('Training dataset AUC before degrading:', gbm0_staged_auc_tr[np.where(np.diff(mean_auc_list) < 0)[0][0]*25])"
   ]
  },
  {
   "cell_type": "code",
   "execution_count": 136,
   "id": "bee7c005",
   "metadata": {
    "scrolled": true
   },
   "outputs": [
    {
     "name": "stdout",
     "output_type": "stream",
     "text": [
      "n_iterations: 4\n",
      "n_required_iterations: 4\n",
      "n_possible_iterations: 4\n",
      "min_resources_: 1892\n",
      "max_resources_: 15141\n",
      "aggressive_elimination: False\n",
      "factor: 2\n",
      "----------\n",
      "iter: 0\n",
      "n_candidates: 9\n",
      "n_resources: 1892\n",
      "Fitting 3 folds for each of 9 candidates, totalling 27 fits\n",
      "----------\n",
      "iter: 1\n",
      "n_candidates: 5\n",
      "n_resources: 3784\n",
      "Fitting 3 folds for each of 5 candidates, totalling 15 fits\n",
      "----------\n",
      "iter: 2\n",
      "n_candidates: 3\n",
      "n_resources: 7568\n",
      "Fitting 3 folds for each of 3 candidates, totalling 9 fits\n",
      "----------\n",
      "iter: 3\n",
      "n_candidates: 2\n",
      "n_resources: 15136\n",
      "Fitting 3 folds for each of 2 candidates, totalling 6 fits\n"
     ]
    },
    {
     "data": {
      "text/plain": [
       "HalvingGridSearchCV(cv=StratifiedKFold(n_splits=3, random_state=10, shuffle=True),\n",
       "                    estimator=as_cumulative_dynamic_auc_scorer(estimator=Pipeline(steps=[('columntransformer',\n",
       "                                                                                          ColumnTransformer(remainder='passthrough',\n",
       "                                                                                                            transformers=[('num',\n",
       "                                                                                                                           Pipeline(steps=[('std_scaler',\n",
       "                                                                                                                                            StandardScaler())]),\n",
       "                                                                                                                           ['age',\n",
       "                                                                                                                            'PSADiagnosis',\n",
       "                                                                                                                            'PSAMetDiagnosis',\n",
       "                                                                                                                            'delta_met_diagnosis',\n",
       "                                                                                                                            'crpc...\n",
       "                                                                                                                            'prim_treatment'])])),\n",
       "                                                                                         ('gradientboostingsurvivalanalysis',\n",
       "                                                                                          GradientBoostingSurvivalAnalysis(learning_rate=0.05,\n",
       "                                                                                                                           n_estimators=525,\n",
       "                                                                                                                           random_state=10))]),\n",
       "                                                               times=730),\n",
       "                    factor=2, n_jobs=-1,\n",
       "                    param_grid={'estimator__gradientboostingsurvivalanalysis__max_depth': [2,\n",
       "                                                                                           3,\n",
       "                                                                                           4],\n",
       "                                'estimator__gradientboostingsurvivalanalysis__subsample': [0.5,\n",
       "                                                                                           0.75,\n",
       "                                                                                           0.9]},\n",
       "                    random_state=10, refit=False, verbose=1)"
      ]
     },
     "execution_count": 136,
     "metadata": {},
     "output_type": "execute_result"
    }
   ],
   "source": [
    "pipe = make_pipeline(preprocessor_red, GradientBoostingSurvivalAnalysis(n_estimators = 525,\n",
    "                                                                        learning_rate = 0.05,\n",
    "                                                                        random_state = 10))\n",
    "\n",
    "# 3 fold cross-validation\n",
    "cv = StratifiedKFold(n_splits = 3, shuffle = True, random_state = 10)\n",
    "\n",
    "# Parameter gird \n",
    "param_grid = {'estimator__gradientboostingsurvivalanalysis__max_depth': [2, 3, 4], \n",
    "              'estimator__gradientboostingsurvivalanalysis__subsample': [0.5, 0.75, 0.9]}\n",
    "\n",
    "gbm_search = HalvingGridSearchCV(\n",
    "    as_cumulative_dynamic_auc_scorer(pipe, 730),\n",
    "    param_grid,\n",
    "    cv = cv,\n",
    "    factor = 2,\n",
    "    resource = 'n_samples',\n",
    "    refit = False,\n",
    "    verbose = 1,\n",
    "    random_state = 10,\n",
    "    n_jobs = -1)\n",
    "\n",
    "# Run search \n",
    "warnings.filterwarnings('ignore')\n",
    "gbm_search.fit(train_mice0_x, train_y)"
   ]
  },
  {
   "cell_type": "code",
   "execution_count": 137,
   "id": "aea15f33",
   "metadata": {},
   "outputs": [
    {
     "data": {
      "text/plain": [
       "{'estimator__gradientboostingsurvivalanalysis__max_depth': 4,\n",
       " 'estimator__gradientboostingsurvivalanalysis__subsample': 0.5}"
      ]
     },
     "execution_count": 137,
     "metadata": {},
     "output_type": "execute_result"
    }
   ],
   "source": [
    "gbm_search.best_params_"
   ]
  },
  {
   "cell_type": "markdown",
   "id": "85493edf",
   "metadata": {},
   "source": [
    "**The above best tree depth and subsample will be used for all models moving forward mainly due to the computational cost of searching for these parameters for each MICE training set. It also seems likely that these two hyperparamters have small impact on test set AUC performance and are unlikely to change by much for each training set.** "
   ]
  },
  {
   "cell_type": "markdown",
   "id": "0e8d5d37",
   "metadata": {},
   "source": [
    "#### Building model and assessing performance "
   ]
  },
  {
   "cell_type": "code",
   "execution_count": 138,
   "id": "d902730b",
   "metadata": {},
   "outputs": [
    {
     "name": "stdout",
     "output_type": "stream",
     "text": [
      "      Iter       Train Loss      OOB Improve   Remaining Time \n",
      "         1       31614.4464          25.0227           24.78m\n",
      "         2       31131.7763          24.1827           24.94m\n",
      "         3       31427.8186          22.5566           24.90m\n",
      "         4       31360.1864          21.6726           24.87m\n",
      "         5       31508.3530          20.8798           24.82m\n",
      "         6       30867.7123          20.8983           24.78m\n",
      "         7       31326.8521          19.6506           24.73m\n",
      "         8       31548.6147          18.7100           24.69m\n",
      "         9       31374.7476          17.6553           24.65m\n",
      "        10       31156.9101          17.2468           24.59m\n",
      "        20       31101.1094          14.3569           24.13m\n",
      "        30       31081.8102          10.4138           23.68m\n",
      "        40       30835.8276           6.4332           23.20m\n",
      "        50       30403.9688           6.0130           22.68m\n",
      "        60       30920.4393           5.7448           22.17m\n",
      "        70       30439.6313           3.3731           21.67m\n",
      "        80       30310.0176           3.1055           21.18m\n",
      "        90       30370.9624           2.4966           20.69m\n",
      "       100       30301.2840           1.7181           20.21m\n",
      "       200       30163.9759           0.4477           15.43m\n",
      "       300       29752.4400          -0.5832           10.67m\n",
      "       400       29811.0562          -0.4839            5.93m\n",
      "       500       29672.9256          -0.0017            1.19m\n"
     ]
    },
    {
     "data": {
      "text/plain": [
       "Pipeline(steps=[('columntransformer',\n",
       "                 ColumnTransformer(remainder='passthrough',\n",
       "                                   transformers=[('num',\n",
       "                                                  Pipeline(steps=[('std_scaler',\n",
       "                                                                   StandardScaler())]),\n",
       "                                                  ['age', 'PSADiagnosis',\n",
       "                                                   'PSAMetDiagnosis',\n",
       "                                                   'delta_met_diagnosis',\n",
       "                                                   'crpc_time', 'weight_diag',\n",
       "                                                   'bmi_diag',\n",
       "                                                   'weight_pct_change',\n",
       "                                                   'weight_slope',\n",
       "                                                   'albumin_diag', 'alp_diag',\n",
       "                                                   'alt_diag', 'ast_diag',\n",
       "                                                   'bicarb_diag', 'bun...\n",
       "                                                   'creatinine_max', ...]),\n",
       "                                                 ('cat',\n",
       "                                                  OneHotEncoder(handle_unknown='ignore'),\n",
       "                                                  ['Gender', 'p_type', 'NStage',\n",
       "                                                   'MStage', 'Histology',\n",
       "                                                   'GleasonScore', 'stage',\n",
       "                                                   'met_year', 'brca_status',\n",
       "                                                   'ecog_diagnosis',\n",
       "                                                   'prim_treatment'])])),\n",
       "                ('gradientboostingsurvivalanalysis',\n",
       "                 GradientBoostingSurvivalAnalysis(learning_rate=0.05,\n",
       "                                                  max_depth=4, n_estimators=525,\n",
       "                                                  random_state=42,\n",
       "                                                  subsample=0.5, verbose=1))])"
      ]
     },
     "execution_count": 138,
     "metadata": {},
     "output_type": "execute_result"
    }
   ],
   "source": [
    "gbm_mice0 = make_pipeline(preprocessor_red, GradientBoostingSurvivalAnalysis(n_estimators = 525,\n",
    "                                                                             learning_rate = 0.05,\n",
    "                                                                             max_depth = 4,\n",
    "                                                                             subsample = 0.5,\n",
    "                                                                             verbose = 1,\n",
    "                                                                             random_state = 42))\n",
    "\n",
    "gbm_mice0.fit(train_mice0_x, train_y)"
   ]
  },
  {
   "cell_type": "code",
   "execution_count": 139,
   "id": "1277dd86",
   "metadata": {},
   "outputs": [
    {
     "data": {
      "text/plain": [
       "['gbm_mice0.joblib']"
      ]
     },
     "execution_count": 139,
     "metadata": {},
     "output_type": "execute_result"
    }
   ],
   "source": [
    "dump(gbm_mice0, 'gbm_mice0.joblib') "
   ]
  },
  {
   "cell_type": "code",
   "execution_count": 140,
   "id": "3aba3670",
   "metadata": {},
   "outputs": [
    {
     "name": "stdout",
     "output_type": "stream",
     "text": [
      "Test set AUC at 2 years: 0.7755432722316826\n"
     ]
    }
   ],
   "source": [
    "gbm_risk_scores_te = gbm_mice0.predict(test_mice_x)\n",
    "gbm_auc_te = cumulative_dynamic_auc(train_y, test_y, gbm_risk_scores_te, 730)[0][0]\n",
    "print('Test set AUC at 2 years:', gbm_auc_te)"
   ]
  },
  {
   "cell_type": "code",
   "execution_count": 141,
   "id": "b2b0dc2c",
   "metadata": {},
   "outputs": [
    {
     "name": "stdout",
     "output_type": "stream",
     "text": [
      "Training set AUC at 2 years: 0.8335139314378777\n"
     ]
    }
   ],
   "source": [
    "gbm_risk_scores_tr = gbm_mice0.predict(train_mice0_x)\n",
    "gbm_auc_tr = cumulative_dynamic_auc(train_y, train_y, gbm_risk_scores_tr, 730)[0][0]\n",
    "print('Training set AUC at 2 years:', gbm_auc_tr)"
   ]
  },
  {
   "cell_type": "code",
   "execution_count": 142,
   "id": "b1c3a428",
   "metadata": {},
   "outputs": [],
   "source": [
    "# Bootstrap 10000 1 yr AUCs for test set \n",
    "n_bootstraps = 10000\n",
    "rng_seed = 42 \n",
    "bootstrapped_scores_te = []\n",
    "\n",
    "rng = np.random.RandomState(rng_seed)\n",
    "for i in range(n_bootstraps):\n",
    "    indices = rng.randint(0, len(gbm_risk_scores_te), len(gbm_risk_scores_te))\n",
    "    auc_yr = cumulative_dynamic_auc(train_y, test_y[indices], gbm_risk_scores_te[indices], 730)[0][0]\n",
    "    bootstrapped_scores_te.append(auc_yr)"
   ]
  },
  {
   "cell_type": "code",
   "execution_count": 143,
   "id": "a9f16f7e",
   "metadata": {},
   "outputs": [
    {
     "name": "stdout",
     "output_type": "stream",
     "text": [
      "Test set AUC standard error: 0.004089520111859086\n"
     ]
    }
   ],
   "source": [
    "# Standard error of mean for test set AUC\n",
    "sorted_scores_te = np.array(bootstrapped_scores_te)\n",
    "sorted_scores_te.sort()\n",
    "\n",
    "conf_lower_te = sorted_scores_te[int(0.025 * len(sorted_scores_te))]\n",
    "conf_upper_te = sorted_scores_te[int(0.975 * len(sorted_scores_te))]\n",
    "\n",
    "standard_error_te = (conf_upper_te - conf_lower_te) / 3.92\n",
    "print('Test set AUC standard error:', standard_error_te)"
   ]
  },
  {
   "cell_type": "code",
   "execution_count": 144,
   "id": "03c7c114",
   "metadata": {},
   "outputs": [],
   "source": [
    "# Bootstrap 10000 1-yr AUCs for train set \n",
    "n_bootstraps = 10000\n",
    "rng_seed = 42 \n",
    "bootstrapped_scores_tr = []\n",
    "\n",
    "rng = np.random.RandomState(rng_seed)\n",
    "for i in range(n_bootstraps):\n",
    "    indices = rng.randint(0, len(gbm_risk_scores_tr), len(gbm_risk_scores_tr))\n",
    "    auc_yr = cumulative_dynamic_auc(train_y, train_y[indices], gbm_risk_scores_tr[indices], 730)[0][0]\n",
    "    bootstrapped_scores_tr.append(auc_yr)"
   ]
  },
  {
   "cell_type": "code",
   "execution_count": 145,
   "id": "747fec3d",
   "metadata": {},
   "outputs": [
    {
     "name": "stdout",
     "output_type": "stream",
     "text": [
      "Training set AUC standard error 0.004023124352831371\n"
     ]
    }
   ],
   "source": [
    "# Standard error of mean for train set AUC\n",
    "sorted_scores_tr = np.array(bootstrapped_scores_tr)\n",
    "sorted_scores_tr.sort()\n",
    "\n",
    "conf_lower_tr = sorted_scores_tr[int(0.025 * len(sorted_scores_tr))]\n",
    "conf_upper_tr = sorted_scores_tr[int(0.975 * len(sorted_scores_tr))]\n",
    "\n",
    "standard_error_tr = (conf_upper_tr - conf_lower_tr) / 3.92\n",
    "print('Training set AUC standard error', standard_error_tr)"
   ]
  },
  {
   "cell_type": "code",
   "execution_count": 146,
   "id": "ac9a597d",
   "metadata": {},
   "outputs": [],
   "source": [
    "mice_auc_data = {'mice_dataset': ['mice_0'],\n",
    "                 'auc_2yr_te': [gbm_auc_te],\n",
    "                 'sem_te': [standard_error_te],\n",
    "                 'auc_2yr_tr': [gbm_auc_tr],\n",
    "                 'sem_tr': [standard_error_tr]}\n",
    "\n",
    "mice_auc_df = pd.DataFrame(mice_auc_data)"
   ]
  },
  {
   "cell_type": "code",
   "execution_count": 147,
   "id": "9453255b",
   "metadata": {},
   "outputs": [
    {
     "data": {
      "text/html": [
       "<div>\n",
       "<style scoped>\n",
       "    .dataframe tbody tr th:only-of-type {\n",
       "        vertical-align: middle;\n",
       "    }\n",
       "\n",
       "    .dataframe tbody tr th {\n",
       "        vertical-align: top;\n",
       "    }\n",
       "\n",
       "    .dataframe thead th {\n",
       "        text-align: right;\n",
       "    }\n",
       "</style>\n",
       "<table border=\"1\" class=\"dataframe\">\n",
       "  <thead>\n",
       "    <tr style=\"text-align: right;\">\n",
       "      <th></th>\n",
       "      <th>mice_dataset</th>\n",
       "      <th>auc_2yr_te</th>\n",
       "      <th>sem_te</th>\n",
       "      <th>auc_2yr_tr</th>\n",
       "      <th>sem_tr</th>\n",
       "    </tr>\n",
       "  </thead>\n",
       "  <tbody>\n",
       "    <tr>\n",
       "      <th>0</th>\n",
       "      <td>mice_0</td>\n",
       "      <td>0.775543</td>\n",
       "      <td>0.00409</td>\n",
       "      <td>0.833514</td>\n",
       "      <td>0.004023</td>\n",
       "    </tr>\n",
       "  </tbody>\n",
       "</table>\n",
       "</div>"
      ],
      "text/plain": [
       "  mice_dataset  auc_2yr_te   sem_te  auc_2yr_tr    sem_tr\n",
       "0       mice_0    0.775543  0.00409    0.833514  0.004023"
      ]
     },
     "execution_count": 147,
     "metadata": {},
     "output_type": "execute_result"
    }
   ],
   "source": [
    "mice_auc_df"
   ]
  },
  {
   "cell_type": "code",
   "execution_count": 148,
   "id": "2a970c49",
   "metadata": {},
   "outputs": [],
   "source": [
    "mice_auc_df.to_csv('mice_auc_df.csv', index = False, header = True)"
   ]
  },
  {
   "cell_type": "code",
   "execution_count": 149,
   "id": "b4d71c04",
   "metadata": {},
   "outputs": [],
   "source": [
    "times = np.arange(30, 1810, 30)\n",
    "mice0_auc_over5 = cumulative_dynamic_auc(train_y, test_y, gbm_risk_scores_te, times)[0]\n",
    "\n",
    "times_data = {}\n",
    "values = mice0_auc_over5\n",
    "time_names = []\n",
    "\n",
    "for x in range(len(times)):\n",
    "    time_names.append('time_'+str(times[x]))\n",
    "\n",
    "for i in range(len(time_names)):\n",
    "    times_data[time_names[i]] = values[i]\n",
    "    \n",
    "mice_auc_over5 = pd.DataFrame(times_data, index = ['mice_0'])"
   ]
  },
  {
   "cell_type": "code",
   "execution_count": 150,
   "id": "395f4b22",
   "metadata": {},
   "outputs": [
    {
     "data": {
      "text/html": [
       "<div>\n",
       "<style scoped>\n",
       "    .dataframe tbody tr th:only-of-type {\n",
       "        vertical-align: middle;\n",
       "    }\n",
       "\n",
       "    .dataframe tbody tr th {\n",
       "        vertical-align: top;\n",
       "    }\n",
       "\n",
       "    .dataframe thead th {\n",
       "        text-align: right;\n",
       "    }\n",
       "</style>\n",
       "<table border=\"1\" class=\"dataframe\">\n",
       "  <thead>\n",
       "    <tr style=\"text-align: right;\">\n",
       "      <th></th>\n",
       "      <th>time_30</th>\n",
       "      <th>time_60</th>\n",
       "      <th>time_90</th>\n",
       "      <th>time_120</th>\n",
       "      <th>time_150</th>\n",
       "      <th>time_180</th>\n",
       "      <th>time_210</th>\n",
       "      <th>time_240</th>\n",
       "      <th>time_270</th>\n",
       "      <th>time_300</th>\n",
       "      <th>...</th>\n",
       "      <th>time_1530</th>\n",
       "      <th>time_1560</th>\n",
       "      <th>time_1590</th>\n",
       "      <th>time_1620</th>\n",
       "      <th>time_1650</th>\n",
       "      <th>time_1680</th>\n",
       "      <th>time_1710</th>\n",
       "      <th>time_1740</th>\n",
       "      <th>time_1770</th>\n",
       "      <th>time_1800</th>\n",
       "    </tr>\n",
       "  </thead>\n",
       "  <tbody>\n",
       "    <tr>\n",
       "      <th>mice_0</th>\n",
       "      <td>0.927864</td>\n",
       "      <td>0.867938</td>\n",
       "      <td>0.844127</td>\n",
       "      <td>0.840129</td>\n",
       "      <td>0.849537</td>\n",
       "      <td>0.840189</td>\n",
       "      <td>0.822436</td>\n",
       "      <td>0.829647</td>\n",
       "      <td>0.823961</td>\n",
       "      <td>0.820499</td>\n",
       "      <td>...</td>\n",
       "      <td>0.765596</td>\n",
       "      <td>0.764703</td>\n",
       "      <td>0.764506</td>\n",
       "      <td>0.766187</td>\n",
       "      <td>0.766906</td>\n",
       "      <td>0.766149</td>\n",
       "      <td>0.768768</td>\n",
       "      <td>0.768122</td>\n",
       "      <td>0.772134</td>\n",
       "      <td>0.76871</td>\n",
       "    </tr>\n",
       "  </tbody>\n",
       "</table>\n",
       "<p>1 rows × 60 columns</p>\n",
       "</div>"
      ],
      "text/plain": [
       "         time_30   time_60   time_90  time_120  time_150  time_180  time_210  \\\n",
       "mice_0  0.927864  0.867938  0.844127  0.840129  0.849537  0.840189  0.822436   \n",
       "\n",
       "        time_240  time_270  time_300  ...  time_1530  time_1560  time_1590  \\\n",
       "mice_0  0.829647  0.823961  0.820499  ...   0.765596   0.764703   0.764506   \n",
       "\n",
       "        time_1620  time_1650  time_1680  time_1710  time_1740  time_1770  \\\n",
       "mice_0   0.766187   0.766906   0.766149   0.768768   0.768122   0.772134   \n",
       "\n",
       "        time_1800  \n",
       "mice_0    0.76871  \n",
       "\n",
       "[1 rows x 60 columns]"
      ]
     },
     "execution_count": 150,
     "metadata": {},
     "output_type": "execute_result"
    }
   ],
   "source": [
    "mice_auc_over5"
   ]
  },
  {
   "cell_type": "code",
   "execution_count": 151,
   "id": "42c9c1c1",
   "metadata": {},
   "outputs": [],
   "source": [
    "mice_auc_over5.to_csv('mice_auc_over5.csv', index = True, header = True)"
   ]
  },
  {
   "cell_type": "code",
   "execution_count": 152,
   "id": "33699bdf",
   "metadata": {},
   "outputs": [],
   "source": [
    "# Variables passing through pipeline_rsf\n",
    "cat_encoder = list(preprocessor_red.transformers_[1][1].get_feature_names(categorical_features))\n",
    "pass_through = list(train_mice0_x.iloc[:, preprocessor_red.transformers_[2][2]].columns)\n",
    "attributes_gbm = numerical_features_red + cat_encoder + pass_through"
   ]
  },
  {
   "cell_type": "code",
   "execution_count": 153,
   "id": "d8f17889",
   "metadata": {},
   "outputs": [
    {
     "name": "stdout",
     "output_type": "stream",
     "text": [
      "Total number of features: 184\n",
      "Number of non-zero features in final model: 175\n"
     ]
    },
    {
     "data": {
      "image/png": "[encoded data removed]",
      "text/plain": [
       "<Figure size 600x800 with 1 Axes>"
      ]
     },
     "metadata": {},
     "output_type": "display_data"
    }
   ],
   "source": [
    "# Dataframe of coefficients for each variable \n",
    "coefficients_mice0 = pd.DataFrame(\n",
    "    gbm_mice0.named_steps['gradientboostingsurvivalanalysis'].feature_importances_,\n",
    "    index = attributes_gbm,\n",
    "    columns = ['coefficient']\n",
    ")\n",
    "\n",
    "print('Total number of features: {}'.format(len(attributes_gbm)))\n",
    "\n",
    "non_zero = np.sum(coefficients_mice0.iloc[:, 0] != 0)\n",
    "print('Number of non-zero features in final model: {}'.format(non_zero))\n",
    "\n",
    "non_zero_coefs = coefficients_mice0.query('coefficient != 0')\n",
    "coef_order = non_zero_coefs.abs().sort_values('coefficient').tail(30).index\n",
    "\n",
    "_, ax = plt.subplots(figsize=(6, 8))\n",
    "non_zero_coefs.loc[coef_order].plot.barh(ax = ax, legend = False)\n",
    "ax.set_xlabel('coefficient')\n",
    "ax.grid(True)"
   ]
  },
  {
   "cell_type": "code",
   "execution_count": 154,
   "id": "6f14c26e",
   "metadata": {},
   "outputs": [],
   "source": [
    "coefficients_mice = (\n",
    "    coefficients_mice0\n",
    "    .reset_index()\n",
    "    .rename(columns = {'index':'variable'}))"
   ]
  },
  {
   "cell_type": "code",
   "execution_count": 155,
   "id": "264f5dd4",
   "metadata": {},
   "outputs": [],
   "source": [
    "coefficients_mice.to_csv('coefficients_mice.csv', index = False, header = True)"
   ]
  },
  {
   "cell_type": "markdown",
   "id": "5f8f50d7",
   "metadata": {},
   "source": [
    "### 3.2 Model 1"
   ]
  },
  {
   "cell_type": "markdown",
   "id": "a8acf5a6",
   "metadata": {},
   "source": [
    "#### Preprocessing and building pipeline "
   ]
  },
  {
   "cell_type": "code",
   "execution_count": 156,
   "id": "f915e4c9",
   "metadata": {},
   "outputs": [],
   "source": [
    "# Import second training set\n",
    "train_mice1 = pd.read_csv('mice_tr1.csv', index_col = 'PatientID')"
   ]
  },
  {
   "cell_type": "code",
   "execution_count": 157,
   "id": "0a57501a",
   "metadata": {},
   "outputs": [
    {
     "name": "stdout",
     "output_type": "stream",
     "text": [
      "(15141, 197)\n"
     ]
    }
   ],
   "source": [
    "print(train_mice1.shape)"
   ]
  },
  {
   "cell_type": "code",
   "execution_count": 158,
   "id": "24685d51",
   "metadata": {},
   "outputs": [
    {
     "data": {
      "text/plain": [
       "0"
      ]
     },
     "execution_count": 158,
     "metadata": {},
     "output_type": "execute_result"
    }
   ],
   "source": [
    "train_mice1.isna().sum().sum()"
   ]
  },
  {
   "cell_type": "code",
   "execution_count": 159,
   "id": "4e721a96",
   "metadata": {},
   "outputs": [],
   "source": [
    "train_mice1 = train_mice1.drop(columns = mice_drop)"
   ]
  },
  {
   "cell_type": "code",
   "execution_count": 160,
   "id": "9c2027f3",
   "metadata": {},
   "outputs": [],
   "source": [
    "train_mice1 = train_mice1.drop(columns = dem_var)"
   ]
  },
  {
   "cell_type": "code",
   "execution_count": 161,
   "id": "3231823f",
   "metadata": {},
   "outputs": [
    {
     "name": "stdout",
     "output_type": "stream",
     "text": [
      "(15141, 145)\n",
      "(18930, 147)\n"
     ]
    }
   ],
   "source": [
    "print(train_mice1.shape)\n",
    "print(test_mice.shape)"
   ]
  },
  {
   "cell_type": "code",
   "execution_count": 162,
   "id": "f93dfd2b",
   "metadata": {},
   "outputs": [],
   "source": [
    "train_mice1['ecog_na'] = np.where(train_mice1.index.isin(train.query('ecog_diagnosis == \"unknown\"').PatientID), 1, 0)\n",
    "train_mice1['stage_na'] = np.where(train_mice1.index.isin(train.query('stage == \"unknown\"').PatientID), 1, 0)"
   ]
  },
  {
   "cell_type": "code",
   "execution_count": 163,
   "id": "87a7e646",
   "metadata": {},
   "outputs": [
    {
     "data": {
      "text/plain": [
       "['Gender',\n",
       " 'p_type',\n",
       " 'NStage',\n",
       " 'MStage',\n",
       " 'Histology',\n",
       " 'GleasonScore',\n",
       " 'stage',\n",
       " 'met_year',\n",
       " 'brca_status',\n",
       " 'ecog_diagnosis',\n",
       " 'prim_treatment']"
      ]
     },
     "execution_count": 163,
     "metadata": {},
     "output_type": "execute_result"
    }
   ],
   "source": [
    "for x in list(to_be_categorical):\n",
    "    train_mice1[x] = train_mice1[x].astype('category')\n",
    "    \n",
    "list(train_mice1.select_dtypes(include = ['category']).columns)"
   ]
  },
  {
   "cell_type": "code",
   "execution_count": 164,
   "id": "c9d9de74",
   "metadata": {},
   "outputs": [],
   "source": [
    "train_mice1['death_status'] = train_mice1['death_status'].astype('bool')"
   ]
  },
  {
   "cell_type": "code",
   "execution_count": 165,
   "id": "a00773e1",
   "metadata": {},
   "outputs": [],
   "source": [
    "val_mice1 = train_mice1[train_mice1.index.isin(val_IDs['PatientID'])]\n",
    "\n",
    "sub_train_mice1 = train_mice1[~train_mice1.index.isin(val_IDs['PatientID'])]"
   ]
  },
  {
   "cell_type": "code",
   "execution_count": 166,
   "id": "63275fc4",
   "metadata": {},
   "outputs": [
    {
     "name": "stdout",
     "output_type": "stream",
     "text": [
      "(15141, 147)\n",
      "(11355, 147)\n",
      "(3786, 147)\n"
     ]
    }
   ],
   "source": [
    "print(train_mice1.shape)\n",
    "print(sub_train_mice1.shape)\n",
    "print(val_mice1.shape)"
   ]
  },
  {
   "cell_type": "code",
   "execution_count": 167,
   "id": "ba48ef3c",
   "metadata": {},
   "outputs": [],
   "source": [
    "train_mice1_x = train_mice1.drop(columns = ['death_status', 'timerisk_activity'])\n",
    "\n",
    "sub_train_mice1_x = sub_train_mice1.drop(columns = ['death_status', 'timerisk_activity'])\n",
    "\n",
    "val_mice1_x = val_mice1.drop(columns = ['death_status', 'timerisk_activity'])"
   ]
  },
  {
   "cell_type": "code",
   "execution_count": 168,
   "id": "5409ab86",
   "metadata": {},
   "outputs": [
    {
     "name": "stdout",
     "output_type": "stream",
     "text": [
      "(15141, 145)\n",
      "(11355, 145)\n",
      "(3786, 145)\n"
     ]
    }
   ],
   "source": [
    "print(train_mice1_x.shape)\n",
    "print(sub_train_mice1_x.shape)\n",
    "print(val_mice1_x.shape)"
   ]
  },
  {
   "cell_type": "markdown",
   "id": "d6bc6cae",
   "metadata": {},
   "source": [
    "#### Hyperparameter tuning "
   ]
  },
  {
   "cell_type": "code",
   "execution_count": 169,
   "id": "a9bf2452",
   "metadata": {},
   "outputs": [
    {
     "name": "stdout",
     "output_type": "stream",
     "text": [
      "      Iter       Train Loss      OOB Improve   Remaining Time \n",
      "         1       22802.2641          17.6026           39.61m\n",
      "         2       23016.9453          16.7207           39.78m\n",
      "         3       23191.9469          15.9515           39.74m\n",
      "         4       22605.4262          15.6333           39.73m\n",
      "         5       23148.7874          15.7983           39.70m\n",
      "         6       22849.8066          14.9416           39.69m\n",
      "         7       22876.9503          12.3030           39.65m\n",
      "         8       22632.7689          13.0383           39.61m\n",
      "         9       22265.2600          13.8700           39.58m\n",
      "        10       23015.7089          13.1363           39.57m\n",
      "        20       22203.7929           9.5733           39.29m\n",
      "        30       22638.1533           7.6370           39.00m\n",
      "        40       21984.4278           5.8902           38.72m\n",
      "        50       21965.3243           4.1196           38.45m\n",
      "        60       21984.6265           3.5166           38.18m\n",
      "        70       22069.3041           2.2046           37.90m\n",
      "        80       22203.3893           1.8832           37.64m\n",
      "        90       22354.2268           2.2452           37.37m\n",
      "       100       21633.0717           1.9628           37.10m\n",
      "       200       21695.2660           0.5989           34.45m\n",
      "       300       21768.0426           0.2727           31.80m\n",
      "       400       21112.7200          -0.3218           29.15m\n",
      "       500       21396.2777          -0.0922           26.50m\n",
      "       600       21154.6969          -0.5784           23.85m\n",
      "       700       21082.5074           0.0545           21.20m\n",
      "       800       20934.3990          -0.1326           18.55m\n",
      "       900       20819.5455          -0.1984           15.91m\n",
      "      1000       20672.2911          -0.6843           13.26m\n"
     ]
    },
    {
     "data": {
      "text/plain": [
       "GradientBoostingSurvivalAnalysis(learning_rate=0.05, max_depth=4,\n",
       "                                 n_estimators=1500, random_state=42,\n",
       "                                 subsample=0.5, verbose=1)"
      ]
     },
     "execution_count": 169,
     "metadata": {},
     "output_type": "execute_result"
    }
   ],
   "source": [
    "sub_train_mice1_xt = preprocessor_red.fit_transform(sub_train_mice1_x)\n",
    "val_mice1_xt = preprocessor_red.transform(val_mice1_x)\n",
    "\n",
    "gbm_mice1_exp = GradientBoostingSurvivalAnalysis(n_estimators = 1500,\n",
    "                                                 learning_rate = 0.05,\n",
    "                                                 max_depth = 4,\n",
    "                                                 subsample = 0.5,\n",
    "                                                 verbose = 1,\n",
    "                                                 random_state = 42)\n",
    "\n",
    "gbm_mice1_exp.fit(sub_train_mice1_xt, sub_train_y)"
   ]
  },
  {
   "cell_type": "code",
   "execution_count": 170,
   "id": "17b6875a",
   "metadata": {},
   "outputs": [],
   "source": [
    "gbm1_staged_auc = [cumulative_dynamic_auc(sub_train_y, val_y, risk_score, 730)[0][0] for \n",
    "                   risk_score in gbm_mice1_exp.staged_predict(val_mice1_xt)]"
   ]
  },
  {
   "cell_type": "code",
   "execution_count": 171,
   "id": "c3227ea8",
   "metadata": {},
   "outputs": [],
   "source": [
    "gbm1_staged_auc_tr = [cumulative_dynamic_auc(sub_train_y, sub_train_y, risk_score, 730)[0][0] for \n",
    "                      risk_score in gbm_mice1_exp.staged_predict(sub_train_mice1_xt)]"
   ]
  },
  {
   "cell_type": "code",
   "execution_count": 172,
   "id": "7fe07873",
   "metadata": {},
   "outputs": [
    {
     "data": {
      "image/png": "[encoded data removed]",
      "text/plain": [
       "<Figure size 640x480 with 1 Axes>"
      ]
     },
     "metadata": {},
     "output_type": "display_data"
    }
   ],
   "source": [
    "fig = plt.figure()\n",
    "ax = fig.add_subplot(1, 1, 1)\n",
    "\n",
    "x = range(len(gbm1_staged_auc))\n",
    "plt.plot(x, gbm1_staged_auc, color = 'blue', label = 'validation')\n",
    "plt.plot(x, gbm1_staged_auc_tr, color = 'red', label = 'training')\n",
    "plt.legend(loc = 'lower right')\n",
    "\n",
    "plt.xlabel(\"n_estimators\")\n",
    "plt.ylabel(\"AUC at 2-years\")\n",
    "plt.title('Gradient boosting model learning curve for mice1')\n",
    "\n",
    "plt.show()"
   ]
  },
  {
   "cell_type": "code",
   "execution_count": 173,
   "id": "0295c1be",
   "metadata": {},
   "outputs": [],
   "source": [
    "# Average AUC for every 25 additional trees. \n",
    "mean_auc_list = []\n",
    "for x in np.arange(0, len(gbm1_staged_auc), 25):\n",
    "    mean_auc_list.append(np.mean(gbm1_staged_auc[x:x+24]))"
   ]
  },
  {
   "cell_type": "code",
   "execution_count": 174,
   "id": "442e565c",
   "metadata": {},
   "outputs": [
    {
     "name": "stdout",
     "output_type": "stream",
     "text": [
      "Number of trees where 2 year AUC on validation dataset beings to downgrade: 425\n",
      "Validation dataset AUC before degrading: 0.7851794959145686\n",
      "Training dataset AUC before degrading: 0.8370164324881897\n"
     ]
    }
   ],
   "source": [
    "print('Number of trees where 2 year AUC on validation dataset beings to downgrade:', np.where(np.diff(mean_auc_list) < 0)[0][0]*25)\n",
    "print('Validation dataset AUC before degrading:', gbm1_staged_auc[np.where(np.diff(mean_auc_list) < 0)[0][0]*25])\n",
    "print('Training dataset AUC before degrading:', gbm1_staged_auc_tr[np.where(np.diff(mean_auc_list) < 0)[0][0]*25])"
   ]
  },
  {
   "cell_type": "markdown",
   "id": "0eb06011",
   "metadata": {},
   "source": [
    "#### Building model and assessing performance "
   ]
  },
  {
   "cell_type": "code",
   "execution_count": 175,
   "id": "3f698dc6",
   "metadata": {},
   "outputs": [
    {
     "name": "stdout",
     "output_type": "stream",
     "text": [
      "      Iter       Train Loss      OOB Improve   Remaining Time \n",
      "         1       31614.7643          23.6646           20.19m\n",
      "         2       31132.7313          24.4220           20.24m\n",
      "         3       31429.0291          22.3871           20.21m\n",
      "         4       31361.4854          21.9293           20.19m\n",
      "         5       31510.8337          21.0204           20.15m\n",
      "         6       30868.4062          20.7834           20.10m\n",
      "         7       31327.1347          19.5740           20.06m\n",
      "         8       31547.9111          19.1235           20.01m\n",
      "         9       31374.0085          17.8974           19.97m\n",
      "        10       31153.4894          17.7492           19.91m\n",
      "        20       31109.9626          13.7532           19.44m\n",
      "        30       31095.6221           9.7220           18.96m\n",
      "        40       30846.8510           8.3683           18.48m\n",
      "        50       30414.7904           6.3946           18.00m\n",
      "        60       30930.9433           4.1339           17.52m\n",
      "        70       30440.3828           3.6610           17.04m\n",
      "        80       30303.2679           2.7660           16.56m\n",
      "        90       30378.2439           2.1602           16.09m\n",
      "       100       30310.5125           2.0325           15.60m\n",
      "       200       30196.9891          -0.2465           10.80m\n",
      "       300       29752.3601          -0.0504            6.00m\n",
      "       400       29807.2441          -0.4207            1.20m\n"
     ]
    },
    {
     "data": {
      "text/plain": [
       "Pipeline(steps=[('columntransformer',\n",
       "                 ColumnTransformer(remainder='passthrough',\n",
       "                                   transformers=[('num',\n",
       "                                                  Pipeline(steps=[('std_scaler',\n",
       "                                                                   StandardScaler())]),\n",
       "                                                  ['age', 'PSADiagnosis',\n",
       "                                                   'PSAMetDiagnosis',\n",
       "                                                   'delta_met_diagnosis',\n",
       "                                                   'crpc_time', 'weight_diag',\n",
       "                                                   'bmi_diag',\n",
       "                                                   'weight_pct_change',\n",
       "                                                   'weight_slope',\n",
       "                                                   'albumin_diag', 'alp_diag',\n",
       "                                                   'alt_diag', 'ast_diag',\n",
       "                                                   'bicarb_diag', 'bun...\n",
       "                                                   'creatinine_max', ...]),\n",
       "                                                 ('cat',\n",
       "                                                  OneHotEncoder(handle_unknown='ignore'),\n",
       "                                                  ['Gender', 'p_type', 'NStage',\n",
       "                                                   'MStage', 'Histology',\n",
       "                                                   'GleasonScore', 'stage',\n",
       "                                                   'met_year', 'brca_status',\n",
       "                                                   'ecog_diagnosis',\n",
       "                                                   'prim_treatment'])])),\n",
       "                ('gradientboostingsurvivalanalysis',\n",
       "                 GradientBoostingSurvivalAnalysis(learning_rate=0.05,\n",
       "                                                  max_depth=4, n_estimators=425,\n",
       "                                                  random_state=42,\n",
       "                                                  subsample=0.5, verbose=1))])"
      ]
     },
     "execution_count": 175,
     "metadata": {},
     "output_type": "execute_result"
    }
   ],
   "source": [
    "gbm_mice1 = make_pipeline(preprocessor_red, GradientBoostingSurvivalAnalysis(n_estimators = np.where(np.diff(mean_auc_list) < 0)[0][0]*25,\n",
    "                                                                             learning_rate = 0.05,\n",
    "                                                                             max_depth = 4,\n",
    "                                                                             subsample = 0.5,\n",
    "                                                                             verbose = 1,\n",
    "                                                                             random_state = 42))\n",
    "\n",
    "gbm_mice1.fit(train_mice1_x, train_y)"
   ]
  },
  {
   "cell_type": "code",
   "execution_count": 176,
   "id": "8921c944",
   "metadata": {},
   "outputs": [
    {
     "data": {
      "text/plain": [
       "['gbm_mice1.joblib']"
      ]
     },
     "execution_count": 176,
     "metadata": {},
     "output_type": "execute_result"
    }
   ],
   "source": [
    "dump(gbm_mice1, 'gbm_mice1.joblib') "
   ]
  },
  {
   "cell_type": "code",
   "execution_count": 177,
   "id": "47285989",
   "metadata": {},
   "outputs": [
    {
     "name": "stdout",
     "output_type": "stream",
     "text": [
      "Test set AUC at 2 years: 0.7717620304601127\n"
     ]
    }
   ],
   "source": [
    "gbm_risk_scores_te = gbm_mice1.predict(test_mice_x)\n",
    "gbm_auc_te = cumulative_dynamic_auc(train_y, test_y, gbm_risk_scores_te, 730)[0][0]\n",
    "print('Test set AUC at 2 years:', gbm_auc_te)"
   ]
  },
  {
   "cell_type": "code",
   "execution_count": 178,
   "id": "cbe37c6b",
   "metadata": {},
   "outputs": [
    {
     "name": "stdout",
     "output_type": "stream",
     "text": [
      "Training set AUC at 2 years: 0.8284809212037821\n"
     ]
    }
   ],
   "source": [
    "gbm_risk_scores_tr = gbm_mice1.predict(train_mice1_x)\n",
    "gbm_auc_tr = cumulative_dynamic_auc(train_y, train_y, gbm_risk_scores_tr, 730)[0][0]\n",
    "print('Training set AUC at 2 years:', gbm_auc_tr)"
   ]
  },
  {
   "cell_type": "code",
   "execution_count": 179,
   "id": "f3f43c7d",
   "metadata": {},
   "outputs": [],
   "source": [
    "# Bootstrap 10000 1 yr AUCs for test set \n",
    "n_bootstraps = 10000\n",
    "rng_seed = 42 \n",
    "bootstrapped_scores_te = []\n",
    "\n",
    "rng = np.random.RandomState(rng_seed)\n",
    "for i in range(n_bootstraps):\n",
    "    indices = rng.randint(0, len(gbm_risk_scores_te), len(gbm_risk_scores_te))\n",
    "    auc_yr = cumulative_dynamic_auc(train_y, test_y[indices], gbm_risk_scores_te[indices], 730)[0][0]\n",
    "    bootstrapped_scores_te.append(auc_yr)"
   ]
  },
  {
   "cell_type": "code",
   "execution_count": 180,
   "id": "3d79481c",
   "metadata": {},
   "outputs": [
    {
     "name": "stdout",
     "output_type": "stream",
     "text": [
      "Test set AUC standard error: 0.0041265463876872365\n"
     ]
    }
   ],
   "source": [
    "# Standard error of mean for test set AUC\n",
    "sorted_scores_te = np.array(bootstrapped_scores_te)\n",
    "sorted_scores_te.sort()\n",
    "\n",
    "conf_lower_te = sorted_scores_te[int(0.025 * len(sorted_scores_te))]\n",
    "conf_upper_te = sorted_scores_te[int(0.975 * len(sorted_scores_te))]\n",
    "\n",
    "standard_error_te = (conf_upper_te - conf_lower_te) / 3.92\n",
    "print('Test set AUC standard error:', standard_error_te)"
   ]
  },
  {
   "cell_type": "code",
   "execution_count": 181,
   "id": "8290c6ed",
   "metadata": {},
   "outputs": [],
   "source": [
    "# Bootstrap 10000 1-yr AUCs for train set \n",
    "n_bootstraps = 10000\n",
    "rng_seed = 42 \n",
    "bootstrapped_scores_tr = []\n",
    "\n",
    "rng = np.random.RandomState(rng_seed)\n",
    "for i in range(n_bootstraps):\n",
    "    indices = rng.randint(0, len(gbm_risk_scores_tr), len(gbm_risk_scores_tr))\n",
    "    auc_yr = cumulative_dynamic_auc(train_y, train_y[indices], gbm_risk_scores_tr[indices], 730)[0][0]\n",
    "    bootstrapped_scores_tr.append(auc_yr)"
   ]
  },
  {
   "cell_type": "code",
   "execution_count": 182,
   "id": "9986baea",
   "metadata": {},
   "outputs": [
    {
     "name": "stdout",
     "output_type": "stream",
     "text": [
      "Training set AUC standard error 0.003987302018609324\n"
     ]
    }
   ],
   "source": [
    "# Standard error of mean for train set AUC\n",
    "sorted_scores_tr = np.array(bootstrapped_scores_tr)\n",
    "sorted_scores_tr.sort()\n",
    "\n",
    "conf_lower_tr = sorted_scores_tr[int(0.025 * len(sorted_scores_tr))]\n",
    "conf_upper_tr = sorted_scores_tr[int(0.975 * len(sorted_scores_tr))]\n",
    "\n",
    "standard_error_tr = (conf_upper_tr - conf_lower_tr) / 3.92\n",
    "print('Training set AUC standard error', standard_error_tr)"
   ]
  },
  {
   "cell_type": "code",
   "execution_count": 183,
   "id": "aa21d0d0",
   "metadata": {},
   "outputs": [],
   "source": [
    "mice_auc_data = {'mice_dataset': 'mice_1',\n",
    "                 'auc_2yr_te': gbm_auc_te,\n",
    "                 'sem_te': standard_error_te,\n",
    "                 'auc_2yr_tr': gbm_auc_tr,\n",
    "                 'sem_tr': standard_error_tr}\n",
    "\n",
    "mice_auc_df = mice_auc_df.append(mice_auc_data, ignore_index = True)"
   ]
  },
  {
   "cell_type": "code",
   "execution_count": 184,
   "id": "581f23fa",
   "metadata": {},
   "outputs": [
    {
     "data": {
      "text/html": [
       "<div>\n",
       "<style scoped>\n",
       "    .dataframe tbody tr th:only-of-type {\n",
       "        vertical-align: middle;\n",
       "    }\n",
       "\n",
       "    .dataframe tbody tr th {\n",
       "        vertical-align: top;\n",
       "    }\n",
       "\n",
       "    .dataframe thead th {\n",
       "        text-align: right;\n",
       "    }\n",
       "</style>\n",
       "<table border=\"1\" class=\"dataframe\">\n",
       "  <thead>\n",
       "    <tr style=\"text-align: right;\">\n",
       "      <th></th>\n",
       "      <th>mice_dataset</th>\n",
       "      <th>auc_2yr_te</th>\n",
       "      <th>sem_te</th>\n",
       "      <th>auc_2yr_tr</th>\n",
       "      <th>sem_tr</th>\n",
       "    </tr>\n",
       "  </thead>\n",
       "  <tbody>\n",
       "    <tr>\n",
       "      <th>0</th>\n",
       "      <td>mice_0</td>\n",
       "      <td>0.775543</td>\n",
       "      <td>0.004090</td>\n",
       "      <td>0.833514</td>\n",
       "      <td>0.004023</td>\n",
       "    </tr>\n",
       "    <tr>\n",
       "      <th>1</th>\n",
       "      <td>mice_1</td>\n",
       "      <td>0.771762</td>\n",
       "      <td>0.004127</td>\n",
       "      <td>0.828481</td>\n",
       "      <td>0.003987</td>\n",
       "    </tr>\n",
       "  </tbody>\n",
       "</table>\n",
       "</div>"
      ],
      "text/plain": [
       "  mice_dataset  auc_2yr_te    sem_te  auc_2yr_tr    sem_tr\n",
       "0       mice_0    0.775543  0.004090    0.833514  0.004023\n",
       "1       mice_1    0.771762  0.004127    0.828481  0.003987"
      ]
     },
     "execution_count": 184,
     "metadata": {},
     "output_type": "execute_result"
    }
   ],
   "source": [
    "mice_auc_df "
   ]
  },
  {
   "cell_type": "code",
   "execution_count": 185,
   "id": "a95bf24c",
   "metadata": {},
   "outputs": [],
   "source": [
    "mice_auc_df.to_csv('mice_auc_df.csv', index = False, header = True)"
   ]
  },
  {
   "cell_type": "code",
   "execution_count": 186,
   "id": "1ee68ea3",
   "metadata": {},
   "outputs": [],
   "source": [
    "times = np.arange(30, 1810, 30)\n",
    "mice1_auc_over5 = cumulative_dynamic_auc(train_y, test_y, gbm_risk_scores_te, times)[0]\n",
    "\n",
    "times_data = {}\n",
    "values = mice1_auc_over5\n",
    "time_names = []\n",
    "\n",
    "for x in range(len(times)):\n",
    "    time_names.append('time_'+str(times[x]))\n",
    "\n",
    "for i in range(len(time_names)):\n",
    "    times_data[time_names[i]] = values[i]\n",
    "    \n",
    "mice1_auc_over5_df = pd.DataFrame(times_data, index = ['mice_1'])\n",
    "\n",
    "mice_auc_over5 = mice_auc_over5.append(mice1_auc_over5_df, ignore_index = False)"
   ]
  },
  {
   "cell_type": "code",
   "execution_count": 187,
   "id": "d49c0b94",
   "metadata": {},
   "outputs": [
    {
     "data": {
      "text/html": [
       "<div>\n",
       "<style scoped>\n",
       "    .dataframe tbody tr th:only-of-type {\n",
       "        vertical-align: middle;\n",
       "    }\n",
       "\n",
       "    .dataframe tbody tr th {\n",
       "        vertical-align: top;\n",
       "    }\n",
       "\n",
       "    .dataframe thead th {\n",
       "        text-align: right;\n",
       "    }\n",
       "</style>\n",
       "<table border=\"1\" class=\"dataframe\">\n",
       "  <thead>\n",
       "    <tr style=\"text-align: right;\">\n",
       "      <th></th>\n",
       "      <th>time_30</th>\n",
       "      <th>time_60</th>\n",
       "      <th>time_90</th>\n",
       "      <th>time_120</th>\n",
       "      <th>time_150</th>\n",
       "      <th>time_180</th>\n",
       "      <th>time_210</th>\n",
       "      <th>time_240</th>\n",
       "      <th>time_270</th>\n",
       "      <th>time_300</th>\n",
       "      <th>...</th>\n",
       "      <th>time_1530</th>\n",
       "      <th>time_1560</th>\n",
       "      <th>time_1590</th>\n",
       "      <th>time_1620</th>\n",
       "      <th>time_1650</th>\n",
       "      <th>time_1680</th>\n",
       "      <th>time_1710</th>\n",
       "      <th>time_1740</th>\n",
       "      <th>time_1770</th>\n",
       "      <th>time_1800</th>\n",
       "    </tr>\n",
       "  </thead>\n",
       "  <tbody>\n",
       "    <tr>\n",
       "      <th>mice_0</th>\n",
       "      <td>0.927864</td>\n",
       "      <td>0.867938</td>\n",
       "      <td>0.844127</td>\n",
       "      <td>0.840129</td>\n",
       "      <td>0.849537</td>\n",
       "      <td>0.840189</td>\n",
       "      <td>0.822436</td>\n",
       "      <td>0.829647</td>\n",
       "      <td>0.823961</td>\n",
       "      <td>0.820499</td>\n",
       "      <td>...</td>\n",
       "      <td>0.765596</td>\n",
       "      <td>0.764703</td>\n",
       "      <td>0.764506</td>\n",
       "      <td>0.766187</td>\n",
       "      <td>0.766906</td>\n",
       "      <td>0.766149</td>\n",
       "      <td>0.768768</td>\n",
       "      <td>0.768122</td>\n",
       "      <td>0.772134</td>\n",
       "      <td>0.768710</td>\n",
       "    </tr>\n",
       "    <tr>\n",
       "      <th>mice_1</th>\n",
       "      <td>0.936911</td>\n",
       "      <td>0.862256</td>\n",
       "      <td>0.841794</td>\n",
       "      <td>0.841586</td>\n",
       "      <td>0.848369</td>\n",
       "      <td>0.837816</td>\n",
       "      <td>0.821175</td>\n",
       "      <td>0.828226</td>\n",
       "      <td>0.821135</td>\n",
       "      <td>0.818188</td>\n",
       "      <td>...</td>\n",
       "      <td>0.765077</td>\n",
       "      <td>0.763884</td>\n",
       "      <td>0.763574</td>\n",
       "      <td>0.765922</td>\n",
       "      <td>0.766976</td>\n",
       "      <td>0.766039</td>\n",
       "      <td>0.769752</td>\n",
       "      <td>0.769359</td>\n",
       "      <td>0.774085</td>\n",
       "      <td>0.770352</td>\n",
       "    </tr>\n",
       "  </tbody>\n",
       "</table>\n",
       "<p>2 rows × 60 columns</p>\n",
       "</div>"
      ],
      "text/plain": [
       "         time_30   time_60   time_90  time_120  time_150  time_180  time_210  \\\n",
       "mice_0  0.927864  0.867938  0.844127  0.840129  0.849537  0.840189  0.822436   \n",
       "mice_1  0.936911  0.862256  0.841794  0.841586  0.848369  0.837816  0.821175   \n",
       "\n",
       "        time_240  time_270  time_300  ...  time_1530  time_1560  time_1590  \\\n",
       "mice_0  0.829647  0.823961  0.820499  ...   0.765596   0.764703   0.764506   \n",
       "mice_1  0.828226  0.821135  0.818188  ...   0.765077   0.763884   0.763574   \n",
       "\n",
       "        time_1620  time_1650  time_1680  time_1710  time_1740  time_1770  \\\n",
       "mice_0   0.766187   0.766906   0.766149   0.768768   0.768122   0.772134   \n",
       "mice_1   0.765922   0.766976   0.766039   0.769752   0.769359   0.774085   \n",
       "\n",
       "        time_1800  \n",
       "mice_0   0.768710  \n",
       "mice_1   0.770352  \n",
       "\n",
       "[2 rows x 60 columns]"
      ]
     },
     "execution_count": 187,
     "metadata": {},
     "output_type": "execute_result"
    }
   ],
   "source": [
    "mice_auc_over5 "
   ]
  },
  {
   "cell_type": "code",
   "execution_count": 188,
   "id": "8bd85871",
   "metadata": {},
   "outputs": [],
   "source": [
    "mice_auc_over5.to_csv('mice_auc_over5.csv', index = True, header = True)"
   ]
  },
  {
   "cell_type": "code",
   "execution_count": 189,
   "id": "29b1d778",
   "metadata": {},
   "outputs": [],
   "source": [
    "# Variables passing through pipeline_rsf\n",
    "cat_encoder = list(preprocessor_red.transformers_[1][1].get_feature_names(categorical_features))\n",
    "pass_through = list(train_mice1_x.iloc[:, preprocessor_red.transformers_[2][2]].columns)\n",
    "attributes_gbm = numerical_features_red + cat_encoder + pass_through"
   ]
  },
  {
   "cell_type": "code",
   "execution_count": 190,
   "id": "0cb2e5fd",
   "metadata": {},
   "outputs": [
    {
     "name": "stdout",
     "output_type": "stream",
     "text": [
      "Total number of features: 184\n",
      "Number of non-zero features in final model: 172\n"
     ]
    },
    {
     "data": {
      "image/png": "[encoded data removed]",
      "text/plain": [
       "<Figure size 600x800 with 1 Axes>"
      ]
     },
     "metadata": {},
     "output_type": "display_data"
    }
   ],
   "source": [
    "# Dataframe of coefficients for each variable \n",
    "coefficients_mice1 = pd.DataFrame(\n",
    "    gbm_mice1.named_steps['gradientboostingsurvivalanalysis'].feature_importances_,\n",
    "    index = attributes_gbm,\n",
    "    columns = ['coefficient']\n",
    ")\n",
    "\n",
    "print('Total number of features: {}'.format(len(attributes_gbm)))\n",
    "\n",
    "non_zero = np.sum(coefficients_mice1.iloc[:, 0] != 0)\n",
    "print('Number of non-zero features in final model: {}'.format(non_zero))\n",
    "\n",
    "non_zero_coefs = coefficients_mice1.query('coefficient != 0')\n",
    "coef_order = non_zero_coefs.abs().sort_values('coefficient').tail(30).index\n",
    "\n",
    "_, ax = plt.subplots(figsize=(6, 8))\n",
    "non_zero_coefs.loc[coef_order].plot.barh(ax = ax, legend = False)\n",
    "ax.set_xlabel('coefficient')\n",
    "ax.grid(True)"
   ]
  },
  {
   "cell_type": "code",
   "execution_count": 191,
   "id": "8b566d51",
   "metadata": {},
   "outputs": [],
   "source": [
    "coefficients_mice1_df = (\n",
    "    coefficients_mice1\n",
    "    .reset_index()\n",
    "    .rename(columns = {'index':'variable'}))"
   ]
  },
  {
   "cell_type": "code",
   "execution_count": 192,
   "id": "60d869de",
   "metadata": {},
   "outputs": [],
   "source": [
    "coefficients_mice = coefficients_mice.append(coefficients_mice1_df, ignore_index = True)"
   ]
  },
  {
   "cell_type": "code",
   "execution_count": 193,
   "id": "c8855194",
   "metadata": {},
   "outputs": [],
   "source": [
    "coefficients_mice.to_csv('coefficients_mice.csv', index = False, header = True)"
   ]
  },
  {
   "cell_type": "markdown",
   "id": "52354e95",
   "metadata": {},
   "source": [
    "### 3.3 Model 3"
   ]
  },
  {
   "cell_type": "markdown",
   "id": "3f3441ba",
   "metadata": {},
   "source": [
    "#### Preprocessing "
   ]
  },
  {
   "cell_type": "code",
   "execution_count": 194,
   "id": "6ca1245e",
   "metadata": {},
   "outputs": [],
   "source": [
    "train_mice2 = pd.read_csv('mice_tr2.csv', index_col = 'PatientID')"
   ]
  },
  {
   "cell_type": "code",
   "execution_count": 195,
   "id": "7c2e68c9",
   "metadata": {},
   "outputs": [
    {
     "name": "stdout",
     "output_type": "stream",
     "text": [
      "(15141, 197)\n"
     ]
    }
   ],
   "source": [
    "print(train_mice2.shape)"
   ]
  },
  {
   "cell_type": "code",
   "execution_count": 196,
   "id": "e3c51b15",
   "metadata": {},
   "outputs": [
    {
     "data": {
      "text/plain": [
       "0"
      ]
     },
     "execution_count": 196,
     "metadata": {},
     "output_type": "execute_result"
    }
   ],
   "source": [
    "train_mice2.isna().sum().sum()"
   ]
  },
  {
   "cell_type": "code",
   "execution_count": 197,
   "id": "2130718c",
   "metadata": {},
   "outputs": [],
   "source": [
    "train_mice2 = train_mice2.drop(columns = mice_drop)"
   ]
  },
  {
   "cell_type": "code",
   "execution_count": 198,
   "id": "a904b356",
   "metadata": {},
   "outputs": [],
   "source": [
    "train_mice2 = train_mice2.drop(columns = dem_var)"
   ]
  },
  {
   "cell_type": "code",
   "execution_count": 199,
   "id": "45b64beb",
   "metadata": {},
   "outputs": [
    {
     "name": "stdout",
     "output_type": "stream",
     "text": [
      "(15141, 145)\n"
     ]
    }
   ],
   "source": [
    "print(train_mice2.shape)"
   ]
  },
  {
   "cell_type": "code",
   "execution_count": 200,
   "id": "29a572e6",
   "metadata": {},
   "outputs": [],
   "source": [
    "train_mice2['ecog_na'] = np.where(train_mice2.index.isin(train.query('ecog_diagnosis == \"unknown\"').PatientID), 1, 0)\n",
    "train_mice2['stage_na'] = np.where(train_mice2.index.isin(train.query('stage == \"unknown\"').PatientID), 1, 0)"
   ]
  },
  {
   "cell_type": "code",
   "execution_count": 201,
   "id": "0458e6a9",
   "metadata": {},
   "outputs": [
    {
     "data": {
      "text/plain": [
       "['Gender',\n",
       " 'p_type',\n",
       " 'NStage',\n",
       " 'MStage',\n",
       " 'Histology',\n",
       " 'GleasonScore',\n",
       " 'stage',\n",
       " 'met_year',\n",
       " 'brca_status',\n",
       " 'ecog_diagnosis',\n",
       " 'prim_treatment']"
      ]
     },
     "execution_count": 201,
     "metadata": {},
     "output_type": "execute_result"
    }
   ],
   "source": [
    "for x in list(to_be_categorical):\n",
    "    train_mice2[x] = train_mice2[x].astype('category')\n",
    "    \n",
    "list(train_mice2.select_dtypes(include = ['category']).columns)"
   ]
  },
  {
   "cell_type": "code",
   "execution_count": 202,
   "id": "09732f4f",
   "metadata": {},
   "outputs": [],
   "source": [
    "train_mice2['death_status'] = train_mice2['death_status'].astype('bool')"
   ]
  },
  {
   "cell_type": "code",
   "execution_count": 203,
   "id": "44d29952",
   "metadata": {},
   "outputs": [],
   "source": [
    "val_mice2 = train_mice2[train_mice2.index.isin(val_IDs['PatientID'])]\n",
    "\n",
    "sub_train_mice2 = train_mice2[~train_mice2.index.isin(val_IDs['PatientID'])]"
   ]
  },
  {
   "cell_type": "code",
   "execution_count": 204,
   "id": "252286d5",
   "metadata": {},
   "outputs": [
    {
     "name": "stdout",
     "output_type": "stream",
     "text": [
      "(15141, 147)\n",
      "(11355, 147)\n",
      "(3786, 147)\n"
     ]
    }
   ],
   "source": [
    "print(train_mice2.shape)\n",
    "print(sub_train_mice2.shape)\n",
    "print(val_mice2.shape)"
   ]
  },
  {
   "cell_type": "code",
   "execution_count": 205,
   "id": "9b51f14a",
   "metadata": {},
   "outputs": [],
   "source": [
    "train_mice2_x = train_mice2.drop(columns = ['death_status', 'timerisk_activity'])\n",
    "\n",
    "sub_train_mice2_x = sub_train_mice2.drop(columns = ['death_status', 'timerisk_activity'])\n",
    "\n",
    "val_mice2_x = val_mice2.drop(columns = ['death_status', 'timerisk_activity'])"
   ]
  },
  {
   "cell_type": "code",
   "execution_count": 206,
   "id": "82448528",
   "metadata": {},
   "outputs": [
    {
     "name": "stdout",
     "output_type": "stream",
     "text": [
      "(15141, 145)\n",
      "(11355, 145)\n",
      "(3786, 145)\n"
     ]
    }
   ],
   "source": [
    "print(train_mice2_x.shape)\n",
    "print(sub_train_mice2_x.shape)\n",
    "print(val_mice2_x.shape)"
   ]
  },
  {
   "cell_type": "markdown",
   "id": "70406789",
   "metadata": {},
   "source": [
    "#### Hyperparameter tuning "
   ]
  },
  {
   "cell_type": "code",
   "execution_count": 207,
   "id": "7da55a9e",
   "metadata": {},
   "outputs": [
    {
     "name": "stdout",
     "output_type": "stream",
     "text": [
      "      Iter       Train Loss      OOB Improve   Remaining Time \n",
      "         1       22803.5106          16.8759           39.61m\n",
      "         2       23017.3392          16.9224           39.70m\n",
      "         3       23192.0848          16.6656           39.68m\n",
      "         4       22603.5641          15.1510           39.72m\n",
      "         5       23149.2614          15.2888           39.73m\n",
      "         6       22850.0236          14.7846           39.67m\n",
      "         7       22877.5635          14.7009           39.64m\n",
      "         8       22634.0189          13.4316           39.63m\n",
      "         9       22264.4718          14.0868           39.60m\n",
      "        10       23014.2981          12.0991           39.56m\n",
      "        20       22208.5488           9.2170           39.29m\n",
      "        30       22641.6715           6.6383           38.99m\n",
      "        40       21998.2814           6.2068           38.71m\n",
      "        50       21975.7196           4.5330           38.43m\n",
      "        60       21987.5746           3.4560           38.15m\n",
      "        70       22067.4614           2.5145           37.88m\n",
      "        80       22217.9722           2.5836           37.60m\n",
      "        90       22350.2929           1.2375           37.33m\n",
      "       100       21622.3816           1.4616           37.07m\n",
      "       200       21708.5206           0.0558           34.39m\n",
      "       300       21769.4994           0.3226           31.72m\n",
      "       400       21117.1868          -0.3507           29.09m\n",
      "       500       21416.5717          -0.4488           26.44m\n",
      "       600       21150.7354          -0.1544           23.80m\n",
      "       700       21107.3581          -0.3896           21.15m\n",
      "       800       20951.9366          -0.3768           18.51m\n",
      "       900       20846.1295          -0.4226           15.87m\n",
      "      1000       20699.0982          -0.3350           13.22m\n"
     ]
    },
    {
     "data": {
      "text/plain": [
       "GradientBoostingSurvivalAnalysis(learning_rate=0.05, max_depth=4,\n",
       "                                 n_estimators=1500, random_state=42,\n",
       "                                 subsample=0.5, verbose=1)"
      ]
     },
     "execution_count": 207,
     "metadata": {},
     "output_type": "execute_result"
    }
   ],
   "source": [
    "sub_train_mice2_xt = preprocessor_red.fit_transform(sub_train_mice2_x)\n",
    "val_mice2_xt = preprocessor_red.transform(val_mice2_x)\n",
    "\n",
    "gbm_mice2_exp = GradientBoostingSurvivalAnalysis(n_estimators = 1500,\n",
    "                                                 learning_rate = 0.05,\n",
    "                                                 max_depth = 4,\n",
    "                                                 subsample = 0.5,\n",
    "                                                 verbose = 1,\n",
    "                                                 random_state = 42)\n",
    "\n",
    "gbm_mice2_exp.fit(sub_train_mice2_xt, sub_train_y)"
   ]
  },
  {
   "cell_type": "code",
   "execution_count": 208,
   "id": "ac64757b",
   "metadata": {},
   "outputs": [],
   "source": [
    "gbm2_staged_auc = [cumulative_dynamic_auc(sub_train_y, val_y, risk_score, 730)[0][0] for \n",
    "                   risk_score in gbm_mice2_exp.staged_predict(val_mice2_xt)]"
   ]
  },
  {
   "cell_type": "code",
   "execution_count": 209,
   "id": "1ef7bc5a",
   "metadata": {},
   "outputs": [],
   "source": [
    "gbm2_staged_auc_tr = [cumulative_dynamic_auc(sub_train_y, sub_train_y, risk_score, 730)[0][0] for \n",
    "                      risk_score in gbm_mice2_exp.staged_predict(sub_train_mice2_xt)]"
   ]
  },
  {
   "cell_type": "code",
   "execution_count": 210,
   "id": "0771ad6d",
   "metadata": {},
   "outputs": [
    {
     "data": {
      "image/png": "[encoded data removed]",
      "text/plain": [
       "<Figure size 640x480 with 1 Axes>"
      ]
     },
     "metadata": {},
     "output_type": "display_data"
    }
   ],
   "source": [
    "fig = plt.figure()\n",
    "ax = fig.add_subplot(1, 1, 1)\n",
    "\n",
    "x = range(len(gbm2_staged_auc))\n",
    "plt.plot(x, gbm2_staged_auc, color = 'blue', label = 'validation')\n",
    "plt.plot(x, gbm2_staged_auc_tr, color = 'red', label = 'training')\n",
    "plt.legend(loc = 'lower right')\n",
    "\n",
    "plt.xlabel(\"n_estimators\")\n",
    "plt.ylabel(\"AUC at 2-years\")\n",
    "plt.title('Gradient boosting model learning curve for mice2')\n",
    "\n",
    "plt.show()"
   ]
  },
  {
   "cell_type": "code",
   "execution_count": 211,
   "id": "1f3b1693",
   "metadata": {},
   "outputs": [],
   "source": [
    "# Average AUC for every 25 additional trees. \n",
    "mean_auc_list = []\n",
    "for x in np.arange(0, len(gbm2_staged_auc), 25):\n",
    "    mean_auc_list.append(np.mean(gbm2_staged_auc[x:x+24]))"
   ]
  },
  {
   "cell_type": "code",
   "execution_count": 212,
   "id": "f7d610f9",
   "metadata": {},
   "outputs": [
    {
     "name": "stdout",
     "output_type": "stream",
     "text": [
      "Number of trees where 2 year AUC on validation dataset beings to downgrade: 350\n",
      "Validation dataset AUC before degrading: 0.7817471086150164\n",
      "Training dataset AUC before degrading: 0.8303562876048203\n"
     ]
    }
   ],
   "source": [
    "print('Number of trees where 2 year AUC on validation dataset beings to downgrade:', np.where(np.diff(mean_auc_list) < 0)[0][0]*25)\n",
    "print('Validation dataset AUC before degrading:', gbm2_staged_auc[np.where(np.diff(mean_auc_list) < 0)[0][0]*25])\n",
    "print('Training dataset AUC before degrading:', gbm2_staged_auc_tr[np.where(np.diff(mean_auc_list) < 0)[0][0]*25])"
   ]
  },
  {
   "cell_type": "markdown",
   "id": "e6fd8bd0",
   "metadata": {},
   "source": [
    "#### Building model and assessing performance "
   ]
  },
  {
   "cell_type": "code",
   "execution_count": 213,
   "id": "893d4a2f",
   "metadata": {},
   "outputs": [
    {
     "name": "stdout",
     "output_type": "stream",
     "text": [
      "      Iter       Train Loss      OOB Improve   Remaining Time \n",
      "         1       31614.2108          23.5547           16.65m\n",
      "         2       31131.5155          24.2268           16.66m\n",
      "         3       31429.2643          23.1570           16.63m\n",
      "         4       31359.0216          22.0965           16.59m\n",
      "         5       31509.8164          21.8635           16.54m\n",
      "         6       30865.4607          20.3472           16.50m\n",
      "         7       31322.9437          20.2228           16.45m\n",
      "         8       31547.2155          18.1487           16.40m\n",
      "         9       31375.6064          18.1944           16.35m\n",
      "        10       31156.3175          17.9668           16.31m\n",
      "        20       31104.7662          13.1950           15.84m\n",
      "        30       31086.5966           9.4109           15.36m\n",
      "        40       30845.7557           8.1227           14.88m\n",
      "        50       30405.0033           7.0006           14.40m\n",
      "        60       30925.2369           3.9650           13.92m\n",
      "        70       30442.2230           3.8704           13.44m\n",
      "        80       30321.5926           2.6366           12.96m\n",
      "        90       30370.9175           2.1997           12.48m\n",
      "       100       30307.8518           2.5013           12.00m\n",
      "       200       30168.9208           0.3521            7.20m\n",
      "       300       29769.5182           0.1416            2.40m\n"
     ]
    },
    {
     "data": {
      "text/plain": [
       "Pipeline(steps=[('columntransformer',\n",
       "                 ColumnTransformer(remainder='passthrough',\n",
       "                                   transformers=[('num',\n",
       "                                                  Pipeline(steps=[('std_scaler',\n",
       "                                                                   StandardScaler())]),\n",
       "                                                  ['age', 'PSADiagnosis',\n",
       "                                                   'PSAMetDiagnosis',\n",
       "                                                   'delta_met_diagnosis',\n",
       "                                                   'crpc_time', 'weight_diag',\n",
       "                                                   'bmi_diag',\n",
       "                                                   'weight_pct_change',\n",
       "                                                   'weight_slope',\n",
       "                                                   'albumin_diag', 'alp_diag',\n",
       "                                                   'alt_diag', 'ast_diag',\n",
       "                                                   'bicarb_diag', 'bun...\n",
       "                                                   'creatinine_max', ...]),\n",
       "                                                 ('cat',\n",
       "                                                  OneHotEncoder(handle_unknown='ignore'),\n",
       "                                                  ['Gender', 'p_type', 'NStage',\n",
       "                                                   'MStage', 'Histology',\n",
       "                                                   'GleasonScore', 'stage',\n",
       "                                                   'met_year', 'brca_status',\n",
       "                                                   'ecog_diagnosis',\n",
       "                                                   'prim_treatment'])])),\n",
       "                ('gradientboostingsurvivalanalysis',\n",
       "                 GradientBoostingSurvivalAnalysis(learning_rate=0.05,\n",
       "                                                  max_depth=4, n_estimators=350,\n",
       "                                                  random_state=42,\n",
       "                                                  subsample=0.5, verbose=1))])"
      ]
     },
     "execution_count": 213,
     "metadata": {},
     "output_type": "execute_result"
    }
   ],
   "source": [
    "gbm_mice2 = make_pipeline(preprocessor_red, GradientBoostingSurvivalAnalysis(n_estimators = np.where(np.diff(mean_auc_list) < 0)[0][0]*25,\n",
    "                                                                             learning_rate = 0.05,\n",
    "                                                                             max_depth = 4,\n",
    "                                                                             subsample = 0.5,\n",
    "                                                                             verbose = 1,\n",
    "                                                                             random_state = 42))\n",
    "\n",
    "gbm_mice2.fit(train_mice2_x, train_y)"
   ]
  },
  {
   "cell_type": "code",
   "execution_count": 214,
   "id": "8dab64ce",
   "metadata": {},
   "outputs": [
    {
     "data": {
      "text/plain": [
       "['gbm_mice2.joblib']"
      ]
     },
     "execution_count": 214,
     "metadata": {},
     "output_type": "execute_result"
    }
   ],
   "source": [
    "dump(gbm_mice2, 'gbm_mice2.joblib') "
   ]
  },
  {
   "cell_type": "code",
   "execution_count": 215,
   "id": "6e4eac14",
   "metadata": {},
   "outputs": [
    {
     "name": "stdout",
     "output_type": "stream",
     "text": [
      "Test set AUC at 2 year: 0.7728401364392564\n"
     ]
    }
   ],
   "source": [
    "gbm_risk_scores_te = gbm_mice2.predict(test_mice_x)\n",
    "gbm_auc_te = cumulative_dynamic_auc(train_y, test_y, gbm_risk_scores_te, 730)[0][0]\n",
    "print('Test set AUC at 2 year:', gbm_auc_te)"
   ]
  },
  {
   "cell_type": "code",
   "execution_count": 216,
   "id": "bfee8ead",
   "metadata": {},
   "outputs": [
    {
     "name": "stdout",
     "output_type": "stream",
     "text": [
      "Training set AUC at 2 year: 0.8213387359871551\n"
     ]
    }
   ],
   "source": [
    "gbm_risk_scores_tr = gbm_mice2.predict(train_mice2_x)\n",
    "gbm_auc_tr = cumulative_dynamic_auc(train_y, train_y, gbm_risk_scores_tr, 730)[0][0]\n",
    "print('Training set AUC at 2 year:', gbm_auc_tr)"
   ]
  },
  {
   "cell_type": "code",
   "execution_count": 217,
   "id": "c9cf4816",
   "metadata": {},
   "outputs": [],
   "source": [
    "# Bootstrap 10000 1 yr AUCs for test set \n",
    "n_bootstraps = 10000\n",
    "rng_seed = 42 \n",
    "bootstrapped_scores_te = []\n",
    "\n",
    "rng = np.random.RandomState(rng_seed)\n",
    "for i in range(n_bootstraps):\n",
    "    indices = rng.randint(0, len(gbm_risk_scores_te), len(gbm_risk_scores_te))\n",
    "    auc_yr = cumulative_dynamic_auc(train_y, test_y[indices], gbm_risk_scores_te[indices], 730)[0][0]\n",
    "    bootstrapped_scores_te.append(auc_yr)"
   ]
  },
  {
   "cell_type": "code",
   "execution_count": 218,
   "id": "1ee925cd",
   "metadata": {},
   "outputs": [
    {
     "name": "stdout",
     "output_type": "stream",
     "text": [
      "Test set AUC standard error: 0.004084453641700399\n"
     ]
    }
   ],
   "source": [
    "# Standard error of mean for test set AUC\n",
    "sorted_scores_te = np.array(bootstrapped_scores_te)\n",
    "sorted_scores_te.sort()\n",
    "\n",
    "conf_lower_te = sorted_scores_te[int(0.025 * len(sorted_scores_te))]\n",
    "conf_upper_te = sorted_scores_te[int(0.975 * len(sorted_scores_te))]\n",
    "\n",
    "standard_error_te = (conf_upper_te - conf_lower_te) / 3.92\n",
    "print('Test set AUC standard error:', standard_error_te)"
   ]
  },
  {
   "cell_type": "code",
   "execution_count": 219,
   "id": "722e79b6",
   "metadata": {},
   "outputs": [],
   "source": [
    "# Bootstrap 10000 1-yr AUCs for train set \n",
    "n_bootstraps = 10000\n",
    "rng_seed = 42 \n",
    "bootstrapped_scores_tr = []\n",
    "\n",
    "rng = np.random.RandomState(rng_seed)\n",
    "for i in range(n_bootstraps):\n",
    "    indices = rng.randint(0, len(gbm_risk_scores_tr), len(gbm_risk_scores_tr))\n",
    "    auc_yr = cumulative_dynamic_auc(train_y, train_y[indices], gbm_risk_scores_tr[indices], 730)[0][0]\n",
    "    bootstrapped_scores_tr.append(auc_yr)"
   ]
  },
  {
   "cell_type": "code",
   "execution_count": 220,
   "id": "7080d003",
   "metadata": {},
   "outputs": [
    {
     "name": "stdout",
     "output_type": "stream",
     "text": [
      "Training set AUC standard error 0.004185480374597161\n"
     ]
    }
   ],
   "source": [
    "# Standard error of mean for train set AUC\n",
    "sorted_scores_tr = np.array(bootstrapped_scores_tr)\n",
    "sorted_scores_tr.sort()\n",
    "\n",
    "conf_lower_tr = sorted_scores_tr[int(0.025 * len(sorted_scores_tr))]\n",
    "conf_upper_tr = sorted_scores_tr[int(0.975 * len(sorted_scores_tr))]\n",
    "\n",
    "standard_error_tr = (conf_upper_tr - conf_lower_tr) / 3.92\n",
    "print('Training set AUC standard error', standard_error_tr)"
   ]
  },
  {
   "cell_type": "code",
   "execution_count": 221,
   "id": "856f39e9",
   "metadata": {},
   "outputs": [],
   "source": [
    "mice_auc_data = {'mice_dataset': 'mice_2',\n",
    "                 'auc_2yr_te': gbm_auc_te,\n",
    "                 'sem_te': standard_error_te,\n",
    "                 'auc_2yr_tr': gbm_auc_tr,\n",
    "                 'sem_tr': standard_error_tr}\n",
    "\n",
    "mice_auc_df = mice_auc_df.append(mice_auc_data, ignore_index = True)"
   ]
  },
  {
   "cell_type": "code",
   "execution_count": 222,
   "id": "72cc6b57",
   "metadata": {},
   "outputs": [
    {
     "data": {
      "text/html": [
       "<div>\n",
       "<style scoped>\n",
       "    .dataframe tbody tr th:only-of-type {\n",
       "        vertical-align: middle;\n",
       "    }\n",
       "\n",
       "    .dataframe tbody tr th {\n",
       "        vertical-align: top;\n",
       "    }\n",
       "\n",
       "    .dataframe thead th {\n",
       "        text-align: right;\n",
       "    }\n",
       "</style>\n",
       "<table border=\"1\" class=\"dataframe\">\n",
       "  <thead>\n",
       "    <tr style=\"text-align: right;\">\n",
       "      <th></th>\n",
       "      <th>mice_dataset</th>\n",
       "      <th>auc_2yr_te</th>\n",
       "      <th>sem_te</th>\n",
       "      <th>auc_2yr_tr</th>\n",
       "      <th>sem_tr</th>\n",
       "    </tr>\n",
       "  </thead>\n",
       "  <tbody>\n",
       "    <tr>\n",
       "      <th>0</th>\n",
       "      <td>mice_0</td>\n",
       "      <td>0.775543</td>\n",
       "      <td>0.004090</td>\n",
       "      <td>0.833514</td>\n",
       "      <td>0.004023</td>\n",
       "    </tr>\n",
       "    <tr>\n",
       "      <th>1</th>\n",
       "      <td>mice_1</td>\n",
       "      <td>0.771762</td>\n",
       "      <td>0.004127</td>\n",
       "      <td>0.828481</td>\n",
       "      <td>0.003987</td>\n",
       "    </tr>\n",
       "    <tr>\n",
       "      <th>2</th>\n",
       "      <td>mice_2</td>\n",
       "      <td>0.772840</td>\n",
       "      <td>0.004084</td>\n",
       "      <td>0.821339</td>\n",
       "      <td>0.004185</td>\n",
       "    </tr>\n",
       "  </tbody>\n",
       "</table>\n",
       "</div>"
      ],
      "text/plain": [
       "  mice_dataset  auc_2yr_te    sem_te  auc_2yr_tr    sem_tr\n",
       "0       mice_0    0.775543  0.004090    0.833514  0.004023\n",
       "1       mice_1    0.771762  0.004127    0.828481  0.003987\n",
       "2       mice_2    0.772840  0.004084    0.821339  0.004185"
      ]
     },
     "execution_count": 222,
     "metadata": {},
     "output_type": "execute_result"
    }
   ],
   "source": [
    "mice_auc_df "
   ]
  },
  {
   "cell_type": "code",
   "execution_count": 223,
   "id": "0d145fe4",
   "metadata": {},
   "outputs": [],
   "source": [
    "mice_auc_df.to_csv('mice_auc_df.csv', index = False, header = True)"
   ]
  },
  {
   "cell_type": "code",
   "execution_count": 224,
   "id": "37547224",
   "metadata": {},
   "outputs": [],
   "source": [
    "times = np.arange(30, 1810, 30)\n",
    "mice2_auc_over5 = cumulative_dynamic_auc(train_y, test_y, gbm_risk_scores_te, times)[0]\n",
    "\n",
    "times_data = {}\n",
    "values = mice2_auc_over5\n",
    "time_names = []\n",
    "\n",
    "for x in range(len(times)):\n",
    "    time_names.append('time_'+str(times[x]))\n",
    "\n",
    "for i in range(len(time_names)):\n",
    "    times_data[time_names[i]] = values[i]\n",
    "    \n",
    "mice2_auc_over5_df = pd.DataFrame(times_data, index = ['mice_2'])\n",
    "\n",
    "mice_auc_over5 = mice_auc_over5.append(mice2_auc_over5_df, ignore_index = False)"
   ]
  },
  {
   "cell_type": "code",
   "execution_count": 225,
   "id": "b177c366",
   "metadata": {},
   "outputs": [
    {
     "data": {
      "text/html": [
       "<div>\n",
       "<style scoped>\n",
       "    .dataframe tbody tr th:only-of-type {\n",
       "        vertical-align: middle;\n",
       "    }\n",
       "\n",
       "    .dataframe tbody tr th {\n",
       "        vertical-align: top;\n",
       "    }\n",
       "\n",
       "    .dataframe thead th {\n",
       "        text-align: right;\n",
       "    }\n",
       "</style>\n",
       "<table border=\"1\" class=\"dataframe\">\n",
       "  <thead>\n",
       "    <tr style=\"text-align: right;\">\n",
       "      <th></th>\n",
       "      <th>time_30</th>\n",
       "      <th>time_60</th>\n",
       "      <th>time_90</th>\n",
       "      <th>time_120</th>\n",
       "      <th>time_150</th>\n",
       "      <th>time_180</th>\n",
       "      <th>time_210</th>\n",
       "      <th>time_240</th>\n",
       "      <th>time_270</th>\n",
       "      <th>time_300</th>\n",
       "      <th>...</th>\n",
       "      <th>time_1530</th>\n",
       "      <th>time_1560</th>\n",
       "      <th>time_1590</th>\n",
       "      <th>time_1620</th>\n",
       "      <th>time_1650</th>\n",
       "      <th>time_1680</th>\n",
       "      <th>time_1710</th>\n",
       "      <th>time_1740</th>\n",
       "      <th>time_1770</th>\n",
       "      <th>time_1800</th>\n",
       "    </tr>\n",
       "  </thead>\n",
       "  <tbody>\n",
       "    <tr>\n",
       "      <th>mice_0</th>\n",
       "      <td>0.927864</td>\n",
       "      <td>0.867938</td>\n",
       "      <td>0.844127</td>\n",
       "      <td>0.840129</td>\n",
       "      <td>0.849537</td>\n",
       "      <td>0.840189</td>\n",
       "      <td>0.822436</td>\n",
       "      <td>0.829647</td>\n",
       "      <td>0.823961</td>\n",
       "      <td>0.820499</td>\n",
       "      <td>...</td>\n",
       "      <td>0.765596</td>\n",
       "      <td>0.764703</td>\n",
       "      <td>0.764506</td>\n",
       "      <td>0.766187</td>\n",
       "      <td>0.766906</td>\n",
       "      <td>0.766149</td>\n",
       "      <td>0.768768</td>\n",
       "      <td>0.768122</td>\n",
       "      <td>0.772134</td>\n",
       "      <td>0.768710</td>\n",
       "    </tr>\n",
       "    <tr>\n",
       "      <th>mice_1</th>\n",
       "      <td>0.936911</td>\n",
       "      <td>0.862256</td>\n",
       "      <td>0.841794</td>\n",
       "      <td>0.841586</td>\n",
       "      <td>0.848369</td>\n",
       "      <td>0.837816</td>\n",
       "      <td>0.821175</td>\n",
       "      <td>0.828226</td>\n",
       "      <td>0.821135</td>\n",
       "      <td>0.818188</td>\n",
       "      <td>...</td>\n",
       "      <td>0.765077</td>\n",
       "      <td>0.763884</td>\n",
       "      <td>0.763574</td>\n",
       "      <td>0.765922</td>\n",
       "      <td>0.766976</td>\n",
       "      <td>0.766039</td>\n",
       "      <td>0.769752</td>\n",
       "      <td>0.769359</td>\n",
       "      <td>0.774085</td>\n",
       "      <td>0.770352</td>\n",
       "    </tr>\n",
       "    <tr>\n",
       "      <th>mice_2</th>\n",
       "      <td>0.932352</td>\n",
       "      <td>0.858939</td>\n",
       "      <td>0.842798</td>\n",
       "      <td>0.839143</td>\n",
       "      <td>0.846344</td>\n",
       "      <td>0.837919</td>\n",
       "      <td>0.820410</td>\n",
       "      <td>0.828029</td>\n",
       "      <td>0.821133</td>\n",
       "      <td>0.817434</td>\n",
       "      <td>...</td>\n",
       "      <td>0.764765</td>\n",
       "      <td>0.763423</td>\n",
       "      <td>0.762947</td>\n",
       "      <td>0.765148</td>\n",
       "      <td>0.765898</td>\n",
       "      <td>0.765618</td>\n",
       "      <td>0.769512</td>\n",
       "      <td>0.768575</td>\n",
       "      <td>0.772191</td>\n",
       "      <td>0.768910</td>\n",
       "    </tr>\n",
       "  </tbody>\n",
       "</table>\n",
       "<p>3 rows × 60 columns</p>\n",
       "</div>"
      ],
      "text/plain": [
       "         time_30   time_60   time_90  time_120  time_150  time_180  time_210  \\\n",
       "mice_0  0.927864  0.867938  0.844127  0.840129  0.849537  0.840189  0.822436   \n",
       "mice_1  0.936911  0.862256  0.841794  0.841586  0.848369  0.837816  0.821175   \n",
       "mice_2  0.932352  0.858939  0.842798  0.839143  0.846344  0.837919  0.820410   \n",
       "\n",
       "        time_240  time_270  time_300  ...  time_1530  time_1560  time_1590  \\\n",
       "mice_0  0.829647  0.823961  0.820499  ...   0.765596   0.764703   0.764506   \n",
       "mice_1  0.828226  0.821135  0.818188  ...   0.765077   0.763884   0.763574   \n",
       "mice_2  0.828029  0.821133  0.817434  ...   0.764765   0.763423   0.762947   \n",
       "\n",
       "        time_1620  time_1650  time_1680  time_1710  time_1740  time_1770  \\\n",
       "mice_0   0.766187   0.766906   0.766149   0.768768   0.768122   0.772134   \n",
       "mice_1   0.765922   0.766976   0.766039   0.769752   0.769359   0.774085   \n",
       "mice_2   0.765148   0.765898   0.765618   0.769512   0.768575   0.772191   \n",
       "\n",
       "        time_1800  \n",
       "mice_0   0.768710  \n",
       "mice_1   0.770352  \n",
       "mice_2   0.768910  \n",
       "\n",
       "[3 rows x 60 columns]"
      ]
     },
     "execution_count": 225,
     "metadata": {},
     "output_type": "execute_result"
    }
   ],
   "source": [
    "mice_auc_over5"
   ]
  },
  {
   "cell_type": "code",
   "execution_count": 226,
   "id": "96336f3b",
   "metadata": {},
   "outputs": [],
   "source": [
    "mice_auc_over5.to_csv('mice_auc_over5.csv', index = True, header = True)"
   ]
  },
  {
   "cell_type": "code",
   "execution_count": 227,
   "id": "170ad063",
   "metadata": {},
   "outputs": [],
   "source": [
    "# Variables passing through pipeline_rsf\n",
    "cat_encoder = list(preprocessor_red.transformers_[1][1].get_feature_names(categorical_features))\n",
    "pass_through = list(train_mice2_x.iloc[:, preprocessor_red.transformers_[2][2]].columns)\n",
    "attributes_gbm = numerical_features_red + cat_encoder + pass_through"
   ]
  },
  {
   "cell_type": "code",
   "execution_count": 228,
   "id": "1954b63d",
   "metadata": {},
   "outputs": [
    {
     "name": "stdout",
     "output_type": "stream",
     "text": [
      "Total number of features: 184\n",
      "Number of non-zero features in final model: 167\n"
     ]
    },
    {
     "data": {
      "image/png": "[encoded data removed]",
      "text/plain": [
       "<Figure size 600x800 with 1 Axes>"
      ]
     },
     "metadata": {},
     "output_type": "display_data"
    }
   ],
   "source": [
    "# Dataframe of coefficients for each variable \n",
    "coefficients_mice2 = pd.DataFrame(\n",
    "    gbm_mice2.named_steps['gradientboostingsurvivalanalysis'].feature_importances_,\n",
    "    index = attributes_gbm,\n",
    "    columns = ['coefficient']\n",
    ")\n",
    "\n",
    "print('Total number of features: {}'.format(len(attributes_gbm)))\n",
    "\n",
    "non_zero = np.sum(coefficients_mice2.iloc[:, 0] != 0)\n",
    "print('Number of non-zero features in final model: {}'.format(non_zero))\n",
    "\n",
    "non_zero_coefs = coefficients_mice2.query('coefficient != 0')\n",
    "coef_order = non_zero_coefs.abs().sort_values('coefficient').tail(30).index\n",
    "\n",
    "_, ax = plt.subplots(figsize=(6, 8))\n",
    "non_zero_coefs.loc[coef_order].plot.barh(ax = ax, legend = False)\n",
    "ax.set_xlabel('coefficient')\n",
    "ax.grid(True)"
   ]
  },
  {
   "cell_type": "code",
   "execution_count": 229,
   "id": "0eb2b987",
   "metadata": {},
   "outputs": [],
   "source": [
    "coefficients_mice2_df = (\n",
    "    coefficients_mice2\n",
    "    .reset_index()\n",
    "    .rename(columns = {'index':'variable'}))"
   ]
  },
  {
   "cell_type": "code",
   "execution_count": 230,
   "id": "472abe83",
   "metadata": {},
   "outputs": [],
   "source": [
    "coefficients_mice = coefficients_mice.append(coefficients_mice2_df, ignore_index = True)"
   ]
  },
  {
   "cell_type": "code",
   "execution_count": 231,
   "id": "7f144c7f",
   "metadata": {},
   "outputs": [],
   "source": [
    "coefficients_mice.to_csv('coefficients_mice.csv', index = False, header = True)"
   ]
  },
  {
   "cell_type": "markdown",
   "id": "fc26e609",
   "metadata": {},
   "source": [
    "### 3.4 Model 4"
   ]
  },
  {
   "cell_type": "markdown",
   "id": "fe1a2944",
   "metadata": {},
   "source": [
    "#### Preprocessing "
   ]
  },
  {
   "cell_type": "code",
   "execution_count": 232,
   "id": "5d3a7a6d",
   "metadata": {},
   "outputs": [],
   "source": [
    "train_mice3 = pd.read_csv('mice_tr3.csv', index_col = 'PatientID')"
   ]
  },
  {
   "cell_type": "code",
   "execution_count": 233,
   "id": "d91a0c9f",
   "metadata": {},
   "outputs": [
    {
     "name": "stdout",
     "output_type": "stream",
     "text": [
      "(15141, 197)\n"
     ]
    }
   ],
   "source": [
    "print(train_mice3.shape)"
   ]
  },
  {
   "cell_type": "code",
   "execution_count": 234,
   "id": "19af2d72",
   "metadata": {},
   "outputs": [
    {
     "data": {
      "text/plain": [
       "0"
      ]
     },
     "execution_count": 234,
     "metadata": {},
     "output_type": "execute_result"
    }
   ],
   "source": [
    "train_mice3.isna().sum().sum()"
   ]
  },
  {
   "cell_type": "code",
   "execution_count": 235,
   "id": "843d186d",
   "metadata": {},
   "outputs": [],
   "source": [
    "train_mice3 = train_mice3.drop(columns = mice_drop)"
   ]
  },
  {
   "cell_type": "code",
   "execution_count": 236,
   "id": "d81cba07",
   "metadata": {},
   "outputs": [],
   "source": [
    "train_mice3 = train_mice3.drop(columns = dem_var)"
   ]
  },
  {
   "cell_type": "code",
   "execution_count": 237,
   "id": "fa75f0b4",
   "metadata": {},
   "outputs": [
    {
     "name": "stdout",
     "output_type": "stream",
     "text": [
      "(15141, 145)\n"
     ]
    }
   ],
   "source": [
    "print(train_mice3.shape)"
   ]
  },
  {
   "cell_type": "code",
   "execution_count": 238,
   "id": "d798c056",
   "metadata": {},
   "outputs": [],
   "source": [
    "train_mice3['ecog_na'] = np.where(train_mice3.index.isin(train.query('ecog_diagnosis == \"unknown\"').PatientID), 1, 0)\n",
    "train_mice3['stage_na'] = np.where(train_mice3.index.isin(train.query('stage == \"unknown\"').PatientID), 1, 0)"
   ]
  },
  {
   "cell_type": "code",
   "execution_count": 239,
   "id": "67c7c182",
   "metadata": {},
   "outputs": [
    {
     "data": {
      "text/plain": [
       "['Gender',\n",
       " 'p_type',\n",
       " 'NStage',\n",
       " 'MStage',\n",
       " 'Histology',\n",
       " 'GleasonScore',\n",
       " 'stage',\n",
       " 'met_year',\n",
       " 'brca_status',\n",
       " 'ecog_diagnosis',\n",
       " 'prim_treatment']"
      ]
     },
     "execution_count": 239,
     "metadata": {},
     "output_type": "execute_result"
    }
   ],
   "source": [
    "for x in list(to_be_categorical):\n",
    "    train_mice3[x] = train_mice3[x].astype('category')\n",
    "    \n",
    "list(train_mice3.select_dtypes(include = ['category']).columns)"
   ]
  },
  {
   "cell_type": "code",
   "execution_count": 240,
   "id": "bcd9ddc4",
   "metadata": {},
   "outputs": [],
   "source": [
    "train_mice3['death_status'] = train_mice3['death_status'].astype('bool')"
   ]
  },
  {
   "cell_type": "code",
   "execution_count": 241,
   "id": "a9f05c97",
   "metadata": {},
   "outputs": [],
   "source": [
    "val_mice3 = train_mice3[train_mice3.index.isin(val_IDs['PatientID'])]\n",
    "\n",
    "sub_train_mice3 = train_mice3[~train_mice3.index.isin(val_IDs['PatientID'])]"
   ]
  },
  {
   "cell_type": "code",
   "execution_count": 242,
   "id": "fcb5da1b",
   "metadata": {},
   "outputs": [
    {
     "name": "stdout",
     "output_type": "stream",
     "text": [
      "(15141, 147)\n",
      "(11355, 147)\n",
      "(3786, 147)\n"
     ]
    }
   ],
   "source": [
    "print(train_mice3.shape)\n",
    "print(sub_train_mice3.shape)\n",
    "print(val_mice3.shape)"
   ]
  },
  {
   "cell_type": "code",
   "execution_count": 243,
   "id": "714520ce",
   "metadata": {},
   "outputs": [],
   "source": [
    "train_mice3_x = train_mice3.drop(columns = ['death_status', 'timerisk_activity'])\n",
    "\n",
    "sub_train_mice3_x = sub_train_mice3.drop(columns = ['death_status', 'timerisk_activity'])\n",
    "\n",
    "val_mice3_x = val_mice3.drop(columns = ['death_status', 'timerisk_activity'])"
   ]
  },
  {
   "cell_type": "code",
   "execution_count": 244,
   "id": "b5aa71ea",
   "metadata": {},
   "outputs": [
    {
     "name": "stdout",
     "output_type": "stream",
     "text": [
      "(15141, 145)\n",
      "(11355, 145)\n",
      "(3786, 145)\n"
     ]
    }
   ],
   "source": [
    "print(train_mice3_x.shape)\n",
    "print(sub_train_mice3_x.shape)\n",
    "print(val_mice3_x.shape)"
   ]
  },
  {
   "cell_type": "markdown",
   "id": "f8b7f051",
   "metadata": {},
   "source": [
    "#### Hyperparameter tuning "
   ]
  },
  {
   "cell_type": "code",
   "execution_count": 245,
   "id": "4ffa2865",
   "metadata": {},
   "outputs": [
    {
     "name": "stdout",
     "output_type": "stream",
     "text": [
      "      Iter       Train Loss      OOB Improve   Remaining Time \n",
      "         1       22801.8089          18.2878           40.00m\n",
      "         2       23016.1847          15.9482           40.10m\n",
      "         3       23191.2112          17.0698           40.08m\n",
      "         4       22602.2008          15.8179           40.06m\n",
      "         5       23148.8472          15.0900           40.05m\n",
      "         6       22846.5354          13.9608           40.02m\n",
      "         7       22874.9889          14.3407           39.98m\n",
      "         8       22636.4278          13.5005           39.95m\n",
      "         9       22264.3302          13.9737           39.93m\n",
      "        10       23017.2270          13.1384           39.90m\n",
      "        20       22204.6016           8.9298           39.61m\n",
      "        30       22632.5582           7.3228           39.30m\n",
      "        40       21991.2837           4.7791           39.00m\n",
      "        50       21984.5993           4.1860           38.70m\n",
      "        60       21985.4202           3.3386           38.41m\n",
      "        70       22064.5741           3.1713           38.13m\n",
      "        80       22208.0444           2.8045           37.86m\n",
      "        90       22364.1523           1.7233           37.59m\n",
      "       100       21619.7328           1.7037           37.31m\n",
      "       200       21712.6208           0.2119           34.60m\n",
      "       300       21775.4958           0.1026           31.93m\n",
      "       400       21135.5364           0.0062           29.26m\n",
      "       500       21405.3776          -0.4460           26.60m\n",
      "       600       21152.5066          -0.2493           23.95m\n",
      "       700       21112.1357          -0.0248           21.30m\n",
      "       800       20923.9942          -0.1450           18.65m\n",
      "       900       20810.6069          -0.4247           15.99m\n",
      "      1000       20664.7253          -0.4365           13.33m\n"
     ]
    },
    {
     "data": {
      "text/plain": [
       "GradientBoostingSurvivalAnalysis(learning_rate=0.05, max_depth=4,\n",
       "                                 n_estimators=1500, random_state=42,\n",
       "                                 subsample=0.5, verbose=1)"
      ]
     },
     "execution_count": 245,
     "metadata": {},
     "output_type": "execute_result"
    }
   ],
   "source": [
    "sub_train_mice3_xt = preprocessor_red.fit_transform(sub_train_mice3_x)\n",
    "val_mice3_xt = preprocessor_red.transform(val_mice3_x)\n",
    "\n",
    "gbm_mice3_exp = GradientBoostingSurvivalAnalysis(n_estimators = 1500,\n",
    "                                                 learning_rate = 0.05,\n",
    "                                                 max_depth = 4,\n",
    "                                                 subsample = 0.5,\n",
    "                                                 verbose = 1,\n",
    "                                                 random_state = 42)\n",
    "\n",
    "gbm_mice3_exp.fit(sub_train_mice3_xt, sub_train_y)"
   ]
  },
  {
   "cell_type": "code",
   "execution_count": 246,
   "id": "63ddda87",
   "metadata": {},
   "outputs": [],
   "source": [
    "gbm3_staged_auc = [cumulative_dynamic_auc(sub_train_y, val_y, risk_score, 730)[0][0] for \n",
    "                   risk_score in gbm_mice3_exp.staged_predict(val_mice3_xt)]"
   ]
  },
  {
   "cell_type": "code",
   "execution_count": 247,
   "id": "ba220e80",
   "metadata": {},
   "outputs": [],
   "source": [
    "gbm3_staged_auc_tr = [cumulative_dynamic_auc(sub_train_y, sub_train_y, risk_score, 730)[0][0] for \n",
    "                      risk_score in gbm_mice3_exp.staged_predict(sub_train_mice3_xt)]"
   ]
  },
  {
   "cell_type": "code",
   "execution_count": 248,
   "id": "d9df8665",
   "metadata": {},
   "outputs": [
    {
     "data": {
      "image/png": "[encoded data removed]",
      "text/plain": [
       "<Figure size 640x480 with 1 Axes>"
      ]
     },
     "metadata": {},
     "output_type": "display_data"
    }
   ],
   "source": [
    "fig = plt.figure()\n",
    "ax = fig.add_subplot(1, 1, 1)\n",
    "\n",
    "x = range(len(gbm3_staged_auc))\n",
    "plt.plot(x, gbm3_staged_auc, color = 'blue', label = 'validation')\n",
    "plt.plot(x, gbm3_staged_auc_tr, color = 'red', label = 'training')\n",
    "plt.legend(loc = 'lower right')\n",
    "\n",
    "plt.xlabel(\"n_estimators\")\n",
    "plt.ylabel(\"AUC at 2 years\")\n",
    "plt.title('Gradient boosting model learning curve for mice3')\n",
    "\n",
    "plt.show()"
   ]
  },
  {
   "cell_type": "code",
   "execution_count": 249,
   "id": "011fa414",
   "metadata": {},
   "outputs": [],
   "source": [
    "# Average AUC for every 25 additional trees. \n",
    "mean_auc_list = []\n",
    "for x in np.arange(0, len(gbm3_staged_auc), 25):\n",
    "    mean_auc_list.append(np.mean(gbm3_staged_auc[x:x+24]))"
   ]
  },
  {
   "cell_type": "code",
   "execution_count": 250,
   "id": "b9ea30b6",
   "metadata": {},
   "outputs": [
    {
     "name": "stdout",
     "output_type": "stream",
     "text": [
      "Number of trees where 2 year AUC on validation dataset beings to downgrade: 350\n",
      "Validation dataset AUC before degrading: 0.7829077679318687\n",
      "Training dataset AUC before degrading: 0.8314272590843659\n"
     ]
    }
   ],
   "source": [
    "print('Number of trees where 2 year AUC on validation dataset beings to downgrade:', np.where(np.diff(mean_auc_list) < 0)[0][0]*25)\n",
    "print('Validation dataset AUC before degrading:', gbm3_staged_auc[np.where(np.diff(mean_auc_list) < 0)[0][0]*25])\n",
    "print('Training dataset AUC before degrading:', gbm3_staged_auc_tr[np.where(np.diff(mean_auc_list) < 0)[0][0]*25])"
   ]
  },
  {
   "cell_type": "markdown",
   "id": "ffd30a0c",
   "metadata": {},
   "source": [
    "#### Model building and performance assessment "
   ]
  },
  {
   "cell_type": "code",
   "execution_count": 251,
   "id": "1fba73ee",
   "metadata": {},
   "outputs": [
    {
     "name": "stdout",
     "output_type": "stream",
     "text": [
      "      Iter       Train Loss      OOB Improve   Remaining Time \n",
      "         1       31614.4845          24.3232           16.82m\n",
      "         2       31131.5769          24.6192           16.83m\n",
      "         3       31426.9538          22.8694           16.79m\n",
      "         4       31359.5003          22.3834           16.76m\n",
      "         5       31508.8366          21.5775           16.71m\n",
      "         6       30864.2504          20.8028           16.67m\n",
      "         7       31323.2868          18.3841           16.62m\n",
      "         8       31545.1322          18.3560           16.57m\n",
      "         9       31371.7735          17.7545           16.53m\n",
      "        10       31152.3802          16.8528           16.48m\n",
      "        20       31107.7714          13.3124           16.00m\n",
      "        30       31081.4521           8.7531           15.52m\n",
      "        40       30848.5931           7.7436           15.03m\n",
      "        50       30401.0016           5.7326           14.54m\n",
      "        60       30923.2690           4.1162           14.05m\n",
      "        70       30433.8082           3.5669           13.57m\n",
      "        80       30318.3177           3.0877           13.08m\n",
      "        90       30371.8712           1.9545           12.60m\n",
      "       100       30305.9568           2.2039           12.11m\n",
      "       200       30168.0487           0.1713            7.27m\n",
      "       300       29763.6157          -0.2207            2.42m\n"
     ]
    },
    {
     "data": {
      "text/plain": [
       "Pipeline(steps=[('columntransformer',\n",
       "                 ColumnTransformer(remainder='passthrough',\n",
       "                                   transformers=[('num',\n",
       "                                                  Pipeline(steps=[('std_scaler',\n",
       "                                                                   StandardScaler())]),\n",
       "                                                  ['age', 'PSADiagnosis',\n",
       "                                                   'PSAMetDiagnosis',\n",
       "                                                   'delta_met_diagnosis',\n",
       "                                                   'crpc_time', 'weight_diag',\n",
       "                                                   'bmi_diag',\n",
       "                                                   'weight_pct_change',\n",
       "                                                   'weight_slope',\n",
       "                                                   'albumin_diag', 'alp_diag',\n",
       "                                                   'alt_diag', 'ast_diag',\n",
       "                                                   'bicarb_diag', 'bun...\n",
       "                                                   'creatinine_max', ...]),\n",
       "                                                 ('cat',\n",
       "                                                  OneHotEncoder(handle_unknown='ignore'),\n",
       "                                                  ['Gender', 'p_type', 'NStage',\n",
       "                                                   'MStage', 'Histology',\n",
       "                                                   'GleasonScore', 'stage',\n",
       "                                                   'met_year', 'brca_status',\n",
       "                                                   'ecog_diagnosis',\n",
       "                                                   'prim_treatment'])])),\n",
       "                ('gradientboostingsurvivalanalysis',\n",
       "                 GradientBoostingSurvivalAnalysis(learning_rate=0.05,\n",
       "                                                  max_depth=4, n_estimators=350,\n",
       "                                                  random_state=42,\n",
       "                                                  subsample=0.5, verbose=1))])"
      ]
     },
     "execution_count": 251,
     "metadata": {},
     "output_type": "execute_result"
    }
   ],
   "source": [
    "gbm_mice3 = make_pipeline(preprocessor_red, GradientBoostingSurvivalAnalysis(n_estimators = np.where(np.diff(mean_auc_list) < 0)[0][0]*25,\n",
    "                                                                             learning_rate = 0.05,\n",
    "                                                                             max_depth = 4,\n",
    "                                                                             subsample = 0.5,\n",
    "                                                                             verbose = 1,\n",
    "                                                                             random_state = 42))\n",
    "\n",
    "gbm_mice3.fit(train_mice3_x, train_y)"
   ]
  },
  {
   "cell_type": "code",
   "execution_count": 252,
   "id": "12557fd2",
   "metadata": {},
   "outputs": [
    {
     "data": {
      "text/plain": [
       "['gbm_mice3.joblib']"
      ]
     },
     "execution_count": 252,
     "metadata": {},
     "output_type": "execute_result"
    }
   ],
   "source": [
    "dump(gbm_mice3, 'gbm_mice3.joblib') "
   ]
  },
  {
   "cell_type": "code",
   "execution_count": 253,
   "id": "eb1cd963",
   "metadata": {},
   "outputs": [
    {
     "name": "stdout",
     "output_type": "stream",
     "text": [
      "Test set AUC at 2 years: 0.7710000799926662\n"
     ]
    }
   ],
   "source": [
    "gbm_risk_scores_te = gbm_mice3.predict(test_mice_x)\n",
    "gbm_auc_te = cumulative_dynamic_auc(train_y, test_y, gbm_risk_scores_te, 730)[0][0]\n",
    "print('Test set AUC at 2 years:', gbm_auc_te)"
   ]
  },
  {
   "cell_type": "code",
   "execution_count": 254,
   "id": "aa2e0958",
   "metadata": {},
   "outputs": [
    {
     "name": "stdout",
     "output_type": "stream",
     "text": [
      "Training set AUC at 2 years: 0.8221915159767419\n"
     ]
    }
   ],
   "source": [
    "gbm_risk_scores_tr = gbm_mice3.predict(train_mice3_x)\n",
    "gbm_auc_tr = cumulative_dynamic_auc(train_y, train_y, gbm_risk_scores_tr, 730)[0][0]\n",
    "print('Training set AUC at 2 years:', gbm_auc_tr)"
   ]
  },
  {
   "cell_type": "code",
   "execution_count": 255,
   "id": "e56f8d82",
   "metadata": {},
   "outputs": [],
   "source": [
    "# Bootstrap 10000 1 yr AUCs for test set \n",
    "n_bootstraps = 10000\n",
    "rng_seed = 42 \n",
    "bootstrapped_scores_te = []\n",
    "\n",
    "rng = np.random.RandomState(rng_seed)\n",
    "for i in range(n_bootstraps):\n",
    "    indices = rng.randint(0, len(gbm_risk_scores_te), len(gbm_risk_scores_te))\n",
    "    auc_yr = cumulative_dynamic_auc(train_y, test_y[indices], gbm_risk_scores_te[indices], 730)[0][0]\n",
    "    bootstrapped_scores_te.append(auc_yr)"
   ]
  },
  {
   "cell_type": "code",
   "execution_count": 256,
   "id": "8e32185c",
   "metadata": {},
   "outputs": [
    {
     "name": "stdout",
     "output_type": "stream",
     "text": [
      "Test set AUC standard error: 0.0041125957806519885\n"
     ]
    }
   ],
   "source": [
    "# Standard error of mean for test set AUC\n",
    "sorted_scores_te = np.array(bootstrapped_scores_te)\n",
    "sorted_scores_te.sort()\n",
    "\n",
    "conf_lower_te = sorted_scores_te[int(0.025 * len(sorted_scores_te))]\n",
    "conf_upper_te = sorted_scores_te[int(0.975 * len(sorted_scores_te))]\n",
    "\n",
    "standard_error_te = (conf_upper_te - conf_lower_te) / 3.92\n",
    "print('Test set AUC standard error:', standard_error_te)"
   ]
  },
  {
   "cell_type": "code",
   "execution_count": 257,
   "id": "18ed5415",
   "metadata": {},
   "outputs": [],
   "source": [
    "# Bootstrap 10000 1-yr AUCs for train set \n",
    "n_bootstraps = 10000\n",
    "rng_seed = 42 \n",
    "bootstrapped_scores_tr = []\n",
    "\n",
    "rng = np.random.RandomState(rng_seed)\n",
    "for i in range(n_bootstraps):\n",
    "    indices = rng.randint(0, len(gbm_risk_scores_tr), len(gbm_risk_scores_tr))\n",
    "    auc_yr = cumulative_dynamic_auc(train_y, train_y[indices], gbm_risk_scores_tr[indices], 730)[0][0]\n",
    "    bootstrapped_scores_tr.append(auc_yr)"
   ]
  },
  {
   "cell_type": "code",
   "execution_count": 258,
   "id": "39fca7b3",
   "metadata": {},
   "outputs": [
    {
     "name": "stdout",
     "output_type": "stream",
     "text": [
      "Training set AUC standard error 0.004166348057126182\n"
     ]
    }
   ],
   "source": [
    "# Standard error of mean for train set AUC\n",
    "sorted_scores_tr = np.array(bootstrapped_scores_tr)\n",
    "sorted_scores_tr.sort()\n",
    "\n",
    "conf_lower_tr = sorted_scores_tr[int(0.025 * len(sorted_scores_tr))]\n",
    "conf_upper_tr = sorted_scores_tr[int(0.975 * len(sorted_scores_tr))]\n",
    "\n",
    "standard_error_tr = (conf_upper_tr - conf_lower_tr) / 3.92\n",
    "print('Training set AUC standard error', standard_error_tr)"
   ]
  },
  {
   "cell_type": "code",
   "execution_count": 259,
   "id": "93b85766",
   "metadata": {},
   "outputs": [],
   "source": [
    "mice_auc_data = {'mice_dataset': 'mice_3',\n",
    "                 'auc_2yr_te': gbm_auc_te,\n",
    "                 'sem_te': standard_error_te,\n",
    "                 'auc_2yr_tr': gbm_auc_tr,\n",
    "                 'sem_tr': standard_error_tr}\n",
    "\n",
    "mice_auc_df = mice_auc_df.append(mice_auc_data, ignore_index = True)"
   ]
  },
  {
   "cell_type": "code",
   "execution_count": 260,
   "id": "e2ac9a70",
   "metadata": {},
   "outputs": [
    {
     "data": {
      "text/html": [
       "<div>\n",
       "<style scoped>\n",
       "    .dataframe tbody tr th:only-of-type {\n",
       "        vertical-align: middle;\n",
       "    }\n",
       "\n",
       "    .dataframe tbody tr th {\n",
       "        vertical-align: top;\n",
       "    }\n",
       "\n",
       "    .dataframe thead th {\n",
       "        text-align: right;\n",
       "    }\n",
       "</style>\n",
       "<table border=\"1\" class=\"dataframe\">\n",
       "  <thead>\n",
       "    <tr style=\"text-align: right;\">\n",
       "      <th></th>\n",
       "      <th>mice_dataset</th>\n",
       "      <th>auc_2yr_te</th>\n",
       "      <th>sem_te</th>\n",
       "      <th>auc_2yr_tr</th>\n",
       "      <th>sem_tr</th>\n",
       "    </tr>\n",
       "  </thead>\n",
       "  <tbody>\n",
       "    <tr>\n",
       "      <th>0</th>\n",
       "      <td>mice_0</td>\n",
       "      <td>0.775543</td>\n",
       "      <td>0.004090</td>\n",
       "      <td>0.833514</td>\n",
       "      <td>0.004023</td>\n",
       "    </tr>\n",
       "    <tr>\n",
       "      <th>1</th>\n",
       "      <td>mice_1</td>\n",
       "      <td>0.771762</td>\n",
       "      <td>0.004127</td>\n",
       "      <td>0.828481</td>\n",
       "      <td>0.003987</td>\n",
       "    </tr>\n",
       "    <tr>\n",
       "      <th>2</th>\n",
       "      <td>mice_2</td>\n",
       "      <td>0.772840</td>\n",
       "      <td>0.004084</td>\n",
       "      <td>0.821339</td>\n",
       "      <td>0.004185</td>\n",
       "    </tr>\n",
       "    <tr>\n",
       "      <th>3</th>\n",
       "      <td>mice_3</td>\n",
       "      <td>0.771000</td>\n",
       "      <td>0.004113</td>\n",
       "      <td>0.822192</td>\n",
       "      <td>0.004166</td>\n",
       "    </tr>\n",
       "  </tbody>\n",
       "</table>\n",
       "</div>"
      ],
      "text/plain": [
       "  mice_dataset  auc_2yr_te    sem_te  auc_2yr_tr    sem_tr\n",
       "0       mice_0    0.775543  0.004090    0.833514  0.004023\n",
       "1       mice_1    0.771762  0.004127    0.828481  0.003987\n",
       "2       mice_2    0.772840  0.004084    0.821339  0.004185\n",
       "3       mice_3    0.771000  0.004113    0.822192  0.004166"
      ]
     },
     "execution_count": 260,
     "metadata": {},
     "output_type": "execute_result"
    }
   ],
   "source": [
    "mice_auc_df "
   ]
  },
  {
   "cell_type": "code",
   "execution_count": 261,
   "id": "91e2c796",
   "metadata": {},
   "outputs": [],
   "source": [
    "mice_auc_df.to_csv('mice_auc_df.csv', index = False, header = True)"
   ]
  },
  {
   "cell_type": "code",
   "execution_count": 262,
   "id": "0f069018",
   "metadata": {},
   "outputs": [],
   "source": [
    "times = np.arange(30, 1810, 30)\n",
    "mice3_auc_over5 = cumulative_dynamic_auc(train_y, test_y, gbm_risk_scores_te, times)[0]\n",
    "\n",
    "times_data = {}\n",
    "values = mice3_auc_over5\n",
    "time_names = []\n",
    "\n",
    "for x in range(len(times)):\n",
    "    time_names.append('time_'+str(times[x]))\n",
    "\n",
    "for i in range(len(time_names)):\n",
    "    times_data[time_names[i]] = values[i]\n",
    "    \n",
    "mice3_auc_over5_df = pd.DataFrame(times_data, index = ['mice_3'])\n",
    "\n",
    "mice_auc_over5 = mice_auc_over5.append(mice3_auc_over5_df, ignore_index = False)"
   ]
  },
  {
   "cell_type": "code",
   "execution_count": 263,
   "id": "5a0ff138",
   "metadata": {},
   "outputs": [
    {
     "data": {
      "text/html": [
       "<div>\n",
       "<style scoped>\n",
       "    .dataframe tbody tr th:only-of-type {\n",
       "        vertical-align: middle;\n",
       "    }\n",
       "\n",
       "    .dataframe tbody tr th {\n",
       "        vertical-align: top;\n",
       "    }\n",
       "\n",
       "    .dataframe thead th {\n",
       "        text-align: right;\n",
       "    }\n",
       "</style>\n",
       "<table border=\"1\" class=\"dataframe\">\n",
       "  <thead>\n",
       "    <tr style=\"text-align: right;\">\n",
       "      <th></th>\n",
       "      <th>time_30</th>\n",
       "      <th>time_60</th>\n",
       "      <th>time_90</th>\n",
       "      <th>time_120</th>\n",
       "      <th>time_150</th>\n",
       "      <th>time_180</th>\n",
       "      <th>time_210</th>\n",
       "      <th>time_240</th>\n",
       "      <th>time_270</th>\n",
       "      <th>time_300</th>\n",
       "      <th>...</th>\n",
       "      <th>time_1530</th>\n",
       "      <th>time_1560</th>\n",
       "      <th>time_1590</th>\n",
       "      <th>time_1620</th>\n",
       "      <th>time_1650</th>\n",
       "      <th>time_1680</th>\n",
       "      <th>time_1710</th>\n",
       "      <th>time_1740</th>\n",
       "      <th>time_1770</th>\n",
       "      <th>time_1800</th>\n",
       "    </tr>\n",
       "  </thead>\n",
       "  <tbody>\n",
       "    <tr>\n",
       "      <th>mice_0</th>\n",
       "      <td>0.927864</td>\n",
       "      <td>0.867938</td>\n",
       "      <td>0.844127</td>\n",
       "      <td>0.840129</td>\n",
       "      <td>0.849537</td>\n",
       "      <td>0.840189</td>\n",
       "      <td>0.822436</td>\n",
       "      <td>0.829647</td>\n",
       "      <td>0.823961</td>\n",
       "      <td>0.820499</td>\n",
       "      <td>...</td>\n",
       "      <td>0.765596</td>\n",
       "      <td>0.764703</td>\n",
       "      <td>0.764506</td>\n",
       "      <td>0.766187</td>\n",
       "      <td>0.766906</td>\n",
       "      <td>0.766149</td>\n",
       "      <td>0.768768</td>\n",
       "      <td>0.768122</td>\n",
       "      <td>0.772134</td>\n",
       "      <td>0.768710</td>\n",
       "    </tr>\n",
       "    <tr>\n",
       "      <th>mice_1</th>\n",
       "      <td>0.936911</td>\n",
       "      <td>0.862256</td>\n",
       "      <td>0.841794</td>\n",
       "      <td>0.841586</td>\n",
       "      <td>0.848369</td>\n",
       "      <td>0.837816</td>\n",
       "      <td>0.821175</td>\n",
       "      <td>0.828226</td>\n",
       "      <td>0.821135</td>\n",
       "      <td>0.818188</td>\n",
       "      <td>...</td>\n",
       "      <td>0.765077</td>\n",
       "      <td>0.763884</td>\n",
       "      <td>0.763574</td>\n",
       "      <td>0.765922</td>\n",
       "      <td>0.766976</td>\n",
       "      <td>0.766039</td>\n",
       "      <td>0.769752</td>\n",
       "      <td>0.769359</td>\n",
       "      <td>0.774085</td>\n",
       "      <td>0.770352</td>\n",
       "    </tr>\n",
       "    <tr>\n",
       "      <th>mice_2</th>\n",
       "      <td>0.932352</td>\n",
       "      <td>0.858939</td>\n",
       "      <td>0.842798</td>\n",
       "      <td>0.839143</td>\n",
       "      <td>0.846344</td>\n",
       "      <td>0.837919</td>\n",
       "      <td>0.820410</td>\n",
       "      <td>0.828029</td>\n",
       "      <td>0.821133</td>\n",
       "      <td>0.817434</td>\n",
       "      <td>...</td>\n",
       "      <td>0.764765</td>\n",
       "      <td>0.763423</td>\n",
       "      <td>0.762947</td>\n",
       "      <td>0.765148</td>\n",
       "      <td>0.765898</td>\n",
       "      <td>0.765618</td>\n",
       "      <td>0.769512</td>\n",
       "      <td>0.768575</td>\n",
       "      <td>0.772191</td>\n",
       "      <td>0.768910</td>\n",
       "    </tr>\n",
       "    <tr>\n",
       "      <th>mice_3</th>\n",
       "      <td>0.897310</td>\n",
       "      <td>0.851153</td>\n",
       "      <td>0.836009</td>\n",
       "      <td>0.831478</td>\n",
       "      <td>0.842538</td>\n",
       "      <td>0.835452</td>\n",
       "      <td>0.818576</td>\n",
       "      <td>0.825443</td>\n",
       "      <td>0.817052</td>\n",
       "      <td>0.813570</td>\n",
       "      <td>...</td>\n",
       "      <td>0.762546</td>\n",
       "      <td>0.760807</td>\n",
       "      <td>0.760640</td>\n",
       "      <td>0.762762</td>\n",
       "      <td>0.763316</td>\n",
       "      <td>0.762189</td>\n",
       "      <td>0.765789</td>\n",
       "      <td>0.765673</td>\n",
       "      <td>0.770010</td>\n",
       "      <td>0.766991</td>\n",
       "    </tr>\n",
       "  </tbody>\n",
       "</table>\n",
       "<p>4 rows × 60 columns</p>\n",
       "</div>"
      ],
      "text/plain": [
       "         time_30   time_60   time_90  time_120  time_150  time_180  time_210  \\\n",
       "mice_0  0.927864  0.867938  0.844127  0.840129  0.849537  0.840189  0.822436   \n",
       "mice_1  0.936911  0.862256  0.841794  0.841586  0.848369  0.837816  0.821175   \n",
       "mice_2  0.932352  0.858939  0.842798  0.839143  0.846344  0.837919  0.820410   \n",
       "mice_3  0.897310  0.851153  0.836009  0.831478  0.842538  0.835452  0.818576   \n",
       "\n",
       "        time_240  time_270  time_300  ...  time_1530  time_1560  time_1590  \\\n",
       "mice_0  0.829647  0.823961  0.820499  ...   0.765596   0.764703   0.764506   \n",
       "mice_1  0.828226  0.821135  0.818188  ...   0.765077   0.763884   0.763574   \n",
       "mice_2  0.828029  0.821133  0.817434  ...   0.764765   0.763423   0.762947   \n",
       "mice_3  0.825443  0.817052  0.813570  ...   0.762546   0.760807   0.760640   \n",
       "\n",
       "        time_1620  time_1650  time_1680  time_1710  time_1740  time_1770  \\\n",
       "mice_0   0.766187   0.766906   0.766149   0.768768   0.768122   0.772134   \n",
       "mice_1   0.765922   0.766976   0.766039   0.769752   0.769359   0.774085   \n",
       "mice_2   0.765148   0.765898   0.765618   0.769512   0.768575   0.772191   \n",
       "mice_3   0.762762   0.763316   0.762189   0.765789   0.765673   0.770010   \n",
       "\n",
       "        time_1800  \n",
       "mice_0   0.768710  \n",
       "mice_1   0.770352  \n",
       "mice_2   0.768910  \n",
       "mice_3   0.766991  \n",
       "\n",
       "[4 rows x 60 columns]"
      ]
     },
     "execution_count": 263,
     "metadata": {},
     "output_type": "execute_result"
    }
   ],
   "source": [
    "mice_auc_over5"
   ]
  },
  {
   "cell_type": "code",
   "execution_count": 264,
   "id": "8fbc670c",
   "metadata": {},
   "outputs": [],
   "source": [
    "mice_auc_over5.to_csv('mice_auc_over5.csv', index = True, header = True)"
   ]
  },
  {
   "cell_type": "code",
   "execution_count": 265,
   "id": "621f1062",
   "metadata": {},
   "outputs": [],
   "source": [
    "# Variables passing through pipeline_rsf\n",
    "cat_encoder = list(preprocessor_red.transformers_[1][1].get_feature_names(categorical_features))\n",
    "pass_through = list(train_mice3_x.iloc[:, preprocessor_red.transformers_[2][2]].columns)\n",
    "attributes_gbm = numerical_features_red + cat_encoder + pass_through"
   ]
  },
  {
   "cell_type": "code",
   "execution_count": 266,
   "id": "8a20c0bc",
   "metadata": {},
   "outputs": [
    {
     "name": "stdout",
     "output_type": "stream",
     "text": [
      "Total number of features: 184\n",
      "Number of non-zero features in final model: 167\n"
     ]
    },
    {
     "data": {
      "image/png": "[encoded data removed]",
      "text/plain": [
       "<Figure size 600x800 with 1 Axes>"
      ]
     },
     "metadata": {},
     "output_type": "display_data"
    }
   ],
   "source": [
    "# Dataframe of coefficients for each variable \n",
    "coefficients_mice3 = pd.DataFrame(\n",
    "    gbm_mice3.named_steps['gradientboostingsurvivalanalysis'].feature_importances_,\n",
    "    index = attributes_gbm,\n",
    "    columns = ['coefficient']\n",
    ")\n",
    "\n",
    "print('Total number of features: {}'.format(len(attributes_gbm)))\n",
    "\n",
    "non_zero = np.sum(coefficients_mice3.iloc[:, 0] != 0)\n",
    "print('Number of non-zero features in final model: {}'.format(non_zero))\n",
    "\n",
    "non_zero_coefs = coefficients_mice3.query('coefficient != 0')\n",
    "coef_order = non_zero_coefs.abs().sort_values('coefficient').tail(30).index\n",
    "\n",
    "_, ax = plt.subplots(figsize=(6, 8))\n",
    "non_zero_coefs.loc[coef_order].plot.barh(ax = ax, legend = False)\n",
    "ax.set_xlabel('coefficient')\n",
    "ax.grid(True)"
   ]
  },
  {
   "cell_type": "code",
   "execution_count": 267,
   "id": "e3dbeadf",
   "metadata": {},
   "outputs": [],
   "source": [
    "coefficients_mice3_df = (\n",
    "    coefficients_mice3\n",
    "    .reset_index()\n",
    "    .rename(columns = {'index':'variable'}))"
   ]
  },
  {
   "cell_type": "code",
   "execution_count": 268,
   "id": "e14a4aad",
   "metadata": {},
   "outputs": [],
   "source": [
    "coefficients_mice = coefficients_mice.append(coefficients_mice3_df, ignore_index = True)"
   ]
  },
  {
   "cell_type": "code",
   "execution_count": 269,
   "id": "f5955c5e",
   "metadata": {},
   "outputs": [],
   "source": [
    "coefficients_mice.to_csv('coefficients_mice.csv', index = False, header = True)"
   ]
  },
  {
   "cell_type": "markdown",
   "id": "5a80f86c",
   "metadata": {},
   "source": [
    "### 3.5 Model 5"
   ]
  },
  {
   "cell_type": "markdown",
   "id": "366a8627",
   "metadata": {},
   "source": [
    "#### Preprocessing"
   ]
  },
  {
   "cell_type": "code",
   "execution_count": 270,
   "id": "0ec8ff20",
   "metadata": {},
   "outputs": [],
   "source": [
    "train_mice4 = pd.read_csv('mice_tr4.csv', index_col = 'PatientID')"
   ]
  },
  {
   "cell_type": "code",
   "execution_count": 271,
   "id": "d2a896c4",
   "metadata": {},
   "outputs": [
    {
     "data": {
      "text/plain": [
       "(15141, 197)"
      ]
     },
     "execution_count": 271,
     "metadata": {},
     "output_type": "execute_result"
    }
   ],
   "source": [
    "train_mice4.shape"
   ]
  },
  {
   "cell_type": "code",
   "execution_count": 272,
   "id": "9c8fb463",
   "metadata": {},
   "outputs": [
    {
     "data": {
      "text/plain": [
       "0"
      ]
     },
     "execution_count": 272,
     "metadata": {},
     "output_type": "execute_result"
    }
   ],
   "source": [
    "train_mice4.isna().sum().sum()"
   ]
  },
  {
   "cell_type": "code",
   "execution_count": 273,
   "id": "e5cf4013",
   "metadata": {},
   "outputs": [],
   "source": [
    "train_mice4 = train_mice4.drop(columns = mice_drop)"
   ]
  },
  {
   "cell_type": "code",
   "execution_count": 274,
   "id": "23d189ea",
   "metadata": {},
   "outputs": [],
   "source": [
    "train_mice4 = train_mice4.drop(columns = dem_var)"
   ]
  },
  {
   "cell_type": "code",
   "execution_count": 275,
   "id": "151d1069",
   "metadata": {},
   "outputs": [
    {
     "name": "stdout",
     "output_type": "stream",
     "text": [
      "(15141, 145)\n"
     ]
    }
   ],
   "source": [
    "print(train_mice4.shape)"
   ]
  },
  {
   "cell_type": "code",
   "execution_count": 276,
   "id": "031d2ea2",
   "metadata": {},
   "outputs": [],
   "source": [
    "train_mice4['ecog_na'] = np.where(train_mice4.index.isin(train.query('ecog_diagnosis == \"unknown\"').PatientID), 1, 0)\n",
    "train_mice4['stage_na'] = np.where(train_mice4.index.isin(train.query('stage == \"unknown\"').PatientID), 1, 0)"
   ]
  },
  {
   "cell_type": "code",
   "execution_count": 277,
   "id": "fe360026",
   "metadata": {},
   "outputs": [
    {
     "data": {
      "text/plain": [
       "['Gender',\n",
       " 'p_type',\n",
       " 'NStage',\n",
       " 'MStage',\n",
       " 'Histology',\n",
       " 'GleasonScore',\n",
       " 'stage',\n",
       " 'met_year',\n",
       " 'brca_status',\n",
       " 'ecog_diagnosis',\n",
       " 'prim_treatment']"
      ]
     },
     "execution_count": 277,
     "metadata": {},
     "output_type": "execute_result"
    }
   ],
   "source": [
    "for x in list(to_be_categorical):\n",
    "    train_mice4[x] = train_mice4[x].astype('category')\n",
    "    \n",
    "list(train_mice4.select_dtypes(include = ['category']).columns)"
   ]
  },
  {
   "cell_type": "code",
   "execution_count": 278,
   "id": "4f10111f",
   "metadata": {},
   "outputs": [],
   "source": [
    "train_mice4['death_status'] = train_mice4['death_status'].astype('bool')"
   ]
  },
  {
   "cell_type": "code",
   "execution_count": 279,
   "id": "d81b8506",
   "metadata": {},
   "outputs": [],
   "source": [
    "val_mice4 = train_mice4[train_mice4.index.isin(val_IDs['PatientID'])]\n",
    "\n",
    "sub_train_mice4 = train_mice4[~train_mice4.index.isin(val_IDs['PatientID'])]"
   ]
  },
  {
   "cell_type": "code",
   "execution_count": 280,
   "id": "fa3bfea8",
   "metadata": {},
   "outputs": [
    {
     "name": "stdout",
     "output_type": "stream",
     "text": [
      "(15141, 147)\n",
      "(11355, 147)\n",
      "(3786, 147)\n"
     ]
    }
   ],
   "source": [
    "print(train_mice4.shape)\n",
    "print(sub_train_mice4.shape)\n",
    "print(val_mice4.shape)"
   ]
  },
  {
   "cell_type": "code",
   "execution_count": 281,
   "id": "42e9aa96",
   "metadata": {},
   "outputs": [],
   "source": [
    "train_mice4_x = train_mice4.drop(columns = ['death_status', 'timerisk_activity'])\n",
    "\n",
    "sub_train_mice4_x = sub_train_mice4.drop(columns = ['death_status', 'timerisk_activity'])\n",
    "\n",
    "val_mice4_x = val_mice4.drop(columns = ['death_status', 'timerisk_activity'])"
   ]
  },
  {
   "cell_type": "code",
   "execution_count": 282,
   "id": "ac9dc65d",
   "metadata": {},
   "outputs": [
    {
     "name": "stdout",
     "output_type": "stream",
     "text": [
      "(15141, 145)\n",
      "(11355, 145)\n",
      "(3786, 145)\n"
     ]
    }
   ],
   "source": [
    "print(train_mice4_x.shape)\n",
    "print(sub_train_mice4_x.shape)\n",
    "print(val_mice4_x.shape)"
   ]
  },
  {
   "cell_type": "markdown",
   "id": "74333cc7",
   "metadata": {},
   "source": [
    "#### Hyperparameter tuning"
   ]
  },
  {
   "cell_type": "code",
   "execution_count": 283,
   "id": "7f9e6f10",
   "metadata": {},
   "outputs": [
    {
     "name": "stdout",
     "output_type": "stream",
     "text": [
      "      Iter       Train Loss      OOB Improve   Remaining Time \n",
      "         1       22801.3186          17.6669           40.06m\n",
      "         2       23016.6647          17.6682           40.10m\n",
      "         3       23191.2006          17.1773           40.13m\n",
      "         4       22602.4162          15.9643           40.10m\n",
      "         5       23147.7327          15.4392           40.08m\n",
      "         6       22848.7420          14.2158           40.06m\n",
      "         7       22876.1915          13.8375           40.05m\n",
      "         8       22634.9197          12.9790           40.02m\n",
      "         9       22265.6213          13.5561           40.01m\n",
      "        10       23016.9357          13.2625           39.98m\n",
      "        20       22205.1247           8.1266           39.71m\n",
      "        30       22638.3474           7.4806           39.42m\n",
      "        40       21994.0714           5.7226           39.16m\n",
      "        50       21963.9891           4.7778           38.88m\n",
      "        60       21996.9175           4.2005           38.61m\n",
      "        70       22065.6113           2.2875           38.34m\n",
      "        80       22206.9749           2.9188           38.07m\n",
      "        90       22349.4860           1.6884           37.79m\n",
      "       100       21619.6696           1.8663           37.51m\n",
      "       200       21711.7364           0.0967           34.83m\n",
      "       300       21769.6860           0.0837           32.15m\n",
      "       400       21141.2810          -0.2191           29.47m\n",
      "       500       21430.2321          -0.2144           26.79m\n",
      "       600       21157.9826          -0.1731           24.11m\n",
      "       700       21106.7330          -0.4573           21.43m\n",
      "       800       20971.4650          -0.3603           18.75m\n",
      "       900       20842.6219          -0.3216           16.08m\n",
      "      1000       20680.3647          -0.6474           13.40m\n"
     ]
    },
    {
     "data": {
      "text/plain": [
       "GradientBoostingSurvivalAnalysis(learning_rate=0.05, max_depth=4,\n",
       "                                 n_estimators=1500, random_state=42,\n",
       "                                 subsample=0.5, verbose=1)"
      ]
     },
     "execution_count": 283,
     "metadata": {},
     "output_type": "execute_result"
    }
   ],
   "source": [
    "sub_train_mice4_xt = preprocessor_red.fit_transform(sub_train_mice4_x)\n",
    "val_mice4_xt = preprocessor_red.transform(val_mice4_x)\n",
    "\n",
    "gbm_mice4_exp = GradientBoostingSurvivalAnalysis(n_estimators = 1500,\n",
    "                                                 learning_rate = 0.05,\n",
    "                                                 max_depth = 4,\n",
    "                                                 subsample = 0.5,\n",
    "                                                 verbose = 1,\n",
    "                                                 random_state = 42)\n",
    "\n",
    "gbm_mice4_exp.fit(sub_train_mice4_xt, sub_train_y)"
   ]
  },
  {
   "cell_type": "code",
   "execution_count": 284,
   "id": "46177f72",
   "metadata": {},
   "outputs": [],
   "source": [
    "gbm4_staged_auc = [cumulative_dynamic_auc(sub_train_y, val_y, risk_score, 730)[0][0] for \n",
    "                   risk_score in gbm_mice4_exp.staged_predict(val_mice4_xt)]"
   ]
  },
  {
   "cell_type": "code",
   "execution_count": 285,
   "id": "29cfa706",
   "metadata": {},
   "outputs": [],
   "source": [
    "gbm4_staged_auc_tr = [cumulative_dynamic_auc(sub_train_y, sub_train_y, risk_score, 730)[0][0] for \n",
    "                      risk_score in gbm_mice4_exp.staged_predict(sub_train_mice4_xt)]"
   ]
  },
  {
   "cell_type": "code",
   "execution_count": 286,
   "id": "3c7ab44d",
   "metadata": {},
   "outputs": [
    {
     "data": {
      "image/png": "[encoded data removed]",
      "text/plain": [
       "<Figure size 640x480 with 1 Axes>"
      ]
     },
     "metadata": {},
     "output_type": "display_data"
    }
   ],
   "source": [
    "fig = plt.figure()\n",
    "ax = fig.add_subplot(1, 1, 1)\n",
    "\n",
    "x = range(len(gbm4_staged_auc))\n",
    "plt.plot(x, gbm4_staged_auc, color = 'blue', label = 'validation')\n",
    "plt.plot(x, gbm4_staged_auc_tr, color = 'red', label = 'training')\n",
    "plt.legend(loc = 'lower right')\n",
    "\n",
    "plt.xlabel(\"n_estimators\")\n",
    "plt.ylabel(\"AUC at 2 years\")\n",
    "plt.title('Gradient boosting model learning curve for mice4')\n",
    "\n",
    "plt.show()"
   ]
  },
  {
   "cell_type": "code",
   "execution_count": 287,
   "id": "13b3e6c8",
   "metadata": {},
   "outputs": [],
   "source": [
    "# Average AUC for every 25 additional trees. \n",
    "mean_auc_list = []\n",
    "for x in np.arange(0, len(gbm4_staged_auc), 25):\n",
    "    mean_auc_list.append(np.mean(gbm4_staged_auc[x:x+24]))"
   ]
  },
  {
   "cell_type": "code",
   "execution_count": 288,
   "id": "09dd42f6",
   "metadata": {},
   "outputs": [
    {
     "name": "stdout",
     "output_type": "stream",
     "text": [
      "Number of trees where 2 year AUC on validation dataset beings to downgrade: 275\n",
      "Validation dataset AUC before degrading: 0.7826567260669223\n",
      "Training dataset AUC before degrading: 0.8186585452088175\n"
     ]
    }
   ],
   "source": [
    "print('Number of trees where 2 year AUC on validation dataset beings to downgrade:', np.where(np.diff(mean_auc_list) < 0)[0][0]*25)\n",
    "print('Validation dataset AUC before degrading:', gbm4_staged_auc[np.where(np.diff(mean_auc_list) < 0)[0][0]*25])\n",
    "print('Training dataset AUC before degrading:', gbm4_staged_auc_tr[np.where(np.diff(mean_auc_list) < 0)[0][0]*25])"
   ]
  },
  {
   "cell_type": "markdown",
   "id": "613f2abf",
   "metadata": {},
   "source": [
    "#### Model building and performance assessment "
   ]
  },
  {
   "cell_type": "code",
   "execution_count": 289,
   "id": "71bb2e85",
   "metadata": {},
   "outputs": [
    {
     "name": "stdout",
     "output_type": "stream",
     "text": [
      "(15141, 145)\n",
      "(15141,)\n"
     ]
    }
   ],
   "source": [
    "print(train_mice4_x.shape)\n",
    "print(train_y.shape)"
   ]
  },
  {
   "cell_type": "code",
   "execution_count": 290,
   "id": "afacbc76",
   "metadata": {},
   "outputs": [
    {
     "name": "stdout",
     "output_type": "stream",
     "text": [
      "      Iter       Train Loss      OOB Improve   Remaining Time \n",
      "         1       31613.6653          24.8556           13.26m\n",
      "         2       31132.3130          23.6243           13.23m\n",
      "         3       31428.5377          22.9438           13.20m\n",
      "         4       31359.8110          21.2859           13.15m\n",
      "         5       31509.9380          21.8704           13.10m\n",
      "         6       30866.2758          21.1722           13.06m\n",
      "         7       31324.4850          20.3280           13.00m\n",
      "         8       31542.5541          18.3923           12.95m\n",
      "         9       31371.0231          17.7583           12.91m\n",
      "        10       31152.4854          17.8540           12.86m\n",
      "        20       31099.4768          12.7851           12.37m\n",
      "        30       31083.4686          10.0126           11.89m\n",
      "        40       30844.5826           7.1636           11.40m\n",
      "        50       30414.9820           5.5513           10.92m\n",
      "        60       30925.5869           4.3519           10.43m\n",
      "        70       30435.8178           3.4134            9.95m\n",
      "        80       30318.0809           2.6328            9.46m\n",
      "        90       30370.7997           2.3782            8.98m\n",
      "       100       30315.6029           2.3221            8.49m\n",
      "       200       30177.5586           0.6383            3.64m\n"
     ]
    },
    {
     "data": {
      "text/plain": [
       "Pipeline(steps=[('columntransformer',\n",
       "                 ColumnTransformer(remainder='passthrough',\n",
       "                                   transformers=[('num',\n",
       "                                                  Pipeline(steps=[('std_scaler',\n",
       "                                                                   StandardScaler())]),\n",
       "                                                  ['age', 'PSADiagnosis',\n",
       "                                                   'PSAMetDiagnosis',\n",
       "                                                   'delta_met_diagnosis',\n",
       "                                                   'crpc_time', 'weight_diag',\n",
       "                                                   'bmi_diag',\n",
       "                                                   'weight_pct_change',\n",
       "                                                   'weight_slope',\n",
       "                                                   'albumin_diag', 'alp_diag',\n",
       "                                                   'alt_diag', 'ast_diag',\n",
       "                                                   'bicarb_diag', 'bun...\n",
       "                                                   'creatinine_max', ...]),\n",
       "                                                 ('cat',\n",
       "                                                  OneHotEncoder(handle_unknown='ignore'),\n",
       "                                                  ['Gender', 'p_type', 'NStage',\n",
       "                                                   'MStage', 'Histology',\n",
       "                                                   'GleasonScore', 'stage',\n",
       "                                                   'met_year', 'brca_status',\n",
       "                                                   'ecog_diagnosis',\n",
       "                                                   'prim_treatment'])])),\n",
       "                ('gradientboostingsurvivalanalysis',\n",
       "                 GradientBoostingSurvivalAnalysis(learning_rate=0.05,\n",
       "                                                  max_depth=4, n_estimators=275,\n",
       "                                                  random_state=42,\n",
       "                                                  subsample=0.5, verbose=1))])"
      ]
     },
     "execution_count": 290,
     "metadata": {},
     "output_type": "execute_result"
    }
   ],
   "source": [
    "gbm_mice4 = make_pipeline(preprocessor_red, GradientBoostingSurvivalAnalysis(n_estimators = np.where(np.diff(mean_auc_list) < 0)[0][0]*25,\n",
    "                                                                             learning_rate = 0.05,\n",
    "                                                                             max_depth = 4,\n",
    "                                                                             subsample = 0.5,\n",
    "                                                                             verbose = 1,\n",
    "                                                                             random_state = 42))\n",
    "\n",
    "gbm_mice4.fit(train_mice4_x, train_y)"
   ]
  },
  {
   "cell_type": "code",
   "execution_count": 291,
   "id": "8739bf2c",
   "metadata": {},
   "outputs": [
    {
     "data": {
      "text/plain": [
       "['gbm_mice4.joblib']"
      ]
     },
     "execution_count": 291,
     "metadata": {},
     "output_type": "execute_result"
    }
   ],
   "source": [
    "dump(gbm_mice4, 'gbm_mice4.joblib') "
   ]
  },
  {
   "cell_type": "code",
   "execution_count": 292,
   "id": "8f39997b",
   "metadata": {},
   "outputs": [
    {
     "name": "stdout",
     "output_type": "stream",
     "text": [
      "Test set AUC at 2 years: 0.7710465794162505\n"
     ]
    }
   ],
   "source": [
    "gbm_risk_scores_te = gbm_mice4.predict(test_mice_x)\n",
    "gbm_auc_te = cumulative_dynamic_auc(train_y, test_y, gbm_risk_scores_te, 730)[0][0]\n",
    "print('Test set AUC at 2 years:', gbm_auc_te)"
   ]
  },
  {
   "cell_type": "code",
   "execution_count": 293,
   "id": "c439e8bc",
   "metadata": {},
   "outputs": [
    {
     "name": "stdout",
     "output_type": "stream",
     "text": [
      "Training set AUC at 2 years: 0.8111508045130942\n"
     ]
    }
   ],
   "source": [
    "gbm_risk_scores_tr = gbm_mice4.predict(train_mice4_x)\n",
    "gbm_auc_tr = cumulative_dynamic_auc(train_y, train_y, gbm_risk_scores_tr, 730)[0][0]\n",
    "print('Training set AUC at 2 years:', gbm_auc_tr)"
   ]
  },
  {
   "cell_type": "code",
   "execution_count": 294,
   "id": "f8804f20",
   "metadata": {},
   "outputs": [],
   "source": [
    "# Bootstrap 10000 2 yr AUCs for test set \n",
    "n_bootstraps = 10000\n",
    "rng_seed = 42 \n",
    "bootstrapped_scores_te = []\n",
    "\n",
    "rng = np.random.RandomState(rng_seed)\n",
    "for i in range(n_bootstraps):\n",
    "    indices = rng.randint(0, len(gbm_risk_scores_te), len(gbm_risk_scores_te))\n",
    "    auc_yr = cumulative_dynamic_auc(train_y, test_y[indices], gbm_risk_scores_te[indices], 730)[0][0]\n",
    "    bootstrapped_scores_te.append(auc_yr)"
   ]
  },
  {
   "cell_type": "code",
   "execution_count": 295,
   "id": "30a2e982",
   "metadata": {},
   "outputs": [
    {
     "name": "stdout",
     "output_type": "stream",
     "text": [
      "Test set AUC standard error: 0.004089227001752379\n"
     ]
    }
   ],
   "source": [
    "# Standard error of mean for test set AUC\n",
    "sorted_scores_te = np.array(bootstrapped_scores_te)\n",
    "sorted_scores_te.sort()\n",
    "\n",
    "conf_lower_te = sorted_scores_te[int(0.025 * len(sorted_scores_te))]\n",
    "conf_upper_te = sorted_scores_te[int(0.975 * len(sorted_scores_te))]\n",
    "\n",
    "standard_error_te = (conf_upper_te - conf_lower_te) / 3.92\n",
    "print('Test set AUC standard error:', standard_error_te)"
   ]
  },
  {
   "cell_type": "code",
   "execution_count": 296,
   "id": "e40aa0b1",
   "metadata": {},
   "outputs": [],
   "source": [
    "# Bootstrap 10000 2 yr AUCs for train set \n",
    "n_bootstraps = 10000\n",
    "rng_seed = 42 \n",
    "bootstrapped_scores_tr = []\n",
    "\n",
    "rng = np.random.RandomState(rng_seed)\n",
    "for i in range(n_bootstraps):\n",
    "    indices = rng.randint(0, len(gbm_risk_scores_tr), len(gbm_risk_scores_tr))\n",
    "    auc_yr = cumulative_dynamic_auc(train_y, train_y[indices], gbm_risk_scores_tr[indices], 730)[0][0]\n",
    "    bootstrapped_scores_tr.append(auc_yr)"
   ]
  },
  {
   "cell_type": "code",
   "execution_count": 297,
   "id": "a019c912",
   "metadata": {},
   "outputs": [
    {
     "name": "stdout",
     "output_type": "stream",
     "text": [
      "Training set AUC standard error 0.004268866587656553\n"
     ]
    }
   ],
   "source": [
    "# Standard error of mean for train set AUC\n",
    "sorted_scores_tr = np.array(bootstrapped_scores_tr)\n",
    "sorted_scores_tr.sort()\n",
    "\n",
    "conf_lower_tr = sorted_scores_tr[int(0.025 * len(sorted_scores_tr))]\n",
    "conf_upper_tr = sorted_scores_tr[int(0.975 * len(sorted_scores_tr))]\n",
    "\n",
    "standard_error_tr = (conf_upper_tr - conf_lower_tr) / 3.92\n",
    "print('Training set AUC standard error', standard_error_tr)"
   ]
  },
  {
   "cell_type": "code",
   "execution_count": 298,
   "id": "7c2da7a5",
   "metadata": {},
   "outputs": [],
   "source": [
    "mice_auc_data = {'mice_dataset': 'mice_4',\n",
    "                 'auc_2yr_te': gbm_auc_te,\n",
    "                 'sem_te': standard_error_te,\n",
    "                 'auc_2yr_tr': gbm_auc_tr,\n",
    "                 'sem_tr': standard_error_tr}\n",
    "\n",
    "mice_auc_df = mice_auc_df.append(mice_auc_data, ignore_index = True)"
   ]
  },
  {
   "cell_type": "code",
   "execution_count": 299,
   "id": "d895d033",
   "metadata": {},
   "outputs": [
    {
     "data": {
      "text/html": [
       "<div>\n",
       "<style scoped>\n",
       "    .dataframe tbody tr th:only-of-type {\n",
       "        vertical-align: middle;\n",
       "    }\n",
       "\n",
       "    .dataframe tbody tr th {\n",
       "        vertical-align: top;\n",
       "    }\n",
       "\n",
       "    .dataframe thead th {\n",
       "        text-align: right;\n",
       "    }\n",
       "</style>\n",
       "<table border=\"1\" class=\"dataframe\">\n",
       "  <thead>\n",
       "    <tr style=\"text-align: right;\">\n",
       "      <th></th>\n",
       "      <th>mice_dataset</th>\n",
       "      <th>auc_2yr_te</th>\n",
       "      <th>sem_te</th>\n",
       "      <th>auc_2yr_tr</th>\n",
       "      <th>sem_tr</th>\n",
       "    </tr>\n",
       "  </thead>\n",
       "  <tbody>\n",
       "    <tr>\n",
       "      <th>0</th>\n",
       "      <td>mice_0</td>\n",
       "      <td>0.775543</td>\n",
       "      <td>0.004090</td>\n",
       "      <td>0.833514</td>\n",
       "      <td>0.004023</td>\n",
       "    </tr>\n",
       "    <tr>\n",
       "      <th>1</th>\n",
       "      <td>mice_1</td>\n",
       "      <td>0.771762</td>\n",
       "      <td>0.004127</td>\n",
       "      <td>0.828481</td>\n",
       "      <td>0.003987</td>\n",
       "    </tr>\n",
       "    <tr>\n",
       "      <th>2</th>\n",
       "      <td>mice_2</td>\n",
       "      <td>0.772840</td>\n",
       "      <td>0.004084</td>\n",
       "      <td>0.821339</td>\n",
       "      <td>0.004185</td>\n",
       "    </tr>\n",
       "    <tr>\n",
       "      <th>3</th>\n",
       "      <td>mice_3</td>\n",
       "      <td>0.771000</td>\n",
       "      <td>0.004113</td>\n",
       "      <td>0.822192</td>\n",
       "      <td>0.004166</td>\n",
       "    </tr>\n",
       "    <tr>\n",
       "      <th>4</th>\n",
       "      <td>mice_4</td>\n",
       "      <td>0.771047</td>\n",
       "      <td>0.004089</td>\n",
       "      <td>0.811151</td>\n",
       "      <td>0.004269</td>\n",
       "    </tr>\n",
       "  </tbody>\n",
       "</table>\n",
       "</div>"
      ],
      "text/plain": [
       "  mice_dataset  auc_2yr_te    sem_te  auc_2yr_tr    sem_tr\n",
       "0       mice_0    0.775543  0.004090    0.833514  0.004023\n",
       "1       mice_1    0.771762  0.004127    0.828481  0.003987\n",
       "2       mice_2    0.772840  0.004084    0.821339  0.004185\n",
       "3       mice_3    0.771000  0.004113    0.822192  0.004166\n",
       "4       mice_4    0.771047  0.004089    0.811151  0.004269"
      ]
     },
     "execution_count": 299,
     "metadata": {},
     "output_type": "execute_result"
    }
   ],
   "source": [
    "mice_auc_df "
   ]
  },
  {
   "cell_type": "code",
   "execution_count": 300,
   "id": "02dc3fd8",
   "metadata": {},
   "outputs": [],
   "source": [
    "mice_auc_df.to_csv('mice_auc_df.csv', index = False, header = True)"
   ]
  },
  {
   "cell_type": "code",
   "execution_count": 301,
   "id": "4f192e9d",
   "metadata": {},
   "outputs": [],
   "source": [
    "times = np.arange(30, 1810, 30)\n",
    "mice4_auc_over5 = cumulative_dynamic_auc(train_y, test_y, gbm_risk_scores_te, times)[0]\n",
    "\n",
    "times_data = {}\n",
    "values = mice4_auc_over5\n",
    "time_names = []\n",
    "\n",
    "for x in range(len(times)):\n",
    "    time_names.append('time_'+str(times[x]))\n",
    "\n",
    "for i in range(len(time_names)):\n",
    "    times_data[time_names[i]] = values[i]\n",
    "    \n",
    "mice4_auc_over5_df = pd.DataFrame(times_data, index = ['mice_4'])\n",
    "\n",
    "mice_auc_over5 = mice_auc_over5.append(mice4_auc_over5_df, ignore_index = False)"
   ]
  },
  {
   "cell_type": "code",
   "execution_count": 302,
   "id": "20390dc5",
   "metadata": {},
   "outputs": [
    {
     "data": {
      "text/html": [
       "<div>\n",
       "<style scoped>\n",
       "    .dataframe tbody tr th:only-of-type {\n",
       "        vertical-align: middle;\n",
       "    }\n",
       "\n",
       "    .dataframe tbody tr th {\n",
       "        vertical-align: top;\n",
       "    }\n",
       "\n",
       "    .dataframe thead th {\n",
       "        text-align: right;\n",
       "    }\n",
       "</style>\n",
       "<table border=\"1\" class=\"dataframe\">\n",
       "  <thead>\n",
       "    <tr style=\"text-align: right;\">\n",
       "      <th></th>\n",
       "      <th>time_30</th>\n",
       "      <th>time_60</th>\n",
       "      <th>time_90</th>\n",
       "      <th>time_120</th>\n",
       "      <th>time_150</th>\n",
       "      <th>time_180</th>\n",
       "      <th>time_210</th>\n",
       "      <th>time_240</th>\n",
       "      <th>time_270</th>\n",
       "      <th>time_300</th>\n",
       "      <th>...</th>\n",
       "      <th>time_1530</th>\n",
       "      <th>time_1560</th>\n",
       "      <th>time_1590</th>\n",
       "      <th>time_1620</th>\n",
       "      <th>time_1650</th>\n",
       "      <th>time_1680</th>\n",
       "      <th>time_1710</th>\n",
       "      <th>time_1740</th>\n",
       "      <th>time_1770</th>\n",
       "      <th>time_1800</th>\n",
       "    </tr>\n",
       "  </thead>\n",
       "  <tbody>\n",
       "    <tr>\n",
       "      <th>mice_0</th>\n",
       "      <td>0.927864</td>\n",
       "      <td>0.867938</td>\n",
       "      <td>0.844127</td>\n",
       "      <td>0.840129</td>\n",
       "      <td>0.849537</td>\n",
       "      <td>0.840189</td>\n",
       "      <td>0.822436</td>\n",
       "      <td>0.829647</td>\n",
       "      <td>0.823961</td>\n",
       "      <td>0.820499</td>\n",
       "      <td>...</td>\n",
       "      <td>0.765596</td>\n",
       "      <td>0.764703</td>\n",
       "      <td>0.764506</td>\n",
       "      <td>0.766187</td>\n",
       "      <td>0.766906</td>\n",
       "      <td>0.766149</td>\n",
       "      <td>0.768768</td>\n",
       "      <td>0.768122</td>\n",
       "      <td>0.772134</td>\n",
       "      <td>0.768710</td>\n",
       "    </tr>\n",
       "    <tr>\n",
       "      <th>mice_1</th>\n",
       "      <td>0.936911</td>\n",
       "      <td>0.862256</td>\n",
       "      <td>0.841794</td>\n",
       "      <td>0.841586</td>\n",
       "      <td>0.848369</td>\n",
       "      <td>0.837816</td>\n",
       "      <td>0.821175</td>\n",
       "      <td>0.828226</td>\n",
       "      <td>0.821135</td>\n",
       "      <td>0.818188</td>\n",
       "      <td>...</td>\n",
       "      <td>0.765077</td>\n",
       "      <td>0.763884</td>\n",
       "      <td>0.763574</td>\n",
       "      <td>0.765922</td>\n",
       "      <td>0.766976</td>\n",
       "      <td>0.766039</td>\n",
       "      <td>0.769752</td>\n",
       "      <td>0.769359</td>\n",
       "      <td>0.774085</td>\n",
       "      <td>0.770352</td>\n",
       "    </tr>\n",
       "    <tr>\n",
       "      <th>mice_2</th>\n",
       "      <td>0.932352</td>\n",
       "      <td>0.858939</td>\n",
       "      <td>0.842798</td>\n",
       "      <td>0.839143</td>\n",
       "      <td>0.846344</td>\n",
       "      <td>0.837919</td>\n",
       "      <td>0.820410</td>\n",
       "      <td>0.828029</td>\n",
       "      <td>0.821133</td>\n",
       "      <td>0.817434</td>\n",
       "      <td>...</td>\n",
       "      <td>0.764765</td>\n",
       "      <td>0.763423</td>\n",
       "      <td>0.762947</td>\n",
       "      <td>0.765148</td>\n",
       "      <td>0.765898</td>\n",
       "      <td>0.765618</td>\n",
       "      <td>0.769512</td>\n",
       "      <td>0.768575</td>\n",
       "      <td>0.772191</td>\n",
       "      <td>0.768910</td>\n",
       "    </tr>\n",
       "    <tr>\n",
       "      <th>mice_3</th>\n",
       "      <td>0.897310</td>\n",
       "      <td>0.851153</td>\n",
       "      <td>0.836009</td>\n",
       "      <td>0.831478</td>\n",
       "      <td>0.842538</td>\n",
       "      <td>0.835452</td>\n",
       "      <td>0.818576</td>\n",
       "      <td>0.825443</td>\n",
       "      <td>0.817052</td>\n",
       "      <td>0.813570</td>\n",
       "      <td>...</td>\n",
       "      <td>0.762546</td>\n",
       "      <td>0.760807</td>\n",
       "      <td>0.760640</td>\n",
       "      <td>0.762762</td>\n",
       "      <td>0.763316</td>\n",
       "      <td>0.762189</td>\n",
       "      <td>0.765789</td>\n",
       "      <td>0.765673</td>\n",
       "      <td>0.770010</td>\n",
       "      <td>0.766991</td>\n",
       "    </tr>\n",
       "    <tr>\n",
       "      <th>mice_4</th>\n",
       "      <td>0.928432</td>\n",
       "      <td>0.852166</td>\n",
       "      <td>0.836108</td>\n",
       "      <td>0.835533</td>\n",
       "      <td>0.844463</td>\n",
       "      <td>0.834575</td>\n",
       "      <td>0.816203</td>\n",
       "      <td>0.823212</td>\n",
       "      <td>0.816104</td>\n",
       "      <td>0.813040</td>\n",
       "      <td>...</td>\n",
       "      <td>0.765507</td>\n",
       "      <td>0.763649</td>\n",
       "      <td>0.761908</td>\n",
       "      <td>0.763911</td>\n",
       "      <td>0.764918</td>\n",
       "      <td>0.763829</td>\n",
       "      <td>0.767942</td>\n",
       "      <td>0.767632</td>\n",
       "      <td>0.771444</td>\n",
       "      <td>0.768395</td>\n",
       "    </tr>\n",
       "  </tbody>\n",
       "</table>\n",
       "<p>5 rows × 60 columns</p>\n",
       "</div>"
      ],
      "text/plain": [
       "         time_30   time_60   time_90  time_120  time_150  time_180  time_210  \\\n",
       "mice_0  0.927864  0.867938  0.844127  0.840129  0.849537  0.840189  0.822436   \n",
       "mice_1  0.936911  0.862256  0.841794  0.841586  0.848369  0.837816  0.821175   \n",
       "mice_2  0.932352  0.858939  0.842798  0.839143  0.846344  0.837919  0.820410   \n",
       "mice_3  0.897310  0.851153  0.836009  0.831478  0.842538  0.835452  0.818576   \n",
       "mice_4  0.928432  0.852166  0.836108  0.835533  0.844463  0.834575  0.816203   \n",
       "\n",
       "        time_240  time_270  time_300  ...  time_1530  time_1560  time_1590  \\\n",
       "mice_0  0.829647  0.823961  0.820499  ...   0.765596   0.764703   0.764506   \n",
       "mice_1  0.828226  0.821135  0.818188  ...   0.765077   0.763884   0.763574   \n",
       "mice_2  0.828029  0.821133  0.817434  ...   0.764765   0.763423   0.762947   \n",
       "mice_3  0.825443  0.817052  0.813570  ...   0.762546   0.760807   0.760640   \n",
       "mice_4  0.823212  0.816104  0.813040  ...   0.765507   0.763649   0.761908   \n",
       "\n",
       "        time_1620  time_1650  time_1680  time_1710  time_1740  time_1770  \\\n",
       "mice_0   0.766187   0.766906   0.766149   0.768768   0.768122   0.772134   \n",
       "mice_1   0.765922   0.766976   0.766039   0.769752   0.769359   0.774085   \n",
       "mice_2   0.765148   0.765898   0.765618   0.769512   0.768575   0.772191   \n",
       "mice_3   0.762762   0.763316   0.762189   0.765789   0.765673   0.770010   \n",
       "mice_4   0.763911   0.764918   0.763829   0.767942   0.767632   0.771444   \n",
       "\n",
       "        time_1800  \n",
       "mice_0   0.768710  \n",
       "mice_1   0.770352  \n",
       "mice_2   0.768910  \n",
       "mice_3   0.766991  \n",
       "mice_4   0.768395  \n",
       "\n",
       "[5 rows x 60 columns]"
      ]
     },
     "execution_count": 302,
     "metadata": {},
     "output_type": "execute_result"
    }
   ],
   "source": [
    "mice_auc_over5 "
   ]
  },
  {
   "cell_type": "code",
   "execution_count": 303,
   "id": "e10fd8f2",
   "metadata": {},
   "outputs": [],
   "source": [
    "mice_auc_over5.to_csv('mice_auc_over5.csv', index = True, header = True)"
   ]
  },
  {
   "cell_type": "code",
   "execution_count": 304,
   "id": "3919d190",
   "metadata": {},
   "outputs": [],
   "source": [
    "# Variables passing through pipeline_rsf\n",
    "cat_encoder = list(preprocessor_red.transformers_[1][1].get_feature_names(categorical_features))\n",
    "pass_through = list(train_mice4_x.iloc[:, preprocessor_red.transformers_[2][2]].columns)\n",
    "attributes_gbm = numerical_features_red + cat_encoder + pass_through"
   ]
  },
  {
   "cell_type": "code",
   "execution_count": 305,
   "id": "dbf705bc",
   "metadata": {},
   "outputs": [
    {
     "name": "stdout",
     "output_type": "stream",
     "text": [
      "Total number of features: 184\n",
      "Number of non-zero features in final model: 157\n"
     ]
    },
    {
     "data": {
      "image/png": "[encoded data removed]",
      "text/plain": [
       "<Figure size 600x800 with 1 Axes>"
      ]
     },
     "metadata": {},
     "output_type": "display_data"
    }
   ],
   "source": [
    "# Dataframe of coefficients for each variable \n",
    "coefficients_mice4 = pd.DataFrame(\n",
    "    gbm_mice4.named_steps['gradientboostingsurvivalanalysis'].feature_importances_,\n",
    "    index = attributes_gbm,\n",
    "    columns = ['coefficient']\n",
    ")\n",
    "\n",
    "print('Total number of features: {}'.format(len(attributes_gbm)))\n",
    "\n",
    "non_zero = np.sum(coefficients_mice4.iloc[:, 0] != 0)\n",
    "print('Number of non-zero features in final model: {}'.format(non_zero))\n",
    "\n",
    "non_zero_coefs = coefficients_mice4.query('coefficient != 0')\n",
    "coef_order = non_zero_coefs.abs().sort_values('coefficient').tail(30).index\n",
    "\n",
    "_, ax = plt.subplots(figsize=(6, 8))\n",
    "non_zero_coefs.loc[coef_order].plot.barh(ax = ax, legend = False)\n",
    "ax.set_xlabel('coefficient')\n",
    "ax.grid(True)"
   ]
  },
  {
   "cell_type": "code",
   "execution_count": 306,
   "id": "81b64798",
   "metadata": {},
   "outputs": [],
   "source": [
    "coefficients_mice4_df = (\n",
    "    coefficients_mice4\n",
    "    .reset_index()\n",
    "    .rename(columns = {'index':'variable'}))"
   ]
  },
  {
   "cell_type": "code",
   "execution_count": 307,
   "id": "f01aaa9a",
   "metadata": {},
   "outputs": [],
   "source": [
    "coefficients_mice = coefficients_mice.append(coefficients_mice4_df, ignore_index = True)"
   ]
  },
  {
   "cell_type": "code",
   "execution_count": 308,
   "id": "763aac86",
   "metadata": {},
   "outputs": [],
   "source": [
    "coefficients_mice.to_csv('coefficients_mice.csv', index = False, header = True)"
   ]
  },
  {
   "cell_type": "markdown",
   "id": "a9bddf83",
   "metadata": {},
   "source": [
    "### Part 4. Pooling results"
   ]
  },
  {
   "cell_type": "markdown",
   "id": "9c650224",
   "metadata": {},
   "source": [
    "#### 4.1 Pooling AUC"
   ]
  },
  {
   "cell_type": "code",
   "execution_count": 309,
   "id": "d83ecae1",
   "metadata": {},
   "outputs": [],
   "source": [
    "from math import sqrt, exp \n",
    "from scipy.stats import t"
   ]
  },
  {
   "cell_type": "markdown",
   "id": "f074b875",
   "metadata": {},
   "source": [
    "**Test and training AUCs will be pooled using Rubin’s rules. This is complicated by the fact that AUCs are bounded and thus not normally distributed. The AUCs will therefore be logit transformed to an unbounded scale, then Rubin's rules will be applied to these values, and finally they will be back-transformed into a final pool estimate.** "
   ]
  },
  {
   "cell_type": "code",
   "execution_count": 310,
   "id": "ac9fefbc",
   "metadata": {},
   "outputs": [],
   "source": [
    "# This function is translated from the R package: \"psfmi: Prediction Model Selection and Performance Evaluation in\n",
    "# Multiple Imputed Datasets\"\n",
    "\n",
    "def pool_auc(auc_arr, se_arr, iterations_n):\n",
    "    \n",
    "    # pooled SE using Rubin's rules \n",
    "    def rr_se(est, se, iterations_n):\n",
    "        m = iterations_n\n",
    "        w_auc = np.mean(np.square(se)) # within variance \n",
    "        b_auc = np.var(est) # between variance \n",
    "        tv_auc = w_auc + (1 + (1/m)) * b_auc # total vairance \n",
    "        se_total = sqrt(tv_auc)\n",
    "        r = (1 + (1/ m)) * (b_auc / w_auc)\n",
    "        v = (m - 1) * (1 + (1/r))**2\n",
    "        w = t.ppf(0.975, v) # Percent point function or inverse CDF with df = v\n",
    "        res = np.array([se_total, w])\n",
    "        return(res)\n",
    "    \n",
    "    # log transform\n",
    "    auc_log = np.log(auc_arr / (1-auc_arr))\n",
    "    se_log = se_arr / (auc_arr * (1-auc_arr))\n",
    "    \n",
    "    # input log transfomred auc and se to calculat RR's total se\n",
    "    se_total = rr_se(auc_log, se_log, iterations_n = iterations_n)\n",
    "    \n",
    "    # backtransform \n",
    "    inv_auc = exp(np.mean(auc_log)) / (1 + exp(np.mean(auc_log)))\n",
    "    inv_auc_upper = exp(np.mean(auc_log) + (se_total[1]*se_total[0])) / (1 + exp(np.mean(auc_log) + (se_total[1]*se_total[0])))\n",
    "    inv_auc_lower = exp(np.mean(auc_log) - (se_total[1]*se_total[0])) / (1 + exp(np.mean(auc_log) - (se_total[1]*se_total[0])))\n",
    "    sem = (inv_auc_upper - inv_auc_lower) / 3.92\n",
    "    auc_res = np.round(np.array([inv_auc_lower, inv_auc, inv_auc_upper, sem]), 6)\n",
    "    return(auc_res)"
   ]
  },
  {
   "cell_type": "code",
   "execution_count": 311,
   "id": "ca586790",
   "metadata": {},
   "outputs": [],
   "source": [
    "mice_auc_df = pd.read_csv('mice_auc_df.csv', dtype = {'auc_2yr_te': np.float64,\n",
    "                                                      'sem_te': np.float64,\n",
    "                                                      'auc_2yr_tr': np.float64,\n",
    "                                                      'sem_tr': np.float64})"
   ]
  },
  {
   "cell_type": "code",
   "execution_count": 312,
   "id": "9e759b29",
   "metadata": {},
   "outputs": [
    {
     "data": {
      "text/html": [
       "<div>\n",
       "<style scoped>\n",
       "    .dataframe tbody tr th:only-of-type {\n",
       "        vertical-align: middle;\n",
       "    }\n",
       "\n",
       "    .dataframe tbody tr th {\n",
       "        vertical-align: top;\n",
       "    }\n",
       "\n",
       "    .dataframe thead th {\n",
       "        text-align: right;\n",
       "    }\n",
       "</style>\n",
       "<table border=\"1\" class=\"dataframe\">\n",
       "  <thead>\n",
       "    <tr style=\"text-align: right;\">\n",
       "      <th></th>\n",
       "      <th>mice_dataset</th>\n",
       "      <th>auc_2yr_te</th>\n",
       "      <th>sem_te</th>\n",
       "      <th>auc_2yr_tr</th>\n",
       "      <th>sem_tr</th>\n",
       "    </tr>\n",
       "  </thead>\n",
       "  <tbody>\n",
       "    <tr>\n",
       "      <th>0</th>\n",
       "      <td>mice_0</td>\n",
       "      <td>0.775543</td>\n",
       "      <td>0.004090</td>\n",
       "      <td>0.833514</td>\n",
       "      <td>0.004023</td>\n",
       "    </tr>\n",
       "    <tr>\n",
       "      <th>1</th>\n",
       "      <td>mice_1</td>\n",
       "      <td>0.771762</td>\n",
       "      <td>0.004127</td>\n",
       "      <td>0.828481</td>\n",
       "      <td>0.003987</td>\n",
       "    </tr>\n",
       "    <tr>\n",
       "      <th>2</th>\n",
       "      <td>mice_2</td>\n",
       "      <td>0.772840</td>\n",
       "      <td>0.004084</td>\n",
       "      <td>0.821339</td>\n",
       "      <td>0.004185</td>\n",
       "    </tr>\n",
       "    <tr>\n",
       "      <th>3</th>\n",
       "      <td>mice_3</td>\n",
       "      <td>0.771000</td>\n",
       "      <td>0.004113</td>\n",
       "      <td>0.822192</td>\n",
       "      <td>0.004166</td>\n",
       "    </tr>\n",
       "    <tr>\n",
       "      <th>4</th>\n",
       "      <td>mice_4</td>\n",
       "      <td>0.771047</td>\n",
       "      <td>0.004089</td>\n",
       "      <td>0.811151</td>\n",
       "      <td>0.004269</td>\n",
       "    </tr>\n",
       "  </tbody>\n",
       "</table>\n",
       "</div>"
      ],
      "text/plain": [
       "  mice_dataset  auc_2yr_te    sem_te  auc_2yr_tr    sem_tr\n",
       "0       mice_0    0.775543  0.004090    0.833514  0.004023\n",
       "1       mice_1    0.771762  0.004127    0.828481  0.003987\n",
       "2       mice_2    0.772840  0.004084    0.821339  0.004185\n",
       "3       mice_3    0.771000  0.004113    0.822192  0.004166\n",
       "4       mice_4    0.771047  0.004089    0.811151  0.004269"
      ]
     },
     "execution_count": 312,
     "metadata": {},
     "output_type": "execute_result"
    }
   ],
   "source": [
    "mice_auc_df"
   ]
  },
  {
   "cell_type": "code",
   "execution_count": 313,
   "id": "07b8acda",
   "metadata": {},
   "outputs": [
    {
     "name": "stdout",
     "output_type": "stream",
     "text": [
      "[0.763421 0.772443 0.781219 0.00454 ]\n"
     ]
    }
   ],
   "source": [
    "pool_auc_test = pool_auc(mice_auc_df['auc_2yr_te'].values, \n",
    "                         mice_auc_df['sem_te'].values, \n",
    "                         5)\n",
    "\n",
    "print(pool_auc_test)"
   ]
  },
  {
   "cell_type": "code",
   "execution_count": 314,
   "id": "4c687208",
   "metadata": {},
   "outputs": [
    {
     "name": "stdout",
     "output_type": "stream",
     "text": [
      "[0.80008  0.82346  0.844638 0.011367]\n"
     ]
    }
   ],
   "source": [
    "pool_auc_train = pool_auc(mice_auc_df['auc_2yr_tr'].values,\n",
    "                          mice_auc_df['sem_tr'].values,\n",
    "                          5)\n",
    "\n",
    "print(pool_auc_train)"
   ]
  },
  {
   "cell_type": "code",
   "execution_count": 315,
   "id": "773b1224",
   "metadata": {},
   "outputs": [],
   "source": [
    "crude_auc_df = pd.read_csv('crude_auc_df.csv', dtype = {'auc_2yr_te': np.float64,\n",
    "                                                        'sem_te': np.float64,\n",
    "                                                        'auc_2yr_tr': np.float64,\n",
    "                                                        'sem_tr': np.float64})"
   ]
  },
  {
   "cell_type": "code",
   "execution_count": 316,
   "id": "d345782a",
   "metadata": {},
   "outputs": [
    {
     "data": {
      "text/html": [
       "<div>\n",
       "<style scoped>\n",
       "    .dataframe tbody tr th:only-of-type {\n",
       "        vertical-align: middle;\n",
       "    }\n",
       "\n",
       "    .dataframe tbody tr th {\n",
       "        vertical-align: top;\n",
       "    }\n",
       "\n",
       "    .dataframe thead th {\n",
       "        text-align: right;\n",
       "    }\n",
       "</style>\n",
       "<table border=\"1\" class=\"dataframe\">\n",
       "  <thead>\n",
       "    <tr style=\"text-align: right;\">\n",
       "      <th></th>\n",
       "      <th>model</th>\n",
       "      <th>auc_2yr_te</th>\n",
       "      <th>sem_te</th>\n",
       "      <th>auc_2yr_tr</th>\n",
       "      <th>sem_tr</th>\n",
       "    </tr>\n",
       "  </thead>\n",
       "  <tbody>\n",
       "    <tr>\n",
       "      <th>0</th>\n",
       "      <td>gbm_crude</td>\n",
       "      <td>0.754326</td>\n",
       "      <td>0.009489</td>\n",
       "      <td>0.784849</td>\n",
       "      <td>0.004590</td>\n",
       "    </tr>\n",
       "    <tr>\n",
       "      <th>1</th>\n",
       "      <td>rsf_crude</td>\n",
       "      <td>0.747107</td>\n",
       "      <td>0.009631</td>\n",
       "      <td>0.835588</td>\n",
       "      <td>0.003914</td>\n",
       "    </tr>\n",
       "    <tr>\n",
       "      <th>2</th>\n",
       "      <td>ridge_crude</td>\n",
       "      <td>0.739499</td>\n",
       "      <td>0.009629</td>\n",
       "      <td>0.743281</td>\n",
       "      <td>0.004897</td>\n",
       "    </tr>\n",
       "    <tr>\n",
       "      <th>3</th>\n",
       "      <td>lasso_crude</td>\n",
       "      <td>0.729512</td>\n",
       "      <td>0.009712</td>\n",
       "      <td>0.733718</td>\n",
       "      <td>0.004997</td>\n",
       "    </tr>\n",
       "    <tr>\n",
       "      <th>4</th>\n",
       "      <td>enet_crude</td>\n",
       "      <td>0.731323</td>\n",
       "      <td>0.009719</td>\n",
       "      <td>0.734977</td>\n",
       "      <td>0.004973</td>\n",
       "    </tr>\n",
       "    <tr>\n",
       "      <th>5</th>\n",
       "      <td>linear_svm_crude</td>\n",
       "      <td>0.740643</td>\n",
       "      <td>0.009662</td>\n",
       "      <td>0.746230</td>\n",
       "      <td>0.004833</td>\n",
       "    </tr>\n",
       "  </tbody>\n",
       "</table>\n",
       "</div>"
      ],
      "text/plain": [
       "              model  auc_2yr_te    sem_te  auc_2yr_tr    sem_tr\n",
       "0         gbm_crude    0.754326  0.009489    0.784849  0.004590\n",
       "1         rsf_crude    0.747107  0.009631    0.835588  0.003914\n",
       "2       ridge_crude    0.739499  0.009629    0.743281  0.004897\n",
       "3       lasso_crude    0.729512  0.009712    0.733718  0.004997\n",
       "4        enet_crude    0.731323  0.009719    0.734977  0.004973\n",
       "5  linear_svm_crude    0.740643  0.009662    0.746230  0.004833"
      ]
     },
     "execution_count": 316,
     "metadata": {},
     "output_type": "execute_result"
    }
   ],
   "source": [
    "crude_auc_df"
   ]
  },
  {
   "cell_type": "code",
   "execution_count": 317,
   "id": "12159026",
   "metadata": {},
   "outputs": [],
   "source": [
    "mice_auc_data = {'model': 'gbm_mice',\n",
    "                 'auc_2yr_te': pool_auc_test[1],\n",
    "                 'sem_te': pool_auc_test[3],\n",
    "                 'auc_2yr_tr': pool_auc_train[1],\n",
    "                 'sem_tr': pool_auc_train[3]}"
   ]
  },
  {
   "cell_type": "code",
   "execution_count": 318,
   "id": "d7bb1d7a",
   "metadata": {},
   "outputs": [],
   "source": [
    "ml_auc_df = crude_auc_df.append(mice_auc_data, ignore_index = True)"
   ]
  },
  {
   "cell_type": "code",
   "execution_count": 319,
   "id": "4d6c6140",
   "metadata": {},
   "outputs": [
    {
     "data": {
      "text/html": [
       "<div>\n",
       "<style scoped>\n",
       "    .dataframe tbody tr th:only-of-type {\n",
       "        vertical-align: middle;\n",
       "    }\n",
       "\n",
       "    .dataframe tbody tr th {\n",
       "        vertical-align: top;\n",
       "    }\n",
       "\n",
       "    .dataframe thead th {\n",
       "        text-align: right;\n",
       "    }\n",
       "</style>\n",
       "<table border=\"1\" class=\"dataframe\">\n",
       "  <thead>\n",
       "    <tr style=\"text-align: right;\">\n",
       "      <th></th>\n",
       "      <th>model</th>\n",
       "      <th>auc_2yr_te</th>\n",
       "      <th>sem_te</th>\n",
       "      <th>auc_2yr_tr</th>\n",
       "      <th>sem_tr</th>\n",
       "    </tr>\n",
       "  </thead>\n",
       "  <tbody>\n",
       "    <tr>\n",
       "      <th>6</th>\n",
       "      <td>gbm_mice</td>\n",
       "      <td>0.772443</td>\n",
       "      <td>0.004540</td>\n",
       "      <td>0.823460</td>\n",
       "      <td>0.011367</td>\n",
       "    </tr>\n",
       "    <tr>\n",
       "      <th>0</th>\n",
       "      <td>gbm_crude</td>\n",
       "      <td>0.754326</td>\n",
       "      <td>0.009489</td>\n",
       "      <td>0.784849</td>\n",
       "      <td>0.004590</td>\n",
       "    </tr>\n",
       "    <tr>\n",
       "      <th>1</th>\n",
       "      <td>rsf_crude</td>\n",
       "      <td>0.747107</td>\n",
       "      <td>0.009631</td>\n",
       "      <td>0.835588</td>\n",
       "      <td>0.003914</td>\n",
       "    </tr>\n",
       "    <tr>\n",
       "      <th>5</th>\n",
       "      <td>linear_svm_crude</td>\n",
       "      <td>0.740643</td>\n",
       "      <td>0.009662</td>\n",
       "      <td>0.746230</td>\n",
       "      <td>0.004833</td>\n",
       "    </tr>\n",
       "    <tr>\n",
       "      <th>2</th>\n",
       "      <td>ridge_crude</td>\n",
       "      <td>0.739499</td>\n",
       "      <td>0.009629</td>\n",
       "      <td>0.743281</td>\n",
       "      <td>0.004897</td>\n",
       "    </tr>\n",
       "    <tr>\n",
       "      <th>4</th>\n",
       "      <td>enet_crude</td>\n",
       "      <td>0.731323</td>\n",
       "      <td>0.009719</td>\n",
       "      <td>0.734977</td>\n",
       "      <td>0.004973</td>\n",
       "    </tr>\n",
       "    <tr>\n",
       "      <th>3</th>\n",
       "      <td>lasso_crude</td>\n",
       "      <td>0.729512</td>\n",
       "      <td>0.009712</td>\n",
       "      <td>0.733718</td>\n",
       "      <td>0.004997</td>\n",
       "    </tr>\n",
       "  </tbody>\n",
       "</table>\n",
       "</div>"
      ],
      "text/plain": [
       "              model  auc_2yr_te    sem_te  auc_2yr_tr    sem_tr\n",
       "6          gbm_mice    0.772443  0.004540    0.823460  0.011367\n",
       "0         gbm_crude    0.754326  0.009489    0.784849  0.004590\n",
       "1         rsf_crude    0.747107  0.009631    0.835588  0.003914\n",
       "5  linear_svm_crude    0.740643  0.009662    0.746230  0.004833\n",
       "2       ridge_crude    0.739499  0.009629    0.743281  0.004897\n",
       "4        enet_crude    0.731323  0.009719    0.734977  0.004973\n",
       "3       lasso_crude    0.729512  0.009712    0.733718  0.004997"
      ]
     },
     "execution_count": 319,
     "metadata": {},
     "output_type": "execute_result"
    }
   ],
   "source": [
    "ml_auc_df.sort_values(by = 'auc_2yr_te', ascending = False)"
   ]
  },
  {
   "cell_type": "code",
   "execution_count": 320,
   "id": "3bcaa9f9",
   "metadata": {},
   "outputs": [],
   "source": [
    "ml_auc_df.to_csv('ml_auc_df.csv', index = False, header = True)"
   ]
  }
 ],
 "metadata": {
  "kernelspec": {
   "display_name": "My Virtual Environment",
   "language": "python",
   "name": "myenv"
  },
  "language_info": {
   "codemirror_mode": {
    "name": "ipython",
    "version": 3
   },
   "file_extension": ".py",
   "mimetype": "text/x-python",
   "name": "python",
   "nbconvert_exporter": "python",
   "pygments_lexer": "ipython3",
   "version": "3.7.10"
  }
 },
 "nbformat": 4,
 "nbformat_minor": 5
}
