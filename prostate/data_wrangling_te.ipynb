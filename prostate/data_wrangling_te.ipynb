{
 "cells": [
  {
   "cell_type": "markdown",
   "id": "174deffc",
   "metadata": {},
   "source": [
    "# Flatiron Health mPC: Data Wrangling Test Set\n",
    "\n",
    "**OBJECTIVE: Create a dataframe of relevant variables using test cohort patients which will be used to validate machine learning survival models.**\n",
    "\n",
    "**BACKGROUND: The 12 CSV Flatiron files will be cleaned in the exact same fashion for the test set patients as for the training set patients. For more information on the cleaning process refer to Notebook: Data Wrangling Training Set.**\n",
    "\n",
    "**OUTLINE:**\n",
    "1. **File cleaning for patients in training set**\n",
    "2. **Merge files to create master test dataframe** "
   ]
  },
  {
   "cell_type": "code",
   "execution_count": 1,
   "id": "9c90c659",
   "metadata": {},
   "outputs": [],
   "source": [
    "import numpy as np\n",
    "import pandas as pd\n",
    "import matplotlib.pyplot as plt\n",
    "import datetime as dt"
   ]
  },
  {
   "cell_type": "code",
   "execution_count": 2,
   "id": "201a9ed4",
   "metadata": {},
   "outputs": [],
   "source": [
    "# Function that returns number of rows and count of unique PatientIDs for a dataframe. \n",
    "def row_ID(dataframe):\n",
    "    row = dataframe.shape[0]\n",
    "    ID = dataframe['PatientID'].nunique()\n",
    "    return row, ID"
   ]
  },
  {
   "cell_type": "code",
   "execution_count": 3,
   "id": "af9a25cd",
   "metadata": {},
   "outputs": [],
   "source": [
    "#Import test IDs saved from Data Wrangling Training Set file. \n",
    "test_IDs = pd.read_csv('test_IDs.csv')"
   ]
  },
  {
   "cell_type": "code",
   "execution_count": 4,
   "id": "71962c71",
   "metadata": {},
   "outputs": [],
   "source": [
    "# Array of PatientIDs in training set.\n",
    "test_IDs = test_IDs['PatientID'].to_numpy()"
   ]
  },
  {
   "cell_type": "code",
   "execution_count": 5,
   "id": "ef7fc19f",
   "metadata": {},
   "outputs": [
    {
     "data": {
      "text/plain": [
       "3786"
      ]
     },
     "execution_count": 5,
     "metadata": {},
     "output_type": "execute_result"
    }
   ],
   "source": [
    "len(test_IDs)"
   ]
  },
  {
   "cell_type": "markdown",
   "id": "445e938a",
   "metadata": {},
   "source": [
    "## Part 1: Data wrangling\n",
    "\n",
    "**Relevant CSV files will be imported and processed. A file is considered processed when each row corresponds to a unique patient from the training set and each column is a relevant variable for mortality prognositication. The eligibility window for collecting variables is typically defined as -90 days and +30 days from index date. The index date is time of metastatic diagnosis. Plus 30 was selected as the upper bound of the eligibility window given that median time to start of first line treatment is about 30 days from metastatic diagnosis.** \n",
    "\n",
    "**The following CSV files from Flatiron will be cleaned:**\n",
    "1. **Demographics and Practice**\n",
    "2. **Enhanced_MetProstate**\n",
    "3. **Enhanced_Mortality_V2**\n",
    "4. **MedicationAdministration**\n",
    "5. **Enhanced_MetPC_Biomarkers**\n",
    "6. **Insurance**\n",
    "7. **ECOG**\n",
    "8. **Vitals**\n",
    "9. **Labs**\n",
    "10. **Diagnosis**\n",
    "11. **Enhanced_MetPC_PrimaryTreatment**"
   ]
  },
  {
   "cell_type": "markdown",
   "id": "f618ea45",
   "metadata": {},
   "source": [
    "### 1. Demographics"
   ]
  },
  {
   "cell_type": "code",
   "execution_count": 6,
   "id": "851e8af8",
   "metadata": {},
   "outputs": [],
   "source": [
    "demographics = pd.read_csv('Demographics.csv')"
   ]
  },
  {
   "cell_type": "code",
   "execution_count": 7,
   "id": "d7e25826",
   "metadata": {},
   "outputs": [],
   "source": [
    "demographics = demographics[demographics['PatientID'].isin(test_IDs)]"
   ]
  },
  {
   "cell_type": "code",
   "execution_count": 8,
   "id": "a2a8ec7a",
   "metadata": {},
   "outputs": [
    {
     "data": {
      "text/html": [
       "<div>\n",
       "<style scoped>\n",
       "    .dataframe tbody tr th:only-of-type {\n",
       "        vertical-align: middle;\n",
       "    }\n",
       "\n",
       "    .dataframe tbody tr th {\n",
       "        vertical-align: top;\n",
       "    }\n",
       "\n",
       "    .dataframe thead th {\n",
       "        text-align: right;\n",
       "    }\n",
       "</style>\n",
       "<table border=\"1\" class=\"dataframe\">\n",
       "  <thead>\n",
       "    <tr style=\"text-align: right;\">\n",
       "      <th></th>\n",
       "      <th>PatientID</th>\n",
       "      <th>BirthYear</th>\n",
       "      <th>Gender</th>\n",
       "      <th>RaceSupplementedWithEthnicity</th>\n",
       "      <th>RaceEthnicitySource</th>\n",
       "    </tr>\n",
       "  </thead>\n",
       "  <tbody>\n",
       "    <tr>\n",
       "      <th>16518</th>\n",
       "      <td>F639572B0CD2B</td>\n",
       "      <td>1948</td>\n",
       "      <td>M</td>\n",
       "      <td>White</td>\n",
       "      <td>Race</td>\n",
       "    </tr>\n",
       "    <tr>\n",
       "      <th>7682</th>\n",
       "      <td>F955F487FB53B</td>\n",
       "      <td>1937</td>\n",
       "      <td>M</td>\n",
       "      <td>White</td>\n",
       "      <td>Race</td>\n",
       "    </tr>\n",
       "    <tr>\n",
       "      <th>1997</th>\n",
       "      <td>FBF792EE74EC9</td>\n",
       "      <td>1942</td>\n",
       "      <td>M</td>\n",
       "      <td>Other Race</td>\n",
       "      <td>Race</td>\n",
       "    </tr>\n",
       "    <tr>\n",
       "      <th>8475</th>\n",
       "      <td>FA02CDAEA749B</td>\n",
       "      <td>1937</td>\n",
       "      <td>M</td>\n",
       "      <td>White</td>\n",
       "      <td>Race</td>\n",
       "    </tr>\n",
       "    <tr>\n",
       "      <th>14351</th>\n",
       "      <td>FC2D87430146B</td>\n",
       "      <td>1948</td>\n",
       "      <td>M</td>\n",
       "      <td>Other Race</td>\n",
       "      <td>Race</td>\n",
       "    </tr>\n",
       "  </tbody>\n",
       "</table>\n",
       "</div>"
      ],
      "text/plain": [
       "           PatientID  BirthYear Gender RaceSupplementedWithEthnicity  \\\n",
       "16518  F639572B0CD2B       1948      M                         White   \n",
       "7682   F955F487FB53B       1937      M                         White   \n",
       "1997   FBF792EE74EC9       1942      M                    Other Race   \n",
       "8475   FA02CDAEA749B       1937      M                         White   \n",
       "14351  FC2D87430146B       1948      M                    Other Race   \n",
       "\n",
       "      RaceEthnicitySource  \n",
       "16518                Race  \n",
       "7682                 Race  \n",
       "1997                 Race  \n",
       "8475                 Race  \n",
       "14351                Race  "
      ]
     },
     "execution_count": 8,
     "metadata": {},
     "output_type": "execute_result"
    }
   ],
   "source": [
    "demographics.sample(5)"
   ]
  },
  {
   "cell_type": "code",
   "execution_count": 9,
   "id": "cda30832",
   "metadata": {},
   "outputs": [
    {
     "name": "stdout",
     "output_type": "stream",
     "text": [
      "<class 'pandas.core.frame.DataFrame'>\n",
      "Int64Index: 3786 entries, 1 to 18924\n",
      "Data columns (total 5 columns):\n",
      " #   Column                         Non-Null Count  Dtype \n",
      "---  ------                         --------------  ----- \n",
      " 0   PatientID                      3786 non-null   object\n",
      " 1   BirthYear                      3786 non-null   int64 \n",
      " 2   Gender                         3786 non-null   object\n",
      " 3   RaceSupplementedWithEthnicity  3470 non-null   object\n",
      " 4   RaceEthnicitySource            3786 non-null   object\n",
      "dtypes: int64(1), object(4)\n",
      "memory usage: 177.5+ KB\n"
     ]
    }
   ],
   "source": [
    "demographics.info()"
   ]
  },
  {
   "cell_type": "code",
   "execution_count": 10,
   "id": "df70624f",
   "metadata": {},
   "outputs": [
    {
     "data": {
      "text/plain": [
       "(3786, 3786)"
      ]
     },
     "execution_count": 10,
     "metadata": {},
     "output_type": "execute_result"
    }
   ],
   "source": [
    "row_ID(demographics)"
   ]
  },
  {
   "cell_type": "markdown",
   "id": "d62f9cc4",
   "metadata": {},
   "source": [
    "#### Race and Ethnicity"
   ]
  },
  {
   "cell_type": "code",
   "execution_count": 11,
   "id": "9f6d5c87",
   "metadata": {},
   "outputs": [],
   "source": [
    "conditions = [\n",
    "    (demographics['RaceSupplementedWithEthnicity'] == 'White'),\n",
    "    (demographics['RaceSupplementedWithEthnicity'] == 'Other Race'),\n",
    "    (demographics['RaceSupplementedWithEthnicity'] == 'Black or African American'),\n",
    "    (demographics['RaceSupplementedWithEthnicity'] == 'Asian')]\n",
    "\n",
    "choices = ['white', 'other', 'black', 'asian']\n",
    "\n",
    "demographics.loc[:, 'race'] = np.select(conditions, choices, default = 'unknown')"
   ]
  },
  {
   "cell_type": "code",
   "execution_count": 12,
   "id": "2dfabf62",
   "metadata": {},
   "outputs": [],
   "source": [
    "conditions = [\n",
    "    (demographics['RaceSupplementedWithEthnicity'] == 'Hispanic or Latino'),\n",
    "    (demographics['RaceSupplementedWithEthnicity'] == 'Not Hispanic or Latino')]\n",
    "\n",
    "choices = ['hispanic_latino', 'not_hispanic_latino']\n",
    "\n",
    "demographics.loc[:, 'ethnicity'] = np.select(conditions, choices, default = 'unknown')"
   ]
  },
  {
   "cell_type": "code",
   "execution_count": 13,
   "id": "aa71b834",
   "metadata": {},
   "outputs": [],
   "source": [
    "demographics = demographics.drop(columns = ['RaceSupplementedWithEthnicity', 'RaceEthnicitySource'])"
   ]
  },
  {
   "cell_type": "markdown",
   "id": "b2e7e7be",
   "metadata": {},
   "source": [
    "#### BirthYear"
   ]
  },
  {
   "cell_type": "code",
   "execution_count": 14,
   "id": "a7497ec8",
   "metadata": {},
   "outputs": [],
   "source": [
    "enhanced_met = pd.read_csv('Enhanced_MetProstate.csv')"
   ]
  },
  {
   "cell_type": "code",
   "execution_count": 15,
   "id": "c04ade7c",
   "metadata": {},
   "outputs": [],
   "source": [
    "enhanced_met = enhanced_met[enhanced_met['PatientID'].isin(test_IDs)]"
   ]
  },
  {
   "cell_type": "code",
   "execution_count": 16,
   "id": "4286902e",
   "metadata": {},
   "outputs": [],
   "source": [
    "demographics = pd.merge(demographics, enhanced_met[['PatientID', 'MetDiagnosisDate']], on = 'PatientID')"
   ]
  },
  {
   "cell_type": "code",
   "execution_count": 17,
   "id": "626092ce",
   "metadata": {},
   "outputs": [],
   "source": [
    "demographics.loc[:, 'MetDiagnosisDate'] = pd.to_datetime(demographics['MetDiagnosisDate'])"
   ]
  },
  {
   "cell_type": "code",
   "execution_count": 18,
   "id": "452ef287",
   "metadata": {},
   "outputs": [],
   "source": [
    "demographics.loc[:, 'age'] = demographics['MetDiagnosisDate'].dt.year - demographics['BirthYear']"
   ]
  },
  {
   "cell_type": "code",
   "execution_count": 19,
   "id": "6fae7488",
   "metadata": {},
   "outputs": [],
   "source": [
    "demographics = demographics.drop(columns = ['BirthYear', 'MetDiagnosisDate'])"
   ]
  },
  {
   "cell_type": "markdown",
   "id": "951f796b",
   "metadata": {},
   "source": [
    "#### PracticeType"
   ]
  },
  {
   "cell_type": "code",
   "execution_count": 20,
   "id": "5b9cc79f",
   "metadata": {},
   "outputs": [],
   "source": [
    "practice = pd.read_csv('Practice.csv')"
   ]
  },
  {
   "cell_type": "code",
   "execution_count": 21,
   "id": "e09b0f36",
   "metadata": {},
   "outputs": [],
   "source": [
    "practice = practice[practice['PatientID'].isin(test_IDs)]"
   ]
  },
  {
   "cell_type": "code",
   "execution_count": 22,
   "id": "01732093",
   "metadata": {},
   "outputs": [],
   "source": [
    "practice_unique_count = (\n",
    "    practice.groupby('PatientID')['PracticeType'].agg('nunique')\n",
    "    .to_frame()\n",
    "    .reset_index()\n",
    "    .rename(columns = {'PracticeType': 'n_type'})\n",
    ")"
   ]
  },
  {
   "cell_type": "code",
   "execution_count": 23,
   "id": "87505680",
   "metadata": {},
   "outputs": [],
   "source": [
    "practice_n = pd.merge(practice, practice_unique_count, on = 'PatientID')"
   ]
  },
  {
   "cell_type": "code",
   "execution_count": 24,
   "id": "051343d8",
   "metadata": {},
   "outputs": [],
   "source": [
    "practice_n['p_type'] = (\n",
    "    np.where(practice_n['n_type'] == 1, practice_n['PracticeType'], 'BOTH')\n",
    ")"
   ]
  },
  {
   "cell_type": "code",
   "execution_count": 25,
   "id": "a20d6bb2",
   "metadata": {},
   "outputs": [],
   "source": [
    "practice_n = (\n",
    "    practice_n.drop_duplicates(subset = ['PatientID'], keep = 'first')\n",
    "    .filter(items = ['PatientID', 'p_type'])\n",
    ")"
   ]
  },
  {
   "cell_type": "code",
   "execution_count": 26,
   "id": "cad348a1",
   "metadata": {},
   "outputs": [],
   "source": [
    "demographics = pd.merge(demographics, practice_n, on = 'PatientID')"
   ]
  },
  {
   "cell_type": "code",
   "execution_count": 27,
   "id": "cffe4fba",
   "metadata": {},
   "outputs": [
    {
     "data": {
      "text/plain": [
       "(3786, 3786)"
      ]
     },
     "execution_count": 27,
     "metadata": {},
     "output_type": "execute_result"
    }
   ],
   "source": [
    "row_ID(demographics)"
   ]
  },
  {
   "cell_type": "code",
   "execution_count": 28,
   "id": "84701d36",
   "metadata": {},
   "outputs": [
    {
     "data": {
      "text/html": [
       "<div>\n",
       "<style scoped>\n",
       "    .dataframe tbody tr th:only-of-type {\n",
       "        vertical-align: middle;\n",
       "    }\n",
       "\n",
       "    .dataframe tbody tr th {\n",
       "        vertical-align: top;\n",
       "    }\n",
       "\n",
       "    .dataframe thead th {\n",
       "        text-align: right;\n",
       "    }\n",
       "</style>\n",
       "<table border=\"1\" class=\"dataframe\">\n",
       "  <thead>\n",
       "    <tr style=\"text-align: right;\">\n",
       "      <th></th>\n",
       "      <th>PatientID</th>\n",
       "      <th>Gender</th>\n",
       "      <th>race</th>\n",
       "      <th>ethnicity</th>\n",
       "      <th>age</th>\n",
       "      <th>p_type</th>\n",
       "    </tr>\n",
       "  </thead>\n",
       "  <tbody>\n",
       "    <tr>\n",
       "      <th>1468</th>\n",
       "      <td>FE53AA1FBE9E0</td>\n",
       "      <td>M</td>\n",
       "      <td>white</td>\n",
       "      <td>unknown</td>\n",
       "      <td>82</td>\n",
       "      <td>COMMUNITY</td>\n",
       "    </tr>\n",
       "    <tr>\n",
       "      <th>401</th>\n",
       "      <td>F541FA5DDA8FD</td>\n",
       "      <td>M</td>\n",
       "      <td>white</td>\n",
       "      <td>unknown</td>\n",
       "      <td>80</td>\n",
       "      <td>ACADEMIC</td>\n",
       "    </tr>\n",
       "    <tr>\n",
       "      <th>16</th>\n",
       "      <td>F958C61711495</td>\n",
       "      <td>M</td>\n",
       "      <td>white</td>\n",
       "      <td>unknown</td>\n",
       "      <td>82</td>\n",
       "      <td>ACADEMIC</td>\n",
       "    </tr>\n",
       "    <tr>\n",
       "      <th>2098</th>\n",
       "      <td>F6AF21A25B049</td>\n",
       "      <td>M</td>\n",
       "      <td>white</td>\n",
       "      <td>unknown</td>\n",
       "      <td>70</td>\n",
       "      <td>COMMUNITY</td>\n",
       "    </tr>\n",
       "    <tr>\n",
       "      <th>3380</th>\n",
       "      <td>F93D50CDBBA65</td>\n",
       "      <td>M</td>\n",
       "      <td>white</td>\n",
       "      <td>unknown</td>\n",
       "      <td>78</td>\n",
       "      <td>COMMUNITY</td>\n",
       "    </tr>\n",
       "  </tbody>\n",
       "</table>\n",
       "</div>"
      ],
      "text/plain": [
       "          PatientID Gender   race ethnicity  age     p_type\n",
       "1468  FE53AA1FBE9E0      M  white   unknown   82  COMMUNITY\n",
       "401   F541FA5DDA8FD      M  white   unknown   80   ACADEMIC\n",
       "16    F958C61711495      M  white   unknown   82   ACADEMIC\n",
       "2098  F6AF21A25B049      M  white   unknown   70  COMMUNITY\n",
       "3380  F93D50CDBBA65      M  white   unknown   78  COMMUNITY"
      ]
     },
     "execution_count": 28,
     "metadata": {},
     "output_type": "execute_result"
    }
   ],
   "source": [
    "# Final training demographics table.\n",
    "demographics.sample(5)"
   ]
  },
  {
   "cell_type": "code",
   "execution_count": 29,
   "id": "6027973c",
   "metadata": {},
   "outputs": [
    {
     "name": "stdout",
     "output_type": "stream",
     "text": [
      "Variable                Type         Data/Info\n",
      "----------------------------------------------\n",
      "demographics            DataFrame              PatientID Gende<...>\\n[3786 rows x 6 columns]\n",
      "enhanced_met            DataFrame               PatientID Diag<...>n[3786 rows x 13 columns]\n",
      "practice                DataFrame               PatientID Prac<...>\\n[3884 rows x 2 columns]\n",
      "practice_n              DataFrame              PatientID     p<...>\\n[3786 rows x 2 columns]\n",
      "practice_unique_count   DataFrame              PatientID  n_ty<...>\\n[3786 rows x 2 columns]\n"
     ]
    }
   ],
   "source": [
    "%whos DataFrame"
   ]
  },
  {
   "cell_type": "code",
   "execution_count": 30,
   "id": "78529956",
   "metadata": {},
   "outputs": [],
   "source": [
    "# Keep demographics and enhanced_met\n",
    "del practice\n",
    "del practice_n\n",
    "del practice_unique_count"
   ]
  },
  {
   "cell_type": "markdown",
   "id": "2227bfe8",
   "metadata": {},
   "source": [
    "### 2. Enhanced_MetProstate"
   ]
  },
  {
   "cell_type": "markdown",
   "id": "15debb29",
   "metadata": {},
   "source": [
    "#### GroupStage "
   ]
  },
  {
   "cell_type": "code",
   "execution_count": 31,
   "id": "83270325",
   "metadata": {},
   "outputs": [],
   "source": [
    "# Dictionary for regrouping stages\n",
    "stage_dict = { \n",
    "    'I': 'I',\n",
    "    'II': 'II',\n",
    "    'IIA': 'II',\n",
    "    'IIB': 'II',\n",
    "    'IIC': 'II',\n",
    "    'III': 'III',\n",
    "    'IIIA': 'III',\n",
    "    'IIIB': 'III',\n",
    "    'IIIC': 'III',\n",
    "    'IV': 'IV',\n",
    "    'IVA': 'IV',\n",
    "    'IVB': 'IV',\n",
    "    'Unknown / Not documented': 'unknown'\n",
    "}\n",
    "\n",
    "enhanced_met['stage'] = enhanced_met['GroupStage'].map(stage_dict)"
   ]
  },
  {
   "cell_type": "code",
   "execution_count": 32,
   "id": "130ddda9",
   "metadata": {},
   "outputs": [],
   "source": [
    "enhanced_met = enhanced_met.drop(columns = ['GroupStage'])"
   ]
  },
  {
   "cell_type": "markdown",
   "id": "0611f2ab",
   "metadata": {},
   "source": [
    "#### TStage"
   ]
  },
  {
   "cell_type": "code",
   "execution_count": 33,
   "id": "58c0351c",
   "metadata": {},
   "outputs": [],
   "source": [
    "enhanced_met = enhanced_met.drop(columns = ['TStage'])"
   ]
  },
  {
   "cell_type": "markdown",
   "id": "2cfaa80d",
   "metadata": {},
   "source": [
    "#### NStage"
   ]
  },
  {
   "cell_type": "markdown",
   "id": "c5ac8b3b",
   "metadata": {},
   "source": [
    "**No modifications made to variable**"
   ]
  },
  {
   "cell_type": "markdown",
   "id": "3bd34115",
   "metadata": {},
   "source": [
    "#### MStage"
   ]
  },
  {
   "cell_type": "markdown",
   "id": "7f620257",
   "metadata": {},
   "source": [
    "**No modifications made to variable**"
   ]
  },
  {
   "cell_type": "markdown",
   "id": "046bbddf",
   "metadata": {},
   "source": [
    "#### MetDiagnosisDate"
   ]
  },
  {
   "cell_type": "code",
   "execution_count": 34,
   "id": "11bc3aa7",
   "metadata": {},
   "outputs": [],
   "source": [
    "enhanced_met = enhanced_met.rename(columns = {'MetDiagnosisDate': 'met_date'})"
   ]
  },
  {
   "cell_type": "code",
   "execution_count": 35,
   "id": "87c671e8",
   "metadata": {},
   "outputs": [],
   "source": [
    "enhanced_met.loc[:, 'met_date'] = pd.to_datetime(enhanced_met['met_date'])"
   ]
  },
  {
   "cell_type": "code",
   "execution_count": 36,
   "id": "db8c91df",
   "metadata": {},
   "outputs": [],
   "source": [
    "enhanced_met.loc[:, 'met_year'] = enhanced_met['met_date'].dt.year"
   ]
  },
  {
   "cell_type": "markdown",
   "id": "88d59462",
   "metadata": {},
   "source": [
    "#### DiagnosisDate"
   ]
  },
  {
   "cell_type": "code",
   "execution_count": 37,
   "id": "b1197074",
   "metadata": {},
   "outputs": [],
   "source": [
    "enhanced_met = enhanced_met.rename(columns = {'DiagnosisDate': 'diagnosis_date'})"
   ]
  },
  {
   "cell_type": "code",
   "execution_count": 38,
   "id": "3462627b",
   "metadata": {},
   "outputs": [],
   "source": [
    "# Missing diagnosis_date will be replaced with met_date; other dates will be left untouched. \n",
    "enhanced_met['diagnosis_date'] = (\n",
    "    np.where(enhanced_met['diagnosis_date'].isna(), enhanced_met['met_date'], enhanced_met['diagnosis_date'])\n",
    ")"
   ]
  },
  {
   "cell_type": "code",
   "execution_count": 39,
   "id": "1ba818de",
   "metadata": {},
   "outputs": [],
   "source": [
    "enhanced_met['diagnosis_date'] = pd.to_datetime(enhanced_met['diagnosis_date'])"
   ]
  },
  {
   "cell_type": "markdown",
   "id": "deb10448",
   "metadata": {},
   "source": [
    "#### Time from diagnosis date to metastatic date"
   ]
  },
  {
   "cell_type": "code",
   "execution_count": 40,
   "id": "98474144",
   "metadata": {},
   "outputs": [],
   "source": [
    "enhanced_met.loc[:, 'delta_met_diagnosis'] = (enhanced_met['met_date'] - enhanced_met['diagnosis_date']).dt.days"
   ]
  },
  {
   "cell_type": "markdown",
   "id": "e7aa5026",
   "metadata": {},
   "source": [
    "#### CRPC"
   ]
  },
  {
   "cell_type": "code",
   "execution_count": 41,
   "id": "eb7c2c6c",
   "metadata": {},
   "outputs": [],
   "source": [
    "enhanced_met['CRPCDate'] = pd.to_datetime(enhanced_met['CRPCDate'])"
   ]
  },
  {
   "cell_type": "code",
   "execution_count": 42,
   "id": "5fb4592d",
   "metadata": {},
   "outputs": [],
   "source": [
    "# Make CRPC true if date of CRPC is <= to 30 days from metastatic diagnosis date. \n",
    "enhanced_met['crpc'] = (\n",
    "    np.where(((enhanced_met['CRPCDate'] - enhanced_met['met_date']).dt.days <= 30), 1, 0)\n",
    ")"
   ]
  },
  {
   "cell_type": "code",
   "execution_count": 43,
   "id": "782a9e7d",
   "metadata": {},
   "outputs": [],
   "source": [
    "# Make CRPC true if date of CRPC is <= to 30 days from metastatic diagnosis date. \n",
    "enhanced_met['crpc_time'] = (\n",
    "    np.where(enhanced_met['crpc'] == 1, (enhanced_met['CRPCDate'] - enhanced_met['diagnosis_date']).dt.days, 0)\n",
    ")"
   ]
  },
  {
   "cell_type": "code",
   "execution_count": 44,
   "id": "3f9db77c",
   "metadata": {},
   "outputs": [],
   "source": [
    "# Keep CRPCDate for mortality section.\n",
    "enhanced_met = enhanced_met.drop(columns = ['IsCRPC'])"
   ]
  },
  {
   "cell_type": "markdown",
   "id": "24634ec2",
   "metadata": {},
   "source": [
    "#### PSA "
   ]
  },
  {
   "cell_type": "code",
   "execution_count": 45,
   "id": "8bc33bcf",
   "metadata": {},
   "outputs": [],
   "source": [
    "enhanced_met['psa_diag_na'] = (\n",
    "    np.where(enhanced_met['PSADiagnosis'].isna(), 1, 0)\n",
    ")"
   ]
  },
  {
   "cell_type": "code",
   "execution_count": 46,
   "id": "a3b29e43",
   "metadata": {},
   "outputs": [],
   "source": [
    "enhanced_met['psa_met_na'] = (\n",
    "    np.where(enhanced_met['PSAMetDiagnosis'].isna(), 1, 0)\n",
    ")"
   ]
  },
  {
   "cell_type": "code",
   "execution_count": 47,
   "id": "298cac37",
   "metadata": {},
   "outputs": [
    {
     "data": {
      "text/plain": [
       "(3786, 3786)"
      ]
     },
     "execution_count": 47,
     "metadata": {},
     "output_type": "execute_result"
    }
   ],
   "source": [
    "row_ID(enhanced_met)"
   ]
  },
  {
   "cell_type": "code",
   "execution_count": 48,
   "id": "d7de16b2",
   "metadata": {},
   "outputs": [
    {
     "data": {
      "text/html": [
       "<div>\n",
       "<style scoped>\n",
       "    .dataframe tbody tr th:only-of-type {\n",
       "        vertical-align: middle;\n",
       "    }\n",
       "\n",
       "    .dataframe tbody tr th {\n",
       "        vertical-align: top;\n",
       "    }\n",
       "\n",
       "    .dataframe thead th {\n",
       "        text-align: right;\n",
       "    }\n",
       "</style>\n",
       "<table border=\"1\" class=\"dataframe\">\n",
       "  <thead>\n",
       "    <tr style=\"text-align: right;\">\n",
       "      <th></th>\n",
       "      <th>PatientID</th>\n",
       "      <th>diagnosis_date</th>\n",
       "      <th>met_date</th>\n",
       "      <th>NStage</th>\n",
       "      <th>MStage</th>\n",
       "      <th>Histology</th>\n",
       "      <th>CRPCDate</th>\n",
       "      <th>GleasonScore</th>\n",
       "      <th>PSADiagnosis</th>\n",
       "      <th>PSAMetDiagnosis</th>\n",
       "      <th>stage</th>\n",
       "      <th>met_year</th>\n",
       "      <th>delta_met_diagnosis</th>\n",
       "      <th>crpc</th>\n",
       "      <th>crpc_time</th>\n",
       "      <th>psa_diag_na</th>\n",
       "      <th>psa_met_na</th>\n",
       "    </tr>\n",
       "  </thead>\n",
       "  <tbody>\n",
       "    <tr>\n",
       "      <th>9665</th>\n",
       "      <td>F2856A2C922EC</td>\n",
       "      <td>1999-10-01</td>\n",
       "      <td>2019-03-07</td>\n",
       "      <td>Unknown / Not documented</td>\n",
       "      <td>M0</td>\n",
       "      <td>Adenocarcinoma</td>\n",
       "      <td>2015-06-30</td>\n",
       "      <td>10</td>\n",
       "      <td>NaN</td>\n",
       "      <td>6.88</td>\n",
       "      <td>unknown</td>\n",
       "      <td>2019</td>\n",
       "      <td>7097</td>\n",
       "      <td>1</td>\n",
       "      <td>5751.0</td>\n",
       "      <td>1</td>\n",
       "      <td>0</td>\n",
       "    </tr>\n",
       "    <tr>\n",
       "      <th>7122</th>\n",
       "      <td>F0AA24104D2C0</td>\n",
       "      <td>1996-01-01</td>\n",
       "      <td>2014-02-18</td>\n",
       "      <td>Unknown / Not documented</td>\n",
       "      <td>M0</td>\n",
       "      <td>Adenocarcinoma</td>\n",
       "      <td>2014-11-07</td>\n",
       "      <td>Unknown / Not documented</td>\n",
       "      <td>NaN</td>\n",
       "      <td>4.00</td>\n",
       "      <td>unknown</td>\n",
       "      <td>2014</td>\n",
       "      <td>6623</td>\n",
       "      <td>0</td>\n",
       "      <td>0.0</td>\n",
       "      <td>1</td>\n",
       "      <td>0</td>\n",
       "    </tr>\n",
       "    <tr>\n",
       "      <th>7921</th>\n",
       "      <td>FDF6E7F24F435</td>\n",
       "      <td>2006-04-07</td>\n",
       "      <td>2022-04-20</td>\n",
       "      <td>Unknown / Not documented</td>\n",
       "      <td>M0</td>\n",
       "      <td>Adenocarcinoma</td>\n",
       "      <td>2022-01-01</td>\n",
       "      <td>3 + 4 = 7</td>\n",
       "      <td>5.7</td>\n",
       "      <td>11.50</td>\n",
       "      <td>II</td>\n",
       "      <td>2022</td>\n",
       "      <td>5857</td>\n",
       "      <td>1</td>\n",
       "      <td>5748.0</td>\n",
       "      <td>0</td>\n",
       "      <td>0</td>\n",
       "    </tr>\n",
       "    <tr>\n",
       "      <th>1636</th>\n",
       "      <td>F36175137033C</td>\n",
       "      <td>2018-01-22</td>\n",
       "      <td>2018-01-22</td>\n",
       "      <td>N1</td>\n",
       "      <td>M1</td>\n",
       "      <td>Adenocarcinoma</td>\n",
       "      <td>NaT</td>\n",
       "      <td>9</td>\n",
       "      <td>959.0</td>\n",
       "      <td>959.00</td>\n",
       "      <td>IV</td>\n",
       "      <td>2018</td>\n",
       "      <td>0</td>\n",
       "      <td>0</td>\n",
       "      <td>0.0</td>\n",
       "      <td>0</td>\n",
       "      <td>0</td>\n",
       "    </tr>\n",
       "    <tr>\n",
       "      <th>7106</th>\n",
       "      <td>FA8D2D8A433E6</td>\n",
       "      <td>1996-01-01</td>\n",
       "      <td>2013-12-13</td>\n",
       "      <td>Unknown / Not documented</td>\n",
       "      <td>Unknown / Not documented</td>\n",
       "      <td>Adenocarcinoma</td>\n",
       "      <td>2014-04-08</td>\n",
       "      <td>7 (when breakdown not available)</td>\n",
       "      <td>NaN</td>\n",
       "      <td>180.00</td>\n",
       "      <td>unknown</td>\n",
       "      <td>2013</td>\n",
       "      <td>6556</td>\n",
       "      <td>0</td>\n",
       "      <td>0.0</td>\n",
       "      <td>1</td>\n",
       "      <td>0</td>\n",
       "    </tr>\n",
       "  </tbody>\n",
       "</table>\n",
       "</div>"
      ],
      "text/plain": [
       "          PatientID diagnosis_date   met_date                    NStage  \\\n",
       "9665  F2856A2C922EC     1999-10-01 2019-03-07  Unknown / Not documented   \n",
       "7122  F0AA24104D2C0     1996-01-01 2014-02-18  Unknown / Not documented   \n",
       "7921  FDF6E7F24F435     2006-04-07 2022-04-20  Unknown / Not documented   \n",
       "1636  F36175137033C     2018-01-22 2018-01-22                        N1   \n",
       "7106  FA8D2D8A433E6     1996-01-01 2013-12-13  Unknown / Not documented   \n",
       "\n",
       "                        MStage       Histology   CRPCDate  \\\n",
       "9665                        M0  Adenocarcinoma 2015-06-30   \n",
       "7122                        M0  Adenocarcinoma 2014-11-07   \n",
       "7921                        M0  Adenocarcinoma 2022-01-01   \n",
       "1636                        M1  Adenocarcinoma        NaT   \n",
       "7106  Unknown / Not documented  Adenocarcinoma 2014-04-08   \n",
       "\n",
       "                          GleasonScore  PSADiagnosis  PSAMetDiagnosis  \\\n",
       "9665                                10           NaN             6.88   \n",
       "7122          Unknown / Not documented           NaN             4.00   \n",
       "7921                         3 + 4 = 7           5.7            11.50   \n",
       "1636                                 9         959.0           959.00   \n",
       "7106  7 (when breakdown not available)           NaN           180.00   \n",
       "\n",
       "        stage  met_year  delta_met_diagnosis  crpc  crpc_time  psa_diag_na  \\\n",
       "9665  unknown      2019                 7097     1     5751.0            1   \n",
       "7122  unknown      2014                 6623     0        0.0            1   \n",
       "7921       II      2022                 5857     1     5748.0            0   \n",
       "1636       IV      2018                    0     0        0.0            0   \n",
       "7106  unknown      2013                 6556     0        0.0            1   \n",
       "\n",
       "      psa_met_na  \n",
       "9665           0  \n",
       "7122           0  \n",
       "7921           0  \n",
       "1636           0  \n",
       "7106           0  "
      ]
     },
     "execution_count": 48,
     "metadata": {},
     "output_type": "execute_result"
    }
   ],
   "source": [
    "# Final enhanced_met dataframe\n",
    "enhanced_met.sample(5)"
   ]
  },
  {
   "cell_type": "code",
   "execution_count": 49,
   "id": "c20a84c4",
   "metadata": {},
   "outputs": [
    {
     "name": "stdout",
     "output_type": "stream",
     "text": [
      "Variable       Type         Data/Info\n",
      "-------------------------------------\n",
      "demographics   DataFrame              PatientID Gende<...>\\n[3786 rows x 6 columns]\n",
      "enhanced_met   DataFrame               PatientID diag<...>n[3786 rows x 17 columns]\n"
     ]
    }
   ],
   "source": [
    "# Keep demographics and enhanced_met. \n",
    "%whos DataFrame"
   ]
  },
  {
   "cell_type": "markdown",
   "id": "8c763aa3",
   "metadata": {},
   "source": [
    "### 3. Enhanced_Mortality_V2"
   ]
  },
  {
   "cell_type": "code",
   "execution_count": 50,
   "id": "ee012c64",
   "metadata": {},
   "outputs": [],
   "source": [
    "mortality = pd.read_csv('Enhanced_Mortality_V2.csv')"
   ]
  },
  {
   "cell_type": "code",
   "execution_count": 51,
   "id": "fd30f95f",
   "metadata": {},
   "outputs": [],
   "source": [
    "mortality = mortality[mortality['PatientID'].isin(test_IDs)]"
   ]
  },
  {
   "cell_type": "code",
   "execution_count": 52,
   "id": "53fe70af",
   "metadata": {},
   "outputs": [
    {
     "data": {
      "text/plain": [
       "(1958, 1958)"
      ]
     },
     "execution_count": 52,
     "metadata": {},
     "output_type": "execute_result"
    }
   ],
   "source": [
    "row_ID(mortality)"
   ]
  },
  {
   "cell_type": "code",
   "execution_count": 53,
   "id": "1b4947e6",
   "metadata": {},
   "outputs": [],
   "source": [
    "mortality = mortality.rename(columns = {'DateOfDeath': 'death_date'})"
   ]
  },
  {
   "cell_type": "code",
   "execution_count": 54,
   "id": "32b5acf5",
   "metadata": {},
   "outputs": [],
   "source": [
    "# For patients with year granularity, impute middle of the year (ie., July 1)\n",
    "mortality['death_date'] = (\n",
    "    np.where(mortality['death_date'].str.len() == 4, mortality['death_date'] + '-07-01', mortality['death_date'])\n",
    ")"
   ]
  },
  {
   "cell_type": "code",
   "execution_count": 55,
   "id": "f97ec36b",
   "metadata": {},
   "outputs": [],
   "source": [
    "# For patients with month granularity, impute 15th of the month.\n",
    "mortality['death_date'] = (\n",
    "    np.where(mortality['death_date'].str.len() == 7, mortality['death_date'] + '-15', mortality['death_date'])\n",
    ")"
   ]
  },
  {
   "cell_type": "code",
   "execution_count": 56,
   "id": "953d1df9",
   "metadata": {},
   "outputs": [],
   "source": [
    "mortality['death_date'] = pd.to_datetime(mortality['death_date'])"
   ]
  },
  {
   "cell_type": "markdown",
   "id": "b1936b06",
   "metadata": {},
   "source": [
    "#### Censoring"
   ]
  },
  {
   "cell_type": "markdown",
   "id": "df4e19b5",
   "metadata": {},
   "source": [
    "**For patients for whom a date of death is not known, the censor date can be defined either as the data cutoff date or as the last confirmed activity date. The last confirmed activity date is broadly defined as the last date at which there is evidence in the EHR that a patient is alive. Evidence of a record in at least one of the items listed below qualifies as patient-level confirmed activity:**\n",
    "* **Visit: VisitDate**\n",
    "* **Telemedicine: VisitDate**\n",
    "* **Enhanced_MetPC_Orals: StartDate or EndDate**\n",
    "* **Enhanced_MetPC_Biomarkers: SpecimenCollectedDate**\n",
    "* **Enhanced_MetPC_ADT: StartDate or EndDate**\n",
    "* **Enhanced_MetPC_AlphaBetaEmitters: AdministrationDate**\n",
    "* **Enhanced_MetPC_PrimaryTreatment: TreatmentDate**\n",
    "* **Enhanced_MetPC_Provenge: StartDate**\n",
    "* **Enhanced_MetProstate: CRPCDate**"
   ]
  },
  {
   "cell_type": "code",
   "execution_count": 57,
   "id": "cc46a425",
   "metadata": {},
   "outputs": [],
   "source": [
    "visit = pd.read_csv('Visit.csv')\n",
    "telemedicine = pd.read_csv('Telemedicine.csv')\n",
    "orals = pd.read_csv('Enhanced_MetPC_Orals.csv')\n",
    "biomarkers = pd.read_csv('Enhanced_MetPC_Biomarkers.csv')\n",
    "adt = pd.read_csv('Enhanced_MetPC_ADT.csv')\n",
    "alpha_beta = pd.read_csv('Enhanced_MetPC_AlphaBetaEmitters.csv')\n",
    "treat = pd.read_csv('Enhanced_MetPC_PrimaryTreatment.csv')\n",
    "provenge = pd.read_csv('Enhanced_MetPC_Provenge.csv')"
   ]
  },
  {
   "cell_type": "markdown",
   "id": "169bcb14",
   "metadata": {},
   "source": [
    "##### Visit and Telemedicine"
   ]
  },
  {
   "cell_type": "code",
   "execution_count": 58,
   "id": "1b667804",
   "metadata": {},
   "outputs": [],
   "source": [
    "visit_tele = (\n",
    "    visit\n",
    "    .drop(columns = ['VisitType', 'IsVitalsVisit', 'IsTreatmentVisit', 'IsLabVisit'])\n",
    "    .append(telemedicine)\n",
    ") "
   ]
  },
  {
   "cell_type": "code",
   "execution_count": 59,
   "id": "0d183f9e",
   "metadata": {},
   "outputs": [],
   "source": [
    "visit_tele.loc[:,'VisitDate'] = pd.to_datetime(visit_tele['VisitDate'])"
   ]
  },
  {
   "cell_type": "code",
   "execution_count": 60,
   "id": "993adec9",
   "metadata": {},
   "outputs": [],
   "source": [
    "# Select max VisitDate from combined Visit and Telemedicine table.\n",
    "visit_tele_max = (\n",
    "    visit_tele\n",
    "    [visit_tele['PatientID'].isin(test_IDs)]\n",
    "    .groupby('PatientID')['VisitDate'].max()\n",
    "    .to_frame(name = 'visit_max')\n",
    "    .reset_index()\n",
    ")"
   ]
  },
  {
   "cell_type": "markdown",
   "id": "806505a9",
   "metadata": {},
   "source": [
    "##### Orals"
   ]
  },
  {
   "cell_type": "code",
   "execution_count": 61,
   "id": "ed166e2b",
   "metadata": {},
   "outputs": [],
   "source": [
    "orals = orals[orals['PatientID'].isin(test_IDs)]"
   ]
  },
  {
   "cell_type": "code",
   "execution_count": 62,
   "id": "9959ebcc",
   "metadata": {},
   "outputs": [],
   "source": [
    "orals.loc[:, 'StartDate'] = pd.to_datetime(orals['StartDate'])"
   ]
  },
  {
   "cell_type": "code",
   "execution_count": 63,
   "id": "3fade121",
   "metadata": {},
   "outputs": [],
   "source": [
    "orals.loc[:, 'EndDate'] = pd.to_datetime(orals['EndDate'])"
   ]
  },
  {
   "cell_type": "code",
   "execution_count": 64,
   "id": "c456d6f6",
   "metadata": {},
   "outputs": [],
   "source": [
    "orals_max = (\n",
    "    orals\n",
    "    .assign(max_date = orals[['StartDate', 'EndDate']].max(axis = 1))\n",
    "    .groupby('PatientID')['max_date'].max()\n",
    "    .to_frame(name = 'orals_max')\n",
    "    .reset_index()\n",
    ")"
   ]
  },
  {
   "cell_type": "markdown",
   "id": "2d1f74b4",
   "metadata": {},
   "source": [
    "##### Biomarkers"
   ]
  },
  {
   "cell_type": "code",
   "execution_count": 65,
   "id": "4709a304",
   "metadata": {},
   "outputs": [],
   "source": [
    "biomarkers = biomarkers[biomarkers['PatientID'].isin(test_IDs)]"
   ]
  },
  {
   "cell_type": "code",
   "execution_count": 66,
   "id": "78b5ca96",
   "metadata": {},
   "outputs": [],
   "source": [
    "biomarkers.loc[:, 'SpecimenCollectedDate'] = pd.to_datetime(biomarkers['SpecimenCollectedDate'])"
   ]
  },
  {
   "cell_type": "code",
   "execution_count": 67,
   "id": "0f9fe516",
   "metadata": {},
   "outputs": [],
   "source": [
    "biomarkers_max = (\n",
    "    biomarkers\n",
    "    .groupby('PatientID')['SpecimenCollectedDate'].max()\n",
    "    .to_frame(name = 'biomarkers_max')\n",
    "    .reset_index()\n",
    ")"
   ]
  },
  {
   "cell_type": "markdown",
   "id": "1afe3bee",
   "metadata": {},
   "source": [
    "##### ADT"
   ]
  },
  {
   "cell_type": "code",
   "execution_count": 68,
   "id": "178e94f2",
   "metadata": {},
   "outputs": [],
   "source": [
    "adt = adt[adt['PatientID'].isin(test_IDs)]"
   ]
  },
  {
   "cell_type": "code",
   "execution_count": 69,
   "id": "e8d333af",
   "metadata": {},
   "outputs": [],
   "source": [
    "adt.loc[:, 'StartDate'] = pd.to_datetime(adt['StartDate'])"
   ]
  },
  {
   "cell_type": "code",
   "execution_count": 70,
   "id": "1d033944",
   "metadata": {},
   "outputs": [],
   "source": [
    "adt.loc[:, 'EndDate'] = pd.to_datetime(adt['EndDate'])"
   ]
  },
  {
   "cell_type": "code",
   "execution_count": 71,
   "id": "5f175ddd",
   "metadata": {},
   "outputs": [],
   "source": [
    "adt_max = (\n",
    "    adt\n",
    "    .assign(max_date = adt[['StartDate', 'EndDate']].max(axis = 1))\n",
    "    .groupby('PatientID')['max_date'].max()\n",
    "    .to_frame(name = 'adt_max')\n",
    "    .reset_index()\n",
    ")"
   ]
  },
  {
   "cell_type": "markdown",
   "id": "90e58386",
   "metadata": {},
   "source": [
    "##### Alpha Beta Emitters"
   ]
  },
  {
   "cell_type": "code",
   "execution_count": 72,
   "id": "f4bd74df",
   "metadata": {},
   "outputs": [],
   "source": [
    "alpha_beta = alpha_beta[alpha_beta['PatientID'].isin(test_IDs)]"
   ]
  },
  {
   "cell_type": "code",
   "execution_count": 73,
   "id": "8c06974f",
   "metadata": {},
   "outputs": [],
   "source": [
    "alpha_beta.loc[:, 'AdministrationDate'] = pd.to_datetime(alpha_beta['AdministrationDate'])"
   ]
  },
  {
   "cell_type": "code",
   "execution_count": 74,
   "id": "3fae931e",
   "metadata": {},
   "outputs": [],
   "source": [
    "alpha_beta_max = (\n",
    "    alpha_beta\n",
    "    .groupby('PatientID')['AdministrationDate'].max()\n",
    "    .to_frame(name = 'alpha_beta_max')\n",
    "    .reset_index()\n",
    ")"
   ]
  },
  {
   "cell_type": "markdown",
   "id": "c34bd31c",
   "metadata": {},
   "source": [
    "##### Primary Treatment "
   ]
  },
  {
   "cell_type": "code",
   "execution_count": 75,
   "id": "c4d33484",
   "metadata": {},
   "outputs": [],
   "source": [
    "treat = treat[treat['PatientID'].isin(test_IDs)]"
   ]
  },
  {
   "cell_type": "code",
   "execution_count": 76,
   "id": "5d9ac598",
   "metadata": {},
   "outputs": [],
   "source": [
    "treat.loc[:, 'TreatmentDate'] = pd.to_datetime(treat['TreatmentDate'])"
   ]
  },
  {
   "cell_type": "code",
   "execution_count": 77,
   "id": "aa64276b",
   "metadata": {},
   "outputs": [],
   "source": [
    "treat_max = (\n",
    "    treat\n",
    "    .groupby('PatientID')['TreatmentDate'].max()\n",
    "    .to_frame(name = 'treat_max')\n",
    "    .reset_index()\n",
    ")"
   ]
  },
  {
   "cell_type": "markdown",
   "id": "e95b3110",
   "metadata": {},
   "source": [
    "##### Provenge"
   ]
  },
  {
   "cell_type": "code",
   "execution_count": 78,
   "id": "ef0b6b03",
   "metadata": {},
   "outputs": [],
   "source": [
    "provenge = provenge[provenge['PatientID'].isin(test_IDs)]"
   ]
  },
  {
   "cell_type": "code",
   "execution_count": 79,
   "id": "a7d1941f",
   "metadata": {},
   "outputs": [],
   "source": [
    "provenge.loc[:, 'StartDate'] = pd.to_datetime(provenge['StartDate'])"
   ]
  },
  {
   "cell_type": "code",
   "execution_count": 80,
   "id": "57030b2b",
   "metadata": {},
   "outputs": [],
   "source": [
    "provenge_max = (\n",
    "    provenge\n",
    "    .groupby('PatientID')['StartDate'].max()\n",
    "    .to_frame(name = 'provenge_max')\n",
    "    .reset_index()\n",
    ")"
   ]
  },
  {
   "cell_type": "markdown",
   "id": "1aede213",
   "metadata": {},
   "source": [
    "##### CRPC Date"
   ]
  },
  {
   "cell_type": "code",
   "execution_count": 81,
   "id": "ae775f58",
   "metadata": {},
   "outputs": [],
   "source": [
    "crpc_max = enhanced_met[enhanced_met['CRPCDate'].notna()][['PatientID', 'CRPCDate']]"
   ]
  },
  {
   "cell_type": "markdown",
   "id": "aad5f87a",
   "metadata": {},
   "source": [
    "##### Max date merge"
   ]
  },
  {
   "cell_type": "code",
   "execution_count": 82,
   "id": "4f37b873",
   "metadata": {},
   "outputs": [],
   "source": [
    "last_activity = pd.merge(visit_tele_max, orals_max, on = 'PatientID', how = 'outer')"
   ]
  },
  {
   "cell_type": "code",
   "execution_count": 83,
   "id": "b0658712",
   "metadata": {},
   "outputs": [],
   "source": [
    "last_activity = pd.merge(last_activity, biomarkers_max, on = 'PatientID', how = 'outer')"
   ]
  },
  {
   "cell_type": "code",
   "execution_count": 84,
   "id": "1d5ff6b3",
   "metadata": {},
   "outputs": [],
   "source": [
    "last_activity = pd.merge(last_activity, adt_max, on = 'PatientID', how = 'outer')"
   ]
  },
  {
   "cell_type": "code",
   "execution_count": 85,
   "id": "05f4d31a",
   "metadata": {},
   "outputs": [],
   "source": [
    "last_activity = pd.merge(last_activity, alpha_beta_max, on = 'PatientID', how = 'outer')"
   ]
  },
  {
   "cell_type": "code",
   "execution_count": 86,
   "id": "db30cc2b",
   "metadata": {},
   "outputs": [],
   "source": [
    "last_activity = pd.merge(last_activity, treat_max, on = 'PatientID', how = 'outer')"
   ]
  },
  {
   "cell_type": "code",
   "execution_count": 87,
   "id": "cb2dca46",
   "metadata": {},
   "outputs": [],
   "source": [
    "last_activity = pd.merge(last_activity, provenge_max, on = 'PatientID', how = 'outer')"
   ]
  },
  {
   "cell_type": "code",
   "execution_count": 88,
   "id": "1a0860e2",
   "metadata": {},
   "outputs": [],
   "source": [
    "last_activity = pd.merge(last_activity, crpc_max, on = 'PatientID', how = 'outer')"
   ]
  },
  {
   "cell_type": "code",
   "execution_count": 89,
   "id": "2d72e0a7",
   "metadata": {},
   "outputs": [
    {
     "data": {
      "text/plain": [
       "(3786, 3786)"
      ]
     },
     "execution_count": 89,
     "metadata": {},
     "output_type": "execute_result"
    }
   ],
   "source": [
    "row_ID(last_activity)"
   ]
  },
  {
   "cell_type": "code",
   "execution_count": 90,
   "id": "b9305f26",
   "metadata": {},
   "outputs": [],
   "source": [
    "# Find max of each row. \n",
    "last_activity = (\n",
    "    last_activity\n",
    "    .assign(last_activity = last_activity[['visit_max', 'orals_max', 'biomarkers_max', 'adt_max', 'alpha_beta_max', 'treat_max', 'provenge_max', 'CRPCDate']].max(axis = 1))\n",
    "    .filter(items = ['PatientID', 'last_activity'])\n",
    ")"
   ]
  },
  {
   "cell_type": "code",
   "execution_count": 91,
   "id": "654ce3d0",
   "metadata": {},
   "outputs": [
    {
     "data": {
      "text/plain": [
       "True"
      ]
     },
     "execution_count": 91,
     "metadata": {},
     "output_type": "execute_result"
    }
   ],
   "source": [
    "len(last_activity) == len(test_IDs)"
   ]
  },
  {
   "cell_type": "code",
   "execution_count": 92,
   "id": "581a3ed6",
   "metadata": {},
   "outputs": [
    {
     "data": {
      "text/plain": [
       "0"
      ]
     },
     "execution_count": 92,
     "metadata": {},
     "output_type": "execute_result"
    }
   ],
   "source": [
    "last_activity['last_activity'].isna().sum()"
   ]
  },
  {
   "cell_type": "code",
   "execution_count": 93,
   "id": "455d7afa",
   "metadata": {},
   "outputs": [],
   "source": [
    "# Append missing training IDs.\n",
    "mortality = (\n",
    "    mortality\n",
    "    .append(\n",
    "        pd.Series(test_IDs)[~pd.Series(test_IDs).isin(mortality['PatientID'])].to_frame(name = 'PatientID'), \n",
    "        sort = False\n",
    "    )\n",
    ")"
   ]
  },
  {
   "cell_type": "code",
   "execution_count": 94,
   "id": "b22257e6",
   "metadata": {},
   "outputs": [
    {
     "data": {
      "text/plain": [
       "(3786, 3786)"
      ]
     },
     "execution_count": 94,
     "metadata": {},
     "output_type": "execute_result"
    }
   ],
   "source": [
    "row_ID(mortality)"
   ]
  },
  {
   "cell_type": "code",
   "execution_count": 95,
   "id": "abf3221f",
   "metadata": {},
   "outputs": [],
   "source": [
    "mortality = pd.merge(mortality, enhanced_met[['PatientID', 'met_date']], on = 'PatientID')"
   ]
  },
  {
   "cell_type": "code",
   "execution_count": 96,
   "id": "c95c9a54",
   "metadata": {},
   "outputs": [],
   "source": [
    "mortality = pd.merge(mortality, last_activity, on = 'PatientID')"
   ]
  },
  {
   "cell_type": "code",
   "execution_count": 97,
   "id": "1f29bfec",
   "metadata": {},
   "outputs": [
    {
     "data": {
      "text/plain": [
       "(3786, 3786)"
      ]
     },
     "execution_count": 97,
     "metadata": {},
     "output_type": "execute_result"
    }
   ],
   "source": [
    "row_ID(mortality)"
   ]
  },
  {
   "cell_type": "code",
   "execution_count": 98,
   "id": "c0d249a4",
   "metadata": {},
   "outputs": [],
   "source": [
    "mortality.loc[:, 'death_status'] = np.where(mortality['death_date'].isna(), 0, 1)"
   ]
  },
  {
   "cell_type": "code",
   "execution_count": 99,
   "id": "3139d560",
   "metadata": {},
   "outputs": [],
   "source": [
    "# timerisk_activity is time from metastatic diagnosis to death or last activity if no death date.\n",
    "mortality.loc[:, 'timerisk_activity'] = (\n",
    "    np.where(mortality['death_date'].isna(),\n",
    "             (mortality['last_activity'] - mortality['met_date']).dt.days,\n",
    "             (mortality['death_date'] - mortality['met_date']).dt.days)\n",
    ")"
   ]
  },
  {
   "cell_type": "code",
   "execution_count": 100,
   "id": "55f6adda",
   "metadata": {},
   "outputs": [],
   "source": [
    "# If timerisk_activity is less than 0, set to 0 otherwise remains unchanged. \n",
    "mortality['timerisk_activity'] = np.where(mortality['timerisk_activity'] < 0, 0, mortality['timerisk_activity'])"
   ]
  },
  {
   "cell_type": "code",
   "execution_count": 101,
   "id": "c2d2b36b",
   "metadata": {},
   "outputs": [
    {
     "data": {
      "text/html": [
       "<div>\n",
       "<style scoped>\n",
       "    .dataframe tbody tr th:only-of-type {\n",
       "        vertical-align: middle;\n",
       "    }\n",
       "\n",
       "    .dataframe tbody tr th {\n",
       "        vertical-align: top;\n",
       "    }\n",
       "\n",
       "    .dataframe thead th {\n",
       "        text-align: right;\n",
       "    }\n",
       "</style>\n",
       "<table border=\"1\" class=\"dataframe\">\n",
       "  <thead>\n",
       "    <tr style=\"text-align: right;\">\n",
       "      <th></th>\n",
       "      <th>PatientID</th>\n",
       "      <th>death_date</th>\n",
       "      <th>met_date</th>\n",
       "      <th>last_activity</th>\n",
       "      <th>death_status</th>\n",
       "      <th>timerisk_activity</th>\n",
       "    </tr>\n",
       "  </thead>\n",
       "  <tbody>\n",
       "    <tr>\n",
       "      <th>2744</th>\n",
       "      <td>FEEFEC3CA4C0A</td>\n",
       "      <td>NaT</td>\n",
       "      <td>2013-10-16</td>\n",
       "      <td>2022-09-19</td>\n",
       "      <td>0</td>\n",
       "      <td>3260.0</td>\n",
       "    </tr>\n",
       "    <tr>\n",
       "      <th>3519</th>\n",
       "      <td>F5EF462EB27F7</td>\n",
       "      <td>NaT</td>\n",
       "      <td>2018-10-03</td>\n",
       "      <td>2020-02-24</td>\n",
       "      <td>0</td>\n",
       "      <td>509.0</td>\n",
       "    </tr>\n",
       "    <tr>\n",
       "      <th>1928</th>\n",
       "      <td>FCEA38F474AD1</td>\n",
       "      <td>2021-08-23</td>\n",
       "      <td>2015-09-10</td>\n",
       "      <td>2021-05-05</td>\n",
       "      <td>1</td>\n",
       "      <td>2174.0</td>\n",
       "    </tr>\n",
       "    <tr>\n",
       "      <th>2862</th>\n",
       "      <td>F983A6339952B</td>\n",
       "      <td>NaT</td>\n",
       "      <td>2020-12-28</td>\n",
       "      <td>2022-09-30</td>\n",
       "      <td>0</td>\n",
       "      <td>641.0</td>\n",
       "    </tr>\n",
       "    <tr>\n",
       "      <th>931</th>\n",
       "      <td>F9FDED948FB67</td>\n",
       "      <td>2017-10-09</td>\n",
       "      <td>2016-06-27</td>\n",
       "      <td>2017-10-09</td>\n",
       "      <td>1</td>\n",
       "      <td>469.0</td>\n",
       "    </tr>\n",
       "  </tbody>\n",
       "</table>\n",
       "</div>"
      ],
      "text/plain": [
       "          PatientID death_date   met_date last_activity  death_status  \\\n",
       "2744  FEEFEC3CA4C0A        NaT 2013-10-16    2022-09-19             0   \n",
       "3519  F5EF462EB27F7        NaT 2018-10-03    2020-02-24             0   \n",
       "1928  FCEA38F474AD1 2021-08-23 2015-09-10    2021-05-05             1   \n",
       "2862  F983A6339952B        NaT 2020-12-28    2022-09-30             0   \n",
       "931   F9FDED948FB67 2017-10-09 2016-06-27    2017-10-09             1   \n",
       "\n",
       "      timerisk_activity  \n",
       "2744             3260.0  \n",
       "3519              509.0  \n",
       "1928             2174.0  \n",
       "2862              641.0  \n",
       "931               469.0  "
      ]
     },
     "execution_count": 101,
     "metadata": {},
     "output_type": "execute_result"
    }
   ],
   "source": [
    "mortality.sample(5)"
   ]
  },
  {
   "cell_type": "code",
   "execution_count": 102,
   "id": "7c034dce",
   "metadata": {},
   "outputs": [],
   "source": [
    "mortality = pd.merge(mortality, enhanced_met[['PatientID', 'diagnosis_date']], on = 'PatientID', how = 'outer')"
   ]
  },
  {
   "cell_type": "code",
   "execution_count": 103,
   "id": "05137592",
   "metadata": {},
   "outputs": [],
   "source": [
    "# timerisk_activity_first is time from first diagnosis (metastatic or not) to death or last activity if no death date.\n",
    "mortality.loc[:, 'timerisk_activity_first'] = (\n",
    "    np.where(mortality['death_date'].isna(),\n",
    "             (mortality['last_activity'] - mortality['diagnosis_date']).dt.days,\n",
    "             (mortality['death_date'] - mortality['diagnosis_date']).dt.days)\n",
    ")"
   ]
  },
  {
   "cell_type": "code",
   "execution_count": 104,
   "id": "f6d428b3",
   "metadata": {},
   "outputs": [],
   "source": [
    "# If timerisk_activity is less than 0, set to 0 otherwise remains unchanged. \n",
    "mortality['timerisk_activity_first'] = np.where(\n",
    "    mortality['timerisk_activity_first'] < 0, 0, mortality['timerisk_activity_first'])"
   ]
  },
  {
   "cell_type": "code",
   "execution_count": 105,
   "id": "b521e16f",
   "metadata": {},
   "outputs": [],
   "source": [
    "mortality.to_csv('mortality_cleaned_te.csv', index = False, header = True)"
   ]
  },
  {
   "cell_type": "code",
   "execution_count": 106,
   "id": "73adad8f",
   "metadata": {},
   "outputs": [],
   "source": [
    "mortality = mortality.filter(items = ['PatientID', 'death_status', 'timerisk_activity'])"
   ]
  },
  {
   "cell_type": "code",
   "execution_count": 107,
   "id": "a244e45f",
   "metadata": {},
   "outputs": [
    {
     "data": {
      "text/html": [
       "<div>\n",
       "<style scoped>\n",
       "    .dataframe tbody tr th:only-of-type {\n",
       "        vertical-align: middle;\n",
       "    }\n",
       "\n",
       "    .dataframe tbody tr th {\n",
       "        vertical-align: top;\n",
       "    }\n",
       "\n",
       "    .dataframe thead th {\n",
       "        text-align: right;\n",
       "    }\n",
       "</style>\n",
       "<table border=\"1\" class=\"dataframe\">\n",
       "  <thead>\n",
       "    <tr style=\"text-align: right;\">\n",
       "      <th></th>\n",
       "      <th>PatientID</th>\n",
       "      <th>death_status</th>\n",
       "      <th>timerisk_activity</th>\n",
       "    </tr>\n",
       "  </thead>\n",
       "  <tbody>\n",
       "    <tr>\n",
       "      <th>2949</th>\n",
       "      <td>F0CDF527312BA</td>\n",
       "      <td>0</td>\n",
       "      <td>1089.0</td>\n",
       "    </tr>\n",
       "    <tr>\n",
       "      <th>2410</th>\n",
       "      <td>F6830B456D25C</td>\n",
       "      <td>0</td>\n",
       "      <td>106.0</td>\n",
       "    </tr>\n",
       "    <tr>\n",
       "      <th>1130</th>\n",
       "      <td>F2AF6EF044748</td>\n",
       "      <td>1</td>\n",
       "      <td>1034.0</td>\n",
       "    </tr>\n",
       "    <tr>\n",
       "      <th>1375</th>\n",
       "      <td>F68A171A9A44E</td>\n",
       "      <td>1</td>\n",
       "      <td>1762.0</td>\n",
       "    </tr>\n",
       "    <tr>\n",
       "      <th>834</th>\n",
       "      <td>FC796CA5596E1</td>\n",
       "      <td>1</td>\n",
       "      <td>777.0</td>\n",
       "    </tr>\n",
       "  </tbody>\n",
       "</table>\n",
       "</div>"
      ],
      "text/plain": [
       "          PatientID  death_status  timerisk_activity\n",
       "2949  F0CDF527312BA             0             1089.0\n",
       "2410  F6830B456D25C             0              106.0\n",
       "1130  F2AF6EF044748             1             1034.0\n",
       "1375  F68A171A9A44E             1             1762.0\n",
       "834   FC796CA5596E1             1              777.0"
      ]
     },
     "execution_count": 107,
     "metadata": {},
     "output_type": "execute_result"
    }
   ],
   "source": [
    "mortality.sample(5)"
   ]
  },
  {
   "cell_type": "code",
   "execution_count": 108,
   "id": "89e49edc",
   "metadata": {},
   "outputs": [
    {
     "name": "stdout",
     "output_type": "stream",
     "text": [
      "Variable         Type         Data/Info\n",
      "---------------------------------------\n",
      "adt              DataFrame               PatientID Trea<...>\\n[4080 rows x 5 columns]\n",
      "adt_max          DataFrame              PatientID    ad<...>\\n[3659 rows x 2 columns]\n",
      "alpha_beta       DataFrame              PatientID    Dr<...>\\n[1221 rows x 3 columns]\n",
      "alpha_beta_max   DataFrame             PatientID alpha_<...>n\\n[295 rows x 2 columns]\n",
      "biomarkers       DataFrame              PatientID Bioma<...>\\n[1498 rows x 9 columns]\n",
      "biomarkers_max   DataFrame              PatientID bioma<...>\\n[1016 rows x 2 columns]\n",
      "crpc_max         DataFrame               PatientID   CR<...>\\n[2303 rows x 2 columns]\n",
      "demographics     DataFrame              PatientID Gende<...>\\n[3786 rows x 6 columns]\n",
      "enhanced_met     DataFrame               PatientID diag<...>n[3786 rows x 17 columns]\n",
      "last_activity    DataFrame              PatientID last_<...>\\n[3786 rows x 2 columns]\n",
      "mortality        DataFrame              PatientID  deat<...>\\n[3786 rows x 3 columns]\n",
      "orals            DataFrame               PatientID     <...>\\n[6924 rows x 5 columns]\n",
      "orals_max        DataFrame              PatientID  oral<...>\\n[3356 rows x 2 columns]\n",
      "provenge         DataFrame              PatientID  Star<...>n\\n[303 rows x 2 columns]\n",
      "provenge_max     DataFrame             PatientID proven<...>n\\n[303 rows x 2 columns]\n",
      "telemedicine     DataFrame               PatientID   Vi<...>n[10830 rows x 2 columns]\n",
      "treat            DataFrame              PatientID      <...>\\n[1616 rows x 3 columns]\n",
      "treat_max        DataFrame              PatientID  trea<...>\\n[1616 rows x 2 columns]\n",
      "visit            DataFrame                PatientID   V<...>[744472 rows x 6 columns]\n",
      "visit_tele       DataFrame               PatientID  Vis<...>[755302 rows x 2 columns]\n",
      "visit_tele_max   DataFrame              PatientID  visi<...>\\n[3786 rows x 2 columns]\n"
     ]
    }
   ],
   "source": [
    "%whos DataFrame"
   ]
  },
  {
   "cell_type": "code",
   "execution_count": 109,
   "id": "40d26456",
   "metadata": {},
   "outputs": [],
   "source": [
    "# Keep demographics, enhanced_met, and mortality\n",
    "del adt\n",
    "del adt_max\n",
    "del alpha_beta\n",
    "del alpha_beta_max\n",
    "del biomarkers\n",
    "del biomarkers_max\n",
    "del crpc_max\n",
    "del last_activity\n",
    "del orals\n",
    "del orals_max\n",
    "del provenge\n",
    "del provenge_max\n",
    "del telemedicine\n",
    "del treat\n",
    "del treat_max\n",
    "del visit\n",
    "del visit_tele\n",
    "del visit_tele_max"
   ]
  },
  {
   "cell_type": "markdown",
   "id": "783f17dc",
   "metadata": {},
   "source": [
    "### 4. MedicationAdministration"
   ]
  },
  {
   "cell_type": "code",
   "execution_count": 110,
   "id": "68adcebd",
   "metadata": {},
   "outputs": [],
   "source": [
    "med_admin = pd.read_csv('MedicationAdministration.csv')"
   ]
  },
  {
   "cell_type": "code",
   "execution_count": 111,
   "id": "0da9da62",
   "metadata": {},
   "outputs": [],
   "source": [
    "med_admin = med_admin[med_admin['PatientID'].isin(test_IDs)]"
   ]
  },
  {
   "cell_type": "markdown",
   "id": "e2aeb456",
   "metadata": {},
   "source": [
    "**An indicator variable will be created for key medications (ie., steroids, opioids, other pain meds, antibiotics, anticoagulation, diabetic medicaitons, etc.) around time of metastatic diagnosis. The elgibility window is -90 days from metastatic diagnosis +30.** "
   ]
  },
  {
   "cell_type": "code",
   "execution_count": 112,
   "id": "66e7ed93",
   "metadata": {},
   "outputs": [],
   "source": [
    "med_admin = pd.merge(med_admin, enhanced_met[['PatientID', 'met_date']], on = 'PatientID', how = 'left')"
   ]
  },
  {
   "cell_type": "code",
   "execution_count": 113,
   "id": "fc97c2d9",
   "metadata": {},
   "outputs": [],
   "source": [
    "med_admin.loc[:, 'AdministeredDate'] = pd.to_datetime(med_admin['AdministeredDate'])"
   ]
  },
  {
   "cell_type": "code",
   "execution_count": 114,
   "id": "f0abee4b",
   "metadata": {},
   "outputs": [],
   "source": [
    "# Select window of -90 and +30 days from metastatic diagnosis. \n",
    "med_admin_win = (\n",
    "    med_admin\n",
    "    .assign(med_admin_diff = (med_admin['AdministeredDate'] - med_admin['met_date']).dt.days)\n",
    "    .query('med_admin_diff >= -90 and med_admin_diff <= 30')\n",
    ")"
   ]
  },
  {
   "cell_type": "markdown",
   "id": "a0695188",
   "metadata": {},
   "source": [
    "#### Antineoplastic "
   ]
  },
  {
   "cell_type": "markdown",
   "id": "dc04691a",
   "metadata": {},
   "source": [
    "**No indicator variable created.** "
   ]
  },
  {
   "cell_type": "markdown",
   "id": "62536123",
   "metadata": {},
   "source": [
    "#### Antiemetic"
   ]
  },
  {
   "cell_type": "markdown",
   "id": "fc600a33",
   "metadata": {},
   "source": [
    "**No indicator variable created.** "
   ]
  },
  {
   "cell_type": "markdown",
   "id": "64a2a50d",
   "metadata": {},
   "source": [
    "#### Solution-fluid"
   ]
  },
  {
   "cell_type": "markdown",
   "id": "cd290621",
   "metadata": {},
   "source": [
    "**No indicator variable created.** "
   ]
  },
  {
   "cell_type": "markdown",
   "id": "c2b374e7",
   "metadata": {},
   "source": [
    "#### Steroid"
   ]
  },
  {
   "cell_type": "markdown",
   "id": "f74c0729",
   "metadata": {},
   "source": [
    "**Clinically relevant so will create glucocorticoid indicator variable.** "
   ]
  },
  {
   "cell_type": "code",
   "execution_count": 115,
   "id": "a4abb20a",
   "metadata": {},
   "outputs": [],
   "source": [
    "med_admin_win.loc[:, 'steroid_diag'] = (\n",
    "    np.where((med_admin_win['DrugCategory'] == 'steroid') & \n",
    "             ((med_admin_win['Route'] == 'Intravenous') | \n",
    "              (med_admin_win['Route'] == 'Oral') | \n",
    "              (med_admin_win['Route'] == 'Intrajejunal') |\n",
    "              (med_admin_win['Route'] == 'Nasogastric') |\n",
    "              (med_admin_win['Route'] == 'enteral')), 1, 0)\n",
    ")"
   ]
  },
  {
   "cell_type": "markdown",
   "id": "96b13d32",
   "metadata": {},
   "source": [
    "#### Pain"
   ]
  },
  {
   "cell_type": "markdown",
   "id": "b7ed405d",
   "metadata": {},
   "source": [
    "**Three indicator variables from 'pain agent' category will be created:**\n",
    "- **opioid PO: patient recieved oral opioid (fentanyl patch included)**\n",
    "- **non-opioid PO: patient received non-opioid orally**\n",
    "- **pain IV: patient received pain medciation intravenously**"
   ]
  },
  {
   "cell_type": "markdown",
   "id": "c5e7cc82",
   "metadata": {},
   "source": [
    "##### Opioid PO"
   ]
  },
  {
   "cell_type": "code",
   "execution_count": 116,
   "id": "d3e653ba",
   "metadata": {},
   "outputs": [],
   "source": [
    "# List of avialable opioids in the US. \n",
    "opioid_list = [\n",
    "    'buprenorphine',\n",
    "    'codeine',\n",
    "    'fentanyl',\n",
    "    'hydrocodone',\n",
    "    'hydromorphone',\n",
    "    'methadone',\n",
    "    'morphine',\n",
    "    'oxycodone',\n",
    "    'oxymorphone',\n",
    "    'tapentadol',\n",
    "    'tramadol'\n",
    "]"
   ]
  },
  {
   "cell_type": "code",
   "execution_count": 117,
   "id": "ade01a70",
   "metadata": {},
   "outputs": [],
   "source": [
    "med_admin_win.loc[:, 'opioid_PO_diag'] = (\n",
    "    np.where(((med_admin_win['Route'] == 'Oral') | \n",
    "              (med_admin_win['Route'] == 'Transdermal') | \n",
    "              (med_admin_win['Route'] == 'Sublingual')) &\n",
    "             (med_admin_win['CommonDrugName'].str.contains('|'.join(opioid_list))), 1, 0)\n",
    ")"
   ]
  },
  {
   "cell_type": "markdown",
   "id": "a7d3750d",
   "metadata": {},
   "source": [
    "##### Nonopioid PO"
   ]
  },
  {
   "cell_type": "code",
   "execution_count": 118,
   "id": "ec3136ab",
   "metadata": {},
   "outputs": [],
   "source": [
    "med_admin_win.loc[:, 'nonopioid_PO_diag'] = (\n",
    "    np.where((med_admin_win['DrugCategory'] == 'pain agent') & \n",
    "             (med_admin_win['Route'] == 'Oral') & \n",
    "             (~med_admin_win['CommonDrugName'].str.contains('|'.join(opioid_list))), 1, 0)\n",
    ")"
   ]
  },
  {
   "cell_type": "markdown",
   "id": "955dac8e",
   "metadata": {},
   "source": [
    "##### Pain IV"
   ]
  },
  {
   "cell_type": "code",
   "execution_count": 119,
   "id": "9c566680",
   "metadata": {},
   "outputs": [],
   "source": [
    "med_admin_win.loc[:, 'pain_IV_diag'] = (\n",
    "    np.where((med_admin_win['DrugCategory'] == 'pain agent') & \n",
    "             (med_admin_win['Route'] == 'Intravenous'), 1, 0)\n",
    ")"
   ]
  },
  {
   "cell_type": "markdown",
   "id": "33c658a8",
   "metadata": {},
   "source": [
    "#### Hematologic agent"
   ]
  },
  {
   "cell_type": "markdown",
   "id": "8fbdf843",
   "metadata": {},
   "source": [
    "**A therapeutic anticoagulation indicator variable will be created from the hematological agent category and will consist of:** \n",
    "* **Heparin: patients on a heparin gtt or other pareneral agents (eg., bivilrudin or argatroban)**\n",
    "* **Enoxaparin: patients administered greater than prophylactic dosing of enoxaparin or other subcutaneous agents (eg., dalteparin or fondaparinux)**\n",
    "* **DOAC: patients administered any dose of apxiaban, rivaroxabn, edoxaban, or dabigatran**\n",
    "* **Warfarin: patients administered any dose of warfarin.**  "
   ]
  },
  {
   "cell_type": "markdown",
   "id": "cb4cbf00",
   "metadata": {},
   "source": [
    "##### Heparin and other parenteral agents"
   ]
  },
  {
   "cell_type": "code",
   "execution_count": 120,
   "id": "8d27a291",
   "metadata": {},
   "outputs": [],
   "source": [
    "med_admin_win.loc[:, 'heparin_diag'] = (\n",
    "    np.where(((med_admin_win['CommonDrugName'].str.contains('heparin')) & \n",
    "              (med_admin_win['AdministeredUnits'] == 'unit/kg/hr')) | \n",
    "             (med_admin_win['CommonDrugName'].str.contains('bivalirudin')) | \n",
    "             (med_admin_win['CommonDrugName'].str.contains('argatroban')), 1, 0)\n",
    ")"
   ]
  },
  {
   "cell_type": "markdown",
   "id": "e77af70a",
   "metadata": {},
   "source": [
    "###### Enoxaparin and other subcutaneous agents "
   ]
  },
  {
   "cell_type": "code",
   "execution_count": 121,
   "id": "b5cb01cf",
   "metadata": {},
   "outputs": [],
   "source": [
    "med_admin_win.loc[:, 'enoxaparin_diag'] = (\n",
    "    np.where(((med_admin_win['CommonDrugName'].str.contains('enoxaparin')) & \n",
    "              (med_admin_win['AdministeredAmount'] > 40)) | \n",
    "             ((med_admin_win['CommonDrugName'].str.contains('dalteparin')) & \n",
    "              (med_admin_win['AdministeredAmount'] > 5000)) | \n",
    "             ((med_admin_win['CommonDrugName'].str.contains('fondaparinux')) & \n",
    "              (med_admin_win['AdministeredAmount'] > 2.5)), 1, 0)\n",
    ")"
   ]
  },
  {
   "cell_type": "markdown",
   "id": "1a47a737",
   "metadata": {},
   "source": [
    "##### DOAC"
   ]
  },
  {
   "cell_type": "code",
   "execution_count": 122,
   "id": "d906bcd9",
   "metadata": {},
   "outputs": [],
   "source": [
    "med_admin_win.loc[:, 'doac_diag'] = (\n",
    "    np.where((med_admin_win['CommonDrugName'].str.contains('apixaban')) | \n",
    "             (med_admin_win['CommonDrugName'].str.contains('rivaroxaban')) | \n",
    "             (med_admin_win['CommonDrugName'].str.contains('dabigatran')) | \n",
    "             (med_admin_win['CommonDrugName'].str.contains('edoxaban')), 1, 0)\n",
    ")"
   ]
  },
  {
   "cell_type": "markdown",
   "id": "0d51b40e",
   "metadata": {},
   "source": [
    "##### Warfarin"
   ]
  },
  {
   "cell_type": "code",
   "execution_count": 123,
   "id": "616c4229",
   "metadata": {},
   "outputs": [],
   "source": [
    "med_admin_win.loc[:, 'warfarin_diag'] = np.where((med_admin_win['CommonDrugName'].str.contains('warfarin')), 1, 0)"
   ]
  },
  {
   "cell_type": "markdown",
   "id": "228193af",
   "metadata": {},
   "source": [
    "##### Anticoagulation merge "
   ]
  },
  {
   "cell_type": "code",
   "execution_count": 124,
   "id": "ad12bae8",
   "metadata": {},
   "outputs": [],
   "source": [
    "# Combine heparin, enoxparin, DOAC, and warfarin columns into a single anticoagulation indicator variable. \n",
    "med_admin_win['ac_diag'] = (\n",
    "    med_admin_win['heparin_diag'] + med_admin_win['enoxaparin_diag'] + med_admin_win['doac_diag'] + med_admin_win['warfarin_diag']\n",
    ")"
   ]
  },
  {
   "cell_type": "code",
   "execution_count": 125,
   "id": "f071acc4",
   "metadata": {},
   "outputs": [],
   "source": [
    "# Drop heparin, enoxaparin, DOAC, and warfarin columns. \n",
    "med_admin_win = med_admin_win.drop(columns = ['heparin_diag', 'enoxaparin_diag', 'doac_diag', 'warfarin_diag'])"
   ]
  },
  {
   "cell_type": "markdown",
   "id": "4d0360e0",
   "metadata": {},
   "source": [
    "##### DAPT"
   ]
  },
  {
   "cell_type": "markdown",
   "id": "31123e85",
   "metadata": {},
   "source": [
    "**No indicator variable created.** "
   ]
  },
  {
   "cell_type": "markdown",
   "id": "22b4d194",
   "metadata": {},
   "source": [
    "##### GCSF"
   ]
  },
  {
   "cell_type": "markdown",
   "id": "6eb4f054",
   "metadata": {},
   "source": [
    "**No indicator variable created.** "
   ]
  },
  {
   "cell_type": "markdown",
   "id": "0a553b7f",
   "metadata": {},
   "source": [
    "##### Epoetin"
   ]
  },
  {
   "cell_type": "markdown",
   "id": "3e4b5bd8",
   "metadata": {},
   "source": [
    "**No indicator variable created.** "
   ]
  },
  {
   "cell_type": "markdown",
   "id": "0e0633ea",
   "metadata": {},
   "source": [
    "##### tPA"
   ]
  },
  {
   "cell_type": "markdown",
   "id": "d1c01cd1",
   "metadata": {},
   "source": [
    "**No indicator variable created.** "
   ]
  },
  {
   "cell_type": "markdown",
   "id": "5fbfaee5",
   "metadata": {},
   "source": [
    "#### Anti-infective "
   ]
  },
  {
   "cell_type": "markdown",
   "id": "7dd930ba",
   "metadata": {},
   "source": [
    "**Clinically relevant; two separate indicator variables from the anti-infective drug category will be created:** \n",
    "* **antiinfective IV group** \n",
    "* **antiinfective PO group**"
   ]
  },
  {
   "cell_type": "markdown",
   "id": "6b2a6b03",
   "metadata": {},
   "source": [
    "##### Anti-infective IV"
   ]
  },
  {
   "cell_type": "code",
   "execution_count": 126,
   "id": "fa66d32e",
   "metadata": {},
   "outputs": [],
   "source": [
    "med_admin_win.loc[:, 'antiinfective_IV_diag'] = (\n",
    "    np.where((med_admin_win['DrugCategory'] == 'anti-infective') & \n",
    "             (med_admin_win['Route'] == 'Intravenous'), 1, 0)\n",
    ")"
   ]
  },
  {
   "cell_type": "markdown",
   "id": "633e08e5",
   "metadata": {},
   "source": [
    "##### Anti-infective PO"
   ]
  },
  {
   "cell_type": "code",
   "execution_count": 127,
   "id": "39af1371",
   "metadata": {},
   "outputs": [],
   "source": [
    "med_admin_win.loc[:, 'antiinfective_diag'] = (\n",
    "    np.where((med_admin_win['DrugCategory'] == 'anti-infective') & \n",
    "             (med_admin_win['Route'] == 'Oral'), 1, 0)\n",
    ")"
   ]
  },
  {
   "cell_type": "markdown",
   "id": "eff03b22",
   "metadata": {},
   "source": [
    "#### Anesthetic"
   ]
  },
  {
   "cell_type": "markdown",
   "id": "0e7b50c7",
   "metadata": {},
   "source": [
    "**No indicator variable created.** "
   ]
  },
  {
   "cell_type": "markdown",
   "id": "e939943f",
   "metadata": {},
   "source": [
    "#### Cytoprotective"
   ]
  },
  {
   "cell_type": "markdown",
   "id": "d628d1c2",
   "metadata": {},
   "source": [
    "**No indicator variable created.** "
   ]
  },
  {
   "cell_type": "markdown",
   "id": "cb80380a",
   "metadata": {},
   "source": [
    "#### Antihyperglycemic"
   ]
  },
  {
   "cell_type": "code",
   "execution_count": 128,
   "id": "6b17c35a",
   "metadata": {},
   "outputs": [],
   "source": [
    "med_admin_win.loc[:, 'antihyperglycemic_diag'] = np.where(med_admin_win['DrugCategory'] == 'antihyperglycemic', 1, 0)"
   ]
  },
  {
   "cell_type": "markdown",
   "id": "a738f205",
   "metadata": {},
   "source": [
    "#### Proton pump inhibitor"
   ]
  },
  {
   "cell_type": "code",
   "execution_count": 129,
   "id": "1cf2e740",
   "metadata": {},
   "outputs": [],
   "source": [
    "med_admin_win.loc[:, 'ppi_diag'] = np.where(med_admin_win['DrugCategory'] == 'proton pump inhibitor', 1, 0)"
   ]
  },
  {
   "cell_type": "markdown",
   "id": "4042d41e",
   "metadata": {},
   "source": [
    "#### Antidepressant"
   ]
  },
  {
   "cell_type": "code",
   "execution_count": 130,
   "id": "b260ce8d",
   "metadata": {},
   "outputs": [],
   "source": [
    "med_admin_win.loc[:, 'antidepressant_diag'] = np.where(med_admin_win['DrugCategory'] == 'antidepressant', 1, 0)"
   ]
  },
  {
   "cell_type": "markdown",
   "id": "03e97517",
   "metadata": {},
   "source": [
    "#### Bone therapy agent"
   ]
  },
  {
   "cell_type": "code",
   "execution_count": 131,
   "id": "a89a4a20",
   "metadata": {},
   "outputs": [],
   "source": [
    "med_admin_win.loc[:, 'bta_diag'] = np.where(med_admin_win['DrugCategory'] == 'bone therapy agent (bta)', 1, 0)"
   ]
  },
  {
   "cell_type": "markdown",
   "id": "a24cacc1",
   "metadata": {},
   "source": [
    "#### Hormone"
   ]
  },
  {
   "cell_type": "code",
   "execution_count": 132,
   "id": "85e6e981",
   "metadata": {},
   "outputs": [],
   "source": [
    "med_admin_win.loc[:, 'thyroid_diag'] = np.where(med_admin_win['CommonDrugName'] == 'levothyroxine', 1, 0)"
   ]
  },
  {
   "cell_type": "markdown",
   "id": "7bd6284a",
   "metadata": {},
   "source": [
    "#### Gout and hyperurecemia agent "
   ]
  },
  {
   "cell_type": "markdown",
   "id": "54e4c6ec",
   "metadata": {},
   "source": [
    "**No indicator variable created.** "
   ]
  },
  {
   "cell_type": "markdown",
   "id": "7bfb267d",
   "metadata": {},
   "source": [
    "#### 4.16 Immunosuppressive "
   ]
  },
  {
   "cell_type": "markdown",
   "id": "bd9122d4",
   "metadata": {},
   "source": [
    "**No indicator variable created.** "
   ]
  },
  {
   "cell_type": "markdown",
   "id": "17559bc5",
   "metadata": {},
   "source": [
    "#### Sedative agent"
   ]
  },
  {
   "cell_type": "markdown",
   "id": "6e5d8b5f",
   "metadata": {},
   "source": [
    "**No indicator variable created.** "
   ]
  },
  {
   "cell_type": "markdown",
   "id": "6ef48675",
   "metadata": {},
   "source": [
    "#### Endocrine"
   ]
  },
  {
   "cell_type": "markdown",
   "id": "a88f89ce",
   "metadata": {},
   "source": [
    "**No indicator variable created.** "
   ]
  },
  {
   "cell_type": "markdown",
   "id": "e1ecbe71",
   "metadata": {},
   "source": [
    "#### Antidote and reversal agent"
   ]
  },
  {
   "cell_type": "markdown",
   "id": "9c2dd949",
   "metadata": {},
   "source": [
    "**No indicator variable created.** "
   ]
  },
  {
   "cell_type": "markdown",
   "id": "34cddcba",
   "metadata": {},
   "source": [
    "#### Hyperglycemic"
   ]
  },
  {
   "cell_type": "markdown",
   "id": "47bd1168",
   "metadata": {},
   "source": [
    "**No indicator variable created.** "
   ]
  },
  {
   "cell_type": "markdown",
   "id": "4d8d3afe",
   "metadata": {},
   "source": [
    "#### Antithyroid agent"
   ]
  },
  {
   "cell_type": "markdown",
   "id": "c8107b17",
   "metadata": {},
   "source": [
    "**No indicator variable created.** "
   ]
  },
  {
   "cell_type": "markdown",
   "id": "3bd32ab7",
   "metadata": {},
   "source": [
    "#### Anticholinergic"
   ]
  },
  {
   "cell_type": "markdown",
   "id": "aac65a4b",
   "metadata": {},
   "source": [
    "**No indicator variable created.** "
   ]
  },
  {
   "cell_type": "markdown",
   "id": "51e99299",
   "metadata": {},
   "source": [
    "#### Calciumimetic"
   ]
  },
  {
   "cell_type": "markdown",
   "id": "d4da54e1",
   "metadata": {},
   "source": [
    "**No indicator variable created.** "
   ]
  },
  {
   "cell_type": "markdown",
   "id": "e96be5a3",
   "metadata": {},
   "source": [
    "#### Targeted therapy"
   ]
  },
  {
   "cell_type": "markdown",
   "id": "403562e3",
   "metadata": {},
   "source": [
    "**No indicator variable created.** "
   ]
  },
  {
   "cell_type": "markdown",
   "id": "7a821fd8",
   "metadata": {},
   "source": [
    "#### Condensing"
   ]
  },
  {
   "cell_type": "code",
   "execution_count": 133,
   "id": "84a51735",
   "metadata": {},
   "outputs": [],
   "source": [
    "# Select columns with indicator variables and PatientID, then collapse rows by PatientID and sum columns. \n",
    "med_admin_wide = (\n",
    "    med_admin_win\n",
    "    [med_admin_win.columns[med_admin_win.columns.str.contains('diag|PatientID')]]\n",
    "    .groupby('PatientID').sum()\n",
    ")"
   ]
  },
  {
   "cell_type": "code",
   "execution_count": 134,
   "id": "c17c13eb",
   "metadata": {},
   "outputs": [],
   "source": [
    "# Replace numbers greater than 1 with 1; 0 remains unchanged. \n",
    "med_admin_wide = (\n",
    "    med_admin_wide.mask(med_admin_wide > 1, 1)\n",
    "    .reset_index()\n",
    ")"
   ]
  },
  {
   "cell_type": "code",
   "execution_count": 135,
   "id": "280b77dd",
   "metadata": {},
   "outputs": [
    {
     "data": {
      "text/plain": [
       "(1189, 1189)"
      ]
     },
     "execution_count": 135,
     "metadata": {},
     "output_type": "execute_result"
    }
   ],
   "source": [
    "row_ID(med_admin_wide)"
   ]
  },
  {
   "cell_type": "code",
   "execution_count": 136,
   "id": "f82d827f",
   "metadata": {},
   "outputs": [],
   "source": [
    "# Append missing training IDs.\n",
    "med_admin_wide = (\n",
    "    med_admin_wide.append(\n",
    "        pd.Series(test_IDs)[~pd.Series(test_IDs).isin(med_admin_wide['PatientID'])].to_frame(name = 'PatientID'),\n",
    "        sort = False\n",
    "    )\n",
    "    .fillna(0)\n",
    ")"
   ]
  },
  {
   "cell_type": "code",
   "execution_count": 137,
   "id": "047d77bb",
   "metadata": {},
   "outputs": [
    {
     "data": {
      "text/plain": [
       "(3786, 3786)"
      ]
     },
     "execution_count": 137,
     "metadata": {},
     "output_type": "execute_result"
    }
   ],
   "source": [
    "row_ID(med_admin_wide)"
   ]
  },
  {
   "cell_type": "code",
   "execution_count": 138,
   "id": "c8b7118a",
   "metadata": {},
   "outputs": [
    {
     "data": {
      "text/plain": [
       "(3786, 13)"
      ]
     },
     "execution_count": 138,
     "metadata": {},
     "output_type": "execute_result"
    }
   ],
   "source": [
    "med_admin_wide.shape"
   ]
  },
  {
   "cell_type": "code",
   "execution_count": 139,
   "id": "f0476395",
   "metadata": {},
   "outputs": [
    {
     "data": {
      "text/html": [
       "<div>\n",
       "<style scoped>\n",
       "    .dataframe tbody tr th:only-of-type {\n",
       "        vertical-align: middle;\n",
       "    }\n",
       "\n",
       "    .dataframe tbody tr th {\n",
       "        vertical-align: top;\n",
       "    }\n",
       "\n",
       "    .dataframe thead th {\n",
       "        text-align: right;\n",
       "    }\n",
       "</style>\n",
       "<table border=\"1\" class=\"dataframe\">\n",
       "  <thead>\n",
       "    <tr style=\"text-align: right;\">\n",
       "      <th></th>\n",
       "      <th>PatientID</th>\n",
       "      <th>steroid_diag</th>\n",
       "      <th>opioid_PO_diag</th>\n",
       "      <th>nonopioid_PO_diag</th>\n",
       "      <th>pain_IV_diag</th>\n",
       "      <th>ac_diag</th>\n",
       "      <th>antiinfective_IV_diag</th>\n",
       "      <th>antiinfective_diag</th>\n",
       "      <th>antihyperglycemic_diag</th>\n",
       "      <th>ppi_diag</th>\n",
       "      <th>antidepressant_diag</th>\n",
       "      <th>bta_diag</th>\n",
       "      <th>thyroid_diag</th>\n",
       "    </tr>\n",
       "  </thead>\n",
       "  <tbody>\n",
       "    <tr>\n",
       "      <th>502</th>\n",
       "      <td>F97B3D2807992</td>\n",
       "      <td>0.0</td>\n",
       "      <td>0.0</td>\n",
       "      <td>0.0</td>\n",
       "      <td>0.0</td>\n",
       "      <td>0.0</td>\n",
       "      <td>0.0</td>\n",
       "      <td>0.0</td>\n",
       "      <td>0.0</td>\n",
       "      <td>0.0</td>\n",
       "      <td>0.0</td>\n",
       "      <td>0.0</td>\n",
       "      <td>0.0</td>\n",
       "    </tr>\n",
       "    <tr>\n",
       "      <th>1148</th>\n",
       "      <td>FE8F4364CC4BF</td>\n",
       "      <td>0.0</td>\n",
       "      <td>0.0</td>\n",
       "      <td>0.0</td>\n",
       "      <td>0.0</td>\n",
       "      <td>0.0</td>\n",
       "      <td>0.0</td>\n",
       "      <td>0.0</td>\n",
       "      <td>0.0</td>\n",
       "      <td>0.0</td>\n",
       "      <td>0.0</td>\n",
       "      <td>0.0</td>\n",
       "      <td>0.0</td>\n",
       "    </tr>\n",
       "    <tr>\n",
       "      <th>1060</th>\n",
       "      <td>FF85ACFFEB807</td>\n",
       "      <td>0.0</td>\n",
       "      <td>0.0</td>\n",
       "      <td>0.0</td>\n",
       "      <td>0.0</td>\n",
       "      <td>0.0</td>\n",
       "      <td>0.0</td>\n",
       "      <td>0.0</td>\n",
       "      <td>0.0</td>\n",
       "      <td>0.0</td>\n",
       "      <td>0.0</td>\n",
       "      <td>0.0</td>\n",
       "      <td>0.0</td>\n",
       "    </tr>\n",
       "    <tr>\n",
       "      <th>1047</th>\n",
       "      <td>FE01F28308E34</td>\n",
       "      <td>0.0</td>\n",
       "      <td>0.0</td>\n",
       "      <td>0.0</td>\n",
       "      <td>0.0</td>\n",
       "      <td>0.0</td>\n",
       "      <td>0.0</td>\n",
       "      <td>0.0</td>\n",
       "      <td>0.0</td>\n",
       "      <td>0.0</td>\n",
       "      <td>0.0</td>\n",
       "      <td>1.0</td>\n",
       "      <td>0.0</td>\n",
       "    </tr>\n",
       "    <tr>\n",
       "      <th>1298</th>\n",
       "      <td>F0304873974E6</td>\n",
       "      <td>0.0</td>\n",
       "      <td>0.0</td>\n",
       "      <td>0.0</td>\n",
       "      <td>0.0</td>\n",
       "      <td>0.0</td>\n",
       "      <td>0.0</td>\n",
       "      <td>0.0</td>\n",
       "      <td>0.0</td>\n",
       "      <td>0.0</td>\n",
       "      <td>0.0</td>\n",
       "      <td>0.0</td>\n",
       "      <td>0.0</td>\n",
       "    </tr>\n",
       "  </tbody>\n",
       "</table>\n",
       "</div>"
      ],
      "text/plain": [
       "          PatientID  steroid_diag  opioid_PO_diag  nonopioid_PO_diag  \\\n",
       "502   F97B3D2807992           0.0             0.0                0.0   \n",
       "1148  FE8F4364CC4BF           0.0             0.0                0.0   \n",
       "1060  FF85ACFFEB807           0.0             0.0                0.0   \n",
       "1047  FE01F28308E34           0.0             0.0                0.0   \n",
       "1298  F0304873974E6           0.0             0.0                0.0   \n",
       "\n",
       "      pain_IV_diag  ac_diag  antiinfective_IV_diag  antiinfective_diag  \\\n",
       "502            0.0      0.0                    0.0                 0.0   \n",
       "1148           0.0      0.0                    0.0                 0.0   \n",
       "1060           0.0      0.0                    0.0                 0.0   \n",
       "1047           0.0      0.0                    0.0                 0.0   \n",
       "1298           0.0      0.0                    0.0                 0.0   \n",
       "\n",
       "      antihyperglycemic_diag  ppi_diag  antidepressant_diag  bta_diag  \\\n",
       "502                      0.0       0.0                  0.0       0.0   \n",
       "1148                     0.0       0.0                  0.0       0.0   \n",
       "1060                     0.0       0.0                  0.0       0.0   \n",
       "1047                     0.0       0.0                  0.0       1.0   \n",
       "1298                     0.0       0.0                  0.0       0.0   \n",
       "\n",
       "      thyroid_diag  \n",
       "502            0.0  \n",
       "1148           0.0  \n",
       "1060           0.0  \n",
       "1047           0.0  \n",
       "1298           0.0  "
      ]
     },
     "execution_count": 139,
     "metadata": {},
     "output_type": "execute_result"
    }
   ],
   "source": [
    "med_admin_wide.sample(5)"
   ]
  },
  {
   "cell_type": "code",
   "execution_count": 140,
   "id": "b8e21f5d",
   "metadata": {},
   "outputs": [
    {
     "name": "stdout",
     "output_type": "stream",
     "text": [
      "Variable         Type         Data/Info\n",
      "---------------------------------------\n",
      "demographics     DataFrame              PatientID Gende<...>\\n[3786 rows x 6 columns]\n",
      "enhanced_met     DataFrame               PatientID diag<...>n[3786 rows x 17 columns]\n",
      "med_admin        DataFrame                PatientID    <...>143770 rows x 11 columns]\n",
      "med_admin_wide   DataFrame              PatientID  ster<...>n[3786 rows x 13 columns]\n",
      "med_admin_win    DataFrame                PatientID    <...>n[7486 rows x 24 columns]\n",
      "mortality        DataFrame              PatientID  deat<...>\\n[3786 rows x 3 columns]\n"
     ]
    }
   ],
   "source": [
    "%whos DataFrame"
   ]
  },
  {
   "cell_type": "code",
   "execution_count": 141,
   "id": "7c74aaf5",
   "metadata": {},
   "outputs": [],
   "source": [
    "# Keep demographics, enhanced_met, med_admin_wide, and mortality\n",
    "del med_admin\n",
    "del med_admin_win"
   ]
  },
  {
   "cell_type": "markdown",
   "id": "b0c83f5e",
   "metadata": {},
   "source": [
    "### 5. Enhanced_MetPC_Biomarkers"
   ]
  },
  {
   "cell_type": "code",
   "execution_count": 142,
   "id": "137db456",
   "metadata": {},
   "outputs": [],
   "source": [
    "biomarkers = pd.read_csv('Enhanced_MetPC_Biomarkers.csv')"
   ]
  },
  {
   "cell_type": "code",
   "execution_count": 143,
   "id": "b4773bce",
   "metadata": {},
   "outputs": [],
   "source": [
    "biomarkers = biomarkers[biomarkers['PatientID'].isin(test_IDs)]"
   ]
  },
  {
   "cell_type": "code",
   "execution_count": 144,
   "id": "a6cc3728",
   "metadata": {},
   "outputs": [
    {
     "data": {
      "text/plain": [
       "(1498, 9)"
      ]
     },
     "execution_count": 144,
     "metadata": {},
     "output_type": "execute_result"
    }
   ],
   "source": [
    "biomarkers.shape"
   ]
  },
  {
   "cell_type": "markdown",
   "id": "7290ebd6",
   "metadata": {},
   "source": [
    "**The Biomarkers dataframe is in a long format. The goal is to build a single-row-per-patient dataframe with columns reflecting a patient's biomarker status within a predefined elgibility window. For this project, the elgibility window is defined as negative infinity to +30 days from time of diagnosis of metastatic disease (ie., index date).** \n",
    "\n",
    "**Regarding biomarker date information, result date is the date the biomarker result was first reported, and so represents the date on which the clinician would be expected to have information about the patient’s biomarker status to inform the course of treatment. Flatiron recommends using result date as the relevant biomarker test date and using specimen received date as the proxy when result date is not available. The gaps between collected date and either received or result date are substantially more variable.**\n",
    "\n",
    "**We'll begin by imputing specimen received date when result date is missing. Then, we'll select all biomarkers that fall within the elbility window.**"
   ]
  },
  {
   "cell_type": "code",
   "execution_count": 145,
   "id": "c9a632b0",
   "metadata": {},
   "outputs": [],
   "source": [
    "biomarkers.loc[:, 'ResultDate'] = pd.to_datetime(biomarkers['ResultDate'])"
   ]
  },
  {
   "cell_type": "code",
   "execution_count": 146,
   "id": "694df64b",
   "metadata": {},
   "outputs": [],
   "source": [
    "biomarkers.loc[:, 'SpecimenReceivedDate'] = pd.to_datetime(biomarkers['SpecimenReceivedDate'])"
   ]
  },
  {
   "cell_type": "code",
   "execution_count": 147,
   "id": "a5bd928f",
   "metadata": {},
   "outputs": [],
   "source": [
    "# Replace missing result date with specimen received date. \n",
    "biomarkers.loc[:, 'result_date'] = (\n",
    "    np.where(biomarkers['ResultDate'].isna(), biomarkers['SpecimenReceivedDate'], biomarkers['ResultDate'])\n",
    ")"
   ]
  },
  {
   "cell_type": "code",
   "execution_count": 148,
   "id": "e9365bea",
   "metadata": {},
   "outputs": [],
   "source": [
    "biomarkers = pd.merge(biomarkers, enhanced_met[['PatientID', 'met_date']], on = 'PatientID', how = 'left')"
   ]
  },
  {
   "cell_type": "code",
   "execution_count": 149,
   "id": "e00ed2fe",
   "metadata": {},
   "outputs": [],
   "source": [
    "# Create new variable that captures difference in days between result date and metastatic diagnosis. \n",
    "biomarkers.loc[:, 'bio_date_diff'] = (biomarkers['result_date'] - biomarkers['met_date']).dt.days"
   ]
  },
  {
   "cell_type": "code",
   "execution_count": 150,
   "id": "992666bc",
   "metadata": {},
   "outputs": [],
   "source": [
    "# Select all patients with biomarkers < +30 from metastatic diagnosis. \n",
    "biomarker_win = biomarkers[biomarkers['bio_date_diff'] <= 30]"
   ]
  },
  {
   "cell_type": "markdown",
   "id": "8fd4997b",
   "metadata": {},
   "source": [
    "**BRCA will be defined as positive if ever-positive and negative if always-negative.**"
   ]
  },
  {
   "cell_type": "markdown",
   "id": "2f176619",
   "metadata": {},
   "source": [
    "#### Assigning patient-level biomarker status "
   ]
  },
  {
   "cell_type": "code",
   "execution_count": 151,
   "id": "4d97acdf",
   "metadata": {},
   "outputs": [
    {
     "name": "stderr",
     "output_type": "stream",
     "text": [
      "/Users/xavierorcutt/Dropbox/ist_project/myenv/lib/python3.7/site-packages/pandas/core/indexing.py:1667: SettingWithCopyWarning: \n",
      "A value is trying to be set on a copy of a slice from a DataFrame.\n",
      "Try using .loc[row_indexer,col_indexer] = value instead\n",
      "\n",
      "See the caveats in the documentation: https://pandas.pydata.org/pandas-docs/stable/user_guide/indexing.html#returning-a-view-versus-a-copy\n",
      "  self.obj[key] = value\n"
     ]
    }
   ],
   "source": [
    "# Create indicator variable where where 2 if positive, 1 if negative, and 0 if unknown or missing. \n",
    "conditions = [\n",
    "    (biomarker_win['BiomarkerStatus'] == 'BRCA1 mutation identified') |\n",
    "    (biomarker_win['BiomarkerStatus'] == 'BRCA2 mutation identified') |\n",
    "    (biomarker_win['BiomarkerStatus'] == 'Both BRCA1 and BRCA2 mutations identified') |\n",
    "    (biomarker_win['BiomarkerStatus'] == 'BRCA mutation NOS'),\n",
    "    (biomarker_win['BiomarkerStatus'] == 'No BRCA mutation')]\n",
    "\n",
    "choices = [2, 1]\n",
    "biomarker_win.loc[:, 'brca_status'] = np.select(conditions, choices, default = 0)"
   ]
  },
  {
   "cell_type": "code",
   "execution_count": 152,
   "id": "1b181b69",
   "metadata": {},
   "outputs": [],
   "source": [
    "biomarker_wide = (\n",
    "    biomarker_win\n",
    "    .sort_values(by = ['PatientID', 'brca_status'], ascending = False)\n",
    "    .drop_duplicates(subset = ['PatientID'], keep = 'first')\n",
    "    [['PatientID', 'brca_status']]\n",
    ")"
   ]
  },
  {
   "cell_type": "code",
   "execution_count": 153,
   "id": "4e37dd74",
   "metadata": {},
   "outputs": [
    {
     "data": {
      "text/plain": [
       "(155, 155)"
      ]
     },
     "execution_count": 153,
     "metadata": {},
     "output_type": "execute_result"
    }
   ],
   "source": [
    "row_ID(biomarker_wide)"
   ]
  },
  {
   "cell_type": "code",
   "execution_count": 154,
   "id": "0103bf89",
   "metadata": {},
   "outputs": [],
   "source": [
    "biomarker_wide['brca_status'] = (\n",
    "    biomarker_wide['brca_status'].replace({\n",
    "        2: 'positive',\n",
    "        1: 'negative',\n",
    "        0: 'unknown',\n",
    "        np.nan: 'unknown'})\n",
    ")"
   ]
  },
  {
   "cell_type": "code",
   "execution_count": 155,
   "id": "9997039b",
   "metadata": {},
   "outputs": [],
   "source": [
    "biomarker_wide = (\n",
    "    biomarker_wide\n",
    "    .append(\n",
    "        pd.Series(test_IDs)[~pd.Series(test_IDs).isin(biomarker_wide['PatientID'])].to_frame(name = 'PatientID'),\n",
    "        sort = False)\n",
    "    .fillna('unknown')\n",
    ")"
   ]
  },
  {
   "cell_type": "code",
   "execution_count": 156,
   "id": "e89dcf63",
   "metadata": {},
   "outputs": [
    {
     "data": {
      "text/plain": [
       "(3786, 3786)"
      ]
     },
     "execution_count": 156,
     "metadata": {},
     "output_type": "execute_result"
    }
   ],
   "source": [
    "row_ID(biomarker_wide)"
   ]
  },
  {
   "cell_type": "code",
   "execution_count": 157,
   "id": "20b01a22",
   "metadata": {},
   "outputs": [
    {
     "data": {
      "text/html": [
       "<div>\n",
       "<style scoped>\n",
       "    .dataframe tbody tr th:only-of-type {\n",
       "        vertical-align: middle;\n",
       "    }\n",
       "\n",
       "    .dataframe tbody tr th {\n",
       "        vertical-align: top;\n",
       "    }\n",
       "\n",
       "    .dataframe thead th {\n",
       "        text-align: right;\n",
       "    }\n",
       "</style>\n",
       "<table border=\"1\" class=\"dataframe\">\n",
       "  <thead>\n",
       "    <tr style=\"text-align: right;\">\n",
       "      <th></th>\n",
       "      <th>PatientID</th>\n",
       "      <th>brca_status</th>\n",
       "    </tr>\n",
       "  </thead>\n",
       "  <tbody>\n",
       "    <tr>\n",
       "      <th>3293</th>\n",
       "      <td>FE1E9F622929D</td>\n",
       "      <td>unknown</td>\n",
       "    </tr>\n",
       "    <tr>\n",
       "      <th>2940</th>\n",
       "      <td>F4A4B50580098</td>\n",
       "      <td>unknown</td>\n",
       "    </tr>\n",
       "    <tr>\n",
       "      <th>1275</th>\n",
       "      <td>FD809A0D7CA76</td>\n",
       "      <td>unknown</td>\n",
       "    </tr>\n",
       "    <tr>\n",
       "      <th>3310</th>\n",
       "      <td>F90AF8E8D313A</td>\n",
       "      <td>unknown</td>\n",
       "    </tr>\n",
       "    <tr>\n",
       "      <th>3529</th>\n",
       "      <td>F3BD80D3BBA40</td>\n",
       "      <td>unknown</td>\n",
       "    </tr>\n",
       "  </tbody>\n",
       "</table>\n",
       "</div>"
      ],
      "text/plain": [
       "          PatientID brca_status\n",
       "3293  FE1E9F622929D     unknown\n",
       "2940  F4A4B50580098     unknown\n",
       "1275  FD809A0D7CA76     unknown\n",
       "3310  F90AF8E8D313A     unknown\n",
       "3529  F3BD80D3BBA40     unknown"
      ]
     },
     "execution_count": 157,
     "metadata": {},
     "output_type": "execute_result"
    }
   ],
   "source": [
    "biomarker_wide.sample(5)"
   ]
  },
  {
   "cell_type": "code",
   "execution_count": 158,
   "id": "d5108d1c",
   "metadata": {},
   "outputs": [
    {
     "name": "stdout",
     "output_type": "stream",
     "text": [
      "Variable         Type         Data/Info\n",
      "---------------------------------------\n",
      "biomarker_wide   DataFrame              PatientID brca_<...>\\n[3786 rows x 2 columns]\n",
      "biomarker_win    DataFrame              PatientID Bioma<...>\\n[192 rows x 13 columns]\n",
      "biomarkers       DataFrame              PatientID Bioma<...>n[1498 rows x 12 columns]\n",
      "demographics     DataFrame              PatientID Gende<...>\\n[3786 rows x 6 columns]\n",
      "enhanced_met     DataFrame               PatientID diag<...>n[3786 rows x 17 columns]\n",
      "med_admin_wide   DataFrame              PatientID  ster<...>n[3786 rows x 13 columns]\n",
      "mortality        DataFrame              PatientID  deat<...>\\n[3786 rows x 3 columns]\n"
     ]
    }
   ],
   "source": [
    "%whos DataFrame"
   ]
  },
  {
   "cell_type": "code",
   "execution_count": 159,
   "id": "0aa59525",
   "metadata": {},
   "outputs": [],
   "source": [
    "# Keep biomarker_wide, demographics, enhanced_met, med_admin_wide, and mortality\n",
    "del biomarker_win\n",
    "del biomarkers"
   ]
  },
  {
   "cell_type": "markdown",
   "id": "32f42498",
   "metadata": {},
   "source": [
    "### 6. Insurance"
   ]
  },
  {
   "cell_type": "code",
   "execution_count": 160,
   "id": "5d55b4c6",
   "metadata": {},
   "outputs": [],
   "source": [
    "insurance = pd.read_csv('Insurance.csv')"
   ]
  },
  {
   "cell_type": "code",
   "execution_count": 161,
   "id": "26242d8d",
   "metadata": {},
   "outputs": [],
   "source": [
    "insurance = insurance[insurance['PatientID'].isin(test_IDs)]"
   ]
  },
  {
   "cell_type": "code",
   "execution_count": 162,
   "id": "c5d427a4",
   "metadata": {},
   "outputs": [
    {
     "data": {
      "text/plain": [
       "(12749, 3679)"
      ]
     },
     "execution_count": 162,
     "metadata": {},
     "output_type": "execute_result"
    }
   ],
   "source": [
    "row_ID(insurance)"
   ]
  },
  {
   "cell_type": "markdown",
   "id": "96d36d9e",
   "metadata": {},
   "source": [
    "**The insurance table contains patient insurance/payer information. Patients may have multiple payer categories concurrently. Start date is populated roughly 90% of the time, while end date is populated about 25% of the time. This mutiple-row-per-patient table will be transformed into a single-row-per-patient table. Indicator variables for each payer category active at time of metastatic diagnosis will be made as columns. Insurance will be considered active if start date is less than 30 days from metastatic diagnosis regardless of end date.** "
   ]
  },
  {
   "cell_type": "code",
   "execution_count": 163,
   "id": "cb5733bd",
   "metadata": {},
   "outputs": [],
   "source": [
    "insurance.loc[:, 'StartDate'] = pd.to_datetime(insurance['StartDate'])"
   ]
  },
  {
   "cell_type": "code",
   "execution_count": 164,
   "id": "d5704d15",
   "metadata": {},
   "outputs": [],
   "source": [
    "insurance = pd.merge(insurance, enhanced_met[['PatientID', 'met_date']], on = 'PatientID', how = 'left')"
   ]
  },
  {
   "cell_type": "code",
   "execution_count": 165,
   "id": "6865e5bd",
   "metadata": {},
   "outputs": [],
   "source": [
    "# Remove years with start dates less than 1920 which is likely a coding error. \n",
    "insurance = insurance[(insurance['StartDate']).dt.year >= 1920]"
   ]
  },
  {
   "cell_type": "code",
   "execution_count": 166,
   "id": "4dac421e",
   "metadata": {},
   "outputs": [],
   "source": [
    "insurance.loc[:, 'insurance_date_diff'] = (insurance['StartDate'] - insurance['met_date']).dt.days"
   ]
  },
  {
   "cell_type": "code",
   "execution_count": 167,
   "id": "d27ae2fb",
   "metadata": {},
   "outputs": [],
   "source": [
    "insurance_win = insurance[insurance['insurance_date_diff'] <= 30]"
   ]
  },
  {
   "cell_type": "code",
   "execution_count": 168,
   "id": "c6f92a0c",
   "metadata": {},
   "outputs": [
    {
     "data": {
      "text/plain": [
       "(11195, 3453)"
      ]
     },
     "execution_count": 168,
     "metadata": {},
     "output_type": "execute_result"
    }
   ],
   "source": [
    "row_ID(insurance)"
   ]
  },
  {
   "cell_type": "code",
   "execution_count": 169,
   "id": "374d67df",
   "metadata": {},
   "outputs": [
    {
     "name": "stderr",
     "output_type": "stream",
     "text": [
      "/Users/xavierorcutt/Dropbox/ist_project/myenv/lib/python3.7/site-packages/pandas/core/indexing.py:1667: SettingWithCopyWarning: \n",
      "A value is trying to be set on a copy of a slice from a DataFrame.\n",
      "Try using .loc[row_indexer,col_indexer] = value instead\n",
      "\n",
      "See the caveats in the documentation: https://pandas.pydata.org/pandas-docs/stable/user_guide/indexing.html#returning-a-view-versus-a-copy\n",
      "  self.obj[key] = value\n"
     ]
    }
   ],
   "source": [
    "# Recode payer category \n",
    "conditions = [\n",
    "    (insurance_win['IsMedicareAdv'] == 'Yes') | \n",
    "    (insurance_win['IsPartAOnly'] == 'Yes') | \n",
    "    (insurance_win['IsPartBOnly'] == 'Yes') |\n",
    "    (insurance_win['IsPartAandPartB'] == 'Yes') |\n",
    "    (insurance_win['IsPartDOnly'] == 'Yes'),\n",
    "    (insurance_win['IsManagedGovtPlan'] == 'Yes'),\n",
    "    (insurance_win['IsManagedMedicaid'] == 'Yes'),\n",
    "    (insurance_win['IsMedicareMedicaid'] == 'Yes')]\n",
    "\n",
    "choices = ['Medicare', 'Other Government Program', 'Medicaid', 'medicare_medicaid']\n",
    "\n",
    "insurance_win.loc[:, 'payer_category'] = np.select(conditions, choices, insurance_win['PayerCategory'])"
   ]
  },
  {
   "cell_type": "markdown",
   "id": "77dd41a0",
   "metadata": {},
   "source": [
    "#### Medicare"
   ]
  },
  {
   "cell_type": "code",
   "execution_count": 170,
   "id": "5288a20c",
   "metadata": {},
   "outputs": [],
   "source": [
    "insurance_win.loc[:, 'medicare'] = np.where(insurance_win['payer_category'] == 'Medicare', 1, 0)"
   ]
  },
  {
   "cell_type": "markdown",
   "id": "50dc5a3b",
   "metadata": {},
   "source": [
    "#### Medicaid"
   ]
  },
  {
   "cell_type": "code",
   "execution_count": 171,
   "id": "125e25e8",
   "metadata": {},
   "outputs": [],
   "source": [
    "insurance_win.loc[:, 'medicaid'] = np.where(insurance_win['payer_category'] == 'Medicaid', 1, 0)"
   ]
  },
  {
   "cell_type": "markdown",
   "id": "a6cc66f8",
   "metadata": {},
   "source": [
    "#### Medicare/Medicaid "
   ]
  },
  {
   "cell_type": "code",
   "execution_count": 172,
   "id": "58a9fc5d",
   "metadata": {},
   "outputs": [],
   "source": [
    "insurance_win.loc[:, 'medicare_medicaid'] = np.where(insurance_win['payer_category'] == 'medicare_medicaid', 1, 0)"
   ]
  },
  {
   "cell_type": "markdown",
   "id": "a5c57458",
   "metadata": {},
   "source": [
    "#### Commercial "
   ]
  },
  {
   "cell_type": "code",
   "execution_count": 173,
   "id": "22ee6d36",
   "metadata": {},
   "outputs": [],
   "source": [
    "insurance_win.loc[:, 'commercial'] = np.where(insurance_win['payer_category'] == 'Commercial Health Plan', 1, 0)"
   ]
  },
  {
   "cell_type": "markdown",
   "id": "5910a57b",
   "metadata": {},
   "source": [
    "#### Patient Assistance Programs "
   ]
  },
  {
   "cell_type": "code",
   "execution_count": 174,
   "id": "6bc2ea7c",
   "metadata": {},
   "outputs": [],
   "source": [
    "insurance_win.loc[:, 'patient_assistance'] = np.where(insurance_win['payer_category'] == 'Patient Assistance Program', 1, 0)"
   ]
  },
  {
   "cell_type": "markdown",
   "id": "3fcb5749",
   "metadata": {},
   "source": [
    "#### Other Government Program "
   ]
  },
  {
   "cell_type": "code",
   "execution_count": 175,
   "id": "4d1973c6",
   "metadata": {},
   "outputs": [],
   "source": [
    "insurance_win.loc[:, 'other_govt'] = np.where(insurance_win['payer_category'] == 'Other Government Program', 1, 0)"
   ]
  },
  {
   "cell_type": "markdown",
   "id": "9c865dcc",
   "metadata": {},
   "source": [
    "#### Self Pay "
   ]
  },
  {
   "cell_type": "code",
   "execution_count": 176,
   "id": "c65aa5f9",
   "metadata": {},
   "outputs": [],
   "source": [
    "insurance_win.loc[:, 'self_pay'] = np.where(insurance_win['payer_category'] == 'Self Pay', 1, 0)"
   ]
  },
  {
   "cell_type": "markdown",
   "id": "d2630987",
   "metadata": {},
   "source": [
    "#### Other Payer"
   ]
  },
  {
   "cell_type": "code",
   "execution_count": 177,
   "id": "730c5c39",
   "metadata": {},
   "outputs": [],
   "source": [
    "insurance_win.loc[:, 'other'] = np.where(insurance_win['payer_category'] == 'Other Payer - Type Unknown', 1, 0)"
   ]
  },
  {
   "cell_type": "markdown",
   "id": "02a354e1",
   "metadata": {},
   "source": [
    "#### Condense "
   ]
  },
  {
   "cell_type": "code",
   "execution_count": 178,
   "id": "8038d1b7",
   "metadata": {},
   "outputs": [],
   "source": [
    "# After dropping 'insurance_date_diff', add columns by PatientID.\n",
    "insurance_wide = (\n",
    "    insurance_win\n",
    "    .drop(columns = ['insurance_date_diff'])\n",
    "    .groupby('PatientID').sum()\n",
    ")"
   ]
  },
  {
   "cell_type": "code",
   "execution_count": 179,
   "id": "8476530e",
   "metadata": {},
   "outputs": [],
   "source": [
    "# Set any value greater than 1 to 1; leave 0 unchanged. \n",
    "insurance_wide = (\n",
    "    insurance_wide\n",
    "    .mask(insurance_wide > 1, 1)\n",
    "    .reset_index()\n",
    ")"
   ]
  },
  {
   "cell_type": "code",
   "execution_count": 180,
   "id": "ee5d6812",
   "metadata": {},
   "outputs": [
    {
     "data": {
      "text/plain": [
       "(2792, 2792)"
      ]
     },
     "execution_count": 180,
     "metadata": {},
     "output_type": "execute_result"
    }
   ],
   "source": [
    "row_ID(insurance_wide)"
   ]
  },
  {
   "cell_type": "code",
   "execution_count": 181,
   "id": "df470d56",
   "metadata": {},
   "outputs": [],
   "source": [
    "# Append missing training IDs.\n",
    "insurance_wide = (\n",
    "    insurance_wide\n",
    "    .append(\n",
    "        pd.Series(test_IDs)[~pd.Series(test_IDs).isin(insurance_wide['PatientID'])].to_frame(name = 'PatientID'),\n",
    "        sort = False)\n",
    ")"
   ]
  },
  {
   "cell_type": "code",
   "execution_count": 182,
   "id": "195c5549",
   "metadata": {},
   "outputs": [
    {
     "data": {
      "text/plain": [
       "(3786, 3786)"
      ]
     },
     "execution_count": 182,
     "metadata": {},
     "output_type": "execute_result"
    }
   ],
   "source": [
    "row_ID(insurance_wide)"
   ]
  },
  {
   "cell_type": "code",
   "execution_count": 183,
   "id": "6c5cc562",
   "metadata": {},
   "outputs": [],
   "source": [
    "insurance_wide = insurance_wide.fillna(0)"
   ]
  },
  {
   "cell_type": "code",
   "execution_count": 184,
   "id": "2c68f604",
   "metadata": {},
   "outputs": [
    {
     "data": {
      "text/html": [
       "<div>\n",
       "<style scoped>\n",
       "    .dataframe tbody tr th:only-of-type {\n",
       "        vertical-align: middle;\n",
       "    }\n",
       "\n",
       "    .dataframe tbody tr th {\n",
       "        vertical-align: top;\n",
       "    }\n",
       "\n",
       "    .dataframe thead th {\n",
       "        text-align: right;\n",
       "    }\n",
       "</style>\n",
       "<table border=\"1\" class=\"dataframe\">\n",
       "  <thead>\n",
       "    <tr style=\"text-align: right;\">\n",
       "      <th></th>\n",
       "      <th>PatientID</th>\n",
       "      <th>medicare</th>\n",
       "      <th>medicaid</th>\n",
       "      <th>medicare_medicaid</th>\n",
       "      <th>commercial</th>\n",
       "      <th>patient_assistance</th>\n",
       "      <th>other_govt</th>\n",
       "      <th>self_pay</th>\n",
       "      <th>other</th>\n",
       "    </tr>\n",
       "  </thead>\n",
       "  <tbody>\n",
       "    <tr>\n",
       "      <th>1964</th>\n",
       "      <td>FB33F0DC5E7AB</td>\n",
       "      <td>0.0</td>\n",
       "      <td>0.0</td>\n",
       "      <td>0.0</td>\n",
       "      <td>1.0</td>\n",
       "      <td>0.0</td>\n",
       "      <td>0.0</td>\n",
       "      <td>0.0</td>\n",
       "      <td>0.0</td>\n",
       "    </tr>\n",
       "    <tr>\n",
       "      <th>2222</th>\n",
       "      <td>FCB6EC5C05B22</td>\n",
       "      <td>0.0</td>\n",
       "      <td>0.0</td>\n",
       "      <td>0.0</td>\n",
       "      <td>1.0</td>\n",
       "      <td>0.0</td>\n",
       "      <td>0.0</td>\n",
       "      <td>0.0</td>\n",
       "      <td>0.0</td>\n",
       "    </tr>\n",
       "    <tr>\n",
       "      <th>579</th>\n",
       "      <td>F320850E3168C</td>\n",
       "      <td>1.0</td>\n",
       "      <td>0.0</td>\n",
       "      <td>0.0</td>\n",
       "      <td>0.0</td>\n",
       "      <td>0.0</td>\n",
       "      <td>0.0</td>\n",
       "      <td>0.0</td>\n",
       "      <td>0.0</td>\n",
       "    </tr>\n",
       "    <tr>\n",
       "      <th>1502</th>\n",
       "      <td>F89D83090DBE2</td>\n",
       "      <td>1.0</td>\n",
       "      <td>0.0</td>\n",
       "      <td>0.0</td>\n",
       "      <td>0.0</td>\n",
       "      <td>0.0</td>\n",
       "      <td>0.0</td>\n",
       "      <td>0.0</td>\n",
       "      <td>0.0</td>\n",
       "    </tr>\n",
       "    <tr>\n",
       "      <th>2221</th>\n",
       "      <td>FCB6D6DFAC379</td>\n",
       "      <td>1.0</td>\n",
       "      <td>0.0</td>\n",
       "      <td>0.0</td>\n",
       "      <td>1.0</td>\n",
       "      <td>0.0</td>\n",
       "      <td>0.0</td>\n",
       "      <td>0.0</td>\n",
       "      <td>0.0</td>\n",
       "    </tr>\n",
       "  </tbody>\n",
       "</table>\n",
       "</div>"
      ],
      "text/plain": [
       "          PatientID  medicare  medicaid  medicare_medicaid  commercial  \\\n",
       "1964  FB33F0DC5E7AB       0.0       0.0                0.0         1.0   \n",
       "2222  FCB6EC5C05B22       0.0       0.0                0.0         1.0   \n",
       "579   F320850E3168C       1.0       0.0                0.0         0.0   \n",
       "1502  F89D83090DBE2       1.0       0.0                0.0         0.0   \n",
       "2221  FCB6D6DFAC379       1.0       0.0                0.0         1.0   \n",
       "\n",
       "      patient_assistance  other_govt  self_pay  other  \n",
       "1964                 0.0         0.0       0.0    0.0  \n",
       "2222                 0.0         0.0       0.0    0.0  \n",
       "579                  0.0         0.0       0.0    0.0  \n",
       "1502                 0.0         0.0       0.0    0.0  \n",
       "2221                 0.0         0.0       0.0    0.0  "
      ]
     },
     "execution_count": 184,
     "metadata": {},
     "output_type": "execute_result"
    }
   ],
   "source": [
    "insurance_wide.sample(5)"
   ]
  },
  {
   "cell_type": "code",
   "execution_count": 185,
   "id": "908b56c7",
   "metadata": {},
   "outputs": [
    {
     "name": "stdout",
     "output_type": "stream",
     "text": [
      "Variable         Type         Data/Info\n",
      "---------------------------------------\n",
      "biomarker_wide   DataFrame              PatientID brca_<...>\\n[3786 rows x 2 columns]\n",
      "demographics     DataFrame              PatientID Gende<...>\\n[3786 rows x 6 columns]\n",
      "enhanced_met     DataFrame               PatientID diag<...>n[3786 rows x 17 columns]\n",
      "insurance        DataFrame               PatientID     <...>[11195 rows x 15 columns]\n",
      "insurance_wide   DataFrame              PatientID  medi<...>\\n[3786 rows x 9 columns]\n",
      "insurance_win    DataFrame               PatientID     <...>n[5724 rows x 24 columns]\n",
      "med_admin_wide   DataFrame              PatientID  ster<...>n[3786 rows x 13 columns]\n",
      "mortality        DataFrame              PatientID  deat<...>\\n[3786 rows x 3 columns]\n"
     ]
    }
   ],
   "source": [
    "%whos DataFrame"
   ]
  },
  {
   "cell_type": "code",
   "execution_count": 186,
   "id": "3687d5a3",
   "metadata": {},
   "outputs": [],
   "source": [
    "# Keep biomarker_wide, demographics, enhanced_met, insurance_wide, med_admin_wide, and mortality\n",
    "del insurance\n",
    "del insurance_win"
   ]
  },
  {
   "cell_type": "markdown",
   "id": "a5866622",
   "metadata": {},
   "source": [
    "### 7. ECOG"
   ]
  },
  {
   "cell_type": "code",
   "execution_count": 187,
   "id": "f28feff7",
   "metadata": {},
   "outputs": [],
   "source": [
    "ecog = pd.read_csv('ECOG.csv')"
   ]
  },
  {
   "cell_type": "code",
   "execution_count": 188,
   "id": "613d15a4",
   "metadata": {},
   "outputs": [],
   "source": [
    "ecog = ecog[ecog['PatientID'].isin(test_IDs)]"
   ]
  },
  {
   "cell_type": "code",
   "execution_count": 189,
   "id": "2f45f791",
   "metadata": {},
   "outputs": [
    {
     "data": {
      "text/plain": [
       "(51606, 2905)"
      ]
     },
     "execution_count": 189,
     "metadata": {},
     "output_type": "execute_result"
    }
   ],
   "source": [
    "row_ID(ecog)"
   ]
  },
  {
   "cell_type": "code",
   "execution_count": 190,
   "id": "65b0fb91",
   "metadata": {},
   "outputs": [
    {
     "data": {
      "text/html": [
       "<div>\n",
       "<style scoped>\n",
       "    .dataframe tbody tr th:only-of-type {\n",
       "        vertical-align: middle;\n",
       "    }\n",
       "\n",
       "    .dataframe tbody tr th {\n",
       "        vertical-align: top;\n",
       "    }\n",
       "\n",
       "    .dataframe thead th {\n",
       "        text-align: right;\n",
       "    }\n",
       "</style>\n",
       "<table border=\"1\" class=\"dataframe\">\n",
       "  <thead>\n",
       "    <tr style=\"text-align: right;\">\n",
       "      <th></th>\n",
       "      <th>PatientID</th>\n",
       "      <th>EcogDate</th>\n",
       "      <th>EcogValue</th>\n",
       "    </tr>\n",
       "  </thead>\n",
       "  <tbody>\n",
       "    <tr>\n",
       "      <th>216075</th>\n",
       "      <td>FA8E1C6B36463</td>\n",
       "      <td>2020-10-28</td>\n",
       "      <td>0</td>\n",
       "    </tr>\n",
       "    <tr>\n",
       "      <th>69517</th>\n",
       "      <td>F6309BAA73D3F</td>\n",
       "      <td>2017-12-22</td>\n",
       "      <td>1</td>\n",
       "    </tr>\n",
       "    <tr>\n",
       "      <th>172811</th>\n",
       "      <td>F2190205E52BA</td>\n",
       "      <td>2020-09-30</td>\n",
       "      <td>2</td>\n",
       "    </tr>\n",
       "    <tr>\n",
       "      <th>127623</th>\n",
       "      <td>FFA9C96FF4767</td>\n",
       "      <td>2018-06-05</td>\n",
       "      <td>1</td>\n",
       "    </tr>\n",
       "    <tr>\n",
       "      <th>97906</th>\n",
       "      <td>F18C44D5204AB</td>\n",
       "      <td>2017-08-25</td>\n",
       "      <td>0</td>\n",
       "    </tr>\n",
       "  </tbody>\n",
       "</table>\n",
       "</div>"
      ],
      "text/plain": [
       "            PatientID    EcogDate  EcogValue\n",
       "216075  FA8E1C6B36463  2020-10-28          0\n",
       "69517   F6309BAA73D3F  2017-12-22          1\n",
       "172811  F2190205E52BA  2020-09-30          2\n",
       "127623  FFA9C96FF4767  2018-06-05          1\n",
       "97906   F18C44D5204AB  2017-08-25          0"
      ]
     },
     "execution_count": 190,
     "metadata": {},
     "output_type": "execute_result"
    }
   ],
   "source": [
    "ecog.sample(5)"
   ]
  },
  {
   "cell_type": "markdown",
   "id": "05140d95",
   "metadata": {},
   "source": [
    "**The ECOG table is a longitudinal record of structured ECOG scores captured in the EHR for each patient. Many patients have multiple ECOG scores reported. A new dataframe will be built where one ECOG score will be assigned to each patient. The index date will be date of advanced diagnosis with an elgible window period of +30 days to -90 days from advanced diagnosis. The ECOG score closest to index date will be assigned to the patient. In the case of two ECOG scores on the same day or equidistant but on opposite sides of the index date, the higher ECOG score (worse performance) will be selected.** \n",
    "\n",
    "**BaselineECOG is a composite table that selects one ECOG score within +7 days and -30 days of a line of therapy. Patients might have two baseline ECOG values for line number 1 due to maintenance therapy. BaselineECOG will not be used for creating baseline models.** "
   ]
  },
  {
   "cell_type": "code",
   "execution_count": 191,
   "id": "7f23dc6a",
   "metadata": {},
   "outputs": [],
   "source": [
    "ecog = pd.merge(ecog, enhanced_met[['PatientID', 'met_date']], on = 'PatientID', how = 'left')"
   ]
  },
  {
   "cell_type": "code",
   "execution_count": 192,
   "id": "72316a06",
   "metadata": {},
   "outputs": [],
   "source": [
    "ecog.loc[:, 'EcogDate'] = pd.to_datetime(ecog['EcogDate'])      "
   ]
  },
  {
   "cell_type": "code",
   "execution_count": 193,
   "id": "9aef0c90",
   "metadata": {},
   "outputs": [],
   "source": [
    "ecog.loc[:, 'ecog_date_diff'] = (ecog['EcogDate'] - ecog['met_date']).dt.days"
   ]
  },
  {
   "cell_type": "code",
   "execution_count": 194,
   "id": "9f897197",
   "metadata": {},
   "outputs": [],
   "source": [
    "ecog_win = ecog[(ecog['ecog_date_diff'] >= -90) & (ecog['ecog_date_diff'] <= 30)]"
   ]
  },
  {
   "cell_type": "code",
   "execution_count": 195,
   "id": "570043ff",
   "metadata": {},
   "outputs": [
    {
     "name": "stderr",
     "output_type": "stream",
     "text": [
      "/Users/xavierorcutt/Dropbox/ist_project/myenv/lib/python3.7/site-packages/pandas/core/indexing.py:1773: SettingWithCopyWarning: \n",
      "A value is trying to be set on a copy of a slice from a DataFrame.\n",
      "Try using .loc[row_indexer,col_indexer] = value instead\n",
      "\n",
      "See the caveats in the documentation: https://pandas.pydata.org/pandas-docs/stable/user_guide/indexing.html#returning-a-view-versus-a-copy\n",
      "  self._setitem_single_column(ilocs[0], value, pi)\n"
     ]
    }
   ],
   "source": [
    "# Time from metastatic diagnosis to ECOG date will be converted to an absolute value. \n",
    "ecog_win.loc[:, 'ecog_date_diff'] = ecog_win['ecog_date_diff'].abs()"
   ]
  },
  {
   "cell_type": "code",
   "execution_count": 196,
   "id": "3fbefe1b",
   "metadata": {},
   "outputs": [],
   "source": [
    "# Sort values with ECOG nearest to time of diagnosis as top row (and largest ECOG if multiple ECOGs that day) then select top row.   ECOG date nearest to day of diagnosis as top row and largest ES\n",
    "ecog_diagnosis_wide = (\n",
    "    ecog_win\n",
    "    .sort_values(by = ['PatientID', 'ecog_date_diff', 'EcogValue'], ascending = [True, True, False])\n",
    "    .drop_duplicates(subset = ['PatientID'], keep = 'first' )\n",
    "    .filter(items = ['PatientID', 'EcogValue'])\n",
    "    .rename(columns = {'EcogValue': 'ecog_diagnosis'})\n",
    ")"
   ]
  },
  {
   "cell_type": "code",
   "execution_count": 197,
   "id": "3f0a6aa2",
   "metadata": {},
   "outputs": [
    {
     "data": {
      "text/plain": [
       "(1183, 1183)"
      ]
     },
     "execution_count": 197,
     "metadata": {},
     "output_type": "execute_result"
    }
   ],
   "source": [
    "row_ID(ecog_diagnosis_wide)"
   ]
  },
  {
   "cell_type": "code",
   "execution_count": 198,
   "id": "35820969",
   "metadata": {},
   "outputs": [],
   "source": [
    "# Append missing training IDs. \n",
    "ecog_diagnosis_wide = (\n",
    "    ecog_diagnosis_wide\n",
    "    .append(\n",
    "        pd.Series(test_IDs)[~pd.Series(test_IDs).isin(ecog_diagnosis_wide['PatientID'])].to_frame(name = 'PatientID'),\n",
    "        sort = False)\n",
    "    .fillna('unknown')\n",
    ")"
   ]
  },
  {
   "cell_type": "code",
   "execution_count": 199,
   "id": "0cc8c9ef",
   "metadata": {},
   "outputs": [
    {
     "data": {
      "text/plain": [
       "(3786, 3786)"
      ]
     },
     "execution_count": 199,
     "metadata": {},
     "output_type": "execute_result"
    }
   ],
   "source": [
    "row_ID(ecog_diagnosis_wide)"
   ]
  },
  {
   "cell_type": "code",
   "execution_count": 200,
   "id": "54a3855d",
   "metadata": {},
   "outputs": [
    {
     "data": {
      "text/html": [
       "<div>\n",
       "<style scoped>\n",
       "    .dataframe tbody tr th:only-of-type {\n",
       "        vertical-align: middle;\n",
       "    }\n",
       "\n",
       "    .dataframe tbody tr th {\n",
       "        vertical-align: top;\n",
       "    }\n",
       "\n",
       "    .dataframe thead th {\n",
       "        text-align: right;\n",
       "    }\n",
       "</style>\n",
       "<table border=\"1\" class=\"dataframe\">\n",
       "  <thead>\n",
       "    <tr style=\"text-align: right;\">\n",
       "      <th></th>\n",
       "      <th>PatientID</th>\n",
       "      <th>ecog_diagnosis</th>\n",
       "    </tr>\n",
       "  </thead>\n",
       "  <tbody>\n",
       "    <tr>\n",
       "      <th>2591</th>\n",
       "      <td>F1982EFAF14C2</td>\n",
       "      <td>unknown</td>\n",
       "    </tr>\n",
       "    <tr>\n",
       "      <th>3646</th>\n",
       "      <td>FB6574DFC583F</td>\n",
       "      <td>unknown</td>\n",
       "    </tr>\n",
       "    <tr>\n",
       "      <th>3111</th>\n",
       "      <td>F3243E34B83CD</td>\n",
       "      <td>unknown</td>\n",
       "    </tr>\n",
       "    <tr>\n",
       "      <th>2149</th>\n",
       "      <td>FF0877FF13AAB</td>\n",
       "      <td>unknown</td>\n",
       "    </tr>\n",
       "    <tr>\n",
       "      <th>3026</th>\n",
       "      <td>F22EF6ACCA41B</td>\n",
       "      <td>unknown</td>\n",
       "    </tr>\n",
       "  </tbody>\n",
       "</table>\n",
       "</div>"
      ],
      "text/plain": [
       "          PatientID ecog_diagnosis\n",
       "2591  F1982EFAF14C2        unknown\n",
       "3646  FB6574DFC583F        unknown\n",
       "3111  F3243E34B83CD        unknown\n",
       "2149  FF0877FF13AAB        unknown\n",
       "3026  F22EF6ACCA41B        unknown"
      ]
     },
     "execution_count": 200,
     "metadata": {},
     "output_type": "execute_result"
    }
   ],
   "source": [
    "ecog_diagnosis_wide.sample(5)"
   ]
  },
  {
   "cell_type": "code",
   "execution_count": 201,
   "id": "8ccba020",
   "metadata": {},
   "outputs": [
    {
     "name": "stdout",
     "output_type": "stream",
     "text": [
      "Variable              Type         Data/Info\n",
      "--------------------------------------------\n",
      "biomarker_wide        DataFrame              PatientID brca_<...>\\n[3786 rows x 2 columns]\n",
      "demographics          DataFrame              PatientID Gende<...>\\n[3786 rows x 6 columns]\n",
      "ecog                  DataFrame               PatientID   Ec<...>n[51606 rows x 5 columns]\n",
      "ecog_diagnosis_wide   DataFrame               PatientID ecog<...>\\n[3786 rows x 2 columns]\n",
      "ecog_win              DataFrame               PatientID   Ec<...>\\n[2669 rows x 5 columns]\n",
      "enhanced_met          DataFrame               PatientID diag<...>n[3786 rows x 17 columns]\n",
      "insurance_wide        DataFrame              PatientID  medi<...>\\n[3786 rows x 9 columns]\n",
      "med_admin_wide        DataFrame              PatientID  ster<...>n[3786 rows x 13 columns]\n",
      "mortality             DataFrame              PatientID  deat<...>\\n[3786 rows x 3 columns]\n"
     ]
    }
   ],
   "source": [
    "%whos DataFrame"
   ]
  },
  {
   "cell_type": "code",
   "execution_count": 202,
   "id": "7f25b3fd",
   "metadata": {},
   "outputs": [],
   "source": [
    "# Keep biomarker_wide, demographics, ecog_diagnosis_wide, enhanced_met, insurance_wide, med_admin_wide, and mortality\n",
    "del ecog\n",
    "del ecog_win"
   ]
  },
  {
   "cell_type": "markdown",
   "id": "a7b2a97f",
   "metadata": {},
   "source": [
    "### 8. Vitals"
   ]
  },
  {
   "cell_type": "code",
   "execution_count": 203,
   "id": "b2934125",
   "metadata": {},
   "outputs": [],
   "source": [
    "vitals = pd.read_csv('Vitals.csv')"
   ]
  },
  {
   "cell_type": "code",
   "execution_count": 204,
   "id": "d6c597fc",
   "metadata": {},
   "outputs": [],
   "source": [
    "vitals = vitals[vitals['PatientID'].isin(test_IDs)]"
   ]
  },
  {
   "cell_type": "code",
   "execution_count": 205,
   "id": "bf987430",
   "metadata": {},
   "outputs": [
    {
     "data": {
      "text/plain": [
       "(734652, 3777)"
      ]
     },
     "execution_count": 205,
     "metadata": {},
     "output_type": "execute_result"
    }
   ],
   "source": [
    "row_ID(vitals)"
   ]
  },
  {
   "cell_type": "markdown",
   "id": "7282009d",
   "metadata": {},
   "source": [
    "**The Vitals table is a longitudinal record of vitals captured in the EHR for each patient. A weight and BMI variable at time of advanced diagnosis will be created. The elgibility window will be -90 days to +30 days from advanced diagnosis. Average height from all visits will be used to calculate BMI. In the case of two weights on the same day or equidistant but on opposite sides of the index date, the lowest weight will be selected. Percent change in weight and weight slope 3 months within metastatic diagnosis will be calculated. Patients must have at least two weight recordings to calculate percent change in weight or weight slope.** "
   ]
  },
  {
   "cell_type": "markdown",
   "id": "6a9c6a3f",
   "metadata": {},
   "source": [
    "#### Weight and BMI"
   ]
  },
  {
   "cell_type": "code",
   "execution_count": 206,
   "id": "e57cacbb",
   "metadata": {},
   "outputs": [],
   "source": [
    "# Create weight dataframe; remove weight values that are empty or equal to zero.\n",
    "weight = (\n",
    "    vitals\n",
    "    .query('Test == \"body weight\"')\n",
    "    .filter(items = ['PatientID', 'TestDate', 'TestResultCleaned'])\n",
    "    .rename(columns = {'TestResultCleaned': 'weight'})\n",
    "    .dropna(subset = ['weight'])\n",
    "    .query('weight != 0')\n",
    ")"
   ]
  },
  {
   "cell_type": "code",
   "execution_count": 207,
   "id": "d388dd25",
   "metadata": {},
   "outputs": [],
   "source": [
    "weight.loc[:, 'TestDate'] = pd.to_datetime(weight['TestDate'])"
   ]
  },
  {
   "cell_type": "code",
   "execution_count": 208,
   "id": "abe957d9",
   "metadata": {},
   "outputs": [],
   "source": [
    "weight = pd.merge(weight, enhanced_met[['PatientID', 'met_date']], on = 'PatientID', how = 'left')"
   ]
  },
  {
   "cell_type": "code",
   "execution_count": 209,
   "id": "38c3dfe8",
   "metadata": {},
   "outputs": [],
   "source": [
    "# Weight elgibliity window is -90 and +30 from metastatic diagnosis diagnosis. \n",
    "weight_win_bmi = (\n",
    "    weight\n",
    "    .assign(weight_date_diff = (weight['TestDate'] - weight['met_date']).dt.days)\n",
    "    .query('weight_date_diff >= -90 and weight_date_diff <= 30')\n",
    ")"
   ]
  },
  {
   "cell_type": "code",
   "execution_count": 210,
   "id": "7cb3c08c",
   "metadata": {},
   "outputs": [],
   "source": [
    "weight_win_bmi.loc[:, 'weight_date_diff'] = weight_win_bmi['weight_date_diff'].abs()"
   ]
  },
  {
   "cell_type": "code",
   "execution_count": 211,
   "id": "b5ea17a1",
   "metadata": {},
   "outputs": [],
   "source": [
    "# Select weight closest to date of metastatic diagnosis; lowest weight selected in the event of two weights on same day or equidistant. \n",
    "weight_bmi_wide = (\n",
    "    weight_win_bmi\n",
    "    .sort_values(by = ['PatientID', 'weight_date_diff', 'weight'], ascending = [True, True, True])\n",
    "    .drop_duplicates(subset = ['PatientID'], keep = 'first')\n",
    "    .filter(items = ['PatientID', 'weight'])\n",
    "    .rename(columns = {'weight': 'weight_diag'})\n",
    ")"
   ]
  },
  {
   "cell_type": "code",
   "execution_count": 212,
   "id": "4c55c01b",
   "metadata": {},
   "outputs": [],
   "source": [
    "# Dataframe of average height for each patient. \n",
    "height_avg = (\n",
    "    vitals\n",
    "    .query('Test == \"body height\"')\n",
    "    .filter(items = ['PatientID', 'TestResultCleaned'])\n",
    "    .query('TestResultCleaned > 0')\n",
    "    .groupby('PatientID')['TestResultCleaned'].mean()\n",
    "    .to_frame()\n",
    "    .reset_index()\n",
    "    .rename(columns = {'TestResultCleaned': 'height_avg'})\n",
    ")"
   ]
  },
  {
   "cell_type": "code",
   "execution_count": 213,
   "id": "68f67523",
   "metadata": {},
   "outputs": [],
   "source": [
    "weight_bmi_wide = pd.merge(weight_bmi_wide, height_avg, on = 'PatientID', how = 'left')"
   ]
  },
  {
   "cell_type": "code",
   "execution_count": 214,
   "id": "2e30f948",
   "metadata": {},
   "outputs": [],
   "source": [
    "# Create BMI column. \n",
    "weight_bmi_wide = (\n",
    "    weight_bmi_wide\n",
    "    .assign(bmi_diag = lambda x: (x['weight_diag']/(x['height_avg']*x['height_avg']))*10000)\n",
    "    .drop(columns = ['height_avg'])\n",
    ")"
   ]
  },
  {
   "cell_type": "code",
   "execution_count": 215,
   "id": "97a77abf",
   "metadata": {},
   "outputs": [],
   "source": [
    "# Append excluded IDs from training set and create a missing variable for those without BMI at diagnosis. \n",
    "weight_bmi_wide = (\n",
    "    weight_bmi_wide\n",
    "    .append(\n",
    "        pd.Series(test_IDs)[~pd.Series(test_IDs).isin(weight_bmi_wide['PatientID'])].to_frame(name = 'PatientID'),\n",
    "        sort = False)\n",
    ")"
   ]
  },
  {
   "cell_type": "code",
   "execution_count": 216,
   "id": "9cafc87c",
   "metadata": {},
   "outputs": [
    {
     "data": {
      "text/plain": [
       "(3786, 3786)"
      ]
     },
     "execution_count": 216,
     "metadata": {},
     "output_type": "execute_result"
    }
   ],
   "source": [
    "row_ID(weight_bmi_wide)"
   ]
  },
  {
   "cell_type": "code",
   "execution_count": 217,
   "id": "cd270d49",
   "metadata": {},
   "outputs": [],
   "source": [
    "weight_bmi_wide.loc[:, 'bmi_diag_na'] = np.where(weight_bmi_wide['bmi_diag'].isna(), 1, 0)"
   ]
  },
  {
   "cell_type": "code",
   "execution_count": 218,
   "id": "07cb705d",
   "metadata": {},
   "outputs": [
    {
     "data": {
      "text/html": [
       "<div>\n",
       "<style scoped>\n",
       "    .dataframe tbody tr th:only-of-type {\n",
       "        vertical-align: middle;\n",
       "    }\n",
       "\n",
       "    .dataframe tbody tr th {\n",
       "        vertical-align: top;\n",
       "    }\n",
       "\n",
       "    .dataframe thead th {\n",
       "        text-align: right;\n",
       "    }\n",
       "</style>\n",
       "<table border=\"1\" class=\"dataframe\">\n",
       "  <thead>\n",
       "    <tr style=\"text-align: right;\">\n",
       "      <th></th>\n",
       "      <th>PatientID</th>\n",
       "      <th>weight_diag</th>\n",
       "      <th>bmi_diag</th>\n",
       "      <th>bmi_diag_na</th>\n",
       "    </tr>\n",
       "  </thead>\n",
       "  <tbody>\n",
       "    <tr>\n",
       "      <th>3348</th>\n",
       "      <td>FA78DE4C513CB</td>\n",
       "      <td>NaN</td>\n",
       "      <td>NaN</td>\n",
       "      <td>1</td>\n",
       "    </tr>\n",
       "    <tr>\n",
       "      <th>1479</th>\n",
       "      <td>FB411CB5B113A</td>\n",
       "      <td>76.657048</td>\n",
       "      <td>26.170558</td>\n",
       "      <td>0</td>\n",
       "    </tr>\n",
       "    <tr>\n",
       "      <th>579</th>\n",
       "      <td>F467348D8FFE5</td>\n",
       "      <td>56.971155</td>\n",
       "      <td>17.517450</td>\n",
       "      <td>0</td>\n",
       "    </tr>\n",
       "    <tr>\n",
       "      <th>3363</th>\n",
       "      <td>F7BCF0A731126</td>\n",
       "      <td>NaN</td>\n",
       "      <td>NaN</td>\n",
       "      <td>1</td>\n",
       "    </tr>\n",
       "    <tr>\n",
       "      <th>1562</th>\n",
       "      <td>F06CE0544475C</td>\n",
       "      <td>NaN</td>\n",
       "      <td>NaN</td>\n",
       "      <td>1</td>\n",
       "    </tr>\n",
       "  </tbody>\n",
       "</table>\n",
       "</div>"
      ],
      "text/plain": [
       "          PatientID  weight_diag   bmi_diag  bmi_diag_na\n",
       "3348  FA78DE4C513CB          NaN        NaN            1\n",
       "1479  FB411CB5B113A    76.657048  26.170558            0\n",
       "579   F467348D8FFE5    56.971155  17.517450            0\n",
       "3363  F7BCF0A731126          NaN        NaN            1\n",
       "1562  F06CE0544475C          NaN        NaN            1"
      ]
     },
     "execution_count": 218,
     "metadata": {},
     "output_type": "execute_result"
    }
   ],
   "source": [
    "weight_bmi_wide.sample(5)"
   ]
  },
  {
   "cell_type": "markdown",
   "id": "49fe275f",
   "metadata": {},
   "source": [
    "#### Percent change "
   ]
  },
  {
   "cell_type": "code",
   "execution_count": 219,
   "id": "e9fa85ca",
   "metadata": {},
   "outputs": [],
   "source": [
    "# Select elgbility window of -90 to +90 days from metastatic diagnosis.\n",
    "weight_win_summary = (\n",
    "    weight\n",
    "    .assign(weight_date_diff = (weight['TestDate'] - weight['met_date']).dt.days)\n",
    "    .query('weight_date_diff >= -90 and weight_date_diff <= 90')\n",
    ")"
   ]
  },
  {
   "cell_type": "code",
   "execution_count": 220,
   "id": "8291366d",
   "metadata": {},
   "outputs": [],
   "source": [
    "# Select patients with more than 1 weight recording within elgibility window.\n",
    "weight_win_summary = weight_win_summary[weight_win_summary.duplicated(subset = ['PatientID'], keep = False)]"
   ]
  },
  {
   "cell_type": "code",
   "execution_count": 221,
   "id": "62c10bfb",
   "metadata": {},
   "outputs": [],
   "source": [
    "# Select weight from the earliest time within elgibility window. \n",
    "weight_tmin = weight_win_summary.loc[weight_win_summary.groupby('PatientID')['weight_date_diff'].idxmin()]"
   ]
  },
  {
   "cell_type": "code",
   "execution_count": 222,
   "id": "728741fe",
   "metadata": {},
   "outputs": [],
   "source": [
    "# Select weight from the latest time within elgibility window. \n",
    "weight_tmax = weight_win_summary.loc[weight_win_summary.groupby('PatientID')['weight_date_diff'].idxmax()]"
   ]
  },
  {
   "cell_type": "code",
   "execution_count": 223,
   "id": "33e6cec1",
   "metadata": {},
   "outputs": [],
   "source": [
    "# Combine above two dataframes and sort from earliest recorded weight to latest recorded weight for each patient. \n",
    "weight_tcomb = (\n",
    "    pd.concat([weight_tmin, weight_tmax])\n",
    "    .sort_values(by = ['PatientID', 'weight_date_diff'], ascending = True)\n",
    ")"
   ]
  },
  {
   "cell_type": "code",
   "execution_count": 224,
   "id": "eb890c3d",
   "metadata": {},
   "outputs": [
    {
     "data": {
      "text/plain": [
       "(4602, 2301)"
      ]
     },
     "execution_count": 224,
     "metadata": {},
     "output_type": "execute_result"
    }
   ],
   "source": [
    "row_ID(weight_tcomb)"
   ]
  },
  {
   "cell_type": "code",
   "execution_count": 225,
   "id": "4aea51cf",
   "metadata": {},
   "outputs": [],
   "source": [
    "weight_tcomb.loc[:, 'weight_pct_change'] = weight_tcomb.groupby('PatientID')['weight'].pct_change()"
   ]
  },
  {
   "cell_type": "code",
   "execution_count": 226,
   "id": "406462e9",
   "metadata": {},
   "outputs": [],
   "source": [
    "weight_tcomb.loc[:, 'diff_date_diff'] = weight_tcomb['weight_date_diff'].diff()"
   ]
  },
  {
   "cell_type": "code",
   "execution_count": 227,
   "id": "4fd7d3c8",
   "metadata": {},
   "outputs": [],
   "source": [
    "# Drop empty rows for weight_pct_change.\n",
    "weight_pct_wide = (\n",
    "    weight_tcomb\n",
    "    .dropna(subset = ['weight_pct_change'])\n",
    "    .filter(items = ['PatientID', 'weight_pct_change', 'diff_date_diff'])\n",
    ")"
   ]
  },
  {
   "cell_type": "code",
   "execution_count": 228,
   "id": "ae4cfbdb",
   "metadata": {},
   "outputs": [
    {
     "data": {
      "text/plain": [
       "(2301, 2301)"
      ]
     },
     "execution_count": 228,
     "metadata": {},
     "output_type": "execute_result"
    }
   ],
   "source": [
    "row_ID(weight_pct_wide)"
   ]
  },
  {
   "cell_type": "code",
   "execution_count": 229,
   "id": "4e7d617a",
   "metadata": {},
   "outputs": [],
   "source": [
    "# Append missing training IDs and create a missing variable for those without weight_pct_change. \n",
    "weight_pct_wide = (\n",
    "    weight_pct_wide\n",
    "    .append(\n",
    "        pd.Series(test_IDs)[~pd.Series(test_IDs).isin(weight_pct_wide['PatientID'])].to_frame(name = 'PatientID'),\n",
    "        sort = False)\n",
    "    .drop(columns = ['diff_date_diff'])\n",
    ")"
   ]
  },
  {
   "cell_type": "code",
   "execution_count": 230,
   "id": "74695825",
   "metadata": {},
   "outputs": [
    {
     "data": {
      "text/plain": [
       "(3786, 3786)"
      ]
     },
     "execution_count": 230,
     "metadata": {},
     "output_type": "execute_result"
    }
   ],
   "source": [
    "row_ID(weight_pct_wide)"
   ]
  },
  {
   "cell_type": "code",
   "execution_count": 231,
   "id": "fb07355d",
   "metadata": {},
   "outputs": [],
   "source": [
    "weight_pct_wide.loc[:, 'weight_pct_na'] = np.where(weight_pct_wide['weight_pct_change'].isna(), 1, 0)"
   ]
  },
  {
   "cell_type": "code",
   "execution_count": 232,
   "id": "9197844b",
   "metadata": {},
   "outputs": [
    {
     "data": {
      "text/html": [
       "<div>\n",
       "<style scoped>\n",
       "    .dataframe tbody tr th:only-of-type {\n",
       "        vertical-align: middle;\n",
       "    }\n",
       "\n",
       "    .dataframe tbody tr th {\n",
       "        vertical-align: top;\n",
       "    }\n",
       "\n",
       "    .dataframe thead th {\n",
       "        text-align: right;\n",
       "    }\n",
       "</style>\n",
       "<table border=\"1\" class=\"dataframe\">\n",
       "  <thead>\n",
       "    <tr style=\"text-align: right;\">\n",
       "      <th></th>\n",
       "      <th>PatientID</th>\n",
       "      <th>weight_pct_change</th>\n",
       "      <th>weight_pct_na</th>\n",
       "    </tr>\n",
       "  </thead>\n",
       "  <tbody>\n",
       "    <tr>\n",
       "      <th>1997</th>\n",
       "      <td>FA91434830A66</td>\n",
       "      <td>NaN</td>\n",
       "      <td>1</td>\n",
       "    </tr>\n",
       "    <tr>\n",
       "      <th>1196</th>\n",
       "      <td>FC0F21660A789</td>\n",
       "      <td>0.004502</td>\n",
       "      <td>0</td>\n",
       "    </tr>\n",
       "    <tr>\n",
       "      <th>4149</th>\n",
       "      <td>F41B931F7B426</td>\n",
       "      <td>0.027165</td>\n",
       "      <td>0</td>\n",
       "    </tr>\n",
       "    <tr>\n",
       "      <th>17622</th>\n",
       "      <td>F06CE0544475C</td>\n",
       "      <td>0.000000</td>\n",
       "      <td>0</td>\n",
       "    </tr>\n",
       "    <tr>\n",
       "      <th>16862</th>\n",
       "      <td>FCC2C3E5EC54F</td>\n",
       "      <td>-0.004975</td>\n",
       "      <td>0</td>\n",
       "    </tr>\n",
       "  </tbody>\n",
       "</table>\n",
       "</div>"
      ],
      "text/plain": [
       "           PatientID  weight_pct_change  weight_pct_na\n",
       "1997   FA91434830A66                NaN              1\n",
       "1196   FC0F21660A789           0.004502              0\n",
       "4149   F41B931F7B426           0.027165              0\n",
       "17622  F06CE0544475C           0.000000              0\n",
       "16862  FCC2C3E5EC54F          -0.004975              0"
      ]
     },
     "execution_count": 232,
     "metadata": {},
     "output_type": "execute_result"
    }
   ],
   "source": [
    "weight_pct_wide.sample(5)"
   ]
  },
  {
   "cell_type": "markdown",
   "id": "1c0c3e71",
   "metadata": {},
   "source": [
    "#### Weight slope"
   ]
  },
  {
   "cell_type": "code",
   "execution_count": 233,
   "id": "c3038bb9",
   "metadata": {},
   "outputs": [],
   "source": [
    "from scipy.stats import linregress "
   ]
  },
  {
   "cell_type": "code",
   "execution_count": 234,
   "id": "192f74c1",
   "metadata": {},
   "outputs": [],
   "source": [
    "weight_win_summary.loc[:, 'date_ordinal'] = weight_win_summary['TestDate'].map(dt.datetime.toordinal)"
   ]
  },
  {
   "cell_type": "code",
   "execution_count": 235,
   "id": "682a2e25",
   "metadata": {},
   "outputs": [
    {
     "name": "stderr",
     "output_type": "stream",
     "text": [
      "/Users/xavierorcutt/Dropbox/ist_project/myenv/lib/python3.7/site-packages/scipy/stats/_stats_mstats_common.py:170: RuntimeWarning: invalid value encountered in double_scalars\n",
      "  slope = ssxym / ssxm\n",
      "/Users/xavierorcutt/Dropbox/ist_project/myenv/lib/python3.7/site-packages/scipy/stats/_stats_mstats_common.py:187: RuntimeWarning: divide by zero encountered in double_scalars\n",
      "  slope_stderr = np.sqrt((1 - r**2) * ssym / ssxm / df)\n"
     ]
    }
   ],
   "source": [
    "# Dataframe of slope for weight recordings within window period (kg/day).\n",
    "weight_slope_wide = (\n",
    "    weight_win_summary\n",
    "    .groupby('PatientID')\n",
    "    .apply(lambda x: pd.Series(linregress(x['date_ordinal'], x['weight'])))\n",
    "    .rename(columns = {0: 'weight_slope'})\n",
    "    .reset_index()\n",
    "    .filter(items = ['PatientID', 'weight_slope']))   "
   ]
  },
  {
   "cell_type": "code",
   "execution_count": 236,
   "id": "64a13fbf",
   "metadata": {},
   "outputs": [
    {
     "data": {
      "text/plain": [
       "(2301, 2301)"
      ]
     },
     "execution_count": 236,
     "metadata": {},
     "output_type": "execute_result"
    }
   ],
   "source": [
    "row_ID(weight_slope_wide)"
   ]
  },
  {
   "cell_type": "code",
   "execution_count": 237,
   "id": "d5d6067c",
   "metadata": {},
   "outputs": [],
   "source": [
    "# Append missing training IDs. \n",
    "weight_slope_wide = (\n",
    "    weight_slope_wide\n",
    "    .append(\n",
    "        pd.Series(test_IDs)[~pd.Series(test_IDs).isin(weight_slope_wide['PatientID'])].to_frame(name = 'PatientID'),\n",
    "        sort = False)\n",
    ")"
   ]
  },
  {
   "cell_type": "code",
   "execution_count": 238,
   "id": "2df28e34",
   "metadata": {},
   "outputs": [
    {
     "data": {
      "text/plain": [
       "(3786, 3786)"
      ]
     },
     "execution_count": 238,
     "metadata": {},
     "output_type": "execute_result"
    }
   ],
   "source": [
    "row_ID(weight_slope_wide)"
   ]
  },
  {
   "cell_type": "code",
   "execution_count": 239,
   "id": "34f496af",
   "metadata": {},
   "outputs": [
    {
     "data": {
      "text/html": [
       "<div>\n",
       "<style scoped>\n",
       "    .dataframe tbody tr th:only-of-type {\n",
       "        vertical-align: middle;\n",
       "    }\n",
       "\n",
       "    .dataframe tbody tr th {\n",
       "        vertical-align: top;\n",
       "    }\n",
       "\n",
       "    .dataframe thead th {\n",
       "        text-align: right;\n",
       "    }\n",
       "</style>\n",
       "<table border=\"1\" class=\"dataframe\">\n",
       "  <thead>\n",
       "    <tr style=\"text-align: right;\">\n",
       "      <th></th>\n",
       "      <th>PatientID</th>\n",
       "      <th>weight_slope</th>\n",
       "    </tr>\n",
       "  </thead>\n",
       "  <tbody>\n",
       "    <tr>\n",
       "      <th>44</th>\n",
       "      <td>F04E4F98E30A6</td>\n",
       "      <td>-0.048432</td>\n",
       "    </tr>\n",
       "    <tr>\n",
       "      <th>2223</th>\n",
       "      <td>FF763291C3B02</td>\n",
       "      <td>0.050694</td>\n",
       "    </tr>\n",
       "    <tr>\n",
       "      <th>1321</th>\n",
       "      <td>FFC3FE3A7A983</td>\n",
       "      <td>NaN</td>\n",
       "    </tr>\n",
       "    <tr>\n",
       "      <th>1070</th>\n",
       "      <td>F71D4B21CF41C</td>\n",
       "      <td>-0.016800</td>\n",
       "    </tr>\n",
       "    <tr>\n",
       "      <th>914</th>\n",
       "      <td>F60538EF8B1DC</td>\n",
       "      <td>0.009257</td>\n",
       "    </tr>\n",
       "  </tbody>\n",
       "</table>\n",
       "</div>"
      ],
      "text/plain": [
       "          PatientID  weight_slope\n",
       "44    F04E4F98E30A6     -0.048432\n",
       "2223  FF763291C3B02      0.050694\n",
       "1321  FFC3FE3A7A983           NaN\n",
       "1070  F71D4B21CF41C     -0.016800\n",
       "914   F60538EF8B1DC      0.009257"
      ]
     },
     "execution_count": 239,
     "metadata": {},
     "output_type": "execute_result"
    }
   ],
   "source": [
    "weight_slope_wide.sample(5)"
   ]
  },
  {
   "cell_type": "markdown",
   "id": "4f9ac800",
   "metadata": {},
   "source": [
    "#### Weight merge "
   ]
  },
  {
   "cell_type": "code",
   "execution_count": 240,
   "id": "4f646c66",
   "metadata": {},
   "outputs": [],
   "source": [
    "weight_wide = pd.merge(weight_bmi_wide, weight_pct_wide, on = 'PatientID')"
   ]
  },
  {
   "cell_type": "code",
   "execution_count": 241,
   "id": "35bfe7e3",
   "metadata": {},
   "outputs": [],
   "source": [
    "weight_wide = pd.merge(weight_wide, weight_slope_wide, on = 'PatientID')"
   ]
  },
  {
   "cell_type": "code",
   "execution_count": 242,
   "id": "27f68014",
   "metadata": {},
   "outputs": [
    {
     "data": {
      "text/plain": [
       "(3786, 3786)"
      ]
     },
     "execution_count": 242,
     "metadata": {},
     "output_type": "execute_result"
    }
   ],
   "source": [
    "row_ID(weight_wide)"
   ]
  },
  {
   "cell_type": "code",
   "execution_count": 243,
   "id": "fff04d7e",
   "metadata": {},
   "outputs": [
    {
     "data": {
      "text/html": [
       "<div>\n",
       "<style scoped>\n",
       "    .dataframe tbody tr th:only-of-type {\n",
       "        vertical-align: middle;\n",
       "    }\n",
       "\n",
       "    .dataframe tbody tr th {\n",
       "        vertical-align: top;\n",
       "    }\n",
       "\n",
       "    .dataframe thead th {\n",
       "        text-align: right;\n",
       "    }\n",
       "</style>\n",
       "<table border=\"1\" class=\"dataframe\">\n",
       "  <thead>\n",
       "    <tr style=\"text-align: right;\">\n",
       "      <th></th>\n",
       "      <th>PatientID</th>\n",
       "      <th>weight_diag</th>\n",
       "      <th>bmi_diag</th>\n",
       "      <th>bmi_diag_na</th>\n",
       "      <th>weight_pct_change</th>\n",
       "      <th>weight_pct_na</th>\n",
       "      <th>weight_slope</th>\n",
       "    </tr>\n",
       "  </thead>\n",
       "  <tbody>\n",
       "    <tr>\n",
       "      <th>418</th>\n",
       "      <td>F3288F9647724</td>\n",
       "      <td>85.728888</td>\n",
       "      <td>30.505060</td>\n",
       "      <td>0</td>\n",
       "      <td>NaN</td>\n",
       "      <td>1</td>\n",
       "      <td>NaN</td>\n",
       "    </tr>\n",
       "    <tr>\n",
       "      <th>978</th>\n",
       "      <td>F74C1DAC2E072</td>\n",
       "      <td>99.790240</td>\n",
       "      <td>30.404023</td>\n",
       "      <td>0</td>\n",
       "      <td>-0.009009</td>\n",
       "      <td>0</td>\n",
       "      <td>-0.028630</td>\n",
       "    </tr>\n",
       "    <tr>\n",
       "      <th>1596</th>\n",
       "      <td>FC389E19A5820</td>\n",
       "      <td>53.433138</td>\n",
       "      <td>17.023734</td>\n",
       "      <td>0</td>\n",
       "      <td>-0.027165</td>\n",
       "      <td>0</td>\n",
       "      <td>-0.055827</td>\n",
       "    </tr>\n",
       "    <tr>\n",
       "      <th>2949</th>\n",
       "      <td>F57DAF087B7E6</td>\n",
       "      <td>NaN</td>\n",
       "      <td>NaN</td>\n",
       "      <td>1</td>\n",
       "      <td>NaN</td>\n",
       "      <td>1</td>\n",
       "      <td>NaN</td>\n",
       "    </tr>\n",
       "    <tr>\n",
       "      <th>2494</th>\n",
       "      <td>F19A57B53D51A</td>\n",
       "      <td>NaN</td>\n",
       "      <td>NaN</td>\n",
       "      <td>1</td>\n",
       "      <td>NaN</td>\n",
       "      <td>1</td>\n",
       "      <td>NaN</td>\n",
       "    </tr>\n",
       "  </tbody>\n",
       "</table>\n",
       "</div>"
      ],
      "text/plain": [
       "          PatientID  weight_diag   bmi_diag  bmi_diag_na  weight_pct_change  \\\n",
       "418   F3288F9647724    85.728888  30.505060            0                NaN   \n",
       "978   F74C1DAC2E072    99.790240  30.404023            0          -0.009009   \n",
       "1596  FC389E19A5820    53.433138  17.023734            0          -0.027165   \n",
       "2949  F57DAF087B7E6          NaN        NaN            1                NaN   \n",
       "2494  F19A57B53D51A          NaN        NaN            1                NaN   \n",
       "\n",
       "      weight_pct_na  weight_slope  \n",
       "418               1           NaN  \n",
       "978               0     -0.028630  \n",
       "1596              0     -0.055827  \n",
       "2949              1           NaN  \n",
       "2494              1           NaN  "
      ]
     },
     "execution_count": 243,
     "metadata": {},
     "output_type": "execute_result"
    }
   ],
   "source": [
    "weight_wide.sample(5)"
   ]
  },
  {
   "cell_type": "code",
   "execution_count": 244,
   "id": "5096aeb7",
   "metadata": {},
   "outputs": [
    {
     "name": "stdout",
     "output_type": "stream",
     "text": [
      "Variable              Type         Data/Info\n",
      "--------------------------------------------\n",
      "biomarker_wide        DataFrame              PatientID brca_<...>\\n[3786 rows x 2 columns]\n",
      "demographics          DataFrame              PatientID Gende<...>\\n[3786 rows x 6 columns]\n",
      "ecog_diagnosis_wide   DataFrame               PatientID ecog<...>\\n[3786 rows x 2 columns]\n",
      "enhanced_met          DataFrame               PatientID diag<...>n[3786 rows x 17 columns]\n",
      "height_avg            DataFrame              PatientID  heig<...>\\n[3736 rows x 2 columns]\n",
      "insurance_wide        DataFrame              PatientID  medi<...>\\n[3786 rows x 9 columns]\n",
      "med_admin_wide        DataFrame              PatientID  ster<...>n[3786 rows x 13 columns]\n",
      "mortality             DataFrame              PatientID  deat<...>\\n[3786 rows x 3 columns]\n",
      "vitals                DataFrame                 PatientID   <...>734652 rows x 15 columns]\n",
      "weight                DataFrame               PatientID   Te<...>n[97442 rows x 4 columns]\n",
      "weight_bmi_wide       DataFrame              PatientID  weig<...>\\n[3786 rows x 4 columns]\n",
      "weight_pct_wide       DataFrame               PatientID  wei<...>\\n[3786 rows x 3 columns]\n",
      "weight_slope_wide     DataFrame              PatientID  weig<...>\\n[3786 rows x 2 columns]\n",
      "weight_tcomb          DataFrame               PatientID   Te<...>\\n[4602 rows x 7 columns]\n",
      "weight_tmax           DataFrame               PatientID   Te<...>\\n[2301 rows x 5 columns]\n",
      "weight_tmin           DataFrame               PatientID   Te<...>\\n[2301 rows x 5 columns]\n",
      "weight_wide           DataFrame              PatientID  weig<...>\\n[3786 rows x 7 columns]\n",
      "weight_win_bmi        DataFrame               PatientID   Te<...>\\n[5831 rows x 5 columns]\n",
      "weight_win_summary    DataFrame               PatientID   Te<...>n[11712 rows x 6 columns]\n"
     ]
    }
   ],
   "source": [
    "%whos DataFrame"
   ]
  },
  {
   "cell_type": "code",
   "execution_count": 245,
   "id": "2ebdab06",
   "metadata": {},
   "outputs": [],
   "source": [
    "# Keep biomarker_wide, demographics, ecog_diagnosis_wide, enhanced_met, insurance_wide, med_admin_wide, mortality, \n",
    "# and weight_wide\n",
    "del height_avg\n",
    "del vitals\n",
    "del weight\n",
    "del weight_bmi_wide\n",
    "del weight_pct_wide\n",
    "del weight_slope_wide\n",
    "del weight_tcomb\n",
    "del weight_tmax\n",
    "del weight_tmin\n",
    "del weight_win_bmi\n",
    "del weight_win_summary"
   ]
  },
  {
   "cell_type": "markdown",
   "id": "64648fc7",
   "metadata": {},
   "source": [
    "### 9. Labs"
   ]
  },
  {
   "cell_type": "code",
   "execution_count": 246,
   "id": "c0683e03",
   "metadata": {},
   "outputs": [],
   "source": [
    "lab = pd.read_csv('Lab.csv')"
   ]
  },
  {
   "cell_type": "code",
   "execution_count": 247,
   "id": "6e90a788",
   "metadata": {},
   "outputs": [],
   "source": [
    "lab = lab[lab['PatientID'].isin(test_IDs)]"
   ]
  },
  {
   "cell_type": "code",
   "execution_count": 248,
   "id": "081e73be",
   "metadata": {},
   "outputs": [
    {
     "data": {
      "text/plain": [
       "(2302346, 3696)"
      ]
     },
     "execution_count": 248,
     "metadata": {},
     "output_type": "execute_result"
    }
   ],
   "source": [
    "row_ID(lab)"
   ]
  },
  {
   "cell_type": "markdown",
   "id": "6f90d505",
   "metadata": {},
   "source": [
    "**The Lab table is a longitudinal record of lab captured in the EHR with multiple-rows-per-patient. A single-patient-per-row table will be built focusing on the following NCCN recommended labs:** \n",
    "* **Creatinine -- (LOINC: 2160-0 and 38483-4)**\n",
    "* **Hemoglobin -- (LOINC: 718-7 and 20509-6)**\n",
    "* **White blood cell count -- (LOINC: 26464-8 and 6690-2)**\n",
    "* **Neutrophil count -- (LOINC: 26499-4, 751-8, 30451-9, and 753-4)**\n",
    "* **Albumin, serum -- (LOINC: 1751-7)**\n",
    "* **Total bilirubin -- (LOINC: 42719-5 and 1975-2)**\n",
    "* **Sodium — (LOINC: 2947-0 and 2951-2)**\n",
    "* **Bicarb — (LOINC: 1963-8, 1959-6, 14627-4, 1960-4, and 2028-9)**\n",
    "* **Calcium — (LOINC: 17861-6 and 49765-1)** \n",
    "* **AST — (LOINC: 1920-8)**\n",
    "* **ALT — (LOINC: 1742-6, 1743-4, and 1744-2)**\n",
    "* **Platelet -- (LOINC: 26515-7, 777-3, 778-1, and 49497-1)**\n",
    "* **Potassium -- (LOINC: 6298-4 and 2823-3)**\n",
    "* **Chloride -- (LOINC: 2075-0)**\n",
    "* **BUN -- (LOINC: 3094-0)**\n",
    "* **ALP -- (LOINC: 6768-6)**\n",
    "* **PSA -- (LOINC: 2857-1)**\n",
    "\n",
    "**The index date will be time of advanced diagnosis with an elgibility window of -90 days to +30 days. The lab value closest to the index date will be selected for each patient. The following summary statistics, using an elgibility window of negative infinity to +30 days from advanced diagnosis, will also be created for the above variables:** \n",
    "* **Max**\n",
    "* **Min**\n",
    "* **Mean**\n",
    "* **Standard deviation** \n",
    "* **Slope**"
   ]
  },
  {
   "cell_type": "markdown",
   "id": "46950471",
   "metadata": {},
   "source": [
    "#### 9.1 Baseline lab values"
   ]
  },
  {
   "cell_type": "code",
   "execution_count": 249,
   "id": "df8ee4ac",
   "metadata": {},
   "outputs": [],
   "source": [
    "lab = pd.merge(lab, enhanced_met[['PatientID', 'met_date']], on = 'PatientID', how = 'left')"
   ]
  },
  {
   "cell_type": "code",
   "execution_count": 250,
   "id": "5ce9004e",
   "metadata": {},
   "outputs": [],
   "source": [
    "lab.loc[:, 'ResultDate'] = pd.to_datetime(lab['ResultDate']) "
   ]
  },
  {
   "cell_type": "code",
   "execution_count": 251,
   "id": "ede50f1e",
   "metadata": {},
   "outputs": [],
   "source": [
    "# Select rows with clinically relevant labs.\n",
    "lab_core = (\n",
    "    lab[\n",
    "    (lab['LOINC'] == \"2160-0\") |\n",
    "    (lab['LOINC'] == \"38483-4\") | \n",
    "    (lab['LOINC'] == \"718-7\") |\n",
    "    (lab['LOINC'] == \"20509-6\") |\n",
    "    (lab['LOINC'] == \"26464-8\") |\n",
    "    (lab['LOINC'] == \"6690-2\") |\n",
    "    (lab['LOINC'] == \"26499-4\") |\n",
    "    (lab['LOINC'] == \"751-8\") |\n",
    "    (lab['LOINC'] == \"30451-9\") |\n",
    "    (lab['LOINC'] == \"753-4\") |\n",
    "    (lab['LOINC'] == \"1751-7\") |\n",
    "    (lab['LOINC'] == \"42719-5\") |\n",
    "    (lab['LOINC'] == \"1975-2\") |\n",
    "    (lab['LOINC'] == \"2947-0\") |\n",
    "    (lab['LOINC'] == \"2951-2\") |\n",
    "    (lab['LOINC'] == \"1963-8\") |\n",
    "    (lab['LOINC'] == \"1959-6\") |\n",
    "    (lab['LOINC'] == \"14627-4\") |\n",
    "    (lab['LOINC'] == \"1960-4\") |\n",
    "    (lab['LOINC'] == \"2028-9\") |\n",
    "    (lab['LOINC'] == \"17861-6\") |\n",
    "    (lab['LOINC'] == \"49765-1\") |\n",
    "    (lab['LOINC'] == \"1920-8\") |\n",
    "    (lab['LOINC'] == \"1742-6\") | \n",
    "    (lab['LOINC'] == \"1743-4\") |\n",
    "    (lab['LOINC'] == \"1744-2\") |\n",
    "    (lab['LOINC'] == \"26515-7\") | \n",
    "    (lab['LOINC'] == \"777-3\") |\n",
    "    (lab['LOINC'] == \"778-1\") |\n",
    "    (lab['LOINC'] == \"49497-1\") | \n",
    "    (lab['LOINC'] == \"6298-4\") |\n",
    "    (lab['LOINC'] == \"2823-3\") |\n",
    "    (lab['LOINC'] == \"2075-0\") | \n",
    "    (lab['LOINC'] == \"3094-0\") | \n",
    "    (lab['LOINC'] == \"6768-6\") | \n",
    "    (lab['LOINC'] == \"2857-1\")]\n",
    "    .filter(items = ['PatientID', \n",
    "                     'ResultDate', \n",
    "                     'LOINC', \n",
    "                     'LabComponent', \n",
    "                     'TestUnits', \n",
    "                     'TestUnitsCleaned', \n",
    "                     'TestResult', \n",
    "                     'TestResultCleaned', \n",
    "                     'met_date'])\n",
    ")"
   ]
  },
  {
   "cell_type": "code",
   "execution_count": 252,
   "id": "20ce84a9",
   "metadata": {},
   "outputs": [],
   "source": [
    "conditions = [\n",
    "    ((lab_core['LOINC'] == '2160-0') | (lab_core['LOINC'] == '38483-4')),\n",
    "    ((lab_core['LOINC'] == '718-7') | (lab_core['LOINC'] == '20509-6')),\n",
    "    ((lab_core['LOINC'] == '26464-8') | (lab_core['LOINC'] == '6690-2')), \n",
    "    ((lab_core['LOINC'] == '26499-4') | (lab_core['LOINC'] == '751-8') | (lab_core['LOINC'] == '30451-9') | (lab_core['LOINC'] == '753-4')),\n",
    "    (lab_core['LOINC'] == '1751-7'),\n",
    "    ((lab_core['LOINC'] == '42719-5') | (lab_core['LOINC'] == '1975-2')),\n",
    "    ((lab_core['LOINC'] == '2947-0') | (lab_core['LOINC'] == '2951-2')),\n",
    "    ((lab_core['LOINC'] == '1963-8') | (lab_core['LOINC'] == '1959-6') | (lab_core['LOINC'] == '14627-4') | (lab_core['LOINC'] == '1960-4') | (lab_core['LOINC'] == '2028-9')),\n",
    "    ((lab_core['LOINC'] == '17861-6') | (lab_core['LOINC'] == '49765-1')),\n",
    "    (lab_core['LOINC'] == '1920-8'),\n",
    "    ((lab_core['LOINC'] == '1742-6') | (lab_core['LOINC'] == '1743-4') | (lab_core['LOINC'] == '1744-2')),\n",
    "    ((lab_core['LOINC'] == '26515-7') | (lab_core['LOINC'] == '777-3') | (lab_core['LOINC'] == '778-1') | (lab_core['LOINC'] == '49497-1')),\n",
    "    ((lab_core['LOINC'] == '6298-4') | (lab_core['LOINC'] == '2823-3')),\n",
    "    (lab_core['LOINC'] == '2075-0'), \n",
    "    (lab_core['LOINC'] == '3094-0'),\n",
    "    (lab_core['LOINC'] == '6768-6'),\n",
    "    (lab_core['LOINC'] == '2857-1')]\n",
    "\n",
    "choices = ['creatinine', \n",
    "           'hemoglobin', \n",
    "           'wbc', \n",
    "           'neutrophil_count',  \n",
    "           'albumin', \n",
    "           'total_bilirubin', \n",
    "           'sodium', \n",
    "           'bicarb',\n",
    "           'calcium',\n",
    "           'ast', \n",
    "           'alt',\n",
    "           'platelet',\n",
    "           'potassium', \n",
    "           'chloride',\n",
    "           'bun',\n",
    "           'alp',\n",
    "           'psa']\n",
    "\n",
    "lab_core.loc[:, 'lab_name'] = np.select(conditions, choices)"
   ]
  },
  {
   "cell_type": "code",
   "execution_count": 253,
   "id": "a14e5d35",
   "metadata": {},
   "outputs": [],
   "source": [
    "# Remove missing lab values. \n",
    "lab_core = lab_core.dropna(subset = ['TestResultCleaned'])"
   ]
  },
  {
   "cell_type": "code",
   "execution_count": 254,
   "id": "1dcefacc",
   "metadata": {},
   "outputs": [],
   "source": [
    "conditions = [\n",
    "    ((lab_core['lab_name'] == 'wbc') | (lab_core['lab_name'] == 'neutrophil_count') | (lab_core['lab_name'] == 'platelet')) & \n",
    "    (lab_core['TestUnits'] == '10*3/L'),\n",
    "    (lab_core['lab_name'] == 'hemoglobin') & (lab_core['TestUnits'] == 'g/uL')]\n",
    "\n",
    "choices = [lab_core['TestResultCleaned'] * 1000000,\n",
    "           lab_core['TestResultCleaned'] / 100000]\n",
    "\n",
    "lab_core.loc[:, 'test_result_cleaned'] = np.select(conditions, choices, default = lab_core['TestResultCleaned'])"
   ]
  },
  {
   "cell_type": "code",
   "execution_count": 255,
   "id": "629032eb",
   "metadata": {},
   "outputs": [],
   "source": [
    "# Elgibliity window is -90 and +30 from advanced diagnosis. \n",
    "lab_core_win = (\n",
    "    lab_core\n",
    "    .assign(lab_date_diff = (lab_core['ResultDate'] - lab_core['met_date']).dt.days)\n",
    "    .query('lab_date_diff >= -90 and lab_date_diff <= 30')\n",
    "    .filter(items = ['PatientID', 'ResultDate', 'TestResultCleaned', 'lab_name', 'met_date', 'test_result_cleaned', 'lab_date_diff'])\n",
    ")"
   ]
  },
  {
   "cell_type": "code",
   "execution_count": 256,
   "id": "03e934fd",
   "metadata": {},
   "outputs": [],
   "source": [
    "lab_core_win.loc[:, 'lab_date_diff'] = lab_core_win['lab_date_diff'].abs()"
   ]
  },
  {
   "cell_type": "code",
   "execution_count": 257,
   "id": "1b41dbd3",
   "metadata": {},
   "outputs": [],
   "source": [
    "# Select lab closest to date of advanced diagnosis and pivot to a wide table. \n",
    "lab_diag_wide = (\n",
    "    lab_core_win\n",
    "    .loc[lab_core_win.groupby(['PatientID', 'lab_name'])['lab_date_diff'].idxmin()]\n",
    "    .pivot(index = 'PatientID', columns = 'lab_name', values = 'test_result_cleaned')\n",
    "    .reset_index()\n",
    "    .rename(columns = {\n",
    "        'albumin': 'albumin_diag',\n",
    "        'creatinine': 'creatinine_diag',\n",
    "        'hemoglobin': 'hemoglobin_diag',\n",
    "        'neutrophil_count': 'neutrophil_count_diag',\n",
    "        'total_bilirubin': 'total_bilirubin_diag',\n",
    "        'wbc': 'wbc_diag',\n",
    "        'sodium': 'sodium_diag', \n",
    "        'bicarb': 'bicarb_diag',\n",
    "        'calcium': 'calcium_diag',\n",
    "        'ast': 'ast_diag', \n",
    "        'alt': 'alt_diag',\n",
    "        'platelet': 'platelet_diag',\n",
    "        'potassium': 'potassium_diag',\n",
    "        'chloride': 'chloride_diag',\n",
    "        'bun': 'bun_diag',\n",
    "        'alp': 'alp_diag'})\n",
    ")\n",
    "\n",
    "lab_diag_wide.columns.name = None"
   ]
  },
  {
   "cell_type": "code",
   "execution_count": 258,
   "id": "76c57b72",
   "metadata": {},
   "outputs": [],
   "source": [
    "lab_diag_wide = lab_diag_wide.drop(columns = ['psa'])"
   ]
  },
  {
   "cell_type": "code",
   "execution_count": 259,
   "id": "ab3ef103",
   "metadata": {},
   "outputs": [
    {
     "data": {
      "text/plain": [
       "(1841, 1841)"
      ]
     },
     "execution_count": 259,
     "metadata": {},
     "output_type": "execute_result"
    }
   ],
   "source": [
    "row_ID(lab_diag_wide)"
   ]
  },
  {
   "cell_type": "code",
   "execution_count": 260,
   "id": "eb083f0a",
   "metadata": {},
   "outputs": [],
   "source": [
    "lab_diag_wide = (\n",
    "    lab_diag_wide\n",
    "    .append(\n",
    "        pd.Series(test_IDs)[~pd.Series(test_IDs).isin(lab_diag_wide['PatientID'])].to_frame(name = 'PatientID'),\n",
    "        sort = False)\n",
    ")"
   ]
  },
  {
   "cell_type": "code",
   "execution_count": 261,
   "id": "479b7e61",
   "metadata": {},
   "outputs": [
    {
     "data": {
      "text/plain": [
       "(3786, 3786)"
      ]
     },
     "execution_count": 261,
     "metadata": {},
     "output_type": "execute_result"
    }
   ],
   "source": [
    "row_ID(lab_diag_wide)"
   ]
  },
  {
   "cell_type": "code",
   "execution_count": 262,
   "id": "d4c36769",
   "metadata": {},
   "outputs": [],
   "source": [
    "# Create missing variables for labs at time of diagnosis. \n",
    "for x in range (1, len(lab_diag_wide.columns)):\n",
    "    lab_diag_wide.loc[:, lab_diag_wide.columns[x]+'_na'] = np.where(lab_diag_wide[lab_diag_wide.columns[x]].isna(), 1, 0)"
   ]
  },
  {
   "cell_type": "code",
   "execution_count": 263,
   "id": "fce60f39",
   "metadata": {},
   "outputs": [
    {
     "data": {
      "text/plain": [
       "['PatientID',\n",
       " 'albumin_diag',\n",
       " 'alp_diag',\n",
       " 'alt_diag',\n",
       " 'ast_diag',\n",
       " 'bicarb_diag',\n",
       " 'bun_diag',\n",
       " 'calcium_diag',\n",
       " 'chloride_diag',\n",
       " 'creatinine_diag',\n",
       " 'hemoglobin_diag',\n",
       " 'neutrophil_count_diag',\n",
       " 'platelet_diag',\n",
       " 'potassium_diag',\n",
       " 'sodium_diag',\n",
       " 'total_bilirubin_diag',\n",
       " 'wbc_diag',\n",
       " 'albumin_diag_na',\n",
       " 'alp_diag_na',\n",
       " 'alt_diag_na',\n",
       " 'ast_diag_na',\n",
       " 'bicarb_diag_na',\n",
       " 'bun_diag_na',\n",
       " 'calcium_diag_na',\n",
       " 'chloride_diag_na',\n",
       " 'creatinine_diag_na',\n",
       " 'hemoglobin_diag_na',\n",
       " 'neutrophil_count_diag_na',\n",
       " 'platelet_diag_na',\n",
       " 'potassium_diag_na',\n",
       " 'sodium_diag_na',\n",
       " 'total_bilirubin_diag_na',\n",
       " 'wbc_diag_na']"
      ]
     },
     "execution_count": 263,
     "metadata": {},
     "output_type": "execute_result"
    }
   ],
   "source": [
    "list(lab_diag_wide.columns)"
   ]
  },
  {
   "cell_type": "markdown",
   "id": "6401c534",
   "metadata": {},
   "source": [
    "#### Mean, max, min, and standard deviation"
   ]
  },
  {
   "cell_type": "code",
   "execution_count": 264,
   "id": "219c223c",
   "metadata": {},
   "outputs": [],
   "source": [
    "# Elgibility window is negative infinity to +30 from advanced diagnosis. \n",
    "lab_core_win_summ = (\n",
    "    lab_core\n",
    "    .assign(lab_date_diff = (lab_core['ResultDate'] - lab_core['met_date']).dt.days)\n",
    "    .query('lab_date_diff <= 30')\n",
    "    .filter(items = ['PatientID', 'ResultDate', 'TestResultCleaned', 'lab_name', 'met_date', 'test_result_cleaned', 'lab_date_diff'])\n",
    ")"
   ]
  },
  {
   "cell_type": "code",
   "execution_count": 265,
   "id": "d4be8e71",
   "metadata": {},
   "outputs": [],
   "source": [
    "# Pivot table of average values for core labs during elgibility period of -90 to -30 days from advanced diagnosis. \n",
    "lab_avg_wide = (\n",
    "    lab_core_win_summ\n",
    "    .groupby(['PatientID', 'lab_name'])['test_result_cleaned'].mean()\n",
    "    .to_frame()\n",
    "    .reset_index()\n",
    "    .pivot(index = 'PatientID', columns = 'lab_name', values = 'test_result_cleaned')\n",
    "    .reset_index()\n",
    "    .rename(columns = {\n",
    "        'albumin': 'albumin_avg',\n",
    "        'creatinine': 'creatinine_avg',\n",
    "        'hemoglobin': 'hemoglobin_avg',\n",
    "        'neutrophil_count': 'neutrophil_count_avg',\n",
    "        'total_bilirubin': 'total_bilirubin_avg',\n",
    "        'wbc': 'wbc_avg',\n",
    "        'sodium': 'sodium_avg', \n",
    "        'bicarb': 'bicarb_avg',\n",
    "        'calcium': 'calcium_avg',\n",
    "        'ast': 'ast_avg', \n",
    "        'alt': 'alt_avg',\n",
    "        'platelet': 'platelet_avg',\n",
    "        'potassium': 'potassium_avg',\n",
    "        'chloride': 'chloride_avg',\n",
    "        'bun': 'bun_avg',\n",
    "        'alp': 'alp_avg',\n",
    "        'psa': 'psa_avg'})\n",
    ")\n",
    "\n",
    "lab_avg_wide.columns.name = None"
   ]
  },
  {
   "cell_type": "code",
   "execution_count": 266,
   "id": "883c2bf4",
   "metadata": {},
   "outputs": [
    {
     "data": {
      "text/plain": [
       "(2003, 2003)"
      ]
     },
     "execution_count": 266,
     "metadata": {},
     "output_type": "execute_result"
    }
   ],
   "source": [
    "row_ID(lab_avg_wide)"
   ]
  },
  {
   "cell_type": "code",
   "execution_count": 267,
   "id": "5dee12b6",
   "metadata": {},
   "outputs": [],
   "source": [
    "# Pivot table of maximum values for core labs during elgibility period of -90 to -30 days from advanced diagnosis. \n",
    "lab_max_wide = (\n",
    "    lab_core_win_summ\n",
    "    .groupby(['PatientID', 'lab_name'])['test_result_cleaned'].max()\n",
    "    .to_frame()\n",
    "    .reset_index()\n",
    "    .pivot(index = 'PatientID', columns = 'lab_name', values = 'test_result_cleaned')\n",
    "    .reset_index()\n",
    "    .rename(columns = {\n",
    "        'albumin': 'albumin_max',\n",
    "        'creatinine': 'creatinine_max',\n",
    "        'hemoglobin': 'hemoglobin_max',\n",
    "        'neutrophil_count': 'neutrophil_count_max',\n",
    "        'total_bilirubin': 'total_bilirubin_max',\n",
    "        'wbc': 'wbc_max', \n",
    "        'sodium': 'sodium_max', \n",
    "        'bicarb': 'bicarb_max',\n",
    "        'calcium': 'calcium_max',\n",
    "        'ast': 'ast_max', \n",
    "        'alt': 'alt_max',\n",
    "        'platelet': 'platelet_max',\n",
    "        'potassium': 'potassium_max',\n",
    "        'chloride': 'chloride_max',\n",
    "        'bun': 'bun_max', \n",
    "        'alp': 'alp_max', \n",
    "        'psa': 'psa_max'})\n",
    ")\n",
    "\n",
    "lab_max_wide.columns.name = None"
   ]
  },
  {
   "cell_type": "code",
   "execution_count": 268,
   "id": "4c62cadd",
   "metadata": {},
   "outputs": [
    {
     "data": {
      "text/plain": [
       "(2003, 2003)"
      ]
     },
     "execution_count": 268,
     "metadata": {},
     "output_type": "execute_result"
    }
   ],
   "source": [
    "row_ID(lab_max_wide)"
   ]
  },
  {
   "cell_type": "code",
   "execution_count": 269,
   "id": "be3fa3a4",
   "metadata": {},
   "outputs": [],
   "source": [
    "# Pivot table of minimum values for core labs during elgibility period of -90 to -30 days from advanced diagnosis. \n",
    "lab_min_wide = (\n",
    "    lab_core_win_summ\n",
    "    .groupby(['PatientID', 'lab_name'])['test_result_cleaned'].min()\n",
    "    .to_frame()\n",
    "    .reset_index()\n",
    "    .pivot(index = 'PatientID', columns = 'lab_name', values = 'test_result_cleaned')\n",
    "    .reset_index()\n",
    "    .rename(columns = {\n",
    "        'albumin': 'albumin_min',\n",
    "        'creatinine': 'creatinine_min',\n",
    "        'hemoglobin': 'hemoglobin_min',\n",
    "        'neutrophil_count': 'neutrophil_count_min',\n",
    "        'total_bilirubin': 'total_bilirubin_min',\n",
    "        'wbc': 'wbc_min',\n",
    "        'sodium': 'sodium_min', \n",
    "        'bicarb': 'bicarb_min',\n",
    "        'calcium': 'calcium_min',\n",
    "        'ast': 'ast_min', \n",
    "        'alt': 'alt_min',\n",
    "        'platelet': 'platelet_min',\n",
    "        'potassium': 'potassium_min',\n",
    "        'chloride': 'chloride_min',\n",
    "        'bun': 'bun_min',\n",
    "        'alp': 'alp_min',\n",
    "        'psa': 'psa_min'})\n",
    ")\n",
    "\n",
    "lab_min_wide.columns.name = None"
   ]
  },
  {
   "cell_type": "code",
   "execution_count": 270,
   "id": "bcaf5bf3",
   "metadata": {},
   "outputs": [
    {
     "data": {
      "text/plain": [
       "(2003, 2003)"
      ]
     },
     "execution_count": 270,
     "metadata": {},
     "output_type": "execute_result"
    }
   ],
   "source": [
    "row_ID(lab_min_wide)"
   ]
  },
  {
   "cell_type": "code",
   "execution_count": 271,
   "id": "d3111caa",
   "metadata": {},
   "outputs": [],
   "source": [
    "# Pivot table of standard deviation for core labs during elgibility period of -90 to -30 days from advanced diagnosis. \n",
    "lab_std_wide = (\n",
    "    lab_core_win_summ\n",
    "    .groupby(['PatientID', 'lab_name'])['test_result_cleaned'].std()\n",
    "    .to_frame()\n",
    "    .reset_index()\n",
    "    .pivot(index = 'PatientID', columns = 'lab_name', values = 'test_result_cleaned')\n",
    "    .reset_index()\n",
    "    .rename(columns = {\n",
    "        'albumin': 'albumin_std',\n",
    "        'creatinine': 'creatinine_std',\n",
    "        'hemoglobin': 'hemoglobin_std',\n",
    "        'neutrophil_count': 'neutrophil_count_std',\n",
    "        'total_bilirubin': 'total_bilirubin_std',\n",
    "        'wbc': 'wbc_std',\n",
    "        'sodium': 'sodium_std', \n",
    "        'bicarb': 'bicarb_std',\n",
    "        'calcium': 'calcium_std',\n",
    "        'ast': 'ast_std', \n",
    "        'alt': 'alt_std',\n",
    "        'platelet': 'platelet_std',\n",
    "        'potassium': 'potassium_std',\n",
    "        'chloride': 'chloride_std',\n",
    "        'bun': 'bun_std', \n",
    "        'alp': 'alp_std', \n",
    "        'psa': 'psa_std'})\n",
    ")\n",
    "\n",
    "lab_std_wide.columns.name = None"
   ]
  },
  {
   "cell_type": "code",
   "execution_count": 272,
   "id": "18ed0505",
   "metadata": {},
   "outputs": [
    {
     "data": {
      "text/plain": [
       "(2003, 2003)"
      ]
     },
     "execution_count": 272,
     "metadata": {},
     "output_type": "execute_result"
    }
   ],
   "source": [
    "row_ID(lab_std_wide)"
   ]
  },
  {
   "cell_type": "code",
   "execution_count": 273,
   "id": "4f484e69",
   "metadata": {},
   "outputs": [],
   "source": [
    "lab_summary_wide = pd.merge(lab_avg_wide, lab_max_wide, on = 'PatientID', how = 'outer')"
   ]
  },
  {
   "cell_type": "code",
   "execution_count": 274,
   "id": "c28cd74b",
   "metadata": {},
   "outputs": [],
   "source": [
    "lab_summary_wide = pd.merge(lab_summary_wide, lab_min_wide, on = 'PatientID', how = 'outer')"
   ]
  },
  {
   "cell_type": "code",
   "execution_count": 275,
   "id": "350ed0a1",
   "metadata": {},
   "outputs": [],
   "source": [
    "lab_summary_wide = pd.merge(lab_summary_wide, lab_std_wide, on = 'PatientID', how = 'outer')"
   ]
  },
  {
   "cell_type": "code",
   "execution_count": 276,
   "id": "e057d406",
   "metadata": {},
   "outputs": [
    {
     "data": {
      "text/plain": [
       "(2003, 2003)"
      ]
     },
     "execution_count": 276,
     "metadata": {},
     "output_type": "execute_result"
    }
   ],
   "source": [
    "row_ID(lab_summary_wide)"
   ]
  },
  {
   "cell_type": "code",
   "execution_count": 277,
   "id": "bd321abb",
   "metadata": {},
   "outputs": [],
   "source": [
    "lab_summary_wide = (\n",
    "    lab_summary_wide\n",
    "    .append(\n",
    "        pd.Series(test_IDs)[~pd.Series(test_IDs).isin(lab_summary_wide['PatientID'])].to_frame(name = 'PatientID'),\n",
    "        sort = False)\n",
    ")"
   ]
  },
  {
   "cell_type": "code",
   "execution_count": 278,
   "id": "d8e6381b",
   "metadata": {},
   "outputs": [
    {
     "data": {
      "text/plain": [
       "(3786, 3786)"
      ]
     },
     "execution_count": 278,
     "metadata": {},
     "output_type": "execute_result"
    }
   ],
   "source": [
    "row_ID(lab_summary_wide)"
   ]
  },
  {
   "cell_type": "code",
   "execution_count": 279,
   "id": "d7087eb3",
   "metadata": {},
   "outputs": [
    {
     "data": {
      "text/html": [
       "<div>\n",
       "<style scoped>\n",
       "    .dataframe tbody tr th:only-of-type {\n",
       "        vertical-align: middle;\n",
       "    }\n",
       "\n",
       "    .dataframe tbody tr th {\n",
       "        vertical-align: top;\n",
       "    }\n",
       "\n",
       "    .dataframe thead th {\n",
       "        text-align: right;\n",
       "    }\n",
       "</style>\n",
       "<table border=\"1\" class=\"dataframe\">\n",
       "  <thead>\n",
       "    <tr style=\"text-align: right;\">\n",
       "      <th></th>\n",
       "      <th>PatientID</th>\n",
       "      <th>albumin_avg</th>\n",
       "      <th>alp_avg</th>\n",
       "      <th>alt_avg</th>\n",
       "      <th>ast_avg</th>\n",
       "      <th>bicarb_avg</th>\n",
       "      <th>bun_avg</th>\n",
       "      <th>calcium_avg</th>\n",
       "      <th>chloride_avg</th>\n",
       "      <th>creatinine_avg</th>\n",
       "      <th>...</th>\n",
       "      <th>chloride_std</th>\n",
       "      <th>creatinine_std</th>\n",
       "      <th>hemoglobin_std</th>\n",
       "      <th>neutrophil_count_std</th>\n",
       "      <th>platelet_std</th>\n",
       "      <th>potassium_std</th>\n",
       "      <th>psa_std</th>\n",
       "      <th>sodium_std</th>\n",
       "      <th>total_bilirubin_std</th>\n",
       "      <th>wbc_std</th>\n",
       "    </tr>\n",
       "  </thead>\n",
       "  <tbody>\n",
       "    <tr>\n",
       "      <th>1804</th>\n",
       "      <td>FE55B61187A68</td>\n",
       "      <td>42.000000</td>\n",
       "      <td>178.000000</td>\n",
       "      <td>43.000000</td>\n",
       "      <td>24.000000</td>\n",
       "      <td>29.700000</td>\n",
       "      <td>NaN</td>\n",
       "      <td>9.800000</td>\n",
       "      <td>105.000000</td>\n",
       "      <td>NaN</td>\n",
       "      <td>...</td>\n",
       "      <td>NaN</td>\n",
       "      <td>NaN</td>\n",
       "      <td>0.989949</td>\n",
       "      <td>NaN</td>\n",
       "      <td>21.213203</td>\n",
       "      <td>NaN</td>\n",
       "      <td>NaN</td>\n",
       "      <td>NaN</td>\n",
       "      <td>NaN</td>\n",
       "      <td>NaN</td>\n",
       "    </tr>\n",
       "    <tr>\n",
       "      <th>2441</th>\n",
       "      <td>F3A2265DF2C24</td>\n",
       "      <td>NaN</td>\n",
       "      <td>NaN</td>\n",
       "      <td>NaN</td>\n",
       "      <td>NaN</td>\n",
       "      <td>NaN</td>\n",
       "      <td>NaN</td>\n",
       "      <td>NaN</td>\n",
       "      <td>NaN</td>\n",
       "      <td>NaN</td>\n",
       "      <td>...</td>\n",
       "      <td>NaN</td>\n",
       "      <td>NaN</td>\n",
       "      <td>NaN</td>\n",
       "      <td>NaN</td>\n",
       "      <td>NaN</td>\n",
       "      <td>NaN</td>\n",
       "      <td>NaN</td>\n",
       "      <td>NaN</td>\n",
       "      <td>NaN</td>\n",
       "      <td>NaN</td>\n",
       "    </tr>\n",
       "    <tr>\n",
       "      <th>1587</th>\n",
       "      <td>FC883EF163BAE</td>\n",
       "      <td>31.000000</td>\n",
       "      <td>312.000000</td>\n",
       "      <td>22.000000</td>\n",
       "      <td>61.000000</td>\n",
       "      <td>27.000000</td>\n",
       "      <td>24.000000</td>\n",
       "      <td>9.300000</td>\n",
       "      <td>99.000000</td>\n",
       "      <td>0.640000</td>\n",
       "      <td>...</td>\n",
       "      <td>NaN</td>\n",
       "      <td>NaN</td>\n",
       "      <td>NaN</td>\n",
       "      <td>0.325269</td>\n",
       "      <td>NaN</td>\n",
       "      <td>NaN</td>\n",
       "      <td>NaN</td>\n",
       "      <td>NaN</td>\n",
       "      <td>NaN</td>\n",
       "      <td>NaN</td>\n",
       "    </tr>\n",
       "    <tr>\n",
       "      <th>763</th>\n",
       "      <td>F5EB5BA72C88B</td>\n",
       "      <td>40.444444</td>\n",
       "      <td>90.666667</td>\n",
       "      <td>21.111111</td>\n",
       "      <td>19.555556</td>\n",
       "      <td>33.222222</td>\n",
       "      <td>12.555556</td>\n",
       "      <td>8.966667</td>\n",
       "      <td>96.777778</td>\n",
       "      <td>0.847778</td>\n",
       "      <td>...</td>\n",
       "      <td>2.728451</td>\n",
       "      <td>0.048677</td>\n",
       "      <td>0.504315</td>\n",
       "      <td>2.245885</td>\n",
       "      <td>102.179363</td>\n",
       "      <td>0.359784</td>\n",
       "      <td>NaN</td>\n",
       "      <td>2.538591</td>\n",
       "      <td>0.060093</td>\n",
       "      <td>2.560295</td>\n",
       "    </tr>\n",
       "    <tr>\n",
       "      <th>705</th>\n",
       "      <td>F56DBF6E24AB9</td>\n",
       "      <td>37.000000</td>\n",
       "      <td>255.500000</td>\n",
       "      <td>10.000000</td>\n",
       "      <td>16.000000</td>\n",
       "      <td>22.500000</td>\n",
       "      <td>17.500000</td>\n",
       "      <td>9.150000</td>\n",
       "      <td>104.500000</td>\n",
       "      <td>0.810000</td>\n",
       "      <td>...</td>\n",
       "      <td>0.707107</td>\n",
       "      <td>0.028284</td>\n",
       "      <td>0.282843</td>\n",
       "      <td>NaN</td>\n",
       "      <td>2.828427</td>\n",
       "      <td>0.353553</td>\n",
       "      <td>NaN</td>\n",
       "      <td>0.707107</td>\n",
       "      <td>0.070711</td>\n",
       "      <td>0.424264</td>\n",
       "    </tr>\n",
       "  </tbody>\n",
       "</table>\n",
       "<p>5 rows × 69 columns</p>\n",
       "</div>"
      ],
      "text/plain": [
       "          PatientID  albumin_avg     alp_avg    alt_avg    ast_avg  \\\n",
       "1804  FE55B61187A68    42.000000  178.000000  43.000000  24.000000   \n",
       "2441  F3A2265DF2C24          NaN         NaN        NaN        NaN   \n",
       "1587  FC883EF163BAE    31.000000  312.000000  22.000000  61.000000   \n",
       "763   F5EB5BA72C88B    40.444444   90.666667  21.111111  19.555556   \n",
       "705   F56DBF6E24AB9    37.000000  255.500000  10.000000  16.000000   \n",
       "\n",
       "      bicarb_avg    bun_avg  calcium_avg  chloride_avg  creatinine_avg  ...  \\\n",
       "1804   29.700000        NaN     9.800000    105.000000             NaN  ...   \n",
       "2441         NaN        NaN          NaN           NaN             NaN  ...   \n",
       "1587   27.000000  24.000000     9.300000     99.000000        0.640000  ...   \n",
       "763    33.222222  12.555556     8.966667     96.777778        0.847778  ...   \n",
       "705    22.500000  17.500000     9.150000    104.500000        0.810000  ...   \n",
       "\n",
       "      chloride_std  creatinine_std  hemoglobin_std  neutrophil_count_std  \\\n",
       "1804           NaN             NaN        0.989949                   NaN   \n",
       "2441           NaN             NaN             NaN                   NaN   \n",
       "1587           NaN             NaN             NaN              0.325269   \n",
       "763       2.728451        0.048677        0.504315              2.245885   \n",
       "705       0.707107        0.028284        0.282843                   NaN   \n",
       "\n",
       "      platelet_std  potassium_std  psa_std  sodium_std  total_bilirubin_std  \\\n",
       "1804     21.213203            NaN      NaN         NaN                  NaN   \n",
       "2441           NaN            NaN      NaN         NaN                  NaN   \n",
       "1587           NaN            NaN      NaN         NaN                  NaN   \n",
       "763     102.179363       0.359784      NaN    2.538591             0.060093   \n",
       "705       2.828427       0.353553      NaN    0.707107             0.070711   \n",
       "\n",
       "       wbc_std  \n",
       "1804       NaN  \n",
       "2441       NaN  \n",
       "1587       NaN  \n",
       "763   2.560295  \n",
       "705   0.424264  \n",
       "\n",
       "[5 rows x 69 columns]"
      ]
     },
     "execution_count": 279,
     "metadata": {},
     "output_type": "execute_result"
    }
   ],
   "source": [
    "lab_summary_wide.sample(5)"
   ]
  },
  {
   "cell_type": "code",
   "execution_count": 280,
   "id": "eaefcffc",
   "metadata": {},
   "outputs": [
    {
     "data": {
      "text/plain": [
       "['PatientID',\n",
       " 'albumin_avg',\n",
       " 'alp_avg',\n",
       " 'alt_avg',\n",
       " 'ast_avg',\n",
       " 'bicarb_avg',\n",
       " 'bun_avg',\n",
       " 'calcium_avg',\n",
       " 'chloride_avg',\n",
       " 'creatinine_avg',\n",
       " 'hemoglobin_avg',\n",
       " 'neutrophil_count_avg',\n",
       " 'platelet_avg',\n",
       " 'potassium_avg',\n",
       " 'psa_avg',\n",
       " 'sodium_avg',\n",
       " 'total_bilirubin_avg',\n",
       " 'wbc_avg',\n",
       " 'albumin_max',\n",
       " 'alp_max',\n",
       " 'alt_max',\n",
       " 'ast_max',\n",
       " 'bicarb_max',\n",
       " 'bun_max',\n",
       " 'calcium_max',\n",
       " 'chloride_max',\n",
       " 'creatinine_max',\n",
       " 'hemoglobin_max',\n",
       " 'neutrophil_count_max',\n",
       " 'platelet_max',\n",
       " 'potassium_max',\n",
       " 'psa_max',\n",
       " 'sodium_max',\n",
       " 'total_bilirubin_max',\n",
       " 'wbc_max',\n",
       " 'albumin_min',\n",
       " 'alp_min',\n",
       " 'alt_min',\n",
       " 'ast_min',\n",
       " 'bicarb_min',\n",
       " 'bun_min',\n",
       " 'calcium_min',\n",
       " 'chloride_min',\n",
       " 'creatinine_min',\n",
       " 'hemoglobin_min',\n",
       " 'neutrophil_count_min',\n",
       " 'platelet_min',\n",
       " 'potassium_min',\n",
       " 'psa_min',\n",
       " 'sodium_min',\n",
       " 'total_bilirubin_min',\n",
       " 'wbc_min',\n",
       " 'albumin_std',\n",
       " 'alp_std',\n",
       " 'alt_std',\n",
       " 'ast_std',\n",
       " 'bicarb_std',\n",
       " 'bun_std',\n",
       " 'calcium_std',\n",
       " 'chloride_std',\n",
       " 'creatinine_std',\n",
       " 'hemoglobin_std',\n",
       " 'neutrophil_count_std',\n",
       " 'platelet_std',\n",
       " 'potassium_std',\n",
       " 'psa_std',\n",
       " 'sodium_std',\n",
       " 'total_bilirubin_std',\n",
       " 'wbc_std']"
      ]
     },
     "execution_count": 280,
     "metadata": {},
     "output_type": "execute_result"
    }
   ],
   "source": [
    "list(lab_summary_wide.columns)"
   ]
  },
  {
   "cell_type": "markdown",
   "id": "0d4b9c84",
   "metadata": {},
   "source": [
    "#### Slope"
   ]
  },
  {
   "cell_type": "code",
   "execution_count": 281,
   "id": "ca55b526",
   "metadata": {},
   "outputs": [],
   "source": [
    "lab_core_win_summ.loc[:, 'result_date_ordinal'] = lab_core_win_summ['ResultDate'].map(dt.datetime.toordinal)"
   ]
  },
  {
   "cell_type": "code",
   "execution_count": 282,
   "id": "2140a3cc",
   "metadata": {},
   "outputs": [
    {
     "name": "stderr",
     "output_type": "stream",
     "text": [
      "/Users/xavierorcutt/Dropbox/ist_project/myenv/lib/python3.7/site-packages/scipy/stats/_stats_mstats_common.py:170: RuntimeWarning: invalid value encountered in double_scalars\n",
      "  slope = ssxym / ssxm\n",
      "/Users/xavierorcutt/Dropbox/ist_project/myenv/lib/python3.7/site-packages/scipy/stats/_stats_mstats_common.py:184: RuntimeWarning: invalid value encountered in sqrt\n",
      "  t = r * np.sqrt(df / ((1.0 - r + TINY)*(1.0 + r + TINY)))\n",
      "/Users/xavierorcutt/Dropbox/ist_project/myenv/lib/python3.7/site-packages/scipy/stats/_stats_mstats_common.py:187: RuntimeWarning: invalid value encountered in double_scalars\n",
      "  slope_stderr = np.sqrt((1 - r**2) * ssym / ssxm / df)\n",
      "/Users/xavierorcutt/Dropbox/ist_project/myenv/lib/python3.7/site-packages/scipy/stats/_stats_mstats_common.py:187: RuntimeWarning: divide by zero encountered in double_scalars\n",
      "  slope_stderr = np.sqrt((1 - r**2) * ssym / ssxm / df)\n"
     ]
    }
   ],
   "source": [
    "lab_slope_wide = (\n",
    "    lab_core_win_summ\n",
    "    .groupby(['PatientID', 'lab_name'])\n",
    "    .apply(lambda x: pd.Series(linregress(x['result_date_ordinal'], x['test_result_cleaned'])))\n",
    "    .rename(columns = {0: 'slope'})\n",
    "    .reset_index()\n",
    "    .filter(items = ['PatientID', 'lab_name', 'slope'])\n",
    "    .pivot(index = 'PatientID', columns = 'lab_name', values = 'slope')\n",
    "    .reset_index()\n",
    "    .rename(columns = {\n",
    "        'albumin': 'albumin_slope',\n",
    "        'creatinine': 'creatinine_slope',\n",
    "        'hemoglobin': 'hemoglobin_slope',\n",
    "        'neutrophil_count': 'neutrophil_count_slope',\n",
    "        'total_bilirubin': 'total_bilirubin_slope',\n",
    "        'wbc': 'wbc_slope',\n",
    "        'sodium': 'sodium_slope', \n",
    "        'bicarb': 'bicarb_slope',\n",
    "        'calcium': 'calcium_slope',\n",
    "        'ast': 'ast_slope', \n",
    "        'alt': 'alt_slope',\n",
    "        'platelet': 'platelet_slope',\n",
    "        'potassium': 'potassium_slope',\n",
    "        'chloride': 'chloride_slope',\n",
    "        'bun': 'bun_slope',\n",
    "        'alp': 'alp_slope',\n",
    "        'psa': 'psa_slope'})\n",
    ")\n",
    "\n",
    "lab_slope_wide.columns.name = None"
   ]
  },
  {
   "cell_type": "code",
   "execution_count": 283,
   "id": "20128054",
   "metadata": {},
   "outputs": [
    {
     "data": {
      "text/plain": [
       "(2003, 2003)"
      ]
     },
     "execution_count": 283,
     "metadata": {},
     "output_type": "execute_result"
    }
   ],
   "source": [
    "row_ID(lab_slope_wide)"
   ]
  },
  {
   "cell_type": "code",
   "execution_count": 284,
   "id": "97714a1e",
   "metadata": {},
   "outputs": [],
   "source": [
    "lab_slope_wide = (\n",
    "    lab_slope_wide\n",
    "    .append(\n",
    "        pd.Series(test_IDs)[~pd.Series(test_IDs).isin(lab_slope_wide['PatientID'])].to_frame(name = 'PatientID'),\n",
    "        sort = False)\n",
    ")"
   ]
  },
  {
   "cell_type": "code",
   "execution_count": 285,
   "id": "84490052",
   "metadata": {},
   "outputs": [],
   "source": [
    "# Create missing variables for lab slope. \n",
    "for x in range (1, len(lab_slope_wide.columns)):\n",
    "    lab_slope_wide.loc[:, lab_slope_wide.columns[x]+'_na'] = np.where(lab_slope_wide[lab_slope_wide.columns[x]].isna(), 1, 0)"
   ]
  },
  {
   "cell_type": "code",
   "execution_count": 286,
   "id": "ac4f080a",
   "metadata": {},
   "outputs": [
    {
     "data": {
      "text/plain": [
       "(3786, 3786)"
      ]
     },
     "execution_count": 286,
     "metadata": {},
     "output_type": "execute_result"
    }
   ],
   "source": [
    "row_ID(lab_slope_wide)"
   ]
  },
  {
   "cell_type": "markdown",
   "id": "bc46dd6b",
   "metadata": {},
   "source": [
    "#### Merge"
   ]
  },
  {
   "cell_type": "code",
   "execution_count": 287,
   "id": "f2d86dcc",
   "metadata": {},
   "outputs": [],
   "source": [
    "lab_wide = pd.merge(lab_diag_wide, lab_summary_wide, on = 'PatientID')"
   ]
  },
  {
   "cell_type": "code",
   "execution_count": 288,
   "id": "a703c23d",
   "metadata": {},
   "outputs": [],
   "source": [
    "lab_wide = pd.merge(lab_wide, lab_slope_wide, on = 'PatientID')"
   ]
  },
  {
   "cell_type": "code",
   "execution_count": 289,
   "id": "aade1130",
   "metadata": {},
   "outputs": [
    {
     "data": {
      "text/plain": [
       "(3786, 3786)"
      ]
     },
     "execution_count": 289,
     "metadata": {},
     "output_type": "execute_result"
    }
   ],
   "source": [
    "row_ID(lab_wide)"
   ]
  },
  {
   "cell_type": "code",
   "execution_count": 290,
   "id": "da679cd4",
   "metadata": {},
   "outputs": [
    {
     "data": {
      "text/plain": [
       "['PatientID',\n",
       " 'albumin_diag',\n",
       " 'alp_diag',\n",
       " 'alt_diag',\n",
       " 'ast_diag',\n",
       " 'bicarb_diag',\n",
       " 'bun_diag',\n",
       " 'calcium_diag',\n",
       " 'chloride_diag',\n",
       " 'creatinine_diag',\n",
       " 'hemoglobin_diag',\n",
       " 'neutrophil_count_diag',\n",
       " 'platelet_diag',\n",
       " 'potassium_diag',\n",
       " 'sodium_diag',\n",
       " 'total_bilirubin_diag',\n",
       " 'wbc_diag',\n",
       " 'albumin_diag_na',\n",
       " 'alp_diag_na',\n",
       " 'alt_diag_na',\n",
       " 'ast_diag_na',\n",
       " 'bicarb_diag_na',\n",
       " 'bun_diag_na',\n",
       " 'calcium_diag_na',\n",
       " 'chloride_diag_na',\n",
       " 'creatinine_diag_na',\n",
       " 'hemoglobin_diag_na',\n",
       " 'neutrophil_count_diag_na',\n",
       " 'platelet_diag_na',\n",
       " 'potassium_diag_na',\n",
       " 'sodium_diag_na',\n",
       " 'total_bilirubin_diag_na',\n",
       " 'wbc_diag_na',\n",
       " 'albumin_avg',\n",
       " 'alp_avg',\n",
       " 'alt_avg',\n",
       " 'ast_avg',\n",
       " 'bicarb_avg',\n",
       " 'bun_avg',\n",
       " 'calcium_avg',\n",
       " 'chloride_avg',\n",
       " 'creatinine_avg',\n",
       " 'hemoglobin_avg',\n",
       " 'neutrophil_count_avg',\n",
       " 'platelet_avg',\n",
       " 'potassium_avg',\n",
       " 'psa_avg',\n",
       " 'sodium_avg',\n",
       " 'total_bilirubin_avg',\n",
       " 'wbc_avg',\n",
       " 'albumin_max',\n",
       " 'alp_max',\n",
       " 'alt_max',\n",
       " 'ast_max',\n",
       " 'bicarb_max',\n",
       " 'bun_max',\n",
       " 'calcium_max',\n",
       " 'chloride_max',\n",
       " 'creatinine_max',\n",
       " 'hemoglobin_max',\n",
       " 'neutrophil_count_max',\n",
       " 'platelet_max',\n",
       " 'potassium_max',\n",
       " 'psa_max',\n",
       " 'sodium_max',\n",
       " 'total_bilirubin_max',\n",
       " 'wbc_max',\n",
       " 'albumin_min',\n",
       " 'alp_min',\n",
       " 'alt_min',\n",
       " 'ast_min',\n",
       " 'bicarb_min',\n",
       " 'bun_min',\n",
       " 'calcium_min',\n",
       " 'chloride_min',\n",
       " 'creatinine_min',\n",
       " 'hemoglobin_min',\n",
       " 'neutrophil_count_min',\n",
       " 'platelet_min',\n",
       " 'potassium_min',\n",
       " 'psa_min',\n",
       " 'sodium_min',\n",
       " 'total_bilirubin_min',\n",
       " 'wbc_min',\n",
       " 'albumin_std',\n",
       " 'alp_std',\n",
       " 'alt_std',\n",
       " 'ast_std',\n",
       " 'bicarb_std',\n",
       " 'bun_std',\n",
       " 'calcium_std',\n",
       " 'chloride_std',\n",
       " 'creatinine_std',\n",
       " 'hemoglobin_std',\n",
       " 'neutrophil_count_std',\n",
       " 'platelet_std',\n",
       " 'potassium_std',\n",
       " 'psa_std',\n",
       " 'sodium_std',\n",
       " 'total_bilirubin_std',\n",
       " 'wbc_std',\n",
       " 'albumin_slope',\n",
       " 'alp_slope',\n",
       " 'alt_slope',\n",
       " 'ast_slope',\n",
       " 'bicarb_slope',\n",
       " 'bun_slope',\n",
       " 'calcium_slope',\n",
       " 'chloride_slope',\n",
       " 'creatinine_slope',\n",
       " 'hemoglobin_slope',\n",
       " 'neutrophil_count_slope',\n",
       " 'platelet_slope',\n",
       " 'potassium_slope',\n",
       " 'psa_slope',\n",
       " 'sodium_slope',\n",
       " 'total_bilirubin_slope',\n",
       " 'wbc_slope',\n",
       " 'albumin_slope_na',\n",
       " 'alp_slope_na',\n",
       " 'alt_slope_na',\n",
       " 'ast_slope_na',\n",
       " 'bicarb_slope_na',\n",
       " 'bun_slope_na',\n",
       " 'calcium_slope_na',\n",
       " 'chloride_slope_na',\n",
       " 'creatinine_slope_na',\n",
       " 'hemoglobin_slope_na',\n",
       " 'neutrophil_count_slope_na',\n",
       " 'platelet_slope_na',\n",
       " 'potassium_slope_na',\n",
       " 'psa_slope_na',\n",
       " 'sodium_slope_na',\n",
       " 'total_bilirubin_slope_na',\n",
       " 'wbc_slope_na']"
      ]
     },
     "execution_count": 290,
     "metadata": {},
     "output_type": "execute_result"
    }
   ],
   "source": [
    "list(lab_wide.columns)"
   ]
  },
  {
   "cell_type": "code",
   "execution_count": 291,
   "id": "a52aadba",
   "metadata": {},
   "outputs": [
    {
     "name": "stdout",
     "output_type": "stream",
     "text": [
      "Variable              Type         Data/Info\n",
      "--------------------------------------------\n",
      "biomarker_wide        DataFrame              PatientID brca_<...>\\n[3786 rows x 2 columns]\n",
      "demographics          DataFrame              PatientID Gende<...>\\n[3786 rows x 6 columns]\n",
      "ecog_diagnosis_wide   DataFrame               PatientID ecog<...>\\n[3786 rows x 2 columns]\n",
      "enhanced_met          DataFrame               PatientID diag<...>n[3786 rows x 17 columns]\n",
      "insurance_wide        DataFrame              PatientID  medi<...>\\n[3786 rows x 9 columns]\n",
      "lab                   DataFrame                 PatientID   <...>302346 rows x 17 columns]\n",
      "lab_avg_wide          DataFrame              PatientID  albu<...>n[2003 rows x 18 columns]\n",
      "lab_core              DataFrame                 PatientID Re<...>074239 rows x 11 columns]\n",
      "lab_core_win          DataFrame                 PatientID Re<...>n[52056 rows x 7 columns]\n",
      "lab_core_win_summ     DataFrame                 PatientID Re<...>[164975 rows x 8 columns]\n",
      "lab_diag_wide         DataFrame              PatientID  albu<...>n[3786 rows x 33 columns]\n",
      "lab_max_wide          DataFrame              PatientID  albu<...>n[2003 rows x 18 columns]\n",
      "lab_min_wide          DataFrame              PatientID  albu<...>n[2003 rows x 18 columns]\n",
      "lab_slope_wide        DataFrame              PatientID  albu<...>n[3786 rows x 35 columns]\n",
      "lab_std_wide          DataFrame              PatientID  albu<...>n[2003 rows x 18 columns]\n",
      "lab_summary_wide      DataFrame              PatientID  albu<...>n[3786 rows x 69 columns]\n",
      "lab_wide              DataFrame              PatientID  albu<...>[3786 rows x 135 columns]\n",
      "med_admin_wide        DataFrame              PatientID  ster<...>n[3786 rows x 13 columns]\n",
      "mortality             DataFrame              PatientID  deat<...>\\n[3786 rows x 3 columns]\n",
      "weight_wide           DataFrame              PatientID  weig<...>\\n[3786 rows x 7 columns]\n"
     ]
    }
   ],
   "source": [
    "%whos DataFrame"
   ]
  },
  {
   "cell_type": "code",
   "execution_count": 292,
   "id": "5a7cca1f",
   "metadata": {},
   "outputs": [],
   "source": [
    "# Keep biomarker_wide, demographics, ecog_diagnosis_wide, enhanced_met, insurance_wide, lab_wide, med_admin_wide, \n",
    "# mortality, and weight_wide\n",
    "del lab\n",
    "del lab_avg_wide\n",
    "del lab_core\n",
    "del lab_core_win\n",
    "del lab_core_win_summ\n",
    "del lab_diag_wide\n",
    "del lab_max_wide\n",
    "del lab_min_wide\n",
    "del lab_slope_wide\n",
    "del lab_std_wide\n",
    "del lab_summary_wide"
   ]
  },
  {
   "cell_type": "markdown",
   "id": "877354db",
   "metadata": {},
   "source": [
    "### 10. Diagnosis"
   ]
  },
  {
   "cell_type": "code",
   "execution_count": 293,
   "id": "929ee51a",
   "metadata": {},
   "outputs": [],
   "source": [
    "diagnosis = pd.read_csv('Diagnosis.csv')"
   ]
  },
  {
   "cell_type": "code",
   "execution_count": 294,
   "id": "0aac6f57",
   "metadata": {},
   "outputs": [],
   "source": [
    "diagnosis = diagnosis[diagnosis['PatientID'].isin(test_IDs)]"
   ]
  },
  {
   "cell_type": "code",
   "execution_count": 295,
   "id": "d37dae85",
   "metadata": {},
   "outputs": [
    {
     "data": {
      "text/plain": [
       "(124806, 3786)"
      ]
     },
     "execution_count": 295,
     "metadata": {},
     "output_type": "execute_result"
    }
   ],
   "source": [
    "row_ID(diagnosis)"
   ]
  },
  {
   "cell_type": "code",
   "execution_count": 296,
   "id": "b51b1518",
   "metadata": {},
   "outputs": [
    {
     "data": {
      "text/html": [
       "<div>\n",
       "<style scoped>\n",
       "    .dataframe tbody tr th:only-of-type {\n",
       "        vertical-align: middle;\n",
       "    }\n",
       "\n",
       "    .dataframe tbody tr th {\n",
       "        vertical-align: top;\n",
       "    }\n",
       "\n",
       "    .dataframe thead th {\n",
       "        text-align: right;\n",
       "    }\n",
       "</style>\n",
       "<table border=\"1\" class=\"dataframe\">\n",
       "  <thead>\n",
       "    <tr style=\"text-align: right;\">\n",
       "      <th></th>\n",
       "      <th>PatientID</th>\n",
       "      <th>DiagnosisDate</th>\n",
       "      <th>DiagnosisCode</th>\n",
       "      <th>DiagnosisCodeSystem</th>\n",
       "      <th>DiagnosisDescription</th>\n",
       "    </tr>\n",
       "  </thead>\n",
       "  <tbody>\n",
       "    <tr>\n",
       "      <th>528203</th>\n",
       "      <td>F6464040326FC</td>\n",
       "      <td>2019-10-03</td>\n",
       "      <td>K29.60</td>\n",
       "      <td>ICD-10-CM</td>\n",
       "      <td>Other gastritis without bleeding</td>\n",
       "    </tr>\n",
       "    <tr>\n",
       "      <th>600998</th>\n",
       "      <td>F7ABC5231273B</td>\n",
       "      <td>2019-09-03</td>\n",
       "      <td>M17.9</td>\n",
       "      <td>ICD-10-CM</td>\n",
       "      <td>Osteoarthritis of knee, unspecified</td>\n",
       "    </tr>\n",
       "    <tr>\n",
       "      <th>107933</th>\n",
       "      <td>FE2C4E3EBA5EA</td>\n",
       "      <td>2015-04-28</td>\n",
       "      <td>V15.82</td>\n",
       "      <td>ICD-9-CM</td>\n",
       "      <td>Personal history of tobacco use</td>\n",
       "    </tr>\n",
       "    <tr>\n",
       "      <th>208883</th>\n",
       "      <td>FEBCBE23C8DCB</td>\n",
       "      <td>2016-10-20</td>\n",
       "      <td>R32</td>\n",
       "      <td>ICD-10-CM</td>\n",
       "      <td>Unspecified urinary incontinence</td>\n",
       "    </tr>\n",
       "    <tr>\n",
       "      <th>22928</th>\n",
       "      <td>F3BF9DD58BE9F</td>\n",
       "      <td>2013-10-11</td>\n",
       "      <td>I48.91</td>\n",
       "      <td>ICD-10-CM</td>\n",
       "      <td>Unspecified atrial fibrillation</td>\n",
       "    </tr>\n",
       "  </tbody>\n",
       "</table>\n",
       "</div>"
      ],
      "text/plain": [
       "            PatientID DiagnosisDate DiagnosisCode DiagnosisCodeSystem  \\\n",
       "528203  F6464040326FC    2019-10-03        K29.60           ICD-10-CM   \n",
       "600998  F7ABC5231273B    2019-09-03         M17.9           ICD-10-CM   \n",
       "107933  FE2C4E3EBA5EA    2015-04-28        V15.82            ICD-9-CM   \n",
       "208883  FEBCBE23C8DCB    2016-10-20           R32           ICD-10-CM   \n",
       "22928   F3BF9DD58BE9F    2013-10-11        I48.91           ICD-10-CM   \n",
       "\n",
       "                       DiagnosisDescription  \n",
       "528203     Other gastritis without bleeding  \n",
       "600998  Osteoarthritis of knee, unspecified  \n",
       "107933      Personal history of tobacco use  \n",
       "208883     Unspecified urinary incontinence  \n",
       "22928       Unspecified atrial fibrillation  "
      ]
     },
     "execution_count": 296,
     "metadata": {},
     "output_type": "execute_result"
    }
   ],
   "source": [
    "diagnosis.sample(5)"
   ]
  },
  {
   "cell_type": "markdown",
   "id": "845687f5",
   "metadata": {},
   "source": [
    "**The Diagnosis table is in long format and has close to 14,000 unique ICD 9 and 10 codes. The median number of ICD codes per patient is 9 with a standard deviation of about 160 which shows the high varaibility in number of ICD codes per patent.** \n",
    "\n",
    "**ICD codes before metatstatic diagnosis and up to 30 days past diagnosis will be mapped to the Elixhauser comorbidity index. (\"Coding Algorithms for Defining Comorbidities in ICD-9-CM and ICD-10 Administrative Data\" by Quan et al is used as a guide for linking ICD codes to Elixhauser comorbidities.) Presence of concurrent or prior cancer diagnosis that is not lung cancer or metastasis and sites of metastases at time of diagnosis will also be created.** "
   ]
  },
  {
   "cell_type": "markdown",
   "id": "26c84a7c",
   "metadata": {},
   "source": [
    "#### Elixhauser"
   ]
  },
  {
   "cell_type": "code",
   "execution_count": 297,
   "id": "9a6739f9",
   "metadata": {},
   "outputs": [],
   "source": [
    "diagnosis = pd.merge(diagnosis, enhanced_met[['PatientID', 'met_date']], on = 'PatientID', how = 'left')"
   ]
  },
  {
   "cell_type": "code",
   "execution_count": 298,
   "id": "6245a318",
   "metadata": {},
   "outputs": [],
   "source": [
    "diagnosis.loc[:, 'DiagnosisDate'] = pd.to_datetime(diagnosis['DiagnosisDate'])"
   ]
  },
  {
   "cell_type": "code",
   "execution_count": 299,
   "id": "8691f926",
   "metadata": {},
   "outputs": [],
   "source": [
    "diagnosis.loc[:, 'diagnosis_date_diff'] = (diagnosis['DiagnosisDate'] - diagnosis['met_date']).dt.days"
   ]
  },
  {
   "cell_type": "code",
   "execution_count": 300,
   "id": "caaa4a1b",
   "metadata": {},
   "outputs": [],
   "source": [
    "# Remove decimal to make mapping to Elixhauser easier. \n",
    "diagnosis.loc[:, 'diagnosis_code'] = diagnosis['DiagnosisCode'].replace('\\.', '', regex = True)"
   ]
  },
  {
   "cell_type": "markdown",
   "id": "5591bd15",
   "metadata": {},
   "source": [
    "##### Elixhauser for ICD-9"
   ]
  },
  {
   "cell_type": "code",
   "execution_count": 301,
   "id": "8b4abfa2",
   "metadata": {},
   "outputs": [],
   "source": [
    "# ICD-9 dataframe with unique codes for each patient. \n",
    "diagnosis_elix_9 = (\n",
    "    diagnosis\n",
    "    .query('diagnosis_date_diff <= 30')\n",
    "    .query('DiagnosisCodeSystem == \"ICD-9-CM\"')\n",
    "    .drop_duplicates(subset = (['PatientID', 'DiagnosisCode']), keep = 'first')\n",
    "    .filter(items = ['PatientID', 'DiagnosisCode', 'diagnosis_code'])\n",
    ")"
   ]
  },
  {
   "cell_type": "code",
   "execution_count": 302,
   "id": "196689b7",
   "metadata": {},
   "outputs": [
    {
     "data": {
      "text/plain": [
       "(7520, 1337)"
      ]
     },
     "execution_count": 302,
     "metadata": {},
     "output_type": "execute_result"
    }
   ],
   "source": [
    "row_ID(diagnosis_elix_9)"
   ]
  },
  {
   "cell_type": "code",
   "execution_count": 303,
   "id": "32f30b35",
   "metadata": {},
   "outputs": [],
   "source": [
    "diagnosis_elix_9.loc[:, 'chf'] = (\n",
    "    np.where(diagnosis_elix_9['diagnosis_code'].str.match('39891|'\n",
    "                                                          '402(01|11|91)|'\n",
    "                                                          '404(01|03|[19][13])|'\n",
    "                                                          '42(5[456789]|8)'), 1, 0)\n",
    ")"
   ]
  },
  {
   "cell_type": "code",
   "execution_count": 304,
   "id": "86901164",
   "metadata": {},
   "outputs": [],
   "source": [
    "diagnosis_elix_9.loc[:, 'cardiac_arrhythmias'] = (\n",
    "    np.where(diagnosis_elix_9['diagnosis_code'].str.match('426([079]|1[023])|'\n",
    "                                                          '427[012346789]|'\n",
    "                                                          '7850|'\n",
    "                                                          '996(01|04)|'\n",
    "                                                          'V450|'\n",
    "                                                          'V533'), 1, 0)\n",
    ")"
   ]
  },
  {
   "cell_type": "code",
   "execution_count": 305,
   "id": "162cf7bd",
   "metadata": {},
   "outputs": [],
   "source": [
    "diagnosis_elix_9.loc[:, 'valvular_disease'] = (\n",
    "    np.where(diagnosis_elix_9['diagnosis_code'].str.match('0932|'\n",
    "                                                          '39[4567]|'\n",
    "                                                          '424|'\n",
    "                                                          '746[3456]|'\n",
    "                                                          'V422|'\n",
    "                                                          'V433'), 1, 0)\n",
    ")"
   ]
  },
  {
   "cell_type": "code",
   "execution_count": 306,
   "id": "6391cd6e",
   "metadata": {},
   "outputs": [],
   "source": [
    "diagnosis_elix_9.loc[:, 'pulmonary_circulation'] = (\n",
    "    np.where(diagnosis_elix_9['diagnosis_code'].str.match('41(5[01]|6|7[089])'), 1, 0)\n",
    ")"
   ]
  },
  {
   "cell_type": "code",
   "execution_count": 307,
   "id": "dc471056",
   "metadata": {},
   "outputs": [],
   "source": [
    "diagnosis_elix_9.loc[:, 'peripheral_vascular'] = (\n",
    "    np.where(diagnosis_elix_9['diagnosis_code'].str.match('0930|'\n",
    "                                                          '4373|'\n",
    "                                                          '44([01]|3[123456789]|71)|'\n",
    "                                                          '557[19]|'\n",
    "                                                          'V434'), 1, 0)\n",
    ")"
   ]
  },
  {
   "cell_type": "code",
   "execution_count": 308,
   "id": "a8fd25db",
   "metadata": {},
   "outputs": [],
   "source": [
    "diagnosis_elix_9.loc[:, 'htn_uncomplicated'] = (\n",
    "    np.where(diagnosis_elix_9['diagnosis_code'].str.match('401'), 1, 0)\n",
    ")"
   ]
  },
  {
   "cell_type": "code",
   "execution_count": 309,
   "id": "84006f71",
   "metadata": {},
   "outputs": [],
   "source": [
    "diagnosis_elix_9.loc[:, 'htn_complicated'] = (\n",
    "    np.where(diagnosis_elix_9['diagnosis_code'].str.match('40[2345]'), 1, 0)\n",
    ")"
   ]
  },
  {
   "cell_type": "code",
   "execution_count": 310,
   "id": "07107754",
   "metadata": {},
   "outputs": [],
   "source": [
    "diagnosis_elix_9.loc[:, 'paralysis'] = (\n",
    "    np.where(diagnosis_elix_9['diagnosis_code'].str.match('3341|'\n",
    "                                                          '34([23]|4[01234569])'), 1, 0)\n",
    ")"
   ]
  },
  {
   "cell_type": "code",
   "execution_count": 311,
   "id": "4b3c1a21",
   "metadata": {},
   "outputs": [],
   "source": [
    "diagnosis_elix_9.loc[:, 'other_neuro_disorders'] = (\n",
    "    np.where(diagnosis_elix_9['diagnosis_code'].str.match('33(19|2[01]|3([45]|92)|[45]|62)|'\n",
    "                                                          '34([015]|8[13])|'\n",
    "                                                          '78[04]3'), 1, 0)\n",
    ")"
   ]
  },
  {
   "cell_type": "code",
   "execution_count": 312,
   "id": "9ae074ce",
   "metadata": {},
   "outputs": [],
   "source": [
    "diagnosis_elix_9.loc[:, 'chronic_pulmonary'] = (\n",
    "    np.where(diagnosis_elix_9['diagnosis_code'].str.match('416[89]|'\n",
    "                                                          '49|'\n",
    "                                                          '50([012345]|64|8[18])'), 1, 0)\n",
    ")"
   ]
  },
  {
   "cell_type": "code",
   "execution_count": 313,
   "id": "5f16cf01",
   "metadata": {},
   "outputs": [],
   "source": [
    "diagnosis_elix_9.loc[:, 'diabetes_uncomplicated'] = (\n",
    "    np.where(diagnosis_elix_9['diagnosis_code'].str.match('250[0123]'), 1, 0)\n",
    ")"
   ]
  },
  {
   "cell_type": "code",
   "execution_count": 314,
   "id": "db3428d2",
   "metadata": {},
   "outputs": [],
   "source": [
    "diagnosis_elix_9.loc[:, 'diabetes_complicated'] = (\n",
    "    np.where(diagnosis_elix_9['diagnosis_code'].str.match('250[456789]'), 1, 0)\n",
    ")"
   ]
  },
  {
   "cell_type": "code",
   "execution_count": 315,
   "id": "1bc63a76",
   "metadata": {},
   "outputs": [],
   "source": [
    "diagnosis_elix_9.loc[:, 'hypothyroidism'] = (\n",
    "    np.where(diagnosis_elix_9['diagnosis_code'].str.match('2409|'\n",
    "                                                          '24([34]|6[18])'), 1, 0)\n",
    ")"
   ]
  },
  {
   "cell_type": "code",
   "execution_count": 316,
   "id": "3cc1de46",
   "metadata": {},
   "outputs": [],
   "source": [
    "diagnosis_elix_9.loc[:, 'renal_failure'] = (\n",
    "    np.where(diagnosis_elix_9['diagnosis_code'].str.match('403[019]1|'\n",
    "                                                          '404[019][23]|'\n",
    "                                                          '58([56]|80)|'\n",
    "                                                          'V4(20|51)|'\n",
    "                                                          'V56'), 1, 0)\n",
    ")"
   ]
  },
  {
   "cell_type": "code",
   "execution_count": 317,
   "id": "bd730da8",
   "metadata": {},
   "outputs": [],
   "source": [
    "diagnosis_elix_9.loc[:, 'liver_disease'] = (\n",
    "    np.where(diagnosis_elix_9['diagnosis_code'].str.match('070(2[23]]|3[23]|44|54|6|9)|'\n",
    "                                                          '456[012]|'\n",
    "                                                          '57([01]|2[2345678]|3[3489])|'\n",
    "                                                          'V427'), 1, 0)\n",
    ")"
   ]
  },
  {
   "cell_type": "code",
   "execution_count": 318,
   "id": "775b4880",
   "metadata": {},
   "outputs": [],
   "source": [
    "diagnosis_elix_9.loc[:, 'peptic_ulcer_disease'] = (\n",
    "    np.where(diagnosis_elix_9['diagnosis_code'].str.match('53[1234][79]'), 1, 0)\n",
    ")"
   ]
  },
  {
   "cell_type": "code",
   "execution_count": 319,
   "id": "a41a1c80",
   "metadata": {},
   "outputs": [],
   "source": [
    "diagnosis_elix_9.loc[:, 'aids_hiv'] = (\n",
    "    np.where(diagnosis_elix_9['diagnosis_code'].str.match('04[234]'), 1, 0)\n",
    ")"
   ]
  },
  {
   "cell_type": "code",
   "execution_count": 320,
   "id": "d8f7f2fc",
   "metadata": {},
   "outputs": [],
   "source": [
    "diagnosis_elix_9.loc[:, 'lymphoma'] = (\n",
    "    np.where(diagnosis_elix_9['diagnosis_code'].str.match('20([012]|30)|'\n",
    "                                                          '2386'), 1, 0)\n",
    ")"
   ]
  },
  {
   "cell_type": "code",
   "execution_count": 321,
   "id": "c829a203",
   "metadata": {},
   "outputs": [],
   "source": [
    "diagnosis_elix_9.loc[:, 'metastatic_cancer'] = (\n",
    "    np.where(diagnosis_elix_9['diagnosis_code'].str.match('19[6789]'), 1, 0)\n",
    ")"
   ]
  },
  {
   "cell_type": "code",
   "execution_count": 322,
   "id": "05f157d2",
   "metadata": {},
   "outputs": [],
   "source": [
    "diagnosis_elix_9.loc[:, 'solid_tumor_wout_mets'] = (\n",
    "    np.where(diagnosis_elix_9['diagnosis_code'].str.match('1[456]|'\n",
    "                                                          '17[012456789]|'\n",
    "                                                          '18|'\n",
    "                                                          '19([012345])'), 1, 0)\n",
    ")"
   ]
  },
  {
   "cell_type": "code",
   "execution_count": 323,
   "id": "db58e2b5",
   "metadata": {},
   "outputs": [],
   "source": [
    "diagnosis_elix_9.loc[:, 'rheumatoid_arthritis'] = (\n",
    "    np.where(diagnosis_elix_9['diagnosis_code'].str.match('446|'\n",
    "                                                          '7010|'\n",
    "                                                          '71(0[0123489]|12|4|93)|'\n",
    "                                                          '72([05]|85|889|930)'), 1, 0)\n",
    ")"
   ]
  },
  {
   "cell_type": "code",
   "execution_count": 324,
   "id": "dea7e7a3",
   "metadata": {},
   "outputs": [],
   "source": [
    "diagnosis_elix_9.loc[:, 'coagulopathy'] = (\n",
    "    np.where(diagnosis_elix_9['diagnosis_code'].str.match('28(6|7[1345])'), 1, 0)\n",
    ")"
   ]
  },
  {
   "cell_type": "code",
   "execution_count": 325,
   "id": "1d3d3060",
   "metadata": {},
   "outputs": [],
   "source": [
    "diagnosis_elix_9.loc[:, 'obesity'] = (\n",
    "    np.where(diagnosis_elix_9['diagnosis_code'].str.match('2780'), 1, 0)\n",
    ")"
   ]
  },
  {
   "cell_type": "code",
   "execution_count": 326,
   "id": "14d63616",
   "metadata": {},
   "outputs": [],
   "source": [
    "diagnosis_elix_9.loc[:, 'weight_loss'] = (\n",
    "    np.where(diagnosis_elix_9['diagnosis_code'].str.match('26[0123]|'\n",
    "                                                          '7832|'\n",
    "                                                          '7994'), 1, 0)\n",
    ")"
   ]
  },
  {
   "cell_type": "code",
   "execution_count": 327,
   "id": "d70e0171",
   "metadata": {},
   "outputs": [],
   "source": [
    "diagnosis_elix_9.loc[:, 'fluid_electrolyte'] = (\n",
    "    np.where(diagnosis_elix_9['diagnosis_code'].str.match('2(536|76)'), 1, 0)\n",
    ")"
   ]
  },
  {
   "cell_type": "code",
   "execution_count": 328,
   "id": "fa70481b",
   "metadata": {},
   "outputs": [],
   "source": [
    "diagnosis_elix_9.loc[:, 'blood_loss_anemia'] = (\n",
    "    np.where(diagnosis_elix_9['diagnosis_code'].str.match('2800'), 1, 0)\n",
    ")"
   ]
  },
  {
   "cell_type": "code",
   "execution_count": 329,
   "id": "c80d53d0",
   "metadata": {},
   "outputs": [],
   "source": [
    "diagnosis_elix_9.loc[:, 'deficiency_anemia'] = (\n",
    "    np.where(diagnosis_elix_9['diagnosis_code'].str.match('28(0[123456789]|1)'), 1, 0)\n",
    ")"
   ]
  },
  {
   "cell_type": "code",
   "execution_count": 330,
   "id": "969325ed",
   "metadata": {},
   "outputs": [],
   "source": [
    "diagnosis_elix_9.loc[:, 'alcohol_abuse'] = (\n",
    "    np.where(diagnosis_elix_9['diagnosis_code'].str.match('2652|'\n",
    "                                                          '291[12356789]|'\n",
    "                                                          '30(3[09]|50)|'\n",
    "                                                          '3575|'\n",
    "                                                          '4255|'\n",
    "                                                          '5353|'\n",
    "                                                          '571[0123]|'\n",
    "                                                          '980|'\n",
    "                                                          'V113'), 1, 0)\n",
    ")"
   ]
  },
  {
   "cell_type": "code",
   "execution_count": 331,
   "id": "53eea714",
   "metadata": {},
   "outputs": [],
   "source": [
    "diagnosis_elix_9.loc[:, 'drug_abuse'] = (\n",
    "    np.where(diagnosis_elix_9['diagnosis_code'].str.match('292|'\n",
    "                                                          '30(4|5[23456789])|'\n",
    "                                                          'V6542'), 1, 0)\n",
    ")"
   ]
  },
  {
   "cell_type": "code",
   "execution_count": 332,
   "id": "302993c0",
   "metadata": {},
   "outputs": [],
   "source": [
    "diagnosis_elix_9.loc[:, 'psychoses'] = (\n",
    "    np.where(diagnosis_elix_9['diagnosis_code'].str.match('2938|'\n",
    "                                                          '296[0145]4|'\n",
    "                                                          '29[578]'), 1, 0)\n",
    ")"
   ]
  },
  {
   "cell_type": "code",
   "execution_count": 333,
   "id": "a7694dfe",
   "metadata": {},
   "outputs": [],
   "source": [
    "diagnosis_elix_9.loc[:, 'depression'] = (\n",
    "    np.where(diagnosis_elix_9['diagnosis_code'].str.match('296[235]|'\n",
    "                                                          '3(004|09|11)'), 1, 0)\n",
    ")"
   ]
  },
  {
   "cell_type": "code",
   "execution_count": 334,
   "id": "95fc1e42",
   "metadata": {},
   "outputs": [],
   "source": [
    "# Create variable that captures ICD-9 codes not included in Elixhauser. \n",
    "diagnosis_elix_9.loc[:, 'elixhauser_other'] = (\n",
    "    np.where(diagnosis_elix_9.iloc[:, 3:].eq(0).all(1), 1, 0)\n",
    ")"
   ]
  },
  {
   "cell_type": "code",
   "execution_count": 335,
   "id": "d0126d10",
   "metadata": {},
   "outputs": [],
   "source": [
    "# Single-row-per-patient dataframe with columns as Elixhauser comorbidities. \n",
    "diagnosis_elix_9_wide = (\n",
    "    diagnosis_elix_9\n",
    "    .drop(columns = ['DiagnosisCode', 'diagnosis_code'])\n",
    "    .groupby('PatientID').sum()\n",
    "    .reset_index()\n",
    ")"
   ]
  },
  {
   "cell_type": "code",
   "execution_count": 336,
   "id": "8525f1c6",
   "metadata": {},
   "outputs": [
    {
     "data": {
      "text/plain": [
       "(1337, 1337)"
      ]
     },
     "execution_count": 336,
     "metadata": {},
     "output_type": "execute_result"
    }
   ],
   "source": [
    "row_ID(diagnosis_elix_9_wide)"
   ]
  },
  {
   "cell_type": "markdown",
   "id": "ae8a16fb",
   "metadata": {},
   "source": [
    "##### Elixhauser for ICD-10"
   ]
  },
  {
   "cell_type": "code",
   "execution_count": 337,
   "id": "34061d42",
   "metadata": {},
   "outputs": [],
   "source": [
    "# ICD-10 dataframe with unique codes for each patient.  \n",
    "diagnosis_elix_10 = (\n",
    "    diagnosis\n",
    "    .query('diagnosis_date_diff <= 30')\n",
    "    .query('DiagnosisCodeSystem == \"ICD-10-CM\"')\n",
    "    .drop_duplicates(subset = (['PatientID', 'DiagnosisCode']), keep = 'first')\n",
    "    .filter(items = ['PatientID', 'DiagnosisCode', 'diagnosis_code'])\n",
    ")"
   ]
  },
  {
   "cell_type": "code",
   "execution_count": 338,
   "id": "a933794d",
   "metadata": {},
   "outputs": [
    {
     "data": {
      "text/plain": [
       "(15741, 2067)"
      ]
     },
     "execution_count": 338,
     "metadata": {},
     "output_type": "execute_result"
    }
   ],
   "source": [
    "row_ID(diagnosis_elix_10)"
   ]
  },
  {
   "cell_type": "code",
   "execution_count": 339,
   "id": "5f7ea104",
   "metadata": {},
   "outputs": [],
   "source": [
    "diagnosis_elix_10.loc[:, 'chf'] = (\n",
    "    np.where(diagnosis_elix_10['diagnosis_code'].str.match('I099|'\n",
    "                                                           'I1(10|3[02])|'\n",
    "                                                           'I255|'\n",
    "                                                           'I4(2[056789]|3)|'\n",
    "                                                           'I50|'\n",
    "                                                           'P290'), 1, 0)\n",
    ")"
   ]
  },
  {
   "cell_type": "code",
   "execution_count": 340,
   "id": "8bd0b587",
   "metadata": {},
   "outputs": [],
   "source": [
    "diagnosis_elix_10.loc[:, 'cardiac_arrhythmias'] = (\n",
    "    np.where(diagnosis_elix_10['diagnosis_code'].str.match('I4(4[123]|5[69]|[789])|'\n",
    "                                                           'R00[018]|'\n",
    "                                                           'T821|'\n",
    "                                                           'Z[49]50'), 1, 0)\n",
    ")"
   ]
  },
  {
   "cell_type": "code",
   "execution_count": 341,
   "id": "959e6378",
   "metadata": {},
   "outputs": [],
   "source": [
    "diagnosis_elix_10.loc[:, 'valvular_disease'] = (\n",
    "    np.where(diagnosis_elix_10['diagnosis_code'].str.match('A520|'\n",
    "                                                           'I0([5678]|9[18])|'\n",
    "                                                           'I3[456789]|'\n",
    "                                                           'Q23[0123]|'\n",
    "                                                           'Z95[234]'), 1, 0)\n",
    ")"
   ]
  },
  {
   "cell_type": "code",
   "execution_count": 342,
   "id": "e3ec3843",
   "metadata": {},
   "outputs": [],
   "source": [
    "diagnosis_elix_10.loc[:, 'pulmonary_circulation'] = (\n",
    "    np.where(diagnosis_elix_10['diagnosis_code'].str.match('I2([67]|8[089])'), 1, 0)\n",
    ")"
   ]
  },
  {
   "cell_type": "code",
   "execution_count": 343,
   "id": "1a5f093f",
   "metadata": {},
   "outputs": [],
   "source": [
    "diagnosis_elix_10.loc[:, 'peripheral_vascular'] = (\n",
    "    np.where(diagnosis_elix_10['diagnosis_code'].str.match('I7([01]|3[189]|71|9[02])|'\n",
    "                                                           'K55[189]|'\n",
    "                                                           'Z95[89]'), 1, 0)\n",
    ")"
   ]
  },
  {
   "cell_type": "code",
   "execution_count": 344,
   "id": "1b596ed9",
   "metadata": {},
   "outputs": [],
   "source": [
    "diagnosis_elix_10.loc[:, 'htn_uncomplicated'] = (\n",
    "    np.where(diagnosis_elix_10['diagnosis_code'].str.match('I10'), 1, 0)\n",
    ")"
   ]
  },
  {
   "cell_type": "code",
   "execution_count": 345,
   "id": "3da40c79",
   "metadata": {},
   "outputs": [],
   "source": [
    "diagnosis_elix_10.loc[:, 'htn_complicated'] = (\n",
    "    np.where(diagnosis_elix_10['diagnosis_code'].str.match('I1[1235]'), 1, 0)\n",
    ")"
   ]
  },
  {
   "cell_type": "code",
   "execution_count": 346,
   "id": "12ad0f6b",
   "metadata": {},
   "outputs": [],
   "source": [
    "diagnosis_elix_10.loc[:, 'paralysis'] = (\n",
    "    np.where(diagnosis_elix_10['diagnosis_code'].str.match('G041|'\n",
    "                                                           'G114|'\n",
    "                                                           'G8(0[12]|[12]|3[012349])'), 1, 0)\n",
    ")"
   ]
  },
  {
   "cell_type": "code",
   "execution_count": 347,
   "id": "8b5010a5",
   "metadata": {},
   "outputs": [],
   "source": [
    "diagnosis_elix_10.loc[:, 'other_neuro_disorders'] = (\n",
    "    np.where(diagnosis_elix_10['diagnosis_code'].str.match('G1[0123]|'\n",
    "                                                           'G2([012]|5[45])|'\n",
    "                                                           'G3(1[289]|[2567])|'\n",
    "                                                           'G4[01]|'\n",
    "                                                           'G93[14]|'\n",
    "                                                           'R470|'\n",
    "                                                           'R56'), 1, 0)\n",
    ")"
   ]
  },
  {
   "cell_type": "code",
   "execution_count": 348,
   "id": "cdff0ac6",
   "metadata": {},
   "outputs": [],
   "source": [
    "diagnosis_elix_10.loc[:, 'chronic_pulmonary'] = (\n",
    "    np.where(diagnosis_elix_10['diagnosis_code'].str.match('I27[89]|'\n",
    "                                                           'J4[01234567]|'\n",
    "                                                           'J6([01234567]|84)|'\n",
    "                                                           'J70[13]'), 1, 0)\n",
    ")"
   ]
  },
  {
   "cell_type": "code",
   "execution_count": 349,
   "id": "633611b0",
   "metadata": {},
   "outputs": [],
   "source": [
    "diagnosis_elix_10.loc[:, 'diabetes_uncomplicated'] = (\n",
    "    np.where(diagnosis_elix_10['diagnosis_code'].str.match('E1[01234][019]'), 1, 0)\n",
    ")"
   ]
  },
  {
   "cell_type": "code",
   "execution_count": 350,
   "id": "98a31f35",
   "metadata": {},
   "outputs": [],
   "source": [
    "diagnosis_elix_10.loc[:, 'diabetes_complicated'] = (\n",
    "    np.where(diagnosis_elix_10['diagnosis_code'].str.match('E1[01234][2345678]'), 1, 0)\n",
    ")"
   ]
  },
  {
   "cell_type": "code",
   "execution_count": 351,
   "id": "24e44ae3",
   "metadata": {},
   "outputs": [],
   "source": [
    "diagnosis_elix_10.loc[:, 'hypothyroidism'] = (\n",
    "    np.where(diagnosis_elix_10['diagnosis_code'].str.match('E0[0123]|'\n",
    "                                                           'E890'), 1, 0)\n",
    ")"
   ]
  },
  {
   "cell_type": "code",
   "execution_count": 352,
   "id": "b3d4fd21",
   "metadata": {},
   "outputs": [],
   "source": [
    "diagnosis_elix_10.loc[:, 'renal_failure'] = (\n",
    "    np.where(diagnosis_elix_10['diagnosis_code'].str.match('I1(20|31)|'\n",
    "                                                           'N1[89]|'\n",
    "                                                           'N250|'\n",
    "                                                           'Z49[012]|'\n",
    "                                                           'Z9(40|92)'), 1, 0)\n",
    ")"
   ]
  },
  {
   "cell_type": "code",
   "execution_count": 353,
   "id": "04f299bd",
   "metadata": {},
   "outputs": [],
   "source": [
    "diagnosis_elix_10.loc[:, 'liver_disease'] = (\n",
    "    np.where(diagnosis_elix_10['diagnosis_code'].str.match('B18|'\n",
    "                                                           'I8(5|64)|'\n",
    "                                                           'I982|'\n",
    "                                                           'K7(0|1[13457]|[234]|6[023456789])|'\n",
    "                                                           'Z944'), 1, 0)\n",
    ")"
   ]
  },
  {
   "cell_type": "code",
   "execution_count": 354,
   "id": "7235d94b",
   "metadata": {},
   "outputs": [],
   "source": [
    "diagnosis_elix_10.loc[:, 'peptic_ulcer_disease'] = (\n",
    "    np.where(diagnosis_elix_10['diagnosis_code'].str.match('K2[5678][79]'), 1, 0)\n",
    ")"
   ]
  },
  {
   "cell_type": "code",
   "execution_count": 355,
   "id": "09c7d8de",
   "metadata": {},
   "outputs": [],
   "source": [
    "diagnosis_elix_10.loc[:, 'aids_hiv'] = (\n",
    "    np.where(diagnosis_elix_10['diagnosis_code'].str.match('B2[0124]'), 1, 0)\n",
    ")"
   ]
  },
  {
   "cell_type": "code",
   "execution_count": 356,
   "id": "578e6db5",
   "metadata": {},
   "outputs": [],
   "source": [
    "diagnosis_elix_10.loc[:, 'lymphoma'] = (\n",
    "    np.where(diagnosis_elix_10['diagnosis_code'].str.match('C8[123458]|'\n",
    "                                                           'C9(0[02]|6)'), 1, 0)\n",
    ")"
   ]
  },
  {
   "cell_type": "code",
   "execution_count": 357,
   "id": "7413b4ad",
   "metadata": {},
   "outputs": [],
   "source": [
    "diagnosis_elix_10.loc[:, 'metastatic_cancer'] = (\n",
    "    np.where(diagnosis_elix_10['diagnosis_code'].str.match('C(7[789]|80)'), 1, 0)\n",
    ")"
   ]
  },
  {
   "cell_type": "code",
   "execution_count": 358,
   "id": "629f7d68",
   "metadata": {},
   "outputs": [],
   "source": [
    "diagnosis_elix_10.loc[:, 'solid_tumor_wout_mets'] = (\n",
    "    np.where(diagnosis_elix_10['diagnosis_code'].str.match('C[01]|'\n",
    "                                                           'C2[0123456]|'\n",
    "                                                           'C3[01234789]|'\n",
    "                                                           'C4[01356789]|'\n",
    "                                                           'C5[012345678]|'\n",
    "                                                           'C6|'\n",
    "                                                           'C7[0123456]|'\n",
    "                                                           'C97'), 1, 0)\n",
    ")"
   ]
  },
  {
   "cell_type": "code",
   "execution_count": 359,
   "id": "a19fa393",
   "metadata": {},
   "outputs": [],
   "source": [
    "diagnosis_elix_10.loc[:, 'rheumatoid_arthritis'] = (\n",
    "    np.where(diagnosis_elix_10['diagnosis_code'].str.match('L94[013]|'\n",
    "                                                           'M0[568]|'\n",
    "                                                           'M12[03]|'\n",
    "                                                           'M3(0|1[0123]|[2345])|'\n",
    "                                                           'M4(5|6[189])'), 1, 0)\n",
    ")"
   ]
  },
  {
   "cell_type": "code",
   "execution_count": 360,
   "id": "4d7b436d",
   "metadata": {},
   "outputs": [],
   "source": [
    "diagnosis_elix_10.loc[:, 'coagulopathy'] = (\n",
    "    np.where(diagnosis_elix_10['diagnosis_code'].str.match('D6([5678]|9[13456])'), 1, 0)\n",
    ")"
   ]
  },
  {
   "cell_type": "code",
   "execution_count": 361,
   "id": "3282cb60",
   "metadata": {},
   "outputs": [],
   "source": [
    "diagnosis_elix_10.loc[:, 'obesity'] = (\n",
    "    np.where(diagnosis_elix_10['diagnosis_code'].str.match('E66'), 1, 0)\n",
    ")"
   ]
  },
  {
   "cell_type": "code",
   "execution_count": 362,
   "id": "a57ccae2",
   "metadata": {},
   "outputs": [],
   "source": [
    "diagnosis_elix_10.loc[:, 'weight_loss'] = (\n",
    "    np.where(diagnosis_elix_10['diagnosis_code'].str.match('E4[0123456]|'\n",
    "                                                           'R6(34|4)'), 1, 0)\n",
    ")"
   ]
  },
  {
   "cell_type": "code",
   "execution_count": 363,
   "id": "a1064fb7",
   "metadata": {},
   "outputs": [],
   "source": [
    "diagnosis_elix_10.loc[:, 'fluid_electrolyte'] = (\n",
    "    np.where(diagnosis_elix_10['diagnosis_code'].str.match('E222|'\n",
    "                                                           'E8[67]'), 1, 0)\n",
    ")"
   ]
  },
  {
   "cell_type": "code",
   "execution_count": 364,
   "id": "8d6c62ca",
   "metadata": {},
   "outputs": [],
   "source": [
    "diagnosis_elix_10.loc[:, 'blood_loss_anemia'] = (\n",
    "    np.where(diagnosis_elix_10['diagnosis_code'].str.match('D500'), 1, 0)\n",
    ")"
   ]
  },
  {
   "cell_type": "code",
   "execution_count": 365,
   "id": "05e21159",
   "metadata": {},
   "outputs": [],
   "source": [
    "diagnosis_elix_10.loc[:, 'deficiency_anemia'] = (\n",
    "    np.where(diagnosis_elix_10['diagnosis_code'].str.match('D5(0[89]|[123])'), 1, 0)\n",
    ")"
   ]
  },
  {
   "cell_type": "code",
   "execution_count": 366,
   "id": "a0bcfb9e",
   "metadata": {},
   "outputs": [],
   "source": [
    "diagnosis_elix_10.loc[:, 'alcohol_abuse'] = (\n",
    "    np.where(diagnosis_elix_10['diagnosis_code'].str.match('F10|'\n",
    "                                                           'E52|'\n",
    "                                                           'G621|'\n",
    "                                                           'I426|'\n",
    "                                                           'K292|'\n",
    "                                                           'K70[039]|'\n",
    "                                                           'T51|'\n",
    "                                                           'Z502|'\n",
    "                                                           'Z7(14|21)'), 1, 0)\n",
    ")"
   ]
  },
  {
   "cell_type": "code",
   "execution_count": 367,
   "id": "c0eaf649",
   "metadata": {},
   "outputs": [],
   "source": [
    "diagnosis_elix_10.loc[:, 'drug_abuse'] = (\n",
    "    np.where(diagnosis_elix_10['diagnosis_code'].str.match('F1[12345689]|'\n",
    "                                                           'Z7(15|22)'), 1, 0)\n",
    ")"
   ]
  },
  {
   "cell_type": "code",
   "execution_count": 368,
   "id": "e3aa0505",
   "metadata": {},
   "outputs": [],
   "source": [
    "diagnosis_elix_10.loc[:, 'psychoses'] = (\n",
    "    np.where(diagnosis_elix_10['diagnosis_code'].str.match('F2[0234589]|'\n",
    "                                                           'F3([01]2|15)'), 1, 0)\n",
    ")"
   ]
  },
  {
   "cell_type": "code",
   "execution_count": 369,
   "id": "31bf489f",
   "metadata": {},
   "outputs": [],
   "source": [
    "diagnosis_elix_10.loc[:, 'depression'] = (\n",
    "    np.where(diagnosis_elix_10['diagnosis_code'].str.match('F204|'\n",
    "                                                           'F3(1[345]|[23]|41)|'\n",
    "                                                           'F4[13]2'), 1, 0)\n",
    ")"
   ]
  },
  {
   "cell_type": "code",
   "execution_count": 370,
   "id": "248790ce",
   "metadata": {},
   "outputs": [],
   "source": [
    "# Create variable that captures ICD-10 codes not included in Elixhauser. \n",
    "diagnosis_elix_10.loc[:, 'elixhauser_other'] = (\n",
    "    np.where(diagnosis_elix_10.iloc[:, 3:].eq(0).all(1), 1, 0)\n",
    ")"
   ]
  },
  {
   "cell_type": "code",
   "execution_count": 371,
   "id": "a6fecee6",
   "metadata": {},
   "outputs": [],
   "source": [
    "diagnosis_elix_10_wide = (\n",
    "    diagnosis_elix_10\n",
    "    .drop(columns = ['DiagnosisCode', 'diagnosis_code'])\n",
    "    .groupby('PatientID').sum()\n",
    "    .reset_index()\n",
    ")"
   ]
  },
  {
   "cell_type": "code",
   "execution_count": 372,
   "id": "614f0fce",
   "metadata": {},
   "outputs": [
    {
     "data": {
      "text/plain": [
       "(2067, 2067)"
      ]
     },
     "execution_count": 372,
     "metadata": {},
     "output_type": "execute_result"
    }
   ],
   "source": [
    "row_ID(diagnosis_elix_10_wide)"
   ]
  },
  {
   "cell_type": "code",
   "execution_count": 373,
   "id": "a9344dc4",
   "metadata": {},
   "outputs": [],
   "source": [
    "# Merge Elixhauser 9 and 10 and sum by PatientID.\n",
    "diagnosis_elixhauser = (\n",
    "    pd.concat([diagnosis_elix_9_wide, diagnosis_elix_10_wide])\n",
    "    .groupby('PatientID').sum()\n",
    ")"
   ]
  },
  {
   "cell_type": "code",
   "execution_count": 374,
   "id": "12b35cf0",
   "metadata": {},
   "outputs": [],
   "source": [
    "# Create unqiue ICD count for each patient. \n",
    "diagnosis_elixhauser['icd_count'] = diagnosis_elixhauser.sum(axis = 1)  "
   ]
  },
  {
   "cell_type": "code",
   "execution_count": 375,
   "id": "187610ce",
   "metadata": {},
   "outputs": [],
   "source": [
    "# Other than unique ICD count, values greater than 1 are set to 1; 0 remains unchanged. \n",
    "diagnosis_elixhauser.iloc[:, :-1] = (\n",
    "    diagnosis_elixhauser.iloc[:, :-1].mask(diagnosis_elixhauser.iloc[:, :-1] >1, 1)\n",
    ")"
   ]
  },
  {
   "cell_type": "code",
   "execution_count": 376,
   "id": "47a8fa32",
   "metadata": {},
   "outputs": [],
   "source": [
    "diagnosis_elixhauser = diagnosis_elixhauser.reset_index()"
   ]
  },
  {
   "cell_type": "code",
   "execution_count": 377,
   "id": "ef0bfa6f",
   "metadata": {},
   "outputs": [
    {
     "data": {
      "text/plain": [
       "(2797, 2797)"
      ]
     },
     "execution_count": 377,
     "metadata": {},
     "output_type": "execute_result"
    }
   ],
   "source": [
    "row_ID(diagnosis_elixhauser)"
   ]
  },
  {
   "cell_type": "code",
   "execution_count": 378,
   "id": "e46461e7",
   "metadata": {},
   "outputs": [],
   "source": [
    "# Append missing training IDs.\n",
    "diagnosis_elixhauser = (\n",
    "    diagnosis_elixhauser\n",
    "    .append(\n",
    "        pd.Series(test_IDs)[~pd.Series(test_IDs).isin(diagnosis_elixhauser['PatientID'])].to_frame(name = 'PatientID'), \n",
    "        sort = False)\n",
    "    .fillna(0)\n",
    ")"
   ]
  },
  {
   "cell_type": "code",
   "execution_count": 379,
   "id": "40f1bece",
   "metadata": {},
   "outputs": [
    {
     "data": {
      "text/plain": [
       "(3786, 3786)"
      ]
     },
     "execution_count": 379,
     "metadata": {},
     "output_type": "execute_result"
    }
   ],
   "source": [
    "row_ID(diagnosis_elixhauser)"
   ]
  },
  {
   "cell_type": "code",
   "execution_count": 380,
   "id": "b49e76d4",
   "metadata": {},
   "outputs": [
    {
     "data": {
      "text/html": [
       "<div>\n",
       "<style scoped>\n",
       "    .dataframe tbody tr th:only-of-type {\n",
       "        vertical-align: middle;\n",
       "    }\n",
       "\n",
       "    .dataframe tbody tr th {\n",
       "        vertical-align: top;\n",
       "    }\n",
       "\n",
       "    .dataframe thead th {\n",
       "        text-align: right;\n",
       "    }\n",
       "</style>\n",
       "<table border=\"1\" class=\"dataframe\">\n",
       "  <thead>\n",
       "    <tr style=\"text-align: right;\">\n",
       "      <th></th>\n",
       "      <th>PatientID</th>\n",
       "      <th>chf</th>\n",
       "      <th>cardiac_arrhythmias</th>\n",
       "      <th>valvular_disease</th>\n",
       "      <th>pulmonary_circulation</th>\n",
       "      <th>peripheral_vascular</th>\n",
       "      <th>htn_uncomplicated</th>\n",
       "      <th>htn_complicated</th>\n",
       "      <th>paralysis</th>\n",
       "      <th>other_neuro_disorders</th>\n",
       "      <th>...</th>\n",
       "      <th>weight_loss</th>\n",
       "      <th>fluid_electrolyte</th>\n",
       "      <th>blood_loss_anemia</th>\n",
       "      <th>deficiency_anemia</th>\n",
       "      <th>alcohol_abuse</th>\n",
       "      <th>drug_abuse</th>\n",
       "      <th>psychoses</th>\n",
       "      <th>depression</th>\n",
       "      <th>elixhauser_other</th>\n",
       "      <th>icd_count</th>\n",
       "    </tr>\n",
       "  </thead>\n",
       "  <tbody>\n",
       "    <tr>\n",
       "      <th>1002</th>\n",
       "      <td>F3673CFC2EF54</td>\n",
       "      <td>0.0</td>\n",
       "      <td>0.0</td>\n",
       "      <td>0.0</td>\n",
       "      <td>0.0</td>\n",
       "      <td>0.0</td>\n",
       "      <td>0.0</td>\n",
       "      <td>0.0</td>\n",
       "      <td>0.0</td>\n",
       "      <td>0.0</td>\n",
       "      <td>...</td>\n",
       "      <td>0.0</td>\n",
       "      <td>0.0</td>\n",
       "      <td>0.0</td>\n",
       "      <td>0.0</td>\n",
       "      <td>0.0</td>\n",
       "      <td>0.0</td>\n",
       "      <td>0.0</td>\n",
       "      <td>0.0</td>\n",
       "      <td>0.0</td>\n",
       "      <td>0.0</td>\n",
       "    </tr>\n",
       "    <tr>\n",
       "      <th>1853</th>\n",
       "      <td>FA8F982A3FC25</td>\n",
       "      <td>0.0</td>\n",
       "      <td>0.0</td>\n",
       "      <td>1.0</td>\n",
       "      <td>1.0</td>\n",
       "      <td>1.0</td>\n",
       "      <td>0.0</td>\n",
       "      <td>0.0</td>\n",
       "      <td>0.0</td>\n",
       "      <td>1.0</td>\n",
       "      <td>...</td>\n",
       "      <td>1.0</td>\n",
       "      <td>1.0</td>\n",
       "      <td>0.0</td>\n",
       "      <td>1.0</td>\n",
       "      <td>0.0</td>\n",
       "      <td>0.0</td>\n",
       "      <td>0.0</td>\n",
       "      <td>0.0</td>\n",
       "      <td>1.0</td>\n",
       "      <td>182.0</td>\n",
       "    </tr>\n",
       "    <tr>\n",
       "      <th>409</th>\n",
       "      <td>F2522A5749CDC</td>\n",
       "      <td>0.0</td>\n",
       "      <td>0.0</td>\n",
       "      <td>0.0</td>\n",
       "      <td>0.0</td>\n",
       "      <td>0.0</td>\n",
       "      <td>0.0</td>\n",
       "      <td>0.0</td>\n",
       "      <td>0.0</td>\n",
       "      <td>0.0</td>\n",
       "      <td>...</td>\n",
       "      <td>0.0</td>\n",
       "      <td>0.0</td>\n",
       "      <td>0.0</td>\n",
       "      <td>0.0</td>\n",
       "      <td>0.0</td>\n",
       "      <td>0.0</td>\n",
       "      <td>0.0</td>\n",
       "      <td>0.0</td>\n",
       "      <td>0.0</td>\n",
       "      <td>4.0</td>\n",
       "    </tr>\n",
       "    <tr>\n",
       "      <th>1188</th>\n",
       "      <td>F690E05957713</td>\n",
       "      <td>0.0</td>\n",
       "      <td>0.0</td>\n",
       "      <td>0.0</td>\n",
       "      <td>0.0</td>\n",
       "      <td>0.0</td>\n",
       "      <td>0.0</td>\n",
       "      <td>0.0</td>\n",
       "      <td>0.0</td>\n",
       "      <td>0.0</td>\n",
       "      <td>...</td>\n",
       "      <td>0.0</td>\n",
       "      <td>0.0</td>\n",
       "      <td>0.0</td>\n",
       "      <td>0.0</td>\n",
       "      <td>0.0</td>\n",
       "      <td>0.0</td>\n",
       "      <td>0.0</td>\n",
       "      <td>0.0</td>\n",
       "      <td>0.0</td>\n",
       "      <td>1.0</td>\n",
       "    </tr>\n",
       "    <tr>\n",
       "      <th>1887</th>\n",
       "      <td>F24C12D1EE935</td>\n",
       "      <td>0.0</td>\n",
       "      <td>0.0</td>\n",
       "      <td>0.0</td>\n",
       "      <td>0.0</td>\n",
       "      <td>0.0</td>\n",
       "      <td>0.0</td>\n",
       "      <td>0.0</td>\n",
       "      <td>0.0</td>\n",
       "      <td>0.0</td>\n",
       "      <td>...</td>\n",
       "      <td>0.0</td>\n",
       "      <td>0.0</td>\n",
       "      <td>0.0</td>\n",
       "      <td>0.0</td>\n",
       "      <td>0.0</td>\n",
       "      <td>0.0</td>\n",
       "      <td>0.0</td>\n",
       "      <td>0.0</td>\n",
       "      <td>0.0</td>\n",
       "      <td>0.0</td>\n",
       "    </tr>\n",
       "  </tbody>\n",
       "</table>\n",
       "<p>5 rows × 34 columns</p>\n",
       "</div>"
      ],
      "text/plain": [
       "          PatientID  chf  cardiac_arrhythmias  valvular_disease  \\\n",
       "1002  F3673CFC2EF54  0.0                  0.0               0.0   \n",
       "1853  FA8F982A3FC25  0.0                  0.0               1.0   \n",
       "409   F2522A5749CDC  0.0                  0.0               0.0   \n",
       "1188  F690E05957713  0.0                  0.0               0.0   \n",
       "1887  F24C12D1EE935  0.0                  0.0               0.0   \n",
       "\n",
       "      pulmonary_circulation  peripheral_vascular  htn_uncomplicated  \\\n",
       "1002                    0.0                  0.0                0.0   \n",
       "1853                    1.0                  1.0                0.0   \n",
       "409                     0.0                  0.0                0.0   \n",
       "1188                    0.0                  0.0                0.0   \n",
       "1887                    0.0                  0.0                0.0   \n",
       "\n",
       "      htn_complicated  paralysis  other_neuro_disorders  ...  weight_loss  \\\n",
       "1002              0.0        0.0                    0.0  ...          0.0   \n",
       "1853              0.0        0.0                    1.0  ...          1.0   \n",
       "409               0.0        0.0                    0.0  ...          0.0   \n",
       "1188              0.0        0.0                    0.0  ...          0.0   \n",
       "1887              0.0        0.0                    0.0  ...          0.0   \n",
       "\n",
       "      fluid_electrolyte  blood_loss_anemia  deficiency_anemia  alcohol_abuse  \\\n",
       "1002                0.0                0.0                0.0            0.0   \n",
       "1853                1.0                0.0                1.0            0.0   \n",
       "409                 0.0                0.0                0.0            0.0   \n",
       "1188                0.0                0.0                0.0            0.0   \n",
       "1887                0.0                0.0                0.0            0.0   \n",
       "\n",
       "      drug_abuse  psychoses  depression  elixhauser_other  icd_count  \n",
       "1002         0.0        0.0         0.0               0.0        0.0  \n",
       "1853         0.0        0.0         0.0               1.0      182.0  \n",
       "409          0.0        0.0         0.0               0.0        4.0  \n",
       "1188         0.0        0.0         0.0               0.0        1.0  \n",
       "1887         0.0        0.0         0.0               0.0        0.0  \n",
       "\n",
       "[5 rows x 34 columns]"
      ]
     },
     "execution_count": 380,
     "metadata": {},
     "output_type": "execute_result"
    }
   ],
   "source": [
    "diagnosis_elixhauser.sample(5)"
   ]
  },
  {
   "cell_type": "markdown",
   "id": "aac462f5",
   "metadata": {},
   "source": [
    "#### Other cancer "
   ]
  },
  {
   "cell_type": "markdown",
   "id": "fa8e423a",
   "metadata": {},
   "source": [
    "##### ICD-9 Cancer codes "
   ]
  },
  {
   "cell_type": "code",
   "execution_count": 381,
   "id": "86600330",
   "metadata": {},
   "outputs": [],
   "source": [
    "# Select all ICD-9 cancer codes between 140-209.\n",
    "# Exclude benign neoplasms: 210-229, carcinoma in site: 230-234, and neoplasms of uncertain behavior or nature: 235-239.\n",
    "cancer_9 = (\n",
    "    diagnosis_elix_9[diagnosis_elix_9['DiagnosisCode'].str.startswith(\n",
    "        ('14','15', '16', '17', '18', '19', '20'))]\n",
    "    .filter(items = ['PatientID', 'DiagnosisCode', 'diagnosis_code'])\n",
    ")"
   ]
  },
  {
   "cell_type": "code",
   "execution_count": 382,
   "id": "ef7f4dad",
   "metadata": {},
   "outputs": [
    {
     "data": {
      "text/plain": [
       "(1655, 1142)"
      ]
     },
     "execution_count": 382,
     "metadata": {},
     "output_type": "execute_result"
    }
   ],
   "source": [
    "row_ID(cancer_9)"
   ]
  },
  {
   "cell_type": "markdown",
   "id": "a89f7f7c",
   "metadata": {},
   "source": [
    "**Remove the following ICD-9 codes representing prostate cancer, metastasis, ill-defined neoplasms, and benign neoplasms of skin (BCC and SCC):**\n",
    "* **173 - Other and unspecified malignant neoplasm of skin**\n",
    "* **185 - Malignant neoplasm of the prostate**\n",
    "* **196 - Secondary and unspecified malignant neoplasm of lymph nodes**\n",
    "* **197 - Secondary malignant neoplasm of respiratory and digestive systems**\n",
    "* **198 - Secondary malignant neoplasm of other specified sites** \n",
    "* **199 - Malignant neoplasm without specification of site**"
   ]
  },
  {
   "cell_type": "code",
   "execution_count": 383,
   "id": "b3a6e2df",
   "metadata": {},
   "outputs": [],
   "source": [
    "# Dataframe of ICD-9 neoplasm codes that exclude colorectal cancer, metastasis, or benign neoplasms.\n",
    "other_cancer_9 = (\n",
    "    cancer_9[~cancer_9['diagnosis_code'].str.match('173|'\n",
    "                                                   '185|'\n",
    "                                                   '19([6789])')]\n",
    ")"
   ]
  },
  {
   "cell_type": "code",
   "execution_count": 384,
   "id": "13f10ae1",
   "metadata": {},
   "outputs": [
    {
     "name": "stderr",
     "output_type": "stream",
     "text": [
      "/Users/xavierorcutt/Dropbox/ist_project/myenv/lib/python3.7/site-packages/pandas/core/indexing.py:1667: SettingWithCopyWarning: \n",
      "A value is trying to be set on a copy of a slice from a DataFrame.\n",
      "Try using .loc[row_indexer,col_indexer] = value instead\n",
      "\n",
      "See the caveats in the documentation: https://pandas.pydata.org/pandas-docs/stable/user_guide/indexing.html#returning-a-view-versus-a-copy\n",
      "  self.obj[key] = value\n"
     ]
    }
   ],
   "source": [
    "other_cancer_9.loc[:,'other_cancer_9'] = 1"
   ]
  },
  {
   "cell_type": "code",
   "execution_count": 385,
   "id": "761a6b4b",
   "metadata": {},
   "outputs": [],
   "source": [
    "other_cancer_9 = (\n",
    "    other_cancer_9\n",
    "    .drop_duplicates(subset = 'PatientID', keep = 'first')\n",
    "    .filter(items = ['PatientID', 'other_cancer_9'])\n",
    ")"
   ]
  },
  {
   "cell_type": "code",
   "execution_count": 386,
   "id": "e1802e39",
   "metadata": {},
   "outputs": [
    {
     "data": {
      "text/plain": [
       "(154, 154)"
      ]
     },
     "execution_count": 386,
     "metadata": {},
     "output_type": "execute_result"
    }
   ],
   "source": [
    "row_ID(other_cancer_9)"
   ]
  },
  {
   "cell_type": "code",
   "execution_count": 387,
   "id": "6a5459d5",
   "metadata": {},
   "outputs": [],
   "source": [
    "other_cancer_9 = (\n",
    "    other_cancer_9\n",
    "    .append(\n",
    "        pd.Series(test_IDs)[~pd.Series(test_IDs).isin(other_cancer_9['PatientID'])].to_frame(name = 'PatientID'), \n",
    "        sort = False)\n",
    "    .fillna(0)\n",
    ")"
   ]
  },
  {
   "cell_type": "code",
   "execution_count": 388,
   "id": "70712e42",
   "metadata": {},
   "outputs": [
    {
     "data": {
      "text/plain": [
       "(3786, 3786)"
      ]
     },
     "execution_count": 388,
     "metadata": {},
     "output_type": "execute_result"
    }
   ],
   "source": [
    "row_ID(other_cancer_9)"
   ]
  },
  {
   "cell_type": "markdown",
   "id": "8033f764",
   "metadata": {},
   "source": [
    "##### ICD-10 Cancer codes"
   ]
  },
  {
   "cell_type": "code",
   "execution_count": 389,
   "id": "1fd73dfb",
   "metadata": {},
   "outputs": [],
   "source": [
    "# Select all ICD-10 codes between C00-D49 \n",
    "# Exclude in situ neoplasms: D00-D09, benign neoplasms: D10-D36, benign neuroendocrine tumor: D3A, and neoplasms of unspecified behavior: D37 and D49\n",
    "cancer_10 = (\n",
    "    diagnosis_elix_10[diagnosis_elix_10['DiagnosisCode'].str.startswith(\n",
    "        ('C0', 'C1', 'C2', 'C3', 'C4', 'C5', 'C6', 'C7', 'C8', 'C9', 'D38', 'D39', 'D4'))]\n",
    "    .filter(items = ['PatientID', 'DiagnosisCode', 'diagnosis_code'])\n",
    ")"
   ]
  },
  {
   "cell_type": "code",
   "execution_count": 390,
   "id": "f3f4f0b9",
   "metadata": {},
   "outputs": [
    {
     "data": {
      "text/plain": [
       "(3224, 1851)"
      ]
     },
     "execution_count": 390,
     "metadata": {},
     "output_type": "execute_result"
    }
   ],
   "source": [
    "row_ID(cancer_10)"
   ]
  },
  {
   "cell_type": "markdown",
   "id": "489ee0f2",
   "metadata": {},
   "source": [
    "**Remove the following ICD-10 codes which capture breast cancer, metastasis, and benign skin neoplasms(eg., BCC and SCC).**\n",
    "* **C61 - Malignant neoplasm of prostate** \n",
    "* **C44 - Other and unspecified malignant neoplasm of skin**\n",
    "* **C77 - Secondary and unspecified malignant neoplasm of lymph nodes**\n",
    "* **C78 - Secondary malignant neoplasm of respiratory and digestive organs**\n",
    "* **C79 - Secondary malignant neoplasm of other and unspecified sites**\n",
    "* **C80 - Malignant neoplasm without specification of site**\n",
    "* **D47.2 - Monoclonal gammopathy**\n",
    "* **D48 - Neoplasm of uncertain behavior of other and unspecified sites**\n",
    "* **D49 - Neoplasms of unspecified behavior** "
   ]
  },
  {
   "cell_type": "code",
   "execution_count": 391,
   "id": "8b9b111d",
   "metadata": {},
   "outputs": [],
   "source": [
    "# Dataframe of ICD-10 neoplasm codes that exclude prostate cancer, metastasis, or benign neoplasms.\n",
    "other_cancer_10 = (\n",
    "    cancer_10[~cancer_10['diagnosis_code'].str.match('C61|'\n",
    "                                                     'C44|'\n",
    "                                                     'C7[789]|'\n",
    "                                                     'C80|'\n",
    "                                                     'D4(72|[89])')]\n",
    ")"
   ]
  },
  {
   "cell_type": "code",
   "execution_count": 392,
   "id": "cefbfd89",
   "metadata": {},
   "outputs": [],
   "source": [
    "other_cancer_10.loc[:,'other_cancer_10'] = 1"
   ]
  },
  {
   "cell_type": "code",
   "execution_count": 393,
   "id": "fdb579b9",
   "metadata": {},
   "outputs": [],
   "source": [
    "# Drop duplicates.\n",
    "other_cancer_10 = (\n",
    "    other_cancer_10\n",
    "    .drop_duplicates(subset = 'PatientID', keep = 'first')\n",
    "    .filter(items = ['PatientID', 'other_cancer_10'])\n",
    ")"
   ]
  },
  {
   "cell_type": "code",
   "execution_count": 394,
   "id": "a3ab6a8d",
   "metadata": {},
   "outputs": [
    {
     "data": {
      "text/plain": [
       "(176, 176)"
      ]
     },
     "execution_count": 394,
     "metadata": {},
     "output_type": "execute_result"
    }
   ],
   "source": [
    "row_ID(other_cancer_10)"
   ]
  },
  {
   "cell_type": "code",
   "execution_count": 395,
   "id": "b5f541ec",
   "metadata": {},
   "outputs": [],
   "source": [
    "# Append missing training IDs.\n",
    "other_cancer_10 = (\n",
    "    other_cancer_10\n",
    "    .append(\n",
    "        pd.Series(test_IDs)[~pd.Series(test_IDs).isin(other_cancer_10['PatientID'])].to_frame(name = 'PatientID'), \n",
    "        sort = False)\n",
    "    .fillna(0)\n",
    ")"
   ]
  },
  {
   "cell_type": "code",
   "execution_count": 396,
   "id": "ad26199f",
   "metadata": {},
   "outputs": [
    {
     "data": {
      "text/plain": [
       "(3786, 3786)"
      ]
     },
     "execution_count": 396,
     "metadata": {},
     "output_type": "execute_result"
    }
   ],
   "source": [
    "row_ID(other_cancer_10)"
   ]
  },
  {
   "cell_type": "code",
   "execution_count": 397,
   "id": "f5d0bab3",
   "metadata": {},
   "outputs": [],
   "source": [
    "other_cancer = pd.merge(other_cancer_9, other_cancer_10, on = 'PatientID')"
   ]
  },
  {
   "cell_type": "code",
   "execution_count": 398,
   "id": "ad4bae9c",
   "metadata": {},
   "outputs": [],
   "source": [
    "# Combine other_cancer_9 and other_cancer_19; replace values equal to 2 with 1. \n",
    "other_cancer = (\n",
    "    other_cancer\n",
    "    .assign(other_cancer = other_cancer['other_cancer_9'] + other_cancer['other_cancer_10'])\n",
    "    .filter(items = ['PatientID', 'other_cancer'])\n",
    "    .replace(2, 1)\n",
    ")"
   ]
  },
  {
   "cell_type": "code",
   "execution_count": 399,
   "id": "19ca5afd",
   "metadata": {},
   "outputs": [
    {
     "data": {
      "text/plain": [
       "(3786, 3786)"
      ]
     },
     "execution_count": 399,
     "metadata": {},
     "output_type": "execute_result"
    }
   ],
   "source": [
    "row_ID(other_cancer)"
   ]
  },
  {
   "cell_type": "markdown",
   "id": "64bb44fe",
   "metadata": {},
   "source": [
    "#### Sites of metastases"
   ]
  },
  {
   "cell_type": "markdown",
   "id": "2aef2755",
   "metadata": {},
   "source": [
    "##### ICD-9 sites of metastases"
   ]
  },
  {
   "cell_type": "code",
   "execution_count": 400,
   "id": "acc9859d",
   "metadata": {},
   "outputs": [],
   "source": [
    "# Create dataframe contianing patients with ICD-9 codes within -90 to +30 days from metastatic diagnosis and remove duplicate codes\n",
    "diagnosis_mets_9 = (\n",
    "    diagnosis\n",
    "    .query('diagnosis_date_diff >= -90 and diagnosis_date_diff <= 30')\n",
    "    .query('DiagnosisCodeSystem == \"ICD-9-CM\"')\n",
    "    .drop_duplicates(subset = ['PatientID', 'DiagnosisCode'], keep = 'first')\n",
    "    .filter(items = ['PatientID', 'DiagnosisCode', 'diagnosis_code'])\n",
    ")"
   ]
  },
  {
   "cell_type": "markdown",
   "id": "a6e22ba0",
   "metadata": {},
   "source": [
    "**Sites of metastasis will be grouped into the following categories according to ICD-9 codes:**\n",
    "* **Thorax - 197.0, 197.1, 197.2, and 197.3**\n",
    "* **Peritoneum - 197.6**\n",
    "* **Liver - 197.7**\n",
    "* **Other GI - 197.4 and 197.8**\n",
    "* **CNS - 198.3 and 198.4**\n",
    "* **Bone - 198.5**\n",
    "* **Lymph -- 196**\n",
    "* **Kidney, bladder -- 198.0 and 198.1**\n",
    "* **Other - 198.2, 198.6, 198.7, and 198.8**"
   ]
  },
  {
   "cell_type": "code",
   "execution_count": 401,
   "id": "88c41e2f",
   "metadata": {},
   "outputs": [],
   "source": [
    "diagnosis_mets_9['thorax_met'] = np.where(diagnosis_mets_9['diagnosis_code'].str.match('197[0123]'), 1, 0)"
   ]
  },
  {
   "cell_type": "code",
   "execution_count": 402,
   "id": "25870a6a",
   "metadata": {},
   "outputs": [],
   "source": [
    "diagnosis_mets_9['peritoneum_met'] = np.where(diagnosis_mets_9['diagnosis_code'].str.match('1976'), 1, 0)"
   ]
  },
  {
   "cell_type": "code",
   "execution_count": 403,
   "id": "7d95e0a9",
   "metadata": {},
   "outputs": [],
   "source": [
    "diagnosis_mets_9['liver_met'] = np.where(diagnosis_mets_9['diagnosis_code'].str.match('1977'), 1, 0)"
   ]
  },
  {
   "cell_type": "code",
   "execution_count": 404,
   "id": "ebe70d5e",
   "metadata": {},
   "outputs": [],
   "source": [
    "diagnosis_mets_9['other_gi_met'] = np.where(diagnosis_mets_9['diagnosis_code'].str.match('197[48]'), 1, 0)"
   ]
  },
  {
   "cell_type": "code",
   "execution_count": 405,
   "id": "4958139d",
   "metadata": {},
   "outputs": [],
   "source": [
    "diagnosis_mets_9['cns_met'] = np.where(diagnosis_mets_9['diagnosis_code'].str.match('198[34]'), 1, 0)"
   ]
  },
  {
   "cell_type": "code",
   "execution_count": 406,
   "id": "881cb6e5",
   "metadata": {},
   "outputs": [],
   "source": [
    "diagnosis_mets_9['bone_met'] = np.where(diagnosis_mets_9['diagnosis_code'].str.match('1985'), 1, 0)"
   ]
  },
  {
   "cell_type": "code",
   "execution_count": 407,
   "id": "e1ea8e29",
   "metadata": {},
   "outputs": [],
   "source": [
    "diagnosis_mets_9['lymph_met'] = np.where(diagnosis_mets_9['diagnosis_code'].str.match('196'), 1, 0)"
   ]
  },
  {
   "cell_type": "code",
   "execution_count": 408,
   "id": "4f1536b1",
   "metadata": {},
   "outputs": [],
   "source": [
    "diagnosis_mets_9['kidney_bladder_met'] = np.where(diagnosis_mets_9['diagnosis_code'].str.match('198[01]'), 1, 0)"
   ]
  },
  {
   "cell_type": "code",
   "execution_count": 409,
   "id": "a6c39615",
   "metadata": {},
   "outputs": [],
   "source": [
    "diagnosis_mets_9['other_met'] = np.where(diagnosis_mets_9['diagnosis_code'].str.match('198[2678]'), 1, 0)"
   ]
  },
  {
   "cell_type": "code",
   "execution_count": 410,
   "id": "6e92345b",
   "metadata": {},
   "outputs": [],
   "source": [
    "# Collapse columns and sum.\n",
    "diagnosis_mets_9 = (\n",
    "    diagnosis_mets_9\n",
    "    .drop(columns = ['DiagnosisCode', 'diagnosis_code'])\n",
    "    .groupby('PatientID').sum()\n",
    "    .reset_index()\n",
    ")"
   ]
  },
  {
   "cell_type": "markdown",
   "id": "31eb5393",
   "metadata": {},
   "source": [
    "##### ICD-10 sites of metastases"
   ]
  },
  {
   "cell_type": "code",
   "execution_count": 411,
   "id": "dd43b255",
   "metadata": {},
   "outputs": [],
   "source": [
    "# Create dataframe contianing patients with ICD-10 codes within -90 to +30 days from advanced diagnosis and remove duplicate codes.\n",
    "diagnosis_mets_10 = (\n",
    "    diagnosis\n",
    "    .query('diagnosis_date_diff >= -90 and diagnosis_date_diff <= 30')\n",
    "    .query('DiagnosisCodeSystem == \"ICD-10-CM\"')\n",
    "    .drop_duplicates(subset = ['PatientID', 'DiagnosisCode'], keep = 'first')\n",
    "    .filter(items = ['PatientID', 'DiagnosisCode', 'diagnosis_code'])\n",
    ")"
   ]
  },
  {
   "cell_type": "markdown",
   "id": "89392c31",
   "metadata": {},
   "source": [
    "**Sites of metastasis will be grouped into the following categories according to ICD-10 codes:**\n",
    "* **Thorax - C78.0, C78.1, C78.2, and C78.3**\n",
    "* **Peritoneum - C78.6**\n",
    "* **Liver - C78.7**\n",
    "* **Other GI - C78.4 and C78.8**\n",
    "* **CNS - C79.3 and C79.4**\n",
    "* **Bone - C79.5**\n",
    "* **Lymph -- C77**\n",
    "* **Kidney, bladder -- C79.0 and 79.1**\n",
    "* **Other - C79.2, C79.6, C79.7, C79.8, and C79.9**"
   ]
  },
  {
   "cell_type": "code",
   "execution_count": 412,
   "id": "30d66cc1",
   "metadata": {},
   "outputs": [],
   "source": [
    "diagnosis_mets_10['thorax_met'] = np.where(diagnosis_mets_10['diagnosis_code'].str.match('C78[0123]'), 1, 0)"
   ]
  },
  {
   "cell_type": "code",
   "execution_count": 413,
   "id": "5931f670",
   "metadata": {},
   "outputs": [],
   "source": [
    "diagnosis_mets_10['peritoneum_met'] = np.where(diagnosis_mets_10['diagnosis_code'].str.match('C786'), 1, 0)"
   ]
  },
  {
   "cell_type": "code",
   "execution_count": 414,
   "id": "79355d9a",
   "metadata": {},
   "outputs": [],
   "source": [
    "diagnosis_mets_10['liver_met'] = np.where(diagnosis_mets_10['diagnosis_code'].str.match('C787'), 1, 0)"
   ]
  },
  {
   "cell_type": "code",
   "execution_count": 415,
   "id": "b3f90e6f",
   "metadata": {},
   "outputs": [],
   "source": [
    "diagnosis_mets_10['other_gi_met'] = np.where(diagnosis_mets_10['diagnosis_code'].str.match('C78[48]'), 1, 0)"
   ]
  },
  {
   "cell_type": "code",
   "execution_count": 416,
   "id": "8945b9f7",
   "metadata": {},
   "outputs": [],
   "source": [
    "diagnosis_mets_10['cns_met'] = np.where(diagnosis_mets_10['diagnosis_code'].str.match('C79[34]'), 1, 0)"
   ]
  },
  {
   "cell_type": "code",
   "execution_count": 417,
   "id": "bbd59ca3",
   "metadata": {},
   "outputs": [],
   "source": [
    "diagnosis_mets_10['bone_met'] = np.where(diagnosis_mets_10['diagnosis_code'].str.match('C795'), 1, 0)"
   ]
  },
  {
   "cell_type": "code",
   "execution_count": 418,
   "id": "d6dba12d",
   "metadata": {},
   "outputs": [],
   "source": [
    "diagnosis_mets_10['lymph_met'] = np.where(diagnosis_mets_10['diagnosis_code'].str.match('C77'), 1, 0)"
   ]
  },
  {
   "cell_type": "code",
   "execution_count": 419,
   "id": "854f5652",
   "metadata": {},
   "outputs": [],
   "source": [
    "diagnosis_mets_10['kidney_bladder_met'] = np.where(diagnosis_mets_10['diagnosis_code'].str.match('C79[01]'), 1, 0)"
   ]
  },
  {
   "cell_type": "code",
   "execution_count": 420,
   "id": "cf19e303",
   "metadata": {},
   "outputs": [],
   "source": [
    "diagnosis_mets_10['other_met'] = np.where(diagnosis_mets_10['diagnosis_code'].str.match('C79[26789]'), 1, 0)"
   ]
  },
  {
   "cell_type": "code",
   "execution_count": 421,
   "id": "6ef76b7e",
   "metadata": {},
   "outputs": [],
   "source": [
    "# Collapse columns and sum. \n",
    "diagnosis_mets_10 = (\n",
    "    diagnosis_mets_10\n",
    "    .drop(columns = ['DiagnosisCode', 'diagnosis_code'])\n",
    "    .groupby('PatientID').sum()\n",
    "    .reset_index()\n",
    ")"
   ]
  },
  {
   "cell_type": "code",
   "execution_count": 422,
   "id": "164b121c",
   "metadata": {},
   "outputs": [],
   "source": [
    "# Merge ICD-9 and ICD-10 mets tables; collapse and sum. \n",
    "mets_wide = (\n",
    "    pd.concat([diagnosis_mets_9, diagnosis_mets_10])\n",
    "    .groupby('PatientID').sum()\n",
    ")"
   ]
  },
  {
   "cell_type": "code",
   "execution_count": 423,
   "id": "55a652c7",
   "metadata": {},
   "outputs": [],
   "source": [
    "# All values >1 replaced by 1. \n",
    "mets_wide = (\n",
    "    mets_wide.mask(mets_wide > 1, 1)\n",
    "    .reset_index()\n",
    ")"
   ]
  },
  {
   "cell_type": "code",
   "execution_count": 424,
   "id": "b165e1a7",
   "metadata": {},
   "outputs": [],
   "source": [
    "# Append missing training IDs.\n",
    "mets_wide = (\n",
    "    mets_wide.append(\n",
    "        pd.Series(test_IDs)[~pd.Series(test_IDs).isin(mets_wide['PatientID'])].to_frame(name = 'PatientID'), \n",
    "        sort = False)\n",
    "    .fillna(0)\n",
    ")"
   ]
  },
  {
   "cell_type": "code",
   "execution_count": 425,
   "id": "45c3dd04",
   "metadata": {},
   "outputs": [
    {
     "data": {
      "text/plain": [
       "(3786, 3786)"
      ]
     },
     "execution_count": 425,
     "metadata": {},
     "output_type": "execute_result"
    }
   ],
   "source": [
    "row_ID(mets_wide)"
   ]
  },
  {
   "cell_type": "code",
   "execution_count": 426,
   "id": "d524d891",
   "metadata": {},
   "outputs": [
    {
     "data": {
      "text/html": [
       "<div>\n",
       "<style scoped>\n",
       "    .dataframe tbody tr th:only-of-type {\n",
       "        vertical-align: middle;\n",
       "    }\n",
       "\n",
       "    .dataframe tbody tr th {\n",
       "        vertical-align: top;\n",
       "    }\n",
       "\n",
       "    .dataframe thead th {\n",
       "        text-align: right;\n",
       "    }\n",
       "</style>\n",
       "<table border=\"1\" class=\"dataframe\">\n",
       "  <thead>\n",
       "    <tr style=\"text-align: right;\">\n",
       "      <th></th>\n",
       "      <th>PatientID</th>\n",
       "      <th>thorax_met</th>\n",
       "      <th>peritoneum_met</th>\n",
       "      <th>liver_met</th>\n",
       "      <th>other_gi_met</th>\n",
       "      <th>cns_met</th>\n",
       "      <th>bone_met</th>\n",
       "      <th>lymph_met</th>\n",
       "      <th>kidney_bladder_met</th>\n",
       "      <th>other_met</th>\n",
       "    </tr>\n",
       "  </thead>\n",
       "  <tbody>\n",
       "    <tr>\n",
       "      <th>684</th>\n",
       "      <td>FB7252E516F54</td>\n",
       "      <td>0.0</td>\n",
       "      <td>0.0</td>\n",
       "      <td>0.0</td>\n",
       "      <td>0.0</td>\n",
       "      <td>0.0</td>\n",
       "      <td>0.0</td>\n",
       "      <td>0.0</td>\n",
       "      <td>0.0</td>\n",
       "      <td>0.0</td>\n",
       "    </tr>\n",
       "    <tr>\n",
       "      <th>528</th>\n",
       "      <td>F3CE7A1129925</td>\n",
       "      <td>0.0</td>\n",
       "      <td>0.0</td>\n",
       "      <td>0.0</td>\n",
       "      <td>0.0</td>\n",
       "      <td>0.0</td>\n",
       "      <td>0.0</td>\n",
       "      <td>0.0</td>\n",
       "      <td>0.0</td>\n",
       "      <td>0.0</td>\n",
       "    </tr>\n",
       "    <tr>\n",
       "      <th>1254</th>\n",
       "      <td>FE7348C7058E6</td>\n",
       "      <td>0.0</td>\n",
       "      <td>0.0</td>\n",
       "      <td>0.0</td>\n",
       "      <td>0.0</td>\n",
       "      <td>0.0</td>\n",
       "      <td>0.0</td>\n",
       "      <td>0.0</td>\n",
       "      <td>0.0</td>\n",
       "      <td>0.0</td>\n",
       "    </tr>\n",
       "    <tr>\n",
       "      <th>2558</th>\n",
       "      <td>F1742665B1FEE</td>\n",
       "      <td>0.0</td>\n",
       "      <td>0.0</td>\n",
       "      <td>0.0</td>\n",
       "      <td>0.0</td>\n",
       "      <td>0.0</td>\n",
       "      <td>0.0</td>\n",
       "      <td>0.0</td>\n",
       "      <td>0.0</td>\n",
       "      <td>0.0</td>\n",
       "    </tr>\n",
       "    <tr>\n",
       "      <th>3463</th>\n",
       "      <td>FB1D4ED9A76A3</td>\n",
       "      <td>0.0</td>\n",
       "      <td>0.0</td>\n",
       "      <td>0.0</td>\n",
       "      <td>0.0</td>\n",
       "      <td>0.0</td>\n",
       "      <td>0.0</td>\n",
       "      <td>0.0</td>\n",
       "      <td>0.0</td>\n",
       "      <td>0.0</td>\n",
       "    </tr>\n",
       "  </tbody>\n",
       "</table>\n",
       "</div>"
      ],
      "text/plain": [
       "          PatientID  thorax_met  peritoneum_met  liver_met  other_gi_met  \\\n",
       "684   FB7252E516F54         0.0             0.0        0.0           0.0   \n",
       "528   F3CE7A1129925         0.0             0.0        0.0           0.0   \n",
       "1254  FE7348C7058E6         0.0             0.0        0.0           0.0   \n",
       "2558  F1742665B1FEE         0.0             0.0        0.0           0.0   \n",
       "3463  FB1D4ED9A76A3         0.0             0.0        0.0           0.0   \n",
       "\n",
       "      cns_met  bone_met  lymph_met  kidney_bladder_met  other_met  \n",
       "684       0.0       0.0        0.0                 0.0        0.0  \n",
       "528       0.0       0.0        0.0                 0.0        0.0  \n",
       "1254      0.0       0.0        0.0                 0.0        0.0  \n",
       "2558      0.0       0.0        0.0                 0.0        0.0  \n",
       "3463      0.0       0.0        0.0                 0.0        0.0  "
      ]
     },
     "execution_count": 426,
     "metadata": {},
     "output_type": "execute_result"
    }
   ],
   "source": [
    "mets_wide.sample(5)"
   ]
  },
  {
   "cell_type": "markdown",
   "id": "ea0da796",
   "metadata": {},
   "source": [
    "#### Merge"
   ]
  },
  {
   "cell_type": "code",
   "execution_count": 427,
   "id": "ac805997",
   "metadata": {},
   "outputs": [],
   "source": [
    "diagnosis_wide = pd.merge(diagnosis_elixhauser, other_cancer, on = 'PatientID')"
   ]
  },
  {
   "cell_type": "code",
   "execution_count": 428,
   "id": "08cb16a5",
   "metadata": {},
   "outputs": [],
   "source": [
    "diagnosis_wide = pd.merge(diagnosis_wide, mets_wide, on = 'PatientID')"
   ]
  },
  {
   "cell_type": "code",
   "execution_count": 429,
   "id": "e6ca9c15",
   "metadata": {},
   "outputs": [
    {
     "data": {
      "text/plain": [
       "(3786, 3786)"
      ]
     },
     "execution_count": 429,
     "metadata": {},
     "output_type": "execute_result"
    }
   ],
   "source": [
    "row_ID(diagnosis_wide)"
   ]
  },
  {
   "cell_type": "code",
   "execution_count": 430,
   "id": "1de824fe",
   "metadata": {},
   "outputs": [
    {
     "data": {
      "text/plain": [
       "['PatientID',\n",
       " 'chf',\n",
       " 'cardiac_arrhythmias',\n",
       " 'valvular_disease',\n",
       " 'pulmonary_circulation',\n",
       " 'peripheral_vascular',\n",
       " 'htn_uncomplicated',\n",
       " 'htn_complicated',\n",
       " 'paralysis',\n",
       " 'other_neuro_disorders',\n",
       " 'chronic_pulmonary',\n",
       " 'diabetes_uncomplicated',\n",
       " 'diabetes_complicated',\n",
       " 'hypothyroidism',\n",
       " 'renal_failure',\n",
       " 'liver_disease',\n",
       " 'peptic_ulcer_disease',\n",
       " 'aids_hiv',\n",
       " 'lymphoma',\n",
       " 'metastatic_cancer',\n",
       " 'solid_tumor_wout_mets',\n",
       " 'rheumatoid_arthritis',\n",
       " 'coagulopathy',\n",
       " 'obesity',\n",
       " 'weight_loss',\n",
       " 'fluid_electrolyte',\n",
       " 'blood_loss_anemia',\n",
       " 'deficiency_anemia',\n",
       " 'alcohol_abuse',\n",
       " 'drug_abuse',\n",
       " 'psychoses',\n",
       " 'depression',\n",
       " 'elixhauser_other',\n",
       " 'icd_count',\n",
       " 'other_cancer',\n",
       " 'thorax_met',\n",
       " 'peritoneum_met',\n",
       " 'liver_met',\n",
       " 'other_gi_met',\n",
       " 'cns_met',\n",
       " 'bone_met',\n",
       " 'lymph_met',\n",
       " 'kidney_bladder_met',\n",
       " 'other_met']"
      ]
     },
     "execution_count": 430,
     "metadata": {},
     "output_type": "execute_result"
    }
   ],
   "source": [
    "list(diagnosis_wide.columns)"
   ]
  },
  {
   "cell_type": "code",
   "execution_count": 431,
   "id": "38a6c068",
   "metadata": {},
   "outputs": [
    {
     "name": "stdout",
     "output_type": "stream",
     "text": [
      "Variable                 Type         Data/Info\n",
      "-----------------------------------------------\n",
      "biomarker_wide           DataFrame              PatientID brca_<...>\\n[3786 rows x 2 columns]\n",
      "cancer_10                DataFrame                PatientID Dia<...>\\n[3224 rows x 3 columns]\n",
      "cancer_9                 DataFrame                PatientID Dia<...>\\n[1655 rows x 3 columns]\n",
      "demographics             DataFrame              PatientID Gende<...>\\n[3786 rows x 6 columns]\n",
      "diagnosis                DataFrame                PatientID Dia<...>[124806 rows x 8 columns]\n",
      "diagnosis_elix_10        DataFrame                PatientID Dia<...>[15741 rows x 35 columns]\n",
      "diagnosis_elix_10_wide   DataFrame              PatientID  chf <...>n[2067 rows x 33 columns]\n",
      "diagnosis_elix_9         DataFrame                PatientID Dia<...>n[7520 rows x 35 columns]\n",
      "diagnosis_elix_9_wide    DataFrame              PatientID  chf <...>n[1337 rows x 33 columns]\n",
      "diagnosis_elixhauser     DataFrame              PatientID  chf <...>n[3786 rows x 34 columns]\n",
      "diagnosis_mets_10        DataFrame              PatientID  thor<...>n[1770 rows x 10 columns]\n",
      "diagnosis_mets_9         DataFrame             PatientID  thora<...>\\n[508 rows x 10 columns]\n",
      "diagnosis_wide           DataFrame              PatientID  chf <...>n[3786 rows x 44 columns]\n",
      "ecog_diagnosis_wide      DataFrame               PatientID ecog<...>\\n[3786 rows x 2 columns]\n",
      "enhanced_met             DataFrame               PatientID diag<...>n[3786 rows x 17 columns]\n",
      "insurance_wide           DataFrame              PatientID  medi<...>\\n[3786 rows x 9 columns]\n",
      "lab_wide                 DataFrame              PatientID  albu<...>[3786 rows x 135 columns]\n",
      "med_admin_wide           DataFrame              PatientID  ster<...>n[3786 rows x 13 columns]\n",
      "mets_wide                DataFrame              PatientID  thor<...>n[3786 rows x 10 columns]\n",
      "mortality                DataFrame              PatientID  deat<...>\\n[3786 rows x 3 columns]\n",
      "other_cancer             DataFrame              PatientID  othe<...>\\n[3786 rows x 2 columns]\n",
      "other_cancer_10          DataFrame              PatientID  othe<...>\\n[3786 rows x 2 columns]\n",
      "other_cancer_9           DataFrame              PatientID  othe<...>\\n[3786 rows x 2 columns]\n",
      "weight_wide              DataFrame              PatientID  weig<...>\\n[3786 rows x 7 columns]\n"
     ]
    }
   ],
   "source": [
    "%whos DataFrame"
   ]
  },
  {
   "cell_type": "code",
   "execution_count": 432,
   "id": "b527d466",
   "metadata": {},
   "outputs": [],
   "source": [
    "# Keep biomarker_wide, demographics, diagnosis_wide, ecog_diagnosis_wide, enhanced_met, insurance_wide, \n",
    "# lab_wide, med_admin_wide, mortality, and weight_wide\n",
    "del cancer_10\n",
    "del cancer_9\n",
    "del diagnosis\n",
    "del diagnosis_elix_10\n",
    "del diagnosis_elix_10_wide\n",
    "del diagnosis_elix_9\n",
    "del diagnosis_elix_9_wide\n",
    "del diagnosis_elixhauser\n",
    "del diagnosis_mets_10\n",
    "del diagnosis_mets_9\n",
    "del mets_wide\n",
    "del other_cancer\n",
    "del other_cancer_10\n",
    "del other_cancer_9"
   ]
  },
  {
   "cell_type": "markdown",
   "id": "4ea6ea2e",
   "metadata": {},
   "source": [
    "### 11. Prior treatments "
   ]
  },
  {
   "cell_type": "markdown",
   "id": "5bf25423",
   "metadata": {},
   "source": [
    "#### Surgery or radiation "
   ]
  },
  {
   "cell_type": "code",
   "execution_count": 433,
   "id": "daf1d87a",
   "metadata": {},
   "outputs": [],
   "source": [
    "prim_treat = pd.read_csv('Enhanced_MetPC_PrimaryTreatment.csv')"
   ]
  },
  {
   "cell_type": "code",
   "execution_count": 434,
   "id": "08735ca4",
   "metadata": {},
   "outputs": [],
   "source": [
    "prim_treat = prim_treat[prim_treat['PatientID'].isin(test_IDs)]"
   ]
  },
  {
   "cell_type": "code",
   "execution_count": 435,
   "id": "58b319d5",
   "metadata": {},
   "outputs": [
    {
     "data": {
      "text/plain": [
       "(1616, 1616)"
      ]
     },
     "execution_count": 435,
     "metadata": {},
     "output_type": "execute_result"
    }
   ],
   "source": [
    "row_ID(prim_treat)"
   ]
  },
  {
   "cell_type": "code",
   "execution_count": 436,
   "id": "ea4225e6",
   "metadata": {},
   "outputs": [
    {
     "data": {
      "text/html": [
       "<div>\n",
       "<style scoped>\n",
       "    .dataframe tbody tr th:only-of-type {\n",
       "        vertical-align: middle;\n",
       "    }\n",
       "\n",
       "    .dataframe tbody tr th {\n",
       "        vertical-align: top;\n",
       "    }\n",
       "\n",
       "    .dataframe thead th {\n",
       "        text-align: right;\n",
       "    }\n",
       "</style>\n",
       "<table border=\"1\" class=\"dataframe\">\n",
       "  <thead>\n",
       "    <tr style=\"text-align: right;\">\n",
       "      <th></th>\n",
       "      <th>PatientID</th>\n",
       "      <th>TreatmentType</th>\n",
       "      <th>TreatmentDate</th>\n",
       "    </tr>\n",
       "  </thead>\n",
       "  <tbody>\n",
       "    <tr>\n",
       "      <th>165</th>\n",
       "      <td>FDB07FC21ACC0</td>\n",
       "      <td>Prostatectomy / Surgery</td>\n",
       "      <td>1999-01-01</td>\n",
       "    </tr>\n",
       "    <tr>\n",
       "      <th>63</th>\n",
       "      <td>F74EA5064C19D</td>\n",
       "      <td>Radiation Therapy (Including Brachytherapy and...</td>\n",
       "      <td>2011-11-01</td>\n",
       "    </tr>\n",
       "    <tr>\n",
       "      <th>1889</th>\n",
       "      <td>FE31760FE6FCE</td>\n",
       "      <td>Prostatectomy / Surgery</td>\n",
       "      <td>2015-02-03</td>\n",
       "    </tr>\n",
       "    <tr>\n",
       "      <th>7700</th>\n",
       "      <td>F0680EE17E2E2</td>\n",
       "      <td>Radiation Therapy (Including Brachytherapy and...</td>\n",
       "      <td>2013-12-05</td>\n",
       "    </tr>\n",
       "    <tr>\n",
       "      <th>3777</th>\n",
       "      <td>F0EE37CCAC25B</td>\n",
       "      <td>Radiation Therapy (Including Brachytherapy and...</td>\n",
       "      <td>2007-03-26</td>\n",
       "    </tr>\n",
       "  </tbody>\n",
       "</table>\n",
       "</div>"
      ],
      "text/plain": [
       "          PatientID                                      TreatmentType  \\\n",
       "165   FDB07FC21ACC0                            Prostatectomy / Surgery   \n",
       "63    F74EA5064C19D  Radiation Therapy (Including Brachytherapy and...   \n",
       "1889  FE31760FE6FCE                            Prostatectomy / Surgery   \n",
       "7700  F0680EE17E2E2  Radiation Therapy (Including Brachytherapy and...   \n",
       "3777  F0EE37CCAC25B  Radiation Therapy (Including Brachytherapy and...   \n",
       "\n",
       "     TreatmentDate  \n",
       "165     1999-01-01  \n",
       "63      2011-11-01  \n",
       "1889    2015-02-03  \n",
       "7700    2013-12-05  \n",
       "3777    2007-03-26  "
      ]
     },
     "execution_count": 436,
     "metadata": {},
     "output_type": "execute_result"
    }
   ],
   "source": [
    "prim_treat.sample(5)"
   ]
  },
  {
   "cell_type": "code",
   "execution_count": 437,
   "id": "9035a66a",
   "metadata": {},
   "outputs": [],
   "source": [
    "prim_treat.loc[:, 'TreatmentDate'] = pd.to_datetime(prim_treat['TreatmentDate'])"
   ]
  },
  {
   "cell_type": "code",
   "execution_count": 438,
   "id": "7387ab6f",
   "metadata": {},
   "outputs": [],
   "source": [
    "prim_treat = pd.merge(prim_treat, enhanced_met[['PatientID', 'met_date']], on = 'PatientID', how = 'left')"
   ]
  },
  {
   "cell_type": "code",
   "execution_count": 439,
   "id": "a212f1ee",
   "metadata": {},
   "outputs": [],
   "source": [
    "conditions = [\n",
    "    (prim_treat['TreatmentType'] == 'Prostatectomy / Surgery'),\n",
    "    (prim_treat['TreatmentType'] == 'Radiation Therapy (Including Brachytherapy and Radioactive Seeds)')]\n",
    "\n",
    "choices = ['prostatectomy', 'radiation']\n",
    "\n",
    "prim_treat.loc[:, 'prim_treatment'] = np.select(conditions, choices, default = 'other')"
   ]
  },
  {
   "cell_type": "code",
   "execution_count": 440,
   "id": "5567602a",
   "metadata": {},
   "outputs": [],
   "source": [
    "prim_treat = prim_treat[['PatientID', 'prim_treatment']]"
   ]
  },
  {
   "cell_type": "code",
   "execution_count": 441,
   "id": "85a6f11b",
   "metadata": {},
   "outputs": [],
   "source": [
    "# Append missing training IDs.\n",
    "prim_treat_wide = (\n",
    "    prim_treat.append(\n",
    "        pd.Series(test_IDs)[~pd.Series(test_IDs).isin(prim_treat['PatientID'])].to_frame(name = 'PatientID'), \n",
    "        sort = False)\n",
    "    .fillna('unknown')\n",
    ")"
   ]
  },
  {
   "cell_type": "code",
   "execution_count": 442,
   "id": "07e5a0bb",
   "metadata": {},
   "outputs": [
    {
     "data": {
      "text/plain": [
       "(3786, 3786)"
      ]
     },
     "execution_count": 442,
     "metadata": {},
     "output_type": "execute_result"
    }
   ],
   "source": [
    "row_ID(prim_treat_wide)"
   ]
  },
  {
   "cell_type": "markdown",
   "id": "5a2fcd9a",
   "metadata": {},
   "source": [
    "#### ADT "
   ]
  },
  {
   "cell_type": "code",
   "execution_count": 443,
   "id": "18aa998e",
   "metadata": {},
   "outputs": [],
   "source": [
    "adt = pd.read_csv('Enhanced_MetPC_ADT.csv')"
   ]
  },
  {
   "cell_type": "code",
   "execution_count": 444,
   "id": "eab7bb76",
   "metadata": {},
   "outputs": [],
   "source": [
    "adt = adt[adt['PatientID'].isin(test_IDs)]"
   ]
  },
  {
   "cell_type": "code",
   "execution_count": 445,
   "id": "9cb1363b",
   "metadata": {},
   "outputs": [
    {
     "data": {
      "text/plain": [
       "(4080, 3659)"
      ]
     },
     "execution_count": 445,
     "metadata": {},
     "output_type": "execute_result"
    }
   ],
   "source": [
    "row_ID(adt)"
   ]
  },
  {
   "cell_type": "code",
   "execution_count": 446,
   "id": "35118e6c",
   "metadata": {},
   "outputs": [
    {
     "data": {
      "text/html": [
       "<div>\n",
       "<style scoped>\n",
       "    .dataframe tbody tr th:only-of-type {\n",
       "        vertical-align: middle;\n",
       "    }\n",
       "\n",
       "    .dataframe tbody tr th {\n",
       "        vertical-align: top;\n",
       "    }\n",
       "\n",
       "    .dataframe thead th {\n",
       "        text-align: right;\n",
       "    }\n",
       "</style>\n",
       "<table border=\"1\" class=\"dataframe\">\n",
       "  <thead>\n",
       "    <tr style=\"text-align: right;\">\n",
       "      <th></th>\n",
       "      <th>PatientID</th>\n",
       "      <th>TreatmentSetting</th>\n",
       "      <th>StartDate</th>\n",
       "      <th>EndDate</th>\n",
       "      <th>TreatmentStatus</th>\n",
       "    </tr>\n",
       "  </thead>\n",
       "  <tbody>\n",
       "    <tr>\n",
       "      <th>4163</th>\n",
       "      <td>F09FEF7FB620A</td>\n",
       "      <td>Advanced</td>\n",
       "      <td>2017-06-08</td>\n",
       "      <td>NaN</td>\n",
       "      <td>Continuing</td>\n",
       "    </tr>\n",
       "    <tr>\n",
       "      <th>11015</th>\n",
       "      <td>F4246472EFBE8</td>\n",
       "      <td>Advanced</td>\n",
       "      <td>2014-06-01</td>\n",
       "      <td>NaN</td>\n",
       "      <td>Continuing</td>\n",
       "    </tr>\n",
       "    <tr>\n",
       "      <th>18970</th>\n",
       "      <td>F804CA54961B3</td>\n",
       "      <td>Advanced</td>\n",
       "      <td>2018-10-10</td>\n",
       "      <td>NaN</td>\n",
       "      <td>Continuing</td>\n",
       "    </tr>\n",
       "    <tr>\n",
       "      <th>5036</th>\n",
       "      <td>F204441C139EF</td>\n",
       "      <td>Advanced</td>\n",
       "      <td>2014-01-01</td>\n",
       "      <td>NaN</td>\n",
       "      <td>Continuing</td>\n",
       "    </tr>\n",
       "    <tr>\n",
       "      <th>472</th>\n",
       "      <td>F9E2BE23C1817</td>\n",
       "      <td>Curative</td>\n",
       "      <td>2006-08-11</td>\n",
       "      <td>2006-08-11</td>\n",
       "      <td>Discontinued</td>\n",
       "    </tr>\n",
       "  </tbody>\n",
       "</table>\n",
       "</div>"
      ],
      "text/plain": [
       "           PatientID TreatmentSetting   StartDate     EndDate TreatmentStatus\n",
       "4163   F09FEF7FB620A         Advanced  2017-06-08         NaN      Continuing\n",
       "11015  F4246472EFBE8         Advanced  2014-06-01         NaN      Continuing\n",
       "18970  F804CA54961B3         Advanced  2018-10-10         NaN      Continuing\n",
       "5036   F204441C139EF         Advanced  2014-01-01         NaN      Continuing\n",
       "472    F9E2BE23C1817         Curative  2006-08-11  2006-08-11    Discontinued"
      ]
     },
     "execution_count": 446,
     "metadata": {},
     "output_type": "execute_result"
    }
   ],
   "source": [
    "adt.sample(5)"
   ]
  },
  {
   "cell_type": "code",
   "execution_count": 447,
   "id": "bbd05fba",
   "metadata": {},
   "outputs": [],
   "source": [
    "adt.loc[:, 'StartDate'] = pd.to_datetime(adt['StartDate'])"
   ]
  },
  {
   "cell_type": "code",
   "execution_count": 448,
   "id": "9f38f9de",
   "metadata": {},
   "outputs": [],
   "source": [
    "adt = pd.merge(adt, enhanced_met[['PatientID', 'met_date']], on = 'PatientID', how = 'left')"
   ]
  },
  {
   "cell_type": "code",
   "execution_count": 449,
   "id": "24777bb0",
   "metadata": {},
   "outputs": [],
   "source": [
    "adt = (\n",
    "    adt\n",
    "    .assign(adt_diff = (adt['StartDate'] - adt['met_date']).dt.days)\n",
    ")"
   ]
  },
  {
   "cell_type": "code",
   "execution_count": 450,
   "id": "272eb85c",
   "metadata": {},
   "outputs": [],
   "source": [
    "adt = adt.query('adt_diff < -90')"
   ]
  },
  {
   "cell_type": "code",
   "execution_count": 451,
   "id": "f17810a2",
   "metadata": {},
   "outputs": [
    {
     "data": {
      "text/plain": [
       "(1381, 1237)"
      ]
     },
     "execution_count": 451,
     "metadata": {},
     "output_type": "execute_result"
    }
   ],
   "source": [
    "row_ID(adt)"
   ]
  },
  {
   "cell_type": "code",
   "execution_count": 452,
   "id": "58cc7c33",
   "metadata": {},
   "outputs": [],
   "source": [
    "adt = adt.drop_duplicates(subset = ['PatientID'], keep = 'first')"
   ]
  },
  {
   "cell_type": "code",
   "execution_count": 453,
   "id": "41ea5664",
   "metadata": {},
   "outputs": [
    {
     "data": {
      "text/plain": [
       "(1237, 1237)"
      ]
     },
     "execution_count": 453,
     "metadata": {},
     "output_type": "execute_result"
    }
   ],
   "source": [
    "row_ID(adt)"
   ]
  },
  {
   "cell_type": "code",
   "execution_count": 454,
   "id": "c7502be8",
   "metadata": {},
   "outputs": [],
   "source": [
    "adt.loc[:,'early_adt'] = 1"
   ]
  },
  {
   "cell_type": "code",
   "execution_count": 455,
   "id": "52b24f2f",
   "metadata": {},
   "outputs": [],
   "source": [
    "adt = adt[['PatientID', 'early_adt']]"
   ]
  },
  {
   "cell_type": "code",
   "execution_count": 456,
   "id": "bd730716",
   "metadata": {},
   "outputs": [],
   "source": [
    "# Append missing training IDs.\n",
    "adt_wide = (\n",
    "    adt.append(\n",
    "        pd.Series(test_IDs)[~pd.Series(test_IDs).isin(adt['PatientID'])].to_frame(name = 'PatientID'), \n",
    "        sort = False)\n",
    "    .fillna(0)\n",
    ")"
   ]
  },
  {
   "cell_type": "code",
   "execution_count": 457,
   "id": "5eabd7ee",
   "metadata": {},
   "outputs": [
    {
     "data": {
      "text/plain": [
       "(3786, 3786)"
      ]
     },
     "execution_count": 457,
     "metadata": {},
     "output_type": "execute_result"
    }
   ],
   "source": [
    "row_ID(adt_wide)"
   ]
  },
  {
   "cell_type": "markdown",
   "id": "bf1645fe",
   "metadata": {},
   "source": [
    "#### Merge"
   ]
  },
  {
   "cell_type": "code",
   "execution_count": 458,
   "id": "7b961e71",
   "metadata": {},
   "outputs": [],
   "source": [
    "treat_wide = pd.merge(prim_treat_wide, adt_wide, on = 'PatientID')"
   ]
  },
  {
   "cell_type": "code",
   "execution_count": 459,
   "id": "e6c12240",
   "metadata": {},
   "outputs": [
    {
     "data": {
      "text/plain": [
       "(3786, 3786)"
      ]
     },
     "execution_count": 459,
     "metadata": {},
     "output_type": "execute_result"
    }
   ],
   "source": [
    "row_ID(treat_wide)"
   ]
  },
  {
   "cell_type": "code",
   "execution_count": 460,
   "id": "3c433d0e",
   "metadata": {
    "scrolled": true
   },
   "outputs": [
    {
     "name": "stdout",
     "output_type": "stream",
     "text": [
      "Variable              Type         Data/Info\n",
      "--------------------------------------------\n",
      "adt                   DataFrame              PatientID  earl<...>\\n[1237 rows x 2 columns]\n",
      "adt_wide              DataFrame              PatientID  earl<...>\\n[3786 rows x 2 columns]\n",
      "biomarker_wide        DataFrame              PatientID brca_<...>\\n[3786 rows x 2 columns]\n",
      "demographics          DataFrame              PatientID Gende<...>\\n[3786 rows x 6 columns]\n",
      "diagnosis_wide        DataFrame              PatientID  chf <...>n[3786 rows x 44 columns]\n",
      "ecog_diagnosis_wide   DataFrame               PatientID ecog<...>\\n[3786 rows x 2 columns]\n",
      "enhanced_met          DataFrame               PatientID diag<...>n[3786 rows x 17 columns]\n",
      "insurance_wide        DataFrame              PatientID  medi<...>\\n[3786 rows x 9 columns]\n",
      "lab_wide              DataFrame              PatientID  albu<...>[3786 rows x 135 columns]\n",
      "med_admin_wide        DataFrame              PatientID  ster<...>n[3786 rows x 13 columns]\n",
      "mortality             DataFrame              PatientID  deat<...>\\n[3786 rows x 3 columns]\n",
      "prim_treat            DataFrame              PatientID prim_<...>\\n[1616 rows x 2 columns]\n",
      "prim_treat_wide       DataFrame              PatientID prim_<...>\\n[3786 rows x 2 columns]\n",
      "treat_wide            DataFrame              PatientID prim_<...>\\n[3786 rows x 3 columns]\n",
      "weight_wide           DataFrame              PatientID  weig<...>\\n[3786 rows x 7 columns]\n"
     ]
    }
   ],
   "source": [
    "%whos DataFrame"
   ]
  },
  {
   "cell_type": "code",
   "execution_count": 461,
   "id": "23eceac0",
   "metadata": {},
   "outputs": [],
   "source": [
    "# Keep biomarker_wide, demographics, ecog_diagnosis_wide, enhanced_met, mortality, \n",
    "# lab_wide, treat_wide, and weight_wide\n",
    "del adt\n",
    "del adt_wide\n",
    "del prim_treat\n",
    "del prim_treat_wide"
   ]
  },
  {
   "cell_type": "markdown",
   "id": "c48d1cd9",
   "metadata": {},
   "source": [
    "## Part 3: File merge"
   ]
  },
  {
   "cell_type": "code",
   "execution_count": 462,
   "id": "29e71ded",
   "metadata": {},
   "outputs": [],
   "source": [
    "enhanced_met = enhanced_met.drop(columns = ['diagnosis_date', 'met_date', 'CRPCDate'])"
   ]
  },
  {
   "cell_type": "code",
   "execution_count": 463,
   "id": "d452e37e",
   "metadata": {},
   "outputs": [],
   "source": [
    "test_full = pd.merge(demographics, enhanced_met, on = 'PatientID')"
   ]
  },
  {
   "cell_type": "code",
   "execution_count": 464,
   "id": "22f097af",
   "metadata": {},
   "outputs": [],
   "source": [
    "test_full = pd.merge(test_full, mortality, on = 'PatientID')"
   ]
  },
  {
   "cell_type": "code",
   "execution_count": 465,
   "id": "7c4c236d",
   "metadata": {},
   "outputs": [],
   "source": [
    "test_full = pd.merge(test_full, med_admin_wide, on = 'PatientID')"
   ]
  },
  {
   "cell_type": "code",
   "execution_count": 466,
   "id": "f1203042",
   "metadata": {},
   "outputs": [],
   "source": [
    "test_full = pd.merge(test_full, biomarker_wide, on = 'PatientID')"
   ]
  },
  {
   "cell_type": "code",
   "execution_count": 467,
   "id": "fef1b904",
   "metadata": {},
   "outputs": [],
   "source": [
    "test_full = pd.merge(test_full, insurance_wide, on = 'PatientID')"
   ]
  },
  {
   "cell_type": "code",
   "execution_count": 468,
   "id": "a709f9de",
   "metadata": {},
   "outputs": [],
   "source": [
    "test_full = pd.merge(test_full, ecog_diagnosis_wide, on = 'PatientID')"
   ]
  },
  {
   "cell_type": "code",
   "execution_count": 469,
   "id": "132b4510",
   "metadata": {},
   "outputs": [],
   "source": [
    "test_full = pd.merge(test_full, weight_wide, on = 'PatientID')"
   ]
  },
  {
   "cell_type": "code",
   "execution_count": 470,
   "id": "b668dff5",
   "metadata": {},
   "outputs": [],
   "source": [
    "test_full = pd.merge(test_full, lab_wide, on = 'PatientID')"
   ]
  },
  {
   "cell_type": "code",
   "execution_count": 471,
   "id": "2dbdcc0c",
   "metadata": {},
   "outputs": [],
   "source": [
    "test_full = pd.merge(test_full, diagnosis_wide, on = 'PatientID')"
   ]
  },
  {
   "cell_type": "code",
   "execution_count": 472,
   "id": "2f9052ff",
   "metadata": {},
   "outputs": [],
   "source": [
    "test_full = pd.merge(test_full, treat_wide, on = 'PatientID')"
   ]
  },
  {
   "cell_type": "code",
   "execution_count": 473,
   "id": "962423ad",
   "metadata": {},
   "outputs": [
    {
     "data": {
      "text/plain": [
       "(3786, 3786)"
      ]
     },
     "execution_count": 473,
     "metadata": {},
     "output_type": "execute_result"
    }
   ],
   "source": [
    "row_ID(test_full)"
   ]
  },
  {
   "cell_type": "code",
   "execution_count": 474,
   "id": "0b876b6a",
   "metadata": {},
   "outputs": [
    {
     "data": {
      "text/plain": [
       "228"
      ]
     },
     "execution_count": 474,
     "metadata": {},
     "output_type": "execute_result"
    }
   ],
   "source": [
    "len(test_full.columns)"
   ]
  },
  {
   "cell_type": "code",
   "execution_count": 475,
   "id": "7e4578fe",
   "metadata": {
    "scrolled": false
   },
   "outputs": [
    {
     "data": {
      "text/plain": [
       "['PatientID',\n",
       " 'Gender',\n",
       " 'race',\n",
       " 'ethnicity',\n",
       " 'age',\n",
       " 'p_type',\n",
       " 'NStage',\n",
       " 'MStage',\n",
       " 'Histology',\n",
       " 'GleasonScore',\n",
       " 'PSADiagnosis',\n",
       " 'PSAMetDiagnosis',\n",
       " 'stage',\n",
       " 'met_year',\n",
       " 'delta_met_diagnosis',\n",
       " 'crpc',\n",
       " 'crpc_time',\n",
       " 'psa_diag_na',\n",
       " 'psa_met_na',\n",
       " 'death_status',\n",
       " 'timerisk_activity',\n",
       " 'steroid_diag',\n",
       " 'opioid_PO_diag',\n",
       " 'nonopioid_PO_diag',\n",
       " 'pain_IV_diag',\n",
       " 'ac_diag',\n",
       " 'antiinfective_IV_diag',\n",
       " 'antiinfective_diag',\n",
       " 'antihyperglycemic_diag',\n",
       " 'ppi_diag',\n",
       " 'antidepressant_diag',\n",
       " 'bta_diag',\n",
       " 'thyroid_diag',\n",
       " 'brca_status',\n",
       " 'medicare',\n",
       " 'medicaid',\n",
       " 'medicare_medicaid',\n",
       " 'commercial',\n",
       " 'patient_assistance',\n",
       " 'other_govt',\n",
       " 'self_pay',\n",
       " 'other',\n",
       " 'ecog_diagnosis',\n",
       " 'weight_diag',\n",
       " 'bmi_diag',\n",
       " 'bmi_diag_na',\n",
       " 'weight_pct_change',\n",
       " 'weight_pct_na',\n",
       " 'weight_slope',\n",
       " 'albumin_diag',\n",
       " 'alp_diag',\n",
       " 'alt_diag',\n",
       " 'ast_diag',\n",
       " 'bicarb_diag',\n",
       " 'bun_diag',\n",
       " 'calcium_diag',\n",
       " 'chloride_diag',\n",
       " 'creatinine_diag',\n",
       " 'hemoglobin_diag',\n",
       " 'neutrophil_count_diag',\n",
       " 'platelet_diag',\n",
       " 'potassium_diag',\n",
       " 'sodium_diag',\n",
       " 'total_bilirubin_diag',\n",
       " 'wbc_diag',\n",
       " 'albumin_diag_na',\n",
       " 'alp_diag_na',\n",
       " 'alt_diag_na',\n",
       " 'ast_diag_na',\n",
       " 'bicarb_diag_na',\n",
       " 'bun_diag_na',\n",
       " 'calcium_diag_na',\n",
       " 'chloride_diag_na',\n",
       " 'creatinine_diag_na',\n",
       " 'hemoglobin_diag_na',\n",
       " 'neutrophil_count_diag_na',\n",
       " 'platelet_diag_na',\n",
       " 'potassium_diag_na',\n",
       " 'sodium_diag_na',\n",
       " 'total_bilirubin_diag_na',\n",
       " 'wbc_diag_na',\n",
       " 'albumin_avg',\n",
       " 'alp_avg',\n",
       " 'alt_avg',\n",
       " 'ast_avg',\n",
       " 'bicarb_avg',\n",
       " 'bun_avg',\n",
       " 'calcium_avg',\n",
       " 'chloride_avg',\n",
       " 'creatinine_avg',\n",
       " 'hemoglobin_avg',\n",
       " 'neutrophil_count_avg',\n",
       " 'platelet_avg',\n",
       " 'potassium_avg',\n",
       " 'psa_avg',\n",
       " 'sodium_avg',\n",
       " 'total_bilirubin_avg',\n",
       " 'wbc_avg',\n",
       " 'albumin_max',\n",
       " 'alp_max',\n",
       " 'alt_max',\n",
       " 'ast_max',\n",
       " 'bicarb_max',\n",
       " 'bun_max',\n",
       " 'calcium_max',\n",
       " 'chloride_max',\n",
       " 'creatinine_max',\n",
       " 'hemoglobin_max',\n",
       " 'neutrophil_count_max',\n",
       " 'platelet_max',\n",
       " 'potassium_max',\n",
       " 'psa_max',\n",
       " 'sodium_max',\n",
       " 'total_bilirubin_max',\n",
       " 'wbc_max',\n",
       " 'albumin_min',\n",
       " 'alp_min',\n",
       " 'alt_min',\n",
       " 'ast_min',\n",
       " 'bicarb_min',\n",
       " 'bun_min',\n",
       " 'calcium_min',\n",
       " 'chloride_min',\n",
       " 'creatinine_min',\n",
       " 'hemoglobin_min',\n",
       " 'neutrophil_count_min',\n",
       " 'platelet_min',\n",
       " 'potassium_min',\n",
       " 'psa_min',\n",
       " 'sodium_min',\n",
       " 'total_bilirubin_min',\n",
       " 'wbc_min',\n",
       " 'albumin_std',\n",
       " 'alp_std',\n",
       " 'alt_std',\n",
       " 'ast_std',\n",
       " 'bicarb_std',\n",
       " 'bun_std',\n",
       " 'calcium_std',\n",
       " 'chloride_std',\n",
       " 'creatinine_std',\n",
       " 'hemoglobin_std',\n",
       " 'neutrophil_count_std',\n",
       " 'platelet_std',\n",
       " 'potassium_std',\n",
       " 'psa_std',\n",
       " 'sodium_std',\n",
       " 'total_bilirubin_std',\n",
       " 'wbc_std',\n",
       " 'albumin_slope',\n",
       " 'alp_slope',\n",
       " 'alt_slope',\n",
       " 'ast_slope',\n",
       " 'bicarb_slope',\n",
       " 'bun_slope',\n",
       " 'calcium_slope',\n",
       " 'chloride_slope',\n",
       " 'creatinine_slope',\n",
       " 'hemoglobin_slope',\n",
       " 'neutrophil_count_slope',\n",
       " 'platelet_slope',\n",
       " 'potassium_slope',\n",
       " 'psa_slope',\n",
       " 'sodium_slope',\n",
       " 'total_bilirubin_slope',\n",
       " 'wbc_slope',\n",
       " 'albumin_slope_na',\n",
       " 'alp_slope_na',\n",
       " 'alt_slope_na',\n",
       " 'ast_slope_na',\n",
       " 'bicarb_slope_na',\n",
       " 'bun_slope_na',\n",
       " 'calcium_slope_na',\n",
       " 'chloride_slope_na',\n",
       " 'creatinine_slope_na',\n",
       " 'hemoglobin_slope_na',\n",
       " 'neutrophil_count_slope_na',\n",
       " 'platelet_slope_na',\n",
       " 'potassium_slope_na',\n",
       " 'psa_slope_na',\n",
       " 'sodium_slope_na',\n",
       " 'total_bilirubin_slope_na',\n",
       " 'wbc_slope_na',\n",
       " 'chf',\n",
       " 'cardiac_arrhythmias',\n",
       " 'valvular_disease',\n",
       " 'pulmonary_circulation',\n",
       " 'peripheral_vascular',\n",
       " 'htn_uncomplicated',\n",
       " 'htn_complicated',\n",
       " 'paralysis',\n",
       " 'other_neuro_disorders',\n",
       " 'chronic_pulmonary',\n",
       " 'diabetes_uncomplicated',\n",
       " 'diabetes_complicated',\n",
       " 'hypothyroidism',\n",
       " 'renal_failure',\n",
       " 'liver_disease',\n",
       " 'peptic_ulcer_disease',\n",
       " 'aids_hiv',\n",
       " 'lymphoma',\n",
       " 'metastatic_cancer',\n",
       " 'solid_tumor_wout_mets',\n",
       " 'rheumatoid_arthritis',\n",
       " 'coagulopathy',\n",
       " 'obesity',\n",
       " 'weight_loss',\n",
       " 'fluid_electrolyte',\n",
       " 'blood_loss_anemia',\n",
       " 'deficiency_anemia',\n",
       " 'alcohol_abuse',\n",
       " 'drug_abuse',\n",
       " 'psychoses',\n",
       " 'depression',\n",
       " 'elixhauser_other',\n",
       " 'icd_count',\n",
       " 'other_cancer',\n",
       " 'thorax_met',\n",
       " 'peritoneum_met',\n",
       " 'liver_met',\n",
       " 'other_gi_met',\n",
       " 'cns_met',\n",
       " 'bone_met',\n",
       " 'lymph_met',\n",
       " 'kidney_bladder_met',\n",
       " 'other_met',\n",
       " 'prim_treatment',\n",
       " 'early_adt']"
      ]
     },
     "execution_count": 475,
     "metadata": {},
     "output_type": "execute_result"
    }
   ],
   "source": [
    "list(test_full.columns)"
   ]
  },
  {
   "cell_type": "code",
   "execution_count": 476,
   "id": "b432676f",
   "metadata": {},
   "outputs": [],
   "source": [
    "test_full.to_csv('test_full.csv', index = False, header = True)"
   ]
  }
 ],
 "metadata": {
  "kernelspec": {
   "display_name": "My Virtual Environment",
   "language": "python",
   "name": "myenv"
  },
  "language_info": {
   "codemirror_mode": {
    "name": "ipython",
    "version": 3
   },
   "file_extension": ".py",
   "mimetype": "text/x-python",
   "name": "python",
   "nbconvert_exporter": "python",
   "pygments_lexer": "ipython3",
   "version": "3.7.10"
  }
 },
 "nbformat": 4,
 "nbformat_minor": 5
}
