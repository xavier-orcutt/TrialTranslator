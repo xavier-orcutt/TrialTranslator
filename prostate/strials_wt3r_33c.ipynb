{
 "cells": [
  {
   "cell_type": "markdown",
   "id": "70d80e9f",
   "metadata": {},
   "source": [
    "# Flatiron Health mPC: Strict trials with GBM crude \n",
    "\n",
    "***OBJECTIVE:*** **Inclusion criteria for trials in other notebooks were relaxed to allow for as many patients to be included as reasonably possible. In this notebook, inclusion criteria for the trials will be followed as closely as possible. Patients included in our trials will next be risk stratified using the gradient boosted model with crude imputation into 1 of 3 risk groups: high (top tertile), medium (middle tertile), and low (bottom tertile). Inverse-probability treatment weighted survival analysis will then be performed across these risk groups to get real-world estimates of survival while adjusting for measured confounders.** \n",
    "** \n",
    "\n",
    "***OUTLINE:***\n",
    "1. **Identify patients with exclusion criteria:**\n",
    "* Cardiac disease (MI or CHF) in the year preceding metastatic diagnosis \n",
    "* Viral hepatitis or chronic liver disease in the year preceding metastatic diagnosis   \n",
    "* CNS metastasis at time of metastatic diagnosis \n",
    "* ECOG >2 at time of metastatic diagnosis\n",
    "* Organ dysfunction at time of metastatic diagnosis  \n",
    "\n",
    "2. **In silico trials:**\n",
    "* CHAARTED\n",
    "* LATITUDE "
   ]
  },
  {
   "cell_type": "markdown",
   "id": "298a69d9",
   "metadata": {},
   "source": [
    "## Part 1: Identify patients with exclusion criteria"
   ]
  },
  {
   "cell_type": "code",
   "execution_count": 1,
   "id": "14e08eb0",
   "metadata": {},
   "outputs": [],
   "source": [
    "import numpy as np\n",
    "import pandas as pd"
   ]
  },
  {
   "cell_type": "code",
   "execution_count": 2,
   "id": "7c8239fd",
   "metadata": {},
   "outputs": [],
   "source": [
    "# Function that returns number of rows and count of unique PatientIDs for a dataframe. \n",
    "def row_ID(dataframe):\n",
    "    row = dataframe.shape[0]\n",
    "    ID = dataframe['PatientID'].nunique()\n",
    "    return row, ID"
   ]
  },
  {
   "cell_type": "code",
   "execution_count": 3,
   "id": "1709d875",
   "metadata": {},
   "outputs": [
    {
     "data": {
      "text/plain": [
       "(15141, 15141)"
      ]
     },
     "execution_count": 3,
     "metadata": {},
     "output_type": "execute_result"
    }
   ],
   "source": [
    "train = pd.read_csv('train_full.csv')\n",
    "row_ID(train)"
   ]
  },
  {
   "cell_type": "code",
   "execution_count": 4,
   "id": "ccc7091a",
   "metadata": {},
   "outputs": [
    {
     "data": {
      "text/plain": [
       "(3786, 3786)"
      ]
     },
     "execution_count": 4,
     "metadata": {},
     "output_type": "execute_result"
    }
   ],
   "source": [
    "test = pd.read_csv('test_full.csv')\n",
    "row_ID(test)"
   ]
  },
  {
   "cell_type": "code",
   "execution_count": 5,
   "id": "bab4e424",
   "metadata": {},
   "outputs": [
    {
     "data": {
      "text/plain": [
       "(18927, 18927)"
      ]
     },
     "execution_count": 5,
     "metadata": {},
     "output_type": "execute_result"
    }
   ],
   "source": [
    "df = pd.concat([train, test], ignore_index = True)\n",
    "row_ID(df)"
   ]
  },
  {
   "cell_type": "code",
   "execution_count": 6,
   "id": "b9536820",
   "metadata": {},
   "outputs": [
    {
     "data": {
      "text/html": [
       "<div>\n",
       "<style scoped>\n",
       "    .dataframe tbody tr th:only-of-type {\n",
       "        vertical-align: middle;\n",
       "    }\n",
       "\n",
       "    .dataframe tbody tr th {\n",
       "        vertical-align: top;\n",
       "    }\n",
       "\n",
       "    .dataframe thead th {\n",
       "        text-align: right;\n",
       "    }\n",
       "</style>\n",
       "<table border=\"1\" class=\"dataframe\">\n",
       "  <thead>\n",
       "    <tr style=\"text-align: right;\">\n",
       "      <th></th>\n",
       "      <th>PatientID</th>\n",
       "      <th>Gender</th>\n",
       "      <th>race</th>\n",
       "      <th>ethnicity</th>\n",
       "      <th>age</th>\n",
       "      <th>p_type</th>\n",
       "      <th>NStage</th>\n",
       "      <th>MStage</th>\n",
       "      <th>Histology</th>\n",
       "      <th>GleasonScore</th>\n",
       "      <th>...</th>\n",
       "      <th>peritoneum_met</th>\n",
       "      <th>liver_met</th>\n",
       "      <th>other_gi_met</th>\n",
       "      <th>cns_met</th>\n",
       "      <th>bone_met</th>\n",
       "      <th>lymph_met</th>\n",
       "      <th>kidney_bladder_met</th>\n",
       "      <th>other_met</th>\n",
       "      <th>prim_treatment</th>\n",
       "      <th>early_adt</th>\n",
       "    </tr>\n",
       "  </thead>\n",
       "  <tbody>\n",
       "    <tr>\n",
       "      <th>13138</th>\n",
       "      <td>F29A90F4B5808</td>\n",
       "      <td>M</td>\n",
       "      <td>other</td>\n",
       "      <td>unknown</td>\n",
       "      <td>76</td>\n",
       "      <td>COMMUNITY</td>\n",
       "      <td>N1</td>\n",
       "      <td>M1</td>\n",
       "      <td>Adenocarcinoma</td>\n",
       "      <td>10</td>\n",
       "      <td>...</td>\n",
       "      <td>0.0</td>\n",
       "      <td>0.0</td>\n",
       "      <td>0.0</td>\n",
       "      <td>0.0</td>\n",
       "      <td>0.0</td>\n",
       "      <td>0.0</td>\n",
       "      <td>0.0</td>\n",
       "      <td>0.0</td>\n",
       "      <td>unknown</td>\n",
       "      <td>0.0</td>\n",
       "    </tr>\n",
       "    <tr>\n",
       "      <th>6827</th>\n",
       "      <td>FB72D5A6E7368</td>\n",
       "      <td>M</td>\n",
       "      <td>unknown</td>\n",
       "      <td>unknown</td>\n",
       "      <td>85</td>\n",
       "      <td>COMMUNITY</td>\n",
       "      <td>Unknown / Not documented</td>\n",
       "      <td>M1</td>\n",
       "      <td>Prostate cancer, NOS</td>\n",
       "      <td>Unknown / Not documented</td>\n",
       "      <td>...</td>\n",
       "      <td>0.0</td>\n",
       "      <td>0.0</td>\n",
       "      <td>0.0</td>\n",
       "      <td>0.0</td>\n",
       "      <td>0.0</td>\n",
       "      <td>0.0</td>\n",
       "      <td>0.0</td>\n",
       "      <td>0.0</td>\n",
       "      <td>unknown</td>\n",
       "      <td>0.0</td>\n",
       "    </tr>\n",
       "    <tr>\n",
       "      <th>1611</th>\n",
       "      <td>FE0663B8E266B</td>\n",
       "      <td>M</td>\n",
       "      <td>black</td>\n",
       "      <td>unknown</td>\n",
       "      <td>61</td>\n",
       "      <td>COMMUNITY</td>\n",
       "      <td>Unknown / Not documented</td>\n",
       "      <td>Unknown / Not documented</td>\n",
       "      <td>Adenocarcinoma</td>\n",
       "      <td>8</td>\n",
       "      <td>...</td>\n",
       "      <td>0.0</td>\n",
       "      <td>0.0</td>\n",
       "      <td>0.0</td>\n",
       "      <td>0.0</td>\n",
       "      <td>1.0</td>\n",
       "      <td>0.0</td>\n",
       "      <td>0.0</td>\n",
       "      <td>0.0</td>\n",
       "      <td>unknown</td>\n",
       "      <td>1.0</td>\n",
       "    </tr>\n",
       "  </tbody>\n",
       "</table>\n",
       "<p>3 rows × 228 columns</p>\n",
       "</div>"
      ],
      "text/plain": [
       "           PatientID Gender     race ethnicity  age     p_type  \\\n",
       "13138  F29A90F4B5808      M    other   unknown   76  COMMUNITY   \n",
       "6827   FB72D5A6E7368      M  unknown   unknown   85  COMMUNITY   \n",
       "1611   FE0663B8E266B      M    black   unknown   61  COMMUNITY   \n",
       "\n",
       "                         NStage                    MStage  \\\n",
       "13138                        N1                        M1   \n",
       "6827   Unknown / Not documented                        M1   \n",
       "1611   Unknown / Not documented  Unknown / Not documented   \n",
       "\n",
       "                  Histology              GleasonScore  ...  peritoneum_met  \\\n",
       "13138        Adenocarcinoma                        10  ...             0.0   \n",
       "6827   Prostate cancer, NOS  Unknown / Not documented  ...             0.0   \n",
       "1611         Adenocarcinoma                         8  ...             0.0   \n",
       "\n",
       "       liver_met other_gi_met  cns_met  bone_met  lymph_met  \\\n",
       "13138        0.0          0.0      0.0       0.0        0.0   \n",
       "6827         0.0          0.0      0.0       0.0        0.0   \n",
       "1611         0.0          0.0      0.0       1.0        0.0   \n",
       "\n",
       "       kidney_bladder_met  other_met  prim_treatment  early_adt  \n",
       "13138                 0.0        0.0         unknown        0.0  \n",
       "6827                  0.0        0.0         unknown        0.0  \n",
       "1611                  0.0        0.0         unknown        1.0  \n",
       "\n",
       "[3 rows x 228 columns]"
      ]
     },
     "execution_count": 6,
     "metadata": {},
     "output_type": "execute_result"
    }
   ],
   "source": [
    "df.query('cns_met == 0').sample(3)"
   ]
  },
  {
   "cell_type": "markdown",
   "id": "00344fbc",
   "metadata": {},
   "source": [
    "### 1. Cardiac disease (CHF or MI) in the preceding 6 months "
   ]
  },
  {
   "cell_type": "code",
   "execution_count": 7,
   "id": "77e9d99f",
   "metadata": {},
   "outputs": [],
   "source": [
    "diagnosis = pd.read_csv('Diagnosis.csv')"
   ]
  },
  {
   "cell_type": "code",
   "execution_count": 8,
   "id": "bc1c3b32",
   "metadata": {},
   "outputs": [],
   "source": [
    "diagnosis = diagnosis[diagnosis['PatientID'].isin(df['PatientID'])]       "
   ]
  },
  {
   "cell_type": "code",
   "execution_count": 9,
   "id": "1afd3fab",
   "metadata": {},
   "outputs": [],
   "source": [
    "diagnosis.loc[:, 'DiagnosisDate'] = pd.to_datetime(diagnosis['DiagnosisDate'])"
   ]
  },
  {
   "cell_type": "code",
   "execution_count": 10,
   "id": "d08e2483",
   "metadata": {},
   "outputs": [],
   "source": [
    "enhanced_met = pd.read_csv('Enhanced_MetProstate.csv')"
   ]
  },
  {
   "cell_type": "code",
   "execution_count": 11,
   "id": "d959eae0",
   "metadata": {},
   "outputs": [],
   "source": [
    "enhanced_met.loc[:, 'MetDiagnosisDate'] = pd.to_datetime(enhanced_met['MetDiagnosisDate'])"
   ]
  },
  {
   "cell_type": "code",
   "execution_count": 12,
   "id": "f6979037",
   "metadata": {},
   "outputs": [
    {
     "data": {
      "text/plain": [
       "(605074, 18927)"
      ]
     },
     "execution_count": 12,
     "metadata": {},
     "output_type": "execute_result"
    }
   ],
   "source": [
    "row_ID(diagnosis)"
   ]
  },
  {
   "cell_type": "code",
   "execution_count": 13,
   "id": "460f691c",
   "metadata": {},
   "outputs": [],
   "source": [
    "diagnosis = pd.merge(diagnosis, enhanced_met[['PatientID', 'MetDiagnosisDate']], on = 'PatientID', how = 'left')"
   ]
  },
  {
   "cell_type": "code",
   "execution_count": 14,
   "id": "7b5326a8",
   "metadata": {},
   "outputs": [
    {
     "data": {
      "text/plain": [
       "(605074, 18927)"
      ]
     },
     "execution_count": 14,
     "metadata": {},
     "output_type": "execute_result"
    }
   ],
   "source": [
    "row_ID(diagnosis)"
   ]
  },
  {
   "cell_type": "code",
   "execution_count": 15,
   "id": "b93521db",
   "metadata": {},
   "outputs": [],
   "source": [
    "diagnosis.loc[:, 'date_diff'] = (diagnosis['DiagnosisDate'] - diagnosis['MetDiagnosisDate']).dt.days"
   ]
  },
  {
   "cell_type": "code",
   "execution_count": 16,
   "id": "3112b313",
   "metadata": {},
   "outputs": [],
   "source": [
    "diagnosis.loc[:, 'diagnosis_code'] = diagnosis['DiagnosisCode'].replace('\\.', '', regex = True)"
   ]
  },
  {
   "cell_type": "code",
   "execution_count": 17,
   "id": "f913fe94",
   "metadata": {},
   "outputs": [],
   "source": [
    "# ICD-9 dataframe with unique codes for each patient. \n",
    "diagnosis_9 = (\n",
    "    diagnosis\n",
    "    .query('date_diff <= 30 and date_diff > -365')\n",
    "    .query('DiagnosisCodeSystem == \"ICD-9-CM\"')\n",
    "    .drop_duplicates(subset = (['PatientID', 'DiagnosisCode']), keep = 'first')\n",
    "    .filter(items = ['PatientID', 'DiagnosisCode', 'diagnosis_code'])\n",
    ")"
   ]
  },
  {
   "cell_type": "code",
   "execution_count": 18,
   "id": "b759382e",
   "metadata": {},
   "outputs": [],
   "source": [
    "cardiac_9_IDs = (\n",
    "    diagnosis_9[diagnosis_9['diagnosis_code'].str.match('428|'\n",
    "                                                        '410')].PatientID.unique())"
   ]
  },
  {
   "cell_type": "code",
   "execution_count": 19,
   "id": "547ee7bf",
   "metadata": {},
   "outputs": [
    {
     "data": {
      "text/plain": [
       "15"
      ]
     },
     "execution_count": 19,
     "metadata": {},
     "output_type": "execute_result"
    }
   ],
   "source": [
    "len(cardiac_9_IDs)"
   ]
  },
  {
   "cell_type": "code",
   "execution_count": 20,
   "id": "92818b5f",
   "metadata": {},
   "outputs": [],
   "source": [
    "# ICD-9 dataframe with unique codes for each patient. \n",
    "diagnosis_10 = (\n",
    "    diagnosis\n",
    "    .query('date_diff <= 30 and date_diff > -365')\n",
    "    .query('DiagnosisCodeSystem == \"ICD-10-CM\"')\n",
    "    .drop_duplicates(subset = (['PatientID', 'DiagnosisCode']), keep = 'first')\n",
    "    .filter(items = ['PatientID', 'DiagnosisCode', 'diagnosis_code'])\n",
    ")"
   ]
  },
  {
   "cell_type": "code",
   "execution_count": 21,
   "id": "f821fe60",
   "metadata": {},
   "outputs": [],
   "source": [
    "cardiac_10_IDs = (\n",
    "    diagnosis_10[diagnosis_10['diagnosis_code'].str.match('I50|'\n",
    "                                                          'I21')].PatientID.unique())"
   ]
  },
  {
   "cell_type": "code",
   "execution_count": 22,
   "id": "81a35077",
   "metadata": {},
   "outputs": [
    {
     "data": {
      "text/plain": [
       "195"
      ]
     },
     "execution_count": 22,
     "metadata": {},
     "output_type": "execute_result"
    }
   ],
   "source": [
    "len(cardiac_10_IDs)"
   ]
  },
  {
   "cell_type": "code",
   "execution_count": 23,
   "id": "3358ec16",
   "metadata": {},
   "outputs": [],
   "source": [
    "cardiac_IDs = np.unique(np.concatenate([cardiac_9_IDs, cardiac_10_IDs]))"
   ]
  },
  {
   "cell_type": "code",
   "execution_count": 24,
   "id": "19d0c3ce",
   "metadata": {},
   "outputs": [
    {
     "data": {
      "text/plain": [
       "210"
      ]
     },
     "execution_count": 24,
     "metadata": {},
     "output_type": "execute_result"
    }
   ],
   "source": [
    "len(cardiac_IDs)"
   ]
  },
  {
   "cell_type": "markdown",
   "id": "7d6092d1",
   "metadata": {},
   "source": [
    "### 2. Viral hepatitis and chronic liver disease "
   ]
  },
  {
   "cell_type": "code",
   "execution_count": 25,
   "id": "ff5edd1d",
   "metadata": {},
   "outputs": [],
   "source": [
    "liv_9_IDs = (\n",
    "    diagnosis_9[diagnosis_9['diagnosis_code'].str.match('070|'\n",
    "                                                        '571')].PatientID.unique())"
   ]
  },
  {
   "cell_type": "code",
   "execution_count": 26,
   "id": "cd39180d",
   "metadata": {
    "scrolled": true
   },
   "outputs": [
    {
     "data": {
      "text/plain": [
       "18"
      ]
     },
     "execution_count": 26,
     "metadata": {},
     "output_type": "execute_result"
    }
   ],
   "source": [
    "len(liv_9_IDs)"
   ]
  },
  {
   "cell_type": "code",
   "execution_count": 27,
   "id": "7b79dd5d",
   "metadata": {},
   "outputs": [],
   "source": [
    "liv_10_IDs = (\n",
    "    diagnosis_10[diagnosis_10['diagnosis_code'].str.match('B1[56789]|'\n",
    "                                                          'K7[0234]')].PatientID.unique())"
   ]
  },
  {
   "cell_type": "code",
   "execution_count": 28,
   "id": "436a3de3",
   "metadata": {},
   "outputs": [
    {
     "data": {
      "text/plain": [
       "65"
      ]
     },
     "execution_count": 28,
     "metadata": {},
     "output_type": "execute_result"
    }
   ],
   "source": [
    "len(liv_10_IDs)"
   ]
  },
  {
   "cell_type": "code",
   "execution_count": 29,
   "id": "bfa47d40",
   "metadata": {},
   "outputs": [],
   "source": [
    "liv_IDs = np.unique(np.concatenate([liv_9_IDs, liv_10_IDs]))"
   ]
  },
  {
   "cell_type": "code",
   "execution_count": 30,
   "id": "30252747",
   "metadata": {},
   "outputs": [
    {
     "data": {
      "text/plain": [
       "82"
      ]
     },
     "execution_count": 30,
     "metadata": {},
     "output_type": "execute_result"
    }
   ],
   "source": [
    "len(liv_IDs)"
   ]
  },
  {
   "cell_type": "code",
   "execution_count": 31,
   "id": "e9773dc0",
   "metadata": {},
   "outputs": [],
   "source": [
    "del diagnosis\n",
    "del diagnosis_10\n",
    "del diagnosis_9\n",
    "del enhanced_met"
   ]
  },
  {
   "cell_type": "markdown",
   "id": "96cfedbe",
   "metadata": {},
   "source": [
    "## Part 2: In-silico trials "
   ]
  },
  {
   "cell_type": "markdown",
   "id": "8e631bc9",
   "metadata": {},
   "source": [
    "### Import packages and create necessary functions"
   ]
  },
  {
   "cell_type": "code",
   "execution_count": 32,
   "id": "2ee145c1",
   "metadata": {},
   "outputs": [],
   "source": [
    "import numpy as np\n",
    "import pandas as pd\n",
    "\n",
    "from scipy import stats\n",
    "\n",
    "from sksurv.nonparametric import kaplan_meier_estimator\n",
    "from survive import KaplanMeier, SurvivalData\n",
    "\n",
    "from lifelines import KaplanMeierFitter\n",
    "from lifelines.plotting import add_at_risk_counts\n",
    "from lifelines.utils import median_survival_times\n",
    "\n",
    "import matplotlib.pyplot as plt\n",
    "import matplotlib.gridspec as gridspec\n",
    "\n",
    "from sklearn.pipeline import Pipeline\n",
    "from sklearn.impute import SimpleImputer\n",
    "from sklearn.preprocessing import StandardScaler, OneHotEncoder\n",
    "from sklearn.compose import ColumnTransformer \n",
    "from sklearn.linear_model import LogisticRegression\n",
    "\n",
    "from matplotlib.lines import Line2D   "
   ]
  },
  {
   "cell_type": "code",
   "execution_count": 33,
   "id": "29793fb2",
   "metadata": {},
   "outputs": [],
   "source": [
    "# Function that returns number of rows and count of unique PatientIDs for a dataframe. \n",
    "def row_ID(dataframe):\n",
    "    row = dataframe.shape[0]\n",
    "    ID = dataframe['PatientID'].nunique()\n",
    "    return row, ID"
   ]
  },
  {
   "cell_type": "code",
   "execution_count": 34,
   "id": "cacb3475",
   "metadata": {},
   "outputs": [],
   "source": [
    "cutoff = pd.read_csv('risk_cutoff_prostate.csv', index_col = 0)"
   ]
  },
  {
   "cell_type": "markdown",
   "id": "37bb621b",
   "metadata": {},
   "source": [
    "### CHAARTED: docetaxel vs. ADT in metastatic, castration-sensitive prostate cancer  \n",
    "\n",
    "**INCLUSION**\n",
    "* Untreated metastatic prostate cancer, except up to 4 months of ADT \n",
    "* Castration-sensitive\n",
    "* Received ADT or docetaxel plus ADT\n",
    "* No active cardiac disease in the year preceding metastatic diagnosis \n",
    "* ECOG is not 3 or 4 at time of metastatic diagnosis \n",
    "* Adequate organ function at time of mestastatic diagnosis  "
   ]
  },
  {
   "cell_type": "markdown",
   "id": "ef7b54fb",
   "metadata": {},
   "source": [
    "#### ADT"
   ]
  },
  {
   "cell_type": "code",
   "execution_count": 35,
   "id": "a5fdbb3d",
   "metadata": {},
   "outputs": [
    {
     "data": {
      "text/plain": [
       "18927"
      ]
     },
     "execution_count": 35,
     "metadata": {},
     "output_type": "execute_result"
    }
   ],
   "source": [
    "df_full = pd.read_csv('df_risk_crude.csv', index_col = 'PatientID', dtype = {'death_status': bool})\n",
    "df_full.index.nunique()"
   ]
  },
  {
   "cell_type": "code",
   "execution_count": 36,
   "id": "71446a6b",
   "metadata": {},
   "outputs": [],
   "source": [
    "df_full.reset_index(inplace = True)"
   ]
  },
  {
   "cell_type": "code",
   "execution_count": 37,
   "id": "fec91aaf",
   "metadata": {},
   "outputs": [],
   "source": [
    "adt = pd.read_csv('Enhanced_MetPC_ADT.csv')"
   ]
  },
  {
   "cell_type": "code",
   "execution_count": 38,
   "id": "94b68cda",
   "metadata": {},
   "outputs": [],
   "source": [
    "adt = (\n",
    "    adt[adt['PatientID'].isin(df_full['PatientID'])]\n",
    "    .query('TreatmentSetting == \"Advanced\"')\n",
    ")"
   ]
  },
  {
   "cell_type": "code",
   "execution_count": 39,
   "id": "2786c407",
   "metadata": {},
   "outputs": [
    {
     "data": {
      "text/plain": [
       "(17863, 17863)"
      ]
     },
     "execution_count": 39,
     "metadata": {},
     "output_type": "execute_result"
    }
   ],
   "source": [
    "row_ID(adt)"
   ]
  },
  {
   "cell_type": "code",
   "execution_count": 40,
   "id": "f9ccec1e",
   "metadata": {},
   "outputs": [],
   "source": [
    "adt.loc[:, 'StartDate'] = pd.to_datetime(adt['StartDate'])"
   ]
  },
  {
   "cell_type": "code",
   "execution_count": 41,
   "id": "844d9190",
   "metadata": {},
   "outputs": [],
   "source": [
    "adt = adt.rename(columns = {'StartDate': 'StartDate_adt'})"
   ]
  },
  {
   "cell_type": "code",
   "execution_count": 42,
   "id": "f5da0c1b",
   "metadata": {},
   "outputs": [],
   "source": [
    "df_full = pd.merge(df_full, adt[['PatientID', 'StartDate_adt']], on = 'PatientID', how = 'left')"
   ]
  },
  {
   "cell_type": "code",
   "execution_count": 43,
   "id": "b407aec5",
   "metadata": {},
   "outputs": [
    {
     "data": {
      "text/plain": [
       "(18927, 18927)"
      ]
     },
     "execution_count": 43,
     "metadata": {},
     "output_type": "execute_result"
    }
   ],
   "source": [
    "row_ID(df_full)"
   ]
  },
  {
   "cell_type": "code",
   "execution_count": 44,
   "id": "1ac8c10c",
   "metadata": {},
   "outputs": [],
   "source": [
    "enhanced_met = pd.read_csv('Enhanced_MetProstate.csv')"
   ]
  },
  {
   "cell_type": "code",
   "execution_count": 45,
   "id": "d9c9597e",
   "metadata": {},
   "outputs": [],
   "source": [
    "enhanced_met = enhanced_met[enhanced_met['PatientID'].isin(df_full['PatientID'])]"
   ]
  },
  {
   "cell_type": "code",
   "execution_count": 46,
   "id": "781daded",
   "metadata": {},
   "outputs": [],
   "source": [
    "enhanced_met.loc[:, 'MetDiagnosisDate'] = pd.to_datetime(enhanced_met['MetDiagnosisDate'])"
   ]
  },
  {
   "cell_type": "code",
   "execution_count": 47,
   "id": "b1b7fa93",
   "metadata": {},
   "outputs": [],
   "source": [
    "enhanced_met.loc[:, 'CRPCDate'] = pd.to_datetime(enhanced_met['CRPCDate'])"
   ]
  },
  {
   "cell_type": "code",
   "execution_count": 48,
   "id": "75ddc51a",
   "metadata": {},
   "outputs": [],
   "source": [
    "df_full = pd.merge(df_full, enhanced_met[['PatientID', 'MetDiagnosisDate', 'CRPCDate']], on = 'PatientID', how = 'left')"
   ]
  },
  {
   "cell_type": "code",
   "execution_count": 49,
   "id": "c1124906",
   "metadata": {},
   "outputs": [
    {
     "data": {
      "text/plain": [
       "(18927, 18927)"
      ]
     },
     "execution_count": 49,
     "metadata": {},
     "output_type": "execute_result"
    }
   ],
   "source": [
    "row_ID(df_full)"
   ]
  },
  {
   "cell_type": "code",
   "execution_count": 50,
   "id": "c1cee87f",
   "metadata": {},
   "outputs": [],
   "source": [
    "# Find all that start ADT within -120 to +90 days of metastatic diagnosis \n",
    "chaarted_adt = (\n",
    "    df_full\n",
    "    .assign(adt_diff = (df_full['StartDate_adt'] - df_full['MetDiagnosisDate']).dt.days)\n",
    "    .query('adt_diff >= -120 and adt_diff <= 90')\n",
    ")"
   ]
  },
  {
   "cell_type": "code",
   "execution_count": 51,
   "id": "347b9ed8",
   "metadata": {},
   "outputs": [],
   "source": [
    "# Find all that have missing CPRC date or date is >90 after metastatic diagnosis \n",
    "chaarted_adt = (\n",
    "    chaarted_adt\n",
    "    .assign(crpc_diff = (chaarted_adt['CRPCDate'] - chaarted_adt['MetDiagnosisDate']).dt.days)\n",
    "    .query('crpc_diff > 90 or CRPCDate.isna()', engine = 'python')\n",
    ")"
   ]
  },
  {
   "cell_type": "code",
   "execution_count": 52,
   "id": "a12a5e29",
   "metadata": {},
   "outputs": [
    {
     "data": {
      "text/plain": [
       "(10475, 10475)"
      ]
     },
     "execution_count": 52,
     "metadata": {},
     "output_type": "execute_result"
    }
   ],
   "source": [
    "row_ID(chaarted_adt)"
   ]
  },
  {
   "cell_type": "code",
   "execution_count": 53,
   "id": "77aed7cd",
   "metadata": {},
   "outputs": [],
   "source": [
    "line_therapy = pd.read_csv('LineOfTherapy.csv')"
   ]
  },
  {
   "cell_type": "code",
   "execution_count": 54,
   "id": "5f692992",
   "metadata": {},
   "outputs": [],
   "source": [
    "zero = (\n",
    "    line_therapy.query('LineNumber == 0')\n",
    "    .PatientID\n",
    ")"
   ]
  },
  {
   "cell_type": "code",
   "execution_count": 55,
   "id": "61967fba",
   "metadata": {},
   "outputs": [],
   "source": [
    "# Exclude patients with missing treatment information (ie, LineNumber == 0)\n",
    "chaarted_adt = chaarted_adt[~chaarted_adt.PatientID.isin(zero)]"
   ]
  },
  {
   "cell_type": "code",
   "execution_count": 56,
   "id": "75159583",
   "metadata": {},
   "outputs": [
    {
     "data": {
      "text/plain": [
       "(10117, 10117)"
      ]
     },
     "execution_count": 56,
     "metadata": {},
     "output_type": "execute_result"
    }
   ],
   "source": [
    "row_ID(chaarted_adt)"
   ]
  },
  {
   "cell_type": "code",
   "execution_count": 57,
   "id": "b04db476",
   "metadata": {},
   "outputs": [],
   "source": [
    "line_therapy_cont = line_therapy.query('LineSetting != \"nmCRPC\"')"
   ]
  },
  {
   "cell_type": "code",
   "execution_count": 58,
   "id": "c44cdb0c",
   "metadata": {},
   "outputs": [],
   "source": [
    "# List of FDA approved drugs for mPC as of July 2023. Clinical study drug is also included. \n",
    "fda_yes = [\n",
    "    'Abiraterone',\n",
    "    'Apalutamide',\n",
    "    'Cabazitaxel',\n",
    "    'Carboplatin',\n",
    "    'Cisplatin',\n",
    "    'Darolutamide',\n",
    "    'Docetaxel',\n",
    "    'Enzalutamide',\n",
    "    'Mitoxantrone',\n",
    "    'Olaparib',\n",
    "    'Oxaliplatin',\n",
    "    'Paclitaxel',\n",
    "    'Pembrolizumab',\n",
    "    'Radium-223',\n",
    "    'Rucaparib',\n",
    "    'Sipuleucel-T',\n",
    "    'Clinical Study Drug'\n",
    "]"
   ]
  },
  {
   "cell_type": "code",
   "execution_count": 59,
   "id": "2a14c8c6",
   "metadata": {},
   "outputs": [],
   "source": [
    "line_therapy_cont = line_therapy_cont[line_therapy_cont['LineName'].str.contains('|'.join(fda_yes))]"
   ]
  },
  {
   "cell_type": "code",
   "execution_count": 60,
   "id": "a1f10947",
   "metadata": {},
   "outputs": [],
   "source": [
    "line_therapy_cont = (\n",
    "    line_therapy_cont\n",
    "    .sort_values(by = ['PatientID', 'StartDate'], ascending = [True, True])\n",
    ")"
   ]
  },
  {
   "cell_type": "code",
   "execution_count": 61,
   "id": "5583f11b",
   "metadata": {},
   "outputs": [],
   "source": [
    "line_therapy_cont['line_number'] = (\n",
    "    line_therapy_cont.groupby('PatientID')['LineNumber'].cumcount()+1\n",
    ")"
   ]
  },
  {
   "cell_type": "code",
   "execution_count": 62,
   "id": "c7fdfff0",
   "metadata": {},
   "outputs": [],
   "source": [
    "# First line therapy is in castrate-resistant setting \n",
    "fl_crpc = (\n",
    "    line_therapy_cont[line_therapy_cont.PatientID.isin(chaarted_adt.PatientID)]\n",
    "    .query('line_number == 1 & LineSetting == \"mCRPC\"')\n",
    "    .PatientID\n",
    ")"
   ]
  },
  {
   "cell_type": "code",
   "execution_count": 63,
   "id": "0c98b61c",
   "metadata": {},
   "outputs": [],
   "source": [
    "# Never received therapy other than ADT\n",
    "notrt_adt = (\n",
    "    chaarted_adt[~chaarted_adt.PatientID.isin(line_therapy_cont.PatientID)]\n",
    "    .PatientID\n",
    ")"
   ]
  },
  {
   "cell_type": "code",
   "execution_count": 64,
   "id": "e2b0d1b7",
   "metadata": {},
   "outputs": [],
   "source": [
    "adt_IDs = np.concatenate((fl_crpc, notrt_adt))"
   ]
  },
  {
   "cell_type": "code",
   "execution_count": 65,
   "id": "31abcdf4",
   "metadata": {},
   "outputs": [
    {
     "data": {
      "text/plain": [
       "6218"
      ]
     },
     "execution_count": 65,
     "metadata": {},
     "output_type": "execute_result"
    }
   ],
   "source": [
    "len(adt_IDs)"
   ]
  },
  {
   "cell_type": "code",
   "execution_count": 66,
   "id": "ea7d7f52",
   "metadata": {},
   "outputs": [],
   "source": [
    "chaarted_adt = chaarted_adt[chaarted_adt.PatientID.isin(adt_IDs)]"
   ]
  },
  {
   "cell_type": "code",
   "execution_count": 67,
   "id": "a4fe48b4",
   "metadata": {},
   "outputs": [],
   "source": [
    "chaarted_adt.loc[:,'adt_dotx'] = 0"
   ]
  },
  {
   "cell_type": "code",
   "execution_count": 68,
   "id": "cb660d67",
   "metadata": {},
   "outputs": [
    {
     "data": {
      "text/plain": [
       "(6218, 6218)"
      ]
     },
     "execution_count": 68,
     "metadata": {},
     "output_type": "execute_result"
    }
   ],
   "source": [
    "row_ID(chaarted_adt)"
   ]
  },
  {
   "cell_type": "code",
   "execution_count": 69,
   "id": "0b1a89b7",
   "metadata": {
    "scrolled": true
   },
   "outputs": [
    {
     "data": {
      "text/html": [
       "<div>\n",
       "<style scoped>\n",
       "    .dataframe tbody tr th:only-of-type {\n",
       "        vertical-align: middle;\n",
       "    }\n",
       "\n",
       "    .dataframe tbody tr th {\n",
       "        vertical-align: top;\n",
       "    }\n",
       "\n",
       "    .dataframe thead th {\n",
       "        text-align: right;\n",
       "    }\n",
       "</style>\n",
       "<table border=\"1\" class=\"dataframe\">\n",
       "  <thead>\n",
       "    <tr style=\"text-align: right;\">\n",
       "      <th></th>\n",
       "      <th>PatientID</th>\n",
       "      <th>Gender</th>\n",
       "      <th>race</th>\n",
       "      <th>ethnicity</th>\n",
       "      <th>age</th>\n",
       "      <th>p_type</th>\n",
       "      <th>NStage</th>\n",
       "      <th>MStage</th>\n",
       "      <th>Histology</th>\n",
       "      <th>GleasonScore</th>\n",
       "      <th>...</th>\n",
       "      <th>other_met</th>\n",
       "      <th>prim_treatment</th>\n",
       "      <th>early_adt</th>\n",
       "      <th>risk_score</th>\n",
       "      <th>StartDate_adt</th>\n",
       "      <th>MetDiagnosisDate</th>\n",
       "      <th>CRPCDate</th>\n",
       "      <th>adt_diff</th>\n",
       "      <th>crpc_diff</th>\n",
       "      <th>adt_dotx</th>\n",
       "    </tr>\n",
       "  </thead>\n",
       "  <tbody>\n",
       "    <tr>\n",
       "      <th>17094</th>\n",
       "      <td>F04F6265DA588</td>\n",
       "      <td>M</td>\n",
       "      <td>white</td>\n",
       "      <td>unknown</td>\n",
       "      <td>73</td>\n",
       "      <td>COMMUNITY</td>\n",
       "      <td>N0</td>\n",
       "      <td>M1b</td>\n",
       "      <td>Adenocarcinoma</td>\n",
       "      <td>9</td>\n",
       "      <td>...</td>\n",
       "      <td>0.0</td>\n",
       "      <td>unknown</td>\n",
       "      <td>0.0</td>\n",
       "      <td>-0.632800</td>\n",
       "      <td>2020-06-25</td>\n",
       "      <td>2020-05-19</td>\n",
       "      <td>2021-08-31</td>\n",
       "      <td>37.0</td>\n",
       "      <td>469.0</td>\n",
       "      <td>0</td>\n",
       "    </tr>\n",
       "    <tr>\n",
       "      <th>5810</th>\n",
       "      <td>F9167BE5C621B</td>\n",
       "      <td>M</td>\n",
       "      <td>white</td>\n",
       "      <td>unknown</td>\n",
       "      <td>77</td>\n",
       "      <td>COMMUNITY</td>\n",
       "      <td>Unknown / Not documented</td>\n",
       "      <td>Unknown / Not documented</td>\n",
       "      <td>Adenocarcinoma</td>\n",
       "      <td>4 + 3 = 7</td>\n",
       "      <td>...</td>\n",
       "      <td>0.0</td>\n",
       "      <td>radiation</td>\n",
       "      <td>0.0</td>\n",
       "      <td>-0.673186</td>\n",
       "      <td>2014-04-07</td>\n",
       "      <td>2014-04-02</td>\n",
       "      <td>NaT</td>\n",
       "      <td>5.0</td>\n",
       "      <td>NaN</td>\n",
       "      <td>0</td>\n",
       "    </tr>\n",
       "    <tr>\n",
       "      <th>9652</th>\n",
       "      <td>FEFF9EE32FAA3</td>\n",
       "      <td>M</td>\n",
       "      <td>white</td>\n",
       "      <td>unknown</td>\n",
       "      <td>57</td>\n",
       "      <td>COMMUNITY</td>\n",
       "      <td>N1</td>\n",
       "      <td>M1a</td>\n",
       "      <td>Adenocarcinoma</td>\n",
       "      <td>8</td>\n",
       "      <td>...</td>\n",
       "      <td>0.0</td>\n",
       "      <td>unknown</td>\n",
       "      <td>0.0</td>\n",
       "      <td>-0.836685</td>\n",
       "      <td>2019-12-09</td>\n",
       "      <td>2019-10-24</td>\n",
       "      <td>NaT</td>\n",
       "      <td>46.0</td>\n",
       "      <td>NaN</td>\n",
       "      <td>0</td>\n",
       "    </tr>\n",
       "  </tbody>\n",
       "</table>\n",
       "<p>3 rows × 235 columns</p>\n",
       "</div>"
      ],
      "text/plain": [
       "           PatientID Gender   race ethnicity  age     p_type  \\\n",
       "17094  F04F6265DA588      M  white   unknown   73  COMMUNITY   \n",
       "5810   F9167BE5C621B      M  white   unknown   77  COMMUNITY   \n",
       "9652   FEFF9EE32FAA3      M  white   unknown   57  COMMUNITY   \n",
       "\n",
       "                         NStage                    MStage       Histology  \\\n",
       "17094                        N0                       M1b  Adenocarcinoma   \n",
       "5810   Unknown / Not documented  Unknown / Not documented  Adenocarcinoma   \n",
       "9652                         N1                       M1a  Adenocarcinoma   \n",
       "\n",
       "      GleasonScore  ...  other_met  prim_treatment early_adt  risk_score  \\\n",
       "17094            9  ...        0.0         unknown       0.0   -0.632800   \n",
       "5810     4 + 3 = 7  ...        0.0       radiation       0.0   -0.673186   \n",
       "9652             8  ...        0.0         unknown       0.0   -0.836685   \n",
       "\n",
       "       StartDate_adt  MetDiagnosisDate   CRPCDate  adt_diff  crpc_diff  \\\n",
       "17094     2020-06-25        2020-05-19 2021-08-31      37.0      469.0   \n",
       "5810      2014-04-07        2014-04-02        NaT       5.0        NaN   \n",
       "9652      2019-12-09        2019-10-24        NaT      46.0        NaN   \n",
       "\n",
       "       adt_dotx  \n",
       "17094         0  \n",
       "5810          0  \n",
       "9652          0  \n",
       "\n",
       "[3 rows x 235 columns]"
      ]
     },
     "execution_count": 69,
     "metadata": {},
     "output_type": "execute_result"
    }
   ],
   "source": [
    "chaarted_adt.sample(3)"
   ]
  },
  {
   "cell_type": "markdown",
   "id": "33fc2e0a",
   "metadata": {},
   "source": [
    "#### Docetaxel + ADT"
   ]
  },
  {
   "cell_type": "code",
   "execution_count": 70,
   "id": "443e38c2",
   "metadata": {},
   "outputs": [],
   "source": [
    "# Find those that start ADT within -120 to 90 days of metastaic diagnosis \n",
    "chaarted_dotx = (\n",
    "    df_full\n",
    "    .assign(adt_diff = (df_full['StartDate_adt'] - df_full['MetDiagnosisDate']).dt.days)\n",
    "    .query('adt_diff >= -120 and adt_diff <= 90')\n",
    ")"
   ]
  },
  {
   "cell_type": "code",
   "execution_count": 71,
   "id": "fbc18004",
   "metadata": {},
   "outputs": [],
   "source": [
    "# Find all that have missing CPRC date or date is >90 days metastatic diagnosis \n",
    "chaarted_dotx = (\n",
    "    chaarted_dotx\n",
    "    .assign(crpc_diff = (chaarted_dotx['CRPCDate'] - chaarted_dotx['MetDiagnosisDate']).dt.days)\n",
    "    .query('crpc_diff > 90 or CRPCDate.isna()', engine = 'python')\n",
    ")"
   ]
  },
  {
   "cell_type": "code",
   "execution_count": 72,
   "id": "c8ee974a",
   "metadata": {},
   "outputs": [
    {
     "data": {
      "text/plain": [
       "(10475, 10475)"
      ]
     },
     "execution_count": 72,
     "metadata": {},
     "output_type": "execute_result"
    }
   ],
   "source": [
    "row_ID(chaarted_dotx)"
   ]
  },
  {
   "cell_type": "code",
   "execution_count": 73,
   "id": "5f32e49d",
   "metadata": {},
   "outputs": [],
   "source": [
    "# Find start time of first line of mHSPC therapy. \n",
    "line_therapy_fl = (\n",
    "    line_therapy[line_therapy['PatientID'].isin(chaarted_dotx['PatientID'])]\n",
    "    .query('LineSetting == \"mHSPC\"')\n",
    "    .sort_values(by = ['PatientID', 'StartDate'], ascending = [True, True])\n",
    "    .drop_duplicates(subset = ['PatientID'], keep = 'first')\n",
    "    .rename(columns = {'StartDate': 'StartDate_dotx'})\n",
    ")"
   ]
  },
  {
   "cell_type": "code",
   "execution_count": 74,
   "id": "16733045",
   "metadata": {},
   "outputs": [
    {
     "data": {
      "text/plain": [
       "(4042, 4042)"
      ]
     },
     "execution_count": 74,
     "metadata": {},
     "output_type": "execute_result"
    }
   ],
   "source": [
    "row_ID(line_therapy_fl)"
   ]
  },
  {
   "cell_type": "code",
   "execution_count": 75,
   "id": "e60d1eb6",
   "metadata": {},
   "outputs": [],
   "source": [
    "line_therapy_fl.loc[:, 'StartDate_dotx'] = pd.to_datetime(line_therapy_fl['StartDate_dotx'])"
   ]
  },
  {
   "cell_type": "code",
   "execution_count": 76,
   "id": "ae28825e",
   "metadata": {},
   "outputs": [
    {
     "data": {
      "text/plain": [
       "Docetaxel                                         1363\n",
       "Abiraterone,Docetaxel                               27\n",
       "Carboplatin,Docetaxel                               12\n",
       "Clinical Study Drug,Docetaxel                       11\n",
       "Darolutamide,Docetaxel                               9\n",
       "Docetaxel,Enzalutamide                               6\n",
       "Carboplatin,Docetaxel,Estramustine                   5\n",
       "Docetaxel,Ketoconazole                               3\n",
       "Apalutamide,Docetaxel                                2\n",
       "Carboplatin,Docetaxel,Estramustine,Thalidomide       2\n",
       "Name: LineName, dtype: int64"
      ]
     },
     "execution_count": 76,
     "metadata": {},
     "output_type": "execute_result"
    }
   ],
   "source": [
    "line_therapy_fl[line_therapy_fl['LineName'].str.contains('Docetaxel')].LineName.value_counts().head(10)"
   ]
  },
  {
   "cell_type": "code",
   "execution_count": 77,
   "id": "9ff27d9d",
   "metadata": {},
   "outputs": [],
   "source": [
    "line_dotx = line_therapy_fl.query('LineName == \"Docetaxel\"')"
   ]
  },
  {
   "cell_type": "code",
   "execution_count": 78,
   "id": "1f43a59c",
   "metadata": {},
   "outputs": [
    {
     "data": {
      "text/plain": [
       "(1363, 1363)"
      ]
     },
     "execution_count": 78,
     "metadata": {},
     "output_type": "execute_result"
    }
   ],
   "source": [
    "row_ID(line_dotx)"
   ]
  },
  {
   "cell_type": "code",
   "execution_count": 79,
   "id": "b7a5c146",
   "metadata": {},
   "outputs": [],
   "source": [
    "chaarted_dotx = pd.merge(chaarted_dotx, line_dotx[['PatientID', 'StartDate_dotx']], on = 'PatientID', how = 'left')"
   ]
  },
  {
   "cell_type": "code",
   "execution_count": 80,
   "id": "23ba5604",
   "metadata": {},
   "outputs": [
    {
     "data": {
      "text/plain": [
       "(10475, 10475)"
      ]
     },
     "execution_count": 80,
     "metadata": {},
     "output_type": "execute_result"
    }
   ],
   "source": [
    "row_ID(chaarted_dotx)"
   ]
  },
  {
   "cell_type": "code",
   "execution_count": 81,
   "id": "c35df82b",
   "metadata": {},
   "outputs": [],
   "source": [
    "# Find all patients that start enzalutamide within 180 days of metastatic diagnosis\n",
    "chaarted_dotx = (\n",
    "    chaarted_dotx\n",
    "    .assign(fl_diff = (chaarted_dotx['StartDate_dotx'] - chaarted_dotx['StartDate_adt']).dt.days)\n",
    "    .query('fl_diff >= -90 and fl_diff <= 90')\n",
    ")"
   ]
  },
  {
   "cell_type": "code",
   "execution_count": 82,
   "id": "1504a621",
   "metadata": {},
   "outputs": [
    {
     "data": {
      "text/plain": [
       "1179"
      ]
     },
     "execution_count": 82,
     "metadata": {},
     "output_type": "execute_result"
    }
   ],
   "source": [
    "len(chaarted_dotx)"
   ]
  },
  {
   "cell_type": "code",
   "execution_count": 83,
   "id": "4b000717",
   "metadata": {},
   "outputs": [
    {
     "data": {
      "text/html": [
       "<div>\n",
       "<style scoped>\n",
       "    .dataframe tbody tr th:only-of-type {\n",
       "        vertical-align: middle;\n",
       "    }\n",
       "\n",
       "    .dataframe tbody tr th {\n",
       "        vertical-align: top;\n",
       "    }\n",
       "\n",
       "    .dataframe thead th {\n",
       "        text-align: right;\n",
       "    }\n",
       "</style>\n",
       "<table border=\"1\" class=\"dataframe\">\n",
       "  <thead>\n",
       "    <tr style=\"text-align: right;\">\n",
       "      <th></th>\n",
       "      <th>PatientID</th>\n",
       "      <th>Gender</th>\n",
       "      <th>race</th>\n",
       "      <th>ethnicity</th>\n",
       "      <th>age</th>\n",
       "      <th>p_type</th>\n",
       "      <th>NStage</th>\n",
       "      <th>MStage</th>\n",
       "      <th>Histology</th>\n",
       "      <th>GleasonScore</th>\n",
       "      <th>...</th>\n",
       "      <th>prim_treatment</th>\n",
       "      <th>early_adt</th>\n",
       "      <th>risk_score</th>\n",
       "      <th>StartDate_adt</th>\n",
       "      <th>MetDiagnosisDate</th>\n",
       "      <th>CRPCDate</th>\n",
       "      <th>adt_diff</th>\n",
       "      <th>crpc_diff</th>\n",
       "      <th>StartDate_dotx</th>\n",
       "      <th>fl_diff</th>\n",
       "    </tr>\n",
       "  </thead>\n",
       "  <tbody>\n",
       "    <tr>\n",
       "      <th>5806</th>\n",
       "      <td>F6A590ABDEE55</td>\n",
       "      <td>M</td>\n",
       "      <td>white</td>\n",
       "      <td>unknown</td>\n",
       "      <td>62</td>\n",
       "      <td>COMMUNITY</td>\n",
       "      <td>Unknown / Not documented</td>\n",
       "      <td>M1</td>\n",
       "      <td>Adenocarcinoma</td>\n",
       "      <td>Unknown / Not documented</td>\n",
       "      <td>...</td>\n",
       "      <td>unknown</td>\n",
       "      <td>0.0</td>\n",
       "      <td>-0.714950</td>\n",
       "      <td>2021-01-14</td>\n",
       "      <td>2021-01-04</td>\n",
       "      <td>NaT</td>\n",
       "      <td>10.0</td>\n",
       "      <td>NaN</td>\n",
       "      <td>2021-01-22</td>\n",
       "      <td>8.0</td>\n",
       "    </tr>\n",
       "    <tr>\n",
       "      <th>2431</th>\n",
       "      <td>FAD0720F6BB6A</td>\n",
       "      <td>M</td>\n",
       "      <td>white</td>\n",
       "      <td>unknown</td>\n",
       "      <td>68</td>\n",
       "      <td>COMMUNITY</td>\n",
       "      <td>NX</td>\n",
       "      <td>M1b</td>\n",
       "      <td>Adenocarcinoma</td>\n",
       "      <td>Unknown / Not documented</td>\n",
       "      <td>...</td>\n",
       "      <td>unknown</td>\n",
       "      <td>0.0</td>\n",
       "      <td>-0.298820</td>\n",
       "      <td>2015-11-13</td>\n",
       "      <td>2015-11-04</td>\n",
       "      <td>2016-09-16</td>\n",
       "      <td>9.0</td>\n",
       "      <td>317.0</td>\n",
       "      <td>2015-11-13</td>\n",
       "      <td>0.0</td>\n",
       "    </tr>\n",
       "    <tr>\n",
       "      <th>2747</th>\n",
       "      <td>FFF43B2EBDDCE</td>\n",
       "      <td>M</td>\n",
       "      <td>unknown</td>\n",
       "      <td>unknown</td>\n",
       "      <td>56</td>\n",
       "      <td>COMMUNITY</td>\n",
       "      <td>Unknown / Not documented</td>\n",
       "      <td>M1</td>\n",
       "      <td>Adenocarcinoma</td>\n",
       "      <td>9</td>\n",
       "      <td>...</td>\n",
       "      <td>unknown</td>\n",
       "      <td>0.0</td>\n",
       "      <td>-0.241554</td>\n",
       "      <td>2018-12-07</td>\n",
       "      <td>2018-11-20</td>\n",
       "      <td>2019-08-20</td>\n",
       "      <td>17.0</td>\n",
       "      <td>273.0</td>\n",
       "      <td>2018-12-12</td>\n",
       "      <td>5.0</td>\n",
       "    </tr>\n",
       "  </tbody>\n",
       "</table>\n",
       "<p>3 rows × 236 columns</p>\n",
       "</div>"
      ],
      "text/plain": [
       "          PatientID Gender     race ethnicity  age     p_type  \\\n",
       "5806  F6A590ABDEE55      M    white   unknown   62  COMMUNITY   \n",
       "2431  FAD0720F6BB6A      M    white   unknown   68  COMMUNITY   \n",
       "2747  FFF43B2EBDDCE      M  unknown   unknown   56  COMMUNITY   \n",
       "\n",
       "                        NStage MStage       Histology  \\\n",
       "5806  Unknown / Not documented     M1  Adenocarcinoma   \n",
       "2431                        NX    M1b  Adenocarcinoma   \n",
       "2747  Unknown / Not documented     M1  Adenocarcinoma   \n",
       "\n",
       "                  GleasonScore  ...  prim_treatment  early_adt risk_score  \\\n",
       "5806  Unknown / Not documented  ...         unknown        0.0  -0.714950   \n",
       "2431  Unknown / Not documented  ...         unknown        0.0  -0.298820   \n",
       "2747                         9  ...         unknown        0.0  -0.241554   \n",
       "\n",
       "      StartDate_adt  MetDiagnosisDate   CRPCDate  adt_diff  crpc_diff  \\\n",
       "5806     2021-01-14        2021-01-04        NaT      10.0        NaN   \n",
       "2431     2015-11-13        2015-11-04 2016-09-16       9.0      317.0   \n",
       "2747     2018-12-07        2018-11-20 2019-08-20      17.0      273.0   \n",
       "\n",
       "      StartDate_dotx  fl_diff  \n",
       "5806      2021-01-22      8.0  \n",
       "2431      2015-11-13      0.0  \n",
       "2747      2018-12-12      5.0  \n",
       "\n",
       "[3 rows x 236 columns]"
      ]
     },
     "execution_count": 83,
     "metadata": {},
     "output_type": "execute_result"
    }
   ],
   "source": [
    "chaarted_dotx.sample(3)"
   ]
  },
  {
   "cell_type": "code",
   "execution_count": 84,
   "id": "4ac94ed9",
   "metadata": {},
   "outputs": [],
   "source": [
    "chaarted_dotx.loc[:,'adt_dotx'] = 1"
   ]
  },
  {
   "cell_type": "code",
   "execution_count": 85,
   "id": "7c28fea3",
   "metadata": {},
   "outputs": [],
   "source": [
    "chaarted = pd.concat([chaarted_adt, chaarted_dotx], ignore_index = True)"
   ]
  },
  {
   "cell_type": "code",
   "execution_count": 86,
   "id": "f57dba7d",
   "metadata": {},
   "outputs": [
    {
     "data": {
      "text/plain": [
       "(7397, 7397)"
      ]
     },
     "execution_count": 86,
     "metadata": {},
     "output_type": "execute_result"
    }
   ],
   "source": [
    "row_ID(chaarted)"
   ]
  },
  {
   "cell_type": "code",
   "execution_count": 87,
   "id": "8f8b6c34",
   "metadata": {},
   "outputs": [
    {
     "data": {
      "text/plain": [
       "0    6218\n",
       "1    1179\n",
       "Name: adt_dotx, dtype: int64"
      ]
     },
     "execution_count": 87,
     "metadata": {},
     "output_type": "execute_result"
    }
   ],
   "source": [
    "chaarted.adt_dotx.value_counts(dropna = False)"
   ]
  },
  {
   "cell_type": "code",
   "execution_count": 88,
   "id": "c9cae7e7",
   "metadata": {},
   "outputs": [
    {
     "data": {
      "text/html": [
       "<div>\n",
       "<style scoped>\n",
       "    .dataframe tbody tr th:only-of-type {\n",
       "        vertical-align: middle;\n",
       "    }\n",
       "\n",
       "    .dataframe tbody tr th {\n",
       "        vertical-align: top;\n",
       "    }\n",
       "\n",
       "    .dataframe thead th {\n",
       "        text-align: right;\n",
       "    }\n",
       "</style>\n",
       "<table border=\"1\" class=\"dataframe\">\n",
       "  <thead>\n",
       "    <tr style=\"text-align: right;\">\n",
       "      <th></th>\n",
       "      <th>PatientID</th>\n",
       "      <th>Gender</th>\n",
       "      <th>race</th>\n",
       "      <th>ethnicity</th>\n",
       "      <th>age</th>\n",
       "      <th>p_type</th>\n",
       "      <th>NStage</th>\n",
       "      <th>MStage</th>\n",
       "      <th>Histology</th>\n",
       "      <th>GleasonScore</th>\n",
       "      <th>...</th>\n",
       "      <th>early_adt</th>\n",
       "      <th>risk_score</th>\n",
       "      <th>StartDate_adt</th>\n",
       "      <th>MetDiagnosisDate</th>\n",
       "      <th>CRPCDate</th>\n",
       "      <th>adt_diff</th>\n",
       "      <th>crpc_diff</th>\n",
       "      <th>adt_dotx</th>\n",
       "      <th>StartDate_dotx</th>\n",
       "      <th>fl_diff</th>\n",
       "    </tr>\n",
       "  </thead>\n",
       "  <tbody>\n",
       "    <tr>\n",
       "      <th>1250</th>\n",
       "      <td>FCE28AD4285F9</td>\n",
       "      <td>M</td>\n",
       "      <td>black</td>\n",
       "      <td>unknown</td>\n",
       "      <td>68</td>\n",
       "      <td>COMMUNITY</td>\n",
       "      <td>Unknown / Not documented</td>\n",
       "      <td>M1</td>\n",
       "      <td>Prostate cancer, NOS</td>\n",
       "      <td>Unknown / Not documented</td>\n",
       "      <td>...</td>\n",
       "      <td>0.0</td>\n",
       "      <td>0.108742</td>\n",
       "      <td>2020-07-09</td>\n",
       "      <td>2020-06-24</td>\n",
       "      <td>2021-12-29</td>\n",
       "      <td>15.0</td>\n",
       "      <td>553.0</td>\n",
       "      <td>0</td>\n",
       "      <td>NaT</td>\n",
       "      <td>NaN</td>\n",
       "    </tr>\n",
       "    <tr>\n",
       "      <th>4846</th>\n",
       "      <td>F9033669B6D8F</td>\n",
       "      <td>M</td>\n",
       "      <td>white</td>\n",
       "      <td>unknown</td>\n",
       "      <td>78</td>\n",
       "      <td>COMMUNITY</td>\n",
       "      <td>Unknown / Not documented</td>\n",
       "      <td>M1</td>\n",
       "      <td>Adenocarcinoma</td>\n",
       "      <td>4 + 3 = 7</td>\n",
       "      <td>...</td>\n",
       "      <td>0.0</td>\n",
       "      <td>-0.279877</td>\n",
       "      <td>2017-03-29</td>\n",
       "      <td>2017-02-21</td>\n",
       "      <td>NaT</td>\n",
       "      <td>36.0</td>\n",
       "      <td>NaN</td>\n",
       "      <td>0</td>\n",
       "      <td>NaT</td>\n",
       "      <td>NaN</td>\n",
       "    </tr>\n",
       "    <tr>\n",
       "      <th>1747</th>\n",
       "      <td>FE287C1B75549</td>\n",
       "      <td>M</td>\n",
       "      <td>white</td>\n",
       "      <td>unknown</td>\n",
       "      <td>60</td>\n",
       "      <td>COMMUNITY</td>\n",
       "      <td>Unknown / Not documented</td>\n",
       "      <td>M1</td>\n",
       "      <td>Adenocarcinoma</td>\n",
       "      <td>Unknown / Not documented</td>\n",
       "      <td>...</td>\n",
       "      <td>0.0</td>\n",
       "      <td>0.997241</td>\n",
       "      <td>2016-11-15</td>\n",
       "      <td>2016-10-25</td>\n",
       "      <td>2017-04-11</td>\n",
       "      <td>21.0</td>\n",
       "      <td>168.0</td>\n",
       "      <td>0</td>\n",
       "      <td>NaT</td>\n",
       "      <td>NaN</td>\n",
       "    </tr>\n",
       "  </tbody>\n",
       "</table>\n",
       "<p>3 rows × 237 columns</p>\n",
       "</div>"
      ],
      "text/plain": [
       "          PatientID Gender   race ethnicity  age     p_type  \\\n",
       "1250  FCE28AD4285F9      M  black   unknown   68  COMMUNITY   \n",
       "4846  F9033669B6D8F      M  white   unknown   78  COMMUNITY   \n",
       "1747  FE287C1B75549      M  white   unknown   60  COMMUNITY   \n",
       "\n",
       "                        NStage MStage             Histology  \\\n",
       "1250  Unknown / Not documented     M1  Prostate cancer, NOS   \n",
       "4846  Unknown / Not documented     M1        Adenocarcinoma   \n",
       "1747  Unknown / Not documented     M1        Adenocarcinoma   \n",
       "\n",
       "                  GleasonScore  ...  early_adt  risk_score StartDate_adt  \\\n",
       "1250  Unknown / Not documented  ...        0.0    0.108742    2020-07-09   \n",
       "4846                 4 + 3 = 7  ...        0.0   -0.279877    2017-03-29   \n",
       "1747  Unknown / Not documented  ...        0.0    0.997241    2016-11-15   \n",
       "\n",
       "      MetDiagnosisDate   CRPCDate  adt_diff  crpc_diff  adt_dotx  \\\n",
       "1250        2020-06-24 2021-12-29      15.0      553.0         0   \n",
       "4846        2017-02-21        NaT      36.0        NaN         0   \n",
       "1747        2016-10-25 2017-04-11      21.0      168.0         0   \n",
       "\n",
       "      StartDate_dotx  fl_diff  \n",
       "1250             NaT      NaN  \n",
       "4846             NaT      NaN  \n",
       "1747             NaT      NaN  \n",
       "\n",
       "[3 rows x 237 columns]"
      ]
     },
     "execution_count": 88,
     "metadata": {},
     "output_type": "execute_result"
    }
   ],
   "source": [
    "chaarted.sample(3)"
   ]
  },
  {
   "cell_type": "markdown",
   "id": "9149a2d3",
   "metadata": {},
   "source": [
    "#### Time from ADT treatment to death or censor "
   ]
  },
  {
   "cell_type": "code",
   "execution_count": 89,
   "id": "f6015411",
   "metadata": {},
   "outputs": [],
   "source": [
    "mortality_tr = pd.read_csv('mortality_cleaned_tr.csv')"
   ]
  },
  {
   "cell_type": "code",
   "execution_count": 90,
   "id": "9a9ae3e6",
   "metadata": {},
   "outputs": [],
   "source": [
    "mortality_te = pd.read_csv('mortality_cleaned_te.csv')"
   ]
  },
  {
   "cell_type": "code",
   "execution_count": 91,
   "id": "ec96986e",
   "metadata": {},
   "outputs": [],
   "source": [
    "mortality_tr = mortality_tr[['PatientID', 'death_date', 'last_activity']]"
   ]
  },
  {
   "cell_type": "code",
   "execution_count": 92,
   "id": "8f5e7d3c",
   "metadata": {},
   "outputs": [],
   "source": [
    "mortality_te = mortality_te[['PatientID', 'death_date', 'last_activity']]"
   ]
  },
  {
   "cell_type": "code",
   "execution_count": 93,
   "id": "1fc07864",
   "metadata": {},
   "outputs": [
    {
     "data": {
      "text/plain": [
       "(18927, 18927)"
      ]
     },
     "execution_count": 93,
     "metadata": {},
     "output_type": "execute_result"
    }
   ],
   "source": [
    "mortality = pd.concat([mortality_tr, mortality_te], ignore_index = True)\n",
    "row_ID(mortality)"
   ]
  },
  {
   "cell_type": "code",
   "execution_count": 94,
   "id": "a067907c",
   "metadata": {},
   "outputs": [],
   "source": [
    "mortality.loc[:, 'last_activity'] = pd.to_datetime(mortality['last_activity'])"
   ]
  },
  {
   "cell_type": "code",
   "execution_count": 95,
   "id": "14b45f1a",
   "metadata": {},
   "outputs": [],
   "source": [
    "mortality.loc[:, 'death_date'] = pd.to_datetime(mortality['death_date'])"
   ]
  },
  {
   "cell_type": "code",
   "execution_count": 96,
   "id": "4bbb658b",
   "metadata": {},
   "outputs": [
    {
     "data": {
      "text/plain": [
       "18927"
      ]
     },
     "execution_count": 96,
     "metadata": {},
     "output_type": "execute_result"
    }
   ],
   "source": [
    "len(mortality)"
   ]
  },
  {
   "cell_type": "code",
   "execution_count": 97,
   "id": "076ef358",
   "metadata": {},
   "outputs": [],
   "source": [
    "chaarted = pd.merge(chaarted, mortality, on = 'PatientID', how = 'left')"
   ]
  },
  {
   "cell_type": "code",
   "execution_count": 98,
   "id": "ad6f417d",
   "metadata": {},
   "outputs": [
    {
     "data": {
      "text/plain": [
       "(7397, 7397)"
      ]
     },
     "execution_count": 98,
     "metadata": {},
     "output_type": "execute_result"
    }
   ],
   "source": [
    "row_ID(chaarted)"
   ]
  },
  {
   "cell_type": "code",
   "execution_count": 99,
   "id": "7c228ba2",
   "metadata": {},
   "outputs": [],
   "source": [
    "conditions = [\n",
    "    (chaarted['death_status'] == 1),\n",
    "    (chaarted['death_status'] == 0)]\n",
    "\n",
    "choices = [\n",
    "    (chaarted['death_date'] - chaarted['StartDate_adt']).dt.days,\n",
    "    (chaarted['last_activity'] - chaarted['StartDate_adt']).dt.days]\n",
    "\n",
    "chaarted.loc[:, 'timerisk_treatment'] = np.select(conditions, choices)\n",
    "\n",
    "chaarted = chaarted.query('timerisk_treatment >= 0')"
   ]
  },
  {
   "cell_type": "markdown",
   "id": "63c2a451",
   "metadata": {},
   "source": [
    "#### Patient count "
   ]
  },
  {
   "cell_type": "code",
   "execution_count": 100,
   "id": "091544c6",
   "metadata": {},
   "outputs": [
    {
     "data": {
      "text/plain": [
       "(7397, 7397)"
      ]
     },
     "execution_count": 100,
     "metadata": {},
     "output_type": "execute_result"
    }
   ],
   "source": [
    "row_ID(chaarted)"
   ]
  },
  {
   "cell_type": "code",
   "execution_count": 101,
   "id": "4df621fc",
   "metadata": {},
   "outputs": [],
   "source": [
    "# Exclude those with active cardiac disease in the year preceding metastatic diagnosis \n",
    "chaarted = chaarted[~chaarted['PatientID'].isin(cardiac_IDs)]"
   ]
  },
  {
   "cell_type": "code",
   "execution_count": 102,
   "id": "0b53157d",
   "metadata": {},
   "outputs": [],
   "source": [
    "# Exclude those with ECOG 3 or 4 at time of metastatic diagnosis \n",
    "chaarted = chaarted.query('ecog_diagnosis != \"3.0\" and ecog_diagnosis != \"4.0\"')"
   ]
  },
  {
   "cell_type": "code",
   "execution_count": 103,
   "id": "3dc503d2",
   "metadata": {},
   "outputs": [],
   "source": [
    "# Exclude those with abnormal organ function at time of metastatic diagnosis \n",
    "chaarted = (\n",
    "    chaarted\n",
    "    .query('creatinine_diag < 2 or creatinine_diag_na == 1')\n",
    "    .query('hemoglobin_diag > 9 or hemoglobin_diag_na == 1')\n",
    "    .query('total_bilirubin_diag < 3 or total_bilirubin_diag_na == 1')\n",
    ")"
   ]
  },
  {
   "cell_type": "code",
   "execution_count": 104,
   "id": "53deeb0e",
   "metadata": {},
   "outputs": [
    {
     "data": {
      "text/plain": [
       "(6812, 6812)"
      ]
     },
     "execution_count": 104,
     "metadata": {},
     "output_type": "execute_result"
    }
   ],
   "source": [
    "row_ID(chaarted)"
   ]
  },
  {
   "cell_type": "code",
   "execution_count": 105,
   "id": "1051e9cb",
   "metadata": {},
   "outputs": [],
   "source": [
    "low_cutoff_chaarted = cutoff.loc['chaarted'].low"
   ]
  },
  {
   "cell_type": "code",
   "execution_count": 106,
   "id": "11951785",
   "metadata": {},
   "outputs": [],
   "source": [
    "high_cutoff_chaarted = cutoff.loc['chaarted'].high"
   ]
  },
  {
   "cell_type": "code",
   "execution_count": 107,
   "id": "7969a38e",
   "metadata": {},
   "outputs": [
    {
     "name": "stdout",
     "output_type": "stream",
     "text": [
      "Docetaxel + ADT: 1088\n",
      "High risk: 240\n",
      "Med risk: 410\n",
      "Low risk: 438\n"
     ]
    }
   ],
   "source": [
    "print('Docetaxel + ADT:',  chaarted.query('adt_dotx == 1').shape[0])\n",
    "print('High risk:', chaarted.query('adt_dotx == 1').query('risk_score >= @high_cutoff_chaarted').shape[0])\n",
    "print('Med risk:', chaarted.query('adt_dotx == 1').query('risk_score < @high_cutoff_chaarted and risk_score > @low_cutoff_chaarted').shape[0])\n",
    "print('Low risk:', chaarted.query('adt_dotx == 1').query('risk_score <= @low_cutoff_chaarted').shape[0])"
   ]
  },
  {
   "cell_type": "code",
   "execution_count": 108,
   "id": "41e3a770",
   "metadata": {},
   "outputs": [
    {
     "name": "stdout",
     "output_type": "stream",
     "text": [
      "ADT: 5724\n",
      "High risk: 1708\n",
      "Med risk: 2002\n",
      "Low risk: 2014\n"
     ]
    }
   ],
   "source": [
    "print('ADT:',  chaarted.query('adt_dotx == 0').shape[0])\n",
    "print('High risk:', chaarted.query('adt_dotx == 0').query('risk_score >= @high_cutoff_chaarted').shape[0])\n",
    "print('Med risk:', chaarted.query('adt_dotx == 0').query('risk_score < @high_cutoff_chaarted and risk_score > @low_cutoff_chaarted').shape[0])\n",
    "print('Low risk:', chaarted.query('adt_dotx == 0').query('risk_score <= @low_cutoff_chaarted').shape[0])"
   ]
  },
  {
   "cell_type": "markdown",
   "id": "ded5c171",
   "metadata": {},
   "source": [
    "#### Survival curves with covariate balancing "
   ]
  },
  {
   "cell_type": "code",
   "execution_count": 109,
   "id": "8c714a96",
   "metadata": {},
   "outputs": [],
   "source": [
    "chaarted = chaarted.set_index('PatientID')"
   ]
  },
  {
   "cell_type": "code",
   "execution_count": 110,
   "id": "9d83f5b5",
   "metadata": {},
   "outputs": [],
   "source": [
    "chaarted['met_cat'] = pd.cut(chaarted['met_year'],\n",
    "                             bins = [2010, 2015, float('inf')],\n",
    "                             labels = ['11-15', '16-22'])"
   ]
  },
  {
   "cell_type": "code",
   "execution_count": 111,
   "id": "fe130d8c",
   "metadata": {},
   "outputs": [],
   "source": [
    "conditions = [\n",
    "    ((chaarted['ecog_diagnosis'] == \"1.0\") | (chaarted['ecog_diagnosis'] == \"0.0\")),  \n",
    "    ((chaarted['ecog_diagnosis'] == \"2.0\") | (chaarted['ecog_diagnosis'] == \"3.0\"))\n",
    "]\n",
    "\n",
    "choices = ['lt_2', 'gte_2']\n",
    "\n",
    "chaarted['ecog_2'] = np.select(conditions, choices, default = 'unknown')"
   ]
  },
  {
   "cell_type": "code",
   "execution_count": 112,
   "id": "7171ff54",
   "metadata": {},
   "outputs": [],
   "source": [
    "chaarted_iptw = chaarted.filter(items = ['death_status',\n",
    "                                         'timerisk_treatment',\n",
    "                                         'adt_dotx',\n",
    "                                         'age',\n",
    "                                         'race',\n",
    "                                         'p_type',\n",
    "                                         'met_cat',\n",
    "                                         'delta_met_diagnosis',\n",
    "                                         'commercial',\n",
    "                                         'medicare',\n",
    "                                         'medicaid',\n",
    "                                         'ecog_2',\n",
    "                                         'prim_treatment',\n",
    "                                         'PSAMetDiagnosis',\n",
    "                                         'risk_score'])"
   ]
  },
  {
   "cell_type": "code",
   "execution_count": 113,
   "id": "dfdd1355",
   "metadata": {},
   "outputs": [
    {
     "data": {
      "text/plain": [
       "death_status               bool\n",
       "timerisk_treatment      float64\n",
       "adt_dotx                  int64\n",
       "age                       int64\n",
       "race                     object\n",
       "p_type                   object\n",
       "met_cat                category\n",
       "delta_met_diagnosis       int64\n",
       "commercial              float64\n",
       "medicare                float64\n",
       "medicaid                float64\n",
       "ecog_2                   object\n",
       "prim_treatment           object\n",
       "PSAMetDiagnosis         float64\n",
       "risk_score              float64\n",
       "dtype: object"
      ]
     },
     "execution_count": 113,
     "metadata": {},
     "output_type": "execute_result"
    }
   ],
   "source": [
    "chaarted_iptw.dtypes"
   ]
  },
  {
   "cell_type": "code",
   "execution_count": 114,
   "id": "371c52e6",
   "metadata": {},
   "outputs": [],
   "source": [
    "to_be_categorical = list(chaarted_iptw.select_dtypes(include = ['object']).columns)"
   ]
  },
  {
   "cell_type": "code",
   "execution_count": 115,
   "id": "8da20eb6",
   "metadata": {},
   "outputs": [
    {
     "data": {
      "text/plain": [
       "['race', 'p_type', 'ecog_2', 'prim_treatment']"
      ]
     },
     "execution_count": 115,
     "metadata": {},
     "output_type": "execute_result"
    }
   ],
   "source": [
    "to_be_categorical"
   ]
  },
  {
   "cell_type": "code",
   "execution_count": 116,
   "id": "23bd40f0",
   "metadata": {},
   "outputs": [],
   "source": [
    "to_be_categorical.append('met_cat')"
   ]
  },
  {
   "cell_type": "code",
   "execution_count": 117,
   "id": "20a368db",
   "metadata": {},
   "outputs": [],
   "source": [
    "# Convert variables in list to categorical.\n",
    "for x in list(to_be_categorical):\n",
    "    chaarted_iptw[x] = chaarted_iptw[x].astype('category')"
   ]
  },
  {
   "cell_type": "code",
   "execution_count": 118,
   "id": "45607bb3",
   "metadata": {},
   "outputs": [],
   "source": [
    "# List of numeric variables, excluding binary variables. \n",
    "numerical_features = ['age', 'delta_met_diagnosis', 'PSAMetDiagnosis']\n",
    "\n",
    "# Transformer will first calculate column median and impute, and then apply a standard scaler. \n",
    "numerical_transformer = Pipeline(steps = [\n",
    "    ('imputer', SimpleImputer(strategy = 'median')),\n",
    "    ('std_scaler', StandardScaler())])"
   ]
  },
  {
   "cell_type": "code",
   "execution_count": 119,
   "id": "3af7db85",
   "metadata": {},
   "outputs": [],
   "source": [
    "# List of categorical features.\n",
    "categorical_features = list(chaarted_iptw.select_dtypes(include = ['category']).columns)\n",
    "\n",
    "# One-hot-encode categorical features.\n",
    "categorical_transformer = OneHotEncoder(handle_unknown = 'ignore')"
   ]
  },
  {
   "cell_type": "code",
   "execution_count": 120,
   "id": "821e3fa2",
   "metadata": {},
   "outputs": [],
   "source": [
    "preprocessor = ColumnTransformer(\n",
    "    transformers = [\n",
    "        ('num', numerical_transformer, numerical_features),\n",
    "        ('cat', categorical_transformer, categorical_features)],\n",
    "    remainder = 'passthrough')"
   ]
  },
  {
   "cell_type": "code",
   "execution_count": 121,
   "id": "89ad9e2b",
   "metadata": {},
   "outputs": [],
   "source": [
    "chaarted_iptw_low = (\n",
    "    chaarted_iptw\n",
    "    .query('risk_score <= @low_cutoff_chaarted')\n",
    "    .drop(columns = ['risk_score']))\n",
    "\n",
    "chaarted_iptw_med = (\n",
    "    chaarted_iptw\n",
    "    .query('risk_score < @high_cutoff_chaarted and risk_score > @low_cutoff_chaarted')\n",
    "    .drop(columns = ['risk_score']))\n",
    "\n",
    "chaarted_iptw_high = (\n",
    "    chaarted_iptw\n",
    "    .query('risk_score >= @high_cutoff_chaarted')\n",
    "    .drop(columns = ['risk_score']))\n",
    "\n",
    "chaarted_iptw_all = (\n",
    "    chaarted_iptw\n",
    "    .drop(columns = ['risk_score']))"
   ]
  },
  {
   "cell_type": "code",
   "execution_count": 122,
   "id": "60538f52",
   "metadata": {},
   "outputs": [],
   "source": [
    "chaarted_low_x = preprocessor.fit_transform(chaarted_iptw_low.filter(items = ['age',\n",
    "                                                                              'race',\n",
    "                                                                              'p_type',\n",
    "                                                                              'delta_met_diagnosis',\n",
    "                                                                              'met_cat',\n",
    "                                                                              'commercial',\n",
    "                                                                              'medicare',\n",
    "                                                                              'medicaid',\n",
    "                                                                              'ecog_2',\n",
    "                                                                              'prim_treatment',\n",
    "                                                                              'PSAMetDiagnosis']))\n",
    "\n",
    "chaarted_med_x = preprocessor.fit_transform(chaarted_iptw_med.filter(items = ['age',\n",
    "                                                                              'race',\n",
    "                                                                              'p_type',\n",
    "                                                                              'delta_met_diagnosis',\n",
    "                                                                              'met_cat',\n",
    "                                                                              'commercial',\n",
    "                                                                              'medicare',\n",
    "                                                                              'medicaid',\n",
    "                                                                              'ecog_2',\n",
    "                                                                              'prim_treatment',\n",
    "                                                                              'PSAMetDiagnosis']))\n",
    "\n",
    "chaarted_high_x = preprocessor.fit_transform(chaarted_iptw_high.filter(items = ['age',\n",
    "                                                                                'race',\n",
    "                                                                                'p_type',\n",
    "                                                                                'delta_met_diagnosis',\n",
    "                                                                                'met_cat',\n",
    "                                                                                'commercial',\n",
    "                                                                                'medicare',\n",
    "                                                                                'medicaid',\n",
    "                                                                                'ecog_2',\n",
    "                                                                                'prim_treatment',\n",
    "                                                                                'PSAMetDiagnosis']))\n",
    "\n",
    "chaarted_all_x = preprocessor.fit_transform(chaarted_iptw_all.filter(items = ['age',\n",
    "                                                                              'race',\n",
    "                                                                              'p_type',\n",
    "                                                                              'delta_met_diagnosis',\n",
    "                                                                              'met_cat',\n",
    "                                                                              'commercial',\n",
    "                                                                              'medicare',\n",
    "                                                                              'medicaid',\n",
    "                                                                              'ecog_2',\n",
    "                                                                              'prim_treatment',\n",
    "                                                                              'PSAMetDiagnosis']))"
   ]
  },
  {
   "cell_type": "code",
   "execution_count": 123,
   "id": "0f1666ea",
   "metadata": {},
   "outputs": [
    {
     "data": {
      "text/plain": [
       "LogisticRegression(max_iter=1000)"
      ]
     },
     "execution_count": 123,
     "metadata": {},
     "output_type": "execute_result"
    }
   ],
   "source": [
    "lr_chaarted_low = LogisticRegression(max_iter = 1000)\n",
    "lr_chaarted_low.fit(chaarted_low_x, chaarted_iptw_low['adt_dotx'])"
   ]
  },
  {
   "cell_type": "code",
   "execution_count": 124,
   "id": "43d5fd62",
   "metadata": {},
   "outputs": [
    {
     "data": {
      "text/plain": [
       "LogisticRegression(max_iter=1000)"
      ]
     },
     "execution_count": 124,
     "metadata": {},
     "output_type": "execute_result"
    }
   ],
   "source": [
    "lr_chaarted_med = LogisticRegression(max_iter = 1000)\n",
    "lr_chaarted_med.fit(chaarted_med_x, chaarted_iptw_med['adt_dotx'])"
   ]
  },
  {
   "cell_type": "code",
   "execution_count": 125,
   "id": "d851b143",
   "metadata": {},
   "outputs": [
    {
     "data": {
      "text/plain": [
       "LogisticRegression(max_iter=1000)"
      ]
     },
     "execution_count": 125,
     "metadata": {},
     "output_type": "execute_result"
    }
   ],
   "source": [
    "lr_chaarted_high = LogisticRegression(max_iter = 1000)\n",
    "lr_chaarted_high.fit(chaarted_high_x, chaarted_iptw_high['adt_dotx'])"
   ]
  },
  {
   "cell_type": "code",
   "execution_count": 126,
   "id": "1be72aae",
   "metadata": {},
   "outputs": [
    {
     "data": {
      "text/plain": [
       "LogisticRegression(max_iter=1000)"
      ]
     },
     "execution_count": 126,
     "metadata": {},
     "output_type": "execute_result"
    }
   ],
   "source": [
    "lr_chaarted_all = LogisticRegression(max_iter = 1000)\n",
    "lr_chaarted_all.fit(chaarted_all_x, chaarted_iptw_all['adt_dotx'])"
   ]
  },
  {
   "cell_type": "code",
   "execution_count": 127,
   "id": "05975d90",
   "metadata": {},
   "outputs": [],
   "source": [
    "pred_low = lr_chaarted_low.predict_proba(chaarted_low_x)\n",
    "pred_med = lr_chaarted_med.predict_proba(chaarted_med_x)\n",
    "pred_high = lr_chaarted_high.predict_proba(chaarted_high_x)\n",
    "pred_all = lr_chaarted_all.predict_proba(chaarted_all_x)"
   ]
  },
  {
   "cell_type": "code",
   "execution_count": 128,
   "id": "4bf88b44",
   "metadata": {},
   "outputs": [],
   "source": [
    "chaarted_iptw_low['ps'] = pred_low[:, 1]\n",
    "chaarted_iptw_med['ps'] = pred_med[:, 1]\n",
    "chaarted_iptw_high['ps'] = pred_high[:, 1]\n",
    "chaarted_iptw_all['ps'] = pred_all[:, 1]"
   ]
  },
  {
   "cell_type": "code",
   "execution_count": 129,
   "id": "6c0fc7cc",
   "metadata": {},
   "outputs": [],
   "source": [
    "chaarted_iptw_low['weight'] = (\n",
    "    np.where(chaarted_iptw_low['adt_dotx'] == 1, 1/chaarted_iptw_low['ps'], 1/(1 - chaarted_iptw_low['ps'])))\n",
    "\n",
    "chaarted_iptw_med['weight'] = (\n",
    "    np.where(chaarted_iptw_med['adt_dotx'] == 1, 1/chaarted_iptw_med['ps'], 1/(1 - chaarted_iptw_med['ps'])))\n",
    "\n",
    "chaarted_iptw_high['weight'] = (\n",
    "    np.where(chaarted_iptw_high['adt_dotx'] == 1, 1/chaarted_iptw_high['ps'], 1/(1 - chaarted_iptw_high['ps'])))\n",
    "\n",
    "chaarted_iptw_all['weight'] = (\n",
    "    np.where(chaarted_iptw_all['adt_dotx'] == 1, 1/chaarted_iptw_all['ps'], 1/(1 - chaarted_iptw_all['ps'])))"
   ]
  },
  {
   "cell_type": "code",
   "execution_count": 130,
   "id": "58f02ec9",
   "metadata": {},
   "outputs": [
    {
     "name": "stderr",
     "output_type": "stream",
     "text": [
      "/Users/xavierorcutt/Dropbox/ist_project/myenv/lib/python3.7/site-packages/lifelines/fitters/kaplan_meier_fitter.py:344: StatisticalWarning: It looks like your weights are not integers, possibly propensity scores then?\n",
      "  It's important to know that the naive variance estimates of the coefficients are biased. Instead use Monte Carlo to\n",
      "  estimate the variances. See paper \"Variance estimation when using inverse probability of treatment weighting (IPTW) with survival analysis\"\n",
      "  or \"Adjusted Kaplan-Meier estimator and log-rank test with inverse probability of treatment weighting for survival data.\"\n",
      "                  \n",
      "  StatisticalWarning,\n"
     ]
    },
    {
     "data": {
      "text/plain": [
       "<lifelines.KaplanMeierFitter:\"KM_estimate\", fitted with 6828.31 total observations, 3159.02 right-censored observations>"
      ]
     },
     "execution_count": 130,
     "metadata": {},
     "output_type": "execute_result"
    }
   ],
   "source": [
    "# Low KM curves\n",
    "kmf_low_dotx_chaarted_iptw = KaplanMeierFitter()\n",
    "kmf_low_adt_chaarted_iptw = KaplanMeierFitter()\n",
    "\n",
    "kmf_low_dotx_chaarted_iptw.fit(\n",
    "    chaarted_iptw_low.query('adt_dotx == 1').timerisk_treatment/30,\n",
    "    chaarted_iptw_low.query('adt_dotx == 1').death_status,\n",
    "    weights = chaarted_iptw_low.query('adt_dotx == 1')['weight'])\n",
    "\n",
    "kmf_low_adt_chaarted_iptw.fit(\n",
    "    chaarted_iptw_low.query('adt_dotx == 0').timerisk_treatment/30,\n",
    "    chaarted_iptw_low.query('adt_dotx == 0').death_status,\n",
    "    weights = chaarted_iptw_low.query('adt_dotx == 0')['weight'])\n",
    "\n",
    "# Med KM curves\n",
    "kmf_med_dotx_chaarted_iptw = KaplanMeierFitter()\n",
    "kmf_med_adt_chaarted_iptw = KaplanMeierFitter()\n",
    "\n",
    "kmf_med_dotx_chaarted_iptw.fit(\n",
    "    chaarted_iptw_med.query('adt_dotx == 1').timerisk_treatment/30,\n",
    "    chaarted_iptw_med.query('adt_dotx == 1').death_status,\n",
    "    weights = chaarted_iptw_med.query('adt_dotx == 1')['weight'])\n",
    "\n",
    "kmf_med_adt_chaarted_iptw.fit(\n",
    "    chaarted_iptw_med.query('adt_dotx == 0').timerisk_treatment/30,\n",
    "    chaarted_iptw_med.query('adt_dotx == 0').death_status,\n",
    "    weights = chaarted_iptw_med.query('adt_dotx == 0')['weight'])\n",
    "\n",
    "# High KM curves \n",
    "kmf_high_dotx_chaarted_iptw = KaplanMeierFitter()\n",
    "kmf_high_adt_chaarted_iptw = KaplanMeierFitter()\n",
    "\n",
    "kmf_high_dotx_chaarted_iptw.fit(\n",
    "    chaarted_iptw_high.query('adt_dotx == 1').timerisk_treatment/30,\n",
    "    chaarted_iptw_high.query('adt_dotx == 1').death_status,\n",
    "    weights = chaarted_iptw_high.query('adt_dotx == 1')['weight'])\n",
    "\n",
    "kmf_high_adt_chaarted_iptw.fit(\n",
    "    chaarted_iptw_high.query('adt_dotx == 0').timerisk_treatment/30,\n",
    "    chaarted_iptw_high.query('adt_dotx == 0').death_status,\n",
    "    weights = chaarted_iptw_high.query('adt_dotx == 0')['weight'])\n",
    "\n",
    "# All KM curves \n",
    "kmf_all_dotx_chaarted_iptw = KaplanMeierFitter()\n",
    "kmf_all_adt_chaarted_iptw = KaplanMeierFitter()\n",
    "\n",
    "kmf_all_dotx_chaarted_iptw.fit(\n",
    "    chaarted_iptw_all.query('adt_dotx == 1').timerisk_treatment/30,\n",
    "    chaarted_iptw_all.query('adt_dotx == 1').death_status,\n",
    "    weights = chaarted_iptw_all.query('adt_dotx == 1')['weight'])\n",
    "\n",
    "kmf_all_adt_chaarted_iptw.fit(\n",
    "    chaarted_iptw_all.query('adt_dotx == 0').timerisk_treatment/30,\n",
    "    chaarted_iptw_all.query('adt_dotx == 0').death_status,\n",
    "    weights = chaarted_iptw_all.query('adt_dotx == 0')['weight'])"
   ]
  },
  {
   "cell_type": "code",
   "execution_count": 131,
   "id": "5770f192",
   "metadata": {},
   "outputs": [
    {
     "data": {
      "image/png": "[encoded data removed]",
      "text/plain": [
       "<Figure size 1800x600 with 5 Axes>"
      ]
     },
     "metadata": {},
     "output_type": "display_data"
    }
   ],
   "source": [
    "fig = plt.figure(figsize=(18, 6))\n",
    "\n",
    "# Plot survival curves for low risk group \n",
    "plt.subplot(1, 4, 1)\n",
    "\n",
    "plt.step(kmf_low_dotx_chaarted_iptw.timeline, kmf_low_dotx_chaarted_iptw.survival_function_.values*100, color = 'red', alpha = 0.5)\n",
    "\n",
    "plt.step(kmf_low_adt_chaarted_iptw.timeline, kmf_low_adt_chaarted_iptw.survival_function_.values*100, color = 'black', alpha = 0.5)\n",
    "\n",
    "plt.xticks(np.arange(0, 61, 6))\n",
    "plt.xlim(0, 61)\n",
    "plt.ylim(0, 100)\n",
    "\n",
    "plt.title('Low-risk', weight = 'bold')\n",
    "plt.ylabel('OS (%)', size = 12, weight = 'bold')\n",
    "\n",
    "plt.gca().spines['top'].set_visible(False)\n",
    "plt.gca().spines['right'].set_visible(False)\n",
    "\n",
    "# Plot survival curves for med risk group. \n",
    "plt.subplot(1, 4, 2)\n",
    "\n",
    "plt.step(kmf_med_dotx_chaarted_iptw.timeline, kmf_med_dotx_chaarted_iptw.survival_function_.values*100, color = 'red', alpha = 0.5)\n",
    "\n",
    "plt.step(kmf_med_adt_chaarted_iptw.timeline, kmf_med_adt_chaarted_iptw.survival_function_.values*100, color = 'black', alpha = 0.5)\n",
    "\n",
    "plt.xticks(np.arange(0, 61, 6))\n",
    "plt.xlim(0, 61)\n",
    "plt.ylim(0, 100)\n",
    "\n",
    "plt.title('Med-risk', weight = 'bold')\n",
    "\n",
    "plt.gca().spines['top'].set_visible(False)\n",
    "plt.gca().spines['right'].set_visible(False)\n",
    "\n",
    "# Plot survival curves by treatment for high risk group. \n",
    "plt.subplot(1, 4, 3)\n",
    "\n",
    "plt.step(kmf_high_dotx_chaarted_iptw.timeline, kmf_high_dotx_chaarted_iptw.survival_function_.values*100, color = 'red', alpha = 0.5)\n",
    "\n",
    "plt.step(kmf_high_adt_chaarted_iptw.timeline, kmf_high_adt_chaarted_iptw.survival_function_.values*100, color = 'black', alpha = 0.5)\n",
    "\n",
    "plt.xticks(np.arange(0, 61, 6))\n",
    "plt.xlim(0, 61)\n",
    "plt.ylim(0, 100)\n",
    "\n",
    "plt.title('High-risk', weight = 'bold')\n",
    "\n",
    "plt.gca().spines['top'].set_visible(False)\n",
    "plt.gca().spines['right'].set_visible(False)\n",
    "\n",
    "# Plot survival curves by treatment for all risk group. \n",
    "plt.subplot(1, 4, 4)\n",
    "\n",
    "plt.step(kmf_all_dotx_chaarted_iptw.timeline, kmf_all_dotx_chaarted_iptw.survival_function_.values*100, color = 'red', alpha = 0.5, label = 'Docetaxel + ADT')\n",
    "\n",
    "plt.step(kmf_all_adt_chaarted_iptw.timeline, kmf_all_adt_chaarted_iptw.survival_function_.values*100, color = 'black', alpha = 0.5, label = 'ADT')\n",
    "\n",
    "plt.xticks(np.arange(0, 61, 6))\n",
    "plt.xlim(0, 61)\n",
    "plt.ylim(0, 100)\n",
    "\n",
    "plt.title('Full cohort', weight = 'bold')\n",
    "\n",
    "plt.gca().spines['top'].set_visible(False)\n",
    "plt.gca().spines['right'].set_visible(False)\n",
    "\n",
    "plt.legend(loc = 'upper right', prop = {'size': 9})\n",
    "\n",
    "fig.add_subplot(1, 1, 1, frameon = False)\n",
    "plt.tick_params(labelcolor = 'none', which = 'both', top = False, bottom = False, left = False, right = False)\n",
    "plt.xlabel('Months after treatment', labelpad = 15, size = 12, weight = 'bold')\n",
    "plt.title('CHAARTED: Docetaxel + ADT vs. ADT for metastatic, castration-sensitive prostate cancer', pad = 40, size = 15, weight = 'bold')\n",
    "\n",
    "plt.show()"
   ]
  },
  {
   "cell_type": "markdown",
   "id": "f81f2947",
   "metadata": {},
   "source": [
    "### LATITUDE : abiraterone vs. ADT in metastatic, castration-sensitive prostate cancer  \n",
    "\n",
    "**INCLUSION**\n",
    "* Untreated metastatic prostate cancer, except up to 3 months of ADT \n",
    "* Castration-sensitive\n",
    "* Received ADT or abiraterone plus ADT\n",
    "* No active cardiac disease, viral hepatitis, or chronic liver disease in the year preceding metastatic diagnosis\n",
    "* No CNS metatastasis at time of metastatic diagnosis \n",
    "* ECOG is not 3 or 4 at time of metastatic diagnosis \n",
    "* Adequate organ function at time of mestastatic diagnosis "
   ]
  },
  {
   "cell_type": "markdown",
   "id": "118679a7",
   "metadata": {},
   "source": [
    "#### ADT"
   ]
  },
  {
   "cell_type": "code",
   "execution_count": 132,
   "id": "02416a4d",
   "metadata": {},
   "outputs": [
    {
     "data": {
      "text/plain": [
       "18927"
      ]
     },
     "execution_count": 132,
     "metadata": {},
     "output_type": "execute_result"
    }
   ],
   "source": [
    "df_full = pd.read_csv('df_risk_crude.csv', index_col = 'PatientID', dtype = {'death_status': bool})\n",
    "df_full.index.nunique()"
   ]
  },
  {
   "cell_type": "code",
   "execution_count": 133,
   "id": "6df0bdf5",
   "metadata": {},
   "outputs": [],
   "source": [
    "df_full.reset_index(inplace = True)"
   ]
  },
  {
   "cell_type": "code",
   "execution_count": 134,
   "id": "8949d140",
   "metadata": {},
   "outputs": [],
   "source": [
    "adt = pd.read_csv('Enhanced_MetPC_ADT.csv')"
   ]
  },
  {
   "cell_type": "code",
   "execution_count": 135,
   "id": "e616b8c1",
   "metadata": {},
   "outputs": [],
   "source": [
    "adt = (\n",
    "    adt[adt['PatientID'].isin(df_full['PatientID'])]\n",
    "    .query('TreatmentSetting == \"Advanced\"')\n",
    ")"
   ]
  },
  {
   "cell_type": "code",
   "execution_count": 136,
   "id": "2e26ab9b",
   "metadata": {},
   "outputs": [
    {
     "data": {
      "text/plain": [
       "(17863, 17863)"
      ]
     },
     "execution_count": 136,
     "metadata": {},
     "output_type": "execute_result"
    }
   ],
   "source": [
    "row_ID(adt)"
   ]
  },
  {
   "cell_type": "code",
   "execution_count": 137,
   "id": "8119249a",
   "metadata": {},
   "outputs": [],
   "source": [
    "adt.loc[:, 'StartDate'] = pd.to_datetime(adt['StartDate'])"
   ]
  },
  {
   "cell_type": "code",
   "execution_count": 138,
   "id": "52a0d185",
   "metadata": {},
   "outputs": [],
   "source": [
    "adt = adt.rename(columns = {'StartDate': 'StartDate_adt'})"
   ]
  },
  {
   "cell_type": "code",
   "execution_count": 139,
   "id": "f4c5152e",
   "metadata": {},
   "outputs": [],
   "source": [
    "df_full = pd.merge(df_full, adt[['PatientID', 'StartDate_adt']], on = 'PatientID', how = 'left')"
   ]
  },
  {
   "cell_type": "code",
   "execution_count": 140,
   "id": "9d406705",
   "metadata": {},
   "outputs": [
    {
     "data": {
      "text/plain": [
       "(18927, 18927)"
      ]
     },
     "execution_count": 140,
     "metadata": {},
     "output_type": "execute_result"
    }
   ],
   "source": [
    "row_ID(df_full)"
   ]
  },
  {
   "cell_type": "code",
   "execution_count": 141,
   "id": "ba057558",
   "metadata": {},
   "outputs": [],
   "source": [
    "enhanced_met = pd.read_csv('Enhanced_MetProstate.csv')"
   ]
  },
  {
   "cell_type": "code",
   "execution_count": 142,
   "id": "5727f43a",
   "metadata": {},
   "outputs": [],
   "source": [
    "enhanced_met = enhanced_met[enhanced_met['PatientID'].isin(df_full['PatientID'])]"
   ]
  },
  {
   "cell_type": "code",
   "execution_count": 143,
   "id": "39ea7084",
   "metadata": {},
   "outputs": [],
   "source": [
    "enhanced_met.loc[:, 'MetDiagnosisDate'] = pd.to_datetime(enhanced_met['MetDiagnosisDate'])"
   ]
  },
  {
   "cell_type": "code",
   "execution_count": 144,
   "id": "7978cc78",
   "metadata": {},
   "outputs": [],
   "source": [
    "enhanced_met.loc[:, 'CRPCDate'] = pd.to_datetime(enhanced_met['CRPCDate'])"
   ]
  },
  {
   "cell_type": "code",
   "execution_count": 145,
   "id": "041a79ca",
   "metadata": {},
   "outputs": [],
   "source": [
    "df_full = pd.merge(df_full, enhanced_met[['PatientID', 'MetDiagnosisDate', 'CRPCDate']], on = 'PatientID', how = 'left')"
   ]
  },
  {
   "cell_type": "code",
   "execution_count": 146,
   "id": "f42cc03f",
   "metadata": {},
   "outputs": [
    {
     "data": {
      "text/plain": [
       "(18927, 18927)"
      ]
     },
     "execution_count": 146,
     "metadata": {},
     "output_type": "execute_result"
    }
   ],
   "source": [
    "row_ID(df_full)"
   ]
  },
  {
   "cell_type": "code",
   "execution_count": 147,
   "id": "ed3beb52",
   "metadata": {},
   "outputs": [],
   "source": [
    "# Find all that start ADT within -90 to +90 days of metastatic diagnosis \n",
    "latitude_adt = (\n",
    "    df_full\n",
    "    .assign(adt_diff = (df_full['StartDate_adt'] - df_full['MetDiagnosisDate']).dt.days)\n",
    "    .query('adt_diff >= -90 and adt_diff <= 90')\n",
    ")"
   ]
  },
  {
   "cell_type": "code",
   "execution_count": 148,
   "id": "7ded77ae",
   "metadata": {},
   "outputs": [],
   "source": [
    "# Find all that have missing CPRC date or date is >90 after metastatic diagnosis \n",
    "latitude_adt = (\n",
    "    latitude_adt\n",
    "    .assign(crpc_diff = (latitude_adt['CRPCDate'] - latitude_adt['MetDiagnosisDate']).dt.days)\n",
    "    .query('crpc_diff > 90 or CRPCDate.isna()', engine = 'python')\n",
    ")"
   ]
  },
  {
   "cell_type": "code",
   "execution_count": 149,
   "id": "9623fc46",
   "metadata": {},
   "outputs": [
    {
     "data": {
      "text/plain": [
       "(10397, 10397)"
      ]
     },
     "execution_count": 149,
     "metadata": {},
     "output_type": "execute_result"
    }
   ],
   "source": [
    "row_ID(latitude_adt)"
   ]
  },
  {
   "cell_type": "code",
   "execution_count": 150,
   "id": "5af0b14f",
   "metadata": {},
   "outputs": [],
   "source": [
    "line_therapy = pd.read_csv('LineOfTherapy.csv')"
   ]
  },
  {
   "cell_type": "code",
   "execution_count": 151,
   "id": "80dd6120",
   "metadata": {},
   "outputs": [],
   "source": [
    "zero = (\n",
    "    line_therapy.query('LineNumber == 0')\n",
    "    .PatientID\n",
    ")"
   ]
  },
  {
   "cell_type": "code",
   "execution_count": 152,
   "id": "f00ef23d",
   "metadata": {},
   "outputs": [],
   "source": [
    "# Exclude patients with missing treatment information (ie, LineNumber == 0)\n",
    "latitude_adt = latitude_adt[~latitude_adt.PatientID.isin(zero)]"
   ]
  },
  {
   "cell_type": "code",
   "execution_count": 153,
   "id": "23c61744",
   "metadata": {},
   "outputs": [
    {
     "data": {
      "text/plain": [
       "(10047, 10047)"
      ]
     },
     "execution_count": 153,
     "metadata": {},
     "output_type": "execute_result"
    }
   ],
   "source": [
    "row_ID(latitude_adt)"
   ]
  },
  {
   "cell_type": "code",
   "execution_count": 154,
   "id": "0f78bc26",
   "metadata": {},
   "outputs": [],
   "source": [
    "line_therapy_cont = line_therapy.query('LineSetting != \"nmCRPC\"')"
   ]
  },
  {
   "cell_type": "code",
   "execution_count": 155,
   "id": "3a268987",
   "metadata": {},
   "outputs": [],
   "source": [
    "# List of FDA approved drugs for mPC as of July 2023. Clinical study drug is also included. \n",
    "fda_yes = [\n",
    "    'Abiraterone',\n",
    "    'Apalutamide',\n",
    "    'Cabazitaxel',\n",
    "    'Carboplatin',\n",
    "    'Cisplatin',\n",
    "    'Darolutamide',\n",
    "    'Docetaxel',\n",
    "    'Enzalutamide',\n",
    "    'Mitoxantrone',\n",
    "    'Olaparib',\n",
    "    'Oxaliplatin',\n",
    "    'Paclitaxel',\n",
    "    'Pembrolizumab',\n",
    "    'Radium-223',\n",
    "    'Rucaparib',\n",
    "    'Sipuleucel-T',\n",
    "    'Clinical Study Drug'\n",
    "]"
   ]
  },
  {
   "cell_type": "code",
   "execution_count": 156,
   "id": "c3cb45fe",
   "metadata": {},
   "outputs": [],
   "source": [
    "line_therapy_cont = line_therapy_cont[line_therapy_cont['LineName'].str.contains('|'.join(fda_yes))]"
   ]
  },
  {
   "cell_type": "code",
   "execution_count": 157,
   "id": "2024017b",
   "metadata": {},
   "outputs": [],
   "source": [
    "line_therapy_cont = (\n",
    "    line_therapy_cont\n",
    "    .sort_values(by = ['PatientID', 'StartDate'], ascending = [True, True])\n",
    ")"
   ]
  },
  {
   "cell_type": "code",
   "execution_count": 158,
   "id": "585dca6f",
   "metadata": {},
   "outputs": [],
   "source": [
    "line_therapy_cont['line_number'] = (\n",
    "    line_therapy_cont.groupby('PatientID')['LineNumber'].cumcount()+1\n",
    ")"
   ]
  },
  {
   "cell_type": "code",
   "execution_count": 159,
   "id": "a39389e8",
   "metadata": {},
   "outputs": [],
   "source": [
    "# First line therapy is in castrate-resistant setting \n",
    "fl_crpc = (\n",
    "    line_therapy_cont[line_therapy_cont.PatientID.isin(latitude_adt.PatientID)]\n",
    "    .query('line_number == 1 & LineSetting == \"mCRPC\"')\n",
    "    .PatientID\n",
    ")"
   ]
  },
  {
   "cell_type": "code",
   "execution_count": 160,
   "id": "1c883e12",
   "metadata": {},
   "outputs": [],
   "source": [
    "# Never received therapy other than ADT\n",
    "notrt_adt = (\n",
    "    latitude_adt[~latitude_adt.PatientID.isin(line_therapy_cont.PatientID)]\n",
    "    .PatientID\n",
    ")"
   ]
  },
  {
   "cell_type": "code",
   "execution_count": 161,
   "id": "cc54133b",
   "metadata": {},
   "outputs": [],
   "source": [
    "adt_IDs = np.concatenate((fl_crpc, notrt_adt))"
   ]
  },
  {
   "cell_type": "code",
   "execution_count": 162,
   "id": "20c91dea",
   "metadata": {},
   "outputs": [
    {
     "data": {
      "text/plain": [
       "6167"
      ]
     },
     "execution_count": 162,
     "metadata": {},
     "output_type": "execute_result"
    }
   ],
   "source": [
    "len(adt_IDs)"
   ]
  },
  {
   "cell_type": "code",
   "execution_count": 163,
   "id": "25942bb5",
   "metadata": {},
   "outputs": [],
   "source": [
    "latitude_adt = latitude_adt[latitude_adt.PatientID.isin(adt_IDs)]"
   ]
  },
  {
   "cell_type": "code",
   "execution_count": 164,
   "id": "63f3fed5",
   "metadata": {},
   "outputs": [],
   "source": [
    "latitude_adt.loc[:,'adt_abi'] = 0"
   ]
  },
  {
   "cell_type": "code",
   "execution_count": 165,
   "id": "df2007a7",
   "metadata": {},
   "outputs": [
    {
     "data": {
      "text/plain": [
       "(6167, 6167)"
      ]
     },
     "execution_count": 165,
     "metadata": {},
     "output_type": "execute_result"
    }
   ],
   "source": [
    "row_ID(latitude_adt)"
   ]
  },
  {
   "cell_type": "code",
   "execution_count": 166,
   "id": "983bf9da",
   "metadata": {
    "scrolled": true
   },
   "outputs": [
    {
     "data": {
      "text/html": [
       "<div>\n",
       "<style scoped>\n",
       "    .dataframe tbody tr th:only-of-type {\n",
       "        vertical-align: middle;\n",
       "    }\n",
       "\n",
       "    .dataframe tbody tr th {\n",
       "        vertical-align: top;\n",
       "    }\n",
       "\n",
       "    .dataframe thead th {\n",
       "        text-align: right;\n",
       "    }\n",
       "</style>\n",
       "<table border=\"1\" class=\"dataframe\">\n",
       "  <thead>\n",
       "    <tr style=\"text-align: right;\">\n",
       "      <th></th>\n",
       "      <th>PatientID</th>\n",
       "      <th>Gender</th>\n",
       "      <th>race</th>\n",
       "      <th>ethnicity</th>\n",
       "      <th>age</th>\n",
       "      <th>p_type</th>\n",
       "      <th>NStage</th>\n",
       "      <th>MStage</th>\n",
       "      <th>Histology</th>\n",
       "      <th>GleasonScore</th>\n",
       "      <th>...</th>\n",
       "      <th>other_met</th>\n",
       "      <th>prim_treatment</th>\n",
       "      <th>early_adt</th>\n",
       "      <th>risk_score</th>\n",
       "      <th>StartDate_adt</th>\n",
       "      <th>MetDiagnosisDate</th>\n",
       "      <th>CRPCDate</th>\n",
       "      <th>adt_diff</th>\n",
       "      <th>crpc_diff</th>\n",
       "      <th>adt_abi</th>\n",
       "    </tr>\n",
       "  </thead>\n",
       "  <tbody>\n",
       "    <tr>\n",
       "      <th>13545</th>\n",
       "      <td>FA61D167321FF</td>\n",
       "      <td>M</td>\n",
       "      <td>white</td>\n",
       "      <td>unknown</td>\n",
       "      <td>77</td>\n",
       "      <td>COMMUNITY</td>\n",
       "      <td>NX</td>\n",
       "      <td>M1</td>\n",
       "      <td>Adenocarcinoma</td>\n",
       "      <td>8</td>\n",
       "      <td>...</td>\n",
       "      <td>0.0</td>\n",
       "      <td>unknown</td>\n",
       "      <td>0.0</td>\n",
       "      <td>-0.366532</td>\n",
       "      <td>2014-10-28</td>\n",
       "      <td>2014-09-05</td>\n",
       "      <td>NaT</td>\n",
       "      <td>53.0</td>\n",
       "      <td>NaN</td>\n",
       "      <td>0</td>\n",
       "    </tr>\n",
       "    <tr>\n",
       "      <th>5546</th>\n",
       "      <td>FF863A0BB6E20</td>\n",
       "      <td>M</td>\n",
       "      <td>other</td>\n",
       "      <td>unknown</td>\n",
       "      <td>77</td>\n",
       "      <td>COMMUNITY</td>\n",
       "      <td>Unknown / Not documented</td>\n",
       "      <td>M1</td>\n",
       "      <td>Adenocarcinoma</td>\n",
       "      <td>Unknown / Not documented</td>\n",
       "      <td>...</td>\n",
       "      <td>0.0</td>\n",
       "      <td>unknown</td>\n",
       "      <td>0.0</td>\n",
       "      <td>0.984859</td>\n",
       "      <td>2017-12-21</td>\n",
       "      <td>2017-11-21</td>\n",
       "      <td>2018-05-31</td>\n",
       "      <td>30.0</td>\n",
       "      <td>191.0</td>\n",
       "      <td>0</td>\n",
       "    </tr>\n",
       "    <tr>\n",
       "      <th>3123</th>\n",
       "      <td>F6D49641A1579</td>\n",
       "      <td>M</td>\n",
       "      <td>white</td>\n",
       "      <td>unknown</td>\n",
       "      <td>75</td>\n",
       "      <td>COMMUNITY</td>\n",
       "      <td>N1</td>\n",
       "      <td>M1c</td>\n",
       "      <td>Adenocarcinoma</td>\n",
       "      <td>Unknown / Not documented</td>\n",
       "      <td>...</td>\n",
       "      <td>0.0</td>\n",
       "      <td>unknown</td>\n",
       "      <td>0.0</td>\n",
       "      <td>1.146700</td>\n",
       "      <td>2014-06-27</td>\n",
       "      <td>2014-05-27</td>\n",
       "      <td>NaT</td>\n",
       "      <td>31.0</td>\n",
       "      <td>NaN</td>\n",
       "      <td>0</td>\n",
       "    </tr>\n",
       "  </tbody>\n",
       "</table>\n",
       "<p>3 rows × 235 columns</p>\n",
       "</div>"
      ],
      "text/plain": [
       "           PatientID Gender   race ethnicity  age     p_type  \\\n",
       "13545  FA61D167321FF      M  white   unknown   77  COMMUNITY   \n",
       "5546   FF863A0BB6E20      M  other   unknown   77  COMMUNITY   \n",
       "3123   F6D49641A1579      M  white   unknown   75  COMMUNITY   \n",
       "\n",
       "                         NStage MStage       Histology  \\\n",
       "13545                        NX     M1  Adenocarcinoma   \n",
       "5546   Unknown / Not documented     M1  Adenocarcinoma   \n",
       "3123                         N1    M1c  Adenocarcinoma   \n",
       "\n",
       "                   GleasonScore  ...  other_met  prim_treatment early_adt  \\\n",
       "13545                         8  ...        0.0         unknown       0.0   \n",
       "5546   Unknown / Not documented  ...        0.0         unknown       0.0   \n",
       "3123   Unknown / Not documented  ...        0.0         unknown       0.0   \n",
       "\n",
       "       risk_score  StartDate_adt  MetDiagnosisDate   CRPCDate  adt_diff  \\\n",
       "13545   -0.366532     2014-10-28        2014-09-05        NaT      53.0   \n",
       "5546     0.984859     2017-12-21        2017-11-21 2018-05-31      30.0   \n",
       "3123     1.146700     2014-06-27        2014-05-27        NaT      31.0   \n",
       "\n",
       "       crpc_diff  adt_abi  \n",
       "13545        NaN        0  \n",
       "5546       191.0        0  \n",
       "3123         NaN        0  \n",
       "\n",
       "[3 rows x 235 columns]"
      ]
     },
     "execution_count": 166,
     "metadata": {},
     "output_type": "execute_result"
    }
   ],
   "source": [
    "latitude_adt.sample(3)"
   ]
  },
  {
   "cell_type": "markdown",
   "id": "9a2d8432",
   "metadata": {},
   "source": [
    "#### Treatment arm: Abiraterone + ADT"
   ]
  },
  {
   "cell_type": "code",
   "execution_count": 167,
   "id": "dbaf2847",
   "metadata": {},
   "outputs": [],
   "source": [
    "# Find those that start ADT within -90 to 90 days of metastaic diagnosis \n",
    "latitude_abi = (\n",
    "    df_full\n",
    "    .assign(adt_diff = (df_full['StartDate_adt'] - df_full['MetDiagnosisDate']).dt.days)\n",
    "    .query('adt_diff >= -90 and adt_diff <= 90')\n",
    ")"
   ]
  },
  {
   "cell_type": "code",
   "execution_count": 168,
   "id": "30821a6f",
   "metadata": {},
   "outputs": [],
   "source": [
    "# Find all that have missing CPRC date or date is >30 days metastatic diagnosis \n",
    "latitude_abi = (\n",
    "    latitude_abi\n",
    "    .assign(crpc_diff = (latitude_abi['CRPCDate'] - latitude_abi['MetDiagnosisDate']).dt.days)\n",
    "    .query('crpc_diff > 90 or CRPCDate.isna()', engine = 'python')\n",
    ")"
   ]
  },
  {
   "cell_type": "code",
   "execution_count": 169,
   "id": "5bde7fd8",
   "metadata": {},
   "outputs": [
    {
     "data": {
      "text/plain": [
       "(10397, 10397)"
      ]
     },
     "execution_count": 169,
     "metadata": {},
     "output_type": "execute_result"
    }
   ],
   "source": [
    "row_ID(latitude_abi)"
   ]
  },
  {
   "cell_type": "code",
   "execution_count": 170,
   "id": "ee7df6a7",
   "metadata": {},
   "outputs": [],
   "source": [
    "# Find start time of first line of mHSPC therapy. \n",
    "line_therapy_fl = (\n",
    "    line_therapy[line_therapy['PatientID'].isin(latitude_abi['PatientID'])]\n",
    "    .query('LineSetting == \"mHSPC\"')\n",
    "    .sort_values(by = ['PatientID', 'StartDate'], ascending = [True, True])\n",
    "    .drop_duplicates(subset = ['PatientID'], keep = 'first')\n",
    "    .rename(columns = {'StartDate': 'StartDate_abi'})\n",
    ")"
   ]
  },
  {
   "cell_type": "code",
   "execution_count": 171,
   "id": "f0079239",
   "metadata": {},
   "outputs": [
    {
     "data": {
      "text/plain": [
       "(4022, 4022)"
      ]
     },
     "execution_count": 171,
     "metadata": {},
     "output_type": "execute_result"
    }
   ],
   "source": [
    "row_ID(line_therapy_fl)"
   ]
  },
  {
   "cell_type": "code",
   "execution_count": 172,
   "id": "5ad85b26",
   "metadata": {},
   "outputs": [],
   "source": [
    "line_therapy_fl.loc[:, 'StartDate_abi'] = pd.to_datetime(line_therapy_fl['StartDate_abi'])"
   ]
  },
  {
   "cell_type": "code",
   "execution_count": 173,
   "id": "ffab4a6d",
   "metadata": {},
   "outputs": [
    {
     "data": {
      "text/plain": [
       "Abiraterone                             1165\n",
       "Abiraterone,Docetaxel                     27\n",
       "Abiraterone,Enzalutamide                   8\n",
       "Abiraterone,Clinical Study Drug            4\n",
       "Abiraterone,Apalutamide                    4\n",
       "Abiraterone,Apalutamide,Enzalutamide       1\n",
       "Abiraterone,Capecitabine                   1\n",
       "Abiraterone,Medroxyprogesterone            1\n",
       "Abiraterone,Fluorouracil                   1\n",
       "Abiraterone,Tamoxifen                      1\n",
       "Name: LineName, dtype: int64"
      ]
     },
     "execution_count": 173,
     "metadata": {},
     "output_type": "execute_result"
    }
   ],
   "source": [
    "line_therapy_fl[line_therapy_fl['LineName'].str.contains('Abiraterone')].LineName.value_counts().head(10)"
   ]
  },
  {
   "cell_type": "code",
   "execution_count": 174,
   "id": "37c8e7a5",
   "metadata": {},
   "outputs": [],
   "source": [
    "line_abi = line_therapy_fl.query('LineName == \"Abiraterone\"')"
   ]
  },
  {
   "cell_type": "code",
   "execution_count": 175,
   "id": "b76bc4f7",
   "metadata": {},
   "outputs": [
    {
     "data": {
      "text/plain": [
       "(1165, 1165)"
      ]
     },
     "execution_count": 175,
     "metadata": {},
     "output_type": "execute_result"
    }
   ],
   "source": [
    "row_ID(line_abi)"
   ]
  },
  {
   "cell_type": "code",
   "execution_count": 176,
   "id": "6e47a67e",
   "metadata": {},
   "outputs": [],
   "source": [
    "latitude_abi = pd.merge(latitude_abi, line_abi[['PatientID', 'StartDate_abi']], on = 'PatientID', how = 'left')"
   ]
  },
  {
   "cell_type": "code",
   "execution_count": 177,
   "id": "4683d741",
   "metadata": {},
   "outputs": [
    {
     "data": {
      "text/plain": [
       "(10397, 10397)"
      ]
     },
     "execution_count": 177,
     "metadata": {},
     "output_type": "execute_result"
    }
   ],
   "source": [
    "row_ID(latitude_abi)"
   ]
  },
  {
   "cell_type": "code",
   "execution_count": 178,
   "id": "6660a5fe",
   "metadata": {},
   "outputs": [],
   "source": [
    "# Find all patients that start abiraterone within 90 days of ADT start\n",
    "latitude_abi = (\n",
    "    latitude_abi\n",
    "    .assign(abi_diff = (latitude_abi['StartDate_abi'] - latitude_abi['StartDate_adt']).dt.days)\n",
    "    .query('abi_diff >= -90 and abi_diff <= 90')\n",
    ")"
   ]
  },
  {
   "cell_type": "code",
   "execution_count": 179,
   "id": "fb2dfffa",
   "metadata": {},
   "outputs": [
    {
     "data": {
      "text/plain": [
       "(876, 876)"
      ]
     },
     "execution_count": 179,
     "metadata": {},
     "output_type": "execute_result"
    }
   ],
   "source": [
    "row_ID(latitude_abi)"
   ]
  },
  {
   "cell_type": "code",
   "execution_count": 180,
   "id": "941f4343",
   "metadata": {},
   "outputs": [
    {
     "data": {
      "text/html": [
       "<div>\n",
       "<style scoped>\n",
       "    .dataframe tbody tr th:only-of-type {\n",
       "        vertical-align: middle;\n",
       "    }\n",
       "\n",
       "    .dataframe tbody tr th {\n",
       "        vertical-align: top;\n",
       "    }\n",
       "\n",
       "    .dataframe thead th {\n",
       "        text-align: right;\n",
       "    }\n",
       "</style>\n",
       "<table border=\"1\" class=\"dataframe\">\n",
       "  <thead>\n",
       "    <tr style=\"text-align: right;\">\n",
       "      <th></th>\n",
       "      <th>PatientID</th>\n",
       "      <th>Gender</th>\n",
       "      <th>race</th>\n",
       "      <th>ethnicity</th>\n",
       "      <th>age</th>\n",
       "      <th>p_type</th>\n",
       "      <th>NStage</th>\n",
       "      <th>MStage</th>\n",
       "      <th>Histology</th>\n",
       "      <th>GleasonScore</th>\n",
       "      <th>...</th>\n",
       "      <th>prim_treatment</th>\n",
       "      <th>early_adt</th>\n",
       "      <th>risk_score</th>\n",
       "      <th>StartDate_adt</th>\n",
       "      <th>MetDiagnosisDate</th>\n",
       "      <th>CRPCDate</th>\n",
       "      <th>adt_diff</th>\n",
       "      <th>crpc_diff</th>\n",
       "      <th>StartDate_abi</th>\n",
       "      <th>abi_diff</th>\n",
       "    </tr>\n",
       "  </thead>\n",
       "  <tbody>\n",
       "    <tr>\n",
       "      <th>6097</th>\n",
       "      <td>FBE12C247909D</td>\n",
       "      <td>M</td>\n",
       "      <td>unknown</td>\n",
       "      <td>hispanic_latino</td>\n",
       "      <td>58</td>\n",
       "      <td>COMMUNITY</td>\n",
       "      <td>N1</td>\n",
       "      <td>M1b</td>\n",
       "      <td>Adenocarcinoma</td>\n",
       "      <td>9</td>\n",
       "      <td>...</td>\n",
       "      <td>unknown</td>\n",
       "      <td>0.0</td>\n",
       "      <td>-1.243935</td>\n",
       "      <td>2020-10-09</td>\n",
       "      <td>2020-09-09</td>\n",
       "      <td>NaT</td>\n",
       "      <td>30.0</td>\n",
       "      <td>NaN</td>\n",
       "      <td>2020-11-12</td>\n",
       "      <td>34.0</td>\n",
       "    </tr>\n",
       "    <tr>\n",
       "      <th>830</th>\n",
       "      <td>FA50450FDEE22</td>\n",
       "      <td>M</td>\n",
       "      <td>white</td>\n",
       "      <td>unknown</td>\n",
       "      <td>81</td>\n",
       "      <td>COMMUNITY</td>\n",
       "      <td>Unknown / Not documented</td>\n",
       "      <td>M1</td>\n",
       "      <td>Adenocarcinoma</td>\n",
       "      <td>Unknown / Not documented</td>\n",
       "      <td>...</td>\n",
       "      <td>unknown</td>\n",
       "      <td>0.0</td>\n",
       "      <td>1.075722</td>\n",
       "      <td>2021-10-18</td>\n",
       "      <td>2021-09-02</td>\n",
       "      <td>NaT</td>\n",
       "      <td>46.0</td>\n",
       "      <td>NaN</td>\n",
       "      <td>2021-10-18</td>\n",
       "      <td>0.0</td>\n",
       "    </tr>\n",
       "    <tr>\n",
       "      <th>1588</th>\n",
       "      <td>F912BCBF6EAE4</td>\n",
       "      <td>M</td>\n",
       "      <td>unknown</td>\n",
       "      <td>unknown</td>\n",
       "      <td>58</td>\n",
       "      <td>COMMUNITY</td>\n",
       "      <td>N0</td>\n",
       "      <td>M1</td>\n",
       "      <td>Adenocarcinoma</td>\n",
       "      <td>9</td>\n",
       "      <td>...</td>\n",
       "      <td>unknown</td>\n",
       "      <td>0.0</td>\n",
       "      <td>-0.513649</td>\n",
       "      <td>2021-09-30</td>\n",
       "      <td>2021-08-25</td>\n",
       "      <td>NaT</td>\n",
       "      <td>36.0</td>\n",
       "      <td>NaN</td>\n",
       "      <td>2021-11-29</td>\n",
       "      <td>60.0</td>\n",
       "    </tr>\n",
       "  </tbody>\n",
       "</table>\n",
       "<p>3 rows × 236 columns</p>\n",
       "</div>"
      ],
      "text/plain": [
       "          PatientID Gender     race        ethnicity  age     p_type  \\\n",
       "6097  FBE12C247909D      M  unknown  hispanic_latino   58  COMMUNITY   \n",
       "830   FA50450FDEE22      M    white          unknown   81  COMMUNITY   \n",
       "1588  F912BCBF6EAE4      M  unknown          unknown   58  COMMUNITY   \n",
       "\n",
       "                        NStage MStage       Histology  \\\n",
       "6097                        N1    M1b  Adenocarcinoma   \n",
       "830   Unknown / Not documented     M1  Adenocarcinoma   \n",
       "1588                        N0     M1  Adenocarcinoma   \n",
       "\n",
       "                  GleasonScore  ...  prim_treatment  early_adt risk_score  \\\n",
       "6097                         9  ...         unknown        0.0  -1.243935   \n",
       "830   Unknown / Not documented  ...         unknown        0.0   1.075722   \n",
       "1588                         9  ...         unknown        0.0  -0.513649   \n",
       "\n",
       "      StartDate_adt  MetDiagnosisDate  CRPCDate  adt_diff  crpc_diff  \\\n",
       "6097     2020-10-09        2020-09-09       NaT      30.0        NaN   \n",
       "830      2021-10-18        2021-09-02       NaT      46.0        NaN   \n",
       "1588     2021-09-30        2021-08-25       NaT      36.0        NaN   \n",
       "\n",
       "      StartDate_abi  abi_diff  \n",
       "6097     2020-11-12      34.0  \n",
       "830      2021-10-18       0.0  \n",
       "1588     2021-11-29      60.0  \n",
       "\n",
       "[3 rows x 236 columns]"
      ]
     },
     "execution_count": 180,
     "metadata": {},
     "output_type": "execute_result"
    }
   ],
   "source": [
    "latitude_abi.sample(3)"
   ]
  },
  {
   "cell_type": "code",
   "execution_count": 181,
   "id": "c7aaa6b7",
   "metadata": {},
   "outputs": [],
   "source": [
    "latitude_abi.loc[:,'adt_abi'] = 1"
   ]
  },
  {
   "cell_type": "code",
   "execution_count": 182,
   "id": "4701ae08",
   "metadata": {},
   "outputs": [],
   "source": [
    "latitude = pd.concat([latitude_adt, latitude_abi], ignore_index = True)"
   ]
  },
  {
   "cell_type": "code",
   "execution_count": 183,
   "id": "d45ff312",
   "metadata": {},
   "outputs": [
    {
     "data": {
      "text/plain": [
       "(7043, 7043)"
      ]
     },
     "execution_count": 183,
     "metadata": {},
     "output_type": "execute_result"
    }
   ],
   "source": [
    "row_ID(latitude)"
   ]
  },
  {
   "cell_type": "code",
   "execution_count": 184,
   "id": "b41f0380",
   "metadata": {},
   "outputs": [
    {
     "data": {
      "text/plain": [
       "0    6167\n",
       "1     876\n",
       "Name: adt_abi, dtype: int64"
      ]
     },
     "execution_count": 184,
     "metadata": {},
     "output_type": "execute_result"
    }
   ],
   "source": [
    "latitude.adt_abi.value_counts(dropna = False)"
   ]
  },
  {
   "cell_type": "markdown",
   "id": "01d3f061",
   "metadata": {},
   "source": [
    "#### Time from ADT treatment to death or censor "
   ]
  },
  {
   "cell_type": "code",
   "execution_count": 185,
   "id": "c252bbd0",
   "metadata": {},
   "outputs": [],
   "source": [
    "mortality_tr = pd.read_csv('mortality_cleaned_tr.csv')"
   ]
  },
  {
   "cell_type": "code",
   "execution_count": 186,
   "id": "d8fac091",
   "metadata": {},
   "outputs": [],
   "source": [
    "mortality_te = pd.read_csv('mortality_cleaned_te.csv')"
   ]
  },
  {
   "cell_type": "code",
   "execution_count": 187,
   "id": "3ab4a841",
   "metadata": {},
   "outputs": [],
   "source": [
    "mortality_tr = mortality_tr[['PatientID', 'death_date', 'last_activity']]"
   ]
  },
  {
   "cell_type": "code",
   "execution_count": 188,
   "id": "cbf110c4",
   "metadata": {},
   "outputs": [],
   "source": [
    "mortality_te = mortality_te[['PatientID', 'death_date', 'last_activity']]"
   ]
  },
  {
   "cell_type": "code",
   "execution_count": 189,
   "id": "f32de7fd",
   "metadata": {},
   "outputs": [
    {
     "data": {
      "text/plain": [
       "(18927, 18927)"
      ]
     },
     "execution_count": 189,
     "metadata": {},
     "output_type": "execute_result"
    }
   ],
   "source": [
    "mortality = pd.concat([mortality_tr, mortality_te], ignore_index = True)\n",
    "row_ID(mortality)"
   ]
  },
  {
   "cell_type": "code",
   "execution_count": 190,
   "id": "e8367fa3",
   "metadata": {},
   "outputs": [],
   "source": [
    "mortality.loc[:, 'last_activity'] = pd.to_datetime(mortality['last_activity'])"
   ]
  },
  {
   "cell_type": "code",
   "execution_count": 191,
   "id": "5e8c8be1",
   "metadata": {},
   "outputs": [],
   "source": [
    "mortality.loc[:, 'death_date'] = pd.to_datetime(mortality['death_date'])"
   ]
  },
  {
   "cell_type": "code",
   "execution_count": 192,
   "id": "195c9088",
   "metadata": {},
   "outputs": [
    {
     "data": {
      "text/plain": [
       "18927"
      ]
     },
     "execution_count": 192,
     "metadata": {},
     "output_type": "execute_result"
    }
   ],
   "source": [
    "len(mortality)"
   ]
  },
  {
   "cell_type": "code",
   "execution_count": 193,
   "id": "f6a08968",
   "metadata": {},
   "outputs": [],
   "source": [
    "latitude = pd.merge(latitude, mortality, on = 'PatientID', how = 'left')"
   ]
  },
  {
   "cell_type": "code",
   "execution_count": 194,
   "id": "6d4742c4",
   "metadata": {},
   "outputs": [
    {
     "data": {
      "text/plain": [
       "(7043, 7043)"
      ]
     },
     "execution_count": 194,
     "metadata": {},
     "output_type": "execute_result"
    }
   ],
   "source": [
    "row_ID(latitude)"
   ]
  },
  {
   "cell_type": "code",
   "execution_count": 195,
   "id": "423d7b34",
   "metadata": {},
   "outputs": [],
   "source": [
    "conditions = [\n",
    "    (latitude['death_status'] == 1),\n",
    "    (latitude['death_status'] == 0)]\n",
    "\n",
    "choices = [\n",
    "    (latitude['death_date'] - latitude['StartDate_adt']).dt.days,\n",
    "    (latitude['last_activity'] - latitude['StartDate_adt']).dt.days]\n",
    "\n",
    "latitude.loc[:, 'timerisk_treatment'] = np.select(conditions, choices)\n",
    "\n",
    "latitude = latitude.query('timerisk_treatment >= 0')"
   ]
  },
  {
   "cell_type": "markdown",
   "id": "cf199810",
   "metadata": {},
   "source": [
    "#### Patient count "
   ]
  },
  {
   "cell_type": "code",
   "execution_count": 196,
   "id": "4ad46a0e",
   "metadata": {},
   "outputs": [
    {
     "data": {
      "text/plain": [
       "(7043, 7043)"
      ]
     },
     "execution_count": 196,
     "metadata": {},
     "output_type": "execute_result"
    }
   ],
   "source": [
    "row_ID(latitude)"
   ]
  },
  {
   "cell_type": "code",
   "execution_count": 197,
   "id": "38b17c08",
   "metadata": {},
   "outputs": [],
   "source": [
    "# Exclude those with active cardiac disease in the year preceding metastatic diagnosis \n",
    "latitude = latitude[~latitude['PatientID'].isin(cardiac_IDs)]"
   ]
  },
  {
   "cell_type": "code",
   "execution_count": 198,
   "id": "43d9c3a5",
   "metadata": {},
   "outputs": [],
   "source": [
    "# Exclude those with viral hepatitis or chronic liver disease in the year preceding metastatic diagnosis \n",
    "latitude = latitude[~latitude['PatientID'].isin(liv_IDs)]"
   ]
  },
  {
   "cell_type": "code",
   "execution_count": 199,
   "id": "4cdb06b9",
   "metadata": {},
   "outputs": [],
   "source": [
    "# Exclude those with CNS metastasis at time of metastatic diagnosis \n",
    "latitude = latitude.query('cns_met == 0')"
   ]
  },
  {
   "cell_type": "code",
   "execution_count": 200,
   "id": "f68e3a65",
   "metadata": {},
   "outputs": [],
   "source": [
    "# Exclude those with ECOG of 3 or 4 at time of metastatic diagnosis \n",
    "latitude = latitude.query('ecog_diagnosis != \"3.0\" and ecog_diagnosis != \"4.0\"')"
   ]
  },
  {
   "cell_type": "code",
   "execution_count": 201,
   "id": "5d6390b6",
   "metadata": {},
   "outputs": [],
   "source": [
    "# Exclude those with abnormal organ function at time of metastatic diagnosis \n",
    "latitude = (\n",
    "    latitude\n",
    "    .query('creatinine_diag < 2 or creatinine_diag_na == 1')\n",
    "    .query('hemoglobin_diag > 9 or hemoglobin_diag_na == 1')\n",
    "    .query('total_bilirubin_diag < 3 or total_bilirubin_diag_na == 1')\n",
    ")"
   ]
  },
  {
   "cell_type": "code",
   "execution_count": 202,
   "id": "1803be3d",
   "metadata": {},
   "outputs": [
    {
     "data": {
      "text/plain": [
       "(6418, 6418)"
      ]
     },
     "execution_count": 202,
     "metadata": {},
     "output_type": "execute_result"
    }
   ],
   "source": [
    "row_ID(latitude)"
   ]
  },
  {
   "cell_type": "code",
   "execution_count": 203,
   "id": "d383e79d",
   "metadata": {},
   "outputs": [],
   "source": [
    "low_cutoff_latitude = cutoff.loc['latitude'].low"
   ]
  },
  {
   "cell_type": "code",
   "execution_count": 204,
   "id": "bd872ee8",
   "metadata": {},
   "outputs": [],
   "source": [
    "high_cutoff_latitude = cutoff.loc['latitude'].high"
   ]
  },
  {
   "cell_type": "code",
   "execution_count": 205,
   "id": "801ab285",
   "metadata": {},
   "outputs": [
    {
     "name": "stdout",
     "output_type": "stream",
     "text": [
      "Abiraterone + ADT: 783\n",
      "High risk: 204\n",
      "Med risk: 245\n",
      "Low risk: 334\n"
     ]
    }
   ],
   "source": [
    "print('Abiraterone + ADT:',  latitude.query('adt_abi == 1').shape[0])\n",
    "print('High risk:', latitude.query('adt_abi == 1').query('risk_score >= @high_cutoff_latitude').shape[0])\n",
    "print('Med risk:', latitude.query('adt_abi == 1').query('risk_score < @high_cutoff_latitude and risk_score > @low_cutoff_latitude').shape[0])\n",
    "print('Low risk:', latitude.query('adt_abi == 1').query('risk_score <= @low_cutoff_latitude').shape[0])"
   ]
  },
  {
   "cell_type": "code",
   "execution_count": 206,
   "id": "facaee32",
   "metadata": {},
   "outputs": [
    {
     "name": "stdout",
     "output_type": "stream",
     "text": [
      "ADT: 5635\n",
      "High risk: 1615\n",
      "Med risk: 2035\n",
      "Low risk: 1985\n"
     ]
    }
   ],
   "source": [
    "print('ADT:',  latitude.query('adt_abi == 0').shape[0])\n",
    "print('High risk:', latitude.query('adt_abi == 0').query('risk_score >= @high_cutoff_latitude').shape[0])\n",
    "print('Med risk:', latitude.query('adt_abi == 0').query('risk_score < @high_cutoff_latitude and risk_score > @low_cutoff_latitude').shape[0])\n",
    "print('Low risk:', latitude.query('adt_abi == 0').query('risk_score <= @low_cutoff_latitude').shape[0])"
   ]
  },
  {
   "cell_type": "markdown",
   "id": "d9835556",
   "metadata": {},
   "source": [
    "#### Survival curves with covariate balancing "
   ]
  },
  {
   "cell_type": "code",
   "execution_count": 207,
   "id": "c2033f59",
   "metadata": {},
   "outputs": [],
   "source": [
    "latitude = latitude.set_index('PatientID')"
   ]
  },
  {
   "cell_type": "code",
   "execution_count": 208,
   "id": "5bf7faa6",
   "metadata": {},
   "outputs": [],
   "source": [
    "latitude['met_cat'] = pd.cut(latitude['met_year'],\n",
    "                             bins = [2010, 2018, float('inf')],\n",
    "                             labels = ['11-18', '16-22'])"
   ]
  },
  {
   "cell_type": "code",
   "execution_count": 209,
   "id": "0f221426",
   "metadata": {},
   "outputs": [],
   "source": [
    "conditions = [\n",
    "    ((latitude['ecog_diagnosis'] == \"1.0\") | (latitude['ecog_diagnosis'] == \"0.0\")),  \n",
    "    ((latitude['ecog_diagnosis'] == \"2.0\") | (latitude['ecog_diagnosis'] == \"3.0\"))\n",
    "]\n",
    "\n",
    "choices = ['lt_2', 'gte_2']\n",
    "\n",
    "latitude['ecog_2'] = np.select(conditions, choices, default = 'unknown')"
   ]
  },
  {
   "cell_type": "code",
   "execution_count": 210,
   "id": "75604578",
   "metadata": {},
   "outputs": [],
   "source": [
    "latitude_iptw = latitude.filter(items = ['death_status',\n",
    "                                         'timerisk_treatment',\n",
    "                                         'adt_abi',\n",
    "                                         'age',\n",
    "                                         'race',\n",
    "                                         'p_type',\n",
    "                                         'met_cat',\n",
    "                                         'delta_met_diagnosis',\n",
    "                                         'commercial',\n",
    "                                         'medicare',\n",
    "                                         'medicaid',\n",
    "                                         'ecog_2',\n",
    "                                         'prim_treatment',\n",
    "                                         'PSAMetDiagnosis',\n",
    "                                         'risk_score'])"
   ]
  },
  {
   "cell_type": "code",
   "execution_count": 211,
   "id": "632d1774",
   "metadata": {},
   "outputs": [
    {
     "data": {
      "text/plain": [
       "death_status               bool\n",
       "timerisk_treatment      float64\n",
       "adt_abi                   int64\n",
       "age                       int64\n",
       "race                     object\n",
       "p_type                   object\n",
       "met_cat                category\n",
       "delta_met_diagnosis       int64\n",
       "commercial              float64\n",
       "medicare                float64\n",
       "medicaid                float64\n",
       "ecog_2                   object\n",
       "prim_treatment           object\n",
       "PSAMetDiagnosis         float64\n",
       "risk_score              float64\n",
       "dtype: object"
      ]
     },
     "execution_count": 211,
     "metadata": {},
     "output_type": "execute_result"
    }
   ],
   "source": [
    "latitude_iptw.dtypes"
   ]
  },
  {
   "cell_type": "code",
   "execution_count": 212,
   "id": "046a057c",
   "metadata": {},
   "outputs": [],
   "source": [
    "to_be_categorical = list(latitude_iptw.select_dtypes(include = ['object']).columns)"
   ]
  },
  {
   "cell_type": "code",
   "execution_count": 213,
   "id": "02f187c2",
   "metadata": {},
   "outputs": [
    {
     "data": {
      "text/plain": [
       "['race', 'p_type', 'ecog_2', 'prim_treatment']"
      ]
     },
     "execution_count": 213,
     "metadata": {},
     "output_type": "execute_result"
    }
   ],
   "source": [
    "to_be_categorical"
   ]
  },
  {
   "cell_type": "code",
   "execution_count": 214,
   "id": "80e50098",
   "metadata": {},
   "outputs": [],
   "source": [
    "to_be_categorical.append('met_cat')"
   ]
  },
  {
   "cell_type": "code",
   "execution_count": 215,
   "id": "a434fb9f",
   "metadata": {},
   "outputs": [],
   "source": [
    "# Convert variables in list to categorical.\n",
    "for x in list(to_be_categorical):\n",
    "    latitude_iptw[x] = latitude_iptw[x].astype('category')"
   ]
  },
  {
   "cell_type": "code",
   "execution_count": 216,
   "id": "a4103e77",
   "metadata": {},
   "outputs": [],
   "source": [
    "# List of numeric variables, excluding binary variables. \n",
    "numerical_features = ['age', 'delta_met_diagnosis', 'PSAMetDiagnosis']\n",
    "\n",
    "# Transformer will first calculate column median and impute, and then apply a standard scaler. \n",
    "numerical_transformer = Pipeline(steps = [\n",
    "    ('imputer', SimpleImputer(strategy = 'median')),\n",
    "    ('std_scaler', StandardScaler())])"
   ]
  },
  {
   "cell_type": "code",
   "execution_count": 217,
   "id": "df425a46",
   "metadata": {},
   "outputs": [],
   "source": [
    "# List of categorical features.\n",
    "categorical_features = list(latitude_iptw.select_dtypes(include = ['category']).columns)\n",
    "\n",
    "# One-hot-encode categorical features.\n",
    "categorical_transformer = OneHotEncoder(handle_unknown = 'ignore')"
   ]
  },
  {
   "cell_type": "code",
   "execution_count": 218,
   "id": "6bf9c9e8",
   "metadata": {},
   "outputs": [],
   "source": [
    "preprocessor = ColumnTransformer(\n",
    "    transformers = [\n",
    "        ('num', numerical_transformer, numerical_features),\n",
    "        ('cat', categorical_transformer, categorical_features)],\n",
    "    remainder = 'passthrough')"
   ]
  },
  {
   "cell_type": "code",
   "execution_count": 219,
   "id": "12ad35a2",
   "metadata": {},
   "outputs": [],
   "source": [
    "latitude_iptw_low = (\n",
    "    latitude_iptw\n",
    "    .query('risk_score <= @low_cutoff_latitude')\n",
    "    .drop(columns = ['risk_score']))\n",
    "\n",
    "latitude_iptw_med = (\n",
    "    latitude_iptw\n",
    "    .query('risk_score < @high_cutoff_latitude and risk_score > @low_cutoff_latitude')\n",
    "    .drop(columns = ['risk_score']))\n",
    "\n",
    "latitude_iptw_high = (\n",
    "    latitude_iptw\n",
    "    .query('risk_score >= @high_cutoff_latitude')\n",
    "    .drop(columns = ['risk_score']))\n",
    "\n",
    "latitude_iptw_all = (\n",
    "    latitude_iptw\n",
    "    .drop(columns = ['risk_score']))"
   ]
  },
  {
   "cell_type": "code",
   "execution_count": 220,
   "id": "ab21d665",
   "metadata": {},
   "outputs": [],
   "source": [
    "latitude_low_x = preprocessor.fit_transform(latitude_iptw_low.filter(items = ['age',\n",
    "                                                                              'race',\n",
    "                                                                              'p_type',\n",
    "                                                                              'met_cat',\n",
    "                                                                              'delta_met_diagnosis',\n",
    "                                                                              'commercial',\n",
    "                                                                              'medicare',\n",
    "                                                                              'medicaid', \n",
    "                                                                              'ecog_2',\n",
    "                                                                              'prim_treatment',\n",
    "                                                                              'PSAMetDiagnosis']))\n",
    "\n",
    "latitude_med_x = preprocessor.fit_transform(latitude_iptw_med.filter(items = ['age',\n",
    "                                                                              'race',\n",
    "                                                                              'p_type',\n",
    "                                                                              'met_cat',\n",
    "                                                                              'delta_met_diagnosis',\n",
    "                                                                              'commercial',\n",
    "                                                                              'medicare',\n",
    "                                                                              'medicaid', \n",
    "                                                                              'ecog_2',\n",
    "                                                                              'prim_treatment',\n",
    "                                                                              'PSAMetDiagnosis']))\n",
    "\n",
    "latitude_high_x = preprocessor.fit_transform(latitude_iptw_high.filter(items = ['age',\n",
    "                                                                                'race',\n",
    "                                                                                'p_type',\n",
    "                                                                                'met_cat',\n",
    "                                                                                'delta_met_diagnosis',\n",
    "                                                                                'commercial',\n",
    "                                                                                'medicare',\n",
    "                                                                                'medicaid', \n",
    "                                                                                'ecog_2',\n",
    "                                                                                'prim_treatment',\n",
    "                                                                                'PSAMetDiagnosis']))\n",
    "\n",
    "latitude_all_x = preprocessor.fit_transform(latitude_iptw_all.filter(items = ['age',\n",
    "                                                                              'race',\n",
    "                                                                              'p_type',\n",
    "                                                                              'met_cat',\n",
    "                                                                              'delta_met_diagnosis',\n",
    "                                                                              'commercial',\n",
    "                                                                              'medicare',\n",
    "                                                                              'medicaid', \n",
    "                                                                              'ecog_2',\n",
    "                                                                              'prim_treatment',\n",
    "                                                                              'PSAMetDiagnosis']))"
   ]
  },
  {
   "cell_type": "code",
   "execution_count": 221,
   "id": "4f21f4f4",
   "metadata": {},
   "outputs": [
    {
     "data": {
      "text/plain": [
       "LogisticRegression(max_iter=1000)"
      ]
     },
     "execution_count": 221,
     "metadata": {},
     "output_type": "execute_result"
    }
   ],
   "source": [
    "lr_latitude_low = LogisticRegression(max_iter = 1000)\n",
    "lr_latitude_low.fit(latitude_low_x, latitude_iptw_low['adt_abi'])"
   ]
  },
  {
   "cell_type": "code",
   "execution_count": 222,
   "id": "7ba11a86",
   "metadata": {},
   "outputs": [
    {
     "data": {
      "text/plain": [
       "LogisticRegression(max_iter=1000)"
      ]
     },
     "execution_count": 222,
     "metadata": {},
     "output_type": "execute_result"
    }
   ],
   "source": [
    "lr_latitude_med = LogisticRegression(max_iter = 1000)\n",
    "lr_latitude_med.fit(latitude_med_x, latitude_iptw_med['adt_abi'])"
   ]
  },
  {
   "cell_type": "code",
   "execution_count": 223,
   "id": "1ae9a566",
   "metadata": {},
   "outputs": [
    {
     "data": {
      "text/plain": [
       "LogisticRegression(max_iter=1000)"
      ]
     },
     "execution_count": 223,
     "metadata": {},
     "output_type": "execute_result"
    }
   ],
   "source": [
    "lr_latitude_high = LogisticRegression(max_iter = 1000)\n",
    "lr_latitude_high.fit(latitude_high_x, latitude_iptw_high['adt_abi'])"
   ]
  },
  {
   "cell_type": "code",
   "execution_count": 224,
   "id": "b840cd93",
   "metadata": {},
   "outputs": [
    {
     "data": {
      "text/plain": [
       "LogisticRegression(max_iter=1000)"
      ]
     },
     "execution_count": 224,
     "metadata": {},
     "output_type": "execute_result"
    }
   ],
   "source": [
    "lr_latitude_all = LogisticRegression(max_iter = 1000)\n",
    "lr_latitude_all.fit(latitude_all_x, latitude_iptw_all['adt_abi'])"
   ]
  },
  {
   "cell_type": "code",
   "execution_count": 225,
   "id": "75fa3044",
   "metadata": {},
   "outputs": [],
   "source": [
    "pred_low = lr_latitude_low.predict_proba(latitude_low_x)\n",
    "pred_med = lr_latitude_med.predict_proba(latitude_med_x)\n",
    "pred_high = lr_latitude_high.predict_proba(latitude_high_x)\n",
    "pred_all = lr_latitude_all.predict_proba(latitude_all_x)"
   ]
  },
  {
   "cell_type": "code",
   "execution_count": 226,
   "id": "fabee6ad",
   "metadata": {},
   "outputs": [],
   "source": [
    "latitude_iptw_low['ps'] = pred_low[:, 1]\n",
    "latitude_iptw_med['ps'] = pred_med[:, 1]\n",
    "latitude_iptw_high['ps'] = pred_high[:, 1]\n",
    "latitude_iptw_all['ps'] = pred_all[:, 1]"
   ]
  },
  {
   "cell_type": "code",
   "execution_count": 227,
   "id": "9c473e27",
   "metadata": {},
   "outputs": [],
   "source": [
    "latitude_iptw_low['weight'] = (\n",
    "    np.where(latitude_iptw_low['adt_abi'] == 1, 1/latitude_iptw_low['ps'], 1/(1 - latitude_iptw_low['ps'])))\n",
    "\n",
    "latitude_iptw_med['weight'] = (\n",
    "    np.where(latitude_iptw_med['adt_abi'] == 1, 1/latitude_iptw_med['ps'], 1/(1 - latitude_iptw_med['ps'])))\n",
    "\n",
    "latitude_iptw_high['weight'] = (\n",
    "    np.where(latitude_iptw_high['adt_abi'] == 1, 1/latitude_iptw_high['ps'], 1/(1 - latitude_iptw_high['ps'])))\n",
    "\n",
    "latitude_iptw_all['weight'] = (\n",
    "    np.where(latitude_iptw_all['adt_abi'] == 1, 1/latitude_iptw_all['ps'], 1/(1 - latitude_iptw_all['ps'])))"
   ]
  },
  {
   "cell_type": "code",
   "execution_count": 228,
   "id": "8e4d0cc9",
   "metadata": {},
   "outputs": [
    {
     "name": "stderr",
     "output_type": "stream",
     "text": [
      "/Users/xavierorcutt/Dropbox/ist_project/myenv/lib/python3.7/site-packages/lifelines/fitters/kaplan_meier_fitter.py:344: StatisticalWarning: It looks like your weights are not integers, possibly propensity scores then?\n",
      "  It's important to know that the naive variance estimates of the coefficients are biased. Instead use Monte Carlo to\n",
      "  estimate the variances. See paper \"Variance estimation when using inverse probability of treatment weighting (IPTW) with survival analysis\"\n",
      "  or \"Adjusted Kaplan-Meier estimator and log-rank test with inverse probability of treatment weighting for survival data.\"\n",
      "                  \n",
      "  StatisticalWarning,\n"
     ]
    },
    {
     "data": {
      "text/plain": [
       "<lifelines.KaplanMeierFitter:\"KM_estimate\", fitted with 6420.97 total observations, 3038.27 right-censored observations>"
      ]
     },
     "execution_count": 228,
     "metadata": {},
     "output_type": "execute_result"
    }
   ],
   "source": [
    "# Low KM curves\n",
    "kmf_low_abi_latitude_iptw = KaplanMeierFitter()\n",
    "kmf_low_adt_latitude_iptw = KaplanMeierFitter()\n",
    "\n",
    "kmf_low_abi_latitude_iptw.fit(\n",
    "    latitude_iptw_low.query('adt_abi == 1').timerisk_treatment/30,\n",
    "    latitude_iptw_low.query('adt_abi == 1').death_status,\n",
    "    weights = latitude_iptw_low.query('adt_abi == 1')['weight'])\n",
    "\n",
    "kmf_low_adt_latitude_iptw.fit(\n",
    "    latitude_iptw_low.query('adt_abi == 0').timerisk_treatment/30,\n",
    "    latitude_iptw_low.query('adt_abi == 0').death_status,\n",
    "    weights = latitude_iptw_low.query('adt_abi == 0')['weight'])\n",
    "\n",
    "# Med KM curves\n",
    "kmf_med_abi_latitude_iptw = KaplanMeierFitter()\n",
    "kmf_med_adt_latitude_iptw = KaplanMeierFitter()\n",
    "\n",
    "kmf_med_abi_latitude_iptw.fit(\n",
    "    latitude_iptw_med.query('adt_abi == 1').timerisk_treatment/30,\n",
    "    latitude_iptw_med.query('adt_abi == 1').death_status,\n",
    "    weights = latitude_iptw_med.query('adt_abi == 1')['weight'])\n",
    "\n",
    "kmf_med_adt_latitude_iptw.fit(\n",
    "    latitude_iptw_med.query('adt_abi == 0').timerisk_treatment/30,\n",
    "    latitude_iptw_med.query('adt_abi == 0').death_status,\n",
    "    weights = latitude_iptw_med.query('adt_abi == 0')['weight'])\n",
    "\n",
    "# High KM curves \n",
    "kmf_high_abi_latitude_iptw = KaplanMeierFitter()\n",
    "kmf_high_adt_latitude_iptw = KaplanMeierFitter()\n",
    "\n",
    "kmf_high_abi_latitude_iptw.fit(\n",
    "    latitude_iptw_high.query('adt_abi == 1').timerisk_treatment/30,\n",
    "    latitude_iptw_high.query('adt_abi == 1').death_status,\n",
    "    weights = latitude_iptw_high.query('adt_abi == 1')['weight'])\n",
    "\n",
    "kmf_high_adt_latitude_iptw.fit(\n",
    "    latitude_iptw_high.query('adt_abi == 0').timerisk_treatment/30,\n",
    "    latitude_iptw_high.query('adt_abi == 0').death_status,\n",
    "    weights = latitude_iptw_high.query('adt_abi == 0')['weight'])\n",
    "\n",
    "# All KM curves \n",
    "kmf_all_abi_latitude_iptw = KaplanMeierFitter()\n",
    "kmf_all_adt_latitude_iptw = KaplanMeierFitter()\n",
    "\n",
    "kmf_all_abi_latitude_iptw.fit(\n",
    "    latitude_iptw_all.query('adt_abi == 1').timerisk_treatment/30,\n",
    "    latitude_iptw_all.query('adt_abi == 1').death_status,\n",
    "    weights = latitude_iptw_all.query('adt_abi == 1')['weight'])\n",
    "\n",
    "kmf_all_adt_latitude_iptw.fit(\n",
    "    latitude_iptw_all.query('adt_abi == 0').timerisk_treatment/30,\n",
    "    latitude_iptw_all.query('adt_abi == 0').death_status,\n",
    "    weights = latitude_iptw_all.query('adt_abi == 0')['weight'])"
   ]
  },
  {
   "cell_type": "code",
   "execution_count": 229,
   "id": "0f25dd98",
   "metadata": {},
   "outputs": [
    {
     "data": {
      "image/png": "[encoded data removed]",
      "text/plain": [
       "<Figure size 1800x600 with 5 Axes>"
      ]
     },
     "metadata": {},
     "output_type": "display_data"
    }
   ],
   "source": [
    "fig = plt.figure(figsize=(18, 6))\n",
    "\n",
    "# Plot survival curves for low risk group \n",
    "plt.subplot(1, 4, 1)\n",
    "\n",
    "plt.step(kmf_low_abi_latitude_iptw.timeline, kmf_low_abi_latitude_iptw.survival_function_.values*100, color = 'red', alpha = 0.5)\n",
    "\n",
    "plt.step(kmf_low_adt_latitude_iptw.timeline, kmf_low_adt_latitude_iptw.survival_function_.values*100, color = 'black', alpha = 0.5)\n",
    "\n",
    "plt.xticks(np.arange(0, 61, 6))\n",
    "plt.xlim(0, 61)\n",
    "plt.ylim(0, 100)\n",
    "\n",
    "plt.title('Low-risk', weight = 'bold')\n",
    "plt.ylabel('OS (%)', size = 12, weight = 'bold')\n",
    "\n",
    "plt.gca().spines['top'].set_visible(False)\n",
    "plt.gca().spines['right'].set_visible(False)\n",
    "\n",
    "# Plot survival curves for med risk group. \n",
    "plt.subplot(1, 4, 2)\n",
    "\n",
    "plt.step(kmf_med_abi_latitude_iptw.timeline, kmf_med_abi_latitude_iptw.survival_function_.values*100, color = 'red', alpha = 0.5)\n",
    "\n",
    "plt.step(kmf_med_adt_latitude_iptw.timeline, kmf_med_adt_latitude_iptw.survival_function_.values*100, color = 'black', alpha = 0.5)\n",
    "\n",
    "plt.xticks(np.arange(0, 61, 6))\n",
    "plt.xlim(0, 61)\n",
    "plt.ylim(0, 100)\n",
    "\n",
    "plt.title('Med-risk', weight = 'bold')\n",
    "\n",
    "plt.gca().spines['top'].set_visible(False)\n",
    "plt.gca().spines['right'].set_visible(False)\n",
    "\n",
    "# Plot survival curves by treatment for high risk group. \n",
    "plt.subplot(1, 4, 3)\n",
    "\n",
    "plt.step(kmf_high_abi_latitude_iptw.timeline, kmf_high_abi_latitude_iptw.survival_function_.values*100, color = 'red', alpha = 0.5)\n",
    "\n",
    "plt.step(kmf_high_adt_latitude_iptw.timeline, kmf_high_adt_latitude_iptw.survival_function_.values*100, color = 'black', alpha = 0.5)\n",
    "\n",
    "plt.xticks(np.arange(0, 61, 6))\n",
    "plt.xlim(0, 61)\n",
    "plt.ylim(0, 100)\n",
    "\n",
    "plt.title('High-risk', weight = 'bold')\n",
    "\n",
    "plt.gca().spines['top'].set_visible(False)\n",
    "plt.gca().spines['right'].set_visible(False)\n",
    "\n",
    "# Plot survival curves by treatment for all risk group. \n",
    "plt.subplot(1, 4, 4)\n",
    "\n",
    "plt.step(kmf_all_abi_latitude_iptw.timeline, kmf_all_abi_latitude_iptw.survival_function_.values*100, color = 'red', alpha = 0.5, label = 'Abiraterone + ADT')\n",
    "\n",
    "plt.step(kmf_all_adt_latitude_iptw.timeline, kmf_all_adt_latitude_iptw.survival_function_.values*100, color = 'black', alpha = 0.5, label = 'ADT')\n",
    "\n",
    "plt.xticks(np.arange(0, 61, 6))\n",
    "plt.xlim(0, 61)\n",
    "plt.ylim(0, 100)\n",
    "\n",
    "plt.title('Full cohort', weight = 'bold')\n",
    "\n",
    "plt.gca().spines['top'].set_visible(False)\n",
    "plt.gca().spines['right'].set_visible(False)\n",
    "\n",
    "plt.legend(loc = 'upper right', prop = {'size': 9})\n",
    "\n",
    "fig.add_subplot(1, 1, 1, frameon = False)\n",
    "plt.tick_params(labelcolor = 'none', which = 'both', top = False, bottom = False, left = False, right = False)\n",
    "plt.xlabel('Months after treatment', labelpad = 15, size = 12, weight = 'bold')\n",
    "plt.title('LATITUDE: Abiraterone + ADT vs. ADT for metastatic, castration-sensitive prostate cancer', pad = 40, size = 15, weight = 'bold')\n",
    "\n",
    "plt.show()"
   ]
  }
 ],
 "metadata": {
  "kernelspec": {
   "display_name": "My Virtual Environment",
   "language": "python",
   "name": "myenv"
  },
  "language_info": {
   "codemirror_mode": {
    "name": "ipython",
    "version": 3
   },
   "file_extension": ".py",
   "mimetype": "text/x-python",
   "name": "python",
   "nbconvert_exporter": "python",
   "pygments_lexer": "ipython3",
   "version": "3.7.10"
  }
 },
 "nbformat": 4,
 "nbformat_minor": 5
}
