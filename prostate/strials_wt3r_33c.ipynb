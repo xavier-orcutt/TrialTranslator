{
 "cells": [
  {
   "cell_type": "markdown",
   "id": "70d80e9f",
   "metadata": {},
   "source": [
    "# Flatiron Health mPC: Strict trials with GBM crude \n",
    "\n",
    "***OBJECTIVE:*** **Inclusion criteria for trials in other notebooks were relaxed to allow for as many patients to be included as reasonably possible. In this notebook, inclusion criteria for the trials will be followed as closely as possible. Patients included in our trials will next be risk stratified using the gradient boosted model with crude imputation into 1 of 3 risk groups: high (top tertile), medium (middle tertile), and low (bottom tertile). Inverse-probability treatment weighted survival analysis will then be performed across these risk groups to get real-world estimates of survival while adjusting for measured confounders.** \n",
    "** \n",
    "\n",
    "***OUTLINE:***\n",
    "1. **Identify patients with exclusion criteria:**\n",
    "* Cardiac disease (MI or CHF) in the year preceding metastatic diagnosis \n",
    "* Viral hepatitis or chronic liver disease in the year preceding metastatic diagnosis   \n",
    "* CNS metastasis at time of metastatic diagnosis \n",
    "* ECOG >2 at time of metastatic diagnosis\n",
    "* Organ dysfunction at time of metastatic diagnosis  \n",
    "\n",
    "2. **In silico trials:**\n",
    "* CHAARTED\n",
    "* LATITUDE "
   ]
  },
  {
   "cell_type": "markdown",
   "id": "298a69d9",
   "metadata": {},
   "source": [
    "## Part 1: Identify patients with exclusion criteria"
   ]
  },
  {
   "cell_type": "code",
   "execution_count": 1,
   "id": "14e08eb0",
   "metadata": {},
   "outputs": [],
   "source": [
    "import numpy as np\n",
    "import pandas as pd"
   ]
  },
  {
   "cell_type": "code",
   "execution_count": 2,
   "id": "7c8239fd",
   "metadata": {},
   "outputs": [],
   "source": [
    "# Function that returns number of rows and count of unique PatientIDs for a dataframe. \n",
    "def row_ID(dataframe):\n",
    "    row = dataframe.shape[0]\n",
    "    ID = dataframe['PatientID'].nunique()\n",
    "    return row, ID"
   ]
  },
  {
   "cell_type": "code",
   "execution_count": 3,
   "id": "1709d875",
   "metadata": {},
   "outputs": [
    {
     "data": {
      "text/plain": [
       "(15141, 15141)"
      ]
     },
     "execution_count": 3,
     "metadata": {},
     "output_type": "execute_result"
    }
   ],
   "source": [
    "train = pd.read_csv('train_full.csv')\n",
    "row_ID(train)"
   ]
  },
  {
   "cell_type": "code",
   "execution_count": 4,
   "id": "ccc7091a",
   "metadata": {},
   "outputs": [
    {
     "data": {
      "text/plain": [
       "(3786, 3786)"
      ]
     },
     "execution_count": 4,
     "metadata": {},
     "output_type": "execute_result"
    }
   ],
   "source": [
    "test = pd.read_csv('test_full.csv')\n",
    "row_ID(test)"
   ]
  },
  {
   "cell_type": "code",
   "execution_count": 5,
   "id": "bab4e424",
   "metadata": {},
   "outputs": [
    {
     "data": {
      "text/plain": [
       "(18927, 18927)"
      ]
     },
     "execution_count": 5,
     "metadata": {},
     "output_type": "execute_result"
    }
   ],
   "source": [
    "df = pd.concat([train, test], ignore_index = True)\n",
    "row_ID(df)"
   ]
  },
  {
   "cell_type": "code",
   "execution_count": 6,
   "id": "b9536820",
   "metadata": {},
   "outputs": [
    {
     "data": {
      "text/html": [
       "<div>\n",
       "<style scoped>\n",
       "    .dataframe tbody tr th:only-of-type {\n",
       "        vertical-align: middle;\n",
       "    }\n",
       "\n",
       "    .dataframe tbody tr th {\n",
       "        vertical-align: top;\n",
       "    }\n",
       "\n",
       "    .dataframe thead th {\n",
       "        text-align: right;\n",
       "    }\n",
       "</style>\n",
       "<table border=\"1\" class=\"dataframe\">\n",
       "  <thead>\n",
       "    <tr style=\"text-align: right;\">\n",
       "      <th></th>\n",
       "      <th>PatientID</th>\n",
       "      <th>Gender</th>\n",
       "      <th>race</th>\n",
       "      <th>ethnicity</th>\n",
       "      <th>age</th>\n",
       "      <th>p_type</th>\n",
       "      <th>NStage</th>\n",
       "      <th>MStage</th>\n",
       "      <th>Histology</th>\n",
       "      <th>GleasonScore</th>\n",
       "      <th>...</th>\n",
       "      <th>peritoneum_met</th>\n",
       "      <th>liver_met</th>\n",
       "      <th>other_gi_met</th>\n",
       "      <th>cns_met</th>\n",
       "      <th>bone_met</th>\n",
       "      <th>lymph_met</th>\n",
       "      <th>kidney_bladder_met</th>\n",
       "      <th>other_met</th>\n",
       "      <th>prim_treatment</th>\n",
       "      <th>early_adt</th>\n",
       "    </tr>\n",
       "  </thead>\n",
       "  <tbody>\n",
       "    <tr>\n",
       "      <th>0</th>\n",
       "      <td>F91E804817B30</td>\n",
       "      <td>M</td>\n",
       "      <td>white</td>\n",
       "      <td>unknown</td>\n",
       "      <td>81</td>\n",
       "      <td>COMMUNITY</td>\n",
       "      <td>NX</td>\n",
       "      <td>M1b</td>\n",
       "      <td>Prostate cancer, NOS</td>\n",
       "      <td>Unknown / Not documented</td>\n",
       "      <td>...</td>\n",
       "      <td>0.0</td>\n",
       "      <td>0.0</td>\n",
       "      <td>0.0</td>\n",
       "      <td>0.0</td>\n",
       "      <td>1.0</td>\n",
       "      <td>0.0</td>\n",
       "      <td>0.0</td>\n",
       "      <td>0.0</td>\n",
       "      <td>unknown</td>\n",
       "      <td>0.0</td>\n",
       "    </tr>\n",
       "    <tr>\n",
       "      <th>1</th>\n",
       "      <td>FFDF8FEF2161B</td>\n",
       "      <td>M</td>\n",
       "      <td>white</td>\n",
       "      <td>unknown</td>\n",
       "      <td>80</td>\n",
       "      <td>COMMUNITY</td>\n",
       "      <td>N0</td>\n",
       "      <td>M0</td>\n",
       "      <td>Adenocarcinoma</td>\n",
       "      <td>Less than or equal to 6</td>\n",
       "      <td>...</td>\n",
       "      <td>0.0</td>\n",
       "      <td>0.0</td>\n",
       "      <td>0.0</td>\n",
       "      <td>0.0</td>\n",
       "      <td>0.0</td>\n",
       "      <td>0.0</td>\n",
       "      <td>0.0</td>\n",
       "      <td>0.0</td>\n",
       "      <td>radiation</td>\n",
       "      <td>1.0</td>\n",
       "    </tr>\n",
       "    <tr>\n",
       "      <th>2</th>\n",
       "      <td>F36E8871EC493</td>\n",
       "      <td>M</td>\n",
       "      <td>other</td>\n",
       "      <td>unknown</td>\n",
       "      <td>83</td>\n",
       "      <td>COMMUNITY</td>\n",
       "      <td>NX</td>\n",
       "      <td>M1</td>\n",
       "      <td>Adenocarcinoma</td>\n",
       "      <td>9</td>\n",
       "      <td>...</td>\n",
       "      <td>0.0</td>\n",
       "      <td>0.0</td>\n",
       "      <td>0.0</td>\n",
       "      <td>0.0</td>\n",
       "      <td>1.0</td>\n",
       "      <td>0.0</td>\n",
       "      <td>0.0</td>\n",
       "      <td>0.0</td>\n",
       "      <td>unknown</td>\n",
       "      <td>0.0</td>\n",
       "    </tr>\n",
       "    <tr>\n",
       "      <th>3</th>\n",
       "      <td>F15F25901A14F</td>\n",
       "      <td>M</td>\n",
       "      <td>other</td>\n",
       "      <td>unknown</td>\n",
       "      <td>69</td>\n",
       "      <td>COMMUNITY</td>\n",
       "      <td>N1</td>\n",
       "      <td>M1b</td>\n",
       "      <td>Adenocarcinoma</td>\n",
       "      <td>9</td>\n",
       "      <td>...</td>\n",
       "      <td>0.0</td>\n",
       "      <td>0.0</td>\n",
       "      <td>0.0</td>\n",
       "      <td>0.0</td>\n",
       "      <td>0.0</td>\n",
       "      <td>0.0</td>\n",
       "      <td>0.0</td>\n",
       "      <td>0.0</td>\n",
       "      <td>unknown</td>\n",
       "      <td>0.0</td>\n",
       "    </tr>\n",
       "    <tr>\n",
       "      <th>4</th>\n",
       "      <td>FB73450938ABD</td>\n",
       "      <td>M</td>\n",
       "      <td>other</td>\n",
       "      <td>unknown</td>\n",
       "      <td>75</td>\n",
       "      <td>COMMUNITY</td>\n",
       "      <td>N0</td>\n",
       "      <td>Unknown / Not documented</td>\n",
       "      <td>Adenocarcinoma</td>\n",
       "      <td>8</td>\n",
       "      <td>...</td>\n",
       "      <td>0.0</td>\n",
       "      <td>0.0</td>\n",
       "      <td>0.0</td>\n",
       "      <td>0.0</td>\n",
       "      <td>1.0</td>\n",
       "      <td>0.0</td>\n",
       "      <td>0.0</td>\n",
       "      <td>0.0</td>\n",
       "      <td>prostatectomy</td>\n",
       "      <td>0.0</td>\n",
       "    </tr>\n",
       "    <tr>\n",
       "      <th>...</th>\n",
       "      <td>...</td>\n",
       "      <td>...</td>\n",
       "      <td>...</td>\n",
       "      <td>...</td>\n",
       "      <td>...</td>\n",
       "      <td>...</td>\n",
       "      <td>...</td>\n",
       "      <td>...</td>\n",
       "      <td>...</td>\n",
       "      <td>...</td>\n",
       "      <td>...</td>\n",
       "      <td>...</td>\n",
       "      <td>...</td>\n",
       "      <td>...</td>\n",
       "      <td>...</td>\n",
       "      <td>...</td>\n",
       "      <td>...</td>\n",
       "      <td>...</td>\n",
       "      <td>...</td>\n",
       "      <td>...</td>\n",
       "      <td>...</td>\n",
       "    </tr>\n",
       "    <tr>\n",
       "      <th>18922</th>\n",
       "      <td>F2514ED58A2DC</td>\n",
       "      <td>M</td>\n",
       "      <td>white</td>\n",
       "      <td>unknown</td>\n",
       "      <td>77</td>\n",
       "      <td>ACADEMIC</td>\n",
       "      <td>Unknown / Not documented</td>\n",
       "      <td>M1</td>\n",
       "      <td>Adenocarcinoma</td>\n",
       "      <td>Unknown / Not documented</td>\n",
       "      <td>...</td>\n",
       "      <td>0.0</td>\n",
       "      <td>0.0</td>\n",
       "      <td>0.0</td>\n",
       "      <td>0.0</td>\n",
       "      <td>1.0</td>\n",
       "      <td>0.0</td>\n",
       "      <td>0.0</td>\n",
       "      <td>1.0</td>\n",
       "      <td>unknown</td>\n",
       "      <td>0.0</td>\n",
       "    </tr>\n",
       "    <tr>\n",
       "      <th>18923</th>\n",
       "      <td>FECC01853B4E0</td>\n",
       "      <td>M</td>\n",
       "      <td>white</td>\n",
       "      <td>unknown</td>\n",
       "      <td>67</td>\n",
       "      <td>COMMUNITY</td>\n",
       "      <td>Unknown / Not documented</td>\n",
       "      <td>Unknown / Not documented</td>\n",
       "      <td>Adenocarcinoma</td>\n",
       "      <td>8</td>\n",
       "      <td>...</td>\n",
       "      <td>0.0</td>\n",
       "      <td>0.0</td>\n",
       "      <td>0.0</td>\n",
       "      <td>0.0</td>\n",
       "      <td>1.0</td>\n",
       "      <td>0.0</td>\n",
       "      <td>0.0</td>\n",
       "      <td>0.0</td>\n",
       "      <td>unknown</td>\n",
       "      <td>1.0</td>\n",
       "    </tr>\n",
       "    <tr>\n",
       "      <th>18924</th>\n",
       "      <td>FCB6D6DFAC379</td>\n",
       "      <td>M</td>\n",
       "      <td>white</td>\n",
       "      <td>unknown</td>\n",
       "      <td>76</td>\n",
       "      <td>COMMUNITY</td>\n",
       "      <td>Unknown / Not documented</td>\n",
       "      <td>Unknown / Not documented</td>\n",
       "      <td>Prostate cancer, NOS</td>\n",
       "      <td>Unknown / Not documented</td>\n",
       "      <td>...</td>\n",
       "      <td>0.0</td>\n",
       "      <td>0.0</td>\n",
       "      <td>0.0</td>\n",
       "      <td>0.0</td>\n",
       "      <td>0.0</td>\n",
       "      <td>0.0</td>\n",
       "      <td>0.0</td>\n",
       "      <td>0.0</td>\n",
       "      <td>unknown</td>\n",
       "      <td>0.0</td>\n",
       "    </tr>\n",
       "    <tr>\n",
       "      <th>18925</th>\n",
       "      <td>F693E2A924247</td>\n",
       "      <td>M</td>\n",
       "      <td>white</td>\n",
       "      <td>unknown</td>\n",
       "      <td>68</td>\n",
       "      <td>ACADEMIC</td>\n",
       "      <td>N0</td>\n",
       "      <td>M0</td>\n",
       "      <td>Adenocarcinoma</td>\n",
       "      <td>9</td>\n",
       "      <td>...</td>\n",
       "      <td>0.0</td>\n",
       "      <td>0.0</td>\n",
       "      <td>0.0</td>\n",
       "      <td>0.0</td>\n",
       "      <td>0.0</td>\n",
       "      <td>0.0</td>\n",
       "      <td>0.0</td>\n",
       "      <td>0.0</td>\n",
       "      <td>radiation</td>\n",
       "      <td>1.0</td>\n",
       "    </tr>\n",
       "    <tr>\n",
       "      <th>18926</th>\n",
       "      <td>F822489CF0AB7</td>\n",
       "      <td>M</td>\n",
       "      <td>other</td>\n",
       "      <td>unknown</td>\n",
       "      <td>69</td>\n",
       "      <td>COMMUNITY</td>\n",
       "      <td>Unknown / Not documented</td>\n",
       "      <td>M1</td>\n",
       "      <td>Adenocarcinoma</td>\n",
       "      <td>Unknown / Not documented</td>\n",
       "      <td>...</td>\n",
       "      <td>0.0</td>\n",
       "      <td>0.0</td>\n",
       "      <td>0.0</td>\n",
       "      <td>0.0</td>\n",
       "      <td>0.0</td>\n",
       "      <td>0.0</td>\n",
       "      <td>0.0</td>\n",
       "      <td>0.0</td>\n",
       "      <td>unknown</td>\n",
       "      <td>0.0</td>\n",
       "    </tr>\n",
       "  </tbody>\n",
       "</table>\n",
       "<p>18884 rows × 228 columns</p>\n",
       "</div>"
      ],
      "text/plain": [
       "           PatientID Gender   race ethnicity  age     p_type  \\\n",
       "0      F91E804817B30      M  white   unknown   81  COMMUNITY   \n",
       "1      FFDF8FEF2161B      M  white   unknown   80  COMMUNITY   \n",
       "2      F36E8871EC493      M  other   unknown   83  COMMUNITY   \n",
       "3      F15F25901A14F      M  other   unknown   69  COMMUNITY   \n",
       "4      FB73450938ABD      M  other   unknown   75  COMMUNITY   \n",
       "...              ...    ...    ...       ...  ...        ...   \n",
       "18922  F2514ED58A2DC      M  white   unknown   77   ACADEMIC   \n",
       "18923  FECC01853B4E0      M  white   unknown   67  COMMUNITY   \n",
       "18924  FCB6D6DFAC379      M  white   unknown   76  COMMUNITY   \n",
       "18925  F693E2A924247      M  white   unknown   68   ACADEMIC   \n",
       "18926  F822489CF0AB7      M  other   unknown   69  COMMUNITY   \n",
       "\n",
       "                         NStage                    MStage  \\\n",
       "0                            NX                       M1b   \n",
       "1                            N0                        M0   \n",
       "2                            NX                        M1   \n",
       "3                            N1                       M1b   \n",
       "4                            N0  Unknown / Not documented   \n",
       "...                         ...                       ...   \n",
       "18922  Unknown / Not documented                        M1   \n",
       "18923  Unknown / Not documented  Unknown / Not documented   \n",
       "18924  Unknown / Not documented  Unknown / Not documented   \n",
       "18925                        N0                        M0   \n",
       "18926  Unknown / Not documented                        M1   \n",
       "\n",
       "                  Histology              GleasonScore  ...  peritoneum_met  \\\n",
       "0      Prostate cancer, NOS  Unknown / Not documented  ...             0.0   \n",
       "1            Adenocarcinoma   Less than or equal to 6  ...             0.0   \n",
       "2            Adenocarcinoma                         9  ...             0.0   \n",
       "3            Adenocarcinoma                         9  ...             0.0   \n",
       "4            Adenocarcinoma                         8  ...             0.0   \n",
       "...                     ...                       ...  ...             ...   \n",
       "18922        Adenocarcinoma  Unknown / Not documented  ...             0.0   \n",
       "18923        Adenocarcinoma                         8  ...             0.0   \n",
       "18924  Prostate cancer, NOS  Unknown / Not documented  ...             0.0   \n",
       "18925        Adenocarcinoma                         9  ...             0.0   \n",
       "18926        Adenocarcinoma  Unknown / Not documented  ...             0.0   \n",
       "\n",
       "       liver_met other_gi_met  cns_met  bone_met  lymph_met  \\\n",
       "0            0.0          0.0      0.0       1.0        0.0   \n",
       "1            0.0          0.0      0.0       0.0        0.0   \n",
       "2            0.0          0.0      0.0       1.0        0.0   \n",
       "3            0.0          0.0      0.0       0.0        0.0   \n",
       "4            0.0          0.0      0.0       1.0        0.0   \n",
       "...          ...          ...      ...       ...        ...   \n",
       "18922        0.0          0.0      0.0       1.0        0.0   \n",
       "18923        0.0          0.0      0.0       1.0        0.0   \n",
       "18924        0.0          0.0      0.0       0.0        0.0   \n",
       "18925        0.0          0.0      0.0       0.0        0.0   \n",
       "18926        0.0          0.0      0.0       0.0        0.0   \n",
       "\n",
       "       kidney_bladder_met  other_met  prim_treatment  early_adt  \n",
       "0                     0.0        0.0         unknown        0.0  \n",
       "1                     0.0        0.0       radiation        1.0  \n",
       "2                     0.0        0.0         unknown        0.0  \n",
       "3                     0.0        0.0         unknown        0.0  \n",
       "4                     0.0        0.0   prostatectomy        0.0  \n",
       "...                   ...        ...             ...        ...  \n",
       "18922                 0.0        1.0         unknown        0.0  \n",
       "18923                 0.0        0.0         unknown        1.0  \n",
       "18924                 0.0        0.0         unknown        0.0  \n",
       "18925                 0.0        0.0       radiation        1.0  \n",
       "18926                 0.0        0.0         unknown        0.0  \n",
       "\n",
       "[18884 rows x 228 columns]"
      ]
     },
     "execution_count": 6,
     "metadata": {},
     "output_type": "execute_result"
    }
   ],
   "source": [
    "df.query('cns_met == 0')"
   ]
  },
  {
   "cell_type": "markdown",
   "id": "00344fbc",
   "metadata": {},
   "source": [
    "### 1. Cardiac disease (CHF or MI) in the preceding 6 months "
   ]
  },
  {
   "cell_type": "code",
   "execution_count": 7,
   "id": "77e9d99f",
   "metadata": {},
   "outputs": [],
   "source": [
    "diagnosis = pd.read_csv('Diagnosis.csv')"
   ]
  },
  {
   "cell_type": "code",
   "execution_count": 8,
   "id": "bc1c3b32",
   "metadata": {},
   "outputs": [],
   "source": [
    "diagnosis = diagnosis[diagnosis['PatientID'].isin(df['PatientID'])]       "
   ]
  },
  {
   "cell_type": "code",
   "execution_count": 9,
   "id": "1afd3fab",
   "metadata": {},
   "outputs": [],
   "source": [
    "diagnosis.loc[:, 'DiagnosisDate'] = pd.to_datetime(diagnosis['DiagnosisDate'])"
   ]
  },
  {
   "cell_type": "code",
   "execution_count": 10,
   "id": "d08e2483",
   "metadata": {},
   "outputs": [],
   "source": [
    "enhanced_met = pd.read_csv('Enhanced_MetProstate.csv')"
   ]
  },
  {
   "cell_type": "code",
   "execution_count": 11,
   "id": "d959eae0",
   "metadata": {},
   "outputs": [],
   "source": [
    "enhanced_met.loc[:, 'MetDiagnosisDate'] = pd.to_datetime(enhanced_met['MetDiagnosisDate'])"
   ]
  },
  {
   "cell_type": "code",
   "execution_count": 12,
   "id": "f6979037",
   "metadata": {},
   "outputs": [
    {
     "data": {
      "text/plain": [
       "(605074, 18927)"
      ]
     },
     "execution_count": 12,
     "metadata": {},
     "output_type": "execute_result"
    }
   ],
   "source": [
    "row_ID(diagnosis)"
   ]
  },
  {
   "cell_type": "code",
   "execution_count": 13,
   "id": "460f691c",
   "metadata": {},
   "outputs": [],
   "source": [
    "diagnosis = pd.merge(diagnosis, enhanced_met[['PatientID', 'MetDiagnosisDate']], on = 'PatientID', how = 'left')"
   ]
  },
  {
   "cell_type": "code",
   "execution_count": 14,
   "id": "7b5326a8",
   "metadata": {},
   "outputs": [
    {
     "data": {
      "text/plain": [
       "(605074, 18927)"
      ]
     },
     "execution_count": 14,
     "metadata": {},
     "output_type": "execute_result"
    }
   ],
   "source": [
    "row_ID(diagnosis)"
   ]
  },
  {
   "cell_type": "code",
   "execution_count": 15,
   "id": "b93521db",
   "metadata": {},
   "outputs": [],
   "source": [
    "diagnosis.loc[:, 'date_diff'] = (diagnosis['DiagnosisDate'] - diagnosis['MetDiagnosisDate']).dt.days"
   ]
  },
  {
   "cell_type": "code",
   "execution_count": 16,
   "id": "3112b313",
   "metadata": {},
   "outputs": [],
   "source": [
    "diagnosis.loc[:, 'diagnosis_code'] = diagnosis['DiagnosisCode'].replace('\\.', '', regex = True)"
   ]
  },
  {
   "cell_type": "code",
   "execution_count": 17,
   "id": "f913fe94",
   "metadata": {},
   "outputs": [],
   "source": [
    "# ICD-9 dataframe with unique codes for each patient. \n",
    "diagnosis_9 = (\n",
    "    diagnosis\n",
    "    .query('date_diff <= 30 and date_diff > -365')\n",
    "    .query('DiagnosisCodeSystem == \"ICD-9-CM\"')\n",
    "    .drop_duplicates(subset = (['PatientID', 'DiagnosisCode']), keep = 'first')\n",
    "    .filter(items = ['PatientID', 'DiagnosisCode', 'diagnosis_code'])\n",
    ")"
   ]
  },
  {
   "cell_type": "code",
   "execution_count": 18,
   "id": "b759382e",
   "metadata": {},
   "outputs": [],
   "source": [
    "cardiac_9_IDs = (\n",
    "    diagnosis_9[diagnosis_9['diagnosis_code'].str.match('428|'\n",
    "                                                        '410')].PatientID.unique())"
   ]
  },
  {
   "cell_type": "code",
   "execution_count": 19,
   "id": "547ee7bf",
   "metadata": {},
   "outputs": [
    {
     "data": {
      "text/plain": [
       "15"
      ]
     },
     "execution_count": 19,
     "metadata": {},
     "output_type": "execute_result"
    }
   ],
   "source": [
    "len(cardiac_9_IDs)"
   ]
  },
  {
   "cell_type": "code",
   "execution_count": 20,
   "id": "92818b5f",
   "metadata": {},
   "outputs": [],
   "source": [
    "# ICD-9 dataframe with unique codes for each patient. \n",
    "diagnosis_10 = (\n",
    "    diagnosis\n",
    "    .query('date_diff <= 30 and date_diff > -365')\n",
    "    .query('DiagnosisCodeSystem == \"ICD-10-CM\"')\n",
    "    .drop_duplicates(subset = (['PatientID', 'DiagnosisCode']), keep = 'first')\n",
    "    .filter(items = ['PatientID', 'DiagnosisCode', 'diagnosis_code'])\n",
    ")"
   ]
  },
  {
   "cell_type": "code",
   "execution_count": 21,
   "id": "f821fe60",
   "metadata": {},
   "outputs": [],
   "source": [
    "cardiac_10_IDs = (\n",
    "    diagnosis_10[diagnosis_10['diagnosis_code'].str.match('I50|'\n",
    "                                                          'I21')].PatientID.unique())"
   ]
  },
  {
   "cell_type": "code",
   "execution_count": 22,
   "id": "81a35077",
   "metadata": {},
   "outputs": [
    {
     "data": {
      "text/plain": [
       "195"
      ]
     },
     "execution_count": 22,
     "metadata": {},
     "output_type": "execute_result"
    }
   ],
   "source": [
    "len(cardiac_10_IDs)"
   ]
  },
  {
   "cell_type": "code",
   "execution_count": 23,
   "id": "3358ec16",
   "metadata": {},
   "outputs": [],
   "source": [
    "cardiac_IDs = np.unique(np.concatenate([cardiac_9_IDs, cardiac_10_IDs]))"
   ]
  },
  {
   "cell_type": "code",
   "execution_count": 24,
   "id": "19d0c3ce",
   "metadata": {},
   "outputs": [
    {
     "data": {
      "text/plain": [
       "210"
      ]
     },
     "execution_count": 24,
     "metadata": {},
     "output_type": "execute_result"
    }
   ],
   "source": [
    "len(cardiac_IDs)"
   ]
  },
  {
   "cell_type": "markdown",
   "id": "7d6092d1",
   "metadata": {},
   "source": [
    "### 2. Viral hepatitis and chronic liver disease "
   ]
  },
  {
   "cell_type": "code",
   "execution_count": 25,
   "id": "ff5edd1d",
   "metadata": {},
   "outputs": [],
   "source": [
    "liv_9_IDs = (\n",
    "    diagnosis_9[diagnosis_9['diagnosis_code'].str.match('070|'\n",
    "                                                        '571')].PatientID.unique())"
   ]
  },
  {
   "cell_type": "code",
   "execution_count": 26,
   "id": "cd39180d",
   "metadata": {
    "scrolled": true
   },
   "outputs": [
    {
     "data": {
      "text/plain": [
       "18"
      ]
     },
     "execution_count": 26,
     "metadata": {},
     "output_type": "execute_result"
    }
   ],
   "source": [
    "len(liv_9_IDs)"
   ]
  },
  {
   "cell_type": "code",
   "execution_count": 27,
   "id": "7b79dd5d",
   "metadata": {},
   "outputs": [],
   "source": [
    "liv_10_IDs = (\n",
    "    diagnosis_10[diagnosis_10['diagnosis_code'].str.match('B1[56789]|'\n",
    "                                                          'K7[0234]')].PatientID.unique())"
   ]
  },
  {
   "cell_type": "code",
   "execution_count": 28,
   "id": "436a3de3",
   "metadata": {},
   "outputs": [
    {
     "data": {
      "text/plain": [
       "65"
      ]
     },
     "execution_count": 28,
     "metadata": {},
     "output_type": "execute_result"
    }
   ],
   "source": [
    "len(liv_10_IDs)"
   ]
  },
  {
   "cell_type": "code",
   "execution_count": 29,
   "id": "bfa47d40",
   "metadata": {},
   "outputs": [],
   "source": [
    "liv_IDs = np.unique(np.concatenate([liv_9_IDs, liv_10_IDs]))"
   ]
  },
  {
   "cell_type": "code",
   "execution_count": 30,
   "id": "30252747",
   "metadata": {},
   "outputs": [
    {
     "data": {
      "text/plain": [
       "82"
      ]
     },
     "execution_count": 30,
     "metadata": {},
     "output_type": "execute_result"
    }
   ],
   "source": [
    "len(liv_IDs)"
   ]
  },
  {
   "cell_type": "code",
   "execution_count": 31,
   "id": "e9773dc0",
   "metadata": {},
   "outputs": [],
   "source": [
    "del diagnosis\n",
    "del diagnosis_10\n",
    "del diagnosis_9\n",
    "del enhanced_met"
   ]
  },
  {
   "cell_type": "markdown",
   "id": "96cfedbe",
   "metadata": {},
   "source": [
    "## Part 2: In-silico trials "
   ]
  },
  {
   "cell_type": "markdown",
   "id": "8e631bc9",
   "metadata": {},
   "source": [
    "### Import packages and create necessary functions"
   ]
  },
  {
   "cell_type": "code",
   "execution_count": 32,
   "id": "2ee145c1",
   "metadata": {},
   "outputs": [],
   "source": [
    "import numpy as np\n",
    "import pandas as pd\n",
    "\n",
    "from scipy import stats\n",
    "\n",
    "from sksurv.nonparametric import kaplan_meier_estimator\n",
    "from survive import KaplanMeier, SurvivalData\n",
    "\n",
    "from lifelines import KaplanMeierFitter\n",
    "from lifelines.plotting import add_at_risk_counts\n",
    "from lifelines.utils import median_survival_times\n",
    "\n",
    "import matplotlib.pyplot as plt\n",
    "import matplotlib.gridspec as gridspec\n",
    "\n",
    "from sklearn.pipeline import Pipeline\n",
    "from sklearn.impute import SimpleImputer\n",
    "from sklearn.preprocessing import StandardScaler, OneHotEncoder\n",
    "from sklearn.compose import ColumnTransformer \n",
    "from sklearn.linear_model import LogisticRegression\n",
    "\n",
    "from matplotlib.lines import Line2D   "
   ]
  },
  {
   "cell_type": "code",
   "execution_count": 33,
   "id": "29793fb2",
   "metadata": {},
   "outputs": [],
   "source": [
    "# Function that returns number of rows and count of unique PatientIDs for a dataframe. \n",
    "def row_ID(dataframe):\n",
    "    row = dataframe.shape[0]\n",
    "    ID = dataframe['PatientID'].nunique()\n",
    "    return row, ID"
   ]
  },
  {
   "cell_type": "code",
   "execution_count": 34,
   "id": "4db8da4f",
   "metadata": {},
   "outputs": [],
   "source": [
    "# Find index for value closest to input value. \n",
    "def find_nearest(array, value):\n",
    "    array = np.asarray(array)\n",
    "    idx = (np.abs(array - value)).argmin()\n",
    "    return array[idx]"
   ]
  },
  {
   "cell_type": "code",
   "execution_count": 35,
   "id": "65170908",
   "metadata": {},
   "outputs": [],
   "source": [
    "# Calculates probability of survival at time t-months for risk groups. \n",
    "def psurv_t(low, med, high, t):\n",
    "    low_t = low.survival_function_at_times(find_nearest(low.timeline, t)).values[0]*100\n",
    "    med_t = med.survival_function_at_times(find_nearest(med.timeline, t)).values[0]*100\n",
    "    high_t = high.survival_function_at_times(find_nearest(high.timeline, t)).values[0]*100\n",
    "    pos_t = [low_t, med_t, high_t]\n",
    "    return (pos_t)"
   ]
  },
  {
   "cell_type": "code",
   "execution_count": 36,
   "id": "5eb8517d",
   "metadata": {},
   "outputs": [],
   "source": [
    "# Calculates median overeall suvival for risk groups. \n",
    "def mos(low, med, high, comp):\n",
    "    low_os = low.median_survival_time_\n",
    "    med_os = med.median_survival_time_\n",
    "    high_os = high.median_survival_time_\n",
    "    comp_os = comp.median_survival_time_\n",
    "    mos = [low_os, med_os, high_os, comp_os]\n",
    "    return (mos)"
   ]
  },
  {
   "cell_type": "code",
   "execution_count": 37,
   "id": "402206b7",
   "metadata": {},
   "outputs": [],
   "source": [
    "# Calculates upper and lower 95% CI for median overall survival. \n",
    "def mos_ci(kmf):\n",
    "    kmf_mos_low = (\n",
    "        kmf.confidence_interval_[['KM_estimate_lower_0.95']]\n",
    "        [kmf.confidence_interval_[['KM_estimate_lower_0.95']] == find_nearest(kmf.confidence_interval_['KM_estimate_lower_0.95'], 0.5)]\n",
    "        .idxmin()[0])\n",
    "\n",
    "    kmf_mos_up = (\n",
    "        kmf.confidence_interval_[['KM_estimate_upper_0.95']]\n",
    "        [kmf.confidence_interval_[['KM_estimate_upper_0.95']] == find_nearest(kmf.confidence_interval_['KM_estimate_upper_0.95'], 0.5)]\n",
    "        .idxmin()[0])\n",
    "    \n",
    "    mos_ci = [kmf_mos_low, kmf_mos_up]\n",
    "    return (mos_ci)"
   ]
  },
  {
   "cell_type": "code",
   "execution_count": 38,
   "id": "f280ad3b",
   "metadata": {},
   "outputs": [],
   "source": [
    "# Calculates upper and lower 95% CI for probability of survival at time t. \n",
    "def psurv_ci(kmf, t):\n",
    "    kmf_psurv_ci_low = (\n",
    "        kmf.confidence_interval_.loc[find_nearest(kmf.confidence_interval_.index, t)][0]*100)\n",
    "\n",
    "    kmf_psurv_ci_up = (\n",
    "        kmf.confidence_interval_.loc[find_nearest(kmf.confidence_interval_.index, t)][1]*100)\n",
    "    \n",
    "    psurv_ci = [kmf_psurv_ci_low, kmf_psurv_ci_up]\n",
    "    return (psurv_ci)"
   ]
  },
  {
   "cell_type": "code",
   "execution_count": 39,
   "id": "b2fb34f8",
   "metadata": {},
   "outputs": [],
   "source": [
    "# Calculate median overall survival or psurv error. \n",
    "def y_error(low_ci, med_ci, high_ci, surv_metric):\n",
    "    error = [np.array([surv_metric[0] - low_ci[0],\n",
    "                       surv_metric[1]- med_ci[0],\n",
    "                       surv_metric[2] - high_ci[0]]),\n",
    "               np.array([low_ci[1] - surv_metric[0],\n",
    "                         med_ci[1] - surv_metric[1],\n",
    "                         high_ci[1] - surv_metric[2]])]\n",
    "    return(error)"
   ]
  },
  {
   "cell_type": "code",
   "execution_count": 40,
   "id": "f0a5016a",
   "metadata": {},
   "outputs": [],
   "source": [
    "# Cutoff decimlas to length n. \n",
    "def truncate(n, decimals = 0):\n",
    "    multiplier = 10 ** decimals\n",
    "    return int(n * multiplier) / multiplier"
   ]
  },
  {
   "cell_type": "code",
   "execution_count": 41,
   "id": "cacb3475",
   "metadata": {},
   "outputs": [],
   "source": [
    "cutoff = pd.read_csv('risk_cutoff_prostate.csv', index_col = 0)"
   ]
  },
  {
   "cell_type": "markdown",
   "id": "37bb621b",
   "metadata": {},
   "source": [
    "### CHAARTED: docetaxel vs. ADT in metastatic, castration-sensitive prostate cancer  \n",
    "\n",
    "**INCLUSION**\n",
    "* Untreated metastatic prostate cancer, except up to 4 months of ADT \n",
    "* Castration-sensitive\n",
    "* Received ADT or docetaxel plus ADT\n",
    "* No active cardiac disease in the year preceding metastatic diagnosis \n",
    "* ECOG is not 3 or 4 at time of metastatic diagnosis \n",
    "* Adequate organ function at time of mestastatic diagnosis  "
   ]
  },
  {
   "cell_type": "markdown",
   "id": "ef7b54fb",
   "metadata": {},
   "source": [
    "#### ADT"
   ]
  },
  {
   "cell_type": "code",
   "execution_count": 42,
   "id": "6d3b5c2a",
   "metadata": {},
   "outputs": [
    {
     "data": {
      "text/plain": [
       "(18927, 18927)"
      ]
     },
     "execution_count": 42,
     "metadata": {},
     "output_type": "execute_result"
    }
   ],
   "source": [
    "df_full = pd.read_csv('df_risk_crude.csv', dtype = {'death_status': bool})\n",
    "row_ID(df_full)"
   ]
  },
  {
   "cell_type": "code",
   "execution_count": 43,
   "id": "cfc56367",
   "metadata": {},
   "outputs": [],
   "source": [
    "adt = pd.read_csv('Enhanced_MetPC_ADT.csv')"
   ]
  },
  {
   "cell_type": "code",
   "execution_count": 44,
   "id": "90f88368",
   "metadata": {},
   "outputs": [],
   "source": [
    "adt = (\n",
    "    adt[adt['PatientID'].isin(df_full['PatientID'])]\n",
    "    .query('TreatmentSetting == \"Advanced\"')\n",
    ")"
   ]
  },
  {
   "cell_type": "code",
   "execution_count": 45,
   "id": "8c361859",
   "metadata": {},
   "outputs": [
    {
     "data": {
      "text/plain": [
       "(17863, 17863)"
      ]
     },
     "execution_count": 45,
     "metadata": {},
     "output_type": "execute_result"
    }
   ],
   "source": [
    "row_ID(adt)"
   ]
  },
  {
   "cell_type": "code",
   "execution_count": 46,
   "id": "d44324c0",
   "metadata": {},
   "outputs": [],
   "source": [
    "adt.loc[:, 'StartDate'] = pd.to_datetime(adt['StartDate'])"
   ]
  },
  {
   "cell_type": "code",
   "execution_count": 47,
   "id": "73b9880e",
   "metadata": {},
   "outputs": [],
   "source": [
    "adt = adt.rename(columns = {'StartDate': 'StartDate_adt'})"
   ]
  },
  {
   "cell_type": "code",
   "execution_count": 48,
   "id": "06ee02f9",
   "metadata": {},
   "outputs": [],
   "source": [
    "df_full = pd.merge(df_full, adt[['PatientID', 'StartDate_adt']], on = 'PatientID', how = 'outer')"
   ]
  },
  {
   "cell_type": "code",
   "execution_count": 49,
   "id": "0bcb59d2",
   "metadata": {},
   "outputs": [
    {
     "data": {
      "text/plain": [
       "(18927, 18927)"
      ]
     },
     "execution_count": 49,
     "metadata": {},
     "output_type": "execute_result"
    }
   ],
   "source": [
    "row_ID(df_full)"
   ]
  },
  {
   "cell_type": "code",
   "execution_count": 50,
   "id": "5422ba1c",
   "metadata": {},
   "outputs": [],
   "source": [
    "enhanced_met = pd.read_csv('Enhanced_MetProstate.csv')"
   ]
  },
  {
   "cell_type": "code",
   "execution_count": 51,
   "id": "15ab9fae",
   "metadata": {},
   "outputs": [],
   "source": [
    "enhanced_met = enhanced_met[enhanced_met['PatientID'].isin(df_full['PatientID'])]"
   ]
  },
  {
   "cell_type": "code",
   "execution_count": 52,
   "id": "2e4fd951",
   "metadata": {},
   "outputs": [],
   "source": [
    "enhanced_met.loc[:, 'MetDiagnosisDate'] = pd.to_datetime(enhanced_met['MetDiagnosisDate'])"
   ]
  },
  {
   "cell_type": "code",
   "execution_count": 53,
   "id": "6de1060b",
   "metadata": {},
   "outputs": [],
   "source": [
    "enhanced_met.loc[:, 'CRPCDate'] = pd.to_datetime(enhanced_met['CRPCDate'])"
   ]
  },
  {
   "cell_type": "code",
   "execution_count": 54,
   "id": "919f9006",
   "metadata": {},
   "outputs": [],
   "source": [
    "df_full = pd.merge(df_full, enhanced_met[['PatientID', 'MetDiagnosisDate', 'CRPCDate']], on = 'PatientID')"
   ]
  },
  {
   "cell_type": "code",
   "execution_count": 55,
   "id": "818ac192",
   "metadata": {},
   "outputs": [
    {
     "data": {
      "text/plain": [
       "(18927, 18927)"
      ]
     },
     "execution_count": 55,
     "metadata": {},
     "output_type": "execute_result"
    }
   ],
   "source": [
    "row_ID(df_full)"
   ]
  },
  {
   "cell_type": "code",
   "execution_count": 56,
   "id": "197895f5",
   "metadata": {},
   "outputs": [],
   "source": [
    "# Find all that start ADT within -120 to +90 days of metastatic diagnosis \n",
    "chaarted_adt = (\n",
    "    df_full\n",
    "    .assign(adt_diff = (df_full['StartDate_adt'] - df_full['MetDiagnosisDate']).dt.days)\n",
    "    .query('adt_diff >= -120 and adt_diff <= 90')\n",
    ")"
   ]
  },
  {
   "cell_type": "code",
   "execution_count": 57,
   "id": "6280cf96",
   "metadata": {},
   "outputs": [],
   "source": [
    "# Find all that have missing CPRC date or date is >90 after metastatic diagnosis \n",
    "chaarted_adt = (\n",
    "    chaarted_adt\n",
    "    .assign(crpc_diff = (chaarted_adt['CRPCDate'] - chaarted_adt['MetDiagnosisDate']).dt.days)\n",
    "    .query('crpc_diff > 90 or CRPCDate.isna()', engine = 'python')\n",
    ")"
   ]
  },
  {
   "cell_type": "code",
   "execution_count": 58,
   "id": "f93caff4",
   "metadata": {},
   "outputs": [
    {
     "data": {
      "text/plain": [
       "(10475, 10475)"
      ]
     },
     "execution_count": 58,
     "metadata": {},
     "output_type": "execute_result"
    }
   ],
   "source": [
    "row_ID(chaarted_adt)"
   ]
  },
  {
   "cell_type": "code",
   "execution_count": 59,
   "id": "ff0c18b2",
   "metadata": {},
   "outputs": [],
   "source": [
    "line_therapy = pd.read_csv('LineOfTherapy.csv')"
   ]
  },
  {
   "cell_type": "code",
   "execution_count": 60,
   "id": "a5dec26f",
   "metadata": {},
   "outputs": [],
   "source": [
    "zero = (\n",
    "    line_therapy.query('LineNumber == 0')\n",
    "    .PatientID\n",
    ")"
   ]
  },
  {
   "cell_type": "code",
   "execution_count": 61,
   "id": "d301bffb",
   "metadata": {},
   "outputs": [],
   "source": [
    "# Exclude patients with missing treatment information (ie, LineNumber == 0)\n",
    "chaarted_adt = chaarted_adt[~chaarted_adt.PatientID.isin(zero)]"
   ]
  },
  {
   "cell_type": "code",
   "execution_count": 62,
   "id": "653fdd4b",
   "metadata": {},
   "outputs": [
    {
     "data": {
      "text/plain": [
       "(10117, 10117)"
      ]
     },
     "execution_count": 62,
     "metadata": {},
     "output_type": "execute_result"
    }
   ],
   "source": [
    "row_ID(chaarted_adt)"
   ]
  },
  {
   "cell_type": "code",
   "execution_count": 63,
   "id": "4e125c36",
   "metadata": {},
   "outputs": [],
   "source": [
    "line_therapy = line_therapy.query('LineSetting != \"nmCRPC\"')"
   ]
  },
  {
   "cell_type": "code",
   "execution_count": 64,
   "id": "5d33b278",
   "metadata": {},
   "outputs": [],
   "source": [
    "# List of FDA approved drugs for mPC as of July 2023. Clinical study drug is also included. \n",
    "fda_yes = [\n",
    "    'Abiraterone',\n",
    "    'Apalutamide',\n",
    "    'Cabazitaxel',\n",
    "    'Carboplatin',\n",
    "    'Cisplatin',\n",
    "    'Darolutamide',\n",
    "    'Docetaxel',\n",
    "    'Enzalutamide',\n",
    "    'Mitoxantrone',\n",
    "    'Olaparib',\n",
    "    'Oxaliplatin',\n",
    "    'Paclitaxel',\n",
    "    'Pembrolizumab',\n",
    "    'Radium-223',\n",
    "    'Rucaparib',\n",
    "    'Sipuleucel-T',\n",
    "    'Clinical Study Drug'\n",
    "]"
   ]
  },
  {
   "cell_type": "code",
   "execution_count": 65,
   "id": "dd3ab283",
   "metadata": {},
   "outputs": [],
   "source": [
    "line_therapy = line_therapy[line_therapy['LineName'].str.contains('|'.join(fda_yes))]"
   ]
  },
  {
   "cell_type": "code",
   "execution_count": 66,
   "id": "e5ced3c1",
   "metadata": {},
   "outputs": [],
   "source": [
    "line_therapy = (\n",
    "    line_therapy\n",
    "    .sort_values(by = ['PatientID', 'StartDate'], ascending = [True, True])\n",
    ")"
   ]
  },
  {
   "cell_type": "code",
   "execution_count": 67,
   "id": "e8ce1a50",
   "metadata": {},
   "outputs": [],
   "source": [
    "line_therapy['line_number'] = (\n",
    "    line_therapy.groupby('PatientID')['LineNumber'].cumcount()+1\n",
    ")"
   ]
  },
  {
   "cell_type": "code",
   "execution_count": 68,
   "id": "af8cb1b6",
   "metadata": {},
   "outputs": [],
   "source": [
    "# First line therapy is in castrate-resistant setting \n",
    "fl_crpc = (\n",
    "    line_therapy[line_therapy.PatientID.isin(chaarted_adt.PatientID)]\n",
    "    .query('line_number == 1 & LineSetting == \"mCRPC\"')\n",
    "    .PatientID\n",
    ")"
   ]
  },
  {
   "cell_type": "code",
   "execution_count": 69,
   "id": "e7b86d86",
   "metadata": {},
   "outputs": [],
   "source": [
    "# Never received therapy other than ADT\n",
    "notrt_adt = (\n",
    "    chaarted_adt[~chaarted_adt.PatientID.isin(line_therapy.PatientID)]\n",
    "    .PatientID\n",
    ")"
   ]
  },
  {
   "cell_type": "code",
   "execution_count": 70,
   "id": "320d3f77",
   "metadata": {},
   "outputs": [],
   "source": [
    "adt_IDs = np.concatenate((fl_crpc, notrt_adt))"
   ]
  },
  {
   "cell_type": "code",
   "execution_count": 71,
   "id": "020ecb8d",
   "metadata": {},
   "outputs": [
    {
     "data": {
      "text/plain": [
       "6218"
      ]
     },
     "execution_count": 71,
     "metadata": {},
     "output_type": "execute_result"
    }
   ],
   "source": [
    "len(adt_IDs)"
   ]
  },
  {
   "cell_type": "code",
   "execution_count": 72,
   "id": "e0645767",
   "metadata": {},
   "outputs": [],
   "source": [
    "chaarted_adt = chaarted_adt[chaarted_adt.PatientID.isin(adt_IDs)]"
   ]
  },
  {
   "cell_type": "code",
   "execution_count": 73,
   "id": "ce0897d0",
   "metadata": {},
   "outputs": [],
   "source": [
    "chaarted_adt.loc[:,'adt_dotx'] = 0"
   ]
  },
  {
   "cell_type": "code",
   "execution_count": 74,
   "id": "54d318c4",
   "metadata": {},
   "outputs": [
    {
     "data": {
      "text/plain": [
       "(6218, 6218)"
      ]
     },
     "execution_count": 74,
     "metadata": {},
     "output_type": "execute_result"
    }
   ],
   "source": [
    "row_ID(chaarted_adt)"
   ]
  },
  {
   "cell_type": "code",
   "execution_count": 75,
   "id": "d1b22536",
   "metadata": {
    "scrolled": true
   },
   "outputs": [
    {
     "data": {
      "text/html": [
       "<div>\n",
       "<style scoped>\n",
       "    .dataframe tbody tr th:only-of-type {\n",
       "        vertical-align: middle;\n",
       "    }\n",
       "\n",
       "    .dataframe tbody tr th {\n",
       "        vertical-align: top;\n",
       "    }\n",
       "\n",
       "    .dataframe thead th {\n",
       "        text-align: right;\n",
       "    }\n",
       "</style>\n",
       "<table border=\"1\" class=\"dataframe\">\n",
       "  <thead>\n",
       "    <tr style=\"text-align: right;\">\n",
       "      <th></th>\n",
       "      <th>PatientID</th>\n",
       "      <th>Gender</th>\n",
       "      <th>race</th>\n",
       "      <th>ethnicity</th>\n",
       "      <th>age</th>\n",
       "      <th>p_type</th>\n",
       "      <th>NStage</th>\n",
       "      <th>MStage</th>\n",
       "      <th>Histology</th>\n",
       "      <th>GleasonScore</th>\n",
       "      <th>...</th>\n",
       "      <th>other_met</th>\n",
       "      <th>prim_treatment</th>\n",
       "      <th>early_adt</th>\n",
       "      <th>risk_score</th>\n",
       "      <th>StartDate_adt</th>\n",
       "      <th>MetDiagnosisDate</th>\n",
       "      <th>CRPCDate</th>\n",
       "      <th>adt_diff</th>\n",
       "      <th>crpc_diff</th>\n",
       "      <th>adt_dotx</th>\n",
       "    </tr>\n",
       "  </thead>\n",
       "  <tbody>\n",
       "    <tr>\n",
       "      <th>3166</th>\n",
       "      <td>F7E88633B0316</td>\n",
       "      <td>M</td>\n",
       "      <td>white</td>\n",
       "      <td>unknown</td>\n",
       "      <td>81</td>\n",
       "      <td>COMMUNITY</td>\n",
       "      <td>Unknown / Not documented</td>\n",
       "      <td>M1</td>\n",
       "      <td>Adenocarcinoma</td>\n",
       "      <td>9</td>\n",
       "      <td>...</td>\n",
       "      <td>0.0</td>\n",
       "      <td>unknown</td>\n",
       "      <td>0.0</td>\n",
       "      <td>0.121093</td>\n",
       "      <td>2018-07-05</td>\n",
       "      <td>2018-06-04</td>\n",
       "      <td>2019-04-25</td>\n",
       "      <td>31.0</td>\n",
       "      <td>325.0</td>\n",
       "      <td>0</td>\n",
       "    </tr>\n",
       "    <tr>\n",
       "      <th>11090</th>\n",
       "      <td>F2675CDD022CC</td>\n",
       "      <td>M</td>\n",
       "      <td>white</td>\n",
       "      <td>unknown</td>\n",
       "      <td>54</td>\n",
       "      <td>COMMUNITY</td>\n",
       "      <td>Unknown / Not documented</td>\n",
       "      <td>M1</td>\n",
       "      <td>Adenocarcinoma</td>\n",
       "      <td>9</td>\n",
       "      <td>...</td>\n",
       "      <td>0.0</td>\n",
       "      <td>unknown</td>\n",
       "      <td>0.0</td>\n",
       "      <td>-0.417604</td>\n",
       "      <td>2015-12-01</td>\n",
       "      <td>2015-11-13</td>\n",
       "      <td>2018-01-30</td>\n",
       "      <td>18.0</td>\n",
       "      <td>809.0</td>\n",
       "      <td>0</td>\n",
       "    </tr>\n",
       "    <tr>\n",
       "      <th>13824</th>\n",
       "      <td>FC6FD0ACEC777</td>\n",
       "      <td>M</td>\n",
       "      <td>white</td>\n",
       "      <td>unknown</td>\n",
       "      <td>62</td>\n",
       "      <td>COMMUNITY</td>\n",
       "      <td>Unknown / Not documented</td>\n",
       "      <td>M0</td>\n",
       "      <td>Adenocarcinoma</td>\n",
       "      <td>9</td>\n",
       "      <td>...</td>\n",
       "      <td>0.0</td>\n",
       "      <td>radiation</td>\n",
       "      <td>1.0</td>\n",
       "      <td>-0.623083</td>\n",
       "      <td>2018-05-29</td>\n",
       "      <td>2018-05-29</td>\n",
       "      <td>NaT</td>\n",
       "      <td>0.0</td>\n",
       "      <td>NaN</td>\n",
       "      <td>0</td>\n",
       "    </tr>\n",
       "  </tbody>\n",
       "</table>\n",
       "<p>3 rows × 235 columns</p>\n",
       "</div>"
      ],
      "text/plain": [
       "           PatientID Gender   race ethnicity  age     p_type  \\\n",
       "3166   F7E88633B0316      M  white   unknown   81  COMMUNITY   \n",
       "11090  F2675CDD022CC      M  white   unknown   54  COMMUNITY   \n",
       "13824  FC6FD0ACEC777      M  white   unknown   62  COMMUNITY   \n",
       "\n",
       "                         NStage MStage       Histology GleasonScore  ...  \\\n",
       "3166   Unknown / Not documented     M1  Adenocarcinoma            9  ...   \n",
       "11090  Unknown / Not documented     M1  Adenocarcinoma            9  ...   \n",
       "13824  Unknown / Not documented     M0  Adenocarcinoma            9  ...   \n",
       "\n",
       "       other_met  prim_treatment early_adt  risk_score  StartDate_adt  \\\n",
       "3166         0.0         unknown       0.0    0.121093     2018-07-05   \n",
       "11090        0.0         unknown       0.0   -0.417604     2015-12-01   \n",
       "13824        0.0       radiation       1.0   -0.623083     2018-05-29   \n",
       "\n",
       "       MetDiagnosisDate   CRPCDate  adt_diff  crpc_diff  adt_dotx  \n",
       "3166         2018-06-04 2019-04-25      31.0      325.0         0  \n",
       "11090        2015-11-13 2018-01-30      18.0      809.0         0  \n",
       "13824        2018-05-29        NaT       0.0        NaN         0  \n",
       "\n",
       "[3 rows x 235 columns]"
      ]
     },
     "execution_count": 75,
     "metadata": {},
     "output_type": "execute_result"
    }
   ],
   "source": [
    "chaarted_adt.sample(3)"
   ]
  },
  {
   "cell_type": "markdown",
   "id": "4341ba11",
   "metadata": {},
   "source": [
    "#### Docetaxel + ADT"
   ]
  },
  {
   "cell_type": "code",
   "execution_count": 76,
   "id": "ba2091bc",
   "metadata": {},
   "outputs": [],
   "source": [
    "# Find those that start ADT within -90 to 90 days of metastaic diagnosis \n",
    "chaarted_dotx = (\n",
    "    df_full\n",
    "    .assign(adt_diff = (df_full['StartDate_adt'] - df_full['MetDiagnosisDate']).dt.days)\n",
    "    .query('adt_diff >= -120 and adt_diff <= 90')\n",
    ")"
   ]
  },
  {
   "cell_type": "code",
   "execution_count": 77,
   "id": "c456f587",
   "metadata": {},
   "outputs": [],
   "source": [
    "# Find all that have missing CPRC date or date is >90 days metastatic diagnosis \n",
    "chaarted_dotx = (\n",
    "    chaarted_dotx\n",
    "    .assign(crpc_diff = (chaarted_dotx['CRPCDate'] - chaarted_dotx['MetDiagnosisDate']).dt.days)\n",
    "    .query('crpc_diff > 90 or CRPCDate.isna()', engine = 'python')\n",
    ")"
   ]
  },
  {
   "cell_type": "code",
   "execution_count": 78,
   "id": "aa393c04",
   "metadata": {},
   "outputs": [
    {
     "data": {
      "text/plain": [
       "(10475, 10475)"
      ]
     },
     "execution_count": 78,
     "metadata": {},
     "output_type": "execute_result"
    }
   ],
   "source": [
    "row_ID(chaarted_dotx)"
   ]
  },
  {
   "cell_type": "code",
   "execution_count": 79,
   "id": "e84cfb70",
   "metadata": {},
   "outputs": [],
   "source": [
    "line_therapy = pd.read_csv('LineOfTherapy.csv')"
   ]
  },
  {
   "cell_type": "code",
   "execution_count": 80,
   "id": "80575d06",
   "metadata": {},
   "outputs": [],
   "source": [
    "# Find start time of first line of mHSPC therapy. \n",
    "line_therapy_fl = (\n",
    "    line_therapy[line_therapy['PatientID'].isin(chaarted_dotx['PatientID'])]\n",
    "    .query('LineSetting == \"mHSPC\"')\n",
    "    .sort_values(by = ['PatientID', 'StartDate'], ascending = [True, True])\n",
    "    .drop_duplicates(subset = ['PatientID'], keep = 'first')\n",
    "    .rename(columns = {'StartDate': 'StartDate_dotx'})\n",
    ")"
   ]
  },
  {
   "cell_type": "code",
   "execution_count": 81,
   "id": "51f98d17",
   "metadata": {},
   "outputs": [
    {
     "data": {
      "text/plain": [
       "(4042, 4042)"
      ]
     },
     "execution_count": 81,
     "metadata": {},
     "output_type": "execute_result"
    }
   ],
   "source": [
    "row_ID(line_therapy_fl)"
   ]
  },
  {
   "cell_type": "code",
   "execution_count": 82,
   "id": "8ed39470",
   "metadata": {},
   "outputs": [],
   "source": [
    "line_therapy_fl.loc[:, 'StartDate_dotx'] = pd.to_datetime(line_therapy_fl['StartDate_dotx'])"
   ]
  },
  {
   "cell_type": "code",
   "execution_count": 83,
   "id": "c599e642",
   "metadata": {},
   "outputs": [
    {
     "data": {
      "text/plain": [
       "Docetaxel                                         1363\n",
       "Abiraterone,Docetaxel                               27\n",
       "Carboplatin,Docetaxel                               12\n",
       "Clinical Study Drug,Docetaxel                       11\n",
       "Darolutamide,Docetaxel                               9\n",
       "Docetaxel,Enzalutamide                               6\n",
       "Carboplatin,Docetaxel,Estramustine                   5\n",
       "Docetaxel,Ketoconazole                               3\n",
       "Apalutamide,Docetaxel                                2\n",
       "Carboplatin,Docetaxel,Estramustine,Thalidomide       2\n",
       "Name: LineName, dtype: int64"
      ]
     },
     "execution_count": 83,
     "metadata": {},
     "output_type": "execute_result"
    }
   ],
   "source": [
    "line_therapy_fl[line_therapy_fl['LineName'].str.contains('Docetaxel')].LineName.value_counts().head(10)"
   ]
  },
  {
   "cell_type": "code",
   "execution_count": 84,
   "id": "5d329517",
   "metadata": {},
   "outputs": [],
   "source": [
    "line_dotx = line_therapy_fl.query('LineName == \"Docetaxel\"')"
   ]
  },
  {
   "cell_type": "code",
   "execution_count": 85,
   "id": "ef573b92",
   "metadata": {},
   "outputs": [
    {
     "data": {
      "text/plain": [
       "(1363, 1363)"
      ]
     },
     "execution_count": 85,
     "metadata": {},
     "output_type": "execute_result"
    }
   ],
   "source": [
    "row_ID(line_dotx)"
   ]
  },
  {
   "cell_type": "code",
   "execution_count": 86,
   "id": "dadef9df",
   "metadata": {},
   "outputs": [],
   "source": [
    "chaarted_dotx = pd.merge(chaarted_dotx, line_dotx[['PatientID', 'StartDate_dotx']], on = 'PatientID', how = 'inner')"
   ]
  },
  {
   "cell_type": "code",
   "execution_count": 87,
   "id": "5b0f304a",
   "metadata": {},
   "outputs": [
    {
     "data": {
      "text/plain": [
       "(1363, 1363)"
      ]
     },
     "execution_count": 87,
     "metadata": {},
     "output_type": "execute_result"
    }
   ],
   "source": [
    "row_ID(chaarted_dotx)"
   ]
  },
  {
   "cell_type": "code",
   "execution_count": 88,
   "id": "9fd76f55",
   "metadata": {},
   "outputs": [],
   "source": [
    "# Find all patients that start enzalutamide within 180 days of metastatic diagnosis\n",
    "chaarted_dotx = (\n",
    "    chaarted_dotx\n",
    "    .assign(fl_diff = (chaarted_dotx['StartDate_dotx'] - chaarted_dotx['StartDate_adt']).dt.days)\n",
    "    .query('fl_diff >= -90 and fl_diff <= 90')\n",
    ")"
   ]
  },
  {
   "cell_type": "code",
   "execution_count": 89,
   "id": "41f647df",
   "metadata": {},
   "outputs": [
    {
     "data": {
      "text/plain": [
       "1179"
      ]
     },
     "execution_count": 89,
     "metadata": {},
     "output_type": "execute_result"
    }
   ],
   "source": [
    "len(chaarted_dotx)"
   ]
  },
  {
   "cell_type": "code",
   "execution_count": 90,
   "id": "d1bdde8f",
   "metadata": {},
   "outputs": [
    {
     "data": {
      "text/html": [
       "<div>\n",
       "<style scoped>\n",
       "    .dataframe tbody tr th:only-of-type {\n",
       "        vertical-align: middle;\n",
       "    }\n",
       "\n",
       "    .dataframe tbody tr th {\n",
       "        vertical-align: top;\n",
       "    }\n",
       "\n",
       "    .dataframe thead th {\n",
       "        text-align: right;\n",
       "    }\n",
       "</style>\n",
       "<table border=\"1\" class=\"dataframe\">\n",
       "  <thead>\n",
       "    <tr style=\"text-align: right;\">\n",
       "      <th></th>\n",
       "      <th>PatientID</th>\n",
       "      <th>Gender</th>\n",
       "      <th>race</th>\n",
       "      <th>ethnicity</th>\n",
       "      <th>age</th>\n",
       "      <th>p_type</th>\n",
       "      <th>NStage</th>\n",
       "      <th>MStage</th>\n",
       "      <th>Histology</th>\n",
       "      <th>GleasonScore</th>\n",
       "      <th>...</th>\n",
       "      <th>prim_treatment</th>\n",
       "      <th>early_adt</th>\n",
       "      <th>risk_score</th>\n",
       "      <th>StartDate_adt</th>\n",
       "      <th>MetDiagnosisDate</th>\n",
       "      <th>CRPCDate</th>\n",
       "      <th>adt_diff</th>\n",
       "      <th>crpc_diff</th>\n",
       "      <th>StartDate_dotx</th>\n",
       "      <th>fl_diff</th>\n",
       "    </tr>\n",
       "  </thead>\n",
       "  <tbody>\n",
       "    <tr>\n",
       "      <th>207</th>\n",
       "      <td>F18862629AB7F</td>\n",
       "      <td>M</td>\n",
       "      <td>white</td>\n",
       "      <td>unknown</td>\n",
       "      <td>66</td>\n",
       "      <td>COMMUNITY</td>\n",
       "      <td>Unknown / Not documented</td>\n",
       "      <td>Unknown / Not documented</td>\n",
       "      <td>Adenocarcinoma</td>\n",
       "      <td>Unknown / Not documented</td>\n",
       "      <td>...</td>\n",
       "      <td>radiation</td>\n",
       "      <td>0.0</td>\n",
       "      <td>-0.009614</td>\n",
       "      <td>2019-12-10</td>\n",
       "      <td>2019-10-01</td>\n",
       "      <td>NaT</td>\n",
       "      <td>70.0</td>\n",
       "      <td>NaN</td>\n",
       "      <td>2020-01-22</td>\n",
       "      <td>43</td>\n",
       "    </tr>\n",
       "    <tr>\n",
       "      <th>1091</th>\n",
       "      <td>F7EAD1093E70F</td>\n",
       "      <td>M</td>\n",
       "      <td>white</td>\n",
       "      <td>unknown</td>\n",
       "      <td>61</td>\n",
       "      <td>COMMUNITY</td>\n",
       "      <td>NX</td>\n",
       "      <td>M1b</td>\n",
       "      <td>Adenocarcinoma</td>\n",
       "      <td>9</td>\n",
       "      <td>...</td>\n",
       "      <td>unknown</td>\n",
       "      <td>0.0</td>\n",
       "      <td>1.258896</td>\n",
       "      <td>2022-05-24</td>\n",
       "      <td>2022-03-14</td>\n",
       "      <td>NaT</td>\n",
       "      <td>71.0</td>\n",
       "      <td>NaN</td>\n",
       "      <td>2022-08-09</td>\n",
       "      <td>77</td>\n",
       "    </tr>\n",
       "    <tr>\n",
       "      <th>607</th>\n",
       "      <td>F8AAAFBC48623</td>\n",
       "      <td>M</td>\n",
       "      <td>other</td>\n",
       "      <td>unknown</td>\n",
       "      <td>66</td>\n",
       "      <td>COMMUNITY</td>\n",
       "      <td>N1</td>\n",
       "      <td>M1c</td>\n",
       "      <td>Adenocarcinoma</td>\n",
       "      <td>Unknown / Not documented</td>\n",
       "      <td>...</td>\n",
       "      <td>unknown</td>\n",
       "      <td>0.0</td>\n",
       "      <td>-0.850965</td>\n",
       "      <td>2017-04-13</td>\n",
       "      <td>2017-02-21</td>\n",
       "      <td>NaT</td>\n",
       "      <td>51.0</td>\n",
       "      <td>NaN</td>\n",
       "      <td>2017-04-13</td>\n",
       "      <td>0</td>\n",
       "    </tr>\n",
       "  </tbody>\n",
       "</table>\n",
       "<p>3 rows × 236 columns</p>\n",
       "</div>"
      ],
      "text/plain": [
       "          PatientID Gender   race ethnicity  age     p_type  \\\n",
       "207   F18862629AB7F      M  white   unknown   66  COMMUNITY   \n",
       "1091  F7EAD1093E70F      M  white   unknown   61  COMMUNITY   \n",
       "607   F8AAAFBC48623      M  other   unknown   66  COMMUNITY   \n",
       "\n",
       "                        NStage                    MStage       Histology  \\\n",
       "207   Unknown / Not documented  Unknown / Not documented  Adenocarcinoma   \n",
       "1091                        NX                       M1b  Adenocarcinoma   \n",
       "607                         N1                       M1c  Adenocarcinoma   \n",
       "\n",
       "                  GleasonScore  ...  prim_treatment  early_adt risk_score  \\\n",
       "207   Unknown / Not documented  ...       radiation        0.0  -0.009614   \n",
       "1091                         9  ...         unknown        0.0   1.258896   \n",
       "607   Unknown / Not documented  ...         unknown        0.0  -0.850965   \n",
       "\n",
       "      StartDate_adt  MetDiagnosisDate  CRPCDate  adt_diff  crpc_diff  \\\n",
       "207      2019-12-10        2019-10-01       NaT      70.0        NaN   \n",
       "1091     2022-05-24        2022-03-14       NaT      71.0        NaN   \n",
       "607      2017-04-13        2017-02-21       NaT      51.0        NaN   \n",
       "\n",
       "      StartDate_dotx  fl_diff  \n",
       "207       2020-01-22       43  \n",
       "1091      2022-08-09       77  \n",
       "607       2017-04-13        0  \n",
       "\n",
       "[3 rows x 236 columns]"
      ]
     },
     "execution_count": 90,
     "metadata": {},
     "output_type": "execute_result"
    }
   ],
   "source": [
    "chaarted_dotx.sample(3)"
   ]
  },
  {
   "cell_type": "code",
   "execution_count": 91,
   "id": "41c83ef1",
   "metadata": {},
   "outputs": [],
   "source": [
    "chaarted_dotx.loc[:,'adt_dotx'] = 1"
   ]
  },
  {
   "cell_type": "code",
   "execution_count": 92,
   "id": "e463bc01",
   "metadata": {},
   "outputs": [],
   "source": [
    "chaarted = pd.concat([chaarted_adt, chaarted_dotx], ignore_index = True)"
   ]
  },
  {
   "cell_type": "code",
   "execution_count": 93,
   "id": "a7648d31",
   "metadata": {},
   "outputs": [
    {
     "data": {
      "text/plain": [
       "(7397, 7397)"
      ]
     },
     "execution_count": 93,
     "metadata": {},
     "output_type": "execute_result"
    }
   ],
   "source": [
    "row_ID(chaarted)"
   ]
  },
  {
   "cell_type": "code",
   "execution_count": 94,
   "id": "d57f3e63",
   "metadata": {},
   "outputs": [
    {
     "data": {
      "text/plain": [
       "0    6218\n",
       "1    1179\n",
       "Name: adt_dotx, dtype: int64"
      ]
     },
     "execution_count": 94,
     "metadata": {},
     "output_type": "execute_result"
    }
   ],
   "source": [
    "chaarted.adt_dotx.value_counts(dropna = False)"
   ]
  },
  {
   "cell_type": "code",
   "execution_count": 95,
   "id": "26951a2e",
   "metadata": {},
   "outputs": [
    {
     "data": {
      "text/html": [
       "<div>\n",
       "<style scoped>\n",
       "    .dataframe tbody tr th:only-of-type {\n",
       "        vertical-align: middle;\n",
       "    }\n",
       "\n",
       "    .dataframe tbody tr th {\n",
       "        vertical-align: top;\n",
       "    }\n",
       "\n",
       "    .dataframe thead th {\n",
       "        text-align: right;\n",
       "    }\n",
       "</style>\n",
       "<table border=\"1\" class=\"dataframe\">\n",
       "  <thead>\n",
       "    <tr style=\"text-align: right;\">\n",
       "      <th></th>\n",
       "      <th>PatientID</th>\n",
       "      <th>Gender</th>\n",
       "      <th>race</th>\n",
       "      <th>ethnicity</th>\n",
       "      <th>age</th>\n",
       "      <th>p_type</th>\n",
       "      <th>NStage</th>\n",
       "      <th>MStage</th>\n",
       "      <th>Histology</th>\n",
       "      <th>GleasonScore</th>\n",
       "      <th>...</th>\n",
       "      <th>early_adt</th>\n",
       "      <th>risk_score</th>\n",
       "      <th>StartDate_adt</th>\n",
       "      <th>MetDiagnosisDate</th>\n",
       "      <th>CRPCDate</th>\n",
       "      <th>adt_diff</th>\n",
       "      <th>crpc_diff</th>\n",
       "      <th>adt_dotx</th>\n",
       "      <th>StartDate_dotx</th>\n",
       "      <th>fl_diff</th>\n",
       "    </tr>\n",
       "  </thead>\n",
       "  <tbody>\n",
       "    <tr>\n",
       "      <th>3643</th>\n",
       "      <td>F3BE5AB2A6A9E</td>\n",
       "      <td>M</td>\n",
       "      <td>white</td>\n",
       "      <td>unknown</td>\n",
       "      <td>71</td>\n",
       "      <td>COMMUNITY</td>\n",
       "      <td>N0</td>\n",
       "      <td>M1b</td>\n",
       "      <td>Adenocarcinoma</td>\n",
       "      <td>8</td>\n",
       "      <td>...</td>\n",
       "      <td>0.0</td>\n",
       "      <td>-0.818850</td>\n",
       "      <td>2014-04-08</td>\n",
       "      <td>2014-02-27</td>\n",
       "      <td>2014-08-01</td>\n",
       "      <td>40.0</td>\n",
       "      <td>155.0</td>\n",
       "      <td>0</td>\n",
       "      <td>NaT</td>\n",
       "      <td>NaN</td>\n",
       "    </tr>\n",
       "    <tr>\n",
       "      <th>4948</th>\n",
       "      <td>F05D4F4C656E0</td>\n",
       "      <td>M</td>\n",
       "      <td>black</td>\n",
       "      <td>unknown</td>\n",
       "      <td>55</td>\n",
       "      <td>COMMUNITY</td>\n",
       "      <td>Unknown / Not documented</td>\n",
       "      <td>M1</td>\n",
       "      <td>Adenocarcinoma</td>\n",
       "      <td>Unknown / Not documented</td>\n",
       "      <td>...</td>\n",
       "      <td>0.0</td>\n",
       "      <td>-0.376337</td>\n",
       "      <td>2021-03-30</td>\n",
       "      <td>2021-03-09</td>\n",
       "      <td>2022-03-01</td>\n",
       "      <td>21.0</td>\n",
       "      <td>357.0</td>\n",
       "      <td>0</td>\n",
       "      <td>NaT</td>\n",
       "      <td>NaN</td>\n",
       "    </tr>\n",
       "    <tr>\n",
       "      <th>4042</th>\n",
       "      <td>F050C0B20B56D</td>\n",
       "      <td>M</td>\n",
       "      <td>white</td>\n",
       "      <td>unknown</td>\n",
       "      <td>74</td>\n",
       "      <td>COMMUNITY</td>\n",
       "      <td>Unknown / Not documented</td>\n",
       "      <td>M1</td>\n",
       "      <td>Adenocarcinoma</td>\n",
       "      <td>9</td>\n",
       "      <td>...</td>\n",
       "      <td>0.0</td>\n",
       "      <td>-0.226689</td>\n",
       "      <td>2017-05-05</td>\n",
       "      <td>2017-04-17</td>\n",
       "      <td>NaT</td>\n",
       "      <td>18.0</td>\n",
       "      <td>NaN</td>\n",
       "      <td>0</td>\n",
       "      <td>NaT</td>\n",
       "      <td>NaN</td>\n",
       "    </tr>\n",
       "  </tbody>\n",
       "</table>\n",
       "<p>3 rows × 237 columns</p>\n",
       "</div>"
      ],
      "text/plain": [
       "          PatientID Gender   race ethnicity  age     p_type  \\\n",
       "3643  F3BE5AB2A6A9E      M  white   unknown   71  COMMUNITY   \n",
       "4948  F05D4F4C656E0      M  black   unknown   55  COMMUNITY   \n",
       "4042  F050C0B20B56D      M  white   unknown   74  COMMUNITY   \n",
       "\n",
       "                        NStage MStage       Histology  \\\n",
       "3643                        N0    M1b  Adenocarcinoma   \n",
       "4948  Unknown / Not documented     M1  Adenocarcinoma   \n",
       "4042  Unknown / Not documented     M1  Adenocarcinoma   \n",
       "\n",
       "                  GleasonScore  ...  early_adt  risk_score StartDate_adt  \\\n",
       "3643                         8  ...        0.0   -0.818850    2014-04-08   \n",
       "4948  Unknown / Not documented  ...        0.0   -0.376337    2021-03-30   \n",
       "4042                         9  ...        0.0   -0.226689    2017-05-05   \n",
       "\n",
       "      MetDiagnosisDate   CRPCDate  adt_diff  crpc_diff  adt_dotx  \\\n",
       "3643        2014-02-27 2014-08-01      40.0      155.0         0   \n",
       "4948        2021-03-09 2022-03-01      21.0      357.0         0   \n",
       "4042        2017-04-17        NaT      18.0        NaN         0   \n",
       "\n",
       "      StartDate_dotx  fl_diff  \n",
       "3643             NaT      NaN  \n",
       "4948             NaT      NaN  \n",
       "4042             NaT      NaN  \n",
       "\n",
       "[3 rows x 237 columns]"
      ]
     },
     "execution_count": 95,
     "metadata": {},
     "output_type": "execute_result"
    }
   ],
   "source": [
    "chaarted.sample(3)"
   ]
  },
  {
   "cell_type": "markdown",
   "id": "9149a2d3",
   "metadata": {},
   "source": [
    "#### Time from ADT treatment to death or censor "
   ]
  },
  {
   "cell_type": "code",
   "execution_count": 96,
   "id": "f6015411",
   "metadata": {},
   "outputs": [],
   "source": [
    "mortality_tr = pd.read_csv('mortality_cleaned_tr.csv')"
   ]
  },
  {
   "cell_type": "code",
   "execution_count": 97,
   "id": "9a9ae3e6",
   "metadata": {},
   "outputs": [],
   "source": [
    "mortality_te = pd.read_csv('mortality_cleaned_te.csv')"
   ]
  },
  {
   "cell_type": "code",
   "execution_count": 98,
   "id": "ec96986e",
   "metadata": {},
   "outputs": [],
   "source": [
    "mortality_tr = mortality_tr[['PatientID', 'death_date', 'last_activity']]"
   ]
  },
  {
   "cell_type": "code",
   "execution_count": 99,
   "id": "8f5e7d3c",
   "metadata": {},
   "outputs": [],
   "source": [
    "mortality_te = mortality_te[['PatientID', 'death_date', 'last_activity']]"
   ]
  },
  {
   "cell_type": "code",
   "execution_count": 100,
   "id": "1fc07864",
   "metadata": {},
   "outputs": [
    {
     "data": {
      "text/plain": [
       "(18927, 18927)"
      ]
     },
     "execution_count": 100,
     "metadata": {},
     "output_type": "execute_result"
    }
   ],
   "source": [
    "mortality = pd.concat([mortality_tr, mortality_te], ignore_index = True)\n",
    "row_ID(mortality)"
   ]
  },
  {
   "cell_type": "code",
   "execution_count": 101,
   "id": "a067907c",
   "metadata": {},
   "outputs": [],
   "source": [
    "mortality.loc[:, 'last_activity'] = pd.to_datetime(mortality['last_activity'])"
   ]
  },
  {
   "cell_type": "code",
   "execution_count": 102,
   "id": "14b45f1a",
   "metadata": {},
   "outputs": [],
   "source": [
    "mortality.loc[:, 'death_date'] = pd.to_datetime(mortality['death_date'])"
   ]
  },
  {
   "cell_type": "code",
   "execution_count": 103,
   "id": "4bbb658b",
   "metadata": {},
   "outputs": [
    {
     "data": {
      "text/plain": [
       "18927"
      ]
     },
     "execution_count": 103,
     "metadata": {},
     "output_type": "execute_result"
    }
   ],
   "source": [
    "len(mortality)"
   ]
  },
  {
   "cell_type": "code",
   "execution_count": 104,
   "id": "076ef358",
   "metadata": {},
   "outputs": [],
   "source": [
    "chaarted = pd.merge(chaarted, mortality, on = 'PatientID')"
   ]
  },
  {
   "cell_type": "code",
   "execution_count": 105,
   "id": "ad6f417d",
   "metadata": {},
   "outputs": [
    {
     "data": {
      "text/plain": [
       "(7397, 7397)"
      ]
     },
     "execution_count": 105,
     "metadata": {},
     "output_type": "execute_result"
    }
   ],
   "source": [
    "row_ID(chaarted)"
   ]
  },
  {
   "cell_type": "code",
   "execution_count": 106,
   "id": "7c228ba2",
   "metadata": {},
   "outputs": [],
   "source": [
    "conditions = [\n",
    "    (chaarted['death_status'] == 1),\n",
    "    (chaarted['death_status'] == 0)]\n",
    "\n",
    "choices = [\n",
    "    (chaarted['death_date'] - chaarted['StartDate_adt']).dt.days,\n",
    "    (chaarted['last_activity'] - chaarted['StartDate_adt']).dt.days]\n",
    "\n",
    "chaarted.loc[:, 'timerisk_treatment'] = np.select(conditions, choices)\n",
    "\n",
    "chaarted = chaarted.query('timerisk_treatment >= 0')"
   ]
  },
  {
   "cell_type": "markdown",
   "id": "63c2a451",
   "metadata": {},
   "source": [
    "#### Patient count "
   ]
  },
  {
   "cell_type": "code",
   "execution_count": 107,
   "id": "091544c6",
   "metadata": {},
   "outputs": [
    {
     "data": {
      "text/plain": [
       "(7397, 7397)"
      ]
     },
     "execution_count": 107,
     "metadata": {},
     "output_type": "execute_result"
    }
   ],
   "source": [
    "row_ID(chaarted)"
   ]
  },
  {
   "cell_type": "code",
   "execution_count": 108,
   "id": "4df621fc",
   "metadata": {},
   "outputs": [],
   "source": [
    "# Exclude those with active cardiac disease in the year preceding metastatic diagnosis \n",
    "chaarted = chaarted[~chaarted['PatientID'].isin(cardiac_IDs)]"
   ]
  },
  {
   "cell_type": "code",
   "execution_count": 109,
   "id": "0b53157d",
   "metadata": {},
   "outputs": [],
   "source": [
    "# Exclude those with ECOG 3 or 4 at time of metastatic diagnosis \n",
    "chaarted = chaarted.query('ecog_diagnosis != \"3.0\" and ecog_diagnosis != \"4.0\"')"
   ]
  },
  {
   "cell_type": "code",
   "execution_count": 110,
   "id": "3dc503d2",
   "metadata": {},
   "outputs": [],
   "source": [
    "# Exclude those with abnormal organ function at time of metastatic diagnosis \n",
    "chaarted = (\n",
    "    chaarted\n",
    "    .query('creatinine_diag < 2 or creatinine_diag_na == 1')\n",
    "    .query('hemoglobin_diag > 9 or hemoglobin_diag_na == 1')\n",
    "    .query('total_bilirubin_diag < 3 or total_bilirubin_diag_na == 1')\n",
    ")"
   ]
  },
  {
   "cell_type": "code",
   "execution_count": 111,
   "id": "53deeb0e",
   "metadata": {},
   "outputs": [
    {
     "data": {
      "text/plain": [
       "(6812, 6812)"
      ]
     },
     "execution_count": 111,
     "metadata": {},
     "output_type": "execute_result"
    }
   ],
   "source": [
    "row_ID(chaarted)"
   ]
  },
  {
   "cell_type": "code",
   "execution_count": 112,
   "id": "1051e9cb",
   "metadata": {},
   "outputs": [],
   "source": [
    "low_cutoff_chaarted = cutoff.loc['chaarted'].low"
   ]
  },
  {
   "cell_type": "code",
   "execution_count": 113,
   "id": "11951785",
   "metadata": {},
   "outputs": [],
   "source": [
    "high_cutoff_chaarted = cutoff.loc['chaarted'].high"
   ]
  },
  {
   "cell_type": "code",
   "execution_count": 114,
   "id": "7969a38e",
   "metadata": {},
   "outputs": [
    {
     "name": "stdout",
     "output_type": "stream",
     "text": [
      "Docetaxel + ADT: 1088\n",
      "High risk: 240\n",
      "Med risk: 410\n",
      "Low risk: 438\n"
     ]
    }
   ],
   "source": [
    "print('Docetaxel + ADT:',  chaarted.query('adt_dotx == 1').shape[0])\n",
    "print('High risk:', chaarted.query('adt_dotx == 1').query('risk_score >= @high_cutoff_chaarted').shape[0])\n",
    "print('Med risk:', chaarted.query('adt_dotx == 1').query('risk_score < @high_cutoff_chaarted and risk_score > @low_cutoff_chaarted').shape[0])\n",
    "print('Low risk:', chaarted.query('adt_dotx == 1').query('risk_score <= @low_cutoff_chaarted').shape[0])"
   ]
  },
  {
   "cell_type": "code",
   "execution_count": 115,
   "id": "41e3a770",
   "metadata": {},
   "outputs": [
    {
     "name": "stdout",
     "output_type": "stream",
     "text": [
      "ADT: 5724\n",
      "High risk: 1708\n",
      "Med risk: 2002\n",
      "Low risk: 2014\n"
     ]
    }
   ],
   "source": [
    "print('ADT:',  chaarted.query('adt_dotx == 0').shape[0])\n",
    "print('High risk:', chaarted.query('adt_dotx == 0').query('risk_score >= @high_cutoff_chaarted').shape[0])\n",
    "print('Med risk:', chaarted.query('adt_dotx == 0').query('risk_score < @high_cutoff_chaarted and risk_score > @low_cutoff_chaarted').shape[0])\n",
    "print('Low risk:', chaarted.query('adt_dotx == 0').query('risk_score <= @low_cutoff_chaarted').shape[0])"
   ]
  },
  {
   "cell_type": "markdown",
   "id": "ded5c171",
   "metadata": {},
   "source": [
    "#### OS curves without confounder adjustment "
   ]
  },
  {
   "cell_type": "code",
   "execution_count": 116,
   "id": "8c714a96",
   "metadata": {},
   "outputs": [],
   "source": [
    "chaarted = chaarted.set_index('PatientID')"
   ]
  },
  {
   "cell_type": "code",
   "execution_count": 117,
   "id": "76adf9c2",
   "metadata": {},
   "outputs": [],
   "source": [
    "chaarted_low_dotx = (\n",
    "    chaarted\n",
    "    .query('adt_dotx == 1')\n",
    "    .query('risk_score <= @low_cutoff_chaarted')\n",
    "    .index)\n",
    "\n",
    "chaarted_low_adt = (\n",
    "    chaarted\n",
    "    .query('adt_dotx == 0')\n",
    "    .query('risk_score <= @low_cutoff_chaarted')\n",
    "    .index)\n",
    "\n",
    "chaarted_med_dotx = (\n",
    "    chaarted\n",
    "    .query('adt_dotx == 1')\n",
    "    .query('risk_score < @high_cutoff_chaarted and risk_score > @low_cutoff_chaarted')\n",
    "    .index)\n",
    "\n",
    "chaarted_med_adt = (\n",
    "    chaarted\n",
    "    .query('adt_dotx == 0')\n",
    "    .query('risk_score < @high_cutoff_chaarted and risk_score > @low_cutoff_chaarted')\n",
    "    .index)\n",
    "\n",
    "chaarted_high_dotx = (\n",
    "    chaarted\n",
    "    .query('adt_dotx == 1')\n",
    "    .query('risk_score >= @high_cutoff_chaarted')\n",
    "    .index)\n",
    "\n",
    "chaarted_high_adt = (\n",
    "    chaarted\n",
    "    .query('adt_dotx == 0')\n",
    "    .query('risk_score >= @high_cutoff_chaarted')\n",
    "    .index)\n",
    "\n",
    "chaarted_all_dotx = (\n",
    "    chaarted\n",
    "    .query('adt_dotx == 1')\n",
    "    .index)\n",
    "\n",
    "chaarted_all_adt = (\n",
    "    chaarted\n",
    "    .query('adt_dotx == 0')\n",
    "    .index)"
   ]
  },
  {
   "cell_type": "code",
   "execution_count": 118,
   "id": "a6beb8d5",
   "metadata": {},
   "outputs": [
    {
     "data": {
      "image/png": "[encoded data removed]",
      "text/plain": [
       "<Figure size 1800x600 with 5 Axes>"
      ]
     },
     "metadata": {},
     "output_type": "display_data"
    }
   ],
   "source": [
    "fig = plt.figure(figsize=(18, 6))\n",
    "\n",
    "# Plot survival curves for low risk group \n",
    "plt.subplot(1, 4, 1)\n",
    "\n",
    "time_low_dotx, survival_prob_low_dotx = kaplan_meier_estimator(np.array(chaarted.loc[chaarted_low_dotx]['death_status']),\n",
    "                                                               np.array(chaarted.loc[chaarted_low_dotx]['timerisk_treatment']))\n",
    "\n",
    "time_low_adt_c, survival_prob_low_adt_c = kaplan_meier_estimator(np.array(chaarted.loc[chaarted_low_adt]['death_status']),\n",
    "                                                                 np.array(chaarted.loc[chaarted_low_adt]['timerisk_treatment']))\n",
    "\n",
    "plt.step(time_low_dotx/30, survival_prob_low_dotx*100, color = 'red', alpha = 0.5)\n",
    "plt.step(time_low_adt_c/30, survival_prob_low_adt_c*100, color = 'black', alpha = 0.5)\n",
    "\n",
    "plt.xticks(np.arange(0, 61, 6))\n",
    "plt.xlim(0, 61)\n",
    "plt.ylim(0, 100)\n",
    "\n",
    "plt.title('Low-risk', weight = 'bold')\n",
    "plt.ylabel('OS (%)', size = 12, weight = 'bold')\n",
    "\n",
    "plt.gca().spines['top'].set_visible(False)\n",
    "plt.gca().spines['right'].set_visible(False)\n",
    "\n",
    "# Plot survival curves for medium risk group. \n",
    "plt.subplot(1, 4, 2)\n",
    "\n",
    "time_med_dotx, survival_prob_med_dotx = kaplan_meier_estimator(np.array(chaarted.loc[chaarted_med_dotx]['death_status']),\n",
    "                                                               np.array(chaarted.loc[chaarted_med_dotx]['timerisk_treatment']))\n",
    "\n",
    "time_med_adt_c, survival_prob_med_adt_c = kaplan_meier_estimator(np.array(chaarted.loc[chaarted_med_adt]['death_status']),\n",
    "                                                                 np.array(chaarted.loc[chaarted_med_adt]['timerisk_treatment']))\n",
    "\n",
    "plt.step(time_med_dotx/30, survival_prob_med_dotx*100, color = 'red', alpha = 0.5)\n",
    "plt.step(time_med_adt_c/30, survival_prob_med_adt_c*100, color = 'black', alpha = 0.5)\n",
    "\n",
    "plt.xticks(np.arange(0, 61, 6))\n",
    "plt.xlim(0, 61)\n",
    "plt.ylim(0, 100)\n",
    "\n",
    "plt.title('Med-risk', weight = 'bold')\n",
    "\n",
    "plt.gca().spines['top'].set_visible(False)\n",
    "plt.gca().spines['right'].set_visible(False)\n",
    "\n",
    "# Plot survival curves by treatment for high risk group. \n",
    "plt.subplot(1, 4, 3)\n",
    "\n",
    "time_high_dotx, survival_prob_high_dotx = kaplan_meier_estimator(np.array(chaarted.loc[chaarted_high_dotx]['death_status']),\n",
    "                                                                 np.array(chaarted.loc[chaarted_high_dotx]['timerisk_treatment']))\n",
    "\n",
    "time_high_adt_c, survival_prob_high_adt_c = kaplan_meier_estimator(np.array(chaarted.loc[chaarted_high_adt]['death_status']),\n",
    "                                                                   np.array(chaarted.loc[chaarted_high_adt]['timerisk_treatment']))\n",
    "\n",
    "plt.step(time_high_dotx/30, survival_prob_high_dotx*100, color = 'red', alpha = 0.5)\n",
    "plt.step(time_high_adt_c/30, survival_prob_high_adt_c*100, color = 'black', alpha = 0.5)\n",
    "\n",
    "plt.xticks(np.arange(0, 61, 6))\n",
    "plt.xlim(0, 61)\n",
    "plt.ylim(0, 100)\n",
    "\n",
    "plt.title('High-risk', weight = 'bold')\n",
    "\n",
    "plt.gca().spines['top'].set_visible(False)\n",
    "plt.gca().spines['right'].set_visible(False)\n",
    "\n",
    "# Plot survival curves by treatmetn for all \n",
    "plt.subplot(1, 4, 4)\n",
    "\n",
    "time_all_dotx, survival_prob_all_dotx = kaplan_meier_estimator(np.array(chaarted.loc[chaarted_all_dotx]['death_status']),\n",
    "                                                               np.array(chaarted.loc[chaarted_all_dotx]['timerisk_treatment']))\n",
    "\n",
    "time_all_adt_c, survival_prob_all_adt_c = kaplan_meier_estimator(np.array(chaarted.loc[chaarted_all_adt]['death_status']),\n",
    "                                                                 np.array(chaarted.loc[chaarted_all_adt]['timerisk_treatment']))\n",
    "\n",
    "plt.step(time_all_dotx/30, survival_prob_all_dotx*100, color = 'red', alpha = 0.5, label = 'Docetaxel + ADT')\n",
    "plt.step(time_all_adt_c/30, survival_prob_all_adt_c*100, color = 'black', alpha = 0.5, label = 'ADT')\n",
    "\n",
    "plt.xticks(np.arange(0, 61, 6))\n",
    "plt.xlim(0, 61)\n",
    "plt.ylim(0, 100)\n",
    "\n",
    "plt.title('Full cohort', weight = 'bold')\n",
    "\n",
    "plt.gca().spines['top'].set_visible(False)\n",
    "plt.gca().spines['right'].set_visible(False)\n",
    "\n",
    "plt.legend(loc = 'upper right', prop = {'size': 8})\n",
    "\n",
    "fig.add_subplot(1, 1, 1, frameon = False)\n",
    "plt.tick_params(labelcolor = 'none', which = 'both', top = False, bottom = False, left = False, right = False)\n",
    "plt.xlabel('Months after treatment', labelpad = 15, size = 12, weight = 'bold')\n",
    "plt.title('CHAARTED: Docetaxel + ADT vs. ADT for metastatic, castration-sensitive prostate cancer', pad = 40, size = 15, weight = 'bold')\n",
    "\n",
    "plt.show()"
   ]
  },
  {
   "cell_type": "markdown",
   "id": "6b4eb7cb",
   "metadata": {},
   "source": [
    "#### Survival with confounder adjustment via IPTW"
   ]
  },
  {
   "cell_type": "code",
   "execution_count": 119,
   "id": "7171ff54",
   "metadata": {},
   "outputs": [],
   "source": [
    "chaarted_iptw = chaarted.filter(items = ['death_status',\n",
    "                                         'timerisk_treatment',\n",
    "                                         'adt_dotx',\n",
    "                                         'age',\n",
    "                                         'race',\n",
    "                                         'p_type',\n",
    "                                         'met_year',\n",
    "                                         'delta_met_diagnosis',\n",
    "                                         'commercial',\n",
    "                                         'medicare',\n",
    "                                         'medicaid',\n",
    "                                         'risk_score'])"
   ]
  },
  {
   "cell_type": "code",
   "execution_count": 120,
   "id": "dfdd1355",
   "metadata": {},
   "outputs": [
    {
     "data": {
      "text/plain": [
       "death_status              bool\n",
       "timerisk_treatment     float64\n",
       "adt_dotx                 int64\n",
       "age                      int64\n",
       "race                    object\n",
       "p_type                  object\n",
       "met_year                 int64\n",
       "delta_met_diagnosis      int64\n",
       "commercial             float64\n",
       "medicare               float64\n",
       "medicaid               float64\n",
       "risk_score             float64\n",
       "dtype: object"
      ]
     },
     "execution_count": 120,
     "metadata": {},
     "output_type": "execute_result"
    }
   ],
   "source": [
    "chaarted_iptw.dtypes"
   ]
  },
  {
   "cell_type": "code",
   "execution_count": 121,
   "id": "371c52e6",
   "metadata": {},
   "outputs": [],
   "source": [
    "to_be_categorical = list(chaarted_iptw.select_dtypes(include = ['object']).columns)"
   ]
  },
  {
   "cell_type": "code",
   "execution_count": 122,
   "id": "8da20eb6",
   "metadata": {},
   "outputs": [
    {
     "data": {
      "text/plain": [
       "['race', 'p_type']"
      ]
     },
     "execution_count": 122,
     "metadata": {},
     "output_type": "execute_result"
    }
   ],
   "source": [
    "to_be_categorical"
   ]
  },
  {
   "cell_type": "code",
   "execution_count": 123,
   "id": "23bd40f0",
   "metadata": {},
   "outputs": [],
   "source": [
    "to_be_categorical.append('met_year')"
   ]
  },
  {
   "cell_type": "code",
   "execution_count": 124,
   "id": "20a368db",
   "metadata": {},
   "outputs": [],
   "source": [
    "# Convert variables in list to categorical.\n",
    "for x in list(to_be_categorical):\n",
    "    chaarted_iptw[x] = chaarted_iptw[x].astype('category')"
   ]
  },
  {
   "cell_type": "code",
   "execution_count": 125,
   "id": "45607bb3",
   "metadata": {},
   "outputs": [],
   "source": [
    "# List of numeric variables, excluding binary variables. \n",
    "numerical_features = ['age', 'delta_met_diagnosis']\n",
    "\n",
    "# Transformer will first calculate column median and impute, and then apply a standard scaler. \n",
    "numerical_transformer = Pipeline(steps = [\n",
    "    ('imputer', SimpleImputer(strategy = 'median')),\n",
    "    ('std_scaler', StandardScaler())])"
   ]
  },
  {
   "cell_type": "code",
   "execution_count": 126,
   "id": "3af7db85",
   "metadata": {},
   "outputs": [],
   "source": [
    "# List of categorical features.\n",
    "categorical_features = list(chaarted_iptw.select_dtypes(include = ['category']).columns)\n",
    "\n",
    "# One-hot-encode categorical features.\n",
    "categorical_transformer = OneHotEncoder(handle_unknown = 'ignore')"
   ]
  },
  {
   "cell_type": "code",
   "execution_count": 127,
   "id": "821e3fa2",
   "metadata": {},
   "outputs": [],
   "source": [
    "preprocessor = ColumnTransformer(\n",
    "    transformers = [\n",
    "        ('num', numerical_transformer, numerical_features),\n",
    "        ('cat', categorical_transformer, categorical_features)],\n",
    "    remainder = 'passthrough')"
   ]
  },
  {
   "cell_type": "code",
   "execution_count": 128,
   "id": "89ad9e2b",
   "metadata": {},
   "outputs": [],
   "source": [
    "chaarted_iptw_low = (\n",
    "    chaarted_iptw\n",
    "    .query('risk_score <= @low_cutoff_chaarted')\n",
    "    .drop(columns = ['risk_score']))\n",
    "\n",
    "chaarted_iptw_med = (\n",
    "    chaarted_iptw\n",
    "    .query('risk_score < @high_cutoff_chaarted and risk_score > @low_cutoff_chaarted')\n",
    "    .drop(columns = ['risk_score']))\n",
    "\n",
    "chaarted_iptw_high = (\n",
    "    chaarted_iptw\n",
    "    .query('risk_score >= @high_cutoff_chaarted')\n",
    "    .drop(columns = ['risk_score']))"
   ]
  },
  {
   "cell_type": "code",
   "execution_count": 129,
   "id": "60538f52",
   "metadata": {},
   "outputs": [],
   "source": [
    "chaarted_low_x = preprocessor.fit_transform(chaarted_iptw_low.filter(items = ['age',\n",
    "                                                                              'race',\n",
    "                                                                              'p_type',\n",
    "                                                                              'delta_met_diagnosis',\n",
    "                                                                              'met_year',\n",
    "                                                                              'commercial',\n",
    "                                                                              'medicare',\n",
    "                                                                              'medicaid']))\n",
    "\n",
    "chaarted_med_x = preprocessor.fit_transform(chaarted_iptw_med.filter(items = ['age',\n",
    "                                                                              'race',\n",
    "                                                                              'p_type',\n",
    "                                                                              'delta_met_diagnosis',\n",
    "                                                                              'met_year',\n",
    "                                                                              'commercial',\n",
    "                                                                              'medicare',\n",
    "                                                                              'medicaid']))\n",
    "\n",
    "chaarted_high_x = preprocessor.fit_transform(chaarted_iptw_high.filter(items = ['age',\n",
    "                                                                              'race',\n",
    "                                                                              'p_type',\n",
    "                                                                              'delta_met_diagnosis',\n",
    "                                                                              'met_year',\n",
    "                                                                              'commercial',\n",
    "                                                                              'medicare',\n",
    "                                                                              'medicaid']))"
   ]
  },
  {
   "cell_type": "code",
   "execution_count": 130,
   "id": "0f1666ea",
   "metadata": {},
   "outputs": [
    {
     "data": {
      "text/plain": [
       "LogisticRegression(max_iter=1000)"
      ]
     },
     "execution_count": 130,
     "metadata": {},
     "output_type": "execute_result"
    }
   ],
   "source": [
    "lr_chaarted_low = LogisticRegression(max_iter = 1000)\n",
    "lr_chaarted_low.fit(chaarted_low_x, chaarted_iptw_low['adt_dotx'])"
   ]
  },
  {
   "cell_type": "code",
   "execution_count": 131,
   "id": "43d5fd62",
   "metadata": {},
   "outputs": [
    {
     "data": {
      "text/plain": [
       "LogisticRegression(max_iter=1000)"
      ]
     },
     "execution_count": 131,
     "metadata": {},
     "output_type": "execute_result"
    }
   ],
   "source": [
    "lr_chaarted_med = LogisticRegression(max_iter = 1000)\n",
    "lr_chaarted_med.fit(chaarted_med_x, chaarted_iptw_med['adt_dotx'])"
   ]
  },
  {
   "cell_type": "code",
   "execution_count": 132,
   "id": "d851b143",
   "metadata": {},
   "outputs": [
    {
     "data": {
      "text/plain": [
       "LogisticRegression(max_iter=1000)"
      ]
     },
     "execution_count": 132,
     "metadata": {},
     "output_type": "execute_result"
    }
   ],
   "source": [
    "lr_chaarted_high = LogisticRegression(max_iter = 1000)\n",
    "lr_chaarted_high.fit(chaarted_high_x, chaarted_iptw_high['adt_dotx'])"
   ]
  },
  {
   "cell_type": "code",
   "execution_count": 133,
   "id": "05975d90",
   "metadata": {},
   "outputs": [],
   "source": [
    "pred_low = lr_chaarted_low.predict_proba(chaarted_low_x)\n",
    "pred_med = lr_chaarted_med.predict_proba(chaarted_med_x)\n",
    "pred_high = lr_chaarted_high.predict_proba(chaarted_high_x)"
   ]
  },
  {
   "cell_type": "code",
   "execution_count": 134,
   "id": "4bf88b44",
   "metadata": {},
   "outputs": [],
   "source": [
    "chaarted_iptw_low['ps'] = pred_low[:, 1]\n",
    "chaarted_iptw_med['ps'] = pred_med[:, 1]\n",
    "chaarted_iptw_high['ps'] = pred_high[:, 1]"
   ]
  },
  {
   "cell_type": "code",
   "execution_count": 135,
   "id": "6c0fc7cc",
   "metadata": {},
   "outputs": [],
   "source": [
    "chaarted_iptw_low['weight'] = (\n",
    "    np.where(chaarted_iptw_low['adt_dotx'] == 1, 1/chaarted_iptw_low['ps'], 1/(1 - chaarted_iptw_low['ps'])))\n",
    "\n",
    "chaarted_iptw_med['weight'] = (\n",
    "    np.where(chaarted_iptw_med['adt_dotx'] == 1, 1/chaarted_iptw_med['ps'], 1/(1 - chaarted_iptw_med['ps'])))\n",
    "\n",
    "chaarted_iptw_high['weight'] = (\n",
    "    np.where(chaarted_iptw_high['adt_dotx'] == 1, 1/chaarted_iptw_high['ps'], 1/(1 - chaarted_iptw_high['ps'])))"
   ]
  },
  {
   "cell_type": "code",
   "execution_count": 136,
   "id": "41171c98",
   "metadata": {},
   "outputs": [],
   "source": [
    "chaarted_iptw_all = pd.concat([chaarted_iptw_low, chaarted_iptw_med, chaarted_iptw_high])"
   ]
  },
  {
   "cell_type": "code",
   "execution_count": 137,
   "id": "58f02ec9",
   "metadata": {},
   "outputs": [
    {
     "name": "stderr",
     "output_type": "stream",
     "text": [
      "/Users/xavierorcutt/Dropbox/ist_project/myenv/lib/python3.7/site-packages/lifelines/fitters/kaplan_meier_fitter.py:344: StatisticalWarning: It looks like your weights are not integers, possibly propensity scores then?\n",
      "  It's important to know that the naive variance estimates of the coefficients are biased. Instead use Monte Carlo to\n",
      "  estimate the variances. See paper \"Variance estimation when using inverse probability of treatment weighting (IPTW) with survival analysis\"\n",
      "  or \"Adjusted Kaplan-Meier estimator and log-rank test with inverse probability of treatment weighting for survival data.\"\n",
      "                  \n",
      "  StatisticalWarning,\n"
     ]
    },
    {
     "data": {
      "text/plain": [
       "<lifelines.KaplanMeierFitter:\"KM_estimate\", fitted with 6841.61 total observations, 3162.03 right-censored observations>"
      ]
     },
     "execution_count": 137,
     "metadata": {},
     "output_type": "execute_result"
    }
   ],
   "source": [
    "# Low KM curves\n",
    "kmf_low_dotx_chaarted_iptw = KaplanMeierFitter()\n",
    "kmf_low_adt_chaarted_iptw = KaplanMeierFitter()\n",
    "\n",
    "kmf_low_dotx_chaarted_iptw.fit(\n",
    "    chaarted_iptw_low.query('adt_dotx == 1').timerisk_treatment/30,\n",
    "    chaarted_iptw_low.query('adt_dotx == 1').death_status,\n",
    "    weights = chaarted_iptw_low.query('adt_dotx == 1')['weight'])\n",
    "\n",
    "kmf_low_adt_chaarted_iptw.fit(\n",
    "    chaarted_iptw_low.query('adt_dotx == 0').timerisk_treatment/30,\n",
    "    chaarted_iptw_low.query('adt_dotx == 0').death_status,\n",
    "    weights = chaarted_iptw_low.query('adt_dotx == 0')['weight'])\n",
    "\n",
    "# Med KM curves\n",
    "kmf_med_dotx_chaarted_iptw = KaplanMeierFitter()\n",
    "kmf_med_adt_chaarted_iptw = KaplanMeierFitter()\n",
    "\n",
    "kmf_med_dotx_chaarted_iptw.fit(\n",
    "    chaarted_iptw_med.query('adt_dotx == 1').timerisk_treatment/30,\n",
    "    chaarted_iptw_med.query('adt_dotx == 1').death_status,\n",
    "    weights = chaarted_iptw_med.query('adt_dotx == 1')['weight'])\n",
    "\n",
    "kmf_med_adt_chaarted_iptw.fit(\n",
    "    chaarted_iptw_med.query('adt_dotx == 0').timerisk_treatment/30,\n",
    "    chaarted_iptw_med.query('adt_dotx == 0').death_status,\n",
    "    weights = chaarted_iptw_med.query('adt_dotx == 0')['weight'])\n",
    "\n",
    "# High KM curves \n",
    "kmf_high_dotx_chaarted_iptw = KaplanMeierFitter()\n",
    "kmf_high_adt_chaarted_iptw = KaplanMeierFitter()\n",
    "\n",
    "kmf_high_dotx_chaarted_iptw.fit(\n",
    "    chaarted_iptw_high.query('adt_dotx == 1').timerisk_treatment/30,\n",
    "    chaarted_iptw_high.query('adt_dotx == 1').death_status,\n",
    "    weights = chaarted_iptw_high.query('adt_dotx == 1')['weight'])\n",
    "\n",
    "kmf_high_adt_chaarted_iptw.fit(\n",
    "    chaarted_iptw_high.query('adt_dotx == 0').timerisk_treatment/30,\n",
    "    chaarted_iptw_high.query('adt_dotx == 0').death_status,\n",
    "    weights = chaarted_iptw_high.query('adt_dotx == 0')['weight'])\n",
    "\n",
    "# All KM curves \n",
    "kmf_all_dotx_chaarted_iptw = KaplanMeierFitter()\n",
    "kmf_all_adt_chaarted_iptw = KaplanMeierFitter()\n",
    "\n",
    "kmf_all_dotx_chaarted_iptw.fit(\n",
    "    chaarted_iptw_all.query('adt_dotx == 1').timerisk_treatment/30,\n",
    "    chaarted_iptw_all.query('adt_dotx == 1').death_status,\n",
    "    weights = chaarted_iptw_all.query('adt_dotx == 1')['weight'])\n",
    "\n",
    "kmf_all_adt_chaarted_iptw.fit(\n",
    "    chaarted_iptw_all.query('adt_dotx == 0').timerisk_treatment/30,\n",
    "    chaarted_iptw_all.query('adt_dotx == 0').death_status,\n",
    "    weights = chaarted_iptw_all.query('adt_dotx == 0')['weight'])"
   ]
  },
  {
   "cell_type": "code",
   "execution_count": 138,
   "id": "5770f192",
   "metadata": {},
   "outputs": [
    {
     "data": {
      "image/png": "[encoded data removed]",
      "text/plain": [
       "<Figure size 1800x600 with 9 Axes>"
      ]
     },
     "metadata": {},
     "output_type": "display_data"
    }
   ],
   "source": [
    "fig = plt.figure(figsize=(18, 6))\n",
    "\n",
    "# Plot survival curves for low risk group \n",
    "plt.subplot(1, 4, 1)\n",
    "\n",
    "plt.step(kmf_low_dotx_chaarted_iptw.timeline, kmf_low_dotx_chaarted_iptw.survival_function_.values*100, color = 'red', alpha = 0.5)\n",
    "#plt.step(kmf_low_pfulv_paloma3_iptw.confidence_interval_.index, np.array(kmf_low_pfulv_paloma3_iptw.confidence_interval_['KM_estimate_upper_0.95'])*100, linestyle = '--', color = 'red', alpha = 0.3)\n",
    "#plt.step(kmf_low_pfulv_paloma3_iptw.confidence_interval_.index, np.array(kmf_low_pfulv_paloma3_iptw.confidence_interval_['KM_estimate_lower_0.95'])*100, linestyle = '--', color = 'red', alpha = 0.3)\n",
    "#plt.fill_between(kmf_low_pfulv_paloma3_iptw.timeline, np.array(kmf_low_pfulv_paloma3_iptw.confidence_interval_['KM_estimate_upper_0.95'])*100, np.array(kmf_low_pfulv_paloma3_iptw.confidence_interval_['KM_estimate_lower_0.95'])*100, facecolor = 'red', alpha = 0.1)\n",
    "\n",
    "plt.step(kmf_low_adt_chaarted_iptw.timeline, kmf_low_adt_chaarted_iptw.survival_function_.values*100, color = 'black', alpha = 0.5)\n",
    "#plt.step(kmf_low_fulv_paloma3_iptw.confidence_interval_.index, np.array(kmf_low_fulv_paloma3_iptw.confidence_interval_['KM_estimate_upper_0.95'])*100, linestyle = '--', color = 'black', alpha = 0.3)\n",
    "#plt.step(kmf_low_fulv_paloma3_iptw.confidence_interval_.index, np.array(kmf_low_fulv_paloma3_iptw.confidence_interval_['KM_estimate_lower_0.95'])*100, linestyle = '--', color = 'black', alpha = 0.3)\n",
    "#plt.fill_between(kmf_low_fulv_paloma3_iptw.timeline, np.array(kmf_low_fulv_paloma3_iptw.confidence_interval_['KM_estimate_upper_0.95'])*100, np.array(kmf_low_fulv_paloma3_iptw.confidence_interval_['KM_estimate_lower_0.95'])*100, facecolor = 'black', alpha = 0.1)\n",
    "\n",
    "plt.xticks(np.arange(0, 61, 6))\n",
    "plt.xlim(0, 61)\n",
    "plt.ylim(0, 100)\n",
    "\n",
    "plt.title('Low-risk', weight = 'bold')\n",
    "plt.ylabel('OS (%)', size = 12, weight = 'bold')\n",
    "\n",
    "plt.gca().spines['top'].set_visible(False)\n",
    "plt.gca().spines['right'].set_visible(False)\n",
    "\n",
    "add_at_risk_counts(kmf_low_dotx_chaarted_iptw, kmf_low_adt_chaarted_iptw, ypos = -0.8, xticks = np.arange(12, 61, 12), labels = ['Docetaxel + ADT', 'ADT'])\n",
    "\n",
    "# Plot survival curves for med risk group. \n",
    "plt.subplot(1, 4, 2)\n",
    "\n",
    "plt.step(kmf_med_dotx_chaarted_iptw.timeline, kmf_med_dotx_chaarted_iptw.survival_function_.values*100, color = 'red', alpha = 0.5)\n",
    "#plt.step(kmf_med_pfulv_paloma3_iptw.confidence_interval_.index, np.array(kmf_med_pfulv_paloma3_iptw.confidence_interval_['KM_estimate_upper_0.95'])*100, linestyle = '--', color = 'red', alpha = 0.3)\n",
    "#plt.step(kmf_med_pfulv_paloma3_iptw.confidence_interval_.index, np.array(kmf_med_pfulv_paloma3_iptw.confidence_interval_['KM_estimate_lower_0.95'])*100, linestyle = '--', color = 'red', alpha = 0.3)\n",
    "#plt.fill_between(kmf_med_pfulv_paloma3_iptw.timeline, np.array(kmf_med_pfulv_paloma3_iptw.confidence_interval_['KM_estimate_upper_0.95'])*100, np.array(kmf_med_pfulv_paloma3_iptw.confidence_interval_['KM_estimate_lower_0.95'])*100, facecolor = 'red', alpha = 0.1)\n",
    "\n",
    "plt.step(kmf_med_adt_chaarted_iptw.timeline, kmf_med_adt_chaarted_iptw.survival_function_.values*100, color = 'black', alpha = 0.5)\n",
    "#plt.step(kmf_med_fulv_paloma3_iptw.confidence_interval_.index, np.array(kmf_med_fulv_paloma3_iptw.confidence_interval_['KM_estimate_upper_0.95'])*100, linestyle = '--', color = 'black', alpha = 0.3)\n",
    "#plt.step(kmf_med_fulv_paloma3_iptw.confidence_interval_.index, np.array(kmf_med_fulv_paloma3_iptw.confidence_interval_['KM_estimate_lower_0.95'])*100, linestyle = '--', color = 'black', alpha = 0.3)\n",
    "#plt.fill_between(kmf_med_fulv_paloma3_iptw.timeline, np.array(kmf_med_fulv_paloma3_iptw.confidence_interval_['KM_estimate_upper_0.95'])*100, np.array(kmf_med_fulv_paloma3_iptw.confidence_interval_['KM_estimate_lower_0.95'])*100, facecolor = 'black', alpha = 0.1)\n",
    "\n",
    "plt.xticks(np.arange(0, 61, 6))\n",
    "plt.xlim(0, 61)\n",
    "plt.ylim(0, 100)\n",
    "\n",
    "plt.title('Med-risk', weight = 'bold')\n",
    "\n",
    "plt.gca().spines['top'].set_visible(False)\n",
    "plt.gca().spines['right'].set_visible(False)\n",
    "\n",
    "add_at_risk_counts(kmf_med_dotx_chaarted_iptw, kmf_med_adt_chaarted_iptw, ypos = -0.8, xticks = np.arange(12, 61, 12), labels = [' ', ' '])\n",
    "\n",
    "# Plot survival curves by treatment for high risk group. \n",
    "plt.subplot(1, 4, 3)\n",
    "\n",
    "plt.step(kmf_high_dotx_chaarted_iptw.timeline, kmf_high_dotx_chaarted_iptw.survival_function_.values*100, color = 'red', alpha = 0.5)\n",
    "#plt.step(kmf_high_pfulv_paloma3_iptw.confidence_interval_.index, np.array(kmf_high_pfulv_paloma3_iptw.confidence_interval_['KM_estimate_upper_0.95'])*100, linestyle = '--', color = 'red', alpha = 0.3)\n",
    "#plt.step(kmf_high_pfulv_paloma3_iptw.confidence_interval_.index, np.array(kmf_high_pfulv_paloma3_iptw.confidence_interval_['KM_estimate_lower_0.95'])*100, linestyle = '--', color = 'red', alpha = 0.3)\n",
    "#plt.fill_between(kmf_high_pfulv_paloma3_iptw.timeline, np.array(kmf_high_pfulv_paloma3_iptw.confidence_interval_['KM_estimate_upper_0.95'])*100, np.array(kmf_high_pfulv_paloma3_iptw.confidence_interval_['KM_estimate_lower_0.95'])*100, facecolor = 'red', alpha = 0.1)\n",
    "\n",
    "plt.step(kmf_high_adt_chaarted_iptw.timeline, kmf_high_adt_chaarted_iptw.survival_function_.values*100, color = 'black', alpha = 0.5)\n",
    "#plt.step(kmf_high_fulv_paloma3_iptw.confidence_interval_.index, np.array(kmf_high_fulv_paloma3_iptw.confidence_interval_['KM_estimate_upper_0.95'])*100, linestyle = '--', color = 'black', alpha = 0.3)\n",
    "#plt.step(kmf_high_fulv_paloma3_iptw.confidence_interval_.index, np.array(kmf_high_fulv_paloma3_iptw.confidence_interval_['KM_estimate_lower_0.95'])*100, linestyle = '--', color = 'black', alpha = 0.3)\n",
    "#plt.fill_between(kmf_high_fulv_paloma3_iptw.timeline, np.array(kmf_high_fulv_paloma3_iptw.confidence_interval_['KM_estimate_upper_0.95'])*100, np.array(kmf_high_fulv_paloma3_iptw.confidence_interval_['KM_estimate_lower_0.95'])*100, facecolor = 'black', alpha = 0.1)\n",
    "\n",
    "plt.xticks(np.arange(0, 61, 6))\n",
    "plt.xlim(0, 61)\n",
    "plt.ylim(0, 100)\n",
    "\n",
    "plt.title('High-risk', weight = 'bold')\n",
    "\n",
    "plt.gca().spines['top'].set_visible(False)\n",
    "plt.gca().spines['right'].set_visible(False)\n",
    "\n",
    "add_at_risk_counts(kmf_high_dotx_chaarted_iptw, kmf_high_adt_chaarted_iptw, ypos = -0.8, xticks = np.arange(12, 61, 12), labels = [' ', ' '])\n",
    "\n",
    "# Plot survival curves by treatment for all risk group. \n",
    "plt.subplot(1, 4, 4)\n",
    "\n",
    "plt.step(kmf_all_dotx_chaarted_iptw.timeline, kmf_all_dotx_chaarted_iptw.survival_function_.values*100, color = 'red', alpha = 0.5, label = 'Docetaxel + ADT')\n",
    "#plt.step(kmf_all_pfulv_paloma3_iptw.confidence_interval_.index, np.array(kmf_all_pfulv_paloma3_iptw.confidence_interval_['KM_estimate_upper_0.95'])*100, linestyle = '--', color = 'red', alpha = 0.3)\n",
    "#plt.step(kmf_all_pfulv_paloma3_iptw.confidence_interval_.index, np.array(kmf_all_pfulv_paloma3_iptw.confidence_interval_['KM_estimate_lower_0.95'])*100, linestyle = '--', color = 'red', alpha = 0.3)\n",
    "#plt.fill_between(kmf_all_pfulv_paloma3_iptw.timeline, np.array(kmf_all_pfulv_paloma3_iptw.confidence_interval_['KM_estimate_upper_0.95'])*100, np.array(kmf_all_pfulv_paloma3_iptw.confidence_interval_['KM_estimate_lower_0.95'])*100, facecolor = 'red', alpha = 0.1)\n",
    "\n",
    "plt.step(kmf_all_adt_chaarted_iptw.timeline, kmf_all_adt_chaarted_iptw.survival_function_.values*100, color = 'black', alpha = 0.5, label = 'ADT')\n",
    "#plt.step(kmf_all_fulv_paloma3_iptw.confidence_interval_.index, np.array(kmf_all_fulv_paloma3_iptw.confidence_interval_['KM_estimate_upper_0.95'])*100, linestyle = '--', color = 'black', alpha = 0.3)\n",
    "#plt.step(kmf_all_fulv_paloma3_iptw.confidence_interval_.index, np.array(kmf_all_fulv_paloma3_iptw.confidence_interval_['KM_estimate_lower_0.95'])*100, linestyle = '--', color = 'black', alpha = 0.3)\n",
    "#plt.fill_between(kmf_all_fulv_paloma3_iptw.timeline, np.array(kmf_all_fulv_paloma3_iptw.confidence_interval_['KM_estimate_upper_0.95'])*100, np.array(kmf_all_fulv_paloma3_iptw.confidence_interval_['KM_estimate_lower_0.95'])*100, facecolor = 'black', alpha = 0.1)\n",
    "\n",
    "plt.xticks(np.arange(0, 61, 6))\n",
    "plt.xlim(0, 61)\n",
    "plt.ylim(0, 100)\n",
    "\n",
    "plt.title('Full cohort', weight = 'bold')\n",
    "\n",
    "plt.gca().spines['top'].set_visible(False)\n",
    "plt.gca().spines['right'].set_visible(False)\n",
    "\n",
    "plt.legend(loc = 'upper right', prop = {'size': 9})\n",
    "\n",
    "add_at_risk_counts(kmf_all_dotx_chaarted_iptw, kmf_all_adt_chaarted_iptw, ypos = -0.8, xticks = np.arange(12, 61, 12), labels = [' ', ' '])\n",
    "\n",
    "fig.add_subplot(1, 1, 1, frameon = False)\n",
    "plt.tick_params(labelcolor = 'none', which = 'both', top = False, bottom = False, left = False, right = False)\n",
    "plt.xlabel('Months after treatment', labelpad = 15, size = 12, weight = 'bold')\n",
    "plt.title('CHAARTED: Docetaxel + ADT vs. ADT for metastatic, castration-sensitive prostate cancer', pad = 40, size = 15, weight = 'bold')\n",
    "\n",
    "plt.show()"
   ]
  },
  {
   "cell_type": "markdown",
   "id": "b17bed4d",
   "metadata": {},
   "source": [
    "#### Summary result plot "
   ]
  },
  {
   "cell_type": "code",
   "execution_count": 139,
   "id": "e90968d2",
   "metadata": {},
   "outputs": [],
   "source": [
    "dotx_chaarted_24_os = psurv_t(kmf_low_dotx_chaarted_iptw,\n",
    "                              kmf_med_dotx_chaarted_iptw,\n",
    "                              kmf_high_dotx_chaarted_iptw,\n",
    "                              24)\n",
    "\n",
    "adt_chaarted_24_os = psurv_t(kmf_low_adt_chaarted_iptw,\n",
    "                             kmf_med_adt_chaarted_iptw,\n",
    "                             kmf_high_adt_chaarted_iptw,\n",
    "                             24)\n",
    "\n",
    "dotx_chaarted_48_os = psurv_t(kmf_low_dotx_chaarted_iptw,\n",
    "                              kmf_med_dotx_chaarted_iptw,\n",
    "                              kmf_high_dotx_chaarted_iptw,\n",
    "                              48)\n",
    "\n",
    "adt_chaarted_48_os = psurv_t(kmf_low_adt_chaarted_iptw,\n",
    "                             kmf_med_adt_chaarted_iptw,\n",
    "                             kmf_high_adt_chaarted_iptw,\n",
    "                             48)\n",
    "\n",
    "dotx_chaarted_median_os = mos(kmf_low_dotx_chaarted_iptw,\n",
    "                              kmf_med_dotx_chaarted_iptw,\n",
    "                              kmf_high_dotx_chaarted_iptw,\n",
    "                              kmf_all_dotx_chaarted_iptw)\n",
    "\n",
    "adt_chaarted_median_os = mos(kmf_low_adt_chaarted_iptw,\n",
    "                             kmf_med_adt_chaarted_iptw,\n",
    "                             kmf_high_adt_chaarted_iptw,\n",
    "                             kmf_all_adt_chaarted_iptw)"
   ]
  },
  {
   "cell_type": "code",
   "execution_count": 140,
   "id": "fcf46316",
   "metadata": {
    "scrolled": true
   },
   "outputs": [
    {
     "name": "stdout",
     "output_type": "stream",
     "text": [
      "All, docetaxel:  52.4\n",
      "All, ADT:  40.4\n",
      "Low, docetaxel:  73.766\n",
      "Low, ADT:  67.2\n",
      "Med, docetaxel:  53.633\n",
      "Med, ADT:  40.666\n",
      "High, docetaxel:  33.933\n",
      "High, ADT:  23.0\n"
     ]
    }
   ],
   "source": [
    "print('All, docetaxel: ',truncate(dotx_chaarted_median_os[3], 3))\n",
    "print('All, ADT: ',truncate(adt_chaarted_median_os[3], 3))\n",
    "\n",
    "print('Low, docetaxel: ',truncate(dotx_chaarted_median_os[0], 3))\n",
    "print('Low, ADT: ',truncate(adt_chaarted_median_os[0], 3))\n",
    "\n",
    "print('Med, docetaxel: ',truncate(dotx_chaarted_median_os[1], 3))\n",
    "print('Med, ADT: ',truncate(adt_chaarted_median_os[1], 3))\n",
    "\n",
    "print('High, docetaxel: ',truncate(dotx_chaarted_median_os[2], 3))\n",
    "print('High, ADT: ',truncate(adt_chaarted_median_os[2], 3))"
   ]
  },
  {
   "cell_type": "code",
   "execution_count": 141,
   "id": "c3dd7c20",
   "metadata": {},
   "outputs": [],
   "source": [
    "dotx_chaarted_low_24_ci = psurv_ci(kmf_low_dotx_chaarted_iptw, 24)\n",
    "dotx_chaarted_med_24_ci = psurv_ci(kmf_med_dotx_chaarted_iptw, 24)\n",
    "dotx_chaarted_high_24_ci = psurv_ci(kmf_high_dotx_chaarted_iptw, 24)\n",
    "\n",
    "y_error_dotx_chaarted_24 = y_error(dotx_chaarted_low_24_ci,\n",
    "                                   dotx_chaarted_med_24_ci,\n",
    "                                   dotx_chaarted_high_24_ci,\n",
    "                                   dotx_chaarted_24_os)"
   ]
  },
  {
   "cell_type": "code",
   "execution_count": 142,
   "id": "42071aec",
   "metadata": {},
   "outputs": [],
   "source": [
    "adt_chaarted_low_24_ci = psurv_ci(kmf_low_adt_chaarted_iptw, 24)\n",
    "adt_chaarted_med_24_ci = psurv_ci(kmf_med_adt_chaarted_iptw, 24)\n",
    "adt_chaarted_high_24_ci = psurv_ci(kmf_high_adt_chaarted_iptw, 24)\n",
    "\n",
    "y_error_adt_chaarted_24 = y_error(adt_chaarted_low_24_ci,\n",
    "                                  adt_chaarted_med_24_ci,\n",
    "                                  adt_chaarted_high_24_ci,\n",
    "                                  adt_chaarted_24_os)"
   ]
  },
  {
   "cell_type": "code",
   "execution_count": 143,
   "id": "c149f5f6",
   "metadata": {},
   "outputs": [],
   "source": [
    "dotx_chaarted_low_48_ci = psurv_ci(kmf_low_dotx_chaarted_iptw, 48)\n",
    "dotx_chaarted_med_48_ci = psurv_ci(kmf_med_dotx_chaarted_iptw, 48)\n",
    "dotx_chaarted_high_48_ci = psurv_ci(kmf_high_dotx_chaarted_iptw, 48)\n",
    "\n",
    "y_error_dotx_chaarted_48 = y_error(dotx_chaarted_low_48_ci,\n",
    "                                   dotx_chaarted_med_48_ci,\n",
    "                                   dotx_chaarted_high_48_ci,\n",
    "                                   dotx_chaarted_48_os)"
   ]
  },
  {
   "cell_type": "code",
   "execution_count": 144,
   "id": "604c0a54",
   "metadata": {},
   "outputs": [],
   "source": [
    "adt_chaarted_low_48_ci = psurv_ci(kmf_low_adt_chaarted_iptw, 48)\n",
    "adt_chaarted_med_48_ci = psurv_ci(kmf_med_adt_chaarted_iptw, 48)\n",
    "adt_chaarted_high_48_ci = psurv_ci(kmf_high_adt_chaarted_iptw, 48)\n",
    "\n",
    "y_error_adt_chaarted_48 = y_error(adt_chaarted_low_48_ci,\n",
    "                                  adt_chaarted_med_48_ci,\n",
    "                                  adt_chaarted_high_48_ci,\n",
    "                                  adt_chaarted_48_os)"
   ]
  },
  {
   "cell_type": "code",
   "execution_count": 145,
   "id": "69308066",
   "metadata": {},
   "outputs": [],
   "source": [
    "dotx_chaarted_low_mos_ci = mos_ci(kmf_low_dotx_chaarted_iptw)\n",
    "dotx_chaarted_med_mos_ci = mos_ci(kmf_med_dotx_chaarted_iptw)\n",
    "dotx_chaarted_high_mos_ci = mos_ci(kmf_high_dotx_chaarted_iptw)\n",
    "\n",
    "y_error_dotx_chaarted_mos = y_error(dotx_chaarted_low_mos_ci,\n",
    "                                    dotx_chaarted_med_mos_ci,\n",
    "                                    dotx_chaarted_high_mos_ci,\n",
    "                                    dotx_chaarted_median_os)"
   ]
  },
  {
   "cell_type": "code",
   "execution_count": 146,
   "id": "f857c898",
   "metadata": {},
   "outputs": [],
   "source": [
    "adt_chaarted_low_mos_ci = mos_ci(kmf_low_adt_chaarted_iptw)\n",
    "adt_chaarted_med_mos_ci = mos_ci(kmf_med_adt_chaarted_iptw)\n",
    "adt_chaarted_high_mos_ci = mos_ci(kmf_high_adt_chaarted_iptw)\n",
    "\n",
    "y_error_adt_chaarted_mos = y_error(adt_chaarted_low_mos_ci,\n",
    "                                   adt_chaarted_med_mos_ci,\n",
    "                                   adt_chaarted_high_mos_ci,\n",
    "                                   adt_chaarted_median_os)"
   ]
  },
  {
   "cell_type": "code",
   "execution_count": 147,
   "id": "c1939eec",
   "metadata": {},
   "outputs": [
    {
     "data": {
      "image/png": "[encoded data removed]",
      "text/plain": [
       "<Figure size 1800x400 with 4 Axes>"
      ]
     },
     "metadata": {},
     "output_type": "display_data"
    }
   ],
   "source": [
    "ml_risk = ['Low', 'Med',  'High']\n",
    "\n",
    "fig = plt.figure(figsize=(18, 4))\n",
    "\n",
    "# 24 month OS plot\n",
    "plt.subplot(1, 3, 1)\n",
    "plt.errorbar(ml_risk, dotx_chaarted_24_os, yerr = y_error_dotx_chaarted_24, marker = 'o', color = 'black', capsize = 3)\n",
    "plt.axhline(y = 85, color = 'red', linestyle = 'solid')\n",
    "\n",
    "eb1 = plt.errorbar(ml_risk, adt_chaarted_24_os, yerr = y_error_adt_chaarted_24, marker = 'o', color = 'black', linestyle = '--', capsize = 3)\n",
    "eb1[-1][0].set_linestyle(':')\n",
    "plt.axhline(y = 70, color = 'red', linestyle = '--')\n",
    "\n",
    "plt.xticks(fontsize = 15)\n",
    "plt.yticks(np.arange(0, 110, 20))\n",
    "plt.ylim(0, 100)\n",
    "plt.ylabel('OS (%)', size = 15)\n",
    "\n",
    "plt.title('24-month OS %', size = 20)\n",
    "\n",
    "plt.gca().spines['top'].set_visible(False)\n",
    "plt.gca().spines['right'].set_visible(False)\n",
    "\n",
    "# 48 month OS plot\n",
    "plt.subplot(1, 3, 2)\n",
    "plt.errorbar(ml_risk, dotx_chaarted_48_os, yerr = y_error_dotx_chaarted_48, marker = 'o', color = 'black', capsize = 3)\n",
    "plt.axhline(y = 58, color = 'red', linestyle = 'solid')\n",
    "\n",
    "eb2 = plt.errorbar(ml_risk, adt_chaarted_48_os, yerr = y_error_adt_chaarted_48, marker = 'o', color = 'black', linestyle = '--', capsize = 3)\n",
    "eb2[-1][0].set_linestyle(':')\n",
    "plt.axhline(y = 38, color = 'red', linestyle = '--')\n",
    "\n",
    "plt.xticks(fontsize = 15)\n",
    "plt.yticks(np.arange(0, 110, 20))\n",
    "plt.ylim(0, 100)\n",
    "plt.ylabel('OS (%)', size = 15)\n",
    "\n",
    "plt.title('48-month OS %', size = 20)\n",
    "\n",
    "plt.gca().spines['top'].set_visible(False)\n",
    "plt.gca().spines['right'].set_visible(False)\n",
    "\n",
    "# Median OS plot\n",
    "plt.subplot(1, 3, 3)\n",
    "plt.errorbar(ml_risk, dotx_chaarted_median_os[0:3], yerr = y_error_dotx_chaarted_mos, marker = 'o', color = 'black', capsize = 3)\n",
    "\n",
    "plt.axhline(y = 57.6, color = 'red', linestyle = 'solid')\n",
    "\n",
    "eb3 = plt.errorbar(ml_risk, adt_chaarted_median_os[0:3], yerr = y_error_adt_chaarted_mos, marker = 'o', color = 'black', linestyle = '--', capsize = 3)\n",
    "eb3[-1][0].set_linestyle(':')\n",
    "\n",
    "plt.axhline(y = 44.0, color = 'red', linestyle = '--')\n",
    "\n",
    "plt.xticks(fontsize = 15)\n",
    "plt.ylim(0, 100)\n",
    "plt.ylabel('OS (months)', size = 15)\n",
    "\n",
    "plt.title('Median OS', size = 20)\n",
    "\n",
    "plt.gca().spines['top'].set_visible(False)\n",
    "plt.gca().spines['right'].set_visible(False)\n",
    "\n",
    "fig.add_subplot(1, 1, 1, frameon = False)\n",
    "plt.tick_params(labelcolor = 'none', which = 'both', top = False, bottom = False, left = False, right = False)\n",
    "plt.xlabel('Machine-learning risk', labelpad = 20, size = 20)\n",
    "plt.title('CHAARTED: Docetaxel + ADT vs. ADT for metastatic, castration-sensitive prostate cancer', pad = 40, size = 20, weight = 'bold', loc = 'center')\n",
    "\n",
    "legend_elements = [Line2D([0], [0], color = 'red', linestyle = 'solid', label = 'CHAARTED: Docetaxel + ADT'),\n",
    "                   Line2D([0], [0], color = 'red', linestyle = '--', label = 'CHAARTED: ADT'),\n",
    "                   Line2D([0], [0], color = 'black', linestyle = 'solid', label = 'Flatiron: Docetaxel + ADT (n = {})'.format(chaarted.query('adt_dotx == 1').shape[0])),\n",
    "                   Line2D([0], [0], color = 'black', linestyle = '--', label = 'Flatiron: ADT (n = {})'.format(chaarted.query('adt_dotx == 0').shape[0]))]\n",
    "\n",
    "plt.legend(handles = legend_elements, fancybox = True, shadow = True, loc = 'lower left', prop = {'size': 9})\n",
    "\n",
    "plt.savefig('chaarted_summary_sc.png', bbox_inches = 'tight')\n",
    "\n",
    "plt.show()"
   ]
  },
  {
   "cell_type": "markdown",
   "id": "f81f2947",
   "metadata": {},
   "source": [
    "### LATITUDE : abiraterone vs. ADT in metastatic, castration-sensitive prostate cancer  \n",
    "\n",
    "**INCLUSION**\n",
    "* Untreated metastatic prostate cancer, except up to 3 months of ADT \n",
    "* Castration-sensitive\n",
    "* Received ADT or abiraterone plus ADT\n",
    "* No active cardiac disease, viral hepatitis, or chronic liver disease in the year preceding metastatic diagnosis\n",
    "* No CNS metatastasis at time of metastatic diagnosis \n",
    "* ECOG is not 3 or 4 at time of metastatic diagnosis \n",
    "* Adequate organ function at time of mestastatic diagnosis "
   ]
  },
  {
   "cell_type": "markdown",
   "id": "118679a7",
   "metadata": {},
   "source": [
    "#### ADT"
   ]
  },
  {
   "cell_type": "code",
   "execution_count": 148,
   "id": "dcb96a1e",
   "metadata": {},
   "outputs": [
    {
     "data": {
      "text/plain": [
       "(18927, 18927)"
      ]
     },
     "execution_count": 148,
     "metadata": {},
     "output_type": "execute_result"
    }
   ],
   "source": [
    "df_full = pd.read_csv('df_risk_crude.csv', dtype = {'death_status': bool})\n",
    "row_ID(df_full)"
   ]
  },
  {
   "cell_type": "code",
   "execution_count": 149,
   "id": "c267448a",
   "metadata": {},
   "outputs": [],
   "source": [
    "adt = pd.read_csv('Enhanced_MetPC_ADT.csv')"
   ]
  },
  {
   "cell_type": "code",
   "execution_count": 150,
   "id": "0dffad02",
   "metadata": {},
   "outputs": [],
   "source": [
    "adt = (\n",
    "    adt[adt['PatientID'].isin(df_full['PatientID'])]\n",
    "    .query('TreatmentSetting == \"Advanced\"')\n",
    ")"
   ]
  },
  {
   "cell_type": "code",
   "execution_count": 151,
   "id": "115971c9",
   "metadata": {},
   "outputs": [
    {
     "data": {
      "text/plain": [
       "(17863, 17863)"
      ]
     },
     "execution_count": 151,
     "metadata": {},
     "output_type": "execute_result"
    }
   ],
   "source": [
    "row_ID(adt)"
   ]
  },
  {
   "cell_type": "code",
   "execution_count": 152,
   "id": "36ca890f",
   "metadata": {},
   "outputs": [],
   "source": [
    "adt.loc[:, 'StartDate'] = pd.to_datetime(adt['StartDate'])"
   ]
  },
  {
   "cell_type": "code",
   "execution_count": 153,
   "id": "86ecdfd0",
   "metadata": {},
   "outputs": [],
   "source": [
    "adt = adt.rename(columns = {'StartDate': 'StartDate_adt'})"
   ]
  },
  {
   "cell_type": "code",
   "execution_count": 154,
   "id": "10f564c5",
   "metadata": {},
   "outputs": [],
   "source": [
    "df_full = pd.merge(df_full, adt[['PatientID', 'StartDate_adt']], on = 'PatientID', how = 'outer')"
   ]
  },
  {
   "cell_type": "code",
   "execution_count": 155,
   "id": "93ff7a0f",
   "metadata": {},
   "outputs": [
    {
     "data": {
      "text/plain": [
       "(18927, 18927)"
      ]
     },
     "execution_count": 155,
     "metadata": {},
     "output_type": "execute_result"
    }
   ],
   "source": [
    "row_ID(df_full)"
   ]
  },
  {
   "cell_type": "code",
   "execution_count": 156,
   "id": "5e443ee3",
   "metadata": {},
   "outputs": [],
   "source": [
    "enhanced_met = pd.read_csv('Enhanced_MetProstate.csv')"
   ]
  },
  {
   "cell_type": "code",
   "execution_count": 157,
   "id": "9fd9dbe2",
   "metadata": {},
   "outputs": [],
   "source": [
    "enhanced_met = enhanced_met[enhanced_met['PatientID'].isin(df_full['PatientID'])]"
   ]
  },
  {
   "cell_type": "code",
   "execution_count": 158,
   "id": "443295c5",
   "metadata": {},
   "outputs": [],
   "source": [
    "enhanced_met.loc[:, 'MetDiagnosisDate'] = pd.to_datetime(enhanced_met['MetDiagnosisDate'])"
   ]
  },
  {
   "cell_type": "code",
   "execution_count": 159,
   "id": "d9343ca3",
   "metadata": {},
   "outputs": [],
   "source": [
    "enhanced_met.loc[:, 'CRPCDate'] = pd.to_datetime(enhanced_met['CRPCDate'])"
   ]
  },
  {
   "cell_type": "code",
   "execution_count": 160,
   "id": "aaeb4713",
   "metadata": {},
   "outputs": [],
   "source": [
    "df_full = pd.merge(df_full, enhanced_met[['PatientID', 'MetDiagnosisDate', 'CRPCDate']], on = 'PatientID')"
   ]
  },
  {
   "cell_type": "code",
   "execution_count": 161,
   "id": "e0c17877",
   "metadata": {},
   "outputs": [
    {
     "data": {
      "text/plain": [
       "(18927, 18927)"
      ]
     },
     "execution_count": 161,
     "metadata": {},
     "output_type": "execute_result"
    }
   ],
   "source": [
    "row_ID(df_full)"
   ]
  },
  {
   "cell_type": "code",
   "execution_count": 162,
   "id": "8f2ca1fe",
   "metadata": {},
   "outputs": [],
   "source": [
    "# Find all that start ADT within -120 to +90 days of metastatic diagnosis \n",
    "latitude_adt = (\n",
    "    df_full\n",
    "    .assign(adt_diff = (df_full['StartDate_adt'] - df_full['MetDiagnosisDate']).dt.days)\n",
    "    .query('adt_diff >= -120 and adt_diff <= 90')\n",
    ")"
   ]
  },
  {
   "cell_type": "code",
   "execution_count": 163,
   "id": "cbb41704",
   "metadata": {},
   "outputs": [],
   "source": [
    "# Find all that have missing CPRC date or date is >90 after metastatic diagnosis \n",
    "latitude_adt = (\n",
    "    latitude_adt\n",
    "    .assign(crpc_diff = (latitude_adt['CRPCDate'] - latitude_adt['MetDiagnosisDate']).dt.days)\n",
    "    .query('crpc_diff > 90 or CRPCDate.isna()', engine = 'python')\n",
    ")"
   ]
  },
  {
   "cell_type": "code",
   "execution_count": 164,
   "id": "30a2c9d0",
   "metadata": {},
   "outputs": [
    {
     "data": {
      "text/plain": [
       "(10475, 10475)"
      ]
     },
     "execution_count": 164,
     "metadata": {},
     "output_type": "execute_result"
    }
   ],
   "source": [
    "row_ID(latitude_adt)"
   ]
  },
  {
   "cell_type": "code",
   "execution_count": 165,
   "id": "a59f4085",
   "metadata": {},
   "outputs": [],
   "source": [
    "line_therapy = pd.read_csv('LineOfTherapy.csv')"
   ]
  },
  {
   "cell_type": "code",
   "execution_count": 166,
   "id": "6af71d40",
   "metadata": {},
   "outputs": [],
   "source": [
    "zero = (\n",
    "    line_therapy.query('LineNumber == 0')\n",
    "    .PatientID\n",
    ")"
   ]
  },
  {
   "cell_type": "code",
   "execution_count": 167,
   "id": "1edbd007",
   "metadata": {},
   "outputs": [],
   "source": [
    "# Exclude patients with missing treatment information (ie, LineNumber == 0)\n",
    "latitude_adt = latitude_adt[~latitude_adt.PatientID.isin(zero)]"
   ]
  },
  {
   "cell_type": "code",
   "execution_count": 168,
   "id": "824b2a47",
   "metadata": {},
   "outputs": [
    {
     "data": {
      "text/plain": [
       "(10117, 10117)"
      ]
     },
     "execution_count": 168,
     "metadata": {},
     "output_type": "execute_result"
    }
   ],
   "source": [
    "row_ID(latitude_adt)"
   ]
  },
  {
   "cell_type": "code",
   "execution_count": 169,
   "id": "e438d6d4",
   "metadata": {},
   "outputs": [],
   "source": [
    "line_therapy = line_therapy.query('LineSetting != \"nmCRPC\"')"
   ]
  },
  {
   "cell_type": "code",
   "execution_count": 170,
   "id": "1a911436",
   "metadata": {},
   "outputs": [],
   "source": [
    "# List of FDA approved drugs for mPC as of July 2023. Clinical study drug is also included. \n",
    "fda_yes = [\n",
    "    'Abiraterone',\n",
    "    'Apalutamide',\n",
    "    'Cabazitaxel',\n",
    "    'Carboplatin',\n",
    "    'Cisplatin',\n",
    "    'Darolutamide',\n",
    "    'Docetaxel',\n",
    "    'Enzalutamide',\n",
    "    'Mitoxantrone',\n",
    "    'Olaparib',\n",
    "    'Oxaliplatin',\n",
    "    'Paclitaxel',\n",
    "    'Pembrolizumab',\n",
    "    'Radium-223',\n",
    "    'Rucaparib',\n",
    "    'Sipuleucel-T',\n",
    "    'Clinical Study Drug'\n",
    "]"
   ]
  },
  {
   "cell_type": "code",
   "execution_count": 171,
   "id": "d9f82232",
   "metadata": {},
   "outputs": [],
   "source": [
    "line_therapy = line_therapy[line_therapy['LineName'].str.contains('|'.join(fda_yes))]"
   ]
  },
  {
   "cell_type": "code",
   "execution_count": 172,
   "id": "14c5a5f7",
   "metadata": {},
   "outputs": [],
   "source": [
    "line_therapy = (\n",
    "    line_therapy\n",
    "    .sort_values(by = ['PatientID', 'StartDate'], ascending = [True, True])\n",
    ")"
   ]
  },
  {
   "cell_type": "code",
   "execution_count": 173,
   "id": "8066f790",
   "metadata": {},
   "outputs": [],
   "source": [
    "line_therapy['line_number'] = (\n",
    "    line_therapy.groupby('PatientID')['LineNumber'].cumcount()+1\n",
    ")"
   ]
  },
  {
   "cell_type": "code",
   "execution_count": 174,
   "id": "f79e4476",
   "metadata": {},
   "outputs": [],
   "source": [
    "# First line therapy is in castrate-resistant setting \n",
    "fl_crpc = (\n",
    "    line_therapy[line_therapy.PatientID.isin(latitude_adt.PatientID)]\n",
    "    .query('line_number == 1 & LineSetting == \"mCRPC\"')\n",
    "    .PatientID\n",
    ")"
   ]
  },
  {
   "cell_type": "code",
   "execution_count": 175,
   "id": "3441604f",
   "metadata": {},
   "outputs": [],
   "source": [
    "# Never received therapy other than ADT\n",
    "notrt_adt = (\n",
    "    latitude_adt[~latitude_adt.PatientID.isin(line_therapy.PatientID)]\n",
    "    .PatientID\n",
    ")"
   ]
  },
  {
   "cell_type": "code",
   "execution_count": 176,
   "id": "2eb84df2",
   "metadata": {},
   "outputs": [],
   "source": [
    "adt_IDs = np.concatenate((fl_crpc, notrt_adt))"
   ]
  },
  {
   "cell_type": "code",
   "execution_count": 177,
   "id": "26c74fce",
   "metadata": {},
   "outputs": [
    {
     "data": {
      "text/plain": [
       "6218"
      ]
     },
     "execution_count": 177,
     "metadata": {},
     "output_type": "execute_result"
    }
   ],
   "source": [
    "len(adt_IDs)"
   ]
  },
  {
   "cell_type": "code",
   "execution_count": 178,
   "id": "cc1b1a69",
   "metadata": {},
   "outputs": [],
   "source": [
    "latitude_adt = latitude_adt[latitude_adt.PatientID.isin(adt_IDs)]"
   ]
  },
  {
   "cell_type": "code",
   "execution_count": 179,
   "id": "69e5c5e3",
   "metadata": {},
   "outputs": [],
   "source": [
    "latitude_adt.loc[:,'adt_abi'] = 0"
   ]
  },
  {
   "cell_type": "code",
   "execution_count": 180,
   "id": "8b09090e",
   "metadata": {},
   "outputs": [
    {
     "data": {
      "text/plain": [
       "(6218, 6218)"
      ]
     },
     "execution_count": 180,
     "metadata": {},
     "output_type": "execute_result"
    }
   ],
   "source": [
    "row_ID(latitude_adt)"
   ]
  },
  {
   "cell_type": "code",
   "execution_count": 181,
   "id": "0590cd40",
   "metadata": {
    "scrolled": true
   },
   "outputs": [
    {
     "data": {
      "text/html": [
       "<div>\n",
       "<style scoped>\n",
       "    .dataframe tbody tr th:only-of-type {\n",
       "        vertical-align: middle;\n",
       "    }\n",
       "\n",
       "    .dataframe tbody tr th {\n",
       "        vertical-align: top;\n",
       "    }\n",
       "\n",
       "    .dataframe thead th {\n",
       "        text-align: right;\n",
       "    }\n",
       "</style>\n",
       "<table border=\"1\" class=\"dataframe\">\n",
       "  <thead>\n",
       "    <tr style=\"text-align: right;\">\n",
       "      <th></th>\n",
       "      <th>PatientID</th>\n",
       "      <th>Gender</th>\n",
       "      <th>race</th>\n",
       "      <th>ethnicity</th>\n",
       "      <th>age</th>\n",
       "      <th>p_type</th>\n",
       "      <th>NStage</th>\n",
       "      <th>MStage</th>\n",
       "      <th>Histology</th>\n",
       "      <th>GleasonScore</th>\n",
       "      <th>...</th>\n",
       "      <th>other_met</th>\n",
       "      <th>prim_treatment</th>\n",
       "      <th>early_adt</th>\n",
       "      <th>risk_score</th>\n",
       "      <th>StartDate_adt</th>\n",
       "      <th>MetDiagnosisDate</th>\n",
       "      <th>CRPCDate</th>\n",
       "      <th>adt_diff</th>\n",
       "      <th>crpc_diff</th>\n",
       "      <th>adt_abi</th>\n",
       "    </tr>\n",
       "  </thead>\n",
       "  <tbody>\n",
       "    <tr>\n",
       "      <th>9973</th>\n",
       "      <td>F5C4995232250</td>\n",
       "      <td>M</td>\n",
       "      <td>other</td>\n",
       "      <td>unknown</td>\n",
       "      <td>63</td>\n",
       "      <td>COMMUNITY</td>\n",
       "      <td>Unknown / Not documented</td>\n",
       "      <td>M1</td>\n",
       "      <td>Prostate cancer, NOS</td>\n",
       "      <td>Unknown / Not documented</td>\n",
       "      <td>...</td>\n",
       "      <td>0.0</td>\n",
       "      <td>unknown</td>\n",
       "      <td>0.0</td>\n",
       "      <td>-0.388859</td>\n",
       "      <td>2017-07-08</td>\n",
       "      <td>2017-07-08</td>\n",
       "      <td>2019-07-02</td>\n",
       "      <td>0.0</td>\n",
       "      <td>724.0</td>\n",
       "      <td>0</td>\n",
       "    </tr>\n",
       "    <tr>\n",
       "      <th>17536</th>\n",
       "      <td>F77BD9AB1C9C8</td>\n",
       "      <td>M</td>\n",
       "      <td>white</td>\n",
       "      <td>unknown</td>\n",
       "      <td>72</td>\n",
       "      <td>COMMUNITY</td>\n",
       "      <td>Unknown / Not documented</td>\n",
       "      <td>M1</td>\n",
       "      <td>Adenocarcinoma</td>\n",
       "      <td>9</td>\n",
       "      <td>...</td>\n",
       "      <td>0.0</td>\n",
       "      <td>unknown</td>\n",
       "      <td>0.0</td>\n",
       "      <td>0.237880</td>\n",
       "      <td>2017-04-18</td>\n",
       "      <td>2017-04-10</td>\n",
       "      <td>2018-02-14</td>\n",
       "      <td>8.0</td>\n",
       "      <td>310.0</td>\n",
       "      <td>0</td>\n",
       "    </tr>\n",
       "    <tr>\n",
       "      <th>18605</th>\n",
       "      <td>F437D24EE6FDB</td>\n",
       "      <td>M</td>\n",
       "      <td>other</td>\n",
       "      <td>unknown</td>\n",
       "      <td>77</td>\n",
       "      <td>COMMUNITY</td>\n",
       "      <td>N0</td>\n",
       "      <td>M0</td>\n",
       "      <td>Adenocarcinoma</td>\n",
       "      <td>4 + 3 = 7</td>\n",
       "      <td>...</td>\n",
       "      <td>0.0</td>\n",
       "      <td>prostatectomy</td>\n",
       "      <td>0.0</td>\n",
       "      <td>-0.963279</td>\n",
       "      <td>2018-03-01</td>\n",
       "      <td>2018-04-11</td>\n",
       "      <td>2018-10-10</td>\n",
       "      <td>-41.0</td>\n",
       "      <td>182.0</td>\n",
       "      <td>0</td>\n",
       "    </tr>\n",
       "  </tbody>\n",
       "</table>\n",
       "<p>3 rows × 235 columns</p>\n",
       "</div>"
      ],
      "text/plain": [
       "           PatientID Gender   race ethnicity  age     p_type  \\\n",
       "9973   F5C4995232250      M  other   unknown   63  COMMUNITY   \n",
       "17536  F77BD9AB1C9C8      M  white   unknown   72  COMMUNITY   \n",
       "18605  F437D24EE6FDB      M  other   unknown   77  COMMUNITY   \n",
       "\n",
       "                         NStage MStage             Histology  \\\n",
       "9973   Unknown / Not documented     M1  Prostate cancer, NOS   \n",
       "17536  Unknown / Not documented     M1        Adenocarcinoma   \n",
       "18605                        N0     M0        Adenocarcinoma   \n",
       "\n",
       "                   GleasonScore  ...  other_met  prim_treatment early_adt  \\\n",
       "9973   Unknown / Not documented  ...        0.0         unknown       0.0   \n",
       "17536                         9  ...        0.0         unknown       0.0   \n",
       "18605                 4 + 3 = 7  ...        0.0   prostatectomy       0.0   \n",
       "\n",
       "       risk_score  StartDate_adt  MetDiagnosisDate   CRPCDate  adt_diff  \\\n",
       "9973    -0.388859     2017-07-08        2017-07-08 2019-07-02       0.0   \n",
       "17536    0.237880     2017-04-18        2017-04-10 2018-02-14       8.0   \n",
       "18605   -0.963279     2018-03-01        2018-04-11 2018-10-10     -41.0   \n",
       "\n",
       "       crpc_diff  adt_abi  \n",
       "9973       724.0        0  \n",
       "17536      310.0        0  \n",
       "18605      182.0        0  \n",
       "\n",
       "[3 rows x 235 columns]"
      ]
     },
     "execution_count": 181,
     "metadata": {},
     "output_type": "execute_result"
    }
   ],
   "source": [
    "latitude_adt.sample(3)"
   ]
  },
  {
   "cell_type": "markdown",
   "id": "c36b42d0",
   "metadata": {},
   "source": [
    "#### Treatment arm: Abiraterone + ADT"
   ]
  },
  {
   "cell_type": "code",
   "execution_count": 182,
   "id": "bf9a14e5",
   "metadata": {},
   "outputs": [],
   "source": [
    "# Find those that start ADT within -90 to 90 days of metastaic diagnosis \n",
    "latitude_abi = (\n",
    "    df_full\n",
    "    .assign(adt_diff = (df_full['StartDate_adt'] - df_full['MetDiagnosisDate']).dt.days)\n",
    "    .query('adt_diff >= -90 and adt_diff <= 90')\n",
    ")"
   ]
  },
  {
   "cell_type": "code",
   "execution_count": 183,
   "id": "26797562",
   "metadata": {},
   "outputs": [],
   "source": [
    "# Find all that have missing CPRC date or date is >30 days metastatic diagnosis \n",
    "latitude_abi = (\n",
    "    latitude_abi\n",
    "    .assign(crpc_diff = (latitude_abi['CRPCDate'] - latitude_abi['MetDiagnosisDate']).dt.days)\n",
    "    .query('crpc_diff > 90 or CRPCDate.isna()', engine = 'python')\n",
    ")"
   ]
  },
  {
   "cell_type": "code",
   "execution_count": 184,
   "id": "7be361b2",
   "metadata": {},
   "outputs": [
    {
     "data": {
      "text/plain": [
       "(10397, 10397)"
      ]
     },
     "execution_count": 184,
     "metadata": {},
     "output_type": "execute_result"
    }
   ],
   "source": [
    "row_ID(latitude_abi)"
   ]
  },
  {
   "cell_type": "code",
   "execution_count": 185,
   "id": "9a58c76a",
   "metadata": {},
   "outputs": [],
   "source": [
    "line_therapy = pd.read_csv('LineOfTherapy.csv')"
   ]
  },
  {
   "cell_type": "code",
   "execution_count": 186,
   "id": "fb603816",
   "metadata": {},
   "outputs": [],
   "source": [
    "# Find start time of first line of mHSPC therapy. \n",
    "line_therapy_fl = (\n",
    "    line_therapy[line_therapy['PatientID'].isin(latitude_abi['PatientID'])]\n",
    "    .query('LineSetting == \"mHSPC\"')\n",
    "    .sort_values(by = ['PatientID', 'StartDate'], ascending = [True, True])\n",
    "    .drop_duplicates(subset = ['PatientID'], keep = 'first')\n",
    "    .rename(columns = {'StartDate': 'StartDate_abi'})\n",
    ")"
   ]
  },
  {
   "cell_type": "code",
   "execution_count": 187,
   "id": "2e45db80",
   "metadata": {},
   "outputs": [
    {
     "data": {
      "text/plain": [
       "(4022, 4022)"
      ]
     },
     "execution_count": 187,
     "metadata": {},
     "output_type": "execute_result"
    }
   ],
   "source": [
    "row_ID(line_therapy_fl)"
   ]
  },
  {
   "cell_type": "code",
   "execution_count": 188,
   "id": "a2da5630",
   "metadata": {},
   "outputs": [],
   "source": [
    "line_therapy_fl.loc[:, 'StartDate_abi'] = pd.to_datetime(line_therapy_fl['StartDate_abi'])"
   ]
  },
  {
   "cell_type": "code",
   "execution_count": 189,
   "id": "e3ff6580",
   "metadata": {},
   "outputs": [
    {
     "data": {
      "text/plain": [
       "Abiraterone                             1165\n",
       "Abiraterone,Docetaxel                     27\n",
       "Abiraterone,Enzalutamide                   8\n",
       "Abiraterone,Clinical Study Drug            4\n",
       "Abiraterone,Apalutamide                    4\n",
       "Abiraterone,Apalutamide,Enzalutamide       1\n",
       "Abiraterone,Capecitabine                   1\n",
       "Abiraterone,Medroxyprogesterone            1\n",
       "Abiraterone,Fluorouracil                   1\n",
       "Abiraterone,Tamoxifen                      1\n",
       "Name: LineName, dtype: int64"
      ]
     },
     "execution_count": 189,
     "metadata": {},
     "output_type": "execute_result"
    }
   ],
   "source": [
    "line_therapy_fl[line_therapy_fl['LineName'].str.contains('Abiraterone')].LineName.value_counts().head(10)"
   ]
  },
  {
   "cell_type": "code",
   "execution_count": 190,
   "id": "6dff3e90",
   "metadata": {},
   "outputs": [],
   "source": [
    "line_abi = line_therapy_fl.query('LineName == \"Abiraterone\"')"
   ]
  },
  {
   "cell_type": "code",
   "execution_count": 191,
   "id": "a29fa0a3",
   "metadata": {},
   "outputs": [
    {
     "data": {
      "text/plain": [
       "(1165, 1165)"
      ]
     },
     "execution_count": 191,
     "metadata": {},
     "output_type": "execute_result"
    }
   ],
   "source": [
    "row_ID(line_abi)"
   ]
  },
  {
   "cell_type": "code",
   "execution_count": 192,
   "id": "ce8e0f4c",
   "metadata": {},
   "outputs": [],
   "source": [
    "latitude_abi = pd.merge(latitude_abi, line_abi[['PatientID', 'StartDate_abi']], on = 'PatientID', how = 'inner')"
   ]
  },
  {
   "cell_type": "code",
   "execution_count": 193,
   "id": "ebe3f694",
   "metadata": {},
   "outputs": [
    {
     "data": {
      "text/plain": [
       "(1165, 1165)"
      ]
     },
     "execution_count": 193,
     "metadata": {},
     "output_type": "execute_result"
    }
   ],
   "source": [
    "row_ID(latitude_abi)"
   ]
  },
  {
   "cell_type": "code",
   "execution_count": 194,
   "id": "ccb2a0e8",
   "metadata": {},
   "outputs": [],
   "source": [
    "# Find all patients that start abiraterone within 90 days of ADT start\n",
    "latitude_abi = (\n",
    "    latitude_abi\n",
    "    .assign(abi_diff = (latitude_abi['StartDate_abi'] - latitude_abi['StartDate_adt']).dt.days)\n",
    "    .query('abi_diff >= -90 and abi_diff <= 90')\n",
    ")"
   ]
  },
  {
   "cell_type": "code",
   "execution_count": 195,
   "id": "5dbd4ea4",
   "metadata": {},
   "outputs": [
    {
     "data": {
      "text/plain": [
       "(876, 876)"
      ]
     },
     "execution_count": 195,
     "metadata": {},
     "output_type": "execute_result"
    }
   ],
   "source": [
    "row_ID(latitude_abi)"
   ]
  },
  {
   "cell_type": "code",
   "execution_count": 196,
   "id": "0072b4f7",
   "metadata": {},
   "outputs": [
    {
     "data": {
      "text/html": [
       "<div>\n",
       "<style scoped>\n",
       "    .dataframe tbody tr th:only-of-type {\n",
       "        vertical-align: middle;\n",
       "    }\n",
       "\n",
       "    .dataframe tbody tr th {\n",
       "        vertical-align: top;\n",
       "    }\n",
       "\n",
       "    .dataframe thead th {\n",
       "        text-align: right;\n",
       "    }\n",
       "</style>\n",
       "<table border=\"1\" class=\"dataframe\">\n",
       "  <thead>\n",
       "    <tr style=\"text-align: right;\">\n",
       "      <th></th>\n",
       "      <th>PatientID</th>\n",
       "      <th>Gender</th>\n",
       "      <th>race</th>\n",
       "      <th>ethnicity</th>\n",
       "      <th>age</th>\n",
       "      <th>p_type</th>\n",
       "      <th>NStage</th>\n",
       "      <th>MStage</th>\n",
       "      <th>Histology</th>\n",
       "      <th>GleasonScore</th>\n",
       "      <th>...</th>\n",
       "      <th>prim_treatment</th>\n",
       "      <th>early_adt</th>\n",
       "      <th>risk_score</th>\n",
       "      <th>StartDate_adt</th>\n",
       "      <th>MetDiagnosisDate</th>\n",
       "      <th>CRPCDate</th>\n",
       "      <th>adt_diff</th>\n",
       "      <th>crpc_diff</th>\n",
       "      <th>StartDate_abi</th>\n",
       "      <th>abi_diff</th>\n",
       "    </tr>\n",
       "  </thead>\n",
       "  <tbody>\n",
       "    <tr>\n",
       "      <th>724</th>\n",
       "      <td>F680022F4DFE4</td>\n",
       "      <td>M</td>\n",
       "      <td>white</td>\n",
       "      <td>unknown</td>\n",
       "      <td>74</td>\n",
       "      <td>COMMUNITY</td>\n",
       "      <td>Unknown / Not documented</td>\n",
       "      <td>M1</td>\n",
       "      <td>Adenocarcinoma</td>\n",
       "      <td>9</td>\n",
       "      <td>...</td>\n",
       "      <td>unknown</td>\n",
       "      <td>0.0</td>\n",
       "      <td>1.047235</td>\n",
       "      <td>2021-11-19</td>\n",
       "      <td>2021-11-05</td>\n",
       "      <td>NaT</td>\n",
       "      <td>14.0</td>\n",
       "      <td>NaN</td>\n",
       "      <td>2021-12-06</td>\n",
       "      <td>17</td>\n",
       "    </tr>\n",
       "    <tr>\n",
       "      <th>1130</th>\n",
       "      <td>FF33262744F93</td>\n",
       "      <td>M</td>\n",
       "      <td>white</td>\n",
       "      <td>unknown</td>\n",
       "      <td>66</td>\n",
       "      <td>COMMUNITY</td>\n",
       "      <td>NX</td>\n",
       "      <td>M1</td>\n",
       "      <td>Adenocarcinoma</td>\n",
       "      <td>Unknown / Not documented</td>\n",
       "      <td>...</td>\n",
       "      <td>unknown</td>\n",
       "      <td>0.0</td>\n",
       "      <td>0.909636</td>\n",
       "      <td>2019-11-21</td>\n",
       "      <td>2019-11-20</td>\n",
       "      <td>NaT</td>\n",
       "      <td>1.0</td>\n",
       "      <td>NaN</td>\n",
       "      <td>2019-12-24</td>\n",
       "      <td>33</td>\n",
       "    </tr>\n",
       "    <tr>\n",
       "      <th>749</th>\n",
       "      <td>F55A83ADB71FD</td>\n",
       "      <td>M</td>\n",
       "      <td>unknown</td>\n",
       "      <td>unknown</td>\n",
       "      <td>69</td>\n",
       "      <td>ACADEMIC</td>\n",
       "      <td>Unknown / Not documented</td>\n",
       "      <td>M1</td>\n",
       "      <td>Adenocarcinoma</td>\n",
       "      <td>8</td>\n",
       "      <td>...</td>\n",
       "      <td>unknown</td>\n",
       "      <td>0.0</td>\n",
       "      <td>-0.705822</td>\n",
       "      <td>2021-05-01</td>\n",
       "      <td>2021-04-13</td>\n",
       "      <td>NaT</td>\n",
       "      <td>18.0</td>\n",
       "      <td>NaN</td>\n",
       "      <td>2021-05-14</td>\n",
       "      <td>13</td>\n",
       "    </tr>\n",
       "  </tbody>\n",
       "</table>\n",
       "<p>3 rows × 236 columns</p>\n",
       "</div>"
      ],
      "text/plain": [
       "          PatientID Gender     race ethnicity  age     p_type  \\\n",
       "724   F680022F4DFE4      M    white   unknown   74  COMMUNITY   \n",
       "1130  FF33262744F93      M    white   unknown   66  COMMUNITY   \n",
       "749   F55A83ADB71FD      M  unknown   unknown   69   ACADEMIC   \n",
       "\n",
       "                        NStage MStage       Histology  \\\n",
       "724   Unknown / Not documented     M1  Adenocarcinoma   \n",
       "1130                        NX     M1  Adenocarcinoma   \n",
       "749   Unknown / Not documented     M1  Adenocarcinoma   \n",
       "\n",
       "                  GleasonScore  ...  prim_treatment  early_adt risk_score  \\\n",
       "724                          9  ...         unknown        0.0   1.047235   \n",
       "1130  Unknown / Not documented  ...         unknown        0.0   0.909636   \n",
       "749                          8  ...         unknown        0.0  -0.705822   \n",
       "\n",
       "      StartDate_adt  MetDiagnosisDate  CRPCDate  adt_diff  crpc_diff  \\\n",
       "724      2021-11-19        2021-11-05       NaT      14.0        NaN   \n",
       "1130     2019-11-21        2019-11-20       NaT       1.0        NaN   \n",
       "749      2021-05-01        2021-04-13       NaT      18.0        NaN   \n",
       "\n",
       "      StartDate_abi  abi_diff  \n",
       "724      2021-12-06        17  \n",
       "1130     2019-12-24        33  \n",
       "749      2021-05-14        13  \n",
       "\n",
       "[3 rows x 236 columns]"
      ]
     },
     "execution_count": 196,
     "metadata": {},
     "output_type": "execute_result"
    }
   ],
   "source": [
    "latitude_abi.sample(3)"
   ]
  },
  {
   "cell_type": "code",
   "execution_count": 197,
   "id": "767ebfe0",
   "metadata": {},
   "outputs": [],
   "source": [
    "latitude_abi.loc[:,'adt_abi'] = 1"
   ]
  },
  {
   "cell_type": "code",
   "execution_count": 198,
   "id": "e842dec5",
   "metadata": {},
   "outputs": [],
   "source": [
    "latitude = pd.concat([latitude_adt, latitude_abi], ignore_index = True)"
   ]
  },
  {
   "cell_type": "code",
   "execution_count": 199,
   "id": "5fa4f1ff",
   "metadata": {},
   "outputs": [
    {
     "data": {
      "text/plain": [
       "(7094, 7094)"
      ]
     },
     "execution_count": 199,
     "metadata": {},
     "output_type": "execute_result"
    }
   ],
   "source": [
    "row_ID(latitude)"
   ]
  },
  {
   "cell_type": "code",
   "execution_count": 200,
   "id": "404430f7",
   "metadata": {},
   "outputs": [
    {
     "data": {
      "text/plain": [
       "0    6218\n",
       "1     876\n",
       "Name: adt_abi, dtype: int64"
      ]
     },
     "execution_count": 200,
     "metadata": {},
     "output_type": "execute_result"
    }
   ],
   "source": [
    "latitude.adt_abi.value_counts(dropna = False)"
   ]
  },
  {
   "cell_type": "markdown",
   "id": "01d3f061",
   "metadata": {},
   "source": [
    "#### Time from ADT treatment to death or censor "
   ]
  },
  {
   "cell_type": "code",
   "execution_count": 201,
   "id": "c252bbd0",
   "metadata": {},
   "outputs": [],
   "source": [
    "mortality_tr = pd.read_csv('mortality_cleaned_tr.csv')"
   ]
  },
  {
   "cell_type": "code",
   "execution_count": 202,
   "id": "d8fac091",
   "metadata": {},
   "outputs": [],
   "source": [
    "mortality_te = pd.read_csv('mortality_cleaned_te.csv')"
   ]
  },
  {
   "cell_type": "code",
   "execution_count": 203,
   "id": "3ab4a841",
   "metadata": {},
   "outputs": [],
   "source": [
    "mortality_tr = mortality_tr[['PatientID', 'death_date', 'last_activity']]"
   ]
  },
  {
   "cell_type": "code",
   "execution_count": 204,
   "id": "cbf110c4",
   "metadata": {},
   "outputs": [],
   "source": [
    "mortality_te = mortality_te[['PatientID', 'death_date', 'last_activity']]"
   ]
  },
  {
   "cell_type": "code",
   "execution_count": 205,
   "id": "f32de7fd",
   "metadata": {},
   "outputs": [
    {
     "data": {
      "text/plain": [
       "(18927, 18927)"
      ]
     },
     "execution_count": 205,
     "metadata": {},
     "output_type": "execute_result"
    }
   ],
   "source": [
    "mortality = pd.concat([mortality_tr, mortality_te], ignore_index = True)\n",
    "row_ID(mortality)"
   ]
  },
  {
   "cell_type": "code",
   "execution_count": 206,
   "id": "e8367fa3",
   "metadata": {},
   "outputs": [],
   "source": [
    "mortality.loc[:, 'last_activity'] = pd.to_datetime(mortality['last_activity'])"
   ]
  },
  {
   "cell_type": "code",
   "execution_count": 207,
   "id": "5e8c8be1",
   "metadata": {},
   "outputs": [],
   "source": [
    "mortality.loc[:, 'death_date'] = pd.to_datetime(mortality['death_date'])"
   ]
  },
  {
   "cell_type": "code",
   "execution_count": 208,
   "id": "195c9088",
   "metadata": {},
   "outputs": [
    {
     "data": {
      "text/plain": [
       "18927"
      ]
     },
     "execution_count": 208,
     "metadata": {},
     "output_type": "execute_result"
    }
   ],
   "source": [
    "len(mortality)"
   ]
  },
  {
   "cell_type": "code",
   "execution_count": 209,
   "id": "f6a08968",
   "metadata": {},
   "outputs": [],
   "source": [
    "latitude = pd.merge(latitude, mortality, on = 'PatientID')"
   ]
  },
  {
   "cell_type": "code",
   "execution_count": 210,
   "id": "6d4742c4",
   "metadata": {},
   "outputs": [
    {
     "data": {
      "text/plain": [
       "(7094, 7094)"
      ]
     },
     "execution_count": 210,
     "metadata": {},
     "output_type": "execute_result"
    }
   ],
   "source": [
    "row_ID(latitude)"
   ]
  },
  {
   "cell_type": "code",
   "execution_count": 211,
   "id": "423d7b34",
   "metadata": {},
   "outputs": [],
   "source": [
    "conditions = [\n",
    "    (latitude['death_status'] == 1),\n",
    "    (latitude['death_status'] == 0)]\n",
    "\n",
    "choices = [\n",
    "    (latitude['death_date'] - latitude['StartDate_adt']).dt.days,\n",
    "    (latitude['last_activity'] - latitude['StartDate_adt']).dt.days]\n",
    "\n",
    "latitude.loc[:, 'timerisk_treatment'] = np.select(conditions, choices)\n",
    "\n",
    "latitude = latitude.query('timerisk_treatment >= 0')"
   ]
  },
  {
   "cell_type": "markdown",
   "id": "cf199810",
   "metadata": {},
   "source": [
    "#### Patient count "
   ]
  },
  {
   "cell_type": "code",
   "execution_count": 212,
   "id": "4ad46a0e",
   "metadata": {},
   "outputs": [
    {
     "data": {
      "text/plain": [
       "(7094, 7094)"
      ]
     },
     "execution_count": 212,
     "metadata": {},
     "output_type": "execute_result"
    }
   ],
   "source": [
    "row_ID(latitude)"
   ]
  },
  {
   "cell_type": "code",
   "execution_count": 213,
   "id": "38b17c08",
   "metadata": {},
   "outputs": [],
   "source": [
    "# Exclude those with active cardiac disease in the year preceding metastatic diagnosis \n",
    "latitude = latitude[~latitude['PatientID'].isin(cardiac_IDs)]"
   ]
  },
  {
   "cell_type": "code",
   "execution_count": 214,
   "id": "43d9c3a5",
   "metadata": {},
   "outputs": [],
   "source": [
    "# Exclude those with viral hepatitis or chronic liver disease in the year preceding metastatic diagnosis \n",
    "latitude = latitude[~latitude['PatientID'].isin(liv_IDs)]"
   ]
  },
  {
   "cell_type": "code",
   "execution_count": 215,
   "id": "4cdb06b9",
   "metadata": {},
   "outputs": [],
   "source": [
    "# Exclude those with CNS metastasis at time of metastatic diagnosis \n",
    "latitude = latitude.query('cns_met == 0')"
   ]
  },
  {
   "cell_type": "code",
   "execution_count": 216,
   "id": "f68e3a65",
   "metadata": {},
   "outputs": [],
   "source": [
    "# Exclude those with ECOG of 3 or 4 at time of metastatic diagnosis \n",
    "latitude = latitude.query('ecog_diagnosis != \"3.0\" and ecog_diagnosis != \"4.0\"')"
   ]
  },
  {
   "cell_type": "code",
   "execution_count": 217,
   "id": "5d6390b6",
   "metadata": {},
   "outputs": [],
   "source": [
    "# Exclude those with abnormal organ function at time of metastatic diagnosis \n",
    "latitude = (\n",
    "    latitude\n",
    "    .query('creatinine_diag < 2 or creatinine_diag_na == 1')\n",
    "    .query('hemoglobin_diag > 9 or hemoglobin_diag_na == 1')\n",
    "    .query('total_bilirubin_diag < 3 or total_bilirubin_diag_na == 1')\n",
    ")"
   ]
  },
  {
   "cell_type": "code",
   "execution_count": 218,
   "id": "1803be3d",
   "metadata": {},
   "outputs": [
    {
     "data": {
      "text/plain": [
       "(6468, 6468)"
      ]
     },
     "execution_count": 218,
     "metadata": {},
     "output_type": "execute_result"
    }
   ],
   "source": [
    "row_ID(latitude)"
   ]
  },
  {
   "cell_type": "code",
   "execution_count": 219,
   "id": "d383e79d",
   "metadata": {},
   "outputs": [],
   "source": [
    "low_cutoff_latitude = cutoff.loc['latitude'].low"
   ]
  },
  {
   "cell_type": "code",
   "execution_count": 220,
   "id": "bd872ee8",
   "metadata": {},
   "outputs": [],
   "source": [
    "high_cutoff_latitude = cutoff.loc['latitude'].high"
   ]
  },
  {
   "cell_type": "code",
   "execution_count": 221,
   "id": "801ab285",
   "metadata": {},
   "outputs": [
    {
     "name": "stdout",
     "output_type": "stream",
     "text": [
      "Abiraterone + ADT: 783\n",
      "High risk: 204\n",
      "Med risk: 245\n",
      "Low risk: 334\n"
     ]
    }
   ],
   "source": [
    "print('Abiraterone + ADT:',  latitude.query('adt_abi == 1').shape[0])\n",
    "print('High risk:', latitude.query('adt_abi == 1').query('risk_score >= @high_cutoff_latitude').shape[0])\n",
    "print('Med risk:', latitude.query('adt_abi == 1').query('risk_score < @high_cutoff_latitude and risk_score > @low_cutoff_latitude').shape[0])\n",
    "print('Low risk:', latitude.query('adt_abi == 1').query('risk_score <= @low_cutoff_latitude').shape[0])"
   ]
  },
  {
   "cell_type": "code",
   "execution_count": 222,
   "id": "facaee32",
   "metadata": {},
   "outputs": [
    {
     "name": "stdout",
     "output_type": "stream",
     "text": [
      "ADT: 5685\n",
      "High risk: 1630\n",
      "Med risk: 2053\n",
      "Low risk: 2002\n"
     ]
    }
   ],
   "source": [
    "print('ADT:',  latitude.query('adt_abi == 0').shape[0])\n",
    "print('High risk:', latitude.query('adt_abi == 0').query('risk_score >= @high_cutoff_latitude').shape[0])\n",
    "print('Med risk:', latitude.query('adt_abi == 0').query('risk_score < @high_cutoff_latitude and risk_score > @low_cutoff_latitude').shape[0])\n",
    "print('Low risk:', latitude.query('adt_abi == 0').query('risk_score <= @low_cutoff_latitude').shape[0])"
   ]
  },
  {
   "cell_type": "markdown",
   "id": "d9835556",
   "metadata": {},
   "source": [
    "#### OS curves without confounder adjustment "
   ]
  },
  {
   "cell_type": "code",
   "execution_count": 223,
   "id": "c2033f59",
   "metadata": {},
   "outputs": [],
   "source": [
    "latitude = latitude.set_index('PatientID')"
   ]
  },
  {
   "cell_type": "code",
   "execution_count": 224,
   "id": "b94666b2",
   "metadata": {},
   "outputs": [],
   "source": [
    "latitude_low_abi = (\n",
    "    latitude\n",
    "    .query('adt_abi == 1')\n",
    "    .query('risk_score <= @low_cutoff_latitude')\n",
    "    .index)\n",
    "\n",
    "latitude_low_adt = (\n",
    "    latitude\n",
    "    .query('adt_abi == 0')\n",
    "    .query('risk_score <= @low_cutoff_latitude')\n",
    "    .index)\n",
    "\n",
    "latitude_med_abi = (\n",
    "    latitude\n",
    "    .query('adt_abi == 1')\n",
    "    .query('risk_score < @high_cutoff_latitude and risk_score > @low_cutoff_latitude')\n",
    "    .index)\n",
    "\n",
    "latitude_med_adt = (\n",
    "    latitude\n",
    "    .query('adt_abi == 0')\n",
    "    .query('risk_score < @high_cutoff_latitude and risk_score > @low_cutoff_latitude')\n",
    "    .index)\n",
    "\n",
    "latitude_high_abi = (\n",
    "    latitude\n",
    "    .query('adt_abi == 1')\n",
    "    .query('risk_score >= @high_cutoff_latitude')\n",
    "    .index)\n",
    "\n",
    "latitude_high_adt = (\n",
    "    latitude\n",
    "    .query('adt_abi == 0')\n",
    "    .query('risk_score >= @high_cutoff_latitude')\n",
    "    .index)\n",
    "\n",
    "latitude_all_abi = (\n",
    "    latitude\n",
    "    .query('adt_abi == 1')\n",
    "    .index)\n",
    "\n",
    "latitude_all_adt = (\n",
    "    latitude\n",
    "    .query('adt_abi == 0')\n",
    "    .index)"
   ]
  },
  {
   "cell_type": "code",
   "execution_count": 225,
   "id": "83503440",
   "metadata": {},
   "outputs": [
    {
     "data": {
      "image/png": "[encoded data removed]",
      "text/plain": [
       "<Figure size 1800x600 with 5 Axes>"
      ]
     },
     "metadata": {},
     "output_type": "display_data"
    }
   ],
   "source": [
    "fig = plt.figure(figsize=(18, 6))\n",
    "\n",
    "# Plot survival curves for low risk group \n",
    "plt.subplot(1, 4, 1)\n",
    "\n",
    "time_low_abi, survival_prob_low_abi = kaplan_meier_estimator(np.array(latitude.loc[latitude_low_abi]['death_status']),\n",
    "                                                             np.array(latitude.loc[latitude_low_abi]['timerisk_treatment']))\n",
    "\n",
    "time_low_adt_l, survival_prob_low_adt_l = kaplan_meier_estimator(np.array(latitude.loc[latitude_low_adt]['death_status']),\n",
    "                                                                 np.array(latitude.loc[latitude_low_adt]['timerisk_treatment']))\n",
    "\n",
    "plt.step(time_low_abi/30, survival_prob_low_abi*100, color = 'red', alpha = 0.5)\n",
    "plt.step(time_low_adt_l/30, survival_prob_low_adt_l*100, color = 'black', alpha = 0.5)\n",
    "\n",
    "plt.xticks(np.arange(0, 61, 6))\n",
    "plt.xlim(0, 61)\n",
    "plt.ylim(0, 100)\n",
    "\n",
    "plt.title('Low-risk', weight = 'bold')\n",
    "plt.ylabel('OS (%)', size = 12, weight = 'bold')\n",
    "\n",
    "plt.gca().spines['top'].set_visible(False)\n",
    "plt.gca().spines['right'].set_visible(False)\n",
    "\n",
    "# Plot survival curves for medium risk group. \n",
    "plt.subplot(1, 4, 2)\n",
    "\n",
    "time_med_abi, survival_prob_med_abi = kaplan_meier_estimator(np.array(latitude.loc[latitude_med_abi]['death_status']),\n",
    "                                                             np.array(latitude.loc[latitude_med_abi]['timerisk_treatment']))\n",
    "\n",
    "time_med_adt_l, survival_prob_med_adt_l = kaplan_meier_estimator(np.array(latitude.loc[latitude_med_adt]['death_status']),\n",
    "                                                                 np.array(latitude.loc[latitude_med_adt]['timerisk_treatment']))\n",
    "\n",
    "plt.step(time_med_abi/30, survival_prob_med_abi*100, color = 'red', alpha = 0.5)\n",
    "plt.step(time_med_adt_l/30, survival_prob_med_adt_l*100, color = 'black', alpha = 0.5)\n",
    "\n",
    "plt.xticks(np.arange(0, 61, 6))\n",
    "plt.xlim(0, 61)\n",
    "plt.ylim(0, 100)\n",
    "\n",
    "plt.title('Med-risk', weight = 'bold')\n",
    "\n",
    "plt.gca().spines['top'].set_visible(False)\n",
    "plt.gca().spines['right'].set_visible(False)\n",
    "\n",
    "# Plot survival curves by treatment for high risk group. \n",
    "plt.subplot(1, 4, 3)\n",
    "\n",
    "time_high_abi, survival_prob_high_abi = kaplan_meier_estimator(np.array(latitude.loc[latitude_high_abi]['death_status']),\n",
    "                                                               np.array(latitude.loc[latitude_high_abi]['timerisk_treatment']))\n",
    "\n",
    "time_high_adt_l, survival_prob_high_adt_l = kaplan_meier_estimator(np.array(latitude.loc[latitude_high_adt]['death_status']),\n",
    "                                                                   np.array(latitude.loc[latitude_high_adt]['timerisk_treatment']))\n",
    "\n",
    "plt.step(time_high_abi/30, survival_prob_high_abi*100, color = 'red', alpha = 0.5)\n",
    "plt.step(time_high_adt_l/30, survival_prob_high_adt_l*100, color = 'black', alpha = 0.5)\n",
    "\n",
    "plt.xticks(np.arange(0, 61, 6))\n",
    "plt.xlim(0, 61)\n",
    "plt.ylim(0, 100)\n",
    "\n",
    "plt.title('High-risk', weight = 'bold')\n",
    "\n",
    "plt.gca().spines['top'].set_visible(False)\n",
    "plt.gca().spines['right'].set_visible(False)\n",
    "\n",
    "# Plot survival curves by treatmetn for all \n",
    "plt.subplot(1, 4, 4)\n",
    "\n",
    "time_all_abi, survival_prob_all_abi = kaplan_meier_estimator(np.array(latitude.loc[latitude_all_abi]['death_status']),\n",
    "                                                             np.array(latitude.loc[latitude_all_abi]['timerisk_treatment']))\n",
    "\n",
    "time_all_adt_l, survival_prob_all_adt_l = kaplan_meier_estimator(np.array(latitude.loc[latitude_all_adt]['death_status']),\n",
    "                                                                 np.array(latitude.loc[latitude_all_adt]['timerisk_treatment']))\n",
    "\n",
    "plt.step(time_all_abi/30, survival_prob_all_abi*100, color = 'red', alpha = 0.5, label = 'Abiraterone + ADT')\n",
    "plt.step(time_all_adt_l/30, survival_prob_all_adt_l*100, color = 'black', alpha = 0.5, label = 'ADT')\n",
    "\n",
    "plt.xticks(np.arange(0, 61, 6))\n",
    "plt.xlim(0, 61)\n",
    "plt.ylim(0, 100)\n",
    "\n",
    "plt.title('Full cohort', weight = 'bold')\n",
    "\n",
    "plt.gca().spines['top'].set_visible(False)\n",
    "plt.gca().spines['right'].set_visible(False)\n",
    "\n",
    "plt.legend(loc = 'upper right', prop = {'size': 8})\n",
    "\n",
    "fig.add_subplot(1, 1, 1, frameon = False)\n",
    "plt.tick_params(labelcolor = 'none', which = 'both', top = False, bottom = False, left = False, right = False)\n",
    "plt.xlabel('Months after treatment', labelpad = 15, size = 12, weight = 'bold')\n",
    "plt.title('LATITUDE: Abiraterone + ADT vs. ADT for metastatic, castration-sensitive prostate cancer', pad = 40, size = 15, weight = 'bold')\n",
    "\n",
    "plt.show()"
   ]
  },
  {
   "cell_type": "markdown",
   "id": "2fe5b798",
   "metadata": {},
   "source": [
    "#### Survival with confounder adjustment via IPTW"
   ]
  },
  {
   "cell_type": "code",
   "execution_count": 226,
   "id": "75604578",
   "metadata": {},
   "outputs": [],
   "source": [
    "latitude_iptw = latitude.filter(items = ['death_status',\n",
    "                                         'timerisk_treatment',\n",
    "                                         'adt_abi',\n",
    "                                         'age',\n",
    "                                         'race',\n",
    "                                         'p_type',\n",
    "                                         'met_year',\n",
    "                                         'commercial',\n",
    "                                         'medicare',\n",
    "                                         'medicaid',\n",
    "                                         'risk_score'])"
   ]
  },
  {
   "cell_type": "code",
   "execution_count": 227,
   "id": "632d1774",
   "metadata": {},
   "outputs": [
    {
     "data": {
      "text/plain": [
       "death_status             bool\n",
       "timerisk_treatment    float64\n",
       "adt_abi                 int64\n",
       "age                     int64\n",
       "race                   object\n",
       "p_type                 object\n",
       "met_year                int64\n",
       "commercial            float64\n",
       "medicare              float64\n",
       "medicaid              float64\n",
       "risk_score            float64\n",
       "dtype: object"
      ]
     },
     "execution_count": 227,
     "metadata": {},
     "output_type": "execute_result"
    }
   ],
   "source": [
    "latitude_iptw.dtypes"
   ]
  },
  {
   "cell_type": "code",
   "execution_count": 228,
   "id": "046a057c",
   "metadata": {},
   "outputs": [],
   "source": [
    "to_be_categorical = list(latitude_iptw.select_dtypes(include = ['object']).columns)"
   ]
  },
  {
   "cell_type": "code",
   "execution_count": 229,
   "id": "02f187c2",
   "metadata": {},
   "outputs": [
    {
     "data": {
      "text/plain": [
       "['race', 'p_type']"
      ]
     },
     "execution_count": 229,
     "metadata": {},
     "output_type": "execute_result"
    }
   ],
   "source": [
    "to_be_categorical"
   ]
  },
  {
   "cell_type": "code",
   "execution_count": 230,
   "id": "80e50098",
   "metadata": {},
   "outputs": [],
   "source": [
    "to_be_categorical.append('met_year')"
   ]
  },
  {
   "cell_type": "code",
   "execution_count": 231,
   "id": "a434fb9f",
   "metadata": {},
   "outputs": [],
   "source": [
    "# Convert variables in list to categorical.\n",
    "for x in list(to_be_categorical):\n",
    "    latitude_iptw[x] = latitude_iptw[x].astype('category')"
   ]
  },
  {
   "cell_type": "code",
   "execution_count": 232,
   "id": "a4103e77",
   "metadata": {},
   "outputs": [],
   "source": [
    "# List of numeric variables, excluding binary variables. \n",
    "numerical_features = ['age']\n",
    "\n",
    "# Transformer will first calculate column median and impute, and then apply a standard scaler. \n",
    "numerical_transformer = Pipeline(steps = [\n",
    "    ('imputer', SimpleImputer(strategy = 'median')),\n",
    "    ('std_scaler', StandardScaler())])"
   ]
  },
  {
   "cell_type": "code",
   "execution_count": 233,
   "id": "df425a46",
   "metadata": {},
   "outputs": [],
   "source": [
    "# List of categorical features.\n",
    "categorical_features = list(latitude_iptw.select_dtypes(include = ['category']).columns)\n",
    "\n",
    "# One-hot-encode categorical features.\n",
    "categorical_transformer = OneHotEncoder(handle_unknown = 'ignore')"
   ]
  },
  {
   "cell_type": "code",
   "execution_count": 234,
   "id": "6bf9c9e8",
   "metadata": {},
   "outputs": [],
   "source": [
    "preprocessor = ColumnTransformer(\n",
    "    transformers = [\n",
    "        ('num', numerical_transformer, numerical_features),\n",
    "        ('cat', categorical_transformer, categorical_features)],\n",
    "    remainder = 'passthrough')"
   ]
  },
  {
   "cell_type": "code",
   "execution_count": 235,
   "id": "12ad35a2",
   "metadata": {},
   "outputs": [],
   "source": [
    "latitude_iptw_low = (\n",
    "    latitude_iptw\n",
    "    .query('risk_score <= @low_cutoff_latitude')\n",
    "    .drop(columns = ['risk_score']))\n",
    "\n",
    "latitude_iptw_med = (\n",
    "    latitude_iptw\n",
    "    .query('risk_score < @high_cutoff_latitude and risk_score > @low_cutoff_latitude')\n",
    "    .drop(columns = ['risk_score']))\n",
    "\n",
    "latitude_iptw_high = (\n",
    "    latitude_iptw\n",
    "    .query('risk_score >= @high_cutoff_latitude')\n",
    "    .drop(columns = ['risk_score']))"
   ]
  },
  {
   "cell_type": "code",
   "execution_count": 236,
   "id": "ab21d665",
   "metadata": {},
   "outputs": [],
   "source": [
    "latitude_low_x = preprocessor.fit_transform(latitude_iptw_low.filter(items = ['age',\n",
    "                                                                              'race',\n",
    "                                                                              'p_type',\n",
    "                                                                              'met_year',\n",
    "                                                                              'commercial',\n",
    "                                                                              'medicare',\n",
    "                                                                              'medicaid']))\n",
    "\n",
    "latitude_med_x = preprocessor.fit_transform(latitude_iptw_med.filter(items = ['age',\n",
    "                                                                              'race',\n",
    "                                                                              'p_type',\n",
    "                                                                              'met_year',\n",
    "                                                                              'commercial',\n",
    "                                                                              'medicare',\n",
    "                                                                              'medicaid']))\n",
    "\n",
    "latitude_high_x = preprocessor.fit_transform(latitude_iptw_high.filter(items = ['age',\n",
    "                                                                                'race',\n",
    "                                                                                'p_type',\n",
    "                                                                                'met_year',\n",
    "                                                                                'commercial',\n",
    "                                                                                'medicare',\n",
    "                                                                                'medicaid']))"
   ]
  },
  {
   "cell_type": "code",
   "execution_count": 237,
   "id": "4f21f4f4",
   "metadata": {},
   "outputs": [
    {
     "data": {
      "text/plain": [
       "LogisticRegression(max_iter=1000)"
      ]
     },
     "execution_count": 237,
     "metadata": {},
     "output_type": "execute_result"
    }
   ],
   "source": [
    "lr_latitude_low = LogisticRegression(max_iter = 1000)\n",
    "lr_latitude_low.fit(latitude_low_x, latitude_iptw_low['adt_abi'])"
   ]
  },
  {
   "cell_type": "code",
   "execution_count": 238,
   "id": "7ba11a86",
   "metadata": {},
   "outputs": [
    {
     "data": {
      "text/plain": [
       "LogisticRegression(max_iter=1000)"
      ]
     },
     "execution_count": 238,
     "metadata": {},
     "output_type": "execute_result"
    }
   ],
   "source": [
    "lr_latitude_med = LogisticRegression(max_iter = 1000)\n",
    "lr_latitude_med.fit(latitude_med_x, latitude_iptw_med['adt_abi'])"
   ]
  },
  {
   "cell_type": "code",
   "execution_count": 239,
   "id": "1ae9a566",
   "metadata": {},
   "outputs": [
    {
     "data": {
      "text/plain": [
       "LogisticRegression(max_iter=1000)"
      ]
     },
     "execution_count": 239,
     "metadata": {},
     "output_type": "execute_result"
    }
   ],
   "source": [
    "lr_latitude_high = LogisticRegression(max_iter = 1000)\n",
    "lr_latitude_high.fit(latitude_high_x, latitude_iptw_high['adt_abi'])"
   ]
  },
  {
   "cell_type": "code",
   "execution_count": 240,
   "id": "75fa3044",
   "metadata": {},
   "outputs": [],
   "source": [
    "pred_low = lr_latitude_low.predict_proba(latitude_low_x)\n",
    "pred_med = lr_latitude_med.predict_proba(latitude_med_x)\n",
    "pred_high = lr_latitude_high.predict_proba(latitude_high_x)"
   ]
  },
  {
   "cell_type": "code",
   "execution_count": 241,
   "id": "fabee6ad",
   "metadata": {},
   "outputs": [],
   "source": [
    "latitude_iptw_low['ps'] = pred_low[:, 1]\n",
    "latitude_iptw_med['ps'] = pred_med[:, 1]\n",
    "latitude_iptw_high['ps'] = pred_high[:, 1]"
   ]
  },
  {
   "cell_type": "code",
   "execution_count": 242,
   "id": "9c473e27",
   "metadata": {},
   "outputs": [],
   "source": [
    "latitude_iptw_low['weight'] = (\n",
    "    np.where(latitude_iptw_low['adt_abi'] == 1, 1/latitude_iptw_low['ps'], 1/(1 - latitude_iptw_low['ps'])))\n",
    "\n",
    "latitude_iptw_med['weight'] = (\n",
    "    np.where(latitude_iptw_med['adt_abi'] == 1, 1/latitude_iptw_med['ps'], 1/(1 - latitude_iptw_med['ps'])))\n",
    "\n",
    "latitude_iptw_high['weight'] = (\n",
    "    np.where(latitude_iptw_high['adt_abi'] == 1, 1/latitude_iptw_high['ps'], 1/(1 - latitude_iptw_high['ps'])))"
   ]
  },
  {
   "cell_type": "code",
   "execution_count": 243,
   "id": "28020cab",
   "metadata": {},
   "outputs": [],
   "source": [
    "latitude_iptw_all = pd.concat([latitude_iptw_low, latitude_iptw_med, latitude_iptw_high])"
   ]
  },
  {
   "cell_type": "code",
   "execution_count": 244,
   "id": "8e4d0cc9",
   "metadata": {},
   "outputs": [
    {
     "name": "stderr",
     "output_type": "stream",
     "text": [
      "/Users/xavierorcutt/Dropbox/ist_project/myenv/lib/python3.7/site-packages/lifelines/fitters/kaplan_meier_fitter.py:344: StatisticalWarning: It looks like your weights are not integers, possibly propensity scores then?\n",
      "  It's important to know that the naive variance estimates of the coefficients are biased. Instead use Monte Carlo to\n",
      "  estimate the variances. See paper \"Variance estimation when using inverse probability of treatment weighting (IPTW) with survival analysis\"\n",
      "  or \"Adjusted Kaplan-Meier estimator and log-rank test with inverse probability of treatment weighting for survival data.\"\n",
      "                  \n",
      "  StatisticalWarning,\n"
     ]
    },
    {
     "data": {
      "text/plain": [
       "<lifelines.KaplanMeierFitter:\"KM_estimate\", fitted with 6460.4 total observations, 3100.08 right-censored observations>"
      ]
     },
     "execution_count": 244,
     "metadata": {},
     "output_type": "execute_result"
    }
   ],
   "source": [
    "# Low KM curves\n",
    "kmf_low_abi_latitude_iptw = KaplanMeierFitter()\n",
    "kmf_low_adt_latitude_iptw = KaplanMeierFitter()\n",
    "\n",
    "kmf_low_abi_latitude_iptw.fit(\n",
    "    latitude_iptw_low.query('adt_abi == 1').timerisk_treatment/30,\n",
    "    latitude_iptw_low.query('adt_abi == 1').death_status,\n",
    "    weights = latitude_iptw_low.query('adt_abi == 1')['weight'])\n",
    "\n",
    "kmf_low_adt_latitude_iptw.fit(\n",
    "    latitude_iptw_low.query('adt_abi == 0').timerisk_treatment/30,\n",
    "    latitude_iptw_low.query('adt_abi == 0').death_status,\n",
    "    weights = latitude_iptw_low.query('adt_abi == 0')['weight'])\n",
    "\n",
    "# Med KM curves\n",
    "kmf_med_abi_latitude_iptw = KaplanMeierFitter()\n",
    "kmf_med_adt_latitude_iptw = KaplanMeierFitter()\n",
    "\n",
    "kmf_med_abi_latitude_iptw.fit(\n",
    "    latitude_iptw_med.query('adt_abi == 1').timerisk_treatment/30,\n",
    "    latitude_iptw_med.query('adt_abi == 1').death_status,\n",
    "    weights = latitude_iptw_med.query('adt_abi == 1')['weight'])\n",
    "\n",
    "kmf_med_adt_latitude_iptw.fit(\n",
    "    latitude_iptw_med.query('adt_abi == 0').timerisk_treatment/30,\n",
    "    latitude_iptw_med.query('adt_abi == 0').death_status,\n",
    "    weights = latitude_iptw_med.query('adt_abi == 0')['weight'])\n",
    "\n",
    "# High KM curves \n",
    "kmf_high_abi_latitude_iptw = KaplanMeierFitter()\n",
    "kmf_high_adt_latitude_iptw = KaplanMeierFitter()\n",
    "\n",
    "kmf_high_abi_latitude_iptw.fit(\n",
    "    latitude_iptw_high.query('adt_abi == 1').timerisk_treatment/30,\n",
    "    latitude_iptw_high.query('adt_abi == 1').death_status,\n",
    "    weights = latitude_iptw_high.query('adt_abi == 1')['weight'])\n",
    "\n",
    "kmf_high_adt_latitude_iptw.fit(\n",
    "    latitude_iptw_high.query('adt_abi == 0').timerisk_treatment/30,\n",
    "    latitude_iptw_high.query('adt_abi == 0').death_status,\n",
    "    weights = latitude_iptw_high.query('adt_abi == 0')['weight'])\n",
    "\n",
    "# All KM curves \n",
    "kmf_all_abi_latitude_iptw = KaplanMeierFitter()\n",
    "kmf_all_adt_latitude_iptw = KaplanMeierFitter()\n",
    "\n",
    "kmf_all_abi_latitude_iptw.fit(\n",
    "    latitude_iptw_all.query('adt_abi == 1').timerisk_treatment/30,\n",
    "    latitude_iptw_all.query('adt_abi == 1').death_status,\n",
    "    weights = latitude_iptw_all.query('adt_abi == 1')['weight'])\n",
    "\n",
    "kmf_all_adt_latitude_iptw.fit(\n",
    "    latitude_iptw_all.query('adt_abi == 0').timerisk_treatment/30,\n",
    "    latitude_iptw_all.query('adt_abi == 0').death_status,\n",
    "    weights = latitude_iptw_all.query('adt_abi == 0')['weight'])"
   ]
  },
  {
   "cell_type": "code",
   "execution_count": 245,
   "id": "0f25dd98",
   "metadata": {},
   "outputs": [
    {
     "data": {
      "image/png": "[encoded data removed]",
      "text/plain": [
       "<Figure size 1800x600 with 9 Axes>"
      ]
     },
     "metadata": {},
     "output_type": "display_data"
    }
   ],
   "source": [
    "fig = plt.figure(figsize=(18, 6))\n",
    "\n",
    "# Plot survival curves for low risk group \n",
    "plt.subplot(1, 4, 1)\n",
    "\n",
    "plt.step(kmf_low_abi_latitude_iptw.timeline, kmf_low_abi_latitude_iptw.survival_function_.values*100, color = 'red', alpha = 0.5)\n",
    "#plt.step(kmf_low_pfulv_paloma3_iptw.confidence_interval_.index, np.array(kmf_low_pfulv_paloma3_iptw.confidence_interval_['KM_estimate_upper_0.95'])*100, linestyle = '--', color = 'red', alpha = 0.3)\n",
    "#plt.step(kmf_low_pfulv_paloma3_iptw.confidence_interval_.index, np.array(kmf_low_pfulv_paloma3_iptw.confidence_interval_['KM_estimate_lower_0.95'])*100, linestyle = '--', color = 'red', alpha = 0.3)\n",
    "#plt.fill_between(kmf_low_pfulv_paloma3_iptw.timeline, np.array(kmf_low_pfulv_paloma3_iptw.confidence_interval_['KM_estimate_upper_0.95'])*100, np.array(kmf_low_pfulv_paloma3_iptw.confidence_interval_['KM_estimate_lower_0.95'])*100, facecolor = 'red', alpha = 0.1)\n",
    "\n",
    "plt.step(kmf_low_adt_latitude_iptw.timeline, kmf_low_adt_latitude_iptw.survival_function_.values*100, color = 'black', alpha = 0.5)\n",
    "#plt.step(kmf_low_fulv_paloma3_iptw.confidence_interval_.index, np.array(kmf_low_fulv_paloma3_iptw.confidence_interval_['KM_estimate_upper_0.95'])*100, linestyle = '--', color = 'black', alpha = 0.3)\n",
    "#plt.step(kmf_low_fulv_paloma3_iptw.confidence_interval_.index, np.array(kmf_low_fulv_paloma3_iptw.confidence_interval_['KM_estimate_lower_0.95'])*100, linestyle = '--', color = 'black', alpha = 0.3)\n",
    "#plt.fill_between(kmf_low_fulv_paloma3_iptw.timeline, np.array(kmf_low_fulv_paloma3_iptw.confidence_interval_['KM_estimate_upper_0.95'])*100, np.array(kmf_low_fulv_paloma3_iptw.confidence_interval_['KM_estimate_lower_0.95'])*100, facecolor = 'black', alpha = 0.1)\n",
    "\n",
    "plt.xticks(np.arange(0, 61, 6))\n",
    "plt.xlim(0, 61)\n",
    "plt.ylim(0, 100)\n",
    "\n",
    "plt.title('Low-risk', weight = 'bold')\n",
    "plt.ylabel('OS (%)', size = 12, weight = 'bold')\n",
    "\n",
    "plt.gca().spines['top'].set_visible(False)\n",
    "plt.gca().spines['right'].set_visible(False)\n",
    "\n",
    "add_at_risk_counts(kmf_low_abi_latitude_iptw, kmf_low_adt_latitude_iptw, ypos = -0.8, xticks = np.arange(12, 61, 12), labels = ['Abiraterone + ADT', 'ADT'])\n",
    "\n",
    "# Plot survival curves for med risk group. \n",
    "plt.subplot(1, 4, 2)\n",
    "\n",
    "plt.step(kmf_med_abi_latitude_iptw.timeline, kmf_med_abi_latitude_iptw.survival_function_.values*100, color = 'red', alpha = 0.5)\n",
    "#plt.step(kmf_med_pfulv_paloma3_iptw.confidence_interval_.index, np.array(kmf_med_pfulv_paloma3_iptw.confidence_interval_['KM_estimate_upper_0.95'])*100, linestyle = '--', color = 'red', alpha = 0.3)\n",
    "#plt.step(kmf_med_pfulv_paloma3_iptw.confidence_interval_.index, np.array(kmf_med_pfulv_paloma3_iptw.confidence_interval_['KM_estimate_lower_0.95'])*100, linestyle = '--', color = 'red', alpha = 0.3)\n",
    "#plt.fill_between(kmf_med_pfulv_paloma3_iptw.timeline, np.array(kmf_med_pfulv_paloma3_iptw.confidence_interval_['KM_estimate_upper_0.95'])*100, np.array(kmf_med_pfulv_paloma3_iptw.confidence_interval_['KM_estimate_lower_0.95'])*100, facecolor = 'red', alpha = 0.1)\n",
    "\n",
    "plt.step(kmf_med_adt_latitude_iptw.timeline, kmf_med_adt_latitude_iptw.survival_function_.values*100, color = 'black', alpha = 0.5)\n",
    "#plt.step(kmf_med_fulv_paloma3_iptw.confidence_interval_.index, np.array(kmf_med_fulv_paloma3_iptw.confidence_interval_['KM_estimate_upper_0.95'])*100, linestyle = '--', color = 'black', alpha = 0.3)\n",
    "#plt.step(kmf_med_fulv_paloma3_iptw.confidence_interval_.index, np.array(kmf_med_fulv_paloma3_iptw.confidence_interval_['KM_estimate_lower_0.95'])*100, linestyle = '--', color = 'black', alpha = 0.3)\n",
    "#plt.fill_between(kmf_med_fulv_paloma3_iptw.timeline, np.array(kmf_med_fulv_paloma3_iptw.confidence_interval_['KM_estimate_upper_0.95'])*100, np.array(kmf_med_fulv_paloma3_iptw.confidence_interval_['KM_estimate_lower_0.95'])*100, facecolor = 'black', alpha = 0.1)\n",
    "\n",
    "plt.xticks(np.arange(0, 61, 6))\n",
    "plt.xlim(0, 61)\n",
    "plt.ylim(0, 100)\n",
    "\n",
    "plt.title('Med-risk', weight = 'bold')\n",
    "\n",
    "plt.gca().spines['top'].set_visible(False)\n",
    "plt.gca().spines['right'].set_visible(False)\n",
    "\n",
    "add_at_risk_counts(kmf_med_abi_latitude_iptw, kmf_med_adt_latitude_iptw, ypos = -0.8, xticks = np.arange(12, 61, 12), labels = [' ', ' '])\n",
    "\n",
    "# Plot survival curves by treatment for high risk group. \n",
    "plt.subplot(1, 4, 3)\n",
    "\n",
    "plt.step(kmf_high_abi_latitude_iptw.timeline, kmf_high_abi_latitude_iptw.survival_function_.values*100, color = 'red', alpha = 0.5)\n",
    "#plt.step(kmf_high_pfulv_paloma3_iptw.confidence_interval_.index, np.array(kmf_high_pfulv_paloma3_iptw.confidence_interval_['KM_estimate_upper_0.95'])*100, linestyle = '--', color = 'red', alpha = 0.3)\n",
    "#plt.step(kmf_high_pfulv_paloma3_iptw.confidence_interval_.index, np.array(kmf_high_pfulv_paloma3_iptw.confidence_interval_['KM_estimate_lower_0.95'])*100, linestyle = '--', color = 'red', alpha = 0.3)\n",
    "#plt.fill_between(kmf_high_pfulv_paloma3_iptw.timeline, np.array(kmf_high_pfulv_paloma3_iptw.confidence_interval_['KM_estimate_upper_0.95'])*100, np.array(kmf_high_pfulv_paloma3_iptw.confidence_interval_['KM_estimate_lower_0.95'])*100, facecolor = 'red', alpha = 0.1)\n",
    "\n",
    "plt.step(kmf_high_adt_latitude_iptw.timeline, kmf_high_adt_latitude_iptw.survival_function_.values*100, color = 'black', alpha = 0.5)\n",
    "#plt.step(kmf_high_fulv_paloma3_iptw.confidence_interval_.index, np.array(kmf_high_fulv_paloma3_iptw.confidence_interval_['KM_estimate_upper_0.95'])*100, linestyle = '--', color = 'black', alpha = 0.3)\n",
    "#plt.step(kmf_high_fulv_paloma3_iptw.confidence_interval_.index, np.array(kmf_high_fulv_paloma3_iptw.confidence_interval_['KM_estimate_lower_0.95'])*100, linestyle = '--', color = 'black', alpha = 0.3)\n",
    "#plt.fill_between(kmf_high_fulv_paloma3_iptw.timeline, np.array(kmf_high_fulv_paloma3_iptw.confidence_interval_['KM_estimate_upper_0.95'])*100, np.array(kmf_high_fulv_paloma3_iptw.confidence_interval_['KM_estimate_lower_0.95'])*100, facecolor = 'black', alpha = 0.1)\n",
    "\n",
    "plt.xticks(np.arange(0, 61, 6))\n",
    "plt.xlim(0, 61)\n",
    "plt.ylim(0, 100)\n",
    "\n",
    "plt.title('High-risk', weight = 'bold')\n",
    "\n",
    "plt.gca().spines['top'].set_visible(False)\n",
    "plt.gca().spines['right'].set_visible(False)\n",
    "\n",
    "add_at_risk_counts(kmf_high_abi_latitude_iptw, kmf_high_adt_latitude_iptw, ypos = -0.8, xticks = np.arange(12, 61, 12), labels = [' ', ' '])\n",
    "\n",
    "# Plot survival curves by treatment for all risk group. \n",
    "plt.subplot(1, 4, 4)\n",
    "\n",
    "plt.step(kmf_all_abi_latitude_iptw.timeline, kmf_all_abi_latitude_iptw.survival_function_.values*100, color = 'red', alpha = 0.5, label = 'Abiraterone + ADT')\n",
    "#plt.step(kmf_all_pfulv_paloma3_iptw.confidence_interval_.index, np.array(kmf_all_pfulv_paloma3_iptw.confidence_interval_['KM_estimate_upper_0.95'])*100, linestyle = '--', color = 'red', alpha = 0.3)\n",
    "#plt.step(kmf_all_pfulv_paloma3_iptw.confidence_interval_.index, np.array(kmf_all_pfulv_paloma3_iptw.confidence_interval_['KM_estimate_lower_0.95'])*100, linestyle = '--', color = 'red', alpha = 0.3)\n",
    "#plt.fill_between(kmf_all_pfulv_paloma3_iptw.timeline, np.array(kmf_all_pfulv_paloma3_iptw.confidence_interval_['KM_estimate_upper_0.95'])*100, np.array(kmf_all_pfulv_paloma3_iptw.confidence_interval_['KM_estimate_lower_0.95'])*100, facecolor = 'red', alpha = 0.1)\n",
    "\n",
    "plt.step(kmf_all_adt_latitude_iptw.timeline, kmf_all_adt_latitude_iptw.survival_function_.values*100, color = 'black', alpha = 0.5, label = 'ADT')\n",
    "#plt.step(kmf_all_fulv_paloma3_iptw.confidence_interval_.index, np.array(kmf_all_fulv_paloma3_iptw.confidence_interval_['KM_estimate_upper_0.95'])*100, linestyle = '--', color = 'black', alpha = 0.3)\n",
    "#plt.step(kmf_all_fulv_paloma3_iptw.confidence_interval_.index, np.array(kmf_all_fulv_paloma3_iptw.confidence_interval_['KM_estimate_lower_0.95'])*100, linestyle = '--', color = 'black', alpha = 0.3)\n",
    "#plt.fill_between(kmf_all_fulv_paloma3_iptw.timeline, np.array(kmf_all_fulv_paloma3_iptw.confidence_interval_['KM_estimate_upper_0.95'])*100, np.array(kmf_all_fulv_paloma3_iptw.confidence_interval_['KM_estimate_lower_0.95'])*100, facecolor = 'black', alpha = 0.1)\n",
    "\n",
    "plt.xticks(np.arange(0, 61, 6))\n",
    "plt.xlim(0, 61)\n",
    "plt.ylim(0, 100)\n",
    "\n",
    "plt.title('Full cohort', weight = 'bold')\n",
    "\n",
    "plt.gca().spines['top'].set_visible(False)\n",
    "plt.gca().spines['right'].set_visible(False)\n",
    "\n",
    "plt.legend(loc = 'upper right', prop = {'size': 9})\n",
    "\n",
    "add_at_risk_counts(kmf_all_abi_latitude_iptw, kmf_all_adt_latitude_iptw, ypos = -0.8, xticks = np.arange(12, 61, 12), labels = [' ', ' '])\n",
    "\n",
    "fig.add_subplot(1, 1, 1, frameon = False)\n",
    "plt.tick_params(labelcolor = 'none', which = 'both', top = False, bottom = False, left = False, right = False)\n",
    "plt.xlabel('Months after treatment', labelpad = 15, size = 12, weight = 'bold')\n",
    "plt.title('LATITUDE: Abiraterone + ADT vs. ADT for metastatic, castration-sensitive prostate cancer', pad = 40, size = 15, weight = 'bold')\n",
    "\n",
    "plt.show()"
   ]
  },
  {
   "cell_type": "markdown",
   "id": "35075f41",
   "metadata": {},
   "source": [
    "#### Summary result plot "
   ]
  },
  {
   "cell_type": "code",
   "execution_count": 246,
   "id": "60ca1073",
   "metadata": {},
   "outputs": [],
   "source": [
    "abi_latitude_24_os = psurv_t(kmf_low_abi_latitude_iptw,\n",
    "                             kmf_med_abi_latitude_iptw,\n",
    "                             kmf_high_abi_latitude_iptw,\n",
    "                             24)\n",
    "\n",
    "adt_latitude_24_os = psurv_t(kmf_low_adt_latitude_iptw,\n",
    "                             kmf_med_adt_latitude_iptw,\n",
    "                             kmf_high_adt_latitude_iptw,\n",
    "                             24)\n",
    "\n",
    "abi_latitude_48_os = psurv_t(kmf_low_abi_latitude_iptw,\n",
    "                             kmf_med_abi_latitude_iptw,\n",
    "                             kmf_high_abi_latitude_iptw,\n",
    "                             48)\n",
    "\n",
    "adt_latitude_48_os = psurv_t(kmf_low_adt_latitude_iptw,\n",
    "                             kmf_med_adt_latitude_iptw,\n",
    "                             kmf_high_adt_latitude_iptw,\n",
    "                             48)\n",
    "\n",
    "abi_latitude_median_os = mos(kmf_low_abi_latitude_iptw,\n",
    "                             kmf_med_abi_latitude_iptw,\n",
    "                             kmf_high_abi_latitude_iptw,\n",
    "                             kmf_all_abi_latitude_iptw)\n",
    "\n",
    "adt_latitude_median_os = mos(kmf_low_adt_latitude_iptw,\n",
    "                             kmf_med_adt_latitude_iptw,\n",
    "                             kmf_high_adt_latitude_iptw,\n",
    "                             kmf_all_adt_latitude_iptw)"
   ]
  },
  {
   "cell_type": "code",
   "execution_count": 247,
   "id": "93e8345b",
   "metadata": {
    "scrolled": true
   },
   "outputs": [
    {
     "name": "stdout",
     "output_type": "stream",
     "text": [
      "All, abiraterone:  49.966\n",
      "All, ADT:  40.666\n",
      "Low, abiraterone:  inf\n",
      "Low, ADT:  68.0\n",
      "Med, abiraterone:  50.333\n",
      "Med, ADT:  40.533\n",
      "High, abiraterone:  24.366\n",
      "High, ADT:  22.933\n"
     ]
    }
   ],
   "source": [
    "print('All, abiraterone: ',truncate(abi_latitude_median_os[3], 3))\n",
    "print('All, ADT: ',truncate(adt_latitude_median_os[3], 3))\n",
    "\n",
    "print('Low, abiraterone: ',abi_latitude_median_os[0])\n",
    "print('Low, ADT: ',truncate(adt_latitude_median_os[0], 3))\n",
    "\n",
    "print('Med, abiraterone: ',truncate(abi_latitude_median_os[1], 3))\n",
    "print('Med, ADT: ',truncate(adt_latitude_median_os[1], 3))\n",
    "\n",
    "print('High, abiraterone: ',truncate(abi_latitude_median_os[2], 3))\n",
    "print('High, ADT: ',truncate(adt_latitude_median_os[2], 3))"
   ]
  },
  {
   "cell_type": "code",
   "execution_count": 248,
   "id": "877323a1",
   "metadata": {},
   "outputs": [],
   "source": [
    "abi_latitude_low_24_ci = psurv_ci(kmf_low_abi_latitude_iptw, 24)\n",
    "abi_latitude_med_24_ci = psurv_ci(kmf_med_abi_latitude_iptw, 24)\n",
    "abi_latitude_high_24_ci = psurv_ci(kmf_high_abi_latitude_iptw, 24)\n",
    "\n",
    "y_error_abi_latitude_24 = y_error(abi_latitude_low_24_ci,\n",
    "                                  abi_latitude_med_24_ci,\n",
    "                                  abi_latitude_high_24_ci,\n",
    "                                  abi_latitude_24_os)"
   ]
  },
  {
   "cell_type": "code",
   "execution_count": 249,
   "id": "b5ed9dd2",
   "metadata": {},
   "outputs": [],
   "source": [
    "adt_latitude_low_24_ci = psurv_ci(kmf_low_adt_latitude_iptw, 24)\n",
    "adt_latitude_med_24_ci = psurv_ci(kmf_med_adt_latitude_iptw, 24)\n",
    "adt_latitude_high_24_ci = psurv_ci(kmf_high_adt_latitude_iptw, 24)\n",
    "\n",
    "y_error_adt_latitude_24 = y_error(adt_latitude_low_24_ci,\n",
    "                                  adt_latitude_med_24_ci,\n",
    "                                  adt_latitude_high_24_ci,\n",
    "                                  adt_latitude_24_os)"
   ]
  },
  {
   "cell_type": "code",
   "execution_count": 250,
   "id": "a23da98b",
   "metadata": {},
   "outputs": [],
   "source": [
    "abi_latitude_low_48_ci = psurv_ci(kmf_low_abi_latitude_iptw, 48)\n",
    "abi_latitude_med_48_ci = psurv_ci(kmf_med_abi_latitude_iptw, 48)\n",
    "abi_latitude_high_48_ci = psurv_ci(kmf_high_abi_latitude_iptw, 48)\n",
    "\n",
    "y_error_abi_latitude_48 = y_error(abi_latitude_low_48_ci,\n",
    "                                  abi_latitude_med_48_ci,\n",
    "                                  abi_latitude_high_48_ci,\n",
    "                                  abi_latitude_48_os)"
   ]
  },
  {
   "cell_type": "code",
   "execution_count": 251,
   "id": "4c2326d6",
   "metadata": {},
   "outputs": [],
   "source": [
    "adt_latitude_low_48_ci = psurv_ci(kmf_low_adt_latitude_iptw, 48)\n",
    "adt_latitude_med_48_ci = psurv_ci(kmf_med_adt_latitude_iptw, 48)\n",
    "adt_latitude_high_48_ci = psurv_ci(kmf_high_adt_latitude_iptw, 48)\n",
    "\n",
    "y_error_adt_latitude_48 = y_error(adt_latitude_low_48_ci,\n",
    "                                  adt_latitude_med_48_ci,\n",
    "                                  adt_latitude_high_48_ci,\n",
    "                                  adt_latitude_48_os)"
   ]
  },
  {
   "cell_type": "code",
   "execution_count": 252,
   "id": "cacba42c",
   "metadata": {},
   "outputs": [],
   "source": [
    "abi_latitude_low_mos_ci = mos_ci(kmf_low_abi_latitude_iptw)\n",
    "abi_latitude_med_mos_ci = mos_ci(kmf_med_abi_latitude_iptw)\n",
    "abi_latitude_high_mos_ci = mos_ci(kmf_high_abi_latitude_iptw)\n",
    "\n",
    "y_error_abi_latitude_mos = y_error(abi_latitude_low_mos_ci,\n",
    "                                   abi_latitude_med_mos_ci,\n",
    "                                   abi_latitude_high_mos_ci,\n",
    "                                   abi_latitude_median_os)"
   ]
  },
  {
   "cell_type": "code",
   "execution_count": 253,
   "id": "930ce9a6",
   "metadata": {},
   "outputs": [],
   "source": [
    "adt_latitude_low_mos_ci = mos_ci(kmf_low_adt_latitude_iptw)\n",
    "adt_latitude_med_mos_ci = mos_ci(kmf_med_adt_latitude_iptw)\n",
    "adt_latitude_high_mos_ci = mos_ci(kmf_high_adt_latitude_iptw)\n",
    "\n",
    "y_error_adt_latitude_mos = y_error(adt_latitude_low_mos_ci,\n",
    "                                   adt_latitude_med_mos_ci,\n",
    "                                   adt_latitude_high_mos_ci,\n",
    "                                   adt_latitude_median_os)"
   ]
  },
  {
   "cell_type": "code",
   "execution_count": 254,
   "id": "fd72f6fd",
   "metadata": {},
   "outputs": [
    {
     "data": {
      "image/png": "[encoded data removed]",
      "text/plain": [
       "<Figure size 1800x400 with 4 Axes>"
      ]
     },
     "metadata": {},
     "output_type": "display_data"
    }
   ],
   "source": [
    "ml_risk = ['Low', 'Med',  'High']\n",
    "\n",
    "fig = plt.figure(figsize=(18, 4))\n",
    "\n",
    "# 24 month OS plot\n",
    "plt.subplot(1, 3, 1)\n",
    "plt.errorbar(ml_risk, abi_latitude_24_os, yerr = y_error_abi_latitude_24, marker = 'o', color = 'black', capsize = 3)\n",
    "plt.axhline(y = 80, color = 'red', linestyle = 'solid')\n",
    "\n",
    "eb1 = plt.errorbar(ml_risk, adt_latitude_24_os, yerr = y_error_adt_latitude_24, marker = 'o', color = 'black', linestyle = '--', capsize = 3)\n",
    "eb1[-1][0].set_linestyle(':')\n",
    "plt.axhline(y = 70, color = 'red', linestyle = '--')\n",
    "\n",
    "plt.xticks(fontsize = 15)\n",
    "plt.yticks(np.arange(0, 110, 20))\n",
    "plt.ylim(0, 100)\n",
    "plt.ylabel('OS (%)', size = 15)\n",
    "\n",
    "plt.title('24-month OS %', size = 20)\n",
    "\n",
    "plt.gca().spines['top'].set_visible(False)\n",
    "plt.gca().spines['right'].set_visible(False)\n",
    "\n",
    "# 48 month OS plot\n",
    "plt.subplot(1, 3, 2)\n",
    "plt.errorbar(ml_risk, abi_latitude_48_os, yerr = y_error_abi_latitude_48, marker = 'o', color = 'black', capsize = 3)\n",
    "plt.axhline(y = 58, color = 'red', linestyle = 'solid')\n",
    "\n",
    "eb2 = plt.errorbar(ml_risk, adt_latitude_48_os, yerr = y_error_adt_latitude_48, marker = 'o', color = 'black', linestyle = '--', capsize = 3)\n",
    "eb2[-1][0].set_linestyle(':')\n",
    "plt.axhline(y = 40, color = 'red', linestyle = '--')\n",
    "\n",
    "plt.xticks(fontsize = 15)\n",
    "plt.yticks(np.arange(0, 110, 20))\n",
    "plt.ylim(0, 100)\n",
    "plt.ylabel('OS (%)', size = 15)\n",
    "\n",
    "plt.title('48-month OS %', size = 20)\n",
    "\n",
    "plt.gca().spines['top'].set_visible(False)\n",
    "plt.gca().spines['right'].set_visible(False)\n",
    "\n",
    "# Median OS plot\n",
    "plt.subplot(1, 3, 3)\n",
    "plt.errorbar(ml_risk, abi_latitude_median_os[0:3], yerr = y_error_abi_latitude_mos, marker = 'o', color = 'black', capsize = 3)\n",
    "\n",
    "plt.axhline(y = 53.3, color = 'red', linestyle = 'solid')\n",
    "x_positions = [-0.1, 2.1]\n",
    "for x in x_positions:\n",
    "    plt.errorbar(x, 53.3, yerr=[np.array([53.3-48.2]), np.array([53.3-53.3])], color = 'red', capsize = 3)\n",
    "\n",
    "eb3 = plt.errorbar(ml_risk, adt_latitude_median_os[0:3], yerr = y_error_adt_latitude_mos, marker = 'o', color = 'black', linestyle = '--', capsize = 3)\n",
    "eb3[-1][0].set_linestyle(':')\n",
    "\n",
    "plt.axhline(y = 36.5, color = 'red', linestyle = '--')\n",
    "for x, z in zip(x_positions, [4, 5]):\n",
    "    ebz = plt.errorbar(x, 36.5, yerr=[np.array([36.5-33.5]), np.array([40.0-36.5])], color = 'red', capsize = 3)\n",
    "    ebz[-1][0].set_linestyle(':')\n",
    "\n",
    "plt.xticks(fontsize = 15)\n",
    "plt.ylabel('OS (months)', size = 15)\n",
    "\n",
    "plt.title('Median OS', size = 20)\n",
    "\n",
    "plt.gca().spines['top'].set_visible(False)\n",
    "plt.gca().spines['right'].set_visible(False)\n",
    "\n",
    "fig.add_subplot(1, 1, 1, frameon = False)\n",
    "plt.tick_params(labelcolor = 'none', which = 'both', top = False, bottom = False, left = False, right = False)\n",
    "plt.xlabel('Machine-learning risk', labelpad = 20, size = 20, weight = 'bold')\n",
    "plt.title('LATITUDE: Abiraterone + ADT vs. ADT for metastatic, castration-sensitive prostate cancer', pad = 40, size = 20, weight = 'bold', loc = 'center')\n",
    "\n",
    "legend_elements = [Line2D([0], [0], color = 'red', linestyle = 'solid', label = 'LATITUDE: Abiraterone + ADT'),\n",
    "                   Line2D([0], [0], color = 'red', linestyle = '--', label = 'LATITUDE: ADT'),\n",
    "                   Line2D([0], [0], color = 'black', linestyle = 'solid', label = 'Flatiron: Abiraterone + ADT (n = {})'.format(latitude.query('adt_abi == 1').shape[0])),\n",
    "                   Line2D([0], [0], color = 'black', linestyle = '--', label = 'Flatiron: ADT (n = {})'.format(latitude.query('adt_abi == 0').shape[0]))]\n",
    "\n",
    "plt.legend(handles = legend_elements, fancybox = True, shadow = True, loc = 'lower left', prop = {'size': 9})\n",
    "\n",
    "plt.savefig('latitude_summary_sc.png', bbox_inches = 'tight')\n",
    "\n",
    "plt.show()"
   ]
  }
 ],
 "metadata": {
  "kernelspec": {
   "display_name": "My Virtual Environment",
   "language": "python",
   "name": "myenv"
  },
  "language_info": {
   "codemirror_mode": {
    "name": "ipython",
    "version": 3
   },
   "file_extension": ".py",
   "mimetype": "text/x-python",
   "name": "python",
   "nbconvert_exporter": "python",
   "pygments_lexer": "ipython3",
   "version": "3.7.10"
  }
 },
 "nbformat": 4,
 "nbformat_minor": 5
}
