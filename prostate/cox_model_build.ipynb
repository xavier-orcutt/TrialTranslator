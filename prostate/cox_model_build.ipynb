{
 "cells": [
  {
   "cell_type": "markdown",
   "id": "366fe147",
   "metadata": {},
   "source": [
    "# Flatiron Health mPC: Cox model build\n",
    "\n",
    "**OBJECTIVE: Build a Cox model inspired by the model described in \"Prostascore: A Simplified Tool for Predicting Outcomes amongPatients with Treatment-naive Advanced Prostate Cancer\" by O. Abdel-Rahman in Clinical Oncology (2017).**\n",
    "\n",
    "**BACKGROUND: The pusblished Cox model is a classical Cox model that predicts overall survival for patients with newly diagnosed advanced prostate cancer. It uses 3 clinical variables. Patients with complete data from the SEER database were included for training and testing. AUC on the hold out set was 0.728.**\n",
    "\n",
    "**OUTLINE:**\n",
    "1. **Preprocessing**\n",
    "2. **De novo metastatic disease** \n",
    "3. **De novo metastatic disease with complete information**"
   ]
  },
  {
   "cell_type": "markdown",
   "id": "04a3cb61",
   "metadata": {},
   "source": [
    "## 1. Preprocessing "
   ]
  },
  {
   "cell_type": "markdown",
   "id": "e7df5b56",
   "metadata": {},
   "source": [
    "**The published Cox model includes the following variables:** \n",
    "* Site of extra-prostatic disease\n",
    "* PSA level\n",
    "* Grade group "
   ]
  },
  {
   "cell_type": "code",
   "execution_count": 1,
   "id": "1543e686",
   "metadata": {},
   "outputs": [],
   "source": [
    "import numpy as np\n",
    "import pandas as pd"
   ]
  },
  {
   "cell_type": "code",
   "execution_count": 2,
   "id": "e382ccfb",
   "metadata": {},
   "outputs": [],
   "source": [
    "# Function that returns number of rows and count of unique PatientIDs for a dataframe. \n",
    "def row_ID(dataframe):\n",
    "    row = dataframe.shape[0]\n",
    "    ID = dataframe['PatientID'].nunique()\n",
    "    return row, ID"
   ]
  },
  {
   "cell_type": "code",
   "execution_count": 3,
   "id": "14af5341",
   "metadata": {},
   "outputs": [
    {
     "data": {
      "text/plain": [
       "(15141, 15141)"
      ]
     },
     "execution_count": 3,
     "metadata": {},
     "output_type": "execute_result"
    }
   ],
   "source": [
    "train = pd.read_csv('train_full.csv')\n",
    "row_ID(train)"
   ]
  },
  {
   "cell_type": "code",
   "execution_count": 4,
   "id": "8c846140",
   "metadata": {},
   "outputs": [
    {
     "data": {
      "text/plain": [
       "(3786, 3786)"
      ]
     },
     "execution_count": 4,
     "metadata": {},
     "output_type": "execute_result"
    }
   ],
   "source": [
    "test = pd.read_csv('test_full.csv')\n",
    "row_ID(test)"
   ]
  },
  {
   "cell_type": "markdown",
   "id": "064f8b51",
   "metadata": {},
   "source": [
    "### Training set "
   ]
  },
  {
   "cell_type": "code",
   "execution_count": 5,
   "id": "2a533367",
   "metadata": {},
   "outputs": [],
   "source": [
    "train_cox = train.query('stage == \"IV\"')"
   ]
  },
  {
   "cell_type": "markdown",
   "id": "5d0e439c",
   "metadata": {},
   "source": [
    "#### Site of extra-prostatic disease\n",
    "* N1\n",
    "* M1a\n",
    "* M1b\n",
    "* M1c"
   ]
  },
  {
   "cell_type": "code",
   "execution_count": 6,
   "id": "3965eeb3",
   "metadata": {},
   "outputs": [
    {
     "data": {
      "text/plain": [
       "M1                          5002\n",
       "M1b                         1277\n",
       "M0                           522\n",
       "M1c                          439\n",
       "M1a                          179\n",
       "Unknown / Not documented      91\n",
       "Name: MStage, dtype: int64"
      ]
     },
     "execution_count": 6,
     "metadata": {},
     "output_type": "execute_result"
    }
   ],
   "source": [
    "train_cox.MStage.value_counts(dropna = False)"
   ]
  },
  {
   "cell_type": "code",
   "execution_count": 7,
   "id": "5777197d",
   "metadata": {},
   "outputs": [
    {
     "data": {
      "text/plain": [
       "N1                          443\n",
       "N0                           48\n",
       "Unknown / Not documented     23\n",
       "NX                            8\n",
       "Name: NStage, dtype: int64"
      ]
     },
     "execution_count": 7,
     "metadata": {},
     "output_type": "execute_result"
    }
   ],
   "source": [
    "train_cox.query('MStage == \"M0\"').NStage.value_counts()"
   ]
  },
  {
   "cell_type": "code",
   "execution_count": 8,
   "id": "3f564a38",
   "metadata": {},
   "outputs": [
    {
     "name": "stderr",
     "output_type": "stream",
     "text": [
      "/Users/xavierorcutt/Dropbox/ist_project/myenv/lib/python3.7/site-packages/ipykernel_launcher.py:1: SettingWithCopyWarning: \n",
      "A value is trying to be set on a copy of a slice from a DataFrame.\n",
      "Try using .loc[row_indexer,col_indexer] = value instead\n",
      "\n",
      "See the caveats in the documentation: https://pandas.pydata.org/pandas-docs/stable/user_guide/indexing.html#returning-a-view-versus-a-copy\n",
      "  \"\"\"Entry point for launching an IPython kernel.\n"
     ]
    }
   ],
   "source": [
    "train_cox['MStage'] = np.where((train_cox['MStage'] == 'M0') & (train_cox['NStage'] == 'N1'), 'N1', train_cox['MStage'])"
   ]
  },
  {
   "cell_type": "code",
   "execution_count": 9,
   "id": "fc596866",
   "metadata": {},
   "outputs": [
    {
     "data": {
      "text/plain": [
       "M1                          5002\n",
       "M1b                         1277\n",
       "N1                           443\n",
       "M1c                          439\n",
       "M1a                          179\n",
       "Unknown / Not documented      91\n",
       "M0                            79\n",
       "Name: MStage, dtype: int64"
      ]
     },
     "execution_count": 9,
     "metadata": {},
     "output_type": "execute_result"
    }
   ],
   "source": [
    "train_cox.MStage.value_counts(dropna = False)"
   ]
  },
  {
   "cell_type": "code",
   "execution_count": 10,
   "id": "fcde669d",
   "metadata": {},
   "outputs": [],
   "source": [
    "unknown_bone_IDs = (\n",
    "    train_cox\n",
    "    .query('MStage == \"M0\" or MStage == \"Unknown / Not documented\"')\n",
    "    .query('bone_met == 1')\n",
    "    .query('thorax_met == 0')\n",
    "    .query('peritoneum_met == 0')\n",
    "    .query('liver_met == 0')\n",
    "    .query('other_gi_met == 0')\n",
    "    .query('cns_met == 0')\n",
    "    .query('lymph_met == 0')\n",
    "    .query('kidney_bladder_met == 0')\n",
    "    .query('other_met == 0')\n",
    "    .PatientID\n",
    ")"
   ]
  },
  {
   "cell_type": "code",
   "execution_count": 11,
   "id": "9f0268ca",
   "metadata": {},
   "outputs": [],
   "source": [
    "unknown_vcns_IDs = (\n",
    "    train_cox\n",
    "    .query('MStage == \"M0\" or MStage == \"Unknown / Not documented\"')\n",
    "    .query('thorax_met == 1 or peritoneum_met == 1 or liver_met == 1 or other_gi_met == 1 or cns_met == 1 or kidney_bladder_met == 1')\n",
    "    .PatientID\n",
    ")"
   ]
  },
  {
   "cell_type": "code",
   "execution_count": 12,
   "id": "293b06f4",
   "metadata": {},
   "outputs": [],
   "source": [
    "m1_bone_IDs = (\n",
    "    train_cox\n",
    "    .query('MStage == \"M1\"')\n",
    "    .query('bone_met == 1')\n",
    "    .query('thorax_met == 0')\n",
    "    .query('peritoneum_met == 0')\n",
    "    .query('liver_met == 0')\n",
    "    .query('other_gi_met == 0')\n",
    "    .query('cns_met == 0')\n",
    "    .query('lymph_met == 0')\n",
    "    .query('kidney_bladder_met == 0')\n",
    "    .query('other_met == 0')\n",
    "    .PatientID\n",
    ")"
   ]
  },
  {
   "cell_type": "code",
   "execution_count": 13,
   "id": "07c7fdfd",
   "metadata": {},
   "outputs": [],
   "source": [
    "m1_vcns_IDs = (\n",
    "    train_cox\n",
    "    .query('MStage == \"M1\"')\n",
    "    .query('thorax_met == 1 or peritoneum_met == 1 or liver_met == 1 or other_gi_met == 1 or cns_met == 1 or kidney_bladder_met == 1')\n",
    "    .PatientID\n",
    ")"
   ]
  },
  {
   "cell_type": "code",
   "execution_count": 14,
   "id": "206011c8",
   "metadata": {},
   "outputs": [],
   "source": [
    "n1_bone_IDs = (\n",
    "    train_cox\n",
    "    .query('MStage == \"N1\"')\n",
    "    .query('bone_met == 1')\n",
    "    .query('thorax_met == 0')\n",
    "    .query('peritoneum_met == 0')\n",
    "    .query('liver_met == 0')\n",
    "    .query('other_gi_met == 0')\n",
    "    .query('cns_met == 0')\n",
    "    .query('lymph_met == 0')\n",
    "    .query('kidney_bladder_met == 0')\n",
    "    .query('other_met == 0')\n",
    "    .PatientID\n",
    ")"
   ]
  },
  {
   "cell_type": "code",
   "execution_count": 15,
   "id": "2d0285d8",
   "metadata": {},
   "outputs": [],
   "source": [
    "n1_vcns_IDs = (\n",
    "    train_cox\n",
    "    .query('MStage == \"N1\"')\n",
    "    .query('thorax_met == 1 or peritoneum_met == 1 or liver_met == 1 or other_gi_met == 1 or cns_met == 1 or kidney_bladder_met == 1')\n",
    "    .PatientID\n",
    ")"
   ]
  },
  {
   "cell_type": "code",
   "execution_count": 16,
   "id": "250fd993",
   "metadata": {},
   "outputs": [],
   "source": [
    "bone_IDs = np.concatenate([unknown_bone_IDs, m1_bone_IDs, n1_bone_IDs])"
   ]
  },
  {
   "cell_type": "code",
   "execution_count": 17,
   "id": "112eac08",
   "metadata": {},
   "outputs": [],
   "source": [
    "vcns_IDs = np.concatenate([unknown_vcns_IDs, m1_vcns_IDs, n1_vcns_IDs])"
   ]
  },
  {
   "cell_type": "code",
   "execution_count": 18,
   "id": "058b71cd",
   "metadata": {},
   "outputs": [
    {
     "name": "stderr",
     "output_type": "stream",
     "text": [
      "/Users/xavierorcutt/Dropbox/ist_project/myenv/lib/python3.7/site-packages/pandas/core/indexing.py:1667: SettingWithCopyWarning: \n",
      "A value is trying to be set on a copy of a slice from a DataFrame.\n",
      "Try using .loc[row_indexer,col_indexer] = value instead\n",
      "\n",
      "See the caveats in the documentation: https://pandas.pydata.org/pandas-docs/stable/user_guide/indexing.html#returning-a-view-versus-a-copy\n",
      "  self.obj[key] = value\n"
     ]
    }
   ],
   "source": [
    "conditions = [\n",
    "    (train_cox['PatientID'].isin(bone_IDs)),\n",
    "    (train_cox['PatientID'].isin(vcns_IDs))\n",
    "]    \n",
    "\n",
    "choices = ['M1b',\n",
    "           'M1c']\n",
    "    \n",
    "train_cox.loc[:, 'MStage_n'] = np.select(conditions, choices, default = train_cox['MStage'])"
   ]
  },
  {
   "cell_type": "code",
   "execution_count": 19,
   "id": "61446df3",
   "metadata": {},
   "outputs": [
    {
     "data": {
      "text/plain": [
       "M1                          3703\n",
       "M1b                         2576\n",
       "M1c                          571\n",
       "N1                           354\n",
       "M1a                          179\n",
       "Unknown / Not documented      68\n",
       "M0                            59\n",
       "Name: MStage_n, dtype: int64"
      ]
     },
     "execution_count": 19,
     "metadata": {},
     "output_type": "execute_result"
    }
   ],
   "source": [
    "train_cox.MStage_n.value_counts(dropna = False)"
   ]
  },
  {
   "cell_type": "code",
   "execution_count": 20,
   "id": "d3eca9c4",
   "metadata": {},
   "outputs": [
    {
     "name": "stderr",
     "output_type": "stream",
     "text": [
      "/Users/xavierorcutt/Dropbox/ist_project/myenv/lib/python3.7/site-packages/ipykernel_launcher.py:2: SettingWithCopyWarning: \n",
      "A value is trying to be set on a copy of a slice from a DataFrame.\n",
      "Try using .loc[row_indexer,col_indexer] = value instead\n",
      "\n",
      "See the caveats in the documentation: https://pandas.pydata.org/pandas-docs/stable/user_guide/indexing.html#returning-a-view-versus-a-copy\n",
      "  \n"
     ]
    }
   ],
   "source": [
    "train_cox['MStage_n'] = np.where(\n",
    "    (train_cox['MStage_n'] == \"M0\") | (train_cox['MStage_n'] == \"Unknown / Not documented\"), 'unknown', train_cox['MStage_n']\n",
    ")"
   ]
  },
  {
   "cell_type": "code",
   "execution_count": 21,
   "id": "a18353b8",
   "metadata": {},
   "outputs": [
    {
     "data": {
      "text/plain": [
       "M1         3703\n",
       "M1b        2576\n",
       "M1c         571\n",
       "N1          354\n",
       "M1a         179\n",
       "unknown     127\n",
       "Name: MStage_n, dtype: int64"
      ]
     },
     "execution_count": 21,
     "metadata": {},
     "output_type": "execute_result"
    }
   ],
   "source": [
    "train_cox.MStage_n.value_counts(dropna = False)"
   ]
  },
  {
   "cell_type": "markdown",
   "id": "4a1b5cb9",
   "metadata": {},
   "source": [
    "#### PSA level ( >= 60 or <60)"
   ]
  },
  {
   "cell_type": "code",
   "execution_count": 22,
   "id": "875f1283",
   "metadata": {},
   "outputs": [
    {
     "data": {
      "text/plain": [
       "0.10732356857523302"
      ]
     },
     "execution_count": 22,
     "metadata": {},
     "output_type": "execute_result"
    }
   ],
   "source": [
    "train_cox.PSAMetDiagnosis.isna().sum()/len(train_cox)"
   ]
  },
  {
   "cell_type": "code",
   "execution_count": 23,
   "id": "88f7cf6b",
   "metadata": {},
   "outputs": [
    {
     "name": "stderr",
     "output_type": "stream",
     "text": [
      "/Users/xavierorcutt/Dropbox/ist_project/myenv/lib/python3.7/site-packages/ipykernel_launcher.py:1: SettingWithCopyWarning: \n",
      "A value is trying to be set on a copy of a slice from a DataFrame.\n",
      "Try using .loc[row_indexer,col_indexer] = value instead\n",
      "\n",
      "See the caveats in the documentation: https://pandas.pydata.org/pandas-docs/stable/user_guide/indexing.html#returning-a-view-versus-a-copy\n",
      "  \"\"\"Entry point for launching an IPython kernel.\n"
     ]
    }
   ],
   "source": [
    "train_cox['psa_60'] = np.where(train_cox['PSAMetDiagnosis'] >= 60, 1, 0)"
   ]
  },
  {
   "cell_type": "markdown",
   "id": "2c3473cd",
   "metadata": {},
   "source": [
    "#### Grade group\n",
    "* Grade group 1-3\n",
    "* Grade group 4-5"
   ]
  },
  {
   "cell_type": "code",
   "execution_count": 24,
   "id": "290710f4",
   "metadata": {},
   "outputs": [
    {
     "data": {
      "text/plain": [
       "9                                   2572\n",
       "Unknown / Not documented            2399\n",
       "8                                   1184\n",
       "10                                   677\n",
       "4 + 3 = 7                            381\n",
       "3 + 4 = 7                            185\n",
       "Less than or equal to 6               71\n",
       "7 (when breakdown not available)      41\n",
       "Name: GleasonScore, dtype: int64"
      ]
     },
     "execution_count": 24,
     "metadata": {},
     "output_type": "execute_result"
    }
   ],
   "source": [
    "train_cox.GleasonScore.value_counts()"
   ]
  },
  {
   "cell_type": "code",
   "execution_count": 25,
   "id": "40f11b23",
   "metadata": {},
   "outputs": [],
   "source": [
    "conditions = [\n",
    "    (train_cox['GleasonScore'] == 'Less than or equal to 6') | \n",
    "    (train_cox['GleasonScore'] == '3 + 4 = 7') |\n",
    "    (train_cox['GleasonScore'] == '4 + 3 = 7') | \n",
    "    (train_cox['GleasonScore'] == '7 (when breakdown not available)'),\n",
    "    (train_cox['GleasonScore'] == '8') | \n",
    "    (train_cox['GleasonScore'] == '9') |\n",
    "    (train_cox['GleasonScore'] == '10')]    \n",
    "\n",
    "choices = ['1-3',\n",
    "           '4-5']\n",
    "    \n",
    "train_cox.loc[:, 'grade_group'] = np.select(conditions, choices, default = train_cox['GleasonScore'])"
   ]
  },
  {
   "cell_type": "code",
   "execution_count": 26,
   "id": "8bdfef23",
   "metadata": {},
   "outputs": [
    {
     "data": {
      "text/plain": [
       "4-5                         4433\n",
       "Unknown / Not documented    2399\n",
       "1-3                          678\n",
       "Name: grade_group, dtype: int64"
      ]
     },
     "execution_count": 26,
     "metadata": {},
     "output_type": "execute_result"
    }
   ],
   "source": [
    "train_cox.grade_group.value_counts()"
   ]
  },
  {
   "cell_type": "markdown",
   "id": "c1ff1690",
   "metadata": {},
   "source": [
    "### Test set "
   ]
  },
  {
   "cell_type": "code",
   "execution_count": 27,
   "id": "210e1f9b",
   "metadata": {},
   "outputs": [],
   "source": [
    "test_cox = test.query('stage == \"IV\"')"
   ]
  },
  {
   "cell_type": "markdown",
   "id": "628eb195",
   "metadata": {},
   "source": [
    "#### Site of extra-prostatic disease\n",
    "* N1\n",
    "* M1a\n",
    "* M1b\n",
    "* M1c"
   ]
  },
  {
   "cell_type": "code",
   "execution_count": 28,
   "id": "05b731c7",
   "metadata": {},
   "outputs": [
    {
     "data": {
      "text/plain": [
       "M1                          1288\n",
       "M1b                          324\n",
       "M0                           151\n",
       "M1c                           88\n",
       "M1a                           42\n",
       "Unknown / Not documented      20\n",
       "Name: MStage, dtype: int64"
      ]
     },
     "execution_count": 28,
     "metadata": {},
     "output_type": "execute_result"
    }
   ],
   "source": [
    "test_cox.MStage.value_counts(dropna = False)"
   ]
  },
  {
   "cell_type": "code",
   "execution_count": 29,
   "id": "ad9776ac",
   "metadata": {},
   "outputs": [
    {
     "data": {
      "text/plain": [
       "N1                          133\n",
       "N0                           12\n",
       "Unknown / Not documented      5\n",
       "NX                            1\n",
       "Name: NStage, dtype: int64"
      ]
     },
     "execution_count": 29,
     "metadata": {},
     "output_type": "execute_result"
    }
   ],
   "source": [
    "test_cox.query('MStage == \"M0\"').NStage.value_counts()"
   ]
  },
  {
   "cell_type": "code",
   "execution_count": 30,
   "id": "24954fd4",
   "metadata": {},
   "outputs": [
    {
     "name": "stderr",
     "output_type": "stream",
     "text": [
      "/Users/xavierorcutt/Dropbox/ist_project/myenv/lib/python3.7/site-packages/ipykernel_launcher.py:1: SettingWithCopyWarning: \n",
      "A value is trying to be set on a copy of a slice from a DataFrame.\n",
      "Try using .loc[row_indexer,col_indexer] = value instead\n",
      "\n",
      "See the caveats in the documentation: https://pandas.pydata.org/pandas-docs/stable/user_guide/indexing.html#returning-a-view-versus-a-copy\n",
      "  \"\"\"Entry point for launching an IPython kernel.\n"
     ]
    }
   ],
   "source": [
    "test_cox['MStage'] = np.where((test_cox['MStage'] == 'M0') & (test_cox['NStage'] == 'N1'), 'N1', test_cox['MStage'])"
   ]
  },
  {
   "cell_type": "code",
   "execution_count": 31,
   "id": "5c65b61d",
   "metadata": {},
   "outputs": [
    {
     "data": {
      "text/plain": [
       "M1                          1288\n",
       "M1b                          324\n",
       "N1                           133\n",
       "M1c                           88\n",
       "M1a                           42\n",
       "Unknown / Not documented      20\n",
       "M0                            18\n",
       "Name: MStage, dtype: int64"
      ]
     },
     "execution_count": 31,
     "metadata": {},
     "output_type": "execute_result"
    }
   ],
   "source": [
    "test_cox.MStage.value_counts(dropna = False)"
   ]
  },
  {
   "cell_type": "code",
   "execution_count": 32,
   "id": "317973c3",
   "metadata": {},
   "outputs": [],
   "source": [
    "unknown_bone_IDs = (\n",
    "    test_cox\n",
    "    .query('MStage == \"M0\" or MStage == \"Unknown / Not documented\"')\n",
    "    .query('bone_met == 1')\n",
    "    .query('thorax_met == 0')\n",
    "    .query('peritoneum_met == 0')\n",
    "    .query('liver_met == 0')\n",
    "    .query('other_gi_met == 0')\n",
    "    .query('cns_met == 0')\n",
    "    .query('lymph_met == 0')\n",
    "    .query('kidney_bladder_met == 0')\n",
    "    .query('other_met == 0')\n",
    "    .PatientID\n",
    ")"
   ]
  },
  {
   "cell_type": "code",
   "execution_count": 33,
   "id": "5b7121d7",
   "metadata": {},
   "outputs": [],
   "source": [
    "unknown_vcns_IDs = (\n",
    "    test_cox\n",
    "    .query('MStage == \"M0\" or MStage == \"Unknown / Not documented\"')\n",
    "    .query('thorax_met == 1 or peritoneum_met == 1 or liver_met == 1 or other_gi_met == 1 or cns_met == 1 or kidney_bladder_met == 1')\n",
    "    .PatientID\n",
    ")"
   ]
  },
  {
   "cell_type": "code",
   "execution_count": 34,
   "id": "fa6994ae",
   "metadata": {},
   "outputs": [],
   "source": [
    "m1_bone_IDs = (\n",
    "    test_cox\n",
    "    .query('MStage == \"M1\"')\n",
    "    .query('bone_met == 1')\n",
    "    .query('thorax_met == 0')\n",
    "    .query('peritoneum_met == 0')\n",
    "    .query('liver_met == 0')\n",
    "    .query('other_gi_met == 0')\n",
    "    .query('cns_met == 0')\n",
    "    .query('lymph_met == 0')\n",
    "    .query('kidney_bladder_met == 0')\n",
    "    .query('other_met == 0')\n",
    "    .PatientID\n",
    ")"
   ]
  },
  {
   "cell_type": "code",
   "execution_count": 35,
   "id": "1510170a",
   "metadata": {},
   "outputs": [],
   "source": [
    "m1_vcns_IDs = (\n",
    "    test_cox\n",
    "    .query('MStage == \"M1\"')\n",
    "    .query('thorax_met == 1 or peritoneum_met == 1 or liver_met == 1 or other_gi_met == 1 or cns_met == 1 or kidney_bladder_met == 1')\n",
    "    .PatientID\n",
    ")"
   ]
  },
  {
   "cell_type": "code",
   "execution_count": 36,
   "id": "49108611",
   "metadata": {},
   "outputs": [],
   "source": [
    "n1_bone_IDs = (\n",
    "    test_cox\n",
    "    .query('MStage == \"N1\"')\n",
    "    .query('bone_met == 1')\n",
    "    .query('thorax_met == 0')\n",
    "    .query('peritoneum_met == 0')\n",
    "    .query('liver_met == 0')\n",
    "    .query('other_gi_met == 0')\n",
    "    .query('cns_met == 0')\n",
    "    .query('lymph_met == 0')\n",
    "    .query('kidney_bladder_met == 0')\n",
    "    .query('other_met == 0')\n",
    "    .PatientID\n",
    ")"
   ]
  },
  {
   "cell_type": "code",
   "execution_count": 37,
   "id": "6b5313e7",
   "metadata": {},
   "outputs": [],
   "source": [
    "n1_vcns_IDs = (\n",
    "    test_cox\n",
    "    .query('MStage == \"N1\"')\n",
    "    .query('thorax_met == 1 or peritoneum_met == 1 or liver_met == 1 or other_gi_met == 1 or cns_met == 1 or kidney_bladder_met == 1')\n",
    "    .PatientID\n",
    ")"
   ]
  },
  {
   "cell_type": "code",
   "execution_count": 38,
   "id": "37cf3fed",
   "metadata": {},
   "outputs": [],
   "source": [
    "bone_IDs = np.concatenate([unknown_bone_IDs, m1_bone_IDs, n1_bone_IDs])"
   ]
  },
  {
   "cell_type": "code",
   "execution_count": 39,
   "id": "3bef5948",
   "metadata": {},
   "outputs": [],
   "source": [
    "vcns_IDs = np.concatenate([unknown_vcns_IDs, m1_vcns_IDs, n1_vcns_IDs])"
   ]
  },
  {
   "cell_type": "code",
   "execution_count": 40,
   "id": "72e79505",
   "metadata": {},
   "outputs": [],
   "source": [
    "conditions = [\n",
    "    (test_cox['PatientID'].isin(bone_IDs)),\n",
    "    (test_cox['PatientID'].isin(vcns_IDs))\n",
    "]    \n",
    "\n",
    "choices = ['M1b',\n",
    "           'M1c']\n",
    "    \n",
    "test_cox.loc[:, 'MStage_n'] = np.select(conditions, choices, default = test_cox['MStage'])"
   ]
  },
  {
   "cell_type": "code",
   "execution_count": 41,
   "id": "9df11b31",
   "metadata": {},
   "outputs": [
    {
     "data": {
      "text/plain": [
       "M1                          909\n",
       "M1b                         702\n",
       "M1c                         123\n",
       "N1                          109\n",
       "M1a                          42\n",
       "Unknown / Not documented     16\n",
       "M0                           12\n",
       "Name: MStage_n, dtype: int64"
      ]
     },
     "execution_count": 41,
     "metadata": {},
     "output_type": "execute_result"
    }
   ],
   "source": [
    "test_cox.MStage_n.value_counts(dropna = False)"
   ]
  },
  {
   "cell_type": "code",
   "execution_count": 42,
   "id": "9c035546",
   "metadata": {},
   "outputs": [
    {
     "name": "stderr",
     "output_type": "stream",
     "text": [
      "/Users/xavierorcutt/Dropbox/ist_project/myenv/lib/python3.7/site-packages/ipykernel_launcher.py:2: SettingWithCopyWarning: \n",
      "A value is trying to be set on a copy of a slice from a DataFrame.\n",
      "Try using .loc[row_indexer,col_indexer] = value instead\n",
      "\n",
      "See the caveats in the documentation: https://pandas.pydata.org/pandas-docs/stable/user_guide/indexing.html#returning-a-view-versus-a-copy\n",
      "  \n"
     ]
    }
   ],
   "source": [
    "test_cox['MStage_n'] = np.where(\n",
    "    (test_cox['MStage_n'] == \"M0\") | (test_cox['MStage_n'] == \"Unknown / Not documented\"), 'unknown', test_cox['MStage_n']\n",
    ")"
   ]
  },
  {
   "cell_type": "code",
   "execution_count": 43,
   "id": "029b3964",
   "metadata": {},
   "outputs": [
    {
     "data": {
      "text/plain": [
       "M1         909\n",
       "M1b        702\n",
       "M1c        123\n",
       "N1         109\n",
       "M1a         42\n",
       "unknown     28\n",
       "Name: MStage_n, dtype: int64"
      ]
     },
     "execution_count": 43,
     "metadata": {},
     "output_type": "execute_result"
    }
   ],
   "source": [
    "test_cox.MStage_n.value_counts(dropna = False)"
   ]
  },
  {
   "cell_type": "markdown",
   "id": "81d3eec9",
   "metadata": {},
   "source": [
    "#### PSA level (>= 60 or <60)"
   ]
  },
  {
   "cell_type": "code",
   "execution_count": 44,
   "id": "2dd5ab7c",
   "metadata": {},
   "outputs": [
    {
     "name": "stderr",
     "output_type": "stream",
     "text": [
      "/Users/xavierorcutt/Dropbox/ist_project/myenv/lib/python3.7/site-packages/ipykernel_launcher.py:1: SettingWithCopyWarning: \n",
      "A value is trying to be set on a copy of a slice from a DataFrame.\n",
      "Try using .loc[row_indexer,col_indexer] = value instead\n",
      "\n",
      "See the caveats in the documentation: https://pandas.pydata.org/pandas-docs/stable/user_guide/indexing.html#returning-a-view-versus-a-copy\n",
      "  \"\"\"Entry point for launching an IPython kernel.\n"
     ]
    }
   ],
   "source": [
    "test_cox['psa_60'] = np.where(test_cox['PSAMetDiagnosis'] >= 60, 1, 0)"
   ]
  },
  {
   "cell_type": "markdown",
   "id": "6124b133",
   "metadata": {},
   "source": [
    "#### Grade group\n",
    "* Grade group 1-3\n",
    "* Grade group 4-5"
   ]
  },
  {
   "cell_type": "code",
   "execution_count": 45,
   "id": "4ffc8f7c",
   "metadata": {},
   "outputs": [
    {
     "data": {
      "text/plain": [
       "Unknown / Not documented            668\n",
       "9                                   636\n",
       "8                                   301\n",
       "10                                  147\n",
       "4 + 3 = 7                            83\n",
       "3 + 4 = 7                            54\n",
       "Less than or equal to 6              16\n",
       "7 (when breakdown not available)      8\n",
       "Name: GleasonScore, dtype: int64"
      ]
     },
     "execution_count": 45,
     "metadata": {},
     "output_type": "execute_result"
    }
   ],
   "source": [
    "test_cox.GleasonScore.value_counts()"
   ]
  },
  {
   "cell_type": "code",
   "execution_count": 46,
   "id": "ac66614c",
   "metadata": {},
   "outputs": [],
   "source": [
    "conditions = [\n",
    "    (test_cox['GleasonScore'] == 'Less than or equal to 6') | \n",
    "    (test_cox['GleasonScore'] == '3 + 4 = 7') |\n",
    "    (test_cox['GleasonScore'] == '4 + 3 = 7') | \n",
    "    (test_cox['GleasonScore'] == '7 (when breakdown not available)'),\n",
    "    (test_cox['GleasonScore'] == '8') | \n",
    "    (test_cox['GleasonScore'] == '9') |\n",
    "    (test_cox['GleasonScore'] == '10')]    \n",
    "\n",
    "choices = ['1-3',\n",
    "           '4-5']\n",
    "    \n",
    "test_cox.loc[:, 'grade_group'] = np.select(conditions, choices, default = test_cox['GleasonScore'])"
   ]
  },
  {
   "cell_type": "code",
   "execution_count": 47,
   "id": "cd67951b",
   "metadata": {},
   "outputs": [
    {
     "data": {
      "text/plain": [
       "4-5                         1084\n",
       "Unknown / Not documented     668\n",
       "1-3                          161\n",
       "Name: grade_group, dtype: int64"
      ]
     },
     "execution_count": 47,
     "metadata": {},
     "output_type": "execute_result"
    }
   ],
   "source": [
    "test_cox.grade_group.value_counts()"
   ]
  },
  {
   "cell_type": "markdown",
   "id": "18d4f39a",
   "metadata": {},
   "source": [
    "## 2. De novo metastatic disease \n",
    "\n",
    "**The first version of the Cox model will include all patients with de novo metastatic disease. Patients with missing site of metastasis, PSA, or grade group will be included.**"
   ]
  },
  {
   "cell_type": "code",
   "execution_count": 48,
   "id": "08b804e2",
   "metadata": {},
   "outputs": [],
   "source": [
    "from sksurv.linear_model import CoxPHSurvivalAnalysis\n",
    "\n",
    "from sksurv.metrics import cumulative_dynamic_auc"
   ]
  },
  {
   "cell_type": "code",
   "execution_count": 49,
   "id": "612ed8a0",
   "metadata": {},
   "outputs": [],
   "source": [
    "# Create function that creates dummy variables for categorical variable and drops original categorical variable. \n",
    "def encode_and_bind(original_dataframe, feature_to_encode):\n",
    "    dummies = pd.get_dummies(original_dataframe[[feature_to_encode]])\n",
    "    res = pd.concat([original_dataframe, dummies], axis = 1)\n",
    "    res = res.drop([feature_to_encode], axis = 1)\n",
    "    return(res) "
   ]
  },
  {
   "cell_type": "markdown",
   "id": "2c4023f6",
   "metadata": {},
   "source": [
    "### Processing X "
   ]
  },
  {
   "cell_type": "markdown",
   "id": "d9ed8c6e",
   "metadata": {},
   "source": [
    "#### Select relevant variables"
   ]
  },
  {
   "cell_type": "code",
   "execution_count": 50,
   "id": "87e2095d",
   "metadata": {},
   "outputs": [],
   "source": [
    "train_cox_x = (\n",
    "    train_cox\n",
    "    .filter(items = [\n",
    "        'PatientID',\n",
    "        'MStage_n',\n",
    "        'psa_60',\n",
    "        'grade_group']))"
   ]
  },
  {
   "cell_type": "code",
   "execution_count": 51,
   "id": "e704654e",
   "metadata": {},
   "outputs": [],
   "source": [
    "train_cox_x = train_cox_x.set_index('PatientID')"
   ]
  },
  {
   "cell_type": "code",
   "execution_count": 52,
   "id": "86989a48",
   "metadata": {},
   "outputs": [
    {
     "data": {
      "text/plain": [
       "(7510, 3)"
      ]
     },
     "execution_count": 52,
     "metadata": {},
     "output_type": "execute_result"
    }
   ],
   "source": [
    "train_cox_x.shape"
   ]
  },
  {
   "cell_type": "code",
   "execution_count": 53,
   "id": "cb27da2a",
   "metadata": {},
   "outputs": [],
   "source": [
    "test_cox_x = (\n",
    "    test_cox\n",
    "    .filter(items = [\n",
    "        'PatientID',\n",
    "        'MStage_n',\n",
    "        'psa_60',\n",
    "        'grade_group']))"
   ]
  },
  {
   "cell_type": "code",
   "execution_count": 54,
   "id": "eb935a08",
   "metadata": {},
   "outputs": [],
   "source": [
    "test_cox_x = test_cox_x.set_index('PatientID')"
   ]
  },
  {
   "cell_type": "code",
   "execution_count": 55,
   "id": "7dcef318",
   "metadata": {},
   "outputs": [
    {
     "data": {
      "text/plain": [
       "(1913, 3)"
      ]
     },
     "execution_count": 55,
     "metadata": {},
     "output_type": "execute_result"
    }
   ],
   "source": [
    "test_cox_x.shape"
   ]
  },
  {
   "cell_type": "markdown",
   "id": "e4b11918",
   "metadata": {},
   "source": [
    "#### Convert relevant varibles to categorical "
   ]
  },
  {
   "cell_type": "code",
   "execution_count": 56,
   "id": "7b654a89",
   "metadata": {},
   "outputs": [
    {
     "data": {
      "text/plain": [
       "['MStage_n', 'grade_group']"
      ]
     },
     "execution_count": 56,
     "metadata": {},
     "output_type": "execute_result"
    }
   ],
   "source": [
    "list(train_cox_x.select_dtypes(include = ['object']).columns)"
   ]
  },
  {
   "cell_type": "code",
   "execution_count": 57,
   "id": "9090359e",
   "metadata": {},
   "outputs": [],
   "source": [
    "to_be_categorical = list(train_cox_x.select_dtypes(include = ['object']).columns)"
   ]
  },
  {
   "cell_type": "code",
   "execution_count": 58,
   "id": "62d6a252",
   "metadata": {},
   "outputs": [],
   "source": [
    "to_be_categorical.append('psa_60')"
   ]
  },
  {
   "cell_type": "code",
   "execution_count": 59,
   "id": "18d59910",
   "metadata": {},
   "outputs": [],
   "source": [
    "for x in list(to_be_categorical):\n",
    "    train_cox_x[x] = train_cox_x[x].astype('category')"
   ]
  },
  {
   "cell_type": "code",
   "execution_count": 60,
   "id": "c06ce0db",
   "metadata": {},
   "outputs": [
    {
     "data": {
      "text/plain": [
       "MStage_n       category\n",
       "psa_60         category\n",
       "grade_group    category\n",
       "dtype: object"
      ]
     },
     "execution_count": 60,
     "metadata": {},
     "output_type": "execute_result"
    }
   ],
   "source": [
    "train_cox_x.dtypes"
   ]
  },
  {
   "cell_type": "code",
   "execution_count": 61,
   "id": "63e5f512",
   "metadata": {},
   "outputs": [],
   "source": [
    "for x in list(to_be_categorical):\n",
    "    test_cox_x[x] = test_cox_x[x].astype('category')"
   ]
  },
  {
   "cell_type": "markdown",
   "id": "2e4fda08",
   "metadata": {},
   "source": [
    "#### Dummy encode categorical variables "
   ]
  },
  {
   "cell_type": "code",
   "execution_count": 62,
   "id": "aeeb8dc9",
   "metadata": {},
   "outputs": [],
   "source": [
    "# Dummy variables for site of metastasis\n",
    "train_cox_x = encode_and_bind(train_cox_x, 'MStage_n')\n",
    "train_cox_x = train_cox_x.drop(columns = ['MStage_n_unknown'])\n",
    "\n",
    "test_cox_x = encode_and_bind(test_cox_x, 'MStage_n')\n",
    "test_cox_x = test_cox_x.drop(columns = ['MStage_n_unknown'])\n",
    "\n",
    "# Dummy variables for grade group \n",
    "train_cox_x = encode_and_bind(train_cox_x, 'grade_group')\n",
    "train_cox_x = train_cox_x.drop(columns = ['grade_group_Unknown / Not documented'])\n",
    "\n",
    "test_cox_x = encode_and_bind(test_cox_x, 'grade_group')\n",
    "test_cox_x = test_cox_x.drop(columns = ['grade_group_Unknown / Not documented'])"
   ]
  },
  {
   "cell_type": "code",
   "execution_count": 63,
   "id": "4fff6aa2",
   "metadata": {},
   "outputs": [
    {
     "name": "stdout",
     "output_type": "stream",
     "text": [
      "(7510, 8)\n",
      "(1913, 8)\n"
     ]
    }
   ],
   "source": [
    "print(train_cox_x.shape)\n",
    "print(test_cox_x.shape)"
   ]
  },
  {
   "cell_type": "markdown",
   "id": "87115949",
   "metadata": {},
   "source": [
    "### Processing Y"
   ]
  },
  {
   "cell_type": "code",
   "execution_count": 64,
   "id": "57d78db8",
   "metadata": {},
   "outputs": [
    {
     "name": "stderr",
     "output_type": "stream",
     "text": [
      "/Users/xavierorcutt/Dropbox/ist_project/myenv/lib/python3.7/site-packages/ipykernel_launcher.py:2: SettingWithCopyWarning: \n",
      "A value is trying to be set on a copy of a slice from a DataFrame.\n",
      "Try using .loc[row_indexer,col_indexer] = value instead\n",
      "\n",
      "See the caveats in the documentation: https://pandas.pydata.org/pandas-docs/stable/user_guide/indexing.html#returning-a-view-versus-a-copy\n",
      "  \n"
     ]
    }
   ],
   "source": [
    "# Convert death_status into True or False (required for scikit-survival). \n",
    "train_cox['death_status'] = train_cox['death_status'].astype('bool')"
   ]
  },
  {
   "cell_type": "code",
   "execution_count": 65,
   "id": "a1e1424c",
   "metadata": {},
   "outputs": [],
   "source": [
    "y_dtypes = train_cox[['death_status', 'timerisk_activity']].dtypes\n",
    "\n",
    "train_cox_y = np.array([tuple(x) for x in train_cox[['death_status', 'timerisk_activity']].values],\n",
    "                        dtype = list(zip(y_dtypes.index, y_dtypes)))"
   ]
  },
  {
   "cell_type": "code",
   "execution_count": 66,
   "id": "7efb40d5",
   "metadata": {},
   "outputs": [
    {
     "data": {
      "text/plain": [
       "(7510,)"
      ]
     },
     "execution_count": 66,
     "metadata": {},
     "output_type": "execute_result"
    }
   ],
   "source": [
    "train_cox_y.shape"
   ]
  },
  {
   "cell_type": "code",
   "execution_count": 67,
   "id": "d7a51441",
   "metadata": {},
   "outputs": [
    {
     "name": "stderr",
     "output_type": "stream",
     "text": [
      "/Users/xavierorcutt/Dropbox/ist_project/myenv/lib/python3.7/site-packages/ipykernel_launcher.py:2: SettingWithCopyWarning: \n",
      "A value is trying to be set on a copy of a slice from a DataFrame.\n",
      "Try using .loc[row_indexer,col_indexer] = value instead\n",
      "\n",
      "See the caveats in the documentation: https://pandas.pydata.org/pandas-docs/stable/user_guide/indexing.html#returning-a-view-versus-a-copy\n",
      "  \n"
     ]
    }
   ],
   "source": [
    "# Convert death_status into True or False (required for scikit-survival). \n",
    "test_cox['death_status'] = test_cox['death_status'].astype('bool')"
   ]
  },
  {
   "cell_type": "code",
   "execution_count": 68,
   "id": "41a19e2b",
   "metadata": {},
   "outputs": [],
   "source": [
    "y_dtypes = test_cox[['death_status', 'timerisk_activity']].dtypes\n",
    "\n",
    "test_cox_y = np.array([tuple(x) for x in test_cox[['death_status', 'timerisk_activity']].values],\n",
    "                        dtype = list(zip(y_dtypes.index, y_dtypes)))"
   ]
  },
  {
   "cell_type": "code",
   "execution_count": 69,
   "id": "8745f596",
   "metadata": {},
   "outputs": [
    {
     "data": {
      "text/plain": [
       "(1913,)"
      ]
     },
     "execution_count": 69,
     "metadata": {},
     "output_type": "execute_result"
    }
   ],
   "source": [
    "test_cox_y.shape"
   ]
  },
  {
   "cell_type": "markdown",
   "id": "ab1150e4",
   "metadata": {},
   "source": [
    "### Build and assess model performance"
   ]
  },
  {
   "cell_type": "code",
   "execution_count": 70,
   "id": "81cb0111",
   "metadata": {},
   "outputs": [
    {
     "data": {
      "text/plain": [
       "CoxPHSurvivalAnalysis()"
      ]
     },
     "execution_count": 70,
     "metadata": {},
     "output_type": "execute_result"
    }
   ],
   "source": [
    "cox_crude = CoxPHSurvivalAnalysis()\n",
    "\n",
    "cox_crude.fit(train_cox_x, train_cox_y)"
   ]
  },
  {
   "cell_type": "code",
   "execution_count": 71,
   "id": "8a1cb1c8",
   "metadata": {},
   "outputs": [
    {
     "name": "stdout",
     "output_type": "stream",
     "text": [
      "Test set AUC at 2 years: 0.6121953517893658\n"
     ]
    }
   ],
   "source": [
    "cox_crude_risk_scores_te = cox_crude.predict(test_cox_x)\n",
    "cox_crude_auc_te = cumulative_dynamic_auc(train_cox_y, test_cox_y, cox_crude_risk_scores_te, 730)[0][0]\n",
    "print('Test set AUC at 2 years:', cox_crude_auc_te)"
   ]
  },
  {
   "cell_type": "code",
   "execution_count": 72,
   "id": "2a82c71f",
   "metadata": {},
   "outputs": [
    {
     "name": "stdout",
     "output_type": "stream",
     "text": [
      "Training set AUC at 2 years: 0.6259058212378803\n"
     ]
    }
   ],
   "source": [
    "cox_crude_risk_scores_tr = cox_crude.predict(train_cox_x)\n",
    "cox_crude_auc_tr = cumulative_dynamic_auc(train_cox_y, train_cox_y, cox_crude_risk_scores_tr, 730)[0][0]\n",
    "print('Training set AUC at 2 years:', cox_crude_auc_tr)"
   ]
  },
  {
   "cell_type": "code",
   "execution_count": 73,
   "id": "ae720b1c",
   "metadata": {},
   "outputs": [],
   "source": [
    "# Bootstrap 10000 1 yr AUCs for test set \n",
    "n_bootstraps = 10000\n",
    "rng_seed = 42 \n",
    "bootstrapped_scores_te = []\n",
    "\n",
    "rng = np.random.RandomState(rng_seed)\n",
    "for i in range(n_bootstraps):\n",
    "    indices = rng.randint(0, len(cox_crude_risk_scores_te), len(cox_crude_risk_scores_te))\n",
    "    auc_yr = cumulative_dynamic_auc(train_cox_y, test_cox_y[indices], cox_crude_risk_scores_te[indices], 730)[0][0]\n",
    "    bootstrapped_scores_te.append(auc_yr)"
   ]
  },
  {
   "cell_type": "code",
   "execution_count": 74,
   "id": "85369618",
   "metadata": {},
   "outputs": [
    {
     "name": "stdout",
     "output_type": "stream",
     "text": [
      "Test set AUC standard error: 0.015423403661116221\n"
     ]
    }
   ],
   "source": [
    "# Standard error of mean for test set AUC\n",
    "sorted_scores_te = np.array(bootstrapped_scores_te)\n",
    "sorted_scores_te.sort()\n",
    "\n",
    "conf_lower_te = sorted_scores_te[int(0.025 * len(sorted_scores_te))]\n",
    "conf_upper_te = sorted_scores_te[int(0.975 * len(sorted_scores_te))]\n",
    "\n",
    "standard_error_te = (conf_upper_te - conf_lower_te) / 3.92\n",
    "print('Test set AUC standard error:', standard_error_te)"
   ]
  },
  {
   "cell_type": "code",
   "execution_count": 75,
   "id": "787b5870",
   "metadata": {},
   "outputs": [],
   "source": [
    "# Bootstrap 10000 1-yr AUCs for train set \n",
    "n_bootstraps = 10000\n",
    "rng_seed = 42 \n",
    "bootstrapped_scores_tr = []\n",
    "\n",
    "rng = np.random.RandomState(rng_seed)\n",
    "for i in range(n_bootstraps):\n",
    "    indices = rng.randint(0, len(cox_crude_risk_scores_tr), len(cox_crude_risk_scores_tr))\n",
    "    auc_yr = cumulative_dynamic_auc(train_cox_y, train_cox_y[indices], cox_crude_risk_scores_tr[indices], 730)[0][0]\n",
    "    bootstrapped_scores_tr.append(auc_yr)"
   ]
  },
  {
   "cell_type": "code",
   "execution_count": 76,
   "id": "853273b6",
   "metadata": {},
   "outputs": [
    {
     "name": "stdout",
     "output_type": "stream",
     "text": [
      "Training set AUC standard error 0.007833688914237594\n"
     ]
    }
   ],
   "source": [
    "# Standard error of mean for train set AUC\n",
    "sorted_scores_tr = np.array(bootstrapped_scores_tr)\n",
    "sorted_scores_tr.sort()\n",
    "\n",
    "conf_lower_tr = sorted_scores_tr[int(0.025 * len(sorted_scores_tr))]\n",
    "conf_upper_tr = sorted_scores_tr[int(0.975 * len(sorted_scores_tr))]\n",
    "\n",
    "standard_error_tr = (conf_upper_tr - conf_lower_tr) / 3.92\n",
    "print('Training set AUC standard error', standard_error_tr)"
   ]
  },
  {
   "cell_type": "code",
   "execution_count": 77,
   "id": "b7fbe4f9",
   "metadata": {},
   "outputs": [],
   "source": [
    "cox_auc_data = {'model': ['cox_crude'],\n",
    "                'auc_2yr_te': [cox_crude_auc_te],\n",
    "                'sem_te': [standard_error_te],\n",
    "                'auc_2yr_tr': [cox_crude_auc_tr],\n",
    "                'sem_tr': [standard_error_tr]}\n",
    "\n",
    "cox_auc_df = pd.DataFrame(cox_auc_data)"
   ]
  },
  {
   "cell_type": "code",
   "execution_count": 78,
   "id": "688fad32",
   "metadata": {},
   "outputs": [
    {
     "data": {
      "text/html": [
       "<div>\n",
       "<style scoped>\n",
       "    .dataframe tbody tr th:only-of-type {\n",
       "        vertical-align: middle;\n",
       "    }\n",
       "\n",
       "    .dataframe tbody tr th {\n",
       "        vertical-align: top;\n",
       "    }\n",
       "\n",
       "    .dataframe thead th {\n",
       "        text-align: right;\n",
       "    }\n",
       "</style>\n",
       "<table border=\"1\" class=\"dataframe\">\n",
       "  <thead>\n",
       "    <tr style=\"text-align: right;\">\n",
       "      <th></th>\n",
       "      <th>model</th>\n",
       "      <th>auc_2yr_te</th>\n",
       "      <th>sem_te</th>\n",
       "      <th>auc_2yr_tr</th>\n",
       "      <th>sem_tr</th>\n",
       "    </tr>\n",
       "  </thead>\n",
       "  <tbody>\n",
       "    <tr>\n",
       "      <th>0</th>\n",
       "      <td>cox_crude</td>\n",
       "      <td>0.612195</td>\n",
       "      <td>0.015423</td>\n",
       "      <td>0.625906</td>\n",
       "      <td>0.007834</td>\n",
       "    </tr>\n",
       "  </tbody>\n",
       "</table>\n",
       "</div>"
      ],
      "text/plain": [
       "       model  auc_2yr_te    sem_te  auc_2yr_tr    sem_tr\n",
       "0  cox_crude    0.612195  0.015423    0.625906  0.007834"
      ]
     },
     "execution_count": 78,
     "metadata": {},
     "output_type": "execute_result"
    }
   ],
   "source": [
    "cox_auc_df"
   ]
  },
  {
   "cell_type": "code",
   "execution_count": 79,
   "id": "04c2fa0b",
   "metadata": {},
   "outputs": [],
   "source": [
    "cox_auc_df.to_csv('cox_auc_df.csv', index = False, header = True)"
   ]
  },
  {
   "cell_type": "code",
   "execution_count": 80,
   "id": "0764dc98",
   "metadata": {},
   "outputs": [],
   "source": [
    "times = np.arange(30, 1810, 30)\n",
    "crude_cox_auc_over5 = cumulative_dynamic_auc(train_cox_y, test_cox_y, cox_crude_risk_scores_te, times)[0]\n",
    "\n",
    "times_data = {}\n",
    "values = crude_cox_auc_over5\n",
    "time_names = []\n",
    "\n",
    "for x in range(len(times)):\n",
    "    time_names.append('time_'+str(times[x]))\n",
    "\n",
    "for i in range(len(time_names)):\n",
    "    times_data[time_names[i]] = values[i]\n",
    "    \n",
    "cox_auc_over5 = pd.DataFrame(times_data, index = ['cox_crude'])"
   ]
  },
  {
   "cell_type": "code",
   "execution_count": 81,
   "id": "3771c157",
   "metadata": {},
   "outputs": [
    {
     "data": {
      "text/html": [
       "<div>\n",
       "<style scoped>\n",
       "    .dataframe tbody tr th:only-of-type {\n",
       "        vertical-align: middle;\n",
       "    }\n",
       "\n",
       "    .dataframe tbody tr th {\n",
       "        vertical-align: top;\n",
       "    }\n",
       "\n",
       "    .dataframe thead th {\n",
       "        text-align: right;\n",
       "    }\n",
       "</style>\n",
       "<table border=\"1\" class=\"dataframe\">\n",
       "  <thead>\n",
       "    <tr style=\"text-align: right;\">\n",
       "      <th></th>\n",
       "      <th>time_30</th>\n",
       "      <th>time_60</th>\n",
       "      <th>time_90</th>\n",
       "      <th>time_120</th>\n",
       "      <th>time_150</th>\n",
       "      <th>time_180</th>\n",
       "      <th>time_210</th>\n",
       "      <th>time_240</th>\n",
       "      <th>time_270</th>\n",
       "      <th>time_300</th>\n",
       "      <th>...</th>\n",
       "      <th>time_1530</th>\n",
       "      <th>time_1560</th>\n",
       "      <th>time_1590</th>\n",
       "      <th>time_1620</th>\n",
       "      <th>time_1650</th>\n",
       "      <th>time_1680</th>\n",
       "      <th>time_1710</th>\n",
       "      <th>time_1740</th>\n",
       "      <th>time_1770</th>\n",
       "      <th>time_1800</th>\n",
       "    </tr>\n",
       "  </thead>\n",
       "  <tbody>\n",
       "    <tr>\n",
       "      <th>cox_crude</th>\n",
       "      <td>0.63523</td>\n",
       "      <td>0.719533</td>\n",
       "      <td>0.696485</td>\n",
       "      <td>0.696683</td>\n",
       "      <td>0.670808</td>\n",
       "      <td>0.672577</td>\n",
       "      <td>0.674294</td>\n",
       "      <td>0.667327</td>\n",
       "      <td>0.670997</td>\n",
       "      <td>0.669549</td>\n",
       "      <td>...</td>\n",
       "      <td>0.639714</td>\n",
       "      <td>0.638639</td>\n",
       "      <td>0.635354</td>\n",
       "      <td>0.635355</td>\n",
       "      <td>0.639401</td>\n",
       "      <td>0.639922</td>\n",
       "      <td>0.641251</td>\n",
       "      <td>0.643446</td>\n",
       "      <td>0.644487</td>\n",
       "      <td>0.645597</td>\n",
       "    </tr>\n",
       "  </tbody>\n",
       "</table>\n",
       "<p>1 rows × 60 columns</p>\n",
       "</div>"
      ],
      "text/plain": [
       "           time_30   time_60   time_90  time_120  time_150  time_180  \\\n",
       "cox_crude  0.63523  0.719533  0.696485  0.696683  0.670808  0.672577   \n",
       "\n",
       "           time_210  time_240  time_270  time_300  ...  time_1530  time_1560  \\\n",
       "cox_crude  0.674294  0.667327  0.670997  0.669549  ...   0.639714   0.638639   \n",
       "\n",
       "           time_1590  time_1620  time_1650  time_1680  time_1710  time_1740  \\\n",
       "cox_crude   0.635354   0.635355   0.639401   0.639922   0.641251   0.643446   \n",
       "\n",
       "           time_1770  time_1800  \n",
       "cox_crude   0.644487   0.645597  \n",
       "\n",
       "[1 rows x 60 columns]"
      ]
     },
     "execution_count": 81,
     "metadata": {},
     "output_type": "execute_result"
    }
   ],
   "source": [
    "cox_auc_over5"
   ]
  },
  {
   "cell_type": "code",
   "execution_count": 82,
   "id": "82ca346a",
   "metadata": {},
   "outputs": [],
   "source": [
    "cox_auc_over5.to_csv('cox_auc_over5.csv', index = True, header = True)"
   ]
  },
  {
   "cell_type": "markdown",
   "id": "ad06bc68",
   "metadata": {},
   "source": [
    "## 3. De novo metastatic disease with complete cases\n",
    "\n",
    "**This version will include patients with de novo metastatic disease who are not missing site of metastasis or PSA.**"
   ]
  },
  {
   "cell_type": "markdown",
   "id": "2ec57fce",
   "metadata": {},
   "source": [
    "### Remove patients with missing values "
   ]
  },
  {
   "cell_type": "code",
   "execution_count": 83,
   "id": "bff5a0d0",
   "metadata": {},
   "outputs": [],
   "source": [
    "train_cox_cc = (\n",
    "    train_cox\n",
    "    .query('MStage_n != \"unknown\"')\n",
    "    .query('PSAMetDiagnosis.notna()', engine = 'python')\n",
    ")"
   ]
  },
  {
   "cell_type": "code",
   "execution_count": 84,
   "id": "35f1e6fe",
   "metadata": {},
   "outputs": [],
   "source": [
    "test_cox_cc = (\n",
    "    test_cox\n",
    "    .query('MStage_n != \"unknown\"')\n",
    "    .query('PSAMetDiagnosis.notna()', engine = 'python')\n",
    ")"
   ]
  },
  {
   "cell_type": "markdown",
   "id": "9c71863c",
   "metadata": {},
   "source": [
    "### Processing X "
   ]
  },
  {
   "cell_type": "markdown",
   "id": "b04f7b7d",
   "metadata": {},
   "source": [
    "#### Select relevant variables"
   ]
  },
  {
   "cell_type": "code",
   "execution_count": 85,
   "id": "3a84fc0f",
   "metadata": {},
   "outputs": [],
   "source": [
    "train_cox_cc_x = (\n",
    "    train_cox_cc\n",
    "    .filter(items = [\n",
    "        'PatientID',\n",
    "        'MStage_n',\n",
    "        'psa_60',\n",
    "        'grade_group']))"
   ]
  },
  {
   "cell_type": "code",
   "execution_count": 86,
   "id": "c66b0a87",
   "metadata": {},
   "outputs": [],
   "source": [
    "train_cox_cc_x = train_cox_cc_x.set_index('PatientID')"
   ]
  },
  {
   "cell_type": "code",
   "execution_count": 87,
   "id": "1f6a1cf0",
   "metadata": {},
   "outputs": [
    {
     "data": {
      "text/plain": [
       "(6605, 3)"
      ]
     },
     "execution_count": 87,
     "metadata": {},
     "output_type": "execute_result"
    }
   ],
   "source": [
    "train_cox_cc_x.shape"
   ]
  },
  {
   "cell_type": "code",
   "execution_count": 88,
   "id": "e18f6fa8",
   "metadata": {},
   "outputs": [],
   "source": [
    "test_cox_cc_x = (\n",
    "    test_cox_cc\n",
    "    .filter(items = [\n",
    "        'PatientID',\n",
    "        'MStage_n',\n",
    "        'psa_60',\n",
    "        'grade_group']))"
   ]
  },
  {
   "cell_type": "code",
   "execution_count": 89,
   "id": "662e38f3",
   "metadata": {},
   "outputs": [],
   "source": [
    "test_cox_cc_x = test_cox_cc_x.set_index('PatientID')"
   ]
  },
  {
   "cell_type": "code",
   "execution_count": 90,
   "id": "e8a7b8db",
   "metadata": {},
   "outputs": [
    {
     "data": {
      "text/plain": [
       "(1686, 3)"
      ]
     },
     "execution_count": 90,
     "metadata": {},
     "output_type": "execute_result"
    }
   ],
   "source": [
    "test_cox_cc_x.shape"
   ]
  },
  {
   "cell_type": "markdown",
   "id": "03830391",
   "metadata": {},
   "source": [
    "#### Convert relevant varibles to categorical "
   ]
  },
  {
   "cell_type": "code",
   "execution_count": 91,
   "id": "701c239b",
   "metadata": {},
   "outputs": [
    {
     "data": {
      "text/plain": [
       "['MStage_n', 'grade_group']"
      ]
     },
     "execution_count": 91,
     "metadata": {},
     "output_type": "execute_result"
    }
   ],
   "source": [
    "list(train_cox_cc_x.select_dtypes(include = ['object']).columns)"
   ]
  },
  {
   "cell_type": "code",
   "execution_count": 92,
   "id": "80956c29",
   "metadata": {},
   "outputs": [],
   "source": [
    "to_be_categorical = list(train_cox_cc_x.select_dtypes(include = ['object']).columns)"
   ]
  },
  {
   "cell_type": "code",
   "execution_count": 93,
   "id": "0a6f345f",
   "metadata": {},
   "outputs": [],
   "source": [
    "to_be_categorical.append('psa_60')"
   ]
  },
  {
   "cell_type": "code",
   "execution_count": 94,
   "id": "92ea6252",
   "metadata": {},
   "outputs": [],
   "source": [
    "for x in list(to_be_categorical):\n",
    "    train_cox_cc_x[x] = train_cox_cc_x[x].astype('category')"
   ]
  },
  {
   "cell_type": "code",
   "execution_count": 95,
   "id": "44ea1c52",
   "metadata": {},
   "outputs": [
    {
     "data": {
      "text/plain": [
       "MStage_n       category\n",
       "psa_60         category\n",
       "grade_group    category\n",
       "dtype: object"
      ]
     },
     "execution_count": 95,
     "metadata": {},
     "output_type": "execute_result"
    }
   ],
   "source": [
    "train_cox_cc_x.dtypes"
   ]
  },
  {
   "cell_type": "code",
   "execution_count": 96,
   "id": "076a5415",
   "metadata": {},
   "outputs": [],
   "source": [
    "for x in list(to_be_categorical):\n",
    "    test_cox_cc_x[x] = test_cox_cc_x[x].astype('category')"
   ]
  },
  {
   "cell_type": "markdown",
   "id": "65ad6461",
   "metadata": {},
   "source": [
    "#### Dummy encode categorical variables "
   ]
  },
  {
   "cell_type": "code",
   "execution_count": 97,
   "id": "d36dd27f",
   "metadata": {},
   "outputs": [],
   "source": [
    "# Dummy variables for site of metastasis\n",
    "train_cox_cc_x = encode_and_bind(train_cox_cc_x, 'MStage_n')\n",
    "train_cox_cc_x = train_cox_cc_x.drop(columns = ['MStage_n_N1'])\n",
    "\n",
    "test_cox_cc_x = encode_and_bind(test_cox_cc_x, 'MStage_n')\n",
    "test_cox_cc_x = test_cox_cc_x.drop(columns = ['MStage_n_N1'])\n",
    "\n",
    "# Dummy variables for grade group \n",
    "train_cox_cc_x = encode_and_bind(train_cox_cc_x, 'grade_group')\n",
    "train_cox_cc_x = train_cox_cc_x.drop(columns = ['grade_group_Unknown / Not documented'])\n",
    "\n",
    "test_cox_cc_x = encode_and_bind(test_cox_cc_x, 'grade_group')\n",
    "test_cox_cc_x = test_cox_cc_x.drop(columns = ['grade_group_Unknown / Not documented'])"
   ]
  },
  {
   "cell_type": "code",
   "execution_count": 98,
   "id": "ed9e572e",
   "metadata": {},
   "outputs": [
    {
     "name": "stdout",
     "output_type": "stream",
     "text": [
      "(6605, 7)\n",
      "(1686, 7)\n"
     ]
    }
   ],
   "source": [
    "print(train_cox_cc_x.shape)\n",
    "print(test_cox_cc_x.shape)"
   ]
  },
  {
   "cell_type": "markdown",
   "id": "4b51bd0e",
   "metadata": {},
   "source": [
    "### Processing Y"
   ]
  },
  {
   "cell_type": "code",
   "execution_count": 99,
   "id": "b983a83a",
   "metadata": {},
   "outputs": [],
   "source": [
    "y_dtypes = train_cox[['death_status', 'timerisk_activity']].dtypes\n",
    "\n",
    "train_cox_cc_y = np.array([tuple(x) for x in train_cox_cc[['death_status', 'timerisk_activity']].values],\n",
    "                          dtype = list(zip(y_dtypes.index, y_dtypes)))"
   ]
  },
  {
   "cell_type": "code",
   "execution_count": 100,
   "id": "9328cbc7",
   "metadata": {},
   "outputs": [
    {
     "data": {
      "text/plain": [
       "(6605,)"
      ]
     },
     "execution_count": 100,
     "metadata": {},
     "output_type": "execute_result"
    }
   ],
   "source": [
    "train_cox_cc_y.shape"
   ]
  },
  {
   "cell_type": "code",
   "execution_count": 101,
   "id": "05503548",
   "metadata": {},
   "outputs": [],
   "source": [
    "y_dtypes = test_cox[['death_status', 'timerisk_activity']].dtypes\n",
    "\n",
    "test_cox_cc_y = np.array([tuple(x) for x in test_cox_cc[['death_status', 'timerisk_activity']].values],\n",
    "                         dtype = list(zip(y_dtypes.index, y_dtypes)))"
   ]
  },
  {
   "cell_type": "code",
   "execution_count": 102,
   "id": "3cb9f3ee",
   "metadata": {},
   "outputs": [
    {
     "data": {
      "text/plain": [
       "(1686,)"
      ]
     },
     "execution_count": 102,
     "metadata": {},
     "output_type": "execute_result"
    }
   ],
   "source": [
    "test_cox_cc_y.shape"
   ]
  },
  {
   "cell_type": "markdown",
   "id": "6dae4140",
   "metadata": {},
   "source": [
    "### Build and assess model performance"
   ]
  },
  {
   "cell_type": "code",
   "execution_count": 103,
   "id": "d69b984b",
   "metadata": {},
   "outputs": [
    {
     "data": {
      "text/plain": [
       "CoxPHSurvivalAnalysis()"
      ]
     },
     "execution_count": 103,
     "metadata": {},
     "output_type": "execute_result"
    }
   ],
   "source": [
    "cox_cc = CoxPHSurvivalAnalysis()\n",
    "\n",
    "cox_cc.fit(train_cox_cc_x, train_cox_cc_y)"
   ]
  },
  {
   "cell_type": "code",
   "execution_count": 104,
   "id": "1b5d44ed",
   "metadata": {},
   "outputs": [
    {
     "name": "stdout",
     "output_type": "stream",
     "text": [
      "Test set AUC at 2 years: 0.6045630959059534\n"
     ]
    }
   ],
   "source": [
    "cox_cc_risk_scores_te = cox_cc.predict(test_cox_cc_x)\n",
    "cox_cc_auc_te = cumulative_dynamic_auc(train_cox_cc_y, test_cox_cc_y, cox_cc_risk_scores_te, 730)[0][0]\n",
    "print('Test set AUC at 2 years:', cox_cc_auc_te)"
   ]
  },
  {
   "cell_type": "code",
   "execution_count": 105,
   "id": "b7b527f5",
   "metadata": {},
   "outputs": [
    {
     "name": "stdout",
     "output_type": "stream",
     "text": [
      "Training set AUC at 2 years: 0.6286820193801725\n"
     ]
    }
   ],
   "source": [
    "cox_cc_risk_scores_tr = cox_cc.predict(train_cox_cc_x)\n",
    "cox_cc_auc_tr = cumulative_dynamic_auc(train_cox_cc_y, train_cox_cc_y, cox_cc_risk_scores_tr, 730)[0][0]\n",
    "print('Training set AUC at 2 years:', cox_cc_auc_tr)"
   ]
  },
  {
   "cell_type": "code",
   "execution_count": 106,
   "id": "5b8bec47",
   "metadata": {},
   "outputs": [],
   "source": [
    "# Bootstrap 10000 1 yr AUCs for test set \n",
    "n_bootstraps = 10000\n",
    "rng_seed = 42 \n",
    "bootstrapped_scores_te = []\n",
    "\n",
    "rng = np.random.RandomState(rng_seed)\n",
    "for i in range(n_bootstraps):\n",
    "    indices = rng.randint(0, len(cox_cc_risk_scores_te), len(cox_cc_risk_scores_te))\n",
    "    auc_yr = cumulative_dynamic_auc(train_cox_cc_y, test_cox_cc_y[indices], cox_cc_risk_scores_te[indices], 730)[0][0]\n",
    "    bootstrapped_scores_te.append(auc_yr)"
   ]
  },
  {
   "cell_type": "code",
   "execution_count": 107,
   "id": "b0ca759a",
   "metadata": {},
   "outputs": [
    {
     "name": "stdout",
     "output_type": "stream",
     "text": [
      "Test set AUC standard error: 0.016152617569610277\n"
     ]
    }
   ],
   "source": [
    "# Standard error of mean for test set AUC\n",
    "sorted_scores_te = np.array(bootstrapped_scores_te)\n",
    "sorted_scores_te.sort()\n",
    "\n",
    "conf_lower_te = sorted_scores_te[int(0.025 * len(sorted_scores_te))]\n",
    "conf_upper_te = sorted_scores_te[int(0.975 * len(sorted_scores_te))]\n",
    "\n",
    "standard_error_te = (conf_upper_te - conf_lower_te) / 3.92\n",
    "print('Test set AUC standard error:', standard_error_te)"
   ]
  },
  {
   "cell_type": "code",
   "execution_count": 108,
   "id": "8628f1ce",
   "metadata": {},
   "outputs": [],
   "source": [
    "# Bootstrap 10000 1-yr AUCs for train set \n",
    "n_bootstraps = 10000\n",
    "rng_seed = 42 \n",
    "bootstrapped_scores_tr = []\n",
    "\n",
    "rng = np.random.RandomState(rng_seed)\n",
    "for i in range(n_bootstraps):\n",
    "    indices = rng.randint(0, len(cox_cc_risk_scores_tr), len(cox_cc_risk_scores_tr))\n",
    "    auc_yr = cumulative_dynamic_auc(train_cox_cc_y, train_cox_cc_y[indices], cox_cc_risk_scores_tr[indices], 730)[0][0]\n",
    "    bootstrapped_scores_tr.append(auc_yr)"
   ]
  },
  {
   "cell_type": "code",
   "execution_count": 109,
   "id": "b828c75b",
   "metadata": {},
   "outputs": [
    {
     "name": "stdout",
     "output_type": "stream",
     "text": [
      "Training set AUC standard error 0.00827588705646784\n"
     ]
    }
   ],
   "source": [
    "# Standard error of mean for train set AUC\n",
    "sorted_scores_tr = np.array(bootstrapped_scores_tr)\n",
    "sorted_scores_tr.sort()\n",
    "\n",
    "conf_lower_tr = sorted_scores_tr[int(0.025 * len(sorted_scores_tr))]\n",
    "conf_upper_tr = sorted_scores_tr[int(0.975 * len(sorted_scores_tr))]\n",
    "\n",
    "standard_error_tr = (conf_upper_tr - conf_lower_tr) / 3.92\n",
    "print('Training set AUC standard error', standard_error_tr)"
   ]
  },
  {
   "cell_type": "code",
   "execution_count": 110,
   "id": "841d72ce",
   "metadata": {},
   "outputs": [],
   "source": [
    "cox_auc_data = {'model': 'cox_cc',\n",
    "                'auc_2yr_te': cox_cc_auc_te,\n",
    "                'sem_te': standard_error_te,\n",
    "                'auc_2yr_tr': cox_cc_auc_tr,\n",
    "                'sem_tr': standard_error_tr}"
   ]
  },
  {
   "cell_type": "code",
   "execution_count": 111,
   "id": "00dd2a3a",
   "metadata": {},
   "outputs": [],
   "source": [
    "cox_auc_df = pd.read_csv('cox_auc_df.csv')"
   ]
  },
  {
   "cell_type": "code",
   "execution_count": 112,
   "id": "1b251eda",
   "metadata": {},
   "outputs": [],
   "source": [
    "cox_auc_df = cox_auc_df.append(cox_auc_data, ignore_index = True)"
   ]
  },
  {
   "cell_type": "code",
   "execution_count": 113,
   "id": "87583143",
   "metadata": {},
   "outputs": [
    {
     "data": {
      "text/html": [
       "<div>\n",
       "<style scoped>\n",
       "    .dataframe tbody tr th:only-of-type {\n",
       "        vertical-align: middle;\n",
       "    }\n",
       "\n",
       "    .dataframe tbody tr th {\n",
       "        vertical-align: top;\n",
       "    }\n",
       "\n",
       "    .dataframe thead th {\n",
       "        text-align: right;\n",
       "    }\n",
       "</style>\n",
       "<table border=\"1\" class=\"dataframe\">\n",
       "  <thead>\n",
       "    <tr style=\"text-align: right;\">\n",
       "      <th></th>\n",
       "      <th>model</th>\n",
       "      <th>auc_2yr_te</th>\n",
       "      <th>sem_te</th>\n",
       "      <th>auc_2yr_tr</th>\n",
       "      <th>sem_tr</th>\n",
       "    </tr>\n",
       "  </thead>\n",
       "  <tbody>\n",
       "    <tr>\n",
       "      <th>0</th>\n",
       "      <td>cox_crude</td>\n",
       "      <td>0.612195</td>\n",
       "      <td>0.015423</td>\n",
       "      <td>0.625906</td>\n",
       "      <td>0.007834</td>\n",
       "    </tr>\n",
       "    <tr>\n",
       "      <th>1</th>\n",
       "      <td>cox_cc</td>\n",
       "      <td>0.604563</td>\n",
       "      <td>0.016153</td>\n",
       "      <td>0.628682</td>\n",
       "      <td>0.008276</td>\n",
       "    </tr>\n",
       "  </tbody>\n",
       "</table>\n",
       "</div>"
      ],
      "text/plain": [
       "       model  auc_2yr_te    sem_te  auc_2yr_tr    sem_tr\n",
       "0  cox_crude    0.612195  0.015423    0.625906  0.007834\n",
       "1     cox_cc    0.604563  0.016153    0.628682  0.008276"
      ]
     },
     "execution_count": 113,
     "metadata": {},
     "output_type": "execute_result"
    }
   ],
   "source": [
    "cox_auc_df"
   ]
  },
  {
   "cell_type": "code",
   "execution_count": 114,
   "id": "56d5fe09",
   "metadata": {},
   "outputs": [],
   "source": [
    "cox_auc_df.to_csv('cox_auc_df.csv', index = False, header = True)"
   ]
  },
  {
   "cell_type": "code",
   "execution_count": 115,
   "id": "1b693b4d",
   "metadata": {},
   "outputs": [],
   "source": [
    "times = np.arange(30, 1810, 30)\n",
    "cc_cox_auc_over5 = cumulative_dynamic_auc(train_cox_cc_y, test_cox_cc_y, cox_cc_risk_scores_te, times)[0]\n",
    "\n",
    "times_data = {}\n",
    "values = cc_cox_auc_over5\n",
    "time_names = []\n",
    "\n",
    "for x in range(len(times)):\n",
    "    time_names.append('time_'+str(times[x]))\n",
    "\n",
    "for i in range(len(time_names)):\n",
    "    times_data[time_names[i]] = values[i]\n",
    "    \n",
    "cc_cox_over5_df = pd.DataFrame(times_data, index = ['cox_cc'])"
   ]
  },
  {
   "cell_type": "code",
   "execution_count": 116,
   "id": "2b9eb370",
   "metadata": {},
   "outputs": [],
   "source": [
    "cox_auc_over5 = pd.read_csv('cox_auc_over5.csv', index_col = 0)"
   ]
  },
  {
   "cell_type": "code",
   "execution_count": 117,
   "id": "8d40fafb",
   "metadata": {},
   "outputs": [],
   "source": [
    "cox_auc_over5 = cox_auc_over5.append(cc_cox_over5_df, ignore_index = False)"
   ]
  },
  {
   "cell_type": "code",
   "execution_count": 118,
   "id": "83cba8f6",
   "metadata": {},
   "outputs": [
    {
     "data": {
      "text/html": [
       "<div>\n",
       "<style scoped>\n",
       "    .dataframe tbody tr th:only-of-type {\n",
       "        vertical-align: middle;\n",
       "    }\n",
       "\n",
       "    .dataframe tbody tr th {\n",
       "        vertical-align: top;\n",
       "    }\n",
       "\n",
       "    .dataframe thead th {\n",
       "        text-align: right;\n",
       "    }\n",
       "</style>\n",
       "<table border=\"1\" class=\"dataframe\">\n",
       "  <thead>\n",
       "    <tr style=\"text-align: right;\">\n",
       "      <th></th>\n",
       "      <th>time_30</th>\n",
       "      <th>time_60</th>\n",
       "      <th>time_90</th>\n",
       "      <th>time_120</th>\n",
       "      <th>time_150</th>\n",
       "      <th>time_180</th>\n",
       "      <th>time_210</th>\n",
       "      <th>time_240</th>\n",
       "      <th>time_270</th>\n",
       "      <th>time_300</th>\n",
       "      <th>...</th>\n",
       "      <th>time_1530</th>\n",
       "      <th>time_1560</th>\n",
       "      <th>time_1590</th>\n",
       "      <th>time_1620</th>\n",
       "      <th>time_1650</th>\n",
       "      <th>time_1680</th>\n",
       "      <th>time_1710</th>\n",
       "      <th>time_1740</th>\n",
       "      <th>time_1770</th>\n",
       "      <th>time_1800</th>\n",
       "    </tr>\n",
       "  </thead>\n",
       "  <tbody>\n",
       "    <tr>\n",
       "      <th>cox_crude</th>\n",
       "      <td>0.635230</td>\n",
       "      <td>0.719533</td>\n",
       "      <td>0.696485</td>\n",
       "      <td>0.696683</td>\n",
       "      <td>0.670808</td>\n",
       "      <td>0.672577</td>\n",
       "      <td>0.674294</td>\n",
       "      <td>0.667327</td>\n",
       "      <td>0.670997</td>\n",
       "      <td>0.669549</td>\n",
       "      <td>...</td>\n",
       "      <td>0.639714</td>\n",
       "      <td>0.638639</td>\n",
       "      <td>0.635354</td>\n",
       "      <td>0.635355</td>\n",
       "      <td>0.639401</td>\n",
       "      <td>0.639922</td>\n",
       "      <td>0.641251</td>\n",
       "      <td>0.643446</td>\n",
       "      <td>0.644487</td>\n",
       "      <td>0.645597</td>\n",
       "    </tr>\n",
       "    <tr>\n",
       "      <th>cox_cc</th>\n",
       "      <td>0.784304</td>\n",
       "      <td>0.729547</td>\n",
       "      <td>0.722173</td>\n",
       "      <td>0.706250</td>\n",
       "      <td>0.683770</td>\n",
       "      <td>0.680388</td>\n",
       "      <td>0.679858</td>\n",
       "      <td>0.679429</td>\n",
       "      <td>0.687113</td>\n",
       "      <td>0.677172</td>\n",
       "      <td>...</td>\n",
       "      <td>0.643343</td>\n",
       "      <td>0.643382</td>\n",
       "      <td>0.638480</td>\n",
       "      <td>0.636745</td>\n",
       "      <td>0.644063</td>\n",
       "      <td>0.642834</td>\n",
       "      <td>0.650582</td>\n",
       "      <td>0.651796</td>\n",
       "      <td>0.651795</td>\n",
       "      <td>0.652504</td>\n",
       "    </tr>\n",
       "  </tbody>\n",
       "</table>\n",
       "<p>2 rows × 60 columns</p>\n",
       "</div>"
      ],
      "text/plain": [
       "            time_30   time_60   time_90  time_120  time_150  time_180  \\\n",
       "cox_crude  0.635230  0.719533  0.696485  0.696683  0.670808  0.672577   \n",
       "cox_cc     0.784304  0.729547  0.722173  0.706250  0.683770  0.680388   \n",
       "\n",
       "           time_210  time_240  time_270  time_300  ...  time_1530  time_1560  \\\n",
       "cox_crude  0.674294  0.667327  0.670997  0.669549  ...   0.639714   0.638639   \n",
       "cox_cc     0.679858  0.679429  0.687113  0.677172  ...   0.643343   0.643382   \n",
       "\n",
       "           time_1590  time_1620  time_1650  time_1680  time_1710  time_1740  \\\n",
       "cox_crude   0.635354   0.635355   0.639401   0.639922   0.641251   0.643446   \n",
       "cox_cc      0.638480   0.636745   0.644063   0.642834   0.650582   0.651796   \n",
       "\n",
       "           time_1770  time_1800  \n",
       "cox_crude   0.644487   0.645597  \n",
       "cox_cc      0.651795   0.652504  \n",
       "\n",
       "[2 rows x 60 columns]"
      ]
     },
     "execution_count": 118,
     "metadata": {},
     "output_type": "execute_result"
    }
   ],
   "source": [
    "cox_auc_over5"
   ]
  },
  {
   "cell_type": "code",
   "execution_count": 119,
   "id": "b473071d",
   "metadata": {},
   "outputs": [],
   "source": [
    "cox_auc_over5.to_csv('cox_auc_over5.csv', index = True, header = True)"
   ]
  },
  {
   "cell_type": "code",
   "execution_count": 120,
   "id": "81336c43",
   "metadata": {},
   "outputs": [],
   "source": [
    "ml_auc_df = pd.read_csv('ml_auc_df.csv', dtype = {'auc_2yr_te': np.float64,\n",
    "                                                  'sem_te': np.float64,\n",
    "                                                  'auc_2yr_tr': np.float64,\n",
    "                                                  'sem_tr': np.float64})"
   ]
  },
  {
   "cell_type": "code",
   "execution_count": 121,
   "id": "a034aa1a",
   "metadata": {},
   "outputs": [
    {
     "data": {
      "text/html": [
       "<div>\n",
       "<style scoped>\n",
       "    .dataframe tbody tr th:only-of-type {\n",
       "        vertical-align: middle;\n",
       "    }\n",
       "\n",
       "    .dataframe tbody tr th {\n",
       "        vertical-align: top;\n",
       "    }\n",
       "\n",
       "    .dataframe thead th {\n",
       "        text-align: right;\n",
       "    }\n",
       "</style>\n",
       "<table border=\"1\" class=\"dataframe\">\n",
       "  <thead>\n",
       "    <tr style=\"text-align: right;\">\n",
       "      <th></th>\n",
       "      <th>model</th>\n",
       "      <th>auc_2yr_te</th>\n",
       "      <th>sem_te</th>\n",
       "      <th>auc_2yr_tr</th>\n",
       "      <th>sem_tr</th>\n",
       "    </tr>\n",
       "  </thead>\n",
       "  <tbody>\n",
       "    <tr>\n",
       "      <th>0</th>\n",
       "      <td>gbm_crude</td>\n",
       "      <td>0.754326</td>\n",
       "      <td>0.009489</td>\n",
       "      <td>0.784849</td>\n",
       "      <td>0.004590</td>\n",
       "    </tr>\n",
       "    <tr>\n",
       "      <th>1</th>\n",
       "      <td>rsf_crude</td>\n",
       "      <td>0.747107</td>\n",
       "      <td>0.009631</td>\n",
       "      <td>0.835588</td>\n",
       "      <td>0.003914</td>\n",
       "    </tr>\n",
       "    <tr>\n",
       "      <th>2</th>\n",
       "      <td>ridge_crude</td>\n",
       "      <td>0.739499</td>\n",
       "      <td>0.009629</td>\n",
       "      <td>0.743281</td>\n",
       "      <td>0.004897</td>\n",
       "    </tr>\n",
       "    <tr>\n",
       "      <th>3</th>\n",
       "      <td>lasso_crude</td>\n",
       "      <td>0.729512</td>\n",
       "      <td>0.009712</td>\n",
       "      <td>0.733718</td>\n",
       "      <td>0.004997</td>\n",
       "    </tr>\n",
       "    <tr>\n",
       "      <th>4</th>\n",
       "      <td>enet_crude</td>\n",
       "      <td>0.731323</td>\n",
       "      <td>0.009719</td>\n",
       "      <td>0.734977</td>\n",
       "      <td>0.004973</td>\n",
       "    </tr>\n",
       "    <tr>\n",
       "      <th>5</th>\n",
       "      <td>linear_svm_crude</td>\n",
       "      <td>0.740643</td>\n",
       "      <td>0.009662</td>\n",
       "      <td>0.746230</td>\n",
       "      <td>0.004833</td>\n",
       "    </tr>\n",
       "    <tr>\n",
       "      <th>6</th>\n",
       "      <td>gbm_mice</td>\n",
       "      <td>0.772443</td>\n",
       "      <td>0.004540</td>\n",
       "      <td>0.823460</td>\n",
       "      <td>0.011367</td>\n",
       "    </tr>\n",
       "  </tbody>\n",
       "</table>\n",
       "</div>"
      ],
      "text/plain": [
       "              model  auc_2yr_te    sem_te  auc_2yr_tr    sem_tr\n",
       "0         gbm_crude    0.754326  0.009489    0.784849  0.004590\n",
       "1         rsf_crude    0.747107  0.009631    0.835588  0.003914\n",
       "2       ridge_crude    0.739499  0.009629    0.743281  0.004897\n",
       "3       lasso_crude    0.729512  0.009712    0.733718  0.004997\n",
       "4        enet_crude    0.731323  0.009719    0.734977  0.004973\n",
       "5  linear_svm_crude    0.740643  0.009662    0.746230  0.004833\n",
       "6          gbm_mice    0.772443  0.004540    0.823460  0.011367"
      ]
     },
     "execution_count": 121,
     "metadata": {},
     "output_type": "execute_result"
    }
   ],
   "source": [
    "ml_auc_df"
   ]
  },
  {
   "cell_type": "code",
   "execution_count": 122,
   "id": "dfa9af7b",
   "metadata": {},
   "outputs": [],
   "source": [
    "all_models_auc_df = ml_auc_df.append(cox_auc_df, ignore_index = True)"
   ]
  },
  {
   "cell_type": "code",
   "execution_count": 123,
   "id": "dbe2bcd9",
   "metadata": {},
   "outputs": [
    {
     "data": {
      "text/html": [
       "<div>\n",
       "<style scoped>\n",
       "    .dataframe tbody tr th:only-of-type {\n",
       "        vertical-align: middle;\n",
       "    }\n",
       "\n",
       "    .dataframe tbody tr th {\n",
       "        vertical-align: top;\n",
       "    }\n",
       "\n",
       "    .dataframe thead th {\n",
       "        text-align: right;\n",
       "    }\n",
       "</style>\n",
       "<table border=\"1\" class=\"dataframe\">\n",
       "  <thead>\n",
       "    <tr style=\"text-align: right;\">\n",
       "      <th></th>\n",
       "      <th>model</th>\n",
       "      <th>auc_2yr_te</th>\n",
       "      <th>sem_te</th>\n",
       "      <th>auc_2yr_tr</th>\n",
       "      <th>sem_tr</th>\n",
       "    </tr>\n",
       "  </thead>\n",
       "  <tbody>\n",
       "    <tr>\n",
       "      <th>6</th>\n",
       "      <td>gbm_mice</td>\n",
       "      <td>0.772443</td>\n",
       "      <td>0.004540</td>\n",
       "      <td>0.823460</td>\n",
       "      <td>0.011367</td>\n",
       "    </tr>\n",
       "    <tr>\n",
       "      <th>0</th>\n",
       "      <td>gbm_crude</td>\n",
       "      <td>0.754326</td>\n",
       "      <td>0.009489</td>\n",
       "      <td>0.784849</td>\n",
       "      <td>0.004590</td>\n",
       "    </tr>\n",
       "    <tr>\n",
       "      <th>1</th>\n",
       "      <td>rsf_crude</td>\n",
       "      <td>0.747107</td>\n",
       "      <td>0.009631</td>\n",
       "      <td>0.835588</td>\n",
       "      <td>0.003914</td>\n",
       "    </tr>\n",
       "    <tr>\n",
       "      <th>5</th>\n",
       "      <td>linear_svm_crude</td>\n",
       "      <td>0.740643</td>\n",
       "      <td>0.009662</td>\n",
       "      <td>0.746230</td>\n",
       "      <td>0.004833</td>\n",
       "    </tr>\n",
       "    <tr>\n",
       "      <th>2</th>\n",
       "      <td>ridge_crude</td>\n",
       "      <td>0.739499</td>\n",
       "      <td>0.009629</td>\n",
       "      <td>0.743281</td>\n",
       "      <td>0.004897</td>\n",
       "    </tr>\n",
       "    <tr>\n",
       "      <th>4</th>\n",
       "      <td>enet_crude</td>\n",
       "      <td>0.731323</td>\n",
       "      <td>0.009719</td>\n",
       "      <td>0.734977</td>\n",
       "      <td>0.004973</td>\n",
       "    </tr>\n",
       "    <tr>\n",
       "      <th>3</th>\n",
       "      <td>lasso_crude</td>\n",
       "      <td>0.729512</td>\n",
       "      <td>0.009712</td>\n",
       "      <td>0.733718</td>\n",
       "      <td>0.004997</td>\n",
       "    </tr>\n",
       "    <tr>\n",
       "      <th>7</th>\n",
       "      <td>cox_crude</td>\n",
       "      <td>0.612195</td>\n",
       "      <td>0.015423</td>\n",
       "      <td>0.625906</td>\n",
       "      <td>0.007834</td>\n",
       "    </tr>\n",
       "    <tr>\n",
       "      <th>8</th>\n",
       "      <td>cox_cc</td>\n",
       "      <td>0.604563</td>\n",
       "      <td>0.016153</td>\n",
       "      <td>0.628682</td>\n",
       "      <td>0.008276</td>\n",
       "    </tr>\n",
       "  </tbody>\n",
       "</table>\n",
       "</div>"
      ],
      "text/plain": [
       "              model  auc_2yr_te    sem_te  auc_2yr_tr    sem_tr\n",
       "6          gbm_mice    0.772443  0.004540    0.823460  0.011367\n",
       "0         gbm_crude    0.754326  0.009489    0.784849  0.004590\n",
       "1         rsf_crude    0.747107  0.009631    0.835588  0.003914\n",
       "5  linear_svm_crude    0.740643  0.009662    0.746230  0.004833\n",
       "2       ridge_crude    0.739499  0.009629    0.743281  0.004897\n",
       "4        enet_crude    0.731323  0.009719    0.734977  0.004973\n",
       "3       lasso_crude    0.729512  0.009712    0.733718  0.004997\n",
       "7         cox_crude    0.612195  0.015423    0.625906  0.007834\n",
       "8            cox_cc    0.604563  0.016153    0.628682  0.008276"
      ]
     },
     "execution_count": 123,
     "metadata": {},
     "output_type": "execute_result"
    }
   ],
   "source": [
    "all_models_auc_df.sort_values(by = 'auc_2yr_te', ascending = False)"
   ]
  },
  {
   "cell_type": "code",
   "execution_count": 124,
   "id": "81414f9a",
   "metadata": {},
   "outputs": [],
   "source": [
    "all_models_auc_df.to_csv('all_models_auc_df.csv', index = False, header = True)"
   ]
  }
 ],
 "metadata": {
  "kernelspec": {
   "display_name": "My Virtual Environment",
   "language": "python",
   "name": "myenv"
  },
  "language_info": {
   "codemirror_mode": {
    "name": "ipython",
    "version": 3
   },
   "file_extension": ".py",
   "mimetype": "text/x-python",
   "name": "python",
   "nbconvert_exporter": "python",
   "pygments_lexer": "ipython3",
   "version": "3.7.10"
  }
 },
 "nbformat": 4,
 "nbformat_minor": 5
}
