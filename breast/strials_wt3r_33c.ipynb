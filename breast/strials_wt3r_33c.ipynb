{
 "cells": [
  {
   "cell_type": "markdown",
   "id": "d6fadaae",
   "metadata": {},
   "source": [
    "# Flatiron Health mBC: Strict trials with GBM crude \n",
    "\n",
    "***OBJECTIVE:*** **Inclusion criteria for trials in other notebooks were relaxed to allow for as many patients to be included as reasonably possible. In this notebook, inclusion criteria for the trials will be followed as closely as possible. Patients included in our trials will next be risk stratified using the gradient boosted model with crude imputation into 1 of 3 risk groups: high (top tertile), medium (middle tertile), and low (bottom tertile). Inverse-probability treatment weighted survival analysis will then be performed across these risk groups to get real-world estimates of survival while adjusting for measured confounders.** \n",
    "\n",
    "***OUTLINE:***\n",
    "1. **Identify patients with exclusion criteria:**\n",
    "* Relevant comorbidities in the year preceding metastatic diagnosis \n",
    "* CNS metastasis at start of treatment   \n",
    "* ECOG >2 at start of treatment \n",
    "* Organ dysfunction at start of treatment \n",
    "\n",
    "2. **In silico trials:**\n",
    "* PALOMA-2 \n",
    "* PALOMA-3\n",
    "* CLEOPATRA"
   ]
  },
  {
   "cell_type": "markdown",
   "id": "6d3e5bba",
   "metadata": {},
   "source": [
    "## Part 1: Identify patients with exclusion criteria"
   ]
  },
  {
   "cell_type": "code",
   "execution_count": 1,
   "id": "4af5c14a",
   "metadata": {},
   "outputs": [],
   "source": [
    "import numpy as np\n",
    "import pandas as pd"
   ]
  },
  {
   "cell_type": "code",
   "execution_count": 2,
   "id": "4fbf26f5",
   "metadata": {},
   "outputs": [],
   "source": [
    "# Function that returns number of rows and count of unique PatientIDs for a dataframe. \n",
    "def row_ID(dataframe):\n",
    "    row = dataframe.shape[0]\n",
    "    ID = dataframe['PatientID'].nunique()\n",
    "    return row, ID"
   ]
  },
  {
   "cell_type": "code",
   "execution_count": 3,
   "id": "18975740",
   "metadata": {},
   "outputs": [
    {
     "data": {
      "text/plain": [
       "(25341, 25341)"
      ]
     },
     "execution_count": 3,
     "metadata": {},
     "output_type": "execute_result"
    }
   ],
   "source": [
    "train = pd.read_csv('train_full.csv')\n",
    "row_ID(train)"
   ]
  },
  {
   "cell_type": "code",
   "execution_count": 4,
   "id": "266a41b6",
   "metadata": {},
   "outputs": [
    {
     "data": {
      "text/plain": [
       "(6336, 6336)"
      ]
     },
     "execution_count": 4,
     "metadata": {},
     "output_type": "execute_result"
    }
   ],
   "source": [
    "test = pd.read_csv('test_full.csv')\n",
    "row_ID(test)"
   ]
  },
  {
   "cell_type": "code",
   "execution_count": 5,
   "id": "821d3368",
   "metadata": {},
   "outputs": [
    {
     "data": {
      "text/plain": [
       "(31677, 31677)"
      ]
     },
     "execution_count": 5,
     "metadata": {},
     "output_type": "execute_result"
    }
   ],
   "source": [
    "df = pd.concat([train, test], ignore_index = True)\n",
    "row_ID(df)"
   ]
  },
  {
   "cell_type": "markdown",
   "id": "6c359858",
   "metadata": {},
   "source": [
    "### 1. Relevant comorbidities in the year preceding metastatic diagnosis \n",
    "* HIV, Hep B, or Hep C\n",
    "* Psychosis and other significant psychiatric disorders \n",
    "* Uncontrolled hypertension \n",
    "* Unstable angina\n",
    "* Myocardial infarction \n",
    "* CHF "
   ]
  },
  {
   "cell_type": "code",
   "execution_count": 6,
   "id": "702af026",
   "metadata": {},
   "outputs": [],
   "source": [
    "diagnosis = pd.read_csv('Diagnosis.csv')"
   ]
  },
  {
   "cell_type": "code",
   "execution_count": 7,
   "id": "5afbc0db",
   "metadata": {},
   "outputs": [],
   "source": [
    "diagnosis = diagnosis[diagnosis['PatientID'].isin(df['PatientID'])]       "
   ]
  },
  {
   "cell_type": "code",
   "execution_count": 8,
   "id": "c6ba8643",
   "metadata": {},
   "outputs": [],
   "source": [
    "diagnosis.loc[:, 'DiagnosisDate'] = pd.to_datetime(diagnosis['DiagnosisDate'])"
   ]
  },
  {
   "cell_type": "code",
   "execution_count": 9,
   "id": "b12b529e",
   "metadata": {},
   "outputs": [],
   "source": [
    "enhanced_met = pd.read_csv('Enhanced_MetastaticBreast.csv')"
   ]
  },
  {
   "cell_type": "code",
   "execution_count": 10,
   "id": "35c69b0e",
   "metadata": {},
   "outputs": [],
   "source": [
    "enhanced_met.loc[:, 'MetDiagnosisDate'] = pd.to_datetime(enhanced_met['MetDiagnosisDate'])"
   ]
  },
  {
   "cell_type": "code",
   "execution_count": 11,
   "id": "2f5334d7",
   "metadata": {},
   "outputs": [
    {
     "data": {
      "text/plain": [
       "(1575735, 31677)"
      ]
     },
     "execution_count": 11,
     "metadata": {},
     "output_type": "execute_result"
    }
   ],
   "source": [
    "row_ID(diagnosis)"
   ]
  },
  {
   "cell_type": "code",
   "execution_count": 12,
   "id": "2da424f2",
   "metadata": {},
   "outputs": [],
   "source": [
    "diagnosis = pd.merge(diagnosis, enhanced_met[['PatientID', 'MetDiagnosisDate']], on = 'PatientID', how = 'left')"
   ]
  },
  {
   "cell_type": "code",
   "execution_count": 13,
   "id": "509f3d87",
   "metadata": {},
   "outputs": [
    {
     "data": {
      "text/plain": [
       "(1575735, 31677)"
      ]
     },
     "execution_count": 13,
     "metadata": {},
     "output_type": "execute_result"
    }
   ],
   "source": [
    "row_ID(diagnosis)"
   ]
  },
  {
   "cell_type": "code",
   "execution_count": 14,
   "id": "3dfe29e1",
   "metadata": {},
   "outputs": [],
   "source": [
    "diagnosis.loc[:, 'date_diff'] = (diagnosis['DiagnosisDate'] - diagnosis['MetDiagnosisDate']).dt.days"
   ]
  },
  {
   "cell_type": "code",
   "execution_count": 15,
   "id": "fb404ab8",
   "metadata": {},
   "outputs": [],
   "source": [
    "diagnosis.loc[:, 'diagnosis_code'] = diagnosis['DiagnosisCode'].replace('\\.', '', regex = True)"
   ]
  },
  {
   "cell_type": "code",
   "execution_count": 16,
   "id": "2c9a8394",
   "metadata": {},
   "outputs": [],
   "source": [
    "# ICD-9 dataframe with unique codes for each patient. \n",
    "diagnosis_9 = (\n",
    "    diagnosis\n",
    "    .query('date_diff <= 0 and date_diff > -365')\n",
    "    .query('DiagnosisCodeSystem == \"ICD-9-CM\"')\n",
    "    .drop_duplicates(subset = (['PatientID', 'DiagnosisCode']), keep = 'first')\n",
    "    .filter(items = ['PatientID', 'DiagnosisCode', 'diagnosis_code'])\n",
    ")"
   ]
  },
  {
   "cell_type": "code",
   "execution_count": 17,
   "id": "8574d6ce",
   "metadata": {},
   "outputs": [],
   "source": [
    "other_comorb_9_IDs = (\n",
    "    diagnosis_9[diagnosis_9['diagnosis_code'].str.match('042|'\n",
    "                                                        '29[5789]')].PatientID.unique())"
   ]
  },
  {
   "cell_type": "code",
   "execution_count": 18,
   "id": "7ccd2bf3",
   "metadata": {},
   "outputs": [
    {
     "data": {
      "text/plain": [
       "4"
      ]
     },
     "execution_count": 18,
     "metadata": {},
     "output_type": "execute_result"
    }
   ],
   "source": [
    "len(other_comorb_9_IDs)"
   ]
  },
  {
   "cell_type": "code",
   "execution_count": 19,
   "id": "54e70413",
   "metadata": {},
   "outputs": [],
   "source": [
    "cardiac_9_IDs = (\n",
    "    diagnosis_9[diagnosis_9['diagnosis_code'].str.match('4010|'\n",
    "                                                        '410|'\n",
    "                                                        '412|'\n",
    "                                                        '425')].PatientID.unique()\n",
    ")"
   ]
  },
  {
   "cell_type": "code",
   "execution_count": 20,
   "id": "e4c77505",
   "metadata": {},
   "outputs": [
    {
     "data": {
      "text/plain": [
       "66"
      ]
     },
     "execution_count": 20,
     "metadata": {},
     "output_type": "execute_result"
    }
   ],
   "source": [
    "len(cardiac_9_IDs)"
   ]
  },
  {
   "cell_type": "code",
   "execution_count": 21,
   "id": "b4324386",
   "metadata": {},
   "outputs": [],
   "source": [
    "# ICD-9 dataframe with unique codes for each patient. \n",
    "diagnosis_10 = (\n",
    "    diagnosis\n",
    "    .query('date_diff <= 0 and  date_diff > -365')\n",
    "    .query('DiagnosisCodeSystem == \"ICD-10-CM\"')\n",
    "    .drop_duplicates(subset = (['PatientID', 'DiagnosisCode']), keep = 'first')\n",
    "    .filter(items = ['PatientID', 'DiagnosisCode', 'diagnosis_code'])\n",
    ")"
   ]
  },
  {
   "cell_type": "code",
   "execution_count": 22,
   "id": "b3e82ec2",
   "metadata": {},
   "outputs": [],
   "source": [
    "other_comorb_10_IDs = (\n",
    "    diagnosis_10[diagnosis_10['diagnosis_code'].str.match('B20|'\n",
    "                                                          'F2[024589]')].PatientID.unique())"
   ]
  },
  {
   "cell_type": "code",
   "execution_count": 23,
   "id": "b5cfc0ca",
   "metadata": {},
   "outputs": [
    {
     "data": {
      "text/plain": [
       "39"
      ]
     },
     "execution_count": 23,
     "metadata": {},
     "output_type": "execute_result"
    }
   ],
   "source": [
    "len(other_comorb_10_IDs)"
   ]
  },
  {
   "cell_type": "code",
   "execution_count": 24,
   "id": "8f0c6480",
   "metadata": {},
   "outputs": [],
   "source": [
    "cardiac_10_IDs = (\n",
    "    diagnosis_10[diagnosis_10['diagnosis_code'].str.match('I16|'\n",
    "                                                          'I21|'\n",
    "                                                          'I42')].PatientID.unique())"
   ]
  },
  {
   "cell_type": "code",
   "execution_count": 25,
   "id": "8b401041",
   "metadata": {},
   "outputs": [
    {
     "data": {
      "text/plain": [
       "89"
      ]
     },
     "execution_count": 25,
     "metadata": {},
     "output_type": "execute_result"
    }
   ],
   "source": [
    "len(cardiac_10_IDs)"
   ]
  },
  {
   "cell_type": "code",
   "execution_count": 26,
   "id": "a3cedbb1",
   "metadata": {},
   "outputs": [],
   "source": [
    "other_comorb_IDs = np.unique(np.concatenate([other_comorb_9_IDs, other_comorb_10_IDs]))"
   ]
  },
  {
   "cell_type": "code",
   "execution_count": 27,
   "id": "95b178b0",
   "metadata": {},
   "outputs": [
    {
     "data": {
      "text/plain": [
       "43"
      ]
     },
     "execution_count": 27,
     "metadata": {},
     "output_type": "execute_result"
    }
   ],
   "source": [
    "len(other_comorb_IDs)"
   ]
  },
  {
   "cell_type": "code",
   "execution_count": 28,
   "id": "cba181b9",
   "metadata": {},
   "outputs": [],
   "source": [
    "cardiac_IDs = np.unique(np.concatenate([cardiac_9_IDs, cardiac_10_IDs]))"
   ]
  },
  {
   "cell_type": "code",
   "execution_count": 29,
   "id": "0085ab62",
   "metadata": {},
   "outputs": [
    {
     "data": {
      "text/plain": [
       "154"
      ]
     },
     "execution_count": 29,
     "metadata": {},
     "output_type": "execute_result"
    }
   ],
   "source": [
    "len(cardiac_IDs)"
   ]
  },
  {
   "cell_type": "markdown",
   "id": "41d7fe3e",
   "metadata": {},
   "source": [
    "### 2. CNS metastasis at start of treatment "
   ]
  },
  {
   "cell_type": "code",
   "execution_count": 30,
   "id": "8e3bd8bb",
   "metadata": {},
   "outputs": [],
   "source": [
    "mets = pd.read_csv('Enhanced_MetBreastSitesOfMet.csv')"
   ]
  },
  {
   "cell_type": "code",
   "execution_count": 31,
   "id": "ed3221bc",
   "metadata": {},
   "outputs": [],
   "source": [
    "mets = mets[mets['PatientID'].isin(df['PatientID'])]"
   ]
  },
  {
   "cell_type": "code",
   "execution_count": 32,
   "id": "5264c01b",
   "metadata": {},
   "outputs": [],
   "source": [
    "mets.loc[:, 'DateOfMetastasis'] = pd.to_datetime(mets['DateOfMetastasis'])"
   ]
  },
  {
   "cell_type": "code",
   "execution_count": 33,
   "id": "26580f61",
   "metadata": {},
   "outputs": [],
   "source": [
    "line_therapy = pd.read_csv('LineOfTherapy.csv')"
   ]
  },
  {
   "cell_type": "code",
   "execution_count": 34,
   "id": "98d0b1bd",
   "metadata": {},
   "outputs": [],
   "source": [
    "line_therapy = line_therapy[line_therapy['PatientID'].isin(df['PatientID'])]       "
   ]
  },
  {
   "cell_type": "code",
   "execution_count": 35,
   "id": "8e44ce5c",
   "metadata": {},
   "outputs": [],
   "source": [
    "line_therapy.loc[:, 'StartDate'] = pd.to_datetime(line_therapy['StartDate'])"
   ]
  },
  {
   "cell_type": "code",
   "execution_count": 36,
   "id": "8290189d",
   "metadata": {},
   "outputs": [],
   "source": [
    "therapy_fl = (\n",
    "    line_therapy\n",
    "    .query('LineNumber == 1')\n",
    "    [['PatientID', 'StartDate']]\n",
    "    .rename(columns = {'StartDate': 'StartDate_fl'}))"
   ]
  },
  {
   "cell_type": "code",
   "execution_count": 37,
   "id": "8597c40a",
   "metadata": {},
   "outputs": [],
   "source": [
    "therapy_sec = (\n",
    "    line_therapy\n",
    "    .query('LineNumber == 2')\n",
    "    [['PatientID', 'StartDate']]\n",
    "    .rename(columns = {'StartDate': 'StartDate_sec'}))"
   ]
  },
  {
   "cell_type": "code",
   "execution_count": 38,
   "id": "2269225d",
   "metadata": {},
   "outputs": [
    {
     "data": {
      "text/plain": [
       "(78955, 31540)"
      ]
     },
     "execution_count": 38,
     "metadata": {},
     "output_type": "execute_result"
    }
   ],
   "source": [
    "row_ID(mets)"
   ]
  },
  {
   "cell_type": "code",
   "execution_count": 39,
   "id": "cc1f578f",
   "metadata": {},
   "outputs": [],
   "source": [
    "mets_fl = pd.merge(mets, therapy_fl, on = 'PatientID', how = 'left')"
   ]
  },
  {
   "cell_type": "code",
   "execution_count": 40,
   "id": "458d4577",
   "metadata": {},
   "outputs": [
    {
     "data": {
      "text/plain": [
       "(78955, 31540)"
      ]
     },
     "execution_count": 40,
     "metadata": {},
     "output_type": "execute_result"
    }
   ],
   "source": [
    "row_ID(mets_fl)"
   ]
  },
  {
   "cell_type": "code",
   "execution_count": 41,
   "id": "29c8e37a",
   "metadata": {},
   "outputs": [],
   "source": [
    "mets_sec = pd.merge(mets, therapy_sec, on = 'PatientID', how = 'left')"
   ]
  },
  {
   "cell_type": "code",
   "execution_count": 42,
   "id": "9723c3ff",
   "metadata": {},
   "outputs": [
    {
     "data": {
      "text/plain": [
       "(78955, 31540)"
      ]
     },
     "execution_count": 42,
     "metadata": {},
     "output_type": "execute_result"
    }
   ],
   "source": [
    "row_ID(mets_sec)"
   ]
  },
  {
   "cell_type": "code",
   "execution_count": 43,
   "id": "28c3895c",
   "metadata": {},
   "outputs": [],
   "source": [
    "cns_fl_IDs = (\n",
    "    mets_fl\n",
    "    .assign(date_diff_fl = (mets_fl['DateOfMetastasis'] - mets_fl['StartDate_fl']).dt.days)\n",
    "    .query('date_diff_fl <= 0 and date_diff_fl > -90')\n",
    "    .query('SiteOfMetastasis == \"Brain\" or SiteOfMetastasis == \"CNS site\"')\n",
    "    .PatientID.unique()\n",
    ")"
   ]
  },
  {
   "cell_type": "code",
   "execution_count": 44,
   "id": "c7ced74b",
   "metadata": {},
   "outputs": [
    {
     "data": {
      "text/plain": [
       "1498"
      ]
     },
     "execution_count": 44,
     "metadata": {},
     "output_type": "execute_result"
    }
   ],
   "source": [
    "len(cns_fl_IDs)"
   ]
  },
  {
   "cell_type": "code",
   "execution_count": 45,
   "id": "e65eda79",
   "metadata": {},
   "outputs": [],
   "source": [
    "cns_sec_IDs = (\n",
    "    mets_sec\n",
    "    .assign(date_diff_sec = (mets_sec['DateOfMetastasis'] - mets_sec['StartDate_sec']).dt.days)\n",
    "    .query('date_diff_sec <= 0 and date_diff_sec > -90')\n",
    "    .query('SiteOfMetastasis == \"Brain\" or SiteOfMetastasis == \"CNS site\"')\n",
    "    .PatientID.unique()\n",
    ")"
   ]
  },
  {
   "cell_type": "code",
   "execution_count": 46,
   "id": "4a822e85",
   "metadata": {},
   "outputs": [
    {
     "data": {
      "text/plain": [
       "740"
      ]
     },
     "execution_count": 46,
     "metadata": {},
     "output_type": "execute_result"
    }
   ],
   "source": [
    "len(cns_sec_IDs)"
   ]
  },
  {
   "cell_type": "markdown",
   "id": "88fb0276",
   "metadata": {},
   "source": [
    "### 3. ECOG >2 at time of treatment  "
   ]
  },
  {
   "cell_type": "code",
   "execution_count": 47,
   "id": "bddd04ba",
   "metadata": {},
   "outputs": [],
   "source": [
    "base_ecog = pd.read_csv('BaselineECOG.csv')"
   ]
  },
  {
   "cell_type": "code",
   "execution_count": 48,
   "id": "9a02dbd9",
   "metadata": {},
   "outputs": [],
   "source": [
    "base_ecog = base_ecog[base_ecog['PatientID'].isin(df['PatientID'])]       "
   ]
  },
  {
   "cell_type": "code",
   "execution_count": 49,
   "id": "acf3ed6c",
   "metadata": {},
   "outputs": [],
   "source": [
    "ecog_fl_34_IDs = (\n",
    "    base_ecog\n",
    "    .query('LineNumber == 1')\n",
    "    .query('ECOGValue == \"3\" or ECOGValue == \"4\"')\n",
    "    .PatientID.unique())"
   ]
  },
  {
   "cell_type": "code",
   "execution_count": 50,
   "id": "7970cdd5",
   "metadata": {},
   "outputs": [
    {
     "data": {
      "text/plain": [
       "826"
      ]
     },
     "execution_count": 50,
     "metadata": {},
     "output_type": "execute_result"
    }
   ],
   "source": [
    "len(ecog_fl_34_IDs)"
   ]
  },
  {
   "cell_type": "code",
   "execution_count": 51,
   "id": "9db995f4",
   "metadata": {},
   "outputs": [],
   "source": [
    "ecog_fl_234_IDs = (\n",
    "    base_ecog\n",
    "    .query('LineNumber == 1')\n",
    "    .query('ECOGValue == \"2\" or ECOGValue == \"3\" or ECOGValue == \"4\"')\n",
    "    .PatientID.unique())"
   ]
  },
  {
   "cell_type": "code",
   "execution_count": 52,
   "id": "e6a81af4",
   "metadata": {},
   "outputs": [
    {
     "data": {
      "text/plain": [
       "3063"
      ]
     },
     "execution_count": 52,
     "metadata": {},
     "output_type": "execute_result"
    }
   ],
   "source": [
    "len(ecog_fl_234_IDs)"
   ]
  },
  {
   "cell_type": "code",
   "execution_count": 53,
   "id": "988b5d34",
   "metadata": {},
   "outputs": [],
   "source": [
    "ecog_sec_234_IDs = (\n",
    "    base_ecog\n",
    "    .query('LineNumber == 2')\n",
    "    .query('ECOGValue == \"2\" or ECOGValue == \"3\" or ECOGValue == \"4\"')\n",
    "    .PatientID.unique())"
   ]
  },
  {
   "cell_type": "code",
   "execution_count": 54,
   "id": "140b9554",
   "metadata": {},
   "outputs": [
    {
     "data": {
      "text/plain": [
       "2216"
      ]
     },
     "execution_count": 54,
     "metadata": {},
     "output_type": "execute_result"
    }
   ],
   "source": [
    "len(ecog_sec_234_IDs)"
   ]
  },
  {
   "cell_type": "markdown",
   "id": "88449ddc",
   "metadata": {},
   "source": [
    "### 4. Organ dysfunction at time of treatment\n",
    "* Hemoglobin <9\n",
    "* Creatinine >2\n",
    "* Total bilirubin >3"
   ]
  },
  {
   "cell_type": "code",
   "execution_count": 55,
   "id": "756b14da",
   "metadata": {},
   "outputs": [],
   "source": [
    "lab = pd.read_csv('Lab.csv')"
   ]
  },
  {
   "cell_type": "code",
   "execution_count": 56,
   "id": "9025ce48",
   "metadata": {},
   "outputs": [],
   "source": [
    "lab = lab[lab['PatientID'].isin(df['PatientID'])]"
   ]
  },
  {
   "cell_type": "code",
   "execution_count": 57,
   "id": "dc6aa8ab",
   "metadata": {},
   "outputs": [],
   "source": [
    "lab.loc[:, 'ResultDate'] = pd.to_datetime(lab['ResultDate']) "
   ]
  },
  {
   "cell_type": "code",
   "execution_count": 58,
   "id": "35ecd586",
   "metadata": {},
   "outputs": [
    {
     "data": {
      "text/plain": [
       "(30593212, 30259)"
      ]
     },
     "execution_count": 58,
     "metadata": {},
     "output_type": "execute_result"
    }
   ],
   "source": [
    "row_ID(lab)"
   ]
  },
  {
   "cell_type": "code",
   "execution_count": 59,
   "id": "c2cea0c0",
   "metadata": {},
   "outputs": [],
   "source": [
    "lab = pd.merge(lab, therapy_fl, on = 'PatientID', how = 'left')"
   ]
  },
  {
   "cell_type": "code",
   "execution_count": 60,
   "id": "f46835a7",
   "metadata": {},
   "outputs": [
    {
     "data": {
      "text/plain": [
       "(30593212, 30259)"
      ]
     },
     "execution_count": 60,
     "metadata": {},
     "output_type": "execute_result"
    }
   ],
   "source": [
    "row_ID(lab)"
   ]
  },
  {
   "cell_type": "code",
   "execution_count": 61,
   "id": "9f2ac962",
   "metadata": {},
   "outputs": [],
   "source": [
    "lab = pd.merge(lab, therapy_sec, on = 'PatientID', how = 'left')"
   ]
  },
  {
   "cell_type": "code",
   "execution_count": 62,
   "id": "ce3bfc90",
   "metadata": {},
   "outputs": [],
   "source": [
    "# Select rows with clinically relevant labs.\n",
    "lab_core = (\n",
    "    lab[\n",
    "    (lab['LOINC'] == \"2160-0\") |\n",
    "    (lab['LOINC'] == \"38483-4\") | \n",
    "    (lab['LOINC'] == \"718-7\") |\n",
    "    (lab['LOINC'] == \"20509-6\") |\n",
    "    (lab['LOINC'] == \"42719-5\") |\n",
    "    (lab['LOINC'] == \"1975-2\")]\n",
    "    .filter(items = ['PatientID', \n",
    "                     'ResultDate', \n",
    "                     'LOINC', \n",
    "                     'LabComponent', \n",
    "                     'TestUnits', \n",
    "                     'TestUnitsCleaned', \n",
    "                     'TestResult', \n",
    "                     'TestResultCleaned', \n",
    "                     'StartDate_fl',\n",
    "                     'StartDate_sec'])\n",
    ")"
   ]
  },
  {
   "cell_type": "code",
   "execution_count": 63,
   "id": "7ef58326",
   "metadata": {},
   "outputs": [],
   "source": [
    "conditions = [\n",
    "    ((lab_core['LOINC'] == '2160-0') | (lab_core['LOINC'] == '38483-4')),\n",
    "    ((lab_core['LOINC'] == '718-7') | (lab_core['LOINC'] == '20509-6')),\n",
    "    ((lab_core['LOINC'] == '42719-5') | (lab_core['LOINC'] == '1975-2'))]\n",
    "\n",
    "choices = ['creatinine', \n",
    "           'hemoglobin', \n",
    "           'total_bilirubin']\n",
    "\n",
    "lab_core.loc[:, 'lab_name'] = np.select(conditions, choices)"
   ]
  },
  {
   "cell_type": "code",
   "execution_count": 64,
   "id": "0af81d15",
   "metadata": {},
   "outputs": [
    {
     "data": {
      "text/plain": [
       "(2927968, 30127)"
      ]
     },
     "execution_count": 64,
     "metadata": {},
     "output_type": "execute_result"
    }
   ],
   "source": [
    "row_ID(lab_core)"
   ]
  },
  {
   "cell_type": "code",
   "execution_count": 65,
   "id": "2293ae65",
   "metadata": {},
   "outputs": [],
   "source": [
    "conditions = [\n",
    "    (lab_core['lab_name'] == 'hemoglobin') & (lab_core['TestUnits'] == 'g/uL')]\n",
    "\n",
    "choices = [lab_core['TestResultCleaned'] / 100000]\n",
    "\n",
    "lab_core.loc[:, 'test_result_cleaned'] = np.select(conditions, choices, default = lab_core['TestResultCleaned'])"
   ]
  },
  {
   "cell_type": "code",
   "execution_count": 66,
   "id": "1f809064",
   "metadata": {},
   "outputs": [],
   "source": [
    "lab_fl = (\n",
    "    lab_core\n",
    "    .assign(date_diff_fl = (lab_core['ResultDate'] - lab_core['StartDate_fl']).dt.days)\n",
    "    .query('date_diff_fl <= 0 and date_diff_fl > -90')\n",
    "    .sort_values(by = ['PatientID', 'lab_name', 'date_diff_fl'], ascending = [True, True, False])\n",
    "    .drop_duplicates(subset = ['PatientID', 'lab_name'], keep = 'first' )\n",
    ")"
   ]
  },
  {
   "cell_type": "code",
   "execution_count": 67,
   "id": "0713015a",
   "metadata": {},
   "outputs": [],
   "source": [
    "# Select lab closest to date of advanced diagnosis and pivot to a wide table. \n",
    "lab_wide_fl = (\n",
    "    lab_fl\n",
    "    .pivot(index = 'PatientID', columns = 'lab_name', values = 'test_result_cleaned')\n",
    "    .reset_index())\n",
    "\n",
    "lab_wide_fl.columns.name = None"
   ]
  },
  {
   "cell_type": "code",
   "execution_count": 68,
   "id": "776bdae9",
   "metadata": {},
   "outputs": [
    {
     "data": {
      "text/html": [
       "<div>\n",
       "<style scoped>\n",
       "    .dataframe tbody tr th:only-of-type {\n",
       "        vertical-align: middle;\n",
       "    }\n",
       "\n",
       "    .dataframe tbody tr th {\n",
       "        vertical-align: top;\n",
       "    }\n",
       "\n",
       "    .dataframe thead th {\n",
       "        text-align: right;\n",
       "    }\n",
       "</style>\n",
       "<table border=\"1\" class=\"dataframe\">\n",
       "  <thead>\n",
       "    <tr style=\"text-align: right;\">\n",
       "      <th></th>\n",
       "      <th>PatientID</th>\n",
       "      <th>creatinine</th>\n",
       "      <th>hemoglobin</th>\n",
       "      <th>total_bilirubin</th>\n",
       "    </tr>\n",
       "  </thead>\n",
       "  <tbody>\n",
       "    <tr>\n",
       "      <th>12421</th>\n",
       "      <td>F989154B31752</td>\n",
       "      <td>1.04</td>\n",
       "      <td>13.7</td>\n",
       "      <td>0.5</td>\n",
       "    </tr>\n",
       "    <tr>\n",
       "      <th>16847</th>\n",
       "      <td>FCDEAEF5874C2</td>\n",
       "      <td>0.70</td>\n",
       "      <td>11.2</td>\n",
       "      <td>0.6</td>\n",
       "    </tr>\n",
       "    <tr>\n",
       "      <th>19678</th>\n",
       "      <td>FF04F2C513663</td>\n",
       "      <td>0.69</td>\n",
       "      <td>14.1</td>\n",
       "      <td>0.5</td>\n",
       "    </tr>\n",
       "  </tbody>\n",
       "</table>\n",
       "</div>"
      ],
      "text/plain": [
       "           PatientID  creatinine  hemoglobin  total_bilirubin\n",
       "12421  F989154B31752        1.04        13.7              0.5\n",
       "16847  FCDEAEF5874C2        0.70        11.2              0.6\n",
       "19678  FF04F2C513663        0.69        14.1              0.5"
      ]
     },
     "execution_count": 68,
     "metadata": {},
     "output_type": "execute_result"
    }
   ],
   "source": [
    "lab_wide_fl.sample(3)"
   ]
  },
  {
   "cell_type": "code",
   "execution_count": 69,
   "id": "0ac31f3f",
   "metadata": {},
   "outputs": [],
   "source": [
    "ab_organ_fl_IDs = lab_wide_fl.query('creatinine > 2 or hemoglobin < 9 or total_bilirubin > 3').PatientID"
   ]
  },
  {
   "cell_type": "code",
   "execution_count": 70,
   "id": "f3364438",
   "metadata": {},
   "outputs": [
    {
     "data": {
      "text/plain": [
       "1053"
      ]
     },
     "execution_count": 70,
     "metadata": {},
     "output_type": "execute_result"
    }
   ],
   "source": [
    "len(ab_organ_fl_IDs)"
   ]
  },
  {
   "cell_type": "code",
   "execution_count": 71,
   "id": "97c5aba8",
   "metadata": {},
   "outputs": [],
   "source": [
    "lab_sec = (\n",
    "    lab_core\n",
    "    .assign(date_diff_sec = (lab_core['ResultDate'] - lab_core['StartDate_sec']).dt.days)\n",
    "    .query('date_diff_sec <= 0 and date_diff_sec > -90')\n",
    "    .sort_values(by = ['PatientID', 'lab_name', 'date_diff_sec'], ascending = [True, True, False])\n",
    "    .drop_duplicates(subset = ['PatientID', 'lab_name'], keep = 'first' )\n",
    ")"
   ]
  },
  {
   "cell_type": "code",
   "execution_count": 72,
   "id": "be261995",
   "metadata": {},
   "outputs": [],
   "source": [
    "# Select lab closest to date of advanced diagnosis and pivot to a wide table. \n",
    "lab_wide_sec = (\n",
    "    lab_sec\n",
    "    .pivot(index = 'PatientID', columns = 'lab_name', values = 'test_result_cleaned')\n",
    "    .reset_index())\n",
    "\n",
    "lab_wide_sec.columns.name = None"
   ]
  },
  {
   "cell_type": "code",
   "execution_count": 73,
   "id": "7c10cab0",
   "metadata": {},
   "outputs": [
    {
     "data": {
      "text/html": [
       "<div>\n",
       "<style scoped>\n",
       "    .dataframe tbody tr th:only-of-type {\n",
       "        vertical-align: middle;\n",
       "    }\n",
       "\n",
       "    .dataframe tbody tr th {\n",
       "        vertical-align: top;\n",
       "    }\n",
       "\n",
       "    .dataframe thead th {\n",
       "        text-align: right;\n",
       "    }\n",
       "</style>\n",
       "<table border=\"1\" class=\"dataframe\">\n",
       "  <thead>\n",
       "    <tr style=\"text-align: right;\">\n",
       "      <th></th>\n",
       "      <th>PatientID</th>\n",
       "      <th>creatinine</th>\n",
       "      <th>hemoglobin</th>\n",
       "      <th>total_bilirubin</th>\n",
       "    </tr>\n",
       "  </thead>\n",
       "  <tbody>\n",
       "    <tr>\n",
       "      <th>13482</th>\n",
       "      <td>FD703438DD4A5</td>\n",
       "      <td>1.32</td>\n",
       "      <td>9.6</td>\n",
       "      <td>0.4</td>\n",
       "    </tr>\n",
       "    <tr>\n",
       "      <th>14953</th>\n",
       "      <td>FEEB5AD1955EA</td>\n",
       "      <td>0.80</td>\n",
       "      <td>11.7</td>\n",
       "      <td>0.3</td>\n",
       "    </tr>\n",
       "    <tr>\n",
       "      <th>2876</th>\n",
       "      <td>F2DA4AF04E5D3</td>\n",
       "      <td>1.14</td>\n",
       "      <td>15.0</td>\n",
       "      <td>0.5</td>\n",
       "    </tr>\n",
       "  </tbody>\n",
       "</table>\n",
       "</div>"
      ],
      "text/plain": [
       "           PatientID  creatinine  hemoglobin  total_bilirubin\n",
       "13482  FD703438DD4A5        1.32         9.6              0.4\n",
       "14953  FEEB5AD1955EA        0.80        11.7              0.3\n",
       "2876   F2DA4AF04E5D3        1.14        15.0              0.5"
      ]
     },
     "execution_count": 73,
     "metadata": {},
     "output_type": "execute_result"
    }
   ],
   "source": [
    "lab_wide_sec.sample(3)"
   ]
  },
  {
   "cell_type": "code",
   "execution_count": 74,
   "id": "d844771f",
   "metadata": {},
   "outputs": [],
   "source": [
    "ab_organ_sec_IDs = lab_wide_sec.query('creatinine > 2 or hemoglobin < 9 or total_bilirubin > 3').PatientID"
   ]
  },
  {
   "cell_type": "code",
   "execution_count": 75,
   "id": "9bcf8634",
   "metadata": {},
   "outputs": [
    {
     "data": {
      "text/plain": [
       "967"
      ]
     },
     "execution_count": 75,
     "metadata": {},
     "output_type": "execute_result"
    }
   ],
   "source": [
    "len(ab_organ_sec_IDs)"
   ]
  },
  {
   "cell_type": "code",
   "execution_count": 76,
   "id": "e9a28cb4",
   "metadata": {},
   "outputs": [],
   "source": [
    "del diagnosis\n",
    "del diagnosis_10\n",
    "del diagnosis_9\n",
    "del enhanced_met\n",
    "del lab\n",
    "del lab_core\n",
    "del lab_fl\n",
    "del lab_sec\n",
    "del lab_wide_fl\n",
    "del lab_wide_sec\n",
    "del line_therapy\n",
    "del therapy_fl\n",
    "del therapy_sec"
   ]
  },
  {
   "cell_type": "markdown",
   "id": "3d7d3b96",
   "metadata": {},
   "source": [
    "## Part 2: In-silico trials "
   ]
  },
  {
   "cell_type": "markdown",
   "id": "f3e2aefd",
   "metadata": {},
   "source": [
    "### Import packages and create necessary functions"
   ]
  },
  {
   "cell_type": "code",
   "execution_count": 77,
   "id": "34392f59",
   "metadata": {},
   "outputs": [],
   "source": [
    "import numpy as np\n",
    "import pandas as pd\n",
    "\n",
    "from scipy import stats\n",
    "\n",
    "from sksurv.nonparametric import kaplan_meier_estimator\n",
    "from survive import KaplanMeier, SurvivalData\n",
    "\n",
    "from lifelines import KaplanMeierFitter\n",
    "from lifelines.plotting import add_at_risk_counts\n",
    "from lifelines.utils import median_survival_times\n",
    "\n",
    "import matplotlib.pyplot as plt\n",
    "import matplotlib.gridspec as gridspec\n",
    "\n",
    "from sklearn.pipeline import Pipeline\n",
    "from sklearn.impute import SimpleImputer\n",
    "from sklearn.preprocessing import StandardScaler, OneHotEncoder\n",
    "from sklearn.compose import ColumnTransformer \n",
    "from sklearn.linear_model import LogisticRegression\n",
    "\n",
    "from matplotlib.lines import Line2D   "
   ]
  },
  {
   "cell_type": "code",
   "execution_count": 78,
   "id": "5b8f1d24",
   "metadata": {},
   "outputs": [],
   "source": [
    "# Find index for value closest to input value. \n",
    "def find_nearest(array, value):\n",
    "    array = np.asarray(array)\n",
    "    idx = (np.abs(array - value)).argmin()\n",
    "    return array[idx]"
   ]
  },
  {
   "cell_type": "code",
   "execution_count": 79,
   "id": "4667983d",
   "metadata": {},
   "outputs": [],
   "source": [
    "cutoff = pd.read_csv('risk_cutoff_breast.csv', index_col = 0)"
   ]
  },
  {
   "cell_type": "markdown",
   "id": "f3eaa5f6",
   "metadata": {},
   "source": [
    "### PALOMA-2: palbociclib plus letrozole vs. letrozole in hormone-sensitive metastatic breast cancer\n",
    "\n",
    "**INCLUSION**\n",
    "* Untreated metastatic breast cancer\n",
    "* Received first line palbociclib and aromatase inhibitor or aromatase inhibitor alone\n",
    "* Luteinizing hormone–releasing hormone agonist (leuprolide, goserelin, and triptorelin) is allowed in either arm\n",
    "* ER-positive within [-90, +30] days of first-line treatment\n",
    "* HER-2 negative within [-90, +30] days of first-line treatment\n",
    "* No relevant comorbidities in the year preceding metastatic diagnosis \n",
    "* No CNS metastasis at time of treatment \n",
    "* ECOG cannot be 3 or 4 at time of treatment \n",
    "* Adequate organ function at time of treatment "
   ]
  },
  {
   "cell_type": "markdown",
   "id": "67c05b8b",
   "metadata": {},
   "source": [
    "#### Palbociclib plus AI "
   ]
  },
  {
   "cell_type": "code",
   "execution_count": 80,
   "id": "e9b5fa4e",
   "metadata": {},
   "outputs": [
    {
     "data": {
      "text/plain": [
       "31677"
      ]
     },
     "execution_count": 80,
     "metadata": {},
     "output_type": "execute_result"
    }
   ],
   "source": [
    "df_full = pd.read_csv('df_risk_crude.csv', index_col = 'PatientID', dtype = {'death_status': bool})\n",
    "df_full.index.nunique()"
   ]
  },
  {
   "cell_type": "code",
   "execution_count": 81,
   "id": "da4c2a0a",
   "metadata": {},
   "outputs": [],
   "source": [
    "line_therapy = pd.read_csv('LineOfTherapy.csv')"
   ]
  },
  {
   "cell_type": "code",
   "execution_count": 82,
   "id": "f56cba88",
   "metadata": {},
   "outputs": [],
   "source": [
    "line_therapy_fl = (\n",
    "    line_therapy[line_therapy['PatientID'].isin(df_full.index)]\n",
    "    .query('LineNumber == 1'))"
   ]
  },
  {
   "cell_type": "code",
   "execution_count": 83,
   "id": "0b8c1c82",
   "metadata": {
    "scrolled": true
   },
   "outputs": [
    {
     "data": {
      "text/plain": [
       "Letrozole,Palbociclib                  2503\n",
       "Fulvestrant,Palbociclib                1324\n",
       "Anastrozole,Palbociclib                 466\n",
       "Palbociclib                             261\n",
       "Exemestane,Palbociclib                  123\n",
       "Letrozole,Leuprolide,Palbociclib         98\n",
       "Goserelin,Letrozole,Palbociclib          90\n",
       "Fulvestrant,Letrozole,Palbociclib        40\n",
       "Anastrozole,Fulvestrant,Palbociclib      37\n",
       "Palbociclib,Tamoxifen                    31\n",
       "Name: LineName, dtype: int64"
      ]
     },
     "execution_count": 83,
     "metadata": {},
     "output_type": "execute_result"
    }
   ],
   "source": [
    "line_therapy_fl[line_therapy_fl['LineName'].str.contains('Palbociclib')].LineName.value_counts().head(10)"
   ]
  },
  {
   "cell_type": "code",
   "execution_count": 84,
   "id": "43d86944",
   "metadata": {},
   "outputs": [],
   "source": [
    "# Of note, LH releasing hormone agonist (leuprolide, goserelin, and triptorelin) not excluded\n",
    "ai = [\n",
    "    'Anastrozole',\n",
    "    'Letrozole',\n",
    "    'Exemestane']\n",
    "\n",
    "exc = [\n",
    "    'Capecitabine',\n",
    "    'Carboplatin',\n",
    "    'Cisplatin',\n",
    "    'Cyclophosphamide',\n",
    "    'Cytarabine Liposomal',\n",
    "    'Decitabine',\n",
    "    'Docetaxel',\n",
    "    'Doxorubicin',\n",
    "    'Doxorubicin Pegylated Liposomal',\n",
    "    'Eribulin',\n",
    "    'Etoposide',\n",
    "    'Fluorouracil',\n",
    "    'Gemcitabine',\n",
    "    'Hydroxyurea',\n",
    "    'Leucovorin',\n",
    "    'Methotrexate',\n",
    "    'Oxaliplatin',\n",
    "    'Paclitaxel',\n",
    "    'Paclitaxel Protein-Bound',\n",
    "    'Vinorelbine',\n",
    "    'Nivolumab',\n",
    "    'Pembrolizumab',\n",
    "    'Abemaciclib',\n",
    "    'Alpelisib',\n",
    "    'Fulvestrant',\n",
    "    'Ribociclib',\n",
    "    'Tamoxifen',\n",
    "    'Carfilzomib',\n",
    "    'Daratumumab',\n",
    "    'Everolimus',\n",
    "    'Imatinib',\n",
    "    'Lapatinib',\n",
    "    'Lenalidomide',\n",
    "    'Neratinib',\n",
    "    'Olaparib',\n",
    "    'Pazopanib',\n",
    "    'Pertuzumab',\n",
    "    'Rituximab',\n",
    "    'Sorafenib',\n",
    "    'Toremifene',\n",
    "    'Trastuzumab',\n",
    "    'Clinical Study Drug',\n",
    "]"
   ]
  },
  {
   "cell_type": "code",
   "execution_count": 85,
   "id": "2e7a06ca",
   "metadata": {},
   "outputs": [
    {
     "data": {
      "text/plain": [
       "Letrozole,Palbociclib                  2503\n",
       "Anastrozole,Palbociclib                 466\n",
       "Exemestane,Palbociclib                  123\n",
       "Letrozole,Leuprolide,Palbociclib         98\n",
       "Goserelin,Letrozole,Palbociclib          90\n",
       "Anastrozole,Goserelin,Palbociclib        17\n",
       "Anastrozole,Leuprolide,Palbociclib       17\n",
       "Letrozole,Palbociclib,Triptorelin         5\n",
       "Anastrozole,Palbociclib,Triptorelin       4\n",
       "Exemestane,Goserelin,Palbociclib          4\n",
       "Exemestane,Leuprolide,Palbociclib         3\n",
       "Name: LineName, dtype: int64"
      ]
     },
     "execution_count": 85,
     "metadata": {},
     "output_type": "execute_result"
    }
   ],
   "source": [
    "line_therapy_fl[line_therapy_fl['LineName'].str.contains('|'.join(ai)) & \n",
    "                line_therapy_fl['LineName'].str.contains('Palbociclib') &\n",
    "                ~line_therapy_fl['LineName'].str.contains('|'.join(exc))].LineName.value_counts().head(30)"
   ]
  },
  {
   "cell_type": "code",
   "execution_count": 86,
   "id": "49e957ce",
   "metadata": {},
   "outputs": [],
   "source": [
    "let_palb = (\n",
    "    line_therapy_fl[line_therapy_fl['LineName'].str.contains('|'.join(ai)) & \n",
    "                    line_therapy_fl['LineName'].str.contains('Palbociclib') &\n",
    "                    ~line_therapy_fl['LineName'].str.contains('|'.join(exc))]\n",
    "    [['PatientID', 'StartDate']]\n",
    ")"
   ]
  },
  {
   "cell_type": "code",
   "execution_count": 87,
   "id": "fa758df1",
   "metadata": {},
   "outputs": [
    {
     "data": {
      "text/plain": [
       "(3330, 3330)"
      ]
     },
     "execution_count": 87,
     "metadata": {},
     "output_type": "execute_result"
    }
   ],
   "source": [
    "row_ID(let_palb)"
   ]
  },
  {
   "cell_type": "code",
   "execution_count": 88,
   "id": "2d9da1f7",
   "metadata": {},
   "outputs": [],
   "source": [
    "let_palb.loc[:,'let_palb'] = 1"
   ]
  },
  {
   "cell_type": "markdown",
   "id": "f9df0c78",
   "metadata": {},
   "source": [
    "#### AI"
   ]
  },
  {
   "cell_type": "code",
   "execution_count": 89,
   "id": "03bb21b7",
   "metadata": {},
   "outputs": [
    {
     "data": {
      "text/plain": [
       "Letrozole                            2536\n",
       "Letrozole,Palbociclib                2503\n",
       "Letrozole,Ribociclib                  229\n",
       "Abemaciclib,Letrozole                 190\n",
       "Letrozole,Leuprolide,Palbociclib       98\n",
       "Goserelin,Letrozole,Palbociclib        90\n",
       "Fulvestrant,Letrozole                  64\n",
       "Letrozole,Trastuzumab                  59\n",
       "Fulvestrant,Letrozole,Palbociclib      40\n",
       "Letrozole,Leuprolide                   40\n",
       "Name: LineName, dtype: int64"
      ]
     },
     "execution_count": 89,
     "metadata": {},
     "output_type": "execute_result"
    }
   ],
   "source": [
    "line_therapy_fl[line_therapy_fl['LineName'].str.contains('Letrozole')].LineName.value_counts().head(10)"
   ]
  },
  {
   "cell_type": "code",
   "execution_count": 90,
   "id": "5e2b80a1",
   "metadata": {},
   "outputs": [
    {
     "data": {
      "text/plain": [
       "Anastrozole                      2943\n",
       "Letrozole                        2536\n",
       "Exemestane                        780\n",
       "Letrozole,Leuprolide               40\n",
       "Anastrozole,Leuprolide             35\n",
       "Goserelin,Letrozole                26\n",
       "Anastrozole,Goserelin              20\n",
       "Exemestane,Goserelin                7\n",
       "Exemestane,Leuprolide               4\n",
       "Anastrozole,Triptorelin             2\n",
       "Letrozole,Medroxyprogesterone       1\n",
       "Letrozole,Triptorelin               1\n",
       "Anastrozole,Megestrol               1\n",
       "Name: LineName, dtype: int64"
      ]
     },
     "execution_count": 90,
     "metadata": {},
     "output_type": "execute_result"
    }
   ],
   "source": [
    "line_therapy_fl[line_therapy_fl['LineName'].str.contains('|'.join(ai)) & \n",
    "                ~line_therapy_fl['LineName'].str.contains('Palbociclib') &\n",
    "                ~line_therapy_fl['LineName'].str.contains('|'.join(exc))].LineName.value_counts().head(40)"
   ]
  },
  {
   "cell_type": "code",
   "execution_count": 91,
   "id": "2542211e",
   "metadata": {},
   "outputs": [],
   "source": [
    "let = (\n",
    "    line_therapy_fl[line_therapy_fl['LineName'].str.contains('|'.join(ai)) & \n",
    "                    ~line_therapy_fl['LineName'].str.contains('Palbociclib') &\n",
    "                    ~line_therapy_fl['LineName'].str.contains('|'.join(exc))]\n",
    "    [['PatientID', 'StartDate']]\n",
    ")"
   ]
  },
  {
   "cell_type": "code",
   "execution_count": 92,
   "id": "814fb508",
   "metadata": {},
   "outputs": [
    {
     "data": {
      "text/plain": [
       "(6396, 6396)"
      ]
     },
     "execution_count": 92,
     "metadata": {},
     "output_type": "execute_result"
    }
   ],
   "source": [
    "row_ID(let)"
   ]
  },
  {
   "cell_type": "code",
   "execution_count": 93,
   "id": "fdc01dab",
   "metadata": {},
   "outputs": [],
   "source": [
    "let.loc[:,'let_palb'] = 0"
   ]
  },
  {
   "cell_type": "code",
   "execution_count": 94,
   "id": "f7834c78",
   "metadata": {},
   "outputs": [],
   "source": [
    "paloma2 = pd.concat([let_palb, let])"
   ]
  },
  {
   "cell_type": "code",
   "execution_count": 95,
   "id": "350580f9",
   "metadata": {},
   "outputs": [
    {
     "data": {
      "text/plain": [
       "(9726, 9726)"
      ]
     },
     "execution_count": 95,
     "metadata": {},
     "output_type": "execute_result"
    }
   ],
   "source": [
    "row_ID(paloma2)"
   ]
  },
  {
   "cell_type": "code",
   "execution_count": 96,
   "id": "2fa108b1",
   "metadata": {},
   "outputs": [],
   "source": [
    "paloma2 = pd.merge(paloma2, df_full, on = 'PatientID', how = 'left')"
   ]
  },
  {
   "cell_type": "code",
   "execution_count": 97,
   "id": "8c9127fb",
   "metadata": {},
   "outputs": [
    {
     "data": {
      "text/plain": [
       "(9726, 9726)"
      ]
     },
     "execution_count": 97,
     "metadata": {},
     "output_type": "execute_result"
    }
   ],
   "source": [
    "row_ID(paloma2)"
   ]
  },
  {
   "cell_type": "code",
   "execution_count": 98,
   "id": "ef34b0fe",
   "metadata": {},
   "outputs": [],
   "source": [
    "paloma2['StartDate'] = pd.to_datetime(paloma2['StartDate'])"
   ]
  },
  {
   "cell_type": "markdown",
   "id": "c9e4c1d5",
   "metadata": {},
   "source": [
    "#### ER-positive and HER-2 negative "
   ]
  },
  {
   "cell_type": "code",
   "execution_count": 99,
   "id": "b5f997b3",
   "metadata": {},
   "outputs": [],
   "source": [
    "biomarkers = pd.read_csv('Enhanced_MetBreastBiomarkers.csv')"
   ]
  },
  {
   "cell_type": "code",
   "execution_count": 100,
   "id": "ade9f2d3",
   "metadata": {},
   "outputs": [],
   "source": [
    "biomarkers = biomarkers[biomarkers['PatientID'].isin(paloma2['PatientID'])]"
   ]
  },
  {
   "cell_type": "code",
   "execution_count": 101,
   "id": "12bfed59",
   "metadata": {},
   "outputs": [
    {
     "data": {
      "text/plain": [
       "(69754, 9662)"
      ]
     },
     "execution_count": 101,
     "metadata": {},
     "output_type": "execute_result"
    }
   ],
   "source": [
    "row_ID(biomarkers)"
   ]
  },
  {
   "cell_type": "code",
   "execution_count": 102,
   "id": "ffba1e28",
   "metadata": {},
   "outputs": [],
   "source": [
    "biomarkers = pd.merge(biomarkers, paloma2[['PatientID', 'StartDate']], on = 'PatientID', how = 'left')"
   ]
  },
  {
   "cell_type": "code",
   "execution_count": 103,
   "id": "1e75fbd5",
   "metadata": {},
   "outputs": [
    {
     "data": {
      "text/plain": [
       "(69754, 9662)"
      ]
     },
     "execution_count": 103,
     "metadata": {},
     "output_type": "execute_result"
    }
   ],
   "source": [
    "row_ID(biomarkers)"
   ]
  },
  {
   "cell_type": "code",
   "execution_count": 104,
   "id": "f928bcbd",
   "metadata": {},
   "outputs": [],
   "source": [
    "biomarkers['StartDate'] = pd.to_datetime(biomarkers['StartDate'])"
   ]
  },
  {
   "cell_type": "code",
   "execution_count": 105,
   "id": "62f41efb",
   "metadata": {},
   "outputs": [],
   "source": [
    "biomarkers['ResultDate'] = pd.to_datetime(biomarkers['ResultDate'])"
   ]
  },
  {
   "cell_type": "code",
   "execution_count": 106,
   "id": "976d8c90",
   "metadata": {},
   "outputs": [],
   "source": [
    "biomarkers['SpecimenReceivedDate'] = pd.to_datetime(biomarkers['SpecimenReceivedDate'])"
   ]
  },
  {
   "cell_type": "code",
   "execution_count": 107,
   "id": "7eb315ca",
   "metadata": {},
   "outputs": [],
   "source": [
    "biomarkers.loc[:, 'result_date'] = (\n",
    "    np.where(biomarkers['ResultDate'].isna(), biomarkers['SpecimenReceivedDate'], biomarkers['ResultDate'])\n",
    ")"
   ]
  },
  {
   "cell_type": "code",
   "execution_count": 108,
   "id": "e14ebd0e",
   "metadata": {},
   "outputs": [],
   "source": [
    "biomarkers.loc[:, 'date_diff'] = (biomarkers['result_date'] - biomarkers['StartDate']).dt.days"
   ]
  },
  {
   "cell_type": "code",
   "execution_count": 109,
   "id": "fb0122b7",
   "metadata": {},
   "outputs": [],
   "source": [
    "er_status = (\n",
    "    biomarkers\n",
    "    .query('BiomarkerName == \"ER\"')\n",
    "    .query('date_diff <= 30 and date_diff >= -90')\n",
    "    .query('BiomarkerStatus == \"Positive\" or BiomarkerStatus == \"Negative\"') # don't select unknown values \n",
    "    .sort_values(['PatientID', 'date_diff'], ascending = [True, False]) # select ER status closest to treatment start\n",
    "    .drop_duplicates(subset = ['PatientID'], keep = 'first')\n",
    "    [['PatientID', 'BiomarkerStatus']]\n",
    "    .rename(columns = {'BiomarkerStatus': 'er'})\n",
    "   )"
   ]
  },
  {
   "cell_type": "code",
   "execution_count": 110,
   "id": "cfbeb10e",
   "metadata": {},
   "outputs": [
    {
     "data": {
      "text/plain": [
       "(6016, 6016)"
      ]
     },
     "execution_count": 110,
     "metadata": {},
     "output_type": "execute_result"
    }
   ],
   "source": [
    "row_ID(er_status)"
   ]
  },
  {
   "cell_type": "code",
   "execution_count": 111,
   "id": "aeb5e5ae",
   "metadata": {},
   "outputs": [],
   "source": [
    "her2_status = (\n",
    "    biomarkers\n",
    "    .query('BiomarkerName == \"HER2\"')\n",
    "    .query('date_diff <= 30 and date_diff >= -90')\n",
    "    .sort_values(['PatientID', 'date_diff'], ascending = [True, False])\n",
    "    .drop_duplicates(subset = ['PatientID'], keep = 'first')\n",
    "    [['PatientID', 'BiomarkerStatus']]\n",
    "    .rename(columns = {'BiomarkerStatus': 'her2'})\n",
    ")"
   ]
  },
  {
   "cell_type": "code",
   "execution_count": 112,
   "id": "29340a2b",
   "metadata": {},
   "outputs": [
    {
     "data": {
      "text/plain": [
       "(5607, 5607)"
      ]
     },
     "execution_count": 112,
     "metadata": {},
     "output_type": "execute_result"
    }
   ],
   "source": [
    "row_ID(her2_status)"
   ]
  },
  {
   "cell_type": "code",
   "execution_count": 113,
   "id": "6de01174",
   "metadata": {},
   "outputs": [],
   "source": [
    "paloma2 = pd.merge(paloma2, er_status, on  = 'PatientID', how = 'left')"
   ]
  },
  {
   "cell_type": "code",
   "execution_count": 114,
   "id": "88a96aca",
   "metadata": {},
   "outputs": [
    {
     "data": {
      "text/plain": [
       "(9726, 9726)"
      ]
     },
     "execution_count": 114,
     "metadata": {},
     "output_type": "execute_result"
    }
   ],
   "source": [
    "row_ID(paloma2)"
   ]
  },
  {
   "cell_type": "code",
   "execution_count": 115,
   "id": "46a36c76",
   "metadata": {},
   "outputs": [],
   "source": [
    "paloma2 = pd.merge(paloma2, her2_status, on  = 'PatientID', how = 'left')"
   ]
  },
  {
   "cell_type": "code",
   "execution_count": 116,
   "id": "325c8fd5",
   "metadata": {},
   "outputs": [
    {
     "data": {
      "text/plain": [
       "(9726, 9726)"
      ]
     },
     "execution_count": 116,
     "metadata": {},
     "output_type": "execute_result"
    }
   ],
   "source": [
    "row_ID(paloma2)"
   ]
  },
  {
   "cell_type": "code",
   "execution_count": 117,
   "id": "37dfefcf",
   "metadata": {},
   "outputs": [],
   "source": [
    "her2_neg = ['IHC negative (0-1+)',\n",
    "            'FISH negative/not amplified',\n",
    "            'IHC equivocal (2+)',\n",
    "            'Negative NOS',\n",
    "            'NGS negative (ERBB2 not amplified)',\n",
    "            'FISH equivocal',\n",
    "            'Equivocal NOS',\n",
    "            'NGS equivocal (ERBB2 amplification equivocal)']\n",
    "\n",
    "paloma2 = (\n",
    "    paloma2\n",
    "    .query('er == \"Positive\"')\n",
    "    .query('her2== @her2_neg')\n",
    ")"
   ]
  },
  {
   "cell_type": "code",
   "execution_count": 118,
   "id": "dcc5ddb0",
   "metadata": {},
   "outputs": [
    {
     "data": {
      "text/plain": [
       "(4842, 4842)"
      ]
     },
     "execution_count": 118,
     "metadata": {},
     "output_type": "execute_result"
    }
   ],
   "source": [
    "row_ID(paloma2)"
   ]
  },
  {
   "cell_type": "markdown",
   "id": "d1c64fca",
   "metadata": {},
   "source": [
    "#### Time from treatment to progression/death or censor "
   ]
  },
  {
   "cell_type": "code",
   "execution_count": 119,
   "id": "664211b2",
   "metadata": {},
   "outputs": [],
   "source": [
    "mortality_tr = pd.read_csv('mortality_cleaned_tr.csv')"
   ]
  },
  {
   "cell_type": "code",
   "execution_count": 120,
   "id": "679ced33",
   "metadata": {},
   "outputs": [],
   "source": [
    "mortality_te = pd.read_csv('mortality_cleaned_te.csv')"
   ]
  },
  {
   "cell_type": "code",
   "execution_count": 121,
   "id": "3aa681d3",
   "metadata": {},
   "outputs": [],
   "source": [
    "mortality_tr = mortality_tr[['PatientID', 'death_date', 'last_activity']]"
   ]
  },
  {
   "cell_type": "code",
   "execution_count": 122,
   "id": "9d6d4591",
   "metadata": {},
   "outputs": [],
   "source": [
    "mortality_te = mortality_te[['PatientID', 'death_date', 'last_activity']]"
   ]
  },
  {
   "cell_type": "code",
   "execution_count": 123,
   "id": "915936ed",
   "metadata": {},
   "outputs": [
    {
     "data": {
      "text/plain": [
       "(31677, 31677)"
      ]
     },
     "execution_count": 123,
     "metadata": {},
     "output_type": "execute_result"
    }
   ],
   "source": [
    "mortality = pd.concat([mortality_tr, mortality_te], ignore_index = True)\n",
    "row_ID(mortality)"
   ]
  },
  {
   "cell_type": "code",
   "execution_count": 124,
   "id": "28c6bb4b",
   "metadata": {},
   "outputs": [],
   "source": [
    "mortality.loc[:, 'last_activity'] = pd.to_datetime(mortality['last_activity'])"
   ]
  },
  {
   "cell_type": "code",
   "execution_count": 125,
   "id": "29c6f2a2",
   "metadata": {},
   "outputs": [],
   "source": [
    "mortality.loc[:, 'death_date'] = pd.to_datetime(mortality['death_date'])"
   ]
  },
  {
   "cell_type": "code",
   "execution_count": 126,
   "id": "d28c2e45",
   "metadata": {},
   "outputs": [
    {
     "data": {
      "text/plain": [
       "(31677, 31677)"
      ]
     },
     "execution_count": 126,
     "metadata": {},
     "output_type": "execute_result"
    }
   ],
   "source": [
    "row_ID(mortality)"
   ]
  },
  {
   "cell_type": "code",
   "execution_count": 127,
   "id": "da0d60db",
   "metadata": {},
   "outputs": [],
   "source": [
    "paloma2 = pd.merge(paloma2, mortality, on = 'PatientID', how = 'left')"
   ]
  },
  {
   "cell_type": "code",
   "execution_count": 128,
   "id": "2a110e6a",
   "metadata": {},
   "outputs": [
    {
     "data": {
      "text/plain": [
       "(4842, 4842)"
      ]
     },
     "execution_count": 128,
     "metadata": {},
     "output_type": "execute_result"
    }
   ],
   "source": [
    "row_ID(paloma2)"
   ]
  },
  {
   "cell_type": "code",
   "execution_count": 129,
   "id": "cd6b06b8",
   "metadata": {},
   "outputs": [],
   "source": [
    "progression = pd.read_csv ('Enhanced_MetBreastProgression.csv')"
   ]
  },
  {
   "cell_type": "code",
   "execution_count": 130,
   "id": "dd50e0ed",
   "metadata": {},
   "outputs": [],
   "source": [
    "progression = progression[progression['PatientID'].isin(paloma2['PatientID'])][['PatientID', 'ProgressionDate']]"
   ]
  },
  {
   "cell_type": "code",
   "execution_count": 131,
   "id": "d24f83c3",
   "metadata": {},
   "outputs": [],
   "source": [
    "progression['ProgressionDate'] = pd.to_datetime(progression['ProgressionDate'])"
   ]
  },
  {
   "cell_type": "code",
   "execution_count": 132,
   "id": "cd38d4f4",
   "metadata": {},
   "outputs": [],
   "source": [
    "progression = (\n",
    "    progression\n",
    "    .sort_values(['PatientID', 'ProgressionDate'], ascending = [True, True])\n",
    "    .drop_duplicates(subset = 'PatientID', keep = 'first')\n",
    ")"
   ]
  },
  {
   "cell_type": "code",
   "execution_count": 133,
   "id": "e0c6515e",
   "metadata": {},
   "outputs": [
    {
     "data": {
      "text/plain": [
       "(4840, 4840)"
      ]
     },
     "execution_count": 133,
     "metadata": {},
     "output_type": "execute_result"
    }
   ],
   "source": [
    "row_ID(progression)"
   ]
  },
  {
   "cell_type": "code",
   "execution_count": 134,
   "id": "de8f04ce",
   "metadata": {},
   "outputs": [],
   "source": [
    "paloma2 = pd.merge(paloma2, progression, on = 'PatientID', how = 'left')"
   ]
  },
  {
   "cell_type": "code",
   "execution_count": 135,
   "id": "715fa944",
   "metadata": {},
   "outputs": [
    {
     "data": {
      "text/plain": [
       "(4842, 4842)"
      ]
     },
     "execution_count": 135,
     "metadata": {},
     "output_type": "execute_result"
    }
   ],
   "source": [
    "row_ID(paloma2)"
   ]
  },
  {
   "cell_type": "code",
   "execution_count": 136,
   "id": "8ef8001f",
   "metadata": {},
   "outputs": [
    {
     "data": {
      "text/plain": [
       "0.4012804626187526"
      ]
     },
     "execution_count": 136,
     "metadata": {},
     "output_type": "execute_result"
    }
   ],
   "source": [
    "# Percent without progression date\n",
    "len(paloma2.query('ProgressionDate.isna()', engine = 'python'))/len(paloma2)"
   ]
  },
  {
   "cell_type": "code",
   "execution_count": 137,
   "id": "ca0de796",
   "metadata": {},
   "outputs": [],
   "source": [
    "conditions = [\n",
    "    (paloma2.ProgressionDate.notna()),\n",
    "    ((paloma2.ProgressionDate.isna()) & (paloma2['death_status'] == 1)),\n",
    "    ((paloma2.ProgressionDate.isna()) & (paloma2['death_status'] == 0))]\n",
    "\n",
    "choices = [\n",
    "    (paloma2['ProgressionDate'] - paloma2['StartDate']).dt.days,\n",
    "    (paloma2['death_date'] - paloma2['StartDate']).dt.days,\n",
    "    (paloma2['last_activity'] - paloma2['StartDate']).dt.days]\n",
    "\n",
    "paloma2.loc[:, 'time_prog_treatment'] = np.select(conditions, choices)"
   ]
  },
  {
   "cell_type": "code",
   "execution_count": 138,
   "id": "f4060f37",
   "metadata": {},
   "outputs": [],
   "source": [
    "paloma2 = paloma2.query('time_prog_treatment >= 0')"
   ]
  },
  {
   "cell_type": "code",
   "execution_count": 139,
   "id": "8ec8c1a7",
   "metadata": {},
   "outputs": [
    {
     "data": {
      "text/plain": [
       "4734"
      ]
     },
     "execution_count": 139,
     "metadata": {},
     "output_type": "execute_result"
    }
   ],
   "source": [
    "len(paloma2)"
   ]
  },
  {
   "cell_type": "code",
   "execution_count": 140,
   "id": "e189617b",
   "metadata": {},
   "outputs": [],
   "source": [
    "conditions = [\n",
    "    (paloma2.ProgressionDate.notna()),\n",
    "    ((paloma2.ProgressionDate.isna()) & (paloma2['death_status'] == 1)),\n",
    "    ((paloma2.ProgressionDate.isna()) & (paloma2['death_status'] == 0))]\n",
    "\n",
    "choices = [1, 1, 0]\n",
    "\n",
    "paloma2.loc[:, 'pfs_status'] = np.select(conditions, choices)"
   ]
  },
  {
   "cell_type": "markdown",
   "id": "300da300",
   "metadata": {},
   "source": [
    "#### Patient count "
   ]
  },
  {
   "cell_type": "code",
   "execution_count": 141,
   "id": "75a1cd1b",
   "metadata": {},
   "outputs": [
    {
     "data": {
      "text/plain": [
       "(4734, 4734)"
      ]
     },
     "execution_count": 141,
     "metadata": {},
     "output_type": "execute_result"
    }
   ],
   "source": [
    "row_ID(paloma2)"
   ]
  },
  {
   "cell_type": "code",
   "execution_count": 142,
   "id": "07f9a39b",
   "metadata": {},
   "outputs": [],
   "source": [
    "# Exlcude those with other relevant comorbidities\n",
    "paloma2 = paloma2[~paloma2['PatientID'].isin(other_comorb_IDs)]"
   ]
  },
  {
   "cell_type": "code",
   "execution_count": 143,
   "id": "05463db1",
   "metadata": {},
   "outputs": [],
   "source": [
    "# Exclude those with CNS metastatsis at time of first line treatment\n",
    "paloma2 = paloma2[~paloma2['PatientID'].isin(cns_fl_IDs)]"
   ]
  },
  {
   "cell_type": "code",
   "execution_count": 144,
   "id": "a33ac032",
   "metadata": {},
   "outputs": [],
   "source": [
    "# Exclude those with ECOG 3 or 4  \n",
    "paloma2 = paloma2[~paloma2['PatientID'].isin(ecog_fl_34_IDs)]"
   ]
  },
  {
   "cell_type": "code",
   "execution_count": 145,
   "id": "365ba752",
   "metadata": {},
   "outputs": [],
   "source": [
    "# Exclude those with abnormal organ function at time of first line treatment \n",
    "paloma2 = paloma2[~paloma2['PatientID'].isin(ab_organ_fl_IDs)]"
   ]
  },
  {
   "cell_type": "code",
   "execution_count": 146,
   "id": "efbe3a5a",
   "metadata": {},
   "outputs": [
    {
     "data": {
      "text/plain": [
       "(4276, 4276)"
      ]
     },
     "execution_count": 146,
     "metadata": {},
     "output_type": "execute_result"
    }
   ],
   "source": [
    "row_ID(paloma2)"
   ]
  },
  {
   "cell_type": "code",
   "execution_count": 147,
   "id": "03ae9c18",
   "metadata": {},
   "outputs": [],
   "source": [
    "low_cutoff_paloma2 = cutoff.loc['paloma2'].low"
   ]
  },
  {
   "cell_type": "code",
   "execution_count": 148,
   "id": "d15d260d",
   "metadata": {},
   "outputs": [],
   "source": [
    "high_cutoff_paloma2 = cutoff.loc['paloma2'].high"
   ]
  },
  {
   "cell_type": "code",
   "execution_count": 149,
   "id": "cd4b9e1b",
   "metadata": {},
   "outputs": [
    {
     "name": "stdout",
     "output_type": "stream",
     "text": [
      "Palbociclib plus letrozole total: 1961\n",
      "High risk: 505\n",
      "Med risk: 637\n",
      "Low risk: 819\n"
     ]
    }
   ],
   "source": [
    "print('Palbociclib plus letrozole total:',  paloma2.query('let_palb == 1').shape[0])\n",
    "print('High risk:', paloma2.query('let_palb == 1').query('risk_score >= @high_cutoff_paloma2').shape[0])\n",
    "print('Med risk:', paloma2.query('let_palb == 1').query('risk_score < @high_cutoff_paloma2 and risk_score > @low_cutoff_paloma2').shape[0])\n",
    "print('Low risk:', paloma2.query('let_palb == 1').query('risk_score <= @low_cutoff_paloma2').shape[0])"
   ]
  },
  {
   "cell_type": "code",
   "execution_count": 150,
   "id": "e06ea3a9",
   "metadata": {},
   "outputs": [
    {
     "name": "stdout",
     "output_type": "stream",
     "text": [
      "Letrozole: 2315\n",
      "High risk: 762\n",
      "Med risk: 836\n",
      "Low risk: 717\n"
     ]
    }
   ],
   "source": [
    "print('Letrozole:',  paloma2.query('let_palb == 0').shape[0])\n",
    "print('High risk:', paloma2.query('let_palb == 0').query('risk_score >= @high_cutoff_paloma2').shape[0])\n",
    "print('Med risk:', paloma2.query('let_palb == 0').query('risk_score < @high_cutoff_paloma2 and risk_score > @low_cutoff_paloma2').shape[0])\n",
    "print('Low risk:', paloma2.query('let_palb == 0').query('risk_score <= @low_cutoff_paloma2').shape[0])"
   ]
  },
  {
   "cell_type": "markdown",
   "id": "4814e2fd",
   "metadata": {},
   "source": [
    "#### PFS curves with covariate balancing "
   ]
  },
  {
   "cell_type": "code",
   "execution_count": 151,
   "id": "e950f36e",
   "metadata": {},
   "outputs": [],
   "source": [
    "paloma2 = paloma2.set_index('PatientID')"
   ]
  },
  {
   "cell_type": "code",
   "execution_count": 152,
   "id": "a0f61fb5",
   "metadata": {},
   "outputs": [],
   "source": [
    "conditions = [\n",
    "    (paloma2['thorax_met'] == 1) |\n",
    "    (paloma2['liver_met'] == 1) |\n",
    "    (paloma2['cns_met'] == 1) |\n",
    "    (paloma2['peritoneum_met'] == 1) |\n",
    "    (paloma2['other_met'] == 1),\n",
    "    (paloma2['bone_met'] == 0) &\n",
    "    (paloma2['thorax_met'] == 0) &\n",
    "    (paloma2['lymph_met'] == 0) &\n",
    "    (paloma2['liver_met'] == 0) &\n",
    "    (paloma2['cns_met'] == 0) &\n",
    "    (paloma2['skin_met'] == 0) &\n",
    "    (paloma2['peritoneum_met'] == 0) &\n",
    "    (paloma2['other_met'] == 0)\n",
    "]\n",
    "\n",
    "choices = ['visceral', 'unknown']\n",
    "\n",
    "paloma2['met_site'] = np.select(conditions, choices, default = 'nonvisceral')"
   ]
  },
  {
   "cell_type": "code",
   "execution_count": 153,
   "id": "e32bc07d",
   "metadata": {},
   "outputs": [],
   "source": [
    "paloma2['met_cat'] = pd.cut(paloma2['met_year'],\n",
    "                            bins = [2010, 2016, float('inf')],\n",
    "                            labels = ['11-16', '17-22'])"
   ]
  },
  {
   "cell_type": "code",
   "execution_count": 154,
   "id": "c3067a1d",
   "metadata": {},
   "outputs": [],
   "source": [
    "conditions = [\n",
    "    ((paloma2['ecog_diagnosis'] == \"1.0\") | (paloma2['ecog_diagnosis'] == \"0.0\")),  \n",
    "    ((paloma2['ecog_diagnosis'] == \"2.0\") | (paloma2['ecog_diagnosis'] == \"3.0\"))\n",
    "]\n",
    "\n",
    "choices = ['lt_2', 'gte_2']\n",
    "\n",
    "paloma2['ecog_2'] = np.select(conditions, choices, default = 'unknown')"
   ]
  },
  {
   "cell_type": "code",
   "execution_count": 155,
   "id": "81daeec5",
   "metadata": {},
   "outputs": [],
   "source": [
    "paloma2_iptw = paloma2.filter(items = ['pfs_status',\n",
    "                                       'time_prog_treatment',\n",
    "                                       'let_palb',\n",
    "                                       'age',\n",
    "                                       'gender',\n",
    "                                       'race',\n",
    "                                       'p_type',\n",
    "                                       'delta_met_diagnosis',\n",
    "                                       'met_cat',\n",
    "                                       'commercial',\n",
    "                                       'medicare',\n",
    "                                       'medicaid',\n",
    "                                       'ses',\n",
    "                                       'ecog_2',\n",
    "                                       'met_site',\n",
    "                                       'albumin_diag',\n",
    "                                       'weight_pct_change',\n",
    "                                       'risk_score'])"
   ]
  },
  {
   "cell_type": "code",
   "execution_count": 156,
   "id": "cd22d11f",
   "metadata": {},
   "outputs": [
    {
     "data": {
      "text/plain": [
       "pfs_status                int64\n",
       "time_prog_treatment     float64\n",
       "let_palb                  int64\n",
       "age                       int64\n",
       "gender                   object\n",
       "race                     object\n",
       "p_type                   object\n",
       "delta_met_diagnosis       int64\n",
       "met_cat                category\n",
       "commercial              float64\n",
       "medicare                float64\n",
       "medicaid                float64\n",
       "ses                     float64\n",
       "ecog_2                   object\n",
       "met_site                 object\n",
       "albumin_diag            float64\n",
       "weight_pct_change       float64\n",
       "risk_score              float64\n",
       "dtype: object"
      ]
     },
     "execution_count": 156,
     "metadata": {},
     "output_type": "execute_result"
    }
   ],
   "source": [
    "paloma2_iptw.dtypes"
   ]
  },
  {
   "cell_type": "code",
   "execution_count": 157,
   "id": "f62feba7",
   "metadata": {},
   "outputs": [],
   "source": [
    "to_be_categorical = list(paloma2_iptw.select_dtypes(include = ['object']).columns)"
   ]
  },
  {
   "cell_type": "code",
   "execution_count": 158,
   "id": "6742f7ce",
   "metadata": {},
   "outputs": [
    {
     "data": {
      "text/plain": [
       "['gender', 'race', 'p_type', 'ecog_2', 'met_site']"
      ]
     },
     "execution_count": 158,
     "metadata": {},
     "output_type": "execute_result"
    }
   ],
   "source": [
    "to_be_categorical"
   ]
  },
  {
   "cell_type": "code",
   "execution_count": 159,
   "id": "cb719f8a",
   "metadata": {},
   "outputs": [],
   "source": [
    "to_be_categorical.append('met_cat')"
   ]
  },
  {
   "cell_type": "code",
   "execution_count": 160,
   "id": "14d95ebb",
   "metadata": {},
   "outputs": [],
   "source": [
    "to_be_categorical.append('ses')"
   ]
  },
  {
   "cell_type": "code",
   "execution_count": 161,
   "id": "7cbdcb38",
   "metadata": {},
   "outputs": [],
   "source": [
    "# Convert variables in list to categorical.\n",
    "for x in list(to_be_categorical):\n",
    "    paloma2_iptw[x] = paloma2_iptw[x].astype('category')"
   ]
  },
  {
   "cell_type": "code",
   "execution_count": 162,
   "id": "93459f57",
   "metadata": {},
   "outputs": [],
   "source": [
    "# List of numeric variables, excluding binary variables. \n",
    "numerical_features = ['age', 'delta_met_diagnosis', 'albumin_diag', 'weight_pct_change']\n",
    "\n",
    "# Transformer will first calculate column median and impute, and then apply a standard scaler. \n",
    "numerical_transformer = Pipeline(steps = [\n",
    "    ('imputer', SimpleImputer(strategy = 'median')),\n",
    "    ('std_scaler', StandardScaler())])"
   ]
  },
  {
   "cell_type": "code",
   "execution_count": 163,
   "id": "84a564de",
   "metadata": {},
   "outputs": [],
   "source": [
    "# List of categorical features.\n",
    "categorical_features = list(paloma2_iptw.select_dtypes(include = ['category']).columns)\n",
    "\n",
    "# One-hot-encode categorical features.\n",
    "categorical_transformer = OneHotEncoder(handle_unknown = 'ignore')"
   ]
  },
  {
   "cell_type": "code",
   "execution_count": 164,
   "id": "5791138a",
   "metadata": {},
   "outputs": [],
   "source": [
    "preprocessor = ColumnTransformer(\n",
    "    transformers = [\n",
    "        ('num', numerical_transformer, numerical_features),\n",
    "        ('cat', categorical_transformer, categorical_features)],\n",
    "    remainder = 'passthrough')"
   ]
  },
  {
   "cell_type": "code",
   "execution_count": 165,
   "id": "90853d15",
   "metadata": {},
   "outputs": [],
   "source": [
    "paloma2_iptw_low = (\n",
    "    paloma2_iptw\n",
    "    .query('risk_score <= @low_cutoff_paloma2')\n",
    "    .drop(columns = ['risk_score']))\n",
    "\n",
    "paloma2_iptw_med = (\n",
    "    paloma2_iptw\n",
    "    .query('risk_score < @high_cutoff_paloma2 and risk_score > @low_cutoff_paloma2')\n",
    "    .drop(columns = ['risk_score']))\n",
    "\n",
    "paloma2_iptw_high = (\n",
    "    paloma2_iptw\n",
    "    .query('risk_score >= @high_cutoff_paloma2')\n",
    "    .drop(columns = ['risk_score']))\n",
    "\n",
    "paloma2_iptw_all = (\n",
    "    paloma2_iptw\n",
    "    .drop(columns = ['risk_score']))"
   ]
  },
  {
   "cell_type": "code",
   "execution_count": 166,
   "id": "d017f12b",
   "metadata": {},
   "outputs": [],
   "source": [
    "paloma2_low_x = preprocessor.fit_transform(paloma2_iptw_low.filter(items = ['age',\n",
    "                                                                            'gender',\n",
    "                                                                            'race',\n",
    "                                                                            'p_type',\n",
    "                                                                            'delta_met_diagnosis',\n",
    "                                                                            'met_cat',\n",
    "                                                                            'commercial',\n",
    "                                                                            'medicare',\n",
    "                                                                            'medicaid',\n",
    "                                                                            'ses',\n",
    "                                                                            'ecog_2',\n",
    "                                                                            'met_site', \n",
    "                                                                            'albumin_diag', \n",
    "                                                                            'weight_pct_change']))\n",
    "\n",
    "paloma2_med_x = preprocessor.fit_transform(paloma2_iptw_med.filter(items = ['age',\n",
    "                                                                            'gender',\n",
    "                                                                            'race',\n",
    "                                                                            'p_type',\n",
    "                                                                            'delta_met_diagnosis',\n",
    "                                                                            'met_cat',\n",
    "                                                                            'commercial',\n",
    "                                                                            'medicare',\n",
    "                                                                            'medicaid',\n",
    "                                                                            'ses',\n",
    "                                                                            'ecog_2',\n",
    "                                                                            'met_site', \n",
    "                                                                            'albumin_diag', \n",
    "                                                                            'weight_pct_change']))\n",
    "\n",
    "paloma2_high_x = preprocessor.fit_transform(paloma2_iptw_high.filter(items = ['age',\n",
    "                                                                              'gender',\n",
    "                                                                              'race',\n",
    "                                                                              'p_type',\n",
    "                                                                              'delta_met_diagnosis',\n",
    "                                                                              'met_cat',\n",
    "                                                                              'commercial',\n",
    "                                                                              'medicare',\n",
    "                                                                              'medicaid',\n",
    "                                                                              'ses',\n",
    "                                                                              'ecog_2',\n",
    "                                                                              'met_site', \n",
    "                                                                              'albumin_diag', \n",
    "                                                                              'weight_pct_change']))\n",
    "\n",
    "paloma2_all_x = preprocessor.fit_transform(paloma2_iptw_all.filter(items = ['age',\n",
    "                                                                            'gender',\n",
    "                                                                            'race',\n",
    "                                                                            'p_type',\n",
    "                                                                            'delta_met_diagnosis',\n",
    "                                                                            'met_cat',\n",
    "                                                                            'commercial',\n",
    "                                                                            'medicare',\n",
    "                                                                            'medicaid',\n",
    "                                                                            'ses',\n",
    "                                                                            'ecog_2',\n",
    "                                                                            'met_site', \n",
    "                                                                            'albumin_diag', \n",
    "                                                                            'weight_pct_change']))"
   ]
  },
  {
   "cell_type": "code",
   "execution_count": 167,
   "id": "448d3981",
   "metadata": {},
   "outputs": [
    {
     "data": {
      "text/plain": [
       "LogisticRegression(max_iter=1000)"
      ]
     },
     "execution_count": 167,
     "metadata": {},
     "output_type": "execute_result"
    }
   ],
   "source": [
    "lr_paloma2_low = LogisticRegression(max_iter = 1000)\n",
    "lr_paloma2_low.fit(paloma2_low_x, paloma2_iptw_low['let_palb'])"
   ]
  },
  {
   "cell_type": "code",
   "execution_count": 168,
   "id": "237476d7",
   "metadata": {},
   "outputs": [
    {
     "data": {
      "text/plain": [
       "LogisticRegression(max_iter=1000)"
      ]
     },
     "execution_count": 168,
     "metadata": {},
     "output_type": "execute_result"
    }
   ],
   "source": [
    "lr_paloma2_med = LogisticRegression(max_iter = 1000)\n",
    "lr_paloma2_med.fit(paloma2_med_x, paloma2_iptw_med['let_palb'])"
   ]
  },
  {
   "cell_type": "code",
   "execution_count": 169,
   "id": "35b7b6cc",
   "metadata": {},
   "outputs": [
    {
     "data": {
      "text/plain": [
       "LogisticRegression(max_iter=1000)"
      ]
     },
     "execution_count": 169,
     "metadata": {},
     "output_type": "execute_result"
    }
   ],
   "source": [
    "lr_paloma2_high = LogisticRegression(max_iter = 1000)\n",
    "lr_paloma2_high.fit(paloma2_high_x, paloma2_iptw_high['let_palb'])"
   ]
  },
  {
   "cell_type": "code",
   "execution_count": 170,
   "id": "57af4a4d",
   "metadata": {},
   "outputs": [
    {
     "data": {
      "text/plain": [
       "LogisticRegression(max_iter=1000)"
      ]
     },
     "execution_count": 170,
     "metadata": {},
     "output_type": "execute_result"
    }
   ],
   "source": [
    "lr_paloma2_all = LogisticRegression(max_iter = 1000)\n",
    "lr_paloma2_all.fit(paloma2_all_x, paloma2_iptw_all['let_palb'])"
   ]
  },
  {
   "cell_type": "code",
   "execution_count": 171,
   "id": "c15a79f2",
   "metadata": {},
   "outputs": [],
   "source": [
    "pred_low = lr_paloma2_low.predict_proba(paloma2_low_x)\n",
    "pred_med = lr_paloma2_med.predict_proba(paloma2_med_x)\n",
    "pred_high = lr_paloma2_high.predict_proba(paloma2_high_x)\n",
    "pred_all = lr_paloma2_all.predict_proba(paloma2_all_x)"
   ]
  },
  {
   "cell_type": "code",
   "execution_count": 172,
   "id": "31f02888",
   "metadata": {},
   "outputs": [],
   "source": [
    "paloma2_iptw_low['ps'] = pred_low[:, 1]\n",
    "paloma2_iptw_med['ps'] = pred_med[:, 1]\n",
    "paloma2_iptw_high['ps'] = pred_high[:, 1]\n",
    "paloma2_iptw_all['ps'] = pred_all[:, 1]"
   ]
  },
  {
   "cell_type": "code",
   "execution_count": 173,
   "id": "db597a49",
   "metadata": {},
   "outputs": [],
   "source": [
    "paloma2_iptw_low['weight'] = (\n",
    "    np.where(paloma2_iptw_low['let_palb'] == 1, 1/paloma2_iptw_low['ps'], 1/(1 - paloma2_iptw_low['ps'])))\n",
    "\n",
    "paloma2_iptw_med['weight'] = (\n",
    "    np.where(paloma2_iptw_med['let_palb'] == 1, 1/paloma2_iptw_med['ps'], 1/(1 - paloma2_iptw_med['ps'])))\n",
    "\n",
    "paloma2_iptw_high['weight'] = (\n",
    "    np.where(paloma2_iptw_high['let_palb'] == 1, 1/paloma2_iptw_high['ps'], 1/(1 - paloma2_iptw_high['ps'])))\n",
    "\n",
    "paloma2_iptw_all['weight'] = (\n",
    "    np.where(paloma2_iptw_all['let_palb'] == 1, 1/paloma2_iptw_all['ps'], 1/(1 - paloma2_iptw_all['ps'])))"
   ]
  },
  {
   "cell_type": "code",
   "execution_count": 174,
   "id": "6639d171",
   "metadata": {},
   "outputs": [
    {
     "name": "stderr",
     "output_type": "stream",
     "text": [
      "/Users/xavierorcutt/Dropbox/ist_project/myenv/lib/python3.7/site-packages/lifelines/fitters/kaplan_meier_fitter.py:344: StatisticalWarning: It looks like your weights are not integers, possibly propensity scores then?\n",
      "  It's important to know that the naive variance estimates of the coefficients are biased. Instead use Monte Carlo to\n",
      "  estimate the variances. See paper \"Variance estimation when using inverse probability of treatment weighting (IPTW) with survival analysis\"\n",
      "  or \"Adjusted Kaplan-Meier estimator and log-rank test with inverse probability of treatment weighting for survival data.\"\n",
      "                  \n",
      "  StatisticalWarning,\n"
     ]
    },
    {
     "data": {
      "text/plain": [
       "<lifelines.KaplanMeierFitter:\"KM_estimate\", fitted with 4325.3 total observations, 1035.03 right-censored observations>"
      ]
     },
     "execution_count": 174,
     "metadata": {},
     "output_type": "execute_result"
    }
   ],
   "source": [
    "# Low KM curves\n",
    "kmf_low_plet_paloma2_iptw = KaplanMeierFitter()\n",
    "kmf_low_let_paloma2_iptw = KaplanMeierFitter()\n",
    "\n",
    "kmf_low_plet_paloma2_iptw.fit(\n",
    "    paloma2_iptw_low.query('let_palb == 1').time_prog_treatment/30,\n",
    "    paloma2_iptw_low.query('let_palb == 1').pfs_status,\n",
    "    weights = paloma2_iptw_low.query('let_palb == 1')['weight'])\n",
    "\n",
    "kmf_low_let_paloma2_iptw.fit(\n",
    "    paloma2_iptw_low.query('let_palb == 0').time_prog_treatment/30,\n",
    "    paloma2_iptw_low.query('let_palb == 0').pfs_status,\n",
    "    weights = paloma2_iptw_low.query('let_palb == 0')['weight'])\n",
    "\n",
    "# Med KM curves\n",
    "kmf_med_plet_paloma2_iptw = KaplanMeierFitter()\n",
    "kmf_med_let_paloma2_iptw = KaplanMeierFitter()\n",
    "\n",
    "kmf_med_plet_paloma2_iptw.fit(\n",
    "    paloma2_iptw_med.query('let_palb == 1').time_prog_treatment/30,\n",
    "    paloma2_iptw_med.query('let_palb == 1').pfs_status,\n",
    "    weights = paloma2_iptw_med.query('let_palb == 1')['weight'])\n",
    "\n",
    "kmf_med_let_paloma2_iptw.fit(\n",
    "    paloma2_iptw_med.query('let_palb == 0').time_prog_treatment/30,\n",
    "    paloma2_iptw_med.query('let_palb == 0').pfs_status,\n",
    "    weights = paloma2_iptw_med.query('let_palb == 0')['weight'])\n",
    "\n",
    "# High KM curves \n",
    "kmf_high_plet_paloma2_iptw = KaplanMeierFitter()\n",
    "kmf_high_let_paloma2_iptw = KaplanMeierFitter()\n",
    "\n",
    "kmf_high_plet_paloma2_iptw.fit(\n",
    "    paloma2_iptw_high.query('let_palb == 1').time_prog_treatment/30,\n",
    "    paloma2_iptw_high.query('let_palb == 1').pfs_status,\n",
    "    weights = paloma2_iptw_high.query('let_palb == 1')['weight'])\n",
    "\n",
    "kmf_high_let_paloma2_iptw.fit(\n",
    "    paloma2_iptw_high.query('let_palb == 0').time_prog_treatment/30,\n",
    "    paloma2_iptw_high.query('let_palb == 0').pfs_status,\n",
    "    weights = paloma2_iptw_high.query('let_palb == 0')['weight'])\n",
    "\n",
    "# All KM curves \n",
    "kmf_all_plet_paloma2_iptw = KaplanMeierFitter()\n",
    "kmf_all_let_paloma2_iptw = KaplanMeierFitter()\n",
    "\n",
    "kmf_all_plet_paloma2_iptw.fit(\n",
    "    paloma2_iptw_all.query('let_palb == 1').time_prog_treatment/30,\n",
    "    paloma2_iptw_all.query('let_palb == 1').pfs_status,\n",
    "    weights = paloma2_iptw_all.query('let_palb == 1')['weight'])\n",
    "\n",
    "kmf_all_let_paloma2_iptw.fit(\n",
    "    paloma2_iptw_all.query('let_palb == 0').time_prog_treatment/30,\n",
    "    paloma2_iptw_all.query('let_palb == 0').pfs_status,\n",
    "    weights = paloma2_iptw_all.query('let_palb == 0')['weight'])"
   ]
  },
  {
   "cell_type": "code",
   "execution_count": 175,
   "id": "8f6288ec",
   "metadata": {},
   "outputs": [
    {
     "data": {
      "image/png": "[encoded data removed]",
      "text/plain": [
       "<Figure size 1800x600 with 5 Axes>"
      ]
     },
     "metadata": {},
     "output_type": "display_data"
    }
   ],
   "source": [
    "fig = plt.figure(figsize=(18, 6))\n",
    "\n",
    "# Plot survival curves for low risk group \n",
    "plt.subplot(1, 4, 1)\n",
    "\n",
    "plt.step(kmf_low_plet_paloma2_iptw.timeline, kmf_low_plet_paloma2_iptw.survival_function_.values*100, color = 'red', alpha = 0.5)\n",
    "\n",
    "plt.step(kmf_low_let_paloma2_iptw.timeline, kmf_low_let_paloma2_iptw.survival_function_.values*100, color = 'black', alpha = 0.5)\n",
    "\n",
    "plt.xticks(np.arange(0, 43, 6))\n",
    "plt.xlim(0, 43)\n",
    "plt.ylim(0, 100)\n",
    "\n",
    "plt.title('Low-risk', weight = 'bold')\n",
    "plt.ylabel('PFS (%)', size = 12, weight = 'bold')\n",
    "\n",
    "plt.gca().spines['top'].set_visible(False)\n",
    "plt.gca().spines['right'].set_visible(False)\n",
    "\n",
    "# Plot survival curves for med risk group. \n",
    "plt.subplot(1, 4, 2)\n",
    "\n",
    "plt.step(kmf_med_plet_paloma2_iptw.timeline, kmf_med_plet_paloma2_iptw.survival_function_.values*100, color = 'red', alpha = 0.5)\n",
    "\n",
    "plt.step(kmf_med_let_paloma2_iptw.timeline, kmf_med_let_paloma2_iptw.survival_function_.values*100, color = 'black', alpha = 0.5)\n",
    "\n",
    "plt.xticks(np.arange(0, 43, 6))\n",
    "plt.xlim(0, 43)\n",
    "plt.ylim(0, 100)\n",
    "\n",
    "plt.title('Med-risk', weight = 'bold')\n",
    "\n",
    "plt.gca().spines['top'].set_visible(False)\n",
    "plt.gca().spines['right'].set_visible(False)\n",
    "\n",
    "# Plot survival curves by treatment for high risk group. \n",
    "plt.subplot(1, 4, 3)\n",
    "\n",
    "plt.step(kmf_high_plet_paloma2_iptw.timeline, kmf_high_plet_paloma2_iptw.survival_function_.values*100, color = 'red', alpha = 0.5)\n",
    "\n",
    "plt.step(kmf_high_let_paloma2_iptw.timeline, kmf_high_let_paloma2_iptw.survival_function_.values*100, color = 'black', alpha = 0.5)\n",
    "\n",
    "plt.xticks(np.arange(0, 43, 6))\n",
    "plt.xlim(0, 43)\n",
    "plt.ylim(0, 100)\n",
    "\n",
    "plt.title('High-risk', weight = 'bold')\n",
    "\n",
    "plt.gca().spines['top'].set_visible(False)\n",
    "plt.gca().spines['right'].set_visible(False)\n",
    "\n",
    "# Plot survival curves by treatment for all risk group. \n",
    "plt.subplot(1, 4, 4)\n",
    "\n",
    "plt.step(kmf_all_plet_paloma2_iptw.timeline, kmf_all_plet_paloma2_iptw.survival_function_.values*100, color = 'red', alpha = 0.5, label = 'Palbociclib + letrozole')\n",
    "\n",
    "plt.step(kmf_all_let_paloma2_iptw.timeline, kmf_all_let_paloma2_iptw.survival_function_.values*100, color = 'black', alpha = 0.5, label = 'Letrozole')\n",
    "\n",
    "plt.xticks(np.arange(0, 43, 6))\n",
    "plt.xlim(0, 43)\n",
    "plt.ylim(0, 100)\n",
    "\n",
    "plt.title('Full cohort', weight = 'bold')\n",
    "\n",
    "plt.gca().spines['top'].set_visible(False)\n",
    "plt.gca().spines['right'].set_visible(False)\n",
    "\n",
    "plt.legend(loc = 'upper right', prop = {'size': 9})\n",
    "\n",
    "fig.add_subplot(1, 1, 1, frameon = False)\n",
    "plt.tick_params(labelcolor = 'none', which = 'both', top = False, bottom = False, left = False, right = False)\n",
    "plt.xlabel('Months after treatment', labelpad = 15, size = 12, weight = 'bold')\n",
    "plt.title('PALOMA-2: PFS for palbociclib and letrozoe vs. letrozole for ER+/HER2- metastatic breast cancer', pad = 40, size = 15, weight = 'bold')\n",
    "\n",
    "plt.show()"
   ]
  },
  {
   "cell_type": "markdown",
   "id": "848db495",
   "metadata": {},
   "source": [
    "### PALOMA-3: palbociclib plus fulvestrant vs. fulvestrant in hormone-sensitive metastatic breast cancer that had previously progressed on endocrine therapy\n",
    "\n",
    "**INCLUSION**\n",
    "* Received first line estrogen therapy +/ one line of chemotherapy \n",
    "* Received second (or third) line palbociclib plus fulvestrant or fulvestrant alone \n",
    "* Did not receive CDK 4/6 inhibitor, fulvestrant, or everolimus in earlier lines\n",
    "* ER/PR positive and HER-2 negative within (-inf, +30] days of start of treatment\n",
    "* No relevant comorbidities in the year preceding metastatic diagnosis \n",
    "* No CNS metastasis at time of treatment \n",
    "* ECOG cannot be 2, 3, or 4 at time of treatment \n",
    "* Adequate organ function at time of treatment "
   ]
  },
  {
   "cell_type": "markdown",
   "id": "321b64d4",
   "metadata": {},
   "source": [
    "#### 1. First line endorcine therapy + chemotherapy, second line fulvestrant +/- palbociclib"
   ]
  },
  {
   "cell_type": "code",
   "execution_count": 176,
   "id": "eebbca51",
   "metadata": {
    "scrolled": true
   },
   "outputs": [
    {
     "data": {
      "text/plain": [
       "31677"
      ]
     },
     "execution_count": 176,
     "metadata": {},
     "output_type": "execute_result"
    }
   ],
   "source": [
    "df_full = pd.read_csv('df_risk_crude.csv', index_col = 'PatientID', dtype = {'death_status': bool})\n",
    "df_full.index.nunique()"
   ]
  },
  {
   "cell_type": "code",
   "execution_count": 177,
   "id": "0abbe97e",
   "metadata": {},
   "outputs": [],
   "source": [
    "line_therapy = pd.read_csv('LineOfTherapy.csv')"
   ]
  },
  {
   "cell_type": "code",
   "execution_count": 178,
   "id": "f0bcf788",
   "metadata": {},
   "outputs": [],
   "source": [
    "line_therapy_fl = (\n",
    "    line_therapy[line_therapy['PatientID'].isin(df_full.index)]\n",
    "    .query('LineNumber == 1'))"
   ]
  },
  {
   "cell_type": "code",
   "execution_count": 179,
   "id": "f8c75cd4",
   "metadata": {},
   "outputs": [],
   "source": [
    "et = [\n",
    "    'Anastrozole',\n",
    "    'Letrozole',\n",
    "    'Exemestane',\n",
    "    'Tamoxifen',\n",
    "    'Leuprolide',\n",
    "    'Goserelin',\n",
    "    'Triptorelin',\n",
    "    'Buserelin']\n",
    "\n",
    "chemo = [\n",
    "    'Capecitabine',\n",
    "    'Carboplatin',\n",
    "    'Cyclophosphamide',\n",
    "    'Docetaxel',\n",
    "    'Eribulin',\n",
    "    'Gemcitabine',\n",
    "    'Paclitaxel',\n",
    "    'Paclitaxel Protein-Bound',\n",
    "    'Vinorelbine']\n",
    "\n",
    "exc =[\n",
    "    'Abemaciclib',\n",
    "    'Palbociclib',\n",
    "    'Ribociclib',\n",
    "    'Fulvestrant',\n",
    "    'Everolimus',\n",
    "    'Clinical Study Drug']"
   ]
  },
  {
   "cell_type": "code",
   "execution_count": 180,
   "id": "b8e94e0d",
   "metadata": {},
   "outputs": [
    {
     "data": {
      "text/plain": [
       "Capecitabine,Letrozole                        31\n",
       "Anastrozole,Capecitabine                      25\n",
       "Anastrozole,Paclitaxel                        18\n",
       "Letrozole,Paclitaxel Protein-Bound            17\n",
       "Anastrozole,Paclitaxel Protein-Bound          14\n",
       "Capecitabine,Tamoxifen                        14\n",
       "Capecitabine,Exemestane                       13\n",
       "Letrozole,Paclitaxel                          13\n",
       "Docetaxel,Letrozole,Pertuzumab,Trastuzumab    11\n",
       "Paclitaxel,Tamoxifen                          11\n",
       "Name: LineName, dtype: int64"
      ]
     },
     "execution_count": 180,
     "metadata": {},
     "output_type": "execute_result"
    }
   ],
   "source": [
    "line_therapy_fl[line_therapy_fl['LineName'].str.contains('|'.join(et)) \n",
    "                & line_therapy_fl['LineName'].str.contains('|'.join(chemo))\n",
    "                & ~line_therapy_fl['LineName'].str.contains('|'.join(exc))].LineName.value_counts().head(10)"
   ]
  },
  {
   "cell_type": "code",
   "execution_count": 181,
   "id": "34b6f191",
   "metadata": {},
   "outputs": [],
   "source": [
    "etchemo_id = (\n",
    "    line_therapy_fl\n",
    "    [line_therapy_fl['LineName'].str.contains('|'.join(et))\n",
    "     & line_therapy_fl['LineName'].str.contains('|'.join(chemo))\n",
    "     & ~line_therapy_fl['LineName'].str.contains('|'.join(exc))]\n",
    "    .PatientID\n",
    ")"
   ]
  },
  {
   "cell_type": "code",
   "execution_count": 182,
   "id": "029d64da",
   "metadata": {},
   "outputs": [],
   "source": [
    "line_therapy_sec = (\n",
    "    line_therapy[line_therapy['PatientID'].isin(etchemo_id)]\n",
    "    .query('LineNumber == 2'))"
   ]
  },
  {
   "cell_type": "code",
   "execution_count": 183,
   "id": "991ef241",
   "metadata": {},
   "outputs": [],
   "source": [
    "etchemo_pf = (\n",
    "    line_therapy_sec\n",
    "    .query('LineName == \"Fulvestrant,Palbociclib\"')\n",
    "    [['PatientID', 'StartDate']]\n",
    ")"
   ]
  },
  {
   "cell_type": "code",
   "execution_count": 184,
   "id": "26a25e06",
   "metadata": {},
   "outputs": [
    {
     "data": {
      "text/plain": [
       "(16, 16)"
      ]
     },
     "execution_count": 184,
     "metadata": {},
     "output_type": "execute_result"
    }
   ],
   "source": [
    "row_ID(etchemo_pf)"
   ]
  },
  {
   "cell_type": "code",
   "execution_count": 185,
   "id": "239ad6cf",
   "metadata": {},
   "outputs": [],
   "source": [
    "etchemo_f = (\n",
    "    line_therapy_sec\n",
    "    .query('LineName == \"Fulvestrant\"')\n",
    "    [['PatientID', 'StartDate']]\n",
    ")"
   ]
  },
  {
   "cell_type": "code",
   "execution_count": 186,
   "id": "88e6e841",
   "metadata": {},
   "outputs": [
    {
     "data": {
      "text/plain": [
       "(16, 16)"
      ]
     },
     "execution_count": 186,
     "metadata": {},
     "output_type": "execute_result"
    }
   ],
   "source": [
    "row_ID(etchemo_pf)"
   ]
  },
  {
   "cell_type": "markdown",
   "id": "c1b5752f",
   "metadata": {},
   "source": [
    "#### 2. First line endocrine therapy,  second line chemotherapy, third line palbociclib + fulvestrant"
   ]
  },
  {
   "cell_type": "code",
   "execution_count": 187,
   "id": "9021573e",
   "metadata": {},
   "outputs": [
    {
     "data": {
      "text/plain": [
       "Anastrozole                2943\n",
       "Letrozole                  2536\n",
       "Tamoxifen                  1305\n",
       "Exemestane                  780\n",
       "Leuprolide                   77\n",
       "Anastrozole,Trastuzumab      66\n",
       "Goserelin                    60\n",
       "Letrozole,Trastuzumab        59\n",
       "Leuprolide,Tamoxifen         56\n",
       "Letrozole,Leuprolide         40\n",
       "Name: LineName, dtype: int64"
      ]
     },
     "execution_count": 187,
     "metadata": {},
     "output_type": "execute_result"
    }
   ],
   "source": [
    "line_therapy_fl[line_therapy_fl['LineName'].str.contains('|'.join(et)) \n",
    "                & ~line_therapy_fl['LineName'].str.contains('|'.join(chemo))\n",
    "                & ~line_therapy_fl['LineName'].str.contains('|'.join(exc))].LineName.value_counts().head(10)"
   ]
  },
  {
   "cell_type": "code",
   "execution_count": 188,
   "id": "ba5bf6d1",
   "metadata": {},
   "outputs": [],
   "source": [
    "et_id = (\n",
    "    line_therapy_fl\n",
    "    [line_therapy_fl['LineName'].str.contains('|'.join(et))\n",
    "     & ~line_therapy_fl['LineName'].str.contains('|'.join(chemo))\n",
    "     & ~line_therapy_fl['LineName'].str.contains('|'.join(exc))]\n",
    "    .PatientID\n",
    ")"
   ]
  },
  {
   "cell_type": "code",
   "execution_count": 189,
   "id": "28248827",
   "metadata": {},
   "outputs": [],
   "source": [
    "line_therapy_sec = (\n",
    "    line_therapy[line_therapy['PatientID'].isin(et_id)]\n",
    "    .query('LineNumber == 2')\n",
    ")"
   ]
  },
  {
   "cell_type": "code",
   "execution_count": 190,
   "id": "7eba84ae",
   "metadata": {},
   "outputs": [],
   "source": [
    "et_chemo_id = (\n",
    "    line_therapy_sec\n",
    "    [line_therapy_sec['LineName'].str.contains('|'.join(chemo))\n",
    "     & ~line_therapy_sec['LineName'].str.contains('|'.join(exc))]\n",
    "    .PatientID\n",
    ")"
   ]
  },
  {
   "cell_type": "code",
   "execution_count": 191,
   "id": "ea74bbd5",
   "metadata": {},
   "outputs": [],
   "source": [
    "et_chemo_pf = (\n",
    "    line_therapy[line_therapy['PatientID'].isin(et_chemo_id)]\n",
    "    .query('LineNumber == 3')\n",
    "    .query('LineName == \"Fulvestrant,Palbociclib\"')\n",
    "    [['PatientID', 'StartDate']]\n",
    ")"
   ]
  },
  {
   "cell_type": "code",
   "execution_count": 192,
   "id": "cf4576f9",
   "metadata": {},
   "outputs": [
    {
     "data": {
      "text/plain": [
       "(34, 34)"
      ]
     },
     "execution_count": 192,
     "metadata": {},
     "output_type": "execute_result"
    }
   ],
   "source": [
    "row_ID(et_chemo_pf)"
   ]
  },
  {
   "cell_type": "code",
   "execution_count": 193,
   "id": "936c0ada",
   "metadata": {},
   "outputs": [],
   "source": [
    "et_chemo_f = (\n",
    "    line_therapy[line_therapy['PatientID'].isin(et_chemo_id)]\n",
    "    .query('LineNumber == 3')\n",
    "    .query('LineName == \"Fulvestrant\"')\n",
    "    [['PatientID', 'StartDate']]\n",
    ")"
   ]
  },
  {
   "cell_type": "code",
   "execution_count": 194,
   "id": "9f1e5981",
   "metadata": {},
   "outputs": [
    {
     "data": {
      "text/plain": [
       "(57, 57)"
      ]
     },
     "execution_count": 194,
     "metadata": {},
     "output_type": "execute_result"
    }
   ],
   "source": [
    "row_ID(et_chemo_f)"
   ]
  },
  {
   "cell_type": "markdown",
   "id": "7fed99f9",
   "metadata": {},
   "source": [
    "#### 3. First line chemotherapy, second line endocrine therapy, third line palbociclib + fulvestrant"
   ]
  },
  {
   "cell_type": "code",
   "execution_count": 195,
   "id": "d0517371",
   "metadata": {},
   "outputs": [
    {
     "data": {
      "text/plain": [
       "Capecitabine                             1324\n",
       "Cyclophosphamide,Doxorubicin              690\n",
       "Docetaxel,Pertuzumab,Trastuzumab          676\n",
       "Paclitaxel                                589\n",
       "Paclitaxel Protein-Bound                  584\n",
       "Carboplatin,Gemcitabine                   407\n",
       "Paclitaxel,Pertuzumab,Trastuzumab         289\n",
       "Eribulin                                  261\n",
       "Carboplatin,Paclitaxel                    250\n",
       "Atezolizumab,Paclitaxel Protein-Bound     226\n",
       "Name: LineName, dtype: int64"
      ]
     },
     "execution_count": 195,
     "metadata": {},
     "output_type": "execute_result"
    }
   ],
   "source": [
    "line_therapy_fl[line_therapy_fl['LineName'].str.contains('|'.join(chemo)) \n",
    "                & ~line_therapy_fl['LineName'].str.contains('|'.join(et))\n",
    "                & ~line_therapy_fl['LineName'].str.contains('|'.join(exc))].LineName.value_counts().head(10)"
   ]
  },
  {
   "cell_type": "code",
   "execution_count": 196,
   "id": "3a09f6d6",
   "metadata": {},
   "outputs": [],
   "source": [
    "chemo_id = (\n",
    "    line_therapy_fl\n",
    "    [line_therapy_fl['LineName'].str.contains('|'.join(chemo))\n",
    "     & ~line_therapy_fl['LineName'].str.contains('|'.join(et))\n",
    "     & ~line_therapy_fl['LineName'].str.contains('|'.join(exc))]\n",
    "    .PatientID\n",
    ")"
   ]
  },
  {
   "cell_type": "code",
   "execution_count": 197,
   "id": "190d4b7c",
   "metadata": {},
   "outputs": [],
   "source": [
    "line_therapy_sec = (\n",
    "    line_therapy[line_therapy['PatientID'].isin(chemo_id)]\n",
    "    .query('LineNumber == 2')\n",
    ")"
   ]
  },
  {
   "cell_type": "code",
   "execution_count": 198,
   "id": "197e4ddc",
   "metadata": {},
   "outputs": [],
   "source": [
    "chemo_et_id = (\n",
    "    line_therapy_sec\n",
    "    [line_therapy_sec['LineName'].str.contains('|'.join(et))\n",
    "     & ~line_therapy_sec['LineName'].str.contains('|'.join(exc))]\n",
    "    .PatientID\n",
    ")"
   ]
  },
  {
   "cell_type": "code",
   "execution_count": 199,
   "id": "333ad518",
   "metadata": {},
   "outputs": [],
   "source": [
    "chemo_et_pf = (\n",
    "    line_therapy[line_therapy['PatientID'].isin(chemo_et_id)]\n",
    "    .query('LineNumber == 3')\n",
    "    .query('LineName == \"Fulvestrant,Palbociclib\"')\n",
    "    [['PatientID', 'StartDate']]\n",
    ")"
   ]
  },
  {
   "cell_type": "code",
   "execution_count": 200,
   "id": "fbc3dfc4",
   "metadata": {},
   "outputs": [
    {
     "data": {
      "text/plain": [
       "(39, 39)"
      ]
     },
     "execution_count": 200,
     "metadata": {},
     "output_type": "execute_result"
    }
   ],
   "source": [
    "row_ID(chemo_et_pf)"
   ]
  },
  {
   "cell_type": "code",
   "execution_count": 201,
   "id": "0a3aef9f",
   "metadata": {},
   "outputs": [],
   "source": [
    "chemo_et_f = (\n",
    "    line_therapy[line_therapy['PatientID'].isin(chemo_et_id)]\n",
    "    .query('LineNumber == 3')\n",
    "    .query('LineName == \"Fulvestrant\"')\n",
    "    [['PatientID', 'StartDate']]\n",
    ")"
   ]
  },
  {
   "cell_type": "code",
   "execution_count": 202,
   "id": "be2be13a",
   "metadata": {},
   "outputs": [
    {
     "data": {
      "text/plain": [
       "(43, 43)"
      ]
     },
     "execution_count": 202,
     "metadata": {},
     "output_type": "execute_result"
    }
   ],
   "source": [
    "row_ID(chemo_et_f)"
   ]
  },
  {
   "cell_type": "markdown",
   "id": "5c867fde",
   "metadata": {},
   "source": [
    "#### 4. First line endocrine therapy, second line palbociclib + fulvestrant"
   ]
  },
  {
   "cell_type": "code",
   "execution_count": 203,
   "id": "ec714a10",
   "metadata": {},
   "outputs": [],
   "source": [
    "et_pf = (\n",
    "    line_therapy[line_therapy['PatientID'].isin(et_id)]\n",
    "    .query('LineNumber == 2')\n",
    "    .query('LineName == \"Fulvestrant,Palbociclib\"')\n",
    "    [['PatientID', 'StartDate']]\n",
    ")"
   ]
  },
  {
   "cell_type": "code",
   "execution_count": 204,
   "id": "4e6f26cc",
   "metadata": {},
   "outputs": [
    {
     "data": {
      "text/plain": [
       "(440, 440)"
      ]
     },
     "execution_count": 204,
     "metadata": {},
     "output_type": "execute_result"
    }
   ],
   "source": [
    "row_ID(et_pf)"
   ]
  },
  {
   "cell_type": "code",
   "execution_count": 205,
   "id": "b3179665",
   "metadata": {},
   "outputs": [],
   "source": [
    "et_f = (\n",
    "    line_therapy[line_therapy['PatientID'].isin(et_id)]\n",
    "    .query('LineNumber == 2')\n",
    "    .query('LineName == \"Fulvestrant\"')\n",
    "    [['PatientID', 'StartDate']]\n",
    ")"
   ]
  },
  {
   "cell_type": "code",
   "execution_count": 206,
   "id": "184de287",
   "metadata": {},
   "outputs": [
    {
     "data": {
      "text/plain": [
       "(786, 786)"
      ]
     },
     "execution_count": 206,
     "metadata": {},
     "output_type": "execute_result"
    }
   ],
   "source": [
    "row_ID(et_f)"
   ]
  },
  {
   "cell_type": "code",
   "execution_count": 207,
   "id": "43142d84",
   "metadata": {},
   "outputs": [],
   "source": [
    "paloma3_pf = pd.concat([etchemo_pf, et_chemo_pf, chemo_et_pf, et_pf])"
   ]
  },
  {
   "cell_type": "code",
   "execution_count": 208,
   "id": "b9c2c7c5",
   "metadata": {},
   "outputs": [],
   "source": [
    "paloma3_pf.loc[:, 'pfulv'] = 1"
   ]
  },
  {
   "cell_type": "code",
   "execution_count": 209,
   "id": "f9fab495",
   "metadata": {},
   "outputs": [
    {
     "data": {
      "text/plain": [
       "(529, 529)"
      ]
     },
     "execution_count": 209,
     "metadata": {},
     "output_type": "execute_result"
    }
   ],
   "source": [
    "row_ID(paloma3_pf)"
   ]
  },
  {
   "cell_type": "code",
   "execution_count": 210,
   "id": "f9cb87c9",
   "metadata": {},
   "outputs": [],
   "source": [
    "paloma3_f = pd.concat([etchemo_f, et_chemo_f, chemo_et_f, et_f])"
   ]
  },
  {
   "cell_type": "code",
   "execution_count": 211,
   "id": "0e6c2c5c",
   "metadata": {},
   "outputs": [],
   "source": [
    "paloma3_f.loc[:, 'pfulv'] = 0"
   ]
  },
  {
   "cell_type": "code",
   "execution_count": 212,
   "id": "b88db487",
   "metadata": {},
   "outputs": [
    {
     "data": {
      "text/plain": [
       "(902, 902)"
      ]
     },
     "execution_count": 212,
     "metadata": {},
     "output_type": "execute_result"
    }
   ],
   "source": [
    "row_ID(paloma3_f)"
   ]
  },
  {
   "cell_type": "code",
   "execution_count": 213,
   "id": "14593684",
   "metadata": {},
   "outputs": [],
   "source": [
    "paloma3 = pd.concat([paloma3_pf, paloma3_f])"
   ]
  },
  {
   "cell_type": "code",
   "execution_count": 214,
   "id": "bd2043ed",
   "metadata": {},
   "outputs": [
    {
     "data": {
      "text/plain": [
       "(1431, 1431)"
      ]
     },
     "execution_count": 214,
     "metadata": {},
     "output_type": "execute_result"
    }
   ],
   "source": [
    "row_ID(paloma3)"
   ]
  },
  {
   "cell_type": "code",
   "execution_count": 215,
   "id": "886dbf8b",
   "metadata": {},
   "outputs": [],
   "source": [
    "paloma3 = pd.merge(paloma3, df_full, on = 'PatientID', how = 'left')"
   ]
  },
  {
   "cell_type": "code",
   "execution_count": 216,
   "id": "de5cd925",
   "metadata": {},
   "outputs": [
    {
     "data": {
      "text/plain": [
       "(1431, 1431)"
      ]
     },
     "execution_count": 216,
     "metadata": {},
     "output_type": "execute_result"
    }
   ],
   "source": [
    "row_ID(paloma3)"
   ]
  },
  {
   "cell_type": "code",
   "execution_count": 217,
   "id": "39d9b6a4",
   "metadata": {},
   "outputs": [],
   "source": [
    "paloma3['StartDate'] = pd.to_datetime(paloma3['StartDate'])"
   ]
  },
  {
   "cell_type": "markdown",
   "id": "5fffa5b1",
   "metadata": {},
   "source": [
    "#### ER- or PR-positive and HER-2 negative "
   ]
  },
  {
   "cell_type": "code",
   "execution_count": 218,
   "id": "d3918ac0",
   "metadata": {},
   "outputs": [],
   "source": [
    "biomarkers = pd.read_csv('Enhanced_MetBreastBiomarkers.csv')"
   ]
  },
  {
   "cell_type": "code",
   "execution_count": 219,
   "id": "feb31123",
   "metadata": {},
   "outputs": [],
   "source": [
    "biomarkers = biomarkers[biomarkers['PatientID'].isin(paloma3['PatientID'])]"
   ]
  },
  {
   "cell_type": "code",
   "execution_count": 220,
   "id": "07fef3fb",
   "metadata": {},
   "outputs": [
    {
     "data": {
      "text/plain": [
       "(10689, 1426)"
      ]
     },
     "execution_count": 220,
     "metadata": {},
     "output_type": "execute_result"
    }
   ],
   "source": [
    "row_ID(biomarkers)"
   ]
  },
  {
   "cell_type": "code",
   "execution_count": 221,
   "id": "cad10f76",
   "metadata": {},
   "outputs": [],
   "source": [
    "biomarkers = pd.merge(biomarkers, paloma3[['PatientID', 'StartDate']], on = 'PatientID', how = 'left')"
   ]
  },
  {
   "cell_type": "code",
   "execution_count": 222,
   "id": "60eca360",
   "metadata": {},
   "outputs": [
    {
     "data": {
      "text/plain": [
       "(10689, 1426)"
      ]
     },
     "execution_count": 222,
     "metadata": {},
     "output_type": "execute_result"
    }
   ],
   "source": [
    "row_ID(biomarkers)"
   ]
  },
  {
   "cell_type": "code",
   "execution_count": 223,
   "id": "6faac8f5",
   "metadata": {},
   "outputs": [],
   "source": [
    "biomarkers['StartDate'] = pd.to_datetime(biomarkers['StartDate'])"
   ]
  },
  {
   "cell_type": "code",
   "execution_count": 224,
   "id": "74d03729",
   "metadata": {},
   "outputs": [],
   "source": [
    "biomarkers['ResultDate'] = pd.to_datetime(biomarkers['ResultDate'])"
   ]
  },
  {
   "cell_type": "code",
   "execution_count": 225,
   "id": "b2e44110",
   "metadata": {},
   "outputs": [],
   "source": [
    "biomarkers['SpecimenReceivedDate'] = pd.to_datetime(biomarkers['SpecimenReceivedDate'])"
   ]
  },
  {
   "cell_type": "code",
   "execution_count": 226,
   "id": "f622a776",
   "metadata": {},
   "outputs": [],
   "source": [
    "biomarkers.loc[:, 'result_date'] = (\n",
    "    np.where(biomarkers['ResultDate'].isna(), biomarkers['SpecimenReceivedDate'], biomarkers['ResultDate'])\n",
    ")"
   ]
  },
  {
   "cell_type": "code",
   "execution_count": 227,
   "id": "49b7e1f5",
   "metadata": {},
   "outputs": [],
   "source": [
    "biomarkers.loc[:, 'date_diff'] = (biomarkers['result_date'] - biomarkers['StartDate']).dt.days"
   ]
  },
  {
   "cell_type": "code",
   "execution_count": 228,
   "id": "dcab028d",
   "metadata": {},
   "outputs": [],
   "source": [
    "er_status = (\n",
    "    biomarkers\n",
    "    .query('BiomarkerName == \"ER\"')\n",
    "    .query('date_diff <= 30')\n",
    "    .query('BiomarkerStatus == \"Positive\" or BiomarkerStatus == \"Negative\"') # don't select unknown values \n",
    "    .sort_values(['PatientID', 'date_diff'], ascending = [True, False]) # select ER status closest to treatment start\n",
    "    .drop_duplicates(subset = ['PatientID'], keep = 'first')\n",
    "    [['PatientID', 'BiomarkerStatus']]\n",
    "    .rename(columns = {'BiomarkerStatus': 'er'})\n",
    "   )"
   ]
  },
  {
   "cell_type": "code",
   "execution_count": 229,
   "id": "6d578b5d",
   "metadata": {},
   "outputs": [
    {
     "data": {
      "text/plain": [
       "(1293, 1293)"
      ]
     },
     "execution_count": 229,
     "metadata": {},
     "output_type": "execute_result"
    }
   ],
   "source": [
    "row_ID(er_status)"
   ]
  },
  {
   "cell_type": "code",
   "execution_count": 230,
   "id": "5168c713",
   "metadata": {},
   "outputs": [],
   "source": [
    "pr_status = (\n",
    "    biomarkers\n",
    "    .query('BiomarkerName == \"PR\"')\n",
    "    .query('date_diff <= 30')\n",
    "    .query('BiomarkerStatus == \"Positive\" or BiomarkerStatus == \"Negative\"') # don't select unknown values \n",
    "    .sort_values(['PatientID', 'date_diff'], ascending = [True, False]) # select ER status closest to treatment start\n",
    "    .drop_duplicates(subset = ['PatientID'], keep = 'first')\n",
    "    [['PatientID', 'BiomarkerStatus']]\n",
    "    .rename(columns = {'BiomarkerStatus': 'pr'})\n",
    "   )"
   ]
  },
  {
   "cell_type": "code",
   "execution_count": 231,
   "id": "cbcdb9f2",
   "metadata": {},
   "outputs": [
    {
     "data": {
      "text/plain": [
       "(1253, 1253)"
      ]
     },
     "execution_count": 231,
     "metadata": {},
     "output_type": "execute_result"
    }
   ],
   "source": [
    "row_ID(pr_status)"
   ]
  },
  {
   "cell_type": "code",
   "execution_count": 232,
   "id": "535e9300",
   "metadata": {},
   "outputs": [],
   "source": [
    "her2_status = (\n",
    "    biomarkers\n",
    "    .query('BiomarkerName == \"HER2\"')\n",
    "    .query('date_diff <= 30')\n",
    "    .sort_values(['PatientID', 'date_diff'], ascending = [True, False])\n",
    "    .drop_duplicates(subset = ['PatientID'], keep = 'first')\n",
    "    [['PatientID', 'BiomarkerStatus']]\n",
    "    .rename(columns = {'BiomarkerStatus': 'her2'})\n",
    ")"
   ]
  },
  {
   "cell_type": "code",
   "execution_count": 233,
   "id": "b6626226",
   "metadata": {},
   "outputs": [
    {
     "data": {
      "text/plain": [
       "(1245, 1245)"
      ]
     },
     "execution_count": 233,
     "metadata": {},
     "output_type": "execute_result"
    }
   ],
   "source": [
    "row_ID(her2_status)"
   ]
  },
  {
   "cell_type": "code",
   "execution_count": 234,
   "id": "ad442d8e",
   "metadata": {},
   "outputs": [],
   "source": [
    "paloma3 = pd.merge(paloma3, er_status, on  = 'PatientID', how = 'left')"
   ]
  },
  {
   "cell_type": "code",
   "execution_count": 235,
   "id": "27e272e5",
   "metadata": {},
   "outputs": [
    {
     "data": {
      "text/plain": [
       "(1431, 1431)"
      ]
     },
     "execution_count": 235,
     "metadata": {},
     "output_type": "execute_result"
    }
   ],
   "source": [
    "row_ID(paloma3)"
   ]
  },
  {
   "cell_type": "code",
   "execution_count": 236,
   "id": "53ab7b88",
   "metadata": {},
   "outputs": [],
   "source": [
    "paloma3 = pd.merge(paloma3, pr_status, on  = 'PatientID', how = 'left')"
   ]
  },
  {
   "cell_type": "code",
   "execution_count": 237,
   "id": "4aa01ada",
   "metadata": {},
   "outputs": [
    {
     "data": {
      "text/plain": [
       "(1431, 1431)"
      ]
     },
     "execution_count": 237,
     "metadata": {},
     "output_type": "execute_result"
    }
   ],
   "source": [
    "row_ID(paloma3)"
   ]
  },
  {
   "cell_type": "code",
   "execution_count": 238,
   "id": "f5f1132c",
   "metadata": {},
   "outputs": [],
   "source": [
    "paloma3 = pd.merge(paloma3, her2_status, on  = 'PatientID', how = 'left')"
   ]
  },
  {
   "cell_type": "code",
   "execution_count": 239,
   "id": "b5935620",
   "metadata": {},
   "outputs": [
    {
     "data": {
      "text/plain": [
       "(1431, 1431)"
      ]
     },
     "execution_count": 239,
     "metadata": {},
     "output_type": "execute_result"
    }
   ],
   "source": [
    "row_ID(paloma3)"
   ]
  },
  {
   "cell_type": "code",
   "execution_count": 240,
   "id": "5a7d9e58",
   "metadata": {},
   "outputs": [],
   "source": [
    "her2_neg = ['IHC negative (0-1+)',\n",
    "            'FISH negative/not amplified',\n",
    "            'IHC equivocal (2+)',\n",
    "            'Negative NOS',\n",
    "            'NGS negative (ERBB2 not amplified)',\n",
    "            'FISH equivocal',\n",
    "            'Equivocal NOS',\n",
    "            'NGS equivocal (ERBB2 amplification equivocal)']\n",
    "\n",
    "paloma3 = (\n",
    "    paloma3\n",
    "    .query('er == \"Positive\" or pr == \"Positive\"')\n",
    "    .query('her2== @her2_neg')\n",
    ")"
   ]
  },
  {
   "cell_type": "code",
   "execution_count": 241,
   "id": "fcad5f34",
   "metadata": {},
   "outputs": [
    {
     "data": {
      "text/plain": [
       "(1161, 1161)"
      ]
     },
     "execution_count": 241,
     "metadata": {},
     "output_type": "execute_result"
    }
   ],
   "source": [
    "row_ID(paloma3)"
   ]
  },
  {
   "cell_type": "markdown",
   "id": "12b29aec",
   "metadata": {},
   "source": [
    "#### Time from treatment to progression/death or censor "
   ]
  },
  {
   "cell_type": "code",
   "execution_count": 242,
   "id": "a1f944f2",
   "metadata": {},
   "outputs": [],
   "source": [
    "mortality_tr = pd.read_csv('mortality_cleaned_tr.csv')"
   ]
  },
  {
   "cell_type": "code",
   "execution_count": 243,
   "id": "73e96dee",
   "metadata": {},
   "outputs": [],
   "source": [
    "mortality_te = pd.read_csv('mortality_cleaned_te.csv')"
   ]
  },
  {
   "cell_type": "code",
   "execution_count": 244,
   "id": "7107d4d7",
   "metadata": {},
   "outputs": [],
   "source": [
    "mortality_tr = mortality_tr[['PatientID', 'death_date', 'last_activity']]"
   ]
  },
  {
   "cell_type": "code",
   "execution_count": 245,
   "id": "99d01ea6",
   "metadata": {},
   "outputs": [],
   "source": [
    "mortality_te = mortality_te[['PatientID', 'death_date', 'last_activity']]"
   ]
  },
  {
   "cell_type": "code",
   "execution_count": 246,
   "id": "b47e6410",
   "metadata": {},
   "outputs": [
    {
     "data": {
      "text/plain": [
       "(31677, 31677)"
      ]
     },
     "execution_count": 246,
     "metadata": {},
     "output_type": "execute_result"
    }
   ],
   "source": [
    "mortality = pd.concat([mortality_tr, mortality_te], ignore_index = True)\n",
    "row_ID(mortality)"
   ]
  },
  {
   "cell_type": "code",
   "execution_count": 247,
   "id": "d81125d3",
   "metadata": {},
   "outputs": [],
   "source": [
    "mortality.loc[:, 'last_activity'] = pd.to_datetime(mortality['last_activity'])"
   ]
  },
  {
   "cell_type": "code",
   "execution_count": 248,
   "id": "648acd7b",
   "metadata": {},
   "outputs": [],
   "source": [
    "mortality.loc[:, 'death_date'] = pd.to_datetime(mortality['death_date'])"
   ]
  },
  {
   "cell_type": "code",
   "execution_count": 249,
   "id": "4b314352",
   "metadata": {},
   "outputs": [
    {
     "data": {
      "text/plain": [
       "(31677, 31677)"
      ]
     },
     "execution_count": 249,
     "metadata": {},
     "output_type": "execute_result"
    }
   ],
   "source": [
    "row_ID(mortality)"
   ]
  },
  {
   "cell_type": "code",
   "execution_count": 250,
   "id": "46872fb8",
   "metadata": {},
   "outputs": [],
   "source": [
    "paloma3 = pd.merge(paloma3, mortality, on = 'PatientID', how = 'left')"
   ]
  },
  {
   "cell_type": "code",
   "execution_count": 251,
   "id": "aaab821d",
   "metadata": {},
   "outputs": [
    {
     "data": {
      "text/plain": [
       "(1161, 1161)"
      ]
     },
     "execution_count": 251,
     "metadata": {},
     "output_type": "execute_result"
    }
   ],
   "source": [
    "row_ID(paloma3)"
   ]
  },
  {
   "cell_type": "code",
   "execution_count": 252,
   "id": "2397ae6b",
   "metadata": {},
   "outputs": [],
   "source": [
    "conditions = [\n",
    "    (paloma3['death_status'] == 1),\n",
    "    (paloma3['death_status'] == 0)]\n",
    "\n",
    "choices = [\n",
    "    (paloma3['death_date'] - paloma3['StartDate']).dt.days,\n",
    "    (paloma3['last_activity'] - paloma3['StartDate']).dt.days]\n",
    "\n",
    "paloma3.loc[:, 'timerisk_treatment'] = np.select(conditions, choices)"
   ]
  },
  {
   "cell_type": "code",
   "execution_count": 253,
   "id": "082fd522",
   "metadata": {},
   "outputs": [],
   "source": [
    "paloma3 = paloma3.query('timerisk_treatment >= 0')"
   ]
  },
  {
   "cell_type": "markdown",
   "id": "96cee8d9",
   "metadata": {},
   "source": [
    "#### Patient count "
   ]
  },
  {
   "cell_type": "code",
   "execution_count": 254,
   "id": "612e6311",
   "metadata": {},
   "outputs": [
    {
     "data": {
      "text/plain": [
       "(1161, 1161)"
      ]
     },
     "execution_count": 254,
     "metadata": {},
     "output_type": "execute_result"
    }
   ],
   "source": [
    "row_ID(paloma3)"
   ]
  },
  {
   "cell_type": "code",
   "execution_count": 255,
   "id": "a19d5f98",
   "metadata": {},
   "outputs": [],
   "source": [
    "# Exclude those with CNS metastatsis at time of metastatic diagnosis \n",
    "paloma3 = paloma3[~paloma3['PatientID'].isin(cns_sec_IDs)]"
   ]
  },
  {
   "cell_type": "code",
   "execution_count": 256,
   "id": "f5de4ab6",
   "metadata": {},
   "outputs": [],
   "source": [
    "# Exlcude those with other relevant comorbidities\n",
    "paloma3 = paloma3[~paloma3['PatientID'].isin(other_comorb_IDs)]"
   ]
  },
  {
   "cell_type": "code",
   "execution_count": 257,
   "id": "3a3008f3",
   "metadata": {},
   "outputs": [],
   "source": [
    "# Exclude those with ECOG 2, 3, or 4 \n",
    "paloma3 = paloma3[~paloma3['PatientID'].isin(ecog_sec_234_IDs)]"
   ]
  },
  {
   "cell_type": "code",
   "execution_count": 258,
   "id": "89662631",
   "metadata": {},
   "outputs": [],
   "source": [
    "# Exclude those with abnormal organ function at time of second line treatment \n",
    "paloma3 = paloma3[~paloma3['PatientID'].isin(ab_organ_sec_IDs)]"
   ]
  },
  {
   "cell_type": "code",
   "execution_count": 259,
   "id": "87a2055b",
   "metadata": {},
   "outputs": [
    {
     "data": {
      "text/plain": [
       "(948, 948)"
      ]
     },
     "execution_count": 259,
     "metadata": {},
     "output_type": "execute_result"
    }
   ],
   "source": [
    "row_ID(paloma3)"
   ]
  },
  {
   "cell_type": "code",
   "execution_count": 260,
   "id": "36779404",
   "metadata": {},
   "outputs": [],
   "source": [
    "low_cutoff_paloma3 = cutoff.loc['paloma3'].low"
   ]
  },
  {
   "cell_type": "code",
   "execution_count": 261,
   "id": "35b2cf12",
   "metadata": {},
   "outputs": [],
   "source": [
    "high_cutoff_paloma3 = cutoff.loc['paloma3'].high"
   ]
  },
  {
   "cell_type": "code",
   "execution_count": 262,
   "id": "1bfdf5ef",
   "metadata": {},
   "outputs": [
    {
     "name": "stdout",
     "output_type": "stream",
     "text": [
      "Palobociclib plus fulvestrant total: 387\n",
      "High risk: 108\n",
      "Med risk: 131\n",
      "Low risk: 148\n"
     ]
    }
   ],
   "source": [
    "print('Palobociclib plus fulvestrant total:',  paloma3.query('pfulv == 1').shape[0])\n",
    "print('High risk:', paloma3.query('pfulv == 1').query('risk_score >= @high_cutoff_paloma3').shape[0])\n",
    "print('Med risk:', paloma3.query('pfulv == 1').query('risk_score < @high_cutoff_paloma3 and risk_score > @low_cutoff_paloma3').shape[0])\n",
    "print('Low risk:', paloma3.query('pfulv == 1').query('risk_score <= @low_cutoff_paloma3').shape[0])"
   ]
  },
  {
   "cell_type": "code",
   "execution_count": 263,
   "id": "a27fdd8c",
   "metadata": {},
   "outputs": [
    {
     "name": "stdout",
     "output_type": "stream",
     "text": [
      "Fulvestrant total: 561\n",
      "High risk: 161\n",
      "Med risk: 197\n",
      "Low risk: 203\n"
     ]
    }
   ],
   "source": [
    "print('Fulvestrant total:',  paloma3.query('pfulv == 0').shape[0])\n",
    "print('High risk:', paloma3.query('pfulv == 0').query('risk_score >= @high_cutoff_paloma3').shape[0])\n",
    "print('Med risk:', paloma3.query('pfulv == 0').query('risk_score < @high_cutoff_paloma3 and risk_score > @low_cutoff_paloma3').shape[0])\n",
    "print('Low risk:', paloma3.query('pfulv == 0').query('risk_score <= @low_cutoff_paloma3').shape[0])"
   ]
  },
  {
   "cell_type": "markdown",
   "id": "4ffc4d49",
   "metadata": {},
   "source": [
    "#### Survival curves with covariate balancing "
   ]
  },
  {
   "cell_type": "code",
   "execution_count": 264,
   "id": "826fa057",
   "metadata": {},
   "outputs": [],
   "source": [
    "paloma3 = paloma3.set_index('PatientID')"
   ]
  },
  {
   "cell_type": "code",
   "execution_count": 265,
   "id": "e3a4f67a",
   "metadata": {},
   "outputs": [],
   "source": [
    "conditions = [\n",
    "    (paloma3['thorax_met'] == 1) |\n",
    "    (paloma3['liver_met'] == 1) |\n",
    "    (paloma3['cns_met'] == 1) |\n",
    "    (paloma3['peritoneum_met'] == 1) |\n",
    "    (paloma3['other_met'] == 1),\n",
    "    (paloma3['bone_met'] == 0) &\n",
    "    (paloma3['thorax_met'] == 0) &\n",
    "    (paloma3['lymph_met'] == 0) &\n",
    "    (paloma3['liver_met'] == 0) &\n",
    "    (paloma3['cns_met'] == 0) &\n",
    "    (paloma3['skin_met'] == 0) &\n",
    "    (paloma3['peritoneum_met'] == 0) &\n",
    "    (paloma3['other_met'] == 0)\n",
    "]\n",
    "\n",
    "choices = ['visceral', 'unknown']\n",
    "\n",
    "paloma3['met_site'] = np.select(conditions, choices, default = 'nonvisceral')"
   ]
  },
  {
   "cell_type": "code",
   "execution_count": 266,
   "id": "f7c6829e",
   "metadata": {},
   "outputs": [],
   "source": [
    "paloma3['met_cat'] = pd.cut(paloma3['met_year'],\n",
    "                            bins = [2010, 2016, float('inf')],\n",
    "                            labels = ['11-16', '17-22'])"
   ]
  },
  {
   "cell_type": "code",
   "execution_count": 267,
   "id": "e1daef97",
   "metadata": {},
   "outputs": [],
   "source": [
    "conditions = [\n",
    "    ((paloma3['ecog_diagnosis'] == \"1.0\") | (paloma3['ecog_diagnosis'] == \"0.0\")),  \n",
    "    ((paloma3['ecog_diagnosis'] == \"2.0\") | (paloma3['ecog_diagnosis'] == \"3.0\"))\n",
    "]\n",
    "\n",
    "choices = ['lt_2', 'gte_2']\n",
    "\n",
    "paloma3['ecog_2'] = np.select(conditions, choices, default = 'unknown')"
   ]
  },
  {
   "cell_type": "code",
   "execution_count": 268,
   "id": "64cdd933",
   "metadata": {},
   "outputs": [],
   "source": [
    "paloma3_iptw = paloma3.filter(items = ['death_status',\n",
    "                                       'timerisk_treatment',\n",
    "                                       'pfulv',\n",
    "                                       'age',\n",
    "                                       'gender',\n",
    "                                       'race',\n",
    "                                       'p_type',\n",
    "                                       'delta_met_diagnosis',\n",
    "                                       'met_cat',\n",
    "                                       'commercial',\n",
    "                                       'medicare',\n",
    "                                       'medicaid',\n",
    "                                       'ses',\n",
    "                                       'ecog_2',\n",
    "                                       'met_site',\n",
    "                                       'albumin_diag', \n",
    "                                       'weight_pct_change',\n",
    "                                       'risk_score'])"
   ]
  },
  {
   "cell_type": "code",
   "execution_count": 269,
   "id": "932fed08",
   "metadata": {},
   "outputs": [
    {
     "data": {
      "text/plain": [
       "death_status               bool\n",
       "timerisk_treatment      float64\n",
       "pfulv                     int64\n",
       "age                       int64\n",
       "gender                   object\n",
       "race                     object\n",
       "p_type                   object\n",
       "delta_met_diagnosis       int64\n",
       "met_cat                category\n",
       "commercial              float64\n",
       "medicare                float64\n",
       "medicaid                float64\n",
       "ses                     float64\n",
       "ecog_2                   object\n",
       "met_site                 object\n",
       "albumin_diag            float64\n",
       "weight_pct_change       float64\n",
       "risk_score              float64\n",
       "dtype: object"
      ]
     },
     "execution_count": 269,
     "metadata": {},
     "output_type": "execute_result"
    }
   ],
   "source": [
    "paloma3_iptw.dtypes"
   ]
  },
  {
   "cell_type": "code",
   "execution_count": 270,
   "id": "0de8e3e0",
   "metadata": {},
   "outputs": [],
   "source": [
    "to_be_categorical = list(paloma3_iptw.select_dtypes(include = ['object']).columns)"
   ]
  },
  {
   "cell_type": "code",
   "execution_count": 271,
   "id": "0247feef",
   "metadata": {},
   "outputs": [
    {
     "data": {
      "text/plain": [
       "['gender', 'race', 'p_type', 'ecog_2', 'met_site']"
      ]
     },
     "execution_count": 271,
     "metadata": {},
     "output_type": "execute_result"
    }
   ],
   "source": [
    "to_be_categorical"
   ]
  },
  {
   "cell_type": "code",
   "execution_count": 272,
   "id": "e149dfb3",
   "metadata": {},
   "outputs": [],
   "source": [
    "to_be_categorical.append('met_cat')"
   ]
  },
  {
   "cell_type": "code",
   "execution_count": 273,
   "id": "610d99cf",
   "metadata": {},
   "outputs": [],
   "source": [
    "to_be_categorical.append('ses')"
   ]
  },
  {
   "cell_type": "code",
   "execution_count": 274,
   "id": "fefb6e03",
   "metadata": {},
   "outputs": [],
   "source": [
    "# Convert variables in list to categorical.\n",
    "for x in list(to_be_categorical):\n",
    "    paloma3_iptw[x] = paloma3_iptw[x].astype('category')"
   ]
  },
  {
   "cell_type": "code",
   "execution_count": 275,
   "id": "30e55bbf",
   "metadata": {},
   "outputs": [],
   "source": [
    "# List of numeric variables, excluding binary variables. \n",
    "numerical_features = ['age', 'delta_met_diagnosis', 'albumin_diag', 'weight_pct_change']\n",
    "\n",
    "# Transformer will first calculate column median and impute, and then apply a standard scaler. \n",
    "numerical_transformer = Pipeline(steps = [\n",
    "    ('imputer', SimpleImputer(strategy = 'median')),\n",
    "    ('std_scaler', StandardScaler())])"
   ]
  },
  {
   "cell_type": "code",
   "execution_count": 276,
   "id": "434d288b",
   "metadata": {},
   "outputs": [],
   "source": [
    "# List of categorical features.\n",
    "categorical_features = list(paloma3_iptw.select_dtypes(include = ['category']).columns)\n",
    "\n",
    "# One-hot-encode categorical features.\n",
    "categorical_transformer = OneHotEncoder(handle_unknown = 'ignore')"
   ]
  },
  {
   "cell_type": "code",
   "execution_count": 277,
   "id": "e52a5987",
   "metadata": {},
   "outputs": [],
   "source": [
    "preprocessor = ColumnTransformer(\n",
    "    transformers = [\n",
    "        ('num', numerical_transformer, numerical_features),\n",
    "        ('cat', categorical_transformer, categorical_features)],\n",
    "    remainder = 'passthrough')"
   ]
  },
  {
   "cell_type": "code",
   "execution_count": 278,
   "id": "9a48450a",
   "metadata": {},
   "outputs": [],
   "source": [
    "paloma3_iptw_low = (\n",
    "    paloma3_iptw\n",
    "    .query('risk_score <= @low_cutoff_paloma3')\n",
    "    .drop(columns = ['risk_score']))\n",
    "\n",
    "paloma3_iptw_med = (\n",
    "    paloma3_iptw\n",
    "    .query('risk_score < @high_cutoff_paloma3 and risk_score > @low_cutoff_paloma3')\n",
    "    .drop(columns = ['risk_score']))\n",
    "\n",
    "paloma3_iptw_high = (\n",
    "    paloma3_iptw\n",
    "    .query('risk_score >= @high_cutoff_paloma3')\n",
    "    .drop(columns = ['risk_score']))\n",
    "\n",
    "paloma3_iptw_all = (\n",
    "    paloma3_iptw\n",
    "    .drop(columns = ['risk_score']))"
   ]
  },
  {
   "cell_type": "code",
   "execution_count": 279,
   "id": "7a82e63a",
   "metadata": {},
   "outputs": [],
   "source": [
    "paloma3_low_x = preprocessor.fit_transform(paloma3_iptw_low.filter(items = ['age',\n",
    "                                                                            'gender',\n",
    "                                                                            'race',\n",
    "                                                                            'p_type',\n",
    "                                                                            'delta_met_diagnosis',\n",
    "                                                                            'met_cat',\n",
    "                                                                            'commercial',\n",
    "                                                                            'medicare',\n",
    "                                                                            'medicaid',\n",
    "                                                                            'ses',\n",
    "                                                                            'ecog_2',\n",
    "                                                                            'met_site', \n",
    "                                                                            'albumin_diag', \n",
    "                                                                            'weight_pct_change']))\n",
    "\n",
    "paloma3_med_x = preprocessor.fit_transform(paloma3_iptw_med.filter(items = ['age',\n",
    "                                                                            'gender',\n",
    "                                                                            'race',\n",
    "                                                                            'p_type',\n",
    "                                                                            'delta_met_diagnosis',\n",
    "                                                                            'met_cat',\n",
    "                                                                            'commercial',\n",
    "                                                                            'medicare',\n",
    "                                                                            'medicaid',\n",
    "                                                                            'ses',\n",
    "                                                                            'ecog_2',\n",
    "                                                                            'met_site', \n",
    "                                                                            'albumin_diag', \n",
    "                                                                            'weight_pct_change']))\n",
    "\n",
    "paloma3_high_x = preprocessor.fit_transform(paloma3_iptw_high.filter(items = ['age',\n",
    "                                                                              'gender',\n",
    "                                                                              'race',\n",
    "                                                                              'p_type',\n",
    "                                                                              'delta_met_diagnosis',\n",
    "                                                                              'met_cat',\n",
    "                                                                              'commercial',\n",
    "                                                                              'medicare',\n",
    "                                                                              'medicaid',\n",
    "                                                                              'ses',\n",
    "                                                                              'ecog_2',\n",
    "                                                                              'met_site', \n",
    "                                                                              'albumin_diag', \n",
    "                                                                              'weight_pct_change']))\n",
    "\n",
    "paloma3_all_x = preprocessor.fit_transform(paloma3_iptw_all.filter(items = ['age',\n",
    "                                                                            'gender',\n",
    "                                                                            'race',\n",
    "                                                                            'p_type',\n",
    "                                                                            'delta_met_diagnosis',\n",
    "                                                                            'met_cat',\n",
    "                                                                            'commercial',\n",
    "                                                                            'medicare',\n",
    "                                                                            'medicaid',\n",
    "                                                                            'ses',\n",
    "                                                                            'ecog_2',\n",
    "                                                                            'met_site', \n",
    "                                                                            'albumin_diag', \n",
    "                                                                            'weight_pct_change']))"
   ]
  },
  {
   "cell_type": "code",
   "execution_count": 280,
   "id": "483164cd",
   "metadata": {},
   "outputs": [
    {
     "data": {
      "text/plain": [
       "LogisticRegression(max_iter=1000)"
      ]
     },
     "execution_count": 280,
     "metadata": {},
     "output_type": "execute_result"
    }
   ],
   "source": [
    "lr_paloma3_low = LogisticRegression(max_iter = 1000)\n",
    "lr_paloma3_low.fit(paloma3_low_x, paloma3_iptw_low['pfulv'])"
   ]
  },
  {
   "cell_type": "code",
   "execution_count": 281,
   "id": "7abdefdf",
   "metadata": {},
   "outputs": [
    {
     "data": {
      "text/plain": [
       "LogisticRegression(max_iter=1000)"
      ]
     },
     "execution_count": 281,
     "metadata": {},
     "output_type": "execute_result"
    }
   ],
   "source": [
    "lr_paloma3_med = LogisticRegression(max_iter = 1000)\n",
    "lr_paloma3_med.fit(paloma3_med_x, paloma3_iptw_med['pfulv'])"
   ]
  },
  {
   "cell_type": "code",
   "execution_count": 282,
   "id": "e2c14545",
   "metadata": {},
   "outputs": [
    {
     "data": {
      "text/plain": [
       "LogisticRegression(max_iter=1000)"
      ]
     },
     "execution_count": 282,
     "metadata": {},
     "output_type": "execute_result"
    }
   ],
   "source": [
    "lr_paloma3_high = LogisticRegression(max_iter = 1000)\n",
    "lr_paloma3_high.fit(paloma3_high_x, paloma3_iptw_high['pfulv'])"
   ]
  },
  {
   "cell_type": "code",
   "execution_count": 283,
   "id": "36d57b5d",
   "metadata": {},
   "outputs": [
    {
     "data": {
      "text/plain": [
       "LogisticRegression(max_iter=1000)"
      ]
     },
     "execution_count": 283,
     "metadata": {},
     "output_type": "execute_result"
    }
   ],
   "source": [
    "lr_paloma3_all = LogisticRegression(max_iter = 1000)\n",
    "lr_paloma3_all.fit(paloma3_all_x, paloma3_iptw_all['pfulv'])"
   ]
  },
  {
   "cell_type": "code",
   "execution_count": 284,
   "id": "6f04de00",
   "metadata": {},
   "outputs": [],
   "source": [
    "pred_low = lr_paloma3_low.predict_proba(paloma3_low_x)\n",
    "pred_med = lr_paloma3_med.predict_proba(paloma3_med_x)\n",
    "pred_high = lr_paloma3_high.predict_proba(paloma3_high_x)\n",
    "pred_all = lr_paloma3_all.predict_proba(paloma3_all_x)"
   ]
  },
  {
   "cell_type": "code",
   "execution_count": 285,
   "id": "1d441a34",
   "metadata": {},
   "outputs": [],
   "source": [
    "paloma3_iptw_low['ps'] = pred_low[:, 1]\n",
    "paloma3_iptw_med['ps'] = pred_med[:, 1]\n",
    "paloma3_iptw_high['ps'] = pred_high[:, 1]\n",
    "paloma3_iptw_all['ps'] = pred_all[:, 1]"
   ]
  },
  {
   "cell_type": "code",
   "execution_count": 286,
   "id": "2668f8f9",
   "metadata": {},
   "outputs": [],
   "source": [
    "paloma3_iptw_low['weight'] = (\n",
    "    np.where(paloma3_iptw_low['pfulv'] == 1, 1/paloma3_iptw_low['ps'], 1/(1 - paloma3_iptw_low['ps'])))\n",
    "\n",
    "paloma3_iptw_med['weight'] = (\n",
    "    np.where(paloma3_iptw_med['pfulv'] == 1, 1/paloma3_iptw_med['ps'], 1/(1 - paloma3_iptw_med['ps'])))\n",
    "\n",
    "paloma3_iptw_high['weight'] = (\n",
    "    np.where(paloma3_iptw_high['pfulv'] == 1, 1/paloma3_iptw_high['ps'], 1/(1 - paloma3_iptw_high['ps'])))\n",
    "\n",
    "paloma3_iptw_all['weight'] = (\n",
    "    np.where(paloma3_iptw_all['pfulv'] == 1, 1/paloma3_iptw_all['ps'], 1/(1 - paloma3_iptw_all['ps'])))"
   ]
  },
  {
   "cell_type": "code",
   "execution_count": 287,
   "id": "c78740d0",
   "metadata": {},
   "outputs": [
    {
     "name": "stderr",
     "output_type": "stream",
     "text": [
      "/Users/xavierorcutt/Dropbox/ist_project/myenv/lib/python3.7/site-packages/lifelines/fitters/kaplan_meier_fitter.py:344: StatisticalWarning: It looks like your weights are not integers, possibly propensity scores then?\n",
      "  It's important to know that the naive variance estimates of the coefficients are biased. Instead use Monte Carlo to\n",
      "  estimate the variances. See paper \"Variance estimation when using inverse probability of treatment weighting (IPTW) with survival analysis\"\n",
      "  or \"Adjusted Kaplan-Meier estimator and log-rank test with inverse probability of treatment weighting for survival data.\"\n",
      "                  \n",
      "  StatisticalWarning,\n"
     ]
    },
    {
     "data": {
      "text/plain": [
       "<lifelines.KaplanMeierFitter:\"KM_estimate\", fitted with 940.745 total observations, 239.749 right-censored observations>"
      ]
     },
     "execution_count": 287,
     "metadata": {},
     "output_type": "execute_result"
    }
   ],
   "source": [
    "# Low KM curves\n",
    "kmf_low_pfulv_paloma3_iptw = KaplanMeierFitter()\n",
    "kmf_low_fulv_paloma3_iptw = KaplanMeierFitter()\n",
    "\n",
    "kmf_low_pfulv_paloma3_iptw.fit(\n",
    "    paloma3_iptw_low.query('pfulv == 1').timerisk_treatment/30,\n",
    "    paloma3_iptw_low.query('pfulv == 1').death_status,\n",
    "    weights = paloma3_iptw_low.query('pfulv == 1')['weight'])\n",
    "\n",
    "kmf_low_fulv_paloma3_iptw.fit(\n",
    "    paloma3_iptw_low.query('pfulv == 0').timerisk_treatment/30,\n",
    "    paloma3_iptw_low.query('pfulv == 0').death_status,\n",
    "    weights = paloma3_iptw_low.query('pfulv == 0')['weight'])\n",
    "\n",
    "# Med KM curves\n",
    "kmf_med_pfulv_paloma3_iptw = KaplanMeierFitter()\n",
    "kmf_med_fulv_paloma3_iptw = KaplanMeierFitter()\n",
    "\n",
    "kmf_med_pfulv_paloma3_iptw.fit(\n",
    "    paloma3_iptw_med.query('pfulv == 1').timerisk_treatment/30,\n",
    "    paloma3_iptw_med.query('pfulv == 1').death_status,\n",
    "    weights = paloma3_iptw_med.query('pfulv == 1')['weight'])\n",
    "\n",
    "kmf_med_fulv_paloma3_iptw.fit(\n",
    "    paloma3_iptw_med.query('pfulv == 0').timerisk_treatment/30,\n",
    "    paloma3_iptw_med.query('pfulv == 0').death_status,\n",
    "    weights = paloma3_iptw_med.query('pfulv == 0')['weight'])\n",
    "\n",
    "# High KM curves \n",
    "kmf_high_pfulv_paloma3_iptw = KaplanMeierFitter()\n",
    "kmf_high_fulv_paloma3_iptw = KaplanMeierFitter()\n",
    "\n",
    "kmf_high_pfulv_paloma3_iptw.fit(\n",
    "    paloma3_iptw_high.query('pfulv == 1').timerisk_treatment/30,\n",
    "    paloma3_iptw_high.query('pfulv == 1').death_status,\n",
    "    weights = paloma3_iptw_high.query('pfulv == 1')['weight'])\n",
    "\n",
    "kmf_high_fulv_paloma3_iptw.fit(\n",
    "    paloma3_iptw_high.query('pfulv == 0').timerisk_treatment/30,\n",
    "    paloma3_iptw_high.query('pfulv == 0').death_status,\n",
    "    weights = paloma3_iptw_high.query('pfulv == 0')['weight'])\n",
    "\n",
    "# All KM curves \n",
    "kmf_all_pfulv_paloma3_iptw = KaplanMeierFitter()\n",
    "kmf_all_fulv_paloma3_iptw = KaplanMeierFitter()\n",
    "\n",
    "kmf_all_pfulv_paloma3_iptw.fit(\n",
    "    paloma3_iptw_all.query('pfulv == 1').timerisk_treatment/30,\n",
    "    paloma3_iptw_all.query('pfulv == 1').death_status,\n",
    "    weights = paloma3_iptw_all.query('pfulv == 1')['weight'])\n",
    "\n",
    "kmf_all_fulv_paloma3_iptw.fit(\n",
    "    paloma3_iptw_all.query('pfulv == 0').timerisk_treatment/30,\n",
    "    paloma3_iptw_all.query('pfulv == 0').death_status,\n",
    "    weights = paloma3_iptw_all.query('pfulv == 0')['weight'])\n"
   ]
  },
  {
   "cell_type": "code",
   "execution_count": 288,
   "id": "17ae9576",
   "metadata": {},
   "outputs": [
    {
     "data": {
      "image/png": "[encoded data removed]",
      "text/plain": [
       "<Figure size 1800x600 with 5 Axes>"
      ]
     },
     "metadata": {},
     "output_type": "display_data"
    }
   ],
   "source": [
    "fig = plt.figure(figsize=(18, 6))\n",
    "\n",
    "# Plot survival curves for low risk group \n",
    "plt.subplot(1, 4, 1)\n",
    "\n",
    "plt.step(kmf_low_pfulv_paloma3_iptw.timeline, kmf_low_pfulv_paloma3_iptw.survival_function_.values*100, color = 'red', alpha = 0.5)\n",
    "\n",
    "plt.step(kmf_low_fulv_paloma3_iptw.timeline, kmf_low_fulv_paloma3_iptw.survival_function_.values*100, color = 'black', alpha = 0.5)\n",
    "\n",
    "plt.xticks(np.arange(0, 61, 6))\n",
    "plt.xlim(0, 61)\n",
    "plt.ylim(0, 100)\n",
    "\n",
    "plt.title('Low-risk', weight = 'bold')\n",
    "plt.ylabel('OS (%)', size = 12, weight = 'bold')\n",
    "\n",
    "plt.gca().spines['top'].set_visible(False)\n",
    "plt.gca().spines['right'].set_visible(False)\n",
    "\n",
    "# Plot survival curves for med risk group. \n",
    "plt.subplot(1, 4, 2)\n",
    "\n",
    "plt.step(kmf_med_pfulv_paloma3_iptw.timeline, kmf_med_pfulv_paloma3_iptw.survival_function_.values*100, color = 'red', alpha = 0.5)\n",
    "\n",
    "plt.step(kmf_med_fulv_paloma3_iptw.timeline, kmf_med_fulv_paloma3_iptw.survival_function_.values*100, color = 'black', alpha = 0.5)\n",
    "\n",
    "plt.xticks(np.arange(0, 61, 6))\n",
    "plt.xlim(0, 61)\n",
    "plt.ylim(0, 100)\n",
    "\n",
    "plt.title('Med-risk', weight = 'bold')\n",
    "\n",
    "plt.gca().spines['top'].set_visible(False)\n",
    "plt.gca().spines['right'].set_visible(False)\n",
    "\n",
    "# Plot survival curves by treatment for high risk group. \n",
    "plt.subplot(1, 4, 3)\n",
    "\n",
    "plt.step(kmf_high_pfulv_paloma3_iptw.timeline, kmf_high_pfulv_paloma3_iptw.survival_function_.values*100, color = 'red', alpha = 0.5)\n",
    "\n",
    "plt.step(kmf_high_fulv_paloma3_iptw.timeline, kmf_high_fulv_paloma3_iptw.survival_function_.values*100, color = 'black', alpha = 0.5)\n",
    "\n",
    "plt.xticks(np.arange(0, 61, 6))\n",
    "plt.xlim(0, 61)\n",
    "plt.ylim(0, 100)\n",
    "\n",
    "plt.title('High-risk', weight = 'bold')\n",
    "\n",
    "plt.gca().spines['top'].set_visible(False)\n",
    "plt.gca().spines['right'].set_visible(False)\n",
    "\n",
    "# Plot survival curves by treatment for all risk group. \n",
    "plt.subplot(1, 4, 4)\n",
    "\n",
    "plt.step(kmf_all_pfulv_paloma3_iptw.timeline, kmf_all_pfulv_paloma3_iptw.survival_function_.values*100, color = 'red', alpha = 0.5, label = 'Palbociclib + fulvestrant')\n",
    "\n",
    "plt.step(kmf_all_fulv_paloma3_iptw.timeline, kmf_all_fulv_paloma3_iptw.survival_function_.values*100, color = 'black', alpha = 0.5, label = 'Fulvestrant')\n",
    "\n",
    "plt.xticks(np.arange(0, 61, 6))\n",
    "plt.xlim(0, 61)\n",
    "plt.ylim(0, 100)\n",
    "\n",
    "plt.title('Full cohort', weight = 'bold')\n",
    "\n",
    "plt.gca().spines['top'].set_visible(False)\n",
    "plt.gca().spines['right'].set_visible(False)\n",
    "\n",
    "plt.legend(loc = 'upper right', prop = {'size': 9})\n",
    "\n",
    "fig.add_subplot(1, 1, 1, frameon = False)\n",
    "plt.tick_params(labelcolor = 'none', which = 'both', top = False, bottom = False, left = False, right = False)\n",
    "plt.xlabel('Months after treatment', labelpad = 15, size = 12, weight = 'bold')\n",
    "plt.title('PALOMA-3: OS for palbociclib and fulvestrant vs. fulvestrant for ER+/HER2- metastatic breast cancer', pad = 40, size = 15, weight = 'bold')\n",
    "\n",
    "plt.show()"
   ]
  },
  {
   "cell_type": "markdown",
   "id": "84aed6ce",
   "metadata": {},
   "source": [
    "### CLEOPATRA: pertuzumab, trastuzumab, and docetaxel in HER2-positive metastatic breast cancer\n",
    "\n",
    "**INCLUSION**\n",
    "* Untreated metastatic breast cancer\n",
    "* Received first line pertuzumab, trastuzumab, and docetaxel/paclitaxel or first line trastuzumab + docetaxel/paclitaxel \n",
    "* First line of hormonal treatment is allowed\n",
    "* HER-2 positive within (+30, -inf) of receipt of treatment \n",
    "* No relevant comorbidities in the year preceding metastatic diagnosis \n",
    "* No CNS metastasis at time of treatment \n",
    "* ECOG cannot be 2, 3, or 4 at time of treatment \n",
    "* Adequate organ function at time of treatment "
   ]
  },
  {
   "cell_type": "markdown",
   "id": "8b3f7ee8",
   "metadata": {},
   "source": [
    "#### First line trastuzumab + docetaxel/paclitaxel +/- pertuzumab "
   ]
  },
  {
   "cell_type": "code",
   "execution_count": 289,
   "id": "19991310",
   "metadata": {
    "scrolled": true
   },
   "outputs": [
    {
     "data": {
      "text/plain": [
       "31677"
      ]
     },
     "execution_count": 289,
     "metadata": {},
     "output_type": "execute_result"
    }
   ],
   "source": [
    "df_full = pd.read_csv('df_risk_crude.csv', index_col = 'PatientID', dtype = {'death_status': bool})\n",
    "df_full.index.nunique()"
   ]
  },
  {
   "cell_type": "code",
   "execution_count": 290,
   "id": "8c850851",
   "metadata": {},
   "outputs": [],
   "source": [
    "line_therapy = pd.read_csv('LineOfTherapy.csv')"
   ]
  },
  {
   "cell_type": "code",
   "execution_count": 291,
   "id": "2cfaad6d",
   "metadata": {},
   "outputs": [],
   "source": [
    "tpdp = [\n",
    "    'Docetaxel,Pertuzumab,Trastuzumab',\n",
    "    'Docetaxel,Pertuzumab,Trastuzumab-Anns',\n",
    "    'Docetaxel,Pertuzumab,Trastuzumab-Qyyp',\n",
    "    'Paclitaxel,Pertuzumab,Trastuzumab',\n",
    "    'Paclitaxel,Pertuzumab,Trastuzumab-Anns',\n",
    "    'Paclitaxel,Pertuzumab,Trastuzumab-Qyyp',\n",
    "    'Paclitaxel Protein-Bound,Pertuzumab,Trastuzumab',\n",
    "    'Paclitaxel Protein-Bound,Pertuzumab,Trastuzumab-Anns',\n",
    "    'Paclitaxel Protein-Bound,Pertuzumab,Trastuzumab-Qyyp']\n",
    "\n",
    "tpdp_fl = (\n",
    "    line_therapy[line_therapy['PatientID'].isin(df_full.index)]\n",
    "    .query('LineNumber == 1')\n",
    "    .query('LineName == @tpdp')\n",
    "    [['PatientID', 'StartDate']]\n",
    ")"
   ]
  },
  {
   "cell_type": "code",
   "execution_count": 292,
   "id": "c6cf1a79",
   "metadata": {},
   "outputs": [],
   "source": [
    "tpdp_fl.loc[:, 'tpdp'] = 1"
   ]
  },
  {
   "cell_type": "code",
   "execution_count": 293,
   "id": "abeb5926",
   "metadata": {},
   "outputs": [
    {
     "data": {
      "text/plain": [
       "(1219, 1219)"
      ]
     },
     "execution_count": 293,
     "metadata": {},
     "output_type": "execute_result"
    }
   ],
   "source": [
    "row_ID(tpdp_fl)"
   ]
  },
  {
   "cell_type": "code",
   "execution_count": 294,
   "id": "d69c3a2b",
   "metadata": {},
   "outputs": [],
   "source": [
    "tpd = [\n",
    "    'Docetaxel,Trastuzumab',\n",
    "    'Docetaxel,Trastuzumab-Anns',\n",
    "    'Docetaxel,Trastuzumab-Qyyp',\n",
    "    'Paclitaxel,Trastuzumab',\n",
    "    'Paclitaxel,Trastuzumab-Anns',\n",
    "    'Paclitaxel,Trastuzumab-Qyyp',\n",
    "    'Paclitaxel Protein-Bound,Trastuzumab',\n",
    "    'Paclitaxel Protein-Bound,Trastuzumab-Anns',\n",
    "    'Paclitaxel Protein-Bound,Trastuzumab-Qyyp'] \n",
    "\n",
    "tpd_fl = (\n",
    "    line_therapy[line_therapy['PatientID'].isin(df_full.index)]\n",
    "    .query('LineNumber == 1')\n",
    "    .query('LineName == @tpd')\n",
    "    [['PatientID', 'StartDate']]\n",
    ")"
   ]
  },
  {
   "cell_type": "code",
   "execution_count": 295,
   "id": "3525baca",
   "metadata": {},
   "outputs": [],
   "source": [
    "tpd_fl.loc[:, 'tpdp'] = 0"
   ]
  },
  {
   "cell_type": "code",
   "execution_count": 296,
   "id": "5f36878e",
   "metadata": {},
   "outputs": [
    {
     "data": {
      "text/plain": [
       "(1219, 1219)"
      ]
     },
     "execution_count": 296,
     "metadata": {},
     "output_type": "execute_result"
    }
   ],
   "source": [
    "row_ID(tpdp_fl)"
   ]
  },
  {
   "cell_type": "markdown",
   "id": "88e5e7ff",
   "metadata": {},
   "source": [
    "#### First line endocrine therapy, second line trastuzumab + docetaxel/paclitaxel +/- pertuzumab "
   ]
  },
  {
   "cell_type": "code",
   "execution_count": 297,
   "id": "d12333b3",
   "metadata": {},
   "outputs": [],
   "source": [
    "all_treatment = line_therapy.LineName.unique()"
   ]
  },
  {
   "cell_type": "code",
   "execution_count": 298,
   "id": "f377b692",
   "metadata": {},
   "outputs": [],
   "source": [
    "treatment_list = []\n",
    "for trt in all_treatment:\n",
    "    treatment_list.extend(trt.split(\",\"))"
   ]
  },
  {
   "cell_type": "code",
   "execution_count": 299,
   "id": "5fb234ce",
   "metadata": {},
   "outputs": [],
   "source": [
    "unique = list(dict.fromkeys(treatment_list))"
   ]
  },
  {
   "cell_type": "code",
   "execution_count": 300,
   "id": "f47650f4",
   "metadata": {},
   "outputs": [],
   "source": [
    "et = [\n",
    "    'Anastrozole',\n",
    "    'Letrozole',\n",
    "    'Exemestane',\n",
    "    'Tamoxifen',\n",
    "    'Leuprolide',\n",
    "    'Goserelin',\n",
    "    'Triptorelin']"
   ]
  },
  {
   "cell_type": "code",
   "execution_count": 301,
   "id": "a8814b2d",
   "metadata": {},
   "outputs": [],
   "source": [
    "unique.remove('Anastrozole')\n",
    "unique.remove('Letrozole')\n",
    "unique.remove('Exemestane')\n",
    "unique.remove('Tamoxifen')\n",
    "unique.remove('Leuprolide')\n",
    "unique.remove('Goserelin')\n",
    "unique.remove('Triptorelin')"
   ]
  },
  {
   "cell_type": "code",
   "execution_count": 302,
   "id": "8872bf2b",
   "metadata": {},
   "outputs": [],
   "source": [
    "line_therapy_fl = (\n",
    "    line_therapy[line_therapy['PatientID'].isin(df_full.index)]\n",
    "    .query('LineNumber == 1'))"
   ]
  },
  {
   "cell_type": "code",
   "execution_count": 303,
   "id": "4484cbc5",
   "metadata": {},
   "outputs": [
    {
     "data": {
      "text/plain": [
       "Anastrozole               2943\n",
       "Letrozole                 2536\n",
       "Tamoxifen                 1305\n",
       "Exemestane                 780\n",
       "Leuprolide                  77\n",
       "Goserelin                   60\n",
       "Leuprolide,Tamoxifen        56\n",
       "Letrozole,Leuprolide        40\n",
       "Goserelin,Tamoxifen         36\n",
       "Anastrozole,Leuprolide      35\n",
       "Name: LineName, dtype: int64"
      ]
     },
     "execution_count": 303,
     "metadata": {},
     "output_type": "execute_result"
    }
   ],
   "source": [
    "(\n",
    "    line_therapy_fl\n",
    "    [line_therapy_fl['LineName'].str.contains('|'.join(et))\n",
    "     & ~line_therapy_fl['LineName'].str.contains('|'.join(unique))]\n",
    "    .LineName.value_counts().head(10)\n",
    ")"
   ]
  },
  {
   "cell_type": "code",
   "execution_count": 304,
   "id": "38702d50",
   "metadata": {},
   "outputs": [],
   "source": [
    "et_id = (\n",
    "    line_therapy_fl\n",
    "    [line_therapy_fl['LineName'].str.contains('|'.join(et))\n",
    "     & ~line_therapy_fl['LineName'].str.contains('|'.join(unique))]\n",
    "    .PatientID\n",
    ")"
   ]
  },
  {
   "cell_type": "code",
   "execution_count": 305,
   "id": "3844b17d",
   "metadata": {},
   "outputs": [],
   "source": [
    "line_therapy_sec = (\n",
    "    line_therapy[line_therapy['PatientID'].isin(et_id)]\n",
    "    .query('LineNumber == 2'))"
   ]
  },
  {
   "cell_type": "code",
   "execution_count": 306,
   "id": "224c9784",
   "metadata": {},
   "outputs": [],
   "source": [
    "et_tpdp = (\n",
    "    line_therapy_sec\n",
    "    .query('LineName == @tpdp')\n",
    "    [['PatientID', 'StartDate']]\n",
    ")"
   ]
  },
  {
   "cell_type": "code",
   "execution_count": 307,
   "id": "eaa1f0fc",
   "metadata": {},
   "outputs": [],
   "source": [
    "et_tpdp.loc[:, 'tpdp'] = 1"
   ]
  },
  {
   "cell_type": "code",
   "execution_count": 308,
   "id": "cb896fcf",
   "metadata": {},
   "outputs": [
    {
     "data": {
      "text/plain": [
       "(79, 79)"
      ]
     },
     "execution_count": 308,
     "metadata": {},
     "output_type": "execute_result"
    }
   ],
   "source": [
    "row_ID(et_tpdp)"
   ]
  },
  {
   "cell_type": "code",
   "execution_count": 309,
   "id": "3790c063",
   "metadata": {},
   "outputs": [],
   "source": [
    "et_tpd = (\n",
    "    line_therapy_sec\n",
    "    .query('LineName == @tpd')\n",
    "    [['PatientID', 'StartDate']]\n",
    ")"
   ]
  },
  {
   "cell_type": "code",
   "execution_count": 310,
   "id": "92310eed",
   "metadata": {},
   "outputs": [],
   "source": [
    "et_tpd.loc[:, 'tpdp'] = 0"
   ]
  },
  {
   "cell_type": "code",
   "execution_count": 311,
   "id": "175fa66e",
   "metadata": {},
   "outputs": [
    {
     "data": {
      "text/plain": [
       "(5, 5)"
      ]
     },
     "execution_count": 311,
     "metadata": {},
     "output_type": "execute_result"
    }
   ],
   "source": [
    "row_ID(et_tpd)"
   ]
  },
  {
   "cell_type": "code",
   "execution_count": 312,
   "id": "df93e1d1",
   "metadata": {},
   "outputs": [],
   "source": [
    "cleopatra_p = pd.concat([tpdp_fl, et_tpdp])"
   ]
  },
  {
   "cell_type": "code",
   "execution_count": 313,
   "id": "cfe1e1ee",
   "metadata": {},
   "outputs": [
    {
     "data": {
      "text/plain": [
       "(1298, 1298)"
      ]
     },
     "execution_count": 313,
     "metadata": {},
     "output_type": "execute_result"
    }
   ],
   "source": [
    "row_ID(cleopatra_p)"
   ]
  },
  {
   "cell_type": "code",
   "execution_count": 314,
   "id": "ca5f3870",
   "metadata": {},
   "outputs": [],
   "source": [
    "cleopatra_np = pd.concat([tpd_fl, et_tpd])"
   ]
  },
  {
   "cell_type": "code",
   "execution_count": 315,
   "id": "6f373e20",
   "metadata": {},
   "outputs": [
    {
     "data": {
      "text/plain": [
       "(184, 184)"
      ]
     },
     "execution_count": 315,
     "metadata": {},
     "output_type": "execute_result"
    }
   ],
   "source": [
    "row_ID(cleopatra_np)"
   ]
  },
  {
   "cell_type": "code",
   "execution_count": 316,
   "id": "c1563072",
   "metadata": {},
   "outputs": [],
   "source": [
    "cleopatra = pd.concat([cleopatra_p, cleopatra_np])"
   ]
  },
  {
   "cell_type": "code",
   "execution_count": 317,
   "id": "89391828",
   "metadata": {},
   "outputs": [
    {
     "data": {
      "text/plain": [
       "(1482, 1482)"
      ]
     },
     "execution_count": 317,
     "metadata": {},
     "output_type": "execute_result"
    }
   ],
   "source": [
    "row_ID(cleopatra)"
   ]
  },
  {
   "cell_type": "code",
   "execution_count": 318,
   "id": "d52dc891",
   "metadata": {},
   "outputs": [],
   "source": [
    "cleopatra = pd.merge(cleopatra, df_full, on = 'PatientID', how = 'left')"
   ]
  },
  {
   "cell_type": "code",
   "execution_count": 319,
   "id": "759f42aa",
   "metadata": {},
   "outputs": [
    {
     "data": {
      "text/plain": [
       "(1482, 1482)"
      ]
     },
     "execution_count": 319,
     "metadata": {},
     "output_type": "execute_result"
    }
   ],
   "source": [
    "row_ID(cleopatra)"
   ]
  },
  {
   "cell_type": "code",
   "execution_count": 320,
   "id": "b05d32aa",
   "metadata": {},
   "outputs": [],
   "source": [
    "cleopatra['StartDate'] = pd.to_datetime(cleopatra['StartDate'])"
   ]
  },
  {
   "cell_type": "markdown",
   "id": "ee8cd6cd",
   "metadata": {},
   "source": [
    "#### HER-2 positive"
   ]
  },
  {
   "cell_type": "code",
   "execution_count": 321,
   "id": "75752c81",
   "metadata": {},
   "outputs": [],
   "source": [
    "biomarkers = pd.read_csv('Enhanced_MetBreastBiomarkers.csv')"
   ]
  },
  {
   "cell_type": "code",
   "execution_count": 322,
   "id": "b58d802f",
   "metadata": {},
   "outputs": [],
   "source": [
    "biomarkers = biomarkers[biomarkers['PatientID'].isin(cleopatra['PatientID'])]"
   ]
  },
  {
   "cell_type": "code",
   "execution_count": 323,
   "id": "0c322ec8",
   "metadata": {},
   "outputs": [
    {
     "data": {
      "text/plain": [
       "(10765, 1482)"
      ]
     },
     "execution_count": 323,
     "metadata": {},
     "output_type": "execute_result"
    }
   ],
   "source": [
    "row_ID(biomarkers)"
   ]
  },
  {
   "cell_type": "code",
   "execution_count": 324,
   "id": "0c6a6290",
   "metadata": {},
   "outputs": [],
   "source": [
    "biomarkers = pd.merge(biomarkers, cleopatra[['PatientID', 'StartDate']], on = 'PatientID', how = 'left')"
   ]
  },
  {
   "cell_type": "code",
   "execution_count": 325,
   "id": "97be9ac9",
   "metadata": {},
   "outputs": [
    {
     "data": {
      "text/plain": [
       "(10765, 1482)"
      ]
     },
     "execution_count": 325,
     "metadata": {},
     "output_type": "execute_result"
    }
   ],
   "source": [
    "row_ID(biomarkers)"
   ]
  },
  {
   "cell_type": "code",
   "execution_count": 326,
   "id": "dfd33d46",
   "metadata": {},
   "outputs": [],
   "source": [
    "biomarkers['StartDate'] = pd.to_datetime(biomarkers['StartDate'])"
   ]
  },
  {
   "cell_type": "code",
   "execution_count": 327,
   "id": "a3048686",
   "metadata": {},
   "outputs": [],
   "source": [
    "biomarkers['ResultDate'] = pd.to_datetime(biomarkers['ResultDate'])"
   ]
  },
  {
   "cell_type": "code",
   "execution_count": 328,
   "id": "c864c259",
   "metadata": {},
   "outputs": [],
   "source": [
    "biomarkers['SpecimenReceivedDate'] = pd.to_datetime(biomarkers['SpecimenReceivedDate'])"
   ]
  },
  {
   "cell_type": "code",
   "execution_count": 329,
   "id": "a41ef7fa",
   "metadata": {},
   "outputs": [],
   "source": [
    "biomarkers.loc[:, 'result_date'] = (\n",
    "    np.where(biomarkers['ResultDate'].isna(), biomarkers['SpecimenReceivedDate'], biomarkers['ResultDate'])\n",
    ")"
   ]
  },
  {
   "cell_type": "code",
   "execution_count": 330,
   "id": "2e969c6b",
   "metadata": {},
   "outputs": [],
   "source": [
    "biomarkers.loc[:, 'date_diff'] = (biomarkers['result_date'] - biomarkers['StartDate']).dt.days"
   ]
  },
  {
   "cell_type": "code",
   "execution_count": 331,
   "id": "d51f7f6e",
   "metadata": {},
   "outputs": [],
   "source": [
    "her2_rel = ['IHC negative (0-1+)',\n",
    "            'FISH negative/not amplified',\n",
    "            'Negative NOS',\n",
    "            'NGS negative (ERBB2 not amplified)',\n",
    "            'IHC positive (3+)',\n",
    "            'FISH positive/amplified',\n",
    "            'Positive NOS',\n",
    "            'NGS positive (ERBB2 amplified)']\n",
    "\n",
    "her2_status = (\n",
    "    biomarkers\n",
    "    .query('BiomarkerName == \"HER2\"')\n",
    "    .query('date_diff <= 30')\n",
    "    .query('BiomarkerStatus == @her2_rel')\n",
    "    .sort_values(['PatientID', 'date_diff'], ascending = [True, False])\n",
    "    .drop_duplicates(subset = ['PatientID'], keep = 'first')\n",
    "    [['PatientID', 'BiomarkerStatus']]\n",
    "    .rename(columns = {'BiomarkerStatus': 'her2'})\n",
    ")"
   ]
  },
  {
   "cell_type": "code",
   "execution_count": 332,
   "id": "8a7c50cd",
   "metadata": {},
   "outputs": [
    {
     "data": {
      "text/plain": [
       "(1377, 1377)"
      ]
     },
     "execution_count": 332,
     "metadata": {},
     "output_type": "execute_result"
    }
   ],
   "source": [
    "row_ID(her2_status)"
   ]
  },
  {
   "cell_type": "code",
   "execution_count": 333,
   "id": "1ca161c4",
   "metadata": {},
   "outputs": [],
   "source": [
    "cleopatra = pd.merge(cleopatra, her2_status, on  = 'PatientID', how = 'left')"
   ]
  },
  {
   "cell_type": "code",
   "execution_count": 334,
   "id": "790b8f33",
   "metadata": {},
   "outputs": [
    {
     "data": {
      "text/plain": [
       "(1482, 1482)"
      ]
     },
     "execution_count": 334,
     "metadata": {},
     "output_type": "execute_result"
    }
   ],
   "source": [
    "row_ID(cleopatra)"
   ]
  },
  {
   "cell_type": "code",
   "execution_count": 335,
   "id": "74a9d5ab",
   "metadata": {},
   "outputs": [],
   "source": [
    "her2_pos = ['IHC positive (3+)',\n",
    "            'FISH positive/amplified',\n",
    "            'Positive NOS',\n",
    "            'NGS positive (ERBB2 amplified)']\n",
    "\n",
    "cleopatra = (\n",
    "    cleopatra\n",
    "    .query('her2== @her2_pos')\n",
    ")"
   ]
  },
  {
   "cell_type": "code",
   "execution_count": 336,
   "id": "b8efdc3f",
   "metadata": {},
   "outputs": [
    {
     "data": {
      "text/plain": [
       "(1296, 1296)"
      ]
     },
     "execution_count": 336,
     "metadata": {},
     "output_type": "execute_result"
    }
   ],
   "source": [
    "row_ID(cleopatra)"
   ]
  },
  {
   "cell_type": "markdown",
   "id": "a25a2fb9",
   "metadata": {},
   "source": [
    "#### Time from treatment to progression/death or censor "
   ]
  },
  {
   "cell_type": "code",
   "execution_count": 337,
   "id": "2b00d6f2",
   "metadata": {},
   "outputs": [],
   "source": [
    "mortality_tr = pd.read_csv('mortality_cleaned_tr.csv')"
   ]
  },
  {
   "cell_type": "code",
   "execution_count": 338,
   "id": "965c81a5",
   "metadata": {},
   "outputs": [],
   "source": [
    "mortality_te = pd.read_csv('mortality_cleaned_te.csv')"
   ]
  },
  {
   "cell_type": "code",
   "execution_count": 339,
   "id": "78c27368",
   "metadata": {},
   "outputs": [],
   "source": [
    "mortality_tr = mortality_tr[['PatientID', 'death_date', 'last_activity']]"
   ]
  },
  {
   "cell_type": "code",
   "execution_count": 340,
   "id": "6c477471",
   "metadata": {},
   "outputs": [],
   "source": [
    "mortality_te = mortality_te[['PatientID', 'death_date', 'last_activity']]"
   ]
  },
  {
   "cell_type": "code",
   "execution_count": 341,
   "id": "aae517b2",
   "metadata": {},
   "outputs": [
    {
     "data": {
      "text/plain": [
       "(31677, 31677)"
      ]
     },
     "execution_count": 341,
     "metadata": {},
     "output_type": "execute_result"
    }
   ],
   "source": [
    "mortality = pd.concat([mortality_tr, mortality_te], ignore_index = True)\n",
    "row_ID(mortality)"
   ]
  },
  {
   "cell_type": "code",
   "execution_count": 342,
   "id": "fd3805e0",
   "metadata": {},
   "outputs": [],
   "source": [
    "mortality.loc[:, 'last_activity'] = pd.to_datetime(mortality['last_activity'])"
   ]
  },
  {
   "cell_type": "code",
   "execution_count": 343,
   "id": "6c245f39",
   "metadata": {},
   "outputs": [],
   "source": [
    "mortality.loc[:, 'death_date'] = pd.to_datetime(mortality['death_date'])"
   ]
  },
  {
   "cell_type": "code",
   "execution_count": 344,
   "id": "c74166d3",
   "metadata": {},
   "outputs": [
    {
     "data": {
      "text/plain": [
       "(31677, 31677)"
      ]
     },
     "execution_count": 344,
     "metadata": {},
     "output_type": "execute_result"
    }
   ],
   "source": [
    "row_ID(mortality)"
   ]
  },
  {
   "cell_type": "code",
   "execution_count": 345,
   "id": "5e952142",
   "metadata": {},
   "outputs": [],
   "source": [
    "cleopatra = pd.merge(cleopatra, mortality, on = 'PatientID', how = 'left')"
   ]
  },
  {
   "cell_type": "code",
   "execution_count": 346,
   "id": "46e16901",
   "metadata": {},
   "outputs": [
    {
     "data": {
      "text/plain": [
       "(1296, 1296)"
      ]
     },
     "execution_count": 346,
     "metadata": {},
     "output_type": "execute_result"
    }
   ],
   "source": [
    "row_ID(cleopatra)"
   ]
  },
  {
   "cell_type": "code",
   "execution_count": 347,
   "id": "25ddacec",
   "metadata": {},
   "outputs": [],
   "source": [
    "conditions = [\n",
    "    (cleopatra['death_status'] == 1),\n",
    "    (cleopatra['death_status'] == 0)]\n",
    "\n",
    "choices = [\n",
    "    (cleopatra['death_date'] - cleopatra['StartDate']).dt.days,\n",
    "    (cleopatra['last_activity'] - cleopatra['StartDate']).dt.days]\n",
    "\n",
    "cleopatra.loc[:, 'timerisk_treatment'] = np.select(conditions, choices)"
   ]
  },
  {
   "cell_type": "code",
   "execution_count": 348,
   "id": "2c8a2a0d",
   "metadata": {},
   "outputs": [],
   "source": [
    "cleopatra = cleopatra.query('timerisk_treatment >= 0')"
   ]
  },
  {
   "cell_type": "markdown",
   "id": "44612796",
   "metadata": {},
   "source": [
    "#### Patient count "
   ]
  },
  {
   "cell_type": "code",
   "execution_count": 349,
   "id": "7b3ad9d1",
   "metadata": {},
   "outputs": [
    {
     "data": {
      "text/plain": [
       "(1294, 1294)"
      ]
     },
     "execution_count": 349,
     "metadata": {},
     "output_type": "execute_result"
    }
   ],
   "source": [
    "row_ID(cleopatra)"
   ]
  },
  {
   "cell_type": "code",
   "execution_count": 350,
   "id": "4b7da0d2",
   "metadata": {},
   "outputs": [],
   "source": [
    "# Exclude those with CNS metastatsis at time of metastatic diagnosis \n",
    "cleopatra = cleopatra[~cleopatra['PatientID'].isin(cns_fl_IDs)]"
   ]
  },
  {
   "cell_type": "code",
   "execution_count": 351,
   "id": "1185ee57",
   "metadata": {},
   "outputs": [],
   "source": [
    "# Exlcude those with cardiac comorbidities\n",
    "cleopatra = cleopatra[~cleopatra['PatientID'].isin(cardiac_IDs)]"
   ]
  },
  {
   "cell_type": "code",
   "execution_count": 352,
   "id": "04b64a00",
   "metadata": {},
   "outputs": [],
   "source": [
    "# Exlcude those with other relevant comorbidities\n",
    "cleopatra = cleopatra[~cleopatra['PatientID'].isin(other_comorb_IDs)]"
   ]
  },
  {
   "cell_type": "code",
   "execution_count": 353,
   "id": "a688de1d",
   "metadata": {},
   "outputs": [],
   "source": [
    "# Exclude those with ECOG 2, 3, or 4\n",
    "cleopatra = cleopatra[~cleopatra['PatientID'].isin(ecog_fl_234_IDs)]"
   ]
  },
  {
   "cell_type": "code",
   "execution_count": 354,
   "id": "73fbd721",
   "metadata": {},
   "outputs": [],
   "source": [
    "# Exclude those with abnormal organ function at time of second line treatment \n",
    "cleopatra = cleopatra[~cleopatra['PatientID'].isin(ab_organ_fl_IDs)]"
   ]
  },
  {
   "cell_type": "code",
   "execution_count": 355,
   "id": "4b5ad4a4",
   "metadata": {},
   "outputs": [
    {
     "data": {
      "text/plain": [
       "(1005, 1005)"
      ]
     },
     "execution_count": 355,
     "metadata": {},
     "output_type": "execute_result"
    }
   ],
   "source": [
    "row_ID(cleopatra)"
   ]
  },
  {
   "cell_type": "code",
   "execution_count": 356,
   "id": "0530507f",
   "metadata": {},
   "outputs": [],
   "source": [
    "low_cutoff_cleopatra = cutoff.loc['cleopatra'].low"
   ]
  },
  {
   "cell_type": "code",
   "execution_count": 357,
   "id": "a863dc20",
   "metadata": {},
   "outputs": [],
   "source": [
    "high_cutoff_cleopatra = cutoff.loc['cleopatra'].high"
   ]
  },
  {
   "cell_type": "code",
   "execution_count": 358,
   "id": "4afabd0e",
   "metadata": {},
   "outputs": [
    {
     "name": "stdout",
     "output_type": "stream",
     "text": [
      "Pertuzumab + trastuzumab + docetaxel/paclitaxel total: 892\n",
      "High risk: 219\n",
      "Med risk: 321\n",
      "Low risk: 352\n"
     ]
    }
   ],
   "source": [
    "print('Pertuzumab + trastuzumab + docetaxel/paclitaxel total:',  cleopatra.query('tpdp == 1').shape[0])\n",
    "print('High risk:', cleopatra.query('tpdp == 1').query('risk_score >= @high_cutoff_cleopatra').shape[0])\n",
    "print('Med risk:', cleopatra.query('tpdp == 1').query('risk_score < @high_cutoff_cleopatra and risk_score > @low_cutoff_cleopatra').shape[0])\n",
    "print('Low risk:', cleopatra.query('tpdp == 1').query('risk_score <= @low_cutoff_cleopatra').shape[0])"
   ]
  },
  {
   "cell_type": "code",
   "execution_count": 359,
   "id": "d874ae1f",
   "metadata": {
    "scrolled": true
   },
   "outputs": [
    {
     "name": "stdout",
     "output_type": "stream",
     "text": [
      "Trastuzumab + docetaxel/paclitaxel total: 113\n",
      "High risk: 39\n",
      "Med risk: 35\n",
      "Low risk: 39\n"
     ]
    }
   ],
   "source": [
    "print('Trastuzumab + docetaxel/paclitaxel total:',  cleopatra.query('tpdp == 0').shape[0])\n",
    "print('High risk:', cleopatra.query('tpdp == 0').query('risk_score >= @high_cutoff_cleopatra').shape[0])\n",
    "print('Med risk:', cleopatra.query('tpdp == 0').query('risk_score < @high_cutoff_cleopatra and risk_score > @low_cutoff_cleopatra').shape[0])\n",
    "print('Low risk:', cleopatra.query('tpdp == 0').query('risk_score <= @low_cutoff_cleopatra').shape[0])"
   ]
  },
  {
   "cell_type": "markdown",
   "id": "db5936bc",
   "metadata": {},
   "source": [
    "#### Survival curves with covaraite balancing "
   ]
  },
  {
   "cell_type": "code",
   "execution_count": 360,
   "id": "1a417862",
   "metadata": {},
   "outputs": [],
   "source": [
    "conditions = [\n",
    "    (cleopatra['thorax_met'] == 1) |\n",
    "    (cleopatra['liver_met'] == 1) |\n",
    "    (cleopatra['cns_met'] == 1) |\n",
    "    (cleopatra['peritoneum_met'] == 1) |\n",
    "    (cleopatra['other_met'] == 1),\n",
    "    (cleopatra['bone_met'] == 0) &\n",
    "    (cleopatra['thorax_met'] == 0) &\n",
    "    (cleopatra['lymph_met'] == 0) &\n",
    "    (cleopatra['liver_met'] == 0) &\n",
    "    (cleopatra['cns_met'] == 0) &\n",
    "    (cleopatra['skin_met'] == 0) &\n",
    "    (cleopatra['peritoneum_met'] == 0) &\n",
    "    (cleopatra['other_met'] == 0)\n",
    "]\n",
    "\n",
    "choices = ['visceral', 'unknown']\n",
    "\n",
    "cleopatra['met_site'] = np.select(conditions, choices, default = 'nonvisceral')"
   ]
  },
  {
   "cell_type": "code",
   "execution_count": 361,
   "id": "17ed498f",
   "metadata": {},
   "outputs": [],
   "source": [
    "cleopatra['met_cat'] = pd.cut(cleopatra['met_year'],\n",
    "                              bins = [2010, 2016, float('inf')],\n",
    "                              labels = ['11-16', '17-22'])"
   ]
  },
  {
   "cell_type": "code",
   "execution_count": 362,
   "id": "3187524b",
   "metadata": {},
   "outputs": [],
   "source": [
    "conditions = [\n",
    "    ((cleopatra['ecog_diagnosis'] == \"1.0\") | (cleopatra['ecog_diagnosis'] == \"0.0\")),  \n",
    "    ((cleopatra['ecog_diagnosis'] == \"2.0\") | (cleopatra['ecog_diagnosis'] == \"3.0\"))\n",
    "]\n",
    "\n",
    "choices = ['lt_2', 'gte_2']\n",
    "\n",
    "cleopatra['ecog_2'] = np.select(conditions, choices, default = 'unknown')"
   ]
  },
  {
   "cell_type": "code",
   "execution_count": 363,
   "id": "a843a449",
   "metadata": {},
   "outputs": [],
   "source": [
    "conditions = [\n",
    "    ((cleopatra['ses'] == 1) | (cleopatra['ses'] == 2) | (cleopatra['ses'] == 3)), \n",
    "    ((cleopatra['ses'] == 4) | (cleopatra['ses'] == 5))\n",
    "]\n",
    "\n",
    "choices = ['lt_4', 'gte_4']\n",
    "\n",
    "cleopatra['ses_cat'] = np.select(conditions, choices, default = 'unknown')"
   ]
  },
  {
   "cell_type": "code",
   "execution_count": 364,
   "id": "a1ce6d5a",
   "metadata": {},
   "outputs": [],
   "source": [
    "cleopatra['race_cat'] = np.where(cleopatra['race'] == \"White\", 1, 0)"
   ]
  },
  {
   "cell_type": "code",
   "execution_count": 365,
   "id": "730717d7",
   "metadata": {},
   "outputs": [],
   "source": [
    "cleopatra = cleopatra.set_index('PatientID')"
   ]
  },
  {
   "cell_type": "code",
   "execution_count": 366,
   "id": "8d819a70",
   "metadata": {},
   "outputs": [],
   "source": [
    "cleopatra_iptw = cleopatra.filter(items = ['death_status',\n",
    "                                           'timerisk_treatment',\n",
    "                                           'tpdp',\n",
    "                                           'age',\n",
    "                                           'gender',\n",
    "                                           'race_cat',\n",
    "                                           'p_type',\n",
    "                                           'delta_met_diagnosis',\n",
    "                                           'met_cat',\n",
    "                                           'ses_cat',\n",
    "                                           'ecog_2',\n",
    "                                           'risk_score'])"
   ]
  },
  {
   "cell_type": "code",
   "execution_count": 367,
   "id": "c0fe948b",
   "metadata": {},
   "outputs": [
    {
     "data": {
      "text/plain": [
       "death_status               bool\n",
       "timerisk_treatment      float64\n",
       "tpdp                      int64\n",
       "age                       int64\n",
       "gender                   object\n",
       "race_cat                  int64\n",
       "p_type                   object\n",
       "delta_met_diagnosis       int64\n",
       "met_cat                category\n",
       "ses_cat                  object\n",
       "ecog_2                   object\n",
       "risk_score              float64\n",
       "dtype: object"
      ]
     },
     "execution_count": 367,
     "metadata": {},
     "output_type": "execute_result"
    }
   ],
   "source": [
    "cleopatra_iptw.dtypes"
   ]
  },
  {
   "cell_type": "code",
   "execution_count": 368,
   "id": "fa28cae3",
   "metadata": {},
   "outputs": [],
   "source": [
    "to_be_categorical = list(cleopatra_iptw.select_dtypes(include = ['object']).columns)"
   ]
  },
  {
   "cell_type": "code",
   "execution_count": 369,
   "id": "2fbb8c62",
   "metadata": {},
   "outputs": [
    {
     "data": {
      "text/plain": [
       "['gender', 'p_type', 'ses_cat', 'ecog_2']"
      ]
     },
     "execution_count": 369,
     "metadata": {},
     "output_type": "execute_result"
    }
   ],
   "source": [
    "to_be_categorical"
   ]
  },
  {
   "cell_type": "code",
   "execution_count": 370,
   "id": "84266c9a",
   "metadata": {},
   "outputs": [],
   "source": [
    "to_be_categorical.append('met_cat')"
   ]
  },
  {
   "cell_type": "code",
   "execution_count": 371,
   "id": "dfec72bb",
   "metadata": {},
   "outputs": [],
   "source": [
    "to_be_categorical.append('race_cat')"
   ]
  },
  {
   "cell_type": "code",
   "execution_count": 372,
   "id": "725380ac",
   "metadata": {},
   "outputs": [],
   "source": [
    "# Convert variables in list to categorical.\n",
    "for x in list(to_be_categorical):\n",
    "    cleopatra_iptw[x] = cleopatra_iptw[x].astype('category')"
   ]
  },
  {
   "cell_type": "code",
   "execution_count": 373,
   "id": "ebf3e46b",
   "metadata": {},
   "outputs": [],
   "source": [
    "# List of numeric variables, excluding binary variables. \n",
    "numerical_features = ['age', 'delta_met_diagnosis']\n",
    "\n",
    "# Transformer will first calculate column median and impute, and then apply a standard scaler. \n",
    "numerical_transformer = Pipeline(steps = [\n",
    "    ('imputer', SimpleImputer(strategy = 'median')),\n",
    "    ('std_scaler', StandardScaler())])"
   ]
  },
  {
   "cell_type": "code",
   "execution_count": 374,
   "id": "8fbd9dbc",
   "metadata": {},
   "outputs": [],
   "source": [
    "# List of categorical features.\n",
    "categorical_features = list(cleopatra_iptw.select_dtypes(include = ['category']).columns)\n",
    "\n",
    "# One-hot-encode categorical features.\n",
    "categorical_transformer = OneHotEncoder(handle_unknown = 'ignore')"
   ]
  },
  {
   "cell_type": "code",
   "execution_count": 375,
   "id": "b94deea0",
   "metadata": {},
   "outputs": [],
   "source": [
    "preprocessor = ColumnTransformer(\n",
    "    transformers = [\n",
    "        ('num', numerical_transformer, numerical_features),\n",
    "        ('cat', categorical_transformer, categorical_features)],\n",
    "    remainder = 'passthrough')"
   ]
  },
  {
   "cell_type": "code",
   "execution_count": 376,
   "id": "5c4ff4be",
   "metadata": {},
   "outputs": [],
   "source": [
    "cleopatra_iptw_low = (\n",
    "    cleopatra_iptw\n",
    "    .query('risk_score <= @low_cutoff_cleopatra')\n",
    "    .drop(columns = ['risk_score']))\n",
    "\n",
    "cleopatra_iptw_med = (\n",
    "    cleopatra_iptw\n",
    "    .query('risk_score < @high_cutoff_cleopatra and risk_score > @low_cutoff_cleopatra')\n",
    "    .drop(columns = ['risk_score']))\n",
    "\n",
    "cleopatra_iptw_high = (\n",
    "    cleopatra_iptw\n",
    "    .query('risk_score >= @high_cutoff_cleopatra')\n",
    "    .drop(columns = ['risk_score']))\n",
    "\n",
    "cleopatra_iptw_all = (\n",
    "    cleopatra_iptw\n",
    "    .drop(columns = ['risk_score']))"
   ]
  },
  {
   "cell_type": "code",
   "execution_count": 377,
   "id": "6e177b4a",
   "metadata": {},
   "outputs": [],
   "source": [
    "cleopatra_low_x = preprocessor.fit_transform(cleopatra_iptw_low.filter(items = ['age',\n",
    "                                                                                'gender',\n",
    "                                                                                'race_cat',\n",
    "                                                                                'p_type',\n",
    "                                                                                'delta_met_diagnosis',\n",
    "                                                                                'met_cat',\n",
    "                                                                                'ses_cat',\n",
    "                                                                                'ecog_2']))\n",
    "\n",
    "cleopatra_med_x = preprocessor.fit_transform(cleopatra_iptw_med.filter(items = ['age',\n",
    "                                                                                'gender',\n",
    "                                                                                'race_cat',\n",
    "                                                                                'p_type',\n",
    "                                                                                'delta_met_diagnosis',\n",
    "                                                                                'met_cat',\n",
    "                                                                                'ses_cat',\n",
    "                                                                                'ecog_2']))\n",
    "\n",
    "cleopatra_high_x = preprocessor.fit_transform(cleopatra_iptw_high.filter(items = ['age',\n",
    "                                                                                  'gender',\n",
    "                                                                                  'race_cat',\n",
    "                                                                                  'p_type',\n",
    "                                                                                  'delta_met_diagnosis',\n",
    "                                                                                  'met_cat',\n",
    "                                                                                  'ses_cat',\n",
    "                                                                                  'ecog_2']))\n",
    "\n",
    "cleopatra_all_x = preprocessor.fit_transform(cleopatra_iptw_all.filter(items = ['age',\n",
    "                                                                                'gender',\n",
    "                                                                                'race_cat',\n",
    "                                                                                'p_type',\n",
    "                                                                                'delta_met_diagnosis',\n",
    "                                                                                'met_cat',\n",
    "                                                                                'ses_cat',\n",
    "                                                                                'ecog_2']))"
   ]
  },
  {
   "cell_type": "code",
   "execution_count": 378,
   "id": "c73e728a",
   "metadata": {},
   "outputs": [
    {
     "data": {
      "text/plain": [
       "LogisticRegression(max_iter=1000)"
      ]
     },
     "execution_count": 378,
     "metadata": {},
     "output_type": "execute_result"
    }
   ],
   "source": [
    "lr_cleopatra_low = LogisticRegression(max_iter = 1000)\n",
    "lr_cleopatra_low.fit(cleopatra_low_x, cleopatra_iptw_low['tpdp'])"
   ]
  },
  {
   "cell_type": "code",
   "execution_count": 379,
   "id": "e66617e0",
   "metadata": {},
   "outputs": [
    {
     "data": {
      "text/plain": [
       "LogisticRegression(max_iter=1000)"
      ]
     },
     "execution_count": 379,
     "metadata": {},
     "output_type": "execute_result"
    }
   ],
   "source": [
    "lr_cleopatra_med = LogisticRegression(max_iter = 1000)\n",
    "lr_cleopatra_med.fit(cleopatra_med_x, cleopatra_iptw_med['tpdp'])"
   ]
  },
  {
   "cell_type": "code",
   "execution_count": 380,
   "id": "d90bfd17",
   "metadata": {},
   "outputs": [
    {
     "data": {
      "text/plain": [
       "LogisticRegression(max_iter=1000)"
      ]
     },
     "execution_count": 380,
     "metadata": {},
     "output_type": "execute_result"
    }
   ],
   "source": [
    "lr_cleopatra_high = LogisticRegression(max_iter = 1000)\n",
    "lr_cleopatra_high.fit(cleopatra_high_x, cleopatra_iptw_high['tpdp'])"
   ]
  },
  {
   "cell_type": "code",
   "execution_count": 381,
   "id": "d7924ca4",
   "metadata": {},
   "outputs": [
    {
     "data": {
      "text/plain": [
       "LogisticRegression(max_iter=1000)"
      ]
     },
     "execution_count": 381,
     "metadata": {},
     "output_type": "execute_result"
    }
   ],
   "source": [
    "lr_cleopatra_all = LogisticRegression(max_iter = 1000)\n",
    "lr_cleopatra_all.fit(cleopatra_all_x, cleopatra_iptw_all['tpdp'])"
   ]
  },
  {
   "cell_type": "code",
   "execution_count": 382,
   "id": "47875605",
   "metadata": {},
   "outputs": [],
   "source": [
    "pred_low = lr_cleopatra_low.predict_proba(cleopatra_low_x)\n",
    "pred_med = lr_cleopatra_med.predict_proba(cleopatra_med_x)\n",
    "pred_high = lr_cleopatra_high.predict_proba(cleopatra_high_x)\n",
    "pred_all = lr_cleopatra_all.predict_proba(cleopatra_all_x)"
   ]
  },
  {
   "cell_type": "code",
   "execution_count": 383,
   "id": "a8ea6622",
   "metadata": {},
   "outputs": [],
   "source": [
    "cleopatra_iptw_low['ps'] = pred_low[:, 1]\n",
    "cleopatra_iptw_med['ps'] = pred_med[:, 1]\n",
    "cleopatra_iptw_high['ps'] = pred_high[:, 1]\n",
    "cleopatra_iptw_all['ps'] = pred_all[:, 1]"
   ]
  },
  {
   "cell_type": "code",
   "execution_count": 384,
   "id": "b8be8f94",
   "metadata": {},
   "outputs": [],
   "source": [
    "cleopatra_iptw_low['weight'] = (\n",
    "    np.where(cleopatra_iptw_low['tpdp'] == 1, 1/cleopatra_iptw_low['ps'], 1/(1 - cleopatra_iptw_low['ps'])))\n",
    "\n",
    "cleopatra_iptw_med['weight'] = (\n",
    "    np.where(cleopatra_iptw_med['tpdp'] == 1, 1/cleopatra_iptw_med['ps'], 1/(1 - cleopatra_iptw_med['ps'])))\n",
    "\n",
    "cleopatra_iptw_high['weight'] = (\n",
    "    np.where(cleopatra_iptw_high['tpdp'] == 1, 1/cleopatra_iptw_high['ps'], 1/(1 - cleopatra_iptw_high['ps'])))\n",
    "\n",
    "cleopatra_iptw_all['weight'] = (\n",
    "    np.where(cleopatra_iptw_all['tpdp'] == 1, 1/cleopatra_iptw_all['ps'], 1/(1 - cleopatra_iptw_all['ps'])))"
   ]
  },
  {
   "cell_type": "code",
   "execution_count": 385,
   "id": "fe37e81b",
   "metadata": {},
   "outputs": [
    {
     "name": "stderr",
     "output_type": "stream",
     "text": [
      "/Users/xavierorcutt/Dropbox/ist_project/myenv/lib/python3.7/site-packages/lifelines/fitters/kaplan_meier_fitter.py:344: StatisticalWarning: It looks like your weights are not integers, possibly propensity scores then?\n",
      "  It's important to know that the naive variance estimates of the coefficients are biased. Instead use Monte Carlo to\n",
      "  estimate the variances. See paper \"Variance estimation when using inverse probability of treatment weighting (IPTW) with survival analysis\"\n",
      "  or \"Adjusted Kaplan-Meier estimator and log-rank test with inverse probability of treatment weighting for survival data.\"\n",
      "                  \n",
      "  StatisticalWarning,\n"
     ]
    },
    {
     "data": {
      "text/plain": [
       "<lifelines.KaplanMeierFitter:\"KM_estimate\", fitted with 936.338 total observations, 303.26 right-censored observations>"
      ]
     },
     "execution_count": 385,
     "metadata": {},
     "output_type": "execute_result"
    }
   ],
   "source": [
    "# Low KM curves\n",
    "kmf_low_tpdp_cleopatra_iptw = KaplanMeierFitter()\n",
    "kmf_low_tdp_cleopatra_iptw = KaplanMeierFitter()\n",
    "\n",
    "kmf_low_tpdp_cleopatra_iptw.fit(\n",
    "    cleopatra_iptw_low.query('tpdp == 1')['timerisk_treatment']/30,\n",
    "    cleopatra_iptw_low.query('tpdp == 1')['death_status'],\n",
    "    weights = cleopatra_iptw_low.query('tpdp == 1')['weight'])\n",
    "\n",
    "kmf_low_tdp_cleopatra_iptw.fit(\n",
    "    cleopatra_iptw_low.query('tpdp == 0')['timerisk_treatment']/30,\n",
    "    cleopatra_iptw_low.query('tpdp == 0')['death_status'],\n",
    "    weights = cleopatra_iptw_low.query('tpdp == 0')['weight'])\n",
    "\n",
    "# Med KM curves\n",
    "kmf_med_tpdp_cleopatra_iptw = KaplanMeierFitter()\n",
    "kmf_med_tdp_cleopatra_iptw = KaplanMeierFitter()\n",
    "\n",
    "kmf_med_tpdp_cleopatra_iptw.fit(\n",
    "    cleopatra_iptw_med.query('tpdp == 1')['timerisk_treatment']/30,\n",
    "    cleopatra_iptw_med.query('tpdp == 1')['death_status'], \n",
    "    weights = cleopatra_iptw_med.query('tpdp == 1')['weight'])\n",
    "\n",
    "kmf_med_tdp_cleopatra_iptw.fit(\n",
    "    cleopatra_iptw_med.query('tpdp == 0')['timerisk_treatment']/30,\n",
    "    cleopatra_iptw_med.query('tpdp == 0')['death_status'], \n",
    "    weights = cleopatra_iptw_med.query('tpdp == 0')['weight'])\n",
    "\n",
    "# High KM curves \n",
    "kmf_high_tpdp_cleopatra_iptw = KaplanMeierFitter()\n",
    "kmf_high_tdp_cleopatra_iptw = KaplanMeierFitter()\n",
    "\n",
    "kmf_high_tpdp_cleopatra_iptw.fit(\n",
    "    cleopatra_iptw_high.query('tpdp == 1')['timerisk_treatment']/30,\n",
    "    cleopatra_iptw_high.query('tpdp == 1')['death_status'], \n",
    "    weights = cleopatra_iptw_high.query('tpdp == 1')['weight'])\n",
    "\n",
    "kmf_high_tdp_cleopatra_iptw.fit(\n",
    "    cleopatra_iptw_high.query('tpdp == 0')['timerisk_treatment']/30,\n",
    "    cleopatra_iptw_high.query('tpdp == 0')['death_status'], \n",
    "    weights = cleopatra_iptw_high.query('tpdp == 0')['weight'])\n",
    "\n",
    "# All KM curves \n",
    "kmf_all_tpdp_cleopatra_iptw = KaplanMeierFitter()\n",
    "kmf_all_tdp_cleopatra_iptw = KaplanMeierFitter()\n",
    "\n",
    "kmf_all_tpdp_cleopatra_iptw.fit(\n",
    "    cleopatra_iptw_all.query('tpdp == 1')['timerisk_treatment']/30,\n",
    "    cleopatra_iptw_all.query('tpdp == 1')['death_status'], \n",
    "    weights = cleopatra_iptw_all.query('tpdp == 1')['weight'])\n",
    "\n",
    "kmf_all_tdp_cleopatra_iptw.fit(\n",
    "    cleopatra_iptw_all.query('tpdp == 0')['timerisk_treatment']/30,\n",
    "    cleopatra_iptw_all.query('tpdp == 0')['death_status'], \n",
    "    weights = cleopatra_iptw_all.query('tpdp == 0')['weight'])"
   ]
  },
  {
   "cell_type": "code",
   "execution_count": 386,
   "id": "45bce158",
   "metadata": {},
   "outputs": [
    {
     "data": {
      "image/png": "[encoded data removed]",
      "text/plain": [
       "<Figure size 1800x600 with 5 Axes>"
      ]
     },
     "metadata": {},
     "output_type": "display_data"
    }
   ],
   "source": [
    "fig = plt.figure(figsize=(18, 6))\n",
    "\n",
    "# Plot survival curves for low risk group \n",
    "plt.subplot(1, 4, 1)\n",
    "\n",
    "plt.step(kmf_low_tpdp_cleopatra_iptw.timeline, kmf_low_tpdp_cleopatra_iptw.survival_function_.values*100, color = 'red', alpha = 0.5)\n",
    "\n",
    "plt.step(kmf_low_tdp_cleopatra_iptw.timeline, kmf_low_tdp_cleopatra_iptw.survival_function_.values*100, color = 'black', alpha = 0.5)\n",
    "\n",
    "plt.xticks(np.arange(0, 61, 6))\n",
    "plt.xlim(0, 61)\n",
    "plt.ylim(0, 100)\n",
    "\n",
    "plt.title('Low-risk', weight = 'bold')\n",
    "plt.ylabel('OS (%)', size = 12, weight = 'bold')\n",
    "\n",
    "plt.gca().spines['top'].set_visible(False)\n",
    "plt.gca().spines['right'].set_visible(False)\n",
    "\n",
    "# Plot survival curves for med risk group. \n",
    "plt.subplot(1, 4, 2)\n",
    "\n",
    "plt.step(kmf_med_tpdp_cleopatra_iptw.timeline, kmf_med_tpdp_cleopatra_iptw.survival_function_.values*100, color = 'red', alpha = 0.5)\n",
    "\n",
    "plt.step(kmf_med_tdp_cleopatra_iptw.timeline, kmf_med_tdp_cleopatra_iptw.survival_function_.values*100, color = 'black', alpha = 0.5)\n",
    "\n",
    "plt.xticks(np.arange(0, 61, 6))\n",
    "plt.xlim(0, 61)\n",
    "plt.ylim(0, 100)\n",
    "\n",
    "plt.title('Med-risk', weight = 'bold')\n",
    "\n",
    "plt.gca().spines['top'].set_visible(False)\n",
    "plt.gca().spines['right'].set_visible(False)\n",
    "\n",
    "# Plot survival curves by treatment for high risk group. \n",
    "plt.subplot(1, 4, 3)\n",
    "\n",
    "plt.step(kmf_high_tpdp_cleopatra_iptw.timeline, kmf_high_tpdp_cleopatra_iptw.survival_function_.values*100, color = 'red', alpha = 0.5)\n",
    "\n",
    "plt.step(kmf_high_tdp_cleopatra_iptw.timeline, kmf_high_tdp_cleopatra_iptw.survival_function_.values*100, color = 'black', alpha = 0.5)\n",
    "\n",
    "plt.xticks(np.arange(0, 61, 6))\n",
    "plt.xlim(0, 61)\n",
    "plt.ylim(0, 100)\n",
    "\n",
    "plt.title('High-risk', weight = 'bold')\n",
    "\n",
    "plt.gca().spines['top'].set_visible(False)\n",
    "plt.gca().spines['right'].set_visible(False)\n",
    "\n",
    "# Plot survival curves by treatment for all risk group. \n",
    "plt.subplot(1, 4, 4)\n",
    "\n",
    "plt.step(kmf_all_tpdp_cleopatra_iptw.timeline, kmf_all_tpdp_cleopatra_iptw.survival_function_.values*100, color = 'red', alpha = 0.5, label = 'Pertuzumab, trastuzumab, + docetaxe/paclitaxel')\n",
    "\n",
    "plt.step(kmf_all_tdp_cleopatra_iptw.timeline, kmf_all_tdp_cleopatra_iptw.survival_function_.values*100, color = 'black', alpha = 0.5, label = 'Trastuzumab + docetaxe/paclitaxel')\n",
    "\n",
    "plt.xticks(np.arange(0, 61, 6))\n",
    "plt.xlim(0, 61)\n",
    "plt.ylim(0, 100)\n",
    "\n",
    "plt.title('Full cohort', weight = 'bold')\n",
    "\n",
    "plt.gca().spines['top'].set_visible(False)\n",
    "plt.gca().spines['right'].set_visible(False)\n",
    "\n",
    "plt.legend(loc = 'upper right', prop = {'size': 9})\n",
    "\n",
    "fig.add_subplot(1, 1, 1, frameon = False)\n",
    "plt.tick_params(labelcolor = 'none', which = 'both', top = False, bottom = False, left = False, right = False)\n",
    "plt.xlabel('Months after treatment', labelpad = 15, size = 12, weight = 'bold')\n",
    "plt.title('CLEOPATRA: OS for pertuzumab, trastuzumab, and docetaxel/paclitaxel in HER2-positive metastatic breast cancer', pad = 40, size = 15, weight = 'bold')\n",
    "\n",
    "plt.show()"
   ]
  }
 ],
 "metadata": {
  "kernelspec": {
   "display_name": "My Virtual Environment",
   "language": "python",
   "name": "myenv"
  },
  "language_info": {
   "codemirror_mode": {
    "name": "ipython",
    "version": 3
   },
   "file_extension": ".py",
   "mimetype": "text/x-python",
   "name": "python",
   "nbconvert_exporter": "python",
   "pygments_lexer": "ipython3",
   "version": "3.7.10"
  }
 },
 "nbformat": 4,
 "nbformat_minor": 5
}
