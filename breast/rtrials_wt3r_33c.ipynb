{
 "cells": [
  {
   "cell_type": "markdown",
   "id": "ea206468",
   "metadata": {},
   "source": [
    "# Flatiron Health mBC: Relaxed trials with GBM crude\n",
    "\n",
    "***OBJECTIVE:*** **Reproduce 3 landmark clinical trials in metastatic breast cancer. Inclusion criteria for these trials will be pragmatically relaxed to allow for entry of our real-world patients, many of which would not meet inclusion criteria in randomized controlled trials. Patients included in our trials will next be risk stratified using the gradient boosted model with crude imputation into 1 of 3 risk groups: high (top tertile), medium (middle tertile), and low (bottom tertile). Inverse-probability treatment weighted survival analysis will then be performed across these risk groups to get real-world estimates of survival while adjusting for measured confounders.** \n",
    "\n",
    "***OUTLINE:***\n",
    "1. **Preprocessing**\n",
    "\n",
    "2. **In-silico trials:**\n",
    "* PALOMA-2 \n",
    "* PALOMA-3\n",
    "* CLEOPATRA\n",
    "* MONALEESA-2"
   ]
  },
  {
   "cell_type": "markdown",
   "id": "99713707",
   "metadata": {},
   "source": [
    "## Part 1: Preprocessing"
   ]
  },
  {
   "cell_type": "markdown",
   "id": "65a5b227",
   "metadata": {},
   "source": [
    "### 1.1 Import packages and create necessary functions"
   ]
  },
  {
   "cell_type": "code",
   "execution_count": 1,
   "id": "323dd0f5",
   "metadata": {},
   "outputs": [],
   "source": [
    "import numpy as np\n",
    "import pandas as pd\n",
    "\n",
    "from scipy import stats\n",
    "\n",
    "from sksurv.nonparametric import kaplan_meier_estimator\n",
    "from survive import KaplanMeier, SurvivalData\n",
    "\n",
    "from lifelines import KaplanMeierFitter\n",
    "from lifelines.plotting import add_at_risk_counts\n",
    "from lifelines.utils import median_survival_times\n",
    "\n",
    "import matplotlib.pyplot as plt\n",
    "import matplotlib.gridspec as gridspec\n",
    "\n",
    "from sklearn.pipeline import Pipeline\n",
    "from sklearn.impute import SimpleImputer\n",
    "from sklearn.preprocessing import StandardScaler, OneHotEncoder\n",
    "from sklearn.compose import ColumnTransformer \n",
    "from sklearn.linear_model import LogisticRegression\n",
    "\n",
    "from matplotlib.lines import Line2D   "
   ]
  },
  {
   "cell_type": "code",
   "execution_count": 2,
   "id": "4dd68dae",
   "metadata": {},
   "outputs": [],
   "source": [
    "# Function that returns number of rows and count of unique PatientIDs for a dataframe. \n",
    "def row_ID(dataframe):\n",
    "    row = dataframe.shape[0]\n",
    "    ID = dataframe['PatientID'].nunique()\n",
    "    return row, ID"
   ]
  },
  {
   "cell_type": "code",
   "execution_count": 3,
   "id": "f658a49f",
   "metadata": {},
   "outputs": [],
   "source": [
    "# Find index for value closest to input value. \n",
    "def find_nearest(array, value):\n",
    "    array = np.asarray(array)\n",
    "    idx = (np.abs(array - value)).argmin()\n",
    "    return array[idx]"
   ]
  },
  {
   "cell_type": "code",
   "execution_count": 4,
   "id": "dd00d399",
   "metadata": {},
   "outputs": [],
   "source": [
    "# Calculates probability of survival at time t-months for risk groups. \n",
    "def psurv_t(low, med, high, t):\n",
    "    low_t = low.survival_function_at_times(find_nearest(low.timeline, t)).values[0]*100\n",
    "    med_t = med.survival_function_at_times(find_nearest(med.timeline, t)).values[0]*100\n",
    "    high_t = high.survival_function_at_times(find_nearest(high.timeline, t)).values[0]*100\n",
    "    pos_t = [low_t, med_t, high_t]\n",
    "    return (pos_t)"
   ]
  },
  {
   "cell_type": "code",
   "execution_count": 5,
   "id": "162c95ac",
   "metadata": {},
   "outputs": [],
   "source": [
    "# Calculates median overeall suvival for risk groups. \n",
    "def mos(low, med, high, comp):\n",
    "    low_os = low.median_survival_time_\n",
    "    med_os = med.median_survival_time_\n",
    "    high_os = high.median_survival_time_\n",
    "    comp_os = comp.median_survival_time_\n",
    "    mos = [low_os, med_os, high_os, comp_os]\n",
    "    return (mos)"
   ]
  },
  {
   "cell_type": "code",
   "execution_count": 6,
   "id": "3060b0a9",
   "metadata": {},
   "outputs": [],
   "source": [
    "# Calculates upper and lower 95% CI for median overall survival. \n",
    "def mos_ci(kmf):\n",
    "    kmf_mos_low = (\n",
    "        kmf.confidence_interval_[['KM_estimate_lower_0.95']]\n",
    "        [kmf.confidence_interval_[['KM_estimate_lower_0.95']] == find_nearest(kmf.confidence_interval_['KM_estimate_lower_0.95'], 0.5)]\n",
    "        .idxmin()[0])\n",
    "\n",
    "    kmf_mos_up = (\n",
    "        kmf.confidence_interval_[['KM_estimate_upper_0.95']]\n",
    "        [kmf.confidence_interval_[['KM_estimate_upper_0.95']] == find_nearest(kmf.confidence_interval_['KM_estimate_upper_0.95'], 0.5)]\n",
    "        .idxmin()[0])\n",
    "    \n",
    "    mos_ci = [kmf_mos_low, kmf_mos_up]\n",
    "    return (mos_ci)"
   ]
  },
  {
   "cell_type": "code",
   "execution_count": 7,
   "id": "b47eba40",
   "metadata": {},
   "outputs": [],
   "source": [
    "# Calculates upper and lower 95% CI for probability of survival at time t. \n",
    "def psurv_ci(kmf, t):\n",
    "    kmf_psurv_ci_low = (\n",
    "        kmf.confidence_interval_.loc[find_nearest(kmf.confidence_interval_.index, t)][0]*100)\n",
    "\n",
    "    kmf_psurv_ci_up = (\n",
    "        kmf.confidence_interval_.loc[find_nearest(kmf.confidence_interval_.index, t)][1]*100)\n",
    "    \n",
    "    psurv_ci = [kmf_psurv_ci_low, kmf_psurv_ci_up]\n",
    "    return (psurv_ci)"
   ]
  },
  {
   "cell_type": "code",
   "execution_count": 8,
   "id": "86f86603",
   "metadata": {},
   "outputs": [],
   "source": [
    "# Calculate median overall survival or psurv error. \n",
    "def y_error(low_ci, med_ci, high_ci, surv_metric):\n",
    "    error = [np.array([surv_metric[0] - low_ci[0],\n",
    "                       surv_metric[1]- med_ci[0],\n",
    "                       surv_metric[2] - high_ci[0]]),\n",
    "               np.array([low_ci[1] - surv_metric[0],\n",
    "                         med_ci[1] - surv_metric[1],\n",
    "                         high_ci[1] - surv_metric[2]])]\n",
    "    return(error)"
   ]
  },
  {
   "cell_type": "code",
   "execution_count": 9,
   "id": "26873c9b",
   "metadata": {},
   "outputs": [],
   "source": [
    "# Cutoff decimlas to length n. \n",
    "def truncate(n, decimals = 0):\n",
    "    multiplier = 10 ** decimals\n",
    "    return int(n * multiplier) / multiplier"
   ]
  },
  {
   "cell_type": "markdown",
   "id": "e96c76d7",
   "metadata": {},
   "source": [
    "### 1.2 Process data "
   ]
  },
  {
   "cell_type": "code",
   "execution_count": 10,
   "id": "71f644df",
   "metadata": {},
   "outputs": [
    {
     "data": {
      "text/plain": [
       "(25341, 25341)"
      ]
     },
     "execution_count": 10,
     "metadata": {},
     "output_type": "execute_result"
    }
   ],
   "source": [
    "train = pd.read_csv('train_full.csv')\n",
    "row_ID(train)"
   ]
  },
  {
   "cell_type": "code",
   "execution_count": 11,
   "id": "74cb977e",
   "metadata": {},
   "outputs": [
    {
     "data": {
      "text/plain": [
       "(6336, 6336)"
      ]
     },
     "execution_count": 11,
     "metadata": {},
     "output_type": "execute_result"
    }
   ],
   "source": [
    "test = pd.read_csv('test_full.csv')\n",
    "row_ID(test)"
   ]
  },
  {
   "cell_type": "code",
   "execution_count": 12,
   "id": "2b0ebf54",
   "metadata": {},
   "outputs": [
    {
     "data": {
      "text/plain": [
       "(31677, 31677)"
      ]
     },
     "execution_count": 12,
     "metadata": {},
     "output_type": "execute_result"
    }
   ],
   "source": [
    "df = pd.concat([train, test], ignore_index = True)\n",
    "row_ID(df)"
   ]
  },
  {
   "cell_type": "code",
   "execution_count": 13,
   "id": "20e92352",
   "metadata": {},
   "outputs": [
    {
     "data": {
      "text/plain": [
       "(31677, 31677)"
      ]
     },
     "execution_count": 13,
     "metadata": {},
     "output_type": "execute_result"
    }
   ],
   "source": [
    "crude_risk_score_df = pd.read_csv('crude_risk_score_df.csv')\n",
    "row_ID(crude_risk_score_df)"
   ]
  },
  {
   "cell_type": "code",
   "execution_count": 14,
   "id": "dbe0d46d",
   "metadata": {},
   "outputs": [
    {
     "data": {
      "text/plain": [
       "(31677, 31677)"
      ]
     },
     "execution_count": 14,
     "metadata": {},
     "output_type": "execute_result"
    }
   ],
   "source": [
    "df = pd.merge(df, crude_risk_score_df, on = 'PatientID')\n",
    "row_ID(df)"
   ]
  },
  {
   "cell_type": "code",
   "execution_count": 15,
   "id": "5906191b",
   "metadata": {},
   "outputs": [],
   "source": [
    "df.to_csv('df_risk_crude.csv', index = False, header = True)"
   ]
  },
  {
   "cell_type": "markdown",
   "id": "e81e88b6",
   "metadata": {},
   "source": [
    "## Part 2: In silico trials "
   ]
  },
  {
   "cell_type": "markdown",
   "id": "f329e889",
   "metadata": {},
   "source": [
    "### PALOMA-2: palbociclib plus letrozole vs. letrozole in hormone-sensitive metastatic breast cancer\n",
    "\n",
    "**INCLUSION**\n",
    "* Untreated metastatic breast cancer\n",
    "* Received first line palbociclib and aromatase inhibitor or aromatase inhibitor alone\n",
    "* Luteinizing hormone–releasing hormone agonist (leuprolide, goserelin, and triptorelin) is allowed in either arm\n",
    "* ER-positive within [-90, +30] days of first-line treatment\n",
    "* HER-2 negative within [-90, +30] days of first-line treatment"
   ]
  },
  {
   "cell_type": "markdown",
   "id": "7b46836c",
   "metadata": {},
   "source": [
    "#### Palbociclib plus AI "
   ]
  },
  {
   "cell_type": "code",
   "execution_count": 16,
   "id": "05fd385e",
   "metadata": {},
   "outputs": [
    {
     "data": {
      "text/plain": [
       "31677"
      ]
     },
     "execution_count": 16,
     "metadata": {},
     "output_type": "execute_result"
    }
   ],
   "source": [
    "df_full = pd.read_csv('df_risk_crude.csv', index_col = 'PatientID', dtype = {'death_status': bool})\n",
    "df_full.index.nunique()"
   ]
  },
  {
   "cell_type": "code",
   "execution_count": 17,
   "id": "43ae2f6d",
   "metadata": {},
   "outputs": [],
   "source": [
    "line_therapy = pd.read_csv('LineOfTherapy.csv')"
   ]
  },
  {
   "cell_type": "code",
   "execution_count": 18,
   "id": "c8fcc331",
   "metadata": {},
   "outputs": [],
   "source": [
    "line_therapy_fl = (\n",
    "    line_therapy[line_therapy['PatientID'].isin(df_full.index)]\n",
    "    .query('LineNumber == 1'))"
   ]
  },
  {
   "cell_type": "code",
   "execution_count": 19,
   "id": "6f65b50d",
   "metadata": {
    "scrolled": true
   },
   "outputs": [
    {
     "data": {
      "text/plain": [
       "Letrozole,Palbociclib                  2503\n",
       "Fulvestrant,Palbociclib                1324\n",
       "Anastrozole,Palbociclib                 466\n",
       "Palbociclib                             261\n",
       "Exemestane,Palbociclib                  123\n",
       "Letrozole,Leuprolide,Palbociclib         98\n",
       "Goserelin,Letrozole,Palbociclib          90\n",
       "Fulvestrant,Letrozole,Palbociclib        40\n",
       "Anastrozole,Fulvestrant,Palbociclib      37\n",
       "Palbociclib,Tamoxifen                    31\n",
       "Name: LineName, dtype: int64"
      ]
     },
     "execution_count": 19,
     "metadata": {},
     "output_type": "execute_result"
    }
   ],
   "source": [
    "line_therapy_fl[line_therapy_fl['LineName'].str.contains('Palbociclib')].LineName.value_counts().head(10)"
   ]
  },
  {
   "cell_type": "code",
   "execution_count": 20,
   "id": "18a21335",
   "metadata": {},
   "outputs": [],
   "source": [
    "# Of note, LH releasing hormone agonist (leuprolide, goserelin, and triptorelin) not excluded\n",
    "ai = [\n",
    "    'Anastrozole',\n",
    "    'Letrozole',\n",
    "    'Exemestane']\n",
    "\n",
    "exc = [\n",
    "    'Capecitabine',\n",
    "    'Carboplatin',\n",
    "    'Cisplatin',\n",
    "    'Cyclophosphamide',\n",
    "    'Cytarabine Liposomal',\n",
    "    'Decitabine',\n",
    "    'Docetaxel',\n",
    "    'Doxorubicin',\n",
    "    'Doxorubicin Pegylated Liposomal',\n",
    "    'Eribulin',\n",
    "    'Etoposide',\n",
    "    'Fluorouracil',\n",
    "    'Gemcitabine',\n",
    "    'Hydroxyurea',\n",
    "    'Leucovorin',\n",
    "    'Methotrexate',\n",
    "    'Oxaliplatin',\n",
    "    'Paclitaxel',\n",
    "    'Paclitaxel Protein-Bound',\n",
    "    'Vinorelbine',\n",
    "    'Nivolumab',\n",
    "    'Pembrolizumab',\n",
    "    'Abemaciclib',\n",
    "    'Alpelisib',\n",
    "    'Fulvestrant',\n",
    "    'Ribociclib',\n",
    "    'Tamoxifen',\n",
    "    'Carfilzomib',\n",
    "    'Daratumumab',\n",
    "    'Everolimus',\n",
    "    'Imatinib',\n",
    "    'Lapatinib',\n",
    "    'Lenalidomide',\n",
    "    'Neratinib',\n",
    "    'Olaparib',\n",
    "    'Pazopanib',\n",
    "    'Pertuzumab',\n",
    "    'Rituximab',\n",
    "    'Sorafenib',\n",
    "    'Toremifene',\n",
    "    'Trastuzumab',\n",
    "    'Clinical Study Drug',\n",
    "]"
   ]
  },
  {
   "cell_type": "code",
   "execution_count": 21,
   "id": "fef320d5",
   "metadata": {},
   "outputs": [
    {
     "data": {
      "text/plain": [
       "Letrozole,Palbociclib                  2503\n",
       "Anastrozole,Palbociclib                 466\n",
       "Exemestane,Palbociclib                  123\n",
       "Letrozole,Leuprolide,Palbociclib         98\n",
       "Goserelin,Letrozole,Palbociclib          90\n",
       "Anastrozole,Goserelin,Palbociclib        17\n",
       "Anastrozole,Leuprolide,Palbociclib       17\n",
       "Letrozole,Palbociclib,Triptorelin         5\n",
       "Anastrozole,Palbociclib,Triptorelin       4\n",
       "Exemestane,Goserelin,Palbociclib          4\n",
       "Exemestane,Leuprolide,Palbociclib         3\n",
       "Name: LineName, dtype: int64"
      ]
     },
     "execution_count": 21,
     "metadata": {},
     "output_type": "execute_result"
    }
   ],
   "source": [
    "line_therapy_fl[line_therapy_fl['LineName'].str.contains('|'.join(ai)) & \n",
    "                line_therapy_fl['LineName'].str.contains('Palbociclib') &\n",
    "                ~line_therapy_fl['LineName'].str.contains('|'.join(exc))].LineName.value_counts().head(30)"
   ]
  },
  {
   "cell_type": "code",
   "execution_count": 22,
   "id": "e0d7fd5c",
   "metadata": {},
   "outputs": [],
   "source": [
    "let_palb = (\n",
    "    line_therapy_fl[line_therapy_fl['LineName'].str.contains('|'.join(ai)) & \n",
    "                    line_therapy_fl['LineName'].str.contains('Palbociclib') &\n",
    "                    ~line_therapy_fl['LineName'].str.contains('|'.join(exc))]\n",
    "    [['PatientID', 'StartDate']]\n",
    ")"
   ]
  },
  {
   "cell_type": "code",
   "execution_count": 23,
   "id": "02c87dd4",
   "metadata": {},
   "outputs": [
    {
     "data": {
      "text/plain": [
       "(3330, 3330)"
      ]
     },
     "execution_count": 23,
     "metadata": {},
     "output_type": "execute_result"
    }
   ],
   "source": [
    "row_ID(let_palb)"
   ]
  },
  {
   "cell_type": "code",
   "execution_count": 24,
   "id": "dcb65670",
   "metadata": {},
   "outputs": [],
   "source": [
    "let_palb.loc[:,'let_palb'] = 1"
   ]
  },
  {
   "cell_type": "markdown",
   "id": "7d95512d",
   "metadata": {},
   "source": [
    "#### AI"
   ]
  },
  {
   "cell_type": "code",
   "execution_count": 25,
   "id": "fe2cc7c4",
   "metadata": {},
   "outputs": [
    {
     "data": {
      "text/plain": [
       "Letrozole                            2536\n",
       "Letrozole,Palbociclib                2503\n",
       "Letrozole,Ribociclib                  229\n",
       "Abemaciclib,Letrozole                 190\n",
       "Letrozole,Leuprolide,Palbociclib       98\n",
       "Goserelin,Letrozole,Palbociclib        90\n",
       "Fulvestrant,Letrozole                  64\n",
       "Letrozole,Trastuzumab                  59\n",
       "Fulvestrant,Letrozole,Palbociclib      40\n",
       "Letrozole,Leuprolide                   40\n",
       "Name: LineName, dtype: int64"
      ]
     },
     "execution_count": 25,
     "metadata": {},
     "output_type": "execute_result"
    }
   ],
   "source": [
    "line_therapy_fl[line_therapy_fl['LineName'].str.contains('Letrozole')].LineName.value_counts().head(10)"
   ]
  },
  {
   "cell_type": "code",
   "execution_count": 26,
   "id": "c643010a",
   "metadata": {},
   "outputs": [
    {
     "data": {
      "text/plain": [
       "Anastrozole                      2943\n",
       "Letrozole                        2536\n",
       "Exemestane                        780\n",
       "Letrozole,Leuprolide               40\n",
       "Anastrozole,Leuprolide             35\n",
       "Goserelin,Letrozole                26\n",
       "Anastrozole,Goserelin              20\n",
       "Exemestane,Goserelin                7\n",
       "Exemestane,Leuprolide               4\n",
       "Anastrozole,Triptorelin             2\n",
       "Letrozole,Medroxyprogesterone       1\n",
       "Letrozole,Triptorelin               1\n",
       "Anastrozole,Megestrol               1\n",
       "Name: LineName, dtype: int64"
      ]
     },
     "execution_count": 26,
     "metadata": {},
     "output_type": "execute_result"
    }
   ],
   "source": [
    "line_therapy_fl[line_therapy_fl['LineName'].str.contains('|'.join(ai)) & \n",
    "                ~line_therapy_fl['LineName'].str.contains('Palbociclib') &\n",
    "                ~line_therapy_fl['LineName'].str.contains('|'.join(exc))].LineName.value_counts().head(40)"
   ]
  },
  {
   "cell_type": "code",
   "execution_count": 27,
   "id": "18df15f2",
   "metadata": {},
   "outputs": [],
   "source": [
    "let = (\n",
    "    line_therapy_fl[line_therapy_fl['LineName'].str.contains('|'.join(ai)) & \n",
    "                    ~line_therapy_fl['LineName'].str.contains('Palbociclib') &\n",
    "                    ~line_therapy_fl['LineName'].str.contains('|'.join(exc))]\n",
    "    [['PatientID', 'StartDate']]\n",
    ")"
   ]
  },
  {
   "cell_type": "code",
   "execution_count": 28,
   "id": "848cc8a2",
   "metadata": {},
   "outputs": [
    {
     "data": {
      "text/plain": [
       "(6396, 6396)"
      ]
     },
     "execution_count": 28,
     "metadata": {},
     "output_type": "execute_result"
    }
   ],
   "source": [
    "row_ID(let)"
   ]
  },
  {
   "cell_type": "code",
   "execution_count": 29,
   "id": "8ba51968",
   "metadata": {},
   "outputs": [],
   "source": [
    "let.loc[:,'let_palb'] = 0"
   ]
  },
  {
   "cell_type": "code",
   "execution_count": 30,
   "id": "5cae5ce8",
   "metadata": {},
   "outputs": [],
   "source": [
    "paloma2 = pd.concat([let_palb, let])"
   ]
  },
  {
   "cell_type": "code",
   "execution_count": 31,
   "id": "133a321b",
   "metadata": {},
   "outputs": [
    {
     "data": {
      "text/plain": [
       "(9726, 9726)"
      ]
     },
     "execution_count": 31,
     "metadata": {},
     "output_type": "execute_result"
    }
   ],
   "source": [
    "row_ID(paloma2)"
   ]
  },
  {
   "cell_type": "code",
   "execution_count": 32,
   "id": "37e7f863",
   "metadata": {},
   "outputs": [],
   "source": [
    "paloma2 = pd.merge(df_full, paloma2, on = 'PatientID', how = 'inner')"
   ]
  },
  {
   "cell_type": "code",
   "execution_count": 33,
   "id": "da86dfc9",
   "metadata": {},
   "outputs": [
    {
     "data": {
      "text/plain": [
       "(9726, 9726)"
      ]
     },
     "execution_count": 33,
     "metadata": {},
     "output_type": "execute_result"
    }
   ],
   "source": [
    "row_ID(paloma2)"
   ]
  },
  {
   "cell_type": "code",
   "execution_count": 34,
   "id": "98c7b0a2",
   "metadata": {},
   "outputs": [],
   "source": [
    "paloma2['StartDate'] = pd.to_datetime(paloma2['StartDate'])"
   ]
  },
  {
   "cell_type": "markdown",
   "id": "d48d2a18",
   "metadata": {},
   "source": [
    "#### ER-positive and HER-2 negative "
   ]
  },
  {
   "cell_type": "code",
   "execution_count": 35,
   "id": "a6a24383",
   "metadata": {},
   "outputs": [],
   "source": [
    "biomarkers = pd.read_csv('Enhanced_MetBreastBiomarkers.csv')"
   ]
  },
  {
   "cell_type": "code",
   "execution_count": 36,
   "id": "aa7dc1d1",
   "metadata": {},
   "outputs": [],
   "source": [
    "biomarkers = biomarkers[biomarkers['PatientID'].isin(paloma2['PatientID'])]"
   ]
  },
  {
   "cell_type": "code",
   "execution_count": 37,
   "id": "df3e885e",
   "metadata": {},
   "outputs": [
    {
     "data": {
      "text/plain": [
       "(69754, 9662)"
      ]
     },
     "execution_count": 37,
     "metadata": {},
     "output_type": "execute_result"
    }
   ],
   "source": [
    "row_ID(biomarkers)"
   ]
  },
  {
   "cell_type": "code",
   "execution_count": 38,
   "id": "abf44771",
   "metadata": {},
   "outputs": [],
   "source": [
    "biomarkers = pd.merge(biomarkers, paloma2[['PatientID', 'StartDate']], on = 'PatientID', how = 'left')"
   ]
  },
  {
   "cell_type": "code",
   "execution_count": 39,
   "id": "bde54b33",
   "metadata": {},
   "outputs": [
    {
     "data": {
      "text/plain": [
       "(69754, 9662)"
      ]
     },
     "execution_count": 39,
     "metadata": {},
     "output_type": "execute_result"
    }
   ],
   "source": [
    "row_ID(biomarkers)"
   ]
  },
  {
   "cell_type": "code",
   "execution_count": 40,
   "id": "a40229b4",
   "metadata": {},
   "outputs": [],
   "source": [
    "biomarkers['StartDate'] = pd.to_datetime(biomarkers['StartDate'])"
   ]
  },
  {
   "cell_type": "code",
   "execution_count": 41,
   "id": "b84b9e5f",
   "metadata": {},
   "outputs": [],
   "source": [
    "biomarkers['ResultDate'] = pd.to_datetime(biomarkers['ResultDate'])"
   ]
  },
  {
   "cell_type": "code",
   "execution_count": 42,
   "id": "9ba4ebe1",
   "metadata": {},
   "outputs": [],
   "source": [
    "biomarkers['SpecimenReceivedDate'] = pd.to_datetime(biomarkers['SpecimenReceivedDate'])"
   ]
  },
  {
   "cell_type": "code",
   "execution_count": 43,
   "id": "0c473638",
   "metadata": {},
   "outputs": [],
   "source": [
    "biomarkers.loc[:, 'result_date'] = (\n",
    "    np.where(biomarkers['ResultDate'].isna(), biomarkers['SpecimenReceivedDate'], biomarkers['ResultDate'])\n",
    ")"
   ]
  },
  {
   "cell_type": "code",
   "execution_count": 44,
   "id": "1b462e5b",
   "metadata": {},
   "outputs": [],
   "source": [
    "biomarkers.loc[:, 'date_diff'] = (biomarkers['result_date'] - biomarkers['StartDate']).dt.days"
   ]
  },
  {
   "cell_type": "code",
   "execution_count": 45,
   "id": "8b48e60c",
   "metadata": {},
   "outputs": [],
   "source": [
    "er_status = (\n",
    "    biomarkers\n",
    "    .query('BiomarkerName == \"ER\"')\n",
    "    .query('date_diff <= 30 and date_diff >= -90')\n",
    "    .query('BiomarkerStatus == \"Positive\" or BiomarkerStatus == \"Negative\"') # don't select unknown values \n",
    "    .sort_values(['PatientID', 'date_diff'], ascending = [True, False]) # select ER status closest to treatment start\n",
    "    .drop_duplicates(subset = ['PatientID'], keep = 'first')\n",
    "    [['PatientID', 'BiomarkerStatus']]\n",
    "    .rename(columns = {'BiomarkerStatus': 'er'})\n",
    "   )"
   ]
  },
  {
   "cell_type": "code",
   "execution_count": 46,
   "id": "fa6be2ce",
   "metadata": {},
   "outputs": [
    {
     "data": {
      "text/plain": [
       "(6016, 6016)"
      ]
     },
     "execution_count": 46,
     "metadata": {},
     "output_type": "execute_result"
    }
   ],
   "source": [
    "row_ID(er_status)"
   ]
  },
  {
   "cell_type": "code",
   "execution_count": 47,
   "id": "31b8a580",
   "metadata": {},
   "outputs": [],
   "source": [
    "her2_status = (\n",
    "    biomarkers\n",
    "    .query('BiomarkerName == \"HER2\"')\n",
    "    .query('date_diff <= 30 and date_diff >= -90')\n",
    "    .sort_values(['PatientID', 'date_diff'], ascending = [True, False])\n",
    "    .drop_duplicates(subset = ['PatientID'], keep = 'first')\n",
    "    [['PatientID', 'BiomarkerStatus']]\n",
    "    .rename(columns = {'BiomarkerStatus': 'her2'})\n",
    ")"
   ]
  },
  {
   "cell_type": "code",
   "execution_count": 48,
   "id": "087a8775",
   "metadata": {},
   "outputs": [
    {
     "data": {
      "text/plain": [
       "(5607, 5607)"
      ]
     },
     "execution_count": 48,
     "metadata": {},
     "output_type": "execute_result"
    }
   ],
   "source": [
    "row_ID(her2_status)"
   ]
  },
  {
   "cell_type": "code",
   "execution_count": 49,
   "id": "2d4fd7f4",
   "metadata": {},
   "outputs": [],
   "source": [
    "paloma2 = pd.merge(paloma2, er_status, on  = 'PatientID', how = 'left')"
   ]
  },
  {
   "cell_type": "code",
   "execution_count": 50,
   "id": "2c661fbc",
   "metadata": {},
   "outputs": [
    {
     "data": {
      "text/plain": [
       "(9726, 9726)"
      ]
     },
     "execution_count": 50,
     "metadata": {},
     "output_type": "execute_result"
    }
   ],
   "source": [
    "row_ID(paloma2)"
   ]
  },
  {
   "cell_type": "code",
   "execution_count": 51,
   "id": "a73b1d97",
   "metadata": {},
   "outputs": [],
   "source": [
    "paloma2 = pd.merge(paloma2, her2_status, on  = 'PatientID', how = 'left')"
   ]
  },
  {
   "cell_type": "code",
   "execution_count": 52,
   "id": "dbb6b3f1",
   "metadata": {},
   "outputs": [
    {
     "data": {
      "text/plain": [
       "(9726, 9726)"
      ]
     },
     "execution_count": 52,
     "metadata": {},
     "output_type": "execute_result"
    }
   ],
   "source": [
    "row_ID(paloma2)"
   ]
  },
  {
   "cell_type": "code",
   "execution_count": 53,
   "id": "6d7b0e3d",
   "metadata": {},
   "outputs": [],
   "source": [
    "her2_neg = ['IHC negative (0-1+)',\n",
    "            'FISH negative/not amplified',\n",
    "            'IHC equivocal (2+)',\n",
    "            'Negative NOS',\n",
    "            'NGS negative (ERBB2 not amplified)',\n",
    "            'FISH equivocal',\n",
    "            'Equivocal NOS',\n",
    "            'NGS equivocal (ERBB2 amplification equivocal)']\n",
    "\n",
    "paloma2 = (\n",
    "    paloma2\n",
    "    .query('er == \"Positive\"')\n",
    "    .query('her2== @her2_neg')\n",
    ")"
   ]
  },
  {
   "cell_type": "code",
   "execution_count": 54,
   "id": "36f9b30a",
   "metadata": {},
   "outputs": [
    {
     "data": {
      "text/plain": [
       "(4842, 4842)"
      ]
     },
     "execution_count": 54,
     "metadata": {},
     "output_type": "execute_result"
    }
   ],
   "source": [
    "row_ID(paloma2)"
   ]
  },
  {
   "cell_type": "markdown",
   "id": "8d2be0d5",
   "metadata": {},
   "source": [
    "#### Time from treatment to progression/death or censor "
   ]
  },
  {
   "cell_type": "code",
   "execution_count": 55,
   "id": "7890881a",
   "metadata": {},
   "outputs": [],
   "source": [
    "mortality_tr = pd.read_csv('mortality_cleaned_tr.csv')"
   ]
  },
  {
   "cell_type": "code",
   "execution_count": 56,
   "id": "f0875ced",
   "metadata": {},
   "outputs": [],
   "source": [
    "mortality_te = pd.read_csv('mortality_cleaned_te.csv')"
   ]
  },
  {
   "cell_type": "code",
   "execution_count": 57,
   "id": "29323a05",
   "metadata": {},
   "outputs": [],
   "source": [
    "mortality_tr = mortality_tr[['PatientID', 'death_date', 'last_activity']]"
   ]
  },
  {
   "cell_type": "code",
   "execution_count": 58,
   "id": "f1007407",
   "metadata": {},
   "outputs": [],
   "source": [
    "mortality_te = mortality_te[['PatientID', 'death_date', 'last_activity']]"
   ]
  },
  {
   "cell_type": "code",
   "execution_count": 59,
   "id": "7c3aef80",
   "metadata": {},
   "outputs": [
    {
     "data": {
      "text/plain": [
       "(31677, 31677)"
      ]
     },
     "execution_count": 59,
     "metadata": {},
     "output_type": "execute_result"
    }
   ],
   "source": [
    "mortality = pd.concat([mortality_tr, mortality_te], ignore_index = True)\n",
    "row_ID(mortality)"
   ]
  },
  {
   "cell_type": "code",
   "execution_count": 60,
   "id": "66d0e1e7",
   "metadata": {},
   "outputs": [],
   "source": [
    "mortality.loc[:, 'last_activity'] = pd.to_datetime(mortality['last_activity'])"
   ]
  },
  {
   "cell_type": "code",
   "execution_count": 61,
   "id": "b8cac515",
   "metadata": {},
   "outputs": [],
   "source": [
    "mortality.loc[:, 'death_date'] = pd.to_datetime(mortality['death_date'])"
   ]
  },
  {
   "cell_type": "code",
   "execution_count": 62,
   "id": "6a8bc859",
   "metadata": {},
   "outputs": [
    {
     "data": {
      "text/plain": [
       "(31677, 31677)"
      ]
     },
     "execution_count": 62,
     "metadata": {},
     "output_type": "execute_result"
    }
   ],
   "source": [
    "row_ID(mortality)"
   ]
  },
  {
   "cell_type": "code",
   "execution_count": 63,
   "id": "86036430",
   "metadata": {},
   "outputs": [],
   "source": [
    "paloma2 = pd.merge(paloma2, mortality, on = 'PatientID', how = 'inner')"
   ]
  },
  {
   "cell_type": "code",
   "execution_count": 64,
   "id": "f7644a61",
   "metadata": {},
   "outputs": [
    {
     "data": {
      "text/plain": [
       "(4842, 4842)"
      ]
     },
     "execution_count": 64,
     "metadata": {},
     "output_type": "execute_result"
    }
   ],
   "source": [
    "row_ID(paloma2)"
   ]
  },
  {
   "cell_type": "code",
   "execution_count": 65,
   "id": "89a7c7b1",
   "metadata": {},
   "outputs": [],
   "source": [
    "progression = pd.read_csv ('Enhanced_MetBreastProgression.csv')"
   ]
  },
  {
   "cell_type": "code",
   "execution_count": 66,
   "id": "e6f78cf9",
   "metadata": {},
   "outputs": [],
   "source": [
    "progression = progression[progression['PatientID'].isin(paloma2['PatientID'])][['PatientID', 'ProgressionDate']]"
   ]
  },
  {
   "cell_type": "code",
   "execution_count": 67,
   "id": "cad00698",
   "metadata": {},
   "outputs": [],
   "source": [
    "progression['ProgressionDate'] = pd.to_datetime(progression['ProgressionDate'])"
   ]
  },
  {
   "cell_type": "code",
   "execution_count": 68,
   "id": "fc08a80e",
   "metadata": {},
   "outputs": [],
   "source": [
    "progression = (\n",
    "    progression\n",
    "    .sort_values(['PatientID', 'ProgressionDate'], ascending = [True, True])\n",
    "    .drop_duplicates(subset = 'PatientID', keep = 'first')\n",
    ")"
   ]
  },
  {
   "cell_type": "code",
   "execution_count": 69,
   "id": "0bfd4d67",
   "metadata": {},
   "outputs": [
    {
     "data": {
      "text/plain": [
       "(4840, 4840)"
      ]
     },
     "execution_count": 69,
     "metadata": {},
     "output_type": "execute_result"
    }
   ],
   "source": [
    "row_ID(progression)"
   ]
  },
  {
   "cell_type": "code",
   "execution_count": 70,
   "id": "417d85fa",
   "metadata": {},
   "outputs": [],
   "source": [
    "paloma2 = pd.merge(paloma2, progression, on = 'PatientID', how = 'left')"
   ]
  },
  {
   "cell_type": "code",
   "execution_count": 71,
   "id": "2baa65bd",
   "metadata": {},
   "outputs": [
    {
     "data": {
      "text/plain": [
       "(4842, 4842)"
      ]
     },
     "execution_count": 71,
     "metadata": {},
     "output_type": "execute_result"
    }
   ],
   "source": [
    "row_ID(paloma2)"
   ]
  },
  {
   "cell_type": "code",
   "execution_count": 72,
   "id": "59ee62b0",
   "metadata": {},
   "outputs": [
    {
     "data": {
      "text/plain": [
       "0.4012804626187526"
      ]
     },
     "execution_count": 72,
     "metadata": {},
     "output_type": "execute_result"
    }
   ],
   "source": [
    "# Percent without progression date\n",
    "len(paloma2.query('ProgressionDate.isna()', engine = 'python'))/len(paloma2)"
   ]
  },
  {
   "cell_type": "code",
   "execution_count": 73,
   "id": "c184c4aa",
   "metadata": {},
   "outputs": [],
   "source": [
    "conditions = [\n",
    "    (paloma2.ProgressionDate.notna()),\n",
    "    ((paloma2.ProgressionDate.isna()) & (paloma2['death_status'] == 1)),\n",
    "    ((paloma2.ProgressionDate.isna()) & (paloma2['death_status'] == 0))]\n",
    "\n",
    "choices = [\n",
    "    (paloma2['ProgressionDate'] - paloma2['StartDate']).dt.days,\n",
    "    (paloma2['death_date'] - paloma2['StartDate']).dt.days,\n",
    "    (paloma2['last_activity'] - paloma2['StartDate']).dt.days]\n",
    "\n",
    "paloma2.loc[:, 'time_prog_treatment'] = np.select(conditions, choices)"
   ]
  },
  {
   "cell_type": "code",
   "execution_count": 74,
   "id": "d50e3e3e",
   "metadata": {},
   "outputs": [],
   "source": [
    "paloma2 = paloma2.query('time_prog_treatment >= 0')"
   ]
  },
  {
   "cell_type": "code",
   "execution_count": 75,
   "id": "19bc34b6",
   "metadata": {},
   "outputs": [
    {
     "data": {
      "text/plain": [
       "4734"
      ]
     },
     "execution_count": 75,
     "metadata": {},
     "output_type": "execute_result"
    }
   ],
   "source": [
    "len(paloma2)"
   ]
  },
  {
   "cell_type": "code",
   "execution_count": 76,
   "id": "eb7bbd41",
   "metadata": {},
   "outputs": [],
   "source": [
    "conditions = [\n",
    "    (paloma2.ProgressionDate.notna()),\n",
    "    ((paloma2.ProgressionDate.isna()) & (paloma2['death_status'] == 1)),\n",
    "    ((paloma2.ProgressionDate.isna()) & (paloma2['death_status'] == 0))]\n",
    "\n",
    "choices = [1, 1, 0]\n",
    "\n",
    "paloma2.loc[:, 'pfs_status'] = np.select(conditions, choices)"
   ]
  },
  {
   "cell_type": "markdown",
   "id": "84792325",
   "metadata": {},
   "source": [
    "#### Patient count "
   ]
  },
  {
   "cell_type": "code",
   "execution_count": 77,
   "id": "222b66a0",
   "metadata": {},
   "outputs": [],
   "source": [
    "low_cutoff_paloma2 = paloma2.risk_score.quantile(1/3)"
   ]
  },
  {
   "cell_type": "code",
   "execution_count": 78,
   "id": "6e2d7b87",
   "metadata": {},
   "outputs": [],
   "source": [
    "high_cutoff_paloma2 = paloma2.risk_score.quantile(2/3)"
   ]
  },
  {
   "cell_type": "code",
   "execution_count": 79,
   "id": "8d06905f",
   "metadata": {},
   "outputs": [
    {
     "name": "stdout",
     "output_type": "stream",
     "text": [
      "Palbociclib plus letrozole total: 2137\n",
      "High risk: 615\n",
      "Med risk: 681\n",
      "Low risk: 841\n"
     ]
    }
   ],
   "source": [
    "print('Palbociclib plus letrozole total:',  paloma2.query('let_palb == 1').shape[0])\n",
    "print('High risk:', paloma2.query('let_palb == 1').query('risk_score >= @high_cutoff_paloma2').shape[0])\n",
    "print('Med risk:', paloma2.query('let_palb == 1').query('risk_score < @high_cutoff_paloma2 and risk_score > @low_cutoff_paloma2').shape[0])\n",
    "print('Low risk:', paloma2.query('let_palb == 1').query('risk_score <= @low_cutoff_paloma2').shape[0])"
   ]
  },
  {
   "cell_type": "code",
   "execution_count": 80,
   "id": "685bcb11",
   "metadata": {},
   "outputs": [
    {
     "name": "stdout",
     "output_type": "stream",
     "text": [
      "Letrozole: 2597\n",
      "High risk: 963\n",
      "Med risk: 897\n",
      "Low risk: 737\n"
     ]
    }
   ],
   "source": [
    "print('Letrozole:',  paloma2.query('let_palb == 0').shape[0])\n",
    "print('High risk:', paloma2.query('let_palb == 0').query('risk_score >= @high_cutoff_paloma2').shape[0])\n",
    "print('Med risk:', paloma2.query('let_palb == 0').query('risk_score < @high_cutoff_paloma2 and risk_score > @low_cutoff_paloma2').shape[0])\n",
    "print('Low risk:', paloma2.query('let_palb == 0').query('risk_score <= @low_cutoff_paloma2').shape[0])"
   ]
  },
  {
   "cell_type": "code",
   "execution_count": 81,
   "id": "ff682f93",
   "metadata": {},
   "outputs": [],
   "source": [
    "data = {'low': [low_cutoff_paloma2],\n",
    "        'high': [high_cutoff_paloma2]}\n",
    "\n",
    "risk_cutoff_breast = pd.DataFrame(data = data, index = ['paloma2'])"
   ]
  },
  {
   "cell_type": "markdown",
   "id": "65133e45",
   "metadata": {},
   "source": [
    "#### PFS curves with covariate balancing "
   ]
  },
  {
   "cell_type": "code",
   "execution_count": 82,
   "id": "e950f36e",
   "metadata": {},
   "outputs": [],
   "source": [
    "paloma2 = paloma2.set_index('PatientID')"
   ]
  },
  {
   "cell_type": "code",
   "execution_count": 83,
   "id": "a0f61fb5",
   "metadata": {},
   "outputs": [],
   "source": [
    "conditions = [\n",
    "    (paloma2['thorax_met'] == 1) |\n",
    "    (paloma2['liver_met'] == 1) |\n",
    "    (paloma2['cns_met'] == 1) |\n",
    "    (paloma2['peritoneum_met'] == 1) |\n",
    "    (paloma2['other_met'] == 1),\n",
    "    (paloma2['bone_met'] == 0) &\n",
    "    (paloma2['thorax_met'] == 0) &\n",
    "    (paloma2['lymph_met'] == 0) &\n",
    "    (paloma2['liver_met'] == 0) &\n",
    "    (paloma2['cns_met'] == 0) &\n",
    "    (paloma2['skin_met'] == 0) &\n",
    "    (paloma2['peritoneum_met'] == 0) &\n",
    "    (paloma2['other_met'] == 0)\n",
    "]\n",
    "\n",
    "choices = ['visceral', 'unknown']\n",
    "\n",
    "paloma2['met_site'] = np.select(conditions, choices, default = 'nonvisceral')"
   ]
  },
  {
   "cell_type": "code",
   "execution_count": 84,
   "id": "e32bc07d",
   "metadata": {},
   "outputs": [],
   "source": [
    "paloma2['met_cat'] = pd.cut(paloma2['met_year'],\n",
    "                            bins = [2010, 2016, float('inf')],\n",
    "                            labels = ['11-16', '17-22'])"
   ]
  },
  {
   "cell_type": "code",
   "execution_count": 85,
   "id": "c3067a1d",
   "metadata": {},
   "outputs": [],
   "source": [
    "conditions = [\n",
    "    ((paloma2['ecog_diagnosis'] == \"1.0\") | (paloma2['ecog_diagnosis'] == \"0.0\")),  \n",
    "    ((paloma2['ecog_diagnosis'] == \"2.0\") | (paloma2['ecog_diagnosis'] == \"3.0\"))\n",
    "]\n",
    "\n",
    "choices = ['lt_2', 'gte_2']\n",
    "\n",
    "paloma2['ecog_2'] = np.select(conditions, choices, default = 'unknown')"
   ]
  },
  {
   "cell_type": "code",
   "execution_count": 86,
   "id": "81daeec5",
   "metadata": {},
   "outputs": [],
   "source": [
    "paloma2_iptw = paloma2.filter(items = ['pfs_status',\n",
    "                                       'time_prog_treatment',\n",
    "                                       'let_palb',\n",
    "                                       'age',\n",
    "                                       'gender',\n",
    "                                       'race',\n",
    "                                       'p_type',\n",
    "                                       'delta_met_diagnosis',\n",
    "                                       'met_cat',\n",
    "                                       'commercial',\n",
    "                                       'medicare',\n",
    "                                       'medicaid',\n",
    "                                       'ses',\n",
    "                                       'ecog_2',\n",
    "                                       'met_site',\n",
    "                                       'risk_score'])"
   ]
  },
  {
   "cell_type": "code",
   "execution_count": 87,
   "id": "cd22d11f",
   "metadata": {},
   "outputs": [
    {
     "data": {
      "text/plain": [
       "pfs_status                int64\n",
       "time_prog_treatment     float64\n",
       "let_palb                  int64\n",
       "age                       int64\n",
       "gender                   object\n",
       "race                     object\n",
       "p_type                   object\n",
       "delta_met_diagnosis       int64\n",
       "met_cat                category\n",
       "commercial              float64\n",
       "medicare                float64\n",
       "medicaid                float64\n",
       "ses                     float64\n",
       "ecog_2                   object\n",
       "met_site                 object\n",
       "risk_score              float64\n",
       "dtype: object"
      ]
     },
     "execution_count": 87,
     "metadata": {},
     "output_type": "execute_result"
    }
   ],
   "source": [
    "paloma2_iptw.dtypes"
   ]
  },
  {
   "cell_type": "code",
   "execution_count": 88,
   "id": "f62feba7",
   "metadata": {},
   "outputs": [],
   "source": [
    "to_be_categorical = list(paloma2_iptw.select_dtypes(include = ['object']).columns)"
   ]
  },
  {
   "cell_type": "code",
   "execution_count": 89,
   "id": "6742f7ce",
   "metadata": {},
   "outputs": [
    {
     "data": {
      "text/plain": [
       "['gender', 'race', 'p_type', 'ecog_2', 'met_site']"
      ]
     },
     "execution_count": 89,
     "metadata": {},
     "output_type": "execute_result"
    }
   ],
   "source": [
    "to_be_categorical"
   ]
  },
  {
   "cell_type": "code",
   "execution_count": 90,
   "id": "cb719f8a",
   "metadata": {},
   "outputs": [],
   "source": [
    "to_be_categorical.append('met_cat')"
   ]
  },
  {
   "cell_type": "code",
   "execution_count": 91,
   "id": "14d95ebb",
   "metadata": {},
   "outputs": [],
   "source": [
    "to_be_categorical.append('ses')"
   ]
  },
  {
   "cell_type": "code",
   "execution_count": 92,
   "id": "7cbdcb38",
   "metadata": {},
   "outputs": [],
   "source": [
    "# Convert variables in list to categorical.\n",
    "for x in list(to_be_categorical):\n",
    "    paloma2_iptw[x] = paloma2_iptw[x].astype('category')"
   ]
  },
  {
   "cell_type": "code",
   "execution_count": 93,
   "id": "93459f57",
   "metadata": {},
   "outputs": [],
   "source": [
    "# List of numeric variables, excluding binary variables. \n",
    "numerical_features = ['age', 'delta_met_diagnosis']\n",
    "\n",
    "# Transformer will first calculate column median and impute, and then apply a standard scaler. \n",
    "numerical_transformer = Pipeline(steps = [\n",
    "    ('imputer', SimpleImputer(strategy = 'median')),\n",
    "    ('std_scaler', StandardScaler())])"
   ]
  },
  {
   "cell_type": "code",
   "execution_count": 94,
   "id": "84a564de",
   "metadata": {},
   "outputs": [],
   "source": [
    "# List of categorical features.\n",
    "categorical_features = list(paloma2_iptw.select_dtypes(include = ['category']).columns)\n",
    "\n",
    "# One-hot-encode categorical features.\n",
    "categorical_transformer = OneHotEncoder(handle_unknown = 'ignore')"
   ]
  },
  {
   "cell_type": "code",
   "execution_count": 95,
   "id": "5791138a",
   "metadata": {},
   "outputs": [],
   "source": [
    "preprocessor = ColumnTransformer(\n",
    "    transformers = [\n",
    "        ('num', numerical_transformer, numerical_features),\n",
    "        ('cat', categorical_transformer, categorical_features)],\n",
    "    remainder = 'passthrough')"
   ]
  },
  {
   "cell_type": "code",
   "execution_count": 96,
   "id": "90853d15",
   "metadata": {},
   "outputs": [],
   "source": [
    "paloma2_iptw_low = (\n",
    "    paloma2_iptw\n",
    "    .query('risk_score <= @low_cutoff_paloma2')\n",
    "    .drop(columns = ['risk_score']))\n",
    "\n",
    "paloma2_iptw_med = (\n",
    "    paloma2_iptw\n",
    "    .query('risk_score < @high_cutoff_paloma2 and risk_score > @low_cutoff_paloma2')\n",
    "    .drop(columns = ['risk_score']))\n",
    "\n",
    "paloma2_iptw_high = (\n",
    "    paloma2_iptw\n",
    "    .query('risk_score >= @high_cutoff_paloma2')\n",
    "    .drop(columns = ['risk_score']))\n",
    "\n",
    "paloma2_iptw_all = (\n",
    "    paloma2_iptw\n",
    "    .drop(columns = ['risk_score']))"
   ]
  },
  {
   "cell_type": "code",
   "execution_count": 97,
   "id": "d017f12b",
   "metadata": {},
   "outputs": [],
   "source": [
    "paloma2_low_x = preprocessor.fit_transform(paloma2_iptw_low.filter(items = ['age',\n",
    "                                                                            'gender',\n",
    "                                                                            'race',\n",
    "                                                                            'p_type',\n",
    "                                                                            'delta_met_diagnosis',\n",
    "                                                                            'met_cat',\n",
    "                                                                            'commercial',\n",
    "                                                                            'medicare',\n",
    "                                                                            'medicaid',\n",
    "                                                                            'ses',\n",
    "                                                                            'ecog_2',\n",
    "                                                                            'met_site']))\n",
    "\n",
    "paloma2_med_x = preprocessor.fit_transform(paloma2_iptw_med.filter(items = ['age',\n",
    "                                                                            'gender',\n",
    "                                                                            'race',\n",
    "                                                                            'p_type',\n",
    "                                                                            'delta_met_diagnosis',\n",
    "                                                                            'met_cat',\n",
    "                                                                            'commercial',\n",
    "                                                                            'medicare',\n",
    "                                                                            'medicaid',\n",
    "                                                                            'ses',\n",
    "                                                                            'ecog_2',\n",
    "                                                                            'met_site']))\n",
    "\n",
    "paloma2_high_x = preprocessor.fit_transform(paloma2_iptw_high.filter(items = ['age',\n",
    "                                                                              'gender',\n",
    "                                                                              'race',\n",
    "                                                                              'p_type',\n",
    "                                                                              'delta_met_diagnosis',\n",
    "                                                                              'met_cat',\n",
    "                                                                              'commercial',\n",
    "                                                                              'medicare',\n",
    "                                                                              'medicaid',\n",
    "                                                                              'ses',\n",
    "                                                                              'ecog_2',\n",
    "                                                                              'met_site']))\n",
    "\n",
    "paloma2_all_x = preprocessor.fit_transform(paloma2_iptw_all.filter(items = ['age',\n",
    "                                                                            'gender',\n",
    "                                                                            'race',\n",
    "                                                                            'p_type',\n",
    "                                                                            'delta_met_diagnosis',\n",
    "                                                                            'met_cat',\n",
    "                                                                            'commercial',\n",
    "                                                                            'medicare',\n",
    "                                                                            'medicaid',\n",
    "                                                                            'ses',\n",
    "                                                                            'ecog_2',\n",
    "                                                                            'met_site']))"
   ]
  },
  {
   "cell_type": "code",
   "execution_count": 98,
   "id": "448d3981",
   "metadata": {},
   "outputs": [
    {
     "data": {
      "text/plain": [
       "LogisticRegression(max_iter=1000)"
      ]
     },
     "execution_count": 98,
     "metadata": {},
     "output_type": "execute_result"
    }
   ],
   "source": [
    "lr_paloma2_low = LogisticRegression(max_iter = 1000)\n",
    "lr_paloma2_low.fit(paloma2_low_x, paloma2_iptw_low['let_palb'])"
   ]
  },
  {
   "cell_type": "code",
   "execution_count": 99,
   "id": "237476d7",
   "metadata": {},
   "outputs": [
    {
     "data": {
      "text/plain": [
       "LogisticRegression(max_iter=1000)"
      ]
     },
     "execution_count": 99,
     "metadata": {},
     "output_type": "execute_result"
    }
   ],
   "source": [
    "lr_paloma2_med = LogisticRegression(max_iter = 1000)\n",
    "lr_paloma2_med.fit(paloma2_med_x, paloma2_iptw_med['let_palb'])"
   ]
  },
  {
   "cell_type": "code",
   "execution_count": 100,
   "id": "35b7b6cc",
   "metadata": {},
   "outputs": [
    {
     "data": {
      "text/plain": [
       "LogisticRegression(max_iter=1000)"
      ]
     },
     "execution_count": 100,
     "metadata": {},
     "output_type": "execute_result"
    }
   ],
   "source": [
    "lr_paloma2_high = LogisticRegression(max_iter = 1000)\n",
    "lr_paloma2_high.fit(paloma2_high_x, paloma2_iptw_high['let_palb'])"
   ]
  },
  {
   "cell_type": "code",
   "execution_count": 101,
   "id": "bf96d894",
   "metadata": {},
   "outputs": [
    {
     "data": {
      "text/plain": [
       "LogisticRegression(max_iter=1000)"
      ]
     },
     "execution_count": 101,
     "metadata": {},
     "output_type": "execute_result"
    }
   ],
   "source": [
    "lr_paloma2_all = LogisticRegression(max_iter = 1000)\n",
    "lr_paloma2_all.fit(paloma2_all_x, paloma2_iptw_all['let_palb'])"
   ]
  },
  {
   "cell_type": "code",
   "execution_count": 102,
   "id": "c15a79f2",
   "metadata": {},
   "outputs": [],
   "source": [
    "pred_low = lr_paloma2_low.predict_proba(paloma2_low_x)\n",
    "pred_med = lr_paloma2_med.predict_proba(paloma2_med_x)\n",
    "pred_high = lr_paloma2_high.predict_proba(paloma2_high_x)\n",
    "pred_all = lr_paloma2_all.predict_proba(paloma2_all_x)"
   ]
  },
  {
   "cell_type": "code",
   "execution_count": 103,
   "id": "31f02888",
   "metadata": {},
   "outputs": [],
   "source": [
    "paloma2_iptw_low['ps'] = pred_low[:, 1]\n",
    "paloma2_iptw_med['ps'] = pred_med[:, 1]\n",
    "paloma2_iptw_high['ps'] = pred_high[:, 1]\n",
    "paloma2_iptw_all['ps'] = pred_all[:, 1]"
   ]
  },
  {
   "cell_type": "code",
   "execution_count": 104,
   "id": "db597a49",
   "metadata": {},
   "outputs": [],
   "source": [
    "paloma2_iptw_low['weight'] = (\n",
    "    np.where(paloma2_iptw_low['let_palb'] == 1, 1/paloma2_iptw_low['ps'], 1/(1 - paloma2_iptw_low['ps'])))\n",
    "\n",
    "paloma2_iptw_med['weight'] = (\n",
    "    np.where(paloma2_iptw_med['let_palb'] == 1, 1/paloma2_iptw_med['ps'], 1/(1 - paloma2_iptw_med['ps'])))\n",
    "\n",
    "paloma2_iptw_high['weight'] = (\n",
    "    np.where(paloma2_iptw_high['let_palb'] == 1, 1/paloma2_iptw_high['ps'], 1/(1 - paloma2_iptw_high['ps'])))\n",
    "\n",
    "paloma2_iptw_all['weight'] = (\n",
    "    np.where(paloma2_iptw_all['let_palb'] == 1, 1/paloma2_iptw_all['ps'], 1/(1 - paloma2_iptw_all['ps'])))"
   ]
  },
  {
   "cell_type": "code",
   "execution_count": 105,
   "id": "2798ba1c",
   "metadata": {},
   "outputs": [
    {
     "name": "stderr",
     "output_type": "stream",
     "text": [
      "/Users/xavierorcutt/Dropbox/ist_project/myenv/lib/python3.7/site-packages/lifelines/fitters/kaplan_meier_fitter.py:344: StatisticalWarning: It looks like your weights are not integers, possibly propensity scores then?\n",
      "  It's important to know that the naive variance estimates of the coefficients are biased. Instead use Monte Carlo to\n",
      "  estimate the variances. See paper \"Variance estimation when using inverse probability of treatment weighting (IPTW) with survival analysis\"\n",
      "  or \"Adjusted Kaplan-Meier estimator and log-rank test with inverse probability of treatment weighting for survival data.\"\n",
      "                  \n",
      "  StatisticalWarning,\n"
     ]
    },
    {
     "data": {
      "text/plain": [
       "<lifelines.KaplanMeierFitter:\"KM_estimate\", fitted with 4776.11 total observations, 1116.7 right-censored observations>"
      ]
     },
     "execution_count": 105,
     "metadata": {},
     "output_type": "execute_result"
    }
   ],
   "source": [
    "# Low KM curves\n",
    "kmf_low_plet_paloma2_iptw = KaplanMeierFitter()\n",
    "kmf_low_let_paloma2_iptw = KaplanMeierFitter()\n",
    "\n",
    "kmf_low_plet_paloma2_iptw.fit(\n",
    "    paloma2_iptw_low.query('let_palb == 1').time_prog_treatment/30,\n",
    "    paloma2_iptw_low.query('let_palb == 1').pfs_status,\n",
    "    weights = paloma2_iptw_low.query('let_palb == 1')['weight'])\n",
    "\n",
    "kmf_low_let_paloma2_iptw.fit(\n",
    "    paloma2_iptw_low.query('let_palb == 0').time_prog_treatment/30,\n",
    "    paloma2_iptw_low.query('let_palb == 0').pfs_status,\n",
    "    weights = paloma2_iptw_low.query('let_palb == 0')['weight'])\n",
    "\n",
    "# Med KM curves\n",
    "kmf_med_plet_paloma2_iptw = KaplanMeierFitter()\n",
    "kmf_med_let_paloma2_iptw = KaplanMeierFitter()\n",
    "\n",
    "kmf_med_plet_paloma2_iptw.fit(\n",
    "    paloma2_iptw_med.query('let_palb == 1').time_prog_treatment/30,\n",
    "    paloma2_iptw_med.query('let_palb == 1').pfs_status,\n",
    "    weights = paloma2_iptw_med.query('let_palb == 1')['weight'])\n",
    "\n",
    "kmf_med_let_paloma2_iptw.fit(\n",
    "    paloma2_iptw_med.query('let_palb == 0').time_prog_treatment/30,\n",
    "    paloma2_iptw_med.query('let_palb == 0').pfs_status,\n",
    "    weights = paloma2_iptw_med.query('let_palb == 0')['weight'])\n",
    "\n",
    "# High KM curves \n",
    "kmf_high_plet_paloma2_iptw = KaplanMeierFitter()\n",
    "kmf_high_let_paloma2_iptw = KaplanMeierFitter()\n",
    "\n",
    "kmf_high_plet_paloma2_iptw.fit(\n",
    "    paloma2_iptw_high.query('let_palb == 1').time_prog_treatment/30,\n",
    "    paloma2_iptw_high.query('let_palb == 1').pfs_status,\n",
    "    weights = paloma2_iptw_high.query('let_palb == 1')['weight'])\n",
    "\n",
    "kmf_high_let_paloma2_iptw.fit(\n",
    "    paloma2_iptw_high.query('let_palb == 0').time_prog_treatment/30,\n",
    "    paloma2_iptw_high.query('let_palb == 0').pfs_status,\n",
    "    weights = paloma2_iptw_high.query('let_palb == 0')['weight'])\n",
    "\n",
    "# All KM curves \n",
    "kmf_all_plet_paloma2_iptw = KaplanMeierFitter()\n",
    "kmf_all_let_paloma2_iptw = KaplanMeierFitter()\n",
    "\n",
    "kmf_all_plet_paloma2_iptw.fit(\n",
    "    paloma2_iptw_all.query('let_palb == 1').time_prog_treatment/30,\n",
    "    paloma2_iptw_all.query('let_palb == 1').pfs_status,\n",
    "    weights = paloma2_iptw_all.query('let_palb == 1')['weight'])\n",
    "\n",
    "kmf_all_let_paloma2_iptw.fit(\n",
    "    paloma2_iptw_all.query('let_palb == 0').time_prog_treatment/30,\n",
    "    paloma2_iptw_all.query('let_palb == 0').pfs_status,\n",
    "    weights = paloma2_iptw_all.query('let_palb == 0')['weight'])"
   ]
  },
  {
   "cell_type": "code",
   "execution_count": 106,
   "id": "d892423b",
   "metadata": {},
   "outputs": [
    {
     "data": {
      "image/png": "[encoded data removed]",
      "text/plain": [
       "<Figure size 1800x600 with 5 Axes>"
      ]
     },
     "metadata": {},
     "output_type": "display_data"
    }
   ],
   "source": [
    "fig = plt.figure(figsize=(18, 6))\n",
    "\n",
    "# Plot survival curves for low risk group \n",
    "plt.subplot(1, 4, 1)\n",
    "\n",
    "plt.step(kmf_low_plet_paloma2_iptw.timeline, kmf_low_plet_paloma2_iptw.survival_function_.values*100, color = 'red', alpha = 0.5)\n",
    "\n",
    "plt.step(kmf_low_let_paloma2_iptw.timeline, kmf_low_let_paloma2_iptw.survival_function_.values*100, color = 'black', alpha = 0.5)\n",
    "\n",
    "plt.xticks(np.arange(0, 43, 6))\n",
    "plt.xlim(0, 43)\n",
    "plt.ylim(0, 100)\n",
    "\n",
    "plt.title('Low-risk', weight = 'bold')\n",
    "plt.ylabel('PFS (%)', size = 12, weight = 'bold')\n",
    "\n",
    "plt.gca().spines['top'].set_visible(False)\n",
    "plt.gca().spines['right'].set_visible(False)\n",
    "\n",
    "# Plot survival curves for med risk group. \n",
    "plt.subplot(1, 4, 2)\n",
    "\n",
    "plt.step(kmf_med_plet_paloma2_iptw.timeline, kmf_med_plet_paloma2_iptw.survival_function_.values*100, color = 'red', alpha = 0.5)\n",
    "\n",
    "plt.step(kmf_med_let_paloma2_iptw.timeline, kmf_med_let_paloma2_iptw.survival_function_.values*100, color = 'black', alpha = 0.5)\n",
    "\n",
    "plt.xticks(np.arange(0, 43, 6))\n",
    "plt.xlim(0, 43)\n",
    "plt.ylim(0, 100)\n",
    "\n",
    "plt.title('Med-risk', weight = 'bold')\n",
    "\n",
    "plt.gca().spines['top'].set_visible(False)\n",
    "plt.gca().spines['right'].set_visible(False)\n",
    "\n",
    "# Plot survival curves by treatment for high risk group. \n",
    "plt.subplot(1, 4, 3)\n",
    "\n",
    "plt.step(kmf_high_plet_paloma2_iptw.timeline, kmf_high_plet_paloma2_iptw.survival_function_.values*100, color = 'red', alpha = 0.5)\n",
    "\n",
    "plt.step(kmf_high_let_paloma2_iptw.timeline, kmf_high_let_paloma2_iptw.survival_function_.values*100, color = 'black', alpha = 0.5)\n",
    "\n",
    "plt.xticks(np.arange(0, 43, 6))\n",
    "plt.xlim(0, 43)\n",
    "plt.ylim(0, 100)\n",
    "\n",
    "plt.title('High-risk', weight = 'bold')\n",
    "\n",
    "plt.gca().spines['top'].set_visible(False)\n",
    "plt.gca().spines['right'].set_visible(False)\n",
    "\n",
    "# Plot survival curves by treatment for all risk group. \n",
    "plt.subplot(1, 4, 4)\n",
    "\n",
    "plt.step(kmf_all_plet_paloma2_iptw.timeline, kmf_all_plet_paloma2_iptw.survival_function_.values*100, color = 'red', alpha = 0.5, label = 'Palbociclib + letrozole')\n",
    "\n",
    "plt.step(kmf_all_let_paloma2_iptw.timeline, kmf_all_let_paloma2_iptw.survival_function_.values*100, color = 'black', alpha = 0.5, label = 'Letrozole')\n",
    "\n",
    "plt.xticks(np.arange(0, 43, 6))\n",
    "plt.xlim(0, 43)\n",
    "plt.ylim(0, 100)\n",
    "\n",
    "plt.title('Full cohort', weight = 'bold')\n",
    "\n",
    "plt.gca().spines['top'].set_visible(False)\n",
    "plt.gca().spines['right'].set_visible(False)\n",
    "\n",
    "plt.legend(loc = 'upper right', prop = {'size': 9})\n",
    "\n",
    "fig.add_subplot(1, 1, 1, frameon = False)\n",
    "plt.tick_params(labelcolor = 'none', which = 'both', top = False, bottom = False, left = False, right = False)\n",
    "plt.xlabel('Months after treatment', labelpad = 15, size = 12, weight = 'bold')\n",
    "plt.title('PALOMA-2: PFS for palbociclib and letrozoe vs. letrozole for ER+/HER2- metastatic breast cancer', pad = 40, size = 15, weight = 'bold')\n",
    "\n",
    "plt.show()"
   ]
  },
  {
   "cell_type": "markdown",
   "id": "b50cdb8a",
   "metadata": {},
   "source": [
    "#### Summary result plot "
   ]
  },
  {
   "cell_type": "code",
   "execution_count": 107,
   "id": "671b9f3a",
   "metadata": {},
   "outputs": [],
   "source": [
    "plet_paloma2_12_pfs = psurv_t(kmf_low_plet_paloma2_iptw,\n",
    "                              kmf_med_plet_paloma2_iptw,\n",
    "                              kmf_high_plet_paloma2_iptw,\n",
    "                              12)\n",
    "\n",
    "let_paloma2_12_pfs = psurv_t(kmf_low_let_paloma2_iptw,\n",
    "                             kmf_med_let_paloma2_iptw,\n",
    "                             kmf_high_let_paloma2_iptw,\n",
    "                             12)\n",
    "\n",
    "plet_paloma2_24_pfs = psurv_t(kmf_low_plet_paloma2_iptw,\n",
    "                              kmf_med_plet_paloma2_iptw,\n",
    "                              kmf_high_plet_paloma2_iptw,\n",
    "                              24)\n",
    "\n",
    "let_paloma2_24_pfs = psurv_t(kmf_low_let_paloma2_iptw,\n",
    "                             kmf_med_let_paloma2_iptw,\n",
    "                             kmf_high_let_paloma2_iptw,\n",
    "                             24)\n",
    "\n",
    "plet_paloma2_median_pfs = mos(kmf_low_plet_paloma2_iptw,\n",
    "                              kmf_med_plet_paloma2_iptw,\n",
    "                              kmf_high_plet_paloma2_iptw,\n",
    "                              kmf_all_plet_paloma2_iptw)\n",
    "\n",
    "let_paloma2_median_pfs = mos(kmf_low_let_paloma2_iptw,\n",
    "                             kmf_med_let_paloma2_iptw,\n",
    "                             kmf_high_let_paloma2_iptw,\n",
    "                             kmf_all_let_paloma2_iptw)"
   ]
  },
  {
   "cell_type": "code",
   "execution_count": 108,
   "id": "a33e2672",
   "metadata": {
    "scrolled": true
   },
   "outputs": [
    {
     "name": "stdout",
     "output_type": "stream",
     "text": [
      "All, palbo + letrozole:  20.933\n",
      "All, letrozole:  14.766\n",
      "Low, palbo + letrozole:  31.933\n",
      "Low, letrozole:  21.833\n",
      "Med, palbo + letrozole:  24.0\n",
      "Med, letrozole:  18.4\n",
      "High, palbo + letrozole:  11.3\n",
      "High, letrozole:  8.833\n"
     ]
    }
   ],
   "source": [
    "print('All, palbo + letrozole: ',truncate(plet_paloma2_median_pfs[3], 3))\n",
    "print('All, letrozole: ',truncate(let_paloma2_median_pfs[3], 3))\n",
    "\n",
    "print('Low, palbo + letrozole: ',truncate(plet_paloma2_median_pfs[0], 3))\n",
    "print('Low, letrozole: ',truncate(let_paloma2_median_pfs[0], 3))\n",
    "\n",
    "print('Med, palbo + letrozole: ',truncate(plet_paloma2_median_pfs[1], 3))\n",
    "print('Med, letrozole: ',truncate(let_paloma2_median_pfs[1], 3))\n",
    "\n",
    "print('High, palbo + letrozole: ',truncate(plet_paloma2_median_pfs[2], 3))\n",
    "print('High, letrozole: ',truncate(let_paloma2_median_pfs[2], 3))"
   ]
  },
  {
   "cell_type": "code",
   "execution_count": 109,
   "id": "7409f7af",
   "metadata": {},
   "outputs": [],
   "source": [
    "plet_paloma2_low_12_ci = psurv_ci(kmf_low_plet_paloma2_iptw, 12)\n",
    "plet_paloma2_med_12_ci = psurv_ci(kmf_med_plet_paloma2_iptw, 12)\n",
    "plet_paloma2_high_12_ci = psurv_ci(kmf_high_plet_paloma2_iptw, 12)\n",
    "\n",
    "y_error_plet_paloma2_12 = y_error(plet_paloma2_low_12_ci,\n",
    "                                  plet_paloma2_med_12_ci,\n",
    "                                  plet_paloma2_high_12_ci,\n",
    "                                  plet_paloma2_12_pfs)"
   ]
  },
  {
   "cell_type": "code",
   "execution_count": 110,
   "id": "1593e8ef",
   "metadata": {},
   "outputs": [],
   "source": [
    "let_paloma2_low_12_ci = psurv_ci(kmf_low_let_paloma2_iptw, 12)\n",
    "let_paloma2_med_12_ci = psurv_ci(kmf_med_let_paloma2_iptw, 12)\n",
    "let_paloma2_high_12_ci = psurv_ci(kmf_high_let_paloma2_iptw, 12)\n",
    "\n",
    "y_error_let_paloma2_12 = y_error(let_paloma2_low_12_ci,\n",
    "                                 let_paloma2_med_12_ci,\n",
    "                                 let_paloma2_high_12_ci,\n",
    "                                 let_paloma2_12_pfs)"
   ]
  },
  {
   "cell_type": "code",
   "execution_count": 111,
   "id": "0b9257ab",
   "metadata": {},
   "outputs": [],
   "source": [
    "plet_paloma2_low_24_ci = psurv_ci(kmf_low_plet_paloma2_iptw, 24)\n",
    "plet_paloma2_med_24_ci = psurv_ci(kmf_med_plet_paloma2_iptw, 24)\n",
    "plet_paloma2_high_24_ci = psurv_ci(kmf_high_plet_paloma2_iptw, 24)\n",
    "\n",
    "y_error_plet_paloma2_24 = y_error(plet_paloma2_low_24_ci,\n",
    "                                  plet_paloma2_med_24_ci,\n",
    "                                  plet_paloma2_high_24_ci,\n",
    "                                  plet_paloma2_24_pfs)"
   ]
  },
  {
   "cell_type": "code",
   "execution_count": 112,
   "id": "9aaca3e3",
   "metadata": {},
   "outputs": [],
   "source": [
    "let_paloma2_low_24_ci = psurv_ci(kmf_low_let_paloma2_iptw, 24)\n",
    "let_paloma2_med_24_ci = psurv_ci(kmf_med_let_paloma2_iptw, 24)\n",
    "let_paloma2_high_24_ci = psurv_ci(kmf_high_let_paloma2_iptw, 24)\n",
    "\n",
    "y_error_let_paloma2_24 = y_error(let_paloma2_low_24_ci,\n",
    "                                 let_paloma2_med_24_ci,\n",
    "                                 let_paloma2_high_24_ci,\n",
    "                                 let_paloma2_24_pfs)"
   ]
  },
  {
   "cell_type": "code",
   "execution_count": 113,
   "id": "e90737ef",
   "metadata": {},
   "outputs": [],
   "source": [
    "plet_paloma2_low_mpfs_ci = mos_ci(kmf_low_plet_paloma2_iptw)\n",
    "plet_paloma2_med_mpfs_ci = mos_ci(kmf_med_plet_paloma2_iptw)\n",
    "plet_paloma2_high_mpfs_ci = mos_ci(kmf_high_plet_paloma2_iptw)\n",
    "\n",
    "y_error_plet_paloma2_mpfs = y_error(plet_paloma2_low_mpfs_ci,\n",
    "                                    plet_paloma2_med_mpfs_ci,\n",
    "                                    plet_paloma2_high_mpfs_ci,\n",
    "                                    plet_paloma2_median_pfs)"
   ]
  },
  {
   "cell_type": "code",
   "execution_count": 114,
   "id": "29eee286",
   "metadata": {},
   "outputs": [],
   "source": [
    "let_paloma2_low_mpfs_ci = mos_ci(kmf_low_let_paloma2_iptw)\n",
    "let_paloma2_med_mpfs_ci = mos_ci(kmf_med_let_paloma2_iptw)\n",
    "let_paloma2_high_mpfs_ci = mos_ci(kmf_high_let_paloma2_iptw)\n",
    "\n",
    "y_error_let_paloma2_mpfs = y_error(let_paloma2_low_mpfs_ci,\n",
    "                                   let_paloma2_med_mpfs_ci,\n",
    "                                   let_paloma2_high_mpfs_ci,\n",
    "                                   let_paloma2_median_pfs)"
   ]
  },
  {
   "cell_type": "code",
   "execution_count": 115,
   "id": "8c747242",
   "metadata": {
    "scrolled": true
   },
   "outputs": [
    {
     "data": {
      "image/png": "[encoded data removed]",
      "text/plain": [
       "<Figure size 1800x400 with 4 Axes>"
      ]
     },
     "metadata": {},
     "output_type": "display_data"
    }
   ],
   "source": [
    "ml_risk = ['Low', 'Med',  'High']\n",
    "\n",
    "fig = plt.figure(figsize=(18, 4))\n",
    "\n",
    "# 12 month OS plot\n",
    "plt.subplot(1, 3, 1)\n",
    "plt.errorbar(ml_risk, plet_paloma2_12_pfs, yerr = y_error_plet_paloma2_12, marker = 'o', color = 'black', capsize = 3)\n",
    "plt.axhline(y = 72, color = 'red', linestyle = 'solid')\n",
    "\n",
    "eb1 = plt.errorbar(ml_risk, let_paloma2_12_pfs, yerr = y_error_let_paloma2_12, marker = 'o', color = 'black', linestyle = '--', capsize = 3)\n",
    "eb1[-1][0].set_linestyle(':')\n",
    "plt.axhline(y = 58, color = 'red', linestyle = '--')\n",
    "\n",
    "plt.xticks(fontsize = 15)\n",
    "plt.yticks(np.arange(0, 110, 20))\n",
    "plt.ylim(0, 90)\n",
    "plt.ylabel('PFS (%)', size = 15)\n",
    "\n",
    "plt.title('12-month PFS %', size = 20)\n",
    "\n",
    "plt.gca().spines['top'].set_visible(False)\n",
    "plt.gca().spines['right'].set_visible(False)\n",
    "\n",
    "# 24 month OS plot\n",
    "plt.subplot(1, 3, 2)\n",
    "plt.errorbar(ml_risk, plet_paloma2_24_pfs, yerr = y_error_plet_paloma2_24, marker = 'o', color = 'black', capsize = 3)\n",
    "plt.axhline(y = 52, color = 'red', linestyle = 'solid')\n",
    "\n",
    "eb2 = plt.errorbar(ml_risk, let_paloma2_24_pfs, yerr = y_error_let_paloma2_24, marker = 'o', color = 'black', linestyle = '--', capsize = 3)\n",
    "eb2[-1][0].set_linestyle(':')\n",
    "plt.axhline(y = 30, color = 'red', linestyle = '--')\n",
    "\n",
    "plt.xticks(fontsize = 15)\n",
    "plt.yticks(np.arange(0, 110, 20))\n",
    "plt.ylim(0, 90)\n",
    "plt.ylabel('PFS (%)', size = 15)\n",
    "\n",
    "plt.title('24-month PFS %', size = 20)\n",
    "\n",
    "plt.gca().spines['top'].set_visible(False)\n",
    "plt.gca().spines['right'].set_visible(False)\n",
    "\n",
    "# Median OS plot\n",
    "plt.subplot(1, 3, 3)\n",
    "plt.errorbar(ml_risk, plet_paloma2_median_pfs[0:3], yerr = y_error_plet_paloma2_mpfs, marker = 'o', color = 'black', capsize = 3)\n",
    "\n",
    "plt.axhline(y = 24.8, color = 'red', linestyle = 'solid')\n",
    "x_positions = [-0.1, 2.1]\n",
    "for x in x_positions:\n",
    "    plt.errorbar(x, 24.8, yerr=[np.array([24.8-22.1]), np.array([24.8-24.8])], color = 'red', capsize = 3)\n",
    "\n",
    "eb3 = plt.errorbar(ml_risk, let_paloma2_median_pfs[0:3], yerr = y_error_let_paloma2_mpfs, marker = 'o', color = 'black', linestyle = '--', capsize = 3)\n",
    "eb3[-1][0].set_linestyle(':')\n",
    "\n",
    "plt.axhline(y = 14.5, color = 'red', linestyle = '--')\n",
    "for x, z in zip(x_positions, [4, 5]):\n",
    "    ebz = plt.errorbar(x, 14.5, yerr=[np.array([14.5-12.9]), np.array([17.1-14.5])], color = 'red', capsize = 3)\n",
    "    ebz[-1][0].set_linestyle(':')\n",
    "\n",
    "plt.xticks(fontsize = 15)\n",
    "plt.ylabel('PFS (months)', size = 15)\n",
    "\n",
    "plt.title('Median PFS', size = 20)\n",
    "\n",
    "plt.gca().spines['top'].set_visible(False)\n",
    "plt.gca().spines['right'].set_visible(False)\n",
    "\n",
    "fig.add_subplot(1, 1, 1, frameon = False)\n",
    "plt.tick_params(labelcolor = 'none', which = 'both', top = False, bottom = False, left = False, right = False)\n",
    "plt.xlabel('Machine-learning risk', labelpad = 20, size = 20)\n",
    "plt.title('PALOMA-2: palbociclib and letrozoe vs. letrozole for ER+/HER2- metastatic breast cancer', pad = 40, size = 20, weight = 'bold', loc = 'center')\n",
    "\n",
    "legend_elements = [Line2D([0], [0], color = 'red', linestyle = 'solid', label = 'PALOMA-2: Palbociclib + letrozole'),\n",
    "                   Line2D([0], [0], color = 'red', linestyle = '--', label = 'PALOMA-2: Letrozole'),\n",
    "                   Line2D([0], [0], color = 'black', linestyle = 'solid', label = 'Flatiron: Palbociclib + letrozole (n = {})'.format(paloma2.query('let_palb == 1').shape[0])),\n",
    "                   Line2D([0], [0], color = 'black', linestyle = '--', label = 'Flatiron: Letrozole (n = {})'.format(paloma2.query('let_palb == 0').shape[0]))]\n",
    "\n",
    "plt.legend(handles = legend_elements, fancybox = True, shadow = True, loc = 'lower left', prop = {'size': 9})\n",
    "\n",
    "plt.savefig('paloma2_summary_rc.png', bbox_inches = 'tight')\n",
    "\n",
    "plt.show()"
   ]
  },
  {
   "cell_type": "markdown",
   "id": "77248dee",
   "metadata": {},
   "source": [
    "### PALOMA-3: palbociclib plus fulvestrant vs. fulvestrant in hormone-sensitive metastatic breast cancer that had previously progressed on endocrine therapy\n",
    "\n",
    "**INCLUSION**\n",
    "* Received first line estrogen therapy +/- one line of chemotherapy \n",
    "* Received second line palbociclib plus fulvestrant or fulvestrant alone \n",
    "* Did not receive CDK 4/6 inhibitor, fulvestrant, or everolimus in earlier lines\n",
    "* ER/PR positive and HER-2 negative within (-inf, +30] days of start of treatment"
   ]
  },
  {
   "cell_type": "markdown",
   "id": "26e2ab94",
   "metadata": {},
   "source": [
    "#### 1. First line endorcine therapy + chemotherapy, second line fulvestrant +/- palbociclib"
   ]
  },
  {
   "cell_type": "code",
   "execution_count": 116,
   "id": "43b6f85a",
   "metadata": {
    "scrolled": true
   },
   "outputs": [
    {
     "data": {
      "text/plain": [
       "31677"
      ]
     },
     "execution_count": 116,
     "metadata": {},
     "output_type": "execute_result"
    }
   ],
   "source": [
    "df_full = pd.read_csv('df_risk_crude.csv', index_col = 'PatientID', dtype = {'death_status': bool})\n",
    "df_full.index.nunique()"
   ]
  },
  {
   "cell_type": "code",
   "execution_count": 117,
   "id": "c791abfb",
   "metadata": {},
   "outputs": [],
   "source": [
    "line_therapy = pd.read_csv('LineOfTherapy.csv')"
   ]
  },
  {
   "cell_type": "code",
   "execution_count": 118,
   "id": "01a8959c",
   "metadata": {},
   "outputs": [],
   "source": [
    "line_therapy_fl = (\n",
    "    line_therapy[line_therapy['PatientID'].isin(df_full.index)]\n",
    "    .query('LineNumber == 1'))"
   ]
  },
  {
   "cell_type": "code",
   "execution_count": 119,
   "id": "68e626f6",
   "metadata": {},
   "outputs": [],
   "source": [
    "et = [\n",
    "    'Anastrozole',\n",
    "    'Letrozole',\n",
    "    'Exemestane',\n",
    "    'Tamoxifen',\n",
    "    'Leuprolide',\n",
    "    'Goserelin',\n",
    "    'Triptorelin',\n",
    "    'Buserelin']\n",
    "\n",
    "chemo = [\n",
    "    'Capecitabine',\n",
    "    'Carboplatin',\n",
    "    'Cyclophosphamide',\n",
    "    'Docetaxel',\n",
    "    'Eribulin',\n",
    "    'Gemcitabine',\n",
    "    'Paclitaxel',\n",
    "    'Paclitaxel Protein-Bound',\n",
    "    'Vinorelbine']\n",
    "\n",
    "exc =[\n",
    "    'Abemaciclib',\n",
    "    'Palbociclib',\n",
    "    'Ribociclib',\n",
    "    'Fulvestrant',\n",
    "    'Everolimus',\n",
    "    'Clinical Study Drug']"
   ]
  },
  {
   "cell_type": "code",
   "execution_count": 120,
   "id": "4544150b",
   "metadata": {},
   "outputs": [
    {
     "data": {
      "text/plain": [
       "Capecitabine,Letrozole                        31\n",
       "Anastrozole,Capecitabine                      25\n",
       "Anastrozole,Paclitaxel                        18\n",
       "Letrozole,Paclitaxel Protein-Bound            17\n",
       "Anastrozole,Paclitaxel Protein-Bound          14\n",
       "Capecitabine,Tamoxifen                        14\n",
       "Capecitabine,Exemestane                       13\n",
       "Letrozole,Paclitaxel                          13\n",
       "Docetaxel,Letrozole,Pertuzumab,Trastuzumab    11\n",
       "Paclitaxel,Tamoxifen                          11\n",
       "Name: LineName, dtype: int64"
      ]
     },
     "execution_count": 120,
     "metadata": {},
     "output_type": "execute_result"
    }
   ],
   "source": [
    "line_therapy_fl[line_therapy_fl['LineName'].str.contains('|'.join(et)) \n",
    "                & line_therapy_fl['LineName'].str.contains('|'.join(chemo))\n",
    "                & ~line_therapy_fl['LineName'].str.contains('|'.join(exc))].LineName.value_counts().head(10)"
   ]
  },
  {
   "cell_type": "code",
   "execution_count": 121,
   "id": "e8e6257e",
   "metadata": {},
   "outputs": [],
   "source": [
    "etchemo_id = (\n",
    "    line_therapy_fl\n",
    "    [line_therapy_fl['LineName'].str.contains('|'.join(et))\n",
    "     & line_therapy_fl['LineName'].str.contains('|'.join(chemo))\n",
    "     & ~line_therapy_fl['LineName'].str.contains('|'.join(exc))]\n",
    "    .PatientID\n",
    ")"
   ]
  },
  {
   "cell_type": "code",
   "execution_count": 122,
   "id": "4aa27bd5",
   "metadata": {},
   "outputs": [],
   "source": [
    "line_therapy_sec = (\n",
    "    line_therapy[line_therapy['PatientID'].isin(etchemo_id)]\n",
    "    .query('LineNumber == 2'))"
   ]
  },
  {
   "cell_type": "code",
   "execution_count": 123,
   "id": "1183b16b",
   "metadata": {},
   "outputs": [],
   "source": [
    "etchemo_pf = (\n",
    "    line_therapy_sec\n",
    "    .query('LineName == \"Fulvestrant,Palbociclib\"')\n",
    "    [['PatientID', 'StartDate']]\n",
    ")"
   ]
  },
  {
   "cell_type": "code",
   "execution_count": 124,
   "id": "73d72c5f",
   "metadata": {},
   "outputs": [
    {
     "data": {
      "text/plain": [
       "(16, 16)"
      ]
     },
     "execution_count": 124,
     "metadata": {},
     "output_type": "execute_result"
    }
   ],
   "source": [
    "row_ID(etchemo_pf)"
   ]
  },
  {
   "cell_type": "code",
   "execution_count": 125,
   "id": "65aadda0",
   "metadata": {},
   "outputs": [],
   "source": [
    "etchemo_f = (\n",
    "    line_therapy_sec\n",
    "    .query('LineName == \"Fulvestrant\"')\n",
    "    [['PatientID', 'StartDate']]\n",
    ")"
   ]
  },
  {
   "cell_type": "code",
   "execution_count": 126,
   "id": "2ee807ea",
   "metadata": {},
   "outputs": [
    {
     "data": {
      "text/plain": [
       "(16, 16)"
      ]
     },
     "execution_count": 126,
     "metadata": {},
     "output_type": "execute_result"
    }
   ],
   "source": [
    "row_ID(etchemo_pf)"
   ]
  },
  {
   "cell_type": "markdown",
   "id": "cc2589da",
   "metadata": {},
   "source": [
    "#### 2. First line endocrine therapy,  second line chemotherapy, third line palbociclib + fulvestrant"
   ]
  },
  {
   "cell_type": "code",
   "execution_count": 127,
   "id": "ca569174",
   "metadata": {},
   "outputs": [
    {
     "data": {
      "text/plain": [
       "Anastrozole                2943\n",
       "Letrozole                  2536\n",
       "Tamoxifen                  1305\n",
       "Exemestane                  780\n",
       "Leuprolide                   77\n",
       "Anastrozole,Trastuzumab      66\n",
       "Goserelin                    60\n",
       "Letrozole,Trastuzumab        59\n",
       "Leuprolide,Tamoxifen         56\n",
       "Letrozole,Leuprolide         40\n",
       "Name: LineName, dtype: int64"
      ]
     },
     "execution_count": 127,
     "metadata": {},
     "output_type": "execute_result"
    }
   ],
   "source": [
    "line_therapy_fl[line_therapy_fl['LineName'].str.contains('|'.join(et)) \n",
    "                & ~line_therapy_fl['LineName'].str.contains('|'.join(chemo))\n",
    "                & ~line_therapy_fl['LineName'].str.contains('|'.join(exc))].LineName.value_counts().head(10)"
   ]
  },
  {
   "cell_type": "code",
   "execution_count": 128,
   "id": "5381a37c",
   "metadata": {},
   "outputs": [],
   "source": [
    "et_id = (\n",
    "    line_therapy_fl\n",
    "    [line_therapy_fl['LineName'].str.contains('|'.join(et))\n",
    "     & ~line_therapy_fl['LineName'].str.contains('|'.join(chemo))\n",
    "     & ~line_therapy_fl['LineName'].str.contains('|'.join(exc))]\n",
    "    .PatientID\n",
    ")"
   ]
  },
  {
   "cell_type": "code",
   "execution_count": 129,
   "id": "89bf93b2",
   "metadata": {},
   "outputs": [],
   "source": [
    "line_therapy_sec = (\n",
    "    line_therapy[line_therapy['PatientID'].isin(et_id)]\n",
    "    .query('LineNumber == 2')\n",
    ")"
   ]
  },
  {
   "cell_type": "code",
   "execution_count": 130,
   "id": "aa422499",
   "metadata": {},
   "outputs": [],
   "source": [
    "et_chemo_id = (\n",
    "    line_therapy_sec\n",
    "    [line_therapy_sec['LineName'].str.contains('|'.join(chemo))\n",
    "     & ~line_therapy_sec['LineName'].str.contains('|'.join(exc))]\n",
    "    .PatientID\n",
    ")"
   ]
  },
  {
   "cell_type": "code",
   "execution_count": 131,
   "id": "8fee6b37",
   "metadata": {},
   "outputs": [],
   "source": [
    "et_chemo_pf = (\n",
    "    line_therapy[line_therapy['PatientID'].isin(et_chemo_id)]\n",
    "    .query('LineNumber == 3')\n",
    "    .query('LineName == \"Fulvestrant,Palbociclib\"')\n",
    "    [['PatientID', 'StartDate']]\n",
    ")"
   ]
  },
  {
   "cell_type": "code",
   "execution_count": 132,
   "id": "c3fee971",
   "metadata": {},
   "outputs": [
    {
     "data": {
      "text/plain": [
       "(34, 34)"
      ]
     },
     "execution_count": 132,
     "metadata": {},
     "output_type": "execute_result"
    }
   ],
   "source": [
    "row_ID(et_chemo_pf)"
   ]
  },
  {
   "cell_type": "code",
   "execution_count": 133,
   "id": "1cc853a2",
   "metadata": {},
   "outputs": [],
   "source": [
    "et_chemo_f = (\n",
    "    line_therapy[line_therapy['PatientID'].isin(et_chemo_id)]\n",
    "    .query('LineNumber == 3')\n",
    "    .query('LineName == \"Fulvestrant\"')\n",
    "    [['PatientID', 'StartDate']]\n",
    ")"
   ]
  },
  {
   "cell_type": "code",
   "execution_count": 134,
   "id": "0d28e944",
   "metadata": {},
   "outputs": [
    {
     "data": {
      "text/plain": [
       "(57, 57)"
      ]
     },
     "execution_count": 134,
     "metadata": {},
     "output_type": "execute_result"
    }
   ],
   "source": [
    "row_ID(et_chemo_f)"
   ]
  },
  {
   "cell_type": "markdown",
   "id": "a484e3c7",
   "metadata": {},
   "source": [
    "#### 3. First line chemotherapy, second line endocrine therapy, third line palbociclib + fulvestrant"
   ]
  },
  {
   "cell_type": "code",
   "execution_count": 135,
   "id": "e4687c1e",
   "metadata": {},
   "outputs": [
    {
     "data": {
      "text/plain": [
       "Capecitabine                             1324\n",
       "Cyclophosphamide,Doxorubicin              690\n",
       "Docetaxel,Pertuzumab,Trastuzumab          676\n",
       "Paclitaxel                                589\n",
       "Paclitaxel Protein-Bound                  584\n",
       "Carboplatin,Gemcitabine                   407\n",
       "Paclitaxel,Pertuzumab,Trastuzumab         289\n",
       "Eribulin                                  261\n",
       "Carboplatin,Paclitaxel                    250\n",
       "Atezolizumab,Paclitaxel Protein-Bound     226\n",
       "Name: LineName, dtype: int64"
      ]
     },
     "execution_count": 135,
     "metadata": {},
     "output_type": "execute_result"
    }
   ],
   "source": [
    "line_therapy_fl[line_therapy_fl['LineName'].str.contains('|'.join(chemo)) \n",
    "                & ~line_therapy_fl['LineName'].str.contains('|'.join(et))\n",
    "                & ~line_therapy_fl['LineName'].str.contains('|'.join(exc))].LineName.value_counts().head(10)"
   ]
  },
  {
   "cell_type": "code",
   "execution_count": 136,
   "id": "912d6ce6",
   "metadata": {},
   "outputs": [],
   "source": [
    "chemo_id = (\n",
    "    line_therapy_fl\n",
    "    [line_therapy_fl['LineName'].str.contains('|'.join(chemo))\n",
    "     & ~line_therapy_fl['LineName'].str.contains('|'.join(et))\n",
    "     & ~line_therapy_fl['LineName'].str.contains('|'.join(exc))]\n",
    "    .PatientID\n",
    ")"
   ]
  },
  {
   "cell_type": "code",
   "execution_count": 137,
   "id": "098c7226",
   "metadata": {},
   "outputs": [],
   "source": [
    "line_therapy_sec = (\n",
    "    line_therapy[line_therapy['PatientID'].isin(chemo_id)]\n",
    "    .query('LineNumber == 2')\n",
    ")"
   ]
  },
  {
   "cell_type": "code",
   "execution_count": 138,
   "id": "8f6019f3",
   "metadata": {},
   "outputs": [],
   "source": [
    "chemo_et_id = (\n",
    "    line_therapy_sec\n",
    "    [line_therapy_sec['LineName'].str.contains('|'.join(et))\n",
    "     & ~line_therapy_sec['LineName'].str.contains('|'.join(exc))]\n",
    "    .PatientID\n",
    ")"
   ]
  },
  {
   "cell_type": "code",
   "execution_count": 139,
   "id": "2b919c2c",
   "metadata": {},
   "outputs": [],
   "source": [
    "chemo_et_pf = (\n",
    "    line_therapy[line_therapy['PatientID'].isin(chemo_et_id)]\n",
    "    .query('LineNumber == 3')\n",
    "    .query('LineName == \"Fulvestrant,Palbociclib\"')\n",
    "    [['PatientID', 'StartDate']]\n",
    ")"
   ]
  },
  {
   "cell_type": "code",
   "execution_count": 140,
   "id": "940cfc77",
   "metadata": {},
   "outputs": [
    {
     "data": {
      "text/plain": [
       "(39, 39)"
      ]
     },
     "execution_count": 140,
     "metadata": {},
     "output_type": "execute_result"
    }
   ],
   "source": [
    "row_ID(chemo_et_pf)"
   ]
  },
  {
   "cell_type": "code",
   "execution_count": 141,
   "id": "8d14f841",
   "metadata": {},
   "outputs": [],
   "source": [
    "chemo_et_f = (\n",
    "    line_therapy[line_therapy['PatientID'].isin(chemo_et_id)]\n",
    "    .query('LineNumber == 3')\n",
    "    .query('LineName == \"Fulvestrant\"')\n",
    "    [['PatientID', 'StartDate']]\n",
    ")"
   ]
  },
  {
   "cell_type": "code",
   "execution_count": 142,
   "id": "b18b03a2",
   "metadata": {},
   "outputs": [
    {
     "data": {
      "text/plain": [
       "(43, 43)"
      ]
     },
     "execution_count": 142,
     "metadata": {},
     "output_type": "execute_result"
    }
   ],
   "source": [
    "row_ID(chemo_et_f)"
   ]
  },
  {
   "cell_type": "markdown",
   "id": "8f9ad857",
   "metadata": {},
   "source": [
    "#### 4. First line endocrine therapy, second line palbociclib + fulvestrant"
   ]
  },
  {
   "cell_type": "code",
   "execution_count": 143,
   "id": "88416660",
   "metadata": {},
   "outputs": [],
   "source": [
    "et_pf = (\n",
    "    line_therapy[line_therapy['PatientID'].isin(et_id)]\n",
    "    .query('LineNumber == 2')\n",
    "    .query('LineName == \"Fulvestrant,Palbociclib\"')\n",
    "    [['PatientID', 'StartDate']]\n",
    ")"
   ]
  },
  {
   "cell_type": "code",
   "execution_count": 144,
   "id": "d83aef79",
   "metadata": {},
   "outputs": [
    {
     "data": {
      "text/plain": [
       "(440, 440)"
      ]
     },
     "execution_count": 144,
     "metadata": {},
     "output_type": "execute_result"
    }
   ],
   "source": [
    "row_ID(et_pf)"
   ]
  },
  {
   "cell_type": "code",
   "execution_count": 145,
   "id": "ee1c1802",
   "metadata": {},
   "outputs": [],
   "source": [
    "et_f = (\n",
    "    line_therapy[line_therapy['PatientID'].isin(et_id)]\n",
    "    .query('LineNumber == 2')\n",
    "    .query('LineName == \"Fulvestrant\"')\n",
    "    [['PatientID', 'StartDate']]\n",
    ")"
   ]
  },
  {
   "cell_type": "code",
   "execution_count": 146,
   "id": "177e4b57",
   "metadata": {},
   "outputs": [
    {
     "data": {
      "text/plain": [
       "(786, 786)"
      ]
     },
     "execution_count": 146,
     "metadata": {},
     "output_type": "execute_result"
    }
   ],
   "source": [
    "row_ID(et_f)"
   ]
  },
  {
   "cell_type": "code",
   "execution_count": 147,
   "id": "bee4e846",
   "metadata": {},
   "outputs": [],
   "source": [
    "paloma3_pf = pd.concat([etchemo_pf, et_chemo_pf, chemo_et_pf, et_pf])"
   ]
  },
  {
   "cell_type": "code",
   "execution_count": 148,
   "id": "a9e69ee8",
   "metadata": {},
   "outputs": [],
   "source": [
    "paloma3_pf.loc[:, 'pfulv'] = 1"
   ]
  },
  {
   "cell_type": "code",
   "execution_count": 149,
   "id": "e4b9f3f7",
   "metadata": {},
   "outputs": [
    {
     "data": {
      "text/plain": [
       "(529, 529)"
      ]
     },
     "execution_count": 149,
     "metadata": {},
     "output_type": "execute_result"
    }
   ],
   "source": [
    "row_ID(paloma3_pf)"
   ]
  },
  {
   "cell_type": "code",
   "execution_count": 150,
   "id": "ce23a5d0",
   "metadata": {},
   "outputs": [],
   "source": [
    "paloma3_f = pd.concat([etchemo_f, et_chemo_f, chemo_et_f, et_f])"
   ]
  },
  {
   "cell_type": "code",
   "execution_count": 151,
   "id": "e25b7c91",
   "metadata": {},
   "outputs": [],
   "source": [
    "paloma3_f.loc[:, 'pfulv'] = 0"
   ]
  },
  {
   "cell_type": "code",
   "execution_count": 152,
   "id": "fc53d30e",
   "metadata": {},
   "outputs": [
    {
     "data": {
      "text/plain": [
       "(902, 902)"
      ]
     },
     "execution_count": 152,
     "metadata": {},
     "output_type": "execute_result"
    }
   ],
   "source": [
    "row_ID(paloma3_f)"
   ]
  },
  {
   "cell_type": "code",
   "execution_count": 153,
   "id": "26fe87ee",
   "metadata": {},
   "outputs": [],
   "source": [
    "paloma3 = pd.concat([paloma3_pf, paloma3_f])"
   ]
  },
  {
   "cell_type": "code",
   "execution_count": 154,
   "id": "3f2af6af",
   "metadata": {},
   "outputs": [
    {
     "data": {
      "text/plain": [
       "(1431, 1431)"
      ]
     },
     "execution_count": 154,
     "metadata": {},
     "output_type": "execute_result"
    }
   ],
   "source": [
    "row_ID(paloma3)"
   ]
  },
  {
   "cell_type": "code",
   "execution_count": 155,
   "id": "862962ba",
   "metadata": {},
   "outputs": [],
   "source": [
    "paloma3 = pd.merge(paloma3, df_full, on = 'PatientID', how = 'inner')"
   ]
  },
  {
   "cell_type": "code",
   "execution_count": 156,
   "id": "db9478ee",
   "metadata": {},
   "outputs": [
    {
     "data": {
      "text/plain": [
       "(1431, 1431)"
      ]
     },
     "execution_count": 156,
     "metadata": {},
     "output_type": "execute_result"
    }
   ],
   "source": [
    "row_ID(paloma3)"
   ]
  },
  {
   "cell_type": "code",
   "execution_count": 157,
   "id": "9c7a47c3",
   "metadata": {},
   "outputs": [],
   "source": [
    "paloma3['StartDate'] = pd.to_datetime(paloma3['StartDate'])"
   ]
  },
  {
   "cell_type": "markdown",
   "id": "02390753",
   "metadata": {},
   "source": [
    "#### ER- or PR-positive and HER-2 negative "
   ]
  },
  {
   "cell_type": "code",
   "execution_count": 158,
   "id": "22511730",
   "metadata": {},
   "outputs": [],
   "source": [
    "biomarkers = pd.read_csv('Enhanced_MetBreastBiomarkers.csv')"
   ]
  },
  {
   "cell_type": "code",
   "execution_count": 159,
   "id": "c537d3df",
   "metadata": {},
   "outputs": [],
   "source": [
    "biomarkers = biomarkers[biomarkers['PatientID'].isin(paloma3['PatientID'])]"
   ]
  },
  {
   "cell_type": "code",
   "execution_count": 160,
   "id": "82bbdd95",
   "metadata": {},
   "outputs": [
    {
     "data": {
      "text/plain": [
       "(10689, 1426)"
      ]
     },
     "execution_count": 160,
     "metadata": {},
     "output_type": "execute_result"
    }
   ],
   "source": [
    "row_ID(biomarkers)"
   ]
  },
  {
   "cell_type": "code",
   "execution_count": 161,
   "id": "a737febe",
   "metadata": {},
   "outputs": [],
   "source": [
    "biomarkers = pd.merge(biomarkers, paloma3[['PatientID', 'StartDate']], on = 'PatientID', how = 'left')"
   ]
  },
  {
   "cell_type": "code",
   "execution_count": 162,
   "id": "445b42d8",
   "metadata": {},
   "outputs": [
    {
     "data": {
      "text/plain": [
       "(10689, 1426)"
      ]
     },
     "execution_count": 162,
     "metadata": {},
     "output_type": "execute_result"
    }
   ],
   "source": [
    "row_ID(biomarkers)"
   ]
  },
  {
   "cell_type": "code",
   "execution_count": 163,
   "id": "2708d796",
   "metadata": {},
   "outputs": [],
   "source": [
    "biomarkers['StartDate'] = pd.to_datetime(biomarkers['StartDate'])"
   ]
  },
  {
   "cell_type": "code",
   "execution_count": 164,
   "id": "edf101dc",
   "metadata": {},
   "outputs": [],
   "source": [
    "biomarkers['ResultDate'] = pd.to_datetime(biomarkers['ResultDate'])"
   ]
  },
  {
   "cell_type": "code",
   "execution_count": 165,
   "id": "542de949",
   "metadata": {},
   "outputs": [],
   "source": [
    "biomarkers['SpecimenReceivedDate'] = pd.to_datetime(biomarkers['SpecimenReceivedDate'])"
   ]
  },
  {
   "cell_type": "code",
   "execution_count": 166,
   "id": "9a9dd480",
   "metadata": {},
   "outputs": [],
   "source": [
    "biomarkers.loc[:, 'result_date'] = (\n",
    "    np.where(biomarkers['ResultDate'].isna(), biomarkers['SpecimenReceivedDate'], biomarkers['ResultDate'])\n",
    ")"
   ]
  },
  {
   "cell_type": "code",
   "execution_count": 167,
   "id": "3bd5e780",
   "metadata": {},
   "outputs": [],
   "source": [
    "biomarkers.loc[:, 'date_diff'] = (biomarkers['result_date'] - biomarkers['StartDate']).dt.days"
   ]
  },
  {
   "cell_type": "code",
   "execution_count": 168,
   "id": "81d4dbcf",
   "metadata": {},
   "outputs": [],
   "source": [
    "er_status = (\n",
    "    biomarkers\n",
    "    .query('BiomarkerName == \"ER\"')\n",
    "    .query('date_diff <= 30')\n",
    "    .query('BiomarkerStatus == \"Positive\" or BiomarkerStatus == \"Negative\"') # don't select unknown values \n",
    "    .sort_values(['PatientID', 'date_diff'], ascending = [True, False]) # select ER status closest to treatment start\n",
    "    .drop_duplicates(subset = ['PatientID'], keep = 'first')\n",
    "    [['PatientID', 'BiomarkerStatus']]\n",
    "    .rename(columns = {'BiomarkerStatus': 'er'})\n",
    "   )"
   ]
  },
  {
   "cell_type": "code",
   "execution_count": 169,
   "id": "bdf9bd8f",
   "metadata": {},
   "outputs": [
    {
     "data": {
      "text/plain": [
       "(1293, 1293)"
      ]
     },
     "execution_count": 169,
     "metadata": {},
     "output_type": "execute_result"
    }
   ],
   "source": [
    "row_ID(er_status)"
   ]
  },
  {
   "cell_type": "code",
   "execution_count": 170,
   "id": "2f660a3f",
   "metadata": {},
   "outputs": [],
   "source": [
    "pr_status = (\n",
    "    biomarkers\n",
    "    .query('BiomarkerName == \"PR\"')\n",
    "    .query('date_diff <= 30')\n",
    "    .query('BiomarkerStatus == \"Positive\" or BiomarkerStatus == \"Negative\"') # don't select unknown values \n",
    "    .sort_values(['PatientID', 'date_diff'], ascending = [True, False]) # select ER status closest to treatment start\n",
    "    .drop_duplicates(subset = ['PatientID'], keep = 'first')\n",
    "    [['PatientID', 'BiomarkerStatus']]\n",
    "    .rename(columns = {'BiomarkerStatus': 'pr'})\n",
    "   )"
   ]
  },
  {
   "cell_type": "code",
   "execution_count": 171,
   "id": "d4c525a2",
   "metadata": {},
   "outputs": [
    {
     "data": {
      "text/plain": [
       "(1253, 1253)"
      ]
     },
     "execution_count": 171,
     "metadata": {},
     "output_type": "execute_result"
    }
   ],
   "source": [
    "row_ID(pr_status)"
   ]
  },
  {
   "cell_type": "code",
   "execution_count": 172,
   "id": "f24d92ce",
   "metadata": {},
   "outputs": [],
   "source": [
    "her2_status = (\n",
    "    biomarkers\n",
    "    .query('BiomarkerName == \"HER2\"')\n",
    "    .query('date_diff <= 30')\n",
    "    .sort_values(['PatientID', 'date_diff'], ascending = [True, False])\n",
    "    .drop_duplicates(subset = ['PatientID'], keep = 'first')\n",
    "    [['PatientID', 'BiomarkerStatus']]\n",
    "    .rename(columns = {'BiomarkerStatus': 'her2'})\n",
    ")"
   ]
  },
  {
   "cell_type": "code",
   "execution_count": 173,
   "id": "ab1a68d9",
   "metadata": {},
   "outputs": [
    {
     "data": {
      "text/plain": [
       "(1245, 1245)"
      ]
     },
     "execution_count": 173,
     "metadata": {},
     "output_type": "execute_result"
    }
   ],
   "source": [
    "row_ID(her2_status)"
   ]
  },
  {
   "cell_type": "code",
   "execution_count": 174,
   "id": "05dd8630",
   "metadata": {},
   "outputs": [],
   "source": [
    "paloma3 = pd.merge(paloma3, er_status, on  = 'PatientID', how = 'left')"
   ]
  },
  {
   "cell_type": "code",
   "execution_count": 175,
   "id": "8e6bdef6",
   "metadata": {},
   "outputs": [
    {
     "data": {
      "text/plain": [
       "(1431, 1431)"
      ]
     },
     "execution_count": 175,
     "metadata": {},
     "output_type": "execute_result"
    }
   ],
   "source": [
    "row_ID(paloma3)"
   ]
  },
  {
   "cell_type": "code",
   "execution_count": 176,
   "id": "16bcbcbc",
   "metadata": {},
   "outputs": [],
   "source": [
    "paloma3 = pd.merge(paloma3, pr_status, on  = 'PatientID', how = 'left')"
   ]
  },
  {
   "cell_type": "code",
   "execution_count": 177,
   "id": "04a3081f",
   "metadata": {},
   "outputs": [
    {
     "data": {
      "text/plain": [
       "(1431, 1431)"
      ]
     },
     "execution_count": 177,
     "metadata": {},
     "output_type": "execute_result"
    }
   ],
   "source": [
    "row_ID(paloma3)"
   ]
  },
  {
   "cell_type": "code",
   "execution_count": 178,
   "id": "57264812",
   "metadata": {},
   "outputs": [],
   "source": [
    "paloma3 = pd.merge(paloma3, her2_status, on  = 'PatientID', how = 'left')"
   ]
  },
  {
   "cell_type": "code",
   "execution_count": 179,
   "id": "46292988",
   "metadata": {},
   "outputs": [
    {
     "data": {
      "text/plain": [
       "(1431, 1431)"
      ]
     },
     "execution_count": 179,
     "metadata": {},
     "output_type": "execute_result"
    }
   ],
   "source": [
    "row_ID(paloma3)"
   ]
  },
  {
   "cell_type": "code",
   "execution_count": 180,
   "id": "80a2fb07",
   "metadata": {},
   "outputs": [],
   "source": [
    "her2_neg = ['IHC negative (0-1+)',\n",
    "            'FISH negative/not amplified',\n",
    "            'IHC equivocal (2+)',\n",
    "            'Negative NOS',\n",
    "            'NGS negative (ERBB2 not amplified)',\n",
    "            'FISH equivocal',\n",
    "            'Equivocal NOS',\n",
    "            'NGS equivocal (ERBB2 amplification equivocal)']\n",
    "\n",
    "paloma3 = (\n",
    "    paloma3\n",
    "    .query('er == \"Positive\" or pr == \"Positive\"')\n",
    "    .query('her2== @her2_neg')\n",
    ")"
   ]
  },
  {
   "cell_type": "code",
   "execution_count": 181,
   "id": "650ecdbb",
   "metadata": {},
   "outputs": [
    {
     "data": {
      "text/plain": [
       "(1161, 1161)"
      ]
     },
     "execution_count": 181,
     "metadata": {},
     "output_type": "execute_result"
    }
   ],
   "source": [
    "row_ID(paloma3)"
   ]
  },
  {
   "cell_type": "markdown",
   "id": "aef4893a",
   "metadata": {},
   "source": [
    "#### Time from treatment to progression/death or censor "
   ]
  },
  {
   "cell_type": "code",
   "execution_count": 182,
   "id": "ca7b7ddc",
   "metadata": {},
   "outputs": [],
   "source": [
    "mortality_tr = pd.read_csv('mortality_cleaned_tr.csv')"
   ]
  },
  {
   "cell_type": "code",
   "execution_count": 183,
   "id": "d6ea34cd",
   "metadata": {},
   "outputs": [],
   "source": [
    "mortality_te = pd.read_csv('mortality_cleaned_te.csv')"
   ]
  },
  {
   "cell_type": "code",
   "execution_count": 184,
   "id": "fe32f7f2",
   "metadata": {},
   "outputs": [],
   "source": [
    "mortality_tr = mortality_tr[['PatientID', 'death_date', 'last_activity']]"
   ]
  },
  {
   "cell_type": "code",
   "execution_count": 185,
   "id": "311b7445",
   "metadata": {},
   "outputs": [],
   "source": [
    "mortality_te = mortality_te[['PatientID', 'death_date', 'last_activity']]"
   ]
  },
  {
   "cell_type": "code",
   "execution_count": 186,
   "id": "a0e40d58",
   "metadata": {},
   "outputs": [
    {
     "data": {
      "text/plain": [
       "(31677, 31677)"
      ]
     },
     "execution_count": 186,
     "metadata": {},
     "output_type": "execute_result"
    }
   ],
   "source": [
    "mortality = pd.concat([mortality_tr, mortality_te], ignore_index = True)\n",
    "row_ID(mortality)"
   ]
  },
  {
   "cell_type": "code",
   "execution_count": 187,
   "id": "767421a6",
   "metadata": {},
   "outputs": [],
   "source": [
    "mortality.loc[:, 'last_activity'] = pd.to_datetime(mortality['last_activity'])"
   ]
  },
  {
   "cell_type": "code",
   "execution_count": 188,
   "id": "e273709c",
   "metadata": {},
   "outputs": [],
   "source": [
    "mortality.loc[:, 'death_date'] = pd.to_datetime(mortality['death_date'])"
   ]
  },
  {
   "cell_type": "code",
   "execution_count": 189,
   "id": "6755244f",
   "metadata": {},
   "outputs": [
    {
     "data": {
      "text/plain": [
       "(31677, 31677)"
      ]
     },
     "execution_count": 189,
     "metadata": {},
     "output_type": "execute_result"
    }
   ],
   "source": [
    "row_ID(mortality)"
   ]
  },
  {
   "cell_type": "code",
   "execution_count": 190,
   "id": "30e18014",
   "metadata": {},
   "outputs": [],
   "source": [
    "paloma3 = pd.merge(paloma3, mortality, on = 'PatientID', how = 'left')"
   ]
  },
  {
   "cell_type": "code",
   "execution_count": 191,
   "id": "d4b7b1c0",
   "metadata": {},
   "outputs": [
    {
     "data": {
      "text/plain": [
       "(1161, 1161)"
      ]
     },
     "execution_count": 191,
     "metadata": {},
     "output_type": "execute_result"
    }
   ],
   "source": [
    "row_ID(paloma3)"
   ]
  },
  {
   "cell_type": "code",
   "execution_count": 192,
   "id": "eda51059",
   "metadata": {},
   "outputs": [],
   "source": [
    "conditions = [\n",
    "    (paloma3['death_status'] == 1),\n",
    "    (paloma3['death_status'] == 0)]\n",
    "\n",
    "choices = [\n",
    "    (paloma3['death_date'] - paloma3['StartDate']).dt.days,\n",
    "    (paloma3['last_activity'] - paloma3['StartDate']).dt.days]\n",
    "\n",
    "paloma3.loc[:, 'timerisk_treatment'] = np.select(conditions, choices)"
   ]
  },
  {
   "cell_type": "code",
   "execution_count": 193,
   "id": "f52bba50",
   "metadata": {},
   "outputs": [],
   "source": [
    "paloma3 = paloma3.query('timerisk_treatment >= 0')"
   ]
  },
  {
   "cell_type": "markdown",
   "id": "7d304ace",
   "metadata": {},
   "source": [
    "#### Patient count "
   ]
  },
  {
   "cell_type": "code",
   "execution_count": 194,
   "id": "a6a1bd5c",
   "metadata": {},
   "outputs": [],
   "source": [
    "low_cutoff_paloma3 = paloma3.risk_score.quantile(1/3)"
   ]
  },
  {
   "cell_type": "code",
   "execution_count": 195,
   "id": "24f0d1f4",
   "metadata": {},
   "outputs": [],
   "source": [
    "high_cutoff_paloma3 = paloma3.risk_score.quantile(2/3)"
   ]
  },
  {
   "cell_type": "code",
   "execution_count": 196,
   "id": "431fd1a8",
   "metadata": {},
   "outputs": [
    {
     "name": "stdout",
     "output_type": "stream",
     "text": [
      "Palobociclib plus fulvestrant total: 465\n",
      "High risk: 148\n",
      "Med risk: 150\n",
      "Low risk: 167\n"
     ]
    }
   ],
   "source": [
    "print('Palobociclib plus fulvestrant total:',  paloma3.query('pfulv == 1').shape[0])\n",
    "print('High risk:', paloma3.query('pfulv == 1').query('risk_score >= @high_cutoff_paloma3').shape[0])\n",
    "print('Med risk:', paloma3.query('pfulv == 1').query('risk_score < @high_cutoff_paloma3 and risk_score > @low_cutoff_paloma3').shape[0])\n",
    "print('Low risk:', paloma3.query('pfulv == 1').query('risk_score <= @low_cutoff_paloma3').shape[0])"
   ]
  },
  {
   "cell_type": "code",
   "execution_count": 197,
   "id": "2809bd9f",
   "metadata": {},
   "outputs": [
    {
     "name": "stdout",
     "output_type": "stream",
     "text": [
      "Fulvestrant total: 696\n",
      "High risk: 239\n",
      "Med risk: 237\n",
      "Low risk: 220\n"
     ]
    }
   ],
   "source": [
    "print('Fulvestrant total:',  paloma3.query('pfulv == 0').shape[0])\n",
    "print('High risk:', paloma3.query('pfulv == 0').query('risk_score >= @high_cutoff_paloma3').shape[0])\n",
    "print('Med risk:', paloma3.query('pfulv == 0').query('risk_score < @high_cutoff_paloma3 and risk_score > @low_cutoff_paloma3').shape[0])\n",
    "print('Low risk:', paloma3.query('pfulv == 0').query('risk_score <= @low_cutoff_paloma3').shape[0])"
   ]
  },
  {
   "cell_type": "code",
   "execution_count": 198,
   "id": "f8c090f8",
   "metadata": {},
   "outputs": [],
   "source": [
    "risk_cutoff_breast.loc['paloma3'] = [low_cutoff_paloma3, high_cutoff_paloma3]"
   ]
  },
  {
   "cell_type": "markdown",
   "id": "eca3f980",
   "metadata": {},
   "source": [
    "#### Survival curves with covariate balancing "
   ]
  },
  {
   "cell_type": "code",
   "execution_count": 199,
   "id": "826fa057",
   "metadata": {},
   "outputs": [],
   "source": [
    "paloma3 = paloma3.set_index('PatientID')"
   ]
  },
  {
   "cell_type": "code",
   "execution_count": 200,
   "id": "e3a4f67a",
   "metadata": {},
   "outputs": [],
   "source": [
    "conditions = [\n",
    "    (paloma3['thorax_met'] == 1) |\n",
    "    (paloma3['liver_met'] == 1) |\n",
    "    (paloma3['cns_met'] == 1) |\n",
    "    (paloma3['peritoneum_met'] == 1) |\n",
    "    (paloma3['other_met'] == 1),\n",
    "    (paloma3['bone_met'] == 0) &\n",
    "    (paloma3['thorax_met'] == 0) &\n",
    "    (paloma3['lymph_met'] == 0) &\n",
    "    (paloma3['liver_met'] == 0) &\n",
    "    (paloma3['cns_met'] == 0) &\n",
    "    (paloma3['skin_met'] == 0) &\n",
    "    (paloma3['peritoneum_met'] == 0) &\n",
    "    (paloma3['other_met'] == 0)\n",
    "]\n",
    "\n",
    "choices = ['visceral', 'unknown']\n",
    "\n",
    "paloma3['met_site'] = np.select(conditions, choices, default = 'nonvisceral')"
   ]
  },
  {
   "cell_type": "code",
   "execution_count": 201,
   "id": "f7c6829e",
   "metadata": {},
   "outputs": [],
   "source": [
    "paloma3['met_cat'] = pd.cut(paloma3['met_year'],\n",
    "                            bins = [2010, 2016, float('inf')],\n",
    "                            labels = ['11-16', '17-22'])"
   ]
  },
  {
   "cell_type": "code",
   "execution_count": 202,
   "id": "e1daef97",
   "metadata": {},
   "outputs": [],
   "source": [
    "conditions = [\n",
    "    ((paloma3['ecog_diagnosis'] == \"1.0\") | (paloma3['ecog_diagnosis'] == \"0.0\")),  \n",
    "    ((paloma3['ecog_diagnosis'] == \"2.0\") | (paloma3['ecog_diagnosis'] == \"3.0\"))\n",
    "]\n",
    "\n",
    "choices = ['lt_2', 'gte_2']\n",
    "\n",
    "paloma3['ecog_2'] = np.select(conditions, choices, default = 'unknown')"
   ]
  },
  {
   "cell_type": "code",
   "execution_count": 203,
   "id": "64cdd933",
   "metadata": {},
   "outputs": [],
   "source": [
    "paloma3_iptw = paloma3.filter(items = ['death_status',\n",
    "                                       'timerisk_treatment',\n",
    "                                       'pfulv',\n",
    "                                       'age',\n",
    "                                       'gender',\n",
    "                                       'race',\n",
    "                                       'p_type',\n",
    "                                       'delta_met_diagnosis',\n",
    "                                       'met_cat',\n",
    "                                       'commercial',\n",
    "                                       'medicare',\n",
    "                                       'medicaid',\n",
    "                                       'ses',\n",
    "                                       'ecog_2',\n",
    "                                       'met_site',\n",
    "                                       'risk_score'])"
   ]
  },
  {
   "cell_type": "code",
   "execution_count": 204,
   "id": "932fed08",
   "metadata": {},
   "outputs": [
    {
     "data": {
      "text/plain": [
       "death_status               bool\n",
       "timerisk_treatment      float64\n",
       "pfulv                     int64\n",
       "age                       int64\n",
       "gender                   object\n",
       "race                     object\n",
       "p_type                   object\n",
       "delta_met_diagnosis       int64\n",
       "met_cat                category\n",
       "commercial              float64\n",
       "medicare                float64\n",
       "medicaid                float64\n",
       "ses                     float64\n",
       "ecog_2                   object\n",
       "met_site                 object\n",
       "risk_score              float64\n",
       "dtype: object"
      ]
     },
     "execution_count": 204,
     "metadata": {},
     "output_type": "execute_result"
    }
   ],
   "source": [
    "paloma3_iptw.dtypes"
   ]
  },
  {
   "cell_type": "code",
   "execution_count": 205,
   "id": "0de8e3e0",
   "metadata": {},
   "outputs": [],
   "source": [
    "to_be_categorical = list(paloma3_iptw.select_dtypes(include = ['object']).columns)"
   ]
  },
  {
   "cell_type": "code",
   "execution_count": 206,
   "id": "0247feef",
   "metadata": {},
   "outputs": [
    {
     "data": {
      "text/plain": [
       "['gender', 'race', 'p_type', 'ecog_2', 'met_site']"
      ]
     },
     "execution_count": 206,
     "metadata": {},
     "output_type": "execute_result"
    }
   ],
   "source": [
    "to_be_categorical"
   ]
  },
  {
   "cell_type": "code",
   "execution_count": 207,
   "id": "e149dfb3",
   "metadata": {},
   "outputs": [],
   "source": [
    "to_be_categorical.append('met_cat')"
   ]
  },
  {
   "cell_type": "code",
   "execution_count": 208,
   "id": "610d99cf",
   "metadata": {},
   "outputs": [],
   "source": [
    "to_be_categorical.append('ses')"
   ]
  },
  {
   "cell_type": "code",
   "execution_count": 209,
   "id": "fefb6e03",
   "metadata": {},
   "outputs": [],
   "source": [
    "# Convert variables in list to categorical.\n",
    "for x in list(to_be_categorical):\n",
    "    paloma3_iptw[x] = paloma3_iptw[x].astype('category')"
   ]
  },
  {
   "cell_type": "code",
   "execution_count": 210,
   "id": "30e55bbf",
   "metadata": {},
   "outputs": [],
   "source": [
    "# List of numeric variables, excluding binary variables. \n",
    "numerical_features = ['age', 'delta_met_diagnosis']\n",
    "\n",
    "# Transformer will first calculate column median and impute, and then apply a standard scaler. \n",
    "numerical_transformer = Pipeline(steps = [\n",
    "    ('imputer', SimpleImputer(strategy = 'median')),\n",
    "    ('std_scaler', StandardScaler())])"
   ]
  },
  {
   "cell_type": "code",
   "execution_count": 211,
   "id": "434d288b",
   "metadata": {},
   "outputs": [],
   "source": [
    "# List of categorical features.\n",
    "categorical_features = list(paloma3_iptw.select_dtypes(include = ['category']).columns)\n",
    "\n",
    "# One-hot-encode categorical features.\n",
    "categorical_transformer = OneHotEncoder(handle_unknown = 'ignore')"
   ]
  },
  {
   "cell_type": "code",
   "execution_count": 212,
   "id": "e52a5987",
   "metadata": {},
   "outputs": [],
   "source": [
    "preprocessor = ColumnTransformer(\n",
    "    transformers = [\n",
    "        ('num', numerical_transformer, numerical_features),\n",
    "        ('cat', categorical_transformer, categorical_features)],\n",
    "    remainder = 'passthrough')"
   ]
  },
  {
   "cell_type": "code",
   "execution_count": 213,
   "id": "9a48450a",
   "metadata": {},
   "outputs": [],
   "source": [
    "paloma3_iptw_low = (\n",
    "    paloma3_iptw\n",
    "    .query('risk_score <= @low_cutoff_paloma3')\n",
    "    .drop(columns = ['risk_score']))\n",
    "\n",
    "paloma3_iptw_med = (\n",
    "    paloma3_iptw\n",
    "    .query('risk_score < @high_cutoff_paloma3 and risk_score > @low_cutoff_paloma3')\n",
    "    .drop(columns = ['risk_score']))\n",
    "\n",
    "paloma3_iptw_high = (\n",
    "    paloma3_iptw\n",
    "    .query('risk_score >= @high_cutoff_paloma3')\n",
    "    .drop(columns = ['risk_score']))\n",
    "\n",
    "paloma3_iptw_all = (\n",
    "    paloma3_iptw\n",
    "    .drop(columns = ['risk_score']))"
   ]
  },
  {
   "cell_type": "code",
   "execution_count": 214,
   "id": "7a82e63a",
   "metadata": {},
   "outputs": [],
   "source": [
    "paloma3_low_x = preprocessor.fit_transform(paloma3_iptw_low.filter(items = ['age',\n",
    "                                                                            'gender',\n",
    "                                                                            'race',\n",
    "                                                                            'p_type',\n",
    "                                                                            'delta_met_diagnosis',\n",
    "                                                                            'met_cat',\n",
    "                                                                            'commercial',\n",
    "                                                                            'medicare',\n",
    "                                                                            'medicaid',\n",
    "                                                                            'ses',\n",
    "                                                                            'ecog_2',\n",
    "                                                                            'met_site']))\n",
    "\n",
    "paloma3_med_x = preprocessor.fit_transform(paloma3_iptw_med.filter(items = ['age',\n",
    "                                                                            'gender',\n",
    "                                                                            'race',\n",
    "                                                                            'p_type',\n",
    "                                                                            'delta_met_diagnosis',\n",
    "                                                                            'met_cat',\n",
    "                                                                            'commercial',\n",
    "                                                                            'medicare',\n",
    "                                                                            'medicaid',\n",
    "                                                                            'ses',\n",
    "                                                                            'ecog_2',\n",
    "                                                                            'met_site']))\n",
    "\n",
    "paloma3_high_x = preprocessor.fit_transform(paloma3_iptw_high.filter(items = ['age',\n",
    "                                                                              'gender',\n",
    "                                                                              'race',\n",
    "                                                                              'p_type',\n",
    "                                                                              'delta_met_diagnosis',\n",
    "                                                                              'met_cat',\n",
    "                                                                              'commercial',\n",
    "                                                                              'medicare',\n",
    "                                                                              'medicaid',\n",
    "                                                                              'ses',\n",
    "                                                                              'ecog_2',\n",
    "                                                                              'met_site']))\n",
    "\n",
    "paloma3_all_x = preprocessor.fit_transform(paloma3_iptw_all.filter(items = ['age',\n",
    "                                                                            'gender',\n",
    "                                                                            'race',\n",
    "                                                                            'p_type',\n",
    "                                                                            'delta_met_diagnosis',\n",
    "                                                                            'met_cat',\n",
    "                                                                            'commercial',\n",
    "                                                                            'medicare',\n",
    "                                                                            'medicaid',\n",
    "                                                                            'ses',\n",
    "                                                                            'ecog_2',\n",
    "                                                                            'met_site']))"
   ]
  },
  {
   "cell_type": "code",
   "execution_count": null,
   "id": "74a72ca8",
   "metadata": {},
   "outputs": [],
   "source": []
  },
  {
   "cell_type": "code",
   "execution_count": 215,
   "id": "483164cd",
   "metadata": {},
   "outputs": [
    {
     "data": {
      "text/plain": [
       "LogisticRegression(max_iter=1000)"
      ]
     },
     "execution_count": 215,
     "metadata": {},
     "output_type": "execute_result"
    }
   ],
   "source": [
    "lr_paloma3_low = LogisticRegression(max_iter = 1000)\n",
    "lr_paloma3_low.fit(paloma3_low_x, paloma3_iptw_low['pfulv'])"
   ]
  },
  {
   "cell_type": "code",
   "execution_count": 216,
   "id": "7abdefdf",
   "metadata": {},
   "outputs": [
    {
     "data": {
      "text/plain": [
       "LogisticRegression(max_iter=1000)"
      ]
     },
     "execution_count": 216,
     "metadata": {},
     "output_type": "execute_result"
    }
   ],
   "source": [
    "lr_paloma3_med = LogisticRegression(max_iter = 1000)\n",
    "lr_paloma3_med.fit(paloma3_med_x, paloma3_iptw_med['pfulv'])"
   ]
  },
  {
   "cell_type": "code",
   "execution_count": 217,
   "id": "e2c14545",
   "metadata": {},
   "outputs": [
    {
     "data": {
      "text/plain": [
       "LogisticRegression(max_iter=1000)"
      ]
     },
     "execution_count": 217,
     "metadata": {},
     "output_type": "execute_result"
    }
   ],
   "source": [
    "lr_paloma3_high = LogisticRegression(max_iter = 1000)\n",
    "lr_paloma3_high.fit(paloma3_high_x, paloma3_iptw_high['pfulv'])"
   ]
  },
  {
   "cell_type": "code",
   "execution_count": 218,
   "id": "db99af5c",
   "metadata": {},
   "outputs": [
    {
     "data": {
      "text/plain": [
       "LogisticRegression(max_iter=1000)"
      ]
     },
     "execution_count": 218,
     "metadata": {},
     "output_type": "execute_result"
    }
   ],
   "source": [
    "lr_paloma3_all = LogisticRegression(max_iter = 1000)\n",
    "lr_paloma3_all.fit(paloma3_all_x, paloma3_iptw_all['pfulv'])"
   ]
  },
  {
   "cell_type": "code",
   "execution_count": 219,
   "id": "6f04de00",
   "metadata": {},
   "outputs": [],
   "source": [
    "pred_low = lr_paloma3_low.predict_proba(paloma3_low_x)\n",
    "pred_med = lr_paloma3_med.predict_proba(paloma3_med_x)\n",
    "pred_high = lr_paloma3_high.predict_proba(paloma3_high_x)\n",
    "pred_all = lr_paloma3_all.predict_proba(paloma3_all_x)"
   ]
  },
  {
   "cell_type": "code",
   "execution_count": 220,
   "id": "1d441a34",
   "metadata": {},
   "outputs": [],
   "source": [
    "paloma3_iptw_low['ps'] = pred_low[:, 1]\n",
    "paloma3_iptw_med['ps'] = pred_med[:, 1]\n",
    "paloma3_iptw_high['ps'] = pred_high[:, 1]\n",
    "paloma3_iptw_all['ps'] = pred_all[:, 1]"
   ]
  },
  {
   "cell_type": "code",
   "execution_count": 221,
   "id": "2668f8f9",
   "metadata": {},
   "outputs": [],
   "source": [
    "paloma3_iptw_low['weight'] = (\n",
    "    np.where(paloma3_iptw_low['pfulv'] == 1, 1/paloma3_iptw_low['ps'], 1/(1 - paloma3_iptw_low['ps'])))\n",
    "\n",
    "paloma3_iptw_med['weight'] = (\n",
    "    np.where(paloma3_iptw_med['pfulv'] == 1, 1/paloma3_iptw_med['ps'], 1/(1 - paloma3_iptw_med['ps'])))\n",
    "\n",
    "paloma3_iptw_high['weight'] = (\n",
    "    np.where(paloma3_iptw_high['pfulv'] == 1, 1/paloma3_iptw_high['ps'], 1/(1 - paloma3_iptw_high['ps'])))\n",
    "\n",
    "paloma3_iptw_all['weight'] = (\n",
    "    np.where(paloma3_iptw_all['pfulv'] == 1, 1/paloma3_iptw_all['ps'], 1/(1 - paloma3_iptw_all['ps'])))"
   ]
  },
  {
   "cell_type": "code",
   "execution_count": 222,
   "id": "95e4fb60",
   "metadata": {},
   "outputs": [
    {
     "name": "stderr",
     "output_type": "stream",
     "text": [
      "/Users/xavierorcutt/Dropbox/ist_project/myenv/lib/python3.7/site-packages/lifelines/fitters/kaplan_meier_fitter.py:344: StatisticalWarning: It looks like your weights are not integers, possibly propensity scores then?\n",
      "  It's important to know that the naive variance estimates of the coefficients are biased. Instead use Monte Carlo to\n",
      "  estimate the variances. See paper \"Variance estimation when using inverse probability of treatment weighting (IPTW) with survival analysis\"\n",
      "  or \"Adjusted Kaplan-Meier estimator and log-rank test with inverse probability of treatment weighting for survival data.\"\n",
      "                  \n",
      "  StatisticalWarning,\n"
     ]
    },
    {
     "data": {
      "text/plain": [
       "<lifelines.KaplanMeierFitter:\"KM_estimate\", fitted with 1151.16 total observations, 273.801 right-censored observations>"
      ]
     },
     "execution_count": 222,
     "metadata": {},
     "output_type": "execute_result"
    }
   ],
   "source": [
    "# Low KM curves\n",
    "kmf_low_pfulv_paloma3_iptw = KaplanMeierFitter()\n",
    "kmf_low_fulv_paloma3_iptw = KaplanMeierFitter()\n",
    "\n",
    "kmf_low_pfulv_paloma3_iptw.fit(\n",
    "    paloma3_iptw_low.query('pfulv == 1').timerisk_treatment/30,\n",
    "    paloma3_iptw_low.query('pfulv == 1').death_status,\n",
    "    weights = paloma3_iptw_low.query('pfulv == 1')['weight'])\n",
    "\n",
    "kmf_low_fulv_paloma3_iptw.fit(\n",
    "    paloma3_iptw_low.query('pfulv == 0').timerisk_treatment/30,\n",
    "    paloma3_iptw_low.query('pfulv == 0').death_status,\n",
    "    weights = paloma3_iptw_low.query('pfulv == 0')['weight'])\n",
    "\n",
    "# Med KM curves\n",
    "kmf_med_pfulv_paloma3_iptw = KaplanMeierFitter()\n",
    "kmf_med_fulv_paloma3_iptw = KaplanMeierFitter()\n",
    "\n",
    "kmf_med_pfulv_paloma3_iptw.fit(\n",
    "    paloma3_iptw_med.query('pfulv == 1').timerisk_treatment/30,\n",
    "    paloma3_iptw_med.query('pfulv == 1').death_status,\n",
    "    weights = paloma3_iptw_med.query('pfulv == 1')['weight'])\n",
    "\n",
    "kmf_med_fulv_paloma3_iptw.fit(\n",
    "    paloma3_iptw_med.query('pfulv == 0').timerisk_treatment/30,\n",
    "    paloma3_iptw_med.query('pfulv == 0').death_status,\n",
    "    weights = paloma3_iptw_med.query('pfulv == 0')['weight'])\n",
    "\n",
    "# High KM curves \n",
    "kmf_high_pfulv_paloma3_iptw = KaplanMeierFitter()\n",
    "kmf_high_fulv_paloma3_iptw = KaplanMeierFitter()\n",
    "\n",
    "kmf_high_pfulv_paloma3_iptw.fit(\n",
    "    paloma3_iptw_high.query('pfulv == 1').timerisk_treatment/30,\n",
    "    paloma3_iptw_high.query('pfulv == 1').death_status,\n",
    "    weights = paloma3_iptw_high.query('pfulv == 1')['weight'])\n",
    "\n",
    "kmf_high_fulv_paloma3_iptw.fit(\n",
    "    paloma3_iptw_high.query('pfulv == 0').timerisk_treatment/30,\n",
    "    paloma3_iptw_high.query('pfulv == 0').death_status,\n",
    "    weights = paloma3_iptw_high.query('pfulv == 0')['weight'])\n",
    "\n",
    "# All KM curves \n",
    "kmf_all_pfulv_paloma3_iptw = KaplanMeierFitter()\n",
    "kmf_all_fulv_paloma3_iptw = KaplanMeierFitter()\n",
    "\n",
    "kmf_all_pfulv_paloma3_iptw.fit(\n",
    "    paloma3_iptw_all.query('pfulv == 1').timerisk_treatment/30,\n",
    "    paloma3_iptw_all.query('pfulv == 1').death_status,\n",
    "    weights = paloma3_iptw_all.query('pfulv == 1')['weight'])\n",
    "\n",
    "kmf_all_fulv_paloma3_iptw.fit(\n",
    "    paloma3_iptw_all.query('pfulv == 0').timerisk_treatment/30,\n",
    "    paloma3_iptw_all.query('pfulv == 0').death_status,\n",
    "    weights = paloma3_iptw_all.query('pfulv == 0')['weight'])\n"
   ]
  },
  {
   "cell_type": "code",
   "execution_count": 223,
   "id": "192a3452",
   "metadata": {},
   "outputs": [
    {
     "data": {
      "image/png": "[encoded data removed]",
      "text/plain": [
       "<Figure size 1800x600 with 5 Axes>"
      ]
     },
     "metadata": {},
     "output_type": "display_data"
    }
   ],
   "source": [
    "fig = plt.figure(figsize=(18, 6))\n",
    "\n",
    "# Plot survival curves for low risk group \n",
    "plt.subplot(1, 4, 1)\n",
    "\n",
    "plt.step(kmf_low_pfulv_paloma3_iptw.timeline, kmf_low_pfulv_paloma3_iptw.survival_function_.values*100, color = 'red', alpha = 0.5)\n",
    "\n",
    "plt.step(kmf_low_fulv_paloma3_iptw.timeline, kmf_low_fulv_paloma3_iptw.survival_function_.values*100, color = 'black', alpha = 0.5)\n",
    "\n",
    "plt.xticks(np.arange(0, 61, 6))\n",
    "plt.xlim(0, 61)\n",
    "plt.ylim(0, 100)\n",
    "\n",
    "plt.title('Low-risk', weight = 'bold')\n",
    "plt.ylabel('OS (%)', size = 12, weight = 'bold')\n",
    "\n",
    "plt.gca().spines['top'].set_visible(False)\n",
    "plt.gca().spines['right'].set_visible(False)\n",
    "\n",
    "# Plot survival curves for med risk group. \n",
    "plt.subplot(1, 4, 2)\n",
    "\n",
    "plt.step(kmf_med_pfulv_paloma3_iptw.timeline, kmf_med_pfulv_paloma3_iptw.survival_function_.values*100, color = 'red', alpha = 0.5)\n",
    "\n",
    "plt.step(kmf_med_fulv_paloma3_iptw.timeline, kmf_med_fulv_paloma3_iptw.survival_function_.values*100, color = 'black', alpha = 0.5)\n",
    "\n",
    "plt.xticks(np.arange(0, 61, 6))\n",
    "plt.xlim(0, 61)\n",
    "plt.ylim(0, 100)\n",
    "\n",
    "plt.title('Med-risk', weight = 'bold')\n",
    "\n",
    "plt.gca().spines['top'].set_visible(False)\n",
    "plt.gca().spines['right'].set_visible(False)\n",
    "\n",
    "# Plot survival curves by treatment for high risk group. \n",
    "plt.subplot(1, 4, 3)\n",
    "\n",
    "plt.step(kmf_high_pfulv_paloma3_iptw.timeline, kmf_high_pfulv_paloma3_iptw.survival_function_.values*100, color = 'red', alpha = 0.5)\n",
    "\n",
    "plt.step(kmf_high_fulv_paloma3_iptw.timeline, kmf_high_fulv_paloma3_iptw.survival_function_.values*100, color = 'black', alpha = 0.5)\n",
    "\n",
    "plt.xticks(np.arange(0, 61, 6))\n",
    "plt.xlim(0, 61)\n",
    "plt.ylim(0, 100)\n",
    "\n",
    "plt.title('High-risk', weight = 'bold')\n",
    "\n",
    "plt.gca().spines['top'].set_visible(False)\n",
    "plt.gca().spines['right'].set_visible(False)\n",
    "\n",
    "# Plot survival curves by treatment for all risk group. \n",
    "plt.subplot(1, 4, 4)\n",
    "\n",
    "plt.step(kmf_all_pfulv_paloma3_iptw.timeline, kmf_all_pfulv_paloma3_iptw.survival_function_.values*100, color = 'red', alpha = 0.5, label = 'Palbociclib + fulvestrant')\n",
    "\n",
    "plt.step(kmf_all_fulv_paloma3_iptw.timeline, kmf_all_fulv_paloma3_iptw.survival_function_.values*100, color = 'black', alpha = 0.5, label = 'Fulvestrant')\n",
    "\n",
    "plt.xticks(np.arange(0, 61, 6))\n",
    "plt.xlim(0, 61)\n",
    "plt.ylim(0, 100)\n",
    "\n",
    "plt.title('Full cohort', weight = 'bold')\n",
    "\n",
    "plt.gca().spines['top'].set_visible(False)\n",
    "plt.gca().spines['right'].set_visible(False)\n",
    "\n",
    "plt.legend(loc = 'upper right', prop = {'size': 9})\n",
    "\n",
    "fig.add_subplot(1, 1, 1, frameon = False)\n",
    "plt.tick_params(labelcolor = 'none', which = 'both', top = False, bottom = False, left = False, right = False)\n",
    "plt.xlabel('Months after treatment', labelpad = 15, size = 12, weight = 'bold')\n",
    "plt.title('PALOMA-3: OS for palbociclib and fulvestrant vs. fulvestrant for ER+/HER2- metastatic breast cancer', pad = 40, size = 15, weight = 'bold')\n",
    "\n",
    "plt.show()"
   ]
  },
  {
   "cell_type": "markdown",
   "id": "7416a846",
   "metadata": {},
   "source": [
    "#### Summary result plot "
   ]
  },
  {
   "cell_type": "code",
   "execution_count": 224,
   "id": "1fef0424",
   "metadata": {},
   "outputs": [],
   "source": [
    "pfulv_paloma3_24_os = psurv_t(kmf_low_pfulv_paloma3_iptw,\n",
    "                              kmf_med_pfulv_paloma3_iptw,\n",
    "                              kmf_high_pfulv_paloma3_iptw,\n",
    "                              24)\n",
    "\n",
    "fulv_paloma3_24_os = psurv_t(kmf_low_fulv_paloma3_iptw,\n",
    "                             kmf_med_fulv_paloma3_iptw,\n",
    "                             kmf_high_fulv_paloma3_iptw,\n",
    "                             24)\n",
    "\n",
    "pfulv_paloma3_36_os = psurv_t(kmf_low_pfulv_paloma3_iptw,\n",
    "                              kmf_med_pfulv_paloma3_iptw,\n",
    "                              kmf_high_pfulv_paloma3_iptw,\n",
    "                              36)\n",
    "\n",
    "fulv_paloma3_36_os = psurv_t(kmf_low_fulv_paloma3_iptw,\n",
    "                             kmf_med_fulv_paloma3_iptw,\n",
    "                             kmf_high_fulv_paloma3_iptw,\n",
    "                             36)\n",
    "\n",
    "pfulv_paloma3_median_os = mos(kmf_low_pfulv_paloma3_iptw,\n",
    "                              kmf_med_pfulv_paloma3_iptw,\n",
    "                              kmf_high_pfulv_paloma3_iptw,\n",
    "                              kmf_all_pfulv_paloma3_iptw)\n",
    "\n",
    "fulv_paloma3_median_os = mos(kmf_low_fulv_paloma3_iptw,\n",
    "                              kmf_med_fulv_paloma3_iptw,\n",
    "                              kmf_high_fulv_paloma3_iptw,\n",
    "                              kmf_all_fulv_paloma3_iptw)"
   ]
  },
  {
   "cell_type": "code",
   "execution_count": 225,
   "id": "7c9c7479",
   "metadata": {
    "scrolled": true
   },
   "outputs": [
    {
     "name": "stdout",
     "output_type": "stream",
     "text": [
      "All, palbo + fulvestrant:  33.833\n",
      "All, fulvestrant:  23.866\n",
      "Low, palbo + fulvestrant:  50.066\n",
      "Low, fulvestrant:  42.333\n",
      "Med, palbo + fulvestrant:  30.566\n",
      "Med, fulvestrant:  24.6\n",
      "High, palbo + fulvestrant:  14.366\n",
      "High, fulvestrant:  11.433\n"
     ]
    }
   ],
   "source": [
    "print('All, palbo + fulvestrant: ',truncate(pfulv_paloma3_median_os[3], 3))\n",
    "print('All, fulvestrant: ',truncate(fulv_paloma3_median_os[3], 3))\n",
    "\n",
    "print('Low, palbo + fulvestrant: ',truncate(pfulv_paloma3_median_os[0], 3))\n",
    "print('Low, fulvestrant: ',truncate(fulv_paloma3_median_os[0], 3))\n",
    "\n",
    "print('Med, palbo + fulvestrant: ',truncate(pfulv_paloma3_median_os[1], 3))\n",
    "print('Med, fulvestrant: ',truncate(fulv_paloma3_median_os[1], 3))\n",
    "\n",
    "print('High, palbo + fulvestrant: ',truncate(pfulv_paloma3_median_os[2], 3))\n",
    "print('High, fulvestrant: ',truncate(fulv_paloma3_median_os[2], 3))"
   ]
  },
  {
   "cell_type": "code",
   "execution_count": 226,
   "id": "20ea5981",
   "metadata": {},
   "outputs": [],
   "source": [
    "pfulv_paloma3_low_24_ci = psurv_ci(kmf_low_pfulv_paloma3_iptw, 24)\n",
    "pfulv_paloma3_med_24_ci = psurv_ci(kmf_med_pfulv_paloma3_iptw, 24)\n",
    "pfulv_paloma3_high_24_ci = psurv_ci(kmf_high_pfulv_paloma3_iptw, 24)\n",
    "\n",
    "y_error_pfulv_paloma3_24 = y_error(pfulv_paloma3_low_24_ci,\n",
    "                                   pfulv_paloma3_med_24_ci,\n",
    "                                   pfulv_paloma3_high_24_ci,\n",
    "                                   pfulv_paloma3_24_os)"
   ]
  },
  {
   "cell_type": "code",
   "execution_count": 227,
   "id": "efe3b55c",
   "metadata": {},
   "outputs": [],
   "source": [
    "fulv_paloma3_low_24_ci = psurv_ci(kmf_low_fulv_paloma3_iptw, 24)\n",
    "fulv_paloma3_med_24_ci = psurv_ci(kmf_med_fulv_paloma3_iptw, 24)\n",
    "fulv_paloma3_high_24_ci = psurv_ci(kmf_high_fulv_paloma3_iptw, 24)\n",
    "\n",
    "y_error_fulv_paloma3_24 = y_error(fulv_paloma3_low_24_ci,\n",
    "                                  fulv_paloma3_med_24_ci,\n",
    "                                  fulv_paloma3_high_24_ci,\n",
    "                                  fulv_paloma3_24_os)"
   ]
  },
  {
   "cell_type": "code",
   "execution_count": 228,
   "id": "b48b7cdf",
   "metadata": {},
   "outputs": [],
   "source": [
    "pfulv_paloma3_low_36_ci = psurv_ci(kmf_low_pfulv_paloma3_iptw, 36)\n",
    "pfulv_paloma3_med_36_ci = psurv_ci(kmf_med_pfulv_paloma3_iptw, 36)\n",
    "pfulv_paloma3_high_36_ci = psurv_ci(kmf_high_pfulv_paloma3_iptw, 36)\n",
    "\n",
    "y_error_pfulv_paloma3_36 = y_error(pfulv_paloma3_low_36_ci,\n",
    "                                   pfulv_paloma3_med_36_ci,\n",
    "                                   pfulv_paloma3_high_36_ci,\n",
    "                                   pfulv_paloma3_36_os)"
   ]
  },
  {
   "cell_type": "code",
   "execution_count": 229,
   "id": "224114c5",
   "metadata": {},
   "outputs": [],
   "source": [
    "fulv_paloma3_low_36_ci = psurv_ci(kmf_low_fulv_paloma3_iptw, 36)\n",
    "fulv_paloma3_med_36_ci = psurv_ci(kmf_med_fulv_paloma3_iptw, 36)\n",
    "fulv_paloma3_high_36_ci = psurv_ci(kmf_high_fulv_paloma3_iptw, 36)\n",
    "\n",
    "y_error_fulv_paloma3_36 = y_error(fulv_paloma3_low_36_ci,\n",
    "                                  fulv_paloma3_med_36_ci,\n",
    "                                  fulv_paloma3_high_36_ci,\n",
    "                                  fulv_paloma3_36_os)"
   ]
  },
  {
   "cell_type": "code",
   "execution_count": 230,
   "id": "4d8f9c1e",
   "metadata": {},
   "outputs": [],
   "source": [
    "pfulv_paloma3_low_mos_ci = mos_ci(kmf_low_pfulv_paloma3_iptw)\n",
    "pfulv_paloma3_med_mos_ci = mos_ci(kmf_med_pfulv_paloma3_iptw)\n",
    "pfulv_paloma3_high_mos_ci = mos_ci(kmf_high_pfulv_paloma3_iptw)\n",
    "\n",
    "y_error_pfulv_paloma3_mos = y_error(pfulv_paloma3_low_mos_ci,\n",
    "                                    pfulv_paloma3_med_mos_ci,\n",
    "                                    pfulv_paloma3_high_mos_ci,\n",
    "                                    pfulv_paloma3_median_os)"
   ]
  },
  {
   "cell_type": "code",
   "execution_count": 231,
   "id": "42567ffb",
   "metadata": {},
   "outputs": [],
   "source": [
    "fulv_paloma3_low_mos_ci = mos_ci(kmf_low_fulv_paloma3_iptw)\n",
    "fulv_paloma3_med_mos_ci = mos_ci(kmf_med_fulv_paloma3_iptw)\n",
    "fulv_paloma3_high_mos_ci = mos_ci(kmf_high_fulv_paloma3_iptw)\n",
    "\n",
    "y_error_fulv_paloma3_mos = y_error(fulv_paloma3_low_mos_ci,\n",
    "                                   fulv_paloma3_med_mos_ci,\n",
    "                                   fulv_paloma3_high_mos_ci,\n",
    "                                   fulv_paloma3_median_os)"
   ]
  },
  {
   "cell_type": "code",
   "execution_count": 232,
   "id": "5ca19fad",
   "metadata": {
    "scrolled": true
   },
   "outputs": [
    {
     "data": {
      "image/png": "[encoded data removed]",
      "text/plain": [
       "<Figure size 1800x400 with 4 Axes>"
      ]
     },
     "metadata": {},
     "output_type": "display_data"
    }
   ],
   "source": [
    "ml_risk = ['Low', 'Med',  'High']\n",
    "\n",
    "fig = plt.figure(figsize=(18, 4))\n",
    "\n",
    "# 24 month OS plot\n",
    "plt.subplot(1, 3, 1)\n",
    "plt.errorbar(ml_risk, pfulv_paloma3_24_os, yerr = y_error_pfulv_paloma3_24, marker = 'o', color = 'black', capsize = 3)\n",
    "plt.axhline(y = 68, color = 'red', linestyle = 'solid')\n",
    "\n",
    "eb1 = plt.errorbar(ml_risk, fulv_paloma3_24_os, yerr = y_error_fulv_paloma3_24, marker = 'o', color = 'black', linestyle = '--', capsize = 3)\n",
    "eb1[-1][0].set_linestyle(':')\n",
    "plt.axhline(y = 58, color = 'red', linestyle = '--')\n",
    "\n",
    "plt.xticks(fontsize = 15)\n",
    "plt.yticks(np.arange(0, 110, 20))\n",
    "plt.ylim(0, 90)\n",
    "plt.ylabel('OS (%)', size = 15)\n",
    "\n",
    "plt.title('24-month OS %', size = 20)\n",
    "\n",
    "plt.gca().spines['top'].set_visible(False)\n",
    "plt.gca().spines['right'].set_visible(False)\n",
    "\n",
    "# 36 month OS plot\n",
    "plt.subplot(1, 3, 2)\n",
    "plt.errorbar(ml_risk, pfulv_paloma3_36_os, yerr = y_error_pfulv_paloma3_36, marker = 'o', color = 'black', capsize = 3)\n",
    "plt.axhline(y = 52, color = 'red', linestyle = 'solid')\n",
    "\n",
    "eb2 = plt.errorbar(ml_risk, fulv_paloma3_36_os, yerr = y_error_fulv_paloma3_36, marker = 'o', color = 'black', linestyle = '--', capsize = 3)\n",
    "eb2[-1][0].set_linestyle(':')\n",
    "plt.axhline(y = 42, color = 'red', linestyle = '--')\n",
    "\n",
    "plt.xticks(fontsize = 15)\n",
    "plt.yticks(np.arange(0, 110, 20))\n",
    "plt.ylim(0, 90)\n",
    "plt.ylabel('OS (%)', size = 15)\n",
    "\n",
    "plt.title('36-month OS %', size = 20)\n",
    "\n",
    "plt.gca().spines['top'].set_visible(False)\n",
    "plt.gca().spines['right'].set_visible(False)\n",
    "\n",
    "# Median OS plot\n",
    "plt.subplot(1, 3, 3)\n",
    "plt.errorbar(ml_risk, pfulv_paloma3_median_os[0:3], yerr = y_error_pfulv_paloma3_mos, marker = 'o', color = 'black', capsize = 3)\n",
    "\n",
    "plt.axhline(y = 39.7, color = 'red', linestyle = 'solid')\n",
    "x_positions = [-0.1, 2.1]\n",
    "for x in x_positions:\n",
    "    plt.errorbar(x, 39.7, yerr=[np.array([39.7-34.8]), np.array([45.7-39.7])], color = 'red', capsize = 3)\n",
    "\n",
    "eb3 = plt.errorbar(ml_risk, fulv_paloma3_median_os[0:3], yerr = y_error_fulv_paloma3_mos, marker = 'o', color = 'black', linestyle = '--', capsize = 3)\n",
    "eb3[-1][0].set_linestyle(':')\n",
    "\n",
    "plt.axhline(y = 29.7, color = 'red', linestyle = '--')\n",
    "for x, z in zip(x_positions, [4, 5]):\n",
    "    ebz = plt.errorbar(x, 29.7, yerr=[np.array([29.7-23.8]), np.array([37.9-29.7])], color = 'red', capsize = 3)\n",
    "    ebz[-1][0].set_linestyle(':')\n",
    "\n",
    "plt.xticks(fontsize = 15)\n",
    "plt.ylabel('OS (months)', size = 15)\n",
    "\n",
    "plt.title('Median OS', size = 20)\n",
    "\n",
    "plt.gca().spines['top'].set_visible(False)\n",
    "plt.gca().spines['right'].set_visible(False)\n",
    "\n",
    "fig.add_subplot(1, 1, 1, frameon = False)\n",
    "plt.tick_params(labelcolor = 'none', which = 'both', top = False, bottom = False, left = False, right = False)\n",
    "plt.xlabel('Machine-learning risk', labelpad = 20, size = 20)\n",
    "plt.title('PALOMA-3: palbociclib and fulvestrant vs. fulvestrant for ER+/HER2- metastatic breast cancer', pad = 40, size = 20, weight = 'bold', loc = 'center')\n",
    "\n",
    "legend_elements = [Line2D([0], [0], color = 'red', linestyle = 'solid', label = 'PALOMA-3: Palbociclib + fulvestrant'),\n",
    "                   Line2D([0], [0], color = 'red', linestyle = '--', label = 'PALOMA-3: Fulvestrant'),\n",
    "                   Line2D([0], [0], color = 'black', linestyle = 'solid', label = 'Flatiron: Palbociclib + fulvestrant (n = {})'.format(paloma3.query('pfulv == 1').shape[0])),\n",
    "                   Line2D([0], [0], color = 'black', linestyle = '--', label = 'Flatiron: Fulvestrant (n = {})'.format(paloma3.query('pfulv == 0').shape[0]))]\n",
    "\n",
    "plt.legend(handles = legend_elements, fancybox = True, shadow = True, loc = 'lower left', prop = {'size': 9})\n",
    "\n",
    "plt.savefig('paloma3_summary_rc.png', bbox_inches = 'tight')\n",
    "\n",
    "plt.show()"
   ]
  },
  {
   "cell_type": "markdown",
   "id": "286cb789",
   "metadata": {},
   "source": [
    "### CLEOPATRA: pertuzumab, trastuzumab, and docetaxel in HER2-positive metastatic breast cancer\n",
    "\n",
    "**INCLUSION**\n",
    "* Untreated metastatic breast cancer\n",
    "* Received first line pertuzumab, trastuzumab, and docetaxel/paclitaxel or first line trastuzumab + docetaxel/paclitaxel \n",
    "* First line of hormonal treatment is allowed\n",
    "* HER-2 positive within (+30, -inf) of receipt of treatment "
   ]
  },
  {
   "cell_type": "markdown",
   "id": "f4faa63c",
   "metadata": {},
   "source": [
    "#### First line trastuzumab + docetaxel/paclitaxel +/- pertuzumab "
   ]
  },
  {
   "cell_type": "code",
   "execution_count": 233,
   "id": "8a075431",
   "metadata": {
    "scrolled": true
   },
   "outputs": [
    {
     "data": {
      "text/plain": [
       "31677"
      ]
     },
     "execution_count": 233,
     "metadata": {},
     "output_type": "execute_result"
    }
   ],
   "source": [
    "df_full = pd.read_csv('df_risk_crude.csv', index_col = 'PatientID', dtype = {'death_status': bool})\n",
    "df_full.index.nunique()"
   ]
  },
  {
   "cell_type": "code",
   "execution_count": 234,
   "id": "255e4fb6",
   "metadata": {},
   "outputs": [],
   "source": [
    "line_therapy = pd.read_csv('LineOfTherapy.csv')"
   ]
  },
  {
   "cell_type": "code",
   "execution_count": 235,
   "id": "33d0bc79",
   "metadata": {},
   "outputs": [],
   "source": [
    "tpdp = [\n",
    "    'Docetaxel,Pertuzumab,Trastuzumab',\n",
    "    'Docetaxel,Pertuzumab,Trastuzumab-Anns',\n",
    "    'Docetaxel,Pertuzumab,Trastuzumab-Qyyp',\n",
    "    'Paclitaxel,Pertuzumab,Trastuzumab',\n",
    "    'Paclitaxel,Pertuzumab,Trastuzumab-Anns',\n",
    "    'Paclitaxel,Pertuzumab,Trastuzumab-Qyyp',\n",
    "    'Paclitaxel Protein-Bound,Pertuzumab,Trastuzumab',\n",
    "    'Paclitaxel Protein-Bound,Pertuzumab,Trastuzumab-Anns',\n",
    "    'Paclitaxel Protein-Bound,Pertuzumab,Trastuzumab-Qyyp']\n",
    "\n",
    "tpdp_fl = (\n",
    "    line_therapy[line_therapy['PatientID'].isin(df_full.index)]\n",
    "    .query('LineNumber == 1')\n",
    "    .query('LineName == @tpdp')\n",
    "    [['PatientID', 'StartDate']]\n",
    ")"
   ]
  },
  {
   "cell_type": "code",
   "execution_count": 236,
   "id": "ee357335",
   "metadata": {},
   "outputs": [],
   "source": [
    "tpdp_fl.loc[:, 'tpdp'] = 1"
   ]
  },
  {
   "cell_type": "code",
   "execution_count": 237,
   "id": "ae808594",
   "metadata": {},
   "outputs": [
    {
     "data": {
      "text/plain": [
       "(1219, 1219)"
      ]
     },
     "execution_count": 237,
     "metadata": {},
     "output_type": "execute_result"
    }
   ],
   "source": [
    "row_ID(tpdp_fl)"
   ]
  },
  {
   "cell_type": "code",
   "execution_count": 238,
   "id": "4e28e127",
   "metadata": {},
   "outputs": [],
   "source": [
    "tpd = [\n",
    "    'Docetaxel,Trastuzumab',\n",
    "    'Docetaxel,Trastuzumab-Anns',\n",
    "    'Docetaxel,Trastuzumab-Qyyp',\n",
    "    'Paclitaxel,Trastuzumab',\n",
    "    'Paclitaxel,Trastuzumab-Anns',\n",
    "    'Paclitaxel,Trastuzumab-Qyyp',\n",
    "    'Paclitaxel Protein-Bound,Trastuzumab',\n",
    "    'Paclitaxel Protein-Bound,Trastuzumab-Anns',\n",
    "    'Paclitaxel Protein-Bound,Trastuzumab-Qyyp'] \n",
    "\n",
    "tpd_fl = (\n",
    "    line_therapy[line_therapy['PatientID'].isin(df_full.index)]\n",
    "    .query('LineNumber == 1')\n",
    "    .query('LineName == @tpd')\n",
    "    [['PatientID', 'StartDate']]\n",
    ")"
   ]
  },
  {
   "cell_type": "code",
   "execution_count": 239,
   "id": "c2ab918a",
   "metadata": {},
   "outputs": [],
   "source": [
    "tpd_fl.loc[:, 'tpdp'] = 0"
   ]
  },
  {
   "cell_type": "code",
   "execution_count": 240,
   "id": "1922dd9f",
   "metadata": {},
   "outputs": [
    {
     "data": {
      "text/plain": [
       "(1219, 1219)"
      ]
     },
     "execution_count": 240,
     "metadata": {},
     "output_type": "execute_result"
    }
   ],
   "source": [
    "row_ID(tpdp_fl)"
   ]
  },
  {
   "cell_type": "markdown",
   "id": "56d2c97c",
   "metadata": {},
   "source": [
    "#### First line endocrine therapy, second line trastuzumab + docetaxel/paclitaxel +/- pertuzumab "
   ]
  },
  {
   "cell_type": "code",
   "execution_count": 241,
   "id": "cc2a3ad9",
   "metadata": {},
   "outputs": [],
   "source": [
    "all_treatment = line_therapy.LineName.unique()"
   ]
  },
  {
   "cell_type": "code",
   "execution_count": 242,
   "id": "13d5c8ca",
   "metadata": {},
   "outputs": [],
   "source": [
    "treatment_list = []\n",
    "for trt in all_treatment:\n",
    "    treatment_list.extend(trt.split(\",\"))"
   ]
  },
  {
   "cell_type": "code",
   "execution_count": 243,
   "id": "f52f4a13",
   "metadata": {},
   "outputs": [],
   "source": [
    "unique = list(dict.fromkeys(treatment_list))"
   ]
  },
  {
   "cell_type": "code",
   "execution_count": 244,
   "id": "7f3b07e3",
   "metadata": {},
   "outputs": [],
   "source": [
    "et = [\n",
    "    'Anastrozole',\n",
    "    'Letrozole',\n",
    "    'Exemestane',\n",
    "    'Tamoxifen',\n",
    "    'Leuprolide',\n",
    "    'Goserelin',\n",
    "    'Triptorelin']"
   ]
  },
  {
   "cell_type": "code",
   "execution_count": 245,
   "id": "4c5f51ee",
   "metadata": {},
   "outputs": [],
   "source": [
    "unique.remove('Anastrozole')\n",
    "unique.remove('Letrozole')\n",
    "unique.remove('Exemestane')\n",
    "unique.remove('Tamoxifen')\n",
    "unique.remove('Leuprolide')\n",
    "unique.remove('Goserelin')\n",
    "unique.remove('Triptorelin')"
   ]
  },
  {
   "cell_type": "code",
   "execution_count": 246,
   "id": "0f269349",
   "metadata": {},
   "outputs": [],
   "source": [
    "line_therapy_fl = (\n",
    "    line_therapy[line_therapy['PatientID'].isin(df_full.index)]\n",
    "    .query('LineNumber == 1'))"
   ]
  },
  {
   "cell_type": "code",
   "execution_count": 247,
   "id": "213dc94d",
   "metadata": {},
   "outputs": [
    {
     "data": {
      "text/plain": [
       "Anastrozole               2943\n",
       "Letrozole                 2536\n",
       "Tamoxifen                 1305\n",
       "Exemestane                 780\n",
       "Leuprolide                  77\n",
       "Goserelin                   60\n",
       "Leuprolide,Tamoxifen        56\n",
       "Letrozole,Leuprolide        40\n",
       "Goserelin,Tamoxifen         36\n",
       "Anastrozole,Leuprolide      35\n",
       "Name: LineName, dtype: int64"
      ]
     },
     "execution_count": 247,
     "metadata": {},
     "output_type": "execute_result"
    }
   ],
   "source": [
    "(\n",
    "    line_therapy_fl\n",
    "    [line_therapy_fl['LineName'].str.contains('|'.join(et))\n",
    "     & ~line_therapy_fl['LineName'].str.contains('|'.join(unique))]\n",
    "    .LineName.value_counts().head(10)\n",
    ")"
   ]
  },
  {
   "cell_type": "code",
   "execution_count": 248,
   "id": "5e7a463d",
   "metadata": {},
   "outputs": [],
   "source": [
    "et_id = (\n",
    "    line_therapy_fl\n",
    "    [line_therapy_fl['LineName'].str.contains('|'.join(et))\n",
    "     & ~line_therapy_fl['LineName'].str.contains('|'.join(unique))]\n",
    "    .PatientID\n",
    ")"
   ]
  },
  {
   "cell_type": "code",
   "execution_count": 249,
   "id": "1c77aa32",
   "metadata": {},
   "outputs": [],
   "source": [
    "line_therapy_sec = (\n",
    "    line_therapy[line_therapy['PatientID'].isin(et_id)]\n",
    "    .query('LineNumber == 2'))"
   ]
  },
  {
   "cell_type": "code",
   "execution_count": 250,
   "id": "5f4c0b83",
   "metadata": {},
   "outputs": [],
   "source": [
    "et_tpdp = (\n",
    "    line_therapy_sec\n",
    "    .query('LineName == @tpdp')\n",
    "    [['PatientID', 'StartDate']]\n",
    ")"
   ]
  },
  {
   "cell_type": "code",
   "execution_count": 251,
   "id": "ec325448",
   "metadata": {},
   "outputs": [],
   "source": [
    "et_tpdp.loc[:, 'tpdp'] = 1"
   ]
  },
  {
   "cell_type": "code",
   "execution_count": 252,
   "id": "6c8f0dcb",
   "metadata": {},
   "outputs": [
    {
     "data": {
      "text/plain": [
       "(79, 79)"
      ]
     },
     "execution_count": 252,
     "metadata": {},
     "output_type": "execute_result"
    }
   ],
   "source": [
    "row_ID(et_tpdp)"
   ]
  },
  {
   "cell_type": "code",
   "execution_count": 253,
   "id": "9dfc5916",
   "metadata": {},
   "outputs": [],
   "source": [
    "et_tpd = (\n",
    "    line_therapy_sec\n",
    "    .query('LineName == @tpd')\n",
    "    [['PatientID', 'StartDate']]\n",
    ")"
   ]
  },
  {
   "cell_type": "code",
   "execution_count": 254,
   "id": "b0bcd79f",
   "metadata": {},
   "outputs": [],
   "source": [
    "et_tpd.loc[:, 'tpdp'] = 0"
   ]
  },
  {
   "cell_type": "code",
   "execution_count": 255,
   "id": "894899e9",
   "metadata": {},
   "outputs": [
    {
     "data": {
      "text/plain": [
       "(5, 5)"
      ]
     },
     "execution_count": 255,
     "metadata": {},
     "output_type": "execute_result"
    }
   ],
   "source": [
    "row_ID(et_tpd)"
   ]
  },
  {
   "cell_type": "code",
   "execution_count": 256,
   "id": "6bc1b40d",
   "metadata": {},
   "outputs": [],
   "source": [
    "cleopatra_p = pd.concat([tpdp_fl, et_tpdp])"
   ]
  },
  {
   "cell_type": "code",
   "execution_count": 257,
   "id": "8736368e",
   "metadata": {},
   "outputs": [
    {
     "data": {
      "text/plain": [
       "(1298, 1298)"
      ]
     },
     "execution_count": 257,
     "metadata": {},
     "output_type": "execute_result"
    }
   ],
   "source": [
    "row_ID(cleopatra_p)"
   ]
  },
  {
   "cell_type": "code",
   "execution_count": 258,
   "id": "042e52d2",
   "metadata": {},
   "outputs": [],
   "source": [
    "cleopatra_np = pd.concat([tpd_fl, et_tpd])"
   ]
  },
  {
   "cell_type": "code",
   "execution_count": 259,
   "id": "40d5e511",
   "metadata": {},
   "outputs": [
    {
     "data": {
      "text/plain": [
       "(184, 184)"
      ]
     },
     "execution_count": 259,
     "metadata": {},
     "output_type": "execute_result"
    }
   ],
   "source": [
    "row_ID(cleopatra_np)"
   ]
  },
  {
   "cell_type": "code",
   "execution_count": 260,
   "id": "8e1f9898",
   "metadata": {},
   "outputs": [],
   "source": [
    "cleopatra = pd.concat([cleopatra_p, cleopatra_np])"
   ]
  },
  {
   "cell_type": "code",
   "execution_count": 261,
   "id": "e7755401",
   "metadata": {},
   "outputs": [
    {
     "data": {
      "text/plain": [
       "(1482, 1482)"
      ]
     },
     "execution_count": 261,
     "metadata": {},
     "output_type": "execute_result"
    }
   ],
   "source": [
    "row_ID(cleopatra)"
   ]
  },
  {
   "cell_type": "code",
   "execution_count": 262,
   "id": "bb3ea4a0",
   "metadata": {},
   "outputs": [],
   "source": [
    "cleopatra = pd.merge(cleopatra, df_full, on = 'PatientID', how = 'inner')"
   ]
  },
  {
   "cell_type": "code",
   "execution_count": 263,
   "id": "768950a2",
   "metadata": {},
   "outputs": [
    {
     "data": {
      "text/plain": [
       "(1482, 1482)"
      ]
     },
     "execution_count": 263,
     "metadata": {},
     "output_type": "execute_result"
    }
   ],
   "source": [
    "row_ID(cleopatra)"
   ]
  },
  {
   "cell_type": "code",
   "execution_count": 264,
   "id": "8bfd84ef",
   "metadata": {},
   "outputs": [],
   "source": [
    "cleopatra['StartDate'] = pd.to_datetime(cleopatra['StartDate'])"
   ]
  },
  {
   "cell_type": "markdown",
   "id": "45703ce1",
   "metadata": {},
   "source": [
    "#### HER-2 positive"
   ]
  },
  {
   "cell_type": "code",
   "execution_count": 265,
   "id": "b9a5237a",
   "metadata": {},
   "outputs": [],
   "source": [
    "biomarkers = pd.read_csv('Enhanced_MetBreastBiomarkers.csv')"
   ]
  },
  {
   "cell_type": "code",
   "execution_count": 266,
   "id": "47425a39",
   "metadata": {},
   "outputs": [],
   "source": [
    "biomarkers = biomarkers[biomarkers['PatientID'].isin(cleopatra['PatientID'])]"
   ]
  },
  {
   "cell_type": "code",
   "execution_count": 267,
   "id": "cd7c8e28",
   "metadata": {},
   "outputs": [
    {
     "data": {
      "text/plain": [
       "(10765, 1482)"
      ]
     },
     "execution_count": 267,
     "metadata": {},
     "output_type": "execute_result"
    }
   ],
   "source": [
    "row_ID(biomarkers)"
   ]
  },
  {
   "cell_type": "code",
   "execution_count": 268,
   "id": "f80c8045",
   "metadata": {},
   "outputs": [],
   "source": [
    "biomarkers = pd.merge(biomarkers, cleopatra[['PatientID', 'StartDate']], on = 'PatientID', how = 'left')"
   ]
  },
  {
   "cell_type": "code",
   "execution_count": 269,
   "id": "86c08f9f",
   "metadata": {},
   "outputs": [
    {
     "data": {
      "text/plain": [
       "(10765, 1482)"
      ]
     },
     "execution_count": 269,
     "metadata": {},
     "output_type": "execute_result"
    }
   ],
   "source": [
    "row_ID(biomarkers)"
   ]
  },
  {
   "cell_type": "code",
   "execution_count": 270,
   "id": "4b2ac344",
   "metadata": {},
   "outputs": [],
   "source": [
    "biomarkers['StartDate'] = pd.to_datetime(biomarkers['StartDate'])"
   ]
  },
  {
   "cell_type": "code",
   "execution_count": 271,
   "id": "bb27ac88",
   "metadata": {},
   "outputs": [],
   "source": [
    "biomarkers['ResultDate'] = pd.to_datetime(biomarkers['ResultDate'])"
   ]
  },
  {
   "cell_type": "code",
   "execution_count": 272,
   "id": "4e8631f6",
   "metadata": {},
   "outputs": [],
   "source": [
    "biomarkers['SpecimenReceivedDate'] = pd.to_datetime(biomarkers['SpecimenReceivedDate'])"
   ]
  },
  {
   "cell_type": "code",
   "execution_count": 273,
   "id": "e10852f1",
   "metadata": {},
   "outputs": [],
   "source": [
    "biomarkers.loc[:, 'result_date'] = (\n",
    "    np.where(biomarkers['ResultDate'].isna(), biomarkers['SpecimenReceivedDate'], biomarkers['ResultDate'])\n",
    ")"
   ]
  },
  {
   "cell_type": "code",
   "execution_count": 274,
   "id": "a27f0227",
   "metadata": {},
   "outputs": [],
   "source": [
    "biomarkers.loc[:, 'date_diff'] = (biomarkers['result_date'] - biomarkers['StartDate']).dt.days"
   ]
  },
  {
   "cell_type": "code",
   "execution_count": 275,
   "id": "5528663b",
   "metadata": {},
   "outputs": [],
   "source": [
    "her2_rel = ['IHC negative (0-1+)',\n",
    "            'FISH negative/not amplified',\n",
    "            'Negative NOS',\n",
    "            'NGS negative (ERBB2 not amplified)',\n",
    "            'IHC positive (3+)',\n",
    "            'FISH positive/amplified',\n",
    "            'Positive NOS',\n",
    "            'NGS positive (ERBB2 amplified)']\n",
    "\n",
    "her2_status = (\n",
    "    biomarkers\n",
    "    .query('BiomarkerName == \"HER2\"')\n",
    "    .query('date_diff <= 30')\n",
    "    .query('BiomarkerStatus == @her2_rel')\n",
    "    .sort_values(['PatientID', 'date_diff'], ascending = [True, False])\n",
    "    .drop_duplicates(subset = ['PatientID'], keep = 'first')\n",
    "    [['PatientID', 'BiomarkerStatus']]\n",
    "    .rename(columns = {'BiomarkerStatus': 'her2'})\n",
    ")"
   ]
  },
  {
   "cell_type": "code",
   "execution_count": 276,
   "id": "694ee34b",
   "metadata": {},
   "outputs": [
    {
     "data": {
      "text/plain": [
       "(1377, 1377)"
      ]
     },
     "execution_count": 276,
     "metadata": {},
     "output_type": "execute_result"
    }
   ],
   "source": [
    "row_ID(her2_status)"
   ]
  },
  {
   "cell_type": "code",
   "execution_count": 277,
   "id": "c95dad09",
   "metadata": {},
   "outputs": [],
   "source": [
    "cleopatra = pd.merge(cleopatra, her2_status, on  = 'PatientID', how = 'left')"
   ]
  },
  {
   "cell_type": "code",
   "execution_count": 278,
   "id": "e013c0fe",
   "metadata": {},
   "outputs": [
    {
     "data": {
      "text/plain": [
       "(1482, 1482)"
      ]
     },
     "execution_count": 278,
     "metadata": {},
     "output_type": "execute_result"
    }
   ],
   "source": [
    "row_ID(cleopatra)"
   ]
  },
  {
   "cell_type": "code",
   "execution_count": 279,
   "id": "ff8c4532",
   "metadata": {},
   "outputs": [],
   "source": [
    "her2_pos = ['IHC positive (3+)',\n",
    "            'FISH positive/amplified',\n",
    "            'Positive NOS',\n",
    "            'NGS positive (ERBB2 amplified)']\n",
    "\n",
    "cleopatra = (\n",
    "    cleopatra\n",
    "    .query('her2== @her2_pos')\n",
    ")"
   ]
  },
  {
   "cell_type": "code",
   "execution_count": 280,
   "id": "151cbc89",
   "metadata": {},
   "outputs": [
    {
     "data": {
      "text/plain": [
       "(1296, 1296)"
      ]
     },
     "execution_count": 280,
     "metadata": {},
     "output_type": "execute_result"
    }
   ],
   "source": [
    "row_ID(cleopatra)"
   ]
  },
  {
   "cell_type": "markdown",
   "id": "87525c79",
   "metadata": {},
   "source": [
    "#### Time from treatment to death or censor "
   ]
  },
  {
   "cell_type": "code",
   "execution_count": 281,
   "id": "6db16dcc",
   "metadata": {},
   "outputs": [],
   "source": [
    "mortality_tr = pd.read_csv('mortality_cleaned_tr.csv')"
   ]
  },
  {
   "cell_type": "code",
   "execution_count": 282,
   "id": "58156d28",
   "metadata": {},
   "outputs": [],
   "source": [
    "mortality_te = pd.read_csv('mortality_cleaned_te.csv')"
   ]
  },
  {
   "cell_type": "code",
   "execution_count": 283,
   "id": "0086d13c",
   "metadata": {},
   "outputs": [],
   "source": [
    "mortality_tr = mortality_tr[['PatientID', 'death_date', 'last_activity']]"
   ]
  },
  {
   "cell_type": "code",
   "execution_count": 284,
   "id": "946521eb",
   "metadata": {},
   "outputs": [],
   "source": [
    "mortality_te = mortality_te[['PatientID', 'death_date', 'last_activity']]"
   ]
  },
  {
   "cell_type": "code",
   "execution_count": 285,
   "id": "e4cde546",
   "metadata": {},
   "outputs": [
    {
     "data": {
      "text/plain": [
       "(31677, 31677)"
      ]
     },
     "execution_count": 285,
     "metadata": {},
     "output_type": "execute_result"
    }
   ],
   "source": [
    "mortality = pd.concat([mortality_tr, mortality_te], ignore_index = True)\n",
    "row_ID(mortality)"
   ]
  },
  {
   "cell_type": "code",
   "execution_count": 286,
   "id": "9e36838a",
   "metadata": {},
   "outputs": [],
   "source": [
    "mortality.loc[:, 'last_activity'] = pd.to_datetime(mortality['last_activity'])"
   ]
  },
  {
   "cell_type": "code",
   "execution_count": 287,
   "id": "9553bf8e",
   "metadata": {},
   "outputs": [],
   "source": [
    "mortality.loc[:, 'death_date'] = pd.to_datetime(mortality['death_date'])"
   ]
  },
  {
   "cell_type": "code",
   "execution_count": 288,
   "id": "62b553f4",
   "metadata": {},
   "outputs": [
    {
     "data": {
      "text/plain": [
       "(31677, 31677)"
      ]
     },
     "execution_count": 288,
     "metadata": {},
     "output_type": "execute_result"
    }
   ],
   "source": [
    "row_ID(mortality)"
   ]
  },
  {
   "cell_type": "code",
   "execution_count": 289,
   "id": "d8e59182",
   "metadata": {},
   "outputs": [],
   "source": [
    "cleopatra = pd.merge(cleopatra, mortality, on = 'PatientID', how = 'left')"
   ]
  },
  {
   "cell_type": "code",
   "execution_count": 290,
   "id": "11ecbaca",
   "metadata": {},
   "outputs": [
    {
     "data": {
      "text/plain": [
       "(1296, 1296)"
      ]
     },
     "execution_count": 290,
     "metadata": {},
     "output_type": "execute_result"
    }
   ],
   "source": [
    "row_ID(cleopatra)"
   ]
  },
  {
   "cell_type": "code",
   "execution_count": 291,
   "id": "046b4b25",
   "metadata": {},
   "outputs": [],
   "source": [
    "conditions = [\n",
    "    (cleopatra['death_status'] == 1),\n",
    "    (cleopatra['death_status'] == 0)]\n",
    "\n",
    "choices = [\n",
    "    (cleopatra['death_date'] - cleopatra['StartDate']).dt.days,\n",
    "    (cleopatra['last_activity'] - cleopatra['StartDate']).dt.days]\n",
    "\n",
    "cleopatra.loc[:, 'timerisk_treatment'] = np.select(conditions, choices)"
   ]
  },
  {
   "cell_type": "code",
   "execution_count": 292,
   "id": "2d6e5a27",
   "metadata": {},
   "outputs": [],
   "source": [
    "cleopatra = cleopatra.query('timerisk_treatment >= 0')"
   ]
  },
  {
   "cell_type": "markdown",
   "id": "27747ba2",
   "metadata": {},
   "source": [
    "#### Patient count "
   ]
  },
  {
   "cell_type": "code",
   "execution_count": 293,
   "id": "a4e51f9a",
   "metadata": {},
   "outputs": [],
   "source": [
    "low_cutoff_cleopatra = cleopatra.risk_score.quantile(1/3)"
   ]
  },
  {
   "cell_type": "code",
   "execution_count": 294,
   "id": "634a0d0d",
   "metadata": {},
   "outputs": [],
   "source": [
    "high_cutoff_cleopatra = cleopatra.risk_score.quantile(2/3)"
   ]
  },
  {
   "cell_type": "code",
   "execution_count": 295,
   "id": "2aff7268",
   "metadata": {},
   "outputs": [
    {
     "name": "stdout",
     "output_type": "stream",
     "text": [
      "Pertuzumab + trastuzumab + docetaxel/paclitaxel total: 1151\n",
      "High risk: 375\n",
      "Med risk: 390\n",
      "Low risk: 386\n"
     ]
    }
   ],
   "source": [
    "print('Pertuzumab + trastuzumab + docetaxel/paclitaxel total:',  cleopatra.query('tpdp == 1').shape[0])\n",
    "print('High risk:', cleopatra.query('tpdp == 1').query('risk_score >= @high_cutoff_cleopatra').shape[0])\n",
    "print('Med risk:', cleopatra.query('tpdp == 1').query('risk_score < @high_cutoff_cleopatra and risk_score > @low_cutoff_cleopatra').shape[0])\n",
    "print('Low risk:', cleopatra.query('tpdp == 1').query('risk_score <= @low_cutoff_cleopatra').shape[0])"
   ]
  },
  {
   "cell_type": "code",
   "execution_count": 296,
   "id": "35685c0a",
   "metadata": {
    "scrolled": true
   },
   "outputs": [
    {
     "name": "stdout",
     "output_type": "stream",
     "text": [
      "Trastuzumab + docetaxel/paclitaxel total: 143\n",
      "High risk: 57\n",
      "Med risk: 41\n",
      "Low risk: 45\n"
     ]
    }
   ],
   "source": [
    "print('Trastuzumab + docetaxel/paclitaxel total:',  cleopatra.query('tpdp == 0').shape[0])\n",
    "print('High risk:', cleopatra.query('tpdp == 0').query('risk_score >= @high_cutoff_cleopatra').shape[0])\n",
    "print('Med risk:', cleopatra.query('tpdp == 0').query('risk_score < @high_cutoff_cleopatra and risk_score > @low_cutoff_cleopatra').shape[0])\n",
    "print('Low risk:', cleopatra.query('tpdp == 0').query('risk_score <= @low_cutoff_cleopatra').shape[0])"
   ]
  },
  {
   "cell_type": "code",
   "execution_count": 297,
   "id": "8bdcf5e0",
   "metadata": {},
   "outputs": [],
   "source": [
    "risk_cutoff_breast.loc['cleopatra'] = [low_cutoff_cleopatra, high_cutoff_cleopatra]"
   ]
  },
  {
   "cell_type": "code",
   "execution_count": 298,
   "id": "58c0f11e",
   "metadata": {},
   "outputs": [
    {
     "data": {
      "text/html": [
       "<div>\n",
       "<style scoped>\n",
       "    .dataframe tbody tr th:only-of-type {\n",
       "        vertical-align: middle;\n",
       "    }\n",
       "\n",
       "    .dataframe tbody tr th {\n",
       "        vertical-align: top;\n",
       "    }\n",
       "\n",
       "    .dataframe thead th {\n",
       "        text-align: right;\n",
       "    }\n",
       "</style>\n",
       "<table border=\"1\" class=\"dataframe\">\n",
       "  <thead>\n",
       "    <tr style=\"text-align: right;\">\n",
       "      <th></th>\n",
       "      <th>low</th>\n",
       "      <th>high</th>\n",
       "    </tr>\n",
       "  </thead>\n",
       "  <tbody>\n",
       "    <tr>\n",
       "      <th>paloma2</th>\n",
       "      <td>-0.740498</td>\n",
       "      <td>-0.130034</td>\n",
       "    </tr>\n",
       "    <tr>\n",
       "      <th>paloma3</th>\n",
       "      <td>-0.674012</td>\n",
       "      <td>-0.024017</td>\n",
       "    </tr>\n",
       "    <tr>\n",
       "      <th>cleopatra</th>\n",
       "      <td>-0.828093</td>\n",
       "      <td>-0.084191</td>\n",
       "    </tr>\n",
       "  </tbody>\n",
       "</table>\n",
       "</div>"
      ],
      "text/plain": [
       "                low      high\n",
       "paloma2   -0.740498 -0.130034\n",
       "paloma3   -0.674012 -0.024017\n",
       "cleopatra -0.828093 -0.084191"
      ]
     },
     "execution_count": 298,
     "metadata": {},
     "output_type": "execute_result"
    }
   ],
   "source": [
    "risk_cutoff_breast"
   ]
  },
  {
   "cell_type": "code",
   "execution_count": 299,
   "id": "2a657003",
   "metadata": {},
   "outputs": [],
   "source": [
    "risk_cutoff_breast.to_csv('risk_cutoff_breast.csv', index = True)"
   ]
  },
  {
   "cell_type": "markdown",
   "id": "024c99b9",
   "metadata": {},
   "source": [
    "#### Survival curves with covaraite balancing "
   ]
  },
  {
   "cell_type": "code",
   "execution_count": 300,
   "id": "1a417862",
   "metadata": {},
   "outputs": [],
   "source": [
    "conditions = [\n",
    "    (cleopatra['thorax_met'] == 1) |\n",
    "    (cleopatra['liver_met'] == 1) |\n",
    "    (cleopatra['cns_met'] == 1) |\n",
    "    (cleopatra['peritoneum_met'] == 1) |\n",
    "    (cleopatra['other_met'] == 1),\n",
    "    (cleopatra['bone_met'] == 0) &\n",
    "    (cleopatra['thorax_met'] == 0) &\n",
    "    (cleopatra['lymph_met'] == 0) &\n",
    "    (cleopatra['liver_met'] == 0) &\n",
    "    (cleopatra['cns_met'] == 0) &\n",
    "    (cleopatra['skin_met'] == 0) &\n",
    "    (cleopatra['peritoneum_met'] == 0) &\n",
    "    (cleopatra['other_met'] == 0)\n",
    "]\n",
    "\n",
    "choices = ['visceral', 'unknown']\n",
    "\n",
    "cleopatra['met_site'] = np.select(conditions, choices, default = 'nonvisceral')"
   ]
  },
  {
   "cell_type": "code",
   "execution_count": 301,
   "id": "17ed498f",
   "metadata": {},
   "outputs": [],
   "source": [
    "cleopatra['met_cat'] = pd.cut(cleopatra['met_year'],\n",
    "                              bins = [2010, 2016, float('inf')],\n",
    "                              labels = ['11-16', '17-22'])"
   ]
  },
  {
   "cell_type": "code",
   "execution_count": 302,
   "id": "3187524b",
   "metadata": {},
   "outputs": [],
   "source": [
    "conditions = [\n",
    "    ((cleopatra['ecog_diagnosis'] == \"1.0\") | (cleopatra['ecog_diagnosis'] == \"0.0\")),  \n",
    "    ((cleopatra['ecog_diagnosis'] == \"2.0\") | (cleopatra['ecog_diagnosis'] == \"3.0\"))\n",
    "]\n",
    "\n",
    "choices = ['lt_2', 'gte_2']\n",
    "\n",
    "cleopatra['ecog_2'] = np.select(conditions, choices, default = 'unknown')"
   ]
  },
  {
   "cell_type": "code",
   "execution_count": 303,
   "id": "a843a449",
   "metadata": {},
   "outputs": [],
   "source": [
    "conditions = [\n",
    "    ((cleopatra['ses'] == 1) | (cleopatra['ses'] == 2) | (cleopatra['ses'] == 3)), \n",
    "    ((cleopatra['ses'] == 4) | (cleopatra['ses'] == 5))\n",
    "]\n",
    "\n",
    "choices = ['lt_4', 'gte_4']\n",
    "\n",
    "cleopatra['ses_cat'] = np.select(conditions, choices, default = 'unknown')"
   ]
  },
  {
   "cell_type": "code",
   "execution_count": 304,
   "id": "a1ce6d5a",
   "metadata": {},
   "outputs": [],
   "source": [
    "cleopatra['race_cat'] = np.where(cleopatra['race'] == \"White\", 1, 0)"
   ]
  },
  {
   "cell_type": "code",
   "execution_count": 305,
   "id": "730717d7",
   "metadata": {},
   "outputs": [],
   "source": [
    "cleopatra = cleopatra.set_index('PatientID')"
   ]
  },
  {
   "cell_type": "code",
   "execution_count": 306,
   "id": "8d819a70",
   "metadata": {},
   "outputs": [],
   "source": [
    "cleopatra_iptw = cleopatra.filter(items = ['death_status',\n",
    "                                           'timerisk_treatment',\n",
    "                                           'tpdp',\n",
    "                                           'age',\n",
    "                                           'gender',\n",
    "                                           'race_cat',\n",
    "                                           'p_type',\n",
    "                                           'delta_met_diagnosis',\n",
    "                                           'met_cat',\n",
    "                                           'ses_cat',\n",
    "                                           'ecog_2',\n",
    "                                           'risk_score'])"
   ]
  },
  {
   "cell_type": "code",
   "execution_count": 307,
   "id": "c0fe948b",
   "metadata": {},
   "outputs": [
    {
     "data": {
      "text/plain": [
       "death_status               bool\n",
       "timerisk_treatment      float64\n",
       "tpdp                      int64\n",
       "age                       int64\n",
       "gender                   object\n",
       "race_cat                  int64\n",
       "p_type                   object\n",
       "delta_met_diagnosis       int64\n",
       "met_cat                category\n",
       "ses_cat                  object\n",
       "ecog_2                   object\n",
       "risk_score              float64\n",
       "dtype: object"
      ]
     },
     "execution_count": 307,
     "metadata": {},
     "output_type": "execute_result"
    }
   ],
   "source": [
    "cleopatra_iptw.dtypes"
   ]
  },
  {
   "cell_type": "code",
   "execution_count": 308,
   "id": "fa28cae3",
   "metadata": {},
   "outputs": [],
   "source": [
    "to_be_categorical = list(cleopatra_iptw.select_dtypes(include = ['object']).columns)"
   ]
  },
  {
   "cell_type": "code",
   "execution_count": 309,
   "id": "2fbb8c62",
   "metadata": {},
   "outputs": [
    {
     "data": {
      "text/plain": [
       "['gender', 'p_type', 'ses_cat', 'ecog_2']"
      ]
     },
     "execution_count": 309,
     "metadata": {},
     "output_type": "execute_result"
    }
   ],
   "source": [
    "to_be_categorical"
   ]
  },
  {
   "cell_type": "code",
   "execution_count": 310,
   "id": "84266c9a",
   "metadata": {},
   "outputs": [],
   "source": [
    "to_be_categorical.append('met_cat')"
   ]
  },
  {
   "cell_type": "code",
   "execution_count": 311,
   "id": "dfec72bb",
   "metadata": {},
   "outputs": [],
   "source": [
    "to_be_categorical.append('race_cat')"
   ]
  },
  {
   "cell_type": "code",
   "execution_count": 312,
   "id": "725380ac",
   "metadata": {},
   "outputs": [],
   "source": [
    "# Convert variables in list to categorical.\n",
    "for x in list(to_be_categorical):\n",
    "    cleopatra_iptw[x] = cleopatra_iptw[x].astype('category')"
   ]
  },
  {
   "cell_type": "code",
   "execution_count": 313,
   "id": "ebf3e46b",
   "metadata": {},
   "outputs": [],
   "source": [
    "# List of numeric variables, excluding binary variables. \n",
    "numerical_features = ['age', 'delta_met_diagnosis']\n",
    "\n",
    "# Transformer will first calculate column median and impute, and then apply a standard scaler. \n",
    "numerical_transformer = Pipeline(steps = [\n",
    "    ('imputer', SimpleImputer(strategy = 'median')),\n",
    "    ('std_scaler', StandardScaler())])"
   ]
  },
  {
   "cell_type": "code",
   "execution_count": 314,
   "id": "8fbd9dbc",
   "metadata": {},
   "outputs": [],
   "source": [
    "# List of categorical features.\n",
    "categorical_features = list(cleopatra_iptw.select_dtypes(include = ['category']).columns)\n",
    "\n",
    "# One-hot-encode categorical features.\n",
    "categorical_transformer = OneHotEncoder(handle_unknown = 'ignore')"
   ]
  },
  {
   "cell_type": "code",
   "execution_count": 315,
   "id": "b94deea0",
   "metadata": {},
   "outputs": [],
   "source": [
    "preprocessor = ColumnTransformer(\n",
    "    transformers = [\n",
    "        ('num', numerical_transformer, numerical_features),\n",
    "        ('cat', categorical_transformer, categorical_features)],\n",
    "    remainder = 'passthrough')"
   ]
  },
  {
   "cell_type": "code",
   "execution_count": 316,
   "id": "5c4ff4be",
   "metadata": {},
   "outputs": [],
   "source": [
    "cleopatra_iptw_low = (\n",
    "    cleopatra_iptw\n",
    "    .query('risk_score <= @low_cutoff_cleopatra')\n",
    "    .drop(columns = ['risk_score']))\n",
    "\n",
    "cleopatra_iptw_med = (\n",
    "    cleopatra_iptw\n",
    "    .query('risk_score < @high_cutoff_cleopatra and risk_score > @low_cutoff_cleopatra')\n",
    "    .drop(columns = ['risk_score']))\n",
    "\n",
    "cleopatra_iptw_high = (\n",
    "    cleopatra_iptw\n",
    "    .query('risk_score >= @high_cutoff_cleopatra')\n",
    "    .drop(columns = ['risk_score']))\n",
    "\n",
    "cleopatra_iptw_all = (\n",
    "    cleopatra_iptw\n",
    "    .drop(columns = ['risk_score']))"
   ]
  },
  {
   "cell_type": "code",
   "execution_count": 317,
   "id": "6e177b4a",
   "metadata": {},
   "outputs": [],
   "source": [
    "cleopatra_low_x = preprocessor.fit_transform(cleopatra_iptw_low.filter(items = ['age',\n",
    "                                                                                'gender',\n",
    "                                                                                'race_cat',\n",
    "                                                                                'p_type',\n",
    "                                                                                'delta_met_diagnosis',\n",
    "                                                                                'met_cat',\n",
    "                                                                                'ses_cat',\n",
    "                                                                                'ecog_2']))\n",
    "\n",
    "cleopatra_med_x = preprocessor.fit_transform(cleopatra_iptw_med.filter(items = ['age',\n",
    "                                                                                'gender',\n",
    "                                                                                'race_cat',\n",
    "                                                                                'p_type',\n",
    "                                                                                'delta_met_diagnosis',\n",
    "                                                                                'met_cat',\n",
    "                                                                                'ses_cat', \n",
    "                                                                                'ecog_2']))\n",
    "\n",
    "cleopatra_high_x = preprocessor.fit_transform(cleopatra_iptw_high.filter(items = ['age',\n",
    "                                                                                  'gender',\n",
    "                                                                                  'race_cat',\n",
    "                                                                                  'p_type',\n",
    "                                                                                  'delta_met_diagnosis',\n",
    "                                                                                  'met_cat',\n",
    "                                                                                  'ses_cat', \n",
    "                                                                                  'ecog_2']))\n",
    "\n",
    "cleopatra_all_x = preprocessor.fit_transform(cleopatra_iptw_all.filter(items = ['age',\n",
    "                                                                                'gender',\n",
    "                                                                                'race_cat',\n",
    "                                                                                'p_type',\n",
    "                                                                                'delta_met_diagnosis',\n",
    "                                                                                'met_cat',\n",
    "                                                                                'ses_cat',\n",
    "                                                                                'ecog_2']))"
   ]
  },
  {
   "cell_type": "code",
   "execution_count": 318,
   "id": "c73e728a",
   "metadata": {},
   "outputs": [
    {
     "data": {
      "text/plain": [
       "LogisticRegression(max_iter=1000)"
      ]
     },
     "execution_count": 318,
     "metadata": {},
     "output_type": "execute_result"
    }
   ],
   "source": [
    "lr_cleopatra_low = LogisticRegression(max_iter = 1000)\n",
    "lr_cleopatra_low.fit(cleopatra_low_x, cleopatra_iptw_low['tpdp'])"
   ]
  },
  {
   "cell_type": "code",
   "execution_count": 319,
   "id": "e66617e0",
   "metadata": {},
   "outputs": [
    {
     "data": {
      "text/plain": [
       "LogisticRegression(max_iter=1000)"
      ]
     },
     "execution_count": 319,
     "metadata": {},
     "output_type": "execute_result"
    }
   ],
   "source": [
    "lr_cleopatra_med = LogisticRegression(max_iter = 1000)\n",
    "lr_cleopatra_med.fit(cleopatra_med_x, cleopatra_iptw_med['tpdp'])"
   ]
  },
  {
   "cell_type": "code",
   "execution_count": 320,
   "id": "d90bfd17",
   "metadata": {},
   "outputs": [
    {
     "data": {
      "text/plain": [
       "LogisticRegression(max_iter=1000)"
      ]
     },
     "execution_count": 320,
     "metadata": {},
     "output_type": "execute_result"
    }
   ],
   "source": [
    "lr_cleopatra_high = LogisticRegression(max_iter = 1000)\n",
    "lr_cleopatra_high.fit(cleopatra_high_x, cleopatra_iptw_high['tpdp'])"
   ]
  },
  {
   "cell_type": "code",
   "execution_count": 321,
   "id": "a865a328",
   "metadata": {},
   "outputs": [
    {
     "data": {
      "text/plain": [
       "LogisticRegression(max_iter=1000)"
      ]
     },
     "execution_count": 321,
     "metadata": {},
     "output_type": "execute_result"
    }
   ],
   "source": [
    "lr_cleopatra_all = LogisticRegression(max_iter = 1000)\n",
    "lr_cleopatra_all.fit(cleopatra_all_x, cleopatra_iptw_all['tpdp'])"
   ]
  },
  {
   "cell_type": "code",
   "execution_count": 322,
   "id": "47875605",
   "metadata": {},
   "outputs": [],
   "source": [
    "pred_low = lr_cleopatra_low.predict_proba(cleopatra_low_x)\n",
    "pred_med = lr_cleopatra_med.predict_proba(cleopatra_med_x)\n",
    "pred_high = lr_cleopatra_high.predict_proba(cleopatra_high_x)\n",
    "pred_all = lr_cleopatra_all.predict_proba(cleopatra_all_x)"
   ]
  },
  {
   "cell_type": "code",
   "execution_count": 323,
   "id": "a8ea6622",
   "metadata": {},
   "outputs": [],
   "source": [
    "cleopatra_iptw_low['ps'] = pred_low[:, 1]\n",
    "cleopatra_iptw_med['ps'] = pred_med[:, 1]\n",
    "cleopatra_iptw_high['ps'] = pred_high[:, 1]\n",
    "cleopatra_iptw_all['ps'] = pred_all[:, 1]"
   ]
  },
  {
   "cell_type": "code",
   "execution_count": 324,
   "id": "b8be8f94",
   "metadata": {},
   "outputs": [],
   "source": [
    "cleopatra_iptw_low['weight'] = (\n",
    "    np.where(cleopatra_iptw_low['tpdp'] == 1, 1/cleopatra_iptw_low['ps'], 1/(1 - cleopatra_iptw_low['ps'])))\n",
    "\n",
    "cleopatra_iptw_med['weight'] = (\n",
    "    np.where(cleopatra_iptw_med['tpdp'] == 1, 1/cleopatra_iptw_med['ps'], 1/(1 - cleopatra_iptw_med['ps'])))\n",
    "\n",
    "cleopatra_iptw_high['weight'] = (\n",
    "    np.where(cleopatra_iptw_high['tpdp'] == 1, 1/cleopatra_iptw_high['ps'], 1/(1 - cleopatra_iptw_high['ps'])))\n",
    "\n",
    "cleopatra_iptw_all['weight'] = (\n",
    "    np.where(cleopatra_iptw_all['tpdp'] == 1, 1/cleopatra_iptw_all['ps'], 1/(1 - cleopatra_iptw_all['ps'])))"
   ]
  },
  {
   "cell_type": "code",
   "execution_count": 325,
   "id": "fe37e81b",
   "metadata": {},
   "outputs": [
    {
     "name": "stderr",
     "output_type": "stream",
     "text": [
      "/Users/xavierorcutt/Dropbox/ist_project/myenv/lib/python3.7/site-packages/lifelines/fitters/kaplan_meier_fitter.py:344: StatisticalWarning: It looks like your weights are not integers, possibly propensity scores then?\n",
      "  It's important to know that the naive variance estimates of the coefficients are biased. Instead use Monte Carlo to\n",
      "  estimate the variances. See paper \"Variance estimation when using inverse probability of treatment weighting (IPTW) with survival analysis\"\n",
      "  or \"Adjusted Kaplan-Meier estimator and log-rank test with inverse probability of treatment weighting for survival data.\"\n",
      "                  \n",
      "  StatisticalWarning,\n"
     ]
    },
    {
     "data": {
      "text/plain": [
       "<lifelines.KaplanMeierFitter:\"KM_estimate\", fitted with 1263.51 total observations, 427.177 right-censored observations>"
      ]
     },
     "execution_count": 325,
     "metadata": {},
     "output_type": "execute_result"
    }
   ],
   "source": [
    "# Low KM curves\n",
    "kmf_low_tpdp_cleopatra_iptw = KaplanMeierFitter()\n",
    "kmf_low_tdp_cleopatra_iptw = KaplanMeierFitter()\n",
    "\n",
    "kmf_low_tpdp_cleopatra_iptw.fit(\n",
    "    cleopatra_iptw_low.query('tpdp == 1')['timerisk_treatment']/30,\n",
    "    cleopatra_iptw_low.query('tpdp == 1')['death_status'],\n",
    "    weights = cleopatra_iptw_low.query('tpdp == 1')['weight'])\n",
    "\n",
    "kmf_low_tdp_cleopatra_iptw.fit(\n",
    "    cleopatra_iptw_low.query('tpdp == 0')['timerisk_treatment']/30,\n",
    "    cleopatra_iptw_low.query('tpdp == 0')['death_status'],\n",
    "    weights = cleopatra_iptw_low.query('tpdp == 0')['weight'])\n",
    "\n",
    "# Med KM curves\n",
    "kmf_med_tpdp_cleopatra_iptw = KaplanMeierFitter()\n",
    "kmf_med_tdp_cleopatra_iptw = KaplanMeierFitter()\n",
    "\n",
    "kmf_med_tpdp_cleopatra_iptw.fit(\n",
    "    cleopatra_iptw_med.query('tpdp == 1')['timerisk_treatment']/30,\n",
    "    cleopatra_iptw_med.query('tpdp == 1')['death_status'], \n",
    "    weights = cleopatra_iptw_med.query('tpdp == 1')['weight'])\n",
    "\n",
    "kmf_med_tdp_cleopatra_iptw.fit(\n",
    "    cleopatra_iptw_med.query('tpdp == 0')['timerisk_treatment']/30,\n",
    "    cleopatra_iptw_med.query('tpdp == 0')['death_status'], \n",
    "    weights = cleopatra_iptw_med.query('tpdp == 0')['weight'])\n",
    "\n",
    "# High KM curves \n",
    "kmf_high_tpdp_cleopatra_iptw = KaplanMeierFitter()\n",
    "kmf_high_tdp_cleopatra_iptw = KaplanMeierFitter()\n",
    "\n",
    "kmf_high_tpdp_cleopatra_iptw.fit(\n",
    "    cleopatra_iptw_high.query('tpdp == 1')['timerisk_treatment']/30,\n",
    "    cleopatra_iptw_high.query('tpdp == 1')['death_status'], \n",
    "    weights = cleopatra_iptw_high.query('tpdp == 1')['weight'])\n",
    "\n",
    "kmf_high_tdp_cleopatra_iptw.fit(\n",
    "    cleopatra_iptw_high.query('tpdp == 0')['timerisk_treatment']/30,\n",
    "    cleopatra_iptw_high.query('tpdp == 0')['death_status'], \n",
    "    weights = cleopatra_iptw_high.query('tpdp == 0')['weight'])\n",
    "\n",
    "# All KM curves \n",
    "kmf_all_tpdp_cleopatra_iptw = KaplanMeierFitter()\n",
    "kmf_all_tdp_cleopatra_iptw = KaplanMeierFitter()\n",
    "\n",
    "kmf_all_tpdp_cleopatra_iptw.fit(\n",
    "    cleopatra_iptw_all.query('tpdp == 1')['timerisk_treatment']/30,\n",
    "    cleopatra_iptw_all.query('tpdp == 1')['death_status'], \n",
    "    weights = cleopatra_iptw_all.query('tpdp == 1')['weight'])\n",
    "\n",
    "kmf_all_tdp_cleopatra_iptw.fit(\n",
    "    cleopatra_iptw_all.query('tpdp == 0')['timerisk_treatment']/30,\n",
    "    cleopatra_iptw_all.query('tpdp == 0')['death_status'], \n",
    "    weights = cleopatra_iptw_all.query('tpdp == 0')['weight'])"
   ]
  },
  {
   "cell_type": "code",
   "execution_count": 326,
   "id": "45bce158",
   "metadata": {},
   "outputs": [
    {
     "data": {
      "image/png": "[encoded data removed]",
      "text/plain": [
       "<Figure size 1800x600 with 9 Axes>"
      ]
     },
     "metadata": {},
     "output_type": "display_data"
    }
   ],
   "source": [
    "fig = plt.figure(figsize=(18, 6))\n",
    "\n",
    "# Plot survival curves for low risk group \n",
    "plt.subplot(1, 4, 1)\n",
    "\n",
    "plt.step(kmf_low_tpdp_cleopatra_iptw.timeline, kmf_low_tpdp_cleopatra_iptw.survival_function_.values*100, color = 'red', alpha = 0.5)\n",
    "\n",
    "plt.step(kmf_low_tdp_cleopatra_iptw.timeline, kmf_low_tdp_cleopatra_iptw.survival_function_.values*100, color = 'black', alpha = 0.5)\n",
    "\n",
    "plt.xticks(np.arange(0, 61, 6))\n",
    "plt.xlim(0, 61)\n",
    "plt.ylim(0, 100)\n",
    "\n",
    "plt.title('Low-risk', weight = 'bold')\n",
    "plt.ylabel('OS (%)', size = 12, weight = 'bold')\n",
    "\n",
    "plt.gca().spines['top'].set_visible(False)\n",
    "plt.gca().spines['right'].set_visible(False)\n",
    "\n",
    "add_at_risk_counts(kmf_low_tpdp_cleopatra_iptw, kmf_low_tdp_cleopatra_iptw, ypos = -0.8, xticks = np.arange(12, 61, 12), labels = ['Pertuzumab, trastuzumab, + docetaxe/paclitaxel', 'Trastuzumab, + docetaxe/paclitaxel'])\n",
    "\n",
    "# Plot survival curves for med risk group. \n",
    "plt.subplot(1, 4, 2)\n",
    "\n",
    "plt.step(kmf_med_tpdp_cleopatra_iptw.timeline, kmf_med_tpdp_cleopatra_iptw.survival_function_.values*100, color = 'red', alpha = 0.5)\n",
    "\n",
    "plt.step(kmf_med_tdp_cleopatra_iptw.timeline, kmf_med_tdp_cleopatra_iptw.survival_function_.values*100, color = 'black', alpha = 0.5)\n",
    "\n",
    "plt.xticks(np.arange(0, 61, 6))\n",
    "plt.xlim(0, 61)\n",
    "plt.ylim(0, 100)\n",
    "\n",
    "plt.title('Med-risk', weight = 'bold')\n",
    "\n",
    "plt.gca().spines['top'].set_visible(False)\n",
    "plt.gca().spines['right'].set_visible(False)\n",
    "\n",
    "add_at_risk_counts(kmf_med_tpdp_cleopatra_iptw, kmf_med_tdp_cleopatra_iptw, ypos = -0.8, xticks = np.arange(12, 61, 12), labels = [' ', ' '])\n",
    "\n",
    "# Plot survival curves by treatment for high risk group. \n",
    "plt.subplot(1, 4, 3)\n",
    "\n",
    "plt.step(kmf_high_tpdp_cleopatra_iptw.timeline, kmf_high_tpdp_cleopatra_iptw.survival_function_.values*100, color = 'red', alpha = 0.5)\n",
    "\n",
    "plt.step(kmf_high_tdp_cleopatra_iptw.timeline, kmf_high_tdp_cleopatra_iptw.survival_function_.values*100, color = 'black', alpha = 0.5)\n",
    "\n",
    "plt.xticks(np.arange(0, 61, 6))\n",
    "plt.xlim(0, 61)\n",
    "plt.ylim(0, 100)\n",
    "\n",
    "plt.title('High-risk', weight = 'bold')\n",
    "\n",
    "plt.gca().spines['top'].set_visible(False)\n",
    "plt.gca().spines['right'].set_visible(False)\n",
    "\n",
    "add_at_risk_counts(kmf_high_tpdp_cleopatra_iptw, kmf_high_tdp_cleopatra_iptw, ypos = -0.8, xticks = np.arange(12, 61, 12), labels = [' ', ' '])\n",
    "\n",
    "# Plot survival curves by treatment for all risk group. \n",
    "plt.subplot(1, 4, 4)\n",
    "\n",
    "plt.step(kmf_all_tpdp_cleopatra_iptw.timeline, kmf_all_tpdp_cleopatra_iptw.survival_function_.values*100, color = 'red', alpha = 0.5, label = 'Pertuzumab, trastuzumab, + docetaxe/paclitaxel')\n",
    "\n",
    "plt.step(kmf_all_tdp_cleopatra_iptw.timeline, kmf_all_tdp_cleopatra_iptw.survival_function_.values*100, color = 'black', alpha = 0.5, label = 'Trastuzumab + docetaxe/paclitaxel')\n",
    "\n",
    "plt.xticks(np.arange(0, 61, 6))\n",
    "plt.xlim(0, 61)\n",
    "plt.ylim(0, 100)\n",
    "\n",
    "plt.title('Full cohort', weight = 'bold')\n",
    "\n",
    "plt.gca().spines['top'].set_visible(False)\n",
    "plt.gca().spines['right'].set_visible(False)\n",
    "\n",
    "plt.legend(loc = 'upper right', prop = {'size': 9})\n",
    "\n",
    "add_at_risk_counts(kmf_all_tpdp_cleopatra_iptw, kmf_all_tdp_cleopatra_iptw, ypos = -0.8, xticks = np.arange(12, 61, 12), labels = [' ', ' '])\n",
    "\n",
    "fig.add_subplot(1, 1, 1, frameon = False)\n",
    "plt.tick_params(labelcolor = 'none', which = 'both', top = False, bottom = False, left = False, right = False)\n",
    "plt.xlabel('Months after treatment', labelpad = 15, size = 12, weight = 'bold')\n",
    "plt.title('CLEOPATRA: OS for pertuzumab, trastuzumab, and docetaxel/paclitaxel in HER2-positive metastatic breast cancer', pad = 40, size = 15, weight = 'bold')\n",
    "\n",
    "plt.show()"
   ]
  },
  {
   "cell_type": "markdown",
   "id": "2c54c5c5",
   "metadata": {},
   "source": [
    "#### Summary result plos"
   ]
  },
  {
   "cell_type": "code",
   "execution_count": 327,
   "id": "244bdcb4",
   "metadata": {},
   "outputs": [],
   "source": [
    "tpdp_cleopatra_24_os = psurv_t(kmf_low_tpdp_cleopatra_iptw,\n",
    "                               kmf_med_tpdp_cleopatra_iptw,\n",
    "                               kmf_high_tpdp_cleopatra_iptw,\n",
    "                               24)\n",
    "\n",
    "tdp_cleopatra_24_os = psurv_t(kmf_low_tdp_cleopatra_iptw,\n",
    "                              kmf_med_tdp_cleopatra_iptw,\n",
    "                              kmf_high_tdp_cleopatra_iptw,\n",
    "                              24)\n",
    "\n",
    "tpdp_cleopatra_36_os = psurv_t(kmf_low_tpdp_cleopatra_iptw,\n",
    "                               kmf_med_tpdp_cleopatra_iptw,\n",
    "                               kmf_high_tpdp_cleopatra_iptw,\n",
    "                               36)\n",
    "\n",
    "tdp_cleopatra_36_os = psurv_t(kmf_low_tdp_cleopatra_iptw,\n",
    "                              kmf_med_tdp_cleopatra_iptw,\n",
    "                              kmf_high_tdp_cleopatra_iptw,\n",
    "                              36)\n",
    "\n",
    "tpdp_cleopatra_median_os = mos(kmf_low_tpdp_cleopatra_iptw,\n",
    "                               kmf_med_tpdp_cleopatra_iptw,\n",
    "                               kmf_high_tpdp_cleopatra_iptw,\n",
    "                               kmf_all_tpdp_cleopatra_iptw)\n",
    "\n",
    "tdp_cleopatra_median_os = mos(kmf_low_tdp_cleopatra_iptw,\n",
    "                              kmf_med_tdp_cleopatra_iptw,\n",
    "                              kmf_high_tdp_cleopatra_iptw,\n",
    "                              kmf_all_tdp_cleopatra_iptw)"
   ]
  },
  {
   "cell_type": "code",
   "execution_count": 328,
   "id": "c9216913",
   "metadata": {
    "scrolled": true
   },
   "outputs": [
    {
     "name": "stdout",
     "output_type": "stream",
     "text": [
      "All, TPD/P:  48.966\n",
      "All, TD/P:  31.833\n",
      "Low, TPD/P:  90.6\n",
      "Low, TD/P:  51.9\n",
      "Med, TPD/P:  53.133\n",
      "Med, TD/P:  42.2\n",
      "High, TPD/P:  21.6\n",
      "High, TD/P:  17.466\n"
     ]
    }
   ],
   "source": [
    "print('All, TPD/P: ',truncate(tpdp_cleopatra_median_os[3], 3))\n",
    "print('All, TD/P: ',truncate(tdp_cleopatra_median_os[3], 3))\n",
    "\n",
    "print('Low, TPD/P: ',truncate(tpdp_cleopatra_median_os[0], 3))\n",
    "print('Low, TD/P: ',truncate(tdp_cleopatra_median_os[0], 3))\n",
    "\n",
    "print('Med, TPD/P: ',truncate(tpdp_cleopatra_median_os[1], 3))\n",
    "print('Med, TD/P: ',truncate(tdp_cleopatra_median_os[1], 3))\n",
    "\n",
    "print('High, TPD/P: ',truncate(tpdp_cleopatra_median_os[2], 3))\n",
    "print('High, TD/P: ',truncate(tdp_cleopatra_median_os[2], 3))"
   ]
  },
  {
   "cell_type": "code",
   "execution_count": 329,
   "id": "ea6e4005",
   "metadata": {},
   "outputs": [],
   "source": [
    "tpdp_cleopatra_low_24_ci = psurv_ci(kmf_low_tpdp_cleopatra_iptw, 24)\n",
    "tpdp_cleopatra_med_24_ci = psurv_ci(kmf_med_tpdp_cleopatra_iptw, 24)\n",
    "tpdp_cleopatra_high_24_ci = psurv_ci(kmf_high_tpdp_cleopatra_iptw, 24)\n",
    "\n",
    "y_error_tpdp_cleopatra_24 = y_error(tpdp_cleopatra_low_24_ci,\n",
    "                                    tpdp_cleopatra_med_24_ci,\n",
    "                                    tpdp_cleopatra_high_24_ci,\n",
    "                                    tpdp_cleopatra_24_os)"
   ]
  },
  {
   "cell_type": "code",
   "execution_count": 330,
   "id": "47c3cff4",
   "metadata": {},
   "outputs": [],
   "source": [
    "tdp_cleopatra_low_24_ci = psurv_ci(kmf_low_tdp_cleopatra_iptw, 24)\n",
    "tdp_cleopatra_med_24_ci = psurv_ci(kmf_med_tdp_cleopatra_iptw, 24)\n",
    "tdp_cleopatra_high_24_ci = psurv_ci(kmf_high_tdp_cleopatra_iptw, 24)\n",
    "\n",
    "y_error_tdp_cleopatra_24 = y_error(tdp_cleopatra_low_24_ci,\n",
    "                                   tdp_cleopatra_med_24_ci,\n",
    "                                   tdp_cleopatra_high_24_ci,\n",
    "                                   tdp_cleopatra_24_os)"
   ]
  },
  {
   "cell_type": "code",
   "execution_count": 331,
   "id": "7354258f",
   "metadata": {},
   "outputs": [],
   "source": [
    "tpdp_cleopatra_low_36_ci = psurv_ci(kmf_low_tpdp_cleopatra_iptw, 36)\n",
    "tpdp_cleopatra_med_36_ci = psurv_ci(kmf_med_tpdp_cleopatra_iptw, 36)\n",
    "tpdp_cleopatra_high_36_ci = psurv_ci(kmf_high_tpdp_cleopatra_iptw, 36)\n",
    "\n",
    "y_error_tpdp_cleopatra_36 = y_error(tpdp_cleopatra_low_36_ci,\n",
    "                                    tpdp_cleopatra_med_36_ci,\n",
    "                                    tpdp_cleopatra_high_36_ci,\n",
    "                                    tpdp_cleopatra_36_os)"
   ]
  },
  {
   "cell_type": "code",
   "execution_count": 332,
   "id": "62dcfece",
   "metadata": {},
   "outputs": [],
   "source": [
    "tdp_cleopatra_low_36_ci = psurv_ci(kmf_low_tdp_cleopatra_iptw, 36)\n",
    "tdp_cleopatra_med_36_ci = psurv_ci(kmf_med_tdp_cleopatra_iptw, 36)\n",
    "tdp_cleopatra_high_36_ci = psurv_ci(kmf_high_tdp_cleopatra_iptw, 36)\n",
    "\n",
    "y_error_tdp_cleopatra_36 = y_error(tdp_cleopatra_low_36_ci,\n",
    "                                   tdp_cleopatra_med_36_ci,\n",
    "                                   tdp_cleopatra_high_36_ci,\n",
    "                                   tdp_cleopatra_36_os)"
   ]
  },
  {
   "cell_type": "code",
   "execution_count": 333,
   "id": "763b0461",
   "metadata": {},
   "outputs": [],
   "source": [
    "tpdp_cleopatra_low_mos_ci = mos_ci(kmf_low_tpdp_cleopatra_iptw)\n",
    "tpdp_cleopatra_med_mos_ci = mos_ci(kmf_med_tpdp_cleopatra_iptw)\n",
    "tpdp_cleopatra_high_mos_ci = mos_ci(kmf_high_tpdp_cleopatra_iptw)\n",
    "\n",
    "y_error_tpdp_cleopatra_mos = y_error(tpdp_cleopatra_low_mos_ci,\n",
    "                                     tpdp_cleopatra_med_mos_ci,\n",
    "                                     tpdp_cleopatra_high_mos_ci,\n",
    "                                     tpdp_cleopatra_median_os)"
   ]
  },
  {
   "cell_type": "code",
   "execution_count": 334,
   "id": "74ae04bc",
   "metadata": {},
   "outputs": [],
   "source": [
    "tdp_cleopatra_low_mos_ci = mos_ci(kmf_low_tdp_cleopatra_iptw)\n",
    "tdp_cleopatra_med_mos_ci = mos_ci(kmf_med_tdp_cleopatra_iptw)\n",
    "tdp_cleopatra_high_mos_ci = mos_ci(kmf_high_tdp_cleopatra_iptw)\n",
    "\n",
    "y_error_tdp_cleopatra_mos = y_error(tdp_cleopatra_low_mos_ci,\n",
    "                                    tdp_cleopatra_med_mos_ci,\n",
    "                                    tdp_cleopatra_high_mos_ci,\n",
    "                                    tdp_cleopatra_median_os)"
   ]
  },
  {
   "cell_type": "code",
   "execution_count": 335,
   "id": "6e8d1171",
   "metadata": {
    "scrolled": true
   },
   "outputs": [
    {
     "data": {
      "image/png": "[encoded data removed]",
      "text/plain": [
       "<Figure size 1800x400 with 4 Axes>"
      ]
     },
     "metadata": {},
     "output_type": "display_data"
    }
   ],
   "source": [
    "ml_risk = ['Low', 'Med',  'High']\n",
    "\n",
    "fig = plt.figure(figsize=(18, 4))\n",
    "\n",
    "# 24 month OS plot\n",
    "plt.subplot(1, 3, 1)\n",
    "plt.errorbar(ml_risk, tpdp_cleopatra_24_os, yerr = y_error_tpdp_cleopatra_24, marker = 'o', color = 'black', capsize = 3)\n",
    "plt.axhline(y = 78, color = 'red', linestyle = 'solid')\n",
    "\n",
    "eb1 = plt.errorbar(ml_risk, tdp_cleopatra_24_os, yerr = y_error_tdp_cleopatra_24, marker = 'o', color = 'black', linestyle = '--', capsize = 3)\n",
    "eb1[-1][0].set_linestyle(':')\n",
    "plt.axhline(y = 65, color = 'red', linestyle = '--')\n",
    "\n",
    "plt.xticks(fontsize = 15)\n",
    "plt.yticks(np.arange(0, 110, 20))\n",
    "plt.ylim(0, 100)\n",
    "plt.ylabel('OS (%)', size = 15)\n",
    "\n",
    "plt.title('24-month OS %', size = 20)\n",
    "\n",
    "plt.gca().spines['top'].set_visible(False)\n",
    "plt.gca().spines['right'].set_visible(False)\n",
    "\n",
    "# 36 month OS plot\n",
    "plt.subplot(1, 3, 2)\n",
    "plt.errorbar(ml_risk, tpdp_cleopatra_36_os, yerr = y_error_tpdp_cleopatra_36, marker = 'o', color = 'black', capsize = 3)\n",
    "plt.axhline(y = 70, color = 'red', linestyle = 'solid')\n",
    "\n",
    "eb2 = plt.errorbar(ml_risk, tdp_cleopatra_36_os, yerr = y_error_tdp_cleopatra_36, marker = 'o', color = 'black', linestyle = '--', capsize = 3)\n",
    "eb2[-1][0].set_linestyle(':')\n",
    "plt.axhline(y = 55, color = 'red', linestyle = '--')\n",
    "\n",
    "plt.xticks(fontsize = 15)\n",
    "plt.yticks(np.arange(0, 110, 20))\n",
    "plt.ylim(0, 100)\n",
    "plt.ylabel('OS (%)', size = 15)\n",
    "\n",
    "plt.title('36-month OS %', size = 20)\n",
    "\n",
    "plt.gca().spines['top'].set_visible(False)\n",
    "plt.gca().spines['right'].set_visible(False)\n",
    "\n",
    "# Median OS plot\n",
    "plt.subplot(1, 3, 3)\n",
    "plt.errorbar(ml_risk, tpdp_cleopatra_median_os[0:3], yerr = y_error_tpdp_cleopatra_mos, marker = 'o', color = 'black', capsize = 3)\n",
    "\n",
    "plt.axhline(y = 56.5, color = 'red', linestyle = 'solid')\n",
    "x_positions = [-0.1, 2.1]\n",
    "for x in x_positions:\n",
    "    plt.errorbar(x, 56.5, yerr=[np.array([56.5-49.3]), np.array([56.5-56.5])], color = 'red', capsize = 3)\n",
    "\n",
    "eb3 = plt.errorbar(ml_risk, tdp_cleopatra_median_os[0:3], yerr = y_error_tdp_cleopatra_mos, marker = 'o', color = 'black', linestyle = '--', capsize = 3)\n",
    "eb3[-1][0].set_linestyle(':')\n",
    "\n",
    "plt.axhline(y = 40.8, color = 'red', linestyle = '--')\n",
    "for x, z in zip(x_positions, [4, 5]):\n",
    "    ebz = plt.errorbar(x, 40.8, yerr=[np.array([40.8-35.8]), np.array([48.3-40.8])], color = 'red', capsize = 3)\n",
    "    ebz[-1][0].set_linestyle(':')\n",
    "\n",
    "plt.xticks(fontsize = 15)\n",
    "plt.ylim(0, 105)\n",
    "plt.ylabel('OS (months)', size = 15)\n",
    "\n",
    "plt.title('Median OS', size = 20)\n",
    "\n",
    "plt.gca().spines['top'].set_visible(False)\n",
    "plt.gca().spines['right'].set_visible(False)\n",
    "\n",
    "fig.add_subplot(1, 1, 1, frameon = False)\n",
    "plt.tick_params(labelcolor = 'none', which = 'both', top = False, bottom = False, left = False, right = False)\n",
    "plt.xlabel('Machine-learning risk', labelpad = 20, size = 20)\n",
    "plt.title('CLEOPATRA: pertuzumab, trastuzumab, and docetaxel/paclitaxel in HER2-positive metastatic breast cancer', pad = 40, size = 20, weight = 'bold', loc = 'center')\n",
    "\n",
    "legend_elements = [Line2D([0], [0], color = 'red', linestyle = 'solid', label = 'CLEOPATRA: Pertuzumab, trastuzumab, docetaxel'),\n",
    "                   Line2D([0], [0], color = 'red', linestyle = '--', label = 'CLEOPATRA: Trastuzumab, docetaxel'),\n",
    "                   Line2D([0], [0], color = 'black', linestyle = 'solid', label = 'Flatiron: Pertuzumab, trastuzumab, docetaxel (n = {})'.format(cleopatra.query('tpdp == 1').shape[0])),\n",
    "                   Line2D([0], [0], color = 'black', linestyle = '--', label = 'Flatiron: Trastuzumab, docetaxel (n = {})'.format(cleopatra.query('tpdp == 0').shape[0]))]\n",
    "\n",
    "plt.legend(handles = legend_elements, fancybox = True, shadow = True, loc = 'lower left', prop = {'size': 9})\n",
    "\n",
    "#plt.savefig('cleopatra_summary_rc.png', bbox_inches = 'tight')\n",
    "\n",
    "plt.show()"
   ]
  }
 ],
 "metadata": {
  "kernelspec": {
   "display_name": "My Virtual Environment",
   "language": "python",
   "name": "myenv"
  },
  "language_info": {
   "codemirror_mode": {
    "name": "ipython",
    "version": 3
   },
   "file_extension": ".py",
   "mimetype": "text/x-python",
   "name": "python",
   "nbconvert_exporter": "python",
   "pygments_lexer": "ipython3",
   "version": "3.7.10"
  }
 },
 "nbformat": 4,
 "nbformat_minor": 5
}
