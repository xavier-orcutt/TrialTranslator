{
 "cells": [
  {
   "cell_type": "markdown",
   "id": "9a4c1254",
   "metadata": {},
   "source": [
    "# Flatiron Health mBC: Machine learning models with crude imputation \n",
    "\n",
    "**OBJECTIVE: Build 4 survival machine learning models using a crude imputation strategy. This imputation strategy assumes data is missing completely at random and will impute median for numerical variables and leave missing categorical entries as \"unknown\" (eg., possible ECOG values are 0, 1, 2, 3, 4, 5, and unknown).**\n",
    "\n",
    "**BACKGROUND: The models were built using scikit-survival which is a machine learning library for survival analysis.  All 4 of these machine learning models are intended for survival analysis and so take into account censored data.** \n",
    "\n",
    "**Time-dependent area under the receiver operator curve (AUC) at 2 years from metasttic diagnosis was selected as the primary performance metric. This metric determines how well a model can distinguish patients who die by time *t* from patients who die after this time.**\n",
    "\n",
    "**OUTLINE:**\n",
    "1. **Preprocessing**\n",
    "2. **Gradient boosted model** \n",
    "3. **Random survival forest** \n",
    "4. **Penalized Cox models**\n",
    "5. **Linear support vector machine** "
   ]
  },
  {
   "cell_type": "markdown",
   "id": "96942fad",
   "metadata": {},
   "source": [
    "## 1. Preprocessing "
   ]
  },
  {
   "cell_type": "code",
   "execution_count": 1,
   "id": "2ed49dc3",
   "metadata": {},
   "outputs": [],
   "source": [
    "import numpy as np\n",
    "import pandas as pd\n",
    "\n",
    "from sklearn.model_selection import StratifiedShuffleSplit\n",
    "from sklearn.pipeline import Pipeline\n",
    "from sklearn.impute import SimpleImputer\n",
    "from sklearn.preprocessing import StandardScaler, OneHotEncoder\n",
    "from sklearn.compose import ColumnTransformer "
   ]
  },
  {
   "cell_type": "markdown",
   "id": "c2ef3648",
   "metadata": {},
   "source": [
    "### 1.1 Importing full dataframes"
   ]
  },
  {
   "cell_type": "code",
   "execution_count": 2,
   "id": "3f7f008b",
   "metadata": {},
   "outputs": [
    {
     "name": "stdout",
     "output_type": "stream",
     "text": [
      "25341 True\n"
     ]
    }
   ],
   "source": [
    "# Import training set and set PatientID as index.\n",
    "train = pd.read_csv('train_full.csv', index_col = 'PatientID')\n",
    "print(len(train), train.index.is_unique)"
   ]
  },
  {
   "cell_type": "code",
   "execution_count": 3,
   "id": "a6bdff04",
   "metadata": {},
   "outputs": [
    {
     "name": "stdout",
     "output_type": "stream",
     "text": [
      "6336 True\n"
     ]
    }
   ],
   "source": [
    "# Import test set and set PatientID as index.\n",
    "test = pd.read_csv('test_full.csv', index_col = 'PatientID')\n",
    "print(len(test), test.index.is_unique)"
   ]
  },
  {
   "cell_type": "markdown",
   "id": "eeede61c",
   "metadata": {},
   "source": [
    "### 1.2 Converting datatypes "
   ]
  },
  {
   "cell_type": "code",
   "execution_count": 4,
   "id": "89d3a565",
   "metadata": {},
   "outputs": [
    {
     "data": {
      "text/plain": [
       "['gender',\n",
       " 'race',\n",
       " 'ethnicity',\n",
       " 'p_type',\n",
       " 'region',\n",
       " 'stage',\n",
       " 'ER',\n",
       " 'HER2',\n",
       " 'PR',\n",
       " 'BRCA',\n",
       " 'PIK3CA',\n",
       " 'pdl1_n',\n",
       " 'ecog_diagnosis']"
      ]
     },
     "execution_count": 4,
     "metadata": {},
     "output_type": "execute_result"
    }
   ],
   "source": [
    "list(train.select_dtypes(include = ['object']).columns)"
   ]
  },
  {
   "cell_type": "code",
   "execution_count": 5,
   "id": "49efb1bc",
   "metadata": {},
   "outputs": [],
   "source": [
    "to_be_categorical = list(train.select_dtypes(include = ['object']).columns)"
   ]
  },
  {
   "cell_type": "code",
   "execution_count": 6,
   "id": "c0d4c959",
   "metadata": {},
   "outputs": [],
   "source": [
    "to_be_categorical.append('met_year')"
   ]
  },
  {
   "cell_type": "code",
   "execution_count": 7,
   "id": "5ca8e634",
   "metadata": {},
   "outputs": [],
   "source": [
    "to_be_categorical.append('ses')"
   ]
  },
  {
   "cell_type": "code",
   "execution_count": 8,
   "id": "20843fda",
   "metadata": {},
   "outputs": [],
   "source": [
    "# Convert variables in list to categorical.\n",
    "for x in list(to_be_categorical):\n",
    "    train[x] = train[x].astype('category')"
   ]
  },
  {
   "cell_type": "code",
   "execution_count": 9,
   "id": "7b977446",
   "metadata": {},
   "outputs": [
    {
     "data": {
      "text/plain": [
       "['gender',\n",
       " 'race',\n",
       " 'ethnicity',\n",
       " 'p_type',\n",
       " 'region',\n",
       " 'stage',\n",
       " 'met_year',\n",
       " 'ER',\n",
       " 'HER2',\n",
       " 'PR',\n",
       " 'BRCA',\n",
       " 'PIK3CA',\n",
       " 'pdl1_n',\n",
       " 'ecog_diagnosis',\n",
       " 'ses']"
      ]
     },
     "execution_count": 9,
     "metadata": {},
     "output_type": "execute_result"
    }
   ],
   "source": [
    "list(train.select_dtypes(include = ['category']).columns)"
   ]
  },
  {
   "cell_type": "code",
   "execution_count": 10,
   "id": "923e03dc",
   "metadata": {},
   "outputs": [],
   "source": [
    "# Convert variables in list to categorical.\n",
    "for x in list(to_be_categorical):\n",
    "    test[x] = test[x].astype('category')"
   ]
  },
  {
   "cell_type": "code",
   "execution_count": 11,
   "id": "737f24a1",
   "metadata": {},
   "outputs": [],
   "source": [
    "# Convert death_status into True or False (required for scikit-survival). \n",
    "train['death_status'] = train['death_status'].astype('bool')"
   ]
  },
  {
   "cell_type": "code",
   "execution_count": 12,
   "id": "07a0db5c",
   "metadata": {},
   "outputs": [],
   "source": [
    "# Convert death_status into True or False (required for scikit-survival).\n",
    "test['death_status'] = test['death_status'].astype('bool')"
   ]
  },
  {
   "cell_type": "markdown",
   "id": "ee5d1916",
   "metadata": {},
   "source": [
    "### 1.3 Defining validation set\n",
    "\n",
    "**A validation dataset will be constructed from the training set. This validation set will comprise of 25% of the training set. It will be used to assist in early stopping for the gradient boosted survival model and the random survival model. Like in the training-test split, a stratified approach will be carried out to preserve the distribution of diagnosis years.**   "
   ]
  },
  {
   "cell_type": "code",
   "execution_count": 13,
   "id": "02aa76c5",
   "metadata": {},
   "outputs": [],
   "source": [
    "train['met_year_cat'] = pd.cut(train['met_year'],\n",
    "                               bins = [2010, 2012, 2014, 2016, 2018, 2020, 2022],\n",
    "                               labels = ['11-12', '13-14', '15-16', '17-18', '19-20', '21-22'])"
   ]
  },
  {
   "cell_type": "code",
   "execution_count": 14,
   "id": "c34c3ea9",
   "metadata": {},
   "outputs": [],
   "source": [
    "sss = StratifiedShuffleSplit(n_splits = 1, test_size = 0.25, random_state = 42)\n",
    "\n",
    "for sub_train_index, val_index in sss.split(train, train['met_year_cat']):\n",
    "    sub_train = train.iloc[sub_train_index]\n",
    "    val = train.iloc[val_index]"
   ]
  },
  {
   "cell_type": "code",
   "execution_count": 15,
   "id": "001965ea",
   "metadata": {},
   "outputs": [],
   "source": [
    "train = train.drop(columns = ['met_year_cat'])"
   ]
  },
  {
   "cell_type": "code",
   "execution_count": 16,
   "id": "7284aed9",
   "metadata": {},
   "outputs": [],
   "source": [
    "sub_train = sub_train.drop(columns = ['met_year_cat'])"
   ]
  },
  {
   "cell_type": "code",
   "execution_count": 17,
   "id": "92365ebe",
   "metadata": {},
   "outputs": [],
   "source": [
    "val = val.drop(columns = ['met_year_cat'])"
   ]
  },
  {
   "cell_type": "code",
   "execution_count": 18,
   "id": "2f088730",
   "metadata": {},
   "outputs": [],
   "source": [
    "pd.DataFrame(val.index, columns = ['PatientID']).to_csv('val_IDs.csv', index = False, header = True)"
   ]
  },
  {
   "cell_type": "code",
   "execution_count": 19,
   "id": "d386c370",
   "metadata": {},
   "outputs": [],
   "source": [
    "val_IDs = pd.read_csv('val_IDs.csv')"
   ]
  },
  {
   "cell_type": "markdown",
   "id": "991c4588",
   "metadata": {},
   "source": [
    "### 1.4 Separate into X and Y"
   ]
  },
  {
   "cell_type": "code",
   "execution_count": 20,
   "id": "374e94ed",
   "metadata": {},
   "outputs": [],
   "source": [
    "# 'X' datasets\n",
    "train_x = train.drop(columns = ['death_status', 'timerisk_activity']) #80% of data \n",
    "\n",
    "test_x = test.drop(columns = ['death_status', 'timerisk_activity']) #20% of data \n",
    "\n",
    "sub_train_x = sub_train.drop(columns = ['death_status', 'timerisk_activity']) #60% of data\n",
    "\n",
    "val_x = val.drop(columns = ['death_status', 'timerisk_activity']) #20% of data "
   ]
  },
  {
   "cell_type": "code",
   "execution_count": 21,
   "id": "53405cc6",
   "metadata": {},
   "outputs": [],
   "source": [
    "# 'Y' datasets\n",
    "# Death status and time until event needs to be stored as a structured array to be compatible with scikit-survival\n",
    "y_dtypes = train[['death_status', 'timerisk_activity']].dtypes\n",
    "\n",
    "train_y = np.array([tuple(x) for x in train[['death_status', 'timerisk_activity']].values], \n",
    "                   dtype = list(zip(y_dtypes.index, y_dtypes)))\n",
    "\n",
    "test_y = np.array([tuple(x) for x in test[['death_status', 'timerisk_activity']].values], \n",
    "                  dtype = list(zip(y_dtypes.index, y_dtypes)))\n",
    "\n",
    "sub_train_y = np.array([tuple(x) for x in sub_train[['death_status', 'timerisk_activity']].values],\n",
    "                       dtype = list(zip(y_dtypes.index, y_dtypes)))\n",
    "\n",
    "val_y = np.array([tuple(x) for x in val[['death_status', 'timerisk_activity']].values],\n",
    "                 dtype = list(zip(y_dtypes.index, y_dtypes)))"
   ]
  },
  {
   "cell_type": "markdown",
   "id": "dbfeac11",
   "metadata": {},
   "source": [
    "### 1.5 Build pipeline"
   ]
  },
  {
   "cell_type": "code",
   "execution_count": 22,
   "id": "fcae47e8",
   "metadata": {},
   "outputs": [
    {
     "data": {
      "text/plain": [
       "['age',\n",
       " 'delta_met_diagnosis',\n",
       " 'steroid_diag',\n",
       " 'opioid_PO_diag',\n",
       " 'nonopioid_PO_diag',\n",
       " 'pain_IV_diag',\n",
       " 'ac_diag',\n",
       " 'antiinfective_IV_diag',\n",
       " 'antiinfective_diag',\n",
       " 'antihyperglycemic_diag',\n",
       " 'ppi_diag',\n",
       " 'antidepressant_diag',\n",
       " 'bta_diag',\n",
       " 'thyroid_diag',\n",
       " 'is_diag',\n",
       " 'medicare',\n",
       " 'medicaid',\n",
       " 'medicare_medicaid',\n",
       " 'commercial',\n",
       " 'patient_assistance',\n",
       " 'other_govt',\n",
       " 'self_pay',\n",
       " 'other',\n",
       " 'weight_diag',\n",
       " 'bmi_diag',\n",
       " 'bmi_diag_na',\n",
       " 'weight_pct_change',\n",
       " 'weight_pct_na',\n",
       " 'weight_slope',\n",
       " 'albumin_diag',\n",
       " 'alp_diag',\n",
       " 'alt_diag',\n",
       " 'ast_diag',\n",
       " 'bicarb_diag',\n",
       " 'bun_diag',\n",
       " 'calcium_diag',\n",
       " 'chloride_diag',\n",
       " 'creatinine_diag',\n",
       " 'hemoglobin_diag',\n",
       " 'neutrophil_count_diag',\n",
       " 'platelet_diag',\n",
       " 'potassium_diag',\n",
       " 'sodium_diag',\n",
       " 'total_bilirubin_diag',\n",
       " 'wbc_diag',\n",
       " 'albumin_diag_na',\n",
       " 'alp_diag_na',\n",
       " 'alt_diag_na',\n",
       " 'ast_diag_na',\n",
       " 'bicarb_diag_na',\n",
       " 'bun_diag_na',\n",
       " 'calcium_diag_na',\n",
       " 'chloride_diag_na',\n",
       " 'creatinine_diag_na',\n",
       " 'hemoglobin_diag_na',\n",
       " 'neutrophil_count_diag_na',\n",
       " 'platelet_diag_na',\n",
       " 'potassium_diag_na',\n",
       " 'sodium_diag_na',\n",
       " 'total_bilirubin_diag_na',\n",
       " 'wbc_diag_na',\n",
       " 'albumin_avg',\n",
       " 'alp_avg',\n",
       " 'alt_avg',\n",
       " 'ast_avg',\n",
       " 'bicarb_avg',\n",
       " 'bun_avg',\n",
       " 'calcium_avg',\n",
       " 'chloride_avg',\n",
       " 'creatinine_avg',\n",
       " 'hemoglobin_avg',\n",
       " 'neutrophil_count_avg',\n",
       " 'platelet_avg',\n",
       " 'potassium_avg',\n",
       " 'sodium_avg',\n",
       " 'total_bilirubin_avg',\n",
       " 'wbc_avg',\n",
       " 'albumin_max',\n",
       " 'alp_max',\n",
       " 'alt_max',\n",
       " 'ast_max',\n",
       " 'bicarb_max',\n",
       " 'bun_max',\n",
       " 'calcium_max',\n",
       " 'chloride_max',\n",
       " 'creatinine_max',\n",
       " 'hemoglobin_max',\n",
       " 'neutrophil_count_max',\n",
       " 'platelet_max',\n",
       " 'potassium_max',\n",
       " 'sodium_max',\n",
       " 'total_bilirubin_max',\n",
       " 'wbc_max',\n",
       " 'albumin_min',\n",
       " 'alp_min',\n",
       " 'alt_min',\n",
       " 'ast_min',\n",
       " 'bicarb_min',\n",
       " 'bun_min',\n",
       " 'calcium_min',\n",
       " 'chloride_min',\n",
       " 'creatinine_min',\n",
       " 'hemoglobin_min',\n",
       " 'neutrophil_count_min',\n",
       " 'platelet_min',\n",
       " 'potassium_min',\n",
       " 'sodium_min',\n",
       " 'total_bilirubin_min',\n",
       " 'wbc_min',\n",
       " 'albumin_std',\n",
       " 'alp_std',\n",
       " 'alt_std',\n",
       " 'ast_std',\n",
       " 'bicarb_std',\n",
       " 'bun_std',\n",
       " 'calcium_std',\n",
       " 'chloride_std',\n",
       " 'creatinine_std',\n",
       " 'hemoglobin_std',\n",
       " 'neutrophil_count_std',\n",
       " 'platelet_std',\n",
       " 'potassium_std',\n",
       " 'sodium_std',\n",
       " 'total_bilirubin_std',\n",
       " 'wbc_std',\n",
       " 'albumin_slope',\n",
       " 'alp_slope',\n",
       " 'alt_slope',\n",
       " 'ast_slope',\n",
       " 'bicarb_slope',\n",
       " 'bun_slope',\n",
       " 'calcium_slope',\n",
       " 'chloride_slope',\n",
       " 'creatinine_slope',\n",
       " 'hemoglobin_slope',\n",
       " 'neutrophil_count_slope',\n",
       " 'platelet_slope',\n",
       " 'potassium_slope',\n",
       " 'sodium_slope',\n",
       " 'total_bilirubin_slope',\n",
       " 'wbc_slope',\n",
       " 'albumin_slope_na',\n",
       " 'alp_slope_na',\n",
       " 'alt_slope_na',\n",
       " 'ast_slope_na',\n",
       " 'bicarb_slope_na',\n",
       " 'bun_slope_na',\n",
       " 'calcium_slope_na',\n",
       " 'chloride_slope_na',\n",
       " 'creatinine_slope_na',\n",
       " 'hemoglobin_slope_na',\n",
       " 'neutrophil_count_slope_na',\n",
       " 'platelet_slope_na',\n",
       " 'potassium_slope_na',\n",
       " 'sodium_slope_na',\n",
       " 'total_bilirubin_slope_na',\n",
       " 'wbc_slope_na',\n",
       " 'chf',\n",
       " 'cardiac_arrhythmias',\n",
       " 'valvular_disease',\n",
       " 'pulmonary_circulation',\n",
       " 'peripheral_vascular',\n",
       " 'htn_uncomplicated',\n",
       " 'htn_complicated',\n",
       " 'paralysis',\n",
       " 'other_neuro_disorders',\n",
       " 'chronic_pulmonary',\n",
       " 'diabetes_uncomplicated',\n",
       " 'diabetes_complicated',\n",
       " 'hypothyroidism',\n",
       " 'renal_failure',\n",
       " 'liver_disease',\n",
       " 'peptic_ulcer_disease',\n",
       " 'aids_hiv',\n",
       " 'lymphoma',\n",
       " 'metastatic_cancer',\n",
       " 'solid_tumor_wout_mets',\n",
       " 'rheumatoid_arthritis',\n",
       " 'coagulopathy',\n",
       " 'obesity',\n",
       " 'weight_loss',\n",
       " 'fluid_electrolyte',\n",
       " 'blood_loss_anemia',\n",
       " 'deficiency_anemia',\n",
       " 'alcohol_abuse',\n",
       " 'drug_abuse',\n",
       " 'psychoses',\n",
       " 'depression',\n",
       " 'elixhauser_other',\n",
       " 'icd_count',\n",
       " 'other_cancer',\n",
       " 'bone_met',\n",
       " 'thorax_met',\n",
       " 'lymph_met',\n",
       " 'liver_met',\n",
       " 'cns_met',\n",
       " 'skin_met',\n",
       " 'peritoneum_met',\n",
       " 'other_met']"
      ]
     },
     "execution_count": 22,
     "metadata": {},
     "output_type": "execute_result"
    }
   ],
   "source": [
    "list(train_x.select_dtypes(exclude = ['category']).columns)"
   ]
  },
  {
   "cell_type": "code",
   "execution_count": 23,
   "id": "880c79bd",
   "metadata": {},
   "outputs": [],
   "source": [
    "# List of numeric variables, excluding binary variables. \n",
    "numerical_features = [\n",
    "    'age',\n",
    "    'delta_met_diagnosis',\n",
    "    'weight_diag',\n",
    "    'bmi_diag',\n",
    "    'weight_pct_change',\n",
    "    'weight_slope',\n",
    "    'albumin_diag',\n",
    "    'alp_diag',\n",
    "    'alt_diag',\n",
    "    'ast_diag',\n",
    "    'bicarb_diag',\n",
    "    'bun_diag',\n",
    "    'calcium_diag',\n",
    "    'chloride_diag',\n",
    "    'creatinine_diag',\n",
    "    'hemoglobin_diag',\n",
    "    'neutrophil_count_diag',\n",
    "    'platelet_diag',\n",
    "    'potassium_diag',\n",
    "    'sodium_diag',\n",
    "    'total_bilirubin_diag',\n",
    "    'wbc_diag', \n",
    "    'albumin_avg',\n",
    "    'alp_avg',\n",
    "    'alt_avg',\n",
    "    'ast_avg',\n",
    "    'bicarb_avg',\n",
    "    'bun_avg',\n",
    "    'calcium_avg',\n",
    "    'chloride_avg',\n",
    "    'creatinine_avg',\n",
    "    'hemoglobin_avg',\n",
    "    'neutrophil_count_avg',\n",
    "    'platelet_avg',\n",
    "    'potassium_avg',\n",
    "    'sodium_avg',\n",
    "    'total_bilirubin_avg',\n",
    "    'wbc_avg',\n",
    "    'albumin_max',\n",
    "    'alp_max',\n",
    "    'alt_max',\n",
    "    'ast_max',\n",
    "    'bicarb_max',\n",
    "    'bun_max',\n",
    "    'calcium_max',\n",
    "    'chloride_max',\n",
    "    'creatinine_max',\n",
    "    'hemoglobin_max',\n",
    "    'neutrophil_count_max',\n",
    "    'platelet_max',\n",
    "    'potassium_max',\n",
    "    'sodium_max',\n",
    "    'total_bilirubin_max',\n",
    "    'wbc_max',\n",
    "    'albumin_min',\n",
    "    'alp_min',\n",
    "    'alt_min',\n",
    "    'ast_min',\n",
    "    'bicarb_min',\n",
    "    'bun_min',\n",
    "    'calcium_min',\n",
    "    'chloride_min',\n",
    "    'creatinine_min',\n",
    "    'hemoglobin_min',\n",
    "    'neutrophil_count_min',\n",
    "    'platelet_min',\n",
    "    'potassium_min',\n",
    "    'sodium_min',\n",
    "    'total_bilirubin_min',\n",
    "    'wbc_min',\n",
    "    'albumin_std',\n",
    "    'alp_std',\n",
    "    'alt_std',\n",
    "    'ast_std',\n",
    "    'bicarb_std',\n",
    "    'bun_std',\n",
    "    'calcium_std',\n",
    "    'chloride_std',\n",
    "    'creatinine_std',\n",
    "    'hemoglobin_std',\n",
    "    'neutrophil_count_std',\n",
    "    'platelet_std',\n",
    "    'potassium_std',\n",
    "    'sodium_std',\n",
    "    'total_bilirubin_std',\n",
    "    'wbc_std',\n",
    "    'albumin_slope',\n",
    "    'alp_slope',\n",
    "    'alt_slope',\n",
    "    'ast_slope',\n",
    "    'bicarb_slope',\n",
    "    'bun_slope',\n",
    "    'calcium_slope',\n",
    "    'chloride_slope',\n",
    "    'creatinine_slope',\n",
    "    'hemoglobin_slope',\n",
    "    'neutrophil_count_slope',\n",
    "    'platelet_slope',\n",
    "    'potassium_slope',\n",
    "    'sodium_slope',\n",
    "    'total_bilirubin_slope',\n",
    "    'wbc_slope',\n",
    "    'icd_count']\n",
    "\n",
    "# Transformer will first calculate column median and impute, and then apply a standard scaler. \n",
    "numerical_transformer = Pipeline(steps = [\n",
    "    ('imputer', SimpleImputer(strategy = 'median')),\n",
    "    ('std_scaler', StandardScaler())])"
   ]
  },
  {
   "cell_type": "code",
   "execution_count": 24,
   "id": "e448b3e4",
   "metadata": {},
   "outputs": [
    {
     "data": {
      "text/plain": [
       "['gender',\n",
       " 'race',\n",
       " 'ethnicity',\n",
       " 'p_type',\n",
       " 'region',\n",
       " 'stage',\n",
       " 'met_year',\n",
       " 'ER',\n",
       " 'HER2',\n",
       " 'PR',\n",
       " 'BRCA',\n",
       " 'PIK3CA',\n",
       " 'pdl1_n',\n",
       " 'ecog_diagnosis',\n",
       " 'ses']"
      ]
     },
     "execution_count": 24,
     "metadata": {},
     "output_type": "execute_result"
    }
   ],
   "source": [
    "list(train_x.select_dtypes(include = ['category']).columns)"
   ]
  },
  {
   "cell_type": "code",
   "execution_count": 25,
   "id": "e88bb35a",
   "metadata": {},
   "outputs": [],
   "source": [
    "# List of categorical features.\n",
    "categorical_features = list(train_x.select_dtypes(include = ['category']).columns)\n",
    "\n",
    "# One-hot-encode categorical features.\n",
    "categorical_transformer = OneHotEncoder(handle_unknown = 'ignore')"
   ]
  },
  {
   "cell_type": "code",
   "execution_count": 26,
   "id": "65fd3806",
   "metadata": {},
   "outputs": [
    {
     "data": {
      "text/plain": [
       "96"
      ]
     },
     "execution_count": 26,
     "metadata": {},
     "output_type": "execute_result"
    }
   ],
   "source": [
    "# Remaining unprocessed columns which are binary variables\n",
    "len(train_x.columns) - (len(numerical_features) + len(categorical_features))"
   ]
  },
  {
   "cell_type": "code",
   "execution_count": 27,
   "id": "d63127b3",
   "metadata": {},
   "outputs": [],
   "source": [
    "all_columns = list(train_x.columns)"
   ]
  },
  {
   "cell_type": "code",
   "execution_count": 28,
   "id": "e70fd6c7",
   "metadata": {},
   "outputs": [
    {
     "data": {
      "text/plain": [
       "96"
      ]
     },
     "execution_count": 28,
     "metadata": {},
     "output_type": "execute_result"
    }
   ],
   "source": [
    "# Prints number of columns after removing columns that are numerical or categorical. \n",
    "for i in list(numerical_features + categorical_features):\n",
    "    all_columns.remove(i)\n",
    "len(all_columns)"
   ]
  },
  {
   "cell_type": "code",
   "execution_count": 29,
   "id": "228ce806",
   "metadata": {},
   "outputs": [],
   "source": [
    "preprocessor = ColumnTransformer(\n",
    "    transformers = [\n",
    "        ('num', numerical_transformer, numerical_features),\n",
    "        ('cat', categorical_transformer, categorical_features)],\n",
    "    remainder = 'passthrough')"
   ]
  },
  {
   "cell_type": "markdown",
   "id": "fb16d829",
   "metadata": {},
   "source": [
    "## 2. Gradient boosted survival model"
   ]
  },
  {
   "cell_type": "code",
   "execution_count": 30,
   "id": "151576b7",
   "metadata": {},
   "outputs": [],
   "source": [
    "from sklearn.experimental import enable_halving_search_cv\n",
    "from sklearn.model_selection import StratifiedKFold, HalvingGridSearchCV\n",
    "from sklearn.pipeline import make_pipeline\n",
    "\n",
    "from sksurv.ensemble import GradientBoostingSurvivalAnalysis\n",
    "from sksurv.metrics import cumulative_dynamic_auc, as_cumulative_dynamic_auc_scorer\n",
    "\n",
    "from joblib import dump, load \n",
    "\n",
    "import matplotlib.pyplot as plt\n",
    "\n",
    "import warnings "
   ]
  },
  {
   "cell_type": "markdown",
   "id": "b84fe09a",
   "metadata": {},
   "source": [
    "**The gradient boosted survival model will be configured by setting a low learning rate (eg., <= 0.1) and choosing the number of trees by monitoring the 1 year AUC on the valdiation dataset and stopping once performance on the validation dataset begins to degrade. The learning rate will be tuned to achieve a target tree size >500. Once learning rate and tree number are set, a halving grid search with 3-fold cross validation will be performed to identify ideal max depth and subsample percentage.**  "
   ]
  },
  {
   "cell_type": "markdown",
   "id": "aab57026",
   "metadata": {},
   "source": [
    "### 2.1 Determining number of trees for full model "
   ]
  },
  {
   "cell_type": "markdown",
   "id": "9e312db0",
   "metadata": {},
   "source": [
    "**The full model includes all variables, notably 96 summary labs values which have significant missingness (>40%).**"
   ]
  },
  {
   "cell_type": "code",
   "execution_count": 31,
   "id": "e0f66ebe",
   "metadata": {},
   "outputs": [
    {
     "name": "stdout",
     "output_type": "stream",
     "text": [
      "      Iter       Train Loss      OOB Improve   Remaining Time \n",
      "         1       71340.2000          13.2750          147.97m\n",
      "         2       71620.0992          12.2278          149.90m\n",
      "         3       71401.4880          11.8653          146.48m\n",
      "         4       71568.6098          12.4254          147.25m\n",
      "         5       72094.2357          10.8584          146.53m\n",
      "         6       71545.2219          10.5679          145.28m\n",
      "         7       71643.9361          10.3981          144.56m\n",
      "         8       71104.5878           9.8123          143.30m\n",
      "         9       71565.2848           9.3862          144.13m\n",
      "        10       70947.6604           9.3162          144.79m\n",
      "        20       71507.7809           6.8999          139.63m\n",
      "        30       70220.1291           5.2495          144.07m\n",
      "        40       70448.0568           3.9264          146.46m\n",
      "        50       70450.9198           4.4015          147.09m\n",
      "        60       70324.6009           3.5187          146.98m\n",
      "        70       70330.8025           2.4219          144.97m\n",
      "        80       69800.0062           3.5856          143.30m\n",
      "        90       70283.6272           1.8595          142.43m\n",
      "       100       70342.0953           1.3396          141.07m\n",
      "       200       69375.1185           0.5132          134.49m\n",
      "       300       69100.5309           0.6343          116.78m\n",
      "       400       68841.8729          -0.0610          103.77m\n",
      "       500       68380.3730           0.1327           92.59m\n",
      "       600       67849.9669          -0.2158           82.27m\n",
      "       700       68964.8624          -0.1791           72.47m\n",
      "       800       68073.9159          -0.2195           62.93m\n",
      "       900       67802.9724          -0.0644           53.61m\n",
      "      1000       68060.2534          -0.0059           44.46m\n"
     ]
    },
    {
     "data": {
      "text/plain": [
       "GradientBoostingSurvivalAnalysis(learning_rate=0.05, n_estimators=1500,\n",
       "                                 random_state=42, subsample=0.75, verbose=1)"
      ]
     },
     "execution_count": 31,
     "metadata": {},
     "output_type": "execute_result"
    }
   ],
   "source": [
    "sub_train_xt = preprocessor.fit_transform(sub_train_x)\n",
    "val_xt = preprocessor.transform(val_x)\n",
    "\n",
    "gbm_exp = GradientBoostingSurvivalAnalysis(n_estimators = 1500,\n",
    "                                           learning_rate = 0.05,\n",
    "                                           max_depth = 3,\n",
    "                                           subsample = 0.75,\n",
    "                                           verbose = 1,\n",
    "                                           random_state = 42)\n",
    "\n",
    "gbm_exp.fit(sub_train_xt, sub_train_y)"
   ]
  },
  {
   "cell_type": "code",
   "execution_count": 32,
   "id": "0aaddcac",
   "metadata": {},
   "outputs": [],
   "source": [
    "gbm_staged_auc = [cumulative_dynamic_auc(sub_train_y, val_y, risk_score, 730)[0][0] \n",
    "                  for risk_score in gbm_exp.staged_predict(val_xt)]"
   ]
  },
  {
   "cell_type": "code",
   "execution_count": 33,
   "id": "7099d3c6",
   "metadata": {},
   "outputs": [],
   "source": [
    "gbm_staged_auc_tr = [cumulative_dynamic_auc(sub_train_y, sub_train_y, risk_score, 730)[0][0] \n",
    "                     for risk_score in gbm_exp.staged_predict(sub_train_xt)]"
   ]
  },
  {
   "cell_type": "code",
   "execution_count": 34,
   "id": "02109136",
   "metadata": {},
   "outputs": [
    {
     "data": {
      "image/png": "[encoded data removed]",
      "text/plain": [
       "<Figure size 432x288 with 1 Axes>"
      ]
     },
     "metadata": {
      "needs_background": "light"
     },
     "output_type": "display_data"
    }
   ],
   "source": [
    "fig = plt.figure()\n",
    "ax = fig.add_subplot(1, 1, 1)\n",
    "\n",
    "x = range(len(gbm_staged_auc))\n",
    "plt.plot(x, gbm_staged_auc, color = 'blue', label = 'validation')\n",
    "plt.plot(x, gbm_staged_auc_tr, color = 'red', label = 'training')\n",
    "plt.legend(loc = 'lower right')\n",
    "\n",
    "plt.xlabel(\"n_estimators\")\n",
    "plt.ylabel(\"AUC at 2-years\")\n",
    "plt.title('Full gradient boosting model learning curve with learning rate of 0.05')\n",
    "\n",
    "plt.show()"
   ]
  },
  {
   "cell_type": "code",
   "execution_count": 35,
   "id": "2c390167",
   "metadata": {},
   "outputs": [],
   "source": [
    "# Average AUC for every 25 additional trees. \n",
    "mean_auc_list = []\n",
    "for x in np.arange(0, len(gbm_staged_auc), 25):\n",
    "    mean_auc_list.append(np.mean(gbm_staged_auc[x:x+24]))"
   ]
  },
  {
   "cell_type": "code",
   "execution_count": 36,
   "id": "591f8bec",
   "metadata": {},
   "outputs": [
    {
     "name": "stdout",
     "output_type": "stream",
     "text": [
      "Number of trees where 2 year AUC on validation dataset beings to downgrade: 875\n",
      "Validation dataset AUC before degrading: 0.8161950256552495\n",
      "Training dataset AUC before degrading: 0.8414979881133863\n"
     ]
    }
   ],
   "source": [
    "print('Number of trees where 2 year AUC on validation dataset beings to downgrade:', np.where(np.diff(mean_auc_list) < 0)[0][0]*25)\n",
    "print('Validation dataset AUC before degrading:', gbm_staged_auc[np.where(np.diff(mean_auc_list) < 0)[0][0]*25])\n",
    "print('Training dataset AUC before degrading:', gbm_staged_auc_tr[np.where(np.diff(mean_auc_list) < 0)[0][0]*25])"
   ]
  },
  {
   "cell_type": "markdown",
   "id": "8af66f5f",
   "metadata": {},
   "source": [
    "### 2.2 Determining number of trees for sparse model "
   ]
  },
  {
   "cell_type": "markdown",
   "id": "f52f3aa5",
   "metadata": {},
   "source": [
    "**The sparse model includes a subset of the summary lab values that are considered clinically relevant. Performance will be compared to the full model.**"
   ]
  },
  {
   "cell_type": "code",
   "execution_count": 37,
   "id": "02ee8e8c",
   "metadata": {},
   "outputs": [],
   "source": [
    "all_labs = [\n",
    "    'albumin_diag',\n",
    "    'alp_diag',\n",
    "    'alt_diag',\n",
    "    'ast_diag',\n",
    "    'bicarb_diag',\n",
    "    'bun_diag',\n",
    "    'calcium_diag',\n",
    "    'chloride_diag',\n",
    "    'creatinine_diag',\n",
    "    'hemoglobin_diag',\n",
    "    'neutrophil_count_diag',\n",
    "    'platelet_diag',\n",
    "    'potassium_diag',\n",
    "    'sodium_diag',\n",
    "    'total_bilirubin_diag',\n",
    "    'wbc_diag',\n",
    "    'albumin_diag_na',\n",
    "    'alp_diag_na',\n",
    "    'alt_diag_na',\n",
    "    'ast_diag_na',\n",
    "    'bicarb_diag_na',\n",
    "    'bun_diag_na',\n",
    "    'calcium_diag_na',\n",
    "    'chloride_diag_na',\n",
    "    'creatinine_diag_na',\n",
    "    'hemoglobin_diag_na',\n",
    "    'neutrophil_count_diag_na',\n",
    "    'platelet_diag_na',\n",
    "    'potassium_diag_na',\n",
    "    'sodium_diag_na',\n",
    "    'total_bilirubin_diag_na',\n",
    "    'wbc_diag_na',\n",
    "    'albumin_avg',\n",
    "    'alp_avg',\n",
    "    'alt_avg',\n",
    "    'ast_avg',\n",
    "    'bicarb_avg',\n",
    "    'bun_avg',\n",
    "    'calcium_avg',\n",
    "    'chloride_avg',\n",
    "    'creatinine_avg',\n",
    "    'hemoglobin_avg',\n",
    "    'neutrophil_count_avg',\n",
    "    'platelet_avg',\n",
    "    'potassium_avg',\n",
    "    'sodium_avg',\n",
    "    'total_bilirubin_avg',\n",
    "    'wbc_avg',\n",
    "    'albumin_max',\n",
    "    'alp_max',\n",
    "    'alt_max',\n",
    "    'ast_max',\n",
    "    'bicarb_max',\n",
    "    'bun_max',\n",
    "    'calcium_max',\n",
    "    'chloride_max',\n",
    "    'creatinine_max',\n",
    "    'hemoglobin_max',\n",
    "    'neutrophil_count_max',\n",
    "    'platelet_max',\n",
    "    'potassium_max',\n",
    "    'sodium_max',\n",
    "    'total_bilirubin_max',\n",
    "    'wbc_max',\n",
    "    'albumin_min',\n",
    "    'alp_min',\n",
    "    'alt_min',\n",
    "    'ast_min',\n",
    "    'bicarb_min',\n",
    "    'bun_min',\n",
    "    'calcium_min',\n",
    "    'chloride_min',\n",
    "    'creatinine_min',\n",
    "    'hemoglobin_min',\n",
    "    'neutrophil_count_min',\n",
    "    'platelet_min',\n",
    "    'potassium_min',\n",
    "    'sodium_min',\n",
    "    'total_bilirubin_min',\n",
    "    'wbc_min',\n",
    "    'albumin_std',\n",
    "    'alp_std',\n",
    "    'alt_std',\n",
    "    'ast_std',\n",
    "    'bicarb_std',\n",
    "    'bun_std',\n",
    "    'calcium_std',\n",
    "    'chloride_std',\n",
    "    'creatinine_std',\n",
    "    'hemoglobin_std',\n",
    "    'neutrophil_count_std',\n",
    "    'platelet_std',\n",
    "    'potassium_std',\n",
    "    'sodium_std',\n",
    "    'total_bilirubin_std',\n",
    "    'wbc_std',\n",
    "    'albumin_slope',\n",
    "    'alp_slope',\n",
    "    'alt_slope',\n",
    "    'ast_slope',\n",
    "    'bicarb_slope',\n",
    "    'bun_slope',\n",
    "    'calcium_slope',\n",
    "    'chloride_slope',\n",
    "    'creatinine_slope',\n",
    "    'hemoglobin_slope',\n",
    "    'neutrophil_count_slope',\n",
    "    'platelet_slope',\n",
    "    'potassium_slope',\n",
    "    'sodium_slope',\n",
    "    'total_bilirubin_slope',\n",
    "    'wbc_slope',\n",
    "    'albumin_slope_na',\n",
    "    'alp_slope_na',\n",
    "    'alt_slope_na',\n",
    "    'ast_slope_na',\n",
    "    'bicarb_slope_na',\n",
    "    'bun_slope_na',\n",
    "    'calcium_slope_na',\n",
    "    'chloride_slope_na',\n",
    "    'creatinine_slope_na',\n",
    "    'hemoglobin_slope_na',\n",
    "    'neutrophil_count_slope_na',\n",
    "    'platelet_slope_na',\n",
    "    'potassium_slope_na',\n",
    "    'sodium_slope_na',\n",
    "    'total_bilirubin_slope_na',\n",
    "    'wbc_slope_na']"
   ]
  },
  {
   "cell_type": "code",
   "execution_count": 38,
   "id": "cec980fe",
   "metadata": {},
   "outputs": [],
   "source": [
    "keep_labs = [\n",
    "    'albumin_diag',\n",
    "    'alp_diag',\n",
    "    'alt_diag',\n",
    "    'ast_diag',\n",
    "    'bicarb_diag',\n",
    "    'bun_diag',\n",
    "    'calcium_diag',\n",
    "    'chloride_diag',\n",
    "    'creatinine_diag',\n",
    "    'hemoglobin_diag',\n",
    "    'neutrophil_count_diag',\n",
    "    'platelet_diag',\n",
    "    'potassium_diag',\n",
    "    'sodium_diag',\n",
    "    'total_bilirubin_diag',\n",
    "    'wbc_diag',\n",
    "    'albumin_diag_na',\n",
    "    'alp_diag_na',\n",
    "    'alt_diag_na',\n",
    "    'ast_diag_na',\n",
    "    'bicarb_diag_na',\n",
    "    'bun_diag_na',\n",
    "    'calcium_diag_na',\n",
    "    'chloride_diag_na',\n",
    "    'creatinine_diag_na',\n",
    "    'hemoglobin_diag_na',\n",
    "    'neutrophil_count_diag_na',\n",
    "    'platelet_diag_na',\n",
    "    'potassium_diag_na',\n",
    "    'sodium_diag_na',\n",
    "    'total_bilirubin_diag_na',\n",
    "    'wbc_diag_na',\n",
    "    'alp_max',\n",
    "    'alt_max',\n",
    "    'ast_max',\n",
    "    'calcium_max',\n",
    "    'creatinine_max',\n",
    "    'total_bilirubin_max',\n",
    "    'wbc_max',\n",
    "    'albumin_min',\n",
    "    'bicarb_min',\n",
    "    'hemoglobin_min',\n",
    "    'platelet_min',\n",
    "    'sodium_min',\n",
    "    'wbc_min']"
   ]
  },
  {
   "cell_type": "code",
   "execution_count": 39,
   "id": "df610cd5",
   "metadata": {},
   "outputs": [],
   "source": [
    "drop_labs = [\n",
    "    'albumin_avg',\n",
    "    'alp_avg',\n",
    "    'alt_avg',\n",
    "    'ast_avg',\n",
    "    'bicarb_avg',\n",
    "    'bun_avg',\n",
    "    'calcium_avg',\n",
    "    'chloride_avg',\n",
    "    'creatinine_avg',\n",
    "    'hemoglobin_avg',\n",
    "    'neutrophil_count_avg',\n",
    "    'platelet_avg',\n",
    "    'potassium_avg',\n",
    "    'sodium_avg',\n",
    "    'total_bilirubin_avg',\n",
    "    'wbc_avg',\n",
    "    'albumin_max',\n",
    "    'bicarb_max',\n",
    "    'bun_max',\n",
    "    'chloride_max',\n",
    "    'hemoglobin_max',\n",
    "    'neutrophil_count_max',\n",
    "    'platelet_max',\n",
    "    'potassium_max',\n",
    "    'sodium_max',\n",
    "    'alp_min',\n",
    "    'alt_min',\n",
    "    'ast_min',\n",
    "    'bun_min',\n",
    "    'calcium_min',\n",
    "    'chloride_min',\n",
    "    'creatinine_min',\n",
    "    'neutrophil_count_min',\n",
    "    'potassium_min',\n",
    "    'total_bilirubin_min',\n",
    "    'albumin_std',\n",
    "    'alp_std',\n",
    "    'alt_std',\n",
    "    'ast_std',\n",
    "    'bicarb_std',\n",
    "    'bun_std',\n",
    "    'calcium_std',\n",
    "    'chloride_std',\n",
    "    'creatinine_std',\n",
    "    'hemoglobin_std',\n",
    "    'neutrophil_count_std',\n",
    "    'platelet_std',\n",
    "    'potassium_std',\n",
    "    'sodium_std',\n",
    "    'total_bilirubin_std',\n",
    "    'wbc_std',\n",
    "    'albumin_slope',\n",
    "    'alp_slope',\n",
    "    'alt_slope',\n",
    "    'ast_slope',\n",
    "    'bicarb_slope',\n",
    "    'bun_slope',\n",
    "    'calcium_slope',\n",
    "    'chloride_slope',\n",
    "    'creatinine_slope',\n",
    "    'hemoglobin_slope',\n",
    "    'neutrophil_count_slope',\n",
    "    'platelet_slope',\n",
    "    'potassium_slope',\n",
    "    'sodium_slope',\n",
    "    'total_bilirubin_slope',\n",
    "    'wbc_slope',\n",
    "    'albumin_slope_na',\n",
    "    'alp_slope_na',\n",
    "    'alt_slope_na',\n",
    "    'ast_slope_na',\n",
    "    'bicarb_slope_na',\n",
    "    'bun_slope_na',\n",
    "    'calcium_slope_na',\n",
    "    'chloride_slope_na',\n",
    "    'creatinine_slope_na',\n",
    "    'hemoglobin_slope_na',\n",
    "    'neutrophil_count_slope_na',\n",
    "    'platelet_slope_na',\n",
    "    'potassium_slope_na',\n",
    "    'sodium_slope_na',\n",
    "    'total_bilirubin_slope_na',\n",
    "    'wbc_slope_na']"
   ]
  },
  {
   "cell_type": "code",
   "execution_count": 40,
   "id": "f424d70b",
   "metadata": {},
   "outputs": [
    {
     "data": {
      "text/plain": [
       "True"
      ]
     },
     "execution_count": 40,
     "metadata": {},
     "output_type": "execute_result"
    }
   ],
   "source": [
    "len(keep_labs) + len(drop_labs) == len(all_labs)"
   ]
  },
  {
   "cell_type": "code",
   "execution_count": 41,
   "id": "e89c5f22",
   "metadata": {},
   "outputs": [],
   "source": [
    "sub_train_x_red = sub_train_x.drop(columns = drop_labs)\n",
    "val_x_red = val_x.drop(columns = drop_labs)"
   ]
  },
  {
   "cell_type": "code",
   "execution_count": 42,
   "id": "1763d0d1",
   "metadata": {},
   "outputs": [
    {
     "name": "stdout",
     "output_type": "stream",
     "text": [
      "(19005, 214)\n",
      "(19005, 131)\n",
      "(6336, 214)\n",
      "(6336, 131)\n"
     ]
    }
   ],
   "source": [
    "print(sub_train_x.shape)\n",
    "print(sub_train_x_red.shape)\n",
    "print(val_x.shape)\n",
    "print(val_x_red.shape)"
   ]
  },
  {
   "cell_type": "code",
   "execution_count": 43,
   "id": "770f93fd",
   "metadata": {},
   "outputs": [],
   "source": [
    "sub_train_x_red.loc[:, 'alp_max_na'] = np.where(sub_train_x_red['alp_max'].isna(), 1, 0)\n",
    "sub_train_x_red.loc[:, 'alt_max_na'] = np.where(sub_train_x_red['alt_max'].isna(), 1, 0)\n",
    "sub_train_x_red.loc[:, 'ast_max_na'] = np.where(sub_train_x_red['ast_max'].isna(), 1, 0)\n",
    "sub_train_x_red.loc[:, 'calcium_max_na'] = np.where(sub_train_x_red['calcium_max'].isna(), 1, 0)\n",
    "sub_train_x_red.loc[:, 'creatinine_max_na'] = np.where(sub_train_x_red['creatinine_max'].isna(), 1, 0)\n",
    "sub_train_x_red.loc[:, 'total_bilirubin_max_na'] = np.where(sub_train_x_red['total_bilirubin_max'].isna(), 1, 0)\n",
    "sub_train_x_red.loc[:, 'wbc_max_na'] = np.where(sub_train_x_red['wbc_max'].isna(), 1, 0)\n",
    "sub_train_x_red.loc[:, 'albumin_min_na'] = np.where(sub_train_x_red['albumin_min'].isna(), 1, 0)\n",
    "sub_train_x_red.loc[:, 'bicarb_min_na'] = np.where(sub_train_x_red['bicarb_min'].isna(), 1, 0)\n",
    "sub_train_x_red.loc[:, 'hemoglobin_min_na'] = np.where(sub_train_x_red['hemoglobin_min'].isna(), 1, 0)\n",
    "sub_train_x_red.loc[:, 'platelet_min_na'] = np.where(sub_train_x_red['platelet_min'].isna(), 1, 0)\n",
    "sub_train_x_red.loc[:, 'sodium_min_na'] = np.where(sub_train_x_red['sodium_min'].isna(), 1, 0)\n",
    "sub_train_x_red.loc[:, 'wbc_min_na'] = np.where(sub_train_x_red['wbc_min'].isna(), 1, 0)"
   ]
  },
  {
   "cell_type": "code",
   "execution_count": 44,
   "id": "0d4515a4",
   "metadata": {},
   "outputs": [],
   "source": [
    "val_x_red.loc[:, 'alp_max_na'] = np.where(val_x_red['alp_max'].isna(), 1, 0)\n",
    "val_x_red.loc[:, 'alt_max_na'] = np.where(val_x_red['alt_max'].isna(), 1, 0)\n",
    "val_x_red.loc[:, 'ast_max_na'] = np.where(val_x_red['ast_max'].isna(), 1, 0)\n",
    "val_x_red.loc[:, 'calcium_max_na'] = np.where(val_x_red['calcium_max'].isna(), 1, 0)\n",
    "val_x_red.loc[:, 'creatinine_max_na'] = np.where(val_x_red['creatinine_max'].isna(), 1, 0)\n",
    "val_x_red.loc[:, 'total_bilirubin_max_na'] = np.where(val_x_red['total_bilirubin_max'].isna(), 1, 0)\n",
    "val_x_red.loc[:, 'wbc_max_na'] = np.where(val_x_red['wbc_max'].isna(), 1, 0)\n",
    "val_x_red.loc[:, 'albumin_min_na'] = np.where(val_x_red['albumin_min'].isna(), 1, 0)\n",
    "val_x_red.loc[:, 'bicarb_min_na'] = np.where(val_x_red['bicarb_min'].isna(), 1, 0)\n",
    "val_x_red.loc[:, 'hemoglobin_min_na'] = np.where(val_x_red['hemoglobin_min'].isna(), 1, 0)\n",
    "val_x_red.loc[:, 'platelet_min_na'] = np.where(val_x_red['platelet_min'].isna(), 1, 0)\n",
    "val_x_red.loc[:, 'sodium_min_na'] = np.where(val_x_red['sodium_min'].isna(), 1, 0)\n",
    "val_x_red.loc[:, 'wbc_min_na'] = np.where(val_x_red['wbc_min'].isna(), 1, 0)"
   ]
  },
  {
   "cell_type": "code",
   "execution_count": 45,
   "id": "3f698fa3",
   "metadata": {},
   "outputs": [],
   "source": [
    "# List of numeric variables, excluding binary variables. \n",
    "numerical_features_red = [\n",
    "    'age',\n",
    "    'delta_met_diagnosis',\n",
    "    'weight_diag',\n",
    "    'bmi_diag',\n",
    "    'weight_pct_change',\n",
    "    'weight_slope',\n",
    "    'albumin_diag',\n",
    "    'alp_diag',\n",
    "    'alt_diag',\n",
    "    'ast_diag',\n",
    "    'bicarb_diag',\n",
    "    'bun_diag',\n",
    "    'calcium_diag',\n",
    "    'chloride_diag',\n",
    "    'creatinine_diag',\n",
    "    'hemoglobin_diag',\n",
    "    'neutrophil_count_diag',\n",
    "    'platelet_diag',\n",
    "    'potassium_diag',\n",
    "    'sodium_diag',\n",
    "    'total_bilirubin_diag',\n",
    "    'wbc_diag',\n",
    "    'alp_max',\n",
    "    'alt_max',\n",
    "    'ast_max',\n",
    "    'calcium_max',\n",
    "    'creatinine_max',\n",
    "    'total_bilirubin_max',\n",
    "    'wbc_max',\n",
    "    'albumin_min',\n",
    "    'bicarb_min',\n",
    "    'hemoglobin_min',\n",
    "    'platelet_min',\n",
    "    'sodium_min',\n",
    "    'wbc_min',\n",
    "    'icd_count']\n",
    "\n",
    "# Transformer will impute column medians and then apply a standard scaler. \n",
    "numerical_transformer = Pipeline(steps = [\n",
    "    ('imputer', SimpleImputer(strategy = 'median')),\n",
    "    ('std_scaler', StandardScaler())])"
   ]
  },
  {
   "cell_type": "code",
   "execution_count": 46,
   "id": "f07bdd24",
   "metadata": {},
   "outputs": [],
   "source": [
    "preprocessor_red = ColumnTransformer(\n",
    "    transformers = [\n",
    "        ('num', numerical_transformer, numerical_features_red),\n",
    "        ('cat', categorical_transformer, categorical_features)],\n",
    "    remainder = 'passthrough')"
   ]
  },
  {
   "cell_type": "code",
   "execution_count": 47,
   "id": "2125c279",
   "metadata": {},
   "outputs": [
    {
     "name": "stdout",
     "output_type": "stream",
     "text": [
      "(19005, 144)\n",
      "(19005,)\n",
      "(6336, 144)\n",
      "(6336,)\n"
     ]
    }
   ],
   "source": [
    "print(sub_train_x_red.shape)\n",
    "print(sub_train_y.shape)\n",
    "print(val_x_red.shape)\n",
    "print(val_y.shape)"
   ]
  },
  {
   "cell_type": "code",
   "execution_count": 48,
   "id": "baa295e6",
   "metadata": {},
   "outputs": [
    {
     "name": "stdout",
     "output_type": "stream",
     "text": [
      "      Iter       Train Loss      OOB Improve   Remaining Time \n",
      "         1       71340.2219          13.4304          144.66m\n",
      "         2       71619.9946          12.2285          136.36m\n",
      "         3       71401.3264          11.8568          131.96m\n",
      "         4       71568.5132          12.4233          129.94m\n",
      "         5       72094.1388          10.8574          128.63m\n",
      "         6       71545.1561          10.5671          127.56m\n",
      "         7       71643.8300          10.5446          127.04m\n",
      "         8       71104.6704           9.8361          126.68m\n",
      "         9       71565.3182           9.3812          126.37m\n",
      "        10       70947.7885           9.3295          126.96m\n",
      "        20       71507.1367           6.7213          133.05m\n",
      "        30       70222.3700           5.1204          135.42m\n",
      "        40       70446.5644           3.9815          135.98m\n",
      "        50       70460.0556           4.3337          136.22m\n",
      "        60       70344.5266           3.6425          136.14m\n",
      "        70       70352.5581           2.2957          135.67m\n",
      "        80       69826.3775           3.6450          135.22m\n",
      "        90       70314.6036           1.9155          134.60m\n",
      "       100       70356.2361           1.4472          133.93m\n",
      "       200       69424.6991           0.7609          125.81m\n",
      "       300       69181.7344           0.5725          111.32m\n",
      "       400       68925.9408           0.0347           99.14m\n",
      "       500       68475.6930          -0.1481           88.52m\n",
      "       600       67969.5670          -0.0527           78.69m\n",
      "       700       69089.7405          -0.0285           69.34m\n",
      "       800       68222.6705          -0.1561           60.27m\n",
      "       900       67938.9149          -0.0958           51.39m\n",
      "      1000       68226.6162           0.0207           42.65m\n"
     ]
    },
    {
     "data": {
      "text/plain": [
       "GradientBoostingSurvivalAnalysis(learning_rate=0.05, n_estimators=1500,\n",
       "                                 random_state=42, subsample=0.75, verbose=1)"
      ]
     },
     "execution_count": 48,
     "metadata": {},
     "output_type": "execute_result"
    }
   ],
   "source": [
    "sub_train_xt_red = preprocessor_red.fit_transform(sub_train_x_red)\n",
    "val_xt_red = preprocessor_red.transform(val_x_red)\n",
    "\n",
    "gbm_exp2 = GradientBoostingSurvivalAnalysis(n_estimators = 1500,\n",
    "                                           learning_rate = 0.05,\n",
    "                                           max_depth = 3,\n",
    "                                           subsample = 0.75,\n",
    "                                           verbose = 1,\n",
    "                                           random_state = 42)\n",
    "\n",
    "gbm_exp2.fit(sub_train_xt_red, sub_train_y)"
   ]
  },
  {
   "cell_type": "code",
   "execution_count": 49,
   "id": "55ba521b",
   "metadata": {},
   "outputs": [],
   "source": [
    "gbm2_staged_auc = [cumulative_dynamic_auc(sub_train_y, val_y, risk_score, 730)[0][0] for \n",
    "                   risk_score in gbm_exp2.staged_predict(val_xt_red)]"
   ]
  },
  {
   "cell_type": "code",
   "execution_count": 50,
   "id": "913e6c8d",
   "metadata": {},
   "outputs": [],
   "source": [
    "gbm2_staged_auc_tr = [cumulative_dynamic_auc(sub_train_y, sub_train_y, risk_score, 730)[0][0] for \n",
    "                      risk_score in gbm_exp2.staged_predict(sub_train_xt_red)]"
   ]
  },
  {
   "cell_type": "code",
   "execution_count": 51,
   "id": "5d0a2b26",
   "metadata": {},
   "outputs": [
    {
     "data": {
      "image/png": "[encoded data removed]",
      "text/plain": [
       "<Figure size 432x288 with 1 Axes>"
      ]
     },
     "metadata": {
      "needs_background": "light"
     },
     "output_type": "display_data"
    }
   ],
   "source": [
    "fig = plt.figure()\n",
    "ax = fig.add_subplot(1, 1, 1)\n",
    "\n",
    "x = range(len(gbm2_staged_auc))\n",
    "plt.plot(x, gbm2_staged_auc, color = 'blue', label = 'validation')\n",
    "plt.plot(x, gbm2_staged_auc_tr, color = 'red', label = 'training')\n",
    "plt.legend(loc = 'lower right')\n",
    "\n",
    "plt.xlabel(\"n_estimators\")\n",
    "plt.ylabel(\"AUC at 2-years\")\n",
    "plt.title('Gradient boosting model learning curve for sparse dataset')\n",
    "\n",
    "plt.show()"
   ]
  },
  {
   "cell_type": "code",
   "execution_count": 52,
   "id": "508971e1",
   "metadata": {},
   "outputs": [],
   "source": [
    "# Average AUC for every 25 additional trees. \n",
    "mean2_auc_list = []\n",
    "for x in np.arange(0, len(gbm2_staged_auc), 25):\n",
    "    mean2_auc_list.append(np.mean(gbm2_staged_auc[x:x+24]))"
   ]
  },
  {
   "cell_type": "code",
   "execution_count": 53,
   "id": "90e778ec",
   "metadata": {},
   "outputs": [
    {
     "name": "stdout",
     "output_type": "stream",
     "text": [
      "Number of trees where 2 year AUC on validation dataset beings to downgrade: 750\n",
      "Validation dataset AUC before degrading: 0.8158305405591528\n",
      "Training dataset AUC before degrading: 0.8333348624729833\n"
     ]
    }
   ],
   "source": [
    "print('Number of trees where 2 year AUC on validation dataset beings to downgrade:', np.where(np.diff(mean2_auc_list) < 0)[0][0]*25)\n",
    "print('Validation dataset AUC before degrading:', gbm2_staged_auc[np.where(np.diff(mean2_auc_list) < 0)[0][0]*25])\n",
    "print('Training dataset AUC before degrading:', gbm2_staged_auc_tr[np.where(np.diff(mean2_auc_list) < 0)[0][0]*25])"
   ]
  },
  {
   "cell_type": "markdown",
   "id": "bf4b39a1",
   "metadata": {},
   "source": [
    "**Performance of the sparse model appears about equivalent to the full model in regards to discriminatory performance on the validation set. The advantages of using the sparse model include less risk of overfitting of training set, faster computational speed, and improved interpretability of feature importance. In addition, there might be improved imputations of missing values with MICE. For these reasons, we'll plan to proceed with the sparse model.**"
   ]
  },
  {
   "cell_type": "markdown",
   "id": "78f14c78",
   "metadata": {},
   "source": [
    "### 2.3 Further tuning of tree hyperparameters"
   ]
  },
  {
   "cell_type": "markdown",
   "id": "594e180e",
   "metadata": {},
   "source": [
    "**Tree depth and subsample will be tuned using a halving grid search with 3-fold cross validation. The other main tree hyperparameter is the minimum sample size in a terminal node (ie., leaf), but since we're using short trees it's unlikely to have significant impact on performance and so we'll omit from the parameter search to save computing time.** \n",
    "\n",
    "**Performing a traditional cartesian grid search for gradient boosting model tree hyperparameters is computationally challengng. A halving grid search approach is selected instead since it is much faster. The major drawback of the halving grid search is that good configurations that are slow to converge at the beginning will be pruned prematurely so you can’t be entirely ensure that you’ve identified the best hyperparameters.**  "
   ]
  },
  {
   "cell_type": "code",
   "execution_count": 54,
   "id": "f04d74e5",
   "metadata": {},
   "outputs": [],
   "source": [
    "train_x_red = train_x.drop(columns = drop_labs)"
   ]
  },
  {
   "cell_type": "code",
   "execution_count": 55,
   "id": "fc5e1886",
   "metadata": {},
   "outputs": [],
   "source": [
    "train_x_red.loc[:, 'alp_max_na'] = np.where(train_x_red['alp_max'].isna(), 1, 0)\n",
    "train_x_red.loc[:, 'alt_max_na'] = np.where(train_x_red['alt_max'].isna(), 1, 0)\n",
    "train_x_red.loc[:, 'ast_max_na'] = np.where(train_x_red['ast_max'].isna(), 1, 0)\n",
    "train_x_red.loc[:, 'calcium_max_na'] = np.where(train_x_red['calcium_max'].isna(), 1, 0)\n",
    "train_x_red.loc[:, 'creatinine_max_na'] = np.where(train_x_red['creatinine_max'].isna(), 1, 0)\n",
    "train_x_red.loc[:, 'total_bilirubin_max_na'] = np.where(train_x_red['total_bilirubin_max'].isna(), 1, 0)\n",
    "train_x_red.loc[:, 'wbc_max_na'] = np.where(train_x_red['wbc_max'].isna(), 1, 0)\n",
    "train_x_red.loc[:, 'albumin_min_na'] = np.where(train_x_red['albumin_min'].isna(), 1, 0)\n",
    "train_x_red.loc[:, 'bicarb_min_na'] = np.where(train_x_red['bicarb_min'].isna(), 1, 0)\n",
    "train_x_red.loc[:, 'hemoglobin_min_na'] = np.where(train_x_red['hemoglobin_min'].isna(), 1, 0)\n",
    "train_x_red.loc[:, 'platelet_min_na'] = np.where(train_x_red['platelet_min'].isna(), 1, 0)\n",
    "train_x_red.loc[:, 'sodium_min_na'] = np.where(train_x_red['sodium_min'].isna(), 1, 0)\n",
    "train_x_red.loc[:, 'wbc_min_na'] = np.where(train_x_red['wbc_min'].isna(), 1, 0)"
   ]
  },
  {
   "cell_type": "code",
   "execution_count": 56,
   "id": "01247ed4",
   "metadata": {},
   "outputs": [
    {
     "data": {
      "text/plain": [
       "(25341, 144)"
      ]
     },
     "execution_count": 56,
     "metadata": {},
     "output_type": "execute_result"
    }
   ],
   "source": [
    "train_x_red.shape"
   ]
  },
  {
   "cell_type": "code",
   "execution_count": 57,
   "id": "87ec2cfe",
   "metadata": {},
   "outputs": [
    {
     "data": {
      "text/plain": [
       "['estimator',\n",
       " 'estimator__columntransformer',\n",
       " 'estimator__columntransformer__cat',\n",
       " 'estimator__columntransformer__cat__categories',\n",
       " 'estimator__columntransformer__cat__drop',\n",
       " 'estimator__columntransformer__cat__dtype',\n",
       " 'estimator__columntransformer__cat__handle_unknown',\n",
       " 'estimator__columntransformer__cat__sparse',\n",
       " 'estimator__columntransformer__n_jobs',\n",
       " 'estimator__columntransformer__num',\n",
       " 'estimator__columntransformer__num__imputer',\n",
       " 'estimator__columntransformer__num__imputer__add_indicator',\n",
       " 'estimator__columntransformer__num__imputer__copy',\n",
       " 'estimator__columntransformer__num__imputer__fill_value',\n",
       " 'estimator__columntransformer__num__imputer__missing_values',\n",
       " 'estimator__columntransformer__num__imputer__strategy',\n",
       " 'estimator__columntransformer__num__imputer__verbose',\n",
       " 'estimator__columntransformer__num__memory',\n",
       " 'estimator__columntransformer__num__std_scaler',\n",
       " 'estimator__columntransformer__num__std_scaler__copy',\n",
       " 'estimator__columntransformer__num__std_scaler__with_mean',\n",
       " 'estimator__columntransformer__num__std_scaler__with_std',\n",
       " 'estimator__columntransformer__num__steps',\n",
       " 'estimator__columntransformer__num__verbose',\n",
       " 'estimator__columntransformer__remainder',\n",
       " 'estimator__columntransformer__sparse_threshold',\n",
       " 'estimator__columntransformer__transformer_weights',\n",
       " 'estimator__columntransformer__transformers',\n",
       " 'estimator__columntransformer__verbose',\n",
       " 'estimator__columntransformer__verbose_feature_names_out',\n",
       " 'estimator__gradientboostingsurvivalanalysis',\n",
       " 'estimator__gradientboostingsurvivalanalysis__ccp_alpha',\n",
       " 'estimator__gradientboostingsurvivalanalysis__criterion',\n",
       " 'estimator__gradientboostingsurvivalanalysis__dropout_rate',\n",
       " 'estimator__gradientboostingsurvivalanalysis__learning_rate',\n",
       " 'estimator__gradientboostingsurvivalanalysis__loss',\n",
       " 'estimator__gradientboostingsurvivalanalysis__max_depth',\n",
       " 'estimator__gradientboostingsurvivalanalysis__max_features',\n",
       " 'estimator__gradientboostingsurvivalanalysis__max_leaf_nodes',\n",
       " 'estimator__gradientboostingsurvivalanalysis__min_impurity_decrease',\n",
       " 'estimator__gradientboostingsurvivalanalysis__min_samples_leaf',\n",
       " 'estimator__gradientboostingsurvivalanalysis__min_samples_split',\n",
       " 'estimator__gradientboostingsurvivalanalysis__min_weight_fraction_leaf',\n",
       " 'estimator__gradientboostingsurvivalanalysis__n_estimators',\n",
       " 'estimator__gradientboostingsurvivalanalysis__random_state',\n",
       " 'estimator__gradientboostingsurvivalanalysis__subsample',\n",
       " 'estimator__gradientboostingsurvivalanalysis__verbose',\n",
       " 'estimator__memory',\n",
       " 'estimator__steps',\n",
       " 'estimator__verbose',\n",
       " 'tied_tol',\n",
       " 'times']"
      ]
     },
     "execution_count": 57,
     "metadata": {},
     "output_type": "execute_result"
    }
   ],
   "source": [
    "# Find all pipe item unique keys \n",
    "pipe = make_pipeline(preprocessor_red, GradientBoostingSurvivalAnalysis(n_estimators = 750,\n",
    "                                                                        learning_rate = 0.05,\n",
    "                                                                        random_state = 42))\n",
    "\n",
    "estimator = as_cumulative_dynamic_auc_scorer(pipe, times = [730])\n",
    "\n",
    "sorted(estimator.get_params().keys())"
   ]
  },
  {
   "cell_type": "code",
   "execution_count": 58,
   "id": "20d0a2c5",
   "metadata": {},
   "outputs": [
    {
     "name": "stdout",
     "output_type": "stream",
     "text": [
      "n_iterations: 4\n",
      "n_required_iterations: 4\n",
      "n_possible_iterations: 4\n",
      "min_resources_: 3167\n",
      "max_resources_: 25341\n",
      "aggressive_elimination: False\n",
      "factor: 2\n",
      "----------\n",
      "iter: 0\n",
      "n_candidates: 9\n",
      "n_resources: 3167\n",
      "Fitting 3 folds for each of 9 candidates, totalling 27 fits\n",
      "----------\n",
      "iter: 1\n",
      "n_candidates: 5\n",
      "n_resources: 6334\n",
      "Fitting 3 folds for each of 5 candidates, totalling 15 fits\n",
      "----------\n",
      "iter: 2\n",
      "n_candidates: 3\n",
      "n_resources: 12668\n",
      "Fitting 3 folds for each of 3 candidates, totalling 9 fits\n",
      "----------\n",
      "iter: 3\n",
      "n_candidates: 2\n",
      "n_resources: 25336\n",
      "Fitting 3 folds for each of 2 candidates, totalling 6 fits\n"
     ]
    },
    {
     "data": {
      "text/plain": [
       "HalvingGridSearchCV(cv=StratifiedKFold(n_splits=3, random_state=42, shuffle=True),\n",
       "                    estimator=as_cumulative_dynamic_auc_scorer(estimator=Pipeline(steps=[('columntransformer',\n",
       "                                                                                          ColumnTransformer(remainder='passthrough',\n",
       "                                                                                                            transformers=[('num',\n",
       "                                                                                                                           Pipeline(steps=[('imputer',\n",
       "                                                                                                                                            SimpleImputer(strategy='median')),\n",
       "                                                                                                                                           ('std_scaler',\n",
       "                                                                                                                                            StandardScaler())]),\n",
       "                                                                                                                           ['age',\n",
       "                                                                                                                            'delta_met_diag...\n",
       "                                                                                                                            'ses'])])),\n",
       "                                                                                         ('gradientboostingsurvivalanalysis',\n",
       "                                                                                          GradientBoostingSurvivalAnalysis(learning_rate=0.05,\n",
       "                                                                                                                           n_estimators=750,\n",
       "                                                                                                                           random_state=42))]),\n",
       "                                                               times=730),\n",
       "                    factor=2, n_jobs=-1,\n",
       "                    param_grid={'estimator__gradientboostingsurvivalanalysis__max_depth': [2,\n",
       "                                                                                           3,\n",
       "                                                                                           4],\n",
       "                                'estimator__gradientboostingsurvivalanalysis__subsample': [0.5,\n",
       "                                                                                           0.75,\n",
       "                                                                                           0.9]},\n",
       "                    random_state=42, refit=False, verbose=1)"
      ]
     },
     "execution_count": 58,
     "metadata": {},
     "output_type": "execute_result"
    }
   ],
   "source": [
    "pipe = make_pipeline(preprocessor_red, GradientBoostingSurvivalAnalysis(n_estimators = 750,\n",
    "                                                                        learning_rate = 0.05,\n",
    "                                                                        random_state = 42))\n",
    "\n",
    "# 3 fold cross-validation\n",
    "cv = StratifiedKFold(n_splits = 3, shuffle = True, random_state = 42)\n",
    "\n",
    "# Parameter gird \n",
    "param_grid = {'estimator__gradientboostingsurvivalanalysis__max_depth': [2, 3, 4], \n",
    "              'estimator__gradientboostingsurvivalanalysis__subsample': [0.5, 0.75, 0.9]}\n",
    "\n",
    "gbm_search = HalvingGridSearchCV(\n",
    "    as_cumulative_dynamic_auc_scorer(pipe, 730),\n",
    "    param_grid,\n",
    "    cv = cv,\n",
    "    factor = 2,\n",
    "    resource = 'n_samples',\n",
    "    refit = False,\n",
    "    verbose = 1,\n",
    "    random_state = 42,\n",
    "    n_jobs = -1)\n",
    "\n",
    "# Run search \n",
    "warnings.filterwarnings('ignore')\n",
    "gbm_search.fit(train_x_red, train_y)"
   ]
  },
  {
   "cell_type": "code",
   "execution_count": 59,
   "id": "12ffa38c",
   "metadata": {},
   "outputs": [
    {
     "data": {
      "text/plain": [
       "{'estimator__gradientboostingsurvivalanalysis__max_depth': 4,\n",
       " 'estimator__gradientboostingsurvivalanalysis__subsample': 0.75}"
      ]
     },
     "execution_count": 59,
     "metadata": {},
     "output_type": "execute_result"
    }
   ],
   "source": [
    "gbm_search.best_params_"
   ]
  },
  {
   "cell_type": "code",
   "execution_count": 60,
   "id": "18fb2443",
   "metadata": {},
   "outputs": [],
   "source": [
    "gbm_search_results = pd.DataFrame(gbm_search.cv_results_)"
   ]
  },
  {
   "cell_type": "code",
   "execution_count": 61,
   "id": "1bba68a3",
   "metadata": {},
   "outputs": [
    {
     "data": {
      "text/html": [
       "<div>\n",
       "<style scoped>\n",
       "    .dataframe tbody tr th:only-of-type {\n",
       "        vertical-align: middle;\n",
       "    }\n",
       "\n",
       "    .dataframe tbody tr th {\n",
       "        vertical-align: top;\n",
       "    }\n",
       "\n",
       "    .dataframe thead th {\n",
       "        text-align: right;\n",
       "    }\n",
       "</style>\n",
       "<table border=\"1\" class=\"dataframe\">\n",
       "  <thead>\n",
       "    <tr style=\"text-align: right;\">\n",
       "      <th></th>\n",
       "      <th>iter</th>\n",
       "      <th>n_resources</th>\n",
       "      <th>mean_fit_time</th>\n",
       "      <th>std_fit_time</th>\n",
       "      <th>mean_score_time</th>\n",
       "      <th>std_score_time</th>\n",
       "      <th>param_estimator__gradientboostingsurvivalanalysis__max_depth</th>\n",
       "      <th>param_estimator__gradientboostingsurvivalanalysis__subsample</th>\n",
       "      <th>params</th>\n",
       "      <th>split0_test_score</th>\n",
       "      <th>split1_test_score</th>\n",
       "      <th>split2_test_score</th>\n",
       "      <th>mean_test_score</th>\n",
       "      <th>std_test_score</th>\n",
       "      <th>rank_test_score</th>\n",
       "      <th>split0_train_score</th>\n",
       "      <th>split1_train_score</th>\n",
       "      <th>split2_train_score</th>\n",
       "      <th>mean_train_score</th>\n",
       "      <th>std_train_score</th>\n",
       "    </tr>\n",
       "  </thead>\n",
       "  <tbody>\n",
       "    <tr>\n",
       "      <th>18</th>\n",
       "      <td>3</td>\n",
       "      <td>25336</td>\n",
       "      <td>3615.026322</td>\n",
       "      <td>1.730507</td>\n",
       "      <td>0.155675</td>\n",
       "      <td>0.015917</td>\n",
       "      <td>4</td>\n",
       "      <td>0.75</td>\n",
       "      <td>{'estimator__gradientboostingsurvivalanalysis_...</td>\n",
       "      <td>0.804743</td>\n",
       "      <td>0.814324</td>\n",
       "      <td>0.816233</td>\n",
       "      <td>0.811767</td>\n",
       "      <td>0.005028</td>\n",
       "      <td>1</td>\n",
       "      <td>0.864438</td>\n",
       "      <td>0.857954</td>\n",
       "      <td>0.857896</td>\n",
       "      <td>0.860096</td>\n",
       "      <td>0.003071</td>\n",
       "    </tr>\n",
       "    <tr>\n",
       "      <th>17</th>\n",
       "      <td>3</td>\n",
       "      <td>25336</td>\n",
       "      <td>3809.170807</td>\n",
       "      <td>4.753662</td>\n",
       "      <td>0.159481</td>\n",
       "      <td>0.009703</td>\n",
       "      <td>4</td>\n",
       "      <td>0.9</td>\n",
       "      <td>{'estimator__gradientboostingsurvivalanalysis_...</td>\n",
       "      <td>0.803017</td>\n",
       "      <td>0.813613</td>\n",
       "      <td>0.815942</td>\n",
       "      <td>0.810857</td>\n",
       "      <td>0.005625</td>\n",
       "      <td>2</td>\n",
       "      <td>0.863959</td>\n",
       "      <td>0.857115</td>\n",
       "      <td>0.857239</td>\n",
       "      <td>0.859438</td>\n",
       "      <td>0.003198</td>\n",
       "    </tr>\n",
       "    <tr>\n",
       "      <th>15</th>\n",
       "      <td>2</td>\n",
       "      <td>12668</td>\n",
       "      <td>1224.411004</td>\n",
       "      <td>1.755241</td>\n",
       "      <td>0.107004</td>\n",
       "      <td>0.027373</td>\n",
       "      <td>4</td>\n",
       "      <td>0.75</td>\n",
       "      <td>{'estimator__gradientboostingsurvivalanalysis_...</td>\n",
       "      <td>0.803777</td>\n",
       "      <td>0.808361</td>\n",
       "      <td>0.808076</td>\n",
       "      <td>0.806738</td>\n",
       "      <td>0.002097</td>\n",
       "      <td>3</td>\n",
       "      <td>0.881943</td>\n",
       "      <td>0.883404</td>\n",
       "      <td>0.879770</td>\n",
       "      <td>0.881706</td>\n",
       "      <td>0.001493</td>\n",
       "    </tr>\n",
       "    <tr>\n",
       "      <th>16</th>\n",
       "      <td>2</td>\n",
       "      <td>12668</td>\n",
       "      <td>1096.655806</td>\n",
       "      <td>252.287144</td>\n",
       "      <td>0.074285</td>\n",
       "      <td>0.004709</td>\n",
       "      <td>4</td>\n",
       "      <td>0.9</td>\n",
       "      <td>{'estimator__gradientboostingsurvivalanalysis_...</td>\n",
       "      <td>0.802242</td>\n",
       "      <td>0.809216</td>\n",
       "      <td>0.806494</td>\n",
       "      <td>0.805984</td>\n",
       "      <td>0.002870</td>\n",
       "      <td>4</td>\n",
       "      <td>0.882990</td>\n",
       "      <td>0.883349</td>\n",
       "      <td>0.879706</td>\n",
       "      <td>0.882015</td>\n",
       "      <td>0.001639</td>\n",
       "    </tr>\n",
       "    <tr>\n",
       "      <th>14</th>\n",
       "      <td>2</td>\n",
       "      <td>12668</td>\n",
       "      <td>1224.815689</td>\n",
       "      <td>2.777620</td>\n",
       "      <td>0.117482</td>\n",
       "      <td>0.028694</td>\n",
       "      <td>4</td>\n",
       "      <td>0.5</td>\n",
       "      <td>{'estimator__gradientboostingsurvivalanalysis_...</td>\n",
       "      <td>0.800796</td>\n",
       "      <td>0.809185</td>\n",
       "      <td>0.806089</td>\n",
       "      <td>0.805357</td>\n",
       "      <td>0.003464</td>\n",
       "      <td>5</td>\n",
       "      <td>0.879258</td>\n",
       "      <td>0.882752</td>\n",
       "      <td>0.878126</td>\n",
       "      <td>0.880046</td>\n",
       "      <td>0.001969</td>\n",
       "    </tr>\n",
       "    <tr>\n",
       "      <th>9</th>\n",
       "      <td>1</td>\n",
       "      <td>6334</td>\n",
       "      <td>304.001640</td>\n",
       "      <td>1.739653</td>\n",
       "      <td>0.069502</td>\n",
       "      <td>0.020763</td>\n",
       "      <td>4</td>\n",
       "      <td>0.9</td>\n",
       "      <td>{'estimator__gradientboostingsurvivalanalysis_...</td>\n",
       "      <td>0.803697</td>\n",
       "      <td>0.806457</td>\n",
       "      <td>0.780649</td>\n",
       "      <td>0.796934</td>\n",
       "      <td>0.011570</td>\n",
       "      <td>6</td>\n",
       "      <td>0.907748</td>\n",
       "      <td>0.911726</td>\n",
       "      <td>0.911089</td>\n",
       "      <td>0.910188</td>\n",
       "      <td>0.001745</td>\n",
       "    </tr>\n",
       "    <tr>\n",
       "      <th>11</th>\n",
       "      <td>1</td>\n",
       "      <td>6334</td>\n",
       "      <td>265.630545</td>\n",
       "      <td>17.077100</td>\n",
       "      <td>0.059536</td>\n",
       "      <td>0.024784</td>\n",
       "      <td>4</td>\n",
       "      <td>0.75</td>\n",
       "      <td>{'estimator__gradientboostingsurvivalanalysis_...</td>\n",
       "      <td>0.803372</td>\n",
       "      <td>0.804444</td>\n",
       "      <td>0.781272</td>\n",
       "      <td>0.796363</td>\n",
       "      <td>0.010679</td>\n",
       "      <td>7</td>\n",
       "      <td>0.904691</td>\n",
       "      <td>0.911623</td>\n",
       "      <td>0.909949</td>\n",
       "      <td>0.908754</td>\n",
       "      <td>0.002954</td>\n",
       "    </tr>\n",
       "    <tr>\n",
       "      <th>13</th>\n",
       "      <td>1</td>\n",
       "      <td>6334</td>\n",
       "      <td>226.389561</td>\n",
       "      <td>4.450702</td>\n",
       "      <td>0.046763</td>\n",
       "      <td>0.009232</td>\n",
       "      <td>4</td>\n",
       "      <td>0.5</td>\n",
       "      <td>{'estimator__gradientboostingsurvivalanalysis_...</td>\n",
       "      <td>0.801561</td>\n",
       "      <td>0.806447</td>\n",
       "      <td>0.780976</td>\n",
       "      <td>0.796328</td>\n",
       "      <td>0.011037</td>\n",
       "      <td>8</td>\n",
       "      <td>0.902731</td>\n",
       "      <td>0.910398</td>\n",
       "      <td>0.907780</td>\n",
       "      <td>0.906970</td>\n",
       "      <td>0.003182</td>\n",
       "    </tr>\n",
       "    <tr>\n",
       "      <th>10</th>\n",
       "      <td>1</td>\n",
       "      <td>6334</td>\n",
       "      <td>266.130475</td>\n",
       "      <td>0.674444</td>\n",
       "      <td>0.072187</td>\n",
       "      <td>0.005408</td>\n",
       "      <td>3</td>\n",
       "      <td>0.5</td>\n",
       "      <td>{'estimator__gradientboostingsurvivalanalysis_...</td>\n",
       "      <td>0.802260</td>\n",
       "      <td>0.803412</td>\n",
       "      <td>0.783042</td>\n",
       "      <td>0.796238</td>\n",
       "      <td>0.009343</td>\n",
       "      <td>9</td>\n",
       "      <td>0.867653</td>\n",
       "      <td>0.875878</td>\n",
       "      <td>0.870545</td>\n",
       "      <td>0.871359</td>\n",
       "      <td>0.003407</td>\n",
       "    </tr>\n",
       "    <tr>\n",
       "      <th>12</th>\n",
       "      <td>1</td>\n",
       "      <td>6334</td>\n",
       "      <td>235.467039</td>\n",
       "      <td>1.685689</td>\n",
       "      <td>0.048020</td>\n",
       "      <td>0.005707</td>\n",
       "      <td>3</td>\n",
       "      <td>0.75</td>\n",
       "      <td>{'estimator__gradientboostingsurvivalanalysis_...</td>\n",
       "      <td>0.802603</td>\n",
       "      <td>0.801822</td>\n",
       "      <td>0.783513</td>\n",
       "      <td>0.795979</td>\n",
       "      <td>0.008821</td>\n",
       "      <td>10</td>\n",
       "      <td>0.871191</td>\n",
       "      <td>0.877018</td>\n",
       "      <td>0.871195</td>\n",
       "      <td>0.873135</td>\n",
       "      <td>0.002746</td>\n",
       "    </tr>\n",
       "  </tbody>\n",
       "</table>\n",
       "</div>"
      ],
      "text/plain": [
       "    iter  n_resources  mean_fit_time  std_fit_time  mean_score_time  \\\n",
       "18     3        25336    3615.026322      1.730507         0.155675   \n",
       "17     3        25336    3809.170807      4.753662         0.159481   \n",
       "15     2        12668    1224.411004      1.755241         0.107004   \n",
       "16     2        12668    1096.655806    252.287144         0.074285   \n",
       "14     2        12668    1224.815689      2.777620         0.117482   \n",
       "9      1         6334     304.001640      1.739653         0.069502   \n",
       "11     1         6334     265.630545     17.077100         0.059536   \n",
       "13     1         6334     226.389561      4.450702         0.046763   \n",
       "10     1         6334     266.130475      0.674444         0.072187   \n",
       "12     1         6334     235.467039      1.685689         0.048020   \n",
       "\n",
       "    std_score_time  \\\n",
       "18        0.015917   \n",
       "17        0.009703   \n",
       "15        0.027373   \n",
       "16        0.004709   \n",
       "14        0.028694   \n",
       "9         0.020763   \n",
       "11        0.024784   \n",
       "13        0.009232   \n",
       "10        0.005408   \n",
       "12        0.005707   \n",
       "\n",
       "   param_estimator__gradientboostingsurvivalanalysis__max_depth  \\\n",
       "18                                                  4             \n",
       "17                                                  4             \n",
       "15                                                  4             \n",
       "16                                                  4             \n",
       "14                                                  4             \n",
       "9                                                   4             \n",
       "11                                                  4             \n",
       "13                                                  4             \n",
       "10                                                  3             \n",
       "12                                                  3             \n",
       "\n",
       "   param_estimator__gradientboostingsurvivalanalysis__subsample  \\\n",
       "18                                               0.75             \n",
       "17                                                0.9             \n",
       "15                                               0.75             \n",
       "16                                                0.9             \n",
       "14                                                0.5             \n",
       "9                                                 0.9             \n",
       "11                                               0.75             \n",
       "13                                                0.5             \n",
       "10                                                0.5             \n",
       "12                                               0.75             \n",
       "\n",
       "                                               params  split0_test_score  \\\n",
       "18  {'estimator__gradientboostingsurvivalanalysis_...           0.804743   \n",
       "17  {'estimator__gradientboostingsurvivalanalysis_...           0.803017   \n",
       "15  {'estimator__gradientboostingsurvivalanalysis_...           0.803777   \n",
       "16  {'estimator__gradientboostingsurvivalanalysis_...           0.802242   \n",
       "14  {'estimator__gradientboostingsurvivalanalysis_...           0.800796   \n",
       "9   {'estimator__gradientboostingsurvivalanalysis_...           0.803697   \n",
       "11  {'estimator__gradientboostingsurvivalanalysis_...           0.803372   \n",
       "13  {'estimator__gradientboostingsurvivalanalysis_...           0.801561   \n",
       "10  {'estimator__gradientboostingsurvivalanalysis_...           0.802260   \n",
       "12  {'estimator__gradientboostingsurvivalanalysis_...           0.802603   \n",
       "\n",
       "    split1_test_score  split2_test_score  mean_test_score  std_test_score  \\\n",
       "18           0.814324           0.816233         0.811767        0.005028   \n",
       "17           0.813613           0.815942         0.810857        0.005625   \n",
       "15           0.808361           0.808076         0.806738        0.002097   \n",
       "16           0.809216           0.806494         0.805984        0.002870   \n",
       "14           0.809185           0.806089         0.805357        0.003464   \n",
       "9            0.806457           0.780649         0.796934        0.011570   \n",
       "11           0.804444           0.781272         0.796363        0.010679   \n",
       "13           0.806447           0.780976         0.796328        0.011037   \n",
       "10           0.803412           0.783042         0.796238        0.009343   \n",
       "12           0.801822           0.783513         0.795979        0.008821   \n",
       "\n",
       "    rank_test_score  split0_train_score  split1_train_score  \\\n",
       "18                1            0.864438            0.857954   \n",
       "17                2            0.863959            0.857115   \n",
       "15                3            0.881943            0.883404   \n",
       "16                4            0.882990            0.883349   \n",
       "14                5            0.879258            0.882752   \n",
       "9                 6            0.907748            0.911726   \n",
       "11                7            0.904691            0.911623   \n",
       "13                8            0.902731            0.910398   \n",
       "10                9            0.867653            0.875878   \n",
       "12               10            0.871191            0.877018   \n",
       "\n",
       "    split2_train_score  mean_train_score  std_train_score  \n",
       "18            0.857896          0.860096         0.003071  \n",
       "17            0.857239          0.859438         0.003198  \n",
       "15            0.879770          0.881706         0.001493  \n",
       "16            0.879706          0.882015         0.001639  \n",
       "14            0.878126          0.880046         0.001969  \n",
       "9             0.911089          0.910188         0.001745  \n",
       "11            0.909949          0.908754         0.002954  \n",
       "13            0.907780          0.906970         0.003182  \n",
       "10            0.870545          0.871359         0.003407  \n",
       "12            0.871195          0.873135         0.002746  "
      ]
     },
     "execution_count": 61,
     "metadata": {},
     "output_type": "execute_result"
    }
   ],
   "source": [
    "gbm_search_results.sort_values(by = 'rank_test_score').head(10)"
   ]
  },
  {
   "cell_type": "markdown",
   "id": "0e931681",
   "metadata": {},
   "source": [
    "### 2.4 Building and evaluating final model "
   ]
  },
  {
   "cell_type": "code",
   "execution_count": 62,
   "id": "c2efa62b",
   "metadata": {},
   "outputs": [],
   "source": [
    "test_x_red = test_x.drop(columns = drop_labs)"
   ]
  },
  {
   "cell_type": "code",
   "execution_count": 63,
   "id": "fe928e11",
   "metadata": {},
   "outputs": [],
   "source": [
    "test_x_red.loc[:, 'alp_max_na'] = np.where(test_x_red['alp_max'].isna(), 1, 0)\n",
    "test_x_red.loc[:, 'alt_max_na'] = np.where(test_x_red['alt_max'].isna(), 1, 0)\n",
    "test_x_red.loc[:, 'ast_max_na'] = np.where(test_x_red['ast_max'].isna(), 1, 0)\n",
    "test_x_red.loc[:, 'calcium_max_na'] = np.where(test_x_red['calcium_max'].isna(), 1, 0)\n",
    "test_x_red.loc[:, 'creatinine_max_na'] = np.where(test_x_red['creatinine_max'].isna(), 1, 0)\n",
    "test_x_red.loc[:, 'total_bilirubin_max_na'] = np.where(test_x_red['total_bilirubin_max'].isna(), 1, 0)\n",
    "test_x_red.loc[:, 'wbc_max_na'] = np.where(test_x_red['wbc_max'].isna(), 1, 0)\n",
    "test_x_red.loc[:, 'albumin_min_na'] = np.where(test_x_red['albumin_min'].isna(), 1, 0)\n",
    "test_x_red.loc[:, 'bicarb_min_na'] = np.where(test_x_red['bicarb_min'].isna(), 1, 0)\n",
    "test_x_red.loc[:, 'hemoglobin_min_na'] = np.where(test_x_red['hemoglobin_min'].isna(), 1, 0)\n",
    "test_x_red.loc[:, 'platelet_min_na'] = np.where(test_x_red['platelet_min'].isna(), 1, 0)\n",
    "test_x_red.loc[:, 'sodium_min_na'] = np.where(test_x_red['sodium_min'].isna(), 1, 0)\n",
    "test_x_red.loc[:, 'wbc_min_na'] = np.where(test_x_red['wbc_min'].isna(), 1, 0)"
   ]
  },
  {
   "cell_type": "code",
   "execution_count": 64,
   "id": "1c1f7d2d",
   "metadata": {},
   "outputs": [
    {
     "data": {
      "text/plain": [
       "(6336, 144)"
      ]
     },
     "execution_count": 64,
     "metadata": {},
     "output_type": "execute_result"
    }
   ],
   "source": [
    "test_x_red.shape"
   ]
  },
  {
   "cell_type": "code",
   "execution_count": 65,
   "id": "b18bcec2",
   "metadata": {},
   "outputs": [
    {
     "name": "stdout",
     "output_type": "stream",
     "text": [
      "      Iter       Train Loss      OOB Improve   Remaining Time \n",
      "         1       98534.3623          22.6008          122.06m\n",
      "         2       98500.3907          21.2528          117.29m\n",
      "         3       98926.1922          19.3427          116.73m\n",
      "         4       98506.3317          19.8272          119.68m\n",
      "         5       98342.2404          17.8932          123.10m\n",
      "         6       98005.7948          18.2657          124.02m\n",
      "         7       98256.7045          17.8314          124.99m\n",
      "         8       98325.0529          15.7795          123.27m\n",
      "         9       98146.5432          15.0109          121.74m\n",
      "        10       98343.3125          14.7137          120.78m\n",
      "        20       97909.7280          10.7290          116.78m\n",
      "        30       97272.5338           8.6987          117.32m\n",
      "        40       96995.5430           6.9658          118.16m\n",
      "        50       97005.5337           5.7235          117.80m\n",
      "        60       96596.8900           4.8651          116.90m\n",
      "        70       96582.2549           3.1201          115.85m\n",
      "        80       96142.2225           4.0589          114.58m\n",
      "        90       96166.8059           2.7446          113.21m\n",
      "       100       96430.4767           3.5283          111.76m\n",
      "       200       95086.8267           0.7732           95.93m\n",
      "       300       94689.0031           0.2374           76.51m\n",
      "       400       94192.2282           0.0274           57.58m\n",
      "       500       94397.6831          -0.1257           40.31m\n",
      "       600       94091.4614          -0.2527           23.86m\n",
      "       700       94011.0502          -0.2414            7.87m\n"
     ]
    },
    {
     "data": {
      "text/plain": [
       "Pipeline(steps=[('columntransformer',\n",
       "                 ColumnTransformer(remainder='passthrough',\n",
       "                                   transformers=[('num',\n",
       "                                                  Pipeline(steps=[('imputer',\n",
       "                                                                   SimpleImputer(strategy='median')),\n",
       "                                                                  ('std_scaler',\n",
       "                                                                   StandardScaler())]),\n",
       "                                                  ['age', 'delta_met_diagnosis',\n",
       "                                                   'weight_diag', 'bmi_diag',\n",
       "                                                   'weight_pct_change',\n",
       "                                                   'weight_slope',\n",
       "                                                   'albumin_diag', 'alp_diag',\n",
       "                                                   'alt_diag', 'ast_diag',\n",
       "                                                   'bicarb_diag', 'bun...\n",
       "                                                   'wbc_max', 'albumin_min', ...]),\n",
       "                                                 ('cat',\n",
       "                                                  OneHotEncoder(handle_unknown='ignore'),\n",
       "                                                  ['gender', 'race',\n",
       "                                                   'ethnicity', 'p_type',\n",
       "                                                   'region', 'stage',\n",
       "                                                   'met_year', 'ER', 'HER2',\n",
       "                                                   'PR', 'BRCA', 'PIK3CA',\n",
       "                                                   'pdl1_n', 'ecog_diagnosis',\n",
       "                                                   'ses'])])),\n",
       "                ('gradientboostingsurvivalanalysis',\n",
       "                 GradientBoostingSurvivalAnalysis(learning_rate=0.05,\n",
       "                                                  max_depth=4, n_estimators=750,\n",
       "                                                  random_state=42,\n",
       "                                                  subsample=0.75, verbose=1))])"
      ]
     },
     "execution_count": 66,
     "metadata": {},
     "output_type": "execute_result"
    }
   ],
   "source": [
    "gbm_crude = make_pipeline(preprocessor_red, GradientBoostingSurvivalAnalysis(n_estimators = 750,\n",
    "                                                                             learning_rate = 0.05,\n",
    "                                                                             max_depth = 4,\n",
    "                                                                             subsample = 0.75,\n",
    "                                                                             verbose = 1,\n",
    "                                                                             random_state = 42))\n",
    "\n",
    "gbm_crude.fit(train_x_red, train_y)"
   ]
  },
  {
   "cell_type": "code",
   "execution_count": 66,
   "id": "7f689432",
   "metadata": {},
   "outputs": [
    {
     "name": "stdout",
     "output_type": "stream",
     "text": [
      "Test set AUC at 2 years: 0.8177073200968971\n"
     ]
    }
   ],
   "source": [
    "gbm_risk_scores_te = gbm_crude.predict(test_x_red)\n",
    "gbm_auc_te = cumulative_dynamic_auc(train_y, test_y, gbm_risk_scores_te, 730)[0][0]\n",
    "print('Test set AUC at 2 years:', gbm_auc_te)"
   ]
  },
  {
   "cell_type": "code",
   "execution_count": 67,
   "id": "aac955f4",
   "metadata": {},
   "outputs": [
    {
     "name": "stdout",
     "output_type": "stream",
     "text": [
      "Training set AUC at 2 years: 0.8494098390943354\n"
     ]
    }
   ],
   "source": [
    "gbm_risk_scores_tr = gbm_crude.predict(train_x_red)\n",
    "gbm_auc_tr = cumulative_dynamic_auc(train_y, train_y, gbm_risk_scores_tr, 730)[0][0]\n",
    "print('Training set AUC at 2 years:', gbm_auc_tr)"
   ]
  },
  {
   "cell_type": "code",
   "execution_count": 68,
   "id": "6249fc41",
   "metadata": {},
   "outputs": [],
   "source": [
    "# Bootstrap 10000 2 yr AUCs for test set \n",
    "n_bootstraps = 10000\n",
    "rng_seed = 42 \n",
    "bootstrapped_scores_te = []\n",
    "\n",
    "rng = np.random.RandomState(rng_seed)\n",
    "for i in range(n_bootstraps):\n",
    "    indices = rng.randint(0, len(gbm_risk_scores_te), len(gbm_risk_scores_te))\n",
    "    auc_yr = cumulative_dynamic_auc(train_y, test_y[indices], gbm_risk_scores_te[indices], 730)[0][0]\n",
    "    bootstrapped_scores_te.append(auc_yr)"
   ]
  },
  {
   "cell_type": "code",
   "execution_count": 69,
   "id": "eb0c4afe",
   "metadata": {},
   "outputs": [
    {
     "name": "stdout",
     "output_type": "stream",
     "text": [
      "Test set AUC standard error: 0.005979492426280793\n"
     ]
    }
   ],
   "source": [
    "# Standard error of mean for test set AUC\n",
    "sorted_scores_te = np.array(bootstrapped_scores_te)\n",
    "sorted_scores_te.sort()\n",
    "\n",
    "conf_lower_te = sorted_scores_te[int(0.025 * len(sorted_scores_te))]\n",
    "conf_upper_te = sorted_scores_te[int(0.975 * len(sorted_scores_te))]\n",
    "\n",
    "standard_error_te = (conf_upper_te - conf_lower_te) / 3.92\n",
    "print('Test set AUC standard error:', standard_error_te)"
   ]
  },
  {
   "cell_type": "code",
   "execution_count": 70,
   "id": "f5198098",
   "metadata": {},
   "outputs": [],
   "source": [
    "# Bootstrap 10000 2-yr AUCs for train set \n",
    "n_bootstraps = 10000\n",
    "rng_seed = 42 \n",
    "bootstrapped_scores_tr = []\n",
    "\n",
    "rng = np.random.RandomState(rng_seed)\n",
    "for i in range(n_bootstraps):\n",
    "    indices = rng.randint(0, len(gbm_risk_scores_tr), len(gbm_risk_scores_tr))\n",
    "    auc_yr = cumulative_dynamic_auc(train_y, train_y[indices], gbm_risk_scores_tr[indices], 730)[0][0]\n",
    "    bootstrapped_scores_tr.append(auc_yr)"
   ]
  },
  {
   "cell_type": "code",
   "execution_count": 71,
   "id": "67dabfff",
   "metadata": {},
   "outputs": [
    {
     "name": "stdout",
     "output_type": "stream",
     "text": [
      "Training set AUC standard error 0.0027890477538223338\n"
     ]
    }
   ],
   "source": [
    "# Standard error of mean for train set AUC\n",
    "sorted_scores_tr = np.array(bootstrapped_scores_tr)\n",
    "sorted_scores_tr.sort()\n",
    "\n",
    "conf_lower_tr = sorted_scores_tr[int(0.025 * len(sorted_scores_tr))]\n",
    "conf_upper_tr = sorted_scores_tr[int(0.975 * len(sorted_scores_tr))]\n",
    "\n",
    "standard_error_tr = (conf_upper_tr - conf_lower_tr) / 3.92\n",
    "print('Training set AUC standard error', standard_error_tr)"
   ]
  },
  {
   "cell_type": "code",
   "execution_count": 72,
   "id": "071f7766",
   "metadata": {},
   "outputs": [],
   "source": [
    "crude_auc_data = {'model': ['gbm_crude'],\n",
    "                  'auc_2yr_te': [gbm_auc_te],\n",
    "                  'sem_te': [standard_error_te],\n",
    "                  'auc_2yr_tr': [gbm_auc_tr],\n",
    "                  'sem_tr': [standard_error_tr]}\n",
    "\n",
    "crude_auc_df = pd.DataFrame(crude_auc_data)"
   ]
  },
  {
   "cell_type": "code",
   "execution_count": 73,
   "id": "0f0af58d",
   "metadata": {},
   "outputs": [
    {
     "data": {
      "text/html": [
       "<div>\n",
       "<style scoped>\n",
       "    .dataframe tbody tr th:only-of-type {\n",
       "        vertical-align: middle;\n",
       "    }\n",
       "\n",
       "    .dataframe tbody tr th {\n",
       "        vertical-align: top;\n",
       "    }\n",
       "\n",
       "    .dataframe thead th {\n",
       "        text-align: right;\n",
       "    }\n",
       "</style>\n",
       "<table border=\"1\" class=\"dataframe\">\n",
       "  <thead>\n",
       "    <tr style=\"text-align: right;\">\n",
       "      <th></th>\n",
       "      <th>model</th>\n",
       "      <th>auc_2yr_te</th>\n",
       "      <th>sem_te</th>\n",
       "      <th>auc_2yr_tr</th>\n",
       "      <th>sem_tr</th>\n",
       "    </tr>\n",
       "  </thead>\n",
       "  <tbody>\n",
       "    <tr>\n",
       "      <th>0</th>\n",
       "      <td>gbm_crude</td>\n",
       "      <td>0.817707</td>\n",
       "      <td>0.005979</td>\n",
       "      <td>0.84941</td>\n",
       "      <td>0.002789</td>\n",
       "    </tr>\n",
       "  </tbody>\n",
       "</table>\n",
       "</div>"
      ],
      "text/plain": [
       "       model  auc_2yr_te    sem_te  auc_2yr_tr    sem_tr\n",
       "0  gbm_crude    0.817707  0.005979     0.84941  0.002789"
      ]
     },
     "execution_count": 74,
     "metadata": {},
     "output_type": "execute_result"
    }
   ],
   "source": [
    "crude_auc_df"
   ]
  },
  {
   "cell_type": "code",
   "execution_count": 74,
   "id": "fa1ace4c",
   "metadata": {},
   "outputs": [],
   "source": [
    "crude_auc_df.to_csv('crude_auc_df.csv', index = False, header = True)"
   ]
  },
  {
   "cell_type": "code",
   "execution_count": 75,
   "id": "e394f1e6",
   "metadata": {},
   "outputs": [],
   "source": [
    "times = np.arange(30, 1810, 30)\n",
    "crude_gbm_auc_over5 = cumulative_dynamic_auc(train_y, test_y, gbm_risk_scores_te, times)[0]\n",
    "\n",
    "times_data = {}\n",
    "values = crude_gbm_auc_over5\n",
    "time_names = []\n",
    "\n",
    "for x in range(len(times)):\n",
    "    time_names.append('time_'+str(times[x]))\n",
    "\n",
    "for i in range(len(time_names)):\n",
    "    times_data[time_names[i]] = values[i]\n",
    "    \n",
    "crude_auc_over5 = pd.DataFrame(times_data, index = ['gbm_crude'])"
   ]
  },
  {
   "cell_type": "code",
   "execution_count": 76,
   "id": "dc5e2f00",
   "metadata": {},
   "outputs": [
    {
     "data": {
      "text/html": [
       "<div>\n",
       "<style scoped>\n",
       "    .dataframe tbody tr th:only-of-type {\n",
       "        vertical-align: middle;\n",
       "    }\n",
       "\n",
       "    .dataframe tbody tr th {\n",
       "        vertical-align: top;\n",
       "    }\n",
       "\n",
       "    .dataframe thead th {\n",
       "        text-align: right;\n",
       "    }\n",
       "</style>\n",
       "<table border=\"1\" class=\"dataframe\">\n",
       "  <thead>\n",
       "    <tr style=\"text-align: right;\">\n",
       "      <th></th>\n",
       "      <th>time_30</th>\n",
       "      <th>time_60</th>\n",
       "      <th>time_90</th>\n",
       "      <th>time_120</th>\n",
       "      <th>time_150</th>\n",
       "      <th>time_180</th>\n",
       "      <th>time_210</th>\n",
       "      <th>time_240</th>\n",
       "      <th>time_270</th>\n",
       "      <th>time_300</th>\n",
       "      <th>...</th>\n",
       "      <th>time_1530</th>\n",
       "      <th>time_1560</th>\n",
       "      <th>time_1590</th>\n",
       "      <th>time_1620</th>\n",
       "      <th>time_1650</th>\n",
       "      <th>time_1680</th>\n",
       "      <th>time_1710</th>\n",
       "      <th>time_1740</th>\n",
       "      <th>time_1770</th>\n",
       "      <th>time_1800</th>\n",
       "    </tr>\n",
       "  </thead>\n",
       "  <tbody>\n",
       "    <tr>\n",
       "      <th>gbm_crude</th>\n",
       "      <td>0.865653</td>\n",
       "      <td>0.88424</td>\n",
       "      <td>0.866949</td>\n",
       "      <td>0.865569</td>\n",
       "      <td>0.861561</td>\n",
       "      <td>0.852376</td>\n",
       "      <td>0.85285</td>\n",
       "      <td>0.850731</td>\n",
       "      <td>0.851161</td>\n",
       "      <td>0.849431</td>\n",
       "      <td>...</td>\n",
       "      <td>0.782725</td>\n",
       "      <td>0.779661</td>\n",
       "      <td>0.781463</td>\n",
       "      <td>0.781015</td>\n",
       "      <td>0.77931</td>\n",
       "      <td>0.779304</td>\n",
       "      <td>0.777667</td>\n",
       "      <td>0.776433</td>\n",
       "      <td>0.776933</td>\n",
       "      <td>0.776247</td>\n",
       "    </tr>\n",
       "  </tbody>\n",
       "</table>\n",
       "<p>1 rows × 60 columns</p>\n",
       "</div>"
      ],
      "text/plain": [
       "            time_30  time_60   time_90  time_120  time_150  time_180  \\\n",
       "gbm_crude  0.865653  0.88424  0.866949  0.865569  0.861561  0.852376   \n",
       "\n",
       "           time_210  time_240  time_270  time_300  ...  time_1530  time_1560  \\\n",
       "gbm_crude   0.85285  0.850731  0.851161  0.849431  ...   0.782725   0.779661   \n",
       "\n",
       "           time_1590  time_1620  time_1650  time_1680  time_1710  time_1740  \\\n",
       "gbm_crude   0.781463   0.781015    0.77931   0.779304   0.777667   0.776433   \n",
       "\n",
       "           time_1770  time_1800  \n",
       "gbm_crude   0.776933   0.776247  \n",
       "\n",
       "[1 rows x 60 columns]"
      ]
     },
     "execution_count": 77,
     "metadata": {},
     "output_type": "execute_result"
    }
   ],
   "source": [
    "crude_auc_over5"
   ]
  },
  {
   "cell_type": "code",
   "execution_count": 77,
   "id": "96d7e8e2",
   "metadata": {},
   "outputs": [],
   "source": [
    "crude_auc_over5.to_csv('crude_auc_over5.csv', index = True, header = True)"
   ]
  },
  {
   "cell_type": "code",
   "execution_count": 78,
   "id": "1488f41e",
   "metadata": {},
   "outputs": [],
   "source": [
    "# Variables passing through pipeline\n",
    "cat_encoder = list(preprocessor_red.transformers_[1][1].get_feature_names(categorical_features))\n",
    "pass_through = list(train_x_red.iloc[:, preprocessor_red.transformers_[2][2]].columns)\n",
    "attributes_gbm = numerical_features_red + cat_encoder + pass_through"
   ]
  },
  {
   "cell_type": "code",
   "execution_count": 79,
   "id": "55313b37",
   "metadata": {},
   "outputs": [
    {
     "name": "stdout",
     "output_type": "stream",
     "text": [
      "Total number of features: 195\n",
      "Number of non-zero features in final model: 190\n"
     ]
    },
    {
     "data": {
      "image/png": "[encoded data removed]",
      "text/plain": [
       "<Figure size 432x576 with 1 Axes>"
      ]
     },
     "metadata": {
      "needs_background": "light"
     },
     "output_type": "display_data"
    }
   ],
   "source": [
    "# Dataframe of coefficients for each variable \n",
    "coefficients_gbm = pd.DataFrame(\n",
    "    gbm_crude.named_steps['gradientboostingsurvivalanalysis'].feature_importances_,\n",
    "    index = attributes_gbm,\n",
    "    columns = ['coefficient']\n",
    ")\n",
    "\n",
    "print('Total number of features: {}'.format(len(attributes_gbm)))\n",
    "\n",
    "non_zero = np.sum(coefficients_gbm.iloc[:, 0] != 0)\n",
    "print('Number of non-zero features in final model: {}'.format(non_zero))\n",
    "\n",
    "non_zero_coefs = coefficients_gbm.query('coefficient != 0')\n",
    "coef_order = non_zero_coefs.abs().sort_values('coefficient').tail(30).index\n",
    "\n",
    "_, ax = plt.subplots(figsize=(6, 8))\n",
    "non_zero_coefs.loc[coef_order].plot.barh(ax = ax, legend = False)\n",
    "ax.set_xlabel('coefficient')\n",
    "ax.grid(True)"
   ]
  },
  {
   "cell_type": "markdown",
   "id": "d103ba6f",
   "metadata": {},
   "source": [
    "## 3 Random survival forest model"
   ]
  },
  {
   "cell_type": "code",
   "execution_count": 80,
   "id": "7693e132",
   "metadata": {},
   "outputs": [],
   "source": [
    "from sklearn.experimental import enable_halving_search_cv\n",
    "from sklearn.model_selection import StratifiedKFold, HalvingRandomSearchCV\n",
    "from sklearn.pipeline import make_pipeline\n",
    "\n",
    "from sksurv.metrics import cumulative_dynamic_auc, as_cumulative_dynamic_auc_scorer\n",
    "\n",
    "from sksurv.ensemble import RandomSurvivalForest\n",
    "\n",
    "from joblib import dump, load \n",
    "\n",
    "import warnings "
   ]
  },
  {
   "cell_type": "markdown",
   "id": "45050112",
   "metadata": {},
   "source": [
    "**Similar to the gradient boosting survival model, the random survival model will first be configured by determining ideal number of trees using early stopping. Unlike the gradient boosting survival model, performance of the test set should not decrease with additional trees, so the main consideration is ensuring sufficiently high number of trees to achieve optimal test performance while minimzing computational time (ie., not building unnecessary number of trees). Once the ideal tree number is identified, a halving grid search with 3-fold cross validation will be performed to tune hyperparameters, though random forest models typically have excellent out-of-the-box performance so tuning will be cursory.**  "
   ]
  },
  {
   "cell_type": "markdown",
   "id": "ee3fcfa6",
   "metadata": {},
   "source": [
    "### 3.1 Number of trees "
   ]
  },
  {
   "cell_type": "code",
   "execution_count": 81,
   "id": "f2f6bdd1",
   "metadata": {},
   "outputs": [],
   "source": [
    "# Create function that adds tree one at a time, calculates AUC at 1-yr on validation set, \n",
    "# and breaks once validation AUC decreases 5 times in a row\n",
    "\n",
    "rsf = RandomSurvivalForest(min_samples_leaf = 10,\n",
    "                           max_features = 0.333,\n",
    "                           warm_start = True,\n",
    "                           verbose = 0,\n",
    "                           random_state = 42)\n",
    "\n",
    "sub_train_xt_red = preprocessor_red.fit_transform(sub_train_x_red)\n",
    "val_xt_red = preprocessor_red.transform(val_x_red)\n",
    "\n",
    "max_yr_auc = 0\n",
    "error_going_up = 0\n",
    "\n",
    "for n_estimators in range(1, 1000): \n",
    "    rsf.n_estimators = n_estimators\n",
    "    rsf.fit(sub_train_xt_red, sub_train_y)\n",
    "    \n",
    "    rsf_chf_funcs = rsf.predict_cumulative_hazard_function(val_xt_red)\n",
    "    rsf_risk_scores = np.row_stack([chf(730) for chf in rsf_chf_funcs])\n",
    "    rsf_yr_auc = cumulative_dynamic_auc(sub_train_y, val_y, rsf_risk_scores, 730)[0][0]\n",
    "    \n",
    "    if rsf_yr_auc > max_yr_auc:\n",
    "        max_yr_auc = rsf_yr_auc\n",
    "        error_going_up = 0\n",
    "    else:\n",
    "        error_going_up += 1\n",
    "        if error_going_up == 5:\n",
    "            break"
   ]
  },
  {
   "cell_type": "code",
   "execution_count": 82,
   "id": "1f577610",
   "metadata": {},
   "outputs": [
    {
     "name": "stdout",
     "output_type": "stream",
     "text": [
      "Ideal number of trees: 39\n",
      "Validation set AUC at 2 years with ideal tree number: 0.79071\n"
     ]
    }
   ],
   "source": [
    "rsf_chf_funcs = rsf.predict_cumulative_hazard_function(val_xt_red)\n",
    "rsf_risk_scores = np.row_stack([chf(730) for chf in rsf_chf_funcs])\n",
    "rsf_yr_auc = cumulative_dynamic_auc(sub_train_y, val_y, rsf_risk_scores, 730)[0][0]\n",
    "\n",
    "print('Ideal number of trees:', rsf.n_estimators)\n",
    "print('Validation set AUC at 2 years with ideal tree number:', round(rsf_yr_auc, 5))"
   ]
  },
  {
   "cell_type": "markdown",
   "id": "875b8492",
   "metadata": {},
   "source": [
    "### 3.2 Hyperparameter tuning "
   ]
  },
  {
   "cell_type": "markdown",
   "id": "b74c214b",
   "metadata": {},
   "source": [
    "**Fifty trees will likely be enough to ensure optimal AUC performance. Next, we'll perform a grid search to tune hyperparameters. The hyperparamter with the largest impact on performance other than tree number is the number of features considered at any given split (ie., max_features). (Side note: if the number of features considered at each split includes all features (ie., max_features = 1) then the algrorithm will be equivalent to bagging decision trees.) Tree complexity, specifically number of samples in leaf nodes, will also be tuned in the grid search, though its impact on performance is likely marginal in comparison to number of trees or number of features considered at each split.** "
   ]
  },
  {
   "cell_type": "code",
   "execution_count": 83,
   "id": "f2bf34f0",
   "metadata": {},
   "outputs": [
    {
     "data": {
      "text/plain": [
       "['estimator',\n",
       " 'estimator__columntransformer',\n",
       " 'estimator__columntransformer__cat',\n",
       " 'estimator__columntransformer__cat__categories',\n",
       " 'estimator__columntransformer__cat__drop',\n",
       " 'estimator__columntransformer__cat__dtype',\n",
       " 'estimator__columntransformer__cat__handle_unknown',\n",
       " 'estimator__columntransformer__cat__sparse',\n",
       " 'estimator__columntransformer__n_jobs',\n",
       " 'estimator__columntransformer__num',\n",
       " 'estimator__columntransformer__num__imputer',\n",
       " 'estimator__columntransformer__num__imputer__add_indicator',\n",
       " 'estimator__columntransformer__num__imputer__copy',\n",
       " 'estimator__columntransformer__num__imputer__fill_value',\n",
       " 'estimator__columntransformer__num__imputer__missing_values',\n",
       " 'estimator__columntransformer__num__imputer__strategy',\n",
       " 'estimator__columntransformer__num__imputer__verbose',\n",
       " 'estimator__columntransformer__num__memory',\n",
       " 'estimator__columntransformer__num__std_scaler',\n",
       " 'estimator__columntransformer__num__std_scaler__copy',\n",
       " 'estimator__columntransformer__num__std_scaler__with_mean',\n",
       " 'estimator__columntransformer__num__std_scaler__with_std',\n",
       " 'estimator__columntransformer__num__steps',\n",
       " 'estimator__columntransformer__num__verbose',\n",
       " 'estimator__columntransformer__remainder',\n",
       " 'estimator__columntransformer__sparse_threshold',\n",
       " 'estimator__columntransformer__transformer_weights',\n",
       " 'estimator__columntransformer__transformers',\n",
       " 'estimator__columntransformer__verbose',\n",
       " 'estimator__columntransformer__verbose_feature_names_out',\n",
       " 'estimator__memory',\n",
       " 'estimator__randomsurvivalforest',\n",
       " 'estimator__randomsurvivalforest__bootstrap',\n",
       " 'estimator__randomsurvivalforest__max_depth',\n",
       " 'estimator__randomsurvivalforest__max_features',\n",
       " 'estimator__randomsurvivalforest__max_leaf_nodes',\n",
       " 'estimator__randomsurvivalforest__max_samples',\n",
       " 'estimator__randomsurvivalforest__min_samples_leaf',\n",
       " 'estimator__randomsurvivalforest__min_samples_split',\n",
       " 'estimator__randomsurvivalforest__min_weight_fraction_leaf',\n",
       " 'estimator__randomsurvivalforest__n_estimators',\n",
       " 'estimator__randomsurvivalforest__n_jobs',\n",
       " 'estimator__randomsurvivalforest__oob_score',\n",
       " 'estimator__randomsurvivalforest__random_state',\n",
       " 'estimator__randomsurvivalforest__verbose',\n",
       " 'estimator__randomsurvivalforest__warm_start',\n",
       " 'estimator__steps',\n",
       " 'estimator__verbose',\n",
       " 'tied_tol',\n",
       " 'times']"
      ]
     },
     "execution_count": 84,
     "metadata": {},
     "output_type": "execute_result"
    }
   ],
   "source": [
    "# Find all pipe item unique keys \n",
    "pipe = make_pipeline(preprocessor_red, RandomSurvivalForest(n_estimators = 50,\n",
    "                                                            verbose = 0,\n",
    "                                                            random_state = 42))\n",
    "\n",
    "estimator = as_cumulative_dynamic_auc_scorer(pipe, times = [730])\n",
    "\n",
    "sorted(estimator.get_params().keys())"
   ]
  },
  {
   "cell_type": "code",
   "execution_count": 84,
   "id": "3f2f71ba",
   "metadata": {},
   "outputs": [
    {
     "name": "stdout",
     "output_type": "stream",
     "text": [
      "n_iterations: 3\n",
      "n_required_iterations: 3\n",
      "n_possible_iterations: 3\n",
      "min_resources_: 2500\n",
      "max_resources_: 25341\n",
      "aggressive_elimination: False\n",
      "factor: 3\n",
      "----------\n",
      "iter: 0\n",
      "n_candidates: 10\n",
      "n_resources: 2500\n",
      "Fitting 3 folds for each of 10 candidates, totalling 30 fits\n",
      "----------\n",
      "iter: 1\n",
      "n_candidates: 4\n",
      "n_resources: 7500\n",
      "Fitting 3 folds for each of 4 candidates, totalling 12 fits\n",
      "----------\n",
      "iter: 2\n",
      "n_candidates: 2\n",
      "n_resources: 22500\n",
      "Fitting 3 folds for each of 2 candidates, totalling 6 fits\n"
     ]
    },
    {
     "data": {
      "text/plain": [
       "HalvingRandomSearchCV(cv=StratifiedKFold(n_splits=3, random_state=42, shuffle=True),\n",
       "                      estimator=as_cumulative_dynamic_auc_scorer(estimator=Pipeline(steps=[('columntransformer',\n",
       "                                                                                            ColumnTransformer(remainder='passthrough',\n",
       "                                                                                                              transformers=[('num',\n",
       "                                                                                                                             Pipeline(steps=[('imputer',\n",
       "                                                                                                                                              SimpleImputer(strategy='median')),\n",
       "                                                                                                                                             ('std_scaler',\n",
       "                                                                                                                                              StandardScaler())]),\n",
       "                                                                                                                             ['age',\n",
       "                                                                                                                              'delta_met_di...\n",
       "                                                                                                                              'pdl1_n',\n",
       "                                                                                                                              'ecog_diagnosis',\n",
       "                                                                                                                              'ses'])])),\n",
       "                                                                                           ('randomsurvivalforest',\n",
       "                                                                                            RandomSurvivalForest(n_estimators=50,\n",
       "                                                                                                                 random_state=42))]),\n",
       "                                                                 times=730),\n",
       "                      min_resources=2500, n_jobs=-1,\n",
       "                      param_distributions={'estimator__randomsurvivalforest__max_features': [0.01,\n",
       "                                                                                             0.05,\n",
       "                                                                                             0.1,\n",
       "                                                                                             0.333],\n",
       "                                           'estimator__randomsurvivalforest__min_samples_leaf': [5,\n",
       "                                                                                                 10,\n",
       "                                                                                                 15]},\n",
       "                      random_state=42, refit=False, verbose=1)"
      ]
     },
     "execution_count": 85,
     "metadata": {},
     "output_type": "execute_result"
    }
   ],
   "source": [
    "pipe = make_pipeline(preprocessor_red, RandomSurvivalForest(n_estimators = 50,\n",
    "                                                            verbose = 0,\n",
    "                                                            random_state = 42))\n",
    "\n",
    "# 3 fold cross-validation\n",
    "cv = StratifiedKFold(n_splits = 3, shuffle = True, random_state = 42)\n",
    "\n",
    "# Parameter gird \n",
    "param_grid = {'estimator__randomsurvivalforest__max_features': [0.01, 0.05, 0.1, 0.333], \n",
    "              'estimator__randomsurvivalforest__min_samples_leaf': [5, 10, 15]}\n",
    "\n",
    "rsf_search = HalvingRandomSearchCV(\n",
    "    as_cumulative_dynamic_auc_scorer(pipe, 730),\n",
    "    param_distributions = param_grid,\n",
    "    cv = cv,\n",
    "    factor = 3,\n",
    "    resource = 'n_samples',\n",
    "    min_resources = 2500,\n",
    "    refit = False,\n",
    "    verbose = 1,\n",
    "    random_state = 42,\n",
    "    n_jobs = -1)\n",
    "\n",
    "# Run search \n",
    "warnings.filterwarnings('ignore')\n",
    "rsf_search.fit(train_x_red, train_y)"
   ]
  },
  {
   "cell_type": "code",
   "execution_count": 85,
   "id": "155af85e",
   "metadata": {},
   "outputs": [
    {
     "data": {
      "text/plain": [
       "{'estimator__randomsurvivalforest__min_samples_leaf': 10,\n",
       " 'estimator__randomsurvivalforest__max_features': 0.333}"
      ]
     },
     "execution_count": 86,
     "metadata": {},
     "output_type": "execute_result"
    }
   ],
   "source": [
    "rsf_search.best_params_"
   ]
  },
  {
   "cell_type": "code",
   "execution_count": 86,
   "id": "8be2255b",
   "metadata": {},
   "outputs": [],
   "source": [
    "rsf_search_results = pd.DataFrame(rsf_search.cv_results_)"
   ]
  },
  {
   "cell_type": "code",
   "execution_count": 87,
   "id": "fa19f50b",
   "metadata": {},
   "outputs": [
    {
     "data": {
      "text/html": [
       "<div>\n",
       "<style scoped>\n",
       "    .dataframe tbody tr th:only-of-type {\n",
       "        vertical-align: middle;\n",
       "    }\n",
       "\n",
       "    .dataframe tbody tr th {\n",
       "        vertical-align: top;\n",
       "    }\n",
       "\n",
       "    .dataframe thead th {\n",
       "        text-align: right;\n",
       "    }\n",
       "</style>\n",
       "<table border=\"1\" class=\"dataframe\">\n",
       "  <thead>\n",
       "    <tr style=\"text-align: right;\">\n",
       "      <th></th>\n",
       "      <th>iter</th>\n",
       "      <th>n_resources</th>\n",
       "      <th>mean_fit_time</th>\n",
       "      <th>std_fit_time</th>\n",
       "      <th>mean_score_time</th>\n",
       "      <th>std_score_time</th>\n",
       "      <th>param_estimator__randomsurvivalforest__min_samples_leaf</th>\n",
       "      <th>param_estimator__randomsurvivalforest__max_features</th>\n",
       "      <th>params</th>\n",
       "      <th>split0_test_score</th>\n",
       "      <th>split1_test_score</th>\n",
       "      <th>split2_test_score</th>\n",
       "      <th>mean_test_score</th>\n",
       "      <th>std_test_score</th>\n",
       "      <th>rank_test_score</th>\n",
       "      <th>split0_train_score</th>\n",
       "      <th>split1_train_score</th>\n",
       "      <th>split2_train_score</th>\n",
       "      <th>mean_train_score</th>\n",
       "      <th>std_train_score</th>\n",
       "    </tr>\n",
       "  </thead>\n",
       "  <tbody>\n",
       "    <tr>\n",
       "      <th>14</th>\n",
       "      <td>2</td>\n",
       "      <td>22500</td>\n",
       "      <td>1329.249230</td>\n",
       "      <td>20.281179</td>\n",
       "      <td>6.801291</td>\n",
       "      <td>0.535094</td>\n",
       "      <td>10</td>\n",
       "      <td>0.333</td>\n",
       "      <td>{'estimator__randomsurvivalforest__min_samples...</td>\n",
       "      <td>0.788833</td>\n",
       "      <td>0.788613</td>\n",
       "      <td>0.784460</td>\n",
       "      <td>0.787302</td>\n",
       "      <td>0.002012</td>\n",
       "      <td>1</td>\n",
       "      <td>0.905246</td>\n",
       "      <td>0.902261</td>\n",
       "      <td>0.899808</td>\n",
       "      <td>0.902438</td>\n",
       "      <td>0.002224</td>\n",
       "    </tr>\n",
       "    <tr>\n",
       "      <th>15</th>\n",
       "      <td>2</td>\n",
       "      <td>22500</td>\n",
       "      <td>1845.729831</td>\n",
       "      <td>50.307809</td>\n",
       "      <td>6.399223</td>\n",
       "      <td>0.876628</td>\n",
       "      <td>5</td>\n",
       "      <td>0.333</td>\n",
       "      <td>{'estimator__randomsurvivalforest__min_samples...</td>\n",
       "      <td>0.787979</td>\n",
       "      <td>0.789559</td>\n",
       "      <td>0.784057</td>\n",
       "      <td>0.787198</td>\n",
       "      <td>0.002313</td>\n",
       "      <td>2</td>\n",
       "      <td>0.943263</td>\n",
       "      <td>0.939504</td>\n",
       "      <td>0.939331</td>\n",
       "      <td>0.940699</td>\n",
       "      <td>0.001814</td>\n",
       "    </tr>\n",
       "    <tr>\n",
       "      <th>12</th>\n",
       "      <td>1</td>\n",
       "      <td>7500</td>\n",
       "      <td>380.596397</td>\n",
       "      <td>75.363405</td>\n",
       "      <td>0.698645</td>\n",
       "      <td>0.262590</td>\n",
       "      <td>5</td>\n",
       "      <td>0.333</td>\n",
       "      <td>{'estimator__randomsurvivalforest__min_samples...</td>\n",
       "      <td>0.776923</td>\n",
       "      <td>0.777472</td>\n",
       "      <td>0.764930</td>\n",
       "      <td>0.773108</td>\n",
       "      <td>0.005788</td>\n",
       "      <td>3</td>\n",
       "      <td>0.942027</td>\n",
       "      <td>0.942488</td>\n",
       "      <td>0.942380</td>\n",
       "      <td>0.942298</td>\n",
       "      <td>0.000197</td>\n",
       "    </tr>\n",
       "    <tr>\n",
       "      <th>10</th>\n",
       "      <td>1</td>\n",
       "      <td>7500</td>\n",
       "      <td>369.588138</td>\n",
       "      <td>11.387661</td>\n",
       "      <td>0.733242</td>\n",
       "      <td>0.139430</td>\n",
       "      <td>10</td>\n",
       "      <td>0.333</td>\n",
       "      <td>{'estimator__randomsurvivalforest__min_samples...</td>\n",
       "      <td>0.779009</td>\n",
       "      <td>0.772949</td>\n",
       "      <td>0.766991</td>\n",
       "      <td>0.772983</td>\n",
       "      <td>0.004906</td>\n",
       "      <td>4</td>\n",
       "      <td>0.900964</td>\n",
       "      <td>0.900307</td>\n",
       "      <td>0.900870</td>\n",
       "      <td>0.900714</td>\n",
       "      <td>0.000290</td>\n",
       "    </tr>\n",
       "    <tr>\n",
       "      <th>11</th>\n",
       "      <td>1</td>\n",
       "      <td>7500</td>\n",
       "      <td>336.265016</td>\n",
       "      <td>11.529560</td>\n",
       "      <td>0.607661</td>\n",
       "      <td>0.114647</td>\n",
       "      <td>15</td>\n",
       "      <td>0.333</td>\n",
       "      <td>{'estimator__randomsurvivalforest__min_samples...</td>\n",
       "      <td>0.780065</td>\n",
       "      <td>0.773982</td>\n",
       "      <td>0.764676</td>\n",
       "      <td>0.772908</td>\n",
       "      <td>0.006329</td>\n",
       "      <td>5</td>\n",
       "      <td>0.872273</td>\n",
       "      <td>0.874141</td>\n",
       "      <td>0.870902</td>\n",
       "      <td>0.872438</td>\n",
       "      <td>0.001327</td>\n",
       "    </tr>\n",
       "    <tr>\n",
       "      <th>13</th>\n",
       "      <td>1</td>\n",
       "      <td>7500</td>\n",
       "      <td>83.137862</td>\n",
       "      <td>3.904782</td>\n",
       "      <td>0.388084</td>\n",
       "      <td>0.013414</td>\n",
       "      <td>10</td>\n",
       "      <td>0.1</td>\n",
       "      <td>{'estimator__randomsurvivalforest__min_samples...</td>\n",
       "      <td>0.778806</td>\n",
       "      <td>0.772869</td>\n",
       "      <td>0.762436</td>\n",
       "      <td>0.771370</td>\n",
       "      <td>0.006766</td>\n",
       "      <td>6</td>\n",
       "      <td>0.885692</td>\n",
       "      <td>0.883168</td>\n",
       "      <td>0.883559</td>\n",
       "      <td>0.884140</td>\n",
       "      <td>0.001109</td>\n",
       "    </tr>\n",
       "    <tr>\n",
       "      <th>9</th>\n",
       "      <td>0</td>\n",
       "      <td>2500</td>\n",
       "      <td>11.913158</td>\n",
       "      <td>2.136422</td>\n",
       "      <td>0.072169</td>\n",
       "      <td>0.017523</td>\n",
       "      <td>10</td>\n",
       "      <td>0.1</td>\n",
       "      <td>{'estimator__randomsurvivalforest__min_samples...</td>\n",
       "      <td>0.782523</td>\n",
       "      <td>0.745077</td>\n",
       "      <td>0.763831</td>\n",
       "      <td>0.763810</td>\n",
       "      <td>0.015287</td>\n",
       "      <td>7</td>\n",
       "      <td>0.876896</td>\n",
       "      <td>0.883580</td>\n",
       "      <td>0.889802</td>\n",
       "      <td>0.883426</td>\n",
       "      <td>0.005270</td>\n",
       "    </tr>\n",
       "    <tr>\n",
       "      <th>1</th>\n",
       "      <td>0</td>\n",
       "      <td>2500</td>\n",
       "      <td>73.607443</td>\n",
       "      <td>2.251551</td>\n",
       "      <td>0.247009</td>\n",
       "      <td>0.077857</td>\n",
       "      <td>5</td>\n",
       "      <td>0.333</td>\n",
       "      <td>{'estimator__randomsurvivalforest__min_samples...</td>\n",
       "      <td>0.777285</td>\n",
       "      <td>0.746701</td>\n",
       "      <td>0.765332</td>\n",
       "      <td>0.763106</td>\n",
       "      <td>0.012585</td>\n",
       "      <td>8</td>\n",
       "      <td>0.942247</td>\n",
       "      <td>0.942180</td>\n",
       "      <td>0.946137</td>\n",
       "      <td>0.943521</td>\n",
       "      <td>0.001850</td>\n",
       "    </tr>\n",
       "    <tr>\n",
       "      <th>7</th>\n",
       "      <td>0</td>\n",
       "      <td>2500</td>\n",
       "      <td>39.848509</td>\n",
       "      <td>4.596830</td>\n",
       "      <td>0.086718</td>\n",
       "      <td>0.017441</td>\n",
       "      <td>15</td>\n",
       "      <td>0.333</td>\n",
       "      <td>{'estimator__randomsurvivalforest__min_samples...</td>\n",
       "      <td>0.770805</td>\n",
       "      <td>0.745082</td>\n",
       "      <td>0.766792</td>\n",
       "      <td>0.760893</td>\n",
       "      <td>0.011299</td>\n",
       "      <td>9</td>\n",
       "      <td>0.865916</td>\n",
       "      <td>0.868675</td>\n",
       "      <td>0.874930</td>\n",
       "      <td>0.869840</td>\n",
       "      <td>0.003771</td>\n",
       "    </tr>\n",
       "    <tr>\n",
       "      <th>0</th>\n",
       "      <td>0</td>\n",
       "      <td>2500</td>\n",
       "      <td>51.740884</td>\n",
       "      <td>1.156365</td>\n",
       "      <td>0.177897</td>\n",
       "      <td>0.025526</td>\n",
       "      <td>10</td>\n",
       "      <td>0.333</td>\n",
       "      <td>{'estimator__randomsurvivalforest__min_samples...</td>\n",
       "      <td>0.774447</td>\n",
       "      <td>0.745614</td>\n",
       "      <td>0.762433</td>\n",
       "      <td>0.760831</td>\n",
       "      <td>0.011825</td>\n",
       "      <td>10</td>\n",
       "      <td>0.896725</td>\n",
       "      <td>0.897317</td>\n",
       "      <td>0.903427</td>\n",
       "      <td>0.899156</td>\n",
       "      <td>0.003030</td>\n",
       "    </tr>\n",
       "  </tbody>\n",
       "</table>\n",
       "</div>"
      ],
      "text/plain": [
       "    iter  n_resources  mean_fit_time  std_fit_time  mean_score_time  \\\n",
       "14     2        22500    1329.249230     20.281179         6.801291   \n",
       "15     2        22500    1845.729831     50.307809         6.399223   \n",
       "12     1         7500     380.596397     75.363405         0.698645   \n",
       "10     1         7500     369.588138     11.387661         0.733242   \n",
       "11     1         7500     336.265016     11.529560         0.607661   \n",
       "13     1         7500      83.137862      3.904782         0.388084   \n",
       "9      0         2500      11.913158      2.136422         0.072169   \n",
       "1      0         2500      73.607443      2.251551         0.247009   \n",
       "7      0         2500      39.848509      4.596830         0.086718   \n",
       "0      0         2500      51.740884      1.156365         0.177897   \n",
       "\n",
       "    std_score_time param_estimator__randomsurvivalforest__min_samples_leaf  \\\n",
       "14        0.535094                                                 10        \n",
       "15        0.876628                                                  5        \n",
       "12        0.262590                                                  5        \n",
       "10        0.139430                                                 10        \n",
       "11        0.114647                                                 15        \n",
       "13        0.013414                                                 10        \n",
       "9         0.017523                                                 10        \n",
       "1         0.077857                                                  5        \n",
       "7         0.017441                                                 15        \n",
       "0         0.025526                                                 10        \n",
       "\n",
       "   param_estimator__randomsurvivalforest__max_features  \\\n",
       "14                                              0.333    \n",
       "15                                              0.333    \n",
       "12                                              0.333    \n",
       "10                                              0.333    \n",
       "11                                              0.333    \n",
       "13                                                0.1    \n",
       "9                                                 0.1    \n",
       "1                                               0.333    \n",
       "7                                               0.333    \n",
       "0                                               0.333    \n",
       "\n",
       "                                               params  split0_test_score  \\\n",
       "14  {'estimator__randomsurvivalforest__min_samples...           0.788833   \n",
       "15  {'estimator__randomsurvivalforest__min_samples...           0.787979   \n",
       "12  {'estimator__randomsurvivalforest__min_samples...           0.776923   \n",
       "10  {'estimator__randomsurvivalforest__min_samples...           0.779009   \n",
       "11  {'estimator__randomsurvivalforest__min_samples...           0.780065   \n",
       "13  {'estimator__randomsurvivalforest__min_samples...           0.778806   \n",
       "9   {'estimator__randomsurvivalforest__min_samples...           0.782523   \n",
       "1   {'estimator__randomsurvivalforest__min_samples...           0.777285   \n",
       "7   {'estimator__randomsurvivalforest__min_samples...           0.770805   \n",
       "0   {'estimator__randomsurvivalforest__min_samples...           0.774447   \n",
       "\n",
       "    split1_test_score  split2_test_score  mean_test_score  std_test_score  \\\n",
       "14           0.788613           0.784460         0.787302        0.002012   \n",
       "15           0.789559           0.784057         0.787198        0.002313   \n",
       "12           0.777472           0.764930         0.773108        0.005788   \n",
       "10           0.772949           0.766991         0.772983        0.004906   \n",
       "11           0.773982           0.764676         0.772908        0.006329   \n",
       "13           0.772869           0.762436         0.771370        0.006766   \n",
       "9            0.745077           0.763831         0.763810        0.015287   \n",
       "1            0.746701           0.765332         0.763106        0.012585   \n",
       "7            0.745082           0.766792         0.760893        0.011299   \n",
       "0            0.745614           0.762433         0.760831        0.011825   \n",
       "\n",
       "    rank_test_score  split0_train_score  split1_train_score  \\\n",
       "14                1            0.905246            0.902261   \n",
       "15                2            0.943263            0.939504   \n",
       "12                3            0.942027            0.942488   \n",
       "10                4            0.900964            0.900307   \n",
       "11                5            0.872273            0.874141   \n",
       "13                6            0.885692            0.883168   \n",
       "9                 7            0.876896            0.883580   \n",
       "1                 8            0.942247            0.942180   \n",
       "7                 9            0.865916            0.868675   \n",
       "0                10            0.896725            0.897317   \n",
       "\n",
       "    split2_train_score  mean_train_score  std_train_score  \n",
       "14            0.899808          0.902438         0.002224  \n",
       "15            0.939331          0.940699         0.001814  \n",
       "12            0.942380          0.942298         0.000197  \n",
       "10            0.900870          0.900714         0.000290  \n",
       "11            0.870902          0.872438         0.001327  \n",
       "13            0.883559          0.884140         0.001109  \n",
       "9             0.889802          0.883426         0.005270  \n",
       "1             0.946137          0.943521         0.001850  \n",
       "7             0.874930          0.869840         0.003771  \n",
       "0             0.903427          0.899156         0.003030  "
      ]
     },
     "execution_count": 88,
     "metadata": {},
     "output_type": "execute_result"
    }
   ],
   "source": [
    "rsf_search_results.sort_values(by = 'rank_test_score').head(10)"
   ]
  },
  {
   "cell_type": "markdown",
   "id": "23b0cc48",
   "metadata": {},
   "source": [
    "### 3.3 Building model and assessing performance"
   ]
  },
  {
   "cell_type": "code",
   "execution_count": 88,
   "id": "25126fce",
   "metadata": {},
   "outputs": [
    {
     "data": {
      "text/plain": [
       "Pipeline(steps=[('columntransformer',\n",
       "                 ColumnTransformer(remainder='passthrough',\n",
       "                                   transformers=[('num',\n",
       "                                                  Pipeline(steps=[('imputer',\n",
       "                                                                   SimpleImputer(strategy='median')),\n",
       "                                                                  ('std_scaler',\n",
       "                                                                   StandardScaler())]),\n",
       "                                                  ['age', 'delta_met_diagnosis',\n",
       "                                                   'weight_diag', 'bmi_diag',\n",
       "                                                   'weight_pct_change',\n",
       "                                                   'weight_slope',\n",
       "                                                   'albumin_diag', 'alp_diag',\n",
       "                                                   'alt_diag', 'ast_diag',\n",
       "                                                   'bicarb_diag', 'bun...\n",
       "                                                   'total_bilirubin_max',\n",
       "                                                   'wbc_max', 'albumin_min', ...]),\n",
       "                                                 ('cat',\n",
       "                                                  OneHotEncoder(handle_unknown='ignore'),\n",
       "                                                  ['gender', 'race',\n",
       "                                                   'ethnicity', 'p_type',\n",
       "                                                   'region', 'stage',\n",
       "                                                   'met_year', 'ER', 'HER2',\n",
       "                                                   'PR', 'BRCA', 'PIK3CA',\n",
       "                                                   'pdl1_n', 'ecog_diagnosis',\n",
       "                                                   'ses'])])),\n",
       "                ('randomsurvivalforest',\n",
       "                 RandomSurvivalForest(max_features=0.333, min_samples_leaf=10,\n",
       "                                      n_estimators=50, n_jobs=-1,\n",
       "                                      random_state=42))])"
      ]
     },
     "execution_count": 89,
     "metadata": {},
     "output_type": "execute_result"
    }
   ],
   "source": [
    "rsf = make_pipeline(preprocessor_red, RandomSurvivalForest(n_estimators = 50,\n",
    "                                                           max_features = 0.333, \n",
    "                                                           min_samples_leaf = 10,\n",
    "                                                           n_jobs = -1,\n",
    "                                                           verbose = 0,\n",
    "                                                           random_state = 42))\n",
    "\n",
    "rsf.fit(train_x_red, train_y)"
   ]
  },
  {
   "cell_type": "code",
   "execution_count": 89,
   "id": "5c31cc2e",
   "metadata": {},
   "outputs": [
    {
     "name": "stdout",
     "output_type": "stream",
     "text": [
      "Test set AUC at 2 years: 0.7976195556270368\n"
     ]
    }
   ],
   "source": [
    "rsf_chf_funcs_te = rsf.predict_cumulative_hazard_function(test_x_red)\n",
    "rsf_risk_scores_te = np.row_stack([chf(730) for chf in rsf_chf_funcs_te])\n",
    "rsf_auc_te = cumulative_dynamic_auc(train_y, test_y, rsf_risk_scores_te, 730)[0][0]\n",
    "print('Test set AUC at 2 years:', rsf_auc_te)"
   ]
  },
  {
   "cell_type": "code",
   "execution_count": 90,
   "id": "d45a1491",
   "metadata": {},
   "outputs": [
    {
     "name": "stdout",
     "output_type": "stream",
     "text": [
      "Training set AUC at 2 years: 0.9168182206898802\n"
     ]
    }
   ],
   "source": [
    "rsf_chf_funcs_tr = rsf.predict_cumulative_hazard_function(train_x_red)\n",
    "rsf_risk_scores_tr = np.row_stack([chf(730) for chf in rsf_chf_funcs_tr])\n",
    "rsf_auc_tr = cumulative_dynamic_auc(train_y, train_y, rsf_risk_scores_tr, 730)[0][0]\n",
    "print('Training set AUC at 2 years:', rsf_auc_tr)"
   ]
  },
  {
   "cell_type": "code",
   "execution_count": 91,
   "id": "f6703658",
   "metadata": {},
   "outputs": [],
   "source": [
    "# Bootstrap 10000 2 yr AUCs for test set \n",
    "n_bootstraps = 10000\n",
    "rng_seed = 42 \n",
    "bootstrapped_scores_te = []\n",
    "\n",
    "rng = np.random.RandomState(rng_seed)\n",
    "for i in range(n_bootstraps):\n",
    "    indices = rng.randint(0, len(rsf_risk_scores_te), len(rsf_risk_scores_te))\n",
    "    auc_yr = cumulative_dynamic_auc(train_y, test_y[indices], rsf_risk_scores_te[indices], 730)[0][0]\n",
    "    bootstrapped_scores_te.append(auc_yr)"
   ]
  },
  {
   "cell_type": "code",
   "execution_count": 92,
   "id": "37d90ee8",
   "metadata": {},
   "outputs": [
    {
     "name": "stdout",
     "output_type": "stream",
     "text": [
      "Test set AUC standard error: 0.006318124375527251\n"
     ]
    }
   ],
   "source": [
    "# Standard error of mean for test set AUC\n",
    "sorted_scores_te = np.array(bootstrapped_scores_te)\n",
    "sorted_scores_te.sort()\n",
    "\n",
    "conf_lower_te = sorted_scores_te[int(0.025 * len(sorted_scores_te))]\n",
    "conf_upper_te = sorted_scores_te[int(0.975 * len(sorted_scores_te))]\n",
    "\n",
    "standard_error_te = (conf_upper_te - conf_lower_te) / 3.92\n",
    "print('Test set AUC standard error:', standard_error_te)"
   ]
  },
  {
   "cell_type": "code",
   "execution_count": 93,
   "id": "8bb5ef19",
   "metadata": {},
   "outputs": [],
   "source": [
    "# Bootstrap 10000 2-yr AUCs for train set \n",
    "n_bootstraps = 10000\n",
    "rng_seed = 42 \n",
    "bootstrapped_scores_tr = []\n",
    "\n",
    "rng = np.random.RandomState(rng_seed)\n",
    "for i in range(n_bootstraps):\n",
    "    indices = rng.randint(0, len(rsf_risk_scores_tr), len(rsf_risk_scores_tr))\n",
    "    auc_yr = cumulative_dynamic_auc(train_y, train_y[indices], rsf_risk_scores_tr[indices], 730)[0][0]\n",
    "    bootstrapped_scores_tr.append(auc_yr)"
   ]
  },
  {
   "cell_type": "code",
   "execution_count": 94,
   "id": "1cb44d38",
   "metadata": {},
   "outputs": [
    {
     "name": "stdout",
     "output_type": "stream",
     "text": [
      "Training set AUC standard error 0.0019403664278070229\n"
     ]
    }
   ],
   "source": [
    "# Standard error of mean for train set AUC\n",
    "sorted_scores_tr = np.array(bootstrapped_scores_tr)\n",
    "sorted_scores_tr.sort()\n",
    "\n",
    "conf_lower_tr = sorted_scores_tr[int(0.025 * len(sorted_scores_tr))]\n",
    "conf_upper_tr = sorted_scores_tr[int(0.975 * len(sorted_scores_tr))]\n",
    "\n",
    "standard_error_tr = (conf_upper_tr - conf_lower_tr) / 3.92\n",
    "print('Training set AUC standard error', standard_error_tr)"
   ]
  },
  {
   "cell_type": "code",
   "execution_count": 95,
   "id": "6dc9287a",
   "metadata": {},
   "outputs": [],
   "source": [
    "crude_auc_data = {'model': 'rsf_crude',\n",
    "                  'auc_2yr_te': rsf_auc_te,\n",
    "                  'sem_te': standard_error_te,\n",
    "                  'auc_2yr_tr': rsf_auc_tr,\n",
    "                  'sem_tr': standard_error_tr}"
   ]
  },
  {
   "cell_type": "code",
   "execution_count": 96,
   "id": "218a27a4",
   "metadata": {},
   "outputs": [],
   "source": [
    "crude_auc_df = pd.read_csv('crude_auc_df.csv')"
   ]
  },
  {
   "cell_type": "code",
   "execution_count": 97,
   "id": "b037f3bf",
   "metadata": {},
   "outputs": [],
   "source": [
    "crude_auc_df = crude_auc_df.append(crude_auc_data, ignore_index = True)"
   ]
  },
  {
   "cell_type": "code",
   "execution_count": 98,
   "id": "e725e6f8",
   "metadata": {},
   "outputs": [
    {
     "data": {
      "text/html": [
       "<div>\n",
       "<style scoped>\n",
       "    .dataframe tbody tr th:only-of-type {\n",
       "        vertical-align: middle;\n",
       "    }\n",
       "\n",
       "    .dataframe tbody tr th {\n",
       "        vertical-align: top;\n",
       "    }\n",
       "\n",
       "    .dataframe thead th {\n",
       "        text-align: right;\n",
       "    }\n",
       "</style>\n",
       "<table border=\"1\" class=\"dataframe\">\n",
       "  <thead>\n",
       "    <tr style=\"text-align: right;\">\n",
       "      <th></th>\n",
       "      <th>model</th>\n",
       "      <th>auc_2yr_te</th>\n",
       "      <th>sem_te</th>\n",
       "      <th>auc_2yr_tr</th>\n",
       "      <th>sem_tr</th>\n",
       "    </tr>\n",
       "  </thead>\n",
       "  <tbody>\n",
       "    <tr>\n",
       "      <th>0</th>\n",
       "      <td>gbm_crude</td>\n",
       "      <td>0.817707</td>\n",
       "      <td>0.005979</td>\n",
       "      <td>0.849410</td>\n",
       "      <td>0.002789</td>\n",
       "    </tr>\n",
       "    <tr>\n",
       "      <th>1</th>\n",
       "      <td>rsf_crude</td>\n",
       "      <td>0.797620</td>\n",
       "      <td>0.006318</td>\n",
       "      <td>0.916818</td>\n",
       "      <td>0.001940</td>\n",
       "    </tr>\n",
       "  </tbody>\n",
       "</table>\n",
       "</div>"
      ],
      "text/plain": [
       "       model  auc_2yr_te    sem_te  auc_2yr_tr    sem_tr\n",
       "0  gbm_crude    0.817707  0.005979    0.849410  0.002789\n",
       "1  rsf_crude    0.797620  0.006318    0.916818  0.001940"
      ]
     },
     "execution_count": 99,
     "metadata": {},
     "output_type": "execute_result"
    }
   ],
   "source": [
    "crude_auc_df"
   ]
  },
  {
   "cell_type": "code",
   "execution_count": 99,
   "id": "21e444e2",
   "metadata": {},
   "outputs": [],
   "source": [
    "crude_auc_df.to_csv('crude_auc_df.csv', index = False, header = True)"
   ]
  },
  {
   "cell_type": "code",
   "execution_count": 100,
   "id": "30708d2f",
   "metadata": {},
   "outputs": [],
   "source": [
    "times = np.arange(30, 1810, 30)\n",
    "\n",
    "rsf_chf_funcs_te = rsf.predict_cumulative_hazard_function(test_x_red)\n",
    "rsf_risk_scores_te = np.row_stack([chf(times) for chf in rsf_chf_funcs_te])\n",
    "crude_rsf_auc_over5 = cumulative_dynamic_auc(train_y, test_y, rsf_risk_scores_te, times)[0]\n",
    "\n",
    "times_data = {}\n",
    "values = crude_rsf_auc_over5\n",
    "time_names = []\n",
    "\n",
    "for x in range(len(times)):\n",
    "    time_names.append('time_'+str(times[x]))\n",
    "\n",
    "for i in range(len(time_names)):\n",
    "    times_data[time_names[i]] = values[i]\n",
    "    \n",
    "crude_rsf_over5_df = pd.DataFrame(times_data, index = ['rsf_crude'])"
   ]
  },
  {
   "cell_type": "code",
   "execution_count": 101,
   "id": "913f10ac",
   "metadata": {},
   "outputs": [],
   "source": [
    "crude_auc_over5 = pd.read_csv('crude_auc_over5.csv', index_col = 0)"
   ]
  },
  {
   "cell_type": "code",
   "execution_count": 102,
   "id": "b3fdc779",
   "metadata": {},
   "outputs": [],
   "source": [
    "crude_auc_over5 = crude_auc_over5.append(crude_rsf_over5_df, ignore_index = False)"
   ]
  },
  {
   "cell_type": "code",
   "execution_count": 103,
   "id": "8ae6efda",
   "metadata": {},
   "outputs": [
    {
     "data": {
      "text/html": [
       "<div>\n",
       "<style scoped>\n",
       "    .dataframe tbody tr th:only-of-type {\n",
       "        vertical-align: middle;\n",
       "    }\n",
       "\n",
       "    .dataframe tbody tr th {\n",
       "        vertical-align: top;\n",
       "    }\n",
       "\n",
       "    .dataframe thead th {\n",
       "        text-align: right;\n",
       "    }\n",
       "</style>\n",
       "<table border=\"1\" class=\"dataframe\">\n",
       "  <thead>\n",
       "    <tr style=\"text-align: right;\">\n",
       "      <th></th>\n",
       "      <th>time_30</th>\n",
       "      <th>time_60</th>\n",
       "      <th>time_90</th>\n",
       "      <th>time_120</th>\n",
       "      <th>time_150</th>\n",
       "      <th>time_180</th>\n",
       "      <th>time_210</th>\n",
       "      <th>time_240</th>\n",
       "      <th>time_270</th>\n",
       "      <th>time_300</th>\n",
       "      <th>...</th>\n",
       "      <th>time_1530</th>\n",
       "      <th>time_1560</th>\n",
       "      <th>time_1590</th>\n",
       "      <th>time_1620</th>\n",
       "      <th>time_1650</th>\n",
       "      <th>time_1680</th>\n",
       "      <th>time_1710</th>\n",
       "      <th>time_1740</th>\n",
       "      <th>time_1770</th>\n",
       "      <th>time_1800</th>\n",
       "    </tr>\n",
       "  </thead>\n",
       "  <tbody>\n",
       "    <tr>\n",
       "      <th>gbm_crude</th>\n",
       "      <td>0.865653</td>\n",
       "      <td>0.884240</td>\n",
       "      <td>0.866949</td>\n",
       "      <td>0.865569</td>\n",
       "      <td>0.861561</td>\n",
       "      <td>0.852376</td>\n",
       "      <td>0.852850</td>\n",
       "      <td>0.850731</td>\n",
       "      <td>0.851161</td>\n",
       "      <td>0.849431</td>\n",
       "      <td>...</td>\n",
       "      <td>0.782725</td>\n",
       "      <td>0.779661</td>\n",
       "      <td>0.781463</td>\n",
       "      <td>0.781015</td>\n",
       "      <td>0.77931</td>\n",
       "      <td>0.779304</td>\n",
       "      <td>0.777667</td>\n",
       "      <td>0.776433</td>\n",
       "      <td>0.776933</td>\n",
       "      <td>0.776247</td>\n",
       "    </tr>\n",
       "    <tr>\n",
       "      <th>rsf_crude</th>\n",
       "      <td>0.866668</td>\n",
       "      <td>0.876143</td>\n",
       "      <td>0.852497</td>\n",
       "      <td>0.850469</td>\n",
       "      <td>0.846343</td>\n",
       "      <td>0.836480</td>\n",
       "      <td>0.835673</td>\n",
       "      <td>0.831395</td>\n",
       "      <td>0.830522</td>\n",
       "      <td>0.829236</td>\n",
       "      <td>...</td>\n",
       "      <td>0.763159</td>\n",
       "      <td>0.759102</td>\n",
       "      <td>0.761464</td>\n",
       "      <td>0.761499</td>\n",
       "      <td>0.75796</td>\n",
       "      <td>0.756729</td>\n",
       "      <td>0.756293</td>\n",
       "      <td>0.756140</td>\n",
       "      <td>0.755578</td>\n",
       "      <td>0.754173</td>\n",
       "    </tr>\n",
       "  </tbody>\n",
       "</table>\n",
       "<p>2 rows × 60 columns</p>\n",
       "</div>"
      ],
      "text/plain": [
       "            time_30   time_60   time_90  time_120  time_150  time_180  \\\n",
       "gbm_crude  0.865653  0.884240  0.866949  0.865569  0.861561  0.852376   \n",
       "rsf_crude  0.866668  0.876143  0.852497  0.850469  0.846343  0.836480   \n",
       "\n",
       "           time_210  time_240  time_270  time_300  ...  time_1530  time_1560  \\\n",
       "gbm_crude  0.852850  0.850731  0.851161  0.849431  ...   0.782725   0.779661   \n",
       "rsf_crude  0.835673  0.831395  0.830522  0.829236  ...   0.763159   0.759102   \n",
       "\n",
       "           time_1590  time_1620  time_1650  time_1680  time_1710  time_1740  \\\n",
       "gbm_crude   0.781463   0.781015    0.77931   0.779304   0.777667   0.776433   \n",
       "rsf_crude   0.761464   0.761499    0.75796   0.756729   0.756293   0.756140   \n",
       "\n",
       "           time_1770  time_1800  \n",
       "gbm_crude   0.776933   0.776247  \n",
       "rsf_crude   0.755578   0.754173  \n",
       "\n",
       "[2 rows x 60 columns]"
      ]
     },
     "execution_count": 104,
     "metadata": {},
     "output_type": "execute_result"
    }
   ],
   "source": [
    "crude_auc_over5"
   ]
  },
  {
   "cell_type": "code",
   "execution_count": 104,
   "id": "0fe86e77",
   "metadata": {},
   "outputs": [],
   "source": [
    "crude_auc_over5.to_csv('crude_auc_over5.csv', index = True, header = True)"
   ]
  },
  {
   "cell_type": "markdown",
   "id": "2a214b68",
   "metadata": {},
   "source": [
    "**No feature importance attribute is available at this time for the random survival forest model.**\n",
    "\n",
    "**The gradient boosted survival model outperforms the random survival forest in regards to test set 2 year AUC.**"
   ]
  },
  {
   "cell_type": "markdown",
   "id": "192b32b8",
   "metadata": {},
   "source": [
    "## 4. Penalized Cox models "
   ]
  },
  {
   "cell_type": "markdown",
   "id": "354d9c48",
   "metadata": {},
   "source": [
    "**The next group of models we'll build is the penalized Cox variety which includes ridge, LASSO, and elastic net. The main challenge will be selecting the strength of the alpha penalty for each model. The penalty will be determined by performing a grid search with cross-validation.**"
   ]
  },
  {
   "cell_type": "code",
   "execution_count": 105,
   "id": "921782bd",
   "metadata": {},
   "outputs": [],
   "source": [
    "from sklearn.model_selection import StratifiedKFold, GridSearchCV\n",
    "from sklearn.pipeline import make_pipeline\n",
    "from sklearn.metrics import make_scorer\n",
    "\n",
    "from sksurv.linear_model import CoxPHSurvivalAnalysis, CoxnetSurvivalAnalysis\n",
    "from sksurv.metrics import cumulative_dynamic_auc, as_cumulative_dynamic_auc_scorer\n",
    "\n",
    "import warnings \n",
    "\n",
    "import matplotlib.pyplot as plt"
   ]
  },
  {
   "cell_type": "markdown",
   "id": "0a6baeca",
   "metadata": {},
   "source": [
    "### 4.1 Ridge"
   ]
  },
  {
   "cell_type": "code",
   "execution_count": 106,
   "id": "da717c19",
   "metadata": {},
   "outputs": [
    {
     "data": {
      "text/plain": [
       "['estimator',\n",
       " 'estimator__columntransformer',\n",
       " 'estimator__columntransformer__cat',\n",
       " 'estimator__columntransformer__cat__categories',\n",
       " 'estimator__columntransformer__cat__drop',\n",
       " 'estimator__columntransformer__cat__dtype',\n",
       " 'estimator__columntransformer__cat__handle_unknown',\n",
       " 'estimator__columntransformer__cat__sparse',\n",
       " 'estimator__columntransformer__n_jobs',\n",
       " 'estimator__columntransformer__num',\n",
       " 'estimator__columntransformer__num__imputer',\n",
       " 'estimator__columntransformer__num__imputer__add_indicator',\n",
       " 'estimator__columntransformer__num__imputer__copy',\n",
       " 'estimator__columntransformer__num__imputer__fill_value',\n",
       " 'estimator__columntransformer__num__imputer__missing_values',\n",
       " 'estimator__columntransformer__num__imputer__strategy',\n",
       " 'estimator__columntransformer__num__imputer__verbose',\n",
       " 'estimator__columntransformer__num__memory',\n",
       " 'estimator__columntransformer__num__std_scaler',\n",
       " 'estimator__columntransformer__num__std_scaler__copy',\n",
       " 'estimator__columntransformer__num__std_scaler__with_mean',\n",
       " 'estimator__columntransformer__num__std_scaler__with_std',\n",
       " 'estimator__columntransformer__num__steps',\n",
       " 'estimator__columntransformer__num__verbose',\n",
       " 'estimator__columntransformer__remainder',\n",
       " 'estimator__columntransformer__sparse_threshold',\n",
       " 'estimator__columntransformer__transformer_weights',\n",
       " 'estimator__columntransformer__transformers',\n",
       " 'estimator__columntransformer__verbose',\n",
       " 'estimator__columntransformer__verbose_feature_names_out',\n",
       " 'estimator__coxphsurvivalanalysis',\n",
       " 'estimator__coxphsurvivalanalysis__alpha',\n",
       " 'estimator__coxphsurvivalanalysis__n_iter',\n",
       " 'estimator__coxphsurvivalanalysis__ties',\n",
       " 'estimator__coxphsurvivalanalysis__tol',\n",
       " 'estimator__coxphsurvivalanalysis__verbose',\n",
       " 'estimator__memory',\n",
       " 'estimator__steps',\n",
       " 'estimator__verbose',\n",
       " 'tied_tol',\n",
       " 'times']"
      ]
     },
     "execution_count": 107,
     "metadata": {},
     "output_type": "execute_result"
    }
   ],
   "source": [
    "# Find all pipe item unique keys \n",
    "pipe = make_pipeline(preprocessor_red, CoxPHSurvivalAnalysis())\n",
    "\n",
    "estimator = as_cumulative_dynamic_auc_scorer(pipe, times = [730])\n",
    "\n",
    "sorted(estimator.get_params().keys())"
   ]
  },
  {
   "cell_type": "code",
   "execution_count": 107,
   "id": "3777a304",
   "metadata": {},
   "outputs": [
    {
     "data": {
      "text/plain": [
       "GridSearchCV(cv=StratifiedKFold(n_splits=5, random_state=42, shuffle=True),\n",
       "             estimator=as_cumulative_dynamic_auc_scorer(estimator=Pipeline(steps=[('columntransformer',\n",
       "                                                                                   ColumnTransformer(remainder='passthrough',\n",
       "                                                                                                     transformers=[('num',\n",
       "                                                                                                                    Pipeline(steps=[('imputer',\n",
       "                                                                                                                                     SimpleImputer(strategy='median')),\n",
       "                                                                                                                                    ('std_scaler',\n",
       "                                                                                                                                     StandardScaler())]),\n",
       "                                                                                                                    ['age',\n",
       "                                                                                                                     'delta_met_diagnosis',...\n",
       "             param_grid={'estimator__coxphsurvivalanalysis__alpha': array([1.00000000e-04, 2.15443469e-04, 4.64158883e-04, 1.00000000e-03,\n",
       "       2.15443469e-03, 4.64158883e-03, 1.00000000e-02, 2.15443469e-02,\n",
       "       4.64158883e-02, 1.00000000e-01, 2.15443469e-01, 4.64158883e-01,\n",
       "       1.00000000e+00, 2.15443469e+00, 4.64158883e+00, 1.00000000e+01,\n",
       "       2.15443469e+01, 4.64158883e+01, 1.00000000e+02, 2.15443469e+02,\n",
       "       4.64158883e+02, 1.00000000e+03, 2.15443469e+03, 4.64158883e+03,\n",
       "       1.00000000e+04])},\n",
       "             refit=False)"
      ]
     },
     "execution_count": 108,
     "metadata": {},
     "output_type": "execute_result"
    }
   ],
   "source": [
    "pipe = make_pipeline(preprocessor_red, CoxPHSurvivalAnalysis())\n",
    "\n",
    "# 5 fold cross-validation\n",
    "cv = StratifiedKFold(n_splits = 5, shuffle = True, random_state = 42)\n",
    "\n",
    "# Parameter gird \n",
    "param_grid = {'estimator__coxphsurvivalanalysis__alpha': 10. ** np.linspace(-4, 4, 25)}\n",
    "\n",
    "ridge_search = GridSearchCV(\n",
    "    as_cumulative_dynamic_auc_scorer(pipe, 730),\n",
    "    param_grid = param_grid,\n",
    "    cv = cv,\n",
    "    n_jobs = -1,\n",
    "    refit = False)\n",
    "\n",
    "# Run search \n",
    "warnings.filterwarnings('ignore')\n",
    "ridge_search.fit(train_x_red, train_y)"
   ]
  },
  {
   "cell_type": "code",
   "execution_count": 108,
   "id": "2a0715ee",
   "metadata": {},
   "outputs": [
    {
     "data": {
      "text/plain": [
       "{'estimator__coxphsurvivalanalysis__alpha': 215.44346900318823}"
      ]
     },
     "execution_count": 109,
     "metadata": {},
     "output_type": "execute_result"
    }
   ],
   "source": [
    "ridge_search.best_params_"
   ]
  },
  {
   "cell_type": "code",
   "execution_count": 109,
   "id": "e766d434",
   "metadata": {},
   "outputs": [],
   "source": [
    "best_ridge_alpha = ridge_search.best_params_.get('estimator__coxphsurvivalanalysis__alpha')"
   ]
  },
  {
   "cell_type": "code",
   "execution_count": 110,
   "id": "777ec65d",
   "metadata": {},
   "outputs": [],
   "source": [
    "ridge_search_results = pd.DataFrame(ridge_search.cv_results_)"
   ]
  },
  {
   "cell_type": "code",
   "execution_count": 111,
   "id": "49f5cb03",
   "metadata": {},
   "outputs": [
    {
     "data": {
      "text/html": [
       "<div>\n",
       "<style scoped>\n",
       "    .dataframe tbody tr th:only-of-type {\n",
       "        vertical-align: middle;\n",
       "    }\n",
       "\n",
       "    .dataframe tbody tr th {\n",
       "        vertical-align: top;\n",
       "    }\n",
       "\n",
       "    .dataframe thead th {\n",
       "        text-align: right;\n",
       "    }\n",
       "</style>\n",
       "<table border=\"1\" class=\"dataframe\">\n",
       "  <thead>\n",
       "    <tr style=\"text-align: right;\">\n",
       "      <th></th>\n",
       "      <th>mean_fit_time</th>\n",
       "      <th>std_fit_time</th>\n",
       "      <th>mean_score_time</th>\n",
       "      <th>std_score_time</th>\n",
       "      <th>param_estimator__coxphsurvivalanalysis__alpha</th>\n",
       "      <th>params</th>\n",
       "      <th>split0_test_score</th>\n",
       "      <th>split1_test_score</th>\n",
       "      <th>split2_test_score</th>\n",
       "      <th>split3_test_score</th>\n",
       "      <th>split4_test_score</th>\n",
       "      <th>mean_test_score</th>\n",
       "      <th>std_test_score</th>\n",
       "      <th>rank_test_score</th>\n",
       "    </tr>\n",
       "  </thead>\n",
       "  <tbody>\n",
       "    <tr>\n",
       "      <th>19</th>\n",
       "      <td>34.596651</td>\n",
       "      <td>1.729968</td>\n",
       "      <td>0.086900</td>\n",
       "      <td>0.010572</td>\n",
       "      <td>215.443469</td>\n",
       "      <td>{'estimator__coxphsurvivalanalysis__alpha': 21...</td>\n",
       "      <td>0.779565</td>\n",
       "      <td>0.784431</td>\n",
       "      <td>0.788480</td>\n",
       "      <td>0.785391</td>\n",
       "      <td>0.792247</td>\n",
       "      <td>0.786023</td>\n",
       "      <td>0.004229</td>\n",
       "      <td>1</td>\n",
       "    </tr>\n",
       "    <tr>\n",
       "      <th>18</th>\n",
       "      <td>33.412610</td>\n",
       "      <td>3.010102</td>\n",
       "      <td>0.089291</td>\n",
       "      <td>0.007671</td>\n",
       "      <td>100.0</td>\n",
       "      <td>{'estimator__coxphsurvivalanalysis__alpha': 10...</td>\n",
       "      <td>0.778636</td>\n",
       "      <td>0.784396</td>\n",
       "      <td>0.787213</td>\n",
       "      <td>0.786429</td>\n",
       "      <td>0.793071</td>\n",
       "      <td>0.785949</td>\n",
       "      <td>0.004657</td>\n",
       "      <td>2</td>\n",
       "    </tr>\n",
       "    <tr>\n",
       "      <th>17</th>\n",
       "      <td>33.382580</td>\n",
       "      <td>1.620059</td>\n",
       "      <td>0.085060</td>\n",
       "      <td>0.009901</td>\n",
       "      <td>46.415888</td>\n",
       "      <td>{'estimator__coxphsurvivalanalysis__alpha': 46...</td>\n",
       "      <td>0.777852</td>\n",
       "      <td>0.784300</td>\n",
       "      <td>0.786026</td>\n",
       "      <td>0.786954</td>\n",
       "      <td>0.793487</td>\n",
       "      <td>0.785724</td>\n",
       "      <td>0.005017</td>\n",
       "      <td>3</td>\n",
       "    </tr>\n",
       "    <tr>\n",
       "      <th>16</th>\n",
       "      <td>34.032858</td>\n",
       "      <td>1.961229</td>\n",
       "      <td>0.084296</td>\n",
       "      <td>0.007754</td>\n",
       "      <td>21.544347</td>\n",
       "      <td>{'estimator__coxphsurvivalanalysis__alpha': 21...</td>\n",
       "      <td>0.777211</td>\n",
       "      <td>0.784368</td>\n",
       "      <td>0.785062</td>\n",
       "      <td>0.787324</td>\n",
       "      <td>0.793730</td>\n",
       "      <td>0.785539</td>\n",
       "      <td>0.005315</td>\n",
       "      <td>4</td>\n",
       "    </tr>\n",
       "    <tr>\n",
       "      <th>15</th>\n",
       "      <td>34.329449</td>\n",
       "      <td>1.810749</td>\n",
       "      <td>0.099959</td>\n",
       "      <td>0.028239</td>\n",
       "      <td>10.0</td>\n",
       "      <td>{'estimator__coxphsurvivalanalysis__alpha': 10.0}</td>\n",
       "      <td>0.776768</td>\n",
       "      <td>0.784450</td>\n",
       "      <td>0.784463</td>\n",
       "      <td>0.787458</td>\n",
       "      <td>0.793861</td>\n",
       "      <td>0.785400</td>\n",
       "      <td>0.005516</td>\n",
       "      <td>5</td>\n",
       "    </tr>\n",
       "    <tr>\n",
       "      <th>14</th>\n",
       "      <td>34.148437</td>\n",
       "      <td>1.804196</td>\n",
       "      <td>0.090287</td>\n",
       "      <td>0.012977</td>\n",
       "      <td>4.641589</td>\n",
       "      <td>{'estimator__coxphsurvivalanalysis__alpha': 4....</td>\n",
       "      <td>0.776440</td>\n",
       "      <td>0.784549</td>\n",
       "      <td>0.784083</td>\n",
       "      <td>0.787617</td>\n",
       "      <td>0.793815</td>\n",
       "      <td>0.785301</td>\n",
       "      <td>0.005629</td>\n",
       "      <td>6</td>\n",
       "    </tr>\n",
       "    <tr>\n",
       "      <th>13</th>\n",
       "      <td>34.899035</td>\n",
       "      <td>1.743613</td>\n",
       "      <td>0.080704</td>\n",
       "      <td>0.005833</td>\n",
       "      <td>2.154435</td>\n",
       "      <td>{'estimator__coxphsurvivalanalysis__alpha': 2....</td>\n",
       "      <td>0.776228</td>\n",
       "      <td>0.784545</td>\n",
       "      <td>0.783855</td>\n",
       "      <td>0.787660</td>\n",
       "      <td>0.793796</td>\n",
       "      <td>0.785217</td>\n",
       "      <td>0.005704</td>\n",
       "      <td>7</td>\n",
       "    </tr>\n",
       "    <tr>\n",
       "      <th>20</th>\n",
       "      <td>32.540601</td>\n",
       "      <td>3.843086</td>\n",
       "      <td>0.078861</td>\n",
       "      <td>0.009745</td>\n",
       "      <td>464.158883</td>\n",
       "      <td>{'estimator__coxphsurvivalanalysis__alpha': 46...</td>\n",
       "      <td>0.779988</td>\n",
       "      <td>0.783343</td>\n",
       "      <td>0.788957</td>\n",
       "      <td>0.783257</td>\n",
       "      <td>0.790439</td>\n",
       "      <td>0.785197</td>\n",
       "      <td>0.003897</td>\n",
       "      <td>8</td>\n",
       "    </tr>\n",
       "    <tr>\n",
       "      <th>12</th>\n",
       "      <td>35.531446</td>\n",
       "      <td>2.846189</td>\n",
       "      <td>0.093156</td>\n",
       "      <td>0.021397</td>\n",
       "      <td>1.0</td>\n",
       "      <td>{'estimator__coxphsurvivalanalysis__alpha': 1.0}</td>\n",
       "      <td>0.776080</td>\n",
       "      <td>0.784538</td>\n",
       "      <td>0.783722</td>\n",
       "      <td>0.787642</td>\n",
       "      <td>0.793721</td>\n",
       "      <td>0.785141</td>\n",
       "      <td>0.005733</td>\n",
       "      <td>9</td>\n",
       "    </tr>\n",
       "    <tr>\n",
       "      <th>11</th>\n",
       "      <td>35.595194</td>\n",
       "      <td>2.635440</td>\n",
       "      <td>0.087197</td>\n",
       "      <td>0.006958</td>\n",
       "      <td>0.464159</td>\n",
       "      <td>{'estimator__coxphsurvivalanalysis__alpha': 0....</td>\n",
       "      <td>0.775985</td>\n",
       "      <td>0.784544</td>\n",
       "      <td>0.783675</td>\n",
       "      <td>0.787648</td>\n",
       "      <td>0.793710</td>\n",
       "      <td>0.785112</td>\n",
       "      <td>0.005763</td>\n",
       "      <td>10</td>\n",
       "    </tr>\n",
       "  </tbody>\n",
       "</table>\n",
       "</div>"
      ],
      "text/plain": [
       "    mean_fit_time  std_fit_time  mean_score_time  std_score_time  \\\n",
       "19      34.596651      1.729968         0.086900        0.010572   \n",
       "18      33.412610      3.010102         0.089291        0.007671   \n",
       "17      33.382580      1.620059         0.085060        0.009901   \n",
       "16      34.032858      1.961229         0.084296        0.007754   \n",
       "15      34.329449      1.810749         0.099959        0.028239   \n",
       "14      34.148437      1.804196         0.090287        0.012977   \n",
       "13      34.899035      1.743613         0.080704        0.005833   \n",
       "20      32.540601      3.843086         0.078861        0.009745   \n",
       "12      35.531446      2.846189         0.093156        0.021397   \n",
       "11      35.595194      2.635440         0.087197        0.006958   \n",
       "\n",
       "   param_estimator__coxphsurvivalanalysis__alpha  \\\n",
       "19                                    215.443469   \n",
       "18                                         100.0   \n",
       "17                                     46.415888   \n",
       "16                                     21.544347   \n",
       "15                                          10.0   \n",
       "14                                      4.641589   \n",
       "13                                      2.154435   \n",
       "20                                    464.158883   \n",
       "12                                           1.0   \n",
       "11                                      0.464159   \n",
       "\n",
       "                                               params  split0_test_score  \\\n",
       "19  {'estimator__coxphsurvivalanalysis__alpha': 21...           0.779565   \n",
       "18  {'estimator__coxphsurvivalanalysis__alpha': 10...           0.778636   \n",
       "17  {'estimator__coxphsurvivalanalysis__alpha': 46...           0.777852   \n",
       "16  {'estimator__coxphsurvivalanalysis__alpha': 21...           0.777211   \n",
       "15  {'estimator__coxphsurvivalanalysis__alpha': 10.0}           0.776768   \n",
       "14  {'estimator__coxphsurvivalanalysis__alpha': 4....           0.776440   \n",
       "13  {'estimator__coxphsurvivalanalysis__alpha': 2....           0.776228   \n",
       "20  {'estimator__coxphsurvivalanalysis__alpha': 46...           0.779988   \n",
       "12   {'estimator__coxphsurvivalanalysis__alpha': 1.0}           0.776080   \n",
       "11  {'estimator__coxphsurvivalanalysis__alpha': 0....           0.775985   \n",
       "\n",
       "    split1_test_score  split2_test_score  split3_test_score  \\\n",
       "19           0.784431           0.788480           0.785391   \n",
       "18           0.784396           0.787213           0.786429   \n",
       "17           0.784300           0.786026           0.786954   \n",
       "16           0.784368           0.785062           0.787324   \n",
       "15           0.784450           0.784463           0.787458   \n",
       "14           0.784549           0.784083           0.787617   \n",
       "13           0.784545           0.783855           0.787660   \n",
       "20           0.783343           0.788957           0.783257   \n",
       "12           0.784538           0.783722           0.787642   \n",
       "11           0.784544           0.783675           0.787648   \n",
       "\n",
       "    split4_test_score  mean_test_score  std_test_score  rank_test_score  \n",
       "19           0.792247         0.786023        0.004229                1  \n",
       "18           0.793071         0.785949        0.004657                2  \n",
       "17           0.793487         0.785724        0.005017                3  \n",
       "16           0.793730         0.785539        0.005315                4  \n",
       "15           0.793861         0.785400        0.005516                5  \n",
       "14           0.793815         0.785301        0.005629                6  \n",
       "13           0.793796         0.785217        0.005704                7  \n",
       "20           0.790439         0.785197        0.003897                8  \n",
       "12           0.793721         0.785141        0.005733                9  \n",
       "11           0.793710         0.785112        0.005763               10  "
      ]
     },
     "execution_count": 112,
     "metadata": {},
     "output_type": "execute_result"
    }
   ],
   "source": [
    "ridge_search_results.sort_values(by = 'rank_test_score').head(10)"
   ]
  },
  {
   "cell_type": "code",
   "execution_count": 112,
   "id": "6b95c162",
   "metadata": {},
   "outputs": [
    {
     "data": {
      "text/plain": [
       "Pipeline(steps=[('columntransformer',\n",
       "                 ColumnTransformer(remainder='passthrough',\n",
       "                                   transformers=[('num',\n",
       "                                                  Pipeline(steps=[('imputer',\n",
       "                                                                   SimpleImputer(strategy='median')),\n",
       "                                                                  ('std_scaler',\n",
       "                                                                   StandardScaler())]),\n",
       "                                                  ['age', 'delta_met_diagnosis',\n",
       "                                                   'weight_diag', 'bmi_diag',\n",
       "                                                   'weight_pct_change',\n",
       "                                                   'weight_slope',\n",
       "                                                   'albumin_diag', 'alp_diag',\n",
       "                                                   'alt_diag', 'ast_diag',\n",
       "                                                   'bicarb_diag', 'bun...\n",
       "                                                   'alt_max', 'ast_max',\n",
       "                                                   'calcium_max',\n",
       "                                                   'creatinine_max',\n",
       "                                                   'total_bilirubin_max',\n",
       "                                                   'wbc_max', 'albumin_min', ...]),\n",
       "                                                 ('cat',\n",
       "                                                  OneHotEncoder(handle_unknown='ignore'),\n",
       "                                                  ['gender', 'race',\n",
       "                                                   'ethnicity', 'p_type',\n",
       "                                                   'region', 'stage',\n",
       "                                                   'met_year', 'ER', 'HER2',\n",
       "                                                   'PR', 'BRCA', 'PIK3CA',\n",
       "                                                   'pdl1_n', 'ecog_diagnosis',\n",
       "                                                   'ses'])])),\n",
       "                ('coxphsurvivalanalysis',\n",
       "                 CoxPHSurvivalAnalysis(alpha=215.44346900318823))])"
      ]
     },
     "execution_count": 113,
     "metadata": {},
     "output_type": "execute_result"
    }
   ],
   "source": [
    "ridge = make_pipeline(preprocessor_red, CoxPHSurvivalAnalysis(alpha = best_ridge_alpha))\n",
    "\n",
    "ridge.fit(train_x_red, train_y)"
   ]
  },
  {
   "cell_type": "code",
   "execution_count": 113,
   "id": "744cabd4",
   "metadata": {},
   "outputs": [
    {
     "name": "stdout",
     "output_type": "stream",
     "text": [
      "Test set AUC at 2 years: 0.7855365869971787\n"
     ]
    }
   ],
   "source": [
    "ridge_risk_scores_te = ridge.predict(test_x_red)\n",
    "ridge_auc_te = cumulative_dynamic_auc(train_y, test_y, ridge_risk_scores_te, 730)[0][0]\n",
    "print('Test set AUC at 2 years:', ridge_auc_te)"
   ]
  },
  {
   "cell_type": "code",
   "execution_count": 114,
   "id": "ccacb873",
   "metadata": {},
   "outputs": [
    {
     "name": "stdout",
     "output_type": "stream",
     "text": [
      "Training set AUC at 2 years: 0.7898758578887897\n"
     ]
    }
   ],
   "source": [
    "ridge_risk_scores_tr = ridge.predict(train_x_red)\n",
    "ridge_auc_tr = cumulative_dynamic_auc(train_y, train_y, ridge_risk_scores_tr, 730)[0][0]\n",
    "print('Training set AUC at 2 years:', ridge_auc_tr)"
   ]
  },
  {
   "cell_type": "code",
   "execution_count": 115,
   "id": "ee4a4f85",
   "metadata": {},
   "outputs": [],
   "source": [
    "# Bootstrap 10000 2-yr AUCs for test set \n",
    "n_bootstraps = 10000\n",
    "rng_seed = 42 \n",
    "bootstrapped_scores_te = []\n",
    "\n",
    "rng = np.random.RandomState(rng_seed)\n",
    "for i in range(n_bootstraps):\n",
    "    indices = rng.randint(0, len(ridge_risk_scores_te), len(ridge_risk_scores_te))\n",
    "    auc_yr = cumulative_dynamic_auc(train_y, test_y[indices], ridge_risk_scores_te[indices], 730)[0][0]\n",
    "    bootstrapped_scores_te.append(auc_yr)"
   ]
  },
  {
   "cell_type": "code",
   "execution_count": 116,
   "id": "4c7aa0d6",
   "metadata": {},
   "outputs": [
    {
     "name": "stdout",
     "output_type": "stream",
     "text": [
      "Test set AUC standard error: 0.006507612946084858\n"
     ]
    }
   ],
   "source": [
    "# Standard error of mean for test set AUC\n",
    "sorted_scores_te = np.array(bootstrapped_scores_te)\n",
    "sorted_scores_te.sort()\n",
    "\n",
    "conf_lower_te = sorted_scores_te[int(0.025 * len(sorted_scores_te))]\n",
    "conf_upper_te = sorted_scores_te[int(0.975 * len(sorted_scores_te))]\n",
    "\n",
    "standard_error_te = (conf_upper_te - conf_lower_te) / 3.92\n",
    "print('Test set AUC standard error:', standard_error_te)"
   ]
  },
  {
   "cell_type": "code",
   "execution_count": 117,
   "id": "de90bd94",
   "metadata": {},
   "outputs": [],
   "source": [
    "# Bootstrap 10000 2-yr AUCs for train set \n",
    "n_bootstraps = 10000\n",
    "rng_seed = 42 \n",
    "bootstrapped_scores_tr = []\n",
    "\n",
    "rng = np.random.RandomState(rng_seed)\n",
    "for i in range(n_bootstraps):\n",
    "    indices = rng.randint(0, len(ridge_risk_scores_tr), len(ridge_risk_scores_tr))\n",
    "    auc_yr = cumulative_dynamic_auc(train_y, train_y[indices], ridge_risk_scores_tr[indices], 730)[0][0]\n",
    "    bootstrapped_scores_tr.append(auc_yr)"
   ]
  },
  {
   "cell_type": "code",
   "execution_count": 118,
   "id": "739501cd",
   "metadata": {},
   "outputs": [
    {
     "name": "stdout",
     "output_type": "stream",
     "text": [
      "Training set AUC standard error 0.00329248872854395\n"
     ]
    }
   ],
   "source": [
    "# Standard error of mean for train set AUC\n",
    "sorted_scores_tr = np.array(bootstrapped_scores_tr)\n",
    "sorted_scores_tr.sort()\n",
    "\n",
    "conf_lower_tr = sorted_scores_tr[int(0.025 * len(sorted_scores_tr))]\n",
    "conf_upper_tr = sorted_scores_tr[int(0.975 * len(sorted_scores_tr))]\n",
    "\n",
    "standard_error_tr = (conf_upper_tr - conf_lower_tr) / 3.92\n",
    "print('Training set AUC standard error', standard_error_tr)"
   ]
  },
  {
   "cell_type": "code",
   "execution_count": 119,
   "id": "83852b3d",
   "metadata": {},
   "outputs": [],
   "source": [
    "crude_auc_data = {'model': 'ridge_crude',\n",
    "                  'auc_2yr_te': ridge_auc_te,\n",
    "                  'sem_te': standard_error_te,\n",
    "                  'auc_2yr_tr': ridge_auc_tr,\n",
    "                  'sem_tr': standard_error_tr}"
   ]
  },
  {
   "cell_type": "code",
   "execution_count": 120,
   "id": "ef2222db",
   "metadata": {},
   "outputs": [],
   "source": [
    "crude_auc_df = pd.read_csv('crude_auc_df.csv')"
   ]
  },
  {
   "cell_type": "code",
   "execution_count": 121,
   "id": "ff03ca7c",
   "metadata": {},
   "outputs": [],
   "source": [
    "crude_auc_df = crude_auc_df.append(crude_auc_data, ignore_index = True)"
   ]
  },
  {
   "cell_type": "code",
   "execution_count": 122,
   "id": "59b75305",
   "metadata": {},
   "outputs": [
    {
     "data": {
      "text/html": [
       "<div>\n",
       "<style scoped>\n",
       "    .dataframe tbody tr th:only-of-type {\n",
       "        vertical-align: middle;\n",
       "    }\n",
       "\n",
       "    .dataframe tbody tr th {\n",
       "        vertical-align: top;\n",
       "    }\n",
       "\n",
       "    .dataframe thead th {\n",
       "        text-align: right;\n",
       "    }\n",
       "</style>\n",
       "<table border=\"1\" class=\"dataframe\">\n",
       "  <thead>\n",
       "    <tr style=\"text-align: right;\">\n",
       "      <th></th>\n",
       "      <th>model</th>\n",
       "      <th>auc_2yr_te</th>\n",
       "      <th>sem_te</th>\n",
       "      <th>auc_2yr_tr</th>\n",
       "      <th>sem_tr</th>\n",
       "    </tr>\n",
       "  </thead>\n",
       "  <tbody>\n",
       "    <tr>\n",
       "      <th>0</th>\n",
       "      <td>gbm_crude</td>\n",
       "      <td>0.817707</td>\n",
       "      <td>0.005979</td>\n",
       "      <td>0.849410</td>\n",
       "      <td>0.002789</td>\n",
       "    </tr>\n",
       "    <tr>\n",
       "      <th>1</th>\n",
       "      <td>rsf_crude</td>\n",
       "      <td>0.797620</td>\n",
       "      <td>0.006318</td>\n",
       "      <td>0.916818</td>\n",
       "      <td>0.001940</td>\n",
       "    </tr>\n",
       "    <tr>\n",
       "      <th>2</th>\n",
       "      <td>ridge_crude</td>\n",
       "      <td>0.785537</td>\n",
       "      <td>0.006508</td>\n",
       "      <td>0.789876</td>\n",
       "      <td>0.003292</td>\n",
       "    </tr>\n",
       "  </tbody>\n",
       "</table>\n",
       "</div>"
      ],
      "text/plain": [
       "         model  auc_2yr_te    sem_te  auc_2yr_tr    sem_tr\n",
       "0    gbm_crude    0.817707  0.005979    0.849410  0.002789\n",
       "1    rsf_crude    0.797620  0.006318    0.916818  0.001940\n",
       "2  ridge_crude    0.785537  0.006508    0.789876  0.003292"
      ]
     },
     "execution_count": 123,
     "metadata": {},
     "output_type": "execute_result"
    }
   ],
   "source": [
    "crude_auc_df"
   ]
  },
  {
   "cell_type": "code",
   "execution_count": 123,
   "id": "9585f326",
   "metadata": {},
   "outputs": [],
   "source": [
    "crude_auc_df.to_csv('crude_auc_df.csv', index = False, header = True)"
   ]
  },
  {
   "cell_type": "code",
   "execution_count": 124,
   "id": "203140be",
   "metadata": {},
   "outputs": [],
   "source": [
    "times = np.arange(30, 1810, 30)\n",
    "crude_ridge_auc_over5 = cumulative_dynamic_auc(train_y, test_y, ridge_risk_scores_te, times)[0]\n",
    "\n",
    "times_data = {}\n",
    "values = crude_ridge_auc_over5\n",
    "time_names = []\n",
    "\n",
    "for x in range(len(times)):\n",
    "    time_names.append('time_'+str(times[x]))\n",
    "\n",
    "for i in range(len(time_names)):\n",
    "    times_data[time_names[i]] = values[i]\n",
    "    \n",
    "crude_ridge_over5_df = pd.DataFrame(times_data, index = ['ridge_crude'])"
   ]
  },
  {
   "cell_type": "code",
   "execution_count": 125,
   "id": "9efff19e",
   "metadata": {},
   "outputs": [],
   "source": [
    "crude_auc_over5 = pd.read_csv('crude_auc_over5.csv', index_col = 0)"
   ]
  },
  {
   "cell_type": "code",
   "execution_count": 126,
   "id": "99cb28f2",
   "metadata": {},
   "outputs": [],
   "source": [
    "crude_auc_over5 = crude_auc_over5.append(crude_ridge_over5_df, ignore_index = False)"
   ]
  },
  {
   "cell_type": "code",
   "execution_count": 127,
   "id": "a7dccc6d",
   "metadata": {},
   "outputs": [
    {
     "data": {
      "text/html": [
       "<div>\n",
       "<style scoped>\n",
       "    .dataframe tbody tr th:only-of-type {\n",
       "        vertical-align: middle;\n",
       "    }\n",
       "\n",
       "    .dataframe tbody tr th {\n",
       "        vertical-align: top;\n",
       "    }\n",
       "\n",
       "    .dataframe thead th {\n",
       "        text-align: right;\n",
       "    }\n",
       "</style>\n",
       "<table border=\"1\" class=\"dataframe\">\n",
       "  <thead>\n",
       "    <tr style=\"text-align: right;\">\n",
       "      <th></th>\n",
       "      <th>time_30</th>\n",
       "      <th>time_60</th>\n",
       "      <th>time_90</th>\n",
       "      <th>time_120</th>\n",
       "      <th>time_150</th>\n",
       "      <th>time_180</th>\n",
       "      <th>time_210</th>\n",
       "      <th>time_240</th>\n",
       "      <th>time_270</th>\n",
       "      <th>time_300</th>\n",
       "      <th>...</th>\n",
       "      <th>time_1530</th>\n",
       "      <th>time_1560</th>\n",
       "      <th>time_1590</th>\n",
       "      <th>time_1620</th>\n",
       "      <th>time_1650</th>\n",
       "      <th>time_1680</th>\n",
       "      <th>time_1710</th>\n",
       "      <th>time_1740</th>\n",
       "      <th>time_1770</th>\n",
       "      <th>time_1800</th>\n",
       "    </tr>\n",
       "  </thead>\n",
       "  <tbody>\n",
       "    <tr>\n",
       "      <th>gbm_crude</th>\n",
       "      <td>0.865653</td>\n",
       "      <td>0.884240</td>\n",
       "      <td>0.866949</td>\n",
       "      <td>0.865569</td>\n",
       "      <td>0.861561</td>\n",
       "      <td>0.852376</td>\n",
       "      <td>0.852850</td>\n",
       "      <td>0.850731</td>\n",
       "      <td>0.851161</td>\n",
       "      <td>0.849431</td>\n",
       "      <td>...</td>\n",
       "      <td>0.782725</td>\n",
       "      <td>0.779661</td>\n",
       "      <td>0.781463</td>\n",
       "      <td>0.781015</td>\n",
       "      <td>0.779310</td>\n",
       "      <td>0.779304</td>\n",
       "      <td>0.777667</td>\n",
       "      <td>0.776433</td>\n",
       "      <td>0.776933</td>\n",
       "      <td>0.776247</td>\n",
       "    </tr>\n",
       "    <tr>\n",
       "      <th>rsf_crude</th>\n",
       "      <td>0.866668</td>\n",
       "      <td>0.876143</td>\n",
       "      <td>0.852497</td>\n",
       "      <td>0.850469</td>\n",
       "      <td>0.846343</td>\n",
       "      <td>0.836480</td>\n",
       "      <td>0.835673</td>\n",
       "      <td>0.831395</td>\n",
       "      <td>0.830522</td>\n",
       "      <td>0.829236</td>\n",
       "      <td>...</td>\n",
       "      <td>0.763159</td>\n",
       "      <td>0.759102</td>\n",
       "      <td>0.761464</td>\n",
       "      <td>0.761499</td>\n",
       "      <td>0.757960</td>\n",
       "      <td>0.756729</td>\n",
       "      <td>0.756293</td>\n",
       "      <td>0.756140</td>\n",
       "      <td>0.755578</td>\n",
       "      <td>0.754173</td>\n",
       "    </tr>\n",
       "    <tr>\n",
       "      <th>ridge_crude</th>\n",
       "      <td>0.847699</td>\n",
       "      <td>0.851870</td>\n",
       "      <td>0.835914</td>\n",
       "      <td>0.829498</td>\n",
       "      <td>0.825503</td>\n",
       "      <td>0.815028</td>\n",
       "      <td>0.814743</td>\n",
       "      <td>0.813877</td>\n",
       "      <td>0.815353</td>\n",
       "      <td>0.812816</td>\n",
       "      <td>...</td>\n",
       "      <td>0.757919</td>\n",
       "      <td>0.755934</td>\n",
       "      <td>0.757266</td>\n",
       "      <td>0.759101</td>\n",
       "      <td>0.758257</td>\n",
       "      <td>0.756038</td>\n",
       "      <td>0.754627</td>\n",
       "      <td>0.752895</td>\n",
       "      <td>0.754179</td>\n",
       "      <td>0.755089</td>\n",
       "    </tr>\n",
       "  </tbody>\n",
       "</table>\n",
       "<p>3 rows × 60 columns</p>\n",
       "</div>"
      ],
      "text/plain": [
       "              time_30   time_60   time_90  time_120  time_150  time_180  \\\n",
       "gbm_crude    0.865653  0.884240  0.866949  0.865569  0.861561  0.852376   \n",
       "rsf_crude    0.866668  0.876143  0.852497  0.850469  0.846343  0.836480   \n",
       "ridge_crude  0.847699  0.851870  0.835914  0.829498  0.825503  0.815028   \n",
       "\n",
       "             time_210  time_240  time_270  time_300  ...  time_1530  \\\n",
       "gbm_crude    0.852850  0.850731  0.851161  0.849431  ...   0.782725   \n",
       "rsf_crude    0.835673  0.831395  0.830522  0.829236  ...   0.763159   \n",
       "ridge_crude  0.814743  0.813877  0.815353  0.812816  ...   0.757919   \n",
       "\n",
       "             time_1560  time_1590  time_1620  time_1650  time_1680  time_1710  \\\n",
       "gbm_crude     0.779661   0.781463   0.781015   0.779310   0.779304   0.777667   \n",
       "rsf_crude     0.759102   0.761464   0.761499   0.757960   0.756729   0.756293   \n",
       "ridge_crude   0.755934   0.757266   0.759101   0.758257   0.756038   0.754627   \n",
       "\n",
       "             time_1740  time_1770  time_1800  \n",
       "gbm_crude     0.776433   0.776933   0.776247  \n",
       "rsf_crude     0.756140   0.755578   0.754173  \n",
       "ridge_crude   0.752895   0.754179   0.755089  \n",
       "\n",
       "[3 rows x 60 columns]"
      ]
     },
     "execution_count": 128,
     "metadata": {},
     "output_type": "execute_result"
    }
   ],
   "source": [
    "crude_auc_over5"
   ]
  },
  {
   "cell_type": "code",
   "execution_count": 128,
   "id": "6c52ac74",
   "metadata": {},
   "outputs": [],
   "source": [
    "crude_auc_over5.to_csv('crude_auc_over5.csv', index = True, header = True)"
   ]
  },
  {
   "cell_type": "code",
   "execution_count": 129,
   "id": "27876eb7",
   "metadata": {},
   "outputs": [],
   "source": [
    "# Variables passing through pipeline\n",
    "cat_encoder = list(preprocessor_red.transformers_[1][1].get_feature_names(categorical_features))\n",
    "pass_through = list(train_x_red.iloc[:, preprocessor_red.transformers_[2][2]].columns)\n",
    "attributes = numerical_features_red + cat_encoder + pass_through"
   ]
  },
  {
   "cell_type": "code",
   "execution_count": 130,
   "id": "dcbc11f7",
   "metadata": {},
   "outputs": [
    {
     "name": "stdout",
     "output_type": "stream",
     "text": [
      "Total number of features: 195\n",
      "Number of non-zero features in final model: 195\n"
     ]
    },
    {
     "data": {
      "image/png": "[encoded data removed]",
      "text/plain": [
       "<Figure size 432x576 with 1 Axes>"
      ]
     },
     "metadata": {
      "needs_background": "light"
     },
     "output_type": "display_data"
    }
   ],
   "source": [
    "# Dataframe of coefficients for each variable \n",
    "coefficients_ridge = pd.DataFrame(\n",
    "    ridge.named_steps['coxphsurvivalanalysis'].coef_,\n",
    "    index = attributes,\n",
    "    columns = ['coefficient']\n",
    ")\n",
    "\n",
    "print('Total number of features: {}'.format(len(attributes)))\n",
    "\n",
    "non_zero = np.sum(coefficients_ridge.iloc[:, 0] != 0)\n",
    "print('Number of non-zero features in final model: {}'.format(non_zero))\n",
    "\n",
    "non_zero_coefs = coefficients_ridge.query('coefficient != 0')\n",
    "coef_order = non_zero_coefs.abs().sort_values('coefficient').tail(30).index\n",
    "\n",
    "_, ax = plt.subplots(figsize=(6, 8))\n",
    "non_zero_coefs.loc[coef_order].plot.barh(ax = ax, legend = False)\n",
    "ax.set_xlabel('coefficient')\n",
    "ax.grid(True)"
   ]
  },
  {
   "cell_type": "markdown",
   "id": "d74ef95b",
   "metadata": {},
   "source": [
    "### 4.2 LASSO"
   ]
  },
  {
   "cell_type": "code",
   "execution_count": 131,
   "id": "149991ef",
   "metadata": {},
   "outputs": [
    {
     "data": {
      "text/plain": [
       "Pipeline(steps=[('columntransformer',\n",
       "                 ColumnTransformer(remainder='passthrough',\n",
       "                                   transformers=[('num',\n",
       "                                                  Pipeline(steps=[('imputer',\n",
       "                                                                   SimpleImputer(strategy='median')),\n",
       "                                                                  ('std_scaler',\n",
       "                                                                   StandardScaler())]),\n",
       "                                                  ['age', 'delta_met_diagnosis',\n",
       "                                                   'weight_diag', 'bmi_diag',\n",
       "                                                   'weight_pct_change',\n",
       "                                                   'weight_slope',\n",
       "                                                   'albumin_diag', 'alp_diag',\n",
       "                                                   'alt_diag', 'ast_diag',\n",
       "                                                   'bicarb_diag', 'bun...\n",
       "                                                   'calcium_max',\n",
       "                                                   'creatinine_max',\n",
       "                                                   'total_bilirubin_max',\n",
       "                                                   'wbc_max', 'albumin_min', ...]),\n",
       "                                                 ('cat',\n",
       "                                                  OneHotEncoder(handle_unknown='ignore'),\n",
       "                                                  ['gender', 'race',\n",
       "                                                   'ethnicity', 'p_type',\n",
       "                                                   'region', 'stage',\n",
       "                                                   'met_year', 'ER', 'HER2',\n",
       "                                                   'PR', 'BRCA', 'PIK3CA',\n",
       "                                                   'pdl1_n', 'ecog_diagnosis',\n",
       "                                                   'ses'])])),\n",
       "                ('coxnetsurvivalanalysis',\n",
       "                 CoxnetSurvivalAnalysis(alpha_min_ratio=0.0001, l1_ratio=1.0))])"
      ]
     },
     "execution_count": 132,
     "metadata": {},
     "output_type": "execute_result"
    }
   ],
   "source": [
    "lasso = make_pipeline(preprocessor_red, CoxnetSurvivalAnalysis(l1_ratio = 1.0, alpha_min_ratio = 0.0001))\n",
    "\n",
    "lasso.fit(train_x_red, train_y)"
   ]
  },
  {
   "cell_type": "code",
   "execution_count": 132,
   "id": "404be88f",
   "metadata": {},
   "outputs": [],
   "source": [
    "estimated_alphas = lasso.named_steps['coxnetsurvivalanalysis'].alphas_"
   ]
  },
  {
   "cell_type": "code",
   "execution_count": 133,
   "id": "5fcd608b",
   "metadata": {},
   "outputs": [
    {
     "data": {
      "text/plain": [
       "array([1.52830631e-01, 1.39253579e-01, 1.26882675e-01, 1.15610768e-01,\n",
       "       1.05340226e-01, 9.59820902e-02, 8.74553059e-02, 7.96860175e-02,\n",
       "       7.26069314e-02, 6.61567317e-02, 6.02795500e-02, 5.49244809e-02,\n",
       "       5.00451414e-02, 4.55992690e-02, 4.15483556e-02, 3.78573142e-02,\n",
       "       3.44941747e-02, 3.14298073e-02, 2.86376699e-02, 2.60935782e-02,\n",
       "       2.37754966e-02, 2.16633470e-02, 1.97388350e-02, 1.79852913e-02,\n",
       "       1.63875276e-02, 1.49317048e-02, 1.36052133e-02, 1.23965637e-02,\n",
       "       1.12952871e-02, 1.02918449e-02, 9.37754579e-03, 8.54447047e-03,\n",
       "       7.78540326e-03, 7.09376949e-03, 6.46357856e-03, 5.88937206e-03,\n",
       "       5.36617647e-03, 4.88946015e-03, 4.45509398e-03, 4.05931571e-03,\n",
       "       3.69869729e-03, 3.37011522e-03, 3.07072347e-03, 2.79792886e-03,\n",
       "       2.54936857e-03, 2.32288970e-03, 2.11653058e-03, 1.92850383e-03,\n",
       "       1.75718087e-03, 1.60107776e-03, 1.45884243e-03, 1.32924289e-03,\n",
       "       1.21115661e-03, 1.10356080e-03, 1.00552350e-03, 9.16195561e-04,\n",
       "       8.34803273e-04, 7.60641651e-04, 6.93068343e-04, 6.31498061e-04,\n",
       "       5.75397514e-04, 5.24280785e-04, 4.77705125e-04, 4.35267118e-04,\n",
       "       3.96599187e-04, 3.61366408e-04, 3.29263613e-04, 3.00012741e-04,\n",
       "       2.73360436e-04, 2.49075848e-04, 2.26948636e-04, 2.06787145e-04,\n",
       "       1.88416745e-04, 1.71678321e-04, 1.56426892e-04, 1.42530358e-04,\n",
       "       1.29868354e-04])"
      ]
     },
     "execution_count": 134,
     "metadata": {},
     "output_type": "execute_result"
    }
   ],
   "source": [
    "estimated_alphas"
   ]
  },
  {
   "cell_type": "code",
   "execution_count": 134,
   "id": "0a0034a4",
   "metadata": {},
   "outputs": [
    {
     "data": {
      "text/plain": [
       "GridSearchCV(cv=StratifiedKFold(n_splits=5, random_state=42, shuffle=True),\n",
       "             error_score=0.5,\n",
       "             estimator=as_cumulative_dynamic_auc_scorer(estimator=Pipeline(steps=[('columntransformer',\n",
       "                                                                                   ColumnTransformer(remainder='passthrough',\n",
       "                                                                                                     transformers=[('num',\n",
       "                                                                                                                    Pipeline(steps=[('imputer',\n",
       "                                                                                                                                     SimpleImputer(strategy='median')),\n",
       "                                                                                                                                    ('std_scaler',\n",
       "                                                                                                                                     StandardScaler())]),\n",
       "                                                                                                                    ['age',\n",
       "                                                                                                                     'delta...\n",
       "                                                                       [0.037857314193935794],\n",
       "                                                                       [0.03449417474007657],\n",
       "                                                                       [0.03142980732609746],\n",
       "                                                                       [0.028637669867425757],\n",
       "                                                                       [0.02609357820512915],\n",
       "                                                                       [0.023775496634300536],\n",
       "                                                                       [0.021663347041323815],\n",
       "                                                                       [0.019738834996858936],\n",
       "                                                                       [0.01798529129824686],\n",
       "                                                                       [0.016387527588850537],\n",
       "                                                                       [0.014931704803775673],\n",
       "                                                                       [0.013605213302511132],\n",
       "                                                                       [0.012396563650255162],\n",
       "                                                                       [0.011295287101927584],\n",
       "                                                                       [0.010291844926908074], ...]},\n",
       "             refit=False)"
      ]
     },
     "execution_count": 135,
     "metadata": {},
     "output_type": "execute_result"
    }
   ],
   "source": [
    "pipe = make_pipeline(preprocessor_red, CoxnetSurvivalAnalysis(l1_ratio = 1.0, max_iter = 100000))\n",
    "\n",
    "# 5 fold cross-validation\n",
    "cv = StratifiedKFold(n_splits = 5, shuffle = True, random_state = 42)\n",
    "\n",
    "# Parameter gird \n",
    "param_grid = {'estimator__coxnetsurvivalanalysis__alphas': [[x] for x in estimated_alphas]}\n",
    "\n",
    "lasso_search = GridSearchCV(\n",
    "    as_cumulative_dynamic_auc_scorer(pipe, 730),\n",
    "    param_grid = param_grid,\n",
    "    cv = cv,\n",
    "    error_score = 0.5,\n",
    "    n_jobs = -1,\n",
    "    refit = False)\n",
    "\n",
    "# Run search \n",
    "warnings.filterwarnings('ignore')\n",
    "lasso_search.fit(train_x_red, train_y)"
   ]
  },
  {
   "cell_type": "code",
   "execution_count": 135,
   "id": "2515ac60",
   "metadata": {},
   "outputs": [
    {
     "data": {
      "text/plain": [
       "{'estimator__coxnetsurvivalanalysis__alphas': [0.0008348032725921575]}"
      ]
     },
     "execution_count": 136,
     "metadata": {},
     "output_type": "execute_result"
    }
   ],
   "source": [
    "lasso_search.best_params_"
   ]
  },
  {
   "cell_type": "code",
   "execution_count": 136,
   "id": "d01e3a7b",
   "metadata": {},
   "outputs": [],
   "source": [
    "best_lasso_alpha = lasso_search.best_params_.get('estimator__coxnetsurvivalanalysis__alphas')"
   ]
  },
  {
   "cell_type": "code",
   "execution_count": 137,
   "id": "9064c785",
   "metadata": {},
   "outputs": [],
   "source": [
    "lasso_search_results = pd.DataFrame(lasso_search.cv_results_)"
   ]
  },
  {
   "cell_type": "code",
   "execution_count": 138,
   "id": "5c41f41c",
   "metadata": {},
   "outputs": [
    {
     "data": {
      "text/html": [
       "<div>\n",
       "<style scoped>\n",
       "    .dataframe tbody tr th:only-of-type {\n",
       "        vertical-align: middle;\n",
       "    }\n",
       "\n",
       "    .dataframe tbody tr th {\n",
       "        vertical-align: top;\n",
       "    }\n",
       "\n",
       "    .dataframe thead th {\n",
       "        text-align: right;\n",
       "    }\n",
       "</style>\n",
       "<table border=\"1\" class=\"dataframe\">\n",
       "  <thead>\n",
       "    <tr style=\"text-align: right;\">\n",
       "      <th></th>\n",
       "      <th>mean_fit_time</th>\n",
       "      <th>std_fit_time</th>\n",
       "      <th>mean_score_time</th>\n",
       "      <th>std_score_time</th>\n",
       "      <th>param_estimator__coxnetsurvivalanalysis__alphas</th>\n",
       "      <th>params</th>\n",
       "      <th>split0_test_score</th>\n",
       "      <th>split1_test_score</th>\n",
       "      <th>split2_test_score</th>\n",
       "      <th>split3_test_score</th>\n",
       "      <th>split4_test_score</th>\n",
       "      <th>mean_test_score</th>\n",
       "      <th>std_test_score</th>\n",
       "      <th>rank_test_score</th>\n",
       "    </tr>\n",
       "  </thead>\n",
       "  <tbody>\n",
       "    <tr>\n",
       "      <th>56</th>\n",
       "      <td>2.737623</td>\n",
       "      <td>1.116293</td>\n",
       "      <td>0.100866</td>\n",
       "      <td>0.008366</td>\n",
       "      <td>[0.0008348032725921575]</td>\n",
       "      <td>{'estimator__coxnetsurvivalanalysis__alphas': ...</td>\n",
       "      <td>0.778100</td>\n",
       "      <td>0.785550</td>\n",
       "      <td>0.788580</td>\n",
       "      <td>0.788143</td>\n",
       "      <td>0.793872</td>\n",
       "      <td>0.786849</td>\n",
       "      <td>0.005142</td>\n",
       "      <td>1</td>\n",
       "    </tr>\n",
       "    <tr>\n",
       "      <th>57</th>\n",
       "      <td>2.893630</td>\n",
       "      <td>1.264475</td>\n",
       "      <td>0.086698</td>\n",
       "      <td>0.014904</td>\n",
       "      <td>[0.0007606416506693003]</td>\n",
       "      <td>{'estimator__coxnetsurvivalanalysis__alphas': ...</td>\n",
       "      <td>0.778011</td>\n",
       "      <td>0.785553</td>\n",
       "      <td>0.788333</td>\n",
       "      <td>0.788249</td>\n",
       "      <td>0.794048</td>\n",
       "      <td>0.786839</td>\n",
       "      <td>0.005211</td>\n",
       "      <td>2</td>\n",
       "    </tr>\n",
       "    <tr>\n",
       "      <th>55</th>\n",
       "      <td>2.552690</td>\n",
       "      <td>1.098665</td>\n",
       "      <td>0.090876</td>\n",
       "      <td>0.013730</td>\n",
       "      <td>[0.000916195561099456]</td>\n",
       "      <td>{'estimator__coxnetsurvivalanalysis__alphas': ...</td>\n",
       "      <td>0.778167</td>\n",
       "      <td>0.785486</td>\n",
       "      <td>0.788817</td>\n",
       "      <td>0.787988</td>\n",
       "      <td>0.793706</td>\n",
       "      <td>0.786833</td>\n",
       "      <td>0.005088</td>\n",
       "      <td>3</td>\n",
       "    </tr>\n",
       "    <tr>\n",
       "      <th>58</th>\n",
       "      <td>3.013254</td>\n",
       "      <td>1.318337</td>\n",
       "      <td>0.092116</td>\n",
       "      <td>0.010506</td>\n",
       "      <td>[0.0006930683428400748]</td>\n",
       "      <td>{'estimator__coxnetsurvivalanalysis__alphas': ...</td>\n",
       "      <td>0.777909</td>\n",
       "      <td>0.785551</td>\n",
       "      <td>0.788111</td>\n",
       "      <td>0.788372</td>\n",
       "      <td>0.794201</td>\n",
       "      <td>0.786829</td>\n",
       "      <td>0.005283</td>\n",
       "      <td>4</td>\n",
       "    </tr>\n",
       "    <tr>\n",
       "      <th>59</th>\n",
       "      <td>3.315732</td>\n",
       "      <td>1.502863</td>\n",
       "      <td>0.089195</td>\n",
       "      <td>0.012104</td>\n",
       "      <td>[0.0006314980614385573]</td>\n",
       "      <td>{'estimator__coxnetsurvivalanalysis__alphas': ...</td>\n",
       "      <td>0.777787</td>\n",
       "      <td>0.785532</td>\n",
       "      <td>0.787922</td>\n",
       "      <td>0.788483</td>\n",
       "      <td>0.794267</td>\n",
       "      <td>0.786798</td>\n",
       "      <td>0.005342</td>\n",
       "      <td>5</td>\n",
       "    </tr>\n",
       "    <tr>\n",
       "      <th>54</th>\n",
       "      <td>2.418532</td>\n",
       "      <td>1.015666</td>\n",
       "      <td>0.073205</td>\n",
       "      <td>0.008858</td>\n",
       "      <td>[0.0010055234972568708]</td>\n",
       "      <td>{'estimator__coxnetsurvivalanalysis__alphas': ...</td>\n",
       "      <td>0.778193</td>\n",
       "      <td>0.785482</td>\n",
       "      <td>0.789044</td>\n",
       "      <td>0.787818</td>\n",
       "      <td>0.793422</td>\n",
       "      <td>0.786792</td>\n",
       "      <td>0.005015</td>\n",
       "      <td>6</td>\n",
       "    </tr>\n",
       "    <tr>\n",
       "      <th>60</th>\n",
       "      <td>3.369291</td>\n",
       "      <td>1.483333</td>\n",
       "      <td>0.082478</td>\n",
       "      <td>0.020068</td>\n",
       "      <td>[0.0005753975141419445]</td>\n",
       "      <td>{'estimator__coxnetsurvivalanalysis__alphas': ...</td>\n",
       "      <td>0.777705</td>\n",
       "      <td>0.785518</td>\n",
       "      <td>0.787748</td>\n",
       "      <td>0.788572</td>\n",
       "      <td>0.794295</td>\n",
       "      <td>0.786767</td>\n",
       "      <td>0.005377</td>\n",
       "      <td>7</td>\n",
       "    </tr>\n",
       "    <tr>\n",
       "      <th>61</th>\n",
       "      <td>3.788446</td>\n",
       "      <td>1.533265</td>\n",
       "      <td>0.093917</td>\n",
       "      <td>0.016396</td>\n",
       "      <td>[0.0005242807848475753]</td>\n",
       "      <td>{'estimator__coxnetsurvivalanalysis__alphas': ...</td>\n",
       "      <td>0.777629</td>\n",
       "      <td>0.785517</td>\n",
       "      <td>0.787543</td>\n",
       "      <td>0.788659</td>\n",
       "      <td>0.794349</td>\n",
       "      <td>0.786739</td>\n",
       "      <td>0.005417</td>\n",
       "      <td>8</td>\n",
       "    </tr>\n",
       "    <tr>\n",
       "      <th>53</th>\n",
       "      <td>2.403997</td>\n",
       "      <td>1.010128</td>\n",
       "      <td>0.092106</td>\n",
       "      <td>0.026421</td>\n",
       "      <td>[0.001103560796913676]</td>\n",
       "      <td>{'estimator__coxnetsurvivalanalysis__alphas': ...</td>\n",
       "      <td>0.778316</td>\n",
       "      <td>0.785508</td>\n",
       "      <td>0.789341</td>\n",
       "      <td>0.787470</td>\n",
       "      <td>0.793030</td>\n",
       "      <td>0.786733</td>\n",
       "      <td>0.004886</td>\n",
       "      <td>9</td>\n",
       "    </tr>\n",
       "    <tr>\n",
       "      <th>62</th>\n",
       "      <td>3.849936</td>\n",
       "      <td>1.464605</td>\n",
       "      <td>0.091649</td>\n",
       "      <td>0.020672</td>\n",
       "      <td>[0.0004777051249001085]</td>\n",
       "      <td>{'estimator__coxnetsurvivalanalysis__alphas': ...</td>\n",
       "      <td>0.777551</td>\n",
       "      <td>0.785533</td>\n",
       "      <td>0.787287</td>\n",
       "      <td>0.788690</td>\n",
       "      <td>0.794337</td>\n",
       "      <td>0.786680</td>\n",
       "      <td>0.005435</td>\n",
       "      <td>10</td>\n",
       "    </tr>\n",
       "  </tbody>\n",
       "</table>\n",
       "</div>"
      ],
      "text/plain": [
       "    mean_fit_time  std_fit_time  mean_score_time  std_score_time  \\\n",
       "56       2.737623      1.116293         0.100866        0.008366   \n",
       "57       2.893630      1.264475         0.086698        0.014904   \n",
       "55       2.552690      1.098665         0.090876        0.013730   \n",
       "58       3.013254      1.318337         0.092116        0.010506   \n",
       "59       3.315732      1.502863         0.089195        0.012104   \n",
       "54       2.418532      1.015666         0.073205        0.008858   \n",
       "60       3.369291      1.483333         0.082478        0.020068   \n",
       "61       3.788446      1.533265         0.093917        0.016396   \n",
       "53       2.403997      1.010128         0.092106        0.026421   \n",
       "62       3.849936      1.464605         0.091649        0.020672   \n",
       "\n",
       "   param_estimator__coxnetsurvivalanalysis__alphas  \\\n",
       "56                         [0.0008348032725921575]   \n",
       "57                         [0.0007606416506693003]   \n",
       "55                          [0.000916195561099456]   \n",
       "58                         [0.0006930683428400748]   \n",
       "59                         [0.0006314980614385573]   \n",
       "54                         [0.0010055234972568708]   \n",
       "60                         [0.0005753975141419445]   \n",
       "61                         [0.0005242807848475753]   \n",
       "53                          [0.001103560796913676]   \n",
       "62                         [0.0004777051249001085]   \n",
       "\n",
       "                                               params  split0_test_score  \\\n",
       "56  {'estimator__coxnetsurvivalanalysis__alphas': ...           0.778100   \n",
       "57  {'estimator__coxnetsurvivalanalysis__alphas': ...           0.778011   \n",
       "55  {'estimator__coxnetsurvivalanalysis__alphas': ...           0.778167   \n",
       "58  {'estimator__coxnetsurvivalanalysis__alphas': ...           0.777909   \n",
       "59  {'estimator__coxnetsurvivalanalysis__alphas': ...           0.777787   \n",
       "54  {'estimator__coxnetsurvivalanalysis__alphas': ...           0.778193   \n",
       "60  {'estimator__coxnetsurvivalanalysis__alphas': ...           0.777705   \n",
       "61  {'estimator__coxnetsurvivalanalysis__alphas': ...           0.777629   \n",
       "53  {'estimator__coxnetsurvivalanalysis__alphas': ...           0.778316   \n",
       "62  {'estimator__coxnetsurvivalanalysis__alphas': ...           0.777551   \n",
       "\n",
       "    split1_test_score  split2_test_score  split3_test_score  \\\n",
       "56           0.785550           0.788580           0.788143   \n",
       "57           0.785553           0.788333           0.788249   \n",
       "55           0.785486           0.788817           0.787988   \n",
       "58           0.785551           0.788111           0.788372   \n",
       "59           0.785532           0.787922           0.788483   \n",
       "54           0.785482           0.789044           0.787818   \n",
       "60           0.785518           0.787748           0.788572   \n",
       "61           0.785517           0.787543           0.788659   \n",
       "53           0.785508           0.789341           0.787470   \n",
       "62           0.785533           0.787287           0.788690   \n",
       "\n",
       "    split4_test_score  mean_test_score  std_test_score  rank_test_score  \n",
       "56           0.793872         0.786849        0.005142                1  \n",
       "57           0.794048         0.786839        0.005211                2  \n",
       "55           0.793706         0.786833        0.005088                3  \n",
       "58           0.794201         0.786829        0.005283                4  \n",
       "59           0.794267         0.786798        0.005342                5  \n",
       "54           0.793422         0.786792        0.005015                6  \n",
       "60           0.794295         0.786767        0.005377                7  \n",
       "61           0.794349         0.786739        0.005417                8  \n",
       "53           0.793030         0.786733        0.004886                9  \n",
       "62           0.794337         0.786680        0.005435               10  "
      ]
     },
     "execution_count": 139,
     "metadata": {},
     "output_type": "execute_result"
    }
   ],
   "source": [
    "lasso_search_results.sort_values(by = 'rank_test_score').head(10)"
   ]
  },
  {
   "cell_type": "code",
   "execution_count": 139,
   "id": "5b6dfee3",
   "metadata": {},
   "outputs": [
    {
     "data": {
      "text/plain": [
       "Pipeline(steps=[('columntransformer',\n",
       "                 ColumnTransformer(remainder='passthrough',\n",
       "                                   transformers=[('num',\n",
       "                                                  Pipeline(steps=[('imputer',\n",
       "                                                                   SimpleImputer(strategy='median')),\n",
       "                                                                  ('std_scaler',\n",
       "                                                                   StandardScaler())]),\n",
       "                                                  ['age', 'delta_met_diagnosis',\n",
       "                                                   'weight_diag', 'bmi_diag',\n",
       "                                                   'weight_pct_change',\n",
       "                                                   'weight_slope',\n",
       "                                                   'albumin_diag', 'alp_diag',\n",
       "                                                   'alt_diag', 'ast_diag',\n",
       "                                                   'bicarb_diag', 'bun...\n",
       "                                                   'calcium_max',\n",
       "                                                   'creatinine_max',\n",
       "                                                   'total_bilirubin_max',\n",
       "                                                   'wbc_max', 'albumin_min', ...]),\n",
       "                                                 ('cat',\n",
       "                                                  OneHotEncoder(handle_unknown='ignore'),\n",
       "                                                  ['gender', 'race',\n",
       "                                                   'ethnicity', 'p_type',\n",
       "                                                   'region', 'stage',\n",
       "                                                   'met_year', 'ER', 'HER2',\n",
       "                                                   'PR', 'BRCA', 'PIK3CA',\n",
       "                                                   'pdl1_n', 'ecog_diagnosis',\n",
       "                                                   'ses'])])),\n",
       "                ('coxnetsurvivalanalysis',\n",
       "                 CoxnetSurvivalAnalysis(alphas=[0.0008348032725921575],\n",
       "                                        l1_ratio=1.0))])"
      ]
     },
     "execution_count": 140,
     "metadata": {},
     "output_type": "execute_result"
    }
   ],
   "source": [
    "lasso = make_pipeline(preprocessor_red, CoxnetSurvivalAnalysis(l1_ratio = 1.0, \n",
    "                                                               alphas = best_lasso_alpha,\n",
    "                                                               max_iter = 100000))\n",
    "\n",
    "lasso.fit(train_x_red, train_y)"
   ]
  },
  {
   "cell_type": "code",
   "execution_count": 140,
   "id": "4b31b718",
   "metadata": {},
   "outputs": [
    {
     "name": "stdout",
     "output_type": "stream",
     "text": [
      "Test set AUC at 2 years: 0.7858957204827764\n"
     ]
    }
   ],
   "source": [
    "lasso_risk_scores_te = lasso.predict(test_x_red)\n",
    "lasso_auc_te = cumulative_dynamic_auc(train_y, test_y, lasso_risk_scores_te, 730)[0][0]\n",
    "print('Test set AUC at 2 years:', lasso_auc_te)"
   ]
  },
  {
   "cell_type": "code",
   "execution_count": 141,
   "id": "8fa276c1",
   "metadata": {},
   "outputs": [
    {
     "name": "stdout",
     "output_type": "stream",
     "text": [
      "Training set AUC at 2 years: 0.7908271109895335\n"
     ]
    }
   ],
   "source": [
    "lasso_risk_scores_tr = lasso.predict(train_x_red)\n",
    "lasso_auc_tr = cumulative_dynamic_auc(train_y, train_y, lasso_risk_scores_tr, 730)[0][0]\n",
    "print('Training set AUC at 2 years:', lasso_auc_tr)"
   ]
  },
  {
   "cell_type": "code",
   "execution_count": 142,
   "id": "0cf5fc43",
   "metadata": {},
   "outputs": [],
   "source": [
    "# Bootstrap 10000 2-yr AUCs for test set \n",
    "n_bootstraps = 10000\n",
    "rng_seed = 42 \n",
    "bootstrapped_scores_te = []\n",
    "\n",
    "rng = np.random.RandomState(rng_seed)\n",
    "for i in range(n_bootstraps):\n",
    "    indices = rng.randint(0, len(lasso_risk_scores_te), len(lasso_risk_scores_te))\n",
    "    auc_yr = cumulative_dynamic_auc(train_y, test_y[indices], lasso_risk_scores_te[indices], 730)[0][0]\n",
    "    bootstrapped_scores_te.append(auc_yr)"
   ]
  },
  {
   "cell_type": "code",
   "execution_count": 143,
   "id": "a51f9c10",
   "metadata": {},
   "outputs": [
    {
     "name": "stdout",
     "output_type": "stream",
     "text": [
      "Test set AUC standard error: 0.006562578384422904\n"
     ]
    }
   ],
   "source": [
    "# Standard error of mean for test set AUC\n",
    "sorted_scores_te = np.array(bootstrapped_scores_te)\n",
    "sorted_scores_te.sort()\n",
    "\n",
    "conf_lower_te = sorted_scores_te[int(0.025 * len(sorted_scores_te))]\n",
    "conf_upper_te = sorted_scores_te[int(0.975 * len(sorted_scores_te))]\n",
    "\n",
    "standard_error_te = (conf_upper_te - conf_lower_te) / 3.92\n",
    "print('Test set AUC standard error:', standard_error_te)"
   ]
  },
  {
   "cell_type": "code",
   "execution_count": 144,
   "id": "31a6ae22",
   "metadata": {},
   "outputs": [
    {
     "name": "stderr",
     "output_type": "stream",
     "text": [
      "/Applications/anaconda3/lib/python3.7/site-packages/sklearn/pipeline.py:394: UserWarning: all coefficients are zero, consider decreasing alpha.\n",
      "  self._final_estimator.fit(Xt, y, **fit_params_last_step)\n",
      "/Applications/anaconda3/lib/python3.7/site-packages/sklearn/pipeline.py:394: UserWarning: all coefficients are zero, consider decreasing alpha.\n",
      "  self._final_estimator.fit(Xt, y, **fit_params_last_step)\n"
     ]
    }
   ],
   "source": [
    "# Bootstrap 10000 3-yr AUCs for train set \n",
    "n_bootstraps = 10000\n",
    "rng_seed = 42 \n",
    "bootstrapped_scores_tr = []\n",
    "\n",
    "rng = np.random.RandomState(rng_seed)\n",
    "for i in range(n_bootstraps):\n",
    "    indices = rng.randint(0, len(lasso_risk_scores_tr), len(lasso_risk_scores_tr))\n",
    "    auc_yr = cumulative_dynamic_auc(train_y, train_y[indices], lasso_risk_scores_tr[indices], 730)[0][0]\n",
    "    bootstrapped_scores_tr.append(auc_yr)"
   ]
  },
  {
   "cell_type": "code",
   "execution_count": 145,
   "id": "c4d25bed",
   "metadata": {},
   "outputs": [
    {
     "name": "stdout",
     "output_type": "stream",
     "text": [
      "Training set AUC standard error 0.0032938731058784585\n"
     ]
    }
   ],
   "source": [
    "# Standard error of mean for train set AUC\n",
    "sorted_scores_tr = np.array(bootstrapped_scores_tr)\n",
    "sorted_scores_tr.sort()\n",
    "\n",
    "conf_lower_tr = sorted_scores_tr[int(0.025 * len(sorted_scores_tr))]\n",
    "conf_upper_tr = sorted_scores_tr[int(0.975 * len(sorted_scores_tr))]\n",
    "\n",
    "standard_error_tr = (conf_upper_tr - conf_lower_tr) / 3.92\n",
    "print('Training set AUC standard error', standard_error_tr)"
   ]
  },
  {
   "cell_type": "code",
   "execution_count": 146,
   "id": "d3ca8a12",
   "metadata": {},
   "outputs": [],
   "source": [
    "crude_auc_data = {'model': 'lasso_crude',\n",
    "                  'auc_2yr_te': lasso_auc_te,\n",
    "                  'sem_te': standard_error_te,\n",
    "                  'auc_2yr_tr': lasso_auc_tr,\n",
    "                  'sem_tr': standard_error_tr}"
   ]
  },
  {
   "cell_type": "code",
   "execution_count": 147,
   "id": "6f82f876",
   "metadata": {},
   "outputs": [],
   "source": [
    "crude_auc_df = pd.read_csv('crude_auc_df.csv')"
   ]
  },
  {
   "cell_type": "code",
   "execution_count": 148,
   "id": "9437a337",
   "metadata": {},
   "outputs": [],
   "source": [
    "crude_auc_df = crude_auc_df.append(crude_auc_data, ignore_index = True)"
   ]
  },
  {
   "cell_type": "code",
   "execution_count": 149,
   "id": "11fcb452",
   "metadata": {},
   "outputs": [
    {
     "data": {
      "text/html": [
       "<div>\n",
       "<style scoped>\n",
       "    .dataframe tbody tr th:only-of-type {\n",
       "        vertical-align: middle;\n",
       "    }\n",
       "\n",
       "    .dataframe tbody tr th {\n",
       "        vertical-align: top;\n",
       "    }\n",
       "\n",
       "    .dataframe thead th {\n",
       "        text-align: right;\n",
       "    }\n",
       "</style>\n",
       "<table border=\"1\" class=\"dataframe\">\n",
       "  <thead>\n",
       "    <tr style=\"text-align: right;\">\n",
       "      <th></th>\n",
       "      <th>model</th>\n",
       "      <th>auc_2yr_te</th>\n",
       "      <th>sem_te</th>\n",
       "      <th>auc_2yr_tr</th>\n",
       "      <th>sem_tr</th>\n",
       "    </tr>\n",
       "  </thead>\n",
       "  <tbody>\n",
       "    <tr>\n",
       "      <th>0</th>\n",
       "      <td>gbm_crude</td>\n",
       "      <td>0.817707</td>\n",
       "      <td>0.005979</td>\n",
       "      <td>0.849410</td>\n",
       "      <td>0.002789</td>\n",
       "    </tr>\n",
       "    <tr>\n",
       "      <th>1</th>\n",
       "      <td>rsf_crude</td>\n",
       "      <td>0.797620</td>\n",
       "      <td>0.006318</td>\n",
       "      <td>0.916818</td>\n",
       "      <td>0.001940</td>\n",
       "    </tr>\n",
       "    <tr>\n",
       "      <th>2</th>\n",
       "      <td>ridge_crude</td>\n",
       "      <td>0.785537</td>\n",
       "      <td>0.006508</td>\n",
       "      <td>0.789876</td>\n",
       "      <td>0.003292</td>\n",
       "    </tr>\n",
       "    <tr>\n",
       "      <th>3</th>\n",
       "      <td>lasso_crude</td>\n",
       "      <td>0.785896</td>\n",
       "      <td>0.006563</td>\n",
       "      <td>0.790827</td>\n",
       "      <td>0.003294</td>\n",
       "    </tr>\n",
       "  </tbody>\n",
       "</table>\n",
       "</div>"
      ],
      "text/plain": [
       "         model  auc_2yr_te    sem_te  auc_2yr_tr    sem_tr\n",
       "0    gbm_crude    0.817707  0.005979    0.849410  0.002789\n",
       "1    rsf_crude    0.797620  0.006318    0.916818  0.001940\n",
       "2  ridge_crude    0.785537  0.006508    0.789876  0.003292\n",
       "3  lasso_crude    0.785896  0.006563    0.790827  0.003294"
      ]
     },
     "execution_count": 150,
     "metadata": {},
     "output_type": "execute_result"
    }
   ],
   "source": [
    "crude_auc_df"
   ]
  },
  {
   "cell_type": "code",
   "execution_count": 150,
   "id": "92b603a5",
   "metadata": {},
   "outputs": [],
   "source": [
    "crude_auc_df.to_csv('crude_auc_df.csv', index = False, header = True)"
   ]
  },
  {
   "cell_type": "code",
   "execution_count": 151,
   "id": "2dfc9aa1",
   "metadata": {},
   "outputs": [],
   "source": [
    "times = np.arange(30, 1810, 30)\n",
    "crude_lasso_auc_over5 = cumulative_dynamic_auc(train_y, test_y, lasso_risk_scores_te, times)[0]\n",
    "\n",
    "times_data = {}\n",
    "values = crude_lasso_auc_over5\n",
    "time_names = []\n",
    "\n",
    "for x in range(len(times)):\n",
    "    time_names.append('time_'+str(times[x]))\n",
    "\n",
    "for i in range(len(time_names)):\n",
    "    times_data[time_names[i]] = values[i]\n",
    "    \n",
    "crude_lasso_over5_df = pd.DataFrame(times_data, index = ['lasso_crude'])"
   ]
  },
  {
   "cell_type": "code",
   "execution_count": 152,
   "id": "70b07223",
   "metadata": {},
   "outputs": [],
   "source": [
    "crude_auc_over5 = pd.read_csv('crude_auc_over5.csv', index_col = 0)"
   ]
  },
  {
   "cell_type": "code",
   "execution_count": 153,
   "id": "6587f38c",
   "metadata": {},
   "outputs": [],
   "source": [
    "crude_auc_over5 = crude_auc_over5.append(crude_lasso_over5_df, ignore_index = False)"
   ]
  },
  {
   "cell_type": "code",
   "execution_count": 154,
   "id": "1838b2ab",
   "metadata": {},
   "outputs": [
    {
     "data": {
      "text/html": [
       "<div>\n",
       "<style scoped>\n",
       "    .dataframe tbody tr th:only-of-type {\n",
       "        vertical-align: middle;\n",
       "    }\n",
       "\n",
       "    .dataframe tbody tr th {\n",
       "        vertical-align: top;\n",
       "    }\n",
       "\n",
       "    .dataframe thead th {\n",
       "        text-align: right;\n",
       "    }\n",
       "</style>\n",
       "<table border=\"1\" class=\"dataframe\">\n",
       "  <thead>\n",
       "    <tr style=\"text-align: right;\">\n",
       "      <th></th>\n",
       "      <th>time_30</th>\n",
       "      <th>time_60</th>\n",
       "      <th>time_90</th>\n",
       "      <th>time_120</th>\n",
       "      <th>time_150</th>\n",
       "      <th>time_180</th>\n",
       "      <th>time_210</th>\n",
       "      <th>time_240</th>\n",
       "      <th>time_270</th>\n",
       "      <th>time_300</th>\n",
       "      <th>...</th>\n",
       "      <th>time_1530</th>\n",
       "      <th>time_1560</th>\n",
       "      <th>time_1590</th>\n",
       "      <th>time_1620</th>\n",
       "      <th>time_1650</th>\n",
       "      <th>time_1680</th>\n",
       "      <th>time_1710</th>\n",
       "      <th>time_1740</th>\n",
       "      <th>time_1770</th>\n",
       "      <th>time_1800</th>\n",
       "    </tr>\n",
       "  </thead>\n",
       "  <tbody>\n",
       "    <tr>\n",
       "      <th>gbm_crude</th>\n",
       "      <td>0.865653</td>\n",
       "      <td>0.884240</td>\n",
       "      <td>0.866949</td>\n",
       "      <td>0.865569</td>\n",
       "      <td>0.861561</td>\n",
       "      <td>0.852376</td>\n",
       "      <td>0.852850</td>\n",
       "      <td>0.850731</td>\n",
       "      <td>0.851161</td>\n",
       "      <td>0.849431</td>\n",
       "      <td>...</td>\n",
       "      <td>0.782725</td>\n",
       "      <td>0.779661</td>\n",
       "      <td>0.781463</td>\n",
       "      <td>0.781015</td>\n",
       "      <td>0.779310</td>\n",
       "      <td>0.779304</td>\n",
       "      <td>0.777667</td>\n",
       "      <td>0.776433</td>\n",
       "      <td>0.776933</td>\n",
       "      <td>0.776247</td>\n",
       "    </tr>\n",
       "    <tr>\n",
       "      <th>rsf_crude</th>\n",
       "      <td>0.866668</td>\n",
       "      <td>0.876143</td>\n",
       "      <td>0.852497</td>\n",
       "      <td>0.850469</td>\n",
       "      <td>0.846343</td>\n",
       "      <td>0.836480</td>\n",
       "      <td>0.835673</td>\n",
       "      <td>0.831395</td>\n",
       "      <td>0.830522</td>\n",
       "      <td>0.829236</td>\n",
       "      <td>...</td>\n",
       "      <td>0.763159</td>\n",
       "      <td>0.759102</td>\n",
       "      <td>0.761464</td>\n",
       "      <td>0.761499</td>\n",
       "      <td>0.757960</td>\n",
       "      <td>0.756729</td>\n",
       "      <td>0.756293</td>\n",
       "      <td>0.756140</td>\n",
       "      <td>0.755578</td>\n",
       "      <td>0.754173</td>\n",
       "    </tr>\n",
       "    <tr>\n",
       "      <th>ridge_crude</th>\n",
       "      <td>0.847699</td>\n",
       "      <td>0.851870</td>\n",
       "      <td>0.835914</td>\n",
       "      <td>0.829498</td>\n",
       "      <td>0.825503</td>\n",
       "      <td>0.815028</td>\n",
       "      <td>0.814743</td>\n",
       "      <td>0.813877</td>\n",
       "      <td>0.815353</td>\n",
       "      <td>0.812816</td>\n",
       "      <td>...</td>\n",
       "      <td>0.757919</td>\n",
       "      <td>0.755934</td>\n",
       "      <td>0.757266</td>\n",
       "      <td>0.759101</td>\n",
       "      <td>0.758257</td>\n",
       "      <td>0.756038</td>\n",
       "      <td>0.754627</td>\n",
       "      <td>0.752895</td>\n",
       "      <td>0.754179</td>\n",
       "      <td>0.755089</td>\n",
       "    </tr>\n",
       "    <tr>\n",
       "      <th>lasso_crude</th>\n",
       "      <td>0.844126</td>\n",
       "      <td>0.849688</td>\n",
       "      <td>0.833727</td>\n",
       "      <td>0.828378</td>\n",
       "      <td>0.825278</td>\n",
       "      <td>0.815491</td>\n",
       "      <td>0.815472</td>\n",
       "      <td>0.814085</td>\n",
       "      <td>0.815791</td>\n",
       "      <td>0.813255</td>\n",
       "      <td>...</td>\n",
       "      <td>0.757880</td>\n",
       "      <td>0.756026</td>\n",
       "      <td>0.757339</td>\n",
       "      <td>0.759036</td>\n",
       "      <td>0.758399</td>\n",
       "      <td>0.756208</td>\n",
       "      <td>0.754680</td>\n",
       "      <td>0.753027</td>\n",
       "      <td>0.754558</td>\n",
       "      <td>0.755559</td>\n",
       "    </tr>\n",
       "  </tbody>\n",
       "</table>\n",
       "<p>4 rows × 60 columns</p>\n",
       "</div>"
      ],
      "text/plain": [
       "              time_30   time_60   time_90  time_120  time_150  time_180  \\\n",
       "gbm_crude    0.865653  0.884240  0.866949  0.865569  0.861561  0.852376   \n",
       "rsf_crude    0.866668  0.876143  0.852497  0.850469  0.846343  0.836480   \n",
       "ridge_crude  0.847699  0.851870  0.835914  0.829498  0.825503  0.815028   \n",
       "lasso_crude  0.844126  0.849688  0.833727  0.828378  0.825278  0.815491   \n",
       "\n",
       "             time_210  time_240  time_270  time_300  ...  time_1530  \\\n",
       "gbm_crude    0.852850  0.850731  0.851161  0.849431  ...   0.782725   \n",
       "rsf_crude    0.835673  0.831395  0.830522  0.829236  ...   0.763159   \n",
       "ridge_crude  0.814743  0.813877  0.815353  0.812816  ...   0.757919   \n",
       "lasso_crude  0.815472  0.814085  0.815791  0.813255  ...   0.757880   \n",
       "\n",
       "             time_1560  time_1590  time_1620  time_1650  time_1680  time_1710  \\\n",
       "gbm_crude     0.779661   0.781463   0.781015   0.779310   0.779304   0.777667   \n",
       "rsf_crude     0.759102   0.761464   0.761499   0.757960   0.756729   0.756293   \n",
       "ridge_crude   0.755934   0.757266   0.759101   0.758257   0.756038   0.754627   \n",
       "lasso_crude   0.756026   0.757339   0.759036   0.758399   0.756208   0.754680   \n",
       "\n",
       "             time_1740  time_1770  time_1800  \n",
       "gbm_crude     0.776433   0.776933   0.776247  \n",
       "rsf_crude     0.756140   0.755578   0.754173  \n",
       "ridge_crude   0.752895   0.754179   0.755089  \n",
       "lasso_crude   0.753027   0.754558   0.755559  \n",
       "\n",
       "[4 rows x 60 columns]"
      ]
     },
     "execution_count": 155,
     "metadata": {},
     "output_type": "execute_result"
    }
   ],
   "source": [
    "crude_auc_over5"
   ]
  },
  {
   "cell_type": "code",
   "execution_count": 155,
   "id": "a405840b",
   "metadata": {},
   "outputs": [],
   "source": [
    "crude_auc_over5.to_csv('crude_auc_over5.csv', index = True, header = True)"
   ]
  },
  {
   "cell_type": "code",
   "execution_count": 156,
   "id": "7ef6e3fe",
   "metadata": {},
   "outputs": [],
   "source": [
    "# Variables passing through pipeline\n",
    "cat_encoder = list(preprocessor_red.transformers_[1][1].get_feature_names(categorical_features))\n",
    "pass_through = list(train_x_red.iloc[:, preprocessor_red.transformers_[2][2]].columns)\n",
    "attributes = numerical_features_red + cat_encoder + pass_through"
   ]
  },
  {
   "cell_type": "code",
   "execution_count": 157,
   "id": "a0d90b74",
   "metadata": {},
   "outputs": [
    {
     "name": "stdout",
     "output_type": "stream",
     "text": [
      "Total number of features: 195\n",
      "Number of non-zero features in final model: 116\n"
     ]
    },
    {
     "data": {
      "image/png": "[encoded data removed]",
      "text/plain": [
       "<Figure size 432x576 with 1 Axes>"
      ]
     },
     "metadata": {
      "needs_background": "light"
     },
     "output_type": "display_data"
    }
   ],
   "source": [
    "# Dataframe of coefficients for each variable \n",
    "coefficients_lasso = pd.DataFrame(\n",
    "    lasso.named_steps['coxnetsurvivalanalysis'].coef_,\n",
    "    index = attributes,\n",
    "    columns = ['coefficient']\n",
    ")\n",
    "\n",
    "print('Total number of features: {}'.format(len(attributes)))\n",
    "\n",
    "non_zero = np.sum(coefficients_lasso.iloc[:, 0] != 0)\n",
    "print('Number of non-zero features in final model: {}'.format(non_zero))\n",
    "\n",
    "non_zero_coefs = coefficients_lasso.query('coefficient != 0')\n",
    "coef_order = non_zero_coefs.abs().sort_values('coefficient').tail(30).index\n",
    "\n",
    "_, ax = plt.subplots(figsize=(6, 8))\n",
    "non_zero_coefs.loc[coef_order].plot.barh(ax = ax, legend = False)\n",
    "ax.set_xlabel('coefficient')\n",
    "ax.grid(True)"
   ]
  },
  {
   "cell_type": "markdown",
   "id": "ddbe0b63",
   "metadata": {},
   "source": [
    "### 4.3 Elastic net "
   ]
  },
  {
   "cell_type": "code",
   "execution_count": 158,
   "id": "7cbb1a2e",
   "metadata": {},
   "outputs": [
    {
     "data": {
      "text/plain": [
       "Pipeline(steps=[('columntransformer',\n",
       "                 ColumnTransformer(remainder='passthrough',\n",
       "                                   transformers=[('num',\n",
       "                                                  Pipeline(steps=[('imputer',\n",
       "                                                                   SimpleImputer(strategy='median')),\n",
       "                                                                  ('std_scaler',\n",
       "                                                                   StandardScaler())]),\n",
       "                                                  ['age', 'delta_met_diagnosis',\n",
       "                                                   'weight_diag', 'bmi_diag',\n",
       "                                                   'weight_pct_change',\n",
       "                                                   'weight_slope',\n",
       "                                                   'albumin_diag', 'alp_diag',\n",
       "                                                   'alt_diag', 'ast_diag',\n",
       "                                                   'bicarb_diag', 'bun...\n",
       "                                                   'calcium_max',\n",
       "                                                   'creatinine_max',\n",
       "                                                   'total_bilirubin_max',\n",
       "                                                   'wbc_max', 'albumin_min', ...]),\n",
       "                                                 ('cat',\n",
       "                                                  OneHotEncoder(handle_unknown='ignore'),\n",
       "                                                  ['gender', 'race',\n",
       "                                                   'ethnicity', 'p_type',\n",
       "                                                   'region', 'stage',\n",
       "                                                   'met_year', 'ER', 'HER2',\n",
       "                                                   'PR', 'BRCA', 'PIK3CA',\n",
       "                                                   'pdl1_n', 'ecog_diagnosis',\n",
       "                                                   'ses'])])),\n",
       "                ('coxnetsurvivalanalysis',\n",
       "                 CoxnetSurvivalAnalysis(alpha_min_ratio=0.0001, l1_ratio=0.8))])"
      ]
     },
     "execution_count": 159,
     "metadata": {},
     "output_type": "execute_result"
    }
   ],
   "source": [
    "enet = make_pipeline(preprocessor_red, CoxnetSurvivalAnalysis(l1_ratio = 0.8, alpha_min_ratio = 0.0001))\n",
    "\n",
    "enet.fit(train_x_red, train_y)"
   ]
  },
  {
   "cell_type": "code",
   "execution_count": 159,
   "id": "52a79434",
   "metadata": {},
   "outputs": [
    {
     "data": {
      "text/plain": [
       "array([1.91038288e-01, 1.74066973e-01, 1.58603343e-01, 1.44513459e-01,\n",
       "       1.31675282e-01, 1.19977613e-01, 1.09319132e-01, 9.96075219e-02,\n",
       "       9.07586642e-02, 8.26959146e-02, 7.53494375e-02, 6.86556011e-02,\n",
       "       6.25564268e-02, 5.69990862e-02, 5.19354445e-02, 4.73216427e-02,\n",
       "       4.31177184e-02, 3.92872592e-02, 3.57970873e-02, 3.26169728e-02,\n",
       "       2.97193708e-02, 2.70791838e-02, 2.46735437e-02, 2.24816141e-02,\n",
       "       2.04844095e-02, 1.86646310e-02, 1.70065166e-02, 1.54957046e-02,\n",
       "       1.41191089e-02, 1.28648062e-02, 1.17219322e-02, 1.06805881e-02,\n",
       "       9.73175408e-03, 8.86721186e-03, 8.07947320e-03, 7.36171507e-03,\n",
       "       6.70772059e-03, 6.11182518e-03, 5.56886748e-03, 5.07414464e-03,\n",
       "       4.62337162e-03, 4.21264402e-03, 3.83840434e-03, 3.49741108e-03,\n",
       "       3.18671072e-03, 2.90361212e-03, 2.64566322e-03, 2.41062979e-03,\n",
       "       2.19647609e-03, 2.00134720e-03, 1.82355303e-03, 1.66155361e-03,\n",
       "       1.51394577e-03, 1.37945100e-03, 1.25690437e-03, 1.14524445e-03,\n",
       "       1.04350409e-03, 9.50802063e-04, 8.66335429e-04, 7.89372577e-04,\n",
       "       7.19246893e-04, 6.55350981e-04, 5.97131406e-04, 5.44083898e-04,\n",
       "       4.95748984e-04, 4.51708010e-04, 4.11579516e-04, 3.75015926e-04,\n",
       "       3.41700545e-04, 3.11344810e-04, 2.83685795e-04, 2.58483931e-04,\n",
       "       2.35520931e-04, 2.14597901e-04, 1.95533615e-04, 1.78162947e-04,\n",
       "       1.62335442e-04, 1.47914009e-04, 1.34773736e-04, 1.22800809e-04])"
      ]
     },
     "execution_count": 160,
     "metadata": {},
     "output_type": "execute_result"
    }
   ],
   "source": [
    "enet.named_steps['coxnetsurvivalanalysis'].alphas_"
   ]
  },
  {
   "cell_type": "code",
   "execution_count": 160,
   "id": "d85b4819",
   "metadata": {},
   "outputs": [],
   "source": [
    "estimated_alphas = enet.named_steps['coxnetsurvivalanalysis'].alphas_"
   ]
  },
  {
   "cell_type": "code",
   "execution_count": 161,
   "id": "87144802",
   "metadata": {},
   "outputs": [
    {
     "name": "stderr",
     "output_type": "stream",
     "text": [
      "/Applications/anaconda3/lib/python3.7/site-packages/sklearn/pipeline.py:394: UserWarning: all coefficients are zero, consider decreasing alpha.\n",
      "  self._final_estimator.fit(Xt, y, **fit_params_last_step)\n"
     ]
    },
    {
     "data": {
      "text/plain": [
       "GridSearchCV(cv=StratifiedKFold(n_splits=5, random_state=42, shuffle=True),\n",
       "             error_score=0.5,\n",
       "             estimator=as_cumulative_dynamic_auc_scorer(estimator=Pipeline(steps=[('columntransformer',\n",
       "                                                                                   ColumnTransformer(remainder='passthrough',\n",
       "                                                                                                     transformers=[('num',\n",
       "                                                                                                                    Pipeline(steps=[('imputer',\n",
       "                                                                                                                                     SimpleImputer(strategy='median')),\n",
       "                                                                                                                                    ('std_scaler',\n",
       "                                                                                                                                     StandardScaler())]),\n",
       "                                                                                                                    ['age',\n",
       "                                                                                                                     'delta...\n",
       "                                                                       [0.047321642742419755],\n",
       "                                                                       [0.04311771842509572],\n",
       "                                                                       [0.03928725915762183],\n",
       "                                                                       [0.035797087334282204],\n",
       "                                                                       [0.03261697275641145],\n",
       "                                                                       [0.02971937079287568],\n",
       "                                                                       [0.027079183801654777],\n",
       "                                                                       [0.024673543746073678],\n",
       "                                                                       [0.022481614122808587],\n",
       "                                                                       [0.020484409486063178],\n",
       "                                                                       [0.018664631004719597],\n",
       "                                                                       [0.017006516628138922],\n",
       "                                                                       [0.015495704562818957],\n",
       "                                                                       [0.014119108877409484],\n",
       "                                                                       [0.012864806158635096], ...]},\n",
       "             refit=False)"
      ]
     },
     "execution_count": 162,
     "metadata": {},
     "output_type": "execute_result"
    }
   ],
   "source": [
    "pipe = make_pipeline(preprocessor_red, CoxnetSurvivalAnalysis(l1_ratio = 0.9, max_iter = 100000))\n",
    "\n",
    "# 5 fold cross-validation\n",
    "cv = StratifiedKFold(n_splits = 5, shuffle = True, random_state = 42)\n",
    "\n",
    "# Parameter gird \n",
    "param_grid = {'estimator__coxnetsurvivalanalysis__alphas': [[x] for x in estimated_alphas]}\n",
    "\n",
    "enet_search = GridSearchCV(\n",
    "    as_cumulative_dynamic_auc_scorer(pipe, 730),\n",
    "    param_grid = param_grid,\n",
    "    cv = cv,\n",
    "    error_score = 0.5,\n",
    "    n_jobs = -1,\n",
    "    refit = False)\n",
    "\n",
    "# Run search \n",
    "warnings.filterwarnings('ignore')\n",
    "enet_search.fit(train_x_red, train_y)"
   ]
  },
  {
   "cell_type": "code",
   "execution_count": 162,
   "id": "903c3556",
   "metadata": {},
   "outputs": [
    {
     "data": {
      "text/plain": [
       "{'estimator__coxnetsurvivalanalysis__alphas': [0.0009508020633366257]}"
      ]
     },
     "execution_count": 163,
     "metadata": {},
     "output_type": "execute_result"
    }
   ],
   "source": [
    "enet_search.best_params_"
   ]
  },
  {
   "cell_type": "code",
   "execution_count": 163,
   "id": "7677809d",
   "metadata": {},
   "outputs": [],
   "source": [
    "best_enet_alpha = enet_search.best_params_.get('estimator__coxnetsurvivalanalysis__alphas')"
   ]
  },
  {
   "cell_type": "code",
   "execution_count": 164,
   "id": "32e4539f",
   "metadata": {},
   "outputs": [],
   "source": [
    "enet_search_results = pd.DataFrame(enet_search.cv_results_)"
   ]
  },
  {
   "cell_type": "code",
   "execution_count": 165,
   "id": "4e78ec6b",
   "metadata": {},
   "outputs": [
    {
     "data": {
      "text/html": [
       "<div>\n",
       "<style scoped>\n",
       "    .dataframe tbody tr th:only-of-type {\n",
       "        vertical-align: middle;\n",
       "    }\n",
       "\n",
       "    .dataframe tbody tr th {\n",
       "        vertical-align: top;\n",
       "    }\n",
       "\n",
       "    .dataframe thead th {\n",
       "        text-align: right;\n",
       "    }\n",
       "</style>\n",
       "<table border=\"1\" class=\"dataframe\">\n",
       "  <thead>\n",
       "    <tr style=\"text-align: right;\">\n",
       "      <th></th>\n",
       "      <th>mean_fit_time</th>\n",
       "      <th>std_fit_time</th>\n",
       "      <th>mean_score_time</th>\n",
       "      <th>std_score_time</th>\n",
       "      <th>param_estimator__coxnetsurvivalanalysis__alphas</th>\n",
       "      <th>params</th>\n",
       "      <th>split0_test_score</th>\n",
       "      <th>split1_test_score</th>\n",
       "      <th>split2_test_score</th>\n",
       "      <th>split3_test_score</th>\n",
       "      <th>split4_test_score</th>\n",
       "      <th>mean_test_score</th>\n",
       "      <th>std_test_score</th>\n",
       "      <th>rank_test_score</th>\n",
       "    </tr>\n",
       "  </thead>\n",
       "  <tbody>\n",
       "    <tr>\n",
       "      <th>57</th>\n",
       "      <td>2.047803</td>\n",
       "      <td>0.967821</td>\n",
       "      <td>0.068946</td>\n",
       "      <td>0.014817</td>\n",
       "      <td>[0.0009508020633366257]</td>\n",
       "      <td>{'estimator__coxnetsurvivalanalysis__alphas': ...</td>\n",
       "      <td>0.778195</td>\n",
       "      <td>0.785502</td>\n",
       "      <td>0.788670</td>\n",
       "      <td>0.787958</td>\n",
       "      <td>0.793750</td>\n",
       "      <td>0.786815</td>\n",
       "      <td>0.005077</td>\n",
       "      <td>1</td>\n",
       "    </tr>\n",
       "    <tr>\n",
       "      <th>56</th>\n",
       "      <td>2.004508</td>\n",
       "      <td>0.887243</td>\n",
       "      <td>0.065650</td>\n",
       "      <td>0.016487</td>\n",
       "      <td>[0.0010435040907401973]</td>\n",
       "      <td>{'estimator__coxnetsurvivalanalysis__alphas': ...</td>\n",
       "      <td>0.778259</td>\n",
       "      <td>0.785440</td>\n",
       "      <td>0.788920</td>\n",
       "      <td>0.787821</td>\n",
       "      <td>0.793571</td>\n",
       "      <td>0.786802</td>\n",
       "      <td>0.005023</td>\n",
       "      <td>2</td>\n",
       "    </tr>\n",
       "    <tr>\n",
       "      <th>58</th>\n",
       "      <td>2.261800</td>\n",
       "      <td>0.975523</td>\n",
       "      <td>0.075735</td>\n",
       "      <td>0.014043</td>\n",
       "      <td>[0.0008663354285500938]</td>\n",
       "      <td>{'estimator__coxnetsurvivalanalysis__alphas': ...</td>\n",
       "      <td>0.778111</td>\n",
       "      <td>0.785499</td>\n",
       "      <td>0.788408</td>\n",
       "      <td>0.788064</td>\n",
       "      <td>0.793914</td>\n",
       "      <td>0.786799</td>\n",
       "      <td>0.005138</td>\n",
       "      <td>3</td>\n",
       "    </tr>\n",
       "    <tr>\n",
       "      <th>59</th>\n",
       "      <td>2.259099</td>\n",
       "      <td>1.058197</td>\n",
       "      <td>0.066270</td>\n",
       "      <td>0.007055</td>\n",
       "      <td>[0.000789372576798197]</td>\n",
       "      <td>{'estimator__coxnetsurvivalanalysis__alphas': ...</td>\n",
       "      <td>0.778038</td>\n",
       "      <td>0.785471</td>\n",
       "      <td>0.788165</td>\n",
       "      <td>0.788192</td>\n",
       "      <td>0.794089</td>\n",
       "      <td>0.786791</td>\n",
       "      <td>0.005205</td>\n",
       "      <td>4</td>\n",
       "    </tr>\n",
       "    <tr>\n",
       "      <th>60</th>\n",
       "      <td>2.397942</td>\n",
       "      <td>1.156095</td>\n",
       "      <td>0.075159</td>\n",
       "      <td>0.014053</td>\n",
       "      <td>[0.0007192468926774309]</td>\n",
       "      <td>{'estimator__coxnetsurvivalanalysis__alphas': ...</td>\n",
       "      <td>0.777886</td>\n",
       "      <td>0.785461</td>\n",
       "      <td>0.788004</td>\n",
       "      <td>0.788329</td>\n",
       "      <td>0.794158</td>\n",
       "      <td>0.786768</td>\n",
       "      <td>0.005276</td>\n",
       "      <td>5</td>\n",
       "    </tr>\n",
       "    <tr>\n",
       "      <th>55</th>\n",
       "      <td>1.924336</td>\n",
       "      <td>0.916075</td>\n",
       "      <td>0.068441</td>\n",
       "      <td>0.017976</td>\n",
       "      <td>[0.0011452444513743204]</td>\n",
       "      <td>{'estimator__coxnetsurvivalanalysis__alphas': ...</td>\n",
       "      <td>0.778297</td>\n",
       "      <td>0.785448</td>\n",
       "      <td>0.789207</td>\n",
       "      <td>0.787597</td>\n",
       "      <td>0.793224</td>\n",
       "      <td>0.786755</td>\n",
       "      <td>0.004936</td>\n",
       "      <td>6</td>\n",
       "    </tr>\n",
       "    <tr>\n",
       "      <th>61</th>\n",
       "      <td>2.690349</td>\n",
       "      <td>1.362531</td>\n",
       "      <td>0.068487</td>\n",
       "      <td>0.011792</td>\n",
       "      <td>[0.0006553509810594694]</td>\n",
       "      <td>{'estimator__coxnetsurvivalanalysis__alphas': ...</td>\n",
       "      <td>0.777807</td>\n",
       "      <td>0.785447</td>\n",
       "      <td>0.787796</td>\n",
       "      <td>0.788443</td>\n",
       "      <td>0.794237</td>\n",
       "      <td>0.786746</td>\n",
       "      <td>0.005323</td>\n",
       "      <td>7</td>\n",
       "    </tr>\n",
       "    <tr>\n",
       "      <th>62</th>\n",
       "      <td>2.857391</td>\n",
       "      <td>1.440786</td>\n",
       "      <td>0.057884</td>\n",
       "      <td>0.011748</td>\n",
       "      <td>[0.0005971314061251359]</td>\n",
       "      <td>{'estimator__coxnetsurvivalanalysis__alphas': ...</td>\n",
       "      <td>0.777690</td>\n",
       "      <td>0.785473</td>\n",
       "      <td>0.787607</td>\n",
       "      <td>0.788506</td>\n",
       "      <td>0.794272</td>\n",
       "      <td>0.786710</td>\n",
       "      <td>0.005369</td>\n",
       "      <td>8</td>\n",
       "    </tr>\n",
       "    <tr>\n",
       "      <th>54</th>\n",
       "      <td>1.732264</td>\n",
       "      <td>0.846222</td>\n",
       "      <td>0.067193</td>\n",
       "      <td>0.010994</td>\n",
       "      <td>[0.0012569043715710889]</td>\n",
       "      <td>{'estimator__coxnetsurvivalanalysis__alphas': ...</td>\n",
       "      <td>0.778365</td>\n",
       "      <td>0.785451</td>\n",
       "      <td>0.789450</td>\n",
       "      <td>0.787243</td>\n",
       "      <td>0.792907</td>\n",
       "      <td>0.786683</td>\n",
       "      <td>0.004846</td>\n",
       "      <td>9</td>\n",
       "    </tr>\n",
       "    <tr>\n",
       "      <th>63</th>\n",
       "      <td>2.846187</td>\n",
       "      <td>1.070318</td>\n",
       "      <td>0.075547</td>\n",
       "      <td>0.012234</td>\n",
       "      <td>[0.0005440838977680964]</td>\n",
       "      <td>{'estimator__coxnetsurvivalanalysis__alphas': ...</td>\n",
       "      <td>0.777606</td>\n",
       "      <td>0.785497</td>\n",
       "      <td>0.787384</td>\n",
       "      <td>0.788551</td>\n",
       "      <td>0.794309</td>\n",
       "      <td>0.786669</td>\n",
       "      <td>0.005403</td>\n",
       "      <td>10</td>\n",
       "    </tr>\n",
       "  </tbody>\n",
       "</table>\n",
       "</div>"
      ],
      "text/plain": [
       "    mean_fit_time  std_fit_time  mean_score_time  std_score_time  \\\n",
       "57       2.047803      0.967821         0.068946        0.014817   \n",
       "56       2.004508      0.887243         0.065650        0.016487   \n",
       "58       2.261800      0.975523         0.075735        0.014043   \n",
       "59       2.259099      1.058197         0.066270        0.007055   \n",
       "60       2.397942      1.156095         0.075159        0.014053   \n",
       "55       1.924336      0.916075         0.068441        0.017976   \n",
       "61       2.690349      1.362531         0.068487        0.011792   \n",
       "62       2.857391      1.440786         0.057884        0.011748   \n",
       "54       1.732264      0.846222         0.067193        0.010994   \n",
       "63       2.846187      1.070318         0.075547        0.012234   \n",
       "\n",
       "   param_estimator__coxnetsurvivalanalysis__alphas  \\\n",
       "57                         [0.0009508020633366257]   \n",
       "56                         [0.0010435040907401973]   \n",
       "58                         [0.0008663354285500938]   \n",
       "59                          [0.000789372576798197]   \n",
       "60                         [0.0007192468926774309]   \n",
       "55                         [0.0011452444513743204]   \n",
       "61                         [0.0006553509810594694]   \n",
       "62                         [0.0005971314061251359]   \n",
       "54                         [0.0012569043715710889]   \n",
       "63                         [0.0005440838977680964]   \n",
       "\n",
       "                                               params  split0_test_score  \\\n",
       "57  {'estimator__coxnetsurvivalanalysis__alphas': ...           0.778195   \n",
       "56  {'estimator__coxnetsurvivalanalysis__alphas': ...           0.778259   \n",
       "58  {'estimator__coxnetsurvivalanalysis__alphas': ...           0.778111   \n",
       "59  {'estimator__coxnetsurvivalanalysis__alphas': ...           0.778038   \n",
       "60  {'estimator__coxnetsurvivalanalysis__alphas': ...           0.777886   \n",
       "55  {'estimator__coxnetsurvivalanalysis__alphas': ...           0.778297   \n",
       "61  {'estimator__coxnetsurvivalanalysis__alphas': ...           0.777807   \n",
       "62  {'estimator__coxnetsurvivalanalysis__alphas': ...           0.777690   \n",
       "54  {'estimator__coxnetsurvivalanalysis__alphas': ...           0.778365   \n",
       "63  {'estimator__coxnetsurvivalanalysis__alphas': ...           0.777606   \n",
       "\n",
       "    split1_test_score  split2_test_score  split3_test_score  \\\n",
       "57           0.785502           0.788670           0.787958   \n",
       "56           0.785440           0.788920           0.787821   \n",
       "58           0.785499           0.788408           0.788064   \n",
       "59           0.785471           0.788165           0.788192   \n",
       "60           0.785461           0.788004           0.788329   \n",
       "55           0.785448           0.789207           0.787597   \n",
       "61           0.785447           0.787796           0.788443   \n",
       "62           0.785473           0.787607           0.788506   \n",
       "54           0.785451           0.789450           0.787243   \n",
       "63           0.785497           0.787384           0.788551   \n",
       "\n",
       "    split4_test_score  mean_test_score  std_test_score  rank_test_score  \n",
       "57           0.793750         0.786815        0.005077                1  \n",
       "56           0.793571         0.786802        0.005023                2  \n",
       "58           0.793914         0.786799        0.005138                3  \n",
       "59           0.794089         0.786791        0.005205                4  \n",
       "60           0.794158         0.786768        0.005276                5  \n",
       "55           0.793224         0.786755        0.004936                6  \n",
       "61           0.794237         0.786746        0.005323                7  \n",
       "62           0.794272         0.786710        0.005369                8  \n",
       "54           0.792907         0.786683        0.004846                9  \n",
       "63           0.794309         0.786669        0.005403               10  "
      ]
     },
     "execution_count": 166,
     "metadata": {},
     "output_type": "execute_result"
    }
   ],
   "source": [
    "enet_search_results.sort_values(by = 'rank_test_score').head(10)"
   ]
  },
  {
   "cell_type": "code",
   "execution_count": 166,
   "id": "8c849bbf",
   "metadata": {},
   "outputs": [
    {
     "data": {
      "text/plain": [
       "Pipeline(steps=[('columntransformer',\n",
       "                 ColumnTransformer(remainder='passthrough',\n",
       "                                   transformers=[('num',\n",
       "                                                  Pipeline(steps=[('imputer',\n",
       "                                                                   SimpleImputer(strategy='median')),\n",
       "                                                                  ('std_scaler',\n",
       "                                                                   StandardScaler())]),\n",
       "                                                  ['age', 'delta_met_diagnosis',\n",
       "                                                   'weight_diag', 'bmi_diag',\n",
       "                                                   'weight_pct_change',\n",
       "                                                   'weight_slope',\n",
       "                                                   'albumin_diag', 'alp_diag',\n",
       "                                                   'alt_diag', 'ast_diag',\n",
       "                                                   'bicarb_diag', 'bun...\n",
       "                                                   'calcium_max',\n",
       "                                                   'creatinine_max',\n",
       "                                                   'total_bilirubin_max',\n",
       "                                                   'wbc_max', 'albumin_min', ...]),\n",
       "                                                 ('cat',\n",
       "                                                  OneHotEncoder(handle_unknown='ignore'),\n",
       "                                                  ['gender', 'race',\n",
       "                                                   'ethnicity', 'p_type',\n",
       "                                                   'region', 'stage',\n",
       "                                                   'met_year', 'ER', 'HER2',\n",
       "                                                   'PR', 'BRCA', 'PIK3CA',\n",
       "                                                   'pdl1_n', 'ecog_diagnosis',\n",
       "                                                   'ses'])])),\n",
       "                ('coxnetsurvivalanalysis',\n",
       "                 CoxnetSurvivalAnalysis(alphas=[0.0009508020633366257],\n",
       "                                        l1_ratio=0.8))])"
      ]
     },
     "execution_count": 167,
     "metadata": {},
     "output_type": "execute_result"
    }
   ],
   "source": [
    "enet = make_pipeline(preprocessor_red, CoxnetSurvivalAnalysis(l1_ratio = 0.8,\n",
    "                                                              alphas = best_enet_alpha,\n",
    "                                                              max_iter = 100000))\n",
    "\n",
    "enet.fit(train_x_red, train_y)"
   ]
  },
  {
   "cell_type": "code",
   "execution_count": 167,
   "id": "10f599b1",
   "metadata": {},
   "outputs": [
    {
     "name": "stdout",
     "output_type": "stream",
     "text": [
      "Test set AUC at 2 years: 0.7857219682916713\n"
     ]
    }
   ],
   "source": [
    "enet_risk_scores_te = enet.predict(test_x_red)\n",
    "enet_auc_te = cumulative_dynamic_auc(train_y, test_y, enet_risk_scores_te, 730)[0][0]\n",
    "print('Test set AUC at 2 years:', enet_auc_te)"
   ]
  },
  {
   "cell_type": "code",
   "execution_count": 168,
   "id": "b18b1308",
   "metadata": {},
   "outputs": [
    {
     "name": "stdout",
     "output_type": "stream",
     "text": [
      "Training set AUC at 2 years: 0.7907478833548364\n"
     ]
    }
   ],
   "source": [
    "enet_risk_scores_tr = enet.predict(train_x_red)\n",
    "enet_auc_tr = cumulative_dynamic_auc(train_y, train_y, enet_risk_scores_tr, 730)[0][0]\n",
    "print('Training set AUC at 2 years:', enet_auc_tr)"
   ]
  },
  {
   "cell_type": "code",
   "execution_count": 169,
   "id": "933d6973",
   "metadata": {},
   "outputs": [],
   "source": [
    "# Bootstrap 10000 2-yr AUCs for test set \n",
    "n_bootstraps = 10000\n",
    "rng_seed = 42 \n",
    "bootstrapped_scores_te = []\n",
    "\n",
    "rng = np.random.RandomState(rng_seed)\n",
    "for i in range(n_bootstraps):\n",
    "    indices = rng.randint(0, len(enet_risk_scores_te), len(enet_risk_scores_te))\n",
    "    auc_yr = cumulative_dynamic_auc(train_y, test_y[indices], enet_risk_scores_te[indices], 730)[0][0]\n",
    "    bootstrapped_scores_te.append(auc_yr)"
   ]
  },
  {
   "cell_type": "code",
   "execution_count": 170,
   "id": "ae568d0b",
   "metadata": {},
   "outputs": [
    {
     "name": "stdout",
     "output_type": "stream",
     "text": [
      "Test set AUC standard error: 0.006574166603472295\n"
     ]
    }
   ],
   "source": [
    "# Standard error of mean for test set AUC\n",
    "sorted_scores_te = np.array(bootstrapped_scores_te)\n",
    "sorted_scores_te.sort()\n",
    "\n",
    "conf_lower_te = sorted_scores_te[int(0.025 * len(sorted_scores_te))]\n",
    "conf_upper_te = sorted_scores_te[int(0.975 * len(sorted_scores_te))]\n",
    "\n",
    "standard_error_te = (conf_upper_te - conf_lower_te) / 3.92\n",
    "print('Test set AUC standard error:', standard_error_te)"
   ]
  },
  {
   "cell_type": "code",
   "execution_count": 171,
   "id": "8a562ce9",
   "metadata": {},
   "outputs": [
    {
     "name": "stderr",
     "output_type": "stream",
     "text": [
      "/Applications/anaconda3/lib/python3.7/site-packages/sklearn/pipeline.py:394: UserWarning: all coefficients are zero, consider decreasing alpha.\n",
      "  self._final_estimator.fit(Xt, y, **fit_params_last_step)\n",
      "/Applications/anaconda3/lib/python3.7/site-packages/sklearn/pipeline.py:394: UserWarning: all coefficients are zero, consider decreasing alpha.\n",
      "  self._final_estimator.fit(Xt, y, **fit_params_last_step)\n",
      "/Applications/anaconda3/lib/python3.7/site-packages/sklearn/pipeline.py:394: UserWarning: all coefficients are zero, consider decreasing alpha.\n",
      "  self._final_estimator.fit(Xt, y, **fit_params_last_step)\n",
      "/Applications/anaconda3/lib/python3.7/site-packages/sklearn/pipeline.py:394: UserWarning: all coefficients are zero, consider decreasing alpha.\n",
      "  self._final_estimator.fit(Xt, y, **fit_params_last_step)\n",
      "/Applications/anaconda3/lib/python3.7/site-packages/sklearn/pipeline.py:394: UserWarning: all coefficients are zero, consider decreasing alpha.\n",
      "  self._final_estimator.fit(Xt, y, **fit_params_last_step)\n",
      "/Applications/anaconda3/lib/python3.7/site-packages/sklearn/pipeline.py:394: UserWarning: all coefficients are zero, consider decreasing alpha.\n",
      "  self._final_estimator.fit(Xt, y, **fit_params_last_step)\n",
      "/Applications/anaconda3/lib/python3.7/site-packages/sklearn/pipeline.py:394: UserWarning: all coefficients are zero, consider decreasing alpha.\n",
      "  self._final_estimator.fit(Xt, y, **fit_params_last_step)\n",
      "/Applications/anaconda3/lib/python3.7/site-packages/sklearn/pipeline.py:394: UserWarning: all coefficients are zero, consider decreasing alpha.\n",
      "  self._final_estimator.fit(Xt, y, **fit_params_last_step)\n",
      "/Applications/anaconda3/lib/python3.7/site-packages/sklearn/pipeline.py:394: UserWarning: all coefficients are zero, consider decreasing alpha.\n",
      "  self._final_estimator.fit(Xt, y, **fit_params_last_step)\n"
     ]
    }
   ],
   "source": [
    "# Bootstrap 10000 2-yr AUCs for train set \n",
    "n_bootstraps = 10000\n",
    "rng_seed = 42 \n",
    "bootstrapped_scores_tr = []\n",
    "\n",
    "rng = np.random.RandomState(rng_seed)\n",
    "for i in range(n_bootstraps):\n",
    "    indices = rng.randint(0, len(enet_risk_scores_tr), len(enet_risk_scores_tr))\n",
    "    auc_yr = cumulative_dynamic_auc(train_y, train_y[indices], enet_risk_scores_tr[indices], 730)[0][0]\n",
    "    bootstrapped_scores_tr.append(auc_yr)"
   ]
  },
  {
   "cell_type": "code",
   "execution_count": 172,
   "id": "09ef1ca4",
   "metadata": {},
   "outputs": [
    {
     "name": "stdout",
     "output_type": "stream",
     "text": [
      "Training set AUC standard error 0.00329883997818898\n"
     ]
    }
   ],
   "source": [
    "# Standard error of mean for train set AUC\n",
    "sorted_scores_tr = np.array(bootstrapped_scores_tr)\n",
    "sorted_scores_tr.sort()\n",
    "\n",
    "conf_lower_tr = sorted_scores_tr[int(0.025 * len(sorted_scores_tr))]\n",
    "conf_upper_tr = sorted_scores_tr[int(0.975 * len(sorted_scores_tr))]\n",
    "\n",
    "standard_error_tr = (conf_upper_tr - conf_lower_tr) / 3.92\n",
    "print('Training set AUC standard error', standard_error_tr)"
   ]
  },
  {
   "cell_type": "code",
   "execution_count": 173,
   "id": "570e5591",
   "metadata": {},
   "outputs": [],
   "source": [
    "crude_auc_data = {'model': 'enet_crude',\n",
    "                  'auc_2yr_te': enet_auc_te,\n",
    "                  'sem_te': standard_error_te,\n",
    "                  'auc_2yr_tr': enet_auc_tr,\n",
    "                  'sem_tr': standard_error_tr}"
   ]
  },
  {
   "cell_type": "code",
   "execution_count": 174,
   "id": "740dad37",
   "metadata": {},
   "outputs": [],
   "source": [
    "crude_auc_df = pd.read_csv('crude_auc_df.csv')"
   ]
  },
  {
   "cell_type": "code",
   "execution_count": 175,
   "id": "0253bbdf",
   "metadata": {},
   "outputs": [],
   "source": [
    "crude_auc_df = crude_auc_df.append(crude_auc_data, ignore_index = True)"
   ]
  },
  {
   "cell_type": "code",
   "execution_count": 176,
   "id": "fa61e506",
   "metadata": {},
   "outputs": [
    {
     "data": {
      "text/html": [
       "<div>\n",
       "<style scoped>\n",
       "    .dataframe tbody tr th:only-of-type {\n",
       "        vertical-align: middle;\n",
       "    }\n",
       "\n",
       "    .dataframe tbody tr th {\n",
       "        vertical-align: top;\n",
       "    }\n",
       "\n",
       "    .dataframe thead th {\n",
       "        text-align: right;\n",
       "    }\n",
       "</style>\n",
       "<table border=\"1\" class=\"dataframe\">\n",
       "  <thead>\n",
       "    <tr style=\"text-align: right;\">\n",
       "      <th></th>\n",
       "      <th>model</th>\n",
       "      <th>auc_2yr_te</th>\n",
       "      <th>sem_te</th>\n",
       "      <th>auc_2yr_tr</th>\n",
       "      <th>sem_tr</th>\n",
       "    </tr>\n",
       "  </thead>\n",
       "  <tbody>\n",
       "    <tr>\n",
       "      <th>0</th>\n",
       "      <td>gbm_crude</td>\n",
       "      <td>0.817707</td>\n",
       "      <td>0.005979</td>\n",
       "      <td>0.849410</td>\n",
       "      <td>0.002789</td>\n",
       "    </tr>\n",
       "    <tr>\n",
       "      <th>1</th>\n",
       "      <td>rsf_crude</td>\n",
       "      <td>0.797620</td>\n",
       "      <td>0.006318</td>\n",
       "      <td>0.916818</td>\n",
       "      <td>0.001940</td>\n",
       "    </tr>\n",
       "    <tr>\n",
       "      <th>2</th>\n",
       "      <td>ridge_crude</td>\n",
       "      <td>0.785537</td>\n",
       "      <td>0.006508</td>\n",
       "      <td>0.789876</td>\n",
       "      <td>0.003292</td>\n",
       "    </tr>\n",
       "    <tr>\n",
       "      <th>3</th>\n",
       "      <td>lasso_crude</td>\n",
       "      <td>0.785896</td>\n",
       "      <td>0.006563</td>\n",
       "      <td>0.790827</td>\n",
       "      <td>0.003294</td>\n",
       "    </tr>\n",
       "    <tr>\n",
       "      <th>4</th>\n",
       "      <td>enet_crude</td>\n",
       "      <td>0.785722</td>\n",
       "      <td>0.006574</td>\n",
       "      <td>0.790748</td>\n",
       "      <td>0.003299</td>\n",
       "    </tr>\n",
       "  </tbody>\n",
       "</table>\n",
       "</div>"
      ],
      "text/plain": [
       "         model  auc_2yr_te    sem_te  auc_2yr_tr    sem_tr\n",
       "0    gbm_crude    0.817707  0.005979    0.849410  0.002789\n",
       "1    rsf_crude    0.797620  0.006318    0.916818  0.001940\n",
       "2  ridge_crude    0.785537  0.006508    0.789876  0.003292\n",
       "3  lasso_crude    0.785896  0.006563    0.790827  0.003294\n",
       "4   enet_crude    0.785722  0.006574    0.790748  0.003299"
      ]
     },
     "execution_count": 177,
     "metadata": {},
     "output_type": "execute_result"
    }
   ],
   "source": [
    "crude_auc_df"
   ]
  },
  {
   "cell_type": "code",
   "execution_count": 177,
   "id": "7e94440f",
   "metadata": {},
   "outputs": [],
   "source": [
    "crude_auc_df.to_csv('crude_auc_df.csv', index = False, header = True)"
   ]
  },
  {
   "cell_type": "code",
   "execution_count": 178,
   "id": "1c617eab",
   "metadata": {},
   "outputs": [],
   "source": [
    "times = np.arange(30, 1810, 30)\n",
    "crude_enet_auc_over5 = cumulative_dynamic_auc(train_y, test_y, enet_risk_scores_te, times)[0]\n",
    "\n",
    "times_data = {}\n",
    "values = crude_enet_auc_over5\n",
    "time_names = []\n",
    "\n",
    "for x in range(len(times)):\n",
    "    time_names.append('time_'+str(times[x]))\n",
    "\n",
    "for i in range(len(time_names)):\n",
    "    times_data[time_names[i]] = values[i]\n",
    "    \n",
    "crude_enet_over5_df = pd.DataFrame(times_data, index = ['enet_crude'])"
   ]
  },
  {
   "cell_type": "code",
   "execution_count": 179,
   "id": "53258a3b",
   "metadata": {},
   "outputs": [],
   "source": [
    "crude_auc_over5 = pd.read_csv('crude_auc_over5.csv', index_col = 0)"
   ]
  },
  {
   "cell_type": "code",
   "execution_count": 180,
   "id": "bcc9ea4f",
   "metadata": {},
   "outputs": [],
   "source": [
    "crude_auc_over5 = crude_auc_over5.append(crude_enet_over5_df, ignore_index = False)"
   ]
  },
  {
   "cell_type": "code",
   "execution_count": 181,
   "id": "643337ca",
   "metadata": {},
   "outputs": [
    {
     "data": {
      "text/html": [
       "<div>\n",
       "<style scoped>\n",
       "    .dataframe tbody tr th:only-of-type {\n",
       "        vertical-align: middle;\n",
       "    }\n",
       "\n",
       "    .dataframe tbody tr th {\n",
       "        vertical-align: top;\n",
       "    }\n",
       "\n",
       "    .dataframe thead th {\n",
       "        text-align: right;\n",
       "    }\n",
       "</style>\n",
       "<table border=\"1\" class=\"dataframe\">\n",
       "  <thead>\n",
       "    <tr style=\"text-align: right;\">\n",
       "      <th></th>\n",
       "      <th>time_30</th>\n",
       "      <th>time_60</th>\n",
       "      <th>time_90</th>\n",
       "      <th>time_120</th>\n",
       "      <th>time_150</th>\n",
       "      <th>time_180</th>\n",
       "      <th>time_210</th>\n",
       "      <th>time_240</th>\n",
       "      <th>time_270</th>\n",
       "      <th>time_300</th>\n",
       "      <th>...</th>\n",
       "      <th>time_1530</th>\n",
       "      <th>time_1560</th>\n",
       "      <th>time_1590</th>\n",
       "      <th>time_1620</th>\n",
       "      <th>time_1650</th>\n",
       "      <th>time_1680</th>\n",
       "      <th>time_1710</th>\n",
       "      <th>time_1740</th>\n",
       "      <th>time_1770</th>\n",
       "      <th>time_1800</th>\n",
       "    </tr>\n",
       "  </thead>\n",
       "  <tbody>\n",
       "    <tr>\n",
       "      <th>gbm_crude</th>\n",
       "      <td>0.865653</td>\n",
       "      <td>0.884240</td>\n",
       "      <td>0.866949</td>\n",
       "      <td>0.865569</td>\n",
       "      <td>0.861561</td>\n",
       "      <td>0.852376</td>\n",
       "      <td>0.852850</td>\n",
       "      <td>0.850731</td>\n",
       "      <td>0.851161</td>\n",
       "      <td>0.849431</td>\n",
       "      <td>...</td>\n",
       "      <td>0.782725</td>\n",
       "      <td>0.779661</td>\n",
       "      <td>0.781463</td>\n",
       "      <td>0.781015</td>\n",
       "      <td>0.779310</td>\n",
       "      <td>0.779304</td>\n",
       "      <td>0.777667</td>\n",
       "      <td>0.776433</td>\n",
       "      <td>0.776933</td>\n",
       "      <td>0.776247</td>\n",
       "    </tr>\n",
       "    <tr>\n",
       "      <th>rsf_crude</th>\n",
       "      <td>0.866668</td>\n",
       "      <td>0.876143</td>\n",
       "      <td>0.852497</td>\n",
       "      <td>0.850469</td>\n",
       "      <td>0.846343</td>\n",
       "      <td>0.836480</td>\n",
       "      <td>0.835673</td>\n",
       "      <td>0.831395</td>\n",
       "      <td>0.830522</td>\n",
       "      <td>0.829236</td>\n",
       "      <td>...</td>\n",
       "      <td>0.763159</td>\n",
       "      <td>0.759102</td>\n",
       "      <td>0.761464</td>\n",
       "      <td>0.761499</td>\n",
       "      <td>0.757960</td>\n",
       "      <td>0.756729</td>\n",
       "      <td>0.756293</td>\n",
       "      <td>0.756140</td>\n",
       "      <td>0.755578</td>\n",
       "      <td>0.754173</td>\n",
       "    </tr>\n",
       "    <tr>\n",
       "      <th>ridge_crude</th>\n",
       "      <td>0.847699</td>\n",
       "      <td>0.851870</td>\n",
       "      <td>0.835914</td>\n",
       "      <td>0.829498</td>\n",
       "      <td>0.825503</td>\n",
       "      <td>0.815028</td>\n",
       "      <td>0.814743</td>\n",
       "      <td>0.813877</td>\n",
       "      <td>0.815353</td>\n",
       "      <td>0.812816</td>\n",
       "      <td>...</td>\n",
       "      <td>0.757919</td>\n",
       "      <td>0.755934</td>\n",
       "      <td>0.757266</td>\n",
       "      <td>0.759101</td>\n",
       "      <td>0.758257</td>\n",
       "      <td>0.756038</td>\n",
       "      <td>0.754627</td>\n",
       "      <td>0.752895</td>\n",
       "      <td>0.754179</td>\n",
       "      <td>0.755089</td>\n",
       "    </tr>\n",
       "    <tr>\n",
       "      <th>lasso_crude</th>\n",
       "      <td>0.844126</td>\n",
       "      <td>0.849688</td>\n",
       "      <td>0.833727</td>\n",
       "      <td>0.828378</td>\n",
       "      <td>0.825278</td>\n",
       "      <td>0.815491</td>\n",
       "      <td>0.815472</td>\n",
       "      <td>0.814085</td>\n",
       "      <td>0.815791</td>\n",
       "      <td>0.813255</td>\n",
       "      <td>...</td>\n",
       "      <td>0.757880</td>\n",
       "      <td>0.756026</td>\n",
       "      <td>0.757339</td>\n",
       "      <td>0.759036</td>\n",
       "      <td>0.758399</td>\n",
       "      <td>0.756208</td>\n",
       "      <td>0.754680</td>\n",
       "      <td>0.753027</td>\n",
       "      <td>0.754558</td>\n",
       "      <td>0.755559</td>\n",
       "    </tr>\n",
       "    <tr>\n",
       "      <th>enet_crude</th>\n",
       "      <td>0.844331</td>\n",
       "      <td>0.849965</td>\n",
       "      <td>0.833969</td>\n",
       "      <td>0.828462</td>\n",
       "      <td>0.825266</td>\n",
       "      <td>0.815389</td>\n",
       "      <td>0.815344</td>\n",
       "      <td>0.813974</td>\n",
       "      <td>0.815661</td>\n",
       "      <td>0.813060</td>\n",
       "      <td>...</td>\n",
       "      <td>0.757832</td>\n",
       "      <td>0.755988</td>\n",
       "      <td>0.757300</td>\n",
       "      <td>0.759021</td>\n",
       "      <td>0.758378</td>\n",
       "      <td>0.756192</td>\n",
       "      <td>0.754681</td>\n",
       "      <td>0.753018</td>\n",
       "      <td>0.754557</td>\n",
       "      <td>0.755562</td>\n",
       "    </tr>\n",
       "  </tbody>\n",
       "</table>\n",
       "<p>5 rows × 60 columns</p>\n",
       "</div>"
      ],
      "text/plain": [
       "              time_30   time_60   time_90  time_120  time_150  time_180  \\\n",
       "gbm_crude    0.865653  0.884240  0.866949  0.865569  0.861561  0.852376   \n",
       "rsf_crude    0.866668  0.876143  0.852497  0.850469  0.846343  0.836480   \n",
       "ridge_crude  0.847699  0.851870  0.835914  0.829498  0.825503  0.815028   \n",
       "lasso_crude  0.844126  0.849688  0.833727  0.828378  0.825278  0.815491   \n",
       "enet_crude   0.844331  0.849965  0.833969  0.828462  0.825266  0.815389   \n",
       "\n",
       "             time_210  time_240  time_270  time_300  ...  time_1530  \\\n",
       "gbm_crude    0.852850  0.850731  0.851161  0.849431  ...   0.782725   \n",
       "rsf_crude    0.835673  0.831395  0.830522  0.829236  ...   0.763159   \n",
       "ridge_crude  0.814743  0.813877  0.815353  0.812816  ...   0.757919   \n",
       "lasso_crude  0.815472  0.814085  0.815791  0.813255  ...   0.757880   \n",
       "enet_crude   0.815344  0.813974  0.815661  0.813060  ...   0.757832   \n",
       "\n",
       "             time_1560  time_1590  time_1620  time_1650  time_1680  time_1710  \\\n",
       "gbm_crude     0.779661   0.781463   0.781015   0.779310   0.779304   0.777667   \n",
       "rsf_crude     0.759102   0.761464   0.761499   0.757960   0.756729   0.756293   \n",
       "ridge_crude   0.755934   0.757266   0.759101   0.758257   0.756038   0.754627   \n",
       "lasso_crude   0.756026   0.757339   0.759036   0.758399   0.756208   0.754680   \n",
       "enet_crude    0.755988   0.757300   0.759021   0.758378   0.756192   0.754681   \n",
       "\n",
       "             time_1740  time_1770  time_1800  \n",
       "gbm_crude     0.776433   0.776933   0.776247  \n",
       "rsf_crude     0.756140   0.755578   0.754173  \n",
       "ridge_crude   0.752895   0.754179   0.755089  \n",
       "lasso_crude   0.753027   0.754558   0.755559  \n",
       "enet_crude    0.753018   0.754557   0.755562  \n",
       "\n",
       "[5 rows x 60 columns]"
      ]
     },
     "execution_count": 182,
     "metadata": {},
     "output_type": "execute_result"
    }
   ],
   "source": [
    "crude_auc_over5"
   ]
  },
  {
   "cell_type": "code",
   "execution_count": 182,
   "id": "d2f18eca",
   "metadata": {},
   "outputs": [],
   "source": [
    "crude_auc_over5.to_csv('crude_auc_over5.csv', index = True, header = True)"
   ]
  },
  {
   "cell_type": "code",
   "execution_count": 183,
   "id": "47c22dd0",
   "metadata": {},
   "outputs": [],
   "source": [
    "# Variables passing through pipeline\n",
    "cat_encoder = list(preprocessor_red.transformers_[1][1].get_feature_names(categorical_features))\n",
    "pass_through = list(train_x_red.iloc[:, preprocessor_red.transformers_[2][2]].columns)\n",
    "attributes = numerical_features_red + cat_encoder + pass_through"
   ]
  },
  {
   "cell_type": "code",
   "execution_count": 184,
   "id": "fd0ebb47",
   "metadata": {},
   "outputs": [
    {
     "name": "stdout",
     "output_type": "stream",
     "text": [
      "Total number of features: 195\n",
      "Number of non-zero features in final model: 118\n"
     ]
    },
    {
     "data": {
      "image/png": "[encoded data removed]",
      "text/plain": [
       "<Figure size 432x576 with 1 Axes>"
      ]
     },
     "metadata": {
      "needs_background": "light"
     },
     "output_type": "display_data"
    }
   ],
   "source": [
    "# Dataframe of coefficients for each variable \n",
    "coefficients_enet = pd.DataFrame(\n",
    "    enet.named_steps['coxnetsurvivalanalysis'].coef_,\n",
    "    index = attributes,\n",
    "    columns = ['coefficient']\n",
    ")\n",
    "\n",
    "print('Total number of features: {}'.format(len(attributes)))\n",
    "\n",
    "non_zero = np.sum(coefficients_enet.iloc[:, 0] != 0)\n",
    "print('Number of non-zero features in final model: {}'.format(non_zero))\n",
    "\n",
    "non_zero_coefs = coefficients_enet.query('coefficient != 0')\n",
    "coef_order = non_zero_coefs.abs().sort_values('coefficient').tail(30).index\n",
    "\n",
    "_, ax = plt.subplots(figsize=(6, 8))\n",
    "non_zero_coefs.loc[coef_order].plot.barh(ax = ax, legend = False)\n",
    "ax.set_xlabel('coefficient')\n",
    "ax.grid(True)"
   ]
  },
  {
   "cell_type": "markdown",
   "id": "82996d38",
   "metadata": {},
   "source": [
    "**Among the penalized Cox models, the LASSO penalty has the best performance in regards to test set 2 year AUC. Not surprisingly, the penalized Cox models perform worse than the gradient boosting model or the random survival forest.**"
   ]
  },
  {
   "cell_type": "markdown",
   "id": "f093ffd9",
   "metadata": {},
   "source": [
    "## 5. Linear survival support vector machine "
   ]
  },
  {
   "cell_type": "markdown",
   "id": "0b31c29b",
   "metadata": {},
   "source": [
    "**Lastly, we'll build a survival support vector machines with a linear kernel and a ranking objective.** "
   ]
  },
  {
   "cell_type": "code",
   "execution_count": 185,
   "id": "ebebc8b6",
   "metadata": {},
   "outputs": [],
   "source": [
    "from sklearn.model_selection import StratifiedKFold, GridSearchCV\n",
    "from sklearn.pipeline import make_pipeline\n",
    "\n",
    "from sksurv.svm import FastSurvivalSVM\n",
    "from sksurv.metrics import cumulative_dynamic_auc, as_cumulative_dynamic_auc_scorer\n",
    "\n",
    "import warnings \n",
    "\n",
    "import matplotlib.pyplot as plt"
   ]
  },
  {
   "cell_type": "code",
   "execution_count": 186,
   "id": "5c982625",
   "metadata": {},
   "outputs": [
    {
     "data": {
      "text/plain": [
       "GridSearchCV(cv=StratifiedKFold(n_splits=5, random_state=42, shuffle=True),\n",
       "             error_score=0.5,\n",
       "             estimator=as_cumulative_dynamic_auc_scorer(estimator=Pipeline(steps=[('columntransformer',\n",
       "                                                                                   ColumnTransformer(remainder='passthrough',\n",
       "                                                                                                     transformers=[('num',\n",
       "                                                                                                                    Pipeline(steps=[('imputer',\n",
       "                                                                                                                                     SimpleImputer(strategy='median')),\n",
       "                                                                                                                                    ('std_scaler',\n",
       "                                                                                                                                     StandardScaler())]),\n",
       "                                                                                                                    ['age',\n",
       "                                                                                                                     'delta...\n",
       "                                                                                                   random_state=42,\n",
       "                                                                                                   rank_ratio=1,\n",
       "                                                                                                   tol=0.001))]),\n",
       "                                                        times=730),\n",
       "             n_jobs=-1,\n",
       "             param_grid={'estimator__fastsurvivalsvm__alpha': array([1.00000000e-03, 2.68269580e-03, 7.19685673e-03, 1.93069773e-02,\n",
       "       5.17947468e-02, 1.38949549e-01, 3.72759372e-01, 1.00000000e+00,\n",
       "       2.68269580e+00, 7.19685673e+00, 1.93069773e+01, 5.17947468e+01,\n",
       "       1.38949549e+02, 3.72759372e+02, 1.00000000e+03])},\n",
       "             refit=False)"
      ]
     },
     "execution_count": 188,
     "metadata": {},
     "output_type": "execute_result"
    }
   ],
   "source": [
    "pipe = make_pipeline(preprocessor_red, FastSurvivalSVM(rank_ratio = 1, \n",
    "                                                       max_iter = 1000, \n",
    "                                                       tol = 1e-3,\n",
    "                                                       random_state = 42))\n",
    "\n",
    "# 3 fold cross-validation\n",
    "cv = StratifiedKFold(n_splits = 5, shuffle = True, random_state = 42)\n",
    "\n",
    "# Parameter gird \n",
    "param_grid = {'estimator__fastsurvivalsvm__alpha': 10. ** np.linspace(-3, 3, 15)}\n",
    "\n",
    "linear_svm_search = GridSearchCV(\n",
    "    as_cumulative_dynamic_auc_scorer(pipe, 730),\n",
    "    param_grid = param_grid,\n",
    "    cv = cv,\n",
    "    error_score = 0.5,\n",
    "    n_jobs = -1,\n",
    "    refit = False)\n",
    "\n",
    "# Run search \n",
    "warnings.filterwarnings('ignore')\n",
    "linear_svm_search.fit(train_x_red, train_y)"
   ]
  },
  {
   "cell_type": "code",
   "execution_count": 187,
   "id": "eca0d5d7",
   "metadata": {},
   "outputs": [
    {
     "data": {
      "text/plain": [
       "{'estimator__fastsurvivalsvm__alpha': 138.9495494373136}"
      ]
     },
     "execution_count": 189,
     "metadata": {},
     "output_type": "execute_result"
    }
   ],
   "source": [
    "linear_svm_search.best_params_"
   ]
  },
  {
   "cell_type": "code",
   "execution_count": 188,
   "id": "949d1058",
   "metadata": {},
   "outputs": [],
   "source": [
    "best_linear_svm_alpha = linear_svm_search.best_params_.get('estimator__fastsurvivalsvm__alpha')"
   ]
  },
  {
   "cell_type": "code",
   "execution_count": 189,
   "id": "4123164c",
   "metadata": {},
   "outputs": [],
   "source": [
    "linear_svm_search_results = pd.DataFrame(linear_svm_search.cv_results_)"
   ]
  },
  {
   "cell_type": "code",
   "execution_count": 190,
   "id": "dc0227b1",
   "metadata": {},
   "outputs": [
    {
     "data": {
      "text/html": [
       "<div>\n",
       "<style scoped>\n",
       "    .dataframe tbody tr th:only-of-type {\n",
       "        vertical-align: middle;\n",
       "    }\n",
       "\n",
       "    .dataframe tbody tr th {\n",
       "        vertical-align: top;\n",
       "    }\n",
       "\n",
       "    .dataframe thead th {\n",
       "        text-align: right;\n",
       "    }\n",
       "</style>\n",
       "<table border=\"1\" class=\"dataframe\">\n",
       "  <thead>\n",
       "    <tr style=\"text-align: right;\">\n",
       "      <th></th>\n",
       "      <th>mean_fit_time</th>\n",
       "      <th>std_fit_time</th>\n",
       "      <th>mean_score_time</th>\n",
       "      <th>std_score_time</th>\n",
       "      <th>param_estimator__fastsurvivalsvm__alpha</th>\n",
       "      <th>params</th>\n",
       "      <th>split0_test_score</th>\n",
       "      <th>split1_test_score</th>\n",
       "      <th>split2_test_score</th>\n",
       "      <th>split3_test_score</th>\n",
       "      <th>split4_test_score</th>\n",
       "      <th>mean_test_score</th>\n",
       "      <th>std_test_score</th>\n",
       "      <th>rank_test_score</th>\n",
       "    </tr>\n",
       "  </thead>\n",
       "  <tbody>\n",
       "    <tr>\n",
       "      <th>12</th>\n",
       "      <td>107.790888</td>\n",
       "      <td>17.221268</td>\n",
       "      <td>0.125224</td>\n",
       "      <td>0.015108</td>\n",
       "      <td>138.949549</td>\n",
       "      <td>{'estimator__fastsurvivalsvm__alpha': 138.9495...</td>\n",
       "      <td>0.780384</td>\n",
       "      <td>0.787706</td>\n",
       "      <td>0.788041</td>\n",
       "      <td>0.791850</td>\n",
       "      <td>0.799112</td>\n",
       "      <td>0.789419</td>\n",
       "      <td>0.006105</td>\n",
       "      <td>1</td>\n",
       "    </tr>\n",
       "    <tr>\n",
       "      <th>11</th>\n",
       "      <td>98.206453</td>\n",
       "      <td>12.995368</td>\n",
       "      <td>0.122200</td>\n",
       "      <td>0.010632</td>\n",
       "      <td>51.794747</td>\n",
       "      <td>{'estimator__fastsurvivalsvm__alpha': 51.79474...</td>\n",
       "      <td>0.780377</td>\n",
       "      <td>0.787711</td>\n",
       "      <td>0.788038</td>\n",
       "      <td>0.791851</td>\n",
       "      <td>0.799094</td>\n",
       "      <td>0.789414</td>\n",
       "      <td>0.006101</td>\n",
       "      <td>2</td>\n",
       "    </tr>\n",
       "    <tr>\n",
       "      <th>14</th>\n",
       "      <td>81.608658</td>\n",
       "      <td>14.019787</td>\n",
       "      <td>0.056745</td>\n",
       "      <td>0.011890</td>\n",
       "      <td>1000.0</td>\n",
       "      <td>{'estimator__fastsurvivalsvm__alpha': 1000.0}</td>\n",
       "      <td>0.780376</td>\n",
       "      <td>0.787711</td>\n",
       "      <td>0.788042</td>\n",
       "      <td>0.791848</td>\n",
       "      <td>0.799093</td>\n",
       "      <td>0.789414</td>\n",
       "      <td>0.006101</td>\n",
       "      <td>3</td>\n",
       "    </tr>\n",
       "    <tr>\n",
       "      <th>1</th>\n",
       "      <td>63.095614</td>\n",
       "      <td>12.527972</td>\n",
       "      <td>0.129396</td>\n",
       "      <td>0.069777</td>\n",
       "      <td>0.002683</td>\n",
       "      <td>{'estimator__fastsurvivalsvm__alpha': 0.002682...</td>\n",
       "      <td>0.780379</td>\n",
       "      <td>0.787712</td>\n",
       "      <td>0.788046</td>\n",
       "      <td>0.791838</td>\n",
       "      <td>0.799093</td>\n",
       "      <td>0.789414</td>\n",
       "      <td>0.006098</td>\n",
       "      <td>4</td>\n",
       "    </tr>\n",
       "    <tr>\n",
       "      <th>2</th>\n",
       "      <td>64.254838</td>\n",
       "      <td>11.235878</td>\n",
       "      <td>0.085950</td>\n",
       "      <td>0.038079</td>\n",
       "      <td>0.007197</td>\n",
       "      <td>{'estimator__fastsurvivalsvm__alpha': 0.007196...</td>\n",
       "      <td>0.780383</td>\n",
       "      <td>0.787705</td>\n",
       "      <td>0.788044</td>\n",
       "      <td>0.791816</td>\n",
       "      <td>0.799103</td>\n",
       "      <td>0.789410</td>\n",
       "      <td>0.006099</td>\n",
       "      <td>5</td>\n",
       "    </tr>\n",
       "    <tr>\n",
       "      <th>10</th>\n",
       "      <td>108.369802</td>\n",
       "      <td>13.773738</td>\n",
       "      <td>0.128610</td>\n",
       "      <td>0.017457</td>\n",
       "      <td>19.306977</td>\n",
       "      <td>{'estimator__fastsurvivalsvm__alpha': 19.30697...</td>\n",
       "      <td>0.780377</td>\n",
       "      <td>0.787709</td>\n",
       "      <td>0.788040</td>\n",
       "      <td>0.791850</td>\n",
       "      <td>0.799067</td>\n",
       "      <td>0.789409</td>\n",
       "      <td>0.006092</td>\n",
       "      <td>6</td>\n",
       "    </tr>\n",
       "    <tr>\n",
       "      <th>7</th>\n",
       "      <td>68.144573</td>\n",
       "      <td>11.917274</td>\n",
       "      <td>0.068775</td>\n",
       "      <td>0.031020</td>\n",
       "      <td>1.0</td>\n",
       "      <td>{'estimator__fastsurvivalsvm__alpha': 1.0}</td>\n",
       "      <td>0.780386</td>\n",
       "      <td>0.787706</td>\n",
       "      <td>0.788043</td>\n",
       "      <td>0.791837</td>\n",
       "      <td>0.799064</td>\n",
       "      <td>0.789407</td>\n",
       "      <td>0.006088</td>\n",
       "      <td>7</td>\n",
       "    </tr>\n",
       "    <tr>\n",
       "      <th>0</th>\n",
       "      <td>70.089742</td>\n",
       "      <td>14.799423</td>\n",
       "      <td>0.129596</td>\n",
       "      <td>0.142375</td>\n",
       "      <td>0.001</td>\n",
       "      <td>{'estimator__fastsurvivalsvm__alpha': 0.001}</td>\n",
       "      <td>0.780385</td>\n",
       "      <td>0.787706</td>\n",
       "      <td>0.788048</td>\n",
       "      <td>0.791844</td>\n",
       "      <td>0.799050</td>\n",
       "      <td>0.789407</td>\n",
       "      <td>0.006084</td>\n",
       "      <td>8</td>\n",
       "    </tr>\n",
       "    <tr>\n",
       "      <th>8</th>\n",
       "      <td>79.988440</td>\n",
       "      <td>5.248774</td>\n",
       "      <td>0.098803</td>\n",
       "      <td>0.036607</td>\n",
       "      <td>2.682696</td>\n",
       "      <td>{'estimator__fastsurvivalsvm__alpha': 2.682695...</td>\n",
       "      <td>0.780383</td>\n",
       "      <td>0.787711</td>\n",
       "      <td>0.788032</td>\n",
       "      <td>0.791838</td>\n",
       "      <td>0.799063</td>\n",
       "      <td>0.789405</td>\n",
       "      <td>0.006089</td>\n",
       "      <td>9</td>\n",
       "    </tr>\n",
       "    <tr>\n",
       "      <th>3</th>\n",
       "      <td>70.065421</td>\n",
       "      <td>9.927468</td>\n",
       "      <td>0.047167</td>\n",
       "      <td>0.020439</td>\n",
       "      <td>0.019307</td>\n",
       "      <td>{'estimator__fastsurvivalsvm__alpha': 0.019306...</td>\n",
       "      <td>0.780413</td>\n",
       "      <td>0.787699</td>\n",
       "      <td>0.788033</td>\n",
       "      <td>0.791814</td>\n",
       "      <td>0.799063</td>\n",
       "      <td>0.789404</td>\n",
       "      <td>0.006078</td>\n",
       "      <td>10</td>\n",
       "    </tr>\n",
       "  </tbody>\n",
       "</table>\n",
       "</div>"
      ],
      "text/plain": [
       "    mean_fit_time  std_fit_time  mean_score_time  std_score_time  \\\n",
       "12     107.790888     17.221268         0.125224        0.015108   \n",
       "11      98.206453     12.995368         0.122200        0.010632   \n",
       "14      81.608658     14.019787         0.056745        0.011890   \n",
       "1       63.095614     12.527972         0.129396        0.069777   \n",
       "2       64.254838     11.235878         0.085950        0.038079   \n",
       "10     108.369802     13.773738         0.128610        0.017457   \n",
       "7       68.144573     11.917274         0.068775        0.031020   \n",
       "0       70.089742     14.799423         0.129596        0.142375   \n",
       "8       79.988440      5.248774         0.098803        0.036607   \n",
       "3       70.065421      9.927468         0.047167        0.020439   \n",
       "\n",
       "   param_estimator__fastsurvivalsvm__alpha  \\\n",
       "12                              138.949549   \n",
       "11                               51.794747   \n",
       "14                                  1000.0   \n",
       "1                                 0.002683   \n",
       "2                                 0.007197   \n",
       "10                               19.306977   \n",
       "7                                      1.0   \n",
       "0                                    0.001   \n",
       "8                                 2.682696   \n",
       "3                                 0.019307   \n",
       "\n",
       "                                               params  split0_test_score  \\\n",
       "12  {'estimator__fastsurvivalsvm__alpha': 138.9495...           0.780384   \n",
       "11  {'estimator__fastsurvivalsvm__alpha': 51.79474...           0.780377   \n",
       "14      {'estimator__fastsurvivalsvm__alpha': 1000.0}           0.780376   \n",
       "1   {'estimator__fastsurvivalsvm__alpha': 0.002682...           0.780379   \n",
       "2   {'estimator__fastsurvivalsvm__alpha': 0.007196...           0.780383   \n",
       "10  {'estimator__fastsurvivalsvm__alpha': 19.30697...           0.780377   \n",
       "7          {'estimator__fastsurvivalsvm__alpha': 1.0}           0.780386   \n",
       "0        {'estimator__fastsurvivalsvm__alpha': 0.001}           0.780385   \n",
       "8   {'estimator__fastsurvivalsvm__alpha': 2.682695...           0.780383   \n",
       "3   {'estimator__fastsurvivalsvm__alpha': 0.019306...           0.780413   \n",
       "\n",
       "    split1_test_score  split2_test_score  split3_test_score  \\\n",
       "12           0.787706           0.788041           0.791850   \n",
       "11           0.787711           0.788038           0.791851   \n",
       "14           0.787711           0.788042           0.791848   \n",
       "1            0.787712           0.788046           0.791838   \n",
       "2            0.787705           0.788044           0.791816   \n",
       "10           0.787709           0.788040           0.791850   \n",
       "7            0.787706           0.788043           0.791837   \n",
       "0            0.787706           0.788048           0.791844   \n",
       "8            0.787711           0.788032           0.791838   \n",
       "3            0.787699           0.788033           0.791814   \n",
       "\n",
       "    split4_test_score  mean_test_score  std_test_score  rank_test_score  \n",
       "12           0.799112         0.789419        0.006105                1  \n",
       "11           0.799094         0.789414        0.006101                2  \n",
       "14           0.799093         0.789414        0.006101                3  \n",
       "1            0.799093         0.789414        0.006098                4  \n",
       "2            0.799103         0.789410        0.006099                5  \n",
       "10           0.799067         0.789409        0.006092                6  \n",
       "7            0.799064         0.789407        0.006088                7  \n",
       "0            0.799050         0.789407        0.006084                8  \n",
       "8            0.799063         0.789405        0.006089                9  \n",
       "3            0.799063         0.789404        0.006078               10  "
      ]
     },
     "execution_count": 192,
     "metadata": {},
     "output_type": "execute_result"
    }
   ],
   "source": [
    "linear_svm_search_results.sort_values(by = 'rank_test_score').head(10)"
   ]
  },
  {
   "cell_type": "code",
   "execution_count": 191,
   "id": "5c9a4562",
   "metadata": {},
   "outputs": [
    {
     "data": {
      "text/plain": [
       "Pipeline(steps=[('columntransformer',\n",
       "                 ColumnTransformer(remainder='passthrough',\n",
       "                                   transformers=[('num',\n",
       "                                                  Pipeline(steps=[('imputer',\n",
       "                                                                   SimpleImputer(strategy='median')),\n",
       "                                                                  ('std_scaler',\n",
       "                                                                   StandardScaler())]),\n",
       "                                                  ['age', 'delta_met_diagnosis',\n",
       "                                                   'weight_diag', 'bmi_diag',\n",
       "                                                   'weight_pct_change',\n",
       "                                                   'weight_slope',\n",
       "                                                   'albumin_diag', 'alp_diag',\n",
       "                                                   'alt_diag', 'ast_diag',\n",
       "                                                   'bicarb_diag', 'bun...\n",
       "                                                   'total_bilirubin_max',\n",
       "                                                   'wbc_max', 'albumin_min', ...]),\n",
       "                                                 ('cat',\n",
       "                                                  OneHotEncoder(handle_unknown='ignore'),\n",
       "                                                  ['gender', 'race',\n",
       "                                                   'ethnicity', 'p_type',\n",
       "                                                   'region', 'stage',\n",
       "                                                   'met_year', 'ER', 'HER2',\n",
       "                                                   'PR', 'BRCA', 'PIK3CA',\n",
       "                                                   'pdl1_n', 'ecog_diagnosis',\n",
       "                                                   'ses'])])),\n",
       "                ('fastsurvivalsvm',\n",
       "                 FastSurvivalSVM(alpha=138.9495494373136, max_iter=1000,\n",
       "                                 optimizer='avltree', random_state=42,\n",
       "                                 rank_ratio=1, tol=0.001))])"
      ]
     },
     "execution_count": 193,
     "metadata": {},
     "output_type": "execute_result"
    }
   ],
   "source": [
    "linear_svm = make_pipeline(preprocessor_red, FastSurvivalSVM(alpha = best_linear_svm_alpha,\n",
    "                                                             rank_ratio = 1,\n",
    "                                                             max_iter = 1000,\n",
    "                                                             tol = 1e-3,\n",
    "                                                             random_state = 42))\n",
    "\n",
    "linear_svm.fit(train_x_red, train_y)"
   ]
  },
  {
   "cell_type": "code",
   "execution_count": 192,
   "id": "7bc99b30",
   "metadata": {},
   "outputs": [
    {
     "name": "stdout",
     "output_type": "stream",
     "text": [
      "Test set AUC at 2 years: 0.7874044949858581\n"
     ]
    }
   ],
   "source": [
    "linear_svm_risk_scores_te = linear_svm.predict(test_x_red)\n",
    "linear_svm_auc_te = cumulative_dynamic_auc(train_y, test_y, linear_svm_risk_scores_te, 730)[0][0]\n",
    "print('Test set AUC at 2 years:', linear_svm_auc_te)"
   ]
  },
  {
   "cell_type": "code",
   "execution_count": 193,
   "id": "a589fcd6",
   "metadata": {},
   "outputs": [
    {
     "name": "stdout",
     "output_type": "stream",
     "text": [
      "Training set AUC at 2 years: 0.7954677138547733\n"
     ]
    }
   ],
   "source": [
    "linear_svm_risk_scores_tr = linear_svm.predict(train_x_red)\n",
    "linear_svm_auc_tr = cumulative_dynamic_auc(train_y, train_y, linear_svm_risk_scores_tr, 730)[0][0]\n",
    "print('Training set AUC at 2 years:', linear_svm_auc_tr)"
   ]
  },
  {
   "cell_type": "code",
   "execution_count": 194,
   "id": "122399b2",
   "metadata": {},
   "outputs": [],
   "source": [
    "# Bootstrap 10000 2-yr AUCs for test set \n",
    "n_bootstraps = 10000\n",
    "rng_seed = 42 \n",
    "bootstrapped_scores_te = []\n",
    "\n",
    "rng = np.random.RandomState(rng_seed)\n",
    "for i in range(n_bootstraps):\n",
    "    indices = rng.randint(0, len(linear_svm_risk_scores_te), len(linear_svm_risk_scores_te))\n",
    "    auc_yr = cumulative_dynamic_auc(train_y, test_y[indices], linear_svm_risk_scores_te[indices], 730)[0][0]\n",
    "    bootstrapped_scores_te.append(auc_yr)"
   ]
  },
  {
   "cell_type": "code",
   "execution_count": 195,
   "id": "68a2d81f",
   "metadata": {},
   "outputs": [
    {
     "name": "stdout",
     "output_type": "stream",
     "text": [
      "Test set AUC standard error: 0.006497163607994649\n"
     ]
    }
   ],
   "source": [
    "# Standard error of mean for test set AUC\n",
    "sorted_scores_te = np.array(bootstrapped_scores_te)\n",
    "sorted_scores_te.sort()\n",
    "\n",
    "conf_lower_te = sorted_scores_te[int(0.025 * len(sorted_scores_te))]\n",
    "conf_upper_te = sorted_scores_te[int(0.975 * len(sorted_scores_te))]\n",
    "\n",
    "standard_error_te = (conf_upper_te - conf_lower_te) / 3.92\n",
    "print('Test set AUC standard error:', standard_error_te)"
   ]
  },
  {
   "cell_type": "code",
   "execution_count": 196,
   "id": "a3d50ce5",
   "metadata": {},
   "outputs": [],
   "source": [
    "# Bootstrap 10000 2-yr AUCs for train set \n",
    "n_bootstraps = 10000\n",
    "rng_seed = 42 \n",
    "bootstrapped_scores_tr = []\n",
    "\n",
    "rng = np.random.RandomState(rng_seed)\n",
    "for i in range(n_bootstraps):\n",
    "    indices = rng.randint(0, len(linear_svm_risk_scores_tr), len(linear_svm_risk_scores_tr))\n",
    "    auc_yr = cumulative_dynamic_auc(train_y, train_y[indices], linear_svm_risk_scores_tr[indices], 730)[0][0]\n",
    "    bootstrapped_scores_tr.append(auc_yr)"
   ]
  },
  {
   "cell_type": "code",
   "execution_count": 197,
   "id": "ce3e1115",
   "metadata": {},
   "outputs": [
    {
     "name": "stdout",
     "output_type": "stream",
     "text": [
      "Training set AUC standard error 0.003280151018591091\n"
     ]
    }
   ],
   "source": [
    "# Standard error of mean for train set AUC\n",
    "sorted_scores_tr = np.array(bootstrapped_scores_tr)\n",
    "sorted_scores_tr.sort()\n",
    "\n",
    "conf_lower_tr = sorted_scores_tr[int(0.025 * len(sorted_scores_tr))]\n",
    "conf_upper_tr = sorted_scores_tr[int(0.975 * len(sorted_scores_tr))]\n",
    "\n",
    "standard_error_tr = (conf_upper_tr - conf_lower_tr) / 3.92\n",
    "print('Training set AUC standard error', standard_error_tr)"
   ]
  },
  {
   "cell_type": "code",
   "execution_count": 198,
   "id": "20fd37f4",
   "metadata": {},
   "outputs": [],
   "source": [
    "crude_auc_data = {'model': 'linear_svm_crude',\n",
    "                  'auc_2yr_te': linear_svm_auc_te,\n",
    "                  'sem_te': standard_error_te,\n",
    "                  'auc_2yr_tr': linear_svm_auc_tr,\n",
    "                  'sem_tr': standard_error_tr}"
   ]
  },
  {
   "cell_type": "code",
   "execution_count": 199,
   "id": "4a189cb5",
   "metadata": {},
   "outputs": [],
   "source": [
    "crude_auc_df = pd.read_csv('crude_auc_df.csv')"
   ]
  },
  {
   "cell_type": "code",
   "execution_count": 200,
   "id": "332a3bbf",
   "metadata": {},
   "outputs": [],
   "source": [
    "crude_auc_df = crude_auc_df.append(crude_auc_data, ignore_index = True)"
   ]
  },
  {
   "cell_type": "code",
   "execution_count": 201,
   "id": "64e19fd2",
   "metadata": {},
   "outputs": [
    {
     "data": {
      "text/html": [
       "<div>\n",
       "<style scoped>\n",
       "    .dataframe tbody tr th:only-of-type {\n",
       "        vertical-align: middle;\n",
       "    }\n",
       "\n",
       "    .dataframe tbody tr th {\n",
       "        vertical-align: top;\n",
       "    }\n",
       "\n",
       "    .dataframe thead th {\n",
       "        text-align: right;\n",
       "    }\n",
       "</style>\n",
       "<table border=\"1\" class=\"dataframe\">\n",
       "  <thead>\n",
       "    <tr style=\"text-align: right;\">\n",
       "      <th></th>\n",
       "      <th>model</th>\n",
       "      <th>auc_2yr_te</th>\n",
       "      <th>sem_te</th>\n",
       "      <th>auc_2yr_tr</th>\n",
       "      <th>sem_tr</th>\n",
       "    </tr>\n",
       "  </thead>\n",
       "  <tbody>\n",
       "    <tr>\n",
       "      <th>0</th>\n",
       "      <td>gbm_crude</td>\n",
       "      <td>0.817707</td>\n",
       "      <td>0.005979</td>\n",
       "      <td>0.849410</td>\n",
       "      <td>0.002789</td>\n",
       "    </tr>\n",
       "    <tr>\n",
       "      <th>1</th>\n",
       "      <td>rsf_crude</td>\n",
       "      <td>0.797620</td>\n",
       "      <td>0.006318</td>\n",
       "      <td>0.916818</td>\n",
       "      <td>0.001940</td>\n",
       "    </tr>\n",
       "    <tr>\n",
       "      <th>5</th>\n",
       "      <td>linear_svm_crude</td>\n",
       "      <td>0.787404</td>\n",
       "      <td>0.006497</td>\n",
       "      <td>0.795468</td>\n",
       "      <td>0.003280</td>\n",
       "    </tr>\n",
       "    <tr>\n",
       "      <th>3</th>\n",
       "      <td>lasso_crude</td>\n",
       "      <td>0.785896</td>\n",
       "      <td>0.006563</td>\n",
       "      <td>0.790827</td>\n",
       "      <td>0.003294</td>\n",
       "    </tr>\n",
       "    <tr>\n",
       "      <th>4</th>\n",
       "      <td>enet_crude</td>\n",
       "      <td>0.785722</td>\n",
       "      <td>0.006574</td>\n",
       "      <td>0.790748</td>\n",
       "      <td>0.003299</td>\n",
       "    </tr>\n",
       "    <tr>\n",
       "      <th>2</th>\n",
       "      <td>ridge_crude</td>\n",
       "      <td>0.785537</td>\n",
       "      <td>0.006508</td>\n",
       "      <td>0.789876</td>\n",
       "      <td>0.003292</td>\n",
       "    </tr>\n",
       "  </tbody>\n",
       "</table>\n",
       "</div>"
      ],
      "text/plain": [
       "              model  auc_2yr_te    sem_te  auc_2yr_tr    sem_tr\n",
       "0         gbm_crude    0.817707  0.005979    0.849410  0.002789\n",
       "1         rsf_crude    0.797620  0.006318    0.916818  0.001940\n",
       "5  linear_svm_crude    0.787404  0.006497    0.795468  0.003280\n",
       "3       lasso_crude    0.785896  0.006563    0.790827  0.003294\n",
       "4        enet_crude    0.785722  0.006574    0.790748  0.003299\n",
       "2       ridge_crude    0.785537  0.006508    0.789876  0.003292"
      ]
     },
     "execution_count": 203,
     "metadata": {},
     "output_type": "execute_result"
    }
   ],
   "source": [
    "crude_auc_df.sort_values(by = 'auc_2yr_te', ascending = False)"
   ]
  },
  {
   "cell_type": "code",
   "execution_count": 202,
   "id": "da6aad2e",
   "metadata": {},
   "outputs": [],
   "source": [
    "crude_auc_df.to_csv('crude_auc_df.csv', index = False, header = True)"
   ]
  },
  {
   "cell_type": "code",
   "execution_count": 203,
   "id": "20d4e732",
   "metadata": {},
   "outputs": [],
   "source": [
    "times = np.arange(30, 1810, 30)\n",
    "crude_linear_svm_auc_over5 = cumulative_dynamic_auc(train_y, test_y, linear_svm_risk_scores_te, times)[0]\n",
    "\n",
    "times_data = {}\n",
    "values = crude_linear_svm_auc_over5\n",
    "time_names = []\n",
    "\n",
    "for x in range(len(times)):\n",
    "    time_names.append('time_'+str(times[x]))\n",
    "\n",
    "for i in range(len(time_names)):\n",
    "    times_data[time_names[i]] = values[i]\n",
    "    \n",
    "crude_linear_svm_over5_df = pd.DataFrame(times_data, index = ['linear_svm_crude'])"
   ]
  },
  {
   "cell_type": "code",
   "execution_count": 204,
   "id": "3d3b9f5e",
   "metadata": {},
   "outputs": [],
   "source": [
    "crude_auc_over5 = pd.read_csv('crude_auc_over5.csv', index_col = 0)"
   ]
  },
  {
   "cell_type": "code",
   "execution_count": 205,
   "id": "c0fc0d95",
   "metadata": {},
   "outputs": [],
   "source": [
    "crude_auc_over5 = crude_auc_over5.append(crude_linear_svm_over5_df, ignore_index = False)"
   ]
  },
  {
   "cell_type": "code",
   "execution_count": 206,
   "id": "1a696372",
   "metadata": {},
   "outputs": [
    {
     "data": {
      "text/html": [
       "<div>\n",
       "<style scoped>\n",
       "    .dataframe tbody tr th:only-of-type {\n",
       "        vertical-align: middle;\n",
       "    }\n",
       "\n",
       "    .dataframe tbody tr th {\n",
       "        vertical-align: top;\n",
       "    }\n",
       "\n",
       "    .dataframe thead th {\n",
       "        text-align: right;\n",
       "    }\n",
       "</style>\n",
       "<table border=\"1\" class=\"dataframe\">\n",
       "  <thead>\n",
       "    <tr style=\"text-align: right;\">\n",
       "      <th></th>\n",
       "      <th>time_30</th>\n",
       "      <th>time_60</th>\n",
       "      <th>time_90</th>\n",
       "      <th>time_120</th>\n",
       "      <th>time_150</th>\n",
       "      <th>time_180</th>\n",
       "      <th>time_210</th>\n",
       "      <th>time_240</th>\n",
       "      <th>time_270</th>\n",
       "      <th>time_300</th>\n",
       "      <th>...</th>\n",
       "      <th>time_1530</th>\n",
       "      <th>time_1560</th>\n",
       "      <th>time_1590</th>\n",
       "      <th>time_1620</th>\n",
       "      <th>time_1650</th>\n",
       "      <th>time_1680</th>\n",
       "      <th>time_1710</th>\n",
       "      <th>time_1740</th>\n",
       "      <th>time_1770</th>\n",
       "      <th>time_1800</th>\n",
       "    </tr>\n",
       "  </thead>\n",
       "  <tbody>\n",
       "    <tr>\n",
       "      <th>gbm_crude</th>\n",
       "      <td>0.865653</td>\n",
       "      <td>0.884240</td>\n",
       "      <td>0.866949</td>\n",
       "      <td>0.865569</td>\n",
       "      <td>0.861561</td>\n",
       "      <td>0.852376</td>\n",
       "      <td>0.852850</td>\n",
       "      <td>0.850731</td>\n",
       "      <td>0.851161</td>\n",
       "      <td>0.849431</td>\n",
       "      <td>...</td>\n",
       "      <td>0.782725</td>\n",
       "      <td>0.779661</td>\n",
       "      <td>0.781463</td>\n",
       "      <td>0.781015</td>\n",
       "      <td>0.779310</td>\n",
       "      <td>0.779304</td>\n",
       "      <td>0.777667</td>\n",
       "      <td>0.776433</td>\n",
       "      <td>0.776933</td>\n",
       "      <td>0.776247</td>\n",
       "    </tr>\n",
       "    <tr>\n",
       "      <th>rsf_crude</th>\n",
       "      <td>0.866668</td>\n",
       "      <td>0.876143</td>\n",
       "      <td>0.852497</td>\n",
       "      <td>0.850469</td>\n",
       "      <td>0.846343</td>\n",
       "      <td>0.836480</td>\n",
       "      <td>0.835673</td>\n",
       "      <td>0.831395</td>\n",
       "      <td>0.830522</td>\n",
       "      <td>0.829236</td>\n",
       "      <td>...</td>\n",
       "      <td>0.763159</td>\n",
       "      <td>0.759102</td>\n",
       "      <td>0.761464</td>\n",
       "      <td>0.761499</td>\n",
       "      <td>0.757960</td>\n",
       "      <td>0.756729</td>\n",
       "      <td>0.756293</td>\n",
       "      <td>0.756140</td>\n",
       "      <td>0.755578</td>\n",
       "      <td>0.754173</td>\n",
       "    </tr>\n",
       "    <tr>\n",
       "      <th>ridge_crude</th>\n",
       "      <td>0.847699</td>\n",
       "      <td>0.851870</td>\n",
       "      <td>0.835914</td>\n",
       "      <td>0.829498</td>\n",
       "      <td>0.825503</td>\n",
       "      <td>0.815028</td>\n",
       "      <td>0.814743</td>\n",
       "      <td>0.813877</td>\n",
       "      <td>0.815353</td>\n",
       "      <td>0.812816</td>\n",
       "      <td>...</td>\n",
       "      <td>0.757919</td>\n",
       "      <td>0.755934</td>\n",
       "      <td>0.757266</td>\n",
       "      <td>0.759101</td>\n",
       "      <td>0.758257</td>\n",
       "      <td>0.756038</td>\n",
       "      <td>0.754627</td>\n",
       "      <td>0.752895</td>\n",
       "      <td>0.754179</td>\n",
       "      <td>0.755089</td>\n",
       "    </tr>\n",
       "    <tr>\n",
       "      <th>lasso_crude</th>\n",
       "      <td>0.844126</td>\n",
       "      <td>0.849688</td>\n",
       "      <td>0.833727</td>\n",
       "      <td>0.828378</td>\n",
       "      <td>0.825278</td>\n",
       "      <td>0.815491</td>\n",
       "      <td>0.815472</td>\n",
       "      <td>0.814085</td>\n",
       "      <td>0.815791</td>\n",
       "      <td>0.813255</td>\n",
       "      <td>...</td>\n",
       "      <td>0.757880</td>\n",
       "      <td>0.756026</td>\n",
       "      <td>0.757339</td>\n",
       "      <td>0.759036</td>\n",
       "      <td>0.758399</td>\n",
       "      <td>0.756208</td>\n",
       "      <td>0.754680</td>\n",
       "      <td>0.753027</td>\n",
       "      <td>0.754558</td>\n",
       "      <td>0.755559</td>\n",
       "    </tr>\n",
       "    <tr>\n",
       "      <th>enet_crude</th>\n",
       "      <td>0.844331</td>\n",
       "      <td>0.849965</td>\n",
       "      <td>0.833969</td>\n",
       "      <td>0.828462</td>\n",
       "      <td>0.825266</td>\n",
       "      <td>0.815389</td>\n",
       "      <td>0.815344</td>\n",
       "      <td>0.813974</td>\n",
       "      <td>0.815661</td>\n",
       "      <td>0.813060</td>\n",
       "      <td>...</td>\n",
       "      <td>0.757832</td>\n",
       "      <td>0.755988</td>\n",
       "      <td>0.757300</td>\n",
       "      <td>0.759021</td>\n",
       "      <td>0.758378</td>\n",
       "      <td>0.756192</td>\n",
       "      <td>0.754681</td>\n",
       "      <td>0.753018</td>\n",
       "      <td>0.754557</td>\n",
       "      <td>0.755562</td>\n",
       "    </tr>\n",
       "    <tr>\n",
       "      <th>linear_svm_crude</th>\n",
       "      <td>0.851887</td>\n",
       "      <td>0.854559</td>\n",
       "      <td>0.840842</td>\n",
       "      <td>0.832875</td>\n",
       "      <td>0.829001</td>\n",
       "      <td>0.818959</td>\n",
       "      <td>0.819477</td>\n",
       "      <td>0.818379</td>\n",
       "      <td>0.819659</td>\n",
       "      <td>0.816472</td>\n",
       "      <td>...</td>\n",
       "      <td>0.759167</td>\n",
       "      <td>0.757604</td>\n",
       "      <td>0.759548</td>\n",
       "      <td>0.761481</td>\n",
       "      <td>0.760706</td>\n",
       "      <td>0.758725</td>\n",
       "      <td>0.757701</td>\n",
       "      <td>0.755718</td>\n",
       "      <td>0.757699</td>\n",
       "      <td>0.758888</td>\n",
       "    </tr>\n",
       "  </tbody>\n",
       "</table>\n",
       "<p>6 rows × 60 columns</p>\n",
       "</div>"
      ],
      "text/plain": [
       "                   time_30   time_60   time_90  time_120  time_150  time_180  \\\n",
       "gbm_crude         0.865653  0.884240  0.866949  0.865569  0.861561  0.852376   \n",
       "rsf_crude         0.866668  0.876143  0.852497  0.850469  0.846343  0.836480   \n",
       "ridge_crude       0.847699  0.851870  0.835914  0.829498  0.825503  0.815028   \n",
       "lasso_crude       0.844126  0.849688  0.833727  0.828378  0.825278  0.815491   \n",
       "enet_crude        0.844331  0.849965  0.833969  0.828462  0.825266  0.815389   \n",
       "linear_svm_crude  0.851887  0.854559  0.840842  0.832875  0.829001  0.818959   \n",
       "\n",
       "                  time_210  time_240  time_270  time_300  ...  time_1530  \\\n",
       "gbm_crude         0.852850  0.850731  0.851161  0.849431  ...   0.782725   \n",
       "rsf_crude         0.835673  0.831395  0.830522  0.829236  ...   0.763159   \n",
       "ridge_crude       0.814743  0.813877  0.815353  0.812816  ...   0.757919   \n",
       "lasso_crude       0.815472  0.814085  0.815791  0.813255  ...   0.757880   \n",
       "enet_crude        0.815344  0.813974  0.815661  0.813060  ...   0.757832   \n",
       "linear_svm_crude  0.819477  0.818379  0.819659  0.816472  ...   0.759167   \n",
       "\n",
       "                  time_1560  time_1590  time_1620  time_1650  time_1680  \\\n",
       "gbm_crude          0.779661   0.781463   0.781015   0.779310   0.779304   \n",
       "rsf_crude          0.759102   0.761464   0.761499   0.757960   0.756729   \n",
       "ridge_crude        0.755934   0.757266   0.759101   0.758257   0.756038   \n",
       "lasso_crude        0.756026   0.757339   0.759036   0.758399   0.756208   \n",
       "enet_crude         0.755988   0.757300   0.759021   0.758378   0.756192   \n",
       "linear_svm_crude   0.757604   0.759548   0.761481   0.760706   0.758725   \n",
       "\n",
       "                  time_1710  time_1740  time_1770  time_1800  \n",
       "gbm_crude          0.777667   0.776433   0.776933   0.776247  \n",
       "rsf_crude          0.756293   0.756140   0.755578   0.754173  \n",
       "ridge_crude        0.754627   0.752895   0.754179   0.755089  \n",
       "lasso_crude        0.754680   0.753027   0.754558   0.755559  \n",
       "enet_crude         0.754681   0.753018   0.754557   0.755562  \n",
       "linear_svm_crude   0.757701   0.755718   0.757699   0.758888  \n",
       "\n",
       "[6 rows x 60 columns]"
      ]
     },
     "execution_count": 208,
     "metadata": {},
     "output_type": "execute_result"
    }
   ],
   "source": [
    "crude_auc_over5"
   ]
  },
  {
   "cell_type": "code",
   "execution_count": 207,
   "id": "efd52084",
   "metadata": {},
   "outputs": [],
   "source": [
    "crude_auc_over5.to_csv('crude_auc_over5.csv', index = True, header = True)"
   ]
  },
  {
   "cell_type": "code",
   "execution_count": 208,
   "id": "d630527e",
   "metadata": {},
   "outputs": [],
   "source": [
    "# Variables passing through pipeline\n",
    "cat_encoder = list(preprocessor_red.transformers_[1][1].get_feature_names_out(categorical_features))\n",
    "pass_through = list(train_x_red.iloc[:, preprocessor_red.transformers_[2][2]].columns)\n",
    "attributes = numerical_features_red + cat_encoder + pass_through"
   ]
  },
  {
   "cell_type": "code",
   "execution_count": 209,
   "id": "6351c8a4",
   "metadata": {},
   "outputs": [
    {
     "name": "stdout",
     "output_type": "stream",
     "text": [
      "Total number of features: 195\n",
      "Number of non-zero features in final model: 195\n"
     ]
    },
    {
     "data": {
      "image/png": "[encoded data removed]",
      "text/plain": [
       "<Figure size 432x576 with 1 Axes>"
      ]
     },
     "metadata": {
      "needs_background": "light"
     },
     "output_type": "display_data"
    }
   ],
   "source": [
    "# Dataframe of coefficients for each variable \n",
    "coefficients_linear_svm = pd.DataFrame(\n",
    "    linear_svm.named_steps['fastsurvivalsvm'].coef_,\n",
    "    index = attributes,\n",
    "    columns = ['coefficient']\n",
    ")\n",
    "\n",
    "print('Total number of features: {}'.format(len(attributes)))\n",
    "\n",
    "non_zero = np.sum(coefficients_linear_svm.iloc[:, 0] != 0)\n",
    "print('Number of non-zero features in final model: {}'.format(non_zero))\n",
    "\n",
    "non_zero_coefs = coefficients_linear_svm.query('coefficient != 0')\n",
    "coef_order = non_zero_coefs.abs().sort_values('coefficient').tail(30).index\n",
    "\n",
    "_, ax = plt.subplots(figsize=(6, 8))\n",
    "non_zero_coefs.loc[coef_order].plot.barh(ax = ax, legend = False)\n",
    "ax.set_xlabel('coefficient')\n",
    "ax.grid(True)"
   ]
  },
  {
   "cell_type": "markdown",
   "id": "8fd67e57",
   "metadata": {},
   "source": [
    "**In conclusion, the gradient boosted model has the best test set performance in regards to 2 year AUC. Random survival forest follows closely behind. The bottom performers are penalized Cox and linear survival support vector machine.** "
   ]
  }
 ],
 "metadata": {
  "kernelspec": {
   "display_name": "Python 3 (ipykernel)",
   "language": "python",
   "name": "python3"
  },
  "language_info": {
   "codemirror_mode": {
    "name": "ipython",
    "version": 3
   },
   "file_extension": ".py",
   "mimetype": "text/x-python",
   "name": "python",
   "nbconvert_exporter": "python",
   "pygments_lexer": "ipython3",
   "version": "3.7.10"
  }
 },
 "nbformat": 4,
 "nbformat_minor": 5
}
