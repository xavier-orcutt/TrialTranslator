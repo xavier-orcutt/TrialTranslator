{
 "cells": [
  {
   "cell_type": "markdown",
   "id": "9a4c1254",
   "metadata": {},
   "source": [
    "# Flatiron Health mBC: Machine learning models with crude imputation \n",
    "\n",
    "**OBJECTIVE: Build 4 survival machine learning models using a crude imputation strategy. This imputation strategy assumes data is missing completely at random and will impute median for numerical variables and leave missing categorical entries as \"unknown\" (eg., possible ECOG values are 0, 1, 2, 3, 4, 5, and unknown).**\n",
    "\n",
    "**BACKGROUND: The models were built using scikit-survival which is a machine learning library for survival analysis.  All 4 of these machine learning models are intended for survival analysis and so take into account censored data.** \n",
    "\n",
    "**Time-dependent area under the receiver operator curve (AUC) at 2 years from metasttic diagnosis was selected as the primary performance metric. This metric determines how well a model can distinguish patients who die by time *t* from patients who die after this time.**\n",
    "\n",
    "**OUTLINE:**\n",
    "1. **Preprocessing**\n",
    "2. **Gradient boosted model** \n",
    "3. **Random survival forest** \n",
    "4. **Penalized Cox models**\n",
    "5. **Linear support vector machine** "
   ]
  },
  {
   "cell_type": "markdown",
   "id": "96942fad",
   "metadata": {},
   "source": [
    "## 1. Preprocessing "
   ]
  },
  {
   "cell_type": "code",
   "execution_count": 1,
   "id": "2ed49dc3",
   "metadata": {},
   "outputs": [],
   "source": [
    "import numpy as np\n",
    "import pandas as pd\n",
    "\n",
    "from sklearn.model_selection import StratifiedShuffleSplit\n",
    "from sklearn.pipeline import Pipeline\n",
    "from sklearn.impute import SimpleImputer\n",
    "from sklearn.preprocessing import StandardScaler, OneHotEncoder\n",
    "from sklearn.compose import ColumnTransformer "
   ]
  },
  {
   "cell_type": "markdown",
   "id": "c2ef3648",
   "metadata": {},
   "source": [
    "### 1.1 Importing full dataframes"
   ]
  },
  {
   "cell_type": "code",
   "execution_count": 2,
   "id": "3f7f008b",
   "metadata": {},
   "outputs": [
    {
     "name": "stdout",
     "output_type": "stream",
     "text": [
      "25341 True\n"
     ]
    }
   ],
   "source": [
    "# Import training set and set PatientID as index.\n",
    "train = pd.read_csv('train_full.csv', index_col = 'PatientID')\n",
    "print(len(train), train.index.is_unique)"
   ]
  },
  {
   "cell_type": "code",
   "execution_count": 3,
   "id": "a6bdff04",
   "metadata": {},
   "outputs": [
    {
     "name": "stdout",
     "output_type": "stream",
     "text": [
      "6336 True\n"
     ]
    }
   ],
   "source": [
    "# Import test set and set PatientID as index.\n",
    "test = pd.read_csv('test_full.csv', index_col = 'PatientID')\n",
    "print(len(test), test.index.is_unique)"
   ]
  },
  {
   "cell_type": "markdown",
   "id": "4f5ddc2a",
   "metadata": {},
   "source": [
    "### 1.2 Drop unnecessary demographic variables "
   ]
  },
  {
   "cell_type": "code",
   "execution_count": 4,
   "id": "63bffc8f",
   "metadata": {},
   "outputs": [],
   "source": [
    "train = train.drop(columns = ['race',\n",
    "                              'ethnicity',\n",
    "                              'region',\n",
    "                              'medicare', \n",
    "                              'medicaid', \n",
    "                              'medicare_medicaid',\n",
    "                              'commercial', \n",
    "                              'patient_assistance', \n",
    "                              'other_govt',\n",
    "                              'self_pay', \n",
    "                              'other', \n",
    "                              'ses'])"
   ]
  },
  {
   "cell_type": "code",
   "execution_count": 5,
   "id": "12d1f59f",
   "metadata": {},
   "outputs": [],
   "source": [
    "test = test.drop(columns = ['race',\n",
    "                            'ethnicity',\n",
    "                            'region',\n",
    "                            'medicare', \n",
    "                            'medicaid', \n",
    "                            'medicare_medicaid',\n",
    "                            'commercial', \n",
    "                            'patient_assistance', \n",
    "                            'other_govt',\n",
    "                            'self_pay', \n",
    "                            'other', \n",
    "                            'ses'])"
   ]
  },
  {
   "cell_type": "markdown",
   "id": "eeede61c",
   "metadata": {},
   "source": [
    "### 1.3 Converting datatypes "
   ]
  },
  {
   "cell_type": "code",
   "execution_count": 6,
   "id": "89d3a565",
   "metadata": {},
   "outputs": [
    {
     "data": {
      "text/plain": [
       "['gender',\n",
       " 'p_type',\n",
       " 'stage',\n",
       " 'ER',\n",
       " 'HER2',\n",
       " 'PR',\n",
       " 'BRCA',\n",
       " 'PIK3CA',\n",
       " 'pdl1_n',\n",
       " 'ecog_diagnosis']"
      ]
     },
     "execution_count": 6,
     "metadata": {},
     "output_type": "execute_result"
    }
   ],
   "source": [
    "list(train.select_dtypes(include = ['object']).columns)"
   ]
  },
  {
   "cell_type": "code",
   "execution_count": 7,
   "id": "49efb1bc",
   "metadata": {},
   "outputs": [],
   "source": [
    "to_be_categorical = list(train.select_dtypes(include = ['object']).columns)"
   ]
  },
  {
   "cell_type": "code",
   "execution_count": 8,
   "id": "c0d4c959",
   "metadata": {},
   "outputs": [],
   "source": [
    "to_be_categorical.append('met_year')"
   ]
  },
  {
   "cell_type": "code",
   "execution_count": 9,
   "id": "20843fda",
   "metadata": {},
   "outputs": [],
   "source": [
    "# Convert variables in list to categorical.\n",
    "for x in list(to_be_categorical):\n",
    "    train[x] = train[x].astype('category')"
   ]
  },
  {
   "cell_type": "code",
   "execution_count": 10,
   "id": "7b977446",
   "metadata": {},
   "outputs": [
    {
     "data": {
      "text/plain": [
       "['gender',\n",
       " 'p_type',\n",
       " 'stage',\n",
       " 'met_year',\n",
       " 'ER',\n",
       " 'HER2',\n",
       " 'PR',\n",
       " 'BRCA',\n",
       " 'PIK3CA',\n",
       " 'pdl1_n',\n",
       " 'ecog_diagnosis']"
      ]
     },
     "execution_count": 10,
     "metadata": {},
     "output_type": "execute_result"
    }
   ],
   "source": [
    "list(train.select_dtypes(include = ['category']).columns)"
   ]
  },
  {
   "cell_type": "code",
   "execution_count": 11,
   "id": "923e03dc",
   "metadata": {},
   "outputs": [],
   "source": [
    "# Convert variables in list to categorical.\n",
    "for x in list(to_be_categorical):\n",
    "    test[x] = test[x].astype('category')"
   ]
  },
  {
   "cell_type": "code",
   "execution_count": 12,
   "id": "737f24a1",
   "metadata": {},
   "outputs": [],
   "source": [
    "# Convert death_status into True or False (required for scikit-survival). \n",
    "train['death_status'] = train['death_status'].astype('bool')"
   ]
  },
  {
   "cell_type": "code",
   "execution_count": 13,
   "id": "07a0db5c",
   "metadata": {},
   "outputs": [],
   "source": [
    "# Convert death_status into True or False (required for scikit-survival).\n",
    "test['death_status'] = test['death_status'].astype('bool')"
   ]
  },
  {
   "cell_type": "markdown",
   "id": "ee5d1916",
   "metadata": {},
   "source": [
    "### 1.4 Defining validation set\n",
    "\n",
    "**A validation dataset will be constructed from the training set. This validation set will comprise of 25% of the training set. It will be used to assist in early stopping for the gradient boosted survival model and the random survival model. Like in the training-test split, a stratified approach will be carried out to preserve the distribution of diagnosis years.**   "
   ]
  },
  {
   "cell_type": "code",
   "execution_count": 14,
   "id": "02aa76c5",
   "metadata": {},
   "outputs": [],
   "source": [
    "train['met_year_cat'] = pd.cut(train['met_year'],\n",
    "                               bins = [2010, 2012, 2014, 2016, 2018, 2020, 2022],\n",
    "                               labels = ['11-12', '13-14', '15-16', '17-18', '19-20', '21-22'])"
   ]
  },
  {
   "cell_type": "code",
   "execution_count": 15,
   "id": "c34c3ea9",
   "metadata": {},
   "outputs": [],
   "source": [
    "sss = StratifiedShuffleSplit(n_splits = 1, test_size = 0.25, random_state = 42)\n",
    "\n",
    "for sub_train_index, val_index in sss.split(train, train['met_year_cat']):\n",
    "    sub_train = train.iloc[sub_train_index]\n",
    "    val = train.iloc[val_index]"
   ]
  },
  {
   "cell_type": "code",
   "execution_count": 16,
   "id": "001965ea",
   "metadata": {},
   "outputs": [],
   "source": [
    "train = train.drop(columns = ['met_year_cat'])"
   ]
  },
  {
   "cell_type": "code",
   "execution_count": 17,
   "id": "7284aed9",
   "metadata": {},
   "outputs": [],
   "source": [
    "sub_train = sub_train.drop(columns = ['met_year_cat'])"
   ]
  },
  {
   "cell_type": "code",
   "execution_count": 18,
   "id": "92365ebe",
   "metadata": {},
   "outputs": [],
   "source": [
    "val = val.drop(columns = ['met_year_cat'])"
   ]
  },
  {
   "cell_type": "code",
   "execution_count": 19,
   "id": "2f088730",
   "metadata": {},
   "outputs": [],
   "source": [
    "pd.DataFrame(val.index, columns = ['PatientID']).to_csv('val_IDs.csv', index = False, header = True)"
   ]
  },
  {
   "cell_type": "code",
   "execution_count": 20,
   "id": "d386c370",
   "metadata": {},
   "outputs": [],
   "source": [
    "val_IDs = pd.read_csv('val_IDs.csv')"
   ]
  },
  {
   "cell_type": "markdown",
   "id": "991c4588",
   "metadata": {},
   "source": [
    "### 1.5 Separate into X and Y"
   ]
  },
  {
   "cell_type": "code",
   "execution_count": 21,
   "id": "374e94ed",
   "metadata": {},
   "outputs": [],
   "source": [
    "# 'X' datasets\n",
    "train_x = train.drop(columns = ['death_status', 'timerisk_activity']) #80% of data \n",
    "\n",
    "test_x = test.drop(columns = ['death_status', 'timerisk_activity']) #20% of data \n",
    "\n",
    "sub_train_x = sub_train.drop(columns = ['death_status', 'timerisk_activity']) #60% of data\n",
    "\n",
    "val_x = val.drop(columns = ['death_status', 'timerisk_activity']) #20% of data "
   ]
  },
  {
   "cell_type": "code",
   "execution_count": 22,
   "id": "53405cc6",
   "metadata": {},
   "outputs": [],
   "source": [
    "# 'Y' datasets\n",
    "# Death status and time until event needs to be stored as a structured array to be compatible with scikit-survival\n",
    "y_dtypes = train[['death_status', 'timerisk_activity']].dtypes\n",
    "\n",
    "train_y = np.array([tuple(x) for x in train[['death_status', 'timerisk_activity']].values], \n",
    "                   dtype = list(zip(y_dtypes.index, y_dtypes)))\n",
    "\n",
    "test_y = np.array([tuple(x) for x in test[['death_status', 'timerisk_activity']].values], \n",
    "                  dtype = list(zip(y_dtypes.index, y_dtypes)))\n",
    "\n",
    "sub_train_y = np.array([tuple(x) for x in sub_train[['death_status', 'timerisk_activity']].values],\n",
    "                       dtype = list(zip(y_dtypes.index, y_dtypes)))\n",
    "\n",
    "val_y = np.array([tuple(x) for x in val[['death_status', 'timerisk_activity']].values],\n",
    "                 dtype = list(zip(y_dtypes.index, y_dtypes)))"
   ]
  },
  {
   "cell_type": "markdown",
   "id": "dbfeac11",
   "metadata": {},
   "source": [
    "### 1.6 Build pipeline"
   ]
  },
  {
   "cell_type": "code",
   "execution_count": 23,
   "id": "fcae47e8",
   "metadata": {},
   "outputs": [
    {
     "data": {
      "text/plain": [
       "['age',\n",
       " 'delta_met_diagnosis',\n",
       " 'steroid_diag',\n",
       " 'opioid_PO_diag',\n",
       " 'nonopioid_PO_diag',\n",
       " 'pain_IV_diag',\n",
       " 'ac_diag',\n",
       " 'antiinfective_IV_diag',\n",
       " 'antiinfective_diag',\n",
       " 'antihyperglycemic_diag',\n",
       " 'ppi_diag',\n",
       " 'antidepressant_diag',\n",
       " 'bta_diag',\n",
       " 'thyroid_diag',\n",
       " 'is_diag',\n",
       " 'weight_diag',\n",
       " 'bmi_diag',\n",
       " 'bmi_diag_na',\n",
       " 'weight_pct_change',\n",
       " 'weight_pct_na',\n",
       " 'weight_slope',\n",
       " 'albumin_diag',\n",
       " 'alp_diag',\n",
       " 'alt_diag',\n",
       " 'ast_diag',\n",
       " 'bicarb_diag',\n",
       " 'bun_diag',\n",
       " 'calcium_diag',\n",
       " 'chloride_diag',\n",
       " 'creatinine_diag',\n",
       " 'hemoglobin_diag',\n",
       " 'neutrophil_count_diag',\n",
       " 'platelet_diag',\n",
       " 'potassium_diag',\n",
       " 'sodium_diag',\n",
       " 'total_bilirubin_diag',\n",
       " 'wbc_diag',\n",
       " 'albumin_diag_na',\n",
       " 'alp_diag_na',\n",
       " 'alt_diag_na',\n",
       " 'ast_diag_na',\n",
       " 'bicarb_diag_na',\n",
       " 'bun_diag_na',\n",
       " 'calcium_diag_na',\n",
       " 'chloride_diag_na',\n",
       " 'creatinine_diag_na',\n",
       " 'hemoglobin_diag_na',\n",
       " 'neutrophil_count_diag_na',\n",
       " 'platelet_diag_na',\n",
       " 'potassium_diag_na',\n",
       " 'sodium_diag_na',\n",
       " 'total_bilirubin_diag_na',\n",
       " 'wbc_diag_na',\n",
       " 'albumin_avg',\n",
       " 'alp_avg',\n",
       " 'alt_avg',\n",
       " 'ast_avg',\n",
       " 'bicarb_avg',\n",
       " 'bun_avg',\n",
       " 'calcium_avg',\n",
       " 'chloride_avg',\n",
       " 'creatinine_avg',\n",
       " 'hemoglobin_avg',\n",
       " 'neutrophil_count_avg',\n",
       " 'platelet_avg',\n",
       " 'potassium_avg',\n",
       " 'sodium_avg',\n",
       " 'total_bilirubin_avg',\n",
       " 'wbc_avg',\n",
       " 'albumin_max',\n",
       " 'alp_max',\n",
       " 'alt_max',\n",
       " 'ast_max',\n",
       " 'bicarb_max',\n",
       " 'bun_max',\n",
       " 'calcium_max',\n",
       " 'chloride_max',\n",
       " 'creatinine_max',\n",
       " 'hemoglobin_max',\n",
       " 'neutrophil_count_max',\n",
       " 'platelet_max',\n",
       " 'potassium_max',\n",
       " 'sodium_max',\n",
       " 'total_bilirubin_max',\n",
       " 'wbc_max',\n",
       " 'albumin_min',\n",
       " 'alp_min',\n",
       " 'alt_min',\n",
       " 'ast_min',\n",
       " 'bicarb_min',\n",
       " 'bun_min',\n",
       " 'calcium_min',\n",
       " 'chloride_min',\n",
       " 'creatinine_min',\n",
       " 'hemoglobin_min',\n",
       " 'neutrophil_count_min',\n",
       " 'platelet_min',\n",
       " 'potassium_min',\n",
       " 'sodium_min',\n",
       " 'total_bilirubin_min',\n",
       " 'wbc_min',\n",
       " 'albumin_std',\n",
       " 'alp_std',\n",
       " 'alt_std',\n",
       " 'ast_std',\n",
       " 'bicarb_std',\n",
       " 'bun_std',\n",
       " 'calcium_std',\n",
       " 'chloride_std',\n",
       " 'creatinine_std',\n",
       " 'hemoglobin_std',\n",
       " 'neutrophil_count_std',\n",
       " 'platelet_std',\n",
       " 'potassium_std',\n",
       " 'sodium_std',\n",
       " 'total_bilirubin_std',\n",
       " 'wbc_std',\n",
       " 'albumin_slope',\n",
       " 'alp_slope',\n",
       " 'alt_slope',\n",
       " 'ast_slope',\n",
       " 'bicarb_slope',\n",
       " 'bun_slope',\n",
       " 'calcium_slope',\n",
       " 'chloride_slope',\n",
       " 'creatinine_slope',\n",
       " 'hemoglobin_slope',\n",
       " 'neutrophil_count_slope',\n",
       " 'platelet_slope',\n",
       " 'potassium_slope',\n",
       " 'sodium_slope',\n",
       " 'total_bilirubin_slope',\n",
       " 'wbc_slope',\n",
       " 'albumin_slope_na',\n",
       " 'alp_slope_na',\n",
       " 'alt_slope_na',\n",
       " 'ast_slope_na',\n",
       " 'bicarb_slope_na',\n",
       " 'bun_slope_na',\n",
       " 'calcium_slope_na',\n",
       " 'chloride_slope_na',\n",
       " 'creatinine_slope_na',\n",
       " 'hemoglobin_slope_na',\n",
       " 'neutrophil_count_slope_na',\n",
       " 'platelet_slope_na',\n",
       " 'potassium_slope_na',\n",
       " 'sodium_slope_na',\n",
       " 'total_bilirubin_slope_na',\n",
       " 'wbc_slope_na',\n",
       " 'chf',\n",
       " 'cardiac_arrhythmias',\n",
       " 'valvular_disease',\n",
       " 'pulmonary_circulation',\n",
       " 'peripheral_vascular',\n",
       " 'htn_uncomplicated',\n",
       " 'htn_complicated',\n",
       " 'paralysis',\n",
       " 'other_neuro_disorders',\n",
       " 'chronic_pulmonary',\n",
       " 'diabetes_uncomplicated',\n",
       " 'diabetes_complicated',\n",
       " 'hypothyroidism',\n",
       " 'renal_failure',\n",
       " 'liver_disease',\n",
       " 'peptic_ulcer_disease',\n",
       " 'aids_hiv',\n",
       " 'lymphoma',\n",
       " 'metastatic_cancer',\n",
       " 'solid_tumor_wout_mets',\n",
       " 'rheumatoid_arthritis',\n",
       " 'coagulopathy',\n",
       " 'obesity',\n",
       " 'weight_loss',\n",
       " 'fluid_electrolyte',\n",
       " 'blood_loss_anemia',\n",
       " 'deficiency_anemia',\n",
       " 'alcohol_abuse',\n",
       " 'drug_abuse',\n",
       " 'psychoses',\n",
       " 'depression',\n",
       " 'elixhauser_other',\n",
       " 'icd_count',\n",
       " 'other_cancer',\n",
       " 'bone_met',\n",
       " 'thorax_met',\n",
       " 'lymph_met',\n",
       " 'liver_met',\n",
       " 'cns_met',\n",
       " 'skin_met',\n",
       " 'peritoneum_met',\n",
       " 'other_met']"
      ]
     },
     "execution_count": 23,
     "metadata": {},
     "output_type": "execute_result"
    }
   ],
   "source": [
    "list(train_x.select_dtypes(exclude = ['category']).columns)"
   ]
  },
  {
   "cell_type": "code",
   "execution_count": 24,
   "id": "880c79bd",
   "metadata": {},
   "outputs": [],
   "source": [
    "# List of numeric variables, excluding binary variables. \n",
    "numerical_features = [\n",
    "    'age',\n",
    "    'delta_met_diagnosis',\n",
    "    'weight_diag',\n",
    "    'bmi_diag',\n",
    "    'weight_pct_change',\n",
    "    'weight_slope',\n",
    "    'albumin_diag',\n",
    "    'alp_diag',\n",
    "    'alt_diag',\n",
    "    'ast_diag',\n",
    "    'bicarb_diag',\n",
    "    'bun_diag',\n",
    "    'calcium_diag',\n",
    "    'chloride_diag',\n",
    "    'creatinine_diag',\n",
    "    'hemoglobin_diag',\n",
    "    'neutrophil_count_diag',\n",
    "    'platelet_diag',\n",
    "    'potassium_diag',\n",
    "    'sodium_diag',\n",
    "    'total_bilirubin_diag',\n",
    "    'wbc_diag', \n",
    "    'albumin_avg',\n",
    "    'alp_avg',\n",
    "    'alt_avg',\n",
    "    'ast_avg',\n",
    "    'bicarb_avg',\n",
    "    'bun_avg',\n",
    "    'calcium_avg',\n",
    "    'chloride_avg',\n",
    "    'creatinine_avg',\n",
    "    'hemoglobin_avg',\n",
    "    'neutrophil_count_avg',\n",
    "    'platelet_avg',\n",
    "    'potassium_avg',\n",
    "    'sodium_avg',\n",
    "    'total_bilirubin_avg',\n",
    "    'wbc_avg',\n",
    "    'albumin_max',\n",
    "    'alp_max',\n",
    "    'alt_max',\n",
    "    'ast_max',\n",
    "    'bicarb_max',\n",
    "    'bun_max',\n",
    "    'calcium_max',\n",
    "    'chloride_max',\n",
    "    'creatinine_max',\n",
    "    'hemoglobin_max',\n",
    "    'neutrophil_count_max',\n",
    "    'platelet_max',\n",
    "    'potassium_max',\n",
    "    'sodium_max',\n",
    "    'total_bilirubin_max',\n",
    "    'wbc_max',\n",
    "    'albumin_min',\n",
    "    'alp_min',\n",
    "    'alt_min',\n",
    "    'ast_min',\n",
    "    'bicarb_min',\n",
    "    'bun_min',\n",
    "    'calcium_min',\n",
    "    'chloride_min',\n",
    "    'creatinine_min',\n",
    "    'hemoglobin_min',\n",
    "    'neutrophil_count_min',\n",
    "    'platelet_min',\n",
    "    'potassium_min',\n",
    "    'sodium_min',\n",
    "    'total_bilirubin_min',\n",
    "    'wbc_min',\n",
    "    'albumin_std',\n",
    "    'alp_std',\n",
    "    'alt_std',\n",
    "    'ast_std',\n",
    "    'bicarb_std',\n",
    "    'bun_std',\n",
    "    'calcium_std',\n",
    "    'chloride_std',\n",
    "    'creatinine_std',\n",
    "    'hemoglobin_std',\n",
    "    'neutrophil_count_std',\n",
    "    'platelet_std',\n",
    "    'potassium_std',\n",
    "    'sodium_std',\n",
    "    'total_bilirubin_std',\n",
    "    'wbc_std',\n",
    "    'albumin_slope',\n",
    "    'alp_slope',\n",
    "    'alt_slope',\n",
    "    'ast_slope',\n",
    "    'bicarb_slope',\n",
    "    'bun_slope',\n",
    "    'calcium_slope',\n",
    "    'chloride_slope',\n",
    "    'creatinine_slope',\n",
    "    'hemoglobin_slope',\n",
    "    'neutrophil_count_slope',\n",
    "    'platelet_slope',\n",
    "    'potassium_slope',\n",
    "    'sodium_slope',\n",
    "    'total_bilirubin_slope',\n",
    "    'wbc_slope',\n",
    "    'icd_count']\n",
    "\n",
    "# Transformer will first calculate column median and impute, and then apply a standard scaler. \n",
    "numerical_transformer = Pipeline(steps = [\n",
    "    ('imputer', SimpleImputer(strategy = 'median')),\n",
    "    ('std_scaler', StandardScaler())])"
   ]
  },
  {
   "cell_type": "code",
   "execution_count": 25,
   "id": "e448b3e4",
   "metadata": {},
   "outputs": [
    {
     "data": {
      "text/plain": [
       "['gender',\n",
       " 'p_type',\n",
       " 'stage',\n",
       " 'met_year',\n",
       " 'ER',\n",
       " 'HER2',\n",
       " 'PR',\n",
       " 'BRCA',\n",
       " 'PIK3CA',\n",
       " 'pdl1_n',\n",
       " 'ecog_diagnosis']"
      ]
     },
     "execution_count": 25,
     "metadata": {},
     "output_type": "execute_result"
    }
   ],
   "source": [
    "list(train_x.select_dtypes(include = ['category']).columns)"
   ]
  },
  {
   "cell_type": "code",
   "execution_count": 26,
   "id": "e88bb35a",
   "metadata": {},
   "outputs": [],
   "source": [
    "# List of categorical features.\n",
    "categorical_features = list(train_x.select_dtypes(include = ['category']).columns)\n",
    "\n",
    "# One-hot-encode categorical features.\n",
    "categorical_transformer = OneHotEncoder(handle_unknown = 'ignore')"
   ]
  },
  {
   "cell_type": "code",
   "execution_count": 27,
   "id": "65fd3806",
   "metadata": {},
   "outputs": [
    {
     "data": {
      "text/plain": [
       "88"
      ]
     },
     "execution_count": 27,
     "metadata": {},
     "output_type": "execute_result"
    }
   ],
   "source": [
    "# Remaining unprocessed columns which are binary variables\n",
    "len(train_x.columns) - (len(numerical_features) + len(categorical_features))"
   ]
  },
  {
   "cell_type": "code",
   "execution_count": 28,
   "id": "d63127b3",
   "metadata": {},
   "outputs": [],
   "source": [
    "all_columns = list(train_x.columns)"
   ]
  },
  {
   "cell_type": "code",
   "execution_count": 29,
   "id": "e70fd6c7",
   "metadata": {},
   "outputs": [
    {
     "data": {
      "text/plain": [
       "88"
      ]
     },
     "execution_count": 29,
     "metadata": {},
     "output_type": "execute_result"
    }
   ],
   "source": [
    "# Prints number of columns after removing columns that are numerical or categorical. \n",
    "for i in list(numerical_features + categorical_features):\n",
    "    all_columns.remove(i)\n",
    "len(all_columns)"
   ]
  },
  {
   "cell_type": "code",
   "execution_count": 30,
   "id": "228ce806",
   "metadata": {},
   "outputs": [],
   "source": [
    "preprocessor = ColumnTransformer(\n",
    "    transformers = [\n",
    "        ('num', numerical_transformer, numerical_features),\n",
    "        ('cat', categorical_transformer, categorical_features)],\n",
    "    remainder = 'passthrough')"
   ]
  },
  {
   "cell_type": "markdown",
   "id": "fb16d829",
   "metadata": {},
   "source": [
    "## 2. Gradient boosted survival model"
   ]
  },
  {
   "cell_type": "code",
   "execution_count": 31,
   "id": "151576b7",
   "metadata": {},
   "outputs": [],
   "source": [
    "from sklearn.experimental import enable_halving_search_cv\n",
    "from sklearn.model_selection import StratifiedKFold, HalvingGridSearchCV\n",
    "from sklearn.pipeline import make_pipeline\n",
    "\n",
    "from sksurv.ensemble import GradientBoostingSurvivalAnalysis\n",
    "from sksurv.metrics import cumulative_dynamic_auc, as_cumulative_dynamic_auc_scorer\n",
    "\n",
    "from joblib import dump, load \n",
    "\n",
    "import matplotlib.pyplot as plt\n",
    "\n",
    "import warnings "
   ]
  },
  {
   "cell_type": "markdown",
   "id": "b84fe09a",
   "metadata": {},
   "source": [
    "**The gradient boosted survival model will be configured by setting a low learning rate (eg., <= 0.1) and choosing the number of trees by monitoring the 1 year AUC on the valdiation dataset and stopping once performance on the validation dataset begins to degrade. The learning rate will be tuned to achieve a target tree size >500. Once learning rate and tree number are set, a halving grid search with 3-fold cross validation will be performed to identify ideal max depth and subsample percentage.**  "
   ]
  },
  {
   "cell_type": "markdown",
   "id": "aab57026",
   "metadata": {},
   "source": [
    "### 2.1 Determining number of trees for full model "
   ]
  },
  {
   "cell_type": "markdown",
   "id": "9e312db0",
   "metadata": {},
   "source": [
    "**The full model includes all variables, notably 96 summary labs values which have significant missingness (>40%).**"
   ]
  },
  {
   "cell_type": "code",
   "execution_count": 32,
   "id": "e0f66ebe",
   "metadata": {},
   "outputs": [
    {
     "name": "stdout",
     "output_type": "stream",
     "text": [
      "      Iter       Train Loss      OOB Improve   Remaining Time \n",
      "         1       71340.2000          13.2750          113.13m\n",
      "         2       71620.0992          12.2278          113.42m\n",
      "         3       71401.4880          11.8653          113.27m\n",
      "         4       71568.6098          12.4254          113.50m\n",
      "         5       72094.2357          10.8584          113.62m\n",
      "         6       71545.2219          10.5679          113.60m\n",
      "         7       71643.9361          10.3981          113.65m\n",
      "         8       71104.5878           9.8123          113.63m\n",
      "         9       71565.2848           9.3862          113.52m\n",
      "        10       70947.6604           9.3162          113.46m\n",
      "        20       71507.7809           6.8999          112.76m\n",
      "        30       70220.1291           5.2495          111.71m\n",
      "        40       70448.0568           3.9264          110.87m\n",
      "        50       70450.9198           4.4015          110.05m\n",
      "        60       70324.6009           3.5187          109.21m\n",
      "        70       70330.8025           2.4219          108.42m\n",
      "        80       69800.0062           3.5856          107.61m\n",
      "        90       70283.6272           1.8595          106.82m\n",
      "       100       70342.1875           1.2907          106.04m\n",
      "       200       69374.9654           0.6231           98.39m\n",
      "       300       69101.5338           0.8092           90.84m\n",
      "       400       68855.2906          -0.0946           83.44m\n",
      "       500       68396.3738          -0.0043           75.98m\n",
      "       600       67877.9681           0.3028           68.48m\n",
      "       700       68993.3902          -0.2345           60.95m\n",
      "       800       68111.9431          -0.0683           53.34m\n",
      "       900       67852.8571          -0.0709           45.73m\n",
      "      1000       68115.4281          -0.0555           38.13m\n"
     ]
    },
    {
     "data": {
      "text/plain": [
       "GradientBoostingSurvivalAnalysis(learning_rate=0.05, n_estimators=1500,\n",
       "                                 random_state=42, subsample=0.75, verbose=1)"
      ]
     },
     "execution_count": 32,
     "metadata": {},
     "output_type": "execute_result"
    }
   ],
   "source": [
    "sub_train_xt = preprocessor.fit_transform(sub_train_x)\n",
    "val_xt = preprocessor.transform(val_x)\n",
    "\n",
    "gbm_exp = GradientBoostingSurvivalAnalysis(n_estimators = 1500,\n",
    "                                           learning_rate = 0.05,\n",
    "                                           max_depth = 3,\n",
    "                                           subsample = 0.75,\n",
    "                                           verbose = 1,\n",
    "                                           random_state = 42)\n",
    "\n",
    "gbm_exp.fit(sub_train_xt, sub_train_y)"
   ]
  },
  {
   "cell_type": "code",
   "execution_count": 33,
   "id": "0aaddcac",
   "metadata": {},
   "outputs": [],
   "source": [
    "gbm_staged_auc = [cumulative_dynamic_auc(sub_train_y, val_y, risk_score, 730)[0][0] \n",
    "                  for risk_score in gbm_exp.staged_predict(val_xt)]"
   ]
  },
  {
   "cell_type": "code",
   "execution_count": 34,
   "id": "7099d3c6",
   "metadata": {},
   "outputs": [],
   "source": [
    "gbm_staged_auc_tr = [cumulative_dynamic_auc(sub_train_y, sub_train_y, risk_score, 730)[0][0] \n",
    "                     for risk_score in gbm_exp.staged_predict(sub_train_xt)]"
   ]
  },
  {
   "cell_type": "code",
   "execution_count": 35,
   "id": "02109136",
   "metadata": {},
   "outputs": [
    {
     "data": {
      "image/png": "[encoded data removed]",
      "text/plain": [
       "<Figure size 640x480 with 1 Axes>"
      ]
     },
     "metadata": {},
     "output_type": "display_data"
    }
   ],
   "source": [
    "fig = plt.figure()\n",
    "ax = fig.add_subplot(1, 1, 1)\n",
    "\n",
    "x = range(len(gbm_staged_auc))\n",
    "plt.plot(x, gbm_staged_auc, color = 'blue', label = 'validation')\n",
    "plt.plot(x, gbm_staged_auc_tr, color = 'red', label = 'training')\n",
    "plt.legend(loc = 'lower right')\n",
    "\n",
    "plt.xlabel(\"n_estimators\")\n",
    "plt.ylabel(\"AUC at 2-years\")\n",
    "plt.title('Full gradient boosting model learning curve with learning rate of 0.05')\n",
    "\n",
    "plt.show()"
   ]
  },
  {
   "cell_type": "code",
   "execution_count": 36,
   "id": "2c390167",
   "metadata": {},
   "outputs": [],
   "source": [
    "# Average AUC for every 25 additional trees. \n",
    "mean_auc_list = []\n",
    "for x in np.arange(0, len(gbm_staged_auc), 25):\n",
    "    mean_auc_list.append(np.mean(gbm_staged_auc[x:x+24]))"
   ]
  },
  {
   "cell_type": "code",
   "execution_count": 37,
   "id": "591f8bec",
   "metadata": {},
   "outputs": [
    {
     "name": "stdout",
     "output_type": "stream",
     "text": [
      "Number of trees where 2 year AUC on validation dataset beings to downgrade: 675\n",
      "Validation dataset AUC before degrading: 0.8123731226562587\n",
      "Training dataset AUC before degrading: 0.8322612241735312\n"
     ]
    }
   ],
   "source": [
    "print('Number of trees where 2 year AUC on validation dataset beings to downgrade:', np.where(np.diff(mean_auc_list) < 0)[0][0]*25)\n",
    "print('Validation dataset AUC before degrading:', gbm_staged_auc[np.where(np.diff(mean_auc_list) < 0)[0][0]*25])\n",
    "print('Training dataset AUC before degrading:', gbm_staged_auc_tr[np.where(np.diff(mean_auc_list) < 0)[0][0]*25])"
   ]
  },
  {
   "cell_type": "markdown",
   "id": "8af66f5f",
   "metadata": {},
   "source": [
    "### 2.2 Determining number of trees for sparse model "
   ]
  },
  {
   "cell_type": "markdown",
   "id": "f52f3aa5",
   "metadata": {},
   "source": [
    "**The sparse model includes a subset of the summary lab values that are considered clinically relevant. Performance will be compared to the full model.**"
   ]
  },
  {
   "cell_type": "code",
   "execution_count": 38,
   "id": "02ee8e8c",
   "metadata": {},
   "outputs": [],
   "source": [
    "all_labs = [\n",
    "    'albumin_diag',\n",
    "    'alp_diag',\n",
    "    'alt_diag',\n",
    "    'ast_diag',\n",
    "    'bicarb_diag',\n",
    "    'bun_diag',\n",
    "    'calcium_diag',\n",
    "    'chloride_diag',\n",
    "    'creatinine_diag',\n",
    "    'hemoglobin_diag',\n",
    "    'neutrophil_count_diag',\n",
    "    'platelet_diag',\n",
    "    'potassium_diag',\n",
    "    'sodium_diag',\n",
    "    'total_bilirubin_diag',\n",
    "    'wbc_diag',\n",
    "    'albumin_diag_na',\n",
    "    'alp_diag_na',\n",
    "    'alt_diag_na',\n",
    "    'ast_diag_na',\n",
    "    'bicarb_diag_na',\n",
    "    'bun_diag_na',\n",
    "    'calcium_diag_na',\n",
    "    'chloride_diag_na',\n",
    "    'creatinine_diag_na',\n",
    "    'hemoglobin_diag_na',\n",
    "    'neutrophil_count_diag_na',\n",
    "    'platelet_diag_na',\n",
    "    'potassium_diag_na',\n",
    "    'sodium_diag_na',\n",
    "    'total_bilirubin_diag_na',\n",
    "    'wbc_diag_na',\n",
    "    'albumin_avg',\n",
    "    'alp_avg',\n",
    "    'alt_avg',\n",
    "    'ast_avg',\n",
    "    'bicarb_avg',\n",
    "    'bun_avg',\n",
    "    'calcium_avg',\n",
    "    'chloride_avg',\n",
    "    'creatinine_avg',\n",
    "    'hemoglobin_avg',\n",
    "    'neutrophil_count_avg',\n",
    "    'platelet_avg',\n",
    "    'potassium_avg',\n",
    "    'sodium_avg',\n",
    "    'total_bilirubin_avg',\n",
    "    'wbc_avg',\n",
    "    'albumin_max',\n",
    "    'alp_max',\n",
    "    'alt_max',\n",
    "    'ast_max',\n",
    "    'bicarb_max',\n",
    "    'bun_max',\n",
    "    'calcium_max',\n",
    "    'chloride_max',\n",
    "    'creatinine_max',\n",
    "    'hemoglobin_max',\n",
    "    'neutrophil_count_max',\n",
    "    'platelet_max',\n",
    "    'potassium_max',\n",
    "    'sodium_max',\n",
    "    'total_bilirubin_max',\n",
    "    'wbc_max',\n",
    "    'albumin_min',\n",
    "    'alp_min',\n",
    "    'alt_min',\n",
    "    'ast_min',\n",
    "    'bicarb_min',\n",
    "    'bun_min',\n",
    "    'calcium_min',\n",
    "    'chloride_min',\n",
    "    'creatinine_min',\n",
    "    'hemoglobin_min',\n",
    "    'neutrophil_count_min',\n",
    "    'platelet_min',\n",
    "    'potassium_min',\n",
    "    'sodium_min',\n",
    "    'total_bilirubin_min',\n",
    "    'wbc_min',\n",
    "    'albumin_std',\n",
    "    'alp_std',\n",
    "    'alt_std',\n",
    "    'ast_std',\n",
    "    'bicarb_std',\n",
    "    'bun_std',\n",
    "    'calcium_std',\n",
    "    'chloride_std',\n",
    "    'creatinine_std',\n",
    "    'hemoglobin_std',\n",
    "    'neutrophil_count_std',\n",
    "    'platelet_std',\n",
    "    'potassium_std',\n",
    "    'sodium_std',\n",
    "    'total_bilirubin_std',\n",
    "    'wbc_std',\n",
    "    'albumin_slope',\n",
    "    'alp_slope',\n",
    "    'alt_slope',\n",
    "    'ast_slope',\n",
    "    'bicarb_slope',\n",
    "    'bun_slope',\n",
    "    'calcium_slope',\n",
    "    'chloride_slope',\n",
    "    'creatinine_slope',\n",
    "    'hemoglobin_slope',\n",
    "    'neutrophil_count_slope',\n",
    "    'platelet_slope',\n",
    "    'potassium_slope',\n",
    "    'sodium_slope',\n",
    "    'total_bilirubin_slope',\n",
    "    'wbc_slope',\n",
    "    'albumin_slope_na',\n",
    "    'alp_slope_na',\n",
    "    'alt_slope_na',\n",
    "    'ast_slope_na',\n",
    "    'bicarb_slope_na',\n",
    "    'bun_slope_na',\n",
    "    'calcium_slope_na',\n",
    "    'chloride_slope_na',\n",
    "    'creatinine_slope_na',\n",
    "    'hemoglobin_slope_na',\n",
    "    'neutrophil_count_slope_na',\n",
    "    'platelet_slope_na',\n",
    "    'potassium_slope_na',\n",
    "    'sodium_slope_na',\n",
    "    'total_bilirubin_slope_na',\n",
    "    'wbc_slope_na']"
   ]
  },
  {
   "cell_type": "code",
   "execution_count": 39,
   "id": "cec980fe",
   "metadata": {},
   "outputs": [],
   "source": [
    "keep_labs = [\n",
    "    'albumin_diag',\n",
    "    'alp_diag',\n",
    "    'alt_diag',\n",
    "    'ast_diag',\n",
    "    'bicarb_diag',\n",
    "    'bun_diag',\n",
    "    'calcium_diag',\n",
    "    'chloride_diag',\n",
    "    'creatinine_diag',\n",
    "    'hemoglobin_diag',\n",
    "    'neutrophil_count_diag',\n",
    "    'platelet_diag',\n",
    "    'potassium_diag',\n",
    "    'sodium_diag',\n",
    "    'total_bilirubin_diag',\n",
    "    'wbc_diag',\n",
    "    'albumin_diag_na',\n",
    "    'alp_diag_na',\n",
    "    'alt_diag_na',\n",
    "    'ast_diag_na',\n",
    "    'bicarb_diag_na',\n",
    "    'bun_diag_na',\n",
    "    'calcium_diag_na',\n",
    "    'chloride_diag_na',\n",
    "    'creatinine_diag_na',\n",
    "    'hemoglobin_diag_na',\n",
    "    'neutrophil_count_diag_na',\n",
    "    'platelet_diag_na',\n",
    "    'potassium_diag_na',\n",
    "    'sodium_diag_na',\n",
    "    'total_bilirubin_diag_na',\n",
    "    'wbc_diag_na',\n",
    "    'alp_max',\n",
    "    'alt_max',\n",
    "    'ast_max',\n",
    "    'calcium_max',\n",
    "    'creatinine_max',\n",
    "    'total_bilirubin_max',\n",
    "    'wbc_max',\n",
    "    'albumin_min',\n",
    "    'bicarb_min',\n",
    "    'hemoglobin_min',\n",
    "    'platelet_min',\n",
    "    'sodium_min',\n",
    "    'wbc_min']"
   ]
  },
  {
   "cell_type": "code",
   "execution_count": 40,
   "id": "df610cd5",
   "metadata": {},
   "outputs": [],
   "source": [
    "drop_labs = [\n",
    "    'albumin_avg',\n",
    "    'alp_avg',\n",
    "    'alt_avg',\n",
    "    'ast_avg',\n",
    "    'bicarb_avg',\n",
    "    'bun_avg',\n",
    "    'calcium_avg',\n",
    "    'chloride_avg',\n",
    "    'creatinine_avg',\n",
    "    'hemoglobin_avg',\n",
    "    'neutrophil_count_avg',\n",
    "    'platelet_avg',\n",
    "    'potassium_avg',\n",
    "    'sodium_avg',\n",
    "    'total_bilirubin_avg',\n",
    "    'wbc_avg',\n",
    "    'albumin_max',\n",
    "    'bicarb_max',\n",
    "    'bun_max',\n",
    "    'chloride_max',\n",
    "    'hemoglobin_max',\n",
    "    'neutrophil_count_max',\n",
    "    'platelet_max',\n",
    "    'potassium_max',\n",
    "    'sodium_max',\n",
    "    'alp_min',\n",
    "    'alt_min',\n",
    "    'ast_min',\n",
    "    'bun_min',\n",
    "    'calcium_min',\n",
    "    'chloride_min',\n",
    "    'creatinine_min',\n",
    "    'neutrophil_count_min',\n",
    "    'potassium_min',\n",
    "    'total_bilirubin_min',\n",
    "    'albumin_std',\n",
    "    'alp_std',\n",
    "    'alt_std',\n",
    "    'ast_std',\n",
    "    'bicarb_std',\n",
    "    'bun_std',\n",
    "    'calcium_std',\n",
    "    'chloride_std',\n",
    "    'creatinine_std',\n",
    "    'hemoglobin_std',\n",
    "    'neutrophil_count_std',\n",
    "    'platelet_std',\n",
    "    'potassium_std',\n",
    "    'sodium_std',\n",
    "    'total_bilirubin_std',\n",
    "    'wbc_std',\n",
    "    'albumin_slope',\n",
    "    'alp_slope',\n",
    "    'alt_slope',\n",
    "    'ast_slope',\n",
    "    'bicarb_slope',\n",
    "    'bun_slope',\n",
    "    'calcium_slope',\n",
    "    'chloride_slope',\n",
    "    'creatinine_slope',\n",
    "    'hemoglobin_slope',\n",
    "    'neutrophil_count_slope',\n",
    "    'platelet_slope',\n",
    "    'potassium_slope',\n",
    "    'sodium_slope',\n",
    "    'total_bilirubin_slope',\n",
    "    'wbc_slope',\n",
    "    'albumin_slope_na',\n",
    "    'alp_slope_na',\n",
    "    'alt_slope_na',\n",
    "    'ast_slope_na',\n",
    "    'bicarb_slope_na',\n",
    "    'bun_slope_na',\n",
    "    'calcium_slope_na',\n",
    "    'chloride_slope_na',\n",
    "    'creatinine_slope_na',\n",
    "    'hemoglobin_slope_na',\n",
    "    'neutrophil_count_slope_na',\n",
    "    'platelet_slope_na',\n",
    "    'potassium_slope_na',\n",
    "    'sodium_slope_na',\n",
    "    'total_bilirubin_slope_na',\n",
    "    'wbc_slope_na']"
   ]
  },
  {
   "cell_type": "code",
   "execution_count": 41,
   "id": "f424d70b",
   "metadata": {},
   "outputs": [
    {
     "data": {
      "text/plain": [
       "True"
      ]
     },
     "execution_count": 41,
     "metadata": {},
     "output_type": "execute_result"
    }
   ],
   "source": [
    "len(keep_labs) + len(drop_labs) == len(all_labs)"
   ]
  },
  {
   "cell_type": "code",
   "execution_count": 42,
   "id": "e89c5f22",
   "metadata": {},
   "outputs": [],
   "source": [
    "sub_train_x_red = sub_train_x.drop(columns = drop_labs)\n",
    "val_x_red = val_x.drop(columns = drop_labs)"
   ]
  },
  {
   "cell_type": "code",
   "execution_count": 43,
   "id": "1763d0d1",
   "metadata": {},
   "outputs": [
    {
     "name": "stdout",
     "output_type": "stream",
     "text": [
      "(19005, 202)\n",
      "(19005, 119)\n",
      "(6336, 202)\n",
      "(6336, 119)\n"
     ]
    }
   ],
   "source": [
    "print(sub_train_x.shape)\n",
    "print(sub_train_x_red.shape)\n",
    "print(val_x.shape)\n",
    "print(val_x_red.shape)"
   ]
  },
  {
   "cell_type": "code",
   "execution_count": 44,
   "id": "770f93fd",
   "metadata": {},
   "outputs": [],
   "source": [
    "sub_train_x_red.loc[:, 'alp_max_na'] = np.where(sub_train_x_red['alp_max'].isna(), 1, 0)\n",
    "sub_train_x_red.loc[:, 'alt_max_na'] = np.where(sub_train_x_red['alt_max'].isna(), 1, 0)\n",
    "sub_train_x_red.loc[:, 'ast_max_na'] = np.where(sub_train_x_red['ast_max'].isna(), 1, 0)\n",
    "sub_train_x_red.loc[:, 'calcium_max_na'] = np.where(sub_train_x_red['calcium_max'].isna(), 1, 0)\n",
    "sub_train_x_red.loc[:, 'creatinine_max_na'] = np.where(sub_train_x_red['creatinine_max'].isna(), 1, 0)\n",
    "sub_train_x_red.loc[:, 'total_bilirubin_max_na'] = np.where(sub_train_x_red['total_bilirubin_max'].isna(), 1, 0)\n",
    "sub_train_x_red.loc[:, 'wbc_max_na'] = np.where(sub_train_x_red['wbc_max'].isna(), 1, 0)\n",
    "sub_train_x_red.loc[:, 'albumin_min_na'] = np.where(sub_train_x_red['albumin_min'].isna(), 1, 0)\n",
    "sub_train_x_red.loc[:, 'bicarb_min_na'] = np.where(sub_train_x_red['bicarb_min'].isna(), 1, 0)\n",
    "sub_train_x_red.loc[:, 'hemoglobin_min_na'] = np.where(sub_train_x_red['hemoglobin_min'].isna(), 1, 0)\n",
    "sub_train_x_red.loc[:, 'platelet_min_na'] = np.where(sub_train_x_red['platelet_min'].isna(), 1, 0)\n",
    "sub_train_x_red.loc[:, 'sodium_min_na'] = np.where(sub_train_x_red['sodium_min'].isna(), 1, 0)\n",
    "sub_train_x_red.loc[:, 'wbc_min_na'] = np.where(sub_train_x_red['wbc_min'].isna(), 1, 0)"
   ]
  },
  {
   "cell_type": "code",
   "execution_count": 45,
   "id": "0d4515a4",
   "metadata": {},
   "outputs": [],
   "source": [
    "val_x_red.loc[:, 'alp_max_na'] = np.where(val_x_red['alp_max'].isna(), 1, 0)\n",
    "val_x_red.loc[:, 'alt_max_na'] = np.where(val_x_red['alt_max'].isna(), 1, 0)\n",
    "val_x_red.loc[:, 'ast_max_na'] = np.where(val_x_red['ast_max'].isna(), 1, 0)\n",
    "val_x_red.loc[:, 'calcium_max_na'] = np.where(val_x_red['calcium_max'].isna(), 1, 0)\n",
    "val_x_red.loc[:, 'creatinine_max_na'] = np.where(val_x_red['creatinine_max'].isna(), 1, 0)\n",
    "val_x_red.loc[:, 'total_bilirubin_max_na'] = np.where(val_x_red['total_bilirubin_max'].isna(), 1, 0)\n",
    "val_x_red.loc[:, 'wbc_max_na'] = np.where(val_x_red['wbc_max'].isna(), 1, 0)\n",
    "val_x_red.loc[:, 'albumin_min_na'] = np.where(val_x_red['albumin_min'].isna(), 1, 0)\n",
    "val_x_red.loc[:, 'bicarb_min_na'] = np.where(val_x_red['bicarb_min'].isna(), 1, 0)\n",
    "val_x_red.loc[:, 'hemoglobin_min_na'] = np.where(val_x_red['hemoglobin_min'].isna(), 1, 0)\n",
    "val_x_red.loc[:, 'platelet_min_na'] = np.where(val_x_red['platelet_min'].isna(), 1, 0)\n",
    "val_x_red.loc[:, 'sodium_min_na'] = np.where(val_x_red['sodium_min'].isna(), 1, 0)\n",
    "val_x_red.loc[:, 'wbc_min_na'] = np.where(val_x_red['wbc_min'].isna(), 1, 0)"
   ]
  },
  {
   "cell_type": "code",
   "execution_count": 46,
   "id": "3f698fa3",
   "metadata": {},
   "outputs": [],
   "source": [
    "# List of numeric variables, excluding binary variables. \n",
    "numerical_features_red = [\n",
    "    'age',\n",
    "    'delta_met_diagnosis',\n",
    "    'weight_diag',\n",
    "    'bmi_diag',\n",
    "    'weight_pct_change',\n",
    "    'weight_slope',\n",
    "    'albumin_diag',\n",
    "    'alp_diag',\n",
    "    'alt_diag',\n",
    "    'ast_diag',\n",
    "    'bicarb_diag',\n",
    "    'bun_diag',\n",
    "    'calcium_diag',\n",
    "    'chloride_diag',\n",
    "    'creatinine_diag',\n",
    "    'hemoglobin_diag',\n",
    "    'neutrophil_count_diag',\n",
    "    'platelet_diag',\n",
    "    'potassium_diag',\n",
    "    'sodium_diag',\n",
    "    'total_bilirubin_diag',\n",
    "    'wbc_diag',\n",
    "    'alp_max',\n",
    "    'alt_max',\n",
    "    'ast_max',\n",
    "    'calcium_max',\n",
    "    'creatinine_max',\n",
    "    'total_bilirubin_max',\n",
    "    'wbc_max',\n",
    "    'albumin_min',\n",
    "    'bicarb_min',\n",
    "    'hemoglobin_min',\n",
    "    'platelet_min',\n",
    "    'sodium_min',\n",
    "    'wbc_min',\n",
    "    'icd_count']\n",
    "\n",
    "# Transformer will impute column medians and then apply a standard scaler. \n",
    "numerical_transformer = Pipeline(steps = [\n",
    "    ('imputer', SimpleImputer(strategy = 'median')),\n",
    "    ('std_scaler', StandardScaler())])"
   ]
  },
  {
   "cell_type": "code",
   "execution_count": 47,
   "id": "f07bdd24",
   "metadata": {},
   "outputs": [],
   "source": [
    "preprocessor_red = ColumnTransformer(\n",
    "    transformers = [\n",
    "        ('num', numerical_transformer, numerical_features_red),\n",
    "        ('cat', categorical_transformer, categorical_features)],\n",
    "    remainder = 'passthrough')"
   ]
  },
  {
   "cell_type": "code",
   "execution_count": 48,
   "id": "2125c279",
   "metadata": {},
   "outputs": [
    {
     "name": "stdout",
     "output_type": "stream",
     "text": [
      "(19005, 132)\n",
      "(19005,)\n",
      "(6336, 132)\n",
      "(6336,)\n"
     ]
    }
   ],
   "source": [
    "print(sub_train_x_red.shape)\n",
    "print(sub_train_y.shape)\n",
    "print(val_x_red.shape)\n",
    "print(val_y.shape)"
   ]
  },
  {
   "cell_type": "code",
   "execution_count": 49,
   "id": "baa295e6",
   "metadata": {},
   "outputs": [
    {
     "name": "stdout",
     "output_type": "stream",
     "text": [
      "      Iter       Train Loss      OOB Improve   Remaining Time \n",
      "         1       71340.2219          13.4304          112.22m\n",
      "         2       71619.9946          12.2285          112.19m\n",
      "         3       71401.3264          11.8568          112.30m\n",
      "         4       71568.5132          12.4233          112.15m\n",
      "         5       72094.1388          10.8574          112.08m\n",
      "         6       71545.1561          10.5671          111.98m\n",
      "         7       71643.8300          10.5446          111.86m\n",
      "         8       71104.6704           9.8361          111.78m\n",
      "         9       71565.3182           9.3812          111.67m\n",
      "        10       70947.7885           9.3295          111.57m\n",
      "        20       71507.1367           6.7213          110.69m\n",
      "        30       70222.3700           5.1204          109.87m\n",
      "        40       70446.5644           3.9815          109.07m\n",
      "        50       70460.0556           4.3337          108.33m\n",
      "        60       70344.5267           3.6425          107.56m\n",
      "        70       70352.5056           2.2959          106.80m\n",
      "        80       69826.3322           3.5101          106.02m\n",
      "        90       70314.5409           1.9155          105.26m\n",
      "       100       70355.9506           1.4471          104.52m\n",
      "       200       69430.8909           0.6385           97.00m\n",
      "       300       69182.5351           0.7195           89.51m\n",
      "       400       68945.6415          -0.0329           81.98m\n",
      "       500       68497.1556          -0.0145           74.42m\n",
      "       600       67993.0590           0.2399           66.90m\n",
      "       700       69120.5418           0.0740           59.49m\n",
      "       800       68258.9224          -0.1722           52.09m\n",
      "       900       67987.9968           0.1072           44.66m\n",
      "      1000       68276.2433           0.0083           37.22m\n"
     ]
    },
    {
     "data": {
      "text/plain": [
       "GradientBoostingSurvivalAnalysis(learning_rate=0.05, n_estimators=1500,\n",
       "                                 random_state=42, subsample=0.75, verbose=1)"
      ]
     },
     "execution_count": 49,
     "metadata": {},
     "output_type": "execute_result"
    }
   ],
   "source": [
    "sub_train_xt_red = preprocessor_red.fit_transform(sub_train_x_red)\n",
    "val_xt_red = preprocessor_red.transform(val_x_red)\n",
    "\n",
    "gbm_exp2 = GradientBoostingSurvivalAnalysis(n_estimators = 1500,\n",
    "                                           learning_rate = 0.05,\n",
    "                                           max_depth = 3,\n",
    "                                           subsample = 0.75,\n",
    "                                           verbose = 1,\n",
    "                                           random_state = 42)\n",
    "\n",
    "gbm_exp2.fit(sub_train_xt_red, sub_train_y)"
   ]
  },
  {
   "cell_type": "code",
   "execution_count": 50,
   "id": "55ba521b",
   "metadata": {},
   "outputs": [],
   "source": [
    "gbm2_staged_auc = [cumulative_dynamic_auc(sub_train_y, val_y, risk_score, 730)[0][0] for \n",
    "                   risk_score in gbm_exp2.staged_predict(val_xt_red)]"
   ]
  },
  {
   "cell_type": "code",
   "execution_count": 51,
   "id": "913e6c8d",
   "metadata": {},
   "outputs": [],
   "source": [
    "gbm2_staged_auc_tr = [cumulative_dynamic_auc(sub_train_y, sub_train_y, risk_score, 730)[0][0] for \n",
    "                      risk_score in gbm_exp2.staged_predict(sub_train_xt_red)]"
   ]
  },
  {
   "cell_type": "code",
   "execution_count": 52,
   "id": "5d0a2b26",
   "metadata": {},
   "outputs": [
    {
     "data": {
      "image/png": "[encoded data removed]",
      "text/plain": [
       "<Figure size 640x480 with 1 Axes>"
      ]
     },
     "metadata": {},
     "output_type": "display_data"
    }
   ],
   "source": [
    "fig = plt.figure()\n",
    "ax = fig.add_subplot(1, 1, 1)\n",
    "\n",
    "x = range(len(gbm2_staged_auc))\n",
    "plt.plot(x, gbm2_staged_auc, color = 'blue', label = 'validation')\n",
    "plt.plot(x, gbm2_staged_auc_tr, color = 'red', label = 'training')\n",
    "plt.legend(loc = 'lower right')\n",
    "\n",
    "plt.xlabel(\"n_estimators\")\n",
    "plt.ylabel(\"AUC at 2-years\")\n",
    "plt.title('Gradient boosting model learning curve for sparse dataset')\n",
    "\n",
    "plt.show()"
   ]
  },
  {
   "cell_type": "code",
   "execution_count": 53,
   "id": "508971e1",
   "metadata": {},
   "outputs": [],
   "source": [
    "# Average AUC for every 25 additional trees. \n",
    "mean2_auc_list = []\n",
    "for x in np.arange(0, len(gbm2_staged_auc), 25):\n",
    "    mean2_auc_list.append(np.mean(gbm2_staged_auc[x:x+24]))"
   ]
  },
  {
   "cell_type": "code",
   "execution_count": 54,
   "id": "90e778ec",
   "metadata": {},
   "outputs": [
    {
     "name": "stdout",
     "output_type": "stream",
     "text": [
      "Number of trees where 2 year AUC on validation dataset beings to downgrade: 900\n",
      "Validation dataset AUC before degrading: 0.8137414509652017\n",
      "Training dataset AUC before degrading: 0.8347363518923805\n"
     ]
    }
   ],
   "source": [
    "print('Number of trees where 2 year AUC on validation dataset beings to downgrade:', np.where(np.diff(mean2_auc_list) < 0)[0][0]*25)\n",
    "print('Validation dataset AUC before degrading:', gbm2_staged_auc[np.where(np.diff(mean2_auc_list) < 0)[0][0]*25])\n",
    "print('Training dataset AUC before degrading:', gbm2_staged_auc_tr[np.where(np.diff(mean2_auc_list) < 0)[0][0]*25])"
   ]
  },
  {
   "cell_type": "markdown",
   "id": "bf4b39a1",
   "metadata": {},
   "source": [
    "**Performance of the sparse model appears about equivalent to the full model in regards to discriminatory performance on the validation set. The advantages of using the sparse model include less risk of overfitting of training set, faster computational speed, and improved interpretability of feature importance. In addition, there might be improved imputations of missing values with MICE. For these reasons, we'll plan to proceed with the sparse model.**"
   ]
  },
  {
   "cell_type": "markdown",
   "id": "78f14c78",
   "metadata": {},
   "source": [
    "### 2.3 Further tuning of tree hyperparameters"
   ]
  },
  {
   "cell_type": "markdown",
   "id": "594e180e",
   "metadata": {},
   "source": [
    "**Tree depth and subsample will be tuned using a halving grid search with 3-fold cross validation. The other main tree hyperparameter is the minimum sample size in a terminal node (ie., leaf), but since we're using short trees it's unlikely to have significant impact on performance and so we'll omit from the parameter search to save computing time.** \n",
    "\n",
    "**Performing a traditional cartesian grid search for gradient boosting model tree hyperparameters is computationally challengng. A halving grid search approach is selected instead since it is much faster. The major drawback of the halving grid search is that good configurations that are slow to converge at the beginning will be pruned prematurely so you can’t be entirely ensure that you’ve identified the best hyperparameters.**  "
   ]
  },
  {
   "cell_type": "code",
   "execution_count": 55,
   "id": "f04d74e5",
   "metadata": {},
   "outputs": [],
   "source": [
    "train_x_red = train_x.drop(columns = drop_labs)"
   ]
  },
  {
   "cell_type": "code",
   "execution_count": 56,
   "id": "fc5e1886",
   "metadata": {},
   "outputs": [],
   "source": [
    "train_x_red.loc[:, 'alp_max_na'] = np.where(train_x_red['alp_max'].isna(), 1, 0)\n",
    "train_x_red.loc[:, 'alt_max_na'] = np.where(train_x_red['alt_max'].isna(), 1, 0)\n",
    "train_x_red.loc[:, 'ast_max_na'] = np.where(train_x_red['ast_max'].isna(), 1, 0)\n",
    "train_x_red.loc[:, 'calcium_max_na'] = np.where(train_x_red['calcium_max'].isna(), 1, 0)\n",
    "train_x_red.loc[:, 'creatinine_max_na'] = np.where(train_x_red['creatinine_max'].isna(), 1, 0)\n",
    "train_x_red.loc[:, 'total_bilirubin_max_na'] = np.where(train_x_red['total_bilirubin_max'].isna(), 1, 0)\n",
    "train_x_red.loc[:, 'wbc_max_na'] = np.where(train_x_red['wbc_max'].isna(), 1, 0)\n",
    "train_x_red.loc[:, 'albumin_min_na'] = np.where(train_x_red['albumin_min'].isna(), 1, 0)\n",
    "train_x_red.loc[:, 'bicarb_min_na'] = np.where(train_x_red['bicarb_min'].isna(), 1, 0)\n",
    "train_x_red.loc[:, 'hemoglobin_min_na'] = np.where(train_x_red['hemoglobin_min'].isna(), 1, 0)\n",
    "train_x_red.loc[:, 'platelet_min_na'] = np.where(train_x_red['platelet_min'].isna(), 1, 0)\n",
    "train_x_red.loc[:, 'sodium_min_na'] = np.where(train_x_red['sodium_min'].isna(), 1, 0)\n",
    "train_x_red.loc[:, 'wbc_min_na'] = np.where(train_x_red['wbc_min'].isna(), 1, 0)"
   ]
  },
  {
   "cell_type": "code",
   "execution_count": 57,
   "id": "01247ed4",
   "metadata": {},
   "outputs": [
    {
     "data": {
      "text/plain": [
       "(25341, 132)"
      ]
     },
     "execution_count": 57,
     "metadata": {},
     "output_type": "execute_result"
    }
   ],
   "source": [
    "train_x_red.shape"
   ]
  },
  {
   "cell_type": "code",
   "execution_count": 58,
   "id": "87ec2cfe",
   "metadata": {},
   "outputs": [
    {
     "data": {
      "text/plain": [
       "['estimator',\n",
       " 'estimator__columntransformer',\n",
       " 'estimator__columntransformer__cat',\n",
       " 'estimator__columntransformer__cat__categories',\n",
       " 'estimator__columntransformer__cat__drop',\n",
       " 'estimator__columntransformer__cat__dtype',\n",
       " 'estimator__columntransformer__cat__handle_unknown',\n",
       " 'estimator__columntransformer__cat__sparse',\n",
       " 'estimator__columntransformer__n_jobs',\n",
       " 'estimator__columntransformer__num',\n",
       " 'estimator__columntransformer__num__imputer',\n",
       " 'estimator__columntransformer__num__imputer__add_indicator',\n",
       " 'estimator__columntransformer__num__imputer__copy',\n",
       " 'estimator__columntransformer__num__imputer__fill_value',\n",
       " 'estimator__columntransformer__num__imputer__missing_values',\n",
       " 'estimator__columntransformer__num__imputer__strategy',\n",
       " 'estimator__columntransformer__num__imputer__verbose',\n",
       " 'estimator__columntransformer__num__memory',\n",
       " 'estimator__columntransformer__num__std_scaler',\n",
       " 'estimator__columntransformer__num__std_scaler__copy',\n",
       " 'estimator__columntransformer__num__std_scaler__with_mean',\n",
       " 'estimator__columntransformer__num__std_scaler__with_std',\n",
       " 'estimator__columntransformer__num__steps',\n",
       " 'estimator__columntransformer__num__verbose',\n",
       " 'estimator__columntransformer__remainder',\n",
       " 'estimator__columntransformer__sparse_threshold',\n",
       " 'estimator__columntransformer__transformer_weights',\n",
       " 'estimator__columntransformer__transformers',\n",
       " 'estimator__columntransformer__verbose',\n",
       " 'estimator__columntransformer__verbose_feature_names_out',\n",
       " 'estimator__gradientboostingsurvivalanalysis',\n",
       " 'estimator__gradientboostingsurvivalanalysis__ccp_alpha',\n",
       " 'estimator__gradientboostingsurvivalanalysis__criterion',\n",
       " 'estimator__gradientboostingsurvivalanalysis__dropout_rate',\n",
       " 'estimator__gradientboostingsurvivalanalysis__learning_rate',\n",
       " 'estimator__gradientboostingsurvivalanalysis__loss',\n",
       " 'estimator__gradientboostingsurvivalanalysis__max_depth',\n",
       " 'estimator__gradientboostingsurvivalanalysis__max_features',\n",
       " 'estimator__gradientboostingsurvivalanalysis__max_leaf_nodes',\n",
       " 'estimator__gradientboostingsurvivalanalysis__min_impurity_decrease',\n",
       " 'estimator__gradientboostingsurvivalanalysis__min_samples_leaf',\n",
       " 'estimator__gradientboostingsurvivalanalysis__min_samples_split',\n",
       " 'estimator__gradientboostingsurvivalanalysis__min_weight_fraction_leaf',\n",
       " 'estimator__gradientboostingsurvivalanalysis__n_estimators',\n",
       " 'estimator__gradientboostingsurvivalanalysis__random_state',\n",
       " 'estimator__gradientboostingsurvivalanalysis__subsample',\n",
       " 'estimator__gradientboostingsurvivalanalysis__verbose',\n",
       " 'estimator__memory',\n",
       " 'estimator__steps',\n",
       " 'estimator__verbose',\n",
       " 'tied_tol',\n",
       " 'times']"
      ]
     },
     "execution_count": 58,
     "metadata": {},
     "output_type": "execute_result"
    }
   ],
   "source": [
    "# Find all pipe item unique keys \n",
    "pipe = make_pipeline(preprocessor_red, GradientBoostingSurvivalAnalysis(n_estimators = 900,\n",
    "                                                                        learning_rate = 0.05,\n",
    "                                                                        random_state = 42))\n",
    "\n",
    "estimator = as_cumulative_dynamic_auc_scorer(pipe, times = [730])\n",
    "\n",
    "sorted(estimator.get_params().keys())"
   ]
  },
  {
   "cell_type": "code",
   "execution_count": 59,
   "id": "20d0a2c5",
   "metadata": {},
   "outputs": [
    {
     "name": "stdout",
     "output_type": "stream",
     "text": [
      "n_iterations: 4\n",
      "n_required_iterations: 4\n",
      "n_possible_iterations: 4\n",
      "min_resources_: 3167\n",
      "max_resources_: 25341\n",
      "aggressive_elimination: False\n",
      "factor: 2\n",
      "----------\n",
      "iter: 0\n",
      "n_candidates: 9\n",
      "n_resources: 3167\n",
      "Fitting 3 folds for each of 9 candidates, totalling 27 fits\n",
      "----------\n",
      "iter: 1\n",
      "n_candidates: 5\n",
      "n_resources: 6334\n",
      "Fitting 3 folds for each of 5 candidates, totalling 15 fits\n",
      "----------\n",
      "iter: 2\n",
      "n_candidates: 3\n",
      "n_resources: 12668\n",
      "Fitting 3 folds for each of 3 candidates, totalling 9 fits\n",
      "----------\n",
      "iter: 3\n",
      "n_candidates: 2\n",
      "n_resources: 25336\n",
      "Fitting 3 folds for each of 2 candidates, totalling 6 fits\n"
     ]
    },
    {
     "data": {
      "text/plain": [
       "HalvingGridSearchCV(cv=StratifiedKFold(n_splits=3, random_state=42, shuffle=True),\n",
       "                    estimator=as_cumulative_dynamic_auc_scorer(estimator=Pipeline(steps=[('columntransformer',\n",
       "                                                                                          ColumnTransformer(remainder='passthrough',\n",
       "                                                                                                            transformers=[('num',\n",
       "                                                                                                                           Pipeline(steps=[('imputer',\n",
       "                                                                                                                                            SimpleImputer(strategy='median')),\n",
       "                                                                                                                                           ('std_scaler',\n",
       "                                                                                                                                            StandardScaler())]),\n",
       "                                                                                                                           ['age',\n",
       "                                                                                                                            'delta_met_diag...\n",
       "                                                                                                                            'ecog_diagnosis'])])),\n",
       "                                                                                         ('gradientboostingsurvivalanalysis',\n",
       "                                                                                          GradientBoostingSurvivalAnalysis(learning_rate=0.05,\n",
       "                                                                                                                           n_estimators=900,\n",
       "                                                                                                                           random_state=42))]),\n",
       "                                                               times=730),\n",
       "                    factor=2, n_jobs=-1,\n",
       "                    param_grid={'estimator__gradientboostingsurvivalanalysis__max_depth': [2,\n",
       "                                                                                           3,\n",
       "                                                                                           4],\n",
       "                                'estimator__gradientboostingsurvivalanalysis__subsample': [0.5,\n",
       "                                                                                           0.75,\n",
       "                                                                                           0.9]},\n",
       "                    random_state=42, refit=False, verbose=1)"
      ]
     },
     "execution_count": 60,
     "metadata": {},
     "output_type": "execute_result"
    }
   ],
   "source": [
    "pipe = make_pipeline(preprocessor_red, GradientBoostingSurvivalAnalysis(n_estimators = 900,\n",
    "                                                                        learning_rate = 0.05,\n",
    "                                                                        random_state = 42))\n",
    "\n",
    "# 3 fold cross-validation\n",
    "cv = StratifiedKFold(n_splits = 3, shuffle = True, random_state = 42)\n",
    "\n",
    "# Parameter gird \n",
    "param_grid = {'estimator__gradientboostingsurvivalanalysis__max_depth': [2, 3, 4], \n",
    "              'estimator__gradientboostingsurvivalanalysis__subsample': [0.5, 0.75, 0.9]}\n",
    "\n",
    "gbm_search = HalvingGridSearchCV(\n",
    "    as_cumulative_dynamic_auc_scorer(pipe, 730),\n",
    "    param_grid,\n",
    "    cv = cv,\n",
    "    factor = 2,\n",
    "    resource = 'n_samples',\n",
    "    refit = False,\n",
    "    verbose = 1,\n",
    "    random_state = 42,\n",
    "    n_jobs = -1)\n",
    "\n",
    "# Run search \n",
    "warnings.filterwarnings('ignore')\n",
    "gbm_search.fit(train_x_red, train_y)"
   ]
  },
  {
   "cell_type": "code",
   "execution_count": 60,
   "id": "12ffa38c",
   "metadata": {},
   "outputs": [
    {
     "data": {
      "text/plain": [
       "{'estimator__gradientboostingsurvivalanalysis__max_depth': 4,\n",
       " 'estimator__gradientboostingsurvivalanalysis__subsample': 0.75}"
      ]
     },
     "execution_count": 62,
     "metadata": {},
     "output_type": "execute_result"
    }
   ],
   "source": [
    "gbm_search.best_params_"
   ]
  },
  {
   "cell_type": "markdown",
   "id": "0e931681",
   "metadata": {},
   "source": [
    "### 2.4 Building and evaluating final model "
   ]
  },
  {
   "cell_type": "code",
   "execution_count": 61,
   "id": "c2efa62b",
   "metadata": {},
   "outputs": [],
   "source": [
    "test_x_red = test_x.drop(columns = drop_labs)"
   ]
  },
  {
   "cell_type": "code",
   "execution_count": 62,
   "id": "fe928e11",
   "metadata": {},
   "outputs": [],
   "source": [
    "test_x_red.loc[:, 'alp_max_na'] = np.where(test_x_red['alp_max'].isna(), 1, 0)\n",
    "test_x_red.loc[:, 'alt_max_na'] = np.where(test_x_red['alt_max'].isna(), 1, 0)\n",
    "test_x_red.loc[:, 'ast_max_na'] = np.where(test_x_red['ast_max'].isna(), 1, 0)\n",
    "test_x_red.loc[:, 'calcium_max_na'] = np.where(test_x_red['calcium_max'].isna(), 1, 0)\n",
    "test_x_red.loc[:, 'creatinine_max_na'] = np.where(test_x_red['creatinine_max'].isna(), 1, 0)\n",
    "test_x_red.loc[:, 'total_bilirubin_max_na'] = np.where(test_x_red['total_bilirubin_max'].isna(), 1, 0)\n",
    "test_x_red.loc[:, 'wbc_max_na'] = np.where(test_x_red['wbc_max'].isna(), 1, 0)\n",
    "test_x_red.loc[:, 'albumin_min_na'] = np.where(test_x_red['albumin_min'].isna(), 1, 0)\n",
    "test_x_red.loc[:, 'bicarb_min_na'] = np.where(test_x_red['bicarb_min'].isna(), 1, 0)\n",
    "test_x_red.loc[:, 'hemoglobin_min_na'] = np.where(test_x_red['hemoglobin_min'].isna(), 1, 0)\n",
    "test_x_red.loc[:, 'platelet_min_na'] = np.where(test_x_red['platelet_min'].isna(), 1, 0)\n",
    "test_x_red.loc[:, 'sodium_min_na'] = np.where(test_x_red['sodium_min'].isna(), 1, 0)\n",
    "test_x_red.loc[:, 'wbc_min_na'] = np.where(test_x_red['wbc_min'].isna(), 1, 0)"
   ]
  },
  {
   "cell_type": "code",
   "execution_count": 63,
   "id": "1c1f7d2d",
   "metadata": {},
   "outputs": [
    {
     "data": {
      "text/plain": [
       "(6336, 132)"
      ]
     },
     "execution_count": 67,
     "metadata": {},
     "output_type": "execute_result"
    }
   ],
   "source": [
    "test_x_red.shape"
   ]
  },
  {
   "cell_type": "code",
   "execution_count": 64,
   "id": "b18bcec2",
   "metadata": {},
   "outputs": [
    {
     "name": "stdout",
     "output_type": "stream",
     "text": [
      "      Iter       Train Loss      OOB Improve   Remaining Time \n",
      "         1       98534.3623          22.6008          118.93m\n",
      "         2       98500.3907          21.2528          119.12m\n",
      "         3       98926.1922          19.3427          119.41m\n",
      "         4       98506.3317          19.8272          119.34m\n",
      "         5       98342.2404          17.8932          119.05m\n",
      "         6       98005.7948          18.2657          118.84m\n",
      "         7       98256.7045          17.8314          118.69m\n",
      "         8       98325.0529          15.7795          118.49m\n",
      "         9       98146.5432          15.0109          118.30m\n",
      "        10       98343.3125          14.7137          118.14m\n",
      "        20       97909.7280          10.7290          116.63m\n",
      "        30       97272.5338           8.6987          115.29m\n",
      "        40       96995.5430           6.9658          113.95m\n",
      "        50       97005.4746           5.5961          112.63m\n",
      "        60       96597.6008           4.8382          111.29m\n",
      "        70       96582.5403           3.1184          109.96m\n",
      "        80       96142.4700           4.0679          108.64m\n",
      "        90       96166.2655           2.9610          107.30m\n",
      "       100       96435.5229           3.8672          105.97m\n",
      "       200       95104.7266           0.5938           92.97m\n",
      "       300       94730.3630           0.2277           79.90m\n",
      "       400       94247.6333           0.0990           66.66m\n",
      "       500       94470.5497          -0.2534           53.36m\n",
      "       600       94179.3250          -0.3357           40.04m\n",
      "       700       94098.4983          -0.0687           26.70m\n",
      "       800       93855.0342          -0.2393           13.34m\n",
      "       900       93714.8577          -0.0079            0.00s\n"
     ]
    },
    {
     "data": {
      "text/plain": [
       "Pipeline(steps=[('columntransformer',\n",
       "                 ColumnTransformer(remainder='passthrough',\n",
       "                                   transformers=[('num',\n",
       "                                                  Pipeline(steps=[('imputer',\n",
       "                                                                   SimpleImputer(strategy='median')),\n",
       "                                                                  ('std_scaler',\n",
       "                                                                   StandardScaler())]),\n",
       "                                                  ['age', 'delta_met_diagnosis',\n",
       "                                                   'weight_diag', 'bmi_diag',\n",
       "                                                   'weight_pct_change',\n",
       "                                                   'weight_slope',\n",
       "                                                   'albumin_diag', 'alp_diag',\n",
       "                                                   'alt_diag', 'ast_diag',\n",
       "                                                   'bicarb_diag', 'bun...\n",
       "                                                   'total_bilirubin_max',\n",
       "                                                   'wbc_max', 'albumin_min', ...]),\n",
       "                                                 ('cat',\n",
       "                                                  OneHotEncoder(handle_unknown='ignore'),\n",
       "                                                  ['gender', 'p_type', 'stage',\n",
       "                                                   'met_year', 'ER', 'HER2',\n",
       "                                                   'PR', 'BRCA', 'PIK3CA',\n",
       "                                                   'pdl1_n',\n",
       "                                                   'ecog_diagnosis'])])),\n",
       "                ('gradientboostingsurvivalanalysis',\n",
       "                 GradientBoostingSurvivalAnalysis(learning_rate=0.05,\n",
       "                                                  max_depth=4, n_estimators=900,\n",
       "                                                  random_state=42,\n",
       "                                                  subsample=0.75, verbose=1))])"
      ]
     },
     "execution_count": 68,
     "metadata": {},
     "output_type": "execute_result"
    }
   ],
   "source": [
    "gbm_crude = make_pipeline(preprocessor_red, GradientBoostingSurvivalAnalysis(n_estimators = 900,\n",
    "                                                                             learning_rate = 0.05,\n",
    "                                                                             max_depth = 4,\n",
    "                                                                             subsample = 0.75,\n",
    "                                                                             verbose = 1,\n",
    "                                                                             random_state = 42))\n",
    "\n",
    "gbm_crude.fit(train_x_red, train_y)"
   ]
  },
  {
   "cell_type": "code",
   "execution_count": 65,
   "id": "7f689432",
   "metadata": {},
   "outputs": [
    {
     "name": "stdout",
     "output_type": "stream",
     "text": [
      "Test set AUC at 2 years: 0.8142296470668924\n"
     ]
    }
   ],
   "source": [
    "gbm_risk_scores_te = gbm_crude.predict(test_x_red)\n",
    "gbm_auc_te = cumulative_dynamic_auc(train_y, test_y, gbm_risk_scores_te, 730)[0][0]\n",
    "print('Test set AUC at 2 years:', gbm_auc_te)"
   ]
  },
  {
   "cell_type": "code",
   "execution_count": 66,
   "id": "aac955f4",
   "metadata": {},
   "outputs": [
    {
     "name": "stdout",
     "output_type": "stream",
     "text": [
      "Training set AUC at 2 years: 0.8500836146470518\n"
     ]
    }
   ],
   "source": [
    "gbm_risk_scores_tr = gbm_crude.predict(train_x_red)\n",
    "gbm_auc_tr = cumulative_dynamic_auc(train_y, train_y, gbm_risk_scores_tr, 730)[0][0]\n",
    "print('Training set AUC at 2 years:', gbm_auc_tr)"
   ]
  },
  {
   "cell_type": "code",
   "execution_count": 67,
   "id": "6249fc41",
   "metadata": {},
   "outputs": [],
   "source": [
    "# Bootstrap 10000 2 yr AUCs for test set \n",
    "n_bootstraps = 10000\n",
    "rng_seed = 42 \n",
    "bootstrapped_scores_te = []\n",
    "\n",
    "rng = np.random.RandomState(rng_seed)\n",
    "for i in range(n_bootstraps):\n",
    "    indices = rng.randint(0, len(gbm_risk_scores_te), len(gbm_risk_scores_te))\n",
    "    auc_yr = cumulative_dynamic_auc(train_y, test_y[indices], gbm_risk_scores_te[indices], 730)[0][0]\n",
    "    bootstrapped_scores_te.append(auc_yr)"
   ]
  },
  {
   "cell_type": "code",
   "execution_count": 68,
   "id": "eb0c4afe",
   "metadata": {},
   "outputs": [
    {
     "name": "stdout",
     "output_type": "stream",
     "text": [
      "Test set AUC standard error: 0.006071623127672516\n"
     ]
    }
   ],
   "source": [
    "# Standard error of mean for test set AUC\n",
    "sorted_scores_te = np.array(bootstrapped_scores_te)\n",
    "sorted_scores_te.sort()\n",
    "\n",
    "conf_lower_te = sorted_scores_te[int(0.025 * len(sorted_scores_te))]\n",
    "conf_upper_te = sorted_scores_te[int(0.975 * len(sorted_scores_te))]\n",
    "\n",
    "standard_error_te = (conf_upper_te - conf_lower_te) / 3.92\n",
    "print('Test set AUC standard error:', standard_error_te)"
   ]
  },
  {
   "cell_type": "code",
   "execution_count": 69,
   "id": "f5198098",
   "metadata": {},
   "outputs": [],
   "source": [
    "# Bootstrap 10000 2-yr AUCs for train set \n",
    "n_bootstraps = 10000\n",
    "rng_seed = 42 \n",
    "bootstrapped_scores_tr = []\n",
    "\n",
    "rng = np.random.RandomState(rng_seed)\n",
    "for i in range(n_bootstraps):\n",
    "    indices = rng.randint(0, len(gbm_risk_scores_tr), len(gbm_risk_scores_tr))\n",
    "    auc_yr = cumulative_dynamic_auc(train_y, train_y[indices], gbm_risk_scores_tr[indices], 730)[0][0]\n",
    "    bootstrapped_scores_tr.append(auc_yr)"
   ]
  },
  {
   "cell_type": "code",
   "execution_count": 70,
   "id": "67dabfff",
   "metadata": {},
   "outputs": [
    {
     "name": "stdout",
     "output_type": "stream",
     "text": [
      "Training set AUC standard error 0.0028054857342875977\n"
     ]
    }
   ],
   "source": [
    "# Standard error of mean for train set AUC\n",
    "sorted_scores_tr = np.array(bootstrapped_scores_tr)\n",
    "sorted_scores_tr.sort()\n",
    "\n",
    "conf_lower_tr = sorted_scores_tr[int(0.025 * len(sorted_scores_tr))]\n",
    "conf_upper_tr = sorted_scores_tr[int(0.975 * len(sorted_scores_tr))]\n",
    "\n",
    "standard_error_tr = (conf_upper_tr - conf_lower_tr) / 3.92\n",
    "print('Training set AUC standard error', standard_error_tr)"
   ]
  },
  {
   "cell_type": "code",
   "execution_count": 71,
   "id": "071f7766",
   "metadata": {},
   "outputs": [],
   "source": [
    "crude_auc_data = {'model': ['gbm_crude'],\n",
    "                  'auc_2yr_te': [gbm_auc_te],\n",
    "                  'sem_te': [standard_error_te],\n",
    "                  'auc_2yr_tr': [gbm_auc_tr],\n",
    "                  'sem_tr': [standard_error_tr]}\n",
    "\n",
    "crude_auc_df = pd.DataFrame(crude_auc_data)"
   ]
  },
  {
   "cell_type": "code",
   "execution_count": 72,
   "id": "0f0af58d",
   "metadata": {},
   "outputs": [
    {
     "data": {
      "text/html": [
       "<div>\n",
       "<style scoped>\n",
       "    .dataframe tbody tr th:only-of-type {\n",
       "        vertical-align: middle;\n",
       "    }\n",
       "\n",
       "    .dataframe tbody tr th {\n",
       "        vertical-align: top;\n",
       "    }\n",
       "\n",
       "    .dataframe thead th {\n",
       "        text-align: right;\n",
       "    }\n",
       "</style>\n",
       "<table border=\"1\" class=\"dataframe\">\n",
       "  <thead>\n",
       "    <tr style=\"text-align: right;\">\n",
       "      <th></th>\n",
       "      <th>model</th>\n",
       "      <th>auc_2yr_te</th>\n",
       "      <th>sem_te</th>\n",
       "      <th>auc_2yr_tr</th>\n",
       "      <th>sem_tr</th>\n",
       "    </tr>\n",
       "  </thead>\n",
       "  <tbody>\n",
       "    <tr>\n",
       "      <th>0</th>\n",
       "      <td>gbm_crude</td>\n",
       "      <td>0.81423</td>\n",
       "      <td>0.006072</td>\n",
       "      <td>0.850084</td>\n",
       "      <td>0.002805</td>\n",
       "    </tr>\n",
       "  </tbody>\n",
       "</table>\n",
       "</div>"
      ],
      "text/plain": [
       "       model  auc_2yr_te    sem_te  auc_2yr_tr    sem_tr\n",
       "0  gbm_crude     0.81423  0.006072    0.850084  0.002805"
      ]
     },
     "execution_count": 76,
     "metadata": {},
     "output_type": "execute_result"
    }
   ],
   "source": [
    "crude_auc_df"
   ]
  },
  {
   "cell_type": "code",
   "execution_count": 73,
   "id": "fa1ace4c",
   "metadata": {},
   "outputs": [],
   "source": [
    "crude_auc_df.to_csv('crude_auc_df.csv', index = False, header = True)"
   ]
  },
  {
   "cell_type": "code",
   "execution_count": 74,
   "id": "e394f1e6",
   "metadata": {},
   "outputs": [],
   "source": [
    "times = np.arange(30, 1810, 30)\n",
    "crude_gbm_auc_over5 = cumulative_dynamic_auc(train_y, test_y, gbm_risk_scores_te, times)[0]\n",
    "\n",
    "times_data = {}\n",
    "values = crude_gbm_auc_over5\n",
    "time_names = []\n",
    "\n",
    "for x in range(len(times)):\n",
    "    time_names.append('time_'+str(times[x]))\n",
    "\n",
    "for i in range(len(time_names)):\n",
    "    times_data[time_names[i]] = values[i]\n",
    "    \n",
    "crude_auc_over5 = pd.DataFrame(times_data, index = ['gbm_crude'])"
   ]
  },
  {
   "cell_type": "code",
   "execution_count": 75,
   "id": "dc5e2f00",
   "metadata": {},
   "outputs": [
    {
     "data": {
      "text/html": [
       "<div>\n",
       "<style scoped>\n",
       "    .dataframe tbody tr th:only-of-type {\n",
       "        vertical-align: middle;\n",
       "    }\n",
       "\n",
       "    .dataframe tbody tr th {\n",
       "        vertical-align: top;\n",
       "    }\n",
       "\n",
       "    .dataframe thead th {\n",
       "        text-align: right;\n",
       "    }\n",
       "</style>\n",
       "<table border=\"1\" class=\"dataframe\">\n",
       "  <thead>\n",
       "    <tr style=\"text-align: right;\">\n",
       "      <th></th>\n",
       "      <th>time_30</th>\n",
       "      <th>time_60</th>\n",
       "      <th>time_90</th>\n",
       "      <th>time_120</th>\n",
       "      <th>time_150</th>\n",
       "      <th>time_180</th>\n",
       "      <th>time_210</th>\n",
       "      <th>time_240</th>\n",
       "      <th>time_270</th>\n",
       "      <th>time_300</th>\n",
       "      <th>...</th>\n",
       "      <th>time_1530</th>\n",
       "      <th>time_1560</th>\n",
       "      <th>time_1590</th>\n",
       "      <th>time_1620</th>\n",
       "      <th>time_1650</th>\n",
       "      <th>time_1680</th>\n",
       "      <th>time_1710</th>\n",
       "      <th>time_1740</th>\n",
       "      <th>time_1770</th>\n",
       "      <th>time_1800</th>\n",
       "    </tr>\n",
       "  </thead>\n",
       "  <tbody>\n",
       "    <tr>\n",
       "      <th>gbm_crude</th>\n",
       "      <td>0.873304</td>\n",
       "      <td>0.888984</td>\n",
       "      <td>0.867964</td>\n",
       "      <td>0.864796</td>\n",
       "      <td>0.86124</td>\n",
       "      <td>0.851446</td>\n",
       "      <td>0.85215</td>\n",
       "      <td>0.850231</td>\n",
       "      <td>0.849392</td>\n",
       "      <td>0.847236</td>\n",
       "      <td>...</td>\n",
       "      <td>0.777148</td>\n",
       "      <td>0.774056</td>\n",
       "      <td>0.775649</td>\n",
       "      <td>0.775367</td>\n",
       "      <td>0.773297</td>\n",
       "      <td>0.773237</td>\n",
       "      <td>0.772034</td>\n",
       "      <td>0.770778</td>\n",
       "      <td>0.771211</td>\n",
       "      <td>0.770631</td>\n",
       "    </tr>\n",
       "  </tbody>\n",
       "</table>\n",
       "<p>1 rows × 60 columns</p>\n",
       "</div>"
      ],
      "text/plain": [
       "            time_30   time_60   time_90  time_120  time_150  time_180  \\\n",
       "gbm_crude  0.873304  0.888984  0.867964  0.864796   0.86124  0.851446   \n",
       "\n",
       "           time_210  time_240  time_270  time_300  ...  time_1530  time_1560  \\\n",
       "gbm_crude   0.85215  0.850231  0.849392  0.847236  ...   0.777148   0.774056   \n",
       "\n",
       "           time_1590  time_1620  time_1650  time_1680  time_1710  time_1740  \\\n",
       "gbm_crude   0.775649   0.775367   0.773297   0.773237   0.772034   0.770778   \n",
       "\n",
       "           time_1770  time_1800  \n",
       "gbm_crude   0.771211   0.770631  \n",
       "\n",
       "[1 rows x 60 columns]"
      ]
     },
     "execution_count": 79,
     "metadata": {},
     "output_type": "execute_result"
    }
   ],
   "source": [
    "crude_auc_over5"
   ]
  },
  {
   "cell_type": "code",
   "execution_count": 76,
   "id": "96d7e8e2",
   "metadata": {},
   "outputs": [],
   "source": [
    "crude_auc_over5.to_csv('crude_auc_over5.csv', index = True, header = True)"
   ]
  },
  {
   "cell_type": "code",
   "execution_count": 77,
   "id": "1488f41e",
   "metadata": {},
   "outputs": [],
   "source": [
    "# Variables passing through pipeline\n",
    "cat_encoder = list(preprocessor_red.transformers_[1][1].get_feature_names(categorical_features))\n",
    "pass_through = list(train_x_red.iloc[:, preprocessor_red.transformers_[2][2]].columns)\n",
    "attributes_gbm = numerical_features_red + cat_encoder + pass_through"
   ]
  },
  {
   "cell_type": "code",
   "execution_count": 78,
   "id": "55313b37",
   "metadata": {},
   "outputs": [
    {
     "name": "stdout",
     "output_type": "stream",
     "text": [
      "Total number of features: 168\n",
      "Number of non-zero features in final model: 165\n"
     ]
    },
    {
     "data": {
      "image/png": "[encoded data removed]",
      "text/plain": [
       "<Figure size 600x800 with 1 Axes>"
      ]
     },
     "metadata": {},
     "output_type": "display_data"
    }
   ],
   "source": [
    "# Dataframe of coefficients for each variable \n",
    "coefficients_gbm = pd.DataFrame(\n",
    "    gbm_crude.named_steps['gradientboostingsurvivalanalysis'].feature_importances_,\n",
    "    index = attributes_gbm,\n",
    "    columns = ['coefficient']\n",
    ")\n",
    "\n",
    "print('Total number of features: {}'.format(len(attributes_gbm)))\n",
    "\n",
    "non_zero = np.sum(coefficients_gbm.iloc[:, 0] != 0)\n",
    "print('Number of non-zero features in final model: {}'.format(non_zero))\n",
    "\n",
    "non_zero_coefs = coefficients_gbm.query('coefficient != 0')\n",
    "coef_order = non_zero_coefs.abs().sort_values('coefficient').tail(30).index\n",
    "\n",
    "_, ax = plt.subplots(figsize=(6, 8))\n",
    "non_zero_coefs.loc[coef_order].plot.barh(ax = ax, legend = False)\n",
    "ax.set_xlabel('coefficient')\n",
    "ax.grid(True)"
   ]
  },
  {
   "cell_type": "code",
   "execution_count": 79,
   "id": "44f33483",
   "metadata": {},
   "outputs": [],
   "source": [
    "coefficients_gbm = (\n",
    "    coefficients_gbm\n",
    "    .reset_index()\n",
    "    .rename(columns = {'index':'variable'}))"
   ]
  },
  {
   "cell_type": "code",
   "execution_count": 80,
   "id": "993e71a6",
   "metadata": {},
   "outputs": [],
   "source": [
    "coefficients_gbm.to_csv('coefficients_gbm.csv', index = False, header = True)"
   ]
  },
  {
   "cell_type": "markdown",
   "id": "d103ba6f",
   "metadata": {},
   "source": [
    "## 3 Random survival forest model"
   ]
  },
  {
   "cell_type": "code",
   "execution_count": 81,
   "id": "7693e132",
   "metadata": {},
   "outputs": [],
   "source": [
    "from sklearn.experimental import enable_halving_search_cv\n",
    "from sklearn.model_selection import StratifiedKFold, HalvingRandomSearchCV\n",
    "from sklearn.pipeline import make_pipeline\n",
    "\n",
    "from sksurv.metrics import cumulative_dynamic_auc, as_cumulative_dynamic_auc_scorer\n",
    "\n",
    "from sksurv.ensemble import RandomSurvivalForest\n",
    "\n",
    "from joblib import dump, load \n",
    "\n",
    "import warnings "
   ]
  },
  {
   "cell_type": "markdown",
   "id": "45050112",
   "metadata": {},
   "source": [
    "**Similar to the gradient boosting survival model, the random survival model will first be configured by determining ideal number of trees using early stopping. Unlike the gradient boosting survival model, performance of the test set should not decrease with additional trees, so the main consideration is ensuring sufficiently high number of trees to achieve optimal test performance while minimzing computational time (ie., not building unnecessary number of trees). Once the ideal tree number is identified, a halving grid search with 3-fold cross validation will be performed to tune hyperparameters, though random forest models typically have excellent out-of-the-box performance so tuning will be cursory.**  "
   ]
  },
  {
   "cell_type": "markdown",
   "id": "ee3fcfa6",
   "metadata": {},
   "source": [
    "### 3.1 Number of trees "
   ]
  },
  {
   "cell_type": "code",
   "execution_count": 82,
   "id": "f2f6bdd1",
   "metadata": {},
   "outputs": [],
   "source": [
    "# Create function that adds tree one at a time, calculates AUC at 1-yr on validation set, \n",
    "# and breaks once validation AUC decreases 5 times in a row\n",
    "\n",
    "rsf = RandomSurvivalForest(min_samples_leaf = 10,\n",
    "                           max_features = 0.333,\n",
    "                           warm_start = True,\n",
    "                           verbose = 0,\n",
    "                           random_state = 42)\n",
    "\n",
    "sub_train_xt_red = preprocessor_red.fit_transform(sub_train_x_red)\n",
    "val_xt_red = preprocessor_red.transform(val_x_red)\n",
    "\n",
    "max_yr_auc = 0\n",
    "error_going_up = 0\n",
    "\n",
    "for n_estimators in range(1, 1000): \n",
    "    rsf.n_estimators = n_estimators\n",
    "    rsf.fit(sub_train_xt_red, sub_train_y)\n",
    "    \n",
    "    rsf_chf_funcs = rsf.predict_cumulative_hazard_function(val_xt_red)\n",
    "    rsf_risk_scores = np.row_stack([chf(730) for chf in rsf_chf_funcs])\n",
    "    rsf_yr_auc = cumulative_dynamic_auc(sub_train_y, val_y, rsf_risk_scores, 730)[0][0]\n",
    "    \n",
    "    if rsf_yr_auc > max_yr_auc:\n",
    "        max_yr_auc = rsf_yr_auc\n",
    "        error_going_up = 0\n",
    "    else:\n",
    "        error_going_up += 1\n",
    "        if error_going_up == 5:\n",
    "            break"
   ]
  },
  {
   "cell_type": "code",
   "execution_count": 83,
   "id": "1f577610",
   "metadata": {},
   "outputs": [
    {
     "name": "stdout",
     "output_type": "stream",
     "text": [
      "Ideal number of trees: 34\n",
      "Validation set AUC at 2 years with ideal tree number: 0.7903\n"
     ]
    }
   ],
   "source": [
    "rsf_chf_funcs = rsf.predict_cumulative_hazard_function(val_xt_red)\n",
    "rsf_risk_scores = np.row_stack([chf(730) for chf in rsf_chf_funcs])\n",
    "rsf_yr_auc = cumulative_dynamic_auc(sub_train_y, val_y, rsf_risk_scores, 730)[0][0]\n",
    "\n",
    "print('Ideal number of trees:', rsf.n_estimators)\n",
    "print('Validation set AUC at 2 years with ideal tree number:', round(rsf_yr_auc, 5))"
   ]
  },
  {
   "cell_type": "markdown",
   "id": "875b8492",
   "metadata": {},
   "source": [
    "### 3.2 Hyperparameter tuning "
   ]
  },
  {
   "cell_type": "markdown",
   "id": "b74c214b",
   "metadata": {},
   "source": [
    "**Fifty trees will likely be enough to ensure optimal AUC performance. Next, we'll perform a grid search to tune hyperparameters. The hyperparamter with the largest impact on performance other than tree number is the number of features considered at any given split (ie., max_features). (Side note: if the number of features considered at each split includes all features (ie., max_features = 1) then the algrorithm will be equivalent to bagging decision trees.) Tree complexity, specifically number of samples in leaf nodes, will also be tuned in the grid search, though its impact on performance is likely marginal in comparison to number of trees or number of features considered at each split.** "
   ]
  },
  {
   "cell_type": "code",
   "execution_count": 84,
   "id": "f2bf34f0",
   "metadata": {},
   "outputs": [
    {
     "data": {
      "text/plain": [
       "['estimator',\n",
       " 'estimator__columntransformer',\n",
       " 'estimator__columntransformer__cat',\n",
       " 'estimator__columntransformer__cat__categories',\n",
       " 'estimator__columntransformer__cat__drop',\n",
       " 'estimator__columntransformer__cat__dtype',\n",
       " 'estimator__columntransformer__cat__handle_unknown',\n",
       " 'estimator__columntransformer__cat__sparse',\n",
       " 'estimator__columntransformer__n_jobs',\n",
       " 'estimator__columntransformer__num',\n",
       " 'estimator__columntransformer__num__imputer',\n",
       " 'estimator__columntransformer__num__imputer__add_indicator',\n",
       " 'estimator__columntransformer__num__imputer__copy',\n",
       " 'estimator__columntransformer__num__imputer__fill_value',\n",
       " 'estimator__columntransformer__num__imputer__missing_values',\n",
       " 'estimator__columntransformer__num__imputer__strategy',\n",
       " 'estimator__columntransformer__num__imputer__verbose',\n",
       " 'estimator__columntransformer__num__memory',\n",
       " 'estimator__columntransformer__num__std_scaler',\n",
       " 'estimator__columntransformer__num__std_scaler__copy',\n",
       " 'estimator__columntransformer__num__std_scaler__with_mean',\n",
       " 'estimator__columntransformer__num__std_scaler__with_std',\n",
       " 'estimator__columntransformer__num__steps',\n",
       " 'estimator__columntransformer__num__verbose',\n",
       " 'estimator__columntransformer__remainder',\n",
       " 'estimator__columntransformer__sparse_threshold',\n",
       " 'estimator__columntransformer__transformer_weights',\n",
       " 'estimator__columntransformer__transformers',\n",
       " 'estimator__columntransformer__verbose',\n",
       " 'estimator__columntransformer__verbose_feature_names_out',\n",
       " 'estimator__memory',\n",
       " 'estimator__randomsurvivalforest',\n",
       " 'estimator__randomsurvivalforest__bootstrap',\n",
       " 'estimator__randomsurvivalforest__max_depth',\n",
       " 'estimator__randomsurvivalforest__max_features',\n",
       " 'estimator__randomsurvivalforest__max_leaf_nodes',\n",
       " 'estimator__randomsurvivalforest__max_samples',\n",
       " 'estimator__randomsurvivalforest__min_samples_leaf',\n",
       " 'estimator__randomsurvivalforest__min_samples_split',\n",
       " 'estimator__randomsurvivalforest__min_weight_fraction_leaf',\n",
       " 'estimator__randomsurvivalforest__n_estimators',\n",
       " 'estimator__randomsurvivalforest__n_jobs',\n",
       " 'estimator__randomsurvivalforest__oob_score',\n",
       " 'estimator__randomsurvivalforest__random_state',\n",
       " 'estimator__randomsurvivalforest__verbose',\n",
       " 'estimator__randomsurvivalforest__warm_start',\n",
       " 'estimator__steps',\n",
       " 'estimator__verbose',\n",
       " 'tied_tol',\n",
       " 'times']"
      ]
     },
     "execution_count": 88,
     "metadata": {},
     "output_type": "execute_result"
    }
   ],
   "source": [
    "# Find all pipe item unique keys \n",
    "pipe = make_pipeline(preprocessor_red, RandomSurvivalForest(n_estimators = 50,\n",
    "                                                            verbose = 0,\n",
    "                                                            random_state = 42))\n",
    "\n",
    "estimator = as_cumulative_dynamic_auc_scorer(pipe, times = [730])\n",
    "\n",
    "sorted(estimator.get_params().keys())"
   ]
  },
  {
   "cell_type": "code",
   "execution_count": 85,
   "id": "3f2f71ba",
   "metadata": {},
   "outputs": [
    {
     "name": "stdout",
     "output_type": "stream",
     "text": [
      "n_iterations: 3\n",
      "n_required_iterations: 3\n",
      "n_possible_iterations: 3\n",
      "min_resources_: 2500\n",
      "max_resources_: 25341\n",
      "aggressive_elimination: False\n",
      "factor: 3\n",
      "----------\n",
      "iter: 0\n",
      "n_candidates: 10\n",
      "n_resources: 2500\n",
      "Fitting 3 folds for each of 10 candidates, totalling 30 fits\n",
      "----------\n",
      "iter: 1\n",
      "n_candidates: 4\n",
      "n_resources: 7500\n",
      "Fitting 3 folds for each of 4 candidates, totalling 12 fits\n",
      "----------\n",
      "iter: 2\n",
      "n_candidates: 2\n",
      "n_resources: 22500\n",
      "Fitting 3 folds for each of 2 candidates, totalling 6 fits\n"
     ]
    },
    {
     "data": {
      "text/plain": [
       "HalvingRandomSearchCV(cv=StratifiedKFold(n_splits=3, random_state=42, shuffle=True),\n",
       "                      estimator=as_cumulative_dynamic_auc_scorer(estimator=Pipeline(steps=[('columntransformer',\n",
       "                                                                                            ColumnTransformer(remainder='passthrough',\n",
       "                                                                                                              transformers=[('num',\n",
       "                                                                                                                             Pipeline(steps=[('imputer',\n",
       "                                                                                                                                              SimpleImputer(strategy='median')),\n",
       "                                                                                                                                             ('std_scaler',\n",
       "                                                                                                                                              StandardScaler())]),\n",
       "                                                                                                                             ['age',\n",
       "                                                                                                                              'delta_met_di...\n",
       "                                                                                                                              'PIK3CA',\n",
       "                                                                                                                              'pdl1_n',\n",
       "                                                                                                                              'ecog_diagnosis'])])),\n",
       "                                                                                           ('randomsurvivalforest',\n",
       "                                                                                            RandomSurvivalForest(n_estimators=50,\n",
       "                                                                                                                 random_state=42))]),\n",
       "                                                                 times=730),\n",
       "                      min_resources=2500, n_jobs=-1,\n",
       "                      param_distributions={'estimator__randomsurvivalforest__max_features': [0.01,\n",
       "                                                                                             0.05,\n",
       "                                                                                             0.1,\n",
       "                                                                                             0.333],\n",
       "                                           'estimator__randomsurvivalforest__min_samples_leaf': [5,\n",
       "                                                                                                 10,\n",
       "                                                                                                 15]},\n",
       "                      random_state=42, refit=False, verbose=1)"
      ]
     },
     "execution_count": 89,
     "metadata": {},
     "output_type": "execute_result"
    }
   ],
   "source": [
    "pipe = make_pipeline(preprocessor_red, RandomSurvivalForest(n_estimators = 50,\n",
    "                                                            verbose = 0,\n",
    "                                                            random_state = 42))\n",
    "\n",
    "# 3 fold cross-validation\n",
    "cv = StratifiedKFold(n_splits = 3, shuffle = True, random_state = 42)\n",
    "\n",
    "# Parameter gird \n",
    "param_grid = {'estimator__randomsurvivalforest__max_features': [0.01, 0.05, 0.1, 0.333], \n",
    "              'estimator__randomsurvivalforest__min_samples_leaf': [5, 10, 15]}\n",
    "\n",
    "rsf_search = HalvingRandomSearchCV(\n",
    "    as_cumulative_dynamic_auc_scorer(pipe, 730),\n",
    "    param_distributions = param_grid,\n",
    "    cv = cv,\n",
    "    factor = 3,\n",
    "    resource = 'n_samples',\n",
    "    min_resources = 2500,\n",
    "    refit = False,\n",
    "    verbose = 1,\n",
    "    random_state = 42,\n",
    "    n_jobs = -1)\n",
    "\n",
    "# Run search \n",
    "warnings.filterwarnings('ignore')\n",
    "rsf_search.fit(train_x_red, train_y)"
   ]
  },
  {
   "cell_type": "code",
   "execution_count": 86,
   "id": "155af85e",
   "metadata": {},
   "outputs": [
    {
     "data": {
      "text/plain": [
       "{'estimator__randomsurvivalforest__min_samples_leaf': 15,\n",
       " 'estimator__randomsurvivalforest__max_features': 0.333}"
      ]
     },
     "execution_count": 90,
     "metadata": {},
     "output_type": "execute_result"
    }
   ],
   "source": [
    "rsf_search.best_params_"
   ]
  },
  {
   "cell_type": "markdown",
   "id": "23b0cc48",
   "metadata": {},
   "source": [
    "### 3.3 Building model and assessing performance"
   ]
  },
  {
   "cell_type": "code",
   "execution_count": 87,
   "id": "25126fce",
   "metadata": {},
   "outputs": [
    {
     "data": {
      "text/plain": [
       "Pipeline(steps=[('columntransformer',\n",
       "                 ColumnTransformer(remainder='passthrough',\n",
       "                                   transformers=[('num',\n",
       "                                                  Pipeline(steps=[('imputer',\n",
       "                                                                   SimpleImputer(strategy='median')),\n",
       "                                                                  ('std_scaler',\n",
       "                                                                   StandardScaler())]),\n",
       "                                                  ['age', 'delta_met_diagnosis',\n",
       "                                                   'weight_diag', 'bmi_diag',\n",
       "                                                   'weight_pct_change',\n",
       "                                                   'weight_slope',\n",
       "                                                   'albumin_diag', 'alp_diag',\n",
       "                                                   'alt_diag', 'ast_diag',\n",
       "                                                   'bicarb_diag', 'bun...\n",
       "                                                   'calcium_max',\n",
       "                                                   'creatinine_max',\n",
       "                                                   'total_bilirubin_max',\n",
       "                                                   'wbc_max', 'albumin_min', ...]),\n",
       "                                                 ('cat',\n",
       "                                                  OneHotEncoder(handle_unknown='ignore'),\n",
       "                                                  ['gender', 'p_type', 'stage',\n",
       "                                                   'met_year', 'ER', 'HER2',\n",
       "                                                   'PR', 'BRCA', 'PIK3CA',\n",
       "                                                   'pdl1_n',\n",
       "                                                   'ecog_diagnosis'])])),\n",
       "                ('randomsurvivalforest',\n",
       "                 RandomSurvivalForest(max_features=0.333, min_samples_leaf=15,\n",
       "                                      n_estimators=50, n_jobs=-1,\n",
       "                                      random_state=42))])"
      ]
     },
     "execution_count": 91,
     "metadata": {},
     "output_type": "execute_result"
    }
   ],
   "source": [
    "rsf = make_pipeline(preprocessor_red, RandomSurvivalForest(n_estimators = 50,\n",
    "                                                           max_features = 0.333, \n",
    "                                                           min_samples_leaf = 15,\n",
    "                                                           n_jobs = -1,\n",
    "                                                           verbose = 0,\n",
    "                                                           random_state = 42))\n",
    "\n",
    "rsf.fit(train_x_red, train_y)"
   ]
  },
  {
   "cell_type": "code",
   "execution_count": 88,
   "id": "5c31cc2e",
   "metadata": {},
   "outputs": [
    {
     "name": "stdout",
     "output_type": "stream",
     "text": [
      "Test set AUC at 2 years: 0.7954400892980763\n"
     ]
    }
   ],
   "source": [
    "rsf_chf_funcs_te = rsf.predict_cumulative_hazard_function(test_x_red)\n",
    "rsf_risk_scores_te = np.row_stack([chf(730) for chf in rsf_chf_funcs_te])\n",
    "rsf_auc_te = cumulative_dynamic_auc(train_y, test_y, rsf_risk_scores_te, 730)[0][0]\n",
    "print('Test set AUC at 2 years:', rsf_auc_te)"
   ]
  },
  {
   "cell_type": "code",
   "execution_count": 89,
   "id": "d45a1491",
   "metadata": {},
   "outputs": [
    {
     "name": "stdout",
     "output_type": "stream",
     "text": [
      "Training set AUC at 2 years: 0.883202383277796\n"
     ]
    }
   ],
   "source": [
    "rsf_chf_funcs_tr = rsf.predict_cumulative_hazard_function(train_x_red)\n",
    "rsf_risk_scores_tr = np.row_stack([chf(730) for chf in rsf_chf_funcs_tr])\n",
    "rsf_auc_tr = cumulative_dynamic_auc(train_y, train_y, rsf_risk_scores_tr, 730)[0][0]\n",
    "print('Training set AUC at 2 years:', rsf_auc_tr)"
   ]
  },
  {
   "cell_type": "code",
   "execution_count": 90,
   "id": "f6703658",
   "metadata": {},
   "outputs": [],
   "source": [
    "# Bootstrap 10000 2 yr AUCs for test set \n",
    "n_bootstraps = 10000\n",
    "rng_seed = 42 \n",
    "bootstrapped_scores_te = []\n",
    "\n",
    "rng = np.random.RandomState(rng_seed)\n",
    "for i in range(n_bootstraps):\n",
    "    indices = rng.randint(0, len(rsf_risk_scores_te), len(rsf_risk_scores_te))\n",
    "    auc_yr = cumulative_dynamic_auc(train_y, test_y[indices], rsf_risk_scores_te[indices], 730)[0][0]\n",
    "    bootstrapped_scores_te.append(auc_yr)"
   ]
  },
  {
   "cell_type": "code",
   "execution_count": 91,
   "id": "37d90ee8",
   "metadata": {},
   "outputs": [
    {
     "name": "stdout",
     "output_type": "stream",
     "text": [
      "Test set AUC standard error: 0.00637681149975277\n"
     ]
    }
   ],
   "source": [
    "# Standard error of mean for test set AUC\n",
    "sorted_scores_te = np.array(bootstrapped_scores_te)\n",
    "sorted_scores_te.sort()\n",
    "\n",
    "conf_lower_te = sorted_scores_te[int(0.025 * len(sorted_scores_te))]\n",
    "conf_upper_te = sorted_scores_te[int(0.975 * len(sorted_scores_te))]\n",
    "\n",
    "standard_error_te = (conf_upper_te - conf_lower_te) / 3.92\n",
    "print('Test set AUC standard error:', standard_error_te)"
   ]
  },
  {
   "cell_type": "code",
   "execution_count": 92,
   "id": "8bb5ef19",
   "metadata": {},
   "outputs": [],
   "source": [
    "# Bootstrap 10000 2-yr AUCs for train set \n",
    "n_bootstraps = 10000\n",
    "rng_seed = 42 \n",
    "bootstrapped_scores_tr = []\n",
    "\n",
    "rng = np.random.RandomState(rng_seed)\n",
    "for i in range(n_bootstraps):\n",
    "    indices = rng.randint(0, len(rsf_risk_scores_tr), len(rsf_risk_scores_tr))\n",
    "    auc_yr = cumulative_dynamic_auc(train_y, train_y[indices], rsf_risk_scores_tr[indices], 730)[0][0]\n",
    "    bootstrapped_scores_tr.append(auc_yr)"
   ]
  },
  {
   "cell_type": "code",
   "execution_count": 93,
   "id": "1cb44d38",
   "metadata": {},
   "outputs": [
    {
     "name": "stdout",
     "output_type": "stream",
     "text": [
      "Training set AUC standard error 0.0023980570769157536\n"
     ]
    }
   ],
   "source": [
    "# Standard error of mean for train set AUC\n",
    "sorted_scores_tr = np.array(bootstrapped_scores_tr)\n",
    "sorted_scores_tr.sort()\n",
    "\n",
    "conf_lower_tr = sorted_scores_tr[int(0.025 * len(sorted_scores_tr))]\n",
    "conf_upper_tr = sorted_scores_tr[int(0.975 * len(sorted_scores_tr))]\n",
    "\n",
    "standard_error_tr = (conf_upper_tr - conf_lower_tr) / 3.92\n",
    "print('Training set AUC standard error', standard_error_tr)"
   ]
  },
  {
   "cell_type": "code",
   "execution_count": 94,
   "id": "6dc9287a",
   "metadata": {},
   "outputs": [],
   "source": [
    "crude_auc_data = {'model': 'rsf_crude',\n",
    "                  'auc_2yr_te': rsf_auc_te,\n",
    "                  'sem_te': standard_error_te,\n",
    "                  'auc_2yr_tr': rsf_auc_tr,\n",
    "                  'sem_tr': standard_error_tr}"
   ]
  },
  {
   "cell_type": "code",
   "execution_count": 95,
   "id": "218a27a4",
   "metadata": {},
   "outputs": [],
   "source": [
    "crude_auc_df = pd.read_csv('crude_auc_df.csv')"
   ]
  },
  {
   "cell_type": "code",
   "execution_count": 96,
   "id": "b037f3bf",
   "metadata": {},
   "outputs": [],
   "source": [
    "crude_auc_df = crude_auc_df.append(crude_auc_data, ignore_index = True)"
   ]
  },
  {
   "cell_type": "code",
   "execution_count": 97,
   "id": "e725e6f8",
   "metadata": {},
   "outputs": [
    {
     "data": {
      "text/html": [
       "<div>\n",
       "<style scoped>\n",
       "    .dataframe tbody tr th:only-of-type {\n",
       "        vertical-align: middle;\n",
       "    }\n",
       "\n",
       "    .dataframe tbody tr th {\n",
       "        vertical-align: top;\n",
       "    }\n",
       "\n",
       "    .dataframe thead th {\n",
       "        text-align: right;\n",
       "    }\n",
       "</style>\n",
       "<table border=\"1\" class=\"dataframe\">\n",
       "  <thead>\n",
       "    <tr style=\"text-align: right;\">\n",
       "      <th></th>\n",
       "      <th>model</th>\n",
       "      <th>auc_2yr_te</th>\n",
       "      <th>sem_te</th>\n",
       "      <th>auc_2yr_tr</th>\n",
       "      <th>sem_tr</th>\n",
       "    </tr>\n",
       "  </thead>\n",
       "  <tbody>\n",
       "    <tr>\n",
       "      <th>0</th>\n",
       "      <td>gbm_crude</td>\n",
       "      <td>0.81423</td>\n",
       "      <td>0.006072</td>\n",
       "      <td>0.850084</td>\n",
       "      <td>0.002805</td>\n",
       "    </tr>\n",
       "    <tr>\n",
       "      <th>1</th>\n",
       "      <td>rsf_crude</td>\n",
       "      <td>0.79544</td>\n",
       "      <td>0.006377</td>\n",
       "      <td>0.883202</td>\n",
       "      <td>0.002398</td>\n",
       "    </tr>\n",
       "  </tbody>\n",
       "</table>\n",
       "</div>"
      ],
      "text/plain": [
       "       model  auc_2yr_te    sem_te  auc_2yr_tr    sem_tr\n",
       "0  gbm_crude     0.81423  0.006072    0.850084  0.002805\n",
       "1  rsf_crude     0.79544  0.006377    0.883202  0.002398"
      ]
     },
     "execution_count": 101,
     "metadata": {},
     "output_type": "execute_result"
    }
   ],
   "source": [
    "crude_auc_df"
   ]
  },
  {
   "cell_type": "code",
   "execution_count": 98,
   "id": "21e444e2",
   "metadata": {},
   "outputs": [],
   "source": [
    "crude_auc_df.to_csv('crude_auc_df.csv', index = False, header = True)"
   ]
  },
  {
   "cell_type": "code",
   "execution_count": 99,
   "id": "30708d2f",
   "metadata": {},
   "outputs": [],
   "source": [
    "times = np.arange(30, 1810, 30)\n",
    "\n",
    "rsf_chf_funcs_te = rsf.predict_cumulative_hazard_function(test_x_red)\n",
    "rsf_risk_scores_te = np.row_stack([chf(times) for chf in rsf_chf_funcs_te])\n",
    "crude_rsf_auc_over5 = cumulative_dynamic_auc(train_y, test_y, rsf_risk_scores_te, times)[0]\n",
    "\n",
    "times_data = {}\n",
    "values = crude_rsf_auc_over5\n",
    "time_names = []\n",
    "\n",
    "for x in range(len(times)):\n",
    "    time_names.append('time_'+str(times[x]))\n",
    "\n",
    "for i in range(len(time_names)):\n",
    "    times_data[time_names[i]] = values[i]\n",
    "    \n",
    "crude_rsf_over5_df = pd.DataFrame(times_data, index = ['rsf_crude'])"
   ]
  },
  {
   "cell_type": "code",
   "execution_count": 100,
   "id": "913f10ac",
   "metadata": {},
   "outputs": [],
   "source": [
    "crude_auc_over5 = pd.read_csv('crude_auc_over5.csv', index_col = 0)"
   ]
  },
  {
   "cell_type": "code",
   "execution_count": 101,
   "id": "b3fdc779",
   "metadata": {},
   "outputs": [],
   "source": [
    "crude_auc_over5 = crude_auc_over5.append(crude_rsf_over5_df, ignore_index = False)"
   ]
  },
  {
   "cell_type": "code",
   "execution_count": 102,
   "id": "8ae6efda",
   "metadata": {},
   "outputs": [
    {
     "data": {
      "text/html": [
       "<div>\n",
       "<style scoped>\n",
       "    .dataframe tbody tr th:only-of-type {\n",
       "        vertical-align: middle;\n",
       "    }\n",
       "\n",
       "    .dataframe tbody tr th {\n",
       "        vertical-align: top;\n",
       "    }\n",
       "\n",
       "    .dataframe thead th {\n",
       "        text-align: right;\n",
       "    }\n",
       "</style>\n",
       "<table border=\"1\" class=\"dataframe\">\n",
       "  <thead>\n",
       "    <tr style=\"text-align: right;\">\n",
       "      <th></th>\n",
       "      <th>time_30</th>\n",
       "      <th>time_60</th>\n",
       "      <th>time_90</th>\n",
       "      <th>time_120</th>\n",
       "      <th>time_150</th>\n",
       "      <th>time_180</th>\n",
       "      <th>time_210</th>\n",
       "      <th>time_240</th>\n",
       "      <th>time_270</th>\n",
       "      <th>time_300</th>\n",
       "      <th>...</th>\n",
       "      <th>time_1530</th>\n",
       "      <th>time_1560</th>\n",
       "      <th>time_1590</th>\n",
       "      <th>time_1620</th>\n",
       "      <th>time_1650</th>\n",
       "      <th>time_1680</th>\n",
       "      <th>time_1710</th>\n",
       "      <th>time_1740</th>\n",
       "      <th>time_1770</th>\n",
       "      <th>time_1800</th>\n",
       "    </tr>\n",
       "  </thead>\n",
       "  <tbody>\n",
       "    <tr>\n",
       "      <th>gbm_crude</th>\n",
       "      <td>0.873304</td>\n",
       "      <td>0.888984</td>\n",
       "      <td>0.867964</td>\n",
       "      <td>0.864796</td>\n",
       "      <td>0.861240</td>\n",
       "      <td>0.851446</td>\n",
       "      <td>0.852150</td>\n",
       "      <td>0.850231</td>\n",
       "      <td>0.849392</td>\n",
       "      <td>0.847236</td>\n",
       "      <td>...</td>\n",
       "      <td>0.777148</td>\n",
       "      <td>0.774056</td>\n",
       "      <td>0.775649</td>\n",
       "      <td>0.775367</td>\n",
       "      <td>0.773297</td>\n",
       "      <td>0.773237</td>\n",
       "      <td>0.772034</td>\n",
       "      <td>0.770778</td>\n",
       "      <td>0.771211</td>\n",
       "      <td>0.770631</td>\n",
       "    </tr>\n",
       "    <tr>\n",
       "      <th>rsf_crude</th>\n",
       "      <td>0.872494</td>\n",
       "      <td>0.878457</td>\n",
       "      <td>0.850630</td>\n",
       "      <td>0.844724</td>\n",
       "      <td>0.840922</td>\n",
       "      <td>0.831971</td>\n",
       "      <td>0.831404</td>\n",
       "      <td>0.828014</td>\n",
       "      <td>0.827749</td>\n",
       "      <td>0.826762</td>\n",
       "      <td>...</td>\n",
       "      <td>0.761893</td>\n",
       "      <td>0.757587</td>\n",
       "      <td>0.759615</td>\n",
       "      <td>0.758983</td>\n",
       "      <td>0.756183</td>\n",
       "      <td>0.755631</td>\n",
       "      <td>0.755043</td>\n",
       "      <td>0.754491</td>\n",
       "      <td>0.754104</td>\n",
       "      <td>0.753775</td>\n",
       "    </tr>\n",
       "  </tbody>\n",
       "</table>\n",
       "<p>2 rows × 60 columns</p>\n",
       "</div>"
      ],
      "text/plain": [
       "            time_30   time_60   time_90  time_120  time_150  time_180  \\\n",
       "gbm_crude  0.873304  0.888984  0.867964  0.864796  0.861240  0.851446   \n",
       "rsf_crude  0.872494  0.878457  0.850630  0.844724  0.840922  0.831971   \n",
       "\n",
       "           time_210  time_240  time_270  time_300  ...  time_1530  time_1560  \\\n",
       "gbm_crude  0.852150  0.850231  0.849392  0.847236  ...   0.777148   0.774056   \n",
       "rsf_crude  0.831404  0.828014  0.827749  0.826762  ...   0.761893   0.757587   \n",
       "\n",
       "           time_1590  time_1620  time_1650  time_1680  time_1710  time_1740  \\\n",
       "gbm_crude   0.775649   0.775367   0.773297   0.773237   0.772034   0.770778   \n",
       "rsf_crude   0.759615   0.758983   0.756183   0.755631   0.755043   0.754491   \n",
       "\n",
       "           time_1770  time_1800  \n",
       "gbm_crude   0.771211   0.770631  \n",
       "rsf_crude   0.754104   0.753775  \n",
       "\n",
       "[2 rows x 60 columns]"
      ]
     },
     "execution_count": 106,
     "metadata": {},
     "output_type": "execute_result"
    }
   ],
   "source": [
    "crude_auc_over5"
   ]
  },
  {
   "cell_type": "code",
   "execution_count": 103,
   "id": "0fe86e77",
   "metadata": {},
   "outputs": [],
   "source": [
    "crude_auc_over5.to_csv('crude_auc_over5.csv', index = True, header = True)"
   ]
  },
  {
   "cell_type": "markdown",
   "id": "2a214b68",
   "metadata": {},
   "source": [
    "**No feature importance attribute is available at this time for the random survival forest model.**\n",
    "\n",
    "**The gradient boosted survival model outperforms the random survival forest in regards to test set 2 year AUC.**"
   ]
  },
  {
   "cell_type": "markdown",
   "id": "192b32b8",
   "metadata": {},
   "source": [
    "## 4. Penalized Cox models "
   ]
  },
  {
   "cell_type": "markdown",
   "id": "354d9c48",
   "metadata": {},
   "source": [
    "**The next group of models we'll build is the penalized Cox variety which includes ridge, LASSO, and elastic net. The main challenge will be selecting the strength of the alpha penalty for each model. The penalty will be determined by performing a grid search with cross-validation.**"
   ]
  },
  {
   "cell_type": "code",
   "execution_count": 104,
   "id": "921782bd",
   "metadata": {},
   "outputs": [],
   "source": [
    "from sklearn.model_selection import StratifiedKFold, GridSearchCV\n",
    "from sklearn.pipeline import make_pipeline\n",
    "from sklearn.metrics import make_scorer\n",
    "\n",
    "from sksurv.linear_model import CoxPHSurvivalAnalysis, CoxnetSurvivalAnalysis\n",
    "from sksurv.metrics import cumulative_dynamic_auc, as_cumulative_dynamic_auc_scorer\n",
    "\n",
    "import warnings \n",
    "\n",
    "import matplotlib.pyplot as plt"
   ]
  },
  {
   "cell_type": "markdown",
   "id": "0a6baeca",
   "metadata": {},
   "source": [
    "### 4.1 Ridge"
   ]
  },
  {
   "cell_type": "code",
   "execution_count": 105,
   "id": "da717c19",
   "metadata": {},
   "outputs": [
    {
     "data": {
      "text/plain": [
       "['estimator',\n",
       " 'estimator__columntransformer',\n",
       " 'estimator__columntransformer__cat',\n",
       " 'estimator__columntransformer__cat__categories',\n",
       " 'estimator__columntransformer__cat__drop',\n",
       " 'estimator__columntransformer__cat__dtype',\n",
       " 'estimator__columntransformer__cat__handle_unknown',\n",
       " 'estimator__columntransformer__cat__sparse',\n",
       " 'estimator__columntransformer__n_jobs',\n",
       " 'estimator__columntransformer__num',\n",
       " 'estimator__columntransformer__num__imputer',\n",
       " 'estimator__columntransformer__num__imputer__add_indicator',\n",
       " 'estimator__columntransformer__num__imputer__copy',\n",
       " 'estimator__columntransformer__num__imputer__fill_value',\n",
       " 'estimator__columntransformer__num__imputer__missing_values',\n",
       " 'estimator__columntransformer__num__imputer__strategy',\n",
       " 'estimator__columntransformer__num__imputer__verbose',\n",
       " 'estimator__columntransformer__num__memory',\n",
       " 'estimator__columntransformer__num__std_scaler',\n",
       " 'estimator__columntransformer__num__std_scaler__copy',\n",
       " 'estimator__columntransformer__num__std_scaler__with_mean',\n",
       " 'estimator__columntransformer__num__std_scaler__with_std',\n",
       " 'estimator__columntransformer__num__steps',\n",
       " 'estimator__columntransformer__num__verbose',\n",
       " 'estimator__columntransformer__remainder',\n",
       " 'estimator__columntransformer__sparse_threshold',\n",
       " 'estimator__columntransformer__transformer_weights',\n",
       " 'estimator__columntransformer__transformers',\n",
       " 'estimator__columntransformer__verbose',\n",
       " 'estimator__columntransformer__verbose_feature_names_out',\n",
       " 'estimator__coxphsurvivalanalysis',\n",
       " 'estimator__coxphsurvivalanalysis__alpha',\n",
       " 'estimator__coxphsurvivalanalysis__n_iter',\n",
       " 'estimator__coxphsurvivalanalysis__ties',\n",
       " 'estimator__coxphsurvivalanalysis__tol',\n",
       " 'estimator__coxphsurvivalanalysis__verbose',\n",
       " 'estimator__memory',\n",
       " 'estimator__steps',\n",
       " 'estimator__verbose',\n",
       " 'tied_tol',\n",
       " 'times']"
      ]
     },
     "execution_count": 109,
     "metadata": {},
     "output_type": "execute_result"
    }
   ],
   "source": [
    "# Find all pipe item unique keys \n",
    "pipe = make_pipeline(preprocessor_red, CoxPHSurvivalAnalysis())\n",
    "\n",
    "estimator = as_cumulative_dynamic_auc_scorer(pipe, times = [730])\n",
    "\n",
    "sorted(estimator.get_params().keys())"
   ]
  },
  {
   "cell_type": "code",
   "execution_count": 106,
   "id": "3777a304",
   "metadata": {},
   "outputs": [
    {
     "data": {
      "text/plain": [
       "GridSearchCV(cv=StratifiedKFold(n_splits=5, random_state=42, shuffle=True),\n",
       "             estimator=as_cumulative_dynamic_auc_scorer(estimator=Pipeline(steps=[('columntransformer',\n",
       "                                                                                   ColumnTransformer(remainder='passthrough',\n",
       "                                                                                                     transformers=[('num',\n",
       "                                                                                                                    Pipeline(steps=[('imputer',\n",
       "                                                                                                                                     SimpleImputer(strategy='median')),\n",
       "                                                                                                                                    ('std_scaler',\n",
       "                                                                                                                                     StandardScaler())]),\n",
       "                                                                                                                    ['age',\n",
       "                                                                                                                     'delta_met_diagnosis',...\n",
       "             param_grid={'estimator__coxphsurvivalanalysis__alpha': array([1.00000000e-04, 2.15443469e-04, 4.64158883e-04, 1.00000000e-03,\n",
       "       2.15443469e-03, 4.64158883e-03, 1.00000000e-02, 2.15443469e-02,\n",
       "       4.64158883e-02, 1.00000000e-01, 2.15443469e-01, 4.64158883e-01,\n",
       "       1.00000000e+00, 2.15443469e+00, 4.64158883e+00, 1.00000000e+01,\n",
       "       2.15443469e+01, 4.64158883e+01, 1.00000000e+02, 2.15443469e+02,\n",
       "       4.64158883e+02, 1.00000000e+03, 2.15443469e+03, 4.64158883e+03,\n",
       "       1.00000000e+04])},\n",
       "             refit=False)"
      ]
     },
     "execution_count": 110,
     "metadata": {},
     "output_type": "execute_result"
    }
   ],
   "source": [
    "pipe = make_pipeline(preprocessor_red, CoxPHSurvivalAnalysis())\n",
    "\n",
    "# 5 fold cross-validation\n",
    "cv = StratifiedKFold(n_splits = 5, shuffle = True, random_state = 42)\n",
    "\n",
    "# Parameter gird \n",
    "param_grid = {'estimator__coxphsurvivalanalysis__alpha': 10. ** np.linspace(-4, 4, 25)}\n",
    "\n",
    "ridge_search = GridSearchCV(\n",
    "    as_cumulative_dynamic_auc_scorer(pipe, 730),\n",
    "    param_grid = param_grid,\n",
    "    cv = cv,\n",
    "    n_jobs = -1,\n",
    "    refit = False)\n",
    "\n",
    "# Run search \n",
    "warnings.filterwarnings('ignore')\n",
    "ridge_search.fit(train_x_red, train_y)"
   ]
  },
  {
   "cell_type": "code",
   "execution_count": 107,
   "id": "2a0715ee",
   "metadata": {},
   "outputs": [
    {
     "data": {
      "text/plain": [
       "{'estimator__coxphsurvivalanalysis__alpha': 100.0}"
      ]
     },
     "execution_count": 111,
     "metadata": {},
     "output_type": "execute_result"
    }
   ],
   "source": [
    "ridge_search.best_params_"
   ]
  },
  {
   "cell_type": "code",
   "execution_count": 108,
   "id": "e766d434",
   "metadata": {},
   "outputs": [],
   "source": [
    "best_ridge_alpha = ridge_search.best_params_.get('estimator__coxphsurvivalanalysis__alpha')"
   ]
  },
  {
   "cell_type": "code",
   "execution_count": 109,
   "id": "6b95c162",
   "metadata": {},
   "outputs": [
    {
     "data": {
      "text/plain": [
       "Pipeline(steps=[('columntransformer',\n",
       "                 ColumnTransformer(remainder='passthrough',\n",
       "                                   transformers=[('num',\n",
       "                                                  Pipeline(steps=[('imputer',\n",
       "                                                                   SimpleImputer(strategy='median')),\n",
       "                                                                  ('std_scaler',\n",
       "                                                                   StandardScaler())]),\n",
       "                                                  ['age', 'delta_met_diagnosis',\n",
       "                                                   'weight_diag', 'bmi_diag',\n",
       "                                                   'weight_pct_change',\n",
       "                                                   'weight_slope',\n",
       "                                                   'albumin_diag', 'alp_diag',\n",
       "                                                   'alt_diag', 'ast_diag',\n",
       "                                                   'bicarb_diag', 'bun...\n",
       "                                                   'total_bilirubin_diag',\n",
       "                                                   'wbc_diag', 'alp_max',\n",
       "                                                   'alt_max', 'ast_max',\n",
       "                                                   'calcium_max',\n",
       "                                                   'creatinine_max',\n",
       "                                                   'total_bilirubin_max',\n",
       "                                                   'wbc_max', 'albumin_min', ...]),\n",
       "                                                 ('cat',\n",
       "                                                  OneHotEncoder(handle_unknown='ignore'),\n",
       "                                                  ['gender', 'p_type', 'stage',\n",
       "                                                   'met_year', 'ER', 'HER2',\n",
       "                                                   'PR', 'BRCA', 'PIK3CA',\n",
       "                                                   'pdl1_n',\n",
       "                                                   'ecog_diagnosis'])])),\n",
       "                ('coxphsurvivalanalysis', CoxPHSurvivalAnalysis(alpha=100.0))])"
      ]
     },
     "execution_count": 113,
     "metadata": {},
     "output_type": "execute_result"
    }
   ],
   "source": [
    "ridge = make_pipeline(preprocessor_red, CoxPHSurvivalAnalysis(alpha = best_ridge_alpha))\n",
    "\n",
    "ridge.fit(train_x_red, train_y)"
   ]
  },
  {
   "cell_type": "code",
   "execution_count": 110,
   "id": "744cabd4",
   "metadata": {},
   "outputs": [
    {
     "name": "stdout",
     "output_type": "stream",
     "text": [
      "Test set AUC at 2 years: 0.7826428239955608\n"
     ]
    }
   ],
   "source": [
    "ridge_risk_scores_te = ridge.predict(test_x_red)\n",
    "ridge_auc_te = cumulative_dynamic_auc(train_y, test_y, ridge_risk_scores_te, 730)[0][0]\n",
    "print('Test set AUC at 2 years:', ridge_auc_te)"
   ]
  },
  {
   "cell_type": "code",
   "execution_count": 111,
   "id": "ccacb873",
   "metadata": {},
   "outputs": [
    {
     "name": "stdout",
     "output_type": "stream",
     "text": [
      "Training set AUC at 2 years: 0.7849365560339723\n"
     ]
    }
   ],
   "source": [
    "ridge_risk_scores_tr = ridge.predict(train_x_red)\n",
    "ridge_auc_tr = cumulative_dynamic_auc(train_y, train_y, ridge_risk_scores_tr, 730)[0][0]\n",
    "print('Training set AUC at 2 years:', ridge_auc_tr)"
   ]
  },
  {
   "cell_type": "code",
   "execution_count": 112,
   "id": "ee4a4f85",
   "metadata": {},
   "outputs": [],
   "source": [
    "# Bootstrap 10000 2-yr AUCs for test set \n",
    "n_bootstraps = 10000\n",
    "rng_seed = 42 \n",
    "bootstrapped_scores_te = []\n",
    "\n",
    "rng = np.random.RandomState(rng_seed)\n",
    "for i in range(n_bootstraps):\n",
    "    indices = rng.randint(0, len(ridge_risk_scores_te), len(ridge_risk_scores_te))\n",
    "    auc_yr = cumulative_dynamic_auc(train_y, test_y[indices], ridge_risk_scores_te[indices], 730)[0][0]\n",
    "    bootstrapped_scores_te.append(auc_yr)"
   ]
  },
  {
   "cell_type": "code",
   "execution_count": 113,
   "id": "4c7aa0d6",
   "metadata": {},
   "outputs": [
    {
     "name": "stdout",
     "output_type": "stream",
     "text": [
      "Test set AUC standard error: 0.006583585634346176\n"
     ]
    }
   ],
   "source": [
    "# Standard error of mean for test set AUC\n",
    "sorted_scores_te = np.array(bootstrapped_scores_te)\n",
    "sorted_scores_te.sort()\n",
    "\n",
    "conf_lower_te = sorted_scores_te[int(0.025 * len(sorted_scores_te))]\n",
    "conf_upper_te = sorted_scores_te[int(0.975 * len(sorted_scores_te))]\n",
    "\n",
    "standard_error_te = (conf_upper_te - conf_lower_te) / 3.92\n",
    "print('Test set AUC standard error:', standard_error_te)"
   ]
  },
  {
   "cell_type": "code",
   "execution_count": 114,
   "id": "de90bd94",
   "metadata": {},
   "outputs": [],
   "source": [
    "# Bootstrap 10000 2-yr AUCs for train set \n",
    "n_bootstraps = 10000\n",
    "rng_seed = 42 \n",
    "bootstrapped_scores_tr = []\n",
    "\n",
    "rng = np.random.RandomState(rng_seed)\n",
    "for i in range(n_bootstraps):\n",
    "    indices = rng.randint(0, len(ridge_risk_scores_tr), len(ridge_risk_scores_tr))\n",
    "    auc_yr = cumulative_dynamic_auc(train_y, train_y[indices], ridge_risk_scores_tr[indices], 730)[0][0]\n",
    "    bootstrapped_scores_tr.append(auc_yr)"
   ]
  },
  {
   "cell_type": "code",
   "execution_count": 115,
   "id": "739501cd",
   "metadata": {},
   "outputs": [
    {
     "name": "stdout",
     "output_type": "stream",
     "text": [
      "Training set AUC standard error 0.0033403320733087073\n"
     ]
    }
   ],
   "source": [
    "# Standard error of mean for train set AUC\n",
    "sorted_scores_tr = np.array(bootstrapped_scores_tr)\n",
    "sorted_scores_tr.sort()\n",
    "\n",
    "conf_lower_tr = sorted_scores_tr[int(0.025 * len(sorted_scores_tr))]\n",
    "conf_upper_tr = sorted_scores_tr[int(0.975 * len(sorted_scores_tr))]\n",
    "\n",
    "standard_error_tr = (conf_upper_tr - conf_lower_tr) / 3.92\n",
    "print('Training set AUC standard error', standard_error_tr)"
   ]
  },
  {
   "cell_type": "code",
   "execution_count": 116,
   "id": "83852b3d",
   "metadata": {},
   "outputs": [],
   "source": [
    "crude_auc_data = {'model': 'ridge_crude',\n",
    "                  'auc_2yr_te': ridge_auc_te,\n",
    "                  'sem_te': standard_error_te,\n",
    "                  'auc_2yr_tr': ridge_auc_tr,\n",
    "                  'sem_tr': standard_error_tr}"
   ]
  },
  {
   "cell_type": "code",
   "execution_count": 117,
   "id": "ef2222db",
   "metadata": {},
   "outputs": [],
   "source": [
    "crude_auc_df = pd.read_csv('crude_auc_df.csv')"
   ]
  },
  {
   "cell_type": "code",
   "execution_count": 118,
   "id": "ff03ca7c",
   "metadata": {},
   "outputs": [],
   "source": [
    "crude_auc_df = crude_auc_df.append(crude_auc_data, ignore_index = True)"
   ]
  },
  {
   "cell_type": "code",
   "execution_count": 119,
   "id": "59b75305",
   "metadata": {},
   "outputs": [
    {
     "data": {
      "text/html": [
       "<div>\n",
       "<style scoped>\n",
       "    .dataframe tbody tr th:only-of-type {\n",
       "        vertical-align: middle;\n",
       "    }\n",
       "\n",
       "    .dataframe tbody tr th {\n",
       "        vertical-align: top;\n",
       "    }\n",
       "\n",
       "    .dataframe thead th {\n",
       "        text-align: right;\n",
       "    }\n",
       "</style>\n",
       "<table border=\"1\" class=\"dataframe\">\n",
       "  <thead>\n",
       "    <tr style=\"text-align: right;\">\n",
       "      <th></th>\n",
       "      <th>model</th>\n",
       "      <th>auc_2yr_te</th>\n",
       "      <th>sem_te</th>\n",
       "      <th>auc_2yr_tr</th>\n",
       "      <th>sem_tr</th>\n",
       "    </tr>\n",
       "  </thead>\n",
       "  <tbody>\n",
       "    <tr>\n",
       "      <th>0</th>\n",
       "      <td>gbm_crude</td>\n",
       "      <td>0.814230</td>\n",
       "      <td>0.006072</td>\n",
       "      <td>0.850084</td>\n",
       "      <td>0.002805</td>\n",
       "    </tr>\n",
       "    <tr>\n",
       "      <th>1</th>\n",
       "      <td>rsf_crude</td>\n",
       "      <td>0.795440</td>\n",
       "      <td>0.006377</td>\n",
       "      <td>0.883202</td>\n",
       "      <td>0.002398</td>\n",
       "    </tr>\n",
       "    <tr>\n",
       "      <th>2</th>\n",
       "      <td>ridge_crude</td>\n",
       "      <td>0.782643</td>\n",
       "      <td>0.006584</td>\n",
       "      <td>0.784937</td>\n",
       "      <td>0.003340</td>\n",
       "    </tr>\n",
       "  </tbody>\n",
       "</table>\n",
       "</div>"
      ],
      "text/plain": [
       "         model  auc_2yr_te    sem_te  auc_2yr_tr    sem_tr\n",
       "0    gbm_crude    0.814230  0.006072    0.850084  0.002805\n",
       "1    rsf_crude    0.795440  0.006377    0.883202  0.002398\n",
       "2  ridge_crude    0.782643  0.006584    0.784937  0.003340"
      ]
     },
     "execution_count": 123,
     "metadata": {},
     "output_type": "execute_result"
    }
   ],
   "source": [
    "crude_auc_df"
   ]
  },
  {
   "cell_type": "code",
   "execution_count": 120,
   "id": "9585f326",
   "metadata": {},
   "outputs": [],
   "source": [
    "crude_auc_df.to_csv('crude_auc_df.csv', index = False, header = True)"
   ]
  },
  {
   "cell_type": "code",
   "execution_count": 121,
   "id": "203140be",
   "metadata": {},
   "outputs": [],
   "source": [
    "times = np.arange(30, 1810, 30)\n",
    "crude_ridge_auc_over5 = cumulative_dynamic_auc(train_y, test_y, ridge_risk_scores_te, times)[0]\n",
    "\n",
    "times_data = {}\n",
    "values = crude_ridge_auc_over5\n",
    "time_names = []\n",
    "\n",
    "for x in range(len(times)):\n",
    "    time_names.append('time_'+str(times[x]))\n",
    "\n",
    "for i in range(len(time_names)):\n",
    "    times_data[time_names[i]] = values[i]\n",
    "    \n",
    "crude_ridge_over5_df = pd.DataFrame(times_data, index = ['ridge_crude'])"
   ]
  },
  {
   "cell_type": "code",
   "execution_count": 122,
   "id": "9efff19e",
   "metadata": {},
   "outputs": [],
   "source": [
    "crude_auc_over5 = pd.read_csv('crude_auc_over5.csv', index_col = 0)"
   ]
  },
  {
   "cell_type": "code",
   "execution_count": 123,
   "id": "99cb28f2",
   "metadata": {},
   "outputs": [],
   "source": [
    "crude_auc_over5 = crude_auc_over5.append(crude_ridge_over5_df, ignore_index = False)"
   ]
  },
  {
   "cell_type": "code",
   "execution_count": 124,
   "id": "a7dccc6d",
   "metadata": {},
   "outputs": [
    {
     "data": {
      "text/html": [
       "<div>\n",
       "<style scoped>\n",
       "    .dataframe tbody tr th:only-of-type {\n",
       "        vertical-align: middle;\n",
       "    }\n",
       "\n",
       "    .dataframe tbody tr th {\n",
       "        vertical-align: top;\n",
       "    }\n",
       "\n",
       "    .dataframe thead th {\n",
       "        text-align: right;\n",
       "    }\n",
       "</style>\n",
       "<table border=\"1\" class=\"dataframe\">\n",
       "  <thead>\n",
       "    <tr style=\"text-align: right;\">\n",
       "      <th></th>\n",
       "      <th>time_30</th>\n",
       "      <th>time_60</th>\n",
       "      <th>time_90</th>\n",
       "      <th>time_120</th>\n",
       "      <th>time_150</th>\n",
       "      <th>time_180</th>\n",
       "      <th>time_210</th>\n",
       "      <th>time_240</th>\n",
       "      <th>time_270</th>\n",
       "      <th>time_300</th>\n",
       "      <th>...</th>\n",
       "      <th>time_1530</th>\n",
       "      <th>time_1560</th>\n",
       "      <th>time_1590</th>\n",
       "      <th>time_1620</th>\n",
       "      <th>time_1650</th>\n",
       "      <th>time_1680</th>\n",
       "      <th>time_1710</th>\n",
       "      <th>time_1740</th>\n",
       "      <th>time_1770</th>\n",
       "      <th>time_1800</th>\n",
       "    </tr>\n",
       "  </thead>\n",
       "  <tbody>\n",
       "    <tr>\n",
       "      <th>gbm_crude</th>\n",
       "      <td>0.873304</td>\n",
       "      <td>0.888984</td>\n",
       "      <td>0.867964</td>\n",
       "      <td>0.864796</td>\n",
       "      <td>0.861240</td>\n",
       "      <td>0.851446</td>\n",
       "      <td>0.852150</td>\n",
       "      <td>0.850231</td>\n",
       "      <td>0.849392</td>\n",
       "      <td>0.847236</td>\n",
       "      <td>...</td>\n",
       "      <td>0.777148</td>\n",
       "      <td>0.774056</td>\n",
       "      <td>0.775649</td>\n",
       "      <td>0.775367</td>\n",
       "      <td>0.773297</td>\n",
       "      <td>0.773237</td>\n",
       "      <td>0.772034</td>\n",
       "      <td>0.770778</td>\n",
       "      <td>0.771211</td>\n",
       "      <td>0.770631</td>\n",
       "    </tr>\n",
       "    <tr>\n",
       "      <th>rsf_crude</th>\n",
       "      <td>0.872494</td>\n",
       "      <td>0.878457</td>\n",
       "      <td>0.850630</td>\n",
       "      <td>0.844724</td>\n",
       "      <td>0.840922</td>\n",
       "      <td>0.831971</td>\n",
       "      <td>0.831404</td>\n",
       "      <td>0.828014</td>\n",
       "      <td>0.827749</td>\n",
       "      <td>0.826762</td>\n",
       "      <td>...</td>\n",
       "      <td>0.761893</td>\n",
       "      <td>0.757587</td>\n",
       "      <td>0.759615</td>\n",
       "      <td>0.758983</td>\n",
       "      <td>0.756183</td>\n",
       "      <td>0.755631</td>\n",
       "      <td>0.755043</td>\n",
       "      <td>0.754491</td>\n",
       "      <td>0.754104</td>\n",
       "      <td>0.753775</td>\n",
       "    </tr>\n",
       "    <tr>\n",
       "      <th>ridge_crude</th>\n",
       "      <td>0.855335</td>\n",
       "      <td>0.856749</td>\n",
       "      <td>0.837823</td>\n",
       "      <td>0.828204</td>\n",
       "      <td>0.823431</td>\n",
       "      <td>0.812694</td>\n",
       "      <td>0.812031</td>\n",
       "      <td>0.811284</td>\n",
       "      <td>0.812569</td>\n",
       "      <td>0.809599</td>\n",
       "      <td>...</td>\n",
       "      <td>0.754126</td>\n",
       "      <td>0.752117</td>\n",
       "      <td>0.753650</td>\n",
       "      <td>0.755019</td>\n",
       "      <td>0.753970</td>\n",
       "      <td>0.751410</td>\n",
       "      <td>0.750400</td>\n",
       "      <td>0.748705</td>\n",
       "      <td>0.749554</td>\n",
       "      <td>0.750416</td>\n",
       "    </tr>\n",
       "  </tbody>\n",
       "</table>\n",
       "<p>3 rows × 60 columns</p>\n",
       "</div>"
      ],
      "text/plain": [
       "              time_30   time_60   time_90  time_120  time_150  time_180  \\\n",
       "gbm_crude    0.873304  0.888984  0.867964  0.864796  0.861240  0.851446   \n",
       "rsf_crude    0.872494  0.878457  0.850630  0.844724  0.840922  0.831971   \n",
       "ridge_crude  0.855335  0.856749  0.837823  0.828204  0.823431  0.812694   \n",
       "\n",
       "             time_210  time_240  time_270  time_300  ...  time_1530  \\\n",
       "gbm_crude    0.852150  0.850231  0.849392  0.847236  ...   0.777148   \n",
       "rsf_crude    0.831404  0.828014  0.827749  0.826762  ...   0.761893   \n",
       "ridge_crude  0.812031  0.811284  0.812569  0.809599  ...   0.754126   \n",
       "\n",
       "             time_1560  time_1590  time_1620  time_1650  time_1680  time_1710  \\\n",
       "gbm_crude     0.774056   0.775649   0.775367   0.773297   0.773237   0.772034   \n",
       "rsf_crude     0.757587   0.759615   0.758983   0.756183   0.755631   0.755043   \n",
       "ridge_crude   0.752117   0.753650   0.755019   0.753970   0.751410   0.750400   \n",
       "\n",
       "             time_1740  time_1770  time_1800  \n",
       "gbm_crude     0.770778   0.771211   0.770631  \n",
       "rsf_crude     0.754491   0.754104   0.753775  \n",
       "ridge_crude   0.748705   0.749554   0.750416  \n",
       "\n",
       "[3 rows x 60 columns]"
      ]
     },
     "execution_count": 128,
     "metadata": {},
     "output_type": "execute_result"
    }
   ],
   "source": [
    "crude_auc_over5"
   ]
  },
  {
   "cell_type": "code",
   "execution_count": 125,
   "id": "6c52ac74",
   "metadata": {},
   "outputs": [],
   "source": [
    "crude_auc_over5.to_csv('crude_auc_over5.csv', index = True, header = True)"
   ]
  },
  {
   "cell_type": "code",
   "execution_count": 126,
   "id": "27876eb7",
   "metadata": {},
   "outputs": [],
   "source": [
    "# Variables passing through pipeline\n",
    "cat_encoder = list(preprocessor_red.transformers_[1][1].get_feature_names(categorical_features))\n",
    "pass_through = list(train_x_red.iloc[:, preprocessor_red.transformers_[2][2]].columns)\n",
    "attributes = numerical_features_red + cat_encoder + pass_through"
   ]
  },
  {
   "cell_type": "code",
   "execution_count": 127,
   "id": "dcbc11f7",
   "metadata": {},
   "outputs": [
    {
     "name": "stdout",
     "output_type": "stream",
     "text": [
      "Total number of features: 168\n",
      "Number of non-zero features in final model: 168\n"
     ]
    },
    {
     "data": {
      "image/png": "[encoded data removed]",
      "text/plain": [
       "<Figure size 600x800 with 1 Axes>"
      ]
     },
     "metadata": {},
     "output_type": "display_data"
    }
   ],
   "source": [
    "# Dataframe of coefficients for each variable \n",
    "coefficients_ridge = pd.DataFrame(\n",
    "    ridge.named_steps['coxphsurvivalanalysis'].coef_,\n",
    "    index = attributes,\n",
    "    columns = ['coefficient']\n",
    ")\n",
    "\n",
    "print('Total number of features: {}'.format(len(attributes)))\n",
    "\n",
    "non_zero = np.sum(coefficients_ridge.iloc[:, 0] != 0)\n",
    "print('Number of non-zero features in final model: {}'.format(non_zero))\n",
    "\n",
    "non_zero_coefs = coefficients_ridge.query('coefficient != 0')\n",
    "coef_order = non_zero_coefs.abs().sort_values('coefficient').tail(30).index\n",
    "\n",
    "_, ax = plt.subplots(figsize=(6, 8))\n",
    "non_zero_coefs.loc[coef_order].plot.barh(ax = ax, legend = False)\n",
    "ax.set_xlabel('coefficient')\n",
    "ax.grid(True)"
   ]
  },
  {
   "cell_type": "markdown",
   "id": "d74ef95b",
   "metadata": {},
   "source": [
    "### 4.2 LASSO"
   ]
  },
  {
   "cell_type": "code",
   "execution_count": 128,
   "id": "149991ef",
   "metadata": {},
   "outputs": [
    {
     "data": {
      "text/plain": [
       "Pipeline(steps=[('columntransformer',\n",
       "                 ColumnTransformer(remainder='passthrough',\n",
       "                                   transformers=[('num',\n",
       "                                                  Pipeline(steps=[('imputer',\n",
       "                                                                   SimpleImputer(strategy='median')),\n",
       "                                                                  ('std_scaler',\n",
       "                                                                   StandardScaler())]),\n",
       "                                                  ['age', 'delta_met_diagnosis',\n",
       "                                                   'weight_diag', 'bmi_diag',\n",
       "                                                   'weight_pct_change',\n",
       "                                                   'weight_slope',\n",
       "                                                   'albumin_diag', 'alp_diag',\n",
       "                                                   'alt_diag', 'ast_diag',\n",
       "                                                   'bicarb_diag', 'bun...\n",
       "                                                   'wbc_diag', 'alp_max',\n",
       "                                                   'alt_max', 'ast_max',\n",
       "                                                   'calcium_max',\n",
       "                                                   'creatinine_max',\n",
       "                                                   'total_bilirubin_max',\n",
       "                                                   'wbc_max', 'albumin_min', ...]),\n",
       "                                                 ('cat',\n",
       "                                                  OneHotEncoder(handle_unknown='ignore'),\n",
       "                                                  ['gender', 'p_type', 'stage',\n",
       "                                                   'met_year', 'ER', 'HER2',\n",
       "                                                   'PR', 'BRCA', 'PIK3CA',\n",
       "                                                   'pdl1_n',\n",
       "                                                   'ecog_diagnosis'])])),\n",
       "                ('coxnetsurvivalanalysis',\n",
       "                 CoxnetSurvivalAnalysis(alpha_min_ratio=0.0001, l1_ratio=1.0))])"
      ]
     },
     "execution_count": 132,
     "metadata": {},
     "output_type": "execute_result"
    }
   ],
   "source": [
    "lasso = make_pipeline(preprocessor_red, CoxnetSurvivalAnalysis(l1_ratio = 1.0, alpha_min_ratio = 0.0001))\n",
    "\n",
    "lasso.fit(train_x_red, train_y)"
   ]
  },
  {
   "cell_type": "code",
   "execution_count": 129,
   "id": "404be88f",
   "metadata": {},
   "outputs": [],
   "source": [
    "estimated_alphas = lasso.named_steps['coxnetsurvivalanalysis'].alphas_"
   ]
  },
  {
   "cell_type": "code",
   "execution_count": 130,
   "id": "5fcd608b",
   "metadata": {},
   "outputs": [
    {
     "data": {
      "text/plain": [
       "array([1.52830631e-01, 1.39253579e-01, 1.26882675e-01, 1.15610768e-01,\n",
       "       1.05340226e-01, 9.59820902e-02, 8.74553059e-02, 7.96860175e-02,\n",
       "       7.26069314e-02, 6.61567317e-02, 6.02795500e-02, 5.49244809e-02,\n",
       "       5.00451414e-02, 4.55992690e-02, 4.15483556e-02, 3.78573142e-02,\n",
       "       3.44941747e-02, 3.14298073e-02, 2.86376699e-02, 2.60935782e-02,\n",
       "       2.37754966e-02, 2.16633470e-02, 1.97388350e-02, 1.79852913e-02,\n",
       "       1.63875276e-02, 1.49317048e-02, 1.36052133e-02, 1.23965637e-02,\n",
       "       1.12952871e-02, 1.02918449e-02, 9.37754579e-03, 8.54447047e-03,\n",
       "       7.78540326e-03, 7.09376949e-03, 6.46357856e-03, 5.88937206e-03,\n",
       "       5.36617647e-03, 4.88946015e-03, 4.45509398e-03, 4.05931571e-03,\n",
       "       3.69869729e-03, 3.37011522e-03, 3.07072347e-03, 2.79792886e-03,\n",
       "       2.54936857e-03, 2.32288970e-03, 2.11653058e-03, 1.92850383e-03,\n",
       "       1.75718087e-03, 1.60107776e-03, 1.45884243e-03, 1.32924289e-03,\n",
       "       1.21115661e-03, 1.10356080e-03, 1.00552350e-03, 9.16195561e-04,\n",
       "       8.34803273e-04, 7.60641651e-04, 6.93068343e-04, 6.31498061e-04,\n",
       "       5.75397514e-04, 5.24280785e-04, 4.77705125e-04, 4.35267118e-04,\n",
       "       3.96599187e-04, 3.61366408e-04, 3.29263613e-04, 3.00012741e-04,\n",
       "       2.73360436e-04, 2.49075848e-04, 2.26948636e-04, 2.06787145e-04,\n",
       "       1.88416745e-04, 1.71678321e-04, 1.56426892e-04, 1.42530358e-04,\n",
       "       1.29868354e-04, 1.18331207e-04, 1.07818989e-04])"
      ]
     },
     "execution_count": 134,
     "metadata": {},
     "output_type": "execute_result"
    }
   ],
   "source": [
    "estimated_alphas"
   ]
  },
  {
   "cell_type": "code",
   "execution_count": 131,
   "id": "0a0034a4",
   "metadata": {},
   "outputs": [
    {
     "name": "stderr",
     "output_type": "stream",
     "text": [
      "/Users/xavierorcutt/Dropbox/ist_project/myenv/lib/python3.7/site-packages/sklearn/pipeline.py:394: UserWarning: all coefficients are zero, consider decreasing alpha.\n",
      "  self._final_estimator.fit(Xt, y, **fit_params_last_step)\n"
     ]
    },
    {
     "data": {
      "text/plain": [
       "GridSearchCV(cv=StratifiedKFold(n_splits=5, random_state=42, shuffle=True),\n",
       "             error_score=0.5,\n",
       "             estimator=as_cumulative_dynamic_auc_scorer(estimator=Pipeline(steps=[('columntransformer',\n",
       "                                                                                   ColumnTransformer(remainder='passthrough',\n",
       "                                                                                                     transformers=[('num',\n",
       "                                                                                                                    Pipeline(steps=[('imputer',\n",
       "                                                                                                                                     SimpleImputer(strategy='median')),\n",
       "                                                                                                                                    ('std_scaler',\n",
       "                                                                                                                                     StandardScaler())]),\n",
       "                                                                                                                    ['age',\n",
       "                                                                                                                     'delta...\n",
       "                                                                       [0.037857314193935794],\n",
       "                                                                       [0.03449417474007657],\n",
       "                                                                       [0.03142980732609746],\n",
       "                                                                       [0.028637669867425757],\n",
       "                                                                       [0.02609357820512915],\n",
       "                                                                       [0.023775496634300536],\n",
       "                                                                       [0.021663347041323815],\n",
       "                                                                       [0.019738834996858936],\n",
       "                                                                       [0.01798529129824686],\n",
       "                                                                       [0.016387527588850537],\n",
       "                                                                       [0.014931704803775673],\n",
       "                                                                       [0.013605213302511132],\n",
       "                                                                       [0.012396563650255162],\n",
       "                                                                       [0.011295287101927584],\n",
       "                                                                       [0.010291844926908074], ...]},\n",
       "             refit=False)"
      ]
     },
     "execution_count": 135,
     "metadata": {},
     "output_type": "execute_result"
    }
   ],
   "source": [
    "pipe = make_pipeline(preprocessor_red, CoxnetSurvivalAnalysis(l1_ratio = 1.0, max_iter = 100000))\n",
    "\n",
    "# 5 fold cross-validation\n",
    "cv = StratifiedKFold(n_splits = 5, shuffle = True, random_state = 42)\n",
    "\n",
    "# Parameter gird \n",
    "param_grid = {'estimator__coxnetsurvivalanalysis__alphas': [[x] for x in estimated_alphas]}\n",
    "\n",
    "lasso_search = GridSearchCV(\n",
    "    as_cumulative_dynamic_auc_scorer(pipe, 730),\n",
    "    param_grid = param_grid,\n",
    "    cv = cv,\n",
    "    error_score = 0.5,\n",
    "    n_jobs = -1,\n",
    "    refit = False)\n",
    "\n",
    "# Run search \n",
    "warnings.filterwarnings('ignore')\n",
    "lasso_search.fit(train_x_red, train_y)"
   ]
  },
  {
   "cell_type": "code",
   "execution_count": 132,
   "id": "2515ac60",
   "metadata": {},
   "outputs": [
    {
     "data": {
      "text/plain": [
       "{'estimator__coxnetsurvivalanalysis__alphas': [0.0007606416506693003]}"
      ]
     },
     "execution_count": 136,
     "metadata": {},
     "output_type": "execute_result"
    }
   ],
   "source": [
    "lasso_search.best_params_"
   ]
  },
  {
   "cell_type": "code",
   "execution_count": 133,
   "id": "d01e3a7b",
   "metadata": {},
   "outputs": [],
   "source": [
    "best_lasso_alpha = lasso_search.best_params_.get('estimator__coxnetsurvivalanalysis__alphas')"
   ]
  },
  {
   "cell_type": "code",
   "execution_count": 134,
   "id": "5b6dfee3",
   "metadata": {},
   "outputs": [
    {
     "data": {
      "text/plain": [
       "Pipeline(steps=[('columntransformer',\n",
       "                 ColumnTransformer(remainder='passthrough',\n",
       "                                   transformers=[('num',\n",
       "                                                  Pipeline(steps=[('imputer',\n",
       "                                                                   SimpleImputer(strategy='median')),\n",
       "                                                                  ('std_scaler',\n",
       "                                                                   StandardScaler())]),\n",
       "                                                  ['age', 'delta_met_diagnosis',\n",
       "                                                   'weight_diag', 'bmi_diag',\n",
       "                                                   'weight_pct_change',\n",
       "                                                   'weight_slope',\n",
       "                                                   'albumin_diag', 'alp_diag',\n",
       "                                                   'alt_diag', 'ast_diag',\n",
       "                                                   'bicarb_diag', 'bun...\n",
       "                                                   'wbc_diag', 'alp_max',\n",
       "                                                   'alt_max', 'ast_max',\n",
       "                                                   'calcium_max',\n",
       "                                                   'creatinine_max',\n",
       "                                                   'total_bilirubin_max',\n",
       "                                                   'wbc_max', 'albumin_min', ...]),\n",
       "                                                 ('cat',\n",
       "                                                  OneHotEncoder(handle_unknown='ignore'),\n",
       "                                                  ['gender', 'p_type', 'stage',\n",
       "                                                   'met_year', 'ER', 'HER2',\n",
       "                                                   'PR', 'BRCA', 'PIK3CA',\n",
       "                                                   'pdl1_n',\n",
       "                                                   'ecog_diagnosis'])])),\n",
       "                ('coxnetsurvivalanalysis',\n",
       "                 CoxnetSurvivalAnalysis(alphas=[0.0007606416506693003],\n",
       "                                        l1_ratio=1.0))])"
      ]
     },
     "execution_count": 138,
     "metadata": {},
     "output_type": "execute_result"
    }
   ],
   "source": [
    "lasso = make_pipeline(preprocessor_red, CoxnetSurvivalAnalysis(l1_ratio = 1.0, \n",
    "                                                               alphas = best_lasso_alpha,\n",
    "                                                               max_iter = 100000))\n",
    "\n",
    "lasso.fit(train_x_red, train_y)"
   ]
  },
  {
   "cell_type": "code",
   "execution_count": 135,
   "id": "4b31b718",
   "metadata": {},
   "outputs": [
    {
     "name": "stdout",
     "output_type": "stream",
     "text": [
      "Test set AUC at 2 years: 0.7833863008006502\n"
     ]
    }
   ],
   "source": [
    "lasso_risk_scores_te = lasso.predict(test_x_red)\n",
    "lasso_auc_te = cumulative_dynamic_auc(train_y, test_y, lasso_risk_scores_te, 730)[0][0]\n",
    "print('Test set AUC at 2 years:', lasso_auc_te)"
   ]
  },
  {
   "cell_type": "code",
   "execution_count": 136,
   "id": "8fa276c1",
   "metadata": {},
   "outputs": [
    {
     "name": "stdout",
     "output_type": "stream",
     "text": [
      "Training set AUC at 2 years: 0.7855514739085949\n"
     ]
    }
   ],
   "source": [
    "lasso_risk_scores_tr = lasso.predict(train_x_red)\n",
    "lasso_auc_tr = cumulative_dynamic_auc(train_y, train_y, lasso_risk_scores_tr, 730)[0][0]\n",
    "print('Training set AUC at 2 years:', lasso_auc_tr)"
   ]
  },
  {
   "cell_type": "code",
   "execution_count": 137,
   "id": "0cf5fc43",
   "metadata": {},
   "outputs": [],
   "source": [
    "# Bootstrap 10000 2-yr AUCs for test set \n",
    "n_bootstraps = 10000\n",
    "rng_seed = 42 \n",
    "bootstrapped_scores_te = []\n",
    "\n",
    "rng = np.random.RandomState(rng_seed)\n",
    "for i in range(n_bootstraps):\n",
    "    indices = rng.randint(0, len(lasso_risk_scores_te), len(lasso_risk_scores_te))\n",
    "    auc_yr = cumulative_dynamic_auc(train_y, test_y[indices], lasso_risk_scores_te[indices], 730)[0][0]\n",
    "    bootstrapped_scores_te.append(auc_yr)"
   ]
  },
  {
   "cell_type": "code",
   "execution_count": 138,
   "id": "a51f9c10",
   "metadata": {},
   "outputs": [
    {
     "name": "stdout",
     "output_type": "stream",
     "text": [
      "Test set AUC standard error: 0.006583184699549957\n"
     ]
    }
   ],
   "source": [
    "# Standard error of mean for test set AUC\n",
    "sorted_scores_te = np.array(bootstrapped_scores_te)\n",
    "sorted_scores_te.sort()\n",
    "\n",
    "conf_lower_te = sorted_scores_te[int(0.025 * len(sorted_scores_te))]\n",
    "conf_upper_te = sorted_scores_te[int(0.975 * len(sorted_scores_te))]\n",
    "\n",
    "standard_error_te = (conf_upper_te - conf_lower_te) / 3.92\n",
    "print('Test set AUC standard error:', standard_error_te)"
   ]
  },
  {
   "cell_type": "code",
   "execution_count": 139,
   "id": "31a6ae22",
   "metadata": {},
   "outputs": [
    {
     "name": "stderr",
     "output_type": "stream",
     "text": [
      "/Users/xavierorcutt/Dropbox/ist_project/myenv/lib/python3.7/site-packages/sklearn/pipeline.py:394: UserWarning: all coefficients are zero, consider decreasing alpha.\n",
      "  self._final_estimator.fit(Xt, y, **fit_params_last_step)\n"
     ]
    }
   ],
   "source": [
    "# Bootstrap 10000 3-yr AUCs for train set \n",
    "n_bootstraps = 10000\n",
    "rng_seed = 42 \n",
    "bootstrapped_scores_tr = []\n",
    "\n",
    "rng = np.random.RandomState(rng_seed)\n",
    "for i in range(n_bootstraps):\n",
    "    indices = rng.randint(0, len(lasso_risk_scores_tr), len(lasso_risk_scores_tr))\n",
    "    auc_yr = cumulative_dynamic_auc(train_y, train_y[indices], lasso_risk_scores_tr[indices], 730)[0][0]\n",
    "    bootstrapped_scores_tr.append(auc_yr)"
   ]
  },
  {
   "cell_type": "code",
   "execution_count": 140,
   "id": "c4d25bed",
   "metadata": {},
   "outputs": [
    {
     "name": "stdout",
     "output_type": "stream",
     "text": [
      "Training set AUC standard error 0.0033481097446030157\n"
     ]
    }
   ],
   "source": [
    "# Standard error of mean for train set AUC\n",
    "sorted_scores_tr = np.array(bootstrapped_scores_tr)\n",
    "sorted_scores_tr.sort()\n",
    "\n",
    "conf_lower_tr = sorted_scores_tr[int(0.025 * len(sorted_scores_tr))]\n",
    "conf_upper_tr = sorted_scores_tr[int(0.975 * len(sorted_scores_tr))]\n",
    "\n",
    "standard_error_tr = (conf_upper_tr - conf_lower_tr) / 3.92\n",
    "print('Training set AUC standard error', standard_error_tr)"
   ]
  },
  {
   "cell_type": "code",
   "execution_count": 141,
   "id": "d3ca8a12",
   "metadata": {},
   "outputs": [],
   "source": [
    "crude_auc_data = {'model': 'lasso_crude',\n",
    "                  'auc_2yr_te': lasso_auc_te,\n",
    "                  'sem_te': standard_error_te,\n",
    "                  'auc_2yr_tr': lasso_auc_tr,\n",
    "                  'sem_tr': standard_error_tr}"
   ]
  },
  {
   "cell_type": "code",
   "execution_count": 142,
   "id": "6f82f876",
   "metadata": {},
   "outputs": [],
   "source": [
    "crude_auc_df = pd.read_csv('crude_auc_df.csv')"
   ]
  },
  {
   "cell_type": "code",
   "execution_count": 143,
   "id": "9437a337",
   "metadata": {},
   "outputs": [],
   "source": [
    "crude_auc_df = crude_auc_df.append(crude_auc_data, ignore_index = True)"
   ]
  },
  {
   "cell_type": "code",
   "execution_count": 144,
   "id": "11fcb452",
   "metadata": {},
   "outputs": [
    {
     "data": {
      "text/html": [
       "<div>\n",
       "<style scoped>\n",
       "    .dataframe tbody tr th:only-of-type {\n",
       "        vertical-align: middle;\n",
       "    }\n",
       "\n",
       "    .dataframe tbody tr th {\n",
       "        vertical-align: top;\n",
       "    }\n",
       "\n",
       "    .dataframe thead th {\n",
       "        text-align: right;\n",
       "    }\n",
       "</style>\n",
       "<table border=\"1\" class=\"dataframe\">\n",
       "  <thead>\n",
       "    <tr style=\"text-align: right;\">\n",
       "      <th></th>\n",
       "      <th>model</th>\n",
       "      <th>auc_2yr_te</th>\n",
       "      <th>sem_te</th>\n",
       "      <th>auc_2yr_tr</th>\n",
       "      <th>sem_tr</th>\n",
       "    </tr>\n",
       "  </thead>\n",
       "  <tbody>\n",
       "    <tr>\n",
       "      <th>0</th>\n",
       "      <td>gbm_crude</td>\n",
       "      <td>0.814230</td>\n",
       "      <td>0.006072</td>\n",
       "      <td>0.850084</td>\n",
       "      <td>0.002805</td>\n",
       "    </tr>\n",
       "    <tr>\n",
       "      <th>1</th>\n",
       "      <td>rsf_crude</td>\n",
       "      <td>0.795440</td>\n",
       "      <td>0.006377</td>\n",
       "      <td>0.883202</td>\n",
       "      <td>0.002398</td>\n",
       "    </tr>\n",
       "    <tr>\n",
       "      <th>2</th>\n",
       "      <td>ridge_crude</td>\n",
       "      <td>0.782643</td>\n",
       "      <td>0.006584</td>\n",
       "      <td>0.784937</td>\n",
       "      <td>0.003340</td>\n",
       "    </tr>\n",
       "    <tr>\n",
       "      <th>3</th>\n",
       "      <td>lasso_crude</td>\n",
       "      <td>0.783386</td>\n",
       "      <td>0.006583</td>\n",
       "      <td>0.785551</td>\n",
       "      <td>0.003348</td>\n",
       "    </tr>\n",
       "  </tbody>\n",
       "</table>\n",
       "</div>"
      ],
      "text/plain": [
       "         model  auc_2yr_te    sem_te  auc_2yr_tr    sem_tr\n",
       "0    gbm_crude    0.814230  0.006072    0.850084  0.002805\n",
       "1    rsf_crude    0.795440  0.006377    0.883202  0.002398\n",
       "2  ridge_crude    0.782643  0.006584    0.784937  0.003340\n",
       "3  lasso_crude    0.783386  0.006583    0.785551  0.003348"
      ]
     },
     "execution_count": 148,
     "metadata": {},
     "output_type": "execute_result"
    }
   ],
   "source": [
    "crude_auc_df"
   ]
  },
  {
   "cell_type": "code",
   "execution_count": 145,
   "id": "92b603a5",
   "metadata": {},
   "outputs": [],
   "source": [
    "crude_auc_df.to_csv('crude_auc_df.csv', index = False, header = True)"
   ]
  },
  {
   "cell_type": "code",
   "execution_count": 146,
   "id": "2dfc9aa1",
   "metadata": {},
   "outputs": [],
   "source": [
    "times = np.arange(30, 1810, 30)\n",
    "crude_lasso_auc_over5 = cumulative_dynamic_auc(train_y, test_y, lasso_risk_scores_te, times)[0]\n",
    "\n",
    "times_data = {}\n",
    "values = crude_lasso_auc_over5\n",
    "time_names = []\n",
    "\n",
    "for x in range(len(times)):\n",
    "    time_names.append('time_'+str(times[x]))\n",
    "\n",
    "for i in range(len(time_names)):\n",
    "    times_data[time_names[i]] = values[i]\n",
    "    \n",
    "crude_lasso_over5_df = pd.DataFrame(times_data, index = ['lasso_crude'])"
   ]
  },
  {
   "cell_type": "code",
   "execution_count": 147,
   "id": "70b07223",
   "metadata": {},
   "outputs": [],
   "source": [
    "crude_auc_over5 = pd.read_csv('crude_auc_over5.csv', index_col = 0)"
   ]
  },
  {
   "cell_type": "code",
   "execution_count": 148,
   "id": "6587f38c",
   "metadata": {},
   "outputs": [],
   "source": [
    "crude_auc_over5 = crude_auc_over5.append(crude_lasso_over5_df, ignore_index = False)"
   ]
  },
  {
   "cell_type": "code",
   "execution_count": 149,
   "id": "1838b2ab",
   "metadata": {},
   "outputs": [
    {
     "data": {
      "text/html": [
       "<div>\n",
       "<style scoped>\n",
       "    .dataframe tbody tr th:only-of-type {\n",
       "        vertical-align: middle;\n",
       "    }\n",
       "\n",
       "    .dataframe tbody tr th {\n",
       "        vertical-align: top;\n",
       "    }\n",
       "\n",
       "    .dataframe thead th {\n",
       "        text-align: right;\n",
       "    }\n",
       "</style>\n",
       "<table border=\"1\" class=\"dataframe\">\n",
       "  <thead>\n",
       "    <tr style=\"text-align: right;\">\n",
       "      <th></th>\n",
       "      <th>time_30</th>\n",
       "      <th>time_60</th>\n",
       "      <th>time_90</th>\n",
       "      <th>time_120</th>\n",
       "      <th>time_150</th>\n",
       "      <th>time_180</th>\n",
       "      <th>time_210</th>\n",
       "      <th>time_240</th>\n",
       "      <th>time_270</th>\n",
       "      <th>time_300</th>\n",
       "      <th>...</th>\n",
       "      <th>time_1530</th>\n",
       "      <th>time_1560</th>\n",
       "      <th>time_1590</th>\n",
       "      <th>time_1620</th>\n",
       "      <th>time_1650</th>\n",
       "      <th>time_1680</th>\n",
       "      <th>time_1710</th>\n",
       "      <th>time_1740</th>\n",
       "      <th>time_1770</th>\n",
       "      <th>time_1800</th>\n",
       "    </tr>\n",
       "  </thead>\n",
       "  <tbody>\n",
       "    <tr>\n",
       "      <th>gbm_crude</th>\n",
       "      <td>0.873304</td>\n",
       "      <td>0.888984</td>\n",
       "      <td>0.867964</td>\n",
       "      <td>0.864796</td>\n",
       "      <td>0.861240</td>\n",
       "      <td>0.851446</td>\n",
       "      <td>0.852150</td>\n",
       "      <td>0.850231</td>\n",
       "      <td>0.849392</td>\n",
       "      <td>0.847236</td>\n",
       "      <td>...</td>\n",
       "      <td>0.777148</td>\n",
       "      <td>0.774056</td>\n",
       "      <td>0.775649</td>\n",
       "      <td>0.775367</td>\n",
       "      <td>0.773297</td>\n",
       "      <td>0.773237</td>\n",
       "      <td>0.772034</td>\n",
       "      <td>0.770778</td>\n",
       "      <td>0.771211</td>\n",
       "      <td>0.770631</td>\n",
       "    </tr>\n",
       "    <tr>\n",
       "      <th>rsf_crude</th>\n",
       "      <td>0.872494</td>\n",
       "      <td>0.878457</td>\n",
       "      <td>0.850630</td>\n",
       "      <td>0.844724</td>\n",
       "      <td>0.840922</td>\n",
       "      <td>0.831971</td>\n",
       "      <td>0.831404</td>\n",
       "      <td>0.828014</td>\n",
       "      <td>0.827749</td>\n",
       "      <td>0.826762</td>\n",
       "      <td>...</td>\n",
       "      <td>0.761893</td>\n",
       "      <td>0.757587</td>\n",
       "      <td>0.759615</td>\n",
       "      <td>0.758983</td>\n",
       "      <td>0.756183</td>\n",
       "      <td>0.755631</td>\n",
       "      <td>0.755043</td>\n",
       "      <td>0.754491</td>\n",
       "      <td>0.754104</td>\n",
       "      <td>0.753775</td>\n",
       "    </tr>\n",
       "    <tr>\n",
       "      <th>ridge_crude</th>\n",
       "      <td>0.855335</td>\n",
       "      <td>0.856749</td>\n",
       "      <td>0.837823</td>\n",
       "      <td>0.828204</td>\n",
       "      <td>0.823431</td>\n",
       "      <td>0.812694</td>\n",
       "      <td>0.812031</td>\n",
       "      <td>0.811284</td>\n",
       "      <td>0.812569</td>\n",
       "      <td>0.809599</td>\n",
       "      <td>...</td>\n",
       "      <td>0.754126</td>\n",
       "      <td>0.752117</td>\n",
       "      <td>0.753650</td>\n",
       "      <td>0.755019</td>\n",
       "      <td>0.753970</td>\n",
       "      <td>0.751410</td>\n",
       "      <td>0.750400</td>\n",
       "      <td>0.748705</td>\n",
       "      <td>0.749554</td>\n",
       "      <td>0.750416</td>\n",
       "    </tr>\n",
       "    <tr>\n",
       "      <th>lasso_crude</th>\n",
       "      <td>0.852667</td>\n",
       "      <td>0.855843</td>\n",
       "      <td>0.836401</td>\n",
       "      <td>0.827503</td>\n",
       "      <td>0.823688</td>\n",
       "      <td>0.813346</td>\n",
       "      <td>0.813092</td>\n",
       "      <td>0.811690</td>\n",
       "      <td>0.813284</td>\n",
       "      <td>0.810701</td>\n",
       "      <td>...</td>\n",
       "      <td>0.753856</td>\n",
       "      <td>0.751792</td>\n",
       "      <td>0.753296</td>\n",
       "      <td>0.754496</td>\n",
       "      <td>0.753567</td>\n",
       "      <td>0.751013</td>\n",
       "      <td>0.749977</td>\n",
       "      <td>0.748455</td>\n",
       "      <td>0.749398</td>\n",
       "      <td>0.750194</td>\n",
       "    </tr>\n",
       "  </tbody>\n",
       "</table>\n",
       "<p>4 rows × 60 columns</p>\n",
       "</div>"
      ],
      "text/plain": [
       "              time_30   time_60   time_90  time_120  time_150  time_180  \\\n",
       "gbm_crude    0.873304  0.888984  0.867964  0.864796  0.861240  0.851446   \n",
       "rsf_crude    0.872494  0.878457  0.850630  0.844724  0.840922  0.831971   \n",
       "ridge_crude  0.855335  0.856749  0.837823  0.828204  0.823431  0.812694   \n",
       "lasso_crude  0.852667  0.855843  0.836401  0.827503  0.823688  0.813346   \n",
       "\n",
       "             time_210  time_240  time_270  time_300  ...  time_1530  \\\n",
       "gbm_crude    0.852150  0.850231  0.849392  0.847236  ...   0.777148   \n",
       "rsf_crude    0.831404  0.828014  0.827749  0.826762  ...   0.761893   \n",
       "ridge_crude  0.812031  0.811284  0.812569  0.809599  ...   0.754126   \n",
       "lasso_crude  0.813092  0.811690  0.813284  0.810701  ...   0.753856   \n",
       "\n",
       "             time_1560  time_1590  time_1620  time_1650  time_1680  time_1710  \\\n",
       "gbm_crude     0.774056   0.775649   0.775367   0.773297   0.773237   0.772034   \n",
       "rsf_crude     0.757587   0.759615   0.758983   0.756183   0.755631   0.755043   \n",
       "ridge_crude   0.752117   0.753650   0.755019   0.753970   0.751410   0.750400   \n",
       "lasso_crude   0.751792   0.753296   0.754496   0.753567   0.751013   0.749977   \n",
       "\n",
       "             time_1740  time_1770  time_1800  \n",
       "gbm_crude     0.770778   0.771211   0.770631  \n",
       "rsf_crude     0.754491   0.754104   0.753775  \n",
       "ridge_crude   0.748705   0.749554   0.750416  \n",
       "lasso_crude   0.748455   0.749398   0.750194  \n",
       "\n",
       "[4 rows x 60 columns]"
      ]
     },
     "execution_count": 153,
     "metadata": {},
     "output_type": "execute_result"
    }
   ],
   "source": [
    "crude_auc_over5"
   ]
  },
  {
   "cell_type": "code",
   "execution_count": 150,
   "id": "a405840b",
   "metadata": {},
   "outputs": [],
   "source": [
    "crude_auc_over5.to_csv('crude_auc_over5.csv', index = True, header = True)"
   ]
  },
  {
   "cell_type": "code",
   "execution_count": 151,
   "id": "7ef6e3fe",
   "metadata": {},
   "outputs": [],
   "source": [
    "# Variables passing through pipeline\n",
    "cat_encoder = list(preprocessor_red.transformers_[1][1].get_feature_names(categorical_features))\n",
    "pass_through = list(train_x_red.iloc[:, preprocessor_red.transformers_[2][2]].columns)\n",
    "attributes = numerical_features_red + cat_encoder + pass_through"
   ]
  },
  {
   "cell_type": "code",
   "execution_count": 152,
   "id": "a0d90b74",
   "metadata": {},
   "outputs": [
    {
     "name": "stdout",
     "output_type": "stream",
     "text": [
      "Total number of features: 168\n",
      "Number of non-zero features in final model: 100\n"
     ]
    },
    {
     "data": {
      "image/png": "[encoded data removed]",
      "text/plain": [
       "<Figure size 600x800 with 1 Axes>"
      ]
     },
     "metadata": {},
     "output_type": "display_data"
    }
   ],
   "source": [
    "# Dataframe of coefficients for each variable \n",
    "coefficients_lasso = pd.DataFrame(\n",
    "    lasso.named_steps['coxnetsurvivalanalysis'].coef_,\n",
    "    index = attributes,\n",
    "    columns = ['coefficient']\n",
    ")\n",
    "\n",
    "print('Total number of features: {}'.format(len(attributes)))\n",
    "\n",
    "non_zero = np.sum(coefficients_lasso.iloc[:, 0] != 0)\n",
    "print('Number of non-zero features in final model: {}'.format(non_zero))\n",
    "\n",
    "non_zero_coefs = coefficients_lasso.query('coefficient != 0')\n",
    "coef_order = non_zero_coefs.abs().sort_values('coefficient').tail(30).index\n",
    "\n",
    "_, ax = plt.subplots(figsize=(6, 8))\n",
    "non_zero_coefs.loc[coef_order].plot.barh(ax = ax, legend = False)\n",
    "ax.set_xlabel('coefficient')\n",
    "ax.grid(True)"
   ]
  },
  {
   "cell_type": "markdown",
   "id": "ddbe0b63",
   "metadata": {},
   "source": [
    "### 4.3 Elastic net "
   ]
  },
  {
   "cell_type": "code",
   "execution_count": 153,
   "id": "7cbb1a2e",
   "metadata": {},
   "outputs": [
    {
     "data": {
      "text/plain": [
       "Pipeline(steps=[('columntransformer',\n",
       "                 ColumnTransformer(remainder='passthrough',\n",
       "                                   transformers=[('num',\n",
       "                                                  Pipeline(steps=[('imputer',\n",
       "                                                                   SimpleImputer(strategy='median')),\n",
       "                                                                  ('std_scaler',\n",
       "                                                                   StandardScaler())]),\n",
       "                                                  ['age', 'delta_met_diagnosis',\n",
       "                                                   'weight_diag', 'bmi_diag',\n",
       "                                                   'weight_pct_change',\n",
       "                                                   'weight_slope',\n",
       "                                                   'albumin_diag', 'alp_diag',\n",
       "                                                   'alt_diag', 'ast_diag',\n",
       "                                                   'bicarb_diag', 'bun...\n",
       "                                                   'wbc_diag', 'alp_max',\n",
       "                                                   'alt_max', 'ast_max',\n",
       "                                                   'calcium_max',\n",
       "                                                   'creatinine_max',\n",
       "                                                   'total_bilirubin_max',\n",
       "                                                   'wbc_max', 'albumin_min', ...]),\n",
       "                                                 ('cat',\n",
       "                                                  OneHotEncoder(handle_unknown='ignore'),\n",
       "                                                  ['gender', 'p_type', 'stage',\n",
       "                                                   'met_year', 'ER', 'HER2',\n",
       "                                                   'PR', 'BRCA', 'PIK3CA',\n",
       "                                                   'pdl1_n',\n",
       "                                                   'ecog_diagnosis'])])),\n",
       "                ('coxnetsurvivalanalysis',\n",
       "                 CoxnetSurvivalAnalysis(alpha_min_ratio=0.0001, l1_ratio=0.8))])"
      ]
     },
     "execution_count": 157,
     "metadata": {},
     "output_type": "execute_result"
    }
   ],
   "source": [
    "enet = make_pipeline(preprocessor_red, CoxnetSurvivalAnalysis(l1_ratio = 0.8, alpha_min_ratio = 0.0001))\n",
    "\n",
    "enet.fit(train_x_red, train_y)"
   ]
  },
  {
   "cell_type": "code",
   "execution_count": 154,
   "id": "52a79434",
   "metadata": {},
   "outputs": [
    {
     "data": {
      "text/plain": [
       "array([1.91038288e-01, 1.74066973e-01, 1.58603343e-01, 1.44513459e-01,\n",
       "       1.31675282e-01, 1.19977613e-01, 1.09319132e-01, 9.96075219e-02,\n",
       "       9.07586642e-02, 8.26959146e-02, 7.53494375e-02, 6.86556011e-02,\n",
       "       6.25564268e-02, 5.69990862e-02, 5.19354445e-02, 4.73216427e-02,\n",
       "       4.31177184e-02, 3.92872592e-02, 3.57970873e-02, 3.26169728e-02,\n",
       "       2.97193708e-02, 2.70791838e-02, 2.46735437e-02, 2.24816141e-02,\n",
       "       2.04844095e-02, 1.86646310e-02, 1.70065166e-02, 1.54957046e-02,\n",
       "       1.41191089e-02, 1.28648062e-02, 1.17219322e-02, 1.06805881e-02,\n",
       "       9.73175408e-03, 8.86721186e-03, 8.07947320e-03, 7.36171507e-03,\n",
       "       6.70772059e-03, 6.11182518e-03, 5.56886748e-03, 5.07414464e-03,\n",
       "       4.62337162e-03, 4.21264402e-03, 3.83840434e-03, 3.49741108e-03,\n",
       "       3.18671072e-03, 2.90361212e-03, 2.64566322e-03, 2.41062979e-03,\n",
       "       2.19647609e-03, 2.00134720e-03, 1.82355303e-03, 1.66155361e-03,\n",
       "       1.51394577e-03, 1.37945100e-03, 1.25690437e-03, 1.14524445e-03,\n",
       "       1.04350409e-03, 9.50802063e-04, 8.66335429e-04, 7.89372577e-04,\n",
       "       7.19246893e-04, 6.55350981e-04, 5.97131406e-04, 5.44083898e-04,\n",
       "       4.95748984e-04, 4.51708010e-04, 4.11579516e-04, 3.75015926e-04,\n",
       "       3.41700545e-04, 3.11344810e-04, 2.83685795e-04, 2.58483931e-04,\n",
       "       2.35520931e-04, 2.14597901e-04, 1.95533615e-04, 1.78162947e-04,\n",
       "       1.62335442e-04, 1.47914009e-04, 1.34773736e-04, 1.22800809e-04])"
      ]
     },
     "execution_count": 158,
     "metadata": {},
     "output_type": "execute_result"
    }
   ],
   "source": [
    "enet.named_steps['coxnetsurvivalanalysis'].alphas_"
   ]
  },
  {
   "cell_type": "code",
   "execution_count": 155,
   "id": "d85b4819",
   "metadata": {},
   "outputs": [],
   "source": [
    "estimated_alphas = enet.named_steps['coxnetsurvivalanalysis'].alphas_"
   ]
  },
  {
   "cell_type": "code",
   "execution_count": 156,
   "id": "87144802",
   "metadata": {},
   "outputs": [
    {
     "name": "stderr",
     "output_type": "stream",
     "text": [
      "/Users/xavierorcutt/Dropbox/ist_project/myenv/lib/python3.7/site-packages/sklearn/pipeline.py:394: UserWarning: all coefficients are zero, consider decreasing alpha.\n",
      "  self._final_estimator.fit(Xt, y, **fit_params_last_step)\n",
      "/Users/xavierorcutt/Dropbox/ist_project/myenv/lib/python3.7/site-packages/sklearn/pipeline.py:394: UserWarning: all coefficients are zero, consider decreasing alpha.\n",
      "  self._final_estimator.fit(Xt, y, **fit_params_last_step)\n",
      "/Users/xavierorcutt/Dropbox/ist_project/myenv/lib/python3.7/site-packages/sklearn/pipeline.py:394: UserWarning: all coefficients are zero, consider decreasing alpha.\n",
      "  self._final_estimator.fit(Xt, y, **fit_params_last_step)\n"
     ]
    },
    {
     "data": {
      "text/plain": [
       "GridSearchCV(cv=StratifiedKFold(n_splits=5, random_state=42, shuffle=True),\n",
       "             error_score=0.5,\n",
       "             estimator=as_cumulative_dynamic_auc_scorer(estimator=Pipeline(steps=[('columntransformer',\n",
       "                                                                                   ColumnTransformer(remainder='passthrough',\n",
       "                                                                                                     transformers=[('num',\n",
       "                                                                                                                    Pipeline(steps=[('imputer',\n",
       "                                                                                                                                     SimpleImputer(strategy='median')),\n",
       "                                                                                                                                    ('std_scaler',\n",
       "                                                                                                                                     StandardScaler())]),\n",
       "                                                                                                                    ['age',\n",
       "                                                                                                                     'delta...\n",
       "                                                                       [0.047321642742419755],\n",
       "                                                                       [0.04311771842509572],\n",
       "                                                                       [0.03928725915762183],\n",
       "                                                                       [0.035797087334282204],\n",
       "                                                                       [0.03261697275641145],\n",
       "                                                                       [0.02971937079287568],\n",
       "                                                                       [0.027079183801654777],\n",
       "                                                                       [0.024673543746073678],\n",
       "                                                                       [0.022481614122808587],\n",
       "                                                                       [0.020484409486063178],\n",
       "                                                                       [0.018664631004719597],\n",
       "                                                                       [0.017006516628138922],\n",
       "                                                                       [0.015495704562818957],\n",
       "                                                                       [0.014119108877409484],\n",
       "                                                                       [0.012864806158635096], ...]},\n",
       "             refit=False)"
      ]
     },
     "execution_count": 160,
     "metadata": {},
     "output_type": "execute_result"
    }
   ],
   "source": [
    "pipe = make_pipeline(preprocessor_red, CoxnetSurvivalAnalysis(l1_ratio = 0.9, max_iter = 100000))\n",
    "\n",
    "# 5 fold cross-validation\n",
    "cv = StratifiedKFold(n_splits = 5, shuffle = True, random_state = 42)\n",
    "\n",
    "# Parameter gird \n",
    "param_grid = {'estimator__coxnetsurvivalanalysis__alphas': [[x] for x in estimated_alphas]}\n",
    "\n",
    "enet_search = GridSearchCV(\n",
    "    as_cumulative_dynamic_auc_scorer(pipe, 730),\n",
    "    param_grid = param_grid,\n",
    "    cv = cv,\n",
    "    error_score = 0.5,\n",
    "    n_jobs = -1,\n",
    "    refit = False)\n",
    "\n",
    "# Run search \n",
    "warnings.filterwarnings('ignore')\n",
    "enet_search.fit(train_x_red, train_y)"
   ]
  },
  {
   "cell_type": "code",
   "execution_count": 157,
   "id": "903c3556",
   "metadata": {},
   "outputs": [
    {
     "data": {
      "text/plain": [
       "{'estimator__coxnetsurvivalanalysis__alphas': [0.000789372576798197]}"
      ]
     },
     "execution_count": 161,
     "metadata": {},
     "output_type": "execute_result"
    }
   ],
   "source": [
    "enet_search.best_params_"
   ]
  },
  {
   "cell_type": "code",
   "execution_count": 158,
   "id": "7677809d",
   "metadata": {},
   "outputs": [],
   "source": [
    "best_enet_alpha = enet_search.best_params_.get('estimator__coxnetsurvivalanalysis__alphas')"
   ]
  },
  {
   "cell_type": "code",
   "execution_count": 159,
   "id": "8c849bbf",
   "metadata": {},
   "outputs": [
    {
     "data": {
      "text/plain": [
       "Pipeline(steps=[('columntransformer',\n",
       "                 ColumnTransformer(remainder='passthrough',\n",
       "                                   transformers=[('num',\n",
       "                                                  Pipeline(steps=[('imputer',\n",
       "                                                                   SimpleImputer(strategy='median')),\n",
       "                                                                  ('std_scaler',\n",
       "                                                                   StandardScaler())]),\n",
       "                                                  ['age', 'delta_met_diagnosis',\n",
       "                                                   'weight_diag', 'bmi_diag',\n",
       "                                                   'weight_pct_change',\n",
       "                                                   'weight_slope',\n",
       "                                                   'albumin_diag', 'alp_diag',\n",
       "                                                   'alt_diag', 'ast_diag',\n",
       "                                                   'bicarb_diag', 'bun...\n",
       "                                                   'wbc_diag', 'alp_max',\n",
       "                                                   'alt_max', 'ast_max',\n",
       "                                                   'calcium_max',\n",
       "                                                   'creatinine_max',\n",
       "                                                   'total_bilirubin_max',\n",
       "                                                   'wbc_max', 'albumin_min', ...]),\n",
       "                                                 ('cat',\n",
       "                                                  OneHotEncoder(handle_unknown='ignore'),\n",
       "                                                  ['gender', 'p_type', 'stage',\n",
       "                                                   'met_year', 'ER', 'HER2',\n",
       "                                                   'PR', 'BRCA', 'PIK3CA',\n",
       "                                                   'pdl1_n',\n",
       "                                                   'ecog_diagnosis'])])),\n",
       "                ('coxnetsurvivalanalysis',\n",
       "                 CoxnetSurvivalAnalysis(alphas=[0.000789372576798197],\n",
       "                                        l1_ratio=0.8))])"
      ]
     },
     "execution_count": 163,
     "metadata": {},
     "output_type": "execute_result"
    }
   ],
   "source": [
    "enet = make_pipeline(preprocessor_red, CoxnetSurvivalAnalysis(l1_ratio = 0.8,\n",
    "                                                              alphas = best_enet_alpha,\n",
    "                                                              max_iter = 100000))\n",
    "\n",
    "enet.fit(train_x_red, train_y)"
   ]
  },
  {
   "cell_type": "code",
   "execution_count": 160,
   "id": "10f599b1",
   "metadata": {},
   "outputs": [
    {
     "name": "stdout",
     "output_type": "stream",
     "text": [
      "Test set AUC at 2 years: 0.783361372640473\n"
     ]
    }
   ],
   "source": [
    "enet_risk_scores_te = enet.predict(test_x_red)\n",
    "enet_auc_te = cumulative_dynamic_auc(train_y, test_y, enet_risk_scores_te, 730)[0][0]\n",
    "print('Test set AUC at 2 years:', enet_auc_te)"
   ]
  },
  {
   "cell_type": "code",
   "execution_count": 161,
   "id": "b18b1308",
   "metadata": {},
   "outputs": [
    {
     "name": "stdout",
     "output_type": "stream",
     "text": [
      "Training set AUC at 2 years: 0.7855356446754683\n"
     ]
    }
   ],
   "source": [
    "enet_risk_scores_tr = enet.predict(train_x_red)\n",
    "enet_auc_tr = cumulative_dynamic_auc(train_y, train_y, enet_risk_scores_tr, 730)[0][0]\n",
    "print('Training set AUC at 2 years:', enet_auc_tr)"
   ]
  },
  {
   "cell_type": "code",
   "execution_count": 162,
   "id": "933d6973",
   "metadata": {},
   "outputs": [],
   "source": [
    "# Bootstrap 10000 2-yr AUCs for test set \n",
    "n_bootstraps = 10000\n",
    "rng_seed = 42 \n",
    "bootstrapped_scores_te = []\n",
    "\n",
    "rng = np.random.RandomState(rng_seed)\n",
    "for i in range(n_bootstraps):\n",
    "    indices = rng.randint(0, len(enet_risk_scores_te), len(enet_risk_scores_te))\n",
    "    auc_yr = cumulative_dynamic_auc(train_y, test_y[indices], enet_risk_scores_te[indices], 730)[0][0]\n",
    "    bootstrapped_scores_te.append(auc_yr)"
   ]
  },
  {
   "cell_type": "code",
   "execution_count": 163,
   "id": "ae568d0b",
   "metadata": {},
   "outputs": [
    {
     "name": "stdout",
     "output_type": "stream",
     "text": [
      "Test set AUC standard error: 0.006577628132468417\n"
     ]
    }
   ],
   "source": [
    "# Standard error of mean for test set AUC\n",
    "sorted_scores_te = np.array(bootstrapped_scores_te)\n",
    "sorted_scores_te.sort()\n",
    "\n",
    "conf_lower_te = sorted_scores_te[int(0.025 * len(sorted_scores_te))]\n",
    "conf_upper_te = sorted_scores_te[int(0.975 * len(sorted_scores_te))]\n",
    "\n",
    "standard_error_te = (conf_upper_te - conf_lower_te) / 3.92\n",
    "print('Test set AUC standard error:', standard_error_te)"
   ]
  },
  {
   "cell_type": "code",
   "execution_count": 164,
   "id": "8a562ce9",
   "metadata": {},
   "outputs": [
    {
     "name": "stderr",
     "output_type": "stream",
     "text": [
      "/Users/xavierorcutt/Dropbox/ist_project/myenv/lib/python3.7/site-packages/sklearn/pipeline.py:394: UserWarning: all coefficients are zero, consider decreasing alpha.\n",
      "  self._final_estimator.fit(Xt, y, **fit_params_last_step)\n",
      "/Users/xavierorcutt/Dropbox/ist_project/myenv/lib/python3.7/site-packages/sklearn/pipeline.py:394: UserWarning: all coefficients are zero, consider decreasing alpha.\n",
      "  self._final_estimator.fit(Xt, y, **fit_params_last_step)\n",
      "/Users/xavierorcutt/Dropbox/ist_project/myenv/lib/python3.7/site-packages/sklearn/pipeline.py:394: UserWarning: all coefficients are zero, consider decreasing alpha.\n",
      "  self._final_estimator.fit(Xt, y, **fit_params_last_step)\n",
      "/Users/xavierorcutt/Dropbox/ist_project/myenv/lib/python3.7/site-packages/sklearn/pipeline.py:394: UserWarning: all coefficients are zero, consider decreasing alpha.\n",
      "  self._final_estimator.fit(Xt, y, **fit_params_last_step)\n",
      "/Users/xavierorcutt/Dropbox/ist_project/myenv/lib/python3.7/site-packages/sklearn/pipeline.py:394: UserWarning: all coefficients are zero, consider decreasing alpha.\n",
      "  self._final_estimator.fit(Xt, y, **fit_params_last_step)\n",
      "/Users/xavierorcutt/Dropbox/ist_project/myenv/lib/python3.7/site-packages/sklearn/pipeline.py:394: UserWarning: all coefficients are zero, consider decreasing alpha.\n",
      "  self._final_estimator.fit(Xt, y, **fit_params_last_step)\n",
      "/Users/xavierorcutt/Dropbox/ist_project/myenv/lib/python3.7/site-packages/sklearn/pipeline.py:394: UserWarning: all coefficients are zero, consider decreasing alpha.\n",
      "  self._final_estimator.fit(Xt, y, **fit_params_last_step)\n"
     ]
    }
   ],
   "source": [
    "# Bootstrap 10000 2-yr AUCs for train set \n",
    "n_bootstraps = 10000\n",
    "rng_seed = 42 \n",
    "bootstrapped_scores_tr = []\n",
    "\n",
    "rng = np.random.RandomState(rng_seed)\n",
    "for i in range(n_bootstraps):\n",
    "    indices = rng.randint(0, len(enet_risk_scores_tr), len(enet_risk_scores_tr))\n",
    "    auc_yr = cumulative_dynamic_auc(train_y, train_y[indices], enet_risk_scores_tr[indices], 730)[0][0]\n",
    "    bootstrapped_scores_tr.append(auc_yr)"
   ]
  },
  {
   "cell_type": "code",
   "execution_count": 165,
   "id": "09ef1ca4",
   "metadata": {},
   "outputs": [
    {
     "name": "stdout",
     "output_type": "stream",
     "text": [
      "Training set AUC standard error 0.0033364752111354787\n"
     ]
    }
   ],
   "source": [
    "# Standard error of mean for train set AUC\n",
    "sorted_scores_tr = np.array(bootstrapped_scores_tr)\n",
    "sorted_scores_tr.sort()\n",
    "\n",
    "conf_lower_tr = sorted_scores_tr[int(0.025 * len(sorted_scores_tr))]\n",
    "conf_upper_tr = sorted_scores_tr[int(0.975 * len(sorted_scores_tr))]\n",
    "\n",
    "standard_error_tr = (conf_upper_tr - conf_lower_tr) / 3.92\n",
    "print('Training set AUC standard error', standard_error_tr)"
   ]
  },
  {
   "cell_type": "code",
   "execution_count": 166,
   "id": "570e5591",
   "metadata": {},
   "outputs": [],
   "source": [
    "crude_auc_data = {'model': 'enet_crude',\n",
    "                  'auc_2yr_te': enet_auc_te,\n",
    "                  'sem_te': standard_error_te,\n",
    "                  'auc_2yr_tr': enet_auc_tr,\n",
    "                  'sem_tr': standard_error_tr}"
   ]
  },
  {
   "cell_type": "code",
   "execution_count": 167,
   "id": "740dad37",
   "metadata": {},
   "outputs": [],
   "source": [
    "crude_auc_df = pd.read_csv('crude_auc_df.csv')"
   ]
  },
  {
   "cell_type": "code",
   "execution_count": 168,
   "id": "0253bbdf",
   "metadata": {},
   "outputs": [],
   "source": [
    "crude_auc_df = crude_auc_df.append(crude_auc_data, ignore_index = True)"
   ]
  },
  {
   "cell_type": "code",
   "execution_count": 169,
   "id": "fa61e506",
   "metadata": {},
   "outputs": [
    {
     "data": {
      "text/html": [
       "<div>\n",
       "<style scoped>\n",
       "    .dataframe tbody tr th:only-of-type {\n",
       "        vertical-align: middle;\n",
       "    }\n",
       "\n",
       "    .dataframe tbody tr th {\n",
       "        vertical-align: top;\n",
       "    }\n",
       "\n",
       "    .dataframe thead th {\n",
       "        text-align: right;\n",
       "    }\n",
       "</style>\n",
       "<table border=\"1\" class=\"dataframe\">\n",
       "  <thead>\n",
       "    <tr style=\"text-align: right;\">\n",
       "      <th></th>\n",
       "      <th>model</th>\n",
       "      <th>auc_2yr_te</th>\n",
       "      <th>sem_te</th>\n",
       "      <th>auc_2yr_tr</th>\n",
       "      <th>sem_tr</th>\n",
       "    </tr>\n",
       "  </thead>\n",
       "  <tbody>\n",
       "    <tr>\n",
       "      <th>0</th>\n",
       "      <td>gbm_crude</td>\n",
       "      <td>0.814230</td>\n",
       "      <td>0.006072</td>\n",
       "      <td>0.850084</td>\n",
       "      <td>0.002805</td>\n",
       "    </tr>\n",
       "    <tr>\n",
       "      <th>1</th>\n",
       "      <td>rsf_crude</td>\n",
       "      <td>0.795440</td>\n",
       "      <td>0.006377</td>\n",
       "      <td>0.883202</td>\n",
       "      <td>0.002398</td>\n",
       "    </tr>\n",
       "    <tr>\n",
       "      <th>2</th>\n",
       "      <td>ridge_crude</td>\n",
       "      <td>0.782643</td>\n",
       "      <td>0.006584</td>\n",
       "      <td>0.784937</td>\n",
       "      <td>0.003340</td>\n",
       "    </tr>\n",
       "    <tr>\n",
       "      <th>3</th>\n",
       "      <td>lasso_crude</td>\n",
       "      <td>0.783386</td>\n",
       "      <td>0.006583</td>\n",
       "      <td>0.785551</td>\n",
       "      <td>0.003348</td>\n",
       "    </tr>\n",
       "    <tr>\n",
       "      <th>4</th>\n",
       "      <td>enet_crude</td>\n",
       "      <td>0.783361</td>\n",
       "      <td>0.006578</td>\n",
       "      <td>0.785536</td>\n",
       "      <td>0.003336</td>\n",
       "    </tr>\n",
       "  </tbody>\n",
       "</table>\n",
       "</div>"
      ],
      "text/plain": [
       "         model  auc_2yr_te    sem_te  auc_2yr_tr    sem_tr\n",
       "0    gbm_crude    0.814230  0.006072    0.850084  0.002805\n",
       "1    rsf_crude    0.795440  0.006377    0.883202  0.002398\n",
       "2  ridge_crude    0.782643  0.006584    0.784937  0.003340\n",
       "3  lasso_crude    0.783386  0.006583    0.785551  0.003348\n",
       "4   enet_crude    0.783361  0.006578    0.785536  0.003336"
      ]
     },
     "execution_count": 173,
     "metadata": {},
     "output_type": "execute_result"
    }
   ],
   "source": [
    "crude_auc_df"
   ]
  },
  {
   "cell_type": "code",
   "execution_count": 170,
   "id": "7e94440f",
   "metadata": {},
   "outputs": [],
   "source": [
    "crude_auc_df.to_csv('crude_auc_df.csv', index = False, header = True)"
   ]
  },
  {
   "cell_type": "code",
   "execution_count": 171,
   "id": "1c617eab",
   "metadata": {},
   "outputs": [],
   "source": [
    "times = np.arange(30, 1810, 30)\n",
    "crude_enet_auc_over5 = cumulative_dynamic_auc(train_y, test_y, enet_risk_scores_te, times)[0]\n",
    "\n",
    "times_data = {}\n",
    "values = crude_enet_auc_over5\n",
    "time_names = []\n",
    "\n",
    "for x in range(len(times)):\n",
    "    time_names.append('time_'+str(times[x]))\n",
    "\n",
    "for i in range(len(time_names)):\n",
    "    times_data[time_names[i]] = values[i]\n",
    "    \n",
    "crude_enet_over5_df = pd.DataFrame(times_data, index = ['enet_crude'])"
   ]
  },
  {
   "cell_type": "code",
   "execution_count": 172,
   "id": "53258a3b",
   "metadata": {},
   "outputs": [],
   "source": [
    "crude_auc_over5 = pd.read_csv('crude_auc_over5.csv', index_col = 0)"
   ]
  },
  {
   "cell_type": "code",
   "execution_count": 173,
   "id": "bcc9ea4f",
   "metadata": {},
   "outputs": [],
   "source": [
    "crude_auc_over5 = crude_auc_over5.append(crude_enet_over5_df, ignore_index = False)"
   ]
  },
  {
   "cell_type": "code",
   "execution_count": 174,
   "id": "643337ca",
   "metadata": {},
   "outputs": [
    {
     "data": {
      "text/html": [
       "<div>\n",
       "<style scoped>\n",
       "    .dataframe tbody tr th:only-of-type {\n",
       "        vertical-align: middle;\n",
       "    }\n",
       "\n",
       "    .dataframe tbody tr th {\n",
       "        vertical-align: top;\n",
       "    }\n",
       "\n",
       "    .dataframe thead th {\n",
       "        text-align: right;\n",
       "    }\n",
       "</style>\n",
       "<table border=\"1\" class=\"dataframe\">\n",
       "  <thead>\n",
       "    <tr style=\"text-align: right;\">\n",
       "      <th></th>\n",
       "      <th>time_30</th>\n",
       "      <th>time_60</th>\n",
       "      <th>time_90</th>\n",
       "      <th>time_120</th>\n",
       "      <th>time_150</th>\n",
       "      <th>time_180</th>\n",
       "      <th>time_210</th>\n",
       "      <th>time_240</th>\n",
       "      <th>time_270</th>\n",
       "      <th>time_300</th>\n",
       "      <th>...</th>\n",
       "      <th>time_1530</th>\n",
       "      <th>time_1560</th>\n",
       "      <th>time_1590</th>\n",
       "      <th>time_1620</th>\n",
       "      <th>time_1650</th>\n",
       "      <th>time_1680</th>\n",
       "      <th>time_1710</th>\n",
       "      <th>time_1740</th>\n",
       "      <th>time_1770</th>\n",
       "      <th>time_1800</th>\n",
       "    </tr>\n",
       "  </thead>\n",
       "  <tbody>\n",
       "    <tr>\n",
       "      <th>gbm_crude</th>\n",
       "      <td>0.873304</td>\n",
       "      <td>0.888984</td>\n",
       "      <td>0.867964</td>\n",
       "      <td>0.864796</td>\n",
       "      <td>0.861240</td>\n",
       "      <td>0.851446</td>\n",
       "      <td>0.852150</td>\n",
       "      <td>0.850231</td>\n",
       "      <td>0.849392</td>\n",
       "      <td>0.847236</td>\n",
       "      <td>...</td>\n",
       "      <td>0.777148</td>\n",
       "      <td>0.774056</td>\n",
       "      <td>0.775649</td>\n",
       "      <td>0.775367</td>\n",
       "      <td>0.773297</td>\n",
       "      <td>0.773237</td>\n",
       "      <td>0.772034</td>\n",
       "      <td>0.770778</td>\n",
       "      <td>0.771211</td>\n",
       "      <td>0.770631</td>\n",
       "    </tr>\n",
       "    <tr>\n",
       "      <th>rsf_crude</th>\n",
       "      <td>0.872494</td>\n",
       "      <td>0.878457</td>\n",
       "      <td>0.850630</td>\n",
       "      <td>0.844724</td>\n",
       "      <td>0.840922</td>\n",
       "      <td>0.831971</td>\n",
       "      <td>0.831404</td>\n",
       "      <td>0.828014</td>\n",
       "      <td>0.827749</td>\n",
       "      <td>0.826762</td>\n",
       "      <td>...</td>\n",
       "      <td>0.761893</td>\n",
       "      <td>0.757587</td>\n",
       "      <td>0.759615</td>\n",
       "      <td>0.758983</td>\n",
       "      <td>0.756183</td>\n",
       "      <td>0.755631</td>\n",
       "      <td>0.755043</td>\n",
       "      <td>0.754491</td>\n",
       "      <td>0.754104</td>\n",
       "      <td>0.753775</td>\n",
       "    </tr>\n",
       "    <tr>\n",
       "      <th>ridge_crude</th>\n",
       "      <td>0.855335</td>\n",
       "      <td>0.856749</td>\n",
       "      <td>0.837823</td>\n",
       "      <td>0.828204</td>\n",
       "      <td>0.823431</td>\n",
       "      <td>0.812694</td>\n",
       "      <td>0.812031</td>\n",
       "      <td>0.811284</td>\n",
       "      <td>0.812569</td>\n",
       "      <td>0.809599</td>\n",
       "      <td>...</td>\n",
       "      <td>0.754126</td>\n",
       "      <td>0.752117</td>\n",
       "      <td>0.753650</td>\n",
       "      <td>0.755019</td>\n",
       "      <td>0.753970</td>\n",
       "      <td>0.751410</td>\n",
       "      <td>0.750400</td>\n",
       "      <td>0.748705</td>\n",
       "      <td>0.749554</td>\n",
       "      <td>0.750416</td>\n",
       "    </tr>\n",
       "    <tr>\n",
       "      <th>lasso_crude</th>\n",
       "      <td>0.852667</td>\n",
       "      <td>0.855843</td>\n",
       "      <td>0.836401</td>\n",
       "      <td>0.827503</td>\n",
       "      <td>0.823688</td>\n",
       "      <td>0.813346</td>\n",
       "      <td>0.813092</td>\n",
       "      <td>0.811690</td>\n",
       "      <td>0.813284</td>\n",
       "      <td>0.810701</td>\n",
       "      <td>...</td>\n",
       "      <td>0.753856</td>\n",
       "      <td>0.751792</td>\n",
       "      <td>0.753296</td>\n",
       "      <td>0.754496</td>\n",
       "      <td>0.753567</td>\n",
       "      <td>0.751013</td>\n",
       "      <td>0.749977</td>\n",
       "      <td>0.748455</td>\n",
       "      <td>0.749398</td>\n",
       "      <td>0.750194</td>\n",
       "    </tr>\n",
       "    <tr>\n",
       "      <th>enet_crude</th>\n",
       "      <td>0.853290</td>\n",
       "      <td>0.856135</td>\n",
       "      <td>0.836745</td>\n",
       "      <td>0.827802</td>\n",
       "      <td>0.823841</td>\n",
       "      <td>0.813479</td>\n",
       "      <td>0.813269</td>\n",
       "      <td>0.811878</td>\n",
       "      <td>0.813410</td>\n",
       "      <td>0.810716</td>\n",
       "      <td>...</td>\n",
       "      <td>0.753871</td>\n",
       "      <td>0.751825</td>\n",
       "      <td>0.753323</td>\n",
       "      <td>0.754536</td>\n",
       "      <td>0.753576</td>\n",
       "      <td>0.751017</td>\n",
       "      <td>0.749988</td>\n",
       "      <td>0.748450</td>\n",
       "      <td>0.749392</td>\n",
       "      <td>0.750192</td>\n",
       "    </tr>\n",
       "  </tbody>\n",
       "</table>\n",
       "<p>5 rows × 60 columns</p>\n",
       "</div>"
      ],
      "text/plain": [
       "              time_30   time_60   time_90  time_120  time_150  time_180  \\\n",
       "gbm_crude    0.873304  0.888984  0.867964  0.864796  0.861240  0.851446   \n",
       "rsf_crude    0.872494  0.878457  0.850630  0.844724  0.840922  0.831971   \n",
       "ridge_crude  0.855335  0.856749  0.837823  0.828204  0.823431  0.812694   \n",
       "lasso_crude  0.852667  0.855843  0.836401  0.827503  0.823688  0.813346   \n",
       "enet_crude   0.853290  0.856135  0.836745  0.827802  0.823841  0.813479   \n",
       "\n",
       "             time_210  time_240  time_270  time_300  ...  time_1530  \\\n",
       "gbm_crude    0.852150  0.850231  0.849392  0.847236  ...   0.777148   \n",
       "rsf_crude    0.831404  0.828014  0.827749  0.826762  ...   0.761893   \n",
       "ridge_crude  0.812031  0.811284  0.812569  0.809599  ...   0.754126   \n",
       "lasso_crude  0.813092  0.811690  0.813284  0.810701  ...   0.753856   \n",
       "enet_crude   0.813269  0.811878  0.813410  0.810716  ...   0.753871   \n",
       "\n",
       "             time_1560  time_1590  time_1620  time_1650  time_1680  time_1710  \\\n",
       "gbm_crude     0.774056   0.775649   0.775367   0.773297   0.773237   0.772034   \n",
       "rsf_crude     0.757587   0.759615   0.758983   0.756183   0.755631   0.755043   \n",
       "ridge_crude   0.752117   0.753650   0.755019   0.753970   0.751410   0.750400   \n",
       "lasso_crude   0.751792   0.753296   0.754496   0.753567   0.751013   0.749977   \n",
       "enet_crude    0.751825   0.753323   0.754536   0.753576   0.751017   0.749988   \n",
       "\n",
       "             time_1740  time_1770  time_1800  \n",
       "gbm_crude     0.770778   0.771211   0.770631  \n",
       "rsf_crude     0.754491   0.754104   0.753775  \n",
       "ridge_crude   0.748705   0.749554   0.750416  \n",
       "lasso_crude   0.748455   0.749398   0.750194  \n",
       "enet_crude    0.748450   0.749392   0.750192  \n",
       "\n",
       "[5 rows x 60 columns]"
      ]
     },
     "execution_count": 178,
     "metadata": {},
     "output_type": "execute_result"
    }
   ],
   "source": [
    "crude_auc_over5"
   ]
  },
  {
   "cell_type": "code",
   "execution_count": 175,
   "id": "d2f18eca",
   "metadata": {},
   "outputs": [],
   "source": [
    "crude_auc_over5.to_csv('crude_auc_over5.csv', index = True, header = True)"
   ]
  },
  {
   "cell_type": "code",
   "execution_count": 176,
   "id": "47c22dd0",
   "metadata": {},
   "outputs": [],
   "source": [
    "# Variables passing through pipeline\n",
    "cat_encoder = list(preprocessor_red.transformers_[1][1].get_feature_names(categorical_features))\n",
    "pass_through = list(train_x_red.iloc[:, preprocessor_red.transformers_[2][2]].columns)\n",
    "attributes = numerical_features_red + cat_encoder + pass_through"
   ]
  },
  {
   "cell_type": "code",
   "execution_count": 177,
   "id": "fd0ebb47",
   "metadata": {},
   "outputs": [
    {
     "name": "stdout",
     "output_type": "stream",
     "text": [
      "Total number of features: 168\n",
      "Number of non-zero features in final model: 105\n"
     ]
    },
    {
     "data": {
      "image/png": "[encoded data removed]",
      "text/plain": [
       "<Figure size 600x800 with 1 Axes>"
      ]
     },
     "metadata": {},
     "output_type": "display_data"
    }
   ],
   "source": [
    "# Dataframe of coefficients for each variable \n",
    "coefficients_enet = pd.DataFrame(\n",
    "    enet.named_steps['coxnetsurvivalanalysis'].coef_,\n",
    "    index = attributes,\n",
    "    columns = ['coefficient']\n",
    ")\n",
    "\n",
    "print('Total number of features: {}'.format(len(attributes)))\n",
    "\n",
    "non_zero = np.sum(coefficients_enet.iloc[:, 0] != 0)\n",
    "print('Number of non-zero features in final model: {}'.format(non_zero))\n",
    "\n",
    "non_zero_coefs = coefficients_enet.query('coefficient != 0')\n",
    "coef_order = non_zero_coefs.abs().sort_values('coefficient').tail(30).index\n",
    "\n",
    "_, ax = plt.subplots(figsize=(6, 8))\n",
    "non_zero_coefs.loc[coef_order].plot.barh(ax = ax, legend = False)\n",
    "ax.set_xlabel('coefficient')\n",
    "ax.grid(True)"
   ]
  },
  {
   "cell_type": "markdown",
   "id": "82996d38",
   "metadata": {},
   "source": [
    "**Among the penalized Cox models, the LASSO penalty has the best performance in regards to test set 2 year AUC. Not surprisingly, the penalized Cox models perform worse than the gradient boosting model or the random survival forest.**"
   ]
  },
  {
   "cell_type": "markdown",
   "id": "f093ffd9",
   "metadata": {},
   "source": [
    "## 5. Linear survival support vector machine "
   ]
  },
  {
   "cell_type": "markdown",
   "id": "0b31c29b",
   "metadata": {},
   "source": [
    "**Lastly, we'll build a survival support vector machines with a linear kernel and a ranking objective.** "
   ]
  },
  {
   "cell_type": "code",
   "execution_count": 178,
   "id": "ebebc8b6",
   "metadata": {},
   "outputs": [],
   "source": [
    "from sklearn.model_selection import StratifiedKFold, GridSearchCV\n",
    "from sklearn.pipeline import make_pipeline\n",
    "\n",
    "from sksurv.svm import FastSurvivalSVM\n",
    "from sksurv.metrics import cumulative_dynamic_auc, as_cumulative_dynamic_auc_scorer\n",
    "\n",
    "import warnings \n",
    "\n",
    "import matplotlib.pyplot as plt"
   ]
  },
  {
   "cell_type": "code",
   "execution_count": 179,
   "id": "5c982625",
   "metadata": {},
   "outputs": [
    {
     "data": {
      "text/plain": [
       "GridSearchCV(cv=StratifiedKFold(n_splits=5, random_state=42, shuffle=True),\n",
       "             error_score=0.5,\n",
       "             estimator=as_cumulative_dynamic_auc_scorer(estimator=Pipeline(steps=[('columntransformer',\n",
       "                                                                                   ColumnTransformer(remainder='passthrough',\n",
       "                                                                                                     transformers=[('num',\n",
       "                                                                                                                    Pipeline(steps=[('imputer',\n",
       "                                                                                                                                     SimpleImputer(strategy='median')),\n",
       "                                                                                                                                    ('std_scaler',\n",
       "                                                                                                                                     StandardScaler())]),\n",
       "                                                                                                                    ['age',\n",
       "                                                                                                                     'delta...\n",
       "                                                                                                   random_state=42,\n",
       "                                                                                                   rank_ratio=1,\n",
       "                                                                                                   tol=0.001))]),\n",
       "                                                        times=730),\n",
       "             n_jobs=-1,\n",
       "             param_grid={'estimator__fastsurvivalsvm__alpha': array([1.00000000e-03, 2.68269580e-03, 7.19685673e-03, 1.93069773e-02,\n",
       "       5.17947468e-02, 1.38949549e-01, 3.72759372e-01, 1.00000000e+00,\n",
       "       2.68269580e+00, 7.19685673e+00, 1.93069773e+01, 5.17947468e+01,\n",
       "       1.38949549e+02, 3.72759372e+02, 1.00000000e+03])},\n",
       "             refit=False)"
      ]
     },
     "execution_count": 183,
     "metadata": {},
     "output_type": "execute_result"
    }
   ],
   "source": [
    "pipe = make_pipeline(preprocessor_red, FastSurvivalSVM(rank_ratio = 1, \n",
    "                                                       max_iter = 1000, \n",
    "                                                       tol = 1e-3,\n",
    "                                                       random_state = 42))\n",
    "\n",
    "# 3 fold cross-validation\n",
    "cv = StratifiedKFold(n_splits = 5, shuffle = True, random_state = 42)\n",
    "\n",
    "# Parameter gird \n",
    "param_grid = {'estimator__fastsurvivalsvm__alpha': 10. ** np.linspace(-3, 3, 15)}\n",
    "\n",
    "linear_svm_search = GridSearchCV(\n",
    "    as_cumulative_dynamic_auc_scorer(pipe, 730),\n",
    "    param_grid = param_grid,\n",
    "    cv = cv,\n",
    "    error_score = 0.5,\n",
    "    n_jobs = -1,\n",
    "    refit = False)\n",
    "\n",
    "# Run search \n",
    "warnings.filterwarnings('ignore')\n",
    "linear_svm_search.fit(train_x_red, train_y)"
   ]
  },
  {
   "cell_type": "code",
   "execution_count": 180,
   "id": "eca0d5d7",
   "metadata": {},
   "outputs": [
    {
     "data": {
      "text/plain": [
       "{'estimator__fastsurvivalsvm__alpha': 0.0026826957952797246}"
      ]
     },
     "execution_count": 184,
     "metadata": {},
     "output_type": "execute_result"
    }
   ],
   "source": [
    "linear_svm_search.best_params_"
   ]
  },
  {
   "cell_type": "code",
   "execution_count": 181,
   "id": "949d1058",
   "metadata": {},
   "outputs": [],
   "source": [
    "best_linear_svm_alpha = linear_svm_search.best_params_.get('estimator__fastsurvivalsvm__alpha')"
   ]
  },
  {
   "cell_type": "code",
   "execution_count": 182,
   "id": "5c9a4562",
   "metadata": {},
   "outputs": [
    {
     "data": {
      "text/plain": [
       "Pipeline(steps=[('columntransformer',\n",
       "                 ColumnTransformer(remainder='passthrough',\n",
       "                                   transformers=[('num',\n",
       "                                                  Pipeline(steps=[('imputer',\n",
       "                                                                   SimpleImputer(strategy='median')),\n",
       "                                                                  ('std_scaler',\n",
       "                                                                   StandardScaler())]),\n",
       "                                                  ['age', 'delta_met_diagnosis',\n",
       "                                                   'weight_diag', 'bmi_diag',\n",
       "                                                   'weight_pct_change',\n",
       "                                                   'weight_slope',\n",
       "                                                   'albumin_diag', 'alp_diag',\n",
       "                                                   'alt_diag', 'ast_diag',\n",
       "                                                   'bicarb_diag', 'bun...\n",
       "                                                   'creatinine_max',\n",
       "                                                   'total_bilirubin_max',\n",
       "                                                   'wbc_max', 'albumin_min', ...]),\n",
       "                                                 ('cat',\n",
       "                                                  OneHotEncoder(handle_unknown='ignore'),\n",
       "                                                  ['gender', 'p_type', 'stage',\n",
       "                                                   'met_year', 'ER', 'HER2',\n",
       "                                                   'PR', 'BRCA', 'PIK3CA',\n",
       "                                                   'pdl1_n',\n",
       "                                                   'ecog_diagnosis'])])),\n",
       "                ('fastsurvivalsvm',\n",
       "                 FastSurvivalSVM(alpha=0.0026826957952797246, max_iter=1000,\n",
       "                                 optimizer='avltree', random_state=42,\n",
       "                                 rank_ratio=1, tol=0.001))])"
      ]
     },
     "execution_count": 186,
     "metadata": {},
     "output_type": "execute_result"
    }
   ],
   "source": [
    "linear_svm = make_pipeline(preprocessor_red, FastSurvivalSVM(alpha = best_linear_svm_alpha,\n",
    "                                                             rank_ratio = 1,\n",
    "                                                             max_iter = 1000,\n",
    "                                                             tol = 1e-3,\n",
    "                                                             random_state = 42))\n",
    "\n",
    "linear_svm.fit(train_x_red, train_y)"
   ]
  },
  {
   "cell_type": "code",
   "execution_count": 183,
   "id": "7bc99b30",
   "metadata": {},
   "outputs": [
    {
     "name": "stdout",
     "output_type": "stream",
     "text": [
      "Test set AUC at 2 years: 0.7852348110741405\n"
     ]
    }
   ],
   "source": [
    "linear_svm_risk_scores_te = linear_svm.predict(test_x_red)\n",
    "linear_svm_auc_te = cumulative_dynamic_auc(train_y, test_y, linear_svm_risk_scores_te, 730)[0][0]\n",
    "print('Test set AUC at 2 years:', linear_svm_auc_te)"
   ]
  },
  {
   "cell_type": "code",
   "execution_count": 184,
   "id": "a589fcd6",
   "metadata": {},
   "outputs": [
    {
     "name": "stdout",
     "output_type": "stream",
     "text": [
      "Training set AUC at 2 years: 0.7901717349045071\n"
     ]
    }
   ],
   "source": [
    "linear_svm_risk_scores_tr = linear_svm.predict(train_x_red)\n",
    "linear_svm_auc_tr = cumulative_dynamic_auc(train_y, train_y, linear_svm_risk_scores_tr, 730)[0][0]\n",
    "print('Training set AUC at 2 years:', linear_svm_auc_tr)"
   ]
  },
  {
   "cell_type": "code",
   "execution_count": 185,
   "id": "122399b2",
   "metadata": {},
   "outputs": [],
   "source": [
    "# Bootstrap 10000 2-yr AUCs for test set \n",
    "n_bootstraps = 10000\n",
    "rng_seed = 42 \n",
    "bootstrapped_scores_te = []\n",
    "\n",
    "rng = np.random.RandomState(rng_seed)\n",
    "for i in range(n_bootstraps):\n",
    "    indices = rng.randint(0, len(linear_svm_risk_scores_te), len(linear_svm_risk_scores_te))\n",
    "    auc_yr = cumulative_dynamic_auc(train_y, test_y[indices], linear_svm_risk_scores_te[indices], 730)[0][0]\n",
    "    bootstrapped_scores_te.append(auc_yr)"
   ]
  },
  {
   "cell_type": "code",
   "execution_count": 186,
   "id": "68a2d81f",
   "metadata": {},
   "outputs": [
    {
     "name": "stdout",
     "output_type": "stream",
     "text": [
      "Test set AUC standard error: 0.006472705166147467\n"
     ]
    }
   ],
   "source": [
    "# Standard error of mean for test set AUC\n",
    "sorted_scores_te = np.array(bootstrapped_scores_te)\n",
    "sorted_scores_te.sort()\n",
    "\n",
    "conf_lower_te = sorted_scores_te[int(0.025 * len(sorted_scores_te))]\n",
    "conf_upper_te = sorted_scores_te[int(0.975 * len(sorted_scores_te))]\n",
    "\n",
    "standard_error_te = (conf_upper_te - conf_lower_te) / 3.92\n",
    "print('Test set AUC standard error:', standard_error_te)"
   ]
  },
  {
   "cell_type": "code",
   "execution_count": 187,
   "id": "a3d50ce5",
   "metadata": {},
   "outputs": [],
   "source": [
    "# Bootstrap 10000 2-yr AUCs for train set \n",
    "n_bootstraps = 10000\n",
    "rng_seed = 42 \n",
    "bootstrapped_scores_tr = []\n",
    "\n",
    "rng = np.random.RandomState(rng_seed)\n",
    "for i in range(n_bootstraps):\n",
    "    indices = rng.randint(0, len(linear_svm_risk_scores_tr), len(linear_svm_risk_scores_tr))\n",
    "    auc_yr = cumulative_dynamic_auc(train_y, train_y[indices], linear_svm_risk_scores_tr[indices], 730)[0][0]\n",
    "    bootstrapped_scores_tr.append(auc_yr)"
   ]
  },
  {
   "cell_type": "code",
   "execution_count": 188,
   "id": "ce3e1115",
   "metadata": {},
   "outputs": [
    {
     "name": "stdout",
     "output_type": "stream",
     "text": [
      "Training set AUC standard error 0.0032935806366372012\n"
     ]
    }
   ],
   "source": [
    "# Standard error of mean for train set AUC\n",
    "sorted_scores_tr = np.array(bootstrapped_scores_tr)\n",
    "sorted_scores_tr.sort()\n",
    "\n",
    "conf_lower_tr = sorted_scores_tr[int(0.025 * len(sorted_scores_tr))]\n",
    "conf_upper_tr = sorted_scores_tr[int(0.975 * len(sorted_scores_tr))]\n",
    "\n",
    "standard_error_tr = (conf_upper_tr - conf_lower_tr) / 3.92\n",
    "print('Training set AUC standard error', standard_error_tr)"
   ]
  },
  {
   "cell_type": "code",
   "execution_count": 189,
   "id": "20fd37f4",
   "metadata": {},
   "outputs": [],
   "source": [
    "crude_auc_data = {'model': 'linear_svm_crude',\n",
    "                  'auc_2yr_te': linear_svm_auc_te,\n",
    "                  'sem_te': standard_error_te,\n",
    "                  'auc_2yr_tr': linear_svm_auc_tr,\n",
    "                  'sem_tr': standard_error_tr}"
   ]
  },
  {
   "cell_type": "code",
   "execution_count": 190,
   "id": "4a189cb5",
   "metadata": {},
   "outputs": [],
   "source": [
    "crude_auc_df = pd.read_csv('crude_auc_df.csv')"
   ]
  },
  {
   "cell_type": "code",
   "execution_count": 191,
   "id": "332a3bbf",
   "metadata": {},
   "outputs": [],
   "source": [
    "crude_auc_df = crude_auc_df.append(crude_auc_data, ignore_index = True)"
   ]
  },
  {
   "cell_type": "code",
   "execution_count": 192,
   "id": "64e19fd2",
   "metadata": {},
   "outputs": [
    {
     "data": {
      "text/html": [
       "<div>\n",
       "<style scoped>\n",
       "    .dataframe tbody tr th:only-of-type {\n",
       "        vertical-align: middle;\n",
       "    }\n",
       "\n",
       "    .dataframe tbody tr th {\n",
       "        vertical-align: top;\n",
       "    }\n",
       "\n",
       "    .dataframe thead th {\n",
       "        text-align: right;\n",
       "    }\n",
       "</style>\n",
       "<table border=\"1\" class=\"dataframe\">\n",
       "  <thead>\n",
       "    <tr style=\"text-align: right;\">\n",
       "      <th></th>\n",
       "      <th>model</th>\n",
       "      <th>auc_2yr_te</th>\n",
       "      <th>sem_te</th>\n",
       "      <th>auc_2yr_tr</th>\n",
       "      <th>sem_tr</th>\n",
       "    </tr>\n",
       "  </thead>\n",
       "  <tbody>\n",
       "    <tr>\n",
       "      <th>0</th>\n",
       "      <td>gbm_crude</td>\n",
       "      <td>0.814230</td>\n",
       "      <td>0.006072</td>\n",
       "      <td>0.850084</td>\n",
       "      <td>0.002805</td>\n",
       "    </tr>\n",
       "    <tr>\n",
       "      <th>1</th>\n",
       "      <td>rsf_crude</td>\n",
       "      <td>0.795440</td>\n",
       "      <td>0.006377</td>\n",
       "      <td>0.883202</td>\n",
       "      <td>0.002398</td>\n",
       "    </tr>\n",
       "    <tr>\n",
       "      <th>5</th>\n",
       "      <td>linear_svm_crude</td>\n",
       "      <td>0.785235</td>\n",
       "      <td>0.006473</td>\n",
       "      <td>0.790172</td>\n",
       "      <td>0.003294</td>\n",
       "    </tr>\n",
       "    <tr>\n",
       "      <th>3</th>\n",
       "      <td>lasso_crude</td>\n",
       "      <td>0.783386</td>\n",
       "      <td>0.006583</td>\n",
       "      <td>0.785551</td>\n",
       "      <td>0.003348</td>\n",
       "    </tr>\n",
       "    <tr>\n",
       "      <th>4</th>\n",
       "      <td>enet_crude</td>\n",
       "      <td>0.783361</td>\n",
       "      <td>0.006578</td>\n",
       "      <td>0.785536</td>\n",
       "      <td>0.003336</td>\n",
       "    </tr>\n",
       "    <tr>\n",
       "      <th>2</th>\n",
       "      <td>ridge_crude</td>\n",
       "      <td>0.782643</td>\n",
       "      <td>0.006584</td>\n",
       "      <td>0.784937</td>\n",
       "      <td>0.003340</td>\n",
       "    </tr>\n",
       "  </tbody>\n",
       "</table>\n",
       "</div>"
      ],
      "text/plain": [
       "              model  auc_2yr_te    sem_te  auc_2yr_tr    sem_tr\n",
       "0         gbm_crude    0.814230  0.006072    0.850084  0.002805\n",
       "1         rsf_crude    0.795440  0.006377    0.883202  0.002398\n",
       "5  linear_svm_crude    0.785235  0.006473    0.790172  0.003294\n",
       "3       lasso_crude    0.783386  0.006583    0.785551  0.003348\n",
       "4        enet_crude    0.783361  0.006578    0.785536  0.003336\n",
       "2       ridge_crude    0.782643  0.006584    0.784937  0.003340"
      ]
     },
     "execution_count": 196,
     "metadata": {},
     "output_type": "execute_result"
    }
   ],
   "source": [
    "crude_auc_df.sort_values(by = 'auc_2yr_te', ascending = False)"
   ]
  },
  {
   "cell_type": "code",
   "execution_count": 193,
   "id": "da6aad2e",
   "metadata": {},
   "outputs": [],
   "source": [
    "crude_auc_df.to_csv('crude_auc_df.csv', index = False, header = True)"
   ]
  },
  {
   "cell_type": "code",
   "execution_count": 194,
   "id": "20d4e732",
   "metadata": {},
   "outputs": [],
   "source": [
    "times = np.arange(30, 1810, 30)\n",
    "crude_linear_svm_auc_over5 = cumulative_dynamic_auc(train_y, test_y, linear_svm_risk_scores_te, times)[0]\n",
    "\n",
    "times_data = {}\n",
    "values = crude_linear_svm_auc_over5\n",
    "time_names = []\n",
    "\n",
    "for x in range(len(times)):\n",
    "    time_names.append('time_'+str(times[x]))\n",
    "\n",
    "for i in range(len(time_names)):\n",
    "    times_data[time_names[i]] = values[i]\n",
    "    \n",
    "crude_linear_svm_over5_df = pd.DataFrame(times_data, index = ['linear_svm_crude'])"
   ]
  },
  {
   "cell_type": "code",
   "execution_count": 195,
   "id": "3d3b9f5e",
   "metadata": {},
   "outputs": [],
   "source": [
    "crude_auc_over5 = pd.read_csv('crude_auc_over5.csv', index_col = 0)"
   ]
  },
  {
   "cell_type": "code",
   "execution_count": 196,
   "id": "c0fc0d95",
   "metadata": {},
   "outputs": [],
   "source": [
    "crude_auc_over5 = crude_auc_over5.append(crude_linear_svm_over5_df, ignore_index = False)"
   ]
  },
  {
   "cell_type": "code",
   "execution_count": 197,
   "id": "1a696372",
   "metadata": {},
   "outputs": [
    {
     "data": {
      "text/html": [
       "<div>\n",
       "<style scoped>\n",
       "    .dataframe tbody tr th:only-of-type {\n",
       "        vertical-align: middle;\n",
       "    }\n",
       "\n",
       "    .dataframe tbody tr th {\n",
       "        vertical-align: top;\n",
       "    }\n",
       "\n",
       "    .dataframe thead th {\n",
       "        text-align: right;\n",
       "    }\n",
       "</style>\n",
       "<table border=\"1\" class=\"dataframe\">\n",
       "  <thead>\n",
       "    <tr style=\"text-align: right;\">\n",
       "      <th></th>\n",
       "      <th>time_30</th>\n",
       "      <th>time_60</th>\n",
       "      <th>time_90</th>\n",
       "      <th>time_120</th>\n",
       "      <th>time_150</th>\n",
       "      <th>time_180</th>\n",
       "      <th>time_210</th>\n",
       "      <th>time_240</th>\n",
       "      <th>time_270</th>\n",
       "      <th>time_300</th>\n",
       "      <th>...</th>\n",
       "      <th>time_1530</th>\n",
       "      <th>time_1560</th>\n",
       "      <th>time_1590</th>\n",
       "      <th>time_1620</th>\n",
       "      <th>time_1650</th>\n",
       "      <th>time_1680</th>\n",
       "      <th>time_1710</th>\n",
       "      <th>time_1740</th>\n",
       "      <th>time_1770</th>\n",
       "      <th>time_1800</th>\n",
       "    </tr>\n",
       "  </thead>\n",
       "  <tbody>\n",
       "    <tr>\n",
       "      <th>gbm_crude</th>\n",
       "      <td>0.873304</td>\n",
       "      <td>0.888984</td>\n",
       "      <td>0.867964</td>\n",
       "      <td>0.864796</td>\n",
       "      <td>0.861240</td>\n",
       "      <td>0.851446</td>\n",
       "      <td>0.852150</td>\n",
       "      <td>0.850231</td>\n",
       "      <td>0.849392</td>\n",
       "      <td>0.847236</td>\n",
       "      <td>...</td>\n",
       "      <td>0.777148</td>\n",
       "      <td>0.774056</td>\n",
       "      <td>0.775649</td>\n",
       "      <td>0.775367</td>\n",
       "      <td>0.773297</td>\n",
       "      <td>0.773237</td>\n",
       "      <td>0.772034</td>\n",
       "      <td>0.770778</td>\n",
       "      <td>0.771211</td>\n",
       "      <td>0.770631</td>\n",
       "    </tr>\n",
       "    <tr>\n",
       "      <th>rsf_crude</th>\n",
       "      <td>0.872494</td>\n",
       "      <td>0.878457</td>\n",
       "      <td>0.850630</td>\n",
       "      <td>0.844724</td>\n",
       "      <td>0.840922</td>\n",
       "      <td>0.831971</td>\n",
       "      <td>0.831404</td>\n",
       "      <td>0.828014</td>\n",
       "      <td>0.827749</td>\n",
       "      <td>0.826762</td>\n",
       "      <td>...</td>\n",
       "      <td>0.761893</td>\n",
       "      <td>0.757587</td>\n",
       "      <td>0.759615</td>\n",
       "      <td>0.758983</td>\n",
       "      <td>0.756183</td>\n",
       "      <td>0.755631</td>\n",
       "      <td>0.755043</td>\n",
       "      <td>0.754491</td>\n",
       "      <td>0.754104</td>\n",
       "      <td>0.753775</td>\n",
       "    </tr>\n",
       "    <tr>\n",
       "      <th>ridge_crude</th>\n",
       "      <td>0.855335</td>\n",
       "      <td>0.856749</td>\n",
       "      <td>0.837823</td>\n",
       "      <td>0.828204</td>\n",
       "      <td>0.823431</td>\n",
       "      <td>0.812694</td>\n",
       "      <td>0.812031</td>\n",
       "      <td>0.811284</td>\n",
       "      <td>0.812569</td>\n",
       "      <td>0.809599</td>\n",
       "      <td>...</td>\n",
       "      <td>0.754126</td>\n",
       "      <td>0.752117</td>\n",
       "      <td>0.753650</td>\n",
       "      <td>0.755019</td>\n",
       "      <td>0.753970</td>\n",
       "      <td>0.751410</td>\n",
       "      <td>0.750400</td>\n",
       "      <td>0.748705</td>\n",
       "      <td>0.749554</td>\n",
       "      <td>0.750416</td>\n",
       "    </tr>\n",
       "    <tr>\n",
       "      <th>lasso_crude</th>\n",
       "      <td>0.852667</td>\n",
       "      <td>0.855843</td>\n",
       "      <td>0.836401</td>\n",
       "      <td>0.827503</td>\n",
       "      <td>0.823688</td>\n",
       "      <td>0.813346</td>\n",
       "      <td>0.813092</td>\n",
       "      <td>0.811690</td>\n",
       "      <td>0.813284</td>\n",
       "      <td>0.810701</td>\n",
       "      <td>...</td>\n",
       "      <td>0.753856</td>\n",
       "      <td>0.751792</td>\n",
       "      <td>0.753296</td>\n",
       "      <td>0.754496</td>\n",
       "      <td>0.753567</td>\n",
       "      <td>0.751013</td>\n",
       "      <td>0.749977</td>\n",
       "      <td>0.748455</td>\n",
       "      <td>0.749398</td>\n",
       "      <td>0.750194</td>\n",
       "    </tr>\n",
       "    <tr>\n",
       "      <th>enet_crude</th>\n",
       "      <td>0.853290</td>\n",
       "      <td>0.856135</td>\n",
       "      <td>0.836745</td>\n",
       "      <td>0.827802</td>\n",
       "      <td>0.823841</td>\n",
       "      <td>0.813479</td>\n",
       "      <td>0.813269</td>\n",
       "      <td>0.811878</td>\n",
       "      <td>0.813410</td>\n",
       "      <td>0.810716</td>\n",
       "      <td>...</td>\n",
       "      <td>0.753871</td>\n",
       "      <td>0.751825</td>\n",
       "      <td>0.753323</td>\n",
       "      <td>0.754536</td>\n",
       "      <td>0.753576</td>\n",
       "      <td>0.751017</td>\n",
       "      <td>0.749988</td>\n",
       "      <td>0.748450</td>\n",
       "      <td>0.749392</td>\n",
       "      <td>0.750192</td>\n",
       "    </tr>\n",
       "    <tr>\n",
       "      <th>linear_svm_crude</th>\n",
       "      <td>0.860922</td>\n",
       "      <td>0.861381</td>\n",
       "      <td>0.844065</td>\n",
       "      <td>0.833145</td>\n",
       "      <td>0.828654</td>\n",
       "      <td>0.818062</td>\n",
       "      <td>0.817972</td>\n",
       "      <td>0.816904</td>\n",
       "      <td>0.817948</td>\n",
       "      <td>0.814352</td>\n",
       "      <td>...</td>\n",
       "      <td>0.755481</td>\n",
       "      <td>0.753578</td>\n",
       "      <td>0.755677</td>\n",
       "      <td>0.757073</td>\n",
       "      <td>0.756042</td>\n",
       "      <td>0.753759</td>\n",
       "      <td>0.752937</td>\n",
       "      <td>0.750994</td>\n",
       "      <td>0.752367</td>\n",
       "      <td>0.753297</td>\n",
       "    </tr>\n",
       "  </tbody>\n",
       "</table>\n",
       "<p>6 rows × 60 columns</p>\n",
       "</div>"
      ],
      "text/plain": [
       "                   time_30   time_60   time_90  time_120  time_150  time_180  \\\n",
       "gbm_crude         0.873304  0.888984  0.867964  0.864796  0.861240  0.851446   \n",
       "rsf_crude         0.872494  0.878457  0.850630  0.844724  0.840922  0.831971   \n",
       "ridge_crude       0.855335  0.856749  0.837823  0.828204  0.823431  0.812694   \n",
       "lasso_crude       0.852667  0.855843  0.836401  0.827503  0.823688  0.813346   \n",
       "enet_crude        0.853290  0.856135  0.836745  0.827802  0.823841  0.813479   \n",
       "linear_svm_crude  0.860922  0.861381  0.844065  0.833145  0.828654  0.818062   \n",
       "\n",
       "                  time_210  time_240  time_270  time_300  ...  time_1530  \\\n",
       "gbm_crude         0.852150  0.850231  0.849392  0.847236  ...   0.777148   \n",
       "rsf_crude         0.831404  0.828014  0.827749  0.826762  ...   0.761893   \n",
       "ridge_crude       0.812031  0.811284  0.812569  0.809599  ...   0.754126   \n",
       "lasso_crude       0.813092  0.811690  0.813284  0.810701  ...   0.753856   \n",
       "enet_crude        0.813269  0.811878  0.813410  0.810716  ...   0.753871   \n",
       "linear_svm_crude  0.817972  0.816904  0.817948  0.814352  ...   0.755481   \n",
       "\n",
       "                  time_1560  time_1590  time_1620  time_1650  time_1680  \\\n",
       "gbm_crude          0.774056   0.775649   0.775367   0.773297   0.773237   \n",
       "rsf_crude          0.757587   0.759615   0.758983   0.756183   0.755631   \n",
       "ridge_crude        0.752117   0.753650   0.755019   0.753970   0.751410   \n",
       "lasso_crude        0.751792   0.753296   0.754496   0.753567   0.751013   \n",
       "enet_crude         0.751825   0.753323   0.754536   0.753576   0.751017   \n",
       "linear_svm_crude   0.753578   0.755677   0.757073   0.756042   0.753759   \n",
       "\n",
       "                  time_1710  time_1740  time_1770  time_1800  \n",
       "gbm_crude          0.772034   0.770778   0.771211   0.770631  \n",
       "rsf_crude          0.755043   0.754491   0.754104   0.753775  \n",
       "ridge_crude        0.750400   0.748705   0.749554   0.750416  \n",
       "lasso_crude        0.749977   0.748455   0.749398   0.750194  \n",
       "enet_crude         0.749988   0.748450   0.749392   0.750192  \n",
       "linear_svm_crude   0.752937   0.750994   0.752367   0.753297  \n",
       "\n",
       "[6 rows x 60 columns]"
      ]
     },
     "execution_count": 201,
     "metadata": {},
     "output_type": "execute_result"
    }
   ],
   "source": [
    "crude_auc_over5"
   ]
  },
  {
   "cell_type": "code",
   "execution_count": 198,
   "id": "efd52084",
   "metadata": {},
   "outputs": [],
   "source": [
    "crude_auc_over5.to_csv('crude_auc_over5.csv', index = True, header = True)"
   ]
  },
  {
   "cell_type": "code",
   "execution_count": 199,
   "id": "d630527e",
   "metadata": {},
   "outputs": [],
   "source": [
    "# Variables passing through pipeline\n",
    "cat_encoder = list(preprocessor_red.transformers_[1][1].get_feature_names_out(categorical_features))\n",
    "pass_through = list(train_x_red.iloc[:, preprocessor_red.transformers_[2][2]].columns)\n",
    "attributes = numerical_features_red + cat_encoder + pass_through"
   ]
  },
  {
   "cell_type": "code",
   "execution_count": 200,
   "id": "6351c8a4",
   "metadata": {},
   "outputs": [
    {
     "name": "stdout",
     "output_type": "stream",
     "text": [
      "Total number of features: 168\n",
      "Number of non-zero features in final model: 168\n"
     ]
    },
    {
     "data": {
      "image/png": "[encoded data removed]",
      "text/plain": [
       "<Figure size 600x800 with 1 Axes>"
      ]
     },
     "metadata": {},
     "output_type": "display_data"
    }
   ],
   "source": [
    "# Dataframe of coefficients for each variable \n",
    "coefficients_linear_svm = pd.DataFrame(\n",
    "    linear_svm.named_steps['fastsurvivalsvm'].coef_,\n",
    "    index = attributes,\n",
    "    columns = ['coefficient']\n",
    ")\n",
    "\n",
    "print('Total number of features: {}'.format(len(attributes)))\n",
    "\n",
    "non_zero = np.sum(coefficients_linear_svm.iloc[:, 0] != 0)\n",
    "print('Number of non-zero features in final model: {}'.format(non_zero))\n",
    "\n",
    "non_zero_coefs = coefficients_linear_svm.query('coefficient != 0')\n",
    "coef_order = non_zero_coefs.abs().sort_values('coefficient').tail(30).index\n",
    "\n",
    "_, ax = plt.subplots(figsize=(6, 8))\n",
    "non_zero_coefs.loc[coef_order].plot.barh(ax = ax, legend = False)\n",
    "ax.set_xlabel('coefficient')\n",
    "ax.grid(True)"
   ]
  },
  {
   "cell_type": "markdown",
   "id": "8fd67e57",
   "metadata": {},
   "source": [
    "**In conclusion, the gradient boosted model has the best test set performance in regards to 2 year AUC. Random survival forest follows closely behind. The bottom performers are penalized Cox and linear survival support vector machine.** "
   ]
  }
 ],
 "metadata": {
  "kernelspec": {
   "display_name": "My Virtual Environment",
   "language": "python",
   "name": "myenv"
  },
  "language_info": {
   "codemirror_mode": {
    "name": "ipython",
    "version": 3
   },
   "file_extension": ".py",
   "mimetype": "text/x-python",
   "name": "python",
   "nbconvert_exporter": "python",
   "pygments_lexer": "ipython3",
   "version": "3.7.10"
  }
 },
 "nbformat": 4,
 "nbformat_minor": 5
}
