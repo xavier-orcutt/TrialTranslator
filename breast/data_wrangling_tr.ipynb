{
 "cells": [
  {
   "cell_type": "markdown",
   "id": "775ff0f5",
   "metadata": {},
   "source": [
    "# Flatiron Health mBC: Data Wrangling Training Set\n",
    "\n",
    "**OBJECTIVE: Identify a training cohort and create a dataframe of relevant variables which can be used to build machine learning survival models.**\n",
    "\n",
    "**BACKGROUND: There are three sections to this notebook. First, the final cohort will be split 80-20 into a training and test set. The split will ensure the distribution of diagnosis years is the same in the training and test set given increased missingness of in earlier diagnosis years and changes in treatment practices with time.**\n",
    "\n",
    "**The second section of this notebook involves preparing the data so that each row corresponds to a unique patient from the training set and each column is a relevant variable for mortality prognositication. There are 13 CSV files from Flatiron that will be used. The eligibility window for collecting variables is typically -90 days and +30 days from index date, which is time of metastatic diagnosis. Plus 30 was selected as the upper bound of the eligibility window given that median time to start of first line treatment is about 30 days from metastatic diagnosis.**\n",
    "\n",
    "**The last section involves merging these datatables into a master which will be used for building machine learning survival models.** \n",
    "\n",
    "**Details on handling missing data is discuessed in the machine learning building notebook.** \n",
    "\n",
    "**OUTLINE:**\n",
    "1. **Creating training and test cohort**\n",
    "2. **File cleaning for patients in training set**\n",
    "3. **Merge files to create master training dataframe**"
   ]
  },
  {
   "cell_type": "markdown",
   "id": "9476f051",
   "metadata": {},
   "source": [
    "## Part 1: Creating training and test cohort "
   ]
  },
  {
   "cell_type": "code",
   "execution_count": 1,
   "id": "c756a87a",
   "metadata": {},
   "outputs": [],
   "source": [
    "import numpy as np\n",
    "import pandas as pd\n",
    "import matplotlib.pyplot as plt\n",
    "import datetime as dt\n",
    "from sklearn.model_selection import StratifiedShuffleSplit"
   ]
  },
  {
   "cell_type": "code",
   "execution_count": 2,
   "id": "f4a792b4",
   "metadata": {},
   "outputs": [],
   "source": [
    "# Function that returns number of rows and count of unique PatientIDs for a dataframe. \n",
    "def row_ID(dataframe):\n",
    "    row = dataframe.shape[0]\n",
    "    ID = dataframe['PatientID'].nunique()\n",
    "    return row, ID"
   ]
  },
  {
   "cell_type": "markdown",
   "id": "0dae7773",
   "metadata": {},
   "source": [
    "### Splitting into training and test set\n",
    "\n",
    "**Patients will be split into a training and test set (80/20) stratified by advanced diagnosis year.**"
   ]
  },
  {
   "cell_type": "code",
   "execution_count": 3,
   "id": "2fa5a6a6",
   "metadata": {},
   "outputs": [],
   "source": [
    "enhanced_met = pd.read_csv('Enhanced_MetastaticBreast.csv')"
   ]
  },
  {
   "cell_type": "code",
   "execution_count": 4,
   "id": "f8e882ed",
   "metadata": {},
   "outputs": [
    {
     "data": {
      "text/plain": [
       "(31677, 31677)"
      ]
     },
     "execution_count": 4,
     "metadata": {},
     "output_type": "execute_result"
    }
   ],
   "source": [
    "row_ID(enhanced_met)"
   ]
  },
  {
   "cell_type": "code",
   "execution_count": 5,
   "id": "e17918a0",
   "metadata": {},
   "outputs": [],
   "source": [
    "enhanced_met.loc[:, 'MetDiagnosisDate'] = pd.to_datetime(enhanced_met['MetDiagnosisDate'])"
   ]
  },
  {
   "cell_type": "code",
   "execution_count": 6,
   "id": "49fdf65a",
   "metadata": {},
   "outputs": [],
   "source": [
    "enhanced_met = enhanced_met.rename(columns = {'MetDiagnosisDate': 'met_date'})"
   ]
  },
  {
   "cell_type": "code",
   "execution_count": 7,
   "id": "20190182",
   "metadata": {},
   "outputs": [
    {
     "data": {
      "text/plain": [
       "2018    0.098778\n",
       "2017    0.096853\n",
       "2015    0.095716\n",
       "2016    0.095653\n",
       "2019    0.095053\n",
       "2014    0.091518\n",
       "2020    0.086624\n",
       "2013    0.083026\n",
       "2021    0.079300\n",
       "2012    0.074755\n",
       "2011    0.062601\n",
       "2022    0.040124\n",
       "Name: met_date, dtype: float64"
      ]
     },
     "execution_count": 7,
     "metadata": {},
     "output_type": "execute_result"
    }
   ],
   "source": [
    "enhanced_met['met_date'].dt.year.value_counts()/len(enhanced_met)"
   ]
  },
  {
   "cell_type": "code",
   "execution_count": 8,
   "id": "b011af22",
   "metadata": {},
   "outputs": [
    {
     "data": {
      "text/plain": [
       "count    31677.000000\n",
       "mean      2016.423462\n",
       "std          3.154600\n",
       "min       2011.000000\n",
       "25%       2014.000000\n",
       "50%       2016.000000\n",
       "75%       2019.000000\n",
       "max       2022.000000\n",
       "Name: met_date, dtype: float64"
      ]
     },
     "execution_count": 8,
     "metadata": {},
     "output_type": "execute_result"
    }
   ],
   "source": [
    "enhanced_met['met_date'].dt.year.describe()"
   ]
  },
  {
   "cell_type": "code",
   "execution_count": 9,
   "id": "44192324",
   "metadata": {},
   "outputs": [
    {
     "data": {
      "text/plain": [
       "<AxesSubplot:xlabel='met_date'>"
      ]
     },
     "execution_count": 9,
     "metadata": {},
     "output_type": "execute_result"
    },
    {
     "data": {
      "image/png": "[encoded data removed]",
      "text/plain": [
       "<Figure size 432x288 with 1 Axes>"
      ]
     },
     "metadata": {
      "needs_background": "light"
     },
     "output_type": "display_data"
    }
   ],
   "source": [
    "enhanced_met.groupby([enhanced_met['met_date'].dt.year])['PatientID'].count().plot(kind = 'bar')"
   ]
  },
  {
   "cell_type": "code",
   "execution_count": 10,
   "id": "99936471",
   "metadata": {},
   "outputs": [
    {
     "data": {
      "text/plain": [
       "<AxesSubplot:xlabel='met_date'>"
      ]
     },
     "execution_count": 10,
     "metadata": {},
     "output_type": "execute_result"
    },
    {
     "data": {
      "image/png": "[encoded data removed]",
      "text/plain": [
       "<Figure size 432x288 with 1 Axes>"
      ]
     },
     "metadata": {
      "needs_background": "light"
     },
     "output_type": "display_data"
    }
   ],
   "source": [
    "enhanced_met.groupby([enhanced_met['met_date'].dt.month])['PatientID'].count().plot(kind = 'bar')"
   ]
  },
  {
   "cell_type": "code",
   "execution_count": 11,
   "id": "3f180731",
   "metadata": {},
   "outputs": [],
   "source": [
    "enhanced_met['met_year_cat'] = pd.cut(enhanced_met['met_date'].dt.year,\n",
    "                                      bins = [2010, 2012, 2014, 2016, 2018, 2020, 2022],\n",
    "                                      labels = ['11-12', '13-14', '15-16', '17-18', '19-20', '21-22'])"
   ]
  },
  {
   "cell_type": "code",
   "execution_count": 12,
   "id": "80f305fd",
   "metadata": {},
   "outputs": [
    {
     "data": {
      "text/plain": [
       "17-18    0.195631\n",
       "15-16    0.191369\n",
       "19-20    0.181678\n",
       "13-14    0.174543\n",
       "11-12    0.137355\n",
       "21-22    0.119424\n",
       "Name: met_year_cat, dtype: float64"
      ]
     },
     "execution_count": 12,
     "metadata": {},
     "output_type": "execute_result"
    }
   ],
   "source": [
    "enhanced_met['met_year_cat'].value_counts(normalize = True, dropna = False)"
   ]
  },
  {
   "cell_type": "code",
   "execution_count": 13,
   "id": "fafef5f9",
   "metadata": {},
   "outputs": [
    {
     "data": {
      "text/plain": [
       "31677"
      ]
     },
     "execution_count": 13,
     "metadata": {},
     "output_type": "execute_result"
    }
   ],
   "source": [
    "enhanced_met['met_year_cat'].value_counts().sum()"
   ]
  },
  {
   "cell_type": "code",
   "execution_count": 14,
   "id": "af90f0d8",
   "metadata": {},
   "outputs": [
    {
     "data": {
      "text/plain": [
       "<AxesSubplot:xlabel='met_year_cat'>"
      ]
     },
     "execution_count": 14,
     "metadata": {},
     "output_type": "execute_result"
    },
    {
     "data": {
      "image/png": "[encoded data removed]",
      "text/plain": [
       "<Figure size 432x288 with 1 Axes>"
      ]
     },
     "metadata": {
      "needs_background": "light"
     },
     "output_type": "display_data"
    }
   ],
   "source": [
    "enhanced_met.groupby([enhanced_met['met_year_cat']])['PatientID'].count().plot(kind = 'bar')"
   ]
  },
  {
   "cell_type": "code",
   "execution_count": 15,
   "id": "542dd496",
   "metadata": {},
   "outputs": [],
   "source": [
    "sss = StratifiedShuffleSplit(n_splits = 1, test_size = 0.2, random_state = 42)\n",
    "\n",
    "for train_index, test_index in sss.split(enhanced_met, enhanced_met['met_year_cat']):\n",
    "    train_set = enhanced_met.iloc[train_index]\n",
    "    test_set = enhanced_met.iloc[test_index]"
   ]
  },
  {
   "cell_type": "code",
   "execution_count": 16,
   "id": "47e37c50",
   "metadata": {},
   "outputs": [
    {
     "data": {
      "text/plain": [
       "17-18    0.195612\n",
       "15-16    0.191389\n",
       "19-20    0.181682\n",
       "13-14    0.174539\n",
       "11-12    0.137366\n",
       "21-22    0.119411\n",
       "Name: met_year_cat, dtype: float64"
      ]
     },
     "execution_count": 16,
     "metadata": {},
     "output_type": "execute_result"
    }
   ],
   "source": [
    "train_set['met_year_cat'].value_counts()/len(train_set)"
   ]
  },
  {
   "cell_type": "code",
   "execution_count": 17,
   "id": "a143393b",
   "metadata": {},
   "outputs": [
    {
     "data": {
      "text/plain": [
       "17-18    0.195707\n",
       "15-16    0.191288\n",
       "19-20    0.181660\n",
       "13-14    0.174558\n",
       "11-12    0.137311\n",
       "21-22    0.119476\n",
       "Name: met_year_cat, dtype: float64"
      ]
     },
     "execution_count": 17,
     "metadata": {},
     "output_type": "execute_result"
    }
   ],
   "source": [
    "test_set['met_year_cat'].value_counts()/len(test_set)"
   ]
  },
  {
   "cell_type": "code",
   "execution_count": 18,
   "id": "e1b7bd3f",
   "metadata": {},
   "outputs": [
    {
     "data": {
      "text/plain": [
       "(25341, 25341)"
      ]
     },
     "execution_count": 18,
     "metadata": {},
     "output_type": "execute_result"
    }
   ],
   "source": [
    "row_ID(train_set)"
   ]
  },
  {
   "cell_type": "code",
   "execution_count": 19,
   "id": "75308c8a",
   "metadata": {},
   "outputs": [
    {
     "data": {
      "text/plain": [
       "(6336, 6336)"
      ]
     },
     "execution_count": 19,
     "metadata": {},
     "output_type": "execute_result"
    }
   ],
   "source": [
    "row_ID(test_set)"
   ]
  },
  {
   "cell_type": "code",
   "execution_count": 20,
   "id": "6aaa7024",
   "metadata": {},
   "outputs": [],
   "source": [
    "# Array of PatientIDs in training set.\n",
    "train_IDs = train_set['PatientID'].to_numpy()"
   ]
  },
  {
   "cell_type": "code",
   "execution_count": 21,
   "id": "e7418431",
   "metadata": {},
   "outputs": [],
   "source": [
    "pd.DataFrame(train_IDs, columns = ['PatientID']).to_csv('train_IDs.csv', index = False, header = True)"
   ]
  },
  {
   "cell_type": "code",
   "execution_count": 22,
   "id": "2b28e46f",
   "metadata": {},
   "outputs": [],
   "source": [
    "# Array of PatientIDs in test set.\n",
    "test_IDs = test_set['PatientID'].to_numpy()"
   ]
  },
  {
   "cell_type": "code",
   "execution_count": 23,
   "id": "9ab52477",
   "metadata": {},
   "outputs": [],
   "source": [
    "pd.DataFrame(test_IDs, columns = ['PatientID']).to_csv('test_IDs.csv', index = False, header = True)"
   ]
  },
  {
   "cell_type": "code",
   "execution_count": 24,
   "id": "435aa4a3",
   "metadata": {},
   "outputs": [
    {
     "name": "stdout",
     "output_type": "stream",
     "text": [
      "Variable       Type         Data/Info\n",
      "-------------------------------------\n",
      "enhanced_met   DataFrame               PatientID Diag<...>n[31677 rows x 5 columns]\n",
      "test_set       DataFrame               PatientID Diag<...>\\n[6336 rows x 5 columns]\n",
      "train_set      DataFrame               PatientID Diag<...>n[25341 rows x 5 columns]\n"
     ]
    }
   ],
   "source": [
    "%whos DataFrame"
   ]
  },
  {
   "cell_type": "code",
   "execution_count": 25,
   "id": "10adbd0f",
   "metadata": {},
   "outputs": [],
   "source": [
    "# Keep enhanced_met and visit_tele.\n",
    "del test_set\n",
    "del train_set"
   ]
  },
  {
   "cell_type": "markdown",
   "id": "51a888f2",
   "metadata": {},
   "source": [
    "## Part 2: Data wrangling\n",
    "\n",
    "**Relevant CSV files will be imported and cleaned. A file is considered cleaned when each row corresponds to a unique patient from the training set and each column is a relevant variable for mortality prognositication. The eligibility window for collecting variables is typically defined as -90 days and +30 days from index date. The index date is time of metastatic diagnosis. Plus 30 was selected as the upper bound of the eligibility window given that median time to start of first line treatment is about 30 days from metastatic diagnosis.** \n",
    "\n",
    "**The following CSV files from Flatiron will be cleaned:**\n",
    "1. **Demographics and Practice**\n",
    "2. **Enhanced_MetastaticBreast**\n",
    "3. **Enhanced_Mortality_V2**\n",
    "4. **MedicationAdministration**\n",
    "5. **Enhanced_MetBreastBiomarkers**\n",
    "6. **Insurance**\n",
    "7. **ECOG**\n",
    "8. **Vitals**\n",
    "9. **Labs**\n",
    "10. **Diagnosis and Enhanced_MetBreastSitesOfMet**\n",
    "11. **SocialDeeterminantsOfHealth**"
   ]
  },
  {
   "cell_type": "markdown",
   "id": "8328b9ab",
   "metadata": {},
   "source": [
    "### 1. Demographics"
   ]
  },
  {
   "cell_type": "code",
   "execution_count": 26,
   "id": "e21ec8b4",
   "metadata": {},
   "outputs": [],
   "source": [
    "demographics = pd.read_csv('Demographics.csv')"
   ]
  },
  {
   "cell_type": "code",
   "execution_count": 27,
   "id": "033ef766",
   "metadata": {},
   "outputs": [],
   "source": [
    "demographics = demographics[demographics['PatientID'].isin(train_IDs)]"
   ]
  },
  {
   "cell_type": "code",
   "execution_count": 28,
   "id": "18280f30",
   "metadata": {},
   "outputs": [
    {
     "data": {
      "text/html": [
       "<div>\n",
       "<style scoped>\n",
       "    .dataframe tbody tr th:only-of-type {\n",
       "        vertical-align: middle;\n",
       "    }\n",
       "\n",
       "    .dataframe tbody tr th {\n",
       "        vertical-align: top;\n",
       "    }\n",
       "\n",
       "    .dataframe thead th {\n",
       "        text-align: right;\n",
       "    }\n",
       "</style>\n",
       "<table border=\"1\" class=\"dataframe\">\n",
       "  <thead>\n",
       "    <tr style=\"text-align: right;\">\n",
       "      <th></th>\n",
       "      <th>PatientID</th>\n",
       "      <th>BirthYear</th>\n",
       "      <th>Gender</th>\n",
       "      <th>Race</th>\n",
       "      <th>Ethnicity</th>\n",
       "      <th>State</th>\n",
       "    </tr>\n",
       "  </thead>\n",
       "  <tbody>\n",
       "    <tr>\n",
       "      <th>9614</th>\n",
       "      <td>F1BF0F12C20CB</td>\n",
       "      <td>1973</td>\n",
       "      <td>F</td>\n",
       "      <td>White</td>\n",
       "      <td>Not Hispanic or Latino</td>\n",
       "      <td>NaN</td>\n",
       "    </tr>\n",
       "    <tr>\n",
       "      <th>6227</th>\n",
       "      <td>FE66EB8FBC03E</td>\n",
       "      <td>1959</td>\n",
       "      <td>F</td>\n",
       "      <td>Black or African American</td>\n",
       "      <td>Not Hispanic or Latino</td>\n",
       "      <td>LA</td>\n",
       "    </tr>\n",
       "    <tr>\n",
       "      <th>9301</th>\n",
       "      <td>F9683F47AF013</td>\n",
       "      <td>1944</td>\n",
       "      <td>F</td>\n",
       "      <td>White</td>\n",
       "      <td>Not Hispanic or Latino</td>\n",
       "      <td>TX</td>\n",
       "    </tr>\n",
       "    <tr>\n",
       "      <th>188</th>\n",
       "      <td>F498C4BE4122C</td>\n",
       "      <td>1953</td>\n",
       "      <td>F</td>\n",
       "      <td>White</td>\n",
       "      <td>Not Hispanic or Latino</td>\n",
       "      <td>NaN</td>\n",
       "    </tr>\n",
       "    <tr>\n",
       "      <th>2305</th>\n",
       "      <td>F17325A5AA275</td>\n",
       "      <td>1948</td>\n",
       "      <td>F</td>\n",
       "      <td>NaN</td>\n",
       "      <td>Not Hispanic or Latino</td>\n",
       "      <td>VA</td>\n",
       "    </tr>\n",
       "  </tbody>\n",
       "</table>\n",
       "</div>"
      ],
      "text/plain": [
       "          PatientID  BirthYear Gender                       Race  \\\n",
       "9614  F1BF0F12C20CB       1973      F                      White   \n",
       "6227  FE66EB8FBC03E       1959      F  Black or African American   \n",
       "9301  F9683F47AF013       1944      F                      White   \n",
       "188   F498C4BE4122C       1953      F                      White   \n",
       "2305  F17325A5AA275       1948      F                        NaN   \n",
       "\n",
       "                   Ethnicity State  \n",
       "9614  Not Hispanic or Latino   NaN  \n",
       "6227  Not Hispanic or Latino    LA  \n",
       "9301  Not Hispanic or Latino    TX  \n",
       "188   Not Hispanic or Latino   NaN  \n",
       "2305  Not Hispanic or Latino    VA  "
      ]
     },
     "execution_count": 28,
     "metadata": {},
     "output_type": "execute_result"
    }
   ],
   "source": [
    "demographics.sample(5)"
   ]
  },
  {
   "cell_type": "code",
   "execution_count": 29,
   "id": "f2c80347",
   "metadata": {},
   "outputs": [
    {
     "name": "stdout",
     "output_type": "stream",
     "text": [
      "<class 'pandas.core.frame.DataFrame'>\n",
      "Int64Index: 25341 entries, 1 to 31676\n",
      "Data columns (total 6 columns):\n",
      " #   Column     Non-Null Count  Dtype \n",
      "---  ------     --------------  ----- \n",
      " 0   PatientID  25341 non-null  object\n",
      " 1   BirthYear  25341 non-null  int64 \n",
      " 2   Gender     25339 non-null  object\n",
      " 3   Race       22818 non-null  object\n",
      " 4   Ethnicity  21090 non-null  object\n",
      " 5   State      20133 non-null  object\n",
      "dtypes: int64(1), object(5)\n",
      "memory usage: 1.4+ MB\n"
     ]
    }
   ],
   "source": [
    "demographics.info()"
   ]
  },
  {
   "cell_type": "code",
   "execution_count": 30,
   "id": "f930d139",
   "metadata": {},
   "outputs": [
    {
     "data": {
      "text/plain": [
       "(25341, 25341)"
      ]
     },
     "execution_count": 30,
     "metadata": {},
     "output_type": "execute_result"
    }
   ],
   "source": [
    "row_ID(demographics)"
   ]
  },
  {
   "cell_type": "markdown",
   "id": "731af967",
   "metadata": {},
   "source": [
    "#### Race and Ethnicity"
   ]
  },
  {
   "cell_type": "code",
   "execution_count": 31,
   "id": "957a17b4",
   "metadata": {},
   "outputs": [
    {
     "data": {
      "text/plain": [
       "White                        64.291070\n",
       "Black or African American    11.795115\n",
       "Other Race                   11.684622\n",
       "NaN                           9.956197\n",
       "Asian                         2.055957\n",
       "Hispanic or Latino            0.217040\n",
       "Name: Race, dtype: float64"
      ]
     },
     "execution_count": 31,
     "metadata": {},
     "output_type": "execute_result"
    }
   ],
   "source": [
    "demographics['Race'].value_counts(normalize = True, dropna = False)*100"
   ]
  },
  {
   "cell_type": "code",
   "execution_count": 32,
   "id": "90727657",
   "metadata": {},
   "outputs": [
    {
     "data": {
      "text/plain": [
       "Not Hispanic or Latino    75.364035\n",
       "NaN                       16.775186\n",
       "Hispanic or Latino         7.860779\n",
       "Name: Ethnicity, dtype: float64"
      ]
     },
     "execution_count": 32,
     "metadata": {},
     "output_type": "execute_result"
    }
   ],
   "source": [
    "demographics['Ethnicity'].value_counts(normalize = True, dropna = False)*100"
   ]
  },
  {
   "cell_type": "code",
   "execution_count": 33,
   "id": "1dd3f96a",
   "metadata": {},
   "outputs": [
    {
     "data": {
      "text/html": [
       "<div>\n",
       "<style scoped>\n",
       "    .dataframe tbody tr th:only-of-type {\n",
       "        vertical-align: middle;\n",
       "    }\n",
       "\n",
       "    .dataframe tbody tr th {\n",
       "        vertical-align: top;\n",
       "    }\n",
       "\n",
       "    .dataframe thead th {\n",
       "        text-align: right;\n",
       "    }\n",
       "</style>\n",
       "<table border=\"1\" class=\"dataframe\">\n",
       "  <thead>\n",
       "    <tr style=\"text-align: right;\">\n",
       "      <th></th>\n",
       "      <th>PatientID</th>\n",
       "      <th>BirthYear</th>\n",
       "      <th>Gender</th>\n",
       "      <th>Race</th>\n",
       "      <th>Ethnicity</th>\n",
       "      <th>State</th>\n",
       "    </tr>\n",
       "  </thead>\n",
       "  <tbody>\n",
       "    <tr>\n",
       "      <th>7031</th>\n",
       "      <td>F6C5A0A95D68F</td>\n",
       "      <td>1956</td>\n",
       "      <td>F</td>\n",
       "      <td>White</td>\n",
       "      <td>Hispanic or Latino</td>\n",
       "      <td>PR</td>\n",
       "    </tr>\n",
       "    <tr>\n",
       "      <th>21810</th>\n",
       "      <td>F61186632AACB</td>\n",
       "      <td>1959</td>\n",
       "      <td>F</td>\n",
       "      <td>NaN</td>\n",
       "      <td>Hispanic or Latino</td>\n",
       "      <td>TX</td>\n",
       "    </tr>\n",
       "    <tr>\n",
       "      <th>19653</th>\n",
       "      <td>F8B9CF856C7B7</td>\n",
       "      <td>1957</td>\n",
       "      <td>F</td>\n",
       "      <td>White</td>\n",
       "      <td>Hispanic or Latino</td>\n",
       "      <td>PR</td>\n",
       "    </tr>\n",
       "  </tbody>\n",
       "</table>\n",
       "</div>"
      ],
      "text/plain": [
       "           PatientID  BirthYear Gender   Race           Ethnicity State\n",
       "7031   F6C5A0A95D68F       1956      F  White  Hispanic or Latino    PR\n",
       "21810  F61186632AACB       1959      F    NaN  Hispanic or Latino    TX\n",
       "19653  F8B9CF856C7B7       1957      F  White  Hispanic or Latino    PR"
      ]
     },
     "execution_count": 33,
     "metadata": {},
     "output_type": "execute_result"
    }
   ],
   "source": [
    "demographics.query('Ethnicity == \"Hispanic or Latino\"').sample(3)"
   ]
  },
  {
   "cell_type": "code",
   "execution_count": 34,
   "id": "1b95ab72",
   "metadata": {},
   "outputs": [
    {
     "data": {
      "text/html": [
       "<div>\n",
       "<style scoped>\n",
       "    .dataframe tbody tr th:only-of-type {\n",
       "        vertical-align: middle;\n",
       "    }\n",
       "\n",
       "    .dataframe tbody tr th {\n",
       "        vertical-align: top;\n",
       "    }\n",
       "\n",
       "    .dataframe thead th {\n",
       "        text-align: right;\n",
       "    }\n",
       "</style>\n",
       "<table border=\"1\" class=\"dataframe\">\n",
       "  <thead>\n",
       "    <tr style=\"text-align: right;\">\n",
       "      <th></th>\n",
       "      <th>PatientID</th>\n",
       "      <th>BirthYear</th>\n",
       "      <th>Gender</th>\n",
       "      <th>Race</th>\n",
       "      <th>Ethnicity</th>\n",
       "      <th>State</th>\n",
       "    </tr>\n",
       "  </thead>\n",
       "  <tbody>\n",
       "    <tr>\n",
       "      <th>210</th>\n",
       "      <td>F34BC107179EA</td>\n",
       "      <td>1979</td>\n",
       "      <td>F</td>\n",
       "      <td>Hispanic or Latino</td>\n",
       "      <td>Not Hispanic or Latino</td>\n",
       "      <td>AZ</td>\n",
       "    </tr>\n",
       "    <tr>\n",
       "      <th>5294</th>\n",
       "      <td>F244516920178</td>\n",
       "      <td>1950</td>\n",
       "      <td>F</td>\n",
       "      <td>Hispanic or Latino</td>\n",
       "      <td>NaN</td>\n",
       "      <td>CA</td>\n",
       "    </tr>\n",
       "    <tr>\n",
       "      <th>6654</th>\n",
       "      <td>FD5B0FD5469BF</td>\n",
       "      <td>1983</td>\n",
       "      <td>F</td>\n",
       "      <td>Hispanic or Latino</td>\n",
       "      <td>Not Hispanic or Latino</td>\n",
       "      <td>MA</td>\n",
       "    </tr>\n",
       "  </tbody>\n",
       "</table>\n",
       "</div>"
      ],
      "text/plain": [
       "          PatientID  BirthYear Gender                Race  \\\n",
       "210   F34BC107179EA       1979      F  Hispanic or Latino   \n",
       "5294  F244516920178       1950      F  Hispanic or Latino   \n",
       "6654  FD5B0FD5469BF       1983      F  Hispanic or Latino   \n",
       "\n",
       "                   Ethnicity State  \n",
       "210   Not Hispanic or Latino    AZ  \n",
       "5294                     NaN    CA  \n",
       "6654  Not Hispanic or Latino    MA  "
      ]
     },
     "execution_count": 34,
     "metadata": {},
     "output_type": "execute_result"
    }
   ],
   "source": [
    "(\n",
    "    demographics\n",
    "    .query('Race == \"Hispanic or Latino\"')\n",
    "    .query('Ethnicity != \"Hispanic or Latino\"')\n",
    "    .head(3)\n",
    ")    "
   ]
  },
  {
   "cell_type": "markdown",
   "id": "eccba57a",
   "metadata": {},
   "source": [
    "**There are unexpected values where “Hispanic or Latino” appears as a race rather than ethnicity. Ethnicity will be recoded to align with the FDA standards for collecting race and ethnicity variables for clinical trials. Patients with a race value of “Hispanic or Latino” will have their race recoded as \"Unknown\" and ethnicity as “Hispanic or Latino.” Of note, ethnicity and race information is likely to be poorly captured since EHR platforms typically do not require documentation of race or ethnicity.**  "
   ]
  },
  {
   "cell_type": "code",
   "execution_count": 35,
   "id": "3675e343",
   "metadata": {},
   "outputs": [],
   "source": [
    "# If race value is 'Hispanic or Latino', code as unknown, otherwise value unchanged.\n",
    "demographics['race'] = (\n",
    "    np.where(demographics['Race'] == 'Hispanic or Latino', 'unknown', demographics['Race'])\n",
    ")"
   ]
  },
  {
   "cell_type": "code",
   "execution_count": 36,
   "id": "0df8dd69",
   "metadata": {},
   "outputs": [],
   "source": [
    "demographics['race'] = demographics['race'].fillna('unknown')"
   ]
  },
  {
   "cell_type": "code",
   "execution_count": 37,
   "id": "f9b62d58",
   "metadata": {},
   "outputs": [
    {
     "data": {
      "text/plain": [
       "White                        64.291070\n",
       "Black or African American    11.795115\n",
       "Other Race                   11.684622\n",
       "unknown                      10.173237\n",
       "Asian                         2.055957\n",
       "Name: race, dtype: float64"
      ]
     },
     "execution_count": 37,
     "metadata": {},
     "output_type": "execute_result"
    }
   ],
   "source": [
    "demographics['race'].value_counts(normalize = True, dropna = False)*100"
   ]
  },
  {
   "cell_type": "code",
   "execution_count": 38,
   "id": "8671c06e",
   "metadata": {},
   "outputs": [],
   "source": [
    "# If race value is equal to 'Hispanic or Latino', code ethnicity as 'Hispanic or Latino', otherwise unchanged. \n",
    "demographics['ethnicity'] = (\n",
    "    np.where(demographics['Race'] == 'Hispanic or Latino', 'hispanic_latino', demographics['Ethnicity'])\n",
    ")"
   ]
  },
  {
   "cell_type": "code",
   "execution_count": 39,
   "id": "08c76cc2",
   "metadata": {},
   "outputs": [],
   "source": [
    "demographics['ethnicity'] = demographics['ethnicity'].fillna('unknown')"
   ]
  },
  {
   "cell_type": "code",
   "execution_count": 40,
   "id": "9e6d12ae",
   "metadata": {},
   "outputs": [],
   "source": [
    "demographics['ethnicity'] = demographics['ethnicity'].replace({'Hispanic or Latino': 'hispanic_latino'})"
   ]
  },
  {
   "cell_type": "code",
   "execution_count": 41,
   "id": "dfd5bebb",
   "metadata": {},
   "outputs": [
    {
     "data": {
      "text/plain": [
       "Not Hispanic or Latino    75.336411\n",
       "unknown                   16.763348\n",
       "hispanic_latino            7.900241\n",
       "Name: ethnicity, dtype: float64"
      ]
     },
     "execution_count": 41,
     "metadata": {},
     "output_type": "execute_result"
    }
   ],
   "source": [
    "demographics['ethnicity'].value_counts(normalize = True, dropna = False)*100"
   ]
  },
  {
   "cell_type": "code",
   "execution_count": 42,
   "id": "66e47c91",
   "metadata": {},
   "outputs": [
    {
     "data": {
      "text/plain": [
       "ethnicity               race                     \n",
       "Not Hispanic or Latino  White                        0.554872\n",
       "                        Black or African American    0.103784\n",
       "unknown                 unknown                      0.068821\n",
       "                        White                        0.055286\n",
       "Not Hispanic or Latino  Other Race                   0.054497\n",
       "hispanic_latino         Other Race                   0.032951\n",
       "                        White                        0.032753\n",
       "unknown                 Other Race                   0.029399\n",
       "Not Hispanic or Latino  unknown                      0.022848\n",
       "                        Asian                        0.017363\n",
       "unknown                 Black or African American    0.011089\n",
       "hispanic_latino         unknown                      0.010063\n",
       "                        Black or African American    0.003078\n",
       "unknown                 Asian                        0.003039\n",
       "hispanic_latino         Asian                        0.000158\n",
       "Name: PatientID, dtype: float64"
      ]
     },
     "execution_count": 42,
     "metadata": {},
     "output_type": "execute_result"
    }
   ],
   "source": [
    "(\n",
    "    demographics\n",
    "    .groupby(['ethnicity', 'race'])['PatientID'].count()\n",
    "    .divide(len(demographics))\n",
    "    .sort_values(ascending = False)\n",
    ")"
   ]
  },
  {
   "cell_type": "code",
   "execution_count": 43,
   "id": "7dd81ac5",
   "metadata": {},
   "outputs": [],
   "source": [
    "demographics = demographics.drop(columns = ['Race', 'Ethnicity'])"
   ]
  },
  {
   "cell_type": "markdown",
   "id": "0b654784",
   "metadata": {},
   "source": [
    "#### BirthYear"
   ]
  },
  {
   "cell_type": "code",
   "execution_count": 44,
   "id": "8758cd61",
   "metadata": {},
   "outputs": [
    {
     "data": {
      "text/plain": [
       "count    25341.000000\n",
       "mean      1953.848033\n",
       "std         12.780374\n",
       "min       1937.000000\n",
       "25%       1943.000000\n",
       "50%       1953.000000\n",
       "75%       1962.000000\n",
       "max       2002.000000\n",
       "Name: BirthYear, dtype: float64"
      ]
     },
     "execution_count": 44,
     "metadata": {},
     "output_type": "execute_result"
    }
   ],
   "source": [
    "demographics['BirthYear'].describe()"
   ]
  },
  {
   "cell_type": "code",
   "execution_count": 45,
   "id": "d61d32d5",
   "metadata": {},
   "outputs": [
    {
     "data": {
      "text/plain": [
       "array([[<AxesSubplot:title={'center':'BirthYear'}>]], dtype=object)"
      ]
     },
     "execution_count": 45,
     "metadata": {},
     "output_type": "execute_result"
    },
    {
     "data": {
      "image/png": "[encoded data removed]",
      "text/plain": [
       "<Figure size 432x288 with 1 Axes>"
      ]
     },
     "metadata": {
      "needs_background": "light"
     },
     "output_type": "display_data"
    }
   ],
   "source": [
    "demographics.hist(column = 'BirthYear')"
   ]
  },
  {
   "cell_type": "code",
   "execution_count": 46,
   "id": "d0950303",
   "metadata": {},
   "outputs": [
    {
     "data": {
      "text/plain": [
       "1937    0.140484\n",
       "1947    0.030070\n",
       "1948    0.028294\n",
       "1954    0.028136\n",
       "1956    0.027544\n",
       "1949    0.027505\n",
       "1951    0.027465\n",
       "1953    0.027347\n",
       "1950    0.027268\n",
       "1955    0.026400\n",
       "Name: BirthYear, dtype: float64"
      ]
     },
     "execution_count": 46,
     "metadata": {},
     "output_type": "execute_result"
    }
   ],
   "source": [
    "# Top 10 birth years.\n",
    "demographics['BirthYear'].value_counts(normalize = True, dropna = False).head(10)"
   ]
  },
  {
   "cell_type": "markdown",
   "id": "fe45a0e8",
   "metadata": {},
   "source": [
    "**Dispraportionate number of patients aged 85. Flatiron aggregates patients 85 and older into a single category of 85 years of age to limit potential for re-identification of older patients.**"
   ]
  },
  {
   "cell_type": "code",
   "execution_count": 47,
   "id": "7f784650",
   "metadata": {},
   "outputs": [],
   "source": [
    "demographics = pd.merge(demographics, enhanced_met[['PatientID', 'met_date']], on = 'PatientID')"
   ]
  },
  {
   "cell_type": "code",
   "execution_count": 48,
   "id": "e158c532",
   "metadata": {},
   "outputs": [],
   "source": [
    "demographics.loc[:, 'age'] = demographics['met_date'].dt.year - demographics['BirthYear']"
   ]
  },
  {
   "cell_type": "code",
   "execution_count": 49,
   "id": "ff1b9eb5",
   "metadata": {},
   "outputs": [],
   "source": [
    "demographics = demographics.drop(columns = ['BirthYear', 'met_date'])"
   ]
  },
  {
   "cell_type": "markdown",
   "id": "85445767",
   "metadata": {},
   "source": [
    "#### PracticeType"
   ]
  },
  {
   "cell_type": "code",
   "execution_count": 50,
   "id": "c75f4dfa",
   "metadata": {},
   "outputs": [],
   "source": [
    "practice = pd.read_csv('Practice.csv')"
   ]
  },
  {
   "cell_type": "code",
   "execution_count": 51,
   "id": "d29c96e7",
   "metadata": {},
   "outputs": [
    {
     "data": {
      "text/html": [
       "<div>\n",
       "<style scoped>\n",
       "    .dataframe tbody tr th:only-of-type {\n",
       "        vertical-align: middle;\n",
       "    }\n",
       "\n",
       "    .dataframe tbody tr th {\n",
       "        vertical-align: top;\n",
       "    }\n",
       "\n",
       "    .dataframe thead th {\n",
       "        text-align: right;\n",
       "    }\n",
       "</style>\n",
       "<table border=\"1\" class=\"dataframe\">\n",
       "  <thead>\n",
       "    <tr style=\"text-align: right;\">\n",
       "      <th></th>\n",
       "      <th>PatientID</th>\n",
       "      <th>PracticeID</th>\n",
       "      <th>PracticeType</th>\n",
       "      <th>PrimaryPhysicianID</th>\n",
       "    </tr>\n",
       "  </thead>\n",
       "  <tbody>\n",
       "    <tr>\n",
       "      <th>2182</th>\n",
       "      <td>F6E8B594BCD7B</td>\n",
       "      <td>SCC8EE4FB66C3</td>\n",
       "      <td>ACADEMIC</td>\n",
       "      <td>NaN</td>\n",
       "    </tr>\n",
       "    <tr>\n",
       "      <th>27489</th>\n",
       "      <td>F55C5A26A8D2C</td>\n",
       "      <td>S19210F786354</td>\n",
       "      <td>COMMUNITY</td>\n",
       "      <td>T33115BB60E35</td>\n",
       "    </tr>\n",
       "    <tr>\n",
       "      <th>29513</th>\n",
       "      <td>F8B234596AC7A</td>\n",
       "      <td>S0225D992F9DE</td>\n",
       "      <td>COMMUNITY</td>\n",
       "      <td>TA742CB58D4E7</td>\n",
       "    </tr>\n",
       "    <tr>\n",
       "      <th>18910</th>\n",
       "      <td>F00D6C354A73C</td>\n",
       "      <td>SA61EDD66B815</td>\n",
       "      <td>COMMUNITY</td>\n",
       "      <td>T2BB9B8AC2E07</td>\n",
       "    </tr>\n",
       "    <tr>\n",
       "      <th>13751</th>\n",
       "      <td>F989BBECFABD0</td>\n",
       "      <td>S0015D5ED587A</td>\n",
       "      <td>ACADEMIC</td>\n",
       "      <td>NaN</td>\n",
       "    </tr>\n",
       "  </tbody>\n",
       "</table>\n",
       "</div>"
      ],
      "text/plain": [
       "           PatientID     PracticeID PracticeType PrimaryPhysicianID\n",
       "2182   F6E8B594BCD7B  SCC8EE4FB66C3     ACADEMIC                NaN\n",
       "27489  F55C5A26A8D2C  S19210F786354    COMMUNITY      T33115BB60E35\n",
       "29513  F8B234596AC7A  S0225D992F9DE    COMMUNITY      TA742CB58D4E7\n",
       "18910  F00D6C354A73C  SA61EDD66B815    COMMUNITY      T2BB9B8AC2E07\n",
       "13751  F989BBECFABD0  S0015D5ED587A     ACADEMIC                NaN"
      ]
     },
     "execution_count": 51,
     "metadata": {},
     "output_type": "execute_result"
    }
   ],
   "source": [
    "practice.sample(5)"
   ]
  },
  {
   "cell_type": "code",
   "execution_count": 52,
   "id": "a298a5a6",
   "metadata": {},
   "outputs": [],
   "source": [
    "practice = practice[practice['PatientID'].isin(train_IDs)]"
   ]
  },
  {
   "cell_type": "code",
   "execution_count": 53,
   "id": "da8557d0",
   "metadata": {},
   "outputs": [
    {
     "data": {
      "text/plain": [
       "(25927, 25341)"
      ]
     },
     "execution_count": 53,
     "metadata": {},
     "output_type": "execute_result"
    }
   ],
   "source": [
    "row_ID(practice)"
   ]
  },
  {
   "cell_type": "code",
   "execution_count": 54,
   "id": "e76e5c67",
   "metadata": {},
   "outputs": [
    {
     "data": {
      "text/plain": [
       "COMMUNITY    21380\n",
       "ACADEMIC      4547\n",
       "Name: PracticeType, dtype: int64"
      ]
     },
     "execution_count": 54,
     "metadata": {},
     "output_type": "execute_result"
    }
   ],
   "source": [
    "practice.PracticeType.value_counts()"
   ]
  },
  {
   "cell_type": "code",
   "execution_count": 55,
   "id": "ca0fab43",
   "metadata": {},
   "outputs": [
    {
     "data": {
      "text/html": [
       "<div>\n",
       "<style scoped>\n",
       "    .dataframe tbody tr th:only-of-type {\n",
       "        vertical-align: middle;\n",
       "    }\n",
       "\n",
       "    .dataframe tbody tr th {\n",
       "        vertical-align: top;\n",
       "    }\n",
       "\n",
       "    .dataframe thead th {\n",
       "        text-align: right;\n",
       "    }\n",
       "</style>\n",
       "<table border=\"1\" class=\"dataframe\">\n",
       "  <thead>\n",
       "    <tr style=\"text-align: right;\">\n",
       "      <th></th>\n",
       "      <th>PatientID</th>\n",
       "      <th>PracticeID</th>\n",
       "      <th>PracticeType</th>\n",
       "      <th>PrimaryPhysicianID</th>\n",
       "    </tr>\n",
       "  </thead>\n",
       "  <tbody>\n",
       "    <tr>\n",
       "      <th>27063</th>\n",
       "      <td>F02614E91ABDD</td>\n",
       "      <td>S43F1EC350316</td>\n",
       "      <td>COMMUNITY</td>\n",
       "      <td>T789904617DFC</td>\n",
       "    </tr>\n",
       "    <tr>\n",
       "      <th>5652</th>\n",
       "      <td>F02614E91ABDD</td>\n",
       "      <td>S87C279DB0C8A</td>\n",
       "      <td>COMMUNITY</td>\n",
       "      <td>T0CB40AEC3836</td>\n",
       "    </tr>\n",
       "    <tr>\n",
       "      <th>24533</th>\n",
       "      <td>F026C43DC1FA0</td>\n",
       "      <td>S0015D5ED587A</td>\n",
       "      <td>ACADEMIC</td>\n",
       "      <td>NaN</td>\n",
       "    </tr>\n",
       "    <tr>\n",
       "      <th>23752</th>\n",
       "      <td>F026C43DC1FA0</td>\n",
       "      <td>SBA2549C29E0D</td>\n",
       "      <td>COMMUNITY</td>\n",
       "      <td>T6EEE2E100B03</td>\n",
       "    </tr>\n",
       "    <tr>\n",
       "      <th>22027</th>\n",
       "      <td>F02B3A7D3F764</td>\n",
       "      <td>SB7952CE9CAC0</td>\n",
       "      <td>COMMUNITY</td>\n",
       "      <td>TE0BDAD4233EA</td>\n",
       "    </tr>\n",
       "    <tr>\n",
       "      <th>23040</th>\n",
       "      <td>F02B3A7D3F764</td>\n",
       "      <td>S6DCB6AF0A70F</td>\n",
       "      <td>COMMUNITY</td>\n",
       "      <td>T35FCD3619FF4</td>\n",
       "    </tr>\n",
       "    <tr>\n",
       "      <th>228</th>\n",
       "      <td>F0561439F5D38</td>\n",
       "      <td>S0015D5ED587A</td>\n",
       "      <td>ACADEMIC</td>\n",
       "      <td>NaN</td>\n",
       "    </tr>\n",
       "    <tr>\n",
       "      <th>16482</th>\n",
       "      <td>F0561439F5D38</td>\n",
       "      <td>SBBCA1E6D01BA</td>\n",
       "      <td>COMMUNITY</td>\n",
       "      <td>T4D53ADADDD8E</td>\n",
       "    </tr>\n",
       "    <tr>\n",
       "      <th>18722</th>\n",
       "      <td>F056319CD0D67</td>\n",
       "      <td>SB95BF4F71E93</td>\n",
       "      <td>COMMUNITY</td>\n",
       "      <td>TC1431561B51F</td>\n",
       "    </tr>\n",
       "    <tr>\n",
       "      <th>19254</th>\n",
       "      <td>F056319CD0D67</td>\n",
       "      <td>S266A431D9037</td>\n",
       "      <td>COMMUNITY</td>\n",
       "      <td>NaN</td>\n",
       "    </tr>\n",
       "  </tbody>\n",
       "</table>\n",
       "</div>"
      ],
      "text/plain": [
       "           PatientID     PracticeID PracticeType PrimaryPhysicianID\n",
       "27063  F02614E91ABDD  S43F1EC350316    COMMUNITY      T789904617DFC\n",
       "5652   F02614E91ABDD  S87C279DB0C8A    COMMUNITY      T0CB40AEC3836\n",
       "24533  F026C43DC1FA0  S0015D5ED587A     ACADEMIC                NaN\n",
       "23752  F026C43DC1FA0  SBA2549C29E0D    COMMUNITY      T6EEE2E100B03\n",
       "22027  F02B3A7D3F764  SB7952CE9CAC0    COMMUNITY      TE0BDAD4233EA\n",
       "23040  F02B3A7D3F764  S6DCB6AF0A70F    COMMUNITY      T35FCD3619FF4\n",
       "228    F0561439F5D38  S0015D5ED587A     ACADEMIC                NaN\n",
       "16482  F0561439F5D38  SBBCA1E6D01BA    COMMUNITY      T4D53ADADDD8E\n",
       "18722  F056319CD0D67  SB95BF4F71E93    COMMUNITY      TC1431561B51F\n",
       "19254  F056319CD0D67  S266A431D9037    COMMUNITY                NaN"
      ]
     },
     "execution_count": 55,
     "metadata": {},
     "output_type": "execute_result"
    }
   ],
   "source": [
    "practice[practice.duplicated(subset = ['PatientID'], keep = False)].sort_values(by = ['PatientID']).head(10)"
   ]
  },
  {
   "cell_type": "code",
   "execution_count": 56,
   "id": "82376413",
   "metadata": {},
   "outputs": [],
   "source": [
    "practice_unique_count = (\n",
    "    practice.groupby('PatientID')['PracticeType'].agg('nunique')\n",
    "    .to_frame()\n",
    "    .reset_index()\n",
    "    .rename(columns = {'PracticeType': 'n_type'})\n",
    ")"
   ]
  },
  {
   "cell_type": "code",
   "execution_count": 57,
   "id": "0a137853",
   "metadata": {},
   "outputs": [],
   "source": [
    "practice_n = pd.merge(practice, practice_unique_count, on = 'PatientID')"
   ]
  },
  {
   "cell_type": "code",
   "execution_count": 58,
   "id": "48c4c64f",
   "metadata": {},
   "outputs": [],
   "source": [
    "practice_n['p_type'] = (\n",
    "    np.where(practice_n['n_type'] == 1, practice_n['PracticeType'], 'BOTH')\n",
    ")"
   ]
  },
  {
   "cell_type": "code",
   "execution_count": 59,
   "id": "a9127e7b",
   "metadata": {},
   "outputs": [],
   "source": [
    "practice_n = (\n",
    "    practice_n.drop_duplicates(subset = ['PatientID'], keep = 'first')\n",
    "    .filter(items = ['PatientID', 'p_type'])\n",
    ")"
   ]
  },
  {
   "cell_type": "code",
   "execution_count": 60,
   "id": "ee71a386",
   "metadata": {},
   "outputs": [],
   "source": [
    "demographics = pd.merge(demographics, practice_n, on = 'PatientID')"
   ]
  },
  {
   "cell_type": "code",
   "execution_count": 61,
   "id": "fc8ecc3a",
   "metadata": {},
   "outputs": [
    {
     "data": {
      "text/plain": [
       "COMMUNITY    82.080423\n",
       "ACADEMIC     16.684424\n",
       "BOTH          1.235153\n",
       "Name: p_type, dtype: float64"
      ]
     },
     "execution_count": 61,
     "metadata": {},
     "output_type": "execute_result"
    }
   ],
   "source": [
    "demographics['p_type'].value_counts(normalize=True, dropna=False)*100"
   ]
  },
  {
   "cell_type": "markdown",
   "id": "2d9d40a2",
   "metadata": {},
   "source": [
    "#### Gender"
   ]
  },
  {
   "cell_type": "code",
   "execution_count": 62,
   "id": "2e691de2",
   "metadata": {},
   "outputs": [
    {
     "data": {
      "text/plain": [
       "F      98.776686\n",
       "M       1.215422\n",
       "NaN     0.007892\n",
       "Name: Gender, dtype: float64"
      ]
     },
     "execution_count": 62,
     "metadata": {},
     "output_type": "execute_result"
    }
   ],
   "source": [
    "demographics['Gender'].value_counts(normalize = True, dropna = False)*100"
   ]
  },
  {
   "cell_type": "code",
   "execution_count": 63,
   "id": "bf02ba45",
   "metadata": {},
   "outputs": [],
   "source": [
    "# Impute F as unknown given most common gender. \n",
    "demographics['Gender'] = demographics['Gender'].fillna('F')"
   ]
  },
  {
   "cell_type": "code",
   "execution_count": 64,
   "id": "557cc7fd",
   "metadata": {},
   "outputs": [],
   "source": [
    "demographics = demographics.rename(columns = {'Gender': 'gender'})"
   ]
  },
  {
   "cell_type": "markdown",
   "id": "980b5229",
   "metadata": {},
   "source": [
    "#### State"
   ]
  },
  {
   "cell_type": "code",
   "execution_count": 65,
   "id": "b6228e95",
   "metadata": {},
   "outputs": [
    {
     "data": {
      "text/plain": [
       "5208"
      ]
     },
     "execution_count": 65,
     "metadata": {},
     "output_type": "execute_result"
    }
   ],
   "source": [
    "demographics['State'].isna().sum()"
   ]
  },
  {
   "cell_type": "code",
   "execution_count": 66,
   "id": "00ca13a2",
   "metadata": {},
   "outputs": [
    {
     "data": {
      "text/plain": [
       "NaN    0.205517\n",
       "TN     0.067598\n",
       "CA     0.067006\n",
       "FL     0.056983\n",
       "AZ     0.049130\n",
       "AL     0.044947\n",
       "NY     0.044789\n",
       "MI     0.042382\n",
       "PA     0.041829\n",
       "NJ     0.037212\n",
       "TX     0.035950\n",
       "VA     0.031372\n",
       "IL     0.024348\n",
       "PR     0.023914\n",
       "OH     0.023401\n",
       "GA     0.021309\n",
       "OK     0.020402\n",
       "MS     0.019612\n",
       "WA     0.019218\n",
       "SC     0.016969\n",
       "Name: State, dtype: float64"
      ]
     },
     "execution_count": 66,
     "metadata": {},
     "output_type": "execute_result"
    }
   ],
   "source": [
    "demographics['State'].value_counts(normalize = True, dropna = False).head(20)"
   ]
  },
  {
   "cell_type": "markdown",
   "id": "50d6a5d6",
   "metadata": {},
   "source": [
    "**For de-identification reasons, State is nulled out for a few low-population states (e.g., AK, MT, ND, SD, VT, and WY). New variable will be created to group states into Census-Bureau regions for simplicity.** "
   ]
  },
  {
   "cell_type": "code",
   "execution_count": 67,
   "id": "0680328b",
   "metadata": {},
   "outputs": [],
   "source": [
    "# Group states into Census-Bureau regions  \n",
    "state_dict = { \n",
    "    'ME': 'northeast', \n",
    "    'NH': 'northeast',\n",
    "    'VT': 'northeast', \n",
    "    'MA': 'northeast',\n",
    "    'CT': 'northeast',\n",
    "    'RI': 'northeast',  \n",
    "    'NY': 'northeast', \n",
    "    'NJ': 'northeast', \n",
    "    'PA': 'northeast', \n",
    "    'IL': 'midwest', \n",
    "    'IN': 'midwest', \n",
    "    'MI': 'midwest', \n",
    "    'OH': 'midwest', \n",
    "    'WI': 'midwest',\n",
    "    'IA': 'midwest',\n",
    "    'KS': 'midwest',\n",
    "    'MN': 'midwest',\n",
    "    'MO': 'midwest', \n",
    "    'NE': 'midwest',\n",
    "    'ND': 'midwest',\n",
    "    'SD': 'midwest',\n",
    "    'DE': 'south',\n",
    "    'FL': 'south',\n",
    "    'GA': 'south',\n",
    "    'MD': 'south',\n",
    "    'NC': 'south', \n",
    "    'SC': 'south',\n",
    "    'VA': 'south',\n",
    "    'DC': 'south',\n",
    "    'WV': 'south',\n",
    "    'AL': 'south',\n",
    "    'KY': 'south',\n",
    "    'MS': 'south',\n",
    "    'TN': 'south',\n",
    "    'AR': 'south',\n",
    "    'LA': 'south',\n",
    "    'OK': 'south',\n",
    "    'TX': 'south',\n",
    "    'AZ': 'west',\n",
    "    'CO': 'west',\n",
    "    'ID': 'west',\n",
    "    'MT': 'west',\n",
    "    'NV': 'west',\n",
    "    'NM': 'west',\n",
    "    'UT': 'west',\n",
    "    'WY': 'west',\n",
    "    'AK': 'west',\n",
    "    'CA': 'west',\n",
    "    'HI': 'west',\n",
    "    'OR': 'west',\n",
    "    'WA': 'west',\n",
    "    'PR': 'unknown'\n",
    "}\n",
    "\n",
    "demographics['region'] = demographics['State'].map(state_dict)"
   ]
  },
  {
   "cell_type": "code",
   "execution_count": 68,
   "id": "505e128c",
   "metadata": {},
   "outputs": [],
   "source": [
    "demographics['region'] = demographics['region'].fillna('unknown')"
   ]
  },
  {
   "cell_type": "code",
   "execution_count": 69,
   "id": "327a7bd6",
   "metadata": {},
   "outputs": [
    {
     "data": {
      "text/plain": [
       "south        0.356655\n",
       "unknown      0.229431\n",
       "west         0.153980\n",
       "northeast    0.138984\n",
       "midwest      0.120950\n",
       "Name: region, dtype: float64"
      ]
     },
     "execution_count": 69,
     "metadata": {},
     "output_type": "execute_result"
    }
   ],
   "source": [
    "demographics['region'].value_counts(normalize = True, dropna = False)"
   ]
  },
  {
   "cell_type": "code",
   "execution_count": 70,
   "id": "7f5f0e45",
   "metadata": {},
   "outputs": [
    {
     "data": {
      "text/plain": [
       "25341"
      ]
     },
     "execution_count": 70,
     "metadata": {},
     "output_type": "execute_result"
    }
   ],
   "source": [
    "demographics['region'].value_counts(dropna = False).sum()"
   ]
  },
  {
   "cell_type": "code",
   "execution_count": 71,
   "id": "8549967d",
   "metadata": {},
   "outputs": [
    {
     "data": {
      "text/plain": [
       "<AxesSubplot:xlabel='region'>"
      ]
     },
     "execution_count": 71,
     "metadata": {},
     "output_type": "execute_result"
    },
    {
     "data": {
      "image/png": "[encoded data removed]",
      "text/plain": [
       "<Figure size 432x288 with 1 Axes>"
      ]
     },
     "metadata": {
      "needs_background": "light"
     },
     "output_type": "display_data"
    }
   ],
   "source": [
    "demographics.groupby('region')['PatientID'].count().sort_values(ascending = False).plot(kind = 'bar')"
   ]
  },
  {
   "cell_type": "code",
   "execution_count": 72,
   "id": "61486cfe",
   "metadata": {},
   "outputs": [
    {
     "data": {
      "text/plain": [
       "<AxesSubplot:xlabel='p_type,region'>"
      ]
     },
     "execution_count": 72,
     "metadata": {},
     "output_type": "execute_result"
    },
    {
     "data": {
      "image/png": "[encoded data removed]",
      "text/plain": [
       "<Figure size 432x288 with 1 Axes>"
      ]
     },
     "metadata": {
      "needs_background": "light"
     },
     "output_type": "display_data"
    }
   ],
   "source": [
    "demographics.groupby(['p_type', 'region'])['PatientID'].count().sort_values(ascending = False).plot(kind = 'bar')"
   ]
  },
  {
   "cell_type": "markdown",
   "id": "c98b50ee",
   "metadata": {},
   "source": [
    "**Most patients come from community programs in the south. Interestingly, all academic patients are from an unknown region, likely for de-identification purposes.**"
   ]
  },
  {
   "cell_type": "code",
   "execution_count": 73,
   "id": "d2d84cde",
   "metadata": {},
   "outputs": [],
   "source": [
    "demographics = demographics.drop(columns = ['State'])"
   ]
  },
  {
   "cell_type": "code",
   "execution_count": 74,
   "id": "593f2412",
   "metadata": {},
   "outputs": [
    {
     "data": {
      "text/html": [
       "<div>\n",
       "<style scoped>\n",
       "    .dataframe tbody tr th:only-of-type {\n",
       "        vertical-align: middle;\n",
       "    }\n",
       "\n",
       "    .dataframe tbody tr th {\n",
       "        vertical-align: top;\n",
       "    }\n",
       "\n",
       "    .dataframe thead th {\n",
       "        text-align: right;\n",
       "    }\n",
       "</style>\n",
       "<table border=\"1\" class=\"dataframe\">\n",
       "  <thead>\n",
       "    <tr style=\"text-align: right;\">\n",
       "      <th></th>\n",
       "      <th>PatientID</th>\n",
       "      <th>gender</th>\n",
       "      <th>race</th>\n",
       "      <th>ethnicity</th>\n",
       "      <th>age</th>\n",
       "      <th>p_type</th>\n",
       "      <th>region</th>\n",
       "    </tr>\n",
       "  </thead>\n",
       "  <tbody>\n",
       "    <tr>\n",
       "      <th>9937</th>\n",
       "      <td>F17E6B2D9EFE9</td>\n",
       "      <td>F</td>\n",
       "      <td>White</td>\n",
       "      <td>Not Hispanic or Latino</td>\n",
       "      <td>67</td>\n",
       "      <td>COMMUNITY</td>\n",
       "      <td>northeast</td>\n",
       "    </tr>\n",
       "    <tr>\n",
       "      <th>18891</th>\n",
       "      <td>F1ADF04DC159D</td>\n",
       "      <td>F</td>\n",
       "      <td>White</td>\n",
       "      <td>Not Hispanic or Latino</td>\n",
       "      <td>79</td>\n",
       "      <td>COMMUNITY</td>\n",
       "      <td>west</td>\n",
       "    </tr>\n",
       "    <tr>\n",
       "      <th>24198</th>\n",
       "      <td>FCE67FD5E650B</td>\n",
       "      <td>F</td>\n",
       "      <td>White</td>\n",
       "      <td>Not Hispanic or Latino</td>\n",
       "      <td>58</td>\n",
       "      <td>COMMUNITY</td>\n",
       "      <td>midwest</td>\n",
       "    </tr>\n",
       "    <tr>\n",
       "      <th>12166</th>\n",
       "      <td>FD2B586FEAACA</td>\n",
       "      <td>F</td>\n",
       "      <td>Other Race</td>\n",
       "      <td>Not Hispanic or Latino</td>\n",
       "      <td>51</td>\n",
       "      <td>COMMUNITY</td>\n",
       "      <td>west</td>\n",
       "    </tr>\n",
       "    <tr>\n",
       "      <th>13183</th>\n",
       "      <td>F498F9B51DF30</td>\n",
       "      <td>F</td>\n",
       "      <td>White</td>\n",
       "      <td>Not Hispanic or Latino</td>\n",
       "      <td>66</td>\n",
       "      <td>COMMUNITY</td>\n",
       "      <td>west</td>\n",
       "    </tr>\n",
       "  </tbody>\n",
       "</table>\n",
       "</div>"
      ],
      "text/plain": [
       "           PatientID gender        race               ethnicity  age  \\\n",
       "9937   F17E6B2D9EFE9      F       White  Not Hispanic or Latino   67   \n",
       "18891  F1ADF04DC159D      F       White  Not Hispanic or Latino   79   \n",
       "24198  FCE67FD5E650B      F       White  Not Hispanic or Latino   58   \n",
       "12166  FD2B586FEAACA      F  Other Race  Not Hispanic or Latino   51   \n",
       "13183  F498F9B51DF30      F       White  Not Hispanic or Latino   66   \n",
       "\n",
       "          p_type     region  \n",
       "9937   COMMUNITY  northeast  \n",
       "18891  COMMUNITY       west  \n",
       "24198  COMMUNITY    midwest  \n",
       "12166  COMMUNITY       west  \n",
       "13183  COMMUNITY       west  "
      ]
     },
     "execution_count": 74,
     "metadata": {},
     "output_type": "execute_result"
    }
   ],
   "source": [
    "# Final training demographics table.\n",
    "demographics.sample(5)"
   ]
  },
  {
   "cell_type": "code",
   "execution_count": 75,
   "id": "219ff9c1",
   "metadata": {},
   "outputs": [
    {
     "name": "stdout",
     "output_type": "stream",
     "text": [
      "Variable                Type         Data/Info\n",
      "----------------------------------------------\n",
      "demographics            DataFrame               PatientID gend<...>n[25341 rows x 7 columns]\n",
      "enhanced_met            DataFrame               PatientID Diag<...>n[31677 rows x 5 columns]\n",
      "practice                DataFrame               PatientID     <...>n[25927 rows x 4 columns]\n",
      "practice_n              DataFrame               PatientID     <...>n[25341 rows x 2 columns]\n",
      "practice_unique_count   DataFrame               PatientID  n_t<...>n[25341 rows x 2 columns]\n"
     ]
    }
   ],
   "source": [
    "%whos DataFrame"
   ]
  },
  {
   "cell_type": "code",
   "execution_count": 76,
   "id": "74b45858",
   "metadata": {},
   "outputs": [],
   "source": [
    "# Keep demographics and enhanced_met\n",
    "del practice\n",
    "del practice_n\n",
    "del practice_unique_count"
   ]
  },
  {
   "cell_type": "markdown",
   "id": "f192c289",
   "metadata": {},
   "source": [
    "### 2. Enhanced_MetastaticBreast"
   ]
  },
  {
   "cell_type": "code",
   "execution_count": 77,
   "id": "df12fc9b",
   "metadata": {},
   "outputs": [
    {
     "data": {
      "text/html": [
       "<div>\n",
       "<style scoped>\n",
       "    .dataframe tbody tr th:only-of-type {\n",
       "        vertical-align: middle;\n",
       "    }\n",
       "\n",
       "    .dataframe tbody tr th {\n",
       "        vertical-align: top;\n",
       "    }\n",
       "\n",
       "    .dataframe thead th {\n",
       "        text-align: right;\n",
       "    }\n",
       "</style>\n",
       "<table border=\"1\" class=\"dataframe\">\n",
       "  <thead>\n",
       "    <tr style=\"text-align: right;\">\n",
       "      <th></th>\n",
       "      <th>PatientID</th>\n",
       "      <th>DiagnosisDate</th>\n",
       "      <th>met_date</th>\n",
       "      <th>GroupStage</th>\n",
       "      <th>met_year_cat</th>\n",
       "    </tr>\n",
       "  </thead>\n",
       "  <tbody>\n",
       "    <tr>\n",
       "      <th>2204</th>\n",
       "      <td>F896EEDC48514</td>\n",
       "      <td>2002-01-01</td>\n",
       "      <td>2014-08-07</td>\n",
       "      <td>Not documented</td>\n",
       "      <td>13-14</td>\n",
       "    </tr>\n",
       "    <tr>\n",
       "      <th>4326</th>\n",
       "      <td>FFE328D2EE107</td>\n",
       "      <td>1999-07-01</td>\n",
       "      <td>2013-07-10</td>\n",
       "      <td>II</td>\n",
       "      <td>13-14</td>\n",
       "    </tr>\n",
       "    <tr>\n",
       "      <th>270</th>\n",
       "      <td>F85F804E76947</td>\n",
       "      <td>2011-09-21</td>\n",
       "      <td>2020-10-09</td>\n",
       "      <td>II</td>\n",
       "      <td>19-20</td>\n",
       "    </tr>\n",
       "    <tr>\n",
       "      <th>25830</th>\n",
       "      <td>F6C93D49B176F</td>\n",
       "      <td>2011-11-18</td>\n",
       "      <td>2016-12-14</td>\n",
       "      <td>III</td>\n",
       "      <td>15-16</td>\n",
       "    </tr>\n",
       "    <tr>\n",
       "      <th>17618</th>\n",
       "      <td>F8AD36C108A21</td>\n",
       "      <td>1981-01-01</td>\n",
       "      <td>2014-11-11</td>\n",
       "      <td>Not documented</td>\n",
       "      <td>13-14</td>\n",
       "    </tr>\n",
       "  </tbody>\n",
       "</table>\n",
       "</div>"
      ],
      "text/plain": [
       "           PatientID DiagnosisDate   met_date      GroupStage met_year_cat\n",
       "2204   F896EEDC48514    2002-01-01 2014-08-07  Not documented        13-14\n",
       "4326   FFE328D2EE107    1999-07-01 2013-07-10              II        13-14\n",
       "270    F85F804E76947    2011-09-21 2020-10-09              II        19-20\n",
       "25830  F6C93D49B176F    2011-11-18 2016-12-14             III        15-16\n",
       "17618  F8AD36C108A21    1981-01-01 2014-11-11  Not documented        13-14"
      ]
     },
     "execution_count": 77,
     "metadata": {},
     "output_type": "execute_result"
    }
   ],
   "source": [
    "enhanced_met.sample(5)"
   ]
  },
  {
   "cell_type": "code",
   "execution_count": 78,
   "id": "e6d205e8",
   "metadata": {},
   "outputs": [
    {
     "name": "stdout",
     "output_type": "stream",
     "text": [
      "<class 'pandas.core.frame.DataFrame'>\n",
      "RangeIndex: 31677 entries, 0 to 31676\n",
      "Data columns (total 5 columns):\n",
      " #   Column         Non-Null Count  Dtype         \n",
      "---  ------         --------------  -----         \n",
      " 0   PatientID      31677 non-null  object        \n",
      " 1   DiagnosisDate  31553 non-null  object        \n",
      " 2   met_date       31677 non-null  datetime64[ns]\n",
      " 3   GroupStage     31677 non-null  object        \n",
      " 4   met_year_cat   31677 non-null  category      \n",
      "dtypes: category(1), datetime64[ns](1), object(3)\n",
      "memory usage: 1021.2+ KB\n"
     ]
    }
   ],
   "source": [
    "enhanced_met.info()"
   ]
  },
  {
   "cell_type": "code",
   "execution_count": 79,
   "id": "4aa9d1c5",
   "metadata": {},
   "outputs": [],
   "source": [
    "enhanced_met = enhanced_met[enhanced_met['PatientID'].isin(train_IDs)]"
   ]
  },
  {
   "cell_type": "code",
   "execution_count": 80,
   "id": "eed409b2",
   "metadata": {},
   "outputs": [
    {
     "data": {
      "text/plain": [
       "(25341, 25341)"
      ]
     },
     "execution_count": 80,
     "metadata": {},
     "output_type": "execute_result"
    }
   ],
   "source": [
    "row_ID(enhanced_met)"
   ]
  },
  {
   "cell_type": "markdown",
   "id": "0517de4d",
   "metadata": {},
   "source": [
    "#### GroupStage "
   ]
  },
  {
   "cell_type": "code",
   "execution_count": 81,
   "id": "376758dd",
   "metadata": {},
   "outputs": [
    {
     "data": {
      "text/plain": [
       "IV                0.308709\n",
       "II                0.256620\n",
       "III               0.203110\n",
       "Not documented    0.118109\n",
       "I                 0.113413\n",
       "0                 0.000039\n",
       "Name: GroupStage, dtype: float64"
      ]
     },
     "execution_count": 81,
     "metadata": {},
     "output_type": "execute_result"
    }
   ],
   "source": [
    "enhanced_met.GroupStage.value_counts(dropna = False, normalize = True)"
   ]
  },
  {
   "cell_type": "code",
   "execution_count": 82,
   "id": "dde5e979",
   "metadata": {},
   "outputs": [],
   "source": [
    "# Dictionary for regrouping stages\n",
    "stage_dict = { \n",
    "    '0': '0',\n",
    "    'I': 'I',\n",
    "    'II': 'II',\n",
    "    'III': 'III',\n",
    "    'IV': 'IV',\n",
    "    'Not documented': 'unknown'\n",
    "}\n",
    "\n",
    "enhanced_met['stage'] = enhanced_met['GroupStage'].map(stage_dict)"
   ]
  },
  {
   "cell_type": "code",
   "execution_count": 83,
   "id": "0f518632",
   "metadata": {},
   "outputs": [
    {
     "data": {
      "text/plain": [
       "IV         0.308709\n",
       "II         0.256620\n",
       "III        0.203110\n",
       "unknown    0.118109\n",
       "I          0.113413\n",
       "0          0.000039\n",
       "Name: stage, dtype: float64"
      ]
     },
     "execution_count": 83,
     "metadata": {},
     "output_type": "execute_result"
    }
   ],
   "source": [
    "enhanced_met['stage'].value_counts(normalize = True, dropna = False)"
   ]
  },
  {
   "cell_type": "code",
   "execution_count": 84,
   "id": "f11c15e4",
   "metadata": {},
   "outputs": [],
   "source": [
    "enhanced_met = enhanced_met.drop(columns = ['GroupStage'])"
   ]
  },
  {
   "cell_type": "markdown",
   "id": "deb05777",
   "metadata": {},
   "source": [
    "#### MetDiagnosisDate"
   ]
  },
  {
   "cell_type": "code",
   "execution_count": 85,
   "id": "4f05ab37",
   "metadata": {},
   "outputs": [
    {
     "data": {
      "text/plain": [
       "Timestamp('2011-01-01 00:00:00')"
      ]
     },
     "execution_count": 85,
     "metadata": {},
     "output_type": "execute_result"
    }
   ],
   "source": [
    "enhanced_met['met_date'].min()"
   ]
  },
  {
   "cell_type": "code",
   "execution_count": 86,
   "id": "3be5fdd4",
   "metadata": {},
   "outputs": [
    {
     "data": {
      "text/plain": [
       "Timestamp('2022-08-29 00:00:00')"
      ]
     },
     "execution_count": 86,
     "metadata": {},
     "output_type": "execute_result"
    }
   ],
   "source": [
    "enhanced_met['met_date'].max()"
   ]
  },
  {
   "cell_type": "code",
   "execution_count": 87,
   "id": "b39b4b2d",
   "metadata": {},
   "outputs": [
    {
     "data": {
      "text/plain": [
       "count    25341.000000\n",
       "mean      2016.423227\n",
       "std          3.153379\n",
       "min       2011.000000\n",
       "25%       2014.000000\n",
       "50%       2016.000000\n",
       "75%       2019.000000\n",
       "max       2022.000000\n",
       "Name: met_date, dtype: float64"
      ]
     },
     "execution_count": 87,
     "metadata": {},
     "output_type": "execute_result"
    }
   ],
   "source": [
    "enhanced_met['met_date'].dt.year.describe()"
   ]
  },
  {
   "cell_type": "code",
   "execution_count": 88,
   "id": "1d797365",
   "metadata": {},
   "outputs": [],
   "source": [
    "enhanced_met.loc[:, 'met_year'] = enhanced_met['met_date'].dt.year"
   ]
  },
  {
   "cell_type": "markdown",
   "id": "0aa480f5",
   "metadata": {},
   "source": [
    "#### DiagnosisDate"
   ]
  },
  {
   "cell_type": "code",
   "execution_count": 89,
   "id": "dced624e",
   "metadata": {},
   "outputs": [
    {
     "data": {
      "text/plain": [
       "92"
      ]
     },
     "execution_count": 89,
     "metadata": {},
     "output_type": "execute_result"
    }
   ],
   "source": [
    "enhanced_met['DiagnosisDate'].isna().sum()"
   ]
  },
  {
   "cell_type": "code",
   "execution_count": 90,
   "id": "01921028",
   "metadata": {},
   "outputs": [],
   "source": [
    "enhanced_met = enhanced_met.rename(columns = {'DiagnosisDate': 'diagnosis_date'})"
   ]
  },
  {
   "cell_type": "code",
   "execution_count": 91,
   "id": "f52b335f",
   "metadata": {},
   "outputs": [],
   "source": [
    "# Missing diagnosis_date will be replaced with met_date; other dates will be left untouched. \n",
    "enhanced_met['diagnosis_date'] = (\n",
    "    np.where(enhanced_met['diagnosis_date'].isna(), enhanced_met['met_date'], enhanced_met['diagnosis_date'])\n",
    ")"
   ]
  },
  {
   "cell_type": "code",
   "execution_count": 92,
   "id": "0e373e8a",
   "metadata": {},
   "outputs": [],
   "source": [
    "enhanced_met['diagnosis_date'] = pd.to_datetime(enhanced_met['diagnosis_date'])"
   ]
  },
  {
   "cell_type": "code",
   "execution_count": 93,
   "id": "f8d591e1",
   "metadata": {},
   "outputs": [
    {
     "data": {
      "text/plain": [
       "Timestamp('1967-01-01 00:00:00')"
      ]
     },
     "execution_count": 93,
     "metadata": {},
     "output_type": "execute_result"
    }
   ],
   "source": [
    "enhanced_met['diagnosis_date'].min()"
   ]
  },
  {
   "cell_type": "code",
   "execution_count": 94,
   "id": "880abf40",
   "metadata": {},
   "outputs": [
    {
     "data": {
      "text/plain": [
       "Timestamp('2022-08-29 00:00:00')"
      ]
     },
     "execution_count": 94,
     "metadata": {},
     "output_type": "execute_result"
    }
   ],
   "source": [
    "enhanced_met['diagnosis_date'].max()"
   ]
  },
  {
   "cell_type": "code",
   "execution_count": 95,
   "id": "72a7c559",
   "metadata": {},
   "outputs": [
    {
     "data": {
      "text/plain": [
       "count    25341.000000\n",
       "mean      2012.038396\n",
       "std          6.652182\n",
       "min       1967.000000\n",
       "25%       2009.000000\n",
       "50%       2013.000000\n",
       "75%       2017.000000\n",
       "max       2022.000000\n",
       "Name: diagnosis_date, dtype: float64"
      ]
     },
     "execution_count": 95,
     "metadata": {},
     "output_type": "execute_result"
    }
   ],
   "source": [
    "enhanced_met['diagnosis_date'].dt.year.describe()"
   ]
  },
  {
   "cell_type": "code",
   "execution_count": 96,
   "id": "4934afbb",
   "metadata": {},
   "outputs": [
    {
     "data": {
      "text/plain": [
       "<AxesSubplot:xlabel='diagnosis_date'>"
      ]
     },
     "execution_count": 96,
     "metadata": {},
     "output_type": "execute_result"
    },
    {
     "data": {
      "image/png": "[encoded data removed]",
      "text/plain": [
       "<Figure size 432x288 with 1 Axes>"
      ]
     },
     "metadata": {
      "needs_background": "light"
     },
     "output_type": "display_data"
    }
   ],
   "source": [
    "# Bar plot of number of new CRC diagnoses per year.\n",
    "enhanced_met.groupby([enhanced_met['diagnosis_date'].dt.year])['PatientID'].count().plot(kind = 'bar')"
   ]
  },
  {
   "cell_type": "markdown",
   "id": "d512dc2f",
   "metadata": {},
   "source": [
    "**The range of dates for diagnosis is 1/1967 to 8/2022 with a median year of 2013.** "
   ]
  },
  {
   "cell_type": "code",
   "execution_count": 97,
   "id": "fd5ad6eb",
   "metadata": {},
   "outputs": [
    {
     "data": {
      "text/plain": [
       "0.6875813898425477"
      ]
     },
     "execution_count": 97,
     "metadata": {},
     "output_type": "execute_result"
    }
   ],
   "source": [
    "# Percent of patients diagnosed prior to metastatic diagnosis. \n",
    "(\n",
    "    enhanced_met\n",
    "    .query('diagnosis_date < met_date')\n",
    "    .shape[0]/(len(enhanced_met))\n",
    ")"
   ]
  },
  {
   "cell_type": "markdown",
   "id": "ad133d5e",
   "metadata": {},
   "source": [
    "#### Time from diagnosis date to metastatic date"
   ]
  },
  {
   "cell_type": "code",
   "execution_count": 98,
   "id": "2b9b978d",
   "metadata": {},
   "outputs": [],
   "source": [
    "enhanced_met.loc[:, 'delta_met_diagnosis'] = (enhanced_met['met_date'] - enhanced_met['diagnosis_date']).dt.days"
   ]
  },
  {
   "cell_type": "code",
   "execution_count": 99,
   "id": "c92ea1e0",
   "metadata": {},
   "outputs": [
    {
     "data": {
      "text/html": [
       "<div>\n",
       "<style scoped>\n",
       "    .dataframe tbody tr th:only-of-type {\n",
       "        vertical-align: middle;\n",
       "    }\n",
       "\n",
       "    .dataframe tbody tr th {\n",
       "        vertical-align: top;\n",
       "    }\n",
       "\n",
       "    .dataframe thead th {\n",
       "        text-align: right;\n",
       "    }\n",
       "</style>\n",
       "<table border=\"1\" class=\"dataframe\">\n",
       "  <thead>\n",
       "    <tr style=\"text-align: right;\">\n",
       "      <th></th>\n",
       "      <th>met_year</th>\n",
       "      <th>delta_met_diagnosis</th>\n",
       "    </tr>\n",
       "  </thead>\n",
       "  <tbody>\n",
       "    <tr>\n",
       "      <th>count</th>\n",
       "      <td>17424.000000</td>\n",
       "      <td>17424.000000</td>\n",
       "    </tr>\n",
       "    <tr>\n",
       "      <th>mean</th>\n",
       "      <td>2016.430556</td>\n",
       "      <td>2347.514635</td>\n",
       "    </tr>\n",
       "    <tr>\n",
       "      <th>std</th>\n",
       "      <td>3.134623</td>\n",
       "      <td>2262.552179</td>\n",
       "    </tr>\n",
       "    <tr>\n",
       "      <th>min</th>\n",
       "      <td>2011.000000</td>\n",
       "      <td>2.000000</td>\n",
       "    </tr>\n",
       "    <tr>\n",
       "      <th>25%</th>\n",
       "      <td>2014.000000</td>\n",
       "      <td>743.000000</td>\n",
       "    </tr>\n",
       "    <tr>\n",
       "      <th>50%</th>\n",
       "      <td>2016.000000</td>\n",
       "      <td>1572.000000</td>\n",
       "    </tr>\n",
       "    <tr>\n",
       "      <th>75%</th>\n",
       "      <td>2019.000000</td>\n",
       "      <td>3240.000000</td>\n",
       "    </tr>\n",
       "    <tr>\n",
       "      <th>max</th>\n",
       "      <td>2022.000000</td>\n",
       "      <td>18565.000000</td>\n",
       "    </tr>\n",
       "  </tbody>\n",
       "</table>\n",
       "</div>"
      ],
      "text/plain": [
       "           met_year  delta_met_diagnosis\n",
       "count  17424.000000         17424.000000\n",
       "mean    2016.430556          2347.514635\n",
       "std        3.134623          2262.552179\n",
       "min     2011.000000             2.000000\n",
       "25%     2014.000000           743.000000\n",
       "50%     2016.000000          1572.000000\n",
       "75%     2019.000000          3240.000000\n",
       "max     2022.000000         18565.000000"
      ]
     },
     "execution_count": 99,
     "metadata": {},
     "output_type": "execute_result"
    }
   ],
   "source": [
    "# Brief summary statistics on time between diagnosis date and metastatic diagnosis.\n",
    "(\n",
    "    enhanced_met\n",
    "    .query('delta_met_diagnosis > 0')\n",
    "    .describe()\n",
    ")"
   ]
  },
  {
   "cell_type": "code",
   "execution_count": 100,
   "id": "0d3845f4",
   "metadata": {},
   "outputs": [
    {
     "data": {
      "text/html": [
       "<div>\n",
       "<style scoped>\n",
       "    .dataframe tbody tr th:only-of-type {\n",
       "        vertical-align: middle;\n",
       "    }\n",
       "\n",
       "    .dataframe tbody tr th {\n",
       "        vertical-align: top;\n",
       "    }\n",
       "\n",
       "    .dataframe thead th {\n",
       "        text-align: right;\n",
       "    }\n",
       "</style>\n",
       "<table border=\"1\" class=\"dataframe\">\n",
       "  <thead>\n",
       "    <tr style=\"text-align: right;\">\n",
       "      <th></th>\n",
       "      <th>PatientID</th>\n",
       "      <th>diagnosis_date</th>\n",
       "      <th>met_date</th>\n",
       "      <th>met_year_cat</th>\n",
       "      <th>stage</th>\n",
       "      <th>met_year</th>\n",
       "      <th>delta_met_diagnosis</th>\n",
       "    </tr>\n",
       "  </thead>\n",
       "  <tbody>\n",
       "    <tr>\n",
       "      <th>8537</th>\n",
       "      <td>FB46B6DF61B21</td>\n",
       "      <td>2012-11-21</td>\n",
       "      <td>2012-11-21</td>\n",
       "      <td>11-12</td>\n",
       "      <td>IV</td>\n",
       "      <td>2012</td>\n",
       "      <td>0</td>\n",
       "    </tr>\n",
       "    <tr>\n",
       "      <th>4551</th>\n",
       "      <td>FB0331B290157</td>\n",
       "      <td>2009-10-01</td>\n",
       "      <td>2014-09-16</td>\n",
       "      <td>13-14</td>\n",
       "      <td>unknown</td>\n",
       "      <td>2014</td>\n",
       "      <td>1811</td>\n",
       "    </tr>\n",
       "    <tr>\n",
       "      <th>3013</th>\n",
       "      <td>FC0D88F4A9FBF</td>\n",
       "      <td>2015-05-01</td>\n",
       "      <td>2020-09-17</td>\n",
       "      <td>19-20</td>\n",
       "      <td>I</td>\n",
       "      <td>2020</td>\n",
       "      <td>1966</td>\n",
       "    </tr>\n",
       "    <tr>\n",
       "      <th>14248</th>\n",
       "      <td>F4FA9630C17C1</td>\n",
       "      <td>2017-10-20</td>\n",
       "      <td>2017-10-20</td>\n",
       "      <td>17-18</td>\n",
       "      <td>IV</td>\n",
       "      <td>2017</td>\n",
       "      <td>0</td>\n",
       "    </tr>\n",
       "    <tr>\n",
       "      <th>29627</th>\n",
       "      <td>F7945A2B5A122</td>\n",
       "      <td>2002-10-15</td>\n",
       "      <td>2020-11-30</td>\n",
       "      <td>19-20</td>\n",
       "      <td>III</td>\n",
       "      <td>2020</td>\n",
       "      <td>6621</td>\n",
       "    </tr>\n",
       "  </tbody>\n",
       "</table>\n",
       "</div>"
      ],
      "text/plain": [
       "           PatientID diagnosis_date   met_date met_year_cat    stage  \\\n",
       "8537   FB46B6DF61B21     2012-11-21 2012-11-21        11-12       IV   \n",
       "4551   FB0331B290157     2009-10-01 2014-09-16        13-14  unknown   \n",
       "3013   FC0D88F4A9FBF     2015-05-01 2020-09-17        19-20        I   \n",
       "14248  F4FA9630C17C1     2017-10-20 2017-10-20        17-18       IV   \n",
       "29627  F7945A2B5A122     2002-10-15 2020-11-30        19-20      III   \n",
       "\n",
       "       met_year  delta_met_diagnosis  \n",
       "8537       2012                    0  \n",
       "4551       2014                 1811  \n",
       "3013       2020                 1966  \n",
       "14248      2017                    0  \n",
       "29627      2020                 6621  "
      ]
     },
     "execution_count": 100,
     "metadata": {},
     "output_type": "execute_result"
    }
   ],
   "source": [
    "# Final enhanced_met dataframe\n",
    "enhanced_met.sample(5)"
   ]
  },
  {
   "cell_type": "code",
   "execution_count": 101,
   "id": "a8445219",
   "metadata": {},
   "outputs": [
    {
     "name": "stdout",
     "output_type": "stream",
     "text": [
      "Variable       Type         Data/Info\n",
      "-------------------------------------\n",
      "demographics   DataFrame               PatientID gend<...>n[25341 rows x 7 columns]\n",
      "enhanced_met   DataFrame               PatientID diag<...>n[25341 rows x 7 columns]\n"
     ]
    }
   ],
   "source": [
    "%whos DataFrame"
   ]
  },
  {
   "cell_type": "markdown",
   "id": "995011e4",
   "metadata": {},
   "source": [
    "### 3. Enhanced_Mortality_V2"
   ]
  },
  {
   "cell_type": "code",
   "execution_count": 102,
   "id": "f5424fd2",
   "metadata": {},
   "outputs": [],
   "source": [
    "mortality = pd.read_csv('Enhanced_Mortality_V2.csv')"
   ]
  },
  {
   "cell_type": "code",
   "execution_count": 103,
   "id": "6e2dbd5a",
   "metadata": {},
   "outputs": [],
   "source": [
    "mortality = mortality[mortality['PatientID'].isin(train_IDs)]"
   ]
  },
  {
   "cell_type": "code",
   "execution_count": 104,
   "id": "30264063",
   "metadata": {},
   "outputs": [
    {
     "data": {
      "text/html": [
       "<div>\n",
       "<style scoped>\n",
       "    .dataframe tbody tr th:only-of-type {\n",
       "        vertical-align: middle;\n",
       "    }\n",
       "\n",
       "    .dataframe tbody tr th {\n",
       "        vertical-align: top;\n",
       "    }\n",
       "\n",
       "    .dataframe thead th {\n",
       "        text-align: right;\n",
       "    }\n",
       "</style>\n",
       "<table border=\"1\" class=\"dataframe\">\n",
       "  <thead>\n",
       "    <tr style=\"text-align: right;\">\n",
       "      <th></th>\n",
       "      <th>PatientID</th>\n",
       "      <th>DateOfDeath</th>\n",
       "    </tr>\n",
       "  </thead>\n",
       "  <tbody>\n",
       "    <tr>\n",
       "      <th>7384</th>\n",
       "      <td>FCACF697C1E6B</td>\n",
       "      <td>2020-06</td>\n",
       "    </tr>\n",
       "    <tr>\n",
       "      <th>9434</th>\n",
       "      <td>F836D4BA46A8C</td>\n",
       "      <td>2019-12</td>\n",
       "    </tr>\n",
       "    <tr>\n",
       "      <th>5063</th>\n",
       "      <td>F333D69B787B2</td>\n",
       "      <td>2012-12</td>\n",
       "    </tr>\n",
       "    <tr>\n",
       "      <th>12598</th>\n",
       "      <td>F2753D7C27267</td>\n",
       "      <td>2022-04</td>\n",
       "    </tr>\n",
       "    <tr>\n",
       "      <th>13454</th>\n",
       "      <td>F48A5C9F1DF2D</td>\n",
       "      <td>2013-04</td>\n",
       "    </tr>\n",
       "  </tbody>\n",
       "</table>\n",
       "</div>"
      ],
      "text/plain": [
       "           PatientID DateOfDeath\n",
       "7384   FCACF697C1E6B     2020-06\n",
       "9434   F836D4BA46A8C     2019-12\n",
       "5063   F333D69B787B2     2012-12\n",
       "12598  F2753D7C27267     2022-04\n",
       "13454  F48A5C9F1DF2D     2013-04"
      ]
     },
     "execution_count": 104,
     "metadata": {},
     "output_type": "execute_result"
    }
   ],
   "source": [
    "mortality.sample(5)"
   ]
  },
  {
   "cell_type": "code",
   "execution_count": 105,
   "id": "301ff8f3",
   "metadata": {},
   "outputs": [
    {
     "name": "stdout",
     "output_type": "stream",
     "text": [
      "<class 'pandas.core.frame.DataFrame'>\n",
      "Int64Index: 14679 entries, 0 to 18368\n",
      "Data columns (total 2 columns):\n",
      " #   Column       Non-Null Count  Dtype \n",
      "---  ------       --------------  ----- \n",
      " 0   PatientID    14679 non-null  object\n",
      " 1   DateOfDeath  14679 non-null  object\n",
      "dtypes: object(2)\n",
      "memory usage: 344.0+ KB\n"
     ]
    }
   ],
   "source": [
    "mortality.info()"
   ]
  },
  {
   "cell_type": "code",
   "execution_count": 106,
   "id": "41dab4d1",
   "metadata": {},
   "outputs": [
    {
     "data": {
      "text/plain": [
       "(14679, 14679)"
      ]
     },
     "execution_count": 106,
     "metadata": {},
     "output_type": "execute_result"
    }
   ],
   "source": [
    "row_ID(mortality)"
   ]
  },
  {
   "cell_type": "code",
   "execution_count": 107,
   "id": "0564a426",
   "metadata": {},
   "outputs": [],
   "source": [
    "mortality = mortality.rename(columns = {'DateOfDeath': 'death_date'})"
   ]
  },
  {
   "cell_type": "code",
   "execution_count": 108,
   "id": "3cc83cd0",
   "metadata": {},
   "outputs": [
    {
     "data": {
      "text/html": [
       "<div>\n",
       "<style scoped>\n",
       "    .dataframe tbody tr th:only-of-type {\n",
       "        vertical-align: middle;\n",
       "    }\n",
       "\n",
       "    .dataframe tbody tr th {\n",
       "        vertical-align: top;\n",
       "    }\n",
       "\n",
       "    .dataframe thead th {\n",
       "        text-align: right;\n",
       "    }\n",
       "</style>\n",
       "<table border=\"1\" class=\"dataframe\">\n",
       "  <thead>\n",
       "    <tr style=\"text-align: right;\">\n",
       "      <th></th>\n",
       "      <th>PatientID</th>\n",
       "      <th>death_date</th>\n",
       "    </tr>\n",
       "  </thead>\n",
       "  <tbody>\n",
       "    <tr>\n",
       "      <th>141</th>\n",
       "      <td>F3BF563A62D48</td>\n",
       "      <td>2019</td>\n",
       "    </tr>\n",
       "    <tr>\n",
       "      <th>3365</th>\n",
       "      <td>FC19D180301A7</td>\n",
       "      <td>2020</td>\n",
       "    </tr>\n",
       "    <tr>\n",
       "      <th>3463</th>\n",
       "      <td>FC611158E494E</td>\n",
       "      <td>2012</td>\n",
       "    </tr>\n",
       "    <tr>\n",
       "      <th>5434</th>\n",
       "      <td>F526752C62060</td>\n",
       "      <td>2021</td>\n",
       "    </tr>\n",
       "    <tr>\n",
       "      <th>5797</th>\n",
       "      <td>FC06920270A44</td>\n",
       "      <td>2022</td>\n",
       "    </tr>\n",
       "    <tr>\n",
       "      <th>6003</th>\n",
       "      <td>F57B5EED267D4</td>\n",
       "      <td>2014</td>\n",
       "    </tr>\n",
       "    <tr>\n",
       "      <th>6756</th>\n",
       "      <td>F325D6C944F52</td>\n",
       "      <td>2014</td>\n",
       "    </tr>\n",
       "    <tr>\n",
       "      <th>6876</th>\n",
       "      <td>F816712BD769E</td>\n",
       "      <td>2020</td>\n",
       "    </tr>\n",
       "    <tr>\n",
       "      <th>6920</th>\n",
       "      <td>F48F91B72EB0A</td>\n",
       "      <td>2022</td>\n",
       "    </tr>\n",
       "    <tr>\n",
       "      <th>8252</th>\n",
       "      <td>FD96BA30AC4B3</td>\n",
       "      <td>2021</td>\n",
       "    </tr>\n",
       "    <tr>\n",
       "      <th>8905</th>\n",
       "      <td>F656CAC3E1E1A</td>\n",
       "      <td>2021</td>\n",
       "    </tr>\n",
       "    <tr>\n",
       "      <th>11698</th>\n",
       "      <td>F410D1EF8B4F8</td>\n",
       "      <td>2016</td>\n",
       "    </tr>\n",
       "    <tr>\n",
       "      <th>11885</th>\n",
       "      <td>FC9E97719446E</td>\n",
       "      <td>2017</td>\n",
       "    </tr>\n",
       "    <tr>\n",
       "      <th>12362</th>\n",
       "      <td>F95662E60C3E7</td>\n",
       "      <td>2017</td>\n",
       "    </tr>\n",
       "    <tr>\n",
       "      <th>14062</th>\n",
       "      <td>F337674FCC09A</td>\n",
       "      <td>2019</td>\n",
       "    </tr>\n",
       "    <tr>\n",
       "      <th>15138</th>\n",
       "      <td>F0948483C667E</td>\n",
       "      <td>2015</td>\n",
       "    </tr>\n",
       "    <tr>\n",
       "      <th>16050</th>\n",
       "      <td>F0AB4E8292EBA</td>\n",
       "      <td>2021</td>\n",
       "    </tr>\n",
       "    <tr>\n",
       "      <th>16360</th>\n",
       "      <td>F29F60A7C1DB1</td>\n",
       "      <td>2012</td>\n",
       "    </tr>\n",
       "    <tr>\n",
       "      <th>16836</th>\n",
       "      <td>FB06BDEBB8670</td>\n",
       "      <td>2022</td>\n",
       "    </tr>\n",
       "    <tr>\n",
       "      <th>17041</th>\n",
       "      <td>FFFA856DBD72C</td>\n",
       "      <td>2022</td>\n",
       "    </tr>\n",
       "    <tr>\n",
       "      <th>17185</th>\n",
       "      <td>FFF9D5DE6DDD4</td>\n",
       "      <td>2018</td>\n",
       "    </tr>\n",
       "    <tr>\n",
       "      <th>18323</th>\n",
       "      <td>F8A14AD4F2E1B</td>\n",
       "      <td>2022</td>\n",
       "    </tr>\n",
       "  </tbody>\n",
       "</table>\n",
       "</div>"
      ],
      "text/plain": [
       "           PatientID death_date\n",
       "141    F3BF563A62D48       2019\n",
       "3365   FC19D180301A7       2020\n",
       "3463   FC611158E494E       2012\n",
       "5434   F526752C62060       2021\n",
       "5797   FC06920270A44       2022\n",
       "6003   F57B5EED267D4       2014\n",
       "6756   F325D6C944F52       2014\n",
       "6876   F816712BD769E       2020\n",
       "6920   F48F91B72EB0A       2022\n",
       "8252   FD96BA30AC4B3       2021\n",
       "8905   F656CAC3E1E1A       2021\n",
       "11698  F410D1EF8B4F8       2016\n",
       "11885  FC9E97719446E       2017\n",
       "12362  F95662E60C3E7       2017\n",
       "14062  F337674FCC09A       2019\n",
       "15138  F0948483C667E       2015\n",
       "16050  F0AB4E8292EBA       2021\n",
       "16360  F29F60A7C1DB1       2012\n",
       "16836  FB06BDEBB8670       2022\n",
       "17041  FFFA856DBD72C       2022\n",
       "17185  FFF9D5DE6DDD4       2018\n",
       "18323  F8A14AD4F2E1B       2022"
      ]
     },
     "execution_count": 108,
     "metadata": {},
     "output_type": "execute_result"
    }
   ],
   "source": [
    "# Patients with year granularity.\n",
    "mortality[mortality['death_date'].str.len() == 4]"
   ]
  },
  {
   "cell_type": "markdown",
   "id": "eabc6d38",
   "metadata": {},
   "source": [
    "**The date of death is generalized to the month for de-identification purposes, however, a small number of patients have just the year for date of death. For analyses requiring a day of death, Flatiron Health recommends imputing the 15th of the month since this approach best approximates the results generated from using the exact date of death. For those with a date of death with year granularity, Flatiron recommends imputing the middle of the year and conducting a sensitivty analysis to evaluate assumption.**"
   ]
  },
  {
   "cell_type": "code",
   "execution_count": 109,
   "id": "d3e10cd3",
   "metadata": {},
   "outputs": [],
   "source": [
    "# For patients with year granularity, impute middle of the year (ie., July 1)\n",
    "mortality['death_date'] = (\n",
    "    np.where(mortality['death_date'].str.len() == 4, mortality['death_date'] + '-07-01', mortality['death_date'])\n",
    ")"
   ]
  },
  {
   "cell_type": "code",
   "execution_count": 110,
   "id": "07b90c38",
   "metadata": {},
   "outputs": [],
   "source": [
    "# For patients with month granularity, impute 15th of the month.\n",
    "mortality['death_date'] = (\n",
    "    np.where(mortality['death_date'].str.len() == 7, mortality['death_date'] + '-15', mortality['death_date'])\n",
    ")"
   ]
  },
  {
   "cell_type": "code",
   "execution_count": 111,
   "id": "67c00eab",
   "metadata": {},
   "outputs": [],
   "source": [
    "mortality['death_date'] = pd.to_datetime(mortality['death_date'])"
   ]
  },
  {
   "cell_type": "code",
   "execution_count": 112,
   "id": "27c7fc5a",
   "metadata": {},
   "outputs": [
    {
     "data": {
      "text/plain": [
       "0.5792589084882207"
      ]
     },
     "execution_count": 112,
     "metadata": {},
     "output_type": "execute_result"
    }
   ],
   "source": [
    "# Percent of patients with death date.  \n",
    "len(mortality)/len(train_IDs)"
   ]
  },
  {
   "cell_type": "code",
   "execution_count": 113,
   "id": "66f552fe",
   "metadata": {},
   "outputs": [
    {
     "data": {
      "text/plain": [
       "<AxesSubplot:xlabel='death_date'>"
      ]
     },
     "execution_count": 113,
     "metadata": {},
     "output_type": "execute_result"
    },
    {
     "data": {
      "image/png": "[encoded data removed]",
      "text/plain": [
       "<Figure size 432x288 with 1 Axes>"
      ]
     },
     "metadata": {
      "needs_background": "light"
     },
     "output_type": "display_data"
    }
   ],
   "source": [
    "# Bar plot of monthly mortality for aNSCLC. \n",
    "mortality.groupby([mortality['death_date'].dt.month])['PatientID'].count().plot(kind = 'bar')"
   ]
  },
  {
   "cell_type": "code",
   "execution_count": 114,
   "id": "52f2fbe2",
   "metadata": {},
   "outputs": [
    {
     "data": {
      "text/plain": [
       "<AxesSubplot:xlabel='death_date'>"
      ]
     },
     "execution_count": 114,
     "metadata": {},
     "output_type": "execute_result"
    },
    {
     "data": {
      "image/png": "[encoded data removed]",
      "text/plain": [
       "<Figure size 432x288 with 1 Axes>"
      ]
     },
     "metadata": {
      "needs_background": "light"
     },
     "output_type": "display_data"
    }
   ],
   "source": [
    "# Bar plot of yearly mortality for aNSCLC. \n",
    "mortality.groupby([mortality['death_date'].dt.year])['PatientID'].count().plot(kind = 'bar')"
   ]
  },
  {
   "cell_type": "markdown",
   "id": "d4aab17d",
   "metadata": {},
   "source": [
    "#### Censoring"
   ]
  },
  {
   "cell_type": "markdown",
   "id": "d67acce0",
   "metadata": {},
   "source": [
    "**For patients for whom a date of death is not known, the censor date can be defined either as the data cutoff date or as the last confirmed activity date. The last confirmed activity date is broadly defined as the last date at which there is evidence in the EHR that a patient is alive. Evidence of a record in at least one of the items listed below qualifies as patient-level confirmed activity:**\n",
    "* Visit: VisitDate\n",
    "* Telemedicine: VisitDate\n",
    "* Enhanced_MetBreast_Orals: StartDate or EndDate\n",
    "* Enhanced_MetBreastBiomarkers: SpecimenCollectedDate\n",
    "* Enhanced_MetBreastProgression: LastClinicNoteDate or ProgressionDate\n",
    "* Enhanced_MetBreastSitesOfMet: DateOfMetastasis"
   ]
  },
  {
   "cell_type": "code",
   "execution_count": 115,
   "id": "fc3d0075",
   "metadata": {},
   "outputs": [],
   "source": [
    "visit = pd.read_csv('Visit.csv')\n",
    "telemedicine = pd.read_csv('Telemedicine.csv')\n",
    "orals = pd.read_csv('Enhanced_MetBreast_Orals.csv')\n",
    "biomarkers = pd.read_csv('Enhanced_MetBreastBiomarkers.csv')\n",
    "progression = pd.read_csv('Enhanced_MetBreastProgression.csv')\n",
    "mets = pd.read_csv('Enhanced_MetBreastSitesOfMet.csv')"
   ]
  },
  {
   "cell_type": "markdown",
   "id": "e4a90386",
   "metadata": {},
   "source": [
    "##### Visit and Telemedicine"
   ]
  },
  {
   "cell_type": "code",
   "execution_count": 116,
   "id": "493beccf",
   "metadata": {},
   "outputs": [
    {
     "data": {
      "text/html": [
       "<div>\n",
       "<style scoped>\n",
       "    .dataframe tbody tr th:only-of-type {\n",
       "        vertical-align: middle;\n",
       "    }\n",
       "\n",
       "    .dataframe tbody tr th {\n",
       "        vertical-align: top;\n",
       "    }\n",
       "\n",
       "    .dataframe thead th {\n",
       "        text-align: right;\n",
       "    }\n",
       "</style>\n",
       "<table border=\"1\" class=\"dataframe\">\n",
       "  <thead>\n",
       "    <tr style=\"text-align: right;\">\n",
       "      <th></th>\n",
       "      <th>PatientID</th>\n",
       "      <th>PracticeID</th>\n",
       "      <th>VisitDate</th>\n",
       "      <th>VisitType</th>\n",
       "      <th>IsVitalsVisit</th>\n",
       "      <th>IsTreatmentVisit</th>\n",
       "      <th>IsLabVisit</th>\n",
       "    </tr>\n",
       "  </thead>\n",
       "  <tbody>\n",
       "    <tr>\n",
       "      <th>1505937</th>\n",
       "      <td>F3C7EA810813E</td>\n",
       "      <td>SA060E3ECE536</td>\n",
       "      <td>2015-10-28</td>\n",
       "      <td>Treatment</td>\n",
       "      <td>True</td>\n",
       "      <td>True</td>\n",
       "      <td>True</td>\n",
       "    </tr>\n",
       "    <tr>\n",
       "      <th>1443969</th>\n",
       "      <td>F932EB2BC41D8</td>\n",
       "      <td>SD2555DC0ACD7</td>\n",
       "      <td>2017-10-20</td>\n",
       "      <td>Treatment</td>\n",
       "      <td>True</td>\n",
       "      <td>True</td>\n",
       "      <td>True</td>\n",
       "    </tr>\n",
       "    <tr>\n",
       "      <th>1631714</th>\n",
       "      <td>F4E1DF0F41A2A</td>\n",
       "      <td>SF193051201DD</td>\n",
       "      <td>2020-04-14</td>\n",
       "      <td>Treatment</td>\n",
       "      <td>True</td>\n",
       "      <td>True</td>\n",
       "      <td>True</td>\n",
       "    </tr>\n",
       "    <tr>\n",
       "      <th>1156014</th>\n",
       "      <td>F198F961C13A1</td>\n",
       "      <td>SD6317E5462ED</td>\n",
       "      <td>2019-11-01</td>\n",
       "      <td>Treatment</td>\n",
       "      <td>True</td>\n",
       "      <td>True</td>\n",
       "      <td>True</td>\n",
       "    </tr>\n",
       "    <tr>\n",
       "      <th>1422245</th>\n",
       "      <td>F3F9BC6056B7F</td>\n",
       "      <td>SC68062CB3794</td>\n",
       "      <td>2014-03-18</td>\n",
       "      <td>Lab</td>\n",
       "      <td>False</td>\n",
       "      <td>False</td>\n",
       "      <td>True</td>\n",
       "    </tr>\n",
       "  </tbody>\n",
       "</table>\n",
       "</div>"
      ],
      "text/plain": [
       "             PatientID     PracticeID   VisitDate  VisitType  IsVitalsVisit  \\\n",
       "1505937  F3C7EA810813E  SA060E3ECE536  2015-10-28  Treatment           True   \n",
       "1443969  F932EB2BC41D8  SD2555DC0ACD7  2017-10-20  Treatment           True   \n",
       "1631714  F4E1DF0F41A2A  SF193051201DD  2020-04-14  Treatment           True   \n",
       "1156014  F198F961C13A1  SD6317E5462ED  2019-11-01  Treatment           True   \n",
       "1422245  F3F9BC6056B7F  SC68062CB3794  2014-03-18        Lab          False   \n",
       "\n",
       "         IsTreatmentVisit  IsLabVisit  \n",
       "1505937              True        True  \n",
       "1443969              True        True  \n",
       "1631714              True        True  \n",
       "1156014              True        True  \n",
       "1422245             False        True  "
      ]
     },
     "execution_count": 116,
     "metadata": {},
     "output_type": "execute_result"
    }
   ],
   "source": [
    "visit.sample(5)"
   ]
  },
  {
   "cell_type": "code",
   "execution_count": 117,
   "id": "0470d95e",
   "metadata": {},
   "outputs": [
    {
     "data": {
      "text/plain": [
       "(1936611, 7)"
      ]
     },
     "execution_count": 117,
     "metadata": {},
     "output_type": "execute_result"
    }
   ],
   "source": [
    "visit.shape"
   ]
  },
  {
   "cell_type": "code",
   "execution_count": 118,
   "id": "54ef8dc0",
   "metadata": {},
   "outputs": [
    {
     "data": {
      "text/html": [
       "<div>\n",
       "<style scoped>\n",
       "    .dataframe tbody tr th:only-of-type {\n",
       "        vertical-align: middle;\n",
       "    }\n",
       "\n",
       "    .dataframe tbody tr th {\n",
       "        vertical-align: top;\n",
       "    }\n",
       "\n",
       "    .dataframe thead th {\n",
       "        text-align: right;\n",
       "    }\n",
       "</style>\n",
       "<table border=\"1\" class=\"dataframe\">\n",
       "  <thead>\n",
       "    <tr style=\"text-align: right;\">\n",
       "      <th></th>\n",
       "      <th>PatientID</th>\n",
       "      <th>PracticeID</th>\n",
       "      <th>VisitDate</th>\n",
       "    </tr>\n",
       "  </thead>\n",
       "  <tbody>\n",
       "    <tr>\n",
       "      <th>17611</th>\n",
       "      <td>F76E85EE189E1</td>\n",
       "      <td>S98D0ED5E3A94</td>\n",
       "      <td>2020-11-13</td>\n",
       "    </tr>\n",
       "    <tr>\n",
       "      <th>11801</th>\n",
       "      <td>F09F3C2556CF1</td>\n",
       "      <td>S044262E32626</td>\n",
       "      <td>2021-11-11</td>\n",
       "    </tr>\n",
       "    <tr>\n",
       "      <th>7827</th>\n",
       "      <td>FACBC2F2CC62D</td>\n",
       "      <td>S87C279DB0C8A</td>\n",
       "      <td>2020-05-13</td>\n",
       "    </tr>\n",
       "    <tr>\n",
       "      <th>16474</th>\n",
       "      <td>FD69BBF6DF731</td>\n",
       "      <td>SE1DBAB3F93C9</td>\n",
       "      <td>2022-04-25</td>\n",
       "    </tr>\n",
       "    <tr>\n",
       "      <th>752</th>\n",
       "      <td>FBD04774E4D1E</td>\n",
       "      <td>SCC8EE4FB66C3</td>\n",
       "      <td>2021-05-27</td>\n",
       "    </tr>\n",
       "  </tbody>\n",
       "</table>\n",
       "</div>"
      ],
      "text/plain": [
       "           PatientID     PracticeID   VisitDate\n",
       "17611  F76E85EE189E1  S98D0ED5E3A94  2020-11-13\n",
       "11801  F09F3C2556CF1  S044262E32626  2021-11-11\n",
       "7827   FACBC2F2CC62D  S87C279DB0C8A  2020-05-13\n",
       "16474  FD69BBF6DF731  SE1DBAB3F93C9  2022-04-25\n",
       "752    FBD04774E4D1E  SCC8EE4FB66C3  2021-05-27"
      ]
     },
     "execution_count": 118,
     "metadata": {},
     "output_type": "execute_result"
    }
   ],
   "source": [
    "telemedicine.sample(5)"
   ]
  },
  {
   "cell_type": "code",
   "execution_count": 119,
   "id": "84a9967e",
   "metadata": {},
   "outputs": [
    {
     "data": {
      "text/plain": [
       "(23412, 3)"
      ]
     },
     "execution_count": 119,
     "metadata": {},
     "output_type": "execute_result"
    }
   ],
   "source": [
    "telemedicine.shape"
   ]
  },
  {
   "cell_type": "code",
   "execution_count": 120,
   "id": "6e15ce2d",
   "metadata": {},
   "outputs": [],
   "source": [
    "visit_tele = (\n",
    "    visit[['PatientID', 'VisitDate']]\n",
    "    .append(telemedicine[['PatientID', 'VisitDate']])\n",
    ") "
   ]
  },
  {
   "cell_type": "code",
   "execution_count": 121,
   "id": "0dee5fb5",
   "metadata": {},
   "outputs": [
    {
     "data": {
      "text/plain": [
       "(1960023, 2)"
      ]
     },
     "execution_count": 121,
     "metadata": {},
     "output_type": "execute_result"
    }
   ],
   "source": [
    "visit_tele.shape"
   ]
  },
  {
   "cell_type": "code",
   "execution_count": 122,
   "id": "97f340b2",
   "metadata": {},
   "outputs": [],
   "source": [
    "visit_tele.loc[:,'VisitDate'] = pd.to_datetime(visit_tele['VisitDate'])"
   ]
  },
  {
   "cell_type": "code",
   "execution_count": 123,
   "id": "21976324",
   "metadata": {},
   "outputs": [
    {
     "data": {
      "text/html": [
       "<div>\n",
       "<style scoped>\n",
       "    .dataframe tbody tr th:only-of-type {\n",
       "        vertical-align: middle;\n",
       "    }\n",
       "\n",
       "    .dataframe tbody tr th {\n",
       "        vertical-align: top;\n",
       "    }\n",
       "\n",
       "    .dataframe thead th {\n",
       "        text-align: right;\n",
       "    }\n",
       "</style>\n",
       "<table border=\"1\" class=\"dataframe\">\n",
       "  <thead>\n",
       "    <tr style=\"text-align: right;\">\n",
       "      <th></th>\n",
       "      <th>PatientID</th>\n",
       "      <th>VisitDate</th>\n",
       "    </tr>\n",
       "  </thead>\n",
       "  <tbody>\n",
       "    <tr>\n",
       "      <th>899948</th>\n",
       "      <td>F5F5F7DEECA15</td>\n",
       "      <td>2021-08-09</td>\n",
       "    </tr>\n",
       "    <tr>\n",
       "      <th>34273</th>\n",
       "      <td>F0F9A090A71AB</td>\n",
       "      <td>2014-04-18</td>\n",
       "    </tr>\n",
       "    <tr>\n",
       "      <th>1635331</th>\n",
       "      <td>F665232437494</td>\n",
       "      <td>2021-08-23</td>\n",
       "    </tr>\n",
       "    <tr>\n",
       "      <th>13471</th>\n",
       "      <td>FEB15AB6AD176</td>\n",
       "      <td>2020-11-19</td>\n",
       "    </tr>\n",
       "    <tr>\n",
       "      <th>1585001</th>\n",
       "      <td>F86187B002E20</td>\n",
       "      <td>2021-12-17</td>\n",
       "    </tr>\n",
       "  </tbody>\n",
       "</table>\n",
       "</div>"
      ],
      "text/plain": [
       "             PatientID  VisitDate\n",
       "899948   F5F5F7DEECA15 2021-08-09\n",
       "34273    F0F9A090A71AB 2014-04-18\n",
       "1635331  F665232437494 2021-08-23\n",
       "13471    FEB15AB6AD176 2020-11-19\n",
       "1585001  F86187B002E20 2021-12-17"
      ]
     },
     "execution_count": 123,
     "metadata": {},
     "output_type": "execute_result"
    }
   ],
   "source": [
    "visit_tele.sample(5)"
   ]
  },
  {
   "cell_type": "code",
   "execution_count": 124,
   "id": "6df1d7eb",
   "metadata": {},
   "outputs": [],
   "source": [
    "# Select max VisitDate from combined Visit and Telemedicine table.\n",
    "visit_tele_max = (\n",
    "    visit_tele\n",
    "    [visit_tele['PatientID'].isin(train_IDs)]\n",
    "    .groupby('PatientID')['VisitDate'].max()\n",
    "    .to_frame(name = 'visit_max')\n",
    "    .reset_index()\n",
    ")"
   ]
  },
  {
   "cell_type": "code",
   "execution_count": 125,
   "id": "18f33582",
   "metadata": {},
   "outputs": [
    {
     "data": {
      "text/plain": [
       "(25341, 25341)"
      ]
     },
     "execution_count": 125,
     "metadata": {},
     "output_type": "execute_result"
    }
   ],
   "source": [
    "row_ID(visit_tele_max)"
   ]
  },
  {
   "cell_type": "markdown",
   "id": "c92e6d1e",
   "metadata": {},
   "source": [
    "##### Orals"
   ]
  },
  {
   "cell_type": "code",
   "execution_count": 126,
   "id": "a4bfcc21",
   "metadata": {},
   "outputs": [],
   "source": [
    "orals = orals[orals['PatientID'].isin(train_IDs)]"
   ]
  },
  {
   "cell_type": "code",
   "execution_count": 127,
   "id": "0ac6d972",
   "metadata": {},
   "outputs": [],
   "source": [
    "orals.loc[:, 'StartDate'] = pd.to_datetime(orals['StartDate'])"
   ]
  },
  {
   "cell_type": "code",
   "execution_count": 128,
   "id": "a6eac00c",
   "metadata": {},
   "outputs": [],
   "source": [
    "orals.loc[:, 'EndDate'] = pd.to_datetime(orals['EndDate'])"
   ]
  },
  {
   "cell_type": "code",
   "execution_count": 129,
   "id": "43076031",
   "metadata": {},
   "outputs": [],
   "source": [
    "orals_max = (\n",
    "    orals\n",
    "    .assign(max_date = orals[['StartDate', 'EndDate']].max(axis = 1))\n",
    "    .groupby('PatientID')['max_date'].max()\n",
    "    .to_frame(name = 'orals_max')\n",
    "    .reset_index()\n",
    ")"
   ]
  },
  {
   "cell_type": "markdown",
   "id": "1c5286fb",
   "metadata": {},
   "source": [
    "##### Biomarkers"
   ]
  },
  {
   "cell_type": "code",
   "execution_count": 130,
   "id": "bf0179c0",
   "metadata": {},
   "outputs": [],
   "source": [
    "biomarkers = biomarkers[biomarkers['PatientID'].isin(train_IDs)]"
   ]
  },
  {
   "cell_type": "code",
   "execution_count": 131,
   "id": "12cf821f",
   "metadata": {},
   "outputs": [],
   "source": [
    "biomarkers.loc[:, 'SpecimenCollectedDate'] = pd.to_datetime(biomarkers['SpecimenCollectedDate'])"
   ]
  },
  {
   "cell_type": "code",
   "execution_count": 132,
   "id": "a0d9042a",
   "metadata": {},
   "outputs": [],
   "source": [
    "biomarkers_max = (\n",
    "    biomarkers\n",
    "    .groupby('PatientID')['SpecimenCollectedDate'].max()\n",
    "    .to_frame(name = 'biomarkers_max')\n",
    "    .reset_index()\n",
    ")"
   ]
  },
  {
   "cell_type": "markdown",
   "id": "6856ab8a",
   "metadata": {},
   "source": [
    "##### Progression"
   ]
  },
  {
   "cell_type": "code",
   "execution_count": 133,
   "id": "b57555db",
   "metadata": {},
   "outputs": [],
   "source": [
    "progression = progression[progression['PatientID'].isin(train_IDs)]"
   ]
  },
  {
   "cell_type": "code",
   "execution_count": 134,
   "id": "5e8baea9",
   "metadata": {},
   "outputs": [],
   "source": [
    "progression.loc[:, 'ProgressionDate'] = pd.to_datetime(progression['ProgressionDate'])"
   ]
  },
  {
   "cell_type": "code",
   "execution_count": 135,
   "id": "59ca0864",
   "metadata": {},
   "outputs": [],
   "source": [
    "progression.loc[:, 'LastClinicNoteDate'] = pd.to_datetime(progression['LastClinicNoteDate'])"
   ]
  },
  {
   "cell_type": "code",
   "execution_count": 136,
   "id": "7ad418bb",
   "metadata": {},
   "outputs": [],
   "source": [
    "progression_max = (\n",
    "    progression\n",
    "    .assign(max_date = progression[['ProgressionDate', 'LastClinicNoteDate']].max(axis = 1))\n",
    "    .groupby('PatientID')['max_date'].max()\n",
    "    .to_frame(name = 'progression_max')\n",
    "    .reset_index()\n",
    ")"
   ]
  },
  {
   "cell_type": "markdown",
   "id": "91dea00c",
   "metadata": {},
   "source": [
    "##### Sites of metastasis"
   ]
  },
  {
   "cell_type": "code",
   "execution_count": 137,
   "id": "16a7c840",
   "metadata": {},
   "outputs": [],
   "source": [
    "mets = mets[mets['PatientID'].isin(train_IDs)]"
   ]
  },
  {
   "cell_type": "code",
   "execution_count": 138,
   "id": "2477ff5d",
   "metadata": {},
   "outputs": [],
   "source": [
    "mets.loc[:, 'DateOfMetastasis'] = pd.to_datetime(mets['DateOfMetastasis'])"
   ]
  },
  {
   "cell_type": "code",
   "execution_count": 139,
   "id": "aaae8f16",
   "metadata": {},
   "outputs": [],
   "source": [
    "mets_max = (\n",
    "    mets\n",
    "    .groupby('PatientID')['DateOfMetastasis'].max()\n",
    "    .to_frame(name = 'mets_max')\n",
    "    .reset_index()\n",
    ")"
   ]
  },
  {
   "cell_type": "markdown",
   "id": "aacc7d2e",
   "metadata": {},
   "source": [
    "##### Max date merge"
   ]
  },
  {
   "cell_type": "code",
   "execution_count": 140,
   "id": "59c5579e",
   "metadata": {},
   "outputs": [],
   "source": [
    "last_activity = pd.merge(visit_tele_max, orals_max, on = 'PatientID', how = 'outer')"
   ]
  },
  {
   "cell_type": "code",
   "execution_count": 141,
   "id": "97d535f6",
   "metadata": {},
   "outputs": [],
   "source": [
    "last_activity = pd.merge(last_activity, biomarkers_max, on = 'PatientID', how = 'outer')"
   ]
  },
  {
   "cell_type": "code",
   "execution_count": 142,
   "id": "72e3b9c2",
   "metadata": {},
   "outputs": [],
   "source": [
    "last_activity = pd.merge(last_activity, progression_max, on = 'PatientID', how = 'outer')"
   ]
  },
  {
   "cell_type": "code",
   "execution_count": 143,
   "id": "2881aa2c",
   "metadata": {},
   "outputs": [],
   "source": [
    "last_activity = pd.merge(last_activity, mets_max, on = 'PatientID', how = 'outer')"
   ]
  },
  {
   "cell_type": "code",
   "execution_count": 144,
   "id": "19aa9286",
   "metadata": {},
   "outputs": [
    {
     "data": {
      "text/plain": [
       "(25341, 25341)"
      ]
     },
     "execution_count": 144,
     "metadata": {},
     "output_type": "execute_result"
    }
   ],
   "source": [
    "row_ID(last_activity)"
   ]
  },
  {
   "cell_type": "code",
   "execution_count": 145,
   "id": "2a30d61b",
   "metadata": {},
   "outputs": [
    {
     "data": {
      "text/html": [
       "<div>\n",
       "<style scoped>\n",
       "    .dataframe tbody tr th:only-of-type {\n",
       "        vertical-align: middle;\n",
       "    }\n",
       "\n",
       "    .dataframe tbody tr th {\n",
       "        vertical-align: top;\n",
       "    }\n",
       "\n",
       "    .dataframe thead th {\n",
       "        text-align: right;\n",
       "    }\n",
       "</style>\n",
       "<table border=\"1\" class=\"dataframe\">\n",
       "  <thead>\n",
       "    <tr style=\"text-align: right;\">\n",
       "      <th></th>\n",
       "      <th>PatientID</th>\n",
       "      <th>visit_max</th>\n",
       "      <th>orals_max</th>\n",
       "      <th>biomarkers_max</th>\n",
       "      <th>progression_max</th>\n",
       "      <th>mets_max</th>\n",
       "    </tr>\n",
       "  </thead>\n",
       "  <tbody>\n",
       "    <tr>\n",
       "      <th>23399</th>\n",
       "      <td>FEC694A5223F5</td>\n",
       "      <td>2022-08-24</td>\n",
       "      <td>2022-08-24</td>\n",
       "      <td>2022-05-24</td>\n",
       "      <td>2022-08-24</td>\n",
       "      <td>2022-05-01</td>\n",
       "    </tr>\n",
       "    <tr>\n",
       "      <th>23725</th>\n",
       "      <td>FEF8BFA3857B7</td>\n",
       "      <td>2017-03-10</td>\n",
       "      <td>2017-01-04</td>\n",
       "      <td>2016-12-22</td>\n",
       "      <td>2017-03-10</td>\n",
       "      <td>2017-03-01</td>\n",
       "    </tr>\n",
       "    <tr>\n",
       "      <th>18997</th>\n",
       "      <td>FBF93AB5D35FF</td>\n",
       "      <td>2022-08-30</td>\n",
       "      <td>2022-08-22</td>\n",
       "      <td>2017-07-17</td>\n",
       "      <td>2022-08-22</td>\n",
       "      <td>2017-07-01</td>\n",
       "    </tr>\n",
       "    <tr>\n",
       "      <th>7684</th>\n",
       "      <td>F4D6A604BBB0E</td>\n",
       "      <td>2022-08-10</td>\n",
       "      <td>2022-08-31</td>\n",
       "      <td>2021-01-07</td>\n",
       "      <td>2022-05-18</td>\n",
       "      <td>2021-01-01</td>\n",
       "    </tr>\n",
       "    <tr>\n",
       "      <th>19799</th>\n",
       "      <td>FC841337E1C53</td>\n",
       "      <td>2014-09-12</td>\n",
       "      <td>NaT</td>\n",
       "      <td>2014-09-24</td>\n",
       "      <td>2014-09-30</td>\n",
       "      <td>2014-06-01</td>\n",
       "    </tr>\n",
       "  </tbody>\n",
       "</table>\n",
       "</div>"
      ],
      "text/plain": [
       "           PatientID  visit_max  orals_max biomarkers_max progression_max  \\\n",
       "23399  FEC694A5223F5 2022-08-24 2022-08-24     2022-05-24      2022-08-24   \n",
       "23725  FEF8BFA3857B7 2017-03-10 2017-01-04     2016-12-22      2017-03-10   \n",
       "18997  FBF93AB5D35FF 2022-08-30 2022-08-22     2017-07-17      2022-08-22   \n",
       "7684   F4D6A604BBB0E 2022-08-10 2022-08-31     2021-01-07      2022-05-18   \n",
       "19799  FC841337E1C53 2014-09-12        NaT     2014-09-24      2014-09-30   \n",
       "\n",
       "        mets_max  \n",
       "23399 2022-05-01  \n",
       "23725 2017-03-01  \n",
       "18997 2017-07-01  \n",
       "7684  2021-01-01  \n",
       "19799 2014-06-01  "
      ]
     },
     "execution_count": 145,
     "metadata": {},
     "output_type": "execute_result"
    }
   ],
   "source": [
    "last_activity.sample(5)"
   ]
  },
  {
   "cell_type": "code",
   "execution_count": 146,
   "id": "6243a6cf",
   "metadata": {},
   "outputs": [],
   "source": [
    "# Find max of each row. \n",
    "last_activity = (\n",
    "    last_activity\n",
    "    .assign(last_activity = last_activity[['visit_max', 'orals_max', 'biomarkers_max', 'progression_max', 'mets_max']].max(axis = 1))\n",
    "    .filter(items = ['PatientID', 'last_activity'])\n",
    ")"
   ]
  },
  {
   "cell_type": "code",
   "execution_count": 147,
   "id": "c3424fa9",
   "metadata": {},
   "outputs": [
    {
     "data": {
      "text/plain": [
       "True"
      ]
     },
     "execution_count": 147,
     "metadata": {},
     "output_type": "execute_result"
    }
   ],
   "source": [
    "len(last_activity) == len(train_IDs)"
   ]
  },
  {
   "cell_type": "code",
   "execution_count": 148,
   "id": "9ea05c35",
   "metadata": {},
   "outputs": [
    {
     "data": {
      "text/plain": [
       "0"
      ]
     },
     "execution_count": 148,
     "metadata": {},
     "output_type": "execute_result"
    }
   ],
   "source": [
    "last_activity['last_activity'].isna().sum()"
   ]
  },
  {
   "cell_type": "code",
   "execution_count": 149,
   "id": "d7fda6bb",
   "metadata": {},
   "outputs": [],
   "source": [
    "# Append missing training IDs.\n",
    "mortality = (\n",
    "    mortality\n",
    "    .append(\n",
    "        pd.Series(train_IDs)[~pd.Series(train_IDs).isin(mortality['PatientID'])].to_frame(name = 'PatientID'), \n",
    "        sort = False\n",
    "    )\n",
    ")"
   ]
  },
  {
   "cell_type": "code",
   "execution_count": 150,
   "id": "cbcf47b5",
   "metadata": {},
   "outputs": [
    {
     "data": {
      "text/plain": [
       "(25341, 25341)"
      ]
     },
     "execution_count": 150,
     "metadata": {},
     "output_type": "execute_result"
    }
   ],
   "source": [
    "row_ID(mortality)"
   ]
  },
  {
   "cell_type": "code",
   "execution_count": 151,
   "id": "e48d1fed",
   "metadata": {},
   "outputs": [],
   "source": [
    "mortality = pd.merge(mortality, enhanced_met[['PatientID', 'met_date']], on = 'PatientID')"
   ]
  },
  {
   "cell_type": "code",
   "execution_count": 152,
   "id": "9284501f",
   "metadata": {},
   "outputs": [],
   "source": [
    "mortality = pd.merge(mortality, last_activity, on = 'PatientID')"
   ]
  },
  {
   "cell_type": "code",
   "execution_count": 153,
   "id": "e3921557",
   "metadata": {},
   "outputs": [
    {
     "data": {
      "text/plain": [
       "(25341, 25341)"
      ]
     },
     "execution_count": 153,
     "metadata": {},
     "output_type": "execute_result"
    }
   ],
   "source": [
    "row_ID(mortality)"
   ]
  },
  {
   "cell_type": "code",
   "execution_count": 154,
   "id": "a804835d",
   "metadata": {},
   "outputs": [],
   "source": [
    "mortality.loc[:, 'death_status'] = np.where(mortality['death_date'].isna(), 0, 1)"
   ]
  },
  {
   "cell_type": "code",
   "execution_count": 155,
   "id": "3a546e6f",
   "metadata": {},
   "outputs": [],
   "source": [
    "# timerisk_activity is time from metastatic diagnosis to death or last activity if no death date.\n",
    "mortality.loc[:, 'timerisk_activity'] = (\n",
    "    np.where(mortality['death_date'].isna(),\n",
    "             (mortality['last_activity'] - mortality['met_date']).dt.days,\n",
    "             (mortality['death_date'] - mortality['met_date']).dt.days)\n",
    ")"
   ]
  },
  {
   "cell_type": "code",
   "execution_count": 156,
   "id": "66d4b92c",
   "metadata": {},
   "outputs": [],
   "source": [
    "# If timerisk_activity is less than 0, set to 0 otherwise remains unchanged. \n",
    "mortality['timerisk_activity'] = np.where(mortality['timerisk_activity'] < 0, 0, mortality['timerisk_activity'])"
   ]
  },
  {
   "cell_type": "code",
   "execution_count": 157,
   "id": "68f27233",
   "metadata": {},
   "outputs": [
    {
     "data": {
      "text/html": [
       "<div>\n",
       "<style scoped>\n",
       "    .dataframe tbody tr th:only-of-type {\n",
       "        vertical-align: middle;\n",
       "    }\n",
       "\n",
       "    .dataframe tbody tr th {\n",
       "        vertical-align: top;\n",
       "    }\n",
       "\n",
       "    .dataframe thead th {\n",
       "        text-align: right;\n",
       "    }\n",
       "</style>\n",
       "<table border=\"1\" class=\"dataframe\">\n",
       "  <thead>\n",
       "    <tr style=\"text-align: right;\">\n",
       "      <th></th>\n",
       "      <th>PatientID</th>\n",
       "      <th>death_date</th>\n",
       "      <th>met_date</th>\n",
       "      <th>last_activity</th>\n",
       "      <th>death_status</th>\n",
       "      <th>timerisk_activity</th>\n",
       "    </tr>\n",
       "  </thead>\n",
       "  <tbody>\n",
       "    <tr>\n",
       "      <th>1092</th>\n",
       "      <td>F2BF981EEDC98</td>\n",
       "      <td>2017-11-15</td>\n",
       "      <td>2017-06-14</td>\n",
       "      <td>2017-11-15</td>\n",
       "      <td>1</td>\n",
       "      <td>154.0</td>\n",
       "    </tr>\n",
       "    <tr>\n",
       "      <th>19009</th>\n",
       "      <td>F6906C6C4ECF7</td>\n",
       "      <td>NaT</td>\n",
       "      <td>2017-05-08</td>\n",
       "      <td>2017-05-01</td>\n",
       "      <td>0</td>\n",
       "      <td>0.0</td>\n",
       "    </tr>\n",
       "    <tr>\n",
       "      <th>20730</th>\n",
       "      <td>FA3155311F030</td>\n",
       "      <td>NaT</td>\n",
       "      <td>2022-04-19</td>\n",
       "      <td>2022-08-26</td>\n",
       "      <td>0</td>\n",
       "      <td>129.0</td>\n",
       "    </tr>\n",
       "    <tr>\n",
       "      <th>15482</th>\n",
       "      <td>F57C740DEA304</td>\n",
       "      <td>NaT</td>\n",
       "      <td>2019-12-30</td>\n",
       "      <td>2022-05-11</td>\n",
       "      <td>0</td>\n",
       "      <td>863.0</td>\n",
       "    </tr>\n",
       "    <tr>\n",
       "      <th>18020</th>\n",
       "      <td>F6D75A1E1E9E4</td>\n",
       "      <td>NaT</td>\n",
       "      <td>2022-04-14</td>\n",
       "      <td>2022-08-18</td>\n",
       "      <td>0</td>\n",
       "      <td>126.0</td>\n",
       "    </tr>\n",
       "  </tbody>\n",
       "</table>\n",
       "</div>"
      ],
      "text/plain": [
       "           PatientID death_date   met_date last_activity  death_status  \\\n",
       "1092   F2BF981EEDC98 2017-11-15 2017-06-14    2017-11-15             1   \n",
       "19009  F6906C6C4ECF7        NaT 2017-05-08    2017-05-01             0   \n",
       "20730  FA3155311F030        NaT 2022-04-19    2022-08-26             0   \n",
       "15482  F57C740DEA304        NaT 2019-12-30    2022-05-11             0   \n",
       "18020  F6D75A1E1E9E4        NaT 2022-04-14    2022-08-18             0   \n",
       "\n",
       "       timerisk_activity  \n",
       "1092               154.0  \n",
       "19009                0.0  \n",
       "20730              129.0  \n",
       "15482              863.0  \n",
       "18020              126.0  "
      ]
     },
     "execution_count": 157,
     "metadata": {},
     "output_type": "execute_result"
    }
   ],
   "source": [
    "mortality.sample(5)"
   ]
  },
  {
   "cell_type": "code",
   "execution_count": 158,
   "id": "7b54cf6b",
   "metadata": {},
   "outputs": [
    {
     "data": {
      "text/plain": [
       "count    25341.000000\n",
       "mean       892.760862\n",
       "std        827.314034\n",
       "min          0.000000\n",
       "25%        249.000000\n",
       "50%        651.000000\n",
       "75%       1293.000000\n",
       "max       4258.000000\n",
       "Name: timerisk_activity, dtype: float64"
      ]
     },
     "execution_count": 158,
     "metadata": {},
     "output_type": "execute_result"
    }
   ],
   "source": [
    "mortality.timerisk_activity.describe()"
   ]
  },
  {
   "cell_type": "code",
   "execution_count": 159,
   "id": "53e36d2b",
   "metadata": {},
   "outputs": [
    {
     "data": {
      "text/plain": [
       "0.42074109151177935"
      ]
     },
     "execution_count": 159,
     "metadata": {},
     "output_type": "execute_result"
    }
   ],
   "source": [
    "# Percent of patients censored overall. \n",
    "(mortality.shape[0] - mortality['death_status'].sum())/mortality.shape[0]"
   ]
  },
  {
   "cell_type": "code",
   "execution_count": 160,
   "id": "d6d79521",
   "metadata": {},
   "outputs": [
    {
     "data": {
      "text/plain": [
       "0.20492482538179235"
      ]
     },
     "execution_count": 160,
     "metadata": {},
     "output_type": "execute_result"
    }
   ],
   "source": [
    "# Percent of patients dying within 365 days. \n",
    "((mortality['death_status'] == 1) & (mortality['timerisk_activity'] <= 365)).sum()/mortality.shape[0]"
   ]
  },
  {
   "cell_type": "code",
   "execution_count": 161,
   "id": "5c71dc77",
   "metadata": {},
   "outputs": [
    {
     "data": {
      "text/plain": [
       "0.328716309537903"
      ]
     },
     "execution_count": 161,
     "metadata": {},
     "output_type": "execute_result"
    }
   ],
   "source": [
    "# Percent of patients dying within 720 days. \n",
    "((mortality['death_status'] == 1) & (mortality['timerisk_activity'] <= 720)).sum()/mortality.shape[0]"
   ]
  },
  {
   "cell_type": "code",
   "execution_count": 162,
   "id": "9f412864",
   "metadata": {},
   "outputs": [
    {
     "name": "stdout",
     "output_type": "stream",
     "text": [
      "Median survival in days: 1057.0\n"
     ]
    },
    {
     "data": {
      "image/png": "[encoded data removed]",
      "text/plain": [
       "<Figure size 432x288 with 1 Axes>"
      ]
     },
     "metadata": {
      "needs_background": "light"
     },
     "output_type": "display_data"
    }
   ],
   "source": [
    "import matplotlib.pyplot as plt\n",
    "from sksurv.nonparametric import kaplan_meier_estimator\n",
    "\n",
    "%matplotlib inline\n",
    "\n",
    "time, survival_prob = kaplan_meier_estimator(mortality['death_status'].astype('bool'), mortality['timerisk_activity'])\n",
    "plt.step(time, survival_prob, where = 'post')\n",
    "\n",
    "plt.title('KM curve for training set')\n",
    "plt.ylabel('estimated survival probability')\n",
    "plt.xlabel('time in days from metastatic diagnosis')\n",
    "print('Median survival in days:', time[np.where(survival_prob <0.5)][0])"
   ]
  },
  {
   "cell_type": "code",
   "execution_count": 163,
   "id": "bf28d442",
   "metadata": {},
   "outputs": [
    {
     "data": {
      "image/png": "[encoded data removed]",
      "text/plain": [
       "<Figure size 648x432 with 1 Axes>"
      ]
     },
     "metadata": {
      "needs_background": "light"
     },
     "output_type": "display_data"
    }
   ],
   "source": [
    "plt.figure(figsize=(9, 6))\n",
    "val, bins, patches = plt.hist((mortality['timerisk_activity'][mortality['death_status'].astype('bool')],\n",
    "                               mortality['timerisk_activity'][~mortality['death_status'].astype('bool')]),\n",
    "                              bins = 60, stacked = True)\n",
    "_ = plt.legend(patches, [\"Time of Death\", \"Time of Censoring\"])"
   ]
  },
  {
   "cell_type": "code",
   "execution_count": 164,
   "id": "65b20f12",
   "metadata": {},
   "outputs": [],
   "source": [
    "mortality = pd.merge(mortality, enhanced_met[['PatientID', 'diagnosis_date']], on = 'PatientID', how = 'outer')"
   ]
  },
  {
   "cell_type": "code",
   "execution_count": 165,
   "id": "bd0ff400",
   "metadata": {},
   "outputs": [],
   "source": [
    "# timerisk_activity_first is time from first diagnosis (metastatic or not) to death or last activity if no death date.\n",
    "mortality.loc[:, 'timerisk_activity_first'] = (\n",
    "    np.where(mortality['death_date'].isna(),\n",
    "             (mortality['last_activity'] - mortality['diagnosis_date']).dt.days,\n",
    "             (mortality['death_date'] - mortality['diagnosis_date']).dt.days)\n",
    ")"
   ]
  },
  {
   "cell_type": "code",
   "execution_count": 166,
   "id": "7bc28111",
   "metadata": {},
   "outputs": [],
   "source": [
    "# If timerisk_activity is less than 0, set to 0 otherwise remains unchanged. \n",
    "mortality['timerisk_activity_first'] = np.where(\n",
    "    mortality['timerisk_activity_first'] < 0, 0, mortality['timerisk_activity_first'])"
   ]
  },
  {
   "cell_type": "code",
   "execution_count": 167,
   "id": "d63b717f",
   "metadata": {},
   "outputs": [],
   "source": [
    "mortality.to_csv('mortality_cleaned_tr.csv', index = False, header = True)"
   ]
  },
  {
   "cell_type": "code",
   "execution_count": 168,
   "id": "f5031f3a",
   "metadata": {},
   "outputs": [],
   "source": [
    "mortality = mortality.filter(items = ['PatientID', 'death_status', 'timerisk_activity'])"
   ]
  },
  {
   "cell_type": "code",
   "execution_count": 169,
   "id": "ada79258",
   "metadata": {},
   "outputs": [
    {
     "data": {
      "text/html": [
       "<div>\n",
       "<style scoped>\n",
       "    .dataframe tbody tr th:only-of-type {\n",
       "        vertical-align: middle;\n",
       "    }\n",
       "\n",
       "    .dataframe tbody tr th {\n",
       "        vertical-align: top;\n",
       "    }\n",
       "\n",
       "    .dataframe thead th {\n",
       "        text-align: right;\n",
       "    }\n",
       "</style>\n",
       "<table border=\"1\" class=\"dataframe\">\n",
       "  <thead>\n",
       "    <tr style=\"text-align: right;\">\n",
       "      <th></th>\n",
       "      <th>PatientID</th>\n",
       "      <th>death_status</th>\n",
       "      <th>timerisk_activity</th>\n",
       "    </tr>\n",
       "  </thead>\n",
       "  <tbody>\n",
       "    <tr>\n",
       "      <th>3421</th>\n",
       "      <td>F51A7288AA1E7</td>\n",
       "      <td>1</td>\n",
       "      <td>803.0</td>\n",
       "    </tr>\n",
       "    <tr>\n",
       "      <th>25298</th>\n",
       "      <td>FC5D5D8E12939</td>\n",
       "      <td>0</td>\n",
       "      <td>1008.0</td>\n",
       "    </tr>\n",
       "    <tr>\n",
       "      <th>22913</th>\n",
       "      <td>FBFB17747678C</td>\n",
       "      <td>0</td>\n",
       "      <td>188.0</td>\n",
       "    </tr>\n",
       "    <tr>\n",
       "      <th>7712</th>\n",
       "      <td>F884724231615</td>\n",
       "      <td>1</td>\n",
       "      <td>392.0</td>\n",
       "    </tr>\n",
       "    <tr>\n",
       "      <th>10785</th>\n",
       "      <td>F901CA04CC1AE</td>\n",
       "      <td>1</td>\n",
       "      <td>1027.0</td>\n",
       "    </tr>\n",
       "  </tbody>\n",
       "</table>\n",
       "</div>"
      ],
      "text/plain": [
       "           PatientID  death_status  timerisk_activity\n",
       "3421   F51A7288AA1E7             1              803.0\n",
       "25298  FC5D5D8E12939             0             1008.0\n",
       "22913  FBFB17747678C             0              188.0\n",
       "7712   F884724231615             1              392.0\n",
       "10785  F901CA04CC1AE             1             1027.0"
      ]
     },
     "execution_count": 169,
     "metadata": {},
     "output_type": "execute_result"
    }
   ],
   "source": [
    "mortality.sample(5)"
   ]
  },
  {
   "cell_type": "code",
   "execution_count": 170,
   "id": "488a4467",
   "metadata": {
    "scrolled": false
   },
   "outputs": [
    {
     "name": "stdout",
     "output_type": "stream",
     "text": [
      "Variable          Type         Data/Info\n",
      "----------------------------------------\n",
      "biomarkers        DataFrame                PatientID Bio<...>191261 rows x 19 columns]\n",
      "biomarkers_max    DataFrame               PatientID biom<...>n[25131 rows x 2 columns]\n",
      "demographics      DataFrame               PatientID gend<...>n[25341 rows x 7 columns]\n",
      "enhanced_met      DataFrame               PatientID diag<...>n[25341 rows x 7 columns]\n",
      "last_activity     DataFrame               PatientID last<...>n[25341 rows x 2 columns]\n",
      "mets              DataFrame               PatientID Date<...>n[62969 rows x 3 columns]\n",
      "mets_max          DataFrame               PatientID   me<...>n[25234 rows x 2 columns]\n",
      "mortality         DataFrame               PatientID  dea<...>n[25341 rows x 3 columns]\n",
      "orals             DataFrame               PatientID     <...>n[60303 rows x 5 columns]\n",
      "orals_max         DataFrame               PatientID  ora<...>n[20879 rows x 2 columns]\n",
      "progression       DataFrame               PatientID Prog<...>[51213 rows x 10 columns]\n",
      "progression_max   DataFrame               PatientID prog<...>n[22128 rows x 2 columns]\n",
      "telemedicine      DataFrame               PatientID     <...>n[23412 rows x 3 columns]\n",
      "visit             DataFrame                 PatientID   <...>1936611 rows x 7 columns]\n",
      "visit_tele        DataFrame               PatientID  Vis<...>1960023 rows x 2 columns]\n",
      "visit_tele_max    DataFrame               PatientID  vis<...>n[25341 rows x 2 columns]\n"
     ]
    }
   ],
   "source": [
    "%whos DataFrame"
   ]
  },
  {
   "cell_type": "code",
   "execution_count": 171,
   "id": "89e17bd4",
   "metadata": {},
   "outputs": [],
   "source": [
    "# Keep demographics, enhanced_met, and mortality\n",
    "del biomarkers\n",
    "del biomarkers_max\n",
    "del last_activity\n",
    "del mets\n",
    "del mets_max\n",
    "del orals\n",
    "del orals_max\n",
    "del progression\n",
    "del progression_max\n",
    "del telemedicine\n",
    "del visit\n",
    "del visit_tele\n",
    "del visit_tele_max"
   ]
  },
  {
   "cell_type": "markdown",
   "id": "3a901632",
   "metadata": {},
   "source": [
    "### 4. MedicationAdministration"
   ]
  },
  {
   "cell_type": "code",
   "execution_count": 172,
   "id": "34840b58",
   "metadata": {},
   "outputs": [],
   "source": [
    "med_admin = pd.read_csv('MedicationAdministration.csv')"
   ]
  },
  {
   "cell_type": "code",
   "execution_count": 173,
   "id": "03e31ae3",
   "metadata": {},
   "outputs": [],
   "source": [
    "med_admin = med_admin[med_admin['PatientID'].isin(train_IDs)]"
   ]
  },
  {
   "cell_type": "code",
   "execution_count": 174,
   "id": "b5d618b0",
   "metadata": {},
   "outputs": [
    {
     "data": {
      "text/plain": [
       "(2039811, 20890)"
      ]
     },
     "execution_count": 174,
     "metadata": {},
     "output_type": "execute_result"
    }
   ],
   "source": [
    "row_ID(med_admin)"
   ]
  },
  {
   "cell_type": "code",
   "execution_count": 175,
   "id": "b93e14a3",
   "metadata": {},
   "outputs": [
    {
     "data": {
      "text/html": [
       "<div>\n",
       "<style scoped>\n",
       "    .dataframe tbody tr th:only-of-type {\n",
       "        vertical-align: middle;\n",
       "    }\n",
       "\n",
       "    .dataframe tbody tr th {\n",
       "        vertical-align: top;\n",
       "    }\n",
       "\n",
       "    .dataframe thead th {\n",
       "        text-align: right;\n",
       "    }\n",
       "</style>\n",
       "<table border=\"1\" class=\"dataframe\">\n",
       "  <thead>\n",
       "    <tr style=\"text-align: right;\">\n",
       "      <th></th>\n",
       "      <th>PatientID</th>\n",
       "      <th>PracticeID</th>\n",
       "      <th>OrderID</th>\n",
       "      <th>DrugName</th>\n",
       "      <th>CommonDrugName</th>\n",
       "      <th>Route</th>\n",
       "      <th>DrugCategory</th>\n",
       "      <th>DetailedDrugCategory</th>\n",
       "      <th>AdministeredDate</th>\n",
       "      <th>AdministeredAmount</th>\n",
       "      <th>AdministeredUnits</th>\n",
       "    </tr>\n",
       "  </thead>\n",
       "  <tbody>\n",
       "    <tr>\n",
       "      <th>1892711</th>\n",
       "      <td>FD937E35428C5</td>\n",
       "      <td>S1C794CE45C2A</td>\n",
       "      <td>MBE1A592374C62D032C0312EA6FA8CB5A</td>\n",
       "      <td>filgrastim</td>\n",
       "      <td>filgrastim</td>\n",
       "      <td>Subcutaneous</td>\n",
       "      <td>hematological agent</td>\n",
       "      <td>growth factor</td>\n",
       "      <td>2018-02-22</td>\n",
       "      <td>480.0</td>\n",
       "      <td>ug</td>\n",
       "    </tr>\n",
       "    <tr>\n",
       "      <th>413120</th>\n",
       "      <td>FB86A1476E9DB</td>\n",
       "      <td>SCC8EE4FB66C3</td>\n",
       "      <td>M4E7F7A7119FC98E9AE032B8EA7787775</td>\n",
       "      <td>trastuzumab-qyyp</td>\n",
       "      <td>trastuzumab-qyyp</td>\n",
       "      <td>Intravenous</td>\n",
       "      <td>antineoplastic</td>\n",
       "      <td>targeted/biologic</td>\n",
       "      <td>2022-04-06</td>\n",
       "      <td>693.0</td>\n",
       "      <td>mg</td>\n",
       "    </tr>\n",
       "    <tr>\n",
       "      <th>2033915</th>\n",
       "      <td>FE3AE5B6DB0CB</td>\n",
       "      <td>SA060E3ECE536</td>\n",
       "      <td>MAD74A3B1C9E65A452FAB5409AC446D5A</td>\n",
       "      <td>capecitabine</td>\n",
       "      <td>capecitabine</td>\n",
       "      <td>Intravenous</td>\n",
       "      <td>antineoplastic</td>\n",
       "      <td>chemotherapy</td>\n",
       "      <td>2022-03-21</td>\n",
       "      <td>21000.0</td>\n",
       "      <td>mg</td>\n",
       "    </tr>\n",
       "    <tr>\n",
       "      <th>149120</th>\n",
       "      <td>FA823288650AB</td>\n",
       "      <td>S0015D5ED587A</td>\n",
       "      <td>MBAC9DA612141051BC58EA37AEAA86392</td>\n",
       "      <td>ciprofloxacin hcl</td>\n",
       "      <td>ciprofloxacin</td>\n",
       "      <td>Oral</td>\n",
       "      <td>anti-infective</td>\n",
       "      <td>anti-infective</td>\n",
       "      <td>2021-07-01</td>\n",
       "      <td>500.0</td>\n",
       "      <td>mg</td>\n",
       "    </tr>\n",
       "    <tr>\n",
       "      <th>1027014</th>\n",
       "      <td>F95E79AD6EF26</td>\n",
       "      <td>S87C279DB0C8A</td>\n",
       "      <td>MCCCEEA6A2043A169BEF7090D322A839D</td>\n",
       "      <td>paclitaxel</td>\n",
       "      <td>paclitaxel</td>\n",
       "      <td>Intravenous</td>\n",
       "      <td>antineoplastic</td>\n",
       "      <td>chemotherapy</td>\n",
       "      <td>2015-01-09</td>\n",
       "      <td>174.0</td>\n",
       "      <td>mg</td>\n",
       "    </tr>\n",
       "  </tbody>\n",
       "</table>\n",
       "</div>"
      ],
      "text/plain": [
       "             PatientID     PracticeID                            OrderID  \\\n",
       "1892711  FD937E35428C5  S1C794CE45C2A  MBE1A592374C62D032C0312EA6FA8CB5A   \n",
       "413120   FB86A1476E9DB  SCC8EE4FB66C3  M4E7F7A7119FC98E9AE032B8EA7787775   \n",
       "2033915  FE3AE5B6DB0CB  SA060E3ECE536  MAD74A3B1C9E65A452FAB5409AC446D5A   \n",
       "149120   FA823288650AB  S0015D5ED587A  MBAC9DA612141051BC58EA37AEAA86392   \n",
       "1027014  F95E79AD6EF26  S87C279DB0C8A  MCCCEEA6A2043A169BEF7090D322A839D   \n",
       "\n",
       "                  DrugName    CommonDrugName         Route  \\\n",
       "1892711         filgrastim        filgrastim  Subcutaneous   \n",
       "413120    trastuzumab-qyyp  trastuzumab-qyyp   Intravenous   \n",
       "2033915       capecitabine      capecitabine   Intravenous   \n",
       "149120   ciprofloxacin hcl     ciprofloxacin          Oral   \n",
       "1027014         paclitaxel        paclitaxel   Intravenous   \n",
       "\n",
       "                DrugCategory DetailedDrugCategory AdministeredDate  \\\n",
       "1892711  hematological agent        growth factor       2018-02-22   \n",
       "413120        antineoplastic    targeted/biologic       2022-04-06   \n",
       "2033915       antineoplastic         chemotherapy       2022-03-21   \n",
       "149120        anti-infective       anti-infective       2021-07-01   \n",
       "1027014       antineoplastic         chemotherapy       2015-01-09   \n",
       "\n",
       "         AdministeredAmount AdministeredUnits  \n",
       "1892711               480.0                ug  \n",
       "413120                693.0                mg  \n",
       "2033915             21000.0                mg  \n",
       "149120                500.0                mg  \n",
       "1027014               174.0                mg  "
      ]
     },
     "execution_count": 175,
     "metadata": {},
     "output_type": "execute_result"
    }
   ],
   "source": [
    "med_admin.sample(5)"
   ]
  },
  {
   "cell_type": "markdown",
   "id": "33e24aa6",
   "metadata": {},
   "source": [
    "**An indicator variable will be created for key medications (ie., steroids, opioids, other pain meds, antibiotics, anticoagulation, diabetic medicaitons, etc.) around time of metastatic diagnosis. The elgibility window is -90 days from metastatic diagnosis to first line of therapy or +30, whichever comes first. First line of therapy is included as an upper bound because steroids are frequently administered as part of treatment for chemotherapy induced-nausea, so steroids might inadvertently capture chemotherapy treatment if upper bound is set after first line of therapy.** "
   ]
  },
  {
   "cell_type": "code",
   "execution_count": 176,
   "id": "e79db419",
   "metadata": {},
   "outputs": [
    {
     "data": {
      "text/plain": [
       "(2039811, 11)"
      ]
     },
     "execution_count": 176,
     "metadata": {},
     "output_type": "execute_result"
    }
   ],
   "source": [
    "med_admin.shape"
   ]
  },
  {
   "cell_type": "code",
   "execution_count": 177,
   "id": "87db9629",
   "metadata": {},
   "outputs": [],
   "source": [
    "line_therapy = pd.read_csv('LineOfTherapy.csv')"
   ]
  },
  {
   "cell_type": "code",
   "execution_count": 178,
   "id": "24c65710",
   "metadata": {},
   "outputs": [],
   "source": [
    "line_therapy = line_therapy[line_therapy['PatientID'].isin(med_admin['PatientID'])]"
   ]
  },
  {
   "cell_type": "code",
   "execution_count": 179,
   "id": "08b146ef",
   "metadata": {},
   "outputs": [],
   "source": [
    "line_therapy_1 = (\n",
    "    line_therapy \n",
    "    .query('LineNumber == 1 and IsMaintenanceTherapy == False')\n",
    ")"
   ]
  },
  {
   "cell_type": "code",
   "execution_count": 180,
   "id": "c5eb9dd7",
   "metadata": {},
   "outputs": [],
   "source": [
    "# If patients have 2 first line therapies, select earliest\n",
    "line_therapy_1 = line_therapy_1.drop_duplicates(subset = ['PatientID'], keep = 'first')"
   ]
  },
  {
   "cell_type": "code",
   "execution_count": 181,
   "id": "03fcb353",
   "metadata": {},
   "outputs": [],
   "source": [
    "med_admin = pd.merge(med_admin, line_therapy_1[['PatientID', 'StartDate']], on = 'PatientID', how = 'left')"
   ]
  },
  {
   "cell_type": "code",
   "execution_count": 182,
   "id": "708be635",
   "metadata": {},
   "outputs": [],
   "source": [
    "med_admin = pd.merge(med_admin, enhanced_met[['PatientID', 'met_date']], on = 'PatientID', how = 'left')"
   ]
  },
  {
   "cell_type": "code",
   "execution_count": 183,
   "id": "984d9880",
   "metadata": {},
   "outputs": [],
   "source": [
    "med_admin.loc[:, 'AdministeredDate'] = pd.to_datetime(med_admin['AdministeredDate'])"
   ]
  },
  {
   "cell_type": "code",
   "execution_count": 184,
   "id": "a58280ab",
   "metadata": {},
   "outputs": [],
   "source": [
    "med_admin.loc[:, 'StartDate'] = pd.to_datetime(med_admin['StartDate'])"
   ]
  },
  {
   "cell_type": "code",
   "execution_count": 185,
   "id": "db58d710",
   "metadata": {},
   "outputs": [
    {
     "data": {
      "text/plain": [
       "0"
      ]
     },
     "execution_count": 185,
     "metadata": {},
     "output_type": "execute_result"
    }
   ],
   "source": [
    "med_admin['AdministeredDate'].isna().sum()"
   ]
  },
  {
   "cell_type": "code",
   "execution_count": 186,
   "id": "a734a313",
   "metadata": {},
   "outputs": [
    {
     "data": {
      "text/plain": [
       "22.0"
      ]
     },
     "execution_count": 186,
     "metadata": {},
     "output_type": "execute_result"
    }
   ],
   "source": [
    "# Median days from metastatic date to start of first line of therapy. \n",
    "(\n",
    "    med_admin\n",
    "    .drop_duplicates(subset = ['PatientID'], keep = 'first')\n",
    "    .assign(start_met_diff = lambda x: (x.StartDate - x.met_date).dt.days)\n",
    "    .start_met_diff\n",
    "    .median()\n",
    ")"
   ]
  },
  {
   "cell_type": "code",
   "execution_count": 187,
   "id": "1ac85d95",
   "metadata": {},
   "outputs": [],
   "source": [
    "# New variable upper_bound which defines upper bound\n",
    "# If no StartDate (ie., no treatment received), then upper bound +30 from metastatic diagnosis \n",
    "# If StartDate is greater than 30 days from metastatic diagnosis, then upper bound +30 from metastatic diagnosis\n",
    "# If StartDate is less than or equal 30 from metastatic diagnosis, then upper bound is one day before StartDate\n",
    "conditions = [\n",
    "    (med_admin['StartDate'].isna()) | ((med_admin['StartDate'] - med_admin['met_date']).dt.days > 30),\n",
    "    ((med_admin['StartDate'] - med_admin['met_date']).dt.days <= 30)]    \n",
    "\n",
    "choices = [30, (med_admin['StartDate'] - med_admin['met_date']).dt.days - 1]\n",
    "    \n",
    "med_admin.loc[:, 'upper_bound'] = np.select(conditions, choices)"
   ]
  },
  {
   "cell_type": "code",
   "execution_count": 188,
   "id": "c4261245",
   "metadata": {},
   "outputs": [],
   "source": [
    "med_admin.loc[:, 'upper_bound_date'] = (\n",
    "    np.where(med_admin['upper_bound'] != 30, \n",
    "             med_admin['StartDate'] - pd.DateOffset(days = 1), \n",
    "             med_admin['met_date'] + pd.DateOffset(days = 30))\n",
    ")"
   ]
  },
  {
   "cell_type": "code",
   "execution_count": 189,
   "id": "7f5ba3c3",
   "metadata": {},
   "outputs": [],
   "source": [
    "# Select window of -90 days and from metastatic diagnosis and remove clinical study drug. \n",
    "med_admin_win = (\n",
    "    med_admin\n",
    "    [((med_admin['AdministeredDate'] - med_admin['met_date']).dt.days >= -90) &\n",
    "    (med_admin['AdministeredDate'] <= med_admin['upper_bound_date']) &\n",
    "    (med_admin['CommonDrugName'] != 'Clinical study drug')]\n",
    ")"
   ]
  },
  {
   "cell_type": "code",
   "execution_count": 190,
   "id": "452b2591",
   "metadata": {},
   "outputs": [
    {
     "data": {
      "text/plain": [
       "(57119, 3626)"
      ]
     },
     "execution_count": 190,
     "metadata": {},
     "output_type": "execute_result"
    }
   ],
   "source": [
    "row_ID(med_admin_win)"
   ]
  },
  {
   "cell_type": "code",
   "execution_count": 191,
   "id": "18bec6cc",
   "metadata": {},
   "outputs": [
    {
     "data": {
      "text/plain": [
       "pain agent                      12862\n",
       "solution-fluid                   8706\n",
       "hematological agent              6251\n",
       "antineoplastic                   5071\n",
       "steroid                          4862\n",
       "antiemetic                       4596\n",
       "anti-infective                   4166\n",
       "anesthetic                       3679\n",
       "proton pump inhibitor            1803\n",
       "antihyperglycemic                1281\n",
       "bone therapy agent (bta)         1071\n",
       "antidepressant                    996\n",
       "hormone                           698\n",
       "cytoprotective                    609\n",
       "gout and hyperurecemia agent      157\n",
       "immunosuppressive                 116\n",
       "hyperglycemic                      44\n",
       "sedative agent                     40\n",
       "antidote and reversal agent        31\n",
       "endocrine                          28\n",
       "antithyroid agent                  25\n",
       "calcimimetic                       12\n",
       "anticholinergic                    11\n",
       "immunotherapy                       2\n",
       "targeted therapy                    2\n",
       "Name: DrugCategory, dtype: int64"
      ]
     },
     "execution_count": 191,
     "metadata": {},
     "output_type": "execute_result"
    }
   ],
   "source": [
    "med_admin_win.DrugCategory.value_counts()"
   ]
  },
  {
   "cell_type": "markdown",
   "id": "983f605e",
   "metadata": {},
   "source": [
    "#### Antineoplastic "
   ]
  },
  {
   "cell_type": "code",
   "execution_count": 192,
   "id": "200019bd",
   "metadata": {},
   "outputs": [],
   "source": [
    "# Select window before upper bound (ie., < 30 or day before first LOT). \n",
    "med_admin_win_chemo = (\n",
    "    med_admin\n",
    "    [med_admin['AdministeredDate'] < med_admin['met_date']]\n",
    ")"
   ]
  },
  {
   "cell_type": "code",
   "execution_count": 193,
   "id": "3045e8d3",
   "metadata": {},
   "outputs": [
    {
     "data": {
      "text/plain": [
       "paclitaxel                   19614\n",
       "trastuzumab                  16601\n",
       "cyclophosphamide             15081\n",
       "doxorubicin hcl              10343\n",
       "docetaxel                     9404\n",
       "carboplatin                   5708\n",
       "fulvestrant                   3693\n",
       "pertuzumab                    3230\n",
       "Clinical study drug           2655\n",
       "leuprolide acetate            1719\n",
       "goserelin acetate             1564\n",
       "paclitaxel protein-bound      1347\n",
       "fluorouracil                  1304\n",
       "gemcitabine hcl               1126\n",
       "anastrozole                    586\n",
       "methotrexate sodium            451\n",
       "ado-trastuzumab emtansine      450\n",
       "letrozole                      417\n",
       "eribulin mesylate              387\n",
       "epirubicin hcl                 386\n",
       "Name: DrugName, dtype: int64"
      ]
     },
     "execution_count": 193,
     "metadata": {},
     "output_type": "execute_result"
    }
   ],
   "source": [
    "(\n",
    "    med_admin_win_chemo.query('DrugCategory == \"antineoplastic\"').DrugName.value_counts().head(20)\n",
    ")"
   ]
  },
  {
   "cell_type": "markdown",
   "id": "e2476ea0",
   "metadata": {},
   "source": [
    "#### Antiemetic"
   ]
  },
  {
   "cell_type": "code",
   "execution_count": 194,
   "id": "7cbe990d",
   "metadata": {},
   "outputs": [
    {
     "data": {
      "text/plain": [
       "ondansetron                   0.489121\n",
       "palonosetron                  0.188860\n",
       "metoclopramide                0.063751\n",
       "fosaprepitant                 0.053525\n",
       "prochlorperazine              0.050479\n",
       "granisetron                   0.050479\n",
       "olanzapine                    0.031114\n",
       "aprepitant                    0.026110\n",
       "promethazine                  0.016319\n",
       "dronabinol                    0.009791\n",
       "scopolamine                   0.008703\n",
       "meclizine                     0.005657\n",
       "netupitant/palonosetron       0.002393\n",
       "fosnetupitant/palonosetron    0.001958\n",
       "dimenhydrinate                0.001523\n",
       "dolasetron                    0.000218\n",
       "Name: CommonDrugName, dtype: float64"
      ]
     },
     "execution_count": 194,
     "metadata": {},
     "output_type": "execute_result"
    }
   ],
   "source": [
    "(\n",
    "    med_admin_win\n",
    "    .query('DrugCategory == \"antiemetic\"')\n",
    "    .CommonDrugName\n",
    "    .value_counts(normalize = True)\n",
    "    .head(20)\n",
    ")"
   ]
  },
  {
   "cell_type": "markdown",
   "id": "c407748a",
   "metadata": {},
   "source": [
    "#### Solution-fluid"
   ]
  },
  {
   "cell_type": "code",
   "execution_count": 195,
   "id": "d060add4",
   "metadata": {},
   "outputs": [
    {
     "data": {
      "text/plain": [
       "sodium/saline preparations                     0.814266\n",
       "electrolyte maintenance                        0.112911\n",
       "iv solutions: dextrose-saline                  0.025270\n",
       "iv solutions: dextrose-water                   0.023202\n",
       "sodium chloride irrigating solution            0.014588\n",
       "iv solutions: dextrose and lactated ringers    0.005858\n",
       "water for irrigation, sterile                  0.003905\n",
       "Name: CommonDrugName, dtype: float64"
      ]
     },
     "execution_count": 195,
     "metadata": {},
     "output_type": "execute_result"
    }
   ],
   "source": [
    "(\n",
    "    med_admin_win\n",
    "    .query('DrugCategory == \"solution-fluid\"')\n",
    "    .CommonDrugName\n",
    "    .value_counts(normalize = True)\n",
    ")"
   ]
  },
  {
   "cell_type": "markdown",
   "id": "306320e1",
   "metadata": {},
   "source": [
    "#### Steroid"
   ]
  },
  {
   "cell_type": "code",
   "execution_count": 196,
   "id": "3e4446b1",
   "metadata": {},
   "outputs": [
    {
     "data": {
      "text/plain": [
       "CommonDrugName      Route          \n",
       "dexamethasone       Intravenous        2912\n",
       "                    Oral               1237\n",
       "prednisone          Oral                157\n",
       "methylprednisolone  Intravenous         119\n",
       "hydrocortisone      Intravenous          52\n",
       "                    Topical              52\n",
       "triamcinolone       Topical              45\n",
       "prednisolone        Ophthalmic           30\n",
       "dexamethasone       Nasogastric          29\n",
       "                    enteral              24\n",
       "fludrocortisone     Oral                 22\n",
       "mometasone furoate  Inhalation           18\n",
       "budesonide          Inhalation           17\n",
       "dexamethasone       Intrajejunal         16\n",
       "beclomethasone      Inhalation           14\n",
       "clobetasol          Topical              14\n",
       "budesonide          Nasal                10\n",
       "dexamethasone       Intramuscular         7\n",
       "triamcinolone       Intra-arterial        6\n",
       "mometasone furoate  Topical               6\n",
       "fluorometholone     Ophthalmic            5\n",
       "methylprednisolone  Oral                  4\n",
       "                    Intra-arterial        2\n",
       "                    Intramuscular         1\n",
       "                    Intra-articular       1\n",
       "hydrocortisone      Rectal                1\n",
       "betamethasone       Intramuscular         1\n",
       "dexamethasone       Intraspinal           1\n",
       "Name: PatientID, dtype: int64"
      ]
     },
     "execution_count": 196,
     "metadata": {},
     "output_type": "execute_result"
    }
   ],
   "source": [
    "(\n",
    "    med_admin_win\n",
    "    .query('DrugCategory == \"steroid\"')\n",
    "    .groupby(['CommonDrugName', 'Route'])['PatientID'].count()\n",
    "    .sort_values(ascending = False)\n",
    ")"
   ]
  },
  {
   "cell_type": "markdown",
   "id": "a7a6ac15",
   "metadata": {},
   "source": [
    "**Clinically relevant so will create glucocorticoid indicator variable. Hopefully by setting an upper bound of first line we are minimizing capturing those that received steroids for chemotherapy induced nausea.** "
   ]
  },
  {
   "cell_type": "code",
   "execution_count": 197,
   "id": "4829990a",
   "metadata": {},
   "outputs": [
    {
     "data": {
      "text/plain": [
       "CommonDrugName      Route       \n",
       "dexamethasone       Intravenous     2912\n",
       "                    Oral            1237\n",
       "prednisone          Oral             157\n",
       "methylprednisolone  Intravenous      119\n",
       "hydrocortisone      Intravenous       52\n",
       "dexamethasone       Nasogastric       29\n",
       "                    enteral           24\n",
       "fludrocortisone     Oral              22\n",
       "dexamethasone       Intrajejunal      16\n",
       "methylprednisolone  Oral               4\n",
       "Name: PatientID, dtype: int64"
      ]
     },
     "execution_count": 197,
     "metadata": {},
     "output_type": "execute_result"
    }
   ],
   "source": [
    "(\n",
    "    med_admin_win\n",
    "    [(med_admin_win['DrugCategory'] == 'steroid') & \n",
    "     ((med_admin_win['Route'] == 'Intravenous') | \n",
    "     (med_admin_win['Route'] == 'Oral') | \n",
    "     (med_admin_win['Route'] == 'Intrajejunal') | \n",
    "     (med_admin_win['Route'] == 'Nasogastric') | \n",
    "     (med_admin_win['Route'] == 'enteral'))]\n",
    "    .groupby(['CommonDrugName', 'Route'])['PatientID'].count()\n",
    "    .sort_values(ascending = False)\n",
    ")"
   ]
  },
  {
   "cell_type": "code",
   "execution_count": 198,
   "id": "fdbcd63f",
   "metadata": {},
   "outputs": [
    {
     "name": "stderr",
     "output_type": "stream",
     "text": [
      "/Applications/anaconda3/lib/python3.7/site-packages/pandas/core/indexing.py:1667: SettingWithCopyWarning: \n",
      "A value is trying to be set on a copy of a slice from a DataFrame.\n",
      "Try using .loc[row_indexer,col_indexer] = value instead\n",
      "\n",
      "See the caveats in the documentation: https://pandas.pydata.org/pandas-docs/stable/user_guide/indexing.html#returning-a-view-versus-a-copy\n",
      "  self.obj[key] = value\n"
     ]
    }
   ],
   "source": [
    "med_admin_win.loc[:, 'steroid_diag'] = (\n",
    "    np.where((med_admin_win['DrugCategory'] == 'steroid') & \n",
    "             ((med_admin_win['Route'] == 'Intravenous') | \n",
    "              (med_admin_win['Route'] == 'Oral') | \n",
    "              (med_admin_win['Route'] == 'Intrajejunal') |\n",
    "              (med_admin_win['Route'] == 'Nasogastric') |\n",
    "              (med_admin_win['Route'] == 'enteral')), 1, 0)\n",
    ")"
   ]
  },
  {
   "cell_type": "markdown",
   "id": "d1b8a253",
   "metadata": {},
   "source": [
    "#### Pain"
   ]
  },
  {
   "cell_type": "code",
   "execution_count": 199,
   "id": "1d77dee1",
   "metadata": {},
   "outputs": [
    {
     "data": {
      "text/plain": [
       "CommonDrugName             Route      \n",
       "oxycodone                  Oral           1971\n",
       "acetaminophen              Oral           1577\n",
       "hydromorphone              Intravenous    1460\n",
       "morphine                   Intravenous     986\n",
       "gabapentin                 Oral            848\n",
       "lidocaine                  Transdermal     562\n",
       "hydromorphone              Oral            512\n",
       "ketorolac                  Intravenous     444\n",
       "morphine                   Oral            427\n",
       "tramadol                   Oral            353\n",
       "acetaminophen/oxycodone    Oral            297\n",
       "fentanyl                   Intravenous     295\n",
       "lidocaine                  Topical         232\n",
       "acetaminophen              Intravenous     220\n",
       "cyclobenzaprine            Oral            201\n",
       "ibuprofen                  Oral            187\n",
       "lidocaine                  Intravenous     158\n",
       "acetaminophen/hydrocodone  Oral            156\n",
       "lidocaine                  Intradermal      92\n",
       "pregabalin                 Oral             91\n",
       "Name: PatientID, dtype: int64"
      ]
     },
     "execution_count": 199,
     "metadata": {},
     "output_type": "execute_result"
    }
   ],
   "source": [
    "(\n",
    "    med_admin_win\n",
    "    .query('DrugCategory == \"pain agent\"')\n",
    "    .groupby(['CommonDrugName', 'Route'])['PatientID'].count()\n",
    "    .sort_values(ascending=False)\n",
    "    .head(20)\n",
    ")"
   ]
  },
  {
   "cell_type": "markdown",
   "id": "ece8195f",
   "metadata": {},
   "source": [
    "**Three indicator variables from 'pain agent' category will be created:**\n",
    "- **opioid PO: patient recieved oral opioid (fentanyl patch included)**\n",
    "- **non-opioid PO: patient received non-opioid orally**\n",
    "- **pain IV: patient received pain medciation intravenously**"
   ]
  },
  {
   "cell_type": "markdown",
   "id": "5fa6516a",
   "metadata": {},
   "source": [
    "##### Opioid PO"
   ]
  },
  {
   "cell_type": "code",
   "execution_count": 200,
   "id": "3b1ed22c",
   "metadata": {},
   "outputs": [],
   "source": [
    "# List of avialable opioids in the US. \n",
    "opioid_list = [\n",
    "    'buprenorphine',\n",
    "    'codeine',\n",
    "    'fentanyl',\n",
    "    'hydrocodone',\n",
    "    'hydromorphone',\n",
    "    'methadone',\n",
    "    'morphine',\n",
    "    'oxycodone',\n",
    "    'oxymorphone',\n",
    "    'tapentadol',\n",
    "    'tramadol'\n",
    "]"
   ]
  },
  {
   "cell_type": "code",
   "execution_count": 201,
   "id": "1b314f81",
   "metadata": {},
   "outputs": [
    {
     "data": {
      "text/plain": [
       "CommonDrugName             Route      \n",
       "oxycodone                  Oral           1971\n",
       "hydromorphone              Oral            512\n",
       "morphine                   Oral            427\n",
       "tramadol                   Oral            353\n",
       "acetaminophen/oxycodone    Oral            297\n",
       "acetaminophen/hydrocodone  Oral            156\n",
       "acetaminophen/codeine      Oral             81\n",
       "methadone                  Oral             76\n",
       "fentanyl                   Transdermal      60\n",
       "codeine                    Oral             30\n",
       "morphine                   Sublingual        6\n",
       "fentanyl                   Oral              1\n",
       "                           Sublingual        1\n",
       "Name: PatientID, dtype: int64"
      ]
     },
     "execution_count": 201,
     "metadata": {},
     "output_type": "execute_result"
    }
   ],
   "source": [
    "(\n",
    "    med_admin_win\n",
    "    [((med_admin_win['Route'] == 'Oral') | \n",
    "      (med_admin_win['Route'] == 'Transdermal') | \n",
    "      (med_admin_win['Route'] == 'Sublingual')) &\n",
    "     (med_admin_win['CommonDrugName'].str.contains('|'.join(opioid_list)))]\n",
    "    .groupby(['CommonDrugName', 'Route'])['PatientID'].count()\n",
    "    .sort_values(ascending = False)\n",
    ")"
   ]
  },
  {
   "cell_type": "code",
   "execution_count": 202,
   "id": "c63ccd86",
   "metadata": {},
   "outputs": [],
   "source": [
    "med_admin_win.loc[:, 'opioid_PO_diag'] = (\n",
    "    np.where(((med_admin_win['Route'] == 'Oral') | \n",
    "              (med_admin_win['Route'] == 'Transdermal') | \n",
    "              (med_admin_win['Route'] == 'Sublingual')) &\n",
    "             (med_admin_win['CommonDrugName'].str.contains('|'.join(opioid_list))), 1, 0)\n",
    ")"
   ]
  },
  {
   "cell_type": "markdown",
   "id": "8db76556",
   "metadata": {},
   "source": [
    "##### Nonopioid PO"
   ]
  },
  {
   "cell_type": "code",
   "execution_count": 203,
   "id": "9691ec33",
   "metadata": {},
   "outputs": [
    {
     "data": {
      "text/plain": [
       "CommonDrugName                     Route\n",
       "acetaminophen                      Oral     1577\n",
       "gabapentin                         Oral      848\n",
       "cyclobenzaprine                    Oral      201\n",
       "ibuprofen                          Oral      187\n",
       "pregabalin                         Oral       91\n",
       "celecoxib                          Oral       82\n",
       "tizanidine                         Oral       51\n",
       "naproxen                           Oral       50\n",
       "baclofen                           Oral       31\n",
       "methocarbamol                      Oral       28\n",
       "lidocaine                          Oral       25\n",
       "benzocaine/menthol                 Oral       20\n",
       "salicylates                        Oral       20\n",
       "naloxegol                          Oral       10\n",
       "acetaminophen/butalbital/caffeine  Oral        8\n",
       "indomethacin                       Oral        7\n",
       "clonidine                          Oral        6\n",
       "meloxicam                          Oral        5\n",
       "phenol                             Oral        5\n",
       "acetaminophen/aspirin/caffeine     Oral        4\n",
       "orphenadrine                       Oral        4\n",
       "benzocaine                         Oral        3\n",
       "sulfasalazine                      Oral        3\n",
       "carisoprodol                       Oral        2\n",
       "alvimopan                          Oral        1\n",
       "Name: PatientID, dtype: int64"
      ]
     },
     "execution_count": 203,
     "metadata": {},
     "output_type": "execute_result"
    }
   ],
   "source": [
    "(\n",
    "    med_admin_win\n",
    "    [(med_admin_win['DrugCategory'] == 'pain agent') & \n",
    "     (med_admin_win['Route'] == 'Oral') & \n",
    "     (~med_admin_win['CommonDrugName'].str.contains('|'.join(opioid_list)))]\n",
    "    .groupby(['CommonDrugName', 'Route'])['PatientID'].count()\n",
    "    .sort_values(ascending = False)\n",
    ")"
   ]
  },
  {
   "cell_type": "code",
   "execution_count": 204,
   "id": "6ce0e26b",
   "metadata": {},
   "outputs": [],
   "source": [
    "med_admin_win.loc[:, 'nonopioid_PO_diag'] = (\n",
    "    np.where((med_admin_win['DrugCategory'] == 'pain agent') & \n",
    "             (med_admin_win['Route'] == 'Oral') & \n",
    "             (~med_admin_win['CommonDrugName'].str.contains('|'.join(opioid_list))), 1, 0)\n",
    ")"
   ]
  },
  {
   "cell_type": "markdown",
   "id": "f4da0db9",
   "metadata": {},
   "source": [
    "##### Pain IV"
   ]
  },
  {
   "cell_type": "code",
   "execution_count": 205,
   "id": "36f96d4a",
   "metadata": {},
   "outputs": [
    {
     "data": {
      "text/plain": [
       "CommonDrugName  Route      \n",
       "hydromorphone   Intravenous    1460\n",
       "morphine        Intravenous     986\n",
       "ketorolac       Intravenous     444\n",
       "fentanyl        Intravenous     295\n",
       "acetaminophen   Intravenous     220\n",
       "lidocaine       Intravenous     158\n",
       "meperidine      Intravenous      82\n",
       "methocarbamol   Intravenous      36\n",
       "abatacept       Intravenous       3\n",
       "droperidol      Intravenous       3\n",
       "alfentanil      Intravenous       1\n",
       "butorphanol     Intravenous       1\n",
       "clonidine       Intravenous       1\n",
       "methadone       Intravenous       1\n",
       "Name: PatientID, dtype: int64"
      ]
     },
     "execution_count": 205,
     "metadata": {},
     "output_type": "execute_result"
    }
   ],
   "source": [
    "(\n",
    "    med_admin_win\n",
    "    [(med_admin_win['DrugCategory'] == 'pain agent') & (med_admin_win['Route'] == 'Intravenous')]\n",
    "    .groupby(['CommonDrugName', 'Route'])['PatientID'].count()\n",
    "    .sort_values(ascending = False)\n",
    "    .head(20)\n",
    ")"
   ]
  },
  {
   "cell_type": "code",
   "execution_count": 206,
   "id": "128cebf7",
   "metadata": {},
   "outputs": [],
   "source": [
    "med_admin_win.loc[:, 'pain_IV_diag'] = (\n",
    "    np.where((med_admin_win['DrugCategory'] == 'pain agent') & \n",
    "             (med_admin_win['Route'] == 'Intravenous'), 1, 0)\n",
    ")"
   ]
  },
  {
   "cell_type": "markdown",
   "id": "2be82d43",
   "metadata": {},
   "source": [
    "#### Hematologic agent"
   ]
  },
  {
   "cell_type": "code",
   "execution_count": 207,
   "id": "bbae7ad9",
   "metadata": {},
   "outputs": [
    {
     "data": {
      "text/plain": [
       "heparin (porcine)         2665\n",
       "enoxaparin                 984\n",
       "aspirin                    665\n",
       "pegfilgrastim              379\n",
       "dalteparin,porcine         286\n",
       "filgrastim                 228\n",
       "epoetin alfa               155\n",
       "filgrastim-sndz            143\n",
       "apixaban                   122\n",
       "alteplase                   90\n",
       "warfarin                    72\n",
       "darbepoetin alfa            65\n",
       "rivaroxaban                 42\n",
       "albumin human               42\n",
       "clopidogrel                 35\n",
       "epoetin alfa-epbx           33\n",
       "sargramostim                26\n",
       "fondaparinux                25\n",
       "ticagrelor                  20\n",
       "thrombin (recombinant)      19\n",
       "Name: CommonDrugName, dtype: int64"
      ]
     },
     "execution_count": 207,
     "metadata": {},
     "output_type": "execute_result"
    }
   ],
   "source": [
    "(\n",
    "    med_admin_win\n",
    "    [med_admin_win['DrugCategory'] == 'hematological agent']\n",
    "    .CommonDrugName\n",
    "    .value_counts()\n",
    "    .head(20)\n",
    ")"
   ]
  },
  {
   "cell_type": "markdown",
   "id": "f44372ce",
   "metadata": {},
   "source": [
    "**A therapeutic anticoagulation indicator variable will be created from the hematological agent category and will consist of:** \n",
    "* **Heparin: patients on a heparin gtt or other pareneral agents (eg., bivilrudin or argatroban)**\n",
    "* **Enoxaparin: patients administered greater than prophylactic dosing of enoxaparin or other subcutaneous agents (eg., dalteparin or fondaparinux)**\n",
    "* **DOAC: patients administered any dose of apxiaban, rivaroxabn, edoxaban, or dabigatran**\n",
    "* **Warfarin: patients administered any dose of warfarin.**  "
   ]
  },
  {
   "cell_type": "markdown",
   "id": "ad897c07",
   "metadata": {},
   "source": [
    "##### Heparin and other parenteral agents"
   ]
  },
  {
   "cell_type": "code",
   "execution_count": 208,
   "id": "ce6382db",
   "metadata": {},
   "outputs": [
    {
     "data": {
      "text/plain": [
       "5000.0000    0.497283\n",
       "500.0000     0.267469\n",
       "5.0000       0.051630\n",
       "18.0000      0.020575\n",
       "7500.0000    0.015528\n",
       "15.0000      0.013587\n",
       "30.0000      0.009317\n",
       "16.0000      0.006211\n",
       "300.0000     0.005823\n",
       "12.0000      0.005823\n",
       "17.0000      0.005047\n",
       "3000.0000    0.004658\n",
       "20.0000      0.004270\n",
       "50.0000      0.003494\n",
       "26.0000      0.003494\n",
       "100.0000     0.003494\n",
       "13.0000      0.003106\n",
       "10.9987      0.003106\n",
       "19.0000      0.003106\n",
       "10.0000      0.002329\n",
       "Name: AdministeredAmount, dtype: float64"
      ]
     },
     "execution_count": 208,
     "metadata": {},
     "output_type": "execute_result"
    }
   ],
   "source": [
    "(\n",
    "    med_admin_win\n",
    "    [med_admin_win['CommonDrugName'].str.contains('heparin')]\n",
    "    .AdministeredAmount\n",
    "    .value_counts(normalize = True)\n",
    "    .head(20)\n",
    ")"
   ]
  },
  {
   "cell_type": "markdown",
   "id": "4eb309ac",
   "metadata": {},
   "source": [
    "**About 75% of administered doses of heparin are either 5000 or 500 units, likely reflecting prophylacitc dosing and catheter lock therapy, respectively. Doses in the teens likely indicate heparin gtt doses.** "
   ]
  },
  {
   "cell_type": "code",
   "execution_count": 209,
   "id": "0f7a8f76",
   "metadata": {},
   "outputs": [
    {
     "data": {
      "text/plain": [
       "Subcutaneous           0.992963\n",
       "Intravenous            0.006255\n",
       "Other/Miscellaneous    0.000782\n",
       "Name: Route, dtype: float64"
      ]
     },
     "execution_count": 209,
     "metadata": {},
     "output_type": "execute_result"
    }
   ],
   "source": [
    "(\n",
    "    med_admin_win\n",
    "    [(med_admin_win['CommonDrugName'].str.contains('heparin')) & (med_admin_win['AdministeredAmount'] == 5000)]\n",
    "    .Route\n",
    "    .value_counts(normalize = True)\n",
    ")"
   ]
  },
  {
   "cell_type": "code",
   "execution_count": 210,
   "id": "332fd918",
   "metadata": {},
   "outputs": [
    {
     "data": {
      "text/plain": [
       "Intravenous            0.585903\n",
       "Intrajejunal           0.402349\n",
       "Other/Miscellaneous    0.010279\n",
       "Intravesical           0.001468\n",
       "Name: Route, dtype: float64"
      ]
     },
     "execution_count": 210,
     "metadata": {},
     "output_type": "execute_result"
    }
   ],
   "source": [
    "(\n",
    "    med_admin_win\n",
    "    [(med_admin_win['CommonDrugName'].str.contains('heparin')) & (med_admin_win['AdministeredAmount'] == 500)]\n",
    "    .Route\n",
    "    .value_counts(normalize = True)\n",
    ")"
   ]
  },
  {
   "cell_type": "code",
   "execution_count": 211,
   "id": "735106de",
   "metadata": {},
   "outputs": [
    {
     "data": {
      "text/plain": [
       "18.0000    0.223629\n",
       "15.0000    0.143460\n",
       "16.0000    0.067511\n",
       "12.0000    0.059072\n",
       "17.0000    0.054852\n",
       "26.0000    0.037975\n",
       "20.0000    0.037975\n",
       "10.9987    0.033755\n",
       "19.0000    0.033755\n",
       "13.0000    0.033755\n",
       "Name: AdministeredAmount, dtype: float64"
      ]
     },
     "execution_count": 211,
     "metadata": {},
     "output_type": "execute_result"
    }
   ],
   "source": [
    "(\n",
    "    med_admin_win\n",
    "    [(med_admin_win['CommonDrugName'].str.contains('heparin')) & (med_admin_win['AdministeredUnits'] == 'unit/kg/hr')]\n",
    "    .AdministeredAmount\n",
    "    .value_counts(normalize = True)\n",
    "    .head(10)\n",
    ")"
   ]
  },
  {
   "cell_type": "code",
   "execution_count": 212,
   "id": "edf9f628",
   "metadata": {},
   "outputs": [
    {
     "data": {
      "text/plain": [
       "CommonDrugName     AdministeredUnits\n",
       "heparin (porcine)  unit/kg/hr           243\n",
       "Name: PatientID, dtype: int64"
      ]
     },
     "execution_count": 212,
     "metadata": {},
     "output_type": "execute_result"
    }
   ],
   "source": [
    "# Total number of instances of a patient receiving heparin, bivalrudin, or argatroban drip\n",
    "(\n",
    "    med_admin_win\n",
    "    [((med_admin_win['CommonDrugName'].str.contains('heparin')) & \n",
    "      (med_admin_win['AdministeredUnits'] == 'unit/kg/hr')) | \n",
    "     (med_admin_win['CommonDrugName'].str.contains('bivalirudin')) | \n",
    "     (med_admin_win['CommonDrugName'].str.contains('argatroban'))]\n",
    "    .groupby(['CommonDrugName', 'AdministeredUnits'])['PatientID'].count()\n",
    "    .sort_values(ascending = False)\n",
    " )"
   ]
  },
  {
   "cell_type": "code",
   "execution_count": 213,
   "id": "fb1a3a71",
   "metadata": {},
   "outputs": [],
   "source": [
    "med_admin_win.loc[:, 'heparin_diag'] = (\n",
    "    np.where(((med_admin_win['CommonDrugName'].str.contains('heparin')) & \n",
    "              (med_admin_win['AdministeredUnits'] == 'unit/kg/hr')) | \n",
    "             (med_admin_win['CommonDrugName'].str.contains('bivalirudin')) | \n",
    "             (med_admin_win['CommonDrugName'].str.contains('argatroban')), 1, 0)\n",
    ")"
   ]
  },
  {
   "cell_type": "markdown",
   "id": "15105a70",
   "metadata": {},
   "source": [
    "###### Enoxaparin and other subcutaneous agents "
   ]
  },
  {
   "cell_type": "code",
   "execution_count": 214,
   "id": "b5b5e4b9",
   "metadata": {},
   "outputs": [
    {
     "data": {
      "text/plain": [
       "40.0     0.673913\n",
       "30.0     0.154244\n",
       "60.0     0.062112\n",
       "50.0     0.046584\n",
       "80.0     0.027950\n",
       "100.0    0.022774\n",
       "70.0     0.004141\n",
       "130.0    0.002070\n",
       "90.0     0.002070\n",
       "120.0    0.002070\n",
       "Name: AdministeredAmount, dtype: float64"
      ]
     },
     "execution_count": 214,
     "metadata": {},
     "output_type": "execute_result"
    }
   ],
   "source": [
    "(\n",
    "    med_admin_win\n",
    "    [med_admin_win['CommonDrugName'].str.contains('enoxaparin')]\n",
    "    .AdministeredAmount\n",
    "    .value_counts(normalize = True)\n",
    "    .head(10)\n",
    ")"
   ]
  },
  {
   "cell_type": "markdown",
   "id": "1e2b9770",
   "metadata": {},
   "source": [
    "**Doses of 40 or 30 likley reflect prophylactic VTE dosing and are less clinically relevant than higher doses.** "
   ]
  },
  {
   "cell_type": "code",
   "execution_count": 215,
   "id": "a99ebf91",
   "metadata": {},
   "outputs": [
    {
     "data": {
      "text/plain": [
       "5000.0     0.604895\n",
       "15000.0    0.199301\n",
       "18000.0    0.073427\n",
       "17500.0    0.034965\n",
       "7500.0     0.027972\n",
       "12500.0    0.027972\n",
       "10000.0    0.027972\n",
       "6000.0     0.003497\n",
       "Name: AdministeredAmount, dtype: float64"
      ]
     },
     "execution_count": 215,
     "metadata": {},
     "output_type": "execute_result"
    }
   ],
   "source": [
    "(\n",
    "    med_admin_win\n",
    "    [med_admin_win['CommonDrugName'].str.contains('dalteparin')]\n",
    "    .AdministeredAmount\n",
    "    .value_counts(normalize = True)\n",
    "    .head(10)\n",
    ")"
   ]
  },
  {
   "cell_type": "markdown",
   "id": "8fc20bfc",
   "metadata": {},
   "source": [
    "**Dose of 5,000 or less likley reflects prophylactic VTE dosing and is less clinically relevant than higher doses.** "
   ]
  },
  {
   "cell_type": "code",
   "execution_count": 216,
   "id": "47ddd498",
   "metadata": {},
   "outputs": [
    {
     "data": {
      "text/plain": [
       "2.5     0.80\n",
       "7.5     0.16\n",
       "10.0    0.04\n",
       "Name: AdministeredAmount, dtype: float64"
      ]
     },
     "execution_count": 216,
     "metadata": {},
     "output_type": "execute_result"
    }
   ],
   "source": [
    "(\n",
    "    med_admin_win\n",
    "    [med_admin_win['CommonDrugName'].str.contains('fondaparinux')]\n",
    "    .AdministeredAmount\n",
    "    .value_counts(normalize = True)\n",
    ")"
   ]
  },
  {
   "cell_type": "markdown",
   "id": "151e857c",
   "metadata": {},
   "source": [
    "**Dose of 2.5 likley reflects prophylactic VTE dosing and is less clinically relevant than higher doses.** "
   ]
  },
  {
   "cell_type": "code",
   "execution_count": 217,
   "id": "e336346c",
   "metadata": {},
   "outputs": [
    {
     "data": {
      "text/plain": [
       "CommonDrugName      AdministeredAmount\n",
       "enoxaparin          60.0                  60\n",
       "dalteparin,porcine  15000.0               57\n",
       "enoxaparin          50.0                  45\n",
       "                    80.0                  27\n",
       "                    100.0                 22\n",
       "dalteparin,porcine  18000.0               21\n",
       "                    17500.0               10\n",
       "                    10000.0                8\n",
       "                    12500.0                8\n",
       "                    7500.0                 8\n",
       "enoxaparin          70.0                   4\n",
       "fondaparinux        7.5                    4\n",
       "enoxaparin          90.0                   2\n",
       "                    120.0                  2\n",
       "                    130.0                  2\n",
       "dalteparin,porcine  6000.0                 1\n",
       "enoxaparin          150.0                  1\n",
       "fondaparinux        10.0                   1\n",
       "Name: PatientID, dtype: int64"
      ]
     },
     "execution_count": 217,
     "metadata": {},
     "output_type": "execute_result"
    }
   ],
   "source": [
    "(\n",
    "    med_admin_win\n",
    "    [((med_admin_win['CommonDrugName'].str.contains('enoxaparin')) & \n",
    "      (med_admin_win['AdministeredAmount'] > 40)) | \n",
    "     ((med_admin_win['CommonDrugName'].str.contains('dalteparin')) & \n",
    "      (med_admin_win['AdministeredAmount'] > 5000)) | \n",
    "     ((med_admin_win['CommonDrugName'].str.contains('fondaparinux')) & \n",
    "      (med_admin_win['AdministeredAmount'] > 2.5))]\n",
    "    .groupby(['CommonDrugName', 'AdministeredAmount'])['PatientID'].count()\n",
    "    .sort_values(ascending = False)\n",
    "    .head(20)\n",
    ")"
   ]
  },
  {
   "cell_type": "code",
   "execution_count": 218,
   "id": "60e31676",
   "metadata": {},
   "outputs": [],
   "source": [
    "med_admin_win.loc[:, 'enoxaparin_diag'] = (\n",
    "    np.where(((med_admin_win['CommonDrugName'].str.contains('enoxaparin')) & \n",
    "              (med_admin_win['AdministeredAmount'] > 40)) | \n",
    "             ((med_admin_win['CommonDrugName'].str.contains('dalteparin')) & \n",
    "              (med_admin_win['AdministeredAmount'] > 5000)) | \n",
    "             ((med_admin_win['CommonDrugName'].str.contains('fondaparinux')) & \n",
    "              (med_admin_win['AdministeredAmount'] > 2.5)), 1, 0)\n",
    ")"
   ]
  },
  {
   "cell_type": "markdown",
   "id": "a7038077",
   "metadata": {},
   "source": [
    "##### DOAC"
   ]
  },
  {
   "cell_type": "code",
   "execution_count": 219,
   "id": "2f7f2dd1",
   "metadata": {},
   "outputs": [
    {
     "data": {
      "text/plain": [
       "apixaban                122\n",
       "rivaroxaban              42\n",
       "dabigatran etexilate      9\n",
       "Name: CommonDrugName, dtype: int64"
      ]
     },
     "execution_count": 219,
     "metadata": {},
     "output_type": "execute_result"
    }
   ],
   "source": [
    "(\n",
    "    med_admin_win\n",
    "    [(med_admin_win['CommonDrugName'].str.contains('apixaban')) | \n",
    "     (med_admin_win['CommonDrugName'].str.contains('rivaroxaban')) | \n",
    "     (med_admin_win['CommonDrugName'].str.contains('dabigatran')) | \n",
    "     (med_admin_win['CommonDrugName'].str.contains('edoxaban'))]\n",
    "    .CommonDrugName\n",
    "    .value_counts()\n",
    ")"
   ]
  },
  {
   "cell_type": "code",
   "execution_count": 220,
   "id": "bdd27b49",
   "metadata": {},
   "outputs": [],
   "source": [
    "med_admin_win.loc[:, 'doac_diag'] = (\n",
    "    np.where((med_admin_win['CommonDrugName'].str.contains('apixaban')) | \n",
    "             (med_admin_win['CommonDrugName'].str.contains('rivaroxaban')) | \n",
    "             (med_admin_win['CommonDrugName'].str.contains('dabigatran')) | \n",
    "             (med_admin_win['CommonDrugName'].str.contains('edoxaban')), 1, 0)\n",
    ")"
   ]
  },
  {
   "cell_type": "markdown",
   "id": "d08c578e",
   "metadata": {},
   "source": [
    "##### Warfarin"
   ]
  },
  {
   "cell_type": "code",
   "execution_count": 221,
   "id": "1f7bd3c9",
   "metadata": {},
   "outputs": [
    {
     "data": {
      "text/plain": [
       "5.00     20\n",
       "2.50     13\n",
       "2.00     10\n",
       "4.00     10\n",
       "3.00      3\n",
       "6.00      3\n",
       "7.50      2\n",
       "8.00      2\n",
       "1.25      2\n",
       "1.00      2\n",
       "10.00     1\n",
       "1.50      1\n",
       "3.50      1\n",
       "Name: AdministeredAmount, dtype: int64"
      ]
     },
     "execution_count": 221,
     "metadata": {},
     "output_type": "execute_result"
    }
   ],
   "source": [
    "(\n",
    "    med_admin_win\n",
    "    [(med_admin_win['CommonDrugName'].str.contains('warfarin'))]\n",
    "    .AdministeredAmount\n",
    "    .value_counts()\n",
    ")"
   ]
  },
  {
   "cell_type": "code",
   "execution_count": 222,
   "id": "f7afa9ed",
   "metadata": {},
   "outputs": [],
   "source": [
    "med_admin_win.loc[:, 'warfarin_diag'] = np.where((med_admin_win['CommonDrugName'].str.contains('warfarin')), 1, 0)"
   ]
  },
  {
   "cell_type": "markdown",
   "id": "6c44332a",
   "metadata": {},
   "source": [
    "##### Anticoagulation merge "
   ]
  },
  {
   "cell_type": "code",
   "execution_count": 223,
   "id": "3f8228b6",
   "metadata": {},
   "outputs": [
    {
     "name": "stderr",
     "output_type": "stream",
     "text": [
      "/Applications/anaconda3/lib/python3.7/site-packages/ipykernel_launcher.py:3: SettingWithCopyWarning: \n",
      "A value is trying to be set on a copy of a slice from a DataFrame.\n",
      "Try using .loc[row_indexer,col_indexer] = value instead\n",
      "\n",
      "See the caveats in the documentation: https://pandas.pydata.org/pandas-docs/stable/user_guide/indexing.html#returning-a-view-versus-a-copy\n",
      "  This is separate from the ipykernel package so we can avoid doing imports until\n"
     ]
    }
   ],
   "source": [
    "# Combine heparin, enoxparin, DOAC, and warfarin columns into a single anticoagulation indicator variable. \n",
    "med_admin_win['ac_diag'] = (\n",
    "    med_admin_win['heparin_diag'] + med_admin_win['enoxaparin_diag'] + med_admin_win['doac_diag'] + med_admin_win['warfarin_diag']\n",
    ")"
   ]
  },
  {
   "cell_type": "code",
   "execution_count": 224,
   "id": "0f793e87",
   "metadata": {},
   "outputs": [],
   "source": [
    "# Drop heparin, enoxaparin, DOAC, and warfarin columns. \n",
    "med_admin_win = med_admin_win.drop(columns = ['heparin_diag', 'enoxaparin_diag', 'doac_diag', 'warfarin_diag'])"
   ]
  },
  {
   "cell_type": "markdown",
   "id": "da307a3f",
   "metadata": {},
   "source": [
    "##### DAPT"
   ]
  },
  {
   "cell_type": "code",
   "execution_count": 225,
   "id": "8808bbfe",
   "metadata": {},
   "outputs": [
    {
     "data": {
      "text/plain": [
       "dapt    9\n",
       "dtype: int64"
      ]
     },
     "execution_count": 225,
     "metadata": {},
     "output_type": "execute_result"
    }
   ],
   "source": [
    "# Create dataframe containing patients who received aspirin or clopidogrel. \n",
    "(\n",
    "    med_admin_win\n",
    "    [(med_admin_win['CommonDrugName'].str.contains('aspirin')) | \n",
    "     (med_admin_win['CommonDrugName'].str.contains('clopidogrel')) | \n",
    "     (med_admin_win['CommonDrugName'].str.contains('ticagrelor')) | \n",
    "     (med_admin_win['CommonDrugName'].str.contains('prasugrel'))]\n",
    "    .drop_duplicates(subset = ['PatientID', 'CommonDrugName'], keep = 'first')\n",
    "    .groupby('PatientID')['PatientID'].count()\n",
    "    .to_frame(name = 'dapt')\n",
    "    .query('dapt == 2')\n",
    "    .count()\n",
    ")"
   ]
  },
  {
   "cell_type": "markdown",
   "id": "1b9e5b0e",
   "metadata": {},
   "source": [
    "**Considering such a small number of patients are receiving DAPT, no variable created.** "
   ]
  },
  {
   "cell_type": "markdown",
   "id": "95be6962",
   "metadata": {},
   "source": [
    "##### GCSF"
   ]
  },
  {
   "cell_type": "code",
   "execution_count": 226,
   "id": "225514f6",
   "metadata": {},
   "outputs": [
    {
     "data": {
      "text/plain": [
       "pegfilgrastim         379\n",
       "filgrastim            228\n",
       "filgrastim-sndz       143\n",
       "pegfilgrastim-jmdb     18\n",
       "tbo-filgrastim         10\n",
       "pegfilgrastim-cbqv      8\n",
       "pegfilgrastim-bmez      8\n",
       "pegfilgrastim-apgf      7\n",
       "filgrastim-aafi         1\n",
       "Name: CommonDrugName, dtype: int64"
      ]
     },
     "execution_count": 226,
     "metadata": {},
     "output_type": "execute_result"
    }
   ],
   "source": [
    "(\n",
    "    med_admin_win\n",
    "    [med_admin_win['CommonDrugName'].str.contains('filgrastim')]\n",
    "    .CommonDrugName\n",
    "    .value_counts()\n",
    ")"
   ]
  },
  {
   "cell_type": "markdown",
   "id": "445cfd9f",
   "metadata": {},
   "source": [
    "##### Epoetin"
   ]
  },
  {
   "cell_type": "code",
   "execution_count": 227,
   "id": "b34b7b47",
   "metadata": {},
   "outputs": [
    {
     "data": {
      "text/plain": [
       "epoetin alfa         155\n",
       "darbepoetin alfa      65\n",
       "epoetin alfa-epbx     33\n",
       "Name: CommonDrugName, dtype: int64"
      ]
     },
     "execution_count": 227,
     "metadata": {},
     "output_type": "execute_result"
    }
   ],
   "source": [
    "(\n",
    "    med_admin_win\n",
    "    [med_admin_win['CommonDrugName'].str.contains('epoetin')]\n",
    "    .CommonDrugName\n",
    "    .value_counts()\n",
    ")"
   ]
  },
  {
   "cell_type": "markdown",
   "id": "b1aa9e28",
   "metadata": {},
   "source": [
    "**Both GCSF and epotein likely reflect chemotherapy toxicity and so will not be coded.** "
   ]
  },
  {
   "cell_type": "markdown",
   "id": "296a951d",
   "metadata": {},
   "source": [
    "##### tPA"
   ]
  },
  {
   "cell_type": "code",
   "execution_count": 228,
   "id": "8f9b9f9c",
   "metadata": {},
   "outputs": [
    {
     "data": {
      "text/plain": [
       "AdministeredAmount  Route              \n",
       "2.0                 Intravenous            57\n",
       "                    Other/Miscellaneous    10\n",
       "1.0                 Other/Miscellaneous     7\n",
       "                    Intravenous             2\n",
       "50.0                Intravenous             2\n",
       "2.0                 Intrajejunal            1\n",
       "5.0                 Intrapleural            1\n",
       "                    Intravenous             1\n",
       "10.0                Intrapleural            1\n",
       "49.0                Intravenous             1\n",
       "Name: PatientID, dtype: int64"
      ]
     },
     "execution_count": 228,
     "metadata": {},
     "output_type": "execute_result"
    }
   ],
   "source": [
    "(\n",
    "    med_admin_win\n",
    "    [med_admin_win['CommonDrugName'].str.contains('alteplase')]\n",
    "    .groupby(['AdministeredAmount', 'Route'])['PatientID'].count()\n",
    "    .sort_values (ascending = False)\n",
    ")"
   ]
  },
  {
   "cell_type": "markdown",
   "id": "457ba283",
   "metadata": {},
   "source": [
    "**No indicator variable created since doses received are for catheter clearance rather than for acute ischemic stroke or pulmonary embolism.** "
   ]
  },
  {
   "cell_type": "markdown",
   "id": "38d3ccc6",
   "metadata": {},
   "source": [
    "#### Anti-infective "
   ]
  },
  {
   "cell_type": "code",
   "execution_count": 229,
   "id": "fbdb4777",
   "metadata": {},
   "outputs": [
    {
     "data": {
      "text/plain": [
       "CommonDrugName                 Route      \n",
       "cefazolin                      Intravenous    742\n",
       "vancomycin                     Intravenous    390\n",
       "piperacillin/tazobactam        Intravenous    327\n",
       "cefepime                       Intravenous    264\n",
       "ceftriaxone                    Intravenous    238\n",
       "nystatin                       Topical        199\n",
       "doxycycline                    Oral           109\n",
       "fluconazole                    Oral           103\n",
       "ciprofloxacin                  Oral            94\n",
       "metronidazole                  Intravenous     87\n",
       "meropenem                      Intravenous     80\n",
       "metronidazole                  Oral            76\n",
       "cephalexin                     Oral            75\n",
       "bacitracin                     Topical         72\n",
       "nystatin                       Oral            68\n",
       "sulfamethoxazole/trimethoprim  Oral            67\n",
       "acyclovir                      Oral            66\n",
       "clindamycin                    Intravenous     58\n",
       "metronidazole                  Topical         54\n",
       "levofloxacin                   Intravenous     54\n",
       "Name: PatientID, dtype: int64"
      ]
     },
     "execution_count": 229,
     "metadata": {},
     "output_type": "execute_result"
    }
   ],
   "source": [
    "(\n",
    "    med_admin_win\n",
    "    [(med_admin_win['DrugCategory'] == 'anti-infective')] \n",
    "    .groupby(['CommonDrugName', 'Route'])['PatientID'].count()\n",
    "    .sort_values(ascending = False)\n",
    "    .head(20)\n",
    ")"
   ]
  },
  {
   "cell_type": "markdown",
   "id": "5cdefac6",
   "metadata": {},
   "source": [
    "**Clinically relevant; two separate indicator variables from the anti-infective drug category will be created:** \n",
    "* **antiinfective IV group** \n",
    "* **antiinfective PO group**"
   ]
  },
  {
   "cell_type": "markdown",
   "id": "62bba805",
   "metadata": {},
   "source": [
    "##### Anti-infective IV"
   ]
  },
  {
   "cell_type": "code",
   "execution_count": 230,
   "id": "d44f21fc",
   "metadata": {},
   "outputs": [
    {
     "data": {
      "text/plain": [
       "cefazolin                                        0.286819\n",
       "vancomycin                                       0.150754\n",
       "piperacillin/tazobactam                          0.126401\n",
       "cefepime                                         0.102049\n",
       "ceftriaxone                                      0.091998\n",
       "metronidazole                                    0.033630\n",
       "meropenem                                        0.030924\n",
       "clindamycin                                      0.022420\n",
       "levofloxacin                                     0.020874\n",
       "acyclovir                                        0.014689\n",
       "fluconazole                                      0.014302\n",
       "ampicillin/sulbactam                             0.013916\n",
       "dextrose, iso-osmotic/piperacillin/tazobactam    0.013916\n",
       "gentamicin                                       0.013143\n",
       "ciprofloxacin                                    0.012756\n",
       "ceftazidime                                      0.010437\n",
       "tigecycline                                      0.006958\n",
       "azithromycin                                     0.006958\n",
       "doxycycline                                      0.006185\n",
       "oxacillin                                        0.005798\n",
       "Name: CommonDrugName, dtype: float64"
      ]
     },
     "execution_count": 230,
     "metadata": {},
     "output_type": "execute_result"
    }
   ],
   "source": [
    "(\n",
    "    med_admin_win\n",
    "    [(med_admin_win['DrugCategory'] == 'anti-infective') & \n",
    "     (med_admin_win['Route'] == 'Intravenous')]\n",
    "    .CommonDrugName\n",
    "    .value_counts(normalize = True)\n",
    "    .head(20)\n",
    ")"
   ]
  },
  {
   "cell_type": "markdown",
   "id": "96a2b32e",
   "metadata": {},
   "source": [
    "**This group consists mainly of antibacterials. Antifungals and antivirals are also included.** "
   ]
  },
  {
   "cell_type": "code",
   "execution_count": 231,
   "id": "9b872c20",
   "metadata": {},
   "outputs": [],
   "source": [
    "med_admin_win.loc[:, 'antiinfective_IV_diag'] = (\n",
    "    np.where((med_admin_win['DrugCategory'] == 'anti-infective') & \n",
    "             (med_admin_win['Route'] == 'Intravenous'), 1, 0)\n",
    ")"
   ]
  },
  {
   "cell_type": "markdown",
   "id": "b78d47c2",
   "metadata": {},
   "source": [
    "##### Anti-infective PO"
   ]
  },
  {
   "cell_type": "code",
   "execution_count": 232,
   "id": "333a9c59",
   "metadata": {},
   "outputs": [
    {
     "data": {
      "text/plain": [
       "CommonDrugName                 Route\n",
       "doxycycline                    Oral     109\n",
       "fluconazole                    Oral     103\n",
       "ciprofloxacin                  Oral      94\n",
       "metronidazole                  Oral      76\n",
       "cephalexin                     Oral      75\n",
       "nystatin                       Oral      68\n",
       "sulfamethoxazole/trimethoprim  Oral      67\n",
       "acyclovir                      Oral      66\n",
       "hydroxychloroquine             Oral      36\n",
       "levofloxacin                   Oral      32\n",
       "azithromycin                   Oral      30\n",
       "amoxicillin/clavulanic acid    Oral      28\n",
       "cefuroxime                     Oral      25\n",
       "vancomycin                     Oral      24\n",
       "amoxicillin                    Oral      22\n",
       "oseltamivir                    Oral      22\n",
       "valacyclovir                   Oral      18\n",
       "moxifloxacin                   Oral      18\n",
       "nitrofurantoin                 Oral      18\n",
       "cefpodoxime                    Oral      15\n",
       "Name: PatientID, dtype: int64"
      ]
     },
     "execution_count": 232,
     "metadata": {},
     "output_type": "execute_result"
    }
   ],
   "source": [
    "(\n",
    "    med_admin_win\n",
    "    [(med_admin_win['DrugCategory'] == 'anti-infective') & \n",
    "     (med_admin_win['Route'] == 'Oral')]\n",
    "    .groupby(['CommonDrugName', 'Route'])['PatientID'].count()\n",
    "    .sort_values(ascending = False)\n",
    "    .head(20)\n",
    ")"
   ]
  },
  {
   "cell_type": "code",
   "execution_count": 233,
   "id": "d2652328",
   "metadata": {},
   "outputs": [],
   "source": [
    "med_admin_win.loc[:, 'antiinfective_diag'] = (\n",
    "    np.where((med_admin_win['DrugCategory'] == 'anti-infective') & \n",
    "             (med_admin_win['Route'] == 'Oral'), 1, 0)\n",
    ")"
   ]
  },
  {
   "cell_type": "markdown",
   "id": "697591ef",
   "metadata": {},
   "source": [
    "#### Anesthetic"
   ]
  },
  {
   "cell_type": "code",
   "execution_count": 234,
   "id": "af99119b",
   "metadata": {},
   "outputs": [
    {
     "data": {
      "text/plain": [
       "CommonDrugName  Route        \n",
       "fentanyl        Intravenous      1402\n",
       "propofol        Intravenous      1049\n",
       "midazolam       Intravenous       934\n",
       "remifentanil    Intravenous       173\n",
       "ketamine        Intravenous        43\n",
       "etomidate       Intravenous        11\n",
       "sufentanil      Intravenous         5\n",
       "                Epidural            4\n",
       "fentanyl        Buccal              3\n",
       "midazolam       Intramuscular       2\n",
       "fentanyl        Intrathecal         1\n",
       "                Oral                1\n",
       "Name: PatientID, dtype: int64"
      ]
     },
     "execution_count": 234,
     "metadata": {},
     "output_type": "execute_result"
    }
   ],
   "source": [
    "(\n",
    "    med_admin_win\n",
    "    .query('DrugCategory == \"anesthetic\"')\n",
    "    .groupby(['CommonDrugName', 'Route'])['PatientID'].count()\n",
    "    .sort_values(ascending = False)\n",
    ")"
   ]
  },
  {
   "cell_type": "markdown",
   "id": "fe95fff3",
   "metadata": {},
   "source": [
    "**Most likely capturing patients undergoing biopsy or procedure related to new metastatic diagnosis. Unclear prognostic value so no indicator variable created.** "
   ]
  },
  {
   "cell_type": "markdown",
   "id": "1f3ba7a4",
   "metadata": {},
   "source": [
    "#### Cytoprotective"
   ]
  },
  {
   "cell_type": "code",
   "execution_count": 235,
   "id": "782595e3",
   "metadata": {},
   "outputs": [
    {
     "data": {
      "text/plain": [
       "CommonDrugName            Route           \n",
       "vitamin b12 preparations  Intramuscular       195\n",
       "                          Oral                185\n",
       "folic acid                Oral                141\n",
       "vitamin b12 preparations  Subcutaneous         44\n",
       "                          Intrajejunal         14\n",
       "folic acid                enteral               9\n",
       "urate oxidase             Intravenous           8\n",
       "folic acid                Gastrostomy Tube      7\n",
       "                          Intravenous           1\n",
       "Name: PatientID, dtype: int64"
      ]
     },
     "execution_count": 235,
     "metadata": {},
     "output_type": "execute_result"
    }
   ],
   "source": [
    "(\n",
    "    med_admin_win\n",
    "    .query('DrugCategory == \"cytoprotective\"')\n",
    "    .groupby(['CommonDrugName', 'Route'])['PatientID'].count()\n",
    "    .sort_values(ascending = False)\n",
    ")"
   ]
  },
  {
   "cell_type": "markdown",
   "id": "670bda8b",
   "metadata": {},
   "source": [
    "#### Antihyperglycemic"
   ]
  },
  {
   "cell_type": "code",
   "execution_count": 236,
   "id": "75cb6034",
   "metadata": {},
   "outputs": [
    {
     "data": {
      "text/plain": [
       "insulin lispro                             0.503513\n",
       "insulin glargine                           0.187354\n",
       "insulin regular                            0.149102\n",
       "metformin                                  0.066354\n",
       "glipizide                                  0.034348\n",
       "sitagliptin                                0.024200\n",
       "linagliptin                                0.016393\n",
       "insulin lispro/insulin lispro protamine    0.010148\n",
       "dapagliflozin                              0.004684\n",
       "insulin aspart                             0.001561\n",
       "insulin isophane (nph)                     0.001561\n",
       "glimepiride                                0.000781\n",
       "Name: CommonDrugName, dtype: float64"
      ]
     },
     "execution_count": 236,
     "metadata": {},
     "output_type": "execute_result"
    }
   ],
   "source": [
    "(\n",
    "    med_admin_win\n",
    "    .query('DrugCategory == \"antihyperglycemic\"')\n",
    "    .CommonDrugName\n",
    "    .value_counts(normalize = True)\n",
    ")"
   ]
  },
  {
   "cell_type": "code",
   "execution_count": 237,
   "id": "5e7c5c8e",
   "metadata": {},
   "outputs": [],
   "source": [
    "med_admin_win.loc[:, 'antihyperglycemic_diag'] = np.where(med_admin_win['DrugCategory'] == 'antihyperglycemic', 1, 0)"
   ]
  },
  {
   "cell_type": "markdown",
   "id": "d101a51b",
   "metadata": {},
   "source": [
    "#### Proton pump inhibitor"
   ]
  },
  {
   "cell_type": "code",
   "execution_count": 238,
   "id": "3fc0d06a",
   "metadata": {},
   "outputs": [
    {
     "data": {
      "text/plain": [
       "CommonDrugName  Route           \n",
       "lansoprazole    Oral                659\n",
       "pantoprazole    Oral                462\n",
       "                Intravenous         401\n",
       "omeprazole      Oral                204\n",
       "lansoprazole    enteral              16\n",
       "                Gastrostomy Tube     12\n",
       "                Nasogastric           8\n",
       "esomeprazole    Oral                  3\n",
       "rabeprazole     Oral                  2\n",
       "pantoprazole    Intramuscular         1\n",
       "Name: PatientID, dtype: int64"
      ]
     },
     "execution_count": 238,
     "metadata": {},
     "output_type": "execute_result"
    }
   ],
   "source": [
    "(\n",
    "    med_admin_win\n",
    "    .query('DrugCategory == \"proton pump inhibitor\"')\n",
    "    .groupby(['CommonDrugName', 'Route'])['PatientID'].count()\n",
    "    .sort_values(ascending = False)\n",
    ")"
   ]
  },
  {
   "cell_type": "code",
   "execution_count": 239,
   "id": "b45bc7e9",
   "metadata": {},
   "outputs": [],
   "source": [
    "med_admin_win.loc[:, 'ppi_diag'] = np.where(med_admin_win['DrugCategory'] == 'proton pump inhibitor', 1, 0)"
   ]
  },
  {
   "cell_type": "markdown",
   "id": "cb0a1aa9",
   "metadata": {},
   "source": [
    "#### Antidepressant"
   ]
  },
  {
   "cell_type": "code",
   "execution_count": 240,
   "id": "8e4e52eb",
   "metadata": {},
   "outputs": [
    {
     "data": {
      "text/plain": [
       "escitalopram     136\n",
       "duloxetine       121\n",
       "mirtazapine      119\n",
       "citalopram       112\n",
       "sertraline        99\n",
       "trazodone         89\n",
       "paroxetine        75\n",
       "bupropion         70\n",
       "venlafaxine       65\n",
       "fluoxetine        54\n",
       "nortriptyline     14\n",
       "amitriptyline     14\n",
       "doxepin           13\n",
       "vilazodone         8\n",
       "vortioxetine       7\n",
       "Name: CommonDrugName, dtype: int64"
      ]
     },
     "execution_count": 240,
     "metadata": {},
     "output_type": "execute_result"
    }
   ],
   "source": [
    "(\n",
    "    med_admin_win\n",
    "    .query('DrugCategory == \"antidepressant\"')\n",
    "    .CommonDrugName\n",
    "    .value_counts()\n",
    ")"
   ]
  },
  {
   "cell_type": "code",
   "execution_count": 241,
   "id": "e41905a5",
   "metadata": {},
   "outputs": [],
   "source": [
    "med_admin_win.loc[:, 'antidepressant_diag'] = np.where(med_admin_win['DrugCategory'] == 'antidepressant', 1, 0)"
   ]
  },
  {
   "cell_type": "markdown",
   "id": "c64a2b09",
   "metadata": {},
   "source": [
    "#### Bone therapy agent"
   ]
  },
  {
   "cell_type": "code",
   "execution_count": 242,
   "id": "23021862",
   "metadata": {},
   "outputs": [
    {
     "data": {
      "text/plain": [
       "denosumab           571\n",
       "zoledronic acid     462\n",
       "pamidronic acid      34\n",
       "romosozumab-aqqg      2\n",
       "alendronic acid       1\n",
       "ibandronic acid       1\n",
       "Name: CommonDrugName, dtype: int64"
      ]
     },
     "execution_count": 242,
     "metadata": {},
     "output_type": "execute_result"
    }
   ],
   "source": [
    "(\n",
    "    med_admin_win\n",
    "    .query('DrugCategory == \"bone therapy agent (bta)\"')\n",
    "    .CommonDrugName\n",
    "    .value_counts()\n",
    ")"
   ]
  },
  {
   "cell_type": "code",
   "execution_count": 243,
   "id": "9a03ba87",
   "metadata": {},
   "outputs": [],
   "source": [
    "med_admin_win.loc[:, 'bta_diag'] = np.where(med_admin_win['DrugCategory'] == 'bone therapy agent (bta)', 1, 0)"
   ]
  },
  {
   "cell_type": "markdown",
   "id": "25b0ce5c",
   "metadata": {},
   "source": [
    "#### Hormone"
   ]
  },
  {
   "cell_type": "code",
   "execution_count": 244,
   "id": "28df76ad",
   "metadata": {},
   "outputs": [
    {
     "data": {
      "text/plain": [
       "levothyroxine    573\n",
       "vasopressin       49\n",
       "calcitonin        36\n",
       "desmopressin      20\n",
       "liothyronine      14\n",
       "octreotide         3\n",
       "dinoprostone       1\n",
       "misoprostol        1\n",
       "thyroid            1\n",
       "Name: CommonDrugName, dtype: int64"
      ]
     },
     "execution_count": 244,
     "metadata": {},
     "output_type": "execute_result"
    }
   ],
   "source": [
    "(\n",
    "    med_admin_win\n",
    "    .query('DrugCategory == \"hormone\"')\n",
    "    .CommonDrugName\n",
    "    .value_counts()\n",
    ")"
   ]
  },
  {
   "cell_type": "markdown",
   "id": "fd66d69f",
   "metadata": {},
   "source": [
    "**Hypothyroidism might linked to higher all-cause mortality, so i ndicator variable will be created for patients receiving levothyroxine.** "
   ]
  },
  {
   "cell_type": "code",
   "execution_count": 245,
   "id": "a65eebef",
   "metadata": {},
   "outputs": [],
   "source": [
    "med_admin_win.loc[:, 'thyroid_diag'] = np.where(med_admin_win['CommonDrugName'] == 'levothyroxine', 1, 0)"
   ]
  },
  {
   "cell_type": "markdown",
   "id": "82371658",
   "metadata": {},
   "source": [
    "#### Gout and hyperurecemia agent "
   ]
  },
  {
   "cell_type": "code",
   "execution_count": 246,
   "id": "bab830c9",
   "metadata": {},
   "outputs": [
    {
     "data": {
      "text/plain": [
       "allopurinol    135\n",
       "colchicine      22\n",
       "Name: CommonDrugName, dtype: int64"
      ]
     },
     "execution_count": 246,
     "metadata": {},
     "output_type": "execute_result"
    }
   ],
   "source": [
    "(\n",
    "    med_admin_win\n",
    "    .query('DrugCategory == \"gout and hyperurecemia agent\"')\n",
    "    .CommonDrugName\n",
    "    .value_counts()\n",
    ")"
   ]
  },
  {
   "cell_type": "markdown",
   "id": "f1df7b9f",
   "metadata": {},
   "source": [
    "#### 4.16 Immunosuppressive "
   ]
  },
  {
   "cell_type": "code",
   "execution_count": 247,
   "id": "665f4929",
   "metadata": {},
   "outputs": [
    {
     "data": {
      "text/plain": [
       "tacrolimus           55\n",
       "mycophenolic acid    33\n",
       "cyclosporine         15\n",
       "azathioprine          5\n",
       "sirolimus             5\n",
       "tocilizumab           3\n",
       "Name: CommonDrugName, dtype: int64"
      ]
     },
     "execution_count": 247,
     "metadata": {},
     "output_type": "execute_result"
    }
   ],
   "source": [
    "(\n",
    "    med_admin_win\n",
    "    .query('DrugCategory == \"immunosuppressive\"')\n",
    "    .CommonDrugName\n",
    "    .value_counts()\n",
    ")"
   ]
  },
  {
   "cell_type": "code",
   "execution_count": 248,
   "id": "82afa503",
   "metadata": {},
   "outputs": [],
   "source": [
    "med_admin_win.loc[:, 'is_diag'] = np.where(med_admin_win['DrugCategory'] == 'immunosuppressive', 1, 0)"
   ]
  },
  {
   "cell_type": "markdown",
   "id": "ecab1103",
   "metadata": {},
   "source": [
    "#### Sedative agent"
   ]
  },
  {
   "cell_type": "code",
   "execution_count": 249,
   "id": "c0bda00f",
   "metadata": {},
   "outputs": [
    {
     "data": {
      "text/plain": [
       "zolpidem    40\n",
       "Name: CommonDrugName, dtype: int64"
      ]
     },
     "execution_count": 249,
     "metadata": {},
     "output_type": "execute_result"
    }
   ],
   "source": [
    "(\n",
    "    med_admin_win\n",
    "    .query('DrugCategory == \"sedative agent\"')\n",
    "    .CommonDrugName\n",
    "    .value_counts()\n",
    ")"
   ]
  },
  {
   "cell_type": "markdown",
   "id": "dfa5dd99",
   "metadata": {},
   "source": [
    "#### Endocrine"
   ]
  },
  {
   "cell_type": "code",
   "execution_count": 250,
   "id": "efce3fec",
   "metadata": {},
   "outputs": [
    {
     "data": {
      "text/plain": [
       "oxytocin    28\n",
       "Name: CommonDrugName, dtype: int64"
      ]
     },
     "execution_count": 250,
     "metadata": {},
     "output_type": "execute_result"
    }
   ],
   "source": [
    "(\n",
    "    med_admin_win\n",
    "    .query('DrugCategory == \"endocrine\"')\n",
    "    .CommonDrugName\n",
    "    .value_counts()\n",
    ")"
   ]
  },
  {
   "cell_type": "markdown",
   "id": "c662b2e5",
   "metadata": {},
   "source": [
    "#### Antidote and reversal agent"
   ]
  },
  {
   "cell_type": "code",
   "execution_count": 251,
   "id": "375aecb6",
   "metadata": {},
   "outputs": [
    {
     "data": {
      "text/plain": [
       "naloxone          12\n",
       "acetylcysteine    10\n",
       "methylene blue     3\n",
       "naltrexone         3\n",
       "flumazenil         2\n",
       "protamine          1\n",
       "Name: CommonDrugName, dtype: int64"
      ]
     },
     "execution_count": 251,
     "metadata": {},
     "output_type": "execute_result"
    }
   ],
   "source": [
    "(\n",
    "    med_admin_win\n",
    "    .query('DrugCategory == \"antidote and reversal agent\"')\n",
    "    .CommonDrugName\n",
    "    .value_counts()\n",
    ")"
   ]
  },
  {
   "cell_type": "markdown",
   "id": "b5017e35",
   "metadata": {},
   "source": [
    "#### Hyperglycemic"
   ]
  },
  {
   "cell_type": "code",
   "execution_count": 252,
   "id": "faceff89",
   "metadata": {},
   "outputs": [
    {
     "data": {
      "text/plain": [
       "carbohydrates    26\n",
       "glucagon         18\n",
       "Name: CommonDrugName, dtype: int64"
      ]
     },
     "execution_count": 252,
     "metadata": {},
     "output_type": "execute_result"
    }
   ],
   "source": [
    "(\n",
    "    med_admin_win\n",
    "    .query('DrugCategory == \"hyperglycemic\"')\n",
    "    .CommonDrugName\n",
    "    .value_counts()\n",
    ")"
   ]
  },
  {
   "cell_type": "markdown",
   "id": "69c2f048",
   "metadata": {},
   "source": [
    "#### Antithyroid agent"
   ]
  },
  {
   "cell_type": "code",
   "execution_count": 253,
   "id": "59975955",
   "metadata": {},
   "outputs": [
    {
     "data": {
      "text/plain": [
       "methimazole         17\n",
       "propylthiouracil     8\n",
       "Name: CommonDrugName, dtype: int64"
      ]
     },
     "execution_count": 253,
     "metadata": {},
     "output_type": "execute_result"
    }
   ],
   "source": [
    "(\n",
    "    med_admin_win\n",
    "    .query('DrugCategory == \"antithyroid agent\"')\n",
    "    .CommonDrugName\n",
    "    .value_counts()\n",
    ")"
   ]
  },
  {
   "cell_type": "markdown",
   "id": "44c526f8",
   "metadata": {},
   "source": [
    "#### Anticholinergic"
   ]
  },
  {
   "cell_type": "code",
   "execution_count": 254,
   "id": "9fa4598a",
   "metadata": {},
   "outputs": [
    {
     "data": {
      "text/plain": [
       "atropine    11\n",
       "Name: CommonDrugName, dtype: int64"
      ]
     },
     "execution_count": 254,
     "metadata": {},
     "output_type": "execute_result"
    }
   ],
   "source": [
    "(\n",
    "    med_admin_win\n",
    "    .query('DrugCategory == \"anticholinergic\"')\n",
    "    .CommonDrugName\n",
    "    .value_counts()\n",
    ")"
   ]
  },
  {
   "cell_type": "markdown",
   "id": "779517e6",
   "metadata": {},
   "source": [
    "#### Calciumimetic"
   ]
  },
  {
   "cell_type": "code",
   "execution_count": 255,
   "id": "0c10a5b2",
   "metadata": {},
   "outputs": [
    {
     "data": {
      "text/plain": [
       "cinacalcet    12\n",
       "Name: CommonDrugName, dtype: int64"
      ]
     },
     "execution_count": 255,
     "metadata": {},
     "output_type": "execute_result"
    }
   ],
   "source": [
    "(\n",
    "    med_admin_win\n",
    "    .query('DrugCategory == \"calcimimetic\"')\n",
    "    .CommonDrugName\n",
    "    .value_counts()\n",
    ")"
   ]
  },
  {
   "cell_type": "markdown",
   "id": "bfc44ea3",
   "metadata": {},
   "source": [
    "#### Targeted therapy"
   ]
  },
  {
   "cell_type": "code",
   "execution_count": 256,
   "id": "f3c580fa",
   "metadata": {},
   "outputs": [
    {
     "data": {
      "text/plain": [
       "infliximab    2\n",
       "Name: CommonDrugName, dtype: int64"
      ]
     },
     "execution_count": 256,
     "metadata": {},
     "output_type": "execute_result"
    }
   ],
   "source": [
    "(\n",
    "    med_admin_win\n",
    "    .query('DrugCategory == \"targeted therapy\"')\n",
    "    .CommonDrugName\n",
    "    .value_counts()\n",
    ")"
   ]
  },
  {
   "cell_type": "markdown",
   "id": "27d8991b",
   "metadata": {},
   "source": [
    "#### Route"
   ]
  },
  {
   "cell_type": "code",
   "execution_count": 257,
   "id": "723c756f",
   "metadata": {},
   "outputs": [
    {
     "data": {
      "text/plain": [
       "Intravenous            0.534055\n",
       "Oral                   0.274882\n",
       "Subcutaneous           0.102057\n",
       "Intrajejunal           0.016642\n",
       "Intramuscular          0.016372\n",
       "Topical                0.014128\n",
       "Transdermal            0.012602\n",
       "Other/Miscellaneous    0.012261\n",
       "enteral                0.003249\n",
       "Intradermal            0.002495\n",
       "Name: Route, dtype: float64"
      ]
     },
     "execution_count": 257,
     "metadata": {},
     "output_type": "execute_result"
    }
   ],
   "source": [
    "(\n",
    "    med_admin_win['Route']\n",
    "    .value_counts(normalize = True)\n",
    "    .head(10)\n",
    ")"
   ]
  },
  {
   "cell_type": "code",
   "execution_count": 258,
   "id": "a89d330b",
   "metadata": {},
   "outputs": [
    {
     "data": {
      "text/plain": [
       "sodium/saline preparations    568\n",
       "heparin (porcine)             276\n",
       "filgrastim                     20\n",
       "dexamethasone                  16\n",
       "vitamin b12 preparations       14\n",
       "epoetin alfa                    7\n",
       "morphine                        5\n",
       "darbepoetin alfa                4\n",
       "ceftriaxone                     4\n",
       "ondansetron                     2\n",
       "Name: CommonDrugName, dtype: int64"
      ]
     },
     "execution_count": 258,
     "metadata": {},
     "output_type": "execute_result"
    }
   ],
   "source": [
    "(\n",
    "    med_admin_win\n",
    "    .query('Route == \"Intrajejunal\"')\n",
    "    .CommonDrugName\n",
    "    .value_counts()\n",
    "    .head(10)\n",
    ")"
   ]
  },
  {
   "cell_type": "markdown",
   "id": "980a13f1",
   "metadata": {},
   "source": [
    "#### Condensing"
   ]
  },
  {
   "cell_type": "code",
   "execution_count": 259,
   "id": "87f3cbd5",
   "metadata": {},
   "outputs": [],
   "source": [
    "# Select columns with indicator variables and PatientID, then collapse rows by PatientID and sum columns. \n",
    "med_admin_wide = (\n",
    "    med_admin_win\n",
    "    [med_admin_win.columns[med_admin_win.columns.str.contains('diag|PatientID')]]\n",
    "    .groupby('PatientID').sum()\n",
    ")"
   ]
  },
  {
   "cell_type": "code",
   "execution_count": 260,
   "id": "842c987a",
   "metadata": {},
   "outputs": [],
   "source": [
    "# Replace numbers greater than 1 with 1; 0 remains unchanged. \n",
    "med_admin_wide = (\n",
    "    med_admin_wide.mask(med_admin_wide > 1, 1)\n",
    "    .reset_index()\n",
    ")"
   ]
  },
  {
   "cell_type": "code",
   "execution_count": 261,
   "id": "a6ac1688",
   "metadata": {},
   "outputs": [
    {
     "data": {
      "text/plain": [
       "(3626, 3626)"
      ]
     },
     "execution_count": 261,
     "metadata": {},
     "output_type": "execute_result"
    }
   ],
   "source": [
    "row_ID(med_admin_wide)"
   ]
  },
  {
   "cell_type": "code",
   "execution_count": 262,
   "id": "262e0eaf",
   "metadata": {},
   "outputs": [],
   "source": [
    "# Append missing training IDs.\n",
    "med_admin_wide = (\n",
    "    med_admin_wide.append(\n",
    "        pd.Series(train_IDs)[~pd.Series(train_IDs).isin(med_admin_wide['PatientID'])].to_frame(name = 'PatientID'),\n",
    "        sort = False\n",
    "    )\n",
    "    .fillna(0)\n",
    ")"
   ]
  },
  {
   "cell_type": "code",
   "execution_count": 263,
   "id": "dbc68214",
   "metadata": {},
   "outputs": [
    {
     "data": {
      "text/plain": [
       "(25341, 25341)"
      ]
     },
     "execution_count": 263,
     "metadata": {},
     "output_type": "execute_result"
    }
   ],
   "source": [
    "row_ID(med_admin_wide)"
   ]
  },
  {
   "cell_type": "code",
   "execution_count": 264,
   "id": "fc371523",
   "metadata": {},
   "outputs": [
    {
     "data": {
      "text/plain": [
       "(25341, 14)"
      ]
     },
     "execution_count": 264,
     "metadata": {},
     "output_type": "execute_result"
    }
   ],
   "source": [
    "med_admin_wide.shape"
   ]
  },
  {
   "cell_type": "code",
   "execution_count": 265,
   "id": "7ef637bd",
   "metadata": {},
   "outputs": [
    {
     "data": {
      "text/html": [
       "<div>\n",
       "<style scoped>\n",
       "    .dataframe tbody tr th:only-of-type {\n",
       "        vertical-align: middle;\n",
       "    }\n",
       "\n",
       "    .dataframe tbody tr th {\n",
       "        vertical-align: top;\n",
       "    }\n",
       "\n",
       "    .dataframe thead th {\n",
       "        text-align: right;\n",
       "    }\n",
       "</style>\n",
       "<table border=\"1\" class=\"dataframe\">\n",
       "  <thead>\n",
       "    <tr style=\"text-align: right;\">\n",
       "      <th></th>\n",
       "      <th>PatientID</th>\n",
       "      <th>steroid_diag</th>\n",
       "      <th>opioid_PO_diag</th>\n",
       "      <th>nonopioid_PO_diag</th>\n",
       "      <th>pain_IV_diag</th>\n",
       "      <th>ac_diag</th>\n",
       "      <th>antiinfective_IV_diag</th>\n",
       "      <th>antiinfective_diag</th>\n",
       "      <th>antihyperglycemic_diag</th>\n",
       "      <th>ppi_diag</th>\n",
       "      <th>antidepressant_diag</th>\n",
       "      <th>bta_diag</th>\n",
       "      <th>thyroid_diag</th>\n",
       "      <th>is_diag</th>\n",
       "    </tr>\n",
       "  </thead>\n",
       "  <tbody>\n",
       "    <tr>\n",
       "      <th>1364</th>\n",
       "      <td>F1C613E1A9CFE</td>\n",
       "      <td>0.0</td>\n",
       "      <td>0.0</td>\n",
       "      <td>0.0</td>\n",
       "      <td>0.0</td>\n",
       "      <td>0.0</td>\n",
       "      <td>0.0</td>\n",
       "      <td>0.0</td>\n",
       "      <td>0.0</td>\n",
       "      <td>0.0</td>\n",
       "      <td>0.0</td>\n",
       "      <td>0.0</td>\n",
       "      <td>0.0</td>\n",
       "      <td>0.0</td>\n",
       "    </tr>\n",
       "    <tr>\n",
       "      <th>5472</th>\n",
       "      <td>F5B93352B49C3</td>\n",
       "      <td>0.0</td>\n",
       "      <td>0.0</td>\n",
       "      <td>0.0</td>\n",
       "      <td>0.0</td>\n",
       "      <td>0.0</td>\n",
       "      <td>0.0</td>\n",
       "      <td>0.0</td>\n",
       "      <td>0.0</td>\n",
       "      <td>0.0</td>\n",
       "      <td>0.0</td>\n",
       "      <td>0.0</td>\n",
       "      <td>0.0</td>\n",
       "      <td>0.0</td>\n",
       "    </tr>\n",
       "    <tr>\n",
       "      <th>6861</th>\n",
       "      <td>F696EE91CDA2B</td>\n",
       "      <td>0.0</td>\n",
       "      <td>0.0</td>\n",
       "      <td>0.0</td>\n",
       "      <td>0.0</td>\n",
       "      <td>0.0</td>\n",
       "      <td>0.0</td>\n",
       "      <td>0.0</td>\n",
       "      <td>0.0</td>\n",
       "      <td>0.0</td>\n",
       "      <td>0.0</td>\n",
       "      <td>0.0</td>\n",
       "      <td>0.0</td>\n",
       "      <td>0.0</td>\n",
       "    </tr>\n",
       "    <tr>\n",
       "      <th>1307</th>\n",
       "      <td>F055623532730</td>\n",
       "      <td>0.0</td>\n",
       "      <td>0.0</td>\n",
       "      <td>0.0</td>\n",
       "      <td>0.0</td>\n",
       "      <td>0.0</td>\n",
       "      <td>0.0</td>\n",
       "      <td>0.0</td>\n",
       "      <td>0.0</td>\n",
       "      <td>0.0</td>\n",
       "      <td>0.0</td>\n",
       "      <td>0.0</td>\n",
       "      <td>0.0</td>\n",
       "      <td>0.0</td>\n",
       "    </tr>\n",
       "    <tr>\n",
       "      <th>24179</th>\n",
       "      <td>F87174F4799A8</td>\n",
       "      <td>0.0</td>\n",
       "      <td>0.0</td>\n",
       "      <td>0.0</td>\n",
       "      <td>0.0</td>\n",
       "      <td>0.0</td>\n",
       "      <td>0.0</td>\n",
       "      <td>0.0</td>\n",
       "      <td>0.0</td>\n",
       "      <td>0.0</td>\n",
       "      <td>0.0</td>\n",
       "      <td>0.0</td>\n",
       "      <td>0.0</td>\n",
       "      <td>0.0</td>\n",
       "    </tr>\n",
       "  </tbody>\n",
       "</table>\n",
       "</div>"
      ],
      "text/plain": [
       "           PatientID  steroid_diag  opioid_PO_diag  nonopioid_PO_diag  \\\n",
       "1364   F1C613E1A9CFE           0.0             0.0                0.0   \n",
       "5472   F5B93352B49C3           0.0             0.0                0.0   \n",
       "6861   F696EE91CDA2B           0.0             0.0                0.0   \n",
       "1307   F055623532730           0.0             0.0                0.0   \n",
       "24179  F87174F4799A8           0.0             0.0                0.0   \n",
       "\n",
       "       pain_IV_diag  ac_diag  antiinfective_IV_diag  antiinfective_diag  \\\n",
       "1364            0.0      0.0                    0.0                 0.0   \n",
       "5472            0.0      0.0                    0.0                 0.0   \n",
       "6861            0.0      0.0                    0.0                 0.0   \n",
       "1307            0.0      0.0                    0.0                 0.0   \n",
       "24179           0.0      0.0                    0.0                 0.0   \n",
       "\n",
       "       antihyperglycemic_diag  ppi_diag  antidepressant_diag  bta_diag  \\\n",
       "1364                      0.0       0.0                  0.0       0.0   \n",
       "5472                      0.0       0.0                  0.0       0.0   \n",
       "6861                      0.0       0.0                  0.0       0.0   \n",
       "1307                      0.0       0.0                  0.0       0.0   \n",
       "24179                     0.0       0.0                  0.0       0.0   \n",
       "\n",
       "       thyroid_diag  is_diag  \n",
       "1364            0.0      0.0  \n",
       "5472            0.0      0.0  \n",
       "6861            0.0      0.0  \n",
       "1307            0.0      0.0  \n",
       "24179           0.0      0.0  "
      ]
     },
     "execution_count": 265,
     "metadata": {},
     "output_type": "execute_result"
    }
   ],
   "source": [
    "med_admin_wide.sample(5)"
   ]
  },
  {
   "cell_type": "code",
   "execution_count": 266,
   "id": "a73a0516",
   "metadata": {},
   "outputs": [
    {
     "data": {
      "text/plain": [
       "bta_diag                  0.038357\n",
       "steroid_diag              0.035279\n",
       "pain_IV_diag              0.031372\n",
       "antiinfective_IV_diag     0.023874\n",
       "opioid_PO_diag            0.021901\n",
       "nonopioid_PO_diag         0.021704\n",
       "ppi_diag                  0.010102\n",
       "antiinfective_diag        0.007695\n",
       "antidepressant_diag       0.006393\n",
       "antihyperglycemic_diag    0.004656\n",
       "ac_diag                   0.004222\n",
       "thyroid_diag              0.003275\n",
       "is_diag                   0.000276\n",
       "dtype: float64"
      ]
     },
     "execution_count": 266,
     "metadata": {},
     "output_type": "execute_result"
    }
   ],
   "source": [
    "# Percent of patients receiving relevant medications at time of metastatic diagnosis. \n",
    "(med_admin_wide.iloc[:, 1:].sum()/len(med_admin_wide)).sort_values(ascending = False)"
   ]
  },
  {
   "cell_type": "code",
   "execution_count": 267,
   "id": "3ec95199",
   "metadata": {},
   "outputs": [
    {
     "name": "stdout",
     "output_type": "stream",
     "text": [
      "Variable              Type         Data/Info\n",
      "--------------------------------------------\n",
      "demographics          DataFrame               PatientID gend<...>n[25341 rows x 7 columns]\n",
      "enhanced_met          DataFrame               PatientID diag<...>n[25341 rows x 7 columns]\n",
      "line_therapy          DataFrame               PatientID     <...>n[56675 rows x 9 columns]\n",
      "line_therapy_1        DataFrame               PatientID     <...>n[19518 rows x 9 columns]\n",
      "med_admin             DataFrame                 PatientID   <...>039811 rows x 15 columns]\n",
      "med_admin_wide        DataFrame               PatientID  ste<...>[25341 rows x 14 columns]\n",
      "med_admin_win         DataFrame                 PatientID   <...>[57119 rows x 28 columns]\n",
      "med_admin_win_chemo   DataFrame                 PatientID   <...>361165 rows x 15 columns]\n",
      "mortality             DataFrame               PatientID  dea<...>n[25341 rows x 3 columns]\n"
     ]
    }
   ],
   "source": [
    "%whos DataFrame"
   ]
  },
  {
   "cell_type": "code",
   "execution_count": 268,
   "id": "a23b6d83",
   "metadata": {},
   "outputs": [],
   "source": [
    "# Keep demographics, enhanced_met, med_admin_wide, and mortality\n",
    "del line_therapy\n",
    "del line_therapy_1\n",
    "del med_admin\n",
    "del med_admin_win\n",
    "del med_admin_win_chemo"
   ]
  },
  {
   "cell_type": "markdown",
   "id": "7dd2ebb4",
   "metadata": {},
   "source": [
    "### 5. Enhanced_MetBreastBiomarkers"
   ]
  },
  {
   "cell_type": "code",
   "execution_count": 269,
   "id": "9d770db5",
   "metadata": {},
   "outputs": [],
   "source": [
    "biomarkers = pd.read_csv('Enhanced_MetBreastBiomarkers.csv')"
   ]
  },
  {
   "cell_type": "code",
   "execution_count": 270,
   "id": "65768f92",
   "metadata": {},
   "outputs": [],
   "source": [
    "biomarkers = biomarkers[biomarkers['PatientID'].isin(train_IDs)]"
   ]
  },
  {
   "cell_type": "code",
   "execution_count": 271,
   "id": "48f7059d",
   "metadata": {},
   "outputs": [
    {
     "data": {
      "text/plain": [
       "(191261, 19)"
      ]
     },
     "execution_count": 271,
     "metadata": {},
     "output_type": "execute_result"
    }
   ],
   "source": [
    "biomarkers.shape"
   ]
  },
  {
   "cell_type": "code",
   "execution_count": 272,
   "id": "c2052234",
   "metadata": {},
   "outputs": [
    {
     "data": {
      "text/html": [
       "<div>\n",
       "<style scoped>\n",
       "    .dataframe tbody tr th:only-of-type {\n",
       "        vertical-align: middle;\n",
       "    }\n",
       "\n",
       "    .dataframe tbody tr th {\n",
       "        vertical-align: top;\n",
       "    }\n",
       "\n",
       "    .dataframe thead th {\n",
       "        text-align: right;\n",
       "    }\n",
       "</style>\n",
       "<table border=\"1\" class=\"dataframe\">\n",
       "  <thead>\n",
       "    <tr style=\"text-align: right;\">\n",
       "      <th></th>\n",
       "      <th>PatientID</th>\n",
       "      <th>BiomarkerName</th>\n",
       "      <th>CellType</th>\n",
       "      <th>SpecimenCollectedDate</th>\n",
       "      <th>SpecimenReceivedDate</th>\n",
       "      <th>ResultDate</th>\n",
       "      <th>BiomarkerStatus</th>\n",
       "      <th>SampleType</th>\n",
       "      <th>ExpressionLevel</th>\n",
       "      <th>TissueCollectionSite</th>\n",
       "      <th>TestType</th>\n",
       "      <th>LabName</th>\n",
       "      <th>Assay</th>\n",
       "      <th>DnaType</th>\n",
       "      <th>IHCClone</th>\n",
       "      <th>StainingIntensity</th>\n",
       "      <th>PercentStaining</th>\n",
       "      <th>CombinedPositiveScore</th>\n",
       "      <th>BiomarkerDetail</th>\n",
       "    </tr>\n",
       "  </thead>\n",
       "  <tbody>\n",
       "    <tr>\n",
       "      <th>209289</th>\n",
       "      <td>F35A6E3E21CB1</td>\n",
       "      <td>BRCA</td>\n",
       "      <td>NaN</td>\n",
       "      <td>2013-08-30</td>\n",
       "      <td>2013-09-03</td>\n",
       "      <td>2013-10-16</td>\n",
       "      <td>No BRCA mutation</td>\n",
       "      <td>Blood</td>\n",
       "      <td>NaN</td>\n",
       "      <td>NaN</td>\n",
       "      <td>NaN</td>\n",
       "      <td>Myriad</td>\n",
       "      <td>NaN</td>\n",
       "      <td>Germline</td>\n",
       "      <td>NaN</td>\n",
       "      <td>NaN</td>\n",
       "      <td>NaN</td>\n",
       "      <td>NaN</td>\n",
       "      <td>NaN</td>\n",
       "    </tr>\n",
       "    <tr>\n",
       "      <th>50545</th>\n",
       "      <td>FDBE3477F91DB</td>\n",
       "      <td>BRCA</td>\n",
       "      <td>NaN</td>\n",
       "      <td>2015-05-06</td>\n",
       "      <td>NaN</td>\n",
       "      <td>2015-06-05</td>\n",
       "      <td>No BRCA mutation</td>\n",
       "      <td>Tissue</td>\n",
       "      <td>NaN</td>\n",
       "      <td>NaN</td>\n",
       "      <td>NaN</td>\n",
       "      <td>Caris Life Sciences</td>\n",
       "      <td>NaN</td>\n",
       "      <td>Somatic</td>\n",
       "      <td>NaN</td>\n",
       "      <td>NaN</td>\n",
       "      <td>NaN</td>\n",
       "      <td>NaN</td>\n",
       "      <td>NaN</td>\n",
       "    </tr>\n",
       "    <tr>\n",
       "      <th>98544</th>\n",
       "      <td>FB0A58C422F26</td>\n",
       "      <td>HER2</td>\n",
       "      <td>NaN</td>\n",
       "      <td>2016-07-26</td>\n",
       "      <td>NaN</td>\n",
       "      <td>2016-08-02</td>\n",
       "      <td>IHC negative (0-1+)</td>\n",
       "      <td>Tissue</td>\n",
       "      <td>NaN</td>\n",
       "      <td>Primary site</td>\n",
       "      <td>NaN</td>\n",
       "      <td>NaN</td>\n",
       "      <td>NaN</td>\n",
       "      <td>NaN</td>\n",
       "      <td>NaN</td>\n",
       "      <td>NaN</td>\n",
       "      <td>NaN</td>\n",
       "      <td>NaN</td>\n",
       "      <td>NaN</td>\n",
       "    </tr>\n",
       "    <tr>\n",
       "      <th>88115</th>\n",
       "      <td>F991A15FAA992</td>\n",
       "      <td>HER2</td>\n",
       "      <td>NaN</td>\n",
       "      <td>2014-05-12</td>\n",
       "      <td>NaN</td>\n",
       "      <td>2014-05-18</td>\n",
       "      <td>FISH negative/not amplified</td>\n",
       "      <td>Tissue</td>\n",
       "      <td>NaN</td>\n",
       "      <td>Metastatic site</td>\n",
       "      <td>NaN</td>\n",
       "      <td>NaN</td>\n",
       "      <td>NaN</td>\n",
       "      <td>NaN</td>\n",
       "      <td>NaN</td>\n",
       "      <td>NaN</td>\n",
       "      <td>NaN</td>\n",
       "      <td>NaN</td>\n",
       "      <td>NaN</td>\n",
       "    </tr>\n",
       "    <tr>\n",
       "      <th>111607</th>\n",
       "      <td>F439F4F9F5F2D</td>\n",
       "      <td>ER</td>\n",
       "      <td>NaN</td>\n",
       "      <td>2007-10-15</td>\n",
       "      <td>NaN</td>\n",
       "      <td>2007-10-17</td>\n",
       "      <td>Positive</td>\n",
       "      <td>Tissue</td>\n",
       "      <td>NaN</td>\n",
       "      <td>Primary site</td>\n",
       "      <td>NaN</td>\n",
       "      <td>NaN</td>\n",
       "      <td>NaN</td>\n",
       "      <td>NaN</td>\n",
       "      <td>NaN</td>\n",
       "      <td>NaN</td>\n",
       "      <td>30% - 39.9%</td>\n",
       "      <td>NaN</td>\n",
       "      <td>NaN</td>\n",
       "    </tr>\n",
       "  </tbody>\n",
       "</table>\n",
       "</div>"
      ],
      "text/plain": [
       "            PatientID BiomarkerName CellType SpecimenCollectedDate  \\\n",
       "209289  F35A6E3E21CB1          BRCA      NaN            2013-08-30   \n",
       "50545   FDBE3477F91DB          BRCA      NaN            2015-05-06   \n",
       "98544   FB0A58C422F26          HER2      NaN            2016-07-26   \n",
       "88115   F991A15FAA992          HER2      NaN            2014-05-12   \n",
       "111607  F439F4F9F5F2D            ER      NaN            2007-10-15   \n",
       "\n",
       "       SpecimenReceivedDate  ResultDate              BiomarkerStatus  \\\n",
       "209289           2013-09-03  2013-10-16             No BRCA mutation   \n",
       "50545                   NaN  2015-06-05             No BRCA mutation   \n",
       "98544                   NaN  2016-08-02          IHC negative (0-1+)   \n",
       "88115                   NaN  2014-05-18  FISH negative/not amplified   \n",
       "111607                  NaN  2007-10-17                     Positive   \n",
       "\n",
       "       SampleType ExpressionLevel TissueCollectionSite TestType  \\\n",
       "209289      Blood             NaN                  NaN      NaN   \n",
       "50545      Tissue             NaN                  NaN      NaN   \n",
       "98544      Tissue             NaN         Primary site      NaN   \n",
       "88115      Tissue             NaN      Metastatic site      NaN   \n",
       "111607     Tissue             NaN         Primary site      NaN   \n",
       "\n",
       "                    LabName Assay   DnaType IHCClone StainingIntensity  \\\n",
       "209289               Myriad   NaN  Germline      NaN               NaN   \n",
       "50545   Caris Life Sciences   NaN   Somatic      NaN               NaN   \n",
       "98544                   NaN   NaN       NaN      NaN               NaN   \n",
       "88115                   NaN   NaN       NaN      NaN               NaN   \n",
       "111607                  NaN   NaN       NaN      NaN               NaN   \n",
       "\n",
       "       PercentStaining CombinedPositiveScore BiomarkerDetail  \n",
       "209289             NaN                   NaN             NaN  \n",
       "50545              NaN                   NaN             NaN  \n",
       "98544              NaN                   NaN             NaN  \n",
       "88115              NaN                   NaN             NaN  \n",
       "111607     30% - 39.9%                   NaN             NaN  "
      ]
     },
     "execution_count": 272,
     "metadata": {},
     "output_type": "execute_result"
    }
   ],
   "source": [
    "biomarkers.sample(5)"
   ]
  },
  {
   "cell_type": "code",
   "execution_count": 273,
   "id": "669c9b0f",
   "metadata": {},
   "outputs": [
    {
     "data": {
      "text/plain": [
       "BiomarkerName  BiomarkerStatus                              \n",
       "BRCA           No BRCA mutation                                 0.839607\n",
       "               Genetic Variant of Unknown Significance (VUS)    0.049156\n",
       "               BRCA2 mutation identified                        0.048803\n",
       "               BRCA1 mutation identified                        0.028604\n",
       "               Unsuccessful/indeterminate test                  0.023024\n",
       "               Unknown                                          0.004026\n",
       "               Results pending                                  0.002613\n",
       "               Genetic Variant Favor Polymorphism               0.001978\n",
       "               Both BRCA1 and BRCA2 mutations identified        0.001059\n",
       "               BRCA mutation NOS                                0.000918\n",
       "               Other                                            0.000212\n",
       "ER             Positive                                         0.745933\n",
       "               Negative                                         0.245246\n",
       "               Unknown                                          0.004754\n",
       "               Indeterminate result                             0.002652\n",
       "               Results pending                                  0.001415\n",
       "HER2           IHC negative (0-1+)                              0.380839\n",
       "               FISH negative/not amplified                      0.208281\n",
       "               IHC equivocal (2+)                               0.116419\n",
       "               IHC positive (3+)                                0.079321\n",
       "               Negative NOS                                     0.065159\n",
       "               FISH positive/amplified                          0.051440\n",
       "               NGS negative (ERBB2 not amplified)               0.047265\n",
       "               FISH equivocal                                   0.012901\n",
       "               Positive NOS                                     0.011378\n",
       "               Unsuccessful/indeterminate test                  0.010822\n",
       "               NGS positive (ERBB2 amplified)                   0.005092\n",
       "               Unknown                                          0.004748\n",
       "               Results pending                                  0.004551\n",
       "               Equivocal NOS                                    0.001097\n",
       "               NGS equivocal (ERBB2 amplification equivocal)    0.000688\n",
       "PDL1           PD-L1 negative/not detected                      0.422958\n",
       "               No interpretation given in report                0.416753\n",
       "               PD-L1 positive                                   0.084109\n",
       "               Unsuccessful/indeterminate test                  0.043606\n",
       "               Unknown                                          0.019993\n",
       "               Results pending                                  0.012582\n",
       "PIK3CA         Negative                                         0.560797\n",
       "               Positive                                         0.380301\n",
       "               Unsuccessful/indeterminate test                  0.053037\n",
       "               Unknown                                          0.003177\n",
       "               Results pending                                  0.002566\n",
       "               Equivocal                                        0.000122\n",
       "PR             Positive                                         0.537723\n",
       "               Negative                                         0.399855\n",
       "               Unknown                                          0.057631\n",
       "               Indeterminate result                             0.003207\n",
       "               Results pending                                  0.001584\n",
       "Name: BiomarkerStatus, dtype: float64"
      ]
     },
     "execution_count": 273,
     "metadata": {},
     "output_type": "execute_result"
    }
   ],
   "source": [
    "biomarkers.groupby('BiomarkerName')['BiomarkerStatus'].value_counts(normalize = True, dropna = False)"
   ]
  },
  {
   "cell_type": "markdown",
   "id": "39d06640",
   "metadata": {},
   "source": [
    "**The Biomarkers dataframe is in a long format. The goal is to build a single-row-per-patient dataframe with columns reflecting a patient's biomarker status within a predefined elgibility window. For this project, the elgibility window is defined as negative infinity to +30 days from time of diagnosis of metastatic disease (ie., index date).** \n",
    "\n",
    "**Regarding biomarker date information, result date is the date the biomarker result was first reported, and so represents the date on which the clinician would be expected to have information about the patient’s biomarker status to inform the course of treatment. Flatiron recommends using result date as the relevant biomarker test date and using specimen received date as the proxy when result date is not available. The gaps between collected date and either received or result date are substantially more variable.**\n",
    "\n",
    "**We'll begin by imputing specimen received date when result date is missing. Then we'll select all biomarkers that fall within the elbility window.**"
   ]
  },
  {
   "cell_type": "code",
   "execution_count": 274,
   "id": "2b6b8d55",
   "metadata": {},
   "outputs": [
    {
     "data": {
      "text/plain": [
       "0.018785847611379216"
      ]
     },
     "execution_count": 274,
     "metadata": {},
     "output_type": "execute_result"
    }
   ],
   "source": [
    "biomarkers['SpecimenCollectedDate'].isna().sum()/biomarkers.shape[0]"
   ]
  },
  {
   "cell_type": "code",
   "execution_count": 275,
   "id": "b8c32621",
   "metadata": {},
   "outputs": [
    {
     "data": {
      "text/plain": [
       "0.869089882411992"
      ]
     },
     "execution_count": 275,
     "metadata": {},
     "output_type": "execute_result"
    }
   ],
   "source": [
    "biomarkers['SpecimenReceivedDate'].isna().sum()/biomarkers.shape[0]"
   ]
  },
  {
   "cell_type": "code",
   "execution_count": 276,
   "id": "834c54f6",
   "metadata": {},
   "outputs": [
    {
     "data": {
      "text/plain": [
       "0.1293624941833411"
      ]
     },
     "execution_count": 276,
     "metadata": {},
     "output_type": "execute_result"
    }
   ],
   "source": [
    "biomarkers['ResultDate'].isna().sum()/biomarkers.shape[0]"
   ]
  },
  {
   "cell_type": "code",
   "execution_count": 277,
   "id": "addd3892",
   "metadata": {},
   "outputs": [],
   "source": [
    "biomarkers.loc[:, 'ResultDate'] = pd.to_datetime(biomarkers['ResultDate'])"
   ]
  },
  {
   "cell_type": "code",
   "execution_count": 278,
   "id": "98144753",
   "metadata": {},
   "outputs": [],
   "source": [
    "biomarkers.loc[:, 'SpecimenReceivedDate'] = pd.to_datetime(biomarkers['SpecimenReceivedDate'])"
   ]
  },
  {
   "cell_type": "code",
   "execution_count": 279,
   "id": "fdba8b24",
   "metadata": {},
   "outputs": [
    {
     "data": {
      "text/plain": [
       "0.006426319618462534"
      ]
     },
     "execution_count": 279,
     "metadata": {},
     "output_type": "execute_result"
    }
   ],
   "source": [
    "# Percenage of missing 'ResultDate' that can be replaced by 'SpecimenReceivedDate'. \n",
    "(\n",
    "    len(biomarkers[(biomarkers['ResultDate'].isna()) & (biomarkers['SpecimenReceivedDate'].notna())])\n",
    "    /len(biomarkers[biomarkers['ResultDate'].isna()])\n",
    ")"
   ]
  },
  {
   "cell_type": "code",
   "execution_count": 280,
   "id": "2e2f1b01",
   "metadata": {},
   "outputs": [],
   "source": [
    "# Replace missing result date with specimen received date. \n",
    "biomarkers.loc[:, 'result_date'] = (\n",
    "    np.where(biomarkers['ResultDate'].isna(), biomarkers['SpecimenReceivedDate'], biomarkers['ResultDate'])\n",
    ")"
   ]
  },
  {
   "cell_type": "code",
   "execution_count": 281,
   "id": "cc5e74d3",
   "metadata": {},
   "outputs": [
    {
     "data": {
      "text/plain": [
       "0.12853116944907744"
      ]
     },
     "execution_count": 281,
     "metadata": {},
     "output_type": "execute_result"
    }
   ],
   "source": [
    "# Final percent of biomarkers without a result date and thus will not be included. \n",
    "biomarkers['result_date'].isna().sum()/biomarkers.shape[0]"
   ]
  },
  {
   "cell_type": "code",
   "execution_count": 282,
   "id": "3a4df0a4",
   "metadata": {},
   "outputs": [],
   "source": [
    "biomarkers = pd.merge(biomarkers, enhanced_met[['PatientID', 'met_date']], on = 'PatientID', how = 'left')"
   ]
  },
  {
   "cell_type": "code",
   "execution_count": 283,
   "id": "5f67a5e1",
   "metadata": {},
   "outputs": [],
   "source": [
    "# Create new variable that captures difference in days between result date and metastatic diagnosis. \n",
    "biomarkers.loc[:, 'bio_date_diff'] = (biomarkers['result_date'] - biomarkers['met_date']).dt.days"
   ]
  },
  {
   "cell_type": "code",
   "execution_count": 284,
   "id": "6c411d0a",
   "metadata": {},
   "outputs": [],
   "source": [
    "# Select all patients with biomarkers < +30 from metastatic diagnosis. \n",
    "biomarker_win = biomarkers[biomarkers['bio_date_diff'] <= 30]"
   ]
  },
  {
   "cell_type": "markdown",
   "id": "0bd3f680",
   "metadata": {},
   "source": [
    "**The next step is defining positive and negative staus for each biomarker. For ER, PR, and HER2 the biomarker result closest to metastatic diagnosis will be selected. Positive will be selected over negative if both are on the same date.** \n",
    "\n",
    "**For BRCA and PIK3CA, status will be labeled as positive if ever positive and negative if always negative. Similarly for PDL1, the highest percent staining value is selected rather than value closest to metastatic diagnosis.**"
   ]
  },
  {
   "cell_type": "markdown",
   "id": "19ff188b",
   "metadata": {},
   "source": [
    "#### 5.1 Assigning patient-level biomarker status for ER, PR, and HER2"
   ]
  },
  {
   "cell_type": "code",
   "execution_count": 285,
   "id": "a7def42c",
   "metadata": {},
   "outputs": [],
   "source": [
    "# Identify positive and negative cases\n",
    "biomarker_name = [\n",
    "    'ER',\n",
    "    'PR',\n",
    "    'HER2']\n",
    "\n",
    "pos_neg = [\n",
    "    'Positive',\n",
    "    'IHC positive (3+)',\n",
    "    'FISH positive/amplified',\n",
    "    'Positive NOS',\n",
    "    'NGS positive (ERBB2 amplified)',\n",
    "    'Negative', \n",
    "    'IHC negative (0-1+)',\n",
    "    'FISH negative/not amplified',\n",
    "    'Negative NOS',\n",
    "    'NGS negative (ERBB2 not amplified)']"
   ]
  },
  {
   "cell_type": "code",
   "execution_count": 286,
   "id": "cd597193",
   "metadata": {},
   "outputs": [],
   "source": [
    "biomarker_hr_her2 = (\n",
    "    biomarker_win\n",
    "    .query('BiomarkerName == @biomarker_name')\n",
    "    .query('BiomarkerStatus == @pos_neg')\n",
    ")"
   ]
  },
  {
   "cell_type": "code",
   "execution_count": 287,
   "id": "924934d7",
   "metadata": {},
   "outputs": [
    {
     "data": {
      "text/plain": [
       "(103917, 21950)"
      ]
     },
     "execution_count": 287,
     "metadata": {},
     "output_type": "execute_result"
    }
   ],
   "source": [
    "row_ID(biomarker_hr_her2)"
   ]
  },
  {
   "cell_type": "code",
   "execution_count": 288,
   "id": "27e313fc",
   "metadata": {},
   "outputs": [],
   "source": [
    "# Create indicator variable where where 2 if positive, 1 if negative, and 0 if unknown or missing. \n",
    "conditions = [\n",
    "    (biomarker_hr_her2['BiomarkerStatus'] == 'Positive') | \n",
    "    (biomarker_hr_her2['BiomarkerStatus'] == 'IHC positive (3+)') | \n",
    "    (biomarker_hr_her2['BiomarkerStatus'] == 'FISH positive/amplified') |\n",
    "    (biomarker_hr_her2['BiomarkerStatus'] == 'Positive NOS') |\n",
    "    (biomarker_hr_her2['BiomarkerStatus'] == 'NGS positive (ERBB2 amplified)'), \n",
    "    (biomarker_hr_her2['BiomarkerStatus'] == 'Negative') |\n",
    "    (biomarker_hr_her2['BiomarkerStatus'] == 'IHC negative (0-1+)') |\n",
    "    (biomarker_hr_her2['BiomarkerStatus'] == 'FISH negative/not amplified') |\n",
    "    (biomarker_hr_her2['BiomarkerStatus'] == 'Negative NOS') |\n",
    "    (biomarker_hr_her2['BiomarkerStatus'] == 'NGS negative (ERBB2 not amplified)')]\n",
    "\n",
    "choices = [2,1]\n",
    "biomarker_hr_her2.loc[:, 'bio_status'] = np.select(conditions, choices)"
   ]
  },
  {
   "cell_type": "code",
   "execution_count": 289,
   "id": "e425d042",
   "metadata": {},
   "outputs": [],
   "source": [
    "biomarker_hr_her2_wide = (\n",
    "    biomarker_hr_her2\n",
    "    .sort_values(by = ['PatientID', 'BiomarkerName', 'result_date', 'bio_status'], ascending = [True, True, False, False])\n",
    "    .drop_duplicates(subset = ['PatientID', 'BiomarkerName'], keep = 'first')\n",
    "    .pivot(index = 'PatientID', columns = 'BiomarkerName', values = 'bio_status')\n",
    "    .reset_index()\n",
    ")"
   ]
  },
  {
   "cell_type": "code",
   "execution_count": 290,
   "id": "163155a4",
   "metadata": {},
   "outputs": [
    {
     "data": {
      "text/plain": [
       "(21950, 21950)"
      ]
     },
     "execution_count": 290,
     "metadata": {},
     "output_type": "execute_result"
    }
   ],
   "source": [
    "row_ID(biomarker_hr_her2_wide)"
   ]
  },
  {
   "cell_type": "code",
   "execution_count": 291,
   "id": "7f0652f7",
   "metadata": {},
   "outputs": [],
   "source": [
    "biomarker_hr_her2_wide = (\n",
    "    biomarker_hr_her2_wide\n",
    "    .append(\n",
    "        pd.Series(train_IDs)[~pd.Series(train_IDs).isin(biomarker_hr_her2_wide['PatientID'])].to_frame(name = 'PatientID'),\n",
    "        sort = False)\n",
    "    .fillna(0)\n",
    ")"
   ]
  },
  {
   "cell_type": "code",
   "execution_count": 292,
   "id": "691c8d5a",
   "metadata": {},
   "outputs": [
    {
     "data": {
      "text/plain": [
       "(25341, 25341)"
      ]
     },
     "execution_count": 292,
     "metadata": {},
     "output_type": "execute_result"
    }
   ],
   "source": [
    "row_ID(biomarker_hr_her2_wide)"
   ]
  },
  {
   "cell_type": "markdown",
   "id": "d6a4317f",
   "metadata": {},
   "source": [
    "#### 5.2 Assigning patient-level biomarker status for BRCA and PIK3CA"
   ]
  },
  {
   "cell_type": "code",
   "execution_count": 293,
   "id": "fcb963a0",
   "metadata": {},
   "outputs": [],
   "source": [
    "biomarker_brca_pik = (\n",
    "    biomarker_win\n",
    "    .query('BiomarkerName == \"BRCA\" or BiomarkerName == \"PIK3CA\"')\n",
    ")"
   ]
  },
  {
   "cell_type": "code",
   "execution_count": 294,
   "id": "edd1a296",
   "metadata": {},
   "outputs": [
    {
     "data": {
      "text/plain": [
       "(6910, 4928)"
      ]
     },
     "execution_count": 294,
     "metadata": {},
     "output_type": "execute_result"
    }
   ],
   "source": [
    "row_ID(biomarker_brca_pik)"
   ]
  },
  {
   "cell_type": "code",
   "execution_count": 295,
   "id": "ab5dbf27",
   "metadata": {},
   "outputs": [
    {
     "name": "stderr",
     "output_type": "stream",
     "text": [
      "/Applications/anaconda3/lib/python3.7/site-packages/pandas/core/indexing.py:1667: SettingWithCopyWarning: \n",
      "A value is trying to be set on a copy of a slice from a DataFrame.\n",
      "Try using .loc[row_indexer,col_indexer] = value instead\n",
      "\n",
      "See the caveats in the documentation: https://pandas.pydata.org/pandas-docs/stable/user_guide/indexing.html#returning-a-view-versus-a-copy\n",
      "  self.obj[key] = value\n"
     ]
    }
   ],
   "source": [
    "# Create indicator variable where where 2 if positive, 1 if negative, and 0 if unknown or missing. \n",
    "conditions = [\n",
    "    (biomarker_brca_pik['BiomarkerStatus'] == 'BRCA1 mutation identified') |\n",
    "    (biomarker_brca_pik['BiomarkerStatus'] == 'BRCA2 mutation identified') |\n",
    "    (biomarker_brca_pik['BiomarkerStatus'] == 'Both BRCA1 and BRCA2 mutations identified') |\n",
    "    (biomarker_brca_pik['BiomarkerStatus'] == 'BRCA mutation NOS') | \n",
    "    (biomarker_brca_pik['BiomarkerStatus'] == 'Positive'), \n",
    "    (biomarker_brca_pik['BiomarkerStatus'] == 'No BRCA mutation') |\n",
    "    (biomarker_brca_pik['BiomarkerStatus'] == 'Genetic Variant of Unknown Significance (VUS)') |\n",
    "    (biomarker_brca_pik['BiomarkerStatus'] == 'Genetic Variant Favor Polymorphism') |\n",
    "    (biomarker_brca_pik['BiomarkerStatus'] == 'Negative')]\n",
    "\n",
    "choices = [2,1]\n",
    "biomarker_brca_pik.loc[:, 'bio_status'] = np.select(conditions, choices, default = 0)"
   ]
  },
  {
   "cell_type": "code",
   "execution_count": 296,
   "id": "d49bd5ba",
   "metadata": {},
   "outputs": [],
   "source": [
    "# Select biomarker status closest to metastatic diagnosis among duplicates, merge with nonduplciates, then pivot. \n",
    "biomarker_brca_pik_wide = (\n",
    "    biomarker_brca_pik\n",
    "    .sort_values(by = ['PatientID', 'BiomarkerName', 'bio_status'], ascending = False)\n",
    "    .drop_duplicates(subset = ['PatientID', 'BiomarkerName'], keep = 'first')\n",
    "    .pivot(index = 'PatientID', columns = 'BiomarkerName', values = 'bio_status')\n",
    "    .reset_index()\n",
    ")\n",
    "biomarker_hr_her2_wide.columns.name = None"
   ]
  },
  {
   "cell_type": "code",
   "execution_count": 297,
   "id": "c7393111",
   "metadata": {},
   "outputs": [
    {
     "data": {
      "text/plain": [
       "(4928, 4928)"
      ]
     },
     "execution_count": 297,
     "metadata": {},
     "output_type": "execute_result"
    }
   ],
   "source": [
    "row_ID(biomarker_brca_pik_wide)"
   ]
  },
  {
   "cell_type": "code",
   "execution_count": 298,
   "id": "32c399a4",
   "metadata": {},
   "outputs": [],
   "source": [
    "biomarker_brca_pik_wide = (\n",
    "    biomarker_brca_pik_wide\n",
    "    .append(\n",
    "        pd.Series(train_IDs)[~pd.Series(train_IDs).isin(biomarker_brca_pik_wide['PatientID'])].to_frame(name = 'PatientID'),\n",
    "        sort = False)\n",
    "    .fillna(0)\n",
    ")"
   ]
  },
  {
   "cell_type": "code",
   "execution_count": 299,
   "id": "7ba5982d",
   "metadata": {},
   "outputs": [
    {
     "data": {
      "text/plain": [
       "(25341, 25341)"
      ]
     },
     "execution_count": 299,
     "metadata": {},
     "output_type": "execute_result"
    }
   ],
   "source": [
    "row_ID(biomarker_brca_pik_wide)"
   ]
  },
  {
   "cell_type": "code",
   "execution_count": 300,
   "id": "57793615",
   "metadata": {},
   "outputs": [],
   "source": [
    "biomarker_notpdl1_wide = pd.merge(biomarker_hr_her2_wide, biomarker_brca_pik_wide, on = 'PatientID')"
   ]
  },
  {
   "cell_type": "code",
   "execution_count": 301,
   "id": "433ea606",
   "metadata": {},
   "outputs": [
    {
     "data": {
      "text/plain": [
       "(25341, 25341)"
      ]
     },
     "execution_count": 301,
     "metadata": {},
     "output_type": "execute_result"
    }
   ],
   "source": [
    "row_ID(biomarker_notpdl1_wide)"
   ]
  },
  {
   "cell_type": "code",
   "execution_count": 302,
   "id": "1a93c41a",
   "metadata": {},
   "outputs": [],
   "source": [
    "biomarker_notpdl1_wide['BRCA'] = (\n",
    "    biomarker_notpdl1_wide['BRCA'].replace({\n",
    "        2: 'positive',\n",
    "        1: 'negative',\n",
    "        0: 'unknown',\n",
    "        np.nan: 'unknown'})\n",
    ")"
   ]
  },
  {
   "cell_type": "code",
   "execution_count": 303,
   "id": "0b71e2c4",
   "metadata": {},
   "outputs": [],
   "source": [
    "biomarker_notpdl1_wide['ER'] = (\n",
    "    biomarker_notpdl1_wide['ER'].replace({\n",
    "        2: 'positive',\n",
    "        1: 'negative',\n",
    "        0: 'unknown',\n",
    "        np.nan: 'unknown'})\n",
    ")"
   ]
  },
  {
   "cell_type": "code",
   "execution_count": 304,
   "id": "77ab6cb1",
   "metadata": {},
   "outputs": [],
   "source": [
    "biomarker_notpdl1_wide['HER2'] = (\n",
    "    biomarker_notpdl1_wide['HER2'].replace({\n",
    "        2: 'positive',\n",
    "        1: 'negative',\n",
    "        0: 'unknown',\n",
    "        np.nan: 'unknown'})\n",
    ")"
   ]
  },
  {
   "cell_type": "code",
   "execution_count": 305,
   "id": "ab161f3e",
   "metadata": {},
   "outputs": [],
   "source": [
    "biomarker_notpdl1_wide['PIK3CA'] = (\n",
    "    biomarker_notpdl1_wide['PIK3CA'].replace({\n",
    "        2: 'positive',\n",
    "        1: 'negative',\n",
    "        0: 'unknown',\n",
    "        np.nan: 'unknown'})\n",
    ")"
   ]
  },
  {
   "cell_type": "code",
   "execution_count": 306,
   "id": "09471587",
   "metadata": {},
   "outputs": [],
   "source": [
    "biomarker_notpdl1_wide['PR'] = (\n",
    "    biomarker_notpdl1_wide['PR'].replace({\n",
    "        2: 'positive',\n",
    "        1: 'negative',\n",
    "        0: 'unknown',\n",
    "        np.nan: 'unknown'})\n",
    ")"
   ]
  },
  {
   "cell_type": "code",
   "execution_count": 307,
   "id": "9feb8aca",
   "metadata": {},
   "outputs": [
    {
     "data": {
      "text/html": [
       "<div>\n",
       "<style scoped>\n",
       "    .dataframe tbody tr th:only-of-type {\n",
       "        vertical-align: middle;\n",
       "    }\n",
       "\n",
       "    .dataframe tbody tr th {\n",
       "        vertical-align: top;\n",
       "    }\n",
       "\n",
       "    .dataframe thead th {\n",
       "        text-align: right;\n",
       "    }\n",
       "</style>\n",
       "<table border=\"1\" class=\"dataframe\">\n",
       "  <thead>\n",
       "    <tr style=\"text-align: right;\">\n",
       "      <th></th>\n",
       "      <th>PatientID</th>\n",
       "      <th>ER</th>\n",
       "      <th>HER2</th>\n",
       "      <th>PR</th>\n",
       "      <th>BRCA</th>\n",
       "      <th>PIK3CA</th>\n",
       "    </tr>\n",
       "  </thead>\n",
       "  <tbody>\n",
       "    <tr>\n",
       "      <th>17917</th>\n",
       "      <td>FD10F8F03E1E5</td>\n",
       "      <td>positive</td>\n",
       "      <td>negative</td>\n",
       "      <td>positive</td>\n",
       "      <td>negative</td>\n",
       "      <td>unknown</td>\n",
       "    </tr>\n",
       "    <tr>\n",
       "      <th>10191</th>\n",
       "      <td>F76612B2990C7</td>\n",
       "      <td>positive</td>\n",
       "      <td>positive</td>\n",
       "      <td>negative</td>\n",
       "      <td>unknown</td>\n",
       "      <td>unknown</td>\n",
       "    </tr>\n",
       "    <tr>\n",
       "      <th>20985</th>\n",
       "      <td>FF417A9830280</td>\n",
       "      <td>positive</td>\n",
       "      <td>negative</td>\n",
       "      <td>negative</td>\n",
       "      <td>negative</td>\n",
       "      <td>unknown</td>\n",
       "    </tr>\n",
       "    <tr>\n",
       "      <th>8585</th>\n",
       "      <td>F63F941561C9C</td>\n",
       "      <td>positive</td>\n",
       "      <td>negative</td>\n",
       "      <td>positive</td>\n",
       "      <td>unknown</td>\n",
       "      <td>unknown</td>\n",
       "    </tr>\n",
       "    <tr>\n",
       "      <th>23970</th>\n",
       "      <td>F0259EAB1ACC6</td>\n",
       "      <td>unknown</td>\n",
       "      <td>unknown</td>\n",
       "      <td>unknown</td>\n",
       "      <td>unknown</td>\n",
       "      <td>unknown</td>\n",
       "    </tr>\n",
       "  </tbody>\n",
       "</table>\n",
       "</div>"
      ],
      "text/plain": [
       "           PatientID        ER      HER2        PR      BRCA   PIK3CA\n",
       "17917  FD10F8F03E1E5  positive  negative  positive  negative  unknown\n",
       "10191  F76612B2990C7  positive  positive  negative   unknown  unknown\n",
       "20985  FF417A9830280  positive  negative  negative  negative  unknown\n",
       "8585   F63F941561C9C  positive  negative  positive   unknown  unknown\n",
       "23970  F0259EAB1ACC6   unknown   unknown   unknown   unknown  unknown"
      ]
     },
     "execution_count": 307,
     "metadata": {},
     "output_type": "execute_result"
    }
   ],
   "source": [
    "biomarker_notpdl1_wide.sample(5)"
   ]
  },
  {
   "cell_type": "code",
   "execution_count": 308,
   "id": "e2a7fe9d",
   "metadata": {},
   "outputs": [
    {
     "data": {
      "text/plain": [
       "ER      \n",
       "positive    0.646462\n",
       "negative    0.212107\n",
       "unknown     0.141431\n",
       "dtype: float64"
      ]
     },
     "execution_count": 308,
     "metadata": {},
     "output_type": "execute_result"
    }
   ],
   "source": [
    "biomarker_notpdl1_wide[['ER']].value_counts(normalize = True, dropna = False)"
   ]
  },
  {
   "cell_type": "code",
   "execution_count": 309,
   "id": "6dca70b8",
   "metadata": {},
   "outputs": [
    {
     "data": {
      "text/plain": [
       "PR      \n",
       "positive    0.480289\n",
       "negative    0.364232\n",
       "unknown     0.155479\n",
       "dtype: float64"
      ]
     },
     "execution_count": 309,
     "metadata": {},
     "output_type": "execute_result"
    }
   ],
   "source": [
    "biomarker_notpdl1_wide[['PR']].value_counts(normalize = True, dropna = False)"
   ]
  },
  {
   "cell_type": "code",
   "execution_count": 310,
   "id": "225d4bd1",
   "metadata": {},
   "outputs": [
    {
     "data": {
      "text/plain": [
       "HER2    \n",
       "negative    0.667574\n",
       "unknown     0.182826\n",
       "positive    0.149599\n",
       "dtype: float64"
      ]
     },
     "execution_count": 310,
     "metadata": {},
     "output_type": "execute_result"
    }
   ],
   "source": [
    "biomarker_notpdl1_wide[['HER2']].value_counts(normalize = True, dropna = False)"
   ]
  },
  {
   "cell_type": "code",
   "execution_count": 311,
   "id": "9a05ac3c",
   "metadata": {},
   "outputs": [
    {
     "data": {
      "text/plain": [
       "BRCA    \n",
       "unknown     0.814411\n",
       "negative    0.168581\n",
       "positive    0.017008\n",
       "dtype: float64"
      ]
     },
     "execution_count": 311,
     "metadata": {},
     "output_type": "execute_result"
    }
   ],
   "source": [
    "biomarker_notpdl1_wide[['BRCA']].value_counts(normalize = True, dropna = False)"
   ]
  },
  {
   "cell_type": "code",
   "execution_count": 312,
   "id": "a7d0b1d6",
   "metadata": {},
   "outputs": [
    {
     "data": {
      "text/plain": [
       "PIK3CA  \n",
       "unknown     0.951620\n",
       "negative    0.031412\n",
       "positive    0.016969\n",
       "dtype: float64"
      ]
     },
     "execution_count": 312,
     "metadata": {},
     "output_type": "execute_result"
    }
   ],
   "source": [
    "biomarker_notpdl1_wide[['PIK3CA']].value_counts(normalize = True, dropna = False)"
   ]
  },
  {
   "cell_type": "markdown",
   "id": "f480f17b",
   "metadata": {},
   "source": [
    "#### 5.3 Assigning patient-level PD-L1"
   ]
  },
  {
   "cell_type": "markdown",
   "id": "00cb1eb3",
   "metadata": {},
   "source": [
    "**Flatiron recommends using PercentStaining as the primary source of truth to assess PD-L1 status over other options in the Biomarker table. For patients with multiple PDL1 testing instances, the maximum PercentStaining level will be selected and assigned to the patient. PD-L1 testing instances from earlier years, specifically before 2017, are likely to be missing PercentStaining values** "
   ]
  },
  {
   "cell_type": "code",
   "execution_count": 313,
   "id": "d7451036",
   "metadata": {},
   "outputs": [
    {
     "data": {
      "text/plain": [
       "61"
      ]
     },
     "execution_count": 313,
     "metadata": {},
     "output_type": "execute_result"
    }
   ],
   "source": [
    "# Number of patients with PDL1 testing prior to 12/31/2016.\n",
    "biomarker_win.query('BiomarkerName == \"PDL1\"').query('result_date < \"2017-01-01\"').PatientID.nunique()"
   ]
  },
  {
   "cell_type": "code",
   "execution_count": 314,
   "id": "89622f62",
   "metadata": {},
   "outputs": [
    {
     "data": {
      "text/plain": [
       "0.3222293401665599"
      ]
     },
     "execution_count": 314,
     "metadata": {},
     "output_type": "execute_result"
    }
   ],
   "source": [
    "# Percent of patients with missing PDL1 percent staining. \n",
    "(\n",
    "    biomarker_win\n",
    "    .query('BiomarkerName == \"PDL1\"')\n",
    "    .PercentStaining\n",
    "    .value_counts(normalize = True, dropna = False)\n",
    "    .loc[np.nan]\n",
    ")"
   ]
  },
  {
   "cell_type": "code",
   "execution_count": 315,
   "id": "f7184b4c",
   "metadata": {},
   "outputs": [
    {
     "data": {
      "text/plain": [
       "0.2777777777777778"
      ]
     },
     "execution_count": 315,
     "metadata": {},
     "output_type": "execute_result"
    }
   ],
   "source": [
    "# Percent of patients with missing PDL1 percent staining occuring prior to 2017.\n",
    "(\n",
    "    biomarker_win\n",
    "    .query('BiomarkerName == \"PDL1\"')\n",
    "    .query('result_date <= \"2016-12-31\"')\n",
    "    .PercentStaining\n",
    "    .value_counts(normalize = True, dropna = False)\n",
    "    .loc[np.nan]\n",
    ")"
   ]
  },
  {
   "cell_type": "code",
   "execution_count": 316,
   "id": "3c5f53e7",
   "metadata": {},
   "outputs": [
    {
     "data": {
      "text/plain": [
       "0.04612427930813581"
      ]
     },
     "execution_count": 316,
     "metadata": {},
     "output_type": "execute_result"
    }
   ],
   "source": [
    "# Percent of PDL1 results that occur before 2017. \n",
    "(\n",
    "    biomarker_win\n",
    "    .query('BiomarkerName == \"PDL1\"')\n",
    "    .query('result_date <= \"2016-12-31\"')\n",
    "    .shape[0]\n",
    "    /len(biomarker_win.query('BiomarkerName == \"PDL1\"'))\n",
    ")"
   ]
  },
  {
   "cell_type": "code",
   "execution_count": 317,
   "id": "b1f393f5",
   "metadata": {},
   "outputs": [],
   "source": [
    "biomarker_win_pdl1 = (\n",
    "    biomarker_win\n",
    "    .query('BiomarkerName == \"PDL1\"')\n",
    ")"
   ]
  },
  {
   "cell_type": "code",
   "execution_count": 318,
   "id": "c1402c65",
   "metadata": {},
   "outputs": [
    {
     "data": {
      "text/plain": [
       "(1561, 1071)"
      ]
     },
     "execution_count": 318,
     "metadata": {},
     "output_type": "execute_result"
    }
   ],
   "source": [
    "row_ID(biomarker_win_pdl1)"
   ]
  },
  {
   "cell_type": "code",
   "execution_count": 319,
   "id": "47563a57",
   "metadata": {},
   "outputs": [
    {
     "name": "stderr",
     "output_type": "stream",
     "text": [
      "/Applications/anaconda3/lib/python3.7/site-packages/pandas/core/indexing.py:1667: SettingWithCopyWarning: \n",
      "A value is trying to be set on a copy of a slice from a DataFrame.\n",
      "Try using .loc[row_indexer,col_indexer] = value instead\n",
      "\n",
      "See the caveats in the documentation: https://pandas.pydata.org/pandas-docs/stable/user_guide/indexing.html#returning-a-view-versus-a-copy\n",
      "  self.obj[key] = value\n"
     ]
    }
   ],
   "source": [
    "pdl1_dict = { \n",
    "    np.nan: 0,\n",
    "    '0%': 1, \n",
    "    '< 1%': 2,\n",
    "    '1%': 3, \n",
    "    '2% - 4%': 4,\n",
    "    '5% - 9%': 5,\n",
    "    '10% - 19%': 6,  \n",
    "    '20% - 29%': 7, \n",
    "    '30% - 39%': 8, \n",
    "    '40% - 49%': 9, \n",
    "    '50% - 59%': 10, \n",
    "    '60% - 69%': 11, \n",
    "    '70% - 79%': 12, \n",
    "    '80% - 89%': 13, \n",
    "    '90% - 99%': 14,\n",
    "    '100%': 15\n",
    "}\n",
    "\n",
    "biomarker_win_pdl1.loc[:, 'percent_staining'] = biomarker_win_pdl1['PercentStaining'].map(pdl1_dict)"
   ]
  },
  {
   "cell_type": "code",
   "execution_count": 320,
   "id": "fac9ebf9",
   "metadata": {},
   "outputs": [],
   "source": [
    "biomarker_pdl1_staining = (\n",
    "    biomarker_win_pdl1\n",
    "    .sort_values(by = ['PatientID', 'percent_staining'], ascending = False)\n",
    "    .drop_duplicates(subset = ['PatientID'], keep = 'first')\n",
    "    .pivot(index = 'PatientID', columns = 'BiomarkerName', values = 'percent_staining')\n",
    "    .rename(columns = {'PDL1': 'pdl1_staining'})\n",
    "    .reset_index()\n",
    ")\n",
    "biomarker_pdl1_staining.columns.name = None"
   ]
  },
  {
   "cell_type": "code",
   "execution_count": 321,
   "id": "0cbd212e",
   "metadata": {},
   "outputs": [
    {
     "data": {
      "text/plain": [
       "(1071, 1071)"
      ]
     },
     "execution_count": 321,
     "metadata": {},
     "output_type": "execute_result"
    }
   ],
   "source": [
    "row_ID(biomarker_pdl1_staining)"
   ]
  },
  {
   "cell_type": "code",
   "execution_count": 322,
   "id": "cb732a25",
   "metadata": {},
   "outputs": [
    {
     "data": {
      "text/html": [
       "<div>\n",
       "<style scoped>\n",
       "    .dataframe tbody tr th:only-of-type {\n",
       "        vertical-align: middle;\n",
       "    }\n",
       "\n",
       "    .dataframe tbody tr th {\n",
       "        vertical-align: top;\n",
       "    }\n",
       "\n",
       "    .dataframe thead th {\n",
       "        text-align: right;\n",
       "    }\n",
       "</style>\n",
       "<table border=\"1\" class=\"dataframe\">\n",
       "  <thead>\n",
       "    <tr style=\"text-align: right;\">\n",
       "      <th></th>\n",
       "      <th>PatientID</th>\n",
       "      <th>pdl1_staining</th>\n",
       "    </tr>\n",
       "  </thead>\n",
       "  <tbody>\n",
       "    <tr>\n",
       "      <th>873</th>\n",
       "      <td>FCFB00596AABA</td>\n",
       "      <td>3</td>\n",
       "    </tr>\n",
       "    <tr>\n",
       "      <th>612</th>\n",
       "      <td>F9286A2B8694D</td>\n",
       "      <td>2</td>\n",
       "    </tr>\n",
       "    <tr>\n",
       "      <th>259</th>\n",
       "      <td>F3CC443362B7B</td>\n",
       "      <td>2</td>\n",
       "    </tr>\n",
       "    <tr>\n",
       "      <th>900</th>\n",
       "      <td>FD5131DADDE96</td>\n",
       "      <td>13</td>\n",
       "    </tr>\n",
       "    <tr>\n",
       "      <th>105</th>\n",
       "      <td>F153D51D1D3D5</td>\n",
       "      <td>1</td>\n",
       "    </tr>\n",
       "  </tbody>\n",
       "</table>\n",
       "</div>"
      ],
      "text/plain": [
       "         PatientID  pdl1_staining\n",
       "873  FCFB00596AABA              3\n",
       "612  F9286A2B8694D              2\n",
       "259  F3CC443362B7B              2\n",
       "900  FD5131DADDE96             13\n",
       "105  F153D51D1D3D5              1"
      ]
     },
     "execution_count": 322,
     "metadata": {},
     "output_type": "execute_result"
    }
   ],
   "source": [
    "biomarker_pdl1_staining.sample(5)"
   ]
  },
  {
   "cell_type": "code",
   "execution_count": 323,
   "id": "f9693f56",
   "metadata": {},
   "outputs": [
    {
     "data": {
      "text/plain": [
       "0.27824463118580767"
      ]
     },
     "execution_count": 323,
     "metadata": {},
     "output_type": "execute_result"
    }
   ],
   "source": [
    "# Percentage of patients with unknown percent staining. \n",
    "(\n",
    "    biomarker_pdl1_staining\n",
    "    .query('pdl1_staining == 0')\n",
    "    .shape[0]\n",
    "    /len(biomarker_pdl1_staining)\n",
    ")"
   ]
  },
  {
   "cell_type": "code",
   "execution_count": 324,
   "id": "60218fb5",
   "metadata": {},
   "outputs": [],
   "source": [
    "pdl1_dict_rev = { \n",
    "    0: np.nan,\n",
    "    1: '0%', \n",
    "    2: '0%',\n",
    "    3: '>1%', \n",
    "    4: '>1%',\n",
    "    5: '>1%',\n",
    "    6: '>1%',  \n",
    "    7: '>1%', \n",
    "    8: '>1%', \n",
    "    9: '>1%', \n",
    "    10: '>1%', \n",
    "    11: '>1%', \n",
    "    12: '>1%', \n",
    "    13: '>1%', \n",
    "    14: '>1%',\n",
    "    15: '>1%'\n",
    "}\n",
    "\n",
    "biomarker_pdl1_staining.loc[:, 'pdl1_staining'] = biomarker_pdl1_staining['pdl1_staining'].map(pdl1_dict_rev)"
   ]
  },
  {
   "cell_type": "code",
   "execution_count": 325,
   "id": "fad62c95",
   "metadata": {},
   "outputs": [],
   "source": [
    "biomarker_pdl1_staining_wide = (\n",
    "    biomarker_pdl1_staining\n",
    "    .append(\n",
    "        pd.Series(train_IDs)[~pd.Series(train_IDs).isin(biomarker_pdl1_staining['PatientID'])].to_frame(name = 'PatientID'),\n",
    "        sort = False)\n",
    "    .fillna('unknown')\n",
    ")"
   ]
  },
  {
   "cell_type": "code",
   "execution_count": 326,
   "id": "674b6122",
   "metadata": {},
   "outputs": [
    {
     "data": {
      "text/html": [
       "<div>\n",
       "<style scoped>\n",
       "    .dataframe tbody tr th:only-of-type {\n",
       "        vertical-align: middle;\n",
       "    }\n",
       "\n",
       "    .dataframe tbody tr th {\n",
       "        vertical-align: top;\n",
       "    }\n",
       "\n",
       "    .dataframe thead th {\n",
       "        text-align: right;\n",
       "    }\n",
       "</style>\n",
       "<table border=\"1\" class=\"dataframe\">\n",
       "  <thead>\n",
       "    <tr style=\"text-align: right;\">\n",
       "      <th></th>\n",
       "      <th>PatientID</th>\n",
       "      <th>pdl1_staining</th>\n",
       "    </tr>\n",
       "  </thead>\n",
       "  <tbody>\n",
       "    <tr>\n",
       "      <th>15280</th>\n",
       "      <td>F706F751D6091</td>\n",
       "      <td>unknown</td>\n",
       "    </tr>\n",
       "    <tr>\n",
       "      <th>372</th>\n",
       "      <td>F58229AE6CDDB</td>\n",
       "      <td>unknown</td>\n",
       "    </tr>\n",
       "    <tr>\n",
       "      <th>5699</th>\n",
       "      <td>F7A03D1F6AB82</td>\n",
       "      <td>unknown</td>\n",
       "    </tr>\n",
       "    <tr>\n",
       "      <th>11781</th>\n",
       "      <td>F70FD7E4F14EE</td>\n",
       "      <td>unknown</td>\n",
       "    </tr>\n",
       "    <tr>\n",
       "      <th>656</th>\n",
       "      <td>F9BE205B0D7EA</td>\n",
       "      <td>&gt;1%</td>\n",
       "    </tr>\n",
       "  </tbody>\n",
       "</table>\n",
       "</div>"
      ],
      "text/plain": [
       "           PatientID pdl1_staining\n",
       "15280  F706F751D6091       unknown\n",
       "372    F58229AE6CDDB       unknown\n",
       "5699   F7A03D1F6AB82       unknown\n",
       "11781  F70FD7E4F14EE       unknown\n",
       "656    F9BE205B0D7EA           >1%"
      ]
     },
     "execution_count": 326,
     "metadata": {},
     "output_type": "execute_result"
    }
   ],
   "source": [
    "biomarker_pdl1_staining_wide.sample(5)"
   ]
  },
  {
   "cell_type": "code",
   "execution_count": 327,
   "id": "0be7c8d9",
   "metadata": {},
   "outputs": [
    {
     "data": {
      "text/plain": [
       "(25341, 2)"
      ]
     },
     "execution_count": 327,
     "metadata": {},
     "output_type": "execute_result"
    }
   ],
   "source": [
    "biomarker_pdl1_staining_wide.shape"
   ]
  },
  {
   "cell_type": "markdown",
   "id": "e66cf42c",
   "metadata": {},
   "source": [
    "**Flatiron recommends considering using BiomarkerStatus to impute the missing patient-level PercentStaining category value. Impute missing PercentStaining values as follows:**\n",
    "* **Impute a PercentStaining value of “≥1%” for patients with at least one confirmed positive PD-L1 result within the eligible window.** \n",
    "* **Impute a PercentStaining value of “0%” to patients with no confirmed positive PD-L1 results and at least one confirmed negative PD-L1 result within the eligible window.** \n",
    "* **Do not impute a PercentStaining value to patients who have no confirmed positive or negative PD-L1 results within the eligible window.**"
   ]
  },
  {
   "cell_type": "code",
   "execution_count": 328,
   "id": "9aa75589",
   "metadata": {},
   "outputs": [
    {
     "data": {
      "text/plain": [
       "No interpretation given in report    772\n",
       "PD-L1 negative/not detected          543\n",
       "PD-L1 positive                       160\n",
       "Unsuccessful/indeterminate test       65\n",
       "Unknown                               11\n",
       "Results pending                       10\n",
       "Name: BiomarkerStatus, dtype: int64"
      ]
     },
     "execution_count": 328,
     "metadata": {},
     "output_type": "execute_result"
    }
   ],
   "source": [
    "biomarker_win_pdl1.BiomarkerStatus.value_counts(dropna = False)"
   ]
  },
  {
   "cell_type": "code",
   "execution_count": 329,
   "id": "33621802",
   "metadata": {},
   "outputs": [
    {
     "name": "stderr",
     "output_type": "stream",
     "text": [
      "/Applications/anaconda3/lib/python3.7/site-packages/pandas/core/indexing.py:1667: SettingWithCopyWarning: \n",
      "A value is trying to be set on a copy of a slice from a DataFrame.\n",
      "Try using .loc[row_indexer,col_indexer] = value instead\n",
      "\n",
      "See the caveats in the documentation: https://pandas.pydata.org/pandas-docs/stable/user_guide/indexing.html#returning-a-view-versus-a-copy\n",
      "  self.obj[key] = value\n"
     ]
    }
   ],
   "source": [
    "# Create indicator variable where where 2 if positive, 1 if negative, and 0 if unknown or missing. \n",
    "conditions = [\n",
    "    (biomarker_win_pdl1['BiomarkerStatus'] == 'Rearrangement present') | \n",
    "    (biomarker_win_pdl1['BiomarkerStatus'] == 'Mutation positive') | \n",
    "    (biomarker_win_pdl1['BiomarkerStatus'] == 'PD-L1 positive'),\n",
    "    (biomarker_win_pdl1['BiomarkerStatus'] == 'Rearrangement not present') | \n",
    "    (biomarker_win_pdl1['BiomarkerStatus'] == 'Mutation negative') | \n",
    "    (biomarker_win_pdl1['BiomarkerStatus'] == 'PD-L1 negative/not detected')\n",
    "]\n",
    "\n",
    "choices = [2,1]\n",
    "biomarker_win_pdl1.loc[:, 'bio_status'] = np.select(conditions, choices, default = 0)"
   ]
  },
  {
   "cell_type": "code",
   "execution_count": 330,
   "id": "4acdd717",
   "metadata": {},
   "outputs": [],
   "source": [
    "# Select highest percent staining for those with repeat testing, merge with nonduplciates, then pivot. \n",
    "biomarker_pdl1_status = (\n",
    "    biomarker_win_pdl1\n",
    "    .sort_values(by = ['PatientID', 'bio_status'], ascending = False)\n",
    "    .drop_duplicates(subset = ['PatientID'], keep = 'first')\n",
    "    .pivot(index = 'PatientID', columns = 'BiomarkerName', values = 'bio_status')\n",
    "    .rename(columns = {'PDL1': 'pdl1_status'})\n",
    "    .reset_index()\n",
    ")\n",
    "biomarker_pdl1_status.columns.name = None"
   ]
  },
  {
   "cell_type": "code",
   "execution_count": 331,
   "id": "c20bda30",
   "metadata": {},
   "outputs": [
    {
     "data": {
      "text/plain": [
       "(1071, 1071)"
      ]
     },
     "execution_count": 331,
     "metadata": {},
     "output_type": "execute_result"
    }
   ],
   "source": [
    "row_ID(biomarker_pdl1_status)"
   ]
  },
  {
   "cell_type": "code",
   "execution_count": 332,
   "id": "771ede27",
   "metadata": {},
   "outputs": [
    {
     "data": {
      "text/html": [
       "<div>\n",
       "<style scoped>\n",
       "    .dataframe tbody tr th:only-of-type {\n",
       "        vertical-align: middle;\n",
       "    }\n",
       "\n",
       "    .dataframe tbody tr th {\n",
       "        vertical-align: top;\n",
       "    }\n",
       "\n",
       "    .dataframe thead th {\n",
       "        text-align: right;\n",
       "    }\n",
       "</style>\n",
       "<table border=\"1\" class=\"dataframe\">\n",
       "  <thead>\n",
       "    <tr style=\"text-align: right;\">\n",
       "      <th></th>\n",
       "      <th>PatientID</th>\n",
       "      <th>pdl1_status</th>\n",
       "    </tr>\n",
       "  </thead>\n",
       "  <tbody>\n",
       "    <tr>\n",
       "      <th>0</th>\n",
       "      <td>F00276738F1D6</td>\n",
       "      <td>0</td>\n",
       "    </tr>\n",
       "    <tr>\n",
       "      <th>1</th>\n",
       "      <td>F004101016D38</td>\n",
       "      <td>1</td>\n",
       "    </tr>\n",
       "    <tr>\n",
       "      <th>2</th>\n",
       "      <td>F005A6041C94D</td>\n",
       "      <td>1</td>\n",
       "    </tr>\n",
       "    <tr>\n",
       "      <th>3</th>\n",
       "      <td>F00ACBA689666</td>\n",
       "      <td>1</td>\n",
       "    </tr>\n",
       "    <tr>\n",
       "      <th>4</th>\n",
       "      <td>F010808B69756</td>\n",
       "      <td>1</td>\n",
       "    </tr>\n",
       "  </tbody>\n",
       "</table>\n",
       "</div>"
      ],
      "text/plain": [
       "       PatientID  pdl1_status\n",
       "0  F00276738F1D6            0\n",
       "1  F004101016D38            1\n",
       "2  F005A6041C94D            1\n",
       "3  F00ACBA689666            1\n",
       "4  F010808B69756            1"
      ]
     },
     "execution_count": 332,
     "metadata": {},
     "output_type": "execute_result"
    }
   ],
   "source": [
    "biomarker_pdl1_status.head()"
   ]
  },
  {
   "cell_type": "code",
   "execution_count": 333,
   "id": "4bee6279",
   "metadata": {},
   "outputs": [],
   "source": [
    "biomarker_pdl1_status_wide = (\n",
    "    biomarker_pdl1_status\n",
    "    .append(\n",
    "        pd.Series(train_IDs)[~pd.Series(train_IDs).isin(biomarker_pdl1_status['PatientID'])].to_frame(name = 'PatientID'),\n",
    "        sort = False)\n",
    "    .fillna(0)\n",
    ")"
   ]
  },
  {
   "cell_type": "code",
   "execution_count": 334,
   "id": "d81cc552",
   "metadata": {},
   "outputs": [],
   "source": [
    "biomarker_pdl1 = pd.merge(biomarker_pdl1_staining_wide, biomarker_pdl1_status_wide, on = 'PatientID')"
   ]
  },
  {
   "cell_type": "code",
   "execution_count": 335,
   "id": "eacee518",
   "metadata": {},
   "outputs": [],
   "source": [
    "# If PDL1 staining is unknown, set to >=1% if ever positive and 0% if ever negative. \n",
    "# If PDL1 staining is known, set to >=1% if staining 1-100% and 0% if 0%.\n",
    "conditions = [\n",
    "    ((biomarker_pdl1['pdl1_staining'] == 'unknown') & (biomarker_pdl1['pdl1_status'] == 2)) | \n",
    "    (biomarker_pdl1['pdl1_staining'] == '>1%'),\n",
    "    ((biomarker_pdl1['pdl1_staining'] == 'unknown') & (biomarker_pdl1['pdl1_status'] == 1)) | \n",
    "    (biomarker_pdl1['pdl1_staining'] == '0%'), \n",
    "    ((biomarker_pdl1['pdl1_staining'] == 'unknown') & (biomarker_pdl1['pdl1_status'] == 0)),\n",
    "]\n",
    "\n",
    "choices = ['>1%', '0%', 'unknown']\n",
    "\n",
    "biomarker_pdl1.loc[:, 'pdl1_n'] = np.select(conditions, choices)"
   ]
  },
  {
   "cell_type": "code",
   "execution_count": 336,
   "id": "9995830d",
   "metadata": {},
   "outputs": [
    {
     "data": {
      "text/html": [
       "<div>\n",
       "<style scoped>\n",
       "    .dataframe tbody tr th:only-of-type {\n",
       "        vertical-align: middle;\n",
       "    }\n",
       "\n",
       "    .dataframe tbody tr th {\n",
       "        vertical-align: top;\n",
       "    }\n",
       "\n",
       "    .dataframe thead th {\n",
       "        text-align: right;\n",
       "    }\n",
       "</style>\n",
       "<table border=\"1\" class=\"dataframe\">\n",
       "  <thead>\n",
       "    <tr style=\"text-align: right;\">\n",
       "      <th></th>\n",
       "      <th>PatientID</th>\n",
       "      <th>pdl1_staining</th>\n",
       "      <th>pdl1_status</th>\n",
       "      <th>pdl1_n</th>\n",
       "    </tr>\n",
       "  </thead>\n",
       "  <tbody>\n",
       "    <tr>\n",
       "      <th>11286</th>\n",
       "      <td>F777B8A27C711</td>\n",
       "      <td>unknown</td>\n",
       "      <td>0.0</td>\n",
       "      <td>unknown</td>\n",
       "    </tr>\n",
       "    <tr>\n",
       "      <th>12055</th>\n",
       "      <td>F474773151AC9</td>\n",
       "      <td>unknown</td>\n",
       "      <td>0.0</td>\n",
       "      <td>unknown</td>\n",
       "    </tr>\n",
       "    <tr>\n",
       "      <th>18628</th>\n",
       "      <td>F23D03F917AA7</td>\n",
       "      <td>unknown</td>\n",
       "      <td>0.0</td>\n",
       "      <td>unknown</td>\n",
       "    </tr>\n",
       "    <tr>\n",
       "      <th>15006</th>\n",
       "      <td>F3F7DEEAAB309</td>\n",
       "      <td>unknown</td>\n",
       "      <td>0.0</td>\n",
       "      <td>unknown</td>\n",
       "    </tr>\n",
       "    <tr>\n",
       "      <th>20770</th>\n",
       "      <td>FA3CCD99F917A</td>\n",
       "      <td>unknown</td>\n",
       "      <td>0.0</td>\n",
       "      <td>unknown</td>\n",
       "    </tr>\n",
       "  </tbody>\n",
       "</table>\n",
       "</div>"
      ],
      "text/plain": [
       "           PatientID pdl1_staining  pdl1_status   pdl1_n\n",
       "11286  F777B8A27C711       unknown          0.0  unknown\n",
       "12055  F474773151AC9       unknown          0.0  unknown\n",
       "18628  F23D03F917AA7       unknown          0.0  unknown\n",
       "15006  F3F7DEEAAB309       unknown          0.0  unknown\n",
       "20770  FA3CCD99F917A       unknown          0.0  unknown"
      ]
     },
     "execution_count": 336,
     "metadata": {},
     "output_type": "execute_result"
    }
   ],
   "source": [
    "biomarker_pdl1.sample(5)"
   ]
  },
  {
   "cell_type": "code",
   "execution_count": 337,
   "id": "8ccd1dad",
   "metadata": {},
   "outputs": [],
   "source": [
    "biomarker_pdl1_wide = (\n",
    "    biomarker_pdl1[['PatientID', 'pdl1_n']]\n",
    ")"
   ]
  },
  {
   "cell_type": "code",
   "execution_count": 338,
   "id": "e76bd2b8",
   "metadata": {},
   "outputs": [
    {
     "data": {
      "text/plain": [
       "(25341, 25341)"
      ]
     },
     "execution_count": 338,
     "metadata": {},
     "output_type": "execute_result"
    }
   ],
   "source": [
    "row_ID(biomarker_pdl1_wide)"
   ]
  },
  {
   "cell_type": "code",
   "execution_count": 339,
   "id": "82e7f58e",
   "metadata": {},
   "outputs": [
    {
     "data": {
      "text/plain": [
       "pdl1_n \n",
       "unknown    0.965037\n",
       "0%         0.020678\n",
       ">1%        0.014285\n",
       "dtype: float64"
      ]
     },
     "execution_count": 339,
     "metadata": {},
     "output_type": "execute_result"
    }
   ],
   "source": [
    "biomarker_pdl1_wide[['pdl1_n']].value_counts(normalize = True)"
   ]
  },
  {
   "cell_type": "code",
   "execution_count": 340,
   "id": "3a6e0556",
   "metadata": {},
   "outputs": [],
   "source": [
    "biomarker_wide = pd.merge(biomarker_notpdl1_wide, biomarker_pdl1_wide, on = 'PatientID')"
   ]
  },
  {
   "cell_type": "code",
   "execution_count": 341,
   "id": "cc025ab2",
   "metadata": {},
   "outputs": [
    {
     "data": {
      "text/plain": [
       "(25341, 25341)"
      ]
     },
     "execution_count": 341,
     "metadata": {},
     "output_type": "execute_result"
    }
   ],
   "source": [
    "row_ID(biomarker_wide)"
   ]
  },
  {
   "cell_type": "code",
   "execution_count": 342,
   "id": "59fc3dd9",
   "metadata": {},
   "outputs": [
    {
     "data": {
      "text/html": [
       "<div>\n",
       "<style scoped>\n",
       "    .dataframe tbody tr th:only-of-type {\n",
       "        vertical-align: middle;\n",
       "    }\n",
       "\n",
       "    .dataframe tbody tr th {\n",
       "        vertical-align: top;\n",
       "    }\n",
       "\n",
       "    .dataframe thead th {\n",
       "        text-align: right;\n",
       "    }\n",
       "</style>\n",
       "<table border=\"1\" class=\"dataframe\">\n",
       "  <thead>\n",
       "    <tr style=\"text-align: right;\">\n",
       "      <th></th>\n",
       "      <th>PatientID</th>\n",
       "      <th>ER</th>\n",
       "      <th>HER2</th>\n",
       "      <th>PR</th>\n",
       "      <th>BRCA</th>\n",
       "      <th>PIK3CA</th>\n",
       "      <th>pdl1_n</th>\n",
       "    </tr>\n",
       "  </thead>\n",
       "  <tbody>\n",
       "    <tr>\n",
       "      <th>22708</th>\n",
       "      <td>F4E1F934D89F1</td>\n",
       "      <td>unknown</td>\n",
       "      <td>unknown</td>\n",
       "      <td>unknown</td>\n",
       "      <td>unknown</td>\n",
       "      <td>unknown</td>\n",
       "      <td>unknown</td>\n",
       "    </tr>\n",
       "    <tr>\n",
       "      <th>24531</th>\n",
       "      <td>FE4EA69066E15</td>\n",
       "      <td>unknown</td>\n",
       "      <td>unknown</td>\n",
       "      <td>unknown</td>\n",
       "      <td>unknown</td>\n",
       "      <td>unknown</td>\n",
       "      <td>unknown</td>\n",
       "    </tr>\n",
       "    <tr>\n",
       "      <th>4913</th>\n",
       "      <td>F38D931A73CA8</td>\n",
       "      <td>negative</td>\n",
       "      <td>negative</td>\n",
       "      <td>negative</td>\n",
       "      <td>unknown</td>\n",
       "      <td>unknown</td>\n",
       "      <td>unknown</td>\n",
       "    </tr>\n",
       "    <tr>\n",
       "      <th>13046</th>\n",
       "      <td>F977371021A0A</td>\n",
       "      <td>positive</td>\n",
       "      <td>negative</td>\n",
       "      <td>negative</td>\n",
       "      <td>unknown</td>\n",
       "      <td>unknown</td>\n",
       "      <td>unknown</td>\n",
       "    </tr>\n",
       "    <tr>\n",
       "      <th>17264</th>\n",
       "      <td>FC8DA286E58A8</td>\n",
       "      <td>positive</td>\n",
       "      <td>negative</td>\n",
       "      <td>positive</td>\n",
       "      <td>unknown</td>\n",
       "      <td>unknown</td>\n",
       "      <td>unknown</td>\n",
       "    </tr>\n",
       "  </tbody>\n",
       "</table>\n",
       "</div>"
      ],
      "text/plain": [
       "           PatientID        ER      HER2        PR     BRCA   PIK3CA   pdl1_n\n",
       "22708  F4E1F934D89F1   unknown   unknown   unknown  unknown  unknown  unknown\n",
       "24531  FE4EA69066E15   unknown   unknown   unknown  unknown  unknown  unknown\n",
       "4913   F38D931A73CA8  negative  negative  negative  unknown  unknown  unknown\n",
       "13046  F977371021A0A  positive  negative  negative  unknown  unknown  unknown\n",
       "17264  FC8DA286E58A8  positive  negative  positive  unknown  unknown  unknown"
      ]
     },
     "execution_count": 342,
     "metadata": {},
     "output_type": "execute_result"
    }
   ],
   "source": [
    "biomarker_wide.sample(5)"
   ]
  },
  {
   "cell_type": "code",
   "execution_count": 343,
   "id": "00629ddf",
   "metadata": {},
   "outputs": [
    {
     "name": "stdout",
     "output_type": "stream",
     "text": [
      "Variable                       Type         Data/Info\n",
      "-----------------------------------------------------\n",
      "biomarker_brca_pik             DataFrame                PatientID Bio<...>n[6910 rows x 23 columns]\n",
      "biomarker_brca_pik_wide        DataFrame               PatientID  BRC<...>n[25341 rows x 3 columns]\n",
      "biomarker_hr_her2              DataFrame                PatientID Bio<...>103917 rows x 23 columns]\n",
      "biomarker_hr_her2_wide         DataFrame               PatientID   ER<...>n[25341 rows x 4 columns]\n",
      "biomarker_notpdl1_wide         DataFrame               PatientID     <...>n[25341 rows x 6 columns]\n",
      "biomarker_pdl1                 DataFrame               PatientID pdl1<...>n[25341 rows x 4 columns]\n",
      "biomarker_pdl1_staining        DataFrame              PatientID pdl1_<...>\\n[1071 rows x 2 columns]\n",
      "biomarker_pdl1_staining_wide   DataFrame               PatientID pdl1<...>n[25341 rows x 2 columns]\n",
      "biomarker_pdl1_status          DataFrame              PatientID  pdl1<...>\\n[1071 rows x 2 columns]\n",
      "biomarker_pdl1_status_wide     DataFrame               PatientID  pdl<...>n[25341 rows x 2 columns]\n",
      "biomarker_pdl1_wide            DataFrame               PatientID   pd<...>n[25341 rows x 2 columns]\n",
      "biomarker_wide                 DataFrame               PatientID     <...>n[25341 rows x 7 columns]\n",
      "biomarker_win                  DataFrame                PatientID Bio<...>120238 rows x 22 columns]\n",
      "biomarker_win_pdl1             DataFrame                PatientID Bio<...>n[1561 rows x 24 columns]\n",
      "biomarkers                     DataFrame                PatientID Bio<...>191261 rows x 22 columns]\n",
      "demographics                   DataFrame               PatientID gend<...>n[25341 rows x 7 columns]\n",
      "enhanced_met                   DataFrame               PatientID diag<...>n[25341 rows x 7 columns]\n",
      "med_admin_wide                 DataFrame               PatientID  ste<...>[25341 rows x 14 columns]\n",
      "mortality                      DataFrame               PatientID  dea<...>n[25341 rows x 3 columns]\n"
     ]
    }
   ],
   "source": [
    "%whos DataFrame"
   ]
  },
  {
   "cell_type": "code",
   "execution_count": 344,
   "id": "63e28edb",
   "metadata": {},
   "outputs": [],
   "source": [
    "# Keep biomarker_wide, demographics, enhanced_met, med_admin_wide, and mortality\n",
    "del biomarker_brca_pik\n",
    "del biomarker_brca_pik_wide\n",
    "del biomarker_hr_her2\n",
    "del biomarker_hr_her2_wide\n",
    "del biomarker_notpdl1_wide \n",
    "del biomarker_pdl1\n",
    "del biomarker_pdl1_staining \n",
    "del biomarker_pdl1_staining_wide\n",
    "del biomarker_pdl1_status\n",
    "del biomarker_pdl1_status_wide\n",
    "del biomarker_pdl1_wide \n",
    "del biomarker_win\n",
    "del biomarker_win_pdl1\n",
    "del biomarkers"
   ]
  },
  {
   "cell_type": "markdown",
   "id": "798457ec",
   "metadata": {},
   "source": [
    "### 6. Insurance"
   ]
  },
  {
   "cell_type": "code",
   "execution_count": 345,
   "id": "0dd46476",
   "metadata": {},
   "outputs": [],
   "source": [
    "insurance = pd.read_csv('Insurance.csv')"
   ]
  },
  {
   "cell_type": "code",
   "execution_count": 346,
   "id": "31916e68",
   "metadata": {},
   "outputs": [],
   "source": [
    "insurance = insurance[insurance['PatientID'].isin(train_IDs)]"
   ]
  },
  {
   "cell_type": "code",
   "execution_count": 347,
   "id": "de56c396",
   "metadata": {},
   "outputs": [
    {
     "data": {
      "text/plain": [
       "(112886, 23974)"
      ]
     },
     "execution_count": 347,
     "metadata": {},
     "output_type": "execute_result"
    }
   ],
   "source": [
    "row_ID(insurance)"
   ]
  },
  {
   "cell_type": "code",
   "execution_count": 348,
   "id": "787a2d66",
   "metadata": {},
   "outputs": [
    {
     "data": {
      "text/html": [
       "<div>\n",
       "<style scoped>\n",
       "    .dataframe tbody tr th:only-of-type {\n",
       "        vertical-align: middle;\n",
       "    }\n",
       "\n",
       "    .dataframe tbody tr th {\n",
       "        vertical-align: top;\n",
       "    }\n",
       "\n",
       "    .dataframe thead th {\n",
       "        text-align: right;\n",
       "    }\n",
       "</style>\n",
       "<table border=\"1\" class=\"dataframe\">\n",
       "  <thead>\n",
       "    <tr style=\"text-align: right;\">\n",
       "      <th></th>\n",
       "      <th>PatientID</th>\n",
       "      <th>PracticeID</th>\n",
       "      <th>PayerCategory</th>\n",
       "      <th>StartDate</th>\n",
       "      <th>EndDate</th>\n",
       "      <th>IsMedicareAdv</th>\n",
       "      <th>IsMedicareSupp</th>\n",
       "      <th>IsPartAOnly</th>\n",
       "      <th>IsPartBOnly</th>\n",
       "      <th>IsPartAandPartB</th>\n",
       "      <th>IsPartDOnly</th>\n",
       "      <th>IsManagedGovtPlan</th>\n",
       "      <th>IsManagedMedicaid</th>\n",
       "      <th>IsMedicareMedicaid</th>\n",
       "    </tr>\n",
       "  </thead>\n",
       "  <tbody>\n",
       "    <tr>\n",
       "      <th>55174</th>\n",
       "      <td>F0DA8F350ACD2</td>\n",
       "      <td>SCC8EE4FB66C3</td>\n",
       "      <td>Commercial Health Plan</td>\n",
       "      <td>2020-03-17</td>\n",
       "      <td>NaN</td>\n",
       "      <td>No/Unknown</td>\n",
       "      <td>No/Unknown</td>\n",
       "      <td>No/Unknown</td>\n",
       "      <td>No/Unknown</td>\n",
       "      <td>No/Unknown</td>\n",
       "      <td>No/Unknown</td>\n",
       "      <td>No/Unknown</td>\n",
       "      <td>No/Unknown</td>\n",
       "      <td>No/Unknown</td>\n",
       "    </tr>\n",
       "    <tr>\n",
       "      <th>42804</th>\n",
       "      <td>F080DA9EA95D4</td>\n",
       "      <td>SCC8EE4FB66C3</td>\n",
       "      <td>Medicaid</td>\n",
       "      <td>2018-03-22</td>\n",
       "      <td>NaN</td>\n",
       "      <td>No/Unknown</td>\n",
       "      <td>No/Unknown</td>\n",
       "      <td>No/Unknown</td>\n",
       "      <td>No/Unknown</td>\n",
       "      <td>No/Unknown</td>\n",
       "      <td>No/Unknown</td>\n",
       "      <td>No/Unknown</td>\n",
       "      <td>No/Unknown</td>\n",
       "      <td>No/Unknown</td>\n",
       "    </tr>\n",
       "    <tr>\n",
       "      <th>97476</th>\n",
       "      <td>F6BC0E929CC68</td>\n",
       "      <td>S57BBE18F8EB0</td>\n",
       "      <td>Commercial Health Plan</td>\n",
       "      <td>2018-08-01</td>\n",
       "      <td>2022-01-28</td>\n",
       "      <td>No/Unknown</td>\n",
       "      <td>No/Unknown</td>\n",
       "      <td>No/Unknown</td>\n",
       "      <td>No/Unknown</td>\n",
       "      <td>No/Unknown</td>\n",
       "      <td>No/Unknown</td>\n",
       "      <td>No/Unknown</td>\n",
       "      <td>No/Unknown</td>\n",
       "      <td>No/Unknown</td>\n",
       "    </tr>\n",
       "    <tr>\n",
       "      <th>31383</th>\n",
       "      <td>F67A6E5EE6C7A</td>\n",
       "      <td>SCC8EE4FB66C3</td>\n",
       "      <td>Commercial Health Plan</td>\n",
       "      <td>2012-05-10</td>\n",
       "      <td>NaN</td>\n",
       "      <td>No/Unknown</td>\n",
       "      <td>No/Unknown</td>\n",
       "      <td>No/Unknown</td>\n",
       "      <td>No/Unknown</td>\n",
       "      <td>No/Unknown</td>\n",
       "      <td>No/Unknown</td>\n",
       "      <td>No/Unknown</td>\n",
       "      <td>No/Unknown</td>\n",
       "      <td>No/Unknown</td>\n",
       "    </tr>\n",
       "    <tr>\n",
       "      <th>81796</th>\n",
       "      <td>FC2F0E3F085DB</td>\n",
       "      <td>S744425681ABF</td>\n",
       "      <td>Medicaid</td>\n",
       "      <td>NaN</td>\n",
       "      <td>2013-03-31</td>\n",
       "      <td>No/Unknown</td>\n",
       "      <td>No/Unknown</td>\n",
       "      <td>No/Unknown</td>\n",
       "      <td>No/Unknown</td>\n",
       "      <td>No/Unknown</td>\n",
       "      <td>No/Unknown</td>\n",
       "      <td>No/Unknown</td>\n",
       "      <td>Yes</td>\n",
       "      <td>No/Unknown</td>\n",
       "    </tr>\n",
       "  </tbody>\n",
       "</table>\n",
       "</div>"
      ],
      "text/plain": [
       "           PatientID     PracticeID           PayerCategory   StartDate  \\\n",
       "55174  F0DA8F350ACD2  SCC8EE4FB66C3  Commercial Health Plan  2020-03-17   \n",
       "42804  F080DA9EA95D4  SCC8EE4FB66C3                Medicaid  2018-03-22   \n",
       "97476  F6BC0E929CC68  S57BBE18F8EB0  Commercial Health Plan  2018-08-01   \n",
       "31383  F67A6E5EE6C7A  SCC8EE4FB66C3  Commercial Health Plan  2012-05-10   \n",
       "81796  FC2F0E3F085DB  S744425681ABF                Medicaid         NaN   \n",
       "\n",
       "          EndDate IsMedicareAdv IsMedicareSupp IsPartAOnly IsPartBOnly  \\\n",
       "55174         NaN    No/Unknown     No/Unknown  No/Unknown  No/Unknown   \n",
       "42804         NaN    No/Unknown     No/Unknown  No/Unknown  No/Unknown   \n",
       "97476  2022-01-28    No/Unknown     No/Unknown  No/Unknown  No/Unknown   \n",
       "31383         NaN    No/Unknown     No/Unknown  No/Unknown  No/Unknown   \n",
       "81796  2013-03-31    No/Unknown     No/Unknown  No/Unknown  No/Unknown   \n",
       "\n",
       "      IsPartAandPartB IsPartDOnly IsManagedGovtPlan IsManagedMedicaid  \\\n",
       "55174      No/Unknown  No/Unknown        No/Unknown        No/Unknown   \n",
       "42804      No/Unknown  No/Unknown        No/Unknown        No/Unknown   \n",
       "97476      No/Unknown  No/Unknown        No/Unknown        No/Unknown   \n",
       "31383      No/Unknown  No/Unknown        No/Unknown        No/Unknown   \n",
       "81796      No/Unknown  No/Unknown        No/Unknown               Yes   \n",
       "\n",
       "      IsMedicareMedicaid  \n",
       "55174         No/Unknown  \n",
       "42804         No/Unknown  \n",
       "97476         No/Unknown  \n",
       "31383         No/Unknown  \n",
       "81796         No/Unknown  "
      ]
     },
     "execution_count": 348,
     "metadata": {},
     "output_type": "execute_result"
    }
   ],
   "source": [
    "insurance.sample(5)"
   ]
  },
  {
   "cell_type": "code",
   "execution_count": 349,
   "id": "460db945",
   "metadata": {},
   "outputs": [
    {
     "data": {
      "text/plain": [
       "Commercial Health Plan        57751\n",
       "Medicare                      22345\n",
       "Patient Assistance Program    10024\n",
       "Other Payer - Type Unknown     8778\n",
       "Medicaid                       7871\n",
       "Other Government Program       3833\n",
       "Self Pay                       2259\n",
       "Workers Compensation             25\n",
       "Name: PayerCategory, dtype: int64"
      ]
     },
     "execution_count": 349,
     "metadata": {},
     "output_type": "execute_result"
    }
   ],
   "source": [
    "insurance.PayerCategory.value_counts()"
   ]
  },
  {
   "cell_type": "code",
   "execution_count": 350,
   "id": "094246ff",
   "metadata": {},
   "outputs": [
    {
     "data": {
      "text/plain": [
       "0.09606151338518505"
      ]
     },
     "execution_count": 350,
     "metadata": {},
     "output_type": "execute_result"
    }
   ],
   "source": [
    "# Percent missing start date. \n",
    "insurance['StartDate'].isna().sum()/len(insurance)"
   ]
  },
  {
   "cell_type": "code",
   "execution_count": 351,
   "id": "f63cf2a3",
   "metadata": {},
   "outputs": [
    {
     "data": {
      "text/plain": [
       "0.7398703116418334"
      ]
     },
     "execution_count": 351,
     "metadata": {},
     "output_type": "execute_result"
    }
   ],
   "source": [
    "# Percent missing end date. \n",
    "insurance['EndDate'].isna().sum()/len(insurance)"
   ]
  },
  {
   "cell_type": "code",
   "execution_count": 352,
   "id": "62ff7c34",
   "metadata": {},
   "outputs": [
    {
     "data": {
      "text/plain": [
       "count    23974.000000\n",
       "mean         4.708684\n",
       "std         12.342590\n",
       "min          1.000000\n",
       "25%          2.000000\n",
       "50%          2.000000\n",
       "75%          4.000000\n",
       "max        379.000000\n",
       "Name: PatientID, dtype: float64"
      ]
     },
     "execution_count": 352,
     "metadata": {},
     "output_type": "execute_result"
    }
   ],
   "source": [
    "# Brief statistics on number of insurances listed for each patient. \n",
    "(\n",
    "    insurance\n",
    "    .groupby('PatientID')['PatientID'].count()\n",
    "    .describe()\n",
    ")"
   ]
  },
  {
   "cell_type": "markdown",
   "id": "009dd897",
   "metadata": {},
   "source": [
    "**The insurance table contains patient insurance/payer information. Patients may have multiple payer categories concurrently. Start date is populated roughly 90% of the time, while end date is populated about 25% of the time. This mutiple-row-per-patient table will be transformed into a single-row-per-patient table. Indicator variables for each payer category active at time of metastatic diagnosis will be made as columns. Insurance will be considered active if start date is less than 30 days from metastatic diagnosis regardless of end date.** "
   ]
  },
  {
   "cell_type": "code",
   "execution_count": 353,
   "id": "22700d45",
   "metadata": {},
   "outputs": [],
   "source": [
    "insurance.loc[:, 'StartDate'] = pd.to_datetime(insurance['StartDate'])"
   ]
  },
  {
   "cell_type": "code",
   "execution_count": 354,
   "id": "b6e76b3a",
   "metadata": {},
   "outputs": [],
   "source": [
    "insurance = pd.merge(insurance, enhanced_met[['PatientID', 'met_date']], on = 'PatientID', how = 'left')"
   ]
  },
  {
   "cell_type": "code",
   "execution_count": 355,
   "id": "a058aa8f",
   "metadata": {},
   "outputs": [
    {
     "data": {
      "text/plain": [
       "count    102042.000000\n",
       "mean       2016.296750\n",
       "std           5.433329\n",
       "min        1901.000000\n",
       "25%        2014.000000\n",
       "50%        2017.000000\n",
       "75%        2020.000000\n",
       "max        2022.000000\n",
       "Name: StartDate, dtype: float64"
      ]
     },
     "execution_count": 355,
     "metadata": {},
     "output_type": "execute_result"
    }
   ],
   "source": [
    "(insurance['StartDate']).dt.year.describe()"
   ]
  },
  {
   "cell_type": "code",
   "execution_count": 356,
   "id": "f9cd3df9",
   "metadata": {},
   "outputs": [],
   "source": [
    "# Remove years with start dates less than 1920 which is likely a coding error. \n",
    "insurance = insurance[(insurance['StartDate']).dt.year >= 1920]"
   ]
  },
  {
   "cell_type": "code",
   "execution_count": 357,
   "id": "c54e1677",
   "metadata": {},
   "outputs": [],
   "source": [
    "insurance.loc[:, 'insurance_date_diff'] = (insurance['StartDate'] - insurance['met_date']).dt.days"
   ]
  },
  {
   "cell_type": "code",
   "execution_count": 358,
   "id": "27f8c268",
   "metadata": {},
   "outputs": [],
   "source": [
    "insurance_win = insurance[insurance['insurance_date_diff'] <= 30]"
   ]
  },
  {
   "cell_type": "code",
   "execution_count": 359,
   "id": "7a3c80cd",
   "metadata": {},
   "outputs": [
    {
     "data": {
      "text/plain": [
       "(102024, 22543)"
      ]
     },
     "execution_count": 359,
     "metadata": {},
     "output_type": "execute_result"
    }
   ],
   "source": [
    "row_ID(insurance)"
   ]
  },
  {
   "cell_type": "code",
   "execution_count": 360,
   "id": "00dfbf71",
   "metadata": {},
   "outputs": [
    {
     "name": "stderr",
     "output_type": "stream",
     "text": [
      "/Applications/anaconda3/lib/python3.7/site-packages/pandas/core/indexing.py:1667: SettingWithCopyWarning: \n",
      "A value is trying to be set on a copy of a slice from a DataFrame.\n",
      "Try using .loc[row_indexer,col_indexer] = value instead\n",
      "\n",
      "See the caveats in the documentation: https://pandas.pydata.org/pandas-docs/stable/user_guide/indexing.html#returning-a-view-versus-a-copy\n",
      "  self.obj[key] = value\n"
     ]
    }
   ],
   "source": [
    "# Recode payer category \n",
    "conditions = [\n",
    "    (insurance_win['IsMedicareAdv'] == 'Yes') | \n",
    "    (insurance_win['IsPartAOnly'] == 'Yes') | \n",
    "    (insurance_win['IsPartBOnly'] == 'Yes') |\n",
    "    (insurance_win['IsPartAandPartB'] == 'Yes') |\n",
    "    (insurance_win['IsPartDOnly'] == 'Yes'),\n",
    "    (insurance_win['IsManagedGovtPlan'] == 'Yes'),\n",
    "    (insurance_win['IsManagedMedicaid'] == 'Yes'),\n",
    "    (insurance_win['IsMedicareMedicaid'] == 'Yes')]\n",
    "\n",
    "choices = ['Medicare', 'Other Government Program', 'Medicaid', 'medicare_medicaid']\n",
    "\n",
    "insurance_win.loc[:, 'payer_category'] = np.select(conditions, choices, insurance_win['PayerCategory'])"
   ]
  },
  {
   "cell_type": "code",
   "execution_count": 361,
   "id": "f395f496",
   "metadata": {},
   "outputs": [
    {
     "data": {
      "text/plain": [
       "Commercial Health Plan        0.405103\n",
       "Medicare                      0.301136\n",
       "Medicaid                      0.088463\n",
       "Other Payer - Type Unknown    0.076081\n",
       "Patient Assistance Program    0.061552\n",
       "Other Government Program      0.035660\n",
       "medicare_medicaid             0.017055\n",
       "Self Pay                      0.014530\n",
       "Workers Compensation          0.000421\n",
       "Name: payer_category, dtype: float64"
      ]
     },
     "execution_count": 361,
     "metadata": {},
     "output_type": "execute_result"
    }
   ],
   "source": [
    "insurance_win.payer_category.value_counts(normalize = True)"
   ]
  },
  {
   "cell_type": "code",
   "execution_count": 362,
   "id": "49e1f8cc",
   "metadata": {},
   "outputs": [
    {
     "data": {
      "text/plain": [
       "Commercial Health Plan        0.531440\n",
       "Medicare                      0.217701\n",
       "Other Payer - Type Unknown    0.079337\n",
       "Patient Assistance Program    0.061552\n",
       "Medicaid                      0.060422\n",
       "Other Government Program      0.034597\n",
       "Self Pay                      0.014530\n",
       "Workers Compensation          0.000421\n",
       "Name: PayerCategory, dtype: float64"
      ]
     },
     "execution_count": 362,
     "metadata": {},
     "output_type": "execute_result"
    }
   ],
   "source": [
    "insurance_win.PayerCategory.value_counts(normalize = True)"
   ]
  },
  {
   "cell_type": "markdown",
   "id": "cb2f56a2",
   "metadata": {},
   "source": [
    "#### Medicare"
   ]
  },
  {
   "cell_type": "code",
   "execution_count": 363,
   "id": "f9cad25a",
   "metadata": {},
   "outputs": [],
   "source": [
    "insurance_win.loc[:, 'medicare'] = np.where(insurance_win['payer_category'] == 'Medicare', 1, 0)"
   ]
  },
  {
   "cell_type": "markdown",
   "id": "237e8a2c",
   "metadata": {},
   "source": [
    "#### Medicaid"
   ]
  },
  {
   "cell_type": "code",
   "execution_count": 364,
   "id": "3e9980ea",
   "metadata": {},
   "outputs": [],
   "source": [
    "insurance_win.loc[:, 'medicaid'] = np.where(insurance_win['payer_category'] == 'Medicaid', 1, 0)"
   ]
  },
  {
   "cell_type": "markdown",
   "id": "f250bc9d",
   "metadata": {},
   "source": [
    "#### Medicare/Medicaid "
   ]
  },
  {
   "cell_type": "code",
   "execution_count": 365,
   "id": "7967975b",
   "metadata": {},
   "outputs": [],
   "source": [
    "insurance_win.loc[:, 'medicare_medicaid'] = np.where(insurance_win['payer_category'] == 'medicare_medicaid', 1, 0)"
   ]
  },
  {
   "cell_type": "markdown",
   "id": "11e838ba",
   "metadata": {},
   "source": [
    "#### Commercial "
   ]
  },
  {
   "cell_type": "code",
   "execution_count": 366,
   "id": "0c70a103",
   "metadata": {},
   "outputs": [],
   "source": [
    "insurance_win.loc[:, 'commercial'] = np.where(insurance_win['payer_category'] == 'Commercial Health Plan', 1, 0)"
   ]
  },
  {
   "cell_type": "markdown",
   "id": "752de202",
   "metadata": {},
   "source": [
    "#### Patient Assistance Programs "
   ]
  },
  {
   "cell_type": "code",
   "execution_count": 367,
   "id": "615cc754",
   "metadata": {},
   "outputs": [],
   "source": [
    "insurance_win.loc[:, 'patient_assistance'] = np.where(insurance_win['payer_category'] == 'Patient Assistance Program', 1, 0)"
   ]
  },
  {
   "cell_type": "markdown",
   "id": "42917de8",
   "metadata": {},
   "source": [
    "#### Other Government Program "
   ]
  },
  {
   "cell_type": "code",
   "execution_count": 368,
   "id": "98cc7ae1",
   "metadata": {},
   "outputs": [],
   "source": [
    "insurance_win.loc[:, 'other_govt'] = np.where(insurance_win['payer_category'] == 'Other Government Program', 1, 0)"
   ]
  },
  {
   "cell_type": "markdown",
   "id": "82a55f37",
   "metadata": {},
   "source": [
    "#### Self Pay "
   ]
  },
  {
   "cell_type": "code",
   "execution_count": 369,
   "id": "eb468be3",
   "metadata": {},
   "outputs": [],
   "source": [
    "insurance_win.loc[:, 'self_pay'] = np.where(insurance_win['payer_category'] == 'Self Pay', 1, 0)"
   ]
  },
  {
   "cell_type": "markdown",
   "id": "660fc9b9",
   "metadata": {},
   "source": [
    "#### Other Payer"
   ]
  },
  {
   "cell_type": "code",
   "execution_count": 370,
   "id": "9f994dc9",
   "metadata": {},
   "outputs": [],
   "source": [
    "insurance_win.loc[:, 'other'] = np.where(insurance_win['payer_category'] == 'Other Payer - Type Unknown', 1, 0)"
   ]
  },
  {
   "cell_type": "markdown",
   "id": "87bc9a2a",
   "metadata": {},
   "source": [
    "#### Condense "
   ]
  },
  {
   "cell_type": "code",
   "execution_count": 371,
   "id": "ff64f3fd",
   "metadata": {},
   "outputs": [],
   "source": [
    "# After dropping 'insurance_date_diff', add columns by PatientID.\n",
    "insurance_wide = (\n",
    "    insurance_win\n",
    "    .drop(columns = ['insurance_date_diff'])\n",
    "    .groupby('PatientID').sum()\n",
    ")"
   ]
  },
  {
   "cell_type": "code",
   "execution_count": 372,
   "id": "5450e46b",
   "metadata": {},
   "outputs": [],
   "source": [
    "# Set any value greater than 1 to 1; leave 0 unchanged. \n",
    "insurance_wide = (\n",
    "    insurance_wide\n",
    "    .mask(insurance_wide > 1, 1)\n",
    "    .reset_index()\n",
    ")"
   ]
  },
  {
   "cell_type": "code",
   "execution_count": 373,
   "id": "081fca9d",
   "metadata": {},
   "outputs": [
    {
     "data": {
      "text/plain": [
       "(18264, 18264)"
      ]
     },
     "execution_count": 373,
     "metadata": {},
     "output_type": "execute_result"
    }
   ],
   "source": [
    "row_ID(insurance_wide)"
   ]
  },
  {
   "cell_type": "code",
   "execution_count": 374,
   "id": "8872523b",
   "metadata": {},
   "outputs": [],
   "source": [
    "# Append missing training IDs.\n",
    "insurance_wide = (\n",
    "    insurance_wide\n",
    "    .append(\n",
    "        pd.Series(train_IDs)[~pd.Series(train_IDs).isin(insurance_wide['PatientID'])].to_frame(name = 'PatientID'),\n",
    "        sort = False)\n",
    ")"
   ]
  },
  {
   "cell_type": "code",
   "execution_count": 375,
   "id": "e6761d8e",
   "metadata": {},
   "outputs": [
    {
     "data": {
      "text/plain": [
       "(25341, 25341)"
      ]
     },
     "execution_count": 375,
     "metadata": {},
     "output_type": "execute_result"
    }
   ],
   "source": [
    "row_ID(insurance_wide)"
   ]
  },
  {
   "cell_type": "code",
   "execution_count": 376,
   "id": "67050811",
   "metadata": {},
   "outputs": [],
   "source": [
    "insurance_wide = insurance_wide.fillna(0)"
   ]
  },
  {
   "cell_type": "code",
   "execution_count": 377,
   "id": "22ba2983",
   "metadata": {},
   "outputs": [
    {
     "data": {
      "text/plain": [
       "0.7206108677637031"
      ]
     },
     "execution_count": 377,
     "metadata": {},
     "output_type": "execute_result"
    }
   ],
   "source": [
    "# Percent of patients with at least one insurance documented with start date prior to 30 days from metastatic diagnosis.\n",
    "insurance_wide.eq(1).any(1).sum()/insurance_wide.shape[0]"
   ]
  },
  {
   "cell_type": "code",
   "execution_count": 378,
   "id": "a4d17808",
   "metadata": {},
   "outputs": [
    {
     "data": {
      "text/plain": [
       "commercial            0.415138\n",
       "medicare              0.348960\n",
       "other                 0.108599\n",
       "medicaid              0.087842\n",
       "patient_assistance    0.059074\n",
       "other_govt            0.034253\n",
       "medicare_medicaid     0.028925\n",
       "self_pay              0.019257\n",
       "dtype: float64"
      ]
     },
     "execution_count": 378,
     "metadata": {},
     "output_type": "execute_result"
    }
   ],
   "source": [
    "# Percentage breakdown of insurance by type at time of advanced diagnosis.\n",
    "(insurance_wide.iloc[:, 1:9].sum()/insurance_wide.shape[0]).sort_values(ascending = False)"
   ]
  },
  {
   "cell_type": "code",
   "execution_count": 379,
   "id": "3a5d02c9",
   "metadata": {},
   "outputs": [
    {
     "data": {
      "text/html": [
       "<div>\n",
       "<style scoped>\n",
       "    .dataframe tbody tr th:only-of-type {\n",
       "        vertical-align: middle;\n",
       "    }\n",
       "\n",
       "    .dataframe tbody tr th {\n",
       "        vertical-align: top;\n",
       "    }\n",
       "\n",
       "    .dataframe thead th {\n",
       "        text-align: right;\n",
       "    }\n",
       "</style>\n",
       "<table border=\"1\" class=\"dataframe\">\n",
       "  <thead>\n",
       "    <tr style=\"text-align: right;\">\n",
       "      <th></th>\n",
       "      <th>PatientID</th>\n",
       "      <th>medicare</th>\n",
       "      <th>medicaid</th>\n",
       "      <th>medicare_medicaid</th>\n",
       "      <th>commercial</th>\n",
       "      <th>patient_assistance</th>\n",
       "      <th>other_govt</th>\n",
       "      <th>self_pay</th>\n",
       "      <th>other</th>\n",
       "    </tr>\n",
       "  </thead>\n",
       "  <tbody>\n",
       "    <tr>\n",
       "      <th>4852</th>\n",
       "      <td>F44154A2B25A6</td>\n",
       "      <td>1.0</td>\n",
       "      <td>0.0</td>\n",
       "      <td>0.0</td>\n",
       "      <td>0.0</td>\n",
       "      <td>0.0</td>\n",
       "      <td>0.0</td>\n",
       "      <td>0.0</td>\n",
       "      <td>0.0</td>\n",
       "    </tr>\n",
       "    <tr>\n",
       "      <th>16446</th>\n",
       "      <td>FE67B8263065F</td>\n",
       "      <td>0.0</td>\n",
       "      <td>0.0</td>\n",
       "      <td>0.0</td>\n",
       "      <td>1.0</td>\n",
       "      <td>0.0</td>\n",
       "      <td>0.0</td>\n",
       "      <td>0.0</td>\n",
       "      <td>0.0</td>\n",
       "    </tr>\n",
       "    <tr>\n",
       "      <th>21075</th>\n",
       "      <td>FF13BC1008272</td>\n",
       "      <td>0.0</td>\n",
       "      <td>0.0</td>\n",
       "      <td>0.0</td>\n",
       "      <td>0.0</td>\n",
       "      <td>0.0</td>\n",
       "      <td>0.0</td>\n",
       "      <td>0.0</td>\n",
       "      <td>0.0</td>\n",
       "    </tr>\n",
       "    <tr>\n",
       "      <th>12506</th>\n",
       "      <td>FAF37BF9CA7B5</td>\n",
       "      <td>0.0</td>\n",
       "      <td>0.0</td>\n",
       "      <td>0.0</td>\n",
       "      <td>1.0</td>\n",
       "      <td>0.0</td>\n",
       "      <td>0.0</td>\n",
       "      <td>0.0</td>\n",
       "      <td>0.0</td>\n",
       "    </tr>\n",
       "    <tr>\n",
       "      <th>17140</th>\n",
       "      <td>F0E1B7C92DA66</td>\n",
       "      <td>0.0</td>\n",
       "      <td>0.0</td>\n",
       "      <td>0.0</td>\n",
       "      <td>0.0</td>\n",
       "      <td>0.0</td>\n",
       "      <td>0.0</td>\n",
       "      <td>0.0</td>\n",
       "      <td>0.0</td>\n",
       "    </tr>\n",
       "  </tbody>\n",
       "</table>\n",
       "</div>"
      ],
      "text/plain": [
       "           PatientID  medicare  medicaid  medicare_medicaid  commercial  \\\n",
       "4852   F44154A2B25A6       1.0       0.0                0.0         0.0   \n",
       "16446  FE67B8263065F       0.0       0.0                0.0         1.0   \n",
       "21075  FF13BC1008272       0.0       0.0                0.0         0.0   \n",
       "12506  FAF37BF9CA7B5       0.0       0.0                0.0         1.0   \n",
       "17140  F0E1B7C92DA66       0.0       0.0                0.0         0.0   \n",
       "\n",
       "       patient_assistance  other_govt  self_pay  other  \n",
       "4852                  0.0         0.0       0.0    0.0  \n",
       "16446                 0.0         0.0       0.0    0.0  \n",
       "21075                 0.0         0.0       0.0    0.0  \n",
       "12506                 0.0         0.0       0.0    0.0  \n",
       "17140                 0.0         0.0       0.0    0.0  "
      ]
     },
     "execution_count": 379,
     "metadata": {},
     "output_type": "execute_result"
    }
   ],
   "source": [
    "insurance_wide.sample(5)"
   ]
  },
  {
   "cell_type": "code",
   "execution_count": 380,
   "id": "f96cec1f",
   "metadata": {},
   "outputs": [
    {
     "name": "stdout",
     "output_type": "stream",
     "text": [
      "Variable         Type         Data/Info\n",
      "---------------------------------------\n",
      "biomarker_wide   DataFrame               PatientID     <...>n[25341 rows x 7 columns]\n",
      "demographics     DataFrame               PatientID gend<...>n[25341 rows x 7 columns]\n",
      "enhanced_met     DataFrame               PatientID diag<...>n[25341 rows x 7 columns]\n",
      "insurance        DataFrame                PatientID    <...>102024 rows x 16 columns]\n",
      "insurance_wide   DataFrame               PatientID  med<...>n[25341 rows x 9 columns]\n",
      "insurance_win    DataFrame                PatientID    <...>[45149 rows x 25 columns]\n",
      "med_admin_wide   DataFrame               PatientID  ste<...>[25341 rows x 14 columns]\n",
      "mortality        DataFrame               PatientID  dea<...>n[25341 rows x 3 columns]\n"
     ]
    }
   ],
   "source": [
    "%whos DataFrame"
   ]
  },
  {
   "cell_type": "code",
   "execution_count": 381,
   "id": "3fab8fe4",
   "metadata": {},
   "outputs": [],
   "source": [
    "# Keep biomarker_wide, demographics, enhanced_met, insurance_wide, med_admin_wide, and mortality\n",
    "del insurance\n",
    "del insurance_win"
   ]
  },
  {
   "cell_type": "markdown",
   "id": "27deed8a",
   "metadata": {},
   "source": [
    "### 7. ECOG"
   ]
  },
  {
   "cell_type": "code",
   "execution_count": 382,
   "id": "bef3fc3c",
   "metadata": {},
   "outputs": [],
   "source": [
    "ecog = pd.read_csv('ECOG.csv')"
   ]
  },
  {
   "cell_type": "code",
   "execution_count": 383,
   "id": "67d29ddd",
   "metadata": {},
   "outputs": [],
   "source": [
    "ecog = ecog[ecog['PatientID'].isin(train_IDs)]"
   ]
  },
  {
   "cell_type": "code",
   "execution_count": 384,
   "id": "76aa2b4e",
   "metadata": {},
   "outputs": [
    {
     "data": {
      "text/plain": [
       "(521714, 19401)"
      ]
     },
     "execution_count": 384,
     "metadata": {},
     "output_type": "execute_result"
    }
   ],
   "source": [
    "row_ID(ecog)"
   ]
  },
  {
   "cell_type": "code",
   "execution_count": 385,
   "id": "21be7255",
   "metadata": {},
   "outputs": [
    {
     "data": {
      "text/html": [
       "<div>\n",
       "<style scoped>\n",
       "    .dataframe tbody tr th:only-of-type {\n",
       "        vertical-align: middle;\n",
       "    }\n",
       "\n",
       "    .dataframe tbody tr th {\n",
       "        vertical-align: top;\n",
       "    }\n",
       "\n",
       "    .dataframe thead th {\n",
       "        text-align: right;\n",
       "    }\n",
       "</style>\n",
       "<table border=\"1\" class=\"dataframe\">\n",
       "  <thead>\n",
       "    <tr style=\"text-align: right;\">\n",
       "      <th></th>\n",
       "      <th>PatientID</th>\n",
       "      <th>PracticeID</th>\n",
       "      <th>EcogDate</th>\n",
       "      <th>EcogValue</th>\n",
       "    </tr>\n",
       "  </thead>\n",
       "  <tbody>\n",
       "    <tr>\n",
       "      <th>554160</th>\n",
       "      <td>F35A6E3E21CB1</td>\n",
       "      <td>S291CF564BD92</td>\n",
       "      <td>2013-03-14</td>\n",
       "      <td>0</td>\n",
       "    </tr>\n",
       "    <tr>\n",
       "      <th>532633</th>\n",
       "      <td>FF6E493CC29E1</td>\n",
       "      <td>S291CF564BD92</td>\n",
       "      <td>2021-04-01</td>\n",
       "      <td>1</td>\n",
       "    </tr>\n",
       "    <tr>\n",
       "      <th>49336</th>\n",
       "      <td>F2F4C6BBA3B16</td>\n",
       "      <td>SCC8EE4FB66C3</td>\n",
       "      <td>2012-11-07</td>\n",
       "      <td>0</td>\n",
       "    </tr>\n",
       "    <tr>\n",
       "      <th>518051</th>\n",
       "      <td>FBD90B65BA4A4</td>\n",
       "      <td>S291CF564BD92</td>\n",
       "      <td>2021-03-01</td>\n",
       "      <td>1</td>\n",
       "    </tr>\n",
       "    <tr>\n",
       "      <th>106654</th>\n",
       "      <td>F6F83C47F0AFD</td>\n",
       "      <td>SA819E96EB4B3</td>\n",
       "      <td>2017-07-10</td>\n",
       "      <td>0</td>\n",
       "    </tr>\n",
       "  </tbody>\n",
       "</table>\n",
       "</div>"
      ],
      "text/plain": [
       "            PatientID     PracticeID    EcogDate  EcogValue\n",
       "554160  F35A6E3E21CB1  S291CF564BD92  2013-03-14          0\n",
       "532633  FF6E493CC29E1  S291CF564BD92  2021-04-01          1\n",
       "49336   F2F4C6BBA3B16  SCC8EE4FB66C3  2012-11-07          0\n",
       "518051  FBD90B65BA4A4  S291CF564BD92  2021-03-01          1\n",
       "106654  F6F83C47F0AFD  SA819E96EB4B3  2017-07-10          0"
      ]
     },
     "execution_count": 385,
     "metadata": {},
     "output_type": "execute_result"
    }
   ],
   "source": [
    "ecog.sample(5)"
   ]
  },
  {
   "cell_type": "code",
   "execution_count": 386,
   "id": "4090e733",
   "metadata": {},
   "outputs": [
    {
     "data": {
      "text/plain": [
       "1    0.429337\n",
       "0    0.417901\n",
       "2    0.116882\n",
       "3    0.032414\n",
       "4    0.003466\n",
       "Name: EcogValue, dtype: float64"
      ]
     },
     "execution_count": 386,
     "metadata": {},
     "output_type": "execute_result"
    }
   ],
   "source": [
    "ecog.EcogValue.value_counts(dropna = False, normalize = True)"
   ]
  },
  {
   "cell_type": "markdown",
   "id": "d1049daa",
   "metadata": {},
   "source": [
    "**The ECOG table is a longitudinal record of structured ECOG scores captured in the EHR for each patient. Many patients have multiple ECOG scores reported. A new dataframe will be built where one ECOG score will be assigned to each patient. The index date will be date of advanced diagnosis with an elgible window period of +30 days to -90 days from advanced diagnosis. The ECOG score closest to index date will be assigned to the patient. In the case of two ECOG scores on the same day or equidistant but on opposite sides of the index date, the higher ECOG score (worse performance) will be selected.** \n",
    "\n",
    "**BaselineECOG is a composite table that selects one ECOG score within +7 days and -30 days of a line of therapy. Patients might have two baseline ECOG values for line number 1 due to maintenance therapy. BaselineECOG will not be used for creating baseline models.** "
   ]
  },
  {
   "cell_type": "code",
   "execution_count": 387,
   "id": "b45869c2",
   "metadata": {},
   "outputs": [],
   "source": [
    "ecog = pd.merge(ecog, enhanced_met[['PatientID', 'met_date']], on = 'PatientID', how = 'left')"
   ]
  },
  {
   "cell_type": "code",
   "execution_count": 388,
   "id": "bbfce3ef",
   "metadata": {},
   "outputs": [],
   "source": [
    "ecog.loc[:, 'EcogDate'] = pd.to_datetime(ecog['EcogDate'])      "
   ]
  },
  {
   "cell_type": "code",
   "execution_count": 389,
   "id": "5b1b6d17",
   "metadata": {},
   "outputs": [],
   "source": [
    "ecog.loc[:, 'ecog_date_diff'] = (ecog['EcogDate'] - ecog['met_date']).dt.days"
   ]
  },
  {
   "cell_type": "code",
   "execution_count": 390,
   "id": "a08427e2",
   "metadata": {},
   "outputs": [],
   "source": [
    "ecog_win = ecog[(ecog['ecog_date_diff'] >= -90) & (ecog['ecog_date_diff'] <= 30)]"
   ]
  },
  {
   "cell_type": "code",
   "execution_count": 391,
   "id": "48241d50",
   "metadata": {},
   "outputs": [
    {
     "data": {
      "text/plain": [
       "(31287, 11298)"
      ]
     },
     "execution_count": 391,
     "metadata": {},
     "output_type": "execute_result"
    }
   ],
   "source": [
    "row_ID(ecog_win)"
   ]
  },
  {
   "cell_type": "code",
   "execution_count": 392,
   "id": "080d5ef8",
   "metadata": {},
   "outputs": [
    {
     "name": "stderr",
     "output_type": "stream",
     "text": [
      "/Applications/anaconda3/lib/python3.7/site-packages/pandas/core/indexing.py:1773: SettingWithCopyWarning: \n",
      "A value is trying to be set on a copy of a slice from a DataFrame.\n",
      "Try using .loc[row_indexer,col_indexer] = value instead\n",
      "\n",
      "See the caveats in the documentation: https://pandas.pydata.org/pandas-docs/stable/user_guide/indexing.html#returning-a-view-versus-a-copy\n",
      "  self._setitem_single_column(ilocs[0], value, pi)\n"
     ]
    }
   ],
   "source": [
    "# Time from metastatic diagnosis to ECOG date will be converted to an absolute value. \n",
    "ecog_win.loc[:, 'ecog_date_diff'] = ecog_win['ecog_date_diff'].abs()"
   ]
  },
  {
   "cell_type": "code",
   "execution_count": 393,
   "id": "5e13989c",
   "metadata": {},
   "outputs": [],
   "source": [
    "# Sort values with ECOG nearest to time of diagnosis as top row (and largest ECOG if multiple ECOGs that day) then select top row.   ECOG date nearest to day of diagnosis as top row and largest ES\n",
    "ecog_diagnosis_wide = (\n",
    "    ecog_win\n",
    "    .sort_values(by = ['PatientID', 'ecog_date_diff', 'EcogValue'], ascending = [True, True, False])\n",
    "    .drop_duplicates(subset = ['PatientID'], keep = 'first' )\n",
    "    .filter(items = ['PatientID', 'EcogValue'])\n",
    "    .rename(columns = {'EcogValue': 'ecog_diagnosis'})\n",
    ")"
   ]
  },
  {
   "cell_type": "code",
   "execution_count": 394,
   "id": "cd5dc50c",
   "metadata": {},
   "outputs": [
    {
     "data": {
      "text/plain": [
       "(11298, 11298)"
      ]
     },
     "execution_count": 394,
     "metadata": {},
     "output_type": "execute_result"
    }
   ],
   "source": [
    "row_ID(ecog_diagnosis_wide)"
   ]
  },
  {
   "cell_type": "code",
   "execution_count": 395,
   "id": "e462fbfc",
   "metadata": {},
   "outputs": [],
   "source": [
    "# Append missing training IDs. \n",
    "ecog_diagnosis_wide = (\n",
    "    ecog_diagnosis_wide\n",
    "    .append(\n",
    "        pd.Series(train_IDs)[~pd.Series(train_IDs).isin(ecog_diagnosis_wide['PatientID'])].to_frame(name = 'PatientID'),\n",
    "        sort = False)\n",
    "    .fillna('unknown')\n",
    ")"
   ]
  },
  {
   "cell_type": "code",
   "execution_count": 396,
   "id": "066f877e",
   "metadata": {},
   "outputs": [
    {
     "data": {
      "text/plain": [
       "(25341, 25341)"
      ]
     },
     "execution_count": 396,
     "metadata": {},
     "output_type": "execute_result"
    }
   ],
   "source": [
    "row_ID(ecog_diagnosis_wide)"
   ]
  },
  {
   "cell_type": "code",
   "execution_count": 397,
   "id": "de0e70bd",
   "metadata": {},
   "outputs": [
    {
     "data": {
      "text/html": [
       "<div>\n",
       "<style scoped>\n",
       "    .dataframe tbody tr th:only-of-type {\n",
       "        vertical-align: middle;\n",
       "    }\n",
       "\n",
       "    .dataframe tbody tr th {\n",
       "        vertical-align: top;\n",
       "    }\n",
       "\n",
       "    .dataframe thead th {\n",
       "        text-align: right;\n",
       "    }\n",
       "</style>\n",
       "<table border=\"1\" class=\"dataframe\">\n",
       "  <thead>\n",
       "    <tr style=\"text-align: right;\">\n",
       "      <th></th>\n",
       "      <th>PatientID</th>\n",
       "      <th>ecog_diagnosis</th>\n",
       "    </tr>\n",
       "  </thead>\n",
       "  <tbody>\n",
       "    <tr>\n",
       "      <th>21426</th>\n",
       "      <td>F9106417BA126</td>\n",
       "      <td>unknown</td>\n",
       "    </tr>\n",
       "    <tr>\n",
       "      <th>25104</th>\n",
       "      <td>F28F32D31A53B</td>\n",
       "      <td>unknown</td>\n",
       "    </tr>\n",
       "    <tr>\n",
       "      <th>436354</th>\n",
       "      <td>F170F882AC7C5</td>\n",
       "      <td>0.0</td>\n",
       "    </tr>\n",
       "    <tr>\n",
       "      <th>3600</th>\n",
       "      <td>F0D520A3635E0</td>\n",
       "      <td>unknown</td>\n",
       "    </tr>\n",
       "    <tr>\n",
       "      <th>6252</th>\n",
       "      <td>F4AEB3B252B52</td>\n",
       "      <td>unknown</td>\n",
       "    </tr>\n",
       "  </tbody>\n",
       "</table>\n",
       "</div>"
      ],
      "text/plain": [
       "            PatientID ecog_diagnosis\n",
       "21426   F9106417BA126        unknown\n",
       "25104   F28F32D31A53B        unknown\n",
       "436354  F170F882AC7C5            0.0\n",
       "3600    F0D520A3635E0        unknown\n",
       "6252    F4AEB3B252B52        unknown"
      ]
     },
     "execution_count": 397,
     "metadata": {},
     "output_type": "execute_result"
    }
   ],
   "source": [
    "ecog_diagnosis_wide.sample(5)"
   ]
  },
  {
   "cell_type": "code",
   "execution_count": 398,
   "id": "e1065a50",
   "metadata": {},
   "outputs": [
    {
     "data": {
      "text/plain": [
       "unknown    0.554161\n",
       "0.0        0.214672\n",
       "1.0        0.154651\n",
       "2.0        0.053707\n",
       "3.0        0.020283\n",
       "4.0        0.002526\n",
       "Name: ecog_diagnosis, dtype: float64"
      ]
     },
     "execution_count": 398,
     "metadata": {},
     "output_type": "execute_result"
    }
   ],
   "source": [
    "ecog_diagnosis_wide['ecog_diagnosis'].value_counts(normalize = True, dropna = False)"
   ]
  },
  {
   "cell_type": "code",
   "execution_count": 399,
   "id": "0290f194",
   "metadata": {},
   "outputs": [
    {
     "name": "stdout",
     "output_type": "stream",
     "text": [
      "Variable              Type         Data/Info\n",
      "--------------------------------------------\n",
      "biomarker_wide        DataFrame               PatientID     <...>n[25341 rows x 7 columns]\n",
      "demographics          DataFrame               PatientID gend<...>n[25341 rows x 7 columns]\n",
      "ecog                  DataFrame                PatientID    <...>[521714 rows x 6 columns]\n",
      "ecog_diagnosis_wide   DataFrame                PatientID eco<...>n[25341 rows x 2 columns]\n",
      "ecog_win              DataFrame                PatientID    <...>n[31287 rows x 6 columns]\n",
      "enhanced_met          DataFrame               PatientID diag<...>n[25341 rows x 7 columns]\n",
      "insurance_wide        DataFrame               PatientID  med<...>n[25341 rows x 9 columns]\n",
      "med_admin_wide        DataFrame               PatientID  ste<...>[25341 rows x 14 columns]\n",
      "mortality             DataFrame               PatientID  dea<...>n[25341 rows x 3 columns]\n"
     ]
    }
   ],
   "source": [
    "%whos DataFrame"
   ]
  },
  {
   "cell_type": "code",
   "execution_count": 400,
   "id": "a13cf3aa",
   "metadata": {},
   "outputs": [],
   "source": [
    "# Keep biomarker_wide, demographics, ecog_diagnosis_wide, enhanced_met, insurance_wide, med_admin_wide, and mortality\n",
    "del ecog\n",
    "del ecog_win"
   ]
  },
  {
   "cell_type": "markdown",
   "id": "4d468796",
   "metadata": {},
   "source": [
    "### 8. Vitals"
   ]
  },
  {
   "cell_type": "code",
   "execution_count": 401,
   "id": "6f072c5c",
   "metadata": {},
   "outputs": [],
   "source": [
    "vitals = pd.read_csv('Vitals.csv')"
   ]
  },
  {
   "cell_type": "code",
   "execution_count": 402,
   "id": "c3e75df0",
   "metadata": {},
   "outputs": [],
   "source": [
    "vitals = vitals[vitals['PatientID'].isin(train_IDs)]"
   ]
  },
  {
   "cell_type": "code",
   "execution_count": 403,
   "id": "868bf5f2",
   "metadata": {},
   "outputs": [
    {
     "data": {
      "text/plain": [
       "(7937123, 25297)"
      ]
     },
     "execution_count": 403,
     "metadata": {},
     "output_type": "execute_result"
    }
   ],
   "source": [
    "row_ID(vitals)"
   ]
  },
  {
   "cell_type": "code",
   "execution_count": 404,
   "id": "b2219d34",
   "metadata": {},
   "outputs": [
    {
     "data": {
      "text/html": [
       "<div>\n",
       "<style scoped>\n",
       "    .dataframe tbody tr th:only-of-type {\n",
       "        vertical-align: middle;\n",
       "    }\n",
       "\n",
       "    .dataframe tbody tr th {\n",
       "        vertical-align: top;\n",
       "    }\n",
       "\n",
       "    .dataframe thead th {\n",
       "        text-align: right;\n",
       "    }\n",
       "</style>\n",
       "<table border=\"1\" class=\"dataframe\">\n",
       "  <thead>\n",
       "    <tr style=\"text-align: right;\">\n",
       "      <th></th>\n",
       "      <th>PatientID</th>\n",
       "      <th>PracticeID</th>\n",
       "      <th>TestDate</th>\n",
       "      <th>LOINC</th>\n",
       "      <th>Test</th>\n",
       "      <th>LabComponent</th>\n",
       "      <th>TestBaseName</th>\n",
       "      <th>TestUnits</th>\n",
       "      <th>TestUnitsCleaned</th>\n",
       "      <th>ResultDate</th>\n",
       "      <th>TestResult</th>\n",
       "      <th>TestResultCleaned</th>\n",
       "      <th>MinNorm</th>\n",
       "      <th>MinNormCleaned</th>\n",
       "      <th>MaxNorm</th>\n",
       "      <th>MaxNormCleaned</th>\n",
       "    </tr>\n",
       "  </thead>\n",
       "  <tbody>\n",
       "    <tr>\n",
       "      <th>3953170</th>\n",
       "      <td>F65A6022CDFA3</td>\n",
       "      <td>SAD8F16CDAAF0</td>\n",
       "      <td>2015-10-26</td>\n",
       "      <td>8480-6</td>\n",
       "      <td>systolic blood pressure</td>\n",
       "      <td>Systolic blood pressure</td>\n",
       "      <td>intravascular systolic</td>\n",
       "      <td>NaN</td>\n",
       "      <td>NaN</td>\n",
       "      <td>NaN</td>\n",
       "      <td>185</td>\n",
       "      <td>NaN</td>\n",
       "      <td>NaN</td>\n",
       "      <td>NaN</td>\n",
       "      <td>NaN</td>\n",
       "      <td>NaN</td>\n",
       "    </tr>\n",
       "    <tr>\n",
       "      <th>5989569</th>\n",
       "      <td>F9A4510103DB6</td>\n",
       "      <td>SCC8EE4FB66C3</td>\n",
       "      <td>2015-06-16</td>\n",
       "      <td>29463-7</td>\n",
       "      <td>body weight</td>\n",
       "      <td>Body Weight</td>\n",
       "      <td>body weight</td>\n",
       "      <td>lb</td>\n",
       "      <td>kg</td>\n",
       "      <td>2015-06-16</td>\n",
       "      <td>192.1</td>\n",
       "      <td>87.135023</td>\n",
       "      <td>NaN</td>\n",
       "      <td>NaN</td>\n",
       "      <td>NaN</td>\n",
       "      <td>NaN</td>\n",
       "    </tr>\n",
       "    <tr>\n",
       "      <th>1958037</th>\n",
       "      <td>F33752B995BEA</td>\n",
       "      <td>SBB648C22FEF1</td>\n",
       "      <td>2014-07-17</td>\n",
       "      <td>72514-3</td>\n",
       "      <td>pain severity - 0-10 verbal numeric rating [sc...</td>\n",
       "      <td>Pain severity - 0-10 verbal numeric rating</td>\n",
       "      <td>pain severity - 0-10 verbal numeric rating</td>\n",
       "      <td>NaN</td>\n",
       "      <td>NaN</td>\n",
       "      <td>NaN</td>\n",
       "      <td>0</td>\n",
       "      <td>NaN</td>\n",
       "      <td>NaN</td>\n",
       "      <td>NaN</td>\n",
       "      <td>NaN</td>\n",
       "      <td>NaN</td>\n",
       "    </tr>\n",
       "    <tr>\n",
       "      <th>7542197</th>\n",
       "      <td>FC1C5192695DA</td>\n",
       "      <td>S044262E32626</td>\n",
       "      <td>2022-08-30</td>\n",
       "      <td>8310-5</td>\n",
       "      <td>body temperature</td>\n",
       "      <td>Body temperature</td>\n",
       "      <td>body temperature</td>\n",
       "      <td>degree Fahrenheit</td>\n",
       "      <td>NaN</td>\n",
       "      <td>NaN</td>\n",
       "      <td>97.7</td>\n",
       "      <td>NaN</td>\n",
       "      <td>NaN</td>\n",
       "      <td>NaN</td>\n",
       "      <td>NaN</td>\n",
       "      <td>NaN</td>\n",
       "    </tr>\n",
       "    <tr>\n",
       "      <th>9100963</th>\n",
       "      <td>FEAEAD86060B3</td>\n",
       "      <td>S291CF564BD92</td>\n",
       "      <td>2021-02-11</td>\n",
       "      <td>59408-5</td>\n",
       "      <td>oxygen saturation in arterial blood by pulse o...</td>\n",
       "      <td>Oxygen saturation in Arterial blood by Pulse o...</td>\n",
       "      <td>oxygen saturation</td>\n",
       "      <td>%</td>\n",
       "      <td>%</td>\n",
       "      <td>NaN</td>\n",
       "      <td>96</td>\n",
       "      <td>96.000000</td>\n",
       "      <td>NaN</td>\n",
       "      <td>NaN</td>\n",
       "      <td>NaN</td>\n",
       "      <td>NaN</td>\n",
       "    </tr>\n",
       "  </tbody>\n",
       "</table>\n",
       "</div>"
      ],
      "text/plain": [
       "             PatientID     PracticeID    TestDate    LOINC  \\\n",
       "3953170  F65A6022CDFA3  SAD8F16CDAAF0  2015-10-26   8480-6   \n",
       "5989569  F9A4510103DB6  SCC8EE4FB66C3  2015-06-16  29463-7   \n",
       "1958037  F33752B995BEA  SBB648C22FEF1  2014-07-17  72514-3   \n",
       "7542197  FC1C5192695DA  S044262E32626  2022-08-30   8310-5   \n",
       "9100963  FEAEAD86060B3  S291CF564BD92  2021-02-11  59408-5   \n",
       "\n",
       "                                                      Test  \\\n",
       "3953170                            systolic blood pressure   \n",
       "5989569                                        body weight   \n",
       "1958037  pain severity - 0-10 verbal numeric rating [sc...   \n",
       "7542197                                   body temperature   \n",
       "9100963  oxygen saturation in arterial blood by pulse o...   \n",
       "\n",
       "                                              LabComponent  \\\n",
       "3953170                            Systolic blood pressure   \n",
       "5989569                                        Body Weight   \n",
       "1958037         Pain severity - 0-10 verbal numeric rating   \n",
       "7542197                                   Body temperature   \n",
       "9100963  Oxygen saturation in Arterial blood by Pulse o...   \n",
       "\n",
       "                                       TestBaseName          TestUnits  \\\n",
       "3953170                      intravascular systolic                NaN   \n",
       "5989569                                 body weight                 lb   \n",
       "1958037  pain severity - 0-10 verbal numeric rating                NaN   \n",
       "7542197                            body temperature  degree Fahrenheit   \n",
       "9100963                           oxygen saturation                  %   \n",
       "\n",
       "        TestUnitsCleaned  ResultDate TestResult  TestResultCleaned  MinNorm  \\\n",
       "3953170              NaN         NaN        185                NaN      NaN   \n",
       "5989569               kg  2015-06-16      192.1          87.135023      NaN   \n",
       "1958037              NaN         NaN          0                NaN      NaN   \n",
       "7542197              NaN         NaN       97.7                NaN      NaN   \n",
       "9100963                %         NaN         96          96.000000      NaN   \n",
       "\n",
       "         MinNormCleaned  MaxNorm  MaxNormCleaned  \n",
       "3953170             NaN      NaN             NaN  \n",
       "5989569             NaN      NaN             NaN  \n",
       "1958037             NaN      NaN             NaN  \n",
       "7542197             NaN      NaN             NaN  \n",
       "9100963             NaN      NaN             NaN  "
      ]
     },
     "execution_count": 404,
     "metadata": {},
     "output_type": "execute_result"
    }
   ],
   "source": [
    "vitals.sample(5)"
   ]
  },
  {
   "cell_type": "code",
   "execution_count": 405,
   "id": "442ff21e",
   "metadata": {},
   "outputs": [
    {
     "data": {
      "text/plain": [
       "heart rate                                                       0.175601\n",
       "body temperature                                                 0.157343\n",
       "body weight                                                      0.136184\n",
       "systolic blood pressure                                          0.131750\n",
       "diastolic blood pressure                                         0.130930\n",
       "body height                                                      0.117704\n",
       "oxygen saturation in arterial blood by pulse oximetry            0.085222\n",
       "respiratory rate                                                 0.036383\n",
       "pain severity - 0-10 verbal numeric rating [score] - reported    0.020073\n",
       "body surface area                                                0.005884\n",
       "Name: Test, dtype: float64"
      ]
     },
     "execution_count": 405,
     "metadata": {},
     "output_type": "execute_result"
    }
   ],
   "source": [
    "vitals['Test'].value_counts(normalize = True, dropna = False).head(10)"
   ]
  },
  {
   "cell_type": "markdown",
   "id": "b202db87",
   "metadata": {},
   "source": [
    "**The Vitals table is a longitudinal record of vitals captured in the EHR for each patient. A weight and BMI variable at time of advanced diagnosis will be created. The elgibility window will be -90 days to +30 days from advanced diagnosis. Average height from all visits will be used to calculate BMI. In the case of two weights on the same day or equidistant but on opposite sides of the index date, the lowest weight will be selected. Percent change in weight and weight slope 3 months within metastatic diagnosis will be calculated. Patients must have at least two weight recordings to calculate percent change in weight or weight slope.** "
   ]
  },
  {
   "cell_type": "markdown",
   "id": "f5d6cb3d",
   "metadata": {},
   "source": [
    "#### Weight and BMI"
   ]
  },
  {
   "cell_type": "code",
   "execution_count": 406,
   "id": "4055d915",
   "metadata": {},
   "outputs": [],
   "source": [
    "# Create weight dataframe; remove weight values that are empty or equal to zero.\n",
    "weight = (\n",
    "    vitals\n",
    "    .query('Test == \"body weight\"')\n",
    "    .filter(items = ['PatientID', 'TestDate', 'TestResultCleaned'])\n",
    "    .rename(columns = {'TestResultCleaned': 'weight'})\n",
    "    .dropna(subset = ['weight'])\n",
    "    .query('weight != 0')\n",
    ")"
   ]
  },
  {
   "cell_type": "code",
   "execution_count": 407,
   "id": "fd43b01b",
   "metadata": {},
   "outputs": [],
   "source": [
    "weight.loc[:, 'TestDate'] = pd.to_datetime(weight['TestDate'])"
   ]
  },
  {
   "cell_type": "code",
   "execution_count": 408,
   "id": "6ba94b8b",
   "metadata": {},
   "outputs": [],
   "source": [
    "weight = pd.merge(weight, enhanced_met[['PatientID', 'met_date']], on = 'PatientID', how = 'left')"
   ]
  },
  {
   "cell_type": "code",
   "execution_count": 409,
   "id": "4cb1ca0e",
   "metadata": {},
   "outputs": [],
   "source": [
    "# Weight elgibliity window is -90 and +30 from metastatic diagnosis diagnosis. \n",
    "weight_win_bmi = (\n",
    "    weight\n",
    "    .assign(weight_date_diff = (weight['TestDate'] - weight['met_date']).dt.days)\n",
    "    .query('weight_date_diff >= -90 and weight_date_diff <= 30')\n",
    ")"
   ]
  },
  {
   "cell_type": "code",
   "execution_count": 410,
   "id": "81014131",
   "metadata": {},
   "outputs": [],
   "source": [
    "weight_win_bmi.loc[:, 'weight_date_diff'] = weight_win_bmi['weight_date_diff'].abs()"
   ]
  },
  {
   "cell_type": "code",
   "execution_count": 411,
   "id": "69e14d14",
   "metadata": {},
   "outputs": [],
   "source": [
    "# Select weight closest to date of metastatic diagnosis; lowest weight selected in the event of two weights on same day or equidistant. \n",
    "weight_bmi_wide = (\n",
    "    weight_win_bmi\n",
    "    .sort_values(by = ['PatientID', 'weight_date_diff', 'weight'], ascending = [True, True, True])\n",
    "    .drop_duplicates(subset = ['PatientID'], keep = 'first')\n",
    "    .filter(items = ['PatientID', 'weight'])\n",
    "    .rename(columns = {'weight': 'weight_diag'})\n",
    ")"
   ]
  },
  {
   "cell_type": "code",
   "execution_count": 412,
   "id": "c0afd834",
   "metadata": {},
   "outputs": [],
   "source": [
    "# Dataframe of average height for each patient. \n",
    "height_avg = (\n",
    "    vitals\n",
    "    .query('Test == \"body height\"')\n",
    "    .filter(items = ['PatientID', 'TestResultCleaned'])\n",
    "    .query('TestResultCleaned > 0')\n",
    "    .groupby('PatientID')['TestResultCleaned'].mean()\n",
    "    .to_frame()\n",
    "    .reset_index()\n",
    "    .rename(columns = {'TestResultCleaned': 'height_avg'})\n",
    ")"
   ]
  },
  {
   "cell_type": "code",
   "execution_count": 413,
   "id": "e2f61df9",
   "metadata": {},
   "outputs": [],
   "source": [
    "weight_bmi_wide = pd.merge(weight_bmi_wide, height_avg, on = 'PatientID', how = 'left')"
   ]
  },
  {
   "cell_type": "code",
   "execution_count": 414,
   "id": "552f2b4e",
   "metadata": {},
   "outputs": [],
   "source": [
    "# Create BMI column. \n",
    "weight_bmi_wide = (\n",
    "    weight_bmi_wide\n",
    "    .assign(bmi_diag = lambda x: (x['weight_diag']/(x['height_avg']*x['height_avg']))*10000)\n",
    "    .drop(columns = ['height_avg'])\n",
    ")"
   ]
  },
  {
   "cell_type": "code",
   "execution_count": 415,
   "id": "e7044bfa",
   "metadata": {},
   "outputs": [],
   "source": [
    "# Append excluded IDs from training set and create a missing variable for those without BMI at diagnosis. \n",
    "weight_bmi_wide = (\n",
    "    weight_bmi_wide\n",
    "    .append(\n",
    "        pd.Series(train_IDs)[~pd.Series(train_IDs).isin(weight_bmi_wide['PatientID'])].to_frame(name = 'PatientID'),\n",
    "        sort = False)\n",
    ")"
   ]
  },
  {
   "cell_type": "code",
   "execution_count": 416,
   "id": "03e057e3",
   "metadata": {},
   "outputs": [
    {
     "data": {
      "text/plain": [
       "(25341, 25341)"
      ]
     },
     "execution_count": 416,
     "metadata": {},
     "output_type": "execute_result"
    }
   ],
   "source": [
    "row_ID(weight_bmi_wide)"
   ]
  },
  {
   "cell_type": "code",
   "execution_count": 417,
   "id": "19c7807d",
   "metadata": {},
   "outputs": [],
   "source": [
    "weight_bmi_wide.loc[:, 'bmi_diag_na'] = np.where(weight_bmi_wide['bmi_diag'].isna(), 1, 0)"
   ]
  },
  {
   "cell_type": "code",
   "execution_count": 418,
   "id": "a0eda816",
   "metadata": {},
   "outputs": [
    {
     "data": {
      "text/html": [
       "<div>\n",
       "<style scoped>\n",
       "    .dataframe tbody tr th:only-of-type {\n",
       "        vertical-align: middle;\n",
       "    }\n",
       "\n",
       "    .dataframe tbody tr th {\n",
       "        vertical-align: top;\n",
       "    }\n",
       "\n",
       "    .dataframe thead th {\n",
       "        text-align: right;\n",
       "    }\n",
       "</style>\n",
       "<table border=\"1\" class=\"dataframe\">\n",
       "  <thead>\n",
       "    <tr style=\"text-align: right;\">\n",
       "      <th></th>\n",
       "      <th>PatientID</th>\n",
       "      <th>weight_diag</th>\n",
       "      <th>bmi_diag</th>\n",
       "      <th>bmi_diag_na</th>\n",
       "    </tr>\n",
       "  </thead>\n",
       "  <tbody>\n",
       "    <tr>\n",
       "      <th>7756</th>\n",
       "      <td>F6C9529A51C65</td>\n",
       "      <td>106.412683</td>\n",
       "      <td>35.670413</td>\n",
       "      <td>0</td>\n",
       "    </tr>\n",
       "    <tr>\n",
       "      <th>6744</th>\n",
       "      <td>F5DEB22B47AC3</td>\n",
       "      <td>53.796011</td>\n",
       "      <td>25.220109</td>\n",
       "      <td>0</td>\n",
       "    </tr>\n",
       "    <tr>\n",
       "      <th>16116</th>\n",
       "      <td>FE0C17B6EE4AC</td>\n",
       "      <td>68.038800</td>\n",
       "      <td>26.307876</td>\n",
       "      <td>0</td>\n",
       "    </tr>\n",
       "    <tr>\n",
       "      <th>12008</th>\n",
       "      <td>FA7C3966C3B3B</td>\n",
       "      <td>83.007336</td>\n",
       "      <td>31.411530</td>\n",
       "      <td>0</td>\n",
       "    </tr>\n",
       "    <tr>\n",
       "      <th>9444</th>\n",
       "      <td>F031291F16747</td>\n",
       "      <td>NaN</td>\n",
       "      <td>NaN</td>\n",
       "      <td>1</td>\n",
       "    </tr>\n",
       "  </tbody>\n",
       "</table>\n",
       "</div>"
      ],
      "text/plain": [
       "           PatientID  weight_diag   bmi_diag  bmi_diag_na\n",
       "7756   F6C9529A51C65   106.412683  35.670413            0\n",
       "6744   F5DEB22B47AC3    53.796011  25.220109            0\n",
       "16116  FE0C17B6EE4AC    68.038800  26.307876            0\n",
       "12008  FA7C3966C3B3B    83.007336  31.411530            0\n",
       "9444   F031291F16747          NaN        NaN            1"
      ]
     },
     "execution_count": 418,
     "metadata": {},
     "output_type": "execute_result"
    }
   ],
   "source": [
    "weight_bmi_wide.sample(5)"
   ]
  },
  {
   "cell_type": "code",
   "execution_count": 419,
   "id": "dd8d568a",
   "metadata": {},
   "outputs": [
    {
     "data": {
      "text/html": [
       "<div>\n",
       "<style scoped>\n",
       "    .dataframe tbody tr th:only-of-type {\n",
       "        vertical-align: middle;\n",
       "    }\n",
       "\n",
       "    .dataframe tbody tr th {\n",
       "        vertical-align: top;\n",
       "    }\n",
       "\n",
       "    .dataframe thead th {\n",
       "        text-align: right;\n",
       "    }\n",
       "</style>\n",
       "<table border=\"1\" class=\"dataframe\">\n",
       "  <thead>\n",
       "    <tr style=\"text-align: right;\">\n",
       "      <th></th>\n",
       "      <th>weight_diag</th>\n",
       "      <th>bmi_diag</th>\n",
       "    </tr>\n",
       "  </thead>\n",
       "  <tbody>\n",
       "    <tr>\n",
       "      <th>count</th>\n",
       "      <td>18376.000000</td>\n",
       "      <td>18282.000000</td>\n",
       "    </tr>\n",
       "    <tr>\n",
       "      <th>mean</th>\n",
       "      <td>75.750693</td>\n",
       "      <td>28.810898</td>\n",
       "    </tr>\n",
       "    <tr>\n",
       "      <th>std</th>\n",
       "      <td>19.451581</td>\n",
       "      <td>7.131443</td>\n",
       "    </tr>\n",
       "    <tr>\n",
       "      <th>min</th>\n",
       "      <td>0.453592</td>\n",
       "      <td>0.152749</td>\n",
       "    </tr>\n",
       "    <tr>\n",
       "      <th>25%</th>\n",
       "      <td>62.051386</td>\n",
       "      <td>23.855216</td>\n",
       "    </tr>\n",
       "    <tr>\n",
       "      <th>50%</th>\n",
       "      <td>72.665438</td>\n",
       "      <td>27.709917</td>\n",
       "    </tr>\n",
       "    <tr>\n",
       "      <th>75%</th>\n",
       "      <td>86.182480</td>\n",
       "      <td>32.613064</td>\n",
       "    </tr>\n",
       "    <tr>\n",
       "      <th>max</th>\n",
       "      <td>227.000000</td>\n",
       "      <td>195.959282</td>\n",
       "    </tr>\n",
       "  </tbody>\n",
       "</table>\n",
       "</div>"
      ],
      "text/plain": [
       "        weight_diag      bmi_diag\n",
       "count  18376.000000  18282.000000\n",
       "mean      75.750693     28.810898\n",
       "std       19.451581      7.131443\n",
       "min        0.453592      0.152749\n",
       "25%       62.051386     23.855216\n",
       "50%       72.665438     27.709917\n",
       "75%       86.182480     32.613064\n",
       "max      227.000000    195.959282"
      ]
     },
     "execution_count": 419,
     "metadata": {},
     "output_type": "execute_result"
    }
   ],
   "source": [
    "weight_bmi_wide.iloc[:, 0:3].describe()"
   ]
  },
  {
   "cell_type": "markdown",
   "id": "7ae35193",
   "metadata": {},
   "source": [
    "#### Percent change "
   ]
  },
  {
   "cell_type": "code",
   "execution_count": 420,
   "id": "5dbf0af4",
   "metadata": {},
   "outputs": [],
   "source": [
    "# Select elgbility window of -90 to +90 days from advanced diagnosis.\n",
    "weight_win_summary = (\n",
    "    weight\n",
    "    .assign(weight_date_diff = (weight['TestDate'] - weight['met_date']).dt.days)\n",
    "    .query('weight_date_diff >= -90 and weight_date_diff <= 90')\n",
    ")"
   ]
  },
  {
   "cell_type": "code",
   "execution_count": 421,
   "id": "8578d8c2",
   "metadata": {},
   "outputs": [],
   "source": [
    "# Select patients with more than 1 weight recording within elgibility window.\n",
    "weight_win_summary = weight_win_summary[weight_win_summary.duplicated(subset = ['PatientID'], keep = False)]"
   ]
  },
  {
   "cell_type": "code",
   "execution_count": 422,
   "id": "c60f1340",
   "metadata": {},
   "outputs": [],
   "source": [
    "# Select weight from the earliest time within elgibility window. \n",
    "weight_tmin = weight_win_summary.loc[weight_win_summary.groupby('PatientID')['weight_date_diff'].idxmin()]"
   ]
  },
  {
   "cell_type": "code",
   "execution_count": 423,
   "id": "32662a58",
   "metadata": {},
   "outputs": [],
   "source": [
    "# Select weight from the latest time within elgibility window. \n",
    "weight_tmax = weight_win_summary.loc[weight_win_summary.groupby('PatientID')['weight_date_diff'].idxmax()]"
   ]
  },
  {
   "cell_type": "code",
   "execution_count": 424,
   "id": "8dedcde0",
   "metadata": {},
   "outputs": [],
   "source": [
    "# Combine above two dataframes and sort from earliest recorded weight to latest recorded weight for each patient. \n",
    "weight_tcomb = (\n",
    "    pd.concat([weight_tmin, weight_tmax])\n",
    "    .sort_values(by = ['PatientID', 'weight_date_diff'], ascending = True)\n",
    ")"
   ]
  },
  {
   "cell_type": "code",
   "execution_count": 425,
   "id": "85df8bfe",
   "metadata": {},
   "outputs": [
    {
     "data": {
      "text/plain": [
       "(37528, 18764)"
      ]
     },
     "execution_count": 425,
     "metadata": {},
     "output_type": "execute_result"
    }
   ],
   "source": [
    "row_ID(weight_tcomb)"
   ]
  },
  {
   "cell_type": "code",
   "execution_count": 426,
   "id": "4de4cc65",
   "metadata": {},
   "outputs": [],
   "source": [
    "weight_tcomb.loc[:, 'weight_pct_change'] = weight_tcomb.groupby('PatientID')['weight'].pct_change()"
   ]
  },
  {
   "cell_type": "code",
   "execution_count": 427,
   "id": "8075d5a6",
   "metadata": {},
   "outputs": [],
   "source": [
    "weight_tcomb.loc[:, 'diff_date_diff'] = weight_tcomb['weight_date_diff'].diff()"
   ]
  },
  {
   "cell_type": "code",
   "execution_count": 428,
   "id": "3bf02033",
   "metadata": {},
   "outputs": [],
   "source": [
    "# Drop empty rows for weight_pct_change.\n",
    "weight_pct_wide = (\n",
    "    weight_tcomb\n",
    "    .dropna(subset = ['weight_pct_change'])\n",
    "    .filter(items = ['PatientID', 'weight_pct_change', 'diff_date_diff'])\n",
    ")"
   ]
  },
  {
   "cell_type": "code",
   "execution_count": 429,
   "id": "b6f72ed7",
   "metadata": {},
   "outputs": [
    {
     "data": {
      "text/plain": [
       "(18764, 18764)"
      ]
     },
     "execution_count": 429,
     "metadata": {},
     "output_type": "execute_result"
    }
   ],
   "source": [
    "row_ID(weight_pct_wide)"
   ]
  },
  {
   "cell_type": "code",
   "execution_count": 430,
   "id": "500ff09c",
   "metadata": {},
   "outputs": [
    {
     "data": {
      "text/html": [
       "<div>\n",
       "<style scoped>\n",
       "    .dataframe tbody tr th:only-of-type {\n",
       "        vertical-align: middle;\n",
       "    }\n",
       "\n",
       "    .dataframe tbody tr th {\n",
       "        vertical-align: top;\n",
       "    }\n",
       "\n",
       "    .dataframe thead th {\n",
       "        text-align: right;\n",
       "    }\n",
       "</style>\n",
       "<table border=\"1\" class=\"dataframe\">\n",
       "  <thead>\n",
       "    <tr style=\"text-align: right;\">\n",
       "      <th></th>\n",
       "      <th>weight_pct_change</th>\n",
       "      <th>diff_date_diff</th>\n",
       "    </tr>\n",
       "  </thead>\n",
       "  <tbody>\n",
       "    <tr>\n",
       "      <th>count</th>\n",
       "      <td>18764.000000</td>\n",
       "      <td>18764.000000</td>\n",
       "    </tr>\n",
       "    <tr>\n",
       "      <th>mean</th>\n",
       "      <td>-0.010479</td>\n",
       "      <td>81.961149</td>\n",
       "    </tr>\n",
       "    <tr>\n",
       "      <th>std</th>\n",
       "      <td>1.449065</td>\n",
       "      <td>40.981784</td>\n",
       "    </tr>\n",
       "    <tr>\n",
       "      <th>min</th>\n",
       "      <td>-0.992366</td>\n",
       "      <td>0.000000</td>\n",
       "    </tr>\n",
       "    <tr>\n",
       "      <th>25%</th>\n",
       "      <td>-0.049666</td>\n",
       "      <td>56.000000</td>\n",
       "    </tr>\n",
       "    <tr>\n",
       "      <th>50%</th>\n",
       "      <td>-0.015625</td>\n",
       "      <td>77.000000</td>\n",
       "    </tr>\n",
       "    <tr>\n",
       "      <th>75%</th>\n",
       "      <td>0.007752</td>\n",
       "      <td>105.000000</td>\n",
       "    </tr>\n",
       "    <tr>\n",
       "      <th>max</th>\n",
       "      <td>198.000000</td>\n",
       "      <td>180.000000</td>\n",
       "    </tr>\n",
       "  </tbody>\n",
       "</table>\n",
       "</div>"
      ],
      "text/plain": [
       "       weight_pct_change  diff_date_diff\n",
       "count       18764.000000    18764.000000\n",
       "mean           -0.010479       81.961149\n",
       "std             1.449065       40.981784\n",
       "min            -0.992366        0.000000\n",
       "25%            -0.049666       56.000000\n",
       "50%            -0.015625       77.000000\n",
       "75%             0.007752      105.000000\n",
       "max           198.000000      180.000000"
      ]
     },
     "execution_count": 430,
     "metadata": {},
     "output_type": "execute_result"
    }
   ],
   "source": [
    "weight_pct_wide.describe()"
   ]
  },
  {
   "cell_type": "code",
   "execution_count": 431,
   "id": "17c92505",
   "metadata": {},
   "outputs": [],
   "source": [
    "# Append missing training IDs and create a missing variable for those without weight_pct_change. \n",
    "weight_pct_wide = (\n",
    "    weight_pct_wide\n",
    "    .append(\n",
    "        pd.Series(train_IDs)[~pd.Series(train_IDs).isin(weight_pct_wide['PatientID'])].to_frame(name = 'PatientID'),\n",
    "        sort = False)\n",
    "    .drop(columns = ['diff_date_diff'])\n",
    ")"
   ]
  },
  {
   "cell_type": "code",
   "execution_count": 432,
   "id": "cb68317d",
   "metadata": {},
   "outputs": [
    {
     "data": {
      "text/plain": [
       "(25341, 25341)"
      ]
     },
     "execution_count": 432,
     "metadata": {},
     "output_type": "execute_result"
    }
   ],
   "source": [
    "row_ID(weight_pct_wide)"
   ]
  },
  {
   "cell_type": "code",
   "execution_count": 433,
   "id": "31ebe67d",
   "metadata": {},
   "outputs": [],
   "source": [
    "weight_pct_wide.loc[:, 'weight_pct_na'] = np.where(weight_pct_wide['weight_pct_change'].isna(), 1, 0)"
   ]
  },
  {
   "cell_type": "code",
   "execution_count": 434,
   "id": "5c7ef769",
   "metadata": {},
   "outputs": [
    {
     "data": {
      "text/html": [
       "<div>\n",
       "<style scoped>\n",
       "    .dataframe tbody tr th:only-of-type {\n",
       "        vertical-align: middle;\n",
       "    }\n",
       "\n",
       "    .dataframe tbody tr th {\n",
       "        vertical-align: top;\n",
       "    }\n",
       "\n",
       "    .dataframe thead th {\n",
       "        text-align: right;\n",
       "    }\n",
       "</style>\n",
       "<table border=\"1\" class=\"dataframe\">\n",
       "  <thead>\n",
       "    <tr style=\"text-align: right;\">\n",
       "      <th></th>\n",
       "      <th>PatientID</th>\n",
       "      <th>weight_pct_change</th>\n",
       "      <th>weight_pct_na</th>\n",
       "    </tr>\n",
       "  </thead>\n",
       "  <tbody>\n",
       "    <tr>\n",
       "      <th>955690</th>\n",
       "      <td>FE8D734BBB2B0</td>\n",
       "      <td>-0.026008</td>\n",
       "      <td>0</td>\n",
       "    </tr>\n",
       "    <tr>\n",
       "      <th>4973</th>\n",
       "      <td>FF226720E23C6</td>\n",
       "      <td>NaN</td>\n",
       "      <td>1</td>\n",
       "    </tr>\n",
       "    <tr>\n",
       "      <th>339093</th>\n",
       "      <td>F5259B0A9EDCB</td>\n",
       "      <td>0.006803</td>\n",
       "      <td>0</td>\n",
       "    </tr>\n",
       "    <tr>\n",
       "      <th>611607</th>\n",
       "      <td>F93CD7E64DD86</td>\n",
       "      <td>-0.011346</td>\n",
       "      <td>0</td>\n",
       "    </tr>\n",
       "    <tr>\n",
       "      <th>595677</th>\n",
       "      <td>F8FBD49DF0C16</td>\n",
       "      <td>-0.066478</td>\n",
       "      <td>0</td>\n",
       "    </tr>\n",
       "  </tbody>\n",
       "</table>\n",
       "</div>"
      ],
      "text/plain": [
       "            PatientID  weight_pct_change  weight_pct_na\n",
       "955690  FE8D734BBB2B0          -0.026008              0\n",
       "4973    FF226720E23C6                NaN              1\n",
       "339093  F5259B0A9EDCB           0.006803              0\n",
       "611607  F93CD7E64DD86          -0.011346              0\n",
       "595677  F8FBD49DF0C16          -0.066478              0"
      ]
     },
     "execution_count": 434,
     "metadata": {},
     "output_type": "execute_result"
    }
   ],
   "source": [
    "weight_pct_wide.sample(5)"
   ]
  },
  {
   "cell_type": "markdown",
   "id": "4ed1a028",
   "metadata": {},
   "source": [
    "#### Weight slope"
   ]
  },
  {
   "cell_type": "code",
   "execution_count": 435,
   "id": "1244a0a1",
   "metadata": {},
   "outputs": [],
   "source": [
    "from scipy.stats import linregress "
   ]
  },
  {
   "cell_type": "code",
   "execution_count": 436,
   "id": "56180dd8",
   "metadata": {},
   "outputs": [],
   "source": [
    "weight_win_summary.loc[:, 'date_ordinal'] = weight_win_summary['TestDate'].map(dt.datetime.toordinal)"
   ]
  },
  {
   "cell_type": "code",
   "execution_count": 437,
   "id": "0e59e583",
   "metadata": {},
   "outputs": [
    {
     "name": "stderr",
     "output_type": "stream",
     "text": [
      "/Applications/anaconda3/lib/python3.7/site-packages/scipy/stats/_stats_mstats_common.py:170: RuntimeWarning: invalid value encountered in double_scalars\n",
      "  slope = ssxym / ssxm\n",
      "/Applications/anaconda3/lib/python3.7/site-packages/scipy/stats/_stats_mstats_common.py:187: RuntimeWarning: divide by zero encountered in double_scalars\n",
      "  slope_stderr = np.sqrt((1 - r**2) * ssym / ssxm / df)\n"
     ]
    }
   ],
   "source": [
    "# Dataframe of slope for weight recordings within window period (kg/day).\n",
    "weight_slope_wide = (\n",
    "    weight_win_summary\n",
    "    .groupby('PatientID')\n",
    "    .apply(lambda x: pd.Series(linregress(x['date_ordinal'], x['weight'])))\n",
    "    .rename(columns = {0: 'weight_slope'})\n",
    "    .reset_index()\n",
    "    .filter(items = ['PatientID', 'weight_slope']))   "
   ]
  },
  {
   "cell_type": "code",
   "execution_count": 438,
   "id": "3ac8e35e",
   "metadata": {},
   "outputs": [
    {
     "data": {
      "text/plain": [
       "(18764, 18764)"
      ]
     },
     "execution_count": 438,
     "metadata": {},
     "output_type": "execute_result"
    }
   ],
   "source": [
    "row_ID(weight_slope_wide)"
   ]
  },
  {
   "cell_type": "code",
   "execution_count": 439,
   "id": "ba799898",
   "metadata": {},
   "outputs": [
    {
     "data": {
      "text/html": [
       "<div>\n",
       "<style scoped>\n",
       "    .dataframe tbody tr th:only-of-type {\n",
       "        vertical-align: middle;\n",
       "    }\n",
       "\n",
       "    .dataframe tbody tr th {\n",
       "        vertical-align: top;\n",
       "    }\n",
       "\n",
       "    .dataframe thead th {\n",
       "        text-align: right;\n",
       "    }\n",
       "</style>\n",
       "<table border=\"1\" class=\"dataframe\">\n",
       "  <thead>\n",
       "    <tr style=\"text-align: right;\">\n",
       "      <th></th>\n",
       "      <th>weight_slope</th>\n",
       "    </tr>\n",
       "  </thead>\n",
       "  <tbody>\n",
       "    <tr>\n",
       "      <th>count</th>\n",
       "      <td>18717.000000</td>\n",
       "    </tr>\n",
       "    <tr>\n",
       "      <th>mean</th>\n",
       "      <td>-0.031601</td>\n",
       "    </tr>\n",
       "    <tr>\n",
       "      <th>std</th>\n",
       "      <td>0.961837</td>\n",
       "    </tr>\n",
       "    <tr>\n",
       "      <th>min</th>\n",
       "      <td>-128.327657</td>\n",
       "    </tr>\n",
       "    <tr>\n",
       "      <th>25%</th>\n",
       "      <td>-0.050787</td>\n",
       "    </tr>\n",
       "    <tr>\n",
       "      <th>50%</th>\n",
       "      <td>-0.016200</td>\n",
       "    </tr>\n",
       "    <tr>\n",
       "      <th>75%</th>\n",
       "      <td>0.007818</td>\n",
       "    </tr>\n",
       "    <tr>\n",
       "      <th>max</th>\n",
       "      <td>13.387444</td>\n",
       "    </tr>\n",
       "  </tbody>\n",
       "</table>\n",
       "</div>"
      ],
      "text/plain": [
       "       weight_slope\n",
       "count  18717.000000\n",
       "mean      -0.031601\n",
       "std        0.961837\n",
       "min     -128.327657\n",
       "25%       -0.050787\n",
       "50%       -0.016200\n",
       "75%        0.007818\n",
       "max       13.387444"
      ]
     },
     "execution_count": 439,
     "metadata": {},
     "output_type": "execute_result"
    }
   ],
   "source": [
    "weight_slope_wide.describe()"
   ]
  },
  {
   "cell_type": "code",
   "execution_count": 440,
   "id": "273a1c9a",
   "metadata": {},
   "outputs": [],
   "source": [
    "# Append missing training IDs. \n",
    "weight_slope_wide = (\n",
    "    weight_slope_wide\n",
    "    .append(\n",
    "        pd.Series(train_IDs)[~pd.Series(train_IDs).isin(weight_slope_wide['PatientID'])].to_frame(name = 'PatientID'),\n",
    "        sort = False)\n",
    ")"
   ]
  },
  {
   "cell_type": "code",
   "execution_count": 441,
   "id": "2aec8990",
   "metadata": {},
   "outputs": [
    {
     "data": {
      "text/plain": [
       "(25341, 25341)"
      ]
     },
     "execution_count": 441,
     "metadata": {},
     "output_type": "execute_result"
    }
   ],
   "source": [
    "row_ID(weight_slope_wide)"
   ]
  },
  {
   "cell_type": "code",
   "execution_count": 442,
   "id": "68a7bc11",
   "metadata": {},
   "outputs": [
    {
     "data": {
      "text/html": [
       "<div>\n",
       "<style scoped>\n",
       "    .dataframe tbody tr th:only-of-type {\n",
       "        vertical-align: middle;\n",
       "    }\n",
       "\n",
       "    .dataframe tbody tr th {\n",
       "        vertical-align: top;\n",
       "    }\n",
       "\n",
       "    .dataframe thead th {\n",
       "        text-align: right;\n",
       "    }\n",
       "</style>\n",
       "<table border=\"1\" class=\"dataframe\">\n",
       "  <thead>\n",
       "    <tr style=\"text-align: right;\">\n",
       "      <th></th>\n",
       "      <th>PatientID</th>\n",
       "      <th>weight_slope</th>\n",
       "    </tr>\n",
       "  </thead>\n",
       "  <tbody>\n",
       "    <tr>\n",
       "      <th>18918</th>\n",
       "      <td>F428DCDCD1F08</td>\n",
       "      <td>NaN</td>\n",
       "    </tr>\n",
       "    <tr>\n",
       "      <th>7745</th>\n",
       "      <td>F6A219FA0C0E7</td>\n",
       "      <td>0.003894</td>\n",
       "    </tr>\n",
       "    <tr>\n",
       "      <th>15608</th>\n",
       "      <td>FD5FB0F8ED613</td>\n",
       "      <td>-0.018031</td>\n",
       "    </tr>\n",
       "    <tr>\n",
       "      <th>6394</th>\n",
       "      <td>F724089C2BAD8</td>\n",
       "      <td>NaN</td>\n",
       "    </tr>\n",
       "    <tr>\n",
       "      <th>5908</th>\n",
       "      <td>F504565DB50D8</td>\n",
       "      <td>-0.016944</td>\n",
       "    </tr>\n",
       "  </tbody>\n",
       "</table>\n",
       "</div>"
      ],
      "text/plain": [
       "           PatientID  weight_slope\n",
       "18918  F428DCDCD1F08           NaN\n",
       "7745   F6A219FA0C0E7      0.003894\n",
       "15608  FD5FB0F8ED613     -0.018031\n",
       "6394   F724089C2BAD8           NaN\n",
       "5908   F504565DB50D8     -0.016944"
      ]
     },
     "execution_count": 442,
     "metadata": {},
     "output_type": "execute_result"
    }
   ],
   "source": [
    "weight_slope_wide.sample(5)"
   ]
  },
  {
   "cell_type": "markdown",
   "id": "029fb56c",
   "metadata": {},
   "source": [
    "#### Weight merge "
   ]
  },
  {
   "cell_type": "code",
   "execution_count": 443,
   "id": "a2742ca5",
   "metadata": {},
   "outputs": [],
   "source": [
    "weight_wide = pd.merge(weight_bmi_wide, weight_pct_wide, on = 'PatientID')"
   ]
  },
  {
   "cell_type": "code",
   "execution_count": 444,
   "id": "d6309b4e",
   "metadata": {},
   "outputs": [],
   "source": [
    "weight_wide = pd.merge(weight_wide, weight_slope_wide, on = 'PatientID')"
   ]
  },
  {
   "cell_type": "code",
   "execution_count": 445,
   "id": "57c7e63a",
   "metadata": {},
   "outputs": [
    {
     "data": {
      "text/plain": [
       "(25341, 25341)"
      ]
     },
     "execution_count": 445,
     "metadata": {},
     "output_type": "execute_result"
    }
   ],
   "source": [
    "row_ID(weight_wide)"
   ]
  },
  {
   "cell_type": "code",
   "execution_count": 446,
   "id": "1a416679",
   "metadata": {},
   "outputs": [
    {
     "data": {
      "text/html": [
       "<div>\n",
       "<style scoped>\n",
       "    .dataframe tbody tr th:only-of-type {\n",
       "        vertical-align: middle;\n",
       "    }\n",
       "\n",
       "    .dataframe tbody tr th {\n",
       "        vertical-align: top;\n",
       "    }\n",
       "\n",
       "    .dataframe thead th {\n",
       "        text-align: right;\n",
       "    }\n",
       "</style>\n",
       "<table border=\"1\" class=\"dataframe\">\n",
       "  <thead>\n",
       "    <tr style=\"text-align: right;\">\n",
       "      <th></th>\n",
       "      <th>PatientID</th>\n",
       "      <th>weight_diag</th>\n",
       "      <th>bmi_diag</th>\n",
       "      <th>bmi_diag_na</th>\n",
       "      <th>weight_pct_change</th>\n",
       "      <th>weight_pct_na</th>\n",
       "      <th>weight_slope</th>\n",
       "    </tr>\n",
       "  </thead>\n",
       "  <tbody>\n",
       "    <tr>\n",
       "      <th>124</th>\n",
       "      <td>F01D01803681E</td>\n",
       "      <td>74.751962</td>\n",
       "      <td>32.184937</td>\n",
       "      <td>0</td>\n",
       "      <td>-0.045087</td>\n",
       "      <td>0</td>\n",
       "      <td>-0.019968</td>\n",
       "    </tr>\n",
       "    <tr>\n",
       "      <th>17546</th>\n",
       "      <td>FF3FEEEA9DF28</td>\n",
       "      <td>74.298370</td>\n",
       "      <td>29.015546</td>\n",
       "      <td>0</td>\n",
       "      <td>0.013431</td>\n",
       "      <td>0</td>\n",
       "      <td>0.018144</td>\n",
       "    </tr>\n",
       "    <tr>\n",
       "      <th>22685</th>\n",
       "      <td>FE4FF02CE0728</td>\n",
       "      <td>NaN</td>\n",
       "      <td>NaN</td>\n",
       "      <td>1</td>\n",
       "      <td>NaN</td>\n",
       "      <td>1</td>\n",
       "      <td>NaN</td>\n",
       "    </tr>\n",
       "    <tr>\n",
       "      <th>14446</th>\n",
       "      <td>FC9A8C3BFF686</td>\n",
       "      <td>67.585208</td>\n",
       "      <td>32.017850</td>\n",
       "      <td>0</td>\n",
       "      <td>NaN</td>\n",
       "      <td>1</td>\n",
       "      <td>NaN</td>\n",
       "    </tr>\n",
       "    <tr>\n",
       "      <th>7305</th>\n",
       "      <td>F663D323DAD14</td>\n",
       "      <td>79.650755</td>\n",
       "      <td>37.709062</td>\n",
       "      <td>0</td>\n",
       "      <td>0.006264</td>\n",
       "      <td>0</td>\n",
       "      <td>0.062369</td>\n",
       "    </tr>\n",
       "  </tbody>\n",
       "</table>\n",
       "</div>"
      ],
      "text/plain": [
       "           PatientID  weight_diag   bmi_diag  bmi_diag_na  weight_pct_change  \\\n",
       "124    F01D01803681E    74.751962  32.184937            0          -0.045087   \n",
       "17546  FF3FEEEA9DF28    74.298370  29.015546            0           0.013431   \n",
       "22685  FE4FF02CE0728          NaN        NaN            1                NaN   \n",
       "14446  FC9A8C3BFF686    67.585208  32.017850            0                NaN   \n",
       "7305   F663D323DAD14    79.650755  37.709062            0           0.006264   \n",
       "\n",
       "       weight_pct_na  weight_slope  \n",
       "124                0     -0.019968  \n",
       "17546              0      0.018144  \n",
       "22685              1           NaN  \n",
       "14446              1           NaN  \n",
       "7305               0      0.062369  "
      ]
     },
     "execution_count": 446,
     "metadata": {},
     "output_type": "execute_result"
    }
   ],
   "source": [
    "weight_wide.sample(5)"
   ]
  },
  {
   "cell_type": "code",
   "execution_count": 447,
   "id": "cc4e42c1",
   "metadata": {},
   "outputs": [
    {
     "name": "stdout",
     "output_type": "stream",
     "text": [
      "Variable              Type         Data/Info\n",
      "--------------------------------------------\n",
      "biomarker_wide        DataFrame               PatientID     <...>n[25341 rows x 7 columns]\n",
      "demographics          DataFrame               PatientID gend<...>n[25341 rows x 7 columns]\n",
      "ecog_diagnosis_wide   DataFrame                PatientID eco<...>n[25341 rows x 2 columns]\n",
      "enhanced_met          DataFrame               PatientID diag<...>n[25341 rows x 7 columns]\n",
      "height_avg            DataFrame               PatientID  hei<...>n[25038 rows x 2 columns]\n",
      "insurance_wide        DataFrame               PatientID  med<...>n[25341 rows x 9 columns]\n",
      "med_admin_wide        DataFrame               PatientID  ste<...>[25341 rows x 14 columns]\n",
      "mortality             DataFrame               PatientID  dea<...>n[25341 rows x 3 columns]\n",
      "vitals                DataFrame                 PatientID   <...>937123 rows x 16 columns]\n",
      "weight                DataFrame                 PatientID   <...>1051483 rows x 4 columns]\n",
      "weight_bmi_wide       DataFrame               PatientID  wei<...>n[25341 rows x 4 columns]\n",
      "weight_pct_wide       DataFrame               PatientID  wei<...>n[25341 rows x 3 columns]\n",
      "weight_slope_wide     DataFrame               PatientID  wei<...>n[25341 rows x 2 columns]\n",
      "weight_tcomb          DataFrame                 PatientID   <...>n[37528 rows x 7 columns]\n",
      "weight_tmax           DataFrame                 PatientID   <...>n[18764 rows x 5 columns]\n",
      "weight_tmin           DataFrame                 PatientID   <...>n[18764 rows x 5 columns]\n",
      "weight_wide           DataFrame               PatientID  wei<...>n[25341 rows x 7 columns]\n",
      "weight_win_bmi        DataFrame                 PatientID   <...>n[64058 rows x 5 columns]\n",
      "weight_win_summary    DataFrame                 PatientID   <...>[130059 rows x 6 columns]\n"
     ]
    }
   ],
   "source": [
    "%whos DataFrame"
   ]
  },
  {
   "cell_type": "code",
   "execution_count": 448,
   "id": "d59dde5a",
   "metadata": {},
   "outputs": [],
   "source": [
    "# Keep biomarker_wide, demographics, ecog_diagnosis_wide, enhanced_met, insurance_wide, med_admin_wide, mortality, \n",
    "# and weight_wide\n",
    "del height_avg\n",
    "del vitals\n",
    "del weight\n",
    "del weight_bmi_wide\n",
    "del weight_pct_wide\n",
    "del weight_slope_wide\n",
    "del weight_tcomb\n",
    "del weight_tmax\n",
    "del weight_tmin\n",
    "del weight_win_bmi\n",
    "del weight_win_summary"
   ]
  },
  {
   "cell_type": "markdown",
   "id": "7877b588",
   "metadata": {},
   "source": [
    "### 9. Labs"
   ]
  },
  {
   "cell_type": "code",
   "execution_count": 449,
   "id": "61504570",
   "metadata": {},
   "outputs": [],
   "source": [
    "lab = pd.read_csv('Lab.csv')"
   ]
  },
  {
   "cell_type": "code",
   "execution_count": 450,
   "id": "f862550f",
   "metadata": {},
   "outputs": [],
   "source": [
    "lab = lab[lab['PatientID'].isin(train_IDs)]"
   ]
  },
  {
   "cell_type": "code",
   "execution_count": 451,
   "id": "d3c3b9d1",
   "metadata": {},
   "outputs": [
    {
     "data": {
      "text/plain": [
       "(24483087, 24202)"
      ]
     },
     "execution_count": 451,
     "metadata": {},
     "output_type": "execute_result"
    }
   ],
   "source": [
    "row_ID(lab)"
   ]
  },
  {
   "cell_type": "code",
   "execution_count": 452,
   "id": "e161b883",
   "metadata": {},
   "outputs": [
    {
     "data": {
      "text/html": [
       "<div>\n",
       "<style scoped>\n",
       "    .dataframe tbody tr th:only-of-type {\n",
       "        vertical-align: middle;\n",
       "    }\n",
       "\n",
       "    .dataframe tbody tr th {\n",
       "        vertical-align: top;\n",
       "    }\n",
       "\n",
       "    .dataframe thead th {\n",
       "        text-align: right;\n",
       "    }\n",
       "</style>\n",
       "<table border=\"1\" class=\"dataframe\">\n",
       "  <thead>\n",
       "    <tr style=\"text-align: right;\">\n",
       "      <th></th>\n",
       "      <th>PatientID</th>\n",
       "      <th>PracticeID</th>\n",
       "      <th>TestDate</th>\n",
       "      <th>LOINC</th>\n",
       "      <th>Test</th>\n",
       "      <th>LabComponent</th>\n",
       "      <th>TestBaseName</th>\n",
       "      <th>LabSource</th>\n",
       "      <th>TestUnits</th>\n",
       "      <th>TestUnitsCleaned</th>\n",
       "      <th>ResultDate</th>\n",
       "      <th>TestResult</th>\n",
       "      <th>TestResultCleaned</th>\n",
       "      <th>MinNorm</th>\n",
       "      <th>MinNormCleaned</th>\n",
       "      <th>MaxNorm</th>\n",
       "      <th>MaxNormCleaned</th>\n",
       "    </tr>\n",
       "  </thead>\n",
       "  <tbody>\n",
       "    <tr>\n",
       "      <th>19383595</th>\n",
       "      <td>FA2CACCCF30D7</td>\n",
       "      <td>SA819E96EB4B3</td>\n",
       "      <td>2019-03-27</td>\n",
       "      <td>26515-7</td>\n",
       "      <td>platelets [#/volume] in blood</td>\n",
       "      <td>Platelet count</td>\n",
       "      <td>platelets</td>\n",
       "      <td>source</td>\n",
       "      <td>10*3/uL</td>\n",
       "      <td>10*9/L</td>\n",
       "      <td>2019-03-27</td>\n",
       "      <td>275.0</td>\n",
       "      <td>275.00</td>\n",
       "      <td>174.0</td>\n",
       "      <td>174.0</td>\n",
       "      <td>390.0</td>\n",
       "      <td>390.0</td>\n",
       "    </tr>\n",
       "    <tr>\n",
       "      <th>27114531</th>\n",
       "      <td>FE36A11417422</td>\n",
       "      <td>SCC8EE4FB66C3</td>\n",
       "      <td>2014-07-16</td>\n",
       "      <td>26464-8</td>\n",
       "      <td>leukocytes [#/volume] in blood</td>\n",
       "      <td>White Blood Cell Count</td>\n",
       "      <td>leukocytes</td>\n",
       "      <td>source</td>\n",
       "      <td>10*3/uL</td>\n",
       "      <td>10*9/L</td>\n",
       "      <td>2014-07-16</td>\n",
       "      <td>3.97</td>\n",
       "      <td>3.97</td>\n",
       "      <td>4.0</td>\n",
       "      <td>4.0</td>\n",
       "      <td>10.9</td>\n",
       "      <td>10.9</td>\n",
       "    </tr>\n",
       "    <tr>\n",
       "      <th>11677572</th>\n",
       "      <td>F619D8E5BBA8A</td>\n",
       "      <td>S6DCB6AF0A70F</td>\n",
       "      <td>2016-04-15</td>\n",
       "      <td>26449-9</td>\n",
       "      <td>eosinophils [#/volume] in blood</td>\n",
       "      <td>Eosinophils [#/?volume] in Blood</td>\n",
       "      <td>eosinophils</td>\n",
       "      <td>source</td>\n",
       "      <td>10*3/uL</td>\n",
       "      <td>10*9/L</td>\n",
       "      <td>2016-04-15</td>\n",
       "      <td>0.0</td>\n",
       "      <td>0.00</td>\n",
       "      <td>0.0</td>\n",
       "      <td>0.0</td>\n",
       "      <td>0.4</td>\n",
       "      <td>0.4</td>\n",
       "    </tr>\n",
       "    <tr>\n",
       "      <th>13758554</th>\n",
       "      <td>F7273E3E3D525</td>\n",
       "      <td>SBA0283E855FA</td>\n",
       "      <td>2020-12-15</td>\n",
       "      <td>48643-1</td>\n",
       "      <td>glomerular filtration rate/1.73 sq m.predicted...</td>\n",
       "      <td>Glomerular filtration rate (eGFR) african amer...</td>\n",
       "      <td>glomerular filtration rate/1.73 sq m.predicted...</td>\n",
       "      <td>source</td>\n",
       "      <td>ml/min/1.73m*2</td>\n",
       "      <td>NaN</td>\n",
       "      <td>2020-12-15</td>\n",
       "      <td>&gt;60</td>\n",
       "      <td>NaN</td>\n",
       "      <td>61.0</td>\n",
       "      <td>61.0</td>\n",
       "      <td>999.0</td>\n",
       "      <td>999.0</td>\n",
       "    </tr>\n",
       "    <tr>\n",
       "      <th>13240497</th>\n",
       "      <td>F6E5C079B83E6</td>\n",
       "      <td>SCC8EE4FB66C3</td>\n",
       "      <td>2020-11-17</td>\n",
       "      <td>1742-6</td>\n",
       "      <td>alanine aminotransferase [enzymatic activity/v...</td>\n",
       "      <td>Alanine aminotransferase (ALT or SGPT)</td>\n",
       "      <td>alanine aminotransferase</td>\n",
       "      <td>source</td>\n",
       "      <td>U/L</td>\n",
       "      <td>U/L</td>\n",
       "      <td>2020-11-17</td>\n",
       "      <td>16</td>\n",
       "      <td>16.00</td>\n",
       "      <td>0.0</td>\n",
       "      <td>0.0</td>\n",
       "      <td>33.0</td>\n",
       "      <td>33.0</td>\n",
       "    </tr>\n",
       "  </tbody>\n",
       "</table>\n",
       "</div>"
      ],
      "text/plain": [
       "              PatientID     PracticeID    TestDate    LOINC  \\\n",
       "19383595  FA2CACCCF30D7  SA819E96EB4B3  2019-03-27  26515-7   \n",
       "27114531  FE36A11417422  SCC8EE4FB66C3  2014-07-16  26464-8   \n",
       "11677572  F619D8E5BBA8A  S6DCB6AF0A70F  2016-04-15  26449-9   \n",
       "13758554  F7273E3E3D525  SBA0283E855FA  2020-12-15  48643-1   \n",
       "13240497  F6E5C079B83E6  SCC8EE4FB66C3  2020-11-17   1742-6   \n",
       "\n",
       "                                                       Test  \\\n",
       "19383595                      platelets [#/volume] in blood   \n",
       "27114531                     leukocytes [#/volume] in blood   \n",
       "11677572                    eosinophils [#/volume] in blood   \n",
       "13758554  glomerular filtration rate/1.73 sq m.predicted...   \n",
       "13240497  alanine aminotransferase [enzymatic activity/v...   \n",
       "\n",
       "                                               LabComponent  \\\n",
       "19383595                                     Platelet count   \n",
       "27114531                             White Blood Cell Count   \n",
       "11677572                   Eosinophils [#/?volume] in Blood   \n",
       "13758554  Glomerular filtration rate (eGFR) african amer...   \n",
       "13240497             Alanine aminotransferase (ALT or SGPT)   \n",
       "\n",
       "                                               TestBaseName LabSource  \\\n",
       "19383595                                          platelets    source   \n",
       "27114531                                         leukocytes    source   \n",
       "11677572                                        eosinophils    source   \n",
       "13758554  glomerular filtration rate/1.73 sq m.predicted...    source   \n",
       "13240497                           alanine aminotransferase    source   \n",
       "\n",
       "               TestUnits TestUnitsCleaned  ResultDate TestResult  \\\n",
       "19383595         10*3/uL           10*9/L  2019-03-27      275.0   \n",
       "27114531         10*3/uL           10*9/L  2014-07-16       3.97   \n",
       "11677572         10*3/uL           10*9/L  2016-04-15        0.0   \n",
       "13758554  ml/min/1.73m*2              NaN  2020-12-15        >60   \n",
       "13240497             U/L              U/L  2020-11-17         16   \n",
       "\n",
       "          TestResultCleaned  MinNorm  MinNormCleaned  MaxNorm  MaxNormCleaned  \n",
       "19383595             275.00    174.0           174.0    390.0           390.0  \n",
       "27114531               3.97      4.0             4.0     10.9            10.9  \n",
       "11677572               0.00      0.0             0.0      0.4             0.4  \n",
       "13758554                NaN     61.0            61.0    999.0           999.0  \n",
       "13240497              16.00      0.0             0.0     33.0            33.0  "
      ]
     },
     "execution_count": 452,
     "metadata": {},
     "output_type": "execute_result"
    }
   ],
   "source": [
    "lab.sample(5)"
   ]
  },
  {
   "cell_type": "markdown",
   "id": "feb20570",
   "metadata": {},
   "source": [
    "**The Lab table is a longitudinal record of lab captured in the EHR with multiple-rows-per-patient. A single-patient-per-row table will be built focusing on the following NCCN recommended labs:** \n",
    "* **Creatinine -- (LOINC: 2160-0 and 38483-4)**\n",
    "* **Hemoglobin -- (LOINC: 718-7 and 20509-6)**\n",
    "* **White blood cell count -- (LOINC: 26464-8 and 6690-2)**\n",
    "* **Neutrophil count -- (LOINC: 26499-4, 751-8, 30451-9, and 753-4)**\n",
    "* **Albumin, serum -- (LOINC: 1751-7)**\n",
    "* **Total bilirubin -- (LOINC: 42719-5 and 1975-2)**\n",
    "* **Sodium — (LOINC: 2947-0 and 2951-2)**\n",
    "* **Bicarb — (LOINC: 1963-8, 1959-6, 14627-4, 1960-4, and 2028-9)**\n",
    "* **Calcium — (LOINC: 17861-6 and 49765-1)** \n",
    "* **AST — (LOINC: 1920-8)**\n",
    "* **ALT — (LOINC: 1742-6, 1743-4, and 1744-2)**\n",
    "* **Platelet -- (LOINC: 26515-7, 777-3, 778-1, and 49497-1)**\n",
    "* **Potassium -- (LOINC: 6298-4 and 2823-3)**\n",
    "* **Chloride -- (LOINC: 2075-0)**\n",
    "* **BUN -- (LOINC: 3094-0)**\n",
    "* **ALP -- (LOINC: 6768-6)**\n",
    "\n",
    "**The index date will be time of advanced diagnosis with an elgibility window of -90 days to +30 days. The lab value closest to the index date will be selected for each patient. The following summary statistics, using an elgibility window of negative infinity to +30 days from advanced diagnosis, will also be created for the above variables:** \n",
    "* **Max**\n",
    "* **Min**\n",
    "* **Mean**\n",
    "* **Standard deviation** \n",
    "* **Slope**"
   ]
  },
  {
   "cell_type": "markdown",
   "id": "983b2038",
   "metadata": {},
   "source": [
    "#### Baseline lab values"
   ]
  },
  {
   "cell_type": "code",
   "execution_count": 453,
   "id": "bf99b341",
   "metadata": {},
   "outputs": [],
   "source": [
    "lab = pd.merge(lab, enhanced_met[['PatientID', 'met_date']], on = 'PatientID', how = 'left')"
   ]
  },
  {
   "cell_type": "code",
   "execution_count": 454,
   "id": "bb40367d",
   "metadata": {},
   "outputs": [],
   "source": [
    "lab.loc[:, 'ResultDate'] = pd.to_datetime(lab['ResultDate']) "
   ]
  },
  {
   "cell_type": "code",
   "execution_count": 455,
   "id": "6f927f43",
   "metadata": {},
   "outputs": [],
   "source": [
    "# Select rows with clinically relevant labs.\n",
    "lab_core = (\n",
    "    lab[\n",
    "    (lab['LOINC'] == \"2160-0\") |\n",
    "    (lab['LOINC'] == \"38483-4\") | \n",
    "    (lab['LOINC'] == \"718-7\") |\n",
    "    (lab['LOINC'] == \"20509-6\") |\n",
    "    (lab['LOINC'] == \"26464-8\") |\n",
    "    (lab['LOINC'] == \"6690-2\") |\n",
    "    (lab['LOINC'] == \"26499-4\") |\n",
    "    (lab['LOINC'] == \"751-8\") |\n",
    "    (lab['LOINC'] == \"30451-9\") |\n",
    "    (lab['LOINC'] == \"753-4\") |\n",
    "    (lab['LOINC'] == \"1751-7\") |\n",
    "    (lab['LOINC'] == \"42719-5\") |\n",
    "    (lab['LOINC'] == \"1975-2\") |\n",
    "    (lab['LOINC'] == \"2947-0\") |\n",
    "    (lab['LOINC'] == \"2951-2\") |\n",
    "    (lab['LOINC'] == \"1963-8\") |\n",
    "    (lab['LOINC'] == \"1959-6\") |\n",
    "    (lab['LOINC'] == \"14627-4\") |\n",
    "    (lab['LOINC'] == \"1960-4\") |\n",
    "    (lab['LOINC'] == \"2028-9\") |\n",
    "    (lab['LOINC'] == \"17861-6\") |\n",
    "    (lab['LOINC'] == \"49765-1\") |\n",
    "    (lab['LOINC'] == \"1920-8\") |\n",
    "    (lab['LOINC'] == \"1742-6\") | \n",
    "    (lab['LOINC'] == \"1743-4\") |\n",
    "    (lab['LOINC'] == \"1744-2\") |\n",
    "    (lab['LOINC'] == \"26515-7\") | \n",
    "    (lab['LOINC'] == \"777-3\") |\n",
    "    (lab['LOINC'] == \"778-1\") |\n",
    "    (lab['LOINC'] == \"49497-1\") | \n",
    "    (lab['LOINC'] == \"6298-4\") |\n",
    "    (lab['LOINC'] == \"2823-3\") |\n",
    "    (lab['LOINC'] == \"2075-0\") | \n",
    "    (lab['LOINC'] == \"3094-0\") | \n",
    "    (lab['LOINC'] == \"6768-6\")]\n",
    "    .filter(items = ['PatientID', \n",
    "                     'ResultDate', \n",
    "                     'LOINC', \n",
    "                     'LabComponent', \n",
    "                     'TestUnits', \n",
    "                     'TestUnitsCleaned', \n",
    "                     'TestResult', \n",
    "                     'TestResultCleaned', \n",
    "                     'met_date'])\n",
    ")"
   ]
  },
  {
   "cell_type": "code",
   "execution_count": 456,
   "id": "39f3f79b",
   "metadata": {},
   "outputs": [],
   "source": [
    "conditions = [\n",
    "    ((lab_core['LOINC'] == '2160-0') | (lab_core['LOINC'] == '38483-4')),\n",
    "    ((lab_core['LOINC'] == '718-7') | (lab_core['LOINC'] == '20509-6')),\n",
    "    ((lab_core['LOINC'] == '26464-8') | (lab_core['LOINC'] == '6690-2')), \n",
    "    ((lab_core['LOINC'] == '26499-4') | (lab_core['LOINC'] == '751-8') | (lab_core['LOINC'] == '30451-9') | (lab_core['LOINC'] == '753-4')),\n",
    "    (lab_core['LOINC'] == '1751-7'),\n",
    "    ((lab_core['LOINC'] == '42719-5') | (lab_core['LOINC'] == '1975-2')),\n",
    "    ((lab_core['LOINC'] == '2947-0') | (lab_core['LOINC'] == '2951-2')),\n",
    "    ((lab_core['LOINC'] == '1963-8') | (lab_core['LOINC'] == '1959-6') | (lab_core['LOINC'] == '14627-4') | (lab_core['LOINC'] == '1960-4') | (lab_core['LOINC'] == '2028-9')),\n",
    "    ((lab_core['LOINC'] == '17861-6') | (lab_core['LOINC'] == '49765-1')),\n",
    "    (lab_core['LOINC'] == '1920-8'),\n",
    "    ((lab_core['LOINC'] == '1742-6') | (lab_core['LOINC'] == '1743-4') | (lab_core['LOINC'] == '1744-2')),\n",
    "    ((lab_core['LOINC'] == '26515-7') | (lab_core['LOINC'] == '777-3') | (lab_core['LOINC'] == '778-1') | (lab_core['LOINC'] == '49497-1')),\n",
    "    ((lab_core['LOINC'] == '6298-4') | (lab_core['LOINC'] == '2823-3')),\n",
    "    (lab_core['LOINC'] == '2075-0'), \n",
    "    (lab_core['LOINC'] == '3094-0'),\n",
    "    (lab_core['LOINC'] == '6768-6')]\n",
    "\n",
    "choices = ['creatinine', \n",
    "           'hemoglobin', \n",
    "           'wbc', \n",
    "           'neutrophil_count',  \n",
    "           'albumin', \n",
    "           'total_bilirubin', \n",
    "           'sodium', \n",
    "           'bicarb',\n",
    "           'calcium',\n",
    "           'ast', \n",
    "           'alt',\n",
    "           'platelet',\n",
    "           'potassium', \n",
    "           'chloride',\n",
    "           'bun',\n",
    "           'alp']\n",
    "\n",
    "lab_core.loc[:, 'lab_name'] = np.select(conditions, choices)"
   ]
  },
  {
   "cell_type": "code",
   "execution_count": 457,
   "id": "fa460587",
   "metadata": {},
   "outputs": [],
   "source": [
    "# Remove missing lab values. \n",
    "lab_core = lab_core.dropna(subset = ['TestResultCleaned'])"
   ]
  },
  {
   "cell_type": "code",
   "execution_count": 458,
   "id": "41df1eff",
   "metadata": {},
   "outputs": [
    {
     "data": {
      "text/plain": [
       "10*3/uL     0.951560\n",
       "10*3/mm3    0.033016\n",
       "10*9/L      0.008762\n",
       "cell/uL     0.005201\n",
       "/mm3        0.000698\n",
       "Name: TestUnits, dtype: float64"
      ]
     },
     "execution_count": 458,
     "metadata": {},
     "output_type": "execute_result"
    }
   ],
   "source": [
    "(\n",
    "    lab_core\n",
    "    .query('lab_name == \"wbc\" or lab_name == \"neutrophil_count\" or lab_name == \"platelet\"')\n",
    "    .TestUnits.value_counts(normalize = True)\n",
    "    .head(5)\n",
    ")"
   ]
  },
  {
   "cell_type": "code",
   "execution_count": 459,
   "id": "3621aa43",
   "metadata": {},
   "outputs": [
    {
     "data": {
      "text/html": [
       "<div>\n",
       "<style scoped>\n",
       "    .dataframe tbody tr th:only-of-type {\n",
       "        vertical-align: middle;\n",
       "    }\n",
       "\n",
       "    .dataframe tbody tr th {\n",
       "        vertical-align: top;\n",
       "    }\n",
       "\n",
       "    .dataframe thead th {\n",
       "        text-align: right;\n",
       "    }\n",
       "</style>\n",
       "<table border=\"1\" class=\"dataframe\">\n",
       "  <thead>\n",
       "    <tr style=\"text-align: right;\">\n",
       "      <th></th>\n",
       "      <th>PatientID</th>\n",
       "      <th>ResultDate</th>\n",
       "      <th>LOINC</th>\n",
       "      <th>LabComponent</th>\n",
       "      <th>TestUnits</th>\n",
       "      <th>TestUnitsCleaned</th>\n",
       "      <th>TestResult</th>\n",
       "      <th>TestResultCleaned</th>\n",
       "      <th>met_date</th>\n",
       "      <th>lab_name</th>\n",
       "    </tr>\n",
       "  </thead>\n",
       "  <tbody>\n",
       "    <tr>\n",
       "      <th>14031031</th>\n",
       "      <td>F91BCA54153EF</td>\n",
       "      <td>2015-11-04</td>\n",
       "      <td>26499-4</td>\n",
       "      <td>Neutrophil count (absolute)</td>\n",
       "      <td>10*3/L</td>\n",
       "      <td>10*9/L</td>\n",
       "      <td>4.5</td>\n",
       "      <td>0.000005</td>\n",
       "      <td>2014-01-02</td>\n",
       "      <td>neutrophil_count</td>\n",
       "    </tr>\n",
       "    <tr>\n",
       "      <th>14031315</th>\n",
       "      <td>F91BCA54153EF</td>\n",
       "      <td>2016-06-22</td>\n",
       "      <td>26464-8</td>\n",
       "      <td>White Blood Cell Count</td>\n",
       "      <td>10*3/L</td>\n",
       "      <td>10*9/L</td>\n",
       "      <td>8.0</td>\n",
       "      <td>0.000008</td>\n",
       "      <td>2014-01-02</td>\n",
       "      <td>wbc</td>\n",
       "    </tr>\n",
       "    <tr>\n",
       "      <th>9890632</th>\n",
       "      <td>F676902B4E9D4</td>\n",
       "      <td>2016-07-19</td>\n",
       "      <td>26515-7</td>\n",
       "      <td>Platelet count</td>\n",
       "      <td>10*3/L</td>\n",
       "      <td>10*9/L</td>\n",
       "      <td>316</td>\n",
       "      <td>0.000316</td>\n",
       "      <td>2015-02-01</td>\n",
       "      <td>platelet</td>\n",
       "    </tr>\n",
       "    <tr>\n",
       "      <th>10811911</th>\n",
       "      <td>F7081DF22041E</td>\n",
       "      <td>2016-12-05</td>\n",
       "      <td>26464-8</td>\n",
       "      <td>White Blood Cell Count</td>\n",
       "      <td>10*3/L</td>\n",
       "      <td>10*9/L</td>\n",
       "      <td>4.9</td>\n",
       "      <td>0.000005</td>\n",
       "      <td>2016-06-07</td>\n",
       "      <td>wbc</td>\n",
       "    </tr>\n",
       "    <tr>\n",
       "      <th>6498945</th>\n",
       "      <td>F440E1CABE159</td>\n",
       "      <td>2016-07-26</td>\n",
       "      <td>26499-4</td>\n",
       "      <td>Neutrophil count (absolute)</td>\n",
       "      <td>10*3/L</td>\n",
       "      <td>10*9/L</td>\n",
       "      <td>3.6</td>\n",
       "      <td>0.000004</td>\n",
       "      <td>2015-03-04</td>\n",
       "      <td>neutrophil_count</td>\n",
       "    </tr>\n",
       "  </tbody>\n",
       "</table>\n",
       "</div>"
      ],
      "text/plain": [
       "              PatientID ResultDate    LOINC                 LabComponent  \\\n",
       "14031031  F91BCA54153EF 2015-11-04  26499-4  Neutrophil count (absolute)   \n",
       "14031315  F91BCA54153EF 2016-06-22  26464-8       White Blood Cell Count   \n",
       "9890632   F676902B4E9D4 2016-07-19  26515-7               Platelet count   \n",
       "10811911  F7081DF22041E 2016-12-05  26464-8       White Blood Cell Count   \n",
       "6498945   F440E1CABE159 2016-07-26  26499-4  Neutrophil count (absolute)   \n",
       "\n",
       "         TestUnits TestUnitsCleaned TestResult  TestResultCleaned   met_date  \\\n",
       "14031031    10*3/L           10*9/L        4.5           0.000005 2014-01-02   \n",
       "14031315    10*3/L           10*9/L        8.0           0.000008 2014-01-02   \n",
       "9890632     10*3/L           10*9/L        316           0.000316 2015-02-01   \n",
       "10811911    10*3/L           10*9/L        4.9           0.000005 2016-06-07   \n",
       "6498945     10*3/L           10*9/L        3.6           0.000004 2015-03-04   \n",
       "\n",
       "                  lab_name  \n",
       "14031031  neutrophil_count  \n",
       "14031315               wbc  \n",
       "9890632           platelet  \n",
       "10811911               wbc  \n",
       "6498945   neutrophil_count  "
      ]
     },
     "execution_count": 459,
     "metadata": {},
     "output_type": "execute_result"
    }
   ],
   "source": [
    "(\n",
    "    lab_core\n",
    "    .query('lab_name == \"wbc\" or lab_name == \"neutrophil_count\" or lab_name == \"platelet\"')\n",
    "    .query('TestUnits == \"10*3/L\"')\n",
    "    .sample(5)\n",
    ")"
   ]
  },
  {
   "cell_type": "code",
   "execution_count": 460,
   "id": "4f99541b",
   "metadata": {},
   "outputs": [
    {
     "data": {
      "text/plain": [
       "g/dL    0.999666\n",
       "g/uL    0.000334\n",
       "Name: TestUnits, dtype: float64"
      ]
     },
     "execution_count": 460,
     "metadata": {},
     "output_type": "execute_result"
    }
   ],
   "source": [
    "(\n",
    "    lab_core\n",
    "    .query('lab_name == \"hemoglobin\"')\n",
    "    .TestUnits.value_counts(normalize = True)\n",
    "    .head(5)\n",
    ")"
   ]
  },
  {
   "cell_type": "code",
   "execution_count": 461,
   "id": "a7ed3c52",
   "metadata": {},
   "outputs": [
    {
     "data": {
      "text/html": [
       "<div>\n",
       "<style scoped>\n",
       "    .dataframe tbody tr th:only-of-type {\n",
       "        vertical-align: middle;\n",
       "    }\n",
       "\n",
       "    .dataframe tbody tr th {\n",
       "        vertical-align: top;\n",
       "    }\n",
       "\n",
       "    .dataframe thead th {\n",
       "        text-align: right;\n",
       "    }\n",
       "</style>\n",
       "<table border=\"1\" class=\"dataframe\">\n",
       "  <thead>\n",
       "    <tr style=\"text-align: right;\">\n",
       "      <th></th>\n",
       "      <th>PatientID</th>\n",
       "      <th>ResultDate</th>\n",
       "      <th>LOINC</th>\n",
       "      <th>LabComponent</th>\n",
       "      <th>TestUnits</th>\n",
       "      <th>TestUnitsCleaned</th>\n",
       "      <th>TestResult</th>\n",
       "      <th>TestResultCleaned</th>\n",
       "      <th>met_date</th>\n",
       "      <th>lab_name</th>\n",
       "    </tr>\n",
       "  </thead>\n",
       "  <tbody>\n",
       "    <tr>\n",
       "      <th>18855540</th>\n",
       "      <td>FC51435C2E08B</td>\n",
       "      <td>2012-01-12</td>\n",
       "      <td>718-7</td>\n",
       "      <td>Hemoglobin, whole blood</td>\n",
       "      <td>g/uL</td>\n",
       "      <td>g/dL</td>\n",
       "      <td>9.6</td>\n",
       "      <td>960000.0</td>\n",
       "      <td>2011-12-09</td>\n",
       "      <td>hemoglobin</td>\n",
       "    </tr>\n",
       "    <tr>\n",
       "      <th>22803520</th>\n",
       "      <td>FEED4D9C7FD64</td>\n",
       "      <td>2012-09-26</td>\n",
       "      <td>718-7</td>\n",
       "      <td>Hemoglobin, whole blood</td>\n",
       "      <td>g/uL</td>\n",
       "      <td>g/dL</td>\n",
       "      <td>11.0</td>\n",
       "      <td>1100000.0</td>\n",
       "      <td>2017-09-19</td>\n",
       "      <td>hemoglobin</td>\n",
       "    </tr>\n",
       "    <tr>\n",
       "      <th>2864820</th>\n",
       "      <td>F1EF72C068417</td>\n",
       "      <td>2012-02-23</td>\n",
       "      <td>718-7</td>\n",
       "      <td>Hemoglobin, whole blood</td>\n",
       "      <td>g/uL</td>\n",
       "      <td>g/dL</td>\n",
       "      <td>8.9</td>\n",
       "      <td>890000.0</td>\n",
       "      <td>2013-10-23</td>\n",
       "      <td>hemoglobin</td>\n",
       "    </tr>\n",
       "    <tr>\n",
       "      <th>19753954</th>\n",
       "      <td>FCF12DBEA5DF6</td>\n",
       "      <td>2012-10-15</td>\n",
       "      <td>718-7</td>\n",
       "      <td>Hemoglobin, whole blood</td>\n",
       "      <td>g/uL</td>\n",
       "      <td>g/dL</td>\n",
       "      <td>11.2</td>\n",
       "      <td>1120000.0</td>\n",
       "      <td>2012-06-19</td>\n",
       "      <td>hemoglobin</td>\n",
       "    </tr>\n",
       "    <tr>\n",
       "      <th>7819423</th>\n",
       "      <td>F51A7288AA1E7</td>\n",
       "      <td>2012-06-06</td>\n",
       "      <td>718-7</td>\n",
       "      <td>Hemoglobin, whole blood</td>\n",
       "      <td>g/uL</td>\n",
       "      <td>g/dL</td>\n",
       "      <td>12.2</td>\n",
       "      <td>1220000.0</td>\n",
       "      <td>2014-09-04</td>\n",
       "      <td>hemoglobin</td>\n",
       "    </tr>\n",
       "  </tbody>\n",
       "</table>\n",
       "</div>"
      ],
      "text/plain": [
       "              PatientID ResultDate  LOINC             LabComponent TestUnits  \\\n",
       "18855540  FC51435C2E08B 2012-01-12  718-7  Hemoglobin, whole blood      g/uL   \n",
       "22803520  FEED4D9C7FD64 2012-09-26  718-7  Hemoglobin, whole blood      g/uL   \n",
       "2864820   F1EF72C068417 2012-02-23  718-7  Hemoglobin, whole blood      g/uL   \n",
       "19753954  FCF12DBEA5DF6 2012-10-15  718-7  Hemoglobin, whole blood      g/uL   \n",
       "7819423   F51A7288AA1E7 2012-06-06  718-7  Hemoglobin, whole blood      g/uL   \n",
       "\n",
       "         TestUnitsCleaned TestResult  TestResultCleaned   met_date    lab_name  \n",
       "18855540             g/dL        9.6           960000.0 2011-12-09  hemoglobin  \n",
       "22803520             g/dL       11.0          1100000.0 2017-09-19  hemoglobin  \n",
       "2864820              g/dL        8.9           890000.0 2013-10-23  hemoglobin  \n",
       "19753954             g/dL       11.2          1120000.0 2012-06-19  hemoglobin  \n",
       "7819423              g/dL       12.2          1220000.0 2014-09-04  hemoglobin  "
      ]
     },
     "execution_count": 461,
     "metadata": {},
     "output_type": "execute_result"
    }
   ],
   "source": [
    "(\n",
    "    lab_core\n",
    "    .query('lab_name == \"hemoglobin\"')\n",
    "    .query('TestUnits == \"g/uL\"')\n",
    "    .sample(5)\n",
    ")"
   ]
  },
  {
   "cell_type": "code",
   "execution_count": 462,
   "id": "2e62f452",
   "metadata": {},
   "outputs": [],
   "source": [
    "conditions = [\n",
    "    ((lab_core['lab_name'] == 'wbc') | (lab_core['lab_name'] == 'neutrophil_count') | (lab_core['lab_name'] == 'platelet')) & \n",
    "    (lab_core['TestUnits'] == '10*3/L'),\n",
    "    (lab_core['lab_name'] == 'hemoglobin') & (lab_core['TestUnits'] == 'g/uL')]\n",
    "\n",
    "choices = [lab_core['TestResultCleaned'] * 1000000,\n",
    "           lab_core['TestResultCleaned'] / 100000]\n",
    "\n",
    "lab_core.loc[:, 'test_result_cleaned'] = np.select(conditions, choices, default = lab_core['TestResultCleaned'])"
   ]
  },
  {
   "cell_type": "code",
   "execution_count": 463,
   "id": "67e6cdb5",
   "metadata": {},
   "outputs": [],
   "source": [
    "# Elgibliity window is -90 and +30 from advanced diagnosis. \n",
    "lab_core_win = (\n",
    "    lab_core\n",
    "    .assign(lab_date_diff = (lab_core['ResultDate'] - lab_core['met_date']).dt.days)\n",
    "    .query('lab_date_diff >= -90 and lab_date_diff <= 30')\n",
    "    .filter(items = ['PatientID', 'ResultDate', 'TestResultCleaned', 'lab_name', 'met_date', 'test_result_cleaned', 'lab_date_diff'])\n",
    ")"
   ]
  },
  {
   "cell_type": "code",
   "execution_count": 464,
   "id": "ebfc8fac",
   "metadata": {},
   "outputs": [],
   "source": [
    "lab_core_win.loc[:, 'lab_date_diff'] = lab_core_win['lab_date_diff'].abs()"
   ]
  },
  {
   "cell_type": "code",
   "execution_count": 465,
   "id": "3fb4c1e7",
   "metadata": {},
   "outputs": [],
   "source": [
    "# Select lab closest to date of advanced diagnosis and pivot to a wide table. \n",
    "lab_diag_wide = (\n",
    "    lab_core_win\n",
    "    .loc[lab_core_win.groupby(['PatientID', 'lab_name'])['lab_date_diff'].idxmin()]\n",
    "    .pivot(index = 'PatientID', columns = 'lab_name', values = 'test_result_cleaned')\n",
    "    .reset_index()\n",
    "    .rename(columns = {\n",
    "        'albumin': 'albumin_diag',\n",
    "        'creatinine': 'creatinine_diag',\n",
    "        'hemoglobin': 'hemoglobin_diag',\n",
    "        'neutrophil_count': 'neutrophil_count_diag',\n",
    "        'total_bilirubin': 'total_bilirubin_diag',\n",
    "        'wbc': 'wbc_diag',\n",
    "        'sodium': 'sodium_diag', \n",
    "        'bicarb': 'bicarb_diag',\n",
    "        'calcium': 'calcium_diag',\n",
    "        'ast': 'ast_diag', \n",
    "        'alt': 'alt_diag',\n",
    "        'platelet': 'platelet_diag',\n",
    "        'potassium': 'potassium_diag',\n",
    "        'chloride': 'chloride_diag',\n",
    "        'bun': 'bun_diag',\n",
    "        'alp': 'alp_diag'})\n",
    ")\n",
    "\n",
    "lab_diag_wide.columns.name = None"
   ]
  },
  {
   "cell_type": "code",
   "execution_count": 466,
   "id": "fe5985bc",
   "metadata": {},
   "outputs": [
    {
     "data": {
      "text/plain": [
       "(16518, 16518)"
      ]
     },
     "execution_count": 466,
     "metadata": {},
     "output_type": "execute_result"
    }
   ],
   "source": [
    "row_ID(lab_diag_wide)"
   ]
  },
  {
   "cell_type": "code",
   "execution_count": 467,
   "id": "1eb4e6d0",
   "metadata": {},
   "outputs": [],
   "source": [
    "lab_diag_wide = (\n",
    "    lab_diag_wide\n",
    "    .append(\n",
    "        pd.Series(train_IDs)[~pd.Series(train_IDs).isin(lab_diag_wide['PatientID'])].to_frame(name = 'PatientID'),\n",
    "        sort = False)\n",
    ")"
   ]
  },
  {
   "cell_type": "code",
   "execution_count": 468,
   "id": "28cd6c81",
   "metadata": {},
   "outputs": [
    {
     "data": {
      "text/plain": [
       "(25341, 25341)"
      ]
     },
     "execution_count": 468,
     "metadata": {},
     "output_type": "execute_result"
    }
   ],
   "source": [
    "row_ID(lab_diag_wide)"
   ]
  },
  {
   "cell_type": "code",
   "execution_count": 469,
   "id": "6fcb139e",
   "metadata": {},
   "outputs": [
    {
     "data": {
      "text/html": [
       "<div>\n",
       "<style scoped>\n",
       "    .dataframe tbody tr th:only-of-type {\n",
       "        vertical-align: middle;\n",
       "    }\n",
       "\n",
       "    .dataframe tbody tr th {\n",
       "        vertical-align: top;\n",
       "    }\n",
       "\n",
       "    .dataframe thead th {\n",
       "        text-align: right;\n",
       "    }\n",
       "</style>\n",
       "<table border=\"1\" class=\"dataframe\">\n",
       "  <thead>\n",
       "    <tr style=\"text-align: right;\">\n",
       "      <th></th>\n",
       "      <th>albumin_diag</th>\n",
       "      <th>alp_diag</th>\n",
       "      <th>alt_diag</th>\n",
       "      <th>ast_diag</th>\n",
       "      <th>bicarb_diag</th>\n",
       "      <th>bun_diag</th>\n",
       "      <th>calcium_diag</th>\n",
       "      <th>chloride_diag</th>\n",
       "      <th>creatinine_diag</th>\n",
       "      <th>hemoglobin_diag</th>\n",
       "      <th>neutrophil_count_diag</th>\n",
       "      <th>platelet_diag</th>\n",
       "      <th>potassium_diag</th>\n",
       "      <th>sodium_diag</th>\n",
       "      <th>total_bilirubin_diag</th>\n",
       "      <th>wbc_diag</th>\n",
       "    </tr>\n",
       "  </thead>\n",
       "  <tbody>\n",
       "    <tr>\n",
       "      <th>count</th>\n",
       "      <td>14592.000000</td>\n",
       "      <td>15128.000000</td>\n",
       "      <td>14978.000000</td>\n",
       "      <td>15125.000000</td>\n",
       "      <td>12632.000000</td>\n",
       "      <td>15350.000000</td>\n",
       "      <td>15194.000000</td>\n",
       "      <td>11553.000000</td>\n",
       "      <td>15441.000000</td>\n",
       "      <td>16020.000000</td>\n",
       "      <td>11909.000000</td>\n",
       "      <td>14423.000000</td>\n",
       "      <td>12961.000000</td>\n",
       "      <td>12934.000000</td>\n",
       "      <td>14589.000000</td>\n",
       "      <td>15097.000000</td>\n",
       "    </tr>\n",
       "    <tr>\n",
       "      <th>mean</th>\n",
       "      <td>39.871724</td>\n",
       "      <td>146.827241</td>\n",
       "      <td>30.997416</td>\n",
       "      <td>38.437679</td>\n",
       "      <td>25.738158</td>\n",
       "      <td>16.545087</td>\n",
       "      <td>9.635115</td>\n",
       "      <td>101.633265</td>\n",
       "      <td>0.875671</td>\n",
       "      <td>12.500386</td>\n",
       "      <td>7.548583</td>\n",
       "      <td>272.374289</td>\n",
       "      <td>4.213933</td>\n",
       "      <td>139.149296</td>\n",
       "      <td>0.579196</td>\n",
       "      <td>7.517013</td>\n",
       "    </tr>\n",
       "    <tr>\n",
       "      <th>std</th>\n",
       "      <td>4.982285</td>\n",
       "      <td>1703.359026</td>\n",
       "      <td>40.176955</td>\n",
       "      <td>63.041188</td>\n",
       "      <td>3.274784</td>\n",
       "      <td>8.211229</td>\n",
       "      <td>10.578662</td>\n",
       "      <td>4.274305</td>\n",
       "      <td>0.482092</td>\n",
       "      <td>2.034970</td>\n",
       "      <td>105.001210</td>\n",
       "      <td>98.891501</td>\n",
       "      <td>1.250199</td>\n",
       "      <td>3.666561</td>\n",
       "      <td>1.136830</td>\n",
       "      <td>3.619896</td>\n",
       "    </tr>\n",
       "    <tr>\n",
       "      <th>min</th>\n",
       "      <td>0.036000</td>\n",
       "      <td>6.500000</td>\n",
       "      <td>0.000000</td>\n",
       "      <td>0.000000</td>\n",
       "      <td>8.300000</td>\n",
       "      <td>1.000000</td>\n",
       "      <td>0.940000</td>\n",
       "      <td>1.500000</td>\n",
       "      <td>0.082000</td>\n",
       "      <td>0.100000</td>\n",
       "      <td>0.000000</td>\n",
       "      <td>0.218000</td>\n",
       "      <td>2.000000</td>\n",
       "      <td>10.100000</td>\n",
       "      <td>0.000000</td>\n",
       "      <td>0.004100</td>\n",
       "    </tr>\n",
       "    <tr>\n",
       "      <th>25%</th>\n",
       "      <td>37.000000</td>\n",
       "      <td>74.000000</td>\n",
       "      <td>14.000000</td>\n",
       "      <td>18.000000</td>\n",
       "      <td>24.000000</td>\n",
       "      <td>12.000000</td>\n",
       "      <td>9.100000</td>\n",
       "      <td>99.000000</td>\n",
       "      <td>0.690000</td>\n",
       "      <td>11.500000</td>\n",
       "      <td>3.339800</td>\n",
       "      <td>210.000000</td>\n",
       "      <td>3.900000</td>\n",
       "      <td>137.000000</td>\n",
       "      <td>0.300000</td>\n",
       "      <td>5.500000</td>\n",
       "    </tr>\n",
       "    <tr>\n",
       "      <th>50%</th>\n",
       "      <td>41.000000</td>\n",
       "      <td>96.000000</td>\n",
       "      <td>20.000000</td>\n",
       "      <td>24.000000</td>\n",
       "      <td>26.000000</td>\n",
       "      <td>15.000000</td>\n",
       "      <td>9.500000</td>\n",
       "      <td>102.000000</td>\n",
       "      <td>0.800000</td>\n",
       "      <td>12.700000</td>\n",
       "      <td>4.470000</td>\n",
       "      <td>260.000000</td>\n",
       "      <td>4.200000</td>\n",
       "      <td>139.000000</td>\n",
       "      <td>0.400000</td>\n",
       "      <td>6.980000</td>\n",
       "    </tr>\n",
       "    <tr>\n",
       "      <th>75%</th>\n",
       "      <td>43.000000</td>\n",
       "      <td>137.000000</td>\n",
       "      <td>32.000000</td>\n",
       "      <td>35.000000</td>\n",
       "      <td>28.000000</td>\n",
       "      <td>19.000000</td>\n",
       "      <td>9.832500</td>\n",
       "      <td>104.000000</td>\n",
       "      <td>0.950000</td>\n",
       "      <td>13.700000</td>\n",
       "      <td>6.000000</td>\n",
       "      <td>321.000000</td>\n",
       "      <td>4.500000</td>\n",
       "      <td>141.000000</td>\n",
       "      <td>0.600000</td>\n",
       "      <td>8.770000</td>\n",
       "    </tr>\n",
       "    <tr>\n",
       "      <th>max</th>\n",
       "      <td>58.000000</td>\n",
       "      <td>209000.000000</td>\n",
       "      <td>1225.000000</td>\n",
       "      <td>3407.000000</td>\n",
       "      <td>44.600000</td>\n",
       "      <td>155.000000</td>\n",
       "      <td>939.000000</td>\n",
       "      <td>120.000000</td>\n",
       "      <td>15.100000</td>\n",
       "      <td>153.000000</td>\n",
       "      <td>4927.000000</td>\n",
       "      <td>1710.000000</td>\n",
       "      <td>136.000000</td>\n",
       "      <td>156.000000</td>\n",
       "      <td>85.000000</td>\n",
       "      <td>201.000000</td>\n",
       "    </tr>\n",
       "  </tbody>\n",
       "</table>\n",
       "</div>"
      ],
      "text/plain": [
       "       albumin_diag       alp_diag      alt_diag      ast_diag   bicarb_diag  \\\n",
       "count  14592.000000   15128.000000  14978.000000  15125.000000  12632.000000   \n",
       "mean      39.871724     146.827241     30.997416     38.437679     25.738158   \n",
       "std        4.982285    1703.359026     40.176955     63.041188      3.274784   \n",
       "min        0.036000       6.500000      0.000000      0.000000      8.300000   \n",
       "25%       37.000000      74.000000     14.000000     18.000000     24.000000   \n",
       "50%       41.000000      96.000000     20.000000     24.000000     26.000000   \n",
       "75%       43.000000     137.000000     32.000000     35.000000     28.000000   \n",
       "max       58.000000  209000.000000   1225.000000   3407.000000     44.600000   \n",
       "\n",
       "           bun_diag  calcium_diag  chloride_diag  creatinine_diag  \\\n",
       "count  15350.000000  15194.000000   11553.000000     15441.000000   \n",
       "mean      16.545087      9.635115     101.633265         0.875671   \n",
       "std        8.211229     10.578662       4.274305         0.482092   \n",
       "min        1.000000      0.940000       1.500000         0.082000   \n",
       "25%       12.000000      9.100000      99.000000         0.690000   \n",
       "50%       15.000000      9.500000     102.000000         0.800000   \n",
       "75%       19.000000      9.832500     104.000000         0.950000   \n",
       "max      155.000000    939.000000     120.000000        15.100000   \n",
       "\n",
       "       hemoglobin_diag  neutrophil_count_diag  platelet_diag  potassium_diag  \\\n",
       "count     16020.000000           11909.000000   14423.000000    12961.000000   \n",
       "mean         12.500386               7.548583     272.374289        4.213933   \n",
       "std           2.034970             105.001210      98.891501        1.250199   \n",
       "min           0.100000               0.000000       0.218000        2.000000   \n",
       "25%          11.500000               3.339800     210.000000        3.900000   \n",
       "50%          12.700000               4.470000     260.000000        4.200000   \n",
       "75%          13.700000               6.000000     321.000000        4.500000   \n",
       "max         153.000000            4927.000000    1710.000000      136.000000   \n",
       "\n",
       "        sodium_diag  total_bilirubin_diag      wbc_diag  \n",
       "count  12934.000000          14589.000000  15097.000000  \n",
       "mean     139.149296              0.579196      7.517013  \n",
       "std        3.666561              1.136830      3.619896  \n",
       "min       10.100000              0.000000      0.004100  \n",
       "25%      137.000000              0.300000      5.500000  \n",
       "50%      139.000000              0.400000      6.980000  \n",
       "75%      141.000000              0.600000      8.770000  \n",
       "max      156.000000             85.000000    201.000000  "
      ]
     },
     "execution_count": 469,
     "metadata": {},
     "output_type": "execute_result"
    }
   ],
   "source": [
    "lab_diag_wide.describe()"
   ]
  },
  {
   "cell_type": "code",
   "execution_count": 470,
   "id": "75ec1b40",
   "metadata": {},
   "outputs": [
    {
     "name": "stdout",
     "output_type": "stream",
     "text": [
      "Missing albumin: 42.42%\n",
      "Missing total_bilirubin: 42.43%\n",
      "Missing creatinine: 39.07%\n",
      "Missing hemoglobin: 36.78%\n",
      "Missing neutrophil: 53.01%\n",
      "Missing wbc: 40.42%\n",
      "Missing sodium: 48.96%\n",
      "Missing bicarb: 50.15%\n",
      "Missing calcium: 40.04%\n",
      "Missing ast: 40.31%\n",
      "Missing alt: 40.89%\n",
      "Missing platelet: 43.08%\n",
      "Missing potassium: 48.85%\n",
      "Missing chloride: 54.41%\n",
      "Missing bun: 39.43%\n",
      "Missing alp 40.30%\n"
     ]
    }
   ],
   "source": [
    "# Percentage of patients missing lab at time of advanced diagnosis.\n",
    "x = ((lab_diag_wide['albumin_diag'].isna().sum())/len(lab_diag_wide))*100\n",
    "print(f'Missing albumin: {x:.2f}%')\n",
    "\n",
    "x = ((lab_diag_wide['total_bilirubin_diag'].isna().sum())/len(lab_diag_wide))*100\n",
    "print(f'Missing total_bilirubin: {x:.2f}%')\n",
    "\n",
    "x = ((lab_diag_wide['creatinine_diag'].isna().sum())/len(lab_diag_wide))*100\n",
    "print(f'Missing creatinine: {x:.2f}%')\n",
    "\n",
    "x = ((lab_diag_wide['hemoglobin_diag'].isna().sum())/len(lab_diag_wide))*100\n",
    "print(f'Missing hemoglobin: {x:.2f}%')\n",
    "\n",
    "x = ((lab_diag_wide['neutrophil_count_diag'].isna().sum())/len(lab_diag_wide))*100\n",
    "print(f'Missing neutrophil: {x:.2f}%')\n",
    "\n",
    "x = ((lab_diag_wide['wbc_diag'].isna().sum())/len(lab_diag_wide))*100\n",
    "print(f'Missing wbc: {x:.2f}%')\n",
    "\n",
    "x = ((lab_diag_wide['sodium_diag'].isna().sum())/len(lab_diag_wide))*100\n",
    "print(f'Missing sodium: {x:.2f}%')\n",
    "\n",
    "x = ((lab_diag_wide['bicarb_diag'].isna().sum())/len(lab_diag_wide))*100\n",
    "print(f'Missing bicarb: {x:.2f}%')\n",
    "\n",
    "x = ((lab_diag_wide['calcium_diag'].isna().sum())/len(lab_diag_wide))*100\n",
    "print(f'Missing calcium: {x:.2f}%')\n",
    "\n",
    "x = ((lab_diag_wide['ast_diag'].isna().sum())/len(lab_diag_wide))*100\n",
    "print(f'Missing ast: {x:.2f}%')\n",
    "\n",
    "x = ((lab_diag_wide['alt_diag'].isna().sum())/len(lab_diag_wide))*100\n",
    "print(f'Missing alt: {x:.2f}%')\n",
    "\n",
    "x = ((lab_diag_wide['platelet_diag'].isna().sum())/len(lab_diag_wide))*100\n",
    "print(f'Missing platelet: {x:.2f}%')\n",
    "\n",
    "x = ((lab_diag_wide['potassium_diag'].isna().sum())/len(lab_diag_wide))*100\n",
    "print(f'Missing potassium: {x:.2f}%')\n",
    "\n",
    "x = ((lab_diag_wide['chloride_diag'].isna().sum())/len(lab_diag_wide))*100\n",
    "print(f'Missing chloride: {x:.2f}%')\n",
    "\n",
    "x = ((lab_diag_wide['bun_diag'].isna().sum())/len(lab_diag_wide))*100\n",
    "print(f'Missing bun: {x:.2f}%')\n",
    "\n",
    "x = ((lab_diag_wide['alp_diag'].isna().sum())/len(lab_diag_wide))*100\n",
    "print(f'Missing alp {x:.2f}%')"
   ]
  },
  {
   "cell_type": "code",
   "execution_count": 471,
   "id": "3c54af75",
   "metadata": {},
   "outputs": [],
   "source": [
    "# Create missing variables for labs at time of diagnosis. \n",
    "for x in range (1, len(lab_diag_wide.columns)):\n",
    "    lab_diag_wide.loc[:, lab_diag_wide.columns[x]+'_na'] = np.where(lab_diag_wide[lab_diag_wide.columns[x]].isna(), 1, 0)"
   ]
  },
  {
   "cell_type": "code",
   "execution_count": 472,
   "id": "2df0ef52",
   "metadata": {},
   "outputs": [
    {
     "data": {
      "text/plain": [
       "['PatientID',\n",
       " 'albumin_diag',\n",
       " 'alp_diag',\n",
       " 'alt_diag',\n",
       " 'ast_diag',\n",
       " 'bicarb_diag',\n",
       " 'bun_diag',\n",
       " 'calcium_diag',\n",
       " 'chloride_diag',\n",
       " 'creatinine_diag',\n",
       " 'hemoglobin_diag',\n",
       " 'neutrophil_count_diag',\n",
       " 'platelet_diag',\n",
       " 'potassium_diag',\n",
       " 'sodium_diag',\n",
       " 'total_bilirubin_diag',\n",
       " 'wbc_diag',\n",
       " 'albumin_diag_na',\n",
       " 'alp_diag_na',\n",
       " 'alt_diag_na',\n",
       " 'ast_diag_na',\n",
       " 'bicarb_diag_na',\n",
       " 'bun_diag_na',\n",
       " 'calcium_diag_na',\n",
       " 'chloride_diag_na',\n",
       " 'creatinine_diag_na',\n",
       " 'hemoglobin_diag_na',\n",
       " 'neutrophil_count_diag_na',\n",
       " 'platelet_diag_na',\n",
       " 'potassium_diag_na',\n",
       " 'sodium_diag_na',\n",
       " 'total_bilirubin_diag_na',\n",
       " 'wbc_diag_na']"
      ]
     },
     "execution_count": 472,
     "metadata": {},
     "output_type": "execute_result"
    }
   ],
   "source": [
    "list(lab_diag_wide.columns)"
   ]
  },
  {
   "cell_type": "code",
   "execution_count": 473,
   "id": "36e735da",
   "metadata": {},
   "outputs": [
    {
     "data": {
      "text/plain": [
       "0.26885284716467384"
      ]
     },
     "execution_count": 473,
     "metadata": {},
     "output_type": "execute_result"
    }
   ],
   "source": [
    "# Percentage of patients with all labs collected at time of advanced diagnosis.\n",
    "(\n",
    "    lab_diag_wide\n",
    "    [~lab_diag_wide.isnull().any(axis = 1)]\n",
    "    .shape[0]\n",
    "    /len(lab_diag_wide)\n",
    ")"
   ]
  },
  {
   "cell_type": "code",
   "execution_count": 474,
   "id": "e11ba5d2",
   "metadata": {},
   "outputs": [
    {
     "data": {
      "text/plain": [
       "0.506294147823685"
      ]
     },
     "execution_count": 474,
     "metadata": {},
     "output_type": "execute_result"
    }
   ],
   "source": [
    "# Percentage of patients with creatinine, hemoglobin, WBC, albumin, and bilirubin, collected at time of advanced diagnosis.\n",
    "(\n",
    "    lab_diag_wide\n",
    "    [~lab_diag_wide[['albumin_diag', 'total_bilirubin_diag', 'creatinine_diag', 'hemoglobin_diag', 'wbc_diag']]\n",
    "    .isnull().any(axis = 1)]\n",
    "    .shape[0]\n",
    "    /len(lab_diag_wide)\n",
    ")"
   ]
  },
  {
   "cell_type": "code",
   "execution_count": 475,
   "id": "028fd76e",
   "metadata": {},
   "outputs": [
    {
     "data": {
      "text/plain": [
       "0.5577522591847204"
      ]
     },
     "execution_count": 475,
     "metadata": {},
     "output_type": "execute_result"
    }
   ],
   "source": [
    "# Percentage of patients with creatinine, hemoglobin, and WBC colleced at time of advanced diagnosis. \n",
    "(\n",
    "    lab_diag_wide\n",
    "    [~lab_diag_wide[['creatinine_diag', 'hemoglobin_diag', 'wbc_diag']]\n",
    "     .isnull().any(axis = 1)]\n",
    "    .shape[0]\n",
    "    /len(lab_diag_wide)\n",
    ")"
   ]
  },
  {
   "cell_type": "markdown",
   "id": "ff317981",
   "metadata": {},
   "source": [
    "#### Mean, max, min, and standard deviation"
   ]
  },
  {
   "cell_type": "code",
   "execution_count": 476,
   "id": "a8199fb0",
   "metadata": {},
   "outputs": [],
   "source": [
    "# Elgibility window is negative infinity to +30 from advanced diagnosis. \n",
    "lab_core_win_summ = (\n",
    "    lab_core\n",
    "    .assign(lab_date_diff = (lab_core['ResultDate'] - lab_core['met_date']).dt.days)\n",
    "    .query('lab_date_diff <= 30')\n",
    "    .filter(items = ['PatientID', 'ResultDate', 'TestResultCleaned', 'lab_name', 'met_date', 'test_result_cleaned', 'lab_date_diff'])\n",
    ")"
   ]
  },
  {
   "cell_type": "code",
   "execution_count": 477,
   "id": "3a325084",
   "metadata": {},
   "outputs": [],
   "source": [
    "# Pivot table of average values for core labs during elgibility period of -90 to -30 days from advanced diagnosis. \n",
    "lab_avg_wide = (\n",
    "    lab_core_win_summ\n",
    "    .groupby(['PatientID', 'lab_name'])['test_result_cleaned'].mean()\n",
    "    .to_frame()\n",
    "    .reset_index()\n",
    "    .pivot(index = 'PatientID', columns = 'lab_name', values = 'test_result_cleaned')\n",
    "    .reset_index()\n",
    "    .rename(columns = {\n",
    "        'albumin': 'albumin_avg',\n",
    "        'creatinine': 'creatinine_avg',\n",
    "        'hemoglobin': 'hemoglobin_avg',\n",
    "        'neutrophil_count': 'neutrophil_count_avg',\n",
    "        'total_bilirubin': 'total_bilirubin_avg',\n",
    "        'wbc': 'wbc_avg',\n",
    "        'sodium': 'sodium_avg', \n",
    "        'bicarb': 'bicarb_avg',\n",
    "        'calcium': 'calcium_avg',\n",
    "        'ast': 'ast_avg', \n",
    "        'alt': 'alt_avg',\n",
    "        'platelet': 'platelet_avg',\n",
    "        'potassium': 'potassium_avg',\n",
    "        'chloride': 'chloride_avg',\n",
    "        'bun': 'bun_avg',\n",
    "        'alp': 'alp_avg'})\n",
    ")\n",
    "\n",
    "lab_avg_wide.columns.name = None"
   ]
  },
  {
   "cell_type": "code",
   "execution_count": 478,
   "id": "75a5d002",
   "metadata": {},
   "outputs": [
    {
     "data": {
      "text/plain": [
       "(17974, 17974)"
      ]
     },
     "execution_count": 478,
     "metadata": {},
     "output_type": "execute_result"
    }
   ],
   "source": [
    "row_ID(lab_avg_wide)"
   ]
  },
  {
   "cell_type": "code",
   "execution_count": 479,
   "id": "274e570a",
   "metadata": {},
   "outputs": [],
   "source": [
    "# Pivot table of maximum values for core labs during elgibility period of -90 to -30 days from advanced diagnosis. \n",
    "lab_max_wide = (\n",
    "    lab_core_win_summ\n",
    "    .groupby(['PatientID', 'lab_name'])['test_result_cleaned'].max()\n",
    "    .to_frame()\n",
    "    .reset_index()\n",
    "    .pivot(index = 'PatientID', columns = 'lab_name', values = 'test_result_cleaned')\n",
    "    .reset_index()\n",
    "    .rename(columns = {\n",
    "        'albumin': 'albumin_max',\n",
    "        'creatinine': 'creatinine_max',\n",
    "        'hemoglobin': 'hemoglobin_max',\n",
    "        'neutrophil_count': 'neutrophil_count_max',\n",
    "        'total_bilirubin': 'total_bilirubin_max',\n",
    "        'wbc': 'wbc_max', \n",
    "        'sodium': 'sodium_max', \n",
    "        'bicarb': 'bicarb_max',\n",
    "        'calcium': 'calcium_max',\n",
    "        'ast': 'ast_max', \n",
    "        'alt': 'alt_max',\n",
    "        'platelet': 'platelet_max',\n",
    "        'potassium': 'potassium_max',\n",
    "        'chloride': 'chloride_max',\n",
    "        'bun': 'bun_max', \n",
    "        'alp': 'alp_max'})\n",
    ")\n",
    "\n",
    "lab_max_wide.columns.name = None"
   ]
  },
  {
   "cell_type": "code",
   "execution_count": 480,
   "id": "7ddfe3f3",
   "metadata": {},
   "outputs": [
    {
     "data": {
      "text/plain": [
       "(17974, 17974)"
      ]
     },
     "execution_count": 480,
     "metadata": {},
     "output_type": "execute_result"
    }
   ],
   "source": [
    "row_ID(lab_max_wide)"
   ]
  },
  {
   "cell_type": "code",
   "execution_count": 481,
   "id": "51001b9a",
   "metadata": {},
   "outputs": [],
   "source": [
    "# Pivot table of minimum values for core labs during elgibility period of -90 to -30 days from advanced diagnosis. \n",
    "lab_min_wide = (\n",
    "    lab_core_win_summ\n",
    "    .groupby(['PatientID', 'lab_name'])['test_result_cleaned'].min()\n",
    "    .to_frame()\n",
    "    .reset_index()\n",
    "    .pivot(index = 'PatientID', columns = 'lab_name', values = 'test_result_cleaned')\n",
    "    .reset_index()\n",
    "    .rename(columns = {\n",
    "        'albumin': 'albumin_min',\n",
    "        'creatinine': 'creatinine_min',\n",
    "        'hemoglobin': 'hemoglobin_min',\n",
    "        'neutrophil_count': 'neutrophil_count_min',\n",
    "        'total_bilirubin': 'total_bilirubin_min',\n",
    "        'wbc': 'wbc_min',\n",
    "        'sodium': 'sodium_min', \n",
    "        'bicarb': 'bicarb_min',\n",
    "        'calcium': 'calcium_min',\n",
    "        'ast': 'ast_min', \n",
    "        'alt': 'alt_min',\n",
    "        'platelet': 'platelet_min',\n",
    "        'potassium': 'potassium_min',\n",
    "        'chloride': 'chloride_min',\n",
    "        'bun': 'bun_min',\n",
    "        'alp': 'alp_min'})\n",
    ")\n",
    "\n",
    "lab_min_wide.columns.name = None"
   ]
  },
  {
   "cell_type": "code",
   "execution_count": 482,
   "id": "562114dc",
   "metadata": {},
   "outputs": [
    {
     "data": {
      "text/plain": [
       "(17974, 17974)"
      ]
     },
     "execution_count": 482,
     "metadata": {},
     "output_type": "execute_result"
    }
   ],
   "source": [
    "row_ID(lab_min_wide)"
   ]
  },
  {
   "cell_type": "code",
   "execution_count": 483,
   "id": "0313c572",
   "metadata": {},
   "outputs": [],
   "source": [
    "# Pivot table of standard deviation for core labs during elgibility period of -90 to -30 days from advanced diagnosis. \n",
    "lab_std_wide = (\n",
    "    lab_core_win_summ\n",
    "    .groupby(['PatientID', 'lab_name'])['test_result_cleaned'].std()\n",
    "    .to_frame()\n",
    "    .reset_index()\n",
    "    .pivot(index = 'PatientID', columns = 'lab_name', values = 'test_result_cleaned')\n",
    "    .reset_index()\n",
    "    .rename(columns = {\n",
    "        'albumin': 'albumin_std',\n",
    "        'creatinine': 'creatinine_std',\n",
    "        'hemoglobin': 'hemoglobin_std',\n",
    "        'neutrophil_count': 'neutrophil_count_std',\n",
    "        'total_bilirubin': 'total_bilirubin_std',\n",
    "        'wbc': 'wbc_std',\n",
    "        'sodium': 'sodium_std', \n",
    "        'bicarb': 'bicarb_std',\n",
    "        'calcium': 'calcium_std',\n",
    "        'ast': 'ast_std', \n",
    "        'alt': 'alt_std',\n",
    "        'platelet': 'platelet_std',\n",
    "        'potassium': 'potassium_std',\n",
    "        'chloride': 'chloride_std',\n",
    "        'bun': 'bun_std', \n",
    "        'alp': 'alp_std'})\n",
    ")\n",
    "\n",
    "lab_std_wide.columns.name = None"
   ]
  },
  {
   "cell_type": "code",
   "execution_count": 484,
   "id": "d0c04e3a",
   "metadata": {},
   "outputs": [
    {
     "data": {
      "text/plain": [
       "(17974, 17974)"
      ]
     },
     "execution_count": 484,
     "metadata": {},
     "output_type": "execute_result"
    }
   ],
   "source": [
    "row_ID(lab_std_wide)"
   ]
  },
  {
   "cell_type": "code",
   "execution_count": 485,
   "id": "76a2582c",
   "metadata": {},
   "outputs": [],
   "source": [
    "lab_summary_wide = pd.merge(lab_avg_wide, lab_max_wide, on = 'PatientID', how = 'outer')"
   ]
  },
  {
   "cell_type": "code",
   "execution_count": 486,
   "id": "1a94087f",
   "metadata": {},
   "outputs": [],
   "source": [
    "lab_summary_wide = pd.merge(lab_summary_wide, lab_min_wide, on = 'PatientID', how = 'outer')"
   ]
  },
  {
   "cell_type": "code",
   "execution_count": 487,
   "id": "3e6a3970",
   "metadata": {},
   "outputs": [],
   "source": [
    "lab_summary_wide = pd.merge(lab_summary_wide, lab_std_wide, on = 'PatientID', how = 'outer')"
   ]
  },
  {
   "cell_type": "code",
   "execution_count": 488,
   "id": "da1e717d",
   "metadata": {},
   "outputs": [
    {
     "data": {
      "text/plain": [
       "(17974, 17974)"
      ]
     },
     "execution_count": 488,
     "metadata": {},
     "output_type": "execute_result"
    }
   ],
   "source": [
    "row_ID(lab_summary_wide)"
   ]
  },
  {
   "cell_type": "code",
   "execution_count": 489,
   "id": "7e6edfcc",
   "metadata": {},
   "outputs": [],
   "source": [
    "lab_summary_wide = (\n",
    "    lab_summary_wide\n",
    "    .append(\n",
    "        pd.Series(train_IDs)[~pd.Series(train_IDs).isin(lab_summary_wide['PatientID'])].to_frame(name = 'PatientID'),\n",
    "        sort = False)\n",
    ")"
   ]
  },
  {
   "cell_type": "code",
   "execution_count": 490,
   "id": "c7b15000",
   "metadata": {},
   "outputs": [
    {
     "data": {
      "text/plain": [
       "(25341, 25341)"
      ]
     },
     "execution_count": 490,
     "metadata": {},
     "output_type": "execute_result"
    }
   ],
   "source": [
    "row_ID(lab_summary_wide)"
   ]
  },
  {
   "cell_type": "code",
   "execution_count": 491,
   "id": "e0c9a3c7",
   "metadata": {},
   "outputs": [
    {
     "data": {
      "text/html": [
       "<div>\n",
       "<style scoped>\n",
       "    .dataframe tbody tr th:only-of-type {\n",
       "        vertical-align: middle;\n",
       "    }\n",
       "\n",
       "    .dataframe tbody tr th {\n",
       "        vertical-align: top;\n",
       "    }\n",
       "\n",
       "    .dataframe thead th {\n",
       "        text-align: right;\n",
       "    }\n",
       "</style>\n",
       "<table border=\"1\" class=\"dataframe\">\n",
       "  <thead>\n",
       "    <tr style=\"text-align: right;\">\n",
       "      <th></th>\n",
       "      <th>PatientID</th>\n",
       "      <th>albumin_avg</th>\n",
       "      <th>alp_avg</th>\n",
       "      <th>alt_avg</th>\n",
       "      <th>ast_avg</th>\n",
       "      <th>bicarb_avg</th>\n",
       "      <th>bun_avg</th>\n",
       "      <th>calcium_avg</th>\n",
       "      <th>chloride_avg</th>\n",
       "      <th>creatinine_avg</th>\n",
       "      <th>...</th>\n",
       "      <th>calcium_std</th>\n",
       "      <th>chloride_std</th>\n",
       "      <th>creatinine_std</th>\n",
       "      <th>hemoglobin_std</th>\n",
       "      <th>neutrophil_count_std</th>\n",
       "      <th>platelet_std</th>\n",
       "      <th>potassium_std</th>\n",
       "      <th>sodium_std</th>\n",
       "      <th>total_bilirubin_std</th>\n",
       "      <th>wbc_std</th>\n",
       "    </tr>\n",
       "  </thead>\n",
       "  <tbody>\n",
       "    <tr>\n",
       "      <th>16743</th>\n",
       "      <td>FEE357C952A6D</td>\n",
       "      <td>39.325000</td>\n",
       "      <td>104.425000</td>\n",
       "      <td>29.725000</td>\n",
       "      <td>28.925000</td>\n",
       "      <td>26.948718</td>\n",
       "      <td>14.717949</td>\n",
       "      <td>9.607692</td>\n",
       "      <td>102.277778</td>\n",
       "      <td>0.757692</td>\n",
       "      <td>...</td>\n",
       "      <td>0.425741</td>\n",
       "      <td>2.217724</td>\n",
       "      <td>0.088212</td>\n",
       "      <td>0.940729</td>\n",
       "      <td>1.290731</td>\n",
       "      <td>60.057863</td>\n",
       "      <td>0.237480</td>\n",
       "      <td>1.188678</td>\n",
       "      <td>0.075786</td>\n",
       "      <td>1.618046</td>\n",
       "    </tr>\n",
       "    <tr>\n",
       "      <th>10574</th>\n",
       "      <td>F960675D4ED6F</td>\n",
       "      <td>41.000000</td>\n",
       "      <td>63.500000</td>\n",
       "      <td>16.500000</td>\n",
       "      <td>20.000000</td>\n",
       "      <td>NaN</td>\n",
       "      <td>14.000000</td>\n",
       "      <td>9.550000</td>\n",
       "      <td>NaN</td>\n",
       "      <td>0.600000</td>\n",
       "      <td>...</td>\n",
       "      <td>0.070711</td>\n",
       "      <td>NaN</td>\n",
       "      <td>0.000000</td>\n",
       "      <td>0.070711</td>\n",
       "      <td>0.777817</td>\n",
       "      <td>15.556349</td>\n",
       "      <td>NaN</td>\n",
       "      <td>NaN</td>\n",
       "      <td>0.212132</td>\n",
       "      <td>0.848528</td>\n",
       "    </tr>\n",
       "    <tr>\n",
       "      <th>4245</th>\n",
       "      <td>F3BC9DECF8499</td>\n",
       "      <td>41.129032</td>\n",
       "      <td>99.612903</td>\n",
       "      <td>18.967742</td>\n",
       "      <td>18.516129</td>\n",
       "      <td>23.310345</td>\n",
       "      <td>15.612903</td>\n",
       "      <td>9.509677</td>\n",
       "      <td>101.133333</td>\n",
       "      <td>0.900000</td>\n",
       "      <td>...</td>\n",
       "      <td>0.341911</td>\n",
       "      <td>3.287734</td>\n",
       "      <td>0.138962</td>\n",
       "      <td>1.506017</td>\n",
       "      <td>3.567057</td>\n",
       "      <td>64.186705</td>\n",
       "      <td>0.227658</td>\n",
       "      <td>2.544232</td>\n",
       "      <td>0.131001</td>\n",
       "      <td>4.156390</td>\n",
       "    </tr>\n",
       "    <tr>\n",
       "      <th>16612</th>\n",
       "      <td>FEC6313259976</td>\n",
       "      <td>36.400000</td>\n",
       "      <td>46.000000</td>\n",
       "      <td>14.400000</td>\n",
       "      <td>19.600000</td>\n",
       "      <td>30.166667</td>\n",
       "      <td>14.166667</td>\n",
       "      <td>9.016667</td>\n",
       "      <td>99.333333</td>\n",
       "      <td>0.814286</td>\n",
       "      <td>...</td>\n",
       "      <td>0.570672</td>\n",
       "      <td>1.861899</td>\n",
       "      <td>0.069007</td>\n",
       "      <td>0.896103</td>\n",
       "      <td>0.430687</td>\n",
       "      <td>21.708019</td>\n",
       "      <td>0.200000</td>\n",
       "      <td>1.414214</td>\n",
       "      <td>0.070711</td>\n",
       "      <td>0.909668</td>\n",
       "    </tr>\n",
       "    <tr>\n",
       "      <th>5216</th>\n",
       "      <td>F496327303056</td>\n",
       "      <td>41.000000</td>\n",
       "      <td>288.000000</td>\n",
       "      <td>130.000000</td>\n",
       "      <td>92.000000</td>\n",
       "      <td>27.000000</td>\n",
       "      <td>35.000000</td>\n",
       "      <td>9.600000</td>\n",
       "      <td>96.000000</td>\n",
       "      <td>0.700000</td>\n",
       "      <td>...</td>\n",
       "      <td>NaN</td>\n",
       "      <td>NaN</td>\n",
       "      <td>NaN</td>\n",
       "      <td>NaN</td>\n",
       "      <td>NaN</td>\n",
       "      <td>NaN</td>\n",
       "      <td>NaN</td>\n",
       "      <td>NaN</td>\n",
       "      <td>NaN</td>\n",
       "      <td>NaN</td>\n",
       "    </tr>\n",
       "  </tbody>\n",
       "</table>\n",
       "<p>5 rows × 65 columns</p>\n",
       "</div>"
      ],
      "text/plain": [
       "           PatientID  albumin_avg     alp_avg     alt_avg    ast_avg  \\\n",
       "16743  FEE357C952A6D    39.325000  104.425000   29.725000  28.925000   \n",
       "10574  F960675D4ED6F    41.000000   63.500000   16.500000  20.000000   \n",
       "4245   F3BC9DECF8499    41.129032   99.612903   18.967742  18.516129   \n",
       "16612  FEC6313259976    36.400000   46.000000   14.400000  19.600000   \n",
       "5216   F496327303056    41.000000  288.000000  130.000000  92.000000   \n",
       "\n",
       "       bicarb_avg    bun_avg  calcium_avg  chloride_avg  creatinine_avg  ...  \\\n",
       "16743   26.948718  14.717949     9.607692    102.277778        0.757692  ...   \n",
       "10574         NaN  14.000000     9.550000           NaN        0.600000  ...   \n",
       "4245    23.310345  15.612903     9.509677    101.133333        0.900000  ...   \n",
       "16612   30.166667  14.166667     9.016667     99.333333        0.814286  ...   \n",
       "5216    27.000000  35.000000     9.600000     96.000000        0.700000  ...   \n",
       "\n",
       "       calcium_std  chloride_std  creatinine_std  hemoglobin_std  \\\n",
       "16743     0.425741      2.217724        0.088212        0.940729   \n",
       "10574     0.070711           NaN        0.000000        0.070711   \n",
       "4245      0.341911      3.287734        0.138962        1.506017   \n",
       "16612     0.570672      1.861899        0.069007        0.896103   \n",
       "5216           NaN           NaN             NaN             NaN   \n",
       "\n",
       "       neutrophil_count_std  platelet_std  potassium_std  sodium_std  \\\n",
       "16743              1.290731     60.057863       0.237480    1.188678   \n",
       "10574              0.777817     15.556349            NaN         NaN   \n",
       "4245               3.567057     64.186705       0.227658    2.544232   \n",
       "16612              0.430687     21.708019       0.200000    1.414214   \n",
       "5216                    NaN           NaN            NaN         NaN   \n",
       "\n",
       "       total_bilirubin_std   wbc_std  \n",
       "16743             0.075786  1.618046  \n",
       "10574             0.212132  0.848528  \n",
       "4245              0.131001  4.156390  \n",
       "16612             0.070711  0.909668  \n",
       "5216                   NaN       NaN  \n",
       "\n",
       "[5 rows x 65 columns]"
      ]
     },
     "execution_count": 491,
     "metadata": {},
     "output_type": "execute_result"
    }
   ],
   "source": [
    "lab_summary_wide.sample(5)"
   ]
  },
  {
   "cell_type": "code",
   "execution_count": 492,
   "id": "46393be4",
   "metadata": {},
   "outputs": [
    {
     "data": {
      "text/plain": [
       "['PatientID',\n",
       " 'albumin_avg',\n",
       " 'alp_avg',\n",
       " 'alt_avg',\n",
       " 'ast_avg',\n",
       " 'bicarb_avg',\n",
       " 'bun_avg',\n",
       " 'calcium_avg',\n",
       " 'chloride_avg',\n",
       " 'creatinine_avg',\n",
       " 'hemoglobin_avg',\n",
       " 'neutrophil_count_avg',\n",
       " 'platelet_avg',\n",
       " 'potassium_avg',\n",
       " 'sodium_avg',\n",
       " 'total_bilirubin_avg',\n",
       " 'wbc_avg',\n",
       " 'albumin_max',\n",
       " 'alp_max',\n",
       " 'alt_max',\n",
       " 'ast_max',\n",
       " 'bicarb_max',\n",
       " 'bun_max',\n",
       " 'calcium_max',\n",
       " 'chloride_max',\n",
       " 'creatinine_max',\n",
       " 'hemoglobin_max',\n",
       " 'neutrophil_count_max',\n",
       " 'platelet_max',\n",
       " 'potassium_max',\n",
       " 'sodium_max',\n",
       " 'total_bilirubin_max',\n",
       " 'wbc_max',\n",
       " 'albumin_min',\n",
       " 'alp_min',\n",
       " 'alt_min',\n",
       " 'ast_min',\n",
       " 'bicarb_min',\n",
       " 'bun_min',\n",
       " 'calcium_min',\n",
       " 'chloride_min',\n",
       " 'creatinine_min',\n",
       " 'hemoglobin_min',\n",
       " 'neutrophil_count_min',\n",
       " 'platelet_min',\n",
       " 'potassium_min',\n",
       " 'sodium_min',\n",
       " 'total_bilirubin_min',\n",
       " 'wbc_min',\n",
       " 'albumin_std',\n",
       " 'alp_std',\n",
       " 'alt_std',\n",
       " 'ast_std',\n",
       " 'bicarb_std',\n",
       " 'bun_std',\n",
       " 'calcium_std',\n",
       " 'chloride_std',\n",
       " 'creatinine_std',\n",
       " 'hemoglobin_std',\n",
       " 'neutrophil_count_std',\n",
       " 'platelet_std',\n",
       " 'potassium_std',\n",
       " 'sodium_std',\n",
       " 'total_bilirubin_std',\n",
       " 'wbc_std']"
      ]
     },
     "execution_count": 492,
     "metadata": {},
     "output_type": "execute_result"
    }
   ],
   "source": [
    "list(lab_summary_wide.columns)"
   ]
  },
  {
   "cell_type": "markdown",
   "id": "d11d6f87",
   "metadata": {},
   "source": [
    "#### Slope"
   ]
  },
  {
   "cell_type": "code",
   "execution_count": 493,
   "id": "81b1e57b",
   "metadata": {},
   "outputs": [],
   "source": [
    "lab_core_win_summ.loc[:, 'result_date_ordinal'] = lab_core_win_summ['ResultDate'].map(dt.datetime.toordinal)"
   ]
  },
  {
   "cell_type": "code",
   "execution_count": 494,
   "id": "202ac61c",
   "metadata": {},
   "outputs": [
    {
     "name": "stderr",
     "output_type": "stream",
     "text": [
      "/Applications/anaconda3/lib/python3.7/site-packages/scipy/stats/_stats_mstats_common.py:170: RuntimeWarning: invalid value encountered in double_scalars\n",
      "  slope = ssxym / ssxm\n",
      "/Applications/anaconda3/lib/python3.7/site-packages/scipy/stats/_stats_mstats_common.py:184: RuntimeWarning: invalid value encountered in sqrt\n",
      "  t = r * np.sqrt(df / ((1.0 - r + TINY)*(1.0 + r + TINY)))\n",
      "/Applications/anaconda3/lib/python3.7/site-packages/scipy/stats/_stats_mstats_common.py:187: RuntimeWarning: invalid value encountered in double_scalars\n",
      "  slope_stderr = np.sqrt((1 - r**2) * ssym / ssxm / df)\n",
      "/Applications/anaconda3/lib/python3.7/site-packages/scipy/stats/_stats_mstats_common.py:187: RuntimeWarning: divide by zero encountered in double_scalars\n",
      "  slope_stderr = np.sqrt((1 - r**2) * ssym / ssxm / df)\n"
     ]
    }
   ],
   "source": [
    "lab_slope_wide = (\n",
    "    lab_core_win_summ\n",
    "    .groupby(['PatientID', 'lab_name'])\n",
    "    .apply(lambda x: pd.Series(linregress(x['result_date_ordinal'], x['test_result_cleaned'])))\n",
    "    .rename(columns = {0: 'slope'})\n",
    "    .reset_index()\n",
    "    .filter(items = ['PatientID', 'lab_name', 'slope'])\n",
    "    .pivot(index = 'PatientID', columns = 'lab_name', values = 'slope')\n",
    "    .reset_index()\n",
    "    .rename(columns = {\n",
    "        'albumin': 'albumin_slope',\n",
    "        'creatinine': 'creatinine_slope',\n",
    "        'hemoglobin': 'hemoglobin_slope',\n",
    "        'neutrophil_count': 'neutrophil_count_slope',\n",
    "        'total_bilirubin': 'total_bilirubin_slope',\n",
    "        'wbc': 'wbc_slope',\n",
    "        'sodium': 'sodium_slope', \n",
    "        'bicarb': 'bicarb_slope',\n",
    "        'calcium': 'calcium_slope',\n",
    "        'ast': 'ast_slope', \n",
    "        'alt': 'alt_slope',\n",
    "        'platelet': 'platelet_slope',\n",
    "        'potassium': 'potassium_slope',\n",
    "        'chloride': 'chloride_slope',\n",
    "        'bun': 'bun_slope',\n",
    "        'alp': 'alp_slope'})\n",
    ")\n",
    "\n",
    "lab_slope_wide.columns.name = None"
   ]
  },
  {
   "cell_type": "code",
   "execution_count": 495,
   "id": "8a9aa47a",
   "metadata": {},
   "outputs": [
    {
     "data": {
      "text/plain": [
       "(17974, 17974)"
      ]
     },
     "execution_count": 495,
     "metadata": {},
     "output_type": "execute_result"
    }
   ],
   "source": [
    "row_ID(lab_slope_wide)"
   ]
  },
  {
   "cell_type": "code",
   "execution_count": 496,
   "id": "ef27c938",
   "metadata": {},
   "outputs": [],
   "source": [
    "lab_slope_wide = (\n",
    "    lab_slope_wide\n",
    "    .append(\n",
    "        pd.Series(train_IDs)[~pd.Series(train_IDs).isin(lab_slope_wide['PatientID'])].to_frame(name = 'PatientID'),\n",
    "        sort = False)\n",
    ")"
   ]
  },
  {
   "cell_type": "code",
   "execution_count": 497,
   "id": "7aa3a5d4",
   "metadata": {},
   "outputs": [],
   "source": [
    "# Create missing variables for lab slope. \n",
    "for x in range (1, len(lab_slope_wide.columns)):\n",
    "    lab_slope_wide.loc[:, lab_slope_wide.columns[x]+'_na'] = np.where(lab_slope_wide[lab_slope_wide.columns[x]].isna(), 1, 0)"
   ]
  },
  {
   "cell_type": "code",
   "execution_count": 498,
   "id": "173eb3ef",
   "metadata": {},
   "outputs": [
    {
     "data": {
      "text/plain": [
       "(25341, 25341)"
      ]
     },
     "execution_count": 498,
     "metadata": {},
     "output_type": "execute_result"
    }
   ],
   "source": [
    "row_ID(lab_slope_wide)"
   ]
  },
  {
   "cell_type": "markdown",
   "id": "b48c404a",
   "metadata": {},
   "source": [
    "#### Merge"
   ]
  },
  {
   "cell_type": "code",
   "execution_count": 499,
   "id": "09a986b3",
   "metadata": {},
   "outputs": [],
   "source": [
    "lab_wide = pd.merge(lab_diag_wide, lab_summary_wide, on = 'PatientID')"
   ]
  },
  {
   "cell_type": "code",
   "execution_count": 500,
   "id": "2bb107d7",
   "metadata": {},
   "outputs": [],
   "source": [
    "lab_wide = pd.merge(lab_wide, lab_slope_wide, on = 'PatientID')"
   ]
  },
  {
   "cell_type": "code",
   "execution_count": 501,
   "id": "65a16dd6",
   "metadata": {},
   "outputs": [
    {
     "data": {
      "text/plain": [
       "(25341, 25341)"
      ]
     },
     "execution_count": 501,
     "metadata": {},
     "output_type": "execute_result"
    }
   ],
   "source": [
    "row_ID(lab_wide)"
   ]
  },
  {
   "cell_type": "code",
   "execution_count": 502,
   "id": "b8747251",
   "metadata": {},
   "outputs": [
    {
     "data": {
      "text/plain": [
       "['PatientID',\n",
       " 'albumin_diag',\n",
       " 'alp_diag',\n",
       " 'alt_diag',\n",
       " 'ast_diag',\n",
       " 'bicarb_diag',\n",
       " 'bun_diag',\n",
       " 'calcium_diag',\n",
       " 'chloride_diag',\n",
       " 'creatinine_diag',\n",
       " 'hemoglobin_diag',\n",
       " 'neutrophil_count_diag',\n",
       " 'platelet_diag',\n",
       " 'potassium_diag',\n",
       " 'sodium_diag',\n",
       " 'total_bilirubin_diag',\n",
       " 'wbc_diag',\n",
       " 'albumin_diag_na',\n",
       " 'alp_diag_na',\n",
       " 'alt_diag_na',\n",
       " 'ast_diag_na',\n",
       " 'bicarb_diag_na',\n",
       " 'bun_diag_na',\n",
       " 'calcium_diag_na',\n",
       " 'chloride_diag_na',\n",
       " 'creatinine_diag_na',\n",
       " 'hemoglobin_diag_na',\n",
       " 'neutrophil_count_diag_na',\n",
       " 'platelet_diag_na',\n",
       " 'potassium_diag_na',\n",
       " 'sodium_diag_na',\n",
       " 'total_bilirubin_diag_na',\n",
       " 'wbc_diag_na',\n",
       " 'albumin_avg',\n",
       " 'alp_avg',\n",
       " 'alt_avg',\n",
       " 'ast_avg',\n",
       " 'bicarb_avg',\n",
       " 'bun_avg',\n",
       " 'calcium_avg',\n",
       " 'chloride_avg',\n",
       " 'creatinine_avg',\n",
       " 'hemoglobin_avg',\n",
       " 'neutrophil_count_avg',\n",
       " 'platelet_avg',\n",
       " 'potassium_avg',\n",
       " 'sodium_avg',\n",
       " 'total_bilirubin_avg',\n",
       " 'wbc_avg',\n",
       " 'albumin_max',\n",
       " 'alp_max',\n",
       " 'alt_max',\n",
       " 'ast_max',\n",
       " 'bicarb_max',\n",
       " 'bun_max',\n",
       " 'calcium_max',\n",
       " 'chloride_max',\n",
       " 'creatinine_max',\n",
       " 'hemoglobin_max',\n",
       " 'neutrophil_count_max',\n",
       " 'platelet_max',\n",
       " 'potassium_max',\n",
       " 'sodium_max',\n",
       " 'total_bilirubin_max',\n",
       " 'wbc_max',\n",
       " 'albumin_min',\n",
       " 'alp_min',\n",
       " 'alt_min',\n",
       " 'ast_min',\n",
       " 'bicarb_min',\n",
       " 'bun_min',\n",
       " 'calcium_min',\n",
       " 'chloride_min',\n",
       " 'creatinine_min',\n",
       " 'hemoglobin_min',\n",
       " 'neutrophil_count_min',\n",
       " 'platelet_min',\n",
       " 'potassium_min',\n",
       " 'sodium_min',\n",
       " 'total_bilirubin_min',\n",
       " 'wbc_min',\n",
       " 'albumin_std',\n",
       " 'alp_std',\n",
       " 'alt_std',\n",
       " 'ast_std',\n",
       " 'bicarb_std',\n",
       " 'bun_std',\n",
       " 'calcium_std',\n",
       " 'chloride_std',\n",
       " 'creatinine_std',\n",
       " 'hemoglobin_std',\n",
       " 'neutrophil_count_std',\n",
       " 'platelet_std',\n",
       " 'potassium_std',\n",
       " 'sodium_std',\n",
       " 'total_bilirubin_std',\n",
       " 'wbc_std',\n",
       " 'albumin_slope',\n",
       " 'alp_slope',\n",
       " 'alt_slope',\n",
       " 'ast_slope',\n",
       " 'bicarb_slope',\n",
       " 'bun_slope',\n",
       " 'calcium_slope',\n",
       " 'chloride_slope',\n",
       " 'creatinine_slope',\n",
       " 'hemoglobin_slope',\n",
       " 'neutrophil_count_slope',\n",
       " 'platelet_slope',\n",
       " 'potassium_slope',\n",
       " 'sodium_slope',\n",
       " 'total_bilirubin_slope',\n",
       " 'wbc_slope',\n",
       " 'albumin_slope_na',\n",
       " 'alp_slope_na',\n",
       " 'alt_slope_na',\n",
       " 'ast_slope_na',\n",
       " 'bicarb_slope_na',\n",
       " 'bun_slope_na',\n",
       " 'calcium_slope_na',\n",
       " 'chloride_slope_na',\n",
       " 'creatinine_slope_na',\n",
       " 'hemoglobin_slope_na',\n",
       " 'neutrophil_count_slope_na',\n",
       " 'platelet_slope_na',\n",
       " 'potassium_slope_na',\n",
       " 'sodium_slope_na',\n",
       " 'total_bilirubin_slope_na',\n",
       " 'wbc_slope_na']"
      ]
     },
     "execution_count": 502,
     "metadata": {},
     "output_type": "execute_result"
    }
   ],
   "source": [
    "list(lab_wide.columns)"
   ]
  },
  {
   "cell_type": "code",
   "execution_count": 503,
   "id": "e2cb453b",
   "metadata": {},
   "outputs": [
    {
     "name": "stdout",
     "output_type": "stream",
     "text": [
      "Variable              Type         Data/Info\n",
      "--------------------------------------------\n",
      "biomarker_wide        DataFrame               PatientID     <...>n[25341 rows x 7 columns]\n",
      "demographics          DataFrame               PatientID gend<...>n[25341 rows x 7 columns]\n",
      "ecog_diagnosis_wide   DataFrame                PatientID eco<...>n[25341 rows x 2 columns]\n",
      "enhanced_met          DataFrame               PatientID diag<...>n[25341 rows x 7 columns]\n",
      "insurance_wide        DataFrame               PatientID  med<...>n[25341 rows x 9 columns]\n",
      "lab                   DataFrame                  PatientID  <...>483087 rows x 18 columns]\n",
      "lab_avg_wide          DataFrame               PatientID  alb<...>[17974 rows x 17 columns]\n",
      "lab_core              DataFrame                  PatientID R<...>260479 rows x 11 columns]\n",
      "lab_core_win          DataFrame                  PatientID R<...>[583130 rows x 7 columns]\n",
      "lab_core_win_summ     DataFrame                  PatientID R<...>2519781 rows x 8 columns]\n",
      "lab_diag_wide         DataFrame               PatientID  alb<...>[25341 rows x 33 columns]\n",
      "lab_max_wide          DataFrame               PatientID  alb<...>[17974 rows x 17 columns]\n",
      "lab_min_wide          DataFrame               PatientID  alb<...>[17974 rows x 17 columns]\n",
      "lab_slope_wide        DataFrame               PatientID  alb<...>[25341 rows x 33 columns]\n",
      "lab_std_wide          DataFrame               PatientID  alb<...>[17974 rows x 17 columns]\n",
      "lab_summary_wide      DataFrame               PatientID  alb<...>[25341 rows x 65 columns]\n",
      "lab_wide              DataFrame               PatientID  alb<...>25341 rows x 129 columns]\n",
      "med_admin_wide        DataFrame               PatientID  ste<...>[25341 rows x 14 columns]\n",
      "mortality             DataFrame               PatientID  dea<...>n[25341 rows x 3 columns]\n",
      "weight_wide           DataFrame               PatientID  wei<...>n[25341 rows x 7 columns]\n"
     ]
    }
   ],
   "source": [
    "%whos DataFrame"
   ]
  },
  {
   "cell_type": "code",
   "execution_count": 504,
   "id": "6aab260d",
   "metadata": {},
   "outputs": [],
   "source": [
    "# Keep biomarker_wide, demographics, ecog_diagnosis_wide, enhanced_met, insurance_wide, lab_wide, med_admin_wide, \n",
    "# mortality, and weight_wide\n",
    "del lab\n",
    "del lab_avg_wide\n",
    "del lab_core\n",
    "del lab_core_win\n",
    "del lab_core_win_summ\n",
    "del lab_diag_wide\n",
    "del lab_max_wide\n",
    "del lab_min_wide\n",
    "del lab_slope_wide\n",
    "del lab_std_wide\n",
    "del lab_summary_wide"
   ]
  },
  {
   "cell_type": "markdown",
   "id": "228152d2",
   "metadata": {},
   "source": [
    "### 10. Diagnosis"
   ]
  },
  {
   "cell_type": "code",
   "execution_count": 505,
   "id": "1ecea66c",
   "metadata": {},
   "outputs": [],
   "source": [
    "diagnosis = pd.read_csv('Diagnosis.csv')"
   ]
  },
  {
   "cell_type": "code",
   "execution_count": 506,
   "id": "b5a46429",
   "metadata": {},
   "outputs": [],
   "source": [
    "diagnosis = diagnosis[diagnosis['PatientID'].isin(train_IDs)]"
   ]
  },
  {
   "cell_type": "code",
   "execution_count": 507,
   "id": "50340181",
   "metadata": {},
   "outputs": [
    {
     "data": {
      "text/plain": [
       "(1252825, 25341)"
      ]
     },
     "execution_count": 507,
     "metadata": {},
     "output_type": "execute_result"
    }
   ],
   "source": [
    "row_ID(diagnosis)"
   ]
  },
  {
   "cell_type": "code",
   "execution_count": 508,
   "id": "59b17ff7",
   "metadata": {},
   "outputs": [
    {
     "data": {
      "text/html": [
       "<div>\n",
       "<style scoped>\n",
       "    .dataframe tbody tr th:only-of-type {\n",
       "        vertical-align: middle;\n",
       "    }\n",
       "\n",
       "    .dataframe tbody tr th {\n",
       "        vertical-align: top;\n",
       "    }\n",
       "\n",
       "    .dataframe thead th {\n",
       "        text-align: right;\n",
       "    }\n",
       "</style>\n",
       "<table border=\"1\" class=\"dataframe\">\n",
       "  <thead>\n",
       "    <tr style=\"text-align: right;\">\n",
       "      <th></th>\n",
       "      <th>PatientID</th>\n",
       "      <th>PracticeID</th>\n",
       "      <th>DiagnosisDate</th>\n",
       "      <th>DiagnosisCode</th>\n",
       "      <th>DiagnosisCodeSystem</th>\n",
       "      <th>DiagnosisDescription</th>\n",
       "    </tr>\n",
       "  </thead>\n",
       "  <tbody>\n",
       "    <tr>\n",
       "      <th>597701</th>\n",
       "      <td>FC243DDFF4B8D</td>\n",
       "      <td>SCC8EE4FB66C3</td>\n",
       "      <td>2014-02-03</td>\n",
       "      <td>174.9</td>\n",
       "      <td>ICD-9-CM</td>\n",
       "      <td>Malignant neoplasm of breast (female), unspeci...</td>\n",
       "    </tr>\n",
       "    <tr>\n",
       "      <th>1032112</th>\n",
       "      <td>F986F237AAF5F</td>\n",
       "      <td>S507DCE5DD8C6</td>\n",
       "      <td>2017-06-06</td>\n",
       "      <td>Y92.099</td>\n",
       "      <td>ICD-10-CM</td>\n",
       "      <td>Unspecified place in other non-institutional r...</td>\n",
       "    </tr>\n",
       "    <tr>\n",
       "      <th>622561</th>\n",
       "      <td>FFB0ABF98AEC2</td>\n",
       "      <td>SCC8EE4FB66C3</td>\n",
       "      <td>2014-05-30</td>\n",
       "      <td>197.7</td>\n",
       "      <td>ICD-9-CM</td>\n",
       "      <td>Malignant neoplasm of liver, secondary</td>\n",
       "    </tr>\n",
       "    <tr>\n",
       "      <th>43297</th>\n",
       "      <td>F813D6520896E</td>\n",
       "      <td>S0015D5ED587A</td>\n",
       "      <td>2009-07-08</td>\n",
       "      <td>585.9</td>\n",
       "      <td>ICD-9-CM</td>\n",
       "      <td>Chronic kidney disease, unspecified</td>\n",
       "    </tr>\n",
       "    <tr>\n",
       "      <th>490278</th>\n",
       "      <td>FF7F677ADA9B1</td>\n",
       "      <td>SCC8EE4FB66C3</td>\n",
       "      <td>2018-04-17</td>\n",
       "      <td>C50.111</td>\n",
       "      <td>ICD-10-CM</td>\n",
       "      <td>Malignant neoplasm of central portion of right...</td>\n",
       "    </tr>\n",
       "  </tbody>\n",
       "</table>\n",
       "</div>"
      ],
      "text/plain": [
       "             PatientID     PracticeID DiagnosisDate DiagnosisCode  \\\n",
       "597701   FC243DDFF4B8D  SCC8EE4FB66C3    2014-02-03         174.9   \n",
       "1032112  F986F237AAF5F  S507DCE5DD8C6    2017-06-06       Y92.099   \n",
       "622561   FFB0ABF98AEC2  SCC8EE4FB66C3    2014-05-30         197.7   \n",
       "43297    F813D6520896E  S0015D5ED587A    2009-07-08         585.9   \n",
       "490278   FF7F677ADA9B1  SCC8EE4FB66C3    2018-04-17       C50.111   \n",
       "\n",
       "        DiagnosisCodeSystem                               DiagnosisDescription  \n",
       "597701             ICD-9-CM  Malignant neoplasm of breast (female), unspeci...  \n",
       "1032112           ICD-10-CM  Unspecified place in other non-institutional r...  \n",
       "622561             ICD-9-CM             Malignant neoplasm of liver, secondary  \n",
       "43297              ICD-9-CM                Chronic kidney disease, unspecified  \n",
       "490278            ICD-10-CM  Malignant neoplasm of central portion of right...  "
      ]
     },
     "execution_count": 508,
     "metadata": {},
     "output_type": "execute_result"
    }
   ],
   "source": [
    "diagnosis.sample(5)"
   ]
  },
  {
   "cell_type": "code",
   "execution_count": 509,
   "id": "1de313ea",
   "metadata": {},
   "outputs": [
    {
     "data": {
      "text/plain": [
       "count    25341.000000\n",
       "mean        49.438657\n",
       "std        162.121594\n",
       "min          1.000000\n",
       "25%          5.000000\n",
       "50%          9.000000\n",
       "75%         20.000000\n",
       "max       2721.000000\n",
       "Name: DiagnosisCode, dtype: float64"
      ]
     },
     "execution_count": 509,
     "metadata": {},
     "output_type": "execute_result"
    }
   ],
   "source": [
    "(\n",
    "    diagnosis\n",
    "    .groupby('PatientID')['DiagnosisCode'].count()\n",
    "    .describe()\n",
    ")"
   ]
  },
  {
   "cell_type": "code",
   "execution_count": 510,
   "id": "0a2f9c05",
   "metadata": {},
   "outputs": [
    {
     "data": {
      "text/plain": [
       "13847"
      ]
     },
     "execution_count": 510,
     "metadata": {},
     "output_type": "execute_result"
    }
   ],
   "source": [
    "diagnosis['DiagnosisCode'].nunique()"
   ]
  },
  {
   "cell_type": "markdown",
   "id": "56a3e5bd",
   "metadata": {},
   "source": [
    "**The Diagnosis table is in long format and has close to 14,000 unique ICD 9 and 10 codes. The median number of ICD codes per patient is 9 with a standard deviation of about 160 which shows the high varaibility in number of ICD codes per patent.** \n",
    "\n",
    "**ICD codes before metatstatic diagnosis and up to 30 days past diagnosis will be mapped to the Elixhauser comorbidity index. (\"Coding Algorithms for Defining Comorbidities in ICD-9-CM and ICD-10 Administrative Data\" by Quan et al is used as a guide for linking ICD codes to Elixhauser comorbidities.) Presence of concurrent or prior cancer diagnosis that is not lung cancer or metastasis and sites of metastases at time of diagnosis will also be created.** "
   ]
  },
  {
   "cell_type": "markdown",
   "id": "5efd1c34",
   "metadata": {},
   "source": [
    "#### Elixhauser"
   ]
  },
  {
   "cell_type": "code",
   "execution_count": 511,
   "id": "8c692361",
   "metadata": {},
   "outputs": [],
   "source": [
    "diagnosis = pd.merge(diagnosis, enhanced_met[['PatientID', 'met_date']], on = 'PatientID', how = 'left')"
   ]
  },
  {
   "cell_type": "code",
   "execution_count": 512,
   "id": "a244544d",
   "metadata": {},
   "outputs": [],
   "source": [
    "diagnosis.loc[:, 'DiagnosisDate'] = pd.to_datetime(diagnosis['DiagnosisDate'])"
   ]
  },
  {
   "cell_type": "code",
   "execution_count": 513,
   "id": "c8ed9c86",
   "metadata": {},
   "outputs": [],
   "source": [
    "diagnosis.loc[:, 'diagnosis_date_diff'] = (diagnosis['DiagnosisDate'] - diagnosis['met_date']).dt.days"
   ]
  },
  {
   "cell_type": "code",
   "execution_count": 514,
   "id": "82c424eb",
   "metadata": {},
   "outputs": [],
   "source": [
    "# Remove decimal to make mapping to Elixhauser easier. \n",
    "diagnosis.loc[:, 'diagnosis_code'] = diagnosis['DiagnosisCode'].replace('\\.', '', regex = True)"
   ]
  },
  {
   "cell_type": "markdown",
   "id": "30188b54",
   "metadata": {},
   "source": [
    "##### Elixhauser for ICD-9"
   ]
  },
  {
   "cell_type": "code",
   "execution_count": 515,
   "id": "700ff050",
   "metadata": {},
   "outputs": [],
   "source": [
    "# ICD-9 dataframe with unique codes for each patient. \n",
    "diagnosis_elix_9 = (\n",
    "    diagnosis\n",
    "    .query('diagnosis_date_diff <= 30')\n",
    "    .query('DiagnosisCodeSystem == \"ICD-9-CM\"')\n",
    "    .drop_duplicates(subset = (['PatientID', 'DiagnosisCode']), keep = 'first')\n",
    "    .filter(items = ['PatientID', 'DiagnosisCode', 'diagnosis_code'])\n",
    ")"
   ]
  },
  {
   "cell_type": "code",
   "execution_count": 516,
   "id": "0ed40ebb",
   "metadata": {},
   "outputs": [
    {
     "data": {
      "text/plain": [
       "(90009, 13746)"
      ]
     },
     "execution_count": 516,
     "metadata": {},
     "output_type": "execute_result"
    }
   ],
   "source": [
    "row_ID(diagnosis_elix_9)"
   ]
  },
  {
   "cell_type": "code",
   "execution_count": 517,
   "id": "ec4ba72b",
   "metadata": {},
   "outputs": [],
   "source": [
    "diagnosis_elix_9.loc[:, 'chf'] = (\n",
    "    np.where(diagnosis_elix_9['diagnosis_code'].str.match('39891|'\n",
    "                                                          '402(01|11|91)|'\n",
    "                                                          '404(01|03|[19][13])|'\n",
    "                                                          '42(5[456789]|8)'), 1, 0)\n",
    ")"
   ]
  },
  {
   "cell_type": "code",
   "execution_count": 518,
   "id": "b5bd003a",
   "metadata": {},
   "outputs": [],
   "source": [
    "diagnosis_elix_9.loc[:, 'cardiac_arrhythmias'] = (\n",
    "    np.where(diagnosis_elix_9['diagnosis_code'].str.match('426([079]|1[023])|'\n",
    "                                                          '427[012346789]|'\n",
    "                                                          '7850|'\n",
    "                                                          '996(01|04)|'\n",
    "                                                          'V450|'\n",
    "                                                          'V533'), 1, 0)\n",
    ")"
   ]
  },
  {
   "cell_type": "code",
   "execution_count": 519,
   "id": "3751edca",
   "metadata": {},
   "outputs": [],
   "source": [
    "diagnosis_elix_9.loc[:, 'valvular_disease'] = (\n",
    "    np.where(diagnosis_elix_9['diagnosis_code'].str.match('0932|'\n",
    "                                                          '39[4567]|'\n",
    "                                                          '424|'\n",
    "                                                          '746[3456]|'\n",
    "                                                          'V422|'\n",
    "                                                          'V433'), 1, 0)\n",
    ")"
   ]
  },
  {
   "cell_type": "code",
   "execution_count": 520,
   "id": "8972114c",
   "metadata": {},
   "outputs": [],
   "source": [
    "diagnosis_elix_9.loc[:, 'pulmonary_circulation'] = (\n",
    "    np.where(diagnosis_elix_9['diagnosis_code'].str.match('41(5[01]|6|7[089])'), 1, 0)\n",
    ")"
   ]
  },
  {
   "cell_type": "code",
   "execution_count": 521,
   "id": "fc88bc16",
   "metadata": {},
   "outputs": [],
   "source": [
    "diagnosis_elix_9.loc[:, 'peripheral_vascular'] = (\n",
    "    np.where(diagnosis_elix_9['diagnosis_code'].str.match('0930|'\n",
    "                                                          '4373|'\n",
    "                                                          '44([01]|3[123456789]|71)|'\n",
    "                                                          '557[19]|'\n",
    "                                                          'V434'), 1, 0)\n",
    ")"
   ]
  },
  {
   "cell_type": "code",
   "execution_count": 522,
   "id": "7f71224e",
   "metadata": {},
   "outputs": [],
   "source": [
    "diagnosis_elix_9.loc[:, 'htn_uncomplicated'] = (\n",
    "    np.where(diagnosis_elix_9['diagnosis_code'].str.match('401'), 1, 0)\n",
    ")"
   ]
  },
  {
   "cell_type": "code",
   "execution_count": 523,
   "id": "bf25c4f8",
   "metadata": {},
   "outputs": [],
   "source": [
    "diagnosis_elix_9.loc[:, 'htn_complicated'] = (\n",
    "    np.where(diagnosis_elix_9['diagnosis_code'].str.match('40[2345]'), 1, 0)\n",
    ")"
   ]
  },
  {
   "cell_type": "code",
   "execution_count": 524,
   "id": "47215bd2",
   "metadata": {},
   "outputs": [],
   "source": [
    "diagnosis_elix_9.loc[:, 'paralysis'] = (\n",
    "    np.where(diagnosis_elix_9['diagnosis_code'].str.match('3341|'\n",
    "                                                          '34([23]|4[01234569])'), 1, 0)\n",
    ")"
   ]
  },
  {
   "cell_type": "code",
   "execution_count": 525,
   "id": "eab45579",
   "metadata": {},
   "outputs": [],
   "source": [
    "diagnosis_elix_9.loc[:, 'other_neuro_disorders'] = (\n",
    "    np.where(diagnosis_elix_9['diagnosis_code'].str.match('33(19|2[01]|3([45]|92)|[45]|62)|'\n",
    "                                                          '34([015]|8[13])|'\n",
    "                                                          '78[04]3'), 1, 0)\n",
    ")"
   ]
  },
  {
   "cell_type": "code",
   "execution_count": 526,
   "id": "c2d3358c",
   "metadata": {},
   "outputs": [],
   "source": [
    "diagnosis_elix_9.loc[:, 'chronic_pulmonary'] = (\n",
    "    np.where(diagnosis_elix_9['diagnosis_code'].str.match('416[89]|'\n",
    "                                                          '49|'\n",
    "                                                          '50([012345]|64|8[18])'), 1, 0)\n",
    ")"
   ]
  },
  {
   "cell_type": "code",
   "execution_count": 527,
   "id": "57af8ecb",
   "metadata": {},
   "outputs": [],
   "source": [
    "diagnosis_elix_9.loc[:, 'diabetes_uncomplicated'] = (\n",
    "    np.where(diagnosis_elix_9['diagnosis_code'].str.match('250[0123]'), 1, 0)\n",
    ")"
   ]
  },
  {
   "cell_type": "code",
   "execution_count": 528,
   "id": "2e30beca",
   "metadata": {},
   "outputs": [],
   "source": [
    "diagnosis_elix_9.loc[:, 'diabetes_complicated'] = (\n",
    "    np.where(diagnosis_elix_9['diagnosis_code'].str.match('250[456789]'), 1, 0)\n",
    ")"
   ]
  },
  {
   "cell_type": "code",
   "execution_count": 529,
   "id": "696f501a",
   "metadata": {},
   "outputs": [],
   "source": [
    "diagnosis_elix_9.loc[:, 'hypothyroidism'] = (\n",
    "    np.where(diagnosis_elix_9['diagnosis_code'].str.match('2409|'\n",
    "                                                          '24([34]|6[18])'), 1, 0)\n",
    ")"
   ]
  },
  {
   "cell_type": "code",
   "execution_count": 530,
   "id": "7db9da5e",
   "metadata": {},
   "outputs": [],
   "source": [
    "diagnosis_elix_9.loc[:, 'renal_failure'] = (\n",
    "    np.where(diagnosis_elix_9['diagnosis_code'].str.match('403[019]1|'\n",
    "                                                          '404[019][23]|'\n",
    "                                                          '58([56]|80)|'\n",
    "                                                          'V4(20|51)|'\n",
    "                                                          'V56'), 1, 0)\n",
    ")"
   ]
  },
  {
   "cell_type": "code",
   "execution_count": 531,
   "id": "4c6be7e3",
   "metadata": {},
   "outputs": [],
   "source": [
    "diagnosis_elix_9.loc[:, 'liver_disease'] = (\n",
    "    np.where(diagnosis_elix_9['diagnosis_code'].str.match('070(2[23]]|3[23]|44|54|6|9)|'\n",
    "                                                          '456[012]|'\n",
    "                                                          '57([01]|2[2345678]|3[3489])|'\n",
    "                                                          'V427'), 1, 0)\n",
    ")"
   ]
  },
  {
   "cell_type": "code",
   "execution_count": 532,
   "id": "c75bb3a1",
   "metadata": {},
   "outputs": [],
   "source": [
    "diagnosis_elix_9.loc[:, 'peptic_ulcer_disease'] = (\n",
    "    np.where(diagnosis_elix_9['diagnosis_code'].str.match('53[1234][79]'), 1, 0)\n",
    ")"
   ]
  },
  {
   "cell_type": "code",
   "execution_count": 533,
   "id": "6c902267",
   "metadata": {},
   "outputs": [],
   "source": [
    "diagnosis_elix_9.loc[:, 'aids_hiv'] = (\n",
    "    np.where(diagnosis_elix_9['diagnosis_code'].str.match('04[234]'), 1, 0)\n",
    ")"
   ]
  },
  {
   "cell_type": "code",
   "execution_count": 534,
   "id": "6bb1ed3b",
   "metadata": {},
   "outputs": [],
   "source": [
    "diagnosis_elix_9.loc[:, 'lymphoma'] = (\n",
    "    np.where(diagnosis_elix_9['diagnosis_code'].str.match('20([012]|30)|'\n",
    "                                                          '2386'), 1, 0)\n",
    ")"
   ]
  },
  {
   "cell_type": "code",
   "execution_count": 535,
   "id": "8542cba7",
   "metadata": {},
   "outputs": [],
   "source": [
    "diagnosis_elix_9.loc[:, 'metastatic_cancer'] = (\n",
    "    np.where(diagnosis_elix_9['diagnosis_code'].str.match('19[6789]'), 1, 0)\n",
    ")"
   ]
  },
  {
   "cell_type": "code",
   "execution_count": 536,
   "id": "906748ea",
   "metadata": {},
   "outputs": [],
   "source": [
    "diagnosis_elix_9.loc[:, 'solid_tumor_wout_mets'] = (\n",
    "    np.where(diagnosis_elix_9['diagnosis_code'].str.match('1[456]|'\n",
    "                                                          '17[012456789]|'\n",
    "                                                          '18|'\n",
    "                                                          '19([012345])'), 1, 0)\n",
    ")"
   ]
  },
  {
   "cell_type": "code",
   "execution_count": 537,
   "id": "d88b320e",
   "metadata": {},
   "outputs": [],
   "source": [
    "diagnosis_elix_9.loc[:, 'rheumatoid_arthritis'] = (\n",
    "    np.where(diagnosis_elix_9['diagnosis_code'].str.match('446|'\n",
    "                                                          '7010|'\n",
    "                                                          '71(0[0123489]|12|4|93)|'\n",
    "                                                          '72([05]|85|889|930)'), 1, 0)\n",
    ")"
   ]
  },
  {
   "cell_type": "code",
   "execution_count": 538,
   "id": "8b4b9ca2",
   "metadata": {},
   "outputs": [],
   "source": [
    "diagnosis_elix_9.loc[:, 'coagulopathy'] = (\n",
    "    np.where(diagnosis_elix_9['diagnosis_code'].str.match('28(6|7[1345])'), 1, 0)\n",
    ")"
   ]
  },
  {
   "cell_type": "code",
   "execution_count": 539,
   "id": "7cb0a485",
   "metadata": {},
   "outputs": [],
   "source": [
    "diagnosis_elix_9.loc[:, 'obesity'] = (\n",
    "    np.where(diagnosis_elix_9['diagnosis_code'].str.match('2780'), 1, 0)\n",
    ")"
   ]
  },
  {
   "cell_type": "code",
   "execution_count": 540,
   "id": "435e6c18",
   "metadata": {},
   "outputs": [],
   "source": [
    "diagnosis_elix_9.loc[:, 'weight_loss'] = (\n",
    "    np.where(diagnosis_elix_9['diagnosis_code'].str.match('26[0123]|'\n",
    "                                                          '7832|'\n",
    "                                                          '7994'), 1, 0)\n",
    ")"
   ]
  },
  {
   "cell_type": "code",
   "execution_count": 541,
   "id": "ccc02628",
   "metadata": {},
   "outputs": [],
   "source": [
    "diagnosis_elix_9.loc[:, 'fluid_electrolyte'] = (\n",
    "    np.where(diagnosis_elix_9['diagnosis_code'].str.match('2(536|76)'), 1, 0)\n",
    ")"
   ]
  },
  {
   "cell_type": "code",
   "execution_count": 542,
   "id": "2c390c68",
   "metadata": {},
   "outputs": [],
   "source": [
    "diagnosis_elix_9.loc[:, 'blood_loss_anemia'] = (\n",
    "    np.where(diagnosis_elix_9['diagnosis_code'].str.match('2800'), 1, 0)\n",
    ")"
   ]
  },
  {
   "cell_type": "code",
   "execution_count": 543,
   "id": "17065f41",
   "metadata": {},
   "outputs": [],
   "source": [
    "diagnosis_elix_9.loc[:, 'deficiency_anemia'] = (\n",
    "    np.where(diagnosis_elix_9['diagnosis_code'].str.match('28(0[123456789]|1)'), 1, 0)\n",
    ")"
   ]
  },
  {
   "cell_type": "code",
   "execution_count": 544,
   "id": "e57cdea1",
   "metadata": {},
   "outputs": [],
   "source": [
    "diagnosis_elix_9.loc[:, 'alcohol_abuse'] = (\n",
    "    np.where(diagnosis_elix_9['diagnosis_code'].str.match('2652|'\n",
    "                                                          '291[12356789]|'\n",
    "                                                          '30(3[09]|50)|'\n",
    "                                                          '3575|'\n",
    "                                                          '4255|'\n",
    "                                                          '5353|'\n",
    "                                                          '571[0123]|'\n",
    "                                                          '980|'\n",
    "                                                          'V113'), 1, 0)\n",
    ")"
   ]
  },
  {
   "cell_type": "code",
   "execution_count": 545,
   "id": "2f288a69",
   "metadata": {},
   "outputs": [],
   "source": [
    "diagnosis_elix_9.loc[:, 'drug_abuse'] = (\n",
    "    np.where(diagnosis_elix_9['diagnosis_code'].str.match('292|'\n",
    "                                                          '30(4|5[23456789])|'\n",
    "                                                          'V6542'), 1, 0)\n",
    ")"
   ]
  },
  {
   "cell_type": "code",
   "execution_count": 546,
   "id": "534b07f4",
   "metadata": {},
   "outputs": [],
   "source": [
    "diagnosis_elix_9.loc[:, 'psychoses'] = (\n",
    "    np.where(diagnosis_elix_9['diagnosis_code'].str.match('2938|'\n",
    "                                                          '296[0145]4|'\n",
    "                                                          '29[578]'), 1, 0)\n",
    ")"
   ]
  },
  {
   "cell_type": "code",
   "execution_count": 547,
   "id": "0aa0bd4e",
   "metadata": {},
   "outputs": [],
   "source": [
    "diagnosis_elix_9.loc[:, 'depression'] = (\n",
    "    np.where(diagnosis_elix_9['diagnosis_code'].str.match('296[235]|'\n",
    "                                                          '3(004|09|11)'), 1, 0)\n",
    ")"
   ]
  },
  {
   "cell_type": "code",
   "execution_count": 548,
   "id": "fc6a2851",
   "metadata": {},
   "outputs": [],
   "source": [
    "# Create variable that captures ICD-9 codes not included in Elixhauser. \n",
    "diagnosis_elix_9.loc[:, 'elixhauser_other'] = (\n",
    "    np.where(diagnosis_elix_9.iloc[:, 3:].eq(0).all(1), 1, 0)\n",
    ")"
   ]
  },
  {
   "cell_type": "code",
   "execution_count": 549,
   "id": "2fdc6b99",
   "metadata": {},
   "outputs": [
    {
     "data": {
      "text/plain": [
       "0.6721661167216612"
      ]
     },
     "execution_count": 549,
     "metadata": {},
     "output_type": "execute_result"
    }
   ],
   "source": [
    "# Percentage of ICD-9 codes not captured by Elixhauser.\n",
    "diagnosis_elix_9['elixhauser_other'].sum()/len(diagnosis_elix_9)"
   ]
  },
  {
   "cell_type": "code",
   "execution_count": 550,
   "id": "30a7286c",
   "metadata": {},
   "outputs": [],
   "source": [
    "# Single-row-per-patient dataframe with columns as Elixhauser comorbidities. \n",
    "diagnosis_elix_9_wide = (\n",
    "    diagnosis_elix_9\n",
    "    .drop(columns = ['DiagnosisCode', 'diagnosis_code'])\n",
    "    .groupby('PatientID').sum()\n",
    "    .reset_index()\n",
    ")"
   ]
  },
  {
   "cell_type": "code",
   "execution_count": 551,
   "id": "3e357910",
   "metadata": {},
   "outputs": [
    {
     "data": {
      "text/plain": [
       "(13746, 13746)"
      ]
     },
     "execution_count": 551,
     "metadata": {},
     "output_type": "execute_result"
    }
   ],
   "source": [
    "row_ID(diagnosis_elix_9_wide)"
   ]
  },
  {
   "cell_type": "markdown",
   "id": "ff3ad545",
   "metadata": {},
   "source": [
    "##### Elixhauser for ICD-10"
   ]
  },
  {
   "cell_type": "code",
   "execution_count": 552,
   "id": "ebb817a5",
   "metadata": {},
   "outputs": [],
   "source": [
    "# ICD-10 dataframe with unique codes for each patient.  \n",
    "diagnosis_elix_10 = (\n",
    "    diagnosis\n",
    "    .query('diagnosis_date_diff <= 30')\n",
    "    .query('DiagnosisCodeSystem == \"ICD-10-CM\"')\n",
    "    .drop_duplicates(subset = (['PatientID', 'DiagnosisCode']), keep = 'first')\n",
    "    .filter(items = ['PatientID', 'DiagnosisCode', 'diagnosis_code'])\n",
    ")"
   ]
  },
  {
   "cell_type": "code",
   "execution_count": 553,
   "id": "1c9ec5b6",
   "metadata": {},
   "outputs": [
    {
     "data": {
      "text/plain": [
       "(134520, 14181)"
      ]
     },
     "execution_count": 553,
     "metadata": {},
     "output_type": "execute_result"
    }
   ],
   "source": [
    "row_ID(diagnosis_elix_10)"
   ]
  },
  {
   "cell_type": "code",
   "execution_count": 554,
   "id": "5a2e2b3f",
   "metadata": {},
   "outputs": [],
   "source": [
    "diagnosis_elix_10.loc[:, 'chf'] = (\n",
    "    np.where(diagnosis_elix_10['diagnosis_code'].str.match('I099|'\n",
    "                                                           'I1(10|3[02])|'\n",
    "                                                           'I255|'\n",
    "                                                           'I4(2[056789]|3)|'\n",
    "                                                           'I50|'\n",
    "                                                           'P290'), 1, 0)\n",
    ")"
   ]
  },
  {
   "cell_type": "code",
   "execution_count": 555,
   "id": "55ceec44",
   "metadata": {},
   "outputs": [],
   "source": [
    "diagnosis_elix_10.loc[:, 'cardiac_arrhythmias'] = (\n",
    "    np.where(diagnosis_elix_10['diagnosis_code'].str.match('I4(4[123]|5[69]|[789])|'\n",
    "                                                           'R00[018]|'\n",
    "                                                           'T821|'\n",
    "                                                           'Z[49]50'), 1, 0)\n",
    ")"
   ]
  },
  {
   "cell_type": "code",
   "execution_count": 556,
   "id": "9586b1c1",
   "metadata": {},
   "outputs": [],
   "source": [
    "diagnosis_elix_10.loc[:, 'valvular_disease'] = (\n",
    "    np.where(diagnosis_elix_10['diagnosis_code'].str.match('A520|'\n",
    "                                                           'I0([5678]|9[18])|'\n",
    "                                                           'I3[456789]|'\n",
    "                                                           'Q23[0123]|'\n",
    "                                                           'Z95[234]'), 1, 0)\n",
    ")"
   ]
  },
  {
   "cell_type": "code",
   "execution_count": 557,
   "id": "5a9c0aa1",
   "metadata": {},
   "outputs": [],
   "source": [
    "diagnosis_elix_10.loc[:, 'pulmonary_circulation'] = (\n",
    "    np.where(diagnosis_elix_10['diagnosis_code'].str.match('I2([67]|8[089])'), 1, 0)\n",
    ")"
   ]
  },
  {
   "cell_type": "code",
   "execution_count": 558,
   "id": "e42eacf3",
   "metadata": {},
   "outputs": [],
   "source": [
    "diagnosis_elix_10.loc[:, 'peripheral_vascular'] = (\n",
    "    np.where(diagnosis_elix_10['diagnosis_code'].str.match('I7([01]|3[189]|71|9[02])|'\n",
    "                                                           'K55[189]|'\n",
    "                                                           'Z95[89]'), 1, 0)\n",
    ")"
   ]
  },
  {
   "cell_type": "code",
   "execution_count": 559,
   "id": "766626ba",
   "metadata": {},
   "outputs": [],
   "source": [
    "diagnosis_elix_10.loc[:, 'htn_uncomplicated'] = (\n",
    "    np.where(diagnosis_elix_10['diagnosis_code'].str.match('I10'), 1, 0)\n",
    ")"
   ]
  },
  {
   "cell_type": "code",
   "execution_count": 560,
   "id": "9e73b287",
   "metadata": {},
   "outputs": [],
   "source": [
    "diagnosis_elix_10.loc[:, 'htn_complicated'] = (\n",
    "    np.where(diagnosis_elix_10['diagnosis_code'].str.match('I1[1235]'), 1, 0)\n",
    ")"
   ]
  },
  {
   "cell_type": "code",
   "execution_count": 561,
   "id": "fe0dedec",
   "metadata": {},
   "outputs": [],
   "source": [
    "diagnosis_elix_10.loc[:, 'paralysis'] = (\n",
    "    np.where(diagnosis_elix_10['diagnosis_code'].str.match('G041|'\n",
    "                                                           'G114|'\n",
    "                                                           'G8(0[12]|[12]|3[012349])'), 1, 0)\n",
    ")"
   ]
  },
  {
   "cell_type": "code",
   "execution_count": 562,
   "id": "54e24036",
   "metadata": {},
   "outputs": [],
   "source": [
    "diagnosis_elix_10.loc[:, 'other_neuro_disorders'] = (\n",
    "    np.where(diagnosis_elix_10['diagnosis_code'].str.match('G1[0123]|'\n",
    "                                                           'G2([012]|5[45])|'\n",
    "                                                           'G3(1[289]|[2567])|'\n",
    "                                                           'G4[01]|'\n",
    "                                                           'G93[14]|'\n",
    "                                                           'R470|'\n",
    "                                                           'R56'), 1, 0)\n",
    ")"
   ]
  },
  {
   "cell_type": "code",
   "execution_count": 563,
   "id": "d709ff08",
   "metadata": {},
   "outputs": [],
   "source": [
    "diagnosis_elix_10.loc[:, 'chronic_pulmonary'] = (\n",
    "    np.where(diagnosis_elix_10['diagnosis_code'].str.match('I27[89]|'\n",
    "                                                           'J4[01234567]|'\n",
    "                                                           'J6([01234567]|84)|'\n",
    "                                                           'J70[13]'), 1, 0)\n",
    ")"
   ]
  },
  {
   "cell_type": "code",
   "execution_count": 564,
   "id": "e3d1c60f",
   "metadata": {},
   "outputs": [],
   "source": [
    "diagnosis_elix_10.loc[:, 'diabetes_uncomplicated'] = (\n",
    "    np.where(diagnosis_elix_10['diagnosis_code'].str.match('E1[01234][019]'), 1, 0)\n",
    ")"
   ]
  },
  {
   "cell_type": "code",
   "execution_count": 565,
   "id": "3ce66857",
   "metadata": {},
   "outputs": [],
   "source": [
    "diagnosis_elix_10.loc[:, 'diabetes_complicated'] = (\n",
    "    np.where(diagnosis_elix_10['diagnosis_code'].str.match('E1[01234][2345678]'), 1, 0)\n",
    ")"
   ]
  },
  {
   "cell_type": "code",
   "execution_count": 566,
   "id": "aa01b40c",
   "metadata": {},
   "outputs": [],
   "source": [
    "diagnosis_elix_10.loc[:, 'hypothyroidism'] = (\n",
    "    np.where(diagnosis_elix_10['diagnosis_code'].str.match('E0[0123]|'\n",
    "                                                           'E890'), 1, 0)\n",
    ")"
   ]
  },
  {
   "cell_type": "code",
   "execution_count": 567,
   "id": "88c64e96",
   "metadata": {},
   "outputs": [],
   "source": [
    "diagnosis_elix_10.loc[:, 'renal_failure'] = (\n",
    "    np.where(diagnosis_elix_10['diagnosis_code'].str.match('I1(20|31)|'\n",
    "                                                           'N1[89]|'\n",
    "                                                           'N250|'\n",
    "                                                           'Z49[012]|'\n",
    "                                                           'Z9(40|92)'), 1, 0)\n",
    ")"
   ]
  },
  {
   "cell_type": "code",
   "execution_count": 568,
   "id": "3e487cab",
   "metadata": {},
   "outputs": [],
   "source": [
    "diagnosis_elix_10.loc[:, 'liver_disease'] = (\n",
    "    np.where(diagnosis_elix_10['diagnosis_code'].str.match('B18|'\n",
    "                                                           'I8(5|64)|'\n",
    "                                                           'I982|'\n",
    "                                                           'K7(0|1[13457]|[234]|6[023456789])|'\n",
    "                                                           'Z944'), 1, 0)\n",
    ")"
   ]
  },
  {
   "cell_type": "code",
   "execution_count": 569,
   "id": "27e873b4",
   "metadata": {},
   "outputs": [],
   "source": [
    "diagnosis_elix_10.loc[:, 'peptic_ulcer_disease'] = (\n",
    "    np.where(diagnosis_elix_10['diagnosis_code'].str.match('K2[5678][79]'), 1, 0)\n",
    ")"
   ]
  },
  {
   "cell_type": "code",
   "execution_count": 570,
   "id": "4f3478cd",
   "metadata": {},
   "outputs": [],
   "source": [
    "diagnosis_elix_10.loc[:, 'aids_hiv'] = (\n",
    "    np.where(diagnosis_elix_10['diagnosis_code'].str.match('B2[0124]'), 1, 0)\n",
    ")"
   ]
  },
  {
   "cell_type": "code",
   "execution_count": 571,
   "id": "9ca83d57",
   "metadata": {},
   "outputs": [],
   "source": [
    "diagnosis_elix_10.loc[:, 'lymphoma'] = (\n",
    "    np.where(diagnosis_elix_10['diagnosis_code'].str.match('C8[123458]|'\n",
    "                                                           'C9(0[02]|6)'), 1, 0)\n",
    ")"
   ]
  },
  {
   "cell_type": "code",
   "execution_count": 572,
   "id": "57df5fcd",
   "metadata": {},
   "outputs": [],
   "source": [
    "diagnosis_elix_10.loc[:, 'metastatic_cancer'] = (\n",
    "    np.where(diagnosis_elix_10['diagnosis_code'].str.match('C(7[789]|80)'), 1, 0)\n",
    ")"
   ]
  },
  {
   "cell_type": "code",
   "execution_count": 573,
   "id": "d0fb6243",
   "metadata": {},
   "outputs": [],
   "source": [
    "diagnosis_elix_10.loc[:, 'solid_tumor_wout_mets'] = (\n",
    "    np.where(diagnosis_elix_10['diagnosis_code'].str.match('C[01]|'\n",
    "                                                           'C2[0123456]|'\n",
    "                                                           'C3[01234789]|'\n",
    "                                                           'C4[01356789]|'\n",
    "                                                           'C5[012345678]|'\n",
    "                                                           'C6|'\n",
    "                                                           'C7[0123456]|'\n",
    "                                                           'C97'), 1, 0)\n",
    ")"
   ]
  },
  {
   "cell_type": "code",
   "execution_count": 574,
   "id": "cc8ade2e",
   "metadata": {},
   "outputs": [],
   "source": [
    "diagnosis_elix_10.loc[:, 'rheumatoid_arthritis'] = (\n",
    "    np.where(diagnosis_elix_10['diagnosis_code'].str.match('L94[013]|'\n",
    "                                                           'M0[568]|'\n",
    "                                                           'M12[03]|'\n",
    "                                                           'M3(0|1[0123]|[2345])|'\n",
    "                                                           'M4(5|6[189])'), 1, 0)\n",
    ")"
   ]
  },
  {
   "cell_type": "code",
   "execution_count": 575,
   "id": "09f976ad",
   "metadata": {},
   "outputs": [],
   "source": [
    "diagnosis_elix_10.loc[:, 'coagulopathy'] = (\n",
    "    np.where(diagnosis_elix_10['diagnosis_code'].str.match('D6([5678]|9[13456])'), 1, 0)\n",
    ")"
   ]
  },
  {
   "cell_type": "code",
   "execution_count": 576,
   "id": "2b878ce7",
   "metadata": {},
   "outputs": [],
   "source": [
    "diagnosis_elix_10.loc[:, 'obesity'] = (\n",
    "    np.where(diagnosis_elix_10['diagnosis_code'].str.match('E66'), 1, 0)\n",
    ")"
   ]
  },
  {
   "cell_type": "code",
   "execution_count": 577,
   "id": "1e7add13",
   "metadata": {},
   "outputs": [],
   "source": [
    "diagnosis_elix_10.loc[:, 'weight_loss'] = (\n",
    "    np.where(diagnosis_elix_10['diagnosis_code'].str.match('E4[0123456]|'\n",
    "                                                           'R6(34|4)'), 1, 0)\n",
    ")"
   ]
  },
  {
   "cell_type": "code",
   "execution_count": 578,
   "id": "f5828dfc",
   "metadata": {},
   "outputs": [],
   "source": [
    "diagnosis_elix_10.loc[:, 'fluid_electrolyte'] = (\n",
    "    np.where(diagnosis_elix_10['diagnosis_code'].str.match('E222|'\n",
    "                                                           'E8[67]'), 1, 0)\n",
    ")"
   ]
  },
  {
   "cell_type": "code",
   "execution_count": 579,
   "id": "e5c0ba8a",
   "metadata": {},
   "outputs": [],
   "source": [
    "diagnosis_elix_10.loc[:, 'blood_loss_anemia'] = (\n",
    "    np.where(diagnosis_elix_10['diagnosis_code'].str.match('D500'), 1, 0)\n",
    ")"
   ]
  },
  {
   "cell_type": "code",
   "execution_count": 580,
   "id": "670fe0e2",
   "metadata": {},
   "outputs": [],
   "source": [
    "diagnosis_elix_10.loc[:, 'deficiency_anemia'] = (\n",
    "    np.where(diagnosis_elix_10['diagnosis_code'].str.match('D5(0[89]|[123])'), 1, 0)\n",
    ")"
   ]
  },
  {
   "cell_type": "code",
   "execution_count": 581,
   "id": "1f170df3",
   "metadata": {},
   "outputs": [],
   "source": [
    "diagnosis_elix_10.loc[:, 'alcohol_abuse'] = (\n",
    "    np.where(diagnosis_elix_10['diagnosis_code'].str.match('F10|'\n",
    "                                                           'E52|'\n",
    "                                                           'G621|'\n",
    "                                                           'I426|'\n",
    "                                                           'K292|'\n",
    "                                                           'K70[039]|'\n",
    "                                                           'T51|'\n",
    "                                                           'Z502|'\n",
    "                                                           'Z7(14|21)'), 1, 0)\n",
    ")"
   ]
  },
  {
   "cell_type": "code",
   "execution_count": 582,
   "id": "59ee4eb0",
   "metadata": {},
   "outputs": [],
   "source": [
    "diagnosis_elix_10.loc[:, 'drug_abuse'] = (\n",
    "    np.where(diagnosis_elix_10['diagnosis_code'].str.match('F1[12345689]|'\n",
    "                                                           'Z7(15|22)'), 1, 0)\n",
    ")"
   ]
  },
  {
   "cell_type": "code",
   "execution_count": 583,
   "id": "d837816a",
   "metadata": {},
   "outputs": [],
   "source": [
    "diagnosis_elix_10.loc[:, 'psychoses'] = (\n",
    "    np.where(diagnosis_elix_10['diagnosis_code'].str.match('F2[0234589]|'\n",
    "                                                           'F3([01]2|15)'), 1, 0)\n",
    ")"
   ]
  },
  {
   "cell_type": "code",
   "execution_count": 584,
   "id": "2c843fca",
   "metadata": {},
   "outputs": [],
   "source": [
    "diagnosis_elix_10.loc[:, 'depression'] = (\n",
    "    np.where(diagnosis_elix_10['diagnosis_code'].str.match('F204|'\n",
    "                                                           'F3(1[345]|[23]|41)|'\n",
    "                                                           'F4[13]2'), 1, 0)\n",
    ")"
   ]
  },
  {
   "cell_type": "code",
   "execution_count": 585,
   "id": "dcc14f9f",
   "metadata": {},
   "outputs": [],
   "source": [
    "# Create variable that captures ICD-10 codes not included in Elixhauser. \n",
    "diagnosis_elix_10.loc[:, 'elixhauser_other'] = (\n",
    "    np.where(diagnosis_elix_10.iloc[:, 3:].eq(0).all(1), 1, 0)\n",
    ")"
   ]
  },
  {
   "cell_type": "code",
   "execution_count": 586,
   "id": "55fc550a",
   "metadata": {},
   "outputs": [
    {
     "data": {
      "text/plain": [
       "0.678419565863812"
      ]
     },
     "execution_count": 586,
     "metadata": {},
     "output_type": "execute_result"
    }
   ],
   "source": [
    "# Percenage of ICD-10 codes not captured by Elixhauser\n",
    "diagnosis_elix_10['elixhauser_other'].sum()/len(diagnosis_elix_10)"
   ]
  },
  {
   "cell_type": "code",
   "execution_count": 587,
   "id": "7b57892c",
   "metadata": {},
   "outputs": [],
   "source": [
    "diagnosis_elix_10_wide = (\n",
    "    diagnosis_elix_10\n",
    "    .drop(columns = ['DiagnosisCode', 'diagnosis_code'])\n",
    "    .groupby('PatientID').sum()\n",
    "    .reset_index()\n",
    ")"
   ]
  },
  {
   "cell_type": "code",
   "execution_count": 588,
   "id": "2d3930cc",
   "metadata": {},
   "outputs": [
    {
     "data": {
      "text/plain": [
       "(14181, 14181)"
      ]
     },
     "execution_count": 588,
     "metadata": {},
     "output_type": "execute_result"
    }
   ],
   "source": [
    "row_ID(diagnosis_elix_10_wide)"
   ]
  },
  {
   "cell_type": "code",
   "execution_count": 589,
   "id": "663f2987",
   "metadata": {},
   "outputs": [],
   "source": [
    "# Merge Elixhauser 9 and 10 and sum by PatientID.\n",
    "diagnosis_elixhauser = (\n",
    "    pd.concat([diagnosis_elix_9_wide, diagnosis_elix_10_wide])\n",
    "    .groupby('PatientID').sum()\n",
    ")"
   ]
  },
  {
   "cell_type": "code",
   "execution_count": 590,
   "id": "e9df9986",
   "metadata": {},
   "outputs": [],
   "source": [
    "# Create unqiue ICD count for each patient. \n",
    "diagnosis_elixhauser['icd_count'] = diagnosis_elixhauser.sum(axis = 1)  "
   ]
  },
  {
   "cell_type": "code",
   "execution_count": 591,
   "id": "b8b64d8b",
   "metadata": {},
   "outputs": [],
   "source": [
    "# Other than unique ICD count, values greater than 1 are set to 1; 0 remains unchanged. \n",
    "diagnosis_elixhauser.iloc[:, :-1] = (\n",
    "    diagnosis_elixhauser.iloc[:, :-1].mask(diagnosis_elixhauser.iloc[:, :-1] >1, 1)\n",
    ")"
   ]
  },
  {
   "cell_type": "code",
   "execution_count": 592,
   "id": "eb8bcc8d",
   "metadata": {},
   "outputs": [],
   "source": [
    "diagnosis_elixhauser = diagnosis_elixhauser.reset_index()"
   ]
  },
  {
   "cell_type": "code",
   "execution_count": 593,
   "id": "d85a3e0f",
   "metadata": {},
   "outputs": [
    {
     "data": {
      "text/plain": [
       "(22037, 22037)"
      ]
     },
     "execution_count": 593,
     "metadata": {},
     "output_type": "execute_result"
    }
   ],
   "source": [
    "row_ID(diagnosis_elixhauser)"
   ]
  },
  {
   "cell_type": "code",
   "execution_count": 594,
   "id": "0a222dad",
   "metadata": {},
   "outputs": [
    {
     "data": {
      "text/plain": [
       "Text(0.5, 1.0, 'Incidence of Elixhauser comorbidities at time of metastatic CRC')"
      ]
     },
     "execution_count": 594,
     "metadata": {},
     "output_type": "execute_result"
    },
    {
     "data": {
      "image/png": "[encoded data removed]",
      "text/plain": [
       "<Figure size 720x576 with 1 Axes>"
      ]
     },
     "metadata": {
      "needs_background": "light"
     },
     "output_type": "display_data"
    }
   ],
   "source": [
    "%matplotlib inline\n",
    "diagnosis_elixhauser.iloc[:, 1:33].sum(axis = 0).sort_values(ascending = False).plot(kind = 'bar', figsize = (10,8))\n",
    "plt.xlabel('Elixhauser comorbidities', fontsize = 16)\n",
    "plt.title('Incidence of Elixhauser comorbidities at time of metastatic CRC', fontsize = 20)"
   ]
  },
  {
   "cell_type": "code",
   "execution_count": 595,
   "id": "319d91ad",
   "metadata": {},
   "outputs": [
    {
     "data": {
      "text/plain": [
       "Text(0.5, 1.0, 'Incidence of Elixhauser comorbidities at time of metastatic CRC')"
      ]
     },
     "execution_count": 595,
     "metadata": {},
     "output_type": "execute_result"
    },
    {
     "data": {
      "image/png": "[encoded data removed]",
      "text/plain": [
       "<Figure size 720x576 with 1 Axes>"
      ]
     },
     "metadata": {
      "needs_background": "light"
     },
     "output_type": "display_data"
    }
   ],
   "source": [
    "# Same plot as above but excluding tumor and mets.\n",
    "%matplotlib inline\n",
    "diagnosis_elixhauser.iloc[:, 1:33].sum(axis = 0).sort_values(ascending = False).tail(29).plot(kind = 'bar', figsize = (10,8))\n",
    "plt.xlabel('Elixhauser comorbidities', fontsize = 16)\n",
    "plt.title('Incidence of Elixhauser comorbidities at time of metastatic CRC', fontsize = 20)"
   ]
  },
  {
   "cell_type": "code",
   "execution_count": 596,
   "id": "7aa84f85",
   "metadata": {},
   "outputs": [],
   "source": [
    "# Append missing training IDs.\n",
    "diagnosis_elixhauser = (\n",
    "    diagnosis_elixhauser\n",
    "    .append(\n",
    "        pd.Series(train_IDs)[~pd.Series(train_IDs).isin(diagnosis_elixhauser['PatientID'])].to_frame(name = 'PatientID'), \n",
    "        sort = False)\n",
    "    .fillna(0)\n",
    ")"
   ]
  },
  {
   "cell_type": "code",
   "execution_count": 597,
   "id": "3891d792",
   "metadata": {},
   "outputs": [
    {
     "data": {
      "text/plain": [
       "(25341, 25341)"
      ]
     },
     "execution_count": 597,
     "metadata": {},
     "output_type": "execute_result"
    }
   ],
   "source": [
    "row_ID(diagnosis_elixhauser)"
   ]
  },
  {
   "cell_type": "code",
   "execution_count": 598,
   "id": "6afb428b",
   "metadata": {},
   "outputs": [
    {
     "data": {
      "text/html": [
       "<div>\n",
       "<style scoped>\n",
       "    .dataframe tbody tr th:only-of-type {\n",
       "        vertical-align: middle;\n",
       "    }\n",
       "\n",
       "    .dataframe tbody tr th {\n",
       "        vertical-align: top;\n",
       "    }\n",
       "\n",
       "    .dataframe thead th {\n",
       "        text-align: right;\n",
       "    }\n",
       "</style>\n",
       "<table border=\"1\" class=\"dataframe\">\n",
       "  <thead>\n",
       "    <tr style=\"text-align: right;\">\n",
       "      <th></th>\n",
       "      <th>PatientID</th>\n",
       "      <th>chf</th>\n",
       "      <th>cardiac_arrhythmias</th>\n",
       "      <th>valvular_disease</th>\n",
       "      <th>pulmonary_circulation</th>\n",
       "      <th>peripheral_vascular</th>\n",
       "      <th>htn_uncomplicated</th>\n",
       "      <th>htn_complicated</th>\n",
       "      <th>paralysis</th>\n",
       "      <th>other_neuro_disorders</th>\n",
       "      <th>...</th>\n",
       "      <th>weight_loss</th>\n",
       "      <th>fluid_electrolyte</th>\n",
       "      <th>blood_loss_anemia</th>\n",
       "      <th>deficiency_anemia</th>\n",
       "      <th>alcohol_abuse</th>\n",
       "      <th>drug_abuse</th>\n",
       "      <th>psychoses</th>\n",
       "      <th>depression</th>\n",
       "      <th>elixhauser_other</th>\n",
       "      <th>icd_count</th>\n",
       "    </tr>\n",
       "  </thead>\n",
       "  <tbody>\n",
       "    <tr>\n",
       "      <th>5428</th>\n",
       "      <td>F3E886FE76880</td>\n",
       "      <td>0.0</td>\n",
       "      <td>0.0</td>\n",
       "      <td>0.0</td>\n",
       "      <td>0.0</td>\n",
       "      <td>0.0</td>\n",
       "      <td>0.0</td>\n",
       "      <td>0.0</td>\n",
       "      <td>0.0</td>\n",
       "      <td>0.0</td>\n",
       "      <td>...</td>\n",
       "      <td>0.0</td>\n",
       "      <td>0.0</td>\n",
       "      <td>0.0</td>\n",
       "      <td>0.0</td>\n",
       "      <td>0.0</td>\n",
       "      <td>0.0</td>\n",
       "      <td>0.0</td>\n",
       "      <td>0.0</td>\n",
       "      <td>0.0</td>\n",
       "      <td>1.0</td>\n",
       "    </tr>\n",
       "    <tr>\n",
       "      <th>14023</th>\n",
       "      <td>FA30F3FEFADF8</td>\n",
       "      <td>0.0</td>\n",
       "      <td>0.0</td>\n",
       "      <td>0.0</td>\n",
       "      <td>0.0</td>\n",
       "      <td>0.0</td>\n",
       "      <td>0.0</td>\n",
       "      <td>0.0</td>\n",
       "      <td>0.0</td>\n",
       "      <td>0.0</td>\n",
       "      <td>...</td>\n",
       "      <td>0.0</td>\n",
       "      <td>0.0</td>\n",
       "      <td>0.0</td>\n",
       "      <td>0.0</td>\n",
       "      <td>0.0</td>\n",
       "      <td>0.0</td>\n",
       "      <td>0.0</td>\n",
       "      <td>0.0</td>\n",
       "      <td>1.0</td>\n",
       "      <td>7.0</td>\n",
       "    </tr>\n",
       "    <tr>\n",
       "      <th>20430</th>\n",
       "      <td>F06B83CC7814F</td>\n",
       "      <td>0.0</td>\n",
       "      <td>0.0</td>\n",
       "      <td>0.0</td>\n",
       "      <td>0.0</td>\n",
       "      <td>0.0</td>\n",
       "      <td>0.0</td>\n",
       "      <td>0.0</td>\n",
       "      <td>0.0</td>\n",
       "      <td>0.0</td>\n",
       "      <td>...</td>\n",
       "      <td>0.0</td>\n",
       "      <td>0.0</td>\n",
       "      <td>0.0</td>\n",
       "      <td>0.0</td>\n",
       "      <td>0.0</td>\n",
       "      <td>0.0</td>\n",
       "      <td>0.0</td>\n",
       "      <td>0.0</td>\n",
       "      <td>0.0</td>\n",
       "      <td>0.0</td>\n",
       "    </tr>\n",
       "    <tr>\n",
       "      <th>2513</th>\n",
       "      <td>F1D0991198428</td>\n",
       "      <td>0.0</td>\n",
       "      <td>0.0</td>\n",
       "      <td>0.0</td>\n",
       "      <td>0.0</td>\n",
       "      <td>0.0</td>\n",
       "      <td>0.0</td>\n",
       "      <td>0.0</td>\n",
       "      <td>0.0</td>\n",
       "      <td>0.0</td>\n",
       "      <td>...</td>\n",
       "      <td>0.0</td>\n",
       "      <td>0.0</td>\n",
       "      <td>0.0</td>\n",
       "      <td>0.0</td>\n",
       "      <td>0.0</td>\n",
       "      <td>0.0</td>\n",
       "      <td>0.0</td>\n",
       "      <td>0.0</td>\n",
       "      <td>1.0</td>\n",
       "      <td>20.0</td>\n",
       "    </tr>\n",
       "    <tr>\n",
       "      <th>4432</th>\n",
       "      <td>F338016304D78</td>\n",
       "      <td>0.0</td>\n",
       "      <td>0.0</td>\n",
       "      <td>0.0</td>\n",
       "      <td>0.0</td>\n",
       "      <td>0.0</td>\n",
       "      <td>0.0</td>\n",
       "      <td>0.0</td>\n",
       "      <td>0.0</td>\n",
       "      <td>0.0</td>\n",
       "      <td>...</td>\n",
       "      <td>0.0</td>\n",
       "      <td>0.0</td>\n",
       "      <td>0.0</td>\n",
       "      <td>0.0</td>\n",
       "      <td>0.0</td>\n",
       "      <td>0.0</td>\n",
       "      <td>0.0</td>\n",
       "      <td>0.0</td>\n",
       "      <td>0.0</td>\n",
       "      <td>1.0</td>\n",
       "    </tr>\n",
       "  </tbody>\n",
       "</table>\n",
       "<p>5 rows × 34 columns</p>\n",
       "</div>"
      ],
      "text/plain": [
       "           PatientID  chf  cardiac_arrhythmias  valvular_disease  \\\n",
       "5428   F3E886FE76880  0.0                  0.0               0.0   \n",
       "14023  FA30F3FEFADF8  0.0                  0.0               0.0   \n",
       "20430  F06B83CC7814F  0.0                  0.0               0.0   \n",
       "2513   F1D0991198428  0.0                  0.0               0.0   \n",
       "4432   F338016304D78  0.0                  0.0               0.0   \n",
       "\n",
       "       pulmonary_circulation  peripheral_vascular  htn_uncomplicated  \\\n",
       "5428                     0.0                  0.0                0.0   \n",
       "14023                    0.0                  0.0                0.0   \n",
       "20430                    0.0                  0.0                0.0   \n",
       "2513                     0.0                  0.0                0.0   \n",
       "4432                     0.0                  0.0                0.0   \n",
       "\n",
       "       htn_complicated  paralysis  other_neuro_disorders  ...  weight_loss  \\\n",
       "5428               0.0        0.0                    0.0  ...          0.0   \n",
       "14023              0.0        0.0                    0.0  ...          0.0   \n",
       "20430              0.0        0.0                    0.0  ...          0.0   \n",
       "2513               0.0        0.0                    0.0  ...          0.0   \n",
       "4432               0.0        0.0                    0.0  ...          0.0   \n",
       "\n",
       "       fluid_electrolyte  blood_loss_anemia  deficiency_anemia  alcohol_abuse  \\\n",
       "5428                 0.0                0.0                0.0            0.0   \n",
       "14023                0.0                0.0                0.0            0.0   \n",
       "20430                0.0                0.0                0.0            0.0   \n",
       "2513                 0.0                0.0                0.0            0.0   \n",
       "4432                 0.0                0.0                0.0            0.0   \n",
       "\n",
       "       drug_abuse  psychoses  depression  elixhauser_other  icd_count  \n",
       "5428          0.0        0.0         0.0               0.0        1.0  \n",
       "14023         0.0        0.0         0.0               1.0        7.0  \n",
       "20430         0.0        0.0         0.0               0.0        0.0  \n",
       "2513          0.0        0.0         0.0               1.0       20.0  \n",
       "4432          0.0        0.0         0.0               0.0        1.0  \n",
       "\n",
       "[5 rows x 34 columns]"
      ]
     },
     "execution_count": 598,
     "metadata": {},
     "output_type": "execute_result"
    }
   ],
   "source": [
    "diagnosis_elixhauser.sample(5)"
   ]
  },
  {
   "cell_type": "markdown",
   "id": "6c3d3c0a",
   "metadata": {},
   "source": [
    "#### Other cancer "
   ]
  },
  {
   "cell_type": "markdown",
   "id": "aaedfa03",
   "metadata": {},
   "source": [
    "##### ICD-9 Cancer codes "
   ]
  },
  {
   "cell_type": "code",
   "execution_count": 599,
   "id": "e544a252",
   "metadata": {},
   "outputs": [],
   "source": [
    "# Select all ICD-9 cancer codes between 140-209.\n",
    "# Exclude benign neoplasms: 210-229, carcinoma in site: 230-234, and neoplasms of uncertain behavior or nature: 235-239.\n",
    "cancer_9 = (\n",
    "    diagnosis_elix_9[diagnosis_elix_9['DiagnosisCode'].str.startswith(\n",
    "        ('14','15', '16', '17', '18', '19', '20'))]\n",
    "    .filter(items = ['PatientID', 'DiagnosisCode', 'diagnosis_code'])\n",
    ")"
   ]
  },
  {
   "cell_type": "code",
   "execution_count": 600,
   "id": "620e475d",
   "metadata": {},
   "outputs": [
    {
     "data": {
      "text/plain": [
       "(20626, 12529)"
      ]
     },
     "execution_count": 600,
     "metadata": {},
     "output_type": "execute_result"
    }
   ],
   "source": [
    "row_ID(cancer_9)"
   ]
  },
  {
   "cell_type": "markdown",
   "id": "d3ee5ee4",
   "metadata": {},
   "source": [
    "**Remove the following ICD-9 codes representing colorectal cancer, metastasis, ill-defined neoplasms, and benign neoplasms of skin (BCC and SCC):**\n",
    "* **174 - Malignant neoplasm of female breast**\n",
    "* **175 - Malignant neoplasm of male breast**\n",
    "* **173 - Other and unspecified malignant neoplasm of skin**\n",
    "* **196 - Secondary and unspecified malignant neoplasm of lymph nodes**\n",
    "* **197 - Secondary malignant neoplasm of respiratory and digestive systems**\n",
    "* **198 - Secondary malignant neoplasm of other specified sites** \n",
    "* **199 - Malignant neoplasm without specification of site**"
   ]
  },
  {
   "cell_type": "code",
   "execution_count": 601,
   "id": "3e98f8e3",
   "metadata": {},
   "outputs": [
    {
     "data": {
      "text/plain": [
       "174.9    0.284485\n",
       "174.4    0.163807\n",
       "198.5    0.122613\n",
       "174.8    0.091298\n",
       "174.1    0.046438\n",
       "174.2    0.040328\n",
       "196.3    0.036713\n",
       "174.5    0.035440\n",
       "197.0    0.024849\n",
       "174.3    0.024085\n",
       "Name: DiagnosisCode, dtype: float64"
      ]
     },
     "execution_count": 601,
     "metadata": {},
     "output_type": "execute_result"
    }
   ],
   "source": [
    "# Count ICD-9 neoplasm codes that represent breast cancer or its associated metastases.\n",
    "(\n",
    "    cancer_9[cancer_9['diagnosis_code'].str.match('17([345])|'\n",
    "                                                  '19([6789])')]\n",
    "    .DiagnosisCode\n",
    "    .value_counts(normalize = True)\n",
    "    .head(10)\n",
    ")"
   ]
  },
  {
   "cell_type": "code",
   "execution_count": 602,
   "id": "e21b5fa3",
   "metadata": {},
   "outputs": [],
   "source": [
    "# Dataframe of ICD-9 neoplasm codes that exclude colorectal cancer, metastasis, or benign neoplasms.\n",
    "other_cancer_9 = (\n",
    "    cancer_9[~cancer_9['diagnosis_code'].str.match('17([345])|'\n",
    "                                                   '19([6789])')]\n",
    ")"
   ]
  },
  {
   "cell_type": "code",
   "execution_count": 603,
   "id": "c9be6ed6",
   "metadata": {},
   "outputs": [
    {
     "data": {
      "text/plain": [
       "162.9     0.057751\n",
       "193       0.050659\n",
       "183.0     0.044580\n",
       "182.0     0.041540\n",
       "153.9     0.038501\n",
       "162.3     0.032421\n",
       "204.10    0.032421\n",
       "202.80    0.026342\n",
       "172.9     0.024316\n",
       "189.0     0.023303\n",
       "Name: DiagnosisCode, dtype: float64"
      ]
     },
     "execution_count": 603,
     "metadata": {},
     "output_type": "execute_result"
    }
   ],
   "source": [
    "other_cancer_9.DiagnosisCode.value_counts(normalize = True).head(10)"
   ]
  },
  {
   "cell_type": "markdown",
   "id": "6e75de5b",
   "metadata": {},
   "source": [
    "**The top 10 ICD-9 codes at time of diagnosis that aren't breast cancer, metastasis, or benign neoplasm:**\n",
    "* **162.9 - Malignant neoplasm of bronchus and lung, unspecified**\n",
    "* **193 - Malignant neoplasm of thyroid gland**\n",
    "* **183.0 - Malignant neoplasm of ovary**\n",
    "* **182.0 - Malignant neoplasm of corpus uteri, except isthmus**\n",
    "* **153.9 - Malignant neoplasm of colon, unspecified site**\n",
    "* **162.3 - Malignant neoplasm of upper lobe, bronchus or lung**\n",
    "* **204.10 - Chronic lymphoid leukemia, without mention of having achieved remission**\n",
    "* **202.80 - Other malignant lymphomas**\n",
    "* **172.9 - Melanoma of skin, site unspecified**\n",
    "* **189.0 - Malignant neoplasm of kidney and other and unspecified urinary organs**"
   ]
  },
  {
   "cell_type": "code",
   "execution_count": 604,
   "id": "dbbf8ff4",
   "metadata": {},
   "outputs": [
    {
     "data": {
      "text/plain": [
       "162    0.124620\n",
       "153    0.104357\n",
       "172    0.075988\n",
       "202    0.064843\n",
       "193    0.050659\n",
       "182    0.047619\n",
       "183    0.046606\n",
       "204    0.042553\n",
       "195    0.040527\n",
       "189    0.030395\n",
       "Name: DiagnosisCode, dtype: float64"
      ]
     },
     "execution_count": 604,
     "metadata": {},
     "output_type": "execute_result"
    }
   ],
   "source": [
    "other_cancer_9.DiagnosisCode.str[0:3].value_counts(normalize = True).head(10)"
   ]
  },
  {
   "cell_type": "markdown",
   "id": "fbabf83c",
   "metadata": {},
   "source": [
    "**The top 10 ICD-9 family codes at time of diagnosis that aren't breast cancer, metastasis, or benign neoplasm:**\n",
    "* **162 - Malignant neoplasm of trachea bronchus and lung**\n",
    "* **153 - Malignant neoplasm of colon**\n",
    "* **172 - Malignant melanoma of skin**\n",
    "* **202 - Other malignant neoplasms of lymphoid and histiocytic tissue**\n",
    "* **193 - Malignant neoplasm of thyroid gland**\n",
    "* **182 - Malignant neoplasm of body of uterus**\n",
    "* **183 - Malignant neoplasm of ovary and other uterine adnexa**\n",
    "* **204 - Lymphoid leukemia**\n",
    "* **195 - Malignant neoplasm of other and ill-defined sites**\n",
    "* **189 - Malignant neoplasm of kidney and other and unspecified urinary organs**"
   ]
  },
  {
   "cell_type": "code",
   "execution_count": 605,
   "id": "d24a8bdc",
   "metadata": {},
   "outputs": [
    {
     "name": "stderr",
     "output_type": "stream",
     "text": [
      "/Applications/anaconda3/lib/python3.7/site-packages/pandas/core/indexing.py:1667: SettingWithCopyWarning: \n",
      "A value is trying to be set on a copy of a slice from a DataFrame.\n",
      "Try using .loc[row_indexer,col_indexer] = value instead\n",
      "\n",
      "See the caveats in the documentation: https://pandas.pydata.org/pandas-docs/stable/user_guide/indexing.html#returning-a-view-versus-a-copy\n",
      "  self.obj[key] = value\n"
     ]
    }
   ],
   "source": [
    "other_cancer_9.loc[:,'other_cancer_9'] = 1"
   ]
  },
  {
   "cell_type": "code",
   "execution_count": 606,
   "id": "b36e1f3c",
   "metadata": {},
   "outputs": [],
   "source": [
    "other_cancer_9 = (\n",
    "    other_cancer_9\n",
    "    .drop_duplicates(subset = 'PatientID', keep = 'first')\n",
    "    .filter(items = ['PatientID', 'other_cancer_9'])\n",
    ")"
   ]
  },
  {
   "cell_type": "code",
   "execution_count": 607,
   "id": "a2d86b4f",
   "metadata": {},
   "outputs": [
    {
     "data": {
      "text/plain": [
       "(793, 793)"
      ]
     },
     "execution_count": 607,
     "metadata": {},
     "output_type": "execute_result"
    }
   ],
   "source": [
    "row_ID(other_cancer_9)"
   ]
  },
  {
   "cell_type": "code",
   "execution_count": 608,
   "id": "3443e8c6",
   "metadata": {},
   "outputs": [],
   "source": [
    "other_cancer_9 = (\n",
    "    other_cancer_9\n",
    "    .append(\n",
    "        pd.Series(train_IDs)[~pd.Series(train_IDs).isin(other_cancer_9['PatientID'])].to_frame(name = 'PatientID'), \n",
    "        sort = False)\n",
    "    .fillna(0)\n",
    ")"
   ]
  },
  {
   "cell_type": "code",
   "execution_count": 609,
   "id": "ce95e6ae",
   "metadata": {},
   "outputs": [
    {
     "data": {
      "text/plain": [
       "(25341, 25341)"
      ]
     },
     "execution_count": 609,
     "metadata": {},
     "output_type": "execute_result"
    }
   ],
   "source": [
    "row_ID(other_cancer_9)"
   ]
  },
  {
   "cell_type": "markdown",
   "id": "eebf6bf3",
   "metadata": {},
   "source": [
    "##### ICD-10 Cancer codes"
   ]
  },
  {
   "cell_type": "code",
   "execution_count": 610,
   "id": "9b1bfe93",
   "metadata": {},
   "outputs": [],
   "source": [
    "# Select all ICD-10 codes between C00-D49 \n",
    "# Exclude in situ neoplasms: D00-D09, benign neoplasms: D10-D36, benign neuroendocrine tumor: D3A, and neoplasms of unspecified behavior: D37 and D49\n",
    "cancer_10 = (\n",
    "    diagnosis_elix_10[diagnosis_elix_10['DiagnosisCode'].str.startswith(\n",
    "        ('C0', 'C1', 'C2', 'C3', 'C4', 'C5', 'C6', 'C7', 'C8', 'C9', 'D38', 'D39', 'D4'))]\n",
    "    .filter(items = ['PatientID', 'DiagnosisCode', 'diagnosis_code'])\n",
    ")"
   ]
  },
  {
   "cell_type": "code",
   "execution_count": 611,
   "id": "eddf3cb8",
   "metadata": {},
   "outputs": [
    {
     "data": {
      "text/plain": [
       "(28066, 12833)"
      ]
     },
     "execution_count": 611,
     "metadata": {},
     "output_type": "execute_result"
    }
   ],
   "source": [
    "row_ID(cancer_10)"
   ]
  },
  {
   "cell_type": "markdown",
   "id": "6c185e4f",
   "metadata": {},
   "source": [
    "**Remove the following ICD-10 codes which capture breast cancer, metastasis, and benign skin neoplasms(eg., BCC and SCC).**\n",
    "* **C50 - Malignant neoplasm of breast** \n",
    "* **C44 - Other and unspecified malignant neoplasm of skin**\n",
    "* **C77 - Secondary and unspecified malignant neoplasm of lymph nodes**\n",
    "* **C78 - Secondary malignant neoplasm of respiratory and digestive organs**\n",
    "* **C79 - Secondary malignant neoplasm of other and unspecified sites**\n",
    "* **C80 - Malignant neoplasm without specification of site**\n",
    "* **D47.2 - Monoclonal gammopathy**\n",
    "* **D48 - Neoplasm of uncertain behavior of other and unspecified sites**\n",
    "* **D49 - Neoplasms of unspecified behavior** "
   ]
  },
  {
   "cell_type": "code",
   "execution_count": 612,
   "id": "a8743785",
   "metadata": {},
   "outputs": [
    {
     "data": {
      "text/plain": [
       "C79.51     0.182901\n",
       "C50.919    0.079649\n",
       "C50.412    0.059635\n",
       "C50.912    0.059413\n",
       "C50.411    0.055862\n",
       "C50.911    0.055085\n",
       "C78.7      0.044689\n",
       "C77.3      0.041878\n",
       "C50.812    0.033443\n",
       "C50.811    0.030816\n",
       "Name: DiagnosisCode, dtype: float64"
      ]
     },
     "execution_count": 612,
     "metadata": {},
     "output_type": "execute_result"
    }
   ],
   "source": [
    "# Count of top 10 ICD-10 codes that represent lung cancer or metastasis. \n",
    "(\n",
    "    cancer_10[cancer_10['diagnosis_code'].str.match('C50|'\n",
    "                                                    'C44|'\n",
    "                                                    'C7[789]|'\n",
    "                                                    'C80|'\n",
    "                                                    'D4(72|[89])')]\n",
    "    .DiagnosisCode\n",
    "    .value_counts(normalize = True)\n",
    "    .head(10)\n",
    ")"
   ]
  },
  {
   "cell_type": "code",
   "execution_count": 613,
   "id": "82691d46",
   "metadata": {},
   "outputs": [],
   "source": [
    "# Dataframe of ICD-10 neoplasm codes that exclude lung cancer, metastasis, or benign neoplasms.\n",
    "other_cancer_10 = (\n",
    "    cancer_10[~cancer_10['diagnosis_code'].str.match('C50|'\n",
    "                                                    'C44|'\n",
    "                                                    'C7[789]|'\n",
    "                                                    'C80|'\n",
    "                                                    'D4(72|[89])')]\n",
    ")"
   ]
  },
  {
   "cell_type": "code",
   "execution_count": 614,
   "id": "e750f4f8",
   "metadata": {},
   "outputs": [
    {
     "data": {
      "text/plain": [
       "C34.90    0.044444\n",
       "C73       0.039614\n",
       "D47.3     0.029952\n",
       "C54.1     0.028986\n",
       "C34.31    0.025121\n",
       "C41.9     0.023188\n",
       "C91.10    0.021256\n",
       "C90.00    0.020290\n",
       "C76.1     0.020290\n",
       "D38.1     0.017391\n",
       "Name: DiagnosisCode, dtype: float64"
      ]
     },
     "execution_count": 614,
     "metadata": {},
     "output_type": "execute_result"
    }
   ],
   "source": [
    "other_cancer_10.DiagnosisCode.value_counts(normalize = True).head(10)"
   ]
  },
  {
   "cell_type": "markdown",
   "id": "24440c3c",
   "metadata": {},
   "source": [
    "**The top 10 ICD-10 codes at time of diagnosis that aren't breast cancer, metastasis, or benign neoplasm:**\n",
    "* **C34.9 - Malignant neoplasm of unspecified part of bronchus or lung**\n",
    "* **C73 - Malignant neoplasm of thyroid gland**\n",
    "* **C47.3 - Malignant neoplasm of peripheral nerves of thorax**\n",
    "* **C54.1 - Malignant neoplasm of endometrium**\n",
    "* **C34.31 - Malignant neoplasm of lower lobe, right bronchus or lung**\n",
    "* **C41.9 - Malignant neoplasm of bone and articular cartilage, unspecified**\n",
    "* **C91.10 - Chronic lymphocytic leukemia of B-cell type not having achieved remission**\n",
    "* **C90.00 - Multiple myeloma not having achieved remission**\n",
    "* **C76.1 - Malignant neoplasm of thorax**\n",
    "* **C38.1 - Malignant neoplasm of anterior mediastinum**"
   ]
  },
  {
   "cell_type": "code",
   "execution_count": 615,
   "id": "508dd0e2",
   "metadata": {},
   "outputs": [
    {
     "data": {
      "text/plain": [
       "C34    0.165217\n",
       "C41    0.043478\n",
       "C18    0.041546\n",
       "C73    0.039614\n",
       "D47    0.037681\n",
       "C54    0.036715\n",
       "C91    0.033816\n",
       "C76    0.030918\n",
       "C83    0.029952\n",
       "C56    0.029952\n",
       "Name: DiagnosisCode, dtype: float64"
      ]
     },
     "execution_count": 615,
     "metadata": {},
     "output_type": "execute_result"
    }
   ],
   "source": [
    "other_cancer_10.DiagnosisCode.str[0:3].value_counts(normalize = True).head(10)"
   ]
  },
  {
   "cell_type": "markdown",
   "id": "cf8b0514",
   "metadata": {},
   "source": [
    "**The top 10 ICD-10 family codes at time of diagnosis that aren't colorectal cancer, metastasis, or benign neoplasm:**\n",
    "* **C34 - Malignant neoplasm of bronchus and lung**\n",
    "* **C41 - Malignant neoplasm of bone and articular cartilage of other and unspecified sites**\n",
    "* **C18 - Malignant neoplasm of colon**\n",
    "* **C73 - Malignant neoplasm of thyroid gland**\n",
    "* **C47 - Malignant neoplasm of peripheral nerves and autonomic nervous system**\n",
    "* **C54 - Malignant neoplasm of corpus uteri**\n",
    "* **C91 - Lymphoid leukemia**\n",
    "* **C76 - Malignant neoplasm of other and ill-defined sites**\n",
    "* **C83 - Non-follicular lymphoma**\n",
    "* **C56 - Malignant neoplasm of ovary**"
   ]
  },
  {
   "cell_type": "code",
   "execution_count": 616,
   "id": "93ac1c03",
   "metadata": {},
   "outputs": [],
   "source": [
    "other_cancer_10.loc[:,'other_cancer_10'] = 1"
   ]
  },
  {
   "cell_type": "code",
   "execution_count": 617,
   "id": "135257e2",
   "metadata": {},
   "outputs": [],
   "source": [
    "# Drop duplicates.\n",
    "other_cancer_10 = (\n",
    "    other_cancer_10\n",
    "    .drop_duplicates(subset = 'PatientID', keep = 'first')\n",
    "    .filter(items = ['PatientID', 'other_cancer_10'])\n",
    ")"
   ]
  },
  {
   "cell_type": "code",
   "execution_count": 618,
   "id": "451bc96d",
   "metadata": {},
   "outputs": [
    {
     "data": {
      "text/plain": [
       "(782, 782)"
      ]
     },
     "execution_count": 618,
     "metadata": {},
     "output_type": "execute_result"
    }
   ],
   "source": [
    "row_ID(other_cancer_10)"
   ]
  },
  {
   "cell_type": "code",
   "execution_count": 619,
   "id": "19df4e59",
   "metadata": {},
   "outputs": [],
   "source": [
    "# Append missing training IDs.\n",
    "other_cancer_10 = (\n",
    "    other_cancer_10\n",
    "    .append(\n",
    "        pd.Series(train_IDs)[~pd.Series(train_IDs).isin(other_cancer_10['PatientID'])].to_frame(name = 'PatientID'), \n",
    "        sort = False)\n",
    "    .fillna(0)\n",
    ")"
   ]
  },
  {
   "cell_type": "code",
   "execution_count": 620,
   "id": "0aa4eeaa",
   "metadata": {},
   "outputs": [
    {
     "data": {
      "text/plain": [
       "(25341, 25341)"
      ]
     },
     "execution_count": 620,
     "metadata": {},
     "output_type": "execute_result"
    }
   ],
   "source": [
    "row_ID(other_cancer_10)"
   ]
  },
  {
   "cell_type": "code",
   "execution_count": 621,
   "id": "dbcb503d",
   "metadata": {},
   "outputs": [],
   "source": [
    "other_cancer = pd.merge(other_cancer_9, other_cancer_10, on = 'PatientID')"
   ]
  },
  {
   "cell_type": "code",
   "execution_count": 622,
   "id": "7e850f8a",
   "metadata": {},
   "outputs": [],
   "source": [
    "# Combine other_cancer_9 and other_cancer_19; replace values equal to 2 with 1. \n",
    "other_cancer = (\n",
    "    other_cancer\n",
    "    .assign(other_cancer = other_cancer['other_cancer_9'] + other_cancer['other_cancer_10'])\n",
    "    .filter(items = ['PatientID', 'other_cancer'])\n",
    "    .replace(2, 1)\n",
    ")"
   ]
  },
  {
   "cell_type": "code",
   "execution_count": 623,
   "id": "edb72f5d",
   "metadata": {},
   "outputs": [
    {
     "data": {
      "text/plain": [
       "(25341, 25341)"
      ]
     },
     "execution_count": 623,
     "metadata": {},
     "output_type": "execute_result"
    }
   ],
   "source": [
    "row_ID(other_cancer)"
   ]
  },
  {
   "cell_type": "code",
   "execution_count": 624,
   "id": "0fb72200",
   "metadata": {},
   "outputs": [
    {
     "data": {
      "text/plain": [
       "0.058561224892466755"
      ]
     },
     "execution_count": 624,
     "metadata": {},
     "output_type": "execute_result"
    }
   ],
   "source": [
    "# Percentage of patients with a cancer other than breast or mets. \n",
    "len(other_cancer[other_cancer['other_cancer'] == 1])/len(other_cancer)"
   ]
  },
  {
   "cell_type": "markdown",
   "id": "c6a8ec91",
   "metadata": {},
   "source": [
    "#### Sites of metastases"
   ]
  },
  {
   "cell_type": "code",
   "execution_count": 625,
   "id": "e14aadf9",
   "metadata": {},
   "outputs": [],
   "source": [
    "mets = pd.read_csv('Enhanced_MetBreastSitesOfMet.csv')"
   ]
  },
  {
   "cell_type": "code",
   "execution_count": 626,
   "id": "24b8abc2",
   "metadata": {},
   "outputs": [],
   "source": [
    "mets = mets[mets['PatientID'].isin(train_IDs)]"
   ]
  },
  {
   "cell_type": "code",
   "execution_count": 627,
   "id": "dd85fe5e",
   "metadata": {},
   "outputs": [
    {
     "data": {
      "text/plain": [
       "(62969, 25234)"
      ]
     },
     "execution_count": 627,
     "metadata": {},
     "output_type": "execute_result"
    }
   ],
   "source": [
    "row_ID(mets)"
   ]
  },
  {
   "cell_type": "code",
   "execution_count": 628,
   "id": "d2cde5f1",
   "metadata": {},
   "outputs": [
    {
     "data": {
      "text/html": [
       "<div>\n",
       "<style scoped>\n",
       "    .dataframe tbody tr th:only-of-type {\n",
       "        vertical-align: middle;\n",
       "    }\n",
       "\n",
       "    .dataframe tbody tr th {\n",
       "        vertical-align: top;\n",
       "    }\n",
       "\n",
       "    .dataframe thead th {\n",
       "        text-align: right;\n",
       "    }\n",
       "</style>\n",
       "<table border=\"1\" class=\"dataframe\">\n",
       "  <thead>\n",
       "    <tr style=\"text-align: right;\">\n",
       "      <th></th>\n",
       "      <th>PatientID</th>\n",
       "      <th>DateOfMetastasis</th>\n",
       "      <th>SiteOfMetastasis</th>\n",
       "    </tr>\n",
       "  </thead>\n",
       "  <tbody>\n",
       "    <tr>\n",
       "      <th>9299</th>\n",
       "      <td>F66EDAA8C2472</td>\n",
       "      <td>2015-04</td>\n",
       "      <td>Liver</td>\n",
       "    </tr>\n",
       "    <tr>\n",
       "      <th>49053</th>\n",
       "      <td>FEDC1148E0AB8</td>\n",
       "      <td>2016-12</td>\n",
       "      <td>Bone</td>\n",
       "    </tr>\n",
       "    <tr>\n",
       "      <th>62210</th>\n",
       "      <td>F0DE7E9BC8BB6</td>\n",
       "      <td>2019-08</td>\n",
       "      <td>Bone</td>\n",
       "    </tr>\n",
       "    <tr>\n",
       "      <th>40810</th>\n",
       "      <td>F9495D6EE6957</td>\n",
       "      <td>2015-06</td>\n",
       "      <td>Liver</td>\n",
       "    </tr>\n",
       "    <tr>\n",
       "      <th>39487</th>\n",
       "      <td>F6AF9A4F2AE1C</td>\n",
       "      <td>2019-12</td>\n",
       "      <td>Adrenal</td>\n",
       "    </tr>\n",
       "  </tbody>\n",
       "</table>\n",
       "</div>"
      ],
      "text/plain": [
       "           PatientID DateOfMetastasis SiteOfMetastasis\n",
       "9299   F66EDAA8C2472          2015-04            Liver\n",
       "49053  FEDC1148E0AB8          2016-12             Bone\n",
       "62210  F0DE7E9BC8BB6          2019-08             Bone\n",
       "40810  F9495D6EE6957          2015-06            Liver\n",
       "39487  F6AF9A4F2AE1C          2019-12          Adrenal"
      ]
     },
     "execution_count": 628,
     "metadata": {},
     "output_type": "execute_result"
    }
   ],
   "source": [
    "mets.sample(5)"
   ]
  },
  {
   "cell_type": "code",
   "execution_count": 629,
   "id": "d0b07701",
   "metadata": {},
   "outputs": [],
   "source": [
    "mets = pd.merge(mets, enhanced_met[['PatientID', 'met_date']], on = 'PatientID', how = 'left')"
   ]
  },
  {
   "cell_type": "code",
   "execution_count": 630,
   "id": "ca6e7801",
   "metadata": {},
   "outputs": [],
   "source": [
    "mets.loc[:, 'DateOfMetastasis'] = pd.to_datetime(mets['DateOfMetastasis'])"
   ]
  },
  {
   "cell_type": "code",
   "execution_count": 631,
   "id": "973df418",
   "metadata": {},
   "outputs": [
    {
     "data": {
      "text/html": [
       "<div>\n",
       "<style scoped>\n",
       "    .dataframe tbody tr th:only-of-type {\n",
       "        vertical-align: middle;\n",
       "    }\n",
       "\n",
       "    .dataframe tbody tr th {\n",
       "        vertical-align: top;\n",
       "    }\n",
       "\n",
       "    .dataframe thead th {\n",
       "        text-align: right;\n",
       "    }\n",
       "</style>\n",
       "<table border=\"1\" class=\"dataframe\">\n",
       "  <thead>\n",
       "    <tr style=\"text-align: right;\">\n",
       "      <th></th>\n",
       "      <th>PatientID</th>\n",
       "      <th>DateOfMetastasis</th>\n",
       "      <th>SiteOfMetastasis</th>\n",
       "      <th>met_date</th>\n",
       "    </tr>\n",
       "  </thead>\n",
       "  <tbody>\n",
       "    <tr>\n",
       "      <th>51620</th>\n",
       "      <td>FB8F99B8BFF4A</td>\n",
       "      <td>2015-07-01</td>\n",
       "      <td>Lung</td>\n",
       "      <td>2015-07-22</td>\n",
       "    </tr>\n",
       "    <tr>\n",
       "      <th>61556</th>\n",
       "      <td>F344D2619705E</td>\n",
       "      <td>2014-12-01</td>\n",
       "      <td>Liver</td>\n",
       "      <td>2014-12-02</td>\n",
       "    </tr>\n",
       "    <tr>\n",
       "      <th>59359</th>\n",
       "      <td>F4E2EC143BC3D</td>\n",
       "      <td>2019-06-01</td>\n",
       "      <td>Bone</td>\n",
       "      <td>2019-06-06</td>\n",
       "    </tr>\n",
       "    <tr>\n",
       "      <th>50488</th>\n",
       "      <td>F18BBA99C0AD9</td>\n",
       "      <td>2019-02-01</td>\n",
       "      <td>Pleura</td>\n",
       "      <td>2019-02-18</td>\n",
       "    </tr>\n",
       "    <tr>\n",
       "      <th>13245</th>\n",
       "      <td>F929BF100A6D8</td>\n",
       "      <td>2019-07-01</td>\n",
       "      <td>Bone</td>\n",
       "      <td>2019-07-09</td>\n",
       "    </tr>\n",
       "  </tbody>\n",
       "</table>\n",
       "</div>"
      ],
      "text/plain": [
       "           PatientID DateOfMetastasis SiteOfMetastasis   met_date\n",
       "51620  FB8F99B8BFF4A       2015-07-01             Lung 2015-07-22\n",
       "61556  F344D2619705E       2014-12-01            Liver 2014-12-02\n",
       "59359  F4E2EC143BC3D       2019-06-01             Bone 2019-06-06\n",
       "50488  F18BBA99C0AD9       2019-02-01           Pleura 2019-02-18\n",
       "13245  F929BF100A6D8       2019-07-01             Bone 2019-07-09"
      ]
     },
     "execution_count": 631,
     "metadata": {},
     "output_type": "execute_result"
    }
   ],
   "source": [
    "mets.sample(5)"
   ]
  },
  {
   "cell_type": "code",
   "execution_count": 632,
   "id": "a5eee53e",
   "metadata": {},
   "outputs": [],
   "source": [
    "mets.loc[:, 'diagnosis_met_diff'] = (mets['DateOfMetastasis'] - mets['met_date']).dt.days"
   ]
  },
  {
   "cell_type": "code",
   "execution_count": 633,
   "id": "b617ba87",
   "metadata": {},
   "outputs": [],
   "source": [
    "mets = mets.query('diagnosis_met_diff <= 30')"
   ]
  },
  {
   "cell_type": "code",
   "execution_count": 634,
   "id": "01cc4ed3",
   "metadata": {},
   "outputs": [
    {
     "data": {
      "text/plain": [
       "Bone                  0.356779\n",
       "Lung                  0.161228\n",
       "Distant lymph node    0.151943\n",
       "Liver                 0.124087\n",
       "Pleura                0.052285\n",
       "Brain                 0.037276\n",
       "Other                 0.024497\n",
       "Skin                  0.019246\n",
       "Soft tissue           0.018300\n",
       "Peritoneum            0.013973\n",
       "Bone marrow           0.012373\n",
       "Adrenal               0.010637\n",
       "CNS site              0.008992\n",
       "Ovary                 0.003854\n",
       "Spleen                0.001893\n",
       "Pancreas              0.001240\n",
       "Kidney                0.000969\n",
       "Thyroid               0.000428\n",
       "Name: SiteOfMetastasis, dtype: float64"
      ]
     },
     "execution_count": 634,
     "metadata": {},
     "output_type": "execute_result"
    }
   ],
   "source": [
    "mets.SiteOfMetastasis.value_counts(normalize = True)"
   ]
  },
  {
   "cell_type": "code",
   "execution_count": 635,
   "id": "8a1ecd9f",
   "metadata": {},
   "outputs": [
    {
     "data": {
      "text/html": [
       "<div>\n",
       "<style scoped>\n",
       "    .dataframe tbody tr th:only-of-type {\n",
       "        vertical-align: middle;\n",
       "    }\n",
       "\n",
       "    .dataframe tbody tr th {\n",
       "        vertical-align: top;\n",
       "    }\n",
       "\n",
       "    .dataframe thead th {\n",
       "        text-align: right;\n",
       "    }\n",
       "</style>\n",
       "<table border=\"1\" class=\"dataframe\">\n",
       "  <thead>\n",
       "    <tr style=\"text-align: right;\">\n",
       "      <th></th>\n",
       "      <th>DateOfMetastasis</th>\n",
       "      <th>SiteOfMetastasis</th>\n",
       "      <th>met_date</th>\n",
       "      <th>diagnosis_met_diff</th>\n",
       "    </tr>\n",
       "  </thead>\n",
       "  <tbody>\n",
       "    <tr>\n",
       "      <th>count</th>\n",
       "      <td>25105.000000</td>\n",
       "      <td>25105.000000</td>\n",
       "      <td>25105.000000</td>\n",
       "      <td>25105.000000</td>\n",
       "    </tr>\n",
       "    <tr>\n",
       "      <th>mean</th>\n",
       "      <td>1.767457</td>\n",
       "      <td>1.767457</td>\n",
       "      <td>1.767457</td>\n",
       "      <td>1.767457</td>\n",
       "    </tr>\n",
       "    <tr>\n",
       "      <th>std</th>\n",
       "      <td>1.068153</td>\n",
       "      <td>1.068153</td>\n",
       "      <td>1.068153</td>\n",
       "      <td>1.068153</td>\n",
       "    </tr>\n",
       "    <tr>\n",
       "      <th>min</th>\n",
       "      <td>1.000000</td>\n",
       "      <td>1.000000</td>\n",
       "      <td>1.000000</td>\n",
       "      <td>1.000000</td>\n",
       "    </tr>\n",
       "    <tr>\n",
       "      <th>25%</th>\n",
       "      <td>1.000000</td>\n",
       "      <td>1.000000</td>\n",
       "      <td>1.000000</td>\n",
       "      <td>1.000000</td>\n",
       "    </tr>\n",
       "    <tr>\n",
       "      <th>50%</th>\n",
       "      <td>1.000000</td>\n",
       "      <td>1.000000</td>\n",
       "      <td>1.000000</td>\n",
       "      <td>1.000000</td>\n",
       "    </tr>\n",
       "    <tr>\n",
       "      <th>75%</th>\n",
       "      <td>2.000000</td>\n",
       "      <td>2.000000</td>\n",
       "      <td>2.000000</td>\n",
       "      <td>2.000000</td>\n",
       "    </tr>\n",
       "    <tr>\n",
       "      <th>max</th>\n",
       "      <td>12.000000</td>\n",
       "      <td>12.000000</td>\n",
       "      <td>12.000000</td>\n",
       "      <td>12.000000</td>\n",
       "    </tr>\n",
       "  </tbody>\n",
       "</table>\n",
       "</div>"
      ],
      "text/plain": [
       "       DateOfMetastasis  SiteOfMetastasis      met_date  diagnosis_met_diff\n",
       "count      25105.000000      25105.000000  25105.000000        25105.000000\n",
       "mean           1.767457          1.767457      1.767457            1.767457\n",
       "std            1.068153          1.068153      1.068153            1.068153\n",
       "min            1.000000          1.000000      1.000000            1.000000\n",
       "25%            1.000000          1.000000      1.000000            1.000000\n",
       "50%            1.000000          1.000000      1.000000            1.000000\n",
       "75%            2.000000          2.000000      2.000000            2.000000\n",
       "max           12.000000         12.000000     12.000000           12.000000"
      ]
     },
     "execution_count": 635,
     "metadata": {},
     "output_type": "execute_result"
    }
   ],
   "source": [
    "(\n",
    "    mets\n",
    "    .groupby('PatientID').count()\n",
    "    .describe()\n",
    ")"
   ]
  },
  {
   "cell_type": "code",
   "execution_count": 636,
   "id": "305fb6b2",
   "metadata": {},
   "outputs": [
    {
     "data": {
      "text/plain": [
       "25105"
      ]
     },
     "execution_count": 636,
     "metadata": {},
     "output_type": "execute_result"
    }
   ],
   "source": [
    "mets['PatientID'].nunique()"
   ]
  },
  {
   "cell_type": "markdown",
   "id": "a4e06341",
   "metadata": {},
   "source": [
    "**The median number of mets at time of metastatic diagnosis is 1. The most common site is bone followed by lung, distant lymph node, and liver. Sites of metastasis will be simplified into the following groups:**\n",
    "\n",
    "* **1. Bone or bone marrow**\n",
    "* **2. Lung or pleura**\n",
    "* **3. Distant lymph node**\n",
    "* **4. Liver**\n",
    "* **5. Brain or CNS site**\n",
    "* **6. Skin or soft tissue**\n",
    "* **7. Peritoneum**\n",
    "* **8. Other: other, adrenal, ovary, spleen, pancreas, kidney, or thyroid**"
   ]
  },
  {
   "cell_type": "code",
   "execution_count": 637,
   "id": "e3a1908c",
   "metadata": {},
   "outputs": [],
   "source": [
    "# Recode mets\n",
    "conditions = [\n",
    "    (mets['SiteOfMetastasis'] == 'Bone') | \n",
    "    (mets['SiteOfMetastasis'] == 'Bone marrow'),\n",
    "    (mets['SiteOfMetastasis'] == 'Lung') | \n",
    "    (mets['SiteOfMetastasis'] == 'Pleura'),\n",
    "    (mets['SiteOfMetastasis'] == 'Distant lymph node'),\n",
    "    (mets['SiteOfMetastasis'] == 'Liver'),\n",
    "    (mets['SiteOfMetastasis'] == 'Brain') | \n",
    "    (mets['SiteOfMetastasis'] == 'CNS site'),\n",
    "    (mets['SiteOfMetastasis'] == 'Skin') | \n",
    "    (mets['SiteOfMetastasis'] == 'Soft tissue'),\n",
    "    (mets['SiteOfMetastasis'] == 'Peritoneum'),\n",
    "    (mets['SiteOfMetastasis'] == 'Other') | \n",
    "    (mets['SiteOfMetastasis'] == 'Adrenal') |\n",
    "    (mets['SiteOfMetastasis'] == 'Ovary') |\n",
    "    (mets['SiteOfMetastasis'] == 'Spleen') |\n",
    "    (mets['SiteOfMetastasis'] == 'Pancreas') |\n",
    "    (mets['SiteOfMetastasis'] == 'Kidney') |\n",
    "    (mets['SiteOfMetastasis'] == 'Thyroid')]\n",
    "\n",
    "choices = ['bone_met', 'thorax_met', 'lymph_met', 'liver_met', 'cns_met', 'skin_met', 'peritoneum_met', 'other_met']\n",
    "\n",
    "mets.loc[:, 'met_loc'] = np.select(conditions, choices)"
   ]
  },
  {
   "cell_type": "code",
   "execution_count": 638,
   "id": "5d27d772",
   "metadata": {},
   "outputs": [],
   "source": [
    "mets['bone_met'] = np.where(mets['met_loc'] == 'bone_met', 1, 0)"
   ]
  },
  {
   "cell_type": "code",
   "execution_count": 639,
   "id": "147e5b08",
   "metadata": {},
   "outputs": [],
   "source": [
    "mets['thorax_met'] = np.where(mets['met_loc'] == 'thorax_met', 1, 0)"
   ]
  },
  {
   "cell_type": "code",
   "execution_count": 640,
   "id": "2daa4c8d",
   "metadata": {},
   "outputs": [],
   "source": [
    "mets['lymph_met'] = np.where(mets['met_loc'] == 'lymph_met', 1, 0)"
   ]
  },
  {
   "cell_type": "code",
   "execution_count": 641,
   "id": "7762fea2",
   "metadata": {},
   "outputs": [],
   "source": [
    "mets['liver_met'] = np.where(mets['met_loc'] == 'liver_met', 1, 0)"
   ]
  },
  {
   "cell_type": "code",
   "execution_count": 642,
   "id": "6848c86b",
   "metadata": {},
   "outputs": [],
   "source": [
    "mets['cns_met'] = np.where(mets['met_loc'] == 'cns_met', 1, 0)"
   ]
  },
  {
   "cell_type": "code",
   "execution_count": 643,
   "id": "59d3e15c",
   "metadata": {},
   "outputs": [],
   "source": [
    "mets['skin_met'] = np.where(mets['met_loc'] == 'skin_met', 1, 0)"
   ]
  },
  {
   "cell_type": "code",
   "execution_count": 644,
   "id": "9efc2ba3",
   "metadata": {},
   "outputs": [],
   "source": [
    "mets['peritoneum_met'] = np.where(mets['met_loc'] == 'peritoneum_met', 1, 0)"
   ]
  },
  {
   "cell_type": "code",
   "execution_count": 645,
   "id": "0659617e",
   "metadata": {},
   "outputs": [],
   "source": [
    "mets['other_met'] = np.where(mets['met_loc'] == 'other_met', 1, 0)"
   ]
  },
  {
   "cell_type": "code",
   "execution_count": 646,
   "id": "984e83fa",
   "metadata": {},
   "outputs": [],
   "source": [
    "# Drop unnecessary columns and condense. \n",
    "mets_wide = (\n",
    "    mets\n",
    "    .drop(columns = ['DateOfMetastasis', 'SiteOfMetastasis', 'met_date', 'diagnosis_met_diff', 'met_loc'])\n",
    "    .groupby('PatientID').sum()\n",
    ")"
   ]
  },
  {
   "cell_type": "code",
   "execution_count": 647,
   "id": "2e7bb8f1",
   "metadata": {},
   "outputs": [],
   "source": [
    "# Set any value greater than 1 to 1; leave 0 unchanged. \n",
    "mets_wide = (\n",
    "    mets_wide\n",
    "    .mask(mets_wide > 1, 1)\n",
    "    .reset_index()\n",
    ")"
   ]
  },
  {
   "cell_type": "code",
   "execution_count": 648,
   "id": "579fc759",
   "metadata": {},
   "outputs": [
    {
     "data": {
      "text/plain": [
       "(25105, 25105)"
      ]
     },
     "execution_count": 648,
     "metadata": {},
     "output_type": "execute_result"
    }
   ],
   "source": [
    "row_ID(mets_wide)"
   ]
  },
  {
   "cell_type": "code",
   "execution_count": 649,
   "id": "46183844",
   "metadata": {},
   "outputs": [],
   "source": [
    "# Append missing training IDs.\n",
    "mets_wide = (\n",
    "    mets_wide\n",
    "    .append(\n",
    "        pd.Series(train_IDs)[~pd.Series(train_IDs).isin(mets_wide['PatientID'])].to_frame(name = 'PatientID'),\n",
    "        sort = False)\n",
    ")"
   ]
  },
  {
   "cell_type": "code",
   "execution_count": 650,
   "id": "671a825a",
   "metadata": {},
   "outputs": [
    {
     "data": {
      "text/plain": [
       "(25341, 25341)"
      ]
     },
     "execution_count": 650,
     "metadata": {},
     "output_type": "execute_result"
    }
   ],
   "source": [
    "row_ID(mets_wide)"
   ]
  },
  {
   "cell_type": "code",
   "execution_count": 651,
   "id": "7680af1c",
   "metadata": {},
   "outputs": [],
   "source": [
    "mets_wide = mets_wide.fillna(0)"
   ]
  },
  {
   "cell_type": "code",
   "execution_count": 652,
   "id": "2021820b",
   "metadata": {},
   "outputs": [
    {
     "data": {
      "text/html": [
       "<div>\n",
       "<style scoped>\n",
       "    .dataframe tbody tr th:only-of-type {\n",
       "        vertical-align: middle;\n",
       "    }\n",
       "\n",
       "    .dataframe tbody tr th {\n",
       "        vertical-align: top;\n",
       "    }\n",
       "\n",
       "    .dataframe thead th {\n",
       "        text-align: right;\n",
       "    }\n",
       "</style>\n",
       "<table border=\"1\" class=\"dataframe\">\n",
       "  <thead>\n",
       "    <tr style=\"text-align: right;\">\n",
       "      <th></th>\n",
       "      <th>PatientID</th>\n",
       "      <th>bone_met</th>\n",
       "      <th>thorax_met</th>\n",
       "      <th>lymph_met</th>\n",
       "      <th>liver_met</th>\n",
       "      <th>cns_met</th>\n",
       "      <th>skin_met</th>\n",
       "      <th>peritoneum_met</th>\n",
       "      <th>other_met</th>\n",
       "    </tr>\n",
       "  </thead>\n",
       "  <tbody>\n",
       "    <tr>\n",
       "      <th>18601</th>\n",
       "      <td>FBD9A4405452A</td>\n",
       "      <td>1.0</td>\n",
       "      <td>0.0</td>\n",
       "      <td>0.0</td>\n",
       "      <td>0.0</td>\n",
       "      <td>0.0</td>\n",
       "      <td>0.0</td>\n",
       "      <td>0.0</td>\n",
       "      <td>0.0</td>\n",
       "    </tr>\n",
       "    <tr>\n",
       "      <th>4747</th>\n",
       "      <td>F30A7161105C4</td>\n",
       "      <td>1.0</td>\n",
       "      <td>0.0</td>\n",
       "      <td>0.0</td>\n",
       "      <td>0.0</td>\n",
       "      <td>0.0</td>\n",
       "      <td>0.0</td>\n",
       "      <td>0.0</td>\n",
       "      <td>0.0</td>\n",
       "    </tr>\n",
       "    <tr>\n",
       "      <th>21571</th>\n",
       "      <td>FDC918B478F27</td>\n",
       "      <td>1.0</td>\n",
       "      <td>0.0</td>\n",
       "      <td>0.0</td>\n",
       "      <td>1.0</td>\n",
       "      <td>0.0</td>\n",
       "      <td>0.0</td>\n",
       "      <td>0.0</td>\n",
       "      <td>0.0</td>\n",
       "    </tr>\n",
       "    <tr>\n",
       "      <th>9525</th>\n",
       "      <td>F617CCB9671A5</td>\n",
       "      <td>1.0</td>\n",
       "      <td>0.0</td>\n",
       "      <td>0.0</td>\n",
       "      <td>0.0</td>\n",
       "      <td>0.0</td>\n",
       "      <td>0.0</td>\n",
       "      <td>0.0</td>\n",
       "      <td>0.0</td>\n",
       "    </tr>\n",
       "    <tr>\n",
       "      <th>23535</th>\n",
       "      <td>FEFD8C2043387</td>\n",
       "      <td>0.0</td>\n",
       "      <td>1.0</td>\n",
       "      <td>1.0</td>\n",
       "      <td>0.0</td>\n",
       "      <td>0.0</td>\n",
       "      <td>0.0</td>\n",
       "      <td>0.0</td>\n",
       "      <td>0.0</td>\n",
       "    </tr>\n",
       "  </tbody>\n",
       "</table>\n",
       "</div>"
      ],
      "text/plain": [
       "           PatientID  bone_met  thorax_met  lymph_met  liver_met  cns_met  \\\n",
       "18601  FBD9A4405452A       1.0         0.0        0.0        0.0      0.0   \n",
       "4747   F30A7161105C4       1.0         0.0        0.0        0.0      0.0   \n",
       "21571  FDC918B478F27       1.0         0.0        0.0        1.0      0.0   \n",
       "9525   F617CCB9671A5       1.0         0.0        0.0        0.0      0.0   \n",
       "23535  FEFD8C2043387       0.0         1.0        1.0        0.0      0.0   \n",
       "\n",
       "       skin_met  peritoneum_met  other_met  \n",
       "18601       0.0             0.0        0.0  \n",
       "4747        0.0             0.0        0.0  \n",
       "21571       0.0             0.0        0.0  \n",
       "9525        0.0             0.0        0.0  \n",
       "23535       0.0             0.0        0.0  "
      ]
     },
     "execution_count": 652,
     "metadata": {},
     "output_type": "execute_result"
    }
   ],
   "source": [
    "mets_wide.sample(5)"
   ]
  },
  {
   "cell_type": "code",
   "execution_count": 653,
   "id": "2b00478e",
   "metadata": {},
   "outputs": [
    {
     "data": {
      "text/plain": [
       "bone_met          0.627481\n",
       "thorax_met        0.330492\n",
       "lymph_met         0.266051\n",
       "liver_met         0.217276\n",
       "cns_met           0.074859\n",
       "other_met         0.070992\n",
       "skin_met          0.063020\n",
       "peritoneum_met    0.024466\n",
       "dtype: float64"
      ]
     },
     "execution_count": 653,
     "metadata": {},
     "output_type": "execute_result"
    }
   ],
   "source": [
    "# Percentage breakdown of insurance by type at time of advanced diagnosis.\n",
    "(mets_wide.iloc[:, 1:9].sum()/mets_wide.shape[0]).sort_values(ascending = False)"
   ]
  },
  {
   "cell_type": "markdown",
   "id": "d12d1f82",
   "metadata": {},
   "source": [
    "#### Merge"
   ]
  },
  {
   "cell_type": "code",
   "execution_count": 654,
   "id": "6ae8772f",
   "metadata": {},
   "outputs": [],
   "source": [
    "diagnosis_wide = pd.merge(diagnosis_elixhauser, other_cancer, on = 'PatientID')"
   ]
  },
  {
   "cell_type": "code",
   "execution_count": 655,
   "id": "412c3012",
   "metadata": {},
   "outputs": [],
   "source": [
    "diagnosis_wide = pd.merge(diagnosis_wide, mets_wide, on = 'PatientID')"
   ]
  },
  {
   "cell_type": "code",
   "execution_count": 656,
   "id": "860e69f4",
   "metadata": {},
   "outputs": [
    {
     "data": {
      "text/plain": [
       "(25341, 25341)"
      ]
     },
     "execution_count": 656,
     "metadata": {},
     "output_type": "execute_result"
    }
   ],
   "source": [
    "row_ID(diagnosis_wide)"
   ]
  },
  {
   "cell_type": "code",
   "execution_count": 657,
   "id": "89f8ff71",
   "metadata": {},
   "outputs": [
    {
     "data": {
      "text/plain": [
       "['PatientID',\n",
       " 'chf',\n",
       " 'cardiac_arrhythmias',\n",
       " 'valvular_disease',\n",
       " 'pulmonary_circulation',\n",
       " 'peripheral_vascular',\n",
       " 'htn_uncomplicated',\n",
       " 'htn_complicated',\n",
       " 'paralysis',\n",
       " 'other_neuro_disorders',\n",
       " 'chronic_pulmonary',\n",
       " 'diabetes_uncomplicated',\n",
       " 'diabetes_complicated',\n",
       " 'hypothyroidism',\n",
       " 'renal_failure',\n",
       " 'liver_disease',\n",
       " 'peptic_ulcer_disease',\n",
       " 'aids_hiv',\n",
       " 'lymphoma',\n",
       " 'metastatic_cancer',\n",
       " 'solid_tumor_wout_mets',\n",
       " 'rheumatoid_arthritis',\n",
       " 'coagulopathy',\n",
       " 'obesity',\n",
       " 'weight_loss',\n",
       " 'fluid_electrolyte',\n",
       " 'blood_loss_anemia',\n",
       " 'deficiency_anemia',\n",
       " 'alcohol_abuse',\n",
       " 'drug_abuse',\n",
       " 'psychoses',\n",
       " 'depression',\n",
       " 'elixhauser_other',\n",
       " 'icd_count',\n",
       " 'other_cancer',\n",
       " 'bone_met',\n",
       " 'thorax_met',\n",
       " 'lymph_met',\n",
       " 'liver_met',\n",
       " 'cns_met',\n",
       " 'skin_met',\n",
       " 'peritoneum_met',\n",
       " 'other_met']"
      ]
     },
     "execution_count": 657,
     "metadata": {},
     "output_type": "execute_result"
    }
   ],
   "source": [
    "list(diagnosis_wide.columns)"
   ]
  },
  {
   "cell_type": "code",
   "execution_count": 658,
   "id": "feeac688",
   "metadata": {},
   "outputs": [
    {
     "name": "stdout",
     "output_type": "stream",
     "text": [
      "Variable                 Type         Data/Info\n",
      "-----------------------------------------------\n",
      "biomarker_wide           DataFrame               PatientID     <...>n[25341 rows x 7 columns]\n",
      "cancer_10                DataFrame                 PatientID Di<...>n[28066 rows x 3 columns]\n",
      "cancer_9                 DataFrame                 PatientID Di<...>n[20626 rows x 3 columns]\n",
      "demographics             DataFrame               PatientID gend<...>n[25341 rows x 7 columns]\n",
      "diagnosis                DataFrame                 PatientID   <...>1252825 rows x 9 columns]\n",
      "diagnosis_elix_10        DataFrame                 PatientID Di<...>134520 rows x 35 columns]\n",
      "diagnosis_elix_10_wide   DataFrame               PatientID  chf<...>[14181 rows x 33 columns]\n",
      "diagnosis_elix_9         DataFrame                 PatientID Di<...>[90009 rows x 35 columns]\n",
      "diagnosis_elix_9_wide    DataFrame               PatientID  chf<...>[13746 rows x 33 columns]\n",
      "diagnosis_elixhauser     DataFrame               PatientID  chf<...>[25341 rows x 34 columns]\n",
      "diagnosis_wide           DataFrame               PatientID  chf<...>[25341 rows x 43 columns]\n",
      "ecog_diagnosis_wide      DataFrame                PatientID eco<...>n[25341 rows x 2 columns]\n",
      "enhanced_met             DataFrame               PatientID diag<...>n[25341 rows x 7 columns]\n",
      "insurance_wide           DataFrame               PatientID  med<...>n[25341 rows x 9 columns]\n",
      "lab_wide                 DataFrame               PatientID  alb<...>25341 rows x 129 columns]\n",
      "med_admin_wide           DataFrame               PatientID  ste<...>[25341 rows x 14 columns]\n",
      "mets                     DataFrame               PatientID Date<...>[44372 rows x 14 columns]\n",
      "mets_wide                DataFrame               PatientID  bon<...>n[25341 rows x 9 columns]\n",
      "mortality                DataFrame               PatientID  dea<...>n[25341 rows x 3 columns]\n",
      "other_cancer             DataFrame               PatientID  oth<...>n[25341 rows x 2 columns]\n",
      "other_cancer_10          DataFrame               PatientID  oth<...>n[25341 rows x 2 columns]\n",
      "other_cancer_9           DataFrame               PatientID  oth<...>n[25341 rows x 2 columns]\n",
      "weight_wide              DataFrame               PatientID  wei<...>n[25341 rows x 7 columns]\n"
     ]
    }
   ],
   "source": [
    "%whos DataFrame"
   ]
  },
  {
   "cell_type": "code",
   "execution_count": 659,
   "id": "3c9011b9",
   "metadata": {},
   "outputs": [],
   "source": [
    "# Keep biomarker_wide, demographics, diagnosis_wide, ecog_diagnosis_wide, enhanced_met, insurance_wide, \n",
    "# lab_wide, med_admin_wide, mortality, and weight_wide\n",
    "del cancer_10\n",
    "del cancer_9\n",
    "del diagnosis\n",
    "del diagnosis_elix_10\n",
    "del diagnosis_elix_10_wide\n",
    "del diagnosis_elix_9\n",
    "del diagnosis_elix_9_wide\n",
    "del diagnosis_elixhauser\n",
    "del mets\n",
    "del mets_wide\n",
    "del other_cancer\n",
    "del other_cancer_10\n",
    "del other_cancer_9"
   ]
  },
  {
   "cell_type": "markdown",
   "id": "2da59367",
   "metadata": {},
   "source": [
    "### 11. SocialDeterminantsOfHealth"
   ]
  },
  {
   "cell_type": "code",
   "execution_count": 660,
   "id": "2a7ef1f3",
   "metadata": {},
   "outputs": [],
   "source": [
    "sdoh = pd.read_csv('SocialDeterminantsOfHealth.csv')"
   ]
  },
  {
   "cell_type": "code",
   "execution_count": 661,
   "id": "aaac1a3c",
   "metadata": {},
   "outputs": [],
   "source": [
    "sdoh = sdoh[sdoh['PatientID'].isin(train_IDs)]"
   ]
  },
  {
   "cell_type": "code",
   "execution_count": 662,
   "id": "73cad05b",
   "metadata": {},
   "outputs": [
    {
     "data": {
      "text/plain": [
       "(21113, 21113)"
      ]
     },
     "execution_count": 662,
     "metadata": {},
     "output_type": "execute_result"
    }
   ],
   "source": [
    "row_ID(sdoh)"
   ]
  },
  {
   "cell_type": "code",
   "execution_count": 663,
   "id": "12da6166",
   "metadata": {},
   "outputs": [
    {
     "data": {
      "text/html": [
       "<div>\n",
       "<style scoped>\n",
       "    .dataframe tbody tr th:only-of-type {\n",
       "        vertical-align: middle;\n",
       "    }\n",
       "\n",
       "    .dataframe tbody tr th {\n",
       "        vertical-align: top;\n",
       "    }\n",
       "\n",
       "    .dataframe thead th {\n",
       "        text-align: right;\n",
       "    }\n",
       "</style>\n",
       "<table border=\"1\" class=\"dataframe\">\n",
       "  <thead>\n",
       "    <tr style=\"text-align: right;\">\n",
       "      <th></th>\n",
       "      <th>PatientID</th>\n",
       "      <th>PracticeID</th>\n",
       "      <th>SESIndex2015_2019</th>\n",
       "    </tr>\n",
       "  </thead>\n",
       "  <tbody>\n",
       "    <tr>\n",
       "      <th>18925</th>\n",
       "      <td>F48586A6ECEC9</td>\n",
       "      <td>S260DA7B3CE37</td>\n",
       "      <td>4</td>\n",
       "    </tr>\n",
       "    <tr>\n",
       "      <th>11285</th>\n",
       "      <td>F0DE3D421A5A3</td>\n",
       "      <td>SBB648C22FEF1</td>\n",
       "      <td>3</td>\n",
       "    </tr>\n",
       "    <tr>\n",
       "      <th>10981</th>\n",
       "      <td>F69CB7401CC0D</td>\n",
       "      <td>S57BBE18F8EB0</td>\n",
       "      <td>1 - Lowest SES</td>\n",
       "    </tr>\n",
       "    <tr>\n",
       "      <th>18153</th>\n",
       "      <td>FEFFCAE58BE59</td>\n",
       "      <td>SD2555DC0ACD7</td>\n",
       "      <td>2</td>\n",
       "    </tr>\n",
       "    <tr>\n",
       "      <th>2531</th>\n",
       "      <td>F4B808A482A38</td>\n",
       "      <td>S43F1EC350316</td>\n",
       "      <td>2</td>\n",
       "    </tr>\n",
       "  </tbody>\n",
       "</table>\n",
       "</div>"
      ],
      "text/plain": [
       "           PatientID     PracticeID SESIndex2015_2019\n",
       "18925  F48586A6ECEC9  S260DA7B3CE37                 4\n",
       "11285  F0DE3D421A5A3  SBB648C22FEF1                 3\n",
       "10981  F69CB7401CC0D  S57BBE18F8EB0    1 - Lowest SES\n",
       "18153  FEFFCAE58BE59  SD2555DC0ACD7                 2\n",
       "2531   F4B808A482A38  S43F1EC350316                 2"
      ]
     },
     "execution_count": 663,
     "metadata": {},
     "output_type": "execute_result"
    }
   ],
   "source": [
    "sdoh.sample(5)"
   ]
  },
  {
   "cell_type": "markdown",
   "id": "0e5026ad",
   "metadata": {},
   "source": [
    "**Measures the area-level socioeconomic status (SES) of a patient between 2015 and 2019 based on their most recent address.**"
   ]
  },
  {
   "cell_type": "code",
   "execution_count": 664,
   "id": "0ca1fa4c",
   "metadata": {},
   "outputs": [],
   "source": [
    "conditions = [\n",
    "    (sdoh['SESIndex2015_2019'] == '5 - Highest SES'),\n",
    "    (sdoh['SESIndex2015_2019'] == '1 - Lowest SES')]    \n",
    "\n",
    "choices = ['5', '1']\n",
    "    \n",
    "sdoh.loc[:, 'ses'] = np.select(conditions, choices, default = sdoh['SESIndex2015_2019'])"
   ]
  },
  {
   "cell_type": "code",
   "execution_count": 665,
   "id": "95d13d38",
   "metadata": {},
   "outputs": [],
   "source": [
    "sdoh = sdoh.drop(columns = ['PracticeID', 'SESIndex2015_2019'])"
   ]
  },
  {
   "cell_type": "code",
   "execution_count": 666,
   "id": "1ff8fac3",
   "metadata": {},
   "outputs": [],
   "source": [
    "sdoh_wide = (\n",
    "    sdoh\n",
    "    .append(\n",
    "        pd.Series(train_IDs)[~pd.Series(train_IDs).isin(sdoh['PatientID'])].to_frame(name = 'PatientID'),\n",
    "        sort = False)\n",
    ")"
   ]
  },
  {
   "cell_type": "code",
   "execution_count": 667,
   "id": "b1d954aa",
   "metadata": {},
   "outputs": [
    {
     "data": {
      "text/plain": [
       "(25341, 25341)"
      ]
     },
     "execution_count": 667,
     "metadata": {},
     "output_type": "execute_result"
    }
   ],
   "source": [
    "row_ID(sdoh_wide)"
   ]
  },
  {
   "cell_type": "code",
   "execution_count": 668,
   "id": "09e02f55",
   "metadata": {},
   "outputs": [
    {
     "data": {
      "text/plain": [
       "NaN    0.266446\n",
       "4      0.160175\n",
       "3      0.156426\n",
       "2      0.142970\n",
       "5      0.139931\n",
       "1      0.134052\n",
       "Name: ses, dtype: float64"
      ]
     },
     "execution_count": 668,
     "metadata": {},
     "output_type": "execute_result"
    }
   ],
   "source": [
    "sdoh_wide.ses.value_counts(dropna = False, normalize = True)"
   ]
  },
  {
   "cell_type": "code",
   "execution_count": 669,
   "id": "0e720ff6",
   "metadata": {
    "scrolled": true
   },
   "outputs": [
    {
     "name": "stdout",
     "output_type": "stream",
     "text": [
      "Variable              Type         Data/Info\n",
      "--------------------------------------------\n",
      "biomarker_wide        DataFrame               PatientID     <...>n[25341 rows x 7 columns]\n",
      "demographics          DataFrame               PatientID gend<...>n[25341 rows x 7 columns]\n",
      "diagnosis_wide        DataFrame               PatientID  chf<...>[25341 rows x 43 columns]\n",
      "ecog_diagnosis_wide   DataFrame                PatientID eco<...>n[25341 rows x 2 columns]\n",
      "enhanced_met          DataFrame               PatientID diag<...>n[25341 rows x 7 columns]\n",
      "insurance_wide        DataFrame               PatientID  med<...>n[25341 rows x 9 columns]\n",
      "lab_wide              DataFrame               PatientID  alb<...>25341 rows x 129 columns]\n",
      "med_admin_wide        DataFrame               PatientID  ste<...>[25341 rows x 14 columns]\n",
      "mortality             DataFrame               PatientID  dea<...>n[25341 rows x 3 columns]\n",
      "sdoh                  DataFrame               PatientID  ses<...>n[21113 rows x 2 columns]\n",
      "sdoh_wide             DataFrame               PatientID  ses<...>n[25341 rows x 2 columns]\n",
      "weight_wide           DataFrame               PatientID  wei<...>n[25341 rows x 7 columns]\n"
     ]
    }
   ],
   "source": [
    "%whos DataFrame"
   ]
  },
  {
   "cell_type": "code",
   "execution_count": 670,
   "id": "fa011886",
   "metadata": {},
   "outputs": [],
   "source": [
    "# Keep biomarker_wide, demographics, ecog_diagnosis_wide, enhanced_met, mortality, \n",
    "# lab_wide, sdoh_wide, and weight wide\n",
    "del sdoh"
   ]
  },
  {
   "cell_type": "markdown",
   "id": "313c3059",
   "metadata": {},
   "source": [
    "## Part 3: File merge"
   ]
  },
  {
   "cell_type": "code",
   "execution_count": 671,
   "id": "1d972842",
   "metadata": {},
   "outputs": [],
   "source": [
    "enhanced_met = enhanced_met.drop(columns = ['diagnosis_date', 'met_date', 'met_year_cat'])"
   ]
  },
  {
   "cell_type": "code",
   "execution_count": 672,
   "id": "58dc2721",
   "metadata": {},
   "outputs": [],
   "source": [
    "train_full = pd.merge(demographics, enhanced_met, on = 'PatientID')"
   ]
  },
  {
   "cell_type": "code",
   "execution_count": 673,
   "id": "2e12a118",
   "metadata": {},
   "outputs": [],
   "source": [
    "train_full = pd.merge(train_full, mortality, on = 'PatientID')"
   ]
  },
  {
   "cell_type": "code",
   "execution_count": 674,
   "id": "82d43596",
   "metadata": {},
   "outputs": [],
   "source": [
    "train_full = pd.merge(train_full, med_admin_wide, on = 'PatientID')"
   ]
  },
  {
   "cell_type": "code",
   "execution_count": 675,
   "id": "5982c780",
   "metadata": {},
   "outputs": [],
   "source": [
    "train_full = pd.merge(train_full, biomarker_wide, on = 'PatientID')"
   ]
  },
  {
   "cell_type": "code",
   "execution_count": 676,
   "id": "440dc7cf",
   "metadata": {},
   "outputs": [],
   "source": [
    "train_full = pd.merge(train_full, insurance_wide, on = 'PatientID')"
   ]
  },
  {
   "cell_type": "code",
   "execution_count": 677,
   "id": "a62c7eb1",
   "metadata": {},
   "outputs": [],
   "source": [
    "train_full = pd.merge(train_full, ecog_diagnosis_wide, on = 'PatientID')"
   ]
  },
  {
   "cell_type": "code",
   "execution_count": 678,
   "id": "aff4817b",
   "metadata": {},
   "outputs": [],
   "source": [
    "train_full = pd.merge(train_full, weight_wide, on = 'PatientID')"
   ]
  },
  {
   "cell_type": "code",
   "execution_count": 679,
   "id": "14d28b3a",
   "metadata": {},
   "outputs": [],
   "source": [
    "train_full = pd.merge(train_full, lab_wide, on = 'PatientID')"
   ]
  },
  {
   "cell_type": "code",
   "execution_count": 680,
   "id": "577d36bb",
   "metadata": {},
   "outputs": [],
   "source": [
    "train_full = pd.merge(train_full, diagnosis_wide, on = 'PatientID')"
   ]
  },
  {
   "cell_type": "code",
   "execution_count": 681,
   "id": "c8b29dca",
   "metadata": {},
   "outputs": [],
   "source": [
    "train_full = pd.merge(train_full, sdoh_wide, on = 'PatientID')"
   ]
  },
  {
   "cell_type": "code",
   "execution_count": 682,
   "id": "9b7fc8b7",
   "metadata": {},
   "outputs": [
    {
     "data": {
      "text/plain": [
       "(25341, 25341)"
      ]
     },
     "execution_count": 682,
     "metadata": {},
     "output_type": "execute_result"
    }
   ],
   "source": [
    "row_ID(train_full)"
   ]
  },
  {
   "cell_type": "code",
   "execution_count": 683,
   "id": "1efab7bc",
   "metadata": {},
   "outputs": [
    {
     "data": {
      "text/plain": [
       "217"
      ]
     },
     "execution_count": 683,
     "metadata": {},
     "output_type": "execute_result"
    }
   ],
   "source": [
    "len(train_full.columns)"
   ]
  },
  {
   "cell_type": "code",
   "execution_count": 684,
   "id": "2619e79a",
   "metadata": {
    "scrolled": false
   },
   "outputs": [
    {
     "data": {
      "text/plain": [
       "['PatientID',\n",
       " 'gender',\n",
       " 'race',\n",
       " 'ethnicity',\n",
       " 'age',\n",
       " 'p_type',\n",
       " 'region',\n",
       " 'stage',\n",
       " 'met_year',\n",
       " 'delta_met_diagnosis',\n",
       " 'death_status',\n",
       " 'timerisk_activity',\n",
       " 'steroid_diag',\n",
       " 'opioid_PO_diag',\n",
       " 'nonopioid_PO_diag',\n",
       " 'pain_IV_diag',\n",
       " 'ac_diag',\n",
       " 'antiinfective_IV_diag',\n",
       " 'antiinfective_diag',\n",
       " 'antihyperglycemic_diag',\n",
       " 'ppi_diag',\n",
       " 'antidepressant_diag',\n",
       " 'bta_diag',\n",
       " 'thyroid_diag',\n",
       " 'is_diag',\n",
       " 'ER',\n",
       " 'HER2',\n",
       " 'PR',\n",
       " 'BRCA',\n",
       " 'PIK3CA',\n",
       " 'pdl1_n',\n",
       " 'medicare',\n",
       " 'medicaid',\n",
       " 'medicare_medicaid',\n",
       " 'commercial',\n",
       " 'patient_assistance',\n",
       " 'other_govt',\n",
       " 'self_pay',\n",
       " 'other',\n",
       " 'ecog_diagnosis',\n",
       " 'weight_diag',\n",
       " 'bmi_diag',\n",
       " 'bmi_diag_na',\n",
       " 'weight_pct_change',\n",
       " 'weight_pct_na',\n",
       " 'weight_slope',\n",
       " 'albumin_diag',\n",
       " 'alp_diag',\n",
       " 'alt_diag',\n",
       " 'ast_diag',\n",
       " 'bicarb_diag',\n",
       " 'bun_diag',\n",
       " 'calcium_diag',\n",
       " 'chloride_diag',\n",
       " 'creatinine_diag',\n",
       " 'hemoglobin_diag',\n",
       " 'neutrophil_count_diag',\n",
       " 'platelet_diag',\n",
       " 'potassium_diag',\n",
       " 'sodium_diag',\n",
       " 'total_bilirubin_diag',\n",
       " 'wbc_diag',\n",
       " 'albumin_diag_na',\n",
       " 'alp_diag_na',\n",
       " 'alt_diag_na',\n",
       " 'ast_diag_na',\n",
       " 'bicarb_diag_na',\n",
       " 'bun_diag_na',\n",
       " 'calcium_diag_na',\n",
       " 'chloride_diag_na',\n",
       " 'creatinine_diag_na',\n",
       " 'hemoglobin_diag_na',\n",
       " 'neutrophil_count_diag_na',\n",
       " 'platelet_diag_na',\n",
       " 'potassium_diag_na',\n",
       " 'sodium_diag_na',\n",
       " 'total_bilirubin_diag_na',\n",
       " 'wbc_diag_na',\n",
       " 'albumin_avg',\n",
       " 'alp_avg',\n",
       " 'alt_avg',\n",
       " 'ast_avg',\n",
       " 'bicarb_avg',\n",
       " 'bun_avg',\n",
       " 'calcium_avg',\n",
       " 'chloride_avg',\n",
       " 'creatinine_avg',\n",
       " 'hemoglobin_avg',\n",
       " 'neutrophil_count_avg',\n",
       " 'platelet_avg',\n",
       " 'potassium_avg',\n",
       " 'sodium_avg',\n",
       " 'total_bilirubin_avg',\n",
       " 'wbc_avg',\n",
       " 'albumin_max',\n",
       " 'alp_max',\n",
       " 'alt_max',\n",
       " 'ast_max',\n",
       " 'bicarb_max',\n",
       " 'bun_max',\n",
       " 'calcium_max',\n",
       " 'chloride_max',\n",
       " 'creatinine_max',\n",
       " 'hemoglobin_max',\n",
       " 'neutrophil_count_max',\n",
       " 'platelet_max',\n",
       " 'potassium_max',\n",
       " 'sodium_max',\n",
       " 'total_bilirubin_max',\n",
       " 'wbc_max',\n",
       " 'albumin_min',\n",
       " 'alp_min',\n",
       " 'alt_min',\n",
       " 'ast_min',\n",
       " 'bicarb_min',\n",
       " 'bun_min',\n",
       " 'calcium_min',\n",
       " 'chloride_min',\n",
       " 'creatinine_min',\n",
       " 'hemoglobin_min',\n",
       " 'neutrophil_count_min',\n",
       " 'platelet_min',\n",
       " 'potassium_min',\n",
       " 'sodium_min',\n",
       " 'total_bilirubin_min',\n",
       " 'wbc_min',\n",
       " 'albumin_std',\n",
       " 'alp_std',\n",
       " 'alt_std',\n",
       " 'ast_std',\n",
       " 'bicarb_std',\n",
       " 'bun_std',\n",
       " 'calcium_std',\n",
       " 'chloride_std',\n",
       " 'creatinine_std',\n",
       " 'hemoglobin_std',\n",
       " 'neutrophil_count_std',\n",
       " 'platelet_std',\n",
       " 'potassium_std',\n",
       " 'sodium_std',\n",
       " 'total_bilirubin_std',\n",
       " 'wbc_std',\n",
       " 'albumin_slope',\n",
       " 'alp_slope',\n",
       " 'alt_slope',\n",
       " 'ast_slope',\n",
       " 'bicarb_slope',\n",
       " 'bun_slope',\n",
       " 'calcium_slope',\n",
       " 'chloride_slope',\n",
       " 'creatinine_slope',\n",
       " 'hemoglobin_slope',\n",
       " 'neutrophil_count_slope',\n",
       " 'platelet_slope',\n",
       " 'potassium_slope',\n",
       " 'sodium_slope',\n",
       " 'total_bilirubin_slope',\n",
       " 'wbc_slope',\n",
       " 'albumin_slope_na',\n",
       " 'alp_slope_na',\n",
       " 'alt_slope_na',\n",
       " 'ast_slope_na',\n",
       " 'bicarb_slope_na',\n",
       " 'bun_slope_na',\n",
       " 'calcium_slope_na',\n",
       " 'chloride_slope_na',\n",
       " 'creatinine_slope_na',\n",
       " 'hemoglobin_slope_na',\n",
       " 'neutrophil_count_slope_na',\n",
       " 'platelet_slope_na',\n",
       " 'potassium_slope_na',\n",
       " 'sodium_slope_na',\n",
       " 'total_bilirubin_slope_na',\n",
       " 'wbc_slope_na',\n",
       " 'chf',\n",
       " 'cardiac_arrhythmias',\n",
       " 'valvular_disease',\n",
       " 'pulmonary_circulation',\n",
       " 'peripheral_vascular',\n",
       " 'htn_uncomplicated',\n",
       " 'htn_complicated',\n",
       " 'paralysis',\n",
       " 'other_neuro_disorders',\n",
       " 'chronic_pulmonary',\n",
       " 'diabetes_uncomplicated',\n",
       " 'diabetes_complicated',\n",
       " 'hypothyroidism',\n",
       " 'renal_failure',\n",
       " 'liver_disease',\n",
       " 'peptic_ulcer_disease',\n",
       " 'aids_hiv',\n",
       " 'lymphoma',\n",
       " 'metastatic_cancer',\n",
       " 'solid_tumor_wout_mets',\n",
       " 'rheumatoid_arthritis',\n",
       " 'coagulopathy',\n",
       " 'obesity',\n",
       " 'weight_loss',\n",
       " 'fluid_electrolyte',\n",
       " 'blood_loss_anemia',\n",
       " 'deficiency_anemia',\n",
       " 'alcohol_abuse',\n",
       " 'drug_abuse',\n",
       " 'psychoses',\n",
       " 'depression',\n",
       " 'elixhauser_other',\n",
       " 'icd_count',\n",
       " 'other_cancer',\n",
       " 'bone_met',\n",
       " 'thorax_met',\n",
       " 'lymph_met',\n",
       " 'liver_met',\n",
       " 'cns_met',\n",
       " 'skin_met',\n",
       " 'peritoneum_met',\n",
       " 'other_met',\n",
       " 'ses']"
      ]
     },
     "execution_count": 684,
     "metadata": {},
     "output_type": "execute_result"
    }
   ],
   "source": [
    "list(train_full.columns)"
   ]
  },
  {
   "cell_type": "code",
   "execution_count": 685,
   "id": "fc391119",
   "metadata": {},
   "outputs": [],
   "source": [
    "train_full.to_csv('train_full.csv', index = False, header = True)"
   ]
  }
 ],
 "metadata": {
  "kernelspec": {
   "display_name": "Python 3 (ipykernel)",
   "language": "python",
   "name": "python3"
  },
  "language_info": {
   "codemirror_mode": {
    "name": "ipython",
    "version": 3
   },
   "file_extension": ".py",
   "mimetype": "text/x-python",
   "name": "python",
   "nbconvert_exporter": "python",
   "pygments_lexer": "ipython3",
   "version": "3.7.10"
  }
 },
 "nbformat": 4,
 "nbformat_minor": 5
}
