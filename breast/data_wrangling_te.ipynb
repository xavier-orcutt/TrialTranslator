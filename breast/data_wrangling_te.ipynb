{
 "cells": [
  {
   "cell_type": "markdown",
   "id": "b7191771",
   "metadata": {},
   "source": [
    "# Flatiron Health mBC: Data Wrangling Test Set\n",
    "\n",
    "**OBJECTIVE: Create a dataframe of relevant variables using test cohort patients which will be used to validate machine learning survival models.**\n",
    "\n",
    "**BACKGROUND: The 13 CSV Flatiron files will be cleaned in the exact same fashion for the test set patients as for the training set patients. For more information on the cleaning process refer to Notebook: Data Wrangling Training Set.**\n",
    "\n",
    "**OUTLINE:**\n",
    "1. **File cleaning for patients in training set**\n",
    "2. **Merge files to create master test dataframe** "
   ]
  },
  {
   "cell_type": "code",
   "execution_count": 1,
   "id": "9c90c659",
   "metadata": {},
   "outputs": [],
   "source": [
    "import numpy as np\n",
    "import pandas as pd\n",
    "import matplotlib.pyplot as plt\n",
    "import datetime as dt"
   ]
  },
  {
   "cell_type": "code",
   "execution_count": 2,
   "id": "201a9ed4",
   "metadata": {},
   "outputs": [],
   "source": [
    "# Function that returns number of rows and count of unique PatientIDs for a dataframe. \n",
    "def row_ID(dataframe):\n",
    "    row = dataframe.shape[0]\n",
    "    ID = dataframe['PatientID'].nunique()\n",
    "    return row, ID"
   ]
  },
  {
   "cell_type": "code",
   "execution_count": 3,
   "id": "af9a25cd",
   "metadata": {},
   "outputs": [],
   "source": [
    "#Import test IDs saved from Data Wrangling Training Set file. \n",
    "test_IDs = pd.read_csv('test_IDs.csv')"
   ]
  },
  {
   "cell_type": "code",
   "execution_count": 4,
   "id": "71962c71",
   "metadata": {},
   "outputs": [],
   "source": [
    "# Array of PatientIDs in training set.\n",
    "test_IDs = test_IDs['PatientID'].to_numpy()"
   ]
  },
  {
   "cell_type": "code",
   "execution_count": 5,
   "id": "ef7fc19f",
   "metadata": {},
   "outputs": [
    {
     "data": {
      "text/plain": [
       "6336"
      ]
     },
     "execution_count": 5,
     "metadata": {},
     "output_type": "execute_result"
    }
   ],
   "source": [
    "len(test_IDs)"
   ]
  },
  {
   "cell_type": "markdown",
   "id": "1c1a6bc6",
   "metadata": {},
   "source": [
    "## Part 1: Data wrangling\n",
    "\n",
    "**Relevant CSV files will be imported and processed. A file is considered processed when each row corresponds to a unique patient from the training set and each column is a relevant variable for mortality prognositication. The eligibility window for collecting variables is typically defined as -90 days and +30 days from index date. The index date is time of metastatic diagnosis. Plus 30 was selected as the upper bound of the eligibility window given that median time to start of first line treatment is about 30 days from metastatic diagnosis.** \n",
    "\n",
    "**The following CSV files from Flatiron will be cleaned:**\n",
    "1. **Demographics and Practice**\n",
    "2. **Enhanced_MetastaticBreast**\n",
    "3. **Enhanced_Mortality_V2**\n",
    "4. **MedicationAdministration**\n",
    "5. **Enhanced_MetBreastBiomarkers**\n",
    "6. **Insurance**\n",
    "7. **ECOG**\n",
    "8. **Vitals**\n",
    "9. **Labs**\n",
    "10. **Diagnosis and Enhanced_MetBreastSitesOfMet**\n",
    "11. **SocialDeeterminantsOfHealth**"
   ]
  },
  {
   "cell_type": "markdown",
   "id": "64c5bf05",
   "metadata": {},
   "source": [
    "### 1. Demographics"
   ]
  },
  {
   "cell_type": "code",
   "execution_count": 6,
   "id": "9c28d8ab",
   "metadata": {},
   "outputs": [],
   "source": [
    "demographics = pd.read_csv('Demographics.csv')"
   ]
  },
  {
   "cell_type": "code",
   "execution_count": 7,
   "id": "c6095e26",
   "metadata": {},
   "outputs": [],
   "source": [
    "demographics = demographics[demographics['PatientID'].isin(test_IDs)]"
   ]
  },
  {
   "cell_type": "code",
   "execution_count": 8,
   "id": "886b9b76",
   "metadata": {},
   "outputs": [
    {
     "data": {
      "text/plain": [
       "(6336, 6336)"
      ]
     },
     "execution_count": 8,
     "metadata": {},
     "output_type": "execute_result"
    }
   ],
   "source": [
    "row_ID(demographics)"
   ]
  },
  {
   "cell_type": "markdown",
   "id": "8d39d556",
   "metadata": {},
   "source": [
    "#### Race and Ethnicity"
   ]
  },
  {
   "cell_type": "code",
   "execution_count": 9,
   "id": "1794b65a",
   "metadata": {},
   "outputs": [],
   "source": [
    "# If race value is 'Hispanic or Latino', code as unknown, otherwise value unchanged.\n",
    "demographics['race'] = (\n",
    "    np.where(demographics['Race'] == 'Hispanic or Latino', 'unknown', demographics['Race'])\n",
    ")"
   ]
  },
  {
   "cell_type": "code",
   "execution_count": 10,
   "id": "2fa67113",
   "metadata": {},
   "outputs": [],
   "source": [
    "# Missing race value will be recoded as Unknown\n",
    "demographics['race'] = demographics['race'].fillna('unknown')"
   ]
  },
  {
   "cell_type": "code",
   "execution_count": 11,
   "id": "6373ae3f",
   "metadata": {},
   "outputs": [
    {
     "data": {
      "text/plain": [
       "6336"
      ]
     },
     "execution_count": 11,
     "metadata": {},
     "output_type": "execute_result"
    }
   ],
   "source": [
    "demographics['race'].value_counts().sum()"
   ]
  },
  {
   "cell_type": "code",
   "execution_count": 12,
   "id": "ae70f20d",
   "metadata": {},
   "outputs": [],
   "source": [
    "# If race value is equal to 'Hispanic or Latino', code ethnicity as 'Hispanic or Latino', otherwise unchanged. \n",
    "demographics['ethnicity'] = (\n",
    "    np.where(demographics['Race'] == 'Hispanic or Latino', 'hispanic_latino', demographics['Ethnicity'])\n",
    ")"
   ]
  },
  {
   "cell_type": "code",
   "execution_count": 13,
   "id": "dd0dd534",
   "metadata": {},
   "outputs": [],
   "source": [
    "demographics['ethnicity'] = demographics['ethnicity'].fillna('unknown')"
   ]
  },
  {
   "cell_type": "code",
   "execution_count": 14,
   "id": "78a0e8cf",
   "metadata": {},
   "outputs": [],
   "source": [
    "demographics['ethnicity'] = demographics['ethnicity'].replace({'Hispanic or Latino': 'hispanic_latino'})"
   ]
  },
  {
   "cell_type": "code",
   "execution_count": 15,
   "id": "5556a780",
   "metadata": {},
   "outputs": [],
   "source": [
    "demographics = demographics.drop(columns = ['Race', 'Ethnicity'])"
   ]
  },
  {
   "cell_type": "markdown",
   "id": "93e04f12",
   "metadata": {},
   "source": [
    "#### BirthYear"
   ]
  },
  {
   "cell_type": "code",
   "execution_count": 16,
   "id": "a7497ec8",
   "metadata": {},
   "outputs": [],
   "source": [
    "enhanced_met = pd.read_csv('Enhanced_MetastaticBreast.csv')"
   ]
  },
  {
   "cell_type": "code",
   "execution_count": 17,
   "id": "4286902e",
   "metadata": {},
   "outputs": [],
   "source": [
    "demographics = pd.merge(demographics, enhanced_met[['PatientID', 'MetDiagnosisDate']], on = 'PatientID')"
   ]
  },
  {
   "cell_type": "code",
   "execution_count": 18,
   "id": "626092ce",
   "metadata": {},
   "outputs": [],
   "source": [
    "demographics.loc[:, 'MetDiagnosisDate'] = pd.to_datetime(demographics['MetDiagnosisDate'])"
   ]
  },
  {
   "cell_type": "code",
   "execution_count": 19,
   "id": "452ef287",
   "metadata": {},
   "outputs": [],
   "source": [
    "demographics.loc[:, 'age'] = demographics['MetDiagnosisDate'].dt.year - demographics['BirthYear']"
   ]
  },
  {
   "cell_type": "code",
   "execution_count": 20,
   "id": "574ee0ce",
   "metadata": {},
   "outputs": [],
   "source": [
    "demographics = demographics.drop(columns = ['BirthYear', 'MetDiagnosisDate'])"
   ]
  },
  {
   "cell_type": "markdown",
   "id": "1d543837",
   "metadata": {},
   "source": [
    "#### PracticeType"
   ]
  },
  {
   "cell_type": "code",
   "execution_count": 21,
   "id": "2baa38e5",
   "metadata": {},
   "outputs": [],
   "source": [
    "practice = pd.read_csv('Practice.csv')"
   ]
  },
  {
   "cell_type": "code",
   "execution_count": 22,
   "id": "4595aad8",
   "metadata": {},
   "outputs": [],
   "source": [
    "practice = practice[practice['PatientID'].isin(test_IDs)]"
   ]
  },
  {
   "cell_type": "code",
   "execution_count": 23,
   "id": "aba7d07f",
   "metadata": {},
   "outputs": [
    {
     "data": {
      "text/plain": [
       "(6487, 6336)"
      ]
     },
     "execution_count": 23,
     "metadata": {},
     "output_type": "execute_result"
    }
   ],
   "source": [
    "row_ID(practice)"
   ]
  },
  {
   "cell_type": "code",
   "execution_count": 24,
   "id": "65757705",
   "metadata": {},
   "outputs": [],
   "source": [
    "practice_unique_count = (\n",
    "    practice.groupby('PatientID')['PracticeType'].agg('nunique')\n",
    "    .to_frame()\n",
    "    .reset_index()\n",
    "    .rename(columns = {'PracticeType': 'n_type'})\n",
    ")"
   ]
  },
  {
   "cell_type": "code",
   "execution_count": 25,
   "id": "bed8a003",
   "metadata": {},
   "outputs": [],
   "source": [
    "practice_n = pd.merge(practice, practice_unique_count, on = 'PatientID')"
   ]
  },
  {
   "cell_type": "code",
   "execution_count": 26,
   "id": "dd591a99",
   "metadata": {},
   "outputs": [],
   "source": [
    "practice_n['p_type'] = (\n",
    "    np.where(practice_n['n_type'] == 1, practice_n['PracticeType'], 'BOTH')\n",
    ")"
   ]
  },
  {
   "cell_type": "code",
   "execution_count": 27,
   "id": "e5cb15de",
   "metadata": {},
   "outputs": [],
   "source": [
    "practice_n = (\n",
    "    practice_n.drop_duplicates(subset = ['PatientID'], keep = 'first')\n",
    "    .filter(items = ['PatientID', 'p_type'])\n",
    ")"
   ]
  },
  {
   "cell_type": "code",
   "execution_count": 28,
   "id": "11836147",
   "metadata": {},
   "outputs": [],
   "source": [
    "demographics = pd.merge(demographics, practice_n, on = 'PatientID')"
   ]
  },
  {
   "cell_type": "markdown",
   "id": "74ac45fc",
   "metadata": {},
   "source": [
    "#### Gender"
   ]
  },
  {
   "cell_type": "code",
   "execution_count": 29,
   "id": "7e6b06a6",
   "metadata": {},
   "outputs": [],
   "source": [
    "# Impute F as unknown given most common gender. \n",
    "demographics['Gender'] = demographics['Gender'].fillna('F')"
   ]
  },
  {
   "cell_type": "code",
   "execution_count": 30,
   "id": "883f9261",
   "metadata": {},
   "outputs": [],
   "source": [
    "demographics = demographics.rename(columns = {'Gender': 'gender'})"
   ]
  },
  {
   "cell_type": "markdown",
   "id": "1e16167c",
   "metadata": {},
   "source": [
    "#### State"
   ]
  },
  {
   "cell_type": "code",
   "execution_count": 31,
   "id": "1b36625c",
   "metadata": {},
   "outputs": [],
   "source": [
    "# Group states into Census-Bureau regions  \n",
    "state_dict = { \n",
    "    'ME': 'northeast', \n",
    "    'NH': 'northeast',\n",
    "    'VT': 'northeast', \n",
    "    'MA': 'northeast',\n",
    "    'CT': 'northeast',\n",
    "    'RI': 'northeast',  \n",
    "    'NY': 'northeast', \n",
    "    'NJ': 'northeast', \n",
    "    'PA': 'northeast', \n",
    "    'IL': 'midwest', \n",
    "    'IN': 'midwest', \n",
    "    'MI': 'midwest', \n",
    "    'OH': 'midwest', \n",
    "    'WI': 'midwest',\n",
    "    'IA': 'midwest',\n",
    "    'KS': 'midwest',\n",
    "    'MN': 'midwest',\n",
    "    'MO': 'midwest', \n",
    "    'NE': 'midwest',\n",
    "    'ND': 'midwest',\n",
    "    'SD': 'midwest',\n",
    "    'DE': 'south',\n",
    "    'FL': 'south',\n",
    "    'GA': 'south',\n",
    "    'MD': 'south',\n",
    "    'NC': 'south', \n",
    "    'SC': 'south',\n",
    "    'VA': 'south',\n",
    "    'DC': 'south',\n",
    "    'WV': 'south',\n",
    "    'AL': 'south',\n",
    "    'KY': 'south',\n",
    "    'MS': 'south',\n",
    "    'TN': 'south',\n",
    "    'AR': 'south',\n",
    "    'LA': 'south',\n",
    "    'OK': 'south',\n",
    "    'TX': 'south',\n",
    "    'AZ': 'west',\n",
    "    'CO': 'west',\n",
    "    'ID': 'west',\n",
    "    'MT': 'west',\n",
    "    'NV': 'west',\n",
    "    'NM': 'west',\n",
    "    'UT': 'west',\n",
    "    'WY': 'west',\n",
    "    'AK': 'west',\n",
    "    'CA': 'west',\n",
    "    'HI': 'west',\n",
    "    'OR': 'west',\n",
    "    'WA': 'west',\n",
    "    'PR': 'unknown'\n",
    "}\n",
    "\n",
    "demographics['region'] = demographics['State'].map(state_dict)"
   ]
  },
  {
   "cell_type": "code",
   "execution_count": 32,
   "id": "6738478d",
   "metadata": {},
   "outputs": [],
   "source": [
    "demographics['region'] = demographics['region'].fillna('unknown')"
   ]
  },
  {
   "cell_type": "code",
   "execution_count": 33,
   "id": "234fa192",
   "metadata": {},
   "outputs": [
    {
     "data": {
      "text/plain": [
       "6336"
      ]
     },
     "execution_count": 33,
     "metadata": {},
     "output_type": "execute_result"
    }
   ],
   "source": [
    "demographics['region'].value_counts(dropna = False).sum()"
   ]
  },
  {
   "cell_type": "code",
   "execution_count": 34,
   "id": "5f85baf7",
   "metadata": {},
   "outputs": [],
   "source": [
    "demographics = demographics.drop(columns = ['State'])"
   ]
  },
  {
   "cell_type": "code",
   "execution_count": 35,
   "id": "0ac0c600",
   "metadata": {},
   "outputs": [
    {
     "data": {
      "text/html": [
       "<div>\n",
       "<style scoped>\n",
       "    .dataframe tbody tr th:only-of-type {\n",
       "        vertical-align: middle;\n",
       "    }\n",
       "\n",
       "    .dataframe tbody tr th {\n",
       "        vertical-align: top;\n",
       "    }\n",
       "\n",
       "    .dataframe thead th {\n",
       "        text-align: right;\n",
       "    }\n",
       "</style>\n",
       "<table border=\"1\" class=\"dataframe\">\n",
       "  <thead>\n",
       "    <tr style=\"text-align: right;\">\n",
       "      <th></th>\n",
       "      <th>PatientID</th>\n",
       "      <th>gender</th>\n",
       "      <th>race</th>\n",
       "      <th>ethnicity</th>\n",
       "      <th>age</th>\n",
       "      <th>p_type</th>\n",
       "      <th>region</th>\n",
       "    </tr>\n",
       "  </thead>\n",
       "  <tbody>\n",
       "    <tr>\n",
       "      <th>4928</th>\n",
       "      <td>F13565D0D9CA7</td>\n",
       "      <td>F</td>\n",
       "      <td>White</td>\n",
       "      <td>hispanic_latino</td>\n",
       "      <td>46</td>\n",
       "      <td>COMMUNITY</td>\n",
       "      <td>south</td>\n",
       "    </tr>\n",
       "    <tr>\n",
       "      <th>2166</th>\n",
       "      <td>F4F061E15693E</td>\n",
       "      <td>F</td>\n",
       "      <td>White</td>\n",
       "      <td>Not Hispanic or Latino</td>\n",
       "      <td>61</td>\n",
       "      <td>COMMUNITY</td>\n",
       "      <td>south</td>\n",
       "    </tr>\n",
       "    <tr>\n",
       "      <th>5872</th>\n",
       "      <td>FFAB9AEB2BE90</td>\n",
       "      <td>F</td>\n",
       "      <td>White</td>\n",
       "      <td>Not Hispanic or Latino</td>\n",
       "      <td>64</td>\n",
       "      <td>ACADEMIC</td>\n",
       "      <td>unknown</td>\n",
       "    </tr>\n",
       "    <tr>\n",
       "      <th>4897</th>\n",
       "      <td>F1485FD336E69</td>\n",
       "      <td>F</td>\n",
       "      <td>White</td>\n",
       "      <td>Not Hispanic or Latino</td>\n",
       "      <td>55</td>\n",
       "      <td>COMMUNITY</td>\n",
       "      <td>west</td>\n",
       "    </tr>\n",
       "    <tr>\n",
       "      <th>2482</th>\n",
       "      <td>FFB59F44CE061</td>\n",
       "      <td>F</td>\n",
       "      <td>White</td>\n",
       "      <td>Not Hispanic or Latino</td>\n",
       "      <td>51</td>\n",
       "      <td>ACADEMIC</td>\n",
       "      <td>unknown</td>\n",
       "    </tr>\n",
       "  </tbody>\n",
       "</table>\n",
       "</div>"
      ],
      "text/plain": [
       "          PatientID gender   race               ethnicity  age     p_type  \\\n",
       "4928  F13565D0D9CA7      F  White         hispanic_latino   46  COMMUNITY   \n",
       "2166  F4F061E15693E      F  White  Not Hispanic or Latino   61  COMMUNITY   \n",
       "5872  FFAB9AEB2BE90      F  White  Not Hispanic or Latino   64   ACADEMIC   \n",
       "4897  F1485FD336E69      F  White  Not Hispanic or Latino   55  COMMUNITY   \n",
       "2482  FFB59F44CE061      F  White  Not Hispanic or Latino   51   ACADEMIC   \n",
       "\n",
       "       region  \n",
       "4928    south  \n",
       "2166    south  \n",
       "5872  unknown  \n",
       "4897     west  \n",
       "2482  unknown  "
      ]
     },
     "execution_count": 35,
     "metadata": {},
     "output_type": "execute_result"
    }
   ],
   "source": [
    "# Final training demographics table.\n",
    "demographics.sample(5)"
   ]
  },
  {
   "cell_type": "code",
   "execution_count": 36,
   "id": "b78f8d1e",
   "metadata": {},
   "outputs": [
    {
     "name": "stdout",
     "output_type": "stream",
     "text": [
      "Variable                Type         Data/Info\n",
      "----------------------------------------------\n",
      "demographics            DataFrame              PatientID gende<...>\\n[6336 rows x 7 columns]\n",
      "enhanced_met            DataFrame               PatientID Diag<...>n[31677 rows x 4 columns]\n",
      "practice                DataFrame               PatientID     <...>\\n[6487 rows x 4 columns]\n",
      "practice_n              DataFrame              PatientID     p<...>\\n[6336 rows x 2 columns]\n",
      "practice_unique_count   DataFrame              PatientID  n_ty<...>\\n[6336 rows x 2 columns]\n"
     ]
    }
   ],
   "source": [
    "%whos DataFrame"
   ]
  },
  {
   "cell_type": "code",
   "execution_count": 37,
   "id": "33b82f53",
   "metadata": {},
   "outputs": [],
   "source": [
    "# Keep demographics and enhanced_met\n",
    "del practice\n",
    "del practice_n\n",
    "del practice_unique_count"
   ]
  },
  {
   "cell_type": "markdown",
   "id": "d2cbf865",
   "metadata": {},
   "source": [
    "### 2. Enhanced_MetastaticBreast"
   ]
  },
  {
   "cell_type": "code",
   "execution_count": 38,
   "id": "7894a19d",
   "metadata": {},
   "outputs": [],
   "source": [
    "enhanced_met = enhanced_met[enhanced_met['PatientID'].isin(test_IDs)]"
   ]
  },
  {
   "cell_type": "code",
   "execution_count": 39,
   "id": "cd30f8d0",
   "metadata": {},
   "outputs": [
    {
     "data": {
      "text/plain": [
       "(6336, 6336)"
      ]
     },
     "execution_count": 39,
     "metadata": {},
     "output_type": "execute_result"
    }
   ],
   "source": [
    "row_ID(enhanced_met)"
   ]
  },
  {
   "cell_type": "markdown",
   "id": "cb25aaac",
   "metadata": {},
   "source": [
    "#### GroupStage "
   ]
  },
  {
   "cell_type": "code",
   "execution_count": 40,
   "id": "82180047",
   "metadata": {},
   "outputs": [],
   "source": [
    "# Dictionary for regrouping stages\n",
    "stage_dict = { \n",
    "    '0': '0',\n",
    "    'I': 'I',\n",
    "    'II': 'II',\n",
    "    'III': 'III',\n",
    "    'IV': 'IV',\n",
    "    'Not documented': 'unknown'\n",
    "}\n",
    "\n",
    "enhanced_met['stage'] = enhanced_met['GroupStage'].map(stage_dict)"
   ]
  },
  {
   "cell_type": "code",
   "execution_count": 41,
   "id": "d2c92eee",
   "metadata": {},
   "outputs": [],
   "source": [
    "enhanced_met = enhanced_met.drop(columns = ['GroupStage'])"
   ]
  },
  {
   "cell_type": "markdown",
   "id": "12e6618b",
   "metadata": {},
   "source": [
    "#### MetDiagnosisDate"
   ]
  },
  {
   "cell_type": "code",
   "execution_count": 42,
   "id": "11bc3aa7",
   "metadata": {},
   "outputs": [],
   "source": [
    "enhanced_met = enhanced_met.rename(columns = {'MetDiagnosisDate': 'met_date'})"
   ]
  },
  {
   "cell_type": "code",
   "execution_count": 43,
   "id": "87c671e8",
   "metadata": {},
   "outputs": [],
   "source": [
    "enhanced_met.loc[:, 'met_date'] = pd.to_datetime(enhanced_met['met_date'])"
   ]
  },
  {
   "cell_type": "code",
   "execution_count": 44,
   "id": "f6a63fcf",
   "metadata": {},
   "outputs": [],
   "source": [
    "enhanced_met.loc[:, 'met_year'] = enhanced_met['met_date'].dt.year"
   ]
  },
  {
   "cell_type": "markdown",
   "id": "fe00ee87",
   "metadata": {},
   "source": [
    "#### DiagnosisDate"
   ]
  },
  {
   "cell_type": "code",
   "execution_count": 45,
   "id": "09e2427d",
   "metadata": {},
   "outputs": [],
   "source": [
    "enhanced_met = enhanced_met.rename(columns = {'DiagnosisDate': 'diagnosis_date'})"
   ]
  },
  {
   "cell_type": "code",
   "execution_count": 46,
   "id": "670a8e50",
   "metadata": {},
   "outputs": [],
   "source": [
    "# Missing diagnosis_date will be replaced with met_date; other dates will be left untouched. \n",
    "enhanced_met['diagnosis_date'] = (\n",
    "    np.where(enhanced_met['diagnosis_date'].isna(), enhanced_met['met_date'], enhanced_met['diagnosis_date'])\n",
    ")"
   ]
  },
  {
   "cell_type": "code",
   "execution_count": 47,
   "id": "615dfa0d",
   "metadata": {},
   "outputs": [],
   "source": [
    "enhanced_met['diagnosis_date'] = pd.to_datetime(enhanced_met['diagnosis_date'])"
   ]
  },
  {
   "cell_type": "markdown",
   "id": "1141ebdc",
   "metadata": {},
   "source": [
    "#### Time from diagnosis date to metastatic date"
   ]
  },
  {
   "cell_type": "code",
   "execution_count": 48,
   "id": "1f13fad0",
   "metadata": {},
   "outputs": [],
   "source": [
    "enhanced_met.loc[:, 'delta_met_diagnosis'] = (enhanced_met['met_date'] - enhanced_met['diagnosis_date']).dt.days"
   ]
  },
  {
   "cell_type": "code",
   "execution_count": 49,
   "id": "1ae45f23",
   "metadata": {},
   "outputs": [
    {
     "data": {
      "text/html": [
       "<div>\n",
       "<style scoped>\n",
       "    .dataframe tbody tr th:only-of-type {\n",
       "        vertical-align: middle;\n",
       "    }\n",
       "\n",
       "    .dataframe tbody tr th {\n",
       "        vertical-align: top;\n",
       "    }\n",
       "\n",
       "    .dataframe thead th {\n",
       "        text-align: right;\n",
       "    }\n",
       "</style>\n",
       "<table border=\"1\" class=\"dataframe\">\n",
       "  <thead>\n",
       "    <tr style=\"text-align: right;\">\n",
       "      <th></th>\n",
       "      <th>PatientID</th>\n",
       "      <th>diagnosis_date</th>\n",
       "      <th>met_date</th>\n",
       "      <th>stage</th>\n",
       "      <th>met_year</th>\n",
       "      <th>delta_met_diagnosis</th>\n",
       "    </tr>\n",
       "  </thead>\n",
       "  <tbody>\n",
       "    <tr>\n",
       "      <th>27298</th>\n",
       "      <td>F9FE279252195</td>\n",
       "      <td>2005-01-01</td>\n",
       "      <td>2019-06-06</td>\n",
       "      <td>II</td>\n",
       "      <td>2019</td>\n",
       "      <td>5269</td>\n",
       "    </tr>\n",
       "    <tr>\n",
       "      <th>2380</th>\n",
       "      <td>F9A9C99732E32</td>\n",
       "      <td>2020-05-15</td>\n",
       "      <td>2021-10-25</td>\n",
       "      <td>II</td>\n",
       "      <td>2021</td>\n",
       "      <td>528</td>\n",
       "    </tr>\n",
       "    <tr>\n",
       "      <th>7006</th>\n",
       "      <td>F682568C0DDD7</td>\n",
       "      <td>2018-12-03</td>\n",
       "      <td>2018-12-03</td>\n",
       "      <td>IV</td>\n",
       "      <td>2018</td>\n",
       "      <td>0</td>\n",
       "    </tr>\n",
       "    <tr>\n",
       "      <th>13821</th>\n",
       "      <td>FF25BBF0DF37E</td>\n",
       "      <td>2015-01-21</td>\n",
       "      <td>2015-01-21</td>\n",
       "      <td>IV</td>\n",
       "      <td>2015</td>\n",
       "      <td>0</td>\n",
       "    </tr>\n",
       "    <tr>\n",
       "      <th>8095</th>\n",
       "      <td>FA5EF68406F80</td>\n",
       "      <td>2014-01-17</td>\n",
       "      <td>2015-05-01</td>\n",
       "      <td>III</td>\n",
       "      <td>2015</td>\n",
       "      <td>469</td>\n",
       "    </tr>\n",
       "  </tbody>\n",
       "</table>\n",
       "</div>"
      ],
      "text/plain": [
       "           PatientID diagnosis_date   met_date stage  met_year  \\\n",
       "27298  F9FE279252195     2005-01-01 2019-06-06    II      2019   \n",
       "2380   F9A9C99732E32     2020-05-15 2021-10-25    II      2021   \n",
       "7006   F682568C0DDD7     2018-12-03 2018-12-03    IV      2018   \n",
       "13821  FF25BBF0DF37E     2015-01-21 2015-01-21    IV      2015   \n",
       "8095   FA5EF68406F80     2014-01-17 2015-05-01   III      2015   \n",
       "\n",
       "       delta_met_diagnosis  \n",
       "27298                 5269  \n",
       "2380                   528  \n",
       "7006                     0  \n",
       "13821                    0  \n",
       "8095                   469  "
      ]
     },
     "execution_count": 49,
     "metadata": {},
     "output_type": "execute_result"
    }
   ],
   "source": [
    "# Final enhanced_met dataframe\n",
    "enhanced_met.sample(5)"
   ]
  },
  {
   "cell_type": "code",
   "execution_count": 50,
   "id": "fe73dab5",
   "metadata": {},
   "outputs": [
    {
     "name": "stdout",
     "output_type": "stream",
     "text": [
      "Variable       Type         Data/Info\n",
      "-------------------------------------\n",
      "demographics   DataFrame              PatientID gende<...>\\n[6336 rows x 7 columns]\n",
      "enhanced_met   DataFrame               PatientID diag<...>\\n[6336 rows x 6 columns]\n"
     ]
    }
   ],
   "source": [
    "%whos DataFrame"
   ]
  },
  {
   "cell_type": "markdown",
   "id": "19c9f73e",
   "metadata": {},
   "source": [
    "### 3. Enhanced_Mortality_V2"
   ]
  },
  {
   "cell_type": "code",
   "execution_count": 51,
   "id": "973e747e",
   "metadata": {},
   "outputs": [],
   "source": [
    "mortality = pd.read_csv('Enhanced_Mortality_V2.csv')"
   ]
  },
  {
   "cell_type": "code",
   "execution_count": 52,
   "id": "e12c795b",
   "metadata": {},
   "outputs": [],
   "source": [
    "mortality = mortality[mortality['PatientID'].isin(test_IDs)]"
   ]
  },
  {
   "cell_type": "code",
   "execution_count": 53,
   "id": "0429ea51",
   "metadata": {},
   "outputs": [
    {
     "data": {
      "text/plain": [
       "(3693, 3693)"
      ]
     },
     "execution_count": 53,
     "metadata": {},
     "output_type": "execute_result"
    }
   ],
   "source": [
    "row_ID(mortality)"
   ]
  },
  {
   "cell_type": "code",
   "execution_count": 54,
   "id": "449231d5",
   "metadata": {},
   "outputs": [],
   "source": [
    "mortality = mortality.rename(columns = {'DateOfDeath': 'death_date'})"
   ]
  },
  {
   "cell_type": "code",
   "execution_count": 55,
   "id": "a0c3e1f2",
   "metadata": {},
   "outputs": [],
   "source": [
    "# For patients with year granularity, impute middle of the year (ie., July 1)\n",
    "mortality['death_date'] = (\n",
    "    np.where(mortality['death_date'].str.len() == 4, mortality['death_date'] + '-07-01', mortality['death_date'])\n",
    ")"
   ]
  },
  {
   "cell_type": "code",
   "execution_count": 56,
   "id": "91a8df00",
   "metadata": {},
   "outputs": [],
   "source": [
    "# For patients with month granularity, impute 15th of the month.\n",
    "mortality['death_date'] = (\n",
    "    np.where(mortality['death_date'].str.len() == 7, mortality['death_date'] + '-15', mortality['death_date'])\n",
    ")"
   ]
  },
  {
   "cell_type": "code",
   "execution_count": 57,
   "id": "de5fd853",
   "metadata": {},
   "outputs": [],
   "source": [
    "mortality['death_date'] = pd.to_datetime(mortality['death_date'])"
   ]
  },
  {
   "cell_type": "markdown",
   "id": "d556cf2f",
   "metadata": {},
   "source": [
    "#### Censoring"
   ]
  },
  {
   "cell_type": "markdown",
   "id": "8ea33063",
   "metadata": {},
   "source": [
    "**For patients for whom a date of death is not known, the censor date can be defined either as the data cutoff date or as the last confirmed activity date. The last confirmed activity date is broadly defined as the last date at which there is evidence in the EHR that a patient is alive. Evidence of a record in at least one of the items listed below qualifies as patient-level confirmed activity:**\n",
    "* Visit: VisitDate\n",
    "* Telemedicine: VisitDate\n",
    "* Enhanced_MetBreast_Orals: StartDate or EndDate\n",
    "* Enhanced_MetBreastBiomarkers: SpecimenCollectedDate\n",
    "* Enhanced_MetBreastProgression: LastClinicNoteDate or ProgressionDate\n",
    "* Enhanced_MetBreastSitesOfMet: DateOfMetastasis"
   ]
  },
  {
   "cell_type": "code",
   "execution_count": 58,
   "id": "cc8f9297",
   "metadata": {},
   "outputs": [],
   "source": [
    "visit = pd.read_csv('Visit.csv')\n",
    "telemedicine = pd.read_csv('Telemedicine.csv')\n",
    "orals = pd.read_csv('Enhanced_MetBreast_Orals.csv')\n",
    "biomarkers = pd.read_csv('Enhanced_MetBreastBiomarkers.csv')\n",
    "progression = pd.read_csv('Enhanced_MetBreastProgression.csv')\n",
    "mets = pd.read_csv('Enhanced_MetBreastSitesOfMet.csv')"
   ]
  },
  {
   "cell_type": "markdown",
   "id": "35c2a3a5",
   "metadata": {},
   "source": [
    "##### Visit and Telemedicine"
   ]
  },
  {
   "cell_type": "code",
   "execution_count": 59,
   "id": "dcf455d8",
   "metadata": {},
   "outputs": [
    {
     "data": {
      "text/plain": [
       "(1936611, 7)"
      ]
     },
     "execution_count": 59,
     "metadata": {},
     "output_type": "execute_result"
    }
   ],
   "source": [
    "visit.shape"
   ]
  },
  {
   "cell_type": "code",
   "execution_count": 60,
   "id": "172b440e",
   "metadata": {},
   "outputs": [
    {
     "data": {
      "text/plain": [
       "(23412, 3)"
      ]
     },
     "execution_count": 60,
     "metadata": {},
     "output_type": "execute_result"
    }
   ],
   "source": [
    "telemedicine.shape"
   ]
  },
  {
   "cell_type": "code",
   "execution_count": 61,
   "id": "c404d2fb",
   "metadata": {},
   "outputs": [],
   "source": [
    "visit_tele = (\n",
    "    visit[['PatientID', 'VisitDate']]\n",
    "    .append(telemedicine[['PatientID', 'VisitDate']])\n",
    ") "
   ]
  },
  {
   "cell_type": "code",
   "execution_count": 62,
   "id": "b82d627d",
   "metadata": {},
   "outputs": [
    {
     "data": {
      "text/plain": [
       "(1960023, 2)"
      ]
     },
     "execution_count": 62,
     "metadata": {},
     "output_type": "execute_result"
    }
   ],
   "source": [
    "visit_tele.shape"
   ]
  },
  {
   "cell_type": "code",
   "execution_count": 63,
   "id": "2ddb867a",
   "metadata": {},
   "outputs": [],
   "source": [
    "visit_tele.loc[:,'VisitDate'] = pd.to_datetime(visit_tele['VisitDate'])"
   ]
  },
  {
   "cell_type": "code",
   "execution_count": 64,
   "id": "21955761",
   "metadata": {},
   "outputs": [],
   "source": [
    "# Select max VisitDate from combined Visit and Telemedicine table.\n",
    "visit_tele_max = (\n",
    "    visit_tele\n",
    "    [visit_tele['PatientID'].isin(test_IDs)]\n",
    "    .groupby('PatientID')['VisitDate'].max()\n",
    "    .to_frame(name = 'visit_max')\n",
    "    .reset_index()\n",
    ")"
   ]
  },
  {
   "cell_type": "code",
   "execution_count": 65,
   "id": "4970a355",
   "metadata": {},
   "outputs": [
    {
     "data": {
      "text/plain": [
       "(6336, 6336)"
      ]
     },
     "execution_count": 65,
     "metadata": {},
     "output_type": "execute_result"
    }
   ],
   "source": [
    "row_ID(visit_tele_max)"
   ]
  },
  {
   "cell_type": "markdown",
   "id": "594cbca2",
   "metadata": {},
   "source": [
    "##### Orals"
   ]
  },
  {
   "cell_type": "code",
   "execution_count": 66,
   "id": "5cb8cff5",
   "metadata": {},
   "outputs": [],
   "source": [
    "orals = orals[orals['PatientID'].isin(test_IDs)]"
   ]
  },
  {
   "cell_type": "code",
   "execution_count": 67,
   "id": "b58ecae1",
   "metadata": {},
   "outputs": [],
   "source": [
    "orals.loc[:, 'StartDate'] = pd.to_datetime(orals['StartDate'])"
   ]
  },
  {
   "cell_type": "code",
   "execution_count": 68,
   "id": "2de5cfcc",
   "metadata": {},
   "outputs": [],
   "source": [
    "orals.loc[:, 'EndDate'] = pd.to_datetime(orals['EndDate'])"
   ]
  },
  {
   "cell_type": "code",
   "execution_count": 69,
   "id": "ab6560db",
   "metadata": {},
   "outputs": [],
   "source": [
    "orals_max = (\n",
    "    orals\n",
    "    .assign(max_date = orals[['StartDate', 'EndDate']].max(axis = 1))\n",
    "    .groupby('PatientID')['max_date'].max()\n",
    "    .to_frame(name = 'orals_max')\n",
    "    .reset_index()\n",
    ")"
   ]
  },
  {
   "cell_type": "markdown",
   "id": "35d816c4",
   "metadata": {},
   "source": [
    "##### Biomarkers"
   ]
  },
  {
   "cell_type": "code",
   "execution_count": 70,
   "id": "66b6bcd0",
   "metadata": {},
   "outputs": [],
   "source": [
    "biomarkers = biomarkers[biomarkers['PatientID'].isin(test_IDs)]"
   ]
  },
  {
   "cell_type": "code",
   "execution_count": 71,
   "id": "6c17693c",
   "metadata": {},
   "outputs": [],
   "source": [
    "biomarkers.loc[:, 'SpecimenCollectedDate'] = pd.to_datetime(biomarkers['SpecimenCollectedDate'])"
   ]
  },
  {
   "cell_type": "code",
   "execution_count": 72,
   "id": "a0047364",
   "metadata": {},
   "outputs": [],
   "source": [
    "biomarkers_max = (\n",
    "    biomarkers\n",
    "    .groupby('PatientID')['SpecimenCollectedDate'].max()\n",
    "    .to_frame(name = 'biomarkers_max')\n",
    "    .reset_index()\n",
    ")"
   ]
  },
  {
   "cell_type": "markdown",
   "id": "823fa30d",
   "metadata": {},
   "source": [
    "##### Progression"
   ]
  },
  {
   "cell_type": "code",
   "execution_count": 73,
   "id": "724de8b6",
   "metadata": {},
   "outputs": [],
   "source": [
    "progression = progression[progression['PatientID'].isin(test_IDs)]"
   ]
  },
  {
   "cell_type": "code",
   "execution_count": 74,
   "id": "a705ef64",
   "metadata": {},
   "outputs": [],
   "source": [
    "progression.loc[:, 'ProgressionDate'] = pd.to_datetime(progression['ProgressionDate'])"
   ]
  },
  {
   "cell_type": "code",
   "execution_count": 75,
   "id": "0477aec6",
   "metadata": {},
   "outputs": [],
   "source": [
    "progression.loc[:, 'LastClinicNoteDate'] = pd.to_datetime(progression['LastClinicNoteDate'])"
   ]
  },
  {
   "cell_type": "code",
   "execution_count": 76,
   "id": "60d0c78b",
   "metadata": {},
   "outputs": [],
   "source": [
    "progression_max = (\n",
    "    progression\n",
    "    .assign(max_date = progression[['ProgressionDate', 'LastClinicNoteDate']].max(axis = 1))\n",
    "    .groupby('PatientID')['max_date'].max()\n",
    "    .to_frame(name = 'progression_max')\n",
    "    .reset_index()\n",
    ")"
   ]
  },
  {
   "cell_type": "markdown",
   "id": "ebab8061",
   "metadata": {},
   "source": [
    "##### Sites of metastasis"
   ]
  },
  {
   "cell_type": "code",
   "execution_count": 77,
   "id": "de6aef09",
   "metadata": {},
   "outputs": [],
   "source": [
    "mets = mets[mets['PatientID'].isin(test_IDs)]"
   ]
  },
  {
   "cell_type": "code",
   "execution_count": 78,
   "id": "857e3b8c",
   "metadata": {},
   "outputs": [],
   "source": [
    "mets.loc[:, 'DateOfMetastasis'] = pd.to_datetime(mets['DateOfMetastasis'])"
   ]
  },
  {
   "cell_type": "code",
   "execution_count": 79,
   "id": "78189081",
   "metadata": {},
   "outputs": [],
   "source": [
    "mets_max = (\n",
    "    mets\n",
    "    .groupby('PatientID')['DateOfMetastasis'].max()\n",
    "    .to_frame(name = 'mets_max')\n",
    "    .reset_index()\n",
    ")"
   ]
  },
  {
   "cell_type": "markdown",
   "id": "3d7455a5",
   "metadata": {},
   "source": [
    "##### Max date merge"
   ]
  },
  {
   "cell_type": "code",
   "execution_count": 80,
   "id": "2f94ab29",
   "metadata": {},
   "outputs": [],
   "source": [
    "last_activity = pd.merge(visit_tele_max, orals_max, on = 'PatientID', how = 'outer')"
   ]
  },
  {
   "cell_type": "code",
   "execution_count": 81,
   "id": "3cd11fb8",
   "metadata": {},
   "outputs": [],
   "source": [
    "last_activity = pd.merge(last_activity, biomarkers_max, on = 'PatientID', how = 'outer')"
   ]
  },
  {
   "cell_type": "code",
   "execution_count": 82,
   "id": "0094ab94",
   "metadata": {},
   "outputs": [],
   "source": [
    "last_activity = pd.merge(last_activity, progression_max, on = 'PatientID', how = 'outer')"
   ]
  },
  {
   "cell_type": "code",
   "execution_count": 83,
   "id": "3f76f60a",
   "metadata": {},
   "outputs": [],
   "source": [
    "last_activity = pd.merge(last_activity, mets_max, on = 'PatientID', how = 'outer')"
   ]
  },
  {
   "cell_type": "code",
   "execution_count": 84,
   "id": "51fff964",
   "metadata": {},
   "outputs": [
    {
     "data": {
      "text/plain": [
       "(6336, 6336)"
      ]
     },
     "execution_count": 84,
     "metadata": {},
     "output_type": "execute_result"
    }
   ],
   "source": [
    "row_ID(last_activity)"
   ]
  },
  {
   "cell_type": "code",
   "execution_count": 85,
   "id": "fb1311aa",
   "metadata": {},
   "outputs": [],
   "source": [
    "# Find max of each row. \n",
    "last_activity = (\n",
    "    last_activity\n",
    "    .assign(last_activity = last_activity[['visit_max', 'orals_max', 'biomarkers_max', 'progression_max', 'mets_max']].max(axis = 1))\n",
    "    .filter(items = ['PatientID', 'last_activity'])\n",
    ")"
   ]
  },
  {
   "cell_type": "code",
   "execution_count": 86,
   "id": "c0131e3e",
   "metadata": {},
   "outputs": [
    {
     "data": {
      "text/plain": [
       "True"
      ]
     },
     "execution_count": 86,
     "metadata": {},
     "output_type": "execute_result"
    }
   ],
   "source": [
    "len(last_activity) == len(test_IDs)"
   ]
  },
  {
   "cell_type": "code",
   "execution_count": 87,
   "id": "fb198ca0",
   "metadata": {},
   "outputs": [
    {
     "data": {
      "text/plain": [
       "0"
      ]
     },
     "execution_count": 87,
     "metadata": {},
     "output_type": "execute_result"
    }
   ],
   "source": [
    "last_activity['last_activity'].isna().sum()"
   ]
  },
  {
   "cell_type": "code",
   "execution_count": 88,
   "id": "34236fc6",
   "metadata": {},
   "outputs": [],
   "source": [
    "# Append missing training IDs.\n",
    "mortality = (\n",
    "    mortality\n",
    "    .append(\n",
    "        pd.Series(test_IDs)[~pd.Series(test_IDs).isin(mortality['PatientID'])].to_frame(name = 'PatientID'), \n",
    "        sort = False\n",
    "    )\n",
    ")"
   ]
  },
  {
   "cell_type": "code",
   "execution_count": 89,
   "id": "49c597eb",
   "metadata": {},
   "outputs": [
    {
     "data": {
      "text/plain": [
       "(6336, 6336)"
      ]
     },
     "execution_count": 89,
     "metadata": {},
     "output_type": "execute_result"
    }
   ],
   "source": [
    "row_ID(mortality)"
   ]
  },
  {
   "cell_type": "code",
   "execution_count": 90,
   "id": "9caf7ab0",
   "metadata": {},
   "outputs": [],
   "source": [
    "mortality = pd.merge(mortality, enhanced_met[['PatientID', 'met_date']], on = 'PatientID')"
   ]
  },
  {
   "cell_type": "code",
   "execution_count": 91,
   "id": "e2b4ea0a",
   "metadata": {},
   "outputs": [],
   "source": [
    "mortality = pd.merge(mortality, last_activity, on = 'PatientID')"
   ]
  },
  {
   "cell_type": "code",
   "execution_count": 92,
   "id": "41ef2f74",
   "metadata": {},
   "outputs": [
    {
     "data": {
      "text/plain": [
       "(6336, 6336)"
      ]
     },
     "execution_count": 92,
     "metadata": {},
     "output_type": "execute_result"
    }
   ],
   "source": [
    "row_ID(mortality)"
   ]
  },
  {
   "cell_type": "code",
   "execution_count": 93,
   "id": "e92c25ff",
   "metadata": {},
   "outputs": [],
   "source": [
    "mortality.loc[:, 'death_status'] = np.where(mortality['death_date'].isna(), 0, 1)"
   ]
  },
  {
   "cell_type": "code",
   "execution_count": 94,
   "id": "1f970224",
   "metadata": {},
   "outputs": [],
   "source": [
    "# timerisk_activity is time from metastatic diagnosis to death or last activity if no death date.\n",
    "mortality.loc[:, 'timerisk_activity'] = (\n",
    "    np.where(mortality['death_date'].isna(),\n",
    "             (mortality['last_activity'] - mortality['met_date']).dt.days,\n",
    "             (mortality['death_date'] - mortality['met_date']).dt.days)\n",
    ")"
   ]
  },
  {
   "cell_type": "code",
   "execution_count": 95,
   "id": "1cccfdbf",
   "metadata": {},
   "outputs": [],
   "source": [
    "# If timerisk_activity is less than 0, set to 0 otherwise remains unchanged. \n",
    "mortality['timerisk_activity'] = np.where(mortality['timerisk_activity'] < 0, 0, mortality['timerisk_activity'])"
   ]
  },
  {
   "cell_type": "code",
   "execution_count": 96,
   "id": "90a70141",
   "metadata": {},
   "outputs": [
    {
     "data": {
      "text/html": [
       "<div>\n",
       "<style scoped>\n",
       "    .dataframe tbody tr th:only-of-type {\n",
       "        vertical-align: middle;\n",
       "    }\n",
       "\n",
       "    .dataframe tbody tr th {\n",
       "        vertical-align: top;\n",
       "    }\n",
       "\n",
       "    .dataframe thead th {\n",
       "        text-align: right;\n",
       "    }\n",
       "</style>\n",
       "<table border=\"1\" class=\"dataframe\">\n",
       "  <thead>\n",
       "    <tr style=\"text-align: right;\">\n",
       "      <th></th>\n",
       "      <th>PatientID</th>\n",
       "      <th>death_date</th>\n",
       "      <th>met_date</th>\n",
       "      <th>last_activity</th>\n",
       "      <th>death_status</th>\n",
       "      <th>timerisk_activity</th>\n",
       "    </tr>\n",
       "  </thead>\n",
       "  <tbody>\n",
       "    <tr>\n",
       "      <th>5682</th>\n",
       "      <td>F97630CA851AF</td>\n",
       "      <td>NaT</td>\n",
       "      <td>2019-03-08</td>\n",
       "      <td>2022-08-31</td>\n",
       "      <td>0</td>\n",
       "      <td>1272.0</td>\n",
       "    </tr>\n",
       "    <tr>\n",
       "      <th>2995</th>\n",
       "      <td>F769FCDF9D80D</td>\n",
       "      <td>2017-02-15</td>\n",
       "      <td>2012-11-11</td>\n",
       "      <td>2017-01-04</td>\n",
       "      <td>1</td>\n",
       "      <td>1557.0</td>\n",
       "    </tr>\n",
       "    <tr>\n",
       "      <th>1999</th>\n",
       "      <td>F68FE9D265D78</td>\n",
       "      <td>2016-09-15</td>\n",
       "      <td>2013-12-13</td>\n",
       "      <td>2016-09-16</td>\n",
       "      <td>1</td>\n",
       "      <td>1007.0</td>\n",
       "    </tr>\n",
       "    <tr>\n",
       "      <th>4568</th>\n",
       "      <td>FF2E4BE315C39</td>\n",
       "      <td>NaT</td>\n",
       "      <td>2020-02-13</td>\n",
       "      <td>2022-07-27</td>\n",
       "      <td>0</td>\n",
       "      <td>895.0</td>\n",
       "    </tr>\n",
       "    <tr>\n",
       "      <th>2577</th>\n",
       "      <td>FBD4B9A87C91E</td>\n",
       "      <td>2016-02-15</td>\n",
       "      <td>2015-08-14</td>\n",
       "      <td>2016-01-21</td>\n",
       "      <td>1</td>\n",
       "      <td>185.0</td>\n",
       "    </tr>\n",
       "  </tbody>\n",
       "</table>\n",
       "</div>"
      ],
      "text/plain": [
       "          PatientID death_date   met_date last_activity  death_status  \\\n",
       "5682  F97630CA851AF        NaT 2019-03-08    2022-08-31             0   \n",
       "2995  F769FCDF9D80D 2017-02-15 2012-11-11    2017-01-04             1   \n",
       "1999  F68FE9D265D78 2016-09-15 2013-12-13    2016-09-16             1   \n",
       "4568  FF2E4BE315C39        NaT 2020-02-13    2022-07-27             0   \n",
       "2577  FBD4B9A87C91E 2016-02-15 2015-08-14    2016-01-21             1   \n",
       "\n",
       "      timerisk_activity  \n",
       "5682             1272.0  \n",
       "2995             1557.0  \n",
       "1999             1007.0  \n",
       "4568              895.0  \n",
       "2577              185.0  "
      ]
     },
     "execution_count": 96,
     "metadata": {},
     "output_type": "execute_result"
    }
   ],
   "source": [
    "mortality.sample(5)"
   ]
  },
  {
   "cell_type": "code",
   "execution_count": 97,
   "id": "07748594",
   "metadata": {},
   "outputs": [],
   "source": [
    "mortality = pd.merge(mortality, enhanced_met[['PatientID', 'diagnosis_date']], on = 'PatientID', how = 'outer')"
   ]
  },
  {
   "cell_type": "code",
   "execution_count": 98,
   "id": "a17d85d8",
   "metadata": {},
   "outputs": [],
   "source": [
    "# timerisk_activity_first is time from first diagnosis (metastatic or not) to death or last activity if no death date.\n",
    "mortality.loc[:, 'timerisk_activity_first'] = (\n",
    "    np.where(mortality['death_date'].isna(),\n",
    "             (mortality['last_activity'] - mortality['diagnosis_date']).dt.days,\n",
    "             (mortality['death_date'] - mortality['diagnosis_date']).dt.days)\n",
    ")"
   ]
  },
  {
   "cell_type": "code",
   "execution_count": 99,
   "id": "ac14199c",
   "metadata": {},
   "outputs": [],
   "source": [
    "# If timerisk_activity is less than 0, set to 0 otherwise remains unchanged. \n",
    "mortality['timerisk_activity_first'] = np.where(\n",
    "    mortality['timerisk_activity_first'] < 0, 0, mortality['timerisk_activity_first'])"
   ]
  },
  {
   "cell_type": "code",
   "execution_count": 100,
   "id": "1c6c9180",
   "metadata": {},
   "outputs": [],
   "source": [
    "mortality.to_csv('mortality_cleaned_te.csv', index = False, header = True)"
   ]
  },
  {
   "cell_type": "code",
   "execution_count": 101,
   "id": "d0c879a0",
   "metadata": {},
   "outputs": [],
   "source": [
    "mortality = mortality.filter(items = ['PatientID', 'death_status', 'timerisk_activity'])"
   ]
  },
  {
   "cell_type": "code",
   "execution_count": 102,
   "id": "12b6aa71",
   "metadata": {},
   "outputs": [
    {
     "data": {
      "text/html": [
       "<div>\n",
       "<style scoped>\n",
       "    .dataframe tbody tr th:only-of-type {\n",
       "        vertical-align: middle;\n",
       "    }\n",
       "\n",
       "    .dataframe tbody tr th {\n",
       "        vertical-align: top;\n",
       "    }\n",
       "\n",
       "    .dataframe thead th {\n",
       "        text-align: right;\n",
       "    }\n",
       "</style>\n",
       "<table border=\"1\" class=\"dataframe\">\n",
       "  <thead>\n",
       "    <tr style=\"text-align: right;\">\n",
       "      <th></th>\n",
       "      <th>PatientID</th>\n",
       "      <th>death_status</th>\n",
       "      <th>timerisk_activity</th>\n",
       "    </tr>\n",
       "  </thead>\n",
       "  <tbody>\n",
       "    <tr>\n",
       "      <th>2111</th>\n",
       "      <td>F9274CE90055E</td>\n",
       "      <td>1</td>\n",
       "      <td>218.0</td>\n",
       "    </tr>\n",
       "    <tr>\n",
       "      <th>5584</th>\n",
       "      <td>FAB96AFA4D8BE</td>\n",
       "      <td>0</td>\n",
       "      <td>2708.0</td>\n",
       "    </tr>\n",
       "    <tr>\n",
       "      <th>2967</th>\n",
       "      <td>F3C77F56EE481</td>\n",
       "      <td>1</td>\n",
       "      <td>516.0</td>\n",
       "    </tr>\n",
       "    <tr>\n",
       "      <th>4036</th>\n",
       "      <td>F4A26A64BB00C</td>\n",
       "      <td>0</td>\n",
       "      <td>376.0</td>\n",
       "    </tr>\n",
       "    <tr>\n",
       "      <th>838</th>\n",
       "      <td>F9D4EAE6AE798</td>\n",
       "      <td>1</td>\n",
       "      <td>753.0</td>\n",
       "    </tr>\n",
       "  </tbody>\n",
       "</table>\n",
       "</div>"
      ],
      "text/plain": [
       "          PatientID  death_status  timerisk_activity\n",
       "2111  F9274CE90055E             1              218.0\n",
       "5584  FAB96AFA4D8BE             0             2708.0\n",
       "2967  F3C77F56EE481             1              516.0\n",
       "4036  F4A26A64BB00C             0              376.0\n",
       "838   F9D4EAE6AE798             1              753.0"
      ]
     },
     "execution_count": 102,
     "metadata": {},
     "output_type": "execute_result"
    }
   ],
   "source": [
    "mortality.sample(5)"
   ]
  },
  {
   "cell_type": "code",
   "execution_count": 103,
   "id": "e287bb40",
   "metadata": {},
   "outputs": [
    {
     "name": "stdout",
     "output_type": "stream",
     "text": [
      "Variable          Type         Data/Info\n",
      "----------------------------------------\n",
      "biomarkers        DataFrame                PatientID Bio<...>[48165 rows x 19 columns]\n",
      "biomarkers_max    DataFrame              PatientID bioma<...>\\n[6275 rows x 2 columns]\n",
      "demographics      DataFrame              PatientID gende<...>\\n[6336 rows x 7 columns]\n",
      "enhanced_met      DataFrame               PatientID diag<...>\\n[6336 rows x 6 columns]\n",
      "last_activity     DataFrame              PatientID last_<...>\\n[6336 rows x 2 columns]\n",
      "mets              DataFrame               PatientID Date<...>n[15986 rows x 3 columns]\n",
      "mets_max          DataFrame              PatientID   met<...>\\n[6306 rows x 2 columns]\n",
      "mortality         DataFrame              PatientID  deat<...>\\n[6336 rows x 3 columns]\n",
      "orals             DataFrame               PatientID     <...>n[15195 rows x 5 columns]\n",
      "orals_max         DataFrame              PatientID  oral<...>\\n[5183 rows x 2 columns]\n",
      "progression       DataFrame               PatientID Prog<...>[13013 rows x 10 columns]\n",
      "progression_max   DataFrame              PatientID progr<...>\\n[5525 rows x 2 columns]\n",
      "telemedicine      DataFrame               PatientID     <...>n[23412 rows x 3 columns]\n",
      "visit             DataFrame                 PatientID   <...>1936611 rows x 7 columns]\n",
      "visit_tele        DataFrame               PatientID  Vis<...>1960023 rows x 2 columns]\n",
      "visit_tele_max    DataFrame              PatientID  visi<...>\\n[6336 rows x 2 columns]\n"
     ]
    }
   ],
   "source": [
    "%whos DataFrame"
   ]
  },
  {
   "cell_type": "code",
   "execution_count": 104,
   "id": "482c734f",
   "metadata": {},
   "outputs": [],
   "source": [
    "# Keep demographics, enhanced_met, and mortality\n",
    "del biomarkers\n",
    "del biomarkers_max\n",
    "del last_activity\n",
    "del orals\n",
    "del orals_max\n",
    "del telemedicine\n",
    "del visit\n",
    "del visit_tele\n",
    "del visit_tele_max"
   ]
  },
  {
   "cell_type": "markdown",
   "id": "a6d6baca",
   "metadata": {},
   "source": [
    "### 4. MedicationAdministration"
   ]
  },
  {
   "cell_type": "code",
   "execution_count": 105,
   "id": "a13bb180",
   "metadata": {},
   "outputs": [],
   "source": [
    "med_admin = pd.read_csv('MedicationAdministration.csv')"
   ]
  },
  {
   "cell_type": "code",
   "execution_count": 106,
   "id": "741c2566",
   "metadata": {},
   "outputs": [],
   "source": [
    "med_admin = med_admin[med_admin['PatientID'].isin(test_IDs)]"
   ]
  },
  {
   "cell_type": "code",
   "execution_count": 107,
   "id": "c8ca2c5e",
   "metadata": {},
   "outputs": [
    {
     "data": {
      "text/plain": [
       "(518864, 5158)"
      ]
     },
     "execution_count": 107,
     "metadata": {},
     "output_type": "execute_result"
    }
   ],
   "source": [
    "row_ID(med_admin)"
   ]
  },
  {
   "cell_type": "code",
   "execution_count": 108,
   "id": "5f10aae4",
   "metadata": {},
   "outputs": [
    {
     "data": {
      "text/plain": [
       "(518864, 11)"
      ]
     },
     "execution_count": 108,
     "metadata": {},
     "output_type": "execute_result"
    }
   ],
   "source": [
    "med_admin.shape"
   ]
  },
  {
   "cell_type": "markdown",
   "id": "fc7766a6",
   "metadata": {},
   "source": [
    "**An indicator variable will be created for key medications (ie., steroids, opioids, other pain meds, antibiotics, anticoagulation, diabetic medicaitons, etc.) around time of metastatic diagnosis. The elgibility window is -90 days from metastatic diagnosis to first line of therapy or +30, whichever comes first. First line of therapy is included as an upper bound because steroids are frequently administered as part of treatment for chemotherapy induced-nausea, so steroids might inadvertently capture chemotherapy treatment if upper bound is set after first line of therapy.** "
   ]
  },
  {
   "cell_type": "code",
   "execution_count": 109,
   "id": "309b768a",
   "metadata": {},
   "outputs": [],
   "source": [
    "line_therapy = pd.read_csv('LineOfTherapy.csv')"
   ]
  },
  {
   "cell_type": "code",
   "execution_count": 110,
   "id": "1d10e03f",
   "metadata": {},
   "outputs": [],
   "source": [
    "line_therapy = line_therapy[line_therapy['PatientID'].isin(med_admin['PatientID'])]"
   ]
  },
  {
   "cell_type": "code",
   "execution_count": 111,
   "id": "19918a9d",
   "metadata": {},
   "outputs": [],
   "source": [
    "line_therapy_1 = (\n",
    "    line_therapy \n",
    "    .query('LineNumber == 1 and IsMaintenanceTherapy == False')\n",
    ")"
   ]
  },
  {
   "cell_type": "code",
   "execution_count": 112,
   "id": "d4762373",
   "metadata": {},
   "outputs": [],
   "source": [
    "# If patients have 2 first line therapies, select earliest\n",
    "line_therapy_1 = line_therapy_1.drop_duplicates(subset = ['PatientID'], keep = 'first')"
   ]
  },
  {
   "cell_type": "code",
   "execution_count": 113,
   "id": "cabdc445",
   "metadata": {},
   "outputs": [],
   "source": [
    "med_admin = pd.merge(med_admin, line_therapy_1[['PatientID', 'StartDate']], on = 'PatientID', how = 'left')"
   ]
  },
  {
   "cell_type": "code",
   "execution_count": 114,
   "id": "b7a921a4",
   "metadata": {},
   "outputs": [],
   "source": [
    "med_admin = pd.merge(med_admin, enhanced_met[['PatientID', 'met_date']], on = 'PatientID', how = 'left')"
   ]
  },
  {
   "cell_type": "code",
   "execution_count": 115,
   "id": "6cc37267",
   "metadata": {},
   "outputs": [],
   "source": [
    "med_admin.loc[:, 'AdministeredDate'] = pd.to_datetime(med_admin['AdministeredDate'])"
   ]
  },
  {
   "cell_type": "code",
   "execution_count": 116,
   "id": "fa15d8dd",
   "metadata": {},
   "outputs": [],
   "source": [
    "med_admin.loc[:, 'StartDate'] = pd.to_datetime(med_admin['StartDate'])"
   ]
  },
  {
   "cell_type": "code",
   "execution_count": 117,
   "id": "7bfdf164",
   "metadata": {},
   "outputs": [
    {
     "data": {
      "text/plain": [
       "0"
      ]
     },
     "execution_count": 117,
     "metadata": {},
     "output_type": "execute_result"
    }
   ],
   "source": [
    "med_admin['AdministeredDate'].isna().sum()"
   ]
  },
  {
   "cell_type": "code",
   "execution_count": 118,
   "id": "1b1634e9",
   "metadata": {},
   "outputs": [
    {
     "data": {
      "text/plain": [
       "23.0"
      ]
     },
     "execution_count": 118,
     "metadata": {},
     "output_type": "execute_result"
    }
   ],
   "source": [
    "# Median days from metastatic date to start of first line of therapy. \n",
    "(\n",
    "    med_admin\n",
    "    .drop_duplicates(subset = ['PatientID'], keep = 'first')\n",
    "    .assign(start_met_diff = lambda x: (x.StartDate - x.met_date).dt.days)\n",
    "    .start_met_diff\n",
    "    .median()\n",
    ")"
   ]
  },
  {
   "cell_type": "code",
   "execution_count": 119,
   "id": "af7432fd",
   "metadata": {},
   "outputs": [],
   "source": [
    "# New variable upper_bound which defines upper bound\n",
    "# If no StartDate (ie., no treatment received), then upper bound +30 from metastatic diagnosis \n",
    "# If StartDate is greater than 30 days from metastatic diagnosis, then upper bound +30 from metastatic diagnosis\n",
    "# If StartDate is less than or equal 30 from metastatic diagnosis, then upper bound is one day before StartDate\n",
    "conditions = [\n",
    "    (med_admin['StartDate'].isna()) | ((med_admin['StartDate'] - med_admin['met_date']).dt.days > 30),\n",
    "    ((med_admin['StartDate'] - med_admin['met_date']).dt.days <= 30)]    \n",
    "\n",
    "choices = [30, (med_admin['StartDate'] - med_admin['met_date']).dt.days - 1]\n",
    "    \n",
    "med_admin.loc[:, 'upper_bound'] = np.select(conditions, choices)"
   ]
  },
  {
   "cell_type": "code",
   "execution_count": 120,
   "id": "bcb75659",
   "metadata": {},
   "outputs": [],
   "source": [
    "med_admin.loc[:, 'upper_bound_date'] = (\n",
    "    np.where(med_admin['upper_bound'] != 30, \n",
    "             med_admin['StartDate'] - pd.DateOffset(days = 1), \n",
    "             med_admin['met_date'] + pd.DateOffset(days = 30))\n",
    ")"
   ]
  },
  {
   "cell_type": "code",
   "execution_count": 121,
   "id": "ca6eb6ed",
   "metadata": {},
   "outputs": [],
   "source": [
    "# Select window of -90 days and from metastatic diagnosis and remove clinical study drug. \n",
    "med_admin_win = (\n",
    "    med_admin\n",
    "    [((med_admin['AdministeredDate'] - med_admin['met_date']).dt.days >= -90) &\n",
    "    (med_admin['AdministeredDate'] <= med_admin['upper_bound_date']) &\n",
    "    (med_admin['CommonDrugName'] != 'Clinical study drug')]\n",
    ")"
   ]
  },
  {
   "cell_type": "code",
   "execution_count": 122,
   "id": "14df1205",
   "metadata": {},
   "outputs": [
    {
     "data": {
      "text/plain": [
       "(15903, 912)"
      ]
     },
     "execution_count": 122,
     "metadata": {},
     "output_type": "execute_result"
    }
   ],
   "source": [
    "row_ID(med_admin_win)"
   ]
  },
  {
   "cell_type": "markdown",
   "id": "c0620ad9",
   "metadata": {},
   "source": [
    "#### Antineoplastic "
   ]
  },
  {
   "cell_type": "markdown",
   "id": "6bfa5be6",
   "metadata": {},
   "source": [
    "**No indicator variable created.** "
   ]
  },
  {
   "cell_type": "markdown",
   "id": "8bccf82a",
   "metadata": {},
   "source": [
    "#### Antiemetic"
   ]
  },
  {
   "cell_type": "markdown",
   "id": "58c0d881",
   "metadata": {},
   "source": [
    "**No indicator variable created.** "
   ]
  },
  {
   "cell_type": "markdown",
   "id": "5aa94a09",
   "metadata": {},
   "source": [
    "#### Solution-fluid"
   ]
  },
  {
   "cell_type": "markdown",
   "id": "3159438b",
   "metadata": {},
   "source": [
    "**No indicator variable created.** "
   ]
  },
  {
   "cell_type": "markdown",
   "id": "412e00c7",
   "metadata": {},
   "source": [
    "#### Steroid"
   ]
  },
  {
   "cell_type": "code",
   "execution_count": 123,
   "id": "4dcd094d",
   "metadata": {},
   "outputs": [
    {
     "name": "stderr",
     "output_type": "stream",
     "text": [
      "/Users/xavierorcutt/Dropbox/ist_project/myenv/lib/python3.7/site-packages/pandas/core/indexing.py:1667: SettingWithCopyWarning: \n",
      "A value is trying to be set on a copy of a slice from a DataFrame.\n",
      "Try using .loc[row_indexer,col_indexer] = value instead\n",
      "\n",
      "See the caveats in the documentation: https://pandas.pydata.org/pandas-docs/stable/user_guide/indexing.html#returning-a-view-versus-a-copy\n",
      "  self.obj[key] = value\n"
     ]
    }
   ],
   "source": [
    "med_admin_win.loc[:, 'steroid_diag'] = (\n",
    "    np.where((med_admin_win['DrugCategory'] == 'steroid') & \n",
    "             ((med_admin_win['Route'] == 'Intravenous') | \n",
    "              (med_admin_win['Route'] == 'Oral') | \n",
    "              (med_admin_win['Route'] == 'Intrajejunal') |\n",
    "              (med_admin_win['Route'] == 'Nasogastric') |\n",
    "              (med_admin_win['Route'] == 'enteral')), 1, 0)\n",
    ")"
   ]
  },
  {
   "cell_type": "markdown",
   "id": "ce47a051",
   "metadata": {},
   "source": [
    "#### Pain"
   ]
  },
  {
   "cell_type": "markdown",
   "id": "ef928675",
   "metadata": {},
   "source": [
    "##### Opioid PO"
   ]
  },
  {
   "cell_type": "code",
   "execution_count": 124,
   "id": "33dfb3e3",
   "metadata": {},
   "outputs": [],
   "source": [
    "# List of avialable opioids in the US. \n",
    "opioid_list = [\n",
    "    'buprenorphine',\n",
    "    'codeine',\n",
    "    'fentanyl',\n",
    "    'hydrocodone',\n",
    "    'hydromorphone',\n",
    "    'methadone',\n",
    "    'morphine',\n",
    "    'oxycodone',\n",
    "    'oxymorphone',\n",
    "    'tapentadol',\n",
    "    'tramadol'\n",
    "]"
   ]
  },
  {
   "cell_type": "code",
   "execution_count": 125,
   "id": "672c4bf8",
   "metadata": {},
   "outputs": [],
   "source": [
    "med_admin_win.loc[:, 'opioid_PO_diag'] = (\n",
    "    np.where(((med_admin_win['Route'] == 'Oral') | \n",
    "              (med_admin_win['Route'] == 'Transdermal') | \n",
    "              (med_admin_win['Route'] == 'Sublingual')) &\n",
    "             (med_admin_win['CommonDrugName'].str.contains('|'.join(opioid_list))), 1, 0)\n",
    ")"
   ]
  },
  {
   "cell_type": "markdown",
   "id": "3cacccd7",
   "metadata": {},
   "source": [
    "##### Nonopioid PO"
   ]
  },
  {
   "cell_type": "code",
   "execution_count": 126,
   "id": "439d98a7",
   "metadata": {},
   "outputs": [],
   "source": [
    "med_admin_win.loc[:, 'nonopioid_PO_diag'] = (\n",
    "    np.where((med_admin_win['DrugCategory'] == 'pain agent') & \n",
    "             (med_admin_win['Route'] == 'Oral') & \n",
    "             (~med_admin_win['CommonDrugName'].str.contains('|'.join(opioid_list))), 1, 0)\n",
    ")"
   ]
  },
  {
   "cell_type": "markdown",
   "id": "49a66e6f",
   "metadata": {},
   "source": [
    "##### Pain IV"
   ]
  },
  {
   "cell_type": "code",
   "execution_count": 127,
   "id": "9e71829a",
   "metadata": {},
   "outputs": [],
   "source": [
    "med_admin_win.loc[:, 'pain_IV_diag'] = (\n",
    "    np.where((med_admin_win['DrugCategory'] == 'pain agent') & \n",
    "             (med_admin_win['Route'] == 'Intravenous'), 1, 0)\n",
    ")"
   ]
  },
  {
   "cell_type": "markdown",
   "id": "54afd37a",
   "metadata": {},
   "source": [
    "#### Hematologic agent"
   ]
  },
  {
   "cell_type": "markdown",
   "id": "0b3faafc",
   "metadata": {},
   "source": [
    "##### Heparin and other parenteral agents"
   ]
  },
  {
   "cell_type": "code",
   "execution_count": 128,
   "id": "3608b277",
   "metadata": {},
   "outputs": [],
   "source": [
    "med_admin_win.loc[:, 'heparin_diag'] = (\n",
    "    np.where(((med_admin_win['CommonDrugName'].str.contains('heparin')) & \n",
    "              (med_admin_win['AdministeredUnits'] == 'unit/kg/hr')) | \n",
    "             (med_admin_win['CommonDrugName'].str.contains('bivalirudin')) | \n",
    "             (med_admin_win['CommonDrugName'].str.contains('argatroban')), 1, 0)\n",
    ")"
   ]
  },
  {
   "cell_type": "markdown",
   "id": "7969ccd7",
   "metadata": {},
   "source": [
    "###### Enoxaparin and other subcutaneous agents "
   ]
  },
  {
   "cell_type": "code",
   "execution_count": 129,
   "id": "b1287c2d",
   "metadata": {},
   "outputs": [],
   "source": [
    "med_admin_win.loc[:, 'enoxaparin_diag'] = (\n",
    "    np.where(((med_admin_win['CommonDrugName'].str.contains('enoxaparin')) & \n",
    "              (med_admin_win['AdministeredAmount'] > 40)) | \n",
    "             ((med_admin_win['CommonDrugName'].str.contains('dalteparin')) & \n",
    "              (med_admin_win['AdministeredAmount'] > 5000)) | \n",
    "             ((med_admin_win['CommonDrugName'].str.contains('fondaparinux')) & \n",
    "              (med_admin_win['AdministeredAmount'] > 2.5)), 1, 0)\n",
    ")"
   ]
  },
  {
   "cell_type": "markdown",
   "id": "f4599f37",
   "metadata": {},
   "source": [
    "##### DOAC"
   ]
  },
  {
   "cell_type": "code",
   "execution_count": 130,
   "id": "bfb63f9e",
   "metadata": {},
   "outputs": [],
   "source": [
    "med_admin_win.loc[:, 'doac_diag'] = (\n",
    "    np.where((med_admin_win['CommonDrugName'].str.contains('apixaban')) | \n",
    "             (med_admin_win['CommonDrugName'].str.contains('rivaroxaban')) | \n",
    "             (med_admin_win['CommonDrugName'].str.contains('dabigatran')) | \n",
    "             (med_admin_win['CommonDrugName'].str.contains('edoxaban')), 1, 0)\n",
    ")"
   ]
  },
  {
   "cell_type": "markdown",
   "id": "1d4139af",
   "metadata": {},
   "source": [
    "##### Warfarin"
   ]
  },
  {
   "cell_type": "code",
   "execution_count": 131,
   "id": "eba7903d",
   "metadata": {},
   "outputs": [],
   "source": [
    "med_admin_win.loc[:, 'warfarin_diag'] = np.where((med_admin_win['CommonDrugName'].str.contains('warfarin')), 1, 0)"
   ]
  },
  {
   "cell_type": "markdown",
   "id": "124c9cbb",
   "metadata": {},
   "source": [
    "##### Anticoagulation merge "
   ]
  },
  {
   "cell_type": "code",
   "execution_count": 132,
   "id": "f2cd9e2b",
   "metadata": {},
   "outputs": [
    {
     "name": "stderr",
     "output_type": "stream",
     "text": [
      "/Users/xavierorcutt/Dropbox/ist_project/myenv/lib/python3.7/site-packages/ipykernel_launcher.py:3: SettingWithCopyWarning: \n",
      "A value is trying to be set on a copy of a slice from a DataFrame.\n",
      "Try using .loc[row_indexer,col_indexer] = value instead\n",
      "\n",
      "See the caveats in the documentation: https://pandas.pydata.org/pandas-docs/stable/user_guide/indexing.html#returning-a-view-versus-a-copy\n",
      "  This is separate from the ipykernel package so we can avoid doing imports until\n"
     ]
    }
   ],
   "source": [
    "# Combine heparin, enoxparin, DOAC, and warfarin columns into a single anticoagulation indicator variable. \n",
    "med_admin_win['ac_diag'] = (\n",
    "    med_admin_win['heparin_diag'] + med_admin_win['enoxaparin_diag'] + med_admin_win['doac_diag'] + med_admin_win['warfarin_diag']\n",
    ")"
   ]
  },
  {
   "cell_type": "code",
   "execution_count": 133,
   "id": "402e5e66",
   "metadata": {},
   "outputs": [],
   "source": [
    "# Drop heparin, enoxaparin, DOAC, and warfarin columns. \n",
    "med_admin_win = med_admin_win.drop(columns = ['heparin_diag', 'enoxaparin_diag', 'doac_diag', 'warfarin_diag'])"
   ]
  },
  {
   "cell_type": "markdown",
   "id": "ca74a314",
   "metadata": {},
   "source": [
    "##### DAPT"
   ]
  },
  {
   "cell_type": "markdown",
   "id": "8ad71df1",
   "metadata": {},
   "source": [
    "**No indicator variable created.** "
   ]
  },
  {
   "cell_type": "markdown",
   "id": "7e2a1666",
   "metadata": {},
   "source": [
    "##### GCSF"
   ]
  },
  {
   "cell_type": "markdown",
   "id": "1d3609f5",
   "metadata": {},
   "source": [
    "**No indicator variable created.** "
   ]
  },
  {
   "cell_type": "markdown",
   "id": "1f45dc9a",
   "metadata": {},
   "source": [
    "##### Epoetin"
   ]
  },
  {
   "cell_type": "markdown",
   "id": "aa6dffda",
   "metadata": {},
   "source": [
    "**No indicator variable created.** "
   ]
  },
  {
   "cell_type": "markdown",
   "id": "1ffd3595",
   "metadata": {},
   "source": [
    "##### tPA"
   ]
  },
  {
   "cell_type": "markdown",
   "id": "782d2111",
   "metadata": {},
   "source": [
    "**No indicator variable created.** "
   ]
  },
  {
   "cell_type": "markdown",
   "id": "745dd369",
   "metadata": {},
   "source": [
    "#### Anti-infective "
   ]
  },
  {
   "cell_type": "markdown",
   "id": "54c869d7",
   "metadata": {},
   "source": [
    "##### Anti-infective IV"
   ]
  },
  {
   "cell_type": "code",
   "execution_count": 134,
   "id": "342c87d8",
   "metadata": {},
   "outputs": [],
   "source": [
    "med_admin_win.loc[:, 'antiinfective_IV_diag'] = (\n",
    "    np.where((med_admin_win['DrugCategory'] == 'anti-infective') & \n",
    "             (med_admin_win['Route'] == 'Intravenous'), 1, 0)\n",
    ")"
   ]
  },
  {
   "cell_type": "markdown",
   "id": "24e6f640",
   "metadata": {},
   "source": [
    "##### Anti-infective PO"
   ]
  },
  {
   "cell_type": "code",
   "execution_count": 135,
   "id": "f54fda5f",
   "metadata": {},
   "outputs": [],
   "source": [
    "med_admin_win.loc[:, 'antiinfective_diag'] = (\n",
    "    np.where((med_admin_win['DrugCategory'] == 'anti-infective') & \n",
    "             (med_admin_win['Route'] == 'Oral'), 1, 0)\n",
    ")"
   ]
  },
  {
   "cell_type": "markdown",
   "id": "1c01f0e5",
   "metadata": {},
   "source": [
    "#### Anesthetic"
   ]
  },
  {
   "cell_type": "markdown",
   "id": "ab43d8e0",
   "metadata": {},
   "source": [
    "**No indicator variable created.** "
   ]
  },
  {
   "cell_type": "markdown",
   "id": "aac70614",
   "metadata": {},
   "source": [
    "#### Cytoprotective"
   ]
  },
  {
   "cell_type": "markdown",
   "id": "b2bd0346",
   "metadata": {},
   "source": [
    "**No indicator variable created.** "
   ]
  },
  {
   "cell_type": "markdown",
   "id": "e6e93006",
   "metadata": {},
   "source": [
    "#### Antihyperglycemic"
   ]
  },
  {
   "cell_type": "code",
   "execution_count": 136,
   "id": "bd813fe4",
   "metadata": {},
   "outputs": [],
   "source": [
    "med_admin_win.loc[:, 'antihyperglycemic_diag'] = np.where(med_admin_win['DrugCategory'] == 'antihyperglycemic', 1, 0)"
   ]
  },
  {
   "cell_type": "markdown",
   "id": "995b39ae",
   "metadata": {},
   "source": [
    "#### Proton pump inhibitor"
   ]
  },
  {
   "cell_type": "code",
   "execution_count": 137,
   "id": "12b2ee65",
   "metadata": {},
   "outputs": [],
   "source": [
    "med_admin_win.loc[:, 'ppi_diag'] = np.where(med_admin_win['DrugCategory'] == 'proton pump inhibitor', 1, 0)"
   ]
  },
  {
   "cell_type": "markdown",
   "id": "2fcafa4d",
   "metadata": {},
   "source": [
    "#### Antidepressant"
   ]
  },
  {
   "cell_type": "code",
   "execution_count": 138,
   "id": "6257a327",
   "metadata": {},
   "outputs": [],
   "source": [
    "med_admin_win.loc[:, 'antidepressant_diag'] = np.where(med_admin_win['DrugCategory'] == 'antidepressant', 1, 0)"
   ]
  },
  {
   "cell_type": "markdown",
   "id": "5e599137",
   "metadata": {},
   "source": [
    "#### Bone therapy agent"
   ]
  },
  {
   "cell_type": "code",
   "execution_count": 139,
   "id": "ced41c36",
   "metadata": {},
   "outputs": [],
   "source": [
    "med_admin_win.loc[:, 'bta_diag'] = np.where(med_admin_win['DrugCategory'] == 'bone therapy agent (bta)', 1, 0)"
   ]
  },
  {
   "cell_type": "markdown",
   "id": "4e7b132c",
   "metadata": {},
   "source": [
    "#### Hormone"
   ]
  },
  {
   "cell_type": "code",
   "execution_count": 140,
   "id": "29b5d9e6",
   "metadata": {},
   "outputs": [],
   "source": [
    "med_admin_win.loc[:, 'thyroid_diag'] = np.where(med_admin_win['CommonDrugName'] == 'levothyroxine', 1, 0)"
   ]
  },
  {
   "cell_type": "markdown",
   "id": "7a9477a6",
   "metadata": {},
   "source": [
    "#### Gout and hyperurecemia agent "
   ]
  },
  {
   "cell_type": "markdown",
   "id": "975a934c",
   "metadata": {},
   "source": [
    "**No indicator variable created.** "
   ]
  },
  {
   "cell_type": "markdown",
   "id": "af093abd",
   "metadata": {},
   "source": [
    "#### 4.16 Immunosuppressive "
   ]
  },
  {
   "cell_type": "code",
   "execution_count": 141,
   "id": "e1fae7fd",
   "metadata": {},
   "outputs": [],
   "source": [
    "med_admin_win.loc[:, 'is_diag'] = np.where(med_admin_win['DrugCategory'] == 'immunosuppressive', 1, 0)"
   ]
  },
  {
   "cell_type": "markdown",
   "id": "c63e2ca8",
   "metadata": {},
   "source": [
    "#### Sedative agent"
   ]
  },
  {
   "cell_type": "markdown",
   "id": "3a72162d",
   "metadata": {},
   "source": [
    "**No indicator variable created.** "
   ]
  },
  {
   "cell_type": "markdown",
   "id": "d22127bf",
   "metadata": {},
   "source": [
    "#### Endocrine"
   ]
  },
  {
   "cell_type": "markdown",
   "id": "c6f785dc",
   "metadata": {},
   "source": [
    "**No indicator variable created.** "
   ]
  },
  {
   "cell_type": "markdown",
   "id": "dbd539de",
   "metadata": {},
   "source": [
    "#### Antidote and reversal agent"
   ]
  },
  {
   "cell_type": "markdown",
   "id": "ec919e19",
   "metadata": {},
   "source": [
    "**No indicator variable created.** "
   ]
  },
  {
   "cell_type": "markdown",
   "id": "61a65132",
   "metadata": {},
   "source": [
    "#### Hyperglycemic"
   ]
  },
  {
   "cell_type": "markdown",
   "id": "dd1a525e",
   "metadata": {},
   "source": [
    "**No indicator variable created.** "
   ]
  },
  {
   "cell_type": "markdown",
   "id": "adecefbb",
   "metadata": {},
   "source": [
    "#### Antithyroid agent"
   ]
  },
  {
   "cell_type": "markdown",
   "id": "a8438739",
   "metadata": {},
   "source": [
    "**No indicator variable created.** "
   ]
  },
  {
   "cell_type": "markdown",
   "id": "920e0147",
   "metadata": {},
   "source": [
    "#### Anticholinergic"
   ]
  },
  {
   "cell_type": "markdown",
   "id": "660c9d94",
   "metadata": {},
   "source": [
    "**No indicator variable created.** "
   ]
  },
  {
   "cell_type": "markdown",
   "id": "4018ef97",
   "metadata": {},
   "source": [
    "#### Calciumimetic"
   ]
  },
  {
   "cell_type": "markdown",
   "id": "d3ab526c",
   "metadata": {},
   "source": [
    "**No indicator variable created.** "
   ]
  },
  {
   "cell_type": "markdown",
   "id": "f9469a92",
   "metadata": {},
   "source": [
    "#### Targeted therapy"
   ]
  },
  {
   "cell_type": "markdown",
   "id": "553a068b",
   "metadata": {},
   "source": [
    "**No indicator variable created.** "
   ]
  },
  {
   "cell_type": "markdown",
   "id": "4aab31a9",
   "metadata": {},
   "source": [
    "#### Condensing"
   ]
  },
  {
   "cell_type": "code",
   "execution_count": 142,
   "id": "86c71ded",
   "metadata": {},
   "outputs": [],
   "source": [
    "# Select columns with indicator variables and PatientID, then collapse rows by PatientID and sum columns. \n",
    "med_admin_wide = (\n",
    "    med_admin_win\n",
    "    [med_admin_win.columns[med_admin_win.columns.str.contains('diag|PatientID')]]\n",
    "    .groupby('PatientID').sum()\n",
    ")"
   ]
  },
  {
   "cell_type": "code",
   "execution_count": 143,
   "id": "e4d92397",
   "metadata": {},
   "outputs": [],
   "source": [
    "# Replace numbers greater than 1 with 1; 0 remains unchanged. \n",
    "med_admin_wide = (\n",
    "    med_admin_wide.mask(med_admin_wide > 1, 1)\n",
    "    .reset_index()\n",
    ")"
   ]
  },
  {
   "cell_type": "code",
   "execution_count": 144,
   "id": "9778d53a",
   "metadata": {},
   "outputs": [
    {
     "data": {
      "text/plain": [
       "(912, 912)"
      ]
     },
     "execution_count": 144,
     "metadata": {},
     "output_type": "execute_result"
    }
   ],
   "source": [
    "row_ID(med_admin_wide)"
   ]
  },
  {
   "cell_type": "code",
   "execution_count": 145,
   "id": "eeb1b62d",
   "metadata": {},
   "outputs": [],
   "source": [
    "# Append missing training IDs.\n",
    "med_admin_wide = (\n",
    "    med_admin_wide.append(\n",
    "        pd.Series(test_IDs)[~pd.Series(test_IDs).isin(med_admin_wide['PatientID'])].to_frame(name = 'PatientID'),\n",
    "        sort = False\n",
    "    )\n",
    "    .fillna(0)\n",
    ")"
   ]
  },
  {
   "cell_type": "code",
   "execution_count": 146,
   "id": "2ad93262",
   "metadata": {},
   "outputs": [
    {
     "data": {
      "text/plain": [
       "(6336, 6336)"
      ]
     },
     "execution_count": 146,
     "metadata": {},
     "output_type": "execute_result"
    }
   ],
   "source": [
    "row_ID(med_admin_wide)"
   ]
  },
  {
   "cell_type": "code",
   "execution_count": 147,
   "id": "0d37a3e8",
   "metadata": {},
   "outputs": [
    {
     "data": {
      "text/plain": [
       "(6336, 14)"
      ]
     },
     "execution_count": 147,
     "metadata": {},
     "output_type": "execute_result"
    }
   ],
   "source": [
    "med_admin_wide.shape"
   ]
  },
  {
   "cell_type": "code",
   "execution_count": 148,
   "id": "56bd5a4f",
   "metadata": {},
   "outputs": [
    {
     "data": {
      "text/html": [
       "<div>\n",
       "<style scoped>\n",
       "    .dataframe tbody tr th:only-of-type {\n",
       "        vertical-align: middle;\n",
       "    }\n",
       "\n",
       "    .dataframe tbody tr th {\n",
       "        vertical-align: top;\n",
       "    }\n",
       "\n",
       "    .dataframe thead th {\n",
       "        text-align: right;\n",
       "    }\n",
       "</style>\n",
       "<table border=\"1\" class=\"dataframe\">\n",
       "  <thead>\n",
       "    <tr style=\"text-align: right;\">\n",
       "      <th></th>\n",
       "      <th>PatientID</th>\n",
       "      <th>steroid_diag</th>\n",
       "      <th>opioid_PO_diag</th>\n",
       "      <th>nonopioid_PO_diag</th>\n",
       "      <th>pain_IV_diag</th>\n",
       "      <th>ac_diag</th>\n",
       "      <th>antiinfective_IV_diag</th>\n",
       "      <th>antiinfective_diag</th>\n",
       "      <th>antihyperglycemic_diag</th>\n",
       "      <th>ppi_diag</th>\n",
       "      <th>antidepressant_diag</th>\n",
       "      <th>bta_diag</th>\n",
       "      <th>thyroid_diag</th>\n",
       "      <th>is_diag</th>\n",
       "    </tr>\n",
       "  </thead>\n",
       "  <tbody>\n",
       "    <tr>\n",
       "      <th>1778</th>\n",
       "      <td>F9A635D6F1224</td>\n",
       "      <td>0.0</td>\n",
       "      <td>0.0</td>\n",
       "      <td>0.0</td>\n",
       "      <td>0.0</td>\n",
       "      <td>0.0</td>\n",
       "      <td>0.0</td>\n",
       "      <td>0.0</td>\n",
       "      <td>0.0</td>\n",
       "      <td>0.0</td>\n",
       "      <td>0.0</td>\n",
       "      <td>0.0</td>\n",
       "      <td>0.0</td>\n",
       "      <td>0.0</td>\n",
       "    </tr>\n",
       "    <tr>\n",
       "      <th>1374</th>\n",
       "      <td>FD287F0904410</td>\n",
       "      <td>0.0</td>\n",
       "      <td>0.0</td>\n",
       "      <td>0.0</td>\n",
       "      <td>0.0</td>\n",
       "      <td>0.0</td>\n",
       "      <td>0.0</td>\n",
       "      <td>0.0</td>\n",
       "      <td>0.0</td>\n",
       "      <td>0.0</td>\n",
       "      <td>0.0</td>\n",
       "      <td>0.0</td>\n",
       "      <td>0.0</td>\n",
       "      <td>0.0</td>\n",
       "    </tr>\n",
       "    <tr>\n",
       "      <th>159</th>\n",
       "      <td>F27CD5EBC4005</td>\n",
       "      <td>0.0</td>\n",
       "      <td>0.0</td>\n",
       "      <td>0.0</td>\n",
       "      <td>0.0</td>\n",
       "      <td>0.0</td>\n",
       "      <td>0.0</td>\n",
       "      <td>0.0</td>\n",
       "      <td>0.0</td>\n",
       "      <td>0.0</td>\n",
       "      <td>0.0</td>\n",
       "      <td>0.0</td>\n",
       "      <td>0.0</td>\n",
       "      <td>0.0</td>\n",
       "    </tr>\n",
       "    <tr>\n",
       "      <th>5419</th>\n",
       "      <td>F41B081EAD48D</td>\n",
       "      <td>0.0</td>\n",
       "      <td>0.0</td>\n",
       "      <td>0.0</td>\n",
       "      <td>0.0</td>\n",
       "      <td>0.0</td>\n",
       "      <td>0.0</td>\n",
       "      <td>0.0</td>\n",
       "      <td>0.0</td>\n",
       "      <td>0.0</td>\n",
       "      <td>0.0</td>\n",
       "      <td>0.0</td>\n",
       "      <td>0.0</td>\n",
       "      <td>0.0</td>\n",
       "    </tr>\n",
       "    <tr>\n",
       "      <th>3275</th>\n",
       "      <td>FE0387054EE8A</td>\n",
       "      <td>0.0</td>\n",
       "      <td>0.0</td>\n",
       "      <td>0.0</td>\n",
       "      <td>0.0</td>\n",
       "      <td>0.0</td>\n",
       "      <td>0.0</td>\n",
       "      <td>0.0</td>\n",
       "      <td>0.0</td>\n",
       "      <td>0.0</td>\n",
       "      <td>0.0</td>\n",
       "      <td>0.0</td>\n",
       "      <td>0.0</td>\n",
       "      <td>0.0</td>\n",
       "    </tr>\n",
       "  </tbody>\n",
       "</table>\n",
       "</div>"
      ],
      "text/plain": [
       "          PatientID  steroid_diag  opioid_PO_diag  nonopioid_PO_diag  \\\n",
       "1778  F9A635D6F1224           0.0             0.0                0.0   \n",
       "1374  FD287F0904410           0.0             0.0                0.0   \n",
       "159   F27CD5EBC4005           0.0             0.0                0.0   \n",
       "5419  F41B081EAD48D           0.0             0.0                0.0   \n",
       "3275  FE0387054EE8A           0.0             0.0                0.0   \n",
       "\n",
       "      pain_IV_diag  ac_diag  antiinfective_IV_diag  antiinfective_diag  \\\n",
       "1778           0.0      0.0                    0.0                 0.0   \n",
       "1374           0.0      0.0                    0.0                 0.0   \n",
       "159            0.0      0.0                    0.0                 0.0   \n",
       "5419           0.0      0.0                    0.0                 0.0   \n",
       "3275           0.0      0.0                    0.0                 0.0   \n",
       "\n",
       "      antihyperglycemic_diag  ppi_diag  antidepressant_diag  bta_diag  \\\n",
       "1778                     0.0       0.0                  0.0       0.0   \n",
       "1374                     0.0       0.0                  0.0       0.0   \n",
       "159                      0.0       0.0                  0.0       0.0   \n",
       "5419                     0.0       0.0                  0.0       0.0   \n",
       "3275                     0.0       0.0                  0.0       0.0   \n",
       "\n",
       "      thyroid_diag  is_diag  \n",
       "1778           0.0      0.0  \n",
       "1374           0.0      0.0  \n",
       "159            0.0      0.0  \n",
       "5419           0.0      0.0  \n",
       "3275           0.0      0.0  "
      ]
     },
     "execution_count": 148,
     "metadata": {},
     "output_type": "execute_result"
    }
   ],
   "source": [
    "med_admin_wide.sample(5)"
   ]
  },
  {
   "cell_type": "code",
   "execution_count": 149,
   "id": "9286ae9d",
   "metadata": {},
   "outputs": [
    {
     "data": {
      "text/plain": [
       "bta_diag                  0.038352\n",
       "steroid_diag              0.035511\n",
       "pain_IV_diag              0.030461\n",
       "antiinfective_IV_diag     0.025095\n",
       "opioid_PO_diag            0.022885\n",
       "nonopioid_PO_diag         0.022569\n",
       "ppi_diag                  0.009785\n",
       "antiinfective_diag        0.008207\n",
       "ac_diag                   0.005997\n",
       "antidepressant_diag       0.005997\n",
       "antihyperglycemic_diag    0.005051\n",
       "thyroid_diag              0.003472\n",
       "is_diag                   0.000158\n",
       "dtype: float64"
      ]
     },
     "execution_count": 149,
     "metadata": {},
     "output_type": "execute_result"
    }
   ],
   "source": [
    "# Percent of patients receiving relevant medications at time of metastatic diagnosis. \n",
    "(med_admin_wide.iloc[:, 1:].sum()/len(med_admin_wide)).sort_values(ascending = False)"
   ]
  },
  {
   "cell_type": "code",
   "execution_count": 150,
   "id": "d9bfb2c3",
   "metadata": {},
   "outputs": [
    {
     "name": "stdout",
     "output_type": "stream",
     "text": [
      "Variable          Type         Data/Info\n",
      "----------------------------------------\n",
      "demographics      DataFrame              PatientID gende<...>\\n[6336 rows x 7 columns]\n",
      "enhanced_met      DataFrame               PatientID diag<...>\\n[6336 rows x 6 columns]\n",
      "line_therapy      DataFrame               PatientID     <...>n[14044 rows x 9 columns]\n",
      "line_therapy_1    DataFrame               PatientID     <...>\\n[4823 rows x 9 columns]\n",
      "med_admin         DataFrame                PatientID    <...>518864 rows x 15 columns]\n",
      "med_admin_wide    DataFrame              PatientID  ster<...>n[6336 rows x 14 columns]\n",
      "med_admin_win     DataFrame                PatientID    <...>[15903 rows x 28 columns]\n",
      "mets              DataFrame               PatientID Date<...>n[15986 rows x 3 columns]\n",
      "mets_max          DataFrame              PatientID   met<...>\\n[6306 rows x 2 columns]\n",
      "mortality         DataFrame              PatientID  deat<...>\\n[6336 rows x 3 columns]\n",
      "progression       DataFrame               PatientID Prog<...>[13013 rows x 10 columns]\n",
      "progression_max   DataFrame              PatientID progr<...>\\n[5525 rows x 2 columns]\n"
     ]
    }
   ],
   "source": [
    "%whos DataFrame"
   ]
  },
  {
   "cell_type": "code",
   "execution_count": 151,
   "id": "746dd751",
   "metadata": {},
   "outputs": [],
   "source": [
    "# Keep demographics, enhanced_met, med_admin_wide, and mortality\n",
    "del line_therapy\n",
    "del line_therapy_1\n",
    "del med_admin\n",
    "del med_admin_win"
   ]
  },
  {
   "cell_type": "markdown",
   "id": "4e7621b8",
   "metadata": {},
   "source": [
    "### 5. Enhanced_MetBreastBiomarkers"
   ]
  },
  {
   "cell_type": "code",
   "execution_count": 152,
   "id": "efd79d9b",
   "metadata": {},
   "outputs": [],
   "source": [
    "biomarkers = pd.read_csv('Enhanced_MetBreastBiomarkers.csv')"
   ]
  },
  {
   "cell_type": "code",
   "execution_count": 153,
   "id": "f741c7df",
   "metadata": {},
   "outputs": [],
   "source": [
    "biomarkers = biomarkers[biomarkers['PatientID'].isin(test_IDs)]"
   ]
  },
  {
   "cell_type": "code",
   "execution_count": 154,
   "id": "ead8fa91",
   "metadata": {},
   "outputs": [
    {
     "data": {
      "text/plain": [
       "(48165, 19)"
      ]
     },
     "execution_count": 154,
     "metadata": {},
     "output_type": "execute_result"
    }
   ],
   "source": [
    "biomarkers.shape"
   ]
  },
  {
   "cell_type": "markdown",
   "id": "014d0eff",
   "metadata": {},
   "source": [
    "**The Biomarkers dataframe is in a long format. The goal is to build a single-row-per-patient dataframe with columns reflecting a patient's biomarker status within a predefined elgibility window. For this project, the elgibility window is defined as negative infinity to +30 days from time of diagnosis of metastatic disease (ie., index date).** \n",
    "\n",
    "**Regarding biomarker date information, result date is the date the biomarker result was first reported, and so represents the date on which the clinician would be expected to have information about the patient’s biomarker status to inform the course of treatment. Flatiron recommends using result date as the relevant biomarker test date and using specimen received date as the proxy when result date is not available. The gaps between collected date and either received or result date are substantially more variable.**\n",
    "\n",
    "**We'll begin by imputing specimen received date when result date is missing. Then, we'll select all biomarkers that fall within the elbility window.**"
   ]
  },
  {
   "cell_type": "code",
   "execution_count": 155,
   "id": "06faac05",
   "metadata": {},
   "outputs": [],
   "source": [
    "biomarkers.loc[:, 'ResultDate'] = pd.to_datetime(biomarkers['ResultDate'])"
   ]
  },
  {
   "cell_type": "code",
   "execution_count": 156,
   "id": "8766a664",
   "metadata": {},
   "outputs": [],
   "source": [
    "biomarkers.loc[:, 'SpecimenReceivedDate'] = pd.to_datetime(biomarkers['SpecimenReceivedDate'])"
   ]
  },
  {
   "cell_type": "code",
   "execution_count": 157,
   "id": "e442fab8",
   "metadata": {},
   "outputs": [],
   "source": [
    "# Replace missing result date with specimen received date. \n",
    "biomarkers.loc[:, 'result_date'] = (\n",
    "    np.where(biomarkers['ResultDate'].isna(), biomarkers['SpecimenReceivedDate'], biomarkers['ResultDate'])\n",
    ")"
   ]
  },
  {
   "cell_type": "code",
   "execution_count": 158,
   "id": "653a34fb",
   "metadata": {},
   "outputs": [],
   "source": [
    "biomarkers = pd.merge(biomarkers, enhanced_met[['PatientID', 'met_date']], on = 'PatientID', how = 'left')"
   ]
  },
  {
   "cell_type": "code",
   "execution_count": 159,
   "id": "2b956fdb",
   "metadata": {},
   "outputs": [],
   "source": [
    "# Create new variable that captures difference in days between result date and metastatic diagnosis. \n",
    "biomarkers.loc[:, 'bio_date_diff'] = (biomarkers['result_date'] - biomarkers['met_date']).dt.days"
   ]
  },
  {
   "cell_type": "code",
   "execution_count": 160,
   "id": "d3daa1dc",
   "metadata": {},
   "outputs": [],
   "source": [
    "# Select all patients with biomarkers < +30 from metastatic diagnosis. \n",
    "biomarker_win = biomarkers[biomarkers['bio_date_diff'] <= 30]"
   ]
  },
  {
   "cell_type": "markdown",
   "id": "0bd3f680",
   "metadata": {},
   "source": [
    "**The next step is defining positive and negative staus for each biomarker. For ER, PR, and HER2 the biomarker result closest to metastatic diagnosis will be selected. Positive will be selected over negative if both are on the same date.** \n",
    "\n",
    "**For BRCA and PIK3CA, status will be labeled as positive if ever positive and negative if always negative. Similarly for PDL1, the highest percent staining value is selected rather than value closest to metastatic diagnosis.**"
   ]
  },
  {
   "cell_type": "markdown",
   "id": "19ff188b",
   "metadata": {},
   "source": [
    "#### 5.1 Assigning patient-level biomarker status for ER, PR, and HER2"
   ]
  },
  {
   "cell_type": "code",
   "execution_count": 161,
   "id": "f6d73658",
   "metadata": {},
   "outputs": [],
   "source": [
    "# Identify positive and negative cases\n",
    "biomarker_name = [\n",
    "    'ER',\n",
    "    'PR',\n",
    "    'HER2']\n",
    "\n",
    "pos_neg = [\n",
    "    'Positive',\n",
    "    'IHC positive (3+)',\n",
    "    'FISH positive/amplified',\n",
    "    'Positive NOS',\n",
    "    'NGS positive (ERBB2 amplified)',\n",
    "    'Negative', \n",
    "    'IHC negative (0-1+)',\n",
    "    'FISH negative/not amplified',\n",
    "    'Negative NOS',\n",
    "    'NGS negative (ERBB2 not amplified)']"
   ]
  },
  {
   "cell_type": "code",
   "execution_count": 162,
   "id": "658f5ee1",
   "metadata": {},
   "outputs": [],
   "source": [
    "biomarker_hr_her2 = (\n",
    "    biomarker_win\n",
    "    .query('BiomarkerName == @biomarker_name')\n",
    "    .query('BiomarkerStatus == @pos_neg')\n",
    ")"
   ]
  },
  {
   "cell_type": "code",
   "execution_count": 163,
   "id": "12f68456",
   "metadata": {},
   "outputs": [
    {
     "data": {
      "text/plain": [
       "(26364, 5538)"
      ]
     },
     "execution_count": 163,
     "metadata": {},
     "output_type": "execute_result"
    }
   ],
   "source": [
    "row_ID(biomarker_hr_her2)"
   ]
  },
  {
   "cell_type": "code",
   "execution_count": 164,
   "id": "989a5231",
   "metadata": {},
   "outputs": [],
   "source": [
    "# Create indicator variable where where 2 if positive, 1 if negative, and 0 if unknown or missing. \n",
    "conditions = [\n",
    "    (biomarker_hr_her2['BiomarkerStatus'] == 'Positive') | \n",
    "    (biomarker_hr_her2['BiomarkerStatus'] == 'IHC positive (3+)') | \n",
    "    (biomarker_hr_her2['BiomarkerStatus'] == 'FISH positive/amplified') |\n",
    "    (biomarker_hr_her2['BiomarkerStatus'] == 'Positive NOS') |\n",
    "    (biomarker_hr_her2['BiomarkerStatus'] == 'NGS positive (ERBB2 amplified)'), \n",
    "    (biomarker_hr_her2['BiomarkerStatus'] == 'Negative') |\n",
    "    (biomarker_hr_her2['BiomarkerStatus'] == 'IHC negative (0-1+)') |\n",
    "    (biomarker_hr_her2['BiomarkerStatus'] == 'FISH negative/not amplified') |\n",
    "    (biomarker_hr_her2['BiomarkerStatus'] == 'Negative NOS') |\n",
    "    (biomarker_hr_her2['BiomarkerStatus'] == 'NGS negative (ERBB2 not amplified)')]\n",
    "\n",
    "choices = [2,1]\n",
    "biomarker_hr_her2.loc[:, 'bio_status'] = np.select(conditions, choices)"
   ]
  },
  {
   "cell_type": "code",
   "execution_count": 165,
   "id": "9a408093",
   "metadata": {},
   "outputs": [],
   "source": [
    "biomarker_hr_her2_wide = (\n",
    "    biomarker_hr_her2\n",
    "    .sort_values(by = ['PatientID', 'BiomarkerName', 'result_date', 'bio_status'], ascending = [True, True, False, False])\n",
    "    .drop_duplicates(subset = ['PatientID', 'BiomarkerName'], keep = 'first')\n",
    "    .pivot(index = 'PatientID', columns = 'BiomarkerName', values = 'bio_status')\n",
    "    .reset_index()\n",
    ")"
   ]
  },
  {
   "cell_type": "code",
   "execution_count": 166,
   "id": "5854be4a",
   "metadata": {},
   "outputs": [
    {
     "data": {
      "text/plain": [
       "(5538, 5538)"
      ]
     },
     "execution_count": 166,
     "metadata": {},
     "output_type": "execute_result"
    }
   ],
   "source": [
    "row_ID(biomarker_hr_her2_wide)"
   ]
  },
  {
   "cell_type": "code",
   "execution_count": 167,
   "id": "1f0c512a",
   "metadata": {},
   "outputs": [],
   "source": [
    "biomarker_hr_her2_wide = (\n",
    "    biomarker_hr_her2_wide\n",
    "    .append(\n",
    "        pd.Series(test_IDs)[~pd.Series(test_IDs).isin(biomarker_hr_her2_wide['PatientID'])].to_frame(name = 'PatientID'),\n",
    "        sort = False)\n",
    "    .fillna(0)\n",
    ")"
   ]
  },
  {
   "cell_type": "code",
   "execution_count": 168,
   "id": "46afdb82",
   "metadata": {},
   "outputs": [
    {
     "data": {
      "text/plain": [
       "(6336, 6336)"
      ]
     },
     "execution_count": 168,
     "metadata": {},
     "output_type": "execute_result"
    }
   ],
   "source": [
    "row_ID(biomarker_hr_her2_wide)"
   ]
  },
  {
   "cell_type": "markdown",
   "id": "5211572f",
   "metadata": {},
   "source": [
    "#### 5.2 Assigning patient-level biomarker status for BRCA and PIK3CA"
   ]
  },
  {
   "cell_type": "code",
   "execution_count": 169,
   "id": "d2e2712e",
   "metadata": {},
   "outputs": [],
   "source": [
    "biomarker_brca_pik = (\n",
    "    biomarker_win\n",
    "    .query('BiomarkerName == \"BRCA\" or BiomarkerName == \"PIK3CA\"')\n",
    ")"
   ]
  },
  {
   "cell_type": "code",
   "execution_count": 170,
   "id": "9caf12f1",
   "metadata": {},
   "outputs": [
    {
     "data": {
      "text/plain": [
       "(1820, 1307)"
      ]
     },
     "execution_count": 170,
     "metadata": {},
     "output_type": "execute_result"
    }
   ],
   "source": [
    "row_ID(biomarker_brca_pik)"
   ]
  },
  {
   "cell_type": "code",
   "execution_count": 171,
   "id": "c3b1e549",
   "metadata": {},
   "outputs": [
    {
     "name": "stderr",
     "output_type": "stream",
     "text": [
      "/Users/xavierorcutt/Dropbox/ist_project/myenv/lib/python3.7/site-packages/pandas/core/indexing.py:1667: SettingWithCopyWarning: \n",
      "A value is trying to be set on a copy of a slice from a DataFrame.\n",
      "Try using .loc[row_indexer,col_indexer] = value instead\n",
      "\n",
      "See the caveats in the documentation: https://pandas.pydata.org/pandas-docs/stable/user_guide/indexing.html#returning-a-view-versus-a-copy\n",
      "  self.obj[key] = value\n"
     ]
    }
   ],
   "source": [
    "# Create indicator variable where where 2 if positive, 1 if negative, and 0 if unknown or missing. \n",
    "conditions = [\n",
    "    (biomarker_brca_pik['BiomarkerStatus'] == 'BRCA1 mutation identified') |\n",
    "    (biomarker_brca_pik['BiomarkerStatus'] == 'BRCA2 mutation identified') |\n",
    "    (biomarker_brca_pik['BiomarkerStatus'] == 'Both BRCA1 and BRCA2 mutations identified') |\n",
    "    (biomarker_brca_pik['BiomarkerStatus'] == 'BRCA mutation NOS') | \n",
    "    (biomarker_brca_pik['BiomarkerStatus'] == 'Positive'), \n",
    "    (biomarker_brca_pik['BiomarkerStatus'] == 'No BRCA mutation') |\n",
    "    (biomarker_brca_pik['BiomarkerStatus'] == 'Genetic Variant of Unknown Significance (VUS)') |\n",
    "    (biomarker_brca_pik['BiomarkerStatus'] == 'Genetic Variant Favor Polymorphism') |\n",
    "    (biomarker_brca_pik['BiomarkerStatus'] == 'Negative')]\n",
    "\n",
    "choices = [2,1]\n",
    "biomarker_brca_pik.loc[:, 'bio_status'] = np.select(conditions, choices, default = 0)"
   ]
  },
  {
   "cell_type": "code",
   "execution_count": 172,
   "id": "56eaaba2",
   "metadata": {},
   "outputs": [],
   "source": [
    "# Select biomarker status closest to metastatic diagnosis among duplicates, merge with nonduplciates, then pivot. \n",
    "biomarker_brca_pik_wide = (\n",
    "    biomarker_brca_pik\n",
    "    .sort_values(by = ['PatientID', 'BiomarkerName', 'bio_status'], ascending = False)\n",
    "    .drop_duplicates(subset = ['PatientID', 'BiomarkerName'], keep = 'first')\n",
    "    .pivot(index = 'PatientID', columns = 'BiomarkerName', values = 'bio_status')\n",
    "    .reset_index()\n",
    ")\n",
    "biomarker_hr_her2_wide.columns.name = None"
   ]
  },
  {
   "cell_type": "code",
   "execution_count": 173,
   "id": "7e5a77db",
   "metadata": {},
   "outputs": [
    {
     "data": {
      "text/plain": [
       "(1307, 1307)"
      ]
     },
     "execution_count": 173,
     "metadata": {},
     "output_type": "execute_result"
    }
   ],
   "source": [
    "row_ID(biomarker_brca_pik_wide)"
   ]
  },
  {
   "cell_type": "code",
   "execution_count": 174,
   "id": "6649e1f4",
   "metadata": {},
   "outputs": [],
   "source": [
    "biomarker_brca_pik_wide = (\n",
    "    biomarker_brca_pik_wide\n",
    "    .append(\n",
    "        pd.Series(test_IDs)[~pd.Series(test_IDs).isin(biomarker_brca_pik_wide['PatientID'])].to_frame(name = 'PatientID'),\n",
    "        sort = False)\n",
    "    .fillna(0)\n",
    ")"
   ]
  },
  {
   "cell_type": "code",
   "execution_count": 175,
   "id": "7ba5982d",
   "metadata": {},
   "outputs": [
    {
     "data": {
      "text/plain": [
       "(6336, 6336)"
      ]
     },
     "execution_count": 175,
     "metadata": {},
     "output_type": "execute_result"
    }
   ],
   "source": [
    "row_ID(biomarker_brca_pik_wide)"
   ]
  },
  {
   "cell_type": "code",
   "execution_count": 176,
   "id": "fe80ccd7",
   "metadata": {},
   "outputs": [],
   "source": [
    "biomarker_notpdl1_wide = pd.merge(biomarker_hr_her2_wide, biomarker_brca_pik_wide, on = 'PatientID')"
   ]
  },
  {
   "cell_type": "code",
   "execution_count": 177,
   "id": "433ea606",
   "metadata": {},
   "outputs": [
    {
     "data": {
      "text/plain": [
       "(6336, 6336)"
      ]
     },
     "execution_count": 177,
     "metadata": {},
     "output_type": "execute_result"
    }
   ],
   "source": [
    "row_ID(biomarker_notpdl1_wide)"
   ]
  },
  {
   "cell_type": "code",
   "execution_count": 178,
   "id": "1a93c41a",
   "metadata": {},
   "outputs": [],
   "source": [
    "biomarker_notpdl1_wide['BRCA'] = (\n",
    "    biomarker_notpdl1_wide['BRCA'].replace({\n",
    "        2: 'positive',\n",
    "        1: 'negative',\n",
    "        0: 'unknown',\n",
    "        np.nan: 'unknown'})\n",
    ")"
   ]
  },
  {
   "cell_type": "code",
   "execution_count": 179,
   "id": "0b71e2c4",
   "metadata": {},
   "outputs": [],
   "source": [
    "biomarker_notpdl1_wide['ER'] = (\n",
    "    biomarker_notpdl1_wide['ER'].replace({\n",
    "        2: 'positive',\n",
    "        1: 'negative',\n",
    "        0: 'unknown',\n",
    "        np.nan: 'unknown'})\n",
    ")"
   ]
  },
  {
   "cell_type": "code",
   "execution_count": 180,
   "id": "77ab6cb1",
   "metadata": {},
   "outputs": [],
   "source": [
    "biomarker_notpdl1_wide['HER2'] = (\n",
    "    biomarker_notpdl1_wide['HER2'].replace({\n",
    "        2: 'positive',\n",
    "        1: 'negative',\n",
    "        0: 'unknown',\n",
    "        np.nan: 'unknown'})\n",
    ")"
   ]
  },
  {
   "cell_type": "code",
   "execution_count": 181,
   "id": "ab161f3e",
   "metadata": {},
   "outputs": [],
   "source": [
    "biomarker_notpdl1_wide['PIK3CA'] = (\n",
    "    biomarker_notpdl1_wide['PIK3CA'].replace({\n",
    "        2: 'positive',\n",
    "        1: 'negative',\n",
    "        0: 'unknown',\n",
    "        np.nan: 'unknown'})\n",
    ")"
   ]
  },
  {
   "cell_type": "code",
   "execution_count": 182,
   "id": "09471587",
   "metadata": {},
   "outputs": [],
   "source": [
    "biomarker_notpdl1_wide['PR'] = (\n",
    "    biomarker_notpdl1_wide['PR'].replace({\n",
    "        2: 'positive',\n",
    "        1: 'negative',\n",
    "        0: 'unknown',\n",
    "        np.nan: 'unknown'})\n",
    ")"
   ]
  },
  {
   "cell_type": "code",
   "execution_count": 183,
   "id": "9feb8aca",
   "metadata": {},
   "outputs": [
    {
     "data": {
      "text/html": [
       "<div>\n",
       "<style scoped>\n",
       "    .dataframe tbody tr th:only-of-type {\n",
       "        vertical-align: middle;\n",
       "    }\n",
       "\n",
       "    .dataframe tbody tr th {\n",
       "        vertical-align: top;\n",
       "    }\n",
       "\n",
       "    .dataframe thead th {\n",
       "        text-align: right;\n",
       "    }\n",
       "</style>\n",
       "<table border=\"1\" class=\"dataframe\">\n",
       "  <thead>\n",
       "    <tr style=\"text-align: right;\">\n",
       "      <th></th>\n",
       "      <th>PatientID</th>\n",
       "      <th>ER</th>\n",
       "      <th>HER2</th>\n",
       "      <th>PR</th>\n",
       "      <th>BRCA</th>\n",
       "      <th>PIK3CA</th>\n",
       "    </tr>\n",
       "  </thead>\n",
       "  <tbody>\n",
       "    <tr>\n",
       "      <th>789</th>\n",
       "      <td>F22BB5EA9E8BC</td>\n",
       "      <td>positive</td>\n",
       "      <td>negative</td>\n",
       "      <td>positive</td>\n",
       "      <td>unknown</td>\n",
       "      <td>unknown</td>\n",
       "    </tr>\n",
       "    <tr>\n",
       "      <th>4971</th>\n",
       "      <td>FE5715FDF1CF6</td>\n",
       "      <td>negative</td>\n",
       "      <td>negative</td>\n",
       "      <td>positive</td>\n",
       "      <td>negative</td>\n",
       "      <td>negative</td>\n",
       "    </tr>\n",
       "    <tr>\n",
       "      <th>4280</th>\n",
       "      <td>FC5F5DA1F8DDD</td>\n",
       "      <td>positive</td>\n",
       "      <td>negative</td>\n",
       "      <td>positive</td>\n",
       "      <td>unknown</td>\n",
       "      <td>unknown</td>\n",
       "    </tr>\n",
       "    <tr>\n",
       "      <th>1918</th>\n",
       "      <td>F55F0E9953ABC</td>\n",
       "      <td>positive</td>\n",
       "      <td>positive</td>\n",
       "      <td>negative</td>\n",
       "      <td>unknown</td>\n",
       "      <td>unknown</td>\n",
       "    </tr>\n",
       "    <tr>\n",
       "      <th>4426</th>\n",
       "      <td>FCC8426D719C4</td>\n",
       "      <td>negative</td>\n",
       "      <td>negative</td>\n",
       "      <td>negative</td>\n",
       "      <td>positive</td>\n",
       "      <td>unknown</td>\n",
       "    </tr>\n",
       "  </tbody>\n",
       "</table>\n",
       "</div>"
      ],
      "text/plain": [
       "          PatientID        ER      HER2        PR      BRCA    PIK3CA\n",
       "789   F22BB5EA9E8BC  positive  negative  positive   unknown   unknown\n",
       "4971  FE5715FDF1CF6  negative  negative  positive  negative  negative\n",
       "4280  FC5F5DA1F8DDD  positive  negative  positive   unknown   unknown\n",
       "1918  F55F0E9953ABC  positive  positive  negative   unknown   unknown\n",
       "4426  FCC8426D719C4  negative  negative  negative  positive   unknown"
      ]
     },
     "execution_count": 183,
     "metadata": {},
     "output_type": "execute_result"
    }
   ],
   "source": [
    "biomarker_notpdl1_wide.sample(5)"
   ]
  },
  {
   "cell_type": "markdown",
   "id": "f480f17b",
   "metadata": {},
   "source": [
    "#### 5.3 Assigning patient-level PD-L1"
   ]
  },
  {
   "cell_type": "markdown",
   "id": "00cb1eb3",
   "metadata": {},
   "source": [
    "**Flatiron recommends using PercentStaining as the primary source of truth to assess PD-L1 status over other options in the Biomarker table. For patients with multiple PDL1 testing instances, the maximum PercentStaining level will be selected and assigned to the patient. PD-L1 testing instances from earlier years, specifically before 2017, are likely to be missing PercentStaining values** "
   ]
  },
  {
   "cell_type": "code",
   "execution_count": 184,
   "id": "b1f393f5",
   "metadata": {},
   "outputs": [],
   "source": [
    "biomarker_win_pdl1 = (\n",
    "    biomarker_win\n",
    "    .query('BiomarkerName == \"PDL1\"')\n",
    ")"
   ]
  },
  {
   "cell_type": "code",
   "execution_count": 185,
   "id": "c1402c65",
   "metadata": {},
   "outputs": [
    {
     "data": {
      "text/plain": [
       "(353, 248)"
      ]
     },
     "execution_count": 185,
     "metadata": {},
     "output_type": "execute_result"
    }
   ],
   "source": [
    "row_ID(biomarker_win_pdl1)"
   ]
  },
  {
   "cell_type": "code",
   "execution_count": 186,
   "id": "47563a57",
   "metadata": {},
   "outputs": [
    {
     "name": "stderr",
     "output_type": "stream",
     "text": [
      "/Users/xavierorcutt/Dropbox/ist_project/myenv/lib/python3.7/site-packages/pandas/core/indexing.py:1667: SettingWithCopyWarning: \n",
      "A value is trying to be set on a copy of a slice from a DataFrame.\n",
      "Try using .loc[row_indexer,col_indexer] = value instead\n",
      "\n",
      "See the caveats in the documentation: https://pandas.pydata.org/pandas-docs/stable/user_guide/indexing.html#returning-a-view-versus-a-copy\n",
      "  self.obj[key] = value\n"
     ]
    }
   ],
   "source": [
    "pdl1_dict = { \n",
    "    np.nan: 0,\n",
    "    '0%': 1, \n",
    "    '< 1%': 2,\n",
    "    '1%': 3, \n",
    "    '2% - 4%': 4,\n",
    "    '5% - 9%': 5,\n",
    "    '10% - 19%': 6,  \n",
    "    '20% - 29%': 7, \n",
    "    '30% - 39%': 8, \n",
    "    '40% - 49%': 9, \n",
    "    '50% - 59%': 10, \n",
    "    '60% - 69%': 11, \n",
    "    '70% - 79%': 12, \n",
    "    '80% - 89%': 13, \n",
    "    '90% - 99%': 14,\n",
    "    '100%': 15\n",
    "}\n",
    "\n",
    "biomarker_win_pdl1.loc[:, 'percent_staining'] = biomarker_win_pdl1['PercentStaining'].map(pdl1_dict)"
   ]
  },
  {
   "cell_type": "code",
   "execution_count": 187,
   "id": "64d16f14",
   "metadata": {},
   "outputs": [],
   "source": [
    "biomarker_pdl1_staining = (\n",
    "    biomarker_win_pdl1\n",
    "    .sort_values(by = ['PatientID', 'percent_staining'], ascending = False)\n",
    "    .drop_duplicates(subset = ['PatientID'], keep = 'first')\n",
    "    .pivot(index = 'PatientID', columns = 'BiomarkerName', values = 'percent_staining')\n",
    "    .rename(columns = {'PDL1': 'pdl1_staining'})\n",
    "    .reset_index()\n",
    ")\n",
    "biomarker_pdl1_staining.columns.name = None"
   ]
  },
  {
   "cell_type": "code",
   "execution_count": 188,
   "id": "0cbd212e",
   "metadata": {},
   "outputs": [
    {
     "data": {
      "text/plain": [
       "(248, 248)"
      ]
     },
     "execution_count": 188,
     "metadata": {},
     "output_type": "execute_result"
    }
   ],
   "source": [
    "row_ID(biomarker_pdl1_staining)"
   ]
  },
  {
   "cell_type": "code",
   "execution_count": 189,
   "id": "cb732a25",
   "metadata": {},
   "outputs": [
    {
     "data": {
      "text/html": [
       "<div>\n",
       "<style scoped>\n",
       "    .dataframe tbody tr th:only-of-type {\n",
       "        vertical-align: middle;\n",
       "    }\n",
       "\n",
       "    .dataframe tbody tr th {\n",
       "        vertical-align: top;\n",
       "    }\n",
       "\n",
       "    .dataframe thead th {\n",
       "        text-align: right;\n",
       "    }\n",
       "</style>\n",
       "<table border=\"1\" class=\"dataframe\">\n",
       "  <thead>\n",
       "    <tr style=\"text-align: right;\">\n",
       "      <th></th>\n",
       "      <th>PatientID</th>\n",
       "      <th>pdl1_staining</th>\n",
       "    </tr>\n",
       "  </thead>\n",
       "  <tbody>\n",
       "    <tr>\n",
       "      <th>140</th>\n",
       "      <td>F9C36F2E4D11E</td>\n",
       "      <td>2</td>\n",
       "    </tr>\n",
       "    <tr>\n",
       "      <th>139</th>\n",
       "      <td>F9B742A244F7C</td>\n",
       "      <td>1</td>\n",
       "    </tr>\n",
       "    <tr>\n",
       "      <th>202</th>\n",
       "      <td>FD7FE43325C0D</td>\n",
       "      <td>1</td>\n",
       "    </tr>\n",
       "    <tr>\n",
       "      <th>132</th>\n",
       "      <td>F9266C8A053EF</td>\n",
       "      <td>0</td>\n",
       "    </tr>\n",
       "    <tr>\n",
       "      <th>142</th>\n",
       "      <td>FA12EF3BA69E3</td>\n",
       "      <td>1</td>\n",
       "    </tr>\n",
       "  </tbody>\n",
       "</table>\n",
       "</div>"
      ],
      "text/plain": [
       "         PatientID  pdl1_staining\n",
       "140  F9C36F2E4D11E              2\n",
       "139  F9B742A244F7C              1\n",
       "202  FD7FE43325C0D              1\n",
       "132  F9266C8A053EF              0\n",
       "142  FA12EF3BA69E3              1"
      ]
     },
     "execution_count": 189,
     "metadata": {},
     "output_type": "execute_result"
    }
   ],
   "source": [
    "biomarker_pdl1_staining.sample(5)"
   ]
  },
  {
   "cell_type": "code",
   "execution_count": 190,
   "id": "60218fb5",
   "metadata": {},
   "outputs": [],
   "source": [
    "pdl1_dict_rev = { \n",
    "    0: np.nan,\n",
    "    1: '0%', \n",
    "    2: '0%',\n",
    "    3: '>1%', \n",
    "    4: '>1%',\n",
    "    5: '>1%',\n",
    "    6: '>1%',  \n",
    "    7: '>1%', \n",
    "    8: '>1%', \n",
    "    9: '>1%', \n",
    "    10: '>1%', \n",
    "    11: '>1%', \n",
    "    12: '>1%', \n",
    "    13: '>1%', \n",
    "    14: '>1%',\n",
    "    15: '>1%'\n",
    "}\n",
    "\n",
    "biomarker_pdl1_staining.loc[:, 'pdl1_staining'] = biomarker_pdl1_staining['pdl1_staining'].map(pdl1_dict_rev)"
   ]
  },
  {
   "cell_type": "code",
   "execution_count": 191,
   "id": "fad62c95",
   "metadata": {},
   "outputs": [],
   "source": [
    "biomarker_pdl1_staining_wide = (\n",
    "    biomarker_pdl1_staining\n",
    "    .append(\n",
    "        pd.Series(test_IDs)[~pd.Series(test_IDs).isin(biomarker_pdl1_staining['PatientID'])].to_frame(name = 'PatientID'),\n",
    "        sort = False)\n",
    "    .fillna('unknown')\n",
    ")"
   ]
  },
  {
   "cell_type": "code",
   "execution_count": 192,
   "id": "8c4e68d4",
   "metadata": {},
   "outputs": [],
   "source": [
    "biomarker_pdl1_staining_wide['pdl1_staining'] = (\n",
    "    biomarker_pdl1_staining_wide['pdl1_staining'].replace({np.nan: 'unknown'}))"
   ]
  },
  {
   "cell_type": "code",
   "execution_count": 193,
   "id": "674b6122",
   "metadata": {},
   "outputs": [
    {
     "data": {
      "text/html": [
       "<div>\n",
       "<style scoped>\n",
       "    .dataframe tbody tr th:only-of-type {\n",
       "        vertical-align: middle;\n",
       "    }\n",
       "\n",
       "    .dataframe tbody tr th {\n",
       "        vertical-align: top;\n",
       "    }\n",
       "\n",
       "    .dataframe thead th {\n",
       "        text-align: right;\n",
       "    }\n",
       "</style>\n",
       "<table border=\"1\" class=\"dataframe\">\n",
       "  <thead>\n",
       "    <tr style=\"text-align: right;\">\n",
       "      <th></th>\n",
       "      <th>PatientID</th>\n",
       "      <th>pdl1_staining</th>\n",
       "    </tr>\n",
       "  </thead>\n",
       "  <tbody>\n",
       "    <tr>\n",
       "      <th>5864</th>\n",
       "      <td>F599A82276182</td>\n",
       "      <td>unknown</td>\n",
       "    </tr>\n",
       "    <tr>\n",
       "      <th>4743</th>\n",
       "      <td>F9893B7032C80</td>\n",
       "      <td>unknown</td>\n",
       "    </tr>\n",
       "    <tr>\n",
       "      <th>1548</th>\n",
       "      <td>F936D2AA1A6E5</td>\n",
       "      <td>unknown</td>\n",
       "    </tr>\n",
       "    <tr>\n",
       "      <th>3076</th>\n",
       "      <td>F7866CE88DE4A</td>\n",
       "      <td>unknown</td>\n",
       "    </tr>\n",
       "    <tr>\n",
       "      <th>424</th>\n",
       "      <td>F957B46F4CCB6</td>\n",
       "      <td>unknown</td>\n",
       "    </tr>\n",
       "  </tbody>\n",
       "</table>\n",
       "</div>"
      ],
      "text/plain": [
       "          PatientID pdl1_staining\n",
       "5864  F599A82276182       unknown\n",
       "4743  F9893B7032C80       unknown\n",
       "1548  F936D2AA1A6E5       unknown\n",
       "3076  F7866CE88DE4A       unknown\n",
       "424   F957B46F4CCB6       unknown"
      ]
     },
     "execution_count": 193,
     "metadata": {},
     "output_type": "execute_result"
    }
   ],
   "source": [
    "biomarker_pdl1_staining_wide.sample(5)"
   ]
  },
  {
   "cell_type": "code",
   "execution_count": 194,
   "id": "0be7c8d9",
   "metadata": {},
   "outputs": [
    {
     "data": {
      "text/plain": [
       "(6336, 2)"
      ]
     },
     "execution_count": 194,
     "metadata": {},
     "output_type": "execute_result"
    }
   ],
   "source": [
    "biomarker_pdl1_staining_wide.shape"
   ]
  },
  {
   "cell_type": "markdown",
   "id": "e66cf42c",
   "metadata": {},
   "source": [
    "**Flatiron recommends considering using BiomarkerStatus to impute the missing patient-level PercentStaining category value. Impute missing PercentStaining values as follows:**\n",
    "* **Impute a PercentStaining value of “≥1%” for patients with at least one confirmed positive PD-L1 result within the eligible window.** \n",
    "* **Impute a PercentStaining value of “0%” to patients with no confirmed positive PD-L1 results and at least one confirmed negative PD-L1 result within the eligible window.** \n",
    "* **Do not impute a PercentStaining value to patients who have no confirmed positive or negative PD-L1 results within the eligible window.**"
   ]
  },
  {
   "cell_type": "code",
   "execution_count": 195,
   "id": "a6e660d7",
   "metadata": {},
   "outputs": [
    {
     "data": {
      "text/plain": [
       "No interpretation given in report    185\n",
       "PD-L1 negative/not detected          117\n",
       "PD-L1 positive                        37\n",
       "Unsuccessful/indeterminate test        8\n",
       "Unknown                                4\n",
       "Results pending                        2\n",
       "Name: BiomarkerStatus, dtype: int64"
      ]
     },
     "execution_count": 195,
     "metadata": {},
     "output_type": "execute_result"
    }
   ],
   "source": [
    "biomarker_win_pdl1.BiomarkerStatus.value_counts(dropna = False)"
   ]
  },
  {
   "cell_type": "code",
   "execution_count": 196,
   "id": "f13ebc9e",
   "metadata": {},
   "outputs": [
    {
     "name": "stderr",
     "output_type": "stream",
     "text": [
      "/Users/xavierorcutt/Dropbox/ist_project/myenv/lib/python3.7/site-packages/pandas/core/indexing.py:1667: SettingWithCopyWarning: \n",
      "A value is trying to be set on a copy of a slice from a DataFrame.\n",
      "Try using .loc[row_indexer,col_indexer] = value instead\n",
      "\n",
      "See the caveats in the documentation: https://pandas.pydata.org/pandas-docs/stable/user_guide/indexing.html#returning-a-view-versus-a-copy\n",
      "  self.obj[key] = value\n"
     ]
    }
   ],
   "source": [
    "# Create indicator variable where where 2 if positive, 1 if negative, and 0 if unknown or missing. \n",
    "conditions = [\n",
    "    (biomarker_win_pdl1['BiomarkerStatus'] == 'Rearrangement present') | \n",
    "    (biomarker_win_pdl1['BiomarkerStatus'] == 'Mutation positive') | \n",
    "    (biomarker_win_pdl1['BiomarkerStatus'] == 'PD-L1 positive'),\n",
    "    (biomarker_win_pdl1['BiomarkerStatus'] == 'Rearrangement not present') | \n",
    "    (biomarker_win_pdl1['BiomarkerStatus'] == 'Mutation negative') | \n",
    "    (biomarker_win_pdl1['BiomarkerStatus'] == 'PD-L1 negative/not detected')\n",
    "]\n",
    "\n",
    "choices = [2,1]\n",
    "biomarker_win_pdl1.loc[:, 'bio_status'] = np.select(conditions, choices, default = 0)"
   ]
  },
  {
   "cell_type": "code",
   "execution_count": 197,
   "id": "4acdd717",
   "metadata": {},
   "outputs": [],
   "source": [
    "# Among PDL1 tested patients, select highest percent staining for those with repeat testing, merge with nonduplciates, then pivot. \n",
    "biomarker_pdl1_status = (\n",
    "    biomarker_win_pdl1\n",
    "    .sort_values(by = ['PatientID', 'bio_status'], ascending = False)\n",
    "    .drop_duplicates(subset = ['PatientID'], keep = 'first')\n",
    "    .pivot(index = 'PatientID', columns = 'BiomarkerName', values = 'bio_status')\n",
    "    .rename(columns = {'PDL1': 'pdl1_status'})\n",
    "    .reset_index()\n",
    ")\n",
    "biomarker_pdl1_status.columns.name = None"
   ]
  },
  {
   "cell_type": "code",
   "execution_count": 198,
   "id": "c20bda30",
   "metadata": {},
   "outputs": [
    {
     "data": {
      "text/plain": [
       "(248, 248)"
      ]
     },
     "execution_count": 198,
     "metadata": {},
     "output_type": "execute_result"
    }
   ],
   "source": [
    "row_ID(biomarker_pdl1_status)"
   ]
  },
  {
   "cell_type": "code",
   "execution_count": 199,
   "id": "771ede27",
   "metadata": {},
   "outputs": [
    {
     "data": {
      "text/html": [
       "<div>\n",
       "<style scoped>\n",
       "    .dataframe tbody tr th:only-of-type {\n",
       "        vertical-align: middle;\n",
       "    }\n",
       "\n",
       "    .dataframe tbody tr th {\n",
       "        vertical-align: top;\n",
       "    }\n",
       "\n",
       "    .dataframe thead th {\n",
       "        text-align: right;\n",
       "    }\n",
       "</style>\n",
       "<table border=\"1\" class=\"dataframe\">\n",
       "  <thead>\n",
       "    <tr style=\"text-align: right;\">\n",
       "      <th></th>\n",
       "      <th>PatientID</th>\n",
       "      <th>pdl1_status</th>\n",
       "    </tr>\n",
       "  </thead>\n",
       "  <tbody>\n",
       "    <tr>\n",
       "      <th>0</th>\n",
       "      <td>F024BFC72DA47</td>\n",
       "      <td>1</td>\n",
       "    </tr>\n",
       "    <tr>\n",
       "      <th>1</th>\n",
       "      <td>F02CE34ADA3C4</td>\n",
       "      <td>0</td>\n",
       "    </tr>\n",
       "    <tr>\n",
       "      <th>2</th>\n",
       "      <td>F04BBA351D29A</td>\n",
       "      <td>0</td>\n",
       "    </tr>\n",
       "    <tr>\n",
       "      <th>3</th>\n",
       "      <td>F06B245193651</td>\n",
       "      <td>0</td>\n",
       "    </tr>\n",
       "    <tr>\n",
       "      <th>4</th>\n",
       "      <td>F076A362DF540</td>\n",
       "      <td>0</td>\n",
       "    </tr>\n",
       "  </tbody>\n",
       "</table>\n",
       "</div>"
      ],
      "text/plain": [
       "       PatientID  pdl1_status\n",
       "0  F024BFC72DA47            1\n",
       "1  F02CE34ADA3C4            0\n",
       "2  F04BBA351D29A            0\n",
       "3  F06B245193651            0\n",
       "4  F076A362DF540            0"
      ]
     },
     "execution_count": 199,
     "metadata": {},
     "output_type": "execute_result"
    }
   ],
   "source": [
    "biomarker_pdl1_status.head()"
   ]
  },
  {
   "cell_type": "code",
   "execution_count": 200,
   "id": "4bee6279",
   "metadata": {},
   "outputs": [],
   "source": [
    "biomarker_pdl1_status_wide = (\n",
    "    biomarker_pdl1_status\n",
    "    .append(\n",
    "        pd.Series(test_IDs)[~pd.Series(test_IDs).isin(biomarker_pdl1_status['PatientID'])].to_frame(name = 'PatientID'),\n",
    "        sort = False)\n",
    "    .fillna(0)\n",
    ")"
   ]
  },
  {
   "cell_type": "code",
   "execution_count": 201,
   "id": "d81cc552",
   "metadata": {},
   "outputs": [],
   "source": [
    "biomarker_pdl1 = pd.merge(biomarker_pdl1_staining_wide, biomarker_pdl1_status_wide, on = 'PatientID')"
   ]
  },
  {
   "cell_type": "code",
   "execution_count": 202,
   "id": "eacee518",
   "metadata": {},
   "outputs": [],
   "source": [
    "# If PDL1 staining is unknown, set to >=1% if ever positive and 0% if ever negative. \n",
    "# If PDL1 staining is known, set to >=1% if staining 1-100% and 0% if 0%.\n",
    "conditions = [\n",
    "    ((biomarker_pdl1['pdl1_staining'] == 'unknown') & (biomarker_pdl1['pdl1_status'] == 2)) | \n",
    "    (biomarker_pdl1['pdl1_staining'] == '>1%'),\n",
    "    ((biomarker_pdl1['pdl1_staining'] == 'unknown') & (biomarker_pdl1['pdl1_status'] == 1)) | \n",
    "    (biomarker_pdl1['pdl1_staining'] == '0%'), \n",
    "    ((biomarker_pdl1['pdl1_staining'] == 'unknown') & (biomarker_pdl1['pdl1_status'] == 0)),\n",
    "]\n",
    "\n",
    "choices = ['>1%', '0%', 'unknown']\n",
    "\n",
    "biomarker_pdl1.loc[:, 'pdl1_n'] = np.select(conditions, choices)"
   ]
  },
  {
   "cell_type": "code",
   "execution_count": 203,
   "id": "9995830d",
   "metadata": {},
   "outputs": [
    {
     "data": {
      "text/html": [
       "<div>\n",
       "<style scoped>\n",
       "    .dataframe tbody tr th:only-of-type {\n",
       "        vertical-align: middle;\n",
       "    }\n",
       "\n",
       "    .dataframe tbody tr th {\n",
       "        vertical-align: top;\n",
       "    }\n",
       "\n",
       "    .dataframe thead th {\n",
       "        text-align: right;\n",
       "    }\n",
       "</style>\n",
       "<table border=\"1\" class=\"dataframe\">\n",
       "  <thead>\n",
       "    <tr style=\"text-align: right;\">\n",
       "      <th></th>\n",
       "      <th>PatientID</th>\n",
       "      <th>pdl1_staining</th>\n",
       "      <th>pdl1_status</th>\n",
       "      <th>pdl1_n</th>\n",
       "    </tr>\n",
       "  </thead>\n",
       "  <tbody>\n",
       "    <tr>\n",
       "      <th>3780</th>\n",
       "      <td>F89E452E3130B</td>\n",
       "      <td>unknown</td>\n",
       "      <td>0.0</td>\n",
       "      <td>unknown</td>\n",
       "    </tr>\n",
       "    <tr>\n",
       "      <th>4883</th>\n",
       "      <td>F9825529D4544</td>\n",
       "      <td>unknown</td>\n",
       "      <td>0.0</td>\n",
       "      <td>unknown</td>\n",
       "    </tr>\n",
       "    <tr>\n",
       "      <th>1931</th>\n",
       "      <td>F79DB0A7BD207</td>\n",
       "      <td>unknown</td>\n",
       "      <td>0.0</td>\n",
       "      <td>unknown</td>\n",
       "    </tr>\n",
       "    <tr>\n",
       "      <th>5580</th>\n",
       "      <td>F278F85043973</td>\n",
       "      <td>unknown</td>\n",
       "      <td>0.0</td>\n",
       "      <td>unknown</td>\n",
       "    </tr>\n",
       "    <tr>\n",
       "      <th>1697</th>\n",
       "      <td>F9179870A35D5</td>\n",
       "      <td>unknown</td>\n",
       "      <td>0.0</td>\n",
       "      <td>unknown</td>\n",
       "    </tr>\n",
       "  </tbody>\n",
       "</table>\n",
       "</div>"
      ],
      "text/plain": [
       "          PatientID pdl1_staining  pdl1_status   pdl1_n\n",
       "3780  F89E452E3130B       unknown          0.0  unknown\n",
       "4883  F9825529D4544       unknown          0.0  unknown\n",
       "1931  F79DB0A7BD207       unknown          0.0  unknown\n",
       "5580  F278F85043973       unknown          0.0  unknown\n",
       "1697  F9179870A35D5       unknown          0.0  unknown"
      ]
     },
     "execution_count": 203,
     "metadata": {},
     "output_type": "execute_result"
    }
   ],
   "source": [
    "biomarker_pdl1.sample(5)"
   ]
  },
  {
   "cell_type": "code",
   "execution_count": 204,
   "id": "8ccd1dad",
   "metadata": {},
   "outputs": [],
   "source": [
    "biomarker_pdl1_wide = (\n",
    "    biomarker_pdl1[['PatientID', 'pdl1_n']]\n",
    ")"
   ]
  },
  {
   "cell_type": "code",
   "execution_count": 205,
   "id": "e76bd2b8",
   "metadata": {},
   "outputs": [
    {
     "data": {
      "text/plain": [
       "(6336, 6336)"
      ]
     },
     "execution_count": 205,
     "metadata": {},
     "output_type": "execute_result"
    }
   ],
   "source": [
    "row_ID(biomarker_pdl1_wide)"
   ]
  },
  {
   "cell_type": "code",
   "execution_count": 206,
   "id": "3a6e0556",
   "metadata": {},
   "outputs": [],
   "source": [
    "biomarker_wide = pd.merge(biomarker_notpdl1_wide, biomarker_pdl1_wide, on = 'PatientID')"
   ]
  },
  {
   "cell_type": "code",
   "execution_count": 207,
   "id": "cc025ab2",
   "metadata": {},
   "outputs": [
    {
     "data": {
      "text/plain": [
       "(6336, 6336)"
      ]
     },
     "execution_count": 207,
     "metadata": {},
     "output_type": "execute_result"
    }
   ],
   "source": [
    "row_ID(biomarker_wide)"
   ]
  },
  {
   "cell_type": "code",
   "execution_count": 208,
   "id": "59fc3dd9",
   "metadata": {},
   "outputs": [
    {
     "data": {
      "text/html": [
       "<div>\n",
       "<style scoped>\n",
       "    .dataframe tbody tr th:only-of-type {\n",
       "        vertical-align: middle;\n",
       "    }\n",
       "\n",
       "    .dataframe tbody tr th {\n",
       "        vertical-align: top;\n",
       "    }\n",
       "\n",
       "    .dataframe thead th {\n",
       "        text-align: right;\n",
       "    }\n",
       "</style>\n",
       "<table border=\"1\" class=\"dataframe\">\n",
       "  <thead>\n",
       "    <tr style=\"text-align: right;\">\n",
       "      <th></th>\n",
       "      <th>PatientID</th>\n",
       "      <th>ER</th>\n",
       "      <th>HER2</th>\n",
       "      <th>PR</th>\n",
       "      <th>BRCA</th>\n",
       "      <th>PIK3CA</th>\n",
       "      <th>pdl1_n</th>\n",
       "    </tr>\n",
       "  </thead>\n",
       "  <tbody>\n",
       "    <tr>\n",
       "      <th>3004</th>\n",
       "      <td>F8ABD8C944806</td>\n",
       "      <td>positive</td>\n",
       "      <td>negative</td>\n",
       "      <td>positive</td>\n",
       "      <td>negative</td>\n",
       "      <td>unknown</td>\n",
       "      <td>unknown</td>\n",
       "    </tr>\n",
       "    <tr>\n",
       "      <th>1525</th>\n",
       "      <td>F4390570EBE11</td>\n",
       "      <td>positive</td>\n",
       "      <td>negative</td>\n",
       "      <td>positive</td>\n",
       "      <td>unknown</td>\n",
       "      <td>unknown</td>\n",
       "      <td>unknown</td>\n",
       "    </tr>\n",
       "    <tr>\n",
       "      <th>3841</th>\n",
       "      <td>FB29F34C1347B</td>\n",
       "      <td>positive</td>\n",
       "      <td>negative</td>\n",
       "      <td>positive</td>\n",
       "      <td>unknown</td>\n",
       "      <td>unknown</td>\n",
       "      <td>unknown</td>\n",
       "    </tr>\n",
       "    <tr>\n",
       "      <th>3333</th>\n",
       "      <td>F9BDE75EEC224</td>\n",
       "      <td>positive</td>\n",
       "      <td>negative</td>\n",
       "      <td>positive</td>\n",
       "      <td>unknown</td>\n",
       "      <td>unknown</td>\n",
       "      <td>unknown</td>\n",
       "    </tr>\n",
       "    <tr>\n",
       "      <th>1921</th>\n",
       "      <td>F5630257521BA</td>\n",
       "      <td>positive</td>\n",
       "      <td>unknown</td>\n",
       "      <td>positive</td>\n",
       "      <td>unknown</td>\n",
       "      <td>unknown</td>\n",
       "      <td>unknown</td>\n",
       "    </tr>\n",
       "  </tbody>\n",
       "</table>\n",
       "</div>"
      ],
      "text/plain": [
       "          PatientID        ER      HER2        PR      BRCA   PIK3CA   pdl1_n\n",
       "3004  F8ABD8C944806  positive  negative  positive  negative  unknown  unknown\n",
       "1525  F4390570EBE11  positive  negative  positive   unknown  unknown  unknown\n",
       "3841  FB29F34C1347B  positive  negative  positive   unknown  unknown  unknown\n",
       "3333  F9BDE75EEC224  positive  negative  positive   unknown  unknown  unknown\n",
       "1921  F5630257521BA  positive   unknown  positive   unknown  unknown  unknown"
      ]
     },
     "execution_count": 208,
     "metadata": {},
     "output_type": "execute_result"
    }
   ],
   "source": [
    "biomarker_wide.sample(5)"
   ]
  },
  {
   "cell_type": "code",
   "execution_count": 209,
   "id": "00629ddf",
   "metadata": {},
   "outputs": [
    {
     "name": "stdout",
     "output_type": "stream",
     "text": [
      "Variable                       Type         Data/Info\n",
      "-----------------------------------------------------\n",
      "biomarker_brca_pik             DataFrame               PatientID Biom<...>n[1820 rows x 23 columns]\n",
      "biomarker_brca_pik_wide        DataFrame              PatientID  BRCA<...>\\n[6336 rows x 3 columns]\n",
      "biomarker_hr_her2              DataFrame               PatientID Biom<...>[26364 rows x 23 columns]\n",
      "biomarker_hr_her2_wide         DataFrame              PatientID   ER <...>\\n[6336 rows x 4 columns]\n",
      "biomarker_notpdl1_wide         DataFrame              PatientID      <...>\\n[6336 rows x 6 columns]\n",
      "biomarker_pdl1                 DataFrame              PatientID pdl1_<...>\\n[6336 rows x 4 columns]\n",
      "biomarker_pdl1_staining        DataFrame             PatientID pdl1_s<...>n\\n[248 rows x 2 columns]\n",
      "biomarker_pdl1_staining_wide   DataFrame              PatientID pdl1_<...>\\n[6336 rows x 2 columns]\n",
      "biomarker_pdl1_status          DataFrame             PatientID  pdl1_<...>n\\n[248 rows x 2 columns]\n",
      "biomarker_pdl1_status_wide     DataFrame              PatientID  pdl1<...>\\n[6336 rows x 2 columns]\n",
      "biomarker_pdl1_wide            DataFrame              PatientID   pdl<...>\\n[6336 rows x 2 columns]\n",
      "biomarker_wide                 DataFrame              PatientID      <...>\\n[6336 rows x 7 columns]\n",
      "biomarker_win                  DataFrame               PatientID Biom<...>[30549 rows x 22 columns]\n",
      "biomarker_win_pdl1             DataFrame               PatientID Biom<...>\\n[353 rows x 24 columns]\n",
      "biomarkers                     DataFrame               PatientID Biom<...>[48165 rows x 22 columns]\n",
      "demographics                   DataFrame              PatientID gende<...>\\n[6336 rows x 7 columns]\n",
      "enhanced_met                   DataFrame               PatientID diag<...>\\n[6336 rows x 6 columns]\n",
      "med_admin_wide                 DataFrame              PatientID  ster<...>n[6336 rows x 14 columns]\n",
      "mets                           DataFrame               PatientID Date<...>n[15986 rows x 3 columns]\n",
      "mets_max                       DataFrame              PatientID   met<...>\\n[6306 rows x 2 columns]\n",
      "mortality                      DataFrame              PatientID  deat<...>\\n[6336 rows x 3 columns]\n",
      "progression                    DataFrame               PatientID Prog<...>[13013 rows x 10 columns]\n",
      "progression_max                DataFrame              PatientID progr<...>\\n[5525 rows x 2 columns]\n"
     ]
    }
   ],
   "source": [
    "%whos DataFrame"
   ]
  },
  {
   "cell_type": "code",
   "execution_count": 210,
   "id": "800cee89",
   "metadata": {},
   "outputs": [],
   "source": [
    "# Keep biomarker_wide, demographics, enhanced_met, med_admin_wide, and mortality\n",
    "del biomarker_brca_pik\n",
    "del biomarker_brca_pik_wide\n",
    "del biomarker_hr_her2\n",
    "del biomarker_hr_her2_wide\n",
    "del biomarker_pdl1\n",
    "del biomarker_pdl1_staining \n",
    "del biomarker_pdl1_staining_wide\n",
    "del biomarker_pdl1_status\n",
    "del biomarker_pdl1_status_wide\n",
    "del biomarker_pdl1_wide \n",
    "del biomarker_win\n",
    "del biomarker_win_pdl1\n",
    "del biomarkers"
   ]
  },
  {
   "cell_type": "markdown",
   "id": "df7b4157",
   "metadata": {},
   "source": [
    "### 6. Insurance"
   ]
  },
  {
   "cell_type": "code",
   "execution_count": 211,
   "id": "f0d8782d",
   "metadata": {},
   "outputs": [],
   "source": [
    "insurance = pd.read_csv('Insurance.csv')"
   ]
  },
  {
   "cell_type": "code",
   "execution_count": 212,
   "id": "ee2e711d",
   "metadata": {},
   "outputs": [],
   "source": [
    "insurance = insurance[insurance['PatientID'].isin(test_IDs)]"
   ]
  },
  {
   "cell_type": "code",
   "execution_count": 213,
   "id": "b872e4c6",
   "metadata": {},
   "outputs": [
    {
     "data": {
      "text/plain": [
       "(28722, 5991)"
      ]
     },
     "execution_count": 213,
     "metadata": {},
     "output_type": "execute_result"
    }
   ],
   "source": [
    "row_ID(insurance)"
   ]
  },
  {
   "cell_type": "markdown",
   "id": "bafb1756",
   "metadata": {},
   "source": [
    "**The insurance table contains patient insurance/payer information. Patients may have multiple payer categories concurrently. Start date is populated roughly 90% of the time, while end date is populated about 25% of the time. This mutiple-row-per-patient table will be transformed into a single-row-per-patient table. Indicator variables for each payer category active at time of metastatic diagnosis will be made as columns. Insurance will be considered active if start date is less than 30 days from metastatic diagnosis regardless of end date.** "
   ]
  },
  {
   "cell_type": "code",
   "execution_count": 214,
   "id": "7e90f091",
   "metadata": {},
   "outputs": [],
   "source": [
    "insurance.loc[:, 'StartDate'] = pd.to_datetime(insurance['StartDate'])"
   ]
  },
  {
   "cell_type": "code",
   "execution_count": 215,
   "id": "6a408cc4",
   "metadata": {},
   "outputs": [],
   "source": [
    "insurance = pd.merge(insurance, enhanced_met[['PatientID', 'met_date']], on = 'PatientID', how = 'left')"
   ]
  },
  {
   "cell_type": "code",
   "execution_count": 216,
   "id": "a6064b3b",
   "metadata": {},
   "outputs": [],
   "source": [
    "# Remove years with start dates less than 1920 which is likely a coding error. \n",
    "insurance = insurance[(insurance['StartDate']).dt.year >= 1920]"
   ]
  },
  {
   "cell_type": "code",
   "execution_count": 217,
   "id": "330cce18",
   "metadata": {},
   "outputs": [],
   "source": [
    "insurance.loc[:, 'insurance_date_diff'] = (insurance['StartDate'] - insurance['met_date']).dt.days"
   ]
  },
  {
   "cell_type": "code",
   "execution_count": 218,
   "id": "92a41980",
   "metadata": {},
   "outputs": [],
   "source": [
    "insurance_win = insurance[insurance['insurance_date_diff'] <= 30]"
   ]
  },
  {
   "cell_type": "code",
   "execution_count": 219,
   "id": "9008d08d",
   "metadata": {},
   "outputs": [
    {
     "data": {
      "text/plain": [
       "(25993, 5626)"
      ]
     },
     "execution_count": 219,
     "metadata": {},
     "output_type": "execute_result"
    }
   ],
   "source": [
    "row_ID(insurance)"
   ]
  },
  {
   "cell_type": "code",
   "execution_count": 220,
   "id": "45bf7daa",
   "metadata": {},
   "outputs": [
    {
     "name": "stderr",
     "output_type": "stream",
     "text": [
      "/Users/xavierorcutt/Dropbox/ist_project/myenv/lib/python3.7/site-packages/pandas/core/indexing.py:1667: SettingWithCopyWarning: \n",
      "A value is trying to be set on a copy of a slice from a DataFrame.\n",
      "Try using .loc[row_indexer,col_indexer] = value instead\n",
      "\n",
      "See the caveats in the documentation: https://pandas.pydata.org/pandas-docs/stable/user_guide/indexing.html#returning-a-view-versus-a-copy\n",
      "  self.obj[key] = value\n"
     ]
    }
   ],
   "source": [
    "# Recode payer category \n",
    "conditions = [\n",
    "    (insurance_win['IsMedicareAdv'] == 'Yes') | \n",
    "    (insurance_win['IsPartAOnly'] == 'Yes') | \n",
    "    (insurance_win['IsPartBOnly'] == 'Yes') |\n",
    "    (insurance_win['IsPartAandPartB'] == 'Yes') |\n",
    "    (insurance_win['IsPartDOnly'] == 'Yes'),\n",
    "    (insurance_win['IsManagedGovtPlan'] == 'Yes'),\n",
    "    (insurance_win['IsManagedMedicaid'] == 'Yes'),\n",
    "    (insurance_win['IsMedicareMedicaid'] == 'Yes')]\n",
    "\n",
    "choices = ['Medicare', 'Other Government Program', 'Medicaid', 'medicare_medicaid']\n",
    "\n",
    "insurance_win.loc[:, 'payer_category'] = np.select(conditions, choices, insurance_win['PayerCategory'])"
   ]
  },
  {
   "cell_type": "markdown",
   "id": "2642121f",
   "metadata": {},
   "source": [
    "#### Medicare"
   ]
  },
  {
   "cell_type": "code",
   "execution_count": 221,
   "id": "ee2ba845",
   "metadata": {},
   "outputs": [],
   "source": [
    "insurance_win.loc[:, 'medicare'] = np.where(insurance_win['payer_category'] == 'Medicare', 1, 0)"
   ]
  },
  {
   "cell_type": "markdown",
   "id": "0bd85409",
   "metadata": {},
   "source": [
    "#### Medicaid"
   ]
  },
  {
   "cell_type": "code",
   "execution_count": 222,
   "id": "7abf6644",
   "metadata": {},
   "outputs": [],
   "source": [
    "insurance_win.loc[:, 'medicaid'] = np.where(insurance_win['payer_category'] == 'Medicaid', 1, 0)"
   ]
  },
  {
   "cell_type": "markdown",
   "id": "a95f2421",
   "metadata": {},
   "source": [
    "#### Medicare/Medicaid "
   ]
  },
  {
   "cell_type": "code",
   "execution_count": 223,
   "id": "77b7c7bd",
   "metadata": {},
   "outputs": [],
   "source": [
    "insurance_win.loc[:, 'medicare_medicaid'] = np.where(insurance_win['payer_category'] == 'medicare_medicaid', 1, 0)"
   ]
  },
  {
   "cell_type": "markdown",
   "id": "acf6b87c",
   "metadata": {},
   "source": [
    "#### Commercial "
   ]
  },
  {
   "cell_type": "code",
   "execution_count": 224,
   "id": "aaec185a",
   "metadata": {},
   "outputs": [],
   "source": [
    "insurance_win.loc[:, 'commercial'] = np.where(insurance_win['payer_category'] == 'Commercial Health Plan', 1, 0)"
   ]
  },
  {
   "cell_type": "markdown",
   "id": "6ebdb655",
   "metadata": {},
   "source": [
    "#### Patient Assistance Programs "
   ]
  },
  {
   "cell_type": "code",
   "execution_count": 225,
   "id": "97860657",
   "metadata": {},
   "outputs": [],
   "source": [
    "insurance_win.loc[:, 'patient_assistance'] = np.where(insurance_win['payer_category'] == 'Patient Assistance Program', 1, 0)"
   ]
  },
  {
   "cell_type": "markdown",
   "id": "e9820188",
   "metadata": {},
   "source": [
    "#### Other Government Program "
   ]
  },
  {
   "cell_type": "code",
   "execution_count": 226,
   "id": "535d85f9",
   "metadata": {},
   "outputs": [],
   "source": [
    "insurance_win.loc[:, 'other_govt'] = np.where(insurance_win['payer_category'] == 'Other Government Program', 1, 0)"
   ]
  },
  {
   "cell_type": "markdown",
   "id": "61ed640a",
   "metadata": {},
   "source": [
    "#### Self Pay "
   ]
  },
  {
   "cell_type": "code",
   "execution_count": 227,
   "id": "736c553d",
   "metadata": {},
   "outputs": [],
   "source": [
    "insurance_win.loc[:, 'self_pay'] = np.where(insurance_win['payer_category'] == 'Self Pay', 1, 0)"
   ]
  },
  {
   "cell_type": "markdown",
   "id": "69bc16eb",
   "metadata": {},
   "source": [
    "#### Other Payer"
   ]
  },
  {
   "cell_type": "code",
   "execution_count": 228,
   "id": "9e95b632",
   "metadata": {},
   "outputs": [],
   "source": [
    "insurance_win.loc[:, 'other'] = np.where(insurance_win['payer_category'] == 'Other Payer - Type Unknown', 1, 0)"
   ]
  },
  {
   "cell_type": "markdown",
   "id": "1787ea8d",
   "metadata": {},
   "source": [
    "#### Condense "
   ]
  },
  {
   "cell_type": "code",
   "execution_count": 229,
   "id": "7cca9c2d",
   "metadata": {},
   "outputs": [],
   "source": [
    "# After dropping 'insurance_date_diff', add columns by PatientID.\n",
    "insurance_wide = (\n",
    "    insurance_win\n",
    "    .drop(columns = ['insurance_date_diff'])\n",
    "    .groupby('PatientID').sum()\n",
    ")"
   ]
  },
  {
   "cell_type": "code",
   "execution_count": 230,
   "id": "031aa823",
   "metadata": {},
   "outputs": [],
   "source": [
    "# Set any value greater than 1 to 1; leave 0 unchanged. \n",
    "insurance_wide = (\n",
    "    insurance_wide\n",
    "    .mask(insurance_wide > 1, 1)\n",
    "    .reset_index()\n",
    ")"
   ]
  },
  {
   "cell_type": "code",
   "execution_count": 231,
   "id": "8284a210",
   "metadata": {},
   "outputs": [
    {
     "data": {
      "text/plain": [
       "(4596, 4596)"
      ]
     },
     "execution_count": 231,
     "metadata": {},
     "output_type": "execute_result"
    }
   ],
   "source": [
    "row_ID(insurance_wide)"
   ]
  },
  {
   "cell_type": "code",
   "execution_count": 232,
   "id": "6acfcf7a",
   "metadata": {},
   "outputs": [],
   "source": [
    "# Append missing training IDs.\n",
    "insurance_wide = (\n",
    "    insurance_wide\n",
    "    .append(\n",
    "        pd.Series(test_IDs)[~pd.Series(test_IDs).isin(insurance_wide['PatientID'])].to_frame(name = 'PatientID'),\n",
    "        sort = False)\n",
    ")"
   ]
  },
  {
   "cell_type": "code",
   "execution_count": 233,
   "id": "032d7ad0",
   "metadata": {},
   "outputs": [
    {
     "data": {
      "text/plain": [
       "(6336, 6336)"
      ]
     },
     "execution_count": 233,
     "metadata": {},
     "output_type": "execute_result"
    }
   ],
   "source": [
    "row_ID(insurance_wide)"
   ]
  },
  {
   "cell_type": "code",
   "execution_count": 234,
   "id": "7e1c872c",
   "metadata": {},
   "outputs": [],
   "source": [
    "insurance_wide = insurance_wide.fillna(0)"
   ]
  },
  {
   "cell_type": "code",
   "execution_count": 235,
   "id": "f7f08c74",
   "metadata": {},
   "outputs": [
    {
     "data": {
      "text/html": [
       "<div>\n",
       "<style scoped>\n",
       "    .dataframe tbody tr th:only-of-type {\n",
       "        vertical-align: middle;\n",
       "    }\n",
       "\n",
       "    .dataframe tbody tr th {\n",
       "        vertical-align: top;\n",
       "    }\n",
       "\n",
       "    .dataframe thead th {\n",
       "        text-align: right;\n",
       "    }\n",
       "</style>\n",
       "<table border=\"1\" class=\"dataframe\">\n",
       "  <thead>\n",
       "    <tr style=\"text-align: right;\">\n",
       "      <th></th>\n",
       "      <th>PatientID</th>\n",
       "      <th>medicare</th>\n",
       "      <th>medicaid</th>\n",
       "      <th>medicare_medicaid</th>\n",
       "      <th>commercial</th>\n",
       "      <th>patient_assistance</th>\n",
       "      <th>other_govt</th>\n",
       "      <th>self_pay</th>\n",
       "      <th>other</th>\n",
       "    </tr>\n",
       "  </thead>\n",
       "  <tbody>\n",
       "    <tr>\n",
       "      <th>679</th>\n",
       "      <td>F22EA968A6A0F</td>\n",
       "      <td>0.0</td>\n",
       "      <td>0.0</td>\n",
       "      <td>0.0</td>\n",
       "      <td>1.0</td>\n",
       "      <td>1.0</td>\n",
       "      <td>0.0</td>\n",
       "      <td>0.0</td>\n",
       "      <td>1.0</td>\n",
       "    </tr>\n",
       "    <tr>\n",
       "      <th>1440</th>\n",
       "      <td>F4CA07F2475B4</td>\n",
       "      <td>1.0</td>\n",
       "      <td>0.0</td>\n",
       "      <td>0.0</td>\n",
       "      <td>0.0</td>\n",
       "      <td>0.0</td>\n",
       "      <td>0.0</td>\n",
       "      <td>0.0</td>\n",
       "      <td>0.0</td>\n",
       "    </tr>\n",
       "    <tr>\n",
       "      <th>5788</th>\n",
       "      <td>F3B2B97C65851</td>\n",
       "      <td>0.0</td>\n",
       "      <td>0.0</td>\n",
       "      <td>0.0</td>\n",
       "      <td>0.0</td>\n",
       "      <td>0.0</td>\n",
       "      <td>0.0</td>\n",
       "      <td>0.0</td>\n",
       "      <td>0.0</td>\n",
       "    </tr>\n",
       "    <tr>\n",
       "      <th>1526</th>\n",
       "      <td>F516FF4372D7D</td>\n",
       "      <td>1.0</td>\n",
       "      <td>0.0</td>\n",
       "      <td>1.0</td>\n",
       "      <td>1.0</td>\n",
       "      <td>0.0</td>\n",
       "      <td>0.0</td>\n",
       "      <td>0.0</td>\n",
       "      <td>0.0</td>\n",
       "    </tr>\n",
       "    <tr>\n",
       "      <th>4453</th>\n",
       "      <td>FF8754D33A883</td>\n",
       "      <td>1.0</td>\n",
       "      <td>0.0</td>\n",
       "      <td>0.0</td>\n",
       "      <td>0.0</td>\n",
       "      <td>0.0</td>\n",
       "      <td>0.0</td>\n",
       "      <td>0.0</td>\n",
       "      <td>0.0</td>\n",
       "    </tr>\n",
       "  </tbody>\n",
       "</table>\n",
       "</div>"
      ],
      "text/plain": [
       "          PatientID  medicare  medicaid  medicare_medicaid  commercial  \\\n",
       "679   F22EA968A6A0F       0.0       0.0                0.0         1.0   \n",
       "1440  F4CA07F2475B4       1.0       0.0                0.0         0.0   \n",
       "5788  F3B2B97C65851       0.0       0.0                0.0         0.0   \n",
       "1526  F516FF4372D7D       1.0       0.0                1.0         1.0   \n",
       "4453  FF8754D33A883       1.0       0.0                0.0         0.0   \n",
       "\n",
       "      patient_assistance  other_govt  self_pay  other  \n",
       "679                  1.0         0.0       0.0    1.0  \n",
       "1440                 0.0         0.0       0.0    0.0  \n",
       "5788                 0.0         0.0       0.0    0.0  \n",
       "1526                 0.0         0.0       0.0    0.0  \n",
       "4453                 0.0         0.0       0.0    0.0  "
      ]
     },
     "execution_count": 235,
     "metadata": {},
     "output_type": "execute_result"
    }
   ],
   "source": [
    "insurance_wide.sample(5)"
   ]
  },
  {
   "cell_type": "code",
   "execution_count": 236,
   "id": "61b7623b",
   "metadata": {},
   "outputs": [
    {
     "name": "stdout",
     "output_type": "stream",
     "text": [
      "Variable                 Type         Data/Info\n",
      "-----------------------------------------------\n",
      "biomarker_notpdl1_wide   DataFrame              PatientID      <...>\\n[6336 rows x 6 columns]\n",
      "biomarker_wide           DataFrame              PatientID      <...>\\n[6336 rows x 7 columns]\n",
      "demographics             DataFrame              PatientID gende<...>\\n[6336 rows x 7 columns]\n",
      "enhanced_met             DataFrame               PatientID diag<...>\\n[6336 rows x 6 columns]\n",
      "insurance                DataFrame               PatientID     <...>[25993 rows x 16 columns]\n",
      "insurance_wide           DataFrame              PatientID  medi<...>\\n[6336 rows x 9 columns]\n",
      "insurance_win            DataFrame               PatientID     <...>[11919 rows x 25 columns]\n",
      "med_admin_wide           DataFrame              PatientID  ster<...>n[6336 rows x 14 columns]\n",
      "mets                     DataFrame               PatientID Date<...>n[15986 rows x 3 columns]\n",
      "mets_max                 DataFrame              PatientID   met<...>\\n[6306 rows x 2 columns]\n",
      "mortality                DataFrame              PatientID  deat<...>\\n[6336 rows x 3 columns]\n",
      "progression              DataFrame               PatientID Prog<...>[13013 rows x 10 columns]\n",
      "progression_max          DataFrame              PatientID progr<...>\\n[5525 rows x 2 columns]\n"
     ]
    }
   ],
   "source": [
    "%whos DataFrame"
   ]
  },
  {
   "cell_type": "code",
   "execution_count": 237,
   "id": "278669bc",
   "metadata": {},
   "outputs": [],
   "source": [
    "# Keep biomarker_wide, demographics, enhanced_met, insurance_wide, med_admin_wide, and mortality\n",
    "del insurance\n",
    "del insurance_win"
   ]
  },
  {
   "cell_type": "markdown",
   "id": "0eb7d91c",
   "metadata": {},
   "source": [
    "### 7. ECOG"
   ]
  },
  {
   "cell_type": "code",
   "execution_count": 238,
   "id": "cd106b47",
   "metadata": {},
   "outputs": [],
   "source": [
    "ecog = pd.read_csv('ECOG.csv')"
   ]
  },
  {
   "cell_type": "code",
   "execution_count": 239,
   "id": "2611f811",
   "metadata": {},
   "outputs": [],
   "source": [
    "ecog = ecog[ecog['PatientID'].isin(test_IDs)]"
   ]
  },
  {
   "cell_type": "code",
   "execution_count": 240,
   "id": "bdf49ce9",
   "metadata": {},
   "outputs": [
    {
     "data": {
      "text/plain": [
       "(126570, 4807)"
      ]
     },
     "execution_count": 240,
     "metadata": {},
     "output_type": "execute_result"
    }
   ],
   "source": [
    "row_ID(ecog)"
   ]
  },
  {
   "cell_type": "markdown",
   "id": "edd51216",
   "metadata": {},
   "source": [
    "**The ECOG table is a longitudinal record of structured ECOG scores captured in the EHR for each patient. Many patients have multiple ECOG scores reported. A new dataframe will be built where one ECOG score will be assigned to each patient. The index date will be date of advanced diagnosis with an elgible window period of +30 days to -90 days from advanced diagnosis. The ECOG score closest to index date will be assigned to the patient. In the case of two ECOG scores on the same day or equidistant but on opposite sides of the index date, the higher ECOG score (worse performance) will be selected.** \n",
    "\n",
    "**BaselineECOG is a composite table that selects one ECOG score within +7 days and -30 days of a line of therapy. Patients might have two baseline ECOG values for line number 1 due to maintenance therapy. BaselineECOG will not be used for creating baseline models.** "
   ]
  },
  {
   "cell_type": "code",
   "execution_count": 241,
   "id": "e92cabf4",
   "metadata": {},
   "outputs": [],
   "source": [
    "ecog = pd.merge(ecog, enhanced_met[['PatientID', 'met_date']], on = 'PatientID', how = 'left')"
   ]
  },
  {
   "cell_type": "code",
   "execution_count": 242,
   "id": "73b7e51f",
   "metadata": {},
   "outputs": [],
   "source": [
    "ecog.loc[:, 'EcogDate'] = pd.to_datetime(ecog['EcogDate'])      "
   ]
  },
  {
   "cell_type": "code",
   "execution_count": 243,
   "id": "12a374cd",
   "metadata": {},
   "outputs": [],
   "source": [
    "ecog.loc[:, 'ecog_date_diff'] = (ecog['EcogDate'] - ecog['met_date']).dt.days"
   ]
  },
  {
   "cell_type": "code",
   "execution_count": 244,
   "id": "ffa3ce48",
   "metadata": {},
   "outputs": [],
   "source": [
    "ecog_win = ecog[(ecog['ecog_date_diff'] >= -90) & (ecog['ecog_date_diff'] <= 30)]"
   ]
  },
  {
   "cell_type": "code",
   "execution_count": 245,
   "id": "65d57061",
   "metadata": {},
   "outputs": [
    {
     "data": {
      "text/plain": [
       "(7761, 2861)"
      ]
     },
     "execution_count": 245,
     "metadata": {},
     "output_type": "execute_result"
    }
   ],
   "source": [
    "row_ID(ecog_win)"
   ]
  },
  {
   "cell_type": "code",
   "execution_count": 246,
   "id": "70fe3631",
   "metadata": {},
   "outputs": [
    {
     "name": "stderr",
     "output_type": "stream",
     "text": [
      "/Users/xavierorcutt/Dropbox/ist_project/myenv/lib/python3.7/site-packages/pandas/core/indexing.py:1773: SettingWithCopyWarning: \n",
      "A value is trying to be set on a copy of a slice from a DataFrame.\n",
      "Try using .loc[row_indexer,col_indexer] = value instead\n",
      "\n",
      "See the caveats in the documentation: https://pandas.pydata.org/pandas-docs/stable/user_guide/indexing.html#returning-a-view-versus-a-copy\n",
      "  self._setitem_single_column(ilocs[0], value, pi)\n"
     ]
    }
   ],
   "source": [
    "# Time from metastatic diagnosis to ECOG date will be converted to an absolute value. \n",
    "ecog_win.loc[:, 'ecog_date_diff'] = ecog_win['ecog_date_diff'].abs()"
   ]
  },
  {
   "cell_type": "code",
   "execution_count": 247,
   "id": "435fba2c",
   "metadata": {},
   "outputs": [],
   "source": [
    "# Sort values with ECOG nearest to time of diagnosis as top row (and largest ECOG if multiple ECOGs that day) then select top row.   ECOG date nearest to day of diagnosis as top row and largest ES\n",
    "ecog_diagnosis_wide = (\n",
    "    ecog_win\n",
    "    .sort_values(by = ['PatientID', 'ecog_date_diff', 'EcogValue'], ascending = [True, True, False])\n",
    "    .drop_duplicates(subset = ['PatientID'], keep = 'first' )\n",
    "    .filter(items = ['PatientID', 'EcogValue'])\n",
    "    .rename(columns = {'EcogValue': 'ecog_diagnosis'})\n",
    ")"
   ]
  },
  {
   "cell_type": "code",
   "execution_count": 248,
   "id": "c2c3cc89",
   "metadata": {},
   "outputs": [
    {
     "data": {
      "text/plain": [
       "(2861, 2861)"
      ]
     },
     "execution_count": 248,
     "metadata": {},
     "output_type": "execute_result"
    }
   ],
   "source": [
    "row_ID(ecog_diagnosis_wide)"
   ]
  },
  {
   "cell_type": "code",
   "execution_count": 249,
   "id": "d1c1dab8",
   "metadata": {},
   "outputs": [],
   "source": [
    "# Append missing training IDs. \n",
    "ecog_diagnosis_wide = (\n",
    "    ecog_diagnosis_wide\n",
    "    .append(\n",
    "        pd.Series(test_IDs)[~pd.Series(test_IDs).isin(ecog_diagnosis_wide['PatientID'])].to_frame(name = 'PatientID'),\n",
    "        sort = False)\n",
    "    .fillna('unknown')\n",
    ")"
   ]
  },
  {
   "cell_type": "code",
   "execution_count": 250,
   "id": "a19107c7",
   "metadata": {},
   "outputs": [
    {
     "data": {
      "text/plain": [
       "(6336, 6336)"
      ]
     },
     "execution_count": 250,
     "metadata": {},
     "output_type": "execute_result"
    }
   ],
   "source": [
    "row_ID(ecog_diagnosis_wide)"
   ]
  },
  {
   "cell_type": "code",
   "execution_count": 251,
   "id": "835cc01a",
   "metadata": {},
   "outputs": [
    {
     "data": {
      "text/html": [
       "<div>\n",
       "<style scoped>\n",
       "    .dataframe tbody tr th:only-of-type {\n",
       "        vertical-align: middle;\n",
       "    }\n",
       "\n",
       "    .dataframe tbody tr th {\n",
       "        vertical-align: top;\n",
       "    }\n",
       "\n",
       "    .dataframe thead th {\n",
       "        text-align: right;\n",
       "    }\n",
       "</style>\n",
       "<table border=\"1\" class=\"dataframe\">\n",
       "  <thead>\n",
       "    <tr style=\"text-align: right;\">\n",
       "      <th></th>\n",
       "      <th>PatientID</th>\n",
       "      <th>ecog_diagnosis</th>\n",
       "    </tr>\n",
       "  </thead>\n",
       "  <tbody>\n",
       "    <tr>\n",
       "      <th>2536</th>\n",
       "      <td>FBEF1EE3E99B7</td>\n",
       "      <td>unknown</td>\n",
       "    </tr>\n",
       "    <tr>\n",
       "      <th>93770</th>\n",
       "      <td>F331480712D8D</td>\n",
       "      <td>0.0</td>\n",
       "    </tr>\n",
       "    <tr>\n",
       "      <th>803</th>\n",
       "      <td>F8FF9A7E323F6</td>\n",
       "      <td>unknown</td>\n",
       "    </tr>\n",
       "    <tr>\n",
       "      <th>6310</th>\n",
       "      <td>F8702C04EF290</td>\n",
       "      <td>unknown</td>\n",
       "    </tr>\n",
       "    <tr>\n",
       "      <th>2349</th>\n",
       "      <td>F0826F545E58C</td>\n",
       "      <td>unknown</td>\n",
       "    </tr>\n",
       "  </tbody>\n",
       "</table>\n",
       "</div>"
      ],
      "text/plain": [
       "           PatientID ecog_diagnosis\n",
       "2536   FBEF1EE3E99B7        unknown\n",
       "93770  F331480712D8D            0.0\n",
       "803    F8FF9A7E323F6        unknown\n",
       "6310   F8702C04EF290        unknown\n",
       "2349   F0826F545E58C        unknown"
      ]
     },
     "execution_count": 251,
     "metadata": {},
     "output_type": "execute_result"
    }
   ],
   "source": [
    "ecog_diagnosis_wide.sample(5)"
   ]
  },
  {
   "cell_type": "code",
   "execution_count": 252,
   "id": "e6f8d7e9",
   "metadata": {},
   "outputs": [
    {
     "name": "stdout",
     "output_type": "stream",
     "text": [
      "Variable                 Type         Data/Info\n",
      "-----------------------------------------------\n",
      "biomarker_notpdl1_wide   DataFrame              PatientID      <...>\\n[6336 rows x 6 columns]\n",
      "biomarker_wide           DataFrame              PatientID      <...>\\n[6336 rows x 7 columns]\n",
      "demographics             DataFrame              PatientID gende<...>\\n[6336 rows x 7 columns]\n",
      "ecog                     DataFrame                PatientID    <...>[126570 rows x 6 columns]\n",
      "ecog_diagnosis_wide      DataFrame               PatientID ecog<...>\\n[6336 rows x 2 columns]\n",
      "ecog_win                 DataFrame                PatientID    <...>\\n[7761 rows x 6 columns]\n",
      "enhanced_met             DataFrame               PatientID diag<...>\\n[6336 rows x 6 columns]\n",
      "insurance_wide           DataFrame              PatientID  medi<...>\\n[6336 rows x 9 columns]\n",
      "med_admin_wide           DataFrame              PatientID  ster<...>n[6336 rows x 14 columns]\n",
      "mets                     DataFrame               PatientID Date<...>n[15986 rows x 3 columns]\n",
      "mets_max                 DataFrame              PatientID   met<...>\\n[6306 rows x 2 columns]\n",
      "mortality                DataFrame              PatientID  deat<...>\\n[6336 rows x 3 columns]\n",
      "progression              DataFrame               PatientID Prog<...>[13013 rows x 10 columns]\n",
      "progression_max          DataFrame              PatientID progr<...>\\n[5525 rows x 2 columns]\n"
     ]
    }
   ],
   "source": [
    "%whos DataFrame"
   ]
  },
  {
   "cell_type": "code",
   "execution_count": 253,
   "id": "8b068c9e",
   "metadata": {},
   "outputs": [],
   "source": [
    "# Keep biomarker_wide, demographics, ecog_diagnosis_wide, enhanced_met, insurance_wide, med_admin_wide, and mortality\n",
    "del ecog\n",
    "del ecog_win"
   ]
  },
  {
   "cell_type": "markdown",
   "id": "f3b0b92c",
   "metadata": {},
   "source": [
    "### 8. Vitals"
   ]
  },
  {
   "cell_type": "code",
   "execution_count": 254,
   "id": "f1d94261",
   "metadata": {},
   "outputs": [],
   "source": [
    "vitals = pd.read_csv('Vitals.csv')"
   ]
  },
  {
   "cell_type": "code",
   "execution_count": 255,
   "id": "da0fb30a",
   "metadata": {},
   "outputs": [],
   "source": [
    "vitals = vitals[vitals['PatientID'].isin(test_IDs)]"
   ]
  },
  {
   "cell_type": "code",
   "execution_count": 256,
   "id": "61d27d43",
   "metadata": {},
   "outputs": [
    {
     "data": {
      "text/plain": [
       "(2008013, 6319)"
      ]
     },
     "execution_count": 256,
     "metadata": {},
     "output_type": "execute_result"
    }
   ],
   "source": [
    "row_ID(vitals)"
   ]
  },
  {
   "cell_type": "markdown",
   "id": "414738e3",
   "metadata": {},
   "source": [
    "**The Vitals table is a longitudinal record of vitals captured in the EHR for each patient. A weight and BMI variable at time of advanced diagnosis will be created. The elgibility window will be -90 days to +30 days from advanced diagnosis. Average height from all visits will be used to calculate BMI. In the case of two weights on the same day or equidistant but on opposite sides of the index date, the lowest weight will be selected. Percent change in weight and weight slope 3 months within metastatic diagnosis will be calculated. Patients must have at least two weight recordings to calculate percent change in weight or weight slope.** "
   ]
  },
  {
   "cell_type": "markdown",
   "id": "61cf9cc3",
   "metadata": {},
   "source": [
    "#### Weight and BMI"
   ]
  },
  {
   "cell_type": "code",
   "execution_count": 257,
   "id": "54ef7dd3",
   "metadata": {},
   "outputs": [],
   "source": [
    "# Create weight dataframe; remove weight values that are empty or equal to zero.\n",
    "weight = (\n",
    "    vitals\n",
    "    .query('Test == \"body weight\"')\n",
    "    .filter(items = ['PatientID', 'TestDate', 'TestResultCleaned'])\n",
    "    .rename(columns = {'TestResultCleaned': 'weight'})\n",
    "    .dropna(subset = ['weight'])\n",
    "    .query('weight != 0')\n",
    ")"
   ]
  },
  {
   "cell_type": "code",
   "execution_count": 258,
   "id": "9d1edabe",
   "metadata": {},
   "outputs": [],
   "source": [
    "weight.loc[:, 'TestDate'] = pd.to_datetime(weight['TestDate'])"
   ]
  },
  {
   "cell_type": "code",
   "execution_count": 259,
   "id": "037086db",
   "metadata": {},
   "outputs": [],
   "source": [
    "weight = pd.merge(weight, enhanced_met[['PatientID', 'met_date']], on = 'PatientID', how = 'left')"
   ]
  },
  {
   "cell_type": "code",
   "execution_count": 260,
   "id": "fc4c86c8",
   "metadata": {},
   "outputs": [],
   "source": [
    "# Weight elgibliity window is -90 and +30 from metastatic diagnosis diagnosis. \n",
    "weight_win_bmi = (\n",
    "    weight\n",
    "    .assign(weight_date_diff = (weight['TestDate'] - weight['met_date']).dt.days)\n",
    "    .query('weight_date_diff >= -90 and weight_date_diff <= 30')\n",
    ")"
   ]
  },
  {
   "cell_type": "code",
   "execution_count": 261,
   "id": "dc39df10",
   "metadata": {},
   "outputs": [],
   "source": [
    "weight_win_bmi.loc[:, 'weight_date_diff'] = weight_win_bmi['weight_date_diff'].abs()"
   ]
  },
  {
   "cell_type": "code",
   "execution_count": 262,
   "id": "9b3d7e33",
   "metadata": {},
   "outputs": [],
   "source": [
    "# Select weight closest to date of metastatic diagnosis; lowest weight selected in the event of two weights on same day or equidistant. \n",
    "weight_bmi_wide = (\n",
    "    weight_win_bmi\n",
    "    .sort_values(by = ['PatientID', 'weight_date_diff', 'weight'], ascending = [True, True, True])\n",
    "    .drop_duplicates(subset = ['PatientID'], keep = 'first')\n",
    "    .filter(items = ['PatientID', 'weight'])\n",
    "    .rename(columns = {'weight': 'weight_diag'})\n",
    ")"
   ]
  },
  {
   "cell_type": "code",
   "execution_count": 263,
   "id": "7c9f233c",
   "metadata": {},
   "outputs": [],
   "source": [
    "# Dataframe of average height for each patient. \n",
    "height_avg = (\n",
    "    vitals\n",
    "    .query('Test == \"body height\"')\n",
    "    .filter(items = ['PatientID', 'TestResultCleaned'])\n",
    "    .query('TestResultCleaned > 0')\n",
    "    .groupby('PatientID')['TestResultCleaned'].mean()\n",
    "    .to_frame()\n",
    "    .reset_index()\n",
    "    .rename(columns = {'TestResultCleaned': 'height_avg'})\n",
    ")"
   ]
  },
  {
   "cell_type": "code",
   "execution_count": 264,
   "id": "2fd076b0",
   "metadata": {},
   "outputs": [],
   "source": [
    "weight_bmi_wide = pd.merge(weight_bmi_wide, height_avg, on = 'PatientID', how = 'left')"
   ]
  },
  {
   "cell_type": "code",
   "execution_count": 265,
   "id": "65b5f2e0",
   "metadata": {},
   "outputs": [],
   "source": [
    "# Create BMI column. \n",
    "weight_bmi_wide = (\n",
    "    weight_bmi_wide\n",
    "    .assign(bmi_diag = lambda x: (x['weight_diag']/(x['height_avg']*x['height_avg']))*10000)\n",
    "    .drop(columns = ['height_avg'])\n",
    ")"
   ]
  },
  {
   "cell_type": "code",
   "execution_count": 266,
   "id": "8b519c7c",
   "metadata": {},
   "outputs": [],
   "source": [
    "# Append excluded IDs from training set and create a missing variable for those without BMI at diagnosis. \n",
    "weight_bmi_wide = (\n",
    "    weight_bmi_wide\n",
    "    .append(\n",
    "        pd.Series(test_IDs)[~pd.Series(test_IDs).isin(weight_bmi_wide['PatientID'])].to_frame(name = 'PatientID'),\n",
    "        sort = False)\n",
    ")"
   ]
  },
  {
   "cell_type": "code",
   "execution_count": 267,
   "id": "8482f600",
   "metadata": {},
   "outputs": [
    {
     "data": {
      "text/plain": [
       "(6336, 6336)"
      ]
     },
     "execution_count": 267,
     "metadata": {},
     "output_type": "execute_result"
    }
   ],
   "source": [
    "row_ID(weight_bmi_wide)"
   ]
  },
  {
   "cell_type": "code",
   "execution_count": 268,
   "id": "1ce856d3",
   "metadata": {},
   "outputs": [],
   "source": [
    "weight_bmi_wide.loc[:, 'bmi_diag_na'] = np.where(weight_bmi_wide['bmi_diag'].isna(), 1, 0)"
   ]
  },
  {
   "cell_type": "markdown",
   "id": "4f8c1fc5",
   "metadata": {},
   "source": [
    "#### Percent change "
   ]
  },
  {
   "cell_type": "code",
   "execution_count": 269,
   "id": "f2755479",
   "metadata": {},
   "outputs": [],
   "source": [
    "# Select elgbility window of -90 to +90 days from advanced diagnosis.\n",
    "weight_win_summary = (\n",
    "    weight\n",
    "    .assign(weight_date_diff = (weight['TestDate'] - weight['met_date']).dt.days)\n",
    "    .query('weight_date_diff >= -90 and weight_date_diff <= 90')\n",
    ")"
   ]
  },
  {
   "cell_type": "code",
   "execution_count": 270,
   "id": "2b773ca8",
   "metadata": {},
   "outputs": [],
   "source": [
    "# Select patients with more than 1 weight recording within elgibility window.\n",
    "weight_win_summary = weight_win_summary[weight_win_summary.duplicated(subset = ['PatientID'], keep = False)]"
   ]
  },
  {
   "cell_type": "code",
   "execution_count": 271,
   "id": "3cb2951d",
   "metadata": {},
   "outputs": [],
   "source": [
    "# Select weight from the earliest time within elgibility window. \n",
    "weight_tmin = weight_win_summary.loc[weight_win_summary.groupby('PatientID')['weight_date_diff'].idxmin()]"
   ]
  },
  {
   "cell_type": "code",
   "execution_count": 272,
   "id": "77ac7757",
   "metadata": {},
   "outputs": [],
   "source": [
    "# Select weight from the latest time within elgibility window. \n",
    "weight_tmax = weight_win_summary.loc[weight_win_summary.groupby('PatientID')['weight_date_diff'].idxmax()]"
   ]
  },
  {
   "cell_type": "code",
   "execution_count": 273,
   "id": "3b8ce52d",
   "metadata": {},
   "outputs": [],
   "source": [
    "# Combine above two dataframes and sort from earliest recorded weight to latest recorded weight for each patient. \n",
    "weight_tcomb = (\n",
    "    pd.concat([weight_tmin, weight_tmax])\n",
    "    .sort_values(by = ['PatientID', 'weight_date_diff'], ascending = True)\n",
    ")"
   ]
  },
  {
   "cell_type": "code",
   "execution_count": 274,
   "id": "3f815727",
   "metadata": {},
   "outputs": [
    {
     "data": {
      "text/plain": [
       "(9404, 4702)"
      ]
     },
     "execution_count": 274,
     "metadata": {},
     "output_type": "execute_result"
    }
   ],
   "source": [
    "row_ID(weight_tcomb)"
   ]
  },
  {
   "cell_type": "code",
   "execution_count": 275,
   "id": "726ac182",
   "metadata": {},
   "outputs": [],
   "source": [
    "weight_tcomb.loc[:, 'weight_pct_change'] = weight_tcomb.groupby('PatientID')['weight'].pct_change()"
   ]
  },
  {
   "cell_type": "code",
   "execution_count": 276,
   "id": "821e81f4",
   "metadata": {},
   "outputs": [],
   "source": [
    "weight_tcomb.loc[:, 'diff_date_diff'] = weight_tcomb['weight_date_diff'].diff()"
   ]
  },
  {
   "cell_type": "code",
   "execution_count": 277,
   "id": "166afafb",
   "metadata": {},
   "outputs": [],
   "source": [
    "# Drop empty rows for weight_pct_change.\n",
    "weight_pct_wide = (\n",
    "    weight_tcomb\n",
    "    .dropna(subset = ['weight_pct_change'])\n",
    "    .filter(items = ['PatientID', 'weight_pct_change', 'diff_date_diff'])\n",
    ")"
   ]
  },
  {
   "cell_type": "code",
   "execution_count": 278,
   "id": "bd3eed03",
   "metadata": {},
   "outputs": [
    {
     "data": {
      "text/plain": [
       "(4702, 4702)"
      ]
     },
     "execution_count": 278,
     "metadata": {},
     "output_type": "execute_result"
    }
   ],
   "source": [
    "row_ID(weight_pct_wide)"
   ]
  },
  {
   "cell_type": "code",
   "execution_count": 279,
   "id": "f1735823",
   "metadata": {},
   "outputs": [],
   "source": [
    "# Append missing training IDs and create a missing variable for those without weight_pct_change. \n",
    "weight_pct_wide = (\n",
    "    weight_pct_wide\n",
    "    .append(\n",
    "        pd.Series(test_IDs)[~pd.Series(test_IDs).isin(weight_pct_wide['PatientID'])].to_frame(name = 'PatientID'),\n",
    "        sort = False)\n",
    "    .drop(columns = ['diff_date_diff'])\n",
    ")"
   ]
  },
  {
   "cell_type": "code",
   "execution_count": 280,
   "id": "ce2b4996",
   "metadata": {},
   "outputs": [
    {
     "data": {
      "text/plain": [
       "(6336, 6336)"
      ]
     },
     "execution_count": 280,
     "metadata": {},
     "output_type": "execute_result"
    }
   ],
   "source": [
    "row_ID(weight_pct_wide)"
   ]
  },
  {
   "cell_type": "code",
   "execution_count": 281,
   "id": "169f5899",
   "metadata": {},
   "outputs": [],
   "source": [
    "weight_pct_wide.loc[:, 'weight_pct_na'] = np.where(weight_pct_wide['weight_pct_change'].isna(), 1, 0)"
   ]
  },
  {
   "cell_type": "markdown",
   "id": "4bd9b662",
   "metadata": {},
   "source": [
    "#### Weight slope"
   ]
  },
  {
   "cell_type": "code",
   "execution_count": 282,
   "id": "54c2c2c3",
   "metadata": {},
   "outputs": [],
   "source": [
    "from scipy.stats import linregress "
   ]
  },
  {
   "cell_type": "code",
   "execution_count": 283,
   "id": "db8f245e",
   "metadata": {},
   "outputs": [],
   "source": [
    "weight_win_summary.loc[:, 'date_ordinal'] = weight_win_summary['TestDate'].map(dt.datetime.toordinal)"
   ]
  },
  {
   "cell_type": "code",
   "execution_count": 284,
   "id": "8bdab249",
   "metadata": {},
   "outputs": [
    {
     "name": "stderr",
     "output_type": "stream",
     "text": [
      "/Users/xavierorcutt/Dropbox/ist_project/myenv/lib/python3.7/site-packages/scipy/stats/_stats_mstats_common.py:170: RuntimeWarning: invalid value encountered in double_scalars\n",
      "  slope = ssxym / ssxm\n"
     ]
    }
   ],
   "source": [
    "# Dataframe of slope for weight recordings within window period (kg/day).\n",
    "weight_slope_wide = (\n",
    "    weight_win_summary\n",
    "    .groupby('PatientID')\n",
    "    .apply(lambda x: pd.Series(linregress(x['date_ordinal'], x['weight'])))\n",
    "    .rename(columns = {0: 'weight_slope'})\n",
    "    .reset_index()\n",
    "    .filter(items = ['PatientID', 'weight_slope']))   "
   ]
  },
  {
   "cell_type": "code",
   "execution_count": 285,
   "id": "94605e2a",
   "metadata": {},
   "outputs": [
    {
     "data": {
      "text/plain": [
       "(4702, 4702)"
      ]
     },
     "execution_count": 285,
     "metadata": {},
     "output_type": "execute_result"
    }
   ],
   "source": [
    "row_ID(weight_slope_wide)"
   ]
  },
  {
   "cell_type": "code",
   "execution_count": 286,
   "id": "51e4cba8",
   "metadata": {},
   "outputs": [],
   "source": [
    "# Append missing training IDs. \n",
    "weight_slope_wide = (\n",
    "    weight_slope_wide\n",
    "    .append(\n",
    "        pd.Series(test_IDs)[~pd.Series(test_IDs).isin(weight_slope_wide['PatientID'])].to_frame(name = 'PatientID'),\n",
    "        sort = False)\n",
    ")"
   ]
  },
  {
   "cell_type": "code",
   "execution_count": 287,
   "id": "381e135d",
   "metadata": {},
   "outputs": [
    {
     "data": {
      "text/plain": [
       "(6336, 6336)"
      ]
     },
     "execution_count": 287,
     "metadata": {},
     "output_type": "execute_result"
    }
   ],
   "source": [
    "row_ID(weight_slope_wide)"
   ]
  },
  {
   "cell_type": "markdown",
   "id": "8c622dec",
   "metadata": {},
   "source": [
    "#### Weight merge "
   ]
  },
  {
   "cell_type": "code",
   "execution_count": 288,
   "id": "e921461e",
   "metadata": {},
   "outputs": [],
   "source": [
    "weight_wide = pd.merge(weight_bmi_wide, weight_pct_wide, on = 'PatientID')"
   ]
  },
  {
   "cell_type": "code",
   "execution_count": 289,
   "id": "4879771d",
   "metadata": {},
   "outputs": [],
   "source": [
    "weight_wide = pd.merge(weight_wide, weight_slope_wide, on = 'PatientID')"
   ]
  },
  {
   "cell_type": "code",
   "execution_count": 290,
   "id": "7ccb222e",
   "metadata": {},
   "outputs": [
    {
     "data": {
      "text/plain": [
       "(6336, 6336)"
      ]
     },
     "execution_count": 290,
     "metadata": {},
     "output_type": "execute_result"
    }
   ],
   "source": [
    "row_ID(weight_wide)"
   ]
  },
  {
   "cell_type": "code",
   "execution_count": 291,
   "id": "88b201d7",
   "metadata": {},
   "outputs": [
    {
     "data": {
      "text/html": [
       "<div>\n",
       "<style scoped>\n",
       "    .dataframe tbody tr th:only-of-type {\n",
       "        vertical-align: middle;\n",
       "    }\n",
       "\n",
       "    .dataframe tbody tr th {\n",
       "        vertical-align: top;\n",
       "    }\n",
       "\n",
       "    .dataframe thead th {\n",
       "        text-align: right;\n",
       "    }\n",
       "</style>\n",
       "<table border=\"1\" class=\"dataframe\">\n",
       "  <thead>\n",
       "    <tr style=\"text-align: right;\">\n",
       "      <th></th>\n",
       "      <th>PatientID</th>\n",
       "      <th>weight_diag</th>\n",
       "      <th>bmi_diag</th>\n",
       "      <th>bmi_diag_na</th>\n",
       "      <th>weight_pct_change</th>\n",
       "      <th>weight_pct_na</th>\n",
       "      <th>weight_slope</th>\n",
       "    </tr>\n",
       "  </thead>\n",
       "  <tbody>\n",
       "    <tr>\n",
       "      <th>1238</th>\n",
       "      <td>F4197D4BD03D2</td>\n",
       "      <td>87.543256</td>\n",
       "      <td>32.493125</td>\n",
       "      <td>0</td>\n",
       "      <td>-0.020725</td>\n",
       "      <td>0</td>\n",
       "      <td>0.038797</td>\n",
       "    </tr>\n",
       "    <tr>\n",
       "      <th>2621</th>\n",
       "      <td>F9219DAA5F43A</td>\n",
       "      <td>48.534344</td>\n",
       "      <td>20.712255</td>\n",
       "      <td>0</td>\n",
       "      <td>-0.018692</td>\n",
       "      <td>0</td>\n",
       "      <td>-0.008878</td>\n",
       "    </tr>\n",
       "    <tr>\n",
       "      <th>147</th>\n",
       "      <td>F085F581C7B67</td>\n",
       "      <td>45.359200</td>\n",
       "      <td>18.894625</td>\n",
       "      <td>0</td>\n",
       "      <td>NaN</td>\n",
       "      <td>1</td>\n",
       "      <td>NaN</td>\n",
       "    </tr>\n",
       "    <tr>\n",
       "      <th>4419</th>\n",
       "      <td>FF5840BDFC063</td>\n",
       "      <td>86.636072</td>\n",
       "      <td>30.827865</td>\n",
       "      <td>0</td>\n",
       "      <td>-0.083770</td>\n",
       "      <td>0</td>\n",
       "      <td>-0.052871</td>\n",
       "    </tr>\n",
       "    <tr>\n",
       "      <th>1192</th>\n",
       "      <td>F3F66E1536A13</td>\n",
       "      <td>60.690610</td>\n",
       "      <td>26.088294</td>\n",
       "      <td>0</td>\n",
       "      <td>0.034380</td>\n",
       "      <td>0</td>\n",
       "      <td>0.022968</td>\n",
       "    </tr>\n",
       "  </tbody>\n",
       "</table>\n",
       "</div>"
      ],
      "text/plain": [
       "          PatientID  weight_diag   bmi_diag  bmi_diag_na  weight_pct_change  \\\n",
       "1238  F4197D4BD03D2    87.543256  32.493125            0          -0.020725   \n",
       "2621  F9219DAA5F43A    48.534344  20.712255            0          -0.018692   \n",
       "147   F085F581C7B67    45.359200  18.894625            0                NaN   \n",
       "4419  FF5840BDFC063    86.636072  30.827865            0          -0.083770   \n",
       "1192  F3F66E1536A13    60.690610  26.088294            0           0.034380   \n",
       "\n",
       "      weight_pct_na  weight_slope  \n",
       "1238              0      0.038797  \n",
       "2621              0     -0.008878  \n",
       "147               1           NaN  \n",
       "4419              0     -0.052871  \n",
       "1192              0      0.022968  "
      ]
     },
     "execution_count": 291,
     "metadata": {},
     "output_type": "execute_result"
    }
   ],
   "source": [
    "weight_wide.sample(5)"
   ]
  },
  {
   "cell_type": "code",
   "execution_count": 292,
   "id": "d580719f",
   "metadata": {},
   "outputs": [
    {
     "name": "stdout",
     "output_type": "stream",
     "text": [
      "Variable                 Type         Data/Info\n",
      "-----------------------------------------------\n",
      "biomarker_notpdl1_wide   DataFrame              PatientID      <...>\\n[6336 rows x 6 columns]\n",
      "biomarker_wide           DataFrame              PatientID      <...>\\n[6336 rows x 7 columns]\n",
      "demographics             DataFrame              PatientID gende<...>\\n[6336 rows x 7 columns]\n",
      "ecog_diagnosis_wide      DataFrame               PatientID ecog<...>\\n[6336 rows x 2 columns]\n",
      "enhanced_met             DataFrame               PatientID diag<...>\\n[6336 rows x 6 columns]\n",
      "height_avg               DataFrame              PatientID  heig<...>\\n[6250 rows x 2 columns]\n",
      "insurance_wide           DataFrame              PatientID  medi<...>\\n[6336 rows x 9 columns]\n",
      "med_admin_wide           DataFrame              PatientID  ster<...>n[6336 rows x 14 columns]\n",
      "mets                     DataFrame               PatientID Date<...>n[15986 rows x 3 columns]\n",
      "mets_max                 DataFrame              PatientID   met<...>\\n[6306 rows x 2 columns]\n",
      "mortality                DataFrame              PatientID  deat<...>\\n[6336 rows x 3 columns]\n",
      "progression              DataFrame               PatientID Prog<...>[13013 rows x 10 columns]\n",
      "progression_max          DataFrame              PatientID progr<...>\\n[5525 rows x 2 columns]\n",
      "vitals                   DataFrame                 PatientID   <...>008013 rows x 16 columns]\n",
      "weight                   DataFrame                PatientID   T<...>[260554 rows x 4 columns]\n",
      "weight_bmi_wide          DataFrame              PatientID  weig<...>\\n[6336 rows x 4 columns]\n",
      "weight_pct_wide          DataFrame              PatientID  weig<...>\\n[6336 rows x 3 columns]\n",
      "weight_slope_wide        DataFrame              PatientID  weig<...>\\n[6336 rows x 2 columns]\n",
      "weight_tcomb             DataFrame                PatientID   T<...>\\n[9404 rows x 7 columns]\n",
      "weight_tmax              DataFrame                PatientID   T<...>\\n[4702 rows x 5 columns]\n",
      "weight_tmin              DataFrame                PatientID   T<...>\\n[4702 rows x 5 columns]\n",
      "weight_wide              DataFrame              PatientID  weig<...>\\n[6336 rows x 7 columns]\n",
      "weight_win_bmi           DataFrame                PatientID   T<...>n[16010 rows x 5 columns]\n",
      "weight_win_summary       DataFrame                PatientID   T<...>n[32404 rows x 6 columns]\n"
     ]
    }
   ],
   "source": [
    "%whos DataFrame"
   ]
  },
  {
   "cell_type": "code",
   "execution_count": 293,
   "id": "1cb986dc",
   "metadata": {},
   "outputs": [],
   "source": [
    "# Keep biomarker_wide, demographics, ecog_diagnosis_wide, enhanced_met, insurance_wide, med_admin_wide, mortality, \n",
    "# and weight_wide\n",
    "del height_avg\n",
    "del vitals\n",
    "del weight\n",
    "del weight_bmi_wide\n",
    "del weight_pct_wide\n",
    "del weight_slope_wide\n",
    "del weight_tcomb\n",
    "del weight_tmax\n",
    "del weight_tmin\n",
    "del weight_win_bmi\n",
    "del weight_win_summary"
   ]
  },
  {
   "cell_type": "markdown",
   "id": "31ff0987",
   "metadata": {},
   "source": [
    "### 9. Labs"
   ]
  },
  {
   "cell_type": "code",
   "execution_count": 294,
   "id": "b13cda91",
   "metadata": {},
   "outputs": [],
   "source": [
    "lab = pd.read_csv('Lab.csv')"
   ]
  },
  {
   "cell_type": "code",
   "execution_count": 295,
   "id": "e037e92f",
   "metadata": {},
   "outputs": [],
   "source": [
    "lab = lab[lab['PatientID'].isin(test_IDs)]"
   ]
  },
  {
   "cell_type": "code",
   "execution_count": 296,
   "id": "2a01a1cb",
   "metadata": {},
   "outputs": [
    {
     "data": {
      "text/plain": [
       "(6110125, 6057)"
      ]
     },
     "execution_count": 296,
     "metadata": {},
     "output_type": "execute_result"
    }
   ],
   "source": [
    "row_ID(lab)"
   ]
  },
  {
   "cell_type": "markdown",
   "id": "9874faf2",
   "metadata": {},
   "source": [
    "**The Lab table is a longitudinal record of lab captured in the EHR with multiple-rows-per-patient. A single-patient-per-row table will be built focusing on the following NCCN recommended labs:** \n",
    "* **Creatinine -- (LOINC: 2160-0 and 38483-4)**\n",
    "* **Hemoglobin -- (LOINC: 718-7 and 20509-6)**\n",
    "* **White blood cell count -- (LOINC: 26464-8 and 6690-2)**\n",
    "* **Neutrophil count -- (LOINC: 26499-4, 751-8, 30451-9, and 753-4)**\n",
    "* **Albumin, serum -- (LOINC: 1751-7)**\n",
    "* **Total bilirubin -- (LOINC: 42719-5 and 1975-2)**\n",
    "* **Sodium — (LOINC: 2947-0 and 2951-2)**\n",
    "* **Bicarb — (LOINC: 1963-8, 1959-6, 14627-4, 1960-4, and 2028-9)**\n",
    "* **Calcium — (LOINC: 17861-6 and 49765-1)** \n",
    "* **AST — (LOINC: 1920-8)**\n",
    "* **ALT — (LOINC: 1742-6, 1743-4, and 1744-2)**\n",
    "* **Platelet -- (LOINC: 26515-7, 777-3, 778-1, and 49497-1)**\n",
    "* **Potassium -- (LOINC: 6298-4 and 2823-3)**\n",
    "* **Chloride -- (LOINC: 2075-0)**\n",
    "* **BUN -- (LOINC: 3094-0)**\n",
    "* **ALP -- (LOINC: 6768-6)**\n",
    "\n",
    "**The index date will be time of advanced diagnosis with an elgibility window of -90 days to +30 days. The lab value closest to the index date will be selected for each patient. The following summary statistics, using an elgibility window of negative infinity to +30 days from advanced diagnosis, will also be created for the above variables:** \n",
    "* **Max**\n",
    "* **Min**\n",
    "* **Mean**\n",
    "* **Standard deviation** \n",
    "* **Slope**"
   ]
  },
  {
   "cell_type": "markdown",
   "id": "f0e1320f",
   "metadata": {},
   "source": [
    "#### 9.1 Baseline lab values"
   ]
  },
  {
   "cell_type": "code",
   "execution_count": 297,
   "id": "65464a4b",
   "metadata": {},
   "outputs": [],
   "source": [
    "lab = pd.merge(lab, enhanced_met[['PatientID', 'met_date']], on = 'PatientID', how = 'left')"
   ]
  },
  {
   "cell_type": "code",
   "execution_count": 298,
   "id": "0083803b",
   "metadata": {},
   "outputs": [],
   "source": [
    "lab.loc[:, 'ResultDate'] = pd.to_datetime(lab['ResultDate']) "
   ]
  },
  {
   "cell_type": "code",
   "execution_count": 299,
   "id": "a04e82c6",
   "metadata": {},
   "outputs": [],
   "source": [
    "# Select rows with clinically relevant labs.\n",
    "lab_core = (\n",
    "    lab[\n",
    "    (lab['LOINC'] == \"2160-0\") |\n",
    "    (lab['LOINC'] == \"38483-4\") | \n",
    "    (lab['LOINC'] == \"718-7\") |\n",
    "    (lab['LOINC'] == \"20509-6\") |\n",
    "    (lab['LOINC'] == \"26464-8\") |\n",
    "    (lab['LOINC'] == \"6690-2\") |\n",
    "    (lab['LOINC'] == \"26499-4\") |\n",
    "    (lab['LOINC'] == \"751-8\") |\n",
    "    (lab['LOINC'] == \"30451-9\") |\n",
    "    (lab['LOINC'] == \"753-4\") |\n",
    "    (lab['LOINC'] == \"1751-7\") |\n",
    "    (lab['LOINC'] == \"42719-5\") |\n",
    "    (lab['LOINC'] == \"1975-2\") |\n",
    "    (lab['LOINC'] == \"2947-0\") |\n",
    "    (lab['LOINC'] == \"2951-2\") |\n",
    "    (lab['LOINC'] == \"1963-8\") |\n",
    "    (lab['LOINC'] == \"1959-6\") |\n",
    "    (lab['LOINC'] == \"14627-4\") |\n",
    "    (lab['LOINC'] == \"1960-4\") |\n",
    "    (lab['LOINC'] == \"2028-9\") |\n",
    "    (lab['LOINC'] == \"17861-6\") |\n",
    "    (lab['LOINC'] == \"49765-1\") |\n",
    "    (lab['LOINC'] == \"1920-8\") |\n",
    "    (lab['LOINC'] == \"1742-6\") | \n",
    "    (lab['LOINC'] == \"1743-4\") |\n",
    "    (lab['LOINC'] == \"1744-2\") |\n",
    "    (lab['LOINC'] == \"26515-7\") | \n",
    "    (lab['LOINC'] == \"777-3\") |\n",
    "    (lab['LOINC'] == \"778-1\") |\n",
    "    (lab['LOINC'] == \"49497-1\") | \n",
    "    (lab['LOINC'] == \"6298-4\") |\n",
    "    (lab['LOINC'] == \"2823-3\") |\n",
    "    (lab['LOINC'] == \"2075-0\") | \n",
    "    (lab['LOINC'] == \"3094-0\") | \n",
    "    (lab['LOINC'] == \"6768-6\")]\n",
    "    .filter(items = ['PatientID', \n",
    "                     'ResultDate', \n",
    "                     'LOINC', \n",
    "                     'LabComponent', \n",
    "                     'TestUnits', \n",
    "                     'TestUnitsCleaned', \n",
    "                     'TestResult', \n",
    "                     'TestResultCleaned', \n",
    "                     'met_date'])\n",
    ")"
   ]
  },
  {
   "cell_type": "code",
   "execution_count": 300,
   "id": "5e252937",
   "metadata": {},
   "outputs": [],
   "source": [
    "conditions = [\n",
    "    ((lab_core['LOINC'] == '2160-0') | (lab_core['LOINC'] == '38483-4')),\n",
    "    ((lab_core['LOINC'] == '718-7') | (lab_core['LOINC'] == '20509-6')),\n",
    "    ((lab_core['LOINC'] == '26464-8') | (lab_core['LOINC'] == '6690-2')), \n",
    "    ((lab_core['LOINC'] == '26499-4') | (lab_core['LOINC'] == '751-8') | (lab_core['LOINC'] == '30451-9') | (lab_core['LOINC'] == '753-4')),\n",
    "    (lab_core['LOINC'] == '1751-7'),\n",
    "    ((lab_core['LOINC'] == '42719-5') | (lab_core['LOINC'] == '1975-2')),\n",
    "    ((lab_core['LOINC'] == '2947-0') | (lab_core['LOINC'] == '2951-2')),\n",
    "    ((lab_core['LOINC'] == '1963-8') | (lab_core['LOINC'] == '1959-6') | (lab_core['LOINC'] == '14627-4') | (lab_core['LOINC'] == '1960-4') | (lab_core['LOINC'] == '2028-9')),\n",
    "    ((lab_core['LOINC'] == '17861-6') | (lab_core['LOINC'] == '49765-1')),\n",
    "    (lab_core['LOINC'] == '1920-8'),\n",
    "    ((lab_core['LOINC'] == '1742-6') | (lab_core['LOINC'] == '1743-4') | (lab_core['LOINC'] == '1744-2')),\n",
    "    ((lab_core['LOINC'] == '26515-7') | (lab_core['LOINC'] == '777-3') | (lab_core['LOINC'] == '778-1') | (lab_core['LOINC'] == '49497-1')),\n",
    "    ((lab_core['LOINC'] == '6298-4') | (lab_core['LOINC'] == '2823-3')),\n",
    "    (lab_core['LOINC'] == '2075-0'), \n",
    "    (lab_core['LOINC'] == '3094-0'),\n",
    "    (lab_core['LOINC'] == '6768-6')]\n",
    "\n",
    "choices = ['creatinine', \n",
    "           'hemoglobin', \n",
    "           'wbc', \n",
    "           'neutrophil_count',  \n",
    "           'albumin', \n",
    "           'total_bilirubin', \n",
    "           'sodium', \n",
    "           'bicarb',\n",
    "           'calcium',\n",
    "           'ast', \n",
    "           'alt',\n",
    "           'platelet',\n",
    "           'potassium', \n",
    "           'chloride',\n",
    "           'bun',\n",
    "           'alp']\n",
    "\n",
    "lab_core.loc[:, 'lab_name'] = np.select(conditions, choices)"
   ]
  },
  {
   "cell_type": "code",
   "execution_count": 301,
   "id": "22e1e160",
   "metadata": {},
   "outputs": [],
   "source": [
    "# Remove missing lab values. \n",
    "lab_core = lab_core.dropna(subset = ['TestResultCleaned'])"
   ]
  },
  {
   "cell_type": "code",
   "execution_count": 302,
   "id": "0db9ffa3",
   "metadata": {},
   "outputs": [],
   "source": [
    "conditions = [\n",
    "    ((lab_core['lab_name'] == 'wbc') | (lab_core['lab_name'] == 'neutrophil_count') | (lab_core['lab_name'] == 'platelet')) & \n",
    "    (lab_core['TestUnits'] == '10*3/L'),\n",
    "    (lab_core['lab_name'] == 'hemoglobin') & (lab_core['TestUnits'] == 'g/uL')]\n",
    "\n",
    "choices = [lab_core['TestResultCleaned'] * 1000000,\n",
    "           lab_core['TestResultCleaned'] / 100000]\n",
    "\n",
    "lab_core.loc[:, 'test_result_cleaned'] = np.select(conditions, choices, default = lab_core['TestResultCleaned'])"
   ]
  },
  {
   "cell_type": "code",
   "execution_count": 303,
   "id": "0c73690d",
   "metadata": {},
   "outputs": [],
   "source": [
    "# Elgibliity window is -90 and +30 from advanced diagnosis. \n",
    "lab_core_win = (\n",
    "    lab_core\n",
    "    .assign(lab_date_diff = (lab_core['ResultDate'] - lab_core['met_date']).dt.days)\n",
    "    .query('lab_date_diff >= -90 and lab_date_diff <= 30')\n",
    "    .filter(items = ['PatientID', 'ResultDate', 'TestResultCleaned', 'lab_name', 'met_date', 'test_result_cleaned', 'lab_date_diff'])\n",
    ")"
   ]
  },
  {
   "cell_type": "code",
   "execution_count": 304,
   "id": "185dcf2c",
   "metadata": {},
   "outputs": [],
   "source": [
    "lab_core_win.loc[:, 'lab_date_diff'] = lab_core_win['lab_date_diff'].abs()"
   ]
  },
  {
   "cell_type": "code",
   "execution_count": 305,
   "id": "67f3bd5d",
   "metadata": {},
   "outputs": [],
   "source": [
    "# Select lab closest to date of advanced diagnosis and pivot to a wide table. \n",
    "lab_diag_wide = (\n",
    "    lab_core_win\n",
    "    .loc[lab_core_win.groupby(['PatientID', 'lab_name'])['lab_date_diff'].idxmin()]\n",
    "    .pivot(index = 'PatientID', columns = 'lab_name', values = 'test_result_cleaned')\n",
    "    .reset_index()\n",
    "    .rename(columns = {\n",
    "        'albumin': 'albumin_diag',\n",
    "        'creatinine': 'creatinine_diag',\n",
    "        'hemoglobin': 'hemoglobin_diag',\n",
    "        'neutrophil_count': 'neutrophil_count_diag',\n",
    "        'total_bilirubin': 'total_bilirubin_diag',\n",
    "        'wbc': 'wbc_diag',\n",
    "        'sodium': 'sodium_diag', \n",
    "        'bicarb': 'bicarb_diag',\n",
    "        'calcium': 'calcium_diag',\n",
    "        'ast': 'ast_diag', \n",
    "        'alt': 'alt_diag',\n",
    "        'platelet': 'platelet_diag',\n",
    "        'potassium': 'potassium_diag',\n",
    "        'chloride': 'chloride_diag',\n",
    "        'bun': 'bun_diag',\n",
    "        'alp': 'alp_diag'})\n",
    ")\n",
    "\n",
    "lab_diag_wide.columns.name = None"
   ]
  },
  {
   "cell_type": "code",
   "execution_count": 306,
   "id": "60022aec",
   "metadata": {},
   "outputs": [
    {
     "data": {
      "text/plain": [
       "(4169, 4169)"
      ]
     },
     "execution_count": 306,
     "metadata": {},
     "output_type": "execute_result"
    }
   ],
   "source": [
    "row_ID(lab_diag_wide)"
   ]
  },
  {
   "cell_type": "code",
   "execution_count": 307,
   "id": "8566e4f4",
   "metadata": {},
   "outputs": [],
   "source": [
    "lab_diag_wide = (\n",
    "    lab_diag_wide\n",
    "    .append(\n",
    "        pd.Series(test_IDs)[~pd.Series(test_IDs).isin(lab_diag_wide['PatientID'])].to_frame(name = 'PatientID'),\n",
    "        sort = False)\n",
    ")"
   ]
  },
  {
   "cell_type": "code",
   "execution_count": 308,
   "id": "2dcc0fba",
   "metadata": {},
   "outputs": [
    {
     "data": {
      "text/plain": [
       "(6336, 6336)"
      ]
     },
     "execution_count": 308,
     "metadata": {},
     "output_type": "execute_result"
    }
   ],
   "source": [
    "row_ID(lab_diag_wide)"
   ]
  },
  {
   "cell_type": "code",
   "execution_count": 309,
   "id": "e57443cd",
   "metadata": {},
   "outputs": [],
   "source": [
    "# Create missing variables for labs at time of diagnosis. \n",
    "for x in range (1, len(lab_diag_wide.columns)):\n",
    "    lab_diag_wide.loc[:, lab_diag_wide.columns[x]+'_na'] = np.where(lab_diag_wide[lab_diag_wide.columns[x]].isna(), 1, 0)"
   ]
  },
  {
   "cell_type": "code",
   "execution_count": 310,
   "id": "05c009e3",
   "metadata": {},
   "outputs": [
    {
     "data": {
      "text/plain": [
       "['PatientID',\n",
       " 'albumin_diag',\n",
       " 'alp_diag',\n",
       " 'alt_diag',\n",
       " 'ast_diag',\n",
       " 'bicarb_diag',\n",
       " 'bun_diag',\n",
       " 'calcium_diag',\n",
       " 'chloride_diag',\n",
       " 'creatinine_diag',\n",
       " 'hemoglobin_diag',\n",
       " 'neutrophil_count_diag',\n",
       " 'platelet_diag',\n",
       " 'potassium_diag',\n",
       " 'sodium_diag',\n",
       " 'total_bilirubin_diag',\n",
       " 'wbc_diag',\n",
       " 'albumin_diag_na',\n",
       " 'alp_diag_na',\n",
       " 'alt_diag_na',\n",
       " 'ast_diag_na',\n",
       " 'bicarb_diag_na',\n",
       " 'bun_diag_na',\n",
       " 'calcium_diag_na',\n",
       " 'chloride_diag_na',\n",
       " 'creatinine_diag_na',\n",
       " 'hemoglobin_diag_na',\n",
       " 'neutrophil_count_diag_na',\n",
       " 'platelet_diag_na',\n",
       " 'potassium_diag_na',\n",
       " 'sodium_diag_na',\n",
       " 'total_bilirubin_diag_na',\n",
       " 'wbc_diag_na']"
      ]
     },
     "execution_count": 310,
     "metadata": {},
     "output_type": "execute_result"
    }
   ],
   "source": [
    "list(lab_diag_wide.columns)"
   ]
  },
  {
   "cell_type": "markdown",
   "id": "2bd95abe",
   "metadata": {},
   "source": [
    "#### Mean, max, min, and standard deviation"
   ]
  },
  {
   "cell_type": "code",
   "execution_count": 311,
   "id": "3d1fe607",
   "metadata": {},
   "outputs": [],
   "source": [
    "# Elgibility window is negative infinity to +30 from advanced diagnosis. \n",
    "lab_core_win_summ = (\n",
    "    lab_core\n",
    "    .assign(lab_date_diff = (lab_core['ResultDate'] - lab_core['met_date']).dt.days)\n",
    "    .query('lab_date_diff <= 30')\n",
    "    .filter(items = ['PatientID', 'ResultDate', 'TestResultCleaned', 'lab_name', 'met_date', 'test_result_cleaned', 'lab_date_diff'])\n",
    ")"
   ]
  },
  {
   "cell_type": "code",
   "execution_count": 312,
   "id": "a0031852",
   "metadata": {},
   "outputs": [],
   "source": [
    "# Pivot table of average values for core labs during elgibility period of -90 to -30 days from advanced diagnosis. \n",
    "lab_avg_wide = (\n",
    "    lab_core_win_summ\n",
    "    .groupby(['PatientID', 'lab_name'])['test_result_cleaned'].mean()\n",
    "    .to_frame()\n",
    "    .reset_index()\n",
    "    .pivot(index = 'PatientID', columns = 'lab_name', values = 'test_result_cleaned')\n",
    "    .reset_index()\n",
    "    .rename(columns = {\n",
    "        'albumin': 'albumin_avg',\n",
    "        'creatinine': 'creatinine_avg',\n",
    "        'hemoglobin': 'hemoglobin_avg',\n",
    "        'neutrophil_count': 'neutrophil_count_avg',\n",
    "        'total_bilirubin': 'total_bilirubin_avg',\n",
    "        'wbc': 'wbc_avg',\n",
    "        'sodium': 'sodium_avg', \n",
    "        'bicarb': 'bicarb_avg',\n",
    "        'calcium': 'calcium_avg',\n",
    "        'ast': 'ast_avg', \n",
    "        'alt': 'alt_avg',\n",
    "        'platelet': 'platelet_avg',\n",
    "        'potassium': 'potassium_avg',\n",
    "        'chloride': 'chloride_avg',\n",
    "        'bun': 'bun_avg',\n",
    "        'alp': 'alp_avg'})\n",
    ")\n",
    "\n",
    "lab_avg_wide.columns.name = None"
   ]
  },
  {
   "cell_type": "code",
   "execution_count": 313,
   "id": "ad7d4b90",
   "metadata": {},
   "outputs": [
    {
     "data": {
      "text/plain": [
       "(4533, 4533)"
      ]
     },
     "execution_count": 313,
     "metadata": {},
     "output_type": "execute_result"
    }
   ],
   "source": [
    "row_ID(lab_avg_wide)"
   ]
  },
  {
   "cell_type": "code",
   "execution_count": 314,
   "id": "fa8b21a7",
   "metadata": {},
   "outputs": [],
   "source": [
    "# Pivot table of maximum values for core labs during elgibility period of -90 to -30 days from advanced diagnosis. \n",
    "lab_max_wide = (\n",
    "    lab_core_win_summ\n",
    "    .groupby(['PatientID', 'lab_name'])['test_result_cleaned'].max()\n",
    "    .to_frame()\n",
    "    .reset_index()\n",
    "    .pivot(index = 'PatientID', columns = 'lab_name', values = 'test_result_cleaned')\n",
    "    .reset_index()\n",
    "    .rename(columns = {\n",
    "        'albumin': 'albumin_max',\n",
    "        'creatinine': 'creatinine_max',\n",
    "        'hemoglobin': 'hemoglobin_max',\n",
    "        'neutrophil_count': 'neutrophil_count_max',\n",
    "        'total_bilirubin': 'total_bilirubin_max',\n",
    "        'wbc': 'wbc_max', \n",
    "        'sodium': 'sodium_max', \n",
    "        'bicarb': 'bicarb_max',\n",
    "        'calcium': 'calcium_max',\n",
    "        'ast': 'ast_max', \n",
    "        'alt': 'alt_max',\n",
    "        'platelet': 'platelet_max',\n",
    "        'potassium': 'potassium_max',\n",
    "        'chloride': 'chloride_max',\n",
    "        'bun': 'bun_max', \n",
    "        'alp': 'alp_max'})\n",
    ")\n",
    "\n",
    "lab_max_wide.columns.name = None"
   ]
  },
  {
   "cell_type": "code",
   "execution_count": 315,
   "id": "36bcb505",
   "metadata": {},
   "outputs": [
    {
     "data": {
      "text/plain": [
       "(4533, 4533)"
      ]
     },
     "execution_count": 315,
     "metadata": {},
     "output_type": "execute_result"
    }
   ],
   "source": [
    "row_ID(lab_max_wide)"
   ]
  },
  {
   "cell_type": "code",
   "execution_count": 316,
   "id": "5a1b8f1a",
   "metadata": {},
   "outputs": [],
   "source": [
    "# Pivot table of minimum values for core labs during elgibility period of -90 to -30 days from advanced diagnosis. \n",
    "lab_min_wide = (\n",
    "    lab_core_win_summ\n",
    "    .groupby(['PatientID', 'lab_name'])['test_result_cleaned'].min()\n",
    "    .to_frame()\n",
    "    .reset_index()\n",
    "    .pivot(index = 'PatientID', columns = 'lab_name', values = 'test_result_cleaned')\n",
    "    .reset_index()\n",
    "    .rename(columns = {\n",
    "        'albumin': 'albumin_min',\n",
    "        'creatinine': 'creatinine_min',\n",
    "        'hemoglobin': 'hemoglobin_min',\n",
    "        'neutrophil_count': 'neutrophil_count_min',\n",
    "        'total_bilirubin': 'total_bilirubin_min',\n",
    "        'wbc': 'wbc_min',\n",
    "        'sodium': 'sodium_min', \n",
    "        'bicarb': 'bicarb_min',\n",
    "        'calcium': 'calcium_min',\n",
    "        'ast': 'ast_min', \n",
    "        'alt': 'alt_min',\n",
    "        'platelet': 'platelet_min',\n",
    "        'potassium': 'potassium_min',\n",
    "        'chloride': 'chloride_min',\n",
    "        'bun': 'bun_min',\n",
    "        'alp': 'alp_min'})\n",
    ")\n",
    "\n",
    "lab_min_wide.columns.name = None"
   ]
  },
  {
   "cell_type": "code",
   "execution_count": 317,
   "id": "f0dffe21",
   "metadata": {},
   "outputs": [
    {
     "data": {
      "text/plain": [
       "(4533, 4533)"
      ]
     },
     "execution_count": 317,
     "metadata": {},
     "output_type": "execute_result"
    }
   ],
   "source": [
    "row_ID(lab_min_wide)"
   ]
  },
  {
   "cell_type": "code",
   "execution_count": 318,
   "id": "3bea6bfa",
   "metadata": {},
   "outputs": [],
   "source": [
    "# Pivot table of standard deviation for core labs during elgibility period of -90 to -30 days from advanced diagnosis. \n",
    "lab_std_wide = (\n",
    "    lab_core_win_summ\n",
    "    .groupby(['PatientID', 'lab_name'])['test_result_cleaned'].std()\n",
    "    .to_frame()\n",
    "    .reset_index()\n",
    "    .pivot(index = 'PatientID', columns = 'lab_name', values = 'test_result_cleaned')\n",
    "    .reset_index()\n",
    "    .rename(columns = {\n",
    "        'albumin': 'albumin_std',\n",
    "        'creatinine': 'creatinine_std',\n",
    "        'hemoglobin': 'hemoglobin_std',\n",
    "        'neutrophil_count': 'neutrophil_count_std',\n",
    "        'total_bilirubin': 'total_bilirubin_std',\n",
    "        'wbc': 'wbc_std',\n",
    "        'sodium': 'sodium_std', \n",
    "        'bicarb': 'bicarb_std',\n",
    "        'calcium': 'calcium_std',\n",
    "        'ast': 'ast_std', \n",
    "        'alt': 'alt_std',\n",
    "        'platelet': 'platelet_std',\n",
    "        'potassium': 'potassium_std',\n",
    "        'chloride': 'chloride_std',\n",
    "        'bun': 'bun_std', \n",
    "        'alp': 'alp_std'})\n",
    ")\n",
    "\n",
    "lab_std_wide.columns.name = None"
   ]
  },
  {
   "cell_type": "code",
   "execution_count": 319,
   "id": "743a6fa9",
   "metadata": {},
   "outputs": [
    {
     "data": {
      "text/plain": [
       "(4533, 4533)"
      ]
     },
     "execution_count": 319,
     "metadata": {},
     "output_type": "execute_result"
    }
   ],
   "source": [
    "row_ID(lab_std_wide)"
   ]
  },
  {
   "cell_type": "code",
   "execution_count": 320,
   "id": "5f29bed8",
   "metadata": {},
   "outputs": [],
   "source": [
    "lab_summary_wide = pd.merge(lab_avg_wide, lab_max_wide, on = 'PatientID', how = 'outer')"
   ]
  },
  {
   "cell_type": "code",
   "execution_count": 321,
   "id": "6ba0ac8e",
   "metadata": {},
   "outputs": [],
   "source": [
    "lab_summary_wide = pd.merge(lab_summary_wide, lab_min_wide, on = 'PatientID', how = 'outer')"
   ]
  },
  {
   "cell_type": "code",
   "execution_count": 322,
   "id": "b038a9ef",
   "metadata": {},
   "outputs": [],
   "source": [
    "lab_summary_wide = pd.merge(lab_summary_wide, lab_std_wide, on = 'PatientID', how = 'outer')"
   ]
  },
  {
   "cell_type": "code",
   "execution_count": 323,
   "id": "b14f1a4f",
   "metadata": {},
   "outputs": [
    {
     "data": {
      "text/plain": [
       "(4533, 4533)"
      ]
     },
     "execution_count": 323,
     "metadata": {},
     "output_type": "execute_result"
    }
   ],
   "source": [
    "row_ID(lab_summary_wide)"
   ]
  },
  {
   "cell_type": "code",
   "execution_count": 324,
   "id": "57cd4694",
   "metadata": {},
   "outputs": [],
   "source": [
    "lab_summary_wide = (\n",
    "    lab_summary_wide\n",
    "    .append(\n",
    "        pd.Series(test_IDs)[~pd.Series(test_IDs).isin(lab_summary_wide['PatientID'])].to_frame(name = 'PatientID'),\n",
    "        sort = False)\n",
    ")"
   ]
  },
  {
   "cell_type": "code",
   "execution_count": 325,
   "id": "cf78f325",
   "metadata": {},
   "outputs": [
    {
     "data": {
      "text/plain": [
       "(6336, 6336)"
      ]
     },
     "execution_count": 325,
     "metadata": {},
     "output_type": "execute_result"
    }
   ],
   "source": [
    "row_ID(lab_summary_wide)"
   ]
  },
  {
   "cell_type": "code",
   "execution_count": 326,
   "id": "1338b043",
   "metadata": {},
   "outputs": [
    {
     "data": {
      "text/html": [
       "<div>\n",
       "<style scoped>\n",
       "    .dataframe tbody tr th:only-of-type {\n",
       "        vertical-align: middle;\n",
       "    }\n",
       "\n",
       "    .dataframe tbody tr th {\n",
       "        vertical-align: top;\n",
       "    }\n",
       "\n",
       "    .dataframe thead th {\n",
       "        text-align: right;\n",
       "    }\n",
       "</style>\n",
       "<table border=\"1\" class=\"dataframe\">\n",
       "  <thead>\n",
       "    <tr style=\"text-align: right;\">\n",
       "      <th></th>\n",
       "      <th>PatientID</th>\n",
       "      <th>albumin_avg</th>\n",
       "      <th>alp_avg</th>\n",
       "      <th>alt_avg</th>\n",
       "      <th>ast_avg</th>\n",
       "      <th>bicarb_avg</th>\n",
       "      <th>bun_avg</th>\n",
       "      <th>calcium_avg</th>\n",
       "      <th>chloride_avg</th>\n",
       "      <th>creatinine_avg</th>\n",
       "      <th>...</th>\n",
       "      <th>calcium_std</th>\n",
       "      <th>chloride_std</th>\n",
       "      <th>creatinine_std</th>\n",
       "      <th>hemoglobin_std</th>\n",
       "      <th>neutrophil_count_std</th>\n",
       "      <th>platelet_std</th>\n",
       "      <th>potassium_std</th>\n",
       "      <th>sodium_std</th>\n",
       "      <th>total_bilirubin_std</th>\n",
       "      <th>wbc_std</th>\n",
       "    </tr>\n",
       "  </thead>\n",
       "  <tbody>\n",
       "    <tr>\n",
       "      <th>315</th>\n",
       "      <td>F11921A130C06</td>\n",
       "      <td>29.000000</td>\n",
       "      <td>170.000000</td>\n",
       "      <td>24.000000</td>\n",
       "      <td>20.000000</td>\n",
       "      <td>24.875000</td>\n",
       "      <td>10.625000</td>\n",
       "      <td>9.037500</td>\n",
       "      <td>101.375000</td>\n",
       "      <td>0.676250</td>\n",
       "      <td>...</td>\n",
       "      <td>0.550162</td>\n",
       "      <td>2.326094</td>\n",
       "      <td>0.150896</td>\n",
       "      <td>1.078276</td>\n",
       "      <td>NaN</td>\n",
       "      <td>NaN</td>\n",
       "      <td>0.310146</td>\n",
       "      <td>2.604940</td>\n",
       "      <td>0.070711</td>\n",
       "      <td>NaN</td>\n",
       "    </tr>\n",
       "    <tr>\n",
       "      <th>1646</th>\n",
       "      <td>F5A421BA3FDA9</td>\n",
       "      <td>39.439024</td>\n",
       "      <td>116.585366</td>\n",
       "      <td>79.439024</td>\n",
       "      <td>55.853659</td>\n",
       "      <td>24.555556</td>\n",
       "      <td>11.592857</td>\n",
       "      <td>9.111905</td>\n",
       "      <td>103.000000</td>\n",
       "      <td>0.712195</td>\n",
       "      <td>...</td>\n",
       "      <td>0.387111</td>\n",
       "      <td>2.061553</td>\n",
       "      <td>0.063973</td>\n",
       "      <td>1.044210</td>\n",
       "      <td>1.316642</td>\n",
       "      <td>44.511808</td>\n",
       "      <td>0.435890</td>\n",
       "      <td>1.000000</td>\n",
       "      <td>0.138634</td>\n",
       "      <td>2.049065</td>\n",
       "    </tr>\n",
       "    <tr>\n",
       "      <th>771</th>\n",
       "      <td>F29F89A05A1AE</td>\n",
       "      <td>40.285714</td>\n",
       "      <td>104.785714</td>\n",
       "      <td>12.642857</td>\n",
       "      <td>17.285714</td>\n",
       "      <td>24.642857</td>\n",
       "      <td>14.500000</td>\n",
       "      <td>9.000000</td>\n",
       "      <td>104.214286</td>\n",
       "      <td>1.031429</td>\n",
       "      <td>...</td>\n",
       "      <td>0.313786</td>\n",
       "      <td>2.293086</td>\n",
       "      <td>0.158301</td>\n",
       "      <td>0.836277</td>\n",
       "      <td>0.910544</td>\n",
       "      <td>29.878922</td>\n",
       "      <td>0.449236</td>\n",
       "      <td>1.685426</td>\n",
       "      <td>0.093761</td>\n",
       "      <td>1.213435</td>\n",
       "    </tr>\n",
       "    <tr>\n",
       "      <th>1835</th>\n",
       "      <td>F6507E110093C</td>\n",
       "      <td>41.444444</td>\n",
       "      <td>71.666667</td>\n",
       "      <td>27.111111</td>\n",
       "      <td>26.666667</td>\n",
       "      <td>26.888889</td>\n",
       "      <td>17.222222</td>\n",
       "      <td>9.377778</td>\n",
       "      <td>103.111111</td>\n",
       "      <td>0.872222</td>\n",
       "      <td>...</td>\n",
       "      <td>0.386580</td>\n",
       "      <td>1.536591</td>\n",
       "      <td>0.129013</td>\n",
       "      <td>0.982884</td>\n",
       "      <td>2.880446</td>\n",
       "      <td>82.110790</td>\n",
       "      <td>0.480740</td>\n",
       "      <td>2.449490</td>\n",
       "      <td>0.132288</td>\n",
       "      <td>3.103700</td>\n",
       "    </tr>\n",
       "    <tr>\n",
       "      <th>3880</th>\n",
       "      <td>FDAB3E864C39B</td>\n",
       "      <td>36.000000</td>\n",
       "      <td>185.500000</td>\n",
       "      <td>17.500000</td>\n",
       "      <td>37.500000</td>\n",
       "      <td>27.500000</td>\n",
       "      <td>39.500000</td>\n",
       "      <td>8.700000</td>\n",
       "      <td>NaN</td>\n",
       "      <td>2.180000</td>\n",
       "      <td>...</td>\n",
       "      <td>0.000000</td>\n",
       "      <td>NaN</td>\n",
       "      <td>0.763675</td>\n",
       "      <td>0.212132</td>\n",
       "      <td>0.296985</td>\n",
       "      <td>12.727922</td>\n",
       "      <td>NaN</td>\n",
       "      <td>NaN</td>\n",
       "      <td>0.000000</td>\n",
       "      <td>0.353553</td>\n",
       "    </tr>\n",
       "  </tbody>\n",
       "</table>\n",
       "<p>5 rows × 65 columns</p>\n",
       "</div>"
      ],
      "text/plain": [
       "          PatientID  albumin_avg     alp_avg    alt_avg    ast_avg  \\\n",
       "315   F11921A130C06    29.000000  170.000000  24.000000  20.000000   \n",
       "1646  F5A421BA3FDA9    39.439024  116.585366  79.439024  55.853659   \n",
       "771   F29F89A05A1AE    40.285714  104.785714  12.642857  17.285714   \n",
       "1835  F6507E110093C    41.444444   71.666667  27.111111  26.666667   \n",
       "3880  FDAB3E864C39B    36.000000  185.500000  17.500000  37.500000   \n",
       "\n",
       "      bicarb_avg    bun_avg  calcium_avg  chloride_avg  creatinine_avg  ...  \\\n",
       "315    24.875000  10.625000     9.037500    101.375000        0.676250  ...   \n",
       "1646   24.555556  11.592857     9.111905    103.000000        0.712195  ...   \n",
       "771    24.642857  14.500000     9.000000    104.214286        1.031429  ...   \n",
       "1835   26.888889  17.222222     9.377778    103.111111        0.872222  ...   \n",
       "3880   27.500000  39.500000     8.700000           NaN        2.180000  ...   \n",
       "\n",
       "      calcium_std  chloride_std  creatinine_std  hemoglobin_std  \\\n",
       "315      0.550162      2.326094        0.150896        1.078276   \n",
       "1646     0.387111      2.061553        0.063973        1.044210   \n",
       "771      0.313786      2.293086        0.158301        0.836277   \n",
       "1835     0.386580      1.536591        0.129013        0.982884   \n",
       "3880     0.000000           NaN        0.763675        0.212132   \n",
       "\n",
       "      neutrophil_count_std  platelet_std  potassium_std  sodium_std  \\\n",
       "315                    NaN           NaN       0.310146    2.604940   \n",
       "1646              1.316642     44.511808       0.435890    1.000000   \n",
       "771               0.910544     29.878922       0.449236    1.685426   \n",
       "1835              2.880446     82.110790       0.480740    2.449490   \n",
       "3880              0.296985     12.727922            NaN         NaN   \n",
       "\n",
       "      total_bilirubin_std   wbc_std  \n",
       "315              0.070711       NaN  \n",
       "1646             0.138634  2.049065  \n",
       "771              0.093761  1.213435  \n",
       "1835             0.132288  3.103700  \n",
       "3880             0.000000  0.353553  \n",
       "\n",
       "[5 rows x 65 columns]"
      ]
     },
     "execution_count": 326,
     "metadata": {},
     "output_type": "execute_result"
    }
   ],
   "source": [
    "lab_summary_wide.sample(5)"
   ]
  },
  {
   "cell_type": "code",
   "execution_count": 327,
   "id": "4afd9474",
   "metadata": {},
   "outputs": [
    {
     "data": {
      "text/plain": [
       "['PatientID',\n",
       " 'albumin_avg',\n",
       " 'alp_avg',\n",
       " 'alt_avg',\n",
       " 'ast_avg',\n",
       " 'bicarb_avg',\n",
       " 'bun_avg',\n",
       " 'calcium_avg',\n",
       " 'chloride_avg',\n",
       " 'creatinine_avg',\n",
       " 'hemoglobin_avg',\n",
       " 'neutrophil_count_avg',\n",
       " 'platelet_avg',\n",
       " 'potassium_avg',\n",
       " 'sodium_avg',\n",
       " 'total_bilirubin_avg',\n",
       " 'wbc_avg',\n",
       " 'albumin_max',\n",
       " 'alp_max',\n",
       " 'alt_max',\n",
       " 'ast_max',\n",
       " 'bicarb_max',\n",
       " 'bun_max',\n",
       " 'calcium_max',\n",
       " 'chloride_max',\n",
       " 'creatinine_max',\n",
       " 'hemoglobin_max',\n",
       " 'neutrophil_count_max',\n",
       " 'platelet_max',\n",
       " 'potassium_max',\n",
       " 'sodium_max',\n",
       " 'total_bilirubin_max',\n",
       " 'wbc_max',\n",
       " 'albumin_min',\n",
       " 'alp_min',\n",
       " 'alt_min',\n",
       " 'ast_min',\n",
       " 'bicarb_min',\n",
       " 'bun_min',\n",
       " 'calcium_min',\n",
       " 'chloride_min',\n",
       " 'creatinine_min',\n",
       " 'hemoglobin_min',\n",
       " 'neutrophil_count_min',\n",
       " 'platelet_min',\n",
       " 'potassium_min',\n",
       " 'sodium_min',\n",
       " 'total_bilirubin_min',\n",
       " 'wbc_min',\n",
       " 'albumin_std',\n",
       " 'alp_std',\n",
       " 'alt_std',\n",
       " 'ast_std',\n",
       " 'bicarb_std',\n",
       " 'bun_std',\n",
       " 'calcium_std',\n",
       " 'chloride_std',\n",
       " 'creatinine_std',\n",
       " 'hemoglobin_std',\n",
       " 'neutrophil_count_std',\n",
       " 'platelet_std',\n",
       " 'potassium_std',\n",
       " 'sodium_std',\n",
       " 'total_bilirubin_std',\n",
       " 'wbc_std']"
      ]
     },
     "execution_count": 327,
     "metadata": {},
     "output_type": "execute_result"
    }
   ],
   "source": [
    "list(lab_summary_wide.columns)"
   ]
  },
  {
   "cell_type": "markdown",
   "id": "749580dd",
   "metadata": {},
   "source": [
    "#### Slope"
   ]
  },
  {
   "cell_type": "code",
   "execution_count": 328,
   "id": "93bf8568",
   "metadata": {},
   "outputs": [],
   "source": [
    "lab_core_win_summ.loc[:, 'result_date_ordinal'] = lab_core_win_summ['ResultDate'].map(dt.datetime.toordinal)"
   ]
  },
  {
   "cell_type": "code",
   "execution_count": 329,
   "id": "daee789e",
   "metadata": {},
   "outputs": [
    {
     "name": "stderr",
     "output_type": "stream",
     "text": [
      "/Users/xavierorcutt/Dropbox/ist_project/myenv/lib/python3.7/site-packages/scipy/stats/_stats_mstats_common.py:170: RuntimeWarning: invalid value encountered in double_scalars\n",
      "  slope = ssxym / ssxm\n",
      "/Users/xavierorcutt/Dropbox/ist_project/myenv/lib/python3.7/site-packages/scipy/stats/_stats_mstats_common.py:184: RuntimeWarning: invalid value encountered in sqrt\n",
      "  t = r * np.sqrt(df / ((1.0 - r + TINY)*(1.0 + r + TINY)))\n",
      "/Users/xavierorcutt/Dropbox/ist_project/myenv/lib/python3.7/site-packages/scipy/stats/_stats_mstats_common.py:187: RuntimeWarning: invalid value encountered in double_scalars\n",
      "  slope_stderr = np.sqrt((1 - r**2) * ssym / ssxm / df)\n",
      "/Users/xavierorcutt/Dropbox/ist_project/myenv/lib/python3.7/site-packages/scipy/stats/_stats_mstats_common.py:187: RuntimeWarning: divide by zero encountered in double_scalars\n",
      "  slope_stderr = np.sqrt((1 - r**2) * ssym / ssxm / df)\n"
     ]
    }
   ],
   "source": [
    "lab_slope_wide = (\n",
    "    lab_core_win_summ\n",
    "    .groupby(['PatientID', 'lab_name'])\n",
    "    .apply(lambda x: pd.Series(linregress(x['result_date_ordinal'], x['test_result_cleaned'])))\n",
    "    .rename(columns = {0: 'slope'})\n",
    "    .reset_index()\n",
    "    .filter(items = ['PatientID', 'lab_name', 'slope'])\n",
    "    .pivot(index = 'PatientID', columns = 'lab_name', values = 'slope')\n",
    "    .reset_index()\n",
    "    .rename(columns = {\n",
    "        'albumin': 'albumin_slope',\n",
    "        'creatinine': 'creatinine_slope',\n",
    "        'hemoglobin': 'hemoglobin_slope',\n",
    "        'neutrophil_count': 'neutrophil_count_slope',\n",
    "        'total_bilirubin': 'total_bilirubin_slope',\n",
    "        'wbc': 'wbc_slope',\n",
    "        'sodium': 'sodium_slope', \n",
    "        'bicarb': 'bicarb_slope',\n",
    "        'calcium': 'calcium_slope',\n",
    "        'ast': 'ast_slope', \n",
    "        'alt': 'alt_slope',\n",
    "        'platelet': 'platelet_slope',\n",
    "        'potassium': 'potassium_slope',\n",
    "        'chloride': 'chloride_slope',\n",
    "        'bun': 'bun_slope',\n",
    "        'alp': 'alp_slope'})\n",
    ")\n",
    "\n",
    "lab_slope_wide.columns.name = None"
   ]
  },
  {
   "cell_type": "code",
   "execution_count": 330,
   "id": "a767cd28",
   "metadata": {},
   "outputs": [
    {
     "data": {
      "text/plain": [
       "(4533, 4533)"
      ]
     },
     "execution_count": 330,
     "metadata": {},
     "output_type": "execute_result"
    }
   ],
   "source": [
    "row_ID(lab_slope_wide)"
   ]
  },
  {
   "cell_type": "code",
   "execution_count": 331,
   "id": "878c1687",
   "metadata": {},
   "outputs": [],
   "source": [
    "lab_slope_wide = (\n",
    "    lab_slope_wide\n",
    "    .append(\n",
    "        pd.Series(test_IDs)[~pd.Series(test_IDs).isin(lab_slope_wide['PatientID'])].to_frame(name = 'PatientID'),\n",
    "        sort = False)\n",
    ")"
   ]
  },
  {
   "cell_type": "code",
   "execution_count": 332,
   "id": "dc31c3c3",
   "metadata": {},
   "outputs": [],
   "source": [
    "# Create missing variables for lab slope. \n",
    "for x in range (1, len(lab_slope_wide.columns)):\n",
    "    lab_slope_wide.loc[:, lab_slope_wide.columns[x]+'_na'] = np.where(lab_slope_wide[lab_slope_wide.columns[x]].isna(), 1, 0)"
   ]
  },
  {
   "cell_type": "code",
   "execution_count": 333,
   "id": "38e2708e",
   "metadata": {},
   "outputs": [
    {
     "data": {
      "text/plain": [
       "(6336, 6336)"
      ]
     },
     "execution_count": 333,
     "metadata": {},
     "output_type": "execute_result"
    }
   ],
   "source": [
    "row_ID(lab_slope_wide)"
   ]
  },
  {
   "cell_type": "markdown",
   "id": "f95b0f18",
   "metadata": {},
   "source": [
    "#### Merge"
   ]
  },
  {
   "cell_type": "code",
   "execution_count": 334,
   "id": "cc6e50c0",
   "metadata": {},
   "outputs": [],
   "source": [
    "lab_wide = pd.merge(lab_diag_wide, lab_summary_wide, on = 'PatientID')"
   ]
  },
  {
   "cell_type": "code",
   "execution_count": 335,
   "id": "8c5866ef",
   "metadata": {},
   "outputs": [],
   "source": [
    "lab_wide = pd.merge(lab_wide, lab_slope_wide, on = 'PatientID')"
   ]
  },
  {
   "cell_type": "code",
   "execution_count": 336,
   "id": "f595b60a",
   "metadata": {},
   "outputs": [
    {
     "data": {
      "text/plain": [
       "(6336, 6336)"
      ]
     },
     "execution_count": 336,
     "metadata": {},
     "output_type": "execute_result"
    }
   ],
   "source": [
    "row_ID(lab_wide)"
   ]
  },
  {
   "cell_type": "code",
   "execution_count": 337,
   "id": "f78862f0",
   "metadata": {},
   "outputs": [
    {
     "data": {
      "text/plain": [
       "['PatientID',\n",
       " 'albumin_diag',\n",
       " 'alp_diag',\n",
       " 'alt_diag',\n",
       " 'ast_diag',\n",
       " 'bicarb_diag',\n",
       " 'bun_diag',\n",
       " 'calcium_diag',\n",
       " 'chloride_diag',\n",
       " 'creatinine_diag',\n",
       " 'hemoglobin_diag',\n",
       " 'neutrophil_count_diag',\n",
       " 'platelet_diag',\n",
       " 'potassium_diag',\n",
       " 'sodium_diag',\n",
       " 'total_bilirubin_diag',\n",
       " 'wbc_diag',\n",
       " 'albumin_diag_na',\n",
       " 'alp_diag_na',\n",
       " 'alt_diag_na',\n",
       " 'ast_diag_na',\n",
       " 'bicarb_diag_na',\n",
       " 'bun_diag_na',\n",
       " 'calcium_diag_na',\n",
       " 'chloride_diag_na',\n",
       " 'creatinine_diag_na',\n",
       " 'hemoglobin_diag_na',\n",
       " 'neutrophil_count_diag_na',\n",
       " 'platelet_diag_na',\n",
       " 'potassium_diag_na',\n",
       " 'sodium_diag_na',\n",
       " 'total_bilirubin_diag_na',\n",
       " 'wbc_diag_na',\n",
       " 'albumin_avg',\n",
       " 'alp_avg',\n",
       " 'alt_avg',\n",
       " 'ast_avg',\n",
       " 'bicarb_avg',\n",
       " 'bun_avg',\n",
       " 'calcium_avg',\n",
       " 'chloride_avg',\n",
       " 'creatinine_avg',\n",
       " 'hemoglobin_avg',\n",
       " 'neutrophil_count_avg',\n",
       " 'platelet_avg',\n",
       " 'potassium_avg',\n",
       " 'sodium_avg',\n",
       " 'total_bilirubin_avg',\n",
       " 'wbc_avg',\n",
       " 'albumin_max',\n",
       " 'alp_max',\n",
       " 'alt_max',\n",
       " 'ast_max',\n",
       " 'bicarb_max',\n",
       " 'bun_max',\n",
       " 'calcium_max',\n",
       " 'chloride_max',\n",
       " 'creatinine_max',\n",
       " 'hemoglobin_max',\n",
       " 'neutrophil_count_max',\n",
       " 'platelet_max',\n",
       " 'potassium_max',\n",
       " 'sodium_max',\n",
       " 'total_bilirubin_max',\n",
       " 'wbc_max',\n",
       " 'albumin_min',\n",
       " 'alp_min',\n",
       " 'alt_min',\n",
       " 'ast_min',\n",
       " 'bicarb_min',\n",
       " 'bun_min',\n",
       " 'calcium_min',\n",
       " 'chloride_min',\n",
       " 'creatinine_min',\n",
       " 'hemoglobin_min',\n",
       " 'neutrophil_count_min',\n",
       " 'platelet_min',\n",
       " 'potassium_min',\n",
       " 'sodium_min',\n",
       " 'total_bilirubin_min',\n",
       " 'wbc_min',\n",
       " 'albumin_std',\n",
       " 'alp_std',\n",
       " 'alt_std',\n",
       " 'ast_std',\n",
       " 'bicarb_std',\n",
       " 'bun_std',\n",
       " 'calcium_std',\n",
       " 'chloride_std',\n",
       " 'creatinine_std',\n",
       " 'hemoglobin_std',\n",
       " 'neutrophil_count_std',\n",
       " 'platelet_std',\n",
       " 'potassium_std',\n",
       " 'sodium_std',\n",
       " 'total_bilirubin_std',\n",
       " 'wbc_std',\n",
       " 'albumin_slope',\n",
       " 'alp_slope',\n",
       " 'alt_slope',\n",
       " 'ast_slope',\n",
       " 'bicarb_slope',\n",
       " 'bun_slope',\n",
       " 'calcium_slope',\n",
       " 'chloride_slope',\n",
       " 'creatinine_slope',\n",
       " 'hemoglobin_slope',\n",
       " 'neutrophil_count_slope',\n",
       " 'platelet_slope',\n",
       " 'potassium_slope',\n",
       " 'sodium_slope',\n",
       " 'total_bilirubin_slope',\n",
       " 'wbc_slope',\n",
       " 'albumin_slope_na',\n",
       " 'alp_slope_na',\n",
       " 'alt_slope_na',\n",
       " 'ast_slope_na',\n",
       " 'bicarb_slope_na',\n",
       " 'bun_slope_na',\n",
       " 'calcium_slope_na',\n",
       " 'chloride_slope_na',\n",
       " 'creatinine_slope_na',\n",
       " 'hemoglobin_slope_na',\n",
       " 'neutrophil_count_slope_na',\n",
       " 'platelet_slope_na',\n",
       " 'potassium_slope_na',\n",
       " 'sodium_slope_na',\n",
       " 'total_bilirubin_slope_na',\n",
       " 'wbc_slope_na']"
      ]
     },
     "execution_count": 337,
     "metadata": {},
     "output_type": "execute_result"
    }
   ],
   "source": [
    "list(lab_wide.columns)"
   ]
  },
  {
   "cell_type": "code",
   "execution_count": 338,
   "id": "c735fb76",
   "metadata": {},
   "outputs": [
    {
     "name": "stdout",
     "output_type": "stream",
     "text": [
      "Variable                 Type         Data/Info\n",
      "-----------------------------------------------\n",
      "biomarker_notpdl1_wide   DataFrame              PatientID      <...>\\n[6336 rows x 6 columns]\n",
      "biomarker_wide           DataFrame              PatientID      <...>\\n[6336 rows x 7 columns]\n",
      "demographics             DataFrame              PatientID gende<...>\\n[6336 rows x 7 columns]\n",
      "ecog_diagnosis_wide      DataFrame               PatientID ecog<...>\\n[6336 rows x 2 columns]\n",
      "enhanced_met             DataFrame               PatientID diag<...>\\n[6336 rows x 6 columns]\n",
      "insurance_wide           DataFrame              PatientID  medi<...>\\n[6336 rows x 9 columns]\n",
      "lab                      DataFrame                 PatientID   <...>110125 rows x 18 columns]\n",
      "lab_avg_wide             DataFrame              PatientID  albu<...>n[4533 rows x 17 columns]\n",
      "lab_core                 DataFrame                 PatientID Re<...>810279 rows x 11 columns]\n",
      "lab_core_win             DataFrame                 PatientID Re<...>[148748 rows x 7 columns]\n",
      "lab_core_win_summ        DataFrame                 PatientID Re<...>[637500 rows x 8 columns]\n",
      "lab_diag_wide            DataFrame              PatientID  albu<...>n[6336 rows x 33 columns]\n",
      "lab_max_wide             DataFrame              PatientID  albu<...>n[4533 rows x 17 columns]\n",
      "lab_min_wide             DataFrame              PatientID  albu<...>n[4533 rows x 17 columns]\n",
      "lab_slope_wide           DataFrame              PatientID  albu<...>n[6336 rows x 33 columns]\n",
      "lab_std_wide             DataFrame              PatientID  albu<...>n[4533 rows x 17 columns]\n",
      "lab_summary_wide         DataFrame              PatientID  albu<...>n[6336 rows x 65 columns]\n",
      "lab_wide                 DataFrame              PatientID  albu<...>[6336 rows x 129 columns]\n",
      "med_admin_wide           DataFrame              PatientID  ster<...>n[6336 rows x 14 columns]\n",
      "mets                     DataFrame               PatientID Date<...>n[15986 rows x 3 columns]\n",
      "mets_max                 DataFrame              PatientID   met<...>\\n[6306 rows x 2 columns]\n",
      "mortality                DataFrame              PatientID  deat<...>\\n[6336 rows x 3 columns]\n",
      "progression              DataFrame               PatientID Prog<...>[13013 rows x 10 columns]\n",
      "progression_max          DataFrame              PatientID progr<...>\\n[5525 rows x 2 columns]\n",
      "weight_wide              DataFrame              PatientID  weig<...>\\n[6336 rows x 7 columns]\n"
     ]
    }
   ],
   "source": [
    "%whos DataFrame"
   ]
  },
  {
   "cell_type": "code",
   "execution_count": 339,
   "id": "ecec8d8b",
   "metadata": {},
   "outputs": [],
   "source": [
    "# Keep biomarker_wide, demographics, ecog_diagnosis_wide, enhanced_met, insurance_wide, lab_wide, med_admin_wide, \n",
    "# mortality, and weight_wide\n",
    "del lab\n",
    "del lab_avg_wide\n",
    "del lab_core\n",
    "del lab_core_win\n",
    "del lab_core_win_summ\n",
    "del lab_diag_wide\n",
    "del lab_max_wide\n",
    "del lab_min_wide\n",
    "del lab_slope_wide\n",
    "del lab_std_wide\n",
    "del lab_summary_wide"
   ]
  },
  {
   "cell_type": "markdown",
   "id": "f7eb6e8e",
   "metadata": {},
   "source": [
    "### 10. Diagnosis"
   ]
  },
  {
   "cell_type": "code",
   "execution_count": 340,
   "id": "558f9924",
   "metadata": {},
   "outputs": [],
   "source": [
    "diagnosis = pd.read_csv('Diagnosis.csv')"
   ]
  },
  {
   "cell_type": "code",
   "execution_count": 341,
   "id": "6228333d",
   "metadata": {},
   "outputs": [],
   "source": [
    "diagnosis = diagnosis[diagnosis['PatientID'].isin(test_IDs)]"
   ]
  },
  {
   "cell_type": "code",
   "execution_count": 342,
   "id": "efe90464",
   "metadata": {},
   "outputs": [
    {
     "data": {
      "text/plain": [
       "(322910, 6336)"
      ]
     },
     "execution_count": 342,
     "metadata": {},
     "output_type": "execute_result"
    }
   ],
   "source": [
    "row_ID(diagnosis)"
   ]
  },
  {
   "cell_type": "markdown",
   "id": "b23d926c",
   "metadata": {},
   "source": [
    "#### Elixhauser"
   ]
  },
  {
   "cell_type": "code",
   "execution_count": 343,
   "id": "f073c6a9",
   "metadata": {},
   "outputs": [],
   "source": [
    "diagnosis = pd.merge(diagnosis, enhanced_met[['PatientID', 'met_date']], on = 'PatientID', how = 'left')"
   ]
  },
  {
   "cell_type": "code",
   "execution_count": 344,
   "id": "deb80de0",
   "metadata": {},
   "outputs": [],
   "source": [
    "diagnosis.loc[:, 'DiagnosisDate'] = pd.to_datetime(diagnosis['DiagnosisDate'])"
   ]
  },
  {
   "cell_type": "code",
   "execution_count": 345,
   "id": "30e81428",
   "metadata": {},
   "outputs": [],
   "source": [
    "diagnosis.loc[:, 'diagnosis_date_diff'] = (diagnosis['DiagnosisDate'] - diagnosis['met_date']).dt.days"
   ]
  },
  {
   "cell_type": "code",
   "execution_count": 346,
   "id": "663534da",
   "metadata": {},
   "outputs": [],
   "source": [
    "# Remove decimal to make mapping to Elixhauser easier. \n",
    "diagnosis.loc[:, 'diagnosis_code'] = diagnosis['DiagnosisCode'].replace('\\.', '', regex = True)"
   ]
  },
  {
   "cell_type": "markdown",
   "id": "7c07f301",
   "metadata": {},
   "source": [
    "##### Elixhauser for ICD-9"
   ]
  },
  {
   "cell_type": "code",
   "execution_count": 347,
   "id": "be0bbad0",
   "metadata": {},
   "outputs": [],
   "source": [
    "# ICD-9 dataframe with unique codes for each patient. \n",
    "diagnosis_elix_9 = (\n",
    "    diagnosis\n",
    "    .query('diagnosis_date_diff <= 30')\n",
    "    .query('DiagnosisCodeSystem == \"ICD-9-CM\"')\n",
    "    .drop_duplicates(subset = (['PatientID', 'DiagnosisCode']), keep = 'first')\n",
    "    .filter(items = ['PatientID', 'DiagnosisCode', 'diagnosis_code'])\n",
    ")"
   ]
  },
  {
   "cell_type": "code",
   "execution_count": 348,
   "id": "0a59cab3",
   "metadata": {},
   "outputs": [
    {
     "data": {
      "text/plain": [
       "(22691, 3510)"
      ]
     },
     "execution_count": 348,
     "metadata": {},
     "output_type": "execute_result"
    }
   ],
   "source": [
    "row_ID(diagnosis_elix_9)"
   ]
  },
  {
   "cell_type": "code",
   "execution_count": 349,
   "id": "a357f612",
   "metadata": {},
   "outputs": [],
   "source": [
    "diagnosis_elix_9.loc[:, 'chf'] = (\n",
    "    np.where(diagnosis_elix_9['diagnosis_code'].str.match('39891|'\n",
    "                                                          '402(01|11|91)|'\n",
    "                                                          '404(01|03|[19][13])|'\n",
    "                                                          '42(5[456789]|8)'), 1, 0)\n",
    ")"
   ]
  },
  {
   "cell_type": "code",
   "execution_count": 350,
   "id": "baa43c98",
   "metadata": {},
   "outputs": [],
   "source": [
    "diagnosis_elix_9.loc[:, 'cardiac_arrhythmias'] = (\n",
    "    np.where(diagnosis_elix_9['diagnosis_code'].str.match('426([079]|1[023])|'\n",
    "                                                          '427[012346789]|'\n",
    "                                                          '7850|'\n",
    "                                                          '996(01|04)|'\n",
    "                                                          'V450|'\n",
    "                                                          'V533'), 1, 0)\n",
    ")"
   ]
  },
  {
   "cell_type": "code",
   "execution_count": 351,
   "id": "6468cbc2",
   "metadata": {},
   "outputs": [],
   "source": [
    "diagnosis_elix_9.loc[:, 'valvular_disease'] = (\n",
    "    np.where(diagnosis_elix_9['diagnosis_code'].str.match('0932|'\n",
    "                                                          '39[4567]|'\n",
    "                                                          '424|'\n",
    "                                                          '746[3456]|'\n",
    "                                                          'V422|'\n",
    "                                                          'V433'), 1, 0)\n",
    ")"
   ]
  },
  {
   "cell_type": "code",
   "execution_count": 352,
   "id": "c8afb673",
   "metadata": {},
   "outputs": [],
   "source": [
    "diagnosis_elix_9.loc[:, 'pulmonary_circulation'] = (\n",
    "    np.where(diagnosis_elix_9['diagnosis_code'].str.match('41(5[01]|6|7[089])'), 1, 0)\n",
    ")"
   ]
  },
  {
   "cell_type": "code",
   "execution_count": 353,
   "id": "d69128be",
   "metadata": {},
   "outputs": [],
   "source": [
    "diagnosis_elix_9.loc[:, 'peripheral_vascular'] = (\n",
    "    np.where(diagnosis_elix_9['diagnosis_code'].str.match('0930|'\n",
    "                                                          '4373|'\n",
    "                                                          '44([01]|3[123456789]|71)|'\n",
    "                                                          '557[19]|'\n",
    "                                                          'V434'), 1, 0)\n",
    ")"
   ]
  },
  {
   "cell_type": "code",
   "execution_count": 354,
   "id": "07e1fec4",
   "metadata": {},
   "outputs": [],
   "source": [
    "diagnosis_elix_9.loc[:, 'htn_uncomplicated'] = (\n",
    "    np.where(diagnosis_elix_9['diagnosis_code'].str.match('401'), 1, 0)\n",
    ")"
   ]
  },
  {
   "cell_type": "code",
   "execution_count": 355,
   "id": "911c82c1",
   "metadata": {},
   "outputs": [],
   "source": [
    "diagnosis_elix_9.loc[:, 'htn_complicated'] = (\n",
    "    np.where(diagnosis_elix_9['diagnosis_code'].str.match('40[2345]'), 1, 0)\n",
    ")"
   ]
  },
  {
   "cell_type": "code",
   "execution_count": 356,
   "id": "daf43b02",
   "metadata": {},
   "outputs": [],
   "source": [
    "diagnosis_elix_9.loc[:, 'paralysis'] = (\n",
    "    np.where(diagnosis_elix_9['diagnosis_code'].str.match('3341|'\n",
    "                                                          '34([23]|4[01234569])'), 1, 0)\n",
    ")"
   ]
  },
  {
   "cell_type": "code",
   "execution_count": 357,
   "id": "137201b1",
   "metadata": {},
   "outputs": [],
   "source": [
    "diagnosis_elix_9.loc[:, 'other_neuro_disorders'] = (\n",
    "    np.where(diagnosis_elix_9['diagnosis_code'].str.match('33(19|2[01]|3([45]|92)|[45]|62)|'\n",
    "                                                          '34([015]|8[13])|'\n",
    "                                                          '78[04]3'), 1, 0)\n",
    ")"
   ]
  },
  {
   "cell_type": "code",
   "execution_count": 358,
   "id": "4ec9f0be",
   "metadata": {},
   "outputs": [],
   "source": [
    "diagnosis_elix_9.loc[:, 'chronic_pulmonary'] = (\n",
    "    np.where(diagnosis_elix_9['diagnosis_code'].str.match('416[89]|'\n",
    "                                                          '49|'\n",
    "                                                          '50([012345]|64|8[18])'), 1, 0)\n",
    ")"
   ]
  },
  {
   "cell_type": "code",
   "execution_count": 359,
   "id": "ff72cda5",
   "metadata": {},
   "outputs": [],
   "source": [
    "diagnosis_elix_9.loc[:, 'diabetes_uncomplicated'] = (\n",
    "    np.where(diagnosis_elix_9['diagnosis_code'].str.match('250[0123]'), 1, 0)\n",
    ")"
   ]
  },
  {
   "cell_type": "code",
   "execution_count": 360,
   "id": "2311328d",
   "metadata": {},
   "outputs": [],
   "source": [
    "diagnosis_elix_9.loc[:, 'diabetes_complicated'] = (\n",
    "    np.where(diagnosis_elix_9['diagnosis_code'].str.match('250[456789]'), 1, 0)\n",
    ")"
   ]
  },
  {
   "cell_type": "code",
   "execution_count": 361,
   "id": "f8b6113a",
   "metadata": {},
   "outputs": [],
   "source": [
    "diagnosis_elix_9.loc[:, 'hypothyroidism'] = (\n",
    "    np.where(diagnosis_elix_9['diagnosis_code'].str.match('2409|'\n",
    "                                                          '24([34]|6[18])'), 1, 0)\n",
    ")"
   ]
  },
  {
   "cell_type": "code",
   "execution_count": 362,
   "id": "25d15afc",
   "metadata": {},
   "outputs": [],
   "source": [
    "diagnosis_elix_9.loc[:, 'renal_failure'] = (\n",
    "    np.where(diagnosis_elix_9['diagnosis_code'].str.match('403[019]1|'\n",
    "                                                          '404[019][23]|'\n",
    "                                                          '58([56]|80)|'\n",
    "                                                          'V4(20|51)|'\n",
    "                                                          'V56'), 1, 0)\n",
    ")"
   ]
  },
  {
   "cell_type": "code",
   "execution_count": 363,
   "id": "389fa1f9",
   "metadata": {},
   "outputs": [],
   "source": [
    "diagnosis_elix_9.loc[:, 'liver_disease'] = (\n",
    "    np.where(diagnosis_elix_9['diagnosis_code'].str.match('070(2[23]]|3[23]|44|54|6|9)|'\n",
    "                                                          '456[012]|'\n",
    "                                                          '57([01]|2[2345678]|3[3489])|'\n",
    "                                                          'V427'), 1, 0)\n",
    ")"
   ]
  },
  {
   "cell_type": "code",
   "execution_count": 364,
   "id": "9cffc7e3",
   "metadata": {},
   "outputs": [],
   "source": [
    "diagnosis_elix_9.loc[:, 'peptic_ulcer_disease'] = (\n",
    "    np.where(diagnosis_elix_9['diagnosis_code'].str.match('53[1234][79]'), 1, 0)\n",
    ")"
   ]
  },
  {
   "cell_type": "code",
   "execution_count": 365,
   "id": "8c0de906",
   "metadata": {},
   "outputs": [],
   "source": [
    "diagnosis_elix_9.loc[:, 'aids_hiv'] = (\n",
    "    np.where(diagnosis_elix_9['diagnosis_code'].str.match('04[234]'), 1, 0)\n",
    ")"
   ]
  },
  {
   "cell_type": "code",
   "execution_count": 366,
   "id": "dc71183d",
   "metadata": {},
   "outputs": [],
   "source": [
    "diagnosis_elix_9.loc[:, 'lymphoma'] = (\n",
    "    np.where(diagnosis_elix_9['diagnosis_code'].str.match('20([012]|30)|'\n",
    "                                                          '2386'), 1, 0)\n",
    ")"
   ]
  },
  {
   "cell_type": "code",
   "execution_count": 367,
   "id": "67ef0f9f",
   "metadata": {},
   "outputs": [],
   "source": [
    "diagnosis_elix_9.loc[:, 'metastatic_cancer'] = (\n",
    "    np.where(diagnosis_elix_9['diagnosis_code'].str.match('19[6789]'), 1, 0)\n",
    ")"
   ]
  },
  {
   "cell_type": "code",
   "execution_count": 368,
   "id": "666d8190",
   "metadata": {},
   "outputs": [],
   "source": [
    "diagnosis_elix_9.loc[:, 'solid_tumor_wout_mets'] = (\n",
    "    np.where(diagnosis_elix_9['diagnosis_code'].str.match('1[456]|'\n",
    "                                                          '17[012456789]|'\n",
    "                                                          '18|'\n",
    "                                                          '19([012345])'), 1, 0)\n",
    ")"
   ]
  },
  {
   "cell_type": "code",
   "execution_count": 369,
   "id": "f2c28b3d",
   "metadata": {},
   "outputs": [],
   "source": [
    "diagnosis_elix_9.loc[:, 'rheumatoid_arthritis'] = (\n",
    "    np.where(diagnosis_elix_9['diagnosis_code'].str.match('446|'\n",
    "                                                          '7010|'\n",
    "                                                          '71(0[0123489]|12|4|93)|'\n",
    "                                                          '72([05]|85|889|930)'), 1, 0)\n",
    ")"
   ]
  },
  {
   "cell_type": "code",
   "execution_count": 370,
   "id": "894c6c6b",
   "metadata": {},
   "outputs": [],
   "source": [
    "diagnosis_elix_9.loc[:, 'coagulopathy'] = (\n",
    "    np.where(diagnosis_elix_9['diagnosis_code'].str.match('28(6|7[1345])'), 1, 0)\n",
    ")"
   ]
  },
  {
   "cell_type": "code",
   "execution_count": 371,
   "id": "c155d698",
   "metadata": {},
   "outputs": [],
   "source": [
    "diagnosis_elix_9.loc[:, 'obesity'] = (\n",
    "    np.where(diagnosis_elix_9['diagnosis_code'].str.match('2780'), 1, 0)\n",
    ")"
   ]
  },
  {
   "cell_type": "code",
   "execution_count": 372,
   "id": "d5575862",
   "metadata": {},
   "outputs": [],
   "source": [
    "diagnosis_elix_9.loc[:, 'weight_loss'] = (\n",
    "    np.where(diagnosis_elix_9['diagnosis_code'].str.match('26[0123]|'\n",
    "                                                          '7832|'\n",
    "                                                          '7994'), 1, 0)\n",
    ")"
   ]
  },
  {
   "cell_type": "code",
   "execution_count": 373,
   "id": "94ed007a",
   "metadata": {},
   "outputs": [],
   "source": [
    "diagnosis_elix_9.loc[:, 'fluid_electrolyte'] = (\n",
    "    np.where(diagnosis_elix_9['diagnosis_code'].str.match('2(536|76)'), 1, 0)\n",
    ")"
   ]
  },
  {
   "cell_type": "code",
   "execution_count": 374,
   "id": "10b1797d",
   "metadata": {},
   "outputs": [],
   "source": [
    "diagnosis_elix_9.loc[:, 'blood_loss_anemia'] = (\n",
    "    np.where(diagnosis_elix_9['diagnosis_code'].str.match('2800'), 1, 0)\n",
    ")"
   ]
  },
  {
   "cell_type": "code",
   "execution_count": 375,
   "id": "31d1cf72",
   "metadata": {},
   "outputs": [],
   "source": [
    "diagnosis_elix_9.loc[:, 'deficiency_anemia'] = (\n",
    "    np.where(diagnosis_elix_9['diagnosis_code'].str.match('28(0[123456789]|1)'), 1, 0)\n",
    ")"
   ]
  },
  {
   "cell_type": "code",
   "execution_count": 376,
   "id": "e2bb0a8f",
   "metadata": {},
   "outputs": [],
   "source": [
    "diagnosis_elix_9.loc[:, 'alcohol_abuse'] = (\n",
    "    np.where(diagnosis_elix_9['diagnosis_code'].str.match('2652|'\n",
    "                                                          '291[12356789]|'\n",
    "                                                          '30(3[09]|50)|'\n",
    "                                                          '3575|'\n",
    "                                                          '4255|'\n",
    "                                                          '5353|'\n",
    "                                                          '571[0123]|'\n",
    "                                                          '980|'\n",
    "                                                          'V113'), 1, 0)\n",
    ")"
   ]
  },
  {
   "cell_type": "code",
   "execution_count": 377,
   "id": "9ce9f477",
   "metadata": {},
   "outputs": [],
   "source": [
    "diagnosis_elix_9.loc[:, 'drug_abuse'] = (\n",
    "    np.where(diagnosis_elix_9['diagnosis_code'].str.match('292|'\n",
    "                                                          '30(4|5[23456789])|'\n",
    "                                                          'V6542'), 1, 0)\n",
    ")"
   ]
  },
  {
   "cell_type": "code",
   "execution_count": 378,
   "id": "c73a67ed",
   "metadata": {},
   "outputs": [],
   "source": [
    "diagnosis_elix_9.loc[:, 'psychoses'] = (\n",
    "    np.where(diagnosis_elix_9['diagnosis_code'].str.match('2938|'\n",
    "                                                          '296[0145]4|'\n",
    "                                                          '29[578]'), 1, 0)\n",
    ")"
   ]
  },
  {
   "cell_type": "code",
   "execution_count": 379,
   "id": "db09d5e3",
   "metadata": {},
   "outputs": [],
   "source": [
    "diagnosis_elix_9.loc[:, 'depression'] = (\n",
    "    np.where(diagnosis_elix_9['diagnosis_code'].str.match('296[235]|'\n",
    "                                                          '3(004|09|11)'), 1, 0)\n",
    ")"
   ]
  },
  {
   "cell_type": "code",
   "execution_count": 380,
   "id": "dce1d607",
   "metadata": {},
   "outputs": [],
   "source": [
    "# Create variable that captures ICD-9 codes not included in Elixhauser. \n",
    "diagnosis_elix_9.loc[:, 'elixhauser_other'] = (\n",
    "    np.where(diagnosis_elix_9.iloc[:, 3:].eq(0).all(1), 1, 0)\n",
    ")"
   ]
  },
  {
   "cell_type": "code",
   "execution_count": 381,
   "id": "aaff4c65",
   "metadata": {},
   "outputs": [],
   "source": [
    "# Single-row-per-patient dataframe with columns as Elixhauser comorbidities. \n",
    "diagnosis_elix_9_wide = (\n",
    "    diagnosis_elix_9\n",
    "    .drop(columns = ['DiagnosisCode', 'diagnosis_code'])\n",
    "    .groupby('PatientID').sum()\n",
    "    .reset_index()\n",
    ")"
   ]
  },
  {
   "cell_type": "code",
   "execution_count": 382,
   "id": "1070f653",
   "metadata": {},
   "outputs": [
    {
     "data": {
      "text/plain": [
       "(3510, 3510)"
      ]
     },
     "execution_count": 382,
     "metadata": {},
     "output_type": "execute_result"
    }
   ],
   "source": [
    "row_ID(diagnosis_elix_9_wide)"
   ]
  },
  {
   "cell_type": "markdown",
   "id": "46775451",
   "metadata": {},
   "source": [
    "##### Elixhauser for ICD-10"
   ]
  },
  {
   "cell_type": "code",
   "execution_count": 383,
   "id": "f0d8d6fa",
   "metadata": {},
   "outputs": [],
   "source": [
    "# ICD-10 dataframe with unique codes for each patient.  \n",
    "diagnosis_elix_10 = (\n",
    "    diagnosis\n",
    "    .query('diagnosis_date_diff <= 30')\n",
    "    .query('DiagnosisCodeSystem == \"ICD-10-CM\"')\n",
    "    .drop_duplicates(subset = (['PatientID', 'DiagnosisCode']), keep = 'first')\n",
    "    .filter(items = ['PatientID', 'DiagnosisCode', 'diagnosis_code'])\n",
    ")"
   ]
  },
  {
   "cell_type": "code",
   "execution_count": 384,
   "id": "ac12548b",
   "metadata": {},
   "outputs": [
    {
     "data": {
      "text/plain": [
       "(34495, 3567)"
      ]
     },
     "execution_count": 384,
     "metadata": {},
     "output_type": "execute_result"
    }
   ],
   "source": [
    "row_ID(diagnosis_elix_10)"
   ]
  },
  {
   "cell_type": "code",
   "execution_count": 385,
   "id": "88450144",
   "metadata": {},
   "outputs": [],
   "source": [
    "diagnosis_elix_10.loc[:, 'chf'] = (\n",
    "    np.where(diagnosis_elix_10['diagnosis_code'].str.match('I099|'\n",
    "                                                           'I1(10|3[02])|'\n",
    "                                                           'I255|'\n",
    "                                                           'I4(2[056789]|3)|'\n",
    "                                                           'I50|'\n",
    "                                                           'P290'), 1, 0)\n",
    ")"
   ]
  },
  {
   "cell_type": "code",
   "execution_count": 386,
   "id": "e1f01295",
   "metadata": {},
   "outputs": [],
   "source": [
    "diagnosis_elix_10.loc[:, 'cardiac_arrhythmias'] = (\n",
    "    np.where(diagnosis_elix_10['diagnosis_code'].str.match('I4(4[123]|5[69]|[789])|'\n",
    "                                                           'R00[018]|'\n",
    "                                                           'T821|'\n",
    "                                                           'Z[49]50'), 1, 0)\n",
    ")"
   ]
  },
  {
   "cell_type": "code",
   "execution_count": 387,
   "id": "17eca940",
   "metadata": {},
   "outputs": [],
   "source": [
    "diagnosis_elix_10.loc[:, 'valvular_disease'] = (\n",
    "    np.where(diagnosis_elix_10['diagnosis_code'].str.match('A520|'\n",
    "                                                           'I0([5678]|9[18])|'\n",
    "                                                           'I3[456789]|'\n",
    "                                                           'Q23[0123]|'\n",
    "                                                           'Z95[234]'), 1, 0)\n",
    ")"
   ]
  },
  {
   "cell_type": "code",
   "execution_count": 388,
   "id": "b93700cd",
   "metadata": {},
   "outputs": [],
   "source": [
    "diagnosis_elix_10.loc[:, 'pulmonary_circulation'] = (\n",
    "    np.where(diagnosis_elix_10['diagnosis_code'].str.match('I2([67]|8[089])'), 1, 0)\n",
    ")"
   ]
  },
  {
   "cell_type": "code",
   "execution_count": 389,
   "id": "2c34532f",
   "metadata": {},
   "outputs": [],
   "source": [
    "diagnosis_elix_10.loc[:, 'peripheral_vascular'] = (\n",
    "    np.where(diagnosis_elix_10['diagnosis_code'].str.match('I7([01]|3[189]|71|9[02])|'\n",
    "                                                           'K55[189]|'\n",
    "                                                           'Z95[89]'), 1, 0)\n",
    ")"
   ]
  },
  {
   "cell_type": "code",
   "execution_count": 390,
   "id": "bfa4c51c",
   "metadata": {},
   "outputs": [],
   "source": [
    "diagnosis_elix_10.loc[:, 'htn_uncomplicated'] = (\n",
    "    np.where(diagnosis_elix_10['diagnosis_code'].str.match('I10'), 1, 0)\n",
    ")"
   ]
  },
  {
   "cell_type": "code",
   "execution_count": 391,
   "id": "f4a727e5",
   "metadata": {},
   "outputs": [],
   "source": [
    "diagnosis_elix_10.loc[:, 'htn_complicated'] = (\n",
    "    np.where(diagnosis_elix_10['diagnosis_code'].str.match('I1[1235]'), 1, 0)\n",
    ")"
   ]
  },
  {
   "cell_type": "code",
   "execution_count": 392,
   "id": "407dd37e",
   "metadata": {},
   "outputs": [],
   "source": [
    "diagnosis_elix_10.loc[:, 'paralysis'] = (\n",
    "    np.where(diagnosis_elix_10['diagnosis_code'].str.match('G041|'\n",
    "                                                           'G114|'\n",
    "                                                           'G8(0[12]|[12]|3[012349])'), 1, 0)\n",
    ")"
   ]
  },
  {
   "cell_type": "code",
   "execution_count": 393,
   "id": "eb2fe22b",
   "metadata": {},
   "outputs": [],
   "source": [
    "diagnosis_elix_10.loc[:, 'other_neuro_disorders'] = (\n",
    "    np.where(diagnosis_elix_10['diagnosis_code'].str.match('G1[0123]|'\n",
    "                                                           'G2([012]|5[45])|'\n",
    "                                                           'G3(1[289]|[2567])|'\n",
    "                                                           'G4[01]|'\n",
    "                                                           'G93[14]|'\n",
    "                                                           'R470|'\n",
    "                                                           'R56'), 1, 0)\n",
    ")"
   ]
  },
  {
   "cell_type": "code",
   "execution_count": 394,
   "id": "3688086a",
   "metadata": {},
   "outputs": [],
   "source": [
    "diagnosis_elix_10.loc[:, 'chronic_pulmonary'] = (\n",
    "    np.where(diagnosis_elix_10['diagnosis_code'].str.match('I27[89]|'\n",
    "                                                           'J4[01234567]|'\n",
    "                                                           'J6([01234567]|84)|'\n",
    "                                                           'J70[13]'), 1, 0)\n",
    ")"
   ]
  },
  {
   "cell_type": "code",
   "execution_count": 395,
   "id": "d16fde01",
   "metadata": {},
   "outputs": [],
   "source": [
    "diagnosis_elix_10.loc[:, 'diabetes_uncomplicated'] = (\n",
    "    np.where(diagnosis_elix_10['diagnosis_code'].str.match('E1[01234][019]'), 1, 0)\n",
    ")"
   ]
  },
  {
   "cell_type": "code",
   "execution_count": 396,
   "id": "fc139f0b",
   "metadata": {},
   "outputs": [],
   "source": [
    "diagnosis_elix_10.loc[:, 'diabetes_complicated'] = (\n",
    "    np.where(diagnosis_elix_10['diagnosis_code'].str.match('E1[01234][2345678]'), 1, 0)\n",
    ")"
   ]
  },
  {
   "cell_type": "code",
   "execution_count": 397,
   "id": "218dde23",
   "metadata": {},
   "outputs": [],
   "source": [
    "diagnosis_elix_10.loc[:, 'hypothyroidism'] = (\n",
    "    np.where(diagnosis_elix_10['diagnosis_code'].str.match('E0[0123]|'\n",
    "                                                           'E890'), 1, 0)\n",
    ")"
   ]
  },
  {
   "cell_type": "code",
   "execution_count": 398,
   "id": "ac7c7cf0",
   "metadata": {},
   "outputs": [],
   "source": [
    "diagnosis_elix_10.loc[:, 'renal_failure'] = (\n",
    "    np.where(diagnosis_elix_10['diagnosis_code'].str.match('I1(20|31)|'\n",
    "                                                           'N1[89]|'\n",
    "                                                           'N250|'\n",
    "                                                           'Z49[012]|'\n",
    "                                                           'Z9(40|92)'), 1, 0)\n",
    ")"
   ]
  },
  {
   "cell_type": "code",
   "execution_count": 399,
   "id": "b336c80b",
   "metadata": {},
   "outputs": [],
   "source": [
    "diagnosis_elix_10.loc[:, 'liver_disease'] = (\n",
    "    np.where(diagnosis_elix_10['diagnosis_code'].str.match('B18|'\n",
    "                                                           'I8(5|64)|'\n",
    "                                                           'I982|'\n",
    "                                                           'K7(0|1[13457]|[234]|6[023456789])|'\n",
    "                                                           'Z944'), 1, 0)\n",
    ")"
   ]
  },
  {
   "cell_type": "code",
   "execution_count": 400,
   "id": "baa8c591",
   "metadata": {},
   "outputs": [],
   "source": [
    "diagnosis_elix_10.loc[:, 'peptic_ulcer_disease'] = (\n",
    "    np.where(diagnosis_elix_10['diagnosis_code'].str.match('K2[5678][79]'), 1, 0)\n",
    ")"
   ]
  },
  {
   "cell_type": "code",
   "execution_count": 401,
   "id": "7a05001a",
   "metadata": {},
   "outputs": [],
   "source": [
    "diagnosis_elix_10.loc[:, 'aids_hiv'] = (\n",
    "    np.where(diagnosis_elix_10['diagnosis_code'].str.match('B2[0124]'), 1, 0)\n",
    ")"
   ]
  },
  {
   "cell_type": "code",
   "execution_count": 402,
   "id": "9d424c32",
   "metadata": {},
   "outputs": [],
   "source": [
    "diagnosis_elix_10.loc[:, 'lymphoma'] = (\n",
    "    np.where(diagnosis_elix_10['diagnosis_code'].str.match('C8[123458]|'\n",
    "                                                           'C9(0[02]|6)'), 1, 0)\n",
    ")"
   ]
  },
  {
   "cell_type": "code",
   "execution_count": 403,
   "id": "8534d3e1",
   "metadata": {},
   "outputs": [],
   "source": [
    "diagnosis_elix_10.loc[:, 'metastatic_cancer'] = (\n",
    "    np.where(diagnosis_elix_10['diagnosis_code'].str.match('C(7[789]|80)'), 1, 0)\n",
    ")"
   ]
  },
  {
   "cell_type": "code",
   "execution_count": 404,
   "id": "34e1262e",
   "metadata": {},
   "outputs": [],
   "source": [
    "diagnosis_elix_10.loc[:, 'solid_tumor_wout_mets'] = (\n",
    "    np.where(diagnosis_elix_10['diagnosis_code'].str.match('C[01]|'\n",
    "                                                           'C2[0123456]|'\n",
    "                                                           'C3[01234789]|'\n",
    "                                                           'C4[01356789]|'\n",
    "                                                           'C5[012345678]|'\n",
    "                                                           'C6|'\n",
    "                                                           'C7[0123456]|'\n",
    "                                                           'C97'), 1, 0)\n",
    ")"
   ]
  },
  {
   "cell_type": "code",
   "execution_count": 405,
   "id": "27a57371",
   "metadata": {},
   "outputs": [],
   "source": [
    "diagnosis_elix_10.loc[:, 'rheumatoid_arthritis'] = (\n",
    "    np.where(diagnosis_elix_10['diagnosis_code'].str.match('L94[013]|'\n",
    "                                                           'M0[568]|'\n",
    "                                                           'M12[03]|'\n",
    "                                                           'M3(0|1[0123]|[2345])|'\n",
    "                                                           'M4(5|6[189])'), 1, 0)\n",
    ")"
   ]
  },
  {
   "cell_type": "code",
   "execution_count": 406,
   "id": "876987ac",
   "metadata": {},
   "outputs": [],
   "source": [
    "diagnosis_elix_10.loc[:, 'coagulopathy'] = (\n",
    "    np.where(diagnosis_elix_10['diagnosis_code'].str.match('D6([5678]|9[13456])'), 1, 0)\n",
    ")"
   ]
  },
  {
   "cell_type": "code",
   "execution_count": 407,
   "id": "7e1477a7",
   "metadata": {},
   "outputs": [],
   "source": [
    "diagnosis_elix_10.loc[:, 'obesity'] = (\n",
    "    np.where(diagnosis_elix_10['diagnosis_code'].str.match('E66'), 1, 0)\n",
    ")"
   ]
  },
  {
   "cell_type": "code",
   "execution_count": 408,
   "id": "1d54d470",
   "metadata": {},
   "outputs": [],
   "source": [
    "diagnosis_elix_10.loc[:, 'weight_loss'] = (\n",
    "    np.where(diagnosis_elix_10['diagnosis_code'].str.match('E4[0123456]|'\n",
    "                                                           'R6(34|4)'), 1, 0)\n",
    ")"
   ]
  },
  {
   "cell_type": "code",
   "execution_count": 409,
   "id": "6c27ecc3",
   "metadata": {},
   "outputs": [],
   "source": [
    "diagnosis_elix_10.loc[:, 'fluid_electrolyte'] = (\n",
    "    np.where(diagnosis_elix_10['diagnosis_code'].str.match('E222|'\n",
    "                                                           'E8[67]'), 1, 0)\n",
    ")"
   ]
  },
  {
   "cell_type": "code",
   "execution_count": 410,
   "id": "69a9c64b",
   "metadata": {},
   "outputs": [],
   "source": [
    "diagnosis_elix_10.loc[:, 'blood_loss_anemia'] = (\n",
    "    np.where(diagnosis_elix_10['diagnosis_code'].str.match('D500'), 1, 0)\n",
    ")"
   ]
  },
  {
   "cell_type": "code",
   "execution_count": 411,
   "id": "15a06201",
   "metadata": {},
   "outputs": [],
   "source": [
    "diagnosis_elix_10.loc[:, 'deficiency_anemia'] = (\n",
    "    np.where(diagnosis_elix_10['diagnosis_code'].str.match('D5(0[89]|[123])'), 1, 0)\n",
    ")"
   ]
  },
  {
   "cell_type": "code",
   "execution_count": 412,
   "id": "e1179218",
   "metadata": {},
   "outputs": [],
   "source": [
    "diagnosis_elix_10.loc[:, 'alcohol_abuse'] = (\n",
    "    np.where(diagnosis_elix_10['diagnosis_code'].str.match('F10|'\n",
    "                                                           'E52|'\n",
    "                                                           'G621|'\n",
    "                                                           'I426|'\n",
    "                                                           'K292|'\n",
    "                                                           'K70[039]|'\n",
    "                                                           'T51|'\n",
    "                                                           'Z502|'\n",
    "                                                           'Z7(14|21)'), 1, 0)\n",
    ")"
   ]
  },
  {
   "cell_type": "code",
   "execution_count": 413,
   "id": "57c2d48c",
   "metadata": {},
   "outputs": [],
   "source": [
    "diagnosis_elix_10.loc[:, 'drug_abuse'] = (\n",
    "    np.where(diagnosis_elix_10['diagnosis_code'].str.match('F1[12345689]|'\n",
    "                                                           'Z7(15|22)'), 1, 0)\n",
    ")"
   ]
  },
  {
   "cell_type": "code",
   "execution_count": 414,
   "id": "53dc0fee",
   "metadata": {},
   "outputs": [],
   "source": [
    "diagnosis_elix_10.loc[:, 'psychoses'] = (\n",
    "    np.where(diagnosis_elix_10['diagnosis_code'].str.match('F2[0234589]|'\n",
    "                                                           'F3([01]2|15)'), 1, 0)\n",
    ")"
   ]
  },
  {
   "cell_type": "code",
   "execution_count": 415,
   "id": "b9670c64",
   "metadata": {},
   "outputs": [],
   "source": [
    "diagnosis_elix_10.loc[:, 'depression'] = (\n",
    "    np.where(diagnosis_elix_10['diagnosis_code'].str.match('F204|'\n",
    "                                                           'F3(1[345]|[23]|41)|'\n",
    "                                                           'F4[13]2'), 1, 0)\n",
    ")"
   ]
  },
  {
   "cell_type": "code",
   "execution_count": 416,
   "id": "7f281d55",
   "metadata": {},
   "outputs": [],
   "source": [
    "# Create variable that captures ICD-10 codes not included in Elixhauser. \n",
    "diagnosis_elix_10.loc[:, 'elixhauser_other'] = (\n",
    "    np.where(diagnosis_elix_10.iloc[:, 3:].eq(0).all(1), 1, 0)\n",
    ")"
   ]
  },
  {
   "cell_type": "code",
   "execution_count": 417,
   "id": "bc54bc7c",
   "metadata": {},
   "outputs": [],
   "source": [
    "diagnosis_elix_10_wide = (\n",
    "    diagnosis_elix_10\n",
    "    .drop(columns = ['DiagnosisCode', 'diagnosis_code'])\n",
    "    .groupby('PatientID').sum()\n",
    "    .reset_index()\n",
    ")"
   ]
  },
  {
   "cell_type": "code",
   "execution_count": 418,
   "id": "73fc073a",
   "metadata": {},
   "outputs": [
    {
     "data": {
      "text/plain": [
       "(3567, 3567)"
      ]
     },
     "execution_count": 418,
     "metadata": {},
     "output_type": "execute_result"
    }
   ],
   "source": [
    "row_ID(diagnosis_elix_10_wide)"
   ]
  },
  {
   "cell_type": "code",
   "execution_count": 419,
   "id": "73802828",
   "metadata": {},
   "outputs": [],
   "source": [
    "# Merge Elixhauser 9 and 10 and sum by PatientID.\n",
    "diagnosis_elixhauser = (\n",
    "    pd.concat([diagnosis_elix_9_wide, diagnosis_elix_10_wide])\n",
    "    .groupby('PatientID').sum()\n",
    ")"
   ]
  },
  {
   "cell_type": "code",
   "execution_count": 420,
   "id": "9597115a",
   "metadata": {},
   "outputs": [],
   "source": [
    "# Create unqiue ICD count for each patient. \n",
    "diagnosis_elixhauser['icd_count'] = diagnosis_elixhauser.sum(axis = 1)  "
   ]
  },
  {
   "cell_type": "code",
   "execution_count": 421,
   "id": "0c3571f8",
   "metadata": {},
   "outputs": [],
   "source": [
    "# Other than unique ICD count, values greater than 1 are set to 1; 0 remains unchanged. \n",
    "diagnosis_elixhauser.iloc[:, :-1] = (\n",
    "    diagnosis_elixhauser.iloc[:, :-1].mask(diagnosis_elixhauser.iloc[:, :-1] >1, 1)\n",
    ")"
   ]
  },
  {
   "cell_type": "code",
   "execution_count": 422,
   "id": "09281815",
   "metadata": {},
   "outputs": [],
   "source": [
    "diagnosis_elixhauser = diagnosis_elixhauser.reset_index()"
   ]
  },
  {
   "cell_type": "code",
   "execution_count": 423,
   "id": "224951e4",
   "metadata": {},
   "outputs": [
    {
     "data": {
      "text/plain": [
       "(5535, 5535)"
      ]
     },
     "execution_count": 423,
     "metadata": {},
     "output_type": "execute_result"
    }
   ],
   "source": [
    "row_ID(diagnosis_elixhauser)"
   ]
  },
  {
   "cell_type": "code",
   "execution_count": 424,
   "id": "4e212800",
   "metadata": {},
   "outputs": [],
   "source": [
    "# Append missing training IDs.\n",
    "diagnosis_elixhauser = (\n",
    "    diagnosis_elixhauser\n",
    "    .append(\n",
    "        pd.Series(test_IDs)[~pd.Series(test_IDs).isin(diagnosis_elixhauser['PatientID'])].to_frame(name = 'PatientID'), \n",
    "        sort = False)\n",
    "    .fillna(0)\n",
    ")"
   ]
  },
  {
   "cell_type": "code",
   "execution_count": 425,
   "id": "84a8a2b0",
   "metadata": {},
   "outputs": [
    {
     "data": {
      "text/plain": [
       "(6336, 6336)"
      ]
     },
     "execution_count": 425,
     "metadata": {},
     "output_type": "execute_result"
    }
   ],
   "source": [
    "row_ID(diagnosis_elixhauser)"
   ]
  },
  {
   "cell_type": "code",
   "execution_count": 426,
   "id": "2fc58a89",
   "metadata": {},
   "outputs": [
    {
     "data": {
      "text/html": [
       "<div>\n",
       "<style scoped>\n",
       "    .dataframe tbody tr th:only-of-type {\n",
       "        vertical-align: middle;\n",
       "    }\n",
       "\n",
       "    .dataframe tbody tr th {\n",
       "        vertical-align: top;\n",
       "    }\n",
       "\n",
       "    .dataframe thead th {\n",
       "        text-align: right;\n",
       "    }\n",
       "</style>\n",
       "<table border=\"1\" class=\"dataframe\">\n",
       "  <thead>\n",
       "    <tr style=\"text-align: right;\">\n",
       "      <th></th>\n",
       "      <th>PatientID</th>\n",
       "      <th>chf</th>\n",
       "      <th>cardiac_arrhythmias</th>\n",
       "      <th>valvular_disease</th>\n",
       "      <th>pulmonary_circulation</th>\n",
       "      <th>peripheral_vascular</th>\n",
       "      <th>htn_uncomplicated</th>\n",
       "      <th>htn_complicated</th>\n",
       "      <th>paralysis</th>\n",
       "      <th>other_neuro_disorders</th>\n",
       "      <th>...</th>\n",
       "      <th>weight_loss</th>\n",
       "      <th>fluid_electrolyte</th>\n",
       "      <th>blood_loss_anemia</th>\n",
       "      <th>deficiency_anemia</th>\n",
       "      <th>alcohol_abuse</th>\n",
       "      <th>drug_abuse</th>\n",
       "      <th>psychoses</th>\n",
       "      <th>depression</th>\n",
       "      <th>elixhauser_other</th>\n",
       "      <th>icd_count</th>\n",
       "    </tr>\n",
       "  </thead>\n",
       "  <tbody>\n",
       "    <tr>\n",
       "      <th>4750</th>\n",
       "      <td>FDB440BA6B6FF</td>\n",
       "      <td>0.0</td>\n",
       "      <td>0.0</td>\n",
       "      <td>0.0</td>\n",
       "      <td>0.0</td>\n",
       "      <td>0.0</td>\n",
       "      <td>0.0</td>\n",
       "      <td>0.0</td>\n",
       "      <td>0.0</td>\n",
       "      <td>0.0</td>\n",
       "      <td>...</td>\n",
       "      <td>0.0</td>\n",
       "      <td>0.0</td>\n",
       "      <td>0.0</td>\n",
       "      <td>0.0</td>\n",
       "      <td>0.0</td>\n",
       "      <td>0.0</td>\n",
       "      <td>0.0</td>\n",
       "      <td>0.0</td>\n",
       "      <td>1.0</td>\n",
       "      <td>4.0</td>\n",
       "    </tr>\n",
       "    <tr>\n",
       "      <th>710</th>\n",
       "      <td>F1EB8E2E0828F</td>\n",
       "      <td>0.0</td>\n",
       "      <td>0.0</td>\n",
       "      <td>0.0</td>\n",
       "      <td>0.0</td>\n",
       "      <td>0.0</td>\n",
       "      <td>0.0</td>\n",
       "      <td>0.0</td>\n",
       "      <td>0.0</td>\n",
       "      <td>0.0</td>\n",
       "      <td>...</td>\n",
       "      <td>0.0</td>\n",
       "      <td>0.0</td>\n",
       "      <td>0.0</td>\n",
       "      <td>0.0</td>\n",
       "      <td>0.0</td>\n",
       "      <td>0.0</td>\n",
       "      <td>0.0</td>\n",
       "      <td>0.0</td>\n",
       "      <td>0.0</td>\n",
       "      <td>2.0</td>\n",
       "    </tr>\n",
       "    <tr>\n",
       "      <th>3480</th>\n",
       "      <td>FA29679807721</td>\n",
       "      <td>0.0</td>\n",
       "      <td>0.0</td>\n",
       "      <td>0.0</td>\n",
       "      <td>0.0</td>\n",
       "      <td>0.0</td>\n",
       "      <td>0.0</td>\n",
       "      <td>0.0</td>\n",
       "      <td>0.0</td>\n",
       "      <td>0.0</td>\n",
       "      <td>...</td>\n",
       "      <td>0.0</td>\n",
       "      <td>0.0</td>\n",
       "      <td>0.0</td>\n",
       "      <td>0.0</td>\n",
       "      <td>0.0</td>\n",
       "      <td>0.0</td>\n",
       "      <td>0.0</td>\n",
       "      <td>0.0</td>\n",
       "      <td>0.0</td>\n",
       "      <td>1.0</td>\n",
       "    </tr>\n",
       "    <tr>\n",
       "      <th>2889</th>\n",
       "      <td>F83BB813ACBE4</td>\n",
       "      <td>0.0</td>\n",
       "      <td>0.0</td>\n",
       "      <td>0.0</td>\n",
       "      <td>0.0</td>\n",
       "      <td>0.0</td>\n",
       "      <td>0.0</td>\n",
       "      <td>0.0</td>\n",
       "      <td>0.0</td>\n",
       "      <td>0.0</td>\n",
       "      <td>...</td>\n",
       "      <td>0.0</td>\n",
       "      <td>0.0</td>\n",
       "      <td>0.0</td>\n",
       "      <td>0.0</td>\n",
       "      <td>0.0</td>\n",
       "      <td>0.0</td>\n",
       "      <td>0.0</td>\n",
       "      <td>0.0</td>\n",
       "      <td>0.0</td>\n",
       "      <td>0.0</td>\n",
       "    </tr>\n",
       "    <tr>\n",
       "      <th>2827</th>\n",
       "      <td>F822EFECD9E9D</td>\n",
       "      <td>0.0</td>\n",
       "      <td>0.0</td>\n",
       "      <td>0.0</td>\n",
       "      <td>0.0</td>\n",
       "      <td>0.0</td>\n",
       "      <td>0.0</td>\n",
       "      <td>0.0</td>\n",
       "      <td>0.0</td>\n",
       "      <td>0.0</td>\n",
       "      <td>...</td>\n",
       "      <td>0.0</td>\n",
       "      <td>0.0</td>\n",
       "      <td>0.0</td>\n",
       "      <td>0.0</td>\n",
       "      <td>0.0</td>\n",
       "      <td>0.0</td>\n",
       "      <td>0.0</td>\n",
       "      <td>0.0</td>\n",
       "      <td>1.0</td>\n",
       "      <td>4.0</td>\n",
       "    </tr>\n",
       "  </tbody>\n",
       "</table>\n",
       "<p>5 rows × 34 columns</p>\n",
       "</div>"
      ],
      "text/plain": [
       "          PatientID  chf  cardiac_arrhythmias  valvular_disease  \\\n",
       "4750  FDB440BA6B6FF  0.0                  0.0               0.0   \n",
       "710   F1EB8E2E0828F  0.0                  0.0               0.0   \n",
       "3480  FA29679807721  0.0                  0.0               0.0   \n",
       "2889  F83BB813ACBE4  0.0                  0.0               0.0   \n",
       "2827  F822EFECD9E9D  0.0                  0.0               0.0   \n",
       "\n",
       "      pulmonary_circulation  peripheral_vascular  htn_uncomplicated  \\\n",
       "4750                    0.0                  0.0                0.0   \n",
       "710                     0.0                  0.0                0.0   \n",
       "3480                    0.0                  0.0                0.0   \n",
       "2889                    0.0                  0.0                0.0   \n",
       "2827                    0.0                  0.0                0.0   \n",
       "\n",
       "      htn_complicated  paralysis  other_neuro_disorders  ...  weight_loss  \\\n",
       "4750              0.0        0.0                    0.0  ...          0.0   \n",
       "710               0.0        0.0                    0.0  ...          0.0   \n",
       "3480              0.0        0.0                    0.0  ...          0.0   \n",
       "2889              0.0        0.0                    0.0  ...          0.0   \n",
       "2827              0.0        0.0                    0.0  ...          0.0   \n",
       "\n",
       "      fluid_electrolyte  blood_loss_anemia  deficiency_anemia  alcohol_abuse  \\\n",
       "4750                0.0                0.0                0.0            0.0   \n",
       "710                 0.0                0.0                0.0            0.0   \n",
       "3480                0.0                0.0                0.0            0.0   \n",
       "2889                0.0                0.0                0.0            0.0   \n",
       "2827                0.0                0.0                0.0            0.0   \n",
       "\n",
       "      drug_abuse  psychoses  depression  elixhauser_other  icd_count  \n",
       "4750         0.0        0.0         0.0               1.0        4.0  \n",
       "710          0.0        0.0         0.0               0.0        2.0  \n",
       "3480         0.0        0.0         0.0               0.0        1.0  \n",
       "2889         0.0        0.0         0.0               0.0        0.0  \n",
       "2827         0.0        0.0         0.0               1.0        4.0  \n",
       "\n",
       "[5 rows x 34 columns]"
      ]
     },
     "execution_count": 426,
     "metadata": {},
     "output_type": "execute_result"
    }
   ],
   "source": [
    "diagnosis_elixhauser.sample(5)"
   ]
  },
  {
   "cell_type": "markdown",
   "id": "c8261ad2",
   "metadata": {},
   "source": [
    "#### Other cancer "
   ]
  },
  {
   "cell_type": "markdown",
   "id": "eb4aabbf",
   "metadata": {},
   "source": [
    "##### ICD-9 Cancer codes "
   ]
  },
  {
   "cell_type": "code",
   "execution_count": 427,
   "id": "fe39fed9",
   "metadata": {},
   "outputs": [],
   "source": [
    "# Select all ICD-9 cancer codes between 140-209.\n",
    "# Exclude benign neoplasms: 210-229, carcinoma in site: 230-234, and neoplasms of uncertain behavior or nature: 235-239.\n",
    "cancer_9 = (\n",
    "    diagnosis_elix_9[diagnosis_elix_9['DiagnosisCode'].str.startswith(\n",
    "        ('14','15', '16', '17', '18', '19', '20'))]\n",
    "    .filter(items = ['PatientID', 'DiagnosisCode', 'diagnosis_code'])\n",
    ")"
   ]
  },
  {
   "cell_type": "code",
   "execution_count": 428,
   "id": "a520ff4e",
   "metadata": {},
   "outputs": [
    {
     "data": {
      "text/plain": [
       "(5165, 3196)"
      ]
     },
     "execution_count": 428,
     "metadata": {},
     "output_type": "execute_result"
    }
   ],
   "source": [
    "row_ID(cancer_9)"
   ]
  },
  {
   "cell_type": "markdown",
   "id": "7afb7f40",
   "metadata": {},
   "source": [
    "**Remove the following ICD-9 codes representing colorectal cancer, metastasis, ill-defined neoplasms, and benign neoplasms of skin (BCC and SCC):**\n",
    "* **174 - Malignant neoplasm of female breast**\n",
    "* **175 - Malignant neoplasm of male breast**\n",
    "* **173 - Other and unspecified malignant neoplasm of skin**\n",
    "* **196 - Secondary and unspecified malignant neoplasm of lymph nodes**\n",
    "* **197 - Secondary malignant neoplasm of respiratory and digestive systems**\n",
    "* **198 - Secondary malignant neoplasm of other specified sites** \n",
    "* **199 - Malignant neoplasm without specification of site**"
   ]
  },
  {
   "cell_type": "code",
   "execution_count": 429,
   "id": "668b9817",
   "metadata": {},
   "outputs": [],
   "source": [
    "# Dataframe of ICD-9 neoplasm codes that exclude colorectal cancer, metastasis, or benign neoplasms.\n",
    "other_cancer_9 = (\n",
    "    cancer_9[~cancer_9['diagnosis_code'].str.match('17([345])|'\n",
    "                                                   '19([6789])')]\n",
    ")"
   ]
  },
  {
   "cell_type": "code",
   "execution_count": 430,
   "id": "ca10a008",
   "metadata": {},
   "outputs": [
    {
     "name": "stderr",
     "output_type": "stream",
     "text": [
      "/Users/xavierorcutt/Dropbox/ist_project/myenv/lib/python3.7/site-packages/pandas/core/indexing.py:1667: SettingWithCopyWarning: \n",
      "A value is trying to be set on a copy of a slice from a DataFrame.\n",
      "Try using .loc[row_indexer,col_indexer] = value instead\n",
      "\n",
      "See the caveats in the documentation: https://pandas.pydata.org/pandas-docs/stable/user_guide/indexing.html#returning-a-view-versus-a-copy\n",
      "  self.obj[key] = value\n"
     ]
    }
   ],
   "source": [
    "other_cancer_9.loc[:,'other_cancer_9'] = 1"
   ]
  },
  {
   "cell_type": "code",
   "execution_count": 431,
   "id": "15e457c0",
   "metadata": {},
   "outputs": [],
   "source": [
    "other_cancer_9 = (\n",
    "    other_cancer_9\n",
    "    .drop_duplicates(subset = 'PatientID', keep = 'first')\n",
    "    .filter(items = ['PatientID', 'other_cancer_9'])\n",
    ")"
   ]
  },
  {
   "cell_type": "code",
   "execution_count": 432,
   "id": "9b88491b",
   "metadata": {},
   "outputs": [
    {
     "data": {
      "text/plain": [
       "(207, 207)"
      ]
     },
     "execution_count": 432,
     "metadata": {},
     "output_type": "execute_result"
    }
   ],
   "source": [
    "row_ID(other_cancer_9)"
   ]
  },
  {
   "cell_type": "code",
   "execution_count": 433,
   "id": "b324cae8",
   "metadata": {},
   "outputs": [],
   "source": [
    "other_cancer_9 = (\n",
    "    other_cancer_9\n",
    "    .append(\n",
    "        pd.Series(test_IDs)[~pd.Series(test_IDs).isin(other_cancer_9['PatientID'])].to_frame(name = 'PatientID'), \n",
    "        sort = False)\n",
    "    .fillna(0)\n",
    ")"
   ]
  },
  {
   "cell_type": "code",
   "execution_count": 434,
   "id": "7fd5ce24",
   "metadata": {},
   "outputs": [
    {
     "data": {
      "text/plain": [
       "(6336, 6336)"
      ]
     },
     "execution_count": 434,
     "metadata": {},
     "output_type": "execute_result"
    }
   ],
   "source": [
    "row_ID(other_cancer_9)"
   ]
  },
  {
   "cell_type": "markdown",
   "id": "49adf2f2",
   "metadata": {},
   "source": [
    "##### ICD-10 Cancer codes"
   ]
  },
  {
   "cell_type": "code",
   "execution_count": 435,
   "id": "23f1167f",
   "metadata": {},
   "outputs": [],
   "source": [
    "# Select all ICD-10 codes between C00-D49 \n",
    "# Exclude in situ neoplasms: D00-D09, benign neoplasms: D10-D36, benign neuroendocrine tumor: D3A, and neoplasms of unspecified behavior: D37 and D49\n",
    "cancer_10 = (\n",
    "    diagnosis_elix_10[diagnosis_elix_10['DiagnosisCode'].str.startswith(\n",
    "        ('C0', 'C1', 'C2', 'C3', 'C4', 'C5', 'C6', 'C7', 'C8', 'C9', 'D38', 'D39', 'D4'))]\n",
    "    .filter(items = ['PatientID', 'DiagnosisCode', 'diagnosis_code'])\n",
    ")"
   ]
  },
  {
   "cell_type": "code",
   "execution_count": 436,
   "id": "910d0c55",
   "metadata": {},
   "outputs": [
    {
     "data": {
      "text/plain": [
       "(7052, 3202)"
      ]
     },
     "execution_count": 436,
     "metadata": {},
     "output_type": "execute_result"
    }
   ],
   "source": [
    "row_ID(cancer_10)"
   ]
  },
  {
   "cell_type": "markdown",
   "id": "0fc4fded",
   "metadata": {},
   "source": [
    "**Remove the following ICD-10 codes which capture breast cancer, metastasis, and benign skin neoplasms(eg., BCC and SCC).**\n",
    "* **C50 - Malignant neoplasm of breast** \n",
    "* **C44 - Other and unspecified malignant neoplasm of skin**\n",
    "* **C77 - Secondary and unspecified malignant neoplasm of lymph nodes**\n",
    "* **C78 - Secondary malignant neoplasm of respiratory and digestive organs**\n",
    "* **C79 - Secondary malignant neoplasm of other and unspecified sites**\n",
    "* **C80 - Malignant neoplasm without specification of site**\n",
    "* **D47.2 - Monoclonal gammopathy**\n",
    "* **D48 - Neoplasm of uncertain behavior of other and unspecified sites**\n",
    "* **D49 - Neoplasms of unspecified behavior** "
   ]
  },
  {
   "cell_type": "code",
   "execution_count": 437,
   "id": "a7626fde",
   "metadata": {},
   "outputs": [],
   "source": [
    "# Dataframe of ICD-10 neoplasm codes that exclude lung cancer, metastasis, or benign neoplasms.\n",
    "other_cancer_10 = (\n",
    "    cancer_10[~cancer_10['diagnosis_code'].str.match('C50|'\n",
    "                                                    'C44|'\n",
    "                                                    'C7[789]|'\n",
    "                                                    'C80|'\n",
    "                                                    'D4(72|[89])')]\n",
    ")"
   ]
  },
  {
   "cell_type": "code",
   "execution_count": 438,
   "id": "6f651ccc",
   "metadata": {},
   "outputs": [],
   "source": [
    "other_cancer_10.loc[:,'other_cancer_10'] = 1"
   ]
  },
  {
   "cell_type": "code",
   "execution_count": 439,
   "id": "597f1430",
   "metadata": {},
   "outputs": [],
   "source": [
    "# Drop duplicates.\n",
    "other_cancer_10 = (\n",
    "    other_cancer_10\n",
    "    .drop_duplicates(subset = 'PatientID', keep = 'first')\n",
    "    .filter(items = ['PatientID', 'other_cancer_10'])\n",
    ")"
   ]
  },
  {
   "cell_type": "code",
   "execution_count": 440,
   "id": "bf2c4183",
   "metadata": {},
   "outputs": [
    {
     "data": {
      "text/plain": [
       "(220, 220)"
      ]
     },
     "execution_count": 440,
     "metadata": {},
     "output_type": "execute_result"
    }
   ],
   "source": [
    "row_ID(other_cancer_10)"
   ]
  },
  {
   "cell_type": "code",
   "execution_count": 441,
   "id": "b1b209a9",
   "metadata": {},
   "outputs": [],
   "source": [
    "# Append missing training IDs.\n",
    "other_cancer_10 = (\n",
    "    other_cancer_10\n",
    "    .append(\n",
    "        pd.Series(test_IDs)[~pd.Series(test_IDs).isin(other_cancer_10['PatientID'])].to_frame(name = 'PatientID'), \n",
    "        sort = False)\n",
    "    .fillna(0)\n",
    ")"
   ]
  },
  {
   "cell_type": "code",
   "execution_count": 442,
   "id": "80434c0c",
   "metadata": {},
   "outputs": [
    {
     "data": {
      "text/plain": [
       "(6336, 6336)"
      ]
     },
     "execution_count": 442,
     "metadata": {},
     "output_type": "execute_result"
    }
   ],
   "source": [
    "row_ID(other_cancer_10)"
   ]
  },
  {
   "cell_type": "code",
   "execution_count": 443,
   "id": "d7ac2451",
   "metadata": {},
   "outputs": [],
   "source": [
    "other_cancer = pd.merge(other_cancer_9, other_cancer_10, on = 'PatientID')"
   ]
  },
  {
   "cell_type": "code",
   "execution_count": 444,
   "id": "666d9029",
   "metadata": {},
   "outputs": [],
   "source": [
    "# Combine other_cancer_9 and other_cancer_19; replace values equal to 2 with 1. \n",
    "other_cancer = (\n",
    "    other_cancer\n",
    "    .assign(other_cancer = other_cancer['other_cancer_9'] + other_cancer['other_cancer_10'])\n",
    "    .filter(items = ['PatientID', 'other_cancer'])\n",
    "    .replace(2, 1)\n",
    ")"
   ]
  },
  {
   "cell_type": "code",
   "execution_count": 445,
   "id": "2e206cc7",
   "metadata": {},
   "outputs": [
    {
     "data": {
      "text/plain": [
       "(6336, 6336)"
      ]
     },
     "execution_count": 445,
     "metadata": {},
     "output_type": "execute_result"
    }
   ],
   "source": [
    "row_ID(other_cancer)"
   ]
  },
  {
   "cell_type": "markdown",
   "id": "18d3d676",
   "metadata": {},
   "source": [
    "#### Sites of metastases"
   ]
  },
  {
   "cell_type": "code",
   "execution_count": 446,
   "id": "0dd2ab59",
   "metadata": {},
   "outputs": [],
   "source": [
    "mets = pd.read_csv('Enhanced_MetBreastSitesOfMet.csv')"
   ]
  },
  {
   "cell_type": "code",
   "execution_count": 447,
   "id": "2fcfe117",
   "metadata": {},
   "outputs": [],
   "source": [
    "mets = mets[mets['PatientID'].isin(test_IDs)]"
   ]
  },
  {
   "cell_type": "code",
   "execution_count": 448,
   "id": "0390ba47",
   "metadata": {},
   "outputs": [
    {
     "data": {
      "text/plain": [
       "(15986, 6306)"
      ]
     },
     "execution_count": 448,
     "metadata": {},
     "output_type": "execute_result"
    }
   ],
   "source": [
    "row_ID(mets)"
   ]
  },
  {
   "cell_type": "code",
   "execution_count": 449,
   "id": "3944f786",
   "metadata": {},
   "outputs": [],
   "source": [
    "mets = pd.merge(mets, enhanced_met[['PatientID', 'met_date']], on = 'PatientID', how = 'left')"
   ]
  },
  {
   "cell_type": "code",
   "execution_count": 450,
   "id": "eac80dd4",
   "metadata": {},
   "outputs": [],
   "source": [
    "mets.loc[:, 'DateOfMetastasis'] = pd.to_datetime(mets['DateOfMetastasis'])"
   ]
  },
  {
   "cell_type": "code",
   "execution_count": 451,
   "id": "a6ebdb45",
   "metadata": {},
   "outputs": [],
   "source": [
    "mets.loc[:, 'diagnosis_met_diff'] = (mets['DateOfMetastasis'] - mets['met_date']).dt.days"
   ]
  },
  {
   "cell_type": "code",
   "execution_count": 452,
   "id": "0559780c",
   "metadata": {},
   "outputs": [],
   "source": [
    "mets = mets.query('diagnosis_met_diff <= 30')"
   ]
  },
  {
   "cell_type": "markdown",
   "id": "0b5ea8cf",
   "metadata": {},
   "source": [
    "**The median number of mets at time of metastatic diagnosis is 1. The most common site is bone followed by lung, distant lymph node, and liver. Sites of metastasis will be simplified into the following groups:**\n",
    "\n",
    "* **1. Bone or bone marrow**\n",
    "* **2. Lung or pleura**\n",
    "* **3. Distant lymph node**\n",
    "* **4. Liver**\n",
    "* **5. Brain or CNS site**\n",
    "* **6. Skin or soft tissue**\n",
    "* **7. Peritoneum**\n",
    "* **8. Other: other, adrenal, ovary, spleen, pancreas, kidney, or thyroid**"
   ]
  },
  {
   "cell_type": "code",
   "execution_count": 453,
   "id": "036c9671",
   "metadata": {},
   "outputs": [],
   "source": [
    "# Recode mets\n",
    "conditions = [\n",
    "    (mets['SiteOfMetastasis'] == 'Bone') | \n",
    "    (mets['SiteOfMetastasis'] == 'Bone marrow'),\n",
    "    (mets['SiteOfMetastasis'] == 'Lung') | \n",
    "    (mets['SiteOfMetastasis'] == 'Pleura'),\n",
    "    (mets['SiteOfMetastasis'] == 'Distant lymph node'),\n",
    "    (mets['SiteOfMetastasis'] == 'Liver'),\n",
    "    (mets['SiteOfMetastasis'] == 'Brain') | \n",
    "    (mets['SiteOfMetastasis'] == 'CNS site'),\n",
    "    (mets['SiteOfMetastasis'] == 'Skin') | \n",
    "    (mets['SiteOfMetastasis'] == 'Soft tissue'),\n",
    "    (mets['SiteOfMetastasis'] == 'Peritoneum'),\n",
    "    (mets['SiteOfMetastasis'] == 'Other') | \n",
    "    (mets['SiteOfMetastasis'] == 'Adrenal') |\n",
    "    (mets['SiteOfMetastasis'] == 'Ovary') |\n",
    "    (mets['SiteOfMetastasis'] == 'Spleen') |\n",
    "    (mets['SiteOfMetastasis'] == 'Pancreas') |\n",
    "    (mets['SiteOfMetastasis'] == 'Kidney') |\n",
    "    (mets['SiteOfMetastasis'] == 'Thyroid')]\n",
    "\n",
    "choices = ['bone_met', 'thorax_met', 'lymph_met', 'liver_met', 'cns_met', 'skin_met', 'peritoneum_met', 'other_met']\n",
    "\n",
    "mets.loc[:, 'met_loc'] = np.select(conditions, choices)"
   ]
  },
  {
   "cell_type": "code",
   "execution_count": 454,
   "id": "3e8f9a10",
   "metadata": {},
   "outputs": [],
   "source": [
    "mets['bone_met'] = np.where(mets['met_loc'] == 'bone_met', 1, 0)"
   ]
  },
  {
   "cell_type": "code",
   "execution_count": 455,
   "id": "a3c87d22",
   "metadata": {},
   "outputs": [],
   "source": [
    "mets['thorax_met'] = np.where(mets['met_loc'] == 'thorax_met', 1, 0)"
   ]
  },
  {
   "cell_type": "code",
   "execution_count": 456,
   "id": "a80070ee",
   "metadata": {},
   "outputs": [],
   "source": [
    "mets['lymph_met'] = np.where(mets['met_loc'] == 'lymph_met', 1, 0)"
   ]
  },
  {
   "cell_type": "code",
   "execution_count": 457,
   "id": "50ca3281",
   "metadata": {},
   "outputs": [],
   "source": [
    "mets['liver_met'] = np.where(mets['met_loc'] == 'liver_met', 1, 0)"
   ]
  },
  {
   "cell_type": "code",
   "execution_count": 458,
   "id": "d0001554",
   "metadata": {},
   "outputs": [],
   "source": [
    "mets['cns_met'] = np.where(mets['met_loc'] == 'cns_met', 1, 0)"
   ]
  },
  {
   "cell_type": "code",
   "execution_count": 459,
   "id": "d9bfae4e",
   "metadata": {},
   "outputs": [],
   "source": [
    "mets['skin_met'] = np.where(mets['met_loc'] == 'skin_met', 1, 0)"
   ]
  },
  {
   "cell_type": "code",
   "execution_count": 460,
   "id": "408d3ed4",
   "metadata": {},
   "outputs": [],
   "source": [
    "mets['peritoneum_met'] = np.where(mets['met_loc'] == 'peritoneum_met', 1, 0)"
   ]
  },
  {
   "cell_type": "code",
   "execution_count": 461,
   "id": "e14a690f",
   "metadata": {},
   "outputs": [],
   "source": [
    "mets['other_met'] = np.where(mets['met_loc'] == 'other_met', 1, 0)"
   ]
  },
  {
   "cell_type": "code",
   "execution_count": 462,
   "id": "0ff42df4",
   "metadata": {},
   "outputs": [],
   "source": [
    "# Drop unnecessary columns and condense. \n",
    "mets_wide = (\n",
    "    mets\n",
    "    .drop(columns = ['DateOfMetastasis', 'SiteOfMetastasis', 'met_date', 'diagnosis_met_diff', 'met_loc'])\n",
    "    .groupby('PatientID').sum()\n",
    ")"
   ]
  },
  {
   "cell_type": "code",
   "execution_count": 463,
   "id": "5ac10a64",
   "metadata": {},
   "outputs": [],
   "source": [
    "# Set any value greater than 1 to 1; leave 0 unchanged. \n",
    "mets_wide = (\n",
    "    mets_wide\n",
    "    .mask(mets_wide > 1, 1)\n",
    "    .reset_index()\n",
    ")"
   ]
  },
  {
   "cell_type": "code",
   "execution_count": 464,
   "id": "3fa2f3ec",
   "metadata": {},
   "outputs": [
    {
     "data": {
      "text/plain": [
       "(6271, 6271)"
      ]
     },
     "execution_count": 464,
     "metadata": {},
     "output_type": "execute_result"
    }
   ],
   "source": [
    "row_ID(mets_wide)"
   ]
  },
  {
   "cell_type": "code",
   "execution_count": 465,
   "id": "9bfb244d",
   "metadata": {},
   "outputs": [],
   "source": [
    "# Append missing training IDs.\n",
    "mets_wide = (\n",
    "    mets_wide\n",
    "    .append(\n",
    "        pd.Series(test_IDs)[~pd.Series(test_IDs).isin(mets_wide['PatientID'])].to_frame(name = 'PatientID'),\n",
    "        sort = False)\n",
    ")"
   ]
  },
  {
   "cell_type": "code",
   "execution_count": 466,
   "id": "bbaa3f56",
   "metadata": {},
   "outputs": [
    {
     "data": {
      "text/plain": [
       "(6336, 6336)"
      ]
     },
     "execution_count": 466,
     "metadata": {},
     "output_type": "execute_result"
    }
   ],
   "source": [
    "row_ID(mets_wide)"
   ]
  },
  {
   "cell_type": "code",
   "execution_count": 467,
   "id": "3a89b917",
   "metadata": {},
   "outputs": [],
   "source": [
    "mets_wide = mets_wide.fillna(0)"
   ]
  },
  {
   "cell_type": "code",
   "execution_count": 468,
   "id": "5e84acd6",
   "metadata": {},
   "outputs": [
    {
     "data": {
      "text/html": [
       "<div>\n",
       "<style scoped>\n",
       "    .dataframe tbody tr th:only-of-type {\n",
       "        vertical-align: middle;\n",
       "    }\n",
       "\n",
       "    .dataframe tbody tr th {\n",
       "        vertical-align: top;\n",
       "    }\n",
       "\n",
       "    .dataframe thead th {\n",
       "        text-align: right;\n",
       "    }\n",
       "</style>\n",
       "<table border=\"1\" class=\"dataframe\">\n",
       "  <thead>\n",
       "    <tr style=\"text-align: right;\">\n",
       "      <th></th>\n",
       "      <th>PatientID</th>\n",
       "      <th>bone_met</th>\n",
       "      <th>thorax_met</th>\n",
       "      <th>lymph_met</th>\n",
       "      <th>liver_met</th>\n",
       "      <th>cns_met</th>\n",
       "      <th>skin_met</th>\n",
       "      <th>peritoneum_met</th>\n",
       "      <th>other_met</th>\n",
       "    </tr>\n",
       "  </thead>\n",
       "  <tbody>\n",
       "    <tr>\n",
       "      <th>5850</th>\n",
       "      <td>FEDC317D8B985</td>\n",
       "      <td>0.0</td>\n",
       "      <td>0.0</td>\n",
       "      <td>0.0</td>\n",
       "      <td>0.0</td>\n",
       "      <td>0.0</td>\n",
       "      <td>1.0</td>\n",
       "      <td>0.0</td>\n",
       "      <td>0.0</td>\n",
       "    </tr>\n",
       "    <tr>\n",
       "      <th>4935</th>\n",
       "      <td>FC8BA185D18CF</td>\n",
       "      <td>0.0</td>\n",
       "      <td>0.0</td>\n",
       "      <td>0.0</td>\n",
       "      <td>0.0</td>\n",
       "      <td>1.0</td>\n",
       "      <td>0.0</td>\n",
       "      <td>0.0</td>\n",
       "      <td>0.0</td>\n",
       "    </tr>\n",
       "    <tr>\n",
       "      <th>3018</th>\n",
       "      <td>F79CD37FB1C3E</td>\n",
       "      <td>0.0</td>\n",
       "      <td>1.0</td>\n",
       "      <td>1.0</td>\n",
       "      <td>0.0</td>\n",
       "      <td>1.0</td>\n",
       "      <td>0.0</td>\n",
       "      <td>0.0</td>\n",
       "      <td>0.0</td>\n",
       "    </tr>\n",
       "    <tr>\n",
       "      <th>3564</th>\n",
       "      <td>F922D83A2C4AE</td>\n",
       "      <td>1.0</td>\n",
       "      <td>0.0</td>\n",
       "      <td>0.0</td>\n",
       "      <td>0.0</td>\n",
       "      <td>0.0</td>\n",
       "      <td>0.0</td>\n",
       "      <td>1.0</td>\n",
       "      <td>1.0</td>\n",
       "    </tr>\n",
       "    <tr>\n",
       "      <th>4758</th>\n",
       "      <td>FC1423C2D5F50</td>\n",
       "      <td>1.0</td>\n",
       "      <td>0.0</td>\n",
       "      <td>0.0</td>\n",
       "      <td>0.0</td>\n",
       "      <td>0.0</td>\n",
       "      <td>0.0</td>\n",
       "      <td>0.0</td>\n",
       "      <td>0.0</td>\n",
       "    </tr>\n",
       "  </tbody>\n",
       "</table>\n",
       "</div>"
      ],
      "text/plain": [
       "          PatientID  bone_met  thorax_met  lymph_met  liver_met  cns_met  \\\n",
       "5850  FEDC317D8B985       0.0         0.0        0.0        0.0      0.0   \n",
       "4935  FC8BA185D18CF       0.0         0.0        0.0        0.0      1.0   \n",
       "3018  F79CD37FB1C3E       0.0         1.0        1.0        0.0      1.0   \n",
       "3564  F922D83A2C4AE       1.0         0.0        0.0        0.0      0.0   \n",
       "4758  FC1423C2D5F50       1.0         0.0        0.0        0.0      0.0   \n",
       "\n",
       "      skin_met  peritoneum_met  other_met  \n",
       "5850       1.0             0.0        0.0  \n",
       "4935       0.0             0.0        0.0  \n",
       "3018       0.0             0.0        0.0  \n",
       "3564       0.0             1.0        1.0  \n",
       "4758       0.0             0.0        0.0  "
      ]
     },
     "execution_count": 468,
     "metadata": {},
     "output_type": "execute_result"
    }
   ],
   "source": [
    "mets_wide.sample(5)"
   ]
  },
  {
   "cell_type": "code",
   "execution_count": 469,
   "id": "82c950f7",
   "metadata": {},
   "outputs": [
    {
     "data": {
      "text/plain": [
       "bone_met          0.628157\n",
       "thorax_met        0.332544\n",
       "lymph_met         0.274937\n",
       "liver_met         0.226799\n",
       "cns_met           0.079703\n",
       "other_met         0.066446\n",
       "skin_met          0.062658\n",
       "peritoneum_met    0.024463\n",
       "dtype: float64"
      ]
     },
     "execution_count": 469,
     "metadata": {},
     "output_type": "execute_result"
    }
   ],
   "source": [
    "# Percentage breakdown of insurance by type at time of advanced diagnosis.\n",
    "(mets_wide.iloc[:, 1:9].sum()/mets_wide.shape[0]).sort_values(ascending = False)"
   ]
  },
  {
   "cell_type": "markdown",
   "id": "04cc2edc",
   "metadata": {},
   "source": [
    "#### Merge"
   ]
  },
  {
   "cell_type": "code",
   "execution_count": 470,
   "id": "64880f11",
   "metadata": {},
   "outputs": [],
   "source": [
    "diagnosis_wide = pd.merge(diagnosis_elixhauser, other_cancer, on = 'PatientID')"
   ]
  },
  {
   "cell_type": "code",
   "execution_count": 471,
   "id": "a92ec4ff",
   "metadata": {},
   "outputs": [],
   "source": [
    "diagnosis_wide = pd.merge(diagnosis_wide, mets_wide, on = 'PatientID')"
   ]
  },
  {
   "cell_type": "code",
   "execution_count": 472,
   "id": "17cc4b99",
   "metadata": {},
   "outputs": [
    {
     "data": {
      "text/plain": [
       "(6336, 6336)"
      ]
     },
     "execution_count": 472,
     "metadata": {},
     "output_type": "execute_result"
    }
   ],
   "source": [
    "row_ID(diagnosis_wide)"
   ]
  },
  {
   "cell_type": "code",
   "execution_count": 473,
   "id": "35789e60",
   "metadata": {},
   "outputs": [
    {
     "data": {
      "text/plain": [
       "['PatientID',\n",
       " 'chf',\n",
       " 'cardiac_arrhythmias',\n",
       " 'valvular_disease',\n",
       " 'pulmonary_circulation',\n",
       " 'peripheral_vascular',\n",
       " 'htn_uncomplicated',\n",
       " 'htn_complicated',\n",
       " 'paralysis',\n",
       " 'other_neuro_disorders',\n",
       " 'chronic_pulmonary',\n",
       " 'diabetes_uncomplicated',\n",
       " 'diabetes_complicated',\n",
       " 'hypothyroidism',\n",
       " 'renal_failure',\n",
       " 'liver_disease',\n",
       " 'peptic_ulcer_disease',\n",
       " 'aids_hiv',\n",
       " 'lymphoma',\n",
       " 'metastatic_cancer',\n",
       " 'solid_tumor_wout_mets',\n",
       " 'rheumatoid_arthritis',\n",
       " 'coagulopathy',\n",
       " 'obesity',\n",
       " 'weight_loss',\n",
       " 'fluid_electrolyte',\n",
       " 'blood_loss_anemia',\n",
       " 'deficiency_anemia',\n",
       " 'alcohol_abuse',\n",
       " 'drug_abuse',\n",
       " 'psychoses',\n",
       " 'depression',\n",
       " 'elixhauser_other',\n",
       " 'icd_count',\n",
       " 'other_cancer',\n",
       " 'bone_met',\n",
       " 'thorax_met',\n",
       " 'lymph_met',\n",
       " 'liver_met',\n",
       " 'cns_met',\n",
       " 'skin_met',\n",
       " 'peritoneum_met',\n",
       " 'other_met']"
      ]
     },
     "execution_count": 473,
     "metadata": {},
     "output_type": "execute_result"
    }
   ],
   "source": [
    "list(diagnosis_wide.columns)"
   ]
  },
  {
   "cell_type": "code",
   "execution_count": 474,
   "id": "b71befcb",
   "metadata": {},
   "outputs": [
    {
     "name": "stdout",
     "output_type": "stream",
     "text": [
      "Variable                 Type         Data/Info\n",
      "-----------------------------------------------\n",
      "biomarker_notpdl1_wide   DataFrame              PatientID      <...>\\n[6336 rows x 6 columns]\n",
      "biomarker_wide           DataFrame              PatientID      <...>\\n[6336 rows x 7 columns]\n",
      "cancer_10                DataFrame                PatientID Dia<...>\\n[7052 rows x 3 columns]\n",
      "cancer_9                 DataFrame                PatientID Dia<...>\\n[5165 rows x 3 columns]\n",
      "demographics             DataFrame              PatientID gende<...>\\n[6336 rows x 7 columns]\n",
      "diagnosis                DataFrame                PatientID    <...>[322910 rows x 9 columns]\n",
      "diagnosis_elix_10        DataFrame                PatientID Dia<...>[34495 rows x 35 columns]\n",
      "diagnosis_elix_10_wide   DataFrame              PatientID  chf <...>n[3567 rows x 33 columns]\n",
      "diagnosis_elix_9         DataFrame                PatientID Dia<...>[22691 rows x 35 columns]\n",
      "diagnosis_elix_9_wide    DataFrame              PatientID  chf <...>n[3510 rows x 33 columns]\n",
      "diagnosis_elixhauser     DataFrame              PatientID  chf <...>n[6336 rows x 34 columns]\n",
      "diagnosis_wide           DataFrame              PatientID  chf <...>n[6336 rows x 43 columns]\n",
      "ecog_diagnosis_wide      DataFrame               PatientID ecog<...>\\n[6336 rows x 2 columns]\n",
      "enhanced_met             DataFrame               PatientID diag<...>\\n[6336 rows x 6 columns]\n",
      "insurance_wide           DataFrame              PatientID  medi<...>\\n[6336 rows x 9 columns]\n",
      "lab_wide                 DataFrame              PatientID  albu<...>[6336 rows x 129 columns]\n",
      "med_admin_wide           DataFrame              PatientID  ster<...>n[6336 rows x 14 columns]\n",
      "mets                     DataFrame               PatientID Date<...>[11212 rows x 14 columns]\n",
      "mets_max                 DataFrame              PatientID   met<...>\\n[6306 rows x 2 columns]\n",
      "mets_wide                DataFrame              PatientID  bone<...>\\n[6336 rows x 9 columns]\n",
      "mortality                DataFrame              PatientID  deat<...>\\n[6336 rows x 3 columns]\n",
      "other_cancer             DataFrame              PatientID  othe<...>\\n[6336 rows x 2 columns]\n",
      "other_cancer_10          DataFrame              PatientID  othe<...>\\n[6336 rows x 2 columns]\n",
      "other_cancer_9           DataFrame              PatientID  othe<...>\\n[6336 rows x 2 columns]\n",
      "progression              DataFrame               PatientID Prog<...>[13013 rows x 10 columns]\n",
      "progression_max          DataFrame              PatientID progr<...>\\n[5525 rows x 2 columns]\n",
      "weight_wide              DataFrame              PatientID  weig<...>\\n[6336 rows x 7 columns]\n"
     ]
    }
   ],
   "source": [
    "%whos DataFrame"
   ]
  },
  {
   "cell_type": "code",
   "execution_count": 475,
   "id": "2b39b0e8",
   "metadata": {},
   "outputs": [],
   "source": [
    "# Keep biomarker_wide, demographics, diagnosis_wide, ecog_diagnosis_wide, enhanced_met, insurance_wide, \n",
    "# lab_wide, med_admin_wide, mortality, and weight_wide\n",
    "del cancer_10\n",
    "del cancer_9\n",
    "del diagnosis\n",
    "del diagnosis_elix_10\n",
    "del diagnosis_elix_10_wide\n",
    "del diagnosis_elix_9\n",
    "del diagnosis_elix_9_wide\n",
    "del diagnosis_elixhauser\n",
    "del mets\n",
    "del mets_wide\n",
    "del other_cancer\n",
    "del other_cancer_10\n",
    "del other_cancer_9"
   ]
  },
  {
   "cell_type": "markdown",
   "id": "e5772cc5",
   "metadata": {},
   "source": [
    "### 11. SocialDeterminantsOfHealth"
   ]
  },
  {
   "cell_type": "code",
   "execution_count": 476,
   "id": "146f046f",
   "metadata": {},
   "outputs": [],
   "source": [
    "sdoh = pd.read_csv('SocialDeterminantsOfHealth.csv')"
   ]
  },
  {
   "cell_type": "code",
   "execution_count": 477,
   "id": "5e2099d0",
   "metadata": {},
   "outputs": [],
   "source": [
    "sdoh = sdoh[sdoh['PatientID'].isin(test_IDs)]"
   ]
  },
  {
   "cell_type": "code",
   "execution_count": 478,
   "id": "4c1a18c2",
   "metadata": {},
   "outputs": [
    {
     "data": {
      "text/plain": [
       "(5293, 5293)"
      ]
     },
     "execution_count": 478,
     "metadata": {},
     "output_type": "execute_result"
    }
   ],
   "source": [
    "row_ID(sdoh)"
   ]
  },
  {
   "cell_type": "code",
   "execution_count": 479,
   "id": "4a33ddfa",
   "metadata": {},
   "outputs": [],
   "source": [
    "conditions = [\n",
    "    (sdoh['SESIndex2015_2019'] == '5 - Highest SES'),\n",
    "    (sdoh['SESIndex2015_2019'] == '1 - Lowest SES')]    \n",
    "\n",
    "choices = ['5', '1']\n",
    "    \n",
    "sdoh.loc[:, 'ses'] = np.select(conditions, choices, default = sdoh['SESIndex2015_2019'])"
   ]
  },
  {
   "cell_type": "code",
   "execution_count": 480,
   "id": "5380a732",
   "metadata": {},
   "outputs": [],
   "source": [
    "sdoh = sdoh.drop(columns = ['PracticeID', 'SESIndex2015_2019'])"
   ]
  },
  {
   "cell_type": "code",
   "execution_count": 481,
   "id": "6912502c",
   "metadata": {},
   "outputs": [],
   "source": [
    "sdoh_wide = (\n",
    "    sdoh\n",
    "    .append(\n",
    "        pd.Series(test_IDs)[~pd.Series(test_IDs).isin(sdoh['PatientID'])].to_frame(name = 'PatientID'),\n",
    "        sort = False)\n",
    ")"
   ]
  },
  {
   "cell_type": "code",
   "execution_count": 482,
   "id": "6e1d2286",
   "metadata": {},
   "outputs": [
    {
     "data": {
      "text/plain": [
       "(6336, 6336)"
      ]
     },
     "execution_count": 482,
     "metadata": {},
     "output_type": "execute_result"
    }
   ],
   "source": [
    "row_ID(sdoh_wide)"
   ]
  },
  {
   "cell_type": "code",
   "execution_count": 483,
   "id": "e2603029",
   "metadata": {},
   "outputs": [
    {
     "data": {
      "text/plain": [
       "NaN    0.261048\n",
       "4      0.157197\n",
       "3      0.155619\n",
       "2      0.143782\n",
       "5      0.142992\n",
       "1      0.139362\n",
       "Name: ses, dtype: float64"
      ]
     },
     "execution_count": 483,
     "metadata": {},
     "output_type": "execute_result"
    }
   ],
   "source": [
    "sdoh_wide.ses.value_counts(dropna = False, normalize = True)"
   ]
  },
  {
   "cell_type": "code",
   "execution_count": 484,
   "id": "76b47ff6",
   "metadata": {
    "scrolled": true
   },
   "outputs": [
    {
     "name": "stdout",
     "output_type": "stream",
     "text": [
      "Variable                 Type         Data/Info\n",
      "-----------------------------------------------\n",
      "biomarker_notpdl1_wide   DataFrame              PatientID      <...>\\n[6336 rows x 6 columns]\n",
      "biomarker_wide           DataFrame              PatientID      <...>\\n[6336 rows x 7 columns]\n",
      "demographics             DataFrame              PatientID gende<...>\\n[6336 rows x 7 columns]\n",
      "diagnosis_wide           DataFrame              PatientID  chf <...>n[6336 rows x 43 columns]\n",
      "ecog_diagnosis_wide      DataFrame               PatientID ecog<...>\\n[6336 rows x 2 columns]\n",
      "enhanced_met             DataFrame               PatientID diag<...>\\n[6336 rows x 6 columns]\n",
      "insurance_wide           DataFrame              PatientID  medi<...>\\n[6336 rows x 9 columns]\n",
      "lab_wide                 DataFrame              PatientID  albu<...>[6336 rows x 129 columns]\n",
      "med_admin_wide           DataFrame              PatientID  ster<...>n[6336 rows x 14 columns]\n",
      "mets_max                 DataFrame              PatientID   met<...>\\n[6306 rows x 2 columns]\n",
      "mortality                DataFrame              PatientID  deat<...>\\n[6336 rows x 3 columns]\n",
      "progression              DataFrame               PatientID Prog<...>[13013 rows x 10 columns]\n",
      "progression_max          DataFrame              PatientID progr<...>\\n[5525 rows x 2 columns]\n",
      "sdoh                     DataFrame               PatientID  ses<...>\\n[5293 rows x 2 columns]\n",
      "sdoh_wide                DataFrame              PatientID  ses\\<...>\\n[6336 rows x 2 columns]\n",
      "weight_wide              DataFrame              PatientID  weig<...>\\n[6336 rows x 7 columns]\n"
     ]
    }
   ],
   "source": [
    "%whos DataFrame"
   ]
  },
  {
   "cell_type": "code",
   "execution_count": 485,
   "id": "d8c30071",
   "metadata": {},
   "outputs": [],
   "source": [
    "# Keep biomarker_wide, demographics, ecog_diagnosis_wide, enhanced_met, mortality, \n",
    "# lab_wide, sdoh_wide, and weight wide\n",
    "del sdoh"
   ]
  },
  {
   "cell_type": "markdown",
   "id": "3011da8f",
   "metadata": {},
   "source": [
    "## Part 3: File merge"
   ]
  },
  {
   "cell_type": "code",
   "execution_count": 486,
   "id": "e825da91",
   "metadata": {},
   "outputs": [],
   "source": [
    "enhanced_met = enhanced_met.drop(columns = ['diagnosis_date', 'met_date'])"
   ]
  },
  {
   "cell_type": "code",
   "execution_count": 487,
   "id": "96062d57",
   "metadata": {},
   "outputs": [],
   "source": [
    "test_full = pd.merge(demographics, enhanced_met, on = 'PatientID')"
   ]
  },
  {
   "cell_type": "code",
   "execution_count": 488,
   "id": "3f5e19b9",
   "metadata": {},
   "outputs": [],
   "source": [
    "test_full = pd.merge(test_full, mortality, on = 'PatientID')"
   ]
  },
  {
   "cell_type": "code",
   "execution_count": 489,
   "id": "fb2ec237",
   "metadata": {},
   "outputs": [],
   "source": [
    "test_full = pd.merge(test_full, med_admin_wide, on = 'PatientID')"
   ]
  },
  {
   "cell_type": "code",
   "execution_count": 490,
   "id": "429e090a",
   "metadata": {},
   "outputs": [],
   "source": [
    "test_full = pd.merge(test_full, biomarker_wide, on = 'PatientID')"
   ]
  },
  {
   "cell_type": "code",
   "execution_count": 491,
   "id": "da9dfc6f",
   "metadata": {},
   "outputs": [],
   "source": [
    "test_full = pd.merge(test_full, insurance_wide, on = 'PatientID')"
   ]
  },
  {
   "cell_type": "code",
   "execution_count": 492,
   "id": "131c9bc9",
   "metadata": {},
   "outputs": [],
   "source": [
    "test_full = pd.merge(test_full, ecog_diagnosis_wide, on = 'PatientID')"
   ]
  },
  {
   "cell_type": "code",
   "execution_count": 493,
   "id": "aabf5d54",
   "metadata": {},
   "outputs": [],
   "source": [
    "test_full = pd.merge(test_full, weight_wide, on = 'PatientID')"
   ]
  },
  {
   "cell_type": "code",
   "execution_count": 494,
   "id": "683cea2b",
   "metadata": {},
   "outputs": [],
   "source": [
    "test_full = pd.merge(test_full, lab_wide, on = 'PatientID')"
   ]
  },
  {
   "cell_type": "code",
   "execution_count": 495,
   "id": "b7fcbbee",
   "metadata": {},
   "outputs": [],
   "source": [
    "test_full = pd.merge(test_full, diagnosis_wide, on = 'PatientID')"
   ]
  },
  {
   "cell_type": "code",
   "execution_count": 496,
   "id": "296a07fc",
   "metadata": {},
   "outputs": [],
   "source": [
    "test_full = pd.merge(test_full, sdoh_wide, on = 'PatientID')"
   ]
  },
  {
   "cell_type": "code",
   "execution_count": 497,
   "id": "e7df4c4c",
   "metadata": {},
   "outputs": [
    {
     "data": {
      "text/plain": [
       "(6336, 6336)"
      ]
     },
     "execution_count": 497,
     "metadata": {},
     "output_type": "execute_result"
    }
   ],
   "source": [
    "row_ID(test_full)"
   ]
  },
  {
   "cell_type": "code",
   "execution_count": 498,
   "id": "00276537",
   "metadata": {},
   "outputs": [
    {
     "data": {
      "text/plain": [
       "217"
      ]
     },
     "execution_count": 498,
     "metadata": {},
     "output_type": "execute_result"
    }
   ],
   "source": [
    "len(test_full.columns)"
   ]
  },
  {
   "cell_type": "code",
   "execution_count": 499,
   "id": "1609ec77",
   "metadata": {
    "scrolled": false
   },
   "outputs": [
    {
     "data": {
      "text/plain": [
       "['PatientID',\n",
       " 'gender',\n",
       " 'race',\n",
       " 'ethnicity',\n",
       " 'age',\n",
       " 'p_type',\n",
       " 'region',\n",
       " 'stage',\n",
       " 'met_year',\n",
       " 'delta_met_diagnosis',\n",
       " 'death_status',\n",
       " 'timerisk_activity',\n",
       " 'steroid_diag',\n",
       " 'opioid_PO_diag',\n",
       " 'nonopioid_PO_diag',\n",
       " 'pain_IV_diag',\n",
       " 'ac_diag',\n",
       " 'antiinfective_IV_diag',\n",
       " 'antiinfective_diag',\n",
       " 'antihyperglycemic_diag',\n",
       " 'ppi_diag',\n",
       " 'antidepressant_diag',\n",
       " 'bta_diag',\n",
       " 'thyroid_diag',\n",
       " 'is_diag',\n",
       " 'ER',\n",
       " 'HER2',\n",
       " 'PR',\n",
       " 'BRCA',\n",
       " 'PIK3CA',\n",
       " 'pdl1_n',\n",
       " 'medicare',\n",
       " 'medicaid',\n",
       " 'medicare_medicaid',\n",
       " 'commercial',\n",
       " 'patient_assistance',\n",
       " 'other_govt',\n",
       " 'self_pay',\n",
       " 'other',\n",
       " 'ecog_diagnosis',\n",
       " 'weight_diag',\n",
       " 'bmi_diag',\n",
       " 'bmi_diag_na',\n",
       " 'weight_pct_change',\n",
       " 'weight_pct_na',\n",
       " 'weight_slope',\n",
       " 'albumin_diag',\n",
       " 'alp_diag',\n",
       " 'alt_diag',\n",
       " 'ast_diag',\n",
       " 'bicarb_diag',\n",
       " 'bun_diag',\n",
       " 'calcium_diag',\n",
       " 'chloride_diag',\n",
       " 'creatinine_diag',\n",
       " 'hemoglobin_diag',\n",
       " 'neutrophil_count_diag',\n",
       " 'platelet_diag',\n",
       " 'potassium_diag',\n",
       " 'sodium_diag',\n",
       " 'total_bilirubin_diag',\n",
       " 'wbc_diag',\n",
       " 'albumin_diag_na',\n",
       " 'alp_diag_na',\n",
       " 'alt_diag_na',\n",
       " 'ast_diag_na',\n",
       " 'bicarb_diag_na',\n",
       " 'bun_diag_na',\n",
       " 'calcium_diag_na',\n",
       " 'chloride_diag_na',\n",
       " 'creatinine_diag_na',\n",
       " 'hemoglobin_diag_na',\n",
       " 'neutrophil_count_diag_na',\n",
       " 'platelet_diag_na',\n",
       " 'potassium_diag_na',\n",
       " 'sodium_diag_na',\n",
       " 'total_bilirubin_diag_na',\n",
       " 'wbc_diag_na',\n",
       " 'albumin_avg',\n",
       " 'alp_avg',\n",
       " 'alt_avg',\n",
       " 'ast_avg',\n",
       " 'bicarb_avg',\n",
       " 'bun_avg',\n",
       " 'calcium_avg',\n",
       " 'chloride_avg',\n",
       " 'creatinine_avg',\n",
       " 'hemoglobin_avg',\n",
       " 'neutrophil_count_avg',\n",
       " 'platelet_avg',\n",
       " 'potassium_avg',\n",
       " 'sodium_avg',\n",
       " 'total_bilirubin_avg',\n",
       " 'wbc_avg',\n",
       " 'albumin_max',\n",
       " 'alp_max',\n",
       " 'alt_max',\n",
       " 'ast_max',\n",
       " 'bicarb_max',\n",
       " 'bun_max',\n",
       " 'calcium_max',\n",
       " 'chloride_max',\n",
       " 'creatinine_max',\n",
       " 'hemoglobin_max',\n",
       " 'neutrophil_count_max',\n",
       " 'platelet_max',\n",
       " 'potassium_max',\n",
       " 'sodium_max',\n",
       " 'total_bilirubin_max',\n",
       " 'wbc_max',\n",
       " 'albumin_min',\n",
       " 'alp_min',\n",
       " 'alt_min',\n",
       " 'ast_min',\n",
       " 'bicarb_min',\n",
       " 'bun_min',\n",
       " 'calcium_min',\n",
       " 'chloride_min',\n",
       " 'creatinine_min',\n",
       " 'hemoglobin_min',\n",
       " 'neutrophil_count_min',\n",
       " 'platelet_min',\n",
       " 'potassium_min',\n",
       " 'sodium_min',\n",
       " 'total_bilirubin_min',\n",
       " 'wbc_min',\n",
       " 'albumin_std',\n",
       " 'alp_std',\n",
       " 'alt_std',\n",
       " 'ast_std',\n",
       " 'bicarb_std',\n",
       " 'bun_std',\n",
       " 'calcium_std',\n",
       " 'chloride_std',\n",
       " 'creatinine_std',\n",
       " 'hemoglobin_std',\n",
       " 'neutrophil_count_std',\n",
       " 'platelet_std',\n",
       " 'potassium_std',\n",
       " 'sodium_std',\n",
       " 'total_bilirubin_std',\n",
       " 'wbc_std',\n",
       " 'albumin_slope',\n",
       " 'alp_slope',\n",
       " 'alt_slope',\n",
       " 'ast_slope',\n",
       " 'bicarb_slope',\n",
       " 'bun_slope',\n",
       " 'calcium_slope',\n",
       " 'chloride_slope',\n",
       " 'creatinine_slope',\n",
       " 'hemoglobin_slope',\n",
       " 'neutrophil_count_slope',\n",
       " 'platelet_slope',\n",
       " 'potassium_slope',\n",
       " 'sodium_slope',\n",
       " 'total_bilirubin_slope',\n",
       " 'wbc_slope',\n",
       " 'albumin_slope_na',\n",
       " 'alp_slope_na',\n",
       " 'alt_slope_na',\n",
       " 'ast_slope_na',\n",
       " 'bicarb_slope_na',\n",
       " 'bun_slope_na',\n",
       " 'calcium_slope_na',\n",
       " 'chloride_slope_na',\n",
       " 'creatinine_slope_na',\n",
       " 'hemoglobin_slope_na',\n",
       " 'neutrophil_count_slope_na',\n",
       " 'platelet_slope_na',\n",
       " 'potassium_slope_na',\n",
       " 'sodium_slope_na',\n",
       " 'total_bilirubin_slope_na',\n",
       " 'wbc_slope_na',\n",
       " 'chf',\n",
       " 'cardiac_arrhythmias',\n",
       " 'valvular_disease',\n",
       " 'pulmonary_circulation',\n",
       " 'peripheral_vascular',\n",
       " 'htn_uncomplicated',\n",
       " 'htn_complicated',\n",
       " 'paralysis',\n",
       " 'other_neuro_disorders',\n",
       " 'chronic_pulmonary',\n",
       " 'diabetes_uncomplicated',\n",
       " 'diabetes_complicated',\n",
       " 'hypothyroidism',\n",
       " 'renal_failure',\n",
       " 'liver_disease',\n",
       " 'peptic_ulcer_disease',\n",
       " 'aids_hiv',\n",
       " 'lymphoma',\n",
       " 'metastatic_cancer',\n",
       " 'solid_tumor_wout_mets',\n",
       " 'rheumatoid_arthritis',\n",
       " 'coagulopathy',\n",
       " 'obesity',\n",
       " 'weight_loss',\n",
       " 'fluid_electrolyte',\n",
       " 'blood_loss_anemia',\n",
       " 'deficiency_anemia',\n",
       " 'alcohol_abuse',\n",
       " 'drug_abuse',\n",
       " 'psychoses',\n",
       " 'depression',\n",
       " 'elixhauser_other',\n",
       " 'icd_count',\n",
       " 'other_cancer',\n",
       " 'bone_met',\n",
       " 'thorax_met',\n",
       " 'lymph_met',\n",
       " 'liver_met',\n",
       " 'cns_met',\n",
       " 'skin_met',\n",
       " 'peritoneum_met',\n",
       " 'other_met',\n",
       " 'ses']"
      ]
     },
     "execution_count": 499,
     "metadata": {},
     "output_type": "execute_result"
    }
   ],
   "source": [
    "list(test_full.columns)"
   ]
  },
  {
   "cell_type": "code",
   "execution_count": 500,
   "id": "7788d9a1",
   "metadata": {},
   "outputs": [],
   "source": [
    "test_full.to_csv('test_full.csv', index = False, header = True)"
   ]
  }
 ],
 "metadata": {
  "kernelspec": {
   "display_name": "My Virtual Environment",
   "language": "python",
   "name": "myenv"
  },
  "language_info": {
   "codemirror_mode": {
    "name": "ipython",
    "version": 3
   },
   "file_extension": ".py",
   "mimetype": "text/x-python",
   "name": "python",
   "nbconvert_exporter": "python",
   "pygments_lexer": "ipython3",
   "version": "3.7.10"
  }
 },
 "nbformat": 4,
 "nbformat_minor": 5
}
