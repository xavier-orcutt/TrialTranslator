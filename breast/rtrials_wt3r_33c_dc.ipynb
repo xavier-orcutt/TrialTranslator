{
 "cells": [
  {
   "cell_type": "markdown",
   "id": "ea206468",
   "metadata": {},
   "source": [
    "# Flatiron Health mBC: Relaxed trials with GBM crude + dose correction \n",
    "\n",
    "***OBJECTIVE:*** **Reproduce CLEOPATRA trial while ensuring patients receiving chemotherapy are getting an  appropriate first dose. Inclusion criteria for these trials will be pragmatically relaxed to allow for entry of our real-world patients, many of which would not meet inclusion criteria in randomized controlled trials. Patients included in our trials will next be risk stratified using the gradient boosted model with crude imputation into 1 of 3 risk groups: high (top tertile), medium (middle tertile), and low (bottom tertile). Inverse-probability treatment weighted survival analysis will then be performed across these risk groups to get real-world estimates of survival while adjusting for measured confounders.** \n",
    "\n",
    "***OUTLINE:***\n",
    "1. **Preprocessing**\n",
    "\n",
    "2. **In-silico trials:**\n",
    "* CLEOPATRA"
   ]
  },
  {
   "cell_type": "markdown",
   "id": "99713707",
   "metadata": {},
   "source": [
    "## Part 1: Preprocessing"
   ]
  },
  {
   "cell_type": "markdown",
   "id": "65a5b227",
   "metadata": {},
   "source": [
    "### 1.1 Import packages and create necessary functions"
   ]
  },
  {
   "cell_type": "code",
   "execution_count": 1,
   "id": "323dd0f5",
   "metadata": {},
   "outputs": [],
   "source": [
    "import numpy as np\n",
    "import pandas as pd\n",
    "\n",
    "from scipy import stats\n",
    "\n",
    "from sksurv.nonparametric import kaplan_meier_estimator\n",
    "from survive import KaplanMeier, SurvivalData\n",
    "\n",
    "from lifelines import KaplanMeierFitter\n",
    "from lifelines.plotting import add_at_risk_counts\n",
    "from lifelines.utils import median_survival_times\n",
    "\n",
    "import matplotlib.pyplot as plt\n",
    "import matplotlib.gridspec as gridspec\n",
    "\n",
    "from sklearn.pipeline import Pipeline\n",
    "from sklearn.impute import SimpleImputer\n",
    "from sklearn.preprocessing import StandardScaler, OneHotEncoder\n",
    "from sklearn.compose import ColumnTransformer \n",
    "from sklearn.linear_model import LogisticRegression\n",
    "\n",
    "from matplotlib.lines import Line2D   "
   ]
  },
  {
   "cell_type": "code",
   "execution_count": 2,
   "id": "4dd68dae",
   "metadata": {},
   "outputs": [],
   "source": [
    "# Function that returns number of rows and count of unique PatientIDs for a dataframe. \n",
    "def row_ID(dataframe):\n",
    "    row = dataframe.shape[0]\n",
    "    ID = dataframe['PatientID'].nunique()\n",
    "    return row, ID"
   ]
  },
  {
   "cell_type": "markdown",
   "id": "e81e88b6",
   "metadata": {},
   "source": [
    "## Part 2: In silico trials "
   ]
  },
  {
   "cell_type": "markdown",
   "id": "286cb789",
   "metadata": {},
   "source": [
    "### CLEOPATRA: pertuzumab, trastuzumab, and docetaxel in HER2-positive metastatic breast cancer\n",
    "\n",
    "**INCLUSION**\n",
    "* Untreated metastatic breast cancer\n",
    "* Received first line pertuzumab, trastuzumab, and docetaxel/paclitaxel or first line trastuzumab + docetaxel/paclitaxel \n",
    "* First line of hormonal treatment is allowed\n",
    "* HER-2 positive within (+30, -inf) of receipt of treatment "
   ]
  },
  {
   "cell_type": "markdown",
   "id": "f4faa63c",
   "metadata": {},
   "source": [
    "#### First line trastuzumab + docetaxel/paclitaxel +/- pertuzumab "
   ]
  },
  {
   "cell_type": "code",
   "execution_count": 3,
   "id": "8a075431",
   "metadata": {
    "scrolled": true
   },
   "outputs": [
    {
     "data": {
      "text/plain": [
       "31677"
      ]
     },
     "execution_count": 3,
     "metadata": {},
     "output_type": "execute_result"
    }
   ],
   "source": [
    "df_full = pd.read_csv('df_risk_crude.csv', index_col = 'PatientID', dtype = {'death_status': bool})\n",
    "df_full.index.nunique()"
   ]
  },
  {
   "cell_type": "code",
   "execution_count": 4,
   "id": "255e4fb6",
   "metadata": {},
   "outputs": [],
   "source": [
    "line_therapy = pd.read_csv('LineOfTherapy.csv')"
   ]
  },
  {
   "cell_type": "code",
   "execution_count": 5,
   "id": "33d0bc79",
   "metadata": {},
   "outputs": [],
   "source": [
    "tpdp = [\n",
    "    'Docetaxel,Pertuzumab,Trastuzumab',\n",
    "    'Docetaxel,Pertuzumab,Trastuzumab-Anns',\n",
    "    'Docetaxel,Pertuzumab,Trastuzumab-Qyyp',\n",
    "    'Paclitaxel,Pertuzumab,Trastuzumab',\n",
    "    'Paclitaxel,Pertuzumab,Trastuzumab-Anns',\n",
    "    'Paclitaxel,Pertuzumab,Trastuzumab-Qyyp',\n",
    "    'Paclitaxel Protein-Bound,Pertuzumab,Trastuzumab',\n",
    "    'Paclitaxel Protein-Bound,Pertuzumab,Trastuzumab-Anns',\n",
    "    'Paclitaxel Protein-Bound,Pertuzumab,Trastuzumab-Qyyp']\n",
    "\n",
    "tpdp_fl = (\n",
    "    line_therapy[line_therapy['PatientID'].isin(df_full.index)]\n",
    "    .query('LineNumber == 1')\n",
    "    .query('LineName == @tpdp')\n",
    "    [['PatientID', 'StartDate']]\n",
    ")"
   ]
  },
  {
   "cell_type": "code",
   "execution_count": 6,
   "id": "ee357335",
   "metadata": {},
   "outputs": [],
   "source": [
    "tpdp_fl.loc[:, 'tpdp'] = 1"
   ]
  },
  {
   "cell_type": "code",
   "execution_count": 7,
   "id": "ae808594",
   "metadata": {},
   "outputs": [
    {
     "data": {
      "text/plain": [
       "(1219, 1219)"
      ]
     },
     "execution_count": 7,
     "metadata": {},
     "output_type": "execute_result"
    }
   ],
   "source": [
    "row_ID(tpdp_fl)"
   ]
  },
  {
   "cell_type": "code",
   "execution_count": 8,
   "id": "4e28e127",
   "metadata": {},
   "outputs": [],
   "source": [
    "tpd = [\n",
    "    'Docetaxel,Trastuzumab',\n",
    "    'Docetaxel,Trastuzumab-Anns',\n",
    "    'Docetaxel,Trastuzumab-Qyyp',\n",
    "    'Paclitaxel,Trastuzumab',\n",
    "    'Paclitaxel,Trastuzumab-Anns',\n",
    "    'Paclitaxel,Trastuzumab-Qyyp',\n",
    "    'Paclitaxel Protein-Bound,Trastuzumab',\n",
    "    'Paclitaxel Protein-Bound,Trastuzumab-Anns',\n",
    "    'Paclitaxel Protein-Bound,Trastuzumab-Qyyp'] \n",
    "\n",
    "tpd_fl = (\n",
    "    line_therapy[line_therapy['PatientID'].isin(df_full.index)]\n",
    "    .query('LineNumber == 1')\n",
    "    .query('LineName == @tpd')\n",
    "    [['PatientID', 'StartDate']]\n",
    ")"
   ]
  },
  {
   "cell_type": "code",
   "execution_count": 9,
   "id": "c2ab918a",
   "metadata": {},
   "outputs": [],
   "source": [
    "tpd_fl.loc[:, 'tpdp'] = 0"
   ]
  },
  {
   "cell_type": "code",
   "execution_count": 10,
   "id": "1922dd9f",
   "metadata": {},
   "outputs": [
    {
     "data": {
      "text/plain": [
       "(1219, 1219)"
      ]
     },
     "execution_count": 10,
     "metadata": {},
     "output_type": "execute_result"
    }
   ],
   "source": [
    "row_ID(tpdp_fl)"
   ]
  },
  {
   "cell_type": "markdown",
   "id": "56d2c97c",
   "metadata": {},
   "source": [
    "#### First line endocrine therapy, second line trastuzumab + docetaxel/paclitaxel +/- pertuzumab "
   ]
  },
  {
   "cell_type": "code",
   "execution_count": 11,
   "id": "cc2a3ad9",
   "metadata": {},
   "outputs": [],
   "source": [
    "all_treatment = line_therapy.LineName.unique()"
   ]
  },
  {
   "cell_type": "code",
   "execution_count": 12,
   "id": "13d5c8ca",
   "metadata": {},
   "outputs": [],
   "source": [
    "treatment_list = []\n",
    "for trt in all_treatment:\n",
    "    treatment_list.extend(trt.split(\",\"))"
   ]
  },
  {
   "cell_type": "code",
   "execution_count": 13,
   "id": "f52f4a13",
   "metadata": {},
   "outputs": [],
   "source": [
    "unique = list(dict.fromkeys(treatment_list))"
   ]
  },
  {
   "cell_type": "code",
   "execution_count": 14,
   "id": "7f3b07e3",
   "metadata": {},
   "outputs": [],
   "source": [
    "et = [\n",
    "    'Anastrozole',\n",
    "    'Letrozole',\n",
    "    'Exemestane',\n",
    "    'Tamoxifen',\n",
    "    'Leuprolide',\n",
    "    'Goserelin',\n",
    "    'Triptorelin']"
   ]
  },
  {
   "cell_type": "code",
   "execution_count": 15,
   "id": "4c5f51ee",
   "metadata": {},
   "outputs": [],
   "source": [
    "unique.remove('Anastrozole')\n",
    "unique.remove('Letrozole')\n",
    "unique.remove('Exemestane')\n",
    "unique.remove('Tamoxifen')\n",
    "unique.remove('Leuprolide')\n",
    "unique.remove('Goserelin')\n",
    "unique.remove('Triptorelin')"
   ]
  },
  {
   "cell_type": "code",
   "execution_count": 16,
   "id": "0f269349",
   "metadata": {},
   "outputs": [],
   "source": [
    "line_therapy_fl = (\n",
    "    line_therapy[line_therapy['PatientID'].isin(df_full.index)]\n",
    "    .query('LineNumber == 1'))"
   ]
  },
  {
   "cell_type": "code",
   "execution_count": 17,
   "id": "213dc94d",
   "metadata": {},
   "outputs": [
    {
     "data": {
      "text/plain": [
       "Anastrozole               2943\n",
       "Letrozole                 2536\n",
       "Tamoxifen                 1305\n",
       "Exemestane                 780\n",
       "Leuprolide                  77\n",
       "Goserelin                   60\n",
       "Leuprolide,Tamoxifen        56\n",
       "Letrozole,Leuprolide        40\n",
       "Goserelin,Tamoxifen         36\n",
       "Anastrozole,Leuprolide      35\n",
       "Name: LineName, dtype: int64"
      ]
     },
     "execution_count": 17,
     "metadata": {},
     "output_type": "execute_result"
    }
   ],
   "source": [
    "(\n",
    "    line_therapy_fl\n",
    "    [line_therapy_fl['LineName'].str.contains('|'.join(et))\n",
    "     & ~line_therapy_fl['LineName'].str.contains('|'.join(unique))]\n",
    "    .LineName.value_counts().head(10)\n",
    ")"
   ]
  },
  {
   "cell_type": "code",
   "execution_count": 18,
   "id": "5e7a463d",
   "metadata": {},
   "outputs": [],
   "source": [
    "et_id = (\n",
    "    line_therapy_fl\n",
    "    [line_therapy_fl['LineName'].str.contains('|'.join(et))\n",
    "     & ~line_therapy_fl['LineName'].str.contains('|'.join(unique))]\n",
    "    .PatientID\n",
    ")"
   ]
  },
  {
   "cell_type": "code",
   "execution_count": 19,
   "id": "1c77aa32",
   "metadata": {},
   "outputs": [],
   "source": [
    "line_therapy_sec = (\n",
    "    line_therapy[line_therapy['PatientID'].isin(et_id)]\n",
    "    .query('LineNumber == 2'))"
   ]
  },
  {
   "cell_type": "code",
   "execution_count": 20,
   "id": "5f4c0b83",
   "metadata": {},
   "outputs": [],
   "source": [
    "et_tpdp = (\n",
    "    line_therapy_sec\n",
    "    .query('LineName == @tpdp')\n",
    "    [['PatientID', 'StartDate']]\n",
    ")"
   ]
  },
  {
   "cell_type": "code",
   "execution_count": 21,
   "id": "ec325448",
   "metadata": {},
   "outputs": [],
   "source": [
    "et_tpdp.loc[:, 'tpdp'] = 1"
   ]
  },
  {
   "cell_type": "code",
   "execution_count": 22,
   "id": "6c8f0dcb",
   "metadata": {},
   "outputs": [
    {
     "data": {
      "text/plain": [
       "(79, 79)"
      ]
     },
     "execution_count": 22,
     "metadata": {},
     "output_type": "execute_result"
    }
   ],
   "source": [
    "row_ID(et_tpdp)"
   ]
  },
  {
   "cell_type": "code",
   "execution_count": 23,
   "id": "9dfc5916",
   "metadata": {},
   "outputs": [],
   "source": [
    "et_tpd = (\n",
    "    line_therapy_sec\n",
    "    .query('LineName == @tpd')\n",
    "    [['PatientID', 'StartDate']]\n",
    ")"
   ]
  },
  {
   "cell_type": "code",
   "execution_count": 24,
   "id": "b0bcd79f",
   "metadata": {},
   "outputs": [],
   "source": [
    "et_tpd.loc[:, 'tpdp'] = 0"
   ]
  },
  {
   "cell_type": "code",
   "execution_count": 25,
   "id": "894899e9",
   "metadata": {},
   "outputs": [
    {
     "data": {
      "text/plain": [
       "(5, 5)"
      ]
     },
     "execution_count": 25,
     "metadata": {},
     "output_type": "execute_result"
    }
   ],
   "source": [
    "row_ID(et_tpd)"
   ]
  },
  {
   "cell_type": "code",
   "execution_count": 26,
   "id": "6bc1b40d",
   "metadata": {},
   "outputs": [],
   "source": [
    "cleopatra_p = pd.concat([tpdp_fl, et_tpdp])"
   ]
  },
  {
   "cell_type": "code",
   "execution_count": 27,
   "id": "8736368e",
   "metadata": {},
   "outputs": [
    {
     "data": {
      "text/plain": [
       "(1298, 1298)"
      ]
     },
     "execution_count": 27,
     "metadata": {},
     "output_type": "execute_result"
    }
   ],
   "source": [
    "row_ID(cleopatra_p)"
   ]
  },
  {
   "cell_type": "code",
   "execution_count": 28,
   "id": "042e52d2",
   "metadata": {},
   "outputs": [],
   "source": [
    "cleopatra_np = pd.concat([tpd_fl, et_tpd])"
   ]
  },
  {
   "cell_type": "code",
   "execution_count": 29,
   "id": "40d5e511",
   "metadata": {},
   "outputs": [
    {
     "data": {
      "text/plain": [
       "(184, 184)"
      ]
     },
     "execution_count": 29,
     "metadata": {},
     "output_type": "execute_result"
    }
   ],
   "source": [
    "row_ID(cleopatra_np)"
   ]
  },
  {
   "cell_type": "code",
   "execution_count": 30,
   "id": "8e1f9898",
   "metadata": {},
   "outputs": [],
   "source": [
    "cleopatra = pd.concat([cleopatra_p, cleopatra_np])"
   ]
  },
  {
   "cell_type": "code",
   "execution_count": 31,
   "id": "e7755401",
   "metadata": {},
   "outputs": [
    {
     "data": {
      "text/plain": [
       "(1482, 1482)"
      ]
     },
     "execution_count": 31,
     "metadata": {},
     "output_type": "execute_result"
    }
   ],
   "source": [
    "row_ID(cleopatra)"
   ]
  },
  {
   "cell_type": "code",
   "execution_count": 32,
   "id": "bb3ea4a0",
   "metadata": {},
   "outputs": [],
   "source": [
    "cleopatra = pd.merge(cleopatra, df_full, on = 'PatientID', how = 'inner')"
   ]
  },
  {
   "cell_type": "code",
   "execution_count": 33,
   "id": "768950a2",
   "metadata": {},
   "outputs": [
    {
     "data": {
      "text/plain": [
       "(1482, 1482)"
      ]
     },
     "execution_count": 33,
     "metadata": {},
     "output_type": "execute_result"
    }
   ],
   "source": [
    "row_ID(cleopatra)"
   ]
  },
  {
   "cell_type": "markdown",
   "id": "1bb1507f",
   "metadata": {},
   "source": [
    "#### Docetaxel/Paclitaxel dosing"
   ]
  },
  {
   "cell_type": "code",
   "execution_count": 34,
   "id": "126c59c1",
   "metadata": {},
   "outputs": [],
   "source": [
    "med_order = pd.read_csv('MedicationOrder.csv', low_memory = False)"
   ]
  },
  {
   "cell_type": "code",
   "execution_count": 35,
   "id": "a42ea67c",
   "metadata": {},
   "outputs": [],
   "source": [
    "med_order['ExpectedStartDate'] = np.where(med_order['ExpectedStartDate'].isna(), \n",
    "                                          med_order['OrderedDate'], \n",
    "                                          med_order['ExpectedStartDate'])"
   ]
  },
  {
   "cell_type": "code",
   "execution_count": 36,
   "id": "b8e4d735",
   "metadata": {},
   "outputs": [],
   "source": [
    "med_order.loc[:, 'ExpectedStartDate'] = pd.to_datetime(med_order['ExpectedStartDate'])"
   ]
  },
  {
   "cell_type": "code",
   "execution_count": 37,
   "id": "e3407273",
   "metadata": {},
   "outputs": [],
   "source": [
    "cleopatra['StartDate'] = pd.to_datetime(cleopatra['StartDate'])"
   ]
  },
  {
   "cell_type": "code",
   "execution_count": 38,
   "id": "e55dd3f0",
   "metadata": {},
   "outputs": [],
   "source": [
    "med_order_dotx = (\n",
    "    med_order[med_order['PatientID'].isin(cleopatra.PatientID)]\n",
    "    .query('CommonDrugName == \"docetaxel\" or CommonDrugName == \"paclitaxel\"')\n",
    ")"
   ]
  },
  {
   "cell_type": "code",
   "execution_count": 39,
   "id": "6073afea",
   "metadata": {},
   "outputs": [
    {
     "data": {
      "text/plain": [
       "(18649, 19)"
      ]
     },
     "execution_count": 39,
     "metadata": {},
     "output_type": "execute_result"
    }
   ],
   "source": [
    "med_order_dotx.shape"
   ]
  },
  {
   "cell_type": "code",
   "execution_count": 40,
   "id": "ee4bec2d",
   "metadata": {},
   "outputs": [],
   "source": [
    "med_order_dotx = pd.merge(med_order_dotx, \n",
    "                          cleopatra[['PatientID', 'StartDate']], \n",
    "                          on = 'PatientID', \n",
    "                          how = 'left')"
   ]
  },
  {
   "cell_type": "code",
   "execution_count": 41,
   "id": "63353898",
   "metadata": {},
   "outputs": [
    {
     "data": {
      "text/plain": [
       "(18649, 20)"
      ]
     },
     "execution_count": 41,
     "metadata": {},
     "output_type": "execute_result"
    }
   ],
   "source": [
    "med_order_dotx.shape"
   ]
  },
  {
   "cell_type": "code",
   "execution_count": 42,
   "id": "3d53c845",
   "metadata": {},
   "outputs": [],
   "source": [
    "med_order_dotx.loc[:, 'date_diff'] = (med_order_dotx['ExpectedStartDate'] - med_order_dotx['StartDate']).dt.days.abs()"
   ]
  },
  {
   "cell_type": "code",
   "execution_count": 43,
   "id": "ecb39f75",
   "metadata": {},
   "outputs": [],
   "source": [
    "med_order_dotx = med_order_dotx.query('date_diff <= 14')"
   ]
  },
  {
   "cell_type": "code",
   "execution_count": 44,
   "id": "a5fae6a9",
   "metadata": {},
   "outputs": [],
   "source": [
    "dotx_index = med_order_dotx.groupby('PatientID')['date_diff'].idxmin()"
   ]
  },
  {
   "cell_type": "code",
   "execution_count": 45,
   "id": "7cc3f82c",
   "metadata": {},
   "outputs": [],
   "source": [
    "dotx_dose = med_order_dotx.loc[dotx_index].query('RelativeOrderedUnits == \"mg/m2\"')[['PatientID', 'RelativeOrderedAmount']]"
   ]
  },
  {
   "cell_type": "code",
   "execution_count": 46,
   "id": "88923cf1",
   "metadata": {},
   "outputs": [],
   "source": [
    "dotx_dose = dotx_dose.rename(columns = {'RelativeOrderedAmount': 'dotx_dose_mgm2'})"
   ]
  },
  {
   "cell_type": "code",
   "execution_count": 47,
   "id": "b496f988",
   "metadata": {},
   "outputs": [],
   "source": [
    "dotx_IDs = dotx_dose.query('dotx_dose_mgm2 >= 75').PatientID"
   ]
  },
  {
   "cell_type": "code",
   "execution_count": 48,
   "id": "27e169e0",
   "metadata": {},
   "outputs": [],
   "source": [
    "cleopatra = cleopatra[cleopatra['PatientID'].isin(dotx_IDs)]"
   ]
  },
  {
   "cell_type": "markdown",
   "id": "45703ce1",
   "metadata": {},
   "source": [
    "#### HER-2 positive"
   ]
  },
  {
   "cell_type": "code",
   "execution_count": 49,
   "id": "b9a5237a",
   "metadata": {},
   "outputs": [],
   "source": [
    "biomarkers = pd.read_csv('Enhanced_MetBreastBiomarkers.csv')"
   ]
  },
  {
   "cell_type": "code",
   "execution_count": 50,
   "id": "47425a39",
   "metadata": {},
   "outputs": [],
   "source": [
    "biomarkers = biomarkers[biomarkers['PatientID'].isin(cleopatra['PatientID'])]"
   ]
  },
  {
   "cell_type": "code",
   "execution_count": 51,
   "id": "cd7c8e28",
   "metadata": {},
   "outputs": [
    {
     "data": {
      "text/plain": [
       "(7412, 1011)"
      ]
     },
     "execution_count": 51,
     "metadata": {},
     "output_type": "execute_result"
    }
   ],
   "source": [
    "row_ID(biomarkers)"
   ]
  },
  {
   "cell_type": "code",
   "execution_count": 52,
   "id": "f80c8045",
   "metadata": {},
   "outputs": [],
   "source": [
    "biomarkers = pd.merge(biomarkers, cleopatra[['PatientID', 'StartDate']], on = 'PatientID', how = 'left')"
   ]
  },
  {
   "cell_type": "code",
   "execution_count": 53,
   "id": "86c08f9f",
   "metadata": {},
   "outputs": [
    {
     "data": {
      "text/plain": [
       "(7412, 1011)"
      ]
     },
     "execution_count": 53,
     "metadata": {},
     "output_type": "execute_result"
    }
   ],
   "source": [
    "row_ID(biomarkers)"
   ]
  },
  {
   "cell_type": "code",
   "execution_count": 54,
   "id": "4b2ac344",
   "metadata": {},
   "outputs": [],
   "source": [
    "biomarkers['StartDate'] = pd.to_datetime(biomarkers['StartDate'])"
   ]
  },
  {
   "cell_type": "code",
   "execution_count": 55,
   "id": "bb27ac88",
   "metadata": {},
   "outputs": [],
   "source": [
    "biomarkers['ResultDate'] = pd.to_datetime(biomarkers['ResultDate'])"
   ]
  },
  {
   "cell_type": "code",
   "execution_count": 56,
   "id": "4e8631f6",
   "metadata": {},
   "outputs": [],
   "source": [
    "biomarkers['SpecimenReceivedDate'] = pd.to_datetime(biomarkers['SpecimenReceivedDate'])"
   ]
  },
  {
   "cell_type": "code",
   "execution_count": 57,
   "id": "e10852f1",
   "metadata": {},
   "outputs": [],
   "source": [
    "biomarkers.loc[:, 'result_date'] = (\n",
    "    np.where(biomarkers['ResultDate'].isna(), biomarkers['SpecimenReceivedDate'], biomarkers['ResultDate'])\n",
    ")"
   ]
  },
  {
   "cell_type": "code",
   "execution_count": 58,
   "id": "a27f0227",
   "metadata": {},
   "outputs": [],
   "source": [
    "biomarkers.loc[:, 'date_diff'] = (biomarkers['result_date'] - biomarkers['StartDate']).dt.days"
   ]
  },
  {
   "cell_type": "code",
   "execution_count": 59,
   "id": "5528663b",
   "metadata": {},
   "outputs": [],
   "source": [
    "her2_rel = ['IHC negative (0-1+)',\n",
    "            'FISH negative/not amplified',\n",
    "            'Negative NOS',\n",
    "            'NGS negative (ERBB2 not amplified)',\n",
    "            'IHC positive (3+)',\n",
    "            'FISH positive/amplified',\n",
    "            'Positive NOS',\n",
    "            'NGS positive (ERBB2 amplified)']\n",
    "\n",
    "her2_status = (\n",
    "    biomarkers\n",
    "    .query('BiomarkerName == \"HER2\"')\n",
    "    .query('date_diff <= 30')\n",
    "    .query('BiomarkerStatus == @her2_rel')\n",
    "    .sort_values(['PatientID', 'date_diff'], ascending = [True, False])\n",
    "    .drop_duplicates(subset = ['PatientID'], keep = 'first')\n",
    "    [['PatientID', 'BiomarkerStatus']]\n",
    "    .rename(columns = {'BiomarkerStatus': 'her2'})\n",
    ")"
   ]
  },
  {
   "cell_type": "code",
   "execution_count": 60,
   "id": "694ee34b",
   "metadata": {},
   "outputs": [
    {
     "data": {
      "text/plain": [
       "(968, 968)"
      ]
     },
     "execution_count": 60,
     "metadata": {},
     "output_type": "execute_result"
    }
   ],
   "source": [
    "row_ID(her2_status)"
   ]
  },
  {
   "cell_type": "code",
   "execution_count": 61,
   "id": "c95dad09",
   "metadata": {},
   "outputs": [],
   "source": [
    "cleopatra = pd.merge(cleopatra, her2_status, on  = 'PatientID', how = 'left')"
   ]
  },
  {
   "cell_type": "code",
   "execution_count": 62,
   "id": "e013c0fe",
   "metadata": {},
   "outputs": [
    {
     "data": {
      "text/plain": [
       "(1011, 1011)"
      ]
     },
     "execution_count": 62,
     "metadata": {},
     "output_type": "execute_result"
    }
   ],
   "source": [
    "row_ID(cleopatra)"
   ]
  },
  {
   "cell_type": "code",
   "execution_count": 63,
   "id": "ff8c4532",
   "metadata": {},
   "outputs": [],
   "source": [
    "her2_pos = ['IHC positive (3+)',\n",
    "            'FISH positive/amplified',\n",
    "            'Positive NOS',\n",
    "            'NGS positive (ERBB2 amplified)']\n",
    "\n",
    "cleopatra = (\n",
    "    cleopatra\n",
    "    .query('her2== @her2_pos')\n",
    ")"
   ]
  },
  {
   "cell_type": "code",
   "execution_count": 64,
   "id": "151cbc89",
   "metadata": {},
   "outputs": [
    {
     "data": {
      "text/plain": [
       "(921, 921)"
      ]
     },
     "execution_count": 64,
     "metadata": {},
     "output_type": "execute_result"
    }
   ],
   "source": [
    "row_ID(cleopatra)"
   ]
  },
  {
   "cell_type": "markdown",
   "id": "87525c79",
   "metadata": {},
   "source": [
    "#### Time from treatment to death or censor "
   ]
  },
  {
   "cell_type": "code",
   "execution_count": 65,
   "id": "6db16dcc",
   "metadata": {},
   "outputs": [],
   "source": [
    "mortality_tr = pd.read_csv('mortality_cleaned_tr.csv')"
   ]
  },
  {
   "cell_type": "code",
   "execution_count": 66,
   "id": "58156d28",
   "metadata": {},
   "outputs": [],
   "source": [
    "mortality_te = pd.read_csv('mortality_cleaned_te.csv')"
   ]
  },
  {
   "cell_type": "code",
   "execution_count": 67,
   "id": "0086d13c",
   "metadata": {},
   "outputs": [],
   "source": [
    "mortality_tr = mortality_tr[['PatientID', 'death_date', 'last_activity']]"
   ]
  },
  {
   "cell_type": "code",
   "execution_count": 68,
   "id": "946521eb",
   "metadata": {},
   "outputs": [],
   "source": [
    "mortality_te = mortality_te[['PatientID', 'death_date', 'last_activity']]"
   ]
  },
  {
   "cell_type": "code",
   "execution_count": 69,
   "id": "e4cde546",
   "metadata": {},
   "outputs": [
    {
     "data": {
      "text/plain": [
       "(31677, 31677)"
      ]
     },
     "execution_count": 69,
     "metadata": {},
     "output_type": "execute_result"
    }
   ],
   "source": [
    "mortality = pd.concat([mortality_tr, mortality_te], ignore_index = True)\n",
    "row_ID(mortality)"
   ]
  },
  {
   "cell_type": "code",
   "execution_count": 70,
   "id": "9e36838a",
   "metadata": {},
   "outputs": [],
   "source": [
    "mortality.loc[:, 'last_activity'] = pd.to_datetime(mortality['last_activity'])"
   ]
  },
  {
   "cell_type": "code",
   "execution_count": 71,
   "id": "9553bf8e",
   "metadata": {},
   "outputs": [],
   "source": [
    "mortality.loc[:, 'death_date'] = pd.to_datetime(mortality['death_date'])"
   ]
  },
  {
   "cell_type": "code",
   "execution_count": 72,
   "id": "62b553f4",
   "metadata": {},
   "outputs": [
    {
     "data": {
      "text/plain": [
       "(31677, 31677)"
      ]
     },
     "execution_count": 72,
     "metadata": {},
     "output_type": "execute_result"
    }
   ],
   "source": [
    "row_ID(mortality)"
   ]
  },
  {
   "cell_type": "code",
   "execution_count": 73,
   "id": "d8e59182",
   "metadata": {},
   "outputs": [],
   "source": [
    "cleopatra = pd.merge(cleopatra, mortality, on = 'PatientID', how = 'left')"
   ]
  },
  {
   "cell_type": "code",
   "execution_count": 74,
   "id": "11ecbaca",
   "metadata": {},
   "outputs": [
    {
     "data": {
      "text/plain": [
       "(921, 921)"
      ]
     },
     "execution_count": 74,
     "metadata": {},
     "output_type": "execute_result"
    }
   ],
   "source": [
    "row_ID(cleopatra)"
   ]
  },
  {
   "cell_type": "code",
   "execution_count": 75,
   "id": "046b4b25",
   "metadata": {},
   "outputs": [],
   "source": [
    "conditions = [\n",
    "    (cleopatra['death_status'] == 1),\n",
    "    (cleopatra['death_status'] == 0)]\n",
    "\n",
    "choices = [\n",
    "    (cleopatra['death_date'] - cleopatra['StartDate']).dt.days,\n",
    "    (cleopatra['last_activity'] - cleopatra['StartDate']).dt.days]\n",
    "\n",
    "cleopatra.loc[:, 'timerisk_treatment'] = np.select(conditions, choices)"
   ]
  },
  {
   "cell_type": "code",
   "execution_count": 76,
   "id": "2d6e5a27",
   "metadata": {},
   "outputs": [],
   "source": [
    "cleopatra = cleopatra.query('timerisk_treatment >= 0')"
   ]
  },
  {
   "cell_type": "markdown",
   "id": "27747ba2",
   "metadata": {},
   "source": [
    "#### Patient count "
   ]
  },
  {
   "cell_type": "code",
   "execution_count": 77,
   "id": "a4e51f9a",
   "metadata": {},
   "outputs": [],
   "source": [
    "low_cutoff_cleopatra = cleopatra.risk_score.quantile(1/3)"
   ]
  },
  {
   "cell_type": "code",
   "execution_count": 78,
   "id": "634a0d0d",
   "metadata": {},
   "outputs": [],
   "source": [
    "high_cutoff_cleopatra = cleopatra.risk_score.quantile(2/3)"
   ]
  },
  {
   "cell_type": "code",
   "execution_count": 79,
   "id": "2aff7268",
   "metadata": {},
   "outputs": [
    {
     "name": "stdout",
     "output_type": "stream",
     "text": [
      "Pertuzumab + trastuzumab + docetaxel/paclitaxel total: 833\n",
      "High risk: 269\n",
      "Med risk: 283\n",
      "Low risk: 281\n"
     ]
    }
   ],
   "source": [
    "print('Pertuzumab + trastuzumab + docetaxel/paclitaxel total:',  cleopatra.query('tpdp == 1').shape[0])\n",
    "print('High risk:', cleopatra.query('tpdp == 1').query('risk_score >= @high_cutoff_cleopatra').shape[0])\n",
    "print('Med risk:', cleopatra.query('tpdp == 1').query('risk_score < @high_cutoff_cleopatra and risk_score > @low_cutoff_cleopatra').shape[0])\n",
    "print('Low risk:', cleopatra.query('tpdp == 1').query('risk_score <= @low_cutoff_cleopatra').shape[0])"
   ]
  },
  {
   "cell_type": "code",
   "execution_count": 80,
   "id": "35685c0a",
   "metadata": {
    "scrolled": true
   },
   "outputs": [
    {
     "name": "stdout",
     "output_type": "stream",
     "text": [
      "Trastuzumab + docetaxel/paclitaxel total: 87\n",
      "High risk: 38\n",
      "Med risk: 23\n",
      "Low risk: 26\n"
     ]
    }
   ],
   "source": [
    "print('Trastuzumab + docetaxel/paclitaxel total:',  cleopatra.query('tpdp == 0').shape[0])\n",
    "print('High risk:', cleopatra.query('tpdp == 0').query('risk_score >= @high_cutoff_cleopatra').shape[0])\n",
    "print('Med risk:', cleopatra.query('tpdp == 0').query('risk_score < @high_cutoff_cleopatra and risk_score > @low_cutoff_cleopatra').shape[0])\n",
    "print('Low risk:', cleopatra.query('tpdp == 0').query('risk_score <= @low_cutoff_cleopatra').shape[0])"
   ]
  },
  {
   "cell_type": "markdown",
   "id": "024c99b9",
   "metadata": {},
   "source": [
    "#### Survival curves with covaraite balancing "
   ]
  },
  {
   "cell_type": "code",
   "execution_count": 81,
   "id": "1a417862",
   "metadata": {},
   "outputs": [],
   "source": [
    "conditions = [\n",
    "    (cleopatra['thorax_met'] == 1) |\n",
    "    (cleopatra['liver_met'] == 1) |\n",
    "    (cleopatra['cns_met'] == 1) |\n",
    "    (cleopatra['peritoneum_met'] == 1) |\n",
    "    (cleopatra['other_met'] == 1),\n",
    "    (cleopatra['bone_met'] == 0) &\n",
    "    (cleopatra['thorax_met'] == 0) &\n",
    "    (cleopatra['lymph_met'] == 0) &\n",
    "    (cleopatra['liver_met'] == 0) &\n",
    "    (cleopatra['cns_met'] == 0) &\n",
    "    (cleopatra['skin_met'] == 0) &\n",
    "    (cleopatra['peritoneum_met'] == 0) &\n",
    "    (cleopatra['other_met'] == 0)\n",
    "]\n",
    "\n",
    "choices = ['visceral', 'unknown']\n",
    "\n",
    "cleopatra['met_site'] = np.select(conditions, choices, default = 'nonvisceral')"
   ]
  },
  {
   "cell_type": "code",
   "execution_count": 82,
   "id": "17ed498f",
   "metadata": {},
   "outputs": [],
   "source": [
    "cleopatra['met_cat'] = pd.cut(cleopatra['met_year'],\n",
    "                              bins = [2010, 2016, float('inf')],\n",
    "                              labels = ['11-16', '17-22'])"
   ]
  },
  {
   "cell_type": "code",
   "execution_count": 83,
   "id": "3187524b",
   "metadata": {},
   "outputs": [],
   "source": [
    "conditions = [\n",
    "    ((cleopatra['ecog_diagnosis'] == \"1.0\") | (cleopatra['ecog_diagnosis'] == \"0.0\")),  \n",
    "    ((cleopatra['ecog_diagnosis'] == \"2.0\") | (cleopatra['ecog_diagnosis'] == \"3.0\"))\n",
    "]\n",
    "\n",
    "choices = ['lt_2', 'gte_2']\n",
    "\n",
    "cleopatra['ecog_2'] = np.select(conditions, choices, default = 'unknown')"
   ]
  },
  {
   "cell_type": "code",
   "execution_count": 84,
   "id": "a843a449",
   "metadata": {},
   "outputs": [],
   "source": [
    "conditions = [\n",
    "    ((cleopatra['ses'] == 1) | (cleopatra['ses'] == 2) | (cleopatra['ses'] == 3)), \n",
    "    ((cleopatra['ses'] == 4) | (cleopatra['ses'] == 5))\n",
    "]\n",
    "\n",
    "choices = ['lt_4', 'gte_4']\n",
    "\n",
    "cleopatra['ses_cat'] = np.select(conditions, choices, default = 'unknown')"
   ]
  },
  {
   "cell_type": "code",
   "execution_count": 85,
   "id": "a1ce6d5a",
   "metadata": {},
   "outputs": [],
   "source": [
    "cleopatra['race_cat'] = np.where(cleopatra['race'] == \"White\", 1, 0)"
   ]
  },
  {
   "cell_type": "code",
   "execution_count": 86,
   "id": "730717d7",
   "metadata": {},
   "outputs": [],
   "source": [
    "cleopatra = cleopatra.set_index('PatientID')"
   ]
  },
  {
   "cell_type": "code",
   "execution_count": 87,
   "id": "8d819a70",
   "metadata": {},
   "outputs": [],
   "source": [
    "cleopatra_iptw = cleopatra.filter(items = ['death_status',\n",
    "                                           'timerisk_treatment',\n",
    "                                           'tpdp',\n",
    "                                           'age',\n",
    "                                           'gender',\n",
    "                                           'race_cat',\n",
    "                                           'p_type',\n",
    "                                           'delta_met_diagnosis',\n",
    "                                           'met_cat',\n",
    "                                           'ses_cat',\n",
    "                                           'ecog_2',\n",
    "                                           'risk_score'])"
   ]
  },
  {
   "cell_type": "code",
   "execution_count": 88,
   "id": "c0fe948b",
   "metadata": {},
   "outputs": [
    {
     "data": {
      "text/plain": [
       "death_status               bool\n",
       "timerisk_treatment      float64\n",
       "tpdp                      int64\n",
       "age                       int64\n",
       "gender                   object\n",
       "race_cat                  int64\n",
       "p_type                   object\n",
       "delta_met_diagnosis       int64\n",
       "met_cat                category\n",
       "ses_cat                  object\n",
       "ecog_2                   object\n",
       "risk_score              float64\n",
       "dtype: object"
      ]
     },
     "execution_count": 88,
     "metadata": {},
     "output_type": "execute_result"
    }
   ],
   "source": [
    "cleopatra_iptw.dtypes"
   ]
  },
  {
   "cell_type": "code",
   "execution_count": 89,
   "id": "fa28cae3",
   "metadata": {},
   "outputs": [],
   "source": [
    "to_be_categorical = list(cleopatra_iptw.select_dtypes(include = ['object']).columns)"
   ]
  },
  {
   "cell_type": "code",
   "execution_count": 90,
   "id": "2fbb8c62",
   "metadata": {},
   "outputs": [
    {
     "data": {
      "text/plain": [
       "['gender', 'p_type', 'ses_cat', 'ecog_2']"
      ]
     },
     "execution_count": 90,
     "metadata": {},
     "output_type": "execute_result"
    }
   ],
   "source": [
    "to_be_categorical"
   ]
  },
  {
   "cell_type": "code",
   "execution_count": 91,
   "id": "84266c9a",
   "metadata": {},
   "outputs": [],
   "source": [
    "to_be_categorical.append('met_cat')"
   ]
  },
  {
   "cell_type": "code",
   "execution_count": 92,
   "id": "dfec72bb",
   "metadata": {},
   "outputs": [],
   "source": [
    "to_be_categorical.append('race_cat')"
   ]
  },
  {
   "cell_type": "code",
   "execution_count": 93,
   "id": "725380ac",
   "metadata": {},
   "outputs": [],
   "source": [
    "# Convert variables in list to categorical.\n",
    "for x in list(to_be_categorical):\n",
    "    cleopatra_iptw[x] = cleopatra_iptw[x].astype('category')"
   ]
  },
  {
   "cell_type": "code",
   "execution_count": 94,
   "id": "ebf3e46b",
   "metadata": {},
   "outputs": [],
   "source": [
    "# List of numeric variables, excluding binary variables. \n",
    "numerical_features = ['age', 'delta_met_diagnosis']\n",
    "\n",
    "# Transformer will first calculate column median and impute, and then apply a standard scaler. \n",
    "numerical_transformer = Pipeline(steps = [\n",
    "    ('imputer', SimpleImputer(strategy = 'median')),\n",
    "    ('std_scaler', StandardScaler())])"
   ]
  },
  {
   "cell_type": "code",
   "execution_count": 95,
   "id": "8fbd9dbc",
   "metadata": {},
   "outputs": [],
   "source": [
    "# List of categorical features.\n",
    "categorical_features = list(cleopatra_iptw.select_dtypes(include = ['category']).columns)\n",
    "\n",
    "# One-hot-encode categorical features.\n",
    "categorical_transformer = OneHotEncoder(handle_unknown = 'ignore')"
   ]
  },
  {
   "cell_type": "code",
   "execution_count": 96,
   "id": "b94deea0",
   "metadata": {},
   "outputs": [],
   "source": [
    "preprocessor = ColumnTransformer(\n",
    "    transformers = [\n",
    "        ('num', numerical_transformer, numerical_features),\n",
    "        ('cat', categorical_transformer, categorical_features)],\n",
    "    remainder = 'passthrough')"
   ]
  },
  {
   "cell_type": "code",
   "execution_count": 97,
   "id": "5c4ff4be",
   "metadata": {},
   "outputs": [],
   "source": [
    "cleopatra_iptw_low = (\n",
    "    cleopatra_iptw\n",
    "    .query('risk_score <= @low_cutoff_cleopatra')\n",
    "    .drop(columns = ['risk_score']))\n",
    "\n",
    "cleopatra_iptw_med = (\n",
    "    cleopatra_iptw\n",
    "    .query('risk_score < @high_cutoff_cleopatra and risk_score > @low_cutoff_cleopatra')\n",
    "    .drop(columns = ['risk_score']))\n",
    "\n",
    "cleopatra_iptw_high = (\n",
    "    cleopatra_iptw\n",
    "    .query('risk_score >= @high_cutoff_cleopatra')\n",
    "    .drop(columns = ['risk_score']))\n",
    "\n",
    "cleopatra_iptw_all = (\n",
    "    cleopatra_iptw\n",
    "    .drop(columns = ['risk_score']))"
   ]
  },
  {
   "cell_type": "code",
   "execution_count": 98,
   "id": "6e177b4a",
   "metadata": {},
   "outputs": [],
   "source": [
    "cleopatra_low_x = preprocessor.fit_transform(cleopatra_iptw_low.filter(items = ['age',\n",
    "                                                                                'gender',\n",
    "                                                                                'race_cat',\n",
    "                                                                                'p_type',\n",
    "                                                                                'delta_met_diagnosis',\n",
    "                                                                                'met_cat',\n",
    "                                                                                'ses_cat',\n",
    "                                                                                'ecog_2']))\n",
    "\n",
    "cleopatra_med_x = preprocessor.fit_transform(cleopatra_iptw_med.filter(items = ['age',\n",
    "                                                                                'gender',\n",
    "                                                                                'race_cat',\n",
    "                                                                                'p_type',\n",
    "                                                                                'delta_met_diagnosis',\n",
    "                                                                                'met_cat',\n",
    "                                                                                'ses_cat', \n",
    "                                                                                'ecog_2']))\n",
    "\n",
    "cleopatra_high_x = preprocessor.fit_transform(cleopatra_iptw_high.filter(items = ['age',\n",
    "                                                                                  'gender',\n",
    "                                                                                  'race_cat',\n",
    "                                                                                  'p_type',\n",
    "                                                                                  'delta_met_diagnosis',\n",
    "                                                                                  'met_cat',\n",
    "                                                                                  'ses_cat', \n",
    "                                                                                  'ecog_2']))\n",
    "\n",
    "cleopatra_all_x = preprocessor.fit_transform(cleopatra_iptw_all.filter(items = ['age',\n",
    "                                                                                'gender',\n",
    "                                                                                'race_cat',\n",
    "                                                                                'p_type',\n",
    "                                                                                'delta_met_diagnosis',\n",
    "                                                                                'met_cat',\n",
    "                                                                                'ses_cat',\n",
    "                                                                                'ecog_2']))"
   ]
  },
  {
   "cell_type": "code",
   "execution_count": 99,
   "id": "c73e728a",
   "metadata": {},
   "outputs": [
    {
     "data": {
      "text/plain": [
       "LogisticRegression(max_iter=1000)"
      ]
     },
     "execution_count": 99,
     "metadata": {},
     "output_type": "execute_result"
    }
   ],
   "source": [
    "lr_cleopatra_low = LogisticRegression(max_iter = 1000)\n",
    "lr_cleopatra_low.fit(cleopatra_low_x, cleopatra_iptw_low['tpdp'])"
   ]
  },
  {
   "cell_type": "code",
   "execution_count": 100,
   "id": "e66617e0",
   "metadata": {},
   "outputs": [
    {
     "data": {
      "text/plain": [
       "LogisticRegression(max_iter=1000)"
      ]
     },
     "execution_count": 100,
     "metadata": {},
     "output_type": "execute_result"
    }
   ],
   "source": [
    "lr_cleopatra_med = LogisticRegression(max_iter = 1000)\n",
    "lr_cleopatra_med.fit(cleopatra_med_x, cleopatra_iptw_med['tpdp'])"
   ]
  },
  {
   "cell_type": "code",
   "execution_count": 101,
   "id": "d90bfd17",
   "metadata": {},
   "outputs": [
    {
     "data": {
      "text/plain": [
       "LogisticRegression(max_iter=1000)"
      ]
     },
     "execution_count": 101,
     "metadata": {},
     "output_type": "execute_result"
    }
   ],
   "source": [
    "lr_cleopatra_high = LogisticRegression(max_iter = 1000)\n",
    "lr_cleopatra_high.fit(cleopatra_high_x, cleopatra_iptw_high['tpdp'])"
   ]
  },
  {
   "cell_type": "code",
   "execution_count": 102,
   "id": "a865a328",
   "metadata": {},
   "outputs": [
    {
     "data": {
      "text/plain": [
       "LogisticRegression(max_iter=1000)"
      ]
     },
     "execution_count": 102,
     "metadata": {},
     "output_type": "execute_result"
    }
   ],
   "source": [
    "lr_cleopatra_all = LogisticRegression(max_iter = 1000)\n",
    "lr_cleopatra_all.fit(cleopatra_all_x, cleopatra_iptw_all['tpdp'])"
   ]
  },
  {
   "cell_type": "code",
   "execution_count": 103,
   "id": "47875605",
   "metadata": {},
   "outputs": [],
   "source": [
    "pred_low = lr_cleopatra_low.predict_proba(cleopatra_low_x)\n",
    "pred_med = lr_cleopatra_med.predict_proba(cleopatra_med_x)\n",
    "pred_high = lr_cleopatra_high.predict_proba(cleopatra_high_x)\n",
    "pred_all = lr_cleopatra_all.predict_proba(cleopatra_all_x)"
   ]
  },
  {
   "cell_type": "code",
   "execution_count": 104,
   "id": "a8ea6622",
   "metadata": {},
   "outputs": [],
   "source": [
    "cleopatra_iptw_low['ps'] = pred_low[:, 1]\n",
    "cleopatra_iptw_med['ps'] = pred_med[:, 1]\n",
    "cleopatra_iptw_high['ps'] = pred_high[:, 1]\n",
    "cleopatra_iptw_all['ps'] = pred_all[:, 1]"
   ]
  },
  {
   "cell_type": "code",
   "execution_count": 105,
   "id": "b8be8f94",
   "metadata": {},
   "outputs": [],
   "source": [
    "cleopatra_iptw_low['weight'] = (\n",
    "    np.where(cleopatra_iptw_low['tpdp'] == 1, 1/cleopatra_iptw_low['ps'], 1/(1 - cleopatra_iptw_low['ps'])))\n",
    "\n",
    "cleopatra_iptw_med['weight'] = (\n",
    "    np.where(cleopatra_iptw_med['tpdp'] == 1, 1/cleopatra_iptw_med['ps'], 1/(1 - cleopatra_iptw_med['ps'])))\n",
    "\n",
    "cleopatra_iptw_high['weight'] = (\n",
    "    np.where(cleopatra_iptw_high['tpdp'] == 1, 1/cleopatra_iptw_high['ps'], 1/(1 - cleopatra_iptw_high['ps'])))\n",
    "\n",
    "cleopatra_iptw_all['weight'] = (\n",
    "    np.where(cleopatra_iptw_all['tpdp'] == 1, 1/cleopatra_iptw_all['ps'], 1/(1 - cleopatra_iptw_all['ps'])))"
   ]
  },
  {
   "cell_type": "code",
   "execution_count": 106,
   "id": "fe37e81b",
   "metadata": {},
   "outputs": [
    {
     "name": "stderr",
     "output_type": "stream",
     "text": [
      "/Users/xavierorcutt/Dropbox/ist_project/myenv/lib/python3.7/site-packages/lifelines/fitters/kaplan_meier_fitter.py:344: StatisticalWarning: It looks like your weights are not integers, possibly propensity scores then?\n",
      "  It's important to know that the naive variance estimates of the coefficients are biased. Instead use Monte Carlo to\n",
      "  estimate the variances. See paper \"Variance estimation when using inverse probability of treatment weighting (IPTW) with survival analysis\"\n",
      "  or \"Adjusted Kaplan-Meier estimator and log-rank test with inverse probability of treatment weighting for survival data.\"\n",
      "                  \n",
      "  StatisticalWarning,\n"
     ]
    },
    {
     "data": {
      "text/plain": [
       "<lifelines.KaplanMeierFitter:\"KM_estimate\", fitted with 889.803 total observations, 310.451 right-censored observations>"
      ]
     },
     "execution_count": 106,
     "metadata": {},
     "output_type": "execute_result"
    }
   ],
   "source": [
    "# Low KM curves\n",
    "kmf_low_tpdp_cleopatra_iptw = KaplanMeierFitter()\n",
    "kmf_low_tdp_cleopatra_iptw = KaplanMeierFitter()\n",
    "\n",
    "kmf_low_tpdp_cleopatra_iptw.fit(\n",
    "    cleopatra_iptw_low.query('tpdp == 1')['timerisk_treatment']/30,\n",
    "    cleopatra_iptw_low.query('tpdp == 1')['death_status'],\n",
    "    weights = cleopatra_iptw_low.query('tpdp == 1')['weight'])\n",
    "\n",
    "kmf_low_tdp_cleopatra_iptw.fit(\n",
    "    cleopatra_iptw_low.query('tpdp == 0')['timerisk_treatment']/30,\n",
    "    cleopatra_iptw_low.query('tpdp == 0')['death_status'],\n",
    "    weights = cleopatra_iptw_low.query('tpdp == 0')['weight'])\n",
    "\n",
    "# Med KM curves\n",
    "kmf_med_tpdp_cleopatra_iptw = KaplanMeierFitter()\n",
    "kmf_med_tdp_cleopatra_iptw = KaplanMeierFitter()\n",
    "\n",
    "kmf_med_tpdp_cleopatra_iptw.fit(\n",
    "    cleopatra_iptw_med.query('tpdp == 1')['timerisk_treatment']/30,\n",
    "    cleopatra_iptw_med.query('tpdp == 1')['death_status'], \n",
    "    weights = cleopatra_iptw_med.query('tpdp == 1')['weight'])\n",
    "\n",
    "kmf_med_tdp_cleopatra_iptw.fit(\n",
    "    cleopatra_iptw_med.query('tpdp == 0')['timerisk_treatment']/30,\n",
    "    cleopatra_iptw_med.query('tpdp == 0')['death_status'], \n",
    "    weights = cleopatra_iptw_med.query('tpdp == 0')['weight'])\n",
    "\n",
    "# High KM curves \n",
    "kmf_high_tpdp_cleopatra_iptw = KaplanMeierFitter()\n",
    "kmf_high_tdp_cleopatra_iptw = KaplanMeierFitter()\n",
    "\n",
    "kmf_high_tpdp_cleopatra_iptw.fit(\n",
    "    cleopatra_iptw_high.query('tpdp == 1')['timerisk_treatment']/30,\n",
    "    cleopatra_iptw_high.query('tpdp == 1')['death_status'], \n",
    "    weights = cleopatra_iptw_high.query('tpdp == 1')['weight'])\n",
    "\n",
    "kmf_high_tdp_cleopatra_iptw.fit(\n",
    "    cleopatra_iptw_high.query('tpdp == 0')['timerisk_treatment']/30,\n",
    "    cleopatra_iptw_high.query('tpdp == 0')['death_status'], \n",
    "    weights = cleopatra_iptw_high.query('tpdp == 0')['weight'])\n",
    "\n",
    "# All KM curves \n",
    "kmf_all_tpdp_cleopatra_iptw = KaplanMeierFitter()\n",
    "kmf_all_tdp_cleopatra_iptw = KaplanMeierFitter()\n",
    "\n",
    "kmf_all_tpdp_cleopatra_iptw.fit(\n",
    "    cleopatra_iptw_all.query('tpdp == 1')['timerisk_treatment']/30,\n",
    "    cleopatra_iptw_all.query('tpdp == 1')['death_status'], \n",
    "    weights = cleopatra_iptw_all.query('tpdp == 1')['weight'])\n",
    "\n",
    "kmf_all_tdp_cleopatra_iptw.fit(\n",
    "    cleopatra_iptw_all.query('tpdp == 0')['timerisk_treatment']/30,\n",
    "    cleopatra_iptw_all.query('tpdp == 0')['death_status'], \n",
    "    weights = cleopatra_iptw_all.query('tpdp == 0')['weight'])"
   ]
  },
  {
   "cell_type": "code",
   "execution_count": 107,
   "id": "45bce158",
   "metadata": {},
   "outputs": [
    {
     "data": {
      "image/png": "[encoded data removed]",
      "text/plain": [
       "<Figure size 1800x600 with 5 Axes>"
      ]
     },
     "metadata": {},
     "output_type": "display_data"
    }
   ],
   "source": [
    "fig = plt.figure(figsize=(18, 6))\n",
    "\n",
    "# Plot survival curves for low risk group \n",
    "plt.subplot(1, 4, 1)\n",
    "\n",
    "plt.step(kmf_low_tpdp_cleopatra_iptw.timeline, kmf_low_tpdp_cleopatra_iptw.survival_function_.values*100, color = 'red', alpha = 0.5)\n",
    "\n",
    "plt.step(kmf_low_tdp_cleopatra_iptw.timeline, kmf_low_tdp_cleopatra_iptw.survival_function_.values*100, color = 'black', alpha = 0.5)\n",
    "\n",
    "plt.xticks(np.arange(0, 61, 6))\n",
    "plt.xlim(0, 61)\n",
    "plt.ylim(0, 100)\n",
    "\n",
    "plt.title('Low-risk', weight = 'bold')\n",
    "plt.ylabel('OS (%)', size = 12, weight = 'bold')\n",
    "\n",
    "plt.gca().spines['top'].set_visible(False)\n",
    "plt.gca().spines['right'].set_visible(False)\n",
    "\n",
    "# Plot survival curves for med risk group. \n",
    "plt.subplot(1, 4, 2)\n",
    "\n",
    "plt.step(kmf_med_tpdp_cleopatra_iptw.timeline, kmf_med_tpdp_cleopatra_iptw.survival_function_.values*100, color = 'red', alpha = 0.5)\n",
    "\n",
    "plt.step(kmf_med_tdp_cleopatra_iptw.timeline, kmf_med_tdp_cleopatra_iptw.survival_function_.values*100, color = 'black', alpha = 0.5)\n",
    "\n",
    "plt.xticks(np.arange(0, 61, 6))\n",
    "plt.xlim(0, 61)\n",
    "plt.ylim(0, 100)\n",
    "\n",
    "plt.title('Med-risk', weight = 'bold')\n",
    "\n",
    "plt.gca().spines['top'].set_visible(False)\n",
    "plt.gca().spines['right'].set_visible(False)\n",
    "\n",
    "# Plot survival curves by treatment for high risk group. \n",
    "plt.subplot(1, 4, 3)\n",
    "\n",
    "plt.step(kmf_high_tpdp_cleopatra_iptw.timeline, kmf_high_tpdp_cleopatra_iptw.survival_function_.values*100, color = 'red', alpha = 0.5)\n",
    "\n",
    "plt.step(kmf_high_tdp_cleopatra_iptw.timeline, kmf_high_tdp_cleopatra_iptw.survival_function_.values*100, color = 'black', alpha = 0.5)\n",
    "\n",
    "plt.xticks(np.arange(0, 61, 6))\n",
    "plt.xlim(0, 61)\n",
    "plt.ylim(0, 100)\n",
    "\n",
    "plt.title('High-risk', weight = 'bold')\n",
    "\n",
    "plt.gca().spines['top'].set_visible(False)\n",
    "plt.gca().spines['right'].set_visible(False)\n",
    "\n",
    "# Plot survival curves by treatment for all risk group. \n",
    "plt.subplot(1, 4, 4)\n",
    "\n",
    "plt.step(kmf_all_tpdp_cleopatra_iptw.timeline, kmf_all_tpdp_cleopatra_iptw.survival_function_.values*100, color = 'red', alpha = 0.5, label = 'Pertuzumab, trastuzumab, + docetaxe/paclitaxel')\n",
    "\n",
    "plt.step(kmf_all_tdp_cleopatra_iptw.timeline, kmf_all_tdp_cleopatra_iptw.survival_function_.values*100, color = 'black', alpha = 0.5, label = 'Trastuzumab + docetaxe/paclitaxel')\n",
    "\n",
    "plt.xticks(np.arange(0, 61, 6))\n",
    "plt.xlim(0, 61)\n",
    "plt.ylim(0, 100)\n",
    "\n",
    "plt.title('Full cohort', weight = 'bold')\n",
    "\n",
    "plt.gca().spines['top'].set_visible(False)\n",
    "plt.gca().spines['right'].set_visible(False)\n",
    "\n",
    "plt.legend(loc = 'upper right', prop = {'size': 9})\n",
    "\n",
    "fig.add_subplot(1, 1, 1, frameon = False)\n",
    "plt.tick_params(labelcolor = 'none', which = 'both', top = False, bottom = False, left = False, right = False)\n",
    "plt.xlabel('Months after treatment', labelpad = 15, size = 12, weight = 'bold')\n",
    "plt.title('CLEOPATRA: OS for pertuzumab, trastuzumab, and docetaxel/paclitaxel in HER2-positive metastatic breast cancer', pad = 40, size = 15, weight = 'bold')\n",
    "\n",
    "plt.show()"
   ]
  }
 ],
 "metadata": {
  "kernelspec": {
   "display_name": "My Virtual Environment",
   "language": "python",
   "name": "myenv"
  },
  "language_info": {
   "codemirror_mode": {
    "name": "ipython",
    "version": 3
   },
   "file_extension": ".py",
   "mimetype": "text/x-python",
   "name": "python",
   "nbconvert_exporter": "python",
   "pygments_lexer": "ipython3",
   "version": "3.7.10"
  }
 },
 "nbformat": 4,
 "nbformat_minor": 5
}
