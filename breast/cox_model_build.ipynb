{
 "cells": [
  {
   "cell_type": "markdown",
   "id": "e4b98b7e",
   "metadata": {},
   "source": [
    "# Flatiron Health mBC: Cox model build\n",
    "\n",
    "**OBJECTIVE: Build a Cox model inspired by the model described in \"Prognostic Model for De Novo and Recurrent Metastatic Breast Cancer\" by C. Barcenas et al. in JCO Clinical Cancer Informatics (2021).**\n",
    "\n",
    "**BACKGROUND: The pusblished Cox model is a classical Cox model that predicts overall survival for patients with newly diagnosed metastatic breast cancer. It uses 11 clinical and biomarker variables. Discriminatory performance was validated on an external dataset and resulted in a concordance index of 0.73. Patients with complete data were included for training and testing. Due to violation of proportional hazards, the model consisted of six independent models built over different time points.**\n",
    "\n",
    "**OUTLINE:**\n",
    "1. **Preprocessing**\n",
    "2. **Crude imputation** \n",
    "3. **Complete cases** "
   ]
  },
  {
   "cell_type": "markdown",
   "id": "2c0affae",
   "metadata": {},
   "source": [
    "## 1. Preprocessing "
   ]
  },
  {
   "cell_type": "markdown",
   "id": "f2c79aa0",
   "metadata": {},
   "source": [
    "**The published Cox model includes the following variables:** \n",
    "* Age at diagnosis of MBC (continous)\n",
    "* De novo and metastasis-free interval\n",
    "* HR and HER2 status\n",
    "* KPS (ECOG will be used instead)\n",
    "* Organs involved\n",
    "* Number of organs involved\n",
    "* Race or ethnicity\n",
    "* Frontline biotherapy (trastuzumab and/or pertuzumab)\n",
    "* Frontline HT\n",
    "* Interaction between de novo and recurrent MBC status and HR and HER2 status\n",
    "* Interaction betwee de novo and recurrent MBC status and HT "
   ]
  },
  {
   "cell_type": "code",
   "execution_count": 1,
   "id": "e16594fc",
   "metadata": {},
   "outputs": [],
   "source": [
    "import numpy as np\n",
    "import pandas as pd"
   ]
  },
  {
   "cell_type": "code",
   "execution_count": 2,
   "id": "a50278e9",
   "metadata": {},
   "outputs": [],
   "source": [
    "# Function that returns number of rows and count of unique PatientIDs for a dataframe. \n",
    "def row_ID(dataframe):\n",
    "    row = dataframe.shape[0]\n",
    "    ID = dataframe['PatientID'].nunique()\n",
    "    return row, ID"
   ]
  },
  {
   "cell_type": "code",
   "execution_count": 3,
   "id": "f9d88e5d",
   "metadata": {},
   "outputs": [
    {
     "name": "stdout",
     "output_type": "stream",
     "text": [
      "25341 True\n"
     ]
    }
   ],
   "source": [
    "train = pd.read_csv('train_full.csv')\n",
    "print(len(train), train.PatientID.is_unique)"
   ]
  },
  {
   "cell_type": "code",
   "execution_count": 4,
   "id": "5094b331",
   "metadata": {},
   "outputs": [
    {
     "name": "stdout",
     "output_type": "stream",
     "text": [
      "6336 True\n"
     ]
    }
   ],
   "source": [
    "test = pd.read_csv('test_full.csv')\n",
    "print(len(test), test.PatientID.is_unique)"
   ]
  },
  {
   "cell_type": "markdown",
   "id": "53e49b57",
   "metadata": {},
   "source": [
    "### Training set "
   ]
  },
  {
   "cell_type": "code",
   "execution_count": 5,
   "id": "11ca4e47",
   "metadata": {},
   "outputs": [],
   "source": [
    "train_cox = (\n",
    "    train\n",
    "    .filter(items = [\n",
    "        'PatientID',\n",
    "        'age',\n",
    "        'delta_met_diagnosis',\n",
    "        'ER', \n",
    "        'PR',\n",
    "        'HER2',\n",
    "        'ecog_diagnosis',\n",
    "        'race', \n",
    "        'death_status',\n",
    "        'timerisk_activity'])\n",
    ")"
   ]
  },
  {
   "cell_type": "markdown",
   "id": "0a5473a7",
   "metadata": {},
   "source": [
    "#### De novo and metastasis-free interval\n",
    "* de novo\n",
    "* MFI <24 months\n",
    "* MFI >=24 months"
   ]
  },
  {
   "cell_type": "code",
   "execution_count": 6,
   "id": "c153b43a",
   "metadata": {},
   "outputs": [],
   "source": [
    "conditions = [\n",
    "    train_cox['delta_met_diagnosis'] == 0,\n",
    "    (train_cox['delta_met_diagnosis'] != 0) & (train_cox['delta_met_diagnosis'] < 730),\n",
    "    (train_cox['delta_met_diagnosis'] != 0) & (train_cox['delta_met_diagnosis'] >= 730)\n",
    "]    \n",
    "\n",
    "choices = ['de_novo',\n",
    "           'l24',\n",
    "           'ge24']\n",
    "    \n",
    "train_cox.loc[:, 'dn_recurrent'] = np.select(conditions, choices)"
   ]
  },
  {
   "cell_type": "code",
   "execution_count": 7,
   "id": "e6e2785e",
   "metadata": {},
   "outputs": [
    {
     "data": {
      "text/plain": [
       "ge24       0.519672\n",
       "de_novo    0.312340\n",
       "l24        0.167989\n",
       "Name: dn_recurrent, dtype: float64"
      ]
     },
     "execution_count": 7,
     "metadata": {},
     "output_type": "execute_result"
    }
   ],
   "source": [
    "train_cox.dn_recurrent.value_counts(normalize = True, dropna = False)"
   ]
  },
  {
   "cell_type": "markdown",
   "id": "ab7b31ab",
   "metadata": {},
   "source": [
    "#### HR and HER2 status\n",
    "* HR-positive and HER2-negative\n",
    "* HR and HER2-positive\n",
    "* HR-negative and HER2-positive\n",
    "* Triple-negative"
   ]
  },
  {
   "cell_type": "code",
   "execution_count": 8,
   "id": "2780d750",
   "metadata": {},
   "outputs": [],
   "source": [
    "conditions = [\n",
    "    ((train_cox['ER'] == 'positive') | (train_cox['PR'] == 'positive')) & (train_cox['HER2'] == 'negative'),\n",
    "    ((train_cox['ER'] == 'positive') | (train_cox['PR'] == 'positive')) & (train_cox['HER2'] == 'positive'),\n",
    "    ((train_cox['ER'] == 'negative') & (train_cox['PR'] == 'negative')) & (train_cox['HER2'] == 'positive'),\n",
    "    (train_cox['ER'] == 'negative') & (train_cox['PR'] == 'negative') & (train_cox['HER2'] == 'negative')\n",
    "]    \n",
    "\n",
    "choices = ['hrp_her2n',\n",
    "           'hrp_her2p',\n",
    "           'hrn_her2p',\n",
    "           'trip_neg']\n",
    "    \n",
    "train_cox.loc[:, 'hr_her2'] = np.select(conditions, choices, default = 'unknown')"
   ]
  },
  {
   "cell_type": "code",
   "execution_count": 9,
   "id": "bf412b1f",
   "metadata": {},
   "outputs": [
    {
     "data": {
      "text/plain": [
       "hrp_her2n    0.525433\n",
       "unknown      0.190876\n",
       "trip_neg     0.135551\n",
       "hrp_her2p    0.097826\n",
       "hrn_her2p    0.050314\n",
       "Name: hr_her2, dtype: float64"
      ]
     },
     "execution_count": 9,
     "metadata": {},
     "output_type": "execute_result"
    }
   ],
   "source": [
    "train_cox.hr_her2.value_counts(normalize = True)"
   ]
  },
  {
   "cell_type": "markdown",
   "id": "06facc57",
   "metadata": {},
   "source": [
    "#### Organs involved \n",
    "* Nonvisceral (ie., soft tissue, lymphadenopathy, skin, and bone)\n",
    "* Bone-only\n",
    "* Visceral, non-CNS\n",
    "* CNS"
   ]
  },
  {
   "cell_type": "code",
   "execution_count": 10,
   "id": "e0bd25d1",
   "metadata": {},
   "outputs": [],
   "source": [
    "mets = pd.read_csv('Enhanced_MetBreastSitesOfMet.csv')"
   ]
  },
  {
   "cell_type": "code",
   "execution_count": 11,
   "id": "990fd96c",
   "metadata": {},
   "outputs": [],
   "source": [
    "mets = mets[mets['PatientID'].isin(train_cox['PatientID'])]"
   ]
  },
  {
   "cell_type": "code",
   "execution_count": 12,
   "id": "82297acc",
   "metadata": {},
   "outputs": [
    {
     "data": {
      "text/plain": [
       "(62969, 25234)"
      ]
     },
     "execution_count": 12,
     "metadata": {},
     "output_type": "execute_result"
    }
   ],
   "source": [
    "row_ID(mets)"
   ]
  },
  {
   "cell_type": "code",
   "execution_count": 13,
   "id": "81d4bb0b",
   "metadata": {},
   "outputs": [
    {
     "data": {
      "text/html": [
       "<div>\n",
       "<style scoped>\n",
       "    .dataframe tbody tr th:only-of-type {\n",
       "        vertical-align: middle;\n",
       "    }\n",
       "\n",
       "    .dataframe tbody tr th {\n",
       "        vertical-align: top;\n",
       "    }\n",
       "\n",
       "    .dataframe thead th {\n",
       "        text-align: right;\n",
       "    }\n",
       "</style>\n",
       "<table border=\"1\" class=\"dataframe\">\n",
       "  <thead>\n",
       "    <tr style=\"text-align: right;\">\n",
       "      <th></th>\n",
       "      <th>PatientID</th>\n",
       "      <th>DateOfMetastasis</th>\n",
       "      <th>SiteOfMetastasis</th>\n",
       "    </tr>\n",
       "  </thead>\n",
       "  <tbody>\n",
       "    <tr>\n",
       "      <th>58932</th>\n",
       "      <td>FE78885870648</td>\n",
       "      <td>2019-08</td>\n",
       "      <td>Lung</td>\n",
       "    </tr>\n",
       "    <tr>\n",
       "      <th>54790</th>\n",
       "      <td>F0B521B23CAD5</td>\n",
       "      <td>2022-01</td>\n",
       "      <td>Distant lymph node</td>\n",
       "    </tr>\n",
       "    <tr>\n",
       "      <th>21950</th>\n",
       "      <td>F49825FE6FCB4</td>\n",
       "      <td>2013-06</td>\n",
       "      <td>Lung</td>\n",
       "    </tr>\n",
       "    <tr>\n",
       "      <th>72942</th>\n",
       "      <td>FE37AC81588B1</td>\n",
       "      <td>2017-12</td>\n",
       "      <td>Distant lymph node</td>\n",
       "    </tr>\n",
       "    <tr>\n",
       "      <th>54144</th>\n",
       "      <td>FA5A3BBC89F9F</td>\n",
       "      <td>2020-12</td>\n",
       "      <td>Distant lymph node</td>\n",
       "    </tr>\n",
       "  </tbody>\n",
       "</table>\n",
       "</div>"
      ],
      "text/plain": [
       "           PatientID DateOfMetastasis    SiteOfMetastasis\n",
       "58932  FE78885870648          2019-08                Lung\n",
       "54790  F0B521B23CAD5          2022-01  Distant lymph node\n",
       "21950  F49825FE6FCB4          2013-06                Lung\n",
       "72942  FE37AC81588B1          2017-12  Distant lymph node\n",
       "54144  FA5A3BBC89F9F          2020-12  Distant lymph node"
      ]
     },
     "execution_count": 13,
     "metadata": {},
     "output_type": "execute_result"
    }
   ],
   "source": [
    "mets.sample(5)"
   ]
  },
  {
   "cell_type": "code",
   "execution_count": 14,
   "id": "22935dbe",
   "metadata": {},
   "outputs": [],
   "source": [
    "mets.loc[:, 'DateOfMetastasis'] = pd.to_datetime(mets['DateOfMetastasis'])"
   ]
  },
  {
   "cell_type": "code",
   "execution_count": 15,
   "id": "3378010d",
   "metadata": {},
   "outputs": [],
   "source": [
    "enhanced_met = pd.read_csv('Enhanced_MetastaticBreast.csv')"
   ]
  },
  {
   "cell_type": "code",
   "execution_count": 16,
   "id": "60388ff8",
   "metadata": {},
   "outputs": [],
   "source": [
    "enhanced_met = enhanced_met[enhanced_met['PatientID'].isin(train_cox['PatientID'])]"
   ]
  },
  {
   "cell_type": "code",
   "execution_count": 17,
   "id": "0247630d",
   "metadata": {},
   "outputs": [
    {
     "data": {
      "text/plain": [
       "(25341, 25341)"
      ]
     },
     "execution_count": 17,
     "metadata": {},
     "output_type": "execute_result"
    }
   ],
   "source": [
    "row_ID(enhanced_met)"
   ]
  },
  {
   "cell_type": "code",
   "execution_count": 18,
   "id": "49c63561",
   "metadata": {},
   "outputs": [],
   "source": [
    "enhanced_met.loc[:, 'MetDiagnosisDate'] = pd.to_datetime(enhanced_met['MetDiagnosisDate'])"
   ]
  },
  {
   "cell_type": "code",
   "execution_count": 19,
   "id": "4a7036b8",
   "metadata": {},
   "outputs": [],
   "source": [
    "mets = pd.merge(mets, enhanced_met[['PatientID', 'MetDiagnosisDate']], on = 'PatientID', how = 'left')"
   ]
  },
  {
   "cell_type": "code",
   "execution_count": 20,
   "id": "febbf0a6",
   "metadata": {},
   "outputs": [],
   "source": [
    "mets.loc[:, 'date_diff'] = (mets['DateOfMetastasis'] - mets['MetDiagnosisDate']).dt.days"
   ]
  },
  {
   "cell_type": "code",
   "execution_count": 21,
   "id": "d70577a8",
   "metadata": {},
   "outputs": [],
   "source": [
    "mets = mets.query('date_diff <= 30')"
   ]
  },
  {
   "cell_type": "code",
   "execution_count": 22,
   "id": "fb2e6cb9",
   "metadata": {},
   "outputs": [
    {
     "data": {
      "text/plain": [
       "Bone                  0.356779\n",
       "Lung                  0.161228\n",
       "Distant lymph node    0.151943\n",
       "Liver                 0.124087\n",
       "Pleura                0.052285\n",
       "Brain                 0.037276\n",
       "Other                 0.024497\n",
       "Skin                  0.019246\n",
       "Soft tissue           0.018300\n",
       "Peritoneum            0.013973\n",
       "Bone marrow           0.012373\n",
       "Adrenal               0.010637\n",
       "CNS site              0.008992\n",
       "Ovary                 0.003854\n",
       "Spleen                0.001893\n",
       "Pancreas              0.001240\n",
       "Kidney                0.000969\n",
       "Thyroid               0.000428\n",
       "Name: SiteOfMetastasis, dtype: float64"
      ]
     },
     "execution_count": 22,
     "metadata": {},
     "output_type": "execute_result"
    }
   ],
   "source": [
    "mets.SiteOfMetastasis.value_counts(normalize = True)"
   ]
  },
  {
   "cell_type": "code",
   "execution_count": 23,
   "id": "48a0fe49",
   "metadata": {},
   "outputs": [],
   "source": [
    "mets_wide = mets.groupby('PatientID')['SiteOfMetastasis'].apply(','.join).reset_index()"
   ]
  },
  {
   "cell_type": "code",
   "execution_count": 24,
   "id": "4d6496cc",
   "metadata": {},
   "outputs": [
    {
     "data": {
      "text/html": [
       "<div>\n",
       "<style scoped>\n",
       "    .dataframe tbody tr th:only-of-type {\n",
       "        vertical-align: middle;\n",
       "    }\n",
       "\n",
       "    .dataframe tbody tr th {\n",
       "        vertical-align: top;\n",
       "    }\n",
       "\n",
       "    .dataframe thead th {\n",
       "        text-align: right;\n",
       "    }\n",
       "</style>\n",
       "<table border=\"1\" class=\"dataframe\">\n",
       "  <thead>\n",
       "    <tr style=\"text-align: right;\">\n",
       "      <th></th>\n",
       "      <th>PatientID</th>\n",
       "      <th>SiteOfMetastasis</th>\n",
       "    </tr>\n",
       "  </thead>\n",
       "  <tbody>\n",
       "    <tr>\n",
       "      <th>3914</th>\n",
       "      <td>F27EEA657AC06</td>\n",
       "      <td>Bone</td>\n",
       "    </tr>\n",
       "    <tr>\n",
       "      <th>1800</th>\n",
       "      <td>F1312F93EAB67</td>\n",
       "      <td>Distant lymph node,Other</td>\n",
       "    </tr>\n",
       "    <tr>\n",
       "      <th>19469</th>\n",
       "      <td>FC6ACA3C389EB</td>\n",
       "      <td>Bone,Distant lymph node,Liver</td>\n",
       "    </tr>\n",
       "  </tbody>\n",
       "</table>\n",
       "</div>"
      ],
      "text/plain": [
       "           PatientID               SiteOfMetastasis\n",
       "3914   F27EEA657AC06                           Bone\n",
       "1800   F1312F93EAB67       Distant lymph node,Other\n",
       "19469  FC6ACA3C389EB  Bone,Distant lymph node,Liver"
      ]
     },
     "execution_count": 24,
     "metadata": {},
     "output_type": "execute_result"
    }
   ],
   "source": [
    "mets_wide.sample(3)"
   ]
  },
  {
   "cell_type": "code",
   "execution_count": 25,
   "id": "21a8db84",
   "metadata": {},
   "outputs": [
    {
     "data": {
      "text/plain": [
       "(25105, 25105)"
      ]
     },
     "execution_count": 25,
     "metadata": {},
     "output_type": "execute_result"
    }
   ],
   "source": [
    "row_ID(mets_wide)"
   ]
  },
  {
   "cell_type": "code",
   "execution_count": 26,
   "id": "05e44464",
   "metadata": {},
   "outputs": [],
   "source": [
    "not_bone = mets.SiteOfMetastasis.unique().tolist()\n",
    "not_bone.remove('Bone')\n",
    "not_bone.remove('Bone marrow')"
   ]
  },
  {
   "cell_type": "code",
   "execution_count": 27,
   "id": "53ef74b9",
   "metadata": {},
   "outputs": [
    {
     "data": {
      "text/plain": [
       "['Distant lymph node',\n",
       " 'Lung',\n",
       " 'Pleura',\n",
       " 'Liver',\n",
       " 'Skin',\n",
       " 'Brain',\n",
       " 'Other',\n",
       " 'Soft tissue',\n",
       " 'Peritoneum',\n",
       " 'Adrenal',\n",
       " 'CNS site',\n",
       " 'Pancreas',\n",
       " 'Ovary',\n",
       " 'Spleen',\n",
       " 'Kidney',\n",
       " 'Thyroid']"
      ]
     },
     "execution_count": 27,
     "metadata": {},
     "output_type": "execute_result"
    }
   ],
   "source": [
    "not_bone"
   ]
  },
  {
   "cell_type": "code",
   "execution_count": 28,
   "id": "c3d52565",
   "metadata": {},
   "outputs": [],
   "source": [
    "visceral_cns = mets.SiteOfMetastasis.unique().tolist()\n",
    "visceral_cns.remove('Distant lymph node')\n",
    "visceral_cns.remove('Skin')\n",
    "visceral_cns.remove('Soft tissue')\n",
    "visceral_cns.remove('Bone')\n",
    "visceral_cns.remove('Bone marrow')"
   ]
  },
  {
   "cell_type": "code",
   "execution_count": 29,
   "id": "ac66767a",
   "metadata": {},
   "outputs": [
    {
     "data": {
      "text/plain": [
       "['Lung',\n",
       " 'Pleura',\n",
       " 'Liver',\n",
       " 'Brain',\n",
       " 'Other',\n",
       " 'Peritoneum',\n",
       " 'Adrenal',\n",
       " 'CNS site',\n",
       " 'Pancreas',\n",
       " 'Ovary',\n",
       " 'Spleen',\n",
       " 'Kidney',\n",
       " 'Thyroid']"
      ]
     },
     "execution_count": 29,
     "metadata": {},
     "output_type": "execute_result"
    }
   ],
   "source": [
    "visceral_cns"
   ]
  },
  {
   "cell_type": "code",
   "execution_count": 30,
   "id": "7e20ab5c",
   "metadata": {},
   "outputs": [],
   "source": [
    "bone_only_IDs = (\n",
    "    mets_wide[mets_wide['SiteOfMetastasis'].str.contains('Bone|Bone marrow') & \n",
    "             ~mets_wide['SiteOfMetastasis'].str.contains('|'.join(not_bone))]\n",
    "    .PatientID\n",
    ")"
   ]
  },
  {
   "cell_type": "code",
   "execution_count": 31,
   "id": "fb7e4dc3",
   "metadata": {},
   "outputs": [],
   "source": [
    "cns_IDs = (\n",
    "    mets_wide[mets_wide['SiteOfMetastasis'].str.contains('Brain|CNS site')]\n",
    "    .PatientID\n",
    ")"
   ]
  },
  {
   "cell_type": "code",
   "execution_count": 32,
   "id": "2262eade",
   "metadata": {},
   "outputs": [],
   "source": [
    "nonvisceral = (\n",
    "    mets_wide[mets_wide['SiteOfMetastasis'].str.contains('Distant lymph node|'\n",
    "                                                         'Skin|'\n",
    "                                                         'Soft tissue|'\n",
    "                                                         'Bone|'\n",
    "                                                         'Bone marrow') & \n",
    "             ~mets_wide['SiteOfMetastasis'].str.contains('|'.join(visceral_cns))]\n",
    ")"
   ]
  },
  {
   "cell_type": "code",
   "execution_count": 33,
   "id": "7f8d86b2",
   "metadata": {},
   "outputs": [],
   "source": [
    "nonvisceral_IDs = nonvisceral[~nonvisceral.PatientID.isin(bone_only_IDs)].PatientID"
   ]
  },
  {
   "cell_type": "code",
   "execution_count": 34,
   "id": "50a49a05",
   "metadata": {},
   "outputs": [],
   "source": [
    "bone_cns_nonvisceral = np.concatenate([bone_only_IDs, cns_IDs, nonvisceral_IDs])"
   ]
  },
  {
   "cell_type": "code",
   "execution_count": 35,
   "id": "e67d3e95",
   "metadata": {},
   "outputs": [],
   "source": [
    "visceral_IDs = mets_wide[~mets_wide.PatientID.isin(bone_cns_nonvisceral)].PatientID"
   ]
  },
  {
   "cell_type": "code",
   "execution_count": 36,
   "id": "05347f69",
   "metadata": {},
   "outputs": [
    {
     "data": {
      "text/plain": [
       "True"
      ]
     },
     "execution_count": 36,
     "metadata": {},
     "output_type": "execute_result"
    }
   ],
   "source": [
    "len(bone_only_IDs) + len(cns_IDs) + len(nonvisceral_IDs) + len(visceral_IDs) == len(mets_wide)"
   ]
  },
  {
   "cell_type": "code",
   "execution_count": 37,
   "id": "4f3a08ac",
   "metadata": {},
   "outputs": [],
   "source": [
    "conditions = [\n",
    "    (train_cox['PatientID'].isin(bone_only_IDs)),\n",
    "    (train_cox['PatientID'].isin(cns_IDs)),\n",
    "    (train_cox['PatientID'].isin(nonvisceral_IDs)),\n",
    "    (train_cox['PatientID'].isin(visceral_IDs))\n",
    "]    \n",
    "\n",
    "choices = ['bone_only',\n",
    "           'cns',\n",
    "           'nonvisceral',\n",
    "           'visceral_ncns']\n",
    "    \n",
    "train_cox.loc[:, 'met_site'] = np.select(conditions, choices, default = 'unknown')"
   ]
  },
  {
   "cell_type": "code",
   "execution_count": 38,
   "id": "7abd4db6",
   "metadata": {},
   "outputs": [
    {
     "data": {
      "text/plain": [
       "visceral_ncns    0.482854\n",
       "bone_only        0.310722\n",
       "nonvisceral      0.122252\n",
       "cns              0.074859\n",
       "unknown          0.009313\n",
       "Name: met_site, dtype: float64"
      ]
     },
     "execution_count": 38,
     "metadata": {},
     "output_type": "execute_result"
    }
   ],
   "source": [
    "train_cox.met_site.value_counts(normalize = True, dropna = False)"
   ]
  },
  {
   "cell_type": "markdown",
   "id": "6e267cba",
   "metadata": {},
   "source": [
    "#### Number of organs involved: 1, 2, 3, or >=4"
   ]
  },
  {
   "cell_type": "code",
   "execution_count": 39,
   "id": "d706f23c",
   "metadata": {},
   "outputs": [],
   "source": [
    "mets_count = (\n",
    "    mets\n",
    "    .groupby('PatientID')['SiteOfMetastasis'].count()\n",
    "    .reset_index()\n",
    "    .rename(columns = {'SiteOfMetastasis': 'organ_number'})\n",
    ")"
   ]
  },
  {
   "cell_type": "code",
   "execution_count": 40,
   "id": "1691ae64",
   "metadata": {},
   "outputs": [],
   "source": [
    "mets_count['organ_number'] = np.where(mets_count['organ_number'] >= 4, 4, mets_count['organ_number'])"
   ]
  },
  {
   "cell_type": "code",
   "execution_count": 41,
   "id": "8e30e733",
   "metadata": {},
   "outputs": [
    {
     "data": {
      "text/plain": [
       "1    0.546385\n",
       "2    0.253774\n",
       "3    0.122884\n",
       "4    0.076957\n",
       "Name: organ_number, dtype: float64"
      ]
     },
     "execution_count": 41,
     "metadata": {},
     "output_type": "execute_result"
    }
   ],
   "source": [
    "mets_count.organ_number.value_counts(normalize = True, dropna = False)"
   ]
  },
  {
   "cell_type": "code",
   "execution_count": 42,
   "id": "5f2182b6",
   "metadata": {},
   "outputs": [
    {
     "data": {
      "text/plain": [
       "(25341, 25341)"
      ]
     },
     "execution_count": 42,
     "metadata": {},
     "output_type": "execute_result"
    }
   ],
   "source": [
    "row_ID(train_cox)"
   ]
  },
  {
   "cell_type": "code",
   "execution_count": 43,
   "id": "e8dcfe95",
   "metadata": {},
   "outputs": [],
   "source": [
    "train_cox = pd.merge(train_cox, mets_count, on = 'PatientID', how = 'left')"
   ]
  },
  {
   "cell_type": "code",
   "execution_count": 44,
   "id": "dab8a450",
   "metadata": {},
   "outputs": [
    {
     "data": {
      "text/plain": [
       "(25341, 25341)"
      ]
     },
     "execution_count": 44,
     "metadata": {},
     "output_type": "execute_result"
    }
   ],
   "source": [
    "row_ID(train_cox)"
   ]
  },
  {
   "cell_type": "code",
   "execution_count": 45,
   "id": "944ad7a5",
   "metadata": {},
   "outputs": [
    {
     "data": {
      "text/plain": [
       "1.0    0.541297\n",
       "2.0    0.251411\n",
       "3.0    0.121739\n",
       "4.0    0.076240\n",
       "NaN    0.009313\n",
       "Name: organ_number, dtype: float64"
      ]
     },
     "execution_count": 45,
     "metadata": {},
     "output_type": "execute_result"
    }
   ],
   "source": [
    "train_cox.organ_number.value_counts(normalize = True, dropna = False)"
   ]
  },
  {
   "cell_type": "markdown",
   "id": "b671a951",
   "metadata": {},
   "source": [
    "#### Race or ethnicity\n",
    "* White\n",
    "* Black\n",
    "* Others"
   ]
  },
  {
   "cell_type": "code",
   "execution_count": 46,
   "id": "685eb8c8",
   "metadata": {},
   "outputs": [
    {
     "data": {
      "text/plain": [
       "White                        0.642911\n",
       "Black or African American    0.117951\n",
       "Other Race                   0.116846\n",
       "unknown                      0.101732\n",
       "Asian                        0.020560\n",
       "Name: race, dtype: float64"
      ]
     },
     "execution_count": 46,
     "metadata": {},
     "output_type": "execute_result"
    }
   ],
   "source": [
    "train_cox.race.value_counts(normalize = True, dropna = False)"
   ]
  },
  {
   "cell_type": "code",
   "execution_count": 47,
   "id": "57aebfec",
   "metadata": {},
   "outputs": [],
   "source": [
    "train_cox['race'] = np.where(train_cox['race'] == 'Asian', 'Other Race', train_cox['race'])"
   ]
  },
  {
   "cell_type": "code",
   "execution_count": 48,
   "id": "08db901f",
   "metadata": {},
   "outputs": [
    {
     "data": {
      "text/plain": [
       "White                        0.642911\n",
       "Other Race                   0.137406\n",
       "Black or African American    0.117951\n",
       "unknown                      0.101732\n",
       "Name: race, dtype: float64"
      ]
     },
     "execution_count": 48,
     "metadata": {},
     "output_type": "execute_result"
    }
   ],
   "source": [
    "train_cox.race.value_counts(normalize = True, dropna = False)"
   ]
  },
  {
   "cell_type": "markdown",
   "id": "32ce2d3e",
   "metadata": {},
   "source": [
    "#### Interaction between de novo and recurrent MBC status and HR and HER2 status\n",
    "* De novo MBC or HR-positive and HER2-negative\n",
    "* Recurrent MBC and HR and HER2-positive\n",
    "* Recurrent MBC and HR-negative and HER2-positive\n",
    "* Recurrent MBC and triple-negative "
   ]
  },
  {
   "cell_type": "code",
   "execution_count": 49,
   "id": "a7a63edc",
   "metadata": {},
   "outputs": [],
   "source": [
    "conditions = [\n",
    "    (train_cox['dn_recurrent'] == 'de_novo') | (train_cox['hr_her2'] == 'hrp_her2n'),\n",
    "    ((train_cox['dn_recurrent'] == 'ge24') | (train_cox['dn_recurrent'] == 'l24')) & (train_cox['hr_her2'] == 'hrp_her2p'),\n",
    "    ((train_cox['dn_recurrent'] == 'ge24') | (train_cox['dn_recurrent'] == 'l24')) & (train_cox['hr_her2'] == 'hrn_her2p'),\n",
    "    ((train_cox['dn_recurrent'] == 'ge24') | (train_cox['dn_recurrent'] == 'l24')) & (train_cox['hr_her2'] == 'trip_neg')\n",
    "]    \n",
    "\n",
    "choices = ['dn_hrp_her2n',\n",
    "           'r_hrp_her2p',\n",
    "           'r_hrn_her2p',\n",
    "           'r_trip_neg']\n",
    "    \n",
    "train_cox.loc[:, 'recurrent_biomarker'] = np.select(conditions, choices, default = 'unknown')"
   ]
  },
  {
   "cell_type": "markdown",
   "id": "db2aa9c2",
   "metadata": {},
   "source": [
    "**Frontline biotherapy (trastuzumab and/or pertuzumab) and HT not included in the model since machine learning models do not include therapy.**"
   ]
  },
  {
   "cell_type": "markdown",
   "id": "f701961e",
   "metadata": {},
   "source": [
    "### Test set "
   ]
  },
  {
   "cell_type": "code",
   "execution_count": 50,
   "id": "efd635b3",
   "metadata": {},
   "outputs": [],
   "source": [
    "test_cox = (\n",
    "    test\n",
    "    .filter(items = [\n",
    "        'PatientID',\n",
    "        'age',\n",
    "        'delta_met_diagnosis',\n",
    "        'ER', \n",
    "        'PR',\n",
    "        'HER2',\n",
    "        'ecog_diagnosis',\n",
    "        'race', \n",
    "        'death_status',\n",
    "        'timerisk_activity'])\n",
    ")"
   ]
  },
  {
   "cell_type": "markdown",
   "id": "ce6882a5",
   "metadata": {},
   "source": [
    "#### De novo and metastasis-free interval\n",
    "* de novo\n",
    "* MFI <24 months\n",
    "* MFI >=24 months"
   ]
  },
  {
   "cell_type": "code",
   "execution_count": 51,
   "id": "48dac0e9",
   "metadata": {},
   "outputs": [],
   "source": [
    "conditions = [\n",
    "    test_cox['delta_met_diagnosis'] == 0,\n",
    "    (test_cox['delta_met_diagnosis'] != 0) & (test_cox['delta_met_diagnosis'] < 730),\n",
    "    (test_cox['delta_met_diagnosis'] != 0) & (test_cox['delta_met_diagnosis'] >= 730)\n",
    "]    \n",
    "\n",
    "choices = ['de_novo',\n",
    "           'l24',\n",
    "           'ge24']\n",
    "    \n",
    "test_cox.loc[:, 'dn_recurrent'] = np.select(conditions, choices)"
   ]
  },
  {
   "cell_type": "markdown",
   "id": "186d3c7b",
   "metadata": {},
   "source": [
    "#### HR and HER2 status\n",
    "* HR-positive and HER2-negative\n",
    "* HR and HER2-positive\n",
    "* HR-negative and HER2-positive\n",
    "* Triple-negative"
   ]
  },
  {
   "cell_type": "code",
   "execution_count": 52,
   "id": "fcc0639c",
   "metadata": {},
   "outputs": [],
   "source": [
    "conditions = [\n",
    "    ((test_cox['ER'] == 'positive') | (test_cox['PR'] == 'positive')) & (test_cox['HER2'] == 'negative'),\n",
    "    ((test_cox['ER'] == 'positive') | (test_cox['PR'] == 'positive')) & (test_cox['HER2'] == 'positive'),\n",
    "    ((test_cox['ER'] == 'negative') & (test_cox['PR'] == 'negative')) & (test_cox['HER2'] == 'positive'),\n",
    "    (test_cox['ER'] == 'negative') & (test_cox['PR'] == 'negative') & (test_cox['HER2'] == 'negative')\n",
    "]    \n",
    "\n",
    "choices = ['hrp_her2n',\n",
    "           'hrp_her2p',\n",
    "           'hrn_her2p',\n",
    "           'trip_neg']\n",
    "    \n",
    "test_cox.loc[:, 'hr_her2'] = np.select(conditions, choices, default = 'unknown')"
   ]
  },
  {
   "cell_type": "markdown",
   "id": "c9328254",
   "metadata": {},
   "source": [
    "#### Organs involved \n",
    "* Nonvisceral (ie., soft tissue, lymphadenopathy, skin, and bone)\n",
    "* Bone-only\n",
    "* Visceral, non-CNS\n",
    "* CNS"
   ]
  },
  {
   "cell_type": "code",
   "execution_count": 53,
   "id": "3eab1c25",
   "metadata": {},
   "outputs": [],
   "source": [
    "mets = pd.read_csv('Enhanced_MetBreastSitesOfMet.csv')"
   ]
  },
  {
   "cell_type": "code",
   "execution_count": 54,
   "id": "dec6a1a8",
   "metadata": {},
   "outputs": [],
   "source": [
    "mets = mets[mets['PatientID'].isin(test_cox['PatientID'])]"
   ]
  },
  {
   "cell_type": "code",
   "execution_count": 55,
   "id": "9cc8c125",
   "metadata": {},
   "outputs": [
    {
     "data": {
      "text/plain": [
       "(15986, 6306)"
      ]
     },
     "execution_count": 55,
     "metadata": {},
     "output_type": "execute_result"
    }
   ],
   "source": [
    "row_ID(mets)"
   ]
  },
  {
   "cell_type": "code",
   "execution_count": 56,
   "id": "ac14d945",
   "metadata": {},
   "outputs": [
    {
     "data": {
      "text/html": [
       "<div>\n",
       "<style scoped>\n",
       "    .dataframe tbody tr th:only-of-type {\n",
       "        vertical-align: middle;\n",
       "    }\n",
       "\n",
       "    .dataframe tbody tr th {\n",
       "        vertical-align: top;\n",
       "    }\n",
       "\n",
       "    .dataframe thead th {\n",
       "        text-align: right;\n",
       "    }\n",
       "</style>\n",
       "<table border=\"1\" class=\"dataframe\">\n",
       "  <thead>\n",
       "    <tr style=\"text-align: right;\">\n",
       "      <th></th>\n",
       "      <th>PatientID</th>\n",
       "      <th>DateOfMetastasis</th>\n",
       "      <th>SiteOfMetastasis</th>\n",
       "    </tr>\n",
       "  </thead>\n",
       "  <tbody>\n",
       "    <tr>\n",
       "      <th>14608</th>\n",
       "      <td>F68B6B363D4F7</td>\n",
       "      <td>2022-02</td>\n",
       "      <td>Distant lymph node</td>\n",
       "    </tr>\n",
       "    <tr>\n",
       "      <th>40378</th>\n",
       "      <td>F93F0003D40E5</td>\n",
       "      <td>2016-12</td>\n",
       "      <td>Pleura</td>\n",
       "    </tr>\n",
       "    <tr>\n",
       "      <th>6892</th>\n",
       "      <td>FC0280FA5FB34</td>\n",
       "      <td>2017-10</td>\n",
       "      <td>Liver</td>\n",
       "    </tr>\n",
       "    <tr>\n",
       "      <th>65815</th>\n",
       "      <td>F7FED801777F9</td>\n",
       "      <td>2011-10</td>\n",
       "      <td>Bone</td>\n",
       "    </tr>\n",
       "    <tr>\n",
       "      <th>37866</th>\n",
       "      <td>FD518B51CE1C8</td>\n",
       "      <td>2016-07</td>\n",
       "      <td>Pleura</td>\n",
       "    </tr>\n",
       "  </tbody>\n",
       "</table>\n",
       "</div>"
      ],
      "text/plain": [
       "           PatientID DateOfMetastasis    SiteOfMetastasis\n",
       "14608  F68B6B363D4F7          2022-02  Distant lymph node\n",
       "40378  F93F0003D40E5          2016-12              Pleura\n",
       "6892   FC0280FA5FB34          2017-10               Liver\n",
       "65815  F7FED801777F9          2011-10                Bone\n",
       "37866  FD518B51CE1C8          2016-07              Pleura"
      ]
     },
     "execution_count": 56,
     "metadata": {},
     "output_type": "execute_result"
    }
   ],
   "source": [
    "mets.sample(5)"
   ]
  },
  {
   "cell_type": "code",
   "execution_count": 57,
   "id": "0db9f8f7",
   "metadata": {},
   "outputs": [],
   "source": [
    "mets.loc[:, 'DateOfMetastasis'] = pd.to_datetime(mets['DateOfMetastasis'])"
   ]
  },
  {
   "cell_type": "code",
   "execution_count": 58,
   "id": "0f6cea4d",
   "metadata": {},
   "outputs": [],
   "source": [
    "enhanced_met = pd.read_csv('Enhanced_MetastaticBreast.csv')"
   ]
  },
  {
   "cell_type": "code",
   "execution_count": 59,
   "id": "7a3a3115",
   "metadata": {},
   "outputs": [],
   "source": [
    "enhanced_met = enhanced_met[enhanced_met['PatientID'].isin(test_cox['PatientID'])]"
   ]
  },
  {
   "cell_type": "code",
   "execution_count": 60,
   "id": "4fc08f2d",
   "metadata": {},
   "outputs": [
    {
     "data": {
      "text/plain": [
       "(6336, 6336)"
      ]
     },
     "execution_count": 60,
     "metadata": {},
     "output_type": "execute_result"
    }
   ],
   "source": [
    "row_ID(enhanced_met)"
   ]
  },
  {
   "cell_type": "code",
   "execution_count": 61,
   "id": "c00bd6a8",
   "metadata": {},
   "outputs": [],
   "source": [
    "enhanced_met.loc[:, 'MetDiagnosisDate'] = pd.to_datetime(enhanced_met['MetDiagnosisDate'])"
   ]
  },
  {
   "cell_type": "code",
   "execution_count": 62,
   "id": "4e48fe28",
   "metadata": {},
   "outputs": [],
   "source": [
    "mets = pd.merge(mets, enhanced_met[['PatientID', 'MetDiagnosisDate']], on = 'PatientID', how = 'left')"
   ]
  },
  {
   "cell_type": "code",
   "execution_count": 63,
   "id": "22366e0c",
   "metadata": {},
   "outputs": [],
   "source": [
    "mets.loc[:, 'date_diff'] = (mets['DateOfMetastasis'] - mets['MetDiagnosisDate']).dt.days"
   ]
  },
  {
   "cell_type": "code",
   "execution_count": 64,
   "id": "a3d37a4b",
   "metadata": {},
   "outputs": [],
   "source": [
    "mets = mets.query('date_diff <= 30')"
   ]
  },
  {
   "cell_type": "code",
   "execution_count": 65,
   "id": "d89f0408",
   "metadata": {},
   "outputs": [],
   "source": [
    "mets_wide = mets.groupby('PatientID')['SiteOfMetastasis'].apply(','.join).reset_index()"
   ]
  },
  {
   "cell_type": "code",
   "execution_count": 66,
   "id": "19a9df03",
   "metadata": {},
   "outputs": [
    {
     "data": {
      "text/plain": [
       "(6271, 6271)"
      ]
     },
     "execution_count": 66,
     "metadata": {},
     "output_type": "execute_result"
    }
   ],
   "source": [
    "row_ID(mets_wide)"
   ]
  },
  {
   "cell_type": "code",
   "execution_count": 67,
   "id": "0fae37a2",
   "metadata": {},
   "outputs": [],
   "source": [
    "not_bone = mets.SiteOfMetastasis.unique().tolist()\n",
    "not_bone.remove('Bone')\n",
    "not_bone.remove('Bone marrow')"
   ]
  },
  {
   "cell_type": "code",
   "execution_count": 68,
   "id": "e93d2552",
   "metadata": {},
   "outputs": [],
   "source": [
    "visceral_cns = mets.SiteOfMetastasis.unique().tolist()\n",
    "visceral_cns.remove('Distant lymph node')\n",
    "visceral_cns.remove('Skin')\n",
    "visceral_cns.remove('Soft tissue')\n",
    "visceral_cns.remove('Bone')\n",
    "visceral_cns.remove('Bone marrow')"
   ]
  },
  {
   "cell_type": "code",
   "execution_count": 69,
   "id": "d136e44d",
   "metadata": {},
   "outputs": [],
   "source": [
    "bone_only_IDs = (\n",
    "    mets_wide[mets_wide['SiteOfMetastasis'].str.contains('Bone|Bone marrow') & \n",
    "             ~mets_wide['SiteOfMetastasis'].str.contains('|'.join(not_bone))]\n",
    "    .PatientID\n",
    ")"
   ]
  },
  {
   "cell_type": "code",
   "execution_count": 70,
   "id": "cd480ffe",
   "metadata": {},
   "outputs": [],
   "source": [
    "cns_IDs = (\n",
    "    mets_wide[mets_wide['SiteOfMetastasis'].str.contains('Brain|CNS site')]\n",
    "    .PatientID\n",
    ")"
   ]
  },
  {
   "cell_type": "code",
   "execution_count": 71,
   "id": "85e84818",
   "metadata": {},
   "outputs": [],
   "source": [
    "nonvisceral = (\n",
    "    mets_wide[mets_wide['SiteOfMetastasis'].str.contains('Distant lymph node|'\n",
    "                                                         'Skin|'\n",
    "                                                         'Soft tissue|'\n",
    "                                                         'Bone|'\n",
    "                                                         'Bone marrow') & \n",
    "             ~mets_wide['SiteOfMetastasis'].str.contains('|'.join(visceral_cns))]\n",
    ")"
   ]
  },
  {
   "cell_type": "code",
   "execution_count": 72,
   "id": "c3b32401",
   "metadata": {},
   "outputs": [],
   "source": [
    "nonvisceral_IDs = nonvisceral[~nonvisceral.PatientID.isin(bone_only_IDs)].PatientID"
   ]
  },
  {
   "cell_type": "code",
   "execution_count": 73,
   "id": "16d59389",
   "metadata": {},
   "outputs": [],
   "source": [
    "bone_cns_nonvisceral = np.concatenate([bone_only_IDs, cns_IDs, nonvisceral_IDs])"
   ]
  },
  {
   "cell_type": "code",
   "execution_count": 74,
   "id": "699a9a9f",
   "metadata": {},
   "outputs": [],
   "source": [
    "visceral_IDs = mets_wide[~mets_wide.PatientID.isin(bone_cns_nonvisceral)].PatientID"
   ]
  },
  {
   "cell_type": "code",
   "execution_count": 75,
   "id": "e48be792",
   "metadata": {},
   "outputs": [
    {
     "data": {
      "text/plain": [
       "True"
      ]
     },
     "execution_count": 75,
     "metadata": {},
     "output_type": "execute_result"
    }
   ],
   "source": [
    "len(bone_only_IDs) + len(cns_IDs) + len(nonvisceral_IDs) + len(visceral_IDs) == len(mets_wide)"
   ]
  },
  {
   "cell_type": "code",
   "execution_count": 76,
   "id": "f03629e1",
   "metadata": {},
   "outputs": [],
   "source": [
    "conditions = [\n",
    "    (test_cox['PatientID'].isin(bone_only_IDs)),\n",
    "    (test_cox['PatientID'].isin(cns_IDs)),\n",
    "    (test_cox['PatientID'].isin(nonvisceral_IDs)),\n",
    "    (test_cox['PatientID'].isin(visceral_IDs))\n",
    "]    \n",
    "\n",
    "choices = ['bone_only',\n",
    "           'cns',\n",
    "           'nonvisceral',\n",
    "           'visceral_ncns']\n",
    "    \n",
    "test_cox.loc[:, 'met_site'] = np.select(conditions, choices, default = 'unknown')"
   ]
  },
  {
   "cell_type": "markdown",
   "id": "032ac54c",
   "metadata": {},
   "source": [
    "#### Number of organs involved: 1, 2, 3, or >=4"
   ]
  },
  {
   "cell_type": "code",
   "execution_count": 77,
   "id": "5ad88131",
   "metadata": {},
   "outputs": [],
   "source": [
    "mets_count = (\n",
    "    mets\n",
    "    .groupby('PatientID')['SiteOfMetastasis'].count()\n",
    "    .reset_index()\n",
    "    .rename(columns = {'SiteOfMetastasis': 'organ_number'})\n",
    ")"
   ]
  },
  {
   "cell_type": "code",
   "execution_count": 78,
   "id": "ba80c214",
   "metadata": {},
   "outputs": [],
   "source": [
    "mets_count['organ_number'] = np.where(mets_count['organ_number'] >= 4, 4, mets_count['organ_number'])"
   ]
  },
  {
   "cell_type": "code",
   "execution_count": 79,
   "id": "44f4cb93",
   "metadata": {},
   "outputs": [
    {
     "data": {
      "text/plain": [
       "(6336, 6336)"
      ]
     },
     "execution_count": 79,
     "metadata": {},
     "output_type": "execute_result"
    }
   ],
   "source": [
    "row_ID(test_cox)"
   ]
  },
  {
   "cell_type": "code",
   "execution_count": 80,
   "id": "eef9dbda",
   "metadata": {},
   "outputs": [],
   "source": [
    "test_cox = pd.merge(test_cox, mets_count, on = 'PatientID', how = 'left')"
   ]
  },
  {
   "cell_type": "code",
   "execution_count": 81,
   "id": "a1d4c31a",
   "metadata": {},
   "outputs": [
    {
     "data": {
      "text/plain": [
       "(6336, 6336)"
      ]
     },
     "execution_count": 81,
     "metadata": {},
     "output_type": "execute_result"
    }
   ],
   "source": [
    "row_ID(test_cox)"
   ]
  },
  {
   "cell_type": "markdown",
   "id": "ebc00cae",
   "metadata": {},
   "source": [
    "#### Race or ethnicity\n",
    "* White\n",
    "* Black\n",
    "* Others"
   ]
  },
  {
   "cell_type": "code",
   "execution_count": 82,
   "id": "3d05b2f6",
   "metadata": {},
   "outputs": [],
   "source": [
    "test_cox['race'] = np.where(test_cox['race'] == 'Asian', 'Other Race', test_cox['race'])"
   ]
  },
  {
   "cell_type": "markdown",
   "id": "e3a564de",
   "metadata": {},
   "source": [
    "#### Interaction between de novo and recurrent MBC status and HR and HER2 status\n",
    "* De novo MBC or HR-positive and HER2-negative\n",
    "* Recurrent MBC and HR and HER2-positive\n",
    "* Recurrent MBC and HR-negative and HER2-positive\n",
    "* Recurrent MBC and triple-negative "
   ]
  },
  {
   "cell_type": "code",
   "execution_count": 83,
   "id": "50fd0bf2",
   "metadata": {},
   "outputs": [],
   "source": [
    "conditions = [\n",
    "    (test_cox['dn_recurrent'] == 'de_novo') | (test_cox['hr_her2'] == 'hrp_her2n'),\n",
    "    ((test_cox['dn_recurrent'] == 'ge24') | (test_cox['dn_recurrent'] == 'l24')) & (test_cox['hr_her2'] == 'hrp_her2p'),\n",
    "    ((test_cox['dn_recurrent'] == 'ge24') | (test_cox['dn_recurrent'] == 'l24')) & (test_cox['hr_her2'] == 'hrn_her2p'),\n",
    "    ((test_cox['dn_recurrent'] == 'ge24') | (test_cox['dn_recurrent'] == 'l24')) & (test_cox['hr_her2'] == 'trip_neg')\n",
    "]    \n",
    "\n",
    "choices = ['dn_hrp_her2n',\n",
    "           'r_hrp_her2p',\n",
    "           'r_hrn_her2p',\n",
    "           'r_trip_neg']\n",
    "    \n",
    "test_cox.loc[:, 'recurrent_biomarker'] = np.select(conditions, choices, default = 'unknown')"
   ]
  },
  {
   "cell_type": "markdown",
   "id": "63bf4ccd",
   "metadata": {},
   "source": [
    "## 2. Crude imputation\n",
    "\n",
    "**The first version of the Cox model will leave missing variables as \"unknown\" except for missing organ number which will be imputed as 1.**"
   ]
  },
  {
   "cell_type": "code",
   "execution_count": 84,
   "id": "a296d9e4",
   "metadata": {},
   "outputs": [],
   "source": [
    "from sksurv.linear_model import CoxPHSurvivalAnalysis\n",
    "\n",
    "from sksurv.metrics import cumulative_dynamic_auc"
   ]
  },
  {
   "cell_type": "code",
   "execution_count": 85,
   "id": "ba2b839b",
   "metadata": {},
   "outputs": [],
   "source": [
    "# Create function that creates dummy variables for categorical variable and drops original categorical variable. \n",
    "def encode_and_bind(original_dataframe, feature_to_encode):\n",
    "    dummies = pd.get_dummies(original_dataframe[[feature_to_encode]])\n",
    "    res = pd.concat([original_dataframe, dummies], axis = 1)\n",
    "    res = res.drop([feature_to_encode], axis = 1)\n",
    "    return(res) "
   ]
  },
  {
   "cell_type": "markdown",
   "id": "8760e894",
   "metadata": {},
   "source": [
    "### Processing X "
   ]
  },
  {
   "cell_type": "markdown",
   "id": "49d5c4f3",
   "metadata": {},
   "source": [
    "#### Select relevant variables"
   ]
  },
  {
   "cell_type": "code",
   "execution_count": 86,
   "id": "2e487768",
   "metadata": {},
   "outputs": [],
   "source": [
    "train_cox_x = (\n",
    "    train_cox\n",
    "    .filter(items = [\n",
    "        'PatientID',\n",
    "        'age',\n",
    "        'ecog_diagnosis',\n",
    "        'race',\n",
    "        'dn_recurrent',\n",
    "        'hr_her2',\n",
    "        'met_site',\n",
    "        'organ_number',\n",
    "        'recurrent_biomarker']))"
   ]
  },
  {
   "cell_type": "code",
   "execution_count": 87,
   "id": "24227213",
   "metadata": {},
   "outputs": [],
   "source": [
    "train_cox_x = train_cox_x.set_index('PatientID')"
   ]
  },
  {
   "cell_type": "code",
   "execution_count": 88,
   "id": "1e91d835",
   "metadata": {},
   "outputs": [
    {
     "data": {
      "text/plain": [
       "(25341, 8)"
      ]
     },
     "execution_count": 88,
     "metadata": {},
     "output_type": "execute_result"
    }
   ],
   "source": [
    "train_cox_x.shape"
   ]
  },
  {
   "cell_type": "code",
   "execution_count": 89,
   "id": "db49f78b",
   "metadata": {},
   "outputs": [],
   "source": [
    "test_cox_x = (\n",
    "    test_cox\n",
    "    .filter(items = [\n",
    "        'PatientID',\n",
    "        'age',\n",
    "        'ecog_diagnosis',\n",
    "        'race',\n",
    "        'dn_recurrent',\n",
    "        'hr_her2',\n",
    "        'met_site',\n",
    "        'organ_number',\n",
    "        'recurrent_biomarker']))"
   ]
  },
  {
   "cell_type": "code",
   "execution_count": 90,
   "id": "a122511f",
   "metadata": {},
   "outputs": [],
   "source": [
    "test_cox_x = test_cox_x.set_index('PatientID')"
   ]
  },
  {
   "cell_type": "code",
   "execution_count": 91,
   "id": "87922f87",
   "metadata": {},
   "outputs": [
    {
     "data": {
      "text/plain": [
       "(6336, 8)"
      ]
     },
     "execution_count": 91,
     "metadata": {},
     "output_type": "execute_result"
    }
   ],
   "source": [
    "test_cox_x.shape"
   ]
  },
  {
   "cell_type": "markdown",
   "id": "0d023545",
   "metadata": {},
   "source": [
    "#### Impute 1 for missing organ numbers"
   ]
  },
  {
   "cell_type": "code",
   "execution_count": 92,
   "id": "e0ea9426",
   "metadata": {},
   "outputs": [],
   "source": [
    "train_cox_x['organ_number'] = train_cox_x['organ_number'].fillna(1)"
   ]
  },
  {
   "cell_type": "code",
   "execution_count": 93,
   "id": "bfd6f271",
   "metadata": {},
   "outputs": [
    {
     "data": {
      "text/plain": [
       "1.0    0.550610\n",
       "2.0    0.251411\n",
       "3.0    0.121739\n",
       "4.0    0.076240\n",
       "Name: organ_number, dtype: float64"
      ]
     },
     "execution_count": 93,
     "metadata": {},
     "output_type": "execute_result"
    }
   ],
   "source": [
    "train_cox_x.organ_number.value_counts(normalize = True, dropna = False)"
   ]
  },
  {
   "cell_type": "code",
   "execution_count": 94,
   "id": "58d7ea5b",
   "metadata": {},
   "outputs": [],
   "source": [
    "test_cox_x['organ_number'] = test_cox_x['organ_number'].fillna(1)"
   ]
  },
  {
   "cell_type": "markdown",
   "id": "fd116d2c",
   "metadata": {},
   "source": [
    "#### Convert relevant varibles to categorical "
   ]
  },
  {
   "cell_type": "code",
   "execution_count": 95,
   "id": "39665c58",
   "metadata": {},
   "outputs": [
    {
     "data": {
      "text/plain": [
       "['ecog_diagnosis',\n",
       " 'race',\n",
       " 'dn_recurrent',\n",
       " 'hr_her2',\n",
       " 'met_site',\n",
       " 'recurrent_biomarker']"
      ]
     },
     "execution_count": 95,
     "metadata": {},
     "output_type": "execute_result"
    }
   ],
   "source": [
    "list(train_cox_x.select_dtypes(include = ['object']).columns)"
   ]
  },
  {
   "cell_type": "code",
   "execution_count": 96,
   "id": "67f88e54",
   "metadata": {},
   "outputs": [],
   "source": [
    "to_be_categorical = list(train_cox_x.select_dtypes(include = ['object']).columns)"
   ]
  },
  {
   "cell_type": "code",
   "execution_count": 97,
   "id": "773a6f5b",
   "metadata": {},
   "outputs": [],
   "source": [
    "to_be_categorical.append('organ_number')"
   ]
  },
  {
   "cell_type": "code",
   "execution_count": 98,
   "id": "a751d59d",
   "metadata": {},
   "outputs": [],
   "source": [
    "for x in list(to_be_categorical):\n",
    "    train_cox_x[x] = train_cox_x[x].astype('category')"
   ]
  },
  {
   "cell_type": "code",
   "execution_count": 99,
   "id": "eeb052ed",
   "metadata": {},
   "outputs": [
    {
     "data": {
      "text/plain": [
       "age                       int64\n",
       "ecog_diagnosis         category\n",
       "race                   category\n",
       "dn_recurrent           category\n",
       "hr_her2                category\n",
       "met_site               category\n",
       "organ_number           category\n",
       "recurrent_biomarker    category\n",
       "dtype: object"
      ]
     },
     "execution_count": 99,
     "metadata": {},
     "output_type": "execute_result"
    }
   ],
   "source": [
    "train_cox_x.dtypes"
   ]
  },
  {
   "cell_type": "code",
   "execution_count": 100,
   "id": "f1afd334",
   "metadata": {},
   "outputs": [],
   "source": [
    "for x in list(to_be_categorical):\n",
    "    test_cox_x[x] = test_cox_x[x].astype('category')"
   ]
  },
  {
   "cell_type": "markdown",
   "id": "6bee1eb3",
   "metadata": {},
   "source": [
    "#### Dummy encode categorical variables "
   ]
  },
  {
   "cell_type": "code",
   "execution_count": 101,
   "id": "0376cd07",
   "metadata": {},
   "outputs": [],
   "source": [
    "# Dummy variables for ecog_diagnosis\n",
    "train_cox_x = encode_and_bind(train_cox_x, 'ecog_diagnosis')\n",
    "train_cox_x = train_cox_x.drop(columns = ['ecog_diagnosis_4.0'])\n",
    "\n",
    "test_cox_x = encode_and_bind(test_cox_x, 'ecog_diagnosis')\n",
    "test_cox_x = test_cox_x.drop(columns = ['ecog_diagnosis_4.0'])\n",
    "\n",
    "# Dummy variables for race\n",
    "train_cox_x = encode_and_bind(train_cox_x, 'race')\n",
    "train_cox_x = train_cox_x.drop(columns = ['race_unknown'])\n",
    "\n",
    "test_cox_x = encode_and_bind(test_cox_x, 'race')\n",
    "test_cox_x = test_cox_x.drop(columns = ['race_unknown'])\n",
    "\n",
    "# Dummy variables for dn_recurrent\n",
    "train_cox_x = encode_and_bind(train_cox_x, 'dn_recurrent')\n",
    "train_cox_x = train_cox_x.drop(columns = ['dn_recurrent_l24'])\n",
    "\n",
    "test_cox_x = encode_and_bind(test_cox_x, 'dn_recurrent')\n",
    "test_cox_x = test_cox_x.drop(columns = ['dn_recurrent_l24'])\n",
    "\n",
    "# Dummy variables for hr_her2\n",
    "train_cox_x = encode_and_bind(train_cox_x, 'hr_her2')\n",
    "train_cox_x = train_cox_x.drop(columns = ['hr_her2_unknown'])\n",
    "\n",
    "test_cox_x = encode_and_bind(test_cox_x, 'hr_her2')\n",
    "test_cox_x = test_cox_x.drop(columns = ['hr_her2_unknown'])\n",
    "\n",
    "# Dummy variables for met_site\n",
    "train_cox_x = encode_and_bind(train_cox_x, 'met_site')\n",
    "train_cox_x = train_cox_x.drop(columns = ['met_site_unknown'])\n",
    "\n",
    "test_cox_x = encode_and_bind(test_cox_x, 'met_site')\n",
    "test_cox_x = test_cox_x.drop(columns = ['met_site_unknown'])\n",
    "\n",
    "# Dummy variables for organ_number\n",
    "train_cox_x = encode_and_bind(train_cox_x, 'organ_number')\n",
    "train_cox_x = train_cox_x.drop(columns = ['organ_number_4.0'])\n",
    "\n",
    "test_cox_x = encode_and_bind(test_cox_x, 'organ_number')\n",
    "test_cox_x = test_cox_x.drop(columns = ['organ_number_4.0'])\n",
    "\n",
    "# Dummy variables for recurrent_biomarker\n",
    "train_cox_x = encode_and_bind(train_cox_x, 'recurrent_biomarker')\n",
    "train_cox_x = train_cox_x.drop(columns = ['recurrent_biomarker_unknown'])\n",
    "\n",
    "test_cox_x = encode_and_bind(test_cox_x, 'recurrent_biomarker')\n",
    "test_cox_x = test_cox_x.drop(columns = ['recurrent_biomarker_unknown'])"
   ]
  },
  {
   "cell_type": "code",
   "execution_count": 102,
   "id": "adcce4d2",
   "metadata": {},
   "outputs": [
    {
     "name": "stdout",
     "output_type": "stream",
     "text": [
      "(25341, 26)\n",
      "(6336, 26)\n"
     ]
    }
   ],
   "source": [
    "print(train_cox_x.shape)\n",
    "print(test_cox_x.shape)"
   ]
  },
  {
   "cell_type": "markdown",
   "id": "96d77b53",
   "metadata": {},
   "source": [
    "### Processing Y"
   ]
  },
  {
   "cell_type": "code",
   "execution_count": 103,
   "id": "324ee1ff",
   "metadata": {},
   "outputs": [],
   "source": [
    "# Convert death_status into True or False (required for scikit-survival). \n",
    "train_cox['death_status'] = train_cox['death_status'].astype('bool')"
   ]
  },
  {
   "cell_type": "code",
   "execution_count": 104,
   "id": "045cd4b2",
   "metadata": {},
   "outputs": [],
   "source": [
    "y_dtypes = train_cox[['death_status', 'timerisk_activity']].dtypes\n",
    "\n",
    "train_cox_y = np.array([tuple(x) for x in train_cox[['death_status', 'timerisk_activity']].values],\n",
    "                        dtype = list(zip(y_dtypes.index, y_dtypes)))"
   ]
  },
  {
   "cell_type": "code",
   "execution_count": 105,
   "id": "cac92ff3",
   "metadata": {},
   "outputs": [
    {
     "data": {
      "text/plain": [
       "(25341,)"
      ]
     },
     "execution_count": 105,
     "metadata": {},
     "output_type": "execute_result"
    }
   ],
   "source": [
    "train_cox_y.shape"
   ]
  },
  {
   "cell_type": "code",
   "execution_count": 106,
   "id": "9912d828",
   "metadata": {},
   "outputs": [],
   "source": [
    "# Convert death_status into True or False (required for scikit-survival). \n",
    "test_cox['death_status'] = test_cox['death_status'].astype('bool')"
   ]
  },
  {
   "cell_type": "code",
   "execution_count": 107,
   "id": "eae75ae9",
   "metadata": {},
   "outputs": [],
   "source": [
    "y_dtypes = test_cox[['death_status', 'timerisk_activity']].dtypes\n",
    "\n",
    "test_cox_y = np.array([tuple(x) for x in test_cox[['death_status', 'timerisk_activity']].values],\n",
    "                        dtype = list(zip(y_dtypes.index, y_dtypes)))"
   ]
  },
  {
   "cell_type": "code",
   "execution_count": 108,
   "id": "628c347c",
   "metadata": {},
   "outputs": [
    {
     "data": {
      "text/plain": [
       "(6336,)"
      ]
     },
     "execution_count": 108,
     "metadata": {},
     "output_type": "execute_result"
    }
   ],
   "source": [
    "test_cox_y.shape"
   ]
  },
  {
   "cell_type": "markdown",
   "id": "8cf2db76",
   "metadata": {},
   "source": [
    "### Build and assess model performance"
   ]
  },
  {
   "cell_type": "code",
   "execution_count": 109,
   "id": "bd0e9f25",
   "metadata": {},
   "outputs": [
    {
     "data": {
      "text/plain": [
       "CoxPHSurvivalAnalysis()"
      ]
     },
     "execution_count": 109,
     "metadata": {},
     "output_type": "execute_result"
    }
   ],
   "source": [
    "cox_crude = CoxPHSurvivalAnalysis()\n",
    "\n",
    "cox_crude.fit(train_cox_x, train_cox_y)"
   ]
  },
  {
   "cell_type": "code",
   "execution_count": 110,
   "id": "1fc1d8f8",
   "metadata": {},
   "outputs": [
    {
     "name": "stdout",
     "output_type": "stream",
     "text": [
      "Test set AUC at 2 years: 0.7381584195762808\n"
     ]
    }
   ],
   "source": [
    "cox_crude_risk_scores_te = cox_crude.predict(test_cox_x)\n",
    "cox_crude_auc_te = cumulative_dynamic_auc(train_cox_y, test_cox_y, cox_crude_risk_scores_te, 730)[0][0]\n",
    "print('Test set AUC at 2 years:', cox_crude_auc_te)"
   ]
  },
  {
   "cell_type": "code",
   "execution_count": 111,
   "id": "d552b007",
   "metadata": {},
   "outputs": [
    {
     "name": "stdout",
     "output_type": "stream",
     "text": [
      "Training set AUC at 2 years: 0.7401442929043079\n"
     ]
    }
   ],
   "source": [
    "cox_crude_risk_scores_tr = cox_crude.predict(train_cox_x)\n",
    "cox_crude_auc_tr = cumulative_dynamic_auc(train_cox_y, train_cox_y, cox_crude_risk_scores_tr, 730)[0][0]\n",
    "print('Training set AUC at 2 years:', cox_crude_auc_tr)"
   ]
  },
  {
   "cell_type": "code",
   "execution_count": 112,
   "id": "33856c70",
   "metadata": {},
   "outputs": [],
   "source": [
    "# Bootstrap 10000 1 yr AUCs for test set \n",
    "n_bootstraps = 10000\n",
    "rng_seed = 42 \n",
    "bootstrapped_scores_te = []\n",
    "\n",
    "rng = np.random.RandomState(rng_seed)\n",
    "for i in range(n_bootstraps):\n",
    "    indices = rng.randint(0, len(cox_crude_risk_scores_te), len(cox_crude_risk_scores_te))\n",
    "    auc_yr = cumulative_dynamic_auc(train_cox_y, test_cox_y[indices], cox_crude_risk_scores_te[indices], 730)[0][0]\n",
    "    bootstrapped_scores_te.append(auc_yr)"
   ]
  },
  {
   "cell_type": "code",
   "execution_count": 113,
   "id": "108c1fea",
   "metadata": {},
   "outputs": [
    {
     "name": "stdout",
     "output_type": "stream",
     "text": [
      "Test set AUC standard error: 0.007090920750268647\n"
     ]
    }
   ],
   "source": [
    "# Standard error of mean for test set AUC\n",
    "sorted_scores_te = np.array(bootstrapped_scores_te)\n",
    "sorted_scores_te.sort()\n",
    "\n",
    "conf_lower_te = sorted_scores_te[int(0.025 * len(sorted_scores_te))]\n",
    "conf_upper_te = sorted_scores_te[int(0.975 * len(sorted_scores_te))]\n",
    "\n",
    "standard_error_te = (conf_upper_te - conf_lower_te) / 3.92\n",
    "print('Test set AUC standard error:', standard_error_te)"
   ]
  },
  {
   "cell_type": "code",
   "execution_count": 114,
   "id": "5428a0c5",
   "metadata": {},
   "outputs": [],
   "source": [
    "# Bootstrap 10000 1-yr AUCs for train set \n",
    "n_bootstraps = 10000\n",
    "rng_seed = 42 \n",
    "bootstrapped_scores_tr = []\n",
    "\n",
    "rng = np.random.RandomState(rng_seed)\n",
    "for i in range(n_bootstraps):\n",
    "    indices = rng.randint(0, len(cox_crude_risk_scores_tr), len(cox_crude_risk_scores_tr))\n",
    "    auc_yr = cumulative_dynamic_auc(train_cox_y, train_cox_y[indices], cox_crude_risk_scores_tr[indices], 730)[0][0]\n",
    "    bootstrapped_scores_tr.append(auc_yr)"
   ]
  },
  {
   "cell_type": "code",
   "execution_count": 115,
   "id": "b43b7eed",
   "metadata": {},
   "outputs": [
    {
     "name": "stdout",
     "output_type": "stream",
     "text": [
      "Training set AUC standard error 0.003576991982545572\n"
     ]
    }
   ],
   "source": [
    "# Standard error of mean for train set AUC\n",
    "sorted_scores_tr = np.array(bootstrapped_scores_tr)\n",
    "sorted_scores_tr.sort()\n",
    "\n",
    "conf_lower_tr = sorted_scores_tr[int(0.025 * len(sorted_scores_tr))]\n",
    "conf_upper_tr = sorted_scores_tr[int(0.975 * len(sorted_scores_tr))]\n",
    "\n",
    "standard_error_tr = (conf_upper_tr - conf_lower_tr) / 3.92\n",
    "print('Training set AUC standard error', standard_error_tr)"
   ]
  },
  {
   "cell_type": "code",
   "execution_count": 116,
   "id": "08487990",
   "metadata": {},
   "outputs": [],
   "source": [
    "cox_auc_data = {'model': ['cox_crude'],\n",
    "                'auc_2yr_te': [cox_crude_auc_te],\n",
    "                'sem_te': [standard_error_te],\n",
    "                'auc_2yr_tr': [cox_crude_auc_tr],\n",
    "                'sem_tr': [standard_error_tr]}\n",
    "\n",
    "cox_auc_df = pd.DataFrame(cox_auc_data)"
   ]
  },
  {
   "cell_type": "code",
   "execution_count": 117,
   "id": "496a176b",
   "metadata": {},
   "outputs": [
    {
     "data": {
      "text/html": [
       "<div>\n",
       "<style scoped>\n",
       "    .dataframe tbody tr th:only-of-type {\n",
       "        vertical-align: middle;\n",
       "    }\n",
       "\n",
       "    .dataframe tbody tr th {\n",
       "        vertical-align: top;\n",
       "    }\n",
       "\n",
       "    .dataframe thead th {\n",
       "        text-align: right;\n",
       "    }\n",
       "</style>\n",
       "<table border=\"1\" class=\"dataframe\">\n",
       "  <thead>\n",
       "    <tr style=\"text-align: right;\">\n",
       "      <th></th>\n",
       "      <th>model</th>\n",
       "      <th>auc_2yr_te</th>\n",
       "      <th>sem_te</th>\n",
       "      <th>auc_2yr_tr</th>\n",
       "      <th>sem_tr</th>\n",
       "    </tr>\n",
       "  </thead>\n",
       "  <tbody>\n",
       "    <tr>\n",
       "      <th>0</th>\n",
       "      <td>cox_crude</td>\n",
       "      <td>0.738158</td>\n",
       "      <td>0.007091</td>\n",
       "      <td>0.740144</td>\n",
       "      <td>0.003577</td>\n",
       "    </tr>\n",
       "  </tbody>\n",
       "</table>\n",
       "</div>"
      ],
      "text/plain": [
       "       model  auc_2yr_te    sem_te  auc_2yr_tr    sem_tr\n",
       "0  cox_crude    0.738158  0.007091    0.740144  0.003577"
      ]
     },
     "execution_count": 117,
     "metadata": {},
     "output_type": "execute_result"
    }
   ],
   "source": [
    "cox_auc_df"
   ]
  },
  {
   "cell_type": "code",
   "execution_count": 118,
   "id": "5d68c910",
   "metadata": {},
   "outputs": [],
   "source": [
    "cox_auc_df.to_csv('cox_auc_df.csv', index = False, header = True)"
   ]
  },
  {
   "cell_type": "code",
   "execution_count": 119,
   "id": "f0507372",
   "metadata": {},
   "outputs": [],
   "source": [
    "times = np.arange(30, 1810, 30)\n",
    "crude_cox_auc_over5 = cumulative_dynamic_auc(train_cox_y, test_cox_y, cox_crude_risk_scores_te, times)[0]\n",
    "\n",
    "times_data = {}\n",
    "values = crude_cox_auc_over5\n",
    "time_names = []\n",
    "\n",
    "for x in range(len(times)):\n",
    "    time_names.append('time_'+str(times[x]))\n",
    "\n",
    "for i in range(len(time_names)):\n",
    "    times_data[time_names[i]] = values[i]\n",
    "    \n",
    "cox_auc_over5 = pd.DataFrame(times_data, index = ['cox_crude'])"
   ]
  },
  {
   "cell_type": "code",
   "execution_count": 120,
   "id": "8dc2bfd3",
   "metadata": {},
   "outputs": [
    {
     "data": {
      "text/html": [
       "<div>\n",
       "<style scoped>\n",
       "    .dataframe tbody tr th:only-of-type {\n",
       "        vertical-align: middle;\n",
       "    }\n",
       "\n",
       "    .dataframe tbody tr th {\n",
       "        vertical-align: top;\n",
       "    }\n",
       "\n",
       "    .dataframe thead th {\n",
       "        text-align: right;\n",
       "    }\n",
       "</style>\n",
       "<table border=\"1\" class=\"dataframe\">\n",
       "  <thead>\n",
       "    <tr style=\"text-align: right;\">\n",
       "      <th></th>\n",
       "      <th>time_30</th>\n",
       "      <th>time_60</th>\n",
       "      <th>time_90</th>\n",
       "      <th>time_120</th>\n",
       "      <th>time_150</th>\n",
       "      <th>time_180</th>\n",
       "      <th>time_210</th>\n",
       "      <th>time_240</th>\n",
       "      <th>time_270</th>\n",
       "      <th>time_300</th>\n",
       "      <th>...</th>\n",
       "      <th>time_1530</th>\n",
       "      <th>time_1560</th>\n",
       "      <th>time_1590</th>\n",
       "      <th>time_1620</th>\n",
       "      <th>time_1650</th>\n",
       "      <th>time_1680</th>\n",
       "      <th>time_1710</th>\n",
       "      <th>time_1740</th>\n",
       "      <th>time_1770</th>\n",
       "      <th>time_1800</th>\n",
       "    </tr>\n",
       "  </thead>\n",
       "  <tbody>\n",
       "    <tr>\n",
       "      <th>cox_crude</th>\n",
       "      <td>0.754622</td>\n",
       "      <td>0.757984</td>\n",
       "      <td>0.760242</td>\n",
       "      <td>0.758289</td>\n",
       "      <td>0.756238</td>\n",
       "      <td>0.754524</td>\n",
       "      <td>0.754279</td>\n",
       "      <td>0.751298</td>\n",
       "      <td>0.757135</td>\n",
       "      <td>0.756677</td>\n",
       "      <td>...</td>\n",
       "      <td>0.712425</td>\n",
       "      <td>0.711211</td>\n",
       "      <td>0.712376</td>\n",
       "      <td>0.710032</td>\n",
       "      <td>0.711739</td>\n",
       "      <td>0.711844</td>\n",
       "      <td>0.712153</td>\n",
       "      <td>0.712078</td>\n",
       "      <td>0.715026</td>\n",
       "      <td>0.716995</td>\n",
       "    </tr>\n",
       "  </tbody>\n",
       "</table>\n",
       "<p>1 rows × 60 columns</p>\n",
       "</div>"
      ],
      "text/plain": [
       "            time_30   time_60   time_90  time_120  time_150  time_180  \\\n",
       "cox_crude  0.754622  0.757984  0.760242  0.758289  0.756238  0.754524   \n",
       "\n",
       "           time_210  time_240  time_270  time_300  ...  time_1530  time_1560  \\\n",
       "cox_crude  0.754279  0.751298  0.757135  0.756677  ...   0.712425   0.711211   \n",
       "\n",
       "           time_1590  time_1620  time_1650  time_1680  time_1710  time_1740  \\\n",
       "cox_crude   0.712376   0.710032   0.711739   0.711844   0.712153   0.712078   \n",
       "\n",
       "           time_1770  time_1800  \n",
       "cox_crude   0.715026   0.716995  \n",
       "\n",
       "[1 rows x 60 columns]"
      ]
     },
     "execution_count": 120,
     "metadata": {},
     "output_type": "execute_result"
    }
   ],
   "source": [
    "cox_auc_over5"
   ]
  },
  {
   "cell_type": "code",
   "execution_count": 121,
   "id": "e7233b5f",
   "metadata": {},
   "outputs": [],
   "source": [
    "cox_auc_over5.to_csv('cox_auc_over5.csv', index = True, header = True)"
   ]
  },
  {
   "cell_type": "markdown",
   "id": "d52accbc",
   "metadata": {},
   "source": [
    "## 3. Complete cases"
   ]
  },
  {
   "cell_type": "markdown",
   "id": "0ac52bfb",
   "metadata": {},
   "source": [
    "**This Cox build will look at complete cases only. Specifically excluding patients with unknown ECOG, biomarkers, site of metastasis, and organ number will be removed.**"
   ]
  },
  {
   "cell_type": "markdown",
   "id": "c89bb6b9",
   "metadata": {},
   "source": [
    "### Remove patients with missing values "
   ]
  },
  {
   "cell_type": "code",
   "execution_count": 122,
   "id": "dc7ee9a6",
   "metadata": {},
   "outputs": [],
   "source": [
    "train_cox_cc = (\n",
    "    train_cox\n",
    "    .query('ecog_diagnosis != \"unknown\"')\n",
    "    .query('hr_her2 != \"unknown\"')\n",
    "    .query('met_site != \"unknown\"')\n",
    "    .query('organ_number.notna()', engine = 'python')\n",
    ")"
   ]
  },
  {
   "cell_type": "code",
   "execution_count": 123,
   "id": "9938336c",
   "metadata": {},
   "outputs": [],
   "source": [
    "test_cox_cc = (\n",
    "    test_cox\n",
    "    .query('ecog_diagnosis != \"unknown\"')\n",
    "    .query('hr_her2 != \"unknown\"')\n",
    "    .query('met_site != \"unknown\"')\n",
    "    .query('organ_number.notna()', engine = 'python')\n",
    ")"
   ]
  },
  {
   "cell_type": "markdown",
   "id": "fb26405e",
   "metadata": {},
   "source": [
    "### Processing X "
   ]
  },
  {
   "cell_type": "markdown",
   "id": "baebb291",
   "metadata": {},
   "source": [
    "#### Select relevant variables"
   ]
  },
  {
   "cell_type": "code",
   "execution_count": 124,
   "id": "2f6790f5",
   "metadata": {},
   "outputs": [],
   "source": [
    "train_cox_cc_x = (\n",
    "    train_cox_cc\n",
    "    .filter(items = [\n",
    "        'PatientID',\n",
    "        'age',\n",
    "        'ecog_diagnosis',\n",
    "        'race',\n",
    "        'dn_recurrent',\n",
    "        'hr_her2',\n",
    "        'met_site',\n",
    "        'organ_number',\n",
    "        'recurrent_biomarker']))"
   ]
  },
  {
   "cell_type": "code",
   "execution_count": 125,
   "id": "9bce03a0",
   "metadata": {},
   "outputs": [],
   "source": [
    "train_cox_cc_x = train_cox_cc_x.set_index('PatientID')"
   ]
  },
  {
   "cell_type": "code",
   "execution_count": 126,
   "id": "cd1a21f2",
   "metadata": {},
   "outputs": [
    {
     "data": {
      "text/plain": [
       "(10068, 8)"
      ]
     },
     "execution_count": 126,
     "metadata": {},
     "output_type": "execute_result"
    }
   ],
   "source": [
    "train_cox_cc_x.shape"
   ]
  },
  {
   "cell_type": "code",
   "execution_count": 127,
   "id": "3dd28e8d",
   "metadata": {},
   "outputs": [],
   "source": [
    "test_cox_cc_x = (\n",
    "    test_cox_cc\n",
    "    .filter(items = [\n",
    "        'PatientID',\n",
    "        'age',\n",
    "        'ecog_diagnosis',\n",
    "        'race',\n",
    "        'dn_recurrent',\n",
    "        'hr_her2',\n",
    "        'met_site',\n",
    "        'organ_number',\n",
    "        'recurrent_biomarker']))"
   ]
  },
  {
   "cell_type": "code",
   "execution_count": 128,
   "id": "da7f2043",
   "metadata": {},
   "outputs": [],
   "source": [
    "test_cox_cc_x = test_cox_cc_x.set_index('PatientID')"
   ]
  },
  {
   "cell_type": "code",
   "execution_count": 129,
   "id": "900eabf7",
   "metadata": {},
   "outputs": [
    {
     "data": {
      "text/plain": [
       "(2552, 8)"
      ]
     },
     "execution_count": 129,
     "metadata": {},
     "output_type": "execute_result"
    }
   ],
   "source": [
    "test_cox_cc_x.shape"
   ]
  },
  {
   "cell_type": "markdown",
   "id": "348f7471",
   "metadata": {},
   "source": [
    "#### Convert relevant varibles to categorical "
   ]
  },
  {
   "cell_type": "code",
   "execution_count": 130,
   "id": "295926f9",
   "metadata": {},
   "outputs": [
    {
     "data": {
      "text/plain": [
       "['ecog_diagnosis',\n",
       " 'race',\n",
       " 'dn_recurrent',\n",
       " 'hr_her2',\n",
       " 'met_site',\n",
       " 'recurrent_biomarker']"
      ]
     },
     "execution_count": 130,
     "metadata": {},
     "output_type": "execute_result"
    }
   ],
   "source": [
    "list(train_cox_cc_x.select_dtypes(include = ['object']).columns)"
   ]
  },
  {
   "cell_type": "code",
   "execution_count": 131,
   "id": "de09ff53",
   "metadata": {},
   "outputs": [],
   "source": [
    "to_be_categorical = list(train_cox_cc_x.select_dtypes(include = ['object']).columns)"
   ]
  },
  {
   "cell_type": "code",
   "execution_count": 132,
   "id": "a9a47d8a",
   "metadata": {},
   "outputs": [],
   "source": [
    "to_be_categorical.append('organ_number')"
   ]
  },
  {
   "cell_type": "code",
   "execution_count": 133,
   "id": "3fb16688",
   "metadata": {},
   "outputs": [],
   "source": [
    "for x in list(to_be_categorical):\n",
    "    train_cox_cc_x[x] = train_cox_cc_x[x].astype('category')"
   ]
  },
  {
   "cell_type": "code",
   "execution_count": 134,
   "id": "ea04b5a8",
   "metadata": {},
   "outputs": [
    {
     "data": {
      "text/plain": [
       "age                       int64\n",
       "ecog_diagnosis         category\n",
       "race                   category\n",
       "dn_recurrent           category\n",
       "hr_her2                category\n",
       "met_site               category\n",
       "organ_number           category\n",
       "recurrent_biomarker    category\n",
       "dtype: object"
      ]
     },
     "execution_count": 134,
     "metadata": {},
     "output_type": "execute_result"
    }
   ],
   "source": [
    "train_cox_cc_x.dtypes"
   ]
  },
  {
   "cell_type": "code",
   "execution_count": 135,
   "id": "ada37c08",
   "metadata": {},
   "outputs": [],
   "source": [
    "for x in list(to_be_categorical):\n",
    "    test_cox_cc_x[x] = test_cox_cc_x[x].astype('category')"
   ]
  },
  {
   "cell_type": "markdown",
   "id": "868e9d14",
   "metadata": {},
   "source": [
    "#### Dummy encode categorical variables "
   ]
  },
  {
   "cell_type": "code",
   "execution_count": 136,
   "id": "125968c0",
   "metadata": {},
   "outputs": [],
   "source": [
    "# Dummy variables for ecog_diagnosis\n",
    "train_cox_cc_x = encode_and_bind(train_cox_cc_x, 'ecog_diagnosis')\n",
    "train_cox_cc_x = train_cox_cc_x.drop(columns = ['ecog_diagnosis_4.0'])\n",
    "\n",
    "test_cox_cc_x = encode_and_bind(test_cox_cc_x, 'ecog_diagnosis')\n",
    "test_cox_cc_x = test_cox_cc_x.drop(columns = ['ecog_diagnosis_4.0'])\n",
    "\n",
    "# Dummy variables for race\n",
    "train_cox_cc_x = encode_and_bind(train_cox_cc_x, 'race')\n",
    "train_cox_cc_x = train_cox_cc_x.drop(columns = ['race_unknown'])\n",
    "\n",
    "test_cox_cc_x = encode_and_bind(test_cox_cc_x, 'race')\n",
    "test_cox_cc_x = test_cox_cc_x.drop(columns = ['race_unknown'])\n",
    "\n",
    "# Dummy variables for dn_recurrent\n",
    "train_cox_cc_x = encode_and_bind(train_cox_cc_x, 'dn_recurrent')\n",
    "train_cox_cc_x = train_cox_cc_x.drop(columns = ['dn_recurrent_l24'])\n",
    "\n",
    "test_cox_cc_x = encode_and_bind(test_cox_cc_x, 'dn_recurrent')\n",
    "test_cox_cc_x = test_cox_cc_x.drop(columns = ['dn_recurrent_l24'])\n",
    "\n",
    "# Dummy variables for hr_her2\n",
    "train_cox_cc_x = encode_and_bind(train_cox_cc_x, 'hr_her2')\n",
    "train_cox_cc_x = train_cox_cc_x.drop(columns = ['hr_her2_hrn_her2p'])\n",
    "\n",
    "test_cox_cc_x = encode_and_bind(test_cox_cc_x, 'hr_her2')\n",
    "test_cox_cc_x = test_cox_cc_x.drop(columns = ['hr_her2_hrn_her2p'])\n",
    "\n",
    "# Dummy variables for met_site\n",
    "train_cox_cc_x = encode_and_bind(train_cox_cc_x, 'met_site')\n",
    "train_cox_cc_x = train_cox_cc_x.drop(columns = ['met_site_cns'])\n",
    "\n",
    "test_cox_cc_x = encode_and_bind(test_cox_cc_x, 'met_site')\n",
    "test_cox_cc_x = test_cox_cc_x.drop(columns = ['met_site_cns'])\n",
    "\n",
    "# Dummy variables for organ_number\n",
    "train_cox_cc_x = encode_and_bind(train_cox_cc_x, 'organ_number')\n",
    "train_cox_cc_x = train_cox_cc_x.drop(columns = ['organ_number_4.0'])\n",
    "\n",
    "test_cox_cc_x = encode_and_bind(test_cox_cc_x, 'organ_number')\n",
    "test_cox_cc_x = test_cox_cc_x.drop(columns = ['organ_number_4.0'])\n",
    "\n",
    "# Dummy variables for recurrent_biomarker\n",
    "train_cox_cc_x = encode_and_bind(train_cox_cc_x, 'recurrent_biomarker')\n",
    "train_cox_cc_x = train_cox_cc_x.drop(columns = ['recurrent_biomarker_r_hrn_her2p'])\n",
    "\n",
    "test_cox_cc_x = encode_and_bind(test_cox_cc_x, 'recurrent_biomarker')\n",
    "test_cox_cc_x = test_cox_cc_x.drop(columns = ['recurrent_biomarker_r_hrn_her2p'])"
   ]
  },
  {
   "cell_type": "code",
   "execution_count": 137,
   "id": "cb5e684f",
   "metadata": {},
   "outputs": [
    {
     "name": "stdout",
     "output_type": "stream",
     "text": [
      "(10068, 22)\n",
      "(2552, 22)\n"
     ]
    }
   ],
   "source": [
    "print(train_cox_cc_x.shape)\n",
    "print(test_cox_cc_x.shape)"
   ]
  },
  {
   "cell_type": "markdown",
   "id": "8e4b016b",
   "metadata": {},
   "source": [
    "### Processing Y"
   ]
  },
  {
   "cell_type": "code",
   "execution_count": 138,
   "id": "3ff89490",
   "metadata": {},
   "outputs": [],
   "source": [
    "y_dtypes = train_cox[['death_status', 'timerisk_activity']].dtypes\n",
    "\n",
    "train_cox_cc_y = np.array([tuple(x) for x in train_cox_cc[['death_status', 'timerisk_activity']].values],\n",
    "                          dtype = list(zip(y_dtypes.index, y_dtypes)))"
   ]
  },
  {
   "cell_type": "code",
   "execution_count": 139,
   "id": "9be0e3db",
   "metadata": {},
   "outputs": [
    {
     "data": {
      "text/plain": [
       "(10068,)"
      ]
     },
     "execution_count": 139,
     "metadata": {},
     "output_type": "execute_result"
    }
   ],
   "source": [
    "train_cox_cc_y.shape"
   ]
  },
  {
   "cell_type": "code",
   "execution_count": 140,
   "id": "bfcaab3b",
   "metadata": {},
   "outputs": [],
   "source": [
    "y_dtypes = test_cox[['death_status', 'timerisk_activity']].dtypes\n",
    "\n",
    "test_cox_cc_y = np.array([tuple(x) for x in test_cox_cc[['death_status', 'timerisk_activity']].values],\n",
    "                         dtype = list(zip(y_dtypes.index, y_dtypes)))"
   ]
  },
  {
   "cell_type": "code",
   "execution_count": 141,
   "id": "eb3b870a",
   "metadata": {},
   "outputs": [
    {
     "data": {
      "text/plain": [
       "(2552,)"
      ]
     },
     "execution_count": 141,
     "metadata": {},
     "output_type": "execute_result"
    }
   ],
   "source": [
    "test_cox_cc_y.shape"
   ]
  },
  {
   "cell_type": "markdown",
   "id": "4536bd41",
   "metadata": {},
   "source": [
    "### Build and assess model performance"
   ]
  },
  {
   "cell_type": "code",
   "execution_count": 142,
   "id": "0e1f8cbc",
   "metadata": {},
   "outputs": [
    {
     "data": {
      "text/plain": [
       "CoxPHSurvivalAnalysis()"
      ]
     },
     "execution_count": 142,
     "metadata": {},
     "output_type": "execute_result"
    }
   ],
   "source": [
    "cox_cc = CoxPHSurvivalAnalysis()\n",
    "\n",
    "cox_cc.fit(train_cox_cc_x, train_cox_cc_y)"
   ]
  },
  {
   "cell_type": "code",
   "execution_count": 143,
   "id": "d9eb5a74",
   "metadata": {},
   "outputs": [
    {
     "name": "stdout",
     "output_type": "stream",
     "text": [
      "Test set AUC at 2 years: 0.7543168534141764\n"
     ]
    }
   ],
   "source": [
    "cox_cc_risk_scores_te = cox_cc.predict(test_cox_cc_x)\n",
    "cox_cc_auc_te = cumulative_dynamic_auc(train_cox_cc_y, test_cox_cc_y, cox_cc_risk_scores_te, 730)[0][0]\n",
    "print('Test set AUC at 2 years:', cox_cc_auc_te)"
   ]
  },
  {
   "cell_type": "code",
   "execution_count": 144,
   "id": "cfcc9494",
   "metadata": {},
   "outputs": [
    {
     "name": "stdout",
     "output_type": "stream",
     "text": [
      "Training set AUC at 2 years: 0.7548071153536786\n"
     ]
    }
   ],
   "source": [
    "cox_cc_risk_scores_tr = cox_cc.predict(train_cox_cc_x)\n",
    "cox_cc_auc_tr = cumulative_dynamic_auc(train_cox_cc_y, train_cox_cc_y, cox_cc_risk_scores_tr, 730)[0][0]\n",
    "print('Training set AUC at 2 years:', cox_cc_auc_tr)"
   ]
  },
  {
   "cell_type": "code",
   "execution_count": 145,
   "id": "d63d195b",
   "metadata": {},
   "outputs": [],
   "source": [
    "# Bootstrap 10000 1 yr AUCs for test set \n",
    "n_bootstraps = 10000\n",
    "rng_seed = 42 \n",
    "bootstrapped_scores_te = []\n",
    "\n",
    "rng = np.random.RandomState(rng_seed)\n",
    "for i in range(n_bootstraps):\n",
    "    indices = rng.randint(0, len(cox_cc_risk_scores_te), len(cox_cc_risk_scores_te))\n",
    "    auc_yr = cumulative_dynamic_auc(train_cox_cc_y, test_cox_cc_y[indices], cox_cc_risk_scores_te[indices], 730)[0][0]\n",
    "    bootstrapped_scores_te.append(auc_yr)"
   ]
  },
  {
   "cell_type": "code",
   "execution_count": 146,
   "id": "4e824827",
   "metadata": {},
   "outputs": [
    {
     "name": "stdout",
     "output_type": "stream",
     "text": [
      "Test set AUC standard error: 0.010813202127139708\n"
     ]
    }
   ],
   "source": [
    "# Standard error of mean for test set AUC\n",
    "sorted_scores_te = np.array(bootstrapped_scores_te)\n",
    "sorted_scores_te.sort()\n",
    "\n",
    "conf_lower_te = sorted_scores_te[int(0.025 * len(sorted_scores_te))]\n",
    "conf_upper_te = sorted_scores_te[int(0.975 * len(sorted_scores_te))]\n",
    "\n",
    "standard_error_te = (conf_upper_te - conf_lower_te) / 3.92\n",
    "print('Test set AUC standard error:', standard_error_te)"
   ]
  },
  {
   "cell_type": "code",
   "execution_count": 147,
   "id": "803132bb",
   "metadata": {},
   "outputs": [],
   "source": [
    "# Bootstrap 10000 1-yr AUCs for train set \n",
    "n_bootstraps = 10000\n",
    "rng_seed = 42 \n",
    "bootstrapped_scores_tr = []\n",
    "\n",
    "rng = np.random.RandomState(rng_seed)\n",
    "for i in range(n_bootstraps):\n",
    "    indices = rng.randint(0, len(cox_cc_risk_scores_tr), len(cox_cc_risk_scores_tr))\n",
    "    auc_yr = cumulative_dynamic_auc(train_cox_cc_y, train_cox_cc_y[indices], cox_cc_risk_scores_tr[indices], 730)[0][0]\n",
    "    bootstrapped_scores_tr.append(auc_yr)"
   ]
  },
  {
   "cell_type": "code",
   "execution_count": 148,
   "id": "107ffcf4",
   "metadata": {},
   "outputs": [
    {
     "name": "stdout",
     "output_type": "stream",
     "text": [
      "Training set AUC standard error 0.005608897625185096\n"
     ]
    }
   ],
   "source": [
    "# Standard error of mean for train set AUC\n",
    "sorted_scores_tr = np.array(bootstrapped_scores_tr)\n",
    "sorted_scores_tr.sort()\n",
    "\n",
    "conf_lower_tr = sorted_scores_tr[int(0.025 * len(sorted_scores_tr))]\n",
    "conf_upper_tr = sorted_scores_tr[int(0.975 * len(sorted_scores_tr))]\n",
    "\n",
    "standard_error_tr = (conf_upper_tr - conf_lower_tr) / 3.92\n",
    "print('Training set AUC standard error', standard_error_tr)"
   ]
  },
  {
   "cell_type": "code",
   "execution_count": 149,
   "id": "2b711f1e",
   "metadata": {},
   "outputs": [],
   "source": [
    "cox_auc_data = {'model': 'cox_cc',\n",
    "                'auc_2yr_te': cox_cc_auc_te,\n",
    "                'sem_te': standard_error_te,\n",
    "                'auc_2yr_tr': cox_cc_auc_tr,\n",
    "                'sem_tr': standard_error_tr}"
   ]
  },
  {
   "cell_type": "code",
   "execution_count": 150,
   "id": "a7fe5e4b",
   "metadata": {},
   "outputs": [],
   "source": [
    "cox_auc_df = pd.read_csv('cox_auc_df.csv')"
   ]
  },
  {
   "cell_type": "code",
   "execution_count": 151,
   "id": "04891d01",
   "metadata": {},
   "outputs": [],
   "source": [
    "cox_auc_df = cox_auc_df.append(cox_auc_data, ignore_index = True)"
   ]
  },
  {
   "cell_type": "code",
   "execution_count": 152,
   "id": "17037cb4",
   "metadata": {},
   "outputs": [
    {
     "data": {
      "text/html": [
       "<div>\n",
       "<style scoped>\n",
       "    .dataframe tbody tr th:only-of-type {\n",
       "        vertical-align: middle;\n",
       "    }\n",
       "\n",
       "    .dataframe tbody tr th {\n",
       "        vertical-align: top;\n",
       "    }\n",
       "\n",
       "    .dataframe thead th {\n",
       "        text-align: right;\n",
       "    }\n",
       "</style>\n",
       "<table border=\"1\" class=\"dataframe\">\n",
       "  <thead>\n",
       "    <tr style=\"text-align: right;\">\n",
       "      <th></th>\n",
       "      <th>model</th>\n",
       "      <th>auc_2yr_te</th>\n",
       "      <th>sem_te</th>\n",
       "      <th>auc_2yr_tr</th>\n",
       "      <th>sem_tr</th>\n",
       "    </tr>\n",
       "  </thead>\n",
       "  <tbody>\n",
       "    <tr>\n",
       "      <th>0</th>\n",
       "      <td>cox_crude</td>\n",
       "      <td>0.738158</td>\n",
       "      <td>0.007091</td>\n",
       "      <td>0.740144</td>\n",
       "      <td>0.003577</td>\n",
       "    </tr>\n",
       "    <tr>\n",
       "      <th>1</th>\n",
       "      <td>cox_cc</td>\n",
       "      <td>0.754317</td>\n",
       "      <td>0.010813</td>\n",
       "      <td>0.754807</td>\n",
       "      <td>0.005609</td>\n",
       "    </tr>\n",
       "  </tbody>\n",
       "</table>\n",
       "</div>"
      ],
      "text/plain": [
       "       model  auc_2yr_te    sem_te  auc_2yr_tr    sem_tr\n",
       "0  cox_crude    0.738158  0.007091    0.740144  0.003577\n",
       "1     cox_cc    0.754317  0.010813    0.754807  0.005609"
      ]
     },
     "execution_count": 152,
     "metadata": {},
     "output_type": "execute_result"
    }
   ],
   "source": [
    "cox_auc_df"
   ]
  },
  {
   "cell_type": "code",
   "execution_count": 153,
   "id": "06db62ed",
   "metadata": {},
   "outputs": [],
   "source": [
    "cox_auc_df.to_csv('cox_auc_df.csv', index = False, header = True)"
   ]
  },
  {
   "cell_type": "code",
   "execution_count": 154,
   "id": "ab5da1d7",
   "metadata": {},
   "outputs": [],
   "source": [
    "times = np.arange(30, 1810, 30)\n",
    "cc_cox_auc_over5 = cumulative_dynamic_auc(train_cox_cc_y, test_cox_cc_y, cox_cc_risk_scores_te, times)[0]\n",
    "\n",
    "times_data = {}\n",
    "values = cc_cox_auc_over5\n",
    "time_names = []\n",
    "\n",
    "for x in range(len(times)):\n",
    "    time_names.append('time_'+str(times[x]))\n",
    "\n",
    "for i in range(len(time_names)):\n",
    "    times_data[time_names[i]] = values[i]\n",
    "    \n",
    "cc_cox_over5_df = pd.DataFrame(times_data, index = ['cox_cc'])"
   ]
  },
  {
   "cell_type": "code",
   "execution_count": 155,
   "id": "2cd94c13",
   "metadata": {},
   "outputs": [],
   "source": [
    "cox_auc_over5 = pd.read_csv('cox_auc_over5.csv', index_col = 0)"
   ]
  },
  {
   "cell_type": "code",
   "execution_count": 156,
   "id": "9079f8c9",
   "metadata": {},
   "outputs": [],
   "source": [
    "cox_auc_over5 = cox_auc_over5.append(cc_cox_over5_df, ignore_index = False)"
   ]
  },
  {
   "cell_type": "code",
   "execution_count": 157,
   "id": "ed8072ff",
   "metadata": {},
   "outputs": [
    {
     "data": {
      "text/html": [
       "<div>\n",
       "<style scoped>\n",
       "    .dataframe tbody tr th:only-of-type {\n",
       "        vertical-align: middle;\n",
       "    }\n",
       "\n",
       "    .dataframe tbody tr th {\n",
       "        vertical-align: top;\n",
       "    }\n",
       "\n",
       "    .dataframe thead th {\n",
       "        text-align: right;\n",
       "    }\n",
       "</style>\n",
       "<table border=\"1\" class=\"dataframe\">\n",
       "  <thead>\n",
       "    <tr style=\"text-align: right;\">\n",
       "      <th></th>\n",
       "      <th>time_30</th>\n",
       "      <th>time_60</th>\n",
       "      <th>time_90</th>\n",
       "      <th>time_120</th>\n",
       "      <th>time_150</th>\n",
       "      <th>time_180</th>\n",
       "      <th>time_210</th>\n",
       "      <th>time_240</th>\n",
       "      <th>time_270</th>\n",
       "      <th>time_300</th>\n",
       "      <th>...</th>\n",
       "      <th>time_1530</th>\n",
       "      <th>time_1560</th>\n",
       "      <th>time_1590</th>\n",
       "      <th>time_1620</th>\n",
       "      <th>time_1650</th>\n",
       "      <th>time_1680</th>\n",
       "      <th>time_1710</th>\n",
       "      <th>time_1740</th>\n",
       "      <th>time_1770</th>\n",
       "      <th>time_1800</th>\n",
       "    </tr>\n",
       "  </thead>\n",
       "  <tbody>\n",
       "    <tr>\n",
       "      <th>cox_crude</th>\n",
       "      <td>0.754622</td>\n",
       "      <td>0.757984</td>\n",
       "      <td>0.760242</td>\n",
       "      <td>0.758289</td>\n",
       "      <td>0.756238</td>\n",
       "      <td>0.754524</td>\n",
       "      <td>0.754279</td>\n",
       "      <td>0.751298</td>\n",
       "      <td>0.757135</td>\n",
       "      <td>0.756677</td>\n",
       "      <td>...</td>\n",
       "      <td>0.712425</td>\n",
       "      <td>0.711211</td>\n",
       "      <td>0.712376</td>\n",
       "      <td>0.710032</td>\n",
       "      <td>0.711739</td>\n",
       "      <td>0.711844</td>\n",
       "      <td>0.712153</td>\n",
       "      <td>0.712078</td>\n",
       "      <td>0.715026</td>\n",
       "      <td>0.716995</td>\n",
       "    </tr>\n",
       "    <tr>\n",
       "      <th>cox_cc</th>\n",
       "      <td>0.704760</td>\n",
       "      <td>0.735457</td>\n",
       "      <td>0.754288</td>\n",
       "      <td>0.756185</td>\n",
       "      <td>0.751992</td>\n",
       "      <td>0.746681</td>\n",
       "      <td>0.741454</td>\n",
       "      <td>0.740093</td>\n",
       "      <td>0.749957</td>\n",
       "      <td>0.756006</td>\n",
       "      <td>...</td>\n",
       "      <td>0.739851</td>\n",
       "      <td>0.739346</td>\n",
       "      <td>0.739217</td>\n",
       "      <td>0.744140</td>\n",
       "      <td>0.743436</td>\n",
       "      <td>0.740559</td>\n",
       "      <td>0.735132</td>\n",
       "      <td>0.732202</td>\n",
       "      <td>0.732925</td>\n",
       "      <td>0.730467</td>\n",
       "    </tr>\n",
       "  </tbody>\n",
       "</table>\n",
       "<p>2 rows × 60 columns</p>\n",
       "</div>"
      ],
      "text/plain": [
       "            time_30   time_60   time_90  time_120  time_150  time_180  \\\n",
       "cox_crude  0.754622  0.757984  0.760242  0.758289  0.756238  0.754524   \n",
       "cox_cc     0.704760  0.735457  0.754288  0.756185  0.751992  0.746681   \n",
       "\n",
       "           time_210  time_240  time_270  time_300  ...  time_1530  time_1560  \\\n",
       "cox_crude  0.754279  0.751298  0.757135  0.756677  ...   0.712425   0.711211   \n",
       "cox_cc     0.741454  0.740093  0.749957  0.756006  ...   0.739851   0.739346   \n",
       "\n",
       "           time_1590  time_1620  time_1650  time_1680  time_1710  time_1740  \\\n",
       "cox_crude   0.712376   0.710032   0.711739   0.711844   0.712153   0.712078   \n",
       "cox_cc      0.739217   0.744140   0.743436   0.740559   0.735132   0.732202   \n",
       "\n",
       "           time_1770  time_1800  \n",
       "cox_crude   0.715026   0.716995  \n",
       "cox_cc      0.732925   0.730467  \n",
       "\n",
       "[2 rows x 60 columns]"
      ]
     },
     "execution_count": 157,
     "metadata": {},
     "output_type": "execute_result"
    }
   ],
   "source": [
    "cox_auc_over5"
   ]
  },
  {
   "cell_type": "code",
   "execution_count": 158,
   "id": "7e4bd156",
   "metadata": {},
   "outputs": [],
   "source": [
    "cox_auc_over5.to_csv('cox_auc_over5.csv', index = True, header = True)"
   ]
  },
  {
   "cell_type": "code",
   "execution_count": 159,
   "id": "81336c43",
   "metadata": {},
   "outputs": [],
   "source": [
    "ml_auc_df = pd.read_csv('ml_auc_df.csv', dtype = {'auc_2yr_te': np.float64,\n",
    "                                                  'sem_te': np.float64,\n",
    "                                                  'auc_2yr_tr': np.float64,\n",
    "                                                  'sem_tr': np.float64})"
   ]
  },
  {
   "cell_type": "code",
   "execution_count": 160,
   "id": "ee60a015",
   "metadata": {},
   "outputs": [
    {
     "data": {
      "text/html": [
       "<div>\n",
       "<style scoped>\n",
       "    .dataframe tbody tr th:only-of-type {\n",
       "        vertical-align: middle;\n",
       "    }\n",
       "\n",
       "    .dataframe tbody tr th {\n",
       "        vertical-align: top;\n",
       "    }\n",
       "\n",
       "    .dataframe thead th {\n",
       "        text-align: right;\n",
       "    }\n",
       "</style>\n",
       "<table border=\"1\" class=\"dataframe\">\n",
       "  <thead>\n",
       "    <tr style=\"text-align: right;\">\n",
       "      <th></th>\n",
       "      <th>model</th>\n",
       "      <th>auc_2yr_te</th>\n",
       "      <th>sem_te</th>\n",
       "      <th>auc_2yr_tr</th>\n",
       "      <th>sem_tr</th>\n",
       "    </tr>\n",
       "  </thead>\n",
       "  <tbody>\n",
       "    <tr>\n",
       "      <th>0</th>\n",
       "      <td>gbm_crude</td>\n",
       "      <td>0.814230</td>\n",
       "      <td>0.006072</td>\n",
       "      <td>0.850084</td>\n",
       "      <td>0.002805</td>\n",
       "    </tr>\n",
       "    <tr>\n",
       "      <th>1</th>\n",
       "      <td>rsf_crude</td>\n",
       "      <td>0.795440</td>\n",
       "      <td>0.006377</td>\n",
       "      <td>0.883202</td>\n",
       "      <td>0.002398</td>\n",
       "    </tr>\n",
       "    <tr>\n",
       "      <th>2</th>\n",
       "      <td>ridge_crude</td>\n",
       "      <td>0.782643</td>\n",
       "      <td>0.006584</td>\n",
       "      <td>0.784937</td>\n",
       "      <td>0.003340</td>\n",
       "    </tr>\n",
       "    <tr>\n",
       "      <th>3</th>\n",
       "      <td>lasso_crude</td>\n",
       "      <td>0.783386</td>\n",
       "      <td>0.006583</td>\n",
       "      <td>0.785551</td>\n",
       "      <td>0.003348</td>\n",
       "    </tr>\n",
       "    <tr>\n",
       "      <th>4</th>\n",
       "      <td>enet_crude</td>\n",
       "      <td>0.783361</td>\n",
       "      <td>0.006578</td>\n",
       "      <td>0.785536</td>\n",
       "      <td>0.003336</td>\n",
       "    </tr>\n",
       "    <tr>\n",
       "      <th>5</th>\n",
       "      <td>linear_svm_crude</td>\n",
       "      <td>0.785235</td>\n",
       "      <td>0.006473</td>\n",
       "      <td>0.790172</td>\n",
       "      <td>0.003294</td>\n",
       "    </tr>\n",
       "    <tr>\n",
       "      <th>6</th>\n",
       "      <td>gbm_mice</td>\n",
       "      <td>0.817845</td>\n",
       "      <td>0.002939</td>\n",
       "      <td>0.840650</td>\n",
       "      <td>0.005536</td>\n",
       "    </tr>\n",
       "  </tbody>\n",
       "</table>\n",
       "</div>"
      ],
      "text/plain": [
       "              model  auc_2yr_te    sem_te  auc_2yr_tr    sem_tr\n",
       "0         gbm_crude    0.814230  0.006072    0.850084  0.002805\n",
       "1         rsf_crude    0.795440  0.006377    0.883202  0.002398\n",
       "2       ridge_crude    0.782643  0.006584    0.784937  0.003340\n",
       "3       lasso_crude    0.783386  0.006583    0.785551  0.003348\n",
       "4        enet_crude    0.783361  0.006578    0.785536  0.003336\n",
       "5  linear_svm_crude    0.785235  0.006473    0.790172  0.003294\n",
       "6          gbm_mice    0.817845  0.002939    0.840650  0.005536"
      ]
     },
     "execution_count": 160,
     "metadata": {},
     "output_type": "execute_result"
    }
   ],
   "source": [
    "ml_auc_df"
   ]
  },
  {
   "cell_type": "code",
   "execution_count": 161,
   "id": "dfa9af7b",
   "metadata": {},
   "outputs": [],
   "source": [
    "all_models_auc_df = ml_auc_df.append(cox_auc_df, ignore_index = True)"
   ]
  },
  {
   "cell_type": "code",
   "execution_count": 162,
   "id": "dbe2bcd9",
   "metadata": {},
   "outputs": [
    {
     "data": {
      "text/html": [
       "<div>\n",
       "<style scoped>\n",
       "    .dataframe tbody tr th:only-of-type {\n",
       "        vertical-align: middle;\n",
       "    }\n",
       "\n",
       "    .dataframe tbody tr th {\n",
       "        vertical-align: top;\n",
       "    }\n",
       "\n",
       "    .dataframe thead th {\n",
       "        text-align: right;\n",
       "    }\n",
       "</style>\n",
       "<table border=\"1\" class=\"dataframe\">\n",
       "  <thead>\n",
       "    <tr style=\"text-align: right;\">\n",
       "      <th></th>\n",
       "      <th>model</th>\n",
       "      <th>auc_2yr_te</th>\n",
       "      <th>sem_te</th>\n",
       "      <th>auc_2yr_tr</th>\n",
       "      <th>sem_tr</th>\n",
       "    </tr>\n",
       "  </thead>\n",
       "  <tbody>\n",
       "    <tr>\n",
       "      <th>6</th>\n",
       "      <td>gbm_mice</td>\n",
       "      <td>0.817845</td>\n",
       "      <td>0.002939</td>\n",
       "      <td>0.840650</td>\n",
       "      <td>0.005536</td>\n",
       "    </tr>\n",
       "    <tr>\n",
       "      <th>0</th>\n",
       "      <td>gbm_crude</td>\n",
       "      <td>0.814230</td>\n",
       "      <td>0.006072</td>\n",
       "      <td>0.850084</td>\n",
       "      <td>0.002805</td>\n",
       "    </tr>\n",
       "    <tr>\n",
       "      <th>1</th>\n",
       "      <td>rsf_crude</td>\n",
       "      <td>0.795440</td>\n",
       "      <td>0.006377</td>\n",
       "      <td>0.883202</td>\n",
       "      <td>0.002398</td>\n",
       "    </tr>\n",
       "    <tr>\n",
       "      <th>5</th>\n",
       "      <td>linear_svm_crude</td>\n",
       "      <td>0.785235</td>\n",
       "      <td>0.006473</td>\n",
       "      <td>0.790172</td>\n",
       "      <td>0.003294</td>\n",
       "    </tr>\n",
       "    <tr>\n",
       "      <th>3</th>\n",
       "      <td>lasso_crude</td>\n",
       "      <td>0.783386</td>\n",
       "      <td>0.006583</td>\n",
       "      <td>0.785551</td>\n",
       "      <td>0.003348</td>\n",
       "    </tr>\n",
       "    <tr>\n",
       "      <th>4</th>\n",
       "      <td>enet_crude</td>\n",
       "      <td>0.783361</td>\n",
       "      <td>0.006578</td>\n",
       "      <td>0.785536</td>\n",
       "      <td>0.003336</td>\n",
       "    </tr>\n",
       "    <tr>\n",
       "      <th>2</th>\n",
       "      <td>ridge_crude</td>\n",
       "      <td>0.782643</td>\n",
       "      <td>0.006584</td>\n",
       "      <td>0.784937</td>\n",
       "      <td>0.003340</td>\n",
       "    </tr>\n",
       "    <tr>\n",
       "      <th>8</th>\n",
       "      <td>cox_cc</td>\n",
       "      <td>0.754317</td>\n",
       "      <td>0.010813</td>\n",
       "      <td>0.754807</td>\n",
       "      <td>0.005609</td>\n",
       "    </tr>\n",
       "    <tr>\n",
       "      <th>7</th>\n",
       "      <td>cox_crude</td>\n",
       "      <td>0.738158</td>\n",
       "      <td>0.007091</td>\n",
       "      <td>0.740144</td>\n",
       "      <td>0.003577</td>\n",
       "    </tr>\n",
       "  </tbody>\n",
       "</table>\n",
       "</div>"
      ],
      "text/plain": [
       "              model  auc_2yr_te    sem_te  auc_2yr_tr    sem_tr\n",
       "6          gbm_mice    0.817845  0.002939    0.840650  0.005536\n",
       "0         gbm_crude    0.814230  0.006072    0.850084  0.002805\n",
       "1         rsf_crude    0.795440  0.006377    0.883202  0.002398\n",
       "5  linear_svm_crude    0.785235  0.006473    0.790172  0.003294\n",
       "3       lasso_crude    0.783386  0.006583    0.785551  0.003348\n",
       "4        enet_crude    0.783361  0.006578    0.785536  0.003336\n",
       "2       ridge_crude    0.782643  0.006584    0.784937  0.003340\n",
       "8            cox_cc    0.754317  0.010813    0.754807  0.005609\n",
       "7         cox_crude    0.738158  0.007091    0.740144  0.003577"
      ]
     },
     "execution_count": 162,
     "metadata": {},
     "output_type": "execute_result"
    }
   ],
   "source": [
    "all_models_auc_df.sort_values(by = 'auc_2yr_te', ascending = False)"
   ]
  },
  {
   "cell_type": "code",
   "execution_count": 163,
   "id": "81414f9a",
   "metadata": {},
   "outputs": [],
   "source": [
    "all_models_auc_df.to_csv('all_models_auc_df.csv', index = False, header = True)"
   ]
  },
  {
   "cell_type": "markdown",
   "id": "6721bc77",
   "metadata": {},
   "source": [
    "**In conclusion, the Cox model performs less well than the machine learning models in regards to 2-year test AUC.** "
   ]
  }
 ],
 "metadata": {
  "kernelspec": {
   "display_name": "My Virtual Environment",
   "language": "python",
   "name": "myenv"
  },
  "language_info": {
   "codemirror_mode": {
    "name": "ipython",
    "version": 3
   },
   "file_extension": ".py",
   "mimetype": "text/x-python",
   "name": "python",
   "nbconvert_exporter": "python",
   "pygments_lexer": "ipython3",
   "version": "3.7.10"
  }
 },
 "nbformat": 4,
 "nbformat_minor": 5
}
