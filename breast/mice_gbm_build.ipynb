{
 "cells": [
  {
   "cell_type": "markdown",
   "id": "ca9204e2",
   "metadata": {},
   "source": [
    "# Flatiron Health mBC: MICE\n",
    "\n",
    "**OBJECTIVE: Impute missing variables in the training dataset using multiple imputation chained equations (MICE). Five non-missing training sets will be construced using MICE along with 5 test sets. A gradient boosted model will be fit to each training dataset and a test set AUC will be calculated. The 1 year AUCs from the test set will be pooled to get a final estimate.** \n",
    "\n",
    "**BACKGROUND: The variables with the most missingness at time of advanced diagnosis are ECOG (50%), labs (30%), and changes in weight (11%). These three variables have high predictive value in our models. Up until this point, missingness has been handled by making \"unknown\" a level in the ECOG variable and imputing median for lab values and weight loss. While this imputation strategy is simple and fast, it likely understimates the variance of variables and disturb relations between variables when the data is not missing completely at random.** \n",
    "\n",
    "**Variables that will be imputed with MICE:** \n",
    "1. **ECOG (48% missing)**\n",
    "2. **BMI (15% missing)**\n",
    "3. **Weight (25% missing)**\n",
    "4. **Percent change in weight and weight slope (11% missing)**\n",
    "5. **Socioeconomic status (20% missing)**\n",
    "6. **Stage (6%)**\n",
    "7. **Labs at time of advanced diagnosis (30% missing)**\n",
    "8. **Subset of summary labs (40% missing)**\n",
    "\n",
    "**Five complete training sets will be imputed using the Python package \"miceforest\" which uses lightgbm as a backend. Five complete test sets will also be imputed from the final model used to impute the training set values. All existing variables including outcome variables like death status and time until event will be utilized to aid in the imputations. In addition, auxillary variables such as receipt of treatment, weight and BMI at 3 months, and labs at 3 months will be created to augment imputations.**   \n",
    "\n",
    "**After complete training and test sets are constructed, a gradient boosted survival model will be built for each training set in the same fashion as in the crude imputation notebook. Final test AUCs will be pooled using Rubin's rules.**\n",
    "\n",
    "**OUTLINE:**\n",
    "1. **Building auxillary variables** \n",
    "2. **Performing MICE on training and test sets** \n",
    "3. **Building gradient boosting models on imputed datasets**\n",
    "4. **Pooling results**"
   ]
  },
  {
   "cell_type": "markdown",
   "id": "b4a6bbdc",
   "metadata": {},
   "source": [
    "## 1. Building auxillary varibles "
   ]
  },
  {
   "cell_type": "code",
   "execution_count": 1,
   "id": "348ee624",
   "metadata": {},
   "outputs": [],
   "source": [
    "import numpy as np\n",
    "import pandas as pd"
   ]
  },
  {
   "cell_type": "code",
   "execution_count": 2,
   "id": "2a83eee5",
   "metadata": {},
   "outputs": [],
   "source": [
    "# Function that returns number of rows and count of unique PatientIDs for a dataframe. \n",
    "def row_ID(dataframe):\n",
    "    row = dataframe.shape[0]\n",
    "    ID = dataframe['PatientID'].nunique()\n",
    "    return row, ID"
   ]
  },
  {
   "cell_type": "markdown",
   "id": "7e4357d4",
   "metadata": {},
   "source": [
    "### 1.1 Preprocessing"
   ]
  },
  {
   "cell_type": "code",
   "execution_count": 3,
   "id": "6d8988f0",
   "metadata": {},
   "outputs": [
    {
     "data": {
      "text/plain": [
       "(25341, 25341)"
      ]
     },
     "execution_count": 4,
     "metadata": {},
     "output_type": "execute_result"
    }
   ],
   "source": [
    "train = pd.read_csv('train_full.csv')\n",
    "row_ID(train)"
   ]
  },
  {
   "cell_type": "code",
   "execution_count": 4,
   "id": "1367d681",
   "metadata": {},
   "outputs": [
    {
     "data": {
      "text/plain": [
       "(6336, 6336)"
      ]
     },
     "execution_count": 5,
     "metadata": {},
     "output_type": "execute_result"
    }
   ],
   "source": [
    "test = pd.read_csv('test_full.csv')\n",
    "row_ID(test)"
   ]
  },
  {
   "cell_type": "code",
   "execution_count": 5,
   "id": "ce51773f",
   "metadata": {},
   "outputs": [
    {
     "data": {
      "text/plain": [
       "(31677, 31677)"
      ]
     },
     "execution_count": 6,
     "metadata": {},
     "output_type": "execute_result"
    }
   ],
   "source": [
    "df = pd.concat([train, test], ignore_index = True)\n",
    "row_ID(df)"
   ]
  },
  {
   "cell_type": "markdown",
   "id": "04e736ce",
   "metadata": {},
   "source": [
    "### 1.2 Treatment "
   ]
  },
  {
   "cell_type": "markdown",
   "id": "fecaa68f",
   "metadata": {},
   "source": [
    "**Add indicator variables for first, second, and third line treatment. Treatment will be defined as having received an FDA approved targeted agent for the treatment of metastatic breast cancer.** "
   ]
  },
  {
   "cell_type": "code",
   "execution_count": 6,
   "id": "519a62a2",
   "metadata": {},
   "outputs": [],
   "source": [
    "line_therapy = pd.read_csv('LineOfTherapy.csv')"
   ]
  },
  {
   "cell_type": "code",
   "execution_count": 7,
   "id": "11dd0c5d",
   "metadata": {},
   "outputs": [],
   "source": [
    "line_therapy = line_therapy[line_therapy['PatientID'].isin(df['PatientID'])]"
   ]
  },
  {
   "cell_type": "code",
   "execution_count": 8,
   "id": "42774bd9",
   "metadata": {},
   "outputs": [],
   "source": [
    "# List of FDA approved drugs for mBC as of May 2023. Clinical study drug is also included. \n",
    "fda_yes = [\n",
    "    'Abemaciclib',\n",
    "    'Alpelisib',\n",
    "    'Anastrozole',\n",
    "    'Atezolizumab',\n",
    "    'Avelumab',\n",
    "    'Capecitabine',\n",
    "    'Carboplatin',\n",
    "    'Cisplatin',\n",
    "    'Cyclophosphamide',\n",
    "    'Docetaxel',\n",
    "    'Elacestrant',\n",
    "    'Epirubicin',\n",
    "    'Everolimus',\n",
    "    'Exemestane',\n",
    "    'Fluorouracil',\n",
    "    'Fulvestrant',\n",
    "    'Gemcitabine',\n",
    "    'Goserelin',\n",
    "    'Ixabepilone',\n",
    "    'Letrozole',\n",
    "    'Olaparib',\n",
    "    'Paclitaxel',\n",
    "    'Paclitaxel Protein-Bound',\n",
    "    'Palbociclib',\n",
    "    'Pembrolizumab',\n",
    "    'Pertuzumab ',\n",
    "    'Ribociclib',\n",
    "    'Sacituzumab Govitecan-Hziy',\n",
    "    'Talazoparib',\n",
    "    'Tamoxifen',\n",
    "    'Trastuzumab',\n",
    "    'Ado-Trastuzumab Emtansine',\n",
    "    'Fam-Trastuzumab Deruxtecan-Nxki',\n",
    "    'Vinorelbine',\n",
    "    'Clinical Study Drug'\n",
    "]"
   ]
  },
  {
   "cell_type": "code",
   "execution_count": 9,
   "id": "bdd5bcd2",
   "metadata": {},
   "outputs": [],
   "source": [
    "line_therapy_1 = (\n",
    "    line_therapy.query('LineNumber == 1')\n",
    "    .query('IsMaintenanceTherapy == False')\n",
    "    .drop_duplicates(subset = 'PatientID', keep = 'first'))\n",
    "\n",
    "line_therapy_2 = (\n",
    "    line_therapy.query('LineNumber == 2')\n",
    "    .query('IsMaintenanceTherapy == False')\n",
    "    .drop_duplicates(subset = 'PatientID', keep = 'first'))\n",
    "\n",
    "line_therapy_3 = (\n",
    "    line_therapy.query('LineNumber == 3')\n",
    "    .query('IsMaintenanceTherapy == False')\n",
    "    .drop_duplicates(subset = 'PatientID', keep = 'first'))\n",
    "\n",
    "line_therapy_4 = (\n",
    "    line_therapy.query('LineNumber == 4')\n",
    "    .query('IsMaintenanceTherapy == False')\n",
    "    .drop_duplicates(subset = 'PatientID', keep = 'first'))"
   ]
  },
  {
   "cell_type": "code",
   "execution_count": 10,
   "id": "f03b0f59",
   "metadata": {},
   "outputs": [],
   "source": [
    "line_therapy_1.loc[:, 'line_1'] = np.where(\n",
    "    line_therapy_1['LineName'].str.contains('|'.join(fda_yes)), 1, 0)\n",
    "\n",
    "line_therapy_2.loc[:, 'line_2'] = np.where(\n",
    "    line_therapy_2['LineName'].str.contains('|'.join(fda_yes)), 1, 0)\n",
    "\n",
    "line_therapy_3.loc[:, 'line_3'] = np.where(\n",
    "    line_therapy_3['LineName'].str.contains('|'.join(fda_yes)), 1, 0)\n",
    "\n",
    "line_therapy_4.loc[:, 'line_4'] = np.where(\n",
    "    line_therapy_4['LineName'].str.contains('|'.join(fda_yes)), 1, 0)"
   ]
  },
  {
   "cell_type": "code",
   "execution_count": 11,
   "id": "f3693d9d",
   "metadata": {},
   "outputs": [],
   "source": [
    "line_therapy_1 = line_therapy_1[['PatientID', 'line_1']]\n",
    "line_therapy_2 = line_therapy_2[['PatientID', 'line_2']]\n",
    "line_therapy_3 = line_therapy_3[['PatientID', 'line_3']]\n",
    "line_therapy_4 = line_therapy_4[['PatientID', 'line_4']]"
   ]
  },
  {
   "cell_type": "code",
   "execution_count": 12,
   "id": "c009cadc",
   "metadata": {},
   "outputs": [],
   "source": [
    "df = pd.merge(df, line_therapy_1, on = 'PatientID', how = 'outer')\n",
    "df = pd.merge(df, line_therapy_2, on = 'PatientID', how = 'outer')\n",
    "df = pd.merge(df, line_therapy_3, on = 'PatientID', how = 'outer')\n",
    "df = pd.merge(df, line_therapy_4, on = 'PatientID', how = 'outer')"
   ]
  },
  {
   "cell_type": "code",
   "execution_count": 13,
   "id": "8916584f",
   "metadata": {},
   "outputs": [],
   "source": [
    "df[['line_1', 'line_2', 'line_3', 'line_4']] = df[['line_1', 'line_2', 'line_3', 'line_4']].fillna(value = 0)"
   ]
  },
  {
   "cell_type": "code",
   "execution_count": 14,
   "id": "413101ef",
   "metadata": {},
   "outputs": [
    {
     "data": {
      "text/plain": [
       "1.0    27055\n",
       "0.0     4622\n",
       "Name: line_1, dtype: int64"
      ]
     },
     "execution_count": 15,
     "metadata": {},
     "output_type": "execute_result"
    }
   ],
   "source": [
    "df.line_1.value_counts()"
   ]
  },
  {
   "cell_type": "code",
   "execution_count": 15,
   "id": "129897db",
   "metadata": {},
   "outputs": [
    {
     "data": {
      "text/plain": [
       "1.0    16915\n",
       "0.0    14762\n",
       "Name: line_2, dtype: int64"
      ]
     },
     "execution_count": 16,
     "metadata": {},
     "output_type": "execute_result"
    }
   ],
   "source": [
    "df.line_2.value_counts()"
   ]
  },
  {
   "cell_type": "code",
   "execution_count": 16,
   "id": "67486be0",
   "metadata": {},
   "outputs": [
    {
     "data": {
      "text/plain": [
       "0.0    21226\n",
       "1.0    10451\n",
       "Name: line_3, dtype: int64"
      ]
     },
     "execution_count": 17,
     "metadata": {},
     "output_type": "execute_result"
    }
   ],
   "source": [
    "df.line_3.value_counts()"
   ]
  },
  {
   "cell_type": "code",
   "execution_count": 17,
   "id": "5788ec6e",
   "metadata": {},
   "outputs": [
    {
     "data": {
      "text/plain": [
       "0.0    25205\n",
       "1.0     6472\n",
       "Name: line_4, dtype: int64"
      ]
     },
     "execution_count": 18,
     "metadata": {},
     "output_type": "execute_result"
    }
   ],
   "source": [
    "df.line_4.value_counts()"
   ]
  },
  {
   "cell_type": "code",
   "execution_count": 18,
   "id": "e260ada5",
   "metadata": {},
   "outputs": [
    {
     "data": {
      "text/plain": [
       "(31677, 31677)"
      ]
     },
     "execution_count": 19,
     "metadata": {},
     "output_type": "execute_result"
    }
   ],
   "source": [
    "row_ID(df)"
   ]
  },
  {
   "cell_type": "code",
   "execution_count": 19,
   "id": "065c7557",
   "metadata": {},
   "outputs": [],
   "source": [
    "del line_therapy\n",
    "del line_therapy_1\n",
    "del line_therapy_2\n",
    "del line_therapy_3\n",
    "del line_therapy_4"
   ]
  },
  {
   "cell_type": "markdown",
   "id": "b623af9f",
   "metadata": {},
   "source": [
    "### 1.3 Weight"
   ]
  },
  {
   "cell_type": "code",
   "execution_count": 20,
   "id": "c2eaecdf",
   "metadata": {},
   "outputs": [],
   "source": [
    "vitals = pd.read_csv('Vitals.csv')\n",
    "\n",
    "vitals = vitals[vitals['PatientID'].isin(df['PatientID'])]"
   ]
  },
  {
   "cell_type": "code",
   "execution_count": 21,
   "id": "a6a6cf12",
   "metadata": {},
   "outputs": [],
   "source": [
    "enhanced_met = enhanced_met = pd.read_csv('Enhanced_MetastaticBreast.csv')\n",
    "\n",
    "enhanced_met = enhanced_met[enhanced_met['PatientID'].isin(df['PatientID'])]\n",
    "                                                              \n",
    "enhanced_met.loc[:, 'MetDiagnosisDate'] = pd.to_datetime(enhanced_met['MetDiagnosisDate'])\n",
    "\n",
    "enhanced_met = enhanced_met.rename(columns = {'MetDiagnosisDate': 'met_date'})"
   ]
  },
  {
   "cell_type": "markdown",
   "id": "d67ba2e7",
   "metadata": {},
   "source": [
    "#### Weight and BMI"
   ]
  },
  {
   "cell_type": "code",
   "execution_count": 22,
   "id": "48c4f113",
   "metadata": {},
   "outputs": [],
   "source": [
    "# Create weight dataframe; remove weight values that are empty or equal to zero.\n",
    "weight = (\n",
    "    vitals\n",
    "    .query('Test == \"body weight\"')\n",
    "    .filter(items = ['PatientID', 'TestDate', 'TestResultCleaned'])\n",
    "    .rename(columns = {'TestResultCleaned': 'weight'})\n",
    "    .dropna(subset = ['weight'])\n",
    "    .query('weight != 0')\n",
    ")"
   ]
  },
  {
   "cell_type": "code",
   "execution_count": 23,
   "id": "98549436",
   "metadata": {},
   "outputs": [],
   "source": [
    "weight.loc[:, 'TestDate'] = pd.to_datetime(weight['TestDate'])"
   ]
  },
  {
   "cell_type": "code",
   "execution_count": 24,
   "id": "559c592a",
   "metadata": {},
   "outputs": [],
   "source": [
    "weight = pd.merge(weight, enhanced_met[['PatientID', 'met_date']], on = 'PatientID', how = 'left')"
   ]
  },
  {
   "cell_type": "code",
   "execution_count": 25,
   "id": "bb723cc3",
   "metadata": {},
   "outputs": [],
   "source": [
    "# Weight elgibliity window is -60 to +60 from 6 months after metastatic diagnosis. \n",
    "weight_win_bmi = (\n",
    "    weight\n",
    "    .assign(weight_date_diff = ((weight['TestDate'] - (weight['met_date'] + pd.DateOffset(days = 180))).dt.days))\n",
    "    .query('weight_date_diff >= -60 and weight_date_diff <= 60')\n",
    ")"
   ]
  },
  {
   "cell_type": "code",
   "execution_count": 26,
   "id": "d29595ef",
   "metadata": {},
   "outputs": [],
   "source": [
    "weight_win_bmi.loc[:, 'weight_date_diff'] = weight_win_bmi['weight_date_diff'].abs()"
   ]
  },
  {
   "cell_type": "code",
   "execution_count": 27,
   "id": "597cb1a0",
   "metadata": {},
   "outputs": [],
   "source": [
    "# Select weight closest to +180 from metastatic diagnosis; lowest weight selected in the event of two weights on same day or equidistant. \n",
    "weight_bmi_wide = (\n",
    "    weight_win_bmi\n",
    "    .sort_values(by = ['PatientID', 'weight_date_diff', 'weight'], ascending = [True, True, True])\n",
    "    .drop_duplicates(subset = ['PatientID'], keep = 'first')\n",
    "    .filter(items = ['PatientID', 'weight'])\n",
    "    .rename(columns = {'weight': 'weight_180'})\n",
    ")"
   ]
  },
  {
   "cell_type": "code",
   "execution_count": 28,
   "id": "53981418",
   "metadata": {},
   "outputs": [],
   "source": [
    "# Dataframe of average height for each patient. \n",
    "height_avg = (\n",
    "    vitals\n",
    "    .query('Test == \"body height\"')\n",
    "    .filter(items = ['PatientID', 'TestResultCleaned'])\n",
    "    .groupby('PatientID')['TestResultCleaned'].mean()\n",
    "    .to_frame()\n",
    "    .reset_index()\n",
    "    .rename(columns = {'TestResultCleaned': 'height_avg'})\n",
    ")"
   ]
  },
  {
   "cell_type": "code",
   "execution_count": 29,
   "id": "1260849c",
   "metadata": {},
   "outputs": [],
   "source": [
    "weight_bmi_wide = pd.merge(weight_bmi_wide, height_avg, on = 'PatientID', how = 'left')"
   ]
  },
  {
   "cell_type": "code",
   "execution_count": 30,
   "id": "3b6a5aa9",
   "metadata": {},
   "outputs": [],
   "source": [
    "# Create BMI column. \n",
    "weight_bmi_wide = (\n",
    "    weight_bmi_wide\n",
    "    .assign(bmi_180 = lambda x: (x['weight_180']/(x['height_avg']*x['height_avg']))*10000)\n",
    "    .drop(columns = ['height_avg'])\n",
    ")"
   ]
  },
  {
   "cell_type": "code",
   "execution_count": 31,
   "id": "c6119e6f",
   "metadata": {},
   "outputs": [],
   "source": [
    "df = pd.merge(df, weight_bmi_wide, on = 'PatientID', how = 'outer')"
   ]
  },
  {
   "cell_type": "code",
   "execution_count": 32,
   "id": "5aa47cf5",
   "metadata": {},
   "outputs": [
    {
     "data": {
      "text/plain": [
       "(31677, 31677)"
      ]
     },
     "execution_count": 34,
     "metadata": {},
     "output_type": "execute_result"
    }
   ],
   "source": [
    "row_ID(df)"
   ]
  },
  {
   "cell_type": "markdown",
   "id": "0d869ba1",
   "metadata": {},
   "source": [
    "#### Percent change in weight "
   ]
  },
  {
   "cell_type": "code",
   "execution_count": 33,
   "id": "125bbf8e",
   "metadata": {},
   "outputs": [],
   "source": [
    "# Select elgbility window of -90 to +365 days from metastatic diagnosis.\n",
    "weight_win_summary = (\n",
    "    weight\n",
    "    .assign(weight_date_diff = (weight['TestDate'] - weight['met_date']).dt.days)\n",
    "    .query('weight_date_diff >= -90 and weight_date_diff <= 365')\n",
    ")"
   ]
  },
  {
   "cell_type": "code",
   "execution_count": 34,
   "id": "e8aad986",
   "metadata": {},
   "outputs": [],
   "source": [
    "# Select patients with more than 1 weight recording within elgibility window.\n",
    "weight_win_summary = weight_win_summary[weight_win_summary.duplicated(subset = ['PatientID'], keep = False)]"
   ]
  },
  {
   "cell_type": "code",
   "execution_count": 35,
   "id": "4e41d1fd",
   "metadata": {},
   "outputs": [],
   "source": [
    "# Select weight from the earliest time within elgibility window. \n",
    "weight_tmin = weight_win_summary.loc[weight_win_summary.groupby('PatientID')['weight_date_diff'].idxmin()]"
   ]
  },
  {
   "cell_type": "code",
   "execution_count": 36,
   "id": "15ea9841",
   "metadata": {},
   "outputs": [],
   "source": [
    "# Select weight from the latest time within elgibility window. \n",
    "weight_tmax = weight_win_summary.loc[weight_win_summary.groupby('PatientID')['weight_date_diff'].idxmax()]"
   ]
  },
  {
   "cell_type": "code",
   "execution_count": 37,
   "id": "dd54af0f",
   "metadata": {},
   "outputs": [],
   "source": [
    "# Combine above two dataframes and sort from earliest recorded weight to latest recorded weight for each patient. \n",
    "weight_tcomb = (\n",
    "    pd.concat([weight_tmin, weight_tmax])\n",
    "    .sort_values(by = ['PatientID', 'weight_date_diff'], ascending = True)\n",
    ")"
   ]
  },
  {
   "cell_type": "code",
   "execution_count": 38,
   "id": "2dd1eac7",
   "metadata": {},
   "outputs": [],
   "source": [
    "weight_tcomb.loc[:, 'weight_pct_1yr'] = weight_tcomb.groupby('PatientID')['weight'].pct_change()"
   ]
  },
  {
   "cell_type": "code",
   "execution_count": 39,
   "id": "01b84aa5",
   "metadata": {},
   "outputs": [],
   "source": [
    "# Drop empty rows for weight_pct_change.\n",
    "weight_pct_wide = (\n",
    "    weight_tcomb\n",
    "    .dropna(subset = ['weight_pct_1yr'])\n",
    "    .filter(items = ['PatientID', 'weight_pct_1yr'])\n",
    ")"
   ]
  },
  {
   "cell_type": "code",
   "execution_count": 40,
   "id": "31feeaad",
   "metadata": {},
   "outputs": [],
   "source": [
    "df = pd.merge(df, weight_pct_wide, on = 'PatientID', how = 'outer')"
   ]
  },
  {
   "cell_type": "code",
   "execution_count": 41,
   "id": "0bc7b593",
   "metadata": {},
   "outputs": [
    {
     "data": {
      "text/plain": [
       "(31677, 31677)"
      ]
     },
     "execution_count": 43,
     "metadata": {},
     "output_type": "execute_result"
    }
   ],
   "source": [
    "row_ID(df)"
   ]
  },
  {
   "cell_type": "markdown",
   "id": "e618e2fc",
   "metadata": {},
   "source": [
    "#### Slope of weight "
   ]
  },
  {
   "cell_type": "code",
   "execution_count": 42,
   "id": "e80b8d2d",
   "metadata": {},
   "outputs": [],
   "source": [
    "import datetime as dt\n",
    "from scipy.stats import linregress "
   ]
  },
  {
   "cell_type": "code",
   "execution_count": 43,
   "id": "723d3a12",
   "metadata": {},
   "outputs": [],
   "source": [
    "weight_win_summary.loc[:, 'date_ordinal'] = weight_win_summary['TestDate'].map(dt.datetime.toordinal)"
   ]
  },
  {
   "cell_type": "code",
   "execution_count": 44,
   "id": "30e4c093",
   "metadata": {},
   "outputs": [
    {
     "name": "stderr",
     "output_type": "stream",
     "text": [
      "/Applications/anaconda3/lib/python3.7/site-packages/scipy/stats/_stats_mstats_common.py:170: RuntimeWarning: invalid value encountered in double_scalars\n",
      "  slope = ssxym / ssxm\n"
     ]
    }
   ],
   "source": [
    "# Dataframe of slope for weight recordings within window period (kg/day).\n",
    "weight_slope_wide = (\n",
    "    weight_win_summary\n",
    "    .groupby('PatientID')\n",
    "    .apply(lambda x: pd.Series(linregress(x['date_ordinal'], x['weight'])))\n",
    "    .rename(columns = {0: 'weight_slope_1yr'})\n",
    "    .reset_index()\n",
    "    .filter(items = ['PatientID', 'weight_slope_1yr'])) "
   ]
  },
  {
   "cell_type": "code",
   "execution_count": 45,
   "id": "cf5e2260",
   "metadata": {},
   "outputs": [],
   "source": [
    "df = pd.merge(df, weight_slope_wide, on = 'PatientID', how = 'outer')"
   ]
  },
  {
   "cell_type": "code",
   "execution_count": 46,
   "id": "12bce2de",
   "metadata": {},
   "outputs": [
    {
     "data": {
      "text/plain": [
       "(31677, 31677)"
      ]
     },
     "execution_count": 48,
     "metadata": {},
     "output_type": "execute_result"
    }
   ],
   "source": [
    "row_ID(df)"
   ]
  },
  {
   "cell_type": "code",
   "execution_count": 47,
   "id": "00970ced",
   "metadata": {},
   "outputs": [],
   "source": [
    "del height_avg\n",
    "del vitals\n",
    "del weight\n",
    "del weight_bmi_wide\n",
    "del weight_pct_wide\n",
    "del weight_slope_wide\n",
    "del weight_tcomb\n",
    "del weight_tmax\n",
    "del weight_tmin\n",
    "del weight_win_bmi\n",
    "del weight_win_summary"
   ]
  },
  {
   "cell_type": "markdown",
   "id": "c37c11b6",
   "metadata": {},
   "source": [
    "### 1.4 Static labs "
   ]
  },
  {
   "cell_type": "code",
   "execution_count": 48,
   "id": "353448d9",
   "metadata": {},
   "outputs": [],
   "source": [
    "lab = pd.read_csv('Lab.csv')"
   ]
  },
  {
   "cell_type": "code",
   "execution_count": 49,
   "id": "216295a1",
   "metadata": {},
   "outputs": [],
   "source": [
    "lab = lab[lab['PatientID'].isin(df['PatientID'])]"
   ]
  },
  {
   "cell_type": "code",
   "execution_count": 50,
   "id": "973353d9",
   "metadata": {},
   "outputs": [],
   "source": [
    "lab = pd.merge(lab, enhanced_met[['PatientID', 'met_date']], on = 'PatientID', how = 'left')"
   ]
  },
  {
   "cell_type": "code",
   "execution_count": 51,
   "id": "802861fb",
   "metadata": {},
   "outputs": [],
   "source": [
    "lab.loc[:, 'ResultDate'] = pd.to_datetime(lab['ResultDate']) "
   ]
  },
  {
   "cell_type": "code",
   "execution_count": 52,
   "id": "1d7080b5",
   "metadata": {},
   "outputs": [],
   "source": [
    "# Select rows with clinically relevant labs.\n",
    "lab_core = (\n",
    "    lab[\n",
    "    (lab['LOINC'] == \"2160-0\") |\n",
    "    (lab['LOINC'] == \"38483-4\") | \n",
    "    (lab['LOINC'] == \"718-7\") |\n",
    "    (lab['LOINC'] == \"20509-6\") |\n",
    "    (lab['LOINC'] == \"26464-8\") |\n",
    "    (lab['LOINC'] == \"6690-2\") |\n",
    "    (lab['LOINC'] == \"26499-4\") |\n",
    "    (lab['LOINC'] == \"751-8\") |\n",
    "    (lab['LOINC'] == \"30451-9\") |\n",
    "    (lab['LOINC'] == \"753-4\") |\n",
    "    (lab['LOINC'] == \"1751-7\") |\n",
    "    (lab['LOINC'] == \"42719-5\") |\n",
    "    (lab['LOINC'] == \"1975-2\") |\n",
    "    (lab['LOINC'] == \"2947-0\") |\n",
    "    (lab['LOINC'] == \"2951-2\") |\n",
    "    (lab['LOINC'] == \"1963-8\") |\n",
    "    (lab['LOINC'] == \"1959-6\") |\n",
    "    (lab['LOINC'] == \"14627-4\") |\n",
    "    (lab['LOINC'] == \"1960-4\") |\n",
    "    (lab['LOINC'] == \"2028-9\") |\n",
    "    (lab['LOINC'] == \"17861-6\") |\n",
    "    (lab['LOINC'] == \"49765-1\") |\n",
    "    (lab['LOINC'] == \"1920-8\") |\n",
    "    (lab['LOINC'] == \"1742-6\") | \n",
    "    (lab['LOINC'] == \"1743-4\") |\n",
    "    (lab['LOINC'] == \"1744-2\") |\n",
    "    (lab['LOINC'] == \"26515-7\") | \n",
    "    (lab['LOINC'] == \"777-3\") |\n",
    "    (lab['LOINC'] == \"778-1\") |\n",
    "    (lab['LOINC'] == \"49497-1\") | \n",
    "    (lab['LOINC'] == \"6298-4\") |\n",
    "    (lab['LOINC'] == \"2823-3\") |\n",
    "    (lab['LOINC'] == \"2075-0\") | \n",
    "    (lab['LOINC'] == \"3094-0\") | \n",
    "    (lab['LOINC'] == \"6768-6\")]\n",
    "    .filter(items = ['PatientID', \n",
    "                     'ResultDate', \n",
    "                     'LOINC', \n",
    "                     'LabComponent', \n",
    "                     'TestUnits', \n",
    "                     'TestUnitsCleaned', \n",
    "                     'TestResult', \n",
    "                     'TestResultCleaned', \n",
    "                     'met_date'])\n",
    ")"
   ]
  },
  {
   "cell_type": "code",
   "execution_count": 53,
   "id": "8726855c",
   "metadata": {},
   "outputs": [],
   "source": [
    "conditions = [\n",
    "    ((lab_core['LOINC'] == '2160-0') | (lab_core['LOINC'] == '38483-4')),\n",
    "    ((lab_core['LOINC'] == '718-7') | (lab_core['LOINC'] == '20509-6')),\n",
    "    ((lab_core['LOINC'] == '26464-8') | (lab_core['LOINC'] == '6690-2')), \n",
    "    ((lab_core['LOINC'] == '26499-4') | (lab_core['LOINC'] == '751-8') | (lab_core['LOINC'] == '30451-9') | (lab_core['LOINC'] == '753-4')),\n",
    "    (lab_core['LOINC'] == '1751-7'),\n",
    "    ((lab_core['LOINC'] == '42719-5') | (lab_core['LOINC'] == '1975-2')),\n",
    "    ((lab_core['LOINC'] == '2947-0') | (lab_core['LOINC'] == '2951-2')),\n",
    "    ((lab_core['LOINC'] == '1963-8') | (lab_core['LOINC'] == '1959-6') | (lab_core['LOINC'] == '14627-4') | (lab_core['LOINC'] == '1960-4') | (lab_core['LOINC'] == '2028-9')),\n",
    "    ((lab_core['LOINC'] == '17861-6') | (lab_core['LOINC'] == '49765-1')),\n",
    "    (lab_core['LOINC'] == '1920-8'),\n",
    "    ((lab_core['LOINC'] == '1742-6') | (lab_core['LOINC'] == '1743-4') | (lab_core['LOINC'] == '1744-2')),\n",
    "    ((lab_core['LOINC'] == '26515-7') | (lab_core['LOINC'] == '777-3') | (lab_core['LOINC'] == '778-1') | (lab_core['LOINC'] == '49497-1')),\n",
    "    ((lab_core['LOINC'] == '6298-4') | (lab_core['LOINC'] == '2823-3')),\n",
    "    (lab_core['LOINC'] == '2075-0'), \n",
    "    (lab_core['LOINC'] == '3094-0'),\n",
    "    (lab_core['LOINC'] == '6768-6')]\n",
    "\n",
    "choices = ['creatinine', \n",
    "           'hemoglobin', \n",
    "           'wbc', \n",
    "           'neutrophil_count',  \n",
    "           'albumin', \n",
    "           'total_bilirubin', \n",
    "           'sodium', \n",
    "           'bicarb',\n",
    "           'calcium',\n",
    "           'ast', \n",
    "           'alt',\n",
    "           'platelet',\n",
    "           'potassium', \n",
    "           'chloride',\n",
    "           'bun',\n",
    "           'alp']\n",
    "\n",
    "lab_core.loc[:, 'lab_name'] = np.select(conditions, choices)"
   ]
  },
  {
   "cell_type": "code",
   "execution_count": 54,
   "id": "b995e540",
   "metadata": {},
   "outputs": [],
   "source": [
    "lab_core = (\n",
    "    lab_core\n",
    "    .dropna(subset = ['TestResultCleaned'])\n",
    ")"
   ]
  },
  {
   "cell_type": "code",
   "execution_count": 55,
   "id": "df6d4bd7",
   "metadata": {},
   "outputs": [],
   "source": [
    "conditions = [\n",
    "    ((lab_core['lab_name'] == 'wbc') | (lab_core['lab_name'] == 'neutrophil_count') | (lab_core['lab_name'] == 'platelet')) & \n",
    "    (lab_core['TestUnits'] == '10*3/L'),\n",
    "    (lab_core['lab_name'] == 'hemoglobin') & (lab_core['TestUnits'] == 'g/uL')]\n",
    "\n",
    "choices = [lab_core['TestResultCleaned'] * 1000000,\n",
    "           lab_core['TestResultCleaned'] / 100000]\n",
    "\n",
    "lab_core.loc[:, 'test_result_cleaned'] = np.select(conditions, choices, default = lab_core['TestResultCleaned'])"
   ]
  },
  {
   "cell_type": "code",
   "execution_count": 56,
   "id": "7f33819e",
   "metadata": {},
   "outputs": [],
   "source": [
    "# Elgibliity window is +30 to +330 from metastatic diagnosis. \n",
    "lab_core_win = (\n",
    "    lab_core\n",
    "    .assign(lab_date_diff = ((lab_core['ResultDate'] - (lab_core['met_date'] + pd.DateOffset(days = 180))).dt.days))\n",
    "    .query('lab_date_diff >= -150 and lab_date_diff <= 150')\n",
    "    .filter(items = ['PatientID', 'ResultDate', 'TestResultCleaned', 'lab_name', 'met_date', 'test_result_cleaned', 'lab_date_diff'])\n",
    ")"
   ]
  },
  {
   "cell_type": "code",
   "execution_count": 57,
   "id": "28177c22",
   "metadata": {},
   "outputs": [],
   "source": [
    "lab_core_win.loc[:, 'lab_date_diff'] = lab_core_win['lab_date_diff'].abs()"
   ]
  },
  {
   "cell_type": "code",
   "execution_count": 58,
   "id": "c83bfd82",
   "metadata": {},
   "outputs": [],
   "source": [
    "# Select lab closest to 180 days after metastatic diagnosis and then pivot to a wide table. \n",
    "lab_180_wide = (\n",
    "    lab_core_win\n",
    "    .loc[lab_core_win.groupby(['PatientID', 'lab_name'])['lab_date_diff'].idxmin()]\n",
    "    .pivot(index = 'PatientID', columns = 'lab_name', values = 'test_result_cleaned')\n",
    "    .reset_index()\n",
    "    .rename(columns = {\n",
    "        'albumin': 'albumin_180',\n",
    "        'creatinine': 'creatinine_180',\n",
    "        'hemoglobin': 'hemoglobin_180',\n",
    "        'neutrophil_count': 'neutrophil_count_180',\n",
    "        'total_bilirubin': 'total_bilirubin_180',\n",
    "        'wbc': 'wbc_180',\n",
    "        'sodium': 'sodium_180', \n",
    "        'bicarb': 'bicarb_180',\n",
    "        'calcium': 'calcium_180',\n",
    "        'ast': 'ast_180', \n",
    "        'alt': 'alt_180',\n",
    "        'platelet': 'platelet_180',\n",
    "        'potassium': 'potassium_180',\n",
    "        'chloride': 'chloride_180',\n",
    "        'bun': 'bun_180', \n",
    "        'alp': 'alp_180'})\n",
    ")\n",
    "\n",
    "lab_180_wide.columns.name = None"
   ]
  },
  {
   "cell_type": "code",
   "execution_count": 59,
   "id": "0bdebed7",
   "metadata": {},
   "outputs": [],
   "source": [
    "df = pd.merge(df, lab_180_wide, on = 'PatientID', how = 'outer')"
   ]
  },
  {
   "cell_type": "code",
   "execution_count": 60,
   "id": "6d1c8dec",
   "metadata": {},
   "outputs": [
    {
     "data": {
      "text/plain": [
       "(31677, 31677)"
      ]
     },
     "execution_count": 63,
     "metadata": {},
     "output_type": "execute_result"
    }
   ],
   "source": [
    "row_ID(df)"
   ]
  },
  {
   "cell_type": "markdown",
   "id": "b0d9ec48",
   "metadata": {},
   "source": [
    "### 1.5 Summary labs"
   ]
  },
  {
   "cell_type": "code",
   "execution_count": 61,
   "id": "c15dcfc2",
   "metadata": {},
   "outputs": [],
   "source": [
    "# Elgibility window is negative infinity to +365 from metastatic diagnosis. \n",
    "lab_core_win_summ = (\n",
    "    lab_core\n",
    "    .assign(lab_date_diff = (lab_core['ResultDate'] - lab_core['met_date']).dt.days)\n",
    "    .query('lab_date_diff <= 365')\n",
    "    .filter(items = ['PatientID', 'ResultDate', 'TestResultCleaned', 'lab_name', 'met_date', 'test_result_cleaned', 'lab_date_diff'])\n",
    ")"
   ]
  },
  {
   "cell_type": "code",
   "execution_count": 62,
   "id": "3c42032d",
   "metadata": {},
   "outputs": [],
   "source": [
    "# Pivot table of maximum values for core labs during elgibility period of -inf to +150 days from advanced diagnosis. \n",
    "lab_max_wide = (\n",
    "    lab_core_win_summ\n",
    "    .groupby(['PatientID', 'lab_name'])['test_result_cleaned'].max()\n",
    "    .to_frame()\n",
    "    .reset_index()\n",
    "    .pivot(index = 'PatientID', columns = 'lab_name', values = 'test_result_cleaned')\n",
    "    .filter(items = ['alp', 'alt', 'ast', 'calcium', 'creatinine', 'total_bilirubin', 'wbc'])\n",
    "    .reset_index()\n",
    "    .rename(columns = {\n",
    "        'alp': 'alp_max_f',\n",
    "        'alt': 'alt_max_f',\n",
    "        'ast': 'ast_max_f',\n",
    "        'calcium': 'calcium_max_f',\n",
    "        'creatinine': 'creatinine_max_f',\n",
    "        'total_bilirubin': 'total_bilirubin_max_f',\n",
    "        'wbc': 'wbc_max_f'})\n",
    ")\n",
    "\n",
    "lab_max_wide.columns.name = None"
   ]
  },
  {
   "cell_type": "code",
   "execution_count": 63,
   "id": "8df02a99",
   "metadata": {},
   "outputs": [],
   "source": [
    "# Pivot table of minimum values for core labs during elgibility period of -inf to +150 days from advanced diagnosis. \n",
    "lab_min_wide = (\n",
    "    lab_core_win_summ\n",
    "    .groupby(['PatientID', 'lab_name'])['test_result_cleaned'].min()\n",
    "    .to_frame()\n",
    "    .reset_index()\n",
    "    .pivot(index = 'PatientID', columns = 'lab_name', values = 'test_result_cleaned')\n",
    "    .filter(items = ['albumin', 'bicarb', 'hemoglobin', 'platelet', 'sodium', 'wbc'])\n",
    "    .reset_index()\n",
    "    .rename(columns = {\n",
    "        'albumin': 'albumin_min_f',\n",
    "        'bicarb': 'bicarb_min_f',\n",
    "        'hemoglobin': 'hemoglobin_min_f',\n",
    "        'platelet': 'platelet_min_f',\n",
    "        'sodium': 'sodium_min_f', \n",
    "        'wbc': 'wbc_min_f'})\n",
    ")\n",
    "\n",
    "lab_min_wide.columns.name = None"
   ]
  },
  {
   "cell_type": "code",
   "execution_count": 64,
   "id": "2a1d4212",
   "metadata": {},
   "outputs": [],
   "source": [
    "df = pd.merge(df, lab_max_wide, on = 'PatientID', how = 'outer')"
   ]
  },
  {
   "cell_type": "code",
   "execution_count": 65,
   "id": "66ed7a36",
   "metadata": {},
   "outputs": [
    {
     "data": {
      "text/plain": [
       "(31677, 31677)"
      ]
     },
     "execution_count": 68,
     "metadata": {},
     "output_type": "execute_result"
    }
   ],
   "source": [
    "row_ID(df)"
   ]
  },
  {
   "cell_type": "code",
   "execution_count": 66,
   "id": "e5418c14",
   "metadata": {},
   "outputs": [],
   "source": [
    "df = pd.merge(df, lab_min_wide, on = 'PatientID', how = 'outer')"
   ]
  },
  {
   "cell_type": "code",
   "execution_count": 67,
   "id": "278206b3",
   "metadata": {},
   "outputs": [
    {
     "data": {
      "text/plain": [
       "(31677, 31677)"
      ]
     },
     "execution_count": 70,
     "metadata": {},
     "output_type": "execute_result"
    }
   ],
   "source": [
    "row_ID(df)"
   ]
  },
  {
   "cell_type": "code",
   "execution_count": 68,
   "id": "ed5b4296",
   "metadata": {},
   "outputs": [],
   "source": [
    "del enhanced_met\n",
    "del lab\n",
    "del lab_180_wide\n",
    "del lab_core\n",
    "del lab_core_win\n",
    "del lab_core_win_summ\n",
    "del lab_max_wide\n",
    "del lab_min_wide"
   ]
  },
  {
   "cell_type": "markdown",
   "id": "ea710ff5",
   "metadata": {},
   "source": [
    "### 1.6 Replacing 'unknown' with np.nan for variables of interest"
   ]
  },
  {
   "cell_type": "code",
   "execution_count": 69,
   "id": "e64561fb",
   "metadata": {},
   "outputs": [],
   "source": [
    "df = df.replace({'stage': {'unknown': np.nan, '0': 'I'},\n",
    "                 'ecog_diagnosis': {'unknown': np.nan}})"
   ]
  },
  {
   "cell_type": "code",
   "execution_count": 70,
   "id": "a6b8fb2a",
   "metadata": {},
   "outputs": [
    {
     "data": {
      "text/plain": [
       "IV     9762\n",
       "II     8165\n",
       "III    6416\n",
       "NaN    3757\n",
       "I      3577\n",
       "Name: stage, dtype: int64"
      ]
     },
     "execution_count": 73,
     "metadata": {},
     "output_type": "execute_result"
    }
   ],
   "source": [
    "df.stage.value_counts(dropna = False)"
   ]
  },
  {
   "cell_type": "code",
   "execution_count": 71,
   "id": "f7c84e7f",
   "metadata": {},
   "outputs": [
    {
     "data": {
      "text/plain": [
       "NaN    17518\n",
       "0.0     6813\n",
       "1.0     4908\n",
       "2.0     1718\n",
       "3.0      645\n",
       "4.0       75\n",
       "Name: ecog_diagnosis, dtype: int64"
      ]
     },
     "execution_count": 74,
     "metadata": {},
     "output_type": "execute_result"
    }
   ],
   "source": [
    "df.ecog_diagnosis.value_counts(dropna = False)"
   ]
  },
  {
   "cell_type": "markdown",
   "id": "db6135d8",
   "metadata": {},
   "source": [
    "### 1.7 Dropping unwanted summary variables "
   ]
  },
  {
   "cell_type": "code",
   "execution_count": 72,
   "id": "dd74e09c",
   "metadata": {},
   "outputs": [],
   "source": [
    "# Pasted from crude_model_building file \n",
    "drop_labs = [\n",
    "    'albumin_avg',\n",
    "    'alp_avg',\n",
    "    'alt_avg',\n",
    "    'ast_avg',\n",
    "    'bicarb_avg',\n",
    "    'bun_avg',\n",
    "    'calcium_avg',\n",
    "    'chloride_avg',\n",
    "    'creatinine_avg',\n",
    "    'hemoglobin_avg',\n",
    "    'neutrophil_count_avg',\n",
    "    'platelet_avg',\n",
    "    'potassium_avg',\n",
    "    'sodium_avg',\n",
    "    'total_bilirubin_avg',\n",
    "    'wbc_avg',\n",
    "    'albumin_max',\n",
    "    'bicarb_max',\n",
    "    'bun_max',\n",
    "    'chloride_max',\n",
    "    'hemoglobin_max',\n",
    "    'neutrophil_count_max',\n",
    "    'platelet_max',\n",
    "    'potassium_max',\n",
    "    'sodium_max',\n",
    "    'alp_min',\n",
    "    'alt_min',\n",
    "    'ast_min',\n",
    "    'bun_min',\n",
    "    'calcium_min',\n",
    "    'chloride_min',\n",
    "    'creatinine_min',\n",
    "    'neutrophil_count_min',\n",
    "    'potassium_min',\n",
    "    'total_bilirubin_min',\n",
    "    'albumin_std',\n",
    "    'alp_std',\n",
    "    'alt_std',\n",
    "    'ast_std',\n",
    "    'bicarb_std',\n",
    "    'bun_std',\n",
    "    'calcium_std',\n",
    "    'chloride_std',\n",
    "    'creatinine_std',\n",
    "    'hemoglobin_std',\n",
    "    'neutrophil_count_std',\n",
    "    'platelet_std',\n",
    "    'potassium_std',\n",
    "    'sodium_std',\n",
    "    'total_bilirubin_std',\n",
    "    'wbc_std',\n",
    "    'albumin_slope',\n",
    "    'alp_slope',\n",
    "    'alt_slope',\n",
    "    'ast_slope',\n",
    "    'bicarb_slope',\n",
    "    'bun_slope',\n",
    "    'calcium_slope',\n",
    "    'chloride_slope',\n",
    "    'creatinine_slope',\n",
    "    'hemoglobin_slope',\n",
    "    'neutrophil_count_slope',\n",
    "    'platelet_slope',\n",
    "    'potassium_slope',\n",
    "    'sodium_slope',\n",
    "    'total_bilirubin_slope',\n",
    "    'wbc_slope',\n",
    "    'albumin_slope_na',\n",
    "    'alp_slope_na',\n",
    "    'alt_slope_na',\n",
    "    'ast_slope_na',\n",
    "    'bicarb_slope_na',\n",
    "    'bun_slope_na',\n",
    "    'calcium_slope_na',\n",
    "    'chloride_slope_na',\n",
    "    'creatinine_slope_na',\n",
    "    'hemoglobin_slope_na',\n",
    "    'neutrophil_count_slope_na',\n",
    "    'platelet_slope_na',\n",
    "    'potassium_slope_na',\n",
    "    'sodium_slope_na',\n",
    "    'total_bilirubin_slope_na',\n",
    "    'wbc_slope_na']"
   ]
  },
  {
   "cell_type": "code",
   "execution_count": 73,
   "id": "2a5629da",
   "metadata": {},
   "outputs": [],
   "source": [
    "df = df.drop(columns = drop_labs)"
   ]
  },
  {
   "cell_type": "code",
   "execution_count": 74,
   "id": "6b56d51e",
   "metadata": {},
   "outputs": [
    {
     "data": {
      "text/plain": [
       "(31677, 171)"
      ]
     },
     "execution_count": 77,
     "metadata": {},
     "output_type": "execute_result"
    }
   ],
   "source": [
    "df.shape"
   ]
  },
  {
   "cell_type": "code",
   "execution_count": 75,
   "id": "280d4d53",
   "metadata": {},
   "outputs": [],
   "source": [
    "df.loc[:, 'alp_max_na'] = np.where(df['alp_max'].isna(), 1, 0)\n",
    "df.loc[:, 'alt_max_na'] = np.where(df['alt_max'].isna(), 1, 0)\n",
    "df.loc[:, 'ast_max_na'] = np.where(df['ast_max'].isna(), 1, 0)\n",
    "df.loc[:, 'calcium_max_na'] = np.where(df['calcium_max'].isna(), 1, 0)\n",
    "df.loc[:, 'creatinine_max_na'] = np.where(df['creatinine_max'].isna(), 1, 0)\n",
    "df.loc[:, 'total_bilirubin_max_na'] = np.where(df['total_bilirubin_max'].isna(), 1, 0)\n",
    "df.loc[:, 'wbc_max_na'] = np.where(df['wbc_max'].isna(), 1, 0)\n",
    "df.loc[:, 'albumin_min_na'] = np.where(df['albumin_min'].isna(), 1, 0)\n",
    "df.loc[:, 'bicarb_min_na'] = np.where(df['bicarb_min'].isna(), 1, 0)\n",
    "df.loc[:, 'hemoglobin_min_na'] = np.where(df['hemoglobin_min'].isna(), 1, 0)\n",
    "df.loc[:, 'platelet_min_na'] = np.where(df['platelet_min'].isna(), 1, 0)\n",
    "df.loc[:, 'sodium_min_na'] = np.where(df['sodium_min'].isna(), 1, 0)\n",
    "df.loc[:, 'wbc_min_na'] = np.where(df['wbc_min'].isna(), 1, 0)"
   ]
  },
  {
   "cell_type": "code",
   "execution_count": 76,
   "id": "7bcd9c3c",
   "metadata": {},
   "outputs": [
    {
     "data": {
      "text/plain": [
       "(31677, 184)"
      ]
     },
     "execution_count": 79,
     "metadata": {},
     "output_type": "execute_result"
    }
   ],
   "source": [
    "df.shape"
   ]
  },
  {
   "cell_type": "code",
   "execution_count": 77,
   "id": "083139a9",
   "metadata": {},
   "outputs": [
    {
     "data": {
      "text/plain": [
       "(31677, 31677)"
      ]
     },
     "execution_count": 80,
     "metadata": {},
     "output_type": "execute_result"
    }
   ],
   "source": [
    "row_ID(df)"
   ]
  },
  {
   "cell_type": "code",
   "execution_count": 78,
   "id": "ee68377b",
   "metadata": {},
   "outputs": [],
   "source": [
    "df_mice = df"
   ]
  },
  {
   "cell_type": "code",
   "execution_count": 79,
   "id": "acfabc90",
   "metadata": {},
   "outputs": [],
   "source": [
    "df_mice.to_csv('df_mice.csv', index = False, header = True)"
   ]
  },
  {
   "cell_type": "markdown",
   "id": "06ca8cd3",
   "metadata": {},
   "source": [
    "### 1.8 Final processing"
   ]
  },
  {
   "cell_type": "code",
   "execution_count": 80,
   "id": "882a46ec",
   "metadata": {},
   "outputs": [],
   "source": [
    "train_mice = df_mice[df_mice['PatientID'].isin(train['PatientID'])]\n",
    "train_mice = train_mice.set_index('PatientID')"
   ]
  },
  {
   "cell_type": "code",
   "execution_count": 81,
   "id": "5d53ff78",
   "metadata": {},
   "outputs": [],
   "source": [
    "test_mice = df_mice[df_mice['PatientID'].isin(test['PatientID'])]\n",
    "test_mice = test_mice.set_index('PatientID')"
   ]
  },
  {
   "cell_type": "code",
   "execution_count": 82,
   "id": "b321c38c",
   "metadata": {},
   "outputs": [
    {
     "data": {
      "text/plain": [
       "(25341, 183)"
      ]
     },
     "execution_count": 85,
     "metadata": {},
     "output_type": "execute_result"
    }
   ],
   "source": [
    "train_mice.shape"
   ]
  },
  {
   "cell_type": "code",
   "execution_count": 83,
   "id": "58e9cd90",
   "metadata": {},
   "outputs": [
    {
     "data": {
      "text/plain": [
       "(6336, 183)"
      ]
     },
     "execution_count": 86,
     "metadata": {},
     "output_type": "execute_result"
    }
   ],
   "source": [
    "test_mice.shape"
   ]
  },
  {
   "cell_type": "code",
   "execution_count": 84,
   "id": "a21b0b27",
   "metadata": {},
   "outputs": [
    {
     "data": {
      "text/plain": [
       "['gender',\n",
       " 'race',\n",
       " 'ethnicity',\n",
       " 'p_type',\n",
       " 'region',\n",
       " 'stage',\n",
       " 'ER',\n",
       " 'HER2',\n",
       " 'PR',\n",
       " 'BRCA',\n",
       " 'PIK3CA',\n",
       " 'pdl1_n',\n",
       " 'ecog_diagnosis']"
      ]
     },
     "execution_count": 87,
     "metadata": {},
     "output_type": "execute_result"
    }
   ],
   "source": [
    "list(train_mice.select_dtypes(include = ['object']).columns)"
   ]
  },
  {
   "cell_type": "code",
   "execution_count": 85,
   "id": "76089dd4",
   "metadata": {},
   "outputs": [],
   "source": [
    "to_be_categorical = list(train_mice.select_dtypes(include = ['object']).columns)"
   ]
  },
  {
   "cell_type": "code",
   "execution_count": 86,
   "id": "96132632",
   "metadata": {},
   "outputs": [],
   "source": [
    "to_be_categorical.append('met_year')"
   ]
  },
  {
   "cell_type": "code",
   "execution_count": 87,
   "id": "9ee3a9fb",
   "metadata": {},
   "outputs": [],
   "source": [
    "to_be_categorical.append('ses')"
   ]
  },
  {
   "cell_type": "code",
   "execution_count": 88,
   "id": "5ce14c97",
   "metadata": {},
   "outputs": [],
   "source": [
    "# miceforest requires columns to be category or int/float, so object columns will be converted to category. \n",
    "for x in list(to_be_categorical):\n",
    "    train_mice[x] = train_mice[x].astype('category')"
   ]
  },
  {
   "cell_type": "code",
   "execution_count": 89,
   "id": "33949e66",
   "metadata": {},
   "outputs": [],
   "source": [
    "# Convert variables in list to categorical.\n",
    "for x in list(to_be_categorical):\n",
    "    test_mice[x] = test_mice[x].astype('category')"
   ]
  },
  {
   "cell_type": "code",
   "execution_count": 90,
   "id": "63965b02",
   "metadata": {},
   "outputs": [
    {
     "data": {
      "text/plain": [
       "['gender',\n",
       " 'race',\n",
       " 'ethnicity',\n",
       " 'p_type',\n",
       " 'region',\n",
       " 'stage',\n",
       " 'met_year',\n",
       " 'ER',\n",
       " 'HER2',\n",
       " 'PR',\n",
       " 'BRCA',\n",
       " 'PIK3CA',\n",
       " 'pdl1_n',\n",
       " 'ecog_diagnosis',\n",
       " 'ses']"
      ]
     },
     "execution_count": 93,
     "metadata": {},
     "output_type": "execute_result"
    }
   ],
   "source": [
    "list(train_mice.select_dtypes(include = ['category']).columns)"
   ]
  },
  {
   "cell_type": "code",
   "execution_count": 91,
   "id": "9b38f6e8",
   "metadata": {},
   "outputs": [
    {
     "data": {
      "text/plain": [
       "['stage',\n",
       " 'ecog_diagnosis',\n",
       " 'weight_diag',\n",
       " 'bmi_diag',\n",
       " 'weight_pct_change',\n",
       " 'weight_slope',\n",
       " 'albumin_diag',\n",
       " 'alp_diag',\n",
       " 'alt_diag',\n",
       " 'ast_diag',\n",
       " 'bicarb_diag',\n",
       " 'bun_diag',\n",
       " 'calcium_diag',\n",
       " 'chloride_diag',\n",
       " 'creatinine_diag',\n",
       " 'hemoglobin_diag',\n",
       " 'neutrophil_count_diag',\n",
       " 'platelet_diag',\n",
       " 'potassium_diag',\n",
       " 'sodium_diag',\n",
       " 'total_bilirubin_diag',\n",
       " 'wbc_diag',\n",
       " 'alp_max',\n",
       " 'alt_max',\n",
       " 'ast_max',\n",
       " 'calcium_max',\n",
       " 'creatinine_max',\n",
       " 'total_bilirubin_max',\n",
       " 'wbc_max',\n",
       " 'albumin_min',\n",
       " 'bicarb_min',\n",
       " 'hemoglobin_min',\n",
       " 'platelet_min',\n",
       " 'sodium_min',\n",
       " 'wbc_min',\n",
       " 'ses',\n",
       " 'weight_180',\n",
       " 'bmi_180',\n",
       " 'weight_pct_1yr',\n",
       " 'weight_slope_1yr',\n",
       " 'albumin_180',\n",
       " 'alp_180',\n",
       " 'alt_180',\n",
       " 'ast_180',\n",
       " 'bicarb_180',\n",
       " 'bun_180',\n",
       " 'calcium_180',\n",
       " 'chloride_180',\n",
       " 'creatinine_180',\n",
       " 'hemoglobin_180',\n",
       " 'neutrophil_count_180',\n",
       " 'platelet_180',\n",
       " 'potassium_180',\n",
       " 'sodium_180',\n",
       " 'total_bilirubin_180',\n",
       " 'wbc_180',\n",
       " 'alp_max_f',\n",
       " 'alt_max_f',\n",
       " 'ast_max_f',\n",
       " 'calcium_max_f',\n",
       " 'creatinine_max_f',\n",
       " 'total_bilirubin_max_f',\n",
       " 'wbc_max_f',\n",
       " 'albumin_min_f',\n",
       " 'bicarb_min_f',\n",
       " 'hemoglobin_min_f',\n",
       " 'platelet_min_f',\n",
       " 'sodium_min_f',\n",
       " 'wbc_min_f']"
      ]
     },
     "execution_count": 94,
     "metadata": {},
     "output_type": "execute_result"
    }
   ],
   "source": [
    "# List of variable that have missing values which MICE will impute. \n",
    "list(train_mice.columns[train_mice.isnull().any()])"
   ]
  },
  {
   "cell_type": "code",
   "execution_count": 92,
   "id": "cfc47b79",
   "metadata": {},
   "outputs": [
    {
     "data": {
      "text/plain": [
       "69"
      ]
     },
     "execution_count": 95,
     "metadata": {},
     "output_type": "execute_result"
    }
   ],
   "source": [
    "len(train_mice.columns[train_mice.isnull().any()])"
   ]
  },
  {
   "cell_type": "markdown",
   "id": "16de229a",
   "metadata": {},
   "source": [
    "## 2. Building training and test set using miceforest "
   ]
  },
  {
   "cell_type": "code",
   "execution_count": 93,
   "id": "8d617143",
   "metadata": {},
   "outputs": [],
   "source": [
    "import miceforest as mf"
   ]
  },
  {
   "cell_type": "markdown",
   "id": "e9e924b4",
   "metadata": {},
   "source": [
    "### 2.1 Finding ideal parameters"
   ]
  },
  {
   "cell_type": "code",
   "execution_count": 94,
   "id": "af174c5d",
   "metadata": {},
   "outputs": [],
   "source": [
    "# Create kernel. \n",
    "kernel = mf.ImputationKernel(\n",
    "    train_mice,\n",
    "    datasets = 5,\n",
    "    save_all_iterations = True,\n",
    "    random_state = 42)"
   ]
  },
  {
   "cell_type": "code",
   "execution_count": 95,
   "id": "2181c0d7",
   "metadata": {},
   "outputs": [
    {
     "name": "stdout",
     "output_type": "stream",
     "text": [
      "stage | 0 - 1 - 2 - 3 - 4 - \n",
      "hemoglobin_min_f | 0 - 1 - 2 - 3 - 4 - \n",
      "creatinine_max_f | 0 - 1 - 2 - 3 - 4 - \n",
      "alp_max_f | 0 - 1 - 2 - 3 - 4 - \n",
      "ast_max_f | 0 - 1 - 2 - 3 - 4 - \n",
      "weight_pct_1yr | 0 - 1 - 2 - 3 - 4 - \n",
      "calcium_max_f | 0 - 1 - 2 - 3 - 4 - \n",
      "weight_slope_1yr | 0 - 1 - 2 - 3 - 4 - \n",
      "wbc_max_f | 0 - 1 - 2 - 3 - 4 - \n",
      "wbc_min_f | 0 - 1 - 2 - 3 - 4 - \n",
      "alt_max_f | 0 - 1 - 2 - 3 - 4 - \n",
      "total_bilirubin_max_f | 0 - 1 - 2 - 3 - 4 - \n",
      "albumin_min_f | 0 - 1 - 2 - 3 - 4 - \n",
      "platelet_min_f | 0 - 1 - 2 - 3 - 4 - \n",
      "hemoglobin_180 | 0 - 1 - 2 - 3 - 4 - \n",
      "weight_pct_change | 0 - 1 - 2 - 3 - 4 - \n",
      "weight_slope | 0 - 1 - 2 - 3 - 4 - \n",
      "sodium_min_f | 0 - 1 - 2 - 3 - 4 - \n",
      "ses | 0 - 1 - 2 - 3 - 4 - \n",
      "creatinine_180 | 0 - 1 - 2 - 3 - 4 - \n",
      "bicarb_min_f | 0 - 1 - 2 - 3 - 4 - \n",
      "bun_180 | 0 - 1 - 2 - 3 - 4 - \n",
      "weight_diag | 0 - 1 - 2 - 3 - 4 - \n",
      "bmi_diag | 0 - 1 - 2 - 3 - 4 - \n",
      "alp_180 | 0 - 1 - 2 - 3 - 4 - \n",
      "ast_180 | 0 - 1 - 2 - 3 - 4 - \n",
      "calcium_180 | 0 - 1 - 2 - 3 - 4 - \n",
      "alt_180 | 0 - 1 - 2 - 3 - 4 - \n",
      "wbc_180 | 0 - 1 - 2 - 3 - 4 - \n",
      "total_bilirubin_180 | 0 - 1 - 2 - 3 - 4 - \n",
      "albumin_180 | 0 - 1 - 2 - 3 - 4 - \n",
      "hemoglobin_min | 0 - 1 - 2 - 3 - 4 - \n",
      "platelet_180 | 0 - 1 - 2 - 3 - 4 - \n",
      "creatinine_max | 0 - 1 - 2 - 3 - 4 - \n",
      "wbc_max | 0 - 1 - 2 - 3 - 4 - \n",
      "wbc_min | 0 - 1 - 2 - 3 - 4 - \n",
      "calcium_max | 0 - 1 - 2 - 3 - 4 - \n",
      "alp_max | 0 - 1 - 2 - 3 - 4 - \n",
      "ast_max | 0 - 1 - 2 - 3 - 4 - \n",
      "alt_max | 0 - 1 - 2 - 3 - 4 - \n",
      "platelet_min | 0 - 1 - 2 - 3 - 4 - \n",
      "weight_180 | 0 - 1 - 2 - 3 - 4 - \n",
      "total_bilirubin_max | 0 - 1 - 2 - 3 - 4 - \n",
      "bmi_180 | 0 - 1 - 2 - 3 - 4 - \n",
      "albumin_min | 0 - 1 - 2 - 3 - 4 - \n",
      "hemoglobin_diag | 0 - 1 - 2 - 3 - 4 - \n",
      "potassium_180 | 0 - 1 - 2 - 3 - 4 - \n",
      "sodium_180 | 0 - 1 - 2 - 3 - 4 - \n",
      "bicarb_180 | 0 - 1 - 2 - 3 - 4 - \n",
      "creatinine_diag | 0 - 1 - 2 - 3 - 4 - \n",
      "bun_diag | 0 - 1 - 2 - 3 - 4 - \n",
      "calcium_diag | 0 - 1 - 2 - 3 - 4 - \n",
      "alp_diag | 0 - 1 - 2 - 3 - 4 - \n",
      "ast_diag | 0 - 1 - 2 - 3 - 4 - \n",
      "wbc_diag | 0 - 1 - 2 - 3 - 4 - \n",
      "alt_diag | 0 - 1 - 2 - 3 - 4 - \n",
      "neutrophil_count_180 | 0 - 1 - 2 - 3 - 4 - \n",
      "sodium_min | 0 - 1 - 2 - 3 - 4 - \n",
      "albumin_diag | 0 - 1 - 2 - 3 - 4 - \n",
      "total_bilirubin_diag | 0 - 1 - 2 - 3 - 4 - \n",
      "bicarb_min | 0 - 1 - 2 - 3 - 4 - \n",
      "chloride_180 | 0 - 1 - 2 - 3 - 4 - \n",
      "platelet_diag | 0 - 1 - 2 - 3 - 4 - \n",
      "potassium_diag | 0 - 1 - 2 - 3 - 4 - \n",
      "sodium_diag | 0 - 1 - 2 - 3 - 4 - \n",
      "bicarb_diag | 0 - 1 - 2 - 3 - 4 - \n",
      "neutrophil_count_diag | 0 - 1 - 2 - 3 - 4 - \n",
      "chloride_diag | 0 - 1 - 2 - 3 - 4 - \n",
      "ecog_diagnosis | 0 - 1 - 2 - 3 - 4 - \n"
     ]
    }
   ],
   "source": [
    "# Using the first ImputationKernel in kernel to tune parameters with the default settings.\n",
    "optimal_parameters, losses = kernel.tune_parameters(\n",
    "    dataset = 0,\n",
    "    optimization_steps = 5,\n",
    "    verbose = 1,\n",
    "    random_state = 42)"
   ]
  },
  {
   "cell_type": "markdown",
   "id": "561e81bd",
   "metadata": {},
   "source": [
    "### 2.2 Building training datasets"
   ]
  },
  {
   "cell_type": "code",
   "execution_count": 96,
   "id": "e6dbda4a",
   "metadata": {},
   "outputs": [],
   "source": [
    "# Run mice with our newly tuned parameters.\n",
    "kernel.mice(iterations = 5, \n",
    "            variable_parameters = optimal_parameters,\n",
    "            verbose = 0)"
   ]
  },
  {
   "cell_type": "code",
   "execution_count": 97,
   "id": "3aebbc5f",
   "metadata": {},
   "outputs": [],
   "source": [
    "for x in range(5): \n",
    "    kernel.complete_data(dataset = x).to_csv('mice_tr'+str(x)+'.csv', index = True, header = True)"
   ]
  },
  {
   "cell_type": "markdown",
   "id": "beb43de1",
   "metadata": {},
   "source": [
    "### 2.3 Building test datasets"
   ]
  },
  {
   "cell_type": "code",
   "execution_count": 98,
   "id": "39662293",
   "metadata": {},
   "outputs": [],
   "source": [
    "test_imputed = kernel.impute_new_data(new_data = test_mice, verbose = 0)"
   ]
  },
  {
   "cell_type": "code",
   "execution_count": 99,
   "id": "4b6d7fca",
   "metadata": {},
   "outputs": [],
   "source": [
    "for x in range(5): \n",
    "    test_imputed.complete_data(dataset = x).to_csv('mice_te'+str(x)+'.csv', index = True, header = True)"
   ]
  },
  {
   "cell_type": "markdown",
   "id": "8f807dc4",
   "metadata": {},
   "source": [
    "## 3. Building gradient boosting models "
   ]
  },
  {
   "cell_type": "code",
   "execution_count": 100,
   "id": "866392f7",
   "metadata": {},
   "outputs": [],
   "source": [
    "from sklearn.pipeline import Pipeline, make_pipeline\n",
    "from sklearn.impute import SimpleImputer\n",
    "from sklearn.preprocessing import StandardScaler, OneHotEncoder, OrdinalEncoder\n",
    "from sklearn.compose import ColumnTransformer \n",
    "from sklearn.experimental import enable_halving_search_cv\n",
    "from sklearn.model_selection import StratifiedKFold, HalvingGridSearchCV\n",
    "\n",
    "from sksurv.ensemble import GradientBoostingSurvivalAnalysis\n",
    "from sksurv.metrics import cumulative_dynamic_auc, as_cumulative_dynamic_auc_scorer\n",
    "\n",
    "from joblib import dump, load\n",
    "\n",
    "import matplotlib.pyplot as plt\n",
    "\n",
    "import warnings"
   ]
  },
  {
   "cell_type": "markdown",
   "id": "8202626c",
   "metadata": {},
   "source": [
    "### 3.1 Model 0"
   ]
  },
  {
   "cell_type": "markdown",
   "id": "d2a80dca",
   "metadata": {},
   "source": [
    "#### Preprocessing and building pipeline "
   ]
  },
  {
   "cell_type": "code",
   "execution_count": 101,
   "id": "74a35e96",
   "metadata": {},
   "outputs": [],
   "source": [
    "# Import first training set\n",
    "train_mice0 = pd.read_csv('mice_tr0.csv', index_col = 'PatientID')\n",
    "\n",
    "# Import all test sets\n",
    "test_mice0 = pd.read_csv('mice_te0.csv', index_col = 'PatientID')\n",
    "test_mice1 = pd.read_csv('mice_te1.csv', index_col = 'PatientID')\n",
    "test_mice2 = pd.read_csv('mice_te2.csv', index_col = 'PatientID')\n",
    "test_mice3 = pd.read_csv('mice_te3.csv', index_col = 'PatientID')\n",
    "test_mice4 = pd.read_csv('mice_te4.csv', index_col = 'PatientID')"
   ]
  },
  {
   "cell_type": "code",
   "execution_count": 102,
   "id": "c9265177",
   "metadata": {},
   "outputs": [],
   "source": [
    "# Combine all test sets into 1 to get more robust estimates from models\n",
    "test_mice = pd.concat([test_mice0, test_mice1, test_mice2, test_mice3, test_mice4], ignore_index = False)"
   ]
  },
  {
   "cell_type": "code",
   "execution_count": 103,
   "id": "1542d1f2",
   "metadata": {},
   "outputs": [
    {
     "name": "stdout",
     "output_type": "stream",
     "text": [
      "(25341, 183)\n",
      "(31680, 183)\n"
     ]
    }
   ],
   "source": [
    "print(train_mice0.shape)\n",
    "print(test_mice.shape)"
   ]
  },
  {
   "cell_type": "code",
   "execution_count": 104,
   "id": "62226b61",
   "metadata": {},
   "outputs": [
    {
     "data": {
      "text/plain": [
       "Index(['line_1', 'line_2', 'line_3', 'line_4', 'weight_180', 'bmi_180',\n",
       "       'weight_pct_1yr', 'weight_slope_1yr', 'albumin_180', 'alp_180',\n",
       "       'alt_180', 'ast_180', 'bicarb_180', 'bun_180', 'calcium_180',\n",
       "       'chloride_180', 'creatinine_180', 'hemoglobin_180',\n",
       "       'neutrophil_count_180', 'platelet_180', 'potassium_180', 'sodium_180',\n",
       "       'total_bilirubin_180', 'wbc_180', 'alp_max_f', 'alt_max_f', 'ast_max_f',\n",
       "       'calcium_max_f', 'creatinine_max_f', 'total_bilirubin_max_f',\n",
       "       'wbc_max_f', 'albumin_min_f', 'bicarb_min_f', 'hemoglobin_min_f',\n",
       "       'platelet_min_f', 'sodium_min_f', 'wbc_min_f'],\n",
       "      dtype='object')"
      ]
     },
     "execution_count": 107,
     "metadata": {},
     "output_type": "execute_result"
    }
   ],
   "source": [
    "# Auxillary variables generated for MICE\n",
    "train_mice0.columns[train_mice0.columns.str.contains('_1|_2|_3|_4|_180|_1yr|x_f|n_f')]"
   ]
  },
  {
   "cell_type": "code",
   "execution_count": 105,
   "id": "1aaa1f78",
   "metadata": {},
   "outputs": [],
   "source": [
    "#Remove auxillary variables for train and test sets\n",
    "mice_drop = train_mice0.columns[train_mice0.columns.str.contains('_1|_2|_3|_4|_180|_1yr|x_f|n_f')]\n",
    "\n",
    "train_mice0 = train_mice0.drop(columns = mice_drop)\n",
    "\n",
    "test_mice = test_mice.drop(columns = mice_drop)"
   ]
  },
  {
   "cell_type": "code",
   "execution_count": 106,
   "id": "4299e785",
   "metadata": {},
   "outputs": [
    {
     "name": "stdout",
     "output_type": "stream",
     "text": [
      "(25341, 146)\n",
      "(31680, 146)\n"
     ]
    }
   ],
   "source": [
    "print(train_mice0.shape)\n",
    "print(test_mice.shape)"
   ]
  },
  {
   "cell_type": "code",
   "execution_count": 107,
   "id": "87d875ec",
   "metadata": {},
   "outputs": [],
   "source": [
    "# Generate ecog_na, stage_na, and ses_na indicator variables\n",
    "train_mice0['ecog_na'] = np.where(train_mice0.index.isin(train.query('ecog_diagnosis == \"unknown\"').PatientID), 1, 0)\n",
    "train_mice0['stage_na'] = np.where(train_mice0.index.isin(train.query('stage == \"unknown\"').PatientID), 1, 0)\n",
    "train_mice0['ses_na'] = np.where(train_mice0.index.isin(train[train['ses'].isnull()].PatientID), 1, 0)\n",
    "\n",
    "test_mice['ecog_na'] = np.where(test_mice.index.isin(test.query('ecog_diagnosis == \"unknown\"').PatientID), 1, 0)\n",
    "test_mice['stage_na'] = np.where(test_mice.index.isin(test.query('stage == \"unknown\"').PatientID), 1, 0)\n",
    "test_mice['ses_na'] = np.where(test_mice.index.isin(test[test['ses'].isnull()].PatientID), 1, 0)"
   ]
  },
  {
   "cell_type": "code",
   "execution_count": 108,
   "id": "d6738e72",
   "metadata": {},
   "outputs": [
    {
     "data": {
      "text/plain": [
       "['gender',\n",
       " 'race',\n",
       " 'ethnicity',\n",
       " 'p_type',\n",
       " 'region',\n",
       " 'stage',\n",
       " 'ER',\n",
       " 'HER2',\n",
       " 'PR',\n",
       " 'BRCA',\n",
       " 'PIK3CA',\n",
       " 'pdl1_n',\n",
       " 'ecog_diagnosis',\n",
       " 'met_year',\n",
       " 'ses']"
      ]
     },
     "execution_count": 111,
     "metadata": {},
     "output_type": "execute_result"
    }
   ],
   "source": [
    "# List of cateogrical varaibles \n",
    "to_be_categorical"
   ]
  },
  {
   "cell_type": "code",
   "execution_count": 109,
   "id": "489f4ef1",
   "metadata": {},
   "outputs": [],
   "source": [
    "# Convert object variables to categorical variables for train and test \n",
    "for x in list(to_be_categorical):\n",
    "    train_mice0[x] = train_mice0[x].astype('category')\n",
    "    \n",
    "for x in list(to_be_categorical):\n",
    "    test_mice[x] = test_mice[x].astype('category')"
   ]
  },
  {
   "cell_type": "code",
   "execution_count": 110,
   "id": "18c9e01b",
   "metadata": {},
   "outputs": [
    {
     "data": {
      "text/plain": [
       "['gender',\n",
       " 'race',\n",
       " 'ethnicity',\n",
       " 'p_type',\n",
       " 'region',\n",
       " 'stage',\n",
       " 'met_year',\n",
       " 'ER',\n",
       " 'HER2',\n",
       " 'PR',\n",
       " 'BRCA',\n",
       " 'PIK3CA',\n",
       " 'pdl1_n',\n",
       " 'ecog_diagnosis',\n",
       " 'ses']"
      ]
     },
     "execution_count": 113,
     "metadata": {},
     "output_type": "execute_result"
    }
   ],
   "source": [
    "list(train_mice0.select_dtypes(include = ['category']).columns)"
   ]
  },
  {
   "cell_type": "code",
   "execution_count": 111,
   "id": "1eb0d313",
   "metadata": {},
   "outputs": [],
   "source": [
    "# Death status to boolean \n",
    "train_mice0['death_status'] = train_mice0['death_status'].astype('bool')\n",
    "\n",
    "test_mice['death_status'] = test_mice['death_status'].astype('bool')"
   ]
  },
  {
   "cell_type": "code",
   "execution_count": 112,
   "id": "f6eb7ce2",
   "metadata": {},
   "outputs": [],
   "source": [
    "#Define validation and subtrain\n",
    "val_IDs = pd.read_csv('val_IDs.csv')\n",
    "\n",
    "val_mice0 = train_mice0[train_mice0.index.isin(val_IDs['PatientID'])]\n",
    "\n",
    "sub_train_mice0 = train_mice0[~train_mice0.index.isin(val_IDs['PatientID'])]"
   ]
  },
  {
   "cell_type": "code",
   "execution_count": 113,
   "id": "a4b45262",
   "metadata": {},
   "outputs": [
    {
     "name": "stdout",
     "output_type": "stream",
     "text": [
      "(25341, 149)\n",
      "(19005, 149)\n",
      "(6336, 149)\n"
     ]
    }
   ],
   "source": [
    "print(train_mice0.shape)\n",
    "print(sub_train_mice0.shape)\n",
    "print(val_mice0.shape)"
   ]
  },
  {
   "cell_type": "code",
   "execution_count": 114,
   "id": "f19c24bc",
   "metadata": {},
   "outputs": [],
   "source": [
    "# 'X' datasets\n",
    "train_mice0_x = train_mice0.drop(columns = ['death_status', 'timerisk_activity'])\n",
    "\n",
    "sub_train_mice0_x = sub_train_mice0.drop(columns = ['death_status', 'timerisk_activity'])\n",
    "\n",
    "val_mice0_x = val_mice0.drop(columns = ['death_status', 'timerisk_activity'])\n",
    "\n",
    "test_mice_x = test_mice.drop(columns = ['death_status', 'timerisk_activity'])"
   ]
  },
  {
   "cell_type": "code",
   "execution_count": 115,
   "id": "43f9e96c",
   "metadata": {},
   "outputs": [
    {
     "name": "stdout",
     "output_type": "stream",
     "text": [
      "(25341, 147)\n",
      "(19005, 147)\n",
      "(6336, 147)\n",
      "(31680, 147)\n"
     ]
    }
   ],
   "source": [
    "print(train_mice0_x.shape)\n",
    "print(sub_train_mice0_x.shape)\n",
    "print(val_mice0_x.shape)\n",
    "print(test_mice_x.shape)"
   ]
  },
  {
   "cell_type": "code",
   "execution_count": 116,
   "id": "165319dd",
   "metadata": {},
   "outputs": [],
   "source": [
    "# 'Y' datasets \n",
    "y_dtypes = train_mice0[['death_status', 'timerisk_activity']].dtypes\n",
    "\n",
    "train_y = np.array([tuple(x) for x in train[['death_status', 'timerisk_activity']].values],\n",
    "                   dtype = list(zip(y_dtypes.index, y_dtypes)))\n",
    "\n",
    "sub_train_y = np.array([tuple(x) for x in sub_train_mice0[['death_status', 'timerisk_activity']].values],\n",
    "                       dtype = list(zip(y_dtypes.index, y_dtypes)))\n",
    "\n",
    "val_y = np.array([tuple(x) for x in val_mice0[['death_status', 'timerisk_activity']].values],\n",
    "                 dtype = list(zip(y_dtypes.index, y_dtypes)))\n",
    "\n",
    "test_y = np.array([tuple(x) for x in test_mice[['death_status', 'timerisk_activity']].values],\n",
    "                  dtype = list(zip(y_dtypes.index, y_dtypes)))"
   ]
  },
  {
   "cell_type": "code",
   "execution_count": 117,
   "id": "cd9a32c1",
   "metadata": {},
   "outputs": [],
   "source": [
    "# List of numeric variables, excluding binary variables. \n",
    "numerical_features_red = [\n",
    "    'age',\n",
    "    'delta_met_diagnosis',\n",
    "    'weight_diag',\n",
    "    'bmi_diag',\n",
    "    'weight_pct_change',\n",
    "    'weight_slope',\n",
    "    'albumin_diag',\n",
    "    'alp_diag',\n",
    "    'alt_diag',\n",
    "    'ast_diag',\n",
    "    'bicarb_diag',\n",
    "    'bun_diag',\n",
    "    'calcium_diag',\n",
    "    'chloride_diag',\n",
    "    'creatinine_diag',\n",
    "    'hemoglobin_diag',\n",
    "    'neutrophil_count_diag',\n",
    "    'platelet_diag',\n",
    "    'potassium_diag',\n",
    "    'sodium_diag',\n",
    "    'total_bilirubin_diag',\n",
    "    'wbc_diag',\n",
    "    'alp_max',\n",
    "    'alt_max',\n",
    "    'ast_max',\n",
    "    'calcium_max',\n",
    "    'creatinine_max',\n",
    "    'total_bilirubin_max',\n",
    "    'wbc_max',\n",
    "    'albumin_min',\n",
    "    'bicarb_min',\n",
    "    'hemoglobin_min',\n",
    "    'platelet_min',\n",
    "    'sodium_min',\n",
    "    'wbc_min',\n",
    "    'icd_count']\n",
    "\n",
    "# List of categorical features.\n",
    "categorical_features = list(train_mice0_x.select_dtypes(include = ['category']).columns)\n",
    "\n",
    "# Transformer will apply a standard scaler. \n",
    "numerical_transformer = Pipeline(steps = [\n",
    "    ('std_scaler', StandardScaler())])\n",
    "\n",
    "# One-hot-encode categorical features.\n",
    "categorical_transformer = OneHotEncoder(handle_unknown = 'ignore')"
   ]
  },
  {
   "cell_type": "code",
   "execution_count": 118,
   "id": "add22480",
   "metadata": {},
   "outputs": [],
   "source": [
    "preprocessor_red = ColumnTransformer(\n",
    "    transformers = [\n",
    "        ('num', numerical_transformer, numerical_features_red),\n",
    "        ('cat', categorical_transformer, categorical_features)],\n",
    "    remainder = 'passthrough')"
   ]
  },
  {
   "cell_type": "markdown",
   "id": "c8b1da27",
   "metadata": {},
   "source": [
    "#### Hyperparameter tuning"
   ]
  },
  {
   "cell_type": "code",
   "execution_count": 119,
   "id": "9cf730b8",
   "metadata": {},
   "outputs": [
    {
     "name": "stdout",
     "output_type": "stream",
     "text": [
      "      Iter       Train Loss      OOB Improve   Remaining Time \n",
      "         1       71486.6537          13.6932          156.26m\n",
      "         2       71593.3370          12.1245          155.92m\n",
      "         3       71429.5907          13.0942          155.67m\n",
      "         4       71121.1095          11.8263          155.47m\n",
      "         5       71456.2212          11.6839          155.29m\n",
      "         6       71502.3974          11.1078          155.14m\n",
      "         7       71189.2698          10.7863          155.07m\n",
      "         8       71116.8238          10.2958          155.08m\n",
      "         9       71256.2372          10.1900          155.18m\n",
      "        10       71396.5103           9.8287          155.00m\n",
      "        20       70244.7257           7.3632          153.99m\n",
      "        30       70398.6930           6.2941          152.77m\n",
      "        40       70180.0088           4.5492          151.68m\n",
      "        50       70334.2403           4.1247          150.61m\n",
      "        60       70228.8505           3.1997          149.56m\n",
      "        70       70146.4517           2.5271          148.48m\n",
      "        80       70132.6496           1.7376          147.42m\n",
      "        90       69968.1202           2.4038          146.38m\n",
      "       100       69972.4034           3.3983          145.33m\n",
      "       200       69221.7302          -0.0751          134.92m\n",
      "       300       69310.9722           0.2899          124.61m\n",
      "       400       68520.1608           0.1674          114.27m\n",
      "       500       69003.0375          -0.0604          103.93m\n",
      "       600       68230.1694          -0.0324           93.57m\n",
      "       700       68072.6594          -0.2752           83.16m\n",
      "       800       68545.9372          -0.0734           72.78m\n",
      "       900       68315.4109          -0.3133           62.40m\n",
      "      1000       68153.3937           0.0449           52.00m\n"
     ]
    },
    {
     "data": {
      "text/plain": [
       "GradientBoostingSurvivalAnalysis(learning_rate=0.05, n_estimators=1500,\n",
       "                                 random_state=42, subsample=0.75, verbose=1)"
      ]
     },
     "execution_count": 126,
     "metadata": {},
     "output_type": "execute_result"
    }
   ],
   "source": [
    "sub_train_mice0_xt = preprocessor_red.fit_transform(sub_train_mice0_x)\n",
    "val_mice0_xt = preprocessor_red.transform(val_mice0_x)\n",
    "\n",
    "gbm_mice0_exp = GradientBoostingSurvivalAnalysis(n_estimators = 1500,\n",
    "                                                 learning_rate = 0.05,\n",
    "                                                 max_depth = 2,\n",
    "                                                 subsample = 0.75,\n",
    "                                                 verbose = 1,\n",
    "                                                 random_state = 42)\n",
    "\n",
    "gbm_mice0_exp.fit(sub_train_mice0_xt, sub_train_y)"
   ]
  },
  {
   "cell_type": "code",
   "execution_count": 120,
   "id": "561720ea",
   "metadata": {},
   "outputs": [],
   "source": [
    "gbm0_staged_auc = [cumulative_dynamic_auc(sub_train_y, val_y, risk_score, 730)[0][0] for \n",
    "                   risk_score in gbm_mice0_exp.staged_predict(val_mice0_xt)]"
   ]
  },
  {
   "cell_type": "code",
   "execution_count": 121,
   "id": "d1492c7a",
   "metadata": {},
   "outputs": [],
   "source": [
    "gbm0_staged_auc_tr = [cumulative_dynamic_auc(sub_train_y, sub_train_y, risk_score, 730)[0][0] for \n",
    "                      risk_score in gbm_mice0_exp.staged_predict(sub_train_mice0_xt)]"
   ]
  },
  {
   "cell_type": "code",
   "execution_count": 122,
   "id": "11d336e2",
   "metadata": {},
   "outputs": [
    {
     "data": {
      "image/png": "[encoded data removed]",
      "text/plain": [
       "<Figure size 432x288 with 1 Axes>"
      ]
     },
     "metadata": {
      "needs_background": "light"
     },
     "output_type": "display_data"
    }
   ],
   "source": [
    "fig = plt.figure()\n",
    "ax = fig.add_subplot(1, 1, 1)\n",
    "\n",
    "x = range(len(gbm0_staged_auc))\n",
    "plt.plot(x, gbm0_staged_auc, color = 'blue', label = 'validation')\n",
    "plt.plot(x, gbm0_staged_auc_tr, color = 'red', label = 'training')\n",
    "plt.legend(loc = 'lower right')\n",
    "\n",
    "plt.xlabel(\"n_estimators\")\n",
    "plt.ylabel(\"AUC at 2-years\")\n",
    "plt.title('Gradient boosting model learning curve for mice0')\n",
    "\n",
    "plt.show()"
   ]
  },
  {
   "cell_type": "code",
   "execution_count": 123,
   "id": "4c139d7f",
   "metadata": {},
   "outputs": [],
   "source": [
    "# Average AUC for every 25 additional trees. \n",
    "mean_auc_list = []\n",
    "for x in np.arange(0, len(gbm0_staged_auc), 25):\n",
    "    mean_auc_list.append(np.mean(gbm0_staged_auc[x:x+24]))"
   ]
  },
  {
   "cell_type": "code",
   "execution_count": 124,
   "id": "d9796c14",
   "metadata": {},
   "outputs": [
    {
     "name": "stdout",
     "output_type": "stream",
     "text": [
      "Number of trees where 2 year AUC on validation dataset beings to downgrade: 950\n",
      "Validation dataset AUC before degrading: 0.8279813537864475\n",
      "Training dataset AUC before degrading: 0.8535997435375878\n"
     ]
    }
   ],
   "source": [
    "print('Number of trees where 2 year AUC on validation dataset beings to downgrade:', np.where(np.diff(mean_auc_list) < 0)[0][0]*25)\n",
    "print('Validation dataset AUC before degrading:', gbm0_staged_auc[np.where(np.diff(mean_auc_list) < 0)[0][0]*25])\n",
    "print('Training dataset AUC before degrading:', gbm0_staged_auc_tr[np.where(np.diff(mean_auc_list) < 0)[0][0]*25])"
   ]
  },
  {
   "cell_type": "code",
   "execution_count": 125,
   "id": "3d181d02",
   "metadata": {
    "scrolled": true
   },
   "outputs": [
    {
     "name": "stdout",
     "output_type": "stream",
     "text": [
      "n_iterations: 4\n",
      "n_required_iterations: 4\n",
      "n_possible_iterations: 4\n",
      "min_resources_: 3167\n",
      "max_resources_: 25341\n",
      "aggressive_elimination: False\n",
      "factor: 2\n",
      "----------\n",
      "iter: 0\n",
      "n_candidates: 9\n",
      "n_resources: 3167\n",
      "Fitting 3 folds for each of 9 candidates, totalling 27 fits\n",
      "----------\n",
      "iter: 1\n",
      "n_candidates: 5\n",
      "n_resources: 6334\n",
      "Fitting 3 folds for each of 5 candidates, totalling 15 fits\n",
      "----------\n",
      "iter: 2\n",
      "n_candidates: 3\n",
      "n_resources: 12668\n",
      "Fitting 3 folds for each of 3 candidates, totalling 9 fits\n",
      "----------\n",
      "iter: 3\n",
      "n_candidates: 2\n",
      "n_resources: 25336\n",
      "Fitting 3 folds for each of 2 candidates, totalling 6 fits\n"
     ]
    },
    {
     "data": {
      "text/plain": [
       "HalvingGridSearchCV(cv=StratifiedKFold(n_splits=3, random_state=42, shuffle=True),\n",
       "                    estimator=as_cumulative_dynamic_auc_scorer(estimator=Pipeline(steps=[('columntransformer',\n",
       "                                                                                          ColumnTransformer(remainder='passthrough',\n",
       "                                                                                                            transformers=[('num',\n",
       "                                                                                                                           Pipeline(steps=[('std_scaler',\n",
       "                                                                                                                                            StandardScaler())]),\n",
       "                                                                                                                           ['age',\n",
       "                                                                                                                            'delta_met_diagnosis',\n",
       "                                                                                                                            'weight_diag',\n",
       "                                                                                                                            'bmi_diag',\n",
       "                                                                                                                            'weight_pct_c...\n",
       "                                                                                                                            'ses'])])),\n",
       "                                                                                         ('gradientboostingsurvivalanalysis',\n",
       "                                                                                          GradientBoostingSurvivalAnalysis(learning_rate=0.05,\n",
       "                                                                                                                           n_estimators=950,\n",
       "                                                                                                                           random_state=42))]),\n",
       "                                                               times=730),\n",
       "                    factor=2, n_jobs=-1,\n",
       "                    param_grid={'estimator__gradientboostingsurvivalanalysis__max_depth': [2,\n",
       "                                                                                           3,\n",
       "                                                                                           4],\n",
       "                                'estimator__gradientboostingsurvivalanalysis__subsample': [0.5,\n",
       "                                                                                           0.75,\n",
       "                                                                                           0.9]},\n",
       "                    random_state=42, refit=False, verbose=1)"
      ]
     },
     "execution_count": 132,
     "metadata": {},
     "output_type": "execute_result"
    }
   ],
   "source": [
    "pipe = make_pipeline(preprocessor_red, GradientBoostingSurvivalAnalysis(n_estimators = 950,\n",
    "                                                                        learning_rate = 0.05,\n",
    "                                                                        random_state = 42))\n",
    "\n",
    "# 3 fold cross-validation\n",
    "cv = StratifiedKFold(n_splits = 3, shuffle = True, random_state = 42)\n",
    "\n",
    "# Parameter gird \n",
    "param_grid = {'estimator__gradientboostingsurvivalanalysis__max_depth': [2, 3, 4], \n",
    "              'estimator__gradientboostingsurvivalanalysis__subsample': [0.5, 0.75, 0.9]}\n",
    "\n",
    "gbm_search = HalvingGridSearchCV(\n",
    "    as_cumulative_dynamic_auc_scorer(pipe, 730),\n",
    "    param_grid,\n",
    "    cv = cv,\n",
    "    factor = 2,\n",
    "    resource = 'n_samples',\n",
    "    refit = False,\n",
    "    verbose = 1,\n",
    "    random_state = 42,\n",
    "    n_jobs = -1)\n",
    "\n",
    "# Run search \n",
    "warnings.filterwarnings('ignore')\n",
    "gbm_search.fit(train_mice0_x, train_y)"
   ]
  },
  {
   "cell_type": "code",
   "execution_count": 126,
   "id": "6ad7f526",
   "metadata": {},
   "outputs": [
    {
     "data": {
      "text/plain": [
       "{'estimator__gradientboostingsurvivalanalysis__max_depth': 2,\n",
       " 'estimator__gradientboostingsurvivalanalysis__subsample': 0.75}"
      ]
     },
     "execution_count": 133,
     "metadata": {},
     "output_type": "execute_result"
    }
   ],
   "source": [
    "gbm_search.best_params_"
   ]
  },
  {
   "cell_type": "code",
   "execution_count": 127,
   "id": "06d8b873",
   "metadata": {},
   "outputs": [],
   "source": [
    "gbm_search_results = pd.DataFrame(gbm_search.cv_results_)"
   ]
  },
  {
   "cell_type": "code",
   "execution_count": 128,
   "id": "10e92f28",
   "metadata": {},
   "outputs": [
    {
     "data": {
      "text/html": [
       "<div>\n",
       "<style scoped>\n",
       "    .dataframe tbody tr th:only-of-type {\n",
       "        vertical-align: middle;\n",
       "    }\n",
       "\n",
       "    .dataframe tbody tr th {\n",
       "        vertical-align: top;\n",
       "    }\n",
       "\n",
       "    .dataframe thead th {\n",
       "        text-align: right;\n",
       "    }\n",
       "</style>\n",
       "<table border=\"1\" class=\"dataframe\">\n",
       "  <thead>\n",
       "    <tr style=\"text-align: right;\">\n",
       "      <th></th>\n",
       "      <th>iter</th>\n",
       "      <th>n_resources</th>\n",
       "      <th>mean_fit_time</th>\n",
       "      <th>std_fit_time</th>\n",
       "      <th>mean_score_time</th>\n",
       "      <th>std_score_time</th>\n",
       "      <th>param_estimator__gradientboostingsurvivalanalysis__max_depth</th>\n",
       "      <th>param_estimator__gradientboostingsurvivalanalysis__subsample</th>\n",
       "      <th>params</th>\n",
       "      <th>split0_test_score</th>\n",
       "      <th>split1_test_score</th>\n",
       "      <th>split2_test_score</th>\n",
       "      <th>mean_test_score</th>\n",
       "      <th>std_test_score</th>\n",
       "      <th>rank_test_score</th>\n",
       "      <th>split0_train_score</th>\n",
       "      <th>split1_train_score</th>\n",
       "      <th>split2_train_score</th>\n",
       "      <th>mean_train_score</th>\n",
       "      <th>std_train_score</th>\n",
       "    </tr>\n",
       "  </thead>\n",
       "  <tbody>\n",
       "    <tr>\n",
       "      <th>17</th>\n",
       "      <td>3</td>\n",
       "      <td>25336</td>\n",
       "      <td>9104.667341</td>\n",
       "      <td>17.761246</td>\n",
       "      <td>0.243450</td>\n",
       "      <td>0.047879</td>\n",
       "      <td>2</td>\n",
       "      <td>0.75</td>\n",
       "      <td>{'estimator__gradientboostingsurvivalanalysis_...</td>\n",
       "      <td>0.809185</td>\n",
       "      <td>0.818170</td>\n",
       "      <td>0.824667</td>\n",
       "      <td>0.817341</td>\n",
       "      <td>0.006348</td>\n",
       "      <td>1</td>\n",
       "      <td>0.840967</td>\n",
       "      <td>0.832619</td>\n",
       "      <td>0.829496</td>\n",
       "      <td>0.834361</td>\n",
       "      <td>0.004842</td>\n",
       "    </tr>\n",
       "    <tr>\n",
       "      <th>18</th>\n",
       "      <td>3</td>\n",
       "      <td>25336</td>\n",
       "      <td>9422.612843</td>\n",
       "      <td>4.513168</td>\n",
       "      <td>0.153548</td>\n",
       "      <td>0.006057</td>\n",
       "      <td>2</td>\n",
       "      <td>0.9</td>\n",
       "      <td>{'estimator__gradientboostingsurvivalanalysis_...</td>\n",
       "      <td>0.809478</td>\n",
       "      <td>0.818202</td>\n",
       "      <td>0.824217</td>\n",
       "      <td>0.817299</td>\n",
       "      <td>0.006051</td>\n",
       "      <td>2</td>\n",
       "      <td>0.840849</td>\n",
       "      <td>0.833212</td>\n",
       "      <td>0.829231</td>\n",
       "      <td>0.834431</td>\n",
       "      <td>0.004821</td>\n",
       "    </tr>\n",
       "    <tr>\n",
       "      <th>14</th>\n",
       "      <td>2</td>\n",
       "      <td>12668</td>\n",
       "      <td>3084.414463</td>\n",
       "      <td>3.194644</td>\n",
       "      <td>0.086715</td>\n",
       "      <td>0.005558</td>\n",
       "      <td>2</td>\n",
       "      <td>0.9</td>\n",
       "      <td>{'estimator__gradientboostingsurvivalanalysis_...</td>\n",
       "      <td>0.809897</td>\n",
       "      <td>0.815289</td>\n",
       "      <td>0.821874</td>\n",
       "      <td>0.815687</td>\n",
       "      <td>0.004898</td>\n",
       "      <td>3</td>\n",
       "      <td>0.849285</td>\n",
       "      <td>0.845804</td>\n",
       "      <td>0.836305</td>\n",
       "      <td>0.843798</td>\n",
       "      <td>0.005486</td>\n",
       "    </tr>\n",
       "    <tr>\n",
       "      <th>15</th>\n",
       "      <td>2</td>\n",
       "      <td>12668</td>\n",
       "      <td>2971.069851</td>\n",
       "      <td>10.396806</td>\n",
       "      <td>0.190622</td>\n",
       "      <td>0.003707</td>\n",
       "      <td>2</td>\n",
       "      <td>0.75</td>\n",
       "      <td>{'estimator__gradientboostingsurvivalanalysis_...</td>\n",
       "      <td>0.810448</td>\n",
       "      <td>0.813830</td>\n",
       "      <td>0.821218</td>\n",
       "      <td>0.815165</td>\n",
       "      <td>0.004497</td>\n",
       "      <td>4</td>\n",
       "      <td>0.848824</td>\n",
       "      <td>0.845094</td>\n",
       "      <td>0.837265</td>\n",
       "      <td>0.843728</td>\n",
       "      <td>0.004817</td>\n",
       "    </tr>\n",
       "    <tr>\n",
       "      <th>16</th>\n",
       "      <td>2</td>\n",
       "      <td>12668</td>\n",
       "      <td>2391.849584</td>\n",
       "      <td>878.086623</td>\n",
       "      <td>0.144036</td>\n",
       "      <td>0.036410</td>\n",
       "      <td>3</td>\n",
       "      <td>0.5</td>\n",
       "      <td>{'estimator__gradientboostingsurvivalanalysis_...</td>\n",
       "      <td>0.808310</td>\n",
       "      <td>0.814805</td>\n",
       "      <td>0.821653</td>\n",
       "      <td>0.814922</td>\n",
       "      <td>0.005448</td>\n",
       "      <td>5</td>\n",
       "      <td>0.878380</td>\n",
       "      <td>0.877199</td>\n",
       "      <td>0.867543</td>\n",
       "      <td>0.874374</td>\n",
       "      <td>0.004855</td>\n",
       "    </tr>\n",
       "    <tr>\n",
       "      <th>13</th>\n",
       "      <td>1</td>\n",
       "      <td>6334</td>\n",
       "      <td>584.912473</td>\n",
       "      <td>6.678386</td>\n",
       "      <td>0.055149</td>\n",
       "      <td>0.002999</td>\n",
       "      <td>3</td>\n",
       "      <td>0.5</td>\n",
       "      <td>{'estimator__gradientboostingsurvivalanalysis_...</td>\n",
       "      <td>0.815019</td>\n",
       "      <td>0.812415</td>\n",
       "      <td>0.795854</td>\n",
       "      <td>0.807763</td>\n",
       "      <td>0.008487</td>\n",
       "      <td>6</td>\n",
       "      <td>0.901856</td>\n",
       "      <td>0.901176</td>\n",
       "      <td>0.896074</td>\n",
       "      <td>0.899702</td>\n",
       "      <td>0.002580</td>\n",
       "    </tr>\n",
       "    <tr>\n",
       "      <th>9</th>\n",
       "      <td>1</td>\n",
       "      <td>6334</td>\n",
       "      <td>700.908791</td>\n",
       "      <td>2.762714</td>\n",
       "      <td>0.119253</td>\n",
       "      <td>0.011488</td>\n",
       "      <td>2</td>\n",
       "      <td>0.75</td>\n",
       "      <td>{'estimator__gradientboostingsurvivalanalysis_...</td>\n",
       "      <td>0.815903</td>\n",
       "      <td>0.808408</td>\n",
       "      <td>0.794035</td>\n",
       "      <td>0.806116</td>\n",
       "      <td>0.009073</td>\n",
       "      <td>7</td>\n",
       "      <td>0.862394</td>\n",
       "      <td>0.859692</td>\n",
       "      <td>0.852152</td>\n",
       "      <td>0.858079</td>\n",
       "      <td>0.004334</td>\n",
       "    </tr>\n",
       "    <tr>\n",
       "      <th>10</th>\n",
       "      <td>1</td>\n",
       "      <td>6334</td>\n",
       "      <td>755.786020</td>\n",
       "      <td>3.827807</td>\n",
       "      <td>0.122648</td>\n",
       "      <td>0.014185</td>\n",
       "      <td>2</td>\n",
       "      <td>0.9</td>\n",
       "      <td>{'estimator__gradientboostingsurvivalanalysis_...</td>\n",
       "      <td>0.815886</td>\n",
       "      <td>0.805902</td>\n",
       "      <td>0.795180</td>\n",
       "      <td>0.805656</td>\n",
       "      <td>0.008455</td>\n",
       "      <td>8</td>\n",
       "      <td>0.861004</td>\n",
       "      <td>0.857608</td>\n",
       "      <td>0.850233</td>\n",
       "      <td>0.856282</td>\n",
       "      <td>0.004496</td>\n",
       "    </tr>\n",
       "    <tr>\n",
       "      <th>11</th>\n",
       "      <td>1</td>\n",
       "      <td>6334</td>\n",
       "      <td>688.839468</td>\n",
       "      <td>48.808770</td>\n",
       "      <td>0.142027</td>\n",
       "      <td>0.041827</td>\n",
       "      <td>4</td>\n",
       "      <td>0.5</td>\n",
       "      <td>{'estimator__gradientboostingsurvivalanalysis_...</td>\n",
       "      <td>0.815658</td>\n",
       "      <td>0.809880</td>\n",
       "      <td>0.791178</td>\n",
       "      <td>0.805572</td>\n",
       "      <td>0.010448</td>\n",
       "      <td>9</td>\n",
       "      <td>0.941953</td>\n",
       "      <td>0.941382</td>\n",
       "      <td>0.939288</td>\n",
       "      <td>0.940874</td>\n",
       "      <td>0.001146</td>\n",
       "    </tr>\n",
       "    <tr>\n",
       "      <th>12</th>\n",
       "      <td>1</td>\n",
       "      <td>6334</td>\n",
       "      <td>596.838833</td>\n",
       "      <td>2.856332</td>\n",
       "      <td>0.081885</td>\n",
       "      <td>0.011507</td>\n",
       "      <td>2</td>\n",
       "      <td>0.5</td>\n",
       "      <td>{'estimator__gradientboostingsurvivalanalysis_...</td>\n",
       "      <td>0.815323</td>\n",
       "      <td>0.805311</td>\n",
       "      <td>0.795691</td>\n",
       "      <td>0.805442</td>\n",
       "      <td>0.008016</td>\n",
       "      <td>10</td>\n",
       "      <td>0.861003</td>\n",
       "      <td>0.857204</td>\n",
       "      <td>0.853835</td>\n",
       "      <td>0.857347</td>\n",
       "      <td>0.002928</td>\n",
       "    </tr>\n",
       "  </tbody>\n",
       "</table>\n",
       "</div>"
      ],
      "text/plain": [
       "    iter  n_resources  mean_fit_time  std_fit_time  mean_score_time  \\\n",
       "17     3        25336    9104.667341     17.761246         0.243450   \n",
       "18     3        25336    9422.612843      4.513168         0.153548   \n",
       "14     2        12668    3084.414463      3.194644         0.086715   \n",
       "15     2        12668    2971.069851     10.396806         0.190622   \n",
       "16     2        12668    2391.849584    878.086623         0.144036   \n",
       "13     1         6334     584.912473      6.678386         0.055149   \n",
       "9      1         6334     700.908791      2.762714         0.119253   \n",
       "10     1         6334     755.786020      3.827807         0.122648   \n",
       "11     1         6334     688.839468     48.808770         0.142027   \n",
       "12     1         6334     596.838833      2.856332         0.081885   \n",
       "\n",
       "    std_score_time  \\\n",
       "17        0.047879   \n",
       "18        0.006057   \n",
       "14        0.005558   \n",
       "15        0.003707   \n",
       "16        0.036410   \n",
       "13        0.002999   \n",
       "9         0.011488   \n",
       "10        0.014185   \n",
       "11        0.041827   \n",
       "12        0.011507   \n",
       "\n",
       "   param_estimator__gradientboostingsurvivalanalysis__max_depth  \\\n",
       "17                                                  2             \n",
       "18                                                  2             \n",
       "14                                                  2             \n",
       "15                                                  2             \n",
       "16                                                  3             \n",
       "13                                                  3             \n",
       "9                                                   2             \n",
       "10                                                  2             \n",
       "11                                                  4             \n",
       "12                                                  2             \n",
       "\n",
       "   param_estimator__gradientboostingsurvivalanalysis__subsample  \\\n",
       "17                                               0.75             \n",
       "18                                                0.9             \n",
       "14                                                0.9             \n",
       "15                                               0.75             \n",
       "16                                                0.5             \n",
       "13                                                0.5             \n",
       "9                                                0.75             \n",
       "10                                                0.9             \n",
       "11                                                0.5             \n",
       "12                                                0.5             \n",
       "\n",
       "                                               params  split0_test_score  \\\n",
       "17  {'estimator__gradientboostingsurvivalanalysis_...           0.809185   \n",
       "18  {'estimator__gradientboostingsurvivalanalysis_...           0.809478   \n",
       "14  {'estimator__gradientboostingsurvivalanalysis_...           0.809897   \n",
       "15  {'estimator__gradientboostingsurvivalanalysis_...           0.810448   \n",
       "16  {'estimator__gradientboostingsurvivalanalysis_...           0.808310   \n",
       "13  {'estimator__gradientboostingsurvivalanalysis_...           0.815019   \n",
       "9   {'estimator__gradientboostingsurvivalanalysis_...           0.815903   \n",
       "10  {'estimator__gradientboostingsurvivalanalysis_...           0.815886   \n",
       "11  {'estimator__gradientboostingsurvivalanalysis_...           0.815658   \n",
       "12  {'estimator__gradientboostingsurvivalanalysis_...           0.815323   \n",
       "\n",
       "    split1_test_score  split2_test_score  mean_test_score  std_test_score  \\\n",
       "17           0.818170           0.824667         0.817341        0.006348   \n",
       "18           0.818202           0.824217         0.817299        0.006051   \n",
       "14           0.815289           0.821874         0.815687        0.004898   \n",
       "15           0.813830           0.821218         0.815165        0.004497   \n",
       "16           0.814805           0.821653         0.814922        0.005448   \n",
       "13           0.812415           0.795854         0.807763        0.008487   \n",
       "9            0.808408           0.794035         0.806116        0.009073   \n",
       "10           0.805902           0.795180         0.805656        0.008455   \n",
       "11           0.809880           0.791178         0.805572        0.010448   \n",
       "12           0.805311           0.795691         0.805442        0.008016   \n",
       "\n",
       "    rank_test_score  split0_train_score  split1_train_score  \\\n",
       "17                1            0.840967            0.832619   \n",
       "18                2            0.840849            0.833212   \n",
       "14                3            0.849285            0.845804   \n",
       "15                4            0.848824            0.845094   \n",
       "16                5            0.878380            0.877199   \n",
       "13                6            0.901856            0.901176   \n",
       "9                 7            0.862394            0.859692   \n",
       "10                8            0.861004            0.857608   \n",
       "11                9            0.941953            0.941382   \n",
       "12               10            0.861003            0.857204   \n",
       "\n",
       "    split2_train_score  mean_train_score  std_train_score  \n",
       "17            0.829496          0.834361         0.004842  \n",
       "18            0.829231          0.834431         0.004821  \n",
       "14            0.836305          0.843798         0.005486  \n",
       "15            0.837265          0.843728         0.004817  \n",
       "16            0.867543          0.874374         0.004855  \n",
       "13            0.896074          0.899702         0.002580  \n",
       "9             0.852152          0.858079         0.004334  \n",
       "10            0.850233          0.856282         0.004496  \n",
       "11            0.939288          0.940874         0.001146  \n",
       "12            0.853835          0.857347         0.002928  "
      ]
     },
     "execution_count": 135,
     "metadata": {},
     "output_type": "execute_result"
    }
   ],
   "source": [
    "gbm_search_results.sort_values(by = 'rank_test_score').head(10)"
   ]
  },
  {
   "cell_type": "markdown",
   "id": "aff83868",
   "metadata": {},
   "source": [
    "**The above best tree depth and subsample will be used for all models moving forward mainly due to the computational cost of searching for these parameters (5-8 hours) for each MICE training set. It also seems likely that these two hyperparamters have small impact on test set AUC performance and are unlikely to change by much for each training set.** "
   ]
  },
  {
   "cell_type": "markdown",
   "id": "c9899b6f",
   "metadata": {},
   "source": [
    "#### Building model and assessing performance "
   ]
  },
  {
   "cell_type": "code",
   "execution_count": 129,
   "id": "5b696d35",
   "metadata": {},
   "outputs": [
    {
     "name": "stdout",
     "output_type": "stream",
     "text": [
      "      Iter       Train Loss      OOB Improve   Remaining Time \n",
      "         1       98560.1227          13.6526          176.95m\n",
      "         2       98553.4837          13.3793          177.15m\n",
      "         3       99003.4387          11.9946          176.58m\n",
      "         4       98606.1393          11.8068          176.38m\n",
      "         5       98465.6085          10.7649          176.24m\n",
      "         6       98147.1380          10.7207          176.41m\n",
      "         7       98422.4823          10.6690          176.43m\n",
      "         8       98514.6416           9.2309          176.33m\n",
      "         9       98365.1305           9.0771          176.45m\n",
      "        10       98575.7543           8.6737          176.72m\n",
      "        20       98332.9847           6.5076          174.75m\n",
      "        30       97803.5796           4.5031          173.47m\n",
      "        40       97604.7102           7.6191          171.17m\n",
      "        50       97679.9575           3.7314          168.88m\n",
      "        60       97322.9266           4.1731          166.71m\n",
      "        70       97362.0254           3.0903          164.62m\n",
      "        80       96922.8590           2.8085          162.60m\n",
      "        90       96971.8180           2.9056          160.62m\n",
      "       100       97250.4551           3.5354          158.66m\n",
      "       200       96057.1515           0.7278          139.72m\n",
      "       300       95788.8686           0.8213          120.96m\n",
      "       400       95445.3037           0.2128          102.32m\n",
      "       500       95768.0239           0.0571           83.75m\n",
      "       600       95536.5923           0.0482           65.15m\n",
      "       700       95580.5788           0.0251           46.52m\n",
      "       800       95406.1208          -0.1833           27.92m\n",
      "       900       95329.5638           0.0509            9.31m\n"
     ]
    },
    {
     "data": {
      "text/plain": [
       "Pipeline(steps=[('columntransformer',\n",
       "                 ColumnTransformer(remainder='passthrough',\n",
       "                                   transformers=[('num',\n",
       "                                                  Pipeline(steps=[('std_scaler',\n",
       "                                                                   StandardScaler())]),\n",
       "                                                  ['age', 'delta_met_diagnosis',\n",
       "                                                   'weight_diag', 'bmi_diag',\n",
       "                                                   'weight_pct_change',\n",
       "                                                   'weight_slope',\n",
       "                                                   'albumin_diag', 'alp_diag',\n",
       "                                                   'alt_diag', 'ast_diag',\n",
       "                                                   'bicarb_diag', 'bun_diag',\n",
       "                                                   'calcium_diag',\n",
       "                                                   'chloride_diag',\n",
       "                                                   'creati...\n",
       "                                                   'wbc_max', 'albumin_min', ...]),\n",
       "                                                 ('cat',\n",
       "                                                  OneHotEncoder(handle_unknown='ignore'),\n",
       "                                                  ['gender', 'race',\n",
       "                                                   'ethnicity', 'p_type',\n",
       "                                                   'region', 'stage',\n",
       "                                                   'met_year', 'ER', 'HER2',\n",
       "                                                   'PR', 'BRCA', 'PIK3CA',\n",
       "                                                   'pdl1_n', 'ecog_diagnosis',\n",
       "                                                   'ses'])])),\n",
       "                ('gradientboostingsurvivalanalysis',\n",
       "                 GradientBoostingSurvivalAnalysis(learning_rate=0.05,\n",
       "                                                  max_depth=2, n_estimators=950,\n",
       "                                                  random_state=42,\n",
       "                                                  subsample=0.75, verbose=1))])"
      ]
     },
     "execution_count": 139,
     "metadata": {},
     "output_type": "execute_result"
    }
   ],
   "source": [
    "gbm_mice0 = make_pipeline(preprocessor_red, GradientBoostingSurvivalAnalysis(n_estimators = 950,\n",
    "                                                                             learning_rate = 0.05,\n",
    "                                                                             max_depth = 2,\n",
    "                                                                             subsample = 0.75,\n",
    "                                                                             verbose = 1,\n",
    "                                                                             random_state = 42))\n",
    "\n",
    "gbm_mice0.fit(train_mice0_x, train_y)"
   ]
  },
  {
   "cell_type": "code",
   "execution_count": 130,
   "id": "95ace068",
   "metadata": {},
   "outputs": [
    {
     "data": {
      "text/plain": [
       "['gbm_mice0.joblib']"
      ]
     },
     "execution_count": 140,
     "metadata": {},
     "output_type": "execute_result"
    }
   ],
   "source": [
    "dump(gbm_mice0, 'gbm_mice0.joblib') "
   ]
  },
  {
   "cell_type": "code",
   "execution_count": 131,
   "id": "402c0cdf",
   "metadata": {},
   "outputs": [
    {
     "name": "stdout",
     "output_type": "stream",
     "text": [
      "Test set AUC at 2 years: 0.8159118111574662\n"
     ]
    }
   ],
   "source": [
    "gbm_risk_scores_te = gbm_mice0.predict(test_mice_x)\n",
    "gbm_auc_te = cumulative_dynamic_auc(train_y, test_y, gbm_risk_scores_te, 730)[0][0]\n",
    "print('Test set AUC at 2 years:', gbm_auc_te)"
   ]
  },
  {
   "cell_type": "code",
   "execution_count": 132,
   "id": "d50bbc9f",
   "metadata": {},
   "outputs": [
    {
     "name": "stdout",
     "output_type": "stream",
     "text": [
      "Training set AUC at 2 years: 0.8312021748697866\n"
     ]
    }
   ],
   "source": [
    "gbm_risk_scores_tr = gbm_mice0.predict(train_mice0_x)\n",
    "gbm_auc_tr = cumulative_dynamic_auc(train_y, train_y, gbm_risk_scores_tr, 730)[0][0]\n",
    "print('Training set AUC at 2 years:', gbm_auc_tr)"
   ]
  },
  {
   "cell_type": "code",
   "execution_count": 133,
   "id": "8212700e",
   "metadata": {},
   "outputs": [],
   "source": [
    "# Bootstrap 10000 1 yr AUCs for test set \n",
    "n_bootstraps = 10000\n",
    "rng_seed = 42 \n",
    "bootstrapped_scores_te = []\n",
    "\n",
    "rng = np.random.RandomState(rng_seed)\n",
    "for i in range(n_bootstraps):\n",
    "    indices = rng.randint(0, len(gbm_risk_scores_te), len(gbm_risk_scores_te))\n",
    "    auc_yr = cumulative_dynamic_auc(train_y, test_y[indices], gbm_risk_scores_te[indices], 730)[0][0]\n",
    "    bootstrapped_scores_te.append(auc_yr)"
   ]
  },
  {
   "cell_type": "code",
   "execution_count": 134,
   "id": "d3839061",
   "metadata": {},
   "outputs": [
    {
     "name": "stdout",
     "output_type": "stream",
     "text": [
      "Test set AUC standard error: 0.002722982683200812\n"
     ]
    }
   ],
   "source": [
    "# Standard error of mean for test set AUC\n",
    "sorted_scores_te = np.array(bootstrapped_scores_te)\n",
    "sorted_scores_te.sort()\n",
    "\n",
    "conf_lower_te = sorted_scores_te[int(0.025 * len(sorted_scores_te))]\n",
    "conf_upper_te = sorted_scores_te[int(0.975 * len(sorted_scores_te))]\n",
    "\n",
    "standard_error_te = (conf_upper_te - conf_lower_te) / 3.92\n",
    "print('Test set AUC standard error:', standard_error_te)"
   ]
  },
  {
   "cell_type": "code",
   "execution_count": 135,
   "id": "bd4778d7",
   "metadata": {},
   "outputs": [],
   "source": [
    "# Bootstrap 10000 1-yr AUCs for train set \n",
    "n_bootstraps = 10000\n",
    "rng_seed = 42 \n",
    "bootstrapped_scores_tr = []\n",
    "\n",
    "rng = np.random.RandomState(rng_seed)\n",
    "for i in range(n_bootstraps):\n",
    "    indices = rng.randint(0, len(gbm_risk_scores_tr), len(gbm_risk_scores_tr))\n",
    "    auc_yr = cumulative_dynamic_auc(train_y, train_y[indices], gbm_risk_scores_tr[indices], 730)[0][0]\n",
    "    bootstrapped_scores_tr.append(auc_yr)"
   ]
  },
  {
   "cell_type": "code",
   "execution_count": 136,
   "id": "72e573bf",
   "metadata": {},
   "outputs": [
    {
     "name": "stdout",
     "output_type": "stream",
     "text": [
      "Training set AUC standard error 0.0029541140116476805\n"
     ]
    }
   ],
   "source": [
    "# Standard error of mean for train set AUC\n",
    "sorted_scores_tr = np.array(bootstrapped_scores_tr)\n",
    "sorted_scores_tr.sort()\n",
    "\n",
    "conf_lower_tr = sorted_scores_tr[int(0.025 * len(sorted_scores_tr))]\n",
    "conf_upper_tr = sorted_scores_tr[int(0.975 * len(sorted_scores_tr))]\n",
    "\n",
    "standard_error_tr = (conf_upper_tr - conf_lower_tr) / 3.92\n",
    "print('Training set AUC standard error', standard_error_tr)"
   ]
  },
  {
   "cell_type": "code",
   "execution_count": 137,
   "id": "8bb4b0d5",
   "metadata": {},
   "outputs": [],
   "source": [
    "mice_auc_data = {'mice_dataset': ['mice_0'],\n",
    "                 'auc_2yr_te': [gbm_auc_te],\n",
    "                 'sem_te': [standard_error_te],\n",
    "                 'auc_2yr_tr': [gbm_auc_tr],\n",
    "                 'sem_tr': [standard_error_tr]}\n",
    "\n",
    "mice_auc_df = pd.DataFrame(mice_auc_data)"
   ]
  },
  {
   "cell_type": "code",
   "execution_count": 138,
   "id": "3d005d86",
   "metadata": {},
   "outputs": [
    {
     "data": {
      "text/html": [
       "<div>\n",
       "<style scoped>\n",
       "    .dataframe tbody tr th:only-of-type {\n",
       "        vertical-align: middle;\n",
       "    }\n",
       "\n",
       "    .dataframe tbody tr th {\n",
       "        vertical-align: top;\n",
       "    }\n",
       "\n",
       "    .dataframe thead th {\n",
       "        text-align: right;\n",
       "    }\n",
       "</style>\n",
       "<table border=\"1\" class=\"dataframe\">\n",
       "  <thead>\n",
       "    <tr style=\"text-align: right;\">\n",
       "      <th></th>\n",
       "      <th>mice_dataset</th>\n",
       "      <th>auc_2yr_te</th>\n",
       "      <th>sem_te</th>\n",
       "      <th>auc_2yr_tr</th>\n",
       "      <th>sem_tr</th>\n",
       "    </tr>\n",
       "  </thead>\n",
       "  <tbody>\n",
       "    <tr>\n",
       "      <th>0</th>\n",
       "      <td>mice_0</td>\n",
       "      <td>0.815912</td>\n",
       "      <td>0.002723</td>\n",
       "      <td>0.831202</td>\n",
       "      <td>0.002954</td>\n",
       "    </tr>\n",
       "  </tbody>\n",
       "</table>\n",
       "</div>"
      ],
      "text/plain": [
       "  mice_dataset  auc_2yr_te    sem_te  auc_2yr_tr    sem_tr\n",
       "0       mice_0    0.815912  0.002723    0.831202  0.002954"
      ]
     },
     "execution_count": 148,
     "metadata": {},
     "output_type": "execute_result"
    }
   ],
   "source": [
    "mice_auc_df"
   ]
  },
  {
   "cell_type": "code",
   "execution_count": 139,
   "id": "98f2cec0",
   "metadata": {},
   "outputs": [],
   "source": [
    "mice_auc_df.to_csv('mice_auc_df.csv', index = False, header = True)"
   ]
  },
  {
   "cell_type": "code",
   "execution_count": 140,
   "id": "b20f4a69",
   "metadata": {},
   "outputs": [],
   "source": [
    "times = np.arange(30, 1810, 30)\n",
    "mice0_auc_over5 = cumulative_dynamic_auc(train_y, test_y, gbm_risk_scores_te, times)[0]\n",
    "\n",
    "times_data = {}\n",
    "values = mice0_auc_over5\n",
    "time_names = []\n",
    "\n",
    "for x in range(len(times)):\n",
    "    time_names.append('time_'+str(times[x]))\n",
    "\n",
    "for i in range(len(time_names)):\n",
    "    times_data[time_names[i]] = values[i]\n",
    "    \n",
    "mice_auc_over5 = pd.DataFrame(times_data, index = ['mice_0'])"
   ]
  },
  {
   "cell_type": "code",
   "execution_count": 141,
   "id": "7814f783",
   "metadata": {},
   "outputs": [
    {
     "data": {
      "text/html": [
       "<div>\n",
       "<style scoped>\n",
       "    .dataframe tbody tr th:only-of-type {\n",
       "        vertical-align: middle;\n",
       "    }\n",
       "\n",
       "    .dataframe tbody tr th {\n",
       "        vertical-align: top;\n",
       "    }\n",
       "\n",
       "    .dataframe thead th {\n",
       "        text-align: right;\n",
       "    }\n",
       "</style>\n",
       "<table border=\"1\" class=\"dataframe\">\n",
       "  <thead>\n",
       "    <tr style=\"text-align: right;\">\n",
       "      <th></th>\n",
       "      <th>time_30</th>\n",
       "      <th>time_60</th>\n",
       "      <th>time_90</th>\n",
       "      <th>time_120</th>\n",
       "      <th>time_150</th>\n",
       "      <th>time_180</th>\n",
       "      <th>time_210</th>\n",
       "      <th>time_240</th>\n",
       "      <th>time_270</th>\n",
       "      <th>time_300</th>\n",
       "      <th>...</th>\n",
       "      <th>time_1530</th>\n",
       "      <th>time_1560</th>\n",
       "      <th>time_1590</th>\n",
       "      <th>time_1620</th>\n",
       "      <th>time_1650</th>\n",
       "      <th>time_1680</th>\n",
       "      <th>time_1710</th>\n",
       "      <th>time_1740</th>\n",
       "      <th>time_1770</th>\n",
       "      <th>time_1800</th>\n",
       "    </tr>\n",
       "  </thead>\n",
       "  <tbody>\n",
       "    <tr>\n",
       "      <th>mice_0</th>\n",
       "      <td>0.867587</td>\n",
       "      <td>0.872672</td>\n",
       "      <td>0.860214</td>\n",
       "      <td>0.859627</td>\n",
       "      <td>0.859415</td>\n",
       "      <td>0.849943</td>\n",
       "      <td>0.849662</td>\n",
       "      <td>0.84859</td>\n",
       "      <td>0.848488</td>\n",
       "      <td>0.847318</td>\n",
       "      <td>...</td>\n",
       "      <td>0.777097</td>\n",
       "      <td>0.77422</td>\n",
       "      <td>0.77524</td>\n",
       "      <td>0.77486</td>\n",
       "      <td>0.773773</td>\n",
       "      <td>0.772356</td>\n",
       "      <td>0.770324</td>\n",
       "      <td>0.768801</td>\n",
       "      <td>0.768946</td>\n",
       "      <td>0.768499</td>\n",
       "    </tr>\n",
       "  </tbody>\n",
       "</table>\n",
       "<p>1 rows × 60 columns</p>\n",
       "</div>"
      ],
      "text/plain": [
       "         time_30   time_60   time_90  time_120  time_150  time_180  time_210  \\\n",
       "mice_0  0.867587  0.872672  0.860214  0.859627  0.859415  0.849943  0.849662   \n",
       "\n",
       "        time_240  time_270  time_300  ...  time_1530  time_1560  time_1590  \\\n",
       "mice_0   0.84859  0.848488  0.847318  ...   0.777097    0.77422    0.77524   \n",
       "\n",
       "        time_1620  time_1650  time_1680  time_1710  time_1740  time_1770  \\\n",
       "mice_0    0.77486   0.773773   0.772356   0.770324   0.768801   0.768946   \n",
       "\n",
       "        time_1800  \n",
       "mice_0   0.768499  \n",
       "\n",
       "[1 rows x 60 columns]"
      ]
     },
     "execution_count": 151,
     "metadata": {},
     "output_type": "execute_result"
    }
   ],
   "source": [
    "mice_auc_over5"
   ]
  },
  {
   "cell_type": "code",
   "execution_count": 142,
   "id": "9349caaa",
   "metadata": {},
   "outputs": [],
   "source": [
    "mice_auc_over5.to_csv('mice_auc_over5.csv', index = True, header = True)"
   ]
  },
  {
   "cell_type": "code",
   "execution_count": 143,
   "id": "a00a2717",
   "metadata": {},
   "outputs": [],
   "source": [
    "# Variables passing through pipeline_rsf\n",
    "cat_encoder = list(preprocessor_red.transformers_[1][1].get_feature_names(categorical_features))\n",
    "pass_through = list(train_mice0_x.iloc[:, preprocessor_red.transformers_[2][2]].columns)\n",
    "attributes_gbm = numerical_features_red + cat_encoder + pass_through"
   ]
  },
  {
   "cell_type": "code",
   "execution_count": 144,
   "id": "4afca49b",
   "metadata": {},
   "outputs": [
    {
     "name": "stdout",
     "output_type": "stream",
     "text": [
      "Total number of features: 194\n",
      "Number of non-zero features in final model: 118\n"
     ]
    },
    {
     "data": {
      "image/png": "[encoded data removed]",
      "text/plain": [
       "<Figure size 432x576 with 1 Axes>"
      ]
     },
     "metadata": {
      "needs_background": "light"
     },
     "output_type": "display_data"
    }
   ],
   "source": [
    "# Dataframe of coefficients for each variable \n",
    "coefficients_mice0 = pd.DataFrame(\n",
    "    gbm_mice0.named_steps['gradientboostingsurvivalanalysis'].feature_importances_,\n",
    "    index = attributes_gbm,\n",
    "    columns = ['coefficient']\n",
    ")\n",
    "\n",
    "print('Total number of features: {}'.format(len(attributes_gbm)))\n",
    "\n",
    "non_zero = np.sum(coefficients_mice0.iloc[:, 0] != 0)\n",
    "print('Number of non-zero features in final model: {}'.format(non_zero))\n",
    "\n",
    "non_zero_coefs = coefficients_mice0.query('coefficient != 0')\n",
    "coef_order = non_zero_coefs.abs().sort_values('coefficient').tail(30).index\n",
    "\n",
    "_, ax = plt.subplots(figsize=(6, 8))\n",
    "non_zero_coefs.loc[coef_order].plot.barh(ax = ax, legend = False)\n",
    "ax.set_xlabel('coefficient')\n",
    "ax.grid(True)"
   ]
  },
  {
   "cell_type": "code",
   "execution_count": 145,
   "id": "44f33483",
   "metadata": {},
   "outputs": [],
   "source": [
    "coefficients_mice = (\n",
    "    coefficients_mice0\n",
    "    .reset_index()\n",
    "    .rename(columns = {'index':'variable'}))"
   ]
  },
  {
   "cell_type": "code",
   "execution_count": 146,
   "id": "993e71a6",
   "metadata": {},
   "outputs": [],
   "source": [
    "coefficients_mice.to_csv('coefficients_mice.csv', index = False, header = True)"
   ]
  },
  {
   "cell_type": "markdown",
   "id": "c6cf42df",
   "metadata": {},
   "source": [
    "### 3.2 Model 1"
   ]
  },
  {
   "cell_type": "markdown",
   "id": "871a4a7f",
   "metadata": {},
   "source": [
    "#### Preprocessing and building pipeline "
   ]
  },
  {
   "cell_type": "code",
   "execution_count": 147,
   "id": "f133e5c5",
   "metadata": {},
   "outputs": [],
   "source": [
    "# Import second training set\n",
    "train_mice1 = pd.read_csv('mice_tr1.csv', index_col = 'PatientID')"
   ]
  },
  {
   "cell_type": "code",
   "execution_count": 148,
   "id": "1b10e9e0",
   "metadata": {},
   "outputs": [
    {
     "name": "stdout",
     "output_type": "stream",
     "text": [
      "(25341, 183)\n"
     ]
    }
   ],
   "source": [
    "print(train_mice1.shape)"
   ]
  },
  {
   "cell_type": "code",
   "execution_count": 149,
   "id": "0b56d3a1",
   "metadata": {},
   "outputs": [
    {
     "data": {
      "text/plain": [
       "0"
      ]
     },
     "execution_count": 159,
     "metadata": {},
     "output_type": "execute_result"
    }
   ],
   "source": [
    "train_mice1.isna().sum().sum()"
   ]
  },
  {
   "cell_type": "code",
   "execution_count": 150,
   "id": "ec83b880",
   "metadata": {},
   "outputs": [],
   "source": [
    "train_mice1 = train_mice1.drop(columns = mice_drop)"
   ]
  },
  {
   "cell_type": "code",
   "execution_count": 151,
   "id": "3c73596f",
   "metadata": {},
   "outputs": [
    {
     "name": "stdout",
     "output_type": "stream",
     "text": [
      "(25341, 146)\n",
      "(31680, 149)\n"
     ]
    }
   ],
   "source": [
    "print(train_mice1.shape)\n",
    "print(test_mice.shape)"
   ]
  },
  {
   "cell_type": "code",
   "execution_count": 152,
   "id": "4c553d26",
   "metadata": {},
   "outputs": [],
   "source": [
    "train_mice1['ecog_na'] = np.where(train_mice1.index.isin(train.query('ecog_diagnosis == \"unknown\"').PatientID), 1, 0)\n",
    "train_mice1['stage_na'] = np.where(train_mice1.index.isin(train.query('stage == \"unknown\"').PatientID), 1, 0)\n",
    "train_mice1['ses_na'] = np.where(train_mice1.index.isin(train[train['ses'].isnull()].PatientID), 1, 0)"
   ]
  },
  {
   "cell_type": "code",
   "execution_count": 153,
   "id": "011e40b8",
   "metadata": {},
   "outputs": [
    {
     "data": {
      "text/plain": [
       "['gender',\n",
       " 'race',\n",
       " 'ethnicity',\n",
       " 'p_type',\n",
       " 'region',\n",
       " 'stage',\n",
       " 'met_year',\n",
       " 'ER',\n",
       " 'HER2',\n",
       " 'PR',\n",
       " 'BRCA',\n",
       " 'PIK3CA',\n",
       " 'pdl1_n',\n",
       " 'ecog_diagnosis',\n",
       " 'ses']"
      ]
     },
     "execution_count": 163,
     "metadata": {},
     "output_type": "execute_result"
    }
   ],
   "source": [
    "for x in list(to_be_categorical):\n",
    "    train_mice1[x] = train_mice1[x].astype('category')\n",
    "    \n",
    "list(train_mice1.select_dtypes(include = ['category']).columns)"
   ]
  },
  {
   "cell_type": "code",
   "execution_count": 154,
   "id": "6b144b41",
   "metadata": {},
   "outputs": [],
   "source": [
    "train_mice1['death_status'] = train_mice1['death_status'].astype('bool')"
   ]
  },
  {
   "cell_type": "code",
   "execution_count": 155,
   "id": "ec972346",
   "metadata": {},
   "outputs": [],
   "source": [
    "val_mice1 = train_mice1[train_mice1.index.isin(val_IDs['PatientID'])]\n",
    "\n",
    "sub_train_mice1 = train_mice1[~train_mice1.index.isin(val_IDs['PatientID'])]"
   ]
  },
  {
   "cell_type": "code",
   "execution_count": 156,
   "id": "21c91acf",
   "metadata": {},
   "outputs": [
    {
     "name": "stdout",
     "output_type": "stream",
     "text": [
      "(25341, 149)\n",
      "(19005, 149)\n",
      "(6336, 149)\n"
     ]
    }
   ],
   "source": [
    "print(train_mice1.shape)\n",
    "print(sub_train_mice1.shape)\n",
    "print(val_mice1.shape)"
   ]
  },
  {
   "cell_type": "code",
   "execution_count": 157,
   "id": "5424f3ec",
   "metadata": {},
   "outputs": [],
   "source": [
    "train_mice1_x = train_mice1.drop(columns = ['death_status', 'timerisk_activity'])\n",
    "\n",
    "sub_train_mice1_x = sub_train_mice1.drop(columns = ['death_status', 'timerisk_activity'])\n",
    "\n",
    "val_mice1_x = val_mice1.drop(columns = ['death_status', 'timerisk_activity'])"
   ]
  },
  {
   "cell_type": "code",
   "execution_count": 158,
   "id": "7bad7b1b",
   "metadata": {},
   "outputs": [
    {
     "name": "stdout",
     "output_type": "stream",
     "text": [
      "(25341, 147)\n",
      "(19005, 147)\n",
      "(6336, 147)\n"
     ]
    }
   ],
   "source": [
    "print(train_mice1_x.shape)\n",
    "print(sub_train_mice1_x.shape)\n",
    "print(val_mice1_x.shape)"
   ]
  },
  {
   "cell_type": "markdown",
   "id": "9be2e600",
   "metadata": {},
   "source": [
    "#### Hyperparameter tuning "
   ]
  },
  {
   "cell_type": "code",
   "execution_count": 159,
   "id": "e20df50b",
   "metadata": {},
   "outputs": [
    {
     "name": "stdout",
     "output_type": "stream",
     "text": [
      "      Iter       Train Loss      OOB Improve   Remaining Time \n",
      "         1       71498.1549           9.8431          206.74m\n",
      "         2       71615.9197           8.8271          208.24m\n",
      "         3       71462.9189           9.5814          208.50m\n",
      "         4       71167.5465           8.9684          208.54m\n",
      "         5       71508.7744           7.8459          208.42m\n",
      "         6       71567.7867           7.6701          208.59m\n",
      "         7       71263.5768           7.5187          208.76m\n",
      "         8       71202.3565           7.2333          208.49m\n",
      "         9       71350.8015           6.9419          208.27m\n",
      "        10       71502.9351           6.5948          207.92m\n",
      "        20       70429.7997           5.8325          205.67m\n",
      "        30       70632.7268           4.0313          204.17m\n",
      "        40       70451.8487           3.5235          202.85m\n",
      "        50       70646.4193           2.9636          201.68m\n",
      "        60       70551.3578           2.4345          200.51m\n",
      "        70       70509.9409           2.0679          199.24m\n",
      "        80       70510.5659           1.4519          198.08m\n",
      "        90       70362.0864           2.6617          196.92m\n",
      "       100       70369.2756           2.5912          195.81m\n",
      "       200       69705.1428           1.1013          185.67m\n",
      "       300       69872.9735          -0.0003          175.47m\n",
      "       400       69125.6928          -0.1549          165.21m\n",
      "       500       69671.9558          -0.0670          154.93m\n",
      "       600       68946.6618           0.3470          144.63m\n",
      "       700       68832.9217          -0.1147          134.33m\n",
      "       800       69372.0260          -0.0890          124.02m\n",
      "       900       69171.6941          -0.1726          113.70m\n",
      "      1000       69069.6320          -0.0257          103.38m\n",
      "      2000       67954.5129          -0.2056            0.00s\n"
     ]
    },
    {
     "data": {
      "text/plain": [
       "GradientBoostingSurvivalAnalysis(learning_rate=0.05, max_depth=2,\n",
       "                                 n_estimators=2000, random_state=42,\n",
       "                                 subsample=0.75, verbose=1)"
      ]
     },
     "execution_count": 176,
     "metadata": {},
     "output_type": "execute_result"
    }
   ],
   "source": [
    "sub_train_mice1_xt = preprocessor_red.fit_transform(sub_train_mice1_x)\n",
    "val_mice1_xt = preprocessor_red.transform(val_mice1_x)\n",
    "\n",
    "gbm_mice1_exp = GradientBoostingSurvivalAnalysis(n_estimators = 2000,\n",
    "                                                 learning_rate = 0.05,\n",
    "                                                 max_depth = 2,\n",
    "                                                 subsample = 0.75,\n",
    "                                                 verbose = 1,\n",
    "                                                 random_state = 42)\n",
    "\n",
    "gbm_mice1_exp.fit(sub_train_mice1_xt, sub_train_y)"
   ]
  },
  {
   "cell_type": "code",
   "execution_count": 160,
   "id": "ca84abb3",
   "metadata": {},
   "outputs": [],
   "source": [
    "gbm1_staged_auc = [cumulative_dynamic_auc(sub_train_y, val_y, risk_score, 730)[0][0] for \n",
    "                   risk_score in gbm_mice1_exp.staged_predict(val_mice1_xt)]"
   ]
  },
  {
   "cell_type": "code",
   "execution_count": 161,
   "id": "e0aff188",
   "metadata": {},
   "outputs": [],
   "source": [
    "gbm1_staged_auc_tr = [cumulative_dynamic_auc(sub_train_y, sub_train_y, risk_score, 730)[0][0] for \n",
    "                      risk_score in gbm_mice1_exp.staged_predict(sub_train_mice1_xt)]"
   ]
  },
  {
   "cell_type": "code",
   "execution_count": 162,
   "id": "8ec4e3e5",
   "metadata": {},
   "outputs": [
    {
     "data": {
      "image/png": "[encoded data removed]",
      "text/plain": [
       "<Figure size 432x288 with 1 Axes>"
      ]
     },
     "metadata": {
      "needs_background": "light"
     },
     "output_type": "display_data"
    }
   ],
   "source": [
    "fig = plt.figure()\n",
    "ax = fig.add_subplot(1, 1, 1)\n",
    "\n",
    "x = range(len(gbm1_staged_auc))\n",
    "plt.plot(x, gbm1_staged_auc, color = 'blue', label = 'validation')\n",
    "plt.plot(x, gbm1_staged_auc_tr, color = 'red', label = 'training')\n",
    "plt.legend(loc = 'lower right')\n",
    "\n",
    "plt.xlabel(\"n_estimators\")\n",
    "plt.ylabel(\"AUC at 2-years\")\n",
    "plt.title('Gradient boosting model learning curve for mice1')\n",
    "\n",
    "plt.show()"
   ]
  },
  {
   "cell_type": "code",
   "execution_count": 163,
   "id": "7ff7c5ec",
   "metadata": {},
   "outputs": [],
   "source": [
    "# Average AUC for every 25 additional trees. \n",
    "mean_auc_list = []\n",
    "for x in np.arange(0, len(gbm1_staged_auc), 25):\n",
    "    mean_auc_list.append(np.mean(gbm1_staged_auc[x:x+24]))"
   ]
  },
  {
   "cell_type": "code",
   "execution_count": 164,
   "id": "f00df931",
   "metadata": {
    "scrolled": true
   },
   "outputs": [
    {
     "name": "stdout",
     "output_type": "stream",
     "text": [
      "Number of trees where 2 year AUC on validation dataset beings to downgrade: 1500\n",
      "Validation dataset AUC before degrading: 0.8241001148543883\n",
      "Training dataset AUC before degrading: 0.8385587231528568\n"
     ]
    }
   ],
   "source": [
    "print('Number of trees where 2 year AUC on validation dataset beings to downgrade:', np.where(np.diff(mean_auc_list) < 0)[0][0]*25)\n",
    "print('Validation dataset AUC before degrading:', gbm1_staged_auc[np.where(np.diff(mean_auc_list) < 0)[0][0]*25])\n",
    "print('Training dataset AUC before degrading:', gbm1_staged_auc_tr[np.where(np.diff(mean_auc_list) < 0)[0][0]*25])"
   ]
  },
  {
   "cell_type": "markdown",
   "id": "ee22c800",
   "metadata": {},
   "source": [
    "#### Building model and assessing performance "
   ]
  },
  {
   "cell_type": "code",
   "execution_count": 165,
   "id": "b6a1dcd7",
   "metadata": {},
   "outputs": [
    {
     "name": "stdout",
     "output_type": "stream",
     "text": [
      "      Iter       Train Loss      OOB Improve   Remaining Time \n",
      "         1       98559.1210          13.9210          279.03m\n",
      "         2       98553.0215          13.3963          279.19m\n",
      "         3       99002.0576          12.3074          278.69m\n",
      "         4       98605.5294          11.9085          278.97m\n",
      "         5       98463.7019          11.0473          278.95m\n",
      "         6       98145.6424          10.9081          278.93m\n",
      "         7       98420.2561          11.0428          279.07m\n",
      "         8       98508.9477           9.1538          279.20m\n",
      "         9       98360.8676           9.2310          278.77m\n",
      "        10       98571.0434           8.5401          278.43m\n",
      "        20       98330.3900           6.0620          275.67m\n",
      "        30       97798.1738           4.4919          273.59m\n",
      "        40       97591.8060           5.1348          271.56m\n",
      "        50       97658.7250           4.0691          269.64m\n",
      "        60       97314.2980           4.2326          267.90m\n",
      "        70       97362.9083           3.1939          266.09m\n",
      "        80       96922.0845           3.4407          264.19m\n",
      "        90       96972.7440           2.3712          262.31m\n",
      "       100       97256.6968           2.2361          260.44m\n",
      "       200       96085.8382           0.9426          241.81m\n",
      "       300       95830.8489           0.2351          223.33m\n",
      "       400       95487.2189           0.2973          204.79m\n",
      "       500       95831.6218           0.0556          186.19m\n",
      "       600       95573.6221          -0.2670          167.59m\n",
      "       700       95619.6300          -0.0659          148.98m\n",
      "       800       95492.0308          -0.0532          130.37m\n",
      "       900       95369.7928          -0.0818          111.75m\n",
      "      1000       94981.7808          -0.0053           93.13m\n"
     ]
    },
    {
     "data": {
      "text/plain": [
       "Pipeline(steps=[('columntransformer',\n",
       "                 ColumnTransformer(remainder='passthrough',\n",
       "                                   transformers=[('num',\n",
       "                                                  Pipeline(steps=[('std_scaler',\n",
       "                                                                   StandardScaler())]),\n",
       "                                                  ['age', 'delta_met_diagnosis',\n",
       "                                                   'weight_diag', 'bmi_diag',\n",
       "                                                   'weight_pct_change',\n",
       "                                                   'weight_slope',\n",
       "                                                   'albumin_diag', 'alp_diag',\n",
       "                                                   'alt_diag', 'ast_diag',\n",
       "                                                   'bicarb_diag', 'bun_diag',\n",
       "                                                   'calcium_diag',\n",
       "                                                   'chloride_diag',\n",
       "                                                   'creati...\n",
       "                                                   'wbc_max', 'albumin_min', ...]),\n",
       "                                                 ('cat',\n",
       "                                                  OneHotEncoder(handle_unknown='ignore'),\n",
       "                                                  ['gender', 'race',\n",
       "                                                   'ethnicity', 'p_type',\n",
       "                                                   'region', 'stage',\n",
       "                                                   'met_year', 'ER', 'HER2',\n",
       "                                                   'PR', 'BRCA', 'PIK3CA',\n",
       "                                                   'pdl1_n', 'ecog_diagnosis',\n",
       "                                                   'ses'])])),\n",
       "                ('gradientboostingsurvivalanalysis',\n",
       "                 GradientBoostingSurvivalAnalysis(learning_rate=0.05,\n",
       "                                                  max_depth=2,\n",
       "                                                  n_estimators=1500,\n",
       "                                                  random_state=42,\n",
       "                                                  subsample=0.75, verbose=1))])"
      ]
     },
     "execution_count": 182,
     "metadata": {},
     "output_type": "execute_result"
    }
   ],
   "source": [
    "gbm_mice1 = make_pipeline(preprocessor_red, GradientBoostingSurvivalAnalysis(n_estimators = np.where(np.diff(mean_auc_list) < 0)[0][0]*25,\n",
    "                                                                             learning_rate = 0.05,\n",
    "                                                                             max_depth = 2,\n",
    "                                                                             subsample = 0.75,\n",
    "                                                                             verbose = 1,\n",
    "                                                                             random_state = 42))\n",
    "\n",
    "gbm_mice1.fit(train_mice1_x, train_y)"
   ]
  },
  {
   "cell_type": "code",
   "execution_count": 166,
   "id": "a3e8d960",
   "metadata": {},
   "outputs": [
    {
     "data": {
      "text/plain": [
       "['gbm_mice1.joblib']"
      ]
     },
     "execution_count": 183,
     "metadata": {},
     "output_type": "execute_result"
    }
   ],
   "source": [
    "dump(gbm_mice1, 'gbm_mice1.joblib') "
   ]
  },
  {
   "cell_type": "code",
   "execution_count": 167,
   "id": "2ac6e7a1",
   "metadata": {},
   "outputs": [
    {
     "name": "stdout",
     "output_type": "stream",
     "text": [
      "Test set AUC at 2 years: 0.8193993262612045\n"
     ]
    }
   ],
   "source": [
    "gbm_risk_scores_te = gbm_mice1.predict(test_mice_x)\n",
    "gbm_auc_te = cumulative_dynamic_auc(train_y, test_y, gbm_risk_scores_te, 730)[0][0]\n",
    "print('Test set AUC at 2 years:', gbm_auc_te)"
   ]
  },
  {
   "cell_type": "code",
   "execution_count": 168,
   "id": "ddd8efb6",
   "metadata": {},
   "outputs": [
    {
     "name": "stdout",
     "output_type": "stream",
     "text": [
      "Training set AUC at 2 years: 0.8369366381232837\n"
     ]
    }
   ],
   "source": [
    "gbm_risk_scores_tr = gbm_mice1.predict(train_mice1_x)\n",
    "gbm_auc_tr = cumulative_dynamic_auc(train_y, train_y, gbm_risk_scores_tr, 730)[0][0]\n",
    "print('Training set AUC at 2 years:', gbm_auc_tr)"
   ]
  },
  {
   "cell_type": "code",
   "execution_count": 169,
   "id": "be28442a",
   "metadata": {},
   "outputs": [],
   "source": [
    "# Bootstrap 10000 1 yr AUCs for test set \n",
    "n_bootstraps = 10000\n",
    "rng_seed = 42 \n",
    "bootstrapped_scores_te = []\n",
    "\n",
    "rng = np.random.RandomState(rng_seed)\n",
    "for i in range(n_bootstraps):\n",
    "    indices = rng.randint(0, len(gbm_risk_scores_te), len(gbm_risk_scores_te))\n",
    "    auc_yr = cumulative_dynamic_auc(train_y, test_y[indices], gbm_risk_scores_te[indices], 730)[0][0]\n",
    "    bootstrapped_scores_te.append(auc_yr)"
   ]
  },
  {
   "cell_type": "code",
   "execution_count": 170,
   "id": "89747984",
   "metadata": {},
   "outputs": [
    {
     "name": "stdout",
     "output_type": "stream",
     "text": [
      "Test set AUC standard error: 0.002712535029300578\n"
     ]
    }
   ],
   "source": [
    "# Standard error of mean for test set AUC\n",
    "sorted_scores_te = np.array(bootstrapped_scores_te)\n",
    "sorted_scores_te.sort()\n",
    "\n",
    "conf_lower_te = sorted_scores_te[int(0.025 * len(sorted_scores_te))]\n",
    "conf_upper_te = sorted_scores_te[int(0.975 * len(sorted_scores_te))]\n",
    "\n",
    "standard_error_te = (conf_upper_te - conf_lower_te) / 3.92\n",
    "print('Test set AUC standard error:', standard_error_te)"
   ]
  },
  {
   "cell_type": "code",
   "execution_count": 171,
   "id": "5de76e41",
   "metadata": {},
   "outputs": [],
   "source": [
    "# Bootstrap 10000 1-yr AUCs for train set \n",
    "n_bootstraps = 10000\n",
    "rng_seed = 42 \n",
    "bootstrapped_scores_tr = []\n",
    "\n",
    "rng = np.random.RandomState(rng_seed)\n",
    "for i in range(n_bootstraps):\n",
    "    indices = rng.randint(0, len(gbm_risk_scores_tr), len(gbm_risk_scores_tr))\n",
    "    auc_yr = cumulative_dynamic_auc(train_y, train_y[indices], gbm_risk_scores_tr[indices], 730)[0][0]\n",
    "    bootstrapped_scores_tr.append(auc_yr)"
   ]
  },
  {
   "cell_type": "code",
   "execution_count": 172,
   "id": "9e4cdac3",
   "metadata": {},
   "outputs": [
    {
     "name": "stdout",
     "output_type": "stream",
     "text": [
      "Training set AUC standard error 0.0028862425366678068\n"
     ]
    }
   ],
   "source": [
    "# Standard error of mean for train set AUC\n",
    "sorted_scores_tr = np.array(bootstrapped_scores_tr)\n",
    "sorted_scores_tr.sort()\n",
    "\n",
    "conf_lower_tr = sorted_scores_tr[int(0.025 * len(sorted_scores_tr))]\n",
    "conf_upper_tr = sorted_scores_tr[int(0.975 * len(sorted_scores_tr))]\n",
    "\n",
    "standard_error_tr = (conf_upper_tr - conf_lower_tr) / 3.92\n",
    "print('Training set AUC standard error', standard_error_tr)"
   ]
  },
  {
   "cell_type": "code",
   "execution_count": 173,
   "id": "f248949e",
   "metadata": {},
   "outputs": [],
   "source": [
    "mice_auc_data = {'mice_dataset': 'mice_1',\n",
    "                 'auc_2yr_te': gbm_auc_te,\n",
    "                 'sem_te': standard_error_te,\n",
    "                 'auc_2yr_tr': gbm_auc_tr,\n",
    "                 'sem_tr': standard_error_tr}\n",
    "\n",
    "mice_auc_df = mice_auc_df.append(mice_auc_data, ignore_index = True)"
   ]
  },
  {
   "cell_type": "code",
   "execution_count": 174,
   "id": "da467735",
   "metadata": {},
   "outputs": [
    {
     "data": {
      "text/html": [
       "<div>\n",
       "<style scoped>\n",
       "    .dataframe tbody tr th:only-of-type {\n",
       "        vertical-align: middle;\n",
       "    }\n",
       "\n",
       "    .dataframe tbody tr th {\n",
       "        vertical-align: top;\n",
       "    }\n",
       "\n",
       "    .dataframe thead th {\n",
       "        text-align: right;\n",
       "    }\n",
       "</style>\n",
       "<table border=\"1\" class=\"dataframe\">\n",
       "  <thead>\n",
       "    <tr style=\"text-align: right;\">\n",
       "      <th></th>\n",
       "      <th>mice_dataset</th>\n",
       "      <th>auc_2yr_te</th>\n",
       "      <th>sem_te</th>\n",
       "      <th>auc_2yr_tr</th>\n",
       "      <th>sem_tr</th>\n",
       "    </tr>\n",
       "  </thead>\n",
       "  <tbody>\n",
       "    <tr>\n",
       "      <th>0</th>\n",
       "      <td>mice_0</td>\n",
       "      <td>0.815912</td>\n",
       "      <td>0.002723</td>\n",
       "      <td>0.831202</td>\n",
       "      <td>0.002954</td>\n",
       "    </tr>\n",
       "    <tr>\n",
       "      <th>1</th>\n",
       "      <td>mice_1</td>\n",
       "      <td>0.819399</td>\n",
       "      <td>0.002713</td>\n",
       "      <td>0.836937</td>\n",
       "      <td>0.002886</td>\n",
       "    </tr>\n",
       "  </tbody>\n",
       "</table>\n",
       "</div>"
      ],
      "text/plain": [
       "  mice_dataset  auc_2yr_te    sem_te  auc_2yr_tr    sem_tr\n",
       "0       mice_0    0.815912  0.002723    0.831202  0.002954\n",
       "1       mice_1    0.819399  0.002713    0.836937  0.002886"
      ]
     },
     "execution_count": 191,
     "metadata": {},
     "output_type": "execute_result"
    }
   ],
   "source": [
    "mice_auc_df "
   ]
  },
  {
   "cell_type": "code",
   "execution_count": 175,
   "id": "c7924476",
   "metadata": {},
   "outputs": [],
   "source": [
    "mice_auc_df.to_csv('mice_auc_df.csv', index = False, header = True)"
   ]
  },
  {
   "cell_type": "code",
   "execution_count": 176,
   "id": "71bddf2f",
   "metadata": {},
   "outputs": [],
   "source": [
    "times = np.arange(30, 1810, 30)\n",
    "mice1_auc_over5 = cumulative_dynamic_auc(train_y, test_y, gbm_risk_scores_te, times)[0]\n",
    "\n",
    "times_data = {}\n",
    "values = mice1_auc_over5\n",
    "time_names = []\n",
    "\n",
    "for x in range(len(times)):\n",
    "    time_names.append('time_'+str(times[x]))\n",
    "\n",
    "for i in range(len(time_names)):\n",
    "    times_data[time_names[i]] = values[i]\n",
    "    \n",
    "mice1_auc_over5_df = pd.DataFrame(times_data, index = ['mice_1'])\n",
    "\n",
    "mice_auc_over5 = mice_auc_over5.append(mice1_auc_over5_df, ignore_index = False)"
   ]
  },
  {
   "cell_type": "code",
   "execution_count": 177,
   "id": "58c835cd",
   "metadata": {},
   "outputs": [
    {
     "data": {
      "text/html": [
       "<div>\n",
       "<style scoped>\n",
       "    .dataframe tbody tr th:only-of-type {\n",
       "        vertical-align: middle;\n",
       "    }\n",
       "\n",
       "    .dataframe tbody tr th {\n",
       "        vertical-align: top;\n",
       "    }\n",
       "\n",
       "    .dataframe thead th {\n",
       "        text-align: right;\n",
       "    }\n",
       "</style>\n",
       "<table border=\"1\" class=\"dataframe\">\n",
       "  <thead>\n",
       "    <tr style=\"text-align: right;\">\n",
       "      <th></th>\n",
       "      <th>time_30</th>\n",
       "      <th>time_60</th>\n",
       "      <th>time_90</th>\n",
       "      <th>time_120</th>\n",
       "      <th>time_150</th>\n",
       "      <th>time_180</th>\n",
       "      <th>time_210</th>\n",
       "      <th>time_240</th>\n",
       "      <th>time_270</th>\n",
       "      <th>time_300</th>\n",
       "      <th>...</th>\n",
       "      <th>time_1530</th>\n",
       "      <th>time_1560</th>\n",
       "      <th>time_1590</th>\n",
       "      <th>time_1620</th>\n",
       "      <th>time_1650</th>\n",
       "      <th>time_1680</th>\n",
       "      <th>time_1710</th>\n",
       "      <th>time_1740</th>\n",
       "      <th>time_1770</th>\n",
       "      <th>time_1800</th>\n",
       "    </tr>\n",
       "  </thead>\n",
       "  <tbody>\n",
       "    <tr>\n",
       "      <th>mice_0</th>\n",
       "      <td>0.867587</td>\n",
       "      <td>0.872672</td>\n",
       "      <td>0.860214</td>\n",
       "      <td>0.859627</td>\n",
       "      <td>0.859415</td>\n",
       "      <td>0.849943</td>\n",
       "      <td>0.849662</td>\n",
       "      <td>0.848590</td>\n",
       "      <td>0.848488</td>\n",
       "      <td>0.847318</td>\n",
       "      <td>...</td>\n",
       "      <td>0.777097</td>\n",
       "      <td>0.774220</td>\n",
       "      <td>0.775240</td>\n",
       "      <td>0.77486</td>\n",
       "      <td>0.773773</td>\n",
       "      <td>0.772356</td>\n",
       "      <td>0.770324</td>\n",
       "      <td>0.768801</td>\n",
       "      <td>0.768946</td>\n",
       "      <td>0.768499</td>\n",
       "    </tr>\n",
       "    <tr>\n",
       "      <th>mice_1</th>\n",
       "      <td>0.869412</td>\n",
       "      <td>0.877509</td>\n",
       "      <td>0.864961</td>\n",
       "      <td>0.862955</td>\n",
       "      <td>0.862670</td>\n",
       "      <td>0.852643</td>\n",
       "      <td>0.852460</td>\n",
       "      <td>0.851871</td>\n",
       "      <td>0.852311</td>\n",
       "      <td>0.850812</td>\n",
       "      <td>...</td>\n",
       "      <td>0.781924</td>\n",
       "      <td>0.779365</td>\n",
       "      <td>0.780204</td>\n",
       "      <td>0.77994</td>\n",
       "      <td>0.778950</td>\n",
       "      <td>0.778269</td>\n",
       "      <td>0.776133</td>\n",
       "      <td>0.775179</td>\n",
       "      <td>0.775236</td>\n",
       "      <td>0.774991</td>\n",
       "    </tr>\n",
       "  </tbody>\n",
       "</table>\n",
       "<p>2 rows × 60 columns</p>\n",
       "</div>"
      ],
      "text/plain": [
       "         time_30   time_60   time_90  time_120  time_150  time_180  time_210  \\\n",
       "mice_0  0.867587  0.872672  0.860214  0.859627  0.859415  0.849943  0.849662   \n",
       "mice_1  0.869412  0.877509  0.864961  0.862955  0.862670  0.852643  0.852460   \n",
       "\n",
       "        time_240  time_270  time_300  ...  time_1530  time_1560  time_1590  \\\n",
       "mice_0  0.848590  0.848488  0.847318  ...   0.777097   0.774220   0.775240   \n",
       "mice_1  0.851871  0.852311  0.850812  ...   0.781924   0.779365   0.780204   \n",
       "\n",
       "        time_1620  time_1650  time_1680  time_1710  time_1740  time_1770  \\\n",
       "mice_0    0.77486   0.773773   0.772356   0.770324   0.768801   0.768946   \n",
       "mice_1    0.77994   0.778950   0.778269   0.776133   0.775179   0.775236   \n",
       "\n",
       "        time_1800  \n",
       "mice_0   0.768499  \n",
       "mice_1   0.774991  \n",
       "\n",
       "[2 rows x 60 columns]"
      ]
     },
     "execution_count": 194,
     "metadata": {},
     "output_type": "execute_result"
    }
   ],
   "source": [
    "mice_auc_over5 "
   ]
  },
  {
   "cell_type": "code",
   "execution_count": 178,
   "id": "3e9a97a8",
   "metadata": {},
   "outputs": [],
   "source": [
    "mice_auc_over5.to_csv('mice_auc_over5.csv', index = True, header = True)"
   ]
  },
  {
   "cell_type": "code",
   "execution_count": 179,
   "id": "eb1f3f81",
   "metadata": {},
   "outputs": [],
   "source": [
    "# Variables passing through pipeline_rsf\n",
    "cat_encoder = list(preprocessor_red.transformers_[1][1].get_feature_names(categorical_features))\n",
    "pass_through = list(train_mice1_x.iloc[:, preprocessor_red.transformers_[2][2]].columns)\n",
    "attributes_gbm = numerical_features_red + cat_encoder + pass_through"
   ]
  },
  {
   "cell_type": "code",
   "execution_count": 180,
   "id": "309e3be0",
   "metadata": {},
   "outputs": [
    {
     "name": "stdout",
     "output_type": "stream",
     "text": [
      "Total number of features: 194\n",
      "Number of non-zero features in final model: 142\n"
     ]
    },
    {
     "data": {
      "image/png": "[encoded data removed]",
      "text/plain": [
       "<Figure size 432x576 with 1 Axes>"
      ]
     },
     "metadata": {
      "needs_background": "light"
     },
     "output_type": "display_data"
    }
   ],
   "source": [
    "# Dataframe of coefficients for each variable \n",
    "coefficients_mice1 = pd.DataFrame(\n",
    "    gbm_mice1.named_steps['gradientboostingsurvivalanalysis'].feature_importances_,\n",
    "    index = attributes_gbm,\n",
    "    columns = ['coefficient']\n",
    ")\n",
    "\n",
    "print('Total number of features: {}'.format(len(attributes_gbm)))\n",
    "\n",
    "non_zero = np.sum(coefficients_mice1.iloc[:, 0] != 0)\n",
    "print('Number of non-zero features in final model: {}'.format(non_zero))\n",
    "\n",
    "non_zero_coefs = coefficients_mice1.query('coefficient != 0')\n",
    "coef_order = non_zero_coefs.abs().sort_values('coefficient').tail(30).index\n",
    "\n",
    "_, ax = plt.subplots(figsize=(6, 8))\n",
    "non_zero_coefs.loc[coef_order].plot.barh(ax = ax, legend = False)\n",
    "ax.set_xlabel('coefficient')\n",
    "ax.grid(True)"
   ]
  },
  {
   "cell_type": "code",
   "execution_count": 181,
   "id": "f5b0799a",
   "metadata": {},
   "outputs": [],
   "source": [
    "coefficients_mice1_df = (\n",
    "    coefficients_mice1\n",
    "    .reset_index()\n",
    "    .rename(columns = {'index':'variable'}))"
   ]
  },
  {
   "cell_type": "code",
   "execution_count": 182,
   "id": "2a462b76",
   "metadata": {},
   "outputs": [],
   "source": [
    "coefficients_mice = coefficients_mice.append(coefficients_mice1_df, ignore_index = True)"
   ]
  },
  {
   "cell_type": "code",
   "execution_count": 183,
   "id": "f1d68c62",
   "metadata": {},
   "outputs": [],
   "source": [
    "coefficients_mice.to_csv('coefficients_mice.csv', index = False, header = True)"
   ]
  },
  {
   "cell_type": "markdown",
   "id": "28df7941",
   "metadata": {},
   "source": [
    "### 3.3 Model 3"
   ]
  },
  {
   "cell_type": "markdown",
   "id": "23db3973",
   "metadata": {},
   "source": [
    "#### Preprocessing "
   ]
  },
  {
   "cell_type": "code",
   "execution_count": 184,
   "id": "9164181c",
   "metadata": {},
   "outputs": [],
   "source": [
    "train_mice2 = pd.read_csv('mice_tr2.csv', index_col = 'PatientID')"
   ]
  },
  {
   "cell_type": "code",
   "execution_count": 185,
   "id": "9b816176",
   "metadata": {},
   "outputs": [
    {
     "name": "stdout",
     "output_type": "stream",
     "text": [
      "(25341, 183)\n"
     ]
    }
   ],
   "source": [
    "print(train_mice2.shape)"
   ]
  },
  {
   "cell_type": "code",
   "execution_count": 186,
   "id": "c89eb707",
   "metadata": {},
   "outputs": [
    {
     "data": {
      "text/plain": [
       "0"
      ]
     },
     "execution_count": 203,
     "metadata": {},
     "output_type": "execute_result"
    }
   ],
   "source": [
    "train_mice2.isna().sum().sum()"
   ]
  },
  {
   "cell_type": "code",
   "execution_count": 187,
   "id": "eba51db4",
   "metadata": {},
   "outputs": [],
   "source": [
    "train_mice2 = train_mice2.drop(columns = mice_drop)"
   ]
  },
  {
   "cell_type": "code",
   "execution_count": 188,
   "id": "ba1f969b",
   "metadata": {},
   "outputs": [
    {
     "name": "stdout",
     "output_type": "stream",
     "text": [
      "(25341, 146)\n"
     ]
    }
   ],
   "source": [
    "print(train_mice2.shape)"
   ]
  },
  {
   "cell_type": "code",
   "execution_count": 189,
   "id": "b6fed8ff",
   "metadata": {},
   "outputs": [],
   "source": [
    "train_mice2['ecog_na'] = np.where(train_mice2.index.isin(train.query('ecog_diagnosis == \"unknown\"').PatientID), 1, 0)\n",
    "train_mice2['stage_na'] = np.where(train_mice2.index.isin(train.query('stage == \"unknown\"').PatientID), 1, 0)\n",
    "train_mice2['ses_na'] = np.where(train_mice2.index.isin(train[train['ses'].isnull()].PatientID), 1, 0)"
   ]
  },
  {
   "cell_type": "code",
   "execution_count": 190,
   "id": "af586b95",
   "metadata": {},
   "outputs": [
    {
     "data": {
      "text/plain": [
       "['gender',\n",
       " 'race',\n",
       " 'ethnicity',\n",
       " 'p_type',\n",
       " 'region',\n",
       " 'stage',\n",
       " 'met_year',\n",
       " 'ER',\n",
       " 'HER2',\n",
       " 'PR',\n",
       " 'BRCA',\n",
       " 'PIK3CA',\n",
       " 'pdl1_n',\n",
       " 'ecog_diagnosis',\n",
       " 'ses']"
      ]
     },
     "execution_count": 207,
     "metadata": {},
     "output_type": "execute_result"
    }
   ],
   "source": [
    "for x in list(to_be_categorical):\n",
    "    train_mice2[x] = train_mice2[x].astype('category')\n",
    "    \n",
    "list(train_mice2.select_dtypes(include = ['category']).columns)"
   ]
  },
  {
   "cell_type": "code",
   "execution_count": 191,
   "id": "a6e182bd",
   "metadata": {},
   "outputs": [],
   "source": [
    "train_mice2['death_status'] = train_mice2['death_status'].astype('bool')"
   ]
  },
  {
   "cell_type": "code",
   "execution_count": 192,
   "id": "6b469b51",
   "metadata": {},
   "outputs": [],
   "source": [
    "val_mice2 = train_mice2[train_mice2.index.isin(val_IDs['PatientID'])]\n",
    "\n",
    "sub_train_mice2 = train_mice2[~train_mice2.index.isin(val_IDs['PatientID'])]"
   ]
  },
  {
   "cell_type": "code",
   "execution_count": 193,
   "id": "6d486930",
   "metadata": {},
   "outputs": [
    {
     "name": "stdout",
     "output_type": "stream",
     "text": [
      "(25341, 149)\n",
      "(19005, 149)\n",
      "(6336, 149)\n"
     ]
    }
   ],
   "source": [
    "print(train_mice2.shape)\n",
    "print(sub_train_mice2.shape)\n",
    "print(val_mice2.shape)"
   ]
  },
  {
   "cell_type": "code",
   "execution_count": 194,
   "id": "bb9eb904",
   "metadata": {},
   "outputs": [],
   "source": [
    "train_mice2_x = train_mice2.drop(columns = ['death_status', 'timerisk_activity'])\n",
    "\n",
    "sub_train_mice2_x = sub_train_mice2.drop(columns = ['death_status', 'timerisk_activity'])\n",
    "\n",
    "val_mice2_x = val_mice2.drop(columns = ['death_status', 'timerisk_activity'])"
   ]
  },
  {
   "cell_type": "code",
   "execution_count": 195,
   "id": "57bc5037",
   "metadata": {},
   "outputs": [
    {
     "name": "stdout",
     "output_type": "stream",
     "text": [
      "(25341, 147)\n",
      "(19005, 147)\n",
      "(6336, 147)\n"
     ]
    }
   ],
   "source": [
    "print(train_mice2_x.shape)\n",
    "print(sub_train_mice2_x.shape)\n",
    "print(val_mice2_x.shape)"
   ]
  },
  {
   "cell_type": "markdown",
   "id": "0f57bf0f",
   "metadata": {},
   "source": [
    "#### Hyperparameter tuning "
   ]
  },
  {
   "cell_type": "code",
   "execution_count": 196,
   "id": "f751d05d",
   "metadata": {},
   "outputs": [
    {
     "name": "stdout",
     "output_type": "stream",
     "text": [
      "      Iter       Train Loss      OOB Improve   Remaining Time \n",
      "         1       71499.8033           8.9616          206.96m\n",
      "         2       71619.8383           8.3827          206.70m\n",
      "         3       71468.1389           8.5675          206.60m\n",
      "         4       71172.1129           7.9324          206.58m\n",
      "         5       71517.2732           7.1386          206.47m\n",
      "         6       71575.6872           8.6636          206.79m\n",
      "         7       71274.0926           7.1552          206.62m\n",
      "         8       71210.0473           6.5292          206.46m\n",
      "         9       71363.4598           6.6786          206.35m\n",
      "        10       71516.6451           6.2915          206.15m\n",
      "        20       70440.6676           4.9336          205.06m\n",
      "        30       70640.6966           4.2377          203.94m\n",
      "        40       70472.2727           3.4541          202.89m\n",
      "        50       70658.7720           2.7139          201.82m\n",
      "        60       70563.3022           2.7426          200.75m\n",
      "        70       70510.6634           1.9689          199.69m\n",
      "        80       70516.2262           1.7176          198.65m\n",
      "        90       70359.8120           1.8396          197.60m\n",
      "       100       70366.2471           2.7429          196.57m\n",
      "       200       69715.7858           0.2853          186.16m\n",
      "       300       69869.2603           0.4339          175.82m\n",
      "       400       69126.0801           0.7377          165.48m\n",
      "       500       69678.7516          -0.0277          155.16m\n",
      "       600       68964.4121          -0.0566          144.83m\n",
      "       700       68841.0132          -0.2496          134.49m\n",
      "       800       69383.8902          -0.0352          124.22m\n",
      "       900       69169.0603          -0.0541          113.82m\n",
      "      1000       69071.2596          -0.1037          103.44m\n",
      "      2000       67980.3602          -0.1122            0.00s\n"
     ]
    },
    {
     "data": {
      "text/plain": [
       "GradientBoostingSurvivalAnalysis(learning_rate=0.05, max_depth=2,\n",
       "                                 n_estimators=2000, random_state=42,\n",
       "                                 subsample=0.75, verbose=1)"
      ]
     },
     "execution_count": 213,
     "metadata": {},
     "output_type": "execute_result"
    }
   ],
   "source": [
    "sub_train_mice2_xt = preprocessor_red.fit_transform(sub_train_mice2_x)\n",
    "val_mice2_xt = preprocessor_red.transform(val_mice2_x)\n",
    "\n",
    "gbm_mice2_exp = GradientBoostingSurvivalAnalysis(n_estimators = 2000,\n",
    "                                                 learning_rate = 0.05,\n",
    "                                                 max_depth = 2,\n",
    "                                                 subsample = 0.75,\n",
    "                                                 verbose = 1,\n",
    "                                                 random_state = 42)\n",
    "\n",
    "gbm_mice2_exp.fit(sub_train_mice2_xt, sub_train_y)"
   ]
  },
  {
   "cell_type": "code",
   "execution_count": 197,
   "id": "11450ef4",
   "metadata": {},
   "outputs": [],
   "source": [
    "gbm2_staged_auc = [cumulative_dynamic_auc(sub_train_y, val_y, risk_score, 730)[0][0] for \n",
    "                   risk_score in gbm_mice2_exp.staged_predict(val_mice2_xt)]"
   ]
  },
  {
   "cell_type": "code",
   "execution_count": 198,
   "id": "ee2ad334",
   "metadata": {},
   "outputs": [],
   "source": [
    "gbm2_staged_auc_tr = [cumulative_dynamic_auc(sub_train_y, sub_train_y, risk_score, 730)[0][0] for \n",
    "                      risk_score in gbm_mice2_exp.staged_predict(sub_train_mice2_xt)]"
   ]
  },
  {
   "cell_type": "code",
   "execution_count": 199,
   "id": "89f91890",
   "metadata": {},
   "outputs": [
    {
     "data": {
      "image/png": "[encoded data removed]",
      "text/plain": [
       "<Figure size 432x288 with 1 Axes>"
      ]
     },
     "metadata": {
      "needs_background": "light"
     },
     "output_type": "display_data"
    }
   ],
   "source": [
    "fig = plt.figure()\n",
    "ax = fig.add_subplot(1, 1, 1)\n",
    "\n",
    "x = range(len(gbm2_staged_auc))\n",
    "plt.plot(x, gbm2_staged_auc, color = 'blue', label = 'validation')\n",
    "plt.plot(x, gbm2_staged_auc_tr, color = 'red', label = 'training')\n",
    "plt.legend(loc = 'lower right')\n",
    "\n",
    "plt.xlabel(\"n_estimators\")\n",
    "plt.ylabel(\"AUC at 2-years\")\n",
    "plt.title('Gradient boosting model learning curve for mice2')\n",
    "\n",
    "plt.show()"
   ]
  },
  {
   "cell_type": "code",
   "execution_count": 200,
   "id": "7a723a41",
   "metadata": {},
   "outputs": [],
   "source": [
    "# Average AUC for every 25 additional trees. \n",
    "mean_auc_list = []\n",
    "for x in np.arange(0, len(gbm2_staged_auc), 25):\n",
    "    mean_auc_list.append(np.mean(gbm2_staged_auc[x:x+24]))"
   ]
  },
  {
   "cell_type": "code",
   "execution_count": 201,
   "id": "9f91b97e",
   "metadata": {},
   "outputs": [
    {
     "name": "stdout",
     "output_type": "stream",
     "text": [
      "Number of trees where 2 year AUC on validation dataset beings to downgrade: 1275\n",
      "Validation dataset AUC before degrading: 0.823615613632476\n",
      "Training dataset AUC before degrading: 0.8340136530273987\n"
     ]
    }
   ],
   "source": [
    "print('Number of trees where 2 year AUC on validation dataset beings to downgrade:', np.where(np.diff(mean_auc_list) < 0)[0][0]*25)\n",
    "print('Validation dataset AUC before degrading:', gbm2_staged_auc[np.where(np.diff(mean_auc_list) < 0)[0][0]*25])\n",
    "print('Training dataset AUC before degrading:', gbm2_staged_auc_tr[np.where(np.diff(mean_auc_list) < 0)[0][0]*25])"
   ]
  },
  {
   "cell_type": "markdown",
   "id": "5acea817",
   "metadata": {},
   "source": [
    "#### Building model and assessing performance"
   ]
  },
  {
   "cell_type": "code",
   "execution_count": 202,
   "id": "899db245",
   "metadata": {},
   "outputs": [
    {
     "name": "stdout",
     "output_type": "stream",
     "text": [
      "      Iter       Train Loss      OOB Improve   Remaining Time \n",
      "         1       98562.7972          13.0512          236.66m\n",
      "         2       98558.6131          12.5279          236.65m\n",
      "         3       99011.5748          11.0802          236.35m\n",
      "         4       98614.5677          11.2149          236.09m\n",
      "         5       98475.8414          10.4162          235.86m\n",
      "         6       98159.7539          10.1958          235.67m\n",
      "         7       98435.8701          10.2524          235.50m\n",
      "         8       98527.6236           8.6725          235.26m\n",
      "         9       98380.0786           8.6977          235.09m\n",
      "        10       98594.7440           8.6817          234.91m\n",
      "        20       98348.5954           7.1594          233.03m\n",
      "        30       97822.8465           5.7259          231.20m\n",
      "        40       97611.4516           7.1961          229.53m\n",
      "        50       97679.7675           4.0748          227.66m\n",
      "        60       97326.8657           4.6938          225.78m\n",
      "        70       97377.3171           3.5042          223.96m\n",
      "        80       96931.7818           2.6867          222.13m\n",
      "        90       96999.0228           2.9897          220.29m\n",
      "       100       97261.4569           3.8142          218.43m\n",
      "       200       96110.4475           1.3259          200.04m\n",
      "       300       95853.3577           0.5012          181.37m\n",
      "       400       95493.2330           0.2082          162.76m\n",
      "       500       95837.5253          -0.2130          144.20m\n",
      "       600       95584.8563          -0.0612          125.58m\n",
      "       700       95628.7715          -0.1353          106.98m\n",
      "       800       95488.1171          -0.1111           88.37m\n",
      "       900       95380.2594          -0.0693           69.73m\n",
      "      1000       95010.1617          -0.1990           51.14m\n"
     ]
    },
    {
     "data": {
      "text/plain": [
       "Pipeline(steps=[('columntransformer',\n",
       "                 ColumnTransformer(remainder='passthrough',\n",
       "                                   transformers=[('num',\n",
       "                                                  Pipeline(steps=[('std_scaler',\n",
       "                                                                   StandardScaler())]),\n",
       "                                                  ['age', 'delta_met_diagnosis',\n",
       "                                                   'weight_diag', 'bmi_diag',\n",
       "                                                   'weight_pct_change',\n",
       "                                                   'weight_slope',\n",
       "                                                   'albumin_diag', 'alp_diag',\n",
       "                                                   'alt_diag', 'ast_diag',\n",
       "                                                   'bicarb_diag', 'bun_diag',\n",
       "                                                   'calcium_diag',\n",
       "                                                   'chloride_diag',\n",
       "                                                   'creati...\n",
       "                                                   'wbc_max', 'albumin_min', ...]),\n",
       "                                                 ('cat',\n",
       "                                                  OneHotEncoder(handle_unknown='ignore'),\n",
       "                                                  ['gender', 'race',\n",
       "                                                   'ethnicity', 'p_type',\n",
       "                                                   'region', 'stage',\n",
       "                                                   'met_year', 'ER', 'HER2',\n",
       "                                                   'PR', 'BRCA', 'PIK3CA',\n",
       "                                                   'pdl1_n', 'ecog_diagnosis',\n",
       "                                                   'ses'])])),\n",
       "                ('gradientboostingsurvivalanalysis',\n",
       "                 GradientBoostingSurvivalAnalysis(learning_rate=0.05,\n",
       "                                                  max_depth=2,\n",
       "                                                  n_estimators=1275,\n",
       "                                                  random_state=42,\n",
       "                                                  subsample=0.75, verbose=1))])"
      ]
     },
     "execution_count": 219,
     "metadata": {},
     "output_type": "execute_result"
    }
   ],
   "source": [
    "gbm_mice2 = make_pipeline(preprocessor_red, GradientBoostingSurvivalAnalysis(n_estimators = np.where(np.diff(mean_auc_list) < 0)[0][0]*25,\n",
    "                                                                             learning_rate = 0.05,\n",
    "                                                                             max_depth = 2,\n",
    "                                                                             subsample = 0.75,\n",
    "                                                                             verbose = 1,\n",
    "                                                                             random_state = 42))\n",
    "\n",
    "gbm_mice2.fit(train_mice2_x, train_y)"
   ]
  },
  {
   "cell_type": "code",
   "execution_count": 203,
   "id": "5ee445b2",
   "metadata": {},
   "outputs": [
    {
     "data": {
      "text/plain": [
       "['gbm_mice2.joblib']"
      ]
     },
     "execution_count": 220,
     "metadata": {},
     "output_type": "execute_result"
    }
   ],
   "source": [
    "dump(gbm_mice2, 'gbm_mice2.joblib') "
   ]
  },
  {
   "cell_type": "code",
   "execution_count": 204,
   "id": "31f0b66d",
   "metadata": {},
   "outputs": [
    {
     "name": "stdout",
     "output_type": "stream",
     "text": [
      "Test set AUC at 2 year: 0.8173546935080371\n"
     ]
    }
   ],
   "source": [
    "gbm_risk_scores_te = gbm_mice2.predict(test_mice_x)\n",
    "gbm_auc_te = cumulative_dynamic_auc(train_y, test_y, gbm_risk_scores_te, 730)[0][0]\n",
    "print('Test set AUC at 2 year:', gbm_auc_te)"
   ]
  },
  {
   "cell_type": "code",
   "execution_count": 205,
   "id": "b8b24430",
   "metadata": {},
   "outputs": [
    {
     "name": "stdout",
     "output_type": "stream",
     "text": [
      "Training set AUC at 2 year: 0.8328191177728871\n"
     ]
    }
   ],
   "source": [
    "gbm_risk_scores_tr = gbm_mice2.predict(train_mice2_x)\n",
    "gbm_auc_tr = cumulative_dynamic_auc(train_y, train_y, gbm_risk_scores_tr, 730)[0][0]\n",
    "print('Training set AUC at 2 year:', gbm_auc_tr)"
   ]
  },
  {
   "cell_type": "code",
   "execution_count": 206,
   "id": "53fb138a",
   "metadata": {},
   "outputs": [],
   "source": [
    "# Bootstrap 10000 1 yr AUCs for test set \n",
    "n_bootstraps = 10000\n",
    "rng_seed = 42 \n",
    "bootstrapped_scores_te = []\n",
    "\n",
    "rng = np.random.RandomState(rng_seed)\n",
    "for i in range(n_bootstraps):\n",
    "    indices = rng.randint(0, len(gbm_risk_scores_te), len(gbm_risk_scores_te))\n",
    "    auc_yr = cumulative_dynamic_auc(train_y, test_y[indices], gbm_risk_scores_te[indices], 730)[0][0]\n",
    "    bootstrapped_scores_te.append(auc_yr)"
   ]
  },
  {
   "cell_type": "code",
   "execution_count": 207,
   "id": "6c59fa4b",
   "metadata": {},
   "outputs": [
    {
     "name": "stdout",
     "output_type": "stream",
     "text": [
      "Test set AUC standard error: 0.00270809917995245\n"
     ]
    }
   ],
   "source": [
    "# Standard error of mean for test set AUC\n",
    "sorted_scores_te = np.array(bootstrapped_scores_te)\n",
    "sorted_scores_te.sort()\n",
    "\n",
    "conf_lower_te = sorted_scores_te[int(0.025 * len(sorted_scores_te))]\n",
    "conf_upper_te = sorted_scores_te[int(0.975 * len(sorted_scores_te))]\n",
    "\n",
    "standard_error_te = (conf_upper_te - conf_lower_te) / 3.92\n",
    "print('Test set AUC standard error:', standard_error_te)"
   ]
  },
  {
   "cell_type": "code",
   "execution_count": 208,
   "id": "78a5181b",
   "metadata": {},
   "outputs": [],
   "source": [
    "# Bootstrap 10000 1-yr AUCs for train set \n",
    "n_bootstraps = 10000\n",
    "rng_seed = 42 \n",
    "bootstrapped_scores_tr = []\n",
    "\n",
    "rng = np.random.RandomState(rng_seed)\n",
    "for i in range(n_bootstraps):\n",
    "    indices = rng.randint(0, len(gbm_risk_scores_tr), len(gbm_risk_scores_tr))\n",
    "    auc_yr = cumulative_dynamic_auc(train_y, train_y[indices], gbm_risk_scores_tr[indices], 730)[0][0]\n",
    "    bootstrapped_scores_tr.append(auc_yr)"
   ]
  },
  {
   "cell_type": "code",
   "execution_count": 209,
   "id": "2a19e575",
   "metadata": {},
   "outputs": [
    {
     "name": "stdout",
     "output_type": "stream",
     "text": [
      "Training set AUC standard error 0.0029308329006440853\n"
     ]
    }
   ],
   "source": [
    "# Standard error of mean for train set AUC\n",
    "sorted_scores_tr = np.array(bootstrapped_scores_tr)\n",
    "sorted_scores_tr.sort()\n",
    "\n",
    "conf_lower_tr = sorted_scores_tr[int(0.025 * len(sorted_scores_tr))]\n",
    "conf_upper_tr = sorted_scores_tr[int(0.975 * len(sorted_scores_tr))]\n",
    "\n",
    "standard_error_tr = (conf_upper_tr - conf_lower_tr) / 3.92\n",
    "print('Training set AUC standard error', standard_error_tr)"
   ]
  },
  {
   "cell_type": "code",
   "execution_count": 210,
   "id": "2b485398",
   "metadata": {},
   "outputs": [],
   "source": [
    "mice_auc_data = {'mice_dataset': 'mice_2',\n",
    "                 'auc_2yr_te': gbm_auc_te,\n",
    "                 'sem_te': standard_error_te,\n",
    "                 'auc_2yr_tr': gbm_auc_tr,\n",
    "                 'sem_tr': standard_error_tr}\n",
    "\n",
    "mice_auc_df = mice_auc_df.append(mice_auc_data, ignore_index = True)"
   ]
  },
  {
   "cell_type": "code",
   "execution_count": 211,
   "id": "620586ed",
   "metadata": {},
   "outputs": [
    {
     "data": {
      "text/html": [
       "<div>\n",
       "<style scoped>\n",
       "    .dataframe tbody tr th:only-of-type {\n",
       "        vertical-align: middle;\n",
       "    }\n",
       "\n",
       "    .dataframe tbody tr th {\n",
       "        vertical-align: top;\n",
       "    }\n",
       "\n",
       "    .dataframe thead th {\n",
       "        text-align: right;\n",
       "    }\n",
       "</style>\n",
       "<table border=\"1\" class=\"dataframe\">\n",
       "  <thead>\n",
       "    <tr style=\"text-align: right;\">\n",
       "      <th></th>\n",
       "      <th>mice_dataset</th>\n",
       "      <th>auc_2yr_te</th>\n",
       "      <th>sem_te</th>\n",
       "      <th>auc_2yr_tr</th>\n",
       "      <th>sem_tr</th>\n",
       "    </tr>\n",
       "  </thead>\n",
       "  <tbody>\n",
       "    <tr>\n",
       "      <th>0</th>\n",
       "      <td>mice_0</td>\n",
       "      <td>0.815912</td>\n",
       "      <td>0.002723</td>\n",
       "      <td>0.831202</td>\n",
       "      <td>0.002954</td>\n",
       "    </tr>\n",
       "    <tr>\n",
       "      <th>1</th>\n",
       "      <td>mice_1</td>\n",
       "      <td>0.819399</td>\n",
       "      <td>0.002713</td>\n",
       "      <td>0.836937</td>\n",
       "      <td>0.002886</td>\n",
       "    </tr>\n",
       "    <tr>\n",
       "      <th>2</th>\n",
       "      <td>mice_2</td>\n",
       "      <td>0.817355</td>\n",
       "      <td>0.002708</td>\n",
       "      <td>0.832819</td>\n",
       "      <td>0.002931</td>\n",
       "    </tr>\n",
       "  </tbody>\n",
       "</table>\n",
       "</div>"
      ],
      "text/plain": [
       "  mice_dataset  auc_2yr_te    sem_te  auc_2yr_tr    sem_tr\n",
       "0       mice_0    0.815912  0.002723    0.831202  0.002954\n",
       "1       mice_1    0.819399  0.002713    0.836937  0.002886\n",
       "2       mice_2    0.817355  0.002708    0.832819  0.002931"
      ]
     },
     "execution_count": 228,
     "metadata": {},
     "output_type": "execute_result"
    }
   ],
   "source": [
    "mice_auc_df "
   ]
  },
  {
   "cell_type": "code",
   "execution_count": 212,
   "id": "ba4c29f7",
   "metadata": {},
   "outputs": [],
   "source": [
    "mice_auc_df.to_csv('mice_auc_df.csv', index = False, header = True)"
   ]
  },
  {
   "cell_type": "code",
   "execution_count": 213,
   "id": "368fb2e2",
   "metadata": {},
   "outputs": [],
   "source": [
    "times = np.arange(30, 1810, 30)\n",
    "mice2_auc_over5 = cumulative_dynamic_auc(train_y, test_y, gbm_risk_scores_te, times)[0]\n",
    "\n",
    "times_data = {}\n",
    "values = mice2_auc_over5\n",
    "time_names = []\n",
    "\n",
    "for x in range(len(times)):\n",
    "    time_names.append('time_'+str(times[x]))\n",
    "\n",
    "for i in range(len(time_names)):\n",
    "    times_data[time_names[i]] = values[i]\n",
    "    \n",
    "mice2_auc_over5_df = pd.DataFrame(times_data, index = ['mice_2'])\n",
    "\n",
    "mice_auc_over5 = mice_auc_over5.append(mice2_auc_over5_df, ignore_index = False)"
   ]
  },
  {
   "cell_type": "code",
   "execution_count": 214,
   "id": "d232ed99",
   "metadata": {},
   "outputs": [
    {
     "data": {
      "text/html": [
       "<div>\n",
       "<style scoped>\n",
       "    .dataframe tbody tr th:only-of-type {\n",
       "        vertical-align: middle;\n",
       "    }\n",
       "\n",
       "    .dataframe tbody tr th {\n",
       "        vertical-align: top;\n",
       "    }\n",
       "\n",
       "    .dataframe thead th {\n",
       "        text-align: right;\n",
       "    }\n",
       "</style>\n",
       "<table border=\"1\" class=\"dataframe\">\n",
       "  <thead>\n",
       "    <tr style=\"text-align: right;\">\n",
       "      <th></th>\n",
       "      <th>time_30</th>\n",
       "      <th>time_60</th>\n",
       "      <th>time_90</th>\n",
       "      <th>time_120</th>\n",
       "      <th>time_150</th>\n",
       "      <th>time_180</th>\n",
       "      <th>time_210</th>\n",
       "      <th>time_240</th>\n",
       "      <th>time_270</th>\n",
       "      <th>time_300</th>\n",
       "      <th>...</th>\n",
       "      <th>time_1530</th>\n",
       "      <th>time_1560</th>\n",
       "      <th>time_1590</th>\n",
       "      <th>time_1620</th>\n",
       "      <th>time_1650</th>\n",
       "      <th>time_1680</th>\n",
       "      <th>time_1710</th>\n",
       "      <th>time_1740</th>\n",
       "      <th>time_1770</th>\n",
       "      <th>time_1800</th>\n",
       "    </tr>\n",
       "  </thead>\n",
       "  <tbody>\n",
       "    <tr>\n",
       "      <th>mice_0</th>\n",
       "      <td>0.867587</td>\n",
       "      <td>0.872672</td>\n",
       "      <td>0.860214</td>\n",
       "      <td>0.859627</td>\n",
       "      <td>0.859415</td>\n",
       "      <td>0.849943</td>\n",
       "      <td>0.849662</td>\n",
       "      <td>0.848590</td>\n",
       "      <td>0.848488</td>\n",
       "      <td>0.847318</td>\n",
       "      <td>...</td>\n",
       "      <td>0.777097</td>\n",
       "      <td>0.774220</td>\n",
       "      <td>0.775240</td>\n",
       "      <td>0.774860</td>\n",
       "      <td>0.773773</td>\n",
       "      <td>0.772356</td>\n",
       "      <td>0.770324</td>\n",
       "      <td>0.768801</td>\n",
       "      <td>0.768946</td>\n",
       "      <td>0.768499</td>\n",
       "    </tr>\n",
       "    <tr>\n",
       "      <th>mice_1</th>\n",
       "      <td>0.869412</td>\n",
       "      <td>0.877509</td>\n",
       "      <td>0.864961</td>\n",
       "      <td>0.862955</td>\n",
       "      <td>0.862670</td>\n",
       "      <td>0.852643</td>\n",
       "      <td>0.852460</td>\n",
       "      <td>0.851871</td>\n",
       "      <td>0.852311</td>\n",
       "      <td>0.850812</td>\n",
       "      <td>...</td>\n",
       "      <td>0.781924</td>\n",
       "      <td>0.779365</td>\n",
       "      <td>0.780204</td>\n",
       "      <td>0.779940</td>\n",
       "      <td>0.778950</td>\n",
       "      <td>0.778269</td>\n",
       "      <td>0.776133</td>\n",
       "      <td>0.775179</td>\n",
       "      <td>0.775236</td>\n",
       "      <td>0.774991</td>\n",
       "    </tr>\n",
       "    <tr>\n",
       "      <th>mice_2</th>\n",
       "      <td>0.863310</td>\n",
       "      <td>0.871853</td>\n",
       "      <td>0.861056</td>\n",
       "      <td>0.860159</td>\n",
       "      <td>0.860275</td>\n",
       "      <td>0.852383</td>\n",
       "      <td>0.852393</td>\n",
       "      <td>0.851538</td>\n",
       "      <td>0.851889</td>\n",
       "      <td>0.850479</td>\n",
       "      <td>...</td>\n",
       "      <td>0.780736</td>\n",
       "      <td>0.778018</td>\n",
       "      <td>0.779104</td>\n",
       "      <td>0.778733</td>\n",
       "      <td>0.777798</td>\n",
       "      <td>0.776629</td>\n",
       "      <td>0.774787</td>\n",
       "      <td>0.773729</td>\n",
       "      <td>0.774207</td>\n",
       "      <td>0.773760</td>\n",
       "    </tr>\n",
       "  </tbody>\n",
       "</table>\n",
       "<p>3 rows × 60 columns</p>\n",
       "</div>"
      ],
      "text/plain": [
       "         time_30   time_60   time_90  time_120  time_150  time_180  time_210  \\\n",
       "mice_0  0.867587  0.872672  0.860214  0.859627  0.859415  0.849943  0.849662   \n",
       "mice_1  0.869412  0.877509  0.864961  0.862955  0.862670  0.852643  0.852460   \n",
       "mice_2  0.863310  0.871853  0.861056  0.860159  0.860275  0.852383  0.852393   \n",
       "\n",
       "        time_240  time_270  time_300  ...  time_1530  time_1560  time_1590  \\\n",
       "mice_0  0.848590  0.848488  0.847318  ...   0.777097   0.774220   0.775240   \n",
       "mice_1  0.851871  0.852311  0.850812  ...   0.781924   0.779365   0.780204   \n",
       "mice_2  0.851538  0.851889  0.850479  ...   0.780736   0.778018   0.779104   \n",
       "\n",
       "        time_1620  time_1650  time_1680  time_1710  time_1740  time_1770  \\\n",
       "mice_0   0.774860   0.773773   0.772356   0.770324   0.768801   0.768946   \n",
       "mice_1   0.779940   0.778950   0.778269   0.776133   0.775179   0.775236   \n",
       "mice_2   0.778733   0.777798   0.776629   0.774787   0.773729   0.774207   \n",
       "\n",
       "        time_1800  \n",
       "mice_0   0.768499  \n",
       "mice_1   0.774991  \n",
       "mice_2   0.773760  \n",
       "\n",
       "[3 rows x 60 columns]"
      ]
     },
     "execution_count": 231,
     "metadata": {},
     "output_type": "execute_result"
    }
   ],
   "source": [
    "mice_auc_over5"
   ]
  },
  {
   "cell_type": "code",
   "execution_count": 215,
   "id": "ecc077b6",
   "metadata": {},
   "outputs": [],
   "source": [
    "mice_auc_over5.to_csv('mice_auc_over5.csv', index = True, header = True)"
   ]
  },
  {
   "cell_type": "code",
   "execution_count": 216,
   "id": "3c6a82c6",
   "metadata": {},
   "outputs": [],
   "source": [
    "# Variables passing through pipeline_rsf\n",
    "cat_encoder = list(preprocessor_red.transformers_[1][1].get_feature_names(categorical_features))\n",
    "pass_through = list(train_mice2_x.iloc[:, preprocessor_red.transformers_[2][2]].columns)\n",
    "attributes_gbm = numerical_features_red + cat_encoder + pass_through"
   ]
  },
  {
   "cell_type": "code",
   "execution_count": 217,
   "id": "3a0947a7",
   "metadata": {},
   "outputs": [
    {
     "name": "stdout",
     "output_type": "stream",
     "text": [
      "Total number of features: 194\n",
      "Number of non-zero features in final model: 136\n"
     ]
    },
    {
     "data": {
      "image/png": "[encoded data removed]",
      "text/plain": [
       "<Figure size 432x576 with 1 Axes>"
      ]
     },
     "metadata": {
      "needs_background": "light"
     },
     "output_type": "display_data"
    }
   ],
   "source": [
    "# Dataframe of coefficients for each variable \n",
    "coefficients_mice2 = pd.DataFrame(\n",
    "    gbm_mice2.named_steps['gradientboostingsurvivalanalysis'].feature_importances_,\n",
    "    index = attributes_gbm,\n",
    "    columns = ['coefficient']\n",
    ")\n",
    "\n",
    "print('Total number of features: {}'.format(len(attributes_gbm)))\n",
    "\n",
    "non_zero = np.sum(coefficients_mice2.iloc[:, 0] != 0)\n",
    "print('Number of non-zero features in final model: {}'.format(non_zero))\n",
    "\n",
    "non_zero_coefs = coefficients_mice2.query('coefficient != 0')\n",
    "coef_order = non_zero_coefs.abs().sort_values('coefficient').tail(30).index\n",
    "\n",
    "_, ax = plt.subplots(figsize=(6, 8))\n",
    "non_zero_coefs.loc[coef_order].plot.barh(ax = ax, legend = False)\n",
    "ax.set_xlabel('coefficient')\n",
    "ax.grid(True)"
   ]
  },
  {
   "cell_type": "code",
   "execution_count": 218,
   "id": "c0cc08b1",
   "metadata": {},
   "outputs": [],
   "source": [
    "coefficients_mice2_df = (\n",
    "    coefficients_mice2\n",
    "    .reset_index()\n",
    "    .rename(columns = {'index':'variable'}))"
   ]
  },
  {
   "cell_type": "code",
   "execution_count": 219,
   "id": "a659ace3",
   "metadata": {},
   "outputs": [],
   "source": [
    "coefficients_mice = coefficients_mice.append(coefficients_mice2_df, ignore_index = True)"
   ]
  },
  {
   "cell_type": "code",
   "execution_count": 220,
   "id": "d8ece657",
   "metadata": {},
   "outputs": [],
   "source": [
    "coefficients_mice.to_csv('coefficients_mice.csv', index = False, header = True)"
   ]
  },
  {
   "cell_type": "markdown",
   "id": "47c0135c",
   "metadata": {},
   "source": [
    "### 3.4 Model 4"
   ]
  },
  {
   "cell_type": "markdown",
   "id": "b4982ceb",
   "metadata": {},
   "source": [
    "#### Preprocessing "
   ]
  },
  {
   "cell_type": "code",
   "execution_count": 221,
   "id": "0bd06901",
   "metadata": {},
   "outputs": [],
   "source": [
    "train_mice3 = pd.read_csv('mice_tr3.csv', index_col = 'PatientID')"
   ]
  },
  {
   "cell_type": "code",
   "execution_count": 222,
   "id": "b2c60258",
   "metadata": {},
   "outputs": [
    {
     "name": "stdout",
     "output_type": "stream",
     "text": [
      "(25341, 183)\n"
     ]
    }
   ],
   "source": [
    "print(train_mice3.shape)"
   ]
  },
  {
   "cell_type": "code",
   "execution_count": 223,
   "id": "90293093",
   "metadata": {},
   "outputs": [
    {
     "data": {
      "text/plain": [
       "0"
      ]
     },
     "execution_count": 240,
     "metadata": {},
     "output_type": "execute_result"
    }
   ],
   "source": [
    "train_mice3.isna().sum().sum()"
   ]
  },
  {
   "cell_type": "code",
   "execution_count": 224,
   "id": "f320c179",
   "metadata": {},
   "outputs": [],
   "source": [
    "train_mice3 = train_mice3.drop(columns = mice_drop)"
   ]
  },
  {
   "cell_type": "code",
   "execution_count": 225,
   "id": "d9616f5e",
   "metadata": {},
   "outputs": [
    {
     "name": "stdout",
     "output_type": "stream",
     "text": [
      "(25341, 146)\n"
     ]
    }
   ],
   "source": [
    "print(train_mice3.shape)"
   ]
  },
  {
   "cell_type": "code",
   "execution_count": 226,
   "id": "6b90197f",
   "metadata": {},
   "outputs": [],
   "source": [
    "train_mice3['ecog_na'] = np.where(train_mice3.index.isin(train.query('ecog_diagnosis == \"unknown\"').PatientID), 1, 0)\n",
    "train_mice3['stage_na'] = np.where(train_mice3.index.isin(train.query('stage == \"unknown\"').PatientID), 1, 0)\n",
    "train_mice3['ses_na'] = np.where(train_mice3.index.isin(train[train['ses'].isnull()].PatientID), 1, 0)"
   ]
  },
  {
   "cell_type": "code",
   "execution_count": 227,
   "id": "1118068f",
   "metadata": {},
   "outputs": [
    {
     "data": {
      "text/plain": [
       "['gender',\n",
       " 'race',\n",
       " 'ethnicity',\n",
       " 'p_type',\n",
       " 'region',\n",
       " 'stage',\n",
       " 'met_year',\n",
       " 'ER',\n",
       " 'HER2',\n",
       " 'PR',\n",
       " 'BRCA',\n",
       " 'PIK3CA',\n",
       " 'pdl1_n',\n",
       " 'ecog_diagnosis',\n",
       " 'ses']"
      ]
     },
     "execution_count": 244,
     "metadata": {},
     "output_type": "execute_result"
    }
   ],
   "source": [
    "for x in list(to_be_categorical):\n",
    "    train_mice3[x] = train_mice3[x].astype('category')\n",
    "    \n",
    "list(train_mice3.select_dtypes(include = ['category']).columns)"
   ]
  },
  {
   "cell_type": "code",
   "execution_count": 228,
   "id": "68deee9b",
   "metadata": {},
   "outputs": [],
   "source": [
    "train_mice3['death_status'] = train_mice3['death_status'].astype('bool')"
   ]
  },
  {
   "cell_type": "code",
   "execution_count": 229,
   "id": "16e4da64",
   "metadata": {},
   "outputs": [],
   "source": [
    "val_mice3 = train_mice3[train_mice3.index.isin(val_IDs['PatientID'])]\n",
    "\n",
    "sub_train_mice3 = train_mice3[~train_mice3.index.isin(val_IDs['PatientID'])]"
   ]
  },
  {
   "cell_type": "code",
   "execution_count": 230,
   "id": "08c92776",
   "metadata": {},
   "outputs": [
    {
     "name": "stdout",
     "output_type": "stream",
     "text": [
      "(25341, 149)\n",
      "(19005, 149)\n",
      "(6336, 149)\n"
     ]
    }
   ],
   "source": [
    "print(train_mice3.shape)\n",
    "print(sub_train_mice3.shape)\n",
    "print(val_mice3.shape)"
   ]
  },
  {
   "cell_type": "code",
   "execution_count": 231,
   "id": "d3964b20",
   "metadata": {},
   "outputs": [],
   "source": [
    "train_mice3_x = train_mice3.drop(columns = ['death_status', 'timerisk_activity'])\n",
    "\n",
    "sub_train_mice3_x = sub_train_mice3.drop(columns = ['death_status', 'timerisk_activity'])\n",
    "\n",
    "val_mice3_x = val_mice3.drop(columns = ['death_status', 'timerisk_activity'])"
   ]
  },
  {
   "cell_type": "code",
   "execution_count": 232,
   "id": "078716f7",
   "metadata": {},
   "outputs": [
    {
     "name": "stdout",
     "output_type": "stream",
     "text": [
      "(25341, 147)\n",
      "(19005, 147)\n",
      "(6336, 147)\n"
     ]
    }
   ],
   "source": [
    "print(train_mice3_x.shape)\n",
    "print(sub_train_mice3_x.shape)\n",
    "print(val_mice3_x.shape)"
   ]
  },
  {
   "cell_type": "markdown",
   "id": "ad0e36b9",
   "metadata": {},
   "source": [
    "#### Hyperparameter tuning "
   ]
  },
  {
   "cell_type": "code",
   "execution_count": 233,
   "id": "fca5bfd6",
   "metadata": {},
   "outputs": [
    {
     "name": "stdout",
     "output_type": "stream",
     "text": [
      "      Iter       Train Loss      OOB Improve   Remaining Time \n",
      "         1       71499.4376           9.5750          206.69m\n",
      "         2       71617.6692           8.8745          208.39m\n",
      "         3       71465.3737           9.0426          208.22m\n",
      "         4       71170.3272           8.3793          207.68m\n",
      "         5       71516.2039           7.7200          207.17m\n",
      "         6       71574.2870           6.9534          206.74m\n",
      "         7       71272.5489           6.9664          206.52m\n",
      "         8       71207.5157           6.6488          206.32m\n",
      "         9       71360.5897           6.6000          206.13m\n",
      "        10       71512.8106           6.0522          205.93m\n",
      "        20       70442.8855           4.6993          204.70m\n",
      "        30       70638.0077           4.3520          203.46m\n",
      "        40       70475.9346           3.7034          202.35m\n",
      "        50       70665.7685           3.0441          201.29m\n",
      "        60       70577.5488           2.6097          200.22m\n",
      "        70       70527.9938           2.4694          199.16m\n",
      "        80       70508.0792           1.8863          198.09m\n",
      "        90       70364.6145           2.2543          197.05m\n",
      "       100       70362.3270           2.9962          196.00m\n",
      "       200       69691.2602           0.3318          185.62m\n",
      "       300       69850.7585          -0.0727          175.42m\n",
      "       400       69102.1076           0.2453          165.15m\n",
      "       500       69656.8402          -0.0810          154.86m\n",
      "       600       68932.2571           0.4408          144.55m\n",
      "       700       68806.1051          -0.0212          134.25m\n",
      "       800       69321.9537           0.0157          123.94m\n",
      "       900       69131.3376          -0.1794          113.59m\n",
      "      1000       69034.3781           0.1181          103.26m\n",
      "      2000       67943.4044          -0.0371            0.00s\n"
     ]
    },
    {
     "data": {
      "text/plain": [
       "GradientBoostingSurvivalAnalysis(learning_rate=0.05, max_depth=2,\n",
       "                                 n_estimators=2000, random_state=42,\n",
       "                                 subsample=0.75, verbose=1)"
      ]
     },
     "execution_count": 251,
     "metadata": {},
     "output_type": "execute_result"
    }
   ],
   "source": [
    "sub_train_mice3_xt = preprocessor_red.fit_transform(sub_train_mice3_x)\n",
    "val_mice3_xt = preprocessor_red.transform(val_mice3_x)\n",
    "\n",
    "gbm_mice3_exp = GradientBoostingSurvivalAnalysis(n_estimators = 2000,\n",
    "                                                 learning_rate = 0.05,\n",
    "                                                 max_depth = 2,\n",
    "                                                 subsample = 0.75,\n",
    "                                                 verbose = 1,\n",
    "                                                 random_state = 42)\n",
    "\n",
    "gbm_mice3_exp.fit(sub_train_mice3_xt, sub_train_y)"
   ]
  },
  {
   "cell_type": "code",
   "execution_count": 234,
   "id": "a6cb5607",
   "metadata": {},
   "outputs": [],
   "source": [
    "gbm3_staged_auc = [cumulative_dynamic_auc(sub_train_y, val_y, risk_score, 730)[0][0] for \n",
    "                   risk_score in gbm_mice3_exp.staged_predict(val_mice3_xt)]"
   ]
  },
  {
   "cell_type": "code",
   "execution_count": 235,
   "id": "53afd192",
   "metadata": {},
   "outputs": [],
   "source": [
    "gbm3_staged_auc_tr = [cumulative_dynamic_auc(sub_train_y, sub_train_y, risk_score, 730)[0][0] for \n",
    "                      risk_score in gbm_mice3_exp.staged_predict(sub_train_mice3_xt)]"
   ]
  },
  {
   "cell_type": "code",
   "execution_count": 236,
   "id": "ecef52d1",
   "metadata": {},
   "outputs": [
    {
     "data": {
      "image/png": "[encoded data removed]",
      "text/plain": [
       "<Figure size 432x288 with 1 Axes>"
      ]
     },
     "metadata": {
      "needs_background": "light"
     },
     "output_type": "display_data"
    }
   ],
   "source": [
    "fig = plt.figure()\n",
    "ax = fig.add_subplot(1, 1, 1)\n",
    "\n",
    "x = range(len(gbm3_staged_auc))\n",
    "plt.plot(x, gbm3_staged_auc, color = 'blue', label = 'validation')\n",
    "plt.plot(x, gbm3_staged_auc_tr, color = 'red', label = 'training')\n",
    "plt.legend(loc = 'lower right')\n",
    "\n",
    "plt.xlabel(\"n_estimators\")\n",
    "plt.ylabel(\"AUC at 2 years\")\n",
    "plt.title('Gradient boosting model learning curve for mice3')\n",
    "\n",
    "plt.show()"
   ]
  },
  {
   "cell_type": "code",
   "execution_count": 237,
   "id": "def3ebaf",
   "metadata": {},
   "outputs": [],
   "source": [
    "# Average AUC for every 25 additional trees. \n",
    "mean_auc_list = []\n",
    "for x in np.arange(0, len(gbm3_staged_auc), 25):\n",
    "    mean_auc_list.append(np.mean(gbm3_staged_auc[x:x+24]))"
   ]
  },
  {
   "cell_type": "code",
   "execution_count": 238,
   "id": "0b25cf6c",
   "metadata": {},
   "outputs": [
    {
     "name": "stdout",
     "output_type": "stream",
     "text": [
      "Number of trees where 2 year AUC on validation dataset beings to downgrade: 1625\n",
      "Validation dataset AUC before degrading: 0.82273941311324\n",
      "Training dataset AUC before degrading: 0.8382124691920787\n"
     ]
    }
   ],
   "source": [
    "print('Number of trees where 2 year AUC on validation dataset beings to downgrade:', np.where(np.diff(mean_auc_list) < 0)[0][0]*25)\n",
    "print('Validation dataset AUC before degrading:', gbm3_staged_auc[np.where(np.diff(mean_auc_list) < 0)[0][0]*25])\n",
    "print('Training dataset AUC before degrading:', gbm3_staged_auc_tr[np.where(np.diff(mean_auc_list) < 0)[0][0]*25])"
   ]
  },
  {
   "cell_type": "markdown",
   "id": "069372b0",
   "metadata": {},
   "source": [
    "#### Model building and performance assessment "
   ]
  },
  {
   "cell_type": "code",
   "execution_count": 239,
   "id": "62d77f45",
   "metadata": {},
   "outputs": [
    {
     "name": "stdout",
     "output_type": "stream",
     "text": [
      "      Iter       Train Loss      OOB Improve   Remaining Time \n",
      "         1       98561.0814          13.5631          301.93m\n",
      "         2       98554.4055          13.0350          302.86m\n",
      "         3       99005.1989          11.7205          302.43m\n",
      "         4       98607.1928          11.3526          302.14m\n",
      "         5       98467.6451          10.4948          301.88m\n",
      "         6       98151.7186          10.3436          301.61m\n",
      "         7       98428.3974          10.7523          301.48m\n",
      "         8       98519.3443           8.7990          301.30m\n",
      "         9       98367.6109           8.3113          301.07m\n",
      "        10       98581.8405           8.6896          300.90m\n",
      "        20       98334.1164           6.0941          299.06m\n",
      "        30       97809.7779           5.7527          296.81m\n",
      "        40       97602.5803           6.8166          295.06m\n",
      "        50       97669.6545           3.9819          293.25m\n",
      "        60       97327.4454           4.7582          291.43m\n",
      "        70       97363.8783           4.5174          289.66m\n",
      "        80       96916.1852           2.7785          287.81m\n",
      "        90       96975.7841           2.8102          285.99m\n",
      "       100       97248.0056           3.8036          284.11m\n",
      "       200       96050.9308           0.7628          265.58m\n",
      "       300       95806.5333           0.2795          246.97m\n",
      "       400       95452.2700           0.5399          228.30m\n",
      "       500       95787.5840           0.0508          209.66m\n",
      "       600       95566.0673           0.1820          191.02m\n",
      "       700       95582.9991          -0.1485          172.38m\n",
      "       800       95440.0921           0.0323          153.74m\n",
      "       900       95335.8644          -0.2162          135.10m\n",
      "      1000       94952.4736          -0.0992          116.48m\n"
     ]
    },
    {
     "data": {
      "text/plain": [
       "Pipeline(steps=[('columntransformer',\n",
       "                 ColumnTransformer(remainder='passthrough',\n",
       "                                   transformers=[('num',\n",
       "                                                  Pipeline(steps=[('std_scaler',\n",
       "                                                                   StandardScaler())]),\n",
       "                                                  ['age', 'delta_met_diagnosis',\n",
       "                                                   'weight_diag', 'bmi_diag',\n",
       "                                                   'weight_pct_change',\n",
       "                                                   'weight_slope',\n",
       "                                                   'albumin_diag', 'alp_diag',\n",
       "                                                   'alt_diag', 'ast_diag',\n",
       "                                                   'bicarb_diag', 'bun_diag',\n",
       "                                                   'calcium_diag',\n",
       "                                                   'chloride_diag',\n",
       "                                                   'creati...\n",
       "                                                   'wbc_max', 'albumin_min', ...]),\n",
       "                                                 ('cat',\n",
       "                                                  OneHotEncoder(handle_unknown='ignore'),\n",
       "                                                  ['gender', 'race',\n",
       "                                                   'ethnicity', 'p_type',\n",
       "                                                   'region', 'stage',\n",
       "                                                   'met_year', 'ER', 'HER2',\n",
       "                                                   'PR', 'BRCA', 'PIK3CA',\n",
       "                                                   'pdl1_n', 'ecog_diagnosis',\n",
       "                                                   'ses'])])),\n",
       "                ('gradientboostingsurvivalanalysis',\n",
       "                 GradientBoostingSurvivalAnalysis(learning_rate=0.05,\n",
       "                                                  max_depth=2,\n",
       "                                                  n_estimators=1625,\n",
       "                                                  random_state=42,\n",
       "                                                  subsample=0.75, verbose=1))])"
      ]
     },
     "execution_count": 257,
     "metadata": {},
     "output_type": "execute_result"
    }
   ],
   "source": [
    "gbm_mice3 = make_pipeline(preprocessor_red, GradientBoostingSurvivalAnalysis(n_estimators = np.where(np.diff(mean_auc_list) < 0)[0][0]*25,\n",
    "                                                                             learning_rate = 0.05,\n",
    "                                                                             max_depth = 2,\n",
    "                                                                             subsample = 0.75,\n",
    "                                                                             verbose = 1,\n",
    "                                                                             random_state = 42))\n",
    "\n",
    "gbm_mice3.fit(train_mice3_x, train_y)"
   ]
  },
  {
   "cell_type": "code",
   "execution_count": 240,
   "id": "542b704f",
   "metadata": {},
   "outputs": [
    {
     "data": {
      "text/plain": [
       "['gbm_mice3.joblib']"
      ]
     },
     "execution_count": 258,
     "metadata": {},
     "output_type": "execute_result"
    }
   ],
   "source": [
    "dump(gbm_mice3, 'gbm_mice3.joblib') "
   ]
  },
  {
   "cell_type": "code",
   "execution_count": 241,
   "id": "31ad4afd",
   "metadata": {},
   "outputs": [
    {
     "name": "stdout",
     "output_type": "stream",
     "text": [
      "Test set AUC at 2 years: 0.8198573927896737\n"
     ]
    }
   ],
   "source": [
    "gbm_risk_scores_te = gbm_mice3.predict(test_mice_x)\n",
    "gbm_auc_te = cumulative_dynamic_auc(train_y, test_y, gbm_risk_scores_te, 730)[0][0]\n",
    "print('Test set AUC at 2 years:', gbm_auc_te)"
   ]
  },
  {
   "cell_type": "code",
   "execution_count": 242,
   "id": "b4a56a66",
   "metadata": {},
   "outputs": [
    {
     "name": "stdout",
     "output_type": "stream",
     "text": [
      "Training set AUC at 2 years: 0.8371858811245254\n"
     ]
    }
   ],
   "source": [
    "gbm_risk_scores_tr = gbm_mice3.predict(train_mice3_x)\n",
    "gbm_auc_tr = cumulative_dynamic_auc(train_y, train_y, gbm_risk_scores_tr, 730)[0][0]\n",
    "print('Training set AUC at 2 years:', gbm_auc_tr)"
   ]
  },
  {
   "cell_type": "code",
   "execution_count": 243,
   "id": "5ff8d1e4",
   "metadata": {},
   "outputs": [],
   "source": [
    "# Bootstrap 10000 1 yr AUCs for test set \n",
    "n_bootstraps = 10000\n",
    "rng_seed = 42 \n",
    "bootstrapped_scores_te = []\n",
    "\n",
    "rng = np.random.RandomState(rng_seed)\n",
    "for i in range(n_bootstraps):\n",
    "    indices = rng.randint(0, len(gbm_risk_scores_te), len(gbm_risk_scores_te))\n",
    "    auc_yr = cumulative_dynamic_auc(train_y, test_y[indices], gbm_risk_scores_te[indices], 730)[0][0]\n",
    "    bootstrapped_scores_te.append(auc_yr)"
   ]
  },
  {
   "cell_type": "code",
   "execution_count": 244,
   "id": "ae9f30d3",
   "metadata": {},
   "outputs": [
    {
     "name": "stdout",
     "output_type": "stream",
     "text": [
      "Test set AUC standard error: 0.0027277612305045256\n"
     ]
    }
   ],
   "source": [
    "# Standard error of mean for test set AUC\n",
    "sorted_scores_te = np.array(bootstrapped_scores_te)\n",
    "sorted_scores_te.sort()\n",
    "\n",
    "conf_lower_te = sorted_scores_te[int(0.025 * len(sorted_scores_te))]\n",
    "conf_upper_te = sorted_scores_te[int(0.975 * len(sorted_scores_te))]\n",
    "\n",
    "standard_error_te = (conf_upper_te - conf_lower_te) / 3.92\n",
    "print('Test set AUC standard error:', standard_error_te)"
   ]
  },
  {
   "cell_type": "code",
   "execution_count": 245,
   "id": "f7c6d73f",
   "metadata": {},
   "outputs": [],
   "source": [
    "# Bootstrap 10000 1-yr AUCs for train set \n",
    "n_bootstraps = 10000\n",
    "rng_seed = 42 \n",
    "bootstrapped_scores_tr = []\n",
    "\n",
    "rng = np.random.RandomState(rng_seed)\n",
    "for i in range(n_bootstraps):\n",
    "    indices = rng.randint(0, len(gbm_risk_scores_tr), len(gbm_risk_scores_tr))\n",
    "    auc_yr = cumulative_dynamic_auc(train_y, train_y[indices], gbm_risk_scores_tr[indices], 730)[0][0]\n",
    "    bootstrapped_scores_tr.append(auc_yr)"
   ]
  },
  {
   "cell_type": "code",
   "execution_count": 246,
   "id": "00e39c53",
   "metadata": {},
   "outputs": [
    {
     "name": "stdout",
     "output_type": "stream",
     "text": [
      "Training set AUC standard error 0.0028965568528312425\n"
     ]
    }
   ],
   "source": [
    "# Standard error of mean for train set AUC\n",
    "sorted_scores_tr = np.array(bootstrapped_scores_tr)\n",
    "sorted_scores_tr.sort()\n",
    "\n",
    "conf_lower_tr = sorted_scores_tr[int(0.025 * len(sorted_scores_tr))]\n",
    "conf_upper_tr = sorted_scores_tr[int(0.975 * len(sorted_scores_tr))]\n",
    "\n",
    "standard_error_tr = (conf_upper_tr - conf_lower_tr) / 3.92\n",
    "print('Training set AUC standard error', standard_error_tr)"
   ]
  },
  {
   "cell_type": "code",
   "execution_count": 247,
   "id": "5a38b275",
   "metadata": {},
   "outputs": [],
   "source": [
    "mice_auc_data = {'mice_dataset': 'mice_3',\n",
    "                 'auc_2yr_te': gbm_auc_te,\n",
    "                 'sem_te': standard_error_te,\n",
    "                 'auc_2yr_tr': gbm_auc_tr,\n",
    "                 'sem_tr': standard_error_tr}\n",
    "\n",
    "mice_auc_df = mice_auc_df.append(mice_auc_data, ignore_index = True)"
   ]
  },
  {
   "cell_type": "code",
   "execution_count": 248,
   "id": "dbe631ba",
   "metadata": {},
   "outputs": [
    {
     "data": {
      "text/html": [
       "<div>\n",
       "<style scoped>\n",
       "    .dataframe tbody tr th:only-of-type {\n",
       "        vertical-align: middle;\n",
       "    }\n",
       "\n",
       "    .dataframe tbody tr th {\n",
       "        vertical-align: top;\n",
       "    }\n",
       "\n",
       "    .dataframe thead th {\n",
       "        text-align: right;\n",
       "    }\n",
       "</style>\n",
       "<table border=\"1\" class=\"dataframe\">\n",
       "  <thead>\n",
       "    <tr style=\"text-align: right;\">\n",
       "      <th></th>\n",
       "      <th>mice_dataset</th>\n",
       "      <th>auc_2yr_te</th>\n",
       "      <th>sem_te</th>\n",
       "      <th>auc_2yr_tr</th>\n",
       "      <th>sem_tr</th>\n",
       "    </tr>\n",
       "  </thead>\n",
       "  <tbody>\n",
       "    <tr>\n",
       "      <th>0</th>\n",
       "      <td>mice_0</td>\n",
       "      <td>0.815912</td>\n",
       "      <td>0.002723</td>\n",
       "      <td>0.831202</td>\n",
       "      <td>0.002954</td>\n",
       "    </tr>\n",
       "    <tr>\n",
       "      <th>1</th>\n",
       "      <td>mice_1</td>\n",
       "      <td>0.819399</td>\n",
       "      <td>0.002713</td>\n",
       "      <td>0.836937</td>\n",
       "      <td>0.002886</td>\n",
       "    </tr>\n",
       "    <tr>\n",
       "      <th>2</th>\n",
       "      <td>mice_2</td>\n",
       "      <td>0.817355</td>\n",
       "      <td>0.002708</td>\n",
       "      <td>0.832819</td>\n",
       "      <td>0.002931</td>\n",
       "    </tr>\n",
       "    <tr>\n",
       "      <th>3</th>\n",
       "      <td>mice_3</td>\n",
       "      <td>0.819857</td>\n",
       "      <td>0.002728</td>\n",
       "      <td>0.837186</td>\n",
       "      <td>0.002897</td>\n",
       "    </tr>\n",
       "  </tbody>\n",
       "</table>\n",
       "</div>"
      ],
      "text/plain": [
       "  mice_dataset  auc_2yr_te    sem_te  auc_2yr_tr    sem_tr\n",
       "0       mice_0    0.815912  0.002723    0.831202  0.002954\n",
       "1       mice_1    0.819399  0.002713    0.836937  0.002886\n",
       "2       mice_2    0.817355  0.002708    0.832819  0.002931\n",
       "3       mice_3    0.819857  0.002728    0.837186  0.002897"
      ]
     },
     "execution_count": 266,
     "metadata": {},
     "output_type": "execute_result"
    }
   ],
   "source": [
    "mice_auc_df "
   ]
  },
  {
   "cell_type": "code",
   "execution_count": 249,
   "id": "d050e2db",
   "metadata": {},
   "outputs": [],
   "source": [
    "mice_auc_df.to_csv('mice_auc_df.csv', index = False, header = True)"
   ]
  },
  {
   "cell_type": "code",
   "execution_count": 250,
   "id": "7a5c3492",
   "metadata": {},
   "outputs": [],
   "source": [
    "times = np.arange(30, 1810, 30)\n",
    "mice3_auc_over5 = cumulative_dynamic_auc(train_y, test_y, gbm_risk_scores_te, times)[0]\n",
    "\n",
    "times_data = {}\n",
    "values = mice3_auc_over5\n",
    "time_names = []\n",
    "\n",
    "for x in range(len(times)):\n",
    "    time_names.append('time_'+str(times[x]))\n",
    "\n",
    "for i in range(len(time_names)):\n",
    "    times_data[time_names[i]] = values[i]\n",
    "    \n",
    "mice3_auc_over5_df = pd.DataFrame(times_data, index = ['mice_3'])\n",
    "\n",
    "mice_auc_over5 = mice_auc_over5.append(mice3_auc_over5_df, ignore_index = False)"
   ]
  },
  {
   "cell_type": "code",
   "execution_count": 251,
   "id": "54d2379d",
   "metadata": {},
   "outputs": [
    {
     "data": {
      "text/html": [
       "<div>\n",
       "<style scoped>\n",
       "    .dataframe tbody tr th:only-of-type {\n",
       "        vertical-align: middle;\n",
       "    }\n",
       "\n",
       "    .dataframe tbody tr th {\n",
       "        vertical-align: top;\n",
       "    }\n",
       "\n",
       "    .dataframe thead th {\n",
       "        text-align: right;\n",
       "    }\n",
       "</style>\n",
       "<table border=\"1\" class=\"dataframe\">\n",
       "  <thead>\n",
       "    <tr style=\"text-align: right;\">\n",
       "      <th></th>\n",
       "      <th>time_30</th>\n",
       "      <th>time_60</th>\n",
       "      <th>time_90</th>\n",
       "      <th>time_120</th>\n",
       "      <th>time_150</th>\n",
       "      <th>time_180</th>\n",
       "      <th>time_210</th>\n",
       "      <th>time_240</th>\n",
       "      <th>time_270</th>\n",
       "      <th>time_300</th>\n",
       "      <th>...</th>\n",
       "      <th>time_1530</th>\n",
       "      <th>time_1560</th>\n",
       "      <th>time_1590</th>\n",
       "      <th>time_1620</th>\n",
       "      <th>time_1650</th>\n",
       "      <th>time_1680</th>\n",
       "      <th>time_1710</th>\n",
       "      <th>time_1740</th>\n",
       "      <th>time_1770</th>\n",
       "      <th>time_1800</th>\n",
       "    </tr>\n",
       "  </thead>\n",
       "  <tbody>\n",
       "    <tr>\n",
       "      <th>mice_0</th>\n",
       "      <td>0.867587</td>\n",
       "      <td>0.872672</td>\n",
       "      <td>0.860214</td>\n",
       "      <td>0.859627</td>\n",
       "      <td>0.859415</td>\n",
       "      <td>0.849943</td>\n",
       "      <td>0.849662</td>\n",
       "      <td>0.848590</td>\n",
       "      <td>0.848488</td>\n",
       "      <td>0.847318</td>\n",
       "      <td>...</td>\n",
       "      <td>0.777097</td>\n",
       "      <td>0.774220</td>\n",
       "      <td>0.775240</td>\n",
       "      <td>0.774860</td>\n",
       "      <td>0.773773</td>\n",
       "      <td>0.772356</td>\n",
       "      <td>0.770324</td>\n",
       "      <td>0.768801</td>\n",
       "      <td>0.768946</td>\n",
       "      <td>0.768499</td>\n",
       "    </tr>\n",
       "    <tr>\n",
       "      <th>mice_1</th>\n",
       "      <td>0.869412</td>\n",
       "      <td>0.877509</td>\n",
       "      <td>0.864961</td>\n",
       "      <td>0.862955</td>\n",
       "      <td>0.862670</td>\n",
       "      <td>0.852643</td>\n",
       "      <td>0.852460</td>\n",
       "      <td>0.851871</td>\n",
       "      <td>0.852311</td>\n",
       "      <td>0.850812</td>\n",
       "      <td>...</td>\n",
       "      <td>0.781924</td>\n",
       "      <td>0.779365</td>\n",
       "      <td>0.780204</td>\n",
       "      <td>0.779940</td>\n",
       "      <td>0.778950</td>\n",
       "      <td>0.778269</td>\n",
       "      <td>0.776133</td>\n",
       "      <td>0.775179</td>\n",
       "      <td>0.775236</td>\n",
       "      <td>0.774991</td>\n",
       "    </tr>\n",
       "    <tr>\n",
       "      <th>mice_2</th>\n",
       "      <td>0.863310</td>\n",
       "      <td>0.871853</td>\n",
       "      <td>0.861056</td>\n",
       "      <td>0.860159</td>\n",
       "      <td>0.860275</td>\n",
       "      <td>0.852383</td>\n",
       "      <td>0.852393</td>\n",
       "      <td>0.851538</td>\n",
       "      <td>0.851889</td>\n",
       "      <td>0.850479</td>\n",
       "      <td>...</td>\n",
       "      <td>0.780736</td>\n",
       "      <td>0.778018</td>\n",
       "      <td>0.779104</td>\n",
       "      <td>0.778733</td>\n",
       "      <td>0.777798</td>\n",
       "      <td>0.776629</td>\n",
       "      <td>0.774787</td>\n",
       "      <td>0.773729</td>\n",
       "      <td>0.774207</td>\n",
       "      <td>0.773760</td>\n",
       "    </tr>\n",
       "    <tr>\n",
       "      <th>mice_3</th>\n",
       "      <td>0.873606</td>\n",
       "      <td>0.878988</td>\n",
       "      <td>0.866900</td>\n",
       "      <td>0.865086</td>\n",
       "      <td>0.864979</td>\n",
       "      <td>0.855680</td>\n",
       "      <td>0.855088</td>\n",
       "      <td>0.854248</td>\n",
       "      <td>0.854045</td>\n",
       "      <td>0.852999</td>\n",
       "      <td>...</td>\n",
       "      <td>0.781202</td>\n",
       "      <td>0.778581</td>\n",
       "      <td>0.779250</td>\n",
       "      <td>0.779071</td>\n",
       "      <td>0.778181</td>\n",
       "      <td>0.777203</td>\n",
       "      <td>0.775131</td>\n",
       "      <td>0.773994</td>\n",
       "      <td>0.774257</td>\n",
       "      <td>0.774276</td>\n",
       "    </tr>\n",
       "  </tbody>\n",
       "</table>\n",
       "<p>4 rows × 60 columns</p>\n",
       "</div>"
      ],
      "text/plain": [
       "         time_30   time_60   time_90  time_120  time_150  time_180  time_210  \\\n",
       "mice_0  0.867587  0.872672  0.860214  0.859627  0.859415  0.849943  0.849662   \n",
       "mice_1  0.869412  0.877509  0.864961  0.862955  0.862670  0.852643  0.852460   \n",
       "mice_2  0.863310  0.871853  0.861056  0.860159  0.860275  0.852383  0.852393   \n",
       "mice_3  0.873606  0.878988  0.866900  0.865086  0.864979  0.855680  0.855088   \n",
       "\n",
       "        time_240  time_270  time_300  ...  time_1530  time_1560  time_1590  \\\n",
       "mice_0  0.848590  0.848488  0.847318  ...   0.777097   0.774220   0.775240   \n",
       "mice_1  0.851871  0.852311  0.850812  ...   0.781924   0.779365   0.780204   \n",
       "mice_2  0.851538  0.851889  0.850479  ...   0.780736   0.778018   0.779104   \n",
       "mice_3  0.854248  0.854045  0.852999  ...   0.781202   0.778581   0.779250   \n",
       "\n",
       "        time_1620  time_1650  time_1680  time_1710  time_1740  time_1770  \\\n",
       "mice_0   0.774860   0.773773   0.772356   0.770324   0.768801   0.768946   \n",
       "mice_1   0.779940   0.778950   0.778269   0.776133   0.775179   0.775236   \n",
       "mice_2   0.778733   0.777798   0.776629   0.774787   0.773729   0.774207   \n",
       "mice_3   0.779071   0.778181   0.777203   0.775131   0.773994   0.774257   \n",
       "\n",
       "        time_1800  \n",
       "mice_0   0.768499  \n",
       "mice_1   0.774991  \n",
       "mice_2   0.773760  \n",
       "mice_3   0.774276  \n",
       "\n",
       "[4 rows x 60 columns]"
      ]
     },
     "execution_count": 269,
     "metadata": {},
     "output_type": "execute_result"
    }
   ],
   "source": [
    "mice_auc_over5"
   ]
  },
  {
   "cell_type": "code",
   "execution_count": 252,
   "id": "21368168",
   "metadata": {},
   "outputs": [],
   "source": [
    "mice_auc_over5.to_csv('mice_auc_over5.csv', index = True, header = True)"
   ]
  },
  {
   "cell_type": "code",
   "execution_count": 253,
   "id": "b8c1d978",
   "metadata": {},
   "outputs": [],
   "source": [
    "# Variables passing through pipeline_rsf\n",
    "cat_encoder = list(preprocessor_red.transformers_[1][1].get_feature_names(categorical_features))\n",
    "pass_through = list(train_mice3_x.iloc[:, preprocessor_red.transformers_[2][2]].columns)\n",
    "attributes_gbm = numerical_features_red + cat_encoder + pass_through"
   ]
  },
  {
   "cell_type": "code",
   "execution_count": 254,
   "id": "479b4eb4",
   "metadata": {},
   "outputs": [
    {
     "name": "stdout",
     "output_type": "stream",
     "text": [
      "Total number of features: 194\n",
      "Number of non-zero features in final model: 154\n"
     ]
    },
    {
     "data": {
      "image/png": "[encoded data removed]",
      "text/plain": [
       "<Figure size 432x576 with 1 Axes>"
      ]
     },
     "metadata": {
      "needs_background": "light"
     },
     "output_type": "display_data"
    }
   ],
   "source": [
    "# Dataframe of coefficients for each variable \n",
    "coefficients_mice3 = pd.DataFrame(\n",
    "    gbm_mice3.named_steps['gradientboostingsurvivalanalysis'].feature_importances_,\n",
    "    index = attributes_gbm,\n",
    "    columns = ['coefficient']\n",
    ")\n",
    "\n",
    "print('Total number of features: {}'.format(len(attributes_gbm)))\n",
    "\n",
    "non_zero = np.sum(coefficients_mice3.iloc[:, 0] != 0)\n",
    "print('Number of non-zero features in final model: {}'.format(non_zero))\n",
    "\n",
    "non_zero_coefs = coefficients_mice3.query('coefficient != 0')\n",
    "coef_order = non_zero_coefs.abs().sort_values('coefficient').tail(30).index\n",
    "\n",
    "_, ax = plt.subplots(figsize=(6, 8))\n",
    "non_zero_coefs.loc[coef_order].plot.barh(ax = ax, legend = False)\n",
    "ax.set_xlabel('coefficient')\n",
    "ax.grid(True)"
   ]
  },
  {
   "cell_type": "code",
   "execution_count": 255,
   "id": "aa82e64e",
   "metadata": {},
   "outputs": [],
   "source": [
    "coefficients_mice3_df = (\n",
    "    coefficients_mice3\n",
    "    .reset_index()\n",
    "    .rename(columns = {'index':'variable'}))"
   ]
  },
  {
   "cell_type": "code",
   "execution_count": 256,
   "id": "04673484",
   "metadata": {},
   "outputs": [],
   "source": [
    "coefficients_mice = coefficients_mice.append(coefficients_mice3_df, ignore_index = True)"
   ]
  },
  {
   "cell_type": "code",
   "execution_count": 257,
   "id": "f6730ae4",
   "metadata": {},
   "outputs": [],
   "source": [
    "coefficients_mice.to_csv('coefficients_mice.csv', index = False, header = True)"
   ]
  },
  {
   "cell_type": "markdown",
   "id": "401348f0",
   "metadata": {},
   "source": [
    "### 3.5 Model 5"
   ]
  },
  {
   "cell_type": "markdown",
   "id": "b2f209ad",
   "metadata": {},
   "source": [
    "#### Preprocessing"
   ]
  },
  {
   "cell_type": "code",
   "execution_count": 258,
   "id": "3f28a630",
   "metadata": {},
   "outputs": [],
   "source": [
    "train_mice4 = pd.read_csv('mice_tr4.csv', index_col = 'PatientID')"
   ]
  },
  {
   "cell_type": "code",
   "execution_count": 259,
   "id": "fecf15ad",
   "metadata": {},
   "outputs": [
    {
     "data": {
      "text/plain": [
       "(25341, 183)"
      ]
     },
     "execution_count": 277,
     "metadata": {},
     "output_type": "execute_result"
    }
   ],
   "source": [
    "train_mice4.shape"
   ]
  },
  {
   "cell_type": "code",
   "execution_count": 260,
   "id": "3da8158e",
   "metadata": {},
   "outputs": [
    {
     "data": {
      "text/plain": [
       "0"
      ]
     },
     "execution_count": 278,
     "metadata": {},
     "output_type": "execute_result"
    }
   ],
   "source": [
    "train_mice4.isna().sum().sum()"
   ]
  },
  {
   "cell_type": "code",
   "execution_count": 261,
   "id": "df0737be",
   "metadata": {},
   "outputs": [],
   "source": [
    "train_mice4 = train_mice4.drop(columns = mice_drop)"
   ]
  },
  {
   "cell_type": "code",
   "execution_count": 262,
   "id": "d49b7d7c",
   "metadata": {},
   "outputs": [
    {
     "name": "stdout",
     "output_type": "stream",
     "text": [
      "(25341, 146)\n"
     ]
    }
   ],
   "source": [
    "print(train_mice4.shape)"
   ]
  },
  {
   "cell_type": "code",
   "execution_count": 263,
   "id": "8222b4b3",
   "metadata": {},
   "outputs": [],
   "source": [
    "train_mice4['ecog_na'] = np.where(train_mice4.index.isin(train.query('ecog_diagnosis == \"unknown\"').PatientID), 1, 0)\n",
    "train_mice4['stage_na'] = np.where(train_mice4.index.isin(train.query('stage == \"unknown\"').PatientID), 1, 0)\n",
    "train_mice4['ses_na'] = np.where(train_mice4.index.isin(train[train['ses'].isnull()].PatientID), 1, 0)"
   ]
  },
  {
   "cell_type": "code",
   "execution_count": 264,
   "id": "168266b9",
   "metadata": {},
   "outputs": [
    {
     "data": {
      "text/plain": [
       "['gender',\n",
       " 'race',\n",
       " 'ethnicity',\n",
       " 'p_type',\n",
       " 'region',\n",
       " 'stage',\n",
       " 'met_year',\n",
       " 'ER',\n",
       " 'HER2',\n",
       " 'PR',\n",
       " 'BRCA',\n",
       " 'PIK3CA',\n",
       " 'pdl1_n',\n",
       " 'ecog_diagnosis',\n",
       " 'ses']"
      ]
     },
     "execution_count": 282,
     "metadata": {},
     "output_type": "execute_result"
    }
   ],
   "source": [
    "for x in list(to_be_categorical):\n",
    "    train_mice4[x] = train_mice4[x].astype('category')\n",
    "    \n",
    "list(train_mice4.select_dtypes(include = ['category']).columns)"
   ]
  },
  {
   "cell_type": "code",
   "execution_count": 265,
   "id": "b38132b5",
   "metadata": {},
   "outputs": [],
   "source": [
    "train_mice4['death_status'] = train_mice4['death_status'].astype('bool')"
   ]
  },
  {
   "cell_type": "code",
   "execution_count": 266,
   "id": "bd60534b",
   "metadata": {},
   "outputs": [],
   "source": [
    "val_mice4 = train_mice4[train_mice4.index.isin(val_IDs['PatientID'])]\n",
    "\n",
    "sub_train_mice4 = train_mice4[~train_mice4.index.isin(val_IDs['PatientID'])]"
   ]
  },
  {
   "cell_type": "code",
   "execution_count": 267,
   "id": "6bdd187c",
   "metadata": {},
   "outputs": [
    {
     "name": "stdout",
     "output_type": "stream",
     "text": [
      "(25341, 149)\n",
      "(19005, 149)\n",
      "(6336, 149)\n"
     ]
    }
   ],
   "source": [
    "print(train_mice4.shape)\n",
    "print(sub_train_mice4.shape)\n",
    "print(val_mice4.shape)"
   ]
  },
  {
   "cell_type": "code",
   "execution_count": 268,
   "id": "9afef166",
   "metadata": {},
   "outputs": [],
   "source": [
    "train_mice4_x = train_mice4.drop(columns = ['death_status', 'timerisk_activity'])\n",
    "\n",
    "sub_train_mice4_x = sub_train_mice4.drop(columns = ['death_status', 'timerisk_activity'])\n",
    "\n",
    "val_mice4_x = val_mice4.drop(columns = ['death_status', 'timerisk_activity'])"
   ]
  },
  {
   "cell_type": "code",
   "execution_count": 269,
   "id": "ea4cae67",
   "metadata": {},
   "outputs": [
    {
     "name": "stdout",
     "output_type": "stream",
     "text": [
      "(25341, 147)\n",
      "(19005, 147)\n",
      "(6336, 147)\n"
     ]
    }
   ],
   "source": [
    "print(train_mice4_x.shape)\n",
    "print(sub_train_mice4_x.shape)\n",
    "print(val_mice4_x.shape)"
   ]
  },
  {
   "cell_type": "markdown",
   "id": "86353791",
   "metadata": {},
   "source": [
    "#### Hyperparameter tuning"
   ]
  },
  {
   "cell_type": "code",
   "execution_count": 270,
   "id": "a539188c",
   "metadata": {},
   "outputs": [
    {
     "name": "stdout",
     "output_type": "stream",
     "text": [
      "      Iter       Train Loss      OOB Improve   Remaining Time \n",
      "         1       71498.8462           9.3123          207.17m\n",
      "         2       71618.1137           9.0636          207.03m\n",
      "         3       71464.9766           8.8759          206.88m\n",
      "         4       71167.9448           8.1020          206.80m\n",
      "         5       71514.0978           7.7733          206.95m\n",
      "         6       71572.4368           7.3209          206.76m\n",
      "         7       71269.3617           7.1944          206.67m\n",
      "         8       71206.4270           6.8380          206.57m\n",
      "         9       71355.8682           6.4092          206.48m\n",
      "        10       71509.5614           6.5898          206.28m\n",
      "        20       70432.0910           4.9643          205.06m\n",
      "        30       70639.1433           4.3341          204.00m\n",
      "        40       70456.4817           3.5783          202.90m\n",
      "        50       70650.3423           2.9737          201.84m\n",
      "        60       70561.2949           2.6143          200.75m\n",
      "        70       70521.3868           2.0320          199.73m\n",
      "        80       70509.8990           1.7275          198.69m\n",
      "        90       70360.8249           2.9223          197.67m\n",
      "       100       70362.7652           1.5090          196.60m\n",
      "       200       69694.8429           0.4749          186.23m\n",
      "       300       69850.7451           1.0524          175.86m\n",
      "       400       69098.2329          -0.0497          165.54m\n",
      "       500       69653.9323          -0.1299          155.18m\n",
      "       600       68936.4378           0.0025          144.84m\n",
      "       700       68823.2751          -0.0666          134.48m\n",
      "       800       69353.9397          -0.0377          124.07m\n",
      "       900       69155.5483          -0.1337          113.70m\n",
      "      1000       69037.3272          -0.0735          103.36m\n",
      "      2000       67962.1524          -0.3218            0.00s\n"
     ]
    },
    {
     "data": {
      "text/plain": [
       "GradientBoostingSurvivalAnalysis(learning_rate=0.05, max_depth=2,\n",
       "                                 n_estimators=2000, random_state=42,\n",
       "                                 subsample=0.75, verbose=1)"
      ]
     },
     "execution_count": 288,
     "metadata": {},
     "output_type": "execute_result"
    }
   ],
   "source": [
    "sub_train_mice4_xt = preprocessor_red.fit_transform(sub_train_mice4_x)\n",
    "val_mice4_xt = preprocessor_red.transform(val_mice4_x)\n",
    "\n",
    "gbm_mice4_exp = GradientBoostingSurvivalAnalysis(n_estimators = 2000,\n",
    "                                                 learning_rate = 0.05,\n",
    "                                                 max_depth = 2,\n",
    "                                                 subsample = 0.75,\n",
    "                                                 verbose = 1,\n",
    "                                                 random_state = 42)\n",
    "\n",
    "gbm_mice4_exp.fit(sub_train_mice4_xt, sub_train_y)"
   ]
  },
  {
   "cell_type": "code",
   "execution_count": 271,
   "id": "3a849465",
   "metadata": {},
   "outputs": [],
   "source": [
    "gbm4_staged_auc = [cumulative_dynamic_auc(sub_train_y, val_y, risk_score, 730)[0][0] for \n",
    "                   risk_score in gbm_mice4_exp.staged_predict(val_mice4_xt)]"
   ]
  },
  {
   "cell_type": "code",
   "execution_count": 272,
   "id": "dd53086f",
   "metadata": {},
   "outputs": [],
   "source": [
    "gbm4_staged_auc_tr = [cumulative_dynamic_auc(sub_train_y, sub_train_y, risk_score, 730)[0][0] for \n",
    "                      risk_score in gbm_mice4_exp.staged_predict(sub_train_mice4_xt)]"
   ]
  },
  {
   "cell_type": "code",
   "execution_count": 273,
   "id": "6e536ca4",
   "metadata": {},
   "outputs": [
    {
     "data": {
      "image/png": "[encoded data removed]",
      "text/plain": [
       "<Figure size 432x288 with 1 Axes>"
      ]
     },
     "metadata": {
      "needs_background": "light"
     },
     "output_type": "display_data"
    }
   ],
   "source": [
    "fig = plt.figure()\n",
    "ax = fig.add_subplot(1, 1, 1)\n",
    "\n",
    "x = range(len(gbm4_staged_auc))\n",
    "plt.plot(x, gbm4_staged_auc, color = 'blue', label = 'validation')\n",
    "plt.plot(x, gbm4_staged_auc_tr, color = 'red', label = 'training')\n",
    "plt.legend(loc = 'lower right')\n",
    "\n",
    "plt.xlabel(\"n_estimators\")\n",
    "plt.ylabel(\"AUC at 2 years\")\n",
    "plt.title('Gradient boosting model learning curve for mice4')\n",
    "\n",
    "plt.show()"
   ]
  },
  {
   "cell_type": "code",
   "execution_count": 274,
   "id": "d148d611",
   "metadata": {},
   "outputs": [],
   "source": [
    "# Average AUC for every 25 additional trees. \n",
    "mean_auc_list = []\n",
    "for x in np.arange(0, len(gbm4_staged_auc), 25):\n",
    "    mean_auc_list.append(np.mean(gbm4_staged_auc[x:x+24]))"
   ]
  },
  {
   "cell_type": "code",
   "execution_count": 275,
   "id": "76561f7c",
   "metadata": {},
   "outputs": [
    {
     "name": "stdout",
     "output_type": "stream",
     "text": [
      "Number of trees where 2 year AUC on validation dataset beings to downgrade: 1375\n",
      "Validation dataset AUC before degrading: 0.8231200043668183\n",
      "Training dataset AUC before degrading: 0.8369727188503097\n"
     ]
    }
   ],
   "source": [
    "print('Number of trees where 2 year AUC on validation dataset beings to downgrade:', np.where(np.diff(mean_auc_list) < 0)[0][0]*25)\n",
    "print('Validation dataset AUC before degrading:', gbm4_staged_auc[np.where(np.diff(mean_auc_list) < 0)[0][0]*25])\n",
    "print('Training dataset AUC before degrading:', gbm4_staged_auc_tr[np.where(np.diff(mean_auc_list) < 0)[0][0]*25])"
   ]
  },
  {
   "cell_type": "markdown",
   "id": "3dc85812",
   "metadata": {},
   "source": [
    "#### Model building and performance asssessment "
   ]
  },
  {
   "cell_type": "code",
   "execution_count": 276,
   "id": "e0d027d6",
   "metadata": {},
   "outputs": [
    {
     "name": "stdout",
     "output_type": "stream",
     "text": [
      "(25341, 147)\n",
      "(25341,)\n"
     ]
    }
   ],
   "source": [
    "print(train_mice4_x.shape)\n",
    "print(train_y.shape)"
   ]
  },
  {
   "cell_type": "code",
   "execution_count": 277,
   "id": "b8e30ea6",
   "metadata": {},
   "outputs": [
    {
     "name": "stdout",
     "output_type": "stream",
     "text": [
      "      Iter       Train Loss      OOB Improve   Remaining Time \n",
      "         1       98561.1067          13.5258          255.22m\n",
      "         2       98555.6940          12.8520          255.24m\n",
      "         3       99007.8238          11.6907          255.50m\n",
      "         4       98611.2316          11.4066          255.32m\n",
      "         5       98470.2265          10.5005          255.17m\n",
      "         6       98154.9551          10.7354          255.00m\n",
      "         7       98431.3349          10.6051          254.82m\n",
      "         8       98517.4671           8.7082          254.63m\n",
      "         9       98368.5912           8.7495          254.46m\n",
      "        10       98583.7267           8.7502          254.31m\n",
      "        20       98337.6527           5.9459          252.37m\n",
      "        30       97803.9897           5.4607          250.54m\n",
      "        40       97612.7931           4.9922          248.68m\n",
      "        50       97676.0241           3.7590          246.80m\n",
      "        60       97323.0979           4.6773          244.94m\n",
      "        70       97377.6922           2.9640          243.09m\n",
      "        80       96927.7811           2.9963          241.24m\n",
      "        90       96977.3087           3.2579          239.38m\n",
      "       100       97245.2267           3.7800          237.53m\n",
      "       200       96070.2870           1.1817          218.80m\n",
      "       300       95814.9651           0.6100          200.23m\n",
      "       400       95468.2909           0.3152          181.65m\n",
      "       500       95800.4085          -0.1960          163.03m\n",
      "       600       95562.8821          -0.2232          144.39m\n",
      "       700       95609.3438          -0.0170          125.75m\n",
      "       800       95457.7146          -0.0833          107.14m\n",
      "       900       95364.0204          -0.0993           88.51m\n",
      "      1000       94973.2081          -0.3588           69.87m\n"
     ]
    },
    {
     "data": {
      "text/plain": [
       "Pipeline(steps=[('columntransformer',\n",
       "                 ColumnTransformer(remainder='passthrough',\n",
       "                                   transformers=[('num',\n",
       "                                                  Pipeline(steps=[('std_scaler',\n",
       "                                                                   StandardScaler())]),\n",
       "                                                  ['age', 'delta_met_diagnosis',\n",
       "                                                   'weight_diag', 'bmi_diag',\n",
       "                                                   'weight_pct_change',\n",
       "                                                   'weight_slope',\n",
       "                                                   'albumin_diag', 'alp_diag',\n",
       "                                                   'alt_diag', 'ast_diag',\n",
       "                                                   'bicarb_diag', 'bun_diag',\n",
       "                                                   'calcium_diag',\n",
       "                                                   'chloride_diag',\n",
       "                                                   'creati...\n",
       "                                                   'wbc_max', 'albumin_min', ...]),\n",
       "                                                 ('cat',\n",
       "                                                  OneHotEncoder(handle_unknown='ignore'),\n",
       "                                                  ['gender', 'race',\n",
       "                                                   'ethnicity', 'p_type',\n",
       "                                                   'region', 'stage',\n",
       "                                                   'met_year', 'ER', 'HER2',\n",
       "                                                   'PR', 'BRCA', 'PIK3CA',\n",
       "                                                   'pdl1_n', 'ecog_diagnosis',\n",
       "                                                   'ses'])])),\n",
       "                ('gradientboostingsurvivalanalysis',\n",
       "                 GradientBoostingSurvivalAnalysis(learning_rate=0.05,\n",
       "                                                  max_depth=2,\n",
       "                                                  n_estimators=1375,\n",
       "                                                  random_state=42,\n",
       "                                                  subsample=0.75, verbose=1))])"
      ]
     },
     "execution_count": 295,
     "metadata": {},
     "output_type": "execute_result"
    }
   ],
   "source": [
    "gbm_mice4 = make_pipeline(preprocessor_red, GradientBoostingSurvivalAnalysis(n_estimators = np.where(np.diff(mean_auc_list) < 0)[0][0]*25,\n",
    "                                                                             learning_rate = 0.05,\n",
    "                                                                             max_depth = 2,\n",
    "                                                                             subsample = 0.75,\n",
    "                                                                             verbose = 1,\n",
    "                                                                             random_state = 42))\n",
    "\n",
    "gbm_mice4.fit(train_mice4_x, train_y)"
   ]
  },
  {
   "cell_type": "code",
   "execution_count": 278,
   "id": "e45bcbe6",
   "metadata": {},
   "outputs": [
    {
     "data": {
      "text/plain": [
       "['gbm_mice4.joblib']"
      ]
     },
     "execution_count": 296,
     "metadata": {},
     "output_type": "execute_result"
    }
   ],
   "source": [
    "dump(gbm_mice4, 'gbm_mice4.joblib') "
   ]
  },
  {
   "cell_type": "code",
   "execution_count": 279,
   "id": "dc546c21",
   "metadata": {},
   "outputs": [
    {
     "name": "stdout",
     "output_type": "stream",
     "text": [
      "Test set AUC at 2 years: 0.8188263869242295\n"
     ]
    }
   ],
   "source": [
    "gbm_risk_scores_te = gbm_mice4.predict(test_mice_x)\n",
    "gbm_auc_te = cumulative_dynamic_auc(train_y, test_y, gbm_risk_scores_te, 730)[0][0]\n",
    "print('Test set AUC at 2 years:', gbm_auc_te)"
   ]
  },
  {
   "cell_type": "code",
   "execution_count": 280,
   "id": "083cc1ee",
   "metadata": {},
   "outputs": [
    {
     "name": "stdout",
     "output_type": "stream",
     "text": [
      "Training set AUC at 2 years: 0.8360363482393084\n"
     ]
    }
   ],
   "source": [
    "gbm_risk_scores_tr = gbm_mice4.predict(train_mice4_x)\n",
    "gbm_auc_tr = cumulative_dynamic_auc(train_y, train_y, gbm_risk_scores_tr, 730)[0][0]\n",
    "print('Training set AUC at 2 years:', gbm_auc_tr)"
   ]
  },
  {
   "cell_type": "code",
   "execution_count": 281,
   "id": "fe1f2f7a",
   "metadata": {},
   "outputs": [],
   "source": [
    "# Bootstrap 10000 2 yr AUCs for test set \n",
    "n_bootstraps = 10000\n",
    "rng_seed = 42 \n",
    "bootstrapped_scores_te = []\n",
    "\n",
    "rng = np.random.RandomState(rng_seed)\n",
    "for i in range(n_bootstraps):\n",
    "    indices = rng.randint(0, len(gbm_risk_scores_te), len(gbm_risk_scores_te))\n",
    "    auc_yr = cumulative_dynamic_auc(train_y, test_y[indices], gbm_risk_scores_te[indices], 730)[0][0]\n",
    "    bootstrapped_scores_te.append(auc_yr)"
   ]
  },
  {
   "cell_type": "code",
   "execution_count": 282,
   "id": "3f5d7ac2",
   "metadata": {},
   "outputs": [
    {
     "name": "stdout",
     "output_type": "stream",
     "text": [
      "Test set AUC standard error: 0.0027135724561940903\n"
     ]
    }
   ],
   "source": [
    "# Standard error of mean for test set AUC\n",
    "sorted_scores_te = np.array(bootstrapped_scores_te)\n",
    "sorted_scores_te.sort()\n",
    "\n",
    "conf_lower_te = sorted_scores_te[int(0.025 * len(sorted_scores_te))]\n",
    "conf_upper_te = sorted_scores_te[int(0.975 * len(sorted_scores_te))]\n",
    "\n",
    "standard_error_te = (conf_upper_te - conf_lower_te) / 3.92\n",
    "print('Test set AUC standard error:', standard_error_te)"
   ]
  },
  {
   "cell_type": "code",
   "execution_count": 283,
   "id": "d007ce34",
   "metadata": {},
   "outputs": [],
   "source": [
    "# Bootstrap 10000 2 yr AUCs for train set \n",
    "n_bootstraps = 10000\n",
    "rng_seed = 42 \n",
    "bootstrapped_scores_tr = []\n",
    "\n",
    "rng = np.random.RandomState(rng_seed)\n",
    "for i in range(n_bootstraps):\n",
    "    indices = rng.randint(0, len(gbm_risk_scores_tr), len(gbm_risk_scores_tr))\n",
    "    auc_yr = cumulative_dynamic_auc(train_y, train_y[indices], gbm_risk_scores_tr[indices], 730)[0][0]\n",
    "    bootstrapped_scores_tr.append(auc_yr)"
   ]
  },
  {
   "cell_type": "code",
   "execution_count": 284,
   "id": "74f4890b",
   "metadata": {},
   "outputs": [
    {
     "name": "stdout",
     "output_type": "stream",
     "text": [
      "Training set AUC standard error 0.002894437520095689\n"
     ]
    }
   ],
   "source": [
    "# Standard error of mean for train set AUC\n",
    "sorted_scores_tr = np.array(bootstrapped_scores_tr)\n",
    "sorted_scores_tr.sort()\n",
    "\n",
    "conf_lower_tr = sorted_scores_tr[int(0.025 * len(sorted_scores_tr))]\n",
    "conf_upper_tr = sorted_scores_tr[int(0.975 * len(sorted_scores_tr))]\n",
    "\n",
    "standard_error_tr = (conf_upper_tr - conf_lower_tr) / 3.92\n",
    "print('Training set AUC standard error', standard_error_tr)"
   ]
  },
  {
   "cell_type": "code",
   "execution_count": 285,
   "id": "3028336b",
   "metadata": {},
   "outputs": [],
   "source": [
    "mice_auc_data = {'mice_dataset': 'mice_4',\n",
    "                 'auc_2yr_te': gbm_auc_te,\n",
    "                 'sem_te': standard_error_te,\n",
    "                 'auc_2yr_tr': gbm_auc_tr,\n",
    "                 'sem_tr': standard_error_tr}\n",
    "\n",
    "mice_auc_df = mice_auc_df.append(mice_auc_data, ignore_index = True)"
   ]
  },
  {
   "cell_type": "code",
   "execution_count": 286,
   "id": "bef37e12",
   "metadata": {},
   "outputs": [
    {
     "data": {
      "text/html": [
       "<div>\n",
       "<style scoped>\n",
       "    .dataframe tbody tr th:only-of-type {\n",
       "        vertical-align: middle;\n",
       "    }\n",
       "\n",
       "    .dataframe tbody tr th {\n",
       "        vertical-align: top;\n",
       "    }\n",
       "\n",
       "    .dataframe thead th {\n",
       "        text-align: right;\n",
       "    }\n",
       "</style>\n",
       "<table border=\"1\" class=\"dataframe\">\n",
       "  <thead>\n",
       "    <tr style=\"text-align: right;\">\n",
       "      <th></th>\n",
       "      <th>mice_dataset</th>\n",
       "      <th>auc_2yr_te</th>\n",
       "      <th>sem_te</th>\n",
       "      <th>auc_2yr_tr</th>\n",
       "      <th>sem_tr</th>\n",
       "    </tr>\n",
       "  </thead>\n",
       "  <tbody>\n",
       "    <tr>\n",
       "      <th>0</th>\n",
       "      <td>mice_0</td>\n",
       "      <td>0.815912</td>\n",
       "      <td>0.002723</td>\n",
       "      <td>0.831202</td>\n",
       "      <td>0.002954</td>\n",
       "    </tr>\n",
       "    <tr>\n",
       "      <th>1</th>\n",
       "      <td>mice_1</td>\n",
       "      <td>0.819399</td>\n",
       "      <td>0.002713</td>\n",
       "      <td>0.836937</td>\n",
       "      <td>0.002886</td>\n",
       "    </tr>\n",
       "    <tr>\n",
       "      <th>2</th>\n",
       "      <td>mice_2</td>\n",
       "      <td>0.817355</td>\n",
       "      <td>0.002708</td>\n",
       "      <td>0.832819</td>\n",
       "      <td>0.002931</td>\n",
       "    </tr>\n",
       "    <tr>\n",
       "      <th>3</th>\n",
       "      <td>mice_3</td>\n",
       "      <td>0.819857</td>\n",
       "      <td>0.002728</td>\n",
       "      <td>0.837186</td>\n",
       "      <td>0.002897</td>\n",
       "    </tr>\n",
       "    <tr>\n",
       "      <th>4</th>\n",
       "      <td>mice_4</td>\n",
       "      <td>0.818826</td>\n",
       "      <td>0.002714</td>\n",
       "      <td>0.836036</td>\n",
       "      <td>0.002894</td>\n",
       "    </tr>\n",
       "  </tbody>\n",
       "</table>\n",
       "</div>"
      ],
      "text/plain": [
       "  mice_dataset  auc_2yr_te    sem_te  auc_2yr_tr    sem_tr\n",
       "0       mice_0    0.815912  0.002723    0.831202  0.002954\n",
       "1       mice_1    0.819399  0.002713    0.836937  0.002886\n",
       "2       mice_2    0.817355  0.002708    0.832819  0.002931\n",
       "3       mice_3    0.819857  0.002728    0.837186  0.002897\n",
       "4       mice_4    0.818826  0.002714    0.836036  0.002894"
      ]
     },
     "execution_count": 304,
     "metadata": {},
     "output_type": "execute_result"
    }
   ],
   "source": [
    "mice_auc_df "
   ]
  },
  {
   "cell_type": "code",
   "execution_count": 287,
   "id": "a3afdd22",
   "metadata": {},
   "outputs": [],
   "source": [
    "mice_auc_df.to_csv('mice_auc_df.csv', index = False, header = True)"
   ]
  },
  {
   "cell_type": "code",
   "execution_count": 288,
   "id": "94e85c79",
   "metadata": {},
   "outputs": [],
   "source": [
    "times = np.arange(30, 1810, 30)\n",
    "mice4_auc_over5 = cumulative_dynamic_auc(train_y, test_y, gbm_risk_scores_te, times)[0]\n",
    "\n",
    "times_data = {}\n",
    "values = mice4_auc_over5\n",
    "time_names = []\n",
    "\n",
    "for x in range(len(times)):\n",
    "    time_names.append('time_'+str(times[x]))\n",
    "\n",
    "for i in range(len(time_names)):\n",
    "    times_data[time_names[i]] = values[i]\n",
    "    \n",
    "mice4_auc_over5_df = pd.DataFrame(times_data, index = ['mice_4'])\n",
    "\n",
    "mice_auc_over5 = mice_auc_over5.append(mice4_auc_over5_df, ignore_index = False)"
   ]
  },
  {
   "cell_type": "code",
   "execution_count": 289,
   "id": "b9bfe2ee",
   "metadata": {},
   "outputs": [
    {
     "data": {
      "text/html": [
       "<div>\n",
       "<style scoped>\n",
       "    .dataframe tbody tr th:only-of-type {\n",
       "        vertical-align: middle;\n",
       "    }\n",
       "\n",
       "    .dataframe tbody tr th {\n",
       "        vertical-align: top;\n",
       "    }\n",
       "\n",
       "    .dataframe thead th {\n",
       "        text-align: right;\n",
       "    }\n",
       "</style>\n",
       "<table border=\"1\" class=\"dataframe\">\n",
       "  <thead>\n",
       "    <tr style=\"text-align: right;\">\n",
       "      <th></th>\n",
       "      <th>time_30</th>\n",
       "      <th>time_60</th>\n",
       "      <th>time_90</th>\n",
       "      <th>time_120</th>\n",
       "      <th>time_150</th>\n",
       "      <th>time_180</th>\n",
       "      <th>time_210</th>\n",
       "      <th>time_240</th>\n",
       "      <th>time_270</th>\n",
       "      <th>time_300</th>\n",
       "      <th>...</th>\n",
       "      <th>time_1530</th>\n",
       "      <th>time_1560</th>\n",
       "      <th>time_1590</th>\n",
       "      <th>time_1620</th>\n",
       "      <th>time_1650</th>\n",
       "      <th>time_1680</th>\n",
       "      <th>time_1710</th>\n",
       "      <th>time_1740</th>\n",
       "      <th>time_1770</th>\n",
       "      <th>time_1800</th>\n",
       "    </tr>\n",
       "  </thead>\n",
       "  <tbody>\n",
       "    <tr>\n",
       "      <th>mice_0</th>\n",
       "      <td>0.867587</td>\n",
       "      <td>0.872672</td>\n",
       "      <td>0.860214</td>\n",
       "      <td>0.859627</td>\n",
       "      <td>0.859415</td>\n",
       "      <td>0.849943</td>\n",
       "      <td>0.849662</td>\n",
       "      <td>0.848590</td>\n",
       "      <td>0.848488</td>\n",
       "      <td>0.847318</td>\n",
       "      <td>...</td>\n",
       "      <td>0.777097</td>\n",
       "      <td>0.774220</td>\n",
       "      <td>0.775240</td>\n",
       "      <td>0.774860</td>\n",
       "      <td>0.773773</td>\n",
       "      <td>0.772356</td>\n",
       "      <td>0.770324</td>\n",
       "      <td>0.768801</td>\n",
       "      <td>0.768946</td>\n",
       "      <td>0.768499</td>\n",
       "    </tr>\n",
       "    <tr>\n",
       "      <th>mice_1</th>\n",
       "      <td>0.869412</td>\n",
       "      <td>0.877509</td>\n",
       "      <td>0.864961</td>\n",
       "      <td>0.862955</td>\n",
       "      <td>0.862670</td>\n",
       "      <td>0.852643</td>\n",
       "      <td>0.852460</td>\n",
       "      <td>0.851871</td>\n",
       "      <td>0.852311</td>\n",
       "      <td>0.850812</td>\n",
       "      <td>...</td>\n",
       "      <td>0.781924</td>\n",
       "      <td>0.779365</td>\n",
       "      <td>0.780204</td>\n",
       "      <td>0.779940</td>\n",
       "      <td>0.778950</td>\n",
       "      <td>0.778269</td>\n",
       "      <td>0.776133</td>\n",
       "      <td>0.775179</td>\n",
       "      <td>0.775236</td>\n",
       "      <td>0.774991</td>\n",
       "    </tr>\n",
       "    <tr>\n",
       "      <th>mice_2</th>\n",
       "      <td>0.863310</td>\n",
       "      <td>0.871853</td>\n",
       "      <td>0.861056</td>\n",
       "      <td>0.860159</td>\n",
       "      <td>0.860275</td>\n",
       "      <td>0.852383</td>\n",
       "      <td>0.852393</td>\n",
       "      <td>0.851538</td>\n",
       "      <td>0.851889</td>\n",
       "      <td>0.850479</td>\n",
       "      <td>...</td>\n",
       "      <td>0.780736</td>\n",
       "      <td>0.778018</td>\n",
       "      <td>0.779104</td>\n",
       "      <td>0.778733</td>\n",
       "      <td>0.777798</td>\n",
       "      <td>0.776629</td>\n",
       "      <td>0.774787</td>\n",
       "      <td>0.773729</td>\n",
       "      <td>0.774207</td>\n",
       "      <td>0.773760</td>\n",
       "    </tr>\n",
       "    <tr>\n",
       "      <th>mice_3</th>\n",
       "      <td>0.873606</td>\n",
       "      <td>0.878988</td>\n",
       "      <td>0.866900</td>\n",
       "      <td>0.865086</td>\n",
       "      <td>0.864979</td>\n",
       "      <td>0.855680</td>\n",
       "      <td>0.855088</td>\n",
       "      <td>0.854248</td>\n",
       "      <td>0.854045</td>\n",
       "      <td>0.852999</td>\n",
       "      <td>...</td>\n",
       "      <td>0.781202</td>\n",
       "      <td>0.778581</td>\n",
       "      <td>0.779250</td>\n",
       "      <td>0.779071</td>\n",
       "      <td>0.778181</td>\n",
       "      <td>0.777203</td>\n",
       "      <td>0.775131</td>\n",
       "      <td>0.773994</td>\n",
       "      <td>0.774257</td>\n",
       "      <td>0.774276</td>\n",
       "    </tr>\n",
       "    <tr>\n",
       "      <th>mice_4</th>\n",
       "      <td>0.867245</td>\n",
       "      <td>0.874193</td>\n",
       "      <td>0.861777</td>\n",
       "      <td>0.861495</td>\n",
       "      <td>0.861096</td>\n",
       "      <td>0.851461</td>\n",
       "      <td>0.851680</td>\n",
       "      <td>0.850552</td>\n",
       "      <td>0.850692</td>\n",
       "      <td>0.849395</td>\n",
       "      <td>...</td>\n",
       "      <td>0.781181</td>\n",
       "      <td>0.778388</td>\n",
       "      <td>0.779223</td>\n",
       "      <td>0.778941</td>\n",
       "      <td>0.777926</td>\n",
       "      <td>0.776825</td>\n",
       "      <td>0.774835</td>\n",
       "      <td>0.773783</td>\n",
       "      <td>0.774002</td>\n",
       "      <td>0.773737</td>\n",
       "    </tr>\n",
       "  </tbody>\n",
       "</table>\n",
       "<p>5 rows × 60 columns</p>\n",
       "</div>"
      ],
      "text/plain": [
       "         time_30   time_60   time_90  time_120  time_150  time_180  time_210  \\\n",
       "mice_0  0.867587  0.872672  0.860214  0.859627  0.859415  0.849943  0.849662   \n",
       "mice_1  0.869412  0.877509  0.864961  0.862955  0.862670  0.852643  0.852460   \n",
       "mice_2  0.863310  0.871853  0.861056  0.860159  0.860275  0.852383  0.852393   \n",
       "mice_3  0.873606  0.878988  0.866900  0.865086  0.864979  0.855680  0.855088   \n",
       "mice_4  0.867245  0.874193  0.861777  0.861495  0.861096  0.851461  0.851680   \n",
       "\n",
       "        time_240  time_270  time_300  ...  time_1530  time_1560  time_1590  \\\n",
       "mice_0  0.848590  0.848488  0.847318  ...   0.777097   0.774220   0.775240   \n",
       "mice_1  0.851871  0.852311  0.850812  ...   0.781924   0.779365   0.780204   \n",
       "mice_2  0.851538  0.851889  0.850479  ...   0.780736   0.778018   0.779104   \n",
       "mice_3  0.854248  0.854045  0.852999  ...   0.781202   0.778581   0.779250   \n",
       "mice_4  0.850552  0.850692  0.849395  ...   0.781181   0.778388   0.779223   \n",
       "\n",
       "        time_1620  time_1650  time_1680  time_1710  time_1740  time_1770  \\\n",
       "mice_0   0.774860   0.773773   0.772356   0.770324   0.768801   0.768946   \n",
       "mice_1   0.779940   0.778950   0.778269   0.776133   0.775179   0.775236   \n",
       "mice_2   0.778733   0.777798   0.776629   0.774787   0.773729   0.774207   \n",
       "mice_3   0.779071   0.778181   0.777203   0.775131   0.773994   0.774257   \n",
       "mice_4   0.778941   0.777926   0.776825   0.774835   0.773783   0.774002   \n",
       "\n",
       "        time_1800  \n",
       "mice_0   0.768499  \n",
       "mice_1   0.774991  \n",
       "mice_2   0.773760  \n",
       "mice_3   0.774276  \n",
       "mice_4   0.773737  \n",
       "\n",
       "[5 rows x 60 columns]"
      ]
     },
     "execution_count": 307,
     "metadata": {},
     "output_type": "execute_result"
    }
   ],
   "source": [
    "mice_auc_over5 "
   ]
  },
  {
   "cell_type": "code",
   "execution_count": 290,
   "id": "26d09f59",
   "metadata": {},
   "outputs": [],
   "source": [
    "mice_auc_over5.to_csv('mice_auc_over5.csv', index = True, header = True)"
   ]
  },
  {
   "cell_type": "code",
   "execution_count": 291,
   "id": "91123ad8",
   "metadata": {},
   "outputs": [],
   "source": [
    "# Variables passing through pipeline_rsf\n",
    "cat_encoder = list(preprocessor_red.transformers_[1][1].get_feature_names(categorical_features))\n",
    "pass_through = list(train_mice4_x.iloc[:, preprocessor_red.transformers_[2][2]].columns)\n",
    "attributes_gbm = numerical_features_red + cat_encoder + pass_through"
   ]
  },
  {
   "cell_type": "code",
   "execution_count": 292,
   "id": "f60043f2",
   "metadata": {},
   "outputs": [
    {
     "name": "stdout",
     "output_type": "stream",
     "text": [
      "Total number of features: 194\n",
      "Number of non-zero features in final model: 145\n"
     ]
    },
    {
     "data": {
      "image/png": "[encoded data removed]",
      "text/plain": [
       "<Figure size 432x576 with 1 Axes>"
      ]
     },
     "metadata": {
      "needs_background": "light"
     },
     "output_type": "display_data"
    }
   ],
   "source": [
    "# Dataframe of coefficients for each variable \n",
    "coefficients_mice4 = pd.DataFrame(\n",
    "    gbm_mice4.named_steps['gradientboostingsurvivalanalysis'].feature_importances_,\n",
    "    index = attributes_gbm,\n",
    "    columns = ['coefficient']\n",
    ")\n",
    "\n",
    "print('Total number of features: {}'.format(len(attributes_gbm)))\n",
    "\n",
    "non_zero = np.sum(coefficients_mice4.iloc[:, 0] != 0)\n",
    "print('Number of non-zero features in final model: {}'.format(non_zero))\n",
    "\n",
    "non_zero_coefs = coefficients_mice4.query('coefficient != 0')\n",
    "coef_order = non_zero_coefs.abs().sort_values('coefficient').tail(30).index\n",
    "\n",
    "_, ax = plt.subplots(figsize=(6, 8))\n",
    "non_zero_coefs.loc[coef_order].plot.barh(ax = ax, legend = False)\n",
    "ax.set_xlabel('coefficient')\n",
    "ax.grid(True)"
   ]
  },
  {
   "cell_type": "code",
   "execution_count": 293,
   "id": "dd7a6f9a",
   "metadata": {},
   "outputs": [],
   "source": [
    "coefficients_mice4_df = (\n",
    "    coefficients_mice4\n",
    "    .reset_index()\n",
    "    .rename(columns = {'index':'variable'}))"
   ]
  },
  {
   "cell_type": "code",
   "execution_count": 294,
   "id": "d6299d19",
   "metadata": {},
   "outputs": [],
   "source": [
    "coefficients_mice = coefficients_mice.append(coefficients_mice4_df, ignore_index = True)"
   ]
  },
  {
   "cell_type": "code",
   "execution_count": 295,
   "id": "1df66b77",
   "metadata": {},
   "outputs": [],
   "source": [
    "coefficients_mice.to_csv('coefficients_mice.csv', index = False, header = True)"
   ]
  },
  {
   "cell_type": "markdown",
   "id": "e2fabdeb",
   "metadata": {},
   "source": [
    "### Part 4. Pooling results"
   ]
  },
  {
   "cell_type": "markdown",
   "id": "461c01be",
   "metadata": {},
   "source": [
    "#### 4.1 Pooling AUC"
   ]
  },
  {
   "cell_type": "code",
   "execution_count": 296,
   "id": "c350a948",
   "metadata": {},
   "outputs": [],
   "source": [
    "from math import sqrt, exp \n",
    "from scipy.stats import t"
   ]
  },
  {
   "cell_type": "markdown",
   "id": "8c4ec14e",
   "metadata": {},
   "source": [
    "**Test and training AUCs will be pooled using Rubin’s rules. This is complicated by the fact that AUCs are bounded and thus not normally distributed. The AUCs will therefore be logit transformed to an unbounded scale, then Rubin's rules will be applied to these values, and finally they will be back-transformed into a final pool estimate.** "
   ]
  },
  {
   "cell_type": "code",
   "execution_count": 297,
   "id": "017d832f",
   "metadata": {},
   "outputs": [],
   "source": [
    "# This function is translated from the R package: \"psfmi: Prediction Model Selection and Performance Evaluation in\n",
    "# Multiple Imputed Datasets\"\n",
    "\n",
    "def pool_auc(auc_arr, se_arr, iterations_n):\n",
    "    \n",
    "    # pooled SE using Rubin's rules \n",
    "    def rr_se(est, se, iterations_n):\n",
    "        m = iterations_n\n",
    "        w_auc = np.mean(np.square(se)) # within variance \n",
    "        b_auc = np.var(est) # between variance \n",
    "        tv_auc = w_auc + (1 + (1/m)) * b_auc # total vairance \n",
    "        se_total = sqrt(tv_auc)\n",
    "        r = (1 + (1/ m)) * (b_auc / w_auc)\n",
    "        v = (m - 1) * (1 + (1/r))**2\n",
    "        w = t.ppf(0.975, v) # Percent point function or inverse CDF with df = v\n",
    "        res = np.array([se_total, w])\n",
    "        return(res)\n",
    "    \n",
    "    # log transform\n",
    "    auc_log = np.log(auc_arr / (1-auc_arr))\n",
    "    se_log = se_arr / (auc_arr * (1-auc_arr))\n",
    "    \n",
    "    # input log transfomred auc and se to calculat RR's total se\n",
    "    se_total = rr_se(auc_log, se_log, iterations_n = iterations_n)\n",
    "    \n",
    "    # backtransform \n",
    "    inv_auc = exp(np.mean(auc_log)) / (1 + exp(np.mean(auc_log)))\n",
    "    inv_auc_upper = exp(np.mean(auc_log) + (se_total[1]*se_total[0])) / (1 + exp(np.mean(auc_log) + (se_total[1]*se_total[0])))\n",
    "    inv_auc_lower = exp(np.mean(auc_log) - (se_total[1]*se_total[0])) / (1 + exp(np.mean(auc_log) - (se_total[1]*se_total[0])))\n",
    "    sem = (inv_auc_upper - inv_auc_lower) / 3.92\n",
    "    auc_res = np.round(np.array([inv_auc_lower, inv_auc, inv_auc_upper, sem]), 6)\n",
    "    return(auc_res)"
   ]
  },
  {
   "cell_type": "code",
   "execution_count": 298,
   "id": "42e4a360",
   "metadata": {},
   "outputs": [],
   "source": [
    "mice_auc_df = pd.read_csv('mice_auc_df.csv', dtype = {'auc_2yr_te': np.float64,\n",
    "                                                      'sem_te': np.float64,\n",
    "                                                      'auc_2yr_tr': np.float64,\n",
    "                                                      'sem_tr': np.float64})"
   ]
  },
  {
   "cell_type": "code",
   "execution_count": 299,
   "id": "8b234692",
   "metadata": {},
   "outputs": [
    {
     "data": {
      "text/html": [
       "<div>\n",
       "<style scoped>\n",
       "    .dataframe tbody tr th:only-of-type {\n",
       "        vertical-align: middle;\n",
       "    }\n",
       "\n",
       "    .dataframe tbody tr th {\n",
       "        vertical-align: top;\n",
       "    }\n",
       "\n",
       "    .dataframe thead th {\n",
       "        text-align: right;\n",
       "    }\n",
       "</style>\n",
       "<table border=\"1\" class=\"dataframe\">\n",
       "  <thead>\n",
       "    <tr style=\"text-align: right;\">\n",
       "      <th></th>\n",
       "      <th>mice_dataset</th>\n",
       "      <th>auc_2yr_te</th>\n",
       "      <th>sem_te</th>\n",
       "      <th>auc_2yr_tr</th>\n",
       "      <th>sem_tr</th>\n",
       "    </tr>\n",
       "  </thead>\n",
       "  <tbody>\n",
       "    <tr>\n",
       "      <th>0</th>\n",
       "      <td>mice_0</td>\n",
       "      <td>0.815912</td>\n",
       "      <td>0.002723</td>\n",
       "      <td>0.831202</td>\n",
       "      <td>0.002954</td>\n",
       "    </tr>\n",
       "    <tr>\n",
       "      <th>1</th>\n",
       "      <td>mice_1</td>\n",
       "      <td>0.819399</td>\n",
       "      <td>0.002713</td>\n",
       "      <td>0.836937</td>\n",
       "      <td>0.002886</td>\n",
       "    </tr>\n",
       "    <tr>\n",
       "      <th>2</th>\n",
       "      <td>mice_2</td>\n",
       "      <td>0.817355</td>\n",
       "      <td>0.002708</td>\n",
       "      <td>0.832819</td>\n",
       "      <td>0.002931</td>\n",
       "    </tr>\n",
       "    <tr>\n",
       "      <th>3</th>\n",
       "      <td>mice_3</td>\n",
       "      <td>0.819857</td>\n",
       "      <td>0.002728</td>\n",
       "      <td>0.837186</td>\n",
       "      <td>0.002897</td>\n",
       "    </tr>\n",
       "    <tr>\n",
       "      <th>4</th>\n",
       "      <td>mice_4</td>\n",
       "      <td>0.818826</td>\n",
       "      <td>0.002714</td>\n",
       "      <td>0.836036</td>\n",
       "      <td>0.002894</td>\n",
       "    </tr>\n",
       "  </tbody>\n",
       "</table>\n",
       "</div>"
      ],
      "text/plain": [
       "  mice_dataset  auc_2yr_te    sem_te  auc_2yr_tr    sem_tr\n",
       "0       mice_0    0.815912  0.002723    0.831202  0.002954\n",
       "1       mice_1    0.819399  0.002713    0.836937  0.002886\n",
       "2       mice_2    0.817355  0.002708    0.832819  0.002931\n",
       "3       mice_3    0.819857  0.002728    0.837186  0.002897\n",
       "4       mice_4    0.818826  0.002714    0.836036  0.002894"
      ]
     },
     "execution_count": 317,
     "metadata": {},
     "output_type": "execute_result"
    }
   ],
   "source": [
    "mice_auc_df"
   ]
  },
  {
   "cell_type": "code",
   "execution_count": 300,
   "id": "821ebac5",
   "metadata": {},
   "outputs": [
    {
     "name": "stdout",
     "output_type": "stream",
     "text": [
      "[0.811902 0.818274 0.824478 0.003208]\n"
     ]
    }
   ],
   "source": [
    "pool_auc_test = pool_auc(mice_auc_df['auc_2yr_te'].values, \n",
    "                         mice_auc_df['sem_te'].values, \n",
    "                         5)\n",
    "\n",
    "print(pool_auc_test)"
   ]
  },
  {
   "cell_type": "code",
   "execution_count": 301,
   "id": "4fd678fe",
   "metadata": {},
   "outputs": [
    {
     "name": "stdout",
     "output_type": "stream",
     "text": [
      "[0.826524 0.83485  0.842852 0.004165]\n"
     ]
    }
   ],
   "source": [
    "pool_auc_train = pool_auc(mice_auc_df['auc_2yr_tr'].values,\n",
    "                          mice_auc_df['sem_tr'].values,\n",
    "                          5)\n",
    "\n",
    "print(pool_auc_train)"
   ]
  },
  {
   "cell_type": "code",
   "execution_count": 302,
   "id": "a1e0ca3c",
   "metadata": {},
   "outputs": [],
   "source": [
    "crude_auc_df = pd.read_csv('crude_auc_df.csv', dtype = {'auc_2yr_te': np.float64,\n",
    "                                                        'sem_te': np.float64,\n",
    "                                                        'auc_2yr_tr': np.float64,\n",
    "                                                        'sem_tr': np.float64})"
   ]
  },
  {
   "cell_type": "code",
   "execution_count": 303,
   "id": "576d3e9e",
   "metadata": {},
   "outputs": [
    {
     "data": {
      "text/html": [
       "<div>\n",
       "<style scoped>\n",
       "    .dataframe tbody tr th:only-of-type {\n",
       "        vertical-align: middle;\n",
       "    }\n",
       "\n",
       "    .dataframe tbody tr th {\n",
       "        vertical-align: top;\n",
       "    }\n",
       "\n",
       "    .dataframe thead th {\n",
       "        text-align: right;\n",
       "    }\n",
       "</style>\n",
       "<table border=\"1\" class=\"dataframe\">\n",
       "  <thead>\n",
       "    <tr style=\"text-align: right;\">\n",
       "      <th></th>\n",
       "      <th>model</th>\n",
       "      <th>auc_2yr_te</th>\n",
       "      <th>sem_te</th>\n",
       "      <th>auc_2yr_tr</th>\n",
       "      <th>sem_tr</th>\n",
       "    </tr>\n",
       "  </thead>\n",
       "  <tbody>\n",
       "    <tr>\n",
       "      <th>0</th>\n",
       "      <td>gbm_crude</td>\n",
       "      <td>0.817707</td>\n",
       "      <td>0.005979</td>\n",
       "      <td>0.849410</td>\n",
       "      <td>0.002789</td>\n",
       "    </tr>\n",
       "    <tr>\n",
       "      <th>1</th>\n",
       "      <td>rsf_crude</td>\n",
       "      <td>0.797620</td>\n",
       "      <td>0.006318</td>\n",
       "      <td>0.916818</td>\n",
       "      <td>0.001940</td>\n",
       "    </tr>\n",
       "    <tr>\n",
       "      <th>2</th>\n",
       "      <td>ridge_crude</td>\n",
       "      <td>0.785537</td>\n",
       "      <td>0.006508</td>\n",
       "      <td>0.789876</td>\n",
       "      <td>0.003292</td>\n",
       "    </tr>\n",
       "    <tr>\n",
       "      <th>3</th>\n",
       "      <td>lasso_crude</td>\n",
       "      <td>0.785896</td>\n",
       "      <td>0.006563</td>\n",
       "      <td>0.790827</td>\n",
       "      <td>0.003294</td>\n",
       "    </tr>\n",
       "    <tr>\n",
       "      <th>4</th>\n",
       "      <td>enet_crude</td>\n",
       "      <td>0.785722</td>\n",
       "      <td>0.006574</td>\n",
       "      <td>0.790748</td>\n",
       "      <td>0.003299</td>\n",
       "    </tr>\n",
       "    <tr>\n",
       "      <th>5</th>\n",
       "      <td>linear_svm_crude</td>\n",
       "      <td>0.787404</td>\n",
       "      <td>0.006497</td>\n",
       "      <td>0.795468</td>\n",
       "      <td>0.003280</td>\n",
       "    </tr>\n",
       "  </tbody>\n",
       "</table>\n",
       "</div>"
      ],
      "text/plain": [
       "              model  auc_2yr_te    sem_te  auc_2yr_tr    sem_tr\n",
       "0         gbm_crude    0.817707  0.005979    0.849410  0.002789\n",
       "1         rsf_crude    0.797620  0.006318    0.916818  0.001940\n",
       "2       ridge_crude    0.785537  0.006508    0.789876  0.003292\n",
       "3       lasso_crude    0.785896  0.006563    0.790827  0.003294\n",
       "4        enet_crude    0.785722  0.006574    0.790748  0.003299\n",
       "5  linear_svm_crude    0.787404  0.006497    0.795468  0.003280"
      ]
     },
     "execution_count": 321,
     "metadata": {},
     "output_type": "execute_result"
    }
   ],
   "source": [
    "crude_auc_df"
   ]
  },
  {
   "cell_type": "code",
   "execution_count": 304,
   "id": "91ca4995",
   "metadata": {},
   "outputs": [],
   "source": [
    "mice_auc_data = {'model': 'gbm_mice',\n",
    "                 'auc_2yr_te': pool_auc_test[1],\n",
    "                 'sem_te': pool_auc_test[3],\n",
    "                 'auc_2yr_tr': pool_auc_train[1],\n",
    "                 'sem_tr': pool_auc_train[3]}"
   ]
  },
  {
   "cell_type": "code",
   "execution_count": 305,
   "id": "e3a19dd1",
   "metadata": {},
   "outputs": [],
   "source": [
    "ml_auc_df = crude_auc_df.append(mice_auc_data, ignore_index = True)"
   ]
  },
  {
   "cell_type": "code",
   "execution_count": 306,
   "id": "ea194b2b",
   "metadata": {},
   "outputs": [
    {
     "data": {
      "text/html": [
       "<div>\n",
       "<style scoped>\n",
       "    .dataframe tbody tr th:only-of-type {\n",
       "        vertical-align: middle;\n",
       "    }\n",
       "\n",
       "    .dataframe tbody tr th {\n",
       "        vertical-align: top;\n",
       "    }\n",
       "\n",
       "    .dataframe thead th {\n",
       "        text-align: right;\n",
       "    }\n",
       "</style>\n",
       "<table border=\"1\" class=\"dataframe\">\n",
       "  <thead>\n",
       "    <tr style=\"text-align: right;\">\n",
       "      <th></th>\n",
       "      <th>model</th>\n",
       "      <th>auc_2yr_te</th>\n",
       "      <th>sem_te</th>\n",
       "      <th>auc_2yr_tr</th>\n",
       "      <th>sem_tr</th>\n",
       "    </tr>\n",
       "  </thead>\n",
       "  <tbody>\n",
       "    <tr>\n",
       "      <th>6</th>\n",
       "      <td>gbm_mice</td>\n",
       "      <td>0.818274</td>\n",
       "      <td>0.003208</td>\n",
       "      <td>0.834850</td>\n",
       "      <td>0.004165</td>\n",
       "    </tr>\n",
       "    <tr>\n",
       "      <th>0</th>\n",
       "      <td>gbm_crude</td>\n",
       "      <td>0.817707</td>\n",
       "      <td>0.005979</td>\n",
       "      <td>0.849410</td>\n",
       "      <td>0.002789</td>\n",
       "    </tr>\n",
       "    <tr>\n",
       "      <th>1</th>\n",
       "      <td>rsf_crude</td>\n",
       "      <td>0.797620</td>\n",
       "      <td>0.006318</td>\n",
       "      <td>0.916818</td>\n",
       "      <td>0.001940</td>\n",
       "    </tr>\n",
       "    <tr>\n",
       "      <th>5</th>\n",
       "      <td>linear_svm_crude</td>\n",
       "      <td>0.787404</td>\n",
       "      <td>0.006497</td>\n",
       "      <td>0.795468</td>\n",
       "      <td>0.003280</td>\n",
       "    </tr>\n",
       "    <tr>\n",
       "      <th>3</th>\n",
       "      <td>lasso_crude</td>\n",
       "      <td>0.785896</td>\n",
       "      <td>0.006563</td>\n",
       "      <td>0.790827</td>\n",
       "      <td>0.003294</td>\n",
       "    </tr>\n",
       "    <tr>\n",
       "      <th>4</th>\n",
       "      <td>enet_crude</td>\n",
       "      <td>0.785722</td>\n",
       "      <td>0.006574</td>\n",
       "      <td>0.790748</td>\n",
       "      <td>0.003299</td>\n",
       "    </tr>\n",
       "    <tr>\n",
       "      <th>2</th>\n",
       "      <td>ridge_crude</td>\n",
       "      <td>0.785537</td>\n",
       "      <td>0.006508</td>\n",
       "      <td>0.789876</td>\n",
       "      <td>0.003292</td>\n",
       "    </tr>\n",
       "  </tbody>\n",
       "</table>\n",
       "</div>"
      ],
      "text/plain": [
       "              model  auc_2yr_te    sem_te  auc_2yr_tr    sem_tr\n",
       "6          gbm_mice    0.818274  0.003208    0.834850  0.004165\n",
       "0         gbm_crude    0.817707  0.005979    0.849410  0.002789\n",
       "1         rsf_crude    0.797620  0.006318    0.916818  0.001940\n",
       "5  linear_svm_crude    0.787404  0.006497    0.795468  0.003280\n",
       "3       lasso_crude    0.785896  0.006563    0.790827  0.003294\n",
       "4        enet_crude    0.785722  0.006574    0.790748  0.003299\n",
       "2       ridge_crude    0.785537  0.006508    0.789876  0.003292"
      ]
     },
     "execution_count": 324,
     "metadata": {},
     "output_type": "execute_result"
    }
   ],
   "source": [
    "ml_auc_df.sort_values(by = 'auc_2yr_te', ascending = False)"
   ]
  },
  {
   "cell_type": "code",
   "execution_count": 307,
   "id": "bc652462",
   "metadata": {},
   "outputs": [],
   "source": [
    "ml_auc_df.to_csv('ml_auc_df.csv', index = False, header = True)"
   ]
  }
 ],
 "metadata": {
  "kernelspec": {
   "display_name": "Python 3 (ipykernel)",
   "language": "python",
   "name": "python3"
  },
  "language_info": {
   "codemirror_mode": {
    "name": "ipython",
    "version": 3
   },
   "file_extension": ".py",
   "mimetype": "text/x-python",
   "name": "python",
   "nbconvert_exporter": "python",
   "pygments_lexer": "ipython3",
   "version": "3.7.10"
  }
 },
 "nbformat": 4,
 "nbformat_minor": 5
}
