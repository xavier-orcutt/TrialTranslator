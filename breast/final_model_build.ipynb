{
 "cells": [
  {
   "cell_type": "markdown",
   "id": "0f78cdac",
   "metadata": {},
   "source": [
    "# Flatiron Health mBC: Final GBM build \n",
    "\n",
    "**OBJECTIVE: Build a gradient boosted survival model on the entirety of the Flation Health metastatic breast cancer data set.**\n",
    "\n",
    "**BACKGROUND: For details on hyperparameter tuning of the gradient boosted model see notebook *Machine learning crude imputation*. Missingness will be crudely imputatated given similar test-set AUC performance when compared to MICE.** \n",
    "\n",
    "**OUTLINE:**\n",
    "1. **Preprocessing**\n",
    "2. **Gradient boosted model** \n",
    "3. **Calculate patient risk scores**\n",
    "4. **Export final list of variables**"
   ]
  },
  {
   "cell_type": "markdown",
   "id": "96942fad",
   "metadata": {},
   "source": [
    "## 1. Preprocessing "
   ]
  },
  {
   "cell_type": "code",
   "execution_count": 1,
   "id": "2ed49dc3",
   "metadata": {},
   "outputs": [],
   "source": [
    "import numpy as np\n",
    "import pandas as pd\n",
    "\n",
    "from sklearn.pipeline import Pipeline\n",
    "from sklearn.impute import SimpleImputer\n",
    "from sklearn.preprocessing import StandardScaler, OneHotEncoder\n",
    "from sklearn.compose import ColumnTransformer "
   ]
  },
  {
   "cell_type": "code",
   "execution_count": 2,
   "id": "b12b50c8",
   "metadata": {},
   "outputs": [],
   "source": [
    "# Function that returns number of rows and count of unique PatientIDs for a dataframe. \n",
    "def row_ID(dataframe):\n",
    "    row = dataframe.shape[0]\n",
    "    ID = dataframe['PatientID'].nunique()\n",
    "    return row, ID"
   ]
  },
  {
   "cell_type": "markdown",
   "id": "c2ef3648",
   "metadata": {},
   "source": [
    "### Importing full dataframes"
   ]
  },
  {
   "cell_type": "code",
   "execution_count": 3,
   "id": "3f7f008b",
   "metadata": {},
   "outputs": [],
   "source": [
    "# Import training set and set PatientID as index.\n",
    "train = pd.read_csv('train_full.csv')"
   ]
  },
  {
   "cell_type": "code",
   "execution_count": 4,
   "id": "e153dc23",
   "metadata": {},
   "outputs": [
    {
     "data": {
      "text/plain": [
       "(25341, 25341)"
      ]
     },
     "execution_count": 5,
     "metadata": {},
     "output_type": "execute_result"
    }
   ],
   "source": [
    "row_ID(train)"
   ]
  },
  {
   "cell_type": "code",
   "execution_count": 5,
   "id": "a6bdff04",
   "metadata": {},
   "outputs": [],
   "source": [
    "# Import test set and set PatientID as index.\n",
    "test = pd.read_csv('test_full.csv')"
   ]
  },
  {
   "cell_type": "code",
   "execution_count": 6,
   "id": "66071f30",
   "metadata": {},
   "outputs": [
    {
     "data": {
      "text/plain": [
       "(6336, 6336)"
      ]
     },
     "execution_count": 7,
     "metadata": {},
     "output_type": "execute_result"
    }
   ],
   "source": [
    "row_ID(test)"
   ]
  },
  {
   "cell_type": "code",
   "execution_count": 7,
   "id": "43809f86",
   "metadata": {},
   "outputs": [],
   "source": [
    "df = pd.concat([train, test])"
   ]
  },
  {
   "cell_type": "code",
   "execution_count": 8,
   "id": "8bb75482",
   "metadata": {},
   "outputs": [
    {
     "data": {
      "text/plain": [
       "(31677, 31677)"
      ]
     },
     "execution_count": 9,
     "metadata": {},
     "output_type": "execute_result"
    }
   ],
   "source": [
    "row_ID(df)"
   ]
  },
  {
   "cell_type": "code",
   "execution_count": 9,
   "id": "a5d00b72",
   "metadata": {},
   "outputs": [],
   "source": [
    "df = df.set_index('PatientID')"
   ]
  },
  {
   "cell_type": "code",
   "execution_count": 10,
   "id": "b272d579",
   "metadata": {},
   "outputs": [
    {
     "data": {
      "text/html": [
       "<div>\n",
       "<style scoped>\n",
       "    .dataframe tbody tr th:only-of-type {\n",
       "        vertical-align: middle;\n",
       "    }\n",
       "\n",
       "    .dataframe tbody tr th {\n",
       "        vertical-align: top;\n",
       "    }\n",
       "\n",
       "    .dataframe thead th {\n",
       "        text-align: right;\n",
       "    }\n",
       "</style>\n",
       "<table border=\"1\" class=\"dataframe\">\n",
       "  <thead>\n",
       "    <tr style=\"text-align: right;\">\n",
       "      <th></th>\n",
       "      <th>gender</th>\n",
       "      <th>race</th>\n",
       "      <th>ethnicity</th>\n",
       "      <th>age</th>\n",
       "      <th>p_type</th>\n",
       "      <th>region</th>\n",
       "      <th>stage</th>\n",
       "      <th>met_year</th>\n",
       "      <th>delta_met_diagnosis</th>\n",
       "      <th>death_status</th>\n",
       "      <th>...</th>\n",
       "      <th>other_cancer</th>\n",
       "      <th>bone_met</th>\n",
       "      <th>thorax_met</th>\n",
       "      <th>lymph_met</th>\n",
       "      <th>liver_met</th>\n",
       "      <th>cns_met</th>\n",
       "      <th>skin_met</th>\n",
       "      <th>peritoneum_met</th>\n",
       "      <th>other_met</th>\n",
       "      <th>ses</th>\n",
       "    </tr>\n",
       "    <tr>\n",
       "      <th>PatientID</th>\n",
       "      <th></th>\n",
       "      <th></th>\n",
       "      <th></th>\n",
       "      <th></th>\n",
       "      <th></th>\n",
       "      <th></th>\n",
       "      <th></th>\n",
       "      <th></th>\n",
       "      <th></th>\n",
       "      <th></th>\n",
       "      <th></th>\n",
       "      <th></th>\n",
       "      <th></th>\n",
       "      <th></th>\n",
       "      <th></th>\n",
       "      <th></th>\n",
       "      <th></th>\n",
       "      <th></th>\n",
       "      <th></th>\n",
       "      <th></th>\n",
       "      <th></th>\n",
       "    </tr>\n",
       "  </thead>\n",
       "  <tbody>\n",
       "    <tr>\n",
       "      <th>FA9DE579150C9</th>\n",
       "      <td>F</td>\n",
       "      <td>White</td>\n",
       "      <td>Not Hispanic or Latino</td>\n",
       "      <td>75</td>\n",
       "      <td>COMMUNITY</td>\n",
       "      <td>south</td>\n",
       "      <td>III</td>\n",
       "      <td>2012</td>\n",
       "      <td>2943</td>\n",
       "      <td>1</td>\n",
       "      <td>...</td>\n",
       "      <td>0.0</td>\n",
       "      <td>0.0</td>\n",
       "      <td>1.0</td>\n",
       "      <td>0.0</td>\n",
       "      <td>0.0</td>\n",
       "      <td>0.0</td>\n",
       "      <td>0.0</td>\n",
       "      <td>0.0</td>\n",
       "      <td>0.0</td>\n",
       "      <td>5.0</td>\n",
       "    </tr>\n",
       "    <tr>\n",
       "      <th>FF8FD035684C3</th>\n",
       "      <td>F</td>\n",
       "      <td>White</td>\n",
       "      <td>Not Hispanic or Latino</td>\n",
       "      <td>75</td>\n",
       "      <td>COMMUNITY</td>\n",
       "      <td>midwest</td>\n",
       "      <td>III</td>\n",
       "      <td>2012</td>\n",
       "      <td>265</td>\n",
       "      <td>1</td>\n",
       "      <td>...</td>\n",
       "      <td>0.0</td>\n",
       "      <td>0.0</td>\n",
       "      <td>0.0</td>\n",
       "      <td>0.0</td>\n",
       "      <td>1.0</td>\n",
       "      <td>0.0</td>\n",
       "      <td>0.0</td>\n",
       "      <td>0.0</td>\n",
       "      <td>0.0</td>\n",
       "      <td>2.0</td>\n",
       "    </tr>\n",
       "    <tr>\n",
       "      <th>F5E62D086C8FC</th>\n",
       "      <td>F</td>\n",
       "      <td>White</td>\n",
       "      <td>hispanic_latino</td>\n",
       "      <td>50</td>\n",
       "      <td>ACADEMIC</td>\n",
       "      <td>unknown</td>\n",
       "      <td>III</td>\n",
       "      <td>2020</td>\n",
       "      <td>3706</td>\n",
       "      <td>1</td>\n",
       "      <td>...</td>\n",
       "      <td>0.0</td>\n",
       "      <td>1.0</td>\n",
       "      <td>0.0</td>\n",
       "      <td>1.0</td>\n",
       "      <td>0.0</td>\n",
       "      <td>1.0</td>\n",
       "      <td>0.0</td>\n",
       "      <td>0.0</td>\n",
       "      <td>0.0</td>\n",
       "      <td>NaN</td>\n",
       "    </tr>\n",
       "  </tbody>\n",
       "</table>\n",
       "<p>3 rows × 216 columns</p>\n",
       "</div>"
      ],
      "text/plain": [
       "              gender   race               ethnicity  age     p_type   region  \\\n",
       "PatientID                                                                      \n",
       "FA9DE579150C9      F  White  Not Hispanic or Latino   75  COMMUNITY    south   \n",
       "FF8FD035684C3      F  White  Not Hispanic or Latino   75  COMMUNITY  midwest   \n",
       "F5E62D086C8FC      F  White         hispanic_latino   50   ACADEMIC  unknown   \n",
       "\n",
       "              stage  met_year  delta_met_diagnosis  death_status  ...  \\\n",
       "PatientID                                                         ...   \n",
       "FA9DE579150C9   III      2012                 2943             1  ...   \n",
       "FF8FD035684C3   III      2012                  265             1  ...   \n",
       "F5E62D086C8FC   III      2020                 3706             1  ...   \n",
       "\n",
       "               other_cancer  bone_met  thorax_met  lymph_met  liver_met  \\\n",
       "PatientID                                                                 \n",
       "FA9DE579150C9           0.0       0.0         1.0        0.0        0.0   \n",
       "FF8FD035684C3           0.0       0.0         0.0        0.0        1.0   \n",
       "F5E62D086C8FC           0.0       1.0         0.0        1.0        0.0   \n",
       "\n",
       "               cns_met  skin_met  peritoneum_met  other_met  ses  \n",
       "PatientID                                                         \n",
       "FA9DE579150C9      0.0       0.0             0.0        0.0  5.0  \n",
       "FF8FD035684C3      0.0       0.0             0.0        0.0  2.0  \n",
       "F5E62D086C8FC      1.0       0.0             0.0        0.0  NaN  \n",
       "\n",
       "[3 rows x 216 columns]"
      ]
     },
     "execution_count": 11,
     "metadata": {},
     "output_type": "execute_result"
    }
   ],
   "source": [
    "df.sample(3)"
   ]
  },
  {
   "cell_type": "markdown",
   "id": "eeede61c",
   "metadata": {},
   "source": [
    "### Converting datatypes "
   ]
  },
  {
   "cell_type": "code",
   "execution_count": 11,
   "id": "89d3a565",
   "metadata": {},
   "outputs": [
    {
     "data": {
      "text/plain": [
       "['gender',\n",
       " 'race',\n",
       " 'ethnicity',\n",
       " 'p_type',\n",
       " 'region',\n",
       " 'stage',\n",
       " 'ER',\n",
       " 'HER2',\n",
       " 'PR',\n",
       " 'BRCA',\n",
       " 'PIK3CA',\n",
       " 'pdl1_n',\n",
       " 'ecog_diagnosis']"
      ]
     },
     "execution_count": 12,
     "metadata": {},
     "output_type": "execute_result"
    }
   ],
   "source": [
    "list(df.select_dtypes(include = ['object']).columns)"
   ]
  },
  {
   "cell_type": "code",
   "execution_count": 12,
   "id": "49efb1bc",
   "metadata": {},
   "outputs": [],
   "source": [
    "to_be_categorical = list(df.select_dtypes(include = ['object']).columns)"
   ]
  },
  {
   "cell_type": "code",
   "execution_count": 13,
   "id": "c0d4c959",
   "metadata": {},
   "outputs": [],
   "source": [
    "to_be_categorical.append('met_year')"
   ]
  },
  {
   "cell_type": "code",
   "execution_count": 14,
   "id": "5ca8e634",
   "metadata": {},
   "outputs": [],
   "source": [
    "to_be_categorical.append('ses')"
   ]
  },
  {
   "cell_type": "code",
   "execution_count": 15,
   "id": "20843fda",
   "metadata": {},
   "outputs": [],
   "source": [
    "# Convert variables in list to categorical.\n",
    "for x in list(to_be_categorical):\n",
    "    df[x] = df[x].astype('category')"
   ]
  },
  {
   "cell_type": "code",
   "execution_count": 16,
   "id": "7b977446",
   "metadata": {},
   "outputs": [
    {
     "data": {
      "text/plain": [
       "['gender',\n",
       " 'race',\n",
       " 'ethnicity',\n",
       " 'p_type',\n",
       " 'region',\n",
       " 'stage',\n",
       " 'met_year',\n",
       " 'ER',\n",
       " 'HER2',\n",
       " 'PR',\n",
       " 'BRCA',\n",
       " 'PIK3CA',\n",
       " 'pdl1_n',\n",
       " 'ecog_diagnosis',\n",
       " 'ses']"
      ]
     },
     "execution_count": 17,
     "metadata": {},
     "output_type": "execute_result"
    }
   ],
   "source": [
    "list(df.select_dtypes(include = ['category']).columns)"
   ]
  },
  {
   "cell_type": "code",
   "execution_count": 17,
   "id": "737f24a1",
   "metadata": {},
   "outputs": [],
   "source": [
    "# Convert death_status into True or False (required for scikit-survival). \n",
    "df['death_status'] = df['death_status'].astype('bool')"
   ]
  },
  {
   "cell_type": "markdown",
   "id": "08de7a94",
   "metadata": {},
   "source": [
    "### Dropping unneeded labs "
   ]
  },
  {
   "cell_type": "code",
   "execution_count": 18,
   "id": "9fd1a36d",
   "metadata": {},
   "outputs": [],
   "source": [
    "drop_labs = [\n",
    "    'albumin_avg',\n",
    "    'alp_avg',\n",
    "    'alt_avg',\n",
    "    'ast_avg',\n",
    "    'bicarb_avg',\n",
    "    'bun_avg',\n",
    "    'calcium_avg',\n",
    "    'chloride_avg',\n",
    "    'creatinine_avg',\n",
    "    'hemoglobin_avg',\n",
    "    'neutrophil_count_avg',\n",
    "    'platelet_avg',\n",
    "    'potassium_avg',\n",
    "    'sodium_avg',\n",
    "    'total_bilirubin_avg',\n",
    "    'wbc_avg',\n",
    "    'albumin_max',\n",
    "    'bicarb_max',\n",
    "    'bun_max',\n",
    "    'chloride_max',\n",
    "    'hemoglobin_max',\n",
    "    'neutrophil_count_max',\n",
    "    'platelet_max',\n",
    "    'potassium_max',\n",
    "    'sodium_max',\n",
    "    'alp_min',\n",
    "    'alt_min',\n",
    "    'ast_min',\n",
    "    'bun_min',\n",
    "    'calcium_min',\n",
    "    'chloride_min',\n",
    "    'creatinine_min',\n",
    "    'neutrophil_count_min',\n",
    "    'potassium_min',\n",
    "    'total_bilirubin_min',\n",
    "    'albumin_std',\n",
    "    'alp_std',\n",
    "    'alt_std',\n",
    "    'ast_std',\n",
    "    'bicarb_std',\n",
    "    'bun_std',\n",
    "    'calcium_std',\n",
    "    'chloride_std',\n",
    "    'creatinine_std',\n",
    "    'hemoglobin_std',\n",
    "    'neutrophil_count_std',\n",
    "    'platelet_std',\n",
    "    'potassium_std',\n",
    "    'sodium_std',\n",
    "    'total_bilirubin_std',\n",
    "    'wbc_std',\n",
    "    'albumin_slope',\n",
    "    'alp_slope',\n",
    "    'alt_slope',\n",
    "    'ast_slope',\n",
    "    'bicarb_slope',\n",
    "    'bun_slope',\n",
    "    'calcium_slope',\n",
    "    'chloride_slope',\n",
    "    'creatinine_slope',\n",
    "    'hemoglobin_slope',\n",
    "    'neutrophil_count_slope',\n",
    "    'platelet_slope',\n",
    "    'potassium_slope',\n",
    "    'sodium_slope',\n",
    "    'total_bilirubin_slope',\n",
    "    'wbc_slope',\n",
    "    'albumin_slope_na',\n",
    "    'alp_slope_na',\n",
    "    'alt_slope_na',\n",
    "    'ast_slope_na',\n",
    "    'bicarb_slope_na',\n",
    "    'bun_slope_na',\n",
    "    'calcium_slope_na',\n",
    "    'chloride_slope_na',\n",
    "    'creatinine_slope_na',\n",
    "    'hemoglobin_slope_na',\n",
    "    'neutrophil_count_slope_na',\n",
    "    'platelet_slope_na',\n",
    "    'potassium_slope_na',\n",
    "    'sodium_slope_na',\n",
    "    'total_bilirubin_slope_na',\n",
    "    'wbc_slope_na']"
   ]
  },
  {
   "cell_type": "code",
   "execution_count": 19,
   "id": "87dfc2a7",
   "metadata": {},
   "outputs": [
    {
     "data": {
      "text/plain": [
       "(31677, 216)"
      ]
     },
     "execution_count": 20,
     "metadata": {},
     "output_type": "execute_result"
    }
   ],
   "source": [
    "df.shape"
   ]
  },
  {
   "cell_type": "code",
   "execution_count": 20,
   "id": "e89c5f22",
   "metadata": {},
   "outputs": [],
   "source": [
    "df = df.drop(columns = drop_labs)"
   ]
  },
  {
   "cell_type": "code",
   "execution_count": 21,
   "id": "1763d0d1",
   "metadata": {},
   "outputs": [
    {
     "data": {
      "text/plain": [
       "(31677, 133)"
      ]
     },
     "execution_count": 22,
     "metadata": {},
     "output_type": "execute_result"
    }
   ],
   "source": [
    "df.shape"
   ]
  },
  {
   "cell_type": "code",
   "execution_count": 22,
   "id": "38fff1cd",
   "metadata": {},
   "outputs": [],
   "source": [
    "df.loc[:, 'alp_max_na'] = np.where(df['alp_max'].isna(), 1, 0)\n",
    "df.loc[:, 'alt_max_na'] = np.where(df['alt_max'].isna(), 1, 0)\n",
    "df.loc[:, 'ast_max_na'] = np.where(df['ast_max'].isna(), 1, 0)\n",
    "df.loc[:, 'calcium_max_na'] = np.where(df['calcium_max'].isna(), 1, 0)\n",
    "df.loc[:, 'creatinine_max_na'] = np.where(df['creatinine_max'].isna(), 1, 0)\n",
    "df.loc[:, 'total_bilirubin_max_na'] = np.where(df['total_bilirubin_max'].isna(), 1, 0)\n",
    "df.loc[:, 'wbc_max_na'] = np.where(df['wbc_max'].isna(), 1, 0)\n",
    "df.loc[:, 'albumin_min_na'] = np.where(df['albumin_min'].isna(), 1, 0)\n",
    "df.loc[:, 'bicarb_min_na'] = np.where(df['bicarb_min'].isna(), 1, 0)\n",
    "df.loc[:, 'hemoglobin_min_na'] = np.where(df['hemoglobin_min'].isna(), 1, 0)\n",
    "df.loc[:, 'platelet_min_na'] = np.where(df['platelet_min'].isna(), 1, 0)\n",
    "df.loc[:, 'sodium_min_na'] = np.where(df['sodium_min'].isna(), 1, 0)\n",
    "df.loc[:, 'wbc_min_na'] = np.where(df['wbc_min'].isna(), 1, 0)"
   ]
  },
  {
   "cell_type": "code",
   "execution_count": 23,
   "id": "6ed5ad05",
   "metadata": {},
   "outputs": [
    {
     "data": {
      "text/plain": [
       "(31677, 146)"
      ]
     },
     "execution_count": 24,
     "metadata": {},
     "output_type": "execute_result"
    }
   ],
   "source": [
    "df.shape"
   ]
  },
  {
   "cell_type": "markdown",
   "id": "3bcc93b2",
   "metadata": {},
   "source": [
    "### Separate into X and Y "
   ]
  },
  {
   "cell_type": "code",
   "execution_count": 24,
   "id": "374e94ed",
   "metadata": {},
   "outputs": [],
   "source": [
    "# 'X' datasets\n",
    "df_x = df.drop(columns = ['death_status', 'timerisk_activity']) #80% of data "
   ]
  },
  {
   "cell_type": "code",
   "execution_count": 25,
   "id": "53405cc6",
   "metadata": {},
   "outputs": [],
   "source": [
    "# 'Y' datasets\n",
    "# Death status and time until event needs to be stored as a structured array to be compatible with scikit-survival\n",
    "y_dtypes = df[['death_status', 'timerisk_activity']].dtypes\n",
    "\n",
    "df_y = np.array([tuple(x) for x in df[['death_status', 'timerisk_activity']].values],\n",
    "                dtype = list(zip(y_dtypes.index, y_dtypes)))"
   ]
  },
  {
   "cell_type": "markdown",
   "id": "da592b54",
   "metadata": {},
   "source": [
    "### Pipeline "
   ]
  },
  {
   "cell_type": "code",
   "execution_count": 26,
   "id": "19e110f2",
   "metadata": {},
   "outputs": [],
   "source": [
    "# List of numeric variables, excluding binary variables. \n",
    "numerical_features = [\n",
    "    'age',\n",
    "    'delta_met_diagnosis',\n",
    "    'weight_diag',\n",
    "    'bmi_diag',\n",
    "    'weight_pct_change',\n",
    "    'weight_slope',\n",
    "    'albumin_diag',\n",
    "    'alp_diag',\n",
    "    'alt_diag',\n",
    "    'ast_diag',\n",
    "    'bicarb_diag',\n",
    "    'bun_diag',\n",
    "    'calcium_diag',\n",
    "    'chloride_diag',\n",
    "    'creatinine_diag',\n",
    "    'hemoglobin_diag',\n",
    "    'neutrophil_count_diag',\n",
    "    'platelet_diag',\n",
    "    'potassium_diag',\n",
    "    'sodium_diag',\n",
    "    'total_bilirubin_diag',\n",
    "    'wbc_diag',\n",
    "    'alp_max',\n",
    "    'alt_max',\n",
    "    'ast_max',\n",
    "    'calcium_max',\n",
    "    'creatinine_max',\n",
    "    'total_bilirubin_max',\n",
    "    'wbc_max',\n",
    "    'albumin_min',\n",
    "    'bicarb_min',\n",
    "    'hemoglobin_min',\n",
    "    'platelet_min',\n",
    "    'sodium_min',\n",
    "    'wbc_min',\n",
    "    'icd_count']\n",
    "\n",
    "# Transformer will impute column medians and then apply a standard scaler. \n",
    "numerical_transformer = Pipeline(steps = [\n",
    "    ('imputer', SimpleImputer(strategy = 'median')),\n",
    "    ('std_scaler', StandardScaler())])"
   ]
  },
  {
   "cell_type": "code",
   "execution_count": 27,
   "id": "b6f1bca4",
   "metadata": {},
   "outputs": [],
   "source": [
    "# List of categorical features.\n",
    "categorical_features = list(df_x.select_dtypes(include = ['category']).columns)\n",
    "\n",
    "# One-hot-encode categorical features.\n",
    "categorical_transformer = OneHotEncoder(handle_unknown = 'ignore')"
   ]
  },
  {
   "cell_type": "code",
   "execution_count": 28,
   "id": "b13cd654",
   "metadata": {},
   "outputs": [],
   "source": [
    "preprocessor = ColumnTransformer(\n",
    "    transformers = [\n",
    "        ('num', numerical_transformer, numerical_features),\n",
    "        ('cat', categorical_transformer, categorical_features)],\n",
    "    remainder = 'passthrough')"
   ]
  },
  {
   "cell_type": "markdown",
   "id": "0117e873",
   "metadata": {},
   "source": [
    "## 2. Gradient boosted model "
   ]
  },
  {
   "cell_type": "code",
   "execution_count": 29,
   "id": "27d25c5a",
   "metadata": {},
   "outputs": [],
   "source": [
    "from sklearn.pipeline import make_pipeline\n",
    "\n",
    "from sksurv.ensemble import GradientBoostingSurvivalAnalysis\n",
    "\n",
    "from joblib import dump, load "
   ]
  },
  {
   "cell_type": "code",
   "execution_count": 30,
   "id": "4938f130",
   "metadata": {},
   "outputs": [
    {
     "data": {
      "text/plain": [
       "(31677, 144)"
      ]
     },
     "execution_count": 31,
     "metadata": {},
     "output_type": "execute_result"
    }
   ],
   "source": [
    "df_x.shape"
   ]
  },
  {
   "cell_type": "code",
   "execution_count": 31,
   "id": "65e72753",
   "metadata": {},
   "outputs": [
    {
     "data": {
      "text/plain": [
       "(31677,)"
      ]
     },
     "execution_count": 32,
     "metadata": {},
     "output_type": "execute_result"
    }
   ],
   "source": [
    "df_y.shape"
   ]
  },
  {
   "cell_type": "code",
   "execution_count": 32,
   "id": "c6537517",
   "metadata": {},
   "outputs": [
    {
     "name": "stdout",
     "output_type": "stream",
     "text": [
      "      Iter       Train Loss      OOB Improve   Remaining Time \n",
      "         1      126432.7779          28.3984          219.53m\n",
      "         2      126572.8783          27.1525          219.60m\n",
      "         3      126770.8779          25.1774          219.51m\n",
      "         4      126826.3604          23.4440          219.41m\n",
      "         5      126349.7325          23.8042          219.09m\n",
      "         6      126311.0702          21.5257          218.75m\n",
      "         7      126330.9371          21.9645          218.41m\n",
      "         8      126441.9730          20.0297          218.06m\n",
      "         9      126161.2176          19.4870          217.80m\n",
      "        10      126312.5995          18.6803          217.55m\n",
      "        20      125343.9500          14.7005          213.87m\n",
      "        30      124629.7805          10.5586          210.17m\n",
      "        40      124441.5053           8.8807          207.47m\n",
      "        50      124239.3364           7.2230          204.73m\n",
      "        60      124498.4640           4.7499          202.03m\n",
      "        70      124046.9410           4.7479          199.21m\n",
      "        80      124046.8112           4.3128          196.41m\n",
      "        90      123624.2876           3.2040          193.60m\n",
      "       100      123768.6598           3.0585          190.77m\n",
      "       200      122471.2707           1.1677          161.79m\n",
      "       300      121150.2066           0.9103          132.45m\n",
      "       400      122094.3697          -0.0610          103.06m\n",
      "       500      120885.0591           0.2252           73.63m\n",
      "       600      121090.3868          -0.3242           44.18m\n",
      "       700      120726.3173          -0.5357           14.73m\n"
     ]
    },
    {
     "data": {
      "text/plain": [
       "Pipeline(steps=[('columntransformer',\n",
       "                 ColumnTransformer(remainder='passthrough',\n",
       "                                   transformers=[('num',\n",
       "                                                  Pipeline(steps=[('imputer',\n",
       "                                                                   SimpleImputer(strategy='median')),\n",
       "                                                                  ('std_scaler',\n",
       "                                                                   StandardScaler())]),\n",
       "                                                  ['age', 'delta_met_diagnosis',\n",
       "                                                   'weight_diag', 'bmi_diag',\n",
       "                                                   'weight_pct_change',\n",
       "                                                   'weight_slope',\n",
       "                                                   'albumin_diag', 'alp_diag',\n",
       "                                                   'alt_diag', 'ast_diag',\n",
       "                                                   'bicarb_diag', 'bun...\n",
       "                                                   'wbc_max', 'albumin_min', ...]),\n",
       "                                                 ('cat',\n",
       "                                                  OneHotEncoder(handle_unknown='ignore'),\n",
       "                                                  ['gender', 'race',\n",
       "                                                   'ethnicity', 'p_type',\n",
       "                                                   'region', 'stage',\n",
       "                                                   'met_year', 'ER', 'HER2',\n",
       "                                                   'PR', 'BRCA', 'PIK3CA',\n",
       "                                                   'pdl1_n', 'ecog_diagnosis',\n",
       "                                                   'ses'])])),\n",
       "                ('gradientboostingsurvivalanalysis',\n",
       "                 GradientBoostingSurvivalAnalysis(learning_rate=0.05,\n",
       "                                                  max_depth=4, n_estimators=750,\n",
       "                                                  random_state=42,\n",
       "                                                  subsample=0.75, verbose=1))])"
      ]
     },
     "execution_count": 32,
     "metadata": {},
     "output_type": "execute_result"
    }
   ],
   "source": [
    "gbm_final = make_pipeline(preprocessor, GradientBoostingSurvivalAnalysis(n_estimators = 750,\n",
    "                                                                         learning_rate = 0.05,\n",
    "                                                                         max_depth = 4,\n",
    "                                                                         subsample = 0.75,\n",
    "                                                                         verbose = 1,\n",
    "                                                                         random_state = 42))\n",
    "\n",
    "gbm_final.fit(df_x, df_y)"
   ]
  },
  {
   "cell_type": "code",
   "execution_count": 33,
   "id": "1ce29df2",
   "metadata": {},
   "outputs": [
    {
     "data": {
      "text/plain": [
       "['gbm_final.joblib']"
      ]
     },
     "execution_count": 33,
     "metadata": {},
     "output_type": "execute_result"
    }
   ],
   "source": [
    "dump(gbm_final, 'gbm_final.joblib') "
   ]
  },
  {
   "cell_type": "markdown",
   "id": "0df86bdf",
   "metadata": {},
   "source": [
    "## 3. Calculate patient risk scores "
   ]
  },
  {
   "cell_type": "code",
   "execution_count": 34,
   "id": "34184c2a",
   "metadata": {},
   "outputs": [],
   "source": [
    "# Calculate risk score for patients in training set. \n",
    "crude_risk_score_df = pd.DataFrame({'risk_score': gbm_final.predict(df_x)},\n",
    "                                   index = df_x.index)"
   ]
  },
  {
   "cell_type": "code",
   "execution_count": 35,
   "id": "b83d3029",
   "metadata": {},
   "outputs": [],
   "source": [
    "crude_risk_score_df.to_csv('crude_risk_score_df.csv', index = True, header = True)"
   ]
  },
  {
   "cell_type": "markdown",
   "id": "98df4148",
   "metadata": {},
   "source": [
    "## 4. Export final list of variables"
   ]
  },
  {
   "cell_type": "code",
   "execution_count": 36,
   "id": "c731cab5",
   "metadata": {},
   "outputs": [],
   "source": [
    "import csv"
   ]
  },
  {
   "cell_type": "code",
   "execution_count": 37,
   "id": "4c271472",
   "metadata": {},
   "outputs": [],
   "source": [
    "breast_columns = list(df_x.columns)"
   ]
  },
  {
   "cell_type": "code",
   "execution_count": 38,
   "id": "5c645803",
   "metadata": {},
   "outputs": [],
   "source": [
    "with open('breast_columns.csv', 'w', newline='') as csv_file:\n",
    "    csv_writer = csv.writer(csv_file)\n",
    "    csv_writer.writerow(breast_columns)"
   ]
  }
 ],
 "metadata": {
  "kernelspec": {
   "display_name": "Python 3 (ipykernel)",
   "language": "python",
   "name": "python3"
  },
  "language_info": {
   "codemirror_mode": {
    "name": "ipython",
    "version": 3
   },
   "file_extension": ".py",
   "mimetype": "text/x-python",
   "name": "python",
   "nbconvert_exporter": "python",
   "pygments_lexer": "ipython3",
   "version": "3.7.10"
  }
 },
 "nbformat": 4,
 "nbformat_minor": 5
}
