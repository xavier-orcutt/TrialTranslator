{
 "cells": [
  {
   "cell_type": "markdown",
   "id": "9a4c1254",
   "metadata": {},
   "source": [
    "# Flatiron Health mCRC: Machine learning models with crude imputation \n",
    "\n",
    "**OBJECTIVE: Build 4 survival machine learning models using a crude imputation strategy. This imputation strategy assumes data is missing completely at random and will impute median for numerical variables and leave missing categorical entries as \"unknown\" (eg., possible ECOG values are 0, 1, 2, 3, 4, 5, and unknown). The machine learning model that performs best in this section will be used in the multiple imputation chained equation notebook.**\n",
    "\n",
    "**BACKGROUND: The models were built using scikit-survival which is a machine learning library for survival analysis.  All 4 of these machine learning models are intended for survival analysis and so take into account censored data.** \n",
    "\n",
    "**The measure used to evaluate model performance is time-dependent area under the receiver operator curve (AUC) at 2 years. This metric determines how well a model can distinguish patients who die by time *t* from patients who die after this time. Our focus is to assess model discriminatory performance within the first couple years from metastatic diagnosis. Time dependent AUC was selected instead of the more frequently used metric in survival data, concordance index, since the concordance index is not time dependent and thus assess models performance over the entire range of survival times which in our case would be 8 years.** \n",
    "\n",
    "**The time point 2 year from metastatic diagnosis was selected as the primary time-point of interest and so all machine learning model hyperparamters are tuned to maximize performance at that time point. Secondary time points of interest include 1-year from metastatic diagnosis which will also be calculated for each model.**\n",
    "\n",
    "**OUTLINE:**\n",
    "1. **Preprocessing**\n",
    "2. **Gradient boosting model** \n",
    "3. **Random survival forest** \n",
    "4. **Penalized Cox models**\n",
    "5. **Linear support vector machine** \n",
    "6. **Calculating individual risk scores** "
   ]
  },
  {
   "cell_type": "markdown",
   "id": "96942fad",
   "metadata": {},
   "source": [
    "## 1. Preprocessing "
   ]
  },
  {
   "cell_type": "code",
   "execution_count": 1,
   "id": "2ed49dc3",
   "metadata": {},
   "outputs": [],
   "source": [
    "import numpy as np\n",
    "import pandas as pd\n",
    "\n",
    "from sklearn.model_selection import StratifiedShuffleSplit\n",
    "from sklearn.pipeline import Pipeline\n",
    "from sklearn.impute import SimpleImputer\n",
    "from sklearn.preprocessing import StandardScaler, OneHotEncoder\n",
    "from sklearn.compose import ColumnTransformer "
   ]
  },
  {
   "cell_type": "markdown",
   "id": "c2ef3648",
   "metadata": {},
   "source": [
    "### 1.1 Importing full dataframes"
   ]
  },
  {
   "cell_type": "code",
   "execution_count": 2,
   "id": "3f7f008b",
   "metadata": {},
   "outputs": [
    {
     "name": "stdout",
     "output_type": "stream",
     "text": [
      "27452 True\n"
     ]
    }
   ],
   "source": [
    "# Import training set and set PatientID as index.\n",
    "train = pd.read_csv('train_full.csv', index_col = 'PatientID')\n",
    "print(len(train), train.index.is_unique)"
   ]
  },
  {
   "cell_type": "code",
   "execution_count": 3,
   "id": "a6bdff04",
   "metadata": {},
   "outputs": [
    {
     "name": "stdout",
     "output_type": "stream",
     "text": [
      "6863 True\n"
     ]
    }
   ],
   "source": [
    "# Import test set and set PatientID as index.\n",
    "test = pd.read_csv('test_full.csv', index_col = 'PatientID')\n",
    "print(len(test), test.index.is_unique)"
   ]
  },
  {
   "cell_type": "markdown",
   "id": "4f5ddc2a",
   "metadata": {},
   "source": [
    "### 1.2 Drop unnecessary demographic variables "
   ]
  },
  {
   "cell_type": "code",
   "execution_count": 4,
   "id": "63bffc8f",
   "metadata": {},
   "outputs": [],
   "source": [
    "train = train.drop(columns = ['race',\n",
    "                              'ethnicity',\n",
    "                              'region',\n",
    "                              'medicare', \n",
    "                              'medicaid', \n",
    "                              'medicare_medicaid',\n",
    "                              'commercial', \n",
    "                              'patient_assistance', \n",
    "                              'other_govt',\n",
    "                              'self_pay', \n",
    "                              'other',\n",
    "                              'ses'])"
   ]
  },
  {
   "cell_type": "code",
   "execution_count": 5,
   "id": "12d1f59f",
   "metadata": {},
   "outputs": [],
   "source": [
    "test = test.drop(columns = ['race',\n",
    "                            'ethnicity',\n",
    "                            'region',\n",
    "                            'medicare', \n",
    "                            'medicaid', \n",
    "                            'medicare_medicaid',\n",
    "                            'commercial', \n",
    "                            'patient_assistance', \n",
    "                            'other_govt',\n",
    "                            'self_pay', \n",
    "                            'other',\n",
    "                            'ses'])"
   ]
  },
  {
   "cell_type": "markdown",
   "id": "eeede61c",
   "metadata": {},
   "source": [
    "### 1.3 Converting datatypes "
   ]
  },
  {
   "cell_type": "code",
   "execution_count": 6,
   "id": "89d3a565",
   "metadata": {},
   "outputs": [
    {
     "data": {
      "text/plain": [
       "['gender',\n",
       " 'p_type',\n",
       " 'stage',\n",
       " 'crc_site',\n",
       " 'KRAS',\n",
       " 'dMMR_MSIh',\n",
       " 'NRAS',\n",
       " 'BRAF',\n",
       " 'ecog_diagnosis']"
      ]
     },
     "execution_count": 6,
     "metadata": {},
     "output_type": "execute_result"
    }
   ],
   "source": [
    "list(train.select_dtypes(include = ['object']).columns)"
   ]
  },
  {
   "cell_type": "code",
   "execution_count": 7,
   "id": "49efb1bc",
   "metadata": {},
   "outputs": [],
   "source": [
    "to_be_categorical = list(train.select_dtypes(include = ['object']).columns)"
   ]
  },
  {
   "cell_type": "code",
   "execution_count": 8,
   "id": "c0d4c959",
   "metadata": {},
   "outputs": [],
   "source": [
    "to_be_categorical.append('met_year')"
   ]
  },
  {
   "cell_type": "code",
   "execution_count": 9,
   "id": "20843fda",
   "metadata": {},
   "outputs": [],
   "source": [
    "# Convert variables in list to categorical.\n",
    "for x in list(to_be_categorical):\n",
    "    train[x] = train[x].astype('category')"
   ]
  },
  {
   "cell_type": "code",
   "execution_count": 10,
   "id": "7b977446",
   "metadata": {},
   "outputs": [
    {
     "data": {
      "text/plain": [
       "['gender',\n",
       " 'p_type',\n",
       " 'stage',\n",
       " 'met_year',\n",
       " 'crc_site',\n",
       " 'KRAS',\n",
       " 'dMMR_MSIh',\n",
       " 'NRAS',\n",
       " 'BRAF',\n",
       " 'ecog_diagnosis']"
      ]
     },
     "execution_count": 10,
     "metadata": {},
     "output_type": "execute_result"
    }
   ],
   "source": [
    "list(train.select_dtypes(include = ['category']).columns)"
   ]
  },
  {
   "cell_type": "code",
   "execution_count": 11,
   "id": "923e03dc",
   "metadata": {},
   "outputs": [],
   "source": [
    "# Convert variables in list to categorical.\n",
    "for x in list(to_be_categorical):\n",
    "    test[x] = test[x].astype('category')"
   ]
  },
  {
   "cell_type": "code",
   "execution_count": 12,
   "id": "737f24a1",
   "metadata": {},
   "outputs": [],
   "source": [
    "# Convert death_status into True or False (required for scikit-survival). \n",
    "train['death_status'] = train['death_status'].astype('bool')"
   ]
  },
  {
   "cell_type": "code",
   "execution_count": 13,
   "id": "07a0db5c",
   "metadata": {},
   "outputs": [],
   "source": [
    "# Convert death_status into True or False (required for scikit-survival).\n",
    "test['death_status'] = test['death_status'].astype('bool')"
   ]
  },
  {
   "cell_type": "markdown",
   "id": "ee5d1916",
   "metadata": {},
   "source": [
    "### 1.4 Defining validation set\n",
    "\n",
    "**A validation dataset will be constructed from the training set. This validation set will comprise of 25% of the training set. It will be used to assist in early stopping for the gradient boosting survival model and the random survival model. Like in the training-test split, a stratified approach will be carried out to preserve the distribution of diagnosis years.**   "
   ]
  },
  {
   "cell_type": "code",
   "execution_count": 14,
   "id": "02aa76c5",
   "metadata": {},
   "outputs": [],
   "source": [
    "train['met_year_cat'] = pd.cut(train['met_year'],\n",
    "                               bins = [2012, 2014, 2016, 2018, 2020, 2022],\n",
    "                               labels = ['13-14', '15-16', '17-18', '19-20', '21-22'])"
   ]
  },
  {
   "cell_type": "code",
   "execution_count": 15,
   "id": "c34c3ea9",
   "metadata": {},
   "outputs": [],
   "source": [
    "sss = StratifiedShuffleSplit(n_splits = 1, test_size = 0.25, random_state = 42)\n",
    "\n",
    "for sub_train_index, val_index in sss.split(train, train['met_year_cat']):\n",
    "    sub_train = train.iloc[sub_train_index]\n",
    "    val = train.iloc[val_index]"
   ]
  },
  {
   "cell_type": "code",
   "execution_count": 16,
   "id": "001965ea",
   "metadata": {},
   "outputs": [],
   "source": [
    "train = train.drop(columns = ['met_year_cat'])"
   ]
  },
  {
   "cell_type": "code",
   "execution_count": 17,
   "id": "7284aed9",
   "metadata": {},
   "outputs": [],
   "source": [
    "sub_train = sub_train.drop(columns = ['met_year_cat'])"
   ]
  },
  {
   "cell_type": "code",
   "execution_count": 18,
   "id": "92365ebe",
   "metadata": {},
   "outputs": [],
   "source": [
    "val = val.drop(columns = ['met_year_cat'])"
   ]
  },
  {
   "cell_type": "code",
   "execution_count": 19,
   "id": "2f088730",
   "metadata": {},
   "outputs": [],
   "source": [
    "pd.DataFrame(val.index, columns = ['PatientID']).to_csv('val_IDs.csv', index = False, header = True)"
   ]
  },
  {
   "cell_type": "code",
   "execution_count": 20,
   "id": "d386c370",
   "metadata": {},
   "outputs": [],
   "source": [
    "val_IDs = pd.read_csv('val_IDs.csv')"
   ]
  },
  {
   "cell_type": "markdown",
   "id": "991c4588",
   "metadata": {},
   "source": [
    "### 1.5 Separate into X and Y"
   ]
  },
  {
   "cell_type": "code",
   "execution_count": 21,
   "id": "374e94ed",
   "metadata": {},
   "outputs": [],
   "source": [
    "# 'X' datasets\n",
    "train_x = train.drop(columns = ['death_status', 'timerisk_activity']) #80% of data \n",
    "\n",
    "test_x = test.drop(columns = ['death_status', 'timerisk_activity']) #20% of data \n",
    "\n",
    "sub_train_x = sub_train.drop(columns = ['death_status', 'timerisk_activity']) #60% of data\n",
    "\n",
    "val_x = val.drop(columns = ['death_status', 'timerisk_activity']) #20% of data "
   ]
  },
  {
   "cell_type": "code",
   "execution_count": 22,
   "id": "53405cc6",
   "metadata": {},
   "outputs": [],
   "source": [
    "# 'Y' datasets\n",
    "# Death status and time until event needs to be stored as a structured array to be compatible with scikit-survival\n",
    "y_dtypes = train[['death_status', 'timerisk_activity']].dtypes\n",
    "\n",
    "train_y = np.array([tuple(x) for x in train[['death_status', 'timerisk_activity']].values], \n",
    "                   dtype = list(zip(y_dtypes.index, y_dtypes)))\n",
    "\n",
    "test_y = np.array([tuple(x) for x in test[['death_status', 'timerisk_activity']].values], \n",
    "                  dtype = list(zip(y_dtypes.index, y_dtypes)))\n",
    "\n",
    "sub_train_y = np.array([tuple(x) for x in sub_train[['death_status', 'timerisk_activity']].values],\n",
    "                       dtype = list(zip(y_dtypes.index, y_dtypes)))\n",
    "\n",
    "val_y = np.array([tuple(x) for x in val[['death_status', 'timerisk_activity']].values],\n",
    "                 dtype = list(zip(y_dtypes.index, y_dtypes)))"
   ]
  },
  {
   "cell_type": "markdown",
   "id": "dbfeac11",
   "metadata": {},
   "source": [
    "### 1.6 Build pipeline"
   ]
  },
  {
   "cell_type": "code",
   "execution_count": 23,
   "id": "fcae47e8",
   "metadata": {},
   "outputs": [
    {
     "data": {
      "text/plain": [
       "['age',\n",
       " 'delta_met_diagnosis',\n",
       " 'steroid_diag',\n",
       " 'opioid_PO_diag',\n",
       " 'nonopioid_PO_diag',\n",
       " 'pain_IV_diag',\n",
       " 'ac_diag',\n",
       " 'antiinfective_IV_diag',\n",
       " 'antiinfective_diag',\n",
       " 'antihyperglycemic_diag',\n",
       " 'ppi_diag',\n",
       " 'antidepressant_diag',\n",
       " 'bta_diag',\n",
       " 'thyroid_diag',\n",
       " 'is_diag',\n",
       " 'adjuv',\n",
       " 'weight_diag',\n",
       " 'bmi_diag',\n",
       " 'bmi_diag_na',\n",
       " 'weight_pct_change',\n",
       " 'weight_pct_na',\n",
       " 'weight_slope',\n",
       " 'albumin_diag',\n",
       " 'alp_diag',\n",
       " 'alt_diag',\n",
       " 'ast_diag',\n",
       " 'bicarb_diag',\n",
       " 'bun_diag',\n",
       " 'calcium_diag',\n",
       " 'cea_diag',\n",
       " 'chloride_diag',\n",
       " 'creatinine_diag',\n",
       " 'hemoglobin_diag',\n",
       " 'neutrophil_count_diag',\n",
       " 'platelet_diag',\n",
       " 'potassium_diag',\n",
       " 'sodium_diag',\n",
       " 'total_bilirubin_diag',\n",
       " 'wbc_diag',\n",
       " 'albumin_diag_na',\n",
       " 'alp_diag_na',\n",
       " 'alt_diag_na',\n",
       " 'ast_diag_na',\n",
       " 'bicarb_diag_na',\n",
       " 'bun_diag_na',\n",
       " 'calcium_diag_na',\n",
       " 'cea_diag_na',\n",
       " 'chloride_diag_na',\n",
       " 'creatinine_diag_na',\n",
       " 'hemoglobin_diag_na',\n",
       " 'neutrophil_count_diag_na',\n",
       " 'platelet_diag_na',\n",
       " 'potassium_diag_na',\n",
       " 'sodium_diag_na',\n",
       " 'total_bilirubin_diag_na',\n",
       " 'wbc_diag_na',\n",
       " 'albumin_avg',\n",
       " 'alp_avg',\n",
       " 'alt_avg',\n",
       " 'ast_avg',\n",
       " 'bicarb_avg',\n",
       " 'bun_avg',\n",
       " 'calcium_avg',\n",
       " 'cea_avg',\n",
       " 'chloride_avg',\n",
       " 'creatinine_avg',\n",
       " 'hemoglobin_avg',\n",
       " 'neutrophil_count_avg',\n",
       " 'platelet_avg',\n",
       " 'potassium_avg',\n",
       " 'sodium_avg',\n",
       " 'total_bilirubin_avg',\n",
       " 'wbc_avg',\n",
       " 'albumin_max',\n",
       " 'alp_max',\n",
       " 'alt_max',\n",
       " 'ast_max',\n",
       " 'bicarb_max',\n",
       " 'bun_max',\n",
       " 'calcium_max',\n",
       " 'cea_max',\n",
       " 'chloride_max',\n",
       " 'creatinine_max',\n",
       " 'hemoglobin_max',\n",
       " 'neutrophil_count_max',\n",
       " 'platelet_max',\n",
       " 'potassium_max',\n",
       " 'sodium_max',\n",
       " 'total_bilirubin_max',\n",
       " 'wbc_max',\n",
       " 'albumin_min',\n",
       " 'alp_min',\n",
       " 'alt_min',\n",
       " 'ast_min',\n",
       " 'bicarb_min',\n",
       " 'bun_min',\n",
       " 'calcium_min',\n",
       " 'cea_min',\n",
       " 'chloride_min',\n",
       " 'creatinine_min',\n",
       " 'hemoglobin_min',\n",
       " 'neutrophil_count_min',\n",
       " 'platelet_min',\n",
       " 'potassium_min',\n",
       " 'sodium_min',\n",
       " 'total_bilirubin_min',\n",
       " 'wbc_min',\n",
       " 'albumin_std',\n",
       " 'alp_std',\n",
       " 'alt_std',\n",
       " 'ast_std',\n",
       " 'bicarb_std',\n",
       " 'bun_std',\n",
       " 'calcium_std',\n",
       " 'cea_std',\n",
       " 'chloride_std',\n",
       " 'creatinine_std',\n",
       " 'hemoglobin_std',\n",
       " 'neutrophil_count_std',\n",
       " 'platelet_std',\n",
       " 'potassium_std',\n",
       " 'sodium_std',\n",
       " 'total_bilirubin_std',\n",
       " 'wbc_std',\n",
       " 'albumin_slope',\n",
       " 'alp_slope',\n",
       " 'alt_slope',\n",
       " 'ast_slope',\n",
       " 'bicarb_slope',\n",
       " 'bun_slope',\n",
       " 'calcium_slope',\n",
       " 'cea_slope',\n",
       " 'chloride_slope',\n",
       " 'creatinine_slope',\n",
       " 'hemoglobin_slope',\n",
       " 'neutrophil_count_slope',\n",
       " 'platelet_slope',\n",
       " 'potassium_slope',\n",
       " 'sodium_slope',\n",
       " 'total_bilirubin_slope',\n",
       " 'wbc_slope',\n",
       " 'albumin_slope_na',\n",
       " 'alp_slope_na',\n",
       " 'alt_slope_na',\n",
       " 'ast_slope_na',\n",
       " 'bicarb_slope_na',\n",
       " 'bun_slope_na',\n",
       " 'calcium_slope_na',\n",
       " 'cea_slope_na',\n",
       " 'chloride_slope_na',\n",
       " 'creatinine_slope_na',\n",
       " 'hemoglobin_slope_na',\n",
       " 'neutrophil_count_slope_na',\n",
       " 'platelet_slope_na',\n",
       " 'potassium_slope_na',\n",
       " 'sodium_slope_na',\n",
       " 'total_bilirubin_slope_na',\n",
       " 'wbc_slope_na',\n",
       " 'chf',\n",
       " 'cardiac_arrhythmias',\n",
       " 'valvular_disease',\n",
       " 'pulmonary_circulation',\n",
       " 'peripheral_vascular',\n",
       " 'htn_uncomplicated',\n",
       " 'htn_complicated',\n",
       " 'paralysis',\n",
       " 'other_neuro_disorders',\n",
       " 'chronic_pulmonary',\n",
       " 'diabetes_uncomplicated',\n",
       " 'diabetes_complicated',\n",
       " 'hypothyroidism',\n",
       " 'renal_failure',\n",
       " 'liver_disease',\n",
       " 'peptic_ulcer_disease',\n",
       " 'aids_hiv',\n",
       " 'lymphoma',\n",
       " 'metastatic_cancer',\n",
       " 'solid_tumor_wout_mets',\n",
       " 'rheumatoid_arthritis',\n",
       " 'coagulopathy',\n",
       " 'obesity',\n",
       " 'weight_loss',\n",
       " 'fluid_electrolyte',\n",
       " 'blood_loss_anemia',\n",
       " 'deficiency_anemia',\n",
       " 'alcohol_abuse',\n",
       " 'drug_abuse',\n",
       " 'psychoses',\n",
       " 'depression',\n",
       " 'elixhauser_other',\n",
       " 'icd_count',\n",
       " 'other_cancer',\n",
       " 'thorax_met',\n",
       " 'peritoneum_met',\n",
       " 'liver_met',\n",
       " 'other_gi_met',\n",
       " 'cns_met',\n",
       " 'bone_met',\n",
       " 'other_met']"
      ]
     },
     "execution_count": 23,
     "metadata": {},
     "output_type": "execute_result"
    }
   ],
   "source": [
    "list(train_x.select_dtypes(exclude = ['category']).columns)"
   ]
  },
  {
   "cell_type": "code",
   "execution_count": 24,
   "id": "880c79bd",
   "metadata": {},
   "outputs": [],
   "source": [
    "# List of numeric variables, excluding binary variables. \n",
    "numerical_features = [\n",
    "    'age',\n",
    "    'delta_met_diagnosis',\n",
    "    'weight_diag',\n",
    "    'bmi_diag',\n",
    "    'weight_pct_change',\n",
    "    'weight_slope',\n",
    "    'albumin_diag',\n",
    "    'alp_diag',\n",
    "    'alt_diag',\n",
    "    'ast_diag',\n",
    "    'bicarb_diag',\n",
    "    'bun_diag',\n",
    "    'calcium_diag',\n",
    "    'cea_diag',\n",
    "    'chloride_diag',\n",
    "    'creatinine_diag',\n",
    "    'hemoglobin_diag',\n",
    "    'neutrophil_count_diag',\n",
    "    'platelet_diag',\n",
    "    'potassium_diag',\n",
    "    'sodium_diag',\n",
    "    'total_bilirubin_diag',\n",
    "    'wbc_diag', \n",
    "    'albumin_avg',\n",
    "    'alp_avg',\n",
    "    'alt_avg',\n",
    "    'ast_avg',\n",
    "    'bicarb_avg',\n",
    "    'bun_avg',\n",
    "    'calcium_avg',\n",
    "    'cea_avg',\n",
    "    'chloride_avg',\n",
    "    'creatinine_avg',\n",
    "    'hemoglobin_avg',\n",
    "    'neutrophil_count_avg',\n",
    "    'platelet_avg',\n",
    "    'potassium_avg',\n",
    "    'sodium_avg',\n",
    "    'total_bilirubin_avg',\n",
    "    'wbc_avg',\n",
    "    'albumin_max',\n",
    "    'alp_max',\n",
    "    'alt_max',\n",
    "    'ast_max',\n",
    "    'bicarb_max',\n",
    "    'bun_max',\n",
    "    'calcium_max',\n",
    "    'cea_max',\n",
    "    'chloride_max',\n",
    "    'creatinine_max',\n",
    "    'hemoglobin_max',\n",
    "    'neutrophil_count_max',\n",
    "    'platelet_max',\n",
    "    'potassium_max',\n",
    "    'sodium_max',\n",
    "    'total_bilirubin_max',\n",
    "    'wbc_max',\n",
    "    'albumin_min',\n",
    "    'alp_min',\n",
    "    'alt_min',\n",
    "    'ast_min',\n",
    "    'bicarb_min',\n",
    "    'bun_min',\n",
    "    'calcium_min',\n",
    "    'cea_min',\n",
    "    'chloride_min',\n",
    "    'creatinine_min',\n",
    "    'hemoglobin_min',\n",
    "    'neutrophil_count_min',\n",
    "    'platelet_min',\n",
    "    'potassium_min',\n",
    "    'sodium_min',\n",
    "    'total_bilirubin_min',\n",
    "    'wbc_min',\n",
    "    'albumin_std',\n",
    "    'alp_std',\n",
    "    'alt_std',\n",
    "    'ast_std',\n",
    "    'bicarb_std',\n",
    "    'bun_std',\n",
    "    'calcium_std',\n",
    "    'cea_std',\n",
    "    'chloride_std',\n",
    "    'creatinine_std',\n",
    "    'hemoglobin_std',\n",
    "    'neutrophil_count_std',\n",
    "    'platelet_std',\n",
    "    'potassium_std',\n",
    "    'sodium_std',\n",
    "    'total_bilirubin_std',\n",
    "    'wbc_std',\n",
    "    'albumin_slope',\n",
    "    'alp_slope',\n",
    "    'alt_slope',\n",
    "    'ast_slope',\n",
    "    'bicarb_slope',\n",
    "    'bun_slope',\n",
    "    'calcium_slope',\n",
    "    'cea_slope',\n",
    "    'chloride_slope',\n",
    "    'creatinine_slope',\n",
    "    'hemoglobin_slope',\n",
    "    'neutrophil_count_slope',\n",
    "    'platelet_slope',\n",
    "    'potassium_slope',\n",
    "    'sodium_slope',\n",
    "    'total_bilirubin_slope',\n",
    "    'wbc_slope',\n",
    "    'icd_count']\n",
    "\n",
    "# Transformer will first calculate column median and impute, and then apply a standard scaler. \n",
    "numerical_transformer = Pipeline(steps = [\n",
    "    ('imputer', SimpleImputer(strategy = 'median')),\n",
    "    ('std_scaler', StandardScaler())])"
   ]
  },
  {
   "cell_type": "code",
   "execution_count": 25,
   "id": "e448b3e4",
   "metadata": {},
   "outputs": [
    {
     "data": {
      "text/plain": [
       "['gender',\n",
       " 'p_type',\n",
       " 'stage',\n",
       " 'met_year',\n",
       " 'crc_site',\n",
       " 'KRAS',\n",
       " 'dMMR_MSIh',\n",
       " 'NRAS',\n",
       " 'BRAF',\n",
       " 'ecog_diagnosis']"
      ]
     },
     "execution_count": 25,
     "metadata": {},
     "output_type": "execute_result"
    }
   ],
   "source": [
    "list(train_x.select_dtypes(include = ['category']).columns)"
   ]
  },
  {
   "cell_type": "code",
   "execution_count": 26,
   "id": "e88bb35a",
   "metadata": {},
   "outputs": [],
   "source": [
    "# List of categorical features.\n",
    "categorical_features = list(train_x.select_dtypes(include = ['category']).columns)\n",
    "\n",
    "# One-hot-encode categorical features.\n",
    "categorical_transformer = OneHotEncoder(handle_unknown = 'ignore')"
   ]
  },
  {
   "cell_type": "code",
   "execution_count": 27,
   "id": "65fd3806",
   "metadata": {},
   "outputs": [
    {
     "data": {
      "text/plain": [
       "90"
      ]
     },
     "execution_count": 27,
     "metadata": {},
     "output_type": "execute_result"
    }
   ],
   "source": [
    "# Remaining unprocessed columns which are binary variables\n",
    "len(train_x.columns) - (len(numerical_features) + len(categorical_features))"
   ]
  },
  {
   "cell_type": "code",
   "execution_count": 28,
   "id": "d63127b3",
   "metadata": {},
   "outputs": [],
   "source": [
    "all_columns = list(train_x.columns)"
   ]
  },
  {
   "cell_type": "code",
   "execution_count": 29,
   "id": "e70fd6c7",
   "metadata": {},
   "outputs": [
    {
     "data": {
      "text/plain": [
       "90"
      ]
     },
     "execution_count": 29,
     "metadata": {},
     "output_type": "execute_result"
    }
   ],
   "source": [
    "# Prints number of columns after removing columns that are numerical or categorical. \n",
    "for i in list(numerical_features + categorical_features):\n",
    "    all_columns.remove(i)\n",
    "len(all_columns)"
   ]
  },
  {
   "cell_type": "code",
   "execution_count": 30,
   "id": "228ce806",
   "metadata": {},
   "outputs": [],
   "source": [
    "preprocessor = ColumnTransformer(\n",
    "    transformers = [\n",
    "        ('num', numerical_transformer, numerical_features),\n",
    "        ('cat', categorical_transformer, categorical_features)],\n",
    "    remainder = 'passthrough')"
   ]
  },
  {
   "cell_type": "markdown",
   "id": "fb16d829",
   "metadata": {},
   "source": [
    "## 2. Gradient boosting survival model"
   ]
  },
  {
   "cell_type": "code",
   "execution_count": 31,
   "id": "151576b7",
   "metadata": {},
   "outputs": [],
   "source": [
    "from sklearn.experimental import enable_halving_search_cv\n",
    "from sklearn.model_selection import StratifiedKFold, HalvingGridSearchCV\n",
    "from sklearn.pipeline import make_pipeline\n",
    "\n",
    "from sksurv.ensemble import GradientBoostingSurvivalAnalysis\n",
    "from sksurv.metrics import cumulative_dynamic_auc, as_cumulative_dynamic_auc_scorer\n",
    "\n",
    "from joblib import dump, load \n",
    "\n",
    "import matplotlib.pyplot as plt\n",
    "\n",
    "import warnings "
   ]
  },
  {
   "cell_type": "markdown",
   "id": "b84fe09a",
   "metadata": {},
   "source": [
    "**The gradient boosting survival model will be configured by setting a low learning rate (eg., <= 0.1) and choosing the number of trees by monitoring the 1 year AUC on the valdiation dataset and stopping once performance on the validation dataset begins to degrade. The learning rate will be tuned to achieve a target tree size >500. Once learning rate and tree number are set, a halving grid search with 3-fold cross validation will be performed to identify ideal max depth and subsample percentage.**  "
   ]
  },
  {
   "cell_type": "markdown",
   "id": "aab57026",
   "metadata": {},
   "source": [
    "### 2.1 Determining number of trees for full model "
   ]
  },
  {
   "cell_type": "markdown",
   "id": "9e312db0",
   "metadata": {},
   "source": [
    "**The full model includes all variables, notably 96 summary labs values which have significant missingness (>40%).**"
   ]
  },
  {
   "cell_type": "code",
   "execution_count": 32,
   "id": "e0f66ebe",
   "metadata": {},
   "outputs": [
    {
     "name": "stdout",
     "output_type": "stream",
     "text": [
      "      Iter       Train Loss      OOB Improve   Remaining Time \n",
      "         1       84529.3659          15.4382          130.58m\n",
      "         2       84016.2741          14.6091          131.40m\n",
      "         3       84133.1867          13.9457          131.48m\n",
      "         4       84291.9900          12.9009          131.82m\n",
      "         5       84373.8707          12.9486          131.66m\n",
      "         6       84569.5026          11.3336          131.43m\n",
      "         7       84329.2443          11.1885          131.16m\n",
      "         8       84247.8342          12.3477          131.05m\n",
      "         9       84116.7093          10.8553          131.12m\n",
      "        10       84160.3518          11.2159          131.07m\n",
      "        20       83965.6829           8.0335          129.99m\n",
      "        30       83705.5340           4.8881          128.80m\n",
      "        40       83523.4151           3.9077          127.74m\n",
      "        50       83011.9509           3.0318          126.76m\n",
      "        60       83000.7199           2.9218          125.81m\n",
      "        70       82494.2203           1.8798          124.88m\n",
      "        80       83330.5577           1.6695          123.96m\n",
      "        90       82786.8601           0.8846          123.27m\n",
      "       100       82795.2133           1.9701          122.35m\n",
      "       200       82069.4344           0.4986          113.57m\n",
      "       300       81829.9527           0.0130          104.95m\n",
      "       400       81753.9691          -0.0290           96.41m\n",
      "       500       81678.4170           0.2330           87.77m\n",
      "       600       81636.3472           0.0300           79.02m\n",
      "       700       81126.5445          -0.0861           70.26m\n",
      "       800       81084.9180          -0.0724           61.52m\n",
      "       900       81112.3975          -0.1894           52.73m\n",
      "      1000       80308.6635          -0.2003           43.95m\n"
     ]
    },
    {
     "data": {
      "text/plain": [
       "GradientBoostingSurvivalAnalysis(learning_rate=0.05, n_estimators=1500,\n",
       "                                 random_state=42, subsample=0.75, verbose=1)"
      ]
     },
     "execution_count": 32,
     "metadata": {},
     "output_type": "execute_result"
    }
   ],
   "source": [
    "sub_train_xt = preprocessor.fit_transform(sub_train_x)\n",
    "val_xt = preprocessor.transform(val_x)\n",
    "\n",
    "gbm_exp = GradientBoostingSurvivalAnalysis(n_estimators = 1500,\n",
    "                                           learning_rate = 0.05,\n",
    "                                           max_depth = 3,\n",
    "                                           subsample = 0.75,\n",
    "                                           verbose = 1,\n",
    "                                           random_state = 42)\n",
    "\n",
    "gbm_exp.fit(sub_train_xt, sub_train_y)"
   ]
  },
  {
   "cell_type": "code",
   "execution_count": 33,
   "id": "0aaddcac",
   "metadata": {},
   "outputs": [],
   "source": [
    "gbm_staged_auc = [cumulative_dynamic_auc(sub_train_y, val_y, risk_score, 730)[0][0] \n",
    "                  for risk_score in gbm_exp.staged_predict(val_xt)]"
   ]
  },
  {
   "cell_type": "code",
   "execution_count": 34,
   "id": "7099d3c6",
   "metadata": {},
   "outputs": [],
   "source": [
    "gbm_staged_auc_tr = [cumulative_dynamic_auc(sub_train_y, sub_train_y, risk_score, 730)[0][0] \n",
    "                     for risk_score in gbm_exp.staged_predict(sub_train_xt)]"
   ]
  },
  {
   "cell_type": "code",
   "execution_count": 35,
   "id": "02109136",
   "metadata": {},
   "outputs": [
    {
     "data": {
      "image/png": "[encoded data removed]",
      "text/plain": [
       "<Figure size 640x480 with 1 Axes>"
      ]
     },
     "metadata": {},
     "output_type": "display_data"
    }
   ],
   "source": [
    "fig = plt.figure()\n",
    "ax = fig.add_subplot(1, 1, 1)\n",
    "\n",
    "x = range(len(gbm_staged_auc))\n",
    "plt.plot(x, gbm_staged_auc, color = 'blue', label = 'validation')\n",
    "plt.plot(x, gbm_staged_auc_tr, color = 'red', label = 'training')\n",
    "plt.legend(loc = 'lower right')\n",
    "\n",
    "plt.xlabel(\"n_estimators\")\n",
    "plt.ylabel(\"AUC at 2-years\")\n",
    "plt.title('Full gradient boosting model learning curve with learning rate of 0.05')\n",
    "\n",
    "plt.show()"
   ]
  },
  {
   "cell_type": "code",
   "execution_count": 36,
   "id": "2c390167",
   "metadata": {},
   "outputs": [],
   "source": [
    "# Average AUC for every 25 additional trees. \n",
    "mean_auc_list = []\n",
    "for x in np.arange(0, len(gbm_staged_auc), 25):\n",
    "    mean_auc_list.append(np.mean(gbm_staged_auc[x:x+24]))"
   ]
  },
  {
   "cell_type": "code",
   "execution_count": 37,
   "id": "591f8bec",
   "metadata": {},
   "outputs": [
    {
     "name": "stdout",
     "output_type": "stream",
     "text": [
      "Number of trees where 2 year AUC on validation dataset beings to downgrade: 950\n",
      "Validation dataset AUC before degrading: 0.7512368040907704\n",
      "Training dataset AUC before degrading: 0.8024088624163425\n"
     ]
    }
   ],
   "source": [
    "print('Number of trees where 2 year AUC on validation dataset beings to downgrade:', np.where(np.diff(mean_auc_list) < 0)[0][0]*25)\n",
    "print('Validation dataset AUC before degrading:', gbm_staged_auc[np.where(np.diff(mean_auc_list) < 0)[0][0]*25])\n",
    "print('Training dataset AUC before degrading:', gbm_staged_auc_tr[np.where(np.diff(mean_auc_list) < 0)[0][0]*25])"
   ]
  },
  {
   "cell_type": "markdown",
   "id": "8af66f5f",
   "metadata": {},
   "source": [
    "### 2.2 Determining number of trees for sparse model "
   ]
  },
  {
   "cell_type": "markdown",
   "id": "f52f3aa5",
   "metadata": {},
   "source": [
    "**The sparse model includes a subset of the summary lab values that are considered clinically relevant. Performance will be compared to the full model.**"
   ]
  },
  {
   "cell_type": "code",
   "execution_count": 38,
   "id": "02ee8e8c",
   "metadata": {},
   "outputs": [],
   "source": [
    "all_labs = [\n",
    "    'albumin_diag',\n",
    "    'alp_diag',\n",
    "    'alt_diag',\n",
    "    'ast_diag',\n",
    "    'bicarb_diag',\n",
    "    'bun_diag',\n",
    "    'calcium_diag',\n",
    "    'cea_diag',\n",
    "    'chloride_diag',\n",
    "    'creatinine_diag',\n",
    "    'hemoglobin_diag',\n",
    "    'neutrophil_count_diag',\n",
    "    'platelet_diag',\n",
    "    'potassium_diag',\n",
    "    'sodium_diag',\n",
    "    'total_bilirubin_diag',\n",
    "    'wbc_diag',\n",
    "    'albumin_diag_na',\n",
    "    'alp_diag_na',\n",
    "    'alt_diag_na',\n",
    "    'ast_diag_na',\n",
    "    'bicarb_diag_na',\n",
    "    'bun_diag_na',\n",
    "    'calcium_diag_na',\n",
    "    'cea_diag_na',\n",
    "    'chloride_diag_na',\n",
    "    'creatinine_diag_na',\n",
    "    'hemoglobin_diag_na',\n",
    "    'neutrophil_count_diag_na',\n",
    "    'platelet_diag_na',\n",
    "    'potassium_diag_na',\n",
    "    'sodium_diag_na',\n",
    "    'total_bilirubin_diag_na',\n",
    "    'wbc_diag_na',\n",
    "    'albumin_avg',\n",
    "    'alp_avg',\n",
    "    'alt_avg',\n",
    "    'ast_avg',\n",
    "    'bicarb_avg',\n",
    "    'bun_avg',\n",
    "    'calcium_avg',\n",
    "    'cea_avg',\n",
    "    'chloride_avg',\n",
    "    'creatinine_avg',\n",
    "    'hemoglobin_avg',\n",
    "    'neutrophil_count_avg',\n",
    "    'platelet_avg',\n",
    "    'potassium_avg',\n",
    "    'sodium_avg',\n",
    "    'total_bilirubin_avg',\n",
    "    'wbc_avg',\n",
    "    'albumin_max',\n",
    "    'alp_max',\n",
    "    'alt_max',\n",
    "    'ast_max',\n",
    "    'bicarb_max',\n",
    "    'bun_max',\n",
    "    'calcium_max',\n",
    "    'cea_max',\n",
    "    'chloride_max',\n",
    "    'creatinine_max',\n",
    "    'hemoglobin_max',\n",
    "    'neutrophil_count_max',\n",
    "    'platelet_max',\n",
    "    'potassium_max',\n",
    "    'sodium_max',\n",
    "    'total_bilirubin_max',\n",
    "    'wbc_max',\n",
    "    'albumin_min',\n",
    "    'alp_min',\n",
    "    'alt_min',\n",
    "    'ast_min',\n",
    "    'bicarb_min',\n",
    "    'bun_min',\n",
    "    'calcium_min',\n",
    "    'cea_min',\n",
    "    'chloride_min',\n",
    "    'creatinine_min',\n",
    "    'hemoglobin_min',\n",
    "    'neutrophil_count_min',\n",
    "    'platelet_min',\n",
    "    'potassium_min',\n",
    "    'sodium_min',\n",
    "    'total_bilirubin_min',\n",
    "    'wbc_min',\n",
    "    'albumin_std',\n",
    "    'alp_std',\n",
    "    'alt_std',\n",
    "    'ast_std',\n",
    "    'bicarb_std',\n",
    "    'bun_std',\n",
    "    'calcium_std',\n",
    "    'cea_std',\n",
    "    'chloride_std',\n",
    "    'creatinine_std',\n",
    "    'hemoglobin_std',\n",
    "    'neutrophil_count_std',\n",
    "    'platelet_std',\n",
    "    'potassium_std',\n",
    "    'sodium_std',\n",
    "    'total_bilirubin_std',\n",
    "    'wbc_std',\n",
    "    'albumin_slope',\n",
    "    'alp_slope',\n",
    "    'alt_slope',\n",
    "    'ast_slope',\n",
    "    'bicarb_slope',\n",
    "    'bun_slope',\n",
    "    'calcium_slope',\n",
    "    'cea_slope',\n",
    "    'chloride_slope',\n",
    "    'creatinine_slope',\n",
    "    'hemoglobin_slope',\n",
    "    'neutrophil_count_slope',\n",
    "    'platelet_slope',\n",
    "    'potassium_slope',\n",
    "    'sodium_slope',\n",
    "    'total_bilirubin_slope',\n",
    "    'wbc_slope',\n",
    "    'albumin_slope_na',\n",
    "    'alp_slope_na',\n",
    "    'alt_slope_na',\n",
    "    'ast_slope_na',\n",
    "    'bicarb_slope_na',\n",
    "    'bun_slope_na',\n",
    "    'calcium_slope_na',\n",
    "    'cea_slope_na',\n",
    "    'chloride_slope_na',\n",
    "    'creatinine_slope_na',\n",
    "    'hemoglobin_slope_na',\n",
    "    'neutrophil_count_slope_na',\n",
    "    'platelet_slope_na',\n",
    "    'potassium_slope_na',\n",
    "    'sodium_slope_na',\n",
    "    'total_bilirubin_slope_na',\n",
    "    'wbc_slope_na']"
   ]
  },
  {
   "cell_type": "code",
   "execution_count": 39,
   "id": "cec980fe",
   "metadata": {},
   "outputs": [],
   "source": [
    "keep_labs = [\n",
    "    'albumin_diag',\n",
    "    'alp_diag',\n",
    "    'alt_diag',\n",
    "    'ast_diag',\n",
    "    'bicarb_diag',\n",
    "    'bun_diag',\n",
    "    'calcium_diag',\n",
    "    'cea_diag',\n",
    "    'chloride_diag',\n",
    "    'creatinine_diag',\n",
    "    'hemoglobin_diag',\n",
    "    'neutrophil_count_diag',\n",
    "    'platelet_diag',\n",
    "    'potassium_diag',\n",
    "    'sodium_diag',\n",
    "    'total_bilirubin_diag',\n",
    "    'wbc_diag',\n",
    "    'albumin_diag_na',\n",
    "    'alp_diag_na',\n",
    "    'alt_diag_na',\n",
    "    'ast_diag_na',\n",
    "    'bicarb_diag_na',\n",
    "    'bun_diag_na',\n",
    "    'calcium_diag_na',\n",
    "    'cea_diag_na',\n",
    "    'chloride_diag_na',\n",
    "    'creatinine_diag_na',\n",
    "    'hemoglobin_diag_na',\n",
    "    'neutrophil_count_diag_na',\n",
    "    'platelet_diag_na',\n",
    "    'potassium_diag_na',\n",
    "    'sodium_diag_na',\n",
    "    'total_bilirubin_diag_na',\n",
    "    'wbc_diag_na',\n",
    "    'alp_max',\n",
    "    'alt_max',\n",
    "    'ast_max',\n",
    "    'cea_max',\n",
    "    'creatinine_max',\n",
    "    'total_bilirubin_max',\n",
    "    'wbc_max',\n",
    "    'albumin_min',\n",
    "    'bicarb_min',\n",
    "    'hemoglobin_min',\n",
    "    'platelet_min',\n",
    "    'sodium_min',\n",
    "    'wbc_min']"
   ]
  },
  {
   "cell_type": "code",
   "execution_count": 40,
   "id": "df610cd5",
   "metadata": {},
   "outputs": [],
   "source": [
    "drop_labs = [\n",
    "    'albumin_avg',\n",
    "    'alp_avg',\n",
    "    'alt_avg',\n",
    "    'ast_avg',\n",
    "    'bicarb_avg',\n",
    "    'bun_avg',\n",
    "    'calcium_avg',\n",
    "    'cea_avg',\n",
    "    'chloride_avg',\n",
    "    'creatinine_avg',\n",
    "    'hemoglobin_avg',\n",
    "    'neutrophil_count_avg',\n",
    "    'platelet_avg',\n",
    "    'potassium_avg',\n",
    "    'sodium_avg',\n",
    "    'total_bilirubin_avg',\n",
    "    'wbc_avg',\n",
    "    'albumin_max',\n",
    "    'bicarb_max',\n",
    "    'bun_max',\n",
    "    'calcium_max',\n",
    "    'chloride_max',\n",
    "    'hemoglobin_max',\n",
    "    'neutrophil_count_max',\n",
    "    'platelet_max',\n",
    "    'potassium_max',\n",
    "    'sodium_max',\n",
    "    'alp_min',\n",
    "    'alt_min',\n",
    "    'ast_min',\n",
    "    'bun_min',\n",
    "    'calcium_min',\n",
    "    'cea_min',\n",
    "    'chloride_min',\n",
    "    'creatinine_min',\n",
    "    'neutrophil_count_min',\n",
    "    'potassium_min',\n",
    "    'total_bilirubin_min',\n",
    "    'albumin_std',\n",
    "    'alp_std',\n",
    "    'alt_std',\n",
    "    'ast_std',\n",
    "    'bicarb_std',\n",
    "    'bun_std',\n",
    "    'calcium_std',\n",
    "    'cea_std',\n",
    "    'chloride_std',\n",
    "    'creatinine_std',\n",
    "    'hemoglobin_std',\n",
    "    'neutrophil_count_std',\n",
    "    'platelet_std',\n",
    "    'potassium_std',\n",
    "    'sodium_std',\n",
    "    'total_bilirubin_std',\n",
    "    'wbc_std',\n",
    "    'albumin_slope',\n",
    "    'alp_slope',\n",
    "    'alt_slope',\n",
    "    'ast_slope',\n",
    "    'bicarb_slope',\n",
    "    'bun_slope',\n",
    "    'calcium_slope',\n",
    "    'cea_slope',\n",
    "    'chloride_slope',\n",
    "    'creatinine_slope',\n",
    "    'hemoglobin_slope',\n",
    "    'neutrophil_count_slope',\n",
    "    'platelet_slope',\n",
    "    'potassium_slope',\n",
    "    'sodium_slope',\n",
    "    'total_bilirubin_slope',\n",
    "    'wbc_slope',\n",
    "    'albumin_slope_na',\n",
    "    'alp_slope_na',\n",
    "    'alt_slope_na',\n",
    "    'ast_slope_na',\n",
    "    'bicarb_slope_na',\n",
    "    'bun_slope_na',\n",
    "    'calcium_slope_na',\n",
    "    'cea_slope_na',\n",
    "    'chloride_slope_na',\n",
    "    'creatinine_slope_na',\n",
    "    'hemoglobin_slope_na',\n",
    "    'neutrophil_count_slope_na',\n",
    "    'platelet_slope_na',\n",
    "    'potassium_slope_na',\n",
    "    'sodium_slope_na',\n",
    "    'total_bilirubin_slope_na',\n",
    "    'wbc_slope_na']"
   ]
  },
  {
   "cell_type": "code",
   "execution_count": 41,
   "id": "f424d70b",
   "metadata": {},
   "outputs": [
    {
     "data": {
      "text/plain": [
       "True"
      ]
     },
     "execution_count": 41,
     "metadata": {},
     "output_type": "execute_result"
    }
   ],
   "source": [
    "len(keep_labs) + len(drop_labs) == len(all_labs)"
   ]
  },
  {
   "cell_type": "code",
   "execution_count": 42,
   "id": "e89c5f22",
   "metadata": {},
   "outputs": [],
   "source": [
    "sub_train_x_red = sub_train_x.drop(columns = drop_labs)\n",
    "val_x_red = val_x.drop(columns = drop_labs)"
   ]
  },
  {
   "cell_type": "code",
   "execution_count": 43,
   "id": "1763d0d1",
   "metadata": {},
   "outputs": [
    {
     "name": "stdout",
     "output_type": "stream",
     "text": [
      "(20589, 209)\n",
      "(20589, 120)\n",
      "(6863, 209)\n",
      "(6863, 120)\n"
     ]
    }
   ],
   "source": [
    "print(sub_train_x.shape)\n",
    "print(sub_train_x_red.shape)\n",
    "print(val_x.shape)\n",
    "print(val_x_red.shape)"
   ]
  },
  {
   "cell_type": "code",
   "execution_count": 44,
   "id": "770f93fd",
   "metadata": {},
   "outputs": [],
   "source": [
    "sub_train_x_red.loc[:, 'alp_max_na'] = np.where(sub_train_x_red['alp_max'].isna(), 1, 0)\n",
    "sub_train_x_red.loc[:, 'alt_max_na'] = np.where(sub_train_x_red['alt_max'].isna(), 1, 0)\n",
    "sub_train_x_red.loc[:, 'ast_max_na'] = np.where(sub_train_x_red['ast_max'].isna(), 1, 0)\n",
    "sub_train_x_red.loc[:, 'cea_max_na'] = np.where(sub_train_x_red['cea_max'].isna(), 1, 0)\n",
    "sub_train_x_red.loc[:, 'creatinine_max_na'] = np.where(sub_train_x_red['creatinine_max'].isna(), 1, 0)\n",
    "sub_train_x_red.loc[:, 'total_bilirubin_max_na'] = np.where(sub_train_x_red['total_bilirubin_max'].isna(), 1, 0)\n",
    "sub_train_x_red.loc[:, 'wbc_max_na'] = np.where(sub_train_x_red['wbc_max'].isna(), 1, 0)\n",
    "sub_train_x_red.loc[:, 'albumin_min_na'] = np.where(sub_train_x_red['albumin_min'].isna(), 1, 0)\n",
    "sub_train_x_red.loc[:, 'bicarb_min_na'] = np.where(sub_train_x_red['bicarb_min'].isna(), 1, 0)\n",
    "sub_train_x_red.loc[:, 'hemoglobin_min_na'] = np.where(sub_train_x_red['hemoglobin_min'].isna(), 1, 0)\n",
    "sub_train_x_red.loc[:, 'platelet_min_na'] = np.where(sub_train_x_red['platelet_min'].isna(), 1, 0)\n",
    "sub_train_x_red.loc[:, 'sodium_min_na'] = np.where(sub_train_x_red['sodium_min'].isna(), 1, 0)\n",
    "sub_train_x_red.loc[:, 'wbc_min_na'] = np.where(sub_train_x_red['wbc_min'].isna(), 1, 0)"
   ]
  },
  {
   "cell_type": "code",
   "execution_count": 45,
   "id": "0d4515a4",
   "metadata": {},
   "outputs": [],
   "source": [
    "val_x_red.loc[:, 'alp_max_na'] = np.where(val_x_red['alp_max'].isna(), 1, 0)\n",
    "val_x_red.loc[:, 'alt_max_na'] = np.where(val_x_red['alt_max'].isna(), 1, 0)\n",
    "val_x_red.loc[:, 'ast_max_na'] = np.where(val_x_red['ast_max'].isna(), 1, 0)\n",
    "val_x_red.loc[:, 'cea_max_na'] = np.where(val_x_red['cea_max'].isna(), 1, 0)\n",
    "val_x_red.loc[:, 'creatinine_max_na'] = np.where(val_x_red['creatinine_max'].isna(), 1, 0)\n",
    "val_x_red.loc[:, 'total_bilirubin_max_na'] = np.where(val_x_red['total_bilirubin_max'].isna(), 1, 0)\n",
    "val_x_red.loc[:, 'wbc_max_na'] = np.where(val_x_red['wbc_max'].isna(), 1, 0)\n",
    "val_x_red.loc[:, 'albumin_min_na'] = np.where(val_x_red['albumin_min'].isna(), 1, 0)\n",
    "val_x_red.loc[:, 'bicarb_min_na'] = np.where(val_x_red['bicarb_min'].isna(), 1, 0)\n",
    "val_x_red.loc[:, 'hemoglobin_min_na'] = np.where(val_x_red['hemoglobin_min'].isna(), 1, 0)\n",
    "val_x_red.loc[:, 'platelet_min_na'] = np.where(val_x_red['platelet_min'].isna(), 1, 0)\n",
    "val_x_red.loc[:, 'sodium_min_na'] = np.where(val_x_red['sodium_min'].isna(), 1, 0)\n",
    "val_x_red.loc[:, 'wbc_min_na'] = np.where(val_x_red['wbc_min'].isna(), 1, 0)"
   ]
  },
  {
   "cell_type": "code",
   "execution_count": 46,
   "id": "3f698fa3",
   "metadata": {},
   "outputs": [],
   "source": [
    "# List of numeric variables, excluding binary variables. \n",
    "numerical_features_red = [\n",
    "    'age',\n",
    "    'delta_met_diagnosis',\n",
    "    'weight_diag',\n",
    "    'bmi_diag',\n",
    "    'weight_pct_change',\n",
    "    'weight_slope',\n",
    "    'albumin_diag',\n",
    "    'alp_diag',\n",
    "    'alt_diag',\n",
    "    'ast_diag',\n",
    "    'bicarb_diag',\n",
    "    'bun_diag',\n",
    "    'calcium_diag',\n",
    "    'cea_diag',\n",
    "    'chloride_diag',\n",
    "    'creatinine_diag',\n",
    "    'hemoglobin_diag',\n",
    "    'neutrophil_count_diag',\n",
    "    'platelet_diag',\n",
    "    'potassium_diag',\n",
    "    'sodium_diag',\n",
    "    'total_bilirubin_diag',\n",
    "    'wbc_diag',\n",
    "    'alp_max',\n",
    "    'alt_max',\n",
    "    'ast_max',\n",
    "    'cea_max',\n",
    "    'creatinine_max',\n",
    "    'total_bilirubin_max',\n",
    "    'wbc_max',\n",
    "    'albumin_min',\n",
    "    'bicarb_min',\n",
    "    'hemoglobin_min',\n",
    "    'platelet_min',\n",
    "    'sodium_min',\n",
    "    'wbc_min',\n",
    "    'icd_count']\n",
    "\n",
    "# Transformer will impute column medians and then apply a standard scaler. \n",
    "numerical_transformer = Pipeline(steps = [\n",
    "    ('imputer', SimpleImputer(strategy = 'median')),\n",
    "    ('std_scaler', StandardScaler())])"
   ]
  },
  {
   "cell_type": "code",
   "execution_count": 47,
   "id": "f07bdd24",
   "metadata": {},
   "outputs": [],
   "source": [
    "preprocessor_red = ColumnTransformer(\n",
    "    transformers = [\n",
    "        ('num', numerical_transformer, numerical_features_red),\n",
    "        ('cat', categorical_transformer, categorical_features)],\n",
    "    remainder = 'passthrough')"
   ]
  },
  {
   "cell_type": "code",
   "execution_count": 48,
   "id": "2125c279",
   "metadata": {},
   "outputs": [
    {
     "name": "stdout",
     "output_type": "stream",
     "text": [
      "(20589, 133)\n",
      "(20589,)\n",
      "(6863, 133)\n",
      "(6863,)\n"
     ]
    }
   ],
   "source": [
    "print(sub_train_x_red.shape)\n",
    "print(sub_train_y.shape)\n",
    "print(val_x_red.shape)\n",
    "print(val_y.shape)"
   ]
  },
  {
   "cell_type": "code",
   "execution_count": 49,
   "id": "baa295e6",
   "metadata": {},
   "outputs": [
    {
     "name": "stdout",
     "output_type": "stream",
     "text": [
      "      Iter       Train Loss      OOB Improve   Remaining Time \n",
      "         1       84529.4393          15.4646          129.15m\n",
      "         2       84016.3610          14.6283          129.16m\n",
      "         3       84133.4956          14.0001          129.13m\n",
      "         4       84292.2341          12.8811          129.04m\n",
      "         5       84370.9267          13.0463          128.92m\n",
      "         6       84568.0617          11.2994          128.86m\n",
      "         7       84326.9335          11.4357          128.77m\n",
      "         8       84247.0321          11.8914          128.68m\n",
      "         9       84114.6359          10.9153          128.60m\n",
      "        10       84159.6151          11.0497          128.51m\n",
      "        20       83969.3383           8.0121          127.64m\n",
      "        30       83713.4536           5.0310          126.79m\n",
      "        40       83526.4321           3.5761          125.92m\n",
      "        50       83019.6035           3.0704          125.07m\n",
      "        60       83007.7535           2.9063          124.19m\n",
      "        70       82503.5727           1.7885          123.33m\n",
      "        80       83341.8911           1.6259          122.46m\n",
      "        90       82797.8123           1.2093          121.60m\n",
      "       100       82810.9823           1.8210          120.73m\n",
      "       200       82112.7687           0.5467          111.96m\n",
      "       300       81908.2902           0.2853          103.08m\n",
      "       400       81852.6306           0.1362           94.40m\n",
      "       500       81791.0021           0.1912           85.94m\n",
      "       600       81756.8814          -0.1904           77.44m\n",
      "       700       81274.5626           0.0569           68.86m\n",
      "       800       81250.0343          -0.1152           60.28m\n",
      "       900       81279.7644          -0.1808           51.70m\n",
      "      1000       80507.7905          -0.0980           43.09m\n"
     ]
    },
    {
     "data": {
      "text/plain": [
       "GradientBoostingSurvivalAnalysis(learning_rate=0.05, n_estimators=1500,\n",
       "                                 random_state=42, subsample=0.75, verbose=1)"
      ]
     },
     "execution_count": 49,
     "metadata": {},
     "output_type": "execute_result"
    }
   ],
   "source": [
    "sub_train_xt_red = preprocessor_red.fit_transform(sub_train_x_red)\n",
    "val_xt_red = preprocessor_red.transform(val_x_red)\n",
    "\n",
    "gbm_exp2 = GradientBoostingSurvivalAnalysis(n_estimators = 1500,\n",
    "                                           learning_rate = 0.05,\n",
    "                                           max_depth = 3,\n",
    "                                           subsample = 0.75,\n",
    "                                           verbose = 1,\n",
    "                                           random_state = 42)\n",
    "\n",
    "gbm_exp2.fit(sub_train_xt_red, sub_train_y)"
   ]
  },
  {
   "cell_type": "code",
   "execution_count": 50,
   "id": "55ba521b",
   "metadata": {},
   "outputs": [],
   "source": [
    "gbm2_staged_auc = [cumulative_dynamic_auc(sub_train_y, val_y, risk_score, 730)[0][0] for \n",
    "                   risk_score in gbm_exp2.staged_predict(val_xt_red)]"
   ]
  },
  {
   "cell_type": "code",
   "execution_count": 51,
   "id": "913e6c8d",
   "metadata": {},
   "outputs": [],
   "source": [
    "gbm2_staged_auc_tr = [cumulative_dynamic_auc(sub_train_y, sub_train_y, risk_score, 730)[0][0] for \n",
    "                      risk_score in gbm_exp2.staged_predict(sub_train_xt_red)]"
   ]
  },
  {
   "cell_type": "code",
   "execution_count": 52,
   "id": "5d0a2b26",
   "metadata": {},
   "outputs": [
    {
     "data": {
      "image/png": "[encoded data removed]",
      "text/plain": [
       "<Figure size 640x480 with 1 Axes>"
      ]
     },
     "metadata": {},
     "output_type": "display_data"
    }
   ],
   "source": [
    "fig = plt.figure()\n",
    "ax = fig.add_subplot(1, 1, 1)\n",
    "\n",
    "x = range(len(gbm2_staged_auc))\n",
    "plt.plot(x, gbm2_staged_auc, color = 'blue', label = 'validation')\n",
    "plt.plot(x, gbm2_staged_auc_tr, color = 'red', label = 'training')\n",
    "plt.legend(loc = 'lower right')\n",
    "\n",
    "plt.xlabel(\"n_estimators\")\n",
    "plt.ylabel(\"AUC at 2-years\")\n",
    "plt.title('Gradient boosting model learning curve for sparse dataset')\n",
    "\n",
    "plt.show()"
   ]
  },
  {
   "cell_type": "code",
   "execution_count": 53,
   "id": "508971e1",
   "metadata": {},
   "outputs": [],
   "source": [
    "# Average AUC for every 25 additional trees. \n",
    "mean2_auc_list = []\n",
    "for x in np.arange(0, len(gbm2_staged_auc), 25):\n",
    "    mean2_auc_list.append(np.mean(gbm2_staged_auc[x:x+24]))"
   ]
  },
  {
   "cell_type": "code",
   "execution_count": 54,
   "id": "90e778ec",
   "metadata": {},
   "outputs": [
    {
     "name": "stdout",
     "output_type": "stream",
     "text": [
      "Number of trees where 2 year AUC on validation dataset beings to downgrade: 1125\n",
      "Validation dataset AUC before degrading: 0.7532038289126652\n",
      "Training dataset AUC before degrading: 0.7997658565432086\n"
     ]
    }
   ],
   "source": [
    "print('Number of trees where 2 year AUC on validation dataset beings to downgrade:', np.where(np.diff(mean2_auc_list) < 0)[0][0]*25)\n",
    "print('Validation dataset AUC before degrading:', gbm2_staged_auc[np.where(np.diff(mean2_auc_list) < 0)[0][0]*25])\n",
    "print('Training dataset AUC before degrading:', gbm2_staged_auc_tr[np.where(np.diff(mean2_auc_list) < 0)[0][0]*25])"
   ]
  },
  {
   "cell_type": "markdown",
   "id": "bf4b39a1",
   "metadata": {},
   "source": [
    "**Performance of the sparse model appears about equivalent to the full model in regards to discriminatory performance on the validation set. The advantages of using the sparse model include less risk of overfitting of training set, faster computational speed, and improved interpretability of feature importance. In addition, there might be improved imputations of missing values with MICE. For these reasons, we'll plan to proceed with the sparse model.**"
   ]
  },
  {
   "cell_type": "markdown",
   "id": "78f14c78",
   "metadata": {},
   "source": [
    "### 2.3 Further tuning of tree hyperparameters"
   ]
  },
  {
   "cell_type": "markdown",
   "id": "594e180e",
   "metadata": {},
   "source": [
    "**Tree depth and subsample will be tuned using a halving grid search with 3-fold cross validation. The other main tree hyperparameter is the minimum sample size in a terminal node (ie., leaf), but since we're using short trees it's unlikely to have significant impact on performance and so we'll omit from the parameter search to save computing time.** \n",
    "\n",
    "**Performing a traditional cartesian grid search for gradient boosting model tree hyperparameters is computationally challengng. A halving grid search approach is selected instead since it is much faster. The major drawback of the halving grid search is that good configurations that are slow to converge at the beginning will be pruned prematurely so you can’t be entirely ensure that you’ve identified the best hyperparameters.**  \n",
    "\n",
    "**As you can see below, our parameter search space is very small. This is because even with a halving grid search it takes considerable time to build models on this dataset.** "
   ]
  },
  {
   "cell_type": "code",
   "execution_count": 55,
   "id": "f04d74e5",
   "metadata": {},
   "outputs": [],
   "source": [
    "train_x_red = train_x.drop(columns = drop_labs)"
   ]
  },
  {
   "cell_type": "code",
   "execution_count": 56,
   "id": "fc5e1886",
   "metadata": {},
   "outputs": [],
   "source": [
    "train_x_red.loc[:, 'alp_max_na'] = np.where(train_x_red['alp_max'].isna(), 1, 0)\n",
    "train_x_red.loc[:, 'alt_max_na'] = np.where(train_x_red['alt_max'].isna(), 1, 0)\n",
    "train_x_red.loc[:, 'ast_max_na'] = np.where(train_x_red['ast_max'].isna(), 1, 0)\n",
    "train_x_red.loc[:, 'cea_max_na'] = np.where(train_x_red['cea_max'].isna(), 1, 0)\n",
    "train_x_red.loc[:, 'creatinine_max_na'] = np.where(train_x_red['creatinine_max'].isna(), 1, 0)\n",
    "train_x_red.loc[:, 'total_bilirubin_max_na'] = np.where(train_x_red['total_bilirubin_max'].isna(), 1, 0)\n",
    "train_x_red.loc[:, 'wbc_max_na'] = np.where(train_x_red['wbc_max'].isna(), 1, 0)\n",
    "train_x_red.loc[:, 'albumin_min_na'] = np.where(train_x_red['albumin_min'].isna(), 1, 0)\n",
    "train_x_red.loc[:, 'bicarb_min_na'] = np.where(train_x_red['bicarb_min'].isna(), 1, 0)\n",
    "train_x_red.loc[:, 'hemoglobin_min_na'] = np.where(train_x_red['hemoglobin_min'].isna(), 1, 0)\n",
    "train_x_red.loc[:, 'platelet_min_na'] = np.where(train_x_red['platelet_min'].isna(), 1, 0)\n",
    "train_x_red.loc[:, 'sodium_min_na'] = np.where(train_x_red['sodium_min'].isna(), 1, 0)\n",
    "train_x_red.loc[:, 'wbc_min_na'] = np.where(train_x_red['wbc_min'].isna(), 1, 0)"
   ]
  },
  {
   "cell_type": "code",
   "execution_count": 57,
   "id": "01247ed4",
   "metadata": {},
   "outputs": [
    {
     "data": {
      "text/plain": [
       "(27452, 133)"
      ]
     },
     "execution_count": 57,
     "metadata": {},
     "output_type": "execute_result"
    }
   ],
   "source": [
    "train_x_red.shape"
   ]
  },
  {
   "cell_type": "code",
   "execution_count": 58,
   "id": "87ec2cfe",
   "metadata": {},
   "outputs": [
    {
     "data": {
      "text/plain": [
       "['estimator',\n",
       " 'estimator__columntransformer',\n",
       " 'estimator__columntransformer__cat',\n",
       " 'estimator__columntransformer__cat__categories',\n",
       " 'estimator__columntransformer__cat__drop',\n",
       " 'estimator__columntransformer__cat__dtype',\n",
       " 'estimator__columntransformer__cat__handle_unknown',\n",
       " 'estimator__columntransformer__cat__sparse',\n",
       " 'estimator__columntransformer__n_jobs',\n",
       " 'estimator__columntransformer__num',\n",
       " 'estimator__columntransformer__num__imputer',\n",
       " 'estimator__columntransformer__num__imputer__add_indicator',\n",
       " 'estimator__columntransformer__num__imputer__copy',\n",
       " 'estimator__columntransformer__num__imputer__fill_value',\n",
       " 'estimator__columntransformer__num__imputer__missing_values',\n",
       " 'estimator__columntransformer__num__imputer__strategy',\n",
       " 'estimator__columntransformer__num__imputer__verbose',\n",
       " 'estimator__columntransformer__num__memory',\n",
       " 'estimator__columntransformer__num__std_scaler',\n",
       " 'estimator__columntransformer__num__std_scaler__copy',\n",
       " 'estimator__columntransformer__num__std_scaler__with_mean',\n",
       " 'estimator__columntransformer__num__std_scaler__with_std',\n",
       " 'estimator__columntransformer__num__steps',\n",
       " 'estimator__columntransformer__num__verbose',\n",
       " 'estimator__columntransformer__remainder',\n",
       " 'estimator__columntransformer__sparse_threshold',\n",
       " 'estimator__columntransformer__transformer_weights',\n",
       " 'estimator__columntransformer__transformers',\n",
       " 'estimator__columntransformer__verbose',\n",
       " 'estimator__columntransformer__verbose_feature_names_out',\n",
       " 'estimator__gradientboostingsurvivalanalysis',\n",
       " 'estimator__gradientboostingsurvivalanalysis__ccp_alpha',\n",
       " 'estimator__gradientboostingsurvivalanalysis__criterion',\n",
       " 'estimator__gradientboostingsurvivalanalysis__dropout_rate',\n",
       " 'estimator__gradientboostingsurvivalanalysis__learning_rate',\n",
       " 'estimator__gradientboostingsurvivalanalysis__loss',\n",
       " 'estimator__gradientboostingsurvivalanalysis__max_depth',\n",
       " 'estimator__gradientboostingsurvivalanalysis__max_features',\n",
       " 'estimator__gradientboostingsurvivalanalysis__max_leaf_nodes',\n",
       " 'estimator__gradientboostingsurvivalanalysis__min_impurity_decrease',\n",
       " 'estimator__gradientboostingsurvivalanalysis__min_samples_leaf',\n",
       " 'estimator__gradientboostingsurvivalanalysis__min_samples_split',\n",
       " 'estimator__gradientboostingsurvivalanalysis__min_weight_fraction_leaf',\n",
       " 'estimator__gradientboostingsurvivalanalysis__n_estimators',\n",
       " 'estimator__gradientboostingsurvivalanalysis__random_state',\n",
       " 'estimator__gradientboostingsurvivalanalysis__subsample',\n",
       " 'estimator__gradientboostingsurvivalanalysis__verbose',\n",
       " 'estimator__memory',\n",
       " 'estimator__steps',\n",
       " 'estimator__verbose',\n",
       " 'tied_tol',\n",
       " 'times']"
      ]
     },
     "execution_count": 58,
     "metadata": {},
     "output_type": "execute_result"
    }
   ],
   "source": [
    "# Find all pipe item unique keys \n",
    "pipe = make_pipeline(preprocessor_red, GradientBoostingSurvivalAnalysis(n_estimators = np.where(np.diff(mean2_auc_list) < 0)[0][0]*25,\n",
    "                                                                        learning_rate = 0.05,\n",
    "                                                                        random_state = 42))\n",
    "\n",
    "estimator = as_cumulative_dynamic_auc_scorer(pipe, times = [730])\n",
    "\n",
    "sorted(estimator.get_params().keys())"
   ]
  },
  {
   "cell_type": "code",
   "execution_count": 59,
   "id": "20d0a2c5",
   "metadata": {},
   "outputs": [
    {
     "name": "stdout",
     "output_type": "stream",
     "text": [
      "n_iterations: 4\n",
      "n_required_iterations: 4\n",
      "n_possible_iterations: 4\n",
      "min_resources_: 3431\n",
      "max_resources_: 27452\n",
      "aggressive_elimination: False\n",
      "factor: 2\n",
      "----------\n",
      "iter: 0\n",
      "n_candidates: 9\n",
      "n_resources: 3431\n",
      "Fitting 3 folds for each of 9 candidates, totalling 27 fits\n",
      "----------\n",
      "iter: 1\n",
      "n_candidates: 5\n",
      "n_resources: 6862\n",
      "Fitting 3 folds for each of 5 candidates, totalling 15 fits\n",
      "----------\n",
      "iter: 2\n",
      "n_candidates: 3\n",
      "n_resources: 13724\n",
      "Fitting 3 folds for each of 3 candidates, totalling 9 fits\n",
      "----------\n",
      "iter: 3\n",
      "n_candidates: 2\n",
      "n_resources: 27448\n",
      "Fitting 3 folds for each of 2 candidates, totalling 6 fits\n"
     ]
    },
    {
     "data": {
      "text/plain": [
       "HalvingGridSearchCV(cv=StratifiedKFold(n_splits=3, random_state=42, shuffle=True),\n",
       "                    estimator=as_cumulative_dynamic_auc_scorer(estimator=Pipeline(steps=[('columntransformer',\n",
       "                                                                                          ColumnTransformer(remainder='passthrough',\n",
       "                                                                                                            transformers=[('num',\n",
       "                                                                                                                           Pipeline(steps=[('imputer',\n",
       "                                                                                                                                            SimpleImputer(strategy='median')),\n",
       "                                                                                                                                           ('std_scaler',\n",
       "                                                                                                                                            StandardScaler())]),\n",
       "                                                                                                                           ['age',\n",
       "                                                                                                                            'delta_met_diag...\n",
       "                                                                                                                            'ecog_diagnosis'])])),\n",
       "                                                                                         ('gradientboostingsurvivalanalysis',\n",
       "                                                                                          GradientBoostingSurvivalAnalysis(learning_rate=0.05,\n",
       "                                                                                                                           n_estimators=1125,\n",
       "                                                                                                                           random_state=42))]),\n",
       "                                                               times=730),\n",
       "                    factor=2, n_jobs=-1,\n",
       "                    param_grid={'estimator__gradientboostingsurvivalanalysis__max_depth': [2,\n",
       "                                                                                           3,\n",
       "                                                                                           4],\n",
       "                                'estimator__gradientboostingsurvivalanalysis__subsample': [0.5,\n",
       "                                                                                           0.75,\n",
       "                                                                                           0.9]},\n",
       "                    random_state=42, refit=False, verbose=1)"
      ]
     },
     "execution_count": 59,
     "metadata": {},
     "output_type": "execute_result"
    }
   ],
   "source": [
    "pipe = make_pipeline(preprocessor_red, GradientBoostingSurvivalAnalysis(n_estimators = 1125,\n",
    "                                                                        learning_rate = 0.05,\n",
    "                                                                        random_state = 42))\n",
    "\n",
    "# 3 fold cross-validation\n",
    "cv = StratifiedKFold(n_splits = 3, shuffle = True, random_state = 42)\n",
    "\n",
    "# Parameter gird \n",
    "param_grid = {'estimator__gradientboostingsurvivalanalysis__max_depth': [2, 3, 4], \n",
    "              'estimator__gradientboostingsurvivalanalysis__subsample': [0.5, 0.75, 0.9]}\n",
    "\n",
    "gbm_search = HalvingGridSearchCV(\n",
    "    as_cumulative_dynamic_auc_scorer(pipe, 730),\n",
    "    param_grid,\n",
    "    cv = cv,\n",
    "    factor = 2,\n",
    "    resource = 'n_samples',\n",
    "    refit = False,\n",
    "    verbose = 1,\n",
    "    random_state = 42,\n",
    "    n_jobs = -1)\n",
    "\n",
    "# Run search \n",
    "warnings.filterwarnings('ignore')\n",
    "gbm_search.fit(train_x_red, train_y)"
   ]
  },
  {
   "cell_type": "code",
   "execution_count": 60,
   "id": "12ffa38c",
   "metadata": {},
   "outputs": [
    {
     "data": {
      "text/plain": [
       "{'estimator__gradientboostingsurvivalanalysis__max_depth': 4,\n",
       " 'estimator__gradientboostingsurvivalanalysis__subsample': 0.75}"
      ]
     },
     "execution_count": 60,
     "metadata": {},
     "output_type": "execute_result"
    }
   ],
   "source": [
    "gbm_search.best_params_"
   ]
  },
  {
   "cell_type": "markdown",
   "id": "0e931681",
   "metadata": {},
   "source": [
    "### 2.4 Building and evaluating final model "
   ]
  },
  {
   "cell_type": "code",
   "execution_count": 61,
   "id": "c2efa62b",
   "metadata": {},
   "outputs": [],
   "source": [
    "test_x_red = test_x.drop(columns = drop_labs)"
   ]
  },
  {
   "cell_type": "code",
   "execution_count": 62,
   "id": "fe928e11",
   "metadata": {},
   "outputs": [],
   "source": [
    "test_x_red.loc[:, 'alp_max_na'] = np.where(test_x_red['alp_max'].isna(), 1, 0)\n",
    "test_x_red.loc[:, 'alt_max_na'] = np.where(test_x_red['alt_max'].isna(), 1, 0)\n",
    "test_x_red.loc[:, 'ast_max_na'] = np.where(test_x_red['ast_max'].isna(), 1, 0)\n",
    "test_x_red.loc[:, 'cea_max_na'] = np.where(test_x_red['cea_max'].isna(), 1, 0)\n",
    "test_x_red.loc[:, 'creatinine_max_na'] = np.where(test_x_red['creatinine_max'].isna(), 1, 0)\n",
    "test_x_red.loc[:, 'total_bilirubin_max_na'] = np.where(test_x_red['total_bilirubin_max'].isna(), 1, 0)\n",
    "test_x_red.loc[:, 'wbc_max_na'] = np.where(test_x_red['wbc_max'].isna(), 1, 0)\n",
    "test_x_red.loc[:, 'albumin_min_na'] = np.where(test_x_red['albumin_min'].isna(), 1, 0)\n",
    "test_x_red.loc[:, 'bicarb_min_na'] = np.where(test_x_red['bicarb_min'].isna(), 1, 0)\n",
    "test_x_red.loc[:, 'hemoglobin_min_na'] = np.where(test_x_red['hemoglobin_min'].isna(), 1, 0)\n",
    "test_x_red.loc[:, 'platelet_min_na'] = np.where(test_x_red['platelet_min'].isna(), 1, 0)\n",
    "test_x_red.loc[:, 'sodium_min_na'] = np.where(test_x_red['sodium_min'].isna(), 1, 0)\n",
    "test_x_red.loc[:, 'wbc_min_na'] = np.where(test_x_red['wbc_min'].isna(), 1, 0)"
   ]
  },
  {
   "cell_type": "code",
   "execution_count": 63,
   "id": "1c1f7d2d",
   "metadata": {},
   "outputs": [
    {
     "data": {
      "text/plain": [
       "(6863, 133)"
      ]
     },
     "execution_count": 63,
     "metadata": {},
     "output_type": "execute_result"
    }
   ],
   "source": [
    "test_x_red.shape"
   ]
  },
  {
   "cell_type": "code",
   "execution_count": 64,
   "id": "b18bcec2",
   "metadata": {},
   "outputs": [
    {
     "name": "stdout",
     "output_type": "stream",
     "text": [
      "      Iter       Train Loss      OOB Improve   Remaining Time \n",
      "         1      115856.7893          22.3985          172.97m\n",
      "         2      115469.9661          22.0759          173.34m\n",
      "         3      115765.9822          20.5756          172.95m\n",
      "         4      115739.5821          20.1801          172.52m\n",
      "         5      115225.7202          18.8744          172.14m\n",
      "         6      115355.4775          18.9821          171.85m\n",
      "         7      115583.8044          16.6703          171.76m\n",
      "         8      115837.8858          16.4890          171.54m\n",
      "         9      115551.6666          16.5213          171.31m\n",
      "        10      115307.4494          15.4502          171.08m\n",
      "        20      115022.6785          10.9582          169.28m\n",
      "        30      114660.1962           7.9982          167.66m\n",
      "        40      113813.1434           5.7297          166.18m\n",
      "        50      114005.4395           4.9972          165.24m\n",
      "        60      113682.1690           4.4735          163.60m\n",
      "        70      114007.2083           3.0629          161.97m\n",
      "        80      113368.4649           2.5386          160.35m\n",
      "        90      113350.2950           1.8274          158.76m\n",
      "       100      113262.1221           2.0279          157.18m\n",
      "       200      112367.9520           1.1546          142.07m\n",
      "       300      112241.2356           0.0769          126.99m\n",
      "       400      111841.6399          -0.0277          111.78m\n",
      "       500      111336.6858           0.2649           96.50m\n",
      "       600      111347.5307          -0.4586           81.09m\n",
      "       700      111386.2633          -0.1757           65.68m\n",
      "       800      110738.6662          -0.2106           50.24m\n",
      "       900      110353.5710          -0.1745           34.80m\n",
      "      1000      110274.1885          -0.2363           19.34m\n"
     ]
    },
    {
     "data": {
      "text/plain": [
       "Pipeline(steps=[('columntransformer',\n",
       "                 ColumnTransformer(remainder='passthrough',\n",
       "                                   transformers=[('num',\n",
       "                                                  Pipeline(steps=[('imputer',\n",
       "                                                                   SimpleImputer(strategy='median')),\n",
       "                                                                  ('std_scaler',\n",
       "                                                                   StandardScaler())]),\n",
       "                                                  ['age', 'delta_met_diagnosis',\n",
       "                                                   'weight_diag', 'bmi_diag',\n",
       "                                                   'weight_pct_change',\n",
       "                                                   'weight_slope',\n",
       "                                                   'albumin_diag', 'alp_diag',\n",
       "                                                   'alt_diag', 'ast_diag',\n",
       "                                                   'bicarb_diag', 'bun...\n",
       "                                                   'total_bilirubin_max',\n",
       "                                                   'wbc_max', ...]),\n",
       "                                                 ('cat',\n",
       "                                                  OneHotEncoder(handle_unknown='ignore'),\n",
       "                                                  ['gender', 'p_type', 'stage',\n",
       "                                                   'met_year', 'crc_site',\n",
       "                                                   'KRAS', 'dMMR_MSIh', 'NRAS',\n",
       "                                                   'BRAF',\n",
       "                                                   'ecog_diagnosis'])])),\n",
       "                ('gradientboostingsurvivalanalysis',\n",
       "                 GradientBoostingSurvivalAnalysis(learning_rate=0.05,\n",
       "                                                  max_depth=4,\n",
       "                                                  n_estimators=1125,\n",
       "                                                  random_state=42,\n",
       "                                                  subsample=0.75, verbose=1))])"
      ]
     },
     "execution_count": 64,
     "metadata": {},
     "output_type": "execute_result"
    }
   ],
   "source": [
    "gbm_crude = make_pipeline(preprocessor_red, GradientBoostingSurvivalAnalysis(n_estimators = 1125,\n",
    "                                                                             learning_rate = 0.05,\n",
    "                                                                             max_depth = 4,\n",
    "                                                                             subsample = 0.75,\n",
    "                                                                             verbose = 1,\n",
    "                                                                             random_state = 42))\n",
    "\n",
    "gbm_crude.fit(train_x_red, train_y)"
   ]
  },
  {
   "cell_type": "code",
   "execution_count": 65,
   "id": "7f689432",
   "metadata": {},
   "outputs": [
    {
     "name": "stdout",
     "output_type": "stream",
     "text": [
      "Test set AUC at 2 years: 0.767783955292382\n"
     ]
    }
   ],
   "source": [
    "gbm_risk_scores_te = gbm_crude.predict(test_x_red)\n",
    "gbm_auc_te = cumulative_dynamic_auc(train_y, test_y, gbm_risk_scores_te, 730)[0][0]\n",
    "print('Test set AUC at 2 years:', gbm_auc_te)"
   ]
  },
  {
   "cell_type": "code",
   "execution_count": 66,
   "id": "aac955f4",
   "metadata": {},
   "outputs": [
    {
     "name": "stdout",
     "output_type": "stream",
     "text": [
      "Training set AUC at 2 years: 0.8171274389342686\n"
     ]
    }
   ],
   "source": [
    "gbm_risk_scores_tr = gbm_crude.predict(train_x_red)\n",
    "gbm_auc_tr = cumulative_dynamic_auc(train_y, train_y, gbm_risk_scores_tr, 730)[0][0]\n",
    "print('Training set AUC at 2 years:', gbm_auc_tr)"
   ]
  },
  {
   "cell_type": "code",
   "execution_count": 67,
   "id": "6249fc41",
   "metadata": {},
   "outputs": [],
   "source": [
    "# Bootstrap 10000 2 yr AUCs for test set \n",
    "n_bootstraps = 10000\n",
    "rng_seed = 42 \n",
    "bootstrapped_scores_te = []\n",
    "\n",
    "rng = np.random.RandomState(rng_seed)\n",
    "for i in range(n_bootstraps):\n",
    "    indices = rng.randint(0, len(gbm_risk_scores_te), len(gbm_risk_scores_te))\n",
    "    auc_yr = cumulative_dynamic_auc(train_y, test_y[indices], gbm_risk_scores_te[indices], 730)[0][0]\n",
    "    bootstrapped_scores_te.append(auc_yr)"
   ]
  },
  {
   "cell_type": "code",
   "execution_count": 68,
   "id": "eb0c4afe",
   "metadata": {},
   "outputs": [
    {
     "name": "stdout",
     "output_type": "stream",
     "text": [
      "Test set AUC standard error: 0.006411237965204615\n"
     ]
    }
   ],
   "source": [
    "# Standard error of mean for test set AUC\n",
    "sorted_scores_te = np.array(bootstrapped_scores_te)\n",
    "sorted_scores_te.sort()\n",
    "\n",
    "conf_lower_te = sorted_scores_te[int(0.025 * len(sorted_scores_te))]\n",
    "conf_upper_te = sorted_scores_te[int(0.975 * len(sorted_scores_te))]\n",
    "\n",
    "standard_error_te = (conf_upper_te - conf_lower_te) / 3.92\n",
    "print('Test set AUC standard error:', standard_error_te)"
   ]
  },
  {
   "cell_type": "code",
   "execution_count": 69,
   "id": "f5198098",
   "metadata": {},
   "outputs": [],
   "source": [
    "# Bootstrap 10000 2-yr AUCs for train set \n",
    "n_bootstraps = 10000\n",
    "rng_seed = 42 \n",
    "bootstrapped_scores_tr = []\n",
    "\n",
    "rng = np.random.RandomState(rng_seed)\n",
    "for i in range(n_bootstraps):\n",
    "    indices = rng.randint(0, len(gbm_risk_scores_tr), len(gbm_risk_scores_tr))\n",
    "    auc_yr = cumulative_dynamic_auc(train_y, train_y[indices], gbm_risk_scores_tr[indices], 730)[0][0]\n",
    "    bootstrapped_scores_tr.append(auc_yr)"
   ]
  },
  {
   "cell_type": "code",
   "execution_count": 70,
   "id": "67dabfff",
   "metadata": {},
   "outputs": [
    {
     "name": "stdout",
     "output_type": "stream",
     "text": [
      "Training set AUC standard error 0.0028411881670296307\n"
     ]
    }
   ],
   "source": [
    "# Standard error of mean for train set AUC\n",
    "sorted_scores_tr = np.array(bootstrapped_scores_tr)\n",
    "sorted_scores_tr.sort()\n",
    "\n",
    "conf_lower_tr = sorted_scores_tr[int(0.025 * len(sorted_scores_tr))]\n",
    "conf_upper_tr = sorted_scores_tr[int(0.975 * len(sorted_scores_tr))]\n",
    "\n",
    "standard_error_tr = (conf_upper_tr - conf_lower_tr) / 3.92\n",
    "print('Training set AUC standard error', standard_error_tr)"
   ]
  },
  {
   "cell_type": "code",
   "execution_count": 71,
   "id": "071f7766",
   "metadata": {},
   "outputs": [],
   "source": [
    "crude_auc_data = {'model': ['gbm_crude'],\n",
    "                  'auc_2yr_te': [gbm_auc_te],\n",
    "                  'sem_te': [standard_error_te],\n",
    "                  'auc_2yr_tr': [gbm_auc_tr],\n",
    "                  'sem_tr': [standard_error_tr]}\n",
    "\n",
    "crude_auc_df = pd.DataFrame(crude_auc_data)"
   ]
  },
  {
   "cell_type": "code",
   "execution_count": 72,
   "id": "0f0af58d",
   "metadata": {},
   "outputs": [
    {
     "data": {
      "text/html": [
       "<div>\n",
       "<style scoped>\n",
       "    .dataframe tbody tr th:only-of-type {\n",
       "        vertical-align: middle;\n",
       "    }\n",
       "\n",
       "    .dataframe tbody tr th {\n",
       "        vertical-align: top;\n",
       "    }\n",
       "\n",
       "    .dataframe thead th {\n",
       "        text-align: right;\n",
       "    }\n",
       "</style>\n",
       "<table border=\"1\" class=\"dataframe\">\n",
       "  <thead>\n",
       "    <tr style=\"text-align: right;\">\n",
       "      <th></th>\n",
       "      <th>model</th>\n",
       "      <th>auc_2yr_te</th>\n",
       "      <th>sem_te</th>\n",
       "      <th>auc_2yr_tr</th>\n",
       "      <th>sem_tr</th>\n",
       "    </tr>\n",
       "  </thead>\n",
       "  <tbody>\n",
       "    <tr>\n",
       "      <th>0</th>\n",
       "      <td>gbm_crude</td>\n",
       "      <td>0.767784</td>\n",
       "      <td>0.006411</td>\n",
       "      <td>0.817127</td>\n",
       "      <td>0.002841</td>\n",
       "    </tr>\n",
       "  </tbody>\n",
       "</table>\n",
       "</div>"
      ],
      "text/plain": [
       "       model  auc_2yr_te    sem_te  auc_2yr_tr    sem_tr\n",
       "0  gbm_crude    0.767784  0.006411    0.817127  0.002841"
      ]
     },
     "execution_count": 72,
     "metadata": {},
     "output_type": "execute_result"
    }
   ],
   "source": [
    "crude_auc_df"
   ]
  },
  {
   "cell_type": "code",
   "execution_count": 73,
   "id": "fa1ace4c",
   "metadata": {},
   "outputs": [],
   "source": [
    "crude_auc_df.to_csv('crude_auc_df.csv', index = False, header = True)"
   ]
  },
  {
   "cell_type": "code",
   "execution_count": 74,
   "id": "e394f1e6",
   "metadata": {},
   "outputs": [],
   "source": [
    "times = np.arange(30, 1810, 30)\n",
    "crude_gbm_auc_over5 = cumulative_dynamic_auc(train_y, test_y, gbm_risk_scores_te, times)[0]\n",
    "\n",
    "times_data = {}\n",
    "values = crude_gbm_auc_over5\n",
    "time_names = []\n",
    "\n",
    "for x in range(len(times)):\n",
    "    time_names.append('time_'+str(times[x]))\n",
    "\n",
    "for i in range(len(time_names)):\n",
    "    times_data[time_names[i]] = values[i]\n",
    "    \n",
    "crude_auc_over5 = pd.DataFrame(times_data, index = ['gbm_crude'])"
   ]
  },
  {
   "cell_type": "code",
   "execution_count": 75,
   "id": "525ce4ec",
   "metadata": {},
   "outputs": [
    {
     "data": {
      "text/html": [
       "<div>\n",
       "<style scoped>\n",
       "    .dataframe tbody tr th:only-of-type {\n",
       "        vertical-align: middle;\n",
       "    }\n",
       "\n",
       "    .dataframe tbody tr th {\n",
       "        vertical-align: top;\n",
       "    }\n",
       "\n",
       "    .dataframe thead th {\n",
       "        text-align: right;\n",
       "    }\n",
       "</style>\n",
       "<table border=\"1\" class=\"dataframe\">\n",
       "  <thead>\n",
       "    <tr style=\"text-align: right;\">\n",
       "      <th></th>\n",
       "      <th>time_30</th>\n",
       "      <th>time_60</th>\n",
       "      <th>time_90</th>\n",
       "      <th>time_120</th>\n",
       "      <th>time_150</th>\n",
       "      <th>time_180</th>\n",
       "      <th>time_210</th>\n",
       "      <th>time_240</th>\n",
       "      <th>time_270</th>\n",
       "      <th>time_300</th>\n",
       "      <th>...</th>\n",
       "      <th>time_1530</th>\n",
       "      <th>time_1560</th>\n",
       "      <th>time_1590</th>\n",
       "      <th>time_1620</th>\n",
       "      <th>time_1650</th>\n",
       "      <th>time_1680</th>\n",
       "      <th>time_1710</th>\n",
       "      <th>time_1740</th>\n",
       "      <th>time_1770</th>\n",
       "      <th>time_1800</th>\n",
       "    </tr>\n",
       "  </thead>\n",
       "  <tbody>\n",
       "    <tr>\n",
       "      <th>gbm_crude</th>\n",
       "      <td>0.86304</td>\n",
       "      <td>0.887528</td>\n",
       "      <td>0.86897</td>\n",
       "      <td>0.852051</td>\n",
       "      <td>0.845859</td>\n",
       "      <td>0.839303</td>\n",
       "      <td>0.831652</td>\n",
       "      <td>0.826657</td>\n",
       "      <td>0.821665</td>\n",
       "      <td>0.813642</td>\n",
       "      <td>...</td>\n",
       "      <td>0.737866</td>\n",
       "      <td>0.736845</td>\n",
       "      <td>0.735535</td>\n",
       "      <td>0.733043</td>\n",
       "      <td>0.73132</td>\n",
       "      <td>0.729743</td>\n",
       "      <td>0.732027</td>\n",
       "      <td>0.735634</td>\n",
       "      <td>0.733641</td>\n",
       "      <td>0.734174</td>\n",
       "    </tr>\n",
       "  </tbody>\n",
       "</table>\n",
       "<p>1 rows × 60 columns</p>\n",
       "</div>"
      ],
      "text/plain": [
       "           time_30   time_60  time_90  time_120  time_150  time_180  time_210  \\\n",
       "gbm_crude  0.86304  0.887528  0.86897  0.852051  0.845859  0.839303  0.831652   \n",
       "\n",
       "           time_240  time_270  time_300  ...  time_1530  time_1560  time_1590  \\\n",
       "gbm_crude  0.826657  0.821665  0.813642  ...   0.737866   0.736845   0.735535   \n",
       "\n",
       "           time_1620  time_1650  time_1680  time_1710  time_1740  time_1770  \\\n",
       "gbm_crude   0.733043    0.73132   0.729743   0.732027   0.735634   0.733641   \n",
       "\n",
       "           time_1800  \n",
       "gbm_crude   0.734174  \n",
       "\n",
       "[1 rows x 60 columns]"
      ]
     },
     "execution_count": 75,
     "metadata": {},
     "output_type": "execute_result"
    }
   ],
   "source": [
    "crude_auc_over5"
   ]
  },
  {
   "cell_type": "code",
   "execution_count": 76,
   "id": "96d7e8e2",
   "metadata": {},
   "outputs": [],
   "source": [
    "crude_auc_over5.to_csv('crude_auc_over5.csv', index = True, header = True)"
   ]
  },
  {
   "cell_type": "code",
   "execution_count": 77,
   "id": "1488f41e",
   "metadata": {},
   "outputs": [],
   "source": [
    "# Variables passing through pipeline\n",
    "cat_encoder = list(preprocessor_red.transformers_[1][1].get_feature_names(categorical_features))\n",
    "pass_through = list(train_x_red.iloc[:, preprocessor_red.transformers_[2][2]].columns)\n",
    "attributes_gbm = numerical_features_red + cat_encoder + pass_through"
   ]
  },
  {
   "cell_type": "code",
   "execution_count": 78,
   "id": "55313b37",
   "metadata": {},
   "outputs": [
    {
     "name": "stdout",
     "output_type": "stream",
     "text": [
      "Total number of features: 168\n",
      "Number of non-zero features in final model: 166\n"
     ]
    },
    {
     "data": {
      "image/png": "[encoded data removed]",
      "text/plain": [
       "<Figure size 600x800 with 1 Axes>"
      ]
     },
     "metadata": {},
     "output_type": "display_data"
    }
   ],
   "source": [
    "# Dataframe of coefficients for each variable \n",
    "coefficients_gbm = pd.DataFrame(\n",
    "    gbm_crude.named_steps['gradientboostingsurvivalanalysis'].feature_importances_,\n",
    "    index = attributes_gbm,\n",
    "    columns = ['coefficient']\n",
    ")\n",
    "\n",
    "print('Total number of features: {}'.format(len(attributes_gbm)))\n",
    "\n",
    "non_zero = np.sum(coefficients_gbm.iloc[:, 0] != 0)\n",
    "print('Number of non-zero features in final model: {}'.format(non_zero))\n",
    "\n",
    "non_zero_coefs = coefficients_gbm.query('coefficient != 0')\n",
    "coef_order = non_zero_coefs.abs().sort_values('coefficient').tail(30).index\n",
    "\n",
    "_, ax = plt.subplots(figsize=(6, 8))\n",
    "non_zero_coefs.loc[coef_order].plot.barh(ax = ax, legend = False)\n",
    "ax.set_xlabel('coefficient')\n",
    "ax.grid(True)"
   ]
  },
  {
   "cell_type": "code",
   "execution_count": 79,
   "id": "44f33483",
   "metadata": {},
   "outputs": [],
   "source": [
    "coefficients_gbm = (\n",
    "    coefficients_gbm\n",
    "    .reset_index()\n",
    "    .rename(columns = {'index':'variable'}))"
   ]
  },
  {
   "cell_type": "code",
   "execution_count": 80,
   "id": "993e71a6",
   "metadata": {},
   "outputs": [],
   "source": [
    "coefficients_gbm.to_csv('coefficients_gbm.csv', index = False, header = True)"
   ]
  },
  {
   "cell_type": "markdown",
   "id": "d103ba6f",
   "metadata": {},
   "source": [
    "## 3 Random survival forest model"
   ]
  },
  {
   "cell_type": "code",
   "execution_count": 81,
   "id": "7693e132",
   "metadata": {},
   "outputs": [],
   "source": [
    "from sklearn.experimental import enable_halving_search_cv\n",
    "from sklearn.model_selection import StratifiedKFold, HalvingRandomSearchCV\n",
    "from sklearn.pipeline import make_pipeline\n",
    "\n",
    "from sksurv.metrics import cumulative_dynamic_auc, as_cumulative_dynamic_auc_scorer\n",
    "\n",
    "from sksurv.ensemble import RandomSurvivalForest\n",
    "\n",
    "from joblib import dump, load \n",
    "\n",
    "import warnings "
   ]
  },
  {
   "cell_type": "markdown",
   "id": "45050112",
   "metadata": {},
   "source": [
    "**Similar to the gradient boosting survival model, the random survival model will first be configured by determining ideal number of trees using early stopping. Unlike the gradient boosting survival model, performance of the test set should not decrease with additional trees, so the main consideration is ensuring sufficiently high number of trees to achieve optimal test performance while minimzing computational time (ie., not building unnecessary number of trees). Once the ideal tree number is identified, a halving grid search with 3-fold cross validation will be performed to tune hyperparameters, though random forest models typically have excellent out-of-the-box performance so tuning will be cursory.**  "
   ]
  },
  {
   "cell_type": "markdown",
   "id": "ee3fcfa6",
   "metadata": {},
   "source": [
    "### 3.1 Number of trees "
   ]
  },
  {
   "cell_type": "code",
   "execution_count": 82,
   "id": "f2f6bdd1",
   "metadata": {},
   "outputs": [],
   "source": [
    "# Create function that adds tree one at a time, calculates AUC at 1-yr on validation set, \n",
    "# and breaks once validation AUC decreases 5 times in a row\n",
    "\n",
    "rsf = RandomSurvivalForest(min_samples_leaf = 10,\n",
    "                           max_features = 0.333,\n",
    "                           warm_start = True,\n",
    "                           verbose = 0,\n",
    "                           random_state = 42)\n",
    "\n",
    "sub_train_xt_red = preprocessor_red.fit_transform(sub_train_x_red)\n",
    "val_xt_red = preprocessor_red.transform(val_x_red)\n",
    "\n",
    "max_yr_auc = 0\n",
    "error_going_up = 0\n",
    "\n",
    "for n_estimators in range(1, 1000): \n",
    "    rsf.n_estimators = n_estimators\n",
    "    rsf.fit(sub_train_xt_red, sub_train_y)\n",
    "    \n",
    "    rsf_chf_funcs = rsf.predict_cumulative_hazard_function(val_xt_red)\n",
    "    rsf_risk_scores = np.row_stack([chf(730) for chf in rsf_chf_funcs])\n",
    "    rsf_yr_auc = cumulative_dynamic_auc(sub_train_y, val_y, rsf_risk_scores, 730)[0][0]\n",
    "    \n",
    "    if rsf_yr_auc > max_yr_auc:\n",
    "        max_yr_auc = rsf_yr_auc\n",
    "        error_going_up = 0\n",
    "    else:\n",
    "        error_going_up += 1\n",
    "        if error_going_up == 5:\n",
    "            break"
   ]
  },
  {
   "cell_type": "code",
   "execution_count": 83,
   "id": "1f577610",
   "metadata": {},
   "outputs": [
    {
     "name": "stdout",
     "output_type": "stream",
     "text": [
      "Ideal number of trees: 49\n",
      "Validation set AUC at 2 years with ideal tree number: 0.73024\n"
     ]
    }
   ],
   "source": [
    "rsf_chf_funcs = rsf.predict_cumulative_hazard_function(val_xt_red)\n",
    "rsf_risk_scores = np.row_stack([chf(730) for chf in rsf_chf_funcs])\n",
    "rsf_yr_auc = cumulative_dynamic_auc(sub_train_y, val_y, rsf_risk_scores, 730)[0][0]\n",
    "\n",
    "print('Ideal number of trees:', rsf.n_estimators)\n",
    "print('Validation set AUC at 2 years with ideal tree number:', round(rsf_yr_auc, 5))"
   ]
  },
  {
   "cell_type": "markdown",
   "id": "875b8492",
   "metadata": {},
   "source": [
    "### 3.2 Hyperparameter tuning "
   ]
  },
  {
   "cell_type": "markdown",
   "id": "b74c214b",
   "metadata": {},
   "source": [
    "**Seventy five trees will likely be enough to ensure optimal AUC performance. Next, we'll perform a grid search to tune hyperparameters. The hyperparamter with the largest impact on performance other than tree number is the number of features considered at any given split (ie., max_features). (Side note: if the number of features considered at each split includes all features (ie., max_features = 1) then the algrorithm will be equivalent to bagging decision trees.) Tree complexity, specifically number of samples in leaf nodes, will also be tuned in the grid search, though its impact on performance is likely marginal in comparison to number of trees or number of features considered at each split.** "
   ]
  },
  {
   "cell_type": "code",
   "execution_count": 84,
   "id": "f2bf34f0",
   "metadata": {},
   "outputs": [
    {
     "data": {
      "text/plain": [
       "['estimator',\n",
       " 'estimator__columntransformer',\n",
       " 'estimator__columntransformer__cat',\n",
       " 'estimator__columntransformer__cat__categories',\n",
       " 'estimator__columntransformer__cat__drop',\n",
       " 'estimator__columntransformer__cat__dtype',\n",
       " 'estimator__columntransformer__cat__handle_unknown',\n",
       " 'estimator__columntransformer__cat__sparse',\n",
       " 'estimator__columntransformer__n_jobs',\n",
       " 'estimator__columntransformer__num',\n",
       " 'estimator__columntransformer__num__imputer',\n",
       " 'estimator__columntransformer__num__imputer__add_indicator',\n",
       " 'estimator__columntransformer__num__imputer__copy',\n",
       " 'estimator__columntransformer__num__imputer__fill_value',\n",
       " 'estimator__columntransformer__num__imputer__missing_values',\n",
       " 'estimator__columntransformer__num__imputer__strategy',\n",
       " 'estimator__columntransformer__num__imputer__verbose',\n",
       " 'estimator__columntransformer__num__memory',\n",
       " 'estimator__columntransformer__num__std_scaler',\n",
       " 'estimator__columntransformer__num__std_scaler__copy',\n",
       " 'estimator__columntransformer__num__std_scaler__with_mean',\n",
       " 'estimator__columntransformer__num__std_scaler__with_std',\n",
       " 'estimator__columntransformer__num__steps',\n",
       " 'estimator__columntransformer__num__verbose',\n",
       " 'estimator__columntransformer__remainder',\n",
       " 'estimator__columntransformer__sparse_threshold',\n",
       " 'estimator__columntransformer__transformer_weights',\n",
       " 'estimator__columntransformer__transformers',\n",
       " 'estimator__columntransformer__verbose',\n",
       " 'estimator__columntransformer__verbose_feature_names_out',\n",
       " 'estimator__memory',\n",
       " 'estimator__randomsurvivalforest',\n",
       " 'estimator__randomsurvivalforest__bootstrap',\n",
       " 'estimator__randomsurvivalforest__max_depth',\n",
       " 'estimator__randomsurvivalforest__max_features',\n",
       " 'estimator__randomsurvivalforest__max_leaf_nodes',\n",
       " 'estimator__randomsurvivalforest__max_samples',\n",
       " 'estimator__randomsurvivalforest__min_samples_leaf',\n",
       " 'estimator__randomsurvivalforest__min_samples_split',\n",
       " 'estimator__randomsurvivalforest__min_weight_fraction_leaf',\n",
       " 'estimator__randomsurvivalforest__n_estimators',\n",
       " 'estimator__randomsurvivalforest__n_jobs',\n",
       " 'estimator__randomsurvivalforest__oob_score',\n",
       " 'estimator__randomsurvivalforest__random_state',\n",
       " 'estimator__randomsurvivalforest__verbose',\n",
       " 'estimator__randomsurvivalforest__warm_start',\n",
       " 'estimator__steps',\n",
       " 'estimator__verbose',\n",
       " 'tied_tol',\n",
       " 'times']"
      ]
     },
     "execution_count": 84,
     "metadata": {},
     "output_type": "execute_result"
    }
   ],
   "source": [
    "# Find all pipe item unique keys \n",
    "pipe = make_pipeline(preprocessor_red, RandomSurvivalForest(n_estimators = 75,\n",
    "                                                            verbose = 0,\n",
    "                                                            random_state = 42))\n",
    "\n",
    "estimator = as_cumulative_dynamic_auc_scorer(pipe, times = [730])\n",
    "\n",
    "sorted(estimator.get_params().keys())"
   ]
  },
  {
   "cell_type": "code",
   "execution_count": 85,
   "id": "3f2f71ba",
   "metadata": {},
   "outputs": [
    {
     "name": "stdout",
     "output_type": "stream",
     "text": [
      "n_iterations: 4\n",
      "n_required_iterations: 4\n",
      "n_possible_iterations: 4\n",
      "min_resources_: 2500\n",
      "max_resources_: 27452\n",
      "aggressive_elimination: False\n",
      "factor: 2\n",
      "----------\n",
      "iter: 0\n",
      "n_candidates: 10\n",
      "n_resources: 2500\n",
      "Fitting 3 folds for each of 10 candidates, totalling 30 fits\n",
      "----------\n",
      "iter: 1\n",
      "n_candidates: 5\n",
      "n_resources: 5000\n",
      "Fitting 3 folds for each of 5 candidates, totalling 15 fits\n",
      "----------\n",
      "iter: 2\n",
      "n_candidates: 3\n",
      "n_resources: 10000\n",
      "Fitting 3 folds for each of 3 candidates, totalling 9 fits\n",
      "----------\n",
      "iter: 3\n",
      "n_candidates: 2\n",
      "n_resources: 20000\n",
      "Fitting 3 folds for each of 2 candidates, totalling 6 fits\n"
     ]
    },
    {
     "data": {
      "text/plain": [
       "HalvingRandomSearchCV(cv=StratifiedKFold(n_splits=3, random_state=42, shuffle=True),\n",
       "                      estimator=as_cumulative_dynamic_auc_scorer(estimator=Pipeline(steps=[('columntransformer',\n",
       "                                                                                            ColumnTransformer(remainder='passthrough',\n",
       "                                                                                                              transformers=[('num',\n",
       "                                                                                                                             Pipeline(steps=[('imputer',\n",
       "                                                                                                                                              SimpleImputer(strategy='median')),\n",
       "                                                                                                                                             ('std_scaler',\n",
       "                                                                                                                                              StandardScaler())]),\n",
       "                                                                                                                             ['age',\n",
       "                                                                                                                              'delta_met_di...\n",
       "                                                                                                                              'BRAF',\n",
       "                                                                                                                              'ecog_diagnosis'])])),\n",
       "                                                                                           ('randomsurvivalforest',\n",
       "                                                                                            RandomSurvivalForest(n_estimators=75,\n",
       "                                                                                                                 random_state=42))]),\n",
       "                                                                 times=730),\n",
       "                      factor=2, min_resources=2500, n_jobs=-1,\n",
       "                      param_distributions={'estimator__randomsurvivalforest__max_features': [0.01,\n",
       "                                                                                             0.05,\n",
       "                                                                                             0.1,\n",
       "                                                                                             0.333],\n",
       "                                           'estimator__randomsurvivalforest__min_samples_leaf': [5,\n",
       "                                                                                                 10,\n",
       "                                                                                                 15]},\n",
       "                      random_state=42, refit=False, verbose=1)"
      ]
     },
     "execution_count": 85,
     "metadata": {},
     "output_type": "execute_result"
    }
   ],
   "source": [
    "pipe = make_pipeline(preprocessor_red, RandomSurvivalForest(n_estimators = 75,\n",
    "                                                            verbose = 0,\n",
    "                                                            random_state = 42))\n",
    "\n",
    "# 3 fold cross-validation\n",
    "cv = StratifiedKFold(n_splits = 3, shuffle = True, random_state = 42)\n",
    "\n",
    "# Parameter gird \n",
    "param_grid = {'estimator__randomsurvivalforest__max_features': [0.01, 0.05, 0.1, 0.333], \n",
    "              'estimator__randomsurvivalforest__min_samples_leaf': [5, 10, 15]}\n",
    "\n",
    "rsf_search = HalvingRandomSearchCV(\n",
    "    as_cumulative_dynamic_auc_scorer(pipe, 730),\n",
    "    param_distributions = param_grid,\n",
    "    cv = cv,\n",
    "    factor = 2,\n",
    "    resource = 'n_samples',\n",
    "    min_resources = 2500,\n",
    "    refit = False,\n",
    "    verbose = 1,\n",
    "    random_state = 42,\n",
    "    n_jobs = -1)\n",
    "\n",
    "# Run search \n",
    "warnings.filterwarnings('ignore')\n",
    "rsf_search.fit(train_x_red, train_y)"
   ]
  },
  {
   "cell_type": "code",
   "execution_count": 85,
   "id": "155af85e",
   "metadata": {},
   "outputs": [
    {
     "data": {
      "text/plain": [
       "{'estimator__randomsurvivalforest__min_samples_leaf': 10,\n",
       " 'estimator__randomsurvivalforest__max_features': 0.1}"
      ]
     },
     "execution_count": 112,
     "metadata": {},
     "output_type": "execute_result"
    }
   ],
   "source": [
    "rsf_search.best_params_"
   ]
  },
  {
   "cell_type": "markdown",
   "id": "23b0cc48",
   "metadata": {},
   "source": [
    "### 3.3 Building model and assessing performance"
   ]
  },
  {
   "cell_type": "code",
   "execution_count": 86,
   "id": "25126fce",
   "metadata": {},
   "outputs": [
    {
     "data": {
      "text/plain": [
       "Pipeline(steps=[('columntransformer',\n",
       "                 ColumnTransformer(remainder='passthrough',\n",
       "                                   transformers=[('num',\n",
       "                                                  Pipeline(steps=[('imputer',\n",
       "                                                                   SimpleImputer(strategy='median')),\n",
       "                                                                  ('std_scaler',\n",
       "                                                                   StandardScaler())]),\n",
       "                                                  ['age', 'delta_met_diagnosis',\n",
       "                                                   'weight_diag', 'bmi_diag',\n",
       "                                                   'weight_pct_change',\n",
       "                                                   'weight_slope',\n",
       "                                                   'albumin_diag', 'alp_diag',\n",
       "                                                   'alt_diag', 'ast_diag',\n",
       "                                                   'bicarb_diag', 'bun...\n",
       "                                                   'alt_max', 'ast_max',\n",
       "                                                   'cea_max', 'creatinine_max',\n",
       "                                                   'total_bilirubin_max',\n",
       "                                                   'wbc_max', ...]),\n",
       "                                                 ('cat',\n",
       "                                                  OneHotEncoder(handle_unknown='ignore'),\n",
       "                                                  ['gender', 'p_type', 'stage',\n",
       "                                                   'met_year', 'crc_site',\n",
       "                                                   'KRAS', 'dMMR_MSIh', 'NRAS',\n",
       "                                                   'BRAF',\n",
       "                                                   'ecog_diagnosis'])])),\n",
       "                ('randomsurvivalforest',\n",
       "                 RandomSurvivalForest(max_features=0.1, min_samples_leaf=10,\n",
       "                                      n_estimators=75, n_jobs=-1,\n",
       "                                      random_state=42))])"
      ]
     },
     "execution_count": 86,
     "metadata": {},
     "output_type": "execute_result"
    }
   ],
   "source": [
    "rsf = make_pipeline(preprocessor_red, RandomSurvivalForest(n_estimators = 75,\n",
    "                                                           max_features = 0.1, \n",
    "                                                           min_samples_leaf = 10,\n",
    "                                                           n_jobs = -1,\n",
    "                                                           verbose = 0,\n",
    "                                                           random_state = 42))\n",
    "\n",
    "rsf.fit(train_x_red, train_y)"
   ]
  },
  {
   "cell_type": "code",
   "execution_count": 87,
   "id": "5c31cc2e",
   "metadata": {},
   "outputs": [
    {
     "name": "stdout",
     "output_type": "stream",
     "text": [
      "Test set AUC at 2 years: 0.7434424184938201\n"
     ]
    }
   ],
   "source": [
    "rsf_chf_funcs_te = rsf.predict_cumulative_hazard_function(test_x_red)\n",
    "rsf_risk_scores_te = np.row_stack([chf(730) for chf in rsf_chf_funcs_te])\n",
    "rsf_auc_te = cumulative_dynamic_auc(train_y, test_y, rsf_risk_scores_te, 730)[0][0]\n",
    "print('Test set AUC at 2 years:', rsf_auc_te)"
   ]
  },
  {
   "cell_type": "code",
   "execution_count": 88,
   "id": "d45a1491",
   "metadata": {},
   "outputs": [
    {
     "name": "stdout",
     "output_type": "stream",
     "text": [
      "Training set AUC at 2 years: 0.8787907073665366\n"
     ]
    }
   ],
   "source": [
    "rsf_chf_funcs_tr = rsf.predict_cumulative_hazard_function(train_x_red)\n",
    "rsf_risk_scores_tr = np.row_stack([chf(730) for chf in rsf_chf_funcs_tr])\n",
    "rsf_auc_tr = cumulative_dynamic_auc(train_y, train_y, rsf_risk_scores_tr, 730)[0][0]\n",
    "print('Training set AUC at 2 years:', rsf_auc_tr)"
   ]
  },
  {
   "cell_type": "code",
   "execution_count": 89,
   "id": "f6703658",
   "metadata": {},
   "outputs": [],
   "source": [
    "# Bootstrap 10000 2 yr AUCs for test set \n",
    "n_bootstraps = 10000\n",
    "rng_seed = 42 \n",
    "bootstrapped_scores_te = []\n",
    "\n",
    "rng = np.random.RandomState(rng_seed)\n",
    "for i in range(n_bootstraps):\n",
    "    indices = rng.randint(0, len(rsf_risk_scores_te), len(rsf_risk_scores_te))\n",
    "    auc_yr = cumulative_dynamic_auc(train_y, test_y[indices], rsf_risk_scores_te[indices], 730)[0][0]\n",
    "    bootstrapped_scores_te.append(auc_yr)"
   ]
  },
  {
   "cell_type": "code",
   "execution_count": 90,
   "id": "37d90ee8",
   "metadata": {},
   "outputs": [
    {
     "name": "stdout",
     "output_type": "stream",
     "text": [
      "Test set AUC standard error: 0.006667320298418312\n"
     ]
    }
   ],
   "source": [
    "# Standard error of mean for test set AUC\n",
    "sorted_scores_te = np.array(bootstrapped_scores_te)\n",
    "sorted_scores_te.sort()\n",
    "\n",
    "conf_lower_te = sorted_scores_te[int(0.025 * len(sorted_scores_te))]\n",
    "conf_upper_te = sorted_scores_te[int(0.975 * len(sorted_scores_te))]\n",
    "\n",
    "standard_error_te = (conf_upper_te - conf_lower_te) / 3.92\n",
    "print('Test set AUC standard error:', standard_error_te)"
   ]
  },
  {
   "cell_type": "code",
   "execution_count": 91,
   "id": "8bb5ef19",
   "metadata": {},
   "outputs": [],
   "source": [
    "# Bootstrap 10000 2-yr AUCs for train set \n",
    "n_bootstraps = 10000\n",
    "rng_seed = 42 \n",
    "bootstrapped_scores_tr = []\n",
    "\n",
    "rng = np.random.RandomState(rng_seed)\n",
    "for i in range(n_bootstraps):\n",
    "    indices = rng.randint(0, len(rsf_risk_scores_tr), len(rsf_risk_scores_tr))\n",
    "    auc_yr = cumulative_dynamic_auc(train_y, train_y[indices], rsf_risk_scores_tr[indices], 730)[0][0]\n",
    "    bootstrapped_scores_tr.append(auc_yr)"
   ]
  },
  {
   "cell_type": "code",
   "execution_count": 92,
   "id": "1cb44d38",
   "metadata": {},
   "outputs": [
    {
     "name": "stdout",
     "output_type": "stream",
     "text": [
      "Training set AUC standard error 0.0022804167850300687\n"
     ]
    }
   ],
   "source": [
    "# Standard error of mean for train set AUC\n",
    "sorted_scores_tr = np.array(bootstrapped_scores_tr)\n",
    "sorted_scores_tr.sort()\n",
    "\n",
    "conf_lower_tr = sorted_scores_tr[int(0.025 * len(sorted_scores_tr))]\n",
    "conf_upper_tr = sorted_scores_tr[int(0.975 * len(sorted_scores_tr))]\n",
    "\n",
    "standard_error_tr = (conf_upper_tr - conf_lower_tr) / 3.92\n",
    "print('Training set AUC standard error', standard_error_tr)"
   ]
  },
  {
   "cell_type": "code",
   "execution_count": 93,
   "id": "6dc9287a",
   "metadata": {},
   "outputs": [],
   "source": [
    "crude_auc_data = {'model': 'rsf_crude',\n",
    "                  'auc_2yr_te': rsf_auc_te,\n",
    "                  'sem_te': standard_error_te,\n",
    "                  'auc_2yr_tr': rsf_auc_tr,\n",
    "                  'sem_tr': standard_error_tr}"
   ]
  },
  {
   "cell_type": "code",
   "execution_count": 94,
   "id": "218a27a4",
   "metadata": {},
   "outputs": [],
   "source": [
    "crude_auc_df = pd.read_csv('crude_auc_df.csv')"
   ]
  },
  {
   "cell_type": "code",
   "execution_count": 95,
   "id": "b037f3bf",
   "metadata": {},
   "outputs": [],
   "source": [
    "crude_auc_df = crude_auc_df.append(crude_auc_data, ignore_index = True)"
   ]
  },
  {
   "cell_type": "code",
   "execution_count": 96,
   "id": "e725e6f8",
   "metadata": {},
   "outputs": [
    {
     "data": {
      "text/html": [
       "<div>\n",
       "<style scoped>\n",
       "    .dataframe tbody tr th:only-of-type {\n",
       "        vertical-align: middle;\n",
       "    }\n",
       "\n",
       "    .dataframe tbody tr th {\n",
       "        vertical-align: top;\n",
       "    }\n",
       "\n",
       "    .dataframe thead th {\n",
       "        text-align: right;\n",
       "    }\n",
       "</style>\n",
       "<table border=\"1\" class=\"dataframe\">\n",
       "  <thead>\n",
       "    <tr style=\"text-align: right;\">\n",
       "      <th></th>\n",
       "      <th>model</th>\n",
       "      <th>auc_2yr_te</th>\n",
       "      <th>sem_te</th>\n",
       "      <th>auc_2yr_tr</th>\n",
       "      <th>sem_tr</th>\n",
       "    </tr>\n",
       "  </thead>\n",
       "  <tbody>\n",
       "    <tr>\n",
       "      <th>0</th>\n",
       "      <td>gbm_crude</td>\n",
       "      <td>0.767784</td>\n",
       "      <td>0.006411</td>\n",
       "      <td>0.817127</td>\n",
       "      <td>0.002841</td>\n",
       "    </tr>\n",
       "    <tr>\n",
       "      <th>1</th>\n",
       "      <td>rsf_crude</td>\n",
       "      <td>0.743442</td>\n",
       "      <td>0.006667</td>\n",
       "      <td>0.878791</td>\n",
       "      <td>0.002280</td>\n",
       "    </tr>\n",
       "  </tbody>\n",
       "</table>\n",
       "</div>"
      ],
      "text/plain": [
       "       model  auc_2yr_te    sem_te  auc_2yr_tr    sem_tr\n",
       "0  gbm_crude    0.767784  0.006411    0.817127  0.002841\n",
       "1  rsf_crude    0.743442  0.006667    0.878791  0.002280"
      ]
     },
     "execution_count": 96,
     "metadata": {},
     "output_type": "execute_result"
    }
   ],
   "source": [
    "crude_auc_df"
   ]
  },
  {
   "cell_type": "code",
   "execution_count": 97,
   "id": "21e444e2",
   "metadata": {},
   "outputs": [],
   "source": [
    "crude_auc_df.to_csv('crude_auc_df.csv', index = False, header = True)"
   ]
  },
  {
   "cell_type": "code",
   "execution_count": 98,
   "id": "30708d2f",
   "metadata": {},
   "outputs": [],
   "source": [
    "times = np.arange(30, 1810, 30)\n",
    "\n",
    "rsf_chf_funcs_te = rsf.predict_cumulative_hazard_function(test_x_red)\n",
    "rsf_risk_scores_te = np.row_stack([chf(times) for chf in rsf_chf_funcs_te])\n",
    "crude_rsf_auc_over5 = cumulative_dynamic_auc(train_y, test_y, rsf_risk_scores_te, times)[0]\n",
    "\n",
    "times_data = {}\n",
    "values = crude_rsf_auc_over5\n",
    "time_names = []\n",
    "\n",
    "for x in range(len(times)):\n",
    "    time_names.append('time_'+str(times[x]))\n",
    "\n",
    "for i in range(len(time_names)):\n",
    "    times_data[time_names[i]] = values[i]\n",
    "    \n",
    "crude_rsf_over5_df = pd.DataFrame(times_data, index = ['rsf_crude'])"
   ]
  },
  {
   "cell_type": "code",
   "execution_count": 99,
   "id": "913f10ac",
   "metadata": {},
   "outputs": [],
   "source": [
    "crude_auc_over5 = pd.read_csv('crude_auc_over5.csv', index_col = 0)"
   ]
  },
  {
   "cell_type": "code",
   "execution_count": 100,
   "id": "b3fdc779",
   "metadata": {},
   "outputs": [],
   "source": [
    "crude_auc_over5 = crude_auc_over5.append(crude_rsf_over5_df, ignore_index = False)"
   ]
  },
  {
   "cell_type": "code",
   "execution_count": 101,
   "id": "8ae6efda",
   "metadata": {},
   "outputs": [
    {
     "data": {
      "text/html": [
       "<div>\n",
       "<style scoped>\n",
       "    .dataframe tbody tr th:only-of-type {\n",
       "        vertical-align: middle;\n",
       "    }\n",
       "\n",
       "    .dataframe tbody tr th {\n",
       "        vertical-align: top;\n",
       "    }\n",
       "\n",
       "    .dataframe thead th {\n",
       "        text-align: right;\n",
       "    }\n",
       "</style>\n",
       "<table border=\"1\" class=\"dataframe\">\n",
       "  <thead>\n",
       "    <tr style=\"text-align: right;\">\n",
       "      <th></th>\n",
       "      <th>time_30</th>\n",
       "      <th>time_60</th>\n",
       "      <th>time_90</th>\n",
       "      <th>time_120</th>\n",
       "      <th>time_150</th>\n",
       "      <th>time_180</th>\n",
       "      <th>time_210</th>\n",
       "      <th>time_240</th>\n",
       "      <th>time_270</th>\n",
       "      <th>time_300</th>\n",
       "      <th>...</th>\n",
       "      <th>time_1530</th>\n",
       "      <th>time_1560</th>\n",
       "      <th>time_1590</th>\n",
       "      <th>time_1620</th>\n",
       "      <th>time_1650</th>\n",
       "      <th>time_1680</th>\n",
       "      <th>time_1710</th>\n",
       "      <th>time_1740</th>\n",
       "      <th>time_1770</th>\n",
       "      <th>time_1800</th>\n",
       "    </tr>\n",
       "  </thead>\n",
       "  <tbody>\n",
       "    <tr>\n",
       "      <th>gbm_crude</th>\n",
       "      <td>0.863040</td>\n",
       "      <td>0.887528</td>\n",
       "      <td>0.868970</td>\n",
       "      <td>0.852051</td>\n",
       "      <td>0.845859</td>\n",
       "      <td>0.839303</td>\n",
       "      <td>0.831652</td>\n",
       "      <td>0.826657</td>\n",
       "      <td>0.821665</td>\n",
       "      <td>0.813642</td>\n",
       "      <td>...</td>\n",
       "      <td>0.737866</td>\n",
       "      <td>0.736845</td>\n",
       "      <td>0.735535</td>\n",
       "      <td>0.733043</td>\n",
       "      <td>0.731320</td>\n",
       "      <td>0.729743</td>\n",
       "      <td>0.732027</td>\n",
       "      <td>0.735634</td>\n",
       "      <td>0.733641</td>\n",
       "      <td>0.734174</td>\n",
       "    </tr>\n",
       "    <tr>\n",
       "      <th>rsf_crude</th>\n",
       "      <td>0.862053</td>\n",
       "      <td>0.878603</td>\n",
       "      <td>0.858918</td>\n",
       "      <td>0.836291</td>\n",
       "      <td>0.832149</td>\n",
       "      <td>0.826267</td>\n",
       "      <td>0.818698</td>\n",
       "      <td>0.810690</td>\n",
       "      <td>0.803914</td>\n",
       "      <td>0.793836</td>\n",
       "      <td>...</td>\n",
       "      <td>0.722668</td>\n",
       "      <td>0.722200</td>\n",
       "      <td>0.719687</td>\n",
       "      <td>0.718749</td>\n",
       "      <td>0.720869</td>\n",
       "      <td>0.718863</td>\n",
       "      <td>0.719523</td>\n",
       "      <td>0.723091</td>\n",
       "      <td>0.720314</td>\n",
       "      <td>0.720979</td>\n",
       "    </tr>\n",
       "  </tbody>\n",
       "</table>\n",
       "<p>2 rows × 60 columns</p>\n",
       "</div>"
      ],
      "text/plain": [
       "            time_30   time_60   time_90  time_120  time_150  time_180  \\\n",
       "gbm_crude  0.863040  0.887528  0.868970  0.852051  0.845859  0.839303   \n",
       "rsf_crude  0.862053  0.878603  0.858918  0.836291  0.832149  0.826267   \n",
       "\n",
       "           time_210  time_240  time_270  time_300  ...  time_1530  time_1560  \\\n",
       "gbm_crude  0.831652  0.826657  0.821665  0.813642  ...   0.737866   0.736845   \n",
       "rsf_crude  0.818698  0.810690  0.803914  0.793836  ...   0.722668   0.722200   \n",
       "\n",
       "           time_1590  time_1620  time_1650  time_1680  time_1710  time_1740  \\\n",
       "gbm_crude   0.735535   0.733043   0.731320   0.729743   0.732027   0.735634   \n",
       "rsf_crude   0.719687   0.718749   0.720869   0.718863   0.719523   0.723091   \n",
       "\n",
       "           time_1770  time_1800  \n",
       "gbm_crude   0.733641   0.734174  \n",
       "rsf_crude   0.720314   0.720979  \n",
       "\n",
       "[2 rows x 60 columns]"
      ]
     },
     "execution_count": 101,
     "metadata": {},
     "output_type": "execute_result"
    }
   ],
   "source": [
    "crude_auc_over5"
   ]
  },
  {
   "cell_type": "code",
   "execution_count": 102,
   "id": "0fe86e77",
   "metadata": {},
   "outputs": [],
   "source": [
    "crude_auc_over5.to_csv('crude_auc_over5.csv', index = True, header = True)"
   ]
  },
  {
   "cell_type": "markdown",
   "id": "2a214b68",
   "metadata": {},
   "source": [
    "**No feature importance attribute is available at this time for the random survival forest model.**\n",
    "\n",
    "**The gradient survival model outperforms the random survival forest in regards to test set 2 year AUC.**"
   ]
  },
  {
   "cell_type": "markdown",
   "id": "192b32b8",
   "metadata": {},
   "source": [
    "## 4. Penalized Cox models "
   ]
  },
  {
   "cell_type": "markdown",
   "id": "354d9c48",
   "metadata": {},
   "source": [
    "**The next group of models we'll build is the penalized Cox variety which includes ridge, LASSO, and elastic net. The main challenge will be selecting the strength of the alpha penalty for each model. The penalty will be determined by performing a grid search with cross-validation.**"
   ]
  },
  {
   "cell_type": "code",
   "execution_count": 103,
   "id": "921782bd",
   "metadata": {},
   "outputs": [],
   "source": [
    "from sklearn.model_selection import StratifiedKFold, GridSearchCV\n",
    "from sklearn.pipeline import make_pipeline\n",
    "from sklearn.metrics import make_scorer\n",
    "\n",
    "from sksurv.linear_model import CoxPHSurvivalAnalysis, CoxnetSurvivalAnalysis\n",
    "from sksurv.metrics import cumulative_dynamic_auc, as_cumulative_dynamic_auc_scorer\n",
    "\n",
    "import warnings \n",
    "\n",
    "import matplotlib.pyplot as plt"
   ]
  },
  {
   "cell_type": "markdown",
   "id": "0a6baeca",
   "metadata": {},
   "source": [
    "### 4.1 Ridge"
   ]
  },
  {
   "cell_type": "code",
   "execution_count": 104,
   "id": "da717c19",
   "metadata": {},
   "outputs": [
    {
     "data": {
      "text/plain": [
       "['estimator',\n",
       " 'estimator__columntransformer',\n",
       " 'estimator__columntransformer__cat',\n",
       " 'estimator__columntransformer__cat__categories',\n",
       " 'estimator__columntransformer__cat__drop',\n",
       " 'estimator__columntransformer__cat__dtype',\n",
       " 'estimator__columntransformer__cat__handle_unknown',\n",
       " 'estimator__columntransformer__cat__sparse',\n",
       " 'estimator__columntransformer__n_jobs',\n",
       " 'estimator__columntransformer__num',\n",
       " 'estimator__columntransformer__num__imputer',\n",
       " 'estimator__columntransformer__num__imputer__add_indicator',\n",
       " 'estimator__columntransformer__num__imputer__copy',\n",
       " 'estimator__columntransformer__num__imputer__fill_value',\n",
       " 'estimator__columntransformer__num__imputer__missing_values',\n",
       " 'estimator__columntransformer__num__imputer__strategy',\n",
       " 'estimator__columntransformer__num__imputer__verbose',\n",
       " 'estimator__columntransformer__num__memory',\n",
       " 'estimator__columntransformer__num__std_scaler',\n",
       " 'estimator__columntransformer__num__std_scaler__copy',\n",
       " 'estimator__columntransformer__num__std_scaler__with_mean',\n",
       " 'estimator__columntransformer__num__std_scaler__with_std',\n",
       " 'estimator__columntransformer__num__steps',\n",
       " 'estimator__columntransformer__num__verbose',\n",
       " 'estimator__columntransformer__remainder',\n",
       " 'estimator__columntransformer__sparse_threshold',\n",
       " 'estimator__columntransformer__transformer_weights',\n",
       " 'estimator__columntransformer__transformers',\n",
       " 'estimator__columntransformer__verbose',\n",
       " 'estimator__columntransformer__verbose_feature_names_out',\n",
       " 'estimator__coxphsurvivalanalysis',\n",
       " 'estimator__coxphsurvivalanalysis__alpha',\n",
       " 'estimator__coxphsurvivalanalysis__n_iter',\n",
       " 'estimator__coxphsurvivalanalysis__ties',\n",
       " 'estimator__coxphsurvivalanalysis__tol',\n",
       " 'estimator__coxphsurvivalanalysis__verbose',\n",
       " 'estimator__memory',\n",
       " 'estimator__steps',\n",
       " 'estimator__verbose',\n",
       " 'tied_tol',\n",
       " 'times']"
      ]
     },
     "execution_count": 104,
     "metadata": {},
     "output_type": "execute_result"
    }
   ],
   "source": [
    "# Find all pipe item unique keys \n",
    "pipe = make_pipeline(preprocessor_red, CoxPHSurvivalAnalysis())\n",
    "\n",
    "estimator = as_cumulative_dynamic_auc_scorer(pipe, times = [730])\n",
    "\n",
    "sorted(estimator.get_params().keys())"
   ]
  },
  {
   "cell_type": "code",
   "execution_count": 106,
   "id": "3777a304",
   "metadata": {},
   "outputs": [
    {
     "data": {
      "text/plain": [
       "GridSearchCV(cv=StratifiedKFold(n_splits=5, random_state=42, shuffle=True),\n",
       "             estimator=as_cumulative_dynamic_auc_scorer(estimator=Pipeline(steps=[('columntransformer',\n",
       "                                                                                   ColumnTransformer(remainder='passthrough',\n",
       "                                                                                                     transformers=[('num',\n",
       "                                                                                                                    Pipeline(steps=[('imputer',\n",
       "                                                                                                                                     SimpleImputer(strategy='median')),\n",
       "                                                                                                                                    ('std_scaler',\n",
       "                                                                                                                                     StandardScaler())]),\n",
       "                                                                                                                    ['age',\n",
       "                                                                                                                     'delta_met_diagnosis',...\n",
       "             param_grid={'estimator__coxphsurvivalanalysis__alpha': array([1.00000000e-04, 2.15443469e-04, 4.64158883e-04, 1.00000000e-03,\n",
       "       2.15443469e-03, 4.64158883e-03, 1.00000000e-02, 2.15443469e-02,\n",
       "       4.64158883e-02, 1.00000000e-01, 2.15443469e-01, 4.64158883e-01,\n",
       "       1.00000000e+00, 2.15443469e+00, 4.64158883e+00, 1.00000000e+01,\n",
       "       2.15443469e+01, 4.64158883e+01, 1.00000000e+02, 2.15443469e+02,\n",
       "       4.64158883e+02, 1.00000000e+03, 2.15443469e+03, 4.64158883e+03,\n",
       "       1.00000000e+04])},\n",
       "             refit=False)"
      ]
     },
     "execution_count": 106,
     "metadata": {},
     "output_type": "execute_result"
    }
   ],
   "source": [
    "pipe = make_pipeline(preprocessor_red, CoxPHSurvivalAnalysis())\n",
    "\n",
    "# 5 fold cross-validation\n",
    "cv = StratifiedKFold(n_splits = 5, shuffle = True, random_state = 42)\n",
    "\n",
    "# Parameter gird \n",
    "param_grid = {'estimator__coxphsurvivalanalysis__alpha': 10. ** np.linspace(-4, 4, 25)}\n",
    "\n",
    "ridge_search = GridSearchCV(\n",
    "    as_cumulative_dynamic_auc_scorer(pipe, 730),\n",
    "    param_grid = param_grid,\n",
    "    cv = cv,\n",
    "    n_jobs = -1,\n",
    "    refit = False)\n",
    "\n",
    "# Run search \n",
    "warnings.filterwarnings('ignore')\n",
    "ridge_search.fit(train_x_red, train_y)"
   ]
  },
  {
   "cell_type": "code",
   "execution_count": 107,
   "id": "2a0715ee",
   "metadata": {},
   "outputs": [
    {
     "data": {
      "text/plain": [
       "{'estimator__coxphsurvivalanalysis__alpha': 46.41588833612773}"
      ]
     },
     "execution_count": 107,
     "metadata": {},
     "output_type": "execute_result"
    }
   ],
   "source": [
    "ridge_search.best_params_"
   ]
  },
  {
   "cell_type": "code",
   "execution_count": 108,
   "id": "e766d434",
   "metadata": {},
   "outputs": [],
   "source": [
    "best_ridge_alpha = ridge_search.best_params_.get('estimator__coxphsurvivalanalysis__alpha')"
   ]
  },
  {
   "cell_type": "code",
   "execution_count": 109,
   "id": "6b95c162",
   "metadata": {},
   "outputs": [
    {
     "data": {
      "text/plain": [
       "Pipeline(steps=[('columntransformer',\n",
       "                 ColumnTransformer(remainder='passthrough',\n",
       "                                   transformers=[('num',\n",
       "                                                  Pipeline(steps=[('imputer',\n",
       "                                                                   SimpleImputer(strategy='median')),\n",
       "                                                                  ('std_scaler',\n",
       "                                                                   StandardScaler())]),\n",
       "                                                  ['age', 'delta_met_diagnosis',\n",
       "                                                   'weight_diag', 'bmi_diag',\n",
       "                                                   'weight_pct_change',\n",
       "                                                   'weight_slope',\n",
       "                                                   'albumin_diag', 'alp_diag',\n",
       "                                                   'alt_diag', 'ast_diag',\n",
       "                                                   'bicarb_diag', 'bun...\n",
       "                                                   'total_bilirubin_diag',\n",
       "                                                   'wbc_diag', 'alp_max',\n",
       "                                                   'alt_max', 'ast_max',\n",
       "                                                   'cea_max', 'creatinine_max',\n",
       "                                                   'total_bilirubin_max',\n",
       "                                                   'wbc_max', ...]),\n",
       "                                                 ('cat',\n",
       "                                                  OneHotEncoder(handle_unknown='ignore'),\n",
       "                                                  ['gender', 'p_type', 'stage',\n",
       "                                                   'met_year', 'crc_site',\n",
       "                                                   'KRAS', 'dMMR_MSIh', 'NRAS',\n",
       "                                                   'BRAF',\n",
       "                                                   'ecog_diagnosis'])])),\n",
       "                ('coxphsurvivalanalysis',\n",
       "                 CoxPHSurvivalAnalysis(alpha=46.41588833612773))])"
      ]
     },
     "execution_count": 109,
     "metadata": {},
     "output_type": "execute_result"
    }
   ],
   "source": [
    "ridge = make_pipeline(preprocessor_red, CoxPHSurvivalAnalysis(alpha = best_ridge_alpha))\n",
    "\n",
    "ridge.fit(train_x_red, train_y)"
   ]
  },
  {
   "cell_type": "code",
   "execution_count": 110,
   "id": "744cabd4",
   "metadata": {},
   "outputs": [
    {
     "name": "stdout",
     "output_type": "stream",
     "text": [
      "Test set AUC at 2 years: 0.7356690308946362\n"
     ]
    }
   ],
   "source": [
    "ridge_risk_scores_te = ridge.predict(test_x_red)\n",
    "ridge_auc_te = cumulative_dynamic_auc(train_y, test_y, ridge_risk_scores_te, 730)[0][0]\n",
    "print('Test set AUC at 2 years:', ridge_auc_te)"
   ]
  },
  {
   "cell_type": "code",
   "execution_count": 111,
   "id": "ccacb873",
   "metadata": {},
   "outputs": [
    {
     "name": "stdout",
     "output_type": "stream",
     "text": [
      "Training set AUC at 2 years: 0.7318360317244983\n"
     ]
    }
   ],
   "source": [
    "ridge_risk_scores_tr = ridge.predict(train_x_red)\n",
    "ridge_auc_tr = cumulative_dynamic_auc(train_y, train_y, ridge_risk_scores_tr, 730)[0][0]\n",
    "print('Training set AUC at 2 years:', ridge_auc_tr)"
   ]
  },
  {
   "cell_type": "code",
   "execution_count": 112,
   "id": "ee4a4f85",
   "metadata": {},
   "outputs": [],
   "source": [
    "# Bootstrap 10000 2-yr AUCs for test set \n",
    "n_bootstraps = 10000\n",
    "rng_seed = 42 \n",
    "bootstrapped_scores_te = []\n",
    "\n",
    "rng = np.random.RandomState(rng_seed)\n",
    "for i in range(n_bootstraps):\n",
    "    indices = rng.randint(0, len(ridge_risk_scores_te), len(ridge_risk_scores_te))\n",
    "    auc_yr = cumulative_dynamic_auc(train_y, test_y[indices], ridge_risk_scores_te[indices], 730)[0][0]\n",
    "    bootstrapped_scores_te.append(auc_yr)"
   ]
  },
  {
   "cell_type": "code",
   "execution_count": 113,
   "id": "4c7aa0d6",
   "metadata": {},
   "outputs": [
    {
     "name": "stdout",
     "output_type": "stream",
     "text": [
      "Test set AUC standard error: 0.006738766572910941\n"
     ]
    }
   ],
   "source": [
    "# Standard error of mean for test set AUC\n",
    "sorted_scores_te = np.array(bootstrapped_scores_te)\n",
    "sorted_scores_te.sort()\n",
    "\n",
    "conf_lower_te = sorted_scores_te[int(0.025 * len(sorted_scores_te))]\n",
    "conf_upper_te = sorted_scores_te[int(0.975 * len(sorted_scores_te))]\n",
    "\n",
    "standard_error_te = (conf_upper_te - conf_lower_te) / 3.92\n",
    "print('Test set AUC standard error:', standard_error_te)"
   ]
  },
  {
   "cell_type": "code",
   "execution_count": 114,
   "id": "de90bd94",
   "metadata": {},
   "outputs": [
    {
     "name": "stderr",
     "output_type": "stream",
     "text": [
      "/Users/xavierorcutt/Dropbox/ist_project/myenv/lib/python3.7/site-packages/sksurv/linear_model/coxph.py:171: RuntimeWarning: overflow encountered in exp\n",
      "  risk_set2 += numpy.exp(xw[k])\n",
      "/Users/xavierorcutt/Dropbox/ist_project/myenv/lib/python3.7/site-packages/sksurv/linear_model/coxph.py:174: RuntimeWarning: overflow encountered in exp\n",
      "  risk_set += numpy.exp(xw[k])\n",
      "/Users/xavierorcutt/Dropbox/ist_project/myenv/lib/python3.7/site-packages/sksurv/linear_model/coxph.py:171: RuntimeWarning: overflow encountered in exp\n",
      "  risk_set2 += numpy.exp(xw[k])\n",
      "/Users/xavierorcutt/Dropbox/ist_project/myenv/lib/python3.7/site-packages/sksurv/linear_model/coxph.py:174: RuntimeWarning: overflow encountered in exp\n",
      "  risk_set += numpy.exp(xw[k])\n",
      "/Users/xavierorcutt/Dropbox/ist_project/myenv/lib/python3.7/site-packages/sksurv/linear_model/coxph.py:171: RuntimeWarning: overflow encountered in exp\n",
      "  risk_set2 += numpy.exp(xw[k])\n",
      "/Users/xavierorcutt/Dropbox/ist_project/myenv/lib/python3.7/site-packages/sksurv/linear_model/coxph.py:174: RuntimeWarning: overflow encountered in exp\n",
      "  risk_set += numpy.exp(xw[k])\n",
      "/Users/xavierorcutt/Dropbox/ist_project/myenv/lib/python3.7/site-packages/sksurv/linear_model/coxph.py:171: RuntimeWarning: overflow encountered in exp\n",
      "  risk_set2 += numpy.exp(xw[k])\n",
      "/Users/xavierorcutt/Dropbox/ist_project/myenv/lib/python3.7/site-packages/sksurv/linear_model/coxph.py:171: RuntimeWarning: overflow encountered in exp\n",
      "  risk_set2 += numpy.exp(xw[k])\n",
      "/Users/xavierorcutt/Dropbox/ist_project/myenv/lib/python3.7/site-packages/sksurv/linear_model/coxph.py:174: RuntimeWarning: overflow encountered in exp\n",
      "  risk_set += numpy.exp(xw[k])\n",
      "/Users/xavierorcutt/Dropbox/ist_project/myenv/lib/python3.7/site-packages/sksurv/linear_model/coxph.py:171: RuntimeWarning: overflow encountered in exp\n",
      "  risk_set2 += numpy.exp(xw[k])\n",
      "/Users/xavierorcutt/Dropbox/ist_project/myenv/lib/python3.7/site-packages/sksurv/linear_model/coxph.py:174: RuntimeWarning: overflow encountered in exp\n",
      "  risk_set += numpy.exp(xw[k])\n",
      "/Users/xavierorcutt/Dropbox/ist_project/myenv/lib/python3.7/site-packages/sksurv/linear_model/coxph.py:171: RuntimeWarning: overflow encountered in exp\n",
      "  risk_set2 += numpy.exp(xw[k])\n",
      "/Users/xavierorcutt/Dropbox/ist_project/myenv/lib/python3.7/site-packages/sksurv/linear_model/coxph.py:174: RuntimeWarning: overflow encountered in exp\n",
      "  risk_set += numpy.exp(xw[k])\n",
      "/Users/xavierorcutt/Dropbox/ist_project/myenv/lib/python3.7/site-packages/sksurv/linear_model/coxph.py:171: RuntimeWarning: overflow encountered in exp\n",
      "  risk_set2 += numpy.exp(xw[k])\n",
      "/Users/xavierorcutt/Dropbox/ist_project/myenv/lib/python3.7/site-packages/sksurv/linear_model/coxph.py:174: RuntimeWarning: overflow encountered in exp\n",
      "  risk_set += numpy.exp(xw[k])\n",
      "/Users/xavierorcutt/Dropbox/ist_project/myenv/lib/python3.7/site-packages/sksurv/linear_model/coxph.py:171: RuntimeWarning: overflow encountered in exp\n",
      "  risk_set2 += numpy.exp(xw[k])\n",
      "/Users/xavierorcutt/Dropbox/ist_project/myenv/lib/python3.7/site-packages/sksurv/linear_model/coxph.py:174: RuntimeWarning: overflow encountered in exp\n",
      "  risk_set += numpy.exp(xw[k])\n",
      "/Users/xavierorcutt/Dropbox/ist_project/myenv/lib/python3.7/site-packages/sksurv/linear_model/coxph.py:171: RuntimeWarning: overflow encountered in exp\n",
      "  risk_set2 += numpy.exp(xw[k])\n",
      "/Users/xavierorcutt/Dropbox/ist_project/myenv/lib/python3.7/site-packages/sksurv/linear_model/coxph.py:174: RuntimeWarning: overflow encountered in exp\n",
      "  risk_set += numpy.exp(xw[k])\n",
      "/Users/xavierorcutt/Dropbox/ist_project/myenv/lib/python3.7/site-packages/sksurv/linear_model/coxph.py:171: RuntimeWarning: overflow encountered in exp\n",
      "  risk_set2 += numpy.exp(xw[k])\n",
      "/Users/xavierorcutt/Dropbox/ist_project/myenv/lib/python3.7/site-packages/sksurv/linear_model/coxph.py:174: RuntimeWarning: overflow encountered in exp\n",
      "  risk_set += numpy.exp(xw[k])\n",
      "/Users/xavierorcutt/Dropbox/ist_project/myenv/lib/python3.7/site-packages/sksurv/linear_model/coxph.py:171: RuntimeWarning: overflow encountered in exp\n",
      "  risk_set2 += numpy.exp(xw[k])\n",
      "/Users/xavierorcutt/Dropbox/ist_project/myenv/lib/python3.7/site-packages/sksurv/linear_model/coxph.py:174: RuntimeWarning: overflow encountered in exp\n",
      "  risk_set += numpy.exp(xw[k])\n",
      "/Users/xavierorcutt/Dropbox/ist_project/myenv/lib/python3.7/site-packages/sksurv/linear_model/coxph.py:171: RuntimeWarning: overflow encountered in exp\n",
      "  risk_set2 += numpy.exp(xw[k])\n",
      "/Users/xavierorcutt/Dropbox/ist_project/myenv/lib/python3.7/site-packages/sksurv/linear_model/coxph.py:171: RuntimeWarning: overflow encountered in exp\n",
      "  risk_set2 += numpy.exp(xw[k])\n",
      "/Users/xavierorcutt/Dropbox/ist_project/myenv/lib/python3.7/site-packages/sksurv/linear_model/coxph.py:174: RuntimeWarning: overflow encountered in exp\n",
      "  risk_set += numpy.exp(xw[k])\n",
      "/Users/xavierorcutt/Dropbox/ist_project/myenv/lib/python3.7/site-packages/sksurv/linear_model/coxph.py:174: RuntimeWarning: overflow encountered in exp\n",
      "  risk_set += numpy.exp(xw[k])\n",
      "/Users/xavierorcutt/Dropbox/ist_project/myenv/lib/python3.7/site-packages/sksurv/linear_model/coxph.py:171: RuntimeWarning: overflow encountered in exp\n",
      "  risk_set2 += numpy.exp(xw[k])\n",
      "/Users/xavierorcutt/Dropbox/ist_project/myenv/lib/python3.7/site-packages/sksurv/linear_model/coxph.py:174: RuntimeWarning: overflow encountered in exp\n",
      "  risk_set += numpy.exp(xw[k])\n",
      "/Users/xavierorcutt/Dropbox/ist_project/myenv/lib/python3.7/site-packages/sksurv/linear_model/coxph.py:171: RuntimeWarning: overflow encountered in exp\n",
      "  risk_set2 += numpy.exp(xw[k])\n",
      "/Users/xavierorcutt/Dropbox/ist_project/myenv/lib/python3.7/site-packages/sksurv/linear_model/coxph.py:171: RuntimeWarning: overflow encountered in exp\n",
      "  risk_set2 += numpy.exp(xw[k])\n",
      "/Users/xavierorcutt/Dropbox/ist_project/myenv/lib/python3.7/site-packages/sksurv/linear_model/coxph.py:174: RuntimeWarning: overflow encountered in exp\n",
      "  risk_set += numpy.exp(xw[k])\n",
      "/Users/xavierorcutt/Dropbox/ist_project/myenv/lib/python3.7/site-packages/sksurv/linear_model/coxph.py:171: RuntimeWarning: overflow encountered in exp\n",
      "  risk_set2 += numpy.exp(xw[k])\n",
      "/Users/xavierorcutt/Dropbox/ist_project/myenv/lib/python3.7/site-packages/sksurv/linear_model/coxph.py:171: RuntimeWarning: overflow encountered in exp\n",
      "  risk_set2 += numpy.exp(xw[k])\n",
      "/Users/xavierorcutt/Dropbox/ist_project/myenv/lib/python3.7/site-packages/sksurv/linear_model/coxph.py:174: RuntimeWarning: overflow encountered in exp\n",
      "  risk_set += numpy.exp(xw[k])\n",
      "/Users/xavierorcutt/Dropbox/ist_project/myenv/lib/python3.7/site-packages/sksurv/linear_model/coxph.py:171: RuntimeWarning: overflow encountered in exp\n",
      "  risk_set2 += numpy.exp(xw[k])\n",
      "/Users/xavierorcutt/Dropbox/ist_project/myenv/lib/python3.7/site-packages/sksurv/linear_model/coxph.py:174: RuntimeWarning: overflow encountered in exp\n",
      "  risk_set += numpy.exp(xw[k])\n",
      "/Users/xavierorcutt/Dropbox/ist_project/myenv/lib/python3.7/site-packages/sksurv/linear_model/coxph.py:171: RuntimeWarning: overflow encountered in exp\n",
      "  risk_set2 += numpy.exp(xw[k])\n",
      "/Users/xavierorcutt/Dropbox/ist_project/myenv/lib/python3.7/site-packages/sksurv/linear_model/coxph.py:171: RuntimeWarning: overflow encountered in exp\n",
      "  risk_set2 += numpy.exp(xw[k])\n",
      "/Users/xavierorcutt/Dropbox/ist_project/myenv/lib/python3.7/site-packages/sksurv/linear_model/coxph.py:174: RuntimeWarning: overflow encountered in exp\n",
      "  risk_set += numpy.exp(xw[k])\n",
      "/Users/xavierorcutt/Dropbox/ist_project/myenv/lib/python3.7/site-packages/sksurv/linear_model/coxph.py:171: RuntimeWarning: overflow encountered in exp\n",
      "  risk_set2 += numpy.exp(xw[k])\n",
      "/Users/xavierorcutt/Dropbox/ist_project/myenv/lib/python3.7/site-packages/sksurv/linear_model/coxph.py:174: RuntimeWarning: overflow encountered in exp\n",
      "  risk_set += numpy.exp(xw[k])\n",
      "/Users/xavierorcutt/Dropbox/ist_project/myenv/lib/python3.7/site-packages/sksurv/linear_model/coxph.py:171: RuntimeWarning: overflow encountered in exp\n",
      "  risk_set2 += numpy.exp(xw[k])\n",
      "/Users/xavierorcutt/Dropbox/ist_project/myenv/lib/python3.7/site-packages/sksurv/linear_model/coxph.py:174: RuntimeWarning: overflow encountered in exp\n",
      "  risk_set += numpy.exp(xw[k])\n",
      "/Users/xavierorcutt/Dropbox/ist_project/myenv/lib/python3.7/site-packages/sksurv/linear_model/coxph.py:171: RuntimeWarning: overflow encountered in exp\n",
      "  risk_set2 += numpy.exp(xw[k])\n",
      "/Users/xavierorcutt/Dropbox/ist_project/myenv/lib/python3.7/site-packages/sksurv/linear_model/coxph.py:171: RuntimeWarning: overflow encountered in exp\n",
      "  risk_set2 += numpy.exp(xw[k])\n",
      "/Users/xavierorcutt/Dropbox/ist_project/myenv/lib/python3.7/site-packages/sksurv/linear_model/coxph.py:174: RuntimeWarning: overflow encountered in exp\n",
      "  risk_set += numpy.exp(xw[k])\n",
      "/Users/xavierorcutt/Dropbox/ist_project/myenv/lib/python3.7/site-packages/sksurv/linear_model/coxph.py:171: RuntimeWarning: overflow encountered in exp\n",
      "  risk_set2 += numpy.exp(xw[k])\n",
      "/Users/xavierorcutt/Dropbox/ist_project/myenv/lib/python3.7/site-packages/sksurv/linear_model/coxph.py:174: RuntimeWarning: overflow encountered in exp\n",
      "  risk_set += numpy.exp(xw[k])\n",
      "/Users/xavierorcutt/Dropbox/ist_project/myenv/lib/python3.7/site-packages/sksurv/linear_model/coxph.py:171: RuntimeWarning: overflow encountered in exp\n",
      "  risk_set2 += numpy.exp(xw[k])\n",
      "/Users/xavierorcutt/Dropbox/ist_project/myenv/lib/python3.7/site-packages/sksurv/linear_model/coxph.py:174: RuntimeWarning: overflow encountered in exp\n",
      "  risk_set += numpy.exp(xw[k])\n",
      "/Users/xavierorcutt/Dropbox/ist_project/myenv/lib/python3.7/site-packages/sksurv/linear_model/coxph.py:171: RuntimeWarning: overflow encountered in exp\n",
      "  risk_set2 += numpy.exp(xw[k])\n",
      "/Users/xavierorcutt/Dropbox/ist_project/myenv/lib/python3.7/site-packages/sksurv/linear_model/coxph.py:174: RuntimeWarning: overflow encountered in exp\n",
      "  risk_set += numpy.exp(xw[k])\n",
      "/Users/xavierorcutt/Dropbox/ist_project/myenv/lib/python3.7/site-packages/sksurv/linear_model/coxph.py:171: RuntimeWarning: overflow encountered in exp\n",
      "  risk_set2 += numpy.exp(xw[k])\n",
      "/Users/xavierorcutt/Dropbox/ist_project/myenv/lib/python3.7/site-packages/sksurv/linear_model/coxph.py:171: RuntimeWarning: overflow encountered in exp\n",
      "  risk_set2 += numpy.exp(xw[k])\n",
      "/Users/xavierorcutt/Dropbox/ist_project/myenv/lib/python3.7/site-packages/sksurv/linear_model/coxph.py:174: RuntimeWarning: overflow encountered in exp\n",
      "  risk_set += numpy.exp(xw[k])\n",
      "/Users/xavierorcutt/Dropbox/ist_project/myenv/lib/python3.7/site-packages/sksurv/linear_model/coxph.py:171: RuntimeWarning: overflow encountered in exp\n",
      "  risk_set2 += numpy.exp(xw[k])\n",
      "/Users/xavierorcutt/Dropbox/ist_project/myenv/lib/python3.7/site-packages/sksurv/linear_model/coxph.py:174: RuntimeWarning: overflow encountered in exp\n",
      "  risk_set += numpy.exp(xw[k])\n",
      "/Users/xavierorcutt/Dropbox/ist_project/myenv/lib/python3.7/site-packages/sksurv/linear_model/coxph.py:171: RuntimeWarning: overflow encountered in exp\n",
      "  risk_set2 += numpy.exp(xw[k])\n",
      "/Users/xavierorcutt/Dropbox/ist_project/myenv/lib/python3.7/site-packages/sksurv/linear_model/coxph.py:174: RuntimeWarning: overflow encountered in exp\n",
      "  risk_set += numpy.exp(xw[k])\n",
      "/Users/xavierorcutt/Dropbox/ist_project/myenv/lib/python3.7/site-packages/sksurv/linear_model/coxph.py:171: RuntimeWarning: overflow encountered in exp\n",
      "  risk_set2 += numpy.exp(xw[k])\n",
      "/Users/xavierorcutt/Dropbox/ist_project/myenv/lib/python3.7/site-packages/sksurv/linear_model/coxph.py:171: RuntimeWarning: overflow encountered in exp\n",
      "  risk_set2 += numpy.exp(xw[k])\n",
      "/Users/xavierorcutt/Dropbox/ist_project/myenv/lib/python3.7/site-packages/sksurv/linear_model/coxph.py:174: RuntimeWarning: overflow encountered in exp\n",
      "  risk_set += numpy.exp(xw[k])\n",
      "/Users/xavierorcutt/Dropbox/ist_project/myenv/lib/python3.7/site-packages/sksurv/linear_model/coxph.py:171: RuntimeWarning: overflow encountered in exp\n",
      "  risk_set2 += numpy.exp(xw[k])\n",
      "/Users/xavierorcutt/Dropbox/ist_project/myenv/lib/python3.7/site-packages/sksurv/linear_model/coxph.py:174: RuntimeWarning: overflow encountered in exp\n",
      "  risk_set += numpy.exp(xw[k])\n",
      "/Users/xavierorcutt/Dropbox/ist_project/myenv/lib/python3.7/site-packages/sksurv/linear_model/coxph.py:171: RuntimeWarning: overflow encountered in exp\n",
      "  risk_set2 += numpy.exp(xw[k])\n",
      "/Users/xavierorcutt/Dropbox/ist_project/myenv/lib/python3.7/site-packages/sksurv/linear_model/coxph.py:171: RuntimeWarning: overflow encountered in exp\n",
      "  risk_set2 += numpy.exp(xw[k])\n",
      "/Users/xavierorcutt/Dropbox/ist_project/myenv/lib/python3.7/site-packages/sksurv/linear_model/coxph.py:174: RuntimeWarning: overflow encountered in exp\n",
      "  risk_set += numpy.exp(xw[k])\n",
      "/Users/xavierorcutt/Dropbox/ist_project/myenv/lib/python3.7/site-packages/sksurv/linear_model/coxph.py:171: RuntimeWarning: overflow encountered in exp\n",
      "  risk_set2 += numpy.exp(xw[k])\n",
      "/Users/xavierorcutt/Dropbox/ist_project/myenv/lib/python3.7/site-packages/sksurv/linear_model/coxph.py:174: RuntimeWarning: overflow encountered in exp\n",
      "  risk_set += numpy.exp(xw[k])\n",
      "/Users/xavierorcutt/Dropbox/ist_project/myenv/lib/python3.7/site-packages/sksurv/linear_model/coxph.py:174: RuntimeWarning: overflow encountered in exp\n",
      "  risk_set += numpy.exp(xw[k])\n"
     ]
    },
    {
     "name": "stderr",
     "output_type": "stream",
     "text": [
      "/Users/xavierorcutt/Dropbox/ist_project/myenv/lib/python3.7/site-packages/sksurv/linear_model/coxph.py:171: RuntimeWarning: overflow encountered in exp\n",
      "  risk_set2 += numpy.exp(xw[k])\n",
      "/Users/xavierorcutt/Dropbox/ist_project/myenv/lib/python3.7/site-packages/sksurv/linear_model/coxph.py:171: RuntimeWarning: overflow encountered in exp\n",
      "  risk_set2 += numpy.exp(xw[k])\n",
      "/Users/xavierorcutt/Dropbox/ist_project/myenv/lib/python3.7/site-packages/sksurv/linear_model/coxph.py:171: RuntimeWarning: overflow encountered in exp\n",
      "  risk_set2 += numpy.exp(xw[k])\n",
      "/Users/xavierorcutt/Dropbox/ist_project/myenv/lib/python3.7/site-packages/sksurv/linear_model/coxph.py:174: RuntimeWarning: overflow encountered in exp\n",
      "  risk_set += numpy.exp(xw[k])\n",
      "/Users/xavierorcutt/Dropbox/ist_project/myenv/lib/python3.7/site-packages/sksurv/linear_model/coxph.py:171: RuntimeWarning: overflow encountered in exp\n",
      "  risk_set2 += numpy.exp(xw[k])\n",
      "/Users/xavierorcutt/Dropbox/ist_project/myenv/lib/python3.7/site-packages/sksurv/linear_model/coxph.py:171: RuntimeWarning: overflow encountered in exp\n",
      "  risk_set2 += numpy.exp(xw[k])\n",
      "/Users/xavierorcutt/Dropbox/ist_project/myenv/lib/python3.7/site-packages/sksurv/linear_model/coxph.py:174: RuntimeWarning: overflow encountered in exp\n",
      "  risk_set += numpy.exp(xw[k])\n",
      "/Users/xavierorcutt/Dropbox/ist_project/myenv/lib/python3.7/site-packages/sksurv/linear_model/coxph.py:171: RuntimeWarning: overflow encountered in exp\n",
      "  risk_set2 += numpy.exp(xw[k])\n",
      "/Users/xavierorcutt/Dropbox/ist_project/myenv/lib/python3.7/site-packages/sksurv/linear_model/coxph.py:174: RuntimeWarning: overflow encountered in exp\n",
      "  risk_set += numpy.exp(xw[k])\n",
      "/Users/xavierorcutt/Dropbox/ist_project/myenv/lib/python3.7/site-packages/sksurv/linear_model/coxph.py:174: RuntimeWarning: overflow encountered in exp\n",
      "  risk_set += numpy.exp(xw[k])\n",
      "/Users/xavierorcutt/Dropbox/ist_project/myenv/lib/python3.7/site-packages/sksurv/linear_model/coxph.py:171: RuntimeWarning: overflow encountered in exp\n",
      "  risk_set2 += numpy.exp(xw[k])\n",
      "/Users/xavierorcutt/Dropbox/ist_project/myenv/lib/python3.7/site-packages/sksurv/linear_model/coxph.py:171: RuntimeWarning: overflow encountered in exp\n",
      "  risk_set2 += numpy.exp(xw[k])\n",
      "/Users/xavierorcutt/Dropbox/ist_project/myenv/lib/python3.7/site-packages/sksurv/linear_model/coxph.py:174: RuntimeWarning: overflow encountered in exp\n",
      "  risk_set += numpy.exp(xw[k])\n",
      "/Users/xavierorcutt/Dropbox/ist_project/myenv/lib/python3.7/site-packages/sksurv/linear_model/coxph.py:171: RuntimeWarning: overflow encountered in exp\n",
      "  risk_set2 += numpy.exp(xw[k])\n",
      "/Users/xavierorcutt/Dropbox/ist_project/myenv/lib/python3.7/site-packages/sksurv/linear_model/coxph.py:174: RuntimeWarning: overflow encountered in exp\n",
      "  risk_set += numpy.exp(xw[k])\n",
      "/Users/xavierorcutt/Dropbox/ist_project/myenv/lib/python3.7/site-packages/sksurv/linear_model/coxph.py:171: RuntimeWarning: overflow encountered in exp\n",
      "  risk_set2 += numpy.exp(xw[k])\n",
      "/Users/xavierorcutt/Dropbox/ist_project/myenv/lib/python3.7/site-packages/sksurv/linear_model/coxph.py:174: RuntimeWarning: overflow encountered in exp\n",
      "  risk_set += numpy.exp(xw[k])\n",
      "/Users/xavierorcutt/Dropbox/ist_project/myenv/lib/python3.7/site-packages/sksurv/linear_model/coxph.py:171: RuntimeWarning: overflow encountered in exp\n",
      "  risk_set2 += numpy.exp(xw[k])\n",
      "/Users/xavierorcutt/Dropbox/ist_project/myenv/lib/python3.7/site-packages/sksurv/linear_model/coxph.py:174: RuntimeWarning: overflow encountered in exp\n",
      "  risk_set += numpy.exp(xw[k])\n",
      "/Users/xavierorcutt/Dropbox/ist_project/myenv/lib/python3.7/site-packages/sksurv/linear_model/coxph.py:171: RuntimeWarning: overflow encountered in exp\n",
      "  risk_set2 += numpy.exp(xw[k])\n",
      "/Users/xavierorcutt/Dropbox/ist_project/myenv/lib/python3.7/site-packages/sksurv/linear_model/coxph.py:174: RuntimeWarning: overflow encountered in exp\n",
      "  risk_set += numpy.exp(xw[k])\n",
      "/Users/xavierorcutt/Dropbox/ist_project/myenv/lib/python3.7/site-packages/sksurv/linear_model/coxph.py:171: RuntimeWarning: overflow encountered in exp\n",
      "  risk_set2 += numpy.exp(xw[k])\n",
      "/Users/xavierorcutt/Dropbox/ist_project/myenv/lib/python3.7/site-packages/sksurv/linear_model/coxph.py:174: RuntimeWarning: overflow encountered in exp\n",
      "  risk_set += numpy.exp(xw[k])\n",
      "/Users/xavierorcutt/Dropbox/ist_project/myenv/lib/python3.7/site-packages/sksurv/linear_model/coxph.py:171: RuntimeWarning: overflow encountered in exp\n",
      "  risk_set2 += numpy.exp(xw[k])\n",
      "/Users/xavierorcutt/Dropbox/ist_project/myenv/lib/python3.7/site-packages/sksurv/linear_model/coxph.py:174: RuntimeWarning: overflow encountered in exp\n",
      "  risk_set += numpy.exp(xw[k])\n",
      "/Users/xavierorcutt/Dropbox/ist_project/myenv/lib/python3.7/site-packages/sksurv/linear_model/coxph.py:171: RuntimeWarning: overflow encountered in exp\n",
      "  risk_set2 += numpy.exp(xw[k])\n",
      "/Users/xavierorcutt/Dropbox/ist_project/myenv/lib/python3.7/site-packages/sksurv/linear_model/coxph.py:174: RuntimeWarning: overflow encountered in exp\n",
      "  risk_set += numpy.exp(xw[k])\n",
      "/Users/xavierorcutt/Dropbox/ist_project/myenv/lib/python3.7/site-packages/sksurv/linear_model/coxph.py:174: RuntimeWarning: overflow encountered in exp\n",
      "  risk_set += numpy.exp(xw[k])\n",
      "/Users/xavierorcutt/Dropbox/ist_project/myenv/lib/python3.7/site-packages/sksurv/linear_model/coxph.py:171: RuntimeWarning: overflow encountered in exp\n",
      "  risk_set2 += numpy.exp(xw[k])\n",
      "/Users/xavierorcutt/Dropbox/ist_project/myenv/lib/python3.7/site-packages/sksurv/linear_model/coxph.py:174: RuntimeWarning: overflow encountered in exp\n",
      "  risk_set += numpy.exp(xw[k])\n",
      "/Users/xavierorcutt/Dropbox/ist_project/myenv/lib/python3.7/site-packages/sksurv/linear_model/coxph.py:171: RuntimeWarning: overflow encountered in exp\n",
      "  risk_set2 += numpy.exp(xw[k])\n",
      "/Users/xavierorcutt/Dropbox/ist_project/myenv/lib/python3.7/site-packages/sksurv/linear_model/coxph.py:174: RuntimeWarning: overflow encountered in exp\n",
      "  risk_set += numpy.exp(xw[k])\n",
      "/Users/xavierorcutt/Dropbox/ist_project/myenv/lib/python3.7/site-packages/sksurv/linear_model/coxph.py:171: RuntimeWarning: overflow encountered in exp\n",
      "  risk_set2 += numpy.exp(xw[k])\n",
      "/Users/xavierorcutt/Dropbox/ist_project/myenv/lib/python3.7/site-packages/sksurv/linear_model/coxph.py:171: RuntimeWarning: overflow encountered in exp\n",
      "  risk_set2 += numpy.exp(xw[k])\n",
      "/Users/xavierorcutt/Dropbox/ist_project/myenv/lib/python3.7/site-packages/sksurv/linear_model/coxph.py:174: RuntimeWarning: overflow encountered in exp\n",
      "  risk_set += numpy.exp(xw[k])\n",
      "/Users/xavierorcutt/Dropbox/ist_project/myenv/lib/python3.7/site-packages/sksurv/linear_model/coxph.py:171: RuntimeWarning: overflow encountered in exp\n",
      "  risk_set2 += numpy.exp(xw[k])\n",
      "/Users/xavierorcutt/Dropbox/ist_project/myenv/lib/python3.7/site-packages/sksurv/linear_model/coxph.py:174: RuntimeWarning: overflow encountered in exp\n",
      "  risk_set += numpy.exp(xw[k])\n",
      "/Users/xavierorcutt/Dropbox/ist_project/myenv/lib/python3.7/site-packages/sksurv/linear_model/coxph.py:171: RuntimeWarning: overflow encountered in exp\n",
      "  risk_set2 += numpy.exp(xw[k])\n",
      "/Users/xavierorcutt/Dropbox/ist_project/myenv/lib/python3.7/site-packages/sksurv/linear_model/coxph.py:174: RuntimeWarning: overflow encountered in exp\n",
      "  risk_set += numpy.exp(xw[k])\n",
      "/Users/xavierorcutt/Dropbox/ist_project/myenv/lib/python3.7/site-packages/sksurv/linear_model/coxph.py:171: RuntimeWarning: overflow encountered in exp\n",
      "  risk_set2 += numpy.exp(xw[k])\n",
      "/Users/xavierorcutt/Dropbox/ist_project/myenv/lib/python3.7/site-packages/sksurv/linear_model/coxph.py:174: RuntimeWarning: overflow encountered in exp\n",
      "  risk_set += numpy.exp(xw[k])\n",
      "/Users/xavierorcutt/Dropbox/ist_project/myenv/lib/python3.7/site-packages/sksurv/linear_model/coxph.py:174: RuntimeWarning: overflow encountered in exp\n",
      "  risk_set += numpy.exp(xw[k])\n"
     ]
    }
   ],
   "source": [
    "# Bootstrap 10000 2-yr AUCs for train set \n",
    "n_bootstraps = 10000\n",
    "rng_seed = 42 \n",
    "bootstrapped_scores_tr = []\n",
    "\n",
    "rng = np.random.RandomState(rng_seed)\n",
    "for i in range(n_bootstraps):\n",
    "    indices = rng.randint(0, len(ridge_risk_scores_tr), len(ridge_risk_scores_tr))\n",
    "    auc_yr = cumulative_dynamic_auc(train_y, train_y[indices], ridge_risk_scores_tr[indices], 730)[0][0]\n",
    "    bootstrapped_scores_tr.append(auc_yr)"
   ]
  },
  {
   "cell_type": "code",
   "execution_count": 115,
   "id": "739501cd",
   "metadata": {},
   "outputs": [
    {
     "name": "stdout",
     "output_type": "stream",
     "text": [
      "Training set AUC standard error 0.0034172831380575607\n"
     ]
    }
   ],
   "source": [
    "# Standard error of mean for train set AUC\n",
    "sorted_scores_tr = np.array(bootstrapped_scores_tr)\n",
    "sorted_scores_tr.sort()\n",
    "\n",
    "conf_lower_tr = sorted_scores_tr[int(0.025 * len(sorted_scores_tr))]\n",
    "conf_upper_tr = sorted_scores_tr[int(0.975 * len(sorted_scores_tr))]\n",
    "\n",
    "standard_error_tr = (conf_upper_tr - conf_lower_tr) / 3.92\n",
    "print('Training set AUC standard error', standard_error_tr)"
   ]
  },
  {
   "cell_type": "code",
   "execution_count": 116,
   "id": "83852b3d",
   "metadata": {},
   "outputs": [],
   "source": [
    "crude_auc_data = {'model': 'ridge_crude',\n",
    "                  'auc_2yr_te': ridge_auc_te,\n",
    "                  'sem_te': standard_error_te,\n",
    "                  'auc_2yr_tr': ridge_auc_tr,\n",
    "                  'sem_tr': standard_error_tr}"
   ]
  },
  {
   "cell_type": "code",
   "execution_count": 117,
   "id": "ef2222db",
   "metadata": {},
   "outputs": [],
   "source": [
    "crude_auc_df = pd.read_csv('crude_auc_df.csv')"
   ]
  },
  {
   "cell_type": "code",
   "execution_count": 118,
   "id": "ff03ca7c",
   "metadata": {},
   "outputs": [],
   "source": [
    "crude_auc_df = crude_auc_df.append(crude_auc_data, ignore_index = True)"
   ]
  },
  {
   "cell_type": "code",
   "execution_count": 119,
   "id": "59b75305",
   "metadata": {},
   "outputs": [
    {
     "data": {
      "text/html": [
       "<div>\n",
       "<style scoped>\n",
       "    .dataframe tbody tr th:only-of-type {\n",
       "        vertical-align: middle;\n",
       "    }\n",
       "\n",
       "    .dataframe tbody tr th {\n",
       "        vertical-align: top;\n",
       "    }\n",
       "\n",
       "    .dataframe thead th {\n",
       "        text-align: right;\n",
       "    }\n",
       "</style>\n",
       "<table border=\"1\" class=\"dataframe\">\n",
       "  <thead>\n",
       "    <tr style=\"text-align: right;\">\n",
       "      <th></th>\n",
       "      <th>model</th>\n",
       "      <th>auc_2yr_te</th>\n",
       "      <th>sem_te</th>\n",
       "      <th>auc_2yr_tr</th>\n",
       "      <th>sem_tr</th>\n",
       "    </tr>\n",
       "  </thead>\n",
       "  <tbody>\n",
       "    <tr>\n",
       "      <th>0</th>\n",
       "      <td>gbm_crude</td>\n",
       "      <td>0.767784</td>\n",
       "      <td>0.006411</td>\n",
       "      <td>0.817127</td>\n",
       "      <td>0.002841</td>\n",
       "    </tr>\n",
       "    <tr>\n",
       "      <th>1</th>\n",
       "      <td>rsf_crude</td>\n",
       "      <td>0.743442</td>\n",
       "      <td>0.006667</td>\n",
       "      <td>0.878791</td>\n",
       "      <td>0.002280</td>\n",
       "    </tr>\n",
       "    <tr>\n",
       "      <th>2</th>\n",
       "      <td>ridge_crude</td>\n",
       "      <td>0.735669</td>\n",
       "      <td>0.006739</td>\n",
       "      <td>0.731836</td>\n",
       "      <td>0.003417</td>\n",
       "    </tr>\n",
       "  </tbody>\n",
       "</table>\n",
       "</div>"
      ],
      "text/plain": [
       "         model  auc_2yr_te    sem_te  auc_2yr_tr    sem_tr\n",
       "0    gbm_crude    0.767784  0.006411    0.817127  0.002841\n",
       "1    rsf_crude    0.743442  0.006667    0.878791  0.002280\n",
       "2  ridge_crude    0.735669  0.006739    0.731836  0.003417"
      ]
     },
     "execution_count": 119,
     "metadata": {},
     "output_type": "execute_result"
    }
   ],
   "source": [
    "crude_auc_df"
   ]
  },
  {
   "cell_type": "code",
   "execution_count": 120,
   "id": "9585f326",
   "metadata": {},
   "outputs": [],
   "source": [
    "crude_auc_df.to_csv('crude_auc_df.csv', index = False, header = True)"
   ]
  },
  {
   "cell_type": "code",
   "execution_count": 121,
   "id": "203140be",
   "metadata": {},
   "outputs": [],
   "source": [
    "times = np.arange(30, 1810, 30)\n",
    "crude_ridge_auc_over5 = cumulative_dynamic_auc(train_y, test_y, ridge_risk_scores_te, times)[0]\n",
    "\n",
    "times_data = {}\n",
    "values = crude_ridge_auc_over5\n",
    "time_names = []\n",
    "\n",
    "for x in range(len(times)):\n",
    "    time_names.append('time_'+str(times[x]))\n",
    "\n",
    "for i in range(len(time_names)):\n",
    "    times_data[time_names[i]] = values[i]\n",
    "    \n",
    "crude_ridge_over5_df = pd.DataFrame(times_data, index = ['ridge_crude'])"
   ]
  },
  {
   "cell_type": "code",
   "execution_count": 122,
   "id": "9efff19e",
   "metadata": {},
   "outputs": [],
   "source": [
    "crude_auc_over5 = pd.read_csv('crude_auc_over5.csv', index_col = 0)"
   ]
  },
  {
   "cell_type": "code",
   "execution_count": 123,
   "id": "99cb28f2",
   "metadata": {},
   "outputs": [],
   "source": [
    "crude_auc_over5 = crude_auc_over5.append(crude_ridge_over5_df, ignore_index = False)"
   ]
  },
  {
   "cell_type": "code",
   "execution_count": 124,
   "id": "a7dccc6d",
   "metadata": {},
   "outputs": [
    {
     "data": {
      "text/html": [
       "<div>\n",
       "<style scoped>\n",
       "    .dataframe tbody tr th:only-of-type {\n",
       "        vertical-align: middle;\n",
       "    }\n",
       "\n",
       "    .dataframe tbody tr th {\n",
       "        vertical-align: top;\n",
       "    }\n",
       "\n",
       "    .dataframe thead th {\n",
       "        text-align: right;\n",
       "    }\n",
       "</style>\n",
       "<table border=\"1\" class=\"dataframe\">\n",
       "  <thead>\n",
       "    <tr style=\"text-align: right;\">\n",
       "      <th></th>\n",
       "      <th>time_30</th>\n",
       "      <th>time_60</th>\n",
       "      <th>time_90</th>\n",
       "      <th>time_120</th>\n",
       "      <th>time_150</th>\n",
       "      <th>time_180</th>\n",
       "      <th>time_210</th>\n",
       "      <th>time_240</th>\n",
       "      <th>time_270</th>\n",
       "      <th>time_300</th>\n",
       "      <th>...</th>\n",
       "      <th>time_1530</th>\n",
       "      <th>time_1560</th>\n",
       "      <th>time_1590</th>\n",
       "      <th>time_1620</th>\n",
       "      <th>time_1650</th>\n",
       "      <th>time_1680</th>\n",
       "      <th>time_1710</th>\n",
       "      <th>time_1740</th>\n",
       "      <th>time_1770</th>\n",
       "      <th>time_1800</th>\n",
       "    </tr>\n",
       "  </thead>\n",
       "  <tbody>\n",
       "    <tr>\n",
       "      <th>gbm_crude</th>\n",
       "      <td>0.863040</td>\n",
       "      <td>0.887528</td>\n",
       "      <td>0.868970</td>\n",
       "      <td>0.852051</td>\n",
       "      <td>0.845859</td>\n",
       "      <td>0.839303</td>\n",
       "      <td>0.831652</td>\n",
       "      <td>0.826657</td>\n",
       "      <td>0.821665</td>\n",
       "      <td>0.813642</td>\n",
       "      <td>...</td>\n",
       "      <td>0.737866</td>\n",
       "      <td>0.736845</td>\n",
       "      <td>0.735535</td>\n",
       "      <td>0.733043</td>\n",
       "      <td>0.731320</td>\n",
       "      <td>0.729743</td>\n",
       "      <td>0.732027</td>\n",
       "      <td>0.735634</td>\n",
       "      <td>0.733641</td>\n",
       "      <td>0.734174</td>\n",
       "    </tr>\n",
       "    <tr>\n",
       "      <th>rsf_crude</th>\n",
       "      <td>0.862053</td>\n",
       "      <td>0.878603</td>\n",
       "      <td>0.858918</td>\n",
       "      <td>0.836291</td>\n",
       "      <td>0.832149</td>\n",
       "      <td>0.826267</td>\n",
       "      <td>0.818698</td>\n",
       "      <td>0.810690</td>\n",
       "      <td>0.803914</td>\n",
       "      <td>0.793836</td>\n",
       "      <td>...</td>\n",
       "      <td>0.722668</td>\n",
       "      <td>0.722200</td>\n",
       "      <td>0.719687</td>\n",
       "      <td>0.718749</td>\n",
       "      <td>0.720869</td>\n",
       "      <td>0.718863</td>\n",
       "      <td>0.719523</td>\n",
       "      <td>0.723091</td>\n",
       "      <td>0.720314</td>\n",
       "      <td>0.720979</td>\n",
       "    </tr>\n",
       "    <tr>\n",
       "      <th>ridge_crude</th>\n",
       "      <td>0.831259</td>\n",
       "      <td>0.845034</td>\n",
       "      <td>0.831043</td>\n",
       "      <td>0.812009</td>\n",
       "      <td>0.803343</td>\n",
       "      <td>0.798285</td>\n",
       "      <td>0.792374</td>\n",
       "      <td>0.788024</td>\n",
       "      <td>0.780044</td>\n",
       "      <td>0.774278</td>\n",
       "      <td>...</td>\n",
       "      <td>0.706825</td>\n",
       "      <td>0.705838</td>\n",
       "      <td>0.704903</td>\n",
       "      <td>0.700804</td>\n",
       "      <td>0.696175</td>\n",
       "      <td>0.692352</td>\n",
       "      <td>0.693665</td>\n",
       "      <td>0.696393</td>\n",
       "      <td>0.694669</td>\n",
       "      <td>0.694974</td>\n",
       "    </tr>\n",
       "  </tbody>\n",
       "</table>\n",
       "<p>3 rows × 60 columns</p>\n",
       "</div>"
      ],
      "text/plain": [
       "              time_30   time_60   time_90  time_120  time_150  time_180  \\\n",
       "gbm_crude    0.863040  0.887528  0.868970  0.852051  0.845859  0.839303   \n",
       "rsf_crude    0.862053  0.878603  0.858918  0.836291  0.832149  0.826267   \n",
       "ridge_crude  0.831259  0.845034  0.831043  0.812009  0.803343  0.798285   \n",
       "\n",
       "             time_210  time_240  time_270  time_300  ...  time_1530  \\\n",
       "gbm_crude    0.831652  0.826657  0.821665  0.813642  ...   0.737866   \n",
       "rsf_crude    0.818698  0.810690  0.803914  0.793836  ...   0.722668   \n",
       "ridge_crude  0.792374  0.788024  0.780044  0.774278  ...   0.706825   \n",
       "\n",
       "             time_1560  time_1590  time_1620  time_1650  time_1680  time_1710  \\\n",
       "gbm_crude     0.736845   0.735535   0.733043   0.731320   0.729743   0.732027   \n",
       "rsf_crude     0.722200   0.719687   0.718749   0.720869   0.718863   0.719523   \n",
       "ridge_crude   0.705838   0.704903   0.700804   0.696175   0.692352   0.693665   \n",
       "\n",
       "             time_1740  time_1770  time_1800  \n",
       "gbm_crude     0.735634   0.733641   0.734174  \n",
       "rsf_crude     0.723091   0.720314   0.720979  \n",
       "ridge_crude   0.696393   0.694669   0.694974  \n",
       "\n",
       "[3 rows x 60 columns]"
      ]
     },
     "execution_count": 124,
     "metadata": {},
     "output_type": "execute_result"
    }
   ],
   "source": [
    "crude_auc_over5"
   ]
  },
  {
   "cell_type": "code",
   "execution_count": 125,
   "id": "6c52ac74",
   "metadata": {},
   "outputs": [],
   "source": [
    "crude_auc_over5.to_csv('crude_auc_over5.csv', index = True, header = True)"
   ]
  },
  {
   "cell_type": "code",
   "execution_count": 126,
   "id": "27876eb7",
   "metadata": {},
   "outputs": [],
   "source": [
    "# Variables passing through pipeline\n",
    "cat_encoder = list(preprocessor_red.transformers_[1][1].get_feature_names(categorical_features))\n",
    "pass_through = list(train_x_red.iloc[:, preprocessor_red.transformers_[2][2]].columns)\n",
    "attributes = numerical_features_red + cat_encoder + pass_through"
   ]
  },
  {
   "cell_type": "code",
   "execution_count": 127,
   "id": "dcbc11f7",
   "metadata": {},
   "outputs": [
    {
     "name": "stdout",
     "output_type": "stream",
     "text": [
      "Total number of features: 168\n",
      "Number of non-zero features in final model: 168\n"
     ]
    },
    {
     "data": {
      "image/png": "[encoded data removed]",
      "text/plain": [
       "<Figure size 600x800 with 1 Axes>"
      ]
     },
     "metadata": {},
     "output_type": "display_data"
    }
   ],
   "source": [
    "# Dataframe of coefficients for each variable \n",
    "coefficients_ridge = pd.DataFrame(\n",
    "    ridge.named_steps['coxphsurvivalanalysis'].coef_,\n",
    "    index = attributes,\n",
    "    columns = ['coefficient']\n",
    ")\n",
    "\n",
    "print('Total number of features: {}'.format(len(attributes)))\n",
    "\n",
    "non_zero = np.sum(coefficients_ridge.iloc[:, 0] != 0)\n",
    "print('Number of non-zero features in final model: {}'.format(non_zero))\n",
    "\n",
    "non_zero_coefs = coefficients_ridge.query('coefficient != 0')\n",
    "coef_order = non_zero_coefs.abs().sort_values('coefficient').tail(30).index\n",
    "\n",
    "_, ax = plt.subplots(figsize=(6, 8))\n",
    "non_zero_coefs.loc[coef_order].plot.barh(ax = ax, legend = False)\n",
    "ax.set_xlabel('coefficient')\n",
    "ax.grid(True)"
   ]
  },
  {
   "cell_type": "markdown",
   "id": "d74ef95b",
   "metadata": {},
   "source": [
    "### 4.2 LASSO"
   ]
  },
  {
   "cell_type": "code",
   "execution_count": 128,
   "id": "149991ef",
   "metadata": {},
   "outputs": [
    {
     "data": {
      "text/plain": [
       "Pipeline(steps=[('columntransformer',\n",
       "                 ColumnTransformer(remainder='passthrough',\n",
       "                                   transformers=[('num',\n",
       "                                                  Pipeline(steps=[('imputer',\n",
       "                                                                   SimpleImputer(strategy='median')),\n",
       "                                                                  ('std_scaler',\n",
       "                                                                   StandardScaler())]),\n",
       "                                                  ['age', 'delta_met_diagnosis',\n",
       "                                                   'weight_diag', 'bmi_diag',\n",
       "                                                   'weight_pct_change',\n",
       "                                                   'weight_slope',\n",
       "                                                   'albumin_diag', 'alp_diag',\n",
       "                                                   'alt_diag', 'ast_diag',\n",
       "                                                   'bicarb_diag', 'bun...\n",
       "                                                   'total_bilirubin_diag',\n",
       "                                                   'wbc_diag', 'alp_max',\n",
       "                                                   'alt_max', 'ast_max',\n",
       "                                                   'cea_max', 'creatinine_max',\n",
       "                                                   'total_bilirubin_max',\n",
       "                                                   'wbc_max', ...]),\n",
       "                                                 ('cat',\n",
       "                                                  OneHotEncoder(handle_unknown='ignore'),\n",
       "                                                  ['gender', 'p_type', 'stage',\n",
       "                                                   'met_year', 'crc_site',\n",
       "                                                   'KRAS', 'dMMR_MSIh', 'NRAS',\n",
       "                                                   'BRAF',\n",
       "                                                   'ecog_diagnosis'])])),\n",
       "                ('coxnetsurvivalanalysis',\n",
       "                 CoxnetSurvivalAnalysis(alpha_min_ratio=0.0001, l1_ratio=1.0))])"
      ]
     },
     "execution_count": 128,
     "metadata": {},
     "output_type": "execute_result"
    }
   ],
   "source": [
    "lasso = make_pipeline(preprocessor_red, CoxnetSurvivalAnalysis(l1_ratio = 1.0, alpha_min_ratio = 0.0001))\n",
    "\n",
    "lasso.fit(train_x_red, train_y)"
   ]
  },
  {
   "cell_type": "code",
   "execution_count": 129,
   "id": "404be88f",
   "metadata": {},
   "outputs": [],
   "source": [
    "estimated_alphas = lasso.named_steps['coxnetsurvivalanalysis'].alphas_"
   ]
  },
  {
   "cell_type": "code",
   "execution_count": 130,
   "id": "5fcd608b",
   "metadata": {},
   "outputs": [
    {
     "data": {
      "text/plain": [
       "array([1.62959728e-01, 1.48482835e-01, 1.35292029e-01, 1.23273058e-01,\n",
       "       1.12321820e-01, 1.02343459e-01, 9.32515479e-02, 8.49673374e-02,\n",
       "       7.74190733e-02, 7.05413762e-02, 6.42746748e-02, 5.85646898e-02,\n",
       "       5.33619642e-02, 4.86214343e-02, 4.43020401e-02, 4.03663690e-02,\n",
       "       3.67803320e-02, 3.35128687e-02, 3.05356778e-02, 2.78229723e-02,\n",
       "       2.53512562e-02, 2.30991204e-02, 2.10470582e-02, 1.91772956e-02,\n",
       "       1.74736375e-02, 1.59213277e-02, 1.45069208e-02, 1.32181660e-02,\n",
       "       1.20439005e-02, 1.09739536e-02, 9.99905782e-03, 9.11076908e-03,\n",
       "       8.30139346e-03, 7.56392055e-03, 6.89196269e-03, 6.27969972e-03,\n",
       "       5.72182851e-03, 5.21351703e-03, 4.75036255e-03, 4.32835343e-03,\n",
       "       3.94383444e-03, 3.59347506e-03, 3.27424064e-03, 2.98336613e-03,\n",
       "       2.71833210e-03, 2.47684297e-03, 2.25680707e-03, 2.05631855e-03,\n",
       "       1.87364088e-03, 1.70719178e-03, 1.55552957e-03, 1.41734061e-03,\n",
       "       1.29142798e-03, 1.17670108e-03, 1.07216619e-03, 9.76917905e-04,\n",
       "       8.90131211e-04, 8.11054407e-04, 7.39002569e-04, 6.73351618e-04,\n",
       "       6.13532916e-04, 5.59028343e-04, 5.09365805e-04, 4.64115151e-04,\n",
       "       4.22884440e-04, 3.85316552e-04, 3.51086092e-04, 3.19896571e-04,\n",
       "       2.91477841e-04, 2.65583753e-04, 2.41990024e-04, 2.20492298e-04,\n",
       "       2.00904370e-04, 1.83056579e-04, 1.66794337e-04, 1.51976788e-04,\n",
       "       1.38475589e-04, 1.26173799e-04, 1.14964867e-04, 1.04751705e-04,\n",
       "       9.54458521e-05, 8.69667056e-05, 7.92408232e-05, 7.22012869e-05,\n",
       "       6.57871235e-05, 5.99427768e-05, 5.46176257e-05, 4.97655464e-05,\n",
       "       4.53445124e-05, 4.13162309e-05, 3.76458108e-05, 3.43014607e-05,\n",
       "       3.12542135e-05, 2.84776753e-05, 2.59477971e-05])"
      ]
     },
     "execution_count": 130,
     "metadata": {},
     "output_type": "execute_result"
    }
   ],
   "source": [
    "estimated_alphas"
   ]
  },
  {
   "cell_type": "code",
   "execution_count": 131,
   "id": "0a0034a4",
   "metadata": {},
   "outputs": [
    {
     "data": {
      "text/plain": [
       "GridSearchCV(cv=StratifiedKFold(n_splits=5, random_state=42, shuffle=True),\n",
       "             error_score=0.5,\n",
       "             estimator=as_cumulative_dynamic_auc_scorer(estimator=Pipeline(steps=[('columntransformer',\n",
       "                                                                                   ColumnTransformer(remainder='passthrough',\n",
       "                                                                                                     transformers=[('num',\n",
       "                                                                                                                    Pipeline(steps=[('imputer',\n",
       "                                                                                                                                     SimpleImputer(strategy='median')),\n",
       "                                                                                                                                    ('std_scaler',\n",
       "                                                                                                                                     StandardScaler())]),\n",
       "                                                                                                                    ['age',\n",
       "                                                                                                                     'delta...\n",
       "                                                                       [0.04036636897952819],\n",
       "                                                                       [0.03678033201376169],\n",
       "                                                                       [0.03351286868850187],\n",
       "                                                                       [0.030535677799551842],\n",
       "                                                                       [0.027822972343694213],\n",
       "                                                                       [0.025351256164005454],\n",
       "                                                                       [0.023099120437384994],\n",
       "                                                                       [0.021047058241571336],\n",
       "                                                                       [0.01917729559551336],\n",
       "                                                                       [0.017473637509649385],\n",
       "                                                                       [0.01592132771265513],\n",
       "                                                                       [0.014506920839680765],\n",
       "                                                                       [0.013218165975032753],\n",
       "                                                                       [0.012043900540602826],\n",
       "                                                                       [0.010973953610956502], ...]},\n",
       "             refit=False)"
      ]
     },
     "execution_count": 131,
     "metadata": {},
     "output_type": "execute_result"
    }
   ],
   "source": [
    "pipe = make_pipeline(preprocessor_red, CoxnetSurvivalAnalysis(l1_ratio = 1.0, max_iter = 100000))\n",
    "\n",
    "# 5 fold cross-validation\n",
    "cv = StratifiedKFold(n_splits = 5, shuffle = True, random_state = 42)\n",
    "\n",
    "# Parameter gird \n",
    "param_grid = {'estimator__coxnetsurvivalanalysis__alphas': [[x] for x in estimated_alphas]}\n",
    "\n",
    "lasso_search = GridSearchCV(\n",
    "    as_cumulative_dynamic_auc_scorer(pipe, 730),\n",
    "    param_grid = param_grid,\n",
    "    cv = cv,\n",
    "    error_score = 0.5,\n",
    "    n_jobs = -1,\n",
    "    refit = False)\n",
    "\n",
    "# Run search \n",
    "warnings.filterwarnings('ignore')\n",
    "lasso_search.fit(train_x_red, train_y)"
   ]
  },
  {
   "cell_type": "code",
   "execution_count": 132,
   "id": "2515ac60",
   "metadata": {},
   "outputs": [
    {
     "data": {
      "text/plain": [
       "{'estimator__coxnetsurvivalanalysis__alphas': [0.009110769079681409]}"
      ]
     },
     "execution_count": 132,
     "metadata": {},
     "output_type": "execute_result"
    }
   ],
   "source": [
    "lasso_search.best_params_"
   ]
  },
  {
   "cell_type": "code",
   "execution_count": 133,
   "id": "d01e3a7b",
   "metadata": {},
   "outputs": [],
   "source": [
    "best_lasso_alpha = lasso_search.best_params_.get('estimator__coxnetsurvivalanalysis__alphas')"
   ]
  },
  {
   "cell_type": "code",
   "execution_count": 134,
   "id": "5b6dfee3",
   "metadata": {},
   "outputs": [
    {
     "data": {
      "text/plain": [
       "Pipeline(steps=[('columntransformer',\n",
       "                 ColumnTransformer(remainder='passthrough',\n",
       "                                   transformers=[('num',\n",
       "                                                  Pipeline(steps=[('imputer',\n",
       "                                                                   SimpleImputer(strategy='median')),\n",
       "                                                                  ('std_scaler',\n",
       "                                                                   StandardScaler())]),\n",
       "                                                  ['age', 'delta_met_diagnosis',\n",
       "                                                   'weight_diag', 'bmi_diag',\n",
       "                                                   'weight_pct_change',\n",
       "                                                   'weight_slope',\n",
       "                                                   'albumin_diag', 'alp_diag',\n",
       "                                                   'alt_diag', 'ast_diag',\n",
       "                                                   'bicarb_diag', 'bun...\n",
       "                                                   'wbc_diag', 'alp_max',\n",
       "                                                   'alt_max', 'ast_max',\n",
       "                                                   'cea_max', 'creatinine_max',\n",
       "                                                   'total_bilirubin_max',\n",
       "                                                   'wbc_max', ...]),\n",
       "                                                 ('cat',\n",
       "                                                  OneHotEncoder(handle_unknown='ignore'),\n",
       "                                                  ['gender', 'p_type', 'stage',\n",
       "                                                   'met_year', 'crc_site',\n",
       "                                                   'KRAS', 'dMMR_MSIh', 'NRAS',\n",
       "                                                   'BRAF',\n",
       "                                                   'ecog_diagnosis'])])),\n",
       "                ('coxnetsurvivalanalysis',\n",
       "                 CoxnetSurvivalAnalysis(alphas=[0.009110769079681409],\n",
       "                                        l1_ratio=1.0))])"
      ]
     },
     "execution_count": 134,
     "metadata": {},
     "output_type": "execute_result"
    }
   ],
   "source": [
    "lasso = make_pipeline(preprocessor_red, CoxnetSurvivalAnalysis(l1_ratio = 1.0, \n",
    "                                                               alphas = best_lasso_alpha,\n",
    "                                                               max_iter = 100000))\n",
    "\n",
    "lasso.fit(train_x_red, train_y)"
   ]
  },
  {
   "cell_type": "code",
   "execution_count": 135,
   "id": "4b31b718",
   "metadata": {},
   "outputs": [
    {
     "name": "stdout",
     "output_type": "stream",
     "text": [
      "Test set AUC at 2 years: 0.7209640472169727\n"
     ]
    }
   ],
   "source": [
    "lasso_risk_scores_te = lasso.predict(test_x_red)\n",
    "lasso_auc_te = cumulative_dynamic_auc(train_y, test_y, lasso_risk_scores_te, 730)[0][0]\n",
    "print('Test set AUC at 2 years:', lasso_auc_te)"
   ]
  },
  {
   "cell_type": "code",
   "execution_count": 136,
   "id": "8fa276c1",
   "metadata": {},
   "outputs": [
    {
     "name": "stdout",
     "output_type": "stream",
     "text": [
      "Training set AUC at 2 years: 0.7124358191859854\n"
     ]
    }
   ],
   "source": [
    "lasso_risk_scores_tr = lasso.predict(train_x_red)\n",
    "lasso_auc_tr = cumulative_dynamic_auc(train_y, train_y, lasso_risk_scores_tr, 730)[0][0]\n",
    "print('Training set AUC at 2 years:', lasso_auc_tr)"
   ]
  },
  {
   "cell_type": "code",
   "execution_count": 137,
   "id": "0cf5fc43",
   "metadata": {},
   "outputs": [
    {
     "name": "stderr",
     "output_type": "stream",
     "text": [
      "/Users/xavierorcutt/Dropbox/ist_project/myenv/lib/python3.7/site-packages/sklearn/pipeline.py:394: ConvergenceWarning: Optimization terminated early, you might want to increase the number of iterations (max_iter=100000).\n",
      "  self._final_estimator.fit(Xt, y, **fit_params_last_step)\n",
      "/Users/xavierorcutt/Dropbox/ist_project/myenv/lib/python3.7/site-packages/sklearn/pipeline.py:394: ConvergenceWarning: Optimization terminated early, you might want to increase the number of iterations (max_iter=100000).\n",
      "  self._final_estimator.fit(Xt, y, **fit_params_last_step)\n",
      "/Users/xavierorcutt/Dropbox/ist_project/myenv/lib/python3.7/site-packages/sklearn/pipeline.py:394: ConvergenceWarning: Optimization terminated early, you might want to increase the number of iterations (max_iter=100000).\n",
      "  self._final_estimator.fit(Xt, y, **fit_params_last_step)\n",
      "/Users/xavierorcutt/Dropbox/ist_project/myenv/lib/python3.7/site-packages/sklearn/pipeline.py:394: ConvergenceWarning: Optimization terminated early, you might want to increase the number of iterations (max_iter=100000).\n",
      "  self._final_estimator.fit(Xt, y, **fit_params_last_step)\n",
      "/Users/xavierorcutt/Dropbox/ist_project/myenv/lib/python3.7/site-packages/sklearn/pipeline.py:394: ConvergenceWarning: Optimization terminated early, you might want to increase the number of iterations (max_iter=100000).\n",
      "  self._final_estimator.fit(Xt, y, **fit_params_last_step)\n",
      "/Users/xavierorcutt/Dropbox/ist_project/myenv/lib/python3.7/site-packages/sklearn/pipeline.py:394: ConvergenceWarning: Optimization terminated early, you might want to increase the number of iterations (max_iter=100000).\n",
      "  self._final_estimator.fit(Xt, y, **fit_params_last_step)\n",
      "/Users/xavierorcutt/Dropbox/ist_project/myenv/lib/python3.7/site-packages/sklearn/pipeline.py:394: ConvergenceWarning: Optimization terminated early, you might want to increase the number of iterations (max_iter=100000).\n",
      "  self._final_estimator.fit(Xt, y, **fit_params_last_step)\n",
      "/Users/xavierorcutt/Dropbox/ist_project/myenv/lib/python3.7/site-packages/sklearn/pipeline.py:394: ConvergenceWarning: Optimization terminated early, you might want to increase the number of iterations (max_iter=100000).\n",
      "  self._final_estimator.fit(Xt, y, **fit_params_last_step)\n",
      "/Users/xavierorcutt/Dropbox/ist_project/myenv/lib/python3.7/site-packages/sklearn/pipeline.py:394: ConvergenceWarning: Optimization terminated early, you might want to increase the number of iterations (max_iter=100000).\n",
      "  self._final_estimator.fit(Xt, y, **fit_params_last_step)\n",
      "/Users/xavierorcutt/Dropbox/ist_project/myenv/lib/python3.7/site-packages/sklearn/pipeline.py:394: ConvergenceWarning: Optimization terminated early, you might want to increase the number of iterations (max_iter=100000).\n",
      "  self._final_estimator.fit(Xt, y, **fit_params_last_step)\n",
      "/Users/xavierorcutt/Dropbox/ist_project/myenv/lib/python3.7/site-packages/sklearn/pipeline.py:394: ConvergenceWarning: Optimization terminated early, you might want to increase the number of iterations (max_iter=100000).\n",
      "  self._final_estimator.fit(Xt, y, **fit_params_last_step)\n",
      "/Users/xavierorcutt/Dropbox/ist_project/myenv/lib/python3.7/site-packages/sklearn/pipeline.py:394: ConvergenceWarning: Optimization terminated early, you might want to increase the number of iterations (max_iter=100000).\n",
      "  self._final_estimator.fit(Xt, y, **fit_params_last_step)\n",
      "/Users/xavierorcutt/Dropbox/ist_project/myenv/lib/python3.7/site-packages/sklearn/pipeline.py:394: ConvergenceWarning: Optimization terminated early, you might want to increase the number of iterations (max_iter=100000).\n",
      "  self._final_estimator.fit(Xt, y, **fit_params_last_step)\n",
      "/Users/xavierorcutt/Dropbox/ist_project/myenv/lib/python3.7/site-packages/sklearn/pipeline.py:394: ConvergenceWarning: Optimization terminated early, you might want to increase the number of iterations (max_iter=100000).\n",
      "  self._final_estimator.fit(Xt, y, **fit_params_last_step)\n",
      "/Users/xavierorcutt/Dropbox/ist_project/myenv/lib/python3.7/site-packages/sklearn/pipeline.py:394: ConvergenceWarning: Optimization terminated early, you might want to increase the number of iterations (max_iter=100000).\n",
      "  self._final_estimator.fit(Xt, y, **fit_params_last_step)\n",
      "/Users/xavierorcutt/Dropbox/ist_project/myenv/lib/python3.7/site-packages/sklearn/pipeline.py:394: ConvergenceWarning: Optimization terminated early, you might want to increase the number of iterations (max_iter=100000).\n",
      "  self._final_estimator.fit(Xt, y, **fit_params_last_step)\n",
      "/Users/xavierorcutt/Dropbox/ist_project/myenv/lib/python3.7/site-packages/sklearn/pipeline.py:394: ConvergenceWarning: Optimization terminated early, you might want to increase the number of iterations (max_iter=100000).\n",
      "  self._final_estimator.fit(Xt, y, **fit_params_last_step)\n",
      "/Users/xavierorcutt/Dropbox/ist_project/myenv/lib/python3.7/site-packages/sklearn/pipeline.py:394: ConvergenceWarning: Optimization terminated early, you might want to increase the number of iterations (max_iter=100000).\n",
      "  self._final_estimator.fit(Xt, y, **fit_params_last_step)\n",
      "/Users/xavierorcutt/Dropbox/ist_project/myenv/lib/python3.7/site-packages/sklearn/pipeline.py:394: ConvergenceWarning: Optimization terminated early, you might want to increase the number of iterations (max_iter=100000).\n",
      "  self._final_estimator.fit(Xt, y, **fit_params_last_step)\n",
      "/Users/xavierorcutt/Dropbox/ist_project/myenv/lib/python3.7/site-packages/sklearn/pipeline.py:394: ConvergenceWarning: Optimization terminated early, you might want to increase the number of iterations (max_iter=100000).\n",
      "  self._final_estimator.fit(Xt, y, **fit_params_last_step)\n",
      "/Users/xavierorcutt/Dropbox/ist_project/myenv/lib/python3.7/site-packages/sklearn/pipeline.py:394: ConvergenceWarning: Optimization terminated early, you might want to increase the number of iterations (max_iter=100000).\n",
      "  self._final_estimator.fit(Xt, y, **fit_params_last_step)\n",
      "/Users/xavierorcutt/Dropbox/ist_project/myenv/lib/python3.7/site-packages/sklearn/pipeline.py:394: ConvergenceWarning: Optimization terminated early, you might want to increase the number of iterations (max_iter=100000).\n",
      "  self._final_estimator.fit(Xt, y, **fit_params_last_step)\n",
      "/Users/xavierorcutt/Dropbox/ist_project/myenv/lib/python3.7/site-packages/sklearn/pipeline.py:394: ConvergenceWarning: Optimization terminated early, you might want to increase the number of iterations (max_iter=100000).\n",
      "  self._final_estimator.fit(Xt, y, **fit_params_last_step)\n",
      "/Users/xavierorcutt/Dropbox/ist_project/myenv/lib/python3.7/site-packages/sklearn/pipeline.py:394: ConvergenceWarning: Optimization terminated early, you might want to increase the number of iterations (max_iter=100000).\n",
      "  self._final_estimator.fit(Xt, y, **fit_params_last_step)\n",
      "/Users/xavierorcutt/Dropbox/ist_project/myenv/lib/python3.7/site-packages/sklearn/pipeline.py:394: ConvergenceWarning: Optimization terminated early, you might want to increase the number of iterations (max_iter=100000).\n",
      "  self._final_estimator.fit(Xt, y, **fit_params_last_step)\n",
      "/Users/xavierorcutt/Dropbox/ist_project/myenv/lib/python3.7/site-packages/sklearn/pipeline.py:394: ConvergenceWarning: Optimization terminated early, you might want to increase the number of iterations (max_iter=100000).\n",
      "  self._final_estimator.fit(Xt, y, **fit_params_last_step)\n",
      "/Users/xavierorcutt/Dropbox/ist_project/myenv/lib/python3.7/site-packages/sklearn/pipeline.py:394: ConvergenceWarning: Optimization terminated early, you might want to increase the number of iterations (max_iter=100000).\n",
      "  self._final_estimator.fit(Xt, y, **fit_params_last_step)\n",
      "/Users/xavierorcutt/Dropbox/ist_project/myenv/lib/python3.7/site-packages/sklearn/pipeline.py:394: ConvergenceWarning: Optimization terminated early, you might want to increase the number of iterations (max_iter=100000).\n",
      "  self._final_estimator.fit(Xt, y, **fit_params_last_step)\n",
      "/Users/xavierorcutt/Dropbox/ist_project/myenv/lib/python3.7/site-packages/sklearn/pipeline.py:394: ConvergenceWarning: Optimization terminated early, you might want to increase the number of iterations (max_iter=100000).\n",
      "  self._final_estimator.fit(Xt, y, **fit_params_last_step)\n",
      "/Users/xavierorcutt/Dropbox/ist_project/myenv/lib/python3.7/site-packages/sklearn/pipeline.py:394: ConvergenceWarning: Optimization terminated early, you might want to increase the number of iterations (max_iter=100000).\n",
      "  self._final_estimator.fit(Xt, y, **fit_params_last_step)\n",
      "/Users/xavierorcutt/Dropbox/ist_project/myenv/lib/python3.7/site-packages/sklearn/pipeline.py:394: ConvergenceWarning: Optimization terminated early, you might want to increase the number of iterations (max_iter=100000).\n",
      "  self._final_estimator.fit(Xt, y, **fit_params_last_step)\n",
      "/Users/xavierorcutt/Dropbox/ist_project/myenv/lib/python3.7/site-packages/sklearn/pipeline.py:394: ConvergenceWarning: Optimization terminated early, you might want to increase the number of iterations (max_iter=100000).\n",
      "  self._final_estimator.fit(Xt, y, **fit_params_last_step)\n",
      "/Users/xavierorcutt/Dropbox/ist_project/myenv/lib/python3.7/site-packages/sklearn/pipeline.py:394: ConvergenceWarning: Optimization terminated early, you might want to increase the number of iterations (max_iter=100000).\n",
      "  self._final_estimator.fit(Xt, y, **fit_params_last_step)\n",
      "/Users/xavierorcutt/Dropbox/ist_project/myenv/lib/python3.7/site-packages/sklearn/pipeline.py:394: ConvergenceWarning: Optimization terminated early, you might want to increase the number of iterations (max_iter=100000).\n",
      "  self._final_estimator.fit(Xt, y, **fit_params_last_step)\n",
      "/Users/xavierorcutt/Dropbox/ist_project/myenv/lib/python3.7/site-packages/sklearn/pipeline.py:394: ConvergenceWarning: Optimization terminated early, you might want to increase the number of iterations (max_iter=100000).\n",
      "  self._final_estimator.fit(Xt, y, **fit_params_last_step)\n",
      "/Users/xavierorcutt/Dropbox/ist_project/myenv/lib/python3.7/site-packages/sklearn/pipeline.py:394: ConvergenceWarning: Optimization terminated early, you might want to increase the number of iterations (max_iter=100000).\n",
      "  self._final_estimator.fit(Xt, y, **fit_params_last_step)\n",
      "/Users/xavierorcutt/Dropbox/ist_project/myenv/lib/python3.7/site-packages/sklearn/pipeline.py:394: ConvergenceWarning: Optimization terminated early, you might want to increase the number of iterations (max_iter=100000).\n",
      "  self._final_estimator.fit(Xt, y, **fit_params_last_step)\n",
      "/Users/xavierorcutt/Dropbox/ist_project/myenv/lib/python3.7/site-packages/sklearn/pipeline.py:394: ConvergenceWarning: Optimization terminated early, you might want to increase the number of iterations (max_iter=100000).\n",
      "  self._final_estimator.fit(Xt, y, **fit_params_last_step)\n",
      "/Users/xavierorcutt/Dropbox/ist_project/myenv/lib/python3.7/site-packages/sklearn/pipeline.py:394: ConvergenceWarning: Optimization terminated early, you might want to increase the number of iterations (max_iter=100000).\n",
      "  self._final_estimator.fit(Xt, y, **fit_params_last_step)\n",
      "/Users/xavierorcutt/Dropbox/ist_project/myenv/lib/python3.7/site-packages/sklearn/pipeline.py:394: ConvergenceWarning: Optimization terminated early, you might want to increase the number of iterations (max_iter=100000).\n",
      "  self._final_estimator.fit(Xt, y, **fit_params_last_step)\n",
      "/Users/xavierorcutt/Dropbox/ist_project/myenv/lib/python3.7/site-packages/sklearn/pipeline.py:394: ConvergenceWarning: Optimization terminated early, you might want to increase the number of iterations (max_iter=100000).\n",
      "  self._final_estimator.fit(Xt, y, **fit_params_last_step)\n",
      "/Users/xavierorcutt/Dropbox/ist_project/myenv/lib/python3.7/site-packages/sklearn/pipeline.py:394: ConvergenceWarning: Optimization terminated early, you might want to increase the number of iterations (max_iter=100000).\n",
      "  self._final_estimator.fit(Xt, y, **fit_params_last_step)\n",
      "/Users/xavierorcutt/Dropbox/ist_project/myenv/lib/python3.7/site-packages/sklearn/pipeline.py:394: ConvergenceWarning: Optimization terminated early, you might want to increase the number of iterations (max_iter=100000).\n",
      "  self._final_estimator.fit(Xt, y, **fit_params_last_step)\n",
      "/Users/xavierorcutt/Dropbox/ist_project/myenv/lib/python3.7/site-packages/sklearn/pipeline.py:394: ConvergenceWarning: Optimization terminated early, you might want to increase the number of iterations (max_iter=100000).\n",
      "  self._final_estimator.fit(Xt, y, **fit_params_last_step)\n",
      "/Users/xavierorcutt/Dropbox/ist_project/myenv/lib/python3.7/site-packages/sklearn/pipeline.py:394: ConvergenceWarning: Optimization terminated early, you might want to increase the number of iterations (max_iter=100000).\n",
      "  self._final_estimator.fit(Xt, y, **fit_params_last_step)\n"
     ]
    },
    {
     "name": "stderr",
     "output_type": "stream",
     "text": [
      "/Users/xavierorcutt/Dropbox/ist_project/myenv/lib/python3.7/site-packages/sklearn/pipeline.py:394: ConvergenceWarning: Optimization terminated early, you might want to increase the number of iterations (max_iter=100000).\n",
      "  self._final_estimator.fit(Xt, y, **fit_params_last_step)\n",
      "/Users/xavierorcutt/Dropbox/ist_project/myenv/lib/python3.7/site-packages/sklearn/pipeline.py:394: ConvergenceWarning: Optimization terminated early, you might want to increase the number of iterations (max_iter=100000).\n",
      "  self._final_estimator.fit(Xt, y, **fit_params_last_step)\n",
      "/Users/xavierorcutt/Dropbox/ist_project/myenv/lib/python3.7/site-packages/sklearn/pipeline.py:394: ConvergenceWarning: Optimization terminated early, you might want to increase the number of iterations (max_iter=100000).\n",
      "  self._final_estimator.fit(Xt, y, **fit_params_last_step)\n",
      "/Users/xavierorcutt/Dropbox/ist_project/myenv/lib/python3.7/site-packages/sklearn/pipeline.py:394: ConvergenceWarning: Optimization terminated early, you might want to increase the number of iterations (max_iter=100000).\n",
      "  self._final_estimator.fit(Xt, y, **fit_params_last_step)\n",
      "/Users/xavierorcutt/Dropbox/ist_project/myenv/lib/python3.7/site-packages/sklearn/pipeline.py:394: ConvergenceWarning: Optimization terminated early, you might want to increase the number of iterations (max_iter=100000).\n",
      "  self._final_estimator.fit(Xt, y, **fit_params_last_step)\n",
      "/Users/xavierorcutt/Dropbox/ist_project/myenv/lib/python3.7/site-packages/sklearn/pipeline.py:394: ConvergenceWarning: Optimization terminated early, you might want to increase the number of iterations (max_iter=100000).\n",
      "  self._final_estimator.fit(Xt, y, **fit_params_last_step)\n",
      "/Users/xavierorcutt/Dropbox/ist_project/myenv/lib/python3.7/site-packages/sklearn/pipeline.py:394: ConvergenceWarning: Optimization terminated early, you might want to increase the number of iterations (max_iter=100000).\n",
      "  self._final_estimator.fit(Xt, y, **fit_params_last_step)\n",
      "/Users/xavierorcutt/Dropbox/ist_project/myenv/lib/python3.7/site-packages/sklearn/pipeline.py:394: ConvergenceWarning: Optimization terminated early, you might want to increase the number of iterations (max_iter=100000).\n",
      "  self._final_estimator.fit(Xt, y, **fit_params_last_step)\n",
      "/Users/xavierorcutt/Dropbox/ist_project/myenv/lib/python3.7/site-packages/sklearn/pipeline.py:394: ConvergenceWarning: Optimization terminated early, you might want to increase the number of iterations (max_iter=100000).\n",
      "  self._final_estimator.fit(Xt, y, **fit_params_last_step)\n",
      "/Users/xavierorcutt/Dropbox/ist_project/myenv/lib/python3.7/site-packages/sklearn/pipeline.py:394: ConvergenceWarning: Optimization terminated early, you might want to increase the number of iterations (max_iter=100000).\n",
      "  self._final_estimator.fit(Xt, y, **fit_params_last_step)\n",
      "/Users/xavierorcutt/Dropbox/ist_project/myenv/lib/python3.7/site-packages/sklearn/pipeline.py:394: ConvergenceWarning: Optimization terminated early, you might want to increase the number of iterations (max_iter=100000).\n",
      "  self._final_estimator.fit(Xt, y, **fit_params_last_step)\n",
      "/Users/xavierorcutt/Dropbox/ist_project/myenv/lib/python3.7/site-packages/sklearn/pipeline.py:394: ConvergenceWarning: Optimization terminated early, you might want to increase the number of iterations (max_iter=100000).\n",
      "  self._final_estimator.fit(Xt, y, **fit_params_last_step)\n",
      "/Users/xavierorcutt/Dropbox/ist_project/myenv/lib/python3.7/site-packages/sklearn/pipeline.py:394: ConvergenceWarning: Optimization terminated early, you might want to increase the number of iterations (max_iter=100000).\n",
      "  self._final_estimator.fit(Xt, y, **fit_params_last_step)\n",
      "/Users/xavierorcutt/Dropbox/ist_project/myenv/lib/python3.7/site-packages/sklearn/pipeline.py:394: ConvergenceWarning: Optimization terminated early, you might want to increase the number of iterations (max_iter=100000).\n",
      "  self._final_estimator.fit(Xt, y, **fit_params_last_step)\n",
      "/Users/xavierorcutt/Dropbox/ist_project/myenv/lib/python3.7/site-packages/sklearn/pipeline.py:394: ConvergenceWarning: Optimization terminated early, you might want to increase the number of iterations (max_iter=100000).\n",
      "  self._final_estimator.fit(Xt, y, **fit_params_last_step)\n",
      "/Users/xavierorcutt/Dropbox/ist_project/myenv/lib/python3.7/site-packages/sklearn/pipeline.py:394: ConvergenceWarning: Optimization terminated early, you might want to increase the number of iterations (max_iter=100000).\n",
      "  self._final_estimator.fit(Xt, y, **fit_params_last_step)\n",
      "/Users/xavierorcutt/Dropbox/ist_project/myenv/lib/python3.7/site-packages/sklearn/pipeline.py:394: ConvergenceWarning: Optimization terminated early, you might want to increase the number of iterations (max_iter=100000).\n",
      "  self._final_estimator.fit(Xt, y, **fit_params_last_step)\n",
      "/Users/xavierorcutt/Dropbox/ist_project/myenv/lib/python3.7/site-packages/sklearn/pipeline.py:394: ConvergenceWarning: Optimization terminated early, you might want to increase the number of iterations (max_iter=100000).\n",
      "  self._final_estimator.fit(Xt, y, **fit_params_last_step)\n",
      "/Users/xavierorcutt/Dropbox/ist_project/myenv/lib/python3.7/site-packages/sklearn/pipeline.py:394: ConvergenceWarning: Optimization terminated early, you might want to increase the number of iterations (max_iter=100000).\n",
      "  self._final_estimator.fit(Xt, y, **fit_params_last_step)\n",
      "/Users/xavierorcutt/Dropbox/ist_project/myenv/lib/python3.7/site-packages/sklearn/pipeline.py:394: ConvergenceWarning: Optimization terminated early, you might want to increase the number of iterations (max_iter=100000).\n",
      "  self._final_estimator.fit(Xt, y, **fit_params_last_step)\n",
      "/Users/xavierorcutt/Dropbox/ist_project/myenv/lib/python3.7/site-packages/sklearn/pipeline.py:394: ConvergenceWarning: Optimization terminated early, you might want to increase the number of iterations (max_iter=100000).\n",
      "  self._final_estimator.fit(Xt, y, **fit_params_last_step)\n",
      "/Users/xavierorcutt/Dropbox/ist_project/myenv/lib/python3.7/site-packages/sklearn/pipeline.py:394: ConvergenceWarning: Optimization terminated early, you might want to increase the number of iterations (max_iter=100000).\n",
      "  self._final_estimator.fit(Xt, y, **fit_params_last_step)\n",
      "/Users/xavierorcutt/Dropbox/ist_project/myenv/lib/python3.7/site-packages/sklearn/pipeline.py:394: ConvergenceWarning: Optimization terminated early, you might want to increase the number of iterations (max_iter=100000).\n",
      "  self._final_estimator.fit(Xt, y, **fit_params_last_step)\n",
      "/Users/xavierorcutt/Dropbox/ist_project/myenv/lib/python3.7/site-packages/sklearn/pipeline.py:394: UserWarning: all coefficients are zero, consider decreasing alpha.\n",
      "  self._final_estimator.fit(Xt, y, **fit_params_last_step)\n",
      "/Users/xavierorcutt/Dropbox/ist_project/myenv/lib/python3.7/site-packages/sklearn/pipeline.py:394: ConvergenceWarning: Optimization terminated early, you might want to increase the number of iterations (max_iter=100000).\n",
      "  self._final_estimator.fit(Xt, y, **fit_params_last_step)\n",
      "/Users/xavierorcutt/Dropbox/ist_project/myenv/lib/python3.7/site-packages/sklearn/pipeline.py:394: ConvergenceWarning: Optimization terminated early, you might want to increase the number of iterations (max_iter=100000).\n",
      "  self._final_estimator.fit(Xt, y, **fit_params_last_step)\n",
      "/Users/xavierorcutt/Dropbox/ist_project/myenv/lib/python3.7/site-packages/sklearn/pipeline.py:394: ConvergenceWarning: Optimization terminated early, you might want to increase the number of iterations (max_iter=100000).\n",
      "  self._final_estimator.fit(Xt, y, **fit_params_last_step)\n",
      "/Users/xavierorcutt/Dropbox/ist_project/myenv/lib/python3.7/site-packages/sklearn/pipeline.py:394: ConvergenceWarning: Optimization terminated early, you might want to increase the number of iterations (max_iter=100000).\n",
      "  self._final_estimator.fit(Xt, y, **fit_params_last_step)\n",
      "/Users/xavierorcutt/Dropbox/ist_project/myenv/lib/python3.7/site-packages/sklearn/pipeline.py:394: ConvergenceWarning: Optimization terminated early, you might want to increase the number of iterations (max_iter=100000).\n",
      "  self._final_estimator.fit(Xt, y, **fit_params_last_step)\n",
      "/Users/xavierorcutt/Dropbox/ist_project/myenv/lib/python3.7/site-packages/sklearn/pipeline.py:394: ConvergenceWarning: Optimization terminated early, you might want to increase the number of iterations (max_iter=100000).\n",
      "  self._final_estimator.fit(Xt, y, **fit_params_last_step)\n",
      "/Users/xavierorcutt/Dropbox/ist_project/myenv/lib/python3.7/site-packages/sklearn/pipeline.py:394: ConvergenceWarning: Optimization terminated early, you might want to increase the number of iterations (max_iter=100000).\n",
      "  self._final_estimator.fit(Xt, y, **fit_params_last_step)\n",
      "/Users/xavierorcutt/Dropbox/ist_project/myenv/lib/python3.7/site-packages/sklearn/pipeline.py:394: ConvergenceWarning: Optimization terminated early, you might want to increase the number of iterations (max_iter=100000).\n",
      "  self._final_estimator.fit(Xt, y, **fit_params_last_step)\n",
      "/Users/xavierorcutt/Dropbox/ist_project/myenv/lib/python3.7/site-packages/sklearn/pipeline.py:394: ConvergenceWarning: Optimization terminated early, you might want to increase the number of iterations (max_iter=100000).\n",
      "  self._final_estimator.fit(Xt, y, **fit_params_last_step)\n",
      "/Users/xavierorcutt/Dropbox/ist_project/myenv/lib/python3.7/site-packages/sklearn/pipeline.py:394: ConvergenceWarning: Optimization terminated early, you might want to increase the number of iterations (max_iter=100000).\n",
      "  self._final_estimator.fit(Xt, y, **fit_params_last_step)\n",
      "/Users/xavierorcutt/Dropbox/ist_project/myenv/lib/python3.7/site-packages/sklearn/pipeline.py:394: ConvergenceWarning: Optimization terminated early, you might want to increase the number of iterations (max_iter=100000).\n",
      "  self._final_estimator.fit(Xt, y, **fit_params_last_step)\n",
      "/Users/xavierorcutt/Dropbox/ist_project/myenv/lib/python3.7/site-packages/sklearn/pipeline.py:394: ConvergenceWarning: Optimization terminated early, you might want to increase the number of iterations (max_iter=100000).\n",
      "  self._final_estimator.fit(Xt, y, **fit_params_last_step)\n",
      "/Users/xavierorcutt/Dropbox/ist_project/myenv/lib/python3.7/site-packages/sklearn/pipeline.py:394: ConvergenceWarning: Optimization terminated early, you might want to increase the number of iterations (max_iter=100000).\n",
      "  self._final_estimator.fit(Xt, y, **fit_params_last_step)\n",
      "/Users/xavierorcutt/Dropbox/ist_project/myenv/lib/python3.7/site-packages/sklearn/pipeline.py:394: ConvergenceWarning: Optimization terminated early, you might want to increase the number of iterations (max_iter=100000).\n",
      "  self._final_estimator.fit(Xt, y, **fit_params_last_step)\n",
      "/Users/xavierorcutt/Dropbox/ist_project/myenv/lib/python3.7/site-packages/sklearn/pipeline.py:394: ConvergenceWarning: Optimization terminated early, you might want to increase the number of iterations (max_iter=100000).\n",
      "  self._final_estimator.fit(Xt, y, **fit_params_last_step)\n",
      "/Users/xavierorcutt/Dropbox/ist_project/myenv/lib/python3.7/site-packages/sklearn/pipeline.py:394: ConvergenceWarning: Optimization terminated early, you might want to increase the number of iterations (max_iter=100000).\n",
      "  self._final_estimator.fit(Xt, y, **fit_params_last_step)\n",
      "/Users/xavierorcutt/Dropbox/ist_project/myenv/lib/python3.7/site-packages/sklearn/pipeline.py:394: ConvergenceWarning: Optimization terminated early, you might want to increase the number of iterations (max_iter=100000).\n",
      "  self._final_estimator.fit(Xt, y, **fit_params_last_step)\n",
      "/Users/xavierorcutt/Dropbox/ist_project/myenv/lib/python3.7/site-packages/sklearn/pipeline.py:394: ConvergenceWarning: Optimization terminated early, you might want to increase the number of iterations (max_iter=100000).\n",
      "  self._final_estimator.fit(Xt, y, **fit_params_last_step)\n",
      "/Users/xavierorcutt/Dropbox/ist_project/myenv/lib/python3.7/site-packages/sklearn/pipeline.py:394: ConvergenceWarning: Optimization terminated early, you might want to increase the number of iterations (max_iter=100000).\n",
      "  self._final_estimator.fit(Xt, y, **fit_params_last_step)\n",
      "/Users/xavierorcutt/Dropbox/ist_project/myenv/lib/python3.7/site-packages/sklearn/pipeline.py:394: ConvergenceWarning: Optimization terminated early, you might want to increase the number of iterations (max_iter=100000).\n",
      "  self._final_estimator.fit(Xt, y, **fit_params_last_step)\n",
      "/Users/xavierorcutt/Dropbox/ist_project/myenv/lib/python3.7/site-packages/sklearn/pipeline.py:394: ConvergenceWarning: Optimization terminated early, you might want to increase the number of iterations (max_iter=100000).\n",
      "  self._final_estimator.fit(Xt, y, **fit_params_last_step)\n",
      "/Users/xavierorcutt/Dropbox/ist_project/myenv/lib/python3.7/site-packages/sklearn/pipeline.py:394: ConvergenceWarning: Optimization terminated early, you might want to increase the number of iterations (max_iter=100000).\n",
      "  self._final_estimator.fit(Xt, y, **fit_params_last_step)\n",
      "/Users/xavierorcutt/Dropbox/ist_project/myenv/lib/python3.7/site-packages/sklearn/pipeline.py:394: ConvergenceWarning: Optimization terminated early, you might want to increase the number of iterations (max_iter=100000).\n",
      "  self._final_estimator.fit(Xt, y, **fit_params_last_step)\n"
     ]
    },
    {
     "name": "stderr",
     "output_type": "stream",
     "text": [
      "/Users/xavierorcutt/Dropbox/ist_project/myenv/lib/python3.7/site-packages/sklearn/pipeline.py:394: ConvergenceWarning: Optimization terminated early, you might want to increase the number of iterations (max_iter=100000).\n",
      "  self._final_estimator.fit(Xt, y, **fit_params_last_step)\n",
      "/Users/xavierorcutt/Dropbox/ist_project/myenv/lib/python3.7/site-packages/sklearn/pipeline.py:394: ConvergenceWarning: Optimization terminated early, you might want to increase the number of iterations (max_iter=100000).\n",
      "  self._final_estimator.fit(Xt, y, **fit_params_last_step)\n",
      "/Users/xavierorcutt/Dropbox/ist_project/myenv/lib/python3.7/site-packages/sklearn/pipeline.py:394: ConvergenceWarning: Optimization terminated early, you might want to increase the number of iterations (max_iter=100000).\n",
      "  self._final_estimator.fit(Xt, y, **fit_params_last_step)\n",
      "/Users/xavierorcutt/Dropbox/ist_project/myenv/lib/python3.7/site-packages/sklearn/pipeline.py:394: ConvergenceWarning: Optimization terminated early, you might want to increase the number of iterations (max_iter=100000).\n",
      "  self._final_estimator.fit(Xt, y, **fit_params_last_step)\n",
      "/Users/xavierorcutt/Dropbox/ist_project/myenv/lib/python3.7/site-packages/sklearn/pipeline.py:394: ConvergenceWarning: Optimization terminated early, you might want to increase the number of iterations (max_iter=100000).\n",
      "  self._final_estimator.fit(Xt, y, **fit_params_last_step)\n",
      "/Users/xavierorcutt/Dropbox/ist_project/myenv/lib/python3.7/site-packages/sklearn/pipeline.py:394: ConvergenceWarning: Optimization terminated early, you might want to increase the number of iterations (max_iter=100000).\n",
      "  self._final_estimator.fit(Xt, y, **fit_params_last_step)\n",
      "/Users/xavierorcutt/Dropbox/ist_project/myenv/lib/python3.7/site-packages/sklearn/pipeline.py:394: ConvergenceWarning: Optimization terminated early, you might want to increase the number of iterations (max_iter=100000).\n",
      "  self._final_estimator.fit(Xt, y, **fit_params_last_step)\n",
      "/Users/xavierorcutt/Dropbox/ist_project/myenv/lib/python3.7/site-packages/sklearn/pipeline.py:394: ConvergenceWarning: Optimization terminated early, you might want to increase the number of iterations (max_iter=100000).\n",
      "  self._final_estimator.fit(Xt, y, **fit_params_last_step)\n",
      "/Users/xavierorcutt/Dropbox/ist_project/myenv/lib/python3.7/site-packages/sklearn/pipeline.py:394: ConvergenceWarning: Optimization terminated early, you might want to increase the number of iterations (max_iter=100000).\n",
      "  self._final_estimator.fit(Xt, y, **fit_params_last_step)\n",
      "/Users/xavierorcutt/Dropbox/ist_project/myenv/lib/python3.7/site-packages/sklearn/pipeline.py:394: ConvergenceWarning: Optimization terminated early, you might want to increase the number of iterations (max_iter=100000).\n",
      "  self._final_estimator.fit(Xt, y, **fit_params_last_step)\n",
      "/Users/xavierorcutt/Dropbox/ist_project/myenv/lib/python3.7/site-packages/sklearn/pipeline.py:394: ConvergenceWarning: Optimization terminated early, you might want to increase the number of iterations (max_iter=100000).\n",
      "  self._final_estimator.fit(Xt, y, **fit_params_last_step)\n",
      "/Users/xavierorcutt/Dropbox/ist_project/myenv/lib/python3.7/site-packages/sklearn/pipeline.py:394: ConvergenceWarning: Optimization terminated early, you might want to increase the number of iterations (max_iter=100000).\n",
      "  self._final_estimator.fit(Xt, y, **fit_params_last_step)\n",
      "/Users/xavierorcutt/Dropbox/ist_project/myenv/lib/python3.7/site-packages/sklearn/pipeline.py:394: ConvergenceWarning: Optimization terminated early, you might want to increase the number of iterations (max_iter=100000).\n",
      "  self._final_estimator.fit(Xt, y, **fit_params_last_step)\n",
      "/Users/xavierorcutt/Dropbox/ist_project/myenv/lib/python3.7/site-packages/sklearn/pipeline.py:394: ConvergenceWarning: Optimization terminated early, you might want to increase the number of iterations (max_iter=100000).\n",
      "  self._final_estimator.fit(Xt, y, **fit_params_last_step)\n",
      "/Users/xavierorcutt/Dropbox/ist_project/myenv/lib/python3.7/site-packages/sklearn/pipeline.py:394: ConvergenceWarning: Optimization terminated early, you might want to increase the number of iterations (max_iter=100000).\n",
      "  self._final_estimator.fit(Xt, y, **fit_params_last_step)\n",
      "/Users/xavierorcutt/Dropbox/ist_project/myenv/lib/python3.7/site-packages/sklearn/pipeline.py:394: ConvergenceWarning: Optimization terminated early, you might want to increase the number of iterations (max_iter=100000).\n",
      "  self._final_estimator.fit(Xt, y, **fit_params_last_step)\n",
      "/Users/xavierorcutt/Dropbox/ist_project/myenv/lib/python3.7/site-packages/sklearn/pipeline.py:394: ConvergenceWarning: Optimization terminated early, you might want to increase the number of iterations (max_iter=100000).\n",
      "  self._final_estimator.fit(Xt, y, **fit_params_last_step)\n",
      "/Users/xavierorcutt/Dropbox/ist_project/myenv/lib/python3.7/site-packages/sklearn/pipeline.py:394: ConvergenceWarning: Optimization terminated early, you might want to increase the number of iterations (max_iter=100000).\n",
      "  self._final_estimator.fit(Xt, y, **fit_params_last_step)\n",
      "/Users/xavierorcutt/Dropbox/ist_project/myenv/lib/python3.7/site-packages/sklearn/pipeline.py:394: ConvergenceWarning: Optimization terminated early, you might want to increase the number of iterations (max_iter=100000).\n",
      "  self._final_estimator.fit(Xt, y, **fit_params_last_step)\n",
      "/Users/xavierorcutt/Dropbox/ist_project/myenv/lib/python3.7/site-packages/sklearn/pipeline.py:394: ConvergenceWarning: Optimization terminated early, you might want to increase the number of iterations (max_iter=100000).\n",
      "  self._final_estimator.fit(Xt, y, **fit_params_last_step)\n",
      "/Users/xavierorcutt/Dropbox/ist_project/myenv/lib/python3.7/site-packages/sklearn/pipeline.py:394: ConvergenceWarning: Optimization terminated early, you might want to increase the number of iterations (max_iter=100000).\n",
      "  self._final_estimator.fit(Xt, y, **fit_params_last_step)\n",
      "/Users/xavierorcutt/Dropbox/ist_project/myenv/lib/python3.7/site-packages/sklearn/pipeline.py:394: ConvergenceWarning: Optimization terminated early, you might want to increase the number of iterations (max_iter=100000).\n",
      "  self._final_estimator.fit(Xt, y, **fit_params_last_step)\n",
      "/Users/xavierorcutt/Dropbox/ist_project/myenv/lib/python3.7/site-packages/sklearn/pipeline.py:394: ConvergenceWarning: Optimization terminated early, you might want to increase the number of iterations (max_iter=100000).\n",
      "  self._final_estimator.fit(Xt, y, **fit_params_last_step)\n"
     ]
    }
   ],
   "source": [
    "# Bootstrap 10000 2-yr AUCs for test set \n",
    "n_bootstraps = 10000\n",
    "rng_seed = 42 \n",
    "bootstrapped_scores_te = []\n",
    "\n",
    "rng = np.random.RandomState(rng_seed)\n",
    "for i in range(n_bootstraps):\n",
    "    indices = rng.randint(0, len(lasso_risk_scores_te), len(lasso_risk_scores_te))\n",
    "    auc_yr = cumulative_dynamic_auc(train_y, test_y[indices], lasso_risk_scores_te[indices], 730)[0][0]\n",
    "    bootstrapped_scores_te.append(auc_yr)"
   ]
  },
  {
   "cell_type": "code",
   "execution_count": 138,
   "id": "a51f9c10",
   "metadata": {},
   "outputs": [
    {
     "name": "stdout",
     "output_type": "stream",
     "text": [
      "Test set AUC standard error: 0.006928991494541721\n"
     ]
    }
   ],
   "source": [
    "# Standard error of mean for test set AUC\n",
    "sorted_scores_te = np.array(bootstrapped_scores_te)\n",
    "sorted_scores_te.sort()\n",
    "\n",
    "conf_lower_te = sorted_scores_te[int(0.025 * len(sorted_scores_te))]\n",
    "conf_upper_te = sorted_scores_te[int(0.975 * len(sorted_scores_te))]\n",
    "\n",
    "standard_error_te = (conf_upper_te - conf_lower_te) / 3.92\n",
    "print('Test set AUC standard error:', standard_error_te)"
   ]
  },
  {
   "cell_type": "code",
   "execution_count": 139,
   "id": "31a6ae22",
   "metadata": {},
   "outputs": [
    {
     "name": "stderr",
     "output_type": "stream",
     "text": [
      "/Users/xavierorcutt/Dropbox/ist_project/myenv/lib/python3.7/site-packages/sklearn/pipeline.py:394: UserWarning: all coefficients are zero, consider decreasing alpha.\n",
      "  self._final_estimator.fit(Xt, y, **fit_params_last_step)\n",
      "/Users/xavierorcutt/Dropbox/ist_project/myenv/lib/python3.7/site-packages/sklearn/pipeline.py:394: ConvergenceWarning: Optimization terminated early, you might want to increase the number of iterations (max_iter=100000).\n",
      "  self._final_estimator.fit(Xt, y, **fit_params_last_step)\n",
      "/Users/xavierorcutt/Dropbox/ist_project/myenv/lib/python3.7/site-packages/sklearn/pipeline.py:394: ConvergenceWarning: Optimization terminated early, you might want to increase the number of iterations (max_iter=100000).\n",
      "  self._final_estimator.fit(Xt, y, **fit_params_last_step)\n",
      "/Users/xavierorcutt/Dropbox/ist_project/myenv/lib/python3.7/site-packages/sklearn/pipeline.py:394: ConvergenceWarning: Optimization terminated early, you might want to increase the number of iterations (max_iter=100000).\n",
      "  self._final_estimator.fit(Xt, y, **fit_params_last_step)\n",
      "/Users/xavierorcutt/Dropbox/ist_project/myenv/lib/python3.7/site-packages/sklearn/pipeline.py:394: ConvergenceWarning: Optimization terminated early, you might want to increase the number of iterations (max_iter=100000).\n",
      "  self._final_estimator.fit(Xt, y, **fit_params_last_step)\n",
      "/Users/xavierorcutt/Dropbox/ist_project/myenv/lib/python3.7/site-packages/sklearn/pipeline.py:394: ConvergenceWarning: Optimization terminated early, you might want to increase the number of iterations (max_iter=100000).\n",
      "  self._final_estimator.fit(Xt, y, **fit_params_last_step)\n",
      "/Users/xavierorcutt/Dropbox/ist_project/myenv/lib/python3.7/site-packages/sklearn/pipeline.py:394: ConvergenceWarning: Optimization terminated early, you might want to increase the number of iterations (max_iter=100000).\n",
      "  self._final_estimator.fit(Xt, y, **fit_params_last_step)\n",
      "/Users/xavierorcutt/Dropbox/ist_project/myenv/lib/python3.7/site-packages/sklearn/pipeline.py:394: ConvergenceWarning: Optimization terminated early, you might want to increase the number of iterations (max_iter=100000).\n",
      "  self._final_estimator.fit(Xt, y, **fit_params_last_step)\n",
      "/Users/xavierorcutt/Dropbox/ist_project/myenv/lib/python3.7/site-packages/sklearn/pipeline.py:394: ConvergenceWarning: Optimization terminated early, you might want to increase the number of iterations (max_iter=100000).\n",
      "  self._final_estimator.fit(Xt, y, **fit_params_last_step)\n",
      "/Users/xavierorcutt/Dropbox/ist_project/myenv/lib/python3.7/site-packages/sklearn/pipeline.py:394: ConvergenceWarning: Optimization terminated early, you might want to increase the number of iterations (max_iter=100000).\n",
      "  self._final_estimator.fit(Xt, y, **fit_params_last_step)\n",
      "/Users/xavierorcutt/Dropbox/ist_project/myenv/lib/python3.7/site-packages/sklearn/pipeline.py:394: ConvergenceWarning: Optimization terminated early, you might want to increase the number of iterations (max_iter=100000).\n",
      "  self._final_estimator.fit(Xt, y, **fit_params_last_step)\n",
      "/Users/xavierorcutt/Dropbox/ist_project/myenv/lib/python3.7/site-packages/sklearn/pipeline.py:394: ConvergenceWarning: Optimization terminated early, you might want to increase the number of iterations (max_iter=100000).\n",
      "  self._final_estimator.fit(Xt, y, **fit_params_last_step)\n",
      "/Users/xavierorcutt/Dropbox/ist_project/myenv/lib/python3.7/site-packages/sklearn/pipeline.py:394: ConvergenceWarning: Optimization terminated early, you might want to increase the number of iterations (max_iter=100000).\n",
      "  self._final_estimator.fit(Xt, y, **fit_params_last_step)\n",
      "/Users/xavierorcutt/Dropbox/ist_project/myenv/lib/python3.7/site-packages/sklearn/pipeline.py:394: ConvergenceWarning: Optimization terminated early, you might want to increase the number of iterations (max_iter=100000).\n",
      "  self._final_estimator.fit(Xt, y, **fit_params_last_step)\n",
      "/Users/xavierorcutt/Dropbox/ist_project/myenv/lib/python3.7/site-packages/sklearn/pipeline.py:394: ConvergenceWarning: Optimization terminated early, you might want to increase the number of iterations (max_iter=100000).\n",
      "  self._final_estimator.fit(Xt, y, **fit_params_last_step)\n",
      "/Users/xavierorcutt/Dropbox/ist_project/myenv/lib/python3.7/site-packages/sklearn/pipeline.py:394: ConvergenceWarning: Optimization terminated early, you might want to increase the number of iterations (max_iter=100000).\n",
      "  self._final_estimator.fit(Xt, y, **fit_params_last_step)\n",
      "/Users/xavierorcutt/Dropbox/ist_project/myenv/lib/python3.7/site-packages/sklearn/pipeline.py:394: ConvergenceWarning: Optimization terminated early, you might want to increase the number of iterations (max_iter=100000).\n",
      "  self._final_estimator.fit(Xt, y, **fit_params_last_step)\n",
      "/Users/xavierorcutt/Dropbox/ist_project/myenv/lib/python3.7/site-packages/sklearn/pipeline.py:394: ConvergenceWarning: Optimization terminated early, you might want to increase the number of iterations (max_iter=100000).\n",
      "  self._final_estimator.fit(Xt, y, **fit_params_last_step)\n",
      "/Users/xavierorcutt/Dropbox/ist_project/myenv/lib/python3.7/site-packages/sklearn/pipeline.py:394: ConvergenceWarning: Optimization terminated early, you might want to increase the number of iterations (max_iter=100000).\n",
      "  self._final_estimator.fit(Xt, y, **fit_params_last_step)\n",
      "/Users/xavierorcutt/Dropbox/ist_project/myenv/lib/python3.7/site-packages/sklearn/pipeline.py:394: ConvergenceWarning: Optimization terminated early, you might want to increase the number of iterations (max_iter=100000).\n",
      "  self._final_estimator.fit(Xt, y, **fit_params_last_step)\n",
      "/Users/xavierorcutt/Dropbox/ist_project/myenv/lib/python3.7/site-packages/sklearn/pipeline.py:394: ConvergenceWarning: Optimization terminated early, you might want to increase the number of iterations (max_iter=100000).\n",
      "  self._final_estimator.fit(Xt, y, **fit_params_last_step)\n",
      "/Users/xavierorcutt/Dropbox/ist_project/myenv/lib/python3.7/site-packages/sklearn/pipeline.py:394: ConvergenceWarning: Optimization terminated early, you might want to increase the number of iterations (max_iter=100000).\n",
      "  self._final_estimator.fit(Xt, y, **fit_params_last_step)\n",
      "/Users/xavierorcutt/Dropbox/ist_project/myenv/lib/python3.7/site-packages/sklearn/pipeline.py:394: ConvergenceWarning: Optimization terminated early, you might want to increase the number of iterations (max_iter=100000).\n",
      "  self._final_estimator.fit(Xt, y, **fit_params_last_step)\n",
      "/Users/xavierorcutt/Dropbox/ist_project/myenv/lib/python3.7/site-packages/sklearn/pipeline.py:394: ConvergenceWarning: Optimization terminated early, you might want to increase the number of iterations (max_iter=100000).\n",
      "  self._final_estimator.fit(Xt, y, **fit_params_last_step)\n",
      "/Users/xavierorcutt/Dropbox/ist_project/myenv/lib/python3.7/site-packages/sklearn/pipeline.py:394: ConvergenceWarning: Optimization terminated early, you might want to increase the number of iterations (max_iter=100000).\n",
      "  self._final_estimator.fit(Xt, y, **fit_params_last_step)\n",
      "/Users/xavierorcutt/Dropbox/ist_project/myenv/lib/python3.7/site-packages/sklearn/pipeline.py:394: ConvergenceWarning: Optimization terminated early, you might want to increase the number of iterations (max_iter=100000).\n",
      "  self._final_estimator.fit(Xt, y, **fit_params_last_step)\n",
      "/Users/xavierorcutt/Dropbox/ist_project/myenv/lib/python3.7/site-packages/sklearn/pipeline.py:394: ConvergenceWarning: Optimization terminated early, you might want to increase the number of iterations (max_iter=100000).\n",
      "  self._final_estimator.fit(Xt, y, **fit_params_last_step)\n",
      "/Users/xavierorcutt/Dropbox/ist_project/myenv/lib/python3.7/site-packages/sklearn/pipeline.py:394: ConvergenceWarning: Optimization terminated early, you might want to increase the number of iterations (max_iter=100000).\n",
      "  self._final_estimator.fit(Xt, y, **fit_params_last_step)\n",
      "/Users/xavierorcutt/Dropbox/ist_project/myenv/lib/python3.7/site-packages/sklearn/pipeline.py:394: ConvergenceWarning: Optimization terminated early, you might want to increase the number of iterations (max_iter=100000).\n",
      "  self._final_estimator.fit(Xt, y, **fit_params_last_step)\n",
      "/Users/xavierorcutt/Dropbox/ist_project/myenv/lib/python3.7/site-packages/sklearn/pipeline.py:394: ConvergenceWarning: Optimization terminated early, you might want to increase the number of iterations (max_iter=100000).\n",
      "  self._final_estimator.fit(Xt, y, **fit_params_last_step)\n",
      "/Users/xavierorcutt/Dropbox/ist_project/myenv/lib/python3.7/site-packages/sklearn/pipeline.py:394: ConvergenceWarning: Optimization terminated early, you might want to increase the number of iterations (max_iter=100000).\n",
      "  self._final_estimator.fit(Xt, y, **fit_params_last_step)\n",
      "/Users/xavierorcutt/Dropbox/ist_project/myenv/lib/python3.7/site-packages/sklearn/pipeline.py:394: ConvergenceWarning: Optimization terminated early, you might want to increase the number of iterations (max_iter=100000).\n",
      "  self._final_estimator.fit(Xt, y, **fit_params_last_step)\n",
      "/Users/xavierorcutt/Dropbox/ist_project/myenv/lib/python3.7/site-packages/sklearn/pipeline.py:394: ConvergenceWarning: Optimization terminated early, you might want to increase the number of iterations (max_iter=100000).\n",
      "  self._final_estimator.fit(Xt, y, **fit_params_last_step)\n",
      "/Users/xavierorcutt/Dropbox/ist_project/myenv/lib/python3.7/site-packages/sklearn/pipeline.py:394: ConvergenceWarning: Optimization terminated early, you might want to increase the number of iterations (max_iter=100000).\n",
      "  self._final_estimator.fit(Xt, y, **fit_params_last_step)\n",
      "/Users/xavierorcutt/Dropbox/ist_project/myenv/lib/python3.7/site-packages/sklearn/pipeline.py:394: ConvergenceWarning: Optimization terminated early, you might want to increase the number of iterations (max_iter=100000).\n",
      "  self._final_estimator.fit(Xt, y, **fit_params_last_step)\n",
      "/Users/xavierorcutt/Dropbox/ist_project/myenv/lib/python3.7/site-packages/sklearn/pipeline.py:394: ConvergenceWarning: Optimization terminated early, you might want to increase the number of iterations (max_iter=100000).\n",
      "  self._final_estimator.fit(Xt, y, **fit_params_last_step)\n",
      "/Users/xavierorcutt/Dropbox/ist_project/myenv/lib/python3.7/site-packages/sklearn/pipeline.py:394: ConvergenceWarning: Optimization terminated early, you might want to increase the number of iterations (max_iter=100000).\n",
      "  self._final_estimator.fit(Xt, y, **fit_params_last_step)\n",
      "/Users/xavierorcutt/Dropbox/ist_project/myenv/lib/python3.7/site-packages/sklearn/pipeline.py:394: ConvergenceWarning: Optimization terminated early, you might want to increase the number of iterations (max_iter=100000).\n",
      "  self._final_estimator.fit(Xt, y, **fit_params_last_step)\n",
      "/Users/xavierorcutt/Dropbox/ist_project/myenv/lib/python3.7/site-packages/sklearn/pipeline.py:394: ConvergenceWarning: Optimization terminated early, you might want to increase the number of iterations (max_iter=100000).\n",
      "  self._final_estimator.fit(Xt, y, **fit_params_last_step)\n",
      "/Users/xavierorcutt/Dropbox/ist_project/myenv/lib/python3.7/site-packages/sklearn/pipeline.py:394: ConvergenceWarning: Optimization terminated early, you might want to increase the number of iterations (max_iter=100000).\n",
      "  self._final_estimator.fit(Xt, y, **fit_params_last_step)\n",
      "/Users/xavierorcutt/Dropbox/ist_project/myenv/lib/python3.7/site-packages/sklearn/pipeline.py:394: ConvergenceWarning: Optimization terminated early, you might want to increase the number of iterations (max_iter=100000).\n",
      "  self._final_estimator.fit(Xt, y, **fit_params_last_step)\n",
      "/Users/xavierorcutt/Dropbox/ist_project/myenv/lib/python3.7/site-packages/sklearn/pipeline.py:394: ConvergenceWarning: Optimization terminated early, you might want to increase the number of iterations (max_iter=100000).\n",
      "  self._final_estimator.fit(Xt, y, **fit_params_last_step)\n",
      "/Users/xavierorcutt/Dropbox/ist_project/myenv/lib/python3.7/site-packages/sklearn/pipeline.py:394: ConvergenceWarning: Optimization terminated early, you might want to increase the number of iterations (max_iter=100000).\n",
      "  self._final_estimator.fit(Xt, y, **fit_params_last_step)\n",
      "/Users/xavierorcutt/Dropbox/ist_project/myenv/lib/python3.7/site-packages/sklearn/pipeline.py:394: ConvergenceWarning: Optimization terminated early, you might want to increase the number of iterations (max_iter=100000).\n",
      "  self._final_estimator.fit(Xt, y, **fit_params_last_step)\n",
      "/Users/xavierorcutt/Dropbox/ist_project/myenv/lib/python3.7/site-packages/sklearn/pipeline.py:394: ConvergenceWarning: Optimization terminated early, you might want to increase the number of iterations (max_iter=100000).\n",
      "  self._final_estimator.fit(Xt, y, **fit_params_last_step)\n",
      "/Users/xavierorcutt/Dropbox/ist_project/myenv/lib/python3.7/site-packages/sklearn/pipeline.py:394: ConvergenceWarning: Optimization terminated early, you might want to increase the number of iterations (max_iter=100000).\n",
      "  self._final_estimator.fit(Xt, y, **fit_params_last_step)\n"
     ]
    },
    {
     "name": "stderr",
     "output_type": "stream",
     "text": [
      "/Users/xavierorcutt/Dropbox/ist_project/myenv/lib/python3.7/site-packages/sklearn/pipeline.py:394: ConvergenceWarning: Optimization terminated early, you might want to increase the number of iterations (max_iter=100000).\n",
      "  self._final_estimator.fit(Xt, y, **fit_params_last_step)\n",
      "/Users/xavierorcutt/Dropbox/ist_project/myenv/lib/python3.7/site-packages/sklearn/pipeline.py:394: ConvergenceWarning: Optimization terminated early, you might want to increase the number of iterations (max_iter=100000).\n",
      "  self._final_estimator.fit(Xt, y, **fit_params_last_step)\n",
      "/Users/xavierorcutt/Dropbox/ist_project/myenv/lib/python3.7/site-packages/sklearn/pipeline.py:394: ConvergenceWarning: Optimization terminated early, you might want to increase the number of iterations (max_iter=100000).\n",
      "  self._final_estimator.fit(Xt, y, **fit_params_last_step)\n",
      "/Users/xavierorcutt/Dropbox/ist_project/myenv/lib/python3.7/site-packages/sklearn/pipeline.py:394: ConvergenceWarning: Optimization terminated early, you might want to increase the number of iterations (max_iter=100000).\n",
      "  self._final_estimator.fit(Xt, y, **fit_params_last_step)\n",
      "/Users/xavierorcutt/Dropbox/ist_project/myenv/lib/python3.7/site-packages/sklearn/pipeline.py:394: ConvergenceWarning: Optimization terminated early, you might want to increase the number of iterations (max_iter=100000).\n",
      "  self._final_estimator.fit(Xt, y, **fit_params_last_step)\n",
      "/Users/xavierorcutt/Dropbox/ist_project/myenv/lib/python3.7/site-packages/sklearn/pipeline.py:394: ConvergenceWarning: Optimization terminated early, you might want to increase the number of iterations (max_iter=100000).\n",
      "  self._final_estimator.fit(Xt, y, **fit_params_last_step)\n",
      "/Users/xavierorcutt/Dropbox/ist_project/myenv/lib/python3.7/site-packages/sklearn/pipeline.py:394: ConvergenceWarning: Optimization terminated early, you might want to increase the number of iterations (max_iter=100000).\n",
      "  self._final_estimator.fit(Xt, y, **fit_params_last_step)\n",
      "/Users/xavierorcutt/Dropbox/ist_project/myenv/lib/python3.7/site-packages/sklearn/pipeline.py:394: ConvergenceWarning: Optimization terminated early, you might want to increase the number of iterations (max_iter=100000).\n",
      "  self._final_estimator.fit(Xt, y, **fit_params_last_step)\n",
      "/Users/xavierorcutt/Dropbox/ist_project/myenv/lib/python3.7/site-packages/sklearn/pipeline.py:394: ConvergenceWarning: Optimization terminated early, you might want to increase the number of iterations (max_iter=100000).\n",
      "  self._final_estimator.fit(Xt, y, **fit_params_last_step)\n",
      "/Users/xavierorcutt/Dropbox/ist_project/myenv/lib/python3.7/site-packages/sklearn/pipeline.py:394: ConvergenceWarning: Optimization terminated early, you might want to increase the number of iterations (max_iter=100000).\n",
      "  self._final_estimator.fit(Xt, y, **fit_params_last_step)\n",
      "/Users/xavierorcutt/Dropbox/ist_project/myenv/lib/python3.7/site-packages/sklearn/pipeline.py:394: ConvergenceWarning: Optimization terminated early, you might want to increase the number of iterations (max_iter=100000).\n",
      "  self._final_estimator.fit(Xt, y, **fit_params_last_step)\n",
      "/Users/xavierorcutt/Dropbox/ist_project/myenv/lib/python3.7/site-packages/sklearn/pipeline.py:394: ConvergenceWarning: Optimization terminated early, you might want to increase the number of iterations (max_iter=100000).\n",
      "  self._final_estimator.fit(Xt, y, **fit_params_last_step)\n",
      "/Users/xavierorcutt/Dropbox/ist_project/myenv/lib/python3.7/site-packages/sklearn/pipeline.py:394: ConvergenceWarning: Optimization terminated early, you might want to increase the number of iterations (max_iter=100000).\n",
      "  self._final_estimator.fit(Xt, y, **fit_params_last_step)\n",
      "/Users/xavierorcutt/Dropbox/ist_project/myenv/lib/python3.7/site-packages/sklearn/pipeline.py:394: ConvergenceWarning: Optimization terminated early, you might want to increase the number of iterations (max_iter=100000).\n",
      "  self._final_estimator.fit(Xt, y, **fit_params_last_step)\n",
      "/Users/xavierorcutt/Dropbox/ist_project/myenv/lib/python3.7/site-packages/sklearn/pipeline.py:394: ConvergenceWarning: Optimization terminated early, you might want to increase the number of iterations (max_iter=100000).\n",
      "  self._final_estimator.fit(Xt, y, **fit_params_last_step)\n",
      "/Users/xavierorcutt/Dropbox/ist_project/myenv/lib/python3.7/site-packages/sklearn/pipeline.py:394: ConvergenceWarning: Optimization terminated early, you might want to increase the number of iterations (max_iter=100000).\n",
      "  self._final_estimator.fit(Xt, y, **fit_params_last_step)\n",
      "/Users/xavierorcutt/Dropbox/ist_project/myenv/lib/python3.7/site-packages/sklearn/pipeline.py:394: ConvergenceWarning: Optimization terminated early, you might want to increase the number of iterations (max_iter=100000).\n",
      "  self._final_estimator.fit(Xt, y, **fit_params_last_step)\n",
      "/Users/xavierorcutt/Dropbox/ist_project/myenv/lib/python3.7/site-packages/sklearn/pipeline.py:394: ConvergenceWarning: Optimization terminated early, you might want to increase the number of iterations (max_iter=100000).\n",
      "  self._final_estimator.fit(Xt, y, **fit_params_last_step)\n",
      "/Users/xavierorcutt/Dropbox/ist_project/myenv/lib/python3.7/site-packages/sklearn/pipeline.py:394: ConvergenceWarning: Optimization terminated early, you might want to increase the number of iterations (max_iter=100000).\n",
      "  self._final_estimator.fit(Xt, y, **fit_params_last_step)\n",
      "/Users/xavierorcutt/Dropbox/ist_project/myenv/lib/python3.7/site-packages/sklearn/pipeline.py:394: ConvergenceWarning: Optimization terminated early, you might want to increase the number of iterations (max_iter=100000).\n",
      "  self._final_estimator.fit(Xt, y, **fit_params_last_step)\n",
      "/Users/xavierorcutt/Dropbox/ist_project/myenv/lib/python3.7/site-packages/sklearn/pipeline.py:394: ConvergenceWarning: Optimization terminated early, you might want to increase the number of iterations (max_iter=100000).\n",
      "  self._final_estimator.fit(Xt, y, **fit_params_last_step)\n",
      "/Users/xavierorcutt/Dropbox/ist_project/myenv/lib/python3.7/site-packages/sklearn/pipeline.py:394: ConvergenceWarning: Optimization terminated early, you might want to increase the number of iterations (max_iter=100000).\n",
      "  self._final_estimator.fit(Xt, y, **fit_params_last_step)\n",
      "/Users/xavierorcutt/Dropbox/ist_project/myenv/lib/python3.7/site-packages/sklearn/pipeline.py:394: ConvergenceWarning: Optimization terminated early, you might want to increase the number of iterations (max_iter=100000).\n",
      "  self._final_estimator.fit(Xt, y, **fit_params_last_step)\n",
      "/Users/xavierorcutt/Dropbox/ist_project/myenv/lib/python3.7/site-packages/sklearn/pipeline.py:394: ConvergenceWarning: Optimization terminated early, you might want to increase the number of iterations (max_iter=100000).\n",
      "  self._final_estimator.fit(Xt, y, **fit_params_last_step)\n"
     ]
    }
   ],
   "source": [
    "# Bootstrap 10000 3-yr AUCs for train set \n",
    "n_bootstraps = 10000\n",
    "rng_seed = 42 \n",
    "bootstrapped_scores_tr = []\n",
    "\n",
    "rng = np.random.RandomState(rng_seed)\n",
    "for i in range(n_bootstraps):\n",
    "    indices = rng.randint(0, len(lasso_risk_scores_tr), len(lasso_risk_scores_tr))\n",
    "    auc_yr = cumulative_dynamic_auc(train_y, train_y[indices], lasso_risk_scores_tr[indices], 730)[0][0]\n",
    "    bootstrapped_scores_tr.append(auc_yr)"
   ]
  },
  {
   "cell_type": "code",
   "execution_count": 140,
   "id": "c4d25bed",
   "metadata": {},
   "outputs": [
    {
     "name": "stdout",
     "output_type": "stream",
     "text": [
      "Training set AUC standard error 0.0035567113141738846\n"
     ]
    }
   ],
   "source": [
    "# Standard error of mean for train set AUC\n",
    "sorted_scores_tr = np.array(bootstrapped_scores_tr)\n",
    "sorted_scores_tr.sort()\n",
    "\n",
    "conf_lower_tr = sorted_scores_tr[int(0.025 * len(sorted_scores_tr))]\n",
    "conf_upper_tr = sorted_scores_tr[int(0.975 * len(sorted_scores_tr))]\n",
    "\n",
    "standard_error_tr = (conf_upper_tr - conf_lower_tr) / 3.92\n",
    "print('Training set AUC standard error', standard_error_tr)"
   ]
  },
  {
   "cell_type": "code",
   "execution_count": 141,
   "id": "d3ca8a12",
   "metadata": {},
   "outputs": [],
   "source": [
    "crude_auc_data = {'model': 'lasso_crude',\n",
    "                  'auc_2yr_te': lasso_auc_te,\n",
    "                  'sem_te': standard_error_te,\n",
    "                  'auc_2yr_tr': lasso_auc_tr,\n",
    "                  'sem_tr': standard_error_tr}"
   ]
  },
  {
   "cell_type": "code",
   "execution_count": 142,
   "id": "6f82f876",
   "metadata": {},
   "outputs": [],
   "source": [
    "crude_auc_df = pd.read_csv('crude_auc_df.csv')"
   ]
  },
  {
   "cell_type": "code",
   "execution_count": 143,
   "id": "9437a337",
   "metadata": {},
   "outputs": [],
   "source": [
    "crude_auc_df = crude_auc_df.append(crude_auc_data, ignore_index = True)"
   ]
  },
  {
   "cell_type": "code",
   "execution_count": 144,
   "id": "11fcb452",
   "metadata": {},
   "outputs": [
    {
     "data": {
      "text/html": [
       "<div>\n",
       "<style scoped>\n",
       "    .dataframe tbody tr th:only-of-type {\n",
       "        vertical-align: middle;\n",
       "    }\n",
       "\n",
       "    .dataframe tbody tr th {\n",
       "        vertical-align: top;\n",
       "    }\n",
       "\n",
       "    .dataframe thead th {\n",
       "        text-align: right;\n",
       "    }\n",
       "</style>\n",
       "<table border=\"1\" class=\"dataframe\">\n",
       "  <thead>\n",
       "    <tr style=\"text-align: right;\">\n",
       "      <th></th>\n",
       "      <th>model</th>\n",
       "      <th>auc_2yr_te</th>\n",
       "      <th>sem_te</th>\n",
       "      <th>auc_2yr_tr</th>\n",
       "      <th>sem_tr</th>\n",
       "    </tr>\n",
       "  </thead>\n",
       "  <tbody>\n",
       "    <tr>\n",
       "      <th>0</th>\n",
       "      <td>gbm_crude</td>\n",
       "      <td>0.767784</td>\n",
       "      <td>0.006411</td>\n",
       "      <td>0.817127</td>\n",
       "      <td>0.002841</td>\n",
       "    </tr>\n",
       "    <tr>\n",
       "      <th>1</th>\n",
       "      <td>rsf_crude</td>\n",
       "      <td>0.743442</td>\n",
       "      <td>0.006667</td>\n",
       "      <td>0.878791</td>\n",
       "      <td>0.002280</td>\n",
       "    </tr>\n",
       "    <tr>\n",
       "      <th>2</th>\n",
       "      <td>ridge_crude</td>\n",
       "      <td>0.735669</td>\n",
       "      <td>0.006739</td>\n",
       "      <td>0.731836</td>\n",
       "      <td>0.003417</td>\n",
       "    </tr>\n",
       "    <tr>\n",
       "      <th>3</th>\n",
       "      <td>lasso_crude</td>\n",
       "      <td>0.720964</td>\n",
       "      <td>0.006929</td>\n",
       "      <td>0.712436</td>\n",
       "      <td>0.003557</td>\n",
       "    </tr>\n",
       "  </tbody>\n",
       "</table>\n",
       "</div>"
      ],
      "text/plain": [
       "         model  auc_2yr_te    sem_te  auc_2yr_tr    sem_tr\n",
       "0    gbm_crude    0.767784  0.006411    0.817127  0.002841\n",
       "1    rsf_crude    0.743442  0.006667    0.878791  0.002280\n",
       "2  ridge_crude    0.735669  0.006739    0.731836  0.003417\n",
       "3  lasso_crude    0.720964  0.006929    0.712436  0.003557"
      ]
     },
     "execution_count": 144,
     "metadata": {},
     "output_type": "execute_result"
    }
   ],
   "source": [
    "crude_auc_df"
   ]
  },
  {
   "cell_type": "code",
   "execution_count": 145,
   "id": "92b603a5",
   "metadata": {},
   "outputs": [],
   "source": [
    "crude_auc_df.to_csv('crude_auc_df.csv', index = False, header = True)"
   ]
  },
  {
   "cell_type": "code",
   "execution_count": 146,
   "id": "2dfc9aa1",
   "metadata": {},
   "outputs": [],
   "source": [
    "times = np.arange(30, 1810, 30)\n",
    "crude_lasso_auc_over5 = cumulative_dynamic_auc(train_y, test_y, lasso_risk_scores_te, times)[0]\n",
    "\n",
    "times_data = {}\n",
    "values = crude_lasso_auc_over5\n",
    "time_names = []\n",
    "\n",
    "for x in range(len(times)):\n",
    "    time_names.append('time_'+str(times[x]))\n",
    "\n",
    "for i in range(len(time_names)):\n",
    "    times_data[time_names[i]] = values[i]\n",
    "    \n",
    "crude_lasso_over5_df = pd.DataFrame(times_data, index = ['lasso_crude'])"
   ]
  },
  {
   "cell_type": "code",
   "execution_count": 147,
   "id": "70b07223",
   "metadata": {},
   "outputs": [],
   "source": [
    "crude_auc_over5 = pd.read_csv('crude_auc_over5.csv', index_col = 0)"
   ]
  },
  {
   "cell_type": "code",
   "execution_count": 148,
   "id": "6587f38c",
   "metadata": {},
   "outputs": [],
   "source": [
    "crude_auc_over5 = crude_auc_over5.append(crude_lasso_over5_df, ignore_index = False)"
   ]
  },
  {
   "cell_type": "code",
   "execution_count": 149,
   "id": "1838b2ab",
   "metadata": {},
   "outputs": [
    {
     "data": {
      "text/html": [
       "<div>\n",
       "<style scoped>\n",
       "    .dataframe tbody tr th:only-of-type {\n",
       "        vertical-align: middle;\n",
       "    }\n",
       "\n",
       "    .dataframe tbody tr th {\n",
       "        vertical-align: top;\n",
       "    }\n",
       "\n",
       "    .dataframe thead th {\n",
       "        text-align: right;\n",
       "    }\n",
       "</style>\n",
       "<table border=\"1\" class=\"dataframe\">\n",
       "  <thead>\n",
       "    <tr style=\"text-align: right;\">\n",
       "      <th></th>\n",
       "      <th>time_30</th>\n",
       "      <th>time_60</th>\n",
       "      <th>time_90</th>\n",
       "      <th>time_120</th>\n",
       "      <th>time_150</th>\n",
       "      <th>time_180</th>\n",
       "      <th>time_210</th>\n",
       "      <th>time_240</th>\n",
       "      <th>time_270</th>\n",
       "      <th>time_300</th>\n",
       "      <th>...</th>\n",
       "      <th>time_1530</th>\n",
       "      <th>time_1560</th>\n",
       "      <th>time_1590</th>\n",
       "      <th>time_1620</th>\n",
       "      <th>time_1650</th>\n",
       "      <th>time_1680</th>\n",
       "      <th>time_1710</th>\n",
       "      <th>time_1740</th>\n",
       "      <th>time_1770</th>\n",
       "      <th>time_1800</th>\n",
       "    </tr>\n",
       "  </thead>\n",
       "  <tbody>\n",
       "    <tr>\n",
       "      <th>gbm_crude</th>\n",
       "      <td>0.863040</td>\n",
       "      <td>0.887528</td>\n",
       "      <td>0.868970</td>\n",
       "      <td>0.852051</td>\n",
       "      <td>0.845859</td>\n",
       "      <td>0.839303</td>\n",
       "      <td>0.831652</td>\n",
       "      <td>0.826657</td>\n",
       "      <td>0.821665</td>\n",
       "      <td>0.813642</td>\n",
       "      <td>...</td>\n",
       "      <td>0.737866</td>\n",
       "      <td>0.736845</td>\n",
       "      <td>0.735535</td>\n",
       "      <td>0.733043</td>\n",
       "      <td>0.731320</td>\n",
       "      <td>0.729743</td>\n",
       "      <td>0.732027</td>\n",
       "      <td>0.735634</td>\n",
       "      <td>0.733641</td>\n",
       "      <td>0.734174</td>\n",
       "    </tr>\n",
       "    <tr>\n",
       "      <th>rsf_crude</th>\n",
       "      <td>0.862053</td>\n",
       "      <td>0.878603</td>\n",
       "      <td>0.858918</td>\n",
       "      <td>0.836291</td>\n",
       "      <td>0.832149</td>\n",
       "      <td>0.826267</td>\n",
       "      <td>0.818698</td>\n",
       "      <td>0.810690</td>\n",
       "      <td>0.803914</td>\n",
       "      <td>0.793836</td>\n",
       "      <td>...</td>\n",
       "      <td>0.722668</td>\n",
       "      <td>0.722200</td>\n",
       "      <td>0.719687</td>\n",
       "      <td>0.718749</td>\n",
       "      <td>0.720869</td>\n",
       "      <td>0.718863</td>\n",
       "      <td>0.719523</td>\n",
       "      <td>0.723091</td>\n",
       "      <td>0.720314</td>\n",
       "      <td>0.720979</td>\n",
       "    </tr>\n",
       "    <tr>\n",
       "      <th>ridge_crude</th>\n",
       "      <td>0.831259</td>\n",
       "      <td>0.845034</td>\n",
       "      <td>0.831043</td>\n",
       "      <td>0.812009</td>\n",
       "      <td>0.803343</td>\n",
       "      <td>0.798285</td>\n",
       "      <td>0.792374</td>\n",
       "      <td>0.788024</td>\n",
       "      <td>0.780044</td>\n",
       "      <td>0.774278</td>\n",
       "      <td>...</td>\n",
       "      <td>0.706825</td>\n",
       "      <td>0.705838</td>\n",
       "      <td>0.704903</td>\n",
       "      <td>0.700804</td>\n",
       "      <td>0.696175</td>\n",
       "      <td>0.692352</td>\n",
       "      <td>0.693665</td>\n",
       "      <td>0.696393</td>\n",
       "      <td>0.694669</td>\n",
       "      <td>0.694974</td>\n",
       "    </tr>\n",
       "    <tr>\n",
       "      <th>lasso_crude</th>\n",
       "      <td>0.819608</td>\n",
       "      <td>0.839833</td>\n",
       "      <td>0.816990</td>\n",
       "      <td>0.796528</td>\n",
       "      <td>0.789369</td>\n",
       "      <td>0.783101</td>\n",
       "      <td>0.778876</td>\n",
       "      <td>0.776596</td>\n",
       "      <td>0.768058</td>\n",
       "      <td>0.761063</td>\n",
       "      <td>...</td>\n",
       "      <td>0.692229</td>\n",
       "      <td>0.691958</td>\n",
       "      <td>0.690591</td>\n",
       "      <td>0.687427</td>\n",
       "      <td>0.685845</td>\n",
       "      <td>0.681747</td>\n",
       "      <td>0.682592</td>\n",
       "      <td>0.685940</td>\n",
       "      <td>0.685501</td>\n",
       "      <td>0.684094</td>\n",
       "    </tr>\n",
       "  </tbody>\n",
       "</table>\n",
       "<p>4 rows × 60 columns</p>\n",
       "</div>"
      ],
      "text/plain": [
       "              time_30   time_60   time_90  time_120  time_150  time_180  \\\n",
       "gbm_crude    0.863040  0.887528  0.868970  0.852051  0.845859  0.839303   \n",
       "rsf_crude    0.862053  0.878603  0.858918  0.836291  0.832149  0.826267   \n",
       "ridge_crude  0.831259  0.845034  0.831043  0.812009  0.803343  0.798285   \n",
       "lasso_crude  0.819608  0.839833  0.816990  0.796528  0.789369  0.783101   \n",
       "\n",
       "             time_210  time_240  time_270  time_300  ...  time_1530  \\\n",
       "gbm_crude    0.831652  0.826657  0.821665  0.813642  ...   0.737866   \n",
       "rsf_crude    0.818698  0.810690  0.803914  0.793836  ...   0.722668   \n",
       "ridge_crude  0.792374  0.788024  0.780044  0.774278  ...   0.706825   \n",
       "lasso_crude  0.778876  0.776596  0.768058  0.761063  ...   0.692229   \n",
       "\n",
       "             time_1560  time_1590  time_1620  time_1650  time_1680  time_1710  \\\n",
       "gbm_crude     0.736845   0.735535   0.733043   0.731320   0.729743   0.732027   \n",
       "rsf_crude     0.722200   0.719687   0.718749   0.720869   0.718863   0.719523   \n",
       "ridge_crude   0.705838   0.704903   0.700804   0.696175   0.692352   0.693665   \n",
       "lasso_crude   0.691958   0.690591   0.687427   0.685845   0.681747   0.682592   \n",
       "\n",
       "             time_1740  time_1770  time_1800  \n",
       "gbm_crude     0.735634   0.733641   0.734174  \n",
       "rsf_crude     0.723091   0.720314   0.720979  \n",
       "ridge_crude   0.696393   0.694669   0.694974  \n",
       "lasso_crude   0.685940   0.685501   0.684094  \n",
       "\n",
       "[4 rows x 60 columns]"
      ]
     },
     "execution_count": 149,
     "metadata": {},
     "output_type": "execute_result"
    }
   ],
   "source": [
    "crude_auc_over5"
   ]
  },
  {
   "cell_type": "code",
   "execution_count": 150,
   "id": "a405840b",
   "metadata": {},
   "outputs": [],
   "source": [
    "crude_auc_over5.to_csv('crude_auc_over5.csv', index = True, header = True)"
   ]
  },
  {
   "cell_type": "code",
   "execution_count": 151,
   "id": "7ef6e3fe",
   "metadata": {},
   "outputs": [],
   "source": [
    "# Variables passing through pipeline\n",
    "cat_encoder = list(preprocessor_red.transformers_[1][1].get_feature_names(categorical_features))\n",
    "pass_through = list(train_x_red.iloc[:, preprocessor_red.transformers_[2][2]].columns)\n",
    "attributes = numerical_features_red + cat_encoder + pass_through"
   ]
  },
  {
   "cell_type": "code",
   "execution_count": 152,
   "id": "a0d90b74",
   "metadata": {},
   "outputs": [
    {
     "name": "stdout",
     "output_type": "stream",
     "text": [
      "Total number of features: 168\n",
      "Number of non-zero features in final model: 36\n"
     ]
    },
    {
     "data": {
      "image/png": "[encoded data removed]",
      "text/plain": [
       "<Figure size 600x800 with 1 Axes>"
      ]
     },
     "metadata": {},
     "output_type": "display_data"
    }
   ],
   "source": [
    "# Dataframe of coefficients for each variable \n",
    "coefficients_lasso = pd.DataFrame(\n",
    "    lasso.named_steps['coxnetsurvivalanalysis'].coef_,\n",
    "    index = attributes,\n",
    "    columns = ['coefficient']\n",
    ")\n",
    "\n",
    "print('Total number of features: {}'.format(len(attributes)))\n",
    "\n",
    "non_zero = np.sum(coefficients_lasso.iloc[:, 0] != 0)\n",
    "print('Number of non-zero features in final model: {}'.format(non_zero))\n",
    "\n",
    "non_zero_coefs = coefficients_lasso.query('coefficient != 0')\n",
    "coef_order = non_zero_coefs.abs().sort_values('coefficient').tail(30).index\n",
    "\n",
    "_, ax = plt.subplots(figsize=(6, 8))\n",
    "non_zero_coefs.loc[coef_order].plot.barh(ax = ax, legend = False)\n",
    "ax.set_xlabel('coefficient')\n",
    "ax.grid(True)"
   ]
  },
  {
   "cell_type": "markdown",
   "id": "ddbe0b63",
   "metadata": {},
   "source": [
    "### 4.3 Elastic net "
   ]
  },
  {
   "cell_type": "code",
   "execution_count": 153,
   "id": "7cbb1a2e",
   "metadata": {},
   "outputs": [
    {
     "data": {
      "text/plain": [
       "Pipeline(steps=[('columntransformer',\n",
       "                 ColumnTransformer(remainder='passthrough',\n",
       "                                   transformers=[('num',\n",
       "                                                  Pipeline(steps=[('imputer',\n",
       "                                                                   SimpleImputer(strategy='median')),\n",
       "                                                                  ('std_scaler',\n",
       "                                                                   StandardScaler())]),\n",
       "                                                  ['age', 'delta_met_diagnosis',\n",
       "                                                   'weight_diag', 'bmi_diag',\n",
       "                                                   'weight_pct_change',\n",
       "                                                   'weight_slope',\n",
       "                                                   'albumin_diag', 'alp_diag',\n",
       "                                                   'alt_diag', 'ast_diag',\n",
       "                                                   'bicarb_diag', 'bun...\n",
       "                                                   'total_bilirubin_diag',\n",
       "                                                   'wbc_diag', 'alp_max',\n",
       "                                                   'alt_max', 'ast_max',\n",
       "                                                   'cea_max', 'creatinine_max',\n",
       "                                                   'total_bilirubin_max',\n",
       "                                                   'wbc_max', ...]),\n",
       "                                                 ('cat',\n",
       "                                                  OneHotEncoder(handle_unknown='ignore'),\n",
       "                                                  ['gender', 'p_type', 'stage',\n",
       "                                                   'met_year', 'crc_site',\n",
       "                                                   'KRAS', 'dMMR_MSIh', 'NRAS',\n",
       "                                                   'BRAF',\n",
       "                                                   'ecog_diagnosis'])])),\n",
       "                ('coxnetsurvivalanalysis',\n",
       "                 CoxnetSurvivalAnalysis(alpha_min_ratio=0.0001, l1_ratio=0.8))])"
      ]
     },
     "execution_count": 153,
     "metadata": {},
     "output_type": "execute_result"
    }
   ],
   "source": [
    "enet = make_pipeline(preprocessor_red, CoxnetSurvivalAnalysis(l1_ratio = 0.8, alpha_min_ratio = 0.0001))\n",
    "\n",
    "enet.fit(train_x_red, train_y)"
   ]
  },
  {
   "cell_type": "code",
   "execution_count": 154,
   "id": "52a79434",
   "metadata": {},
   "outputs": [
    {
     "data": {
      "text/plain": [
       "array([2.03699660e-01, 1.85603544e-01, 1.69115037e-01, 1.54091323e-01,\n",
       "       1.40402274e-01, 1.27929323e-01, 1.16564435e-01, 1.06209172e-01,\n",
       "       9.67738416e-02, 8.81767202e-02, 8.03433434e-02, 7.32058622e-02,\n",
       "       6.67024552e-02, 6.07767929e-02, 5.53775502e-02, 5.04579612e-02,\n",
       "       4.59754150e-02, 4.18910859e-02, 3.81695972e-02, 3.47787154e-02,\n",
       "       3.16890702e-02, 2.88739005e-02, 2.63088228e-02, 2.39716195e-02,\n",
       "       2.18420469e-02, 1.99016596e-02, 1.81336510e-02, 1.65227075e-02,\n",
       "       1.50548757e-02, 1.37174420e-02, 1.24988223e-02, 1.13884613e-02,\n",
       "       1.03767418e-02, 9.45490069e-03, 8.61495337e-03, 7.84962465e-03,\n",
       "       7.15228563e-03, 6.51689629e-03, 5.93795319e-03, 5.41044179e-03,\n",
       "       4.92979305e-03, 4.49184383e-03, 4.09280080e-03, 3.72920766e-03,\n",
       "       3.39791513e-03, 3.09605371e-03, 2.82100883e-03, 2.57039818e-03,\n",
       "       2.34205109e-03, 2.13398973e-03, 1.94441196e-03, 1.77167576e-03,\n",
       "       1.61428497e-03, 1.47087634e-03, 1.34020774e-03, 1.22114738e-03,\n",
       "       1.11266401e-03, 1.01381801e-03, 9.23753212e-04, 8.41689522e-04,\n",
       "       7.66916145e-04, 6.98785428e-04, 6.36707257e-04, 5.80143939e-04,\n",
       "       5.28605550e-04, 4.81645690e-04, 4.38857614e-04, 3.99870714e-04,\n",
       "       3.64347301e-04, 3.31979691e-04, 3.02487531e-04, 2.75615372e-04,\n",
       "       2.51130462e-04, 2.28820724e-04, 2.08492921e-04, 1.89970985e-04,\n",
       "       1.73094486e-04, 1.57717249e-04, 1.43706083e-04, 1.30939631e-04,\n",
       "       1.19307315e-04, 1.08708382e-04, 9.90510290e-05, 9.02516086e-05,\n",
       "       8.22339044e-05, 7.49284710e-05, 6.82720321e-05, 6.22069330e-05,\n",
       "       5.66806405e-05, 5.16452886e-05, 4.70572635e-05, 4.28768259e-05,\n",
       "       3.90677669e-05, 3.55970941e-05, 3.24347464e-05, 2.95533329e-05,\n",
       "       2.69278963e-05, 2.45356962e-05, 2.23560126e-05, 2.03699660e-05])"
      ]
     },
     "execution_count": 154,
     "metadata": {},
     "output_type": "execute_result"
    }
   ],
   "source": [
    "enet.named_steps['coxnetsurvivalanalysis'].alphas_"
   ]
  },
  {
   "cell_type": "code",
   "execution_count": 155,
   "id": "d85b4819",
   "metadata": {},
   "outputs": [],
   "source": [
    "estimated_alphas = enet.named_steps['coxnetsurvivalanalysis'].alphas_"
   ]
  },
  {
   "cell_type": "code",
   "execution_count": 157,
   "id": "87144802",
   "metadata": {},
   "outputs": [
    {
     "data": {
      "text/plain": [
       "GridSearchCV(cv=StratifiedKFold(n_splits=5, random_state=42, shuffle=True),\n",
       "             error_score=0.5,\n",
       "             estimator=as_cumulative_dynamic_auc_scorer(estimator=Pipeline(steps=[('columntransformer',\n",
       "                                                                                   ColumnTransformer(remainder='passthrough',\n",
       "                                                                                                     transformers=[('num',\n",
       "                                                                                                                    Pipeline(steps=[('imputer',\n",
       "                                                                                                                                     SimpleImputer(strategy='median')),\n",
       "                                                                                                                                    ('std_scaler',\n",
       "                                                                                                                                     StandardScaler())]),\n",
       "                                                                                                                    ['age',\n",
       "                                                                                                                     'delta...\n",
       "                                                                       [0.05045796122441022],\n",
       "                                                                       [0.045975415017202106],\n",
       "                                                                       [0.04189108586062733],\n",
       "                                                                       [0.038169597249439795],\n",
       "                                                                       [0.03477871542961776],\n",
       "                                                                       [0.03168907020500681],\n",
       "                                                                       [0.028873900546731238],\n",
       "                                                                       [0.026308822801964168],\n",
       "                                                                       [0.0239716194943917],\n",
       "                                                                       [0.021842046887061733],\n",
       "                                                                       [0.01990165964081891],\n",
       "                                                                       [0.018133651049600956],\n",
       "                                                                       [0.01652270746879094],\n",
       "                                                                       [0.015054875675753534],\n",
       "                                                                       [0.013717442013695628], ...]},\n",
       "             refit=False)"
      ]
     },
     "execution_count": 157,
     "metadata": {},
     "output_type": "execute_result"
    }
   ],
   "source": [
    "pipe = make_pipeline(preprocessor_red, CoxnetSurvivalAnalysis(l1_ratio = 0.9, max_iter = 100000))\n",
    "\n",
    "# 5 fold cross-validation\n",
    "cv = StratifiedKFold(n_splits = 5, shuffle = True, random_state = 42)\n",
    "\n",
    "# Parameter gird \n",
    "param_grid = {'estimator__coxnetsurvivalanalysis__alphas': [[x] for x in estimated_alphas]}\n",
    "\n",
    "enet_search = GridSearchCV(\n",
    "    as_cumulative_dynamic_auc_scorer(pipe, 730),\n",
    "    param_grid = param_grid,\n",
    "    cv = cv,\n",
    "    error_score = 0.5,\n",
    "    n_jobs = -1,\n",
    "    refit = False)\n",
    "\n",
    "# Run search \n",
    "warnings.filterwarnings('ignore')\n",
    "enet_search.fit(train_x_red, train_y)"
   ]
  },
  {
   "cell_type": "code",
   "execution_count": 158,
   "id": "903c3556",
   "metadata": {},
   "outputs": [
    {
     "data": {
      "text/plain": [
       "{'estimator__coxnetsurvivalanalysis__alphas': [0.010376741831217864]}"
      ]
     },
     "execution_count": 158,
     "metadata": {},
     "output_type": "execute_result"
    }
   ],
   "source": [
    "enet_search.best_params_"
   ]
  },
  {
   "cell_type": "code",
   "execution_count": 159,
   "id": "7677809d",
   "metadata": {},
   "outputs": [],
   "source": [
    "best_enet_alpha = enet_search.best_params_.get('estimator__coxnetsurvivalanalysis__alphas')"
   ]
  },
  {
   "cell_type": "code",
   "execution_count": 161,
   "id": "46c0168c",
   "metadata": {},
   "outputs": [],
   "source": [
    "enet_search_results = pd.DataFrame(enet_search.cv_results_)"
   ]
  },
  {
   "cell_type": "code",
   "execution_count": 162,
   "id": "3fcf342a",
   "metadata": {},
   "outputs": [
    {
     "data": {
      "text/html": [
       "<div>\n",
       "<style scoped>\n",
       "    .dataframe tbody tr th:only-of-type {\n",
       "        vertical-align: middle;\n",
       "    }\n",
       "\n",
       "    .dataframe tbody tr th {\n",
       "        vertical-align: top;\n",
       "    }\n",
       "\n",
       "    .dataframe thead th {\n",
       "        text-align: right;\n",
       "    }\n",
       "</style>\n",
       "<table border=\"1\" class=\"dataframe\">\n",
       "  <thead>\n",
       "    <tr style=\"text-align: right;\">\n",
       "      <th></th>\n",
       "      <th>mean_fit_time</th>\n",
       "      <th>std_fit_time</th>\n",
       "      <th>mean_score_time</th>\n",
       "      <th>std_score_time</th>\n",
       "      <th>param_estimator__coxnetsurvivalanalysis__alphas</th>\n",
       "      <th>params</th>\n",
       "      <th>split0_test_score</th>\n",
       "      <th>split1_test_score</th>\n",
       "      <th>split2_test_score</th>\n",
       "      <th>split3_test_score</th>\n",
       "      <th>split4_test_score</th>\n",
       "      <th>mean_test_score</th>\n",
       "      <th>std_test_score</th>\n",
       "      <th>rank_test_score</th>\n",
       "    </tr>\n",
       "  </thead>\n",
       "  <tbody>\n",
       "    <tr>\n",
       "      <th>32</th>\n",
       "      <td>0.445681</td>\n",
       "      <td>0.093734</td>\n",
       "      <td>0.039649</td>\n",
       "      <td>0.004221</td>\n",
       "      <td>[0.010376741831217864]</td>\n",
       "      <td>{'estimator__coxnetsurvivalanalysis__alphas': ...</td>\n",
       "      <td>0.717539</td>\n",
       "      <td>0.714741</td>\n",
       "      <td>0.713935</td>\n",
       "      <td>0.709878</td>\n",
       "      <td>0.698802</td>\n",
       "      <td>0.710979</td>\n",
       "      <td>0.006564</td>\n",
       "      <td>1</td>\n",
       "    </tr>\n",
       "    <tr>\n",
       "      <th>31</th>\n",
       "      <td>0.360110</td>\n",
       "      <td>0.047815</td>\n",
       "      <td>0.042431</td>\n",
       "      <td>0.007632</td>\n",
       "      <td>[0.01138846134960176]</td>\n",
       "      <td>{'estimator__coxnetsurvivalanalysis__alphas': ...</td>\n",
       "      <td>0.716230</td>\n",
       "      <td>0.713472</td>\n",
       "      <td>0.712392</td>\n",
       "      <td>0.708625</td>\n",
       "      <td>0.697481</td>\n",
       "      <td>0.709640</td>\n",
       "      <td>0.006551</td>\n",
       "      <td>2</td>\n",
       "    </tr>\n",
       "    <tr>\n",
       "      <th>30</th>\n",
       "      <td>0.282477</td>\n",
       "      <td>0.023086</td>\n",
       "      <td>0.037491</td>\n",
       "      <td>0.006164</td>\n",
       "      <td>[0.012498822272053315]</td>\n",
       "      <td>{'estimator__coxnetsurvivalanalysis__alphas': ...</td>\n",
       "      <td>0.714572</td>\n",
       "      <td>0.712208</td>\n",
       "      <td>0.710292</td>\n",
       "      <td>0.707090</td>\n",
       "      <td>0.695869</td>\n",
       "      <td>0.708006</td>\n",
       "      <td>0.006544</td>\n",
       "      <td>3</td>\n",
       "    </tr>\n",
       "    <tr>\n",
       "      <th>29</th>\n",
       "      <td>0.292725</td>\n",
       "      <td>0.031300</td>\n",
       "      <td>0.045960</td>\n",
       "      <td>0.002493</td>\n",
       "      <td>[0.013717442013695628]</td>\n",
       "      <td>{'estimator__coxnetsurvivalanalysis__alphas': ...</td>\n",
       "      <td>0.712584</td>\n",
       "      <td>0.710493</td>\n",
       "      <td>0.708067</td>\n",
       "      <td>0.704980</td>\n",
       "      <td>0.693926</td>\n",
       "      <td>0.706010</td>\n",
       "      <td>0.006552</td>\n",
       "      <td>4</td>\n",
       "    </tr>\n",
       "    <tr>\n",
       "      <th>28</th>\n",
       "      <td>0.286353</td>\n",
       "      <td>0.031521</td>\n",
       "      <td>0.041467</td>\n",
       "      <td>0.004782</td>\n",
       "      <td>[0.015054875675753534]</td>\n",
       "      <td>{'estimator__coxnetsurvivalanalysis__alphas': ...</td>\n",
       "      <td>0.710704</td>\n",
       "      <td>0.708359</td>\n",
       "      <td>0.705504</td>\n",
       "      <td>0.702278</td>\n",
       "      <td>0.691670</td>\n",
       "      <td>0.703703</td>\n",
       "      <td>0.006645</td>\n",
       "      <td>5</td>\n",
       "    </tr>\n",
       "    <tr>\n",
       "      <th>27</th>\n",
       "      <td>0.247165</td>\n",
       "      <td>0.025207</td>\n",
       "      <td>0.042473</td>\n",
       "      <td>0.013061</td>\n",
       "      <td>[0.01652270746879094]</td>\n",
       "      <td>{'estimator__coxnetsurvivalanalysis__alphas': ...</td>\n",
       "      <td>0.708853</td>\n",
       "      <td>0.705900</td>\n",
       "      <td>0.702765</td>\n",
       "      <td>0.700136</td>\n",
       "      <td>0.689645</td>\n",
       "      <td>0.701460</td>\n",
       "      <td>0.006594</td>\n",
       "      <td>6</td>\n",
       "    </tr>\n",
       "    <tr>\n",
       "      <th>26</th>\n",
       "      <td>0.259112</td>\n",
       "      <td>0.009136</td>\n",
       "      <td>0.034004</td>\n",
       "      <td>0.001237</td>\n",
       "      <td>[0.018133651049600956]</td>\n",
       "      <td>{'estimator__coxnetsurvivalanalysis__alphas': ...</td>\n",
       "      <td>0.706418</td>\n",
       "      <td>0.703448</td>\n",
       "      <td>0.700529</td>\n",
       "      <td>0.698285</td>\n",
       "      <td>0.687717</td>\n",
       "      <td>0.699280</td>\n",
       "      <td>0.006396</td>\n",
       "      <td>7</td>\n",
       "    </tr>\n",
       "    <tr>\n",
       "      <th>25</th>\n",
       "      <td>0.267665</td>\n",
       "      <td>0.009632</td>\n",
       "      <td>0.038947</td>\n",
       "      <td>0.002931</td>\n",
       "      <td>[0.01990165964081891]</td>\n",
       "      <td>{'estimator__coxnetsurvivalanalysis__alphas': ...</td>\n",
       "      <td>0.703416</td>\n",
       "      <td>0.701519</td>\n",
       "      <td>0.697906</td>\n",
       "      <td>0.695867</td>\n",
       "      <td>0.685656</td>\n",
       "      <td>0.696873</td>\n",
       "      <td>0.006202</td>\n",
       "      <td>8</td>\n",
       "    </tr>\n",
       "    <tr>\n",
       "      <th>24</th>\n",
       "      <td>0.241588</td>\n",
       "      <td>0.003569</td>\n",
       "      <td>0.036243</td>\n",
       "      <td>0.003200</td>\n",
       "      <td>[0.021842046887061733]</td>\n",
       "      <td>{'estimator__coxnetsurvivalanalysis__alphas': ...</td>\n",
       "      <td>0.701290</td>\n",
       "      <td>0.699833</td>\n",
       "      <td>0.695133</td>\n",
       "      <td>0.693923</td>\n",
       "      <td>0.683932</td>\n",
       "      <td>0.694822</td>\n",
       "      <td>0.006107</td>\n",
       "      <td>9</td>\n",
       "    </tr>\n",
       "    <tr>\n",
       "      <th>23</th>\n",
       "      <td>0.236744</td>\n",
       "      <td>0.012905</td>\n",
       "      <td>0.039021</td>\n",
       "      <td>0.003027</td>\n",
       "      <td>[0.0239716194943917]</td>\n",
       "      <td>{'estimator__coxnetsurvivalanalysis__alphas': ...</td>\n",
       "      <td>0.699147</td>\n",
       "      <td>0.698357</td>\n",
       "      <td>0.693365</td>\n",
       "      <td>0.691923</td>\n",
       "      <td>0.682474</td>\n",
       "      <td>0.693053</td>\n",
       "      <td>0.005976</td>\n",
       "      <td>10</td>\n",
       "    </tr>\n",
       "  </tbody>\n",
       "</table>\n",
       "</div>"
      ],
      "text/plain": [
       "    mean_fit_time  std_fit_time  mean_score_time  std_score_time  \\\n",
       "32       0.445681      0.093734         0.039649        0.004221   \n",
       "31       0.360110      0.047815         0.042431        0.007632   \n",
       "30       0.282477      0.023086         0.037491        0.006164   \n",
       "29       0.292725      0.031300         0.045960        0.002493   \n",
       "28       0.286353      0.031521         0.041467        0.004782   \n",
       "27       0.247165      0.025207         0.042473        0.013061   \n",
       "26       0.259112      0.009136         0.034004        0.001237   \n",
       "25       0.267665      0.009632         0.038947        0.002931   \n",
       "24       0.241588      0.003569         0.036243        0.003200   \n",
       "23       0.236744      0.012905         0.039021        0.003027   \n",
       "\n",
       "   param_estimator__coxnetsurvivalanalysis__alphas  \\\n",
       "32                          [0.010376741831217864]   \n",
       "31                           [0.01138846134960176]   \n",
       "30                          [0.012498822272053315]   \n",
       "29                          [0.013717442013695628]   \n",
       "28                          [0.015054875675753534]   \n",
       "27                           [0.01652270746879094]   \n",
       "26                          [0.018133651049600956]   \n",
       "25                           [0.01990165964081891]   \n",
       "24                          [0.021842046887061733]   \n",
       "23                            [0.0239716194943917]   \n",
       "\n",
       "                                               params  split0_test_score  \\\n",
       "32  {'estimator__coxnetsurvivalanalysis__alphas': ...           0.717539   \n",
       "31  {'estimator__coxnetsurvivalanalysis__alphas': ...           0.716230   \n",
       "30  {'estimator__coxnetsurvivalanalysis__alphas': ...           0.714572   \n",
       "29  {'estimator__coxnetsurvivalanalysis__alphas': ...           0.712584   \n",
       "28  {'estimator__coxnetsurvivalanalysis__alphas': ...           0.710704   \n",
       "27  {'estimator__coxnetsurvivalanalysis__alphas': ...           0.708853   \n",
       "26  {'estimator__coxnetsurvivalanalysis__alphas': ...           0.706418   \n",
       "25  {'estimator__coxnetsurvivalanalysis__alphas': ...           0.703416   \n",
       "24  {'estimator__coxnetsurvivalanalysis__alphas': ...           0.701290   \n",
       "23  {'estimator__coxnetsurvivalanalysis__alphas': ...           0.699147   \n",
       "\n",
       "    split1_test_score  split2_test_score  split3_test_score  \\\n",
       "32           0.714741           0.713935           0.709878   \n",
       "31           0.713472           0.712392           0.708625   \n",
       "30           0.712208           0.710292           0.707090   \n",
       "29           0.710493           0.708067           0.704980   \n",
       "28           0.708359           0.705504           0.702278   \n",
       "27           0.705900           0.702765           0.700136   \n",
       "26           0.703448           0.700529           0.698285   \n",
       "25           0.701519           0.697906           0.695867   \n",
       "24           0.699833           0.695133           0.693923   \n",
       "23           0.698357           0.693365           0.691923   \n",
       "\n",
       "    split4_test_score  mean_test_score  std_test_score  rank_test_score  \n",
       "32           0.698802         0.710979        0.006564                1  \n",
       "31           0.697481         0.709640        0.006551                2  \n",
       "30           0.695869         0.708006        0.006544                3  \n",
       "29           0.693926         0.706010        0.006552                4  \n",
       "28           0.691670         0.703703        0.006645                5  \n",
       "27           0.689645         0.701460        0.006594                6  \n",
       "26           0.687717         0.699280        0.006396                7  \n",
       "25           0.685656         0.696873        0.006202                8  \n",
       "24           0.683932         0.694822        0.006107                9  \n",
       "23           0.682474         0.693053        0.005976               10  "
      ]
     },
     "execution_count": 162,
     "metadata": {},
     "output_type": "execute_result"
    }
   ],
   "source": [
    "enet_search_results.sort_values(by = 'rank_test_score').head(10)"
   ]
  },
  {
   "cell_type": "code",
   "execution_count": 163,
   "id": "8c849bbf",
   "metadata": {},
   "outputs": [
    {
     "data": {
      "text/plain": [
       "Pipeline(steps=[('columntransformer',\n",
       "                 ColumnTransformer(remainder='passthrough',\n",
       "                                   transformers=[('num',\n",
       "                                                  Pipeline(steps=[('imputer',\n",
       "                                                                   SimpleImputer(strategy='median')),\n",
       "                                                                  ('std_scaler',\n",
       "                                                                   StandardScaler())]),\n",
       "                                                  ['age', 'delta_met_diagnosis',\n",
       "                                                   'weight_diag', 'bmi_diag',\n",
       "                                                   'weight_pct_change',\n",
       "                                                   'weight_slope',\n",
       "                                                   'albumin_diag', 'alp_diag',\n",
       "                                                   'alt_diag', 'ast_diag',\n",
       "                                                   'bicarb_diag', 'bun...\n",
       "                                                   'wbc_diag', 'alp_max',\n",
       "                                                   'alt_max', 'ast_max',\n",
       "                                                   'cea_max', 'creatinine_max',\n",
       "                                                   'total_bilirubin_max',\n",
       "                                                   'wbc_max', ...]),\n",
       "                                                 ('cat',\n",
       "                                                  OneHotEncoder(handle_unknown='ignore'),\n",
       "                                                  ['gender', 'p_type', 'stage',\n",
       "                                                   'met_year', 'crc_site',\n",
       "                                                   'KRAS', 'dMMR_MSIh', 'NRAS',\n",
       "                                                   'BRAF',\n",
       "                                                   'ecog_diagnosis'])])),\n",
       "                ('coxnetsurvivalanalysis',\n",
       "                 CoxnetSurvivalAnalysis(alphas=[0.01138846134960176],\n",
       "                                        l1_ratio=0.8))])"
      ]
     },
     "execution_count": 163,
     "metadata": {},
     "output_type": "execute_result"
    }
   ],
   "source": [
    "enet = make_pipeline(preprocessor_red, CoxnetSurvivalAnalysis(l1_ratio = 0.8,\n",
    "                                                              alphas = [0.01138846134960176],\n",
    "                                                              max_iter = 100000))\n",
    "\n",
    "enet.fit(train_x_red, train_y)"
   ]
  },
  {
   "cell_type": "markdown",
   "id": "6e97a5c6",
   "metadata": {},
   "source": [
    "**The second best alpha was selected since the best alpha was too small.**"
   ]
  },
  {
   "cell_type": "code",
   "execution_count": 164,
   "id": "10f599b1",
   "metadata": {},
   "outputs": [
    {
     "name": "stdout",
     "output_type": "stream",
     "text": [
      "Test set AUC at 2 years: 0.7208237176994806\n"
     ]
    }
   ],
   "source": [
    "enet_risk_scores_te = enet.predict(test_x_red)\n",
    "enet_auc_te = cumulative_dynamic_auc(train_y, test_y, enet_risk_scores_te, 730)[0][0]\n",
    "print('Test set AUC at 2 years:', enet_auc_te)"
   ]
  },
  {
   "cell_type": "code",
   "execution_count": 165,
   "id": "b18b1308",
   "metadata": {},
   "outputs": [
    {
     "name": "stdout",
     "output_type": "stream",
     "text": [
      "Training set AUC at 2 years: 0.7122192787557464\n"
     ]
    }
   ],
   "source": [
    "enet_risk_scores_tr = enet.predict(train_x_red)\n",
    "enet_auc_tr = cumulative_dynamic_auc(train_y, train_y, enet_risk_scores_tr, 730)[0][0]\n",
    "print('Training set AUC at 2 years:', enet_auc_tr)"
   ]
  },
  {
   "cell_type": "code",
   "execution_count": 166,
   "id": "933d6973",
   "metadata": {},
   "outputs": [],
   "source": [
    "# Bootstrap 10000 2-yr AUCs for test set \n",
    "n_bootstraps = 10000\n",
    "rng_seed = 42 \n",
    "bootstrapped_scores_te = []\n",
    "\n",
    "rng = np.random.RandomState(rng_seed)\n",
    "for i in range(n_bootstraps):\n",
    "    indices = rng.randint(0, len(enet_risk_scores_te), len(enet_risk_scores_te))\n",
    "    auc_yr = cumulative_dynamic_auc(train_y, test_y[indices], enet_risk_scores_te[indices], 730)[0][0]\n",
    "    bootstrapped_scores_te.append(auc_yr)"
   ]
  },
  {
   "cell_type": "code",
   "execution_count": 167,
   "id": "ae568d0b",
   "metadata": {},
   "outputs": [
    {
     "name": "stdout",
     "output_type": "stream",
     "text": [
      "Test set AUC standard error: 0.0069372605302145795\n"
     ]
    }
   ],
   "source": [
    "# Standard error of mean for test set AUC\n",
    "sorted_scores_te = np.array(bootstrapped_scores_te)\n",
    "sorted_scores_te.sort()\n",
    "\n",
    "conf_lower_te = sorted_scores_te[int(0.025 * len(sorted_scores_te))]\n",
    "conf_upper_te = sorted_scores_te[int(0.975 * len(sorted_scores_te))]\n",
    "\n",
    "standard_error_te = (conf_upper_te - conf_lower_te) / 3.92\n",
    "print('Test set AUC standard error:', standard_error_te)"
   ]
  },
  {
   "cell_type": "code",
   "execution_count": 168,
   "id": "8a562ce9",
   "metadata": {},
   "outputs": [],
   "source": [
    "# Bootstrap 10000 2-yr AUCs for train set \n",
    "n_bootstraps = 10000\n",
    "rng_seed = 42 \n",
    "bootstrapped_scores_tr = []\n",
    "\n",
    "rng = np.random.RandomState(rng_seed)\n",
    "for i in range(n_bootstraps):\n",
    "    indices = rng.randint(0, len(enet_risk_scores_tr), len(enet_risk_scores_tr))\n",
    "    auc_yr = cumulative_dynamic_auc(train_y, train_y[indices], enet_risk_scores_tr[indices], 730)[0][0]\n",
    "    bootstrapped_scores_tr.append(auc_yr)"
   ]
  },
  {
   "cell_type": "code",
   "execution_count": 169,
   "id": "09ef1ca4",
   "metadata": {},
   "outputs": [
    {
     "name": "stdout",
     "output_type": "stream",
     "text": [
      "Training set AUC standard error 0.003549397560514213\n"
     ]
    }
   ],
   "source": [
    "# Standard error of mean for train set AUC\n",
    "sorted_scores_tr = np.array(bootstrapped_scores_tr)\n",
    "sorted_scores_tr.sort()\n",
    "\n",
    "conf_lower_tr = sorted_scores_tr[int(0.025 * len(sorted_scores_tr))]\n",
    "conf_upper_tr = sorted_scores_tr[int(0.975 * len(sorted_scores_tr))]\n",
    "\n",
    "standard_error_tr = (conf_upper_tr - conf_lower_tr) / 3.92\n",
    "print('Training set AUC standard error', standard_error_tr)"
   ]
  },
  {
   "cell_type": "code",
   "execution_count": 170,
   "id": "570e5591",
   "metadata": {},
   "outputs": [],
   "source": [
    "crude_auc_data = {'model': 'enet_crude',\n",
    "                  'auc_2yr_te': enet_auc_te,\n",
    "                  'sem_te': standard_error_te,\n",
    "                  'auc_2yr_tr': enet_auc_tr,\n",
    "                  'sem_tr': standard_error_tr}"
   ]
  },
  {
   "cell_type": "code",
   "execution_count": 171,
   "id": "740dad37",
   "metadata": {},
   "outputs": [],
   "source": [
    "crude_auc_df = pd.read_csv('crude_auc_df.csv')"
   ]
  },
  {
   "cell_type": "code",
   "execution_count": 172,
   "id": "0253bbdf",
   "metadata": {},
   "outputs": [],
   "source": [
    "crude_auc_df = crude_auc_df.append(crude_auc_data, ignore_index = True)"
   ]
  },
  {
   "cell_type": "code",
   "execution_count": 173,
   "id": "fa61e506",
   "metadata": {},
   "outputs": [
    {
     "data": {
      "text/html": [
       "<div>\n",
       "<style scoped>\n",
       "    .dataframe tbody tr th:only-of-type {\n",
       "        vertical-align: middle;\n",
       "    }\n",
       "\n",
       "    .dataframe tbody tr th {\n",
       "        vertical-align: top;\n",
       "    }\n",
       "\n",
       "    .dataframe thead th {\n",
       "        text-align: right;\n",
       "    }\n",
       "</style>\n",
       "<table border=\"1\" class=\"dataframe\">\n",
       "  <thead>\n",
       "    <tr style=\"text-align: right;\">\n",
       "      <th></th>\n",
       "      <th>model</th>\n",
       "      <th>auc_2yr_te</th>\n",
       "      <th>sem_te</th>\n",
       "      <th>auc_2yr_tr</th>\n",
       "      <th>sem_tr</th>\n",
       "    </tr>\n",
       "  </thead>\n",
       "  <tbody>\n",
       "    <tr>\n",
       "      <th>0</th>\n",
       "      <td>gbm_crude</td>\n",
       "      <td>0.767784</td>\n",
       "      <td>0.006411</td>\n",
       "      <td>0.817127</td>\n",
       "      <td>0.002841</td>\n",
       "    </tr>\n",
       "    <tr>\n",
       "      <th>1</th>\n",
       "      <td>rsf_crude</td>\n",
       "      <td>0.743442</td>\n",
       "      <td>0.006667</td>\n",
       "      <td>0.878791</td>\n",
       "      <td>0.002280</td>\n",
       "    </tr>\n",
       "    <tr>\n",
       "      <th>2</th>\n",
       "      <td>ridge_crude</td>\n",
       "      <td>0.735669</td>\n",
       "      <td>0.006739</td>\n",
       "      <td>0.731836</td>\n",
       "      <td>0.003417</td>\n",
       "    </tr>\n",
       "    <tr>\n",
       "      <th>3</th>\n",
       "      <td>lasso_crude</td>\n",
       "      <td>0.720964</td>\n",
       "      <td>0.006929</td>\n",
       "      <td>0.712436</td>\n",
       "      <td>0.003557</td>\n",
       "    </tr>\n",
       "    <tr>\n",
       "      <th>4</th>\n",
       "      <td>enet_crude</td>\n",
       "      <td>0.720824</td>\n",
       "      <td>0.006937</td>\n",
       "      <td>0.712219</td>\n",
       "      <td>0.003549</td>\n",
       "    </tr>\n",
       "  </tbody>\n",
       "</table>\n",
       "</div>"
      ],
      "text/plain": [
       "         model  auc_2yr_te    sem_te  auc_2yr_tr    sem_tr\n",
       "0    gbm_crude    0.767784  0.006411    0.817127  0.002841\n",
       "1    rsf_crude    0.743442  0.006667    0.878791  0.002280\n",
       "2  ridge_crude    0.735669  0.006739    0.731836  0.003417\n",
       "3  lasso_crude    0.720964  0.006929    0.712436  0.003557\n",
       "4   enet_crude    0.720824  0.006937    0.712219  0.003549"
      ]
     },
     "execution_count": 173,
     "metadata": {},
     "output_type": "execute_result"
    }
   ],
   "source": [
    "crude_auc_df"
   ]
  },
  {
   "cell_type": "code",
   "execution_count": 174,
   "id": "7e94440f",
   "metadata": {},
   "outputs": [],
   "source": [
    "crude_auc_df.to_csv('crude_auc_df.csv', index = False, header = True)"
   ]
  },
  {
   "cell_type": "code",
   "execution_count": 175,
   "id": "1c617eab",
   "metadata": {},
   "outputs": [],
   "source": [
    "times = np.arange(30, 1810, 30)\n",
    "crude_enet_auc_over5 = cumulative_dynamic_auc(train_y, test_y, enet_risk_scores_te, times)[0]\n",
    "\n",
    "times_data = {}\n",
    "values = crude_enet_auc_over5\n",
    "time_names = []\n",
    "\n",
    "for x in range(len(times)):\n",
    "    time_names.append('time_'+str(times[x]))\n",
    "\n",
    "for i in range(len(time_names)):\n",
    "    times_data[time_names[i]] = values[i]\n",
    "    \n",
    "crude_enet_over5_df = pd.DataFrame(times_data, index = ['enet_crude'])"
   ]
  },
  {
   "cell_type": "code",
   "execution_count": 176,
   "id": "53258a3b",
   "metadata": {},
   "outputs": [],
   "source": [
    "crude_auc_over5 = pd.read_csv('crude_auc_over5.csv', index_col = 0)"
   ]
  },
  {
   "cell_type": "code",
   "execution_count": 177,
   "id": "bcc9ea4f",
   "metadata": {},
   "outputs": [],
   "source": [
    "crude_auc_over5 = crude_auc_over5.append(crude_enet_over5_df, ignore_index = False)"
   ]
  },
  {
   "cell_type": "code",
   "execution_count": 178,
   "id": "643337ca",
   "metadata": {},
   "outputs": [
    {
     "data": {
      "text/html": [
       "<div>\n",
       "<style scoped>\n",
       "    .dataframe tbody tr th:only-of-type {\n",
       "        vertical-align: middle;\n",
       "    }\n",
       "\n",
       "    .dataframe tbody tr th {\n",
       "        vertical-align: top;\n",
       "    }\n",
       "\n",
       "    .dataframe thead th {\n",
       "        text-align: right;\n",
       "    }\n",
       "</style>\n",
       "<table border=\"1\" class=\"dataframe\">\n",
       "  <thead>\n",
       "    <tr style=\"text-align: right;\">\n",
       "      <th></th>\n",
       "      <th>time_30</th>\n",
       "      <th>time_60</th>\n",
       "      <th>time_90</th>\n",
       "      <th>time_120</th>\n",
       "      <th>time_150</th>\n",
       "      <th>time_180</th>\n",
       "      <th>time_210</th>\n",
       "      <th>time_240</th>\n",
       "      <th>time_270</th>\n",
       "      <th>time_300</th>\n",
       "      <th>...</th>\n",
       "      <th>time_1530</th>\n",
       "      <th>time_1560</th>\n",
       "      <th>time_1590</th>\n",
       "      <th>time_1620</th>\n",
       "      <th>time_1650</th>\n",
       "      <th>time_1680</th>\n",
       "      <th>time_1710</th>\n",
       "      <th>time_1740</th>\n",
       "      <th>time_1770</th>\n",
       "      <th>time_1800</th>\n",
       "    </tr>\n",
       "  </thead>\n",
       "  <tbody>\n",
       "    <tr>\n",
       "      <th>gbm_crude</th>\n",
       "      <td>0.863040</td>\n",
       "      <td>0.887528</td>\n",
       "      <td>0.868970</td>\n",
       "      <td>0.852051</td>\n",
       "      <td>0.845859</td>\n",
       "      <td>0.839303</td>\n",
       "      <td>0.831652</td>\n",
       "      <td>0.826657</td>\n",
       "      <td>0.821665</td>\n",
       "      <td>0.813642</td>\n",
       "      <td>...</td>\n",
       "      <td>0.737866</td>\n",
       "      <td>0.736845</td>\n",
       "      <td>0.735535</td>\n",
       "      <td>0.733043</td>\n",
       "      <td>0.731320</td>\n",
       "      <td>0.729743</td>\n",
       "      <td>0.732027</td>\n",
       "      <td>0.735634</td>\n",
       "      <td>0.733641</td>\n",
       "      <td>0.734174</td>\n",
       "    </tr>\n",
       "    <tr>\n",
       "      <th>rsf_crude</th>\n",
       "      <td>0.862053</td>\n",
       "      <td>0.878603</td>\n",
       "      <td>0.858918</td>\n",
       "      <td>0.836291</td>\n",
       "      <td>0.832149</td>\n",
       "      <td>0.826267</td>\n",
       "      <td>0.818698</td>\n",
       "      <td>0.810690</td>\n",
       "      <td>0.803914</td>\n",
       "      <td>0.793836</td>\n",
       "      <td>...</td>\n",
       "      <td>0.722668</td>\n",
       "      <td>0.722200</td>\n",
       "      <td>0.719687</td>\n",
       "      <td>0.718749</td>\n",
       "      <td>0.720869</td>\n",
       "      <td>0.718863</td>\n",
       "      <td>0.719523</td>\n",
       "      <td>0.723091</td>\n",
       "      <td>0.720314</td>\n",
       "      <td>0.720979</td>\n",
       "    </tr>\n",
       "    <tr>\n",
       "      <th>ridge_crude</th>\n",
       "      <td>0.831259</td>\n",
       "      <td>0.845034</td>\n",
       "      <td>0.831043</td>\n",
       "      <td>0.812009</td>\n",
       "      <td>0.803343</td>\n",
       "      <td>0.798285</td>\n",
       "      <td>0.792374</td>\n",
       "      <td>0.788024</td>\n",
       "      <td>0.780044</td>\n",
       "      <td>0.774278</td>\n",
       "      <td>...</td>\n",
       "      <td>0.706825</td>\n",
       "      <td>0.705838</td>\n",
       "      <td>0.704903</td>\n",
       "      <td>0.700804</td>\n",
       "      <td>0.696175</td>\n",
       "      <td>0.692352</td>\n",
       "      <td>0.693665</td>\n",
       "      <td>0.696393</td>\n",
       "      <td>0.694669</td>\n",
       "      <td>0.694974</td>\n",
       "    </tr>\n",
       "    <tr>\n",
       "      <th>lasso_crude</th>\n",
       "      <td>0.819608</td>\n",
       "      <td>0.839833</td>\n",
       "      <td>0.816990</td>\n",
       "      <td>0.796528</td>\n",
       "      <td>0.789369</td>\n",
       "      <td>0.783101</td>\n",
       "      <td>0.778876</td>\n",
       "      <td>0.776596</td>\n",
       "      <td>0.768058</td>\n",
       "      <td>0.761063</td>\n",
       "      <td>...</td>\n",
       "      <td>0.692229</td>\n",
       "      <td>0.691958</td>\n",
       "      <td>0.690591</td>\n",
       "      <td>0.687427</td>\n",
       "      <td>0.685845</td>\n",
       "      <td>0.681747</td>\n",
       "      <td>0.682592</td>\n",
       "      <td>0.685940</td>\n",
       "      <td>0.685501</td>\n",
       "      <td>0.684094</td>\n",
       "    </tr>\n",
       "    <tr>\n",
       "      <th>enet_crude</th>\n",
       "      <td>0.819748</td>\n",
       "      <td>0.839791</td>\n",
       "      <td>0.816935</td>\n",
       "      <td>0.796459</td>\n",
       "      <td>0.789219</td>\n",
       "      <td>0.782970</td>\n",
       "      <td>0.778707</td>\n",
       "      <td>0.776465</td>\n",
       "      <td>0.767920</td>\n",
       "      <td>0.760888</td>\n",
       "      <td>...</td>\n",
       "      <td>0.692136</td>\n",
       "      <td>0.691865</td>\n",
       "      <td>0.690509</td>\n",
       "      <td>0.687349</td>\n",
       "      <td>0.685765</td>\n",
       "      <td>0.681715</td>\n",
       "      <td>0.682548</td>\n",
       "      <td>0.685890</td>\n",
       "      <td>0.685475</td>\n",
       "      <td>0.684049</td>\n",
       "    </tr>\n",
       "  </tbody>\n",
       "</table>\n",
       "<p>5 rows × 60 columns</p>\n",
       "</div>"
      ],
      "text/plain": [
       "              time_30   time_60   time_90  time_120  time_150  time_180  \\\n",
       "gbm_crude    0.863040  0.887528  0.868970  0.852051  0.845859  0.839303   \n",
       "rsf_crude    0.862053  0.878603  0.858918  0.836291  0.832149  0.826267   \n",
       "ridge_crude  0.831259  0.845034  0.831043  0.812009  0.803343  0.798285   \n",
       "lasso_crude  0.819608  0.839833  0.816990  0.796528  0.789369  0.783101   \n",
       "enet_crude   0.819748  0.839791  0.816935  0.796459  0.789219  0.782970   \n",
       "\n",
       "             time_210  time_240  time_270  time_300  ...  time_1530  \\\n",
       "gbm_crude    0.831652  0.826657  0.821665  0.813642  ...   0.737866   \n",
       "rsf_crude    0.818698  0.810690  0.803914  0.793836  ...   0.722668   \n",
       "ridge_crude  0.792374  0.788024  0.780044  0.774278  ...   0.706825   \n",
       "lasso_crude  0.778876  0.776596  0.768058  0.761063  ...   0.692229   \n",
       "enet_crude   0.778707  0.776465  0.767920  0.760888  ...   0.692136   \n",
       "\n",
       "             time_1560  time_1590  time_1620  time_1650  time_1680  time_1710  \\\n",
       "gbm_crude     0.736845   0.735535   0.733043   0.731320   0.729743   0.732027   \n",
       "rsf_crude     0.722200   0.719687   0.718749   0.720869   0.718863   0.719523   \n",
       "ridge_crude   0.705838   0.704903   0.700804   0.696175   0.692352   0.693665   \n",
       "lasso_crude   0.691958   0.690591   0.687427   0.685845   0.681747   0.682592   \n",
       "enet_crude    0.691865   0.690509   0.687349   0.685765   0.681715   0.682548   \n",
       "\n",
       "             time_1740  time_1770  time_1800  \n",
       "gbm_crude     0.735634   0.733641   0.734174  \n",
       "rsf_crude     0.723091   0.720314   0.720979  \n",
       "ridge_crude   0.696393   0.694669   0.694974  \n",
       "lasso_crude   0.685940   0.685501   0.684094  \n",
       "enet_crude    0.685890   0.685475   0.684049  \n",
       "\n",
       "[5 rows x 60 columns]"
      ]
     },
     "execution_count": 178,
     "metadata": {},
     "output_type": "execute_result"
    }
   ],
   "source": [
    "crude_auc_over5"
   ]
  },
  {
   "cell_type": "code",
   "execution_count": 179,
   "id": "d2f18eca",
   "metadata": {},
   "outputs": [],
   "source": [
    "crude_auc_over5.to_csv('crude_auc_over5.csv', index = True, header = True)"
   ]
  },
  {
   "cell_type": "code",
   "execution_count": 180,
   "id": "47c22dd0",
   "metadata": {},
   "outputs": [],
   "source": [
    "# Variables passing through pipeline\n",
    "cat_encoder = list(preprocessor_red.transformers_[1][1].get_feature_names(categorical_features))\n",
    "pass_through = list(train_x_red.iloc[:, preprocessor_red.transformers_[2][2]].columns)\n",
    "attributes = numerical_features_red + cat_encoder + pass_through"
   ]
  },
  {
   "cell_type": "code",
   "execution_count": 181,
   "id": "fd0ebb47",
   "metadata": {},
   "outputs": [
    {
     "name": "stdout",
     "output_type": "stream",
     "text": [
      "Total number of features: 168\n",
      "Number of non-zero features in final model: 37\n"
     ]
    },
    {
     "data": {
      "image/png": "[encoded data removed]",
      "text/plain": [
       "<Figure size 600x800 with 1 Axes>"
      ]
     },
     "metadata": {},
     "output_type": "display_data"
    }
   ],
   "source": [
    "# Dataframe of coefficients for each variable \n",
    "coefficients_enet = pd.DataFrame(\n",
    "    enet.named_steps['coxnetsurvivalanalysis'].coef_,\n",
    "    index = attributes,\n",
    "    columns = ['coefficient']\n",
    ")\n",
    "\n",
    "print('Total number of features: {}'.format(len(attributes)))\n",
    "\n",
    "non_zero = np.sum(coefficients_enet.iloc[:, 0] != 0)\n",
    "print('Number of non-zero features in final model: {}'.format(non_zero))\n",
    "\n",
    "non_zero_coefs = coefficients_enet.query('coefficient != 0')\n",
    "coef_order = non_zero_coefs.abs().sort_values('coefficient').tail(30).index\n",
    "\n",
    "_, ax = plt.subplots(figsize=(6, 8))\n",
    "non_zero_coefs.loc[coef_order].plot.barh(ax = ax, legend = False)\n",
    "ax.set_xlabel('coefficient')\n",
    "ax.grid(True)"
   ]
  },
  {
   "cell_type": "markdown",
   "id": "82996d38",
   "metadata": {},
   "source": [
    "**Among the penalized Cox models, the ridge penalty has the best performance in regards to test set 2 year AUC. Not surprisingly, the penalized Cox models perform worse than the gradient boosting model or the random survival forest.**"
   ]
  },
  {
   "cell_type": "markdown",
   "id": "f093ffd9",
   "metadata": {},
   "source": [
    "## 5. Linear survival support vector machine "
   ]
  },
  {
   "cell_type": "markdown",
   "id": "0b31c29b",
   "metadata": {},
   "source": [
    "**Lastly, we'll build a survival support vector machines with a linear kernel and a ranking objective.** "
   ]
  },
  {
   "cell_type": "code",
   "execution_count": 182,
   "id": "ebebc8b6",
   "metadata": {},
   "outputs": [],
   "source": [
    "from sklearn.model_selection import StratifiedKFold, GridSearchCV\n",
    "from sklearn.pipeline import make_pipeline\n",
    "\n",
    "from sksurv.svm import FastSurvivalSVM\n",
    "from sksurv.metrics import cumulative_dynamic_auc, as_cumulative_dynamic_auc_scorer\n",
    "\n",
    "import warnings \n",
    "\n",
    "import matplotlib.pyplot as plt"
   ]
  },
  {
   "cell_type": "code",
   "execution_count": 183,
   "id": "5c982625",
   "metadata": {},
   "outputs": [
    {
     "data": {
      "text/plain": [
       "GridSearchCV(cv=StratifiedKFold(n_splits=5, random_state=42, shuffle=True),\n",
       "             error_score=0.5,\n",
       "             estimator=as_cumulative_dynamic_auc_scorer(estimator=Pipeline(steps=[('columntransformer',\n",
       "                                                                                   ColumnTransformer(remainder='passthrough',\n",
       "                                                                                                     transformers=[('num',\n",
       "                                                                                                                    Pipeline(steps=[('imputer',\n",
       "                                                                                                                                     SimpleImputer(strategy='median')),\n",
       "                                                                                                                                    ('std_scaler',\n",
       "                                                                                                                                     StandardScaler())]),\n",
       "                                                                                                                    ['age',\n",
       "                                                                                                                     'delta...\n",
       "                                                                                                   random_state=42,\n",
       "                                                                                                   rank_ratio=1,\n",
       "                                                                                                   tol=0.001))]),\n",
       "                                                        times=730),\n",
       "             n_jobs=-1,\n",
       "             param_grid={'estimator__fastsurvivalsvm__alpha': array([1.00000000e-03, 2.68269580e-03, 7.19685673e-03, 1.93069773e-02,\n",
       "       5.17947468e-02, 1.38949549e-01, 3.72759372e-01, 1.00000000e+00,\n",
       "       2.68269580e+00, 7.19685673e+00, 1.93069773e+01, 5.17947468e+01,\n",
       "       1.38949549e+02, 3.72759372e+02, 1.00000000e+03])},\n",
       "             refit=False)"
      ]
     },
     "execution_count": 183,
     "metadata": {},
     "output_type": "execute_result"
    }
   ],
   "source": [
    "pipe = make_pipeline(preprocessor_red, FastSurvivalSVM(rank_ratio = 1, \n",
    "                                                       max_iter = 1000, \n",
    "                                                       tol = 1e-3,\n",
    "                                                       random_state = 42))\n",
    "\n",
    "# 3 fold cross-validation\n",
    "cv = StratifiedKFold(n_splits = 5, shuffle = True, random_state = 42)\n",
    "\n",
    "# Parameter gird \n",
    "param_grid = {'estimator__fastsurvivalsvm__alpha': 10. ** np.linspace(-3, 3, 15)}\n",
    "\n",
    "linear_svm_search = GridSearchCV(\n",
    "    as_cumulative_dynamic_auc_scorer(pipe, 730),\n",
    "    param_grid = param_grid,\n",
    "    cv = cv,\n",
    "    error_score = 0.5,\n",
    "    n_jobs = -1,\n",
    "    refit = False)\n",
    "\n",
    "# Run search \n",
    "warnings.filterwarnings('ignore')\n",
    "linear_svm_search.fit(train_x_red, train_y)"
   ]
  },
  {
   "cell_type": "code",
   "execution_count": 184,
   "id": "eca0d5d7",
   "metadata": {},
   "outputs": [
    {
     "data": {
      "text/plain": [
       "{'estimator__fastsurvivalsvm__alpha': 1000.0}"
      ]
     },
     "execution_count": 184,
     "metadata": {},
     "output_type": "execute_result"
    }
   ],
   "source": [
    "linear_svm_search.best_params_"
   ]
  },
  {
   "cell_type": "code",
   "execution_count": 185,
   "id": "949d1058",
   "metadata": {},
   "outputs": [],
   "source": [
    "best_linear_svm_alpha = linear_svm_search.best_params_.get('estimator__fastsurvivalsvm__alpha')"
   ]
  },
  {
   "cell_type": "code",
   "execution_count": 186,
   "id": "5c9a4562",
   "metadata": {},
   "outputs": [
    {
     "data": {
      "text/plain": [
       "Pipeline(steps=[('columntransformer',\n",
       "                 ColumnTransformer(remainder='passthrough',\n",
       "                                   transformers=[('num',\n",
       "                                                  Pipeline(steps=[('imputer',\n",
       "                                                                   SimpleImputer(strategy='median')),\n",
       "                                                                  ('std_scaler',\n",
       "                                                                   StandardScaler())]),\n",
       "                                                  ['age', 'delta_met_diagnosis',\n",
       "                                                   'weight_diag', 'bmi_diag',\n",
       "                                                   'weight_pct_change',\n",
       "                                                   'weight_slope',\n",
       "                                                   'albumin_diag', 'alp_diag',\n",
       "                                                   'alt_diag', 'ast_diag',\n",
       "                                                   'bicarb_diag', 'bun...\n",
       "                                                   'alt_max', 'ast_max',\n",
       "                                                   'cea_max', 'creatinine_max',\n",
       "                                                   'total_bilirubin_max',\n",
       "                                                   'wbc_max', ...]),\n",
       "                                                 ('cat',\n",
       "                                                  OneHotEncoder(handle_unknown='ignore'),\n",
       "                                                  ['gender', 'p_type', 'stage',\n",
       "                                                   'met_year', 'crc_site',\n",
       "                                                   'KRAS', 'dMMR_MSIh', 'NRAS',\n",
       "                                                   'BRAF',\n",
       "                                                   'ecog_diagnosis'])])),\n",
       "                ('fastsurvivalsvm',\n",
       "                 FastSurvivalSVM(alpha=1000.0, max_iter=1000,\n",
       "                                 optimizer='avltree', random_state=42,\n",
       "                                 rank_ratio=1, tol=0.001))])"
      ]
     },
     "execution_count": 186,
     "metadata": {},
     "output_type": "execute_result"
    }
   ],
   "source": [
    "linear_svm = make_pipeline(preprocessor_red, FastSurvivalSVM(alpha = best_linear_svm_alpha,\n",
    "                                                             rank_ratio = 1,\n",
    "                                                             max_iter = 1000,\n",
    "                                                             tol = 1e-3,\n",
    "                                                             random_state = 42))\n",
    "\n",
    "linear_svm.fit(train_x_red, train_y)"
   ]
  },
  {
   "cell_type": "code",
   "execution_count": 187,
   "id": "7bc99b30",
   "metadata": {},
   "outputs": [
    {
     "name": "stdout",
     "output_type": "stream",
     "text": [
      "Test set AUC at 2 years: 0.7376403752501927\n"
     ]
    }
   ],
   "source": [
    "linear_svm_risk_scores_te = linear_svm.predict(test_x_red)\n",
    "linear_svm_auc_te = cumulative_dynamic_auc(train_y, test_y, linear_svm_risk_scores_te, 730)[0][0]\n",
    "print('Test set AUC at 2 years:', linear_svm_auc_te)"
   ]
  },
  {
   "cell_type": "code",
   "execution_count": 188,
   "id": "a589fcd6",
   "metadata": {},
   "outputs": [
    {
     "name": "stdout",
     "output_type": "stream",
     "text": [
      "Training set AUC at 2 years: 0.7363083659542152\n"
     ]
    }
   ],
   "source": [
    "linear_svm_risk_scores_tr = linear_svm.predict(train_x_red)\n",
    "linear_svm_auc_tr = cumulative_dynamic_auc(train_y, train_y, linear_svm_risk_scores_tr, 730)[0][0]\n",
    "print('Training set AUC at 2 years:', linear_svm_auc_tr)"
   ]
  },
  {
   "cell_type": "code",
   "execution_count": 189,
   "id": "122399b2",
   "metadata": {},
   "outputs": [],
   "source": [
    "# Bootstrap 10000 2-yr AUCs for test set \n",
    "n_bootstraps = 10000\n",
    "rng_seed = 42 \n",
    "bootstrapped_scores_te = []\n",
    "\n",
    "rng = np.random.RandomState(rng_seed)\n",
    "for i in range(n_bootstraps):\n",
    "    indices = rng.randint(0, len(linear_svm_risk_scores_te), len(linear_svm_risk_scores_te))\n",
    "    auc_yr = cumulative_dynamic_auc(train_y, test_y[indices], linear_svm_risk_scores_te[indices], 730)[0][0]\n",
    "    bootstrapped_scores_te.append(auc_yr)"
   ]
  },
  {
   "cell_type": "code",
   "execution_count": 190,
   "id": "68a2d81f",
   "metadata": {},
   "outputs": [
    {
     "name": "stdout",
     "output_type": "stream",
     "text": [
      "Test set AUC standard error: 0.006739155968055273\n"
     ]
    }
   ],
   "source": [
    "# Standard error of mean for test set AUC\n",
    "sorted_scores_te = np.array(bootstrapped_scores_te)\n",
    "sorted_scores_te.sort()\n",
    "\n",
    "conf_lower_te = sorted_scores_te[int(0.025 * len(sorted_scores_te))]\n",
    "conf_upper_te = sorted_scores_te[int(0.975 * len(sorted_scores_te))]\n",
    "\n",
    "standard_error_te = (conf_upper_te - conf_lower_te) / 3.92\n",
    "print('Test set AUC standard error:', standard_error_te)"
   ]
  },
  {
   "cell_type": "code",
   "execution_count": 191,
   "id": "a3d50ce5",
   "metadata": {},
   "outputs": [],
   "source": [
    "# Bootstrap 10000 2-yr AUCs for train set \n",
    "n_bootstraps = 10000\n",
    "rng_seed = 42 \n",
    "bootstrapped_scores_tr = []\n",
    "\n",
    "rng = np.random.RandomState(rng_seed)\n",
    "for i in range(n_bootstraps):\n",
    "    indices = rng.randint(0, len(linear_svm_risk_scores_tr), len(linear_svm_risk_scores_tr))\n",
    "    auc_yr = cumulative_dynamic_auc(train_y, train_y[indices], linear_svm_risk_scores_tr[indices], 730)[0][0]\n",
    "    bootstrapped_scores_tr.append(auc_yr)"
   ]
  },
  {
   "cell_type": "code",
   "execution_count": 192,
   "id": "ce3e1115",
   "metadata": {},
   "outputs": [
    {
     "name": "stdout",
     "output_type": "stream",
     "text": [
      "Training set AUC standard error 0.003441768550212816\n"
     ]
    }
   ],
   "source": [
    "# Standard error of mean for train set AUC\n",
    "sorted_scores_tr = np.array(bootstrapped_scores_tr)\n",
    "sorted_scores_tr.sort()\n",
    "\n",
    "conf_lower_tr = sorted_scores_tr[int(0.025 * len(sorted_scores_tr))]\n",
    "conf_upper_tr = sorted_scores_tr[int(0.975 * len(sorted_scores_tr))]\n",
    "\n",
    "standard_error_tr = (conf_upper_tr - conf_lower_tr) / 3.92\n",
    "print('Training set AUC standard error', standard_error_tr)"
   ]
  },
  {
   "cell_type": "code",
   "execution_count": 193,
   "id": "20fd37f4",
   "metadata": {},
   "outputs": [],
   "source": [
    "crude_auc_data = {'model': 'linear_svm_crude',\n",
    "                  'auc_2yr_te': linear_svm_auc_te,\n",
    "                  'sem_te': standard_error_te,\n",
    "                  'auc_2yr_tr': linear_svm_auc_tr,\n",
    "                  'sem_tr': standard_error_tr}"
   ]
  },
  {
   "cell_type": "code",
   "execution_count": 194,
   "id": "4a189cb5",
   "metadata": {},
   "outputs": [],
   "source": [
    "crude_auc_df = pd.read_csv('crude_auc_df.csv')"
   ]
  },
  {
   "cell_type": "code",
   "execution_count": 195,
   "id": "332a3bbf",
   "metadata": {},
   "outputs": [],
   "source": [
    "crude_auc_df = crude_auc_df.append(crude_auc_data, ignore_index = True)"
   ]
  },
  {
   "cell_type": "code",
   "execution_count": 196,
   "id": "64e19fd2",
   "metadata": {},
   "outputs": [
    {
     "data": {
      "text/html": [
       "<div>\n",
       "<style scoped>\n",
       "    .dataframe tbody tr th:only-of-type {\n",
       "        vertical-align: middle;\n",
       "    }\n",
       "\n",
       "    .dataframe tbody tr th {\n",
       "        vertical-align: top;\n",
       "    }\n",
       "\n",
       "    .dataframe thead th {\n",
       "        text-align: right;\n",
       "    }\n",
       "</style>\n",
       "<table border=\"1\" class=\"dataframe\">\n",
       "  <thead>\n",
       "    <tr style=\"text-align: right;\">\n",
       "      <th></th>\n",
       "      <th>model</th>\n",
       "      <th>auc_2yr_te</th>\n",
       "      <th>sem_te</th>\n",
       "      <th>auc_2yr_tr</th>\n",
       "      <th>sem_tr</th>\n",
       "    </tr>\n",
       "  </thead>\n",
       "  <tbody>\n",
       "    <tr>\n",
       "      <th>0</th>\n",
       "      <td>gbm_crude</td>\n",
       "      <td>0.767784</td>\n",
       "      <td>0.006411</td>\n",
       "      <td>0.817127</td>\n",
       "      <td>0.002841</td>\n",
       "    </tr>\n",
       "    <tr>\n",
       "      <th>1</th>\n",
       "      <td>rsf_crude</td>\n",
       "      <td>0.743442</td>\n",
       "      <td>0.006667</td>\n",
       "      <td>0.878791</td>\n",
       "      <td>0.002280</td>\n",
       "    </tr>\n",
       "    <tr>\n",
       "      <th>2</th>\n",
       "      <td>ridge_crude</td>\n",
       "      <td>0.735669</td>\n",
       "      <td>0.006739</td>\n",
       "      <td>0.731836</td>\n",
       "      <td>0.003417</td>\n",
       "    </tr>\n",
       "    <tr>\n",
       "      <th>3</th>\n",
       "      <td>lasso_crude</td>\n",
       "      <td>0.720964</td>\n",
       "      <td>0.006929</td>\n",
       "      <td>0.712436</td>\n",
       "      <td>0.003557</td>\n",
       "    </tr>\n",
       "    <tr>\n",
       "      <th>4</th>\n",
       "      <td>enet_crude</td>\n",
       "      <td>0.720824</td>\n",
       "      <td>0.006937</td>\n",
       "      <td>0.712219</td>\n",
       "      <td>0.003549</td>\n",
       "    </tr>\n",
       "    <tr>\n",
       "      <th>5</th>\n",
       "      <td>linear_svm_crude</td>\n",
       "      <td>0.737640</td>\n",
       "      <td>0.006739</td>\n",
       "      <td>0.736308</td>\n",
       "      <td>0.003442</td>\n",
       "    </tr>\n",
       "  </tbody>\n",
       "</table>\n",
       "</div>"
      ],
      "text/plain": [
       "              model  auc_2yr_te    sem_te  auc_2yr_tr    sem_tr\n",
       "0         gbm_crude    0.767784  0.006411    0.817127  0.002841\n",
       "1         rsf_crude    0.743442  0.006667    0.878791  0.002280\n",
       "2       ridge_crude    0.735669  0.006739    0.731836  0.003417\n",
       "3       lasso_crude    0.720964  0.006929    0.712436  0.003557\n",
       "4        enet_crude    0.720824  0.006937    0.712219  0.003549\n",
       "5  linear_svm_crude    0.737640  0.006739    0.736308  0.003442"
      ]
     },
     "execution_count": 196,
     "metadata": {},
     "output_type": "execute_result"
    }
   ],
   "source": [
    "crude_auc_df"
   ]
  },
  {
   "cell_type": "code",
   "execution_count": 197,
   "id": "da6aad2e",
   "metadata": {},
   "outputs": [],
   "source": [
    "crude_auc_df.to_csv('crude_auc_df.csv', index = False, header = True)"
   ]
  },
  {
   "cell_type": "code",
   "execution_count": 198,
   "id": "20d4e732",
   "metadata": {},
   "outputs": [],
   "source": [
    "times = np.arange(30, 1810, 30)\n",
    "crude_linear_svm_auc_over5 = cumulative_dynamic_auc(train_y, test_y, linear_svm_risk_scores_te, times)[0]\n",
    "\n",
    "times_data = {}\n",
    "values = crude_linear_svm_auc_over5\n",
    "time_names = []\n",
    "\n",
    "for x in range(len(times)):\n",
    "    time_names.append('time_'+str(times[x]))\n",
    "\n",
    "for i in range(len(time_names)):\n",
    "    times_data[time_names[i]] = values[i]\n",
    "    \n",
    "crude_linear_svm_over5_df = pd.DataFrame(times_data, index = ['linear_svm_crude'])"
   ]
  },
  {
   "cell_type": "code",
   "execution_count": 199,
   "id": "3d3b9f5e",
   "metadata": {},
   "outputs": [],
   "source": [
    "crude_auc_over5 = pd.read_csv('crude_auc_over5.csv', index_col = 0)"
   ]
  },
  {
   "cell_type": "code",
   "execution_count": 200,
   "id": "c0fc0d95",
   "metadata": {},
   "outputs": [],
   "source": [
    "crude_auc_over5 = crude_auc_over5.append(crude_linear_svm_over5_df, ignore_index = False)"
   ]
  },
  {
   "cell_type": "code",
   "execution_count": 201,
   "id": "1a696372",
   "metadata": {},
   "outputs": [
    {
     "data": {
      "text/html": [
       "<div>\n",
       "<style scoped>\n",
       "    .dataframe tbody tr th:only-of-type {\n",
       "        vertical-align: middle;\n",
       "    }\n",
       "\n",
       "    .dataframe tbody tr th {\n",
       "        vertical-align: top;\n",
       "    }\n",
       "\n",
       "    .dataframe thead th {\n",
       "        text-align: right;\n",
       "    }\n",
       "</style>\n",
       "<table border=\"1\" class=\"dataframe\">\n",
       "  <thead>\n",
       "    <tr style=\"text-align: right;\">\n",
       "      <th></th>\n",
       "      <th>time_30</th>\n",
       "      <th>time_60</th>\n",
       "      <th>time_90</th>\n",
       "      <th>time_120</th>\n",
       "      <th>time_150</th>\n",
       "      <th>time_180</th>\n",
       "      <th>time_210</th>\n",
       "      <th>time_240</th>\n",
       "      <th>time_270</th>\n",
       "      <th>time_300</th>\n",
       "      <th>...</th>\n",
       "      <th>time_1530</th>\n",
       "      <th>time_1560</th>\n",
       "      <th>time_1590</th>\n",
       "      <th>time_1620</th>\n",
       "      <th>time_1650</th>\n",
       "      <th>time_1680</th>\n",
       "      <th>time_1710</th>\n",
       "      <th>time_1740</th>\n",
       "      <th>time_1770</th>\n",
       "      <th>time_1800</th>\n",
       "    </tr>\n",
       "  </thead>\n",
       "  <tbody>\n",
       "    <tr>\n",
       "      <th>gbm_crude</th>\n",
       "      <td>0.863040</td>\n",
       "      <td>0.887528</td>\n",
       "      <td>0.868970</td>\n",
       "      <td>0.852051</td>\n",
       "      <td>0.845859</td>\n",
       "      <td>0.839303</td>\n",
       "      <td>0.831652</td>\n",
       "      <td>0.826657</td>\n",
       "      <td>0.821665</td>\n",
       "      <td>0.813642</td>\n",
       "      <td>...</td>\n",
       "      <td>0.737866</td>\n",
       "      <td>0.736845</td>\n",
       "      <td>0.735535</td>\n",
       "      <td>0.733043</td>\n",
       "      <td>0.731320</td>\n",
       "      <td>0.729743</td>\n",
       "      <td>0.732027</td>\n",
       "      <td>0.735634</td>\n",
       "      <td>0.733641</td>\n",
       "      <td>0.734174</td>\n",
       "    </tr>\n",
       "    <tr>\n",
       "      <th>rsf_crude</th>\n",
       "      <td>0.862053</td>\n",
       "      <td>0.878603</td>\n",
       "      <td>0.858918</td>\n",
       "      <td>0.836291</td>\n",
       "      <td>0.832149</td>\n",
       "      <td>0.826267</td>\n",
       "      <td>0.818698</td>\n",
       "      <td>0.810690</td>\n",
       "      <td>0.803914</td>\n",
       "      <td>0.793836</td>\n",
       "      <td>...</td>\n",
       "      <td>0.722668</td>\n",
       "      <td>0.722200</td>\n",
       "      <td>0.719687</td>\n",
       "      <td>0.718749</td>\n",
       "      <td>0.720869</td>\n",
       "      <td>0.718863</td>\n",
       "      <td>0.719523</td>\n",
       "      <td>0.723091</td>\n",
       "      <td>0.720314</td>\n",
       "      <td>0.720979</td>\n",
       "    </tr>\n",
       "    <tr>\n",
       "      <th>ridge_crude</th>\n",
       "      <td>0.831259</td>\n",
       "      <td>0.845034</td>\n",
       "      <td>0.831043</td>\n",
       "      <td>0.812009</td>\n",
       "      <td>0.803343</td>\n",
       "      <td>0.798285</td>\n",
       "      <td>0.792374</td>\n",
       "      <td>0.788024</td>\n",
       "      <td>0.780044</td>\n",
       "      <td>0.774278</td>\n",
       "      <td>...</td>\n",
       "      <td>0.706825</td>\n",
       "      <td>0.705838</td>\n",
       "      <td>0.704903</td>\n",
       "      <td>0.700804</td>\n",
       "      <td>0.696175</td>\n",
       "      <td>0.692352</td>\n",
       "      <td>0.693665</td>\n",
       "      <td>0.696393</td>\n",
       "      <td>0.694669</td>\n",
       "      <td>0.694974</td>\n",
       "    </tr>\n",
       "    <tr>\n",
       "      <th>lasso_crude</th>\n",
       "      <td>0.819608</td>\n",
       "      <td>0.839833</td>\n",
       "      <td>0.816990</td>\n",
       "      <td>0.796528</td>\n",
       "      <td>0.789369</td>\n",
       "      <td>0.783101</td>\n",
       "      <td>0.778876</td>\n",
       "      <td>0.776596</td>\n",
       "      <td>0.768058</td>\n",
       "      <td>0.761063</td>\n",
       "      <td>...</td>\n",
       "      <td>0.692229</td>\n",
       "      <td>0.691958</td>\n",
       "      <td>0.690591</td>\n",
       "      <td>0.687427</td>\n",
       "      <td>0.685845</td>\n",
       "      <td>0.681747</td>\n",
       "      <td>0.682592</td>\n",
       "      <td>0.685940</td>\n",
       "      <td>0.685501</td>\n",
       "      <td>0.684094</td>\n",
       "    </tr>\n",
       "    <tr>\n",
       "      <th>enet_crude</th>\n",
       "      <td>0.819748</td>\n",
       "      <td>0.839791</td>\n",
       "      <td>0.816935</td>\n",
       "      <td>0.796459</td>\n",
       "      <td>0.789219</td>\n",
       "      <td>0.782970</td>\n",
       "      <td>0.778707</td>\n",
       "      <td>0.776465</td>\n",
       "      <td>0.767920</td>\n",
       "      <td>0.760888</td>\n",
       "      <td>...</td>\n",
       "      <td>0.692136</td>\n",
       "      <td>0.691865</td>\n",
       "      <td>0.690509</td>\n",
       "      <td>0.687349</td>\n",
       "      <td>0.685765</td>\n",
       "      <td>0.681715</td>\n",
       "      <td>0.682548</td>\n",
       "      <td>0.685890</td>\n",
       "      <td>0.685475</td>\n",
       "      <td>0.684049</td>\n",
       "    </tr>\n",
       "    <tr>\n",
       "      <th>linear_svm_crude</th>\n",
       "      <td>0.839275</td>\n",
       "      <td>0.849813</td>\n",
       "      <td>0.840286</td>\n",
       "      <td>0.820797</td>\n",
       "      <td>0.811068</td>\n",
       "      <td>0.805197</td>\n",
       "      <td>0.798558</td>\n",
       "      <td>0.794343</td>\n",
       "      <td>0.787196</td>\n",
       "      <td>0.781919</td>\n",
       "      <td>...</td>\n",
       "      <td>0.697165</td>\n",
       "      <td>0.695918</td>\n",
       "      <td>0.695173</td>\n",
       "      <td>0.691229</td>\n",
       "      <td>0.686656</td>\n",
       "      <td>0.682640</td>\n",
       "      <td>0.683581</td>\n",
       "      <td>0.686396</td>\n",
       "      <td>0.684150</td>\n",
       "      <td>0.684272</td>\n",
       "    </tr>\n",
       "  </tbody>\n",
       "</table>\n",
       "<p>6 rows × 60 columns</p>\n",
       "</div>"
      ],
      "text/plain": [
       "                   time_30   time_60   time_90  time_120  time_150  time_180  \\\n",
       "gbm_crude         0.863040  0.887528  0.868970  0.852051  0.845859  0.839303   \n",
       "rsf_crude         0.862053  0.878603  0.858918  0.836291  0.832149  0.826267   \n",
       "ridge_crude       0.831259  0.845034  0.831043  0.812009  0.803343  0.798285   \n",
       "lasso_crude       0.819608  0.839833  0.816990  0.796528  0.789369  0.783101   \n",
       "enet_crude        0.819748  0.839791  0.816935  0.796459  0.789219  0.782970   \n",
       "linear_svm_crude  0.839275  0.849813  0.840286  0.820797  0.811068  0.805197   \n",
       "\n",
       "                  time_210  time_240  time_270  time_300  ...  time_1530  \\\n",
       "gbm_crude         0.831652  0.826657  0.821665  0.813642  ...   0.737866   \n",
       "rsf_crude         0.818698  0.810690  0.803914  0.793836  ...   0.722668   \n",
       "ridge_crude       0.792374  0.788024  0.780044  0.774278  ...   0.706825   \n",
       "lasso_crude       0.778876  0.776596  0.768058  0.761063  ...   0.692229   \n",
       "enet_crude        0.778707  0.776465  0.767920  0.760888  ...   0.692136   \n",
       "linear_svm_crude  0.798558  0.794343  0.787196  0.781919  ...   0.697165   \n",
       "\n",
       "                  time_1560  time_1590  time_1620  time_1650  time_1680  \\\n",
       "gbm_crude          0.736845   0.735535   0.733043   0.731320   0.729743   \n",
       "rsf_crude          0.722200   0.719687   0.718749   0.720869   0.718863   \n",
       "ridge_crude        0.705838   0.704903   0.700804   0.696175   0.692352   \n",
       "lasso_crude        0.691958   0.690591   0.687427   0.685845   0.681747   \n",
       "enet_crude         0.691865   0.690509   0.687349   0.685765   0.681715   \n",
       "linear_svm_crude   0.695918   0.695173   0.691229   0.686656   0.682640   \n",
       "\n",
       "                  time_1710  time_1740  time_1770  time_1800  \n",
       "gbm_crude          0.732027   0.735634   0.733641   0.734174  \n",
       "rsf_crude          0.719523   0.723091   0.720314   0.720979  \n",
       "ridge_crude        0.693665   0.696393   0.694669   0.694974  \n",
       "lasso_crude        0.682592   0.685940   0.685501   0.684094  \n",
       "enet_crude         0.682548   0.685890   0.685475   0.684049  \n",
       "linear_svm_crude   0.683581   0.686396   0.684150   0.684272  \n",
       "\n",
       "[6 rows x 60 columns]"
      ]
     },
     "execution_count": 201,
     "metadata": {},
     "output_type": "execute_result"
    }
   ],
   "source": [
    "crude_auc_over5"
   ]
  },
  {
   "cell_type": "code",
   "execution_count": 202,
   "id": "efd52084",
   "metadata": {},
   "outputs": [],
   "source": [
    "crude_auc_over5.to_csv('crude_auc_over5.csv', index = True, header = True)"
   ]
  },
  {
   "cell_type": "code",
   "execution_count": 203,
   "id": "d630527e",
   "metadata": {},
   "outputs": [],
   "source": [
    "# Variables passing through pipeline\n",
    "cat_encoder = list(preprocessor_red.transformers_[1][1].get_feature_names_out(categorical_features))\n",
    "pass_through = list(train_x_red.iloc[:, preprocessor_red.transformers_[2][2]].columns)\n",
    "attributes = numerical_features_red + cat_encoder + pass_through"
   ]
  },
  {
   "cell_type": "code",
   "execution_count": 204,
   "id": "6351c8a4",
   "metadata": {},
   "outputs": [
    {
     "name": "stdout",
     "output_type": "stream",
     "text": [
      "Total number of features: 168\n",
      "Number of non-zero features in final model: 168\n"
     ]
    },
    {
     "data": {
      "image/png": "[encoded data removed]",
      "text/plain": [
       "<Figure size 600x800 with 1 Axes>"
      ]
     },
     "metadata": {},
     "output_type": "display_data"
    }
   ],
   "source": [
    "# Dataframe of coefficients for each variable \n",
    "coefficients_linear_svm = pd.DataFrame(\n",
    "    linear_svm.named_steps['fastsurvivalsvm'].coef_,\n",
    "    index = attributes,\n",
    "    columns = ['coefficient']\n",
    ")\n",
    "\n",
    "print('Total number of features: {}'.format(len(attributes)))\n",
    "\n",
    "non_zero = np.sum(coefficients_linear_svm.iloc[:, 0] != 0)\n",
    "print('Number of non-zero features in final model: {}'.format(non_zero))\n",
    "\n",
    "non_zero_coefs = coefficients_linear_svm.query('coefficient != 0')\n",
    "coef_order = non_zero_coefs.abs().sort_values('coefficient').tail(30).index\n",
    "\n",
    "_, ax = plt.subplots(figsize=(6, 8))\n",
    "non_zero_coefs.loc[coef_order].plot.barh(ax = ax, legend = False)\n",
    "ax.set_xlabel('coefficient')\n",
    "ax.grid(True)"
   ]
  },
  {
   "cell_type": "markdown",
   "id": "8fd67e57",
   "metadata": {},
   "source": [
    "**In conclusion, the gradient boosting model has the best test set performance in regards to 2 year AUC. Random survival forest follows closely behind. The bottom performers are penalized Cox and linear survival support vector machine.** "
   ]
  }
 ],
 "metadata": {
  "kernelspec": {
   "display_name": "My Virtual Environment",
   "language": "python",
   "name": "myenv"
  },
  "language_info": {
   "codemirror_mode": {
    "name": "ipython",
    "version": 3
   },
   "file_extension": ".py",
   "mimetype": "text/x-python",
   "name": "python",
   "nbconvert_exporter": "python",
   "pygments_lexer": "ipython3",
   "version": "3.7.10"
  }
 },
 "nbformat": 4,
 "nbformat_minor": 5
}
