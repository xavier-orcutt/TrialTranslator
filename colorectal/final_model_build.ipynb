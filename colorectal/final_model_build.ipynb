{
 "cells": [
  {
   "cell_type": "markdown",
   "id": "0f78cdac",
   "metadata": {},
   "source": [
    "# Flatiron Health mCRC: Final GBM build \n",
    "\n",
    "**OBJECTIVE: Build a gradient boosted survival model on the entirety of the Flation Health metastatic colorectal cancer data set.**\n",
    "\n",
    "**BACKGROUND: For details on hyperparameter tuning of the gradient boosted model see notebook *Machine learning crude imputation*. Missingness will be crudely imputatated given similar test-set AUC performance when compared to MICE.** \n",
    "\n",
    "**OUTLINE:**\n",
    "1. **Preprocessing**\n",
    "2. **Gradient boosted model** \n",
    "3. **Calculate patient risk scores**\n",
    "4. **Export final list of variables**"
   ]
  },
  {
   "cell_type": "markdown",
   "id": "96942fad",
   "metadata": {},
   "source": [
    "## 1. Preprocessing "
   ]
  },
  {
   "cell_type": "code",
   "execution_count": 1,
   "id": "2ed49dc3",
   "metadata": {},
   "outputs": [],
   "source": [
    "import numpy as np\n",
    "import pandas as pd\n",
    "\n",
    "from sklearn.pipeline import Pipeline\n",
    "from sklearn.impute import SimpleImputer\n",
    "from sklearn.preprocessing import StandardScaler, OneHotEncoder\n",
    "from sklearn.compose import ColumnTransformer "
   ]
  },
  {
   "cell_type": "code",
   "execution_count": 2,
   "id": "b12b50c8",
   "metadata": {},
   "outputs": [],
   "source": [
    "# Function that returns number of rows and count of unique PatientIDs for a dataframe. \n",
    "def row_ID(dataframe):\n",
    "    row = dataframe.shape[0]\n",
    "    ID = dataframe['PatientID'].nunique()\n",
    "    return row, ID"
   ]
  },
  {
   "cell_type": "markdown",
   "id": "c2ef3648",
   "metadata": {},
   "source": [
    "### Importing full dataframes"
   ]
  },
  {
   "cell_type": "code",
   "execution_count": 3,
   "id": "3f7f008b",
   "metadata": {},
   "outputs": [],
   "source": [
    "# Import training set and set PatientID as index.\n",
    "train = pd.read_csv('train_full.csv')"
   ]
  },
  {
   "cell_type": "code",
   "execution_count": 4,
   "id": "e153dc23",
   "metadata": {},
   "outputs": [
    {
     "data": {
      "text/plain": [
       "(27452, 27452)"
      ]
     },
     "execution_count": 4,
     "metadata": {},
     "output_type": "execute_result"
    }
   ],
   "source": [
    "row_ID(train)"
   ]
  },
  {
   "cell_type": "code",
   "execution_count": 5,
   "id": "a6bdff04",
   "metadata": {},
   "outputs": [],
   "source": [
    "# Import test set and set PatientID as index.\n",
    "test = pd.read_csv('test_full.csv')"
   ]
  },
  {
   "cell_type": "code",
   "execution_count": 6,
   "id": "66071f30",
   "metadata": {},
   "outputs": [
    {
     "data": {
      "text/plain": [
       "(6863, 6863)"
      ]
     },
     "execution_count": 6,
     "metadata": {},
     "output_type": "execute_result"
    }
   ],
   "source": [
    "row_ID(test)"
   ]
  },
  {
   "cell_type": "code",
   "execution_count": 7,
   "id": "43809f86",
   "metadata": {},
   "outputs": [],
   "source": [
    "df = pd.concat([train, test])"
   ]
  },
  {
   "cell_type": "code",
   "execution_count": 8,
   "id": "8bb75482",
   "metadata": {},
   "outputs": [
    {
     "data": {
      "text/plain": [
       "(34315, 34315)"
      ]
     },
     "execution_count": 8,
     "metadata": {},
     "output_type": "execute_result"
    }
   ],
   "source": [
    "row_ID(df)"
   ]
  },
  {
   "cell_type": "code",
   "execution_count": 9,
   "id": "a5d00b72",
   "metadata": {},
   "outputs": [],
   "source": [
    "df = df.set_index('PatientID')"
   ]
  },
  {
   "cell_type": "code",
   "execution_count": 10,
   "id": "b272d579",
   "metadata": {},
   "outputs": [
    {
     "data": {
      "text/html": [
       "<div>\n",
       "<style scoped>\n",
       "    .dataframe tbody tr th:only-of-type {\n",
       "        vertical-align: middle;\n",
       "    }\n",
       "\n",
       "    .dataframe tbody tr th {\n",
       "        vertical-align: top;\n",
       "    }\n",
       "\n",
       "    .dataframe thead th {\n",
       "        text-align: right;\n",
       "    }\n",
       "</style>\n",
       "<table border=\"1\" class=\"dataframe\">\n",
       "  <thead>\n",
       "    <tr style=\"text-align: right;\">\n",
       "      <th></th>\n",
       "      <th>gender</th>\n",
       "      <th>race</th>\n",
       "      <th>ethnicity</th>\n",
       "      <th>age</th>\n",
       "      <th>p_type</th>\n",
       "      <th>region</th>\n",
       "      <th>stage</th>\n",
       "      <th>met_year</th>\n",
       "      <th>delta_met_diagnosis</th>\n",
       "      <th>crc_site</th>\n",
       "      <th>...</th>\n",
       "      <th>icd_count</th>\n",
       "      <th>other_cancer</th>\n",
       "      <th>thorax_met</th>\n",
       "      <th>peritoneum_met</th>\n",
       "      <th>liver_met</th>\n",
       "      <th>other_gi_met</th>\n",
       "      <th>cns_met</th>\n",
       "      <th>bone_met</th>\n",
       "      <th>other_met</th>\n",
       "      <th>ses</th>\n",
       "    </tr>\n",
       "    <tr>\n",
       "      <th>PatientID</th>\n",
       "      <th></th>\n",
       "      <th></th>\n",
       "      <th></th>\n",
       "      <th></th>\n",
       "      <th></th>\n",
       "      <th></th>\n",
       "      <th></th>\n",
       "      <th></th>\n",
       "      <th></th>\n",
       "      <th></th>\n",
       "      <th></th>\n",
       "      <th></th>\n",
       "      <th></th>\n",
       "      <th></th>\n",
       "      <th></th>\n",
       "      <th></th>\n",
       "      <th></th>\n",
       "      <th></th>\n",
       "      <th></th>\n",
       "      <th></th>\n",
       "      <th></th>\n",
       "    </tr>\n",
       "  </thead>\n",
       "  <tbody>\n",
       "    <tr>\n",
       "      <th>F2B57342810CF</th>\n",
       "      <td>M</td>\n",
       "      <td>White</td>\n",
       "      <td>unknown</td>\n",
       "      <td>73</td>\n",
       "      <td>COMMUNITY</td>\n",
       "      <td>unknown</td>\n",
       "      <td>III</td>\n",
       "      <td>2019</td>\n",
       "      <td>1339</td>\n",
       "      <td>colon_right</td>\n",
       "      <td>...</td>\n",
       "      <td>2.0</td>\n",
       "      <td>0.0</td>\n",
       "      <td>0.0</td>\n",
       "      <td>0.0</td>\n",
       "      <td>0.0</td>\n",
       "      <td>0.0</td>\n",
       "      <td>0.0</td>\n",
       "      <td>0.0</td>\n",
       "      <td>0.0</td>\n",
       "      <td>1.0</td>\n",
       "    </tr>\n",
       "    <tr>\n",
       "      <th>FB1038319EE49</th>\n",
       "      <td>F</td>\n",
       "      <td>White</td>\n",
       "      <td>Not Hispanic or Latino</td>\n",
       "      <td>68</td>\n",
       "      <td>COMMUNITY</td>\n",
       "      <td>midwest</td>\n",
       "      <td>IV</td>\n",
       "      <td>2016</td>\n",
       "      <td>0</td>\n",
       "      <td>colon_unknown</td>\n",
       "      <td>...</td>\n",
       "      <td>1.0</td>\n",
       "      <td>0.0</td>\n",
       "      <td>0.0</td>\n",
       "      <td>0.0</td>\n",
       "      <td>0.0</td>\n",
       "      <td>0.0</td>\n",
       "      <td>0.0</td>\n",
       "      <td>0.0</td>\n",
       "      <td>0.0</td>\n",
       "      <td>4.0</td>\n",
       "    </tr>\n",
       "    <tr>\n",
       "      <th>F1AEE73927B71</th>\n",
       "      <td>F</td>\n",
       "      <td>unknown</td>\n",
       "      <td>unknown</td>\n",
       "      <td>76</td>\n",
       "      <td>COMMUNITY</td>\n",
       "      <td>south</td>\n",
       "      <td>IV</td>\n",
       "      <td>2020</td>\n",
       "      <td>0</td>\n",
       "      <td>rectum</td>\n",
       "      <td>...</td>\n",
       "      <td>0.0</td>\n",
       "      <td>0.0</td>\n",
       "      <td>0.0</td>\n",
       "      <td>0.0</td>\n",
       "      <td>0.0</td>\n",
       "      <td>0.0</td>\n",
       "      <td>0.0</td>\n",
       "      <td>0.0</td>\n",
       "      <td>0.0</td>\n",
       "      <td>NaN</td>\n",
       "    </tr>\n",
       "  </tbody>\n",
       "</table>\n",
       "<p>3 rows × 223 columns</p>\n",
       "</div>"
      ],
      "text/plain": [
       "              gender     race               ethnicity  age     p_type  \\\n",
       "PatientID                                                               \n",
       "F2B57342810CF      M    White                 unknown   73  COMMUNITY   \n",
       "FB1038319EE49      F    White  Not Hispanic or Latino   68  COMMUNITY   \n",
       "F1AEE73927B71      F  unknown                 unknown   76  COMMUNITY   \n",
       "\n",
       "                region stage  met_year  delta_met_diagnosis       crc_site  \\\n",
       "PatientID                                                                    \n",
       "F2B57342810CF  unknown   III      2019                 1339    colon_right   \n",
       "FB1038319EE49  midwest    IV      2016                    0  colon_unknown   \n",
       "F1AEE73927B71    south    IV      2020                    0         rectum   \n",
       "\n",
       "               ...  icd_count  other_cancer  thorax_met  peritoneum_met  \\\n",
       "PatientID      ...                                                        \n",
       "F2B57342810CF  ...        2.0           0.0         0.0             0.0   \n",
       "FB1038319EE49  ...        1.0           0.0         0.0             0.0   \n",
       "F1AEE73927B71  ...        0.0           0.0         0.0             0.0   \n",
       "\n",
       "               liver_met  other_gi_met  cns_met  bone_met  other_met  ses  \n",
       "PatientID                                                                  \n",
       "F2B57342810CF        0.0           0.0      0.0       0.0        0.0  1.0  \n",
       "FB1038319EE49        0.0           0.0      0.0       0.0        0.0  4.0  \n",
       "F1AEE73927B71        0.0           0.0      0.0       0.0        0.0  NaN  \n",
       "\n",
       "[3 rows x 223 columns]"
      ]
     },
     "execution_count": 10,
     "metadata": {},
     "output_type": "execute_result"
    }
   ],
   "source": [
    "df.sample(3)"
   ]
  },
  {
   "cell_type": "markdown",
   "id": "eeede61c",
   "metadata": {},
   "source": [
    "### Converting datatypes "
   ]
  },
  {
   "cell_type": "code",
   "execution_count": 11,
   "id": "89d3a565",
   "metadata": {},
   "outputs": [
    {
     "data": {
      "text/plain": [
       "['gender',\n",
       " 'race',\n",
       " 'ethnicity',\n",
       " 'p_type',\n",
       " 'region',\n",
       " 'stage',\n",
       " 'crc_site',\n",
       " 'KRAS',\n",
       " 'dMMR_MSIh',\n",
       " 'NRAS',\n",
       " 'BRAF',\n",
       " 'ecog_diagnosis']"
      ]
     },
     "execution_count": 11,
     "metadata": {},
     "output_type": "execute_result"
    }
   ],
   "source": [
    "list(df.select_dtypes(include = ['object']).columns)"
   ]
  },
  {
   "cell_type": "code",
   "execution_count": 12,
   "id": "49efb1bc",
   "metadata": {},
   "outputs": [],
   "source": [
    "to_be_categorical = list(df.select_dtypes(include = ['object']).columns)"
   ]
  },
  {
   "cell_type": "code",
   "execution_count": 13,
   "id": "c0d4c959",
   "metadata": {},
   "outputs": [],
   "source": [
    "to_be_categorical.append('met_year')"
   ]
  },
  {
   "cell_type": "code",
   "execution_count": 14,
   "id": "5ca8e634",
   "metadata": {},
   "outputs": [],
   "source": [
    "to_be_categorical.append('ses')"
   ]
  },
  {
   "cell_type": "code",
   "execution_count": 15,
   "id": "20843fda",
   "metadata": {},
   "outputs": [],
   "source": [
    "# Convert variables in list to categorical.\n",
    "for x in list(to_be_categorical):\n",
    "    df[x] = df[x].astype('category')"
   ]
  },
  {
   "cell_type": "code",
   "execution_count": 16,
   "id": "7b977446",
   "metadata": {},
   "outputs": [
    {
     "data": {
      "text/plain": [
       "['gender',\n",
       " 'race',\n",
       " 'ethnicity',\n",
       " 'p_type',\n",
       " 'region',\n",
       " 'stage',\n",
       " 'met_year',\n",
       " 'crc_site',\n",
       " 'KRAS',\n",
       " 'dMMR_MSIh',\n",
       " 'NRAS',\n",
       " 'BRAF',\n",
       " 'ecog_diagnosis',\n",
       " 'ses']"
      ]
     },
     "execution_count": 16,
     "metadata": {},
     "output_type": "execute_result"
    }
   ],
   "source": [
    "list(df.select_dtypes(include = ['category']).columns)"
   ]
  },
  {
   "cell_type": "code",
   "execution_count": 17,
   "id": "737f24a1",
   "metadata": {},
   "outputs": [],
   "source": [
    "# Convert death_status into True or False (required for scikit-survival). \n",
    "df['death_status'] = df['death_status'].astype('bool')"
   ]
  },
  {
   "cell_type": "markdown",
   "id": "08de7a94",
   "metadata": {},
   "source": [
    "### Dropping unneeded labs "
   ]
  },
  {
   "cell_type": "code",
   "execution_count": 18,
   "id": "74a070f4",
   "metadata": {},
   "outputs": [],
   "source": [
    "drop_labs = [\n",
    "    'albumin_avg',\n",
    "    'alp_avg',\n",
    "    'alt_avg',\n",
    "    'ast_avg',\n",
    "    'bicarb_avg',\n",
    "    'bun_avg',\n",
    "    'calcium_avg',\n",
    "    'cea_avg',\n",
    "    'chloride_avg',\n",
    "    'creatinine_avg',\n",
    "    'hemoglobin_avg',\n",
    "    'neutrophil_count_avg',\n",
    "    'platelet_avg',\n",
    "    'potassium_avg',\n",
    "    'sodium_avg',\n",
    "    'total_bilirubin_avg',\n",
    "    'wbc_avg',\n",
    "    'albumin_max',\n",
    "    'bicarb_max',\n",
    "    'bun_max',\n",
    "    'calcium_max',\n",
    "    'chloride_max',\n",
    "    'hemoglobin_max',\n",
    "    'neutrophil_count_max',\n",
    "    'platelet_max',\n",
    "    'potassium_max',\n",
    "    'sodium_max',\n",
    "    'alp_min',\n",
    "    'alt_min',\n",
    "    'ast_min',\n",
    "    'bun_min',\n",
    "    'calcium_min',\n",
    "    'cea_min',\n",
    "    'chloride_min',\n",
    "    'creatinine_min',\n",
    "    'neutrophil_count_min',\n",
    "    'potassium_min',\n",
    "    'total_bilirubin_min',\n",
    "    'albumin_std',\n",
    "    'alp_std',\n",
    "    'alt_std',\n",
    "    'ast_std',\n",
    "    'bicarb_std',\n",
    "    'bun_std',\n",
    "    'calcium_std',\n",
    "    'cea_std',\n",
    "    'chloride_std',\n",
    "    'creatinine_std',\n",
    "    'hemoglobin_std',\n",
    "    'neutrophil_count_std',\n",
    "    'platelet_std',\n",
    "    'potassium_std',\n",
    "    'sodium_std',\n",
    "    'total_bilirubin_std',\n",
    "    'wbc_std',\n",
    "    'albumin_slope',\n",
    "    'alp_slope',\n",
    "    'alt_slope',\n",
    "    'ast_slope',\n",
    "    'bicarb_slope',\n",
    "    'bun_slope',\n",
    "    'calcium_slope',\n",
    "    'cea_slope',\n",
    "    'chloride_slope',\n",
    "    'creatinine_slope',\n",
    "    'hemoglobin_slope',\n",
    "    'neutrophil_count_slope',\n",
    "    'platelet_slope',\n",
    "    'potassium_slope',\n",
    "    'sodium_slope',\n",
    "    'total_bilirubin_slope',\n",
    "    'wbc_slope',\n",
    "    'albumin_slope_na',\n",
    "    'alp_slope_na',\n",
    "    'alt_slope_na',\n",
    "    'ast_slope_na',\n",
    "    'bicarb_slope_na',\n",
    "    'bun_slope_na',\n",
    "    'calcium_slope_na',\n",
    "    'cea_slope_na',\n",
    "    'chloride_slope_na',\n",
    "    'creatinine_slope_na',\n",
    "    'hemoglobin_slope_na',\n",
    "    'neutrophil_count_slope_na',\n",
    "    'platelet_slope_na',\n",
    "    'potassium_slope_na',\n",
    "    'sodium_slope_na',\n",
    "    'total_bilirubin_slope_na',\n",
    "    'wbc_slope_na']"
   ]
  },
  {
   "cell_type": "code",
   "execution_count": 19,
   "id": "87dfc2a7",
   "metadata": {},
   "outputs": [
    {
     "data": {
      "text/plain": [
       "(34315, 223)"
      ]
     },
     "execution_count": 19,
     "metadata": {},
     "output_type": "execute_result"
    }
   ],
   "source": [
    "df.shape"
   ]
  },
  {
   "cell_type": "code",
   "execution_count": 20,
   "id": "e89c5f22",
   "metadata": {},
   "outputs": [],
   "source": [
    "df = df.drop(columns = drop_labs)"
   ]
  },
  {
   "cell_type": "code",
   "execution_count": 21,
   "id": "1763d0d1",
   "metadata": {},
   "outputs": [
    {
     "data": {
      "text/plain": [
       "(34315, 134)"
      ]
     },
     "execution_count": 21,
     "metadata": {},
     "output_type": "execute_result"
    }
   ],
   "source": [
    "df.shape"
   ]
  },
  {
   "cell_type": "code",
   "execution_count": 22,
   "id": "4b935da4",
   "metadata": {},
   "outputs": [],
   "source": [
    "df.loc[:, 'alp_max_na'] = np.where(df['alp_max'].isna(), 1, 0)\n",
    "df.loc[:, 'alt_max_na'] = np.where(df['alt_max'].isna(), 1, 0)\n",
    "df.loc[:, 'ast_max_na'] = np.where(df['ast_max'].isna(), 1, 0)\n",
    "df.loc[:, 'cea_max_na'] = np.where(df['cea_max'].isna(), 1, 0)\n",
    "df.loc[:, 'creatinine_max_na'] = np.where(df['creatinine_max'].isna(), 1, 0)\n",
    "df.loc[:, 'total_bilirubin_max_na'] = np.where(df['total_bilirubin_max'].isna(), 1, 0)\n",
    "df.loc[:, 'wbc_max_na'] = np.where(df['wbc_max'].isna(), 1, 0)\n",
    "df.loc[:, 'albumin_min_na'] = np.where(df['albumin_min'].isna(), 1, 0)\n",
    "df.loc[:, 'bicarb_min_na'] = np.where(df['bicarb_min'].isna(), 1, 0)\n",
    "df.loc[:, 'hemoglobin_min_na'] = np.where(df['hemoglobin_min'].isna(), 1, 0)\n",
    "df.loc[:, 'platelet_min_na'] = np.where(df['platelet_min'].isna(), 1, 0)\n",
    "df.loc[:, 'sodium_min_na'] = np.where(df['sodium_min'].isna(), 1, 0)\n",
    "df.loc[:, 'wbc_min_na'] = np.where(df['wbc_min'].isna(), 1, 0)"
   ]
  },
  {
   "cell_type": "code",
   "execution_count": 23,
   "id": "6124c781",
   "metadata": {},
   "outputs": [
    {
     "data": {
      "text/plain": [
       "(34315, 147)"
      ]
     },
     "execution_count": 23,
     "metadata": {},
     "output_type": "execute_result"
    }
   ],
   "source": [
    "df.shape"
   ]
  },
  {
   "cell_type": "markdown",
   "id": "3bcc93b2",
   "metadata": {},
   "source": [
    "### Separate into X and Y "
   ]
  },
  {
   "cell_type": "code",
   "execution_count": 24,
   "id": "374e94ed",
   "metadata": {},
   "outputs": [],
   "source": [
    "# 'X' datasets\n",
    "df_x = df.drop(columns = ['death_status', 'timerisk_activity']) #80% of data "
   ]
  },
  {
   "cell_type": "code",
   "execution_count": 25,
   "id": "53405cc6",
   "metadata": {},
   "outputs": [],
   "source": [
    "# 'Y' datasets\n",
    "# Death status and time until event needs to be stored as a structured array to be compatible with scikit-survival\n",
    "y_dtypes = df[['death_status', 'timerisk_activity']].dtypes\n",
    "\n",
    "df_y = np.array([tuple(x) for x in df[['death_status', 'timerisk_activity']].values],\n",
    "                dtype = list(zip(y_dtypes.index, y_dtypes)))"
   ]
  },
  {
   "cell_type": "markdown",
   "id": "da592b54",
   "metadata": {},
   "source": [
    "### Pipeline "
   ]
  },
  {
   "cell_type": "code",
   "execution_count": 26,
   "id": "19e110f2",
   "metadata": {},
   "outputs": [],
   "source": [
    "# List of numeric variables, excluding binary variables. \n",
    "numerical_features = [\n",
    "    'age',\n",
    "    'delta_met_diagnosis',\n",
    "    'weight_diag',\n",
    "    'bmi_diag',\n",
    "    'weight_pct_change',\n",
    "    'weight_slope',\n",
    "    'albumin_diag',\n",
    "    'alp_diag',\n",
    "    'alt_diag',\n",
    "    'ast_diag',\n",
    "    'bicarb_diag',\n",
    "    'bun_diag',\n",
    "    'calcium_diag',\n",
    "    'cea_diag',\n",
    "    'chloride_diag',\n",
    "    'creatinine_diag',\n",
    "    'hemoglobin_diag',\n",
    "    'neutrophil_count_diag',\n",
    "    'platelet_diag',\n",
    "    'potassium_diag',\n",
    "    'sodium_diag',\n",
    "    'total_bilirubin_diag',\n",
    "    'wbc_diag',\n",
    "    'alp_max',\n",
    "    'alt_max',\n",
    "    'ast_max',\n",
    "    'cea_max',\n",
    "    'creatinine_max',\n",
    "    'total_bilirubin_max',\n",
    "    'wbc_max',\n",
    "    'albumin_min',\n",
    "    'bicarb_min',\n",
    "    'hemoglobin_min',\n",
    "    'platelet_min',\n",
    "    'sodium_min',\n",
    "    'wbc_min',\n",
    "    'icd_count']\n",
    "\n",
    "# Transformer will impute column medians and then apply a standard scaler. \n",
    "numerical_transformer = Pipeline(steps = [\n",
    "    ('imputer', SimpleImputer(strategy = 'median')),\n",
    "    ('std_scaler', StandardScaler())])"
   ]
  },
  {
   "cell_type": "code",
   "execution_count": 27,
   "id": "b6f1bca4",
   "metadata": {},
   "outputs": [],
   "source": [
    "# List of categorical features.\n",
    "categorical_features = list(df_x.select_dtypes(include = ['category']).columns)\n",
    "\n",
    "# One-hot-encode categorical features.\n",
    "categorical_transformer = OneHotEncoder(handle_unknown = 'ignore')"
   ]
  },
  {
   "cell_type": "code",
   "execution_count": 28,
   "id": "b13cd654",
   "metadata": {},
   "outputs": [],
   "source": [
    "preprocessor = ColumnTransformer(\n",
    "    transformers = [\n",
    "        ('num', numerical_transformer, numerical_features),\n",
    "        ('cat', categorical_transformer, categorical_features)],\n",
    "    remainder = 'passthrough')"
   ]
  },
  {
   "cell_type": "markdown",
   "id": "0117e873",
   "metadata": {},
   "source": [
    "## 2. Gradient boosted model "
   ]
  },
  {
   "cell_type": "code",
   "execution_count": 29,
   "id": "27d25c5a",
   "metadata": {},
   "outputs": [],
   "source": [
    "from sklearn.pipeline import make_pipeline\n",
    "\n",
    "from sksurv.ensemble import GradientBoostingSurvivalAnalysis\n",
    "\n",
    "from joblib import dump, load "
   ]
  },
  {
   "cell_type": "code",
   "execution_count": 30,
   "id": "4938f130",
   "metadata": {},
   "outputs": [
    {
     "data": {
      "text/plain": [
       "(34315, 145)"
      ]
     },
     "execution_count": 30,
     "metadata": {},
     "output_type": "execute_result"
    }
   ],
   "source": [
    "df_x.shape"
   ]
  },
  {
   "cell_type": "code",
   "execution_count": 31,
   "id": "65e72753",
   "metadata": {},
   "outputs": [
    {
     "data": {
      "text/plain": [
       "(34315,)"
      ]
     },
     "execution_count": 31,
     "metadata": {},
     "output_type": "execute_result"
    }
   ],
   "source": [
    "df_y.shape"
   ]
  },
  {
   "cell_type": "code",
   "execution_count": 32,
   "id": "c6537517",
   "metadata": {},
   "outputs": [
    {
     "name": "stdout",
     "output_type": "stream",
     "text": [
      "      Iter       Train Loss      OOB Improve   Remaining Time \n",
      "         1       94778.3662          55.8002          275.94m\n",
      "         2       94590.4583          54.1311          277.74m\n",
      "         3       94242.3423          51.6475          277.68m\n",
      "         4       95065.2513          47.8158          277.62m\n",
      "         5       93439.8921          46.8606          277.56m\n",
      "         6       94563.9343          45.6671          277.30m\n",
      "         7       93909.7365          43.6798          277.02m\n",
      "         8       94106.9097          43.0470          276.86m\n",
      "         9       93543.4000          40.0091          276.60m\n",
      "        10       93839.8715          37.8394          276.30m\n",
      "        20       93391.7599          28.8121          273.80m\n",
      "        30       93550.5982          19.8527          271.52m\n",
      "        40       93448.8990          14.0523          268.90m\n",
      "        50       92582.1513          12.8008          266.40m\n",
      "        60       92557.7326          11.6394          263.88m\n",
      "        70       92779.4691           8.1872          261.42m\n",
      "        80       92994.8716           7.1787          258.94m\n",
      "        90       92263.5362           5.3529          256.62m\n",
      "       100       92864.3505           3.8003          254.30m\n",
      "       200       91513.1771           1.4320          230.25m\n",
      "       300       91931.1144           0.2412          205.71m\n",
      "       400       91197.5956           1.1352          180.95m\n",
      "       500       90843.7331           1.0268          156.10m\n",
      "       600       91382.0387          -0.6773          131.19m\n",
      "       700       90899.9801          -0.6811          106.25m\n",
      "       800       90762.4582          -0.0313           81.28m\n",
      "       900       90614.5305          -0.4548           56.27m\n",
      "      1000       90305.1979          -0.2502           31.27m\n"
     ]
    },
    {
     "data": {
      "text/plain": [
       "Pipeline(steps=[('columntransformer',\n",
       "                 ColumnTransformer(remainder='passthrough',\n",
       "                                   transformers=[('num',\n",
       "                                                  Pipeline(steps=[('imputer',\n",
       "                                                                   SimpleImputer(strategy='median')),\n",
       "                                                                  ('std_scaler',\n",
       "                                                                   StandardScaler())]),\n",
       "                                                  ['age', 'delta_met_diagnosis',\n",
       "                                                   'weight_diag', 'bmi_diag',\n",
       "                                                   'weight_pct_change',\n",
       "                                                   'weight_slope',\n",
       "                                                   'albumin_diag', 'alp_diag',\n",
       "                                                   'alt_diag', 'ast_diag',\n",
       "                                                   'bicarb_diag', 'bun...\n",
       "                                                   'wbc_max', ...]),\n",
       "                                                 ('cat',\n",
       "                                                  OneHotEncoder(handle_unknown='ignore'),\n",
       "                                                  ['gender', 'race',\n",
       "                                                   'ethnicity', 'p_type',\n",
       "                                                   'region', 'stage',\n",
       "                                                   'met_year', 'crc_site',\n",
       "                                                   'KRAS', 'dMMR_MSIh', 'NRAS',\n",
       "                                                   'BRAF', 'ecog_diagnosis',\n",
       "                                                   'ses'])])),\n",
       "                ('gradientboostingsurvivalanalysis',\n",
       "                 GradientBoostingSurvivalAnalysis(learning_rate=0.05,\n",
       "                                                  max_depth=4,\n",
       "                                                  n_estimators=1125,\n",
       "                                                  random_state=42,\n",
       "                                                  subsample=0.5, verbose=1))])"
      ]
     },
     "execution_count": 32,
     "metadata": {},
     "output_type": "execute_result"
    }
   ],
   "source": [
    "gbm_final = make_pipeline(preprocessor, GradientBoostingSurvivalAnalysis(n_estimators = 1125,\n",
    "                                                                         learning_rate = 0.05,\n",
    "                                                                         max_depth = 4,\n",
    "                                                                         subsample = 0.50,\n",
    "                                                                         verbose = 1,\n",
    "                                                                         random_state = 42))\n",
    "\n",
    "gbm_final.fit(df_x, df_y)"
   ]
  },
  {
   "cell_type": "code",
   "execution_count": 33,
   "id": "1ce29df2",
   "metadata": {},
   "outputs": [
    {
     "data": {
      "text/plain": [
       "['gbm_final.joblib']"
      ]
     },
     "execution_count": 33,
     "metadata": {},
     "output_type": "execute_result"
    }
   ],
   "source": [
    "dump(gbm_final, 'gbm_final.joblib') "
   ]
  },
  {
   "cell_type": "markdown",
   "id": "0df86bdf",
   "metadata": {},
   "source": [
    "## 3. Calculate patient risk scores "
   ]
  },
  {
   "cell_type": "code",
   "execution_count": 34,
   "id": "34184c2a",
   "metadata": {},
   "outputs": [],
   "source": [
    "# Calculate risk score for patients in training set. \n",
    "crude_risk_score_df = pd.DataFrame({'risk_score': gbm_final.predict(df_x)},\n",
    "                                   index = df_x.index)"
   ]
  },
  {
   "cell_type": "code",
   "execution_count": 35,
   "id": "b83d3029",
   "metadata": {},
   "outputs": [],
   "source": [
    "crude_risk_score_df.to_csv('crude_risk_score_df.csv', index = True, header = True)"
   ]
  },
  {
   "cell_type": "markdown",
   "id": "98df4148",
   "metadata": {},
   "source": [
    "## 4. Export final list of variables"
   ]
  },
  {
   "cell_type": "code",
   "execution_count": 36,
   "id": "c731cab5",
   "metadata": {},
   "outputs": [],
   "source": [
    "import csv"
   ]
  },
  {
   "cell_type": "code",
   "execution_count": 37,
   "id": "4c271472",
   "metadata": {},
   "outputs": [],
   "source": [
    "colorectal_columns = list(df_x.columns)"
   ]
  },
  {
   "cell_type": "code",
   "execution_count": 38,
   "id": "5c645803",
   "metadata": {},
   "outputs": [],
   "source": [
    "with open('colorectal_columns.csv', 'w', newline='') as csv_file:\n",
    "    csv_writer = csv.writer(csv_file)\n",
    "    csv_writer.writerow(colorectal_columns)"
   ]
  }
 ],
 "metadata": {
  "kernelspec": {
   "display_name": "Python 3 (ipykernel)",
   "language": "python",
   "name": "python3"
  },
  "language_info": {
   "codemirror_mode": {
    "name": "ipython",
    "version": 3
   },
   "file_extension": ".py",
   "mimetype": "text/x-python",
   "name": "python",
   "nbconvert_exporter": "python",
   "pygments_lexer": "ipython3",
   "version": "3.7.10"
  }
 },
 "nbformat": 4,
 "nbformat_minor": 5
}
