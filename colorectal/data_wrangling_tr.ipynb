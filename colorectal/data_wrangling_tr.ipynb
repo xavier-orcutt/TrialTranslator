{
 "cells": [
  {
   "cell_type": "markdown",
   "id": "445caacb",
   "metadata": {},
   "source": [
    "# Flatiron Health mCRC: Data Wrangling Training Set\n",
    "\n",
    "**OBJECTIVE: Identify a training cohort and create a dataframe of relevant variables which can be used to build machine learning survival models.**\n",
    "\n",
    "**BACKGROUND: There are three sections to this notebook. First, the final cohort will be split 80-20 into a train and test set. The split will ensure the distribution of diagnosis years is the same in the train and test set given increased missingness of in earlier diagnosis years and changes in treatment practices with time.**\n",
    "\n",
    "**The second section of this notebook involves preparing the data so that each row corresponds to a unique patient from the training set and each column is a relevant variable for mortality prognositication. There are 12 CSV files from Flatiron that will be used. The eligibility window for collecting variables is typically -90 days and +30 days from index date, which is time of metastatic diagnosis. Plus 30 was selected as the upper bound of the eligibility window given that median time to start of first line treatment is about 30 days from metastatic diagnosis.**\n",
    "\n",
    "**The last section involves merging these datatables into a master which will be used for building machine learning survival models.** \n",
    "\n",
    "**Details on missing data is discuessed in the machine learning building notebook.** \n",
    "\n",
    "**OUTLINE:**\n",
    "1. **Creating train and test cohort**\n",
    "2. **File cleaning for patients in training set**\n",
    "3. **Merge files to create master training dataframe**"
   ]
  },
  {
   "cell_type": "markdown",
   "id": "fc18139c",
   "metadata": {},
   "source": [
    "## Part 1: Creating training and test cohort "
   ]
  },
  {
   "cell_type": "code",
   "execution_count": 1,
   "id": "e5cf512d",
   "metadata": {},
   "outputs": [],
   "source": [
    "import numpy as np\n",
    "import pandas as pd\n",
    "import matplotlib.pyplot as plt\n",
    "import datetime as dt\n",
    "from sklearn.model_selection import StratifiedShuffleSplit"
   ]
  },
  {
   "cell_type": "code",
   "execution_count": 2,
   "id": "c761160e",
   "metadata": {},
   "outputs": [],
   "source": [
    "# Function that returns number of rows and count of unique PatientIDs for a dataframe. \n",
    "def row_ID(dataframe):\n",
    "    row = dataframe.shape[0]\n",
    "    ID = dataframe['PatientID'].nunique()\n",
    "    return row, ID"
   ]
  },
  {
   "cell_type": "markdown",
   "id": "21c3080d",
   "metadata": {},
   "source": [
    "### Splitting into training and test set\n",
    "\n",
    "**Patients will be split into a train and test set (80/20) stratified by metastatic diagnosis year.**"
   ]
  },
  {
   "cell_type": "code",
   "execution_count": 3,
   "id": "e7b58e0e",
   "metadata": {},
   "outputs": [],
   "source": [
    "enhanced_met = pd.read_csv('Enhanced_MetastaticCRC.csv')"
   ]
  },
  {
   "cell_type": "code",
   "execution_count": 4,
   "id": "eac66fbd",
   "metadata": {},
   "outputs": [
    {
     "data": {
      "text/plain": [
       "(34315, 34315)"
      ]
     },
     "execution_count": 4,
     "metadata": {},
     "output_type": "execute_result"
    }
   ],
   "source": [
    "row_ID(enhanced_met)"
   ]
  },
  {
   "cell_type": "code",
   "execution_count": 5,
   "id": "b08d2dc0",
   "metadata": {},
   "outputs": [],
   "source": [
    "enhanced_met.loc[:, 'MetDiagnosisDate'] = pd.to_datetime(enhanced_met['MetDiagnosisDate'])"
   ]
  },
  {
   "cell_type": "code",
   "execution_count": 6,
   "id": "24d1e059",
   "metadata": {},
   "outputs": [],
   "source": [
    "enhanced_met = enhanced_met.rename(columns = {'MetDiagnosisDate': 'met_date'})"
   ]
  },
  {
   "cell_type": "code",
   "execution_count": 7,
   "id": "4611085c",
   "metadata": {},
   "outputs": [
    {
     "data": {
      "text/plain": [
       "2015    0.113274\n",
       "2018    0.113099\n",
       "2016    0.112546\n",
       "2019    0.112342\n",
       "2017    0.111904\n",
       "2014    0.105785\n",
       "2020    0.101005\n",
       "2013    0.097042\n",
       "2021    0.093953\n",
       "2022    0.039050\n",
       "Name: met_date, dtype: float64"
      ]
     },
     "execution_count": 7,
     "metadata": {},
     "output_type": "execute_result"
    }
   ],
   "source": [
    "enhanced_met['met_date'].dt.year.value_counts()/len(enhanced_met)"
   ]
  },
  {
   "cell_type": "code",
   "execution_count": 8,
   "id": "de0d2f3d",
   "metadata": {},
   "outputs": [
    {
     "data": {
      "text/plain": [
       "count    34315.000000\n",
       "mean      2017.167245\n",
       "std          2.644546\n",
       "min       2013.000000\n",
       "25%       2015.000000\n",
       "50%       2017.000000\n",
       "75%       2019.000000\n",
       "max       2022.000000\n",
       "Name: met_date, dtype: float64"
      ]
     },
     "execution_count": 8,
     "metadata": {},
     "output_type": "execute_result"
    }
   ],
   "source": [
    "enhanced_met['met_date'].dt.year.describe()"
   ]
  },
  {
   "cell_type": "code",
   "execution_count": 9,
   "id": "1f8c23f6",
   "metadata": {},
   "outputs": [
    {
     "data": {
      "text/plain": [
       "<AxesSubplot:xlabel='met_date'>"
      ]
     },
     "execution_count": 9,
     "metadata": {},
     "output_type": "execute_result"
    },
    {
     "data": {
      "image/png": "[encoded data removed]",
      "text/plain": [
       "<Figure size 432x288 with 1 Axes>"
      ]
     },
     "metadata": {
      "needs_background": "light"
     },
     "output_type": "display_data"
    }
   ],
   "source": [
    "enhanced_met.groupby([enhanced_met['met_date'].dt.year])['PatientID'].count().plot(kind = 'bar')"
   ]
  },
  {
   "cell_type": "code",
   "execution_count": 10,
   "id": "284ba975",
   "metadata": {},
   "outputs": [
    {
     "data": {
      "text/plain": [
       "<AxesSubplot:xlabel='met_date'>"
      ]
     },
     "execution_count": 10,
     "metadata": {},
     "output_type": "execute_result"
    },
    {
     "data": {
      "image/png": "[encoded data removed]",
      "text/plain": [
       "<Figure size 432x288 with 1 Axes>"
      ]
     },
     "metadata": {
      "needs_background": "light"
     },
     "output_type": "display_data"
    }
   ],
   "source": [
    "enhanced_met.groupby([enhanced_met['met_date'].dt.month])['PatientID'].count().plot(kind = 'bar')"
   ]
  },
  {
   "cell_type": "code",
   "execution_count": 11,
   "id": "243784cf",
   "metadata": {},
   "outputs": [],
   "source": [
    "enhanced_met['met_year_cat'] = pd.cut(enhanced_met['met_date'].dt.year,\n",
    "                                      bins = [2012, 2014, 2016, 2018, 2020, 2022],\n",
    "                                      labels = ['13-14', '15-16', '17-18', '19-20', '21-22'])"
   ]
  },
  {
   "cell_type": "code",
   "execution_count": 12,
   "id": "c8c75e2c",
   "metadata": {},
   "outputs": [
    {
     "data": {
      "text/plain": [
       "15-16    0.225820\n",
       "17-18    0.225004\n",
       "19-20    0.213347\n",
       "13-14    0.202827\n",
       "21-22    0.133003\n",
       "Name: met_year_cat, dtype: float64"
      ]
     },
     "execution_count": 12,
     "metadata": {},
     "output_type": "execute_result"
    }
   ],
   "source": [
    "enhanced_met['met_year_cat'].value_counts(normalize = True, dropna = False)"
   ]
  },
  {
   "cell_type": "code",
   "execution_count": 13,
   "id": "cae172ec",
   "metadata": {},
   "outputs": [
    {
     "data": {
      "text/plain": [
       "<AxesSubplot:xlabel='met_year_cat'>"
      ]
     },
     "execution_count": 13,
     "metadata": {},
     "output_type": "execute_result"
    },
    {
     "data": {
      "image/png": "[encoded data removed]",
      "text/plain": [
       "<Figure size 432x288 with 1 Axes>"
      ]
     },
     "metadata": {
      "needs_background": "light"
     },
     "output_type": "display_data"
    }
   ],
   "source": [
    "enhanced_met.groupby([enhanced_met['met_year_cat']])['PatientID'].count().plot(kind = 'bar')"
   ]
  },
  {
   "cell_type": "code",
   "execution_count": 14,
   "id": "978f4d51",
   "metadata": {},
   "outputs": [],
   "source": [
    "sss = StratifiedShuffleSplit(n_splits = 1, test_size = 0.2, random_state = 42)\n",
    "\n",
    "for train_index, test_index in sss.split(enhanced_met, enhanced_met['met_year_cat']):\n",
    "    train_set = enhanced_met.iloc[train_index]\n",
    "    test_set = enhanced_met.iloc[test_index]"
   ]
  },
  {
   "cell_type": "code",
   "execution_count": 15,
   "id": "41facecb",
   "metadata": {},
   "outputs": [
    {
     "data": {
      "text/plain": [
       "15-16    0.225812\n",
       "17-18    0.225011\n",
       "19-20    0.213354\n",
       "13-14    0.202827\n",
       "21-22    0.132996\n",
       "Name: met_year_cat, dtype: float64"
      ]
     },
     "execution_count": 15,
     "metadata": {},
     "output_type": "execute_result"
    }
   ],
   "source": [
    "train_set['met_year_cat'].value_counts()/len(train_set)"
   ]
  },
  {
   "cell_type": "code",
   "execution_count": 16,
   "id": "fbec9f75",
   "metadata": {},
   "outputs": [
    {
     "data": {
      "text/plain": [
       "15-16    0.225849\n",
       "17-18    0.224975\n",
       "19-20    0.213318\n",
       "13-14    0.202827\n",
       "21-22    0.133032\n",
       "Name: met_year_cat, dtype: float64"
      ]
     },
     "execution_count": 16,
     "metadata": {},
     "output_type": "execute_result"
    }
   ],
   "source": [
    "test_set['met_year_cat'].value_counts()/len(test_set)"
   ]
  },
  {
   "cell_type": "code",
   "execution_count": 17,
   "id": "a490b423",
   "metadata": {},
   "outputs": [
    {
     "data": {
      "text/plain": [
       "(27452, 27452)"
      ]
     },
     "execution_count": 17,
     "metadata": {},
     "output_type": "execute_result"
    }
   ],
   "source": [
    "row_ID(train_set)"
   ]
  },
  {
   "cell_type": "code",
   "execution_count": 18,
   "id": "d1b9bb31",
   "metadata": {},
   "outputs": [
    {
     "data": {
      "text/plain": [
       "(6863, 6863)"
      ]
     },
     "execution_count": 18,
     "metadata": {},
     "output_type": "execute_result"
    }
   ],
   "source": [
    "row_ID(test_set)"
   ]
  },
  {
   "cell_type": "code",
   "execution_count": 19,
   "id": "79d6f16e",
   "metadata": {},
   "outputs": [],
   "source": [
    "# Array of PatientIDs in training set.\n",
    "train_IDs = train_set['PatientID'].to_numpy()"
   ]
  },
  {
   "cell_type": "code",
   "execution_count": 20,
   "id": "5d9aad6e",
   "metadata": {},
   "outputs": [],
   "source": [
    "pd.DataFrame(train_IDs, columns = ['PatientID']).to_csv('train_IDs.csv', index = False, header = True)"
   ]
  },
  {
   "cell_type": "code",
   "execution_count": 21,
   "id": "0a69e5ae",
   "metadata": {},
   "outputs": [],
   "source": [
    "# Array of PatientIDs in test set.\n",
    "test_IDs = test_set['PatientID'].to_numpy()"
   ]
  },
  {
   "cell_type": "code",
   "execution_count": 22,
   "id": "8aa9a6cc",
   "metadata": {},
   "outputs": [],
   "source": [
    "pd.DataFrame(test_IDs, columns = ['PatientID']).to_csv('test_IDs.csv', index = False, header = True)"
   ]
  },
  {
   "cell_type": "code",
   "execution_count": 23,
   "id": "5fc62750",
   "metadata": {},
   "outputs": [
    {
     "name": "stdout",
     "output_type": "stream",
     "text": [
      "Variable       Type         Data/Info\n",
      "-------------------------------------\n",
      "enhanced_met   DataFrame               PatientID Diag<...>n[34315 rows x 6 columns]\n",
      "test_set       DataFrame               PatientID Diag<...>\\n[6863 rows x 6 columns]\n",
      "train_set      DataFrame               PatientID Diag<...>n[27452 rows x 6 columns]\n"
     ]
    }
   ],
   "source": [
    "%whos DataFrame"
   ]
  },
  {
   "cell_type": "code",
   "execution_count": 24,
   "id": "c755b53b",
   "metadata": {},
   "outputs": [],
   "source": [
    "# Keep enhanced_met\n",
    "del test_set\n",
    "del train_set"
   ]
  },
  {
   "cell_type": "markdown",
   "id": "6602b8ee",
   "metadata": {},
   "source": [
    "## Part 2: Data wrangling\n",
    "\n",
    "**Relevant CSV files will be imported and processed. A file is considered processed when each row corresponds to a unique patient from the training set and each column is a relevant variable for mortality prognositication. The eligibility window for collecting variables is typically defined as -90 days and +30 days from index date. The index date is time of metastatic diagnosis. Plus 30 was selected as the upper bound of the eligibility window given that median time to start of first line treatment is about 30 days from metastatic diagnosis.** \n",
    "\n",
    "**The following 12 CSV files from Flatiron will be cleaned:**\n",
    "1. **Demographics**\n",
    "2. **Practice**\n",
    "3. **Enhanced_MetastaticCRC**\n",
    "4. **Enhanced_Mortality_V2**\n",
    "5. **MedicationAdministration**\n",
    "6. **Enhanced_MetCRCBiomarkers**\n",
    "7. **Insurance**\n",
    "8. **ECOG**\n",
    "9. **Vitals**\n",
    "10. **Labs**\n",
    "11. **Diagnosis**\n",
    "12. **SocialDeeterminantsOfHealth**"
   ]
  },
  {
   "cell_type": "markdown",
   "id": "a9fb9abc",
   "metadata": {},
   "source": [
    "### 1. Demographics"
   ]
  },
  {
   "cell_type": "code",
   "execution_count": 25,
   "id": "a78f9341",
   "metadata": {},
   "outputs": [],
   "source": [
    "demographics = pd.read_csv('Demographics.csv')"
   ]
  },
  {
   "cell_type": "code",
   "execution_count": 26,
   "id": "425037f0",
   "metadata": {},
   "outputs": [],
   "source": [
    "demographics = demographics[demographics['PatientID'].isin(train_IDs)]"
   ]
  },
  {
   "cell_type": "code",
   "execution_count": 27,
   "id": "8941e19d",
   "metadata": {},
   "outputs": [
    {
     "data": {
      "text/html": [
       "<div>\n",
       "<style scoped>\n",
       "    .dataframe tbody tr th:only-of-type {\n",
       "        vertical-align: middle;\n",
       "    }\n",
       "\n",
       "    .dataframe tbody tr th {\n",
       "        vertical-align: top;\n",
       "    }\n",
       "\n",
       "    .dataframe thead th {\n",
       "        text-align: right;\n",
       "    }\n",
       "</style>\n",
       "<table border=\"1\" class=\"dataframe\">\n",
       "  <thead>\n",
       "    <tr style=\"text-align: right;\">\n",
       "      <th></th>\n",
       "      <th>PatientID</th>\n",
       "      <th>BirthYear</th>\n",
       "      <th>Gender</th>\n",
       "      <th>Race</th>\n",
       "      <th>Ethnicity</th>\n",
       "      <th>State</th>\n",
       "    </tr>\n",
       "  </thead>\n",
       "  <tbody>\n",
       "    <tr>\n",
       "      <th>24893</th>\n",
       "      <td>F34BBF3486241</td>\n",
       "      <td>1949</td>\n",
       "      <td>F</td>\n",
       "      <td>White</td>\n",
       "      <td>Not Hispanic or Latino</td>\n",
       "      <td>NaN</td>\n",
       "    </tr>\n",
       "    <tr>\n",
       "      <th>20103</th>\n",
       "      <td>F5D50CDF95A7E</td>\n",
       "      <td>1944</td>\n",
       "      <td>M</td>\n",
       "      <td>White</td>\n",
       "      <td>Not Hispanic or Latino</td>\n",
       "      <td>TN</td>\n",
       "    </tr>\n",
       "    <tr>\n",
       "      <th>19452</th>\n",
       "      <td>F87346DDC6A8E</td>\n",
       "      <td>1949</td>\n",
       "      <td>M</td>\n",
       "      <td>White</td>\n",
       "      <td>Not Hispanic or Latino</td>\n",
       "      <td>PA</td>\n",
       "    </tr>\n",
       "    <tr>\n",
       "      <th>19572</th>\n",
       "      <td>F00E335A0F6F1</td>\n",
       "      <td>1958</td>\n",
       "      <td>F</td>\n",
       "      <td>White</td>\n",
       "      <td>NaN</td>\n",
       "      <td>NY</td>\n",
       "    </tr>\n",
       "    <tr>\n",
       "      <th>28320</th>\n",
       "      <td>F7D629AB92317</td>\n",
       "      <td>1943</td>\n",
       "      <td>M</td>\n",
       "      <td>Other Race</td>\n",
       "      <td>Hispanic or Latino</td>\n",
       "      <td>PR</td>\n",
       "    </tr>\n",
       "  </tbody>\n",
       "</table>\n",
       "</div>"
      ],
      "text/plain": [
       "           PatientID  BirthYear Gender        Race               Ethnicity  \\\n",
       "24893  F34BBF3486241       1949      F       White  Not Hispanic or Latino   \n",
       "20103  F5D50CDF95A7E       1944      M       White  Not Hispanic or Latino   \n",
       "19452  F87346DDC6A8E       1949      M       White  Not Hispanic or Latino   \n",
       "19572  F00E335A0F6F1       1958      F       White                     NaN   \n",
       "28320  F7D629AB92317       1943      M  Other Race      Hispanic or Latino   \n",
       "\n",
       "      State  \n",
       "24893   NaN  \n",
       "20103    TN  \n",
       "19452    PA  \n",
       "19572    NY  \n",
       "28320    PR  "
      ]
     },
     "execution_count": 27,
     "metadata": {},
     "output_type": "execute_result"
    }
   ],
   "source": [
    "demographics.sample(5)"
   ]
  },
  {
   "cell_type": "code",
   "execution_count": 28,
   "id": "9888f940",
   "metadata": {},
   "outputs": [
    {
     "name": "stdout",
     "output_type": "stream",
     "text": [
      "<class 'pandas.core.frame.DataFrame'>\n",
      "Int64Index: 27452 entries, 0 to 34314\n",
      "Data columns (total 6 columns):\n",
      " #   Column     Non-Null Count  Dtype \n",
      "---  ------     --------------  ----- \n",
      " 0   PatientID  27452 non-null  object\n",
      " 1   BirthYear  27452 non-null  int64 \n",
      " 2   Gender     27449 non-null  object\n",
      " 3   Race       24629 non-null  object\n",
      " 4   Ethnicity  22218 non-null  object\n",
      " 5   State      22716 non-null  object\n",
      "dtypes: int64(1), object(5)\n",
      "memory usage: 1.5+ MB\n"
     ]
    }
   ],
   "source": [
    "demographics.info()"
   ]
  },
  {
   "cell_type": "code",
   "execution_count": 29,
   "id": "3624fd19",
   "metadata": {},
   "outputs": [
    {
     "data": {
      "text/plain": [
       "(27452, 27452)"
      ]
     },
     "execution_count": 29,
     "metadata": {},
     "output_type": "execute_result"
    }
   ],
   "source": [
    "row_ID(demographics)"
   ]
  },
  {
   "cell_type": "markdown",
   "id": "89a8f6e0",
   "metadata": {},
   "source": [
    "#### Race and Ethnicity"
   ]
  },
  {
   "cell_type": "code",
   "execution_count": 30,
   "id": "d91df6fb",
   "metadata": {},
   "outputs": [
    {
     "data": {
      "text/plain": [
       "White                        63.328719\n",
       "Other Race                   12.250474\n",
       "Black or African American    10.990092\n",
       "NaN                          10.283404\n",
       "Asian                         2.844966\n",
       "Hispanic or Latino            0.302346\n",
       "Name: Race, dtype: float64"
      ]
     },
     "execution_count": 30,
     "metadata": {},
     "output_type": "execute_result"
    }
   ],
   "source": [
    "demographics['Race'].value_counts(normalize = True, dropna = False)*100"
   ]
  },
  {
   "cell_type": "code",
   "execution_count": 31,
   "id": "4ed33086",
   "metadata": {},
   "outputs": [
    {
     "data": {
      "text/plain": [
       "Not Hispanic or Latino    72.719656\n",
       "NaN                       19.066006\n",
       "Hispanic or Latino         8.214338\n",
       "Name: Ethnicity, dtype: float64"
      ]
     },
     "execution_count": 31,
     "metadata": {},
     "output_type": "execute_result"
    }
   ],
   "source": [
    "demographics['Ethnicity'].value_counts(normalize = True, dropna = False)*100"
   ]
  },
  {
   "cell_type": "code",
   "execution_count": 32,
   "id": "69222e22",
   "metadata": {},
   "outputs": [
    {
     "data": {
      "text/html": [
       "<div>\n",
       "<style scoped>\n",
       "    .dataframe tbody tr th:only-of-type {\n",
       "        vertical-align: middle;\n",
       "    }\n",
       "\n",
       "    .dataframe tbody tr th {\n",
       "        vertical-align: top;\n",
       "    }\n",
       "\n",
       "    .dataframe thead th {\n",
       "        text-align: right;\n",
       "    }\n",
       "</style>\n",
       "<table border=\"1\" class=\"dataframe\">\n",
       "  <thead>\n",
       "    <tr style=\"text-align: right;\">\n",
       "      <th></th>\n",
       "      <th>PatientID</th>\n",
       "      <th>BirthYear</th>\n",
       "      <th>Gender</th>\n",
       "      <th>Race</th>\n",
       "      <th>Ethnicity</th>\n",
       "      <th>State</th>\n",
       "    </tr>\n",
       "  </thead>\n",
       "  <tbody>\n",
       "    <tr>\n",
       "      <th>32233</th>\n",
       "      <td>F8A7EE20DEB79</td>\n",
       "      <td>1966</td>\n",
       "      <td>M</td>\n",
       "      <td>Other Race</td>\n",
       "      <td>Hispanic or Latino</td>\n",
       "      <td>OK</td>\n",
       "    </tr>\n",
       "    <tr>\n",
       "      <th>3</th>\n",
       "      <td>F23409C8020CB</td>\n",
       "      <td>1950</td>\n",
       "      <td>M</td>\n",
       "      <td>Other Race</td>\n",
       "      <td>Hispanic or Latino</td>\n",
       "      <td>CA</td>\n",
       "    </tr>\n",
       "    <tr>\n",
       "      <th>5586</th>\n",
       "      <td>FB163C8584AB7</td>\n",
       "      <td>1977</td>\n",
       "      <td>F</td>\n",
       "      <td>Other Race</td>\n",
       "      <td>Hispanic or Latino</td>\n",
       "      <td>TX</td>\n",
       "    </tr>\n",
       "    <tr>\n",
       "      <th>12279</th>\n",
       "      <td>F2642E91A89D2</td>\n",
       "      <td>1939</td>\n",
       "      <td>M</td>\n",
       "      <td>White</td>\n",
       "      <td>Hispanic or Latino</td>\n",
       "      <td>PR</td>\n",
       "    </tr>\n",
       "    <tr>\n",
       "      <th>28710</th>\n",
       "      <td>FF8EF1124DF68</td>\n",
       "      <td>1954</td>\n",
       "      <td>F</td>\n",
       "      <td>NaN</td>\n",
       "      <td>Hispanic or Latino</td>\n",
       "      <td>PR</td>\n",
       "    </tr>\n",
       "  </tbody>\n",
       "</table>\n",
       "</div>"
      ],
      "text/plain": [
       "           PatientID  BirthYear Gender        Race           Ethnicity State\n",
       "32233  F8A7EE20DEB79       1966      M  Other Race  Hispanic or Latino    OK\n",
       "3      F23409C8020CB       1950      M  Other Race  Hispanic or Latino    CA\n",
       "5586   FB163C8584AB7       1977      F  Other Race  Hispanic or Latino    TX\n",
       "12279  F2642E91A89D2       1939      M       White  Hispanic or Latino    PR\n",
       "28710  FF8EF1124DF68       1954      F         NaN  Hispanic or Latino    PR"
      ]
     },
     "execution_count": 32,
     "metadata": {},
     "output_type": "execute_result"
    }
   ],
   "source": [
    "demographics.query('Ethnicity == \"Hispanic or Latino\"').sample(5)"
   ]
  },
  {
   "cell_type": "code",
   "execution_count": 33,
   "id": "9cb67713",
   "metadata": {},
   "outputs": [
    {
     "data": {
      "text/html": [
       "<div>\n",
       "<style scoped>\n",
       "    .dataframe tbody tr th:only-of-type {\n",
       "        vertical-align: middle;\n",
       "    }\n",
       "\n",
       "    .dataframe tbody tr th {\n",
       "        vertical-align: top;\n",
       "    }\n",
       "\n",
       "    .dataframe thead th {\n",
       "        text-align: right;\n",
       "    }\n",
       "</style>\n",
       "<table border=\"1\" class=\"dataframe\">\n",
       "  <thead>\n",
       "    <tr style=\"text-align: right;\">\n",
       "      <th></th>\n",
       "      <th>PatientID</th>\n",
       "      <th>BirthYear</th>\n",
       "      <th>Gender</th>\n",
       "      <th>Race</th>\n",
       "      <th>Ethnicity</th>\n",
       "      <th>State</th>\n",
       "    </tr>\n",
       "  </thead>\n",
       "  <tbody>\n",
       "    <tr>\n",
       "      <th>1702</th>\n",
       "      <td>F18CABC48B425</td>\n",
       "      <td>1961</td>\n",
       "      <td>F</td>\n",
       "      <td>Hispanic or Latino</td>\n",
       "      <td>Not Hispanic or Latino</td>\n",
       "      <td>CA</td>\n",
       "    </tr>\n",
       "    <tr>\n",
       "      <th>2108</th>\n",
       "      <td>F5E456FCA7263</td>\n",
       "      <td>1949</td>\n",
       "      <td>M</td>\n",
       "      <td>Hispanic or Latino</td>\n",
       "      <td>Not Hispanic or Latino</td>\n",
       "      <td>AZ</td>\n",
       "    </tr>\n",
       "    <tr>\n",
       "      <th>7183</th>\n",
       "      <td>F6C184F182A6A</td>\n",
       "      <td>1962</td>\n",
       "      <td>F</td>\n",
       "      <td>Hispanic or Latino</td>\n",
       "      <td>NaN</td>\n",
       "      <td>TN</td>\n",
       "    </tr>\n",
       "    <tr>\n",
       "      <th>9710</th>\n",
       "      <td>F5D2F664AE7D3</td>\n",
       "      <td>1963</td>\n",
       "      <td>M</td>\n",
       "      <td>Hispanic or Latino</td>\n",
       "      <td>NaN</td>\n",
       "      <td>TN</td>\n",
       "    </tr>\n",
       "    <tr>\n",
       "      <th>11832</th>\n",
       "      <td>FCBD7E4814E07</td>\n",
       "      <td>1954</td>\n",
       "      <td>F</td>\n",
       "      <td>Hispanic or Latino</td>\n",
       "      <td>NaN</td>\n",
       "      <td>CA</td>\n",
       "    </tr>\n",
       "    <tr>\n",
       "      <th>13582</th>\n",
       "      <td>F47163A7C8626</td>\n",
       "      <td>1952</td>\n",
       "      <td>F</td>\n",
       "      <td>Hispanic or Latino</td>\n",
       "      <td>NaN</td>\n",
       "      <td>CA</td>\n",
       "    </tr>\n",
       "    <tr>\n",
       "      <th>17400</th>\n",
       "      <td>FC6542E01FD6D</td>\n",
       "      <td>1953</td>\n",
       "      <td>M</td>\n",
       "      <td>Hispanic or Latino</td>\n",
       "      <td>NaN</td>\n",
       "      <td>TN</td>\n",
       "    </tr>\n",
       "    <tr>\n",
       "      <th>25049</th>\n",
       "      <td>F5F4157B9044A</td>\n",
       "      <td>1953</td>\n",
       "      <td>F</td>\n",
       "      <td>Hispanic or Latino</td>\n",
       "      <td>NaN</td>\n",
       "      <td>CA</td>\n",
       "    </tr>\n",
       "    <tr>\n",
       "      <th>29623</th>\n",
       "      <td>F3EF86A1D755E</td>\n",
       "      <td>1968</td>\n",
       "      <td>M</td>\n",
       "      <td>Hispanic or Latino</td>\n",
       "      <td>NaN</td>\n",
       "      <td>CA</td>\n",
       "    </tr>\n",
       "    <tr>\n",
       "      <th>29678</th>\n",
       "      <td>FCB8A5AC717D4</td>\n",
       "      <td>1956</td>\n",
       "      <td>M</td>\n",
       "      <td>Hispanic or Latino</td>\n",
       "      <td>NaN</td>\n",
       "      <td>AZ</td>\n",
       "    </tr>\n",
       "    <tr>\n",
       "      <th>29812</th>\n",
       "      <td>F7F37B05E2E53</td>\n",
       "      <td>1937</td>\n",
       "      <td>F</td>\n",
       "      <td>Hispanic or Latino</td>\n",
       "      <td>NaN</td>\n",
       "      <td>CA</td>\n",
       "    </tr>\n",
       "    <tr>\n",
       "      <th>31728</th>\n",
       "      <td>F1255ADDD995D</td>\n",
       "      <td>1963</td>\n",
       "      <td>M</td>\n",
       "      <td>Hispanic or Latino</td>\n",
       "      <td>NaN</td>\n",
       "      <td>CA</td>\n",
       "    </tr>\n",
       "  </tbody>\n",
       "</table>\n",
       "</div>"
      ],
      "text/plain": [
       "           PatientID  BirthYear Gender                Race  \\\n",
       "1702   F18CABC48B425       1961      F  Hispanic or Latino   \n",
       "2108   F5E456FCA7263       1949      M  Hispanic or Latino   \n",
       "7183   F6C184F182A6A       1962      F  Hispanic or Latino   \n",
       "9710   F5D2F664AE7D3       1963      M  Hispanic or Latino   \n",
       "11832  FCBD7E4814E07       1954      F  Hispanic or Latino   \n",
       "13582  F47163A7C8626       1952      F  Hispanic or Latino   \n",
       "17400  FC6542E01FD6D       1953      M  Hispanic or Latino   \n",
       "25049  F5F4157B9044A       1953      F  Hispanic or Latino   \n",
       "29623  F3EF86A1D755E       1968      M  Hispanic or Latino   \n",
       "29678  FCB8A5AC717D4       1956      M  Hispanic or Latino   \n",
       "29812  F7F37B05E2E53       1937      F  Hispanic or Latino   \n",
       "31728  F1255ADDD995D       1963      M  Hispanic or Latino   \n",
       "\n",
       "                    Ethnicity State  \n",
       "1702   Not Hispanic or Latino    CA  \n",
       "2108   Not Hispanic or Latino    AZ  \n",
       "7183                      NaN    TN  \n",
       "9710                      NaN    TN  \n",
       "11832                     NaN    CA  \n",
       "13582                     NaN    CA  \n",
       "17400                     NaN    TN  \n",
       "25049                     NaN    CA  \n",
       "29623                     NaN    CA  \n",
       "29678                     NaN    AZ  \n",
       "29812                     NaN    CA  \n",
       "31728                     NaN    CA  "
      ]
     },
     "execution_count": 33,
     "metadata": {},
     "output_type": "execute_result"
    }
   ],
   "source": [
    "(\n",
    "    demographics\n",
    "    .query('Race == \"Hispanic or Latino\"')\n",
    "    .query('Ethnicity != \"Hispanic or Latino\"')\n",
    ")    "
   ]
  },
  {
   "cell_type": "markdown",
   "id": "a4558053",
   "metadata": {},
   "source": [
    "**There are unexpected values where “Hispanic or Latino” appears as a race rather than ethnicity. Ethnicity will be recoded to align with the FDA standards for collecting race and ethnicity variables for clinical trials. Patients with a race value of “Hispanic or Latino” will have their race recoded as \"Unknown\" and ethnicity as “Hispanic or Latino.” Of note, ethnicity and race information is likely to be poorly captured since EHR platforms typically do not require documentation of race or ethnicity.**  "
   ]
  },
  {
   "cell_type": "code",
   "execution_count": 34,
   "id": "b7370c6c",
   "metadata": {},
   "outputs": [],
   "source": [
    "# If race value is 'Hispanic or Latino', code as unknown, otherwise value unchanged.\n",
    "demographics['race'] = (\n",
    "    np.where(demographics['Race'] == 'Hispanic or Latino', 'unknown', demographics['Race'])\n",
    ")"
   ]
  },
  {
   "cell_type": "code",
   "execution_count": 35,
   "id": "5a60b830",
   "metadata": {},
   "outputs": [],
   "source": [
    "# Missing race value will be recoded as Unknown\n",
    "demographics['race'] = demographics['race'].fillna('unknown')"
   ]
  },
  {
   "cell_type": "code",
   "execution_count": 36,
   "id": "bda5b7e2",
   "metadata": {},
   "outputs": [
    {
     "data": {
      "text/plain": [
       "27452"
      ]
     },
     "execution_count": 36,
     "metadata": {},
     "output_type": "execute_result"
    }
   ],
   "source": [
    "demographics['race'].value_counts().sum()"
   ]
  },
  {
   "cell_type": "code",
   "execution_count": 37,
   "id": "71671d88",
   "metadata": {},
   "outputs": [
    {
     "data": {
      "text/plain": [
       "White                        63.328719\n",
       "Other Race                   12.250474\n",
       "Black or African American    10.990092\n",
       "unknown                      10.585750\n",
       "Asian                         2.844966\n",
       "Name: race, dtype: float64"
      ]
     },
     "execution_count": 37,
     "metadata": {},
     "output_type": "execute_result"
    }
   ],
   "source": [
    "demographics['race'].value_counts(normalize = True, dropna = False)*100"
   ]
  },
  {
   "cell_type": "code",
   "execution_count": 38,
   "id": "56eddf39",
   "metadata": {},
   "outputs": [],
   "source": [
    "# If race value is equal to 'Hispanic or Latino', code ethnicity as 'Hispanic or Latino', otherwise unchanged. \n",
    "demographics['ethnicity'] = (\n",
    "    np.where(demographics['Race'] == 'Hispanic or Latino', 'hispanic_latino', demographics['Ethnicity'])\n",
    ")"
   ]
  },
  {
   "cell_type": "code",
   "execution_count": 39,
   "id": "44bc8d83",
   "metadata": {},
   "outputs": [],
   "source": [
    "demographics['ethnicity'] = demographics['ethnicity'].fillna('unknown')"
   ]
  },
  {
   "cell_type": "code",
   "execution_count": 40,
   "id": "e62cd8f6",
   "metadata": {},
   "outputs": [],
   "source": [
    "demographics['ethnicity'] = demographics['ethnicity'].replace({'Hispanic or Latino': 'hispanic_latino'})"
   ]
  },
  {
   "cell_type": "code",
   "execution_count": 41,
   "id": "18925036",
   "metadata": {},
   "outputs": [
    {
     "data": {
      "text/plain": [
       "Not Hispanic or Latino    72.712371\n",
       "unknown                   19.029579\n",
       "hispanic_latino            8.258050\n",
       "Name: ethnicity, dtype: float64"
      ]
     },
     "execution_count": 41,
     "metadata": {},
     "output_type": "execute_result"
    }
   ],
   "source": [
    "demographics['ethnicity'].value_counts(normalize = True, dropna = False)*100"
   ]
  },
  {
   "cell_type": "code",
   "execution_count": 42,
   "id": "e3ee138b",
   "metadata": {},
   "outputs": [
    {
     "data": {
      "text/plain": [
       "ethnicity               race                     \n",
       "Not Hispanic or Latino  White                        0.536573\n",
       "                        Black or African American    0.093217\n",
       "unknown                 unknown                      0.072126\n",
       "                        White                        0.066188\n",
       "Not Hispanic or Latino  Other Race                   0.051836\n",
       "hispanic_latino         Other Race                   0.037229\n",
       "unknown                 Other Race                   0.033440\n",
       "hispanic_latino         White                        0.030526\n",
       "Not Hispanic or Latino  Asian                        0.023131\n",
       "                        unknown                      0.022366\n",
       "unknown                 Black or African American    0.013660\n",
       "hispanic_latino         unknown                      0.011365\n",
       "unknown                 Asian                        0.004881\n",
       "hispanic_latino         Black or African American    0.003023\n",
       "                        Asian                        0.000437\n",
       "Name: PatientID, dtype: float64"
      ]
     },
     "execution_count": 42,
     "metadata": {},
     "output_type": "execute_result"
    }
   ],
   "source": [
    "(\n",
    "    demographics\n",
    "    .groupby(['ethnicity', 'race'])['PatientID'].count()\n",
    "    .divide(len(demographics))\n",
    "    .sort_values(ascending = False)\n",
    ")"
   ]
  },
  {
   "cell_type": "code",
   "execution_count": 43,
   "id": "bdd4d148",
   "metadata": {},
   "outputs": [],
   "source": [
    "demographics = demographics.drop(columns = ['Race', 'Ethnicity'])"
   ]
  },
  {
   "cell_type": "markdown",
   "id": "c9ae55e3",
   "metadata": {},
   "source": [
    "#### BirthYear"
   ]
  },
  {
   "cell_type": "code",
   "execution_count": 44,
   "id": "1daf57b3",
   "metadata": {},
   "outputs": [
    {
     "data": {
      "text/plain": [
       "count    27452.000000\n",
       "mean      1953.498434\n",
       "std         12.559265\n",
       "min       1937.000000\n",
       "25%       1943.000000\n",
       "50%       1952.000000\n",
       "75%       1962.000000\n",
       "max       2002.000000\n",
       "Name: BirthYear, dtype: float64"
      ]
     },
     "execution_count": 44,
     "metadata": {},
     "output_type": "execute_result"
    }
   ],
   "source": [
    "demographics['BirthYear'].describe()"
   ]
  },
  {
   "cell_type": "code",
   "execution_count": 45,
   "id": "9ba0b085",
   "metadata": {},
   "outputs": [
    {
     "data": {
      "text/plain": [
       "array([[<AxesSubplot:title={'center':'BirthYear'}>]], dtype=object)"
      ]
     },
     "execution_count": 45,
     "metadata": {},
     "output_type": "execute_result"
    },
    {
     "data": {
      "image/png": "[encoded data removed]",
      "text/plain": [
       "<Figure size 432x288 with 1 Axes>"
      ]
     },
     "metadata": {
      "needs_background": "light"
     },
     "output_type": "display_data"
    }
   ],
   "source": [
    "demographics.hist(column = 'BirthYear')"
   ]
  },
  {
   "cell_type": "code",
   "execution_count": 46,
   "id": "430610f0",
   "metadata": {},
   "outputs": [
    {
     "data": {
      "text/plain": [
       "1937    0.139006\n",
       "1947    0.029797\n",
       "1948    0.028559\n",
       "1946    0.028085\n",
       "1957    0.028013\n",
       "1956    0.027612\n",
       "1950    0.027284\n",
       "1952    0.026956\n",
       "1949    0.026810\n",
       "1953    0.026592\n",
       "Name: BirthYear, dtype: float64"
      ]
     },
     "execution_count": 46,
     "metadata": {},
     "output_type": "execute_result"
    }
   ],
   "source": [
    "# Top 10 birth years.\n",
    "demographics['BirthYear'].value_counts(normalize = True, dropna = False).head(10)"
   ]
  },
  {
   "cell_type": "markdown",
   "id": "7ffe7622",
   "metadata": {},
   "source": [
    "**Dispraportionate number of patients aged 85. Flatiron aggregates patients 85 and older into a single category of 85 years of age to limit potential for re-identification of older patients.**"
   ]
  },
  {
   "cell_type": "code",
   "execution_count": 47,
   "id": "977fee31",
   "metadata": {},
   "outputs": [],
   "source": [
    "demographics = pd.merge(demographics, enhanced_met[['PatientID', 'met_date']], on = 'PatientID')"
   ]
  },
  {
   "cell_type": "code",
   "execution_count": 48,
   "id": "55963070",
   "metadata": {},
   "outputs": [],
   "source": [
    "demographics.loc[:, 'age'] = demographics['met_date'].dt.year - demographics['BirthYear']"
   ]
  },
  {
   "cell_type": "code",
   "execution_count": 49,
   "id": "324f32dd",
   "metadata": {},
   "outputs": [],
   "source": [
    "demographics = demographics.drop(columns = ['BirthYear', 'met_date'])"
   ]
  },
  {
   "cell_type": "markdown",
   "id": "183b4c8c",
   "metadata": {},
   "source": [
    "#### PracticeType"
   ]
  },
  {
   "cell_type": "code",
   "execution_count": 50,
   "id": "a7cf3810",
   "metadata": {},
   "outputs": [],
   "source": [
    "practice = pd.read_csv('Practice.csv')"
   ]
  },
  {
   "cell_type": "code",
   "execution_count": 51,
   "id": "208a12c6",
   "metadata": {},
   "outputs": [
    {
     "data": {
      "text/html": [
       "<div>\n",
       "<style scoped>\n",
       "    .dataframe tbody tr th:only-of-type {\n",
       "        vertical-align: middle;\n",
       "    }\n",
       "\n",
       "    .dataframe tbody tr th {\n",
       "        vertical-align: top;\n",
       "    }\n",
       "\n",
       "    .dataframe thead th {\n",
       "        text-align: right;\n",
       "    }\n",
       "</style>\n",
       "<table border=\"1\" class=\"dataframe\">\n",
       "  <thead>\n",
       "    <tr style=\"text-align: right;\">\n",
       "      <th></th>\n",
       "      <th>PatientID</th>\n",
       "      <th>PracticeID</th>\n",
       "      <th>PracticeType</th>\n",
       "      <th>PrimaryPhysicianID</th>\n",
       "    </tr>\n",
       "  </thead>\n",
       "  <tbody>\n",
       "    <tr>\n",
       "      <th>14023</th>\n",
       "      <td>FF249C3E63D81</td>\n",
       "      <td>SD6317E5462ED</td>\n",
       "      <td>COMMUNITY</td>\n",
       "      <td>T86D00E94DE8D</td>\n",
       "    </tr>\n",
       "    <tr>\n",
       "      <th>14716</th>\n",
       "      <td>FC8BD49185FC0</td>\n",
       "      <td>SD6317E5462ED</td>\n",
       "      <td>COMMUNITY</td>\n",
       "      <td>TEA9ED9BE8E2B</td>\n",
       "    </tr>\n",
       "    <tr>\n",
       "      <th>32755</th>\n",
       "      <td>F1BBAD163313B</td>\n",
       "      <td>SD6317E5462ED</td>\n",
       "      <td>COMMUNITY</td>\n",
       "      <td>T86D00E94DE8D</td>\n",
       "    </tr>\n",
       "    <tr>\n",
       "      <th>13186</th>\n",
       "      <td>FECCA0788DE41</td>\n",
       "      <td>S33A86A3D58BA</td>\n",
       "      <td>COMMUNITY</td>\n",
       "      <td>TA81551B5DBC9</td>\n",
       "    </tr>\n",
       "    <tr>\n",
       "      <th>33391</th>\n",
       "      <td>FCCDB868A2C07</td>\n",
       "      <td>S98D0ED5E3A94</td>\n",
       "      <td>COMMUNITY</td>\n",
       "      <td>TFD42B0659383</td>\n",
       "    </tr>\n",
       "  </tbody>\n",
       "</table>\n",
       "</div>"
      ],
      "text/plain": [
       "           PatientID     PracticeID PracticeType PrimaryPhysicianID\n",
       "14023  FF249C3E63D81  SD6317E5462ED    COMMUNITY      T86D00E94DE8D\n",
       "14716  FC8BD49185FC0  SD6317E5462ED    COMMUNITY      TEA9ED9BE8E2B\n",
       "32755  F1BBAD163313B  SD6317E5462ED    COMMUNITY      T86D00E94DE8D\n",
       "13186  FECCA0788DE41  S33A86A3D58BA    COMMUNITY      TA81551B5DBC9\n",
       "33391  FCCDB868A2C07  S98D0ED5E3A94    COMMUNITY      TFD42B0659383"
      ]
     },
     "execution_count": 51,
     "metadata": {},
     "output_type": "execute_result"
    }
   ],
   "source": [
    "practice.sample(5)"
   ]
  },
  {
   "cell_type": "code",
   "execution_count": 52,
   "id": "014c9b46",
   "metadata": {},
   "outputs": [],
   "source": [
    "practice = practice[practice['PatientID'].isin(train_IDs)]"
   ]
  },
  {
   "cell_type": "code",
   "execution_count": 53,
   "id": "84f5f2db",
   "metadata": {},
   "outputs": [
    {
     "data": {
      "text/plain": [
       "(28051, 27452)"
      ]
     },
     "execution_count": 53,
     "metadata": {},
     "output_type": "execute_result"
    }
   ],
   "source": [
    "row_ID(practice)"
   ]
  },
  {
   "cell_type": "code",
   "execution_count": 54,
   "id": "bec3efff",
   "metadata": {},
   "outputs": [],
   "source": [
    "practice_unique_count = (\n",
    "    practice.groupby('PatientID')['PracticeType'].agg('nunique')\n",
    "    .to_frame()\n",
    "    .reset_index()\n",
    "    .rename(columns = {'PracticeType': 'n_type'})\n",
    ")"
   ]
  },
  {
   "cell_type": "code",
   "execution_count": 55,
   "id": "6c80b793",
   "metadata": {},
   "outputs": [],
   "source": [
    "practice_n = pd.merge(practice, practice_unique_count, on = 'PatientID')"
   ]
  },
  {
   "cell_type": "code",
   "execution_count": 56,
   "id": "9c93cc36",
   "metadata": {},
   "outputs": [],
   "source": [
    "practice_n['p_type'] = (\n",
    "    np.where(practice_n['n_type'] == 1, practice_n['PracticeType'], 'BOTH')\n",
    ")"
   ]
  },
  {
   "cell_type": "code",
   "execution_count": 57,
   "id": "1b63cb68",
   "metadata": {},
   "outputs": [],
   "source": [
    "practice_n = (\n",
    "    practice_n.drop_duplicates(subset = ['PatientID'], keep = 'first')\n",
    "    .filter(items = ['PatientID', 'p_type'])\n",
    ")"
   ]
  },
  {
   "cell_type": "code",
   "execution_count": 58,
   "id": "019b9978",
   "metadata": {},
   "outputs": [],
   "source": [
    "demographics = pd.merge(demographics, practice_n, on = 'PatientID')"
   ]
  },
  {
   "cell_type": "code",
   "execution_count": 59,
   "id": "76945dcd",
   "metadata": {},
   "outputs": [
    {
     "data": {
      "text/plain": [
       "COMMUNITY    85.246977\n",
       "ACADEMIC     13.813201\n",
       "BOTH          0.939822\n",
       "Name: p_type, dtype: float64"
      ]
     },
     "execution_count": 59,
     "metadata": {},
     "output_type": "execute_result"
    }
   ],
   "source": [
    "demographics['p_type'].value_counts(normalize=True, dropna=False)*100"
   ]
  },
  {
   "cell_type": "markdown",
   "id": "9762bccd",
   "metadata": {},
   "source": [
    "#### Gender"
   ]
  },
  {
   "cell_type": "code",
   "execution_count": 60,
   "id": "70b7ba2c",
   "metadata": {},
   "outputs": [
    {
     "data": {
      "text/plain": [
       "M      55.088882\n",
       "F      44.900189\n",
       "NaN     0.010928\n",
       "Name: Gender, dtype: float64"
      ]
     },
     "execution_count": 60,
     "metadata": {},
     "output_type": "execute_result"
    }
   ],
   "source": [
    "demographics['Gender'].value_counts(normalize = True, dropna = False)*100"
   ]
  },
  {
   "cell_type": "code",
   "execution_count": 61,
   "id": "f0e969a3",
   "metadata": {},
   "outputs": [],
   "source": [
    "# Impute M as unknown given most common gender. \n",
    "demographics['Gender'] = demographics['Gender'].fillna('M')"
   ]
  },
  {
   "cell_type": "code",
   "execution_count": 62,
   "id": "891c97d8",
   "metadata": {},
   "outputs": [],
   "source": [
    "demographics = demographics.rename(columns = {'Gender': 'gender'})"
   ]
  },
  {
   "cell_type": "markdown",
   "id": "58367c6c",
   "metadata": {},
   "source": [
    "#### State"
   ]
  },
  {
   "cell_type": "code",
   "execution_count": 63,
   "id": "0afa9b3f",
   "metadata": {},
   "outputs": [
    {
     "data": {
      "text/plain": [
       "4736"
      ]
     },
     "execution_count": 63,
     "metadata": {},
     "output_type": "execute_result"
    }
   ],
   "source": [
    "demographics['State'].isna().sum()"
   ]
  },
  {
   "cell_type": "code",
   "execution_count": 64,
   "id": "8d956e9a",
   "metadata": {},
   "outputs": [
    {
     "data": {
      "text/plain": [
       "NaN    0.172519\n",
       "TN     0.071507\n",
       "CA     0.068847\n",
       "FL     0.057846\n",
       "AZ     0.057519\n",
       "AL     0.051727\n",
       "NY     0.046080\n",
       "PA     0.043640\n",
       "TX     0.041782\n",
       "MI     0.039924\n",
       "NJ     0.039378\n",
       "VA     0.034788\n",
       "PR     0.027211\n",
       "OH     0.023423\n",
       "MS     0.023386\n",
       "OK     0.022148\n",
       "IL     0.021638\n",
       "GA     0.017922\n",
       "WA     0.017776\n",
       "IN     0.017121\n",
       "Name: State, dtype: float64"
      ]
     },
     "execution_count": 64,
     "metadata": {},
     "output_type": "execute_result"
    }
   ],
   "source": [
    "demographics['State'].value_counts(normalize = True, dropna = False).head(20)"
   ]
  },
  {
   "cell_type": "markdown",
   "id": "b1399fdc",
   "metadata": {},
   "source": [
    "**For de-identification reasons, State is nulled out for a few low-population states (e.g., AK, MT, ND, SD, VT, and WY). New variable will be created to group states into Census-Bureau regions for simplicity.** "
   ]
  },
  {
   "cell_type": "code",
   "execution_count": 65,
   "id": "ea5a3705",
   "metadata": {},
   "outputs": [],
   "source": [
    "# Group states into Census-Bureau regions  \n",
    "state_dict = { \n",
    "    'ME': 'northeast', \n",
    "    'NH': 'northeast',\n",
    "    'VT': 'northeast', \n",
    "    'MA': 'northeast',\n",
    "    'CT': 'northeast',\n",
    "    'RI': 'northeast',  \n",
    "    'NY': 'northeast', \n",
    "    'NJ': 'northeast', \n",
    "    'PA': 'northeast', \n",
    "    'IL': 'midwest', \n",
    "    'IN': 'midwest', \n",
    "    'MI': 'midwest', \n",
    "    'OH': 'midwest', \n",
    "    'WI': 'midwest',\n",
    "    'IA': 'midwest',\n",
    "    'KS': 'midwest',\n",
    "    'MN': 'midwest',\n",
    "    'MO': 'midwest', \n",
    "    'NE': 'midwest',\n",
    "    'ND': 'midwest',\n",
    "    'SD': 'midwest',\n",
    "    'DE': 'south',\n",
    "    'FL': 'south',\n",
    "    'GA': 'south',\n",
    "    'MD': 'south',\n",
    "    'NC': 'south', \n",
    "    'SC': 'south',\n",
    "    'VA': 'south',\n",
    "    'DC': 'south',\n",
    "    'WV': 'south',\n",
    "    'AL': 'south',\n",
    "    'KY': 'south',\n",
    "    'MS': 'south',\n",
    "    'TN': 'south',\n",
    "    'AR': 'south',\n",
    "    'LA': 'south',\n",
    "    'OK': 'south',\n",
    "    'TX': 'south',\n",
    "    'AZ': 'west',\n",
    "    'CO': 'west',\n",
    "    'ID': 'west',\n",
    "    'MT': 'west',\n",
    "    'NV': 'west',\n",
    "    'NM': 'west',\n",
    "    'UT': 'west',\n",
    "    'WY': 'west',\n",
    "    'AK': 'west',\n",
    "    'CA': 'west',\n",
    "    'HI': 'west',\n",
    "    'OR': 'west',\n",
    "    'WA': 'west',\n",
    "    'PR': 'unknown'\n",
    "}\n",
    "\n",
    "demographics['region'] = demographics['State'].map(state_dict)"
   ]
  },
  {
   "cell_type": "code",
   "execution_count": 66,
   "id": "036e3615",
   "metadata": {},
   "outputs": [],
   "source": [
    "demographics['region'] = demographics['region'].fillna('unknown')"
   ]
  },
  {
   "cell_type": "code",
   "execution_count": 67,
   "id": "4f91ed6d",
   "metadata": {},
   "outputs": [
    {
     "data": {
      "text/plain": [
       "south        0.377277\n",
       "unknown      0.199730\n",
       "west         0.161919\n",
       "northeast    0.141593\n",
       "midwest      0.119481\n",
       "Name: region, dtype: float64"
      ]
     },
     "execution_count": 67,
     "metadata": {},
     "output_type": "execute_result"
    }
   ],
   "source": [
    "demographics['region'].value_counts(normalize = True, dropna = False)"
   ]
  },
  {
   "cell_type": "code",
   "execution_count": 68,
   "id": "e7c15568",
   "metadata": {},
   "outputs": [
    {
     "data": {
      "text/plain": [
       "27452"
      ]
     },
     "execution_count": 68,
     "metadata": {},
     "output_type": "execute_result"
    }
   ],
   "source": [
    "demographics['region'].value_counts(dropna = False).sum()"
   ]
  },
  {
   "cell_type": "code",
   "execution_count": 69,
   "id": "70bd0b46",
   "metadata": {},
   "outputs": [
    {
     "data": {
      "text/plain": [
       "<AxesSubplot:xlabel='region'>"
      ]
     },
     "execution_count": 69,
     "metadata": {},
     "output_type": "execute_result"
    },
    {
     "data": {
      "image/png": "[encoded data removed]",
      "text/plain": [
       "<Figure size 432x288 with 1 Axes>"
      ]
     },
     "metadata": {
      "needs_background": "light"
     },
     "output_type": "display_data"
    }
   ],
   "source": [
    "demographics.groupby('region')['PatientID'].count().sort_values(ascending = False).plot(kind = 'bar')"
   ]
  },
  {
   "cell_type": "code",
   "execution_count": 70,
   "id": "6c6f273a",
   "metadata": {},
   "outputs": [
    {
     "data": {
      "text/plain": [
       "<AxesSubplot:xlabel='p_type,region'>"
      ]
     },
     "execution_count": 70,
     "metadata": {},
     "output_type": "execute_result"
    },
    {
     "data": {
      "image/png": "[encoded data removed]",
      "text/plain": [
       "<Figure size 432x288 with 1 Axes>"
      ]
     },
     "metadata": {
      "needs_background": "light"
     },
     "output_type": "display_data"
    }
   ],
   "source": [
    "demographics.groupby(['p_type', 'region'])['PatientID'].count().sort_values(ascending = False).plot(kind = 'bar')"
   ]
  },
  {
   "cell_type": "markdown",
   "id": "15599e2f",
   "metadata": {},
   "source": [
    "**Most patients come from community programs in the south. Interestingly, all academic patients are from an unknown region, likely for de-identification purposes.**"
   ]
  },
  {
   "cell_type": "code",
   "execution_count": 71,
   "id": "a769492c",
   "metadata": {},
   "outputs": [],
   "source": [
    "demographics = demographics.drop(columns = ['State'])"
   ]
  },
  {
   "cell_type": "code",
   "execution_count": 72,
   "id": "f31e6851",
   "metadata": {},
   "outputs": [
    {
     "data": {
      "text/html": [
       "<div>\n",
       "<style scoped>\n",
       "    .dataframe tbody tr th:only-of-type {\n",
       "        vertical-align: middle;\n",
       "    }\n",
       "\n",
       "    .dataframe tbody tr th {\n",
       "        vertical-align: top;\n",
       "    }\n",
       "\n",
       "    .dataframe thead th {\n",
       "        text-align: right;\n",
       "    }\n",
       "</style>\n",
       "<table border=\"1\" class=\"dataframe\">\n",
       "  <thead>\n",
       "    <tr style=\"text-align: right;\">\n",
       "      <th></th>\n",
       "      <th>PatientID</th>\n",
       "      <th>gender</th>\n",
       "      <th>race</th>\n",
       "      <th>ethnicity</th>\n",
       "      <th>age</th>\n",
       "      <th>p_type</th>\n",
       "      <th>region</th>\n",
       "    </tr>\n",
       "  </thead>\n",
       "  <tbody>\n",
       "    <tr>\n",
       "      <th>8468</th>\n",
       "      <td>FCAE0B3987E9F</td>\n",
       "      <td>F</td>\n",
       "      <td>Asian</td>\n",
       "      <td>unknown</td>\n",
       "      <td>77</td>\n",
       "      <td>COMMUNITY</td>\n",
       "      <td>west</td>\n",
       "    </tr>\n",
       "    <tr>\n",
       "      <th>5626</th>\n",
       "      <td>F38AC96CE2AFA</td>\n",
       "      <td>M</td>\n",
       "      <td>Other Race</td>\n",
       "      <td>Not Hispanic or Latino</td>\n",
       "      <td>70</td>\n",
       "      <td>COMMUNITY</td>\n",
       "      <td>south</td>\n",
       "    </tr>\n",
       "    <tr>\n",
       "      <th>23759</th>\n",
       "      <td>F7FF1EF8DB39A</td>\n",
       "      <td>M</td>\n",
       "      <td>White</td>\n",
       "      <td>Not Hispanic or Latino</td>\n",
       "      <td>44</td>\n",
       "      <td>COMMUNITY</td>\n",
       "      <td>south</td>\n",
       "    </tr>\n",
       "    <tr>\n",
       "      <th>10725</th>\n",
       "      <td>F1661542B68DC</td>\n",
       "      <td>M</td>\n",
       "      <td>White</td>\n",
       "      <td>Not Hispanic or Latino</td>\n",
       "      <td>59</td>\n",
       "      <td>ACADEMIC</td>\n",
       "      <td>unknown</td>\n",
       "    </tr>\n",
       "    <tr>\n",
       "      <th>16602</th>\n",
       "      <td>F506977B84F97</td>\n",
       "      <td>F</td>\n",
       "      <td>White</td>\n",
       "      <td>unknown</td>\n",
       "      <td>63</td>\n",
       "      <td>COMMUNITY</td>\n",
       "      <td>south</td>\n",
       "    </tr>\n",
       "  </tbody>\n",
       "</table>\n",
       "</div>"
      ],
      "text/plain": [
       "           PatientID gender        race               ethnicity  age  \\\n",
       "8468   FCAE0B3987E9F      F       Asian                 unknown   77   \n",
       "5626   F38AC96CE2AFA      M  Other Race  Not Hispanic or Latino   70   \n",
       "23759  F7FF1EF8DB39A      M       White  Not Hispanic or Latino   44   \n",
       "10725  F1661542B68DC      M       White  Not Hispanic or Latino   59   \n",
       "16602  F506977B84F97      F       White                 unknown   63   \n",
       "\n",
       "          p_type   region  \n",
       "8468   COMMUNITY     west  \n",
       "5626   COMMUNITY    south  \n",
       "23759  COMMUNITY    south  \n",
       "10725   ACADEMIC  unknown  \n",
       "16602  COMMUNITY    south  "
      ]
     },
     "execution_count": 72,
     "metadata": {},
     "output_type": "execute_result"
    }
   ],
   "source": [
    "# Final training demographics table.\n",
    "demographics.sample(5)"
   ]
  },
  {
   "cell_type": "code",
   "execution_count": 73,
   "id": "5c8561af",
   "metadata": {},
   "outputs": [
    {
     "name": "stdout",
     "output_type": "stream",
     "text": [
      "Variable                Type         Data/Info\n",
      "----------------------------------------------\n",
      "demographics            DataFrame               PatientID gend<...>n[27452 rows x 7 columns]\n",
      "enhanced_met            DataFrame               PatientID Diag<...>n[34315 rows x 6 columns]\n",
      "practice                DataFrame               PatientID     <...>n[28051 rows x 4 columns]\n",
      "practice_n              DataFrame               PatientID     <...>n[27452 rows x 2 columns]\n",
      "practice_unique_count   DataFrame               PatientID  n_t<...>n[27452 rows x 2 columns]\n"
     ]
    }
   ],
   "source": [
    "%whos DataFrame"
   ]
  },
  {
   "cell_type": "code",
   "execution_count": 74,
   "id": "c7ecc37d",
   "metadata": {},
   "outputs": [],
   "source": [
    "# Keep demographics and enhanced_met\n",
    "del practice\n",
    "del practice_n\n",
    "del practice_unique_count"
   ]
  },
  {
   "cell_type": "markdown",
   "id": "d92cf54b",
   "metadata": {},
   "source": [
    "### 2. Enhanced_MetastaticCRC"
   ]
  },
  {
   "cell_type": "code",
   "execution_count": 75,
   "id": "b8d00675",
   "metadata": {},
   "outputs": [
    {
     "data": {
      "text/html": [
       "<div>\n",
       "<style scoped>\n",
       "    .dataframe tbody tr th:only-of-type {\n",
       "        vertical-align: middle;\n",
       "    }\n",
       "\n",
       "    .dataframe tbody tr th {\n",
       "        vertical-align: top;\n",
       "    }\n",
       "\n",
       "    .dataframe thead th {\n",
       "        text-align: right;\n",
       "    }\n",
       "</style>\n",
       "<table border=\"1\" class=\"dataframe\">\n",
       "  <thead>\n",
       "    <tr style=\"text-align: right;\">\n",
       "      <th></th>\n",
       "      <th>PatientID</th>\n",
       "      <th>DiagnosisDate</th>\n",
       "      <th>met_date</th>\n",
       "      <th>GroupStage</th>\n",
       "      <th>CrcSite</th>\n",
       "      <th>met_year_cat</th>\n",
       "    </tr>\n",
       "  </thead>\n",
       "  <tbody>\n",
       "    <tr>\n",
       "      <th>10283</th>\n",
       "      <td>FD669BFC1E3ED</td>\n",
       "      <td>2018-04-17</td>\n",
       "      <td>2021-01-06</td>\n",
       "      <td>II</td>\n",
       "      <td>Colon</td>\n",
       "      <td>21-22</td>\n",
       "    </tr>\n",
       "    <tr>\n",
       "      <th>24174</th>\n",
       "      <td>FBE59D1DC7676</td>\n",
       "      <td>2013-12-01</td>\n",
       "      <td>2014-10-02</td>\n",
       "      <td>Unknown</td>\n",
       "      <td>Colon</td>\n",
       "      <td>13-14</td>\n",
       "    </tr>\n",
       "    <tr>\n",
       "      <th>29862</th>\n",
       "      <td>FEDE8845F0987</td>\n",
       "      <td>2021-07-08</td>\n",
       "      <td>2021-07-08</td>\n",
       "      <td>IV</td>\n",
       "      <td>Colon</td>\n",
       "      <td>21-22</td>\n",
       "    </tr>\n",
       "    <tr>\n",
       "      <th>12574</th>\n",
       "      <td>FB6D0A8AE8ACD</td>\n",
       "      <td>2019-05-05</td>\n",
       "      <td>2019-05-05</td>\n",
       "      <td>IV</td>\n",
       "      <td>Colon</td>\n",
       "      <td>19-20</td>\n",
       "    </tr>\n",
       "    <tr>\n",
       "      <th>4864</th>\n",
       "      <td>F587644082E11</td>\n",
       "      <td>2019-07-01</td>\n",
       "      <td>2019-12-06</td>\n",
       "      <td>IIIB</td>\n",
       "      <td>Rectum</td>\n",
       "      <td>19-20</td>\n",
       "    </tr>\n",
       "  </tbody>\n",
       "</table>\n",
       "</div>"
      ],
      "text/plain": [
       "           PatientID DiagnosisDate   met_date GroupStage CrcSite met_year_cat\n",
       "10283  FD669BFC1E3ED    2018-04-17 2021-01-06         II   Colon        21-22\n",
       "24174  FBE59D1DC7676    2013-12-01 2014-10-02    Unknown   Colon        13-14\n",
       "29862  FEDE8845F0987    2021-07-08 2021-07-08         IV   Colon        21-22\n",
       "12574  FB6D0A8AE8ACD    2019-05-05 2019-05-05         IV   Colon        19-20\n",
       "4864   F587644082E11    2019-07-01 2019-12-06       IIIB  Rectum        19-20"
      ]
     },
     "execution_count": 75,
     "metadata": {},
     "output_type": "execute_result"
    }
   ],
   "source": [
    "enhanced_met.sample(5)"
   ]
  },
  {
   "cell_type": "code",
   "execution_count": 76,
   "id": "e0455846",
   "metadata": {},
   "outputs": [
    {
     "name": "stdout",
     "output_type": "stream",
     "text": [
      "<class 'pandas.core.frame.DataFrame'>\n",
      "RangeIndex: 34315 entries, 0 to 34314\n",
      "Data columns (total 6 columns):\n",
      " #   Column         Non-Null Count  Dtype         \n",
      "---  ------         --------------  -----         \n",
      " 0   PatientID      34315 non-null  object        \n",
      " 1   DiagnosisDate  34277 non-null  object        \n",
      " 2   met_date       34315 non-null  datetime64[ns]\n",
      " 3   GroupStage     34315 non-null  object        \n",
      " 4   CrcSite        34315 non-null  object        \n",
      " 5   met_year_cat   34315 non-null  category      \n",
      "dtypes: category(1), datetime64[ns](1), object(4)\n",
      "memory usage: 1.3+ MB\n"
     ]
    }
   ],
   "source": [
    "enhanced_met.info()"
   ]
  },
  {
   "cell_type": "code",
   "execution_count": 77,
   "id": "908b0070",
   "metadata": {},
   "outputs": [],
   "source": [
    "enhanced_met = enhanced_met[enhanced_met['PatientID'].isin(train_IDs)]"
   ]
  },
  {
   "cell_type": "code",
   "execution_count": 78,
   "id": "d563c15d",
   "metadata": {},
   "outputs": [
    {
     "data": {
      "text/plain": [
       "(27452, 27452)"
      ]
     },
     "execution_count": 78,
     "metadata": {},
     "output_type": "execute_result"
    }
   ],
   "source": [
    "row_ID(enhanced_met)"
   ]
  },
  {
   "cell_type": "markdown",
   "id": "48b106d8",
   "metadata": {},
   "source": [
    "#### GroupStage "
   ]
  },
  {
   "cell_type": "code",
   "execution_count": 79,
   "id": "aefa2a82",
   "metadata": {},
   "outputs": [
    {
     "data": {
      "text/plain": [
       "IV         0.211970\n",
       "IVA        0.210586\n",
       "IIIB       0.135400\n",
       "IVB        0.120028\n",
       "IIA        0.074275\n",
       "IIIC       0.066625\n",
       "Unknown    0.043239\n",
       "III        0.030635\n",
       "IVC        0.026883\n",
       "I          0.026883\n",
       "IIB        0.016028\n",
       "IIIA       0.014498\n",
       "II         0.014207\n",
       "IIC        0.008633\n",
       "0          0.000109\n",
       "Name: GroupStage, dtype: float64"
      ]
     },
     "execution_count": 79,
     "metadata": {},
     "output_type": "execute_result"
    }
   ],
   "source": [
    "enhanced_met.GroupStage.value_counts(dropna = False, normalize = True)"
   ]
  },
  {
   "cell_type": "code",
   "execution_count": 80,
   "id": "fd97d514",
   "metadata": {},
   "outputs": [],
   "source": [
    "# Dictionary for regrouping stages\n",
    "stage_dict = { \n",
    "    '0': '0',\n",
    "    'I': 'I',\n",
    "    'II': 'II',\n",
    "    'IIA': 'II',\n",
    "    'IIB': 'II',\n",
    "    'IIC': 'II',\n",
    "    'III': 'III',\n",
    "    'IIIA': 'III',\n",
    "    'IIIB': 'III',\n",
    "    'IIIC': 'III',\n",
    "    'IV': 'IV',\n",
    "    'IVA': 'IV',\n",
    "    'IVB': 'IV'\n",
    "}\n",
    "\n",
    "enhanced_met['stage'] = enhanced_met['GroupStage'].map(stage_dict)"
   ]
  },
  {
   "cell_type": "code",
   "execution_count": 81,
   "id": "e5a498bc",
   "metadata": {},
   "outputs": [],
   "source": [
    "enhanced_met['stage'] = enhanced_met['stage'].fillna('unknown')"
   ]
  },
  {
   "cell_type": "code",
   "execution_count": 82,
   "id": "0ad8613c",
   "metadata": {},
   "outputs": [
    {
     "data": {
      "text/plain": [
       "IV         0.542583\n",
       "III        0.247159\n",
       "II         0.113143\n",
       "unknown    0.070122\n",
       "I          0.026883\n",
       "0          0.000109\n",
       "Name: stage, dtype: float64"
      ]
     },
     "execution_count": 82,
     "metadata": {},
     "output_type": "execute_result"
    }
   ],
   "source": [
    "enhanced_met['stage'].value_counts(normalize = True, dropna = False)"
   ]
  },
  {
   "cell_type": "code",
   "execution_count": 83,
   "id": "8d8de95e",
   "metadata": {},
   "outputs": [],
   "source": [
    "enhanced_met = enhanced_met.drop(columns = ['GroupStage'])"
   ]
  },
  {
   "cell_type": "markdown",
   "id": "78672e94",
   "metadata": {},
   "source": [
    "#### CRCSite"
   ]
  },
  {
   "cell_type": "markdown",
   "id": "f76acf5b",
   "metadata": {},
   "source": [
    "**Refer to Diagnosis section for further cleaning of variable.**"
   ]
  },
  {
   "cell_type": "code",
   "execution_count": 84,
   "id": "0d8d52a6",
   "metadata": {},
   "outputs": [
    {
     "data": {
      "text/plain": [
       "Colon             0.734846\n",
       "Rectum            0.240930\n",
       "Colorectal NOS    0.024224\n",
       "Name: CrcSite, dtype: float64"
      ]
     },
     "execution_count": 84,
     "metadata": {},
     "output_type": "execute_result"
    }
   ],
   "source": [
    "enhanced_met.CrcSite.value_counts(dropna = False, normalize = True)"
   ]
  },
  {
   "cell_type": "markdown",
   "id": "484c7691",
   "metadata": {},
   "source": [
    "#### MetDiagnosisDate"
   ]
  },
  {
   "cell_type": "code",
   "execution_count": 85,
   "id": "96dc029e",
   "metadata": {},
   "outputs": [
    {
     "data": {
      "text/plain": [
       "Timestamp('2013-01-01 00:00:00')"
      ]
     },
     "execution_count": 85,
     "metadata": {},
     "output_type": "execute_result"
    }
   ],
   "source": [
    "enhanced_met['met_date'].min()"
   ]
  },
  {
   "cell_type": "code",
   "execution_count": 86,
   "id": "5860a60b",
   "metadata": {},
   "outputs": [
    {
     "data": {
      "text/plain": [
       "Timestamp('2022-08-26 00:00:00')"
      ]
     },
     "execution_count": 86,
     "metadata": {},
     "output_type": "execute_result"
    }
   ],
   "source": [
    "enhanced_met['met_date'].max()"
   ]
  },
  {
   "cell_type": "code",
   "execution_count": 87,
   "id": "76580ef9",
   "metadata": {},
   "outputs": [
    {
     "data": {
      "text/plain": [
       "count    27452.000000\n",
       "mean      2017.167310\n",
       "std          2.643765\n",
       "min       2013.000000\n",
       "25%       2015.000000\n",
       "50%       2017.000000\n",
       "75%       2019.000000\n",
       "max       2022.000000\n",
       "Name: met_date, dtype: float64"
      ]
     },
     "execution_count": 87,
     "metadata": {},
     "output_type": "execute_result"
    }
   ],
   "source": [
    "enhanced_met['met_date'].dt.year.describe()"
   ]
  },
  {
   "cell_type": "code",
   "execution_count": 88,
   "id": "7d27e831",
   "metadata": {},
   "outputs": [],
   "source": [
    "enhanced_met.loc[:, 'met_year'] = enhanced_met['met_date'].dt.year"
   ]
  },
  {
   "cell_type": "markdown",
   "id": "a9898c9b",
   "metadata": {},
   "source": [
    "#### DiagnosisDate"
   ]
  },
  {
   "cell_type": "code",
   "execution_count": 89,
   "id": "b3827965",
   "metadata": {},
   "outputs": [
    {
     "data": {
      "text/plain": [
       "35"
      ]
     },
     "execution_count": 89,
     "metadata": {},
     "output_type": "execute_result"
    }
   ],
   "source": [
    "enhanced_met['DiagnosisDate'].isna().sum()"
   ]
  },
  {
   "cell_type": "code",
   "execution_count": 90,
   "id": "855ebb9c",
   "metadata": {},
   "outputs": [],
   "source": [
    "enhanced_met = enhanced_met.rename(columns = {'DiagnosisDate': 'diagnosis_date'})"
   ]
  },
  {
   "cell_type": "code",
   "execution_count": 91,
   "id": "b44fad3f",
   "metadata": {},
   "outputs": [],
   "source": [
    "# Missing diagnosis_date will be replaced with met_date; other dates will be left untouched. \n",
    "enhanced_met['diagnosis_date'] = (\n",
    "    np.where(enhanced_met['diagnosis_date'].isna(), enhanced_met['met_date'], enhanced_met['diagnosis_date'])\n",
    ")"
   ]
  },
  {
   "cell_type": "code",
   "execution_count": 92,
   "id": "3beefe00",
   "metadata": {},
   "outputs": [],
   "source": [
    "enhanced_met['diagnosis_date'] = pd.to_datetime(enhanced_met['diagnosis_date'])"
   ]
  },
  {
   "cell_type": "code",
   "execution_count": 93,
   "id": "9e81d739",
   "metadata": {},
   "outputs": [
    {
     "data": {
      "text/plain": [
       "Timestamp('1980-01-01 00:00:00')"
      ]
     },
     "execution_count": 93,
     "metadata": {},
     "output_type": "execute_result"
    }
   ],
   "source": [
    "enhanced_met['diagnosis_date'].min()"
   ]
  },
  {
   "cell_type": "code",
   "execution_count": 94,
   "id": "658105ee",
   "metadata": {},
   "outputs": [
    {
     "data": {
      "text/plain": [
       "Timestamp('2022-08-16 00:00:00')"
      ]
     },
     "execution_count": 94,
     "metadata": {},
     "output_type": "execute_result"
    }
   ],
   "source": [
    "enhanced_met['diagnosis_date'].max()"
   ]
  },
  {
   "cell_type": "code",
   "execution_count": 95,
   "id": "e8b48b5f",
   "metadata": {},
   "outputs": [
    {
     "data": {
      "text/plain": [
       "count    27452.000000\n",
       "mean      2016.097334\n",
       "std          3.461292\n",
       "min       1980.000000\n",
       "25%       2014.000000\n",
       "50%       2016.000000\n",
       "75%       2019.000000\n",
       "max       2022.000000\n",
       "Name: diagnosis_date, dtype: float64"
      ]
     },
     "execution_count": 95,
     "metadata": {},
     "output_type": "execute_result"
    }
   ],
   "source": [
    "enhanced_met['diagnosis_date'].dt.year.describe()"
   ]
  },
  {
   "cell_type": "code",
   "execution_count": 96,
   "id": "7bb3fbd0",
   "metadata": {},
   "outputs": [
    {
     "data": {
      "text/plain": [
       "<AxesSubplot:xlabel='diagnosis_date'>"
      ]
     },
     "execution_count": 96,
     "metadata": {},
     "output_type": "execute_result"
    },
    {
     "data": {
      "image/png": "[encoded data removed]",
      "text/plain": [
       "<Figure size 432x288 with 1 Axes>"
      ]
     },
     "metadata": {
      "needs_background": "light"
     },
     "output_type": "display_data"
    }
   ],
   "source": [
    "# Bar plot of number of new CRC diagnoses per year.\n",
    "enhanced_met.groupby([enhanced_met['diagnosis_date'].dt.year])['PatientID'].count().plot(kind = 'bar')"
   ]
  },
  {
   "cell_type": "markdown",
   "id": "b57583e3",
   "metadata": {},
   "source": [
    "**The range of dates for diagnosis is 1/1979 to 6/2022 with a median year of 2016.** "
   ]
  },
  {
   "cell_type": "code",
   "execution_count": 97,
   "id": "c7e2a7fb",
   "metadata": {},
   "outputs": [
    {
     "data": {
      "text/plain": [
       "0.428857642430424"
      ]
     },
     "execution_count": 97,
     "metadata": {},
     "output_type": "execute_result"
    }
   ],
   "source": [
    "# Percent of patients diagnosed prior to metastatic diagnosis. \n",
    "(\n",
    "    enhanced_met\n",
    "    .query('diagnosis_date < met_date')\n",
    "    .shape[0]/(len(enhanced_met))\n",
    ")"
   ]
  },
  {
   "cell_type": "markdown",
   "id": "3d79bc4a",
   "metadata": {},
   "source": [
    "#### Time from diagnosis date to metastatic date"
   ]
  },
  {
   "cell_type": "code",
   "execution_count": 98,
   "id": "57345479",
   "metadata": {},
   "outputs": [],
   "source": [
    "enhanced_met.loc[:, 'delta_met_diagnosis'] = (enhanced_met['met_date'] - enhanced_met['diagnosis_date']).dt.days"
   ]
  },
  {
   "cell_type": "code",
   "execution_count": 99,
   "id": "524702be",
   "metadata": {},
   "outputs": [
    {
     "data": {
      "text/html": [
       "<div>\n",
       "<style scoped>\n",
       "    .dataframe tbody tr th:only-of-type {\n",
       "        vertical-align: middle;\n",
       "    }\n",
       "\n",
       "    .dataframe tbody tr th {\n",
       "        vertical-align: top;\n",
       "    }\n",
       "\n",
       "    .dataframe thead th {\n",
       "        text-align: right;\n",
       "    }\n",
       "</style>\n",
       "<table border=\"1\" class=\"dataframe\">\n",
       "  <thead>\n",
       "    <tr style=\"text-align: right;\">\n",
       "      <th></th>\n",
       "      <th>met_year</th>\n",
       "      <th>delta_met_diagnosis</th>\n",
       "    </tr>\n",
       "  </thead>\n",
       "  <tbody>\n",
       "    <tr>\n",
       "      <th>count</th>\n",
       "      <td>11773.000000</td>\n",
       "      <td>11773.000000</td>\n",
       "    </tr>\n",
       "    <tr>\n",
       "      <th>mean</th>\n",
       "      <td>2017.124777</td>\n",
       "      <td>913.645970</td>\n",
       "    </tr>\n",
       "    <tr>\n",
       "      <th>std</th>\n",
       "      <td>2.613865</td>\n",
       "      <td>1026.107497</td>\n",
       "    </tr>\n",
       "    <tr>\n",
       "      <th>min</th>\n",
       "      <td>2013.000000</td>\n",
       "      <td>2.000000</td>\n",
       "    </tr>\n",
       "    <tr>\n",
       "      <th>25%</th>\n",
       "      <td>2015.000000</td>\n",
       "      <td>336.000000</td>\n",
       "    </tr>\n",
       "    <tr>\n",
       "      <th>50%</th>\n",
       "      <td>2017.000000</td>\n",
       "      <td>615.000000</td>\n",
       "    </tr>\n",
       "    <tr>\n",
       "      <th>75%</th>\n",
       "      <td>2019.000000</td>\n",
       "      <td>1117.000000</td>\n",
       "    </tr>\n",
       "    <tr>\n",
       "      <th>max</th>\n",
       "      <td>2022.000000</td>\n",
       "      <td>14057.000000</td>\n",
       "    </tr>\n",
       "  </tbody>\n",
       "</table>\n",
       "</div>"
      ],
      "text/plain": [
       "           met_year  delta_met_diagnosis\n",
       "count  11773.000000         11773.000000\n",
       "mean    2017.124777           913.645970\n",
       "std        2.613865          1026.107497\n",
       "min     2013.000000             2.000000\n",
       "25%     2015.000000           336.000000\n",
       "50%     2017.000000           615.000000\n",
       "75%     2019.000000          1117.000000\n",
       "max     2022.000000         14057.000000"
      ]
     },
     "execution_count": 99,
     "metadata": {},
     "output_type": "execute_result"
    }
   ],
   "source": [
    "# Brief summary statistics on time between diagnosis date and metastatic diagnosis.\n",
    "(\n",
    "    enhanced_met\n",
    "    .query('delta_met_diagnosis > 0')\n",
    "    .describe()\n",
    ")"
   ]
  },
  {
   "cell_type": "code",
   "execution_count": 100,
   "id": "3c5791a6",
   "metadata": {},
   "outputs": [
    {
     "data": {
      "text/html": [
       "<div>\n",
       "<style scoped>\n",
       "    .dataframe tbody tr th:only-of-type {\n",
       "        vertical-align: middle;\n",
       "    }\n",
       "\n",
       "    .dataframe tbody tr th {\n",
       "        vertical-align: top;\n",
       "    }\n",
       "\n",
       "    .dataframe thead th {\n",
       "        text-align: right;\n",
       "    }\n",
       "</style>\n",
       "<table border=\"1\" class=\"dataframe\">\n",
       "  <thead>\n",
       "    <tr style=\"text-align: right;\">\n",
       "      <th></th>\n",
       "      <th>PatientID</th>\n",
       "      <th>diagnosis_date</th>\n",
       "      <th>met_date</th>\n",
       "      <th>CrcSite</th>\n",
       "      <th>met_year_cat</th>\n",
       "      <th>stage</th>\n",
       "      <th>met_year</th>\n",
       "      <th>delta_met_diagnosis</th>\n",
       "    </tr>\n",
       "  </thead>\n",
       "  <tbody>\n",
       "    <tr>\n",
       "      <th>6207</th>\n",
       "      <td>FEA9552DC1122</td>\n",
       "      <td>2009-10-16</td>\n",
       "      <td>2013-09-23</td>\n",
       "      <td>Colon</td>\n",
       "      <td>13-14</td>\n",
       "      <td>III</td>\n",
       "      <td>2013</td>\n",
       "      <td>1438</td>\n",
       "    </tr>\n",
       "    <tr>\n",
       "      <th>8286</th>\n",
       "      <td>F1610949417B4</td>\n",
       "      <td>2014-01-01</td>\n",
       "      <td>2014-01-01</td>\n",
       "      <td>Colon</td>\n",
       "      <td>13-14</td>\n",
       "      <td>IV</td>\n",
       "      <td>2014</td>\n",
       "      <td>0</td>\n",
       "    </tr>\n",
       "    <tr>\n",
       "      <th>30715</th>\n",
       "      <td>FA254EF1BF79A</td>\n",
       "      <td>2019-09-28</td>\n",
       "      <td>2020-03-12</td>\n",
       "      <td>Colon</td>\n",
       "      <td>19-20</td>\n",
       "      <td>III</td>\n",
       "      <td>2020</td>\n",
       "      <td>166</td>\n",
       "    </tr>\n",
       "    <tr>\n",
       "      <th>10249</th>\n",
       "      <td>F9FA3E1061B9B</td>\n",
       "      <td>2013-09-26</td>\n",
       "      <td>2013-09-26</td>\n",
       "      <td>Colon</td>\n",
       "      <td>13-14</td>\n",
       "      <td>IV</td>\n",
       "      <td>2013</td>\n",
       "      <td>0</td>\n",
       "    </tr>\n",
       "    <tr>\n",
       "      <th>16308</th>\n",
       "      <td>F7B5C6E6E526D</td>\n",
       "      <td>2016-05-26</td>\n",
       "      <td>2016-05-26</td>\n",
       "      <td>Colon</td>\n",
       "      <td>15-16</td>\n",
       "      <td>IV</td>\n",
       "      <td>2016</td>\n",
       "      <td>0</td>\n",
       "    </tr>\n",
       "  </tbody>\n",
       "</table>\n",
       "</div>"
      ],
      "text/plain": [
       "           PatientID diagnosis_date   met_date CrcSite met_year_cat stage  \\\n",
       "6207   FEA9552DC1122     2009-10-16 2013-09-23   Colon        13-14   III   \n",
       "8286   F1610949417B4     2014-01-01 2014-01-01   Colon        13-14    IV   \n",
       "30715  FA254EF1BF79A     2019-09-28 2020-03-12   Colon        19-20   III   \n",
       "10249  F9FA3E1061B9B     2013-09-26 2013-09-26   Colon        13-14    IV   \n",
       "16308  F7B5C6E6E526D     2016-05-26 2016-05-26   Colon        15-16    IV   \n",
       "\n",
       "       met_year  delta_met_diagnosis  \n",
       "6207       2013                 1438  \n",
       "8286       2014                    0  \n",
       "30715      2020                  166  \n",
       "10249      2013                    0  \n",
       "16308      2016                    0  "
      ]
     },
     "execution_count": 100,
     "metadata": {},
     "output_type": "execute_result"
    }
   ],
   "source": [
    "# Final enhanced_met dataframe\n",
    "enhanced_met.sample(5)"
   ]
  },
  {
   "cell_type": "code",
   "execution_count": 101,
   "id": "89c94f79",
   "metadata": {},
   "outputs": [
    {
     "name": "stdout",
     "output_type": "stream",
     "text": [
      "Variable       Type         Data/Info\n",
      "-------------------------------------\n",
      "demographics   DataFrame               PatientID gend<...>n[27452 rows x 7 columns]\n",
      "enhanced_met   DataFrame               PatientID diag<...>n[27452 rows x 8 columns]\n"
     ]
    }
   ],
   "source": [
    "%whos DataFrame"
   ]
  },
  {
   "cell_type": "markdown",
   "id": "97edaf46",
   "metadata": {},
   "source": [
    "### 3. Enhanced_Mortality_V2"
   ]
  },
  {
   "cell_type": "code",
   "execution_count": 102,
   "id": "d1ca2889",
   "metadata": {},
   "outputs": [],
   "source": [
    "mortality = pd.read_csv('Enhanced_Mortality_V2.csv')"
   ]
  },
  {
   "cell_type": "code",
   "execution_count": 103,
   "id": "b0b24ca1",
   "metadata": {},
   "outputs": [],
   "source": [
    "mortality = mortality[mortality['PatientID'].isin(train_IDs)]"
   ]
  },
  {
   "cell_type": "code",
   "execution_count": 104,
   "id": "0d24c7b0",
   "metadata": {},
   "outputs": [
    {
     "data": {
      "text/html": [
       "<div>\n",
       "<style scoped>\n",
       "    .dataframe tbody tr th:only-of-type {\n",
       "        vertical-align: middle;\n",
       "    }\n",
       "\n",
       "    .dataframe tbody tr th {\n",
       "        vertical-align: top;\n",
       "    }\n",
       "\n",
       "    .dataframe thead th {\n",
       "        text-align: right;\n",
       "    }\n",
       "</style>\n",
       "<table border=\"1\" class=\"dataframe\">\n",
       "  <thead>\n",
       "    <tr style=\"text-align: right;\">\n",
       "      <th></th>\n",
       "      <th>PatientID</th>\n",
       "      <th>DateOfDeath</th>\n",
       "    </tr>\n",
       "  </thead>\n",
       "  <tbody>\n",
       "    <tr>\n",
       "      <th>6891</th>\n",
       "      <td>FA2430CDB46AD</td>\n",
       "      <td>2019-11</td>\n",
       "    </tr>\n",
       "    <tr>\n",
       "      <th>16955</th>\n",
       "      <td>F934267417E10</td>\n",
       "      <td>2016-10</td>\n",
       "    </tr>\n",
       "    <tr>\n",
       "      <th>2300</th>\n",
       "      <td>FFA4DA1793279</td>\n",
       "      <td>2018-09</td>\n",
       "    </tr>\n",
       "    <tr>\n",
       "      <th>19047</th>\n",
       "      <td>F3418ED469B00</td>\n",
       "      <td>2020-09</td>\n",
       "    </tr>\n",
       "    <tr>\n",
       "      <th>3801</th>\n",
       "      <td>F8BDB06A6154A</td>\n",
       "      <td>2014-11</td>\n",
       "    </tr>\n",
       "  </tbody>\n",
       "</table>\n",
       "</div>"
      ],
      "text/plain": [
       "           PatientID DateOfDeath\n",
       "6891   FA2430CDB46AD     2019-11\n",
       "16955  F934267417E10     2016-10\n",
       "2300   FFA4DA1793279     2018-09\n",
       "19047  F3418ED469B00     2020-09\n",
       "3801   F8BDB06A6154A     2014-11"
      ]
     },
     "execution_count": 104,
     "metadata": {},
     "output_type": "execute_result"
    }
   ],
   "source": [
    "mortality.sample(5)"
   ]
  },
  {
   "cell_type": "code",
   "execution_count": 105,
   "id": "96333282",
   "metadata": {},
   "outputs": [
    {
     "name": "stdout",
     "output_type": "stream",
     "text": [
      "<class 'pandas.core.frame.DataFrame'>\n",
      "Int64Index: 17108 entries, 0 to 21343\n",
      "Data columns (total 2 columns):\n",
      " #   Column       Non-Null Count  Dtype \n",
      "---  ------       --------------  ----- \n",
      " 0   PatientID    17108 non-null  object\n",
      " 1   DateOfDeath  17108 non-null  object\n",
      "dtypes: object(2)\n",
      "memory usage: 401.0+ KB\n"
     ]
    }
   ],
   "source": [
    "mortality.info()"
   ]
  },
  {
   "cell_type": "code",
   "execution_count": 106,
   "id": "345a1b40",
   "metadata": {},
   "outputs": [
    {
     "data": {
      "text/plain": [
       "(17108, 17108)"
      ]
     },
     "execution_count": 106,
     "metadata": {},
     "output_type": "execute_result"
    }
   ],
   "source": [
    "row_ID(mortality)"
   ]
  },
  {
   "cell_type": "code",
   "execution_count": 107,
   "id": "e1143eff",
   "metadata": {},
   "outputs": [],
   "source": [
    "mortality = mortality.rename(columns = {'DateOfDeath': 'death_date'})"
   ]
  },
  {
   "cell_type": "code",
   "execution_count": 108,
   "id": "0c4e06a7",
   "metadata": {},
   "outputs": [
    {
     "data": {
      "text/html": [
       "<div>\n",
       "<style scoped>\n",
       "    .dataframe tbody tr th:only-of-type {\n",
       "        vertical-align: middle;\n",
       "    }\n",
       "\n",
       "    .dataframe tbody tr th {\n",
       "        vertical-align: top;\n",
       "    }\n",
       "\n",
       "    .dataframe thead th {\n",
       "        text-align: right;\n",
       "    }\n",
       "</style>\n",
       "<table border=\"1\" class=\"dataframe\">\n",
       "  <thead>\n",
       "    <tr style=\"text-align: right;\">\n",
       "      <th></th>\n",
       "      <th>PatientID</th>\n",
       "      <th>death_date</th>\n",
       "    </tr>\n",
       "  </thead>\n",
       "  <tbody>\n",
       "    <tr>\n",
       "      <th>4494</th>\n",
       "      <td>F0E9F0C51319F</td>\n",
       "      <td>2016</td>\n",
       "    </tr>\n",
       "    <tr>\n",
       "      <th>5099</th>\n",
       "      <td>F1704047F2297</td>\n",
       "      <td>2017</td>\n",
       "    </tr>\n",
       "    <tr>\n",
       "      <th>7781</th>\n",
       "      <td>F18AA97EBDF4B</td>\n",
       "      <td>2016</td>\n",
       "    </tr>\n",
       "    <tr>\n",
       "      <th>7944</th>\n",
       "      <td>F657BDE880A95</td>\n",
       "      <td>2019</td>\n",
       "    </tr>\n",
       "    <tr>\n",
       "      <th>12667</th>\n",
       "      <td>F431DD050D99A</td>\n",
       "      <td>2015</td>\n",
       "    </tr>\n",
       "    <tr>\n",
       "      <th>13246</th>\n",
       "      <td>F598BB2B18B53</td>\n",
       "      <td>2019</td>\n",
       "    </tr>\n",
       "    <tr>\n",
       "      <th>13322</th>\n",
       "      <td>FAF05136D6590</td>\n",
       "      <td>2020</td>\n",
       "    </tr>\n",
       "    <tr>\n",
       "      <th>14324</th>\n",
       "      <td>F9E47279AD5E3</td>\n",
       "      <td>2019</td>\n",
       "    </tr>\n",
       "    <tr>\n",
       "      <th>15690</th>\n",
       "      <td>F3C0311B52E1D</td>\n",
       "      <td>2018</td>\n",
       "    </tr>\n",
       "    <tr>\n",
       "      <th>17855</th>\n",
       "      <td>F81889706D8F5</td>\n",
       "      <td>2018</td>\n",
       "    </tr>\n",
       "    <tr>\n",
       "      <th>18031</th>\n",
       "      <td>FAF7C020582B4</td>\n",
       "      <td>2017</td>\n",
       "    </tr>\n",
       "    <tr>\n",
       "      <th>18629</th>\n",
       "      <td>FCB9CE4130044</td>\n",
       "      <td>2021</td>\n",
       "    </tr>\n",
       "    <tr>\n",
       "      <th>19045</th>\n",
       "      <td>F1220E15AA282</td>\n",
       "      <td>2018</td>\n",
       "    </tr>\n",
       "  </tbody>\n",
       "</table>\n",
       "</div>"
      ],
      "text/plain": [
       "           PatientID death_date\n",
       "4494   F0E9F0C51319F       2016\n",
       "5099   F1704047F2297       2017\n",
       "7781   F18AA97EBDF4B       2016\n",
       "7944   F657BDE880A95       2019\n",
       "12667  F431DD050D99A       2015\n",
       "13246  F598BB2B18B53       2019\n",
       "13322  FAF05136D6590       2020\n",
       "14324  F9E47279AD5E3       2019\n",
       "15690  F3C0311B52E1D       2018\n",
       "17855  F81889706D8F5       2018\n",
       "18031  FAF7C020582B4       2017\n",
       "18629  FCB9CE4130044       2021\n",
       "19045  F1220E15AA282       2018"
      ]
     },
     "execution_count": 108,
     "metadata": {},
     "output_type": "execute_result"
    }
   ],
   "source": [
    "# Patients with year granularity.\n",
    "mortality[mortality['death_date'].str.len() == 4]"
   ]
  },
  {
   "cell_type": "markdown",
   "id": "9e747adb",
   "metadata": {},
   "source": [
    "**The date of death is generalized to the month for de-identification purposes, however, a small number of patients have just the year for date of death. For analyses requiring a day of death, Flatiron Health recommends imputing the 15th of the month since this approach best approximates the results generated from using the exact date of death. For those with a date of death with year granularity, Flatiron recommends imputing the middle of the year and conducting a sensitivty analysis to evaluate assumption.**"
   ]
  },
  {
   "cell_type": "code",
   "execution_count": 109,
   "id": "cdb63aff",
   "metadata": {},
   "outputs": [],
   "source": [
    "# For patients with year granularity, impute middle of the year (ie., July 1)\n",
    "mortality['death_date'] = (\n",
    "    np.where(mortality['death_date'].str.len() == 4, mortality['death_date'] + '-07-01', mortality['death_date'])\n",
    ")"
   ]
  },
  {
   "cell_type": "code",
   "execution_count": 110,
   "id": "3e7d5630",
   "metadata": {},
   "outputs": [],
   "source": [
    "# For patients with month granularity, impute 15th of the month.\n",
    "mortality['death_date'] = (\n",
    "    np.where(mortality['death_date'].str.len() == 7, mortality['death_date'] + '-15', mortality['death_date'])\n",
    ")"
   ]
  },
  {
   "cell_type": "code",
   "execution_count": 111,
   "id": "1a08c760",
   "metadata": {},
   "outputs": [],
   "source": [
    "mortality['death_date'] = pd.to_datetime(mortality['death_date'])"
   ]
  },
  {
   "cell_type": "code",
   "execution_count": 112,
   "id": "1a906e60",
   "metadata": {},
   "outputs": [
    {
     "data": {
      "text/plain": [
       "0.6231968526883287"
      ]
     },
     "execution_count": 112,
     "metadata": {},
     "output_type": "execute_result"
    }
   ],
   "source": [
    "# Percent of patients with death date.  \n",
    "len(mortality)/len(train_IDs)"
   ]
  },
  {
   "cell_type": "code",
   "execution_count": 113,
   "id": "e632d160",
   "metadata": {},
   "outputs": [
    {
     "data": {
      "text/plain": [
       "<AxesSubplot:xlabel='death_date'>"
      ]
     },
     "execution_count": 113,
     "metadata": {},
     "output_type": "execute_result"
    },
    {
     "data": {
      "image/png": "[encoded data removed]",
      "text/plain": [
       "<Figure size 432x288 with 1 Axes>"
      ]
     },
     "metadata": {
      "needs_background": "light"
     },
     "output_type": "display_data"
    }
   ],
   "source": [
    "# Bar plot of monthly mortality for aNSCLC. \n",
    "mortality.groupby([mortality['death_date'].dt.month])['PatientID'].count().plot(kind = 'bar')"
   ]
  },
  {
   "cell_type": "code",
   "execution_count": 114,
   "id": "2069ef98",
   "metadata": {},
   "outputs": [
    {
     "data": {
      "text/plain": [
       "<AxesSubplot:xlabel='death_date'>"
      ]
     },
     "execution_count": 114,
     "metadata": {},
     "output_type": "execute_result"
    },
    {
     "data": {
      "image/png": "[encoded data removed]",
      "text/plain": [
       "<Figure size 432x288 with 1 Axes>"
      ]
     },
     "metadata": {
      "needs_background": "light"
     },
     "output_type": "display_data"
    }
   ],
   "source": [
    "# Bar plot of yearly mortality for aNSCLC. \n",
    "mortality.groupby([mortality['death_date'].dt.year])['PatientID'].count().plot(kind = 'bar')"
   ]
  },
  {
   "cell_type": "markdown",
   "id": "e3b357c9",
   "metadata": {},
   "source": [
    "#### Censoring"
   ]
  },
  {
   "cell_type": "markdown",
   "id": "96294baa",
   "metadata": {},
   "source": [
    "**For patients for whom a date of death is not known, the censor date can be defined either as the data cutoff date or as the last confirmed activity date. The last confirmed activity date is broadly defined as the last date at which there is evidence in the EHR that a patient is alive. Evidence of a record in at least one of the items listed below qualifies as patient-level confirmed activity:**\n",
    "* **Visit: VisitDate**\n",
    "* **Enhanced_MetCRC_Orals: StartDate or EndDate**\n",
    "* **Enhanced_MetCRCBiomarkers: SpecimenCollectedDate**"
   ]
  },
  {
   "cell_type": "code",
   "execution_count": 115,
   "id": "6f3ba7a3",
   "metadata": {},
   "outputs": [],
   "source": [
    "visit = pd.read_csv('Visit.csv')\n",
    "telemedicine = pd.read_csv('Telemedicine.csv')\n",
    "orals = pd.read_csv('Enhanced_MetCRC_Orals.csv')\n",
    "biomarkers = pd.read_csv('Enhanced_MetCRCBiomarkers.csv')"
   ]
  },
  {
   "cell_type": "markdown",
   "id": "ed61f8c9",
   "metadata": {},
   "source": [
    "##### Visit and Telemedicine"
   ]
  },
  {
   "cell_type": "code",
   "execution_count": 116,
   "id": "70490b55",
   "metadata": {},
   "outputs": [
    {
     "data": {
      "text/html": [
       "<div>\n",
       "<style scoped>\n",
       "    .dataframe tbody tr th:only-of-type {\n",
       "        vertical-align: middle;\n",
       "    }\n",
       "\n",
       "    .dataframe tbody tr th {\n",
       "        vertical-align: top;\n",
       "    }\n",
       "\n",
       "    .dataframe thead th {\n",
       "        text-align: right;\n",
       "    }\n",
       "</style>\n",
       "<table border=\"1\" class=\"dataframe\">\n",
       "  <thead>\n",
       "    <tr style=\"text-align: right;\">\n",
       "      <th></th>\n",
       "      <th>PatientID</th>\n",
       "      <th>PracticeID</th>\n",
       "      <th>VisitDate</th>\n",
       "      <th>VisitType</th>\n",
       "      <th>IsVitalsVisit</th>\n",
       "      <th>IsTreatmentVisit</th>\n",
       "      <th>IsLabVisit</th>\n",
       "    </tr>\n",
       "  </thead>\n",
       "  <tbody>\n",
       "    <tr>\n",
       "      <th>1460782</th>\n",
       "      <td>FD921916F7FDE</td>\n",
       "      <td>SD2555DC0ACD7</td>\n",
       "      <td>2018-12-10</td>\n",
       "      <td>Vitals</td>\n",
       "      <td>True</td>\n",
       "      <td>False</td>\n",
       "      <td>True</td>\n",
       "    </tr>\n",
       "    <tr>\n",
       "      <th>1481573</th>\n",
       "      <td>F4F277ADA3BE2</td>\n",
       "      <td>SD2555DC0ACD7</td>\n",
       "      <td>2021-05-06</td>\n",
       "      <td>Treatment</td>\n",
       "      <td>True</td>\n",
       "      <td>True</td>\n",
       "      <td>True</td>\n",
       "    </tr>\n",
       "    <tr>\n",
       "      <th>1213043</th>\n",
       "      <td>FD899D8C020E8</td>\n",
       "      <td>S0F55D97F6A38</td>\n",
       "      <td>2017-04-05</td>\n",
       "      <td>Vitals</td>\n",
       "      <td>True</td>\n",
       "      <td>False</td>\n",
       "      <td>False</td>\n",
       "    </tr>\n",
       "    <tr>\n",
       "      <th>1209212</th>\n",
       "      <td>F7E053720091E</td>\n",
       "      <td>SAD8F16CDAAF0</td>\n",
       "      <td>2019-10-24</td>\n",
       "      <td>Treatment</td>\n",
       "      <td>True</td>\n",
       "      <td>True</td>\n",
       "      <td>True</td>\n",
       "    </tr>\n",
       "    <tr>\n",
       "      <th>1527458</th>\n",
       "      <td>F6545B16D5BDF</td>\n",
       "      <td>S260DA7B3CE37</td>\n",
       "      <td>2016-08-10</td>\n",
       "      <td>Treatment</td>\n",
       "      <td>False</td>\n",
       "      <td>True</td>\n",
       "      <td>False</td>\n",
       "    </tr>\n",
       "  </tbody>\n",
       "</table>\n",
       "</div>"
      ],
      "text/plain": [
       "             PatientID     PracticeID   VisitDate  VisitType  IsVitalsVisit  \\\n",
       "1460782  FD921916F7FDE  SD2555DC0ACD7  2018-12-10     Vitals           True   \n",
       "1481573  F4F277ADA3BE2  SD2555DC0ACD7  2021-05-06  Treatment           True   \n",
       "1213043  FD899D8C020E8  S0F55D97F6A38  2017-04-05     Vitals           True   \n",
       "1209212  F7E053720091E  SAD8F16CDAAF0  2019-10-24  Treatment           True   \n",
       "1527458  F6545B16D5BDF  S260DA7B3CE37  2016-08-10  Treatment          False   \n",
       "\n",
       "         IsTreatmentVisit  IsLabVisit  \n",
       "1460782             False        True  \n",
       "1481573              True        True  \n",
       "1213043             False       False  \n",
       "1209212              True        True  \n",
       "1527458              True       False  "
      ]
     },
     "execution_count": 116,
     "metadata": {},
     "output_type": "execute_result"
    }
   ],
   "source": [
    "visit.sample(5)"
   ]
  },
  {
   "cell_type": "code",
   "execution_count": 117,
   "id": "4c39616d",
   "metadata": {},
   "outputs": [
    {
     "data": {
      "text/plain": [
       "(2010098, 7)"
      ]
     },
     "execution_count": 117,
     "metadata": {},
     "output_type": "execute_result"
    }
   ],
   "source": [
    "visit.shape"
   ]
  },
  {
   "cell_type": "code",
   "execution_count": 118,
   "id": "b6a17ae1",
   "metadata": {},
   "outputs": [
    {
     "data": {
      "text/html": [
       "<div>\n",
       "<style scoped>\n",
       "    .dataframe tbody tr th:only-of-type {\n",
       "        vertical-align: middle;\n",
       "    }\n",
       "\n",
       "    .dataframe tbody tr th {\n",
       "        vertical-align: top;\n",
       "    }\n",
       "\n",
       "    .dataframe thead th {\n",
       "        text-align: right;\n",
       "    }\n",
       "</style>\n",
       "<table border=\"1\" class=\"dataframe\">\n",
       "  <thead>\n",
       "    <tr style=\"text-align: right;\">\n",
       "      <th></th>\n",
       "      <th>PatientID</th>\n",
       "      <th>PracticeID</th>\n",
       "      <th>VisitDate</th>\n",
       "    </tr>\n",
       "  </thead>\n",
       "  <tbody>\n",
       "    <tr>\n",
       "      <th>13142</th>\n",
       "      <td>FF1DBA91C3EE3</td>\n",
       "      <td>SAD8F16CDAAF0</td>\n",
       "      <td>2022-01-28</td>\n",
       "    </tr>\n",
       "    <tr>\n",
       "      <th>11422</th>\n",
       "      <td>F36C57AF13824</td>\n",
       "      <td>S044262E32626</td>\n",
       "      <td>2022-04-21</td>\n",
       "    </tr>\n",
       "    <tr>\n",
       "      <th>6635</th>\n",
       "      <td>F58044EBD2E8C</td>\n",
       "      <td>SA819E96EB4B3</td>\n",
       "      <td>2020-05-26</td>\n",
       "    </tr>\n",
       "    <tr>\n",
       "      <th>10379</th>\n",
       "      <td>F79EDD77EC502</td>\n",
       "      <td>SC3260C6286CA</td>\n",
       "      <td>2020-10-29</td>\n",
       "    </tr>\n",
       "    <tr>\n",
       "      <th>3936</th>\n",
       "      <td>FE179281C85B8</td>\n",
       "      <td>S507DCE5DD8C6</td>\n",
       "      <td>2021-02-25</td>\n",
       "    </tr>\n",
       "  </tbody>\n",
       "</table>\n",
       "</div>"
      ],
      "text/plain": [
       "           PatientID     PracticeID   VisitDate\n",
       "13142  FF1DBA91C3EE3  SAD8F16CDAAF0  2022-01-28\n",
       "11422  F36C57AF13824  S044262E32626  2022-04-21\n",
       "6635   F58044EBD2E8C  SA819E96EB4B3  2020-05-26\n",
       "10379  F79EDD77EC502  SC3260C6286CA  2020-10-29\n",
       "3936   FE179281C85B8  S507DCE5DD8C6  2021-02-25"
      ]
     },
     "execution_count": 118,
     "metadata": {},
     "output_type": "execute_result"
    }
   ],
   "source": [
    "telemedicine.sample(5)"
   ]
  },
  {
   "cell_type": "code",
   "execution_count": 119,
   "id": "30fb8dda",
   "metadata": {},
   "outputs": [
    {
     "data": {
      "text/plain": [
       "(23327, 3)"
      ]
     },
     "execution_count": 119,
     "metadata": {},
     "output_type": "execute_result"
    }
   ],
   "source": [
    "telemedicine.shape"
   ]
  },
  {
   "cell_type": "code",
   "execution_count": 120,
   "id": "12e8597a",
   "metadata": {},
   "outputs": [],
   "source": [
    "visit_tele = (\n",
    "    visit\n",
    "    .drop(columns = ['VisitType', 'IsVitalsVisit', 'IsTreatmentVisit', 'IsLabVisit'])\n",
    "    .append(telemedicine)\n",
    ") "
   ]
  },
  {
   "cell_type": "code",
   "execution_count": 121,
   "id": "9ee35ad4",
   "metadata": {},
   "outputs": [
    {
     "data": {
      "text/plain": [
       "(2033425, 3)"
      ]
     },
     "execution_count": 121,
     "metadata": {},
     "output_type": "execute_result"
    }
   ],
   "source": [
    "visit_tele.shape"
   ]
  },
  {
   "cell_type": "code",
   "execution_count": 122,
   "id": "ca248288",
   "metadata": {},
   "outputs": [],
   "source": [
    "visit_tele.loc[:,'VisitDate'] = pd.to_datetime(visit_tele['VisitDate'])"
   ]
  },
  {
   "cell_type": "code",
   "execution_count": 123,
   "id": "d514b92b",
   "metadata": {},
   "outputs": [
    {
     "data": {
      "text/html": [
       "<div>\n",
       "<style scoped>\n",
       "    .dataframe tbody tr th:only-of-type {\n",
       "        vertical-align: middle;\n",
       "    }\n",
       "\n",
       "    .dataframe tbody tr th {\n",
       "        vertical-align: top;\n",
       "    }\n",
       "\n",
       "    .dataframe thead th {\n",
       "        text-align: right;\n",
       "    }\n",
       "</style>\n",
       "<table border=\"1\" class=\"dataframe\">\n",
       "  <thead>\n",
       "    <tr style=\"text-align: right;\">\n",
       "      <th></th>\n",
       "      <th>PatientID</th>\n",
       "      <th>PracticeID</th>\n",
       "      <th>VisitDate</th>\n",
       "    </tr>\n",
       "  </thead>\n",
       "  <tbody>\n",
       "    <tr>\n",
       "      <th>332304</th>\n",
       "      <td>F39D20DDACE2C</td>\n",
       "      <td>S507DCE5DD8C6</td>\n",
       "      <td>2021-09-01</td>\n",
       "    </tr>\n",
       "    <tr>\n",
       "      <th>1030056</th>\n",
       "      <td>F280F1801A295</td>\n",
       "      <td>S044262E32626</td>\n",
       "      <td>2017-12-15</td>\n",
       "    </tr>\n",
       "    <tr>\n",
       "      <th>1036903</th>\n",
       "      <td>F69E80877D2FD</td>\n",
       "      <td>S044262E32626</td>\n",
       "      <td>2021-11-02</td>\n",
       "    </tr>\n",
       "    <tr>\n",
       "      <th>983617</th>\n",
       "      <td>F12DF4C1D1504</td>\n",
       "      <td>S9E5E89299301</td>\n",
       "      <td>2013-11-07</td>\n",
       "    </tr>\n",
       "    <tr>\n",
       "      <th>1605412</th>\n",
       "      <td>F2FF28C051119</td>\n",
       "      <td>S11934AF3E84E</td>\n",
       "      <td>2018-06-05</td>\n",
       "    </tr>\n",
       "  </tbody>\n",
       "</table>\n",
       "</div>"
      ],
      "text/plain": [
       "             PatientID     PracticeID  VisitDate\n",
       "332304   F39D20DDACE2C  S507DCE5DD8C6 2021-09-01\n",
       "1030056  F280F1801A295  S044262E32626 2017-12-15\n",
       "1036903  F69E80877D2FD  S044262E32626 2021-11-02\n",
       "983617   F12DF4C1D1504  S9E5E89299301 2013-11-07\n",
       "1605412  F2FF28C051119  S11934AF3E84E 2018-06-05"
      ]
     },
     "execution_count": 123,
     "metadata": {},
     "output_type": "execute_result"
    }
   ],
   "source": [
    "visit_tele.sample(5)"
   ]
  },
  {
   "cell_type": "code",
   "execution_count": 124,
   "id": "815bd688",
   "metadata": {},
   "outputs": [],
   "source": [
    "# Select max VisitDate from combined Visit and Telemedicine table.\n",
    "visit_tele_max = (\n",
    "    visit_tele\n",
    "    [visit_tele['PatientID'].isin(train_IDs)]\n",
    "    .groupby('PatientID')['VisitDate'].max()\n",
    "    .to_frame(name = 'visit_max')\n",
    "    .reset_index()\n",
    ")"
   ]
  },
  {
   "cell_type": "code",
   "execution_count": 125,
   "id": "e7c7bea2",
   "metadata": {},
   "outputs": [
    {
     "data": {
      "text/plain": [
       "(27452, 27452)"
      ]
     },
     "execution_count": 125,
     "metadata": {},
     "output_type": "execute_result"
    }
   ],
   "source": [
    "row_ID(visit_tele_max)"
   ]
  },
  {
   "cell_type": "markdown",
   "id": "b2c5bae5",
   "metadata": {},
   "source": [
    "##### Orals"
   ]
  },
  {
   "cell_type": "code",
   "execution_count": 126,
   "id": "4dc0ed37",
   "metadata": {},
   "outputs": [],
   "source": [
    "orals = orals[orals['PatientID'].isin(train_IDs)]"
   ]
  },
  {
   "cell_type": "code",
   "execution_count": 127,
   "id": "7533b73b",
   "metadata": {},
   "outputs": [],
   "source": [
    "orals.loc[:, 'StartDate'] = pd.to_datetime(orals['StartDate'])"
   ]
  },
  {
   "cell_type": "code",
   "execution_count": 128,
   "id": "470b39a8",
   "metadata": {},
   "outputs": [],
   "source": [
    "orals.loc[:, 'EndDate'] = pd.to_datetime(orals['EndDate'])"
   ]
  },
  {
   "cell_type": "code",
   "execution_count": 129,
   "id": "e3195084",
   "metadata": {},
   "outputs": [],
   "source": [
    "orals_max = (\n",
    "    orals\n",
    "    .assign(max_date = orals[['StartDate', 'EndDate']].max(axis = 1))\n",
    "    .groupby('PatientID')['max_date'].max()\n",
    "    .to_frame(name = 'orals_max')\n",
    "    .reset_index()\n",
    ")"
   ]
  },
  {
   "cell_type": "markdown",
   "id": "5ed303ec",
   "metadata": {},
   "source": [
    "##### Biomarkers"
   ]
  },
  {
   "cell_type": "code",
   "execution_count": 130,
   "id": "b233af7e",
   "metadata": {},
   "outputs": [],
   "source": [
    "biomarkers = biomarkers[biomarkers['PatientID'].isin(train_IDs)]"
   ]
  },
  {
   "cell_type": "code",
   "execution_count": 131,
   "id": "0fa441ca",
   "metadata": {},
   "outputs": [],
   "source": [
    "biomarkers.loc[:, 'SpecimenCollectedDate'] = pd.to_datetime(biomarkers['SpecimenCollectedDate'])"
   ]
  },
  {
   "cell_type": "code",
   "execution_count": 132,
   "id": "23c8db5b",
   "metadata": {},
   "outputs": [],
   "source": [
    "biomarkers_max = (\n",
    "    biomarkers\n",
    "    .groupby('PatientID')['SpecimenCollectedDate'].max()\n",
    "    .to_frame(name = 'biomarkers_max')\n",
    "    .reset_index()\n",
    ")"
   ]
  },
  {
   "cell_type": "markdown",
   "id": "bb6694ee",
   "metadata": {},
   "source": [
    "##### Max date merge"
   ]
  },
  {
   "cell_type": "code",
   "execution_count": 133,
   "id": "8a08e692",
   "metadata": {},
   "outputs": [],
   "source": [
    "last_activity = pd.merge(visit_tele_max, orals_max, on = 'PatientID', how = 'outer')"
   ]
  },
  {
   "cell_type": "code",
   "execution_count": 134,
   "id": "8ae10a3e",
   "metadata": {},
   "outputs": [],
   "source": [
    "last_activity = pd.merge(last_activity, biomarkers_max, on = 'PatientID', how = 'outer')"
   ]
  },
  {
   "cell_type": "code",
   "execution_count": 135,
   "id": "48dc74b7",
   "metadata": {},
   "outputs": [
    {
     "data": {
      "text/plain": [
       "(27452, 27452)"
      ]
     },
     "execution_count": 135,
     "metadata": {},
     "output_type": "execute_result"
    }
   ],
   "source": [
    "row_ID(last_activity)"
   ]
  },
  {
   "cell_type": "code",
   "execution_count": 136,
   "id": "63e95b62",
   "metadata": {},
   "outputs": [
    {
     "data": {
      "text/html": [
       "<div>\n",
       "<style scoped>\n",
       "    .dataframe tbody tr th:only-of-type {\n",
       "        vertical-align: middle;\n",
       "    }\n",
       "\n",
       "    .dataframe tbody tr th {\n",
       "        vertical-align: top;\n",
       "    }\n",
       "\n",
       "    .dataframe thead th {\n",
       "        text-align: right;\n",
       "    }\n",
       "</style>\n",
       "<table border=\"1\" class=\"dataframe\">\n",
       "  <thead>\n",
       "    <tr style=\"text-align: right;\">\n",
       "      <th></th>\n",
       "      <th>PatientID</th>\n",
       "      <th>visit_max</th>\n",
       "      <th>orals_max</th>\n",
       "      <th>biomarkers_max</th>\n",
       "    </tr>\n",
       "  </thead>\n",
       "  <tbody>\n",
       "    <tr>\n",
       "      <th>27312</th>\n",
       "      <td>FFE978DE864AC</td>\n",
       "      <td>2015-01-27</td>\n",
       "      <td>2015-01-27</td>\n",
       "      <td>2011-02-28</td>\n",
       "    </tr>\n",
       "    <tr>\n",
       "      <th>1546</th>\n",
       "      <td>F0E98219C1AEE</td>\n",
       "      <td>2019-10-11</td>\n",
       "      <td>2019-08-26</td>\n",
       "      <td>2018-01-17</td>\n",
       "    </tr>\n",
       "    <tr>\n",
       "      <th>15545</th>\n",
       "      <td>F9024D6120D3E</td>\n",
       "      <td>2019-02-27</td>\n",
       "      <td>NaT</td>\n",
       "      <td>2019-01-17</td>\n",
       "    </tr>\n",
       "    <tr>\n",
       "      <th>4922</th>\n",
       "      <td>F2D85265F20DE</td>\n",
       "      <td>2015-06-22</td>\n",
       "      <td>NaT</td>\n",
       "      <td>2013-11-13</td>\n",
       "    </tr>\n",
       "    <tr>\n",
       "      <th>25221</th>\n",
       "      <td>FEB65374DC334</td>\n",
       "      <td>2014-10-03</td>\n",
       "      <td>NaT</td>\n",
       "      <td>NaT</td>\n",
       "    </tr>\n",
       "  </tbody>\n",
       "</table>\n",
       "</div>"
      ],
      "text/plain": [
       "           PatientID  visit_max  orals_max biomarkers_max\n",
       "27312  FFE978DE864AC 2015-01-27 2015-01-27     2011-02-28\n",
       "1546   F0E98219C1AEE 2019-10-11 2019-08-26     2018-01-17\n",
       "15545  F9024D6120D3E 2019-02-27        NaT     2019-01-17\n",
       "4922   F2D85265F20DE 2015-06-22        NaT     2013-11-13\n",
       "25221  FEB65374DC334 2014-10-03        NaT            NaT"
      ]
     },
     "execution_count": 136,
     "metadata": {},
     "output_type": "execute_result"
    }
   ],
   "source": [
    "last_activity.sample(5)"
   ]
  },
  {
   "cell_type": "code",
   "execution_count": 137,
   "id": "b940e629",
   "metadata": {},
   "outputs": [],
   "source": [
    "# Find max of each row. \n",
    "last_activity = (\n",
    "    last_activity\n",
    "    .assign(last_activity = last_activity[['visit_max', 'orals_max', 'biomarkers_max']].max(axis = 1))\n",
    "    .filter(items = ['PatientID', 'last_activity'])\n",
    ")"
   ]
  },
  {
   "cell_type": "code",
   "execution_count": 138,
   "id": "d6d4a3e3",
   "metadata": {},
   "outputs": [],
   "source": [
    "# Append missing training IDs.\n",
    "mortality = (\n",
    "    mortality\n",
    "    .append(\n",
    "        pd.Series(train_IDs)[~pd.Series(train_IDs).isin(mortality['PatientID'])].to_frame(name = 'PatientID'), \n",
    "        sort = False\n",
    "    )\n",
    ")"
   ]
  },
  {
   "cell_type": "code",
   "execution_count": 139,
   "id": "793a467d",
   "metadata": {},
   "outputs": [
    {
     "data": {
      "text/plain": [
       "(27452, 27452)"
      ]
     },
     "execution_count": 139,
     "metadata": {},
     "output_type": "execute_result"
    }
   ],
   "source": [
    "row_ID(mortality)"
   ]
  },
  {
   "cell_type": "code",
   "execution_count": 140,
   "id": "5d31d81b",
   "metadata": {},
   "outputs": [],
   "source": [
    "mortality = pd.merge(mortality, enhanced_met[['PatientID', 'met_date']], on = 'PatientID')"
   ]
  },
  {
   "cell_type": "code",
   "execution_count": 141,
   "id": "ef79a400",
   "metadata": {},
   "outputs": [],
   "source": [
    "mortality = pd.merge(mortality, last_activity, on = 'PatientID')"
   ]
  },
  {
   "cell_type": "code",
   "execution_count": 142,
   "id": "1174812a",
   "metadata": {},
   "outputs": [
    {
     "data": {
      "text/plain": [
       "(27452, 27452)"
      ]
     },
     "execution_count": 142,
     "metadata": {},
     "output_type": "execute_result"
    }
   ],
   "source": [
    "row_ID(mortality)"
   ]
  },
  {
   "cell_type": "code",
   "execution_count": 143,
   "id": "bd4ee01e",
   "metadata": {},
   "outputs": [],
   "source": [
    "mortality.loc[:, 'death_status'] = np.where(mortality['death_date'].isna(), 0, 1)"
   ]
  },
  {
   "cell_type": "code",
   "execution_count": 144,
   "id": "d00c7133",
   "metadata": {},
   "outputs": [],
   "source": [
    "# timerisk_activity is time from advanced disease diagnosis to death or last activity if no death date.\n",
    "mortality.loc[:, 'timerisk_activity'] = (\n",
    "    np.where(mortality['death_date'].isna(),\n",
    "             (mortality['last_activity'] - mortality['met_date']).dt.days,\n",
    "             (mortality['death_date'] - mortality['met_date']).dt.days)\n",
    ")"
   ]
  },
  {
   "cell_type": "code",
   "execution_count": 145,
   "id": "bad23c3b",
   "metadata": {},
   "outputs": [],
   "source": [
    "# If timerisk_activity is less than 0, set to 0 otherwise remains unchanged. \n",
    "mortality['timerisk_activity'] = np.where(mortality['timerisk_activity'] < 0, 0, mortality['timerisk_activity'])"
   ]
  },
  {
   "cell_type": "code",
   "execution_count": 146,
   "id": "25dfa157",
   "metadata": {},
   "outputs": [
    {
     "data": {
      "text/html": [
       "<div>\n",
       "<style scoped>\n",
       "    .dataframe tbody tr th:only-of-type {\n",
       "        vertical-align: middle;\n",
       "    }\n",
       "\n",
       "    .dataframe tbody tr th {\n",
       "        vertical-align: top;\n",
       "    }\n",
       "\n",
       "    .dataframe thead th {\n",
       "        text-align: right;\n",
       "    }\n",
       "</style>\n",
       "<table border=\"1\" class=\"dataframe\">\n",
       "  <thead>\n",
       "    <tr style=\"text-align: right;\">\n",
       "      <th></th>\n",
       "      <th>PatientID</th>\n",
       "      <th>death_date</th>\n",
       "      <th>met_date</th>\n",
       "      <th>last_activity</th>\n",
       "      <th>death_status</th>\n",
       "      <th>timerisk_activity</th>\n",
       "    </tr>\n",
       "  </thead>\n",
       "  <tbody>\n",
       "    <tr>\n",
       "      <th>14033</th>\n",
       "      <td>FB19047DDFFD6</td>\n",
       "      <td>2018-01-15</td>\n",
       "      <td>2017-11-08</td>\n",
       "      <td>2018-01-14</td>\n",
       "      <td>1</td>\n",
       "      <td>68.0</td>\n",
       "    </tr>\n",
       "    <tr>\n",
       "      <th>20198</th>\n",
       "      <td>F28D914F1402B</td>\n",
       "      <td>NaT</td>\n",
       "      <td>2015-04-08</td>\n",
       "      <td>2017-01-11</td>\n",
       "      <td>0</td>\n",
       "      <td>644.0</td>\n",
       "    </tr>\n",
       "    <tr>\n",
       "      <th>18557</th>\n",
       "      <td>F52D043C23382</td>\n",
       "      <td>NaT</td>\n",
       "      <td>2021-06-01</td>\n",
       "      <td>2022-08-31</td>\n",
       "      <td>0</td>\n",
       "      <td>456.0</td>\n",
       "    </tr>\n",
       "    <tr>\n",
       "      <th>13259</th>\n",
       "      <td>FB078C0062DD8</td>\n",
       "      <td>2015-03-15</td>\n",
       "      <td>2014-06-28</td>\n",
       "      <td>2015-03-05</td>\n",
       "      <td>1</td>\n",
       "      <td>260.0</td>\n",
       "    </tr>\n",
       "    <tr>\n",
       "      <th>9764</th>\n",
       "      <td>F73269593DDBD</td>\n",
       "      <td>2014-06-15</td>\n",
       "      <td>2013-12-11</td>\n",
       "      <td>2014-04-24</td>\n",
       "      <td>1</td>\n",
       "      <td>186.0</td>\n",
       "    </tr>\n",
       "  </tbody>\n",
       "</table>\n",
       "</div>"
      ],
      "text/plain": [
       "           PatientID death_date   met_date last_activity  death_status  \\\n",
       "14033  FB19047DDFFD6 2018-01-15 2017-11-08    2018-01-14             1   \n",
       "20198  F28D914F1402B        NaT 2015-04-08    2017-01-11             0   \n",
       "18557  F52D043C23382        NaT 2021-06-01    2022-08-31             0   \n",
       "13259  FB078C0062DD8 2015-03-15 2014-06-28    2015-03-05             1   \n",
       "9764   F73269593DDBD 2014-06-15 2013-12-11    2014-04-24             1   \n",
       "\n",
       "       timerisk_activity  \n",
       "14033               68.0  \n",
       "20198              644.0  \n",
       "18557              456.0  \n",
       "13259              260.0  \n",
       "9764               186.0  "
      ]
     },
     "execution_count": 146,
     "metadata": {},
     "output_type": "execute_result"
    }
   ],
   "source": [
    "mortality.sample(5)"
   ]
  },
  {
   "cell_type": "code",
   "execution_count": 147,
   "id": "0259c013",
   "metadata": {},
   "outputs": [
    {
     "data": {
      "text/plain": [
       "count    27452.000000\n",
       "mean       687.089174\n",
       "std        633.698793\n",
       "min          0.000000\n",
       "25%        213.000000\n",
       "50%        503.000000\n",
       "75%        962.000000\n",
       "max       3529.000000\n",
       "Name: timerisk_activity, dtype: float64"
      ]
     },
     "execution_count": 147,
     "metadata": {},
     "output_type": "execute_result"
    }
   ],
   "source": [
    "mortality.timerisk_activity.describe()"
   ]
  },
  {
   "cell_type": "code",
   "execution_count": 148,
   "id": "71db0067",
   "metadata": {},
   "outputs": [
    {
     "data": {
      "text/plain": [
       "0.3768031473116713"
      ]
     },
     "execution_count": 148,
     "metadata": {},
     "output_type": "execute_result"
    }
   ],
   "source": [
    "# Percent of patients censored overall. \n",
    "(mortality.shape[0] - mortality['death_status'].sum())/mortality.shape[0]"
   ]
  },
  {
   "cell_type": "code",
   "execution_count": 149,
   "id": "e4e35e68",
   "metadata": {},
   "outputs": [
    {
     "data": {
      "text/plain": [
       "0.24653941425032785"
      ]
     },
     "execution_count": 149,
     "metadata": {},
     "output_type": "execute_result"
    }
   ],
   "source": [
    "# Percent of patients dying within 365 days. \n",
    "((mortality['death_status'] == 1) & (mortality['timerisk_activity'] <= 365)).sum()/mortality.shape[0]"
   ]
  },
  {
   "cell_type": "code",
   "execution_count": 150,
   "id": "a6516ff3",
   "metadata": {},
   "outputs": [
    {
     "data": {
      "text/plain": [
       "0.4139589100976249"
      ]
     },
     "execution_count": 150,
     "metadata": {},
     "output_type": "execute_result"
    }
   ],
   "source": [
    "# Percent of patients dying within 720 days. \n",
    "((mortality['death_status'] == 1) & (mortality['timerisk_activity'] <= 720)).sum()/mortality.shape[0]"
   ]
  },
  {
   "cell_type": "code",
   "execution_count": 151,
   "id": "b30516d9",
   "metadata": {},
   "outputs": [
    {
     "name": "stdout",
     "output_type": "stream",
     "text": [
      "Median survival in days: 744.0\n"
     ]
    },
    {
     "data": {
      "image/png": "[encoded data removed]",
      "text/plain": [
       "<Figure size 432x288 with 1 Axes>"
      ]
     },
     "metadata": {
      "needs_background": "light"
     },
     "output_type": "display_data"
    }
   ],
   "source": [
    "import matplotlib.pyplot as plt\n",
    "from sksurv.nonparametric import kaplan_meier_estimator\n",
    "\n",
    "%matplotlib inline\n",
    "\n",
    "time, survival_prob = kaplan_meier_estimator(mortality['death_status'].astype('bool'), mortality['timerisk_activity'])\n",
    "plt.step(time, survival_prob, where = 'post')\n",
    "\n",
    "plt.title('KM curve for training set')\n",
    "plt.ylabel('estimated survival probability')\n",
    "plt.xlabel('time in days from metastatic diagnosis')\n",
    "print('Median survival in days:', time[np.where(survival_prob <0.5)][0])"
   ]
  },
  {
   "cell_type": "code",
   "execution_count": 152,
   "id": "3090f016",
   "metadata": {},
   "outputs": [
    {
     "data": {
      "image/png": "[encoded data removed]",
      "text/plain": [
       "<Figure size 648x432 with 1 Axes>"
      ]
     },
     "metadata": {
      "needs_background": "light"
     },
     "output_type": "display_data"
    }
   ],
   "source": [
    "plt.figure(figsize=(9, 6))\n",
    "val, bins, patches = plt.hist((mortality['timerisk_activity'][mortality['death_status'].astype('bool')],\n",
    "                               mortality['timerisk_activity'][~mortality['death_status'].astype('bool')]),\n",
    "                              bins = 60, stacked = True)\n",
    "_ = plt.legend(patches, [\"Time of Death\", \"Time of Censoring\"])"
   ]
  },
  {
   "cell_type": "code",
   "execution_count": 153,
   "id": "a67eea92",
   "metadata": {},
   "outputs": [],
   "source": [
    "mortality = pd.merge(mortality, enhanced_met[['PatientID', 'diagnosis_date']], on = 'PatientID', how = 'outer')"
   ]
  },
  {
   "cell_type": "code",
   "execution_count": 154,
   "id": "43d12480",
   "metadata": {},
   "outputs": [],
   "source": [
    "# timerisk_activity_first is time from first diagnosis (metastatic or not) to death or last activity if no death date.\n",
    "mortality.loc[:, 'timerisk_activity_first'] = (\n",
    "    np.where(mortality['death_date'].isna(),\n",
    "             (mortality['last_activity'] - mortality['diagnosis_date']).dt.days,\n",
    "             (mortality['death_date'] - mortality['diagnosis_date']).dt.days)\n",
    ")"
   ]
  },
  {
   "cell_type": "code",
   "execution_count": 155,
   "id": "720096df",
   "metadata": {},
   "outputs": [],
   "source": [
    "# If timerisk_activity is less than 0, set to 0 otherwise remains unchanged. \n",
    "mortality['timerisk_activity_first'] = np.where(\n",
    "    mortality['timerisk_activity_first'] < 0, 0, mortality['timerisk_activity_first'])"
   ]
  },
  {
   "cell_type": "code",
   "execution_count": 156,
   "id": "cc219517",
   "metadata": {},
   "outputs": [],
   "source": [
    "mortality.to_csv('mortality_cleaned_tr.csv', index = False, header = True)"
   ]
  },
  {
   "cell_type": "code",
   "execution_count": 157,
   "id": "0550f73b",
   "metadata": {},
   "outputs": [],
   "source": [
    "mortality = mortality.filter(items = ['PatientID', 'death_status', 'timerisk_activity'])"
   ]
  },
  {
   "cell_type": "code",
   "execution_count": 158,
   "id": "cc2592b3",
   "metadata": {},
   "outputs": [
    {
     "data": {
      "text/html": [
       "<div>\n",
       "<style scoped>\n",
       "    .dataframe tbody tr th:only-of-type {\n",
       "        vertical-align: middle;\n",
       "    }\n",
       "\n",
       "    .dataframe tbody tr th {\n",
       "        vertical-align: top;\n",
       "    }\n",
       "\n",
       "    .dataframe thead th {\n",
       "        text-align: right;\n",
       "    }\n",
       "</style>\n",
       "<table border=\"1\" class=\"dataframe\">\n",
       "  <thead>\n",
       "    <tr style=\"text-align: right;\">\n",
       "      <th></th>\n",
       "      <th>PatientID</th>\n",
       "      <th>death_status</th>\n",
       "      <th>timerisk_activity</th>\n",
       "    </tr>\n",
       "  </thead>\n",
       "  <tbody>\n",
       "    <tr>\n",
       "      <th>8641</th>\n",
       "      <td>F04DA58969423</td>\n",
       "      <td>1</td>\n",
       "      <td>110.0</td>\n",
       "    </tr>\n",
       "    <tr>\n",
       "      <th>20764</th>\n",
       "      <td>F59A6B43ED05A</td>\n",
       "      <td>0</td>\n",
       "      <td>266.0</td>\n",
       "    </tr>\n",
       "    <tr>\n",
       "      <th>20279</th>\n",
       "      <td>FA551FE301CCA</td>\n",
       "      <td>0</td>\n",
       "      <td>0.0</td>\n",
       "    </tr>\n",
       "    <tr>\n",
       "      <th>1899</th>\n",
       "      <td>F6C28F5A72643</td>\n",
       "      <td>1</td>\n",
       "      <td>1076.0</td>\n",
       "    </tr>\n",
       "    <tr>\n",
       "      <th>12088</th>\n",
       "      <td>F020B1CDB0EF9</td>\n",
       "      <td>1</td>\n",
       "      <td>55.0</td>\n",
       "    </tr>\n",
       "  </tbody>\n",
       "</table>\n",
       "</div>"
      ],
      "text/plain": [
       "           PatientID  death_status  timerisk_activity\n",
       "8641   F04DA58969423             1              110.0\n",
       "20764  F59A6B43ED05A             0              266.0\n",
       "20279  FA551FE301CCA             0                0.0\n",
       "1899   F6C28F5A72643             1             1076.0\n",
       "12088  F020B1CDB0EF9             1               55.0"
      ]
     },
     "execution_count": 158,
     "metadata": {},
     "output_type": "execute_result"
    }
   ],
   "source": [
    "mortality.sample(5)"
   ]
  },
  {
   "cell_type": "code",
   "execution_count": 159,
   "id": "3330ae3b",
   "metadata": {},
   "outputs": [
    {
     "name": "stdout",
     "output_type": "stream",
     "text": [
      "Variable         Type         Data/Info\n",
      "---------------------------------------\n",
      "biomarkers       DataFrame                PatientID Bio<...>[97310 rows x 15 columns]\n",
      "biomarkers_max   DataFrame               PatientID biom<...>n[23476 rows x 2 columns]\n",
      "demographics     DataFrame               PatientID gend<...>n[27452 rows x 7 columns]\n",
      "enhanced_met     DataFrame               PatientID diag<...>n[27452 rows x 8 columns]\n",
      "last_activity    DataFrame               PatientID last<...>n[27452 rows x 2 columns]\n",
      "mortality        DataFrame               PatientID  dea<...>n[27452 rows x 3 columns]\n",
      "orals            DataFrame               PatientID     <...>n[17979 rows x 5 columns]\n",
      "orals_max        DataFrame               PatientID  ora<...>n[11949 rows x 2 columns]\n",
      "telemedicine     DataFrame               PatientID     <...>n[23327 rows x 3 columns]\n",
      "visit            DataFrame                 PatientID   <...>2010098 rows x 7 columns]\n",
      "visit_tele       DataFrame               PatientID     <...>2033425 rows x 3 columns]\n",
      "visit_tele_max   DataFrame               PatientID  vis<...>n[27452 rows x 2 columns]\n"
     ]
    }
   ],
   "source": [
    "%whos DataFrame"
   ]
  },
  {
   "cell_type": "code",
   "execution_count": 160,
   "id": "419709b6",
   "metadata": {},
   "outputs": [],
   "source": [
    "# Keep demographics, enhanced_met, and mortality\n",
    "del biomarkers\n",
    "del biomarkers_max\n",
    "del last_activity\n",
    "del orals\n",
    "del orals_max\n",
    "del visit_tele\n",
    "del visit_tele_max"
   ]
  },
  {
   "cell_type": "markdown",
   "id": "a9cce24d",
   "metadata": {},
   "source": [
    "### 4. MedicationAdministration"
   ]
  },
  {
   "cell_type": "code",
   "execution_count": 161,
   "id": "fcc555a9",
   "metadata": {},
   "outputs": [],
   "source": [
    "med_admin = pd.read_csv('MedicationAdministration.csv')"
   ]
  },
  {
   "cell_type": "code",
   "execution_count": 162,
   "id": "c0094a39",
   "metadata": {},
   "outputs": [],
   "source": [
    "med_admin = med_admin[med_admin['PatientID'].isin(train_IDs)]"
   ]
  },
  {
   "cell_type": "code",
   "execution_count": 163,
   "id": "3587f298",
   "metadata": {},
   "outputs": [
    {
     "data": {
      "text/plain": [
       "(3465754, 22434)"
      ]
     },
     "execution_count": 163,
     "metadata": {},
     "output_type": "execute_result"
    }
   ],
   "source": [
    "row_ID(med_admin)"
   ]
  },
  {
   "cell_type": "code",
   "execution_count": 164,
   "id": "e2ba49f4",
   "metadata": {},
   "outputs": [
    {
     "data": {
      "text/html": [
       "<div>\n",
       "<style scoped>\n",
       "    .dataframe tbody tr th:only-of-type {\n",
       "        vertical-align: middle;\n",
       "    }\n",
       "\n",
       "    .dataframe tbody tr th {\n",
       "        vertical-align: top;\n",
       "    }\n",
       "\n",
       "    .dataframe thead th {\n",
       "        text-align: right;\n",
       "    }\n",
       "</style>\n",
       "<table border=\"1\" class=\"dataframe\">\n",
       "  <thead>\n",
       "    <tr style=\"text-align: right;\">\n",
       "      <th></th>\n",
       "      <th>PatientID</th>\n",
       "      <th>PracticeID</th>\n",
       "      <th>OrderID</th>\n",
       "      <th>DrugName</th>\n",
       "      <th>CommonDrugName</th>\n",
       "      <th>Route</th>\n",
       "      <th>DrugCategory</th>\n",
       "      <th>DetailedDrugCategory</th>\n",
       "      <th>AdministeredDate</th>\n",
       "      <th>AdministeredAmount</th>\n",
       "      <th>AdministeredUnits</th>\n",
       "    </tr>\n",
       "  </thead>\n",
       "  <tbody>\n",
       "    <tr>\n",
       "      <th>695402</th>\n",
       "      <td>FB7E305DC2426</td>\n",
       "      <td>SB875B0336958</td>\n",
       "      <td>M58144E3F42D227B70EB95118871EEEA9</td>\n",
       "      <td>heparin sodium,porcine</td>\n",
       "      <td>heparin (porcine)</td>\n",
       "      <td>Intravenous</td>\n",
       "      <td>hematological agent</td>\n",
       "      <td>hematological agent</td>\n",
       "      <td>2018-07-11</td>\n",
       "      <td>500.0</td>\n",
       "      <td>U</td>\n",
       "    </tr>\n",
       "    <tr>\n",
       "      <th>1944515</th>\n",
       "      <td>FA43449C6D8C5</td>\n",
       "      <td>SC3260C6286CA</td>\n",
       "      <td>M84C7366AE71A5FB38ECC5939EEBD16F5</td>\n",
       "      <td>ondansetron hcl</td>\n",
       "      <td>ondansetron</td>\n",
       "      <td>Intravenous</td>\n",
       "      <td>antiemetic</td>\n",
       "      <td>antiemetic</td>\n",
       "      <td>2022-07-06</td>\n",
       "      <td>8.0</td>\n",
       "      <td>mg</td>\n",
       "    </tr>\n",
       "    <tr>\n",
       "      <th>3382258</th>\n",
       "      <td>FA53BA37513AB</td>\n",
       "      <td>S823C1E2001C6</td>\n",
       "      <td>M7AE197CF6C460F73D49ECCD08D636CE5</td>\n",
       "      <td>epoetin alfa</td>\n",
       "      <td>epoetin alfa</td>\n",
       "      <td>Subcutaneous</td>\n",
       "      <td>hematological agent</td>\n",
       "      <td>antianemic</td>\n",
       "      <td>2017-06-12</td>\n",
       "      <td>40000.0</td>\n",
       "      <td>U</td>\n",
       "    </tr>\n",
       "    <tr>\n",
       "      <th>700628</th>\n",
       "      <td>FB2C69F465AFD</td>\n",
       "      <td>SB875B0336958</td>\n",
       "      <td>M6DA5B0CB39126D32F07CBD4B09A24FDA</td>\n",
       "      <td>bevacizumab-bvzr</td>\n",
       "      <td>bevacizumab-bvzr</td>\n",
       "      <td>Intravenous</td>\n",
       "      <td>antineoplastic</td>\n",
       "      <td>targeted/biologic</td>\n",
       "      <td>2022-01-12</td>\n",
       "      <td>490.0</td>\n",
       "      <td>mg</td>\n",
       "    </tr>\n",
       "    <tr>\n",
       "      <th>3244041</th>\n",
       "      <td>F49866E9202A8</td>\n",
       "      <td>SD2555DC0ACD7</td>\n",
       "      <td>M06C418314FBA6EFDFF6C64E34EEE92CB</td>\n",
       "      <td>leucovorin calcium</td>\n",
       "      <td>leucovorin</td>\n",
       "      <td>Intravenous</td>\n",
       "      <td>antineoplastic</td>\n",
       "      <td>cytoprotective</td>\n",
       "      <td>2021-09-29</td>\n",
       "      <td>770.0</td>\n",
       "      <td>mg</td>\n",
       "    </tr>\n",
       "  </tbody>\n",
       "</table>\n",
       "</div>"
      ],
      "text/plain": [
       "             PatientID     PracticeID                            OrderID  \\\n",
       "695402   FB7E305DC2426  SB875B0336958  M58144E3F42D227B70EB95118871EEEA9   \n",
       "1944515  FA43449C6D8C5  SC3260C6286CA  M84C7366AE71A5FB38ECC5939EEBD16F5   \n",
       "3382258  FA53BA37513AB  S823C1E2001C6  M7AE197CF6C460F73D49ECCD08D636CE5   \n",
       "700628   FB2C69F465AFD  SB875B0336958  M6DA5B0CB39126D32F07CBD4B09A24FDA   \n",
       "3244041  F49866E9202A8  SD2555DC0ACD7  M06C418314FBA6EFDFF6C64E34EEE92CB   \n",
       "\n",
       "                       DrugName     CommonDrugName         Route  \\\n",
       "695402   heparin sodium,porcine  heparin (porcine)   Intravenous   \n",
       "1944515         ondansetron hcl        ondansetron   Intravenous   \n",
       "3382258            epoetin alfa       epoetin alfa  Subcutaneous   \n",
       "700628         bevacizumab-bvzr   bevacizumab-bvzr   Intravenous   \n",
       "3244041      leucovorin calcium         leucovorin   Intravenous   \n",
       "\n",
       "                DrugCategory DetailedDrugCategory AdministeredDate  \\\n",
       "695402   hematological agent  hematological agent       2018-07-11   \n",
       "1944515           antiemetic           antiemetic       2022-07-06   \n",
       "3382258  hematological agent           antianemic       2017-06-12   \n",
       "700628        antineoplastic    targeted/biologic       2022-01-12   \n",
       "3244041       antineoplastic       cytoprotective       2021-09-29   \n",
       "\n",
       "         AdministeredAmount AdministeredUnits  \n",
       "695402                500.0                 U  \n",
       "1944515                 8.0                mg  \n",
       "3382258             40000.0                 U  \n",
       "700628                490.0                mg  \n",
       "3244041               770.0                mg  "
      ]
     },
     "execution_count": 164,
     "metadata": {},
     "output_type": "execute_result"
    }
   ],
   "source": [
    "med_admin.sample(5)"
   ]
  },
  {
   "cell_type": "markdown",
   "id": "7182908a",
   "metadata": {},
   "source": [
    "**An indicator variable will be created for key medications (ie., steroids, opioids, other pain meds, antibiotics, anticoagulation, diabetic medicaitons, etc.) around time of metastatic diagnosis. The elgibility window is -90 days from metastatic diagnosis to first line of therapy or +30, whichever comes first. First line of therapy is included as an upper bound because steroids are frequently administered as part of treatment for chemotherapy induced-nausea, so steroids might inadvertently capture chemotherapy treatment if upper bound is set after first line of therapy.** "
   ]
  },
  {
   "cell_type": "code",
   "execution_count": 165,
   "id": "cae7d01d",
   "metadata": {},
   "outputs": [
    {
     "data": {
      "text/plain": [
       "(3465754, 11)"
      ]
     },
     "execution_count": 165,
     "metadata": {},
     "output_type": "execute_result"
    }
   ],
   "source": [
    "med_admin.shape"
   ]
  },
  {
   "cell_type": "code",
   "execution_count": 166,
   "id": "241db4b2",
   "metadata": {},
   "outputs": [],
   "source": [
    "line_therapy = pd.read_csv('LineOfTherapy.csv')"
   ]
  },
  {
   "cell_type": "code",
   "execution_count": 167,
   "id": "ad3c6b19",
   "metadata": {},
   "outputs": [],
   "source": [
    "line_therapy = line_therapy[line_therapy['PatientID'].isin(med_admin['PatientID'])]"
   ]
  },
  {
   "cell_type": "code",
   "execution_count": 168,
   "id": "092730fb",
   "metadata": {},
   "outputs": [],
   "source": [
    "line_therapy_1 = (\n",
    "    line_therapy \n",
    "    .query('LineNumber == 1 and IsMaintenanceTherapy == False')\n",
    ")"
   ]
  },
  {
   "cell_type": "code",
   "execution_count": 169,
   "id": "4ccec1c4",
   "metadata": {},
   "outputs": [],
   "source": [
    "# If patients have 2 first line therapies, select earliest\n",
    "line_therapy_1 = line_therapy_1.drop_duplicates(subset = ['PatientID'], keep = 'first')"
   ]
  },
  {
   "cell_type": "code",
   "execution_count": 170,
   "id": "039eabad",
   "metadata": {},
   "outputs": [],
   "source": [
    "med_admin = pd.merge(med_admin, line_therapy_1[['PatientID', 'StartDate']], on = 'PatientID', how = 'left')"
   ]
  },
  {
   "cell_type": "code",
   "execution_count": 171,
   "id": "f6adcf19",
   "metadata": {},
   "outputs": [],
   "source": [
    "med_admin = pd.merge(med_admin, enhanced_met[['PatientID', 'met_date']], on = 'PatientID', how = 'left')"
   ]
  },
  {
   "cell_type": "code",
   "execution_count": 172,
   "id": "2da566ef",
   "metadata": {},
   "outputs": [],
   "source": [
    "med_admin.loc[:, 'AdministeredDate'] = pd.to_datetime(med_admin['AdministeredDate'])"
   ]
  },
  {
   "cell_type": "code",
   "execution_count": 173,
   "id": "efe99f08",
   "metadata": {},
   "outputs": [],
   "source": [
    "med_admin.loc[:, 'StartDate'] = pd.to_datetime(med_admin['StartDate'])"
   ]
  },
  {
   "cell_type": "code",
   "execution_count": 174,
   "id": "45f5e1cf",
   "metadata": {},
   "outputs": [
    {
     "data": {
      "text/plain": [
       "0"
      ]
     },
     "execution_count": 174,
     "metadata": {},
     "output_type": "execute_result"
    }
   ],
   "source": [
    "med_admin['AdministeredDate'].isna().sum()"
   ]
  },
  {
   "cell_type": "code",
   "execution_count": 175,
   "id": "d40c42b5",
   "metadata": {},
   "outputs": [
    {
     "data": {
      "text/plain": [
       "39.0"
      ]
     },
     "execution_count": 175,
     "metadata": {},
     "output_type": "execute_result"
    }
   ],
   "source": [
    "# Median days from metastatic date to start of first line of therapy. \n",
    "(\n",
    "    med_admin\n",
    "    .drop_duplicates(subset = ['PatientID'], keep = 'first')\n",
    "    .assign(start_met_diff = lambda x: (x.StartDate - x.met_date).dt.days)\n",
    "    .start_met_diff\n",
    "    .median()\n",
    ")"
   ]
  },
  {
   "cell_type": "code",
   "execution_count": 176,
   "id": "09b7dded",
   "metadata": {},
   "outputs": [],
   "source": [
    "# New variable upper_bound which defines upper bound\n",
    "# If no StartDate (ie., no treatment received), then upper bound +30 from metastatic diagnosis \n",
    "# If StartDate is greater than 30 days from metastatic diagnosis, then upper bound +30 from metastatic diagnosis\n",
    "# If StartDate is less than or equal 30 from metastatic diagnosis, then upper bound is one day before StartDate\n",
    "conditions = [\n",
    "    (med_admin['StartDate'].isna()) | ((med_admin['StartDate'] - med_admin['met_date']).dt.days > 30),\n",
    "    ((med_admin['StartDate'] - med_admin['met_date']).dt.days <= 30)]    \n",
    "\n",
    "choices = [30, (med_admin['StartDate'] - med_admin['met_date']).dt.days - 1]\n",
    "    \n",
    "med_admin.loc[:, 'upper_bound'] = np.select(conditions, choices)"
   ]
  },
  {
   "cell_type": "code",
   "execution_count": 177,
   "id": "32370316",
   "metadata": {},
   "outputs": [],
   "source": [
    "med_admin.loc[:, 'upper_bound_date'] = (\n",
    "    np.where(med_admin['upper_bound'] != 30, \n",
    "             med_admin['StartDate'] - pd.DateOffset(days = 1), \n",
    "             med_admin['met_date'] + pd.DateOffset(days = 30))\n",
    ")"
   ]
  },
  {
   "cell_type": "code",
   "execution_count": 178,
   "id": "25247d0b",
   "metadata": {},
   "outputs": [],
   "source": [
    "# Select window of -90 days and from metastatic diagnosis and remove clinical study drug. \n",
    "med_admin_win = (\n",
    "    med_admin\n",
    "    [((med_admin['AdministeredDate'] - med_admin['met_date']).dt.days >= -90) &\n",
    "    (med_admin['AdministeredDate'] <= med_admin['upper_bound_date']) &\n",
    "    (med_admin['CommonDrugName'] != 'Clinical study drug')]\n",
    ")"
   ]
  },
  {
   "cell_type": "code",
   "execution_count": 179,
   "id": "d98bdaac",
   "metadata": {},
   "outputs": [
    {
     "data": {
      "text/plain": [
       "(95685, 3829)"
      ]
     },
     "execution_count": 179,
     "metadata": {},
     "output_type": "execute_result"
    }
   ],
   "source": [
    "row_ID(med_admin_win)"
   ]
  },
  {
   "cell_type": "code",
   "execution_count": 180,
   "id": "371e6e04",
   "metadata": {},
   "outputs": [
    {
     "data": {
      "text/plain": [
       "pain agent                      19159\n",
       "solution-fluid                  16408\n",
       "hematological agent             11300\n",
       "antineoplastic                  10383\n",
       "anti-infective                   9060\n",
       "antiemetic                       7814\n",
       "anesthetic                       6968\n",
       "steroid                          4562\n",
       "proton pump inhibitor            3564\n",
       "antihyperglycemic                2127\n",
       "antidepressant                   1522\n",
       "cytoprotective                    986\n",
       "hormone                           795\n",
       "anticholinergic                   259\n",
       "gout and hyperurecemia agent      183\n",
       "bone therapy agent (bta)          172\n",
       "antidote and reversal agent       118\n",
       "hyperglycemic                     113\n",
       "sedative agent                     96\n",
       "immunosuppressive                  55\n",
       "calcimimetic                       25\n",
       "antithyroid agent                   9\n",
       "endocrine                           5\n",
       "targeted therapy                    2\n",
       "Name: DrugCategory, dtype: int64"
      ]
     },
     "execution_count": 180,
     "metadata": {},
     "output_type": "execute_result"
    }
   ],
   "source": [
    "med_admin_win.DrugCategory.value_counts()"
   ]
  },
  {
   "cell_type": "markdown",
   "id": "372053aa",
   "metadata": {},
   "source": [
    "#### Antineoplastic "
   ]
  },
  {
   "cell_type": "code",
   "execution_count": 181,
   "id": "97d24d96",
   "metadata": {},
   "outputs": [],
   "source": [
    "# Select window before upper bound (ie., < 30 or day before first LOT). \n",
    "med_admin_win_chemo = (\n",
    "    med_admin\n",
    "    [med_admin['AdministeredDate'] < med_admin['met_date']]\n",
    ")"
   ]
  },
  {
   "cell_type": "code",
   "execution_count": 182,
   "id": "f3e28b97",
   "metadata": {},
   "outputs": [
    {
     "data": {
      "text/plain": [
       "fluorouracil              66369\n",
       "oxaliplatin               27871\n",
       "leucovorin calcium        25136\n",
       "levoleucovorin calcium     9486\n",
       "bevacizumab                2614\n",
       "irinotecan hcl             2089\n",
       "Clinical study drug         985\n",
       "bortezomib                  641\n",
       "azacitidine                 494\n",
       "rituximab                   489\n",
       "cetuximab                   477\n",
       "cyclophosphamide            429\n",
       "leuprolide acetate          428\n",
       "paclitaxel                  417\n",
       "carboplatin                 320\n",
       "levoleucovorin              290\n",
       "capecitabine                286\n",
       "trastuzumab                 269\n",
       "carfilzomib                 222\n",
       "panitumumab                 214\n",
       "Name: DrugName, dtype: int64"
      ]
     },
     "execution_count": 182,
     "metadata": {},
     "output_type": "execute_result"
    }
   ],
   "source": [
    "(\n",
    "    med_admin_win_chemo.query('DrugCategory == \"antineoplastic\"').DrugName.value_counts().head(20)\n",
    ")"
   ]
  },
  {
   "cell_type": "code",
   "execution_count": 183,
   "id": "8c9e9c07",
   "metadata": {},
   "outputs": [
    {
     "data": {
      "text/plain": [
       "DrugName\n",
       "fluorouracil    66369\n",
       "oxaliplatin     27871\n",
       "capecitabine      286\n",
       "Name: PatientID, dtype: int64"
      ]
     },
     "execution_count": 183,
     "metadata": {},
     "output_type": "execute_result"
    }
   ],
   "source": [
    "(\n",
    "    med_admin_win_chemo\n",
    "    [(med_admin_win_chemo['DrugName'] == 'fluorouracil') |  \n",
    "     (med_admin_win_chemo['DrugName'] == 'oxaliplatin') |\n",
    "     (med_admin_win_chemo['DrugName'] == 'capecitabine')]\n",
    "    .groupby(['DrugName'])['PatientID'].count()\n",
    "    .sort_values(ascending = False)\n",
    ")"
   ]
  },
  {
   "cell_type": "code",
   "execution_count": 184,
   "id": "749e7fe2",
   "metadata": {},
   "outputs": [
    {
     "name": "stderr",
     "output_type": "stream",
     "text": [
      "/Applications/anaconda3/lib/python3.7/site-packages/pandas/core/indexing.py:1667: SettingWithCopyWarning: \n",
      "A value is trying to be set on a copy of a slice from a DataFrame.\n",
      "Try using .loc[row_indexer,col_indexer] = value instead\n",
      "\n",
      "See the caveats in the documentation: https://pandas.pydata.org/pandas-docs/stable/user_guide/indexing.html#returning-a-view-versus-a-copy\n",
      "  self.obj[key] = value\n"
     ]
    }
   ],
   "source": [
    "med_admin_win_chemo.loc[:, 'adjuv'] = (\n",
    "    np.where((med_admin_win_chemo['DrugName'] == 'fluorouracil') | \n",
    "             (med_admin_win_chemo['DrugName'] == 'oxaliplatin') | \n",
    "             (med_admin_win_chemo['DrugName'] == 'capecitabine'), 1, 0)\n",
    ")"
   ]
  },
  {
   "cell_type": "code",
   "execution_count": 185,
   "id": "1e7b2635",
   "metadata": {},
   "outputs": [
    {
     "data": {
      "text/plain": [
       "count    4118.000000\n",
       "mean      535.808762\n",
       "std       527.980047\n",
       "min         1.000000\n",
       "25%       188.503571\n",
       "50%       382.083333\n",
       "75%       705.913182\n",
       "max      6040.714286\n",
       "Name: delta, dtype: float64"
      ]
     },
     "execution_count": 185,
     "metadata": {},
     "output_type": "execute_result"
    }
   ],
   "source": [
    "(\n",
    "    med_admin_win_chemo.query('adjuv == 1')\n",
    "    .assign(delta = lambda x: (x.met_date - x.AdministeredDate).dt.days)\n",
    "    .groupby('PatientID')['delta'].mean().describe() \n",
    ")"
   ]
  },
  {
   "cell_type": "code",
   "execution_count": 186,
   "id": "969df43f",
   "metadata": {},
   "outputs": [
    {
     "data": {
      "text/plain": [
       "4118"
      ]
     },
     "execution_count": 186,
     "metadata": {},
     "output_type": "execute_result"
    }
   ],
   "source": [
    "med_admin_win_chemo.query('adjuv == 1').PatientID.nunique()"
   ]
  },
  {
   "cell_type": "code",
   "execution_count": 187,
   "id": "041d2536",
   "metadata": {},
   "outputs": [
    {
     "data": {
      "text/plain": [
       "III        0.761778\n",
       "II         0.168528\n",
       "unknown    0.044682\n",
       "I          0.020155\n",
       "IV         0.004857\n",
       "Name: stage, dtype: float64"
      ]
     },
     "execution_count": 187,
     "metadata": {},
     "output_type": "execute_result"
    }
   ],
   "source": [
    "enhanced_met[enhanced_met['PatientID'].isin(med_admin_win_chemo.query('adjuv == 1').PatientID)].stage.value_counts(normalize = True)"
   ]
  },
  {
   "cell_type": "code",
   "execution_count": 188,
   "id": "665d2e90",
   "metadata": {},
   "outputs": [
    {
     "data": {
      "text/plain": [
       "0.3279445727482679"
      ]
     },
     "execution_count": 188,
     "metadata": {},
     "output_type": "execute_result"
    }
   ],
   "source": [
    "# Among those that were diagnosed prior to metastatic disease, the percentage of patients that were flagged as having receiving adjuvant therapy...\n",
    "med_admin_win_chemo.query('adjuv == 1').PatientID.nunique()/len(enhanced_met.query('stage != \"IV\"'))"
   ]
  },
  {
   "cell_type": "code",
   "execution_count": 189,
   "id": "8675399a",
   "metadata": {},
   "outputs": [],
   "source": [
    "med_admin_adjuv = (\n",
    "    med_admin_win_chemo\n",
    "    .query('adjuv == 1')\n",
    "    .drop_duplicates(subset = ['PatientID'], keep = 'first')\n",
    "    [['PatientID', 'adjuv']]\n",
    ")"
   ]
  },
  {
   "cell_type": "markdown",
   "id": "0e247a84",
   "metadata": {},
   "source": [
    "#### Antiemetic"
   ]
  },
  {
   "cell_type": "code",
   "execution_count": 190,
   "id": "4ad8ee54",
   "metadata": {},
   "outputs": [
    {
     "data": {
      "text/plain": [
       "ondansetron                   0.453673\n",
       "palonosetron                  0.243409\n",
       "granisetron                   0.060788\n",
       "fosaprepitant                 0.058613\n",
       "metoclopramide                0.047735\n",
       "prochlorperazine              0.038777\n",
       "aprepitant                    0.034297\n",
       "olanzapine                    0.016637\n",
       "dronabinol                    0.012030\n",
       "scopolamine                   0.011774\n",
       "promethazine                  0.009854\n",
       "dimenhydrinate                0.004095\n",
       "netupitant/palonosetron       0.003967\n",
       "fosnetupitant/palonosetron    0.002943\n",
       "meclizine                     0.000768\n",
       "rolapitant                    0.000640\n",
       "Name: CommonDrugName, dtype: float64"
      ]
     },
     "execution_count": 190,
     "metadata": {},
     "output_type": "execute_result"
    }
   ],
   "source": [
    "(\n",
    "    med_admin_win\n",
    "    .query('DrugCategory == \"antiemetic\"')\n",
    "    .CommonDrugName\n",
    "    .value_counts(normalize = True)\n",
    "    .head(20)\n",
    ")"
   ]
  },
  {
   "cell_type": "markdown",
   "id": "3a8cbf2c",
   "metadata": {},
   "source": [
    "#### Solution-fluid"
   ]
  },
  {
   "cell_type": "code",
   "execution_count": 191,
   "id": "a842c7a7",
   "metadata": {},
   "outputs": [
    {
     "data": {
      "text/plain": [
       "sodium/saline preparations                     0.653096\n",
       "electrolyte maintenance                        0.212701\n",
       "iv solutions: dextrose-saline                  0.050341\n",
       "iv solutions: dextrose-water                   0.050280\n",
       "sodium chloride irrigating solution            0.022428\n",
       "iv solutions: dextrose and lactated ringers    0.006887\n",
       "water for irrigation, sterile                  0.004266\n",
       "Name: CommonDrugName, dtype: float64"
      ]
     },
     "execution_count": 191,
     "metadata": {},
     "output_type": "execute_result"
    }
   ],
   "source": [
    "(\n",
    "    med_admin_win\n",
    "    .query('DrugCategory == \"solution-fluid\"')\n",
    "    .CommonDrugName\n",
    "    .value_counts(normalize = True)\n",
    ")"
   ]
  },
  {
   "cell_type": "markdown",
   "id": "dffda4bf",
   "metadata": {},
   "source": [
    "#### Steroid"
   ]
  },
  {
   "cell_type": "code",
   "execution_count": 192,
   "id": "131f4efc",
   "metadata": {},
   "outputs": [
    {
     "data": {
      "text/plain": [
       "CommonDrugName               Route         \n",
       "dexamethasone                Intravenous       3122\n",
       "                             Oral               528\n",
       "methylprednisolone           Intravenous        187\n",
       "prednisone                   Oral               165\n",
       "hydrocortisone               Intravenous        141\n",
       "budesonide                   Inhalation          57\n",
       "fludrocortisone              Oral                52\n",
       "dexamethasone                Intrajejunal        42\n",
       "betamethasone                Topical             41\n",
       "mometasone furoate           Inhalation          37\n",
       "hydrocortisone               Oral                26\n",
       "prednisolone                 Ophthalmic          25\n",
       "hydrocortisone               Topical             23\n",
       "triamcinolone                Topical             17\n",
       "clobetasol                   Topical             13\n",
       "hydrocortisone               Rectal               7\n",
       "budesonide                   Oral                 6\n",
       "difluprednate                Ophthalmic           4\n",
       "beclomethasone               Inhalation           4\n",
       "methylprednisolone           Intra-arterial       3\n",
       "dexamethasone                Intramuscular        3\n",
       "betamethasone/betamethasone  Intramuscular        3\n",
       "triamcinolone                Intra-arterial       3\n",
       "methylprednisolone           Intramuscular        1\n",
       "                             Oral                 1\n",
       "Name: PatientID, dtype: int64"
      ]
     },
     "execution_count": 192,
     "metadata": {},
     "output_type": "execute_result"
    }
   ],
   "source": [
    "(\n",
    "    med_admin_win\n",
    "    .query('DrugCategory == \"steroid\"')\n",
    "    .groupby(['CommonDrugName', 'Route'])['PatientID'].count()\n",
    "    .sort_values(ascending = False)\n",
    ")"
   ]
  },
  {
   "cell_type": "markdown",
   "id": "c27c0036",
   "metadata": {},
   "source": [
    "**Clinically relevant so will create glucocorticoid indicator variable. Hopefully by setting an upper bound of first line we are minimizing capturing those that received steroids for chemotherapy induced nausea.** "
   ]
  },
  {
   "cell_type": "code",
   "execution_count": 193,
   "id": "9390939b",
   "metadata": {},
   "outputs": [
    {
     "data": {
      "text/plain": [
       "CommonDrugName      Route       \n",
       "dexamethasone       Intravenous     3122\n",
       "                    Oral             528\n",
       "methylprednisolone  Intravenous      187\n",
       "prednisone          Oral             165\n",
       "hydrocortisone      Intravenous      141\n",
       "fludrocortisone     Oral              52\n",
       "dexamethasone       Intrajejunal      42\n",
       "hydrocortisone      Oral              26\n",
       "budesonide          Oral               6\n",
       "methylprednisolone  Oral               1\n",
       "Name: PatientID, dtype: int64"
      ]
     },
     "execution_count": 193,
     "metadata": {},
     "output_type": "execute_result"
    }
   ],
   "source": [
    "(\n",
    "    med_admin_win\n",
    "    [(med_admin_win['DrugCategory'] == 'steroid') & \n",
    "     ((med_admin_win['Route'] == 'Intravenous') | \n",
    "     (med_admin_win['Route'] == 'Oral') | \n",
    "     (med_admin_win['Route'] == 'Intrajejunal'))]\n",
    "    .groupby(['CommonDrugName', 'Route'])['PatientID'].count()\n",
    "    .sort_values(ascending = False)\n",
    ")"
   ]
  },
  {
   "cell_type": "code",
   "execution_count": 194,
   "id": "9f1a5783",
   "metadata": {},
   "outputs": [],
   "source": [
    "med_admin_win.loc[:, 'steroid_diag'] = (\n",
    "    np.where((med_admin_win['DrugCategory'] == 'steroid') & \n",
    "             ((med_admin_win['Route'] == 'Intravenous') | \n",
    "              (med_admin_win['Route'] == 'Oral') | \n",
    "              (med_admin_win['Route'] == 'Intrajejunal')), 1, 0)\n",
    ")"
   ]
  },
  {
   "cell_type": "markdown",
   "id": "e130bf01",
   "metadata": {},
   "source": [
    "#### Pain"
   ]
  },
  {
   "cell_type": "code",
   "execution_count": 195,
   "id": "604fa57e",
   "metadata": {},
   "outputs": [
    {
     "data": {
      "text/plain": [
       "CommonDrugName                                 Route       \n",
       "hydromorphone                                  Intravenous     2818\n",
       "oxycodone                                      Oral            2583\n",
       "acetaminophen                                  Oral            2071\n",
       "morphine                                       Intravenous     1845\n",
       "gabapentin                                     Oral             941\n",
       "acetaminophen                                  Intravenous      841\n",
       "ketorolac                                      Intravenous      728\n",
       "lidocaine                                      Transdermal      703\n",
       "morphine                                       Oral             551\n",
       "lidocaine                                      Intravenous      446\n",
       "hydromorphone                                  Oral             409\n",
       "tramadol                                       Oral             409\n",
       "bupivacaine/fentanyl/sodium replacement 0.9 %  Epidural         391\n",
       "acetaminophen/oxycodone                        Oral             363\n",
       "ibuprofen                                      Oral             287\n",
       "fentanyl                                       Intravenous      256\n",
       "lidocaine                                      Topical          254\n",
       "pregabalin                                     Oral             160\n",
       "morphine                                       Subcutaneous     159\n",
       "alvimopan                                      Oral             148\n",
       "Name: PatientID, dtype: int64"
      ]
     },
     "execution_count": 195,
     "metadata": {},
     "output_type": "execute_result"
    }
   ],
   "source": [
    "(\n",
    "    med_admin_win\n",
    "    .query('DrugCategory == \"pain agent\"')\n",
    "    .groupby(['CommonDrugName', 'Route'])['PatientID'].count()\n",
    "    .sort_values(ascending=False)\n",
    "    .head(20)\n",
    ")"
   ]
  },
  {
   "cell_type": "markdown",
   "id": "fb25d6fa",
   "metadata": {},
   "source": [
    "**Three indicator variables from 'pain agent' category will be created:\n",
    "- **opioid PO: patient recieved oral opioid (fentanyl patch included)**\n",
    "- **non-opioid PO: patient received non-opioid orally**\n",
    "- **pain IV: patient received pain medciation intravenously**"
   ]
  },
  {
   "cell_type": "markdown",
   "id": "56d19753",
   "metadata": {},
   "source": [
    "##### Opioid PO"
   ]
  },
  {
   "cell_type": "code",
   "execution_count": 196,
   "id": "45c1ac79",
   "metadata": {},
   "outputs": [],
   "source": [
    "# List of avialable opioids in the US. \n",
    "opioid_list = [\n",
    "    'buprenorphine',\n",
    "    'codeine',\n",
    "    'fentanyl',\n",
    "    'hydrocodone',\n",
    "    'hydromorphone',\n",
    "    'methadone',\n",
    "    'morphine',\n",
    "    'oxycodone',\n",
    "    'oxymorphone',\n",
    "    'tapentadol',\n",
    "    'tramadol'\n",
    "]"
   ]
  },
  {
   "cell_type": "code",
   "execution_count": 197,
   "id": "7b0fa4c7",
   "metadata": {},
   "outputs": [
    {
     "data": {
      "text/plain": [
       "CommonDrugName             Route      \n",
       "oxycodone                  Oral           2583\n",
       "morphine                   Oral            551\n",
       "hydromorphone              Oral            409\n",
       "tramadol                   Oral            409\n",
       "acetaminophen/oxycodone    Oral            363\n",
       "acetaminophen/hydrocodone  Oral            105\n",
       "fentanyl                   Transdermal      92\n",
       "methadone                  Oral             71\n",
       "acetaminophen/codeine      Oral             63\n",
       "fentanyl                   Sublingual        7\n",
       "tapentadol                 Oral              3\n",
       "Name: PatientID, dtype: int64"
      ]
     },
     "execution_count": 197,
     "metadata": {},
     "output_type": "execute_result"
    }
   ],
   "source": [
    "(\n",
    "    med_admin_win\n",
    "    [((med_admin_win['Route'] == 'Oral') | \n",
    "      (med_admin_win['Route'] == 'Transdermal') | \n",
    "      (med_admin_win['Route'] == 'Sublingual')) &\n",
    "     (med_admin_win['CommonDrugName'].str.contains('|'.join(opioid_list)))]\n",
    "    .groupby(['CommonDrugName', 'Route'])['PatientID'].count()\n",
    "    .sort_values(ascending = False)\n",
    ")"
   ]
  },
  {
   "cell_type": "code",
   "execution_count": 198,
   "id": "000a14d5",
   "metadata": {},
   "outputs": [],
   "source": [
    "med_admin_win.loc[:, 'opioid_PO_diag'] = (\n",
    "    np.where(((med_admin_win['Route'] == 'Oral') | \n",
    "              (med_admin_win['Route'] == 'Transdermal') | \n",
    "              (med_admin_win['Route'] == 'Sublingual')) &\n",
    "             (med_admin_win['CommonDrugName'].str.contains('|'.join(opioid_list))), 1, 0)\n",
    ")"
   ]
  },
  {
   "cell_type": "markdown",
   "id": "5bee445f",
   "metadata": {},
   "source": [
    "##### Nonopioid PO"
   ]
  },
  {
   "cell_type": "code",
   "execution_count": 199,
   "id": "db28611b",
   "metadata": {},
   "outputs": [
    {
     "data": {
      "text/plain": [
       "CommonDrugName                     Route\n",
       "acetaminophen                      Oral     2071\n",
       "gabapentin                         Oral      941\n",
       "ibuprofen                          Oral      287\n",
       "pregabalin                         Oral      160\n",
       "alvimopan                          Oral      148\n",
       "salicylates                        Oral      147\n",
       "baclofen                           Oral       72\n",
       "celecoxib                          Oral       68\n",
       "cyclobenzaprine                    Oral       64\n",
       "clonidine                          Oral       53\n",
       "benzocaine/menthol                 Oral       52\n",
       "phenol                             Oral       40\n",
       "methocarbamol                      Oral       32\n",
       "naproxen                           Oral       18\n",
       "lidocaine                          Oral       15\n",
       "naloxegol                          Oral       14\n",
       "tizanidine                         Oral        9\n",
       "indomethacin                       Oral        7\n",
       "benzocaine                         Oral        6\n",
       "nabumetone                         Oral        5\n",
       "acetaminophen/butalbital/caffeine  Oral        3\n",
       "acetaminophen/aspirin/caffeine     Oral        1\n",
       "Name: PatientID, dtype: int64"
      ]
     },
     "execution_count": 199,
     "metadata": {},
     "output_type": "execute_result"
    }
   ],
   "source": [
    "(\n",
    "    med_admin_win\n",
    "    [(med_admin_win['DrugCategory'] == 'pain agent') & \n",
    "     (med_admin_win['Route'] == 'Oral') & \n",
    "     (~med_admin_win['CommonDrugName'].str.contains('|'.join(opioid_list)))]\n",
    "    .groupby(['CommonDrugName', 'Route'])['PatientID'].count()\n",
    "    .sort_values(ascending = False)\n",
    ")"
   ]
  },
  {
   "cell_type": "code",
   "execution_count": 200,
   "id": "0f13a95c",
   "metadata": {},
   "outputs": [],
   "source": [
    "med_admin_win.loc[:, 'nonopioid_PO_diag'] = (\n",
    "    np.where((med_admin_win['DrugCategory'] == 'pain agent') & \n",
    "             (med_admin_win['Route'] == 'Oral') & \n",
    "             (~med_admin_win['CommonDrugName'].str.contains('|'.join(opioid_list))), 1, 0)\n",
    ")"
   ]
  },
  {
   "cell_type": "markdown",
   "id": "ccc8af5f",
   "metadata": {},
   "source": [
    "##### Pain IV"
   ]
  },
  {
   "cell_type": "code",
   "execution_count": 201,
   "id": "edd9ceb6",
   "metadata": {},
   "outputs": [
    {
     "data": {
      "text/plain": [
       "CommonDrugName         Route      \n",
       "hydromorphone          Intravenous    2818\n",
       "morphine               Intravenous    1845\n",
       "acetaminophen          Intravenous     841\n",
       "ketorolac              Intravenous     728\n",
       "lidocaine              Intravenous     446\n",
       "fentanyl               Intravenous     256\n",
       "methocarbamol          Intravenous      94\n",
       "meperidine             Intravenous      23\n",
       "nalbuphine             Intravenous      10\n",
       "belimumab              Intravenous       4\n",
       "alfentanil             Intravenous       3\n",
       "droperidol             Intravenous       2\n",
       "methadone              Intravenous       2\n",
       "epinephrine/lidocaine  Intravenous       1\n",
       "Name: PatientID, dtype: int64"
      ]
     },
     "execution_count": 201,
     "metadata": {},
     "output_type": "execute_result"
    }
   ],
   "source": [
    "(\n",
    "    med_admin_win\n",
    "    [(med_admin_win['DrugCategory'] == 'pain agent') & (med_admin_win['Route'] == 'Intravenous')]\n",
    "    .groupby(['CommonDrugName', 'Route'])['PatientID'].count()\n",
    "    .sort_values(ascending = False)\n",
    "    .head(20)\n",
    ")"
   ]
  },
  {
   "cell_type": "code",
   "execution_count": 202,
   "id": "9c91c525",
   "metadata": {},
   "outputs": [],
   "source": [
    "med_admin_win.loc[:, 'pain_IV_diag'] = (\n",
    "    np.where((med_admin_win['DrugCategory'] == 'pain agent') & \n",
    "             (med_admin_win['Route'] == 'Intravenous'), 1, 0)\n",
    ")"
   ]
  },
  {
   "cell_type": "markdown",
   "id": "80ffa215",
   "metadata": {},
   "source": [
    "#### Hematologic agent"
   ]
  },
  {
   "cell_type": "code",
   "execution_count": 203,
   "id": "4679dd38",
   "metadata": {},
   "outputs": [
    {
     "data": {
      "text/plain": [
       "heparin (porcine)       5926\n",
       "enoxaparin              1906\n",
       "aspirin                  808\n",
       "pegfilgrastim            431\n",
       "albumin human            284\n",
       "epoetin alfa             216\n",
       "dalteparin,porcine       187\n",
       "clopidogrel              181\n",
       "alteplase                179\n",
       "filgrastim-sndz          169\n",
       "filgrastim               159\n",
       "apixaban                 157\n",
       "darbepoetin alfa         113\n",
       "warfarin                  99\n",
       "rivaroxaban               85\n",
       "ticagrelor                59\n",
       "epoetin alfa-epbx         40\n",
       "aspirin/dipyridamole      38\n",
       "tbo-filgrastim            31\n",
       "pegfilgrastim-cbqv        30\n",
       "Name: CommonDrugName, dtype: int64"
      ]
     },
     "execution_count": 203,
     "metadata": {},
     "output_type": "execute_result"
    }
   ],
   "source": [
    "(\n",
    "    med_admin_win\n",
    "    [med_admin_win['DrugCategory'] == 'hematological agent']\n",
    "    .CommonDrugName\n",
    "    .value_counts()\n",
    "    .head(20)\n",
    ")"
   ]
  },
  {
   "cell_type": "markdown",
   "id": "5eef3acb",
   "metadata": {},
   "source": [
    "**A therapeutic anticoagulation indicator variable will be created from the hematological agent category and will consist of:** \n",
    "* **Heparin: patients on a heparin gtt or other pareneral agents (eg., bivilrudin or argatroban)**\n",
    "* **Enoxaparin: patients administered greater than prophylactic dosing of enoxaparin or other subcutaneous agents (eg., dalteparin or fondaparinux)**\n",
    "* **DOAC: patients administered any dose of apxiaban, rivaroxabn, edoxaban, or dabigatran**\n",
    "* **Warfarin: patients administered any dose of warfarin.**  "
   ]
  },
  {
   "cell_type": "markdown",
   "id": "0d2cbdb1",
   "metadata": {},
   "source": [
    "##### Heparin and other parenteral agents"
   ]
  },
  {
   "cell_type": "code",
   "execution_count": 204,
   "id": "2c286490",
   "metadata": {},
   "outputs": [
    {
     "data": {
      "text/plain": [
       "5000.0    0.612072\n",
       "500.0     0.140664\n",
       "5.0       0.068126\n",
       "7500.0    0.020120\n",
       "30.0      0.020120\n",
       "60.0      0.017296\n",
       "18.0      0.012001\n",
       "16.0      0.007236\n",
       "100.0     0.007060\n",
       "12.0      0.006001\n",
       "15.0      0.005648\n",
       "1000.0    0.004765\n",
       "20.0      0.004589\n",
       "22.0      0.004236\n",
       "17.0      0.004059\n",
       "2500.0    0.003706\n",
       "19.0      0.003353\n",
       "10.0      0.003000\n",
       "3.0       0.003000\n",
       "14.0      0.003000\n",
       "Name: AdministeredAmount, dtype: float64"
      ]
     },
     "execution_count": 204,
     "metadata": {},
     "output_type": "execute_result"
    }
   ],
   "source": [
    "(\n",
    "    med_admin_win\n",
    "    [med_admin_win['CommonDrugName'].str.contains('heparin')]\n",
    "    .AdministeredAmount\n",
    "    .value_counts(normalize = True)\n",
    "    .head(20)\n",
    ")"
   ]
  },
  {
   "cell_type": "markdown",
   "id": "56758db1",
   "metadata": {},
   "source": [
    "**About 75% of administered doses of heparin are either 5000 or 500 units, likely reflecting prophylacitc dosing and catheter lock therapy, respectively. Doses in the teens likely indicate heparin gtt doses.** "
   ]
  },
  {
   "cell_type": "code",
   "execution_count": 205,
   "id": "c10a14fc",
   "metadata": {},
   "outputs": [
    {
     "data": {
      "text/plain": [
       "Subcutaneous           0.994515\n",
       "Intravenous            0.004908\n",
       "Other/Miscellaneous    0.000577\n",
       "Name: Route, dtype: float64"
      ]
     },
     "execution_count": 205,
     "metadata": {},
     "output_type": "execute_result"
    }
   ],
   "source": [
    "(\n",
    "    med_admin_win\n",
    "    [(med_admin_win['CommonDrugName'].str.contains('heparin')) & (med_admin_win['AdministeredAmount'] == 5000)]\n",
    "    .Route\n",
    "    .value_counts(normalize = True)\n",
    ")"
   ]
  },
  {
   "cell_type": "code",
   "execution_count": 206,
   "id": "b411d30c",
   "metadata": {},
   "outputs": [
    {
     "data": {
      "text/plain": [
       "Intravenous            0.615287\n",
       "Intrajejunal           0.378344\n",
       "Other/Miscellaneous    0.006369\n",
       "Name: Route, dtype: float64"
      ]
     },
     "execution_count": 206,
     "metadata": {},
     "output_type": "execute_result"
    }
   ],
   "source": [
    "(\n",
    "    med_admin_win\n",
    "    [(med_admin_win['CommonDrugName'].str.contains('heparin')) & (med_admin_win['AdministeredAmount'] == 500)]\n",
    "    .Route\n",
    "    .value_counts(normalize = True)\n",
    ")"
   ]
  },
  {
   "cell_type": "code",
   "execution_count": 207,
   "id": "9948190d",
   "metadata": {},
   "outputs": [
    {
     "data": {
      "text/plain": [
       "18.0    0.175258\n",
       "16.0    0.105670\n",
       "12.0    0.087629\n",
       "15.0    0.082474\n",
       "20.0    0.067010\n",
       "22.0    0.061856\n",
       "17.0    0.059278\n",
       "19.0    0.048969\n",
       "14.0    0.043814\n",
       "24.0    0.041237\n",
       "Name: AdministeredAmount, dtype: float64"
      ]
     },
     "execution_count": 207,
     "metadata": {},
     "output_type": "execute_result"
    }
   ],
   "source": [
    "(\n",
    "    med_admin_win\n",
    "    [(med_admin_win['CommonDrugName'].str.contains('heparin')) & (med_admin_win['AdministeredUnits'] == 'unit/kg/hr')]\n",
    "    .AdministeredAmount\n",
    "    .value_counts(normalize = True)\n",
    "    .head(10)\n",
    ")"
   ]
  },
  {
   "cell_type": "code",
   "execution_count": 208,
   "id": "68f16b01",
   "metadata": {},
   "outputs": [
    {
     "data": {
      "text/plain": [
       "CommonDrugName     AdministeredUnits\n",
       "heparin (porcine)  unit/kg/hr           393\n",
       "bivalirudin        mg/kg/hr              17\n",
       "argatroban         mcg/kg/min             1\n",
       "Name: PatientID, dtype: int64"
      ]
     },
     "execution_count": 208,
     "metadata": {},
     "output_type": "execute_result"
    }
   ],
   "source": [
    "# Total number of instances of a patient receiving heparin, bivalrudin, or argatroban drip\n",
    "(\n",
    "    med_admin_win\n",
    "    [((med_admin_win['CommonDrugName'].str.contains('heparin')) & \n",
    "      (med_admin_win['AdministeredUnits'] == 'unit/kg/hr')) | \n",
    "     (med_admin_win['CommonDrugName'].str.contains('bivalirudin')) | \n",
    "     (med_admin_win['CommonDrugName'].str.contains('argatroban'))]\n",
    "    .groupby(['CommonDrugName', 'AdministeredUnits'])['PatientID'].count()\n",
    "    .sort_values(ascending = False)\n",
    " )"
   ]
  },
  {
   "cell_type": "code",
   "execution_count": 209,
   "id": "38ea63a4",
   "metadata": {},
   "outputs": [],
   "source": [
    "med_admin_win.loc[:, 'heparin_diag'] = (\n",
    "    np.where(((med_admin_win['CommonDrugName'].str.contains('heparin')) & \n",
    "              (med_admin_win['AdministeredUnits'] == 'unit/kg/hr')) | \n",
    "             (med_admin_win['CommonDrugName'].str.contains('bivalirudin')) | \n",
    "             (med_admin_win['CommonDrugName'].str.contains('argatroban')), 1, 0)\n",
    ")"
   ]
  },
  {
   "cell_type": "markdown",
   "id": "951387b9",
   "metadata": {},
   "source": [
    "###### Enoxaparin and other subcutaneous agents "
   ]
  },
  {
   "cell_type": "code",
   "execution_count": 210,
   "id": "af9f3157",
   "metadata": {},
   "outputs": [
    {
     "data": {
      "text/plain": [
       "40.0     0.543548\n",
       "30.0     0.198925\n",
       "80.0     0.069355\n",
       "120.0    0.041935\n",
       "100.0    0.037097\n",
       "60.0     0.034409\n",
       "70.0     0.018817\n",
       "50.0     0.013978\n",
       "75.0     0.013978\n",
       "150.0    0.010753\n",
       "Name: AdministeredAmount, dtype: float64"
      ]
     },
     "execution_count": 210,
     "metadata": {},
     "output_type": "execute_result"
    }
   ],
   "source": [
    "(\n",
    "    med_admin_win\n",
    "    [med_admin_win['CommonDrugName'].str.contains('enoxaparin')]\n",
    "    .AdministeredAmount\n",
    "    .value_counts(normalize = True)\n",
    "    .head(10)\n",
    ")"
   ]
  },
  {
   "cell_type": "markdown",
   "id": "ffe4ed33",
   "metadata": {},
   "source": [
    "**Doses of 40 or 30 likley reflect prophylactic VTE dosing and are less clinically relevant than higher doses.** "
   ]
  },
  {
   "cell_type": "code",
   "execution_count": 211,
   "id": "a40d6f45",
   "metadata": {},
   "outputs": [
    {
     "data": {
      "text/plain": [
       "5000.0    0.962567\n",
       "2500.0    0.037433\n",
       "Name: AdministeredAmount, dtype: float64"
      ]
     },
     "execution_count": 211,
     "metadata": {},
     "output_type": "execute_result"
    }
   ],
   "source": [
    "(\n",
    "    med_admin_win\n",
    "    [med_admin_win['CommonDrugName'].str.contains('dalteparin')]\n",
    "    .AdministeredAmount\n",
    "    .value_counts(normalize = True)\n",
    "    .head(10)\n",
    ")"
   ]
  },
  {
   "cell_type": "markdown",
   "id": "79bfd489",
   "metadata": {},
   "source": [
    "**Dose of 5,000 or less likley reflects prophylactic VTE dosing and is less clinically relevant than higher doses.** "
   ]
  },
  {
   "cell_type": "code",
   "execution_count": 212,
   "id": "74308651",
   "metadata": {},
   "outputs": [
    {
     "data": {
      "text/plain": [
       "7.5     0.653846\n",
       "2.5     0.230769\n",
       "10.0    0.115385\n",
       "Name: AdministeredAmount, dtype: float64"
      ]
     },
     "execution_count": 212,
     "metadata": {},
     "output_type": "execute_result"
    }
   ],
   "source": [
    "(\n",
    "    med_admin_win\n",
    "    [med_admin_win['CommonDrugName'].str.contains('fondaparinux')]\n",
    "    .AdministeredAmount\n",
    "    .value_counts(normalize = True)\n",
    ")"
   ]
  },
  {
   "cell_type": "markdown",
   "id": "aa396acf",
   "metadata": {},
   "source": [
    "**Dose of 2.5 likley reflects prophylactic VTE dosing and is less clinically relevant than higher doses.** "
   ]
  },
  {
   "cell_type": "code",
   "execution_count": 213,
   "id": "49c8971c",
   "metadata": {},
   "outputs": [
    {
     "data": {
      "text/plain": [
       "CommonDrugName  AdministeredAmount\n",
       "enoxaparin      80.0                  129\n",
       "                120.0                  78\n",
       "                100.0                  69\n",
       "                60.0                   64\n",
       "                70.0                   35\n",
       "                50.0                   26\n",
       "                75.0                   26\n",
       "                150.0                  20\n",
       "                90.0                   17\n",
       "fondaparinux    7.5                    17\n",
       "enoxaparin      160.0                   7\n",
       "                140.0                   6\n",
       "fondaparinux    10.0                    3\n",
       "enoxaparin      45.0                    1\n",
       "                130.0                   1\n",
       "Name: PatientID, dtype: int64"
      ]
     },
     "execution_count": 213,
     "metadata": {},
     "output_type": "execute_result"
    }
   ],
   "source": [
    "(\n",
    "    med_admin_win\n",
    "    [((med_admin_win['CommonDrugName'].str.contains('enoxaparin')) & \n",
    "      (med_admin_win['AdministeredAmount'] > 40)) | \n",
    "     ((med_admin_win['CommonDrugName'].str.contains('dalteparin')) & \n",
    "      (med_admin_win['AdministeredAmount'] > 5000)) | \n",
    "     ((med_admin_win['CommonDrugName'].str.contains('fondaparinux')) & \n",
    "      (med_admin_win['AdministeredAmount'] > 2.5))]\n",
    "    .groupby(['CommonDrugName', 'AdministeredAmount'])['PatientID'].count()\n",
    "    .sort_values(ascending = False)\n",
    "    .head(20)\n",
    ")"
   ]
  },
  {
   "cell_type": "code",
   "execution_count": 214,
   "id": "29fb149f",
   "metadata": {},
   "outputs": [],
   "source": [
    "med_admin_win.loc[:, 'enoxaparin_diag'] = (\n",
    "    np.where(((med_admin_win['CommonDrugName'].str.contains('enoxaparin')) & \n",
    "              (med_admin_win['AdministeredAmount'] > 40)) | \n",
    "             ((med_admin_win['CommonDrugName'].str.contains('dalteparin')) & \n",
    "              (med_admin_win['AdministeredAmount'] > 5000)) | \n",
    "             ((med_admin_win['CommonDrugName'].str.contains('fondaparinux')) & \n",
    "              (med_admin_win['AdministeredAmount'] > 2.5)), 1, 0)\n",
    ")"
   ]
  },
  {
   "cell_type": "markdown",
   "id": "b63b1fa4",
   "metadata": {},
   "source": [
    "##### DOAC"
   ]
  },
  {
   "cell_type": "code",
   "execution_count": 215,
   "id": "dead21ce",
   "metadata": {},
   "outputs": [
    {
     "data": {
      "text/plain": [
       "apixaban                157\n",
       "rivaroxaban              85\n",
       "dabigatran etexilate      6\n",
       "Name: CommonDrugName, dtype: int64"
      ]
     },
     "execution_count": 215,
     "metadata": {},
     "output_type": "execute_result"
    }
   ],
   "source": [
    "(\n",
    "    med_admin_win\n",
    "    [(med_admin_win['CommonDrugName'].str.contains('apixaban')) | \n",
    "     (med_admin_win['CommonDrugName'].str.contains('rivaroxaban')) | \n",
    "     (med_admin_win['CommonDrugName'].str.contains('dabigatran')) | \n",
    "     (med_admin_win['CommonDrugName'].str.contains('edoxaban'))]\n",
    "    .CommonDrugName\n",
    "    .value_counts()\n",
    ")"
   ]
  },
  {
   "cell_type": "code",
   "execution_count": 216,
   "id": "3c0e22d0",
   "metadata": {},
   "outputs": [],
   "source": [
    "med_admin_win.loc[:, 'doac_diag'] = (\n",
    "    np.where((med_admin_win['CommonDrugName'].str.contains('apixaban')) | \n",
    "             (med_admin_win['CommonDrugName'].str.contains('rivaroxaban')) | \n",
    "             (med_admin_win['CommonDrugName'].str.contains('dabigatran')) | \n",
    "             (med_admin_win['CommonDrugName'].str.contains('edoxaban')), 1, 0)\n",
    ")"
   ]
  },
  {
   "cell_type": "markdown",
   "id": "e15ba32f",
   "metadata": {},
   "source": [
    "##### Warfarin"
   ]
  },
  {
   "cell_type": "code",
   "execution_count": 217,
   "id": "7e028450",
   "metadata": {},
   "outputs": [
    {
     "data": {
      "text/plain": [
       "5.0     42\n",
       "2.5     29\n",
       "2.0     10\n",
       "10.0     6\n",
       "4.0      5\n",
       "1.0      2\n",
       "3.0      2\n",
       "15.0     1\n",
       "Name: AdministeredAmount, dtype: int64"
      ]
     },
     "execution_count": 217,
     "metadata": {},
     "output_type": "execute_result"
    }
   ],
   "source": [
    "(\n",
    "    med_admin_win\n",
    "    [(med_admin_win['CommonDrugName'].str.contains('warfarin'))]\n",
    "    .AdministeredAmount\n",
    "    .value_counts()\n",
    ")"
   ]
  },
  {
   "cell_type": "code",
   "execution_count": 218,
   "id": "23d208c1",
   "metadata": {},
   "outputs": [],
   "source": [
    "med_admin_win.loc[:, 'warfarin_diag'] = np.where((med_admin_win['CommonDrugName'].str.contains('warfarin')), 1, 0)"
   ]
  },
  {
   "cell_type": "markdown",
   "id": "ad9e0cb1",
   "metadata": {},
   "source": [
    "##### Anticoagulation merge "
   ]
  },
  {
   "cell_type": "code",
   "execution_count": 219,
   "id": "024885e8",
   "metadata": {},
   "outputs": [
    {
     "name": "stderr",
     "output_type": "stream",
     "text": [
      "/Applications/anaconda3/lib/python3.7/site-packages/ipykernel_launcher.py:3: SettingWithCopyWarning: \n",
      "A value is trying to be set on a copy of a slice from a DataFrame.\n",
      "Try using .loc[row_indexer,col_indexer] = value instead\n",
      "\n",
      "See the caveats in the documentation: https://pandas.pydata.org/pandas-docs/stable/user_guide/indexing.html#returning-a-view-versus-a-copy\n",
      "  This is separate from the ipykernel package so we can avoid doing imports until\n"
     ]
    }
   ],
   "source": [
    "# Combine heparin, enoxparin, DOAC, and warfarin columns into a single anticoagulation indicator variable. \n",
    "med_admin_win['ac_diag'] = (\n",
    "    med_admin_win['heparin_diag'] + med_admin_win['enoxaparin_diag'] + med_admin_win['doac_diag'] + med_admin_win['warfarin_diag']\n",
    ")"
   ]
  },
  {
   "cell_type": "code",
   "execution_count": 220,
   "id": "4e42c4b2",
   "metadata": {},
   "outputs": [],
   "source": [
    "# Drop heparin, enoxaparin, DOAC, and warfarin columns. \n",
    "med_admin_win = med_admin_win.drop(columns = ['heparin_diag', 'enoxaparin_diag', 'doac_diag', 'warfarin_diag'])"
   ]
  },
  {
   "cell_type": "markdown",
   "id": "32f6a7aa",
   "metadata": {},
   "source": [
    "##### DAPT"
   ]
  },
  {
   "cell_type": "code",
   "execution_count": 221,
   "id": "1aca7e6e",
   "metadata": {},
   "outputs": [
    {
     "data": {
      "text/plain": [
       "dapt    17\n",
       "dtype: int64"
      ]
     },
     "execution_count": 221,
     "metadata": {},
     "output_type": "execute_result"
    }
   ],
   "source": [
    "# Create dataframe containing patients who received aspirin or clopidogrel. \n",
    "(\n",
    "    med_admin_win\n",
    "    [(med_admin_win['CommonDrugName'].str.contains('aspirin')) | \n",
    "     (med_admin_win['CommonDrugName'].str.contains('clopidogrel')) | \n",
    "     (med_admin_win['CommonDrugName'].str.contains('ticagrelor')) | \n",
    "     (med_admin_win['CommonDrugName'].str.contains('prasugrel'))]\n",
    "    .drop_duplicates(subset = ['PatientID', 'CommonDrugName'], keep = 'first')\n",
    "    .groupby('PatientID')['PatientID'].count()\n",
    "    .to_frame(name = 'dapt')\n",
    "    .query('dapt == 2')\n",
    "    .count()\n",
    ")"
   ]
  },
  {
   "cell_type": "markdown",
   "id": "bc07e023",
   "metadata": {},
   "source": [
    "**Considering such a small number of patients are receiving DAPT, no variable created.** "
   ]
  },
  {
   "cell_type": "markdown",
   "id": "f44681cc",
   "metadata": {},
   "source": [
    "##### GCSF"
   ]
  },
  {
   "cell_type": "code",
   "execution_count": 222,
   "id": "73946fa7",
   "metadata": {},
   "outputs": [
    {
     "data": {
      "text/plain": [
       "pegfilgrastim         431\n",
       "filgrastim-sndz       169\n",
       "filgrastim            159\n",
       "tbo-filgrastim         31\n",
       "pegfilgrastim-cbqv     30\n",
       "pegfilgrastim-jmdb     13\n",
       "pegfilgrastim-bmez     10\n",
       "filgrastim-aafi         8\n",
       "pegfilgrastim-apgf      2\n",
       "Name: CommonDrugName, dtype: int64"
      ]
     },
     "execution_count": 222,
     "metadata": {},
     "output_type": "execute_result"
    }
   ],
   "source": [
    "(\n",
    "    med_admin_win\n",
    "    [med_admin_win['CommonDrugName'].str.contains('filgrastim')]\n",
    "    .CommonDrugName\n",
    "    .value_counts()\n",
    ")"
   ]
  },
  {
   "cell_type": "markdown",
   "id": "4e8ac92c",
   "metadata": {},
   "source": [
    "##### Epoetin"
   ]
  },
  {
   "cell_type": "code",
   "execution_count": 223,
   "id": "ec87b505",
   "metadata": {},
   "outputs": [
    {
     "data": {
      "text/plain": [
       "epoetin alfa         216\n",
       "darbepoetin alfa     113\n",
       "epoetin alfa-epbx     40\n",
       "Name: CommonDrugName, dtype: int64"
      ]
     },
     "execution_count": 223,
     "metadata": {},
     "output_type": "execute_result"
    }
   ],
   "source": [
    "(\n",
    "    med_admin_win\n",
    "    [med_admin_win['CommonDrugName'].str.contains('epoetin')]\n",
    "    .CommonDrugName\n",
    "    .value_counts()\n",
    ")"
   ]
  },
  {
   "cell_type": "markdown",
   "id": "d9d28b9f",
   "metadata": {},
   "source": [
    "**Both GCSF and epotein likely reflec chemotherapy toxicity and so will not be coded.** "
   ]
  },
  {
   "cell_type": "markdown",
   "id": "77d2a304",
   "metadata": {},
   "source": [
    "##### tPA"
   ]
  },
  {
   "cell_type": "code",
   "execution_count": 224,
   "id": "c7cdf566",
   "metadata": {},
   "outputs": [
    {
     "data": {
      "text/plain": [
       "AdministeredAmount  Route              \n",
       "2.0                 Intravenous            82\n",
       "                    Other/Miscellaneous    48\n",
       "1.0                 Intravenous            11\n",
       "                    Other/Miscellaneous    10\n",
       "2.2                 Intravenous             4\n",
       "4.0                 Intravenous             2\n",
       "2.0                 Intrajejunal            1\n",
       "4.0                 Intrajejunal            1\n",
       "6.0                 Intrajejunal            1\n",
       "Name: PatientID, dtype: int64"
      ]
     },
     "execution_count": 224,
     "metadata": {},
     "output_type": "execute_result"
    }
   ],
   "source": [
    "(\n",
    "    med_admin_win\n",
    "    [med_admin_win['CommonDrugName'].str.contains('alteplase')]\n",
    "    .groupby(['AdministeredAmount', 'Route'])['PatientID'].count()\n",
    "    .sort_values (ascending = False)\n",
    ")"
   ]
  },
  {
   "cell_type": "markdown",
   "id": "7aa3879b",
   "metadata": {},
   "source": [
    "**No indicator variable created since doses received are for catheter clearance rather than for acute ischemic stroke or pulmonary embolism.** "
   ]
  },
  {
   "cell_type": "code",
   "execution_count": 225,
   "id": "eb7fd05e",
   "metadata": {},
   "outputs": [
    {
     "data": {
      "text/plain": [
       "pain agent                      19159\n",
       "solution-fluid                  16408\n",
       "hematological agent             11300\n",
       "antineoplastic                  10383\n",
       "anti-infective                   9060\n",
       "antiemetic                       7814\n",
       "anesthetic                       6968\n",
       "steroid                          4562\n",
       "proton pump inhibitor            3564\n",
       "antihyperglycemic                2127\n",
       "antidepressant                   1522\n",
       "cytoprotective                    986\n",
       "hormone                           795\n",
       "anticholinergic                   259\n",
       "gout and hyperurecemia agent      183\n",
       "bone therapy agent (bta)          172\n",
       "antidote and reversal agent       118\n",
       "hyperglycemic                     113\n",
       "sedative agent                     96\n",
       "immunosuppressive                  55\n",
       "calcimimetic                       25\n",
       "antithyroid agent                   9\n",
       "endocrine                           5\n",
       "targeted therapy                    2\n",
       "Name: DrugCategory, dtype: int64"
      ]
     },
     "execution_count": 225,
     "metadata": {},
     "output_type": "execute_result"
    }
   ],
   "source": [
    "med_admin_win.DrugCategory.value_counts()"
   ]
  },
  {
   "cell_type": "markdown",
   "id": "b47c36c7",
   "metadata": {},
   "source": [
    "#### Anti-infective "
   ]
  },
  {
   "cell_type": "code",
   "execution_count": 226,
   "id": "0afee10a",
   "metadata": {},
   "outputs": [
    {
     "data": {
      "text/plain": [
       "CommonDrugName                                 Route      \n",
       "metronidazole                                  Intravenous    1258\n",
       "cefazolin                                      Intravenous    1178\n",
       "piperacillin/tazobactam                        Intravenous     790\n",
       "ceftriaxone                                    Intravenous     719\n",
       "vancomycin                                     Intravenous     637\n",
       "dextrose, iso-osmotic/piperacillin/tazobactam  Intravenous     348\n",
       "metronidazole                                  Oral            296\n",
       "nystatin                                       Topical         285\n",
       "cefepime                                       Intravenous     258\n",
       "ampicillin/sulbactam                           Intravenous     212\n",
       "ciprofloxacin                                  Intravenous     204\n",
       "nystatin                                       Oral            175\n",
       "amoxicillin/clavulanic acid                    Oral            137\n",
       "ciprofloxacin                                  Oral            136\n",
       "vancomycin                                     Oral            122\n",
       "levofloxacin                                   Intravenous     108\n",
       "ceftazidime                                    Intravenous     104\n",
       "fluconazole                                    Oral            100\n",
       "meropenem                                      Intravenous      95\n",
       "cefoxitin                                      Intravenous      95\n",
       "Name: PatientID, dtype: int64"
      ]
     },
     "execution_count": 226,
     "metadata": {},
     "output_type": "execute_result"
    }
   ],
   "source": [
    "(\n",
    "    med_admin_win\n",
    "    [(med_admin_win['DrugCategory'] == 'anti-infective')] \n",
    "    .groupby(['CommonDrugName', 'Route'])['PatientID'].count()\n",
    "    .sort_values(ascending = False)\n",
    "    .head(20)\n",
    ")"
   ]
  },
  {
   "cell_type": "markdown",
   "id": "dda4bdb6",
   "metadata": {},
   "source": [
    "**Clinically relevant; two separate indicator variables from the anti-infective drug category will be created:** \n",
    "* **antiinfective IV group** \n",
    "* **antiinfective PO group**"
   ]
  },
  {
   "cell_type": "markdown",
   "id": "d6d4e7db",
   "metadata": {},
   "source": [
    "##### Anti-infective IV"
   ]
  },
  {
   "cell_type": "code",
   "execution_count": 227,
   "id": "36a9e505",
   "metadata": {},
   "outputs": [
    {
     "data": {
      "text/plain": [
       "metronidazole                                    0.195281\n",
       "cefazolin                                        0.182862\n",
       "piperacillin/tazobactam                          0.122633\n",
       "ceftriaxone                                      0.111611\n",
       "vancomycin                                       0.098882\n",
       "dextrose, iso-osmotic/piperacillin/tazobactam    0.054020\n",
       "cefepime                                         0.040050\n",
       "ampicillin/sulbactam                             0.032909\n",
       "ciprofloxacin                                    0.031667\n",
       "levofloxacin                                     0.016765\n",
       "ceftazidime                                      0.016144\n",
       "meropenem                                        0.014747\n",
       "cefoxitin                                        0.014747\n",
       "fluconazole                                      0.013039\n",
       "clindamycin                                      0.007762\n",
       "ertapenem                                        0.006520\n",
       "cefuroxime                                       0.006054\n",
       "caspofungin                                      0.004967\n",
       "anidulafungin                                    0.003570\n",
       "oxacillin                                        0.003570\n",
       "Name: CommonDrugName, dtype: float64"
      ]
     },
     "execution_count": 227,
     "metadata": {},
     "output_type": "execute_result"
    }
   ],
   "source": [
    "(\n",
    "    med_admin_win\n",
    "    [(med_admin_win['DrugCategory'] == 'anti-infective') & \n",
    "     (med_admin_win['Route'] == 'Intravenous')]\n",
    "    .CommonDrugName\n",
    "    .value_counts(normalize = True)\n",
    "    .head(20)\n",
    ")"
   ]
  },
  {
   "cell_type": "markdown",
   "id": "297fccbe",
   "metadata": {},
   "source": [
    "**This group consists mainly of antibacterials. Antifungals and antivirals are also included.** "
   ]
  },
  {
   "cell_type": "code",
   "execution_count": 228,
   "id": "575ed5f6",
   "metadata": {},
   "outputs": [],
   "source": [
    "med_admin_win.loc[:, 'antiinfective_IV_diag'] = (\n",
    "    np.where((med_admin_win['DrugCategory'] == 'anti-infective') & \n",
    "             (med_admin_win['Route'] == 'Intravenous'), 1, 0)\n",
    ")"
   ]
  },
  {
   "cell_type": "markdown",
   "id": "b50a9a0a",
   "metadata": {},
   "source": [
    "##### Anti-infective PO"
   ]
  },
  {
   "cell_type": "code",
   "execution_count": 229,
   "id": "79e903e9",
   "metadata": {},
   "outputs": [
    {
     "data": {
      "text/plain": [
       "CommonDrugName                 Route\n",
       "metronidazole                  Oral     296\n",
       "nystatin                       Oral     175\n",
       "amoxicillin/clavulanic acid    Oral     137\n",
       "ciprofloxacin                  Oral     136\n",
       "vancomycin                     Oral     122\n",
       "fluconazole                    Oral     100\n",
       "acyclovir                      Oral      88\n",
       "sulfamethoxazole/trimethoprim  Oral      70\n",
       "levofloxacin                   Oral      70\n",
       "doxycycline                    Oral      66\n",
       "amoxicillin                    Oral      42\n",
       "neomycin                       Oral      39\n",
       "erythromycin base              Oral      37\n",
       "cephalexin                     Oral      35\n",
       "clarithromycin                 Oral      32\n",
       "cefuroxime                     Oral      30\n",
       "dapsone                        Oral      15\n",
       "clindamycin                    Oral      15\n",
       "moxifloxacin                   Oral      15\n",
       "oseltamivir                    Oral      14\n",
       "Name: PatientID, dtype: int64"
      ]
     },
     "execution_count": 229,
     "metadata": {},
     "output_type": "execute_result"
    }
   ],
   "source": [
    "(\n",
    "    med_admin_win\n",
    "    [(med_admin_win['DrugCategory'] == 'anti-infective') & \n",
    "     (med_admin_win['Route'] == 'Oral')]\n",
    "    .groupby(['CommonDrugName', 'Route'])['PatientID'].count()\n",
    "    .sort_values(ascending = False)\n",
    "    .head(20)\n",
    ")"
   ]
  },
  {
   "cell_type": "code",
   "execution_count": 230,
   "id": "93b60db2",
   "metadata": {},
   "outputs": [],
   "source": [
    "med_admin_win.loc[:, 'antiinfective_diag'] = (\n",
    "    np.where((med_admin_win['DrugCategory'] == 'anti-infective') & \n",
    "             (med_admin_win['Route'] == 'Oral'), 1, 0)\n",
    ")"
   ]
  },
  {
   "cell_type": "markdown",
   "id": "37d07aa3",
   "metadata": {},
   "source": [
    "#### Anesthetic"
   ]
  },
  {
   "cell_type": "code",
   "execution_count": 231,
   "id": "23f3f0c5",
   "metadata": {},
   "outputs": [
    {
     "data": {
      "text/plain": [
       "CommonDrugName       Route        \n",
       "fentanyl             Intravenous      2665\n",
       "propofol             Intravenous      2385\n",
       "midazolam            Intravenous      1450\n",
       "ketamine             Intravenous       139\n",
       "remifentanil         Intravenous       112\n",
       "etomidate            Intravenous        26\n",
       "fentanyl             Buccal             17\n",
       "sufentanil           Epidural           14\n",
       "                     Intravenous        13\n",
       "fentanyl             Sublingual          4\n",
       "midazolam            Intramuscular       4\n",
       "                     Oral                2\n",
       "droperidol/fentanyl  Intravenous         1\n",
       "fentanyl             Epidural            1\n",
       "Name: PatientID, dtype: int64"
      ]
     },
     "execution_count": 231,
     "metadata": {},
     "output_type": "execute_result"
    }
   ],
   "source": [
    "(\n",
    "    med_admin_win\n",
    "    .query('DrugCategory == \"anesthetic\"')\n",
    "    .groupby(['CommonDrugName', 'Route'])['PatientID'].count()\n",
    "    .sort_values(ascending = False)\n",
    ")"
   ]
  },
  {
   "cell_type": "markdown",
   "id": "009f58e0",
   "metadata": {},
   "source": [
    "**Most likely capturing patients undergoing biopsy for new advanced diagnosis. Unclear prognostic value so no indicator variable created.** "
   ]
  },
  {
   "cell_type": "markdown",
   "id": "08061307",
   "metadata": {},
   "source": [
    "#### Cytoprotective"
   ]
  },
  {
   "cell_type": "code",
   "execution_count": 232,
   "id": "13ba43c0",
   "metadata": {},
   "outputs": [
    {
     "data": {
      "text/plain": [
       "CommonDrugName            Route        \n",
       "folic acid                Oral             390\n",
       "vitamin b12 preparations  Intramuscular    313\n",
       "                          Oral             106\n",
       "                          Subcutaneous      88\n",
       "folic acid                Intravenous       37\n",
       "                          enteral           12\n",
       "urate oxidase             Intravenous        6\n",
       "folic acid                Nasogastric        5\n",
       "                          Subcutaneous       5\n",
       "vitamin b12 preparations  Intrajejunal       4\n",
       "Name: PatientID, dtype: int64"
      ]
     },
     "execution_count": 232,
     "metadata": {},
     "output_type": "execute_result"
    }
   ],
   "source": [
    "(\n",
    "    med_admin_win\n",
    "    .query('DrugCategory == \"cytoprotective\"')\n",
    "    .groupby(['CommonDrugName', 'Route'])['PatientID'].count()\n",
    "    .sort_values(ascending = False)\n",
    ")"
   ]
  },
  {
   "cell_type": "markdown",
   "id": "330e9aaa",
   "metadata": {},
   "source": [
    "#### Antihyperglycemic"
   ]
  },
  {
   "cell_type": "code",
   "execution_count": 233,
   "id": "41354fa6",
   "metadata": {},
   "outputs": [
    {
     "data": {
      "text/plain": [
       "insulin lispro                            0.406206\n",
       "insulin regular                           0.357781\n",
       "insulin glargine                          0.125059\n",
       "metformin                                 0.034791\n",
       "insulin isophane (nph)                    0.023507\n",
       "glipizide                                 0.018336\n",
       "linagliptin                               0.014104\n",
       "sitagliptin                               0.013164\n",
       "insulin detemir                           0.002821\n",
       "insulin aspart                            0.001881\n",
       "dapagliflozin                             0.000940\n",
       "insulin isophane (nph)/insulin regular    0.000470\n",
       "pioglitazone                              0.000470\n",
       "glyburide                                 0.000470\n",
       "Name: CommonDrugName, dtype: float64"
      ]
     },
     "execution_count": 233,
     "metadata": {},
     "output_type": "execute_result"
    }
   ],
   "source": [
    "(\n",
    "    med_admin_win\n",
    "    .query('DrugCategory == \"antihyperglycemic\"')\n",
    "    .CommonDrugName\n",
    "    .value_counts(normalize = True)\n",
    ")"
   ]
  },
  {
   "cell_type": "code",
   "execution_count": 234,
   "id": "65473776",
   "metadata": {},
   "outputs": [],
   "source": [
    "med_admin_win.loc[:, 'antihyperglycemic_diag'] = np.where(med_admin_win['DrugCategory'] == 'antihyperglycemic', 1, 0)"
   ]
  },
  {
   "cell_type": "markdown",
   "id": "f38f7b33",
   "metadata": {},
   "source": [
    "#### Proton pump inhibitor"
   ]
  },
  {
   "cell_type": "code",
   "execution_count": 235,
   "id": "7033a2ff",
   "metadata": {},
   "outputs": [
    {
     "data": {
      "text/plain": [
       "CommonDrugName  Route           \n",
       "pantoprazole    Intravenous         1104\n",
       "                Oral                1071\n",
       "lansoprazole    Oral                 860\n",
       "omeprazole      Oral                 383\n",
       "lansoprazole    Nasogastric           25\n",
       "                enteral               12\n",
       "esomeprazole    Intravenous           11\n",
       "omeprazole      enteral                7\n",
       "lansoprazole    Intrajejunal           6\n",
       "                Gastrostomy Tube       2\n",
       "Name: PatientID, dtype: int64"
      ]
     },
     "execution_count": 235,
     "metadata": {},
     "output_type": "execute_result"
    }
   ],
   "source": [
    "(\n",
    "    med_admin_win\n",
    "    .query('DrugCategory == \"proton pump inhibitor\"')\n",
    "    .groupby(['CommonDrugName', 'Route'])['PatientID'].count()\n",
    "    .sort_values(ascending = False)\n",
    ")"
   ]
  },
  {
   "cell_type": "code",
   "execution_count": 236,
   "id": "3212506f",
   "metadata": {},
   "outputs": [],
   "source": [
    "med_admin_win.loc[:, 'ppi_diag'] = np.where(med_admin_win['DrugCategory'] == 'proton pump inhibitor', 1, 0)"
   ]
  },
  {
   "cell_type": "markdown",
   "id": "5675070c",
   "metadata": {},
   "source": [
    "#### Antidepressant"
   ]
  },
  {
   "cell_type": "code",
   "execution_count": 237,
   "id": "cb72b225",
   "metadata": {},
   "outputs": [
    {
     "data": {
      "text/plain": [
       "mirtazapine       280\n",
       "trazodone         273\n",
       "sertraline        248\n",
       "escitalopram      236\n",
       "duloxetine        132\n",
       "paroxetine         67\n",
       "bupropion          66\n",
       "fluoxetine         60\n",
       "citalopram         54\n",
       "amitriptyline      31\n",
       "venlafaxine        26\n",
       "nortriptyline      16\n",
       "doxepin            12\n",
       "clomipramine        8\n",
       "vortioxetine        7\n",
       "desvenlafaxine      6\n",
       "Name: CommonDrugName, dtype: int64"
      ]
     },
     "execution_count": 237,
     "metadata": {},
     "output_type": "execute_result"
    }
   ],
   "source": [
    "(\n",
    "    med_admin_win\n",
    "    .query('DrugCategory == \"antidepressant\"')\n",
    "    .CommonDrugName\n",
    "    .value_counts()\n",
    ")"
   ]
  },
  {
   "cell_type": "code",
   "execution_count": 238,
   "id": "cdc52427",
   "metadata": {},
   "outputs": [],
   "source": [
    "med_admin_win.loc[:, 'antidepressant_diag'] = np.where(med_admin_win['DrugCategory'] == 'antidepressant', 1, 0)"
   ]
  },
  {
   "cell_type": "markdown",
   "id": "d1cd1070",
   "metadata": {},
   "source": [
    "#### Bone therapy agent"
   ]
  },
  {
   "cell_type": "code",
   "execution_count": 239,
   "id": "75761341",
   "metadata": {},
   "outputs": [
    {
     "data": {
      "text/plain": [
       "denosumab          87\n",
       "zoledronic acid    79\n",
       "pamidronic acid     5\n",
       "alendronic acid     1\n",
       "Name: CommonDrugName, dtype: int64"
      ]
     },
     "execution_count": 239,
     "metadata": {},
     "output_type": "execute_result"
    }
   ],
   "source": [
    "(\n",
    "    med_admin_win\n",
    "    .query('DrugCategory == \"bone therapy agent (bta)\"')\n",
    "    .CommonDrugName\n",
    "    .value_counts()\n",
    ")"
   ]
  },
  {
   "cell_type": "code",
   "execution_count": 240,
   "id": "ba4d22bd",
   "metadata": {},
   "outputs": [],
   "source": [
    "med_admin_win.loc[:, 'bta_diag'] = np.where(med_admin_win['DrugCategory'] == 'bone therapy agent (bta)', 1, 0)"
   ]
  },
  {
   "cell_type": "markdown",
   "id": "4bef735e",
   "metadata": {},
   "source": [
    "#### Hormone"
   ]
  },
  {
   "cell_type": "code",
   "execution_count": 241,
   "id": "6cadb004",
   "metadata": {},
   "outputs": [
    {
     "data": {
      "text/plain": [
       "levothyroxine    568\n",
       "octreotide       109\n",
       "vasopressin       77\n",
       "testosterone      27\n",
       "desmopressin       5\n",
       "lanreotide         4\n",
       "thyroid            2\n",
       "estradiol          2\n",
       "liothyronine       1\n",
       "Name: CommonDrugName, dtype: int64"
      ]
     },
     "execution_count": 241,
     "metadata": {},
     "output_type": "execute_result"
    }
   ],
   "source": [
    "(\n",
    "    med_admin_win\n",
    "    .query('DrugCategory == \"hormone\"')\n",
    "    .CommonDrugName\n",
    "    .value_counts()\n",
    ")"
   ]
  },
  {
   "cell_type": "markdown",
   "id": "596e819f",
   "metadata": {},
   "source": [
    "**Hypothyroidism might linked to higher all-cause mortality, so i ndicator variable will be created for patients receiving levothyroxine.** "
   ]
  },
  {
   "cell_type": "code",
   "execution_count": 242,
   "id": "304dbc34",
   "metadata": {},
   "outputs": [],
   "source": [
    "med_admin_win.loc[:, 'thyroid_diag'] = np.where(med_admin_win['CommonDrugName'] == 'levothyroxine', 1, 0)"
   ]
  },
  {
   "cell_type": "markdown",
   "id": "e571c678",
   "metadata": {},
   "source": [
    "#### Gout and hyperurecemia agent "
   ]
  },
  {
   "cell_type": "code",
   "execution_count": 243,
   "id": "d99ab19c",
   "metadata": {},
   "outputs": [
    {
     "data": {
      "text/plain": [
       "allopurinol    138\n",
       "colchicine      23\n",
       "febuxostat      22\n",
       "Name: CommonDrugName, dtype: int64"
      ]
     },
     "execution_count": 243,
     "metadata": {},
     "output_type": "execute_result"
    }
   ],
   "source": [
    "(\n",
    "    med_admin_win\n",
    "    .query('DrugCategory == \"gout and hyperurecemia agent\"')\n",
    "    .CommonDrugName\n",
    "    .value_counts()\n",
    ")"
   ]
  },
  {
   "cell_type": "markdown",
   "id": "aabb11c3",
   "metadata": {},
   "source": [
    "#### 4.16 Immunosuppressive "
   ]
  },
  {
   "cell_type": "code",
   "execution_count": 244,
   "id": "2ea0fc9b",
   "metadata": {},
   "outputs": [
    {
     "data": {
      "text/plain": [
       "tacrolimus      49\n",
       "azathioprine     6\n",
       "Name: CommonDrugName, dtype: int64"
      ]
     },
     "execution_count": 244,
     "metadata": {},
     "output_type": "execute_result"
    }
   ],
   "source": [
    "(\n",
    "    med_admin_win\n",
    "    .query('DrugCategory == \"immunosuppressive\"')\n",
    "    .CommonDrugName\n",
    "    .value_counts()\n",
    ")"
   ]
  },
  {
   "cell_type": "code",
   "execution_count": 245,
   "id": "e3dbe624",
   "metadata": {},
   "outputs": [],
   "source": [
    "med_admin_win.loc[:, 'is_diag'] = np.where(med_admin_win['DrugCategory'] == 'immunosuppressive', 1, 0)"
   ]
  },
  {
   "cell_type": "markdown",
   "id": "02550539",
   "metadata": {},
   "source": [
    "#### Sedative agent"
   ]
  },
  {
   "cell_type": "code",
   "execution_count": 246,
   "id": "c77e83c6",
   "metadata": {},
   "outputs": [
    {
     "data": {
      "text/plain": [
       "zolpidem    96\n",
       "Name: CommonDrugName, dtype: int64"
      ]
     },
     "execution_count": 246,
     "metadata": {},
     "output_type": "execute_result"
    }
   ],
   "source": [
    "(\n",
    "    med_admin_win\n",
    "    .query('DrugCategory == \"sedative agent\"')\n",
    "    .CommonDrugName\n",
    "    .value_counts()\n",
    ")"
   ]
  },
  {
   "cell_type": "markdown",
   "id": "da8b709c",
   "metadata": {},
   "source": [
    "#### Endocrine"
   ]
  },
  {
   "cell_type": "code",
   "execution_count": 247,
   "id": "ee02c322",
   "metadata": {},
   "outputs": [
    {
     "data": {
      "text/plain": [
       "oxytocin    5\n",
       "Name: CommonDrugName, dtype: int64"
      ]
     },
     "execution_count": 247,
     "metadata": {},
     "output_type": "execute_result"
    }
   ],
   "source": [
    "(\n",
    "    med_admin_win\n",
    "    .query('DrugCategory == \"endocrine\"')\n",
    "    .CommonDrugName\n",
    "    .value_counts()\n",
    ")"
   ]
  },
  {
   "cell_type": "markdown",
   "id": "3a0ad2c6",
   "metadata": {},
   "source": [
    "#### Antidote and reversal agent"
   ]
  },
  {
   "cell_type": "code",
   "execution_count": 248,
   "id": "5bb3a0eb",
   "metadata": {},
   "outputs": [
    {
     "data": {
      "text/plain": [
       "naloxone          56\n",
       "naltrexone        34\n",
       "acetylcysteine    13\n",
       "methylene blue     9\n",
       "flumazenil         4\n",
       "protamine          1\n",
       "physostigmine      1\n",
       "Name: CommonDrugName, dtype: int64"
      ]
     },
     "execution_count": 248,
     "metadata": {},
     "output_type": "execute_result"
    }
   ],
   "source": [
    "(\n",
    "    med_admin_win\n",
    "    .query('DrugCategory == \"antidote and reversal agent\"')\n",
    "    .CommonDrugName\n",
    "    .value_counts()\n",
    ")"
   ]
  },
  {
   "cell_type": "markdown",
   "id": "55fbd34d",
   "metadata": {},
   "source": [
    "#### Hyperglycemic"
   ]
  },
  {
   "cell_type": "code",
   "execution_count": 249,
   "id": "669c1238",
   "metadata": {},
   "outputs": [
    {
     "data": {
      "text/plain": [
       "glucagon         65\n",
       "carbohydrates    48\n",
       "Name: CommonDrugName, dtype: int64"
      ]
     },
     "execution_count": 249,
     "metadata": {},
     "output_type": "execute_result"
    }
   ],
   "source": [
    "(\n",
    "    med_admin_win\n",
    "    .query('DrugCategory == \"hyperglycemic\"')\n",
    "    .CommonDrugName\n",
    "    .value_counts()\n",
    ")"
   ]
  },
  {
   "cell_type": "markdown",
   "id": "2549bd8d",
   "metadata": {},
   "source": [
    "#### Antithyroid agent"
   ]
  },
  {
   "cell_type": "code",
   "execution_count": 250,
   "id": "27097ced",
   "metadata": {},
   "outputs": [
    {
     "data": {
      "text/plain": [
       "methimazole    9\n",
       "Name: CommonDrugName, dtype: int64"
      ]
     },
     "execution_count": 250,
     "metadata": {},
     "output_type": "execute_result"
    }
   ],
   "source": [
    "(\n",
    "    med_admin_win\n",
    "    .query('DrugCategory == \"antithyroid agent\"')\n",
    "    .CommonDrugName\n",
    "    .value_counts()\n",
    ")"
   ]
  },
  {
   "cell_type": "markdown",
   "id": "edbb020d",
   "metadata": {},
   "source": [
    "#### Anticholinergic"
   ]
  },
  {
   "cell_type": "code",
   "execution_count": 251,
   "id": "d834796d",
   "metadata": {},
   "outputs": [
    {
     "data": {
      "text/plain": [
       "atropine    259\n",
       "Name: CommonDrugName, dtype: int64"
      ]
     },
     "execution_count": 251,
     "metadata": {},
     "output_type": "execute_result"
    }
   ],
   "source": [
    "(\n",
    "    med_admin_win\n",
    "    .query('DrugCategory == \"anticholinergic\"')\n",
    "    .CommonDrugName\n",
    "    .value_counts()\n",
    ")"
   ]
  },
  {
   "cell_type": "markdown",
   "id": "eddbd600",
   "metadata": {},
   "source": [
    "#### Calciumimetic"
   ]
  },
  {
   "cell_type": "code",
   "execution_count": 252,
   "id": "aa78e610",
   "metadata": {},
   "outputs": [
    {
     "data": {
      "text/plain": [
       "cinacalcet    25\n",
       "Name: CommonDrugName, dtype: int64"
      ]
     },
     "execution_count": 252,
     "metadata": {},
     "output_type": "execute_result"
    }
   ],
   "source": [
    "(\n",
    "    med_admin_win\n",
    "    .query('DrugCategory == \"calcimimetic\"')\n",
    "    .CommonDrugName\n",
    "    .value_counts()\n",
    ")"
   ]
  },
  {
   "cell_type": "markdown",
   "id": "76ed42d6",
   "metadata": {},
   "source": [
    "#### Targeted therapy"
   ]
  },
  {
   "cell_type": "code",
   "execution_count": 253,
   "id": "11f43868",
   "metadata": {},
   "outputs": [
    {
     "data": {
      "text/plain": [
       "infliximab    2\n",
       "Name: CommonDrugName, dtype: int64"
      ]
     },
     "execution_count": 253,
     "metadata": {},
     "output_type": "execute_result"
    }
   ],
   "source": [
    "(\n",
    "    med_admin_win\n",
    "    .query('DrugCategory == \"targeted therapy\"')\n",
    "    .CommonDrugName\n",
    "    .value_counts()\n",
    ")"
   ]
  },
  {
   "cell_type": "markdown",
   "id": "e3e2b831",
   "metadata": {},
   "source": [
    "#### Route"
   ]
  },
  {
   "cell_type": "code",
   "execution_count": 254,
   "id": "0b7ac2f2",
   "metadata": {},
   "outputs": [
    {
     "data": {
      "text/plain": [
       "Intravenous            0.601721\n",
       "Oral                   0.204788\n",
       "Subcutaneous           0.103159\n",
       "Other/Miscellaneous    0.039582\n",
       "Intrajejunal           0.011569\n",
       "Transdermal            0.009648\n",
       "Topical                0.008357\n",
       "Epidural               0.006154\n",
       "Intramuscular          0.005275\n",
       "Intradermal            0.002008\n",
       "Name: Route, dtype: float64"
      ]
     },
     "execution_count": 254,
     "metadata": {},
     "output_type": "execute_result"
    }
   ],
   "source": [
    "(\n",
    "    med_admin_win['Route']\n",
    "    .value_counts(normalize = True)\n",
    "    .head(10)\n",
    ")"
   ]
  },
  {
   "cell_type": "code",
   "execution_count": 255,
   "id": "65622a58",
   "metadata": {},
   "outputs": [
    {
     "data": {
      "text/plain": [
       "sodium/saline preparations    665\n",
       "heparin (porcine)             300\n",
       "dexamethasone                  42\n",
       "leucovorin                      9\n",
       "acetaminophen                   8\n",
       "filgrastim                      6\n",
       "lansoprazole                    6\n",
       "atropine                        5\n",
       "vitamin b12 preparations        4\n",
       "ceftriaxone                     4\n",
       "Name: CommonDrugName, dtype: int64"
      ]
     },
     "execution_count": 255,
     "metadata": {},
     "output_type": "execute_result"
    }
   ],
   "source": [
    "(\n",
    "    med_admin_win\n",
    "    .query('Route == \"Intrajejunal\"')\n",
    "    .CommonDrugName\n",
    "    .value_counts()\n",
    "    .head(10)\n",
    ")"
   ]
  },
  {
   "cell_type": "markdown",
   "id": "86d34483",
   "metadata": {},
   "source": [
    "#### Condensing"
   ]
  },
  {
   "cell_type": "code",
   "execution_count": 256,
   "id": "10d4bbfd",
   "metadata": {},
   "outputs": [],
   "source": [
    "# Select columns with indicator variables and PatientID, then collapse rows by PatientID and sum columns. \n",
    "med_admin_wide = (\n",
    "    med_admin_win\n",
    "    [med_admin_win.columns[med_admin_win.columns.str.contains('diag|PatientID')]]\n",
    "    .groupby('PatientID').sum()\n",
    ")"
   ]
  },
  {
   "cell_type": "code",
   "execution_count": 257,
   "id": "b4f661f4",
   "metadata": {},
   "outputs": [],
   "source": [
    "# Replace numbers greater than 1 with 1; 0 remains unchanged. \n",
    "med_admin_wide = (\n",
    "    med_admin_wide.mask(med_admin_wide > 1, 1)\n",
    "    .reset_index()\n",
    ")"
   ]
  },
  {
   "cell_type": "code",
   "execution_count": 258,
   "id": "a90d93f7",
   "metadata": {},
   "outputs": [
    {
     "data": {
      "text/plain": [
       "(3829, 3829)"
      ]
     },
     "execution_count": 258,
     "metadata": {},
     "output_type": "execute_result"
    }
   ],
   "source": [
    "row_ID(med_admin_wide)"
   ]
  },
  {
   "cell_type": "code",
   "execution_count": 259,
   "id": "abc5f5c5",
   "metadata": {},
   "outputs": [],
   "source": [
    "# Append missing training IDs.\n",
    "med_admin_wide = (\n",
    "    med_admin_wide.append(\n",
    "        pd.Series(train_IDs)[~pd.Series(train_IDs).isin(med_admin_wide['PatientID'])].to_frame(name = 'PatientID'),\n",
    "        sort = False\n",
    "    )\n",
    "    .fillna(0)\n",
    ")"
   ]
  },
  {
   "cell_type": "code",
   "execution_count": 260,
   "id": "7c68bea3",
   "metadata": {},
   "outputs": [
    {
     "data": {
      "text/plain": [
       "(27452, 27452)"
      ]
     },
     "execution_count": 260,
     "metadata": {},
     "output_type": "execute_result"
    }
   ],
   "source": [
    "row_ID(med_admin_wide)"
   ]
  },
  {
   "cell_type": "code",
   "execution_count": 261,
   "id": "0067246c",
   "metadata": {},
   "outputs": [
    {
     "data": {
      "text/plain": [
       "(27452, 14)"
      ]
     },
     "execution_count": 261,
     "metadata": {},
     "output_type": "execute_result"
    }
   ],
   "source": [
    "med_admin_wide.shape"
   ]
  },
  {
   "cell_type": "code",
   "execution_count": 262,
   "id": "11837b79",
   "metadata": {},
   "outputs": [
    {
     "data": {
      "text/html": [
       "<div>\n",
       "<style scoped>\n",
       "    .dataframe tbody tr th:only-of-type {\n",
       "        vertical-align: middle;\n",
       "    }\n",
       "\n",
       "    .dataframe tbody tr th {\n",
       "        vertical-align: top;\n",
       "    }\n",
       "\n",
       "    .dataframe thead th {\n",
       "        text-align: right;\n",
       "    }\n",
       "</style>\n",
       "<table border=\"1\" class=\"dataframe\">\n",
       "  <thead>\n",
       "    <tr style=\"text-align: right;\">\n",
       "      <th></th>\n",
       "      <th>PatientID</th>\n",
       "      <th>steroid_diag</th>\n",
       "      <th>opioid_PO_diag</th>\n",
       "      <th>nonopioid_PO_diag</th>\n",
       "      <th>pain_IV_diag</th>\n",
       "      <th>ac_diag</th>\n",
       "      <th>antiinfective_IV_diag</th>\n",
       "      <th>antiinfective_diag</th>\n",
       "      <th>antihyperglycemic_diag</th>\n",
       "      <th>ppi_diag</th>\n",
       "      <th>antidepressant_diag</th>\n",
       "      <th>bta_diag</th>\n",
       "      <th>thyroid_diag</th>\n",
       "      <th>is_diag</th>\n",
       "    </tr>\n",
       "  </thead>\n",
       "  <tbody>\n",
       "    <tr>\n",
       "      <th>198</th>\n",
       "      <td>F495852443002</td>\n",
       "      <td>0.0</td>\n",
       "      <td>0.0</td>\n",
       "      <td>0.0</td>\n",
       "      <td>0.0</td>\n",
       "      <td>0.0</td>\n",
       "      <td>0.0</td>\n",
       "      <td>0.0</td>\n",
       "      <td>0.0</td>\n",
       "      <td>0.0</td>\n",
       "      <td>0.0</td>\n",
       "      <td>0.0</td>\n",
       "      <td>0.0</td>\n",
       "      <td>0.0</td>\n",
       "    </tr>\n",
       "    <tr>\n",
       "      <th>22664</th>\n",
       "      <td>F831D8DFC49FA</td>\n",
       "      <td>0.0</td>\n",
       "      <td>0.0</td>\n",
       "      <td>0.0</td>\n",
       "      <td>0.0</td>\n",
       "      <td>0.0</td>\n",
       "      <td>0.0</td>\n",
       "      <td>0.0</td>\n",
       "      <td>0.0</td>\n",
       "      <td>0.0</td>\n",
       "      <td>0.0</td>\n",
       "      <td>0.0</td>\n",
       "      <td>0.0</td>\n",
       "      <td>0.0</td>\n",
       "    </tr>\n",
       "    <tr>\n",
       "      <th>605</th>\n",
       "      <td>F28B7939FC641</td>\n",
       "      <td>0.0</td>\n",
       "      <td>0.0</td>\n",
       "      <td>0.0</td>\n",
       "      <td>0.0</td>\n",
       "      <td>0.0</td>\n",
       "      <td>0.0</td>\n",
       "      <td>0.0</td>\n",
       "      <td>0.0</td>\n",
       "      <td>0.0</td>\n",
       "      <td>0.0</td>\n",
       "      <td>0.0</td>\n",
       "      <td>0.0</td>\n",
       "      <td>0.0</td>\n",
       "    </tr>\n",
       "    <tr>\n",
       "      <th>22251</th>\n",
       "      <td>F4C93DC17E037</td>\n",
       "      <td>0.0</td>\n",
       "      <td>0.0</td>\n",
       "      <td>0.0</td>\n",
       "      <td>0.0</td>\n",
       "      <td>0.0</td>\n",
       "      <td>0.0</td>\n",
       "      <td>0.0</td>\n",
       "      <td>0.0</td>\n",
       "      <td>0.0</td>\n",
       "      <td>0.0</td>\n",
       "      <td>0.0</td>\n",
       "      <td>0.0</td>\n",
       "      <td>0.0</td>\n",
       "    </tr>\n",
       "    <tr>\n",
       "      <th>17090</th>\n",
       "      <td>F06CD1C9F1186</td>\n",
       "      <td>0.0</td>\n",
       "      <td>0.0</td>\n",
       "      <td>0.0</td>\n",
       "      <td>0.0</td>\n",
       "      <td>0.0</td>\n",
       "      <td>0.0</td>\n",
       "      <td>0.0</td>\n",
       "      <td>0.0</td>\n",
       "      <td>0.0</td>\n",
       "      <td>0.0</td>\n",
       "      <td>0.0</td>\n",
       "      <td>0.0</td>\n",
       "      <td>0.0</td>\n",
       "    </tr>\n",
       "  </tbody>\n",
       "</table>\n",
       "</div>"
      ],
      "text/plain": [
       "           PatientID  steroid_diag  opioid_PO_diag  nonopioid_PO_diag  \\\n",
       "198    F495852443002           0.0             0.0                0.0   \n",
       "22664  F831D8DFC49FA           0.0             0.0                0.0   \n",
       "605    F28B7939FC641           0.0             0.0                0.0   \n",
       "22251  F4C93DC17E037           0.0             0.0                0.0   \n",
       "17090  F06CD1C9F1186           0.0             0.0                0.0   \n",
       "\n",
       "       pain_IV_diag  ac_diag  antiinfective_IV_diag  antiinfective_diag  \\\n",
       "198             0.0      0.0                    0.0                 0.0   \n",
       "22664           0.0      0.0                    0.0                 0.0   \n",
       "605             0.0      0.0                    0.0                 0.0   \n",
       "22251           0.0      0.0                    0.0                 0.0   \n",
       "17090           0.0      0.0                    0.0                 0.0   \n",
       "\n",
       "       antihyperglycemic_diag  ppi_diag  antidepressant_diag  bta_diag  \\\n",
       "198                       0.0       0.0                  0.0       0.0   \n",
       "22664                     0.0       0.0                  0.0       0.0   \n",
       "605                       0.0       0.0                  0.0       0.0   \n",
       "22251                     0.0       0.0                  0.0       0.0   \n",
       "17090                     0.0       0.0                  0.0       0.0   \n",
       "\n",
       "       thyroid_diag  is_diag  \n",
       "198             0.0      0.0  \n",
       "22664           0.0      0.0  \n",
       "605             0.0      0.0  \n",
       "22251           0.0      0.0  \n",
       "17090           0.0      0.0  "
      ]
     },
     "execution_count": 262,
     "metadata": {},
     "output_type": "execute_result"
    }
   ],
   "source": [
    "med_admin_wide.sample(5)"
   ]
  },
  {
   "cell_type": "code",
   "execution_count": 263,
   "id": "60227f68",
   "metadata": {},
   "outputs": [],
   "source": [
    "med_admin_wide = pd.merge(med_admin_wide, med_admin_adjuv, on = 'PatientID', how = 'left').fillna(0)"
   ]
  },
  {
   "cell_type": "code",
   "execution_count": 264,
   "id": "cac7abac",
   "metadata": {},
   "outputs": [
    {
     "data": {
      "text/plain": [
       "adjuv                     0.150007\n",
       "steroid_diag              0.047610\n",
       "pain_IV_diag              0.040434\n",
       "antiinfective_IV_diag     0.036864\n",
       "opioid_PO_diag            0.026373\n",
       "nonopioid_PO_diag         0.024188\n",
       "ppi_diag                  0.016101\n",
       "antiinfective_diag        0.010345\n",
       "antihyperglycemic_diag    0.007030\n",
       "antidepressant_diag       0.006921\n",
       "ac_diag                   0.005573\n",
       "bta_diag                  0.003971\n",
       "thyroid_diag              0.002951\n",
       "is_diag                   0.000182\n",
       "dtype: float64"
      ]
     },
     "execution_count": 264,
     "metadata": {},
     "output_type": "execute_result"
    }
   ],
   "source": [
    "# Percent of patients receiving relevant medications at time of metastatic diagnosis. \n",
    "(med_admin_wide.iloc[:, 1:].sum()/len(med_admin_wide)).sort_values(ascending = False)"
   ]
  },
  {
   "cell_type": "code",
   "execution_count": 265,
   "id": "0015de2e",
   "metadata": {},
   "outputs": [
    {
     "name": "stdout",
     "output_type": "stream",
     "text": [
      "Variable              Type         Data/Info\n",
      "--------------------------------------------\n",
      "demographics          DataFrame               PatientID gend<...>n[27452 rows x 7 columns]\n",
      "enhanced_met          DataFrame               PatientID diag<...>n[27452 rows x 8 columns]\n",
      "line_therapy          DataFrame               PatientID     <...>n[48722 rows x 9 columns]\n",
      "line_therapy_1        DataFrame               PatientID     <...>n[20377 rows x 9 columns]\n",
      "med_admin             DataFrame                 PatientID   <...>465754 rows x 15 columns]\n",
      "med_admin_adjuv       DataFrame                 PatientID  a<...>\\n[4118 rows x 2 columns]\n",
      "med_admin_wide        DataFrame               PatientID  ste<...>[27452 rows x 15 columns]\n",
      "med_admin_win         DataFrame                 PatientID   <...>[95685 rows x 28 columns]\n",
      "med_admin_win_chemo   DataFrame                 PatientID   <...>404548 rows x 16 columns]\n",
      "mortality             DataFrame               PatientID  dea<...>n[27452 rows x 3 columns]\n",
      "telemedicine          DataFrame               PatientID     <...>n[23327 rows x 3 columns]\n",
      "visit                 DataFrame                 PatientID   <...>2010098 rows x 7 columns]\n"
     ]
    }
   ],
   "source": [
    "%whos DataFrame"
   ]
  },
  {
   "cell_type": "code",
   "execution_count": 266,
   "id": "c6796f48",
   "metadata": {},
   "outputs": [],
   "source": [
    "# Keep demographics, enhanced_met, med_admin_wide, and mortality\n",
    "del line_therapy\n",
    "del line_therapy_1\n",
    "del med_admin\n",
    "del med_admin_adjuv\n",
    "del med_admin_win\n",
    "del med_admin_win_chemo"
   ]
  },
  {
   "cell_type": "markdown",
   "id": "adbbd0ed",
   "metadata": {},
   "source": [
    "### 5. Enhanced_MetCRCBiomarkers"
   ]
  },
  {
   "cell_type": "code",
   "execution_count": 267,
   "id": "1ab6e322",
   "metadata": {},
   "outputs": [],
   "source": [
    "biomarkers = pd.read_csv('Enhanced_MetCRCBiomarkers.csv')"
   ]
  },
  {
   "cell_type": "code",
   "execution_count": 268,
   "id": "5cce73c2",
   "metadata": {},
   "outputs": [],
   "source": [
    "biomarkers = biomarkers[biomarkers['PatientID'].isin(train_IDs)]"
   ]
  },
  {
   "cell_type": "code",
   "execution_count": 269,
   "id": "f915b909",
   "metadata": {},
   "outputs": [
    {
     "data": {
      "text/plain": [
       "(97310, 15)"
      ]
     },
     "execution_count": 269,
     "metadata": {},
     "output_type": "execute_result"
    }
   ],
   "source": [
    "biomarkers.shape"
   ]
  },
  {
   "cell_type": "code",
   "execution_count": 270,
   "id": "3b43eedb",
   "metadata": {},
   "outputs": [
    {
     "data": {
      "text/html": [
       "<div>\n",
       "<style scoped>\n",
       "    .dataframe tbody tr th:only-of-type {\n",
       "        vertical-align: middle;\n",
       "    }\n",
       "\n",
       "    .dataframe tbody tr th {\n",
       "        vertical-align: top;\n",
       "    }\n",
       "\n",
       "    .dataframe thead th {\n",
       "        text-align: right;\n",
       "    }\n",
       "</style>\n",
       "<table border=\"1\" class=\"dataframe\">\n",
       "  <thead>\n",
       "    <tr style=\"text-align: right;\">\n",
       "      <th></th>\n",
       "      <th>PatientID</th>\n",
       "      <th>BiomarkerName</th>\n",
       "      <th>SpecimenCollectedDate</th>\n",
       "      <th>SpecimenReceivedDate</th>\n",
       "      <th>ResultDate</th>\n",
       "      <th>BiomarkerStatus</th>\n",
       "      <th>BiomarkerDetail</th>\n",
       "      <th>SampleType</th>\n",
       "      <th>TissueCollectionSite</th>\n",
       "      <th>TestType</th>\n",
       "      <th>LabName</th>\n",
       "      <th>MLH1Result</th>\n",
       "      <th>MSH2Result</th>\n",
       "      <th>MSH6Result</th>\n",
       "      <th>PMS2Result</th>\n",
       "    </tr>\n",
       "  </thead>\n",
       "  <tbody>\n",
       "    <tr>\n",
       "      <th>35840</th>\n",
       "      <td>F0171CD4E7D5D</td>\n",
       "      <td>MMR/MSI</td>\n",
       "      <td>2015-11-02</td>\n",
       "      <td>2015-11-04</td>\n",
       "      <td>2018-06-11</td>\n",
       "      <td>Normal MMR protein expression (No loss of nucl...</td>\n",
       "      <td>NaN</td>\n",
       "      <td>Tissue</td>\n",
       "      <td>Primary site</td>\n",
       "      <td>IHC</td>\n",
       "      <td>Other</td>\n",
       "      <td>Normal expression</td>\n",
       "      <td>Normal expression</td>\n",
       "      <td>Normal expression</td>\n",
       "      <td>Normal expression</td>\n",
       "    </tr>\n",
       "    <tr>\n",
       "      <th>514</th>\n",
       "      <td>FD699BEEC0718</td>\n",
       "      <td>MMR/MSI</td>\n",
       "      <td>2017-11-02</td>\n",
       "      <td>2017-11-14</td>\n",
       "      <td>2017-11-27</td>\n",
       "      <td>Normal MMR protein expression (No loss of nucl...</td>\n",
       "      <td>NaN</td>\n",
       "      <td>Tissue</td>\n",
       "      <td>Metastatic site</td>\n",
       "      <td>IHC</td>\n",
       "      <td>Caris Life Sciences</td>\n",
       "      <td>Normal expression</td>\n",
       "      <td>Normal expression</td>\n",
       "      <td>Normal expression</td>\n",
       "      <td>Normal expression</td>\n",
       "    </tr>\n",
       "    <tr>\n",
       "      <th>86211</th>\n",
       "      <td>F9C9A507310EC</td>\n",
       "      <td>NRAS</td>\n",
       "      <td>NaN</td>\n",
       "      <td>NaN</td>\n",
       "      <td>NaN</td>\n",
       "      <td>Mutation negative</td>\n",
       "      <td>NaN</td>\n",
       "      <td>Tissue</td>\n",
       "      <td>NaN</td>\n",
       "      <td>Unknown</td>\n",
       "      <td>Unknown</td>\n",
       "      <td>NaN</td>\n",
       "      <td>NaN</td>\n",
       "      <td>NaN</td>\n",
       "      <td>NaN</td>\n",
       "    </tr>\n",
       "    <tr>\n",
       "      <th>65817</th>\n",
       "      <td>F39E97AAFA1BE</td>\n",
       "      <td>MMR/MSI</td>\n",
       "      <td>NaN</td>\n",
       "      <td>NaN</td>\n",
       "      <td>2021-07-14</td>\n",
       "      <td>Normal MMR protein expression (No loss of nucl...</td>\n",
       "      <td>NaN</td>\n",
       "      <td>Tissue</td>\n",
       "      <td>Unknown site</td>\n",
       "      <td>IHC</td>\n",
       "      <td>Other</td>\n",
       "      <td>Normal expression</td>\n",
       "      <td>Normal expression</td>\n",
       "      <td>Normal expression</td>\n",
       "      <td>Normal expression</td>\n",
       "    </tr>\n",
       "    <tr>\n",
       "      <th>109759</th>\n",
       "      <td>F2713FA04A17A</td>\n",
       "      <td>KRAS</td>\n",
       "      <td>2019-09-05</td>\n",
       "      <td>2021-08-05</td>\n",
       "      <td>2021-08-13</td>\n",
       "      <td>Mutation positive</td>\n",
       "      <td>NaN</td>\n",
       "      <td>Tissue</td>\n",
       "      <td>NaN</td>\n",
       "      <td>NGS</td>\n",
       "      <td>Foundation Medicine</td>\n",
       "      <td>NaN</td>\n",
       "      <td>NaN</td>\n",
       "      <td>NaN</td>\n",
       "      <td>NaN</td>\n",
       "    </tr>\n",
       "  </tbody>\n",
       "</table>\n",
       "</div>"
      ],
      "text/plain": [
       "            PatientID BiomarkerName SpecimenCollectedDate  \\\n",
       "35840   F0171CD4E7D5D       MMR/MSI            2015-11-02   \n",
       "514     FD699BEEC0718       MMR/MSI            2017-11-02   \n",
       "86211   F9C9A507310EC          NRAS                   NaN   \n",
       "65817   F39E97AAFA1BE       MMR/MSI                   NaN   \n",
       "109759  F2713FA04A17A          KRAS            2019-09-05   \n",
       "\n",
       "       SpecimenReceivedDate  ResultDate  \\\n",
       "35840            2015-11-04  2018-06-11   \n",
       "514              2017-11-14  2017-11-27   \n",
       "86211                   NaN         NaN   \n",
       "65817                   NaN  2021-07-14   \n",
       "109759           2021-08-05  2021-08-13   \n",
       "\n",
       "                                          BiomarkerStatus BiomarkerDetail  \\\n",
       "35840   Normal MMR protein expression (No loss of nucl...             NaN   \n",
       "514     Normal MMR protein expression (No loss of nucl...             NaN   \n",
       "86211                                   Mutation negative             NaN   \n",
       "65817   Normal MMR protein expression (No loss of nucl...             NaN   \n",
       "109759                                  Mutation positive             NaN   \n",
       "\n",
       "       SampleType TissueCollectionSite TestType              LabName  \\\n",
       "35840      Tissue         Primary site      IHC                Other   \n",
       "514        Tissue      Metastatic site      IHC  Caris Life Sciences   \n",
       "86211      Tissue                  NaN  Unknown              Unknown   \n",
       "65817      Tissue         Unknown site      IHC                Other   \n",
       "109759     Tissue                  NaN      NGS  Foundation Medicine   \n",
       "\n",
       "               MLH1Result         MSH2Result         MSH6Result  \\\n",
       "35840   Normal expression  Normal expression  Normal expression   \n",
       "514     Normal expression  Normal expression  Normal expression   \n",
       "86211                 NaN                NaN                NaN   \n",
       "65817   Normal expression  Normal expression  Normal expression   \n",
       "109759                NaN                NaN                NaN   \n",
       "\n",
       "               PMS2Result  \n",
       "35840   Normal expression  \n",
       "514     Normal expression  \n",
       "86211                 NaN  \n",
       "65817   Normal expression  \n",
       "109759                NaN  "
      ]
     },
     "execution_count": 270,
     "metadata": {},
     "output_type": "execute_result"
    }
   ],
   "source": [
    "biomarkers.sample(5)"
   ]
  },
  {
   "cell_type": "code",
   "execution_count": 271,
   "id": "e1583aef",
   "metadata": {},
   "outputs": [
    {
     "data": {
      "text/plain": [
       "BiomarkerName  BiomarkerStatus                                                             \n",
       "BRAF           Mutation negative                                                               0.848573\n",
       "               Mutation positive                                                               0.097479\n",
       "               Unsuccessful/indeterminate test                                                 0.031906\n",
       "               Results pending                                                                 0.014846\n",
       "               Unknown                                                                         0.007196\n",
       "KRAS           Mutation negative                                                               0.513574\n",
       "               Mutation positive                                                               0.437047\n",
       "               Unsuccessful/indeterminate test                                                 0.029928\n",
       "               Results pending                                                                 0.013556\n",
       "               Unknown                                                                         0.005895\n",
       "MMR/MSI        Normal MMR protein expression (No loss of nuclear expression of MMR protein)    0.533682\n",
       "               MSS                                                                             0.299270\n",
       "               Unknown                                                                         0.046023\n",
       "               Unsuccessful/indeterminate test                                                 0.042589\n",
       "               Loss of MMR protein expression (MMR protein deficiency found)                   0.036682\n",
       "               MSI-H                                                                           0.018248\n",
       "               Results pending                                                                 0.013856\n",
       "               MSI-Ambiguous                                                                   0.003773\n",
       "               MSI-L                                                                           0.003186\n",
       "               Equivocal                                                                       0.002536\n",
       "               Other                                                                           0.000155\n",
       "NRAS           Mutation negative                                                               0.900195\n",
       "               Mutation positive                                                               0.044328\n",
       "               Unsuccessful/indeterminate test                                                 0.033286\n",
       "               Results pending                                                                 0.014235\n",
       "               Unknown                                                                         0.007956\n",
       "Name: BiomarkerStatus, dtype: float64"
      ]
     },
     "execution_count": 271,
     "metadata": {},
     "output_type": "execute_result"
    }
   ],
   "source": [
    "biomarkers.groupby('BiomarkerName')['BiomarkerStatus'].value_counts(normalize = True, dropna = False)"
   ]
  },
  {
   "cell_type": "code",
   "execution_count": 272,
   "id": "f629cb75",
   "metadata": {},
   "outputs": [
    {
     "data": {
      "text/plain": [
       "V600E BRAF mutation      0.760971\n",
       "Other mutation type      0.159009\n",
       "Unknown mutation type    0.076923\n",
       "V600K BRAF mutation      0.003098\n",
       "Name: BiomarkerDetail, dtype: float64"
      ]
     },
     "execution_count": 272,
     "metadata": {},
     "output_type": "execute_result"
    }
   ],
   "source": [
    "(\n",
    "    biomarkers\n",
    "    .query('BiomarkerName == \"BRAF\"')\n",
    "    .query('BiomarkerStatus == \"Mutation positive\"')\n",
    "    .BiomarkerDetail.value_counts(normalize = True)\n",
    ")"
   ]
  },
  {
   "cell_type": "markdown",
   "id": "58b780e3",
   "metadata": {},
   "source": [
    "**The Biomarkers dataframe is in a long format. The goal is to build a single-row-per-patient dataframe with columns reflecting a patient's biomarker status within a predefined elgibility window. For this project, the elgibility window is defined as negative infinity to +30 days from time of diagnosis of metastatic disease (ie., index date).** \n",
    "\n",
    "**Regarding biomarker date information, result date is the date the biomarker result was first reported, and so represents the date on which the clinician would be expected to have information about the patient’s biomarker status to inform the course of treatment. Flatiron recommends using result date as the relevant biomarker test date and using specimen received date as the proxy when result date is not available. The gaps between collected date and either received or result date are substantially more variable.**\n",
    "\n",
    "**We'll begin by imputing specimen received date when result date is missing. Then, we'll select all biomarkers that fall within the elbility window.**"
   ]
  },
  {
   "cell_type": "code",
   "execution_count": 273,
   "id": "e3a66395",
   "metadata": {},
   "outputs": [
    {
     "data": {
      "text/plain": [
       "0.037303463158976466"
      ]
     },
     "execution_count": 273,
     "metadata": {},
     "output_type": "execute_result"
    }
   ],
   "source": [
    "biomarkers['SpecimenCollectedDate'].isna().sum()/biomarkers.shape[0]"
   ]
  },
  {
   "cell_type": "code",
   "execution_count": 274,
   "id": "83189f68",
   "metadata": {},
   "outputs": [
    {
     "data": {
      "text/plain": [
       "0.1716267598396876"
      ]
     },
     "execution_count": 274,
     "metadata": {},
     "output_type": "execute_result"
    }
   ],
   "source": [
    "biomarkers['SpecimenReceivedDate'].isna().sum()/biomarkers.shape[0]"
   ]
  },
  {
   "cell_type": "code",
   "execution_count": 275,
   "id": "61d47543",
   "metadata": {},
   "outputs": [
    {
     "data": {
      "text/plain": [
       "0.06675572911314356"
      ]
     },
     "execution_count": 275,
     "metadata": {},
     "output_type": "execute_result"
    }
   ],
   "source": [
    "biomarkers['ResultDate'].isna().sum()/biomarkers.shape[0]"
   ]
  },
  {
   "cell_type": "code",
   "execution_count": 276,
   "id": "372901b1",
   "metadata": {},
   "outputs": [],
   "source": [
    "biomarkers.loc[:, 'ResultDate'] = pd.to_datetime(biomarkers['ResultDate'])"
   ]
  },
  {
   "cell_type": "code",
   "execution_count": 277,
   "id": "e57c7bc3",
   "metadata": {},
   "outputs": [],
   "source": [
    "biomarkers.loc[:, 'SpecimenReceivedDate'] = pd.to_datetime(biomarkers['SpecimenReceivedDate'])"
   ]
  },
  {
   "cell_type": "code",
   "execution_count": 278,
   "id": "f95a3809",
   "metadata": {},
   "outputs": [
    {
     "data": {
      "text/plain": [
       "0.11129926108374384"
      ]
     },
     "execution_count": 278,
     "metadata": {},
     "output_type": "execute_result"
    }
   ],
   "source": [
    "# Percenage of missing 'ResultDate' that can be replaced by 'SpecimenReceivedDate'. \n",
    "(\n",
    "    len(biomarkers[(biomarkers['ResultDate'].isna()) & (biomarkers['SpecimenReceivedDate'].notna())])\n",
    "    /len(biomarkers[biomarkers['ResultDate'].isna()])\n",
    ")"
   ]
  },
  {
   "cell_type": "code",
   "execution_count": 279,
   "id": "d095aa1d",
   "metadata": {},
   "outputs": [],
   "source": [
    "# Replace missing result date with specimen received date. \n",
    "biomarkers.loc[:, 'result_date'] = (\n",
    "    np.where(biomarkers['ResultDate'].isna(), biomarkers['SpecimenReceivedDate'], biomarkers['ResultDate'])\n",
    ")"
   ]
  },
  {
   "cell_type": "code",
   "execution_count": 280,
   "id": "56a52108",
   "metadata": {},
   "outputs": [
    {
     "data": {
      "text/plain": [
       "0.059325865789744116"
      ]
     },
     "execution_count": 280,
     "metadata": {},
     "output_type": "execute_result"
    }
   ],
   "source": [
    "# Final percent of biomarkers without a result date and thus will not be included. \n",
    "biomarkers['result_date'].isna().sum()/biomarkers.shape[0]"
   ]
  },
  {
   "cell_type": "code",
   "execution_count": 281,
   "id": "d9b9c9d0",
   "metadata": {},
   "outputs": [],
   "source": [
    "biomarkers = pd.merge(biomarkers, enhanced_met[['PatientID', 'met_date']], on = 'PatientID', how = 'left')"
   ]
  },
  {
   "cell_type": "code",
   "execution_count": 282,
   "id": "a2dc2211",
   "metadata": {},
   "outputs": [],
   "source": [
    "# Create new variable that captures difference in days between result date and metastatic diagnosis. \n",
    "biomarkers.loc[:, 'bio_date_diff'] = (biomarkers['result_date'] - biomarkers['met_date']).dt.days"
   ]
  },
  {
   "cell_type": "code",
   "execution_count": 283,
   "id": "40a2fe0e",
   "metadata": {},
   "outputs": [],
   "source": [
    "# Select all patients with biomarkers < +30 from metastatic diagnosis. \n",
    "biomarker_win = biomarkers[biomarkers['bio_date_diff'] <= 30]"
   ]
  },
  {
   "cell_type": "markdown",
   "id": "9dd4b1ff",
   "metadata": {},
   "source": [
    "**The next step is defining positive and negative staus for each biomarker. Patients with at least one confirmed positive test result for the biomarker of interest within the eligibility window will be considered “ever-positive”. This will include patients who may have confirmed negative results before and/or after a positive result within the eligibility window. A patient with an \"ever-positive\" biomarker during the elgibility window will have that biomarker labeled as positive.**\n",
    "\n",
    "**In contrast, patients with at least one confirmed negative test result for the biomarker of interest, and no confirmed positive test results for the same biomarker within the eligibility window may be considered “only-negative”. A patient with an \"only-negative\" biomarker during the elgibility window will have that biomarker labeled as negative.**\n",
    "\n",
    "**Lastly, if the biomarker is neither positive or negative, then it will be labeled as unknown.**"
   ]
  },
  {
   "cell_type": "code",
   "execution_count": 284,
   "id": "cd8ba087",
   "metadata": {},
   "outputs": [
    {
     "name": "stderr",
     "output_type": "stream",
     "text": [
      "/Applications/anaconda3/lib/python3.7/site-packages/pandas/core/indexing.py:1667: SettingWithCopyWarning: \n",
      "A value is trying to be set on a copy of a slice from a DataFrame.\n",
      "Try using .loc[row_indexer,col_indexer] = value instead\n",
      "\n",
      "See the caveats in the documentation: https://pandas.pydata.org/pandas-docs/stable/user_guide/indexing.html#returning-a-view-versus-a-copy\n",
      "  self.obj[key] = value\n"
     ]
    }
   ],
   "source": [
    "# Create indicator variable where where 2 if positive, 1 if negative, and 0 if unknown or missing. \n",
    "conditions = [\n",
    "    (biomarker_win['BiomarkerStatus'] == 'Mutation positive') | \n",
    "    (biomarker_win['BiomarkerStatus'] == 'Loss of MMR protein expression (MMR protein deficiency found)') | \n",
    "    (biomarker_win['BiomarkerStatus'] == 'MSI-H'), \n",
    "    (biomarker_win['BiomarkerStatus'] == 'Mutation negative') | \n",
    "    (biomarker_win['BiomarkerStatus'] == 'Normal MMR protein expression (No loss of nuclear expression of MMR protein)') |\n",
    "    (biomarker_win['BiomarkerStatus'] == 'MSS') | \n",
    "    (biomarker_win['BiomarkerStatus'] == 'MSI-L') |\n",
    "    (biomarker_win['BiomarkerStatus'] == 'MSS-Ambiguous') |\n",
    "    (biomarker_win['BiomarkerStatus'] == 'Equivocal')\n",
    "]\n",
    "\n",
    "choices = [2,1]\n",
    "biomarker_win.loc[:, 'bio_status'] = np.select(conditions, choices, default = 0)"
   ]
  },
  {
   "cell_type": "code",
   "execution_count": 285,
   "id": "9124aaff",
   "metadata": {},
   "outputs": [],
   "source": [
    "# Select highest number biomarker status among duplicates then pivot. \n",
    "biomarker_wide = (\n",
    "    biomarker_win\n",
    "    .sort_values(by = ['PatientID', 'BiomarkerName', 'bio_status'], ascending = False)\n",
    "    .drop_duplicates(subset = ['PatientID', 'BiomarkerName'], keep = 'first')\n",
    "    .pivot(index = 'PatientID', columns = 'BiomarkerName', values = 'bio_status')\n",
    "    .reset_index()\n",
    ")\n",
    "biomarker_wide.columns.name = None\n",
    "biomarker_wide = biomarker_wide.rename(columns = {'MMR/MSI': 'dMMR_MSIh'})"
   ]
  },
  {
   "cell_type": "code",
   "execution_count": 286,
   "id": "b39c9673",
   "metadata": {},
   "outputs": [
    {
     "data": {
      "text/plain": [
       "(15024, 15024)"
      ]
     },
     "execution_count": 286,
     "metadata": {},
     "output_type": "execute_result"
    }
   ],
   "source": [
    "row_ID(biomarker_wide)"
   ]
  },
  {
   "cell_type": "code",
   "execution_count": 287,
   "id": "7085be0d",
   "metadata": {},
   "outputs": [],
   "source": [
    "biomarker_wide = (\n",
    "    biomarker_wide\n",
    "    .append(\n",
    "        pd.Series(train_IDs)[~pd.Series(train_IDs).isin(biomarker_wide['PatientID'])].to_frame(name = 'PatientID'),\n",
    "        sort = False)\n",
    ")"
   ]
  },
  {
   "cell_type": "code",
   "execution_count": 288,
   "id": "23e9f61f",
   "metadata": {},
   "outputs": [
    {
     "data": {
      "text/plain": [
       "(27452, 27452)"
      ]
     },
     "execution_count": 288,
     "metadata": {},
     "output_type": "execute_result"
    }
   ],
   "source": [
    "row_ID(biomarker_wide)"
   ]
  },
  {
   "cell_type": "code",
   "execution_count": 289,
   "id": "b8555709",
   "metadata": {},
   "outputs": [],
   "source": [
    "biomarker_wide['BRAF'] = (\n",
    "    biomarker_wide['BRAF'].replace({\n",
    "        2: 'mutated',\n",
    "        1: 'wild-type',\n",
    "        0: 'unknown',\n",
    "        np.nan: 'unknown'})\n",
    ")"
   ]
  },
  {
   "cell_type": "code",
   "execution_count": 290,
   "id": "cbc1ccdc",
   "metadata": {},
   "outputs": [],
   "source": [
    "biomarker_wide['KRAS'] = (\n",
    "    biomarker_wide['KRAS'].replace({\n",
    "        2: 'mutated',\n",
    "        1: 'wild-type',\n",
    "        0: 'unknown',\n",
    "        np.nan: 'unknown'})\n",
    ")"
   ]
  },
  {
   "cell_type": "code",
   "execution_count": 291,
   "id": "ef2b9a6a",
   "metadata": {},
   "outputs": [],
   "source": [
    "biomarker_wide['dMMR_MSIh'] = (\n",
    "    biomarker_wide['dMMR_MSIh'].replace({\n",
    "        2: 'yes',\n",
    "        1: 'no',\n",
    "        0: 'unknown',\n",
    "        np.nan: 'unknown'})\n",
    ")"
   ]
  },
  {
   "cell_type": "code",
   "execution_count": 292,
   "id": "84125a87",
   "metadata": {},
   "outputs": [],
   "source": [
    "biomarker_wide['NRAS'] = (\n",
    "    biomarker_wide['NRAS'].replace({\n",
    "        2: 'mutated',\n",
    "        1: 'wild-type',\n",
    "        0: 'unknown',\n",
    "        np.nan: 'unknown'})\n",
    ")"
   ]
  },
  {
   "cell_type": "code",
   "execution_count": 293,
   "id": "90984fa2",
   "metadata": {},
   "outputs": [],
   "source": [
    "# IDs of patients with mutation positive BRAF that is V600E. \n",
    "v600e_id = (\n",
    "    biomarker_win\n",
    "    .query('BiomarkerName == \"BRAF\"')\n",
    "    .query('BiomarkerStatus == \"Mutation positive\"')\n",
    "    .query('BiomarkerDetail == \"V600E BRAF mutation\"')\n",
    "    .PatientID\n",
    ")"
   ]
  },
  {
   "cell_type": "code",
   "execution_count": 294,
   "id": "190b072e",
   "metadata": {},
   "outputs": [],
   "source": [
    "# Identify patients with V600E mutated BRAF vs. other. \n",
    "conditions = [\n",
    "    (biomarker_wide['PatientID'].isin(v600e_id)),\n",
    "    (~biomarker_wide['PatientID'].isin(v600e_id)) & (biomarker_wide['BRAF'] == 'mutated')\n",
    "]\n",
    "\n",
    "choices = ['mutated V600E', 'mutated other']\n",
    "biomarker_wide.loc[:, 'BRAF_n'] = np.select(conditions, choices, default = biomarker_wide['BRAF'])"
   ]
  },
  {
   "cell_type": "code",
   "execution_count": 295,
   "id": "96464f1e",
   "metadata": {},
   "outputs": [],
   "source": [
    "biomarker_wide = (\n",
    "    biomarker_wide\n",
    "    .drop(columns = ['BRAF'])\n",
    "    .rename(columns = {'BRAF_n': 'BRAF'}))"
   ]
  },
  {
   "cell_type": "code",
   "execution_count": 296,
   "id": "033f7736",
   "metadata": {},
   "outputs": [
    {
     "data": {
      "text/html": [
       "<div>\n",
       "<style scoped>\n",
       "    .dataframe tbody tr th:only-of-type {\n",
       "        vertical-align: middle;\n",
       "    }\n",
       "\n",
       "    .dataframe tbody tr th {\n",
       "        vertical-align: top;\n",
       "    }\n",
       "\n",
       "    .dataframe thead th {\n",
       "        text-align: right;\n",
       "    }\n",
       "</style>\n",
       "<table border=\"1\" class=\"dataframe\">\n",
       "  <thead>\n",
       "    <tr style=\"text-align: right;\">\n",
       "      <th></th>\n",
       "      <th>PatientID</th>\n",
       "      <th>KRAS</th>\n",
       "      <th>dMMR_MSIh</th>\n",
       "      <th>NRAS</th>\n",
       "      <th>BRAF</th>\n",
       "    </tr>\n",
       "  </thead>\n",
       "  <tbody>\n",
       "    <tr>\n",
       "      <th>6190</th>\n",
       "      <td>FDC664ED38323</td>\n",
       "      <td>unknown</td>\n",
       "      <td>unknown</td>\n",
       "      <td>unknown</td>\n",
       "      <td>unknown</td>\n",
       "    </tr>\n",
       "    <tr>\n",
       "      <th>9271</th>\n",
       "      <td>F93DB32E2BC34</td>\n",
       "      <td>unknown</td>\n",
       "      <td>unknown</td>\n",
       "      <td>unknown</td>\n",
       "      <td>unknown</td>\n",
       "    </tr>\n",
       "    <tr>\n",
       "      <th>14615</th>\n",
       "      <td>F3B9D3266CD0E</td>\n",
       "      <td>unknown</td>\n",
       "      <td>unknown</td>\n",
       "      <td>unknown</td>\n",
       "      <td>unknown</td>\n",
       "    </tr>\n",
       "    <tr>\n",
       "      <th>16659</th>\n",
       "      <td>F3635957BD843</td>\n",
       "      <td>unknown</td>\n",
       "      <td>unknown</td>\n",
       "      <td>unknown</td>\n",
       "      <td>unknown</td>\n",
       "    </tr>\n",
       "    <tr>\n",
       "      <th>6536</th>\n",
       "      <td>F6E6E59998780</td>\n",
       "      <td>unknown</td>\n",
       "      <td>no</td>\n",
       "      <td>unknown</td>\n",
       "      <td>unknown</td>\n",
       "    </tr>\n",
       "  </tbody>\n",
       "</table>\n",
       "</div>"
      ],
      "text/plain": [
       "           PatientID     KRAS dMMR_MSIh     NRAS     BRAF\n",
       "6190   FDC664ED38323  unknown   unknown  unknown  unknown\n",
       "9271   F93DB32E2BC34  unknown   unknown  unknown  unknown\n",
       "14615  F3B9D3266CD0E  unknown   unknown  unknown  unknown\n",
       "16659  F3635957BD843  unknown   unknown  unknown  unknown\n",
       "6536   F6E6E59998780  unknown        no  unknown  unknown"
      ]
     },
     "execution_count": 296,
     "metadata": {},
     "output_type": "execute_result"
    }
   ],
   "source": [
    "biomarker_wide.sample(5)"
   ]
  },
  {
   "cell_type": "code",
   "execution_count": 297,
   "id": "d9ede6b3",
   "metadata": {},
   "outputs": [
    {
     "data": {
      "text/plain": [
       "BRAF         \n",
       "unknown          0.799104\n",
       "wild-type        0.176308\n",
       "mutated V600E    0.020290\n",
       "mutated other    0.004298\n",
       "dtype: float64"
      ]
     },
     "execution_count": 297,
     "metadata": {},
     "output_type": "execute_result"
    }
   ],
   "source": [
    "biomarker_wide[['BRAF']].value_counts(normalize = True, dropna = False)"
   ]
  },
  {
   "cell_type": "code",
   "execution_count": 298,
   "id": "f0f1b1c3",
   "metadata": {},
   "outputs": [
    {
     "data": {
      "text/plain": [
       "KRAS     \n",
       "unknown      0.706433\n",
       "wild-type    0.158276\n",
       "mutated      0.135291\n",
       "dtype: float64"
      ]
     },
     "execution_count": 298,
     "metadata": {},
     "output_type": "execute_result"
    }
   ],
   "source": [
    "biomarker_wide[['KRAS']].value_counts(normalize = True, dropna = False)"
   ]
  },
  {
   "cell_type": "code",
   "execution_count": 299,
   "id": "5b9a6dc8",
   "metadata": {},
   "outputs": [
    {
     "data": {
      "text/plain": [
       "dMMR_MSIh\n",
       "unknown      0.566188\n",
       "no           0.402812\n",
       "yes          0.031000\n",
       "dtype: float64"
      ]
     },
     "execution_count": 299,
     "metadata": {},
     "output_type": "execute_result"
    }
   ],
   "source": [
    "biomarker_wide[['dMMR_MSIh']].value_counts(normalize = True, dropna = False)"
   ]
  },
  {
   "cell_type": "code",
   "execution_count": 300,
   "id": "d46d4130",
   "metadata": {},
   "outputs": [
    {
     "data": {
      "text/plain": [
       "NRAS     \n",
       "unknown      0.822017\n",
       "wild-type    0.169459\n",
       "mutated      0.008524\n",
       "dtype: float64"
      ]
     },
     "execution_count": 300,
     "metadata": {},
     "output_type": "execute_result"
    }
   ],
   "source": [
    "biomarker_wide[['NRAS']].value_counts(normalize = True, dropna = False)"
   ]
  },
  {
   "cell_type": "code",
   "execution_count": 301,
   "id": "32cb5396",
   "metadata": {},
   "outputs": [
    {
     "name": "stdout",
     "output_type": "stream",
     "text": [
      "Variable         Type         Data/Info\n",
      "---------------------------------------\n",
      "biomarker_wide   DataFrame               PatientID     <...>n[27452 rows x 5 columns]\n",
      "biomarker_win    DataFrame               PatientID Biom<...>[36045 rows x 19 columns]\n",
      "biomarkers       DataFrame               PatientID Biom<...>[97310 rows x 18 columns]\n",
      "demographics     DataFrame               PatientID gend<...>n[27452 rows x 7 columns]\n",
      "enhanced_met     DataFrame               PatientID diag<...>n[27452 rows x 8 columns]\n",
      "med_admin_wide   DataFrame               PatientID  ste<...>[27452 rows x 15 columns]\n",
      "mortality        DataFrame               PatientID  dea<...>n[27452 rows x 3 columns]\n",
      "telemedicine     DataFrame               PatientID     <...>n[23327 rows x 3 columns]\n",
      "visit            DataFrame                 PatientID   <...>2010098 rows x 7 columns]\n"
     ]
    }
   ],
   "source": [
    "%whos DataFrame"
   ]
  },
  {
   "cell_type": "code",
   "execution_count": 302,
   "id": "01bc22d1",
   "metadata": {},
   "outputs": [],
   "source": [
    "# Keep biomarker_wide, demographics, enhanced_met, med_admin_wide, and mortality\n",
    "del biomarker_win\n",
    "del biomarkers"
   ]
  },
  {
   "cell_type": "markdown",
   "id": "f6d4cf8e",
   "metadata": {},
   "source": [
    "### 6. Insurance"
   ]
  },
  {
   "cell_type": "code",
   "execution_count": 303,
   "id": "c0d8a643",
   "metadata": {},
   "outputs": [],
   "source": [
    "insurance = pd.read_csv('Insurance.csv')"
   ]
  },
  {
   "cell_type": "code",
   "execution_count": 304,
   "id": "11440f5e",
   "metadata": {},
   "outputs": [],
   "source": [
    "insurance = insurance[insurance['PatientID'].isin(train_IDs)]"
   ]
  },
  {
   "cell_type": "code",
   "execution_count": 305,
   "id": "20a3cfe4",
   "metadata": {},
   "outputs": [
    {
     "data": {
      "text/plain": [
       "(91831, 26109)"
      ]
     },
     "execution_count": 305,
     "metadata": {},
     "output_type": "execute_result"
    }
   ],
   "source": [
    "row_ID(insurance)"
   ]
  },
  {
   "cell_type": "code",
   "execution_count": 306,
   "id": "6ee280c6",
   "metadata": {},
   "outputs": [
    {
     "data": {
      "text/html": [
       "<div>\n",
       "<style scoped>\n",
       "    .dataframe tbody tr th:only-of-type {\n",
       "        vertical-align: middle;\n",
       "    }\n",
       "\n",
       "    .dataframe tbody tr th {\n",
       "        vertical-align: top;\n",
       "    }\n",
       "\n",
       "    .dataframe thead th {\n",
       "        text-align: right;\n",
       "    }\n",
       "</style>\n",
       "<table border=\"1\" class=\"dataframe\">\n",
       "  <thead>\n",
       "    <tr style=\"text-align: right;\">\n",
       "      <th></th>\n",
       "      <th>PatientID</th>\n",
       "      <th>PracticeID</th>\n",
       "      <th>PayerCategory</th>\n",
       "      <th>StartDate</th>\n",
       "      <th>EndDate</th>\n",
       "      <th>IsMedicareAdv</th>\n",
       "      <th>IsMedicareSupp</th>\n",
       "      <th>IsPartAOnly</th>\n",
       "      <th>IsPartBOnly</th>\n",
       "      <th>IsPartAandPartB</th>\n",
       "      <th>IsPartDOnly</th>\n",
       "      <th>IsManagedGovtPlan</th>\n",
       "      <th>IsManagedMedicaid</th>\n",
       "      <th>IsMedicareMedicaid</th>\n",
       "    </tr>\n",
       "  </thead>\n",
       "  <tbody>\n",
       "    <tr>\n",
       "      <th>55488</th>\n",
       "      <td>F10FDAC252C5A</td>\n",
       "      <td>S744425681ABF</td>\n",
       "      <td>Commercial Health Plan</td>\n",
       "      <td>2015-01-01</td>\n",
       "      <td>NaN</td>\n",
       "      <td>No/Unknown</td>\n",
       "      <td>No/Unknown</td>\n",
       "      <td>No/Unknown</td>\n",
       "      <td>No/Unknown</td>\n",
       "      <td>No/Unknown</td>\n",
       "      <td>No/Unknown</td>\n",
       "      <td>No/Unknown</td>\n",
       "      <td>No/Unknown</td>\n",
       "      <td>No/Unknown</td>\n",
       "    </tr>\n",
       "    <tr>\n",
       "      <th>30954</th>\n",
       "      <td>F003258EA6338</td>\n",
       "      <td>SCC8EE4FB66C3</td>\n",
       "      <td>Commercial Health Plan</td>\n",
       "      <td>2020-08-12</td>\n",
       "      <td>NaN</td>\n",
       "      <td>Yes</td>\n",
       "      <td>No/Unknown</td>\n",
       "      <td>No/Unknown</td>\n",
       "      <td>No/Unknown</td>\n",
       "      <td>No/Unknown</td>\n",
       "      <td>No/Unknown</td>\n",
       "      <td>No/Unknown</td>\n",
       "      <td>No/Unknown</td>\n",
       "      <td>No/Unknown</td>\n",
       "    </tr>\n",
       "    <tr>\n",
       "      <th>16477</th>\n",
       "      <td>FD3AC3BC6AA44</td>\n",
       "      <td>SCC8EE4FB66C3</td>\n",
       "      <td>Medicaid</td>\n",
       "      <td>2014-10-02</td>\n",
       "      <td>NaN</td>\n",
       "      <td>No/Unknown</td>\n",
       "      <td>No/Unknown</td>\n",
       "      <td>No/Unknown</td>\n",
       "      <td>No/Unknown</td>\n",
       "      <td>No/Unknown</td>\n",
       "      <td>No/Unknown</td>\n",
       "      <td>No/Unknown</td>\n",
       "      <td>No/Unknown</td>\n",
       "      <td>No/Unknown</td>\n",
       "    </tr>\n",
       "    <tr>\n",
       "      <th>63336</th>\n",
       "      <td>F83E47DB7FDCC</td>\n",
       "      <td>S10787FE9E379</td>\n",
       "      <td>Commercial Health Plan</td>\n",
       "      <td>2019-11-20</td>\n",
       "      <td>NaN</td>\n",
       "      <td>Yes</td>\n",
       "      <td>No/Unknown</td>\n",
       "      <td>No/Unknown</td>\n",
       "      <td>No/Unknown</td>\n",
       "      <td>No/Unknown</td>\n",
       "      <td>No/Unknown</td>\n",
       "      <td>No/Unknown</td>\n",
       "      <td>No/Unknown</td>\n",
       "      <td>No/Unknown</td>\n",
       "    </tr>\n",
       "    <tr>\n",
       "      <th>5793</th>\n",
       "      <td>F80630DDD80E8</td>\n",
       "      <td>S0015D5ED587A</td>\n",
       "      <td>Medicare</td>\n",
       "      <td>2015-10-27</td>\n",
       "      <td>NaN</td>\n",
       "      <td>No/Unknown</td>\n",
       "      <td>No/Unknown</td>\n",
       "      <td>No/Unknown</td>\n",
       "      <td>No/Unknown</td>\n",
       "      <td>Yes</td>\n",
       "      <td>No/Unknown</td>\n",
       "      <td>No/Unknown</td>\n",
       "      <td>No/Unknown</td>\n",
       "      <td>No/Unknown</td>\n",
       "    </tr>\n",
       "  </tbody>\n",
       "</table>\n",
       "</div>"
      ],
      "text/plain": [
       "           PatientID     PracticeID           PayerCategory   StartDate  \\\n",
       "55488  F10FDAC252C5A  S744425681ABF  Commercial Health Plan  2015-01-01   \n",
       "30954  F003258EA6338  SCC8EE4FB66C3  Commercial Health Plan  2020-08-12   \n",
       "16477  FD3AC3BC6AA44  SCC8EE4FB66C3                Medicaid  2014-10-02   \n",
       "63336  F83E47DB7FDCC  S10787FE9E379  Commercial Health Plan  2019-11-20   \n",
       "5793   F80630DDD80E8  S0015D5ED587A                Medicare  2015-10-27   \n",
       "\n",
       "      EndDate IsMedicareAdv IsMedicareSupp IsPartAOnly IsPartBOnly  \\\n",
       "55488     NaN    No/Unknown     No/Unknown  No/Unknown  No/Unknown   \n",
       "30954     NaN           Yes     No/Unknown  No/Unknown  No/Unknown   \n",
       "16477     NaN    No/Unknown     No/Unknown  No/Unknown  No/Unknown   \n",
       "63336     NaN           Yes     No/Unknown  No/Unknown  No/Unknown   \n",
       "5793      NaN    No/Unknown     No/Unknown  No/Unknown  No/Unknown   \n",
       "\n",
       "      IsPartAandPartB IsPartDOnly IsManagedGovtPlan IsManagedMedicaid  \\\n",
       "55488      No/Unknown  No/Unknown        No/Unknown        No/Unknown   \n",
       "30954      No/Unknown  No/Unknown        No/Unknown        No/Unknown   \n",
       "16477      No/Unknown  No/Unknown        No/Unknown        No/Unknown   \n",
       "63336      No/Unknown  No/Unknown        No/Unknown        No/Unknown   \n",
       "5793              Yes  No/Unknown        No/Unknown        No/Unknown   \n",
       "\n",
       "      IsMedicareMedicaid  \n",
       "55488         No/Unknown  \n",
       "30954         No/Unknown  \n",
       "16477         No/Unknown  \n",
       "63336         No/Unknown  \n",
       "5793          No/Unknown  "
      ]
     },
     "execution_count": 306,
     "metadata": {},
     "output_type": "execute_result"
    }
   ],
   "source": [
    "insurance.sample(5)"
   ]
  },
  {
   "cell_type": "code",
   "execution_count": 307,
   "id": "329d8864",
   "metadata": {},
   "outputs": [
    {
     "data": {
      "text/plain": [
       "Commercial Health Plan        46776\n",
       "Medicare                      17879\n",
       "Other Payer - Type Unknown     8521\n",
       "Patient Assistance Program     7336\n",
       "Medicaid                       5874\n",
       "Other Government Program       3088\n",
       "Self Pay                       2327\n",
       "Workers Compensation             30\n",
       "Name: PayerCategory, dtype: int64"
      ]
     },
     "execution_count": 307,
     "metadata": {},
     "output_type": "execute_result"
    }
   ],
   "source": [
    "insurance.PayerCategory.value_counts()"
   ]
  },
  {
   "cell_type": "code",
   "execution_count": 308,
   "id": "4e8c6a75",
   "metadata": {},
   "outputs": [
    {
     "data": {
      "text/plain": [
       "0.12401041042785116"
      ]
     },
     "execution_count": 308,
     "metadata": {},
     "output_type": "execute_result"
    }
   ],
   "source": [
    "# Percent missing start date. \n",
    "insurance['StartDate'].isna().sum()/len(insurance)"
   ]
  },
  {
   "cell_type": "code",
   "execution_count": 309,
   "id": "bebd9370",
   "metadata": {},
   "outputs": [
    {
     "data": {
      "text/plain": [
       "0.7070270387995339"
      ]
     },
     "execution_count": 309,
     "metadata": {},
     "output_type": "execute_result"
    }
   ],
   "source": [
    "# Percent missing end date. \n",
    "insurance['EndDate'].isna().sum()/len(insurance)"
   ]
  },
  {
   "cell_type": "code",
   "execution_count": 310,
   "id": "941dc794",
   "metadata": {},
   "outputs": [
    {
     "data": {
      "text/plain": [
       "count    26109.000000\n",
       "mean         3.517216\n",
       "std          7.303106\n",
       "min          1.000000\n",
       "25%          1.000000\n",
       "50%          2.000000\n",
       "75%          4.000000\n",
       "max        231.000000\n",
       "Name: PatientID, dtype: float64"
      ]
     },
     "execution_count": 310,
     "metadata": {},
     "output_type": "execute_result"
    }
   ],
   "source": [
    "# Brief statistics on number of insurances listed for each patient. \n",
    "(\n",
    "    insurance\n",
    "    .groupby('PatientID')['PatientID'].count()\n",
    "    .describe()\n",
    ")"
   ]
  },
  {
   "cell_type": "markdown",
   "id": "3b2021ec",
   "metadata": {},
   "source": [
    "**The insurance table contains patient insurance/payer information. Patients may have multiple payer categories concurrently. Start date is populated roughly 80% of the time, while end date is populated about 20% of the time. This mutiple-row-per-patient table will be transformed into a single-row-per-patient table. Indicator variables for each payer category active at time of metastatic diagnosis will be made as columns. Insurance will be considered active if start date is less than 30 days from advanced diagnosis regardless of end date.** "
   ]
  },
  {
   "cell_type": "code",
   "execution_count": 311,
   "id": "5ba564a6",
   "metadata": {},
   "outputs": [],
   "source": [
    "insurance.loc[:, 'StartDate'] = pd.to_datetime(insurance['StartDate'])"
   ]
  },
  {
   "cell_type": "code",
   "execution_count": 312,
   "id": "123152cc",
   "metadata": {},
   "outputs": [],
   "source": [
    "insurance = pd.merge(insurance, enhanced_met[['PatientID', 'met_date']], on = 'PatientID', how = 'left')"
   ]
  },
  {
   "cell_type": "code",
   "execution_count": 313,
   "id": "14058b6a",
   "metadata": {},
   "outputs": [
    {
     "data": {
      "text/plain": [
       "count    80443.000000\n",
       "mean      2016.285581\n",
       "std          5.893250\n",
       "min       1771.000000\n",
       "25%       2015.000000\n",
       "50%       2018.000000\n",
       "75%       2020.000000\n",
       "max       2022.000000\n",
       "Name: StartDate, dtype: float64"
      ]
     },
     "execution_count": 313,
     "metadata": {},
     "output_type": "execute_result"
    }
   ],
   "source": [
    "(insurance['StartDate']).dt.year.describe()"
   ]
  },
  {
   "cell_type": "code",
   "execution_count": 314,
   "id": "0422d032",
   "metadata": {},
   "outputs": [],
   "source": [
    "# Remove years with start dates less than 1900 which is likely a coding error. \n",
    "insurance = insurance[(insurance['StartDate']).dt.year >= 1900]"
   ]
  },
  {
   "cell_type": "code",
   "execution_count": 315,
   "id": "1749d4d1",
   "metadata": {},
   "outputs": [],
   "source": [
    "insurance.loc[:, 'insurance_date_diff'] = (insurance['StartDate'] - insurance['met_date']).dt.days"
   ]
  },
  {
   "cell_type": "code",
   "execution_count": 316,
   "id": "fd23f170",
   "metadata": {},
   "outputs": [],
   "source": [
    "insurance_win = insurance[insurance['insurance_date_diff'] <= 30]"
   ]
  },
  {
   "cell_type": "code",
   "execution_count": 317,
   "id": "4db962e2",
   "metadata": {},
   "outputs": [
    {
     "data": {
      "text/plain": [
       "(80442, 24221)"
      ]
     },
     "execution_count": 317,
     "metadata": {},
     "output_type": "execute_result"
    }
   ],
   "source": [
    "row_ID(insurance)"
   ]
  },
  {
   "cell_type": "code",
   "execution_count": 318,
   "id": "e1202476",
   "metadata": {},
   "outputs": [
    {
     "name": "stderr",
     "output_type": "stream",
     "text": [
      "/Applications/anaconda3/lib/python3.7/site-packages/pandas/core/indexing.py:1667: SettingWithCopyWarning: \n",
      "A value is trying to be set on a copy of a slice from a DataFrame.\n",
      "Try using .loc[row_indexer,col_indexer] = value instead\n",
      "\n",
      "See the caveats in the documentation: https://pandas.pydata.org/pandas-docs/stable/user_guide/indexing.html#returning-a-view-versus-a-copy\n",
      "  self.obj[key] = value\n"
     ]
    }
   ],
   "source": [
    "# Recode payer category \n",
    "conditions = [\n",
    "    (insurance_win['IsMedicareAdv'] == 'Yes') | \n",
    "    (insurance_win['IsPartAOnly'] == 'Yes') | \n",
    "    (insurance_win['IsPartBOnly'] == 'Yes') |\n",
    "    (insurance_win['IsPartAandPartB'] == 'Yes') |\n",
    "    (insurance_win['IsPartDOnly'] == 'Yes'),\n",
    "    (insurance_win['IsManagedGovtPlan'] == 'Yes'),\n",
    "    (insurance_win['IsManagedMedicaid'] == 'Yes'),\n",
    "    (insurance_win['IsMedicareMedicaid'] == 'Yes')]\n",
    "\n",
    "choices = ['Medicare', 'Other Government Program', 'Medicaid', 'medicare_medicaid']\n",
    "\n",
    "insurance_win.loc[:, 'payer_category'] = np.select(conditions, choices, insurance_win['PayerCategory'])"
   ]
  },
  {
   "cell_type": "code",
   "execution_count": 319,
   "id": "0ee24b84",
   "metadata": {},
   "outputs": [
    {
     "data": {
      "text/plain": [
       "Commercial Health Plan        0.384453\n",
       "Medicare                      0.337873\n",
       "Other Payer - Type Unknown    0.085295\n",
       "Medicaid                      0.074859\n",
       "Patient Assistance Program    0.044773\n",
       "Other Government Program      0.034286\n",
       "medicare_medicaid             0.019905\n",
       "Self Pay                      0.017970\n",
       "Workers Compensation          0.000585\n",
       "Name: payer_category, dtype: float64"
      ]
     },
     "execution_count": 319,
     "metadata": {},
     "output_type": "execute_result"
    }
   ],
   "source": [
    "insurance_win.payer_category.value_counts(normalize = True)"
   ]
  },
  {
   "cell_type": "code",
   "execution_count": 320,
   "id": "e1e9280b",
   "metadata": {},
   "outputs": [
    {
     "data": {
      "text/plain": [
       "Commercial Health Plan        0.528470\n",
       "Medicare                      0.231171\n",
       "Other Payer - Type Unknown    0.089953\n",
       "Medicaid                      0.054955\n",
       "Patient Assistance Program    0.044773\n",
       "Other Government Program      0.032123\n",
       "Self Pay                      0.017970\n",
       "Workers Compensation          0.000585\n",
       "Name: PayerCategory, dtype: float64"
      ]
     },
     "execution_count": 320,
     "metadata": {},
     "output_type": "execute_result"
    }
   ],
   "source": [
    "insurance_win.PayerCategory.value_counts(normalize = True)"
   ]
  },
  {
   "cell_type": "markdown",
   "id": "cee85bc5",
   "metadata": {},
   "source": [
    "#### Medicare"
   ]
  },
  {
   "cell_type": "code",
   "execution_count": 321,
   "id": "7fe92c7a",
   "metadata": {},
   "outputs": [],
   "source": [
    "insurance_win.loc[:, 'medicare'] = np.where(insurance_win['payer_category'] == 'Medicare', 1, 0)"
   ]
  },
  {
   "cell_type": "markdown",
   "id": "106aa320",
   "metadata": {},
   "source": [
    "#### Medicaid"
   ]
  },
  {
   "cell_type": "code",
   "execution_count": 322,
   "id": "7bab989c",
   "metadata": {},
   "outputs": [],
   "source": [
    "insurance_win.loc[:, 'medicaid'] = np.where(insurance_win['payer_category'] == 'Medicaid', 1, 0)"
   ]
  },
  {
   "cell_type": "markdown",
   "id": "7cd1937a",
   "metadata": {},
   "source": [
    "#### Medicare/Medicaid "
   ]
  },
  {
   "cell_type": "code",
   "execution_count": 323,
   "id": "740fb72b",
   "metadata": {},
   "outputs": [],
   "source": [
    "insurance_win.loc[:, 'medicare_medicaid'] = np.where(insurance_win['payer_category'] == 'medicare_medicaid', 1, 0)"
   ]
  },
  {
   "cell_type": "markdown",
   "id": "f23d4d8e",
   "metadata": {},
   "source": [
    "#### Commercial "
   ]
  },
  {
   "cell_type": "code",
   "execution_count": 324,
   "id": "de837d2b",
   "metadata": {},
   "outputs": [],
   "source": [
    "insurance_win.loc[:, 'commercial'] = np.where(insurance_win['payer_category'] == 'Commercial Health Plan', 1, 0)"
   ]
  },
  {
   "cell_type": "markdown",
   "id": "b5af58bf",
   "metadata": {},
   "source": [
    "#### Patient Assistance Programs "
   ]
  },
  {
   "cell_type": "code",
   "execution_count": 325,
   "id": "aec17004",
   "metadata": {},
   "outputs": [],
   "source": [
    "insurance_win.loc[:, 'patient_assistance'] = np.where(insurance_win['payer_category'] == 'Patient Assistance Program', 1, 0)"
   ]
  },
  {
   "cell_type": "markdown",
   "id": "36539429",
   "metadata": {},
   "source": [
    "#### Other Government Program "
   ]
  },
  {
   "cell_type": "code",
   "execution_count": 326,
   "id": "9dcb68c5",
   "metadata": {},
   "outputs": [],
   "source": [
    "insurance_win.loc[:, 'other_govt'] = np.where(insurance_win['payer_category'] == 'Other Government Program', 1, 0)"
   ]
  },
  {
   "cell_type": "markdown",
   "id": "b0275eb4",
   "metadata": {},
   "source": [
    "#### Self Pay "
   ]
  },
  {
   "cell_type": "code",
   "execution_count": 327,
   "id": "05396b1d",
   "metadata": {},
   "outputs": [],
   "source": [
    "insurance_win.loc[:, 'self_pay'] = np.where(insurance_win['payer_category'] == 'Self Pay', 1, 0)"
   ]
  },
  {
   "cell_type": "markdown",
   "id": "22d2a183",
   "metadata": {},
   "source": [
    "#### Other Payer"
   ]
  },
  {
   "cell_type": "code",
   "execution_count": 328,
   "id": "9cfde435",
   "metadata": {},
   "outputs": [],
   "source": [
    "insurance_win.loc[:, 'other'] = np.where(insurance_win['payer_category'] == 'Other Payer - Type Unknown', 1, 0)"
   ]
  },
  {
   "cell_type": "markdown",
   "id": "936f30df",
   "metadata": {},
   "source": [
    "#### Condense "
   ]
  },
  {
   "cell_type": "code",
   "execution_count": 329,
   "id": "26fa5602",
   "metadata": {},
   "outputs": [],
   "source": [
    "# After dropping 'insurance_date_diff', add columns by PatientID.\n",
    "insurance_wide = (\n",
    "    insurance_win\n",
    "    .drop(columns = ['insurance_date_diff'])\n",
    "    .groupby('PatientID').sum()\n",
    ")"
   ]
  },
  {
   "cell_type": "code",
   "execution_count": 330,
   "id": "b4558d79",
   "metadata": {},
   "outputs": [],
   "source": [
    "# Set any value greater than 1 to 1; leave 0 unchanged. \n",
    "insurance_wide = (\n",
    "    insurance_wide\n",
    "    .mask(insurance_wide > 1, 1)\n",
    "    .reset_index()\n",
    ")"
   ]
  },
  {
   "cell_type": "code",
   "execution_count": 331,
   "id": "9e11f80c",
   "metadata": {},
   "outputs": [
    {
     "data": {
      "text/plain": [
       "(20059, 20059)"
      ]
     },
     "execution_count": 331,
     "metadata": {},
     "output_type": "execute_result"
    }
   ],
   "source": [
    "row_ID(insurance_wide)"
   ]
  },
  {
   "cell_type": "code",
   "execution_count": 332,
   "id": "1da45212",
   "metadata": {},
   "outputs": [],
   "source": [
    "# Append missing training IDs.\n",
    "insurance_wide = (\n",
    "    insurance_wide\n",
    "    .append(\n",
    "        pd.Series(train_IDs)[~pd.Series(train_IDs).isin(insurance_wide['PatientID'])].to_frame(name = 'PatientID'),\n",
    "        sort = False)\n",
    ")"
   ]
  },
  {
   "cell_type": "code",
   "execution_count": 333,
   "id": "ee826537",
   "metadata": {},
   "outputs": [
    {
     "data": {
      "text/plain": [
       "(27452, 27452)"
      ]
     },
     "execution_count": 333,
     "metadata": {},
     "output_type": "execute_result"
    }
   ],
   "source": [
    "row_ID(insurance_wide)"
   ]
  },
  {
   "cell_type": "code",
   "execution_count": 334,
   "id": "a50924b8",
   "metadata": {},
   "outputs": [],
   "source": [
    "insurance_wide = insurance_wide.fillna(0)"
   ]
  },
  {
   "cell_type": "code",
   "execution_count": 335,
   "id": "ebe25362",
   "metadata": {},
   "outputs": [
    {
     "data": {
      "text/plain": [
       "0.7305478653650007"
      ]
     },
     "execution_count": 335,
     "metadata": {},
     "output_type": "execute_result"
    }
   ],
   "source": [
    "# Percent of patients with at least one insurance documented with start date prior to 30 days from metastatic diagnosis.\n",
    "insurance_wide.eq(1).any(1).sum()/insurance_wide.shape[0]"
   ]
  },
  {
   "cell_type": "code",
   "execution_count": 336,
   "id": "cf87d4d9",
   "metadata": {},
   "outputs": [
    {
     "data": {
      "text/plain": [
       "commercial            0.404087\n",
       "medicare              0.360666\n",
       "other                 0.105967\n",
       "medicaid              0.081488\n",
       "patient_assistance    0.045862\n",
       "other_govt            0.036646\n",
       "medicare_medicaid     0.027393\n",
       "self_pay              0.022221\n",
       "dtype: float64"
      ]
     },
     "execution_count": 336,
     "metadata": {},
     "output_type": "execute_result"
    }
   ],
   "source": [
    "# Percentage breakdown of insurance by type at time of advanced diagnosis.\n",
    "(insurance_wide.iloc[:, 1:9].sum()/insurance_wide.shape[0]).sort_values(ascending = False)"
   ]
  },
  {
   "cell_type": "code",
   "execution_count": 337,
   "id": "039e9154",
   "metadata": {},
   "outputs": [
    {
     "data": {
      "text/html": [
       "<div>\n",
       "<style scoped>\n",
       "    .dataframe tbody tr th:only-of-type {\n",
       "        vertical-align: middle;\n",
       "    }\n",
       "\n",
       "    .dataframe tbody tr th {\n",
       "        vertical-align: top;\n",
       "    }\n",
       "\n",
       "    .dataframe thead th {\n",
       "        text-align: right;\n",
       "    }\n",
       "</style>\n",
       "<table border=\"1\" class=\"dataframe\">\n",
       "  <thead>\n",
       "    <tr style=\"text-align: right;\">\n",
       "      <th></th>\n",
       "      <th>PatientID</th>\n",
       "      <th>medicare</th>\n",
       "      <th>medicaid</th>\n",
       "      <th>medicare_medicaid</th>\n",
       "      <th>commercial</th>\n",
       "      <th>patient_assistance</th>\n",
       "      <th>other_govt</th>\n",
       "      <th>self_pay</th>\n",
       "      <th>other</th>\n",
       "    </tr>\n",
       "  </thead>\n",
       "  <tbody>\n",
       "    <tr>\n",
       "      <th>11029</th>\n",
       "      <td>F8C222D6DFD36</td>\n",
       "      <td>0.0</td>\n",
       "      <td>0.0</td>\n",
       "      <td>0.0</td>\n",
       "      <td>1.0</td>\n",
       "      <td>0.0</td>\n",
       "      <td>0.0</td>\n",
       "      <td>0.0</td>\n",
       "      <td>0.0</td>\n",
       "    </tr>\n",
       "    <tr>\n",
       "      <th>3965</th>\n",
       "      <td>F328D0246F6CE</td>\n",
       "      <td>1.0</td>\n",
       "      <td>0.0</td>\n",
       "      <td>0.0</td>\n",
       "      <td>0.0</td>\n",
       "      <td>0.0</td>\n",
       "      <td>0.0</td>\n",
       "      <td>0.0</td>\n",
       "      <td>0.0</td>\n",
       "    </tr>\n",
       "    <tr>\n",
       "      <th>9377</th>\n",
       "      <td>F7695E5B5DE30</td>\n",
       "      <td>0.0</td>\n",
       "      <td>0.0</td>\n",
       "      <td>0.0</td>\n",
       "      <td>1.0</td>\n",
       "      <td>0.0</td>\n",
       "      <td>0.0</td>\n",
       "      <td>0.0</td>\n",
       "      <td>0.0</td>\n",
       "    </tr>\n",
       "    <tr>\n",
       "      <th>16976</th>\n",
       "      <td>FD85B66F9AB6B</td>\n",
       "      <td>1.0</td>\n",
       "      <td>0.0</td>\n",
       "      <td>0.0</td>\n",
       "      <td>1.0</td>\n",
       "      <td>0.0</td>\n",
       "      <td>0.0</td>\n",
       "      <td>0.0</td>\n",
       "      <td>0.0</td>\n",
       "    </tr>\n",
       "    <tr>\n",
       "      <th>8539</th>\n",
       "      <td>F6BF2A9BD3443</td>\n",
       "      <td>1.0</td>\n",
       "      <td>0.0</td>\n",
       "      <td>0.0</td>\n",
       "      <td>1.0</td>\n",
       "      <td>0.0</td>\n",
       "      <td>0.0</td>\n",
       "      <td>0.0</td>\n",
       "      <td>1.0</td>\n",
       "    </tr>\n",
       "  </tbody>\n",
       "</table>\n",
       "</div>"
      ],
      "text/plain": [
       "           PatientID  medicare  medicaid  medicare_medicaid  commercial  \\\n",
       "11029  F8C222D6DFD36       0.0       0.0                0.0         1.0   \n",
       "3965   F328D0246F6CE       1.0       0.0                0.0         0.0   \n",
       "9377   F7695E5B5DE30       0.0       0.0                0.0         1.0   \n",
       "16976  FD85B66F9AB6B       1.0       0.0                0.0         1.0   \n",
       "8539   F6BF2A9BD3443       1.0       0.0                0.0         1.0   \n",
       "\n",
       "       patient_assistance  other_govt  self_pay  other  \n",
       "11029                 0.0         0.0       0.0    0.0  \n",
       "3965                  0.0         0.0       0.0    0.0  \n",
       "9377                  0.0         0.0       0.0    0.0  \n",
       "16976                 0.0         0.0       0.0    0.0  \n",
       "8539                  0.0         0.0       0.0    1.0  "
      ]
     },
     "execution_count": 337,
     "metadata": {},
     "output_type": "execute_result"
    }
   ],
   "source": [
    "insurance_wide.sample(5)"
   ]
  },
  {
   "cell_type": "code",
   "execution_count": 338,
   "id": "619fbe58",
   "metadata": {},
   "outputs": [
    {
     "name": "stdout",
     "output_type": "stream",
     "text": [
      "Variable         Type         Data/Info\n",
      "---------------------------------------\n",
      "biomarker_wide   DataFrame               PatientID     <...>n[27452 rows x 5 columns]\n",
      "demographics     DataFrame               PatientID gend<...>n[27452 rows x 7 columns]\n",
      "enhanced_met     DataFrame               PatientID diag<...>n[27452 rows x 8 columns]\n",
      "insurance        DataFrame               PatientID     <...>[80442 rows x 16 columns]\n",
      "insurance_wide   DataFrame               PatientID  med<...>n[27452 rows x 9 columns]\n",
      "insurance_win    DataFrame               PatientID     <...>[39287 rows x 25 columns]\n",
      "med_admin_wide   DataFrame               PatientID  ste<...>[27452 rows x 15 columns]\n",
      "mortality        DataFrame               PatientID  dea<...>n[27452 rows x 3 columns]\n",
      "telemedicine     DataFrame               PatientID     <...>n[23327 rows x 3 columns]\n",
      "visit            DataFrame                 PatientID   <...>2010098 rows x 7 columns]\n"
     ]
    }
   ],
   "source": [
    "%whos DataFrame"
   ]
  },
  {
   "cell_type": "code",
   "execution_count": 339,
   "id": "633d0815",
   "metadata": {},
   "outputs": [],
   "source": [
    "# Keep biomarker_wide, demographics, enhanced_met, insurance_wide, med_admin_wide, and mortality\n",
    "del insurance\n",
    "del insurance_win"
   ]
  },
  {
   "cell_type": "markdown",
   "id": "9b2b284c",
   "metadata": {},
   "source": [
    "### 7. ECOG"
   ]
  },
  {
   "cell_type": "code",
   "execution_count": 340,
   "id": "da6de67d",
   "metadata": {},
   "outputs": [],
   "source": [
    "ecog = pd.read_csv('ECOG.csv')"
   ]
  },
  {
   "cell_type": "code",
   "execution_count": 341,
   "id": "17292a97",
   "metadata": {},
   "outputs": [],
   "source": [
    "ecog = ecog[ecog['PatientID'].isin(train_IDs)]"
   ]
  },
  {
   "cell_type": "code",
   "execution_count": 342,
   "id": "b5fe755f",
   "metadata": {},
   "outputs": [
    {
     "data": {
      "text/plain": [
       "(552791, 20978)"
      ]
     },
     "execution_count": 342,
     "metadata": {},
     "output_type": "execute_result"
    }
   ],
   "source": [
    "row_ID(ecog)"
   ]
  },
  {
   "cell_type": "code",
   "execution_count": 343,
   "id": "cba39cd5",
   "metadata": {},
   "outputs": [
    {
     "data": {
      "text/html": [
       "<div>\n",
       "<style scoped>\n",
       "    .dataframe tbody tr th:only-of-type {\n",
       "        vertical-align: middle;\n",
       "    }\n",
       "\n",
       "    .dataframe tbody tr th {\n",
       "        vertical-align: top;\n",
       "    }\n",
       "\n",
       "    .dataframe thead th {\n",
       "        text-align: right;\n",
       "    }\n",
       "</style>\n",
       "<table border=\"1\" class=\"dataframe\">\n",
       "  <thead>\n",
       "    <tr style=\"text-align: right;\">\n",
       "      <th></th>\n",
       "      <th>PatientID</th>\n",
       "      <th>PracticeID</th>\n",
       "      <th>EcogDate</th>\n",
       "      <th>EcogValue</th>\n",
       "    </tr>\n",
       "  </thead>\n",
       "  <tbody>\n",
       "    <tr>\n",
       "      <th>144959</th>\n",
       "      <td>F22A9A9038F22</td>\n",
       "      <td>S744425681ABF</td>\n",
       "      <td>2014-09-23</td>\n",
       "      <td>0</td>\n",
       "    </tr>\n",
       "    <tr>\n",
       "      <th>457073</th>\n",
       "      <td>FA5287A138621</td>\n",
       "      <td>SD2555DC0ACD7</td>\n",
       "      <td>2015-05-19</td>\n",
       "      <td>1</td>\n",
       "    </tr>\n",
       "    <tr>\n",
       "      <th>42709</th>\n",
       "      <td>F2DD0F49F3AA5</td>\n",
       "      <td>S507DCE5DD8C6</td>\n",
       "      <td>2014-07-18</td>\n",
       "      <td>2</td>\n",
       "    </tr>\n",
       "    <tr>\n",
       "      <th>501849</th>\n",
       "      <td>FB0FE6B78DDD5</td>\n",
       "      <td>S9580C013889E</td>\n",
       "      <td>2022-08-25</td>\n",
       "      <td>0</td>\n",
       "    </tr>\n",
       "    <tr>\n",
       "      <th>474774</th>\n",
       "      <td>F49E4320D7B06</td>\n",
       "      <td>S260DA7B3CE37</td>\n",
       "      <td>2015-01-05</td>\n",
       "      <td>0</td>\n",
       "    </tr>\n",
       "  </tbody>\n",
       "</table>\n",
       "</div>"
      ],
      "text/plain": [
       "            PatientID     PracticeID    EcogDate  EcogValue\n",
       "144959  F22A9A9038F22  S744425681ABF  2014-09-23          0\n",
       "457073  FA5287A138621  SD2555DC0ACD7  2015-05-19          1\n",
       "42709   F2DD0F49F3AA5  S507DCE5DD8C6  2014-07-18          2\n",
       "501849  FB0FE6B78DDD5  S9580C013889E  2022-08-25          0\n",
       "474774  F49E4320D7B06  S260DA7B3CE37  2015-01-05          0"
      ]
     },
     "execution_count": 343,
     "metadata": {},
     "output_type": "execute_result"
    }
   ],
   "source": [
    "ecog.sample(5)"
   ]
  },
  {
   "cell_type": "code",
   "execution_count": 344,
   "id": "8110a9fb",
   "metadata": {},
   "outputs": [
    {
     "data": {
      "text/plain": [
       "1    0.468803\n",
       "0    0.399419\n",
       "2    0.106579\n",
       "3    0.023374\n",
       "4    0.001825\n",
       "Name: EcogValue, dtype: float64"
      ]
     },
     "execution_count": 344,
     "metadata": {},
     "output_type": "execute_result"
    }
   ],
   "source": [
    "ecog.EcogValue.value_counts(dropna = False, normalize = True)"
   ]
  },
  {
   "cell_type": "markdown",
   "id": "f666173f",
   "metadata": {},
   "source": [
    "**The ECOG table is a longitudinal record of structured ECOG scores captured in the EHR for each patient. Many patients have multiple ECOG scores reported. A new dataframe will be built where one ECOG score will be assigned to each patient. The index date will be date of advanced diagnosis with an elgible window period of +30 days to -90 days from advanced diagnosis. The ECOG score closest to index date will be assigned to the patient. In the case of two ECOG scores on the same day or equidistant but on opposite sides of the index date, the higher ECOG score (worse performance) will be selected.** \n",
    "\n",
    "**BaselineECOG is a composite table that selects one ECOG score within +7 days and -30 days of a line of therapy. Patients might have two baseline ECOG values for line number 1 due to maintenance therapy. BaselineECOG will not be used for creating baseline models.** "
   ]
  },
  {
   "cell_type": "code",
   "execution_count": 345,
   "id": "d59796c4",
   "metadata": {},
   "outputs": [],
   "source": [
    "ecog = pd.merge(ecog, enhanced_met[['PatientID', 'met_date']], on = 'PatientID', how = 'left')"
   ]
  },
  {
   "cell_type": "code",
   "execution_count": 346,
   "id": "e997d3d0",
   "metadata": {},
   "outputs": [],
   "source": [
    "ecog.loc[:, 'EcogDate'] = pd.to_datetime(ecog['EcogDate'])      "
   ]
  },
  {
   "cell_type": "code",
   "execution_count": 347,
   "id": "50c45fa8",
   "metadata": {},
   "outputs": [],
   "source": [
    "ecog.loc[:, 'ecog_date_diff'] = (ecog['EcogDate'] - ecog['met_date']).dt.days"
   ]
  },
  {
   "cell_type": "code",
   "execution_count": 348,
   "id": "9cedc442",
   "metadata": {},
   "outputs": [],
   "source": [
    "ecog_win = ecog[(ecog['ecog_date_diff'] >= -90) & (ecog['ecog_date_diff'] <= 30)]"
   ]
  },
  {
   "cell_type": "code",
   "execution_count": 349,
   "id": "ad0f130e",
   "metadata": {},
   "outputs": [
    {
     "data": {
      "text/plain": [
       "(33864, 12641)"
      ]
     },
     "execution_count": 349,
     "metadata": {},
     "output_type": "execute_result"
    }
   ],
   "source": [
    "row_ID(ecog_win)"
   ]
  },
  {
   "cell_type": "code",
   "execution_count": 350,
   "id": "bc3bfd0b",
   "metadata": {},
   "outputs": [
    {
     "name": "stderr",
     "output_type": "stream",
     "text": [
      "/Applications/anaconda3/lib/python3.7/site-packages/pandas/core/indexing.py:1773: SettingWithCopyWarning: \n",
      "A value is trying to be set on a copy of a slice from a DataFrame.\n",
      "Try using .loc[row_indexer,col_indexer] = value instead\n",
      "\n",
      "See the caveats in the documentation: https://pandas.pydata.org/pandas-docs/stable/user_guide/indexing.html#returning-a-view-versus-a-copy\n",
      "  self._setitem_single_column(ilocs[0], value, pi)\n"
     ]
    }
   ],
   "source": [
    "# Time from metastatic diagnosis to ECOG date will be converted to an absolute value. \n",
    "ecog_win.loc[:, 'ecog_date_diff'] = ecog_win['ecog_date_diff'].abs()"
   ]
  },
  {
   "cell_type": "code",
   "execution_count": 351,
   "id": "985f6da7",
   "metadata": {},
   "outputs": [],
   "source": [
    "# Sort values with ECOG nearest to time of diagnosis as top row (and largest ECOG if multiple ECOGs that day) then select top row.   ECOG date nearest to day of diagnosis as top row and largest ES\n",
    "ecog_diagnosis_wide = (\n",
    "    ecog_win\n",
    "    .sort_values(by = ['PatientID', 'ecog_date_diff', 'EcogValue'], ascending = [True, True, False])\n",
    "    .drop_duplicates(subset = ['PatientID'], keep = 'first' )\n",
    "    .filter(items = ['PatientID', 'EcogValue'])\n",
    "    .rename(columns = {'EcogValue': 'ecog_diagnosis'})\n",
    ")"
   ]
  },
  {
   "cell_type": "code",
   "execution_count": 352,
   "id": "b87d13fc",
   "metadata": {},
   "outputs": [
    {
     "data": {
      "text/plain": [
       "(12641, 12641)"
      ]
     },
     "execution_count": 352,
     "metadata": {},
     "output_type": "execute_result"
    }
   ],
   "source": [
    "row_ID(ecog_diagnosis_wide)"
   ]
  },
  {
   "cell_type": "code",
   "execution_count": 353,
   "id": "81692ef3",
   "metadata": {},
   "outputs": [],
   "source": [
    "# Append missing training IDs. \n",
    "ecog_diagnosis_wide = (\n",
    "    ecog_diagnosis_wide\n",
    "    .append(\n",
    "        pd.Series(train_IDs)[~pd.Series(train_IDs).isin(ecog_diagnosis_wide['PatientID'])].to_frame(name = 'PatientID'),\n",
    "        sort = False)\n",
    "    .fillna('unknown')\n",
    ")"
   ]
  },
  {
   "cell_type": "code",
   "execution_count": 354,
   "id": "2acb5326",
   "metadata": {},
   "outputs": [
    {
     "data": {
      "text/plain": [
       "(27452, 27452)"
      ]
     },
     "execution_count": 354,
     "metadata": {},
     "output_type": "execute_result"
    }
   ],
   "source": [
    "row_ID(ecog_diagnosis_wide)"
   ]
  },
  {
   "cell_type": "code",
   "execution_count": 355,
   "id": "b2a3f943",
   "metadata": {},
   "outputs": [
    {
     "data": {
      "text/html": [
       "<div>\n",
       "<style scoped>\n",
       "    .dataframe tbody tr th:only-of-type {\n",
       "        vertical-align: middle;\n",
       "    }\n",
       "\n",
       "    .dataframe tbody tr th {\n",
       "        vertical-align: top;\n",
       "    }\n",
       "\n",
       "    .dataframe thead th {\n",
       "        text-align: right;\n",
       "    }\n",
       "</style>\n",
       "<table border=\"1\" class=\"dataframe\">\n",
       "  <thead>\n",
       "    <tr style=\"text-align: right;\">\n",
       "      <th></th>\n",
       "      <th>PatientID</th>\n",
       "      <th>ecog_diagnosis</th>\n",
       "    </tr>\n",
       "  </thead>\n",
       "  <tbody>\n",
       "    <tr>\n",
       "      <th>239473</th>\n",
       "      <td>F15EC3278A58E</td>\n",
       "      <td>1.0</td>\n",
       "    </tr>\n",
       "    <tr>\n",
       "      <th>10544</th>\n",
       "      <td>FC10D540C1534</td>\n",
       "      <td>unknown</td>\n",
       "    </tr>\n",
       "    <tr>\n",
       "      <th>225119</th>\n",
       "      <td>F1EA2AAD288C8</td>\n",
       "      <td>2.0</td>\n",
       "    </tr>\n",
       "    <tr>\n",
       "      <th>11991</th>\n",
       "      <td>F5D193C643DCE</td>\n",
       "      <td>unknown</td>\n",
       "    </tr>\n",
       "    <tr>\n",
       "      <th>24238</th>\n",
       "      <td>F1FBEDE9ED384</td>\n",
       "      <td>unknown</td>\n",
       "    </tr>\n",
       "  </tbody>\n",
       "</table>\n",
       "</div>"
      ],
      "text/plain": [
       "            PatientID ecog_diagnosis\n",
       "239473  F15EC3278A58E            1.0\n",
       "10544   FC10D540C1534        unknown\n",
       "225119  F1EA2AAD288C8            2.0\n",
       "11991   F5D193C643DCE        unknown\n",
       "24238   F1FBEDE9ED384        unknown"
      ]
     },
     "execution_count": 355,
     "metadata": {},
     "output_type": "execute_result"
    }
   ],
   "source": [
    "ecog_diagnosis_wide.sample(5)"
   ]
  },
  {
   "cell_type": "code",
   "execution_count": 356,
   "id": "9c0fe9a6",
   "metadata": {},
   "outputs": [
    {
     "data": {
      "text/plain": [
       "unknown    0.539524\n",
       "0.0        0.210221\n",
       "1.0        0.181808\n",
       "2.0        0.053293\n",
       "3.0        0.013842\n",
       "4.0        0.001311\n",
       "Name: ecog_diagnosis, dtype: float64"
      ]
     },
     "execution_count": 356,
     "metadata": {},
     "output_type": "execute_result"
    }
   ],
   "source": [
    "ecog_diagnosis_wide['ecog_diagnosis'].value_counts(normalize = True, dropna = False)"
   ]
  },
  {
   "cell_type": "code",
   "execution_count": 357,
   "id": "288bcc14",
   "metadata": {},
   "outputs": [
    {
     "name": "stdout",
     "output_type": "stream",
     "text": [
      "Variable              Type         Data/Info\n",
      "--------------------------------------------\n",
      "biomarker_wide        DataFrame               PatientID     <...>n[27452 rows x 5 columns]\n",
      "demographics          DataFrame               PatientID gend<...>n[27452 rows x 7 columns]\n",
      "ecog                  DataFrame                PatientID    <...>[552791 rows x 6 columns]\n",
      "ecog_diagnosis_wide   DataFrame                PatientID eco<...>n[27452 rows x 2 columns]\n",
      "ecog_win              DataFrame                PatientID    <...>n[33864 rows x 6 columns]\n",
      "enhanced_met          DataFrame               PatientID diag<...>n[27452 rows x 8 columns]\n",
      "insurance_wide        DataFrame               PatientID  med<...>n[27452 rows x 9 columns]\n",
      "med_admin_wide        DataFrame               PatientID  ste<...>[27452 rows x 15 columns]\n",
      "mortality             DataFrame               PatientID  dea<...>n[27452 rows x 3 columns]\n",
      "telemedicine          DataFrame               PatientID     <...>n[23327 rows x 3 columns]\n",
      "visit                 DataFrame                 PatientID   <...>2010098 rows x 7 columns]\n"
     ]
    }
   ],
   "source": [
    "%whos DataFrame"
   ]
  },
  {
   "cell_type": "code",
   "execution_count": 358,
   "id": "8d23fe50",
   "metadata": {},
   "outputs": [],
   "source": [
    "# Keep biomarker_wide, demographics, ecog_diagnosis_wide, enhanced_met, insurance_wide, med_admin_wide, and mortality\n",
    "del ecog\n",
    "del ecog_win"
   ]
  },
  {
   "cell_type": "markdown",
   "id": "e9e28268",
   "metadata": {},
   "source": [
    "### 8. Vitals"
   ]
  },
  {
   "cell_type": "code",
   "execution_count": 359,
   "id": "364fe9c3",
   "metadata": {},
   "outputs": [
    {
     "name": "stderr",
     "output_type": "stream",
     "text": [
      "/Applications/anaconda3/lib/python3.7/site-packages/IPython/core/interactiveshell.py:3441: DtypeWarning: Columns (10) have mixed types.Specify dtype option on import or set low_memory=False.\n",
      "  exec(code_obj, self.user_global_ns, self.user_ns)\n"
     ]
    }
   ],
   "source": [
    "vitals = pd.read_csv('Vitals.csv')"
   ]
  },
  {
   "cell_type": "code",
   "execution_count": 360,
   "id": "b300bf3a",
   "metadata": {},
   "outputs": [],
   "source": [
    "vitals = vitals[vitals['PatientID'].isin(train_IDs)]"
   ]
  },
  {
   "cell_type": "code",
   "execution_count": 361,
   "id": "3924c837",
   "metadata": {},
   "outputs": [
    {
     "data": {
      "text/plain": [
       "(8499724, 27399)"
      ]
     },
     "execution_count": 361,
     "metadata": {},
     "output_type": "execute_result"
    }
   ],
   "source": [
    "row_ID(vitals)"
   ]
  },
  {
   "cell_type": "code",
   "execution_count": 362,
   "id": "34473efd",
   "metadata": {},
   "outputs": [
    {
     "data": {
      "text/html": [
       "<div>\n",
       "<style scoped>\n",
       "    .dataframe tbody tr th:only-of-type {\n",
       "        vertical-align: middle;\n",
       "    }\n",
       "\n",
       "    .dataframe tbody tr th {\n",
       "        vertical-align: top;\n",
       "    }\n",
       "\n",
       "    .dataframe thead th {\n",
       "        text-align: right;\n",
       "    }\n",
       "</style>\n",
       "<table border=\"1\" class=\"dataframe\">\n",
       "  <thead>\n",
       "    <tr style=\"text-align: right;\">\n",
       "      <th></th>\n",
       "      <th>PatientID</th>\n",
       "      <th>PracticeID</th>\n",
       "      <th>TestDate</th>\n",
       "      <th>LOINC</th>\n",
       "      <th>Test</th>\n",
       "      <th>LabComponent</th>\n",
       "      <th>TestBaseName</th>\n",
       "      <th>TestUnits</th>\n",
       "      <th>TestUnitsCleaned</th>\n",
       "      <th>ResultDate</th>\n",
       "      <th>TestResult</th>\n",
       "      <th>TestResultCleaned</th>\n",
       "      <th>MinNorm</th>\n",
       "      <th>MinNormCleaned</th>\n",
       "      <th>MaxNorm</th>\n",
       "      <th>MaxNormCleaned</th>\n",
       "    </tr>\n",
       "  </thead>\n",
       "  <tbody>\n",
       "    <tr>\n",
       "      <th>5197683</th>\n",
       "      <td>F7BFD0446018E</td>\n",
       "      <td>S291CF564BD92</td>\n",
       "      <td>2021-12-22</td>\n",
       "      <td>8867-4</td>\n",
       "      <td>heart rate</td>\n",
       "      <td>Heart rate</td>\n",
       "      <td>heart rate</td>\n",
       "      <td>NaN</td>\n",
       "      <td>NaN</td>\n",
       "      <td>NaN</td>\n",
       "      <td>74</td>\n",
       "      <td>NaN</td>\n",
       "      <td>NaN</td>\n",
       "      <td>NaN</td>\n",
       "      <td>NaN</td>\n",
       "      <td>NaN</td>\n",
       "    </tr>\n",
       "    <tr>\n",
       "      <th>6324435</th>\n",
       "      <td>F97A452AFEA83</td>\n",
       "      <td>S43F1EC350316</td>\n",
       "      <td>2021-11-18</td>\n",
       "      <td>8302-2</td>\n",
       "      <td>body height</td>\n",
       "      <td>Body Height</td>\n",
       "      <td>body height</td>\n",
       "      <td>in</td>\n",
       "      <td>cm</td>\n",
       "      <td>NaN</td>\n",
       "      <td>66</td>\n",
       "      <td>167.64</td>\n",
       "      <td>NaN</td>\n",
       "      <td>NaN</td>\n",
       "      <td>NaN</td>\n",
       "      <td>NaN</td>\n",
       "    </tr>\n",
       "    <tr>\n",
       "      <th>8571752</th>\n",
       "      <td>FCE09058E71BB</td>\n",
       "      <td>S224BB17B2C67</td>\n",
       "      <td>2021-03-30</td>\n",
       "      <td>8462-4</td>\n",
       "      <td>diastolic blood pressure</td>\n",
       "      <td>Diastolic blood pressure</td>\n",
       "      <td>intravascular diastolic</td>\n",
       "      <td>NaN</td>\n",
       "      <td>NaN</td>\n",
       "      <td>NaN</td>\n",
       "      <td>70</td>\n",
       "      <td>NaN</td>\n",
       "      <td>NaN</td>\n",
       "      <td>NaN</td>\n",
       "      <td>NaN</td>\n",
       "      <td>NaN</td>\n",
       "    </tr>\n",
       "    <tr>\n",
       "      <th>5448658</th>\n",
       "      <td>F82BD09F7A1C9</td>\n",
       "      <td>S291CF564BD92</td>\n",
       "      <td>2017-03-01</td>\n",
       "      <td>8480-6</td>\n",
       "      <td>systolic blood pressure</td>\n",
       "      <td>Systolic blood pressure</td>\n",
       "      <td>intravascular systolic</td>\n",
       "      <td>NaN</td>\n",
       "      <td>NaN</td>\n",
       "      <td>NaN</td>\n",
       "      <td>126</td>\n",
       "      <td>NaN</td>\n",
       "      <td>NaN</td>\n",
       "      <td>NaN</td>\n",
       "      <td>NaN</td>\n",
       "      <td>NaN</td>\n",
       "    </tr>\n",
       "    <tr>\n",
       "      <th>9431468</th>\n",
       "      <td>FE324A5D6812A</td>\n",
       "      <td>SB98638660CAA</td>\n",
       "      <td>2017-02-07</td>\n",
       "      <td>8462-4</td>\n",
       "      <td>diastolic blood pressure</td>\n",
       "      <td>Diastolic blood pressure</td>\n",
       "      <td>intravascular diastolic</td>\n",
       "      <td>NaN</td>\n",
       "      <td>NaN</td>\n",
       "      <td>NaN</td>\n",
       "      <td>65</td>\n",
       "      <td>NaN</td>\n",
       "      <td>NaN</td>\n",
       "      <td>NaN</td>\n",
       "      <td>NaN</td>\n",
       "      <td>NaN</td>\n",
       "    </tr>\n",
       "  </tbody>\n",
       "</table>\n",
       "</div>"
      ],
      "text/plain": [
       "             PatientID     PracticeID    TestDate   LOINC  \\\n",
       "5197683  F7BFD0446018E  S291CF564BD92  2021-12-22  8867-4   \n",
       "6324435  F97A452AFEA83  S43F1EC350316  2021-11-18  8302-2   \n",
       "8571752  FCE09058E71BB  S224BB17B2C67  2021-03-30  8462-4   \n",
       "5448658  F82BD09F7A1C9  S291CF564BD92  2017-03-01  8480-6   \n",
       "9431468  FE324A5D6812A  SB98638660CAA  2017-02-07  8462-4   \n",
       "\n",
       "                             Test              LabComponent  \\\n",
       "5197683                heart rate                Heart rate   \n",
       "6324435               body height               Body Height   \n",
       "8571752  diastolic blood pressure  Diastolic blood pressure   \n",
       "5448658   systolic blood pressure   Systolic blood pressure   \n",
       "9431468  diastolic blood pressure  Diastolic blood pressure   \n",
       "\n",
       "                    TestBaseName TestUnits TestUnitsCleaned ResultDate  \\\n",
       "5197683               heart rate       NaN              NaN        NaN   \n",
       "6324435              body height        in               cm        NaN   \n",
       "8571752  intravascular diastolic       NaN              NaN        NaN   \n",
       "5448658   intravascular systolic       NaN              NaN        NaN   \n",
       "9431468  intravascular diastolic       NaN              NaN        NaN   \n",
       "\n",
       "        TestResult  TestResultCleaned  MinNorm  MinNormCleaned  MaxNorm  \\\n",
       "5197683         74                NaN      NaN             NaN      NaN   \n",
       "6324435         66             167.64      NaN             NaN      NaN   \n",
       "8571752         70                NaN      NaN             NaN      NaN   \n",
       "5448658        126                NaN      NaN             NaN      NaN   \n",
       "9431468         65                NaN      NaN             NaN      NaN   \n",
       "\n",
       "         MaxNormCleaned  \n",
       "5197683             NaN  \n",
       "6324435             NaN  \n",
       "8571752             NaN  \n",
       "5448658             NaN  \n",
       "9431468             NaN  "
      ]
     },
     "execution_count": 362,
     "metadata": {},
     "output_type": "execute_result"
    }
   ],
   "source": [
    "vitals.sample(5)"
   ]
  },
  {
   "cell_type": "code",
   "execution_count": 363,
   "id": "e8ee3b9c",
   "metadata": {},
   "outputs": [
    {
     "data": {
      "text/plain": [
       "heart rate                                                       0.183483\n",
       "body temperature                                                 0.159231\n",
       "systolic blood pressure                                          0.133737\n",
       "diastolic blood pressure                                         0.132995\n",
       "body weight                                                      0.128404\n",
       "body height                                                      0.115369\n",
       "oxygen saturation in arterial blood by pulse oximetry            0.090021\n",
       "respiratory rate                                                 0.035026\n",
       "pain severity - 0-10 verbal numeric rating [score] - reported    0.016627\n",
       "body surface area                                                0.003342\n",
       "Name: Test, dtype: float64"
      ]
     },
     "execution_count": 363,
     "metadata": {},
     "output_type": "execute_result"
    }
   ],
   "source": [
    "vitals['Test'].value_counts(normalize = True, dropna = False).head(10)"
   ]
  },
  {
   "cell_type": "markdown",
   "id": "ad11b278",
   "metadata": {},
   "source": [
    "**The Vitals table is a longitudinal record of vitals captured in the EHR for each patient. A weight and BMI variable at time of advanced diagnosis will be created. The elgibility window will be -90 days to +30 days from advanced diagnosis. Average height from all visits will be used to calculate BMI. In the case of two weights on the same day or equidistant but on opposite sides of the index date, the lowest weight will be selected. Percent change in weight and weight slope 3 months within advanced diagnosis will be calculated as in the LCPI model. Patients must have at least two weight recordings to calculate percent change in weight or weight slope.** "
   ]
  },
  {
   "cell_type": "markdown",
   "id": "e4ce04ac",
   "metadata": {},
   "source": [
    "#### Weight and BMI"
   ]
  },
  {
   "cell_type": "code",
   "execution_count": 364,
   "id": "1de4ad32",
   "metadata": {},
   "outputs": [],
   "source": [
    "# Create weight dataframe; remove weight values that are empty or equal to zero.\n",
    "weight = (\n",
    "    vitals\n",
    "    .query('Test == \"body weight\"')\n",
    "    .filter(items = ['PatientID', 'TestDate', 'TestResultCleaned'])\n",
    "    .rename(columns = {'TestResultCleaned': 'weight'})\n",
    "    .dropna(subset = ['weight'])\n",
    "    .query('weight != 0')\n",
    ")"
   ]
  },
  {
   "cell_type": "code",
   "execution_count": 365,
   "id": "bb1a37df",
   "metadata": {},
   "outputs": [],
   "source": [
    "weight.loc[:, 'TestDate'] = pd.to_datetime(weight['TestDate'])"
   ]
  },
  {
   "cell_type": "code",
   "execution_count": 366,
   "id": "5cf2859c",
   "metadata": {},
   "outputs": [],
   "source": [
    "weight = pd.merge(weight, enhanced_met[['PatientID', 'met_date']], on = 'PatientID', how = 'left')"
   ]
  },
  {
   "cell_type": "code",
   "execution_count": 367,
   "id": "f64bf448",
   "metadata": {},
   "outputs": [],
   "source": [
    "# Weight elgibliity window is -90 and +30 from metastatic diagnosis diagnosis. \n",
    "weight_win_bmi = (\n",
    "    weight\n",
    "    .assign(weight_date_diff = (weight['TestDate'] - weight['met_date']).dt.days)\n",
    "    .query('weight_date_diff >= -90 and weight_date_diff <= 30')\n",
    ")"
   ]
  },
  {
   "cell_type": "code",
   "execution_count": 368,
   "id": "ab88ef6a",
   "metadata": {},
   "outputs": [],
   "source": [
    "weight_win_bmi.loc[:, 'weight_date_diff'] = weight_win_bmi['weight_date_diff'].abs()"
   ]
  },
  {
   "cell_type": "code",
   "execution_count": 369,
   "id": "809575aa",
   "metadata": {},
   "outputs": [],
   "source": [
    "# Select weight closest to date of metastatic diagnosis; lowest weight selected in the event of two weights on same day or equidistant. \n",
    "weight_bmi_wide = (\n",
    "    weight_win_bmi\n",
    "    .sort_values(by = ['PatientID', 'weight_date_diff', 'weight'], ascending = [True, True, True])\n",
    "    .drop_duplicates(subset = ['PatientID'], keep = 'first')\n",
    "    .filter(items = ['PatientID', 'weight'])\n",
    "    .rename(columns = {'weight': 'weight_diag'})\n",
    ")"
   ]
  },
  {
   "cell_type": "code",
   "execution_count": 370,
   "id": "b93ee4e7",
   "metadata": {},
   "outputs": [],
   "source": [
    "# Dataframe of average height for each patient. \n",
    "height_avg = (\n",
    "    vitals\n",
    "    .query('Test == \"body height\"')\n",
    "    .filter(items = ['PatientID', 'TestResultCleaned'])\n",
    "    .groupby('PatientID')['TestResultCleaned'].mean()\n",
    "    .to_frame()\n",
    "    .reset_index()\n",
    "    .rename(columns = {'TestResultCleaned': 'height_avg'})\n",
    ")"
   ]
  },
  {
   "cell_type": "code",
   "execution_count": 371,
   "id": "eaa0ca8d",
   "metadata": {},
   "outputs": [],
   "source": [
    "weight_bmi_wide = pd.merge(weight_bmi_wide, height_avg, on = 'PatientID', how = 'left')"
   ]
  },
  {
   "cell_type": "code",
   "execution_count": 372,
   "id": "09bfc1f6",
   "metadata": {},
   "outputs": [],
   "source": [
    "# Create BMI column. \n",
    "weight_bmi_wide = (\n",
    "    weight_bmi_wide\n",
    "    .assign(bmi_diag = lambda x: (x['weight_diag']/(x['height_avg']*x['height_avg']))*10000)\n",
    "    .drop(columns = ['height_avg'])\n",
    ")"
   ]
  },
  {
   "cell_type": "code",
   "execution_count": 373,
   "id": "9c5d102f",
   "metadata": {},
   "outputs": [],
   "source": [
    "# Append excluded IDs from training set and create a missing variable for those without BMI at diagnosis. \n",
    "weight_bmi_wide = (\n",
    "    weight_bmi_wide\n",
    "    .append(\n",
    "        pd.Series(train_IDs)[~pd.Series(train_IDs).isin(weight_bmi_wide['PatientID'])].to_frame(name = 'PatientID'),\n",
    "        sort = False)\n",
    ")"
   ]
  },
  {
   "cell_type": "code",
   "execution_count": 374,
   "id": "d55584b2",
   "metadata": {},
   "outputs": [
    {
     "data": {
      "text/plain": [
       "(27452, 27452)"
      ]
     },
     "execution_count": 374,
     "metadata": {},
     "output_type": "execute_result"
    }
   ],
   "source": [
    "row_ID(weight_bmi_wide)"
   ]
  },
  {
   "cell_type": "code",
   "execution_count": 375,
   "id": "934d0628",
   "metadata": {},
   "outputs": [],
   "source": [
    "weight_bmi_wide.loc[:, 'bmi_diag_na'] = np.where(weight_bmi_wide['bmi_diag'].isna(), 1, 0)"
   ]
  },
  {
   "cell_type": "code",
   "execution_count": 376,
   "id": "390211ac",
   "metadata": {},
   "outputs": [
    {
     "data": {
      "text/html": [
       "<div>\n",
       "<style scoped>\n",
       "    .dataframe tbody tr th:only-of-type {\n",
       "        vertical-align: middle;\n",
       "    }\n",
       "\n",
       "    .dataframe tbody tr th {\n",
       "        vertical-align: top;\n",
       "    }\n",
       "\n",
       "    .dataframe thead th {\n",
       "        text-align: right;\n",
       "    }\n",
       "</style>\n",
       "<table border=\"1\" class=\"dataframe\">\n",
       "  <thead>\n",
       "    <tr style=\"text-align: right;\">\n",
       "      <th></th>\n",
       "      <th>PatientID</th>\n",
       "      <th>weight_diag</th>\n",
       "      <th>bmi_diag</th>\n",
       "      <th>bmi_diag_na</th>\n",
       "    </tr>\n",
       "  </thead>\n",
       "  <tbody>\n",
       "    <tr>\n",
       "      <th>12341</th>\n",
       "      <td>F9C8FC5265E70</td>\n",
       "      <td>94.298942</td>\n",
       "      <td>30.906587</td>\n",
       "      <td>0</td>\n",
       "    </tr>\n",
       "    <tr>\n",
       "      <th>15353</th>\n",
       "      <td>FC3ACA0A97179</td>\n",
       "      <td>89.357624</td>\n",
       "      <td>26.717707</td>\n",
       "      <td>0</td>\n",
       "    </tr>\n",
       "    <tr>\n",
       "      <th>20002</th>\n",
       "      <td>FFE8FF9B3E6AF</td>\n",
       "      <td>78.017824</td>\n",
       "      <td>26.938710</td>\n",
       "      <td>0</td>\n",
       "    </tr>\n",
       "    <tr>\n",
       "      <th>19091</th>\n",
       "      <td>FF2F2A4EDC55D</td>\n",
       "      <td>89.100000</td>\n",
       "      <td>36.612426</td>\n",
       "      <td>0</td>\n",
       "    </tr>\n",
       "    <tr>\n",
       "      <th>14769</th>\n",
       "      <td>FBC09E881ECC4</td>\n",
       "      <td>92.169894</td>\n",
       "      <td>26.089047</td>\n",
       "      <td>0</td>\n",
       "    </tr>\n",
       "  </tbody>\n",
       "</table>\n",
       "</div>"
      ],
      "text/plain": [
       "           PatientID  weight_diag   bmi_diag  bmi_diag_na\n",
       "12341  F9C8FC5265E70    94.298942  30.906587            0\n",
       "15353  FC3ACA0A97179    89.357624  26.717707            0\n",
       "20002  FFE8FF9B3E6AF    78.017824  26.938710            0\n",
       "19091  FF2F2A4EDC55D    89.100000  36.612426            0\n",
       "14769  FBC09E881ECC4    92.169894  26.089047            0"
      ]
     },
     "execution_count": 376,
     "metadata": {},
     "output_type": "execute_result"
    }
   ],
   "source": [
    "weight_bmi_wide.sample(5)"
   ]
  },
  {
   "cell_type": "code",
   "execution_count": 377,
   "id": "c10eada8",
   "metadata": {},
   "outputs": [
    {
     "data": {
      "text/html": [
       "<div>\n",
       "<style scoped>\n",
       "    .dataframe tbody tr th:only-of-type {\n",
       "        vertical-align: middle;\n",
       "    }\n",
       "\n",
       "    .dataframe tbody tr th {\n",
       "        vertical-align: top;\n",
       "    }\n",
       "\n",
       "    .dataframe thead th {\n",
       "        text-align: right;\n",
       "    }\n",
       "</style>\n",
       "<table border=\"1\" class=\"dataframe\">\n",
       "  <thead>\n",
       "    <tr style=\"text-align: right;\">\n",
       "      <th></th>\n",
       "      <th>weight_diag</th>\n",
       "      <th>bmi_diag</th>\n",
       "    </tr>\n",
       "  </thead>\n",
       "  <tbody>\n",
       "    <tr>\n",
       "      <th>count</th>\n",
       "      <td>20112.000000</td>\n",
       "      <td>20053.000000</td>\n",
       "    </tr>\n",
       "    <tr>\n",
       "      <th>mean</th>\n",
       "      <td>80.283382</td>\n",
       "      <td>27.862696</td>\n",
       "    </tr>\n",
       "    <tr>\n",
       "      <th>std</th>\n",
       "      <td>21.940968</td>\n",
       "      <td>6.756735</td>\n",
       "    </tr>\n",
       "    <tr>\n",
       "      <th>min</th>\n",
       "      <td>4.535920</td>\n",
       "      <td>1.607732</td>\n",
       "    </tr>\n",
       "    <tr>\n",
       "      <th>25%</th>\n",
       "      <td>65.000000</td>\n",
       "      <td>23.263313</td>\n",
       "    </tr>\n",
       "    <tr>\n",
       "      <th>50%</th>\n",
       "      <td>77.745669</td>\n",
       "      <td>26.965007</td>\n",
       "    </tr>\n",
       "    <tr>\n",
       "      <th>75%</th>\n",
       "      <td>92.351331</td>\n",
       "      <td>31.340548</td>\n",
       "    </tr>\n",
       "    <tr>\n",
       "      <th>max</th>\n",
       "      <td>625.000000</td>\n",
       "      <td>192.046745</td>\n",
       "    </tr>\n",
       "  </tbody>\n",
       "</table>\n",
       "</div>"
      ],
      "text/plain": [
       "        weight_diag      bmi_diag\n",
       "count  20112.000000  20053.000000\n",
       "mean      80.283382     27.862696\n",
       "std       21.940968      6.756735\n",
       "min        4.535920      1.607732\n",
       "25%       65.000000     23.263313\n",
       "50%       77.745669     26.965007\n",
       "75%       92.351331     31.340548\n",
       "max      625.000000    192.046745"
      ]
     },
     "execution_count": 377,
     "metadata": {},
     "output_type": "execute_result"
    }
   ],
   "source": [
    "weight_bmi_wide.iloc[:, 0:3].describe()"
   ]
  },
  {
   "cell_type": "markdown",
   "id": "f8b0176a",
   "metadata": {},
   "source": [
    "#### Percent change "
   ]
  },
  {
   "cell_type": "code",
   "execution_count": 378,
   "id": "b5513dfc",
   "metadata": {},
   "outputs": [],
   "source": [
    "# Select elgbility window of -90 to +90 days from advanced diagnosis.\n",
    "weight_win_summary = (\n",
    "    weight\n",
    "    .assign(weight_date_diff = (weight['TestDate'] - weight['met_date']).dt.days)\n",
    "    .query('weight_date_diff >= -90 and weight_date_diff <= 90')\n",
    ")"
   ]
  },
  {
   "cell_type": "code",
   "execution_count": 379,
   "id": "e62fe457",
   "metadata": {},
   "outputs": [],
   "source": [
    "# Select patients with more than 1 weight recording within elgibility window.\n",
    "weight_win_summary = weight_win_summary[weight_win_summary.duplicated(subset = ['PatientID'], keep = False)]"
   ]
  },
  {
   "cell_type": "code",
   "execution_count": 380,
   "id": "8c043b1b",
   "metadata": {},
   "outputs": [],
   "source": [
    "# Select weight from the earliest time within elgibility window. \n",
    "weight_tmin = weight_win_summary.loc[weight_win_summary.groupby('PatientID')['weight_date_diff'].idxmin()]"
   ]
  },
  {
   "cell_type": "code",
   "execution_count": 381,
   "id": "d21b5f7a",
   "metadata": {},
   "outputs": [],
   "source": [
    "# Select weight from the latest time within elgibility window. \n",
    "weight_tmax = weight_win_summary.loc[weight_win_summary.groupby('PatientID')['weight_date_diff'].idxmax()]"
   ]
  },
  {
   "cell_type": "code",
   "execution_count": 382,
   "id": "c7a17505",
   "metadata": {},
   "outputs": [],
   "source": [
    "# Combine above two dataframes and sort from earliest recorded weight to latest recorded weight for each patient. \n",
    "weight_tcomb = (\n",
    "    pd.concat([weight_tmin, weight_tmax])\n",
    "    .sort_values(by = ['PatientID', 'weight_date_diff'], ascending = True)\n",
    ")"
   ]
  },
  {
   "cell_type": "code",
   "execution_count": 383,
   "id": "f3ec261a",
   "metadata": {},
   "outputs": [
    {
     "data": {
      "text/plain": [
       "(43076, 21538)"
      ]
     },
     "execution_count": 383,
     "metadata": {},
     "output_type": "execute_result"
    }
   ],
   "source": [
    "row_ID(weight_tcomb)"
   ]
  },
  {
   "cell_type": "code",
   "execution_count": 384,
   "id": "be35816c",
   "metadata": {},
   "outputs": [],
   "source": [
    "weight_tcomb.loc[:, 'weight_pct_change'] = weight_tcomb.groupby('PatientID')['weight'].pct_change()"
   ]
  },
  {
   "cell_type": "code",
   "execution_count": 385,
   "id": "5daf8806",
   "metadata": {},
   "outputs": [],
   "source": [
    "weight_tcomb.loc[:, 'diff_date_diff'] = weight_tcomb['weight_date_diff'].diff()"
   ]
  },
  {
   "cell_type": "code",
   "execution_count": 386,
   "id": "82d1de24",
   "metadata": {},
   "outputs": [],
   "source": [
    "# Drop empty rows for weight_pct_change.\n",
    "weight_pct_wide = (\n",
    "    weight_tcomb\n",
    "    .dropna(subset = ['weight_pct_change'])\n",
    "    .filter(items = ['PatientID', 'weight_pct_change', 'diff_date_diff'])\n",
    ")"
   ]
  },
  {
   "cell_type": "code",
   "execution_count": 387,
   "id": "345200fc",
   "metadata": {},
   "outputs": [
    {
     "data": {
      "text/plain": [
       "(21538, 21538)"
      ]
     },
     "execution_count": 387,
     "metadata": {},
     "output_type": "execute_result"
    }
   ],
   "source": [
    "row_ID(weight_pct_wide)"
   ]
  },
  {
   "cell_type": "code",
   "execution_count": 388,
   "id": "ad622f72",
   "metadata": {},
   "outputs": [
    {
     "data": {
      "text/html": [
       "<div>\n",
       "<style scoped>\n",
       "    .dataframe tbody tr th:only-of-type {\n",
       "        vertical-align: middle;\n",
       "    }\n",
       "\n",
       "    .dataframe tbody tr th {\n",
       "        vertical-align: top;\n",
       "    }\n",
       "\n",
       "    .dataframe thead th {\n",
       "        text-align: right;\n",
       "    }\n",
       "</style>\n",
       "<table border=\"1\" class=\"dataframe\">\n",
       "  <thead>\n",
       "    <tr style=\"text-align: right;\">\n",
       "      <th></th>\n",
       "      <th>weight_pct_change</th>\n",
       "      <th>diff_date_diff</th>\n",
       "    </tr>\n",
       "  </thead>\n",
       "  <tbody>\n",
       "    <tr>\n",
       "      <th>count</th>\n",
       "      <td>21538.000000</td>\n",
       "      <td>21538.000000</td>\n",
       "    </tr>\n",
       "    <tr>\n",
       "      <th>mean</th>\n",
       "      <td>-0.025418</td>\n",
       "      <td>78.271427</td>\n",
       "    </tr>\n",
       "    <tr>\n",
       "      <th>std</th>\n",
       "      <td>0.168394</td>\n",
       "      <td>41.192619</td>\n",
       "    </tr>\n",
       "    <tr>\n",
       "      <th>min</th>\n",
       "      <td>-0.904288</td>\n",
       "      <td>0.000000</td>\n",
       "    </tr>\n",
       "    <tr>\n",
       "      <th>25%</th>\n",
       "      <td>-0.061224</td>\n",
       "      <td>52.000000</td>\n",
       "    </tr>\n",
       "    <tr>\n",
       "      <th>50%</th>\n",
       "      <td>-0.021609</td>\n",
       "      <td>73.000000</td>\n",
       "    </tr>\n",
       "    <tr>\n",
       "      <th>75%</th>\n",
       "      <td>0.008821</td>\n",
       "      <td>98.000000</td>\n",
       "    </tr>\n",
       "    <tr>\n",
       "      <th>max</th>\n",
       "      <td>19.180000</td>\n",
       "      <td>180.000000</td>\n",
       "    </tr>\n",
       "  </tbody>\n",
       "</table>\n",
       "</div>"
      ],
      "text/plain": [
       "       weight_pct_change  diff_date_diff\n",
       "count       21538.000000    21538.000000\n",
       "mean           -0.025418       78.271427\n",
       "std             0.168394       41.192619\n",
       "min            -0.904288        0.000000\n",
       "25%            -0.061224       52.000000\n",
       "50%            -0.021609       73.000000\n",
       "75%             0.008821       98.000000\n",
       "max            19.180000      180.000000"
      ]
     },
     "execution_count": 388,
     "metadata": {},
     "output_type": "execute_result"
    }
   ],
   "source": [
    "weight_pct_wide.describe()"
   ]
  },
  {
   "cell_type": "code",
   "execution_count": 389,
   "id": "662d26cc",
   "metadata": {},
   "outputs": [],
   "source": [
    "# Append missing training IDs and create a missing variable for those without weight_pct_change. \n",
    "weight_pct_wide = (\n",
    "    weight_pct_wide\n",
    "    .append(\n",
    "        pd.Series(train_IDs)[~pd.Series(train_IDs).isin(weight_pct_wide['PatientID'])].to_frame(name = 'PatientID'),\n",
    "        sort = False)\n",
    "    .drop(columns = ['diff_date_diff'])\n",
    ")"
   ]
  },
  {
   "cell_type": "code",
   "execution_count": 390,
   "id": "d942131d",
   "metadata": {},
   "outputs": [
    {
     "data": {
      "text/plain": [
       "(27452, 27452)"
      ]
     },
     "execution_count": 390,
     "metadata": {},
     "output_type": "execute_result"
    }
   ],
   "source": [
    "row_ID(weight_pct_wide)"
   ]
  },
  {
   "cell_type": "code",
   "execution_count": 391,
   "id": "9300be20",
   "metadata": {},
   "outputs": [],
   "source": [
    "weight_pct_wide.loc[:, 'weight_pct_na'] = np.where(weight_pct_wide['weight_pct_change'].isna(), 1, 0)"
   ]
  },
  {
   "cell_type": "code",
   "execution_count": 392,
   "id": "901353b5",
   "metadata": {},
   "outputs": [
    {
     "data": {
      "text/html": [
       "<div>\n",
       "<style scoped>\n",
       "    .dataframe tbody tr th:only-of-type {\n",
       "        vertical-align: middle;\n",
       "    }\n",
       "\n",
       "    .dataframe tbody tr th {\n",
       "        vertical-align: top;\n",
       "    }\n",
       "\n",
       "    .dataframe thead th {\n",
       "        text-align: right;\n",
       "    }\n",
       "</style>\n",
       "<table border=\"1\" class=\"dataframe\">\n",
       "  <thead>\n",
       "    <tr style=\"text-align: right;\">\n",
       "      <th></th>\n",
       "      <th>PatientID</th>\n",
       "      <th>weight_pct_change</th>\n",
       "      <th>weight_pct_na</th>\n",
       "    </tr>\n",
       "  </thead>\n",
       "  <tbody>\n",
       "    <tr>\n",
       "      <th>696997</th>\n",
       "      <td>FA70CAC3731BE</td>\n",
       "      <td>-0.109767</td>\n",
       "      <td>0</td>\n",
       "    </tr>\n",
       "    <tr>\n",
       "      <th>16371</th>\n",
       "      <td>FCFCBF5AC366E</td>\n",
       "      <td>NaN</td>\n",
       "      <td>1</td>\n",
       "    </tr>\n",
       "    <tr>\n",
       "      <th>589122</th>\n",
       "      <td>F8CA107C7CE27</td>\n",
       "      <td>0.004435</td>\n",
       "      <td>0</td>\n",
       "    </tr>\n",
       "    <tr>\n",
       "      <th>657703</th>\n",
       "      <td>F9CBDFFAF0B40</td>\n",
       "      <td>0.028302</td>\n",
       "      <td>0</td>\n",
       "    </tr>\n",
       "    <tr>\n",
       "      <th>698842</th>\n",
       "      <td>FA788453EC2A2</td>\n",
       "      <td>-0.007958</td>\n",
       "      <td>0</td>\n",
       "    </tr>\n",
       "  </tbody>\n",
       "</table>\n",
       "</div>"
      ],
      "text/plain": [
       "            PatientID  weight_pct_change  weight_pct_na\n",
       "696997  FA70CAC3731BE          -0.109767              0\n",
       "16371   FCFCBF5AC366E                NaN              1\n",
       "589122  F8CA107C7CE27           0.004435              0\n",
       "657703  F9CBDFFAF0B40           0.028302              0\n",
       "698842  FA788453EC2A2          -0.007958              0"
      ]
     },
     "execution_count": 392,
     "metadata": {},
     "output_type": "execute_result"
    }
   ],
   "source": [
    "weight_pct_wide.sample(5)"
   ]
  },
  {
   "cell_type": "markdown",
   "id": "bb9068d1",
   "metadata": {},
   "source": [
    "#### Weight slope"
   ]
  },
  {
   "cell_type": "code",
   "execution_count": 393,
   "id": "b0244457",
   "metadata": {},
   "outputs": [],
   "source": [
    "from scipy.stats import linregress "
   ]
  },
  {
   "cell_type": "code",
   "execution_count": 394,
   "id": "8aafe555",
   "metadata": {},
   "outputs": [],
   "source": [
    "weight_win_summary.loc[:, 'date_ordinal'] = weight_win_summary['TestDate'].map(dt.datetime.toordinal)"
   ]
  },
  {
   "cell_type": "code",
   "execution_count": 395,
   "id": "3f971eaf",
   "metadata": {},
   "outputs": [
    {
     "name": "stderr",
     "output_type": "stream",
     "text": [
      "/Applications/anaconda3/lib/python3.7/site-packages/scipy/stats/_stats_mstats_common.py:170: RuntimeWarning: invalid value encountered in double_scalars\n",
      "  slope = ssxym / ssxm\n"
     ]
    }
   ],
   "source": [
    "# Dataframe of slope for weight recordings within window period (kg/day).\n",
    "weight_slope_wide = (\n",
    "    weight_win_summary\n",
    "    .groupby('PatientID')\n",
    "    .apply(lambda x: pd.Series(linregress(x['date_ordinal'], x['weight'])))\n",
    "    .rename(columns = {0: 'weight_slope'})\n",
    "    .reset_index()\n",
    "    .filter(items = ['PatientID', 'weight_slope']))   "
   ]
  },
  {
   "cell_type": "code",
   "execution_count": 396,
   "id": "5dd23bad",
   "metadata": {},
   "outputs": [
    {
     "data": {
      "text/plain": [
       "(21538, 21538)"
      ]
     },
     "execution_count": 396,
     "metadata": {},
     "output_type": "execute_result"
    }
   ],
   "source": [
    "row_ID(weight_slope_wide)"
   ]
  },
  {
   "cell_type": "code",
   "execution_count": 397,
   "id": "a1411013",
   "metadata": {},
   "outputs": [
    {
     "data": {
      "text/html": [
       "<div>\n",
       "<style scoped>\n",
       "    .dataframe tbody tr th:only-of-type {\n",
       "        vertical-align: middle;\n",
       "    }\n",
       "\n",
       "    .dataframe tbody tr th {\n",
       "        vertical-align: top;\n",
       "    }\n",
       "\n",
       "    .dataframe thead th {\n",
       "        text-align: right;\n",
       "    }\n",
       "</style>\n",
       "<table border=\"1\" class=\"dataframe\">\n",
       "  <thead>\n",
       "    <tr style=\"text-align: right;\">\n",
       "      <th></th>\n",
       "      <th>weight_slope</th>\n",
       "    </tr>\n",
       "  </thead>\n",
       "  <tbody>\n",
       "    <tr>\n",
       "      <th>count</th>\n",
       "      <td>21481.000000</td>\n",
       "    </tr>\n",
       "    <tr>\n",
       "      <th>mean</th>\n",
       "      <td>-0.033547</td>\n",
       "    </tr>\n",
       "    <tr>\n",
       "      <th>std</th>\n",
       "      <td>0.158050</td>\n",
       "    </tr>\n",
       "    <tr>\n",
       "      <th>min</th>\n",
       "      <td>-5.805978</td>\n",
       "    </tr>\n",
       "    <tr>\n",
       "      <th>25%</th>\n",
       "      <td>-0.070719</td>\n",
       "    </tr>\n",
       "    <tr>\n",
       "      <th>50%</th>\n",
       "      <td>-0.024626</td>\n",
       "    </tr>\n",
       "    <tr>\n",
       "      <th>75%</th>\n",
       "      <td>0.009288</td>\n",
       "    </tr>\n",
       "    <tr>\n",
       "      <th>max</th>\n",
       "      <td>6.382687</td>\n",
       "    </tr>\n",
       "  </tbody>\n",
       "</table>\n",
       "</div>"
      ],
      "text/plain": [
       "       weight_slope\n",
       "count  21481.000000\n",
       "mean      -0.033547\n",
       "std        0.158050\n",
       "min       -5.805978\n",
       "25%       -0.070719\n",
       "50%       -0.024626\n",
       "75%        0.009288\n",
       "max        6.382687"
      ]
     },
     "execution_count": 397,
     "metadata": {},
     "output_type": "execute_result"
    }
   ],
   "source": [
    "weight_slope_wide.describe()"
   ]
  },
  {
   "cell_type": "code",
   "execution_count": 398,
   "id": "e79e261d",
   "metadata": {},
   "outputs": [],
   "source": [
    "# Append missing training IDs. \n",
    "weight_slope_wide = (\n",
    "    weight_slope_wide\n",
    "    .append(\n",
    "        pd.Series(train_IDs)[~pd.Series(train_IDs).isin(weight_slope_wide['PatientID'])].to_frame(name = 'PatientID'),\n",
    "        sort = False)\n",
    ")"
   ]
  },
  {
   "cell_type": "code",
   "execution_count": 399,
   "id": "78cc45ba",
   "metadata": {},
   "outputs": [
    {
     "data": {
      "text/plain": [
       "(27452, 27452)"
      ]
     },
     "execution_count": 399,
     "metadata": {},
     "output_type": "execute_result"
    }
   ],
   "source": [
    "row_ID(weight_slope_wide)"
   ]
  },
  {
   "cell_type": "code",
   "execution_count": 400,
   "id": "3ba7964b",
   "metadata": {},
   "outputs": [
    {
     "data": {
      "text/html": [
       "<div>\n",
       "<style scoped>\n",
       "    .dataframe tbody tr th:only-of-type {\n",
       "        vertical-align: middle;\n",
       "    }\n",
       "\n",
       "    .dataframe tbody tr th {\n",
       "        vertical-align: top;\n",
       "    }\n",
       "\n",
       "    .dataframe thead th {\n",
       "        text-align: right;\n",
       "    }\n",
       "</style>\n",
       "<table border=\"1\" class=\"dataframe\">\n",
       "  <thead>\n",
       "    <tr style=\"text-align: right;\">\n",
       "      <th></th>\n",
       "      <th>PatientID</th>\n",
       "      <th>weight_slope</th>\n",
       "    </tr>\n",
       "  </thead>\n",
       "  <tbody>\n",
       "    <tr>\n",
       "      <th>11969</th>\n",
       "      <td>F8E2EBCAAC3BE</td>\n",
       "      <td>-0.050586</td>\n",
       "    </tr>\n",
       "    <tr>\n",
       "      <th>250</th>\n",
       "      <td>F03117C16BAAE</td>\n",
       "      <td>0.070297</td>\n",
       "    </tr>\n",
       "    <tr>\n",
       "      <th>4218</th>\n",
       "      <td>F8BEF084CFEEB</td>\n",
       "      <td>NaN</td>\n",
       "    </tr>\n",
       "    <tr>\n",
       "      <th>1247</th>\n",
       "      <td>F0F65C30BC711</td>\n",
       "      <td>-0.127442</td>\n",
       "    </tr>\n",
       "    <tr>\n",
       "      <th>8037</th>\n",
       "      <td>F5F5E868EA587</td>\n",
       "      <td>0.034083</td>\n",
       "    </tr>\n",
       "  </tbody>\n",
       "</table>\n",
       "</div>"
      ],
      "text/plain": [
       "           PatientID  weight_slope\n",
       "11969  F8E2EBCAAC3BE     -0.050586\n",
       "250    F03117C16BAAE      0.070297\n",
       "4218   F8BEF084CFEEB           NaN\n",
       "1247   F0F65C30BC711     -0.127442\n",
       "8037   F5F5E868EA587      0.034083"
      ]
     },
     "execution_count": 400,
     "metadata": {},
     "output_type": "execute_result"
    }
   ],
   "source": [
    "weight_slope_wide.sample(5)"
   ]
  },
  {
   "cell_type": "markdown",
   "id": "129c8b06",
   "metadata": {},
   "source": [
    "#### Weight merge "
   ]
  },
  {
   "cell_type": "code",
   "execution_count": 401,
   "id": "c1ee8209",
   "metadata": {},
   "outputs": [],
   "source": [
    "weight_wide = pd.merge(weight_bmi_wide, weight_pct_wide, on = 'PatientID')"
   ]
  },
  {
   "cell_type": "code",
   "execution_count": 402,
   "id": "bc09a92f",
   "metadata": {},
   "outputs": [],
   "source": [
    "weight_wide = pd.merge(weight_wide, weight_slope_wide, on = 'PatientID')"
   ]
  },
  {
   "cell_type": "code",
   "execution_count": 403,
   "id": "1629e364",
   "metadata": {},
   "outputs": [
    {
     "data": {
      "text/plain": [
       "(27452, 27452)"
      ]
     },
     "execution_count": 403,
     "metadata": {},
     "output_type": "execute_result"
    }
   ],
   "source": [
    "row_ID(weight_wide)"
   ]
  },
  {
   "cell_type": "code",
   "execution_count": 404,
   "id": "8cc49a36",
   "metadata": {},
   "outputs": [
    {
     "data": {
      "text/html": [
       "<div>\n",
       "<style scoped>\n",
       "    .dataframe tbody tr th:only-of-type {\n",
       "        vertical-align: middle;\n",
       "    }\n",
       "\n",
       "    .dataframe tbody tr th {\n",
       "        vertical-align: top;\n",
       "    }\n",
       "\n",
       "    .dataframe thead th {\n",
       "        text-align: right;\n",
       "    }\n",
       "</style>\n",
       "<table border=\"1\" class=\"dataframe\">\n",
       "  <thead>\n",
       "    <tr style=\"text-align: right;\">\n",
       "      <th></th>\n",
       "      <th>PatientID</th>\n",
       "      <th>weight_diag</th>\n",
       "      <th>bmi_diag</th>\n",
       "      <th>bmi_diag_na</th>\n",
       "      <th>weight_pct_change</th>\n",
       "      <th>weight_pct_na</th>\n",
       "      <th>weight_slope</th>\n",
       "    </tr>\n",
       "  </thead>\n",
       "  <tbody>\n",
       "    <tr>\n",
       "      <th>9017</th>\n",
       "      <td>F71AAE11B0D96</td>\n",
       "      <td>84.186675</td>\n",
       "      <td>26.630532</td>\n",
       "      <td>0</td>\n",
       "      <td>-0.007487</td>\n",
       "      <td>0</td>\n",
       "      <td>-0.014768</td>\n",
       "    </tr>\n",
       "    <tr>\n",
       "      <th>16764</th>\n",
       "      <td>FD4C1F12DB8B4</td>\n",
       "      <td>66.587306</td>\n",
       "      <td>25.197883</td>\n",
       "      <td>0</td>\n",
       "      <td>-0.020436</td>\n",
       "      <td>0</td>\n",
       "      <td>-0.005994</td>\n",
       "    </tr>\n",
       "    <tr>\n",
       "      <th>6722</th>\n",
       "      <td>F54E5A90B12B0</td>\n",
       "      <td>90.990555</td>\n",
       "      <td>25.073003</td>\n",
       "      <td>0</td>\n",
       "      <td>-0.007976</td>\n",
       "      <td>0</td>\n",
       "      <td>-0.026363</td>\n",
       "    </tr>\n",
       "    <tr>\n",
       "      <th>19870</th>\n",
       "      <td>FFCEDFF977425</td>\n",
       "      <td>70.760352</td>\n",
       "      <td>29.866017</td>\n",
       "      <td>0</td>\n",
       "      <td>-0.141026</td>\n",
       "      <td>0</td>\n",
       "      <td>-0.135375</td>\n",
       "    </tr>\n",
       "    <tr>\n",
       "      <th>17330</th>\n",
       "      <td>FDC7B1C221F9C</td>\n",
       "      <td>120.201880</td>\n",
       "      <td>40.292666</td>\n",
       "      <td>0</td>\n",
       "      <td>-0.007547</td>\n",
       "      <td>0</td>\n",
       "      <td>0.038935</td>\n",
       "    </tr>\n",
       "  </tbody>\n",
       "</table>\n",
       "</div>"
      ],
      "text/plain": [
       "           PatientID  weight_diag   bmi_diag  bmi_diag_na  weight_pct_change  \\\n",
       "9017   F71AAE11B0D96    84.186675  26.630532            0          -0.007487   \n",
       "16764  FD4C1F12DB8B4    66.587306  25.197883            0          -0.020436   \n",
       "6722   F54E5A90B12B0    90.990555  25.073003            0          -0.007976   \n",
       "19870  FFCEDFF977425    70.760352  29.866017            0          -0.141026   \n",
       "17330  FDC7B1C221F9C   120.201880  40.292666            0          -0.007547   \n",
       "\n",
       "       weight_pct_na  weight_slope  \n",
       "9017               0     -0.014768  \n",
       "16764              0     -0.005994  \n",
       "6722               0     -0.026363  \n",
       "19870              0     -0.135375  \n",
       "17330              0      0.038935  "
      ]
     },
     "execution_count": 404,
     "metadata": {},
     "output_type": "execute_result"
    }
   ],
   "source": [
    "weight_wide.sample(5)"
   ]
  },
  {
   "cell_type": "code",
   "execution_count": 405,
   "id": "28c122a9",
   "metadata": {},
   "outputs": [
    {
     "name": "stdout",
     "output_type": "stream",
     "text": [
      "Variable              Type         Data/Info\n",
      "--------------------------------------------\n",
      "biomarker_wide        DataFrame               PatientID     <...>n[27452 rows x 5 columns]\n",
      "demographics          DataFrame               PatientID gend<...>n[27452 rows x 7 columns]\n",
      "ecog_diagnosis_wide   DataFrame                PatientID eco<...>n[27452 rows x 2 columns]\n",
      "enhanced_met          DataFrame               PatientID diag<...>n[27452 rows x 8 columns]\n",
      "height_avg            DataFrame               PatientID  hei<...>n[27246 rows x 2 columns]\n",
      "insurance_wide        DataFrame               PatientID  med<...>n[27452 rows x 9 columns]\n",
      "med_admin_wide        DataFrame               PatientID  ste<...>[27452 rows x 15 columns]\n",
      "mortality             DataFrame               PatientID  dea<...>n[27452 rows x 3 columns]\n",
      "telemedicine          DataFrame               PatientID     <...>n[23327 rows x 3 columns]\n",
      "visit                 DataFrame                 PatientID   <...>2010098 rows x 7 columns]\n",
      "vitals                DataFrame                  PatientID  <...>499724 rows x 16 columns]\n",
      "weight                DataFrame                 PatientID   <...>1071451 rows x 4 columns]\n",
      "weight_bmi_wide       DataFrame               PatientID  wei<...>n[27452 rows x 4 columns]\n",
      "weight_pct_wide       DataFrame               PatientID  wei<...>n[27452 rows x 3 columns]\n",
      "weight_slope_wide     DataFrame               PatientID  wei<...>n[27452 rows x 2 columns]\n",
      "weight_tcomb          DataFrame                 PatientID   <...>n[43076 rows x 7 columns]\n",
      "weight_tmax           DataFrame                 PatientID   <...>n[21538 rows x 5 columns]\n",
      "weight_tmin           DataFrame                 PatientID   <...>n[21538 rows x 5 columns]\n",
      "weight_wide           DataFrame               PatientID  wei<...>n[27452 rows x 7 columns]\n",
      "weight_win_bmi        DataFrame                 PatientID   <...>n[69671 rows x 5 columns]\n",
      "weight_win_summary    DataFrame                 PatientID   <...>[168681 rows x 6 columns]\n"
     ]
    }
   ],
   "source": [
    "%whos DataFrame"
   ]
  },
  {
   "cell_type": "code",
   "execution_count": 406,
   "id": "eb65cc79",
   "metadata": {},
   "outputs": [],
   "source": [
    "# Keep biomarker_wide, demographics, ecog_diagnosis_wide, enhanced_met, insurance_wide, med_admin_wide, mortality, \n",
    "# and weight_wide\n",
    "del height_avg\n",
    "del vitals\n",
    "del weight\n",
    "del weight_bmi_wide\n",
    "del weight_pct_wide\n",
    "del weight_slope_wide\n",
    "del weight_tcomb\n",
    "del weight_tmax\n",
    "del weight_tmin\n",
    "del weight_win_bmi\n",
    "del weight_win_summary"
   ]
  },
  {
   "cell_type": "markdown",
   "id": "9b7ebd0d",
   "metadata": {},
   "source": [
    "### Labs"
   ]
  },
  {
   "cell_type": "code",
   "execution_count": 407,
   "id": "e0c8c5c4",
   "metadata": {},
   "outputs": [],
   "source": [
    "lab = pd.read_csv('Lab.csv')"
   ]
  },
  {
   "cell_type": "code",
   "execution_count": 408,
   "id": "1cfe8c46",
   "metadata": {},
   "outputs": [],
   "source": [
    "lab = lab[lab['PatientID'].isin(train_IDs)]"
   ]
  },
  {
   "cell_type": "code",
   "execution_count": 409,
   "id": "92e9e5b4",
   "metadata": {},
   "outputs": [
    {
     "data": {
      "text/plain": [
       "(24441858, 26385)"
      ]
     },
     "execution_count": 409,
     "metadata": {},
     "output_type": "execute_result"
    }
   ],
   "source": [
    "row_ID(lab)"
   ]
  },
  {
   "cell_type": "code",
   "execution_count": 410,
   "id": "b6d6e556",
   "metadata": {},
   "outputs": [
    {
     "data": {
      "text/html": [
       "<div>\n",
       "<style scoped>\n",
       "    .dataframe tbody tr th:only-of-type {\n",
       "        vertical-align: middle;\n",
       "    }\n",
       "\n",
       "    .dataframe tbody tr th {\n",
       "        vertical-align: top;\n",
       "    }\n",
       "\n",
       "    .dataframe thead th {\n",
       "        text-align: right;\n",
       "    }\n",
       "</style>\n",
       "<table border=\"1\" class=\"dataframe\">\n",
       "  <thead>\n",
       "    <tr style=\"text-align: right;\">\n",
       "      <th></th>\n",
       "      <th>PatientID</th>\n",
       "      <th>PracticeID</th>\n",
       "      <th>TestDate</th>\n",
       "      <th>LOINC</th>\n",
       "      <th>Test</th>\n",
       "      <th>LabComponent</th>\n",
       "      <th>TestBaseName</th>\n",
       "      <th>LabSource</th>\n",
       "      <th>TestUnits</th>\n",
       "      <th>TestUnitsCleaned</th>\n",
       "      <th>ResultDate</th>\n",
       "      <th>TestResult</th>\n",
       "      <th>TestResultCleaned</th>\n",
       "      <th>MinNorm</th>\n",
       "      <th>MinNormCleaned</th>\n",
       "      <th>MaxNorm</th>\n",
       "      <th>MaxNormCleaned</th>\n",
       "    </tr>\n",
       "  </thead>\n",
       "  <tbody>\n",
       "    <tr>\n",
       "      <th>18425869</th>\n",
       "      <td>F99C691FEFDF0</td>\n",
       "      <td>SBA2549C29E0D</td>\n",
       "      <td>2020-11-30</td>\n",
       "      <td>26464-8</td>\n",
       "      <td>leukocytes [#/volume] in blood</td>\n",
       "      <td>White Blood Cell Count</td>\n",
       "      <td>leukocytes</td>\n",
       "      <td>source</td>\n",
       "      <td>10*3/uL</td>\n",
       "      <td>10*9/L</td>\n",
       "      <td>2020-11-30</td>\n",
       "      <td>9.9</td>\n",
       "      <td>9.9</td>\n",
       "      <td>4.5</td>\n",
       "      <td>4.5</td>\n",
       "      <td>11.0</td>\n",
       "      <td>11.0</td>\n",
       "    </tr>\n",
       "    <tr>\n",
       "      <th>851290</th>\n",
       "      <td>F073B881A98B7</td>\n",
       "      <td>SB98638660CAA</td>\n",
       "      <td>2022-02-01</td>\n",
       "      <td>48643-1</td>\n",
       "      <td>glomerular filtration rate/1.73 sq m.predicted...</td>\n",
       "      <td>Glomerular filtration rate (eGFR) african amer...</td>\n",
       "      <td>glomerular filtration rate/1.73 sq m.predicted...</td>\n",
       "      <td>source</td>\n",
       "      <td>ml/min/1.73m*2</td>\n",
       "      <td>ml/min/1.73m*2</td>\n",
       "      <td>2022-02-02</td>\n",
       "      <td>89</td>\n",
       "      <td>89.0</td>\n",
       "      <td>59.0</td>\n",
       "      <td>59.0</td>\n",
       "      <td>NaN</td>\n",
       "      <td>NaN</td>\n",
       "    </tr>\n",
       "    <tr>\n",
       "      <th>29490413</th>\n",
       "      <td>FF693EA2CDB0F</td>\n",
       "      <td>SA819E96EB4B3</td>\n",
       "      <td>2021-10-25</td>\n",
       "      <td>2345-7</td>\n",
       "      <td>glucose [mass/volume] in serum or plasma</td>\n",
       "      <td>Glucose</td>\n",
       "      <td>glucose</td>\n",
       "      <td>source</td>\n",
       "      <td>mg/dL</td>\n",
       "      <td>mg/dL</td>\n",
       "      <td>2021-10-25</td>\n",
       "      <td>109</td>\n",
       "      <td>109.0</td>\n",
       "      <td>70.0</td>\n",
       "      <td>70.0</td>\n",
       "      <td>105.0</td>\n",
       "      <td>105.0</td>\n",
       "    </tr>\n",
       "    <tr>\n",
       "      <th>16772797</th>\n",
       "      <td>F8BFD48291940</td>\n",
       "      <td>SAEB640170989</td>\n",
       "      <td>2014-11-24</td>\n",
       "      <td>2075-0</td>\n",
       "      <td>chloride [moles/volume] in serum or plasma</td>\n",
       "      <td>Chloride</td>\n",
       "      <td>chloride</td>\n",
       "      <td>source</td>\n",
       "      <td>meq/L</td>\n",
       "      <td>NaN</td>\n",
       "      <td>2014-11-24</td>\n",
       "      <td>107.0</td>\n",
       "      <td>NaN</td>\n",
       "      <td>99.0</td>\n",
       "      <td>NaN</td>\n",
       "      <td>110.0</td>\n",
       "      <td>NaN</td>\n",
       "    </tr>\n",
       "    <tr>\n",
       "      <th>10260599</th>\n",
       "      <td>F548299BA29F9</td>\n",
       "      <td>SB79A71DF0C00</td>\n",
       "      <td>2018-06-20</td>\n",
       "      <td>2345-7</td>\n",
       "      <td>glucose [mass/volume] in serum or plasma</td>\n",
       "      <td>Glucose</td>\n",
       "      <td>glucose</td>\n",
       "      <td>source</td>\n",
       "      <td>mg/dL</td>\n",
       "      <td>mg/dL</td>\n",
       "      <td>2018-06-20</td>\n",
       "      <td>99</td>\n",
       "      <td>99.0</td>\n",
       "      <td>60.0</td>\n",
       "      <td>60.0</td>\n",
       "      <td>100.0</td>\n",
       "      <td>100.0</td>\n",
       "    </tr>\n",
       "  </tbody>\n",
       "</table>\n",
       "</div>"
      ],
      "text/plain": [
       "              PatientID     PracticeID    TestDate    LOINC  \\\n",
       "18425869  F99C691FEFDF0  SBA2549C29E0D  2020-11-30  26464-8   \n",
       "851290    F073B881A98B7  SB98638660CAA  2022-02-01  48643-1   \n",
       "29490413  FF693EA2CDB0F  SA819E96EB4B3  2021-10-25   2345-7   \n",
       "16772797  F8BFD48291940  SAEB640170989  2014-11-24   2075-0   \n",
       "10260599  F548299BA29F9  SB79A71DF0C00  2018-06-20   2345-7   \n",
       "\n",
       "                                                       Test  \\\n",
       "18425869                     leukocytes [#/volume] in blood   \n",
       "851290    glomerular filtration rate/1.73 sq m.predicted...   \n",
       "29490413           glucose [mass/volume] in serum or plasma   \n",
       "16772797         chloride [moles/volume] in serum or plasma   \n",
       "10260599           glucose [mass/volume] in serum or plasma   \n",
       "\n",
       "                                               LabComponent  \\\n",
       "18425869                             White Blood Cell Count   \n",
       "851290    Glomerular filtration rate (eGFR) african amer...   \n",
       "29490413                                            Glucose   \n",
       "16772797                                           Chloride   \n",
       "10260599                                            Glucose   \n",
       "\n",
       "                                               TestBaseName LabSource  \\\n",
       "18425869                                         leukocytes    source   \n",
       "851290    glomerular filtration rate/1.73 sq m.predicted...    source   \n",
       "29490413                                            glucose    source   \n",
       "16772797                                           chloride    source   \n",
       "10260599                                            glucose    source   \n",
       "\n",
       "               TestUnits TestUnitsCleaned  ResultDate TestResult  \\\n",
       "18425869         10*3/uL           10*9/L  2020-11-30        9.9   \n",
       "851290    ml/min/1.73m*2   ml/min/1.73m*2  2022-02-02         89   \n",
       "29490413           mg/dL            mg/dL  2021-10-25        109   \n",
       "16772797           meq/L              NaN  2014-11-24      107.0   \n",
       "10260599           mg/dL            mg/dL  2018-06-20         99   \n",
       "\n",
       "          TestResultCleaned  MinNorm  MinNormCleaned  MaxNorm  MaxNormCleaned  \n",
       "18425869                9.9      4.5             4.5     11.0            11.0  \n",
       "851290                 89.0     59.0            59.0      NaN             NaN  \n",
       "29490413              109.0     70.0            70.0    105.0           105.0  \n",
       "16772797                NaN     99.0             NaN    110.0             NaN  \n",
       "10260599               99.0     60.0            60.0    100.0           100.0  "
      ]
     },
     "execution_count": 410,
     "metadata": {},
     "output_type": "execute_result"
    }
   ],
   "source": [
    "lab.sample(5)"
   ]
  },
  {
   "cell_type": "markdown",
   "id": "a4726eaf",
   "metadata": {},
   "source": [
    "**The Lab table is a longitudinal record of lab captured in the EHR with multiple-rows-per-patient. A single-patient-per-row table will be built focusing on the following NCCN recommended labs:** \n",
    "* **Creatinine -- (LOINC: 2160-0 and 38483-4)**\n",
    "* **Hemoglobin -- (LOINC: 718-7 and 20509-6)**\n",
    "* **White blood cell count -- (LOINC: 26464-8 and 6690-2)**\n",
    "* **Neutrophil count -- (LOINC: 26499-4, 751-8, 30451-9, and 753-4)**\n",
    "* **Albumin, serum -- (LOINC: 1751-7)**\n",
    "* **Total bilirubin -- (LOINC: 42719-5 and 1975-2)**\n",
    "* **Sodium — (LOINC: 2947-0 and 2951-2)**\n",
    "* **Bicarb — (LOINC: 1963-8, 1959-6, 14627-4, 1960-4, and 2028-9)**\n",
    "* **Calcium — (LOINC: 17861-6 and 49765-1)** \n",
    "* **AST — (LOINC: 1920-8)**\n",
    "* **ALT — (LOINC: 1742-6, 1743-4, and 1744-2)**\n",
    "* **Platelet -- (LOINC: 26515-7, 777-3, 778-1, and 49497-1)**\n",
    "* **Potassium -- (LOINC: 6298-4 and 2823-3)**\n",
    "* **Chloride -- (LOINC: 2075-0)**\n",
    "* **BUN -- (LOINC: 3094-0)**\n",
    "* **ALP -- (LOINC: 6768-6)**\n",
    "* **CEA -- (LOINC: 2039-6)**\n",
    "\n",
    "**The index date will be time of advanced diagnosis with an elgibility window of -90 days to +30 days. The lab value closest to the index date will be selected for each patient. The following summary statistics, using an elgibility window of negative infinity to +30 days from advanced diagnosis, will also be created for the above variables:** \n",
    "* **Max**\n",
    "* **Min**\n",
    "* **Mean**\n",
    "* **Standard deviation** \n",
    "* **Slope**"
   ]
  },
  {
   "cell_type": "markdown",
   "id": "195e49b3",
   "metadata": {},
   "source": [
    "#### 9.1 Baseline lab values"
   ]
  },
  {
   "cell_type": "code",
   "execution_count": 411,
   "id": "f1512cea",
   "metadata": {},
   "outputs": [],
   "source": [
    "lab = pd.merge(lab, enhanced_met[['PatientID', 'met_date']], on = 'PatientID', how = 'left')"
   ]
  },
  {
   "cell_type": "code",
   "execution_count": 412,
   "id": "55d9705c",
   "metadata": {},
   "outputs": [],
   "source": [
    "lab.loc[:, 'ResultDate'] = pd.to_datetime(lab['ResultDate']) "
   ]
  },
  {
   "cell_type": "code",
   "execution_count": 413,
   "id": "f3e331a0",
   "metadata": {},
   "outputs": [],
   "source": [
    "# Select rows with clinically relevant labs.\n",
    "lab_core = (\n",
    "    lab[\n",
    "    (lab['LOINC'] == \"2160-0\") |\n",
    "    (lab['LOINC'] == \"38483-4\") | \n",
    "    (lab['LOINC'] == \"718-7\") |\n",
    "    (lab['LOINC'] == \"20509-6\") |\n",
    "    (lab['LOINC'] == \"26464-8\") |\n",
    "    (lab['LOINC'] == \"6690-2\") |\n",
    "    (lab['LOINC'] == \"26499-4\") |\n",
    "    (lab['LOINC'] == \"751-8\") |\n",
    "    (lab['LOINC'] == \"30451-9\") |\n",
    "    (lab['LOINC'] == \"753-4\") |\n",
    "    (lab['LOINC'] == \"1751-7\") |\n",
    "    (lab['LOINC'] == \"42719-5\") |\n",
    "    (lab['LOINC'] == \"1975-2\") |\n",
    "    (lab['LOINC'] == \"2947-0\") |\n",
    "    (lab['LOINC'] == \"2951-2\") |\n",
    "    (lab['LOINC'] == \"1963-8\") |\n",
    "    (lab['LOINC'] == \"1959-6\") |\n",
    "    (lab['LOINC'] == \"14627-4\") |\n",
    "    (lab['LOINC'] == \"1960-4\") |\n",
    "    (lab['LOINC'] == \"2028-9\") |\n",
    "    (lab['LOINC'] == \"17861-6\") |\n",
    "    (lab['LOINC'] == \"49765-1\") |\n",
    "    (lab['LOINC'] == \"1920-8\") |\n",
    "    (lab['LOINC'] == \"1742-6\") | \n",
    "    (lab['LOINC'] == \"1743-4\") |\n",
    "    (lab['LOINC'] == \"1744-2\") |\n",
    "    (lab['LOINC'] == \"26515-7\") | \n",
    "    (lab['LOINC'] == \"777-3\") |\n",
    "    (lab['LOINC'] == \"778-1\") |\n",
    "    (lab['LOINC'] == \"49497-1\") | \n",
    "    (lab['LOINC'] == \"6298-4\") |\n",
    "    (lab['LOINC'] == \"2823-3\") |\n",
    "    (lab['LOINC'] == \"2075-0\") | \n",
    "    (lab['LOINC'] == \"3094-0\") |\n",
    "    (lab['LOINC'] == \"6768-6\") |\n",
    "    (lab['LOINC'] == \"2039-6\")]\n",
    "    .filter(items = ['PatientID', \n",
    "                     'ResultDate', \n",
    "                     'LOINC', \n",
    "                     'LabComponent', \n",
    "                     'TestUnits', \n",
    "                     'TestUnitsCleaned', \n",
    "                     'TestResult', \n",
    "                     'TestResultCleaned', \n",
    "                     'met_date'])\n",
    ")"
   ]
  },
  {
   "cell_type": "code",
   "execution_count": 414,
   "id": "a4ebcd9e",
   "metadata": {},
   "outputs": [],
   "source": [
    "conditions = [\n",
    "    ((lab_core['LOINC'] == '2160-0') | (lab_core['LOINC'] == '38483-4')),\n",
    "    ((lab_core['LOINC'] == '718-7') | (lab_core['LOINC'] == '20509-6')),\n",
    "    ((lab_core['LOINC'] == '26464-8') | (lab_core['LOINC'] == '6690-2')), \n",
    "    ((lab_core['LOINC'] == '26499-4') | (lab_core['LOINC'] == '751-8') | (lab_core['LOINC'] == '30451-9') | (lab_core['LOINC'] == '753-4')),\n",
    "    (lab_core['LOINC'] == '1751-7'),\n",
    "    ((lab_core['LOINC'] == '42719-5') | (lab_core['LOINC'] == '1975-2')),\n",
    "    ((lab_core['LOINC'] == '2947-0') | (lab_core['LOINC'] == '2951-2')),\n",
    "    ((lab_core['LOINC'] == '1963-8') | (lab_core['LOINC'] == '1959-6') | (lab_core['LOINC'] == '14627-4') | (lab_core['LOINC'] == '1960-4') | (lab_core['LOINC'] == '2028-9')),\n",
    "    ((lab_core['LOINC'] == '17861-6') | (lab_core['LOINC'] == '49765-1')),\n",
    "    (lab_core['LOINC'] == '1920-8'),\n",
    "    ((lab_core['LOINC'] == '1742-6') | (lab_core['LOINC'] == '1743-4') | (lab_core['LOINC'] == '1744-2')),\n",
    "    ((lab_core['LOINC'] == '26515-7') | (lab_core['LOINC'] == '777-3') | (lab_core['LOINC'] == '778-1') | (lab_core['LOINC'] == '49497-1')),\n",
    "    ((lab_core['LOINC'] == '6298-4') | (lab_core['LOINC'] == '2823-3')),\n",
    "    (lab_core['LOINC'] == '2075-0'), \n",
    "    (lab_core['LOINC'] == '3094-0'),\n",
    "    (lab_core['LOINC'] == '6768-6'),\n",
    "    (lab_core['LOINC'] == '2039-6')]\n",
    "\n",
    "choices = ['creatinine', \n",
    "           'hemoglobin', \n",
    "           'wbc', \n",
    "           'neutrophil_count',  \n",
    "           'albumin', \n",
    "           'total_bilirubin', \n",
    "           'sodium', \n",
    "           'bicarb',\n",
    "           'calcium',\n",
    "           'ast', \n",
    "           'alt',\n",
    "           'platelet',\n",
    "           'potassium', \n",
    "           'chloride',\n",
    "           'bun',\n",
    "           'alp',\n",
    "           'cea']\n",
    "\n",
    "lab_core.loc[:, 'lab_name'] = np.select(conditions, choices)"
   ]
  },
  {
   "cell_type": "code",
   "execution_count": 415,
   "id": "63859565",
   "metadata": {},
   "outputs": [],
   "source": [
    "# Remove missing lab values. \n",
    "lab_core = lab_core.dropna(subset = ['TestResultCleaned'])"
   ]
  },
  {
   "cell_type": "code",
   "execution_count": 416,
   "id": "c2002801",
   "metadata": {},
   "outputs": [
    {
     "data": {
      "text/plain": [
       "10*3/uL     0.942860\n",
       "10*3/mm3    0.039690\n",
       "10*9/L      0.010848\n",
       "cell/uL     0.005379\n",
       "10*3/L      0.000527\n",
       "Name: TestUnits, dtype: float64"
      ]
     },
     "execution_count": 416,
     "metadata": {},
     "output_type": "execute_result"
    }
   ],
   "source": [
    "(\n",
    "    lab_core\n",
    "    .query('lab_name == \"wbc\" or lab_name == \"neutrophil_count\" or lab_name == \"platelet\"')\n",
    "    .TestUnits.value_counts(normalize = True)\n",
    "    .head(5)\n",
    ")"
   ]
  },
  {
   "cell_type": "code",
   "execution_count": 417,
   "id": "bfcb2224",
   "metadata": {},
   "outputs": [
    {
     "data": {
      "text/html": [
       "<div>\n",
       "<style scoped>\n",
       "    .dataframe tbody tr th:only-of-type {\n",
       "        vertical-align: middle;\n",
       "    }\n",
       "\n",
       "    .dataframe tbody tr th {\n",
       "        vertical-align: top;\n",
       "    }\n",
       "\n",
       "    .dataframe thead th {\n",
       "        text-align: right;\n",
       "    }\n",
       "</style>\n",
       "<table border=\"1\" class=\"dataframe\">\n",
       "  <thead>\n",
       "    <tr style=\"text-align: right;\">\n",
       "      <th></th>\n",
       "      <th>PatientID</th>\n",
       "      <th>ResultDate</th>\n",
       "      <th>LOINC</th>\n",
       "      <th>LabComponent</th>\n",
       "      <th>TestUnits</th>\n",
       "      <th>TestUnitsCleaned</th>\n",
       "      <th>TestResult</th>\n",
       "      <th>TestResultCleaned</th>\n",
       "      <th>met_date</th>\n",
       "      <th>lab_name</th>\n",
       "    </tr>\n",
       "  </thead>\n",
       "  <tbody>\n",
       "    <tr>\n",
       "      <th>20957886</th>\n",
       "      <td>FDB11E95D0D92</td>\n",
       "      <td>2015-12-15</td>\n",
       "      <td>26515-7</td>\n",
       "      <td>Platelet count</td>\n",
       "      <td>10*3/L</td>\n",
       "      <td>10*9/L</td>\n",
       "      <td>365</td>\n",
       "      <td>0.000365</td>\n",
       "      <td>2013-12-09</td>\n",
       "      <td>platelet</td>\n",
       "    </tr>\n",
       "    <tr>\n",
       "      <th>771781</th>\n",
       "      <td>F082B873CEC56</td>\n",
       "      <td>2016-02-10</td>\n",
       "      <td>26464-8</td>\n",
       "      <td>White Blood Cell Count</td>\n",
       "      <td>10*3/L</td>\n",
       "      <td>10*9/L</td>\n",
       "      <td>10.2</td>\n",
       "      <td>0.000010</td>\n",
       "      <td>2015-09-22</td>\n",
       "      <td>wbc</td>\n",
       "    </tr>\n",
       "    <tr>\n",
       "      <th>537227</th>\n",
       "      <td>F0595B42F6966</td>\n",
       "      <td>2016-04-20</td>\n",
       "      <td>26499-4</td>\n",
       "      <td>Neutrophil count (absolute)</td>\n",
       "      <td>10*3/L</td>\n",
       "      <td>10*9/L</td>\n",
       "      <td>5.7</td>\n",
       "      <td>0.000006</td>\n",
       "      <td>2016-03-23</td>\n",
       "      <td>neutrophil_count</td>\n",
       "    </tr>\n",
       "    <tr>\n",
       "      <th>4960191</th>\n",
       "      <td>F3389591A64C7</td>\n",
       "      <td>2016-01-21</td>\n",
       "      <td>26515-7</td>\n",
       "      <td>Platelet count</td>\n",
       "      <td>10*3/L</td>\n",
       "      <td>10*9/L</td>\n",
       "      <td>380</td>\n",
       "      <td>0.000380</td>\n",
       "      <td>2015-12-01</td>\n",
       "      <td>platelet</td>\n",
       "    </tr>\n",
       "    <tr>\n",
       "      <th>25531</th>\n",
       "      <td>F004A705D8465</td>\n",
       "      <td>2016-09-07</td>\n",
       "      <td>26515-7</td>\n",
       "      <td>Platelet count</td>\n",
       "      <td>10*3/L</td>\n",
       "      <td>10*9/L</td>\n",
       "      <td>166</td>\n",
       "      <td>0.000166</td>\n",
       "      <td>2014-08-03</td>\n",
       "      <td>platelet</td>\n",
       "    </tr>\n",
       "  </tbody>\n",
       "</table>\n",
       "</div>"
      ],
      "text/plain": [
       "              PatientID ResultDate    LOINC                 LabComponent  \\\n",
       "20957886  FDB11E95D0D92 2015-12-15  26515-7               Platelet count   \n",
       "771781    F082B873CEC56 2016-02-10  26464-8       White Blood Cell Count   \n",
       "537227    F0595B42F6966 2016-04-20  26499-4  Neutrophil count (absolute)   \n",
       "4960191   F3389591A64C7 2016-01-21  26515-7               Platelet count   \n",
       "25531     F004A705D8465 2016-09-07  26515-7               Platelet count   \n",
       "\n",
       "         TestUnits TestUnitsCleaned TestResult  TestResultCleaned   met_date  \\\n",
       "20957886    10*3/L           10*9/L        365           0.000365 2013-12-09   \n",
       "771781      10*3/L           10*9/L       10.2           0.000010 2015-09-22   \n",
       "537227      10*3/L           10*9/L        5.7           0.000006 2016-03-23   \n",
       "4960191     10*3/L           10*9/L        380           0.000380 2015-12-01   \n",
       "25531       10*3/L           10*9/L        166           0.000166 2014-08-03   \n",
       "\n",
       "                  lab_name  \n",
       "20957886          platelet  \n",
       "771781                 wbc  \n",
       "537227    neutrophil_count  \n",
       "4960191           platelet  \n",
       "25531             platelet  "
      ]
     },
     "execution_count": 417,
     "metadata": {},
     "output_type": "execute_result"
    }
   ],
   "source": [
    "(\n",
    "    lab_core\n",
    "    .query('lab_name == \"wbc\" or lab_name == \"neutrophil_count\" or lab_name == \"platelet\"')\n",
    "    .query('TestUnits == \"10*3/L\"')\n",
    "    .sample(5)\n",
    ")"
   ]
  },
  {
   "cell_type": "code",
   "execution_count": 418,
   "id": "871883c1",
   "metadata": {},
   "outputs": [
    {
     "data": {
      "text/plain": [
       "g/dL     0.999919\n",
       "g/uL     0.000078\n",
       "mg/dL    0.000003\n",
       "Name: TestUnits, dtype: float64"
      ]
     },
     "execution_count": 418,
     "metadata": {},
     "output_type": "execute_result"
    }
   ],
   "source": [
    "(\n",
    "    lab_core\n",
    "    .query('lab_name == \"hemoglobin\"')\n",
    "    .TestUnits.value_counts(normalize = True)\n",
    "    .head(5)\n",
    ")"
   ]
  },
  {
   "cell_type": "code",
   "execution_count": 419,
   "id": "7e33292c",
   "metadata": {},
   "outputs": [
    {
     "data": {
      "text/html": [
       "<div>\n",
       "<style scoped>\n",
       "    .dataframe tbody tr th:only-of-type {\n",
       "        vertical-align: middle;\n",
       "    }\n",
       "\n",
       "    .dataframe tbody tr th {\n",
       "        vertical-align: top;\n",
       "    }\n",
       "\n",
       "    .dataframe thead th {\n",
       "        text-align: right;\n",
       "    }\n",
       "</style>\n",
       "<table border=\"1\" class=\"dataframe\">\n",
       "  <thead>\n",
       "    <tr style=\"text-align: right;\">\n",
       "      <th></th>\n",
       "      <th>PatientID</th>\n",
       "      <th>ResultDate</th>\n",
       "      <th>LOINC</th>\n",
       "      <th>LabComponent</th>\n",
       "      <th>TestUnits</th>\n",
       "      <th>TestUnitsCleaned</th>\n",
       "      <th>TestResult</th>\n",
       "      <th>TestResultCleaned</th>\n",
       "      <th>met_date</th>\n",
       "      <th>lab_name</th>\n",
       "    </tr>\n",
       "  </thead>\n",
       "  <tbody>\n",
       "    <tr>\n",
       "      <th>20245935</th>\n",
       "      <td>FD3816FB84B6E</td>\n",
       "      <td>2012-09-10</td>\n",
       "      <td>718-7</td>\n",
       "      <td>Hemoglobin, whole blood</td>\n",
       "      <td>g/uL</td>\n",
       "      <td>g/dL</td>\n",
       "      <td>13.3</td>\n",
       "      <td>1330000.0</td>\n",
       "      <td>2013-02-14</td>\n",
       "      <td>hemoglobin</td>\n",
       "    </tr>\n",
       "    <tr>\n",
       "      <th>21328811</th>\n",
       "      <td>FDF17C0BAFBF7</td>\n",
       "      <td>2012-04-09</td>\n",
       "      <td>718-7</td>\n",
       "      <td>Hemoglobin, whole blood</td>\n",
       "      <td>g/uL</td>\n",
       "      <td>g/dL</td>\n",
       "      <td>13.5</td>\n",
       "      <td>1350000.0</td>\n",
       "      <td>2014-01-15</td>\n",
       "      <td>hemoglobin</td>\n",
       "    </tr>\n",
       "    <tr>\n",
       "      <th>21328678</th>\n",
       "      <td>FDF17C0BAFBF7</td>\n",
       "      <td>2012-02-07</td>\n",
       "      <td>718-7</td>\n",
       "      <td>Hemoglobin, whole blood</td>\n",
       "      <td>g/uL</td>\n",
       "      <td>g/dL</td>\n",
       "      <td>13.6</td>\n",
       "      <td>1360000.0</td>\n",
       "      <td>2014-01-15</td>\n",
       "      <td>hemoglobin</td>\n",
       "    </tr>\n",
       "    <tr>\n",
       "      <th>20246122</th>\n",
       "      <td>FD3816FB84B6E</td>\n",
       "      <td>2013-02-26</td>\n",
       "      <td>718-7</td>\n",
       "      <td>Hemoglobin, whole blood</td>\n",
       "      <td>g/uL</td>\n",
       "      <td>g/dL</td>\n",
       "      <td>14.9</td>\n",
       "      <td>1490000.0</td>\n",
       "      <td>2013-02-14</td>\n",
       "      <td>hemoglobin</td>\n",
       "    </tr>\n",
       "    <tr>\n",
       "      <th>21328707</th>\n",
       "      <td>FDF17C0BAFBF7</td>\n",
       "      <td>2012-02-20</td>\n",
       "      <td>718-7</td>\n",
       "      <td>Hemoglobin, whole blood</td>\n",
       "      <td>g/uL</td>\n",
       "      <td>g/dL</td>\n",
       "      <td>13.8</td>\n",
       "      <td>1380000.0</td>\n",
       "      <td>2014-01-15</td>\n",
       "      <td>hemoglobin</td>\n",
       "    </tr>\n",
       "  </tbody>\n",
       "</table>\n",
       "</div>"
      ],
      "text/plain": [
       "              PatientID ResultDate  LOINC             LabComponent TestUnits  \\\n",
       "20245935  FD3816FB84B6E 2012-09-10  718-7  Hemoglobin, whole blood      g/uL   \n",
       "21328811  FDF17C0BAFBF7 2012-04-09  718-7  Hemoglobin, whole blood      g/uL   \n",
       "21328678  FDF17C0BAFBF7 2012-02-07  718-7  Hemoglobin, whole blood      g/uL   \n",
       "20246122  FD3816FB84B6E 2013-02-26  718-7  Hemoglobin, whole blood      g/uL   \n",
       "21328707  FDF17C0BAFBF7 2012-02-20  718-7  Hemoglobin, whole blood      g/uL   \n",
       "\n",
       "         TestUnitsCleaned TestResult  TestResultCleaned   met_date    lab_name  \n",
       "20245935             g/dL       13.3          1330000.0 2013-02-14  hemoglobin  \n",
       "21328811             g/dL       13.5          1350000.0 2014-01-15  hemoglobin  \n",
       "21328678             g/dL       13.6          1360000.0 2014-01-15  hemoglobin  \n",
       "20246122             g/dL       14.9          1490000.0 2013-02-14  hemoglobin  \n",
       "21328707             g/dL       13.8          1380000.0 2014-01-15  hemoglobin  "
      ]
     },
     "execution_count": 419,
     "metadata": {},
     "output_type": "execute_result"
    }
   ],
   "source": [
    "(\n",
    "    lab_core\n",
    "    .query('lab_name == \"hemoglobin\"')\n",
    "    .query('TestUnits == \"g/uL\"')\n",
    "    .sample(5)\n",
    ")"
   ]
  },
  {
   "cell_type": "code",
   "execution_count": 420,
   "id": "28ece91e",
   "metadata": {},
   "outputs": [],
   "source": [
    "conditions = [\n",
    "    ((lab_core['lab_name'] == 'wbc') | (lab_core['lab_name'] == 'neutrophil_count') | (lab_core['lab_name'] == 'platelet')) & \n",
    "    (lab_core['TestUnits'] == '10*3/L'),\n",
    "    (lab_core['lab_name'] == 'hemoglobin') & (lab_core['TestUnits'] == 'g/uL')]\n",
    "\n",
    "choices = [lab_core['TestResultCleaned'] * 1000000,\n",
    "           lab_core['TestResultCleaned'] / 100000]\n",
    "\n",
    "lab_core.loc[:, 'test_result_cleaned'] = np.select(conditions, choices, default = lab_core['TestResultCleaned'])"
   ]
  },
  {
   "cell_type": "code",
   "execution_count": 421,
   "id": "552214d4",
   "metadata": {},
   "outputs": [],
   "source": [
    "# Elgibliity window is -90 and +30 from advanced diagnosis. \n",
    "lab_core_win = (\n",
    "    lab_core\n",
    "    .assign(lab_date_diff = (lab_core['ResultDate'] - lab_core['met_date']).dt.days)\n",
    "    .query('lab_date_diff >= -90 and lab_date_diff <= 30')\n",
    "    .filter(items = ['PatientID', 'ResultDate', 'TestResultCleaned', 'lab_name', 'met_date', 'test_result_cleaned', 'lab_date_diff'])\n",
    ")"
   ]
  },
  {
   "cell_type": "code",
   "execution_count": 422,
   "id": "9379ccb5",
   "metadata": {},
   "outputs": [],
   "source": [
    "lab_core_win.loc[:, 'lab_date_diff'] = lab_core_win['lab_date_diff'].abs()"
   ]
  },
  {
   "cell_type": "code",
   "execution_count": 423,
   "id": "c86cd456",
   "metadata": {},
   "outputs": [],
   "source": [
    "# Select lab closest to date of advanced diagnosis and pivot to a wide table. \n",
    "lab_diag_wide = (\n",
    "    lab_core_win\n",
    "    .loc[lab_core_win.groupby(['PatientID', 'lab_name'])['lab_date_diff'].idxmin()]\n",
    "    .pivot(index = 'PatientID', columns = 'lab_name', values = 'test_result_cleaned')\n",
    "    .reset_index()\n",
    "    .rename(columns = {\n",
    "        'albumin': 'albumin_diag',\n",
    "        'creatinine': 'creatinine_diag',\n",
    "        'hemoglobin': 'hemoglobin_diag',\n",
    "        'neutrophil_count': 'neutrophil_count_diag',\n",
    "        'total_bilirubin': 'total_bilirubin_diag',\n",
    "        'wbc': 'wbc_diag',\n",
    "        'sodium': 'sodium_diag', \n",
    "        'bicarb': 'bicarb_diag',\n",
    "        'calcium': 'calcium_diag',\n",
    "        'ast': 'ast_diag', \n",
    "        'alt': 'alt_diag',\n",
    "        'platelet': 'platelet_diag',\n",
    "        'potassium': 'potassium_diag',\n",
    "        'chloride': 'chloride_diag',\n",
    "        'bun': 'bun_diag',\n",
    "        'alp': 'alp_diag', \n",
    "        'cea': 'cea_diag'})\n",
    ")\n",
    "\n",
    "lab_diag_wide.columns.name = None"
   ]
  },
  {
   "cell_type": "code",
   "execution_count": 424,
   "id": "0cd12bc9",
   "metadata": {},
   "outputs": [
    {
     "data": {
      "text/plain": [
       "(18048, 18048)"
      ]
     },
     "execution_count": 424,
     "metadata": {},
     "output_type": "execute_result"
    }
   ],
   "source": [
    "row_ID(lab_diag_wide)"
   ]
  },
  {
   "cell_type": "code",
   "execution_count": 425,
   "id": "2fd0c161",
   "metadata": {},
   "outputs": [],
   "source": [
    "lab_diag_wide = (\n",
    "    lab_diag_wide\n",
    "    .append(\n",
    "        pd.Series(train_IDs)[~pd.Series(train_IDs).isin(lab_diag_wide['PatientID'])].to_frame(name = 'PatientID'),\n",
    "        sort = False)\n",
    ")"
   ]
  },
  {
   "cell_type": "code",
   "execution_count": 426,
   "id": "caaa22cc",
   "metadata": {},
   "outputs": [
    {
     "data": {
      "text/plain": [
       "(27452, 27452)"
      ]
     },
     "execution_count": 426,
     "metadata": {},
     "output_type": "execute_result"
    }
   ],
   "source": [
    "row_ID(lab_diag_wide)"
   ]
  },
  {
   "cell_type": "code",
   "execution_count": 427,
   "id": "457b2c3a",
   "metadata": {},
   "outputs": [
    {
     "data": {
      "text/html": [
       "<div>\n",
       "<style scoped>\n",
       "    .dataframe tbody tr th:only-of-type {\n",
       "        vertical-align: middle;\n",
       "    }\n",
       "\n",
       "    .dataframe tbody tr th {\n",
       "        vertical-align: top;\n",
       "    }\n",
       "\n",
       "    .dataframe thead th {\n",
       "        text-align: right;\n",
       "    }\n",
       "</style>\n",
       "<table border=\"1\" class=\"dataframe\">\n",
       "  <thead>\n",
       "    <tr style=\"text-align: right;\">\n",
       "      <th></th>\n",
       "      <th>albumin_diag</th>\n",
       "      <th>alp_diag</th>\n",
       "      <th>alt_diag</th>\n",
       "      <th>ast_diag</th>\n",
       "      <th>bicarb_diag</th>\n",
       "      <th>bun_diag</th>\n",
       "      <th>calcium_diag</th>\n",
       "      <th>cea_diag</th>\n",
       "      <th>chloride_diag</th>\n",
       "      <th>creatinine_diag</th>\n",
       "      <th>hemoglobin_diag</th>\n",
       "      <th>neutrophil_count_diag</th>\n",
       "      <th>platelet_diag</th>\n",
       "      <th>potassium_diag</th>\n",
       "      <th>sodium_diag</th>\n",
       "      <th>total_bilirubin_diag</th>\n",
       "      <th>wbc_diag</th>\n",
       "    </tr>\n",
       "  </thead>\n",
       "  <tbody>\n",
       "    <tr>\n",
       "      <th>count</th>\n",
       "      <td>15850.000000</td>\n",
       "      <td>16393.000000</td>\n",
       "      <td>16225.000000</td>\n",
       "      <td>16386.000000</td>\n",
       "      <td>13685.000000</td>\n",
       "      <td>16656.000000</td>\n",
       "      <td>16389.000000</td>\n",
       "      <td>14193.000000</td>\n",
       "      <td>13001.000000</td>\n",
       "      <td>16669.000000</td>\n",
       "      <td>17419.000000</td>\n",
       "      <td>12826.000000</td>\n",
       "      <td>15452.000000</td>\n",
       "      <td>14189.000000</td>\n",
       "      <td>14172.000000</td>\n",
       "      <td>15896.000000</td>\n",
       "      <td>16508.000000</td>\n",
       "    </tr>\n",
       "    <tr>\n",
       "      <th>mean</th>\n",
       "      <td>38.291497</td>\n",
       "      <td>163.664887</td>\n",
       "      <td>90.854324</td>\n",
       "      <td>35.133437</td>\n",
       "      <td>25.454023</td>\n",
       "      <td>15.893222</td>\n",
       "      <td>9.332157</td>\n",
       "      <td>480.221826</td>\n",
       "      <td>101.410307</td>\n",
       "      <td>0.963837</td>\n",
       "      <td>11.958353</td>\n",
       "      <td>12.975432</td>\n",
       "      <td>315.118116</td>\n",
       "      <td>4.265582</td>\n",
       "      <td>138.628091</td>\n",
       "      <td>0.686564</td>\n",
       "      <td>8.479534</td>\n",
       "    </tr>\n",
       "    <tr>\n",
       "      <th>std</th>\n",
       "      <td>5.621056</td>\n",
       "      <td>1818.042644</td>\n",
       "      <td>7850.560204</td>\n",
       "      <td>46.854540</td>\n",
       "      <td>3.345054</td>\n",
       "      <td>8.250960</td>\n",
       "      <td>6.908779</td>\n",
       "      <td>2551.527248</td>\n",
       "      <td>4.275244</td>\n",
       "      <td>0.548163</td>\n",
       "      <td>2.238758</td>\n",
       "      <td>396.527238</td>\n",
       "      <td>139.605276</td>\n",
       "      <td>1.250541</td>\n",
       "      <td>3.693248</td>\n",
       "      <td>1.334508</td>\n",
       "      <td>4.232697</td>\n",
       "    </tr>\n",
       "    <tr>\n",
       "      <th>min</th>\n",
       "      <td>0.029000</td>\n",
       "      <td>16.000000</td>\n",
       "      <td>0.000000</td>\n",
       "      <td>1.000000</td>\n",
       "      <td>3.800000</td>\n",
       "      <td>-2.000000</td>\n",
       "      <td>0.910000</td>\n",
       "      <td>0.200000</td>\n",
       "      <td>4.600000</td>\n",
       "      <td>0.071000</td>\n",
       "      <td>0.200000</td>\n",
       "      <td>0.000000</td>\n",
       "      <td>0.124000</td>\n",
       "      <td>2.000000</td>\n",
       "      <td>13.000000</td>\n",
       "      <td>0.000000</td>\n",
       "      <td>0.001500</td>\n",
       "    </tr>\n",
       "    <tr>\n",
       "      <th>25%</th>\n",
       "      <td>35.000000</td>\n",
       "      <td>75.000000</td>\n",
       "      <td>13.000000</td>\n",
       "      <td>17.000000</td>\n",
       "      <td>23.000000</td>\n",
       "      <td>11.000000</td>\n",
       "      <td>8.900000</td>\n",
       "      <td>4.500000</td>\n",
       "      <td>99.000000</td>\n",
       "      <td>0.710000</td>\n",
       "      <td>10.400000</td>\n",
       "      <td>3.800000</td>\n",
       "      <td>217.000000</td>\n",
       "      <td>4.000000</td>\n",
       "      <td>137.000000</td>\n",
       "      <td>0.300000</td>\n",
       "      <td>6.100000</td>\n",
       "    </tr>\n",
       "    <tr>\n",
       "      <th>50%</th>\n",
       "      <td>39.000000</td>\n",
       "      <td>97.000000</td>\n",
       "      <td>20.000000</td>\n",
       "      <td>23.000000</td>\n",
       "      <td>25.800000</td>\n",
       "      <td>14.000000</td>\n",
       "      <td>9.300000</td>\n",
       "      <td>16.900000</td>\n",
       "      <td>102.000000</td>\n",
       "      <td>0.880000</td>\n",
       "      <td>12.000000</td>\n",
       "      <td>5.100000</td>\n",
       "      <td>287.000000</td>\n",
       "      <td>4.200000</td>\n",
       "      <td>139.000000</td>\n",
       "      <td>0.500000</td>\n",
       "      <td>7.700000</td>\n",
       "    </tr>\n",
       "    <tr>\n",
       "      <th>75%</th>\n",
       "      <td>42.000000</td>\n",
       "      <td>148.000000</td>\n",
       "      <td>32.000000</td>\n",
       "      <td>35.000000</td>\n",
       "      <td>28.000000</td>\n",
       "      <td>19.000000</td>\n",
       "      <td>9.600000</td>\n",
       "      <td>106.000000</td>\n",
       "      <td>104.000000</td>\n",
       "      <td>1.060000</td>\n",
       "      <td>13.500000</td>\n",
       "      <td>7.000000</td>\n",
       "      <td>384.000000</td>\n",
       "      <td>4.600000</td>\n",
       "      <td>141.000000</td>\n",
       "      <td>0.700000</td>\n",
       "      <td>9.900000</td>\n",
       "    </tr>\n",
       "    <tr>\n",
       "      <th>max</th>\n",
       "      <td>60.000000</td>\n",
       "      <td>232000.000000</td>\n",
       "      <td>1000000.000000</td>\n",
       "      <td>1441.000000</td>\n",
       "      <td>104.000000</td>\n",
       "      <td>108.000000</td>\n",
       "      <td>890.000000</td>\n",
       "      <td>99473.000000</td>\n",
       "      <td>135.000000</td>\n",
       "      <td>15.630000</td>\n",
       "      <td>110.000000</td>\n",
       "      <td>42339.000000</td>\n",
       "      <td>1684.000000</td>\n",
       "      <td>141.000000</td>\n",
       "      <td>164.000000</td>\n",
       "      <td>30.600000</td>\n",
       "      <td>124.100000</td>\n",
       "    </tr>\n",
       "  </tbody>\n",
       "</table>\n",
       "</div>"
      ],
      "text/plain": [
       "       albumin_diag       alp_diag        alt_diag      ast_diag  \\\n",
       "count  15850.000000   16393.000000    16225.000000  16386.000000   \n",
       "mean      38.291497     163.664887       90.854324     35.133437   \n",
       "std        5.621056    1818.042644     7850.560204     46.854540   \n",
       "min        0.029000      16.000000        0.000000      1.000000   \n",
       "25%       35.000000      75.000000       13.000000     17.000000   \n",
       "50%       39.000000      97.000000       20.000000     23.000000   \n",
       "75%       42.000000     148.000000       32.000000     35.000000   \n",
       "max       60.000000  232000.000000  1000000.000000   1441.000000   \n",
       "\n",
       "        bicarb_diag      bun_diag  calcium_diag      cea_diag  chloride_diag  \\\n",
       "count  13685.000000  16656.000000  16389.000000  14193.000000   13001.000000   \n",
       "mean      25.454023     15.893222      9.332157    480.221826     101.410307   \n",
       "std        3.345054      8.250960      6.908779   2551.527248       4.275244   \n",
       "min        3.800000     -2.000000      0.910000      0.200000       4.600000   \n",
       "25%       23.000000     11.000000      8.900000      4.500000      99.000000   \n",
       "50%       25.800000     14.000000      9.300000     16.900000     102.000000   \n",
       "75%       28.000000     19.000000      9.600000    106.000000     104.000000   \n",
       "max      104.000000    108.000000    890.000000  99473.000000     135.000000   \n",
       "\n",
       "       creatinine_diag  hemoglobin_diag  neutrophil_count_diag  platelet_diag  \\\n",
       "count     16669.000000     17419.000000           12826.000000   15452.000000   \n",
       "mean          0.963837        11.958353              12.975432     315.118116   \n",
       "std           0.548163         2.238758             396.527238     139.605276   \n",
       "min           0.071000         0.200000               0.000000       0.124000   \n",
       "25%           0.710000        10.400000               3.800000     217.000000   \n",
       "50%           0.880000        12.000000               5.100000     287.000000   \n",
       "75%           1.060000        13.500000               7.000000     384.000000   \n",
       "max          15.630000       110.000000           42339.000000    1684.000000   \n",
       "\n",
       "       potassium_diag   sodium_diag  total_bilirubin_diag      wbc_diag  \n",
       "count    14189.000000  14172.000000          15896.000000  16508.000000  \n",
       "mean         4.265582    138.628091              0.686564      8.479534  \n",
       "std          1.250541      3.693248              1.334508      4.232697  \n",
       "min          2.000000     13.000000              0.000000      0.001500  \n",
       "25%          4.000000    137.000000              0.300000      6.100000  \n",
       "50%          4.200000    139.000000              0.500000      7.700000  \n",
       "75%          4.600000    141.000000              0.700000      9.900000  \n",
       "max        141.000000    164.000000             30.600000    124.100000  "
      ]
     },
     "execution_count": 427,
     "metadata": {},
     "output_type": "execute_result"
    }
   ],
   "source": [
    "lab_diag_wide.describe()"
   ]
  },
  {
   "cell_type": "code",
   "execution_count": 428,
   "id": "18b30705",
   "metadata": {},
   "outputs": [
    {
     "name": "stdout",
     "output_type": "stream",
     "text": [
      "Missing albumin: 42.26%\n",
      "Missing total_bilirubin: 42.10%\n",
      "Missing creatinine: 39.28%\n",
      "Missing hemoglobin: 36.55%\n",
      "Missing neutrophil: 53.28%\n",
      "Missing wbc: 39.87%\n",
      "Missing sodium: 48.38%\n",
      "Missing bicarb: 50.15%\n",
      "Missing calcium: 40.30%\n",
      "Missing ast: 40.31%\n",
      "Missing alt: 40.90%\n",
      "Missing platelet: 43.71%\n",
      "Missing potassium: 48.31%\n",
      "Missing chloride: 52.64%\n",
      "Missing bun: 39.33%\n",
      "Missing alp: 40.28%\n",
      "Missing cea: 48.30%\n"
     ]
    }
   ],
   "source": [
    "# Percentage of patients missing lab at time of advanced diagnosis.\n",
    "x = ((lab_diag_wide['albumin_diag'].isna().sum())/len(lab_diag_wide))*100\n",
    "print(f'Missing albumin: {x:.2f}%')\n",
    "\n",
    "x = ((lab_diag_wide['total_bilirubin_diag'].isna().sum())/len(lab_diag_wide))*100\n",
    "print(f'Missing total_bilirubin: {x:.2f}%')\n",
    "\n",
    "x = ((lab_diag_wide['creatinine_diag'].isna().sum())/len(lab_diag_wide))*100\n",
    "print(f'Missing creatinine: {x:.2f}%')\n",
    "\n",
    "x = ((lab_diag_wide['hemoglobin_diag'].isna().sum())/len(lab_diag_wide))*100\n",
    "print(f'Missing hemoglobin: {x:.2f}%')\n",
    "\n",
    "x = ((lab_diag_wide['neutrophil_count_diag'].isna().sum())/len(lab_diag_wide))*100\n",
    "print(f'Missing neutrophil: {x:.2f}%')\n",
    "\n",
    "x = ((lab_diag_wide['wbc_diag'].isna().sum())/len(lab_diag_wide))*100\n",
    "print(f'Missing wbc: {x:.2f}%')\n",
    "\n",
    "x = ((lab_diag_wide['sodium_diag'].isna().sum())/len(lab_diag_wide))*100\n",
    "print(f'Missing sodium: {x:.2f}%')\n",
    "\n",
    "x = ((lab_diag_wide['bicarb_diag'].isna().sum())/len(lab_diag_wide))*100\n",
    "print(f'Missing bicarb: {x:.2f}%')\n",
    "\n",
    "x = ((lab_diag_wide['calcium_diag'].isna().sum())/len(lab_diag_wide))*100\n",
    "print(f'Missing calcium: {x:.2f}%')\n",
    "\n",
    "x = ((lab_diag_wide['ast_diag'].isna().sum())/len(lab_diag_wide))*100\n",
    "print(f'Missing ast: {x:.2f}%')\n",
    "\n",
    "x = ((lab_diag_wide['alt_diag'].isna().sum())/len(lab_diag_wide))*100\n",
    "print(f'Missing alt: {x:.2f}%')\n",
    "\n",
    "x = ((lab_diag_wide['platelet_diag'].isna().sum())/len(lab_diag_wide))*100\n",
    "print(f'Missing platelet: {x:.2f}%')\n",
    "\n",
    "x = ((lab_diag_wide['potassium_diag'].isna().sum())/len(lab_diag_wide))*100\n",
    "print(f'Missing potassium: {x:.2f}%')\n",
    "\n",
    "x = ((lab_diag_wide['chloride_diag'].isna().sum())/len(lab_diag_wide))*100\n",
    "print(f'Missing chloride: {x:.2f}%')\n",
    "\n",
    "x = ((lab_diag_wide['bun_diag'].isna().sum())/len(lab_diag_wide))*100\n",
    "print(f'Missing bun: {x:.2f}%')\n",
    "\n",
    "x = ((lab_diag_wide['alp_diag'].isna().sum())/len(lab_diag_wide))*100\n",
    "print(f'Missing alp: {x:.2f}%')\n",
    "\n",
    "x = ((lab_diag_wide['cea_diag'].isna().sum())/len(lab_diag_wide))*100\n",
    "print(f'Missing cea: {x:.2f}%')"
   ]
  },
  {
   "cell_type": "code",
   "execution_count": 429,
   "id": "59d20171",
   "metadata": {},
   "outputs": [],
   "source": [
    "# Create missing variables for labs at time of diagnosis. \n",
    "for x in range (1, len(lab_diag_wide.columns)):\n",
    "    lab_diag_wide.loc[:, lab_diag_wide.columns[x]+'_na'] = np.where(lab_diag_wide[lab_diag_wide.columns[x]].isna(), 1, 0)"
   ]
  },
  {
   "cell_type": "code",
   "execution_count": 430,
   "id": "d05fefb0",
   "metadata": {},
   "outputs": [
    {
     "data": {
      "text/plain": [
       "['PatientID',\n",
       " 'albumin_diag',\n",
       " 'alp_diag',\n",
       " 'alt_diag',\n",
       " 'ast_diag',\n",
       " 'bicarb_diag',\n",
       " 'bun_diag',\n",
       " 'calcium_diag',\n",
       " 'cea_diag',\n",
       " 'chloride_diag',\n",
       " 'creatinine_diag',\n",
       " 'hemoglobin_diag',\n",
       " 'neutrophil_count_diag',\n",
       " 'platelet_diag',\n",
       " 'potassium_diag',\n",
       " 'sodium_diag',\n",
       " 'total_bilirubin_diag',\n",
       " 'wbc_diag',\n",
       " 'albumin_diag_na',\n",
       " 'alp_diag_na',\n",
       " 'alt_diag_na',\n",
       " 'ast_diag_na',\n",
       " 'bicarb_diag_na',\n",
       " 'bun_diag_na',\n",
       " 'calcium_diag_na',\n",
       " 'cea_diag_na',\n",
       " 'chloride_diag_na',\n",
       " 'creatinine_diag_na',\n",
       " 'hemoglobin_diag_na',\n",
       " 'neutrophil_count_diag_na',\n",
       " 'platelet_diag_na',\n",
       " 'potassium_diag_na',\n",
       " 'sodium_diag_na',\n",
       " 'total_bilirubin_diag_na',\n",
       " 'wbc_diag_na']"
      ]
     },
     "execution_count": 430,
     "metadata": {},
     "output_type": "execute_result"
    }
   ],
   "source": [
    "list(lab_diag_wide.columns)"
   ]
  },
  {
   "cell_type": "code",
   "execution_count": 431,
   "id": "d1b26f13",
   "metadata": {},
   "outputs": [
    {
     "data": {
      "text/plain": [
       "0.23612122978289377"
      ]
     },
     "execution_count": 431,
     "metadata": {},
     "output_type": "execute_result"
    }
   ],
   "source": [
    "# Percentage of patients with all labs collected at time of advanced diagnosis.\n",
    "(\n",
    "    lab_diag_wide\n",
    "    [~lab_diag_wide.isnull().any(axis = 1)]\n",
    "    .shape[0]\n",
    "    /len(lab_diag_wide)\n",
    ")"
   ]
  },
  {
   "cell_type": "code",
   "execution_count": 432,
   "id": "f87f1fa4",
   "metadata": {},
   "outputs": [
    {
     "data": {
      "text/plain": [
       "0.5101631939385108"
      ]
     },
     "execution_count": 432,
     "metadata": {},
     "output_type": "execute_result"
    }
   ],
   "source": [
    "# Percentage of patients with creatinine, hemoglobin, WBC, albumin, and bilirubin, collected at time of advanced diagnosis.\n",
    "(\n",
    "    lab_diag_wide\n",
    "    [~lab_diag_wide[['albumin_diag', 'total_bilirubin_diag', 'creatinine_diag', 'hemoglobin_diag', 'wbc_diag']]\n",
    "    .isnull().any(axis = 1)]\n",
    "    .shape[0]\n",
    "    /len(lab_diag_wide)\n",
    ")"
   ]
  },
  {
   "cell_type": "code",
   "execution_count": 433,
   "id": "0a34c5ce",
   "metadata": {},
   "outputs": [
    {
     "data": {
      "text/plain": [
       "0.5589392393996795"
      ]
     },
     "execution_count": 433,
     "metadata": {},
     "output_type": "execute_result"
    }
   ],
   "source": [
    "# Percentage of patients with creatinine, hemoglobin, and WBC colleced at time of advanced diagnosis. \n",
    "(\n",
    "    lab_diag_wide\n",
    "    [~lab_diag_wide[['creatinine_diag', 'hemoglobin_diag', 'wbc_diag']]\n",
    "     .isnull().any(axis = 1)]\n",
    "    .shape[0]\n",
    "    /len(lab_diag_wide)\n",
    ")"
   ]
  },
  {
   "cell_type": "markdown",
   "id": "f7a06051",
   "metadata": {},
   "source": [
    "#### Mean, max, min, and standard deviation"
   ]
  },
  {
   "cell_type": "code",
   "execution_count": 434,
   "id": "a69adb9d",
   "metadata": {},
   "outputs": [],
   "source": [
    "# Elgibility window is negative infinity to +30 from advanced diagnosis. \n",
    "lab_core_win_summ = (\n",
    "    lab_core\n",
    "    .assign(lab_date_diff = (lab_core['ResultDate'] - lab_core['met_date']).dt.days)\n",
    "    .query('lab_date_diff <= 30')\n",
    "    .filter(items = ['PatientID', 'ResultDate', 'TestResultCleaned', 'lab_name', 'met_date', 'test_result_cleaned', 'lab_date_diff'])\n",
    ")"
   ]
  },
  {
   "cell_type": "code",
   "execution_count": 435,
   "id": "888f365a",
   "metadata": {},
   "outputs": [],
   "source": [
    "# Pivot table of average values for core labs during elgibility period of -90 to -30 days from advanced diagnosis. \n",
    "lab_avg_wide = (\n",
    "    lab_core_win_summ\n",
    "    .groupby(['PatientID', 'lab_name'])['test_result_cleaned'].mean()\n",
    "    .to_frame()\n",
    "    .reset_index()\n",
    "    .pivot(index = 'PatientID', columns = 'lab_name', values = 'test_result_cleaned')\n",
    "    .reset_index()\n",
    "    .rename(columns = {\n",
    "        'albumin': 'albumin_avg',\n",
    "        'creatinine': 'creatinine_avg',\n",
    "        'hemoglobin': 'hemoglobin_avg',\n",
    "        'neutrophil_count': 'neutrophil_count_avg',\n",
    "        'total_bilirubin': 'total_bilirubin_avg',\n",
    "        'wbc': 'wbc_avg',\n",
    "        'sodium': 'sodium_avg', \n",
    "        'bicarb': 'bicarb_avg',\n",
    "        'calcium': 'calcium_avg',\n",
    "        'ast': 'ast_avg', \n",
    "        'alt': 'alt_avg',\n",
    "        'platelet': 'platelet_avg',\n",
    "        'potassium': 'potassium_avg',\n",
    "        'chloride': 'chloride_avg',\n",
    "        'bun': 'bun_avg',\n",
    "        'alp': 'alp_avg',\n",
    "        'cea': 'cea_avg'})\n",
    ")\n",
    "\n",
    "lab_avg_wide.columns.name = None"
   ]
  },
  {
   "cell_type": "code",
   "execution_count": 436,
   "id": "7570e42d",
   "metadata": {},
   "outputs": [
    {
     "data": {
      "text/plain": [
       "(18985, 18985)"
      ]
     },
     "execution_count": 436,
     "metadata": {},
     "output_type": "execute_result"
    }
   ],
   "source": [
    "row_ID(lab_avg_wide)"
   ]
  },
  {
   "cell_type": "code",
   "execution_count": 437,
   "id": "cd4c9839",
   "metadata": {},
   "outputs": [],
   "source": [
    "# Pivot table of maximum values for core labs during elgibility period of -90 to -30 days from advanced diagnosis. \n",
    "lab_max_wide = (\n",
    "    lab_core_win_summ\n",
    "    .groupby(['PatientID', 'lab_name'])['test_result_cleaned'].max()\n",
    "    .to_frame()\n",
    "    .reset_index()\n",
    "    .pivot(index = 'PatientID', columns = 'lab_name', values = 'test_result_cleaned')\n",
    "    .reset_index()\n",
    "    .rename(columns = {\n",
    "        'albumin': 'albumin_max',\n",
    "        'creatinine': 'creatinine_max',\n",
    "        'hemoglobin': 'hemoglobin_max',\n",
    "        'neutrophil_count': 'neutrophil_count_max',\n",
    "        'total_bilirubin': 'total_bilirubin_max',\n",
    "        'wbc': 'wbc_max', \n",
    "        'sodium': 'sodium_max', \n",
    "        'bicarb': 'bicarb_max',\n",
    "        'calcium': 'calcium_max',\n",
    "        'ast': 'ast_max', \n",
    "        'alt': 'alt_max',\n",
    "        'platelet': 'platelet_max',\n",
    "        'potassium': 'potassium_max',\n",
    "        'chloride': 'chloride_max',\n",
    "        'bun': 'bun_max', \n",
    "        'alp': 'alp_max', \n",
    "        'cea': 'cea_max'})\n",
    ")\n",
    "\n",
    "lab_max_wide.columns.name = None"
   ]
  },
  {
   "cell_type": "code",
   "execution_count": 438,
   "id": "5815830a",
   "metadata": {},
   "outputs": [
    {
     "data": {
      "text/plain": [
       "(18985, 18985)"
      ]
     },
     "execution_count": 438,
     "metadata": {},
     "output_type": "execute_result"
    }
   ],
   "source": [
    "row_ID(lab_max_wide)"
   ]
  },
  {
   "cell_type": "code",
   "execution_count": 439,
   "id": "76fec143",
   "metadata": {},
   "outputs": [],
   "source": [
    "# Pivot table of minimum values for core labs during elgibility period of -90 to -30 days from advanced diagnosis. \n",
    "lab_min_wide = (\n",
    "    lab_core_win_summ\n",
    "    .groupby(['PatientID', 'lab_name'])['test_result_cleaned'].min()\n",
    "    .to_frame()\n",
    "    .reset_index()\n",
    "    .pivot(index = 'PatientID', columns = 'lab_name', values = 'test_result_cleaned')\n",
    "    .reset_index()\n",
    "    .rename(columns = {\n",
    "        'albumin': 'albumin_min',\n",
    "        'creatinine': 'creatinine_min',\n",
    "        'hemoglobin': 'hemoglobin_min',\n",
    "        'neutrophil_count': 'neutrophil_count_min',\n",
    "        'total_bilirubin': 'total_bilirubin_min',\n",
    "        'wbc': 'wbc_min',\n",
    "        'sodium': 'sodium_min', \n",
    "        'bicarb': 'bicarb_min',\n",
    "        'calcium': 'calcium_min',\n",
    "        'ast': 'ast_min', \n",
    "        'alt': 'alt_min',\n",
    "        'platelet': 'platelet_min',\n",
    "        'potassium': 'potassium_min',\n",
    "        'chloride': 'chloride_min',\n",
    "        'bun': 'bun_min',\n",
    "        'alp': 'alp_min',\n",
    "        'cea': 'cea_min'})\n",
    ")\n",
    "\n",
    "lab_min_wide.columns.name = None"
   ]
  },
  {
   "cell_type": "code",
   "execution_count": 440,
   "id": "fc88b865",
   "metadata": {},
   "outputs": [
    {
     "data": {
      "text/plain": [
       "(18985, 18985)"
      ]
     },
     "execution_count": 440,
     "metadata": {},
     "output_type": "execute_result"
    }
   ],
   "source": [
    "row_ID(lab_min_wide)"
   ]
  },
  {
   "cell_type": "code",
   "execution_count": 441,
   "id": "19c9746e",
   "metadata": {},
   "outputs": [],
   "source": [
    "# Pivot table of standard deviation for core labs during elgibility period of -90 to -30 days from advanced diagnosis. \n",
    "lab_std_wide = (\n",
    "    lab_core_win_summ\n",
    "    .groupby(['PatientID', 'lab_name'])['test_result_cleaned'].std()\n",
    "    .to_frame()\n",
    "    .reset_index()\n",
    "    .pivot(index = 'PatientID', columns = 'lab_name', values = 'test_result_cleaned')\n",
    "    .reset_index()\n",
    "    .rename(columns = {\n",
    "        'albumin': 'albumin_std',\n",
    "        'creatinine': 'creatinine_std',\n",
    "        'hemoglobin': 'hemoglobin_std',\n",
    "        'neutrophil_count': 'neutrophil_count_std',\n",
    "        'total_bilirubin': 'total_bilirubin_std',\n",
    "        'wbc': 'wbc_std',\n",
    "        'sodium': 'sodium_std', \n",
    "        'bicarb': 'bicarb_std',\n",
    "        'calcium': 'calcium_std',\n",
    "        'ast': 'ast_std', \n",
    "        'alt': 'alt_std',\n",
    "        'platelet': 'platelet_std',\n",
    "        'potassium': 'potassium_std',\n",
    "        'chloride': 'chloride_std',\n",
    "        'bun': 'bun_std',\n",
    "        'alp': 'alp_std',\n",
    "        'cea': 'cea_std'})\n",
    ")\n",
    "\n",
    "lab_std_wide.columns.name = None"
   ]
  },
  {
   "cell_type": "code",
   "execution_count": 442,
   "id": "0bad0d5a",
   "metadata": {},
   "outputs": [
    {
     "data": {
      "text/plain": [
       "(18985, 18985)"
      ]
     },
     "execution_count": 442,
     "metadata": {},
     "output_type": "execute_result"
    }
   ],
   "source": [
    "row_ID(lab_std_wide)"
   ]
  },
  {
   "cell_type": "code",
   "execution_count": 443,
   "id": "d29f5d77",
   "metadata": {},
   "outputs": [],
   "source": [
    "lab_summary_wide = pd.merge(lab_avg_wide, lab_max_wide, on = 'PatientID', how = 'outer')"
   ]
  },
  {
   "cell_type": "code",
   "execution_count": 444,
   "id": "a22a738c",
   "metadata": {},
   "outputs": [],
   "source": [
    "lab_summary_wide = pd.merge(lab_summary_wide, lab_min_wide, on = 'PatientID', how = 'outer')"
   ]
  },
  {
   "cell_type": "code",
   "execution_count": 445,
   "id": "3a923f1e",
   "metadata": {},
   "outputs": [],
   "source": [
    "lab_summary_wide = pd.merge(lab_summary_wide, lab_std_wide, on = 'PatientID', how = 'outer')"
   ]
  },
  {
   "cell_type": "code",
   "execution_count": 446,
   "id": "cc252c60",
   "metadata": {},
   "outputs": [
    {
     "data": {
      "text/plain": [
       "(18985, 18985)"
      ]
     },
     "execution_count": 446,
     "metadata": {},
     "output_type": "execute_result"
    }
   ],
   "source": [
    "row_ID(lab_summary_wide)"
   ]
  },
  {
   "cell_type": "code",
   "execution_count": 447,
   "id": "b5de00a8",
   "metadata": {},
   "outputs": [],
   "source": [
    "lab_summary_wide = (\n",
    "    lab_summary_wide\n",
    "    .append(\n",
    "        pd.Series(train_IDs)[~pd.Series(train_IDs).isin(lab_summary_wide['PatientID'])].to_frame(name = 'PatientID'),\n",
    "        sort = False)\n",
    ")"
   ]
  },
  {
   "cell_type": "code",
   "execution_count": 448,
   "id": "788ec201",
   "metadata": {},
   "outputs": [
    {
     "data": {
      "text/plain": [
       "(27452, 27452)"
      ]
     },
     "execution_count": 448,
     "metadata": {},
     "output_type": "execute_result"
    }
   ],
   "source": [
    "row_ID(lab_summary_wide)"
   ]
  },
  {
   "cell_type": "code",
   "execution_count": 449,
   "id": "6e4f3cc9",
   "metadata": {},
   "outputs": [
    {
     "data": {
      "text/html": [
       "<div>\n",
       "<style scoped>\n",
       "    .dataframe tbody tr th:only-of-type {\n",
       "        vertical-align: middle;\n",
       "    }\n",
       "\n",
       "    .dataframe tbody tr th {\n",
       "        vertical-align: top;\n",
       "    }\n",
       "\n",
       "    .dataframe thead th {\n",
       "        text-align: right;\n",
       "    }\n",
       "</style>\n",
       "<table border=\"1\" class=\"dataframe\">\n",
       "  <thead>\n",
       "    <tr style=\"text-align: right;\">\n",
       "      <th></th>\n",
       "      <th>PatientID</th>\n",
       "      <th>albumin_avg</th>\n",
       "      <th>alp_avg</th>\n",
       "      <th>alt_avg</th>\n",
       "      <th>ast_avg</th>\n",
       "      <th>bicarb_avg</th>\n",
       "      <th>bun_avg</th>\n",
       "      <th>calcium_avg</th>\n",
       "      <th>cea_avg</th>\n",
       "      <th>chloride_avg</th>\n",
       "      <th>...</th>\n",
       "      <th>cea_std</th>\n",
       "      <th>chloride_std</th>\n",
       "      <th>creatinine_std</th>\n",
       "      <th>hemoglobin_std</th>\n",
       "      <th>neutrophil_count_std</th>\n",
       "      <th>platelet_std</th>\n",
       "      <th>potassium_std</th>\n",
       "      <th>sodium_std</th>\n",
       "      <th>total_bilirubin_std</th>\n",
       "      <th>wbc_std</th>\n",
       "    </tr>\n",
       "  </thead>\n",
       "  <tbody>\n",
       "    <tr>\n",
       "      <th>10055</th>\n",
       "      <td>F8726DD70030F</td>\n",
       "      <td>37.0</td>\n",
       "      <td>76.5</td>\n",
       "      <td>11.0</td>\n",
       "      <td>16.5</td>\n",
       "      <td>24.75</td>\n",
       "      <td>16.000000</td>\n",
       "      <td>9.15</td>\n",
       "      <td>22.5000</td>\n",
       "      <td>105.0</td>\n",
       "      <td>...</td>\n",
       "      <td>NaN</td>\n",
       "      <td>1.414214</td>\n",
       "      <td>0.000000</td>\n",
       "      <td>0.636396</td>\n",
       "      <td>0.636396</td>\n",
       "      <td>7.778175</td>\n",
       "      <td>0.070711</td>\n",
       "      <td>6.363961</td>\n",
       "      <td>0.141421</td>\n",
       "      <td>1.272792</td>\n",
       "    </tr>\n",
       "    <tr>\n",
       "      <th>1207</th>\n",
       "      <td>F10B150B98F56</td>\n",
       "      <td>38.0</td>\n",
       "      <td>179.0</td>\n",
       "      <td>31.0</td>\n",
       "      <td>45.0</td>\n",
       "      <td>27.00</td>\n",
       "      <td>16.000000</td>\n",
       "      <td>9.40</td>\n",
       "      <td>852.0000</td>\n",
       "      <td>100.0</td>\n",
       "      <td>...</td>\n",
       "      <td>NaN</td>\n",
       "      <td>NaN</td>\n",
       "      <td>NaN</td>\n",
       "      <td>NaN</td>\n",
       "      <td>NaN</td>\n",
       "      <td>NaN</td>\n",
       "      <td>NaN</td>\n",
       "      <td>NaN</td>\n",
       "      <td>NaN</td>\n",
       "      <td>NaN</td>\n",
       "    </tr>\n",
       "    <tr>\n",
       "      <th>15427</th>\n",
       "      <td>F3E3AAC2E3EA7</td>\n",
       "      <td>NaN</td>\n",
       "      <td>NaN</td>\n",
       "      <td>NaN</td>\n",
       "      <td>NaN</td>\n",
       "      <td>NaN</td>\n",
       "      <td>NaN</td>\n",
       "      <td>NaN</td>\n",
       "      <td>NaN</td>\n",
       "      <td>NaN</td>\n",
       "      <td>...</td>\n",
       "      <td>NaN</td>\n",
       "      <td>NaN</td>\n",
       "      <td>NaN</td>\n",
       "      <td>NaN</td>\n",
       "      <td>NaN</td>\n",
       "      <td>NaN</td>\n",
       "      <td>NaN</td>\n",
       "      <td>NaN</td>\n",
       "      <td>NaN</td>\n",
       "      <td>NaN</td>\n",
       "    </tr>\n",
       "    <tr>\n",
       "      <th>1714</th>\n",
       "      <td>F17E5743831EA</td>\n",
       "      <td>NaN</td>\n",
       "      <td>NaN</td>\n",
       "      <td>NaN</td>\n",
       "      <td>NaN</td>\n",
       "      <td>NaN</td>\n",
       "      <td>12.828571</td>\n",
       "      <td>9.40</td>\n",
       "      <td>2.0475</td>\n",
       "      <td>108.5</td>\n",
       "      <td>...</td>\n",
       "      <td>0.443542</td>\n",
       "      <td>3.535534</td>\n",
       "      <td>0.135334</td>\n",
       "      <td>1.115608</td>\n",
       "      <td>NaN</td>\n",
       "      <td>82.162932</td>\n",
       "      <td>NaN</td>\n",
       "      <td>2.645751</td>\n",
       "      <td>NaN</td>\n",
       "      <td>2.194702</td>\n",
       "    </tr>\n",
       "    <tr>\n",
       "      <th>14311</th>\n",
       "      <td>FC1697735762F</td>\n",
       "      <td>NaN</td>\n",
       "      <td>NaN</td>\n",
       "      <td>NaN</td>\n",
       "      <td>NaN</td>\n",
       "      <td>NaN</td>\n",
       "      <td>NaN</td>\n",
       "      <td>NaN</td>\n",
       "      <td>NaN</td>\n",
       "      <td>NaN</td>\n",
       "      <td>...</td>\n",
       "      <td>NaN</td>\n",
       "      <td>NaN</td>\n",
       "      <td>NaN</td>\n",
       "      <td>NaN</td>\n",
       "      <td>NaN</td>\n",
       "      <td>NaN</td>\n",
       "      <td>NaN</td>\n",
       "      <td>NaN</td>\n",
       "      <td>NaN</td>\n",
       "      <td>NaN</td>\n",
       "    </tr>\n",
       "  </tbody>\n",
       "</table>\n",
       "<p>5 rows × 69 columns</p>\n",
       "</div>"
      ],
      "text/plain": [
       "           PatientID  albumin_avg  alp_avg  alt_avg  ast_avg  bicarb_avg  \\\n",
       "10055  F8726DD70030F         37.0     76.5     11.0     16.5       24.75   \n",
       "1207   F10B150B98F56         38.0    179.0     31.0     45.0       27.00   \n",
       "15427  F3E3AAC2E3EA7          NaN      NaN      NaN      NaN         NaN   \n",
       "1714   F17E5743831EA          NaN      NaN      NaN      NaN         NaN   \n",
       "14311  FC1697735762F          NaN      NaN      NaN      NaN         NaN   \n",
       "\n",
       "         bun_avg  calcium_avg   cea_avg  chloride_avg  ...   cea_std  \\\n",
       "10055  16.000000         9.15   22.5000         105.0  ...       NaN   \n",
       "1207   16.000000         9.40  852.0000         100.0  ...       NaN   \n",
       "15427        NaN          NaN       NaN           NaN  ...       NaN   \n",
       "1714   12.828571         9.40    2.0475         108.5  ...  0.443542   \n",
       "14311        NaN          NaN       NaN           NaN  ...       NaN   \n",
       "\n",
       "       chloride_std  creatinine_std  hemoglobin_std  neutrophil_count_std  \\\n",
       "10055      1.414214        0.000000        0.636396              0.636396   \n",
       "1207            NaN             NaN             NaN                   NaN   \n",
       "15427           NaN             NaN             NaN                   NaN   \n",
       "1714       3.535534        0.135334        1.115608                   NaN   \n",
       "14311           NaN             NaN             NaN                   NaN   \n",
       "\n",
       "       platelet_std  potassium_std  sodium_std  total_bilirubin_std   wbc_std  \n",
       "10055      7.778175       0.070711    6.363961             0.141421  1.272792  \n",
       "1207            NaN            NaN         NaN                  NaN       NaN  \n",
       "15427           NaN            NaN         NaN                  NaN       NaN  \n",
       "1714      82.162932            NaN    2.645751                  NaN  2.194702  \n",
       "14311           NaN            NaN         NaN                  NaN       NaN  \n",
       "\n",
       "[5 rows x 69 columns]"
      ]
     },
     "execution_count": 449,
     "metadata": {},
     "output_type": "execute_result"
    }
   ],
   "source": [
    "lab_summary_wide.sample(5)"
   ]
  },
  {
   "cell_type": "code",
   "execution_count": 450,
   "id": "6d75d66d",
   "metadata": {},
   "outputs": [
    {
     "data": {
      "text/plain": [
       "['PatientID',\n",
       " 'albumin_avg',\n",
       " 'alp_avg',\n",
       " 'alt_avg',\n",
       " 'ast_avg',\n",
       " 'bicarb_avg',\n",
       " 'bun_avg',\n",
       " 'calcium_avg',\n",
       " 'cea_avg',\n",
       " 'chloride_avg',\n",
       " 'creatinine_avg',\n",
       " 'hemoglobin_avg',\n",
       " 'neutrophil_count_avg',\n",
       " 'platelet_avg',\n",
       " 'potassium_avg',\n",
       " 'sodium_avg',\n",
       " 'total_bilirubin_avg',\n",
       " 'wbc_avg',\n",
       " 'albumin_max',\n",
       " 'alp_max',\n",
       " 'alt_max',\n",
       " 'ast_max',\n",
       " 'bicarb_max',\n",
       " 'bun_max',\n",
       " 'calcium_max',\n",
       " 'cea_max',\n",
       " 'chloride_max',\n",
       " 'creatinine_max',\n",
       " 'hemoglobin_max',\n",
       " 'neutrophil_count_max',\n",
       " 'platelet_max',\n",
       " 'potassium_max',\n",
       " 'sodium_max',\n",
       " 'total_bilirubin_max',\n",
       " 'wbc_max',\n",
       " 'albumin_min',\n",
       " 'alp_min',\n",
       " 'alt_min',\n",
       " 'ast_min',\n",
       " 'bicarb_min',\n",
       " 'bun_min',\n",
       " 'calcium_min',\n",
       " 'cea_min',\n",
       " 'chloride_min',\n",
       " 'creatinine_min',\n",
       " 'hemoglobin_min',\n",
       " 'neutrophil_count_min',\n",
       " 'platelet_min',\n",
       " 'potassium_min',\n",
       " 'sodium_min',\n",
       " 'total_bilirubin_min',\n",
       " 'wbc_min',\n",
       " 'albumin_std',\n",
       " 'alp_std',\n",
       " 'alt_std',\n",
       " 'ast_std',\n",
       " 'bicarb_std',\n",
       " 'bun_std',\n",
       " 'calcium_std',\n",
       " 'cea_std',\n",
       " 'chloride_std',\n",
       " 'creatinine_std',\n",
       " 'hemoglobin_std',\n",
       " 'neutrophil_count_std',\n",
       " 'platelet_std',\n",
       " 'potassium_std',\n",
       " 'sodium_std',\n",
       " 'total_bilirubin_std',\n",
       " 'wbc_std']"
      ]
     },
     "execution_count": 450,
     "metadata": {},
     "output_type": "execute_result"
    }
   ],
   "source": [
    "list(lab_summary_wide.columns)"
   ]
  },
  {
   "cell_type": "markdown",
   "id": "e3215ce0",
   "metadata": {},
   "source": [
    "#### Slope"
   ]
  },
  {
   "cell_type": "code",
   "execution_count": 451,
   "id": "5527ed0a",
   "metadata": {},
   "outputs": [],
   "source": [
    "lab_core_win_summ.loc[:, 'result_date_ordinal'] = lab_core_win_summ['ResultDate'].map(dt.datetime.toordinal)"
   ]
  },
  {
   "cell_type": "code",
   "execution_count": 452,
   "id": "955efcb8",
   "metadata": {},
   "outputs": [
    {
     "name": "stderr",
     "output_type": "stream",
     "text": [
      "/Applications/anaconda3/lib/python3.7/site-packages/scipy/stats/_stats_mstats_common.py:170: RuntimeWarning: invalid value encountered in double_scalars\n",
      "  slope = ssxym / ssxm\n",
      "/Applications/anaconda3/lib/python3.7/site-packages/scipy/stats/_stats_mstats_common.py:184: RuntimeWarning: invalid value encountered in sqrt\n",
      "  t = r * np.sqrt(df / ((1.0 - r + TINY)*(1.0 + r + TINY)))\n",
      "/Applications/anaconda3/lib/python3.7/site-packages/scipy/stats/_stats_mstats_common.py:187: RuntimeWarning: invalid value encountered in double_scalars\n",
      "  slope_stderr = np.sqrt((1 - r**2) * ssym / ssxm / df)\n",
      "/Applications/anaconda3/lib/python3.7/site-packages/scipy/stats/_stats_mstats_common.py:187: RuntimeWarning: divide by zero encountered in double_scalars\n",
      "  slope_stderr = np.sqrt((1 - r**2) * ssym / ssxm / df)\n"
     ]
    }
   ],
   "source": [
    "lab_slope_wide = (\n",
    "    lab_core_win_summ\n",
    "    .groupby(['PatientID', 'lab_name'])\n",
    "    .apply(lambda x: pd.Series(linregress(x['result_date_ordinal'], x['test_result_cleaned'])))\n",
    "    .rename(columns = {0: 'slope'})\n",
    "    .reset_index()\n",
    "    .filter(items = ['PatientID', 'lab_name', 'slope'])\n",
    "    .pivot(index = 'PatientID', columns = 'lab_name', values = 'slope')\n",
    "    .reset_index()\n",
    "    .rename(columns = {\n",
    "        'albumin': 'albumin_slope',\n",
    "        'creatinine': 'creatinine_slope',\n",
    "        'hemoglobin': 'hemoglobin_slope',\n",
    "        'neutrophil_count': 'neutrophil_count_slope',\n",
    "        'total_bilirubin': 'total_bilirubin_slope',\n",
    "        'wbc': 'wbc_slope',\n",
    "        'sodium': 'sodium_slope', \n",
    "        'bicarb': 'bicarb_slope',\n",
    "        'calcium': 'calcium_slope',\n",
    "        'ast': 'ast_slope', \n",
    "        'alt': 'alt_slope',\n",
    "        'platelet': 'platelet_slope',\n",
    "        'potassium': 'potassium_slope',\n",
    "        'chloride': 'chloride_slope',\n",
    "        'bun': 'bun_slope',\n",
    "        'alp': 'alp_slope',\n",
    "        'cea': 'cea_slope'})\n",
    ")\n",
    "\n",
    "lab_slope_wide.columns.name = None"
   ]
  },
  {
   "cell_type": "code",
   "execution_count": 453,
   "id": "cf217f4d",
   "metadata": {},
   "outputs": [
    {
     "data": {
      "text/plain": [
       "(18985, 18985)"
      ]
     },
     "execution_count": 453,
     "metadata": {},
     "output_type": "execute_result"
    }
   ],
   "source": [
    "row_ID(lab_slope_wide)"
   ]
  },
  {
   "cell_type": "code",
   "execution_count": 454,
   "id": "c4b9f4dc",
   "metadata": {},
   "outputs": [],
   "source": [
    "lab_slope_wide = (\n",
    "    lab_slope_wide\n",
    "    .append(\n",
    "        pd.Series(train_IDs)[~pd.Series(train_IDs).isin(lab_slope_wide['PatientID'])].to_frame(name = 'PatientID'),\n",
    "        sort = False)\n",
    ")"
   ]
  },
  {
   "cell_type": "code",
   "execution_count": 455,
   "id": "3f7750b9",
   "metadata": {},
   "outputs": [],
   "source": [
    "# Create missing variables for lab slope. \n",
    "for x in range (1, len(lab_slope_wide.columns)):\n",
    "    lab_slope_wide.loc[:, lab_slope_wide.columns[x]+'_na'] = np.where(lab_slope_wide[lab_slope_wide.columns[x]].isna(), 1, 0)"
   ]
  },
  {
   "cell_type": "code",
   "execution_count": 456,
   "id": "28f501a1",
   "metadata": {},
   "outputs": [
    {
     "data": {
      "text/plain": [
       "(27452, 27452)"
      ]
     },
     "execution_count": 456,
     "metadata": {},
     "output_type": "execute_result"
    }
   ],
   "source": [
    "row_ID(lab_slope_wide)"
   ]
  },
  {
   "cell_type": "markdown",
   "id": "060c4ff3",
   "metadata": {},
   "source": [
    "#### Merge"
   ]
  },
  {
   "cell_type": "code",
   "execution_count": 457,
   "id": "749a39d3",
   "metadata": {},
   "outputs": [],
   "source": [
    "lab_wide = pd.merge(lab_diag_wide, lab_summary_wide, on = 'PatientID')"
   ]
  },
  {
   "cell_type": "code",
   "execution_count": 458,
   "id": "50c32bfc",
   "metadata": {},
   "outputs": [],
   "source": [
    "lab_wide = pd.merge(lab_wide, lab_slope_wide, on = 'PatientID')"
   ]
  },
  {
   "cell_type": "code",
   "execution_count": 459,
   "id": "9709b7dc",
   "metadata": {},
   "outputs": [
    {
     "data": {
      "text/plain": [
       "(27452, 27452)"
      ]
     },
     "execution_count": 459,
     "metadata": {},
     "output_type": "execute_result"
    }
   ],
   "source": [
    "row_ID(lab_wide)"
   ]
  },
  {
   "cell_type": "code",
   "execution_count": 460,
   "id": "7e7bbd19",
   "metadata": {},
   "outputs": [
    {
     "data": {
      "text/plain": [
       "['PatientID',\n",
       " 'albumin_diag',\n",
       " 'alp_diag',\n",
       " 'alt_diag',\n",
       " 'ast_diag',\n",
       " 'bicarb_diag',\n",
       " 'bun_diag',\n",
       " 'calcium_diag',\n",
       " 'cea_diag',\n",
       " 'chloride_diag',\n",
       " 'creatinine_diag',\n",
       " 'hemoglobin_diag',\n",
       " 'neutrophil_count_diag',\n",
       " 'platelet_diag',\n",
       " 'potassium_diag',\n",
       " 'sodium_diag',\n",
       " 'total_bilirubin_diag',\n",
       " 'wbc_diag',\n",
       " 'albumin_diag_na',\n",
       " 'alp_diag_na',\n",
       " 'alt_diag_na',\n",
       " 'ast_diag_na',\n",
       " 'bicarb_diag_na',\n",
       " 'bun_diag_na',\n",
       " 'calcium_diag_na',\n",
       " 'cea_diag_na',\n",
       " 'chloride_diag_na',\n",
       " 'creatinine_diag_na',\n",
       " 'hemoglobin_diag_na',\n",
       " 'neutrophil_count_diag_na',\n",
       " 'platelet_diag_na',\n",
       " 'potassium_diag_na',\n",
       " 'sodium_diag_na',\n",
       " 'total_bilirubin_diag_na',\n",
       " 'wbc_diag_na',\n",
       " 'albumin_avg',\n",
       " 'alp_avg',\n",
       " 'alt_avg',\n",
       " 'ast_avg',\n",
       " 'bicarb_avg',\n",
       " 'bun_avg',\n",
       " 'calcium_avg',\n",
       " 'cea_avg',\n",
       " 'chloride_avg',\n",
       " 'creatinine_avg',\n",
       " 'hemoglobin_avg',\n",
       " 'neutrophil_count_avg',\n",
       " 'platelet_avg',\n",
       " 'potassium_avg',\n",
       " 'sodium_avg',\n",
       " 'total_bilirubin_avg',\n",
       " 'wbc_avg',\n",
       " 'albumin_max',\n",
       " 'alp_max',\n",
       " 'alt_max',\n",
       " 'ast_max',\n",
       " 'bicarb_max',\n",
       " 'bun_max',\n",
       " 'calcium_max',\n",
       " 'cea_max',\n",
       " 'chloride_max',\n",
       " 'creatinine_max',\n",
       " 'hemoglobin_max',\n",
       " 'neutrophil_count_max',\n",
       " 'platelet_max',\n",
       " 'potassium_max',\n",
       " 'sodium_max',\n",
       " 'total_bilirubin_max',\n",
       " 'wbc_max',\n",
       " 'albumin_min',\n",
       " 'alp_min',\n",
       " 'alt_min',\n",
       " 'ast_min',\n",
       " 'bicarb_min',\n",
       " 'bun_min',\n",
       " 'calcium_min',\n",
       " 'cea_min',\n",
       " 'chloride_min',\n",
       " 'creatinine_min',\n",
       " 'hemoglobin_min',\n",
       " 'neutrophil_count_min',\n",
       " 'platelet_min',\n",
       " 'potassium_min',\n",
       " 'sodium_min',\n",
       " 'total_bilirubin_min',\n",
       " 'wbc_min',\n",
       " 'albumin_std',\n",
       " 'alp_std',\n",
       " 'alt_std',\n",
       " 'ast_std',\n",
       " 'bicarb_std',\n",
       " 'bun_std',\n",
       " 'calcium_std',\n",
       " 'cea_std',\n",
       " 'chloride_std',\n",
       " 'creatinine_std',\n",
       " 'hemoglobin_std',\n",
       " 'neutrophil_count_std',\n",
       " 'platelet_std',\n",
       " 'potassium_std',\n",
       " 'sodium_std',\n",
       " 'total_bilirubin_std',\n",
       " 'wbc_std',\n",
       " 'albumin_slope',\n",
       " 'alp_slope',\n",
       " 'alt_slope',\n",
       " 'ast_slope',\n",
       " 'bicarb_slope',\n",
       " 'bun_slope',\n",
       " 'calcium_slope',\n",
       " 'cea_slope',\n",
       " 'chloride_slope',\n",
       " 'creatinine_slope',\n",
       " 'hemoglobin_slope',\n",
       " 'neutrophil_count_slope',\n",
       " 'platelet_slope',\n",
       " 'potassium_slope',\n",
       " 'sodium_slope',\n",
       " 'total_bilirubin_slope',\n",
       " 'wbc_slope',\n",
       " 'albumin_slope_na',\n",
       " 'alp_slope_na',\n",
       " 'alt_slope_na',\n",
       " 'ast_slope_na',\n",
       " 'bicarb_slope_na',\n",
       " 'bun_slope_na',\n",
       " 'calcium_slope_na',\n",
       " 'cea_slope_na',\n",
       " 'chloride_slope_na',\n",
       " 'creatinine_slope_na',\n",
       " 'hemoglobin_slope_na',\n",
       " 'neutrophil_count_slope_na',\n",
       " 'platelet_slope_na',\n",
       " 'potassium_slope_na',\n",
       " 'sodium_slope_na',\n",
       " 'total_bilirubin_slope_na',\n",
       " 'wbc_slope_na']"
      ]
     },
     "execution_count": 460,
     "metadata": {},
     "output_type": "execute_result"
    }
   ],
   "source": [
    "list(lab_wide.columns)"
   ]
  },
  {
   "cell_type": "code",
   "execution_count": 461,
   "id": "12aff920",
   "metadata": {},
   "outputs": [
    {
     "name": "stdout",
     "output_type": "stream",
     "text": [
      "Variable              Type         Data/Info\n",
      "--------------------------------------------\n",
      "biomarker_wide        DataFrame               PatientID     <...>n[27452 rows x 5 columns]\n",
      "demographics          DataFrame               PatientID gend<...>n[27452 rows x 7 columns]\n",
      "ecog_diagnosis_wide   DataFrame                PatientID eco<...>n[27452 rows x 2 columns]\n",
      "enhanced_met          DataFrame               PatientID diag<...>n[27452 rows x 8 columns]\n",
      "insurance_wide        DataFrame               PatientID  med<...>n[27452 rows x 9 columns]\n",
      "lab                   DataFrame                  PatientID  <...>441858 rows x 18 columns]\n",
      "lab_avg_wide          DataFrame               PatientID  alb<...>[18985 rows x 18 columns]\n",
      "lab_core              DataFrame                  PatientID R<...>539481 rows x 11 columns]\n",
      "lab_core_win          DataFrame                  PatientID R<...>[721998 rows x 7 columns]\n",
      "lab_core_win_summ     DataFrame                  PatientID R<...>2320553 rows x 8 columns]\n",
      "lab_diag_wide         DataFrame               PatientID  alb<...>[27452 rows x 35 columns]\n",
      "lab_max_wide          DataFrame               PatientID  alb<...>[18985 rows x 18 columns]\n",
      "lab_min_wide          DataFrame               PatientID  alb<...>[18985 rows x 18 columns]\n",
      "lab_slope_wide        DataFrame               PatientID  alb<...>[27452 rows x 35 columns]\n",
      "lab_std_wide          DataFrame               PatientID  alb<...>[18985 rows x 18 columns]\n",
      "lab_summary_wide      DataFrame               PatientID  alb<...>[27452 rows x 69 columns]\n",
      "lab_wide              DataFrame               PatientID  alb<...>27452 rows x 137 columns]\n",
      "med_admin_wide        DataFrame               PatientID  ste<...>[27452 rows x 15 columns]\n",
      "mortality             DataFrame               PatientID  dea<...>n[27452 rows x 3 columns]\n",
      "telemedicine          DataFrame               PatientID     <...>n[23327 rows x 3 columns]\n",
      "visit                 DataFrame                 PatientID   <...>2010098 rows x 7 columns]\n",
      "weight_wide           DataFrame               PatientID  wei<...>n[27452 rows x 7 columns]\n"
     ]
    }
   ],
   "source": [
    "%whos DataFrame"
   ]
  },
  {
   "cell_type": "code",
   "execution_count": 462,
   "id": "901273f7",
   "metadata": {},
   "outputs": [],
   "source": [
    "# Keep biomarker_wide, demographics, ecog_diagnosis_wide, enhanced_met, insurance_wide, lab_wide, med_admin_wide, \n",
    "# mortality, and weight_wide\n",
    "del lab\n",
    "del lab_avg_wide\n",
    "del lab_core\n",
    "del lab_core_win\n",
    "del lab_core_win_summ\n",
    "del lab_diag_wide\n",
    "del lab_max_wide\n",
    "del lab_min_wide\n",
    "del lab_slope_wide\n",
    "del lab_std_wide\n",
    "del lab_summary_wide"
   ]
  },
  {
   "cell_type": "markdown",
   "id": "e3b7bff6",
   "metadata": {},
   "source": [
    "### Diagnosis"
   ]
  },
  {
   "cell_type": "code",
   "execution_count": 463,
   "id": "14b2f634",
   "metadata": {},
   "outputs": [],
   "source": [
    "diagnosis = pd.read_csv('Diagnosis.csv')"
   ]
  },
  {
   "cell_type": "code",
   "execution_count": 464,
   "id": "5c9402fb",
   "metadata": {},
   "outputs": [],
   "source": [
    "diagnosis = diagnosis[diagnosis['PatientID'].isin(train_IDs)]"
   ]
  },
  {
   "cell_type": "code",
   "execution_count": 465,
   "id": "a00dddce",
   "metadata": {},
   "outputs": [
    {
     "data": {
      "text/plain": [
       "(869819, 27452)"
      ]
     },
     "execution_count": 465,
     "metadata": {},
     "output_type": "execute_result"
    }
   ],
   "source": [
    "row_ID(diagnosis)"
   ]
  },
  {
   "cell_type": "code",
   "execution_count": 466,
   "id": "c56cddad",
   "metadata": {},
   "outputs": [
    {
     "data": {
      "text/html": [
       "<div>\n",
       "<style scoped>\n",
       "    .dataframe tbody tr th:only-of-type {\n",
       "        vertical-align: middle;\n",
       "    }\n",
       "\n",
       "    .dataframe tbody tr th {\n",
       "        vertical-align: top;\n",
       "    }\n",
       "\n",
       "    .dataframe thead th {\n",
       "        text-align: right;\n",
       "    }\n",
       "</style>\n",
       "<table border=\"1\" class=\"dataframe\">\n",
       "  <thead>\n",
       "    <tr style=\"text-align: right;\">\n",
       "      <th></th>\n",
       "      <th>PatientID</th>\n",
       "      <th>PracticeID</th>\n",
       "      <th>DiagnosisDate</th>\n",
       "      <th>DiagnosisCode</th>\n",
       "      <th>DiagnosisCodeSystem</th>\n",
       "      <th>DiagnosisDescription</th>\n",
       "    </tr>\n",
       "  </thead>\n",
       "  <tbody>\n",
       "    <tr>\n",
       "      <th>894890</th>\n",
       "      <td>FFA0CB042CF14</td>\n",
       "      <td>S10787FE9E379</td>\n",
       "      <td>2015-07-16</td>\n",
       "      <td>995.29</td>\n",
       "      <td>ICD-9-CM</td>\n",
       "      <td>Unspecified adverse effect of other drug, medi...</td>\n",
       "    </tr>\n",
       "    <tr>\n",
       "      <th>900500</th>\n",
       "      <td>F4612E9A17F26</td>\n",
       "      <td>S32D7D3854A0D</td>\n",
       "      <td>2010-12-08</td>\n",
       "      <td>196.2</td>\n",
       "      <td>ICD-9-CM</td>\n",
       "      <td>Secondary and unspecified malignant neoplasm o...</td>\n",
       "    </tr>\n",
       "    <tr>\n",
       "      <th>862927</th>\n",
       "      <td>FE7E08C07403F</td>\n",
       "      <td>S87C279DB0C8A</td>\n",
       "      <td>2019-09-16</td>\n",
       "      <td>Z51.11</td>\n",
       "      <td>ICD-10-CM</td>\n",
       "      <td>Encounter for antineoplastic chemotherapy</td>\n",
       "    </tr>\n",
       "    <tr>\n",
       "      <th>744983</th>\n",
       "      <td>FFA2E1FD90E96</td>\n",
       "      <td>S507DCE5DD8C6</td>\n",
       "      <td>2018-07-18</td>\n",
       "      <td>C18.9</td>\n",
       "      <td>ICD-10-CM</td>\n",
       "      <td>Malignant neoplasm of colon, unspecified</td>\n",
       "    </tr>\n",
       "    <tr>\n",
       "      <th>448895</th>\n",
       "      <td>F6591526B269A</td>\n",
       "      <td>SB875B0336958</td>\n",
       "      <td>2019-06-07</td>\n",
       "      <td>I82.592</td>\n",
       "      <td>ICD-10-CM</td>\n",
       "      <td>Chronic embolism and thrombosis of other speci...</td>\n",
       "    </tr>\n",
       "  </tbody>\n",
       "</table>\n",
       "</div>"
      ],
      "text/plain": [
       "            PatientID     PracticeID DiagnosisDate DiagnosisCode  \\\n",
       "894890  FFA0CB042CF14  S10787FE9E379    2015-07-16        995.29   \n",
       "900500  F4612E9A17F26  S32D7D3854A0D    2010-12-08         196.2   \n",
       "862927  FE7E08C07403F  S87C279DB0C8A    2019-09-16        Z51.11   \n",
       "744983  FFA2E1FD90E96  S507DCE5DD8C6    2018-07-18         C18.9   \n",
       "448895  F6591526B269A  SB875B0336958    2019-06-07       I82.592   \n",
       "\n",
       "       DiagnosisCodeSystem                               DiagnosisDescription  \n",
       "894890            ICD-9-CM  Unspecified adverse effect of other drug, medi...  \n",
       "900500            ICD-9-CM  Secondary and unspecified malignant neoplasm o...  \n",
       "862927           ICD-10-CM          Encounter for antineoplastic chemotherapy  \n",
       "744983           ICD-10-CM           Malignant neoplasm of colon, unspecified  \n",
       "448895           ICD-10-CM  Chronic embolism and thrombosis of other speci...  "
      ]
     },
     "execution_count": 466,
     "metadata": {},
     "output_type": "execute_result"
    }
   ],
   "source": [
    "diagnosis.sample(5)"
   ]
  },
  {
   "cell_type": "code",
   "execution_count": 467,
   "id": "c3aa87df",
   "metadata": {},
   "outputs": [
    {
     "data": {
      "text/plain": [
       "count    27452.000000\n",
       "mean        31.685087\n",
       "std        101.928554\n",
       "min          1.000000\n",
       "25%          4.000000\n",
       "50%          8.000000\n",
       "75%         16.000000\n",
       "max       2316.000000\n",
       "Name: DiagnosisCode, dtype: float64"
      ]
     },
     "execution_count": 467,
     "metadata": {},
     "output_type": "execute_result"
    }
   ],
   "source": [
    "(\n",
    "    diagnosis\n",
    "    .groupby('PatientID')['DiagnosisCode'].count()\n",
    "    .describe()\n",
    ")"
   ]
  },
  {
   "cell_type": "code",
   "execution_count": 468,
   "id": "7d3f419d",
   "metadata": {},
   "outputs": [
    {
     "data": {
      "text/plain": [
       "12312"
      ]
     },
     "execution_count": 468,
     "metadata": {},
     "output_type": "execute_result"
    }
   ],
   "source": [
    "diagnosis['DiagnosisCode'].nunique()"
   ]
  },
  {
   "cell_type": "markdown",
   "id": "5beb651a",
   "metadata": {},
   "source": [
    "**The Diagnosis table is in long format and has close to 12,000 unique ICD 9 and 10 codes. The median number of ICD codes per patient is 8 with a standard deviation of 106 which shows the varaibility in number of ICD codes per patent..** \n",
    "\n",
    "**ICD codes before metatstatic diagnosis and up to 30 days past diagnosis will be mapped to the Elixhauser comorbidity index. (\"Coding Algorithms for Defining Comorbidities in ICD-9-CM and ICD-10 Administrative Data\"  by Quan et al is used as a guide for linking ICD codes to Elixhauser comorbidities.) Presence of concurrent or prior cancer diagnosis that is not lung cancer or metastasis and sites of metastases at time of diagnosis will also be created.** "
   ]
  },
  {
   "cell_type": "markdown",
   "id": "6cc7fceb",
   "metadata": {},
   "source": [
    "#### Elixhauser"
   ]
  },
  {
   "cell_type": "code",
   "execution_count": 469,
   "id": "9ef966fc",
   "metadata": {},
   "outputs": [],
   "source": [
    "diagnosis = pd.merge(diagnosis, enhanced_met[['PatientID', 'met_date']], on = 'PatientID', how = 'left')"
   ]
  },
  {
   "cell_type": "code",
   "execution_count": 470,
   "id": "4ffb3f2e",
   "metadata": {},
   "outputs": [],
   "source": [
    "diagnosis.loc[:, 'DiagnosisDate'] = pd.to_datetime(diagnosis['DiagnosisDate'])"
   ]
  },
  {
   "cell_type": "code",
   "execution_count": 471,
   "id": "e9f163ab",
   "metadata": {},
   "outputs": [],
   "source": [
    "diagnosis.loc[:, 'diagnosis_date_diff'] = (diagnosis['DiagnosisDate'] - diagnosis['met_date']).dt.days"
   ]
  },
  {
   "cell_type": "code",
   "execution_count": 472,
   "id": "a89eaf7d",
   "metadata": {},
   "outputs": [],
   "source": [
    "# Remove decimal to make mapping to Elixhauser easier. \n",
    "diagnosis.loc[:, 'diagnosis_code'] = diagnosis['DiagnosisCode'].replace('\\.', '', regex = True)"
   ]
  },
  {
   "cell_type": "markdown",
   "id": "ef1f977a",
   "metadata": {},
   "source": [
    "##### Elixhauser for ICD-9"
   ]
  },
  {
   "cell_type": "code",
   "execution_count": 473,
   "id": "14657872",
   "metadata": {},
   "outputs": [],
   "source": [
    "# ICD-9 dataframe with unique codes for each patient. \n",
    "diagnosis_elix_9 = (\n",
    "    diagnosis\n",
    "    .query('diagnosis_date_diff <= 30')\n",
    "    .query('DiagnosisCodeSystem == \"ICD-9-CM\"')\n",
    "    .drop_duplicates(subset = (['PatientID', 'DiagnosisCode']), keep = 'first')\n",
    "    .filter(items = ['PatientID', 'DiagnosisCode', 'diagnosis_code'])\n",
    ")"
   ]
  },
  {
   "cell_type": "code",
   "execution_count": 474,
   "id": "af314c46",
   "metadata": {},
   "outputs": [
    {
     "data": {
      "text/plain": [
       "(52192, 10045)"
      ]
     },
     "execution_count": 474,
     "metadata": {},
     "output_type": "execute_result"
    }
   ],
   "source": [
    "row_ID(diagnosis_elix_9)"
   ]
  },
  {
   "cell_type": "code",
   "execution_count": 475,
   "id": "0df63894",
   "metadata": {},
   "outputs": [],
   "source": [
    "diagnosis_elix_9.loc[:, 'chf'] = (\n",
    "    np.where(diagnosis_elix_9['diagnosis_code'].str.match('39891|'\n",
    "                                                          '402(01|11|91)|'\n",
    "                                                          '404(01|03|[19][13])|'\n",
    "                                                          '42(5[456789]|8)'), 1, 0)\n",
    ")"
   ]
  },
  {
   "cell_type": "code",
   "execution_count": 476,
   "id": "d95236a8",
   "metadata": {},
   "outputs": [],
   "source": [
    "diagnosis_elix_9.loc[:, 'cardiac_arrhythmias'] = (\n",
    "    np.where(diagnosis_elix_9['diagnosis_code'].str.match('426([079]|1[023])|'\n",
    "                                                          '427[012346789]|'\n",
    "                                                          '7850|'\n",
    "                                                          '996(01|04)|'\n",
    "                                                          'V450|'\n",
    "                                                          'V533'), 1, 0)\n",
    ")"
   ]
  },
  {
   "cell_type": "code",
   "execution_count": 477,
   "id": "6cd5739c",
   "metadata": {},
   "outputs": [],
   "source": [
    "diagnosis_elix_9.loc[:, 'valvular_disease'] = (\n",
    "    np.where(diagnosis_elix_9['diagnosis_code'].str.match('0932|'\n",
    "                                                          '39[4567]|'\n",
    "                                                          '424|'\n",
    "                                                          '746[3456]|'\n",
    "                                                          'V422|'\n",
    "                                                          'V433'), 1, 0)\n",
    ")"
   ]
  },
  {
   "cell_type": "code",
   "execution_count": 478,
   "id": "5b94d1ce",
   "metadata": {},
   "outputs": [],
   "source": [
    "diagnosis_elix_9.loc[:, 'pulmonary_circulation'] = (\n",
    "    np.where(diagnosis_elix_9['diagnosis_code'].str.match('41(5[01]|6|7[089])'), 1, 0)\n",
    ")"
   ]
  },
  {
   "cell_type": "code",
   "execution_count": 479,
   "id": "70047b71",
   "metadata": {},
   "outputs": [],
   "source": [
    "diagnosis_elix_9.loc[:, 'peripheral_vascular'] = (\n",
    "    np.where(diagnosis_elix_9['diagnosis_code'].str.match('0930|'\n",
    "                                                          '4373|'\n",
    "                                                          '44([01]|3[123456789]|71)|'\n",
    "                                                          '557[19]|'\n",
    "                                                          'V434'), 1, 0)\n",
    ")"
   ]
  },
  {
   "cell_type": "code",
   "execution_count": 480,
   "id": "25705820",
   "metadata": {},
   "outputs": [],
   "source": [
    "diagnosis_elix_9.loc[:, 'htn_uncomplicated'] = (\n",
    "    np.where(diagnosis_elix_9['diagnosis_code'].str.match('401'), 1, 0)\n",
    ")"
   ]
  },
  {
   "cell_type": "code",
   "execution_count": 481,
   "id": "43bc884e",
   "metadata": {},
   "outputs": [],
   "source": [
    "diagnosis_elix_9.loc[:, 'htn_complicated'] = (\n",
    "    np.where(diagnosis_elix_9['diagnosis_code'].str.match('40[2345]'), 1, 0)\n",
    ")"
   ]
  },
  {
   "cell_type": "code",
   "execution_count": 482,
   "id": "a841112c",
   "metadata": {},
   "outputs": [],
   "source": [
    "diagnosis_elix_9.loc[:, 'paralysis'] = (\n",
    "    np.where(diagnosis_elix_9['diagnosis_code'].str.match('3341|'\n",
    "                                                          '34([23]|4[01234569])'), 1, 0)\n",
    ")"
   ]
  },
  {
   "cell_type": "code",
   "execution_count": 483,
   "id": "e17b226d",
   "metadata": {},
   "outputs": [],
   "source": [
    "diagnosis_elix_9.loc[:, 'other_neuro_disorders'] = (\n",
    "    np.where(diagnosis_elix_9['diagnosis_code'].str.match('33(19|2[01]|3([45]|92)|[45]|62)|'\n",
    "                                                          '34([015]|8[13])|'\n",
    "                                                          '78[04]3'), 1, 0)\n",
    ")"
   ]
  },
  {
   "cell_type": "code",
   "execution_count": 484,
   "id": "55eda9b0",
   "metadata": {},
   "outputs": [],
   "source": [
    "diagnosis_elix_9.loc[:, 'chronic_pulmonary'] = (\n",
    "    np.where(diagnosis_elix_9['diagnosis_code'].str.match('416[89]|'\n",
    "                                                          '49|'\n",
    "                                                          '50([012345]|64|8[18])'), 1, 0)\n",
    ")"
   ]
  },
  {
   "cell_type": "code",
   "execution_count": 485,
   "id": "54a7e984",
   "metadata": {},
   "outputs": [],
   "source": [
    "diagnosis_elix_9.loc[:, 'diabetes_uncomplicated'] = (\n",
    "    np.where(diagnosis_elix_9['diagnosis_code'].str.match('250[0123]'), 1, 0)\n",
    ")"
   ]
  },
  {
   "cell_type": "code",
   "execution_count": 486,
   "id": "fd33ff42",
   "metadata": {},
   "outputs": [],
   "source": [
    "diagnosis_elix_9.loc[:, 'diabetes_complicated'] = (\n",
    "    np.where(diagnosis_elix_9['diagnosis_code'].str.match('250[456789]'), 1, 0)\n",
    ")"
   ]
  },
  {
   "cell_type": "code",
   "execution_count": 487,
   "id": "09afca1f",
   "metadata": {},
   "outputs": [],
   "source": [
    "diagnosis_elix_9.loc[:, 'hypothyroidism'] = (\n",
    "    np.where(diagnosis_elix_9['diagnosis_code'].str.match('2409|'\n",
    "                                                          '24([34]|6[18])'), 1, 0)\n",
    ")"
   ]
  },
  {
   "cell_type": "code",
   "execution_count": 488,
   "id": "1928c773",
   "metadata": {},
   "outputs": [],
   "source": [
    "diagnosis_elix_9.loc[:, 'renal_failure'] = (\n",
    "    np.where(diagnosis_elix_9['diagnosis_code'].str.match('403[019]1|'\n",
    "                                                          '404[019][23]|'\n",
    "                                                          '58([56]|80)|'\n",
    "                                                          'V4(20|51)|'\n",
    "                                                          'V56'), 1, 0)\n",
    ")"
   ]
  },
  {
   "cell_type": "code",
   "execution_count": 489,
   "id": "dc8bc08a",
   "metadata": {},
   "outputs": [],
   "source": [
    "diagnosis_elix_9.loc[:, 'liver_disease'] = (\n",
    "    np.where(diagnosis_elix_9['diagnosis_code'].str.match('070(2[23]]|3[23]|44|54|6|9)|'\n",
    "                                                          '456[012]|'\n",
    "                                                          '57([01]|2[2345678]|3[3489])|'\n",
    "                                                          'V427'), 1, 0)\n",
    ")"
   ]
  },
  {
   "cell_type": "code",
   "execution_count": 490,
   "id": "17e27283",
   "metadata": {},
   "outputs": [],
   "source": [
    "diagnosis_elix_9.loc[:, 'peptic_ulcer_disease'] = (\n",
    "    np.where(diagnosis_elix_9['diagnosis_code'].str.match('53[1234][79]'), 1, 0)\n",
    ")"
   ]
  },
  {
   "cell_type": "code",
   "execution_count": 491,
   "id": "baffc40f",
   "metadata": {},
   "outputs": [],
   "source": [
    "diagnosis_elix_9.loc[:, 'aids_hiv'] = (\n",
    "    np.where(diagnosis_elix_9['diagnosis_code'].str.match('04[234]'), 1, 0)\n",
    ")"
   ]
  },
  {
   "cell_type": "code",
   "execution_count": 492,
   "id": "21ac9aee",
   "metadata": {},
   "outputs": [],
   "source": [
    "diagnosis_elix_9.loc[:, 'lymphoma'] = (\n",
    "    np.where(diagnosis_elix_9['diagnosis_code'].str.match('20([012]|30)|'\n",
    "                                                          '2386'), 1, 0)\n",
    ")"
   ]
  },
  {
   "cell_type": "code",
   "execution_count": 493,
   "id": "17a5f004",
   "metadata": {},
   "outputs": [],
   "source": [
    "diagnosis_elix_9.loc[:, 'metastatic_cancer'] = (\n",
    "    np.where(diagnosis_elix_9['diagnosis_code'].str.match('19[6789]'), 1, 0)\n",
    ")"
   ]
  },
  {
   "cell_type": "code",
   "execution_count": 494,
   "id": "8e47ea7c",
   "metadata": {},
   "outputs": [],
   "source": [
    "diagnosis_elix_9.loc[:, 'solid_tumor_wout_mets'] = (\n",
    "    np.where(diagnosis_elix_9['diagnosis_code'].str.match('1[456]|'\n",
    "                                                          '17[012456789]|'\n",
    "                                                          '18|'\n",
    "                                                          '19([012345])'), 1, 0)\n",
    ")"
   ]
  },
  {
   "cell_type": "code",
   "execution_count": 495,
   "id": "a403ca71",
   "metadata": {},
   "outputs": [],
   "source": [
    "diagnosis_elix_9.loc[:, 'rheumatoid_arthritis'] = (\n",
    "    np.where(diagnosis_elix_9['diagnosis_code'].str.match('446|'\n",
    "                                                          '7010|'\n",
    "                                                          '71(0[0123489]|12|4|93)|'\n",
    "                                                          '72([05]|85|889|930)'), 1, 0)\n",
    ")"
   ]
  },
  {
   "cell_type": "code",
   "execution_count": 496,
   "id": "d4161262",
   "metadata": {},
   "outputs": [],
   "source": [
    "diagnosis_elix_9.loc[:, 'coagulopathy'] = (\n",
    "    np.where(diagnosis_elix_9['diagnosis_code'].str.match('28(6|7[1345])'), 1, 0)\n",
    ")"
   ]
  },
  {
   "cell_type": "code",
   "execution_count": 497,
   "id": "13b96cb6",
   "metadata": {},
   "outputs": [],
   "source": [
    "diagnosis_elix_9.loc[:, 'obesity'] = (\n",
    "    np.where(diagnosis_elix_9['diagnosis_code'].str.match('2780'), 1, 0)\n",
    ")"
   ]
  },
  {
   "cell_type": "code",
   "execution_count": 498,
   "id": "9d4eac0c",
   "metadata": {},
   "outputs": [],
   "source": [
    "diagnosis_elix_9.loc[:, 'weight_loss'] = (\n",
    "    np.where(diagnosis_elix_9['diagnosis_code'].str.match('26[0123]|'\n",
    "                                                          '7832|'\n",
    "                                                          '7994'), 1, 0)\n",
    ")"
   ]
  },
  {
   "cell_type": "code",
   "execution_count": 499,
   "id": "3c233ee0",
   "metadata": {},
   "outputs": [],
   "source": [
    "diagnosis_elix_9.loc[:, 'fluid_electrolyte'] = (\n",
    "    np.where(diagnosis_elix_9['diagnosis_code'].str.match('2(536|76)'), 1, 0)\n",
    ")"
   ]
  },
  {
   "cell_type": "code",
   "execution_count": 500,
   "id": "8eddcf4c",
   "metadata": {},
   "outputs": [],
   "source": [
    "diagnosis_elix_9.loc[:, 'blood_loss_anemia'] = (\n",
    "    np.where(diagnosis_elix_9['diagnosis_code'].str.match('2800'), 1, 0)\n",
    ")"
   ]
  },
  {
   "cell_type": "code",
   "execution_count": 501,
   "id": "b45d21eb",
   "metadata": {},
   "outputs": [],
   "source": [
    "diagnosis_elix_9.loc[:, 'deficiency_anemia'] = (\n",
    "    np.where(diagnosis_elix_9['diagnosis_code'].str.match('28(0[123456789]|1)'), 1, 0)\n",
    ")"
   ]
  },
  {
   "cell_type": "code",
   "execution_count": 502,
   "id": "dc7fd686",
   "metadata": {},
   "outputs": [],
   "source": [
    "diagnosis_elix_9.loc[:, 'alcohol_abuse'] = (\n",
    "    np.where(diagnosis_elix_9['diagnosis_code'].str.match('2652|'\n",
    "                                                          '291[12356789]|'\n",
    "                                                          '30(3[09]|50)|'\n",
    "                                                          '3575|'\n",
    "                                                          '4255|'\n",
    "                                                          '5353|'\n",
    "                                                          '571[0123]|'\n",
    "                                                          '980|'\n",
    "                                                          'V113'), 1, 0)\n",
    ")"
   ]
  },
  {
   "cell_type": "code",
   "execution_count": 503,
   "id": "5181848b",
   "metadata": {},
   "outputs": [],
   "source": [
    "diagnosis_elix_9.loc[:, 'drug_abuse'] = (\n",
    "    np.where(diagnosis_elix_9['diagnosis_code'].str.match('292|'\n",
    "                                                          '30(4|5[23456789])|'\n",
    "                                                          'V6542'), 1, 0)\n",
    ")"
   ]
  },
  {
   "cell_type": "code",
   "execution_count": 504,
   "id": "91f04c53",
   "metadata": {},
   "outputs": [],
   "source": [
    "diagnosis_elix_9.loc[:, 'psychoses'] = (\n",
    "    np.where(diagnosis_elix_9['diagnosis_code'].str.match('2938|'\n",
    "                                                          '296[0145]4|'\n",
    "                                                          '29[578]'), 1, 0)\n",
    ")"
   ]
  },
  {
   "cell_type": "code",
   "execution_count": 505,
   "id": "5faffbe5",
   "metadata": {},
   "outputs": [],
   "source": [
    "diagnosis_elix_9.loc[:, 'depression'] = (\n",
    "    np.where(diagnosis_elix_9['diagnosis_code'].str.match('296[235]|'\n",
    "                                                          '3(004|09|11)'), 1, 0)\n",
    ")"
   ]
  },
  {
   "cell_type": "code",
   "execution_count": 506,
   "id": "3f1689f0",
   "metadata": {},
   "outputs": [],
   "source": [
    "# Create variable that captures ICD-9 codes not included in Elixhauser. \n",
    "diagnosis_elix_9.loc[:, 'elixhauser_other'] = (\n",
    "    np.where(diagnosis_elix_9.iloc[:, 3:].eq(0).all(1), 1, 0)\n",
    ")"
   ]
  },
  {
   "cell_type": "code",
   "execution_count": 507,
   "id": "326a8409",
   "metadata": {},
   "outputs": [
    {
     "data": {
      "text/plain": [
       "0.5968347639484979"
      ]
     },
     "execution_count": 507,
     "metadata": {},
     "output_type": "execute_result"
    }
   ],
   "source": [
    "# Percentage of ICD-9 codes not captured by Elixhauser.\n",
    "diagnosis_elix_9['elixhauser_other'].sum()/len(diagnosis_elix_9)"
   ]
  },
  {
   "cell_type": "code",
   "execution_count": 508,
   "id": "834cafe4",
   "metadata": {},
   "outputs": [],
   "source": [
    "# Single-row-per-patient dataframe with columns as Elixhauser comorbidities. \n",
    "diagnosis_elix_9_wide = (\n",
    "    diagnosis_elix_9\n",
    "    .drop(columns = ['DiagnosisCode', 'diagnosis_code'])\n",
    "    .groupby('PatientID').sum()\n",
    "    .reset_index()\n",
    ")"
   ]
  },
  {
   "cell_type": "code",
   "execution_count": 509,
   "id": "a40f545f",
   "metadata": {},
   "outputs": [
    {
     "data": {
      "text/plain": [
       "(10045, 10045)"
      ]
     },
     "execution_count": 509,
     "metadata": {},
     "output_type": "execute_result"
    }
   ],
   "source": [
    "row_ID(diagnosis_elix_9_wide)"
   ]
  },
  {
   "cell_type": "markdown",
   "id": "b247ee3b",
   "metadata": {},
   "source": [
    "##### Elixhauser for ICD-10"
   ]
  },
  {
   "cell_type": "code",
   "execution_count": 510,
   "id": "ab718109",
   "metadata": {},
   "outputs": [],
   "source": [
    "# ICD-10 dataframe with unique codes for each patient.  \n",
    "diagnosis_elix_10 = (\n",
    "    diagnosis\n",
    "    .query('diagnosis_date_diff <= 30')\n",
    "    .query('DiagnosisCodeSystem == \"ICD-10-CM\"')\n",
    "    .drop_duplicates(subset = (['PatientID', 'DiagnosisCode']), keep = 'first')\n",
    "    .filter(items = ['PatientID', 'DiagnosisCode', 'diagnosis_code'])\n",
    ")"
   ]
  },
  {
   "cell_type": "code",
   "execution_count": 511,
   "id": "497a420d",
   "metadata": {},
   "outputs": [
    {
     "data": {
      "text/plain": [
       "(126655, 17487)"
      ]
     },
     "execution_count": 511,
     "metadata": {},
     "output_type": "execute_result"
    }
   ],
   "source": [
    "row_ID(diagnosis_elix_10)"
   ]
  },
  {
   "cell_type": "code",
   "execution_count": 512,
   "id": "8992ef70",
   "metadata": {},
   "outputs": [],
   "source": [
    "diagnosis_elix_10.loc[:, 'chf'] = (\n",
    "    np.where(diagnosis_elix_10['diagnosis_code'].str.match('I099|'\n",
    "                                                           'I1(10|3[02])|'\n",
    "                                                           'I255|'\n",
    "                                                           'I4(2[056789]|3)|'\n",
    "                                                           'I50|'\n",
    "                                                           'P290'), 1, 0)\n",
    ")"
   ]
  },
  {
   "cell_type": "code",
   "execution_count": 513,
   "id": "791947e5",
   "metadata": {},
   "outputs": [],
   "source": [
    "diagnosis_elix_10.loc[:, 'cardiac_arrhythmias'] = (\n",
    "    np.where(diagnosis_elix_10['diagnosis_code'].str.match('I4(4[123]|5[69]|[789])|'\n",
    "                                                           'R00[018]|'\n",
    "                                                           'T821|'\n",
    "                                                           'Z[49]50'), 1, 0)\n",
    ")"
   ]
  },
  {
   "cell_type": "code",
   "execution_count": 514,
   "id": "d16fe810",
   "metadata": {},
   "outputs": [],
   "source": [
    "diagnosis_elix_10.loc[:, 'valvular_disease'] = (\n",
    "    np.where(diagnosis_elix_10['diagnosis_code'].str.match('A520|'\n",
    "                                                           'I0([5678]|9[18])|'\n",
    "                                                           'I3[456789]|'\n",
    "                                                           'Q23[0123]|'\n",
    "                                                           'Z95[234]'), 1, 0)\n",
    ")"
   ]
  },
  {
   "cell_type": "code",
   "execution_count": 515,
   "id": "8463ea30",
   "metadata": {},
   "outputs": [],
   "source": [
    "diagnosis_elix_10.loc[:, 'pulmonary_circulation'] = (\n",
    "    np.where(diagnosis_elix_10['diagnosis_code'].str.match('I2([67]|8[089])'), 1, 0)\n",
    ")"
   ]
  },
  {
   "cell_type": "code",
   "execution_count": 516,
   "id": "5be74c59",
   "metadata": {},
   "outputs": [],
   "source": [
    "diagnosis_elix_10.loc[:, 'peripheral_vascular'] = (\n",
    "    np.where(diagnosis_elix_10['diagnosis_code'].str.match('I7([01]|3[189]|71|9[02])|'\n",
    "                                                           'K55[189]|'\n",
    "                                                           'Z95[89]'), 1, 0)\n",
    ")"
   ]
  },
  {
   "cell_type": "code",
   "execution_count": 517,
   "id": "6101d0b5",
   "metadata": {},
   "outputs": [],
   "source": [
    "diagnosis_elix_10.loc[:, 'htn_uncomplicated'] = (\n",
    "    np.where(diagnosis_elix_10['diagnosis_code'].str.match('I10'), 1, 0)\n",
    ")"
   ]
  },
  {
   "cell_type": "code",
   "execution_count": 518,
   "id": "1d632d64",
   "metadata": {},
   "outputs": [],
   "source": [
    "diagnosis_elix_10.loc[:, 'htn_complicated'] = (\n",
    "    np.where(diagnosis_elix_10['diagnosis_code'].str.match('I1[1235]'), 1, 0)\n",
    ")"
   ]
  },
  {
   "cell_type": "code",
   "execution_count": 519,
   "id": "eef6d07c",
   "metadata": {},
   "outputs": [],
   "source": [
    "diagnosis_elix_10.loc[:, 'paralysis'] = (\n",
    "    np.where(diagnosis_elix_10['diagnosis_code'].str.match('G041|'\n",
    "                                                           'G114|'\n",
    "                                                           'G8(0[12]|[12]|3[012349])'), 1, 0)\n",
    ")"
   ]
  },
  {
   "cell_type": "code",
   "execution_count": 520,
   "id": "80f7f785",
   "metadata": {},
   "outputs": [],
   "source": [
    "diagnosis_elix_10.loc[:, 'other_neuro_disorders'] = (\n",
    "    np.where(diagnosis_elix_10['diagnosis_code'].str.match('G1[0123]|'\n",
    "                                                           'G2([012]|5[45])|'\n",
    "                                                           'G3(1[289]|[2567])|'\n",
    "                                                           'G4[01]|'\n",
    "                                                           'G93[14]|'\n",
    "                                                           'R470|'\n",
    "                                                           'R56'), 1, 0)\n",
    ")"
   ]
  },
  {
   "cell_type": "code",
   "execution_count": 521,
   "id": "65518896",
   "metadata": {},
   "outputs": [],
   "source": [
    "diagnosis_elix_10.loc[:, 'chronic_pulmonary'] = (\n",
    "    np.where(diagnosis_elix_10['diagnosis_code'].str.match('I27[89]|'\n",
    "                                                           'J4[01234567]|'\n",
    "                                                           'J6([01234567]|84)|'\n",
    "                                                           'J70[13]'), 1, 0)\n",
    ")"
   ]
  },
  {
   "cell_type": "code",
   "execution_count": 522,
   "id": "5a1264b7",
   "metadata": {},
   "outputs": [],
   "source": [
    "diagnosis_elix_10.loc[:, 'diabetes_uncomplicated'] = (\n",
    "    np.where(diagnosis_elix_10['diagnosis_code'].str.match('E1[01234][019]'), 1, 0)\n",
    ")"
   ]
  },
  {
   "cell_type": "code",
   "execution_count": 523,
   "id": "e3b3eaf5",
   "metadata": {},
   "outputs": [],
   "source": [
    "diagnosis_elix_10.loc[:, 'diabetes_complicated'] = (\n",
    "    np.where(diagnosis_elix_10['diagnosis_code'].str.match('E1[01234][2345678]'), 1, 0)\n",
    ")"
   ]
  },
  {
   "cell_type": "code",
   "execution_count": 524,
   "id": "c928c1b8",
   "metadata": {},
   "outputs": [],
   "source": [
    "diagnosis_elix_10.loc[:, 'hypothyroidism'] = (\n",
    "    np.where(diagnosis_elix_10['diagnosis_code'].str.match('E0[0123]|'\n",
    "                                                           'E890'), 1, 0)\n",
    ")"
   ]
  },
  {
   "cell_type": "code",
   "execution_count": 525,
   "id": "98c4174c",
   "metadata": {},
   "outputs": [],
   "source": [
    "diagnosis_elix_10.loc[:, 'renal_failure'] = (\n",
    "    np.where(diagnosis_elix_10['diagnosis_code'].str.match('I1(20|31)|'\n",
    "                                                           'N1[89]|'\n",
    "                                                           'N250|'\n",
    "                                                           'Z49[012]|'\n",
    "                                                           'Z9(40|92)'), 1, 0)\n",
    ")"
   ]
  },
  {
   "cell_type": "code",
   "execution_count": 526,
   "id": "ac771f2b",
   "metadata": {},
   "outputs": [],
   "source": [
    "diagnosis_elix_10.loc[:, 'liver_disease'] = (\n",
    "    np.where(diagnosis_elix_10['diagnosis_code'].str.match('B18|'\n",
    "                                                           'I8(5|64)|'\n",
    "                                                           'I982|'\n",
    "                                                           'K7(0|1[13457]|[234]|6[023456789])|'\n",
    "                                                           'Z944'), 1, 0)\n",
    ")"
   ]
  },
  {
   "cell_type": "code",
   "execution_count": 527,
   "id": "30bfc4bc",
   "metadata": {},
   "outputs": [],
   "source": [
    "diagnosis_elix_10.loc[:, 'peptic_ulcer_disease'] = (\n",
    "    np.where(diagnosis_elix_10['diagnosis_code'].str.match('K2[5678][79]'), 1, 0)\n",
    ")"
   ]
  },
  {
   "cell_type": "code",
   "execution_count": 528,
   "id": "6f4e8e87",
   "metadata": {},
   "outputs": [],
   "source": [
    "diagnosis_elix_10.loc[:, 'aids_hiv'] = (\n",
    "    np.where(diagnosis_elix_10['diagnosis_code'].str.match('B2[0124]'), 1, 0)\n",
    ")"
   ]
  },
  {
   "cell_type": "code",
   "execution_count": 529,
   "id": "36ffe9e7",
   "metadata": {},
   "outputs": [],
   "source": [
    "diagnosis_elix_10.loc[:, 'lymphoma'] = (\n",
    "    np.where(diagnosis_elix_10['diagnosis_code'].str.match('C8[123458]|'\n",
    "                                                           'C9(0[02]|6)'), 1, 0)\n",
    ")"
   ]
  },
  {
   "cell_type": "code",
   "execution_count": 530,
   "id": "4ddeca78",
   "metadata": {},
   "outputs": [],
   "source": [
    "diagnosis_elix_10.loc[:, 'metastatic_cancer'] = (\n",
    "    np.where(diagnosis_elix_10['diagnosis_code'].str.match('C(7[789]|80)'), 1, 0)\n",
    ")"
   ]
  },
  {
   "cell_type": "code",
   "execution_count": 531,
   "id": "627407e0",
   "metadata": {},
   "outputs": [],
   "source": [
    "diagnosis_elix_10.loc[:, 'solid_tumor_wout_mets'] = (\n",
    "    np.where(diagnosis_elix_10['diagnosis_code'].str.match('C[01]|'\n",
    "                                                           'C2[0123456]|'\n",
    "                                                           'C3[01234789]|'\n",
    "                                                           'C4[01356789]|'\n",
    "                                                           'C5[012345678]|'\n",
    "                                                           'C6|'\n",
    "                                                           'C7[0123456]|'\n",
    "                                                           'C97'), 1, 0)\n",
    ")"
   ]
  },
  {
   "cell_type": "code",
   "execution_count": 532,
   "id": "88a03ba4",
   "metadata": {},
   "outputs": [],
   "source": [
    "diagnosis_elix_10.loc[:, 'rheumatoid_arthritis'] = (\n",
    "    np.where(diagnosis_elix_10['diagnosis_code'].str.match('L94[013]|'\n",
    "                                                           'M0[568]|'\n",
    "                                                           'M12[03]|'\n",
    "                                                           'M3(0|1[0123]|[2345])|'\n",
    "                                                           'M4(5|6[189])'), 1, 0)\n",
    ")"
   ]
  },
  {
   "cell_type": "code",
   "execution_count": 533,
   "id": "0fe938cd",
   "metadata": {},
   "outputs": [],
   "source": [
    "diagnosis_elix_10.loc[:, 'coagulopathy'] = (\n",
    "    np.where(diagnosis_elix_10['diagnosis_code'].str.match('D6([5678]|9[13456])'), 1, 0)\n",
    ")"
   ]
  },
  {
   "cell_type": "code",
   "execution_count": 534,
   "id": "3e53d54c",
   "metadata": {},
   "outputs": [],
   "source": [
    "diagnosis_elix_10.loc[:, 'obesity'] = (\n",
    "    np.where(diagnosis_elix_10['diagnosis_code'].str.match('E66'), 1, 0)\n",
    ")"
   ]
  },
  {
   "cell_type": "code",
   "execution_count": 535,
   "id": "bf41152a",
   "metadata": {},
   "outputs": [],
   "source": [
    "diagnosis_elix_10.loc[:, 'weight_loss'] = (\n",
    "    np.where(diagnosis_elix_10['diagnosis_code'].str.match('E4[0123456]|'\n",
    "                                                           'R6(34|4)'), 1, 0)\n",
    ")"
   ]
  },
  {
   "cell_type": "code",
   "execution_count": 536,
   "id": "a30268d6",
   "metadata": {},
   "outputs": [],
   "source": [
    "diagnosis_elix_10.loc[:, 'fluid_electrolyte'] = (\n",
    "    np.where(diagnosis_elix_10['diagnosis_code'].str.match('E222|'\n",
    "                                                           'E8[67]'), 1, 0)\n",
    ")"
   ]
  },
  {
   "cell_type": "code",
   "execution_count": 537,
   "id": "29eac8eb",
   "metadata": {},
   "outputs": [],
   "source": [
    "diagnosis_elix_10.loc[:, 'blood_loss_anemia'] = (\n",
    "    np.where(diagnosis_elix_10['diagnosis_code'].str.match('D500'), 1, 0)\n",
    ")"
   ]
  },
  {
   "cell_type": "code",
   "execution_count": 538,
   "id": "a2ba616f",
   "metadata": {},
   "outputs": [],
   "source": [
    "diagnosis_elix_10.loc[:, 'deficiency_anemia'] = (\n",
    "    np.where(diagnosis_elix_10['diagnosis_code'].str.match('D5(0[89]|[123])'), 1, 0)\n",
    ")"
   ]
  },
  {
   "cell_type": "code",
   "execution_count": 539,
   "id": "64a7c605",
   "metadata": {},
   "outputs": [],
   "source": [
    "diagnosis_elix_10.loc[:, 'alcohol_abuse'] = (\n",
    "    np.where(diagnosis_elix_10['diagnosis_code'].str.match('F10|'\n",
    "                                                           'E52|'\n",
    "                                                           'G621|'\n",
    "                                                           'I426|'\n",
    "                                                           'K292|'\n",
    "                                                           'K70[039]|'\n",
    "                                                           'T51|'\n",
    "                                                           'Z502|'\n",
    "                                                           'Z7(14|21)'), 1, 0)\n",
    ")"
   ]
  },
  {
   "cell_type": "code",
   "execution_count": 540,
   "id": "b08c4348",
   "metadata": {},
   "outputs": [],
   "source": [
    "diagnosis_elix_10.loc[:, 'drug_abuse'] = (\n",
    "    np.where(diagnosis_elix_10['diagnosis_code'].str.match('F1[12345689]|'\n",
    "                                                           'Z7(15|22)'), 1, 0)\n",
    ")"
   ]
  },
  {
   "cell_type": "code",
   "execution_count": 541,
   "id": "333d2db1",
   "metadata": {},
   "outputs": [],
   "source": [
    "diagnosis_elix_10.loc[:, 'psychoses'] = (\n",
    "    np.where(diagnosis_elix_10['diagnosis_code'].str.match('F2[0234589]|'\n",
    "                                                           'F3([01]2|15)'), 1, 0)\n",
    ")"
   ]
  },
  {
   "cell_type": "code",
   "execution_count": 542,
   "id": "ac42792a",
   "metadata": {},
   "outputs": [],
   "source": [
    "diagnosis_elix_10.loc[:, 'depression'] = (\n",
    "    np.where(diagnosis_elix_10['diagnosis_code'].str.match('F204|'\n",
    "                                                           'F3(1[345]|[23]|41)|'\n",
    "                                                           'F4[13]2'), 1, 0)\n",
    ")"
   ]
  },
  {
   "cell_type": "code",
   "execution_count": 543,
   "id": "ba12c0a3",
   "metadata": {},
   "outputs": [],
   "source": [
    "# Create variable that captures ICD-10 codes not included in Elixhauser. \n",
    "diagnosis_elix_10.loc[:, 'elixhauser_other'] = (\n",
    "    np.where(diagnosis_elix_10.iloc[:, 3:].eq(0).all(1), 1, 0)\n",
    ")"
   ]
  },
  {
   "cell_type": "code",
   "execution_count": 544,
   "id": "4764f571",
   "metadata": {},
   "outputs": [
    {
     "data": {
      "text/plain": [
       "0.5960601634361059"
      ]
     },
     "execution_count": 544,
     "metadata": {},
     "output_type": "execute_result"
    }
   ],
   "source": [
    "# Percenage of ICD-10 codes not captured by Elixhauser\n",
    "diagnosis_elix_10['elixhauser_other'].sum()/len(diagnosis_elix_10)"
   ]
  },
  {
   "cell_type": "code",
   "execution_count": 545,
   "id": "8f1f5948",
   "metadata": {},
   "outputs": [],
   "source": [
    "diagnosis_elix_10_wide = (\n",
    "    diagnosis_elix_10\n",
    "    .drop(columns = ['DiagnosisCode', 'diagnosis_code'])\n",
    "    .groupby('PatientID').sum()\n",
    "    .reset_index()\n",
    ")"
   ]
  },
  {
   "cell_type": "code",
   "execution_count": 546,
   "id": "58f51c3a",
   "metadata": {},
   "outputs": [
    {
     "data": {
      "text/plain": [
       "(17487, 17487)"
      ]
     },
     "execution_count": 546,
     "metadata": {},
     "output_type": "execute_result"
    }
   ],
   "source": [
    "row_ID(diagnosis_elix_10_wide)"
   ]
  },
  {
   "cell_type": "code",
   "execution_count": 547,
   "id": "f115662d",
   "metadata": {},
   "outputs": [],
   "source": [
    "# Merge Elixhauser 9 and 10 and sum by PatientID.\n",
    "diagnosis_elixhauser = (\n",
    "    pd.concat([diagnosis_elix_9_wide, diagnosis_elix_10_wide])\n",
    "    .groupby('PatientID').sum()\n",
    ")"
   ]
  },
  {
   "cell_type": "code",
   "execution_count": 548,
   "id": "b2eae62c",
   "metadata": {},
   "outputs": [],
   "source": [
    "# Create unqiue ICD count for each patient. \n",
    "diagnosis_elixhauser['icd_count'] = diagnosis_elixhauser.sum(axis = 1)  "
   ]
  },
  {
   "cell_type": "code",
   "execution_count": 549,
   "id": "4c00ad5e",
   "metadata": {},
   "outputs": [],
   "source": [
    "# Other than unique ICD count, values greater than 1 are set to 1; 0 remains unchanged. \n",
    "diagnosis_elixhauser.iloc[:, :-1] = (\n",
    "    diagnosis_elixhauser.iloc[:, :-1].mask(diagnosis_elixhauser.iloc[:, :-1] >1, 1)\n",
    ")"
   ]
  },
  {
   "cell_type": "code",
   "execution_count": 550,
   "id": "1ae4f845",
   "metadata": {},
   "outputs": [],
   "source": [
    "diagnosis_elixhauser = diagnosis_elixhauser.reset_index()"
   ]
  },
  {
   "cell_type": "code",
   "execution_count": 551,
   "id": "2b633d45",
   "metadata": {},
   "outputs": [
    {
     "data": {
      "text/plain": [
       "(23703, 23703)"
      ]
     },
     "execution_count": 551,
     "metadata": {},
     "output_type": "execute_result"
    }
   ],
   "source": [
    "row_ID(diagnosis_elixhauser)"
   ]
  },
  {
   "cell_type": "code",
   "execution_count": 552,
   "id": "951936a2",
   "metadata": {},
   "outputs": [
    {
     "data": {
      "text/plain": [
       "Text(0.5, 1.0, 'Incidence of Elixhauser comorbidities at time of metastatic CRC')"
      ]
     },
     "execution_count": 552,
     "metadata": {},
     "output_type": "execute_result"
    },
    {
     "data": {
      "image/png": "[encoded data removed]",
      "text/plain": [
       "<Figure size 720x576 with 1 Axes>"
      ]
     },
     "metadata": {
      "needs_background": "light"
     },
     "output_type": "display_data"
    }
   ],
   "source": [
    "%matplotlib inline\n",
    "diagnosis_elixhauser.iloc[:, 1:33].sum(axis = 0).sort_values(ascending = False).plot(kind = 'bar', figsize = (10,8))\n",
    "plt.xlabel('Elixhauser comorbidities', fontsize = 16)\n",
    "plt.title('Incidence of Elixhauser comorbidities at time of metastatic CRC', fontsize = 20)"
   ]
  },
  {
   "cell_type": "code",
   "execution_count": 553,
   "id": "3230d525",
   "metadata": {},
   "outputs": [
    {
     "data": {
      "text/plain": [
       "Text(0.5, 1.0, 'Incidence of Elixhauser comorbidities at time of metastatic CRC')"
      ]
     },
     "execution_count": 553,
     "metadata": {},
     "output_type": "execute_result"
    },
    {
     "data": {
      "image/png": "[encoded data removed]",
      "text/plain": [
       "<Figure size 720x576 with 1 Axes>"
      ]
     },
     "metadata": {
      "needs_background": "light"
     },
     "output_type": "display_data"
    }
   ],
   "source": [
    "# Same plot as above but excluding tumor and mets.\n",
    "%matplotlib inline\n",
    "diagnosis_elixhauser.iloc[:, 1:33].sum(axis = 0).sort_values(ascending = False).tail(29).plot(kind = 'bar', figsize = (10,8))\n",
    "plt.xlabel('Elixhauser comorbidities', fontsize = 16)\n",
    "plt.title('Incidence of Elixhauser comorbidities at time of metastatic CRC', fontsize = 20)"
   ]
  },
  {
   "cell_type": "code",
   "execution_count": 554,
   "id": "4a4d857c",
   "metadata": {},
   "outputs": [],
   "source": [
    "# Append missing training IDs.\n",
    "diagnosis_elixhauser = (\n",
    "    diagnosis_elixhauser\n",
    "    .append(\n",
    "        pd.Series(train_IDs)[~pd.Series(train_IDs).isin(diagnosis_elixhauser['PatientID'])].to_frame(name = 'PatientID'), \n",
    "        sort = False)\n",
    "    .fillna(0)\n",
    ")"
   ]
  },
  {
   "cell_type": "code",
   "execution_count": 555,
   "id": "140fc9f5",
   "metadata": {},
   "outputs": [
    {
     "data": {
      "text/plain": [
       "(27452, 27452)"
      ]
     },
     "execution_count": 555,
     "metadata": {},
     "output_type": "execute_result"
    }
   ],
   "source": [
    "row_ID(diagnosis_elixhauser)"
   ]
  },
  {
   "cell_type": "code",
   "execution_count": 556,
   "id": "c1721297",
   "metadata": {},
   "outputs": [
    {
     "data": {
      "text/html": [
       "<div>\n",
       "<style scoped>\n",
       "    .dataframe tbody tr th:only-of-type {\n",
       "        vertical-align: middle;\n",
       "    }\n",
       "\n",
       "    .dataframe tbody tr th {\n",
       "        vertical-align: top;\n",
       "    }\n",
       "\n",
       "    .dataframe thead th {\n",
       "        text-align: right;\n",
       "    }\n",
       "</style>\n",
       "<table border=\"1\" class=\"dataframe\">\n",
       "  <thead>\n",
       "    <tr style=\"text-align: right;\">\n",
       "      <th></th>\n",
       "      <th>PatientID</th>\n",
       "      <th>chf</th>\n",
       "      <th>cardiac_arrhythmias</th>\n",
       "      <th>valvular_disease</th>\n",
       "      <th>pulmonary_circulation</th>\n",
       "      <th>peripheral_vascular</th>\n",
       "      <th>htn_uncomplicated</th>\n",
       "      <th>htn_complicated</th>\n",
       "      <th>paralysis</th>\n",
       "      <th>other_neuro_disorders</th>\n",
       "      <th>...</th>\n",
       "      <th>weight_loss</th>\n",
       "      <th>fluid_electrolyte</th>\n",
       "      <th>blood_loss_anemia</th>\n",
       "      <th>deficiency_anemia</th>\n",
       "      <th>alcohol_abuse</th>\n",
       "      <th>drug_abuse</th>\n",
       "      <th>psychoses</th>\n",
       "      <th>depression</th>\n",
       "      <th>elixhauser_other</th>\n",
       "      <th>icd_count</th>\n",
       "    </tr>\n",
       "  </thead>\n",
       "  <tbody>\n",
       "    <tr>\n",
       "      <th>7762</th>\n",
       "      <td>F535EE6BF6089</td>\n",
       "      <td>0.0</td>\n",
       "      <td>0.0</td>\n",
       "      <td>0.0</td>\n",
       "      <td>0.0</td>\n",
       "      <td>0.0</td>\n",
       "      <td>0.0</td>\n",
       "      <td>0.0</td>\n",
       "      <td>0.0</td>\n",
       "      <td>0.0</td>\n",
       "      <td>...</td>\n",
       "      <td>0.0</td>\n",
       "      <td>0.0</td>\n",
       "      <td>0.0</td>\n",
       "      <td>1.0</td>\n",
       "      <td>0.0</td>\n",
       "      <td>0.0</td>\n",
       "      <td>0.0</td>\n",
       "      <td>0.0</td>\n",
       "      <td>1.0</td>\n",
       "      <td>9.0</td>\n",
       "    </tr>\n",
       "    <tr>\n",
       "      <th>17984</th>\n",
       "      <td>FC2A70E408C7E</td>\n",
       "      <td>0.0</td>\n",
       "      <td>0.0</td>\n",
       "      <td>0.0</td>\n",
       "      <td>0.0</td>\n",
       "      <td>0.0</td>\n",
       "      <td>0.0</td>\n",
       "      <td>0.0</td>\n",
       "      <td>0.0</td>\n",
       "      <td>0.0</td>\n",
       "      <td>...</td>\n",
       "      <td>0.0</td>\n",
       "      <td>0.0</td>\n",
       "      <td>0.0</td>\n",
       "      <td>0.0</td>\n",
       "      <td>0.0</td>\n",
       "      <td>0.0</td>\n",
       "      <td>0.0</td>\n",
       "      <td>0.0</td>\n",
       "      <td>1.0</td>\n",
       "      <td>7.0</td>\n",
       "    </tr>\n",
       "    <tr>\n",
       "      <th>17867</th>\n",
       "      <td>FC15B4605F9A0</td>\n",
       "      <td>0.0</td>\n",
       "      <td>0.0</td>\n",
       "      <td>0.0</td>\n",
       "      <td>0.0</td>\n",
       "      <td>0.0</td>\n",
       "      <td>0.0</td>\n",
       "      <td>0.0</td>\n",
       "      <td>0.0</td>\n",
       "      <td>0.0</td>\n",
       "      <td>...</td>\n",
       "      <td>0.0</td>\n",
       "      <td>0.0</td>\n",
       "      <td>0.0</td>\n",
       "      <td>0.0</td>\n",
       "      <td>0.0</td>\n",
       "      <td>0.0</td>\n",
       "      <td>0.0</td>\n",
       "      <td>0.0</td>\n",
       "      <td>1.0</td>\n",
       "      <td>3.0</td>\n",
       "    </tr>\n",
       "    <tr>\n",
       "      <th>2850</th>\n",
       "      <td>F1F46AD73C797</td>\n",
       "      <td>0.0</td>\n",
       "      <td>0.0</td>\n",
       "      <td>0.0</td>\n",
       "      <td>0.0</td>\n",
       "      <td>0.0</td>\n",
       "      <td>1.0</td>\n",
       "      <td>0.0</td>\n",
       "      <td>0.0</td>\n",
       "      <td>0.0</td>\n",
       "      <td>...</td>\n",
       "      <td>0.0</td>\n",
       "      <td>0.0</td>\n",
       "      <td>0.0</td>\n",
       "      <td>0.0</td>\n",
       "      <td>0.0</td>\n",
       "      <td>0.0</td>\n",
       "      <td>0.0</td>\n",
       "      <td>0.0</td>\n",
       "      <td>1.0</td>\n",
       "      <td>5.0</td>\n",
       "    </tr>\n",
       "    <tr>\n",
       "      <th>423</th>\n",
       "      <td>F04D56983D615</td>\n",
       "      <td>0.0</td>\n",
       "      <td>1.0</td>\n",
       "      <td>0.0</td>\n",
       "      <td>0.0</td>\n",
       "      <td>0.0</td>\n",
       "      <td>0.0</td>\n",
       "      <td>0.0</td>\n",
       "      <td>0.0</td>\n",
       "      <td>0.0</td>\n",
       "      <td>...</td>\n",
       "      <td>0.0</td>\n",
       "      <td>0.0</td>\n",
       "      <td>0.0</td>\n",
       "      <td>1.0</td>\n",
       "      <td>0.0</td>\n",
       "      <td>0.0</td>\n",
       "      <td>0.0</td>\n",
       "      <td>0.0</td>\n",
       "      <td>1.0</td>\n",
       "      <td>8.0</td>\n",
       "    </tr>\n",
       "  </tbody>\n",
       "</table>\n",
       "<p>5 rows × 34 columns</p>\n",
       "</div>"
      ],
      "text/plain": [
       "           PatientID  chf  cardiac_arrhythmias  valvular_disease  \\\n",
       "7762   F535EE6BF6089  0.0                  0.0               0.0   \n",
       "17984  FC2A70E408C7E  0.0                  0.0               0.0   \n",
       "17867  FC15B4605F9A0  0.0                  0.0               0.0   \n",
       "2850   F1F46AD73C797  0.0                  0.0               0.0   \n",
       "423    F04D56983D615  0.0                  1.0               0.0   \n",
       "\n",
       "       pulmonary_circulation  peripheral_vascular  htn_uncomplicated  \\\n",
       "7762                     0.0                  0.0                0.0   \n",
       "17984                    0.0                  0.0                0.0   \n",
       "17867                    0.0                  0.0                0.0   \n",
       "2850                     0.0                  0.0                1.0   \n",
       "423                      0.0                  0.0                0.0   \n",
       "\n",
       "       htn_complicated  paralysis  other_neuro_disorders  ...  weight_loss  \\\n",
       "7762               0.0        0.0                    0.0  ...          0.0   \n",
       "17984              0.0        0.0                    0.0  ...          0.0   \n",
       "17867              0.0        0.0                    0.0  ...          0.0   \n",
       "2850               0.0        0.0                    0.0  ...          0.0   \n",
       "423                0.0        0.0                    0.0  ...          0.0   \n",
       "\n",
       "       fluid_electrolyte  blood_loss_anemia  deficiency_anemia  alcohol_abuse  \\\n",
       "7762                 0.0                0.0                1.0            0.0   \n",
       "17984                0.0                0.0                0.0            0.0   \n",
       "17867                0.0                0.0                0.0            0.0   \n",
       "2850                 0.0                0.0                0.0            0.0   \n",
       "423                  0.0                0.0                1.0            0.0   \n",
       "\n",
       "       drug_abuse  psychoses  depression  elixhauser_other  icd_count  \n",
       "7762          0.0        0.0         0.0               1.0        9.0  \n",
       "17984         0.0        0.0         0.0               1.0        7.0  \n",
       "17867         0.0        0.0         0.0               1.0        3.0  \n",
       "2850          0.0        0.0         0.0               1.0        5.0  \n",
       "423           0.0        0.0         0.0               1.0        8.0  \n",
       "\n",
       "[5 rows x 34 columns]"
      ]
     },
     "execution_count": 556,
     "metadata": {},
     "output_type": "execute_result"
    }
   ],
   "source": [
    "diagnosis_elixhauser.sample(5)"
   ]
  },
  {
   "cell_type": "markdown",
   "id": "e458c602",
   "metadata": {},
   "source": [
    "#### Colon cancer location"
   ]
  },
  {
   "cell_type": "markdown",
   "id": "b058b1fc",
   "metadata": {},
   "source": [
    "**Right sided colon cancer (ie., proximal to the splenic flexure) is an independent, poor prognostic factor for overall survival. Using ICD codes, we will attempt to clarify the site of the colon cancer.**"
   ]
  },
  {
   "cell_type": "code",
   "execution_count": 557,
   "id": "e27e64dc",
   "metadata": {},
   "outputs": [
    {
     "data": {
      "text/plain": [
       "Colon             20173\n",
       "Rectum             6614\n",
       "Colorectal NOS      665\n",
       "Name: CrcSite, dtype: int64"
      ]
     },
     "execution_count": 557,
     "metadata": {},
     "output_type": "execute_result"
    }
   ],
   "source": [
    "enhanced_met.CrcSite.value_counts(dropna = False)"
   ]
  },
  {
   "cell_type": "code",
   "execution_count": 558,
   "id": "3044a53b",
   "metadata": {},
   "outputs": [],
   "source": [
    "diagnosis_elix_9.loc[:, 'right_colon'] = (\n",
    "    np.where(diagnosis_elix_9['diagnosis_code'].str.match('153[01456]'), 1, 0)\n",
    ")"
   ]
  },
  {
   "cell_type": "code",
   "execution_count": 559,
   "id": "cc01560f",
   "metadata": {},
   "outputs": [],
   "source": [
    "diagnosis_elix_9.loc[:, 'left_colon'] = (\n",
    "    np.where(diagnosis_elix_9['diagnosis_code'].str.match('153[237]'), 1, 0)\n",
    ")"
   ]
  },
  {
   "cell_type": "code",
   "execution_count": 560,
   "id": "305e5aa0",
   "metadata": {},
   "outputs": [],
   "source": [
    "colon_location_9 = diagnosis_elix_9[['PatientID', 'right_colon', 'left_colon']].groupby('PatientID').sum()"
   ]
  },
  {
   "cell_type": "code",
   "execution_count": 561,
   "id": "0dd0ed48",
   "metadata": {},
   "outputs": [],
   "source": [
    "diagnosis_elix_10.loc[:, 'right_colon'] = (\n",
    "    np.where(diagnosis_elix_10['diagnosis_code'].str.match('C18[01234]'), 1, 0)\n",
    ")"
   ]
  },
  {
   "cell_type": "code",
   "execution_count": 562,
   "id": "fc40fc18",
   "metadata": {},
   "outputs": [],
   "source": [
    "diagnosis_elix_10.loc[:, 'left_colon'] = (\n",
    "    np.where(diagnosis_elix_10['diagnosis_code'].str.match('C18[567]'), 1, 0)\n",
    ")"
   ]
  },
  {
   "cell_type": "code",
   "execution_count": 563,
   "id": "f6614334",
   "metadata": {},
   "outputs": [],
   "source": [
    "colon_location_10 = diagnosis_elix_10[['PatientID', 'right_colon', 'left_colon']].groupby('PatientID').sum()"
   ]
  },
  {
   "cell_type": "code",
   "execution_count": 564,
   "id": "4c491a5c",
   "metadata": {},
   "outputs": [],
   "source": [
    "colon_location = (\n",
    "    pd.concat([colon_location_9, colon_location_10])\n",
    "    .groupby('PatientID').sum()\n",
    "    .reset_index()\n",
    ")"
   ]
  },
  {
   "cell_type": "code",
   "execution_count": 565,
   "id": "fbdc3925",
   "metadata": {},
   "outputs": [],
   "source": [
    "colon_location = pd.merge(enhanced_met[['PatientID', 'CrcSite']], colon_location, on = 'PatientID', how = 'left')"
   ]
  },
  {
   "cell_type": "code",
   "execution_count": 566,
   "id": "d87cb89a",
   "metadata": {},
   "outputs": [],
   "source": [
    "colon_location[['right_colon', 'left_colon']] = colon_location[['right_colon', 'left_colon']].fillna(0)"
   ]
  },
  {
   "cell_type": "code",
   "execution_count": 567,
   "id": "f9fa7f32",
   "metadata": {},
   "outputs": [
    {
     "data": {
      "text/plain": [
       "(27452, 27452)"
      ]
     },
     "execution_count": 567,
     "metadata": {},
     "output_type": "execute_result"
    }
   ],
   "source": [
    "row_ID(colon_location)"
   ]
  },
  {
   "cell_type": "code",
   "execution_count": 568,
   "id": "3f03e2b0",
   "metadata": {},
   "outputs": [],
   "source": [
    "# Create indicator variable where where 2 if positive, 1 if negative, and 0 if unknown or missing. \n",
    "conditions = [\n",
    "    (colon_location['CrcSite'] == 'Colon') & (colon_location['right_colon'] >= 1),\n",
    "    (colon_location['CrcSite'] == 'Colon') & (colon_location['right_colon'] == 0) & (colon_location['left_colon'] >= 1),\n",
    "    (colon_location['CrcSite'] == 'Colon') & (colon_location['right_colon'] == 0) & (colon_location['left_colon'] == 0),\n",
    "    (colon_location['CrcSite'] == 'Rectum'),\n",
    "    (colon_location['CrcSite'] == 'Colorectal NOS')]\n",
    "\n",
    "choices = ['colon_right', 'colon_left', 'colon_unknown', 'rectum', 'unknown']\n",
    "\n",
    "colon_location.loc[:, 'crc_site'] = np.select(conditions, choices)"
   ]
  },
  {
   "cell_type": "code",
   "execution_count": 569,
   "id": "4b2bccbb",
   "metadata": {},
   "outputs": [
    {
     "data": {
      "text/plain": [
       "colon_unknown    0.299577\n",
       "colon_right      0.241585\n",
       "rectum           0.240930\n",
       "colon_left       0.193684\n",
       "unknown          0.024224\n",
       "Name: crc_site, dtype: float64"
      ]
     },
     "execution_count": 569,
     "metadata": {},
     "output_type": "execute_result"
    }
   ],
   "source": [
    "colon_location.crc_site.value_counts(dropna = False, normalize = True)"
   ]
  },
  {
   "cell_type": "code",
   "execution_count": 570,
   "id": "e35e4dc0",
   "metadata": {},
   "outputs": [],
   "source": [
    "enhanced_met = pd.merge(enhanced_met, colon_location[['PatientID', 'crc_site']], on = 'PatientID')"
   ]
  },
  {
   "cell_type": "markdown",
   "id": "2365f517",
   "metadata": {},
   "source": [
    "#### Other cancer "
   ]
  },
  {
   "cell_type": "markdown",
   "id": "4bc6d23a",
   "metadata": {},
   "source": [
    "##### ICD-9 Cancer codes "
   ]
  },
  {
   "cell_type": "code",
   "execution_count": 571,
   "id": "31b84afe",
   "metadata": {},
   "outputs": [],
   "source": [
    "# Select all ICD-9 cancer codes between 140-209.\n",
    "# Exclude benign neoplasms: 210-229, carcinoma in site: 230-234, and neoplasms of uncertain behavior or nature: 235-239.\n",
    "cancer_9 = (\n",
    "    diagnosis_elix_9[diagnosis_elix_9['DiagnosisCode'].str.startswith(\n",
    "        ('14','15', '16', '17', '18', '19', '20'))]\n",
    "    .filter(items = ['PatientID', 'DiagnosisCode', 'diagnosis_code'])\n",
    ")"
   ]
  },
  {
   "cell_type": "code",
   "execution_count": 572,
   "id": "2c140ae0",
   "metadata": {},
   "outputs": [
    {
     "data": {
      "text/plain": [
       "(12996, 8475)"
      ]
     },
     "execution_count": 572,
     "metadata": {},
     "output_type": "execute_result"
    }
   ],
   "source": [
    "row_ID(cancer_9)"
   ]
  },
  {
   "cell_type": "markdown",
   "id": "066879f2",
   "metadata": {},
   "source": [
    "**Remove the following ICD-9 codes representing colorectal cancer, metastasis, ill-defined neoplasms, and benign neoplasms of skin (BCC and SCC):**\n",
    "* **153 - Malignant neoplasm of colon**\n",
    "* **154 - Malignant neoplasm of rectum rectosigmoid junction and anus**\n",
    "* **155 - Malignant neoplasm of liver and intrahepatic bile ducts**\n",
    "* **158 - Malignant neoplasm of retroperitoneum and peritoneum**\n",
    "* **159 - Malignant neoplasm of other and ill-defined sites within the digestive organs and peritoneum**\n",
    "* **173 - Other and unspecified malignant neoplasm of skin**\n",
    "* **195.2 - Malignant neoplasm of abdomen**\n",
    "* **196 - Secondary and unspecified malignant neoplasm of lymph nodes**\n",
    "* **197 - Secondary malignant neoplasm of respiratory and digestive systems**\n",
    "* **198 - Secondary malignant neoplasm of other specified sites** \n",
    "* **199 - Malignant neoplasm without specification of site**"
   ]
  },
  {
   "cell_type": "code",
   "execution_count": 573,
   "id": "af28aa19",
   "metadata": {},
   "outputs": [
    {
     "data": {
      "text/plain": [
       "153.9    0.190338\n",
       "154.1    0.146729\n",
       "153.3    0.119111\n",
       "197.7    0.096366\n",
       "153.6    0.078752\n",
       "153.4    0.053527\n",
       "154.0    0.049423\n",
       "197.0    0.038991\n",
       "153.1    0.030868\n",
       "153.2    0.028730\n",
       "Name: DiagnosisCode, dtype: float64"
      ]
     },
     "execution_count": 573,
     "metadata": {},
     "output_type": "execute_result"
    }
   ],
   "source": [
    "# Count ICD-9 neoplasm codes that represent colorectal cancer or its associated metastases.\n",
    "(\n",
    "    cancer_9[cancer_9['diagnosis_code'].str.match('15([34589])|'\n",
    "                                                  '173|'\n",
    "                                                  '19(52|[6789])')]\n",
    "    .DiagnosisCode\n",
    "    .value_counts(normalize = True)\n",
    "    .head(10)\n",
    ")"
   ]
  },
  {
   "cell_type": "markdown",
   "id": "19851a82",
   "metadata": {},
   "source": [
    "**The top 10 ICD-9 codes for colorectal cancer and metastasis are:** \n",
    "* **153.9 - Malignant neoplasm of colon, unspecified site**\n",
    "* **154.1 - Malignant neoplast of rectun, unspecified site**\n",
    "* **153.3 - Malignant neoplasm of sigmoid colon**\n",
    "* **197.7 - Malignant neoplasm of liver, secondary**\n",
    "* **153.6 - Malignant neoplasm of ascending colon**\n",
    "* **153.4 - Malignant neoplasm of cecum**\n",
    "* **154.0 - Malignant neoplasm of rectosigmoid junction**\n",
    "* **197.0 - Secondary malignant neoplasm of lung**\n",
    "* **153.1 - Malignant neoplasm of transverse colon**\n",
    "* **153.2 - Malignant neoplasm of descending colon**"
   ]
  },
  {
   "cell_type": "code",
   "execution_count": 574,
   "id": "d2790da4",
   "metadata": {},
   "outputs": [],
   "source": [
    "# Dataframe of ICD-9 neoplasm codes that exclude colorectal cancer, metastasis, or benign neoplasms.\n",
    "other_cancer_9 = (\n",
    "    cancer_9[~cancer_9['diagnosis_code'].str.match('15([34589])|'\n",
    "                                                   '173|'\n",
    "                                                   '19(52|[6789])')]\n",
    ")"
   ]
  },
  {
   "cell_type": "code",
   "execution_count": 575,
   "id": "b5e376de",
   "metadata": {},
   "outputs": [
    {
     "data": {
      "text/plain": [
       "185       0.133743\n",
       "174.9     0.105304\n",
       "174.4     0.045350\n",
       "162.9     0.038432\n",
       "204.10    0.036126\n",
       "189.0     0.029977\n",
       "162.3     0.026134\n",
       "202.80    0.026134\n",
       "174.8     0.025365\n",
       "188.9     0.023059\n",
       "Name: DiagnosisCode, dtype: float64"
      ]
     },
     "execution_count": 575,
     "metadata": {},
     "output_type": "execute_result"
    }
   ],
   "source": [
    "other_cancer_9.DiagnosisCode.value_counts(normalize = True).head(10)"
   ]
  },
  {
   "cell_type": "markdown",
   "id": "687b275c",
   "metadata": {},
   "source": [
    "**The top 10 ICD-9 codes at time of diagnosis that aren't colorectal cancer, metastasis, or benign neoplasm:**\n",
    "* **185 - Malignant neoplasm of prostate**\n",
    "* **174.9 - Malignant neoplasm of breast (female), unspecified**\n",
    "* **174.4 - Malignant neoplasm of upper-outer quadrant of female breast**\n",
    "* **162.9 - Malignant neoplasm of bronchus and lung, unspecified**\n",
    "* **204.10 - Chronic lymphoid leukemia, without mention of having achieved remission**\n",
    "* **189.0 - Malignant neoplasm of kidney, except pelvis**\n",
    "* **202.80 - Other malignant lymphomas, unspecified site, extranodal and solid organ site**\n",
    "* **188.9 - Malignant neoplasm of bladder, part unspecified**\n",
    "* **174.8 - Malignant neoplasm of other specified sites of female breast** \n",
    "* **183.0 - Malignant neoplasm of ovary**"
   ]
  },
  {
   "cell_type": "code",
   "execution_count": 576,
   "id": "495c2298",
   "metadata": {},
   "outputs": [
    {
     "data": {
      "text/plain": [
       "174    0.233666\n",
       "185    0.133743\n",
       "162    0.089931\n",
       "202    0.063797\n",
       "172    0.044581\n",
       "204    0.040738\n",
       "189    0.036895\n",
       "188    0.033820\n",
       "209    0.031514\n",
       "200    0.026134\n",
       "Name: DiagnosisCode, dtype: float64"
      ]
     },
     "execution_count": 576,
     "metadata": {},
     "output_type": "execute_result"
    }
   ],
   "source": [
    "other_cancer_9.DiagnosisCode.str[0:3].value_counts(normalize = True).head(10)"
   ]
  },
  {
   "cell_type": "markdown",
   "id": "65a11465",
   "metadata": {},
   "source": [
    "**The top 10 ICD-9 family codes at time of diagnosis that aren't colorectal cancer, metastasis, or benign neoplasm:**\n",
    "* **174 - Malignant neoplasm of female breast**\n",
    "* **185 - Malignant neoplasm of prostate**\n",
    "* **162 - Malignant neoplasm of trachea bronchus and lung**\n",
    "* **202 - Other malignant neoplasms of lymphoid and histiocytic tissue**\n",
    "* **172 - Malignant melanoma of skin**\n",
    "* **204 - Lymphoid leukemia**\n",
    "* **188 - Malignant neoplasm of bladder**\n",
    "* **189 - Malignant neoplasm of kidney and other and unspecified urinary organs**\n",
    "* **209 - Neuroendocrine tumors**\n",
    "* **183 - Malignant neoplasm of ovary and other uterine adnexa**"
   ]
  },
  {
   "cell_type": "code",
   "execution_count": 577,
   "id": "6e46b220",
   "metadata": {},
   "outputs": [
    {
     "name": "stderr",
     "output_type": "stream",
     "text": [
      "/Applications/anaconda3/lib/python3.7/site-packages/pandas/core/indexing.py:1667: SettingWithCopyWarning: \n",
      "A value is trying to be set on a copy of a slice from a DataFrame.\n",
      "Try using .loc[row_indexer,col_indexer] = value instead\n",
      "\n",
      "See the caveats in the documentation: https://pandas.pydata.org/pandas-docs/stable/user_guide/indexing.html#returning-a-view-versus-a-copy\n",
      "  self.obj[key] = value\n"
     ]
    }
   ],
   "source": [
    "other_cancer_9.loc[:,'other_cancer_9'] = 1"
   ]
  },
  {
   "cell_type": "code",
   "execution_count": 578,
   "id": "7faba2af",
   "metadata": {},
   "outputs": [],
   "source": [
    "other_cancer_9 = (\n",
    "    other_cancer_9\n",
    "    .drop_duplicates(subset = 'PatientID', keep = 'first')\n",
    "    .filter(items = ['PatientID', 'other_cancer_9'])\n",
    ")"
   ]
  },
  {
   "cell_type": "code",
   "execution_count": 579,
   "id": "dd7771db",
   "metadata": {},
   "outputs": [
    {
     "data": {
      "text/plain": [
       "(1091, 1091)"
      ]
     },
     "execution_count": 579,
     "metadata": {},
     "output_type": "execute_result"
    }
   ],
   "source": [
    "row_ID(other_cancer_9)"
   ]
  },
  {
   "cell_type": "code",
   "execution_count": 580,
   "id": "76dd3b8a",
   "metadata": {},
   "outputs": [],
   "source": [
    "other_cancer_9 = (\n",
    "    other_cancer_9\n",
    "    .append(\n",
    "        pd.Series(train_IDs)[~pd.Series(train_IDs).isin(other_cancer_9['PatientID'])].to_frame(name = 'PatientID'), \n",
    "        sort = False)\n",
    "    .fillna(0)\n",
    ")"
   ]
  },
  {
   "cell_type": "code",
   "execution_count": 581,
   "id": "fd35dc40",
   "metadata": {},
   "outputs": [
    {
     "data": {
      "text/plain": [
       "(27452, 27452)"
      ]
     },
     "execution_count": 581,
     "metadata": {},
     "output_type": "execute_result"
    }
   ],
   "source": [
    "row_ID(other_cancer_9)"
   ]
  },
  {
   "cell_type": "markdown",
   "id": "0ad6a452",
   "metadata": {},
   "source": [
    "##### ICD-10 Cancer codes"
   ]
  },
  {
   "cell_type": "code",
   "execution_count": 582,
   "id": "6623562f",
   "metadata": {},
   "outputs": [],
   "source": [
    "# Select all ICD-10 codes between C00-D49 \n",
    "# Exclude in situ neoplasms: D00-D09, benign neoplasms: D10-D36, benign neuroendocrine tumor: D3A, and neoplasms of unspecified behavior: D37 and D49\n",
    "cancer_10 = (\n",
    "    diagnosis_elix_10[diagnosis_elix_10['DiagnosisCode'].str.startswith(\n",
    "        ('C0', 'C1', 'C2', 'C3', 'C4', 'C5', 'C6', 'C7', 'C8', 'C9', 'D38', 'D39', 'D4'))]\n",
    "    .filter(items = ['PatientID', 'DiagnosisCode', 'diagnosis_code'])\n",
    ")"
   ]
  },
  {
   "cell_type": "code",
   "execution_count": 583,
   "id": "063aade4",
   "metadata": {},
   "outputs": [
    {
     "data": {
      "text/plain": [
       "(29767, 16338)"
      ]
     },
     "execution_count": 583,
     "metadata": {},
     "output_type": "execute_result"
    }
   ],
   "source": [
    "row_ID(cancer_10)"
   ]
  },
  {
   "cell_type": "markdown",
   "id": "1f1443a7",
   "metadata": {},
   "source": [
    "**Remove the following ICD-10 codes which capture lung cancer, metastasis, and benign skin neoplasms(eg., BCC and SCC).**\n",
    "* **C18 - Malignant neoplasm of colon**\n",
    "* **C19 - Malignant neoplasm of rectosigmoid junction**\n",
    "* **C20 - Malignant neoplasm of rectum**\n",
    "* **C21.8 - Malignant neoplasm of overlapping sites of rectum, anus and anal canal**\n",
    "* **C22 - Malignant neoplasm of liver, not specified as primary or secondary**\n",
    "* **C26 - Malignant neoplasm of other and ill-defined digestive organs**\n",
    "* **C44 - Other and unspecified malignant neoplasm of skin**\n",
    "* **C77 - Secondary and unspecified malignant neoplasm of lymph nodes**\n",
    "* **C78 - Secondary malignant neoplasm of respiratory and digestive organs**\n",
    "* **C79 - Secondary malignant neoplasm of other and unspecified sites**\n",
    "* **C80 - Malignant neoplasm without specification of site**\n",
    "* **D47.2 - Monoclonal gammopathy**\n",
    "* **D48 - Neoplasm of uncertain behavior of other and unspecified sites**\n",
    "* **D49 - Neoplasms of unspecified behavior** "
   ]
  },
  {
   "cell_type": "code",
   "execution_count": 584,
   "id": "fdc2e5df",
   "metadata": {},
   "outputs": [
    {
     "data": {
      "text/plain": [
       "C78.7    0.148778\n",
       "C20      0.122949\n",
       "C18.7    0.117396\n",
       "C18.9    0.113241\n",
       "C18.2    0.084725\n",
       "C18.0    0.053629\n",
       "C19      0.033639\n",
       "C78.6    0.028445\n",
       "C18.4    0.026689\n",
       "C77.2    0.025364\n",
       "Name: DiagnosisCode, dtype: float64"
      ]
     },
     "execution_count": 584,
     "metadata": {},
     "output_type": "execute_result"
    }
   ],
   "source": [
    "# Count of top 10 ICD-10 codes that represent lung cancer or metastasis. \n",
    "(\n",
    "    cancer_10[cancer_10['diagnosis_code'].str.match('C1[89]|'\n",
    "                                                    'C2([06]|18|29)|'\n",
    "                                                    'C44|'\n",
    "                                                    'C7[789]|'\n",
    "                                                    'C80|'\n",
    "                                                    'D4(72|[89])')]\n",
    "    .DiagnosisCode\n",
    "    .value_counts(normalize = True)\n",
    "    .head(10)\n",
    ")"
   ]
  },
  {
   "cell_type": "markdown",
   "id": "46191650",
   "metadata": {},
   "source": [
    "**The top 10 ICD-10 codes at time of diagnosis that represent colorectal cancer, metastases, ill-defined neoplasm, or benign neoplasm:**\n",
    "* **C78.7 - Secondary malignant neoplasm of liver and intrahepatic bile duct**\n",
    "* **C20 - Malignant neoplasm of rectum**\n",
    "* **C18.9 - Malignant neoplasm of colon, unspecified**\n",
    "* **C18.7 - Malignant neoplasm of sigmoid colon**\n",
    "* **C18.2 - Malignant neoplasm of ascending colon**\n",
    "* **C18.0 - Malignant neoplasm of cecum**\n",
    "* **C19 - Malignant neoplasm of rectosigmoid junction**\n",
    "* **C78.6 - Secondary malignant neoplasm of retroperitoneum and peritoneum**\n",
    "* **C18.4 - Malignant neoplasm of transverse colon**\n",
    "* **C77.2 - Secondary and unspecified malignant neoplasm of intra-abdominal lymph nodes**"
   ]
  },
  {
   "cell_type": "code",
   "execution_count": 585,
   "id": "00fc6ef1",
   "metadata": {},
   "outputs": [],
   "source": [
    "# Dataframe of ICD-10 neoplasm codes that exclude lung cancer, metastasis, or benign neoplasms.\n",
    "other_cancer_10 = (\n",
    "    cancer_10[~cancer_10['diagnosis_code'].str.match('C1[89]|'\n",
    "                                                     'C2([06]|18|29)|'\n",
    "                                                     'C44|'\n",
    "                                                     'C7[789]|'\n",
    "                                                     'C80|'\n",
    "                                                     'D4(72|[89])')]\n",
    ")"
   ]
  },
  {
   "cell_type": "code",
   "execution_count": 586,
   "id": "482b2262",
   "metadata": {},
   "outputs": [
    {
     "data": {
      "text/plain": [
       "C61        0.087426\n",
       "D47.3      0.054506\n",
       "C34.90     0.031301\n",
       "C34.11     0.021587\n",
       "C34.12     0.021047\n",
       "D38.1      0.018349\n",
       "C73        0.016730\n",
       "C56.9      0.015650\n",
       "C91.10     0.015650\n",
       "C50.919    0.015650\n",
       "Name: DiagnosisCode, dtype: float64"
      ]
     },
     "execution_count": 586,
     "metadata": {},
     "output_type": "execute_result"
    }
   ],
   "source": [
    "other_cancer_10.DiagnosisCode.value_counts(normalize = True).head(10)"
   ]
  },
  {
   "cell_type": "markdown",
   "id": "bc6267a9",
   "metadata": {},
   "source": [
    "**The top 10 ICD-10 codes at time of diagnosis that aren't colorectal cancer, metastasis, or benign neoplasm:**\n",
    "* **C61 - Malignant neoplasm of prostate**\n",
    "* **D47.3 - Essential (hemorrhagic) thrombocythemia**\n",
    "* **C34.90 - Malignant neoplasm of unspecified part of bronchus or lung**\n",
    "* **C34.12 - Malignant neoplasm of upper lobe, left bronchus or lung**\n",
    "* **C34.11 - Malignant neoplasm of upper lobe, right bronchus or lung**\n",
    "* **C91.10 - Chronic lymphocytic leukemia of B-cell type not having achieved remission**\n",
    "* **C56.9 - Malignant neoplasm of unspecified ovary**\n",
    "* **D38.1 - Neoplasm of uncertain behavior of trachea, bronchus and lung**\n",
    "* **C34.32 - Malignant neoplasm of lower lobe, left bronchus or lung**\n",
    "* **C50.912 - Malignant neoplasm of unspecified site of left female breast**"
   ]
  },
  {
   "cell_type": "code",
   "execution_count": 587,
   "id": "ab364449",
   "metadata": {},
   "outputs": [
    {
     "data": {
      "text/plain": [
       "C34    0.139234\n",
       "C50    0.107933\n",
       "C61    0.087426\n",
       "D47    0.060443\n",
       "C22    0.045332\n",
       "C7A    0.038316\n",
       "C17    0.034539\n",
       "C67    0.028063\n",
       "C64    0.027523\n",
       "C25    0.025904\n",
       "Name: DiagnosisCode, dtype: float64"
      ]
     },
     "execution_count": 587,
     "metadata": {},
     "output_type": "execute_result"
    }
   ],
   "source": [
    "other_cancer_10.DiagnosisCode.str[0:3].value_counts(normalize = True).head(10)"
   ]
  },
  {
   "cell_type": "markdown",
   "id": "c520a949",
   "metadata": {},
   "source": [
    "**The top 10 ICD-10 family codes at time of diagnosis that aren't colorectal cancer, metastasis, or benign neoplasm:**\n",
    "* **C34 - Malignant neoplasm of bronchus and lung**\n",
    "* **C50 - Malignant neoplasm of breast**\n",
    "* **C61 - Malignant neoplasm of prostate**\n",
    "* **D47 - Other neoplasms of uncertain behavior of lymphoid, hematopoietic and related tissue**\n",
    "* **C22 - Malignant neoplasm of liver and intrahepatic bile ducts**\n",
    "* **C7A - Malignant neuroendocrine tumors**\n",
    "* **C64 - Malignant neoplasm of kidney, except renal pelvis**\n",
    "* **C17 - Malignant neoplasm of small intestine**\n",
    "* **C56 - Malignant neoplasm of ovary**\n",
    "* **C91 - Lymphoid leukemia**"
   ]
  },
  {
   "cell_type": "code",
   "execution_count": 588,
   "id": "f0597ae3",
   "metadata": {},
   "outputs": [],
   "source": [
    "other_cancer_10.loc[:,'other_cancer_10'] = 1"
   ]
  },
  {
   "cell_type": "code",
   "execution_count": 589,
   "id": "3fbe2b46",
   "metadata": {},
   "outputs": [],
   "source": [
    "# Drop duplicates.\n",
    "other_cancer_10 = (\n",
    "    other_cancer_10\n",
    "    .drop_duplicates(subset = 'PatientID', keep = 'first')\n",
    "    .filter(items = ['PatientID', 'other_cancer_10'])\n",
    ")"
   ]
  },
  {
   "cell_type": "code",
   "execution_count": 590,
   "id": "f681a9e2",
   "metadata": {},
   "outputs": [
    {
     "data": {
      "text/plain": [
       "(1465, 1465)"
      ]
     },
     "execution_count": 590,
     "metadata": {},
     "output_type": "execute_result"
    }
   ],
   "source": [
    "row_ID(other_cancer_10)"
   ]
  },
  {
   "cell_type": "code",
   "execution_count": 591,
   "id": "925031d2",
   "metadata": {},
   "outputs": [],
   "source": [
    "# Append missing training IDs.\n",
    "other_cancer_10 = (\n",
    "    other_cancer_10\n",
    "    .append(\n",
    "        pd.Series(train_IDs)[~pd.Series(train_IDs).isin(other_cancer_10['PatientID'])].to_frame(name = 'PatientID'), \n",
    "        sort = False)\n",
    "    .fillna(0)\n",
    ")"
   ]
  },
  {
   "cell_type": "code",
   "execution_count": 592,
   "id": "54b91b26",
   "metadata": {},
   "outputs": [
    {
     "data": {
      "text/plain": [
       "(27452, 27452)"
      ]
     },
     "execution_count": 592,
     "metadata": {},
     "output_type": "execute_result"
    }
   ],
   "source": [
    "row_ID(other_cancer_10)"
   ]
  },
  {
   "cell_type": "code",
   "execution_count": 593,
   "id": "6061977d",
   "metadata": {},
   "outputs": [],
   "source": [
    "other_cancer = pd.merge(other_cancer_9, other_cancer_10, on = 'PatientID')"
   ]
  },
  {
   "cell_type": "code",
   "execution_count": 594,
   "id": "a5c09ab8",
   "metadata": {},
   "outputs": [],
   "source": [
    "# Combine other_cancer_9 and other_cancer_19; replace values equal to 2 with 1. \n",
    "other_cancer = (\n",
    "    other_cancer\n",
    "    .assign(other_cancer = other_cancer['other_cancer_9'] + other_cancer['other_cancer_10'])\n",
    "    .filter(items = ['PatientID', 'other_cancer'])\n",
    "    .replace(2, 1)\n",
    ")"
   ]
  },
  {
   "cell_type": "code",
   "execution_count": 595,
   "id": "cbb4e61e",
   "metadata": {},
   "outputs": [
    {
     "data": {
      "text/plain": [
       "(27452, 27452)"
      ]
     },
     "execution_count": 595,
     "metadata": {},
     "output_type": "execute_result"
    }
   ],
   "source": [
    "row_ID(other_cancer)"
   ]
  },
  {
   "cell_type": "code",
   "execution_count": 596,
   "id": "e1fbcded",
   "metadata": {},
   "outputs": [
    {
     "data": {
      "text/plain": [
       "0.08789887804167273"
      ]
     },
     "execution_count": 596,
     "metadata": {},
     "output_type": "execute_result"
    }
   ],
   "source": [
    "# Percentage of patients with a cancer other than colorectal or mets. \n",
    "len(other_cancer[other_cancer['other_cancer'] == 1])/len(other_cancer)"
   ]
  },
  {
   "cell_type": "markdown",
   "id": "91186964",
   "metadata": {},
   "source": [
    "#### Sites of metastases"
   ]
  },
  {
   "cell_type": "markdown",
   "id": "2aef2755",
   "metadata": {},
   "source": [
    "##### ICD-9 sites of metastases"
   ]
  },
  {
   "cell_type": "code",
   "execution_count": 597,
   "id": "acc9859d",
   "metadata": {},
   "outputs": [],
   "source": [
    "# Create dataframe contianing patients with ICD-9 codes within -90 to +30 days from advanced diagnosis and remove duplicate codes.(\n",
    "diagnosis_mets_9 = (\n",
    "    diagnosis\n",
    "    .query('diagnosis_date_diff >= -90 and diagnosis_date_diff <= 30')\n",
    "    .query('DiagnosisCodeSystem == \"ICD-9-CM\"')\n",
    "    .drop_duplicates(subset = ['PatientID', 'DiagnosisCode'], keep = 'first')\n",
    "    .filter(items = ['PatientID', 'DiagnosisCode', 'diagnosis_code'])\n",
    ")"
   ]
  },
  {
   "cell_type": "markdown",
   "id": "a6e22ba0",
   "metadata": {},
   "source": [
    "**Sites of metastasis will be grouped into the following categories according to ICD-9 codes:**\n",
    "* **Thorax - 197.0, 197.1, 197.2, and 197.3**\n",
    "* **Peritoneum - 197.6**\n",
    "* **Liver - 197.7**\n",
    "* **Other GI - 197.4 and 197.8**\n",
    "* **CNS - 198.3 and 198.4**\n",
    "* **Bone - 198.5**\n",
    "* **Other - 198.0, 198.1, 198.2, 198.6, 198.7, 198.8, and 196**"
   ]
  },
  {
   "cell_type": "code",
   "execution_count": 598,
   "id": "88c41e2f",
   "metadata": {},
   "outputs": [],
   "source": [
    "diagnosis_mets_9['thorax_met'] = np.where(diagnosis_mets_9['diagnosis_code'].str.match('197[0123]'), 1, 0)"
   ]
  },
  {
   "cell_type": "code",
   "execution_count": 599,
   "id": "25870a6a",
   "metadata": {},
   "outputs": [],
   "source": [
    "diagnosis_mets_9['peritoneum_met'] = np.where(diagnosis_mets_9['diagnosis_code'].str.match('1976'), 1, 0)"
   ]
  },
  {
   "cell_type": "code",
   "execution_count": 600,
   "id": "7d95e0a9",
   "metadata": {},
   "outputs": [],
   "source": [
    "diagnosis_mets_9['liver_met'] = np.where(diagnosis_mets_9['diagnosis_code'].str.match('1977'), 1, 0)"
   ]
  },
  {
   "cell_type": "code",
   "execution_count": 601,
   "id": "ebe70d5e",
   "metadata": {},
   "outputs": [],
   "source": [
    "diagnosis_mets_9['other_gi_met'] = np.where(diagnosis_mets_9['diagnosis_code'].str.match('197[48]'), 1, 0)"
   ]
  },
  {
   "cell_type": "code",
   "execution_count": 602,
   "id": "4958139d",
   "metadata": {},
   "outputs": [],
   "source": [
    "diagnosis_mets_9['cns_met'] = np.where(diagnosis_mets_9['diagnosis_code'].str.match('198[34]'), 1, 0)"
   ]
  },
  {
   "cell_type": "code",
   "execution_count": 603,
   "id": "881cb6e5",
   "metadata": {},
   "outputs": [],
   "source": [
    "diagnosis_mets_9['bone_met'] = np.where(diagnosis_mets_9['diagnosis_code'].str.match('1985'), 1, 0)"
   ]
  },
  {
   "cell_type": "code",
   "execution_count": 604,
   "id": "a6c39615",
   "metadata": {},
   "outputs": [],
   "source": [
    "diagnosis_mets_9['other_met'] = np.where(diagnosis_mets_9['diagnosis_code'].str.match('198[012678]|'\n",
    "                                                                                      '196'), 1, 0)"
   ]
  },
  {
   "cell_type": "code",
   "execution_count": 605,
   "id": "6e92345b",
   "metadata": {},
   "outputs": [],
   "source": [
    "# Collapse columns and sum.\n",
    "diagnosis_mets_9 = (\n",
    "    diagnosis_mets_9\n",
    "    .drop(columns = ['DiagnosisCode', 'diagnosis_code'])\n",
    "    .groupby('PatientID').sum()\n",
    "    .reset_index()\n",
    ")"
   ]
  },
  {
   "cell_type": "markdown",
   "id": "31eb5393",
   "metadata": {},
   "source": [
    "##### ICD-10 sites of metastases"
   ]
  },
  {
   "cell_type": "code",
   "execution_count": 606,
   "id": "dd43b255",
   "metadata": {},
   "outputs": [],
   "source": [
    "# Create dataframe contianing patients with ICD-10 codes within -90 to +30 days from advanced diagnosis and remove duplicate codes.\n",
    "diagnosis_mets_10 = (\n",
    "    diagnosis\n",
    "    .query('diagnosis_date_diff >= -90 and diagnosis_date_diff <= 30')\n",
    "    .query('DiagnosisCodeSystem == \"ICD-10-CM\"')\n",
    "    .drop_duplicates(subset = ['PatientID', 'DiagnosisCode'], keep = 'first')\n",
    "    .filter(items = ['PatientID', 'DiagnosisCode', 'diagnosis_code'])\n",
    ")"
   ]
  },
  {
   "cell_type": "markdown",
   "id": "89392c31",
   "metadata": {},
   "source": [
    "**Sites of metastasis will be grouped into the following categories according to ICD-10 codes:**\n",
    "* **Thorax - C78.0, C78.1, C78.2, and C78.3**\n",
    "* **Peritoneum - C78.6**\n",
    "* **Liver - C78.7**\n",
    "* **Other GI - C78.4 and C78.8**\n",
    "* **CNS - C79.3 and C79.4**\n",
    "* **Bone - C79.5**\n",
    "* **Other - C77, C79.0, C79.1, C79.2, C79.6, C79.7, C79.8, and C79.9**"
   ]
  },
  {
   "cell_type": "code",
   "execution_count": 607,
   "id": "30d66cc1",
   "metadata": {},
   "outputs": [],
   "source": [
    "diagnosis_mets_10['thorax_met'] = np.where(diagnosis_mets_10['diagnosis_code'].str.match('C78[0123]'), 1, 0)"
   ]
  },
  {
   "cell_type": "code",
   "execution_count": 608,
   "id": "5931f670",
   "metadata": {},
   "outputs": [],
   "source": [
    "diagnosis_mets_10['peritoneum_met'] = np.where(diagnosis_mets_10['diagnosis_code'].str.match('C786'), 1, 0)"
   ]
  },
  {
   "cell_type": "code",
   "execution_count": 609,
   "id": "79355d9a",
   "metadata": {},
   "outputs": [],
   "source": [
    "diagnosis_mets_10['liver_met'] = np.where(diagnosis_mets_10['diagnosis_code'].str.match('C787'), 1, 0)"
   ]
  },
  {
   "cell_type": "code",
   "execution_count": 610,
   "id": "b3f90e6f",
   "metadata": {},
   "outputs": [],
   "source": [
    "diagnosis_mets_10['other_gi_met'] = np.where(diagnosis_mets_10['diagnosis_code'].str.match('C78[48]'), 1, 0)"
   ]
  },
  {
   "cell_type": "code",
   "execution_count": 611,
   "id": "8945b9f7",
   "metadata": {},
   "outputs": [],
   "source": [
    "diagnosis_mets_10['cns_met'] = np.where(diagnosis_mets_10['diagnosis_code'].str.match('C79[34]'), 1, 0)"
   ]
  },
  {
   "cell_type": "code",
   "execution_count": 612,
   "id": "bbd59ca3",
   "metadata": {},
   "outputs": [],
   "source": [
    "diagnosis_mets_10['bone_met'] = np.where(diagnosis_mets_10['diagnosis_code'].str.match('C795'), 1, 0)"
   ]
  },
  {
   "cell_type": "code",
   "execution_count": 613,
   "id": "cf19e303",
   "metadata": {},
   "outputs": [],
   "source": [
    "diagnosis_mets_10['other_met'] = np.where(diagnosis_mets_10['diagnosis_code'].str.match('C77|'\n",
    "                                                                                        'C79[0126789]'), 1, 0)"
   ]
  },
  {
   "cell_type": "code",
   "execution_count": 614,
   "id": "6ef76b7e",
   "metadata": {},
   "outputs": [],
   "source": [
    "# Collapse columns and sum. \n",
    "diagnosis_mets_10 = (\n",
    "    diagnosis_mets_10\n",
    "    .drop(columns = ['DiagnosisCode', 'diagnosis_code'])\n",
    "    .groupby('PatientID').sum()\n",
    "    .reset_index()\n",
    ")"
   ]
  },
  {
   "cell_type": "code",
   "execution_count": 615,
   "id": "164b121c",
   "metadata": {},
   "outputs": [],
   "source": [
    "# Merge ICD-9 and ICD-10 mets tables; collapse and sum. \n",
    "diagnosis_mets = (\n",
    "    pd.concat([diagnosis_mets_9, diagnosis_mets_10])\n",
    "    .groupby('PatientID').sum()\n",
    ")"
   ]
  },
  {
   "cell_type": "code",
   "execution_count": 616,
   "id": "55a652c7",
   "metadata": {},
   "outputs": [],
   "source": [
    "# All values >1 replaced by 1. \n",
    "diagnosis_mets = (\n",
    "    diagnosis_mets.mask(diagnosis_mets > 1, 1)\n",
    "    .reset_index()\n",
    ")"
   ]
  },
  {
   "cell_type": "code",
   "execution_count": 617,
   "id": "b165e1a7",
   "metadata": {},
   "outputs": [],
   "source": [
    "# Append missing training IDs.\n",
    "diagnosis_mets = (\n",
    "    diagnosis_mets.append(\n",
    "        pd.Series(train_IDs)[~pd.Series(train_IDs).isin(diagnosis_mets['PatientID'])].to_frame(name = 'PatientID'), \n",
    "        sort = False)\n",
    "    .fillna(0)\n",
    ")"
   ]
  },
  {
   "cell_type": "code",
   "execution_count": 618,
   "id": "45c3dd04",
   "metadata": {},
   "outputs": [
    {
     "data": {
      "text/plain": [
       "(27452, 27452)"
      ]
     },
     "execution_count": 618,
     "metadata": {},
     "output_type": "execute_result"
    }
   ],
   "source": [
    "row_ID(diagnosis_mets)"
   ]
  },
  {
   "cell_type": "code",
   "execution_count": 619,
   "id": "0be50821",
   "metadata": {},
   "outputs": [
    {
     "data": {
      "text/plain": [
       "liver_met         0.186252\n",
       "thorax_met        0.066953\n",
       "other_met         0.060251\n",
       "peritoneum_met    0.034096\n",
       "bone_met          0.018031\n",
       "cns_met           0.005318\n",
       "other_gi_met      0.004881\n",
       "dtype: float64"
      ]
     },
     "execution_count": 619,
     "metadata": {},
     "output_type": "execute_result"
    }
   ],
   "source": [
    "# Percentage with mets by site of location at time of metastatic diagnosis\n",
    "(diagnosis_mets.iloc[:, 1:].sum()/len(diagnosis_mets)).sort_values(ascending = False)"
   ]
  },
  {
   "cell_type": "code",
   "execution_count": 620,
   "id": "411d16ec",
   "metadata": {},
   "outputs": [
    {
     "data": {
      "text/plain": [
       "0.2881028704648113"
      ]
     },
     "execution_count": 620,
     "metadata": {},
     "output_type": "execute_result"
    }
   ],
   "source": [
    "# Percentage of patiens with ICD code denoting mets at time of metastatic diagnosis. \n",
    "len(diagnosis_mets[diagnosis_mets.eq(1).any(1)])/len(diagnosis_mets)"
   ]
  },
  {
   "cell_type": "code",
   "execution_count": 621,
   "id": "d524d891",
   "metadata": {},
   "outputs": [
    {
     "data": {
      "text/html": [
       "<div>\n",
       "<style scoped>\n",
       "    .dataframe tbody tr th:only-of-type {\n",
       "        vertical-align: middle;\n",
       "    }\n",
       "\n",
       "    .dataframe tbody tr th {\n",
       "        vertical-align: top;\n",
       "    }\n",
       "\n",
       "    .dataframe thead th {\n",
       "        text-align: right;\n",
       "    }\n",
       "</style>\n",
       "<table border=\"1\" class=\"dataframe\">\n",
       "  <thead>\n",
       "    <tr style=\"text-align: right;\">\n",
       "      <th></th>\n",
       "      <th>PatientID</th>\n",
       "      <th>thorax_met</th>\n",
       "      <th>peritoneum_met</th>\n",
       "      <th>liver_met</th>\n",
       "      <th>other_gi_met</th>\n",
       "      <th>cns_met</th>\n",
       "      <th>bone_met</th>\n",
       "      <th>other_met</th>\n",
       "    </tr>\n",
       "  </thead>\n",
       "  <tbody>\n",
       "    <tr>\n",
       "      <th>6230</th>\n",
       "      <td>F51F363C342EB</td>\n",
       "      <td>0.0</td>\n",
       "      <td>0.0</td>\n",
       "      <td>0.0</td>\n",
       "      <td>0.0</td>\n",
       "      <td>0.0</td>\n",
       "      <td>0.0</td>\n",
       "      <td>0.0</td>\n",
       "    </tr>\n",
       "    <tr>\n",
       "      <th>11730</th>\n",
       "      <td>F9A1D09B976A7</td>\n",
       "      <td>1.0</td>\n",
       "      <td>0.0</td>\n",
       "      <td>1.0</td>\n",
       "      <td>0.0</td>\n",
       "      <td>0.0</td>\n",
       "      <td>0.0</td>\n",
       "      <td>1.0</td>\n",
       "    </tr>\n",
       "    <tr>\n",
       "      <th>14997</th>\n",
       "      <td>FC614C153EEF6</td>\n",
       "      <td>1.0</td>\n",
       "      <td>0.0</td>\n",
       "      <td>1.0</td>\n",
       "      <td>0.0</td>\n",
       "      <td>0.0</td>\n",
       "      <td>0.0</td>\n",
       "      <td>0.0</td>\n",
       "    </tr>\n",
       "    <tr>\n",
       "      <th>1891</th>\n",
       "      <td>F1A092096E29D</td>\n",
       "      <td>0.0</td>\n",
       "      <td>0.0</td>\n",
       "      <td>0.0</td>\n",
       "      <td>0.0</td>\n",
       "      <td>0.0</td>\n",
       "      <td>0.0</td>\n",
       "      <td>0.0</td>\n",
       "    </tr>\n",
       "    <tr>\n",
       "      <th>3331</th>\n",
       "      <td>F2C3ED4B2341F</td>\n",
       "      <td>0.0</td>\n",
       "      <td>0.0</td>\n",
       "      <td>0.0</td>\n",
       "      <td>0.0</td>\n",
       "      <td>0.0</td>\n",
       "      <td>0.0</td>\n",
       "      <td>0.0</td>\n",
       "    </tr>\n",
       "  </tbody>\n",
       "</table>\n",
       "</div>"
      ],
      "text/plain": [
       "           PatientID  thorax_met  peritoneum_met  liver_met  other_gi_met  \\\n",
       "6230   F51F363C342EB         0.0             0.0        0.0           0.0   \n",
       "11730  F9A1D09B976A7         1.0             0.0        1.0           0.0   \n",
       "14997  FC614C153EEF6         1.0             0.0        1.0           0.0   \n",
       "1891   F1A092096E29D         0.0             0.0        0.0           0.0   \n",
       "3331   F2C3ED4B2341F         0.0             0.0        0.0           0.0   \n",
       "\n",
       "       cns_met  bone_met  other_met  \n",
       "6230       0.0       0.0        0.0  \n",
       "11730      0.0       0.0        1.0  \n",
       "14997      0.0       0.0        0.0  \n",
       "1891       0.0       0.0        0.0  \n",
       "3331       0.0       0.0        0.0  "
      ]
     },
     "execution_count": 621,
     "metadata": {},
     "output_type": "execute_result"
    }
   ],
   "source": [
    "diagnosis_mets.sample(5)"
   ]
  },
  {
   "cell_type": "markdown",
   "id": "073c64f7",
   "metadata": {},
   "source": [
    "#### Merge"
   ]
  },
  {
   "cell_type": "code",
   "execution_count": 622,
   "id": "d781dbc1",
   "metadata": {},
   "outputs": [],
   "source": [
    "diagnosis_wide = pd.merge(diagnosis_elixhauser, other_cancer, on = 'PatientID')"
   ]
  },
  {
   "cell_type": "code",
   "execution_count": 623,
   "id": "9a10a321",
   "metadata": {},
   "outputs": [],
   "source": [
    "diagnosis_wide = pd.merge(diagnosis_wide, diagnosis_mets, on = 'PatientID')"
   ]
  },
  {
   "cell_type": "code",
   "execution_count": 624,
   "id": "e9a893ea",
   "metadata": {},
   "outputs": [
    {
     "data": {
      "text/plain": [
       "(27452, 27452)"
      ]
     },
     "execution_count": 624,
     "metadata": {},
     "output_type": "execute_result"
    }
   ],
   "source": [
    "row_ID(diagnosis_wide)"
   ]
  },
  {
   "cell_type": "code",
   "execution_count": 625,
   "id": "a26674c4",
   "metadata": {},
   "outputs": [
    {
     "data": {
      "text/plain": [
       "['PatientID',\n",
       " 'chf',\n",
       " 'cardiac_arrhythmias',\n",
       " 'valvular_disease',\n",
       " 'pulmonary_circulation',\n",
       " 'peripheral_vascular',\n",
       " 'htn_uncomplicated',\n",
       " 'htn_complicated',\n",
       " 'paralysis',\n",
       " 'other_neuro_disorders',\n",
       " 'chronic_pulmonary',\n",
       " 'diabetes_uncomplicated',\n",
       " 'diabetes_complicated',\n",
       " 'hypothyroidism',\n",
       " 'renal_failure',\n",
       " 'liver_disease',\n",
       " 'peptic_ulcer_disease',\n",
       " 'aids_hiv',\n",
       " 'lymphoma',\n",
       " 'metastatic_cancer',\n",
       " 'solid_tumor_wout_mets',\n",
       " 'rheumatoid_arthritis',\n",
       " 'coagulopathy',\n",
       " 'obesity',\n",
       " 'weight_loss',\n",
       " 'fluid_electrolyte',\n",
       " 'blood_loss_anemia',\n",
       " 'deficiency_anemia',\n",
       " 'alcohol_abuse',\n",
       " 'drug_abuse',\n",
       " 'psychoses',\n",
       " 'depression',\n",
       " 'elixhauser_other',\n",
       " 'icd_count',\n",
       " 'other_cancer',\n",
       " 'thorax_met',\n",
       " 'peritoneum_met',\n",
       " 'liver_met',\n",
       " 'other_gi_met',\n",
       " 'cns_met',\n",
       " 'bone_met',\n",
       " 'other_met']"
      ]
     },
     "execution_count": 625,
     "metadata": {},
     "output_type": "execute_result"
    }
   ],
   "source": [
    "list(diagnosis_wide.columns)"
   ]
  },
  {
   "cell_type": "code",
   "execution_count": 626,
   "id": "3d7d6811",
   "metadata": {},
   "outputs": [
    {
     "name": "stdout",
     "output_type": "stream",
     "text": [
      "Variable                 Type         Data/Info\n",
      "-----------------------------------------------\n",
      "biomarker_wide           DataFrame               PatientID     <...>n[27452 rows x 5 columns]\n",
      "cancer_10                DataFrame                PatientID Dia<...>n[29767 rows x 3 columns]\n",
      "cancer_9                 DataFrame                PatientID Dia<...>n[12996 rows x 3 columns]\n",
      "colon_location           DataFrame               PatientID CrcS<...>n[27452 rows x 5 columns]\n",
      "colon_location_10        DataFrame                   right_colo<...>n[17487 rows x 2 columns]\n",
      "colon_location_9         DataFrame                   right_colo<...>n[10045 rows x 2 columns]\n",
      "demographics             DataFrame               PatientID gend<...>n[27452 rows x 7 columns]\n",
      "diagnosis                DataFrame                PatientID    <...>[869819 rows x 9 columns]\n",
      "diagnosis_elix_10        DataFrame                PatientID Dia<...>126655 rows x 37 columns]\n",
      "diagnosis_elix_10_wide   DataFrame               PatientID  chf<...>[17487 rows x 33 columns]\n",
      "diagnosis_elix_9         DataFrame                PatientID Dia<...>[52192 rows x 37 columns]\n",
      "diagnosis_elix_9_wide    DataFrame               PatientID  chf<...>[10045 rows x 33 columns]\n",
      "diagnosis_elixhauser     DataFrame               PatientID  chf<...>[27452 rows x 34 columns]\n",
      "diagnosis_mets           DataFrame               PatientID  tho<...>n[27452 rows x 8 columns]\n",
      "diagnosis_mets_10        DataFrame               PatientID  tho<...>n[15046 rows x 8 columns]\n",
      "diagnosis_mets_9         DataFrame              PatientID  thor<...>\\n[4953 rows x 8 columns]\n",
      "diagnosis_wide           DataFrame               PatientID  chf<...>[27452 rows x 42 columns]\n",
      "ecog_diagnosis_wide      DataFrame                PatientID eco<...>n[27452 rows x 2 columns]\n",
      "enhanced_met             DataFrame               PatientID diag<...>n[27452 rows x 9 columns]\n",
      "insurance_wide           DataFrame               PatientID  med<...>n[27452 rows x 9 columns]\n",
      "lab_wide                 DataFrame               PatientID  alb<...>27452 rows x 137 columns]\n",
      "med_admin_wide           DataFrame               PatientID  ste<...>[27452 rows x 15 columns]\n",
      "mortality                DataFrame               PatientID  dea<...>n[27452 rows x 3 columns]\n",
      "other_cancer             DataFrame               PatientID  oth<...>n[27452 rows x 2 columns]\n",
      "other_cancer_10          DataFrame               PatientID  oth<...>n[27452 rows x 2 columns]\n",
      "other_cancer_9           DataFrame               PatientID  oth<...>n[27452 rows x 2 columns]\n",
      "telemedicine             DataFrame               PatientID     <...>n[23327 rows x 3 columns]\n",
      "visit                    DataFrame                 PatientID   <...>2010098 rows x 7 columns]\n",
      "weight_wide              DataFrame               PatientID  wei<...>n[27452 rows x 7 columns]\n"
     ]
    }
   ],
   "source": [
    "%whos DataFrame"
   ]
  },
  {
   "cell_type": "code",
   "execution_count": 627,
   "id": "02f05457",
   "metadata": {},
   "outputs": [],
   "source": [
    "# Keep biomarker_wide, demographics, diagnosis_wide, ecog_diagnosis_wide, enhanced_met, insurance_wide, \n",
    "# lab_wide, med_admin_wide, mortality, and weight_wide\n",
    "del cancer_10\n",
    "del cancer_9\n",
    "del colon_location\n",
    "del colon_location_10\n",
    "del colon_location_9\n",
    "del diagnosis\n",
    "del diagnosis_elix_10\n",
    "del diagnosis_elix_10_wide\n",
    "del diagnosis_elix_9\n",
    "del diagnosis_elix_9_wide\n",
    "del diagnosis_elixhauser\n",
    "del diagnosis_mets\n",
    "del diagnosis_mets_10\n",
    "del diagnosis_mets_9\n",
    "del other_cancer\n",
    "del other_cancer_10\n",
    "del other_cancer_9"
   ]
  },
  {
   "cell_type": "markdown",
   "id": "6894e060",
   "metadata": {},
   "source": [
    "### SocialDeterminantsOfHealth"
   ]
  },
  {
   "cell_type": "code",
   "execution_count": 628,
   "id": "a91db3c7",
   "metadata": {},
   "outputs": [],
   "source": [
    "sdoh = pd.read_csv('SocialDeterminantsOfHealth.csv')"
   ]
  },
  {
   "cell_type": "code",
   "execution_count": 629,
   "id": "4ffcde27",
   "metadata": {},
   "outputs": [],
   "source": [
    "sdoh = sdoh[sdoh['PatientID'].isin(train_IDs)]"
   ]
  },
  {
   "cell_type": "code",
   "execution_count": 630,
   "id": "0fa06dfb",
   "metadata": {},
   "outputs": [
    {
     "data": {
      "text/plain": [
       "(23660, 23660)"
      ]
     },
     "execution_count": 630,
     "metadata": {},
     "output_type": "execute_result"
    }
   ],
   "source": [
    "row_ID(sdoh)"
   ]
  },
  {
   "cell_type": "code",
   "execution_count": 631,
   "id": "25d222e7",
   "metadata": {},
   "outputs": [
    {
     "data": {
      "text/html": [
       "<div>\n",
       "<style scoped>\n",
       "    .dataframe tbody tr th:only-of-type {\n",
       "        vertical-align: middle;\n",
       "    }\n",
       "\n",
       "    .dataframe tbody tr th {\n",
       "        vertical-align: top;\n",
       "    }\n",
       "\n",
       "    .dataframe thead th {\n",
       "        text-align: right;\n",
       "    }\n",
       "</style>\n",
       "<table border=\"1\" class=\"dataframe\">\n",
       "  <thead>\n",
       "    <tr style=\"text-align: right;\">\n",
       "      <th></th>\n",
       "      <th>PatientID</th>\n",
       "      <th>PracticeID</th>\n",
       "      <th>SESIndex2015_2019</th>\n",
       "    </tr>\n",
       "  </thead>\n",
       "  <tbody>\n",
       "    <tr>\n",
       "      <th>7334</th>\n",
       "      <td>F0DE680BD6AAF</td>\n",
       "      <td>S0D8FE16C20D2</td>\n",
       "      <td>4</td>\n",
       "    </tr>\n",
       "    <tr>\n",
       "      <th>16054</th>\n",
       "      <td>FD4230EC8D1CE</td>\n",
       "      <td>S23ADEA449811</td>\n",
       "      <td>4</td>\n",
       "    </tr>\n",
       "    <tr>\n",
       "      <th>12711</th>\n",
       "      <td>FA7099DF0494C</td>\n",
       "      <td>SBB648C22FEF1</td>\n",
       "      <td>4</td>\n",
       "    </tr>\n",
       "    <tr>\n",
       "      <th>13366</th>\n",
       "      <td>FC107D962DE86</td>\n",
       "      <td>SD6317E5462ED</td>\n",
       "      <td>NaN</td>\n",
       "    </tr>\n",
       "    <tr>\n",
       "      <th>17954</th>\n",
       "      <td>FE02BB471B6B8</td>\n",
       "      <td>S98D0ED5E3A94</td>\n",
       "      <td>4</td>\n",
       "    </tr>\n",
       "  </tbody>\n",
       "</table>\n",
       "</div>"
      ],
      "text/plain": [
       "           PatientID     PracticeID SESIndex2015_2019\n",
       "7334   F0DE680BD6AAF  S0D8FE16C20D2                 4\n",
       "16054  FD4230EC8D1CE  S23ADEA449811                 4\n",
       "12711  FA7099DF0494C  SBB648C22FEF1                 4\n",
       "13366  FC107D962DE86  SD6317E5462ED               NaN\n",
       "17954  FE02BB471B6B8  S98D0ED5E3A94                 4"
      ]
     },
     "execution_count": 631,
     "metadata": {},
     "output_type": "execute_result"
    }
   ],
   "source": [
    "sdoh.sample(5)"
   ]
  },
  {
   "cell_type": "markdown",
   "id": "97fa997d",
   "metadata": {},
   "source": [
    "**Measures the area-level socioeconomic status (SES) of a patient between 2015 and 2019 based on their most recent address.**"
   ]
  },
  {
   "cell_type": "code",
   "execution_count": 632,
   "id": "b00536da",
   "metadata": {},
   "outputs": [],
   "source": [
    "conditions = [\n",
    "    (sdoh['SESIndex2015_2019'] == '5 - Highest SES'),\n",
    "    (sdoh['SESIndex2015_2019'] == '1 - Lowest SES')]    \n",
    "\n",
    "choices = ['5', '1']\n",
    "    \n",
    "sdoh.loc[:, 'ses'] = np.select(conditions, choices, default = sdoh['SESIndex2015_2019'])"
   ]
  },
  {
   "cell_type": "code",
   "execution_count": 633,
   "id": "8c298fac",
   "metadata": {},
   "outputs": [],
   "source": [
    "sdoh = sdoh.drop(columns = ['PracticeID', 'SESIndex2015_2019'])"
   ]
  },
  {
   "cell_type": "code",
   "execution_count": 634,
   "id": "5911ac45",
   "metadata": {},
   "outputs": [],
   "source": [
    "sdoh_wide = (\n",
    "    sdoh\n",
    "    .append(\n",
    "        pd.Series(train_IDs)[~pd.Series(train_IDs).isin(sdoh['PatientID'])].to_frame(name = 'PatientID'),\n",
    "        sort = False)\n",
    ")"
   ]
  },
  {
   "cell_type": "code",
   "execution_count": 635,
   "id": "60dd0433",
   "metadata": {},
   "outputs": [
    {
     "data": {
      "text/plain": [
       "(27452, 27452)"
      ]
     },
     "execution_count": 635,
     "metadata": {},
     "output_type": "execute_result"
    }
   ],
   "source": [
    "row_ID(sdoh_wide)"
   ]
  },
  {
   "cell_type": "code",
   "execution_count": 636,
   "id": "3d914e5f",
   "metadata": {},
   "outputs": [
    {
     "data": {
      "text/plain": [
       "NaN    0.243152\n",
       "2      0.158750\n",
       "4      0.158240\n",
       "1      0.154743\n",
       "3      0.153541\n",
       "5      0.131575\n",
       "Name: ses, dtype: float64"
      ]
     },
     "execution_count": 636,
     "metadata": {},
     "output_type": "execute_result"
    }
   ],
   "source": [
    "sdoh_wide.ses.value_counts(dropna = False, normalize = True)"
   ]
  },
  {
   "cell_type": "code",
   "execution_count": 637,
   "id": "31bbf14b",
   "metadata": {},
   "outputs": [
    {
     "name": "stdout",
     "output_type": "stream",
     "text": [
      "Variable              Type         Data/Info\n",
      "--------------------------------------------\n",
      "biomarker_wide        DataFrame               PatientID     <...>n[27452 rows x 5 columns]\n",
      "demographics          DataFrame               PatientID gend<...>n[27452 rows x 7 columns]\n",
      "diagnosis_wide        DataFrame               PatientID  chf<...>[27452 rows x 42 columns]\n",
      "ecog_diagnosis_wide   DataFrame                PatientID eco<...>n[27452 rows x 2 columns]\n",
      "enhanced_met          DataFrame               PatientID diag<...>n[27452 rows x 9 columns]\n",
      "insurance_wide        DataFrame               PatientID  med<...>n[27452 rows x 9 columns]\n",
      "lab_wide              DataFrame               PatientID  alb<...>27452 rows x 137 columns]\n",
      "med_admin_wide        DataFrame               PatientID  ste<...>[27452 rows x 15 columns]\n",
      "mortality             DataFrame               PatientID  dea<...>n[27452 rows x 3 columns]\n",
      "sdoh                  DataFrame               PatientID  ses<...>n[23660 rows x 2 columns]\n",
      "sdoh_wide             DataFrame               PatientID  ses<...>n[27452 rows x 2 columns]\n",
      "telemedicine          DataFrame               PatientID     <...>n[23327 rows x 3 columns]\n",
      "visit                 DataFrame                 PatientID   <...>2010098 rows x 7 columns]\n",
      "weight_wide           DataFrame               PatientID  wei<...>n[27452 rows x 7 columns]\n"
     ]
    }
   ],
   "source": [
    "%whos DataFrame"
   ]
  },
  {
   "cell_type": "code",
   "execution_count": 638,
   "id": "0466c4f4",
   "metadata": {},
   "outputs": [],
   "source": [
    "# Keep biomarker_wide, demographics, ecog_diagnosis_wide, enhanced_met, mortality, \n",
    "# lab_wide, sdoh_wide, and weight wide\n",
    "del sdoh"
   ]
  },
  {
   "cell_type": "markdown",
   "id": "1e46d060",
   "metadata": {},
   "source": [
    "## Part 3: File merge"
   ]
  },
  {
   "cell_type": "code",
   "execution_count": 639,
   "id": "3f872959",
   "metadata": {},
   "outputs": [],
   "source": [
    "enhanced_met = enhanced_met.drop(columns = ['diagnosis_date', 'met_date', 'met_year_cat', 'CrcSite'])"
   ]
  },
  {
   "cell_type": "code",
   "execution_count": 640,
   "id": "68be1939",
   "metadata": {},
   "outputs": [],
   "source": [
    "train_full = pd.merge(demographics, enhanced_met, on = 'PatientID')"
   ]
  },
  {
   "cell_type": "code",
   "execution_count": 641,
   "id": "8ffc8d19",
   "metadata": {},
   "outputs": [],
   "source": [
    "train_full = pd.merge(train_full, mortality, on = 'PatientID')"
   ]
  },
  {
   "cell_type": "code",
   "execution_count": 642,
   "id": "9e0eab9c",
   "metadata": {},
   "outputs": [],
   "source": [
    "train_full = pd.merge(train_full, med_admin_wide, on = 'PatientID')"
   ]
  },
  {
   "cell_type": "code",
   "execution_count": 643,
   "id": "2550af64",
   "metadata": {},
   "outputs": [],
   "source": [
    "train_full = pd.merge(train_full, biomarker_wide, on = 'PatientID')"
   ]
  },
  {
   "cell_type": "code",
   "execution_count": 644,
   "id": "b177f9e3",
   "metadata": {},
   "outputs": [],
   "source": [
    "train_full = pd.merge(train_full, insurance_wide, on = 'PatientID')"
   ]
  },
  {
   "cell_type": "code",
   "execution_count": 645,
   "id": "f6f76dae",
   "metadata": {},
   "outputs": [],
   "source": [
    "train_full = pd.merge(train_full, ecog_diagnosis_wide, on = 'PatientID')"
   ]
  },
  {
   "cell_type": "code",
   "execution_count": 646,
   "id": "9de66971",
   "metadata": {},
   "outputs": [],
   "source": [
    "train_full = pd.merge(train_full, weight_wide, on = 'PatientID')"
   ]
  },
  {
   "cell_type": "code",
   "execution_count": 647,
   "id": "75a3e6f8",
   "metadata": {},
   "outputs": [],
   "source": [
    "train_full = pd.merge(train_full, lab_wide, on = 'PatientID')"
   ]
  },
  {
   "cell_type": "code",
   "execution_count": 648,
   "id": "13460887",
   "metadata": {},
   "outputs": [],
   "source": [
    "train_full = pd.merge(train_full, diagnosis_wide, on = 'PatientID')"
   ]
  },
  {
   "cell_type": "code",
   "execution_count": 649,
   "id": "57a4aa12",
   "metadata": {},
   "outputs": [],
   "source": [
    "train_full = pd.merge(train_full, sdoh_wide, on = 'PatientID')"
   ]
  },
  {
   "cell_type": "code",
   "execution_count": 650,
   "id": "652decb7",
   "metadata": {},
   "outputs": [
    {
     "data": {
      "text/plain": [
       "(27452, 27452)"
      ]
     },
     "execution_count": 650,
     "metadata": {},
     "output_type": "execute_result"
    }
   ],
   "source": [
    "row_ID(train_full)"
   ]
  },
  {
   "cell_type": "code",
   "execution_count": 651,
   "id": "c1eeb7d5",
   "metadata": {},
   "outputs": [
    {
     "data": {
      "text/plain": [
       "224"
      ]
     },
     "execution_count": 651,
     "metadata": {},
     "output_type": "execute_result"
    }
   ],
   "source": [
    "len(train_full.columns)"
   ]
  },
  {
   "cell_type": "code",
   "execution_count": 652,
   "id": "b82b0251",
   "metadata": {},
   "outputs": [
    {
     "data": {
      "text/plain": [
       "['PatientID',\n",
       " 'gender',\n",
       " 'race',\n",
       " 'ethnicity',\n",
       " 'age',\n",
       " 'p_type',\n",
       " 'region',\n",
       " 'stage',\n",
       " 'met_year',\n",
       " 'delta_met_diagnosis',\n",
       " 'crc_site',\n",
       " 'death_status',\n",
       " 'timerisk_activity',\n",
       " 'steroid_diag',\n",
       " 'opioid_PO_diag',\n",
       " 'nonopioid_PO_diag',\n",
       " 'pain_IV_diag',\n",
       " 'ac_diag',\n",
       " 'antiinfective_IV_diag',\n",
       " 'antiinfective_diag',\n",
       " 'antihyperglycemic_diag',\n",
       " 'ppi_diag',\n",
       " 'antidepressant_diag',\n",
       " 'bta_diag',\n",
       " 'thyroid_diag',\n",
       " 'is_diag',\n",
       " 'adjuv',\n",
       " 'KRAS',\n",
       " 'dMMR_MSIh',\n",
       " 'NRAS',\n",
       " 'BRAF',\n",
       " 'medicare',\n",
       " 'medicaid',\n",
       " 'medicare_medicaid',\n",
       " 'commercial',\n",
       " 'patient_assistance',\n",
       " 'other_govt',\n",
       " 'self_pay',\n",
       " 'other',\n",
       " 'ecog_diagnosis',\n",
       " 'weight_diag',\n",
       " 'bmi_diag',\n",
       " 'bmi_diag_na',\n",
       " 'weight_pct_change',\n",
       " 'weight_pct_na',\n",
       " 'weight_slope',\n",
       " 'albumin_diag',\n",
       " 'alp_diag',\n",
       " 'alt_diag',\n",
       " 'ast_diag',\n",
       " 'bicarb_diag',\n",
       " 'bun_diag',\n",
       " 'calcium_diag',\n",
       " 'cea_diag',\n",
       " 'chloride_diag',\n",
       " 'creatinine_diag',\n",
       " 'hemoglobin_diag',\n",
       " 'neutrophil_count_diag',\n",
       " 'platelet_diag',\n",
       " 'potassium_diag',\n",
       " 'sodium_diag',\n",
       " 'total_bilirubin_diag',\n",
       " 'wbc_diag',\n",
       " 'albumin_diag_na',\n",
       " 'alp_diag_na',\n",
       " 'alt_diag_na',\n",
       " 'ast_diag_na',\n",
       " 'bicarb_diag_na',\n",
       " 'bun_diag_na',\n",
       " 'calcium_diag_na',\n",
       " 'cea_diag_na',\n",
       " 'chloride_diag_na',\n",
       " 'creatinine_diag_na',\n",
       " 'hemoglobin_diag_na',\n",
       " 'neutrophil_count_diag_na',\n",
       " 'platelet_diag_na',\n",
       " 'potassium_diag_na',\n",
       " 'sodium_diag_na',\n",
       " 'total_bilirubin_diag_na',\n",
       " 'wbc_diag_na',\n",
       " 'albumin_avg',\n",
       " 'alp_avg',\n",
       " 'alt_avg',\n",
       " 'ast_avg',\n",
       " 'bicarb_avg',\n",
       " 'bun_avg',\n",
       " 'calcium_avg',\n",
       " 'cea_avg',\n",
       " 'chloride_avg',\n",
       " 'creatinine_avg',\n",
       " 'hemoglobin_avg',\n",
       " 'neutrophil_count_avg',\n",
       " 'platelet_avg',\n",
       " 'potassium_avg',\n",
       " 'sodium_avg',\n",
       " 'total_bilirubin_avg',\n",
       " 'wbc_avg',\n",
       " 'albumin_max',\n",
       " 'alp_max',\n",
       " 'alt_max',\n",
       " 'ast_max',\n",
       " 'bicarb_max',\n",
       " 'bun_max',\n",
       " 'calcium_max',\n",
       " 'cea_max',\n",
       " 'chloride_max',\n",
       " 'creatinine_max',\n",
       " 'hemoglobin_max',\n",
       " 'neutrophil_count_max',\n",
       " 'platelet_max',\n",
       " 'potassium_max',\n",
       " 'sodium_max',\n",
       " 'total_bilirubin_max',\n",
       " 'wbc_max',\n",
       " 'albumin_min',\n",
       " 'alp_min',\n",
       " 'alt_min',\n",
       " 'ast_min',\n",
       " 'bicarb_min',\n",
       " 'bun_min',\n",
       " 'calcium_min',\n",
       " 'cea_min',\n",
       " 'chloride_min',\n",
       " 'creatinine_min',\n",
       " 'hemoglobin_min',\n",
       " 'neutrophil_count_min',\n",
       " 'platelet_min',\n",
       " 'potassium_min',\n",
       " 'sodium_min',\n",
       " 'total_bilirubin_min',\n",
       " 'wbc_min',\n",
       " 'albumin_std',\n",
       " 'alp_std',\n",
       " 'alt_std',\n",
       " 'ast_std',\n",
       " 'bicarb_std',\n",
       " 'bun_std',\n",
       " 'calcium_std',\n",
       " 'cea_std',\n",
       " 'chloride_std',\n",
       " 'creatinine_std',\n",
       " 'hemoglobin_std',\n",
       " 'neutrophil_count_std',\n",
       " 'platelet_std',\n",
       " 'potassium_std',\n",
       " 'sodium_std',\n",
       " 'total_bilirubin_std',\n",
       " 'wbc_std',\n",
       " 'albumin_slope',\n",
       " 'alp_slope',\n",
       " 'alt_slope',\n",
       " 'ast_slope',\n",
       " 'bicarb_slope',\n",
       " 'bun_slope',\n",
       " 'calcium_slope',\n",
       " 'cea_slope',\n",
       " 'chloride_slope',\n",
       " 'creatinine_slope',\n",
       " 'hemoglobin_slope',\n",
       " 'neutrophil_count_slope',\n",
       " 'platelet_slope',\n",
       " 'potassium_slope',\n",
       " 'sodium_slope',\n",
       " 'total_bilirubin_slope',\n",
       " 'wbc_slope',\n",
       " 'albumin_slope_na',\n",
       " 'alp_slope_na',\n",
       " 'alt_slope_na',\n",
       " 'ast_slope_na',\n",
       " 'bicarb_slope_na',\n",
       " 'bun_slope_na',\n",
       " 'calcium_slope_na',\n",
       " 'cea_slope_na',\n",
       " 'chloride_slope_na',\n",
       " 'creatinine_slope_na',\n",
       " 'hemoglobin_slope_na',\n",
       " 'neutrophil_count_slope_na',\n",
       " 'platelet_slope_na',\n",
       " 'potassium_slope_na',\n",
       " 'sodium_slope_na',\n",
       " 'total_bilirubin_slope_na',\n",
       " 'wbc_slope_na',\n",
       " 'chf',\n",
       " 'cardiac_arrhythmias',\n",
       " 'valvular_disease',\n",
       " 'pulmonary_circulation',\n",
       " 'peripheral_vascular',\n",
       " 'htn_uncomplicated',\n",
       " 'htn_complicated',\n",
       " 'paralysis',\n",
       " 'other_neuro_disorders',\n",
       " 'chronic_pulmonary',\n",
       " 'diabetes_uncomplicated',\n",
       " 'diabetes_complicated',\n",
       " 'hypothyroidism',\n",
       " 'renal_failure',\n",
       " 'liver_disease',\n",
       " 'peptic_ulcer_disease',\n",
       " 'aids_hiv',\n",
       " 'lymphoma',\n",
       " 'metastatic_cancer',\n",
       " 'solid_tumor_wout_mets',\n",
       " 'rheumatoid_arthritis',\n",
       " 'coagulopathy',\n",
       " 'obesity',\n",
       " 'weight_loss',\n",
       " 'fluid_electrolyte',\n",
       " 'blood_loss_anemia',\n",
       " 'deficiency_anemia',\n",
       " 'alcohol_abuse',\n",
       " 'drug_abuse',\n",
       " 'psychoses',\n",
       " 'depression',\n",
       " 'elixhauser_other',\n",
       " 'icd_count',\n",
       " 'other_cancer',\n",
       " 'thorax_met',\n",
       " 'peritoneum_met',\n",
       " 'liver_met',\n",
       " 'other_gi_met',\n",
       " 'cns_met',\n",
       " 'bone_met',\n",
       " 'other_met',\n",
       " 'ses']"
      ]
     },
     "execution_count": 652,
     "metadata": {},
     "output_type": "execute_result"
    }
   ],
   "source": [
    "list(train_full.columns)"
   ]
  },
  {
   "cell_type": "code",
   "execution_count": 653,
   "id": "2079aaf9",
   "metadata": {},
   "outputs": [],
   "source": [
    "train_full.to_csv('train_full.csv', index = False, header = True)"
   ]
  }
 ],
 "metadata": {
  "kernelspec": {
   "display_name": "Python 3 (ipykernel)",
   "language": "python",
   "name": "python3"
  },
  "language_info": {
   "codemirror_mode": {
    "name": "ipython",
    "version": 3
   },
   "file_extension": ".py",
   "mimetype": "text/x-python",
   "name": "python",
   "nbconvert_exporter": "python",
   "pygments_lexer": "ipython3",
   "version": "3.7.10"
  }
 },
 "nbformat": 4,
 "nbformat_minor": 5
}
