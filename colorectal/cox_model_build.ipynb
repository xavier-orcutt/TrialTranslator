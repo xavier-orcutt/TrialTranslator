{
 "cells": [
  {
   "cell_type": "markdown",
   "id": "694981ad",
   "metadata": {},
   "source": [
    "# Flatiron Health mCRC: Cox model build\n",
    "\n",
    "**OBJECTIVE: Build a Cox model inspired by the model described in the \"Development and validation of risk prediction equations to estimate survival in patients with colorectal cancer: cohort study\" by J. Hippseley Cox et al. in BMJ (2017).**\n",
    "\n",
    "**BACKGROUND: This model is a classical Cox model published in 2017 that predicts overall survival following colorectal cancer diagnosis at any stage using a number of clinical variables. Discriminatory performance was validated on an external dataset and resulted in a concordance index of 0.80 over 5 years. Missingness was resolved by using multiple imputation chained equations (MICE).**\n",
    "\n",
    "**OUTLINE:**\n",
    "1. **Preprocessing**\n",
    "2. **Crude imputation** \n",
    "3. **Complete cases**\n",
    "4. **Complete cases using only patients with de novo metastaic disease**"
   ]
  },
  {
   "cell_type": "markdown",
   "id": "66ad795b",
   "metadata": {},
   "source": [
    "## 1. Preprocessing \n",
    "\n",
    "**The published Cox model includes the following variables:**\n",
    "1. Age \n",
    "2. Deprivation score\n",
    "3. Cancer stage\n",
    "4. Cancer grade \n",
    "5. Smoking status\n",
    "6. Colorectal surgery within a year of diagnosis\n",
    "7. Chemotherapy within a year of diagnosis\n",
    "8. Family history of bowel cancer\n",
    "9. Abnormal platelet count\n",
    "10. Abnormal liver function \n",
    "11. Cardiovascular disease\n",
    "12. Diabetes\n",
    "13. Chronic renal disease\n",
    "14. Chronic obstructive pulmonary disease\n",
    "15. Prescribed aspirin at diagnosis \n",
    "16. Prescribed statin at diagnosis "
   ]
  },
  {
   "cell_type": "code",
   "execution_count": 1,
   "id": "a94b0e16",
   "metadata": {},
   "outputs": [],
   "source": [
    "import numpy as np\n",
    "import pandas as pd"
   ]
  },
  {
   "cell_type": "code",
   "execution_count": 2,
   "id": "c576b92c",
   "metadata": {},
   "outputs": [],
   "source": [
    "# Function that returns number of rows and count of unique PatientIDs for a dataframe. \n",
    "def row_ID(dataframe):\n",
    "    row = dataframe.shape[0]\n",
    "    ID = dataframe['PatientID'].nunique()\n",
    "    return row, ID"
   ]
  },
  {
   "cell_type": "code",
   "execution_count": 3,
   "id": "7184a052",
   "metadata": {},
   "outputs": [
    {
     "name": "stdout",
     "output_type": "stream",
     "text": [
      "27452 True\n"
     ]
    }
   ],
   "source": [
    "train = pd.read_csv('train_full.csv')\n",
    "print(len(train), train.PatientID.is_unique)"
   ]
  },
  {
   "cell_type": "code",
   "execution_count": 4,
   "id": "660f3bca",
   "metadata": {},
   "outputs": [
    {
     "name": "stdout",
     "output_type": "stream",
     "text": [
      "6863 True\n"
     ]
    }
   ],
   "source": [
    "test = pd.read_csv('test_full.csv')\n",
    "print(len(test), test.PatientID.is_unique)"
   ]
  },
  {
   "cell_type": "markdown",
   "id": "39418017",
   "metadata": {},
   "source": [
    "### Training set"
   ]
  },
  {
   "cell_type": "markdown",
   "id": "4f897ffc",
   "metadata": {},
   "source": [
    "#### Age\n",
    "\n",
    "Age at diagnosis. No preprocessing is required."
   ]
  },
  {
   "cell_type": "markdown",
   "id": "4de390ac",
   "metadata": {},
   "source": [
    "#### Deprivation score\n",
    "\n",
    "The Townsend deprivation score is an area level score based on the patients’ postcode that reflects their socioeconomic status. It is a numeric score that ranges from 1 to 5 with 1 being the most affluent and 5 being the most deprives. The Townsend score includes unemployment, non-car ownership, non-home ownership, and household overcrowding. We will use Flatiron's SES index as a proxy for the Townsend deprivations score. Similar to the Townsend deprivation score, Flatiron's SES index is an area level score, also 1 through 5, based on a patients' address that takes into accout median household income, percentage of individuals living below poverty line, percentage of individuals who are unemployed, in addition to a few other variarbles."
   ]
  },
  {
   "cell_type": "markdown",
   "id": "af7f36a1",
   "metadata": {},
   "source": [
    "#### Cancer stage \n",
    "\n",
    "Cancer stage is classified using TNM classification (version 7). No further preprocessing is required."
   ]
  },
  {
   "cell_type": "markdown",
   "id": "e5f13193",
   "metadata": {},
   "source": [
    "#### Cancer grade \n",
    "\n",
    "Cancer grade is classified as well differentiated, moderately differentiated, poorly differentiated, and undifferentiated, or not recorded. Cancer grade is not provided in the Flatiron dataset and so this varible will not be included."
   ]
  },
  {
   "cell_type": "markdown",
   "id": "8ec083c2",
   "metadata": {},
   "source": [
    "#### Smoking status\n",
    "\n",
    "Smoking status is defined as most recent smoking status before diagnosis. Smoking status is not provided in the Flatiron dataset and so this variable will not be included."
   ]
  },
  {
   "cell_type": "markdown",
   "id": "441df1d4",
   "metadata": {},
   "source": [
    "#### Colorectal surgery within a year of diagnosis\n",
    "\n",
    "Surgery status is not included in the Flatiron dataset. This is unlikely to relevant for those that are diagnosed at time of metastatic disease which makes up about 60% of our dataset. A sensitivity analysis including only those diagnosed at time of metastatic disease will be performed."
   ]
  },
  {
   "cell_type": "markdown",
   "id": "97d15ebb",
   "metadata": {},
   "source": [
    "#### Chemotherapy within a year of diagnosis\n",
    "\n",
    "We will use receipt of adjuvant therapy as a proxy for this variable. The goal of our machine learning model is to predict survival from time of metastatic disease prior to therapy being selected, and so we did not include a variable that identifies those who were treated with chemotherapy."
   ]
  },
  {
   "cell_type": "markdown",
   "id": "69fc38ec",
   "metadata": {},
   "source": [
    "#### Family history of bowel cancer\n",
    "\n",
    "Flatiron did not provide family history of bowel cancer, so this variable will not be included in the model."
   ]
  },
  {
   "cell_type": "markdown",
   "id": "97709e2f",
   "metadata": {},
   "source": [
    "#### Abnormal platelet count\n",
    "\n",
    "Abnormal platelet count is defined as values >480×109/L closest to time of diagnosis."
   ]
  },
  {
   "cell_type": "code",
   "execution_count": 5,
   "id": "01301313",
   "metadata": {},
   "outputs": [],
   "source": [
    "train['raised_plt'] = np.where(train['platelet_diag'] > 480, 1, 0)"
   ]
  },
  {
   "cell_type": "markdown",
   "id": "06d5b1bf",
   "metadata": {},
   "source": [
    "#### Abnormal liver function\n",
    "\n",
    "Abnormal liver function test result is defined as either γ glutamyltransferase or alanine aminotransferase or bilirubin more than three times upper normal limit based on the value closest to cancer diagnosis. Below are the thresholds for three times the upper normal limit:\n",
    "- γ glutamyltransferase: 150\n",
    "- alanine aminotransferase: 75\n",
    "- bilirubin: 3"
   ]
  },
  {
   "cell_type": "code",
   "execution_count": 6,
   "id": "38c41499",
   "metadata": {},
   "outputs": [],
   "source": [
    "lab = pd.read_csv('Lab.csv')"
   ]
  },
  {
   "cell_type": "code",
   "execution_count": 7,
   "id": "cc5854f7",
   "metadata": {},
   "outputs": [],
   "source": [
    "lab.loc[:, 'ResultDate'] = pd.to_datetime(lab['ResultDate']) "
   ]
  },
  {
   "cell_type": "code",
   "execution_count": 8,
   "id": "b71cf0fa",
   "metadata": {},
   "outputs": [],
   "source": [
    "lab = lab[lab['PatientID'].isin(train.PatientID)]"
   ]
  },
  {
   "cell_type": "code",
   "execution_count": 9,
   "id": "88bbc479",
   "metadata": {},
   "outputs": [],
   "source": [
    "enhanced_met = pd.read_csv('Enhanced_MetastaticCRC.csv')"
   ]
  },
  {
   "cell_type": "code",
   "execution_count": 10,
   "id": "7937bffa",
   "metadata": {},
   "outputs": [],
   "source": [
    "enhanced_met.loc[:, 'MetDiagnosisDate'] = pd.to_datetime(enhanced_met['MetDiagnosisDate']) "
   ]
  },
  {
   "cell_type": "code",
   "execution_count": 11,
   "id": "b8fce39b",
   "metadata": {},
   "outputs": [],
   "source": [
    "enhanced_met = enhanced_met[enhanced_met['PatientID'].isin(train.PatientID)] "
   ]
  },
  {
   "cell_type": "code",
   "execution_count": 12,
   "id": "f9405754",
   "metadata": {},
   "outputs": [],
   "source": [
    "lab = pd.merge(lab, enhanced_met[['PatientID', 'MetDiagnosisDate']], on = 'PatientID', how = 'left')"
   ]
  },
  {
   "cell_type": "code",
   "execution_count": 13,
   "id": "99cc71c8",
   "metadata": {},
   "outputs": [],
   "source": [
    "lab = lab.query('LOINC == \"2324-2\"')"
   ]
  },
  {
   "cell_type": "code",
   "execution_count": 14,
   "id": "eb234ff9",
   "metadata": {},
   "outputs": [],
   "source": [
    "lab_win = (\n",
    "    lab\n",
    "    .assign(lab_date_diff = (lab['ResultDate'] - lab['MetDiagnosisDate']).dt.days)\n",
    "    .query('lab_date_diff >= -90 and lab_date_diff <= 30')\n",
    "    .filter(items = ['PatientID', 'TestBaseName', 'ResultDate', 'TestResultCleaned', 'MetDiagnosisDate', 'lab_date_diff'])\n",
    ")"
   ]
  },
  {
   "cell_type": "code",
   "execution_count": 15,
   "id": "3f7f8225",
   "metadata": {},
   "outputs": [],
   "source": [
    "lab_win.loc[:, 'lab_date_diff'] = lab_win['lab_date_diff'].abs()"
   ]
  },
  {
   "cell_type": "code",
   "execution_count": 16,
   "id": "6cfca95e",
   "metadata": {},
   "outputs": [],
   "source": [
    "lab_wide = (\n",
    "    lab_win.loc[lab_win.groupby('PatientID')['lab_date_diff'].idxmin()]\n",
    "    .pivot(index = 'PatientID', columns = 'TestBaseName', values = 'TestResultCleaned')\n",
    "    .reset_index()\n",
    "    .rename(columns = {'gamma glutamyl transferase': 'ggt_diag'})\n",
    ")\n",
    "\n",
    "lab_wide.columns.name = None"
   ]
  },
  {
   "cell_type": "code",
   "execution_count": 17,
   "id": "5951bb56",
   "metadata": {},
   "outputs": [],
   "source": [
    "train = pd.merge(train, lab_wide, on = 'PatientID', how = 'outer')"
   ]
  },
  {
   "cell_type": "code",
   "execution_count": 18,
   "id": "fbac16a4",
   "metadata": {},
   "outputs": [],
   "source": [
    "train['ab_lft'] = np.where((train['ggt_diag'] > 150) | \n",
    "                           (train['alt_diag'] > 75) | \n",
    "                           (train['total_bilirubin_diag'] > 3), 1, 0)"
   ]
  },
  {
   "cell_type": "markdown",
   "id": "a96873bd",
   "metadata": {},
   "source": [
    "#### Cardiovascular disease, diabetes, chronic renal disease, and chronic obstructive pulmonary disease\n",
    "\n",
    "The above chronic medical conditions is not explicity defined in the BMJ article. Patients in the Flatiron dataset will be labeled as having one of the above disease if they have an ICD code in their chart that maps to that respective disease."
   ]
  },
  {
   "cell_type": "code",
   "execution_count": 19,
   "id": "68729668",
   "metadata": {},
   "outputs": [],
   "source": [
    "diagnosis = pd.read_csv('Diagnosis.csv')"
   ]
  },
  {
   "cell_type": "code",
   "execution_count": 20,
   "id": "d09b2630",
   "metadata": {},
   "outputs": [],
   "source": [
    "# Remove decimal to make mapping to Elixhauser easier. \n",
    "diagnosis.loc[:, 'diagnosis_code'] = diagnosis['DiagnosisCode'].replace('\\.', '', regex = True)"
   ]
  },
  {
   "cell_type": "code",
   "execution_count": 21,
   "id": "4ddf1b42",
   "metadata": {},
   "outputs": [],
   "source": [
    "diagnosis.loc[:, 'DiagnosisDate'] = pd.to_datetime(diagnosis['DiagnosisDate'])"
   ]
  },
  {
   "cell_type": "code",
   "execution_count": 22,
   "id": "63c9b6a1",
   "metadata": {},
   "outputs": [],
   "source": [
    "diagnosis = diagnosis[diagnosis['PatientID'].isin(train.PatientID)]"
   ]
  },
  {
   "cell_type": "code",
   "execution_count": 23,
   "id": "f433c8e5",
   "metadata": {},
   "outputs": [],
   "source": [
    "diagnosis = pd.merge(diagnosis, enhanced_met[['PatientID', 'MetDiagnosisDate']], on = 'PatientID', how = 'left')"
   ]
  },
  {
   "cell_type": "code",
   "execution_count": 24,
   "id": "8f9e26e0",
   "metadata": {},
   "outputs": [],
   "source": [
    "diagnosis.loc[:, 'diagnosis_date_diff'] = (diagnosis['DiagnosisDate'] - diagnosis['MetDiagnosisDate']).dt.days"
   ]
  },
  {
   "cell_type": "markdown",
   "id": "572d79de",
   "metadata": {},
   "source": [
    "#### ICD-9"
   ]
  },
  {
   "cell_type": "code",
   "execution_count": 25,
   "id": "e345c98c",
   "metadata": {},
   "outputs": [],
   "source": [
    "diagnosis_9 = (\n",
    "    diagnosis\n",
    "    .query('diagnosis_date_diff <= 30')\n",
    "    .query('DiagnosisCodeSystem == \"ICD-9-CM\"')\n",
    "    .drop_duplicates(subset = (['PatientID', 'DiagnosisCode']), keep = 'first')\n",
    "    .filter(items = ['PatientID', 'DiagnosisCode', 'diagnosis_code'])\n",
    ")"
   ]
  },
  {
   "cell_type": "code",
   "execution_count": 26,
   "id": "e90435c8",
   "metadata": {},
   "outputs": [],
   "source": [
    "diagnosis_9.loc[:, 'cardiovascular'] = (\n",
    "    np.where(diagnosis_9['diagnosis_code'].str.match('39[012345678]|'\n",
    "                                                     '4[01234]'), 1, 0)\n",
    ")"
   ]
  },
  {
   "cell_type": "code",
   "execution_count": 27,
   "id": "5a8581f7",
   "metadata": {},
   "outputs": [],
   "source": [
    "diagnosis_9.loc[:, 'diabetes'] = (\n",
    "    np.where(diagnosis_9['diagnosis_code'].str.match('250'), 1, 0)\n",
    ")"
   ]
  },
  {
   "cell_type": "code",
   "execution_count": 28,
   "id": "e84af577",
   "metadata": {},
   "outputs": [],
   "source": [
    "diagnosis_9.loc[:, 'crd'] = (\n",
    "    np.where(diagnosis_9['diagnosis_code'].str.match('585|582'), 1, 0)\n",
    ")"
   ]
  },
  {
   "cell_type": "code",
   "execution_count": 29,
   "id": "e99c6188",
   "metadata": {},
   "outputs": [],
   "source": [
    "diagnosis_9.loc[:, 'copd'] = (\n",
    "    np.where(diagnosis_9['diagnosis_code'].str.match('49[0123456]'), 1, 0)\n",
    ")"
   ]
  },
  {
   "cell_type": "code",
   "execution_count": 30,
   "id": "1253e311",
   "metadata": {},
   "outputs": [],
   "source": [
    "diagnosis_9_wide = (\n",
    "    diagnosis_9\n",
    "    .drop(columns = ['DiagnosisCode', 'diagnosis_code'])\n",
    "    .groupby('PatientID').sum()\n",
    "    .reset_index()\n",
    ")"
   ]
  },
  {
   "cell_type": "markdown",
   "id": "806be282",
   "metadata": {},
   "source": [
    "#### ICD-10"
   ]
  },
  {
   "cell_type": "code",
   "execution_count": 31,
   "id": "9002c294",
   "metadata": {},
   "outputs": [],
   "source": [
    "diagnosis_10 = (\n",
    "    diagnosis\n",
    "    .query('diagnosis_date_diff <= 30')\n",
    "    .query('DiagnosisCodeSystem == \"ICD-10-CM\"')\n",
    "    .drop_duplicates(subset = (['PatientID', 'DiagnosisCode']), keep = 'first')\n",
    "    .filter(items = ['PatientID', 'DiagnosisCode', 'diagnosis_code'])\n",
    ")"
   ]
  },
  {
   "cell_type": "code",
   "execution_count": 32,
   "id": "49227a66",
   "metadata": {},
   "outputs": [],
   "source": [
    "diagnosis_10.loc[:, 'cardiovascular'] = (\n",
    "    np.where(diagnosis_10['diagnosis_code'].str.match('I'), 1, 0)\n",
    ")"
   ]
  },
  {
   "cell_type": "code",
   "execution_count": 33,
   "id": "858061d5",
   "metadata": {},
   "outputs": [],
   "source": [
    "diagnosis_10.loc[:, 'diabetes'] = (\n",
    "    np.where(diagnosis_10['diagnosis_code'].str.match('E0[89]|'\n",
    "                                                            'E1[0123]'), 1, 0)\n",
    ")"
   ]
  },
  {
   "cell_type": "code",
   "execution_count": 34,
   "id": "1923a77b",
   "metadata": {},
   "outputs": [],
   "source": [
    "diagnosis_10.loc[:, 'crd'] = (\n",
    "    np.where(diagnosis_10['diagnosis_code'].str.match('N03|N18'), 1, 0)\n",
    ")"
   ]
  },
  {
   "cell_type": "code",
   "execution_count": 35,
   "id": "542b1901",
   "metadata": {},
   "outputs": [],
   "source": [
    "diagnosis_10.loc[:, 'copd'] = (\n",
    "    np.where(diagnosis_10['diagnosis_code'].str.match('J4[01234567]'), 1, 0)\n",
    ")"
   ]
  },
  {
   "cell_type": "code",
   "execution_count": 36,
   "id": "9421f68c",
   "metadata": {},
   "outputs": [],
   "source": [
    "diagnosis_10_wide = (\n",
    "    diagnosis_10\n",
    "    .drop(columns = ['DiagnosisCode', 'diagnosis_code'])\n",
    "    .groupby('PatientID').sum()\n",
    "    .reset_index()\n",
    ")"
   ]
  },
  {
   "cell_type": "code",
   "execution_count": 37,
   "id": "86b537df",
   "metadata": {},
   "outputs": [],
   "source": [
    "# Merge ICD 9 and 10 codes and sum by PatientID.\n",
    "diagnosis_pmh = (\n",
    "    pd.concat([diagnosis_9_wide, diagnosis_10_wide])\n",
    "    .groupby('PatientID').sum()\n",
    ")"
   ]
  },
  {
   "cell_type": "code",
   "execution_count": 38,
   "id": "a34849b2",
   "metadata": {},
   "outputs": [],
   "source": [
    "diagnosis_pmh = diagnosis_pmh.mask(diagnosis_pmh >1, 1)"
   ]
  },
  {
   "cell_type": "code",
   "execution_count": 39,
   "id": "1647f3bd",
   "metadata": {},
   "outputs": [],
   "source": [
    "train = pd.merge(train, diagnosis_pmh, on = 'PatientID', how = 'outer')"
   ]
  },
  {
   "cell_type": "code",
   "execution_count": 40,
   "id": "2c949a02",
   "metadata": {},
   "outputs": [],
   "source": [
    "train[['cardiovascular', 'diabetes', 'crd', 'copd']] = train[['cardiovascular', 'diabetes', 'crd', 'copd']].fillna(0)"
   ]
  },
  {
   "cell_type": "markdown",
   "id": "8695a06f",
   "metadata": {},
   "source": [
    "#### Prescribed aspirin or statin at diagnosis \n",
    "\n",
    "A variable will be created to capture patients who received aspirin prior to time of diagnosis. While Flatiron captures aspirin use, it does not capture receipt of statin and so no indicator variable will be created for statin. "
   ]
  },
  {
   "cell_type": "code",
   "execution_count": 41,
   "id": "b3736331",
   "metadata": {},
   "outputs": [],
   "source": [
    "med_admin = pd.read_csv('MedicationAdministration.csv')"
   ]
  },
  {
   "cell_type": "code",
   "execution_count": 42,
   "id": "6eb09fca",
   "metadata": {},
   "outputs": [],
   "source": [
    "med_admin.loc[:, 'AdministeredDate'] = pd.to_datetime(med_admin['AdministeredDate'])"
   ]
  },
  {
   "cell_type": "code",
   "execution_count": 43,
   "id": "acd1514d",
   "metadata": {},
   "outputs": [],
   "source": [
    "med_admin = med_admin[med_admin['PatientID'].isin(train.PatientID)]"
   ]
  },
  {
   "cell_type": "code",
   "execution_count": 44,
   "id": "bdb29ec6",
   "metadata": {},
   "outputs": [],
   "source": [
    "med_admin = pd.merge(med_admin, enhanced_met[['PatientID', 'MetDiagnosisDate']], on = 'PatientID', how = 'left')"
   ]
  },
  {
   "cell_type": "code",
   "execution_count": 45,
   "id": "7709ece4",
   "metadata": {},
   "outputs": [],
   "source": [
    "med_admin = (\n",
    "    med_admin\n",
    "    .assign(med_admin_diff = (med_admin['AdministeredDate'] - med_admin['MetDiagnosisDate']).dt.days)\n",
    "    .query('med_admin_diff <= 30')\n",
    ")"
   ]
  },
  {
   "cell_type": "code",
   "execution_count": 46,
   "id": "3855d946",
   "metadata": {},
   "outputs": [],
   "source": [
    "med_admin.loc[:, 'aspirin'] = np.where(med_admin['DrugName'] == 'aspirin', 1, 0)"
   ]
  },
  {
   "cell_type": "code",
   "execution_count": 47,
   "id": "d53f7673",
   "metadata": {},
   "outputs": [],
   "source": [
    "med_admin_aspirin = (\n",
    "    med_admin\n",
    "    .filter(items = ['PatientID', 'aspirin'])\n",
    "    .groupby('PatientID').sum()\n",
    "    .reset_index()\n",
    ")"
   ]
  },
  {
   "cell_type": "code",
   "execution_count": 48,
   "id": "b229ec7a",
   "metadata": {},
   "outputs": [
    {
     "data": {
      "text/plain": [
       "(27452, 27452)"
      ]
     },
     "execution_count": 48,
     "metadata": {},
     "output_type": "execute_result"
    }
   ],
   "source": [
    "row_ID(train)"
   ]
  },
  {
   "cell_type": "code",
   "execution_count": 49,
   "id": "8d1a6baa",
   "metadata": {},
   "outputs": [],
   "source": [
    "train = pd.merge(train, med_admin_aspirin, on = 'PatientID', how = 'left')"
   ]
  },
  {
   "cell_type": "code",
   "execution_count": 50,
   "id": "de287e8e",
   "metadata": {},
   "outputs": [
    {
     "data": {
      "text/plain": [
       "(27452, 27452)"
      ]
     },
     "execution_count": 50,
     "metadata": {},
     "output_type": "execute_result"
    }
   ],
   "source": [
    "row_ID(train)"
   ]
  },
  {
   "cell_type": "code",
   "execution_count": 51,
   "id": "34fd3298",
   "metadata": {},
   "outputs": [],
   "source": [
    "train[['aspirin']] = train[['aspirin']].fillna(0)"
   ]
  },
  {
   "cell_type": "markdown",
   "id": "f5f764c8",
   "metadata": {},
   "source": [
    "### Test set"
   ]
  },
  {
   "cell_type": "markdown",
   "id": "ba5427e3",
   "metadata": {},
   "source": [
    "#### Abnormal platelet count"
   ]
  },
  {
   "cell_type": "code",
   "execution_count": 52,
   "id": "a9983d4a",
   "metadata": {},
   "outputs": [],
   "source": [
    "test['raised_plt'] = np.where(test['platelet_diag'] > 480, 1, 0)"
   ]
  },
  {
   "cell_type": "markdown",
   "id": "41154345",
   "metadata": {},
   "source": [
    "#### Abnormal liver function"
   ]
  },
  {
   "cell_type": "code",
   "execution_count": 53,
   "id": "9980d947",
   "metadata": {},
   "outputs": [],
   "source": [
    "lab = pd.read_csv('Lab.csv')"
   ]
  },
  {
   "cell_type": "code",
   "execution_count": 54,
   "id": "c72b3d2f",
   "metadata": {},
   "outputs": [],
   "source": [
    "lab.loc[:, 'ResultDate'] = pd.to_datetime(lab['ResultDate']) "
   ]
  },
  {
   "cell_type": "code",
   "execution_count": 55,
   "id": "d3188069",
   "metadata": {},
   "outputs": [],
   "source": [
    "lab = lab[lab['PatientID'].isin(test.PatientID)]"
   ]
  },
  {
   "cell_type": "code",
   "execution_count": 56,
   "id": "e3735035",
   "metadata": {},
   "outputs": [],
   "source": [
    "enhanced_met = pd.read_csv('Enhanced_MetastaticCRC.csv')"
   ]
  },
  {
   "cell_type": "code",
   "execution_count": 57,
   "id": "22a8e759",
   "metadata": {},
   "outputs": [],
   "source": [
    "enhanced_met.loc[:, 'MetDiagnosisDate'] = pd.to_datetime(enhanced_met['MetDiagnosisDate']) "
   ]
  },
  {
   "cell_type": "code",
   "execution_count": 58,
   "id": "55cd096b",
   "metadata": {},
   "outputs": [],
   "source": [
    "enhanced_met = enhanced_met[enhanced_met['PatientID'].isin(test.PatientID)] "
   ]
  },
  {
   "cell_type": "code",
   "execution_count": 59,
   "id": "833a8826",
   "metadata": {},
   "outputs": [],
   "source": [
    "lab = pd.merge(lab, enhanced_met[['PatientID', 'MetDiagnosisDate']], on = 'PatientID', how = 'left')"
   ]
  },
  {
   "cell_type": "code",
   "execution_count": 60,
   "id": "763446a3",
   "metadata": {},
   "outputs": [],
   "source": [
    "lab = lab.query('LOINC == \"2324-2\"')"
   ]
  },
  {
   "cell_type": "code",
   "execution_count": 61,
   "id": "a4a788c0",
   "metadata": {},
   "outputs": [],
   "source": [
    "lab_win = (\n",
    "    lab\n",
    "    .assign(lab_date_diff = (lab['ResultDate'] - lab['MetDiagnosisDate']).dt.days)\n",
    "    .query('lab_date_diff >= -90 and lab_date_diff <= 30')\n",
    "    .filter(items = ['PatientID', 'TestBaseName', 'ResultDate', 'TestResultCleaned', 'MetDiagnosisDate', 'lab_date_diff'])\n",
    ")"
   ]
  },
  {
   "cell_type": "code",
   "execution_count": 62,
   "id": "011b1107",
   "metadata": {},
   "outputs": [],
   "source": [
    "lab_win.loc[:, 'lab_date_diff'] = lab_win['lab_date_diff'].abs()"
   ]
  },
  {
   "cell_type": "code",
   "execution_count": 63,
   "id": "c710ee1f",
   "metadata": {},
   "outputs": [],
   "source": [
    "lab_wide = (\n",
    "    lab_win.loc[lab_win.groupby('PatientID')['lab_date_diff'].idxmin()]\n",
    "    .pivot(index = 'PatientID', columns = 'TestBaseName', values = 'TestResultCleaned')\n",
    "    .reset_index()\n",
    "    .rename(columns = {'gamma glutamyl transferase': 'ggt_diag'})\n",
    ")\n",
    "\n",
    "lab_wide.columns.name = None"
   ]
  },
  {
   "cell_type": "code",
   "execution_count": 64,
   "id": "3114b562",
   "metadata": {},
   "outputs": [],
   "source": [
    "test = pd.merge(test, lab_wide, on = 'PatientID', how = 'outer')"
   ]
  },
  {
   "cell_type": "code",
   "execution_count": 65,
   "id": "a9115c04",
   "metadata": {},
   "outputs": [],
   "source": [
    "test['ab_lft'] = np.where((test['ggt_diag'] > 150) |\n",
    "                          (test['alt_diag'] > 75) | \n",
    "                          (test['total_bilirubin_diag'] > 3), 1, 0)"
   ]
  },
  {
   "cell_type": "markdown",
   "id": "c945c236",
   "metadata": {},
   "source": [
    "#### Cardiovascular disease, diabetes, chronic renal disease, and chronic obstructive pulmonary disease"
   ]
  },
  {
   "cell_type": "code",
   "execution_count": 66,
   "id": "06b05f8a",
   "metadata": {},
   "outputs": [],
   "source": [
    "diagnosis = pd.read_csv('Diagnosis.csv')"
   ]
  },
  {
   "cell_type": "code",
   "execution_count": 67,
   "id": "ec747d39",
   "metadata": {},
   "outputs": [],
   "source": [
    "diagnosis.loc[:, 'diagnosis_code'] = diagnosis['DiagnosisCode'].replace('\\.', '', regex = True)"
   ]
  },
  {
   "cell_type": "code",
   "execution_count": 68,
   "id": "59e81d48",
   "metadata": {},
   "outputs": [],
   "source": [
    "diagnosis.loc[:, 'DiagnosisDate'] = pd.to_datetime(diagnosis['DiagnosisDate'])"
   ]
  },
  {
   "cell_type": "code",
   "execution_count": 69,
   "id": "c72def20",
   "metadata": {},
   "outputs": [],
   "source": [
    "diagnosis = diagnosis[diagnosis['PatientID'].isin(test.PatientID)]"
   ]
  },
  {
   "cell_type": "code",
   "execution_count": 70,
   "id": "d4192eed",
   "metadata": {},
   "outputs": [],
   "source": [
    "diagnosis = pd.merge(diagnosis, enhanced_met[['PatientID', 'MetDiagnosisDate']], on = 'PatientID', how = 'left')"
   ]
  },
  {
   "cell_type": "code",
   "execution_count": 71,
   "id": "1cce9364",
   "metadata": {},
   "outputs": [],
   "source": [
    "diagnosis.loc[:, 'diagnosis_date_diff'] = (diagnosis['DiagnosisDate'] - diagnosis['MetDiagnosisDate']).dt.days"
   ]
  },
  {
   "cell_type": "markdown",
   "id": "6a29cc4c",
   "metadata": {},
   "source": [
    "#### ICD-9"
   ]
  },
  {
   "cell_type": "code",
   "execution_count": 72,
   "id": "c6677b28",
   "metadata": {},
   "outputs": [],
   "source": [
    "diagnosis_9 = (\n",
    "    diagnosis\n",
    "    .query('diagnosis_date_diff <= 30')\n",
    "    .query('DiagnosisCodeSystem == \"ICD-9-CM\"')\n",
    "    .drop_duplicates(subset = (['PatientID', 'DiagnosisCode']), keep = 'first')\n",
    "    .filter(items = ['PatientID', 'DiagnosisCode', 'diagnosis_code'])\n",
    ")"
   ]
  },
  {
   "cell_type": "code",
   "execution_count": 73,
   "id": "597f739c",
   "metadata": {},
   "outputs": [],
   "source": [
    "diagnosis_9.loc[:, 'cardiovascular'] = (\n",
    "    np.where(diagnosis_9['diagnosis_code'].str.match('39[012345678]|'\n",
    "                                                     '4[01234]'), 1, 0)\n",
    ")"
   ]
  },
  {
   "cell_type": "code",
   "execution_count": 74,
   "id": "29dbe371",
   "metadata": {},
   "outputs": [],
   "source": [
    "diagnosis_9.loc[:, 'diabetes'] = (\n",
    "    np.where(diagnosis_9['diagnosis_code'].str.match('250'), 1, 0)\n",
    ")"
   ]
  },
  {
   "cell_type": "code",
   "execution_count": 75,
   "id": "9c9b5831",
   "metadata": {},
   "outputs": [],
   "source": [
    "diagnosis_9.loc[:, 'crd'] = (\n",
    "    np.where(diagnosis_9['diagnosis_code'].str.match('585|582'), 1, 0)\n",
    ")"
   ]
  },
  {
   "cell_type": "code",
   "execution_count": 76,
   "id": "74c620cf",
   "metadata": {},
   "outputs": [],
   "source": [
    "diagnosis_9.loc[:, 'copd'] = (\n",
    "    np.where(diagnosis_9['diagnosis_code'].str.match('49[0123456]'), 1, 0)\n",
    ")"
   ]
  },
  {
   "cell_type": "code",
   "execution_count": 77,
   "id": "4d457f18",
   "metadata": {},
   "outputs": [],
   "source": [
    "diagnosis_9_wide = (\n",
    "    diagnosis_9\n",
    "    .drop(columns = ['DiagnosisCode', 'diagnosis_code'])\n",
    "    .groupby('PatientID').sum()\n",
    "    .reset_index()\n",
    ")"
   ]
  },
  {
   "cell_type": "markdown",
   "id": "16bb083a",
   "metadata": {},
   "source": [
    "#### ICD-10"
   ]
  },
  {
   "cell_type": "code",
   "execution_count": 78,
   "id": "b6c420bb",
   "metadata": {},
   "outputs": [],
   "source": [
    "diagnosis_10 = (\n",
    "    diagnosis\n",
    "    .query('diagnosis_date_diff <= 30')\n",
    "    .query('DiagnosisCodeSystem == \"ICD-10-CM\"')\n",
    "    .drop_duplicates(subset = (['PatientID', 'DiagnosisCode']), keep = 'first')\n",
    "    .filter(items = ['PatientID', 'DiagnosisCode', 'diagnosis_code'])\n",
    ")"
   ]
  },
  {
   "cell_type": "code",
   "execution_count": 79,
   "id": "2dc8eab2",
   "metadata": {},
   "outputs": [],
   "source": [
    "diagnosis_10.loc[:, 'cardiovascular'] = (\n",
    "    np.where(diagnosis_10['diagnosis_code'].str.match('I'), 1, 0)\n",
    ")"
   ]
  },
  {
   "cell_type": "code",
   "execution_count": 80,
   "id": "b185611c",
   "metadata": {},
   "outputs": [],
   "source": [
    "diagnosis_10.loc[:, 'diabetes'] = (\n",
    "    np.where(diagnosis_10['diagnosis_code'].str.match('E0[89]|'\n",
    "                                                            'E1[0123]'), 1, 0)\n",
    ")"
   ]
  },
  {
   "cell_type": "code",
   "execution_count": 81,
   "id": "5662d9a2",
   "metadata": {},
   "outputs": [],
   "source": [
    "diagnosis_10.loc[:, 'crd'] = (\n",
    "    np.where(diagnosis_10['diagnosis_code'].str.match('N03|N18'), 1, 0)\n",
    ")"
   ]
  },
  {
   "cell_type": "code",
   "execution_count": 82,
   "id": "aee1acc4",
   "metadata": {},
   "outputs": [],
   "source": [
    "diagnosis_10.loc[:, 'copd'] = (\n",
    "    np.where(diagnosis_10['diagnosis_code'].str.match('J4[01234567]'), 1, 0)\n",
    ")"
   ]
  },
  {
   "cell_type": "code",
   "execution_count": 83,
   "id": "dcb6e142",
   "metadata": {},
   "outputs": [],
   "source": [
    "diagnosis_10_wide = (\n",
    "    diagnosis_10\n",
    "    .drop(columns = ['DiagnosisCode', 'diagnosis_code'])\n",
    "    .groupby('PatientID').sum()\n",
    "    .reset_index()\n",
    ")"
   ]
  },
  {
   "cell_type": "code",
   "execution_count": 84,
   "id": "cd9f9316",
   "metadata": {},
   "outputs": [],
   "source": [
    "# Merge ICD 9 and 10 codes and sum by PatientID.\n",
    "diagnosis_pmh = (\n",
    "    pd.concat([diagnosis_9_wide, diagnosis_10_wide])\n",
    "    .groupby('PatientID').sum()\n",
    ")"
   ]
  },
  {
   "cell_type": "code",
   "execution_count": 85,
   "id": "42fcbd7c",
   "metadata": {},
   "outputs": [],
   "source": [
    "diagnosis_pmh = diagnosis_pmh.mask(diagnosis_pmh >1, 1)"
   ]
  },
  {
   "cell_type": "code",
   "execution_count": 86,
   "id": "9665f707",
   "metadata": {},
   "outputs": [],
   "source": [
    "test = pd.merge(test, diagnosis_pmh, on = 'PatientID', how = 'outer')"
   ]
  },
  {
   "cell_type": "code",
   "execution_count": 87,
   "id": "273988ea",
   "metadata": {},
   "outputs": [],
   "source": [
    "test[['cardiovascular', 'diabetes', 'crd', 'copd']] = test[['cardiovascular', 'diabetes', 'crd', 'copd']].fillna(0)"
   ]
  },
  {
   "cell_type": "markdown",
   "id": "65e0fec4",
   "metadata": {},
   "source": [
    "#### Prescribed aspirin or statin at diagnosis "
   ]
  },
  {
   "cell_type": "code",
   "execution_count": 88,
   "id": "56d95535",
   "metadata": {},
   "outputs": [],
   "source": [
    "med_admin = pd.read_csv('MedicationAdministration.csv')"
   ]
  },
  {
   "cell_type": "code",
   "execution_count": 89,
   "id": "f45edc77",
   "metadata": {},
   "outputs": [],
   "source": [
    "med_admin.loc[:, 'AdministeredDate'] = pd.to_datetime(med_admin['AdministeredDate'])"
   ]
  },
  {
   "cell_type": "code",
   "execution_count": 90,
   "id": "fa3a8b61",
   "metadata": {},
   "outputs": [],
   "source": [
    "med_admin = med_admin[med_admin['PatientID'].isin(test.PatientID)]"
   ]
  },
  {
   "cell_type": "code",
   "execution_count": 91,
   "id": "de1e1d04",
   "metadata": {},
   "outputs": [],
   "source": [
    "med_admin = pd.merge(med_admin, enhanced_met[['PatientID', 'MetDiagnosisDate']], on = 'PatientID', how = 'left')"
   ]
  },
  {
   "cell_type": "code",
   "execution_count": 92,
   "id": "a89df72b",
   "metadata": {},
   "outputs": [],
   "source": [
    "med_admin = (\n",
    "    med_admin\n",
    "    .assign(med_admin_diff = (med_admin['AdministeredDate'] - med_admin['MetDiagnosisDate']).dt.days)\n",
    "    .query('med_admin_diff <= 30')\n",
    ")"
   ]
  },
  {
   "cell_type": "code",
   "execution_count": 93,
   "id": "c666c8d6",
   "metadata": {},
   "outputs": [],
   "source": [
    "med_admin.loc[:, 'aspirin'] = np.where(med_admin['DrugName'] == 'aspirin', 1, 0)"
   ]
  },
  {
   "cell_type": "code",
   "execution_count": 94,
   "id": "2986ab39",
   "metadata": {},
   "outputs": [],
   "source": [
    "med_admin_aspirin = (\n",
    "    med_admin\n",
    "    .filter(items = ['PatientID', 'aspirin'])\n",
    "    .groupby('PatientID').sum()\n",
    "    .reset_index()\n",
    ")"
   ]
  },
  {
   "cell_type": "code",
   "execution_count": 95,
   "id": "56496632",
   "metadata": {},
   "outputs": [
    {
     "data": {
      "text/plain": [
       "(6863, 6863)"
      ]
     },
     "execution_count": 95,
     "metadata": {},
     "output_type": "execute_result"
    }
   ],
   "source": [
    "row_ID(test)"
   ]
  },
  {
   "cell_type": "code",
   "execution_count": 96,
   "id": "17ba5dbf",
   "metadata": {},
   "outputs": [],
   "source": [
    "test = pd.merge(test, med_admin_aspirin, on = 'PatientID', how = 'left')"
   ]
  },
  {
   "cell_type": "code",
   "execution_count": 97,
   "id": "fd7b5cdb",
   "metadata": {},
   "outputs": [
    {
     "data": {
      "text/plain": [
       "(6863, 6863)"
      ]
     },
     "execution_count": 97,
     "metadata": {},
     "output_type": "execute_result"
    }
   ],
   "source": [
    "row_ID(test)"
   ]
  },
  {
   "cell_type": "code",
   "execution_count": 98,
   "id": "ae3a6137",
   "metadata": {},
   "outputs": [],
   "source": [
    "test[['aspirin']] = test[['aspirin']].fillna(0)"
   ]
  },
  {
   "cell_type": "markdown",
   "id": "08e02301",
   "metadata": {},
   "source": [
    "## 2. Crude imputation\n",
    "\n",
    "There are 4 varialbes in the model that have missing values: (1) stage, (2) deprivation score, (3) abnormal platelet count, and (4) abnormal liver function. An \"unknown\" category will be created for those with unknown stage or deprivation score. Patients with missing platelet value or liver function testing will be assumed to be normal."
   ]
  },
  {
   "cell_type": "code",
   "execution_count": 99,
   "id": "765c1bfd",
   "metadata": {},
   "outputs": [],
   "source": [
    "from sksurv.linear_model import CoxPHSurvivalAnalysis\n",
    "\n",
    "from sksurv.metrics import cumulative_dynamic_auc"
   ]
  },
  {
   "cell_type": "code",
   "execution_count": 100,
   "id": "d1234bd9",
   "metadata": {},
   "outputs": [],
   "source": [
    "# Create function that creates dummy variables for categorical variable and drops original categorical variable. \n",
    "def encode_and_bind(original_dataframe, feature_to_encode):\n",
    "    dummies = pd.get_dummies(original_dataframe[[feature_to_encode]])\n",
    "    res = pd.concat([original_dataframe, dummies], axis = 1)\n",
    "    res = res.drop([feature_to_encode], axis = 1)\n",
    "    return(res) "
   ]
  },
  {
   "cell_type": "markdown",
   "id": "a474985f",
   "metadata": {},
   "source": [
    "### Processing X "
   ]
  },
  {
   "cell_type": "markdown",
   "id": "5f5330a4",
   "metadata": {},
   "source": [
    "#### Select relevant variables "
   ]
  },
  {
   "cell_type": "code",
   "execution_count": 101,
   "id": "673118a7",
   "metadata": {},
   "outputs": [],
   "source": [
    "train_cox_x = (\n",
    "    train\n",
    "    .filter(items = [\n",
    "        'PatientID',\n",
    "        'age',\n",
    "        'ses',\n",
    "        'stage',\n",
    "        'adjuv',\n",
    "        'raised_plt',\n",
    "        'ab_lft',\n",
    "        'cardiovascular',\n",
    "        'diabetes',\n",
    "        'crd',\n",
    "        'copd',\n",
    "        'aspirin']))"
   ]
  },
  {
   "cell_type": "code",
   "execution_count": 102,
   "id": "d85a8cd5",
   "metadata": {},
   "outputs": [],
   "source": [
    "train_cox_x = train_cox_x.set_index('PatientID')"
   ]
  },
  {
   "cell_type": "code",
   "execution_count": 103,
   "id": "0be2deb6",
   "metadata": {},
   "outputs": [
    {
     "data": {
      "text/plain": [
       "(27452, 11)"
      ]
     },
     "execution_count": 103,
     "metadata": {},
     "output_type": "execute_result"
    }
   ],
   "source": [
    "train_cox_x.shape"
   ]
  },
  {
   "cell_type": "code",
   "execution_count": 104,
   "id": "042a0a82",
   "metadata": {},
   "outputs": [],
   "source": [
    "test_cox_x = (\n",
    "    test\n",
    "    .filter(items = [\n",
    "        'PatientID',\n",
    "        'age',\n",
    "        'ses',\n",
    "        'stage',\n",
    "        'adjuv',\n",
    "        'raised_plt',\n",
    "        'ab_lft',\n",
    "        'cardiovascular',\n",
    "        'diabetes',\n",
    "        'crd',\n",
    "        'copd',\n",
    "        'aspirin']))"
   ]
  },
  {
   "cell_type": "code",
   "execution_count": 105,
   "id": "d7a81363",
   "metadata": {},
   "outputs": [],
   "source": [
    "test_cox_x = test_cox_x.set_index('PatientID')"
   ]
  },
  {
   "cell_type": "code",
   "execution_count": 106,
   "id": "aa480d60",
   "metadata": {},
   "outputs": [
    {
     "data": {
      "text/plain": [
       "(6863, 11)"
      ]
     },
     "execution_count": 106,
     "metadata": {},
     "output_type": "execute_result"
    }
   ],
   "source": [
    "test_cox_x.shape"
   ]
  },
  {
   "cell_type": "markdown",
   "id": "0be7f783",
   "metadata": {},
   "source": [
    "#### Impute \"unknown\" for missing deprivation score (ie., SES)"
   ]
  },
  {
   "cell_type": "code",
   "execution_count": 107,
   "id": "e40cc57f",
   "metadata": {},
   "outputs": [],
   "source": [
    "train_cox_x[['ses']] = train_cox_x[['ses']].fillna('unknown')"
   ]
  },
  {
   "cell_type": "code",
   "execution_count": 108,
   "id": "3782d9ad",
   "metadata": {},
   "outputs": [],
   "source": [
    "test_cox_x[['ses']] = test_cox_x[['ses']].fillna('unknown')"
   ]
  },
  {
   "cell_type": "markdown",
   "id": "a1c88388",
   "metadata": {},
   "source": [
    "#### Convert relevant varibles to categorical "
   ]
  },
  {
   "cell_type": "code",
   "execution_count": 109,
   "id": "fca0bc61",
   "metadata": {},
   "outputs": [
    {
     "data": {
      "text/plain": [
       "['ses', 'stage']"
      ]
     },
     "execution_count": 109,
     "metadata": {},
     "output_type": "execute_result"
    }
   ],
   "source": [
    "list(train_cox_x.select_dtypes(include = ['object']).columns)"
   ]
  },
  {
   "cell_type": "code",
   "execution_count": 110,
   "id": "75768bf7",
   "metadata": {},
   "outputs": [],
   "source": [
    "to_be_categorical = list(train_cox_x.select_dtypes(include = ['object']).columns)"
   ]
  },
  {
   "cell_type": "code",
   "execution_count": 111,
   "id": "ea006f5f",
   "metadata": {},
   "outputs": [],
   "source": [
    "to_be_categorical.append('ses')\n",
    "to_be_categorical.append('adjuv')\n",
    "to_be_categorical.append('raised_plt')\n",
    "to_be_categorical.append('ab_lft')\n",
    "to_be_categorical.append('cardiovascular')\n",
    "to_be_categorical.append('diabetes')\n",
    "to_be_categorical.append('crd')\n",
    "to_be_categorical.append('copd')\n",
    "to_be_categorical.append('aspirin')"
   ]
  },
  {
   "cell_type": "code",
   "execution_count": 112,
   "id": "7d50f016",
   "metadata": {},
   "outputs": [],
   "source": [
    "for x in list(to_be_categorical):\n",
    "    train_cox_x[x] = train_cox_x[x].astype('category')"
   ]
  },
  {
   "cell_type": "code",
   "execution_count": 113,
   "id": "d2c0530d",
   "metadata": {},
   "outputs": [
    {
     "data": {
      "text/plain": [
       "age                  int64\n",
       "ses               category\n",
       "stage             category\n",
       "adjuv             category\n",
       "raised_plt        category\n",
       "ab_lft            category\n",
       "cardiovascular    category\n",
       "diabetes          category\n",
       "crd               category\n",
       "copd              category\n",
       "aspirin           category\n",
       "dtype: object"
      ]
     },
     "execution_count": 113,
     "metadata": {},
     "output_type": "execute_result"
    }
   ],
   "source": [
    "train_cox_x.dtypes"
   ]
  },
  {
   "cell_type": "code",
   "execution_count": 114,
   "id": "f90a4dae",
   "metadata": {},
   "outputs": [],
   "source": [
    "for x in list(to_be_categorical):\n",
    "    test_cox_x[x] = test_cox_x[x].astype('category')"
   ]
  },
  {
   "cell_type": "markdown",
   "id": "01d830f6",
   "metadata": {},
   "source": [
    "#### Dummy encode categorical variables "
   ]
  },
  {
   "cell_type": "code",
   "execution_count": 115,
   "id": "6b722dfd",
   "metadata": {},
   "outputs": [],
   "source": [
    "# Dummy variables for ses\n",
    "train_cox_x = encode_and_bind(train_cox_x, 'ses')\n",
    "train_cox_x = train_cox_x.drop(columns = ['ses_unknown'])\n",
    "\n",
    "test_cox_x = encode_and_bind(test_cox_x, 'ses')\n",
    "test_cox_x = test_cox_x.drop(columns = ['ses_unknown'])\n",
    "\n",
    "# Dummy variables for stage \n",
    "train_cox_x = encode_and_bind(train_cox_x, 'stage')\n",
    "train_cox_x = train_cox_x.drop(columns = ['stage_unknown'])\n",
    "\n",
    "test_cox_x = encode_and_bind(test_cox_x, 'stage')\n",
    "test_cox_x = test_cox_x.drop(columns = ['stage_unknown'])"
   ]
  },
  {
   "cell_type": "code",
   "execution_count": 116,
   "id": "66eb123c",
   "metadata": {},
   "outputs": [
    {
     "name": "stdout",
     "output_type": "stream",
     "text": [
      "(27452, 19)\n",
      "(6863, 19)\n"
     ]
    }
   ],
   "source": [
    "print(train_cox_x.shape)\n",
    "print(test_cox_x.shape)"
   ]
  },
  {
   "cell_type": "markdown",
   "id": "c1acb4ed",
   "metadata": {},
   "source": [
    "### Processing Y"
   ]
  },
  {
   "cell_type": "code",
   "execution_count": 117,
   "id": "b9d04ff2",
   "metadata": {},
   "outputs": [],
   "source": [
    "# Convert death_status into True or False (required for scikit-survival). \n",
    "train['death_status'] = train['death_status'].astype('bool')"
   ]
  },
  {
   "cell_type": "code",
   "execution_count": 118,
   "id": "5baf3b6b",
   "metadata": {},
   "outputs": [],
   "source": [
    "y_dtypes = train[['death_status', 'timerisk_activity']].dtypes\n",
    "\n",
    "train_cox_y = np.array([tuple(x) for x in train[['death_status', 'timerisk_activity']].values],\n",
    "                       dtype = list(zip(y_dtypes.index, y_dtypes)))"
   ]
  },
  {
   "cell_type": "code",
   "execution_count": 119,
   "id": "c5f958be",
   "metadata": {},
   "outputs": [
    {
     "data": {
      "text/plain": [
       "(27452,)"
      ]
     },
     "execution_count": 119,
     "metadata": {},
     "output_type": "execute_result"
    }
   ],
   "source": [
    "train_cox_y.shape"
   ]
  },
  {
   "cell_type": "code",
   "execution_count": 120,
   "id": "498eecbd",
   "metadata": {},
   "outputs": [],
   "source": [
    "# Convert death_status into True or False (required for scikit-survival). \n",
    "test['death_status'] = test['death_status'].astype('bool')"
   ]
  },
  {
   "cell_type": "code",
   "execution_count": 121,
   "id": "1e0eb50c",
   "metadata": {},
   "outputs": [],
   "source": [
    "y_dtypes = test[['death_status', 'timerisk_activity']].dtypes\n",
    "\n",
    "test_cox_y = np.array([tuple(x) for x in test[['death_status', 'timerisk_activity']].values],\n",
    "                      dtype = list(zip(y_dtypes.index, y_dtypes)))"
   ]
  },
  {
   "cell_type": "code",
   "execution_count": 122,
   "id": "050deb6d",
   "metadata": {},
   "outputs": [
    {
     "data": {
      "text/plain": [
       "(6863,)"
      ]
     },
     "execution_count": 122,
     "metadata": {},
     "output_type": "execute_result"
    }
   ],
   "source": [
    "test_cox_y.shape"
   ]
  },
  {
   "cell_type": "markdown",
   "id": "6d3c1a99",
   "metadata": {},
   "source": [
    "### Build and assess model performance "
   ]
  },
  {
   "cell_type": "code",
   "execution_count": 123,
   "id": "0f354e92",
   "metadata": {},
   "outputs": [
    {
     "data": {
      "text/plain": [
       "CoxPHSurvivalAnalysis()"
      ]
     },
     "execution_count": 123,
     "metadata": {},
     "output_type": "execute_result"
    }
   ],
   "source": [
    "cox_crude = CoxPHSurvivalAnalysis()\n",
    "\n",
    "cox_crude.fit(train_cox_x, train_cox_y)"
   ]
  },
  {
   "cell_type": "code",
   "execution_count": 124,
   "id": "c4d04ae8",
   "metadata": {},
   "outputs": [
    {
     "name": "stdout",
     "output_type": "stream",
     "text": [
      "Test set AUC at 2 years: 0.6413335390494931\n"
     ]
    }
   ],
   "source": [
    "cox_crude_risk_scores_te = cox_crude.predict(test_cox_x)\n",
    "cox_crude_auc_te = cumulative_dynamic_auc(train_cox_y, test_cox_y, cox_crude_risk_scores_te, 730)[0][0]\n",
    "print('Test set AUC at 2 years:', cox_crude_auc_te)"
   ]
  },
  {
   "cell_type": "code",
   "execution_count": 125,
   "id": "38b175df",
   "metadata": {},
   "outputs": [
    {
     "name": "stdout",
     "output_type": "stream",
     "text": [
      "Training set AUC at 2 years: 0.6454691507363597\n"
     ]
    }
   ],
   "source": [
    "cox_crude_risk_scores_tr = cox_crude.predict(train_cox_x)\n",
    "cox_crude_auc_tr = cumulative_dynamic_auc(train_cox_y, train_cox_y, cox_crude_risk_scores_tr, 730)[0][0]\n",
    "print('Training set AUC at 2 years:', cox_crude_auc_tr)"
   ]
  },
  {
   "cell_type": "code",
   "execution_count": 126,
   "id": "80eb1b24",
   "metadata": {},
   "outputs": [],
   "source": [
    "# Bootstrap 10000 2 yr AUCs for test set \n",
    "n_bootstraps = 10000\n",
    "rng_seed = 42 \n",
    "bootstrapped_scores_te = []\n",
    "\n",
    "rng = np.random.RandomState(rng_seed)\n",
    "for i in range(n_bootstraps):\n",
    "    indices = rng.randint(0, len(cox_crude_risk_scores_te), len(cox_crude_risk_scores_te))\n",
    "    auc_yr = cumulative_dynamic_auc(train_cox_y, test_cox_y[indices], cox_crude_risk_scores_te[indices], 730)[0][0]\n",
    "    bootstrapped_scores_te.append(auc_yr)"
   ]
  },
  {
   "cell_type": "code",
   "execution_count": 127,
   "id": "665e985a",
   "metadata": {},
   "outputs": [
    {
     "name": "stdout",
     "output_type": "stream",
     "text": [
      "Test set AUC standard error: 0.00751863720762494\n"
     ]
    }
   ],
   "source": [
    "# Standard error of mean for test set AUC\n",
    "sorted_scores_te = np.array(bootstrapped_scores_te)\n",
    "sorted_scores_te.sort()\n",
    "\n",
    "conf_lower_te = sorted_scores_te[int(0.025 * len(sorted_scores_te))]\n",
    "conf_upper_te = sorted_scores_te[int(0.975 * len(sorted_scores_te))]\n",
    "\n",
    "standard_error_te = (conf_upper_te - conf_lower_te) / 3.92\n",
    "print('Test set AUC standard error:', standard_error_te)"
   ]
  },
  {
   "cell_type": "code",
   "execution_count": 128,
   "id": "62623b2e",
   "metadata": {},
   "outputs": [],
   "source": [
    "# Bootstrap 10000 2-yr AUCs for train set \n",
    "n_bootstraps = 10000\n",
    "rng_seed = 42 \n",
    "bootstrapped_scores_tr = []\n",
    "\n",
    "rng = np.random.RandomState(rng_seed)\n",
    "for i in range(n_bootstraps):\n",
    "    indices = rng.randint(0, len(cox_crude_risk_scores_tr), len(cox_crude_risk_scores_tr))\n",
    "    auc_yr = cumulative_dynamic_auc(train_cox_y, train_cox_y[indices], cox_crude_risk_scores_tr[indices], 730)[0][0]\n",
    "    bootstrapped_scores_tr.append(auc_yr)"
   ]
  },
  {
   "cell_type": "code",
   "execution_count": 129,
   "id": "eb4a3622",
   "metadata": {},
   "outputs": [
    {
     "name": "stdout",
     "output_type": "stream",
     "text": [
      "Training set AUC standard error 0.003806408910917419\n"
     ]
    }
   ],
   "source": [
    "# Standard error of mean for train set AUC\n",
    "sorted_scores_tr = np.array(bootstrapped_scores_tr)\n",
    "sorted_scores_tr.sort()\n",
    "\n",
    "conf_lower_tr = sorted_scores_tr[int(0.025 * len(sorted_scores_tr))]\n",
    "conf_upper_tr = sorted_scores_tr[int(0.975 * len(sorted_scores_tr))]\n",
    "\n",
    "standard_error_tr = (conf_upper_tr - conf_lower_tr) / 3.92\n",
    "print('Training set AUC standard error', standard_error_tr)"
   ]
  },
  {
   "cell_type": "code",
   "execution_count": 130,
   "id": "d4879245",
   "metadata": {},
   "outputs": [],
   "source": [
    "cox_auc_data = {'model': ['cox_crude'],\n",
    "                'auc_2yr_te': [cox_crude_auc_te],\n",
    "                'sem_te': [standard_error_te],\n",
    "                'auc_2yr_tr': [cox_crude_auc_tr],\n",
    "                'sem_tr': [standard_error_tr]}\n",
    "\n",
    "cox_auc_df = pd.DataFrame(cox_auc_data)"
   ]
  },
  {
   "cell_type": "code",
   "execution_count": 131,
   "id": "16092042",
   "metadata": {},
   "outputs": [
    {
     "data": {
      "text/html": [
       "<div>\n",
       "<style scoped>\n",
       "    .dataframe tbody tr th:only-of-type {\n",
       "        vertical-align: middle;\n",
       "    }\n",
       "\n",
       "    .dataframe tbody tr th {\n",
       "        vertical-align: top;\n",
       "    }\n",
       "\n",
       "    .dataframe thead th {\n",
       "        text-align: right;\n",
       "    }\n",
       "</style>\n",
       "<table border=\"1\" class=\"dataframe\">\n",
       "  <thead>\n",
       "    <tr style=\"text-align: right;\">\n",
       "      <th></th>\n",
       "      <th>model</th>\n",
       "      <th>auc_2yr_te</th>\n",
       "      <th>sem_te</th>\n",
       "      <th>auc_2yr_tr</th>\n",
       "      <th>sem_tr</th>\n",
       "    </tr>\n",
       "  </thead>\n",
       "  <tbody>\n",
       "    <tr>\n",
       "      <th>0</th>\n",
       "      <td>cox_crude</td>\n",
       "      <td>0.641334</td>\n",
       "      <td>0.007519</td>\n",
       "      <td>0.645469</td>\n",
       "      <td>0.003806</td>\n",
       "    </tr>\n",
       "  </tbody>\n",
       "</table>\n",
       "</div>"
      ],
      "text/plain": [
       "       model  auc_2yr_te    sem_te  auc_2yr_tr    sem_tr\n",
       "0  cox_crude    0.641334  0.007519    0.645469  0.003806"
      ]
     },
     "execution_count": 131,
     "metadata": {},
     "output_type": "execute_result"
    }
   ],
   "source": [
    "cox_auc_df"
   ]
  },
  {
   "cell_type": "code",
   "execution_count": 132,
   "id": "b3c1943d",
   "metadata": {},
   "outputs": [],
   "source": [
    "cox_auc_df.to_csv('cox_auc_df.csv', index = False, header = True)"
   ]
  },
  {
   "cell_type": "code",
   "execution_count": 133,
   "id": "750884a6",
   "metadata": {},
   "outputs": [],
   "source": [
    "times = np.arange(30, 1810, 30)\n",
    "crude_cox_auc_over5 = cumulative_dynamic_auc(train_cox_y, test_cox_y, cox_crude_risk_scores_te, times)[0]\n",
    "\n",
    "times_data = {}\n",
    "values = crude_cox_auc_over5\n",
    "time_names = []\n",
    "\n",
    "for x in range(len(times)):\n",
    "    time_names.append('time_'+str(times[x]))\n",
    "\n",
    "for i in range(len(time_names)):\n",
    "    times_data[time_names[i]] = values[i]\n",
    "    \n",
    "cox_auc_over5 = pd.DataFrame(times_data, index = ['cox_crude'])"
   ]
  },
  {
   "cell_type": "code",
   "execution_count": 134,
   "id": "624df9a4",
   "metadata": {},
   "outputs": [
    {
     "data": {
      "text/html": [
       "<div>\n",
       "<style scoped>\n",
       "    .dataframe tbody tr th:only-of-type {\n",
       "        vertical-align: middle;\n",
       "    }\n",
       "\n",
       "    .dataframe tbody tr th {\n",
       "        vertical-align: top;\n",
       "    }\n",
       "\n",
       "    .dataframe thead th {\n",
       "        text-align: right;\n",
       "    }\n",
       "</style>\n",
       "<table border=\"1\" class=\"dataframe\">\n",
       "  <thead>\n",
       "    <tr style=\"text-align: right;\">\n",
       "      <th></th>\n",
       "      <th>time_30</th>\n",
       "      <th>time_60</th>\n",
       "      <th>time_90</th>\n",
       "      <th>time_120</th>\n",
       "      <th>time_150</th>\n",
       "      <th>time_180</th>\n",
       "      <th>time_210</th>\n",
       "      <th>time_240</th>\n",
       "      <th>time_270</th>\n",
       "      <th>time_300</th>\n",
       "      <th>...</th>\n",
       "      <th>time_1530</th>\n",
       "      <th>time_1560</th>\n",
       "      <th>time_1590</th>\n",
       "      <th>time_1620</th>\n",
       "      <th>time_1650</th>\n",
       "      <th>time_1680</th>\n",
       "      <th>time_1710</th>\n",
       "      <th>time_1740</th>\n",
       "      <th>time_1770</th>\n",
       "      <th>time_1800</th>\n",
       "    </tr>\n",
       "  </thead>\n",
       "  <tbody>\n",
       "    <tr>\n",
       "      <th>cox_crude</th>\n",
       "      <td>0.684849</td>\n",
       "      <td>0.673378</td>\n",
       "      <td>0.688523</td>\n",
       "      <td>0.680508</td>\n",
       "      <td>0.667829</td>\n",
       "      <td>0.667237</td>\n",
       "      <td>0.664302</td>\n",
       "      <td>0.663377</td>\n",
       "      <td>0.658468</td>\n",
       "      <td>0.653381</td>\n",
       "      <td>...</td>\n",
       "      <td>0.639717</td>\n",
       "      <td>0.639204</td>\n",
       "      <td>0.637584</td>\n",
       "      <td>0.633764</td>\n",
       "      <td>0.632305</td>\n",
       "      <td>0.63068</td>\n",
       "      <td>0.632406</td>\n",
       "      <td>0.637725</td>\n",
       "      <td>0.63637</td>\n",
       "      <td>0.637921</td>\n",
       "    </tr>\n",
       "  </tbody>\n",
       "</table>\n",
       "<p>1 rows × 60 columns</p>\n",
       "</div>"
      ],
      "text/plain": [
       "            time_30   time_60   time_90  time_120  time_150  time_180  \\\n",
       "cox_crude  0.684849  0.673378  0.688523  0.680508  0.667829  0.667237   \n",
       "\n",
       "           time_210  time_240  time_270  time_300  ...  time_1530  time_1560  \\\n",
       "cox_crude  0.664302  0.663377  0.658468  0.653381  ...   0.639717   0.639204   \n",
       "\n",
       "           time_1590  time_1620  time_1650  time_1680  time_1710  time_1740  \\\n",
       "cox_crude   0.637584   0.633764   0.632305    0.63068   0.632406   0.637725   \n",
       "\n",
       "           time_1770  time_1800  \n",
       "cox_crude    0.63637   0.637921  \n",
       "\n",
       "[1 rows x 60 columns]"
      ]
     },
     "execution_count": 134,
     "metadata": {},
     "output_type": "execute_result"
    }
   ],
   "source": [
    "cox_auc_over5"
   ]
  },
  {
   "cell_type": "code",
   "execution_count": 135,
   "id": "113a18b2",
   "metadata": {},
   "outputs": [],
   "source": [
    "cox_auc_over5.to_csv('cox_auc_over5.csv', index = True, header = True)"
   ]
  },
  {
   "cell_type": "markdown",
   "id": "8e8b0f69",
   "metadata": {},
   "source": [
    "## 3. Complete cases"
   ]
  },
  {
   "cell_type": "markdown",
   "id": "a421692a",
   "metadata": {},
   "source": [
    "**This Cox build will look at complete cases only. Specifically excluding patients with unknown stage, SES, or labs**"
   ]
  },
  {
   "cell_type": "markdown",
   "id": "7eb6c58c",
   "metadata": {},
   "source": [
    "### Remove patients with missing values "
   ]
  },
  {
   "cell_type": "code",
   "execution_count": 136,
   "id": "209c2c0f",
   "metadata": {},
   "outputs": [],
   "source": [
    "train_cox_cc = (\n",
    "    train\n",
    "    .query('stage != \"unknown\"')\n",
    "    .query('ses.notna()', engine = 'python')\n",
    "    .query('platelet_diag.notna()', engine = 'python')\n",
    "    .query('alt_diag.notna() or total_bilirubin_diag.notna() or ggt_diag.notna()', engine = 'python')\n",
    ")"
   ]
  },
  {
   "cell_type": "code",
   "execution_count": 137,
   "id": "39b69e5a",
   "metadata": {},
   "outputs": [],
   "source": [
    "test_cox_cc = (\n",
    "    test\n",
    "    .query('stage != \"unknown\"')\n",
    "    .query('ses.notna()', engine = 'python')\n",
    "    .query('platelet_diag.notna()', engine = 'python')\n",
    "    .query('alt_diag.notna() or total_bilirubin_diag.notna() or ggt_diag.notna()', engine = 'python')\n",
    ")"
   ]
  },
  {
   "cell_type": "markdown",
   "id": "d0895d9c",
   "metadata": {},
   "source": [
    "### Processing X "
   ]
  },
  {
   "cell_type": "markdown",
   "id": "0a5be90a",
   "metadata": {},
   "source": [
    "#### Select relevant variables"
   ]
  },
  {
   "cell_type": "code",
   "execution_count": 138,
   "id": "e9a5f02d",
   "metadata": {},
   "outputs": [],
   "source": [
    "train_cox_cc_x = (\n",
    "    train_cox_cc\n",
    "    .filter(items = [\n",
    "        'PatientID',\n",
    "        'age',\n",
    "        'ses',\n",
    "        'stage',\n",
    "        'adjuv',\n",
    "        'raised_plt',\n",
    "        'ab_lft',\n",
    "        'cardiovascular',\n",
    "        'diabetes',\n",
    "        'crd',\n",
    "        'copd',\n",
    "        'aspirin']))"
   ]
  },
  {
   "cell_type": "code",
   "execution_count": 139,
   "id": "25a6b4a4",
   "metadata": {},
   "outputs": [],
   "source": [
    "train_cox_cc_x = train_cox_cc_x.set_index('PatientID')"
   ]
  },
  {
   "cell_type": "code",
   "execution_count": 140,
   "id": "2bc17d2d",
   "metadata": {},
   "outputs": [
    {
     "data": {
      "text/plain": [
       "(10715, 11)"
      ]
     },
     "execution_count": 140,
     "metadata": {},
     "output_type": "execute_result"
    }
   ],
   "source": [
    "train_cox_cc_x.shape"
   ]
  },
  {
   "cell_type": "code",
   "execution_count": 141,
   "id": "e8b0a909",
   "metadata": {},
   "outputs": [],
   "source": [
    "test_cox_cc_x = (\n",
    "    test_cox_cc\n",
    "    .filter(items = [\n",
    "        'PatientID',\n",
    "        'age',\n",
    "        'ses',\n",
    "        'stage',\n",
    "        'adjuv',\n",
    "        'raised_plt',\n",
    "        'ab_lft',\n",
    "        'cardiovascular',\n",
    "        'diabetes',\n",
    "        'crd',\n",
    "        'copd',\n",
    "        'aspirin']))"
   ]
  },
  {
   "cell_type": "code",
   "execution_count": 142,
   "id": "de65b232",
   "metadata": {},
   "outputs": [],
   "source": [
    "test_cox_cc_x = test_cox_cc_x.set_index('PatientID')"
   ]
  },
  {
   "cell_type": "code",
   "execution_count": 143,
   "id": "120b8fd3",
   "metadata": {},
   "outputs": [
    {
     "data": {
      "text/plain": [
       "(2699, 11)"
      ]
     },
     "execution_count": 143,
     "metadata": {},
     "output_type": "execute_result"
    }
   ],
   "source": [
    "test_cox_cc_x.shape"
   ]
  },
  {
   "cell_type": "markdown",
   "id": "c2e85f54",
   "metadata": {},
   "source": [
    "#### Convert relevant varibles to categorical "
   ]
  },
  {
   "cell_type": "code",
   "execution_count": 144,
   "id": "31d58b44",
   "metadata": {},
   "outputs": [
    {
     "data": {
      "text/plain": [
       "['stage']"
      ]
     },
     "execution_count": 144,
     "metadata": {},
     "output_type": "execute_result"
    }
   ],
   "source": [
    "list(train_cox_cc_x.select_dtypes(include = ['object']).columns)"
   ]
  },
  {
   "cell_type": "code",
   "execution_count": 145,
   "id": "2ede457d",
   "metadata": {},
   "outputs": [],
   "source": [
    "to_be_categorical = list(train_cox_cc_x.select_dtypes(include = ['object']).columns)"
   ]
  },
  {
   "cell_type": "code",
   "execution_count": 146,
   "id": "8286d740",
   "metadata": {},
   "outputs": [],
   "source": [
    "to_be_categorical.append('ses')\n",
    "to_be_categorical.append('adjuv')\n",
    "to_be_categorical.append('raised_plt')\n",
    "to_be_categorical.append('ab_lft')\n",
    "to_be_categorical.append('cardiovascular')\n",
    "to_be_categorical.append('diabetes')\n",
    "to_be_categorical.append('crd')\n",
    "to_be_categorical.append('copd')\n",
    "to_be_categorical.append('aspirin')"
   ]
  },
  {
   "cell_type": "code",
   "execution_count": 147,
   "id": "6785feb4",
   "metadata": {},
   "outputs": [],
   "source": [
    "for x in list(to_be_categorical):\n",
    "    train_cox_cc_x[x] = train_cox_cc_x[x].astype('category')"
   ]
  },
  {
   "cell_type": "code",
   "execution_count": 148,
   "id": "10117f94",
   "metadata": {},
   "outputs": [
    {
     "data": {
      "text/plain": [
       "age                  int64\n",
       "ses               category\n",
       "stage             category\n",
       "adjuv             category\n",
       "raised_plt        category\n",
       "ab_lft            category\n",
       "cardiovascular    category\n",
       "diabetes          category\n",
       "crd               category\n",
       "copd              category\n",
       "aspirin           category\n",
       "dtype: object"
      ]
     },
     "execution_count": 148,
     "metadata": {},
     "output_type": "execute_result"
    }
   ],
   "source": [
    "train_cox_cc_x.dtypes"
   ]
  },
  {
   "cell_type": "code",
   "execution_count": 149,
   "id": "d36c4d51",
   "metadata": {},
   "outputs": [],
   "source": [
    "for x in list(to_be_categorical):\n",
    "    test_cox_cc_x[x] = test_cox_cc_x[x].astype('category')"
   ]
  },
  {
   "cell_type": "markdown",
   "id": "d32e97c0",
   "metadata": {},
   "source": [
    "#### Dummy encode categorical variables "
   ]
  },
  {
   "cell_type": "code",
   "execution_count": 150,
   "id": "cc74f89d",
   "metadata": {},
   "outputs": [],
   "source": [
    "# Dummy variables for ses\n",
    "train_cox_cc_x = encode_and_bind(train_cox_cc_x, 'ses')\n",
    "train_cox_cc_x = train_cox_cc_x.drop(columns = ['ses_5.0'])\n",
    "\n",
    "test_cox_cc_x = encode_and_bind(test_cox_cc_x, 'ses')\n",
    "test_cox_cc_x = test_cox_cc_x.drop(columns = ['ses_5.0'])\n",
    "\n",
    "# Dummy variables for stage \n",
    "train_cox_cc_x = encode_and_bind(train_cox_cc_x, 'stage')\n",
    "train_cox_cc_x = train_cox_cc_x.drop(columns = ['stage_I', 'stage_0'])\n",
    "\n",
    "test_cox_cc_x = encode_and_bind(test_cox_cc_x, 'stage')\n",
    "test_cox_cc_x = test_cox_cc_x.drop(columns = ['stage_I'])"
   ]
  },
  {
   "cell_type": "code",
   "execution_count": 151,
   "id": "fb2ccc52",
   "metadata": {},
   "outputs": [
    {
     "name": "stdout",
     "output_type": "stream",
     "text": [
      "(10715, 16)\n",
      "(2699, 16)\n"
     ]
    }
   ],
   "source": [
    "print(train_cox_cc_x.shape)\n",
    "print(test_cox_cc_x.shape)"
   ]
  },
  {
   "cell_type": "markdown",
   "id": "b39c442a",
   "metadata": {},
   "source": [
    "### Processing Y"
   ]
  },
  {
   "cell_type": "code",
   "execution_count": 152,
   "id": "4981e3f0",
   "metadata": {},
   "outputs": [],
   "source": [
    "y_dtypes = train[['death_status', 'timerisk_activity']].dtypes\n",
    "\n",
    "train_cox_cc_y = np.array([tuple(x) for x in train_cox_cc[['death_status', 'timerisk_activity']].values],\n",
    "                          dtype = list(zip(y_dtypes.index, y_dtypes)))"
   ]
  },
  {
   "cell_type": "code",
   "execution_count": 153,
   "id": "b41bd782",
   "metadata": {},
   "outputs": [
    {
     "data": {
      "text/plain": [
       "(10715,)"
      ]
     },
     "execution_count": 153,
     "metadata": {},
     "output_type": "execute_result"
    }
   ],
   "source": [
    "train_cox_cc_y.shape"
   ]
  },
  {
   "cell_type": "code",
   "execution_count": 154,
   "id": "6110a2b7",
   "metadata": {},
   "outputs": [],
   "source": [
    "y_dtypes = test[['death_status', 'timerisk_activity']].dtypes\n",
    "\n",
    "test_cox_cc_y = np.array([tuple(x) for x in test_cox_cc[['death_status', 'timerisk_activity']].values],\n",
    "                         dtype = list(zip(y_dtypes.index, y_dtypes)))"
   ]
  },
  {
   "cell_type": "code",
   "execution_count": 155,
   "id": "fcfcdf4f",
   "metadata": {},
   "outputs": [
    {
     "data": {
      "text/plain": [
       "(2699,)"
      ]
     },
     "execution_count": 155,
     "metadata": {},
     "output_type": "execute_result"
    }
   ],
   "source": [
    "test_cox_cc_y.shape"
   ]
  },
  {
   "cell_type": "markdown",
   "id": "fb1caafd",
   "metadata": {},
   "source": [
    "### Build and assess model performance"
   ]
  },
  {
   "cell_type": "code",
   "execution_count": 156,
   "id": "da75466b",
   "metadata": {},
   "outputs": [
    {
     "data": {
      "text/plain": [
       "CoxPHSurvivalAnalysis()"
      ]
     },
     "execution_count": 156,
     "metadata": {},
     "output_type": "execute_result"
    }
   ],
   "source": [
    "cox_cc = CoxPHSurvivalAnalysis()\n",
    "\n",
    "cox_cc.fit(train_cox_cc_x, train_cox_cc_y)"
   ]
  },
  {
   "cell_type": "code",
   "execution_count": 157,
   "id": "87f7cef4",
   "metadata": {},
   "outputs": [
    {
     "name": "stdout",
     "output_type": "stream",
     "text": [
      "Test set AUC at 2 years: 0.638517217248732\n"
     ]
    }
   ],
   "source": [
    "cox_cc_risk_scores_te = cox_cc.predict(test_cox_cc_x)\n",
    "cox_cc_auc_te = cumulative_dynamic_auc(train_cox_cc_y, test_cox_cc_y, cox_cc_risk_scores_te, 730)[0][0]\n",
    "print('Test set AUC at 2 years:', cox_cc_auc_te)"
   ]
  },
  {
   "cell_type": "code",
   "execution_count": 158,
   "id": "6b246eb2",
   "metadata": {},
   "outputs": [
    {
     "name": "stdout",
     "output_type": "stream",
     "text": [
      "Training set AUC at 2 years: 0.6503900451309126\n"
     ]
    }
   ],
   "source": [
    "cox_cc_risk_scores_tr = cox_cc.predict(train_cox_cc_x)\n",
    "cox_cc_auc_tr = cumulative_dynamic_auc(train_cox_cc_y, train_cox_cc_y, cox_cc_risk_scores_tr, 730)[0][0]\n",
    "print('Training set AUC at 2 years:', cox_cc_auc_tr)"
   ]
  },
  {
   "cell_type": "code",
   "execution_count": 159,
   "id": "851f6288",
   "metadata": {},
   "outputs": [],
   "source": [
    "# Bootstrap 10000 1 yr AUCs for test set \n",
    "n_bootstraps = 10000\n",
    "rng_seed = 42 \n",
    "bootstrapped_scores_te = []\n",
    "\n",
    "rng = np.random.RandomState(rng_seed)\n",
    "for i in range(n_bootstraps):\n",
    "    indices = rng.randint(0, len(cox_cc_risk_scores_te), len(cox_cc_risk_scores_te))\n",
    "    auc_yr = cumulative_dynamic_auc(train_cox_cc_y, test_cox_cc_y[indices], cox_cc_risk_scores_te[indices], 730)[0][0]\n",
    "    bootstrapped_scores_te.append(auc_yr)"
   ]
  },
  {
   "cell_type": "code",
   "execution_count": 160,
   "id": "be7ae332",
   "metadata": {},
   "outputs": [
    {
     "name": "stdout",
     "output_type": "stream",
     "text": [
      "Test set AUC standard error: 0.01217997342931366\n"
     ]
    }
   ],
   "source": [
    "# Standard error of mean for test set AUC\n",
    "sorted_scores_te = np.array(bootstrapped_scores_te)\n",
    "sorted_scores_te.sort()\n",
    "\n",
    "conf_lower_te = sorted_scores_te[int(0.025 * len(sorted_scores_te))]\n",
    "conf_upper_te = sorted_scores_te[int(0.975 * len(sorted_scores_te))]\n",
    "\n",
    "standard_error_te = (conf_upper_te - conf_lower_te) / 3.92\n",
    "print('Test set AUC standard error:', standard_error_te)"
   ]
  },
  {
   "cell_type": "code",
   "execution_count": 161,
   "id": "f838a165",
   "metadata": {},
   "outputs": [],
   "source": [
    "# Bootstrap 10000 1-yr AUCs for train set \n",
    "n_bootstraps = 10000\n",
    "rng_seed = 42 \n",
    "bootstrapped_scores_tr = []\n",
    "\n",
    "rng = np.random.RandomState(rng_seed)\n",
    "for i in range(n_bootstraps):\n",
    "    indices = rng.randint(0, len(cox_cc_risk_scores_tr), len(cox_cc_risk_scores_tr))\n",
    "    auc_yr = cumulative_dynamic_auc(train_cox_cc_y, train_cox_cc_y[indices], cox_cc_risk_scores_tr[indices], 730)[0][0]\n",
    "    bootstrapped_scores_tr.append(auc_yr)"
   ]
  },
  {
   "cell_type": "code",
   "execution_count": 162,
   "id": "0b4cc018",
   "metadata": {},
   "outputs": [
    {
     "name": "stdout",
     "output_type": "stream",
     "text": [
      "Training set AUC standard error 0.005999249018900298\n"
     ]
    }
   ],
   "source": [
    "# Standard error of mean for train set AUC\n",
    "sorted_scores_tr = np.array(bootstrapped_scores_tr)\n",
    "sorted_scores_tr.sort()\n",
    "\n",
    "conf_lower_tr = sorted_scores_tr[int(0.025 * len(sorted_scores_tr))]\n",
    "conf_upper_tr = sorted_scores_tr[int(0.975 * len(sorted_scores_tr))]\n",
    "\n",
    "standard_error_tr = (conf_upper_tr - conf_lower_tr) / 3.92\n",
    "print('Training set AUC standard error', standard_error_tr)"
   ]
  },
  {
   "cell_type": "code",
   "execution_count": 163,
   "id": "163482af",
   "metadata": {},
   "outputs": [],
   "source": [
    "cox_auc_data = {'model': 'cox_cc',\n",
    "                'auc_2yr_te': cox_cc_auc_te,\n",
    "                'sem_te': standard_error_te,\n",
    "                'auc_2yr_tr': cox_cc_auc_tr,\n",
    "                'sem_tr': standard_error_tr}"
   ]
  },
  {
   "cell_type": "code",
   "execution_count": 164,
   "id": "5a3c31ef",
   "metadata": {},
   "outputs": [],
   "source": [
    "cox_auc_df = pd.read_csv('cox_auc_df.csv')"
   ]
  },
  {
   "cell_type": "code",
   "execution_count": 165,
   "id": "aba252af",
   "metadata": {},
   "outputs": [],
   "source": [
    "cox_auc_df = cox_auc_df.append(cox_auc_data, ignore_index = True)"
   ]
  },
  {
   "cell_type": "code",
   "execution_count": 166,
   "id": "3bbbf4c6",
   "metadata": {},
   "outputs": [
    {
     "data": {
      "text/html": [
       "<div>\n",
       "<style scoped>\n",
       "    .dataframe tbody tr th:only-of-type {\n",
       "        vertical-align: middle;\n",
       "    }\n",
       "\n",
       "    .dataframe tbody tr th {\n",
       "        vertical-align: top;\n",
       "    }\n",
       "\n",
       "    .dataframe thead th {\n",
       "        text-align: right;\n",
       "    }\n",
       "</style>\n",
       "<table border=\"1\" class=\"dataframe\">\n",
       "  <thead>\n",
       "    <tr style=\"text-align: right;\">\n",
       "      <th></th>\n",
       "      <th>model</th>\n",
       "      <th>auc_2yr_te</th>\n",
       "      <th>sem_te</th>\n",
       "      <th>auc_2yr_tr</th>\n",
       "      <th>sem_tr</th>\n",
       "    </tr>\n",
       "  </thead>\n",
       "  <tbody>\n",
       "    <tr>\n",
       "      <th>0</th>\n",
       "      <td>cox_crude</td>\n",
       "      <td>0.641334</td>\n",
       "      <td>0.007519</td>\n",
       "      <td>0.645469</td>\n",
       "      <td>0.003806</td>\n",
       "    </tr>\n",
       "    <tr>\n",
       "      <th>1</th>\n",
       "      <td>cox_cc</td>\n",
       "      <td>0.638517</td>\n",
       "      <td>0.012180</td>\n",
       "      <td>0.650390</td>\n",
       "      <td>0.005999</td>\n",
       "    </tr>\n",
       "  </tbody>\n",
       "</table>\n",
       "</div>"
      ],
      "text/plain": [
       "       model  auc_2yr_te    sem_te  auc_2yr_tr    sem_tr\n",
       "0  cox_crude    0.641334  0.007519    0.645469  0.003806\n",
       "1     cox_cc    0.638517  0.012180    0.650390  0.005999"
      ]
     },
     "execution_count": 166,
     "metadata": {},
     "output_type": "execute_result"
    }
   ],
   "source": [
    "cox_auc_df"
   ]
  },
  {
   "cell_type": "code",
   "execution_count": 167,
   "id": "cb5c5e47",
   "metadata": {},
   "outputs": [],
   "source": [
    "cox_auc_df.to_csv('cox_auc_df.csv', index = False, header = True)"
   ]
  },
  {
   "cell_type": "code",
   "execution_count": 168,
   "id": "f13e9485",
   "metadata": {},
   "outputs": [],
   "source": [
    "times = np.arange(30, 1810, 30)\n",
    "cc_cox_auc_over5 = cumulative_dynamic_auc(train_cox_cc_y, test_cox_cc_y, cox_cc_risk_scores_te, times)[0]\n",
    "\n",
    "times_data = {}\n",
    "values = cc_cox_auc_over5\n",
    "time_names = []\n",
    "\n",
    "for x in range(len(times)):\n",
    "    time_names.append('time_'+str(times[x]))\n",
    "\n",
    "for i in range(len(time_names)):\n",
    "    times_data[time_names[i]] = values[i]\n",
    "    \n",
    "cc_cox_over5_df = pd.DataFrame(times_data, index = ['cox_cc'])"
   ]
  },
  {
   "cell_type": "code",
   "execution_count": 169,
   "id": "ab2b89e0",
   "metadata": {},
   "outputs": [],
   "source": [
    "cox_auc_over5 = pd.read_csv('cox_auc_over5.csv', index_col = 0)"
   ]
  },
  {
   "cell_type": "code",
   "execution_count": 170,
   "id": "2481ad30",
   "metadata": {},
   "outputs": [],
   "source": [
    "cox_auc_over5 = cox_auc_over5.append(cc_cox_over5_df, ignore_index = False)"
   ]
  },
  {
   "cell_type": "code",
   "execution_count": 171,
   "id": "5bf780df",
   "metadata": {},
   "outputs": [
    {
     "data": {
      "text/html": [
       "<div>\n",
       "<style scoped>\n",
       "    .dataframe tbody tr th:only-of-type {\n",
       "        vertical-align: middle;\n",
       "    }\n",
       "\n",
       "    .dataframe tbody tr th {\n",
       "        vertical-align: top;\n",
       "    }\n",
       "\n",
       "    .dataframe thead th {\n",
       "        text-align: right;\n",
       "    }\n",
       "</style>\n",
       "<table border=\"1\" class=\"dataframe\">\n",
       "  <thead>\n",
       "    <tr style=\"text-align: right;\">\n",
       "      <th></th>\n",
       "      <th>time_30</th>\n",
       "      <th>time_60</th>\n",
       "      <th>time_90</th>\n",
       "      <th>time_120</th>\n",
       "      <th>time_150</th>\n",
       "      <th>time_180</th>\n",
       "      <th>time_210</th>\n",
       "      <th>time_240</th>\n",
       "      <th>time_270</th>\n",
       "      <th>time_300</th>\n",
       "      <th>...</th>\n",
       "      <th>time_1530</th>\n",
       "      <th>time_1560</th>\n",
       "      <th>time_1590</th>\n",
       "      <th>time_1620</th>\n",
       "      <th>time_1650</th>\n",
       "      <th>time_1680</th>\n",
       "      <th>time_1710</th>\n",
       "      <th>time_1740</th>\n",
       "      <th>time_1770</th>\n",
       "      <th>time_1800</th>\n",
       "    </tr>\n",
       "  </thead>\n",
       "  <tbody>\n",
       "    <tr>\n",
       "      <th>cox_crude</th>\n",
       "      <td>0.684849</td>\n",
       "      <td>0.673378</td>\n",
       "      <td>0.688523</td>\n",
       "      <td>0.680508</td>\n",
       "      <td>0.667829</td>\n",
       "      <td>0.667237</td>\n",
       "      <td>0.664302</td>\n",
       "      <td>0.663377</td>\n",
       "      <td>0.658468</td>\n",
       "      <td>0.653381</td>\n",
       "      <td>...</td>\n",
       "      <td>0.639717</td>\n",
       "      <td>0.639204</td>\n",
       "      <td>0.637584</td>\n",
       "      <td>0.633764</td>\n",
       "      <td>0.632305</td>\n",
       "      <td>0.630680</td>\n",
       "      <td>0.632406</td>\n",
       "      <td>0.637725</td>\n",
       "      <td>0.636370</td>\n",
       "      <td>0.637921</td>\n",
       "    </tr>\n",
       "    <tr>\n",
       "      <th>cox_cc</th>\n",
       "      <td>0.684960</td>\n",
       "      <td>0.676700</td>\n",
       "      <td>0.688195</td>\n",
       "      <td>0.675908</td>\n",
       "      <td>0.663172</td>\n",
       "      <td>0.658616</td>\n",
       "      <td>0.659252</td>\n",
       "      <td>0.653853</td>\n",
       "      <td>0.651654</td>\n",
       "      <td>0.649249</td>\n",
       "      <td>...</td>\n",
       "      <td>0.644787</td>\n",
       "      <td>0.646598</td>\n",
       "      <td>0.644487</td>\n",
       "      <td>0.647270</td>\n",
       "      <td>0.650721</td>\n",
       "      <td>0.650166</td>\n",
       "      <td>0.652438</td>\n",
       "      <td>0.662345</td>\n",
       "      <td>0.666495</td>\n",
       "      <td>0.662999</td>\n",
       "    </tr>\n",
       "  </tbody>\n",
       "</table>\n",
       "<p>2 rows × 60 columns</p>\n",
       "</div>"
      ],
      "text/plain": [
       "            time_30   time_60   time_90  time_120  time_150  time_180  \\\n",
       "cox_crude  0.684849  0.673378  0.688523  0.680508  0.667829  0.667237   \n",
       "cox_cc     0.684960  0.676700  0.688195  0.675908  0.663172  0.658616   \n",
       "\n",
       "           time_210  time_240  time_270  time_300  ...  time_1530  time_1560  \\\n",
       "cox_crude  0.664302  0.663377  0.658468  0.653381  ...   0.639717   0.639204   \n",
       "cox_cc     0.659252  0.653853  0.651654  0.649249  ...   0.644787   0.646598   \n",
       "\n",
       "           time_1590  time_1620  time_1650  time_1680  time_1710  time_1740  \\\n",
       "cox_crude   0.637584   0.633764   0.632305   0.630680   0.632406   0.637725   \n",
       "cox_cc      0.644487   0.647270   0.650721   0.650166   0.652438   0.662345   \n",
       "\n",
       "           time_1770  time_1800  \n",
       "cox_crude   0.636370   0.637921  \n",
       "cox_cc      0.666495   0.662999  \n",
       "\n",
       "[2 rows x 60 columns]"
      ]
     },
     "execution_count": 171,
     "metadata": {},
     "output_type": "execute_result"
    }
   ],
   "source": [
    "cox_auc_over5"
   ]
  },
  {
   "cell_type": "code",
   "execution_count": 172,
   "id": "67afb704",
   "metadata": {},
   "outputs": [],
   "source": [
    "cox_auc_over5.to_csv('cox_auc_over5.csv', index = True, header = True)"
   ]
  },
  {
   "cell_type": "markdown",
   "id": "8f7981f2",
   "metadata": {},
   "source": [
    "## 3. Complete cases using only patients with de novo metastaic disease**"
   ]
  },
  {
   "cell_type": "markdown",
   "id": "288efb0a",
   "metadata": {},
   "source": [
    "**This Cox build will look at patients with de novo metastatic disease who have also don't have missing SES or labs**"
   ]
  },
  {
   "cell_type": "markdown",
   "id": "f55e0bc0",
   "metadata": {},
   "source": [
    "### Select de novo metastatic disease and no missing variables "
   ]
  },
  {
   "cell_type": "code",
   "execution_count": 173,
   "id": "cf21e18a",
   "metadata": {},
   "outputs": [],
   "source": [
    "train_cox_cc_dn = (\n",
    "    train\n",
    "    .query('stage == \"IV\"')\n",
    "    .query('ses.notna()', engine = 'python')\n",
    "    .query('platelet_diag.notna()', engine = 'python')\n",
    "    .query('alt_diag.notna() or total_bilirubin_diag.notna() or ggt_diag.notna()', engine = 'python')\n",
    ")"
   ]
  },
  {
   "cell_type": "code",
   "execution_count": 174,
   "id": "1bda1b40",
   "metadata": {},
   "outputs": [],
   "source": [
    "test_cox_cc_dn = (\n",
    "    test\n",
    "    .query('stage == \"IV\"')\n",
    "    .query('ses.notna()', engine = 'python')\n",
    "    .query('platelet_diag.notna()', engine = 'python')\n",
    "    .query('alt_diag.notna() or total_bilirubin_diag.notna() or ggt_diag.notna()', engine = 'python')\n",
    ")"
   ]
  },
  {
   "cell_type": "markdown",
   "id": "f6959b31",
   "metadata": {},
   "source": [
    "### Processing X "
   ]
  },
  {
   "cell_type": "markdown",
   "id": "582c0df0",
   "metadata": {},
   "source": [
    "#### Select relevant variables"
   ]
  },
  {
   "cell_type": "code",
   "execution_count": 175,
   "id": "8ec4eb0c",
   "metadata": {},
   "outputs": [],
   "source": [
    "train_cox_cc_dn_x = (\n",
    "    train_cox_cc_dn\n",
    "    .filter(items = [\n",
    "        'PatientID',\n",
    "        'age',\n",
    "        'ses',\n",
    "        'adjuv',\n",
    "        'raised_plt',\n",
    "        'ab_lft',\n",
    "        'cardiovascular',\n",
    "        'diabetes',\n",
    "        'crd',\n",
    "        'copd',\n",
    "        'aspirin']))"
   ]
  },
  {
   "cell_type": "code",
   "execution_count": 176,
   "id": "ecb68f1b",
   "metadata": {},
   "outputs": [],
   "source": [
    "train_cox_cc_dn_x = train_cox_cc_dn_x.set_index('PatientID')"
   ]
  },
  {
   "cell_type": "code",
   "execution_count": 177,
   "id": "73d2ffed",
   "metadata": {},
   "outputs": [
    {
     "data": {
      "text/plain": [
       "(5346, 10)"
      ]
     },
     "execution_count": 177,
     "metadata": {},
     "output_type": "execute_result"
    }
   ],
   "source": [
    "train_cox_cc_dn_x.shape"
   ]
  },
  {
   "cell_type": "code",
   "execution_count": 178,
   "id": "17a55326",
   "metadata": {},
   "outputs": [],
   "source": [
    "test_cox_cc_dn_x = (\n",
    "    test_cox_cc_dn\n",
    "    .filter(items = [\n",
    "        'PatientID',\n",
    "        'age',\n",
    "        'ses',\n",
    "        'adjuv',\n",
    "        'raised_plt',\n",
    "        'ab_lft',\n",
    "        'cardiovascular',\n",
    "        'diabetes',\n",
    "        'crd',\n",
    "        'copd',\n",
    "        'aspirin']))"
   ]
  },
  {
   "cell_type": "code",
   "execution_count": 179,
   "id": "cf0fcc3a",
   "metadata": {},
   "outputs": [],
   "source": [
    "test_cox_cc_dn_x = test_cox_cc_dn_x.set_index('PatientID')"
   ]
  },
  {
   "cell_type": "code",
   "execution_count": 180,
   "id": "93fa203d",
   "metadata": {},
   "outputs": [
    {
     "data": {
      "text/plain": [
       "(1371, 10)"
      ]
     },
     "execution_count": 180,
     "metadata": {},
     "output_type": "execute_result"
    }
   ],
   "source": [
    "test_cox_cc_dn_x.shape"
   ]
  },
  {
   "cell_type": "markdown",
   "id": "ebc2c64f",
   "metadata": {},
   "source": [
    "#### Convert relevant varibles to categorical "
   ]
  },
  {
   "cell_type": "code",
   "execution_count": 181,
   "id": "55d5e6c9",
   "metadata": {},
   "outputs": [
    {
     "data": {
      "text/plain": [
       "[]"
      ]
     },
     "execution_count": 181,
     "metadata": {},
     "output_type": "execute_result"
    }
   ],
   "source": [
    "list(train_cox_cc_dn_x.select_dtypes(include = ['object']).columns)"
   ]
  },
  {
   "cell_type": "code",
   "execution_count": 182,
   "id": "cd5a830d",
   "metadata": {},
   "outputs": [],
   "source": [
    "to_be_categorical = list(train_cox_cc_dn_x.select_dtypes(include = ['object']).columns)"
   ]
  },
  {
   "cell_type": "code",
   "execution_count": 183,
   "id": "de89584f",
   "metadata": {},
   "outputs": [],
   "source": [
    "to_be_categorical.append('ses')\n",
    "to_be_categorical.append('adjuv')\n",
    "to_be_categorical.append('raised_plt')\n",
    "to_be_categorical.append('ab_lft')\n",
    "to_be_categorical.append('cardiovascular')\n",
    "to_be_categorical.append('diabetes')\n",
    "to_be_categorical.append('crd')\n",
    "to_be_categorical.append('copd')\n",
    "to_be_categorical.append('aspirin')"
   ]
  },
  {
   "cell_type": "code",
   "execution_count": 184,
   "id": "371d66a4",
   "metadata": {},
   "outputs": [],
   "source": [
    "for x in list(to_be_categorical):\n",
    "    train_cox_cc_dn_x[x] = train_cox_cc_dn_x[x].astype('category')"
   ]
  },
  {
   "cell_type": "code",
   "execution_count": 185,
   "id": "c0399e43",
   "metadata": {},
   "outputs": [
    {
     "data": {
      "text/plain": [
       "age                  int64\n",
       "ses               category\n",
       "adjuv             category\n",
       "raised_plt        category\n",
       "ab_lft            category\n",
       "cardiovascular    category\n",
       "diabetes          category\n",
       "crd               category\n",
       "copd              category\n",
       "aspirin           category\n",
       "dtype: object"
      ]
     },
     "execution_count": 185,
     "metadata": {},
     "output_type": "execute_result"
    }
   ],
   "source": [
    "train_cox_cc_dn_x.dtypes"
   ]
  },
  {
   "cell_type": "code",
   "execution_count": 186,
   "id": "50d4a956",
   "metadata": {},
   "outputs": [],
   "source": [
    "for x in list(to_be_categorical):\n",
    "    test_cox_cc_dn_x[x] = test_cox_cc_dn_x[x].astype('category')"
   ]
  },
  {
   "cell_type": "markdown",
   "id": "f6292684",
   "metadata": {},
   "source": [
    "#### Dummy encode categorical variables "
   ]
  },
  {
   "cell_type": "code",
   "execution_count": 187,
   "id": "07b82a1f",
   "metadata": {},
   "outputs": [],
   "source": [
    "# Dummy variables for ses\n",
    "train_cox_cc_dn_x = encode_and_bind(train_cox_cc_dn_x, 'ses')\n",
    "train_cox_cc_dn_x = train_cox_cc_dn_x.drop(columns = ['ses_5.0'])\n",
    "\n",
    "test_cox_cc_dn_x = encode_and_bind(test_cox_cc_dn_x, 'ses')\n",
    "test_cox_cc_dn_x = test_cox_cc_dn_x.drop(columns = ['ses_5.0'])"
   ]
  },
  {
   "cell_type": "code",
   "execution_count": 188,
   "id": "8f076ca2",
   "metadata": {},
   "outputs": [
    {
     "name": "stdout",
     "output_type": "stream",
     "text": [
      "(5346, 13)\n",
      "(1371, 13)\n"
     ]
    }
   ],
   "source": [
    "print(train_cox_cc_dn_x.shape)\n",
    "print(test_cox_cc_dn_x.shape)"
   ]
  },
  {
   "cell_type": "markdown",
   "id": "f3741eef",
   "metadata": {},
   "source": [
    "### Processing Y"
   ]
  },
  {
   "cell_type": "code",
   "execution_count": 189,
   "id": "01fee7fa",
   "metadata": {},
   "outputs": [],
   "source": [
    "y_dtypes = train[['death_status', 'timerisk_activity']].dtypes\n",
    "\n",
    "train_cox_cc_dn_y = np.array([tuple(x) for x in train_cox_cc_dn[['death_status', 'timerisk_activity']].values],\n",
    "                             dtype = list(zip(y_dtypes.index, y_dtypes)))"
   ]
  },
  {
   "cell_type": "code",
   "execution_count": 190,
   "id": "7a724073",
   "metadata": {},
   "outputs": [
    {
     "data": {
      "text/plain": [
       "(5346,)"
      ]
     },
     "execution_count": 190,
     "metadata": {},
     "output_type": "execute_result"
    }
   ],
   "source": [
    "train_cox_cc_dn_y.shape"
   ]
  },
  {
   "cell_type": "code",
   "execution_count": 191,
   "id": "4af99417",
   "metadata": {},
   "outputs": [],
   "source": [
    "y_dtypes = test[['death_status', 'timerisk_activity']].dtypes\n",
    "\n",
    "test_cox_cc_dn_y = np.array([tuple(x) for x in test_cox_cc_dn[['death_status', 'timerisk_activity']].values],\n",
    "                            dtype = list(zip(y_dtypes.index, y_dtypes)))"
   ]
  },
  {
   "cell_type": "code",
   "execution_count": 192,
   "id": "2255a82f",
   "metadata": {},
   "outputs": [
    {
     "data": {
      "text/plain": [
       "(1371,)"
      ]
     },
     "execution_count": 192,
     "metadata": {},
     "output_type": "execute_result"
    }
   ],
   "source": [
    "test_cox_cc_dn_y.shape"
   ]
  },
  {
   "cell_type": "markdown",
   "id": "0799dc22",
   "metadata": {},
   "source": [
    "### Build and assess model performance"
   ]
  },
  {
   "cell_type": "code",
   "execution_count": 193,
   "id": "a6fbd64c",
   "metadata": {},
   "outputs": [
    {
     "data": {
      "text/plain": [
       "CoxPHSurvivalAnalysis()"
      ]
     },
     "execution_count": 193,
     "metadata": {},
     "output_type": "execute_result"
    }
   ],
   "source": [
    "cox_cc_dn = CoxPHSurvivalAnalysis()\n",
    "\n",
    "cox_cc_dn.fit(train_cox_cc_dn_x, train_cox_cc_dn_y)"
   ]
  },
  {
   "cell_type": "code",
   "execution_count": 194,
   "id": "6c2316b9",
   "metadata": {},
   "outputs": [
    {
     "name": "stdout",
     "output_type": "stream",
     "text": [
      "Test set AUC at 2 years: 0.62754875611693\n"
     ]
    }
   ],
   "source": [
    "cox_cc_dn_risk_scores_te = cox_cc_dn.predict(test_cox_cc_dn_x)\n",
    "cox_cc_dn_auc_te = cumulative_dynamic_auc(train_cox_cc_dn_y, test_cox_cc_dn_y, cox_cc_dn_risk_scores_te, 730)[0][0]\n",
    "print('Test set AUC at 2 years:', cox_cc_dn_auc_te)"
   ]
  },
  {
   "cell_type": "code",
   "execution_count": 195,
   "id": "32e534e7",
   "metadata": {},
   "outputs": [
    {
     "name": "stdout",
     "output_type": "stream",
     "text": [
      "Training set AUC at 2 years: 0.6499190957511551\n"
     ]
    }
   ],
   "source": [
    "cox_cc_dn_risk_scores_tr = cox_cc_dn.predict(train_cox_cc_dn_x)\n",
    "cox_cc_dn_auc_tr = cumulative_dynamic_auc(train_cox_cc_dn_y, train_cox_cc_dn_y, cox_cc_dn_risk_scores_tr, 730)[0][0]\n",
    "print('Training set AUC at 2 years:', cox_cc_dn_auc_tr)"
   ]
  },
  {
   "cell_type": "code",
   "execution_count": 196,
   "id": "36b3ecac",
   "metadata": {},
   "outputs": [],
   "source": [
    "# Bootstrap 10000 1 yr AUCs for test set \n",
    "n_bootstraps = 10000\n",
    "rng_seed = 42 \n",
    "bootstrapped_scores_te = []\n",
    "\n",
    "rng = np.random.RandomState(rng_seed)\n",
    "for i in range(n_bootstraps):\n",
    "    indices = rng.randint(0, len(cox_cc_dn_risk_scores_te), len(cox_cc_dn_risk_scores_te))\n",
    "    auc_yr = cumulative_dynamic_auc(train_cox_cc_dn_y, test_cox_cc_dn_y[indices], cox_cc_dn_risk_scores_te[indices], 730)[0][0]\n",
    "    bootstrapped_scores_te.append(auc_yr)"
   ]
  },
  {
   "cell_type": "code",
   "execution_count": 197,
   "id": "df1d65f1",
   "metadata": {},
   "outputs": [
    {
     "name": "stdout",
     "output_type": "stream",
     "text": [
      "Test set AUC standard error: 0.017420664952171296\n"
     ]
    }
   ],
   "source": [
    "# Standard error of mean for test set AUC\n",
    "sorted_scores_te = np.array(bootstrapped_scores_te)\n",
    "sorted_scores_te.sort()\n",
    "\n",
    "conf_lower_te = sorted_scores_te[int(0.025 * len(sorted_scores_te))]\n",
    "conf_upper_te = sorted_scores_te[int(0.975 * len(sorted_scores_te))]\n",
    "\n",
    "standard_error_te = (conf_upper_te - conf_lower_te) / 3.92\n",
    "print('Test set AUC standard error:', standard_error_te)"
   ]
  },
  {
   "cell_type": "code",
   "execution_count": 198,
   "id": "717ebdd1",
   "metadata": {},
   "outputs": [],
   "source": [
    "# Bootstrap 10000 1-yr AUCs for train set \n",
    "n_bootstraps = 10000\n",
    "rng_seed = 42 \n",
    "bootstrapped_scores_tr = []\n",
    "\n",
    "rng = np.random.RandomState(rng_seed)\n",
    "for i in range(n_bootstraps):\n",
    "    indices = rng.randint(0, len(cox_cc_dn_risk_scores_tr), len(cox_cc_dn_risk_scores_tr))\n",
    "    auc_yr = cumulative_dynamic_auc(train_cox_cc_dn_y, train_cox_cc_dn_y[indices], cox_cc_dn_risk_scores_tr[indices], 730)[0][0]\n",
    "    bootstrapped_scores_tr.append(auc_yr)"
   ]
  },
  {
   "cell_type": "code",
   "execution_count": 199,
   "id": "7b276198",
   "metadata": {},
   "outputs": [
    {
     "name": "stdout",
     "output_type": "stream",
     "text": [
      "Training set AUC standard error 0.008523072754855874\n"
     ]
    }
   ],
   "source": [
    "# Standard error of mean for train set AUC\n",
    "sorted_scores_tr = np.array(bootstrapped_scores_tr)\n",
    "sorted_scores_tr.sort()\n",
    "\n",
    "conf_lower_tr = sorted_scores_tr[int(0.025 * len(sorted_scores_tr))]\n",
    "conf_upper_tr = sorted_scores_tr[int(0.975 * len(sorted_scores_tr))]\n",
    "\n",
    "standard_error_tr = (conf_upper_tr - conf_lower_tr) / 3.92\n",
    "print('Training set AUC standard error', standard_error_tr)"
   ]
  },
  {
   "cell_type": "code",
   "execution_count": 200,
   "id": "6cc27069",
   "metadata": {},
   "outputs": [],
   "source": [
    "cox_auc_data = {'model': 'cox_cc_dn',\n",
    "                'auc_2yr_te': cox_cc_dn_auc_te,\n",
    "                'sem_te': standard_error_te,\n",
    "                'auc_2yr_tr': cox_cc_dn_auc_tr,\n",
    "                'sem_tr': standard_error_tr}"
   ]
  },
  {
   "cell_type": "code",
   "execution_count": 201,
   "id": "f4cdcb6c",
   "metadata": {},
   "outputs": [],
   "source": [
    "cox_auc_df = pd.read_csv('cox_auc_df.csv')"
   ]
  },
  {
   "cell_type": "code",
   "execution_count": 202,
   "id": "00293c73",
   "metadata": {},
   "outputs": [],
   "source": [
    "cox_auc_df = cox_auc_df.append(cox_auc_data, ignore_index = True)"
   ]
  },
  {
   "cell_type": "code",
   "execution_count": 203,
   "id": "8cae4752",
   "metadata": {},
   "outputs": [
    {
     "data": {
      "text/html": [
       "<div>\n",
       "<style scoped>\n",
       "    .dataframe tbody tr th:only-of-type {\n",
       "        vertical-align: middle;\n",
       "    }\n",
       "\n",
       "    .dataframe tbody tr th {\n",
       "        vertical-align: top;\n",
       "    }\n",
       "\n",
       "    .dataframe thead th {\n",
       "        text-align: right;\n",
       "    }\n",
       "</style>\n",
       "<table border=\"1\" class=\"dataframe\">\n",
       "  <thead>\n",
       "    <tr style=\"text-align: right;\">\n",
       "      <th></th>\n",
       "      <th>model</th>\n",
       "      <th>auc_2yr_te</th>\n",
       "      <th>sem_te</th>\n",
       "      <th>auc_2yr_tr</th>\n",
       "      <th>sem_tr</th>\n",
       "    </tr>\n",
       "  </thead>\n",
       "  <tbody>\n",
       "    <tr>\n",
       "      <th>0</th>\n",
       "      <td>cox_crude</td>\n",
       "      <td>0.641334</td>\n",
       "      <td>0.007519</td>\n",
       "      <td>0.645469</td>\n",
       "      <td>0.003806</td>\n",
       "    </tr>\n",
       "    <tr>\n",
       "      <th>1</th>\n",
       "      <td>cox_cc</td>\n",
       "      <td>0.638517</td>\n",
       "      <td>0.012180</td>\n",
       "      <td>0.650390</td>\n",
       "      <td>0.005999</td>\n",
       "    </tr>\n",
       "    <tr>\n",
       "      <th>2</th>\n",
       "      <td>cox_cc_dn</td>\n",
       "      <td>0.627549</td>\n",
       "      <td>0.017421</td>\n",
       "      <td>0.649919</td>\n",
       "      <td>0.008523</td>\n",
       "    </tr>\n",
       "  </tbody>\n",
       "</table>\n",
       "</div>"
      ],
      "text/plain": [
       "       model  auc_2yr_te    sem_te  auc_2yr_tr    sem_tr\n",
       "0  cox_crude    0.641334  0.007519    0.645469  0.003806\n",
       "1     cox_cc    0.638517  0.012180    0.650390  0.005999\n",
       "2  cox_cc_dn    0.627549  0.017421    0.649919  0.008523"
      ]
     },
     "execution_count": 203,
     "metadata": {},
     "output_type": "execute_result"
    }
   ],
   "source": [
    "cox_auc_df"
   ]
  },
  {
   "cell_type": "code",
   "execution_count": 204,
   "id": "dd9577a3",
   "metadata": {},
   "outputs": [],
   "source": [
    "cox_auc_df.to_csv('cox_auc_df.csv', index = False, header = True)"
   ]
  },
  {
   "cell_type": "code",
   "execution_count": 205,
   "id": "1656cfd6",
   "metadata": {},
   "outputs": [],
   "source": [
    "times = np.arange(30, 1810, 30)\n",
    "cc_dn_cox_auc_over5 = cumulative_dynamic_auc(train_cox_cc_dn_y, test_cox_cc_dn_y, cox_cc_dn_risk_scores_te, times)[0]\n",
    "\n",
    "times_data = {}\n",
    "values = cc_dn_cox_auc_over5\n",
    "time_names = []\n",
    "\n",
    "for x in range(len(times)):\n",
    "    time_names.append('time_'+str(times[x]))\n",
    "\n",
    "for i in range(len(time_names)):\n",
    "    times_data[time_names[i]] = values[i]\n",
    "    \n",
    "cc_dn_cox_over5_df = pd.DataFrame(times_data, index = ['cox_cc_dn'])"
   ]
  },
  {
   "cell_type": "code",
   "execution_count": 206,
   "id": "286e5b57",
   "metadata": {},
   "outputs": [],
   "source": [
    "cox_auc_over5 = pd.read_csv('cox_auc_over5.csv', index_col = 0)"
   ]
  },
  {
   "cell_type": "code",
   "execution_count": 207,
   "id": "ce712c79",
   "metadata": {},
   "outputs": [],
   "source": [
    "cox_auc_over5 = cox_auc_over5.append(cc_dn_cox_over5_df, ignore_index = False)"
   ]
  },
  {
   "cell_type": "code",
   "execution_count": 208,
   "id": "08c99bf9",
   "metadata": {},
   "outputs": [
    {
     "data": {
      "text/html": [
       "<div>\n",
       "<style scoped>\n",
       "    .dataframe tbody tr th:only-of-type {\n",
       "        vertical-align: middle;\n",
       "    }\n",
       "\n",
       "    .dataframe tbody tr th {\n",
       "        vertical-align: top;\n",
       "    }\n",
       "\n",
       "    .dataframe thead th {\n",
       "        text-align: right;\n",
       "    }\n",
       "</style>\n",
       "<table border=\"1\" class=\"dataframe\">\n",
       "  <thead>\n",
       "    <tr style=\"text-align: right;\">\n",
       "      <th></th>\n",
       "      <th>time_30</th>\n",
       "      <th>time_60</th>\n",
       "      <th>time_90</th>\n",
       "      <th>time_120</th>\n",
       "      <th>time_150</th>\n",
       "      <th>time_180</th>\n",
       "      <th>time_210</th>\n",
       "      <th>time_240</th>\n",
       "      <th>time_270</th>\n",
       "      <th>time_300</th>\n",
       "      <th>...</th>\n",
       "      <th>time_1530</th>\n",
       "      <th>time_1560</th>\n",
       "      <th>time_1590</th>\n",
       "      <th>time_1620</th>\n",
       "      <th>time_1650</th>\n",
       "      <th>time_1680</th>\n",
       "      <th>time_1710</th>\n",
       "      <th>time_1740</th>\n",
       "      <th>time_1770</th>\n",
       "      <th>time_1800</th>\n",
       "    </tr>\n",
       "  </thead>\n",
       "  <tbody>\n",
       "    <tr>\n",
       "      <th>cox_crude</th>\n",
       "      <td>0.684849</td>\n",
       "      <td>0.673378</td>\n",
       "      <td>0.688523</td>\n",
       "      <td>0.680508</td>\n",
       "      <td>0.667829</td>\n",
       "      <td>0.667237</td>\n",
       "      <td>0.664302</td>\n",
       "      <td>0.663377</td>\n",
       "      <td>0.658468</td>\n",
       "      <td>0.653381</td>\n",
       "      <td>...</td>\n",
       "      <td>0.639717</td>\n",
       "      <td>0.639204</td>\n",
       "      <td>0.637584</td>\n",
       "      <td>0.633764</td>\n",
       "      <td>0.632305</td>\n",
       "      <td>0.630680</td>\n",
       "      <td>0.632406</td>\n",
       "      <td>0.637725</td>\n",
       "      <td>0.636370</td>\n",
       "      <td>0.637921</td>\n",
       "    </tr>\n",
       "    <tr>\n",
       "      <th>cox_cc</th>\n",
       "      <td>0.684960</td>\n",
       "      <td>0.676700</td>\n",
       "      <td>0.688195</td>\n",
       "      <td>0.675908</td>\n",
       "      <td>0.663172</td>\n",
       "      <td>0.658616</td>\n",
       "      <td>0.659252</td>\n",
       "      <td>0.653853</td>\n",
       "      <td>0.651654</td>\n",
       "      <td>0.649249</td>\n",
       "      <td>...</td>\n",
       "      <td>0.644787</td>\n",
       "      <td>0.646598</td>\n",
       "      <td>0.644487</td>\n",
       "      <td>0.647270</td>\n",
       "      <td>0.650721</td>\n",
       "      <td>0.650166</td>\n",
       "      <td>0.652438</td>\n",
       "      <td>0.662345</td>\n",
       "      <td>0.666495</td>\n",
       "      <td>0.662999</td>\n",
       "    </tr>\n",
       "    <tr>\n",
       "      <th>cox_cc_dn</th>\n",
       "      <td>0.774638</td>\n",
       "      <td>0.707427</td>\n",
       "      <td>0.715662</td>\n",
       "      <td>0.692114</td>\n",
       "      <td>0.685690</td>\n",
       "      <td>0.677480</td>\n",
       "      <td>0.668571</td>\n",
       "      <td>0.666876</td>\n",
       "      <td>0.661479</td>\n",
       "      <td>0.661678</td>\n",
       "      <td>...</td>\n",
       "      <td>0.676489</td>\n",
       "      <td>0.675633</td>\n",
       "      <td>0.673224</td>\n",
       "      <td>0.675832</td>\n",
       "      <td>0.680710</td>\n",
       "      <td>0.675896</td>\n",
       "      <td>0.678305</td>\n",
       "      <td>0.680421</td>\n",
       "      <td>0.689083</td>\n",
       "      <td>0.687752</td>\n",
       "    </tr>\n",
       "  </tbody>\n",
       "</table>\n",
       "<p>3 rows × 60 columns</p>\n",
       "</div>"
      ],
      "text/plain": [
       "            time_30   time_60   time_90  time_120  time_150  time_180  \\\n",
       "cox_crude  0.684849  0.673378  0.688523  0.680508  0.667829  0.667237   \n",
       "cox_cc     0.684960  0.676700  0.688195  0.675908  0.663172  0.658616   \n",
       "cox_cc_dn  0.774638  0.707427  0.715662  0.692114  0.685690  0.677480   \n",
       "\n",
       "           time_210  time_240  time_270  time_300  ...  time_1530  time_1560  \\\n",
       "cox_crude  0.664302  0.663377  0.658468  0.653381  ...   0.639717   0.639204   \n",
       "cox_cc     0.659252  0.653853  0.651654  0.649249  ...   0.644787   0.646598   \n",
       "cox_cc_dn  0.668571  0.666876  0.661479  0.661678  ...   0.676489   0.675633   \n",
       "\n",
       "           time_1590  time_1620  time_1650  time_1680  time_1710  time_1740  \\\n",
       "cox_crude   0.637584   0.633764   0.632305   0.630680   0.632406   0.637725   \n",
       "cox_cc      0.644487   0.647270   0.650721   0.650166   0.652438   0.662345   \n",
       "cox_cc_dn   0.673224   0.675832   0.680710   0.675896   0.678305   0.680421   \n",
       "\n",
       "           time_1770  time_1800  \n",
       "cox_crude   0.636370   0.637921  \n",
       "cox_cc      0.666495   0.662999  \n",
       "cox_cc_dn   0.689083   0.687752  \n",
       "\n",
       "[3 rows x 60 columns]"
      ]
     },
     "execution_count": 208,
     "metadata": {},
     "output_type": "execute_result"
    }
   ],
   "source": [
    "cox_auc_over5"
   ]
  },
  {
   "cell_type": "code",
   "execution_count": 209,
   "id": "cdaab0d2",
   "metadata": {},
   "outputs": [],
   "source": [
    "cox_auc_over5.to_csv('cox_auc_over5.csv', index = True, header = True)"
   ]
  },
  {
   "cell_type": "code",
   "execution_count": 210,
   "id": "81336c43",
   "metadata": {},
   "outputs": [],
   "source": [
    "ml_auc_df = pd.read_csv('ml_auc_df.csv', dtype = {'auc_2yr_te': np.float64,\n",
    "                                                  'sem_te': np.float64,\n",
    "                                                  'auc_2yr_tr': np.float64,\n",
    "                                                  'sem_tr': np.float64})"
   ]
  },
  {
   "cell_type": "code",
   "execution_count": 211,
   "id": "9d293c5d",
   "metadata": {},
   "outputs": [
    {
     "data": {
      "text/html": [
       "<div>\n",
       "<style scoped>\n",
       "    .dataframe tbody tr th:only-of-type {\n",
       "        vertical-align: middle;\n",
       "    }\n",
       "\n",
       "    .dataframe tbody tr th {\n",
       "        vertical-align: top;\n",
       "    }\n",
       "\n",
       "    .dataframe thead th {\n",
       "        text-align: right;\n",
       "    }\n",
       "</style>\n",
       "<table border=\"1\" class=\"dataframe\">\n",
       "  <thead>\n",
       "    <tr style=\"text-align: right;\">\n",
       "      <th></th>\n",
       "      <th>model</th>\n",
       "      <th>auc_2yr_te</th>\n",
       "      <th>sem_te</th>\n",
       "      <th>auc_2yr_tr</th>\n",
       "      <th>sem_tr</th>\n",
       "    </tr>\n",
       "  </thead>\n",
       "  <tbody>\n",
       "    <tr>\n",
       "      <th>0</th>\n",
       "      <td>gbm_crude</td>\n",
       "      <td>0.767784</td>\n",
       "      <td>0.006411</td>\n",
       "      <td>0.817127</td>\n",
       "      <td>0.002841</td>\n",
       "    </tr>\n",
       "    <tr>\n",
       "      <th>1</th>\n",
       "      <td>rsf_crude</td>\n",
       "      <td>0.743442</td>\n",
       "      <td>0.006667</td>\n",
       "      <td>0.878791</td>\n",
       "      <td>0.002280</td>\n",
       "    </tr>\n",
       "    <tr>\n",
       "      <th>2</th>\n",
       "      <td>ridge_crude</td>\n",
       "      <td>0.735669</td>\n",
       "      <td>0.006739</td>\n",
       "      <td>0.731836</td>\n",
       "      <td>0.003417</td>\n",
       "    </tr>\n",
       "    <tr>\n",
       "      <th>3</th>\n",
       "      <td>lasso_crude</td>\n",
       "      <td>0.720964</td>\n",
       "      <td>0.006929</td>\n",
       "      <td>0.712436</td>\n",
       "      <td>0.003557</td>\n",
       "    </tr>\n",
       "    <tr>\n",
       "      <th>4</th>\n",
       "      <td>enet_crude</td>\n",
       "      <td>0.720824</td>\n",
       "      <td>0.006937</td>\n",
       "      <td>0.712219</td>\n",
       "      <td>0.003549</td>\n",
       "    </tr>\n",
       "    <tr>\n",
       "      <th>5</th>\n",
       "      <td>linear_svm_crude</td>\n",
       "      <td>0.737640</td>\n",
       "      <td>0.006739</td>\n",
       "      <td>0.736308</td>\n",
       "      <td>0.003442</td>\n",
       "    </tr>\n",
       "    <tr>\n",
       "      <th>6</th>\n",
       "      <td>gbm_mice</td>\n",
       "      <td>0.777956</td>\n",
       "      <td>0.003426</td>\n",
       "      <td>0.831320</td>\n",
       "      <td>0.012594</td>\n",
       "    </tr>\n",
       "  </tbody>\n",
       "</table>\n",
       "</div>"
      ],
      "text/plain": [
       "              model  auc_2yr_te    sem_te  auc_2yr_tr    sem_tr\n",
       "0         gbm_crude    0.767784  0.006411    0.817127  0.002841\n",
       "1         rsf_crude    0.743442  0.006667    0.878791  0.002280\n",
       "2       ridge_crude    0.735669  0.006739    0.731836  0.003417\n",
       "3       lasso_crude    0.720964  0.006929    0.712436  0.003557\n",
       "4        enet_crude    0.720824  0.006937    0.712219  0.003549\n",
       "5  linear_svm_crude    0.737640  0.006739    0.736308  0.003442\n",
       "6          gbm_mice    0.777956  0.003426    0.831320  0.012594"
      ]
     },
     "execution_count": 211,
     "metadata": {},
     "output_type": "execute_result"
    }
   ],
   "source": [
    "ml_auc_df"
   ]
  },
  {
   "cell_type": "code",
   "execution_count": 212,
   "id": "dfa9af7b",
   "metadata": {},
   "outputs": [],
   "source": [
    "all_models_auc_df = ml_auc_df.append(cox_auc_df, ignore_index = True)"
   ]
  },
  {
   "cell_type": "code",
   "execution_count": 213,
   "id": "dbe2bcd9",
   "metadata": {},
   "outputs": [
    {
     "data": {
      "text/html": [
       "<div>\n",
       "<style scoped>\n",
       "    .dataframe tbody tr th:only-of-type {\n",
       "        vertical-align: middle;\n",
       "    }\n",
       "\n",
       "    .dataframe tbody tr th {\n",
       "        vertical-align: top;\n",
       "    }\n",
       "\n",
       "    .dataframe thead th {\n",
       "        text-align: right;\n",
       "    }\n",
       "</style>\n",
       "<table border=\"1\" class=\"dataframe\">\n",
       "  <thead>\n",
       "    <tr style=\"text-align: right;\">\n",
       "      <th></th>\n",
       "      <th>model</th>\n",
       "      <th>auc_2yr_te</th>\n",
       "      <th>sem_te</th>\n",
       "      <th>auc_2yr_tr</th>\n",
       "      <th>sem_tr</th>\n",
       "    </tr>\n",
       "  </thead>\n",
       "  <tbody>\n",
       "    <tr>\n",
       "      <th>6</th>\n",
       "      <td>gbm_mice</td>\n",
       "      <td>0.777956</td>\n",
       "      <td>0.003426</td>\n",
       "      <td>0.831320</td>\n",
       "      <td>0.012594</td>\n",
       "    </tr>\n",
       "    <tr>\n",
       "      <th>0</th>\n",
       "      <td>gbm_crude</td>\n",
       "      <td>0.767784</td>\n",
       "      <td>0.006411</td>\n",
       "      <td>0.817127</td>\n",
       "      <td>0.002841</td>\n",
       "    </tr>\n",
       "    <tr>\n",
       "      <th>1</th>\n",
       "      <td>rsf_crude</td>\n",
       "      <td>0.743442</td>\n",
       "      <td>0.006667</td>\n",
       "      <td>0.878791</td>\n",
       "      <td>0.002280</td>\n",
       "    </tr>\n",
       "    <tr>\n",
       "      <th>5</th>\n",
       "      <td>linear_svm_crude</td>\n",
       "      <td>0.737640</td>\n",
       "      <td>0.006739</td>\n",
       "      <td>0.736308</td>\n",
       "      <td>0.003442</td>\n",
       "    </tr>\n",
       "    <tr>\n",
       "      <th>2</th>\n",
       "      <td>ridge_crude</td>\n",
       "      <td>0.735669</td>\n",
       "      <td>0.006739</td>\n",
       "      <td>0.731836</td>\n",
       "      <td>0.003417</td>\n",
       "    </tr>\n",
       "    <tr>\n",
       "      <th>3</th>\n",
       "      <td>lasso_crude</td>\n",
       "      <td>0.720964</td>\n",
       "      <td>0.006929</td>\n",
       "      <td>0.712436</td>\n",
       "      <td>0.003557</td>\n",
       "    </tr>\n",
       "    <tr>\n",
       "      <th>4</th>\n",
       "      <td>enet_crude</td>\n",
       "      <td>0.720824</td>\n",
       "      <td>0.006937</td>\n",
       "      <td>0.712219</td>\n",
       "      <td>0.003549</td>\n",
       "    </tr>\n",
       "    <tr>\n",
       "      <th>7</th>\n",
       "      <td>cox_crude</td>\n",
       "      <td>0.641334</td>\n",
       "      <td>0.007519</td>\n",
       "      <td>0.645469</td>\n",
       "      <td>0.003806</td>\n",
       "    </tr>\n",
       "    <tr>\n",
       "      <th>8</th>\n",
       "      <td>cox_cc</td>\n",
       "      <td>0.638517</td>\n",
       "      <td>0.012180</td>\n",
       "      <td>0.650390</td>\n",
       "      <td>0.005999</td>\n",
       "    </tr>\n",
       "    <tr>\n",
       "      <th>9</th>\n",
       "      <td>cox_cc_dn</td>\n",
       "      <td>0.627549</td>\n",
       "      <td>0.017421</td>\n",
       "      <td>0.649919</td>\n",
       "      <td>0.008523</td>\n",
       "    </tr>\n",
       "  </tbody>\n",
       "</table>\n",
       "</div>"
      ],
      "text/plain": [
       "              model  auc_2yr_te    sem_te  auc_2yr_tr    sem_tr\n",
       "6          gbm_mice    0.777956  0.003426    0.831320  0.012594\n",
       "0         gbm_crude    0.767784  0.006411    0.817127  0.002841\n",
       "1         rsf_crude    0.743442  0.006667    0.878791  0.002280\n",
       "5  linear_svm_crude    0.737640  0.006739    0.736308  0.003442\n",
       "2       ridge_crude    0.735669  0.006739    0.731836  0.003417\n",
       "3       lasso_crude    0.720964  0.006929    0.712436  0.003557\n",
       "4        enet_crude    0.720824  0.006937    0.712219  0.003549\n",
       "7         cox_crude    0.641334  0.007519    0.645469  0.003806\n",
       "8            cox_cc    0.638517  0.012180    0.650390  0.005999\n",
       "9         cox_cc_dn    0.627549  0.017421    0.649919  0.008523"
      ]
     },
     "execution_count": 213,
     "metadata": {},
     "output_type": "execute_result"
    }
   ],
   "source": [
    "all_models_auc_df.sort_values(by = 'auc_2yr_te', ascending = False)"
   ]
  },
  {
   "cell_type": "code",
   "execution_count": 214,
   "id": "81414f9a",
   "metadata": {},
   "outputs": [],
   "source": [
    "all_models_auc_df.to_csv('all_models_auc_df.csv', index = False, header = True)"
   ]
  },
  {
   "cell_type": "markdown",
   "id": "37b91264",
   "metadata": {},
   "source": [
    "**In conclusion, the Cox model performs less well than the machine learning models in regards to 2-year AUC.** "
   ]
  }
 ],
 "metadata": {
  "kernelspec": {
   "display_name": "My Virtual Environment",
   "language": "python",
   "name": "myenv"
  },
  "language_info": {
   "codemirror_mode": {
    "name": "ipython",
    "version": 3
   },
   "file_extension": ".py",
   "mimetype": "text/x-python",
   "name": "python",
   "nbconvert_exporter": "python",
   "pygments_lexer": "ipython3",
   "version": "3.7.10"
  }
 },
 "nbformat": 4,
 "nbformat_minor": 5
}
