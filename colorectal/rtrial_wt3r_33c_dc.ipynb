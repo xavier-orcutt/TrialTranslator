{
 "cells": [
  {
   "cell_type": "markdown",
   "id": "97d5ac51",
   "metadata": {},
   "source": [
    "# Flatiron Health mCRC: Relaxed trials with GBM crude + dose correction\n",
    "\n",
    "***OBJECTIVE:*** **Reproduce FIRE trial while ensuring patients receiving chemotherapy are getting an  appropriate first dose. Inclusion criteria for this trials will be pragmatically relaxed to allow for entry of our real-world patients, many of which would not meet inclusion criteria in randomized controlled trials. Patients included in our trials will next be risk stratified using the gradient boosted model with crude imputation into 1 of 3 risk groups: high (top tertile), medium (middle tertile), and low (bottom tertile). Inverse-probability treatment weighted survival analysis will then be performed across these risk groups to get real-world estimates of survival while adjusting for measured confounders.** \n",
    "\n",
    "***OUTLINE:***\n",
    "1. **Preprocessing**\n",
    "\n",
    "\n",
    "2. **In-silico trials:**\n",
    "* FIRE-3 "
   ]
  },
  {
   "cell_type": "markdown",
   "id": "00c73520",
   "metadata": {},
   "source": [
    "## Part 1: Preprocessing"
   ]
  },
  {
   "cell_type": "markdown",
   "id": "7e14e767",
   "metadata": {},
   "source": [
    "### 1.1 Import packages and create necessary functions"
   ]
  },
  {
   "cell_type": "code",
   "execution_count": 1,
   "id": "084e7413",
   "metadata": {},
   "outputs": [],
   "source": [
    "import numpy as np\n",
    "import pandas as pd\n",
    "\n",
    "from scipy import stats\n",
    "\n",
    "from sksurv.nonparametric import kaplan_meier_estimator\n",
    "from survive import KaplanMeier, SurvivalData\n",
    "\n",
    "from lifelines import KaplanMeierFitter\n",
    "from lifelines.plotting import add_at_risk_counts\n",
    "from lifelines.utils import median_survival_times\n",
    "\n",
    "import matplotlib.pyplot as plt\n",
    "import matplotlib.gridspec as gridspec\n",
    "\n",
    "from sklearn.pipeline import Pipeline\n",
    "from sklearn.impute import SimpleImputer\n",
    "from sklearn.preprocessing import StandardScaler, OneHotEncoder\n",
    "from sklearn.compose import ColumnTransformer \n",
    "from sklearn.linear_model import LogisticRegression\n",
    "\n",
    "from matplotlib.lines import Line2D   "
   ]
  },
  {
   "cell_type": "code",
   "execution_count": 2,
   "id": "22f8115a",
   "metadata": {},
   "outputs": [],
   "source": [
    "# Function that returns number of rows and count of unique PatientIDs for a dataframe. \n",
    "def row_ID(dataframe):\n",
    "    row = dataframe.shape[0]\n",
    "    ID = dataframe['PatientID'].nunique()\n",
    "    return row, ID"
   ]
  },
  {
   "cell_type": "code",
   "execution_count": 3,
   "id": "9f6e02e0",
   "metadata": {},
   "outputs": [],
   "source": [
    "cutoff = pd.read_csv('risk_cutoff_colorectal.csv', index_col = 0)"
   ]
  },
  {
   "cell_type": "markdown",
   "id": "8d7fdb9f",
   "metadata": {},
   "source": [
    "## Part 2: In silico trials "
   ]
  },
  {
   "cell_type": "markdown",
   "id": "51bd3548",
   "metadata": {},
   "source": [
    "### FIRE-3: FOLFIRI plus cetuximab vs. FOLFIRI plus bevacizumab in KRAS wild-type \n",
    "\n",
    "**INCLUSION**\n",
    "* Untreated metastatic colorectal cancer\n",
    "* First-line recepit of FOLFIRI/FOLFOX plus cetuximab or FOLFIRI/FOLFOX plus bevacizumab\n",
    "* KRAS wild-type "
   ]
  },
  {
   "cell_type": "markdown",
   "id": "05e50299",
   "metadata": {},
   "source": [
    "#### FOLFIRI plus Cetuximab"
   ]
  },
  {
   "cell_type": "code",
   "execution_count": 4,
   "id": "4da591f8",
   "metadata": {},
   "outputs": [
    {
     "data": {
      "text/plain": [
       "34315"
      ]
     },
     "execution_count": 4,
     "metadata": {},
     "output_type": "execute_result"
    }
   ],
   "source": [
    "df_full = pd.read_csv('df_risk_crude.csv', index_col = 'PatientID', dtype = {'death_status': bool})\n",
    "df_full.index.nunique()"
   ]
  },
  {
   "cell_type": "code",
   "execution_count": 5,
   "id": "1c85c083",
   "metadata": {},
   "outputs": [],
   "source": [
    "line_therapy = pd.read_csv('LineOfTherapy.csv')"
   ]
  },
  {
   "cell_type": "code",
   "execution_count": 6,
   "id": "545b1d96",
   "metadata": {},
   "outputs": [],
   "source": [
    "line_therapy_fl = (\n",
    "    line_therapy[line_therapy['PatientID'].isin(df_full.index)]\n",
    "    .query('LineNumber == 1')\n",
    "    .query('IsMaintenanceTherapy == False'))"
   ]
  },
  {
   "cell_type": "code",
   "execution_count": 7,
   "id": "128e0909",
   "metadata": {},
   "outputs": [
    {
     "data": {
      "text/plain": [
       "FOLFOX,Bevacizumab            6338\n",
       "FOLFOX                        4140\n",
       "FOLFOX,Bevacizumab-Awwb       1356\n",
       "FOLFOX,Bevacizumab-Bvzr        462\n",
       "FOLFOX,Panitumumab             456\n",
       "FOLFIRI,Cetuximab              364\n",
       "FOLFOXIRI                      253\n",
       "FOLFOX,Cetuximab               245\n",
       "FOLFOXIRI,Bevacizumab          228\n",
       "FOLFOXIRI,Bevacizumab-Awwb     140\n",
       "Name: LineName, dtype: int64"
      ]
     },
     "execution_count": 7,
     "metadata": {},
     "output_type": "execute_result"
    }
   ],
   "source": [
    "line_therapy_fl[line_therapy_fl['LineName'].str.contains('FOLFOX|Cetuximab')].LineName.value_counts().head(10)"
   ]
  },
  {
   "cell_type": "code",
   "execution_count": 8,
   "id": "20fb731c",
   "metadata": {},
   "outputs": [
    {
     "data": {
      "text/plain": [
       "FOLFIRI,Bevacizumab         2240\n",
       "FOLFIRI                      914\n",
       "FOLFIRI,Bevacizumab-Awwb     557\n",
       "FOLFIRI,Cetuximab            364\n",
       "FOLFIRI,Panitumumab          261\n",
       "FOLFOX,Cetuximab             245\n",
       "FOLFIRI,Bevacizumab-Bvzr     165\n",
       "Irinotecan,Cetuximab          90\n",
       "Cetuximab                     70\n",
       "FOLFIRI,Ziv-Aflibercept       56\n",
       "Name: LineName, dtype: int64"
      ]
     },
     "execution_count": 8,
     "metadata": {},
     "output_type": "execute_result"
    }
   ],
   "source": [
    "line_therapy_fl[line_therapy_fl['LineName'].str.contains('FOLFIRI|Cetuximab')].LineName.value_counts().head(10)"
   ]
  },
  {
   "cell_type": "code",
   "execution_count": 9,
   "id": "78a49f5f",
   "metadata": {},
   "outputs": [],
   "source": [
    "fxi_cet = (\n",
    "    line_therapy_fl\n",
    "    .query('LineName == \"FOLFIRI,Cetuximab\" or LineName == \"FOLFOX,Cetuximab\"')\n",
    "    [['PatientID', 'StartDate']]\n",
    ")"
   ]
  },
  {
   "cell_type": "code",
   "execution_count": 10,
   "id": "192bf5b3",
   "metadata": {},
   "outputs": [],
   "source": [
    "fxi_cet.loc[:,'fxi_cet'] = 1"
   ]
  },
  {
   "cell_type": "code",
   "execution_count": 11,
   "id": "76e0990f",
   "metadata": {},
   "outputs": [
    {
     "data": {
      "text/plain": [
       "(609, 568)"
      ]
     },
     "execution_count": 11,
     "metadata": {},
     "output_type": "execute_result"
    }
   ],
   "source": [
    "row_ID(fxi_cet)"
   ]
  },
  {
   "cell_type": "code",
   "execution_count": 12,
   "id": "69e1370d",
   "metadata": {},
   "outputs": [],
   "source": [
    "fxi_cet['StartDate'] = pd.to_datetime(fxi_cet['StartDate'])"
   ]
  },
  {
   "cell_type": "code",
   "execution_count": 13,
   "id": "6b42b2ac",
   "metadata": {},
   "outputs": [],
   "source": [
    "fxi_cet = (\n",
    "    fxi_cet\n",
    "    .sort_values(['PatientID', 'StartDate'], ascending = [True, True])\n",
    "    .drop_duplicates(subset = 'PatientID', keep = 'first')\n",
    ")"
   ]
  },
  {
   "cell_type": "code",
   "execution_count": 14,
   "id": "9b71c0b0",
   "metadata": {},
   "outputs": [
    {
     "data": {
      "text/plain": [
       "(568, 568)"
      ]
     },
     "execution_count": 14,
     "metadata": {},
     "output_type": "execute_result"
    }
   ],
   "source": [
    "row_ID(fxi_cet)"
   ]
  },
  {
   "cell_type": "markdown",
   "id": "dc49f1d8",
   "metadata": {},
   "source": [
    "#### FOLFIRI plus Bevacizumab"
   ]
  },
  {
   "cell_type": "code",
   "execution_count": 15,
   "id": "cd14751f",
   "metadata": {},
   "outputs": [
    {
     "data": {
      "text/plain": [
       "FOLFOX,Bevacizumab                     6338\n",
       "FOLFIRI,Bevacizumab                    2240\n",
       "FOLFOX,Bevacizumab-Awwb                1356\n",
       "FOLFIRI                                 914\n",
       "CAPEOX,Bevacizumab                      764\n",
       "FOLFIRI,Bevacizumab-Awwb                557\n",
       "FOLFOX,Bevacizumab-Bvzr                 462\n",
       "Fluorouracil,Leucovorin,Bevacizumab     423\n",
       "Capecitabine,Bevacizumab                405\n",
       "FOLFIRI,Cetuximab                       364\n",
       "Name: LineName, dtype: int64"
      ]
     },
     "execution_count": 15,
     "metadata": {},
     "output_type": "execute_result"
    }
   ],
   "source": [
    "line_therapy_fl[line_therapy_fl['LineName'].str.contains('FOLFIRI|Bevacizumab')].LineName.value_counts().head(10)"
   ]
  },
  {
   "cell_type": "code",
   "execution_count": 16,
   "id": "40c139d4",
   "metadata": {},
   "outputs": [
    {
     "data": {
      "text/plain": [
       "FOLFOX,Bevacizumab                     6338\n",
       "FOLFOX                                 4140\n",
       "FOLFIRI,Bevacizumab                    2240\n",
       "FOLFOX,Bevacizumab-Awwb                1356\n",
       "CAPEOX,Bevacizumab                      764\n",
       "FOLFIRI,Bevacizumab-Awwb                557\n",
       "FOLFOX,Bevacizumab-Bvzr                 462\n",
       "FOLFOX,Panitumumab                      456\n",
       "Fluorouracil,Leucovorin,Bevacizumab     423\n",
       "Capecitabine,Bevacizumab                405\n",
       "Name: LineName, dtype: int64"
      ]
     },
     "execution_count": 16,
     "metadata": {},
     "output_type": "execute_result"
    }
   ],
   "source": [
    "line_therapy_fl[line_therapy_fl['LineName'].str.contains('FOLFOX|Bevacizumab')].LineName.value_counts().head(10)"
   ]
  },
  {
   "cell_type": "code",
   "execution_count": 17,
   "id": "e6ccf1f9",
   "metadata": {},
   "outputs": [],
   "source": [
    "fxi_bev_comb = [\n",
    "    'FOLFIRI,Bevacizumab',\n",
    "    'FOLFIRI,Bevacizumab-Awwb',\n",
    "    'FOLFIRI,Bevacizumab-Bvzr',\n",
    "    'FOLFOX,Bevacizumab',\n",
    "    'FOLFOX,Bevacizumab-Awwb',\n",
    "    'FOLFOX,Bevacizumab-Bvzr'\n",
    "]\n",
    "\n",
    "fxi_bev = (\n",
    "    line_therapy_fl\n",
    "    .query('LineName == @fxi_bev_comb')\n",
    "    [['PatientID', 'StartDate']]\n",
    ")"
   ]
  },
  {
   "cell_type": "code",
   "execution_count": 18,
   "id": "93e03b21",
   "metadata": {},
   "outputs": [],
   "source": [
    "fxi_bev.loc[:,'fxi_cet'] = 0"
   ]
  },
  {
   "cell_type": "code",
   "execution_count": 19,
   "id": "2472b2a5",
   "metadata": {},
   "outputs": [
    {
     "data": {
      "text/plain": [
       "(11118, 10785)"
      ]
     },
     "execution_count": 19,
     "metadata": {},
     "output_type": "execute_result"
    }
   ],
   "source": [
    "row_ID(fxi_bev)"
   ]
  },
  {
   "cell_type": "code",
   "execution_count": 20,
   "id": "22b5ad86",
   "metadata": {},
   "outputs": [],
   "source": [
    "fxi_bev['StartDate'] = pd.to_datetime(fxi_bev['StartDate'])"
   ]
  },
  {
   "cell_type": "code",
   "execution_count": 21,
   "id": "5f1a54da",
   "metadata": {},
   "outputs": [],
   "source": [
    "fxi_bev = (\n",
    "    fxi_bev\n",
    "    .sort_values(['PatientID', 'StartDate'], ascending = [True, True])\n",
    "    .drop_duplicates(subset = 'PatientID', keep = 'first')\n",
    ")"
   ]
  },
  {
   "cell_type": "code",
   "execution_count": 22,
   "id": "374a3d11",
   "metadata": {},
   "outputs": [
    {
     "data": {
      "text/plain": [
       "(10785, 10785)"
      ]
     },
     "execution_count": 22,
     "metadata": {},
     "output_type": "execute_result"
    }
   ],
   "source": [
    "row_ID(fxi_bev)"
   ]
  },
  {
   "cell_type": "code",
   "execution_count": 23,
   "id": "03230371",
   "metadata": {},
   "outputs": [],
   "source": [
    "fire = pd.concat([fxi_cet, fxi_bev])"
   ]
  },
  {
   "cell_type": "code",
   "execution_count": 24,
   "id": "6fcbacb5",
   "metadata": {},
   "outputs": [
    {
     "data": {
      "text/plain": [
       "(11353, 11353)"
      ]
     },
     "execution_count": 24,
     "metadata": {},
     "output_type": "execute_result"
    }
   ],
   "source": [
    "row_ID(fire)"
   ]
  },
  {
   "cell_type": "code",
   "execution_count": 25,
   "id": "29e795a2",
   "metadata": {},
   "outputs": [],
   "source": [
    "fire = pd.merge(fire, df_full, on = 'PatientID', how = 'left')"
   ]
  },
  {
   "cell_type": "code",
   "execution_count": 26,
   "id": "688a3732",
   "metadata": {},
   "outputs": [
    {
     "data": {
      "text/plain": [
       "(11353, 11353)"
      ]
     },
     "execution_count": 26,
     "metadata": {},
     "output_type": "execute_result"
    }
   ],
   "source": [
    "row_ID(fire)"
   ]
  },
  {
   "cell_type": "markdown",
   "id": "02211fc9",
   "metadata": {},
   "source": [
    "#### Chemotherapy dosing"
   ]
  },
  {
   "cell_type": "markdown",
   "id": "7f0011fa",
   "metadata": {},
   "source": [
    "##### Oxaliplatin dosing"
   ]
  },
  {
   "cell_type": "code",
   "execution_count": 27,
   "id": "6c525b5c",
   "metadata": {},
   "outputs": [],
   "source": [
    "med_order = pd.read_csv('MedicationOrder.csv', low_memory = False)"
   ]
  },
  {
   "cell_type": "code",
   "execution_count": 28,
   "id": "ba28bbc2",
   "metadata": {},
   "outputs": [],
   "source": [
    "med_order['ExpectedStartDate'] = np.where(med_order['ExpectedStartDate'].isna(), \n",
    "                                          med_order['OrderedDate'], \n",
    "                                          med_order['ExpectedStartDate'])"
   ]
  },
  {
   "cell_type": "code",
   "execution_count": 29,
   "id": "d4338044",
   "metadata": {},
   "outputs": [],
   "source": [
    "med_order.loc[:, 'ExpectedStartDate'] = pd.to_datetime(med_order['ExpectedStartDate'], errors = 'coerce')"
   ]
  },
  {
   "cell_type": "code",
   "execution_count": 30,
   "id": "e2c051e7",
   "metadata": {},
   "outputs": [],
   "source": [
    "fire.loc[:, 'StartDate'] = pd.to_datetime(fire['StartDate'])"
   ]
  },
  {
   "cell_type": "code",
   "execution_count": 31,
   "id": "7c392123",
   "metadata": {},
   "outputs": [],
   "source": [
    "med_order_ox = (\n",
    "    med_order[med_order['PatientID'].isin(fire.PatientID)]\n",
    "    .query('CommonDrugName == \"oxaliplatin\"')\n",
    ")"
   ]
  },
  {
   "cell_type": "code",
   "execution_count": 32,
   "id": "fa0510ba",
   "metadata": {},
   "outputs": [
    {
     "data": {
      "text/plain": [
       "(124824, 19)"
      ]
     },
     "execution_count": 32,
     "metadata": {},
     "output_type": "execute_result"
    }
   ],
   "source": [
    "med_order_ox.shape"
   ]
  },
  {
   "cell_type": "code",
   "execution_count": 33,
   "id": "fccf8b63",
   "metadata": {},
   "outputs": [],
   "source": [
    "med_order_ox = pd.merge(med_order_ox, \n",
    "                        fire[['PatientID', 'StartDate']], \n",
    "                        on = 'PatientID', \n",
    "                        how = 'left')"
   ]
  },
  {
   "cell_type": "code",
   "execution_count": 34,
   "id": "8033beac",
   "metadata": {},
   "outputs": [
    {
     "data": {
      "text/plain": [
       "(124824, 20)"
      ]
     },
     "execution_count": 34,
     "metadata": {},
     "output_type": "execute_result"
    }
   ],
   "source": [
    "med_order_ox.shape"
   ]
  },
  {
   "cell_type": "code",
   "execution_count": 35,
   "id": "cb8de19b",
   "metadata": {},
   "outputs": [],
   "source": [
    "med_order_ox.loc[:, 'date_diff'] = (med_order_ox['ExpectedStartDate'] - med_order_ox['StartDate']).dt.days.abs()"
   ]
  },
  {
   "cell_type": "code",
   "execution_count": 36,
   "id": "c8cf9659",
   "metadata": {},
   "outputs": [],
   "source": [
    "med_order_ox = med_order_ox.query('date_diff <= 14')"
   ]
  },
  {
   "cell_type": "code",
   "execution_count": 37,
   "id": "0d4d2ed2",
   "metadata": {},
   "outputs": [],
   "source": [
    "ox_index = med_order_ox.groupby('PatientID')['date_diff'].idxmin()"
   ]
  },
  {
   "cell_type": "code",
   "execution_count": 38,
   "id": "8dfdb31e",
   "metadata": {},
   "outputs": [],
   "source": [
    "ox_dose = med_order_ox.loc[ox_index].query('RelativeOrderedUnits == \"mg/m2\"')[['PatientID', 'RelativeOrderedAmount']]"
   ]
  },
  {
   "cell_type": "code",
   "execution_count": 39,
   "id": "89e39d12",
   "metadata": {},
   "outputs": [],
   "source": [
    "ox_dose = ox_dose.rename(columns = {'RelativeOrderedAmount': 'ox_dose_mgm2'})"
   ]
  },
  {
   "cell_type": "code",
   "execution_count": 40,
   "id": "b760eef3",
   "metadata": {},
   "outputs": [],
   "source": [
    "ox_IDs = ox_dose.query('ox_dose_mgm2 >= 85').PatientID"
   ]
  },
  {
   "cell_type": "markdown",
   "id": "ff7efb51",
   "metadata": {},
   "source": [
    "##### Irinotecan dosing"
   ]
  },
  {
   "cell_type": "code",
   "execution_count": 41,
   "id": "ea1cf4a7",
   "metadata": {},
   "outputs": [],
   "source": [
    "med_order_iri = (\n",
    "    med_order[med_order['PatientID'].isin(fire.PatientID)]\n",
    "    .query('CommonDrugName == \"irinotecan\"')\n",
    ")"
   ]
  },
  {
   "cell_type": "code",
   "execution_count": 42,
   "id": "ac8e89f9",
   "metadata": {},
   "outputs": [
    {
     "data": {
      "text/plain": [
       "(123981, 19)"
      ]
     },
     "execution_count": 42,
     "metadata": {},
     "output_type": "execute_result"
    }
   ],
   "source": [
    "med_order_iri.shape"
   ]
  },
  {
   "cell_type": "code",
   "execution_count": 43,
   "id": "c558e6cf",
   "metadata": {},
   "outputs": [],
   "source": [
    "med_order_iri = pd.merge(med_order_iri, \n",
    "                         fire[['PatientID', 'StartDate']], \n",
    "                         on = 'PatientID', \n",
    "                         how = 'left')"
   ]
  },
  {
   "cell_type": "code",
   "execution_count": 44,
   "id": "1cb42f4a",
   "metadata": {},
   "outputs": [
    {
     "data": {
      "text/plain": [
       "(123981, 20)"
      ]
     },
     "execution_count": 44,
     "metadata": {},
     "output_type": "execute_result"
    }
   ],
   "source": [
    "med_order_iri.shape"
   ]
  },
  {
   "cell_type": "code",
   "execution_count": 45,
   "id": "5cf91c1f",
   "metadata": {},
   "outputs": [],
   "source": [
    "med_order_iri.loc[:, 'date_diff'] = (med_order_iri['ExpectedStartDate'] - med_order_iri['StartDate']).dt.days.abs()"
   ]
  },
  {
   "cell_type": "code",
   "execution_count": 46,
   "id": "1bdf8cf6",
   "metadata": {},
   "outputs": [],
   "source": [
    "med_order_iri = med_order_iri.query('date_diff <= 14')"
   ]
  },
  {
   "cell_type": "code",
   "execution_count": 47,
   "id": "9a02c807",
   "metadata": {},
   "outputs": [],
   "source": [
    "iri_index = med_order_iri.groupby('PatientID')['date_diff'].idxmin()"
   ]
  },
  {
   "cell_type": "code",
   "execution_count": 48,
   "id": "2d94e647",
   "metadata": {},
   "outputs": [],
   "source": [
    "iri_dose = med_order_iri.loc[iri_index].query('RelativeOrderedUnits == \"mg/m2\"')[['PatientID', 'RelativeOrderedAmount']]"
   ]
  },
  {
   "cell_type": "code",
   "execution_count": 49,
   "id": "47b2c686",
   "metadata": {},
   "outputs": [],
   "source": [
    "iri_dose = iri_dose.rename(columns = {'RelativeOrderedAmount': 'iri_dose_mgm2'})"
   ]
  },
  {
   "cell_type": "code",
   "execution_count": 50,
   "id": "6e2e7378",
   "metadata": {},
   "outputs": [],
   "source": [
    "iri_IDs = iri_dose.query('iri_dose_mgm2 >= 125').PatientID"
   ]
  },
  {
   "cell_type": "code",
   "execution_count": 51,
   "id": "bcd77077",
   "metadata": {},
   "outputs": [],
   "source": [
    "fire = fire[fire['PatientID'].isin(pd.concat([ox_IDs, iri_IDs]))]"
   ]
  },
  {
   "cell_type": "code",
   "execution_count": 52,
   "id": "905e2f9c",
   "metadata": {},
   "outputs": [
    {
     "data": {
      "text/plain": [
       "(9359, 9359)"
      ]
     },
     "execution_count": 52,
     "metadata": {},
     "output_type": "execute_result"
    }
   ],
   "source": [
    "row_ID(fire)"
   ]
  },
  {
   "cell_type": "markdown",
   "id": "a26845db",
   "metadata": {},
   "source": [
    "#### KRAS wild type "
   ]
  },
  {
   "cell_type": "code",
   "execution_count": 53,
   "id": "a7c3b9be",
   "metadata": {},
   "outputs": [],
   "source": [
    "biomarkers = pd.read_csv('Enhanced_MetCRCBiomarkers.csv')"
   ]
  },
  {
   "cell_type": "code",
   "execution_count": 54,
   "id": "9ab1b811",
   "metadata": {},
   "outputs": [],
   "source": [
    "biomarkers = biomarkers[biomarkers['PatientID'].isin(fire['PatientID'])]"
   ]
  },
  {
   "cell_type": "code",
   "execution_count": 55,
   "id": "512a994c",
   "metadata": {},
   "outputs": [
    {
     "data": {
      "text/plain": [
       "(38832, 8702)"
      ]
     },
     "execution_count": 55,
     "metadata": {},
     "output_type": "execute_result"
    }
   ],
   "source": [
    "row_ID(biomarkers)"
   ]
  },
  {
   "cell_type": "code",
   "execution_count": 56,
   "id": "7b6caabc",
   "metadata": {},
   "outputs": [],
   "source": [
    "biomarkers = pd.merge(biomarkers, fire[['PatientID', 'StartDate']], on = 'PatientID', how = 'left')"
   ]
  },
  {
   "cell_type": "code",
   "execution_count": 57,
   "id": "c8e33113",
   "metadata": {},
   "outputs": [
    {
     "data": {
      "text/plain": [
       "(38832, 8702)"
      ]
     },
     "execution_count": 57,
     "metadata": {},
     "output_type": "execute_result"
    }
   ],
   "source": [
    "row_ID(biomarkers)"
   ]
  },
  {
   "cell_type": "code",
   "execution_count": 58,
   "id": "af624822",
   "metadata": {},
   "outputs": [],
   "source": [
    "biomarkers['ResultDate'] = pd.to_datetime(biomarkers['ResultDate'])"
   ]
  },
  {
   "cell_type": "code",
   "execution_count": 59,
   "id": "7e274291",
   "metadata": {},
   "outputs": [],
   "source": [
    "biomarkers['SpecimenReceivedDate'] = pd.to_datetime(biomarkers['SpecimenReceivedDate'])"
   ]
  },
  {
   "cell_type": "code",
   "execution_count": 60,
   "id": "4020f1ec",
   "metadata": {},
   "outputs": [],
   "source": [
    "biomarkers.loc[:, 'result_date'] = (\n",
    "    np.where(biomarkers['ResultDate'].isna(), biomarkers['SpecimenReceivedDate'], biomarkers['ResultDate'])\n",
    ")"
   ]
  },
  {
   "cell_type": "code",
   "execution_count": 61,
   "id": "e13f9743",
   "metadata": {},
   "outputs": [],
   "source": [
    "biomarkers.loc[:, 'date_diff'] = (biomarkers['result_date'] - biomarkers['StartDate']).dt.days"
   ]
  },
  {
   "cell_type": "code",
   "execution_count": 62,
   "id": "0ae62d3f",
   "metadata": {},
   "outputs": [],
   "source": [
    "kras = (\n",
    "    biomarkers\n",
    "    .query('BiomarkerName == \"KRAS\"')\n",
    "    .query('date_diff <=30')\n",
    "    .query('BiomarkerStatus == \"Mutation negative\"')\n",
    "    [['PatientID', 'BiomarkerStatus']]\n",
    "    .rename(columns = {'BiomarkerStatus': 'kras_n'})\n",
    "    .drop_duplicates(subset = 'PatientID', keep = 'first')\n",
    ")"
   ]
  },
  {
   "cell_type": "code",
   "execution_count": 63,
   "id": "1185cc72",
   "metadata": {},
   "outputs": [
    {
     "data": {
      "text/plain": [
       "(3058, 3058)"
      ]
     },
     "execution_count": 63,
     "metadata": {},
     "output_type": "execute_result"
    }
   ],
   "source": [
    "row_ID(kras)"
   ]
  },
  {
   "cell_type": "code",
   "execution_count": 64,
   "id": "61c66fb0",
   "metadata": {},
   "outputs": [],
   "source": [
    "fire = pd.merge(fire, kras, on  = 'PatientID', how = 'left')"
   ]
  },
  {
   "cell_type": "code",
   "execution_count": 65,
   "id": "f98333d1",
   "metadata": {},
   "outputs": [
    {
     "data": {
      "text/plain": [
       "(9359, 9359)"
      ]
     },
     "execution_count": 65,
     "metadata": {},
     "output_type": "execute_result"
    }
   ],
   "source": [
    "row_ID(fire)"
   ]
  },
  {
   "cell_type": "markdown",
   "id": "9ef4b6e7",
   "metadata": {},
   "source": [
    "#### Time from treatment to death or censor "
   ]
  },
  {
   "cell_type": "code",
   "execution_count": 66,
   "id": "2f1a6a17",
   "metadata": {},
   "outputs": [],
   "source": [
    "mortality_tr = pd.read_csv('mortality_cleaned_tr.csv')"
   ]
  },
  {
   "cell_type": "code",
   "execution_count": 67,
   "id": "041128ed",
   "metadata": {},
   "outputs": [],
   "source": [
    "mortality_te = pd.read_csv('mortality_cleaned_te.csv')"
   ]
  },
  {
   "cell_type": "code",
   "execution_count": 68,
   "id": "74247afc",
   "metadata": {},
   "outputs": [],
   "source": [
    "mortality_tr = mortality_tr[['PatientID', 'death_date', 'last_activity']]"
   ]
  },
  {
   "cell_type": "code",
   "execution_count": 69,
   "id": "6a73f7e6",
   "metadata": {},
   "outputs": [],
   "source": [
    "mortality_te = mortality_te[['PatientID', 'death_date', 'last_activity']]"
   ]
  },
  {
   "cell_type": "code",
   "execution_count": 70,
   "id": "72778ec9",
   "metadata": {},
   "outputs": [
    {
     "name": "stdout",
     "output_type": "stream",
     "text": [
      "34315 True\n"
     ]
    }
   ],
   "source": [
    "mortality = pd.concat([mortality_tr, mortality_te], ignore_index = True)\n",
    "print(len(mortality), mortality.PatientID.is_unique)"
   ]
  },
  {
   "cell_type": "code",
   "execution_count": 71,
   "id": "f7caaf67",
   "metadata": {},
   "outputs": [],
   "source": [
    "mortality.loc[:, 'last_activity'] = pd.to_datetime(mortality['last_activity'])"
   ]
  },
  {
   "cell_type": "code",
   "execution_count": 72,
   "id": "210ca4e0",
   "metadata": {},
   "outputs": [],
   "source": [
    "mortality.loc[:, 'death_date'] = pd.to_datetime(mortality['death_date'])"
   ]
  },
  {
   "cell_type": "code",
   "execution_count": 73,
   "id": "048429a7",
   "metadata": {},
   "outputs": [
    {
     "data": {
      "text/plain": [
       "34315"
      ]
     },
     "execution_count": 73,
     "metadata": {},
     "output_type": "execute_result"
    }
   ],
   "source": [
    "len(mortality)"
   ]
  },
  {
   "cell_type": "code",
   "execution_count": 74,
   "id": "1c8dc0ab",
   "metadata": {},
   "outputs": [],
   "source": [
    "fire = pd.merge(fire, mortality, on = 'PatientID', how = 'left')"
   ]
  },
  {
   "cell_type": "code",
   "execution_count": 75,
   "id": "85b2bd29",
   "metadata": {},
   "outputs": [
    {
     "data": {
      "text/plain": [
       "9359"
      ]
     },
     "execution_count": 75,
     "metadata": {},
     "output_type": "execute_result"
    }
   ],
   "source": [
    "len(fire)"
   ]
  },
  {
   "cell_type": "code",
   "execution_count": 76,
   "id": "b3466d3d",
   "metadata": {},
   "outputs": [],
   "source": [
    "conditions = [\n",
    "    (fire['death_status'] == 1),\n",
    "    (fire['death_status'] == 0)]\n",
    "\n",
    "choices = [\n",
    "    (fire['death_date'] - fire['StartDate']).dt.days,\n",
    "    (fire['last_activity'] - fire['StartDate']).dt.days]\n",
    "\n",
    "fire.loc[:, 'timerisk_treatment'] = np.select(conditions, choices)"
   ]
  },
  {
   "cell_type": "code",
   "execution_count": 77,
   "id": "2b20db89",
   "metadata": {},
   "outputs": [],
   "source": [
    "fire = fire.query('timerisk_treatment >= 0')"
   ]
  },
  {
   "cell_type": "code",
   "execution_count": 78,
   "id": "82ff6cd8",
   "metadata": {},
   "outputs": [
    {
     "data": {
      "text/plain": [
       "(9352, 9352)"
      ]
     },
     "execution_count": 78,
     "metadata": {},
     "output_type": "execute_result"
    }
   ],
   "source": [
    "row_ID(fire)"
   ]
  },
  {
   "cell_type": "markdown",
   "id": "27b637ad",
   "metadata": {},
   "source": [
    "#### Patient count "
   ]
  },
  {
   "cell_type": "code",
   "execution_count": 79,
   "id": "7bd97102",
   "metadata": {},
   "outputs": [],
   "source": [
    "fire = (\n",
    "    fire\n",
    "    .query('kras_n == \"Mutation negative\"')\n",
    ")"
   ]
  },
  {
   "cell_type": "code",
   "execution_count": 80,
   "id": "f8a5760d",
   "metadata": {},
   "outputs": [],
   "source": [
    "low_cutoff_fire = cutoff.loc['fire3'].low"
   ]
  },
  {
   "cell_type": "code",
   "execution_count": 81,
   "id": "0c1f4913",
   "metadata": {},
   "outputs": [],
   "source": [
    "high_cutoff_fire = cutoff.loc['fire3'].high"
   ]
  },
  {
   "cell_type": "code",
   "execution_count": 82,
   "id": "a8709e49",
   "metadata": {},
   "outputs": [
    {
     "name": "stdout",
     "output_type": "stream",
     "text": [
      "FOLFIRI + Cetuximab total: 432\n",
      "High risk: 120\n",
      "Med risk: 159\n",
      "Low risk: 153\n"
     ]
    }
   ],
   "source": [
    "print('FOLFIRI + Cetuximab total:',  fire.query('fxi_cet == 1').shape[0])\n",
    "print('High risk:', fire.query('fxi_cet == 1').query('risk_score >= @high_cutoff_fire').shape[0])\n",
    "print('Med risk:', fire.query('fxi_cet == 1').query('risk_score < @high_cutoff_fire and risk_score > @low_cutoff_fire').shape[0])\n",
    "print('Low risk:', fire.query('fxi_cet == 1').query('risk_score <= @low_cutoff_fire').shape[0])"
   ]
  },
  {
   "cell_type": "code",
   "execution_count": 83,
   "id": "d55a8f03",
   "metadata": {},
   "outputs": [
    {
     "name": "stdout",
     "output_type": "stream",
     "text": [
      "FOLFIRI + Bevacizumab: 2624\n",
      "High risk: 894\n",
      "Med risk: 880\n",
      "Low risk: 850\n"
     ]
    }
   ],
   "source": [
    "print('FOLFIRI + Bevacizumab:',  fire.query('fxi_cet == 0').shape[0])\n",
    "print('High risk:', fire.query('fxi_cet == 0').query('risk_score >= @high_cutoff_fire').shape[0])\n",
    "print('Med risk:', fire.query('fxi_cet == 0').query('risk_score < @high_cutoff_fire and risk_score > @low_cutoff_fire').shape[0])\n",
    "print('Low risk:', fire.query('fxi_cet == 0').query('risk_score <= @low_cutoff_fire').shape[0])"
   ]
  },
  {
   "cell_type": "markdown",
   "id": "65b56336",
   "metadata": {},
   "source": [
    "#### Survival curves with covariate balancing "
   ]
  },
  {
   "cell_type": "code",
   "execution_count": 84,
   "id": "7e91443e",
   "metadata": {},
   "outputs": [],
   "source": [
    "fire = fire.set_index('PatientID')"
   ]
  },
  {
   "cell_type": "code",
   "execution_count": 85,
   "id": "6bc69d6c",
   "metadata": {},
   "outputs": [],
   "source": [
    "fire['met_cat'] = pd.cut(fire['met_year'],\n",
    "                         bins = [2010, 2015, float('inf')],\n",
    "                         labels = ['11-15', '16-22'])"
   ]
  },
  {
   "cell_type": "code",
   "execution_count": 86,
   "id": "a71bee81",
   "metadata": {},
   "outputs": [],
   "source": [
    "conditions = [\n",
    "    ((fire['ecog_diagnosis'] == \"1.0\") | (fire['ecog_diagnosis'] == \"0.0\")),  \n",
    "    ((fire['ecog_diagnosis'] == \"2.0\") | (fire['ecog_diagnosis'] == \"3.0\"))\n",
    "]\n",
    "\n",
    "choices = ['lt_2', 'gte_2']\n",
    "\n",
    "fire['ecog_2'] = np.select(conditions, choices, default = 'unknown')"
   ]
  },
  {
   "cell_type": "code",
   "execution_count": 87,
   "id": "639a955e",
   "metadata": {},
   "outputs": [],
   "source": [
    "fire_iptw = fire.filter(items = ['death_status',\n",
    "                                 'timerisk_treatment',\n",
    "                                 'fxi_cet',\n",
    "                                 'age',\n",
    "                                 'gender',\n",
    "                                 'race',\n",
    "                                 'p_type',\n",
    "                                 'crc_site',\n",
    "                                 'met_cat',\n",
    "                                 'delta_met_diagnosis',\n",
    "                                 'commercial',\n",
    "                                 'medicare',\n",
    "                                 'medicaid',\n",
    "                                 'ecog_2', \n",
    "                                 'ses',\n",
    "                                 'albumin_diag',\n",
    "                                 'weight_pct_change',\n",
    "                                 'risk_score'])"
   ]
  },
  {
   "cell_type": "code",
   "execution_count": 88,
   "id": "f858886d",
   "metadata": {},
   "outputs": [
    {
     "data": {
      "text/plain": [
       "death_status               bool\n",
       "timerisk_treatment      float64\n",
       "fxi_cet                   int64\n",
       "age                       int64\n",
       "gender                   object\n",
       "race                     object\n",
       "p_type                   object\n",
       "crc_site                 object\n",
       "met_cat                category\n",
       "delta_met_diagnosis       int64\n",
       "commercial              float64\n",
       "medicare                float64\n",
       "medicaid                float64\n",
       "ecog_2                   object\n",
       "ses                     float64\n",
       "albumin_diag            float64\n",
       "weight_pct_change       float64\n",
       "risk_score              float64\n",
       "dtype: object"
      ]
     },
     "execution_count": 88,
     "metadata": {},
     "output_type": "execute_result"
    }
   ],
   "source": [
    "fire_iptw.dtypes"
   ]
  },
  {
   "cell_type": "code",
   "execution_count": 89,
   "id": "8041dae0",
   "metadata": {},
   "outputs": [],
   "source": [
    "to_be_categorical = list(fire_iptw.select_dtypes(include = ['object']).columns)"
   ]
  },
  {
   "cell_type": "code",
   "execution_count": 90,
   "id": "b808c0c9",
   "metadata": {},
   "outputs": [
    {
     "data": {
      "text/plain": [
       "['gender', 'race', 'p_type', 'crc_site', 'ecog_2']"
      ]
     },
     "execution_count": 90,
     "metadata": {},
     "output_type": "execute_result"
    }
   ],
   "source": [
    "to_be_categorical"
   ]
  },
  {
   "cell_type": "code",
   "execution_count": 91,
   "id": "709667f4",
   "metadata": {},
   "outputs": [],
   "source": [
    "to_be_categorical.append('met_cat')"
   ]
  },
  {
   "cell_type": "code",
   "execution_count": 92,
   "id": "f4f156d1",
   "metadata": {},
   "outputs": [],
   "source": [
    "to_be_categorical.append('ses')"
   ]
  },
  {
   "cell_type": "code",
   "execution_count": 93,
   "id": "d2df4a00",
   "metadata": {},
   "outputs": [],
   "source": [
    "# Convert variables in list to categorical.\n",
    "for x in list(to_be_categorical):\n",
    "    fire_iptw[x] = fire_iptw[x].astype('category')"
   ]
  },
  {
   "cell_type": "code",
   "execution_count": 94,
   "id": "6b6b28e6",
   "metadata": {},
   "outputs": [],
   "source": [
    "# List of numeric variables, excluding binary variables. \n",
    "numerical_features = ['age', 'delta_met_diagnosis', 'albumin_diag', 'weight_pct_change', 'risk_score']\n",
    "\n",
    "# Transformer will first calculate column median and impute, and then apply a standard scaler. \n",
    "numerical_transformer = Pipeline(steps = [\n",
    "    ('imputer', SimpleImputer(strategy = 'median')),\n",
    "    ('std_scaler', StandardScaler())])"
   ]
  },
  {
   "cell_type": "code",
   "execution_count": 95,
   "id": "82fc43e8",
   "metadata": {},
   "outputs": [],
   "source": [
    "# List of categorical features.\n",
    "categorical_features = list(fire_iptw.select_dtypes(include = ['category']).columns)\n",
    "\n",
    "# One-hot-encode categorical features.\n",
    "categorical_transformer = OneHotEncoder(handle_unknown = 'ignore')"
   ]
  },
  {
   "cell_type": "code",
   "execution_count": 96,
   "id": "f22ff22d",
   "metadata": {},
   "outputs": [],
   "source": [
    "preprocessor = ColumnTransformer(\n",
    "    transformers = [\n",
    "        ('num', numerical_transformer, numerical_features),\n",
    "        ('cat', categorical_transformer, categorical_features)],\n",
    "    remainder = 'passthrough')"
   ]
  },
  {
   "cell_type": "code",
   "execution_count": 97,
   "id": "e6e5ab4b",
   "metadata": {},
   "outputs": [],
   "source": [
    "fire_iptw_low = (\n",
    "    fire_iptw\n",
    "    .query('risk_score <= @low_cutoff_fire'))\n",
    "\n",
    "fire_iptw_med = (\n",
    "    fire_iptw\n",
    "    .query('risk_score < @high_cutoff_fire and risk_score > @low_cutoff_fire'))\n",
    "\n",
    "fire_iptw_high = (\n",
    "    fire_iptw\n",
    "    .query('risk_score >= @high_cutoff_fire'))\n",
    "\n",
    "fire_iptw_all = fire_iptw"
   ]
  },
  {
   "cell_type": "code",
   "execution_count": 98,
   "id": "40a7fb23",
   "metadata": {},
   "outputs": [],
   "source": [
    "fire_low_x = preprocessor.fit_transform(fire_iptw_low.filter(items = ['age',\n",
    "                                                                      'gender',\n",
    "                                                                      'race',\n",
    "                                                                      'p_type',\n",
    "                                                                      'crc_site',\n",
    "                                                                      'met_cat',\n",
    "                                                                      'delta_met_diagnosis',\n",
    "                                                                      'commercial',\n",
    "                                                                      'medicare',\n",
    "                                                                      'medicaid',\n",
    "                                                                      'ecog_2', \n",
    "                                                                      'ses', \n",
    "                                                                      'albumin_diag', \n",
    "                                                                      'weight_pct_change',\n",
    "                                                                      'risk_score']))\n",
    "\n",
    "fire_med_x = preprocessor.fit_transform(fire_iptw_med.filter(items = ['age',\n",
    "                                                                      'gender',\n",
    "                                                                      'race',\n",
    "                                                                      'p_type',\n",
    "                                                                      'crc_site',\n",
    "                                                                      'met_cat',\n",
    "                                                                      'delta_met_diagnosis',\n",
    "                                                                      'commercial',\n",
    "                                                                      'medicare',\n",
    "                                                                      'medicaid',\n",
    "                                                                      'ecog_2', \n",
    "                                                                      'ses', \n",
    "                                                                      'albumin_diag', \n",
    "                                                                      'weight_pct_change',\n",
    "                                                                      'risk_score']))\n",
    "\n",
    "fire_high_x = preprocessor.fit_transform(fire_iptw_high.filter(items = ['age',\n",
    "                                                                        'gender',\n",
    "                                                                        'race',\n",
    "                                                                        'p_type',\n",
    "                                                                        'crc_site',\n",
    "                                                                        'met_cat',\n",
    "                                                                        'delta_met_diagnosis',\n",
    "                                                                        'commercial',\n",
    "                                                                        'medicare',\n",
    "                                                                        'medicaid',\n",
    "                                                                        'ecog_2', \n",
    "                                                                        'ses', \n",
    "                                                                        'albumin_diag', \n",
    "                                                                        'weight_pct_change',\n",
    "                                                                        'risk_score']))\n",
    "\n",
    "fire_all_x = preprocessor.fit_transform(fire_iptw_all.filter(items = ['age',\n",
    "                                                                      'gender',\n",
    "                                                                      'race',\n",
    "                                                                      'p_type',\n",
    "                                                                      'crc_site',\n",
    "                                                                      'met_cat',\n",
    "                                                                      'delta_met_diagnosis',\n",
    "                                                                      'commercial',\n",
    "                                                                      'medicare',\n",
    "                                                                      'medicaid',\n",
    "                                                                      'ecog_2', \n",
    "                                                                      'ses', \n",
    "                                                                      'albumin_diag', \n",
    "                                                                      'weight_pct_change',\n",
    "                                                                      'risk_score']))"
   ]
  },
  {
   "cell_type": "code",
   "execution_count": 99,
   "id": "d1445b3c",
   "metadata": {},
   "outputs": [
    {
     "data": {
      "text/plain": [
       "LogisticRegression(max_iter=1000)"
      ]
     },
     "execution_count": 99,
     "metadata": {},
     "output_type": "execute_result"
    }
   ],
   "source": [
    "lr_fire_low = LogisticRegression(max_iter = 1000)\n",
    "lr_fire_low.fit(fire_low_x, fire_iptw_low['fxi_cet'])"
   ]
  },
  {
   "cell_type": "code",
   "execution_count": 100,
   "id": "ed0ed965",
   "metadata": {},
   "outputs": [
    {
     "data": {
      "text/plain": [
       "LogisticRegression(max_iter=1000)"
      ]
     },
     "execution_count": 100,
     "metadata": {},
     "output_type": "execute_result"
    }
   ],
   "source": [
    "lr_fire_med = LogisticRegression(max_iter = 1000)\n",
    "lr_fire_med.fit(fire_med_x, fire_iptw_med['fxi_cet'])"
   ]
  },
  {
   "cell_type": "code",
   "execution_count": 101,
   "id": "b1783dde",
   "metadata": {},
   "outputs": [
    {
     "data": {
      "text/plain": [
       "LogisticRegression(max_iter=1000)"
      ]
     },
     "execution_count": 101,
     "metadata": {},
     "output_type": "execute_result"
    }
   ],
   "source": [
    "lr_fire_high = LogisticRegression(max_iter = 1000)\n",
    "lr_fire_high.fit(fire_high_x, fire_iptw_high['fxi_cet'])"
   ]
  },
  {
   "cell_type": "code",
   "execution_count": 102,
   "id": "84d84ff9",
   "metadata": {},
   "outputs": [
    {
     "data": {
      "text/plain": [
       "LogisticRegression(max_iter=1000)"
      ]
     },
     "execution_count": 102,
     "metadata": {},
     "output_type": "execute_result"
    }
   ],
   "source": [
    "lr_fire_all = LogisticRegression(max_iter = 1000)\n",
    "lr_fire_all.fit(fire_all_x, fire_iptw_all['fxi_cet'])"
   ]
  },
  {
   "cell_type": "code",
   "execution_count": 103,
   "id": "da730ccb",
   "metadata": {},
   "outputs": [],
   "source": [
    "pred_low = lr_fire_low.predict_proba(fire_low_x)\n",
    "pred_med = lr_fire_med.predict_proba(fire_med_x)\n",
    "pred_high = lr_fire_high.predict_proba(fire_high_x)\n",
    "pred_all = lr_fire_all.predict_proba(fire_all_x)"
   ]
  },
  {
   "cell_type": "code",
   "execution_count": 104,
   "id": "9a6771cc",
   "metadata": {},
   "outputs": [
    {
     "name": "stderr",
     "output_type": "stream",
     "text": [
      "/Users/xavierorcutt/Dropbox/ist_project/myenv/lib/python3.7/site-packages/ipykernel_launcher.py:1: SettingWithCopyWarning: \n",
      "A value is trying to be set on a copy of a slice from a DataFrame.\n",
      "Try using .loc[row_indexer,col_indexer] = value instead\n",
      "\n",
      "See the caveats in the documentation: https://pandas.pydata.org/pandas-docs/stable/user_guide/indexing.html#returning-a-view-versus-a-copy\n",
      "  \"\"\"Entry point for launching an IPython kernel.\n",
      "/Users/xavierorcutt/Dropbox/ist_project/myenv/lib/python3.7/site-packages/ipykernel_launcher.py:2: SettingWithCopyWarning: \n",
      "A value is trying to be set on a copy of a slice from a DataFrame.\n",
      "Try using .loc[row_indexer,col_indexer] = value instead\n",
      "\n",
      "See the caveats in the documentation: https://pandas.pydata.org/pandas-docs/stable/user_guide/indexing.html#returning-a-view-versus-a-copy\n",
      "  \n",
      "/Users/xavierorcutt/Dropbox/ist_project/myenv/lib/python3.7/site-packages/ipykernel_launcher.py:3: SettingWithCopyWarning: \n",
      "A value is trying to be set on a copy of a slice from a DataFrame.\n",
      "Try using .loc[row_indexer,col_indexer] = value instead\n",
      "\n",
      "See the caveats in the documentation: https://pandas.pydata.org/pandas-docs/stable/user_guide/indexing.html#returning-a-view-versus-a-copy\n",
      "  This is separate from the ipykernel package so we can avoid doing imports until\n"
     ]
    }
   ],
   "source": [
    "fire_iptw_low['ps'] = pred_low[:, 1]\n",
    "fire_iptw_med['ps'] = pred_med[:, 1]\n",
    "fire_iptw_high['ps'] = pred_high[:, 1]\n",
    "fire_iptw_all['ps'] = pred_all[:, 1]"
   ]
  },
  {
   "cell_type": "code",
   "execution_count": 105,
   "id": "6c0bb3ae",
   "metadata": {},
   "outputs": [
    {
     "name": "stderr",
     "output_type": "stream",
     "text": [
      "/Users/xavierorcutt/Dropbox/ist_project/myenv/lib/python3.7/site-packages/ipykernel_launcher.py:2: SettingWithCopyWarning: \n",
      "A value is trying to be set on a copy of a slice from a DataFrame.\n",
      "Try using .loc[row_indexer,col_indexer] = value instead\n",
      "\n",
      "See the caveats in the documentation: https://pandas.pydata.org/pandas-docs/stable/user_guide/indexing.html#returning-a-view-versus-a-copy\n",
      "  \n",
      "/Users/xavierorcutt/Dropbox/ist_project/myenv/lib/python3.7/site-packages/ipykernel_launcher.py:5: SettingWithCopyWarning: \n",
      "A value is trying to be set on a copy of a slice from a DataFrame.\n",
      "Try using .loc[row_indexer,col_indexer] = value instead\n",
      "\n",
      "See the caveats in the documentation: https://pandas.pydata.org/pandas-docs/stable/user_guide/indexing.html#returning-a-view-versus-a-copy\n",
      "  \"\"\"\n",
      "/Users/xavierorcutt/Dropbox/ist_project/myenv/lib/python3.7/site-packages/ipykernel_launcher.py:8: SettingWithCopyWarning: \n",
      "A value is trying to be set on a copy of a slice from a DataFrame.\n",
      "Try using .loc[row_indexer,col_indexer] = value instead\n",
      "\n",
      "See the caveats in the documentation: https://pandas.pydata.org/pandas-docs/stable/user_guide/indexing.html#returning-a-view-versus-a-copy\n",
      "  \n"
     ]
    }
   ],
   "source": [
    "fire_iptw_low['weight'] = (\n",
    "    np.where(fire_iptw_low['fxi_cet'] == 1, 1/fire_iptw_low['ps'], 1/(1 - fire_iptw_low['ps'])))\n",
    "\n",
    "fire_iptw_med['weight'] = (\n",
    "    np.where(fire_iptw_med['fxi_cet'] == 1, 1/fire_iptw_med['ps'], 1/(1 - fire_iptw_med['ps'])))\n",
    "\n",
    "fire_iptw_high['weight'] = (\n",
    "    np.where(fire_iptw_high['fxi_cet'] == 1, 1/fire_iptw_high['ps'], 1/(1 - fire_iptw_high['ps'])))\n",
    "\n",
    "fire_iptw_all['weight'] = (\n",
    "    np.where(fire_iptw_all['fxi_cet'] == 1, 1/fire_iptw_all['ps'], 1/(1 - fire_iptw_all['ps'])))"
   ]
  },
  {
   "cell_type": "code",
   "execution_count": 106,
   "id": "085dde30",
   "metadata": {},
   "outputs": [
    {
     "name": "stderr",
     "output_type": "stream",
     "text": [
      "/Users/xavierorcutt/Dropbox/ist_project/myenv/lib/python3.7/site-packages/lifelines/fitters/kaplan_meier_fitter.py:344: StatisticalWarning: It looks like your weights are not integers, possibly propensity scores then?\n",
      "  It's important to know that the naive variance estimates of the coefficients are biased. Instead use Monte Carlo to\n",
      "  estimate the variances. See paper \"Variance estimation when using inverse probability of treatment weighting (IPTW) with survival analysis\"\n",
      "  or \"Adjusted Kaplan-Meier estimator and log-rank test with inverse probability of treatment weighting for survival data.\"\n",
      "                  \n",
      "  StatisticalWarning,\n"
     ]
    },
    {
     "data": {
      "text/plain": [
       "<lifelines.KaplanMeierFitter:\"KM_estimate\", fitted with 3055.45 total observations, 1166.35 right-censored observations>"
      ]
     },
     "execution_count": 106,
     "metadata": {},
     "output_type": "execute_result"
    }
   ],
   "source": [
    "# Low KM curves\n",
    "kmf_low_cet_f_iptw = KaplanMeierFitter()\n",
    "kmf_low_bev_f_iptw = KaplanMeierFitter()\n",
    "\n",
    "kmf_low_cet_f_iptw.fit(\n",
    "    fire_iptw_low.query('fxi_cet == 1').timerisk_treatment/30,\n",
    "    fire_iptw_low.query('fxi_cet == 1').death_status,\n",
    "    weights = fire_iptw_low.query('fxi_cet == 1')['weight'])\n",
    "\n",
    "kmf_low_bev_f_iptw.fit(\n",
    "    fire_iptw_low.query('fxi_cet == 0').timerisk_treatment/30,\n",
    "    fire_iptw_low.query('fxi_cet == 0').death_status,\n",
    "    weights = fire_iptw_low.query('fxi_cet == 0')['weight'])\n",
    "\n",
    "# Med KM curves\n",
    "kmf_med_cet_f_iptw = KaplanMeierFitter()\n",
    "kmf_med_bev_f_iptw = KaplanMeierFitter()\n",
    "\n",
    "kmf_med_cet_f_iptw.fit(\n",
    "    fire_iptw_med.query('fxi_cet == 1').timerisk_treatment/30,\n",
    "    fire_iptw_med.query('fxi_cet == 1').death_status,\n",
    "    weights = fire_iptw_med.query('fxi_cet == 1')['weight'])\n",
    "\n",
    "kmf_med_bev_f_iptw.fit(\n",
    "    fire_iptw_med.query('fxi_cet == 0').timerisk_treatment/30,\n",
    "    fire_iptw_med.query('fxi_cet == 0').death_status,\n",
    "    weights = fire_iptw_med.query('fxi_cet == 0')['weight'])\n",
    "\n",
    "# High KM curves \n",
    "kmf_high_cet_f_iptw = KaplanMeierFitter()\n",
    "kmf_high_bev_f_iptw = KaplanMeierFitter()\n",
    "\n",
    "kmf_high_cet_f_iptw.fit(\n",
    "    fire_iptw_high.query('fxi_cet == 1').timerisk_treatment/30,\n",
    "    fire_iptw_high.query('fxi_cet == 1').death_status,\n",
    "    weights = fire_iptw_high.query('fxi_cet == 1')['weight'])\n",
    "\n",
    "kmf_high_bev_f_iptw.fit(\n",
    "    fire_iptw_high.query('fxi_cet == 0').timerisk_treatment/30,\n",
    "    fire_iptw_high.query('fxi_cet == 0').death_status,\n",
    "    weights = fire_iptw_high.query('fxi_cet == 0')['weight'])\n",
    "\n",
    "# All KM curves \n",
    "kmf_all_cet_f_iptw = KaplanMeierFitter()\n",
    "kmf_all_bev_f_iptw = KaplanMeierFitter()\n",
    "\n",
    "kmf_all_cet_f_iptw.fit(\n",
    "    fire_iptw_all.query('fxi_cet == 1').timerisk_treatment/30,\n",
    "    fire_iptw_all.query('fxi_cet == 1').death_status,\n",
    "    weights = fire_iptw_all.query('fxi_cet == 1')['weight'])\n",
    "\n",
    "kmf_all_bev_f_iptw.fit(\n",
    "    fire_iptw_all.query('fxi_cet == 0').timerisk_treatment/30,\n",
    "    fire_iptw_all.query('fxi_cet == 0').death_status,\n",
    "    weights = fire_iptw_all.query('fxi_cet == 0')['weight'])"
   ]
  },
  {
   "cell_type": "code",
   "execution_count": 107,
   "id": "f52fd54f",
   "metadata": {},
   "outputs": [
    {
     "data": {
      "image/png": "[encoded data removed]",
      "text/plain": [
       "<Figure size 1800x600 with 5 Axes>"
      ]
     },
     "metadata": {},
     "output_type": "display_data"
    }
   ],
   "source": [
    "fig = plt.figure(figsize=(18, 6))\n",
    "\n",
    "# Plot survival curves for low risk group \n",
    "plt.subplot(1, 4, 1)\n",
    "\n",
    "plt.step(kmf_low_cet_f_iptw.timeline, kmf_low_cet_f_iptw.survival_function_.values*100, color = 'red', alpha = 0.5)\n",
    "\n",
    "plt.step(kmf_low_bev_f_iptw.timeline, kmf_low_bev_f_iptw.survival_function_.values*100, color = 'black', alpha = 0.5)\n",
    "\n",
    "plt.xticks(np.arange(0, 61, 6))\n",
    "plt.xlim(0, 61)\n",
    "plt.ylim(0, 100)\n",
    "\n",
    "plt.title('Low-risk', weight = 'bold')\n",
    "plt.ylabel('Overall survival (%)', size = 12, weight = 'bold')\n",
    "\n",
    "plt.gca().spines['top'].set_visible(False)\n",
    "plt.gca().spines['right'].set_visible(False)\n",
    "\n",
    "# Plot survival curves for med risk group. \n",
    "plt.subplot(1, 4, 2)\n",
    "\n",
    "plt.step(kmf_med_cet_f_iptw.timeline, kmf_med_cet_f_iptw.survival_function_.values*100, color = 'red', alpha = 0.5)\n",
    "\n",
    "plt.step(kmf_med_bev_f_iptw.timeline, kmf_med_bev_f_iptw.survival_function_.values*100, color = 'black', alpha = 0.5)\n",
    "\n",
    "plt.xticks(np.arange(0, 61, 6))\n",
    "plt.xlim(0, 61)\n",
    "plt.ylim(0, 100)\n",
    "\n",
    "plt.title('Med-risk', weight = 'bold')\n",
    "\n",
    "plt.gca().spines['top'].set_visible(False)\n",
    "plt.gca().spines['right'].set_visible(False)\n",
    "\n",
    "# Plot survival curves by treatment for high risk group. \n",
    "plt.subplot(1, 4, 3)\n",
    "\n",
    "plt.step(kmf_high_cet_f_iptw.timeline, kmf_high_cet_f_iptw.survival_function_.values*100, color = 'red', alpha = 0.5)\n",
    "\n",
    "plt.step(kmf_high_bev_f_iptw.timeline, kmf_high_bev_f_iptw.survival_function_.values*100, color = 'black', alpha = 0.5)\n",
    "\n",
    "plt.xticks(np.arange(0, 61, 6))\n",
    "plt.xlim(0, 61)\n",
    "plt.ylim(0, 100)\n",
    "\n",
    "plt.title('High-risk', weight = 'bold')\n",
    "\n",
    "plt.gca().spines['top'].set_visible(False)\n",
    "plt.gca().spines['right'].set_visible(False)\n",
    "\n",
    "# Plot survival curves by treatment for all risk group. \n",
    "plt.subplot(1, 4, 4)\n",
    "\n",
    "plt.step(kmf_all_cet_f_iptw.timeline, kmf_all_cet_f_iptw.survival_function_.values*100, color = 'red', alpha = 0.5, label = 'Cetuximab + FOLFIRI')\n",
    "\n",
    "plt.step(kmf_all_bev_f_iptw.timeline, kmf_all_bev_f_iptw.survival_function_.values*100, color = 'black', alpha = 0.5, label = 'Bevacizumab + FOLFIRI')\n",
    "\n",
    "plt.xticks(np.arange(0, 61, 6))\n",
    "plt.xlim(0, 61)\n",
    "plt.ylim(0, 100)\n",
    "\n",
    "plt.title('Full cohort', weight = 'bold')\n",
    "\n",
    "plt.gca().spines['top'].set_visible(False)\n",
    "plt.gca().spines['right'].set_visible(False)\n",
    "\n",
    "plt.legend(loc = 'lower right', prop = {'size': 9})\n",
    "\n",
    "fig.add_subplot(1, 1, 1, frameon = False)\n",
    "plt.tick_params(labelcolor = 'none', which = 'both', top = False, bottom = False, left = False, right = False)\n",
    "plt.xlabel('Months after treatment', labelpad = 15, size = 12, weight = 'bold')\n",
    "plt.title('FIRE-3: Overall survival for Cetuximab + FOLFIRI vs. Bevacizumab + FOLFIRI among KRAS wild-type', pad = 40, size = 15, weight = 'bold')\n",
    "\n",
    "plt.show()"
   ]
  }
 ],
 "metadata": {
  "kernelspec": {
   "display_name": "My Virtual Environment",
   "language": "python",
   "name": "myenv"
  },
  "language_info": {
   "codemirror_mode": {
    "name": "ipython",
    "version": 3
   },
   "file_extension": ".py",
   "mimetype": "text/x-python",
   "name": "python",
   "nbconvert_exporter": "python",
   "pygments_lexer": "ipython3",
   "version": "3.7.10"
  }
 },
 "nbformat": 4,
 "nbformat_minor": 5
}
