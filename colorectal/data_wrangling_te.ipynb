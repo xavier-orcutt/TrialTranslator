{
 "cells": [
  {
   "cell_type": "markdown",
   "id": "a59a061a",
   "metadata": {},
   "source": [
    "# Flatiron Health mCRC: Data Wrangling Test Set\n",
    "\n",
    "**OBJECTIVE: Create a dataframe of relevant variables using test cohort patients which will be used to validate machine learning survival models.**\n",
    "\n",
    "**BACKGROUND: The 11 CSV Flatiron files will be cleaned in the exact same fashion for the test set patients as for the training set patients. For more information on the cleaning process refer to Notebook: Data Wrangling Training Set.**\n",
    "\n",
    "**OUTLINE:**\n",
    "1. **File cleaning for patients in training set**\n",
    "2. **Merge files to create master test dataframe** "
   ]
  },
  {
   "cell_type": "code",
   "execution_count": 1,
   "id": "9c90c659",
   "metadata": {},
   "outputs": [],
   "source": [
    "import numpy as np\n",
    "import pandas as pd\n",
    "import matplotlib.pyplot as plt\n",
    "import datetime as dt"
   ]
  },
  {
   "cell_type": "code",
   "execution_count": 2,
   "id": "201a9ed4",
   "metadata": {},
   "outputs": [],
   "source": [
    "# Function that returns number of rows and count of unique PatientIDs for a dataframe. \n",
    "def row_ID(dataframe):\n",
    "    row = dataframe.shape[0]\n",
    "    ID = dataframe['PatientID'].nunique()\n",
    "    return row, ID"
   ]
  },
  {
   "cell_type": "code",
   "execution_count": 3,
   "id": "af9a25cd",
   "metadata": {},
   "outputs": [],
   "source": [
    "#Import test IDs saved from Data Wrangling Training Set file. \n",
    "test_IDs = pd.read_csv('test_IDs.csv')"
   ]
  },
  {
   "cell_type": "code",
   "execution_count": 4,
   "id": "71962c71",
   "metadata": {},
   "outputs": [],
   "source": [
    "# Array of PatientIDs in training set.\n",
    "test_IDs = test_IDs['PatientID'].to_numpy()"
   ]
  },
  {
   "cell_type": "code",
   "execution_count": 5,
   "id": "ef7fc19f",
   "metadata": {},
   "outputs": [
    {
     "data": {
      "text/plain": [
       "6863"
      ]
     },
     "execution_count": 5,
     "metadata": {},
     "output_type": "execute_result"
    }
   ],
   "source": [
    "len(test_IDs)"
   ]
  },
  {
   "cell_type": "markdown",
   "id": "5518c0df",
   "metadata": {},
   "source": [
    "## Part 1: Data wrangling\n",
    "\n",
    "**Relevant CSV files will be imported and processed. A file is considered processed when each row corresponds to a unique patient from the training set and each column is a relevant variable for mortality prognositication. The eligibility window for collecting variables is typically defined as -90 days and +30 days from index date. The index date is time of metastatic diagnosis. Plus 30 was selected as the upper bound of the eligibility window given that median time to start of first line treatment is about 30 days from metastatic diagnosis.** \n",
    "\n",
    "**The following 11 CSV files from Flatiron will be cleaned:**\n",
    "1. **Demographics**\n",
    "2. **Enhanced_MetastaticCRC**\n",
    "3. **Enhanced_Mortality_V2**\n",
    "4. **MedicationAdministration**\n",
    "5. **Enhanced_MetCRCBiomarkers**\n",
    "6. **Insurance**\n",
    "7. **ECOG**\n",
    "8. **Vitals**\n",
    "9. **Labs**\n",
    "10. **Diagnosis**\n",
    "11. **SocialDeeterminantsOfHealth**"
   ]
  },
  {
   "cell_type": "markdown",
   "id": "a2de908b",
   "metadata": {},
   "source": [
    "### 1. Demographics"
   ]
  },
  {
   "cell_type": "code",
   "execution_count": 6,
   "id": "1a44f5a3",
   "metadata": {},
   "outputs": [],
   "source": [
    "demographics = pd.read_csv('Demographics.csv')"
   ]
  },
  {
   "cell_type": "code",
   "execution_count": 7,
   "id": "d8404b75",
   "metadata": {},
   "outputs": [],
   "source": [
    "demographics = demographics[demographics['PatientID'].isin(test_IDs)]"
   ]
  },
  {
   "cell_type": "code",
   "execution_count": 8,
   "id": "ed08a4bc",
   "metadata": {},
   "outputs": [
    {
     "data": {
      "text/plain": [
       "(6863, 6863)"
      ]
     },
     "execution_count": 8,
     "metadata": {},
     "output_type": "execute_result"
    }
   ],
   "source": [
    "row_ID(demographics)"
   ]
  },
  {
   "cell_type": "markdown",
   "id": "b9f33912",
   "metadata": {},
   "source": [
    "#### Race and Ethnicity"
   ]
  },
  {
   "cell_type": "code",
   "execution_count": 9,
   "id": "c7214c1b",
   "metadata": {},
   "outputs": [],
   "source": [
    "# If race value is 'Hispanic or Latino', code as unknown, otherwise value unchanged.\n",
    "demographics['race'] = (\n",
    "    np.where(demographics['Race'] == 'Hispanic or Latino', 'unknown', demographics['Race'])\n",
    ")"
   ]
  },
  {
   "cell_type": "code",
   "execution_count": 10,
   "id": "c99061ea",
   "metadata": {},
   "outputs": [],
   "source": [
    "# Missing race value will be recoded as Unknown\n",
    "demographics['race'] = demographics['race'].fillna('unknown')"
   ]
  },
  {
   "cell_type": "code",
   "execution_count": 11,
   "id": "c4b69757",
   "metadata": {},
   "outputs": [
    {
     "data": {
      "text/plain": [
       "6863"
      ]
     },
     "execution_count": 11,
     "metadata": {},
     "output_type": "execute_result"
    }
   ],
   "source": [
    "demographics['race'].value_counts().sum()"
   ]
  },
  {
   "cell_type": "code",
   "execution_count": 12,
   "id": "172091cc",
   "metadata": {},
   "outputs": [],
   "source": [
    "# If race value is equal to 'Hispanic or Latino', code ethnicity as 'Hispanic or Latino', otherwise unchanged. \n",
    "demographics['ethnicity'] = (\n",
    "    np.where(demographics['Race'] == 'Hispanic or Latino', 'hispanic_latino', demographics['Ethnicity'])\n",
    ")"
   ]
  },
  {
   "cell_type": "code",
   "execution_count": 13,
   "id": "8b9c8598",
   "metadata": {},
   "outputs": [],
   "source": [
    "demographics['ethnicity'] = demographics['ethnicity'].fillna('unknown')"
   ]
  },
  {
   "cell_type": "code",
   "execution_count": 14,
   "id": "775abed7",
   "metadata": {},
   "outputs": [],
   "source": [
    "demographics['ethnicity'] = demographics['ethnicity'].replace({'Hispanic or Latino': 'hispanic_latino'})"
   ]
  },
  {
   "cell_type": "code",
   "execution_count": 15,
   "id": "00e19607",
   "metadata": {},
   "outputs": [],
   "source": [
    "demographics = demographics.drop(columns = ['Race', 'Ethnicity'])"
   ]
  },
  {
   "cell_type": "markdown",
   "id": "180bf5fa",
   "metadata": {},
   "source": [
    "#### BirthYear"
   ]
  },
  {
   "cell_type": "code",
   "execution_count": 16,
   "id": "bdf0bbff",
   "metadata": {},
   "outputs": [],
   "source": [
    "enhanced_met = pd.read_csv('Enhanced_MetastaticCRC.csv')"
   ]
  },
  {
   "cell_type": "code",
   "execution_count": 17,
   "id": "d4a43160",
   "metadata": {},
   "outputs": [],
   "source": [
    "demographics = pd.merge(demographics, enhanced_met[['PatientID', 'MetDiagnosisDate']], on = 'PatientID')"
   ]
  },
  {
   "cell_type": "code",
   "execution_count": 18,
   "id": "4a46805a",
   "metadata": {},
   "outputs": [],
   "source": [
    "demographics.loc[:, 'MetDiagnosisDate'] = pd.to_datetime(demographics['MetDiagnosisDate'])"
   ]
  },
  {
   "cell_type": "code",
   "execution_count": 19,
   "id": "adb97bf8",
   "metadata": {},
   "outputs": [],
   "source": [
    "demographics.loc[:, 'age'] = demographics['MetDiagnosisDate'].dt.year - demographics['BirthYear']"
   ]
  },
  {
   "cell_type": "code",
   "execution_count": 20,
   "id": "6e3c9e26",
   "metadata": {},
   "outputs": [],
   "source": [
    "demographics = demographics.drop(columns = ['BirthYear', 'MetDiagnosisDate'])"
   ]
  },
  {
   "cell_type": "markdown",
   "id": "9602287c",
   "metadata": {},
   "source": [
    "#### PracticeType"
   ]
  },
  {
   "cell_type": "code",
   "execution_count": 21,
   "id": "c4c96360",
   "metadata": {},
   "outputs": [],
   "source": [
    "practice = pd.read_csv('Practice.csv')"
   ]
  },
  {
   "cell_type": "code",
   "execution_count": 22,
   "id": "1864cac6",
   "metadata": {},
   "outputs": [],
   "source": [
    "practice = practice[practice['PatientID'].isin(test_IDs)]"
   ]
  },
  {
   "cell_type": "code",
   "execution_count": 23,
   "id": "9d24a0ce",
   "metadata": {},
   "outputs": [
    {
     "data": {
      "text/plain": [
       "(6991, 6863)"
      ]
     },
     "execution_count": 23,
     "metadata": {},
     "output_type": "execute_result"
    }
   ],
   "source": [
    "row_ID(practice)"
   ]
  },
  {
   "cell_type": "code",
   "execution_count": 24,
   "id": "73b26755",
   "metadata": {},
   "outputs": [],
   "source": [
    "practice_unique_count = (\n",
    "    practice.groupby('PatientID')['PracticeType'].agg('nunique')\n",
    "    .to_frame()\n",
    "    .reset_index()\n",
    "    .rename(columns = {'PracticeType': 'n_type'})\n",
    ")"
   ]
  },
  {
   "cell_type": "code",
   "execution_count": 25,
   "id": "e0327d4b",
   "metadata": {},
   "outputs": [],
   "source": [
    "practice_n = pd.merge(practice, practice_unique_count, on = 'PatientID')"
   ]
  },
  {
   "cell_type": "code",
   "execution_count": 26,
   "id": "cb2378ab",
   "metadata": {},
   "outputs": [],
   "source": [
    "practice_n['p_type'] = (\n",
    "    np.where(practice_n['n_type'] == 1, practice_n['PracticeType'], 'BOTH')\n",
    ")"
   ]
  },
  {
   "cell_type": "code",
   "execution_count": 27,
   "id": "37a7bbcc",
   "metadata": {},
   "outputs": [],
   "source": [
    "practice_n = (\n",
    "    practice_n.drop_duplicates(subset = ['PatientID'], keep = 'first')\n",
    "    .filter(items = ['PatientID', 'p_type'])\n",
    ")"
   ]
  },
  {
   "cell_type": "code",
   "execution_count": 28,
   "id": "b7d34b9c",
   "metadata": {},
   "outputs": [],
   "source": [
    "demographics = pd.merge(demographics, practice_n, on = 'PatientID')"
   ]
  },
  {
   "cell_type": "markdown",
   "id": "e6355f23",
   "metadata": {},
   "source": [
    "#### Gender"
   ]
  },
  {
   "cell_type": "code",
   "execution_count": 29,
   "id": "2223c7c4",
   "metadata": {},
   "outputs": [],
   "source": [
    "# Impute M as unknown given most common gender. \n",
    "demographics['Gender'] = demographics['Gender'].fillna('M')"
   ]
  },
  {
   "cell_type": "code",
   "execution_count": 30,
   "id": "60794ddd",
   "metadata": {},
   "outputs": [],
   "source": [
    "demographics = demographics.rename(columns = {'Gender': 'gender'})"
   ]
  },
  {
   "cell_type": "markdown",
   "id": "2b951d94",
   "metadata": {},
   "source": [
    "#### State"
   ]
  },
  {
   "cell_type": "code",
   "execution_count": 31,
   "id": "b1c5e4ad",
   "metadata": {},
   "outputs": [],
   "source": [
    "# Group states into Census-Bureau regions  \n",
    "state_dict = { \n",
    "    'ME': 'northeast', \n",
    "    'NH': 'northeast',\n",
    "    'VT': 'northeast', \n",
    "    'MA': 'northeast',\n",
    "    'CT': 'northeast',\n",
    "    'RI': 'northeast',  \n",
    "    'NY': 'northeast', \n",
    "    'NJ': 'northeast', \n",
    "    'PA': 'northeast', \n",
    "    'IL': 'midwest', \n",
    "    'IN': 'midwest', \n",
    "    'MI': 'midwest', \n",
    "    'OH': 'midwest', \n",
    "    'WI': 'midwest',\n",
    "    'IA': 'midwest',\n",
    "    'KS': 'midwest',\n",
    "    'MN': 'midwest',\n",
    "    'MO': 'midwest', \n",
    "    'NE': 'midwest',\n",
    "    'ND': 'midwest',\n",
    "    'SD': 'midwest',\n",
    "    'DE': 'south',\n",
    "    'FL': 'south',\n",
    "    'GA': 'south',\n",
    "    'MD': 'south',\n",
    "    'NC': 'south', \n",
    "    'SC': 'south',\n",
    "    'VA': 'south',\n",
    "    'DC': 'south',\n",
    "    'WV': 'south',\n",
    "    'AL': 'south',\n",
    "    'KY': 'south',\n",
    "    'MS': 'south',\n",
    "    'TN': 'south',\n",
    "    'AR': 'south',\n",
    "    'LA': 'south',\n",
    "    'OK': 'south',\n",
    "    'TX': 'south',\n",
    "    'AZ': 'west',\n",
    "    'CO': 'west',\n",
    "    'ID': 'west',\n",
    "    'MT': 'west',\n",
    "    'NV': 'west',\n",
    "    'NM': 'west',\n",
    "    'UT': 'west',\n",
    "    'WY': 'west',\n",
    "    'AK': 'west',\n",
    "    'CA': 'west',\n",
    "    'HI': 'west',\n",
    "    'OR': 'west',\n",
    "    'WA': 'west',\n",
    "    'PR': 'unknown'\n",
    "}\n",
    "\n",
    "demographics['region'] = demographics['State'].map(state_dict)"
   ]
  },
  {
   "cell_type": "code",
   "execution_count": 32,
   "id": "f530b4a9",
   "metadata": {},
   "outputs": [],
   "source": [
    "demographics['region'] = demographics['region'].fillna('unknown')"
   ]
  },
  {
   "cell_type": "code",
   "execution_count": 33,
   "id": "d72b2367",
   "metadata": {},
   "outputs": [],
   "source": [
    "demographics = demographics.drop(columns = ['State'])"
   ]
  },
  {
   "cell_type": "code",
   "execution_count": 34,
   "id": "199f3aa2",
   "metadata": {},
   "outputs": [
    {
     "data": {
      "text/html": [
       "<div>\n",
       "<style scoped>\n",
       "    .dataframe tbody tr th:only-of-type {\n",
       "        vertical-align: middle;\n",
       "    }\n",
       "\n",
       "    .dataframe tbody tr th {\n",
       "        vertical-align: top;\n",
       "    }\n",
       "\n",
       "    .dataframe thead th {\n",
       "        text-align: right;\n",
       "    }\n",
       "</style>\n",
       "<table border=\"1\" class=\"dataframe\">\n",
       "  <thead>\n",
       "    <tr style=\"text-align: right;\">\n",
       "      <th></th>\n",
       "      <th>PatientID</th>\n",
       "      <th>gender</th>\n",
       "      <th>race</th>\n",
       "      <th>ethnicity</th>\n",
       "      <th>age</th>\n",
       "      <th>p_type</th>\n",
       "      <th>region</th>\n",
       "    </tr>\n",
       "  </thead>\n",
       "  <tbody>\n",
       "    <tr>\n",
       "      <th>3360</th>\n",
       "      <td>F24EC6B73C794</td>\n",
       "      <td>M</td>\n",
       "      <td>White</td>\n",
       "      <td>Not Hispanic or Latino</td>\n",
       "      <td>48</td>\n",
       "      <td>ACADEMIC</td>\n",
       "      <td>unknown</td>\n",
       "    </tr>\n",
       "    <tr>\n",
       "      <th>1221</th>\n",
       "      <td>F5EC96C220FD3</td>\n",
       "      <td>M</td>\n",
       "      <td>Other Race</td>\n",
       "      <td>unknown</td>\n",
       "      <td>44</td>\n",
       "      <td>COMMUNITY</td>\n",
       "      <td>midwest</td>\n",
       "    </tr>\n",
       "    <tr>\n",
       "      <th>1500</th>\n",
       "      <td>FF8747E1DCA9B</td>\n",
       "      <td>F</td>\n",
       "      <td>White</td>\n",
       "      <td>hispanic_latino</td>\n",
       "      <td>49</td>\n",
       "      <td>COMMUNITY</td>\n",
       "      <td>unknown</td>\n",
       "    </tr>\n",
       "    <tr>\n",
       "      <th>4627</th>\n",
       "      <td>F321D1A0A7F79</td>\n",
       "      <td>F</td>\n",
       "      <td>Black or African American</td>\n",
       "      <td>Not Hispanic or Latino</td>\n",
       "      <td>53</td>\n",
       "      <td>COMMUNITY</td>\n",
       "      <td>south</td>\n",
       "    </tr>\n",
       "    <tr>\n",
       "      <th>6524</th>\n",
       "      <td>F2D95CFBCC7FC</td>\n",
       "      <td>M</td>\n",
       "      <td>White</td>\n",
       "      <td>Not Hispanic or Latino</td>\n",
       "      <td>77</td>\n",
       "      <td>COMMUNITY</td>\n",
       "      <td>south</td>\n",
       "    </tr>\n",
       "  </tbody>\n",
       "</table>\n",
       "</div>"
      ],
      "text/plain": [
       "          PatientID gender                       race               ethnicity  \\\n",
       "3360  F24EC6B73C794      M                      White  Not Hispanic or Latino   \n",
       "1221  F5EC96C220FD3      M                 Other Race                 unknown   \n",
       "1500  FF8747E1DCA9B      F                      White         hispanic_latino   \n",
       "4627  F321D1A0A7F79      F  Black or African American  Not Hispanic or Latino   \n",
       "6524  F2D95CFBCC7FC      M                      White  Not Hispanic or Latino   \n",
       "\n",
       "      age     p_type   region  \n",
       "3360   48   ACADEMIC  unknown  \n",
       "1221   44  COMMUNITY  midwest  \n",
       "1500   49  COMMUNITY  unknown  \n",
       "4627   53  COMMUNITY    south  \n",
       "6524   77  COMMUNITY    south  "
      ]
     },
     "execution_count": 34,
     "metadata": {},
     "output_type": "execute_result"
    }
   ],
   "source": [
    "# Final training demographics table.\n",
    "demographics.sample(5)"
   ]
  },
  {
   "cell_type": "code",
   "execution_count": 35,
   "id": "3f65a467",
   "metadata": {},
   "outputs": [
    {
     "name": "stdout",
     "output_type": "stream",
     "text": [
      "Variable                Type         Data/Info\n",
      "----------------------------------------------\n",
      "demographics            DataFrame              PatientID gende<...>\\n[6863 rows x 7 columns]\n",
      "enhanced_met            DataFrame               PatientID Diag<...>n[34315 rows x 5 columns]\n",
      "practice                DataFrame               PatientID     <...>\\n[6991 rows x 4 columns]\n",
      "practice_n              DataFrame              PatientID     p<...>\\n[6863 rows x 2 columns]\n",
      "practice_unique_count   DataFrame              PatientID  n_ty<...>\\n[6863 rows x 2 columns]\n"
     ]
    }
   ],
   "source": [
    "%whos DataFrame"
   ]
  },
  {
   "cell_type": "code",
   "execution_count": 36,
   "id": "624bd822",
   "metadata": {},
   "outputs": [],
   "source": [
    "# Keep demographics and enhanced_met\n",
    "del practice\n",
    "del practice_n\n",
    "del practice_unique_count"
   ]
  },
  {
   "cell_type": "markdown",
   "id": "8c083b7c",
   "metadata": {},
   "source": [
    "### 2. Enhanced_MetastaticCRC"
   ]
  },
  {
   "cell_type": "code",
   "execution_count": 37,
   "id": "3fdb03c3",
   "metadata": {},
   "outputs": [],
   "source": [
    "enhanced_met = enhanced_met[enhanced_met['PatientID'].isin(test_IDs)]"
   ]
  },
  {
   "cell_type": "code",
   "execution_count": 38,
   "id": "7467926d",
   "metadata": {},
   "outputs": [
    {
     "data": {
      "text/plain": [
       "(6863, 6863)"
      ]
     },
     "execution_count": 38,
     "metadata": {},
     "output_type": "execute_result"
    }
   ],
   "source": [
    "row_ID(enhanced_met)"
   ]
  },
  {
   "cell_type": "markdown",
   "id": "f8acf8d3",
   "metadata": {},
   "source": [
    "#### GroupStage "
   ]
  },
  {
   "cell_type": "code",
   "execution_count": 39,
   "id": "777d50ed",
   "metadata": {},
   "outputs": [],
   "source": [
    "# Dictionary for regrouping stages\n",
    "stage_dict = { \n",
    "    '0': '0',\n",
    "    'I': 'I',\n",
    "    'II': 'II',\n",
    "    'IIA': 'II',\n",
    "    'IIB': 'II',\n",
    "    'IIC': 'II',\n",
    "    'III': 'III',\n",
    "    'IIIA': 'III',\n",
    "    'IIIB': 'III',\n",
    "    'IIIC': 'III',\n",
    "    'IV': 'IV',\n",
    "    'IVA': 'IV',\n",
    "    'IVB': 'IV'\n",
    "}\n",
    "\n",
    "enhanced_met['stage'] = enhanced_met['GroupStage'].map(stage_dict)"
   ]
  },
  {
   "cell_type": "code",
   "execution_count": 40,
   "id": "4bc9fd43",
   "metadata": {},
   "outputs": [],
   "source": [
    "enhanced_met['stage'] = enhanced_met['stage'].fillna('unknown')"
   ]
  },
  {
   "cell_type": "code",
   "execution_count": 41,
   "id": "af115b4f",
   "metadata": {},
   "outputs": [],
   "source": [
    "enhanced_met = enhanced_met.drop(columns = ['GroupStage'])"
   ]
  },
  {
   "cell_type": "markdown",
   "id": "46705628",
   "metadata": {},
   "source": [
    "#### CRCSite"
   ]
  },
  {
   "cell_type": "markdown",
   "id": "d41164f8",
   "metadata": {},
   "source": [
    "**Refer to Diagnosis section for further cleaning of variable.**"
   ]
  },
  {
   "cell_type": "markdown",
   "id": "e256e255",
   "metadata": {},
   "source": [
    "#### MetDiagnosisDate"
   ]
  },
  {
   "cell_type": "code",
   "execution_count": 42,
   "id": "d935e38b",
   "metadata": {},
   "outputs": [],
   "source": [
    "enhanced_met = enhanced_met.rename(columns = {'MetDiagnosisDate': 'met_date'})"
   ]
  },
  {
   "cell_type": "code",
   "execution_count": 43,
   "id": "df3c11d6",
   "metadata": {},
   "outputs": [],
   "source": [
    "enhanced_met.loc[:, 'met_date'] = pd.to_datetime(enhanced_met['met_date'])"
   ]
  },
  {
   "cell_type": "code",
   "execution_count": 44,
   "id": "044fce63",
   "metadata": {},
   "outputs": [],
   "source": [
    "enhanced_met.loc[:, 'met_year'] = enhanced_met['met_date'].dt.year"
   ]
  },
  {
   "cell_type": "markdown",
   "id": "9217f96d",
   "metadata": {},
   "source": [
    "#### DiagnosisDate"
   ]
  },
  {
   "cell_type": "code",
   "execution_count": 45,
   "id": "3a2c08c1",
   "metadata": {},
   "outputs": [],
   "source": [
    "enhanced_met = enhanced_met.rename(columns = {'DiagnosisDate': 'diagnosis_date'})"
   ]
  },
  {
   "cell_type": "code",
   "execution_count": 46,
   "id": "c0e902c7",
   "metadata": {},
   "outputs": [],
   "source": [
    "# Missing diagnosis_date will be replaced with met_date; other dates will be left untouched. \n",
    "enhanced_met['diagnosis_date'] = (\n",
    "    np.where(enhanced_met['diagnosis_date'].isna(), enhanced_met['met_date'], enhanced_met['diagnosis_date'])\n",
    ")"
   ]
  },
  {
   "cell_type": "code",
   "execution_count": 47,
   "id": "a21c0125",
   "metadata": {},
   "outputs": [],
   "source": [
    "enhanced_met['diagnosis_date'] = pd.to_datetime(enhanced_met['diagnosis_date'])"
   ]
  },
  {
   "cell_type": "markdown",
   "id": "8c77f181",
   "metadata": {},
   "source": [
    "#### Time from diagnosis date to metastatic date"
   ]
  },
  {
   "cell_type": "code",
   "execution_count": 48,
   "id": "299bd6f5",
   "metadata": {},
   "outputs": [],
   "source": [
    "enhanced_met.loc[:, 'delta_met_diagnosis'] = (enhanced_met['met_date'] - enhanced_met['diagnosis_date']).dt.days"
   ]
  },
  {
   "cell_type": "code",
   "execution_count": 49,
   "id": "69eedff5",
   "metadata": {},
   "outputs": [
    {
     "data": {
      "text/html": [
       "<div>\n",
       "<style scoped>\n",
       "    .dataframe tbody tr th:only-of-type {\n",
       "        vertical-align: middle;\n",
       "    }\n",
       "\n",
       "    .dataframe tbody tr th {\n",
       "        vertical-align: top;\n",
       "    }\n",
       "\n",
       "    .dataframe thead th {\n",
       "        text-align: right;\n",
       "    }\n",
       "</style>\n",
       "<table border=\"1\" class=\"dataframe\">\n",
       "  <thead>\n",
       "    <tr style=\"text-align: right;\">\n",
       "      <th></th>\n",
       "      <th>PatientID</th>\n",
       "      <th>diagnosis_date</th>\n",
       "      <th>met_date</th>\n",
       "      <th>CrcSite</th>\n",
       "      <th>stage</th>\n",
       "      <th>met_year</th>\n",
       "      <th>delta_met_diagnosis</th>\n",
       "    </tr>\n",
       "  </thead>\n",
       "  <tbody>\n",
       "    <tr>\n",
       "      <th>11812</th>\n",
       "      <td>FF7ADAF4603D3</td>\n",
       "      <td>2021-07-27</td>\n",
       "      <td>2021-07-27</td>\n",
       "      <td>Rectum</td>\n",
       "      <td>IV</td>\n",
       "      <td>2021</td>\n",
       "      <td>0</td>\n",
       "    </tr>\n",
       "    <tr>\n",
       "      <th>3296</th>\n",
       "      <td>FBCFBF8184FFA</td>\n",
       "      <td>2021-09-16</td>\n",
       "      <td>2021-09-16</td>\n",
       "      <td>Colon</td>\n",
       "      <td>IV</td>\n",
       "      <td>2021</td>\n",
       "      <td>0</td>\n",
       "    </tr>\n",
       "    <tr>\n",
       "      <th>7134</th>\n",
       "      <td>FCAABB0418596</td>\n",
       "      <td>2014-05-07</td>\n",
       "      <td>2017-01-06</td>\n",
       "      <td>Rectum</td>\n",
       "      <td>unknown</td>\n",
       "      <td>2017</td>\n",
       "      <td>975</td>\n",
       "    </tr>\n",
       "    <tr>\n",
       "      <th>4866</th>\n",
       "      <td>FFEA77652F807</td>\n",
       "      <td>2016-11-30</td>\n",
       "      <td>2016-11-30</td>\n",
       "      <td>Colon</td>\n",
       "      <td>IV</td>\n",
       "      <td>2016</td>\n",
       "      <td>0</td>\n",
       "    </tr>\n",
       "    <tr>\n",
       "      <th>17244</th>\n",
       "      <td>F6A30ED8E5604</td>\n",
       "      <td>2012-06-01</td>\n",
       "      <td>2014-07-14</td>\n",
       "      <td>Rectum</td>\n",
       "      <td>I</td>\n",
       "      <td>2014</td>\n",
       "      <td>773</td>\n",
       "    </tr>\n",
       "  </tbody>\n",
       "</table>\n",
       "</div>"
      ],
      "text/plain": [
       "           PatientID diagnosis_date   met_date CrcSite    stage  met_year  \\\n",
       "11812  FF7ADAF4603D3     2021-07-27 2021-07-27  Rectum       IV      2021   \n",
       "3296   FBCFBF8184FFA     2021-09-16 2021-09-16   Colon       IV      2021   \n",
       "7134   FCAABB0418596     2014-05-07 2017-01-06  Rectum  unknown      2017   \n",
       "4866   FFEA77652F807     2016-11-30 2016-11-30   Colon       IV      2016   \n",
       "17244  F6A30ED8E5604     2012-06-01 2014-07-14  Rectum        I      2014   \n",
       "\n",
       "       delta_met_diagnosis  \n",
       "11812                    0  \n",
       "3296                     0  \n",
       "7134                   975  \n",
       "4866                     0  \n",
       "17244                  773  "
      ]
     },
     "execution_count": 49,
     "metadata": {},
     "output_type": "execute_result"
    }
   ],
   "source": [
    "enhanced_met.sample(5)"
   ]
  },
  {
   "cell_type": "code",
   "execution_count": 50,
   "id": "5a4162d5",
   "metadata": {},
   "outputs": [
    {
     "name": "stdout",
     "output_type": "stream",
     "text": [
      "Variable       Type         Data/Info\n",
      "-------------------------------------\n",
      "demographics   DataFrame              PatientID gende<...>\\n[6863 rows x 7 columns]\n",
      "enhanced_met   DataFrame               PatientID diag<...>\\n[6863 rows x 7 columns]\n"
     ]
    }
   ],
   "source": [
    "%whos DataFrame"
   ]
  },
  {
   "cell_type": "markdown",
   "id": "4951cd25",
   "metadata": {},
   "source": [
    "### 3. Enhanced_Mortality_V2"
   ]
  },
  {
   "cell_type": "code",
   "execution_count": 51,
   "id": "18ee125a",
   "metadata": {},
   "outputs": [],
   "source": [
    "mortality = pd.read_csv('Enhanced_Mortality_V2.csv')"
   ]
  },
  {
   "cell_type": "code",
   "execution_count": 52,
   "id": "1a9af897",
   "metadata": {},
   "outputs": [],
   "source": [
    "mortality = mortality[mortality['PatientID'].isin(test_IDs)]"
   ]
  },
  {
   "cell_type": "code",
   "execution_count": 53,
   "id": "13ab4187",
   "metadata": {},
   "outputs": [
    {
     "data": {
      "text/plain": [
       "(4236, 4236)"
      ]
     },
     "execution_count": 53,
     "metadata": {},
     "output_type": "execute_result"
    }
   ],
   "source": [
    "row_ID(mortality)"
   ]
  },
  {
   "cell_type": "code",
   "execution_count": 54,
   "id": "dd9212ea",
   "metadata": {},
   "outputs": [],
   "source": [
    "mortality = mortality.rename(columns = {'DateOfDeath': 'death_date'})"
   ]
  },
  {
   "cell_type": "code",
   "execution_count": 55,
   "id": "61277c91",
   "metadata": {},
   "outputs": [],
   "source": [
    "# For patients with year granularity, impute middle of the year (ie., July 1)\n",
    "mortality['death_date'] = (\n",
    "    np.where(mortality['death_date'].str.len() == 4, mortality['death_date'] + '-07-01', mortality['death_date'])\n",
    ")"
   ]
  },
  {
   "cell_type": "code",
   "execution_count": 56,
   "id": "9b9a2d8a",
   "metadata": {},
   "outputs": [],
   "source": [
    "# For patients with month granularity, impute 15th of the month.\n",
    "mortality['death_date'] = (\n",
    "    np.where(mortality['death_date'].str.len() == 7, mortality['death_date'] + '-15', mortality['death_date'])\n",
    ")"
   ]
  },
  {
   "cell_type": "code",
   "execution_count": 57,
   "id": "e36c4bfb",
   "metadata": {},
   "outputs": [],
   "source": [
    "mortality['death_date'] = pd.to_datetime(mortality['death_date'])"
   ]
  },
  {
   "cell_type": "markdown",
   "id": "90a61089",
   "metadata": {},
   "source": [
    "#### Censoring"
   ]
  },
  {
   "cell_type": "markdown",
   "id": "a176112c",
   "metadata": {},
   "source": [
    "**For patients for whom a date of death is not known, the censor date can be defined either as the data cutoff date or as the last confirmed activity date. The last confirmed activity date is broadly defined as the last date at which there is evidence in the EHR that a patient is alive. Evidence of a record in at least one of the items listed below qualifies as patient-level confirmed activity:**\n",
    "* **Visit: VisitDate**\n",
    "* **Enhanced_MetCRC_Orals: StartDate or EndDate**\n",
    "* **Enhanced_MetCRCBiomarkers: SpecimenCollectedDate**"
   ]
  },
  {
   "cell_type": "code",
   "execution_count": 58,
   "id": "16241437",
   "metadata": {},
   "outputs": [],
   "source": [
    "visit = pd.read_csv('Visit.csv')\n",
    "telemedicine = pd.read_csv('Telemedicine.csv')\n",
    "orals = pd.read_csv('Enhanced_MetCRC_Orals.csv')\n",
    "biomarkers = pd.read_csv('Enhanced_MetCRCBiomarkers.csv')"
   ]
  },
  {
   "cell_type": "markdown",
   "id": "10ab92ec",
   "metadata": {},
   "source": [
    "##### Visit and Telemedicine"
   ]
  },
  {
   "cell_type": "code",
   "execution_count": 59,
   "id": "9b83e193",
   "metadata": {},
   "outputs": [],
   "source": [
    "visit_tele = (\n",
    "    visit\n",
    "    .drop(columns = ['VisitType', 'IsVitalsVisit', 'IsTreatmentVisit', 'IsLabVisit'])\n",
    "    .append(telemedicine)\n",
    ") "
   ]
  },
  {
   "cell_type": "code",
   "execution_count": 60,
   "id": "4cae5769",
   "metadata": {},
   "outputs": [],
   "source": [
    "visit_tele.loc[:,'VisitDate'] = pd.to_datetime(visit_tele['VisitDate'])"
   ]
  },
  {
   "cell_type": "code",
   "execution_count": 61,
   "id": "cb857c9d",
   "metadata": {},
   "outputs": [],
   "source": [
    "# Select max VisitDate from combined Visit and Telemedicine table.\n",
    "visit_tele_max = (\n",
    "    visit_tele\n",
    "    [visit_tele['PatientID'].isin(test_IDs)]\n",
    "    .groupby('PatientID')['VisitDate'].max()\n",
    "    .to_frame(name = 'visit_max')\n",
    "    .reset_index()\n",
    ")"
   ]
  },
  {
   "cell_type": "markdown",
   "id": "a7f5ca64",
   "metadata": {},
   "source": [
    "##### Orals"
   ]
  },
  {
   "cell_type": "code",
   "execution_count": 62,
   "id": "4f518962",
   "metadata": {},
   "outputs": [],
   "source": [
    "orals = orals[orals['PatientID'].isin(test_IDs)]"
   ]
  },
  {
   "cell_type": "code",
   "execution_count": 63,
   "id": "fd0c6dd1",
   "metadata": {},
   "outputs": [],
   "source": [
    "orals.loc[:, 'StartDate'] = pd.to_datetime(orals['StartDate'])"
   ]
  },
  {
   "cell_type": "code",
   "execution_count": 64,
   "id": "0a77266d",
   "metadata": {},
   "outputs": [],
   "source": [
    "orals.loc[:, 'EndDate'] = pd.to_datetime(orals['EndDate'])"
   ]
  },
  {
   "cell_type": "code",
   "execution_count": 65,
   "id": "b86da48c",
   "metadata": {},
   "outputs": [],
   "source": [
    "orals_max = (\n",
    "    orals\n",
    "    .assign(max_date = orals[['StartDate', 'EndDate']].max(axis = 1))\n",
    "    .groupby('PatientID')['max_date'].max()\n",
    "    .to_frame(name = 'orals_max')\n",
    "    .reset_index()\n",
    ")"
   ]
  },
  {
   "cell_type": "markdown",
   "id": "86753594",
   "metadata": {},
   "source": [
    "##### Biomarkers"
   ]
  },
  {
   "cell_type": "code",
   "execution_count": 66,
   "id": "cc90ff21",
   "metadata": {},
   "outputs": [],
   "source": [
    "biomarkers = biomarkers[biomarkers['PatientID'].isin(test_IDs)]"
   ]
  },
  {
   "cell_type": "code",
   "execution_count": 67,
   "id": "1e3b67bb",
   "metadata": {},
   "outputs": [],
   "source": [
    "biomarkers.loc[:, 'SpecimenCollectedDate'] = pd.to_datetime(biomarkers['SpecimenCollectedDate'])"
   ]
  },
  {
   "cell_type": "code",
   "execution_count": 68,
   "id": "ab2d5482",
   "metadata": {},
   "outputs": [],
   "source": [
    "biomarkers_max = (\n",
    "    biomarkers\n",
    "    .groupby('PatientID')['SpecimenCollectedDate'].max()\n",
    "    .to_frame(name = 'biomarkers_max')\n",
    "    .reset_index()\n",
    ")"
   ]
  },
  {
   "cell_type": "markdown",
   "id": "6a11f858",
   "metadata": {},
   "source": [
    "##### Max date merge"
   ]
  },
  {
   "cell_type": "code",
   "execution_count": 69,
   "id": "ffb157b0",
   "metadata": {},
   "outputs": [],
   "source": [
    "last_activity = pd.merge(visit_tele_max, orals_max, on = 'PatientID', how = 'outer')"
   ]
  },
  {
   "cell_type": "code",
   "execution_count": 70,
   "id": "8a4a3cec",
   "metadata": {},
   "outputs": [],
   "source": [
    "last_activity = pd.merge(last_activity, biomarkers_max, on = 'PatientID', how = 'outer')"
   ]
  },
  {
   "cell_type": "code",
   "execution_count": 71,
   "id": "ffbdeb9e",
   "metadata": {},
   "outputs": [
    {
     "data": {
      "text/plain": [
       "(6863, 6863)"
      ]
     },
     "execution_count": 71,
     "metadata": {},
     "output_type": "execute_result"
    }
   ],
   "source": [
    "row_ID(last_activity)"
   ]
  },
  {
   "cell_type": "code",
   "execution_count": 72,
   "id": "0a81f9b3",
   "metadata": {},
   "outputs": [],
   "source": [
    "# Find max of each row. \n",
    "last_activity = (\n",
    "    last_activity\n",
    "    .assign(last_activity = last_activity[['visit_max', 'orals_max', 'biomarkers_max']].max(axis = 1))\n",
    "    .filter(items = ['PatientID', 'last_activity'])\n",
    ")"
   ]
  },
  {
   "cell_type": "code",
   "execution_count": 73,
   "id": "bd8287b3",
   "metadata": {},
   "outputs": [],
   "source": [
    "# Append missing training IDs.\n",
    "mortality = (\n",
    "    mortality\n",
    "    .append(\n",
    "        pd.Series(test_IDs)[~pd.Series(test_IDs).isin(mortality['PatientID'])].to_frame(name = 'PatientID'), \n",
    "        sort = False\n",
    "    )\n",
    ")"
   ]
  },
  {
   "cell_type": "code",
   "execution_count": 74,
   "id": "5185799c",
   "metadata": {},
   "outputs": [
    {
     "data": {
      "text/plain": [
       "(6863, 6863)"
      ]
     },
     "execution_count": 74,
     "metadata": {},
     "output_type": "execute_result"
    }
   ],
   "source": [
    "row_ID(mortality)"
   ]
  },
  {
   "cell_type": "code",
   "execution_count": 75,
   "id": "c99b2e90",
   "metadata": {},
   "outputs": [],
   "source": [
    "mortality = pd.merge(mortality, enhanced_met[['PatientID', 'met_date']], on = 'PatientID')"
   ]
  },
  {
   "cell_type": "code",
   "execution_count": 76,
   "id": "c00d736a",
   "metadata": {},
   "outputs": [],
   "source": [
    "mortality = pd.merge(mortality, last_activity, on = 'PatientID')"
   ]
  },
  {
   "cell_type": "code",
   "execution_count": 77,
   "id": "92a6bd4a",
   "metadata": {},
   "outputs": [],
   "source": [
    "mortality.loc[:, 'death_status'] = np.where(mortality['death_date'].isna(), 0, 1)"
   ]
  },
  {
   "cell_type": "code",
   "execution_count": 78,
   "id": "396cd44a",
   "metadata": {},
   "outputs": [],
   "source": [
    "# timerisk_activity is time from advanced disease diagnosis to death or last activity if no death date.\n",
    "mortality.loc[:, 'timerisk_activity'] = (\n",
    "    np.where(mortality['death_date'].isna(),\n",
    "             (mortality['last_activity'] - mortality['met_date']).dt.days,\n",
    "             (mortality['death_date'] - mortality['met_date']).dt.days)\n",
    ")"
   ]
  },
  {
   "cell_type": "code",
   "execution_count": 79,
   "id": "c60c8385",
   "metadata": {},
   "outputs": [],
   "source": [
    "# If timerisk_activity is less than 0, set to 0 otherwise remains unchanged. \n",
    "mortality['timerisk_activity'] = np.where(mortality['timerisk_activity'] < 0, 0, mortality['timerisk_activity'])"
   ]
  },
  {
   "cell_type": "code",
   "execution_count": 80,
   "id": "6afee104",
   "metadata": {},
   "outputs": [
    {
     "data": {
      "text/html": [
       "<div>\n",
       "<style scoped>\n",
       "    .dataframe tbody tr th:only-of-type {\n",
       "        vertical-align: middle;\n",
       "    }\n",
       "\n",
       "    .dataframe tbody tr th {\n",
       "        vertical-align: top;\n",
       "    }\n",
       "\n",
       "    .dataframe thead th {\n",
       "        text-align: right;\n",
       "    }\n",
       "</style>\n",
       "<table border=\"1\" class=\"dataframe\">\n",
       "  <thead>\n",
       "    <tr style=\"text-align: right;\">\n",
       "      <th></th>\n",
       "      <th>PatientID</th>\n",
       "      <th>death_date</th>\n",
       "      <th>met_date</th>\n",
       "      <th>last_activity</th>\n",
       "      <th>death_status</th>\n",
       "      <th>timerisk_activity</th>\n",
       "    </tr>\n",
       "  </thead>\n",
       "  <tbody>\n",
       "    <tr>\n",
       "      <th>2172</th>\n",
       "      <td>F6DDA87DEC300</td>\n",
       "      <td>2014-08-15</td>\n",
       "      <td>2014-07-21</td>\n",
       "      <td>2014-07-21</td>\n",
       "      <td>1</td>\n",
       "      <td>25.0</td>\n",
       "    </tr>\n",
       "    <tr>\n",
       "      <th>2799</th>\n",
       "      <td>FF8ABF9B4B79D</td>\n",
       "      <td>2020-12-15</td>\n",
       "      <td>2019-08-05</td>\n",
       "      <td>2020-12-10</td>\n",
       "      <td>1</td>\n",
       "      <td>498.0</td>\n",
       "    </tr>\n",
       "    <tr>\n",
       "      <th>1888</th>\n",
       "      <td>FE3E803840C6E</td>\n",
       "      <td>2015-09-15</td>\n",
       "      <td>2014-09-22</td>\n",
       "      <td>2015-07-30</td>\n",
       "      <td>1</td>\n",
       "      <td>358.0</td>\n",
       "    </tr>\n",
       "    <tr>\n",
       "      <th>3211</th>\n",
       "      <td>FD3FCDEB1B62F</td>\n",
       "      <td>2019-05-15</td>\n",
       "      <td>2016-07-03</td>\n",
       "      <td>2019-01-28</td>\n",
       "      <td>1</td>\n",
       "      <td>1046.0</td>\n",
       "    </tr>\n",
       "    <tr>\n",
       "      <th>4924</th>\n",
       "      <td>F44D8282DA6D7</td>\n",
       "      <td>NaT</td>\n",
       "      <td>2015-09-25</td>\n",
       "      <td>2015-11-06</td>\n",
       "      <td>0</td>\n",
       "      <td>42.0</td>\n",
       "    </tr>\n",
       "  </tbody>\n",
       "</table>\n",
       "</div>"
      ],
      "text/plain": [
       "          PatientID death_date   met_date last_activity  death_status  \\\n",
       "2172  F6DDA87DEC300 2014-08-15 2014-07-21    2014-07-21             1   \n",
       "2799  FF8ABF9B4B79D 2020-12-15 2019-08-05    2020-12-10             1   \n",
       "1888  FE3E803840C6E 2015-09-15 2014-09-22    2015-07-30             1   \n",
       "3211  FD3FCDEB1B62F 2019-05-15 2016-07-03    2019-01-28             1   \n",
       "4924  F44D8282DA6D7        NaT 2015-09-25    2015-11-06             0   \n",
       "\n",
       "      timerisk_activity  \n",
       "2172               25.0  \n",
       "2799              498.0  \n",
       "1888              358.0  \n",
       "3211             1046.0  \n",
       "4924               42.0  "
      ]
     },
     "execution_count": 80,
     "metadata": {},
     "output_type": "execute_result"
    }
   ],
   "source": [
    "mortality.sample(5)"
   ]
  },
  {
   "cell_type": "code",
   "execution_count": 81,
   "id": "b06a1e87",
   "metadata": {},
   "outputs": [],
   "source": [
    "mortality = pd.merge(mortality, enhanced_met[['PatientID', 'diagnosis_date']], on = 'PatientID', how = 'outer')"
   ]
  },
  {
   "cell_type": "code",
   "execution_count": 82,
   "id": "e4b0d88a",
   "metadata": {},
   "outputs": [],
   "source": [
    "# timerisk_activity_first is time from first diagnosis (metastatic or not) to death or last activity if no death date.\n",
    "mortality.loc[:, 'timerisk_activity_first'] = (\n",
    "    np.where(mortality['death_date'].isna(),\n",
    "             (mortality['last_activity'] - mortality['diagnosis_date']).dt.days,\n",
    "             (mortality['death_date'] - mortality['diagnosis_date']).dt.days)\n",
    ")"
   ]
  },
  {
   "cell_type": "code",
   "execution_count": 83,
   "id": "7c59433c",
   "metadata": {},
   "outputs": [],
   "source": [
    "# If timerisk_activity is less than 0, set to 0 otherwise remains unchanged. \n",
    "mortality['timerisk_activity_first'] = np.where(\n",
    "    mortality['timerisk_activity_first'] < 0, 0, mortality['timerisk_activity_first'])"
   ]
  },
  {
   "cell_type": "code",
   "execution_count": 84,
   "id": "466805c0",
   "metadata": {},
   "outputs": [],
   "source": [
    "mortality.to_csv('mortality_cleaned_te.csv', index = False, header = True)"
   ]
  },
  {
   "cell_type": "code",
   "execution_count": 85,
   "id": "339120c1",
   "metadata": {},
   "outputs": [],
   "source": [
    "mortality = mortality.filter(items = ['PatientID', 'death_status', 'timerisk_activity'])"
   ]
  },
  {
   "cell_type": "code",
   "execution_count": 86,
   "id": "b2dafc14",
   "metadata": {},
   "outputs": [
    {
     "data": {
      "text/html": [
       "<div>\n",
       "<style scoped>\n",
       "    .dataframe tbody tr th:only-of-type {\n",
       "        vertical-align: middle;\n",
       "    }\n",
       "\n",
       "    .dataframe tbody tr th {\n",
       "        vertical-align: top;\n",
       "    }\n",
       "\n",
       "    .dataframe thead th {\n",
       "        text-align: right;\n",
       "    }\n",
       "</style>\n",
       "<table border=\"1\" class=\"dataframe\">\n",
       "  <thead>\n",
       "    <tr style=\"text-align: right;\">\n",
       "      <th></th>\n",
       "      <th>PatientID</th>\n",
       "      <th>death_status</th>\n",
       "      <th>timerisk_activity</th>\n",
       "    </tr>\n",
       "  </thead>\n",
       "  <tbody>\n",
       "    <tr>\n",
       "      <th>424</th>\n",
       "      <td>F1A6D3E385AFC</td>\n",
       "      <td>1</td>\n",
       "      <td>357.0</td>\n",
       "    </tr>\n",
       "    <tr>\n",
       "      <th>6252</th>\n",
       "      <td>F41AF2679737A</td>\n",
       "      <td>0</td>\n",
       "      <td>3059.0</td>\n",
       "    </tr>\n",
       "    <tr>\n",
       "      <th>5257</th>\n",
       "      <td>F6AFA3BB41C6E</td>\n",
       "      <td>0</td>\n",
       "      <td>413.0</td>\n",
       "    </tr>\n",
       "    <tr>\n",
       "      <th>938</th>\n",
       "      <td>F1FEFF7241A01</td>\n",
       "      <td>1</td>\n",
       "      <td>308.0</td>\n",
       "    </tr>\n",
       "    <tr>\n",
       "      <th>2302</th>\n",
       "      <td>FEA02AEBB7435</td>\n",
       "      <td>1</td>\n",
       "      <td>554.0</td>\n",
       "    </tr>\n",
       "  </tbody>\n",
       "</table>\n",
       "</div>"
      ],
      "text/plain": [
       "          PatientID  death_status  timerisk_activity\n",
       "424   F1A6D3E385AFC             1              357.0\n",
       "6252  F41AF2679737A             0             3059.0\n",
       "5257  F6AFA3BB41C6E             0              413.0\n",
       "938   F1FEFF7241A01             1              308.0\n",
       "2302  FEA02AEBB7435             1              554.0"
      ]
     },
     "execution_count": 86,
     "metadata": {},
     "output_type": "execute_result"
    }
   ],
   "source": [
    "mortality.sample(5)"
   ]
  },
  {
   "cell_type": "code",
   "execution_count": 87,
   "id": "1517d144",
   "metadata": {},
   "outputs": [
    {
     "name": "stdout",
     "output_type": "stream",
     "text": [
      "Variable         Type         Data/Info\n",
      "---------------------------------------\n",
      "biomarkers       DataFrame                PatientID Bio<...>[24757 rows x 15 columns]\n",
      "biomarkers_max   DataFrame              PatientID bioma<...>\\n[5930 rows x 2 columns]\n",
      "demographics     DataFrame              PatientID gende<...>\\n[6863 rows x 7 columns]\n",
      "enhanced_met     DataFrame               PatientID diag<...>\\n[6863 rows x 7 columns]\n",
      "last_activity    DataFrame              PatientID last_<...>\\n[6863 rows x 2 columns]\n",
      "mortality        DataFrame              PatientID  deat<...>\\n[6863 rows x 3 columns]\n",
      "orals            DataFrame               PatientID     <...>\\n[4484 rows x 5 columns]\n",
      "orals_max        DataFrame              PatientID  oral<...>\\n[2931 rows x 2 columns]\n",
      "telemedicine     DataFrame               PatientID     <...>n[23327 rows x 3 columns]\n",
      "visit            DataFrame                 PatientID   <...>2010098 rows x 7 columns]\n",
      "visit_tele       DataFrame               PatientID     <...>2033425 rows x 3 columns]\n",
      "visit_tele_max   DataFrame              PatientID  visi<...>\\n[6863 rows x 2 columns]\n"
     ]
    }
   ],
   "source": [
    "%whos DataFrame"
   ]
  },
  {
   "cell_type": "code",
   "execution_count": 88,
   "id": "dbfaa80e",
   "metadata": {},
   "outputs": [],
   "source": [
    "# Keep demographics, enhanced_met, and mortality\n",
    "del biomarkers\n",
    "del biomarkers_max\n",
    "del last_activity\n",
    "del orals\n",
    "del orals_max\n",
    "del telemedicine\n",
    "del visit\n",
    "del visit_tele\n",
    "del visit_tele_max"
   ]
  },
  {
   "cell_type": "markdown",
   "id": "442f0b14",
   "metadata": {},
   "source": [
    "### 4. MedicationAdministration"
   ]
  },
  {
   "cell_type": "code",
   "execution_count": 89,
   "id": "4ffa57db",
   "metadata": {},
   "outputs": [],
   "source": [
    "med_admin = pd.read_csv('MedicationAdministration.csv')"
   ]
  },
  {
   "cell_type": "code",
   "execution_count": 90,
   "id": "2e27f7a9",
   "metadata": {},
   "outputs": [],
   "source": [
    "med_admin = med_admin[med_admin['PatientID'].isin(test_IDs)]"
   ]
  },
  {
   "cell_type": "code",
   "execution_count": 91,
   "id": "9ef5e5db",
   "metadata": {},
   "outputs": [
    {
     "data": {
      "text/plain": [
       "(881806, 5676)"
      ]
     },
     "execution_count": 91,
     "metadata": {},
     "output_type": "execute_result"
    }
   ],
   "source": [
    "row_ID(med_admin)"
   ]
  },
  {
   "cell_type": "code",
   "execution_count": 92,
   "id": "cec9b408",
   "metadata": {},
   "outputs": [
    {
     "data": {
      "text/plain": [
       "(881806, 11)"
      ]
     },
     "execution_count": 92,
     "metadata": {},
     "output_type": "execute_result"
    }
   ],
   "source": [
    "med_admin.shape"
   ]
  },
  {
   "cell_type": "markdown",
   "id": "ff156676",
   "metadata": {},
   "source": [
    "**An indicator variable will be created for key medications (ie., steroids, opioids, other pain meds, antibiotics, anticoagulation, diabetic medicaitons, etc.) around time of metastatic diagnosis. The elgibility window is -90 days from metastatic diagnosis to first line of therapy or +30, whichever comes first. First line of therapy is included as an upper bound because steroids are frequently administered as part of treatment for chemotherapy induced-nausea, so steroids might inadvertently capture chemotherapy treatment if upper bound is set after first line of therapy.** "
   ]
  },
  {
   "cell_type": "code",
   "execution_count": 93,
   "id": "0214a598",
   "metadata": {},
   "outputs": [],
   "source": [
    "line_therapy = pd.read_csv('LineOfTherapy.csv')"
   ]
  },
  {
   "cell_type": "code",
   "execution_count": 94,
   "id": "39fd8037",
   "metadata": {},
   "outputs": [],
   "source": [
    "line_therapy = line_therapy[line_therapy['PatientID'].isin(med_admin['PatientID'])]"
   ]
  },
  {
   "cell_type": "code",
   "execution_count": 95,
   "id": "86a86fcc",
   "metadata": {},
   "outputs": [],
   "source": [
    "line_therapy_1 = (\n",
    "    line_therapy \n",
    "    .query('LineNumber == 1 and IsMaintenanceTherapy == False')\n",
    ")"
   ]
  },
  {
   "cell_type": "code",
   "execution_count": 96,
   "id": "2ffd7b64",
   "metadata": {},
   "outputs": [],
   "source": [
    "# If patients have 2 first line therapies, select earliest\n",
    "line_therapy_1 = line_therapy_1.drop_duplicates(subset = ['PatientID'], keep = 'first')"
   ]
  },
  {
   "cell_type": "code",
   "execution_count": 97,
   "id": "87dce797",
   "metadata": {},
   "outputs": [],
   "source": [
    "med_admin = pd.merge(med_admin, line_therapy_1[['PatientID', 'StartDate']], on = 'PatientID', how = 'left')"
   ]
  },
  {
   "cell_type": "code",
   "execution_count": 98,
   "id": "c987c4c5",
   "metadata": {},
   "outputs": [],
   "source": [
    "med_admin = pd.merge(med_admin, enhanced_met[['PatientID', 'met_date']], on = 'PatientID', how = 'left')"
   ]
  },
  {
   "cell_type": "code",
   "execution_count": 99,
   "id": "4e6b8583",
   "metadata": {},
   "outputs": [],
   "source": [
    "med_admin.loc[:, 'AdministeredDate'] = pd.to_datetime(med_admin['AdministeredDate'])"
   ]
  },
  {
   "cell_type": "code",
   "execution_count": 100,
   "id": "37d5e45b",
   "metadata": {},
   "outputs": [],
   "source": [
    "med_admin.loc[:, 'StartDate'] = pd.to_datetime(med_admin['StartDate'])"
   ]
  },
  {
   "cell_type": "code",
   "execution_count": 101,
   "id": "75a7d8d7",
   "metadata": {},
   "outputs": [
    {
     "data": {
      "text/plain": [
       "0"
      ]
     },
     "execution_count": 101,
     "metadata": {},
     "output_type": "execute_result"
    }
   ],
   "source": [
    "med_admin['AdministeredDate'].isna().sum()"
   ]
  },
  {
   "cell_type": "code",
   "execution_count": 102,
   "id": "ca4c9435",
   "metadata": {},
   "outputs": [],
   "source": [
    "# New variable upper_bound which defines upper bound\n",
    "# If no StartDate (ie., no treatment received), then upper bound +30 from metastatic diagnosis \n",
    "# If StartDate is greater than 30 days from metastatic diagnosis, then upper bound +30 from metastatic diagnosis\n",
    "# If StartDate is less than or equal 30 from metastatic diagnosis, then upper bound is one day before StartDate\n",
    "conditions = [\n",
    "    (med_admin['StartDate'].isna()) | ((med_admin['StartDate'] - med_admin['met_date']).dt.days > 30),\n",
    "    ((med_admin['StartDate'] - med_admin['met_date']).dt.days <= 30)]    \n",
    "\n",
    "choices = [30, (med_admin['StartDate'] - med_admin['met_date']).dt.days - 1]\n",
    "    \n",
    "med_admin.loc[:, 'upper_bound'] = np.select(conditions, choices)"
   ]
  },
  {
   "cell_type": "code",
   "execution_count": 103,
   "id": "3f0545bf",
   "metadata": {},
   "outputs": [],
   "source": [
    "med_admin.loc[:, 'upper_bound_date'] = (\n",
    "    np.where(med_admin['upper_bound'] != 30, \n",
    "             med_admin['StartDate'] - pd.DateOffset(days = 1), \n",
    "             med_admin['met_date'] + pd.DateOffset(days = 30))\n",
    ")"
   ]
  },
  {
   "cell_type": "code",
   "execution_count": 104,
   "id": "c52a3ff0",
   "metadata": {},
   "outputs": [],
   "source": [
    "# Select window of -90 days and from metastatic diagnosis and remove clinical study drug. \n",
    "med_admin_win = (\n",
    "    med_admin\n",
    "    [((med_admin['AdministeredDate'] - med_admin['met_date']).dt.days >= -90) &\n",
    "    (med_admin['AdministeredDate'] <= med_admin['upper_bound_date']) &\n",
    "    (med_admin['CommonDrugName'] != 'Clinical study drug')]\n",
    ")"
   ]
  },
  {
   "cell_type": "code",
   "execution_count": 105,
   "id": "21d767ef",
   "metadata": {},
   "outputs": [
    {
     "data": {
      "text/plain": [
       "(23044, 926)"
      ]
     },
     "execution_count": 105,
     "metadata": {},
     "output_type": "execute_result"
    }
   ],
   "source": [
    "row_ID(med_admin_win)"
   ]
  },
  {
   "cell_type": "code",
   "execution_count": 106,
   "id": "947f7df7",
   "metadata": {},
   "outputs": [
    {
     "data": {
      "text/plain": [
       "pain agent                      4666\n",
       "solution-fluid                  3867\n",
       "hematological agent             2686\n",
       "antineoplastic                  2333\n",
       "anti-infective                  2233\n",
       "antiemetic                      1825\n",
       "anesthetic                      1666\n",
       "steroid                         1196\n",
       "antihyperglycemic                851\n",
       "proton pump inhibitor            786\n",
       "antidepressant                   227\n",
       "cytoprotective                   220\n",
       "hormone                          218\n",
       "anticholinergic                   80\n",
       "gout and hyperurecemia agent      51\n",
       "hyperglycemic                     41\n",
       "bone therapy agent (bta)          35\n",
       "endocrine                         29\n",
       "sedative agent                    19\n",
       "antidote and reversal agent       10\n",
       "immunosuppressive                  5\n",
       "Name: DrugCategory, dtype: int64"
      ]
     },
     "execution_count": 106,
     "metadata": {},
     "output_type": "execute_result"
    }
   ],
   "source": [
    "med_admin_win.DrugCategory.value_counts()"
   ]
  },
  {
   "cell_type": "markdown",
   "id": "57d9daae",
   "metadata": {},
   "source": [
    "#### Antineoplastic "
   ]
  },
  {
   "cell_type": "code",
   "execution_count": 107,
   "id": "1a4f3f3d",
   "metadata": {},
   "outputs": [],
   "source": [
    "# Select window before date of metastatic diagnosis. \n",
    "med_admin_win_chemo = (\n",
    "    med_admin\n",
    "    [med_admin['AdministeredDate'] < med_admin['met_date']]\n",
    ")"
   ]
  },
  {
   "cell_type": "code",
   "execution_count": 108,
   "id": "d5584cec",
   "metadata": {},
   "outputs": [
    {
     "data": {
      "text/plain": [
       "fluorouracil              16526\n",
       "oxaliplatin                6983\n",
       "leucovorin calcium         6330\n",
       "levoleucovorin calcium     2229\n",
       "irinotecan hcl              680\n",
       "bevacizumab                 599\n",
       "carboplatin                 162\n",
       "carfilzomib                 146\n",
       "trastuzumab                 130\n",
       "paclitaxel                  123\n",
       "pembrolizumab               123\n",
       "capecitabine                 91\n",
       "rituximab                    85\n",
       "docetaxel                    82\n",
       "levoleucovorin               78\n",
       "cyclophosphamide             70\n",
       "daratumumab                  63\n",
       "cetuximab                    63\n",
       "Clinical study drug          60\n",
       "panitumumab                  56\n",
       "Name: DrugName, dtype: int64"
      ]
     },
     "execution_count": 108,
     "metadata": {},
     "output_type": "execute_result"
    }
   ],
   "source": [
    "(\n",
    "    med_admin_win_chemo.query('DrugCategory == \"antineoplastic\"').DrugName.value_counts().head(20)\n",
    ")"
   ]
  },
  {
   "cell_type": "code",
   "execution_count": 109,
   "id": "0434ba8e",
   "metadata": {},
   "outputs": [
    {
     "name": "stderr",
     "output_type": "stream",
     "text": [
      "/Applications/anaconda3/lib/python3.7/site-packages/pandas/core/indexing.py:1667: SettingWithCopyWarning: \n",
      "A value is trying to be set on a copy of a slice from a DataFrame.\n",
      "Try using .loc[row_indexer,col_indexer] = value instead\n",
      "\n",
      "See the caveats in the documentation: https://pandas.pydata.org/pandas-docs/stable/user_guide/indexing.html#returning-a-view-versus-a-copy\n",
      "  self.obj[key] = value\n"
     ]
    }
   ],
   "source": [
    "med_admin_win_chemo.loc[:, 'adjuv'] = (\n",
    "    np.where((med_admin_win_chemo['DrugName'] == 'fluorouracil') | \n",
    "             (med_admin_win_chemo['DrugName'] == 'oxaliplatin') | \n",
    "             (med_admin_win_chemo['DrugName'] == 'capecitabine'), 1, 0)\n",
    ")"
   ]
  },
  {
   "cell_type": "code",
   "execution_count": 110,
   "id": "1a473f54",
   "metadata": {},
   "outputs": [],
   "source": [
    "med_admin_adjuv = (\n",
    "    med_admin_win_chemo\n",
    "    .query('adjuv == 1')\n",
    "    .drop_duplicates(subset = ['PatientID'], keep = 'first')\n",
    "    [['PatientID', 'adjuv']]\n",
    ")"
   ]
  },
  {
   "cell_type": "markdown",
   "id": "3092ca46",
   "metadata": {},
   "source": [
    "#### Antiemetic"
   ]
  },
  {
   "cell_type": "markdown",
   "id": "4c2ffaf8",
   "metadata": {},
   "source": [
    "**No indicator variable created.** "
   ]
  },
  {
   "cell_type": "markdown",
   "id": "0621579f",
   "metadata": {},
   "source": [
    "#### Solution-fluid"
   ]
  },
  {
   "cell_type": "markdown",
   "id": "4e86ae2f",
   "metadata": {},
   "source": [
    "**No indicator variable created.** "
   ]
  },
  {
   "cell_type": "markdown",
   "id": "104a7687",
   "metadata": {},
   "source": [
    "#### Steroid"
   ]
  },
  {
   "cell_type": "code",
   "execution_count": 111,
   "id": "d1315b99",
   "metadata": {},
   "outputs": [],
   "source": [
    "med_admin_win.loc[:, 'steroid_diag'] = (\n",
    "    np.where((med_admin_win['DrugCategory'] == 'steroid') & \n",
    "             ((med_admin_win['Route'] == 'Intravenous') | \n",
    "              (med_admin_win['Route'] == 'Oral') | \n",
    "              (med_admin_win['Route'] == 'Intrajejunal')), 1, 0)\n",
    ")"
   ]
  },
  {
   "cell_type": "markdown",
   "id": "88963047",
   "metadata": {},
   "source": [
    "#### Pain"
   ]
  },
  {
   "cell_type": "markdown",
   "id": "847d0bab",
   "metadata": {},
   "source": [
    "##### Opioid PO"
   ]
  },
  {
   "cell_type": "code",
   "execution_count": 112,
   "id": "fbdfcb0b",
   "metadata": {},
   "outputs": [],
   "source": [
    "# List of avialable opioids in the US. \n",
    "opioid_list = [\n",
    "    'buprenorphine',\n",
    "    'codeine',\n",
    "    'fentanyl',\n",
    "    'hydrocodone',\n",
    "    'hydromorphone',\n",
    "    'methadone',\n",
    "    'morphine',\n",
    "    'oxycodone',\n",
    "    'oxymorphone',\n",
    "    'tapentadol',\n",
    "    'tramadol'\n",
    "]"
   ]
  },
  {
   "cell_type": "code",
   "execution_count": 113,
   "id": "c79fcb52",
   "metadata": {},
   "outputs": [],
   "source": [
    "med_admin_win.loc[:, 'opioid_PO_diag'] = (\n",
    "    np.where(((med_admin_win['Route'] == 'Oral') | \n",
    "              (med_admin_win['Route'] == 'Transdermal') | \n",
    "              (med_admin_win['Route'] == 'Sublingual')) &\n",
    "             (med_admin_win['CommonDrugName'].str.contains('|'.join(opioid_list))), 1, 0)\n",
    ")"
   ]
  },
  {
   "cell_type": "markdown",
   "id": "33e28f78",
   "metadata": {},
   "source": [
    "##### Nonopioid PO"
   ]
  },
  {
   "cell_type": "code",
   "execution_count": 114,
   "id": "ef9d904b",
   "metadata": {},
   "outputs": [],
   "source": [
    "med_admin_win.loc[:, 'nonopioid_PO_diag'] = (\n",
    "    np.where((med_admin_win['DrugCategory'] == 'pain agent') & \n",
    "             (med_admin_win['Route'] == 'Oral') & \n",
    "             (~med_admin_win['CommonDrugName'].str.contains('|'.join(opioid_list))), 1, 0)\n",
    ")"
   ]
  },
  {
   "cell_type": "markdown",
   "id": "291404ee",
   "metadata": {},
   "source": [
    "##### Pain IV"
   ]
  },
  {
   "cell_type": "code",
   "execution_count": 115,
   "id": "5dae8ab5",
   "metadata": {},
   "outputs": [],
   "source": [
    "med_admin_win.loc[:, 'pain_IV_diag'] = (\n",
    "    np.where((med_admin_win['DrugCategory'] == 'pain agent') & \n",
    "             (med_admin_win['Route'] == 'Intravenous'), 1, 0)\n",
    ")"
   ]
  },
  {
   "cell_type": "markdown",
   "id": "9430ebe6",
   "metadata": {},
   "source": [
    "#### Hematologic agent"
   ]
  },
  {
   "cell_type": "markdown",
   "id": "1f0c1c21",
   "metadata": {},
   "source": [
    "##### Heparin and other parenteral agents"
   ]
  },
  {
   "cell_type": "code",
   "execution_count": 116,
   "id": "ff77d458",
   "metadata": {},
   "outputs": [],
   "source": [
    "med_admin_win.loc[:, 'heparin_diag'] = (\n",
    "    np.where(((med_admin_win['CommonDrugName'].str.contains('heparin')) & \n",
    "              (med_admin_win['AdministeredUnits'] == 'unit/kg/hr')) | \n",
    "             (med_admin_win['CommonDrugName'].str.contains('bivalirudin')) | \n",
    "             (med_admin_win['CommonDrugName'].str.contains('argatroban')), 1, 0)\n",
    ")"
   ]
  },
  {
   "cell_type": "markdown",
   "id": "7427970b",
   "metadata": {},
   "source": [
    "###### Enoxaparin and other subcutaneous agents "
   ]
  },
  {
   "cell_type": "code",
   "execution_count": 117,
   "id": "c25b053b",
   "metadata": {},
   "outputs": [],
   "source": [
    "med_admin_win.loc[:, 'enoxaparin_diag'] = (\n",
    "    np.where(((med_admin_win['CommonDrugName'].str.contains('enoxaparin')) & \n",
    "              (med_admin_win['AdministeredAmount'] > 40)) | \n",
    "             ((med_admin_win['CommonDrugName'].str.contains('dalteparin')) & \n",
    "              (med_admin_win['AdministeredAmount'] > 5000)) | \n",
    "             ((med_admin_win['CommonDrugName'].str.contains('fondaparinux')) & \n",
    "              (med_admin_win['AdministeredAmount'] > 2.5)), 1, 0)\n",
    ")"
   ]
  },
  {
   "cell_type": "markdown",
   "id": "481c3ae5",
   "metadata": {},
   "source": [
    "##### DOAC"
   ]
  },
  {
   "cell_type": "code",
   "execution_count": 118,
   "id": "b471be71",
   "metadata": {},
   "outputs": [],
   "source": [
    "med_admin_win.loc[:, 'doac_diag'] = (\n",
    "    np.where((med_admin_win['CommonDrugName'].str.contains('apixaban')) | \n",
    "             (med_admin_win['CommonDrugName'].str.contains('rivaroxaban')) | \n",
    "             (med_admin_win['CommonDrugName'].str.contains('dabigatran')) | \n",
    "             (med_admin_win['CommonDrugName'].str.contains('edoxaban')), 1, 0)\n",
    ")"
   ]
  },
  {
   "cell_type": "markdown",
   "id": "ffc4da4f",
   "metadata": {},
   "source": [
    "##### Warfarin"
   ]
  },
  {
   "cell_type": "code",
   "execution_count": 119,
   "id": "92d29fac",
   "metadata": {},
   "outputs": [],
   "source": [
    "med_admin_win.loc[:, 'warfarin_diag'] = np.where((med_admin_win['CommonDrugName'].str.contains('warfarin')), 1, 0)"
   ]
  },
  {
   "cell_type": "markdown",
   "id": "c0d6982f",
   "metadata": {},
   "source": [
    "##### Anticoagulation merge "
   ]
  },
  {
   "cell_type": "code",
   "execution_count": 120,
   "id": "44cf691c",
   "metadata": {},
   "outputs": [
    {
     "name": "stderr",
     "output_type": "stream",
     "text": [
      "/Applications/anaconda3/lib/python3.7/site-packages/ipykernel_launcher.py:3: SettingWithCopyWarning: \n",
      "A value is trying to be set on a copy of a slice from a DataFrame.\n",
      "Try using .loc[row_indexer,col_indexer] = value instead\n",
      "\n",
      "See the caveats in the documentation: https://pandas.pydata.org/pandas-docs/stable/user_guide/indexing.html#returning-a-view-versus-a-copy\n",
      "  This is separate from the ipykernel package so we can avoid doing imports until\n"
     ]
    }
   ],
   "source": [
    "# Combine heparin, enoxparin, DOAC, and warfarin columns into a single anticoagulation indicator variable. \n",
    "med_admin_win['ac_diag'] = (\n",
    "    med_admin_win['heparin_diag'] + med_admin_win['enoxaparin_diag'] + med_admin_win['doac_diag'] + med_admin_win['warfarin_diag']\n",
    ")"
   ]
  },
  {
   "cell_type": "code",
   "execution_count": 121,
   "id": "9b5f162b",
   "metadata": {},
   "outputs": [],
   "source": [
    "# Drop heparin, enoxaparin, DOAC, and warfarin columns. \n",
    "med_admin_win = med_admin_win.drop(columns = ['heparin_diag', 'enoxaparin_diag', 'doac_diag', 'warfarin_diag'])"
   ]
  },
  {
   "cell_type": "markdown",
   "id": "c506bb1a",
   "metadata": {},
   "source": [
    "#### Anti-infective "
   ]
  },
  {
   "cell_type": "markdown",
   "id": "becf7ae9",
   "metadata": {},
   "source": [
    "##### Anti-infective IV"
   ]
  },
  {
   "cell_type": "code",
   "execution_count": 122,
   "id": "a3847e24",
   "metadata": {},
   "outputs": [],
   "source": [
    "med_admin_win.loc[:, 'antiinfective_IV_diag'] = (\n",
    "    np.where((med_admin_win['DrugCategory'] == 'anti-infective') & \n",
    "             (med_admin_win['Route'] == 'Intravenous'), 1, 0)\n",
    ")"
   ]
  },
  {
   "cell_type": "markdown",
   "id": "c08eee0c",
   "metadata": {},
   "source": [
    "##### Anti-infective PO"
   ]
  },
  {
   "cell_type": "code",
   "execution_count": 123,
   "id": "72ef8a2b",
   "metadata": {},
   "outputs": [],
   "source": [
    "med_admin_win.loc[:, 'antiinfective_diag'] = (\n",
    "    np.where((med_admin_win['DrugCategory'] == 'anti-infective') & \n",
    "             (med_admin_win['Route'] == 'Oral'), 1, 0)\n",
    ")"
   ]
  },
  {
   "cell_type": "markdown",
   "id": "59b23aa1",
   "metadata": {},
   "source": [
    "#### Anesthetic"
   ]
  },
  {
   "cell_type": "markdown",
   "id": "76fbae21",
   "metadata": {},
   "source": [
    "**No indicator variable created.** "
   ]
  },
  {
   "cell_type": "markdown",
   "id": "a908409d",
   "metadata": {},
   "source": [
    "#### Cytoprotective"
   ]
  },
  {
   "cell_type": "markdown",
   "id": "b1ddd63b",
   "metadata": {},
   "source": [
    "**No indicator variable created.** "
   ]
  },
  {
   "cell_type": "markdown",
   "id": "99d98183",
   "metadata": {},
   "source": [
    "#### Antihyperglycemic"
   ]
  },
  {
   "cell_type": "code",
   "execution_count": 124,
   "id": "818c9889",
   "metadata": {},
   "outputs": [],
   "source": [
    "med_admin_win.loc[:, 'antihyperglycemic_diag'] = np.where(med_admin_win['DrugCategory'] == 'antihyperglycemic', 1, 0)"
   ]
  },
  {
   "cell_type": "markdown",
   "id": "1f58ae03",
   "metadata": {},
   "source": [
    "#### Proton pump inhibitor"
   ]
  },
  {
   "cell_type": "code",
   "execution_count": 125,
   "id": "c77e626a",
   "metadata": {},
   "outputs": [],
   "source": [
    "med_admin_win.loc[:, 'ppi_diag'] = np.where(med_admin_win['DrugCategory'] == 'proton pump inhibitor', 1, 0)"
   ]
  },
  {
   "cell_type": "markdown",
   "id": "080a5608",
   "metadata": {},
   "source": [
    "#### Antidepressant"
   ]
  },
  {
   "cell_type": "code",
   "execution_count": 126,
   "id": "8747ea9e",
   "metadata": {},
   "outputs": [],
   "source": [
    "med_admin_win.loc[:, 'antidepressant_diag'] = np.where(med_admin_win['DrugCategory'] == 'antidepressant', 1, 0)"
   ]
  },
  {
   "cell_type": "markdown",
   "id": "4126c4d6",
   "metadata": {},
   "source": [
    "#### Bone therapy agent"
   ]
  },
  {
   "cell_type": "code",
   "execution_count": 127,
   "id": "b2b0155b",
   "metadata": {},
   "outputs": [],
   "source": [
    "med_admin_win.loc[:, 'bta_diag'] = np.where(med_admin_win['DrugCategory'] == 'bone therapy agent (bta)', 1, 0)"
   ]
  },
  {
   "cell_type": "markdown",
   "id": "e1bd131a",
   "metadata": {},
   "source": [
    "#### Hormone"
   ]
  },
  {
   "cell_type": "code",
   "execution_count": 128,
   "id": "02174f48",
   "metadata": {},
   "outputs": [],
   "source": [
    "med_admin_win.loc[:, 'thyroid_diag'] = np.where(med_admin_win['CommonDrugName'] == 'levothyroxine', 1, 0)"
   ]
  },
  {
   "cell_type": "markdown",
   "id": "fd715cd2",
   "metadata": {},
   "source": [
    "#### Gout and hyperurecemia agent "
   ]
  },
  {
   "cell_type": "markdown",
   "id": "a193c858",
   "metadata": {},
   "source": [
    "**No indicator variable created.** "
   ]
  },
  {
   "cell_type": "markdown",
   "id": "81d03407",
   "metadata": {},
   "source": [
    "#### 4.16 Immunosuppressive "
   ]
  },
  {
   "cell_type": "code",
   "execution_count": 129,
   "id": "d5ef0ec5",
   "metadata": {},
   "outputs": [],
   "source": [
    "med_admin_win.loc[:, 'is_diag'] = np.where(med_admin_win['DrugCategory'] == 'immunosuppressive', 1, 0)"
   ]
  },
  {
   "cell_type": "markdown",
   "id": "60c88400",
   "metadata": {},
   "source": [
    "#### Sedative agent"
   ]
  },
  {
   "cell_type": "markdown",
   "id": "1ebf72ac",
   "metadata": {},
   "source": [
    "**No indicator variable created.** "
   ]
  },
  {
   "cell_type": "markdown",
   "id": "63340630",
   "metadata": {},
   "source": [
    "#### Endocrine"
   ]
  },
  {
   "cell_type": "markdown",
   "id": "4eb4c682",
   "metadata": {},
   "source": [
    "**No indicator variable created.** "
   ]
  },
  {
   "cell_type": "markdown",
   "id": "735ea834",
   "metadata": {},
   "source": [
    "#### Antidote and reversal agent"
   ]
  },
  {
   "cell_type": "markdown",
   "id": "9ad1f4ec",
   "metadata": {},
   "source": [
    "**No indicator variable created.** "
   ]
  },
  {
   "cell_type": "markdown",
   "id": "8d0a075a",
   "metadata": {},
   "source": [
    "#### Hyperglycemic"
   ]
  },
  {
   "cell_type": "markdown",
   "id": "65fce514",
   "metadata": {},
   "source": [
    "**No indicator variable created.** "
   ]
  },
  {
   "cell_type": "markdown",
   "id": "01664f71",
   "metadata": {},
   "source": [
    "#### Antithyroid agent"
   ]
  },
  {
   "cell_type": "markdown",
   "id": "3df697aa",
   "metadata": {},
   "source": [
    "**No indicator variable created.** "
   ]
  },
  {
   "cell_type": "markdown",
   "id": "f9e2a82f",
   "metadata": {},
   "source": [
    "#### Anticholinergic"
   ]
  },
  {
   "cell_type": "markdown",
   "id": "95457c20",
   "metadata": {},
   "source": [
    "**No indicator variable created.** "
   ]
  },
  {
   "cell_type": "markdown",
   "id": "bacc50c2",
   "metadata": {},
   "source": [
    "#### Calciumimetic"
   ]
  },
  {
   "cell_type": "markdown",
   "id": "9ceff0c5",
   "metadata": {},
   "source": [
    "**No indicator variable created.** "
   ]
  },
  {
   "cell_type": "markdown",
   "id": "303bdd0f",
   "metadata": {},
   "source": [
    "#### Targeted therapy"
   ]
  },
  {
   "cell_type": "markdown",
   "id": "437eeb21",
   "metadata": {},
   "source": [
    "**No indicator variable created.** "
   ]
  },
  {
   "cell_type": "markdown",
   "id": "eb7846a1",
   "metadata": {},
   "source": [
    "#### Condensing"
   ]
  },
  {
   "cell_type": "code",
   "execution_count": 130,
   "id": "ab768bc7",
   "metadata": {},
   "outputs": [],
   "source": [
    "# Select columns with indicator variables and PatientID, then collapse rows by PatientID and sum columns. \n",
    "med_admin_wide = (\n",
    "    med_admin_win\n",
    "    [med_admin_win.columns[med_admin_win.columns.str.contains('diag|PatientID')]]\n",
    "    .groupby('PatientID').sum()\n",
    ")"
   ]
  },
  {
   "cell_type": "code",
   "execution_count": 131,
   "id": "800ae0a4",
   "metadata": {},
   "outputs": [],
   "source": [
    "# Replace numbers greater than 1 with 1; 0 remains unchanged. \n",
    "med_admin_wide = (\n",
    "    med_admin_wide.mask(med_admin_wide > 1, 1)\n",
    "    .reset_index()\n",
    ")"
   ]
  },
  {
   "cell_type": "code",
   "execution_count": 132,
   "id": "43a23030",
   "metadata": {},
   "outputs": [
    {
     "data": {
      "text/plain": [
       "(926, 926)"
      ]
     },
     "execution_count": 132,
     "metadata": {},
     "output_type": "execute_result"
    }
   ],
   "source": [
    "row_ID(med_admin_wide)"
   ]
  },
  {
   "cell_type": "code",
   "execution_count": 133,
   "id": "926c4006",
   "metadata": {},
   "outputs": [],
   "source": [
    "# Append missing training IDs.\n",
    "med_admin_wide = (\n",
    "    med_admin_wide.append(\n",
    "        pd.Series(test_IDs)[~pd.Series(test_IDs).isin(med_admin_wide['PatientID'])].to_frame(name = 'PatientID'),\n",
    "        sort = False\n",
    "    )\n",
    "    .fillna(0)\n",
    ")"
   ]
  },
  {
   "cell_type": "code",
   "execution_count": 134,
   "id": "0f693ccd",
   "metadata": {},
   "outputs": [
    {
     "data": {
      "text/plain": [
       "(6863, 6863)"
      ]
     },
     "execution_count": 134,
     "metadata": {},
     "output_type": "execute_result"
    }
   ],
   "source": [
    "row_ID(med_admin_wide)"
   ]
  },
  {
   "cell_type": "code",
   "execution_count": 135,
   "id": "74ff5daf",
   "metadata": {},
   "outputs": [],
   "source": [
    "med_admin_wide = pd.merge(med_admin_wide, med_admin_adjuv, on = 'PatientID', how = 'left').fillna(0)"
   ]
  },
  {
   "cell_type": "code",
   "execution_count": 136,
   "id": "9aa74941",
   "metadata": {},
   "outputs": [
    {
     "name": "stdout",
     "output_type": "stream",
     "text": [
      "Variable              Type         Data/Info\n",
      "--------------------------------------------\n",
      "demographics          DataFrame              PatientID gende<...>\\n[6863 rows x 7 columns]\n",
      "enhanced_met          DataFrame               PatientID diag<...>\\n[6863 rows x 7 columns]\n",
      "line_therapy          DataFrame               PatientID     <...>n[12333 rows x 9 columns]\n",
      "line_therapy_1        DataFrame               PatientID     <...>\\n[5155 rows x 9 columns]\n",
      "med_admin             DataFrame                PatientID    <...>881806 rows x 15 columns]\n",
      "med_admin_adjuv       DataFrame                PatientID  ad<...>\\n[1010 rows x 2 columns]\n",
      "med_admin_wide        DataFrame              PatientID  ster<...>n[6863 rows x 15 columns]\n",
      "med_admin_win         DataFrame                PatientID    <...>[23044 rows x 28 columns]\n",
      "med_admin_win_chemo   DataFrame                PatientID    <...>[98188 rows x 16 columns]\n",
      "mortality             DataFrame              PatientID  deat<...>\\n[6863 rows x 3 columns]\n"
     ]
    }
   ],
   "source": [
    "%whos DataFrame"
   ]
  },
  {
   "cell_type": "code",
   "execution_count": 137,
   "id": "b3b38364",
   "metadata": {},
   "outputs": [],
   "source": [
    "# Keep demographics, enhanced_met, med_admin_wide, med_admin_wide, and mortality\n",
    "del line_therapy\n",
    "del line_therapy_1\n",
    "del med_admin\n",
    "del med_admin_adjuv\n",
    "del med_admin_win\n",
    "del med_admin_win_chemo"
   ]
  },
  {
   "cell_type": "markdown",
   "id": "a63f07f5",
   "metadata": {},
   "source": [
    "### 5. Enhanced_MetCRCBiomarkers"
   ]
  },
  {
   "cell_type": "code",
   "execution_count": 138,
   "id": "7cb47ea8",
   "metadata": {},
   "outputs": [],
   "source": [
    "biomarkers = pd.read_csv('Enhanced_MetCRCBiomarkers.csv')"
   ]
  },
  {
   "cell_type": "code",
   "execution_count": 139,
   "id": "def1308a",
   "metadata": {},
   "outputs": [],
   "source": [
    "biomarkers = biomarkers[biomarkers['PatientID'].isin(test_IDs)]"
   ]
  },
  {
   "cell_type": "code",
   "execution_count": 140,
   "id": "cc38a335",
   "metadata": {},
   "outputs": [
    {
     "data": {
      "text/plain": [
       "(24757, 15)"
      ]
     },
     "execution_count": 140,
     "metadata": {},
     "output_type": "execute_result"
    }
   ],
   "source": [
    "biomarkers.shape"
   ]
  },
  {
   "cell_type": "code",
   "execution_count": 141,
   "id": "9e82ac3e",
   "metadata": {},
   "outputs": [],
   "source": [
    "biomarkers.loc[:, 'ResultDate'] = pd.to_datetime(biomarkers['ResultDate'])"
   ]
  },
  {
   "cell_type": "markdown",
   "id": "9a922488",
   "metadata": {},
   "source": [
    "**The Biomarkers dataframe is in a long format. The goal is to build a single-row-per-patient dataframe with columns reflecting a patient's biomarker status within a predefined elgibility window. For this project, the elgibility window is defined as negative infinity to +30 days from time of diagnosis of metastatic disease (ie., index date).** \n",
    "\n",
    "**Regarding biomarker date information, result date is the date the biomarker result was first reported, and so represents the date on which the clinician would be expected to have information about the patient’s biomarker status to inform the course of treatment. Flatiron recommends using result date as the relevant biomarker test date and using specimen received date as the proxy when result date is not available. The gaps between collected date and either received or result date are substantially more variable.**\n",
    "\n",
    "**We'll begin by imputing specimen received date when result date is missing. Then, we'll select all biomarkers that fall within the elbility window.**"
   ]
  },
  {
   "cell_type": "code",
   "execution_count": 142,
   "id": "759d94a1",
   "metadata": {},
   "outputs": [],
   "source": [
    "biomarkers.loc[:, 'SpecimenReceivedDate'] = pd.to_datetime(biomarkers['SpecimenReceivedDate'])"
   ]
  },
  {
   "cell_type": "code",
   "execution_count": 143,
   "id": "b5aa2f23",
   "metadata": {},
   "outputs": [],
   "source": [
    "# Replace missing result date with specimen received date. \n",
    "biomarkers.loc[:, 'result_date'] = (\n",
    "    np.where(biomarkers['ResultDate'].isna(), biomarkers['SpecimenReceivedDate'], biomarkers['ResultDate'])\n",
    ")"
   ]
  },
  {
   "cell_type": "code",
   "execution_count": 144,
   "id": "683cb664",
   "metadata": {},
   "outputs": [],
   "source": [
    "biomarkers = pd.merge(biomarkers, enhanced_met[['PatientID', 'met_date']], on = 'PatientID', how = 'left')"
   ]
  },
  {
   "cell_type": "code",
   "execution_count": 145,
   "id": "4b65cbca",
   "metadata": {},
   "outputs": [],
   "source": [
    "# Create new variable that captures difference in days between result date and metastatic diagnosis. \n",
    "biomarkers.loc[:, 'bio_date_diff'] = (biomarkers['result_date'] - biomarkers['met_date']).dt.days"
   ]
  },
  {
   "cell_type": "code",
   "execution_count": 146,
   "id": "83a9c180",
   "metadata": {},
   "outputs": [],
   "source": [
    "# Select all patients with biomarkers < +30 from metastatic diagnosis. \n",
    "biomarker_win = biomarkers[biomarkers['bio_date_diff'] <= 30]"
   ]
  },
  {
   "cell_type": "markdown",
   "id": "255bfc74",
   "metadata": {},
   "source": [
    "**The next step is defining positive and negative staus for each biomarker. Patients with at least one confirmed positive test result for the biomarker of interest within the eligibility window will be considered “ever-positive”. This will include patients who may have confirmed negative results before and/or after a positive result within the eligibility window. A patient with an \"ever-positive\" biomarker during the elgibility window will have that biomarker labeled as positive.**\n",
    "\n",
    "**In contrast, patients with at least one confirmed negative test result for the biomarker of interest, and no confirmed positive test results for the same biomarker within the eligibility window may be considered “only-negative”. A patient with an \"only-negative\" biomarker during the elgibility window will have that biomarker labeled as negative.**\n",
    "\n",
    "**Lastly, if the biomarker is neither positive or negative, then it will be labeled as unknown.**"
   ]
  },
  {
   "cell_type": "code",
   "execution_count": 147,
   "id": "bc9bee66",
   "metadata": {},
   "outputs": [
    {
     "name": "stderr",
     "output_type": "stream",
     "text": [
      "/Applications/anaconda3/lib/python3.7/site-packages/pandas/core/indexing.py:1667: SettingWithCopyWarning: \n",
      "A value is trying to be set on a copy of a slice from a DataFrame.\n",
      "Try using .loc[row_indexer,col_indexer] = value instead\n",
      "\n",
      "See the caveats in the documentation: https://pandas.pydata.org/pandas-docs/stable/user_guide/indexing.html#returning-a-view-versus-a-copy\n",
      "  self.obj[key] = value\n"
     ]
    }
   ],
   "source": [
    "# Create indicator variable where where 2 if positive, 1 if negative, and 0 if unknown or missing. \n",
    "conditions = [\n",
    "    (biomarker_win['BiomarkerStatus'] == 'Mutation positive') | \n",
    "    (biomarker_win['BiomarkerStatus'] == 'Loss of MMR protein expression (MMR protein deficiency found)') | \n",
    "    (biomarker_win['BiomarkerStatus'] == 'MSI-H'), \n",
    "    (biomarker_win['BiomarkerStatus'] == 'Mutation negative') | \n",
    "    (biomarker_win['BiomarkerStatus'] == 'Normal MMR protein expression (No loss of nuclear expression of MMR protein)') |\n",
    "    (biomarker_win['BiomarkerStatus'] == 'MSS') | \n",
    "    (biomarker_win['BiomarkerStatus'] == 'MSI-L') |\n",
    "    (biomarker_win['BiomarkerStatus'] == 'MSS-Ambiguous') |\n",
    "    (biomarker_win['BiomarkerStatus'] == 'Equivocal')\n",
    "]\n",
    "\n",
    "choices = [2,1]\n",
    "biomarker_win.loc[:, 'bio_status'] = np.select(conditions, choices, default = 0)"
   ]
  },
  {
   "cell_type": "code",
   "execution_count": 148,
   "id": "7806d2e5",
   "metadata": {},
   "outputs": [],
   "source": [
    "# Select highest number biomarker status among duplicates, merge with nonduplciates, then pivot. \n",
    "biomarker_wide = (\n",
    "    biomarker_win\n",
    "    .sort_values(by = ['PatientID', 'BiomarkerName','bio_status'], ascending = False)\n",
    "    .drop_duplicates(subset = ['PatientID', 'BiomarkerName'], keep = 'first')\n",
    "    .pivot(index = 'PatientID', columns = 'BiomarkerName', values = 'bio_status')\n",
    "    .reset_index()\n",
    ")\n",
    "biomarker_wide.columns.name = None\n",
    "biomarker_wide = biomarker_wide.rename(columns = {'MMR/MSI': 'dMMR_MSIh'})"
   ]
  },
  {
   "cell_type": "code",
   "execution_count": 149,
   "id": "1beb5fb9",
   "metadata": {},
   "outputs": [
    {
     "data": {
      "text/plain": [
       "(3749, 3749)"
      ]
     },
     "execution_count": 149,
     "metadata": {},
     "output_type": "execute_result"
    }
   ],
   "source": [
    "row_ID(biomarker_wide)"
   ]
  },
  {
   "cell_type": "code",
   "execution_count": 150,
   "id": "3e31db5b",
   "metadata": {},
   "outputs": [],
   "source": [
    "biomarker_wide = (\n",
    "    biomarker_wide\n",
    "    .append(\n",
    "        pd.Series(test_IDs)[~pd.Series(test_IDs).isin(biomarker_wide['PatientID'])].to_frame(name = 'PatientID'),\n",
    "        sort = False)\n",
    ")"
   ]
  },
  {
   "cell_type": "code",
   "execution_count": 151,
   "id": "594c278d",
   "metadata": {},
   "outputs": [
    {
     "data": {
      "text/plain": [
       "(6863, 6863)"
      ]
     },
     "execution_count": 151,
     "metadata": {},
     "output_type": "execute_result"
    }
   ],
   "source": [
    "row_ID(biomarker_wide)"
   ]
  },
  {
   "cell_type": "code",
   "execution_count": 152,
   "id": "d87b688c",
   "metadata": {},
   "outputs": [],
   "source": [
    "biomarker_wide['BRAF'] = (\n",
    "    biomarker_wide['BRAF'].replace({\n",
    "        2: 'mutated',\n",
    "        1: 'wild-type',\n",
    "        0: 'unknown',\n",
    "        np.nan: 'unknown'})\n",
    ")"
   ]
  },
  {
   "cell_type": "code",
   "execution_count": 153,
   "id": "bce38315",
   "metadata": {},
   "outputs": [],
   "source": [
    "biomarker_wide['KRAS'] = (\n",
    "    biomarker_wide['KRAS'].replace({\n",
    "        2: 'mutated',\n",
    "        1: 'wild-type',\n",
    "        0: 'unknown',\n",
    "        np.nan: 'unknown'})\n",
    ")"
   ]
  },
  {
   "cell_type": "code",
   "execution_count": 154,
   "id": "8eeee3e1",
   "metadata": {},
   "outputs": [],
   "source": [
    "biomarker_wide['dMMR_MSIh'] = (\n",
    "    biomarker_wide['dMMR_MSIh'].replace({\n",
    "        2: 'yes',\n",
    "        1: 'no',\n",
    "        0: 'unknown',\n",
    "        np.nan: 'unknown'})\n",
    ")"
   ]
  },
  {
   "cell_type": "code",
   "execution_count": 155,
   "id": "3592a6ba",
   "metadata": {},
   "outputs": [],
   "source": [
    "biomarker_wide['NRAS'] = (\n",
    "    biomarker_wide['NRAS'].replace({\n",
    "        2: 'mutated',\n",
    "        1: 'wild-type',\n",
    "        0: 'unknown',\n",
    "        np.nan: 'unknown'})\n",
    ")"
   ]
  },
  {
   "cell_type": "code",
   "execution_count": 156,
   "id": "f8007f36",
   "metadata": {},
   "outputs": [],
   "source": [
    "# IDs of patients with mutation positive BRAF that is V600E. \n",
    "v600e_id = (\n",
    "    biomarker_win\n",
    "    .query('BiomarkerName == \"BRAF\"')\n",
    "    .query('BiomarkerStatus == \"Mutation positive\"')\n",
    "    .query('BiomarkerDetail == \"V600E BRAF mutation\"')\n",
    "    .PatientID\n",
    ")"
   ]
  },
  {
   "cell_type": "code",
   "execution_count": 157,
   "id": "5493116c",
   "metadata": {},
   "outputs": [],
   "source": [
    "# Identify patients with V600E mutated BRAF vs. other. \n",
    "conditions = [\n",
    "    (biomarker_wide['PatientID'].isin(v600e_id)),\n",
    "    (~biomarker_wide['PatientID'].isin(v600e_id)) & (biomarker_wide['BRAF'] == 'mutated')\n",
    "]\n",
    "\n",
    "choices = ['mutated V600E', 'mutated other']\n",
    "biomarker_wide.loc[:, 'BRAF_n'] = np.select(conditions, choices, default = biomarker_wide['BRAF'])"
   ]
  },
  {
   "cell_type": "code",
   "execution_count": 158,
   "id": "e59de5db",
   "metadata": {},
   "outputs": [],
   "source": [
    "biomarker_wide = (\n",
    "    biomarker_wide\n",
    "    .drop(columns = ['BRAF'])\n",
    "    .rename(columns = {'BRAF_n': 'BRAF'}))"
   ]
  },
  {
   "cell_type": "code",
   "execution_count": 159,
   "id": "aa7749c9",
   "metadata": {},
   "outputs": [
    {
     "name": "stdout",
     "output_type": "stream",
     "text": [
      "Variable         Type         Data/Info\n",
      "---------------------------------------\n",
      "biomarker_wide   DataFrame              PatientID      <...>\\n[6863 rows x 5 columns]\n",
      "biomarker_win    DataFrame               PatientID Biom<...>n[8849 rows x 19 columns]\n",
      "biomarkers       DataFrame               PatientID Biom<...>[24757 rows x 18 columns]\n",
      "demographics     DataFrame              PatientID gende<...>\\n[6863 rows x 7 columns]\n",
      "enhanced_met     DataFrame               PatientID diag<...>\\n[6863 rows x 7 columns]\n",
      "med_admin_wide   DataFrame              PatientID  ster<...>n[6863 rows x 15 columns]\n",
      "mortality        DataFrame              PatientID  deat<...>\\n[6863 rows x 3 columns]\n"
     ]
    }
   ],
   "source": [
    "%whos DataFrame"
   ]
  },
  {
   "cell_type": "code",
   "execution_count": 160,
   "id": "8b699af2",
   "metadata": {},
   "outputs": [],
   "source": [
    "# Keep biomarker_wide, demographics, enhanced_met, med_admin_wide, and mortality\n",
    "del biomarker_win\n",
    "del biomarkers"
   ]
  },
  {
   "cell_type": "markdown",
   "id": "ec54d2d9",
   "metadata": {},
   "source": [
    "### 6. Insurance"
   ]
  },
  {
   "cell_type": "code",
   "execution_count": 161,
   "id": "68cbd151",
   "metadata": {},
   "outputs": [],
   "source": [
    "insurance = pd.read_csv('Insurance.csv')"
   ]
  },
  {
   "cell_type": "code",
   "execution_count": 162,
   "id": "9ba60dc6",
   "metadata": {},
   "outputs": [],
   "source": [
    "insurance = insurance[insurance['PatientID'].isin(test_IDs)]"
   ]
  },
  {
   "cell_type": "code",
   "execution_count": 163,
   "id": "0f25124c",
   "metadata": {},
   "outputs": [
    {
     "data": {
      "text/plain": [
       "(22911, 6552)"
      ]
     },
     "execution_count": 163,
     "metadata": {},
     "output_type": "execute_result"
    }
   ],
   "source": [
    "row_ID(insurance)"
   ]
  },
  {
   "cell_type": "markdown",
   "id": "d9b248cc",
   "metadata": {},
   "source": [
    "**The insurance table contains patient insurance/payer information. Patients may have multiple payer categories concurrently. Start date is populated roughly 80% of the time, while end date is populated about 20% of the time. This mutiple-row-per-patient table will be transformed into a single-row-per-patient table. Indicator variables for each payer category active at time of metastatic diagnosis will be made as columns. Insurance will be considered active if start date is less than 30 days from advanced diagnosis regardless of end date.** "
   ]
  },
  {
   "cell_type": "code",
   "execution_count": 164,
   "id": "a10db61b",
   "metadata": {},
   "outputs": [],
   "source": [
    "insurance.loc[:, 'StartDate'] = pd.to_datetime(insurance['StartDate'])"
   ]
  },
  {
   "cell_type": "code",
   "execution_count": 165,
   "id": "2f5d8dfc",
   "metadata": {},
   "outputs": [],
   "source": [
    "insurance = pd.merge(insurance, enhanced_met[['PatientID', 'met_date']], on = 'PatientID', how = 'left')"
   ]
  },
  {
   "cell_type": "code",
   "execution_count": 166,
   "id": "e7a08542",
   "metadata": {},
   "outputs": [],
   "source": [
    "# Remove years with start dates less than 1900 which is likely a coding error. \n",
    "insurance = insurance[(insurance['StartDate']).dt.year >= 1900]"
   ]
  },
  {
   "cell_type": "code",
   "execution_count": 167,
   "id": "0649246b",
   "metadata": {},
   "outputs": [],
   "source": [
    "insurance.loc[:, 'insurance_date_diff'] = (insurance['StartDate'] - insurance['met_date']).dt.days"
   ]
  },
  {
   "cell_type": "code",
   "execution_count": 168,
   "id": "7ae279c2",
   "metadata": {},
   "outputs": [],
   "source": [
    "insurance_win = insurance[insurance['insurance_date_diff'] <= 30]"
   ]
  },
  {
   "cell_type": "code",
   "execution_count": 169,
   "id": "b62ec86a",
   "metadata": {},
   "outputs": [
    {
     "data": {
      "text/plain": [
       "(20105, 6076)"
      ]
     },
     "execution_count": 169,
     "metadata": {},
     "output_type": "execute_result"
    }
   ],
   "source": [
    "row_ID(insurance)"
   ]
  },
  {
   "cell_type": "code",
   "execution_count": 170,
   "id": "a904abc7",
   "metadata": {},
   "outputs": [
    {
     "name": "stderr",
     "output_type": "stream",
     "text": [
      "/Applications/anaconda3/lib/python3.7/site-packages/pandas/core/indexing.py:1667: SettingWithCopyWarning: \n",
      "A value is trying to be set on a copy of a slice from a DataFrame.\n",
      "Try using .loc[row_indexer,col_indexer] = value instead\n",
      "\n",
      "See the caveats in the documentation: https://pandas.pydata.org/pandas-docs/stable/user_guide/indexing.html#returning-a-view-versus-a-copy\n",
      "  self.obj[key] = value\n"
     ]
    }
   ],
   "source": [
    "# Recode payer category \n",
    "conditions = [\n",
    "    (insurance_win['IsMedicareAdv'] == 'Yes') | \n",
    "    (insurance_win['IsPartAOnly'] == 'Yes') | \n",
    "    (insurance_win['IsPartBOnly'] == 'Yes') |\n",
    "    (insurance_win['IsPartAandPartB'] == 'Yes') |\n",
    "    (insurance_win['IsPartDOnly'] == 'Yes'),\n",
    "    (insurance_win['IsManagedGovtPlan'] == 'Yes'),\n",
    "    (insurance_win['IsManagedMedicaid'] == 'Yes'),\n",
    "    (insurance_win['IsMedicareMedicaid'] == 'Yes')]\n",
    "\n",
    "choices = ['Medicare', 'Other Government Program', 'Medicaid', 'medicare_medicaid']\n",
    "\n",
    "insurance_win.loc[:, 'payer_category'] = np.select(conditions, choices, insurance_win['PayerCategory'])"
   ]
  },
  {
   "cell_type": "markdown",
   "id": "088d9f61",
   "metadata": {},
   "source": [
    "#### Medicare"
   ]
  },
  {
   "cell_type": "code",
   "execution_count": 171,
   "id": "5a663442",
   "metadata": {},
   "outputs": [],
   "source": [
    "insurance_win.loc[:, 'medicare'] = np.where(insurance_win['payer_category'] == 'Medicare', 1, 0)"
   ]
  },
  {
   "cell_type": "markdown",
   "id": "68c870dc",
   "metadata": {},
   "source": [
    "#### Medicaid"
   ]
  },
  {
   "cell_type": "code",
   "execution_count": 172,
   "id": "a052a092",
   "metadata": {},
   "outputs": [],
   "source": [
    "insurance_win.loc[:, 'medicaid'] = np.where(insurance_win['payer_category'] == 'Medicaid', 1, 0)"
   ]
  },
  {
   "cell_type": "markdown",
   "id": "ede59cf0",
   "metadata": {},
   "source": [
    "#### Medicare/Medicaid "
   ]
  },
  {
   "cell_type": "code",
   "execution_count": 173,
   "id": "3719466d",
   "metadata": {},
   "outputs": [],
   "source": [
    "insurance_win.loc[:, 'medicare_medicaid'] = np.where(insurance_win['payer_category'] == 'medicare_medicaid', 1, 0)"
   ]
  },
  {
   "cell_type": "markdown",
   "id": "b52a4c37",
   "metadata": {},
   "source": [
    "#### Commercial "
   ]
  },
  {
   "cell_type": "code",
   "execution_count": 174,
   "id": "dbeda9fe",
   "metadata": {},
   "outputs": [],
   "source": [
    "insurance_win.loc[:, 'commercial'] = np.where(insurance_win['payer_category'] == 'Commercial Health Plan', 1, 0)"
   ]
  },
  {
   "cell_type": "markdown",
   "id": "8f9fc316",
   "metadata": {},
   "source": [
    "#### Patient Assistance Programs "
   ]
  },
  {
   "cell_type": "code",
   "execution_count": 175,
   "id": "421554cb",
   "metadata": {},
   "outputs": [],
   "source": [
    "insurance_win.loc[:, 'patient_assistance'] = np.where(insurance_win['payer_category'] == 'Patient Assistance Program', 1, 0)"
   ]
  },
  {
   "cell_type": "markdown",
   "id": "2443c94b",
   "metadata": {},
   "source": [
    "#### Other Government Program "
   ]
  },
  {
   "cell_type": "code",
   "execution_count": 176,
   "id": "1e368dae",
   "metadata": {},
   "outputs": [],
   "source": [
    "insurance_win.loc[:, 'other_govt'] = np.where(insurance_win['payer_category'] == 'Other Government Program', 1, 0)"
   ]
  },
  {
   "cell_type": "markdown",
   "id": "7bd3a9a4",
   "metadata": {},
   "source": [
    "#### Self Pay "
   ]
  },
  {
   "cell_type": "code",
   "execution_count": 177,
   "id": "d0c914b5",
   "metadata": {},
   "outputs": [],
   "source": [
    "insurance_win.loc[:, 'self_pay'] = np.where(insurance_win['payer_category'] == 'Self Pay', 1, 0)"
   ]
  },
  {
   "cell_type": "markdown",
   "id": "c050c2a4",
   "metadata": {},
   "source": [
    "#### Other Payer"
   ]
  },
  {
   "cell_type": "code",
   "execution_count": 178,
   "id": "4876f8b4",
   "metadata": {},
   "outputs": [],
   "source": [
    "insurance_win.loc[:, 'other'] = np.where(insurance_win['payer_category'] == 'Other Payer - Type Unknown', 1, 0)"
   ]
  },
  {
   "cell_type": "markdown",
   "id": "0128fe81",
   "metadata": {},
   "source": [
    "#### Condense "
   ]
  },
  {
   "cell_type": "code",
   "execution_count": 179,
   "id": "bdf81a95",
   "metadata": {},
   "outputs": [],
   "source": [
    "# After dropping 'insurance_date_diff', add columns by PatientID.\n",
    "insurance_wide = (\n",
    "    insurance_win\n",
    "    .drop(columns = ['insurance_date_diff'])\n",
    "    .groupby('PatientID').sum()\n",
    ")"
   ]
  },
  {
   "cell_type": "code",
   "execution_count": 180,
   "id": "21ffdaa8",
   "metadata": {},
   "outputs": [],
   "source": [
    "# Set any value greater than 1 to 1; leave 0 unchanged. \n",
    "insurance_wide = (\n",
    "    insurance_wide\n",
    "    .mask(insurance_wide > 1, 1)\n",
    "    .reset_index()\n",
    ")"
   ]
  },
  {
   "cell_type": "code",
   "execution_count": 181,
   "id": "3d1a9630",
   "metadata": {},
   "outputs": [
    {
     "data": {
      "text/plain": [
       "(4968, 4968)"
      ]
     },
     "execution_count": 181,
     "metadata": {},
     "output_type": "execute_result"
    }
   ],
   "source": [
    "row_ID(insurance_wide)"
   ]
  },
  {
   "cell_type": "code",
   "execution_count": 182,
   "id": "74858d20",
   "metadata": {},
   "outputs": [],
   "source": [
    "# Append missing training IDs.\n",
    "insurance_wide = (\n",
    "    insurance_wide\n",
    "    .append(\n",
    "        pd.Series(test_IDs)[~pd.Series(test_IDs).isin(insurance_wide['PatientID'])].to_frame(name = 'PatientID'),\n",
    "        sort = False)\n",
    ")"
   ]
  },
  {
   "cell_type": "code",
   "execution_count": 183,
   "id": "71e89dd5",
   "metadata": {},
   "outputs": [
    {
     "data": {
      "text/plain": [
       "(6863, 6863)"
      ]
     },
     "execution_count": 183,
     "metadata": {},
     "output_type": "execute_result"
    }
   ],
   "source": [
    "row_ID(insurance_wide)"
   ]
  },
  {
   "cell_type": "code",
   "execution_count": 184,
   "id": "a33f65ab",
   "metadata": {},
   "outputs": [],
   "source": [
    "insurance_wide = insurance_wide.fillna(0)"
   ]
  },
  {
   "cell_type": "code",
   "execution_count": 185,
   "id": "980d65b2",
   "metadata": {},
   "outputs": [
    {
     "name": "stdout",
     "output_type": "stream",
     "text": [
      "Variable         Type         Data/Info\n",
      "---------------------------------------\n",
      "biomarker_wide   DataFrame              PatientID      <...>\\n[6863 rows x 5 columns]\n",
      "demographics     DataFrame              PatientID gende<...>\\n[6863 rows x 7 columns]\n",
      "enhanced_met     DataFrame               PatientID diag<...>\\n[6863 rows x 7 columns]\n",
      "insurance        DataFrame               PatientID     <...>[20105 rows x 16 columns]\n",
      "insurance_wide   DataFrame              PatientID  medi<...>\\n[6863 rows x 9 columns]\n",
      "insurance_win    DataFrame               PatientID     <...>n[9687 rows x 25 columns]\n",
      "med_admin_wide   DataFrame              PatientID  ster<...>n[6863 rows x 15 columns]\n",
      "mortality        DataFrame              PatientID  deat<...>\\n[6863 rows x 3 columns]\n"
     ]
    }
   ],
   "source": [
    "%whos DataFrame"
   ]
  },
  {
   "cell_type": "code",
   "execution_count": 186,
   "id": "b96e820c",
   "metadata": {},
   "outputs": [],
   "source": [
    "# Keep biomarker_wide, demographics, enhanced_met, insurance_wide, med_admin_wide, and mortality\n",
    "del insurance\n",
    "del insurance_win"
   ]
  },
  {
   "cell_type": "markdown",
   "id": "e90be760",
   "metadata": {},
   "source": [
    "### 7. ECOG"
   ]
  },
  {
   "cell_type": "code",
   "execution_count": 187,
   "id": "463c853d",
   "metadata": {},
   "outputs": [],
   "source": [
    "ecog = pd.read_csv('ECOG.csv')"
   ]
  },
  {
   "cell_type": "code",
   "execution_count": 188,
   "id": "2a49ca39",
   "metadata": {},
   "outputs": [],
   "source": [
    "ecog = ecog[ecog['PatientID'].isin(test_IDs)]"
   ]
  },
  {
   "cell_type": "code",
   "execution_count": 189,
   "id": "7037107f",
   "metadata": {},
   "outputs": [
    {
     "data": {
      "text/plain": [
       "(138410, 5261)"
      ]
     },
     "execution_count": 189,
     "metadata": {},
     "output_type": "execute_result"
    }
   ],
   "source": [
    "row_ID(ecog)"
   ]
  },
  {
   "cell_type": "markdown",
   "id": "d9212e1c",
   "metadata": {},
   "source": [
    "**The ECOG table is a longitudinal record of structured ECOG scores captured in the EHR for each patient. Many patients have multiple ECOG scores reported. A new dataframe will be built where one ECOG score will be assigned to each patient. The index date will be date of advanced diagnosis with an elgible window period of +30 days to -90 days from advanced diagnosis. The ECOG score closest to index date will be assigned to the patient. In the case of two ECOG scores on the same day or equidistant but on opposite sides of the index date, the higher ECOG score (worse performance) will be selected.** \n",
    "\n",
    "**BaselineECOG is a composite table that selects one ECOG score within +7 days and -30 days of a line of therapy. Patients might have two baseline ECOG values for line number 1 due to maintenance therapy. BaselineECOG will not be used for creating baseline models.** "
   ]
  },
  {
   "cell_type": "code",
   "execution_count": 190,
   "id": "b7331a0c",
   "metadata": {},
   "outputs": [],
   "source": [
    "ecog = pd.merge(ecog, enhanced_met[['PatientID', 'met_date']], on = 'PatientID', how = 'left')"
   ]
  },
  {
   "cell_type": "code",
   "execution_count": 191,
   "id": "65e4971f",
   "metadata": {},
   "outputs": [],
   "source": [
    "ecog.loc[:, 'EcogDate'] = pd.to_datetime(ecog['EcogDate'])      "
   ]
  },
  {
   "cell_type": "code",
   "execution_count": 192,
   "id": "e2b94911",
   "metadata": {},
   "outputs": [],
   "source": [
    "ecog.loc[:, 'ecog_date_diff'] = (ecog['EcogDate'] - ecog['met_date']).dt.days"
   ]
  },
  {
   "cell_type": "code",
   "execution_count": 193,
   "id": "6482ed1f",
   "metadata": {},
   "outputs": [],
   "source": [
    "ecog_win = ecog[(ecog['ecog_date_diff'] >= -90) & (ecog['ecog_date_diff'] <= 30)]"
   ]
  },
  {
   "cell_type": "code",
   "execution_count": 194,
   "id": "d7f4b768",
   "metadata": {},
   "outputs": [
    {
     "data": {
      "text/plain": [
       "(8350, 3190)"
      ]
     },
     "execution_count": 194,
     "metadata": {},
     "output_type": "execute_result"
    }
   ],
   "source": [
    "row_ID(ecog_win)"
   ]
  },
  {
   "cell_type": "code",
   "execution_count": 195,
   "id": "b22ee2cb",
   "metadata": {},
   "outputs": [
    {
     "name": "stderr",
     "output_type": "stream",
     "text": [
      "/Applications/anaconda3/lib/python3.7/site-packages/pandas/core/indexing.py:1773: SettingWithCopyWarning: \n",
      "A value is trying to be set on a copy of a slice from a DataFrame.\n",
      "Try using .loc[row_indexer,col_indexer] = value instead\n",
      "\n",
      "See the caveats in the documentation: https://pandas.pydata.org/pandas-docs/stable/user_guide/indexing.html#returning-a-view-versus-a-copy\n",
      "  self._setitem_single_column(ilocs[0], value, pi)\n"
     ]
    }
   ],
   "source": [
    "# Time from metastatic diagnosis to ECOG date will be converted to an absolute value. \n",
    "ecog_win.loc[:, 'ecog_date_diff'] = ecog_win['ecog_date_diff'].abs()"
   ]
  },
  {
   "cell_type": "code",
   "execution_count": 196,
   "id": "795baf50",
   "metadata": {},
   "outputs": [],
   "source": [
    "# Sort values with ECOG nearest to time of diagnosis as top row (and largest ECOG if multiple ECOGs that day) then select top row.   ECOG date nearest to day of diagnosis as top row and largest ES\n",
    "ecog_diagnosis_wide = (\n",
    "    ecog_win\n",
    "    .sort_values(by = ['PatientID', 'ecog_date_diff', 'EcogValue'], ascending = [True, True, False])\n",
    "    .drop_duplicates(subset = ['PatientID'], keep = 'first' )\n",
    "    .filter(items = ['PatientID', 'EcogValue'])\n",
    "    .rename(columns = {'EcogValue': 'ecog_diagnosis'})\n",
    ")"
   ]
  },
  {
   "cell_type": "code",
   "execution_count": 197,
   "id": "c06d7b2b",
   "metadata": {},
   "outputs": [
    {
     "data": {
      "text/plain": [
       "(3190, 3190)"
      ]
     },
     "execution_count": 197,
     "metadata": {},
     "output_type": "execute_result"
    }
   ],
   "source": [
    "row_ID(ecog_diagnosis_wide)"
   ]
  },
  {
   "cell_type": "code",
   "execution_count": 198,
   "id": "937b2105",
   "metadata": {},
   "outputs": [],
   "source": [
    "# Append missing training IDs. \n",
    "ecog_diagnosis_wide = (\n",
    "    ecog_diagnosis_wide\n",
    "    .append(\n",
    "        pd.Series(test_IDs)[~pd.Series(test_IDs).isin(ecog_diagnosis_wide['PatientID'])].to_frame(name = 'PatientID'),\n",
    "        sort = False)\n",
    "    .fillna('unknown')\n",
    ")"
   ]
  },
  {
   "cell_type": "code",
   "execution_count": 199,
   "id": "57d74abb",
   "metadata": {},
   "outputs": [
    {
     "data": {
      "text/plain": [
       "(6863, 6863)"
      ]
     },
     "execution_count": 199,
     "metadata": {},
     "output_type": "execute_result"
    }
   ],
   "source": [
    "row_ID(ecog_diagnosis_wide)"
   ]
  },
  {
   "cell_type": "code",
   "execution_count": 200,
   "id": "31fa550a",
   "metadata": {},
   "outputs": [
    {
     "name": "stdout",
     "output_type": "stream",
     "text": [
      "Variable              Type         Data/Info\n",
      "--------------------------------------------\n",
      "biomarker_wide        DataFrame              PatientID      <...>\\n[6863 rows x 5 columns]\n",
      "demographics          DataFrame              PatientID gende<...>\\n[6863 rows x 7 columns]\n",
      "ecog                  DataFrame                PatientID    <...>[138410 rows x 6 columns]\n",
      "ecog_diagnosis_wide   DataFrame                PatientID eco<...>\\n[6863 rows x 2 columns]\n",
      "ecog_win              DataFrame                PatientID    <...>\\n[8350 rows x 6 columns]\n",
      "enhanced_met          DataFrame               PatientID diag<...>\\n[6863 rows x 7 columns]\n",
      "insurance_wide        DataFrame              PatientID  medi<...>\\n[6863 rows x 9 columns]\n",
      "med_admin_wide        DataFrame              PatientID  ster<...>n[6863 rows x 15 columns]\n",
      "mortality             DataFrame              PatientID  deat<...>\\n[6863 rows x 3 columns]\n"
     ]
    }
   ],
   "source": [
    "%whos DataFrame"
   ]
  },
  {
   "cell_type": "code",
   "execution_count": 201,
   "id": "4d514f21",
   "metadata": {},
   "outputs": [],
   "source": [
    "# Keep biomarker_wide, demographics, ecog_diagnosis_wide, enhanced_met, insurance_wide, med_admin_wide, and mortality\n",
    "del ecog\n",
    "del ecog_win"
   ]
  },
  {
   "cell_type": "markdown",
   "id": "fe3279ec",
   "metadata": {},
   "source": [
    "### 8. Vitals"
   ]
  },
  {
   "cell_type": "code",
   "execution_count": 202,
   "id": "a6a21009",
   "metadata": {},
   "outputs": [
    {
     "name": "stderr",
     "output_type": "stream",
     "text": [
      "/Applications/anaconda3/lib/python3.7/site-packages/IPython/core/interactiveshell.py:3441: DtypeWarning: Columns (10) have mixed types.Specify dtype option on import or set low_memory=False.\n",
      "  exec(code_obj, self.user_global_ns, self.user_ns)\n"
     ]
    }
   ],
   "source": [
    "vitals = pd.read_csv('Vitals.csv')"
   ]
  },
  {
   "cell_type": "code",
   "execution_count": 203,
   "id": "d6070979",
   "metadata": {},
   "outputs": [],
   "source": [
    "vitals = vitals[vitals['PatientID'].isin(test_IDs)]"
   ]
  },
  {
   "cell_type": "code",
   "execution_count": 204,
   "id": "c8df3412",
   "metadata": {},
   "outputs": [
    {
     "data": {
      "text/plain": [
       "(2146716, 6851)"
      ]
     },
     "execution_count": 204,
     "metadata": {},
     "output_type": "execute_result"
    }
   ],
   "source": [
    "row_ID(vitals)"
   ]
  },
  {
   "cell_type": "markdown",
   "id": "423da818",
   "metadata": {},
   "source": [
    "**The Vitals table is a longitudinal record of vitals captured in the EHR for each patient. A weight and BMI variable at time of advanced diagnosis will be created. The elgibility window will be -90 days to +30 days from advanced diagnosis. Average height from all visits will be used to calculate BMI. In the case of two weights on the same day or equidistant but on opposite sides of the index date, the lowest weight will be selected. Percent change in weight and weight slope 3 months within advanced diagnosis will be calculated as in the LCPI model. Patients must have at least two weight recordings to calculate percent change in weight or weight slope.** "
   ]
  },
  {
   "cell_type": "markdown",
   "id": "0ac29dd2",
   "metadata": {},
   "source": [
    "#### Weight and BMI"
   ]
  },
  {
   "cell_type": "code",
   "execution_count": 205,
   "id": "45ca3d14",
   "metadata": {},
   "outputs": [],
   "source": [
    "# Create weight dataframe; remove weight values that are empty or equal to zero.\n",
    "weight = (\n",
    "    vitals\n",
    "    .query('Test == \"body weight\"')\n",
    "    .filter(items = ['PatientID', 'TestDate', 'TestResultCleaned'])\n",
    "    .rename(columns = {'TestResultCleaned': 'weight'})\n",
    "    .dropna(subset = ['weight'])\n",
    "    .query('weight != 0')\n",
    ")"
   ]
  },
  {
   "cell_type": "code",
   "execution_count": 206,
   "id": "53673180",
   "metadata": {},
   "outputs": [],
   "source": [
    "weight.loc[:, 'TestDate'] = pd.to_datetime(weight['TestDate'])"
   ]
  },
  {
   "cell_type": "code",
   "execution_count": 207,
   "id": "d12d4f31",
   "metadata": {},
   "outputs": [],
   "source": [
    "weight = pd.merge(weight, enhanced_met[['PatientID', 'met_date']], on = 'PatientID', how = 'left')"
   ]
  },
  {
   "cell_type": "code",
   "execution_count": 208,
   "id": "db6c58f7",
   "metadata": {},
   "outputs": [],
   "source": [
    "# Weight elgibliity window is -90 and +30 from metastatic diagnosis diagnosis. \n",
    "weight_win_bmi = (\n",
    "    weight\n",
    "    .assign(weight_date_diff = (weight['TestDate'] - weight['met_date']).dt.days)\n",
    "    .query('weight_date_diff >= -90 and weight_date_diff <= 30')\n",
    ")"
   ]
  },
  {
   "cell_type": "code",
   "execution_count": 209,
   "id": "c292150d",
   "metadata": {},
   "outputs": [],
   "source": [
    "weight_win_bmi.loc[:, 'weight_date_diff'] = weight_win_bmi['weight_date_diff'].abs()"
   ]
  },
  {
   "cell_type": "code",
   "execution_count": 210,
   "id": "79e2b7cf",
   "metadata": {},
   "outputs": [],
   "source": [
    "# Select weight closest to date of metastatic diagnosis; lowest weight selected in the event of two weights on same day or equidistant. \n",
    "weight_bmi_wide = (\n",
    "    weight_win_bmi\n",
    "    .sort_values(by = ['PatientID', 'weight_date_diff', 'weight'], ascending = [True, True, True])\n",
    "    .drop_duplicates(subset = ['PatientID'], keep = 'first')\n",
    "    .filter(items = ['PatientID', 'weight'])\n",
    "    .rename(columns = {'weight': 'weight_diag'})\n",
    ")"
   ]
  },
  {
   "cell_type": "code",
   "execution_count": 211,
   "id": "bb5dcb7f",
   "metadata": {},
   "outputs": [],
   "source": [
    "# Dataframe of average height for each patient. \n",
    "height_avg = (\n",
    "    vitals\n",
    "    .query('Test == \"body height\"')\n",
    "    .filter(items = ['PatientID', 'TestResultCleaned'])\n",
    "    .groupby('PatientID')['TestResultCleaned'].mean()\n",
    "    .to_frame()\n",
    "    .reset_index()\n",
    "    .rename(columns = {'TestResultCleaned': 'height_avg'})\n",
    ")"
   ]
  },
  {
   "cell_type": "code",
   "execution_count": 212,
   "id": "fe1bc12c",
   "metadata": {},
   "outputs": [],
   "source": [
    "weight_bmi_wide = pd.merge(weight_bmi_wide, height_avg, on = 'PatientID', how = 'left')"
   ]
  },
  {
   "cell_type": "code",
   "execution_count": 213,
   "id": "994c1e60",
   "metadata": {},
   "outputs": [],
   "source": [
    "# Create BMI column. \n",
    "weight_bmi_wide = (\n",
    "    weight_bmi_wide\n",
    "    .assign(bmi_diag = lambda x: (x['weight_diag']/(x['height_avg']*x['height_avg']))*10000)\n",
    "    .drop(columns = ['height_avg'])\n",
    ")"
   ]
  },
  {
   "cell_type": "code",
   "execution_count": 214,
   "id": "a30263a9",
   "metadata": {},
   "outputs": [],
   "source": [
    "# Append excluded IDs from training set and create a missing variable for those without BMI at diagnosis. \n",
    "weight_bmi_wide = (\n",
    "    weight_bmi_wide\n",
    "    .append(\n",
    "        pd.Series(test_IDs)[~pd.Series(test_IDs).isin(weight_bmi_wide['PatientID'])].to_frame(name = 'PatientID'),\n",
    "        sort = False)\n",
    ")"
   ]
  },
  {
   "cell_type": "code",
   "execution_count": 215,
   "id": "284c9971",
   "metadata": {},
   "outputs": [
    {
     "data": {
      "text/plain": [
       "(6863, 6863)"
      ]
     },
     "execution_count": 215,
     "metadata": {},
     "output_type": "execute_result"
    }
   ],
   "source": [
    "row_ID(weight_bmi_wide)"
   ]
  },
  {
   "cell_type": "code",
   "execution_count": 216,
   "id": "1288bfbb",
   "metadata": {},
   "outputs": [],
   "source": [
    "weight_bmi_wide.loc[:, 'bmi_diag_na'] = np.where(weight_bmi_wide['bmi_diag'].isna(), 1, 0)"
   ]
  },
  {
   "cell_type": "markdown",
   "id": "1a65eca0",
   "metadata": {},
   "source": [
    "#### Percent change "
   ]
  },
  {
   "cell_type": "code",
   "execution_count": 217,
   "id": "f721a64e",
   "metadata": {},
   "outputs": [],
   "source": [
    "# Select elgbility window of -90 to +90 days from advanced diagnosis.\n",
    "weight_win_summary = (\n",
    "    weight\n",
    "    .assign(weight_date_diff = (weight['TestDate'] - weight['met_date']).dt.days)\n",
    "    .query('weight_date_diff >= -90 and weight_date_diff <= 90')\n",
    ")"
   ]
  },
  {
   "cell_type": "code",
   "execution_count": 218,
   "id": "99c8acb9",
   "metadata": {},
   "outputs": [],
   "source": [
    "# Select patients with more than 1 weight recording within elgibility window.\n",
    "weight_win_summary = weight_win_summary[weight_win_summary.duplicated(subset = ['PatientID'], keep = False)]"
   ]
  },
  {
   "cell_type": "code",
   "execution_count": 219,
   "id": "ec8819d1",
   "metadata": {},
   "outputs": [],
   "source": [
    "# Select weight from the earliest time within elgibility window. \n",
    "weight_tmin = weight_win_summary.loc[weight_win_summary.groupby('PatientID')['weight_date_diff'].idxmin()]"
   ]
  },
  {
   "cell_type": "code",
   "execution_count": 220,
   "id": "9669df5c",
   "metadata": {},
   "outputs": [],
   "source": [
    "# Select weight from the latest time within elgibility window. \n",
    "weight_tmax = weight_win_summary.loc[weight_win_summary.groupby('PatientID')['weight_date_diff'].idxmax()]"
   ]
  },
  {
   "cell_type": "code",
   "execution_count": 221,
   "id": "760b46ad",
   "metadata": {},
   "outputs": [],
   "source": [
    "# Combine above two dataframes and sort from earliest recorded weight to latest recorded weight for each patient. \n",
    "weight_tcomb = (\n",
    "    pd.concat([weight_tmin, weight_tmax])\n",
    "    .sort_values(by = ['PatientID', 'weight_date_diff'], ascending = True)\n",
    ")"
   ]
  },
  {
   "cell_type": "code",
   "execution_count": 222,
   "id": "7ff11c8b",
   "metadata": {},
   "outputs": [
    {
     "data": {
      "text/plain": [
       "(10826, 5413)"
      ]
     },
     "execution_count": 222,
     "metadata": {},
     "output_type": "execute_result"
    }
   ],
   "source": [
    "row_ID(weight_tcomb)"
   ]
  },
  {
   "cell_type": "code",
   "execution_count": 223,
   "id": "6c51c456",
   "metadata": {},
   "outputs": [],
   "source": [
    "weight_tcomb.loc[:, 'weight_pct_change'] = weight_tcomb.groupby('PatientID')['weight'].pct_change()"
   ]
  },
  {
   "cell_type": "code",
   "execution_count": 224,
   "id": "b9993ede",
   "metadata": {},
   "outputs": [],
   "source": [
    "weight_tcomb.loc[:, 'diff_date_diff'] = weight_tcomb['weight_date_diff'].diff()"
   ]
  },
  {
   "cell_type": "code",
   "execution_count": 225,
   "id": "94eb82d7",
   "metadata": {},
   "outputs": [],
   "source": [
    "# Drop empty rows for weight_pct_change.\n",
    "weight_pct_wide = (\n",
    "    weight_tcomb\n",
    "    .dropna(subset = ['weight_pct_change'])\n",
    "    .filter(items = ['PatientID', 'weight_pct_change', 'diff_date_diff'])\n",
    ")"
   ]
  },
  {
   "cell_type": "code",
   "execution_count": 226,
   "id": "12ef81cb",
   "metadata": {},
   "outputs": [
    {
     "data": {
      "text/plain": [
       "(5413, 5413)"
      ]
     },
     "execution_count": 226,
     "metadata": {},
     "output_type": "execute_result"
    }
   ],
   "source": [
    "row_ID(weight_pct_wide)"
   ]
  },
  {
   "cell_type": "code",
   "execution_count": 227,
   "id": "ef73eb33",
   "metadata": {},
   "outputs": [],
   "source": [
    "# Append missing training IDs and create a missing variable for those without weight_pct_change. \n",
    "weight_pct_wide = (\n",
    "    weight_pct_wide\n",
    "    .append(\n",
    "        pd.Series(test_IDs)[~pd.Series(test_IDs).isin(weight_pct_wide['PatientID'])].to_frame(name = 'PatientID'),\n",
    "        sort = False)\n",
    "    .drop(columns = ['diff_date_diff'])\n",
    ")"
   ]
  },
  {
   "cell_type": "code",
   "execution_count": 228,
   "id": "bfe04973",
   "metadata": {},
   "outputs": [
    {
     "data": {
      "text/plain": [
       "(6863, 6863)"
      ]
     },
     "execution_count": 228,
     "metadata": {},
     "output_type": "execute_result"
    }
   ],
   "source": [
    "row_ID(weight_pct_wide)"
   ]
  },
  {
   "cell_type": "code",
   "execution_count": 229,
   "id": "9af4812a",
   "metadata": {},
   "outputs": [],
   "source": [
    "weight_pct_wide.loc[:, 'weight_pct_na'] = np.where(weight_pct_wide['weight_pct_change'].isna(), 1, 0)"
   ]
  },
  {
   "cell_type": "markdown",
   "id": "6cba8c3f",
   "metadata": {},
   "source": [
    "#### Weight slope"
   ]
  },
  {
   "cell_type": "code",
   "execution_count": 230,
   "id": "20884e3f",
   "metadata": {},
   "outputs": [],
   "source": [
    "from scipy.stats import linregress "
   ]
  },
  {
   "cell_type": "code",
   "execution_count": 231,
   "id": "d27126f1",
   "metadata": {},
   "outputs": [],
   "source": [
    "weight_win_summary.loc[:, 'date_ordinal'] = weight_win_summary['TestDate'].map(dt.datetime.toordinal)"
   ]
  },
  {
   "cell_type": "code",
   "execution_count": 232,
   "id": "39d9d746",
   "metadata": {},
   "outputs": [
    {
     "name": "stderr",
     "output_type": "stream",
     "text": [
      "/Applications/anaconda3/lib/python3.7/site-packages/scipy/stats/_stats_mstats_common.py:170: RuntimeWarning: invalid value encountered in double_scalars\n",
      "  slope = ssxym / ssxm\n"
     ]
    }
   ],
   "source": [
    "# Dataframe of slope for weight recordings within window period (kg/day).\n",
    "weight_slope_wide = (\n",
    "    weight_win_summary\n",
    "    .groupby('PatientID')\n",
    "    .apply(lambda x: pd.Series(linregress(x['date_ordinal'], x['weight'])))\n",
    "    .rename(columns = {0: 'weight_slope'})\n",
    "    .reset_index()\n",
    "    .filter(items = ['PatientID', 'weight_slope']))   "
   ]
  },
  {
   "cell_type": "code",
   "execution_count": 233,
   "id": "4cc13d96",
   "metadata": {},
   "outputs": [
    {
     "data": {
      "text/plain": [
       "(5413, 5413)"
      ]
     },
     "execution_count": 233,
     "metadata": {},
     "output_type": "execute_result"
    }
   ],
   "source": [
    "row_ID(weight_slope_wide)"
   ]
  },
  {
   "cell_type": "code",
   "execution_count": 234,
   "id": "b380591d",
   "metadata": {},
   "outputs": [],
   "source": [
    "# Append missing training IDs. \n",
    "weight_slope_wide = (\n",
    "    weight_slope_wide\n",
    "    .append(\n",
    "        pd.Series(test_IDs)[~pd.Series(test_IDs).isin(weight_slope_wide['PatientID'])].to_frame(name = 'PatientID'),\n",
    "        sort = False)\n",
    ")"
   ]
  },
  {
   "cell_type": "code",
   "execution_count": 235,
   "id": "b054f0dc",
   "metadata": {},
   "outputs": [
    {
     "data": {
      "text/plain": [
       "(6863, 6863)"
      ]
     },
     "execution_count": 235,
     "metadata": {},
     "output_type": "execute_result"
    }
   ],
   "source": [
    "row_ID(weight_slope_wide)"
   ]
  },
  {
   "cell_type": "markdown",
   "id": "b40b8bbe",
   "metadata": {},
   "source": [
    "#### Weight merge "
   ]
  },
  {
   "cell_type": "code",
   "execution_count": 236,
   "id": "9d7cb5b8",
   "metadata": {},
   "outputs": [],
   "source": [
    "weight_wide = pd.merge(weight_bmi_wide, weight_pct_wide, on = 'PatientID')"
   ]
  },
  {
   "cell_type": "code",
   "execution_count": 237,
   "id": "890857b0",
   "metadata": {},
   "outputs": [],
   "source": [
    "weight_wide = pd.merge(weight_wide, weight_slope_wide, on = 'PatientID')"
   ]
  },
  {
   "cell_type": "code",
   "execution_count": 238,
   "id": "d659cf11",
   "metadata": {},
   "outputs": [
    {
     "data": {
      "text/plain": [
       "(6863, 6863)"
      ]
     },
     "execution_count": 238,
     "metadata": {},
     "output_type": "execute_result"
    }
   ],
   "source": [
    "row_ID(weight_wide)"
   ]
  },
  {
   "cell_type": "code",
   "execution_count": 239,
   "id": "0a5cf0b9",
   "metadata": {},
   "outputs": [
    {
     "name": "stdout",
     "output_type": "stream",
     "text": [
      "Variable              Type         Data/Info\n",
      "--------------------------------------------\n",
      "biomarker_wide        DataFrame              PatientID      <...>\\n[6863 rows x 5 columns]\n",
      "demographics          DataFrame              PatientID gende<...>\\n[6863 rows x 7 columns]\n",
      "ecog_diagnosis_wide   DataFrame                PatientID eco<...>\\n[6863 rows x 2 columns]\n",
      "enhanced_met          DataFrame               PatientID diag<...>\\n[6863 rows x 7 columns]\n",
      "height_avg            DataFrame              PatientID  heig<...>\\n[6810 rows x 2 columns]\n",
      "insurance_wide        DataFrame              PatientID  medi<...>\\n[6863 rows x 9 columns]\n",
      "med_admin_wide        DataFrame              PatientID  ster<...>n[6863 rows x 15 columns]\n",
      "mortality             DataFrame              PatientID  deat<...>\\n[6863 rows x 3 columns]\n",
      "vitals                DataFrame                  PatientID  <...>146716 rows x 16 columns]\n",
      "weight                DataFrame                PatientID   T<...>[271931 rows x 4 columns]\n",
      "weight_bmi_wide       DataFrame              PatientID  weig<...>\\n[6863 rows x 4 columns]\n",
      "weight_pct_wide       DataFrame              PatientID  weig<...>\\n[6863 rows x 3 columns]\n",
      "weight_slope_wide     DataFrame              PatientID  weig<...>\\n[6863 rows x 2 columns]\n",
      "weight_tcomb          DataFrame                PatientID   T<...>n[10826 rows x 7 columns]\n",
      "weight_tmax           DataFrame                PatientID   T<...>\\n[5413 rows x 5 columns]\n",
      "weight_tmin           DataFrame                PatientID   T<...>\\n[5413 rows x 5 columns]\n",
      "weight_wide           DataFrame              PatientID  weig<...>\\n[6863 rows x 7 columns]\n",
      "weight_win_bmi        DataFrame                PatientID   T<...>n[17157 rows x 5 columns]\n",
      "weight_win_summary    DataFrame                PatientID   T<...>n[42210 rows x 6 columns]\n"
     ]
    }
   ],
   "source": [
    "%whos DataFrame"
   ]
  },
  {
   "cell_type": "code",
   "execution_count": 240,
   "id": "60e8b939",
   "metadata": {},
   "outputs": [],
   "source": [
    "# Keep biomarker_wide, demographics, ecog_diagnosis_wide, enhanced_met, insurance_wide, med_admin_wide, mortality, \n",
    "# and weight_wide\n",
    "del height_avg\n",
    "del vitals\n",
    "del weight\n",
    "del weight_bmi_wide\n",
    "del weight_pct_wide\n",
    "del weight_slope_wide\n",
    "del weight_tcomb\n",
    "del weight_tmax\n",
    "del weight_tmin\n",
    "del weight_win_bmi\n",
    "del weight_win_summary"
   ]
  },
  {
   "cell_type": "markdown",
   "id": "d9883956",
   "metadata": {},
   "source": [
    "### Labs"
   ]
  },
  {
   "cell_type": "code",
   "execution_count": 241,
   "id": "7cf523c1",
   "metadata": {},
   "outputs": [],
   "source": [
    "lab = pd.read_csv('Lab.csv')"
   ]
  },
  {
   "cell_type": "code",
   "execution_count": 242,
   "id": "09b9bceb",
   "metadata": {},
   "outputs": [],
   "source": [
    "lab = lab[lab['PatientID'].isin(test_IDs)]"
   ]
  },
  {
   "cell_type": "code",
   "execution_count": 243,
   "id": "d8ff7ca3",
   "metadata": {},
   "outputs": [
    {
     "data": {
      "text/plain": [
       "(6178543, 6629)"
      ]
     },
     "execution_count": 243,
     "metadata": {},
     "output_type": "execute_result"
    }
   ],
   "source": [
    "row_ID(lab)"
   ]
  },
  {
   "cell_type": "markdown",
   "id": "644abae2",
   "metadata": {},
   "source": [
    "**The Lab table is a longitudinal record of lab captured in the EHR with multiple-rows-per-patient. A single-patient-per-row table will be built focusing on the following NCCN recommended labs:** \n",
    "* **Creatinine -- (LOINC: 2160-0 and 38483-4)**\n",
    "* **Hemoglobin -- (LOINC: 718-7 and 20509-6)**\n",
    "* **White blood cell count -- (LOINC: 26464-8 and 6690-2)**\n",
    "* **Neutrophil count -- (LOINC: 26499-4, 751-8, 30451-9, and 753-4)**\n",
    "* **Albumin, serum -- (LOINC: 1751-7)**\n",
    "* **Total bilirubin -- (LOINC: 42719-5 and 1975-2)**\n",
    "* **Sodium — (LOINC: 2947-0 and 2951-2)**\n",
    "* **Bicarb — (LOINC: 1963-8, 1959-6, 14627-4, 1960-4, and 2028-9)**\n",
    "* **Calcium — (LOINC: 17861-6 and 49765-1)** \n",
    "* **AST — (LOINC: 1920-8)**\n",
    "* **ALT — (LOINC: 1742-6, 1743-4, and 1744-2)**\n",
    "* **Platelet -- (LOINC: 26515-7, 777-3, 778-1, and 49497-1)**\n",
    "* **Potassium -- (LOINC: 6298-4 and 2823-3)**\n",
    "* **Chloride -- (LOINC: 2075-0)**\n",
    "* **BUN -- (LOINC: 3094-0)**\n",
    "* **ALP -- (LOINC: 6768-6)**\n",
    "* **CEA -- (LOINC: 2039-6)**\n",
    "\n",
    "**The index date will be time of advanced diagnosis with an elgibility window of -90 days to +30 days. The lab value closest to the index date will be selected for each patient. The following summary statistics, using an elgibility window of negative infinity to +30 days from advanced diagnosis, will also be created for the above variables:** \n",
    "* **Max**\n",
    "* **Min**\n",
    "* **Mean**\n",
    "* **Standard deviation** \n",
    "* **Slope**"
   ]
  },
  {
   "cell_type": "markdown",
   "id": "a78f5955",
   "metadata": {},
   "source": [
    "#### 9.1 Baseline lab values"
   ]
  },
  {
   "cell_type": "code",
   "execution_count": 244,
   "id": "2762a711",
   "metadata": {},
   "outputs": [],
   "source": [
    "lab = pd.merge(lab, enhanced_met[['PatientID', 'met_date']], on = 'PatientID', how = 'left')"
   ]
  },
  {
   "cell_type": "code",
   "execution_count": 245,
   "id": "514b1a48",
   "metadata": {},
   "outputs": [],
   "source": [
    "lab.loc[:, 'ResultDate'] = pd.to_datetime(lab['ResultDate']) "
   ]
  },
  {
   "cell_type": "code",
   "execution_count": 246,
   "id": "5a1172aa",
   "metadata": {},
   "outputs": [],
   "source": [
    "# Select rows with clinically relevant labs.\n",
    "lab_core = (\n",
    "    lab[\n",
    "    (lab['LOINC'] == \"2160-0\") |\n",
    "    (lab['LOINC'] == \"38483-4\") | \n",
    "    (lab['LOINC'] == \"718-7\") |\n",
    "    (lab['LOINC'] == \"20509-6\") |\n",
    "    (lab['LOINC'] == \"26464-8\") |\n",
    "    (lab['LOINC'] == \"6690-2\") |\n",
    "    (lab['LOINC'] == \"26499-4\") |\n",
    "    (lab['LOINC'] == \"751-8\") |\n",
    "    (lab['LOINC'] == \"30451-9\") |\n",
    "    (lab['LOINC'] == \"753-4\") |\n",
    "    (lab['LOINC'] == \"1751-7\") |\n",
    "    (lab['LOINC'] == \"42719-5\") |\n",
    "    (lab['LOINC'] == \"1975-2\") |\n",
    "    (lab['LOINC'] == \"2947-0\") |\n",
    "    (lab['LOINC'] == \"2951-2\") |\n",
    "    (lab['LOINC'] == \"1963-8\") |\n",
    "    (lab['LOINC'] == \"1959-6\") |\n",
    "    (lab['LOINC'] == \"14627-4\") |\n",
    "    (lab['LOINC'] == \"1960-4\") |\n",
    "    (lab['LOINC'] == \"2028-9\") |\n",
    "    (lab['LOINC'] == \"17861-6\") |\n",
    "    (lab['LOINC'] == \"49765-1\") |\n",
    "    (lab['LOINC'] == \"1920-8\") |\n",
    "    (lab['LOINC'] == \"1742-6\") | \n",
    "    (lab['LOINC'] == \"1743-4\") |\n",
    "    (lab['LOINC'] == \"1744-2\") |\n",
    "    (lab['LOINC'] == \"26515-7\") | \n",
    "    (lab['LOINC'] == \"777-3\") |\n",
    "    (lab['LOINC'] == \"778-1\") |\n",
    "    (lab['LOINC'] == \"49497-1\") | \n",
    "    (lab['LOINC'] == \"6298-4\") |\n",
    "    (lab['LOINC'] == \"2823-3\") |\n",
    "    (lab['LOINC'] == \"2075-0\") | \n",
    "    (lab['LOINC'] == \"3094-0\") |\n",
    "    (lab['LOINC'] == \"6768-6\") |\n",
    "    (lab['LOINC'] == \"2039-6\")]\n",
    "    .filter(items = ['PatientID', \n",
    "                     'ResultDate', \n",
    "                     'LOINC', \n",
    "                     'LabComponent', \n",
    "                     'TestUnits', \n",
    "                     'TestUnitsCleaned', \n",
    "                     'TestResult', \n",
    "                     'TestResultCleaned', \n",
    "                     'met_date'])\n",
    ")"
   ]
  },
  {
   "cell_type": "code",
   "execution_count": 247,
   "id": "d5b164d7",
   "metadata": {},
   "outputs": [],
   "source": [
    "conditions = [\n",
    "    ((lab_core['LOINC'] == '2160-0') | (lab_core['LOINC'] == '38483-4')),\n",
    "    ((lab_core['LOINC'] == '718-7') | (lab_core['LOINC'] == '20509-6')),\n",
    "    ((lab_core['LOINC'] == '26464-8') | (lab_core['LOINC'] == '6690-2')), \n",
    "    ((lab_core['LOINC'] == '26499-4') | (lab_core['LOINC'] == '751-8') | (lab_core['LOINC'] == '30451-9') | (lab_core['LOINC'] == '753-4')),\n",
    "    (lab_core['LOINC'] == '1751-7'),\n",
    "    ((lab_core['LOINC'] == '42719-5') | (lab_core['LOINC'] == '1975-2')),\n",
    "    ((lab_core['LOINC'] == '2947-0') | (lab_core['LOINC'] == '2951-2')),\n",
    "    ((lab_core['LOINC'] == '1963-8') | (lab_core['LOINC'] == '1959-6') | (lab_core['LOINC'] == '14627-4') | (lab_core['LOINC'] == '1960-4') | (lab_core['LOINC'] == '2028-9')),\n",
    "    ((lab_core['LOINC'] == '17861-6') | (lab_core['LOINC'] == '49765-1')),\n",
    "    (lab_core['LOINC'] == '1920-8'),\n",
    "    ((lab_core['LOINC'] == '1742-6') | (lab_core['LOINC'] == '1743-4') | (lab_core['LOINC'] == '1744-2')),\n",
    "    ((lab_core['LOINC'] == '26515-7') | (lab_core['LOINC'] == '777-3') | (lab_core['LOINC'] == '778-1') | (lab_core['LOINC'] == '49497-1')),\n",
    "    ((lab_core['LOINC'] == '6298-4') | (lab_core['LOINC'] == '2823-3')),\n",
    "    (lab_core['LOINC'] == '2075-0'), \n",
    "    (lab_core['LOINC'] == '3094-0'),\n",
    "    (lab_core['LOINC'] == '6768-6'),\n",
    "    (lab_core['LOINC'] == '2039-6')]\n",
    "\n",
    "choices = ['creatinine', \n",
    "           'hemoglobin', \n",
    "           'wbc', \n",
    "           'neutrophil_count',  \n",
    "           'albumin', \n",
    "           'total_bilirubin', \n",
    "           'sodium', \n",
    "           'bicarb',\n",
    "           'calcium',\n",
    "           'ast', \n",
    "           'alt',\n",
    "           'platelet',\n",
    "           'potassium', \n",
    "           'chloride',\n",
    "           'bun',\n",
    "           'alp',\n",
    "           'cea']\n",
    "\n",
    "lab_core.loc[:, 'lab_name'] = np.select(conditions, choices)"
   ]
  },
  {
   "cell_type": "code",
   "execution_count": 248,
   "id": "3563336d",
   "metadata": {},
   "outputs": [],
   "source": [
    "# Remove missing lab values. \n",
    "lab_core = lab_core.dropna(subset = ['TestResultCleaned'])"
   ]
  },
  {
   "cell_type": "code",
   "execution_count": 249,
   "id": "84899c40",
   "metadata": {},
   "outputs": [],
   "source": [
    "conditions = [\n",
    "    ((lab_core['lab_name'] == 'wbc') | (lab_core['lab_name'] == 'neutrophil_count') | (lab_core['lab_name'] == 'platelet')) & \n",
    "    (lab_core['TestUnits'] == '10*3/L'),\n",
    "    (lab_core['lab_name'] == 'hemoglobin') & (lab_core['TestUnits'] == 'g/uL')]\n",
    "\n",
    "choices = [lab_core['TestResultCleaned'] * 1000000,\n",
    "           lab_core['TestResultCleaned'] / 100000]\n",
    "\n",
    "lab_core.loc[:, 'test_result_cleaned'] = np.select(conditions, choices, default = lab_core['TestResultCleaned'])"
   ]
  },
  {
   "cell_type": "code",
   "execution_count": 250,
   "id": "7df38ec9",
   "metadata": {},
   "outputs": [],
   "source": [
    "# Elgibliity window is -90 and +30 from advanced diagnosis. \n",
    "lab_core_win = (\n",
    "    lab_core\n",
    "    .assign(lab_date_diff = (lab_core['ResultDate'] - lab_core['met_date']).dt.days)\n",
    "    .query('lab_date_diff >= -90 and lab_date_diff <= 30')\n",
    "    .filter(items = ['PatientID', 'ResultDate', 'TestResultCleaned', 'lab_name', 'met_date', 'test_result_cleaned', 'lab_date_diff'])\n",
    ")"
   ]
  },
  {
   "cell_type": "code",
   "execution_count": 251,
   "id": "1c997163",
   "metadata": {},
   "outputs": [],
   "source": [
    "lab_core_win.loc[:, 'lab_date_diff'] = lab_core_win['lab_date_diff'].abs()"
   ]
  },
  {
   "cell_type": "code",
   "execution_count": 252,
   "id": "13310d9f",
   "metadata": {},
   "outputs": [],
   "source": [
    "# Select lab closest to date of advanced diagnosis and pivot to a wide table. \n",
    "lab_diag_wide = (\n",
    "    lab_core_win\n",
    "    .loc[lab_core_win.groupby(['PatientID', 'lab_name'])['lab_date_diff'].idxmin()]\n",
    "    .pivot(index = 'PatientID', columns = 'lab_name', values = 'test_result_cleaned')\n",
    "    .reset_index()\n",
    "    .rename(columns = {\n",
    "        'albumin': 'albumin_diag',\n",
    "        'creatinine': 'creatinine_diag',\n",
    "        'hemoglobin': 'hemoglobin_diag',\n",
    "        'neutrophil_count': 'neutrophil_count_diag',\n",
    "        'total_bilirubin': 'total_bilirubin_diag',\n",
    "        'wbc': 'wbc_diag',\n",
    "        'sodium': 'sodium_diag', \n",
    "        'bicarb': 'bicarb_diag',\n",
    "        'calcium': 'calcium_diag',\n",
    "        'ast': 'ast_diag', \n",
    "        'alt': 'alt_diag',\n",
    "        'platelet': 'platelet_diag',\n",
    "        'potassium': 'potassium_diag',\n",
    "        'chloride': 'chloride_diag',\n",
    "        'bun': 'bun_diag',\n",
    "        'alp': 'alp_diag', \n",
    "        'cea': 'cea_diag'})\n",
    ")\n",
    "\n",
    "lab_diag_wide.columns.name = None"
   ]
  },
  {
   "cell_type": "code",
   "execution_count": 253,
   "id": "404fee5a",
   "metadata": {},
   "outputs": [
    {
     "data": {
      "text/plain": [
       "(4486, 4486)"
      ]
     },
     "execution_count": 253,
     "metadata": {},
     "output_type": "execute_result"
    }
   ],
   "source": [
    "row_ID(lab_diag_wide)"
   ]
  },
  {
   "cell_type": "code",
   "execution_count": 254,
   "id": "f5507395",
   "metadata": {},
   "outputs": [],
   "source": [
    "lab_diag_wide = (\n",
    "    lab_diag_wide\n",
    "    .append(\n",
    "        pd.Series(test_IDs)[~pd.Series(test_IDs).isin(lab_diag_wide['PatientID'])].to_frame(name = 'PatientID'),\n",
    "        sort = False)\n",
    ")"
   ]
  },
  {
   "cell_type": "code",
   "execution_count": 255,
   "id": "77d182af",
   "metadata": {},
   "outputs": [
    {
     "data": {
      "text/plain": [
       "(6863, 6863)"
      ]
     },
     "execution_count": 255,
     "metadata": {},
     "output_type": "execute_result"
    }
   ],
   "source": [
    "row_ID(lab_diag_wide)"
   ]
  },
  {
   "cell_type": "code",
   "execution_count": 256,
   "id": "3a744432",
   "metadata": {},
   "outputs": [],
   "source": [
    "# Create missing variables for labs at time of diagnosis. \n",
    "for x in range (1, len(lab_diag_wide.columns)):\n",
    "    lab_diag_wide.loc[:, lab_diag_wide.columns[x]+'_na'] = np.where(lab_diag_wide[lab_diag_wide.columns[x]].isna(), 1, 0)"
   ]
  },
  {
   "cell_type": "code",
   "execution_count": 257,
   "id": "92e49dc2",
   "metadata": {},
   "outputs": [
    {
     "data": {
      "text/plain": [
       "['PatientID',\n",
       " 'albumin_diag',\n",
       " 'alp_diag',\n",
       " 'alt_diag',\n",
       " 'ast_diag',\n",
       " 'bicarb_diag',\n",
       " 'bun_diag',\n",
       " 'calcium_diag',\n",
       " 'cea_diag',\n",
       " 'chloride_diag',\n",
       " 'creatinine_diag',\n",
       " 'hemoglobin_diag',\n",
       " 'neutrophil_count_diag',\n",
       " 'platelet_diag',\n",
       " 'potassium_diag',\n",
       " 'sodium_diag',\n",
       " 'total_bilirubin_diag',\n",
       " 'wbc_diag',\n",
       " 'albumin_diag_na',\n",
       " 'alp_diag_na',\n",
       " 'alt_diag_na',\n",
       " 'ast_diag_na',\n",
       " 'bicarb_diag_na',\n",
       " 'bun_diag_na',\n",
       " 'calcium_diag_na',\n",
       " 'cea_diag_na',\n",
       " 'chloride_diag_na',\n",
       " 'creatinine_diag_na',\n",
       " 'hemoglobin_diag_na',\n",
       " 'neutrophil_count_diag_na',\n",
       " 'platelet_diag_na',\n",
       " 'potassium_diag_na',\n",
       " 'sodium_diag_na',\n",
       " 'total_bilirubin_diag_na',\n",
       " 'wbc_diag_na']"
      ]
     },
     "execution_count": 257,
     "metadata": {},
     "output_type": "execute_result"
    }
   ],
   "source": [
    "list(lab_diag_wide.columns)"
   ]
  },
  {
   "cell_type": "markdown",
   "id": "962beaf3",
   "metadata": {},
   "source": [
    "#### Mean, max, min, and standard deviation"
   ]
  },
  {
   "cell_type": "code",
   "execution_count": 258,
   "id": "73f691c0",
   "metadata": {},
   "outputs": [],
   "source": [
    "# Elgibility window is negative infinity to +30 from advanced diagnosis. \n",
    "lab_core_win_summ = (\n",
    "    lab_core\n",
    "    .assign(lab_date_diff = (lab_core['ResultDate'] - lab_core['met_date']).dt.days)\n",
    "    .query('lab_date_diff <= 30')\n",
    "    .filter(items = ['PatientID', 'ResultDate', 'TestResultCleaned', 'lab_name', 'met_date', 'test_result_cleaned', 'lab_date_diff'])\n",
    ")"
   ]
  },
  {
   "cell_type": "code",
   "execution_count": 259,
   "id": "0e31711a",
   "metadata": {},
   "outputs": [],
   "source": [
    "# Pivot table of average values for core labs during elgibility period of -90 to -30 days from advanced diagnosis. \n",
    "lab_avg_wide = (\n",
    "    lab_core_win_summ\n",
    "    .groupby(['PatientID', 'lab_name'])['test_result_cleaned'].mean()\n",
    "    .to_frame()\n",
    "    .reset_index()\n",
    "    .pivot(index = 'PatientID', columns = 'lab_name', values = 'test_result_cleaned')\n",
    "    .reset_index()\n",
    "    .rename(columns = {\n",
    "        'albumin': 'albumin_avg',\n",
    "        'creatinine': 'creatinine_avg',\n",
    "        'hemoglobin': 'hemoglobin_avg',\n",
    "        'neutrophil_count': 'neutrophil_count_avg',\n",
    "        'total_bilirubin': 'total_bilirubin_avg',\n",
    "        'wbc': 'wbc_avg',\n",
    "        'sodium': 'sodium_avg', \n",
    "        'bicarb': 'bicarb_avg',\n",
    "        'calcium': 'calcium_avg',\n",
    "        'ast': 'ast_avg', \n",
    "        'alt': 'alt_avg',\n",
    "        'platelet': 'platelet_avg',\n",
    "        'potassium': 'potassium_avg',\n",
    "        'chloride': 'chloride_avg',\n",
    "        'bun': 'bun_avg',\n",
    "        'alp': 'alp_avg',\n",
    "        'cea': 'cea_avg'})\n",
    ")\n",
    "\n",
    "lab_avg_wide.columns.name = None"
   ]
  },
  {
   "cell_type": "code",
   "execution_count": 260,
   "id": "8b1d98bd",
   "metadata": {},
   "outputs": [
    {
     "data": {
      "text/plain": [
       "(4728, 4728)"
      ]
     },
     "execution_count": 260,
     "metadata": {},
     "output_type": "execute_result"
    }
   ],
   "source": [
    "row_ID(lab_avg_wide)"
   ]
  },
  {
   "cell_type": "code",
   "execution_count": 261,
   "id": "7a442902",
   "metadata": {},
   "outputs": [],
   "source": [
    "# Pivot table of maximum values for core labs during elgibility period of -90 to -30 days from advanced diagnosis. \n",
    "lab_max_wide = (\n",
    "    lab_core_win_summ\n",
    "    .groupby(['PatientID', 'lab_name'])['test_result_cleaned'].max()\n",
    "    .to_frame()\n",
    "    .reset_index()\n",
    "    .pivot(index = 'PatientID', columns = 'lab_name', values = 'test_result_cleaned')\n",
    "    .reset_index()\n",
    "    .rename(columns = {\n",
    "        'albumin': 'albumin_max',\n",
    "        'creatinine': 'creatinine_max',\n",
    "        'hemoglobin': 'hemoglobin_max',\n",
    "        'neutrophil_count': 'neutrophil_count_max',\n",
    "        'total_bilirubin': 'total_bilirubin_max',\n",
    "        'wbc': 'wbc_max', \n",
    "        'sodium': 'sodium_max', \n",
    "        'bicarb': 'bicarb_max',\n",
    "        'calcium': 'calcium_max',\n",
    "        'ast': 'ast_max', \n",
    "        'alt': 'alt_max',\n",
    "        'platelet': 'platelet_max',\n",
    "        'potassium': 'potassium_max',\n",
    "        'chloride': 'chloride_max',\n",
    "        'bun': 'bun_max', \n",
    "        'alp': 'alp_max', \n",
    "        'cea': 'cea_max'})\n",
    ")\n",
    "\n",
    "lab_max_wide.columns.name = None"
   ]
  },
  {
   "cell_type": "code",
   "execution_count": 262,
   "id": "82228d69",
   "metadata": {},
   "outputs": [
    {
     "data": {
      "text/plain": [
       "(4728, 4728)"
      ]
     },
     "execution_count": 262,
     "metadata": {},
     "output_type": "execute_result"
    }
   ],
   "source": [
    "row_ID(lab_max_wide)"
   ]
  },
  {
   "cell_type": "code",
   "execution_count": 263,
   "id": "4247432f",
   "metadata": {},
   "outputs": [],
   "source": [
    "# Pivot table of minimum values for core labs during elgibility period of -90 to -30 days from advanced diagnosis. \n",
    "lab_min_wide = (\n",
    "    lab_core_win_summ\n",
    "    .groupby(['PatientID', 'lab_name'])['test_result_cleaned'].min()\n",
    "    .to_frame()\n",
    "    .reset_index()\n",
    "    .pivot(index = 'PatientID', columns = 'lab_name', values = 'test_result_cleaned')\n",
    "    .reset_index()\n",
    "    .rename(columns = {\n",
    "        'albumin': 'albumin_min',\n",
    "        'creatinine': 'creatinine_min',\n",
    "        'hemoglobin': 'hemoglobin_min',\n",
    "        'neutrophil_count': 'neutrophil_count_min',\n",
    "        'total_bilirubin': 'total_bilirubin_min',\n",
    "        'wbc': 'wbc_min',\n",
    "        'sodium': 'sodium_min', \n",
    "        'bicarb': 'bicarb_min',\n",
    "        'calcium': 'calcium_min',\n",
    "        'ast': 'ast_min', \n",
    "        'alt': 'alt_min',\n",
    "        'platelet': 'platelet_min',\n",
    "        'potassium': 'potassium_min',\n",
    "        'chloride': 'chloride_min',\n",
    "        'bun': 'bun_min',\n",
    "        'alp': 'alp_min',\n",
    "        'cea': 'cea_min'})\n",
    ")\n",
    "\n",
    "lab_min_wide.columns.name = None"
   ]
  },
  {
   "cell_type": "code",
   "execution_count": 264,
   "id": "037d0ec6",
   "metadata": {},
   "outputs": [
    {
     "data": {
      "text/plain": [
       "(4728, 4728)"
      ]
     },
     "execution_count": 264,
     "metadata": {},
     "output_type": "execute_result"
    }
   ],
   "source": [
    "row_ID(lab_min_wide)"
   ]
  },
  {
   "cell_type": "code",
   "execution_count": 265,
   "id": "48499972",
   "metadata": {},
   "outputs": [],
   "source": [
    "# Pivot table of standard deviation for core labs during elgibility period of -90 to -30 days from advanced diagnosis. \n",
    "lab_std_wide = (\n",
    "    lab_core_win_summ\n",
    "    .groupby(['PatientID', 'lab_name'])['test_result_cleaned'].std()\n",
    "    .to_frame()\n",
    "    .reset_index()\n",
    "    .pivot(index = 'PatientID', columns = 'lab_name', values = 'test_result_cleaned')\n",
    "    .reset_index()\n",
    "    .rename(columns = {\n",
    "        'albumin': 'albumin_std',\n",
    "        'creatinine': 'creatinine_std',\n",
    "        'hemoglobin': 'hemoglobin_std',\n",
    "        'neutrophil_count': 'neutrophil_count_std',\n",
    "        'total_bilirubin': 'total_bilirubin_std',\n",
    "        'wbc': 'wbc_std',\n",
    "        'sodium': 'sodium_std', \n",
    "        'bicarb': 'bicarb_std',\n",
    "        'calcium': 'calcium_std',\n",
    "        'ast': 'ast_std', \n",
    "        'alt': 'alt_std',\n",
    "        'platelet': 'platelet_std',\n",
    "        'potassium': 'potassium_std',\n",
    "        'chloride': 'chloride_std',\n",
    "        'bun': 'bun_std',\n",
    "        'alp': 'alp_std',\n",
    "        'cea': 'cea_std'})\n",
    ")\n",
    "\n",
    "lab_std_wide.columns.name = None"
   ]
  },
  {
   "cell_type": "code",
   "execution_count": 266,
   "id": "fde33495",
   "metadata": {},
   "outputs": [
    {
     "data": {
      "text/plain": [
       "(4728, 4728)"
      ]
     },
     "execution_count": 266,
     "metadata": {},
     "output_type": "execute_result"
    }
   ],
   "source": [
    "row_ID(lab_std_wide)"
   ]
  },
  {
   "cell_type": "code",
   "execution_count": 267,
   "id": "931db262",
   "metadata": {},
   "outputs": [],
   "source": [
    "lab_summary_wide = pd.merge(lab_avg_wide, lab_max_wide, on = 'PatientID', how = 'outer')"
   ]
  },
  {
   "cell_type": "code",
   "execution_count": 268,
   "id": "37e28d3e",
   "metadata": {},
   "outputs": [],
   "source": [
    "lab_summary_wide = pd.merge(lab_summary_wide, lab_min_wide, on = 'PatientID', how = 'outer')"
   ]
  },
  {
   "cell_type": "code",
   "execution_count": 269,
   "id": "4d6ba3fc",
   "metadata": {},
   "outputs": [],
   "source": [
    "lab_summary_wide = pd.merge(lab_summary_wide, lab_std_wide, on = 'PatientID', how = 'outer')"
   ]
  },
  {
   "cell_type": "code",
   "execution_count": 270,
   "id": "d571d9e8",
   "metadata": {},
   "outputs": [
    {
     "data": {
      "text/plain": [
       "(4728, 4728)"
      ]
     },
     "execution_count": 270,
     "metadata": {},
     "output_type": "execute_result"
    }
   ],
   "source": [
    "row_ID(lab_summary_wide)"
   ]
  },
  {
   "cell_type": "code",
   "execution_count": 271,
   "id": "48c26f18",
   "metadata": {},
   "outputs": [],
   "source": [
    "lab_summary_wide = (\n",
    "    lab_summary_wide\n",
    "    .append(\n",
    "        pd.Series(test_IDs)[~pd.Series(test_IDs).isin(lab_summary_wide['PatientID'])].to_frame(name = 'PatientID'),\n",
    "        sort = False)\n",
    ")"
   ]
  },
  {
   "cell_type": "code",
   "execution_count": 272,
   "id": "34df2d0e",
   "metadata": {},
   "outputs": [
    {
     "data": {
      "text/plain": [
       "(6863, 6863)"
      ]
     },
     "execution_count": 272,
     "metadata": {},
     "output_type": "execute_result"
    }
   ],
   "source": [
    "row_ID(lab_summary_wide)"
   ]
  },
  {
   "cell_type": "markdown",
   "id": "257cb45a",
   "metadata": {},
   "source": [
    "#### Slope"
   ]
  },
  {
   "cell_type": "code",
   "execution_count": 273,
   "id": "003e89ba",
   "metadata": {},
   "outputs": [],
   "source": [
    "lab_core_win_summ.loc[:, 'result_date_ordinal'] = lab_core_win_summ['ResultDate'].map(dt.datetime.toordinal)"
   ]
  },
  {
   "cell_type": "code",
   "execution_count": 274,
   "id": "12525f5c",
   "metadata": {},
   "outputs": [
    {
     "name": "stderr",
     "output_type": "stream",
     "text": [
      "/Applications/anaconda3/lib/python3.7/site-packages/scipy/stats/_stats_mstats_common.py:170: RuntimeWarning: invalid value encountered in double_scalars\n",
      "  slope = ssxym / ssxm\n",
      "/Applications/anaconda3/lib/python3.7/site-packages/scipy/stats/_stats_mstats_common.py:184: RuntimeWarning: invalid value encountered in sqrt\n",
      "  t = r * np.sqrt(df / ((1.0 - r + TINY)*(1.0 + r + TINY)))\n",
      "/Applications/anaconda3/lib/python3.7/site-packages/scipy/stats/_stats_mstats_common.py:187: RuntimeWarning: invalid value encountered in double_scalars\n",
      "  slope_stderr = np.sqrt((1 - r**2) * ssym / ssxm / df)\n",
      "/Applications/anaconda3/lib/python3.7/site-packages/scipy/stats/_stats_mstats_common.py:187: RuntimeWarning: divide by zero encountered in double_scalars\n",
      "  slope_stderr = np.sqrt((1 - r**2) * ssym / ssxm / df)\n"
     ]
    }
   ],
   "source": [
    "lab_slope_wide = (\n",
    "    lab_core_win_summ\n",
    "    .groupby(['PatientID', 'lab_name'])\n",
    "    .apply(lambda x: pd.Series(linregress(x['result_date_ordinal'], x['test_result_cleaned'])))\n",
    "    .rename(columns = {0: 'slope'})\n",
    "    .reset_index()\n",
    "    .filter(items = ['PatientID', 'lab_name', 'slope'])\n",
    "    .pivot(index = 'PatientID', columns = 'lab_name', values = 'slope')\n",
    "    .reset_index()\n",
    "    .rename(columns = {\n",
    "        'albumin': 'albumin_slope',\n",
    "        'creatinine': 'creatinine_slope',\n",
    "        'hemoglobin': 'hemoglobin_slope',\n",
    "        'neutrophil_count': 'neutrophil_count_slope',\n",
    "        'total_bilirubin': 'total_bilirubin_slope',\n",
    "        'wbc': 'wbc_slope',\n",
    "        'sodium': 'sodium_slope', \n",
    "        'bicarb': 'bicarb_slope',\n",
    "        'calcium': 'calcium_slope',\n",
    "        'ast': 'ast_slope', \n",
    "        'alt': 'alt_slope',\n",
    "        'platelet': 'platelet_slope',\n",
    "        'potassium': 'potassium_slope',\n",
    "        'chloride': 'chloride_slope',\n",
    "        'bun': 'bun_slope',\n",
    "        'alp': 'alp_slope',\n",
    "        'cea': 'cea_slope'})\n",
    ")\n",
    "\n",
    "lab_slope_wide.columns.name = None"
   ]
  },
  {
   "cell_type": "code",
   "execution_count": 275,
   "id": "b1d1c546",
   "metadata": {},
   "outputs": [
    {
     "data": {
      "text/plain": [
       "(4728, 4728)"
      ]
     },
     "execution_count": 275,
     "metadata": {},
     "output_type": "execute_result"
    }
   ],
   "source": [
    "row_ID(lab_slope_wide)"
   ]
  },
  {
   "cell_type": "code",
   "execution_count": 276,
   "id": "960af967",
   "metadata": {},
   "outputs": [],
   "source": [
    "lab_slope_wide = (\n",
    "    lab_slope_wide\n",
    "    .append(\n",
    "        pd.Series(test_IDs)[~pd.Series(test_IDs).isin(lab_slope_wide['PatientID'])].to_frame(name = 'PatientID'),\n",
    "        sort = False)\n",
    ")"
   ]
  },
  {
   "cell_type": "code",
   "execution_count": 277,
   "id": "e80db745",
   "metadata": {},
   "outputs": [],
   "source": [
    "# Create missing variables for lab slope. \n",
    "for x in range (1, len(lab_slope_wide.columns)):\n",
    "    lab_slope_wide.loc[:, lab_slope_wide.columns[x]+'_na'] = np.where(lab_slope_wide[lab_slope_wide.columns[x]].isna(), 1, 0)"
   ]
  },
  {
   "cell_type": "code",
   "execution_count": 278,
   "id": "7e42aba1",
   "metadata": {},
   "outputs": [
    {
     "data": {
      "text/plain": [
       "(6863, 6863)"
      ]
     },
     "execution_count": 278,
     "metadata": {},
     "output_type": "execute_result"
    }
   ],
   "source": [
    "row_ID(lab_slope_wide)"
   ]
  },
  {
   "cell_type": "markdown",
   "id": "12fad2b6",
   "metadata": {},
   "source": [
    "#### Merge"
   ]
  },
  {
   "cell_type": "code",
   "execution_count": 279,
   "id": "8de455bc",
   "metadata": {},
   "outputs": [],
   "source": [
    "lab_wide = pd.merge(lab_diag_wide, lab_summary_wide, on = 'PatientID')"
   ]
  },
  {
   "cell_type": "code",
   "execution_count": 280,
   "id": "d505c4b6",
   "metadata": {},
   "outputs": [],
   "source": [
    "lab_wide = pd.merge(lab_wide, lab_slope_wide, on = 'PatientID')"
   ]
  },
  {
   "cell_type": "code",
   "execution_count": 281,
   "id": "fa1eaccb",
   "metadata": {},
   "outputs": [
    {
     "data": {
      "text/plain": [
       "(6863, 6863)"
      ]
     },
     "execution_count": 281,
     "metadata": {},
     "output_type": "execute_result"
    }
   ],
   "source": [
    "row_ID(lab_wide)"
   ]
  },
  {
   "cell_type": "code",
   "execution_count": 282,
   "id": "1c180063",
   "metadata": {},
   "outputs": [
    {
     "data": {
      "text/plain": [
       "['PatientID',\n",
       " 'albumin_diag',\n",
       " 'alp_diag',\n",
       " 'alt_diag',\n",
       " 'ast_diag',\n",
       " 'bicarb_diag',\n",
       " 'bun_diag',\n",
       " 'calcium_diag',\n",
       " 'cea_diag',\n",
       " 'chloride_diag',\n",
       " 'creatinine_diag',\n",
       " 'hemoglobin_diag',\n",
       " 'neutrophil_count_diag',\n",
       " 'platelet_diag',\n",
       " 'potassium_diag',\n",
       " 'sodium_diag',\n",
       " 'total_bilirubin_diag',\n",
       " 'wbc_diag',\n",
       " 'albumin_diag_na',\n",
       " 'alp_diag_na',\n",
       " 'alt_diag_na',\n",
       " 'ast_diag_na',\n",
       " 'bicarb_diag_na',\n",
       " 'bun_diag_na',\n",
       " 'calcium_diag_na',\n",
       " 'cea_diag_na',\n",
       " 'chloride_diag_na',\n",
       " 'creatinine_diag_na',\n",
       " 'hemoglobin_diag_na',\n",
       " 'neutrophil_count_diag_na',\n",
       " 'platelet_diag_na',\n",
       " 'potassium_diag_na',\n",
       " 'sodium_diag_na',\n",
       " 'total_bilirubin_diag_na',\n",
       " 'wbc_diag_na',\n",
       " 'albumin_avg',\n",
       " 'alp_avg',\n",
       " 'alt_avg',\n",
       " 'ast_avg',\n",
       " 'bicarb_avg',\n",
       " 'bun_avg',\n",
       " 'calcium_avg',\n",
       " 'cea_avg',\n",
       " 'chloride_avg',\n",
       " 'creatinine_avg',\n",
       " 'hemoglobin_avg',\n",
       " 'neutrophil_count_avg',\n",
       " 'platelet_avg',\n",
       " 'potassium_avg',\n",
       " 'sodium_avg',\n",
       " 'total_bilirubin_avg',\n",
       " 'wbc_avg',\n",
       " 'albumin_max',\n",
       " 'alp_max',\n",
       " 'alt_max',\n",
       " 'ast_max',\n",
       " 'bicarb_max',\n",
       " 'bun_max',\n",
       " 'calcium_max',\n",
       " 'cea_max',\n",
       " 'chloride_max',\n",
       " 'creatinine_max',\n",
       " 'hemoglobin_max',\n",
       " 'neutrophil_count_max',\n",
       " 'platelet_max',\n",
       " 'potassium_max',\n",
       " 'sodium_max',\n",
       " 'total_bilirubin_max',\n",
       " 'wbc_max',\n",
       " 'albumin_min',\n",
       " 'alp_min',\n",
       " 'alt_min',\n",
       " 'ast_min',\n",
       " 'bicarb_min',\n",
       " 'bun_min',\n",
       " 'calcium_min',\n",
       " 'cea_min',\n",
       " 'chloride_min',\n",
       " 'creatinine_min',\n",
       " 'hemoglobin_min',\n",
       " 'neutrophil_count_min',\n",
       " 'platelet_min',\n",
       " 'potassium_min',\n",
       " 'sodium_min',\n",
       " 'total_bilirubin_min',\n",
       " 'wbc_min',\n",
       " 'albumin_std',\n",
       " 'alp_std',\n",
       " 'alt_std',\n",
       " 'ast_std',\n",
       " 'bicarb_std',\n",
       " 'bun_std',\n",
       " 'calcium_std',\n",
       " 'cea_std',\n",
       " 'chloride_std',\n",
       " 'creatinine_std',\n",
       " 'hemoglobin_std',\n",
       " 'neutrophil_count_std',\n",
       " 'platelet_std',\n",
       " 'potassium_std',\n",
       " 'sodium_std',\n",
       " 'total_bilirubin_std',\n",
       " 'wbc_std',\n",
       " 'albumin_slope',\n",
       " 'alp_slope',\n",
       " 'alt_slope',\n",
       " 'ast_slope',\n",
       " 'bicarb_slope',\n",
       " 'bun_slope',\n",
       " 'calcium_slope',\n",
       " 'cea_slope',\n",
       " 'chloride_slope',\n",
       " 'creatinine_slope',\n",
       " 'hemoglobin_slope',\n",
       " 'neutrophil_count_slope',\n",
       " 'platelet_slope',\n",
       " 'potassium_slope',\n",
       " 'sodium_slope',\n",
       " 'total_bilirubin_slope',\n",
       " 'wbc_slope',\n",
       " 'albumin_slope_na',\n",
       " 'alp_slope_na',\n",
       " 'alt_slope_na',\n",
       " 'ast_slope_na',\n",
       " 'bicarb_slope_na',\n",
       " 'bun_slope_na',\n",
       " 'calcium_slope_na',\n",
       " 'cea_slope_na',\n",
       " 'chloride_slope_na',\n",
       " 'creatinine_slope_na',\n",
       " 'hemoglobin_slope_na',\n",
       " 'neutrophil_count_slope_na',\n",
       " 'platelet_slope_na',\n",
       " 'potassium_slope_na',\n",
       " 'sodium_slope_na',\n",
       " 'total_bilirubin_slope_na',\n",
       " 'wbc_slope_na']"
      ]
     },
     "execution_count": 282,
     "metadata": {},
     "output_type": "execute_result"
    }
   ],
   "source": [
    "list(lab_wide.columns)"
   ]
  },
  {
   "cell_type": "code",
   "execution_count": 283,
   "id": "3536bc3b",
   "metadata": {},
   "outputs": [
    {
     "name": "stdout",
     "output_type": "stream",
     "text": [
      "Variable              Type         Data/Info\n",
      "--------------------------------------------\n",
      "biomarker_wide        DataFrame              PatientID      <...>\\n[6863 rows x 5 columns]\n",
      "demographics          DataFrame              PatientID gende<...>\\n[6863 rows x 7 columns]\n",
      "ecog_diagnosis_wide   DataFrame                PatientID eco<...>\\n[6863 rows x 2 columns]\n",
      "enhanced_met          DataFrame               PatientID diag<...>\\n[6863 rows x 7 columns]\n",
      "insurance_wide        DataFrame              PatientID  medi<...>\\n[6863 rows x 9 columns]\n",
      "lab                   DataFrame                 PatientID   <...>178543 rows x 18 columns]\n",
      "lab_avg_wide          DataFrame              PatientID  albu<...>n[4728 rows x 18 columns]\n",
      "lab_core              DataFrame                 PatientID Re<...>918831 rows x 11 columns]\n",
      "lab_core_win          DataFrame                 PatientID Re<...>[173044 rows x 7 columns]\n",
      "lab_core_win_summ     DataFrame                 PatientID Re<...>[571581 rows x 8 columns]\n",
      "lab_diag_wide         DataFrame              PatientID  albu<...>n[6863 rows x 35 columns]\n",
      "lab_max_wide          DataFrame              PatientID  albu<...>n[4728 rows x 18 columns]\n",
      "lab_min_wide          DataFrame              PatientID  albu<...>n[4728 rows x 18 columns]\n",
      "lab_slope_wide        DataFrame              PatientID  albu<...>n[6863 rows x 35 columns]\n",
      "lab_std_wide          DataFrame              PatientID  albu<...>n[4728 rows x 18 columns]\n",
      "lab_summary_wide      DataFrame              PatientID  albu<...>n[6863 rows x 69 columns]\n",
      "lab_wide              DataFrame              PatientID  albu<...>[6863 rows x 137 columns]\n",
      "med_admin_wide        DataFrame              PatientID  ster<...>n[6863 rows x 15 columns]\n",
      "mortality             DataFrame              PatientID  deat<...>\\n[6863 rows x 3 columns]\n",
      "weight_wide           DataFrame              PatientID  weig<...>\\n[6863 rows x 7 columns]\n"
     ]
    }
   ],
   "source": [
    "%whos DataFrame"
   ]
  },
  {
   "cell_type": "code",
   "execution_count": 284,
   "id": "0cf29a9a",
   "metadata": {},
   "outputs": [],
   "source": [
    "# Keep biomarker_wide, demographics, ecog_diagnosis_wide, enhanced_met, insurance_wide, lab_wide, med_admin_wide, \n",
    "# mortality, and weight_wide\n",
    "del lab\n",
    "del lab_avg_wide\n",
    "del lab_core\n",
    "del lab_core_win\n",
    "del lab_core_win_summ\n",
    "del lab_diag_wide\n",
    "del lab_max_wide\n",
    "del lab_min_wide\n",
    "del lab_slope_wide\n",
    "del lab_std_wide\n",
    "del lab_summary_wide"
   ]
  },
  {
   "cell_type": "markdown",
   "id": "6ddfc6cd",
   "metadata": {},
   "source": [
    "### Diagnosis"
   ]
  },
  {
   "cell_type": "code",
   "execution_count": 285,
   "id": "b95a6175",
   "metadata": {},
   "outputs": [],
   "source": [
    "diagnosis = pd.read_csv('Diagnosis.csv')"
   ]
  },
  {
   "cell_type": "code",
   "execution_count": 286,
   "id": "52fb28ee",
   "metadata": {},
   "outputs": [],
   "source": [
    "diagnosis = diagnosis[diagnosis['PatientID'].isin(test_IDs)]"
   ]
  },
  {
   "cell_type": "code",
   "execution_count": 287,
   "id": "542072d6",
   "metadata": {},
   "outputs": [
    {
     "data": {
      "text/plain": [
       "(218887, 6863)"
      ]
     },
     "execution_count": 287,
     "metadata": {},
     "output_type": "execute_result"
    }
   ],
   "source": [
    "row_ID(diagnosis)"
   ]
  },
  {
   "cell_type": "code",
   "execution_count": 288,
   "id": "9fa8c67e",
   "metadata": {},
   "outputs": [
    {
     "data": {
      "text/html": [
       "<div>\n",
       "<style scoped>\n",
       "    .dataframe tbody tr th:only-of-type {\n",
       "        vertical-align: middle;\n",
       "    }\n",
       "\n",
       "    .dataframe tbody tr th {\n",
       "        vertical-align: top;\n",
       "    }\n",
       "\n",
       "    .dataframe thead th {\n",
       "        text-align: right;\n",
       "    }\n",
       "</style>\n",
       "<table border=\"1\" class=\"dataframe\">\n",
       "  <thead>\n",
       "    <tr style=\"text-align: right;\">\n",
       "      <th></th>\n",
       "      <th>PatientID</th>\n",
       "      <th>PracticeID</th>\n",
       "      <th>DiagnosisDate</th>\n",
       "      <th>DiagnosisCode</th>\n",
       "      <th>DiagnosisCodeSystem</th>\n",
       "      <th>DiagnosisDescription</th>\n",
       "    </tr>\n",
       "  </thead>\n",
       "  <tbody>\n",
       "    <tr>\n",
       "      <th>83385</th>\n",
       "      <td>FDA39ACB31320</td>\n",
       "      <td>S0015D5ED587A</td>\n",
       "      <td>2018-12-19</td>\n",
       "      <td>C78.6</td>\n",
       "      <td>ICD-10-CM</td>\n",
       "      <td>Secondary malignant neoplasm of retroperitoneu...</td>\n",
       "    </tr>\n",
       "    <tr>\n",
       "      <th>591480</th>\n",
       "      <td>F169322040C24</td>\n",
       "      <td>S507DCE5DD8C6</td>\n",
       "      <td>2017-06-03</td>\n",
       "      <td>I10</td>\n",
       "      <td>ICD-10-CM</td>\n",
       "      <td>Essential (primary) hypertension</td>\n",
       "    </tr>\n",
       "    <tr>\n",
       "      <th>296892</th>\n",
       "      <td>F312D7F5C85E2</td>\n",
       "      <td>SCC8EE4FB66C3</td>\n",
       "      <td>2020-09-07</td>\n",
       "      <td>D46.21</td>\n",
       "      <td>ICD-10-CM</td>\n",
       "      <td>Refractory anemia with excess of blasts 1</td>\n",
       "    </tr>\n",
       "    <tr>\n",
       "      <th>687487</th>\n",
       "      <td>F160E3672947C</td>\n",
       "      <td>S507DCE5DD8C6</td>\n",
       "      <td>2017-07-11</td>\n",
       "      <td>N32.81</td>\n",
       "      <td>ICD-10-CM</td>\n",
       "      <td>Overactive bladder</td>\n",
       "    </tr>\n",
       "    <tr>\n",
       "      <th>485080</th>\n",
       "      <td>F0C5BC58E2977</td>\n",
       "      <td>SB875B0336958</td>\n",
       "      <td>2020-09-13</td>\n",
       "      <td>F17.210</td>\n",
       "      <td>ICD-10-CM</td>\n",
       "      <td>Nicotine dependence, cigarettes, uncomplicated</td>\n",
       "    </tr>\n",
       "  </tbody>\n",
       "</table>\n",
       "</div>"
      ],
      "text/plain": [
       "            PatientID     PracticeID DiagnosisDate DiagnosisCode  \\\n",
       "83385   FDA39ACB31320  S0015D5ED587A    2018-12-19         C78.6   \n",
       "591480  F169322040C24  S507DCE5DD8C6    2017-06-03           I10   \n",
       "296892  F312D7F5C85E2  SCC8EE4FB66C3    2020-09-07        D46.21   \n",
       "687487  F160E3672947C  S507DCE5DD8C6    2017-07-11        N32.81   \n",
       "485080  F0C5BC58E2977  SB875B0336958    2020-09-13       F17.210   \n",
       "\n",
       "       DiagnosisCodeSystem                               DiagnosisDescription  \n",
       "83385            ICD-10-CM  Secondary malignant neoplasm of retroperitoneu...  \n",
       "591480           ICD-10-CM                   Essential (primary) hypertension  \n",
       "296892           ICD-10-CM          Refractory anemia with excess of blasts 1  \n",
       "687487           ICD-10-CM                                 Overactive bladder  \n",
       "485080           ICD-10-CM     Nicotine dependence, cigarettes, uncomplicated  "
      ]
     },
     "execution_count": 288,
     "metadata": {},
     "output_type": "execute_result"
    }
   ],
   "source": [
    "diagnosis.sample(5)"
   ]
  },
  {
   "cell_type": "markdown",
   "id": "bfb844e8",
   "metadata": {},
   "source": [
    "**The Diagnosis table is in long format and has close to 12,000 unique ICD 9 and 10 codes. The median number of ICD codes per patient is 8 with a standard deviation of 106 which shows the varaibility in number of ICD codes per patent..** \n",
    "\n",
    "**ICD codes before metatstatic diagnosis and up to 30 days past diagnosis will be mapped to the Elixhauser comorbidity index. (\"Coding Algorithms for Defining Comorbidities in ICD-9-CM and ICD-10 Administrative Data\"  by Quan et al is used as a guide for linking ICD codes to Elixhauser comorbidities.) Presence of concurrent or prior cancer diagnosis that is not lung cancer or metastasis and sites of metastases at time of diagnosis will also be created.** "
   ]
  },
  {
   "cell_type": "markdown",
   "id": "07d0256b",
   "metadata": {},
   "source": [
    "#### Elixhauser"
   ]
  },
  {
   "cell_type": "code",
   "execution_count": 289,
   "id": "0f668221",
   "metadata": {},
   "outputs": [],
   "source": [
    "diagnosis = pd.merge(diagnosis, enhanced_met[['PatientID', 'met_date']], on = 'PatientID', how = 'left')"
   ]
  },
  {
   "cell_type": "code",
   "execution_count": 290,
   "id": "a34277bf",
   "metadata": {},
   "outputs": [],
   "source": [
    "diagnosis.loc[:, 'DiagnosisDate'] = pd.to_datetime(diagnosis['DiagnosisDate'])"
   ]
  },
  {
   "cell_type": "code",
   "execution_count": 291,
   "id": "77fc4ff4",
   "metadata": {},
   "outputs": [],
   "source": [
    "diagnosis.loc[:, 'diagnosis_date_diff'] = (diagnosis['DiagnosisDate'] - diagnosis['met_date']).dt.days"
   ]
  },
  {
   "cell_type": "code",
   "execution_count": 292,
   "id": "a1fc1023",
   "metadata": {},
   "outputs": [],
   "source": [
    "# Remove decimal to make mapping to Elixhauser easier. \n",
    "diagnosis.loc[:, 'diagnosis_code'] = diagnosis['DiagnosisCode'].replace('\\.', '', regex = True)"
   ]
  },
  {
   "cell_type": "markdown",
   "id": "e1587443",
   "metadata": {},
   "source": [
    "##### Elixhauser for ICD-9"
   ]
  },
  {
   "cell_type": "code",
   "execution_count": 293,
   "id": "c7afd3ba",
   "metadata": {},
   "outputs": [],
   "source": [
    "# ICD-9 dataframe with unique codes for each patient. \n",
    "diagnosis_elix_9 = (\n",
    "    diagnosis\n",
    "    .query('diagnosis_date_diff <= 30')\n",
    "    .query('DiagnosisCodeSystem == \"ICD-9-CM\"')\n",
    "    .drop_duplicates(subset = (['PatientID', 'DiagnosisCode']), keep = 'first')\n",
    "    .filter(items = ['PatientID', 'DiagnosisCode', 'diagnosis_code'])\n",
    ")"
   ]
  },
  {
   "cell_type": "code",
   "execution_count": 294,
   "id": "8210546d",
   "metadata": {},
   "outputs": [
    {
     "data": {
      "text/plain": [
       "(13360, 2470)"
      ]
     },
     "execution_count": 294,
     "metadata": {},
     "output_type": "execute_result"
    }
   ],
   "source": [
    "row_ID(diagnosis_elix_9)"
   ]
  },
  {
   "cell_type": "code",
   "execution_count": 295,
   "id": "70ec71b7",
   "metadata": {},
   "outputs": [],
   "source": [
    "diagnosis_elix_9.loc[:, 'chf'] = (\n",
    "    np.where(diagnosis_elix_9['diagnosis_code'].str.match('39891|'\n",
    "                                                          '402(01|11|91)|'\n",
    "                                                          '404(01|03|[19][13])|'\n",
    "                                                          '42(5[456789]|8)'), 1, 0)\n",
    ")"
   ]
  },
  {
   "cell_type": "code",
   "execution_count": 296,
   "id": "a0bc2013",
   "metadata": {},
   "outputs": [],
   "source": [
    "diagnosis_elix_9.loc[:, 'cardiac_arrhythmias'] = (\n",
    "    np.where(diagnosis_elix_9['diagnosis_code'].str.match('426([079]|1[023])|'\n",
    "                                                          '427[012346789]|'\n",
    "                                                          '7850|'\n",
    "                                                          '996(01|04)|'\n",
    "                                                          'V450|'\n",
    "                                                          'V533'), 1, 0)\n",
    ")"
   ]
  },
  {
   "cell_type": "code",
   "execution_count": 297,
   "id": "2497d142",
   "metadata": {},
   "outputs": [],
   "source": [
    "diagnosis_elix_9.loc[:, 'valvular_disease'] = (\n",
    "    np.where(diagnosis_elix_9['diagnosis_code'].str.match('0932|'\n",
    "                                                          '39[4567]|'\n",
    "                                                          '424|'\n",
    "                                                          '746[3456]|'\n",
    "                                                          'V422|'\n",
    "                                                          'V433'), 1, 0)\n",
    ")"
   ]
  },
  {
   "cell_type": "code",
   "execution_count": 298,
   "id": "1ed10cb3",
   "metadata": {},
   "outputs": [],
   "source": [
    "diagnosis_elix_9.loc[:, 'pulmonary_circulation'] = (\n",
    "    np.where(diagnosis_elix_9['diagnosis_code'].str.match('41(5[01]|6|7[089])'), 1, 0)\n",
    ")"
   ]
  },
  {
   "cell_type": "code",
   "execution_count": 299,
   "id": "43eeea19",
   "metadata": {},
   "outputs": [],
   "source": [
    "diagnosis_elix_9.loc[:, 'peripheral_vascular'] = (\n",
    "    np.where(diagnosis_elix_9['diagnosis_code'].str.match('0930|'\n",
    "                                                          '4373|'\n",
    "                                                          '44([01]|3[123456789]|71)|'\n",
    "                                                          '557[19]|'\n",
    "                                                          'V434'), 1, 0)\n",
    ")"
   ]
  },
  {
   "cell_type": "code",
   "execution_count": 300,
   "id": "059c1509",
   "metadata": {},
   "outputs": [],
   "source": [
    "diagnosis_elix_9.loc[:, 'htn_uncomplicated'] = (\n",
    "    np.where(diagnosis_elix_9['diagnosis_code'].str.match('401'), 1, 0)\n",
    ")"
   ]
  },
  {
   "cell_type": "code",
   "execution_count": 301,
   "id": "67e66db0",
   "metadata": {},
   "outputs": [],
   "source": [
    "diagnosis_elix_9.loc[:, 'htn_complicated'] = (\n",
    "    np.where(diagnosis_elix_9['diagnosis_code'].str.match('40[2345]'), 1, 0)\n",
    ")"
   ]
  },
  {
   "cell_type": "code",
   "execution_count": 302,
   "id": "13602397",
   "metadata": {},
   "outputs": [],
   "source": [
    "diagnosis_elix_9.loc[:, 'paralysis'] = (\n",
    "    np.where(diagnosis_elix_9['diagnosis_code'].str.match('3341|'\n",
    "                                                          '34([23]|4[01234569])'), 1, 0)\n",
    ")"
   ]
  },
  {
   "cell_type": "code",
   "execution_count": 303,
   "id": "f09bf50e",
   "metadata": {},
   "outputs": [],
   "source": [
    "diagnosis_elix_9.loc[:, 'other_neuro_disorders'] = (\n",
    "    np.where(diagnosis_elix_9['diagnosis_code'].str.match('33(19|2[01]|3([45]|92)|[45]|62)|'\n",
    "                                                          '34([015]|8[13])|'\n",
    "                                                          '78[04]3'), 1, 0)\n",
    ")"
   ]
  },
  {
   "cell_type": "code",
   "execution_count": 304,
   "id": "98745897",
   "metadata": {},
   "outputs": [],
   "source": [
    "diagnosis_elix_9.loc[:, 'chronic_pulmonary'] = (\n",
    "    np.where(diagnosis_elix_9['diagnosis_code'].str.match('416[89]|'\n",
    "                                                          '49|'\n",
    "                                                          '50([012345]|64|8[18])'), 1, 0)\n",
    ")"
   ]
  },
  {
   "cell_type": "code",
   "execution_count": 305,
   "id": "318cb6a7",
   "metadata": {},
   "outputs": [],
   "source": [
    "diagnosis_elix_9.loc[:, 'diabetes_uncomplicated'] = (\n",
    "    np.where(diagnosis_elix_9['diagnosis_code'].str.match('250[0123]'), 1, 0)\n",
    ")"
   ]
  },
  {
   "cell_type": "code",
   "execution_count": 306,
   "id": "c19941ef",
   "metadata": {},
   "outputs": [],
   "source": [
    "diagnosis_elix_9.loc[:, 'diabetes_complicated'] = (\n",
    "    np.where(diagnosis_elix_9['diagnosis_code'].str.match('250[456789]'), 1, 0)\n",
    ")"
   ]
  },
  {
   "cell_type": "code",
   "execution_count": 307,
   "id": "f2f0303b",
   "metadata": {},
   "outputs": [],
   "source": [
    "diagnosis_elix_9.loc[:, 'hypothyroidism'] = (\n",
    "    np.where(diagnosis_elix_9['diagnosis_code'].str.match('2409|'\n",
    "                                                          '24([34]|6[18])'), 1, 0)\n",
    ")"
   ]
  },
  {
   "cell_type": "code",
   "execution_count": 308,
   "id": "2c3068f8",
   "metadata": {},
   "outputs": [],
   "source": [
    "diagnosis_elix_9.loc[:, 'renal_failure'] = (\n",
    "    np.where(diagnosis_elix_9['diagnosis_code'].str.match('403[019]1|'\n",
    "                                                          '404[019][23]|'\n",
    "                                                          '58([56]|80)|'\n",
    "                                                          'V4(20|51)|'\n",
    "                                                          'V56'), 1, 0)\n",
    ")"
   ]
  },
  {
   "cell_type": "code",
   "execution_count": 309,
   "id": "ac55027e",
   "metadata": {},
   "outputs": [],
   "source": [
    "diagnosis_elix_9.loc[:, 'liver_disease'] = (\n",
    "    np.where(diagnosis_elix_9['diagnosis_code'].str.match('070(2[23]]|3[23]|44|54|6|9)|'\n",
    "                                                          '456[012]|'\n",
    "                                                          '57([01]|2[2345678]|3[3489])|'\n",
    "                                                          'V427'), 1, 0)\n",
    ")"
   ]
  },
  {
   "cell_type": "code",
   "execution_count": 310,
   "id": "f154845d",
   "metadata": {},
   "outputs": [],
   "source": [
    "diagnosis_elix_9.loc[:, 'peptic_ulcer_disease'] = (\n",
    "    np.where(diagnosis_elix_9['diagnosis_code'].str.match('53[1234][79]'), 1, 0)\n",
    ")"
   ]
  },
  {
   "cell_type": "code",
   "execution_count": 311,
   "id": "194075bc",
   "metadata": {},
   "outputs": [],
   "source": [
    "diagnosis_elix_9.loc[:, 'aids_hiv'] = (\n",
    "    np.where(diagnosis_elix_9['diagnosis_code'].str.match('04[234]'), 1, 0)\n",
    ")"
   ]
  },
  {
   "cell_type": "code",
   "execution_count": 312,
   "id": "602edac3",
   "metadata": {},
   "outputs": [],
   "source": [
    "diagnosis_elix_9.loc[:, 'lymphoma'] = (\n",
    "    np.where(diagnosis_elix_9['diagnosis_code'].str.match('20([012]|30)|'\n",
    "                                                          '2386'), 1, 0)\n",
    ")"
   ]
  },
  {
   "cell_type": "code",
   "execution_count": 313,
   "id": "7e96075a",
   "metadata": {},
   "outputs": [],
   "source": [
    "diagnosis_elix_9.loc[:, 'metastatic_cancer'] = (\n",
    "    np.where(diagnosis_elix_9['diagnosis_code'].str.match('19[6789]'), 1, 0)\n",
    ")"
   ]
  },
  {
   "cell_type": "code",
   "execution_count": 314,
   "id": "24c90405",
   "metadata": {},
   "outputs": [],
   "source": [
    "diagnosis_elix_9.loc[:, 'solid_tumor_wout_mets'] = (\n",
    "    np.where(diagnosis_elix_9['diagnosis_code'].str.match('1[456]|'\n",
    "                                                          '17[012456789]|'\n",
    "                                                          '18|'\n",
    "                                                          '19([012345])'), 1, 0)\n",
    ")"
   ]
  },
  {
   "cell_type": "code",
   "execution_count": 315,
   "id": "058ac009",
   "metadata": {},
   "outputs": [],
   "source": [
    "diagnosis_elix_9.loc[:, 'rheumatoid_arthritis'] = (\n",
    "    np.where(diagnosis_elix_9['diagnosis_code'].str.match('446|'\n",
    "                                                          '7010|'\n",
    "                                                          '71(0[0123489]|12|4|93)|'\n",
    "                                                          '72([05]|85|889|930)'), 1, 0)\n",
    ")"
   ]
  },
  {
   "cell_type": "code",
   "execution_count": 316,
   "id": "c185283d",
   "metadata": {},
   "outputs": [],
   "source": [
    "diagnosis_elix_9.loc[:, 'coagulopathy'] = (\n",
    "    np.where(diagnosis_elix_9['diagnosis_code'].str.match('28(6|7[1345])'), 1, 0)\n",
    ")"
   ]
  },
  {
   "cell_type": "code",
   "execution_count": 317,
   "id": "b3694334",
   "metadata": {},
   "outputs": [],
   "source": [
    "diagnosis_elix_9.loc[:, 'obesity'] = (\n",
    "    np.where(diagnosis_elix_9['diagnosis_code'].str.match('2780'), 1, 0)\n",
    ")"
   ]
  },
  {
   "cell_type": "code",
   "execution_count": 318,
   "id": "61c7dd59",
   "metadata": {},
   "outputs": [],
   "source": [
    "diagnosis_elix_9.loc[:, 'weight_loss'] = (\n",
    "    np.where(diagnosis_elix_9['diagnosis_code'].str.match('26[0123]|'\n",
    "                                                          '7832|'\n",
    "                                                          '7994'), 1, 0)\n",
    ")"
   ]
  },
  {
   "cell_type": "code",
   "execution_count": 319,
   "id": "1de46f48",
   "metadata": {},
   "outputs": [],
   "source": [
    "diagnosis_elix_9.loc[:, 'fluid_electrolyte'] = (\n",
    "    np.where(diagnosis_elix_9['diagnosis_code'].str.match('2(536|76)'), 1, 0)\n",
    ")"
   ]
  },
  {
   "cell_type": "code",
   "execution_count": 320,
   "id": "6e3b3764",
   "metadata": {},
   "outputs": [],
   "source": [
    "diagnosis_elix_9.loc[:, 'blood_loss_anemia'] = (\n",
    "    np.where(diagnosis_elix_9['diagnosis_code'].str.match('2800'), 1, 0)\n",
    ")"
   ]
  },
  {
   "cell_type": "code",
   "execution_count": 321,
   "id": "9921bea2",
   "metadata": {},
   "outputs": [],
   "source": [
    "diagnosis_elix_9.loc[:, 'deficiency_anemia'] = (\n",
    "    np.where(diagnosis_elix_9['diagnosis_code'].str.match('28(0[123456789]|1)'), 1, 0)\n",
    ")"
   ]
  },
  {
   "cell_type": "code",
   "execution_count": 322,
   "id": "cde3e62f",
   "metadata": {},
   "outputs": [],
   "source": [
    "diagnosis_elix_9.loc[:, 'alcohol_abuse'] = (\n",
    "    np.where(diagnosis_elix_9['diagnosis_code'].str.match('2652|'\n",
    "                                                          '291[12356789]|'\n",
    "                                                          '30(3[09]|50)|'\n",
    "                                                          '3575|'\n",
    "                                                          '4255|'\n",
    "                                                          '5353|'\n",
    "                                                          '571[0123]|'\n",
    "                                                          '980|'\n",
    "                                                          'V113'), 1, 0)\n",
    ")"
   ]
  },
  {
   "cell_type": "code",
   "execution_count": 323,
   "id": "b6edcb94",
   "metadata": {},
   "outputs": [],
   "source": [
    "diagnosis_elix_9.loc[:, 'drug_abuse'] = (\n",
    "    np.where(diagnosis_elix_9['diagnosis_code'].str.match('292|'\n",
    "                                                          '30(4|5[23456789])|'\n",
    "                                                          'V6542'), 1, 0)\n",
    ")"
   ]
  },
  {
   "cell_type": "code",
   "execution_count": 324,
   "id": "0420ba41",
   "metadata": {},
   "outputs": [],
   "source": [
    "diagnosis_elix_9.loc[:, 'psychoses'] = (\n",
    "    np.where(diagnosis_elix_9['diagnosis_code'].str.match('2938|'\n",
    "                                                          '296[0145]4|'\n",
    "                                                          '29[578]'), 1, 0)\n",
    ")"
   ]
  },
  {
   "cell_type": "code",
   "execution_count": 325,
   "id": "55474adb",
   "metadata": {},
   "outputs": [],
   "source": [
    "diagnosis_elix_9.loc[:, 'depression'] = (\n",
    "    np.where(diagnosis_elix_9['diagnosis_code'].str.match('296[235]|'\n",
    "                                                          '3(004|09|11)'), 1, 0)\n",
    ")"
   ]
  },
  {
   "cell_type": "code",
   "execution_count": 326,
   "id": "412ca94b",
   "metadata": {},
   "outputs": [],
   "source": [
    "# Create variable that captures ICD-9 codes not included in Elixhauser. \n",
    "diagnosis_elix_9.loc[:, 'elixhauser_other'] = (\n",
    "    np.where(diagnosis_elix_9.iloc[:, 3:].eq(0).all(1), 1, 0)\n",
    ")"
   ]
  },
  {
   "cell_type": "code",
   "execution_count": 327,
   "id": "79739680",
   "metadata": {},
   "outputs": [
    {
     "data": {
      "text/plain": [
       "0.6074101796407185"
      ]
     },
     "execution_count": 327,
     "metadata": {},
     "output_type": "execute_result"
    }
   ],
   "source": [
    "# Percentage of ICD-9 codes not captured by Elixhauser.\n",
    "diagnosis_elix_9['elixhauser_other'].sum()/len(diagnosis_elix_9)"
   ]
  },
  {
   "cell_type": "code",
   "execution_count": 328,
   "id": "15b32058",
   "metadata": {},
   "outputs": [],
   "source": [
    "# Single-row-per-patient dataframe with columns as Elixhauser comorbidities. \n",
    "diagnosis_elix_9_wide = (\n",
    "    diagnosis_elix_9\n",
    "    .drop(columns = ['DiagnosisCode', 'diagnosis_code'])\n",
    "    .groupby('PatientID').sum()\n",
    "    .reset_index()\n",
    ")"
   ]
  },
  {
   "cell_type": "code",
   "execution_count": 329,
   "id": "3a9f9fb5",
   "metadata": {},
   "outputs": [
    {
     "data": {
      "text/plain": [
       "(2470, 2470)"
      ]
     },
     "execution_count": 329,
     "metadata": {},
     "output_type": "execute_result"
    }
   ],
   "source": [
    "row_ID(diagnosis_elix_9_wide)"
   ]
  },
  {
   "cell_type": "markdown",
   "id": "9b10504b",
   "metadata": {},
   "source": [
    "##### Elixhauser for ICD-10"
   ]
  },
  {
   "cell_type": "code",
   "execution_count": 330,
   "id": "1f5c7b54",
   "metadata": {},
   "outputs": [],
   "source": [
    "# ICD-10 dataframe with unique codes for each patient.  \n",
    "diagnosis_elix_10 = (\n",
    "    diagnosis\n",
    "    .query('diagnosis_date_diff <= 30')\n",
    "    .query('DiagnosisCodeSystem == \"ICD-10-CM\"')\n",
    "    .drop_duplicates(subset = (['PatientID', 'DiagnosisCode']), keep = 'first')\n",
    "    .filter(items = ['PatientID', 'DiagnosisCode', 'diagnosis_code'])\n",
    ")"
   ]
  },
  {
   "cell_type": "code",
   "execution_count": 331,
   "id": "ca12ce65",
   "metadata": {},
   "outputs": [
    {
     "data": {
      "text/plain": [
       "(31357, 4351)"
      ]
     },
     "execution_count": 331,
     "metadata": {},
     "output_type": "execute_result"
    }
   ],
   "source": [
    "row_ID(diagnosis_elix_10)"
   ]
  },
  {
   "cell_type": "code",
   "execution_count": 332,
   "id": "0f0dc4ca",
   "metadata": {},
   "outputs": [],
   "source": [
    "diagnosis_elix_10.loc[:, 'chf'] = (\n",
    "    np.where(diagnosis_elix_10['diagnosis_code'].str.match('I099|'\n",
    "                                                           'I1(10|3[02])|'\n",
    "                                                           'I255|'\n",
    "                                                           'I4(2[056789]|3)|'\n",
    "                                                           'I50|'\n",
    "                                                           'P290'), 1, 0)\n",
    ")"
   ]
  },
  {
   "cell_type": "code",
   "execution_count": 333,
   "id": "fcc75c02",
   "metadata": {},
   "outputs": [],
   "source": [
    "diagnosis_elix_10.loc[:, 'cardiac_arrhythmias'] = (\n",
    "    np.where(diagnosis_elix_10['diagnosis_code'].str.match('I4(4[123]|5[69]|[789])|'\n",
    "                                                           'R00[018]|'\n",
    "                                                           'T821|'\n",
    "                                                           'Z[49]50'), 1, 0)\n",
    ")"
   ]
  },
  {
   "cell_type": "code",
   "execution_count": 334,
   "id": "355fb8e5",
   "metadata": {},
   "outputs": [],
   "source": [
    "diagnosis_elix_10.loc[:, 'valvular_disease'] = (\n",
    "    np.where(diagnosis_elix_10['diagnosis_code'].str.match('A520|'\n",
    "                                                           'I0([5678]|9[18])|'\n",
    "                                                           'I3[456789]|'\n",
    "                                                           'Q23[0123]|'\n",
    "                                                           'Z95[234]'), 1, 0)\n",
    ")"
   ]
  },
  {
   "cell_type": "code",
   "execution_count": 335,
   "id": "fe8ab688",
   "metadata": {},
   "outputs": [],
   "source": [
    "diagnosis_elix_10.loc[:, 'pulmonary_circulation'] = (\n",
    "    np.where(diagnosis_elix_10['diagnosis_code'].str.match('I2([67]|8[089])'), 1, 0)\n",
    ")"
   ]
  },
  {
   "cell_type": "code",
   "execution_count": 336,
   "id": "764b82f2",
   "metadata": {},
   "outputs": [],
   "source": [
    "diagnosis_elix_10.loc[:, 'peripheral_vascular'] = (\n",
    "    np.where(diagnosis_elix_10['diagnosis_code'].str.match('I7([01]|3[189]|71|9[02])|'\n",
    "                                                           'K55[189]|'\n",
    "                                                           'Z95[89]'), 1, 0)\n",
    ")"
   ]
  },
  {
   "cell_type": "code",
   "execution_count": 337,
   "id": "e9be00a8",
   "metadata": {},
   "outputs": [],
   "source": [
    "diagnosis_elix_10.loc[:, 'htn_uncomplicated'] = (\n",
    "    np.where(diagnosis_elix_10['diagnosis_code'].str.match('I10'), 1, 0)\n",
    ")"
   ]
  },
  {
   "cell_type": "code",
   "execution_count": 338,
   "id": "e32d1a36",
   "metadata": {},
   "outputs": [],
   "source": [
    "diagnosis_elix_10.loc[:, 'htn_complicated'] = (\n",
    "    np.where(diagnosis_elix_10['diagnosis_code'].str.match('I1[1235]'), 1, 0)\n",
    ")"
   ]
  },
  {
   "cell_type": "code",
   "execution_count": 339,
   "id": "2c4d29ba",
   "metadata": {},
   "outputs": [],
   "source": [
    "diagnosis_elix_10.loc[:, 'paralysis'] = (\n",
    "    np.where(diagnosis_elix_10['diagnosis_code'].str.match('G041|'\n",
    "                                                           'G114|'\n",
    "                                                           'G8(0[12]|[12]|3[012349])'), 1, 0)\n",
    ")"
   ]
  },
  {
   "cell_type": "code",
   "execution_count": 340,
   "id": "440c0a1f",
   "metadata": {},
   "outputs": [],
   "source": [
    "diagnosis_elix_10.loc[:, 'other_neuro_disorders'] = (\n",
    "    np.where(diagnosis_elix_10['diagnosis_code'].str.match('G1[0123]|'\n",
    "                                                           'G2([012]|5[45])|'\n",
    "                                                           'G3(1[289]|[2567])|'\n",
    "                                                           'G4[01]|'\n",
    "                                                           'G93[14]|'\n",
    "                                                           'R470|'\n",
    "                                                           'R56'), 1, 0)\n",
    ")"
   ]
  },
  {
   "cell_type": "code",
   "execution_count": 341,
   "id": "00ef5a55",
   "metadata": {},
   "outputs": [],
   "source": [
    "diagnosis_elix_10.loc[:, 'chronic_pulmonary'] = (\n",
    "    np.where(diagnosis_elix_10['diagnosis_code'].str.match('I27[89]|'\n",
    "                                                           'J4[01234567]|'\n",
    "                                                           'J6([01234567]|84)|'\n",
    "                                                           'J70[13]'), 1, 0)\n",
    ")"
   ]
  },
  {
   "cell_type": "code",
   "execution_count": 342,
   "id": "1d68dae7",
   "metadata": {},
   "outputs": [],
   "source": [
    "diagnosis_elix_10.loc[:, 'diabetes_uncomplicated'] = (\n",
    "    np.where(diagnosis_elix_10['diagnosis_code'].str.match('E1[01234][019]'), 1, 0)\n",
    ")"
   ]
  },
  {
   "cell_type": "code",
   "execution_count": 343,
   "id": "46fbf663",
   "metadata": {},
   "outputs": [],
   "source": [
    "diagnosis_elix_10.loc[:, 'diabetes_complicated'] = (\n",
    "    np.where(diagnosis_elix_10['diagnosis_code'].str.match('E1[01234][2345678]'), 1, 0)\n",
    ")"
   ]
  },
  {
   "cell_type": "code",
   "execution_count": 344,
   "id": "2084b136",
   "metadata": {},
   "outputs": [],
   "source": [
    "diagnosis_elix_10.loc[:, 'hypothyroidism'] = (\n",
    "    np.where(diagnosis_elix_10['diagnosis_code'].str.match('E0[0123]|'\n",
    "                                                           'E890'), 1, 0)\n",
    ")"
   ]
  },
  {
   "cell_type": "code",
   "execution_count": 345,
   "id": "ce540b01",
   "metadata": {},
   "outputs": [],
   "source": [
    "diagnosis_elix_10.loc[:, 'renal_failure'] = (\n",
    "    np.where(diagnosis_elix_10['diagnosis_code'].str.match('I1(20|31)|'\n",
    "                                                           'N1[89]|'\n",
    "                                                           'N250|'\n",
    "                                                           'Z49[012]|'\n",
    "                                                           'Z9(40|92)'), 1, 0)\n",
    ")"
   ]
  },
  {
   "cell_type": "code",
   "execution_count": 346,
   "id": "6c2208e4",
   "metadata": {},
   "outputs": [],
   "source": [
    "diagnosis_elix_10.loc[:, 'liver_disease'] = (\n",
    "    np.where(diagnosis_elix_10['diagnosis_code'].str.match('B18|'\n",
    "                                                           'I8(5|64)|'\n",
    "                                                           'I982|'\n",
    "                                                           'K7(0|1[13457]|[234]|6[023456789])|'\n",
    "                                                           'Z944'), 1, 0)\n",
    ")"
   ]
  },
  {
   "cell_type": "code",
   "execution_count": 347,
   "id": "3798a1df",
   "metadata": {},
   "outputs": [],
   "source": [
    "diagnosis_elix_10.loc[:, 'peptic_ulcer_disease'] = (\n",
    "    np.where(diagnosis_elix_10['diagnosis_code'].str.match('K2[5678][79]'), 1, 0)\n",
    ")"
   ]
  },
  {
   "cell_type": "code",
   "execution_count": 348,
   "id": "91d8b4fc",
   "metadata": {},
   "outputs": [],
   "source": [
    "diagnosis_elix_10.loc[:, 'aids_hiv'] = (\n",
    "    np.where(diagnosis_elix_10['diagnosis_code'].str.match('B2[0124]'), 1, 0)\n",
    ")"
   ]
  },
  {
   "cell_type": "code",
   "execution_count": 349,
   "id": "ffb44180",
   "metadata": {},
   "outputs": [],
   "source": [
    "diagnosis_elix_10.loc[:, 'lymphoma'] = (\n",
    "    np.where(diagnosis_elix_10['diagnosis_code'].str.match('C8[123458]|'\n",
    "                                                           'C9(0[02]|6)'), 1, 0)\n",
    ")"
   ]
  },
  {
   "cell_type": "code",
   "execution_count": 350,
   "id": "f6daaaff",
   "metadata": {},
   "outputs": [],
   "source": [
    "diagnosis_elix_10.loc[:, 'metastatic_cancer'] = (\n",
    "    np.where(diagnosis_elix_10['diagnosis_code'].str.match('C(7[789]|80)'), 1, 0)\n",
    ")"
   ]
  },
  {
   "cell_type": "code",
   "execution_count": 351,
   "id": "dc165777",
   "metadata": {},
   "outputs": [],
   "source": [
    "diagnosis_elix_10.loc[:, 'solid_tumor_wout_mets'] = (\n",
    "    np.where(diagnosis_elix_10['diagnosis_code'].str.match('C[01]|'\n",
    "                                                           'C2[0123456]|'\n",
    "                                                           'C3[01234789]|'\n",
    "                                                           'C4[01356789]|'\n",
    "                                                           'C5[012345678]|'\n",
    "                                                           'C6|'\n",
    "                                                           'C7[0123456]|'\n",
    "                                                           'C97'), 1, 0)\n",
    ")"
   ]
  },
  {
   "cell_type": "code",
   "execution_count": 352,
   "id": "e8151a90",
   "metadata": {},
   "outputs": [],
   "source": [
    "diagnosis_elix_10.loc[:, 'rheumatoid_arthritis'] = (\n",
    "    np.where(diagnosis_elix_10['diagnosis_code'].str.match('L94[013]|'\n",
    "                                                           'M0[568]|'\n",
    "                                                           'M12[03]|'\n",
    "                                                           'M3(0|1[0123]|[2345])|'\n",
    "                                                           'M4(5|6[189])'), 1, 0)\n",
    ")"
   ]
  },
  {
   "cell_type": "code",
   "execution_count": 353,
   "id": "d287f1a6",
   "metadata": {},
   "outputs": [],
   "source": [
    "diagnosis_elix_10.loc[:, 'coagulopathy'] = (\n",
    "    np.where(diagnosis_elix_10['diagnosis_code'].str.match('D6([5678]|9[13456])'), 1, 0)\n",
    ")"
   ]
  },
  {
   "cell_type": "code",
   "execution_count": 354,
   "id": "1dc881a1",
   "metadata": {},
   "outputs": [],
   "source": [
    "diagnosis_elix_10.loc[:, 'obesity'] = (\n",
    "    np.where(diagnosis_elix_10['diagnosis_code'].str.match('E66'), 1, 0)\n",
    ")"
   ]
  },
  {
   "cell_type": "code",
   "execution_count": 355,
   "id": "c342d73f",
   "metadata": {},
   "outputs": [],
   "source": [
    "diagnosis_elix_10.loc[:, 'weight_loss'] = (\n",
    "    np.where(diagnosis_elix_10['diagnosis_code'].str.match('E4[0123456]|'\n",
    "                                                           'R6(34|4)'), 1, 0)\n",
    ")"
   ]
  },
  {
   "cell_type": "code",
   "execution_count": 356,
   "id": "e3816fc7",
   "metadata": {},
   "outputs": [],
   "source": [
    "diagnosis_elix_10.loc[:, 'fluid_electrolyte'] = (\n",
    "    np.where(diagnosis_elix_10['diagnosis_code'].str.match('E222|'\n",
    "                                                           'E8[67]'), 1, 0)\n",
    ")"
   ]
  },
  {
   "cell_type": "code",
   "execution_count": 357,
   "id": "dff514c3",
   "metadata": {},
   "outputs": [],
   "source": [
    "diagnosis_elix_10.loc[:, 'blood_loss_anemia'] = (\n",
    "    np.where(diagnosis_elix_10['diagnosis_code'].str.match('D500'), 1, 0)\n",
    ")"
   ]
  },
  {
   "cell_type": "code",
   "execution_count": 358,
   "id": "e44b194c",
   "metadata": {},
   "outputs": [],
   "source": [
    "diagnosis_elix_10.loc[:, 'deficiency_anemia'] = (\n",
    "    np.where(diagnosis_elix_10['diagnosis_code'].str.match('D5(0[89]|[123])'), 1, 0)\n",
    ")"
   ]
  },
  {
   "cell_type": "code",
   "execution_count": 359,
   "id": "ab025d99",
   "metadata": {},
   "outputs": [],
   "source": [
    "diagnosis_elix_10.loc[:, 'alcohol_abuse'] = (\n",
    "    np.where(diagnosis_elix_10['diagnosis_code'].str.match('F10|'\n",
    "                                                           'E52|'\n",
    "                                                           'G621|'\n",
    "                                                           'I426|'\n",
    "                                                           'K292|'\n",
    "                                                           'K70[039]|'\n",
    "                                                           'T51|'\n",
    "                                                           'Z502|'\n",
    "                                                           'Z7(14|21)'), 1, 0)\n",
    ")"
   ]
  },
  {
   "cell_type": "code",
   "execution_count": 360,
   "id": "ac8b7c00",
   "metadata": {},
   "outputs": [],
   "source": [
    "diagnosis_elix_10.loc[:, 'drug_abuse'] = (\n",
    "    np.where(diagnosis_elix_10['diagnosis_code'].str.match('F1[12345689]|'\n",
    "                                                           'Z7(15|22)'), 1, 0)\n",
    ")"
   ]
  },
  {
   "cell_type": "code",
   "execution_count": 361,
   "id": "5f0e0fdc",
   "metadata": {},
   "outputs": [],
   "source": [
    "diagnosis_elix_10.loc[:, 'psychoses'] = (\n",
    "    np.where(diagnosis_elix_10['diagnosis_code'].str.match('F2[0234589]|'\n",
    "                                                           'F3([01]2|15)'), 1, 0)\n",
    ")"
   ]
  },
  {
   "cell_type": "code",
   "execution_count": 362,
   "id": "bf69020b",
   "metadata": {},
   "outputs": [],
   "source": [
    "diagnosis_elix_10.loc[:, 'depression'] = (\n",
    "    np.where(diagnosis_elix_10['diagnosis_code'].str.match('F204|'\n",
    "                                                           'F3(1[345]|[23]|41)|'\n",
    "                                                           'F4[13]2'), 1, 0)\n",
    ")"
   ]
  },
  {
   "cell_type": "code",
   "execution_count": 363,
   "id": "6c29092f",
   "metadata": {},
   "outputs": [],
   "source": [
    "# Create variable that captures ICD-10 codes not included in Elixhauser. \n",
    "diagnosis_elix_10.loc[:, 'elixhauser_other'] = (\n",
    "    np.where(diagnosis_elix_10.iloc[:, 3:].eq(0).all(1), 1, 0)\n",
    ")"
   ]
  },
  {
   "cell_type": "code",
   "execution_count": 364,
   "id": "6e431c3d",
   "metadata": {},
   "outputs": [
    {
     "data": {
      "text/plain": [
       "0.5912874318334024"
      ]
     },
     "execution_count": 364,
     "metadata": {},
     "output_type": "execute_result"
    }
   ],
   "source": [
    "# Percenage of ICD-10 codes not captured by Elixhauser\n",
    "diagnosis_elix_10['elixhauser_other'].sum()/len(diagnosis_elix_10)"
   ]
  },
  {
   "cell_type": "code",
   "execution_count": 365,
   "id": "62d0e23b",
   "metadata": {},
   "outputs": [],
   "source": [
    "diagnosis_elix_10_wide = (\n",
    "    diagnosis_elix_10\n",
    "    .drop(columns = ['DiagnosisCode', 'diagnosis_code'])\n",
    "    .groupby('PatientID').sum()\n",
    "    .reset_index()\n",
    ")"
   ]
  },
  {
   "cell_type": "code",
   "execution_count": 366,
   "id": "12efa8b1",
   "metadata": {},
   "outputs": [
    {
     "data": {
      "text/plain": [
       "(4351, 4351)"
      ]
     },
     "execution_count": 366,
     "metadata": {},
     "output_type": "execute_result"
    }
   ],
   "source": [
    "row_ID(diagnosis_elix_10_wide)"
   ]
  },
  {
   "cell_type": "code",
   "execution_count": 367,
   "id": "68cc9be1",
   "metadata": {},
   "outputs": [],
   "source": [
    "# Merge Elixhauser 9 and 10 and sum by PatientID.\n",
    "diagnosis_elixhauser = (\n",
    "    pd.concat([diagnosis_elix_9_wide, diagnosis_elix_10_wide])\n",
    "    .groupby('PatientID').sum()\n",
    ")"
   ]
  },
  {
   "cell_type": "code",
   "execution_count": 368,
   "id": "2e6bf79d",
   "metadata": {},
   "outputs": [],
   "source": [
    "# Create unqiue ICD count for each patient. \n",
    "diagnosis_elixhauser['icd_count'] = diagnosis_elixhauser.sum(axis = 1)  "
   ]
  },
  {
   "cell_type": "code",
   "execution_count": 369,
   "id": "9df2c382",
   "metadata": {},
   "outputs": [],
   "source": [
    "# Other than unique ICD count, values greater than 1 are set to 1; 0 remains unchanged. \n",
    "diagnosis_elixhauser.iloc[:, :-1] = (\n",
    "    diagnosis_elixhauser.iloc[:, :-1].mask(diagnosis_elixhauser.iloc[:, :-1] >1, 1)\n",
    ")"
   ]
  },
  {
   "cell_type": "code",
   "execution_count": 370,
   "id": "c371b43e",
   "metadata": {},
   "outputs": [],
   "source": [
    "diagnosis_elixhauser = diagnosis_elixhauser.reset_index()"
   ]
  },
  {
   "cell_type": "code",
   "execution_count": 371,
   "id": "50ab95b1",
   "metadata": {},
   "outputs": [
    {
     "data": {
      "text/plain": [
       "(5922, 5922)"
      ]
     },
     "execution_count": 371,
     "metadata": {},
     "output_type": "execute_result"
    }
   ],
   "source": [
    "row_ID(diagnosis_elixhauser)"
   ]
  },
  {
   "cell_type": "code",
   "execution_count": 372,
   "id": "e8564c94",
   "metadata": {},
   "outputs": [],
   "source": [
    "# Append missing training IDs.\n",
    "diagnosis_elixhauser = (\n",
    "    diagnosis_elixhauser\n",
    "    .append(\n",
    "        pd.Series(test_IDs)[~pd.Series(test_IDs).isin(diagnosis_elixhauser['PatientID'])].to_frame(name = 'PatientID'), \n",
    "        sort = False)\n",
    "    .fillna(0)\n",
    ")"
   ]
  },
  {
   "cell_type": "code",
   "execution_count": 373,
   "id": "63b0a98e",
   "metadata": {},
   "outputs": [
    {
     "data": {
      "text/plain": [
       "(6863, 6863)"
      ]
     },
     "execution_count": 373,
     "metadata": {},
     "output_type": "execute_result"
    }
   ],
   "source": [
    "row_ID(diagnosis_elixhauser)"
   ]
  },
  {
   "cell_type": "markdown",
   "id": "793d8e3f",
   "metadata": {},
   "source": [
    "#### Colon cancer location"
   ]
  },
  {
   "cell_type": "markdown",
   "id": "f31818b4",
   "metadata": {},
   "source": [
    "**Right sided colon cancer (ie., proximal to the splenic flexure) is an independent, poor prognostic factor for overall survival. Using ICD codes, we will characterize the colon cancer as left vs. right sided.**"
   ]
  },
  {
   "cell_type": "code",
   "execution_count": 374,
   "id": "622254d2",
   "metadata": {},
   "outputs": [],
   "source": [
    "diagnosis_elix_9.loc[:, 'right_colon'] = (\n",
    "    np.where(diagnosis_elix_9['diagnosis_code'].str.match('153[01456]'), 1, 0)\n",
    ")"
   ]
  },
  {
   "cell_type": "code",
   "execution_count": 375,
   "id": "c3cff420",
   "metadata": {},
   "outputs": [],
   "source": [
    "diagnosis_elix_9.loc[:, 'left_colon'] = (\n",
    "    np.where(diagnosis_elix_9['diagnosis_code'].str.match('153[237]'), 1, 0)\n",
    ")"
   ]
  },
  {
   "cell_type": "code",
   "execution_count": 376,
   "id": "c525710b",
   "metadata": {},
   "outputs": [],
   "source": [
    "colon_location_9 = diagnosis_elix_9[['PatientID', 'right_colon', 'left_colon']].groupby('PatientID').sum()"
   ]
  },
  {
   "cell_type": "code",
   "execution_count": 377,
   "id": "828424c3",
   "metadata": {},
   "outputs": [],
   "source": [
    "diagnosis_elix_10.loc[:, 'right_colon'] = (\n",
    "    np.where(diagnosis_elix_10['diagnosis_code'].str.match('C18[01234]'), 1, 0)\n",
    ")"
   ]
  },
  {
   "cell_type": "code",
   "execution_count": 378,
   "id": "18b2f57a",
   "metadata": {},
   "outputs": [],
   "source": [
    "diagnosis_elix_10.loc[:, 'left_colon'] = (\n",
    "    np.where(diagnosis_elix_10['diagnosis_code'].str.match('C18[567]'), 1, 0)\n",
    ")"
   ]
  },
  {
   "cell_type": "code",
   "execution_count": 379,
   "id": "7f37cdf6",
   "metadata": {},
   "outputs": [],
   "source": [
    "colon_location_10 = diagnosis_elix_10[['PatientID', 'right_colon', 'left_colon']].groupby('PatientID').sum()"
   ]
  },
  {
   "cell_type": "code",
   "execution_count": 380,
   "id": "2722f083",
   "metadata": {},
   "outputs": [],
   "source": [
    "colon_location = (\n",
    "    pd.concat([colon_location_9, colon_location_10])\n",
    "    .groupby('PatientID').sum()\n",
    "    .reset_index()\n",
    ")"
   ]
  },
  {
   "cell_type": "code",
   "execution_count": 381,
   "id": "0c6389e3",
   "metadata": {},
   "outputs": [],
   "source": [
    "colon_location = pd.merge(enhanced_met[['PatientID', 'CrcSite']], colon_location, on = 'PatientID', how = 'left')"
   ]
  },
  {
   "cell_type": "code",
   "execution_count": 382,
   "id": "13007e81",
   "metadata": {},
   "outputs": [],
   "source": [
    "colon_location[['right_colon', 'left_colon']] = colon_location[['right_colon', 'left_colon']].fillna(0)"
   ]
  },
  {
   "cell_type": "code",
   "execution_count": 383,
   "id": "44d04a6b",
   "metadata": {},
   "outputs": [
    {
     "data": {
      "text/plain": [
       "(6863, 6863)"
      ]
     },
     "execution_count": 383,
     "metadata": {},
     "output_type": "execute_result"
    }
   ],
   "source": [
    "row_ID(colon_location)"
   ]
  },
  {
   "cell_type": "code",
   "execution_count": 384,
   "id": "1ea58c90",
   "metadata": {},
   "outputs": [],
   "source": [
    "# Create indicator variable where where 2 if positive, 1 if negative, and 0 if unknown or missing. \n",
    "conditions = [\n",
    "    (colon_location['CrcSite'] == 'Colon') & (colon_location['right_colon'] >= 1),\n",
    "    (colon_location['CrcSite'] == 'Colon') & (colon_location['right_colon'] == 0) & (colon_location['left_colon'] >= 1),\n",
    "    (colon_location['CrcSite'] == 'Colon') & (colon_location['right_colon'] == 0) & (colon_location['left_colon'] == 0),\n",
    "    (colon_location['CrcSite'] == 'Rectum'),\n",
    "    (colon_location['CrcSite'] == 'Colorectal NOS')]\n",
    "\n",
    "choices = ['colon_right', 'colon_left', 'colon_unknown', 'rectum', 'unknown']\n",
    "\n",
    "colon_location.loc[:, 'crc_site'] = np.select(conditions, choices)"
   ]
  },
  {
   "cell_type": "code",
   "execution_count": 385,
   "id": "5d1211cd",
   "metadata": {},
   "outputs": [],
   "source": [
    "enhanced_met = pd.merge(enhanced_met, colon_location[['PatientID', 'crc_site']], on = 'PatientID')"
   ]
  },
  {
   "cell_type": "markdown",
   "id": "28b41f46",
   "metadata": {},
   "source": [
    "#### Other cancer "
   ]
  },
  {
   "cell_type": "markdown",
   "id": "145ce11d",
   "metadata": {},
   "source": [
    "##### ICD-9 Cancer codes "
   ]
  },
  {
   "cell_type": "code",
   "execution_count": 386,
   "id": "e92ba5c0",
   "metadata": {},
   "outputs": [],
   "source": [
    "# Select all ICD-9 cancer codes between 140-209.\n",
    "# Exclude benign neoplasms: 210-229, carcinoma in site: 230-234, and neoplasms of uncertain behavior or nature: 235-239.\n",
    "cancer_9 = (\n",
    "    diagnosis_elix_9[diagnosis_elix_9['DiagnosisCode'].str.startswith(\n",
    "        ('14','15', '16', '17', '18', '19', '20'))]\n",
    "    .filter(items = ['PatientID', 'DiagnosisCode', 'diagnosis_code'])\n",
    ")"
   ]
  },
  {
   "cell_type": "code",
   "execution_count": 387,
   "id": "088117e3",
   "metadata": {},
   "outputs": [
    {
     "data": {
      "text/plain": [
       "(3267, 2110)"
      ]
     },
     "execution_count": 387,
     "metadata": {},
     "output_type": "execute_result"
    }
   ],
   "source": [
    "row_ID(cancer_9)"
   ]
  },
  {
   "cell_type": "markdown",
   "id": "b84638c2",
   "metadata": {},
   "source": [
    "**Remove the following ICD-9 codes representing colorectal cancer, metastasis, ill-defined neoplasms, and benign neoplasms of skin (BCC and SCC):**\n",
    "* **153 - Malignant neoplasm of colon**\n",
    "* **154 - Malignant neoplasm of rectum rectosigmoid junction and anus**\n",
    "* **155 - Malignant neoplasm of liver and intrahepatic bile ducts**\n",
    "* **158 - Malignant neoplasm of retroperitoneum and peritoneum**\n",
    "* **159 - Malignant neoplasm of other and ill-defined sites within the digestive organs and peritoneum**\n",
    "* **173 - Other and unspecified malignant neoplasm of skin**\n",
    "* **195.2 - Malignant neoplasm of abdomen**\n",
    "* **196 - Secondary and unspecified malignant neoplasm of lymph nodes**\n",
    "* **197 - Secondary malignant neoplasm of respiratory and digestive systems**\n",
    "* **198 - Secondary malignant neoplasm of other specified sites** \n",
    "* **199 - Malignant neoplasm without specification of site**"
   ]
  },
  {
   "cell_type": "code",
   "execution_count": 388,
   "id": "830dc725",
   "metadata": {},
   "outputs": [],
   "source": [
    "# Dataframe of ICD-9 neoplasm codes that exclude colorectal cancer, metastasis, or benign neoplasms.\n",
    "other_cancer_9 = (\n",
    "    cancer_9[~cancer_9['diagnosis_code'].str.match('15([34589])|'\n",
    "                                                   '173|'\n",
    "                                                   '19(52|[6789])')]\n",
    ")"
   ]
  },
  {
   "cell_type": "code",
   "execution_count": 389,
   "id": "2022f2af",
   "metadata": {},
   "outputs": [
    {
     "name": "stderr",
     "output_type": "stream",
     "text": [
      "/Applications/anaconda3/lib/python3.7/site-packages/pandas/core/indexing.py:1667: SettingWithCopyWarning: \n",
      "A value is trying to be set on a copy of a slice from a DataFrame.\n",
      "Try using .loc[row_indexer,col_indexer] = value instead\n",
      "\n",
      "See the caveats in the documentation: https://pandas.pydata.org/pandas-docs/stable/user_guide/indexing.html#returning-a-view-versus-a-copy\n",
      "  self.obj[key] = value\n"
     ]
    }
   ],
   "source": [
    "other_cancer_9.loc[:,'other_cancer_9'] = 1"
   ]
  },
  {
   "cell_type": "code",
   "execution_count": 390,
   "id": "7cd4e824",
   "metadata": {},
   "outputs": [],
   "source": [
    "other_cancer_9 = (\n",
    "    other_cancer_9\n",
    "    .drop_duplicates(subset = 'PatientID', keep = 'first')\n",
    "    .filter(items = ['PatientID', 'other_cancer_9'])\n",
    ")"
   ]
  },
  {
   "cell_type": "code",
   "execution_count": 391,
   "id": "9206236f",
   "metadata": {},
   "outputs": [
    {
     "data": {
      "text/plain": [
       "(271, 271)"
      ]
     },
     "execution_count": 391,
     "metadata": {},
     "output_type": "execute_result"
    }
   ],
   "source": [
    "row_ID(other_cancer_9)"
   ]
  },
  {
   "cell_type": "code",
   "execution_count": 392,
   "id": "0f691674",
   "metadata": {},
   "outputs": [],
   "source": [
    "other_cancer_9 = (\n",
    "    other_cancer_9\n",
    "    .append(\n",
    "        pd.Series(test_IDs)[~pd.Series(test_IDs).isin(other_cancer_9['PatientID'])].to_frame(name = 'PatientID'), \n",
    "        sort = False)\n",
    "    .fillna(0)\n",
    ")"
   ]
  },
  {
   "cell_type": "code",
   "execution_count": 393,
   "id": "59f79284",
   "metadata": {},
   "outputs": [
    {
     "data": {
      "text/plain": [
       "(6863, 6863)"
      ]
     },
     "execution_count": 393,
     "metadata": {},
     "output_type": "execute_result"
    }
   ],
   "source": [
    "row_ID(other_cancer_9)"
   ]
  },
  {
   "cell_type": "markdown",
   "id": "4192a98e",
   "metadata": {},
   "source": [
    "##### ICD-10 Cancer codes"
   ]
  },
  {
   "cell_type": "code",
   "execution_count": 394,
   "id": "5922a556",
   "metadata": {},
   "outputs": [],
   "source": [
    "# Select all ICD-10 codes between C00-D49 \n",
    "# Exclude in situ neoplasms: D00-D09, benign neoplasms: D10-D36, benign neuroendocrine tumor: D3A, and neoplasms of unspecified behavior: D37 and D49\n",
    "cancer_10 = (\n",
    "    diagnosis_elix_10[diagnosis_elix_10['DiagnosisCode'].str.startswith(\n",
    "        ('C0', 'C1', 'C2', 'C3', 'C4', 'C5', 'C6', 'C7', 'C8', 'C9', 'D38', 'D39', 'D4'))]\n",
    "    .filter(items = ['PatientID', 'DiagnosisCode', 'diagnosis_code'])\n",
    ")"
   ]
  },
  {
   "cell_type": "code",
   "execution_count": 395,
   "id": "39520270",
   "metadata": {},
   "outputs": [
    {
     "data": {
      "text/plain": [
       "(7494, 4073)"
      ]
     },
     "execution_count": 395,
     "metadata": {},
     "output_type": "execute_result"
    }
   ],
   "source": [
    "row_ID(cancer_10)"
   ]
  },
  {
   "cell_type": "markdown",
   "id": "fe2ac3f7",
   "metadata": {},
   "source": [
    "**Remove the following ICD-10 codes which capture lung cancer, metastasis, and benign skin neoplasms(eg., BCC and SCC).**\n",
    "* **C18 - Malignant neoplasm of colon**\n",
    "* **C19 - Malignant neoplasm of rectosigmoid junction**\n",
    "* **C20 - Malignant neoplasm of rectum**\n",
    "* **C21.8 - Malignant neoplasm of overlapping sites of rectum, anus and anal canal**\n",
    "* **C22 - Malignant neoplasm of liver, not specified as primary or secondary**\n",
    "* **C26 - Malignant neoplasm of other and ill-defined digestive organs**\n",
    "* **C44 - Other and unspecified malignant neoplasm of skin**\n",
    "* **C77 - Secondary and unspecified malignant neoplasm of lymph nodes**\n",
    "* **C78 - Secondary malignant neoplasm of respiratory and digestive organs**\n",
    "* **C79 - Secondary malignant neoplasm of other and unspecified sites**\n",
    "* **C80 - Malignant neoplasm without specification of site**\n",
    "* **D47.2 - Monoclonal gammopathy**\n",
    "* **D48 - Neoplasm of uncertain behavior of other and unspecified sites**\n",
    "* **D49 - Neoplasms of unspecified behavior** "
   ]
  },
  {
   "cell_type": "code",
   "execution_count": 396,
   "id": "4f8df485",
   "metadata": {},
   "outputs": [],
   "source": [
    "# Dataframe of ICD-10 neoplasm codes that exclude lung cancer, metastasis, or benign neoplasms.\n",
    "other_cancer_10 = (\n",
    "    cancer_10[~cancer_10['diagnosis_code'].str.match('C1[89]|'\n",
    "                                                     'C2([06]|18|29)|'\n",
    "                                                     'C44|'\n",
    "                                                     'C7[789]|'\n",
    "                                                     'C80|'\n",
    "                                                     'D4(72|[89])')]\n",
    ")"
   ]
  },
  {
   "cell_type": "code",
   "execution_count": 397,
   "id": "830bc472",
   "metadata": {},
   "outputs": [],
   "source": [
    "other_cancer_10.loc[:,'other_cancer_10'] = 1"
   ]
  },
  {
   "cell_type": "code",
   "execution_count": 398,
   "id": "37a5fd1d",
   "metadata": {},
   "outputs": [],
   "source": [
    "# Drop duplicates.\n",
    "other_cancer_10 = (\n",
    "    other_cancer_10\n",
    "    .drop_duplicates(subset = 'PatientID', keep = 'first')\n",
    "    .filter(items = ['PatientID', 'other_cancer_10'])\n",
    ")"
   ]
  },
  {
   "cell_type": "code",
   "execution_count": 399,
   "id": "31ef12e8",
   "metadata": {},
   "outputs": [
    {
     "data": {
      "text/plain": [
       "(379, 379)"
      ]
     },
     "execution_count": 399,
     "metadata": {},
     "output_type": "execute_result"
    }
   ],
   "source": [
    "row_ID(other_cancer_10)"
   ]
  },
  {
   "cell_type": "code",
   "execution_count": 400,
   "id": "3f9b1a9d",
   "metadata": {},
   "outputs": [],
   "source": [
    "# Append missing training IDs.\n",
    "other_cancer_10 = (\n",
    "    other_cancer_10\n",
    "    .append(\n",
    "        pd.Series(test_IDs)[~pd.Series(test_IDs).isin(other_cancer_10['PatientID'])].to_frame(name = 'PatientID'), \n",
    "        sort = False)\n",
    "    .fillna(0)\n",
    ")"
   ]
  },
  {
   "cell_type": "code",
   "execution_count": 401,
   "id": "c58f1b51",
   "metadata": {},
   "outputs": [
    {
     "data": {
      "text/plain": [
       "(6863, 6863)"
      ]
     },
     "execution_count": 401,
     "metadata": {},
     "output_type": "execute_result"
    }
   ],
   "source": [
    "row_ID(other_cancer_10)"
   ]
  },
  {
   "cell_type": "code",
   "execution_count": 402,
   "id": "060661b5",
   "metadata": {},
   "outputs": [],
   "source": [
    "other_cancer = pd.merge(other_cancer_9, other_cancer_10, on = 'PatientID')"
   ]
  },
  {
   "cell_type": "code",
   "execution_count": 403,
   "id": "77b11b4c",
   "metadata": {},
   "outputs": [],
   "source": [
    "# Combine other_cancer_9 and other_cancer_19; replace values equal to 2 with 1. \n",
    "other_cancer = (\n",
    "    other_cancer\n",
    "    .assign(other_cancer = other_cancer['other_cancer_9'] + other_cancer['other_cancer_10'])\n",
    "    .filter(items = ['PatientID', 'other_cancer'])\n",
    "    .replace(2, 1)\n",
    ")"
   ]
  },
  {
   "cell_type": "code",
   "execution_count": 404,
   "id": "4c52751c",
   "metadata": {},
   "outputs": [
    {
     "data": {
      "text/plain": [
       "(6863, 6863)"
      ]
     },
     "execution_count": 404,
     "metadata": {},
     "output_type": "execute_result"
    }
   ],
   "source": [
    "row_ID(other_cancer)"
   ]
  },
  {
   "cell_type": "code",
   "execution_count": 405,
   "id": "b1008bff",
   "metadata": {},
   "outputs": [
    {
     "data": {
      "text/plain": [
       "0.08873670406527757"
      ]
     },
     "execution_count": 405,
     "metadata": {},
     "output_type": "execute_result"
    }
   ],
   "source": [
    "# Percentage of patients with a cancer other than colorectal or mets. \n",
    "len(other_cancer[other_cancer['other_cancer'] == 1])/len(other_cancer)"
   ]
  },
  {
   "cell_type": "markdown",
   "id": "0082ed7d",
   "metadata": {},
   "source": [
    "#### Sites of metastases"
   ]
  },
  {
   "cell_type": "markdown",
   "id": "ff977e5d",
   "metadata": {},
   "source": [
    "##### ICD-9 sites of metastases"
   ]
  },
  {
   "cell_type": "code",
   "execution_count": 406,
   "id": "52014252",
   "metadata": {},
   "outputs": [],
   "source": [
    "# Create dataframe contianing patients with ICD-9 codes within -90 to +30 days from advanced diagnosis and remove duplicate codes.(\n",
    "diagnosis_mets_9 = (\n",
    "    diagnosis\n",
    "    .query('diagnosis_date_diff >= -90 and diagnosis_date_diff <= 30')\n",
    "    .query('DiagnosisCodeSystem == \"ICD-9-CM\"')\n",
    "    .drop_duplicates(subset = ['PatientID', 'DiagnosisCode'], keep = 'first')\n",
    "    .filter(items = ['PatientID', 'DiagnosisCode', 'diagnosis_code'])\n",
    ")"
   ]
  },
  {
   "cell_type": "markdown",
   "id": "c07760de",
   "metadata": {},
   "source": [
    "**Sites of metastasis will be grouped into the following categories according to ICD-9 codes:**\n",
    "* **Thorax - 197.0, 197.1, 197.2, and 197.3**\n",
    "* **Peritoneum - 197.6**\n",
    "* **Liver - 197.7**\n",
    "* **Other GI - 197.4 and 197.8**\n",
    "* **CNS - 198.3 and 198.4**\n",
    "* **Bone - 198.5**\n",
    "* **Other - 198.0, 198.1, 198.2, 198.6, 198.7, 198.8, and 196**"
   ]
  },
  {
   "cell_type": "code",
   "execution_count": 407,
   "id": "49aee47e",
   "metadata": {},
   "outputs": [],
   "source": [
    "diagnosis_mets_9['thorax_met'] = np.where(diagnosis_mets_9['diagnosis_code'].str.match('197[0123]'), 1, 0)"
   ]
  },
  {
   "cell_type": "code",
   "execution_count": 408,
   "id": "d028d4c4",
   "metadata": {},
   "outputs": [],
   "source": [
    "diagnosis_mets_9['peritoneum_met'] = np.where(diagnosis_mets_9['diagnosis_code'].str.match('1976'), 1, 0)"
   ]
  },
  {
   "cell_type": "code",
   "execution_count": 409,
   "id": "dc1b7d16",
   "metadata": {},
   "outputs": [],
   "source": [
    "diagnosis_mets_9['liver_met'] = np.where(diagnosis_mets_9['diagnosis_code'].str.match('1977'), 1, 0)"
   ]
  },
  {
   "cell_type": "code",
   "execution_count": 410,
   "id": "235d22a4",
   "metadata": {},
   "outputs": [],
   "source": [
    "diagnosis_mets_9['other_gi_met'] = np.where(diagnosis_mets_9['diagnosis_code'].str.match('197[48]'), 1, 0)"
   ]
  },
  {
   "cell_type": "code",
   "execution_count": 411,
   "id": "131c3a88",
   "metadata": {},
   "outputs": [],
   "source": [
    "diagnosis_mets_9['cns_met'] = np.where(diagnosis_mets_9['diagnosis_code'].str.match('198[34]'), 1, 0)"
   ]
  },
  {
   "cell_type": "code",
   "execution_count": 412,
   "id": "3d030e2c",
   "metadata": {},
   "outputs": [],
   "source": [
    "diagnosis_mets_9['bone_met'] = np.where(diagnosis_mets_9['diagnosis_code'].str.match('1985'), 1, 0)"
   ]
  },
  {
   "cell_type": "code",
   "execution_count": 413,
   "id": "8248ef70",
   "metadata": {},
   "outputs": [],
   "source": [
    "diagnosis_mets_9['other_met'] = np.where(diagnosis_mets_9['diagnosis_code'].str.match('198[012678]|'\n",
    "                                                                                      '196'), 1, 0)"
   ]
  },
  {
   "cell_type": "code",
   "execution_count": 414,
   "id": "f866862e",
   "metadata": {},
   "outputs": [],
   "source": [
    "# Collapse columns and sum.\n",
    "diagnosis_mets_9 = (\n",
    "    diagnosis_mets_9\n",
    "    .drop(columns = ['DiagnosisCode', 'diagnosis_code'])\n",
    "    .groupby('PatientID').sum()\n",
    "    .reset_index()\n",
    ")"
   ]
  },
  {
   "cell_type": "markdown",
   "id": "d6691444",
   "metadata": {},
   "source": [
    "##### ICD-10 sites of metastases"
   ]
  },
  {
   "cell_type": "code",
   "execution_count": 415,
   "id": "7d5bda73",
   "metadata": {},
   "outputs": [],
   "source": [
    "# Create dataframe contianing patients with ICD-10 codes within -90 to +30 days from advanced diagnosis and remove duplicate codes.\n",
    "diagnosis_mets_10 = (\n",
    "    diagnosis\n",
    "    .query('diagnosis_date_diff >= -90 and diagnosis_date_diff <= 30')\n",
    "    .query('DiagnosisCodeSystem == \"ICD-10-CM\"')\n",
    "    .drop_duplicates(subset = ['PatientID', 'DiagnosisCode'], keep = 'first')\n",
    "    .filter(items = ['PatientID', 'DiagnosisCode', 'diagnosis_code'])\n",
    ")"
   ]
  },
  {
   "cell_type": "markdown",
   "id": "6ceff149",
   "metadata": {},
   "source": [
    "**Sites of metastasis will be grouped into the following categories according to ICD-10 codes:**\n",
    "* **Thorax - C78.0, C78.1, C78.2, and C78.3**\n",
    "* **Peritoneum - C78.6**\n",
    "* **Liver - C78.7**\n",
    "* **Other GI - C78.4 and C78.8**\n",
    "* **CNS - C79.3 and C79.4**\n",
    "* **Bone - C79.5**\n",
    "* **Other - C77, C79.0, C79.1, C79.2, C79.6, C79.7, C79.8, and C79.9**"
   ]
  },
  {
   "cell_type": "code",
   "execution_count": 416,
   "id": "dc81be16",
   "metadata": {},
   "outputs": [],
   "source": [
    "diagnosis_mets_10['thorax_met'] = np.where(diagnosis_mets_10['diagnosis_code'].str.match('C78[0123]'), 1, 0)"
   ]
  },
  {
   "cell_type": "code",
   "execution_count": 417,
   "id": "66a4d882",
   "metadata": {},
   "outputs": [],
   "source": [
    "diagnosis_mets_10['peritoneum_met'] = np.where(diagnosis_mets_10['diagnosis_code'].str.match('C786'), 1, 0)"
   ]
  },
  {
   "cell_type": "code",
   "execution_count": 418,
   "id": "0dbe1c6b",
   "metadata": {},
   "outputs": [],
   "source": [
    "diagnosis_mets_10['liver_met'] = np.where(diagnosis_mets_10['diagnosis_code'].str.match('C787'), 1, 0)"
   ]
  },
  {
   "cell_type": "code",
   "execution_count": 419,
   "id": "1347c3bb",
   "metadata": {},
   "outputs": [],
   "source": [
    "diagnosis_mets_10['other_gi_met'] = np.where(diagnosis_mets_10['diagnosis_code'].str.match('C78[48]'), 1, 0)"
   ]
  },
  {
   "cell_type": "code",
   "execution_count": 420,
   "id": "0f155feb",
   "metadata": {},
   "outputs": [],
   "source": [
    "diagnosis_mets_10['cns_met'] = np.where(diagnosis_mets_10['diagnosis_code'].str.match('C79[34]'), 1, 0)"
   ]
  },
  {
   "cell_type": "code",
   "execution_count": 421,
   "id": "9da9ffe0",
   "metadata": {},
   "outputs": [],
   "source": [
    "diagnosis_mets_10['bone_met'] = np.where(diagnosis_mets_10['diagnosis_code'].str.match('C795'), 1, 0)"
   ]
  },
  {
   "cell_type": "code",
   "execution_count": 422,
   "id": "604a3cc1",
   "metadata": {},
   "outputs": [],
   "source": [
    "diagnosis_mets_10['other_met'] = np.where(diagnosis_mets_10['diagnosis_code'].str.match('C77|'\n",
    "                                                                                        'C79[0126789]'), 1, 0)"
   ]
  },
  {
   "cell_type": "code",
   "execution_count": 423,
   "id": "2626bc50",
   "metadata": {},
   "outputs": [],
   "source": [
    "# Collapse columns and sum. \n",
    "diagnosis_mets_10 = (\n",
    "    diagnosis_mets_10\n",
    "    .drop(columns = ['DiagnosisCode', 'diagnosis_code'])\n",
    "    .groupby('PatientID').sum()\n",
    "    .reset_index()\n",
    ")"
   ]
  },
  {
   "cell_type": "code",
   "execution_count": 424,
   "id": "3bdfbb6b",
   "metadata": {},
   "outputs": [],
   "source": [
    "# Merge ICD-9 and ICD-10 mets tables; collapse and sum. \n",
    "diagnosis_mets = (\n",
    "    pd.concat([diagnosis_mets_9, diagnosis_mets_10])\n",
    "    .groupby('PatientID').sum()\n",
    ")"
   ]
  },
  {
   "cell_type": "code",
   "execution_count": 425,
   "id": "f490c6ea",
   "metadata": {},
   "outputs": [],
   "source": [
    "# All values >1 replaced by 1. \n",
    "diagnosis_mets = (\n",
    "    diagnosis_mets.mask(diagnosis_mets > 1, 1)\n",
    "    .reset_index()\n",
    ")"
   ]
  },
  {
   "cell_type": "code",
   "execution_count": 426,
   "id": "e4ac1929",
   "metadata": {},
   "outputs": [],
   "source": [
    "# Append missing training IDs.\n",
    "diagnosis_mets = (\n",
    "    diagnosis_mets.append(\n",
    "        pd.Series(test_IDs)[~pd.Series(test_IDs).isin(diagnosis_mets['PatientID'])].to_frame(name = 'PatientID'), \n",
    "        sort = False)\n",
    "    .fillna(0)\n",
    ")"
   ]
  },
  {
   "cell_type": "code",
   "execution_count": 427,
   "id": "ed7a9ab5",
   "metadata": {},
   "outputs": [
    {
     "data": {
      "text/plain": [
       "(6863, 6863)"
      ]
     },
     "execution_count": 427,
     "metadata": {},
     "output_type": "execute_result"
    }
   ],
   "source": [
    "row_ID(diagnosis_mets)"
   ]
  },
  {
   "cell_type": "markdown",
   "id": "c7a5fb2e",
   "metadata": {},
   "source": [
    "#### Merge"
   ]
  },
  {
   "cell_type": "code",
   "execution_count": 428,
   "id": "a46dc57a",
   "metadata": {},
   "outputs": [],
   "source": [
    "diagnosis_wide = pd.merge(diagnosis_elixhauser, other_cancer, on = 'PatientID')"
   ]
  },
  {
   "cell_type": "code",
   "execution_count": 429,
   "id": "65a24b16",
   "metadata": {},
   "outputs": [],
   "source": [
    "diagnosis_wide = pd.merge(diagnosis_wide, diagnosis_mets, on = 'PatientID')"
   ]
  },
  {
   "cell_type": "code",
   "execution_count": 430,
   "id": "5611220d",
   "metadata": {},
   "outputs": [
    {
     "data": {
      "text/plain": [
       "(6863, 6863)"
      ]
     },
     "execution_count": 430,
     "metadata": {},
     "output_type": "execute_result"
    }
   ],
   "source": [
    "row_ID(diagnosis_wide)"
   ]
  },
  {
   "cell_type": "code",
   "execution_count": 431,
   "id": "fddb4ec4",
   "metadata": {},
   "outputs": [
    {
     "data": {
      "text/plain": [
       "['PatientID',\n",
       " 'chf',\n",
       " 'cardiac_arrhythmias',\n",
       " 'valvular_disease',\n",
       " 'pulmonary_circulation',\n",
       " 'peripheral_vascular',\n",
       " 'htn_uncomplicated',\n",
       " 'htn_complicated',\n",
       " 'paralysis',\n",
       " 'other_neuro_disorders',\n",
       " 'chronic_pulmonary',\n",
       " 'diabetes_uncomplicated',\n",
       " 'diabetes_complicated',\n",
       " 'hypothyroidism',\n",
       " 'renal_failure',\n",
       " 'liver_disease',\n",
       " 'peptic_ulcer_disease',\n",
       " 'aids_hiv',\n",
       " 'lymphoma',\n",
       " 'metastatic_cancer',\n",
       " 'solid_tumor_wout_mets',\n",
       " 'rheumatoid_arthritis',\n",
       " 'coagulopathy',\n",
       " 'obesity',\n",
       " 'weight_loss',\n",
       " 'fluid_electrolyte',\n",
       " 'blood_loss_anemia',\n",
       " 'deficiency_anemia',\n",
       " 'alcohol_abuse',\n",
       " 'drug_abuse',\n",
       " 'psychoses',\n",
       " 'depression',\n",
       " 'elixhauser_other',\n",
       " 'icd_count',\n",
       " 'other_cancer',\n",
       " 'thorax_met',\n",
       " 'peritoneum_met',\n",
       " 'liver_met',\n",
       " 'other_gi_met',\n",
       " 'cns_met',\n",
       " 'bone_met',\n",
       " 'other_met']"
      ]
     },
     "execution_count": 431,
     "metadata": {},
     "output_type": "execute_result"
    }
   ],
   "source": [
    "list(diagnosis_wide.columns)"
   ]
  },
  {
   "cell_type": "code",
   "execution_count": 432,
   "id": "d2831380",
   "metadata": {},
   "outputs": [
    {
     "name": "stdout",
     "output_type": "stream",
     "text": [
      "Variable                 Type         Data/Info\n",
      "-----------------------------------------------\n",
      "biomarker_wide           DataFrame              PatientID      <...>\\n[6863 rows x 5 columns]\n",
      "cancer_10                DataFrame                PatientID Dia<...>\\n[7494 rows x 3 columns]\n",
      "cancer_9                 DataFrame                PatientID Dia<...>\\n[3267 rows x 3 columns]\n",
      "colon_location           DataFrame              PatientID CrcSi<...>\\n[6863 rows x 5 columns]\n",
      "colon_location_10        DataFrame                   right_colo<...>\\n[4351 rows x 2 columns]\n",
      "colon_location_9         DataFrame                   right_colo<...>\\n[2470 rows x 2 columns]\n",
      "demographics             DataFrame              PatientID gende<...>\\n[6863 rows x 7 columns]\n",
      "diagnosis                DataFrame                PatientID    <...>[218887 rows x 9 columns]\n",
      "diagnosis_elix_10        DataFrame                PatientID Dia<...>[31357 rows x 37 columns]\n",
      "diagnosis_elix_10_wide   DataFrame              PatientID  chf <...>n[4351 rows x 33 columns]\n",
      "diagnosis_elix_9         DataFrame                PatientID Dia<...>[13360 rows x 37 columns]\n",
      "diagnosis_elix_9_wide    DataFrame              PatientID  chf <...>n[2470 rows x 33 columns]\n",
      "diagnosis_elixhauser     DataFrame              PatientID  chf <...>n[6863 rows x 34 columns]\n",
      "diagnosis_mets           DataFrame              PatientID  thor<...>\\n[6863 rows x 8 columns]\n",
      "diagnosis_mets_10        DataFrame              PatientID  thor<...>\\n[3749 rows x 8 columns]\n",
      "diagnosis_mets_9         DataFrame              PatientID  thor<...>\\n[1254 rows x 8 columns]\n",
      "diagnosis_wide           DataFrame              PatientID  chf <...>n[6863 rows x 42 columns]\n",
      "ecog_diagnosis_wide      DataFrame                PatientID eco<...>\\n[6863 rows x 2 columns]\n",
      "enhanced_met             DataFrame              PatientID diagn<...>\\n[6863 rows x 8 columns]\n",
      "insurance_wide           DataFrame              PatientID  medi<...>\\n[6863 rows x 9 columns]\n",
      "lab_wide                 DataFrame              PatientID  albu<...>[6863 rows x 137 columns]\n",
      "med_admin_wide           DataFrame              PatientID  ster<...>n[6863 rows x 15 columns]\n",
      "mortality                DataFrame              PatientID  deat<...>\\n[6863 rows x 3 columns]\n",
      "other_cancer             DataFrame              PatientID  othe<...>\\n[6863 rows x 2 columns]\n",
      "other_cancer_10          DataFrame              PatientID  othe<...>\\n[6863 rows x 2 columns]\n",
      "other_cancer_9           DataFrame              PatientID  othe<...>\\n[6863 rows x 2 columns]\n",
      "weight_wide              DataFrame              PatientID  weig<...>\\n[6863 rows x 7 columns]\n"
     ]
    }
   ],
   "source": [
    "%whos DataFrame"
   ]
  },
  {
   "cell_type": "code",
   "execution_count": 433,
   "id": "bc95de1c",
   "metadata": {},
   "outputs": [],
   "source": [
    "# Keep biomarker_wide, demographics, diagnosis_wide, ecog_diagnosis_wide, enhanced_met, insurance_wide, \n",
    "# lab_wide, med_admin_wide, mortality, and weight_wide\n",
    "del cancer_10\n",
    "del cancer_9\n",
    "del colon_location\n",
    "del colon_location_10\n",
    "del colon_location_9\n",
    "del diagnosis\n",
    "del diagnosis_elix_10\n",
    "del diagnosis_elix_10_wide\n",
    "del diagnosis_elix_9\n",
    "del diagnosis_elix_9_wide\n",
    "del diagnosis_elixhauser\n",
    "del diagnosis_mets\n",
    "del diagnosis_mets_10\n",
    "del diagnosis_mets_9\n",
    "del other_cancer\n",
    "del other_cancer_10\n",
    "del other_cancer_9"
   ]
  },
  {
   "cell_type": "markdown",
   "id": "e4d30a19",
   "metadata": {},
   "source": [
    "### SocialDeterminantsOfHealth"
   ]
  },
  {
   "cell_type": "code",
   "execution_count": 434,
   "id": "2898daab",
   "metadata": {},
   "outputs": [],
   "source": [
    "sdoh = pd.read_csv('SocialDeterminantsOfHealth.csv')"
   ]
  },
  {
   "cell_type": "code",
   "execution_count": 435,
   "id": "932cece6",
   "metadata": {},
   "outputs": [],
   "source": [
    "sdoh = sdoh[sdoh['PatientID'].isin(test_IDs)]"
   ]
  },
  {
   "cell_type": "code",
   "execution_count": 436,
   "id": "ee5cbff7",
   "metadata": {},
   "outputs": [
    {
     "data": {
      "text/plain": [
       "(5903, 5903)"
      ]
     },
     "execution_count": 436,
     "metadata": {},
     "output_type": "execute_result"
    }
   ],
   "source": [
    "row_ID(sdoh)"
   ]
  },
  {
   "cell_type": "markdown",
   "id": "8ef54f12",
   "metadata": {},
   "source": [
    "**Measures the area-level socioeconomic status (SES) of a patient between 2015 and 2019 based on their most recent address.**"
   ]
  },
  {
   "cell_type": "code",
   "execution_count": 437,
   "id": "e07c5434",
   "metadata": {},
   "outputs": [],
   "source": [
    "conditions = [\n",
    "    (sdoh['SESIndex2015_2019'] == '5 - Highest SES'),\n",
    "    (sdoh['SESIndex2015_2019'] == '1 - Lowest SES')]    \n",
    "\n",
    "choices = ['5', '1']\n",
    "    \n",
    "sdoh.loc[:, 'ses'] = np.select(conditions, choices, default = sdoh['SESIndex2015_2019'])"
   ]
  },
  {
   "cell_type": "code",
   "execution_count": 438,
   "id": "5cb724d5",
   "metadata": {},
   "outputs": [],
   "source": [
    "sdoh = sdoh.drop(columns = ['PracticeID', 'SESIndex2015_2019'])"
   ]
  },
  {
   "cell_type": "code",
   "execution_count": 439,
   "id": "8262c532",
   "metadata": {},
   "outputs": [],
   "source": [
    "sdoh_wide = (\n",
    "    sdoh\n",
    "    .append(\n",
    "        pd.Series(test_IDs)[~pd.Series(test_IDs).isin(sdoh['PatientID'])].to_frame(name = 'PatientID'),\n",
    "        sort = False)\n",
    ")"
   ]
  },
  {
   "cell_type": "code",
   "execution_count": 440,
   "id": "141c1c12",
   "metadata": {},
   "outputs": [
    {
     "data": {
      "text/plain": [
       "(6863, 6863)"
      ]
     },
     "execution_count": 440,
     "metadata": {},
     "output_type": "execute_result"
    }
   ],
   "source": [
    "row_ID(sdoh_wide)"
   ]
  },
  {
   "cell_type": "code",
   "execution_count": 441,
   "id": "48fd2cb5",
   "metadata": {},
   "outputs": [
    {
     "name": "stdout",
     "output_type": "stream",
     "text": [
      "Variable              Type         Data/Info\n",
      "--------------------------------------------\n",
      "biomarker_wide        DataFrame              PatientID      <...>\\n[6863 rows x 5 columns]\n",
      "demographics          DataFrame              PatientID gende<...>\\n[6863 rows x 7 columns]\n",
      "diagnosis_wide        DataFrame              PatientID  chf <...>n[6863 rows x 42 columns]\n",
      "ecog_diagnosis_wide   DataFrame                PatientID eco<...>\\n[6863 rows x 2 columns]\n",
      "enhanced_met          DataFrame              PatientID diagn<...>\\n[6863 rows x 8 columns]\n",
      "insurance_wide        DataFrame              PatientID  medi<...>\\n[6863 rows x 9 columns]\n",
      "lab_wide              DataFrame              PatientID  albu<...>[6863 rows x 137 columns]\n",
      "med_admin_wide        DataFrame              PatientID  ster<...>n[6863 rows x 15 columns]\n",
      "mortality             DataFrame              PatientID  deat<...>\\n[6863 rows x 3 columns]\n",
      "sdoh                  DataFrame               PatientID ses\\<...>\\n[5903 rows x 2 columns]\n",
      "sdoh_wide             DataFrame              PatientID  ses\\<...>\\n[6863 rows x 2 columns]\n",
      "weight_wide           DataFrame              PatientID  weig<...>\\n[6863 rows x 7 columns]\n"
     ]
    }
   ],
   "source": [
    "%whos DataFrame"
   ]
  },
  {
   "cell_type": "code",
   "execution_count": 442,
   "id": "375ce40e",
   "metadata": {},
   "outputs": [],
   "source": [
    "# Keep biomarker_wide, demographics, diagnosis_wide, ecog_diagnosis_wide, enhanced_met, insurance_wide, \n",
    "# lab_wide, med_admin_wide, mortality, sdoh_wide, and weight_wide\n",
    "del sdoh"
   ]
  },
  {
   "cell_type": "markdown",
   "id": "06b3966f",
   "metadata": {},
   "source": [
    "## Part 3: File merge"
   ]
  },
  {
   "cell_type": "code",
   "execution_count": 443,
   "id": "162ea732",
   "metadata": {},
   "outputs": [],
   "source": [
    "enhanced_met = enhanced_met.drop(columns = ['diagnosis_date', 'met_date', 'CrcSite'])"
   ]
  },
  {
   "cell_type": "code",
   "execution_count": 444,
   "id": "9d6c65e2",
   "metadata": {},
   "outputs": [],
   "source": [
    "test_full = pd.merge(demographics, enhanced_met, on = 'PatientID')"
   ]
  },
  {
   "cell_type": "code",
   "execution_count": 445,
   "id": "01da7053",
   "metadata": {},
   "outputs": [],
   "source": [
    "test_full = pd.merge(test_full, mortality, on = 'PatientID')"
   ]
  },
  {
   "cell_type": "code",
   "execution_count": 446,
   "id": "6ba1dda2",
   "metadata": {},
   "outputs": [],
   "source": [
    "test_full = pd.merge(test_full, med_admin_wide, on = 'PatientID')"
   ]
  },
  {
   "cell_type": "code",
   "execution_count": 447,
   "id": "47207021",
   "metadata": {},
   "outputs": [],
   "source": [
    "test_full = pd.merge(test_full, biomarker_wide, on = 'PatientID')"
   ]
  },
  {
   "cell_type": "code",
   "execution_count": 448,
   "id": "db6fa263",
   "metadata": {},
   "outputs": [],
   "source": [
    "test_full = pd.merge(test_full, insurance_wide, on = 'PatientID')"
   ]
  },
  {
   "cell_type": "code",
   "execution_count": 449,
   "id": "8be419b8",
   "metadata": {},
   "outputs": [],
   "source": [
    "test_full = pd.merge(test_full, ecog_diagnosis_wide, on = 'PatientID')"
   ]
  },
  {
   "cell_type": "code",
   "execution_count": 450,
   "id": "57a71a22",
   "metadata": {},
   "outputs": [],
   "source": [
    "test_full = pd.merge(test_full, weight_wide, on = 'PatientID')"
   ]
  },
  {
   "cell_type": "code",
   "execution_count": 451,
   "id": "a8a1faac",
   "metadata": {},
   "outputs": [],
   "source": [
    "test_full = pd.merge(test_full, lab_wide, on = 'PatientID')"
   ]
  },
  {
   "cell_type": "code",
   "execution_count": 452,
   "id": "a8cd2cb5",
   "metadata": {},
   "outputs": [],
   "source": [
    "test_full = pd.merge(test_full, diagnosis_wide, on = 'PatientID')"
   ]
  },
  {
   "cell_type": "code",
   "execution_count": 453,
   "id": "353f0398",
   "metadata": {},
   "outputs": [],
   "source": [
    "test_full = pd.merge(test_full, sdoh_wide, on = 'PatientID')"
   ]
  },
  {
   "cell_type": "code",
   "execution_count": 454,
   "id": "7ff5153f",
   "metadata": {},
   "outputs": [
    {
     "data": {
      "text/plain": [
       "(6863, 6863)"
      ]
     },
     "execution_count": 454,
     "metadata": {},
     "output_type": "execute_result"
    }
   ],
   "source": [
    "row_ID(test_full)"
   ]
  },
  {
   "cell_type": "code",
   "execution_count": 455,
   "id": "4feb77b7",
   "metadata": {},
   "outputs": [
    {
     "data": {
      "text/plain": [
       "224"
      ]
     },
     "execution_count": 455,
     "metadata": {},
     "output_type": "execute_result"
    }
   ],
   "source": [
    "len(test_full.columns)"
   ]
  },
  {
   "cell_type": "code",
   "execution_count": 456,
   "id": "9693c8ea",
   "metadata": {},
   "outputs": [
    {
     "data": {
      "text/plain": [
       "['PatientID',\n",
       " 'gender',\n",
       " 'race',\n",
       " 'ethnicity',\n",
       " 'age',\n",
       " 'p_type',\n",
       " 'region',\n",
       " 'stage',\n",
       " 'met_year',\n",
       " 'delta_met_diagnosis',\n",
       " 'crc_site',\n",
       " 'death_status',\n",
       " 'timerisk_activity',\n",
       " 'steroid_diag',\n",
       " 'opioid_PO_diag',\n",
       " 'nonopioid_PO_diag',\n",
       " 'pain_IV_diag',\n",
       " 'ac_diag',\n",
       " 'antiinfective_IV_diag',\n",
       " 'antiinfective_diag',\n",
       " 'antihyperglycemic_diag',\n",
       " 'ppi_diag',\n",
       " 'antidepressant_diag',\n",
       " 'bta_diag',\n",
       " 'thyroid_diag',\n",
       " 'is_diag',\n",
       " 'adjuv',\n",
       " 'KRAS',\n",
       " 'dMMR_MSIh',\n",
       " 'NRAS',\n",
       " 'BRAF',\n",
       " 'medicare',\n",
       " 'medicaid',\n",
       " 'medicare_medicaid',\n",
       " 'commercial',\n",
       " 'patient_assistance',\n",
       " 'other_govt',\n",
       " 'self_pay',\n",
       " 'other',\n",
       " 'ecog_diagnosis',\n",
       " 'weight_diag',\n",
       " 'bmi_diag',\n",
       " 'bmi_diag_na',\n",
       " 'weight_pct_change',\n",
       " 'weight_pct_na',\n",
       " 'weight_slope',\n",
       " 'albumin_diag',\n",
       " 'alp_diag',\n",
       " 'alt_diag',\n",
       " 'ast_diag',\n",
       " 'bicarb_diag',\n",
       " 'bun_diag',\n",
       " 'calcium_diag',\n",
       " 'cea_diag',\n",
       " 'chloride_diag',\n",
       " 'creatinine_diag',\n",
       " 'hemoglobin_diag',\n",
       " 'neutrophil_count_diag',\n",
       " 'platelet_diag',\n",
       " 'potassium_diag',\n",
       " 'sodium_diag',\n",
       " 'total_bilirubin_diag',\n",
       " 'wbc_diag',\n",
       " 'albumin_diag_na',\n",
       " 'alp_diag_na',\n",
       " 'alt_diag_na',\n",
       " 'ast_diag_na',\n",
       " 'bicarb_diag_na',\n",
       " 'bun_diag_na',\n",
       " 'calcium_diag_na',\n",
       " 'cea_diag_na',\n",
       " 'chloride_diag_na',\n",
       " 'creatinine_diag_na',\n",
       " 'hemoglobin_diag_na',\n",
       " 'neutrophil_count_diag_na',\n",
       " 'platelet_diag_na',\n",
       " 'potassium_diag_na',\n",
       " 'sodium_diag_na',\n",
       " 'total_bilirubin_diag_na',\n",
       " 'wbc_diag_na',\n",
       " 'albumin_avg',\n",
       " 'alp_avg',\n",
       " 'alt_avg',\n",
       " 'ast_avg',\n",
       " 'bicarb_avg',\n",
       " 'bun_avg',\n",
       " 'calcium_avg',\n",
       " 'cea_avg',\n",
       " 'chloride_avg',\n",
       " 'creatinine_avg',\n",
       " 'hemoglobin_avg',\n",
       " 'neutrophil_count_avg',\n",
       " 'platelet_avg',\n",
       " 'potassium_avg',\n",
       " 'sodium_avg',\n",
       " 'total_bilirubin_avg',\n",
       " 'wbc_avg',\n",
       " 'albumin_max',\n",
       " 'alp_max',\n",
       " 'alt_max',\n",
       " 'ast_max',\n",
       " 'bicarb_max',\n",
       " 'bun_max',\n",
       " 'calcium_max',\n",
       " 'cea_max',\n",
       " 'chloride_max',\n",
       " 'creatinine_max',\n",
       " 'hemoglobin_max',\n",
       " 'neutrophil_count_max',\n",
       " 'platelet_max',\n",
       " 'potassium_max',\n",
       " 'sodium_max',\n",
       " 'total_bilirubin_max',\n",
       " 'wbc_max',\n",
       " 'albumin_min',\n",
       " 'alp_min',\n",
       " 'alt_min',\n",
       " 'ast_min',\n",
       " 'bicarb_min',\n",
       " 'bun_min',\n",
       " 'calcium_min',\n",
       " 'cea_min',\n",
       " 'chloride_min',\n",
       " 'creatinine_min',\n",
       " 'hemoglobin_min',\n",
       " 'neutrophil_count_min',\n",
       " 'platelet_min',\n",
       " 'potassium_min',\n",
       " 'sodium_min',\n",
       " 'total_bilirubin_min',\n",
       " 'wbc_min',\n",
       " 'albumin_std',\n",
       " 'alp_std',\n",
       " 'alt_std',\n",
       " 'ast_std',\n",
       " 'bicarb_std',\n",
       " 'bun_std',\n",
       " 'calcium_std',\n",
       " 'cea_std',\n",
       " 'chloride_std',\n",
       " 'creatinine_std',\n",
       " 'hemoglobin_std',\n",
       " 'neutrophil_count_std',\n",
       " 'platelet_std',\n",
       " 'potassium_std',\n",
       " 'sodium_std',\n",
       " 'total_bilirubin_std',\n",
       " 'wbc_std',\n",
       " 'albumin_slope',\n",
       " 'alp_slope',\n",
       " 'alt_slope',\n",
       " 'ast_slope',\n",
       " 'bicarb_slope',\n",
       " 'bun_slope',\n",
       " 'calcium_slope',\n",
       " 'cea_slope',\n",
       " 'chloride_slope',\n",
       " 'creatinine_slope',\n",
       " 'hemoglobin_slope',\n",
       " 'neutrophil_count_slope',\n",
       " 'platelet_slope',\n",
       " 'potassium_slope',\n",
       " 'sodium_slope',\n",
       " 'total_bilirubin_slope',\n",
       " 'wbc_slope',\n",
       " 'albumin_slope_na',\n",
       " 'alp_slope_na',\n",
       " 'alt_slope_na',\n",
       " 'ast_slope_na',\n",
       " 'bicarb_slope_na',\n",
       " 'bun_slope_na',\n",
       " 'calcium_slope_na',\n",
       " 'cea_slope_na',\n",
       " 'chloride_slope_na',\n",
       " 'creatinine_slope_na',\n",
       " 'hemoglobin_slope_na',\n",
       " 'neutrophil_count_slope_na',\n",
       " 'platelet_slope_na',\n",
       " 'potassium_slope_na',\n",
       " 'sodium_slope_na',\n",
       " 'total_bilirubin_slope_na',\n",
       " 'wbc_slope_na',\n",
       " 'chf',\n",
       " 'cardiac_arrhythmias',\n",
       " 'valvular_disease',\n",
       " 'pulmonary_circulation',\n",
       " 'peripheral_vascular',\n",
       " 'htn_uncomplicated',\n",
       " 'htn_complicated',\n",
       " 'paralysis',\n",
       " 'other_neuro_disorders',\n",
       " 'chronic_pulmonary',\n",
       " 'diabetes_uncomplicated',\n",
       " 'diabetes_complicated',\n",
       " 'hypothyroidism',\n",
       " 'renal_failure',\n",
       " 'liver_disease',\n",
       " 'peptic_ulcer_disease',\n",
       " 'aids_hiv',\n",
       " 'lymphoma',\n",
       " 'metastatic_cancer',\n",
       " 'solid_tumor_wout_mets',\n",
       " 'rheumatoid_arthritis',\n",
       " 'coagulopathy',\n",
       " 'obesity',\n",
       " 'weight_loss',\n",
       " 'fluid_electrolyte',\n",
       " 'blood_loss_anemia',\n",
       " 'deficiency_anemia',\n",
       " 'alcohol_abuse',\n",
       " 'drug_abuse',\n",
       " 'psychoses',\n",
       " 'depression',\n",
       " 'elixhauser_other',\n",
       " 'icd_count',\n",
       " 'other_cancer',\n",
       " 'thorax_met',\n",
       " 'peritoneum_met',\n",
       " 'liver_met',\n",
       " 'other_gi_met',\n",
       " 'cns_met',\n",
       " 'bone_met',\n",
       " 'other_met',\n",
       " 'ses']"
      ]
     },
     "execution_count": 456,
     "metadata": {},
     "output_type": "execute_result"
    }
   ],
   "source": [
    "list(test_full.columns)"
   ]
  },
  {
   "cell_type": "code",
   "execution_count": 457,
   "id": "f43ae6ee",
   "metadata": {},
   "outputs": [],
   "source": [
    "test_full.to_csv('test_full.csv', index = False, header = True)"
   ]
  }
 ],
 "metadata": {
  "kernelspec": {
   "display_name": "Python 3 (ipykernel)",
   "language": "python",
   "name": "python3"
  },
  "language_info": {
   "codemirror_mode": {
    "name": "ipython",
    "version": 3
   },
   "file_extension": ".py",
   "mimetype": "text/x-python",
   "name": "python",
   "nbconvert_exporter": "python",
   "pygments_lexer": "ipython3",
   "version": "3.7.10"
  }
 },
 "nbformat": 4,
 "nbformat_minor": 5
}
