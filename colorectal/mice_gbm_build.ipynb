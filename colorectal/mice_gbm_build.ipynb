{
 "cells": [
  {
   "cell_type": "markdown",
   "id": "c41c3a10",
   "metadata": {},
   "source": [
    "# Flatiron Health mCRC: MICE\n",
    "\n",
    "**OBJECTIVE: Impute missing variables in the training dataset using multiple imputation chained equations (MICE). Five non-missing training sets will be construced using MICE along with 5 test sets. A gradient boosting model will be fit to each training dataset and a test set AUC will be calculated. The 1 year AUCs from the test set will be pooled to get a final estimate.** \n",
    "\n",
    "**BACKGROUND: The variables with the most missingness at time of advanced diagnosis are ECOG (50%), labs (30%), and changes in weight (11%). These three variables have high predictive value in our models. Up until this point, missingness has been handled by making \"unknown\" a level in the ECOG variable and imputing median for lab values and weight loss. While this imputation strategy is simple and fast, it likely understimates the variance of variables and disturb relations between variables when the data is not missing completely at random.** \n",
    "\n",
    "**Variables that will be imputed with MICE:** \n",
    "1. **ECOG (50% missing)**\n",
    "2. **BMI (25% missing)**\n",
    "3. **Weight (25% missing)**\n",
    "4. **Percent change in weight and weight slope (20% missing)**\n",
    "5. **Socioeconomic status (25% missing)**\n",
    "6. **Stage (10%)**\n",
    "7. **Labs at time of advanced diagnosis (30% missing)**\n",
    "8. **Subset of summary labs (40% missing)**\n",
    "\n",
    "**Five complete training sets will be imputed using the Python package \"miceforest\" which uses lightgbm as a backend. Five complete test sets will also be imputed from the final model used to impute the training set values. All existing variables including outcome variables like death status and time until event will be utilized to aid in the imputations. In addition, auxillary variables such as receipt of treatment, weight and BMI at 3 months, and labs at 3 months will be created to augment imputations.**   \n",
    "\n",
    "**After complete training and test sets are constructed, a gradient boosting survival model will be built for each training set in the same fashion as in the crude imputation notebook. Final test AUCs will be pooled using Rubin's rules.**\n",
    "\n",
    "**OUTLINE:**\n",
    "1. **Building auxillary variables** \n",
    "2. **Performing MICE on training and test sets** \n",
    "3. **Building gradient boosting models on imputed datasets**\n",
    "4. **Pooling results**"
   ]
  },
  {
   "cell_type": "markdown",
   "id": "c3792310",
   "metadata": {},
   "source": [
    "## 1. Building auxillary varibles "
   ]
  },
  {
   "cell_type": "code",
   "execution_count": 1,
   "id": "120e2612",
   "metadata": {},
   "outputs": [],
   "source": [
    "import numpy as np\n",
    "import pandas as pd"
   ]
  },
  {
   "cell_type": "code",
   "execution_count": 2,
   "id": "b8d58f3d",
   "metadata": {},
   "outputs": [],
   "source": [
    "# Function that returns number of rows and count of unique PatientIDs for a dataframe. \n",
    "def row_ID(dataframe):\n",
    "    row = dataframe.shape[0]\n",
    "    ID = dataframe['PatientID'].nunique()\n",
    "    return row, ID"
   ]
  },
  {
   "cell_type": "markdown",
   "id": "a6d73c72",
   "metadata": {},
   "source": [
    "### 1.1 Preprocessing"
   ]
  },
  {
   "cell_type": "code",
   "execution_count": 3,
   "id": "434e20e3",
   "metadata": {},
   "outputs": [
    {
     "data": {
      "text/plain": [
       "(27452, 27452)"
      ]
     },
     "execution_count": 19,
     "metadata": {},
     "output_type": "execute_result"
    }
   ],
   "source": [
    "train = pd.read_csv('train_full.csv')\n",
    "row_ID(train)"
   ]
  },
  {
   "cell_type": "code",
   "execution_count": 4,
   "id": "96cbb62b",
   "metadata": {},
   "outputs": [
    {
     "data": {
      "text/plain": [
       "(6863, 6863)"
      ]
     },
     "execution_count": 20,
     "metadata": {},
     "output_type": "execute_result"
    }
   ],
   "source": [
    "test = pd.read_csv('test_full.csv')\n",
    "row_ID(test)"
   ]
  },
  {
   "cell_type": "code",
   "execution_count": 5,
   "id": "477f8a9d",
   "metadata": {},
   "outputs": [
    {
     "data": {
      "text/plain": [
       "(34315, 34315)"
      ]
     },
     "execution_count": 21,
     "metadata": {},
     "output_type": "execute_result"
    }
   ],
   "source": [
    "df = pd.concat([train, test], ignore_index = True)\n",
    "row_ID(df)"
   ]
  },
  {
   "cell_type": "markdown",
   "id": "d3096b97",
   "metadata": {},
   "source": [
    "### 1.2 Treatment "
   ]
  },
  {
   "cell_type": "markdown",
   "id": "5db89bd4",
   "metadata": {},
   "source": [
    "**Add indicator variables for first, second, and third line treatment. Treatment will be defined as having received an FDA approved targeted agent for the treatment of metastatic colorectal cancer.** "
   ]
  },
  {
   "cell_type": "code",
   "execution_count": 6,
   "id": "4438085f",
   "metadata": {},
   "outputs": [],
   "source": [
    "line_therapy = pd.read_csv('LineOfTherapy.csv')"
   ]
  },
  {
   "cell_type": "code",
   "execution_count": 7,
   "id": "e70af345",
   "metadata": {},
   "outputs": [],
   "source": [
    "line_therapy = line_therapy[line_therapy['PatientID'].isin(df['PatientID'])]"
   ]
  },
  {
   "cell_type": "code",
   "execution_count": 8,
   "id": "91747ed7",
   "metadata": {},
   "outputs": [],
   "source": [
    "# List of FDA approved drugs for mCRC as of December 2022. Clinical study drug is also included. \n",
    "fda_yes = [\n",
    "    'Aflibercept',\n",
    "    'Ziv-Aflibercept',\n",
    "    'Bevacizumab',\n",
    "    'Bevacizumab-Awwb',\n",
    "    'Bevacizumab-Bvzr',\n",
    "    'Capecitabine',\n",
    "    'CAPEOX',\n",
    "    'Cetuximab',\n",
    "    'Encorafenib',\n",
    "    'Entrectinib',\n",
    "    'Fluorouracil',\n",
    "    'FOLFIRI',\n",
    "    'FOLFOX',\n",
    "    'FOLFOXIRI',\n",
    "    'Ipilimumab ',\n",
    "    'Irinotecan',\n",
    "    'Larotrectinib',\n",
    "    'Nivolumab',\n",
    "    'Oxaliplatin',\n",
    "    'Panitumumab',\n",
    "    'Pembrolizumab',\n",
    "    'Ramucirumab',\n",
    "    'Regorafenib',\n",
    "    'Trifluridine/Tipiracil',\n",
    "    'Clinical Study Drug'\n",
    "]"
   ]
  },
  {
   "cell_type": "code",
   "execution_count": 9,
   "id": "52cfb8f6",
   "metadata": {},
   "outputs": [],
   "source": [
    "line_therapy_1 = (\n",
    "    line_therapy.query('LineNumber == 1')\n",
    "    .query('IsMaintenanceTherapy == False')\n",
    "    .drop_duplicates(subset = 'PatientID', keep = 'first'))\n",
    "\n",
    "line_therapy_2 = (\n",
    "    line_therapy.query('LineNumber == 2')\n",
    "    .query('IsMaintenanceTherapy == False')\n",
    "    .drop_duplicates(subset = 'PatientID', keep = 'first'))\n",
    "\n",
    "line_therapy_3 = (\n",
    "    line_therapy.query('LineNumber == 3')\n",
    "    .query('IsMaintenanceTherapy == False')\n",
    "    .drop_duplicates(subset = 'PatientID', keep = 'first'))\n",
    "\n",
    "line_therapy_4 = (\n",
    "    line_therapy.query('LineNumber == 4')\n",
    "    .query('IsMaintenanceTherapy == False')\n",
    "    .drop_duplicates(subset = 'PatientID', keep = 'first'))"
   ]
  },
  {
   "cell_type": "code",
   "execution_count": 10,
   "id": "97e3ee6d",
   "metadata": {},
   "outputs": [],
   "source": [
    "line_therapy_1.loc[:, 'line_1'] = np.where(\n",
    "    line_therapy_1['LineName'].str.contains('|'.join(fda_yes)), 1, 0)\n",
    "\n",
    "line_therapy_2.loc[:, 'line_2'] = np.where(\n",
    "    line_therapy_2['LineName'].str.contains('|'.join(fda_yes)), 1, 0)\n",
    "\n",
    "line_therapy_3.loc[:, 'line_3'] = np.where(\n",
    "    line_therapy_3['LineName'].str.contains('|'.join(fda_yes)), 1, 0)\n",
    "\n",
    "line_therapy_4.loc[:, 'line_4'] = np.where(\n",
    "    line_therapy_4['LineName'].str.contains('|'.join(fda_yes)), 1, 0)"
   ]
  },
  {
   "cell_type": "code",
   "execution_count": 11,
   "id": "832dfd0a",
   "metadata": {},
   "outputs": [],
   "source": [
    "line_therapy_1 = line_therapy_1[['PatientID', 'line_1']]\n",
    "line_therapy_2 = line_therapy_2[['PatientID', 'line_2']]\n",
    "line_therapy_3 = line_therapy_3[['PatientID', 'line_3']]\n",
    "line_therapy_4 = line_therapy_4[['PatientID', 'line_4']]"
   ]
  },
  {
   "cell_type": "code",
   "execution_count": 12,
   "id": "963b33cf",
   "metadata": {},
   "outputs": [],
   "source": [
    "df = pd.merge(df, line_therapy_1, on = 'PatientID', how = 'outer')\n",
    "df = pd.merge(df, line_therapy_2, on = 'PatientID', how = 'outer')\n",
    "df = pd.merge(df, line_therapy_3, on = 'PatientID', how = 'outer')\n",
    "df = pd.merge(df, line_therapy_4, on = 'PatientID', how = 'outer')"
   ]
  },
  {
   "cell_type": "code",
   "execution_count": 13,
   "id": "8faff5ac",
   "metadata": {},
   "outputs": [],
   "source": [
    "df[['line_1', 'line_2', 'line_3', 'line_4']] = df[['line_1', 'line_2', 'line_3', 'line_4']].fillna(value = 0)"
   ]
  },
  {
   "cell_type": "code",
   "execution_count": 14,
   "id": "a181cf0d",
   "metadata": {},
   "outputs": [
    {
     "data": {
      "text/plain": [
       "1.0    26915\n",
       "0.0     7400\n",
       "Name: line_1, dtype: int64"
      ]
     },
     "execution_count": 31,
     "metadata": {},
     "output_type": "execute_result"
    }
   ],
   "source": [
    "df.line_1.value_counts()"
   ]
  },
  {
   "cell_type": "code",
   "execution_count": 15,
   "id": "a02a06f7",
   "metadata": {},
   "outputs": [
    {
     "data": {
      "text/plain": [
       "0.0    20148\n",
       "1.0    14167\n",
       "Name: line_2, dtype: int64"
      ]
     },
     "execution_count": 32,
     "metadata": {},
     "output_type": "execute_result"
    }
   ],
   "source": [
    "df.line_2.value_counts()"
   ]
  },
  {
   "cell_type": "code",
   "execution_count": 16,
   "id": "d56c1373",
   "metadata": {},
   "outputs": [
    {
     "data": {
      "text/plain": [
       "0.0    27069\n",
       "1.0     7246\n",
       "Name: line_3, dtype: int64"
      ]
     },
     "execution_count": 33,
     "metadata": {},
     "output_type": "execute_result"
    }
   ],
   "source": [
    "df.line_3.value_counts()"
   ]
  },
  {
   "cell_type": "code",
   "execution_count": 17,
   "id": "f12f24c4",
   "metadata": {},
   "outputs": [
    {
     "data": {
      "text/plain": [
       "0.0    30767\n",
       "1.0     3548\n",
       "Name: line_4, dtype: int64"
      ]
     },
     "execution_count": 34,
     "metadata": {},
     "output_type": "execute_result"
    }
   ],
   "source": [
    "df.line_4.value_counts()"
   ]
  },
  {
   "cell_type": "code",
   "execution_count": 18,
   "id": "6df90402",
   "metadata": {},
   "outputs": [
    {
     "data": {
      "text/plain": [
       "(34315, 34315)"
      ]
     },
     "execution_count": 35,
     "metadata": {},
     "output_type": "execute_result"
    }
   ],
   "source": [
    "row_ID(df)"
   ]
  },
  {
   "cell_type": "code",
   "execution_count": 19,
   "id": "75cd0802",
   "metadata": {},
   "outputs": [
    {
     "name": "stdout",
     "output_type": "stream",
     "text": [
      "Variable         Type         Data/Info\n",
      "---------------------------------------\n",
      "df               DataFrame               PatientID gend<...>34315 rows x 228 columns]\n",
      "line_therapy     DataFrame               PatientID     <...>n[63375 rows x 9 columns]\n",
      "line_therapy_1   DataFrame               PatientID  lin<...>n[27309 rows x 2 columns]\n",
      "line_therapy_2   DataFrame               PatientID  lin<...>n[14445 rows x 2 columns]\n",
      "line_therapy_3   DataFrame               PatientID  lin<...>\\n[7406 rows x 2 columns]\n",
      "line_therapy_4   DataFrame               PatientID  lin<...>\\n[3651 rows x 2 columns]\n",
      "test             DataFrame              PatientID gende<...>[6863 rows x 224 columns]\n",
      "train            DataFrame               PatientID gend<...>27452 rows x 224 columns]\n"
     ]
    }
   ],
   "source": [
    "%whos DataFrame"
   ]
  },
  {
   "cell_type": "code",
   "execution_count": 20,
   "id": "8d48d148",
   "metadata": {},
   "outputs": [],
   "source": [
    "del line_therapy\n",
    "del line_therapy_1\n",
    "del line_therapy_2\n",
    "del line_therapy_3\n",
    "del line_therapy_4"
   ]
  },
  {
   "cell_type": "markdown",
   "id": "16a243af",
   "metadata": {},
   "source": [
    "### 1.3 Weight"
   ]
  },
  {
   "cell_type": "code",
   "execution_count": 21,
   "id": "d772d4fe",
   "metadata": {},
   "outputs": [
    {
     "name": "stderr",
     "output_type": "stream",
     "text": [
      "/Applications/anaconda3/lib/python3.7/site-packages/IPython/core/interactiveshell.py:3441: DtypeWarning: Columns (10) have mixed types.Specify dtype option on import or set low_memory=False.\n",
      "  exec(code_obj, self.user_global_ns, self.user_ns)\n"
     ]
    }
   ],
   "source": [
    "vitals = pd.read_csv('Vitals.csv')\n",
    "\n",
    "vitals = vitals[vitals['PatientID'].isin(df['PatientID'])]"
   ]
  },
  {
   "cell_type": "code",
   "execution_count": 22,
   "id": "f6744bd3",
   "metadata": {},
   "outputs": [],
   "source": [
    "enhanced_met = enhanced_met = pd.read_csv('Enhanced_MetastaticCRC.csv')\n",
    "\n",
    "enhanced_met = enhanced_met[enhanced_met['PatientID'].isin(df['PatientID'])]\n",
    "                                                              \n",
    "enhanced_met.loc[:, 'MetDiagnosisDate'] = pd.to_datetime(enhanced_met['MetDiagnosisDate'])\n",
    "\n",
    "enhanced_met = enhanced_met.rename(columns = {'MetDiagnosisDate': 'met_date'})"
   ]
  },
  {
   "cell_type": "markdown",
   "id": "c39c66ad",
   "metadata": {},
   "source": [
    "#### Weight and BMI"
   ]
  },
  {
   "cell_type": "code",
   "execution_count": 23,
   "id": "fdfb5453",
   "metadata": {},
   "outputs": [],
   "source": [
    "# Create weight dataframe; remove weight values that are empty or equal to zero.\n",
    "weight = (\n",
    "    vitals\n",
    "    .query('Test == \"body weight\"')\n",
    "    .filter(items = ['PatientID', 'TestDate', 'TestResultCleaned'])\n",
    "    .rename(columns = {'TestResultCleaned': 'weight'})\n",
    "    .dropna(subset = ['weight'])\n",
    "    .query('weight != 0')\n",
    ")"
   ]
  },
  {
   "cell_type": "code",
   "execution_count": 24,
   "id": "031c061b",
   "metadata": {},
   "outputs": [],
   "source": [
    "weight.loc[:, 'TestDate'] = pd.to_datetime(weight['TestDate'])"
   ]
  },
  {
   "cell_type": "code",
   "execution_count": 25,
   "id": "9dfd1e07",
   "metadata": {},
   "outputs": [],
   "source": [
    "weight = pd.merge(weight, enhanced_met[['PatientID', 'met_date']], on = 'PatientID', how = 'left')"
   ]
  },
  {
   "cell_type": "code",
   "execution_count": 26,
   "id": "9cda2f99",
   "metadata": {},
   "outputs": [],
   "source": [
    "# Weight elgibliity window is -60 to +60 from 6 months after metastatic diagnosis. \n",
    "weight_win_bmi = (\n",
    "    weight\n",
    "    .assign(weight_date_diff = ((weight['TestDate'] - (weight['met_date'] + pd.DateOffset(days = 180))).dt.days))\n",
    "    .query('weight_date_diff >= -60 and weight_date_diff <= 60')\n",
    ")"
   ]
  },
  {
   "cell_type": "code",
   "execution_count": 27,
   "id": "14fa63a0",
   "metadata": {},
   "outputs": [],
   "source": [
    "weight_win_bmi.loc[:, 'weight_date_diff'] = weight_win_bmi['weight_date_diff'].abs()"
   ]
  },
  {
   "cell_type": "code",
   "execution_count": 28,
   "id": "388e8f30",
   "metadata": {},
   "outputs": [],
   "source": [
    "# Select weight closest to +180 from metastatic diagnosis; lowest weight selected in the event of two weights on same day or equidistant. \n",
    "weight_bmi_wide = (\n",
    "    weight_win_bmi\n",
    "    .sort_values(by = ['PatientID', 'weight_date_diff', 'weight'], ascending = [True, True, True])\n",
    "    .drop_duplicates(subset = ['PatientID'], keep = 'first')\n",
    "    .filter(items = ['PatientID', 'weight'])\n",
    "    .rename(columns = {'weight': 'weight_180'})\n",
    ")"
   ]
  },
  {
   "cell_type": "code",
   "execution_count": 29,
   "id": "4ae83ce9",
   "metadata": {},
   "outputs": [],
   "source": [
    "# Dataframe of average height for each patient. \n",
    "height_avg = (\n",
    "    vitals\n",
    "    .query('Test == \"body height\"')\n",
    "    .filter(items = ['PatientID', 'TestResultCleaned'])\n",
    "    .groupby('PatientID')['TestResultCleaned'].mean()\n",
    "    .to_frame()\n",
    "    .reset_index()\n",
    "    .rename(columns = {'TestResultCleaned': 'height_avg'})\n",
    ")"
   ]
  },
  {
   "cell_type": "code",
   "execution_count": 30,
   "id": "52188079",
   "metadata": {},
   "outputs": [],
   "source": [
    "weight_bmi_wide = pd.merge(weight_bmi_wide, height_avg, on = 'PatientID', how = 'left')"
   ]
  },
  {
   "cell_type": "code",
   "execution_count": 31,
   "id": "6876d87d",
   "metadata": {},
   "outputs": [],
   "source": [
    "# Create BMI column. \n",
    "weight_bmi_wide = (\n",
    "    weight_bmi_wide\n",
    "    .assign(bmi_180 = lambda x: (x['weight_180']/(x['height_avg']*x['height_avg']))*10000)\n",
    "    .drop(columns = ['height_avg'])\n",
    ")"
   ]
  },
  {
   "cell_type": "code",
   "execution_count": 32,
   "id": "58944d87",
   "metadata": {},
   "outputs": [],
   "source": [
    "df = pd.merge(df, weight_bmi_wide, on = 'PatientID', how = 'outer')"
   ]
  },
  {
   "cell_type": "code",
   "execution_count": 33,
   "id": "9168a262",
   "metadata": {},
   "outputs": [
    {
     "data": {
      "text/plain": [
       "(34315, 34315)"
      ]
     },
     "execution_count": 50,
     "metadata": {},
     "output_type": "execute_result"
    }
   ],
   "source": [
    "row_ID(df)"
   ]
  },
  {
   "cell_type": "markdown",
   "id": "6986cac6",
   "metadata": {},
   "source": [
    "#### Percent change in weight "
   ]
  },
  {
   "cell_type": "code",
   "execution_count": 34,
   "id": "62df07fc",
   "metadata": {},
   "outputs": [],
   "source": [
    "# Select elgbility window of -90 to +365 days from metastatic diagnosis.\n",
    "weight_win_summary = (\n",
    "    weight\n",
    "    .assign(weight_date_diff = (weight['TestDate'] - weight['met_date']).dt.days)\n",
    "    .query('weight_date_diff >= -90 and weight_date_diff <= 365')\n",
    ")"
   ]
  },
  {
   "cell_type": "code",
   "execution_count": 35,
   "id": "b0a45acf",
   "metadata": {},
   "outputs": [],
   "source": [
    "# Select patients with more than 1 weight recording within elgibility window.\n",
    "weight_win_summary = weight_win_summary[weight_win_summary.duplicated(subset = ['PatientID'], keep = False)]"
   ]
  },
  {
   "cell_type": "code",
   "execution_count": 36,
   "id": "ad74d35d",
   "metadata": {},
   "outputs": [],
   "source": [
    "# Select weight from the earliest time within elgibility window. \n",
    "weight_tmin = weight_win_summary.loc[weight_win_summary.groupby('PatientID')['weight_date_diff'].idxmin()]"
   ]
  },
  {
   "cell_type": "code",
   "execution_count": 37,
   "id": "a564e122",
   "metadata": {},
   "outputs": [],
   "source": [
    "# Select weight from the latest time within elgibility window. \n",
    "weight_tmax = weight_win_summary.loc[weight_win_summary.groupby('PatientID')['weight_date_diff'].idxmax()]"
   ]
  },
  {
   "cell_type": "code",
   "execution_count": 38,
   "id": "959dbdc4",
   "metadata": {},
   "outputs": [],
   "source": [
    "# Combine above two dataframes and sort from earliest recorded weight to latest recorded weight for each patient. \n",
    "weight_tcomb = (\n",
    "    pd.concat([weight_tmin, weight_tmax])\n",
    "    .sort_values(by = ['PatientID', 'weight_date_diff'], ascending = True)\n",
    ")"
   ]
  },
  {
   "cell_type": "code",
   "execution_count": 39,
   "id": "487626e5",
   "metadata": {},
   "outputs": [],
   "source": [
    "weight_tcomb.loc[:, 'weight_pct_1yr'] = weight_tcomb.groupby('PatientID')['weight'].pct_change()"
   ]
  },
  {
   "cell_type": "code",
   "execution_count": 40,
   "id": "02117dea",
   "metadata": {},
   "outputs": [],
   "source": [
    "# Drop empty rows for weight_pct_change.\n",
    "weight_pct_wide = (\n",
    "    weight_tcomb\n",
    "    .dropna(subset = ['weight_pct_1yr'])\n",
    "    .filter(items = ['PatientID', 'weight_pct_1yr'])\n",
    ")"
   ]
  },
  {
   "cell_type": "code",
   "execution_count": 41,
   "id": "d5c78ec9",
   "metadata": {},
   "outputs": [],
   "source": [
    "df = pd.merge(df, weight_pct_wide, on = 'PatientID', how = 'outer')"
   ]
  },
  {
   "cell_type": "code",
   "execution_count": 42,
   "id": "3f837450",
   "metadata": {},
   "outputs": [
    {
     "data": {
      "text/plain": [
       "(34315, 34315)"
      ]
     },
     "execution_count": 59,
     "metadata": {},
     "output_type": "execute_result"
    }
   ],
   "source": [
    "row_ID(df)"
   ]
  },
  {
   "cell_type": "markdown",
   "id": "6465b767",
   "metadata": {},
   "source": [
    "#### Slope of weight "
   ]
  },
  {
   "cell_type": "code",
   "execution_count": 43,
   "id": "c67bd85b",
   "metadata": {},
   "outputs": [],
   "source": [
    "import datetime as dt\n",
    "from scipy.stats import linregress "
   ]
  },
  {
   "cell_type": "code",
   "execution_count": 44,
   "id": "8656f837",
   "metadata": {},
   "outputs": [],
   "source": [
    "weight_win_summary.loc[:, 'date_ordinal'] = weight_win_summary['TestDate'].map(dt.datetime.toordinal)"
   ]
  },
  {
   "cell_type": "code",
   "execution_count": 45,
   "id": "e3e66236",
   "metadata": {},
   "outputs": [
    {
     "name": "stderr",
     "output_type": "stream",
     "text": [
      "/Applications/anaconda3/lib/python3.7/site-packages/scipy/stats/_stats_mstats_common.py:170: RuntimeWarning: invalid value encountered in double_scalars\n",
      "  slope = ssxym / ssxm\n"
     ]
    }
   ],
   "source": [
    "# Dataframe of slope for weight recordings within window period (kg/day).\n",
    "weight_slope_wide = (\n",
    "    weight_win_summary\n",
    "    .groupby('PatientID')\n",
    "    .apply(lambda x: pd.Series(linregress(x['date_ordinal'], x['weight'])))\n",
    "    .rename(columns = {0: 'weight_slope_1yr'})\n",
    "    .reset_index()\n",
    "    .filter(items = ['PatientID', 'weight_slope_1yr'])) "
   ]
  },
  {
   "cell_type": "code",
   "execution_count": 46,
   "id": "3e07f787",
   "metadata": {},
   "outputs": [],
   "source": [
    "df = pd.merge(df, weight_slope_wide, on = 'PatientID', how = 'outer')"
   ]
  },
  {
   "cell_type": "code",
   "execution_count": 47,
   "id": "47c78f36",
   "metadata": {},
   "outputs": [
    {
     "data": {
      "text/plain": [
       "(34315, 34315)"
      ]
     },
     "execution_count": 64,
     "metadata": {},
     "output_type": "execute_result"
    }
   ],
   "source": [
    "row_ID(df)"
   ]
  },
  {
   "cell_type": "code",
   "execution_count": 48,
   "id": "a14ebacc",
   "metadata": {},
   "outputs": [
    {
     "name": "stdout",
     "output_type": "stream",
     "text": [
      "Variable             Type         Data/Info\n",
      "-------------------------------------------\n",
      "df                   DataFrame               PatientID gend<...>34315 rows x 232 columns]\n",
      "enhanced_met         DataFrame               PatientID Diag<...>n[34315 rows x 5 columns]\n",
      "height_avg           DataFrame               PatientID  hei<...>n[34056 rows x 2 columns]\n",
      "test                 DataFrame              PatientID gende<...>[6863 rows x 224 columns]\n",
      "train                DataFrame               PatientID gend<...>27452 rows x 224 columns]\n",
      "vitals               DataFrame                  PatientID  <...>646440 rows x 16 columns]\n",
      "weight               DataFrame                 PatientID   <...>1343382 rows x 4 columns]\n",
      "weight_bmi_wide      DataFrame               PatientID  wei<...>n[22680 rows x 3 columns]\n",
      "weight_pct_wide      DataFrame                 PatientID  w<...>n[29829 rows x 2 columns]\n",
      "weight_slope_wide    DataFrame               PatientID  wei<...>n[29829 rows x 2 columns]\n",
      "weight_tcomb         DataFrame                 PatientID   <...>n[59658 rows x 6 columns]\n",
      "weight_tmax          DataFrame                 PatientID   <...>n[29829 rows x 5 columns]\n",
      "weight_tmin          DataFrame                 PatientID   <...>n[29829 rows x 5 columns]\n",
      "weight_win_bmi       DataFrame                 PatientID   <...>[195221 rows x 5 columns]\n",
      "weight_win_summary   DataFrame                 PatientID   <...>[606433 rows x 6 columns]\n"
     ]
    }
   ],
   "source": [
    "%whos DataFrame"
   ]
  },
  {
   "cell_type": "code",
   "execution_count": 49,
   "id": "e7cf1965",
   "metadata": {},
   "outputs": [],
   "source": [
    "del height_avg\n",
    "del vitals\n",
    "del weight\n",
    "del weight_bmi_wide\n",
    "del weight_pct_wide\n",
    "del weight_slope_wide\n",
    "del weight_tcomb\n",
    "del weight_tmax\n",
    "del weight_tmin\n",
    "del weight_win_bmi\n",
    "del weight_win_summary"
   ]
  },
  {
   "cell_type": "markdown",
   "id": "dcbca2da",
   "metadata": {},
   "source": [
    "### 1.4 Static labs "
   ]
  },
  {
   "cell_type": "code",
   "execution_count": 50,
   "id": "97ff3ddf",
   "metadata": {},
   "outputs": [],
   "source": [
    "lab = pd.read_csv('Lab.csv')"
   ]
  },
  {
   "cell_type": "code",
   "execution_count": 51,
   "id": "5253f5f9",
   "metadata": {},
   "outputs": [],
   "source": [
    "lab = lab[lab['PatientID'].isin(df['PatientID'])]"
   ]
  },
  {
   "cell_type": "code",
   "execution_count": 52,
   "id": "b064466a",
   "metadata": {},
   "outputs": [],
   "source": [
    "lab = pd.merge(lab, enhanced_met[['PatientID', 'met_date']], on = 'PatientID', how = 'left')"
   ]
  },
  {
   "cell_type": "code",
   "execution_count": 53,
   "id": "54d77e16",
   "metadata": {},
   "outputs": [],
   "source": [
    "lab.loc[:, 'ResultDate'] = pd.to_datetime(lab['ResultDate']) "
   ]
  },
  {
   "cell_type": "code",
   "execution_count": 54,
   "id": "376cc195",
   "metadata": {},
   "outputs": [],
   "source": [
    "# Select rows with clinically relevant labs.\n",
    "lab_core = (\n",
    "    lab[\n",
    "    (lab['LOINC'] == \"2160-0\") |\n",
    "    (lab['LOINC'] == \"38483-4\") | \n",
    "    (lab['LOINC'] == \"718-7\") |\n",
    "    (lab['LOINC'] == \"20509-6\") |\n",
    "    (lab['LOINC'] == \"26464-8\") |\n",
    "    (lab['LOINC'] == \"6690-2\") |\n",
    "    (lab['LOINC'] == \"26499-4\") |\n",
    "    (lab['LOINC'] == \"751-8\") |\n",
    "    (lab['LOINC'] == \"30451-9\") |\n",
    "    (lab['LOINC'] == \"753-4\") |\n",
    "    (lab['LOINC'] == \"1751-7\") |\n",
    "    (lab['LOINC'] == \"42719-5\") |\n",
    "    (lab['LOINC'] == \"1975-2\") |\n",
    "    (lab['LOINC'] == \"2947-0\") |\n",
    "    (lab['LOINC'] == \"2951-2\") |\n",
    "    (lab['LOINC'] == \"1963-8\") |\n",
    "    (lab['LOINC'] == \"1959-6\") |\n",
    "    (lab['LOINC'] == \"14627-4\") |\n",
    "    (lab['LOINC'] == \"1960-4\") |\n",
    "    (lab['LOINC'] == \"2028-9\") |\n",
    "    (lab['LOINC'] == \"17861-6\") |\n",
    "    (lab['LOINC'] == \"49765-1\") |\n",
    "    (lab['LOINC'] == \"1920-8\") |\n",
    "    (lab['LOINC'] == \"1742-6\") | \n",
    "    (lab['LOINC'] == \"1743-4\") |\n",
    "    (lab['LOINC'] == \"1744-2\") |\n",
    "    (lab['LOINC'] == \"26515-7\") | \n",
    "    (lab['LOINC'] == \"777-3\") |\n",
    "    (lab['LOINC'] == \"778-1\") |\n",
    "    (lab['LOINC'] == \"49497-1\") | \n",
    "    (lab['LOINC'] == \"6298-4\") |\n",
    "    (lab['LOINC'] == \"2823-3\") |\n",
    "    (lab['LOINC'] == \"2075-0\") | \n",
    "    (lab['LOINC'] == \"3094-0\") |\n",
    "    (lab['LOINC'] == \"6768-6\") |\n",
    "    (lab['LOINC'] == \"2039-6\")]\n",
    "    .filter(items = ['PatientID', \n",
    "                     'ResultDate', \n",
    "                     'LOINC', \n",
    "                     'LabComponent', \n",
    "                     'TestUnits', \n",
    "                     'TestUnitsCleaned', \n",
    "                     'TestResult', \n",
    "                     'TestResultCleaned', \n",
    "                     'met_date'])\n",
    ")"
   ]
  },
  {
   "cell_type": "code",
   "execution_count": 55,
   "id": "83aa248e",
   "metadata": {},
   "outputs": [],
   "source": [
    "conditions = [\n",
    "    ((lab_core['LOINC'] == '2160-0') | (lab_core['LOINC'] == '38483-4')),\n",
    "    ((lab_core['LOINC'] == '718-7') | (lab_core['LOINC'] == '20509-6')),\n",
    "    ((lab_core['LOINC'] == '26464-8') | (lab_core['LOINC'] == '6690-2')), \n",
    "    ((lab_core['LOINC'] == '26499-4') | (lab_core['LOINC'] == '751-8') | (lab_core['LOINC'] == '30451-9') | (lab_core['LOINC'] == '753-4')),\n",
    "    (lab_core['LOINC'] == '1751-7'),\n",
    "    ((lab_core['LOINC'] == '42719-5') | (lab_core['LOINC'] == '1975-2')),\n",
    "    ((lab_core['LOINC'] == '2947-0') | (lab_core['LOINC'] == '2951-2')),\n",
    "    ((lab_core['LOINC'] == '1963-8') | (lab_core['LOINC'] == '1959-6') | (lab_core['LOINC'] == '14627-4') | (lab_core['LOINC'] == '1960-4') | (lab_core['LOINC'] == '2028-9')),\n",
    "    ((lab_core['LOINC'] == '17861-6') | (lab_core['LOINC'] == '49765-1')),\n",
    "    (lab_core['LOINC'] == '1920-8'),\n",
    "    ((lab_core['LOINC'] == '1742-6') | (lab_core['LOINC'] == '1743-4') | (lab_core['LOINC'] == '1744-2')),\n",
    "    ((lab_core['LOINC'] == '26515-7') | (lab_core['LOINC'] == '777-3') | (lab_core['LOINC'] == '778-1') | (lab_core['LOINC'] == '49497-1')),\n",
    "    ((lab_core['LOINC'] == '6298-4') | (lab_core['LOINC'] == '2823-3')),\n",
    "    (lab_core['LOINC'] == '2075-0'), \n",
    "    (lab_core['LOINC'] == '3094-0'),\n",
    "    (lab_core['LOINC'] == '6768-6'),\n",
    "    (lab_core['LOINC'] == '2039-6')]\n",
    "\n",
    "choices = ['creatinine', \n",
    "           'hemoglobin', \n",
    "           'wbc', \n",
    "           'neutrophil_count',  \n",
    "           'albumin', \n",
    "           'total_bilirubin', \n",
    "           'sodium', \n",
    "           'bicarb',\n",
    "           'calcium',\n",
    "           'ast', \n",
    "           'alt',\n",
    "           'platelet',\n",
    "           'potassium', \n",
    "           'chloride',\n",
    "           'bun',\n",
    "           'alp',\n",
    "           'cea']\n",
    "\n",
    "lab_core.loc[:, 'lab_name'] = np.select(conditions, choices)"
   ]
  },
  {
   "cell_type": "code",
   "execution_count": 56,
   "id": "812a374c",
   "metadata": {},
   "outputs": [],
   "source": [
    "lab_core = (\n",
    "    lab_core\n",
    "    .dropna(subset = ['TestResultCleaned'])\n",
    ")"
   ]
  },
  {
   "cell_type": "code",
   "execution_count": 57,
   "id": "d2c9d0df",
   "metadata": {},
   "outputs": [],
   "source": [
    "conditions = [\n",
    "    ((lab_core['lab_name'] == 'wbc') | (lab_core['lab_name'] == 'neutrophil_count') | (lab_core['lab_name'] == 'platelet')) & \n",
    "    (lab_core['TestUnits'] == '10*3/L'),\n",
    "    (lab_core['lab_name'] == 'hemoglobin') & (lab_core['TestUnits'] == 'g/uL')]\n",
    "\n",
    "choices = [lab_core['TestResultCleaned'] * 1000000,\n",
    "           lab_core['TestResultCleaned'] / 100000]\n",
    "\n",
    "lab_core.loc[:, 'test_result_cleaned'] = np.select(conditions, choices, default = lab_core['TestResultCleaned'])"
   ]
  },
  {
   "cell_type": "code",
   "execution_count": 58,
   "id": "38d1e4ef",
   "metadata": {},
   "outputs": [],
   "source": [
    "# Elgibliity window is +30 to +330 from metastatic diagnosis. \n",
    "lab_core_win = (\n",
    "    lab_core\n",
    "    .assign(lab_date_diff = ((lab_core['ResultDate'] - (lab_core['met_date'] + pd.DateOffset(days = 180))).dt.days))\n",
    "    .query('lab_date_diff >= -150 and lab_date_diff <= 150')\n",
    "    .filter(items = ['PatientID', 'ResultDate', 'TestResultCleaned', 'lab_name', 'met_date', 'test_result_cleaned', 'lab_date_diff'])\n",
    ")"
   ]
  },
  {
   "cell_type": "code",
   "execution_count": 59,
   "id": "4e08dca6",
   "metadata": {},
   "outputs": [],
   "source": [
    "lab_core_win.loc[:, 'lab_date_diff'] = lab_core_win['lab_date_diff'].abs()"
   ]
  },
  {
   "cell_type": "code",
   "execution_count": 60,
   "id": "2a0c62e4",
   "metadata": {},
   "outputs": [],
   "source": [
    "# Select lab closest to 180 days after metastatic diagnosis and then pivot to a wide table. \n",
    "lab_180_wide = (\n",
    "    lab_core_win\n",
    "    .loc[lab_core_win.groupby(['PatientID', 'lab_name'])['lab_date_diff'].idxmin()]\n",
    "    .pivot(index = 'PatientID', columns = 'lab_name', values = 'test_result_cleaned')\n",
    "    .reset_index()\n",
    "    .rename(columns = {\n",
    "        'albumin': 'albumin_180',\n",
    "        'creatinine': 'creatinine_180',\n",
    "        'hemoglobin': 'hemoglobin_180',\n",
    "        'neutrophil_count': 'neutrophil_count_180',\n",
    "        'total_bilirubin': 'total_bilirubin_180',\n",
    "        'wbc': 'wbc_180',\n",
    "        'sodium': 'sodium_180', \n",
    "        'bicarb': 'bicarb_180',\n",
    "        'calcium': 'calcium_180',\n",
    "        'ast': 'ast_180', \n",
    "        'alt': 'alt_180',\n",
    "        'platelet': 'platelet_180',\n",
    "        'potassium': 'potassium_180',\n",
    "        'chloride': 'chloride_180',\n",
    "        'bun': 'bun_180', \n",
    "        'alp': 'alp_180',\n",
    "        'cea': 'cea_180'})\n",
    ")\n",
    "\n",
    "lab_180_wide.columns.name = None"
   ]
  },
  {
   "cell_type": "code",
   "execution_count": 61,
   "id": "e060e088",
   "metadata": {},
   "outputs": [],
   "source": [
    "df = pd.merge(df, lab_180_wide, on = 'PatientID', how = 'outer')"
   ]
  },
  {
   "cell_type": "code",
   "execution_count": 62,
   "id": "fa57aebd",
   "metadata": {},
   "outputs": [
    {
     "data": {
      "text/plain": [
       "(34315, 34315)"
      ]
     },
     "execution_count": 80,
     "metadata": {},
     "output_type": "execute_result"
    }
   ],
   "source": [
    "row_ID(df)"
   ]
  },
  {
   "cell_type": "markdown",
   "id": "1b7c6f64",
   "metadata": {},
   "source": [
    "### 1.5 Summary labs"
   ]
  },
  {
   "cell_type": "code",
   "execution_count": 63,
   "id": "362a1589",
   "metadata": {},
   "outputs": [],
   "source": [
    "# Elgibility window is negative infinity to +365 from metastatic diagnosis. \n",
    "lab_core_win_summ = (\n",
    "    lab_core\n",
    "    .assign(lab_date_diff = (lab_core['ResultDate'] - lab_core['met_date']).dt.days)\n",
    "    .query('lab_date_diff <= 365')\n",
    "    .filter(items = ['PatientID', 'ResultDate', 'TestResultCleaned', 'lab_name', 'met_date', 'test_result_cleaned', 'lab_date_diff'])\n",
    ")"
   ]
  },
  {
   "cell_type": "code",
   "execution_count": 64,
   "id": "bda05a50",
   "metadata": {},
   "outputs": [],
   "source": [
    "# Pivot table of maximum values for core labs during elgibility period of -inf to +150 days from advanced diagnosis. \n",
    "lab_max_wide = (\n",
    "    lab_core_win_summ\n",
    "    .groupby(['PatientID', 'lab_name'])['test_result_cleaned'].max()\n",
    "    .to_frame()\n",
    "    .reset_index()\n",
    "    .pivot(index = 'PatientID', columns = 'lab_name', values = 'test_result_cleaned')\n",
    "    .filter(items = ['alp', 'alt', 'ast', 'cea', 'creatinine', 'total_bilirubin', 'wbc'])\n",
    "    .reset_index()\n",
    "    .rename(columns = {\n",
    "        'alp': 'alp_max_f',\n",
    "        'alt': 'alt_max_f',\n",
    "        'ast': 'ast_max_f',\n",
    "        'cea': 'cea_max_f',\n",
    "        'creatinine': 'creatinine_max_f',\n",
    "        'total_bilirubin': 'total_bilirubin_max_f',\n",
    "        'wbc': 'wbc_max_f'})\n",
    ")\n",
    "\n",
    "lab_max_wide.columns.name = None"
   ]
  },
  {
   "cell_type": "code",
   "execution_count": 65,
   "id": "58fba02f",
   "metadata": {},
   "outputs": [],
   "source": [
    "# Pivot table of minimum values for core labs during elgibility period of -inf to +150 days from advanced diagnosis. \n",
    "lab_min_wide = (\n",
    "    lab_core_win_summ\n",
    "    .groupby(['PatientID', 'lab_name'])['test_result_cleaned'].min()\n",
    "    .to_frame()\n",
    "    .reset_index()\n",
    "    .pivot(index = 'PatientID', columns = 'lab_name', values = 'test_result_cleaned')\n",
    "    .filter(items = ['albumin', 'bicarb', 'hemoglobin', 'platelet', 'sodium', 'wbc'])\n",
    "    .reset_index()\n",
    "    .rename(columns = {\n",
    "        'albumin': 'albumin_min_f',\n",
    "        'bicarb': 'bicarb_min_f',\n",
    "        'hemoglobin': 'hemoglobin_min_f',\n",
    "        'platelet': 'platelet_min_f',\n",
    "        'sodium': 'sodium_min_f', \n",
    "        'wbc': 'wbc_min_f'})\n",
    ")\n",
    "\n",
    "lab_min_wide.columns.name = None"
   ]
  },
  {
   "cell_type": "code",
   "execution_count": 66,
   "id": "ab49fad1",
   "metadata": {},
   "outputs": [],
   "source": [
    "df = pd.merge(df, lab_max_wide, on = 'PatientID', how = 'outer')"
   ]
  },
  {
   "cell_type": "code",
   "execution_count": 67,
   "id": "f34fc2fa",
   "metadata": {},
   "outputs": [
    {
     "data": {
      "text/plain": [
       "(34315, 34315)"
      ]
     },
     "execution_count": 85,
     "metadata": {},
     "output_type": "execute_result"
    }
   ],
   "source": [
    "row_ID(df)"
   ]
  },
  {
   "cell_type": "code",
   "execution_count": 68,
   "id": "d4c7154e",
   "metadata": {},
   "outputs": [],
   "source": [
    "df = pd.merge(df, lab_min_wide, on = 'PatientID', how = 'outer')"
   ]
  },
  {
   "cell_type": "code",
   "execution_count": 69,
   "id": "e0d8e7b0",
   "metadata": {},
   "outputs": [
    {
     "data": {
      "text/plain": [
       "(34315, 34315)"
      ]
     },
     "execution_count": 87,
     "metadata": {},
     "output_type": "execute_result"
    }
   ],
   "source": [
    "row_ID(df)"
   ]
  },
  {
   "cell_type": "code",
   "execution_count": 70,
   "id": "5f9889b8",
   "metadata": {},
   "outputs": [
    {
     "name": "stdout",
     "output_type": "stream",
     "text": [
      "Variable            Type         Data/Info\n",
      "------------------------------------------\n",
      "df                  DataFrame               PatientID gend<...>34315 rows x 262 columns]\n",
      "enhanced_met        DataFrame               PatientID Diag<...>n[34315 rows x 5 columns]\n",
      "lab                 DataFrame                  PatientID  <...>620401 rows x 18 columns]\n",
      "lab_180_wide        DataFrame               PatientID  alb<...>[27325 rows x 18 columns]\n",
      "lab_core            DataFrame                  PatientID R<...>458312 rows x 11 columns]\n",
      "lab_core_win        DataFrame                  PatientID R<...>5132456 rows x 7 columns]\n",
      "lab_core_win_summ   DataFrame                  PatientID R<...>8399045 rows x 7 columns]\n",
      "lab_max_wide        DataFrame               PatientID  alp<...>n[30691 rows x 8 columns]\n",
      "lab_min_wide        DataFrame               PatientID  alb<...>n[30691 rows x 7 columns]\n",
      "test                DataFrame              PatientID gende<...>[6863 rows x 224 columns]\n",
      "train               DataFrame               PatientID gend<...>27452 rows x 224 columns]\n"
     ]
    }
   ],
   "source": [
    "%whos DataFrame"
   ]
  },
  {
   "cell_type": "code",
   "execution_count": 71,
   "id": "f39c1928",
   "metadata": {},
   "outputs": [],
   "source": [
    "del enhanced_met\n",
    "del lab\n",
    "del lab_180_wide\n",
    "del lab_core\n",
    "del lab_core_win\n",
    "del lab_core_win_summ\n",
    "del lab_max_wide\n",
    "del lab_min_wide"
   ]
  },
  {
   "cell_type": "markdown",
   "id": "9e540b48",
   "metadata": {},
   "source": [
    "### 1.6 Replacing 'unknown' with np.nan for variables of interest"
   ]
  },
  {
   "cell_type": "code",
   "execution_count": 72,
   "id": "5daf1d9b",
   "metadata": {},
   "outputs": [],
   "source": [
    "df = df.replace({'stage': {'unknown': np.nan, '0': 'I'},\n",
    "                 'ecog_diagnosis': {'unknown': np.nan}})"
   ]
  },
  {
   "cell_type": "code",
   "execution_count": 73,
   "id": "30661833",
   "metadata": {},
   "outputs": [
    {
     "data": {
      "text/plain": [
       "IV     18706\n",
       "III     8424\n",
       "II      3840\n",
       "NaN     2410\n",
       "I        935\n",
       "Name: stage, dtype: int64"
      ]
     },
     "execution_count": 93,
     "metadata": {},
     "output_type": "execute_result"
    }
   ],
   "source": [
    "df.stage.value_counts(dropna = False)"
   ]
  },
  {
   "cell_type": "code",
   "execution_count": 74,
   "id": "6c8c405a",
   "metadata": {},
   "outputs": [
    {
     "data": {
      "text/plain": [
       "NaN    18484\n",
       "0.0     7261\n",
       "1.0     6200\n",
       "2.0     1837\n",
       "3.0      486\n",
       "4.0       47\n",
       "Name: ecog_diagnosis, dtype: int64"
      ]
     },
     "execution_count": 94,
     "metadata": {},
     "output_type": "execute_result"
    }
   ],
   "source": [
    "df.ecog_diagnosis.value_counts(dropna = False)"
   ]
  },
  {
   "cell_type": "markdown",
   "id": "0ad9ad76",
   "metadata": {},
   "source": [
    "### 1.7 Dropping unwanted summary variables "
   ]
  },
  {
   "cell_type": "code",
   "execution_count": 75,
   "id": "960234a0",
   "metadata": {},
   "outputs": [],
   "source": [
    "drop_labs = [\n",
    "    'albumin_avg',\n",
    "    'alp_avg',\n",
    "    'alt_avg',\n",
    "    'ast_avg',\n",
    "    'bicarb_avg',\n",
    "    'bun_avg',\n",
    "    'calcium_avg',\n",
    "    'cea_avg',\n",
    "    'chloride_avg',\n",
    "    'creatinine_avg',\n",
    "    'hemoglobin_avg',\n",
    "    'neutrophil_count_avg',\n",
    "    'platelet_avg',\n",
    "    'potassium_avg',\n",
    "    'sodium_avg',\n",
    "    'total_bilirubin_avg',\n",
    "    'wbc_avg',\n",
    "    'albumin_max',\n",
    "    'bicarb_max',\n",
    "    'bun_max',\n",
    "    'calcium_max',\n",
    "    'chloride_max',\n",
    "    'hemoglobin_max',\n",
    "    'neutrophil_count_max',\n",
    "    'platelet_max',\n",
    "    'potassium_max',\n",
    "    'sodium_max',\n",
    "    'alp_min',\n",
    "    'alt_min',\n",
    "    'ast_min',\n",
    "    'bun_min',\n",
    "    'calcium_min',\n",
    "    'cea_min',\n",
    "    'chloride_min',\n",
    "    'creatinine_min',\n",
    "    'neutrophil_count_min',\n",
    "    'potassium_min',\n",
    "    'total_bilirubin_min',\n",
    "    'albumin_std',\n",
    "    'alp_std',\n",
    "    'alt_std',\n",
    "    'ast_std',\n",
    "    'bicarb_std',\n",
    "    'bun_std',\n",
    "    'calcium_std',\n",
    "    'cea_std',\n",
    "    'chloride_std',\n",
    "    'creatinine_std',\n",
    "    'hemoglobin_std',\n",
    "    'neutrophil_count_std',\n",
    "    'platelet_std',\n",
    "    'potassium_std',\n",
    "    'sodium_std',\n",
    "    'total_bilirubin_std',\n",
    "    'wbc_std',\n",
    "    'albumin_slope',\n",
    "    'alp_slope',\n",
    "    'alt_slope',\n",
    "    'ast_slope',\n",
    "    'bicarb_slope',\n",
    "    'bun_slope',\n",
    "    'calcium_slope',\n",
    "    'cea_slope',\n",
    "    'chloride_slope',\n",
    "    'creatinine_slope',\n",
    "    'hemoglobin_slope',\n",
    "    'neutrophil_count_slope',\n",
    "    'platelet_slope',\n",
    "    'potassium_slope',\n",
    "    'sodium_slope',\n",
    "    'total_bilirubin_slope',\n",
    "    'wbc_slope',\n",
    "    'albumin_slope_na',\n",
    "    'alp_slope_na',\n",
    "    'alt_slope_na',\n",
    "    'ast_slope_na',\n",
    "    'bicarb_slope_na',\n",
    "    'bun_slope_na',\n",
    "    'calcium_slope_na',\n",
    "    'cea_slope_na',\n",
    "    'chloride_slope_na',\n",
    "    'creatinine_slope_na',\n",
    "    'hemoglobin_slope_na',\n",
    "    'neutrophil_count_slope_na',\n",
    "    'platelet_slope_na',\n",
    "    'potassium_slope_na',\n",
    "    'sodium_slope_na',\n",
    "    'total_bilirubin_slope_na',\n",
    "    'wbc_slope_na']"
   ]
  },
  {
   "cell_type": "code",
   "execution_count": 76,
   "id": "c6e90b9f",
   "metadata": {},
   "outputs": [],
   "source": [
    "df = df.drop(columns = drop_labs)"
   ]
  },
  {
   "cell_type": "code",
   "execution_count": 77,
   "id": "2221c1a5",
   "metadata": {},
   "outputs": [
    {
     "data": {
      "text/plain": [
       "(34315, 173)"
      ]
     },
     "execution_count": 97,
     "metadata": {},
     "output_type": "execute_result"
    }
   ],
   "source": [
    "df.shape"
   ]
  },
  {
   "cell_type": "code",
   "execution_count": 78,
   "id": "d581c57e",
   "metadata": {},
   "outputs": [],
   "source": [
    "df.loc[:, 'alp_max_na'] = np.where(df['alp_max'].isna(), 1, 0)\n",
    "df.loc[:, 'alt_max_na'] = np.where(df['alt_max'].isna(), 1, 0)\n",
    "df.loc[:, 'ast_max_na'] = np.where(df['ast_max'].isna(), 1, 0)\n",
    "df.loc[:, 'cea_max_na'] = np.where(df['cea_max'].isna(), 1, 0)\n",
    "df.loc[:, 'creatinine_max_na'] = np.where(df['creatinine_max'].isna(), 1, 0)\n",
    "df.loc[:, 'total_bilirubin_max_na'] = np.where(df['total_bilirubin_max'].isna(), 1, 0)\n",
    "df.loc[:, 'wbc_max_na'] = np.where(df['wbc_max'].isna(), 1, 0)\n",
    "df.loc[:, 'albumin_min_na'] = np.where(df['albumin_min'].isna(), 1, 0)\n",
    "df.loc[:, 'bicarb_min_na'] = np.where(df['bicarb_min'].isna(), 1, 0)\n",
    "df.loc[:, 'hemoglobin_min_na'] = np.where(df['hemoglobin_min'].isna(), 1, 0)\n",
    "df.loc[:, 'platelet_min_na'] = np.where(df['platelet_min'].isna(), 1, 0)\n",
    "df.loc[:, 'sodium_min_na'] = np.where(df['sodium_min'].isna(), 1, 0)\n",
    "df.loc[:, 'wbc_min_na'] = np.where(df['wbc_min'].isna(), 1, 0)"
   ]
  },
  {
   "cell_type": "code",
   "execution_count": 79,
   "id": "3587d724",
   "metadata": {},
   "outputs": [
    {
     "data": {
      "text/plain": [
       "(34315, 186)"
      ]
     },
     "execution_count": 99,
     "metadata": {},
     "output_type": "execute_result"
    }
   ],
   "source": [
    "df.shape"
   ]
  },
  {
   "cell_type": "code",
   "execution_count": 80,
   "id": "41ad948e",
   "metadata": {},
   "outputs": [
    {
     "data": {
      "text/plain": [
       "(34315, 34315)"
      ]
     },
     "execution_count": 100,
     "metadata": {},
     "output_type": "execute_result"
    }
   ],
   "source": [
    "row_ID(df)"
   ]
  },
  {
   "cell_type": "code",
   "execution_count": 81,
   "id": "a6a42b7a",
   "metadata": {},
   "outputs": [],
   "source": [
    "df_mice = df"
   ]
  },
  {
   "cell_type": "code",
   "execution_count": 82,
   "id": "9d745316",
   "metadata": {},
   "outputs": [],
   "source": [
    "df_mice.to_csv('df_mice.csv', index = False, header = True)"
   ]
  },
  {
   "cell_type": "markdown",
   "id": "da17311c",
   "metadata": {},
   "source": [
    "### 1.8 Final processing"
   ]
  },
  {
   "cell_type": "code",
   "execution_count": 83,
   "id": "ec3ec28f",
   "metadata": {},
   "outputs": [],
   "source": [
    "train_mice = df_mice[df_mice['PatientID'].isin(train['PatientID'])]\n",
    "train_mice = train_mice.set_index('PatientID')"
   ]
  },
  {
   "cell_type": "code",
   "execution_count": 84,
   "id": "a3995482",
   "metadata": {},
   "outputs": [],
   "source": [
    "test_mice = df_mice[df_mice['PatientID'].isin(test['PatientID'])]\n",
    "test_mice = test_mice.set_index('PatientID')"
   ]
  },
  {
   "cell_type": "code",
   "execution_count": 85,
   "id": "81fab374",
   "metadata": {},
   "outputs": [
    {
     "data": {
      "text/plain": [
       "(27452, 185)"
      ]
     },
     "execution_count": 105,
     "metadata": {},
     "output_type": "execute_result"
    }
   ],
   "source": [
    "train_mice.shape"
   ]
  },
  {
   "cell_type": "code",
   "execution_count": 86,
   "id": "2e087559",
   "metadata": {},
   "outputs": [
    {
     "data": {
      "text/plain": [
       "(6863, 185)"
      ]
     },
     "execution_count": 106,
     "metadata": {},
     "output_type": "execute_result"
    }
   ],
   "source": [
    "test_mice.shape"
   ]
  },
  {
   "cell_type": "code",
   "execution_count": 87,
   "id": "391a69e0",
   "metadata": {},
   "outputs": [
    {
     "data": {
      "text/plain": [
       "['gender',\n",
       " 'race',\n",
       " 'ethnicity',\n",
       " 'p_type',\n",
       " 'region',\n",
       " 'stage',\n",
       " 'crc_site',\n",
       " 'KRAS',\n",
       " 'dMMR_MSIh',\n",
       " 'NRAS',\n",
       " 'BRAF',\n",
       " 'ecog_diagnosis']"
      ]
     },
     "execution_count": 107,
     "metadata": {},
     "output_type": "execute_result"
    }
   ],
   "source": [
    "list(train_mice.select_dtypes(include = ['object']).columns)"
   ]
  },
  {
   "cell_type": "code",
   "execution_count": 88,
   "id": "f00cca17",
   "metadata": {},
   "outputs": [],
   "source": [
    "to_be_categorical = list(train_mice.select_dtypes(include = ['object']).columns)"
   ]
  },
  {
   "cell_type": "code",
   "execution_count": 89,
   "id": "911a68d7",
   "metadata": {},
   "outputs": [],
   "source": [
    "to_be_categorical.append('met_year')"
   ]
  },
  {
   "cell_type": "code",
   "execution_count": 90,
   "id": "24e30228",
   "metadata": {},
   "outputs": [],
   "source": [
    "to_be_categorical.append('ses')"
   ]
  },
  {
   "cell_type": "code",
   "execution_count": 91,
   "id": "f9794759",
   "metadata": {},
   "outputs": [],
   "source": [
    "# miceforest requires columns to be category or int/float, so object columns will be converted to category. \n",
    "for x in list(to_be_categorical):\n",
    "    train_mice[x] = train_mice[x].astype('category')"
   ]
  },
  {
   "cell_type": "code",
   "execution_count": 92,
   "id": "8d91af9f",
   "metadata": {},
   "outputs": [],
   "source": [
    "# Convert variables in list to categorical.\n",
    "for x in list(to_be_categorical):\n",
    "    test_mice[x] = test_mice[x].astype('category')"
   ]
  },
  {
   "cell_type": "code",
   "execution_count": 93,
   "id": "1384fa0c",
   "metadata": {},
   "outputs": [
    {
     "data": {
      "text/plain": [
       "['gender',\n",
       " 'race',\n",
       " 'ethnicity',\n",
       " 'p_type',\n",
       " 'region',\n",
       " 'stage',\n",
       " 'met_year',\n",
       " 'crc_site',\n",
       " 'KRAS',\n",
       " 'dMMR_MSIh',\n",
       " 'NRAS',\n",
       " 'BRAF',\n",
       " 'ecog_diagnosis',\n",
       " 'ses']"
      ]
     },
     "execution_count": 113,
     "metadata": {},
     "output_type": "execute_result"
    }
   ],
   "source": [
    "list(train_mice.select_dtypes(include = ['category']).columns)"
   ]
  },
  {
   "cell_type": "code",
   "execution_count": 94,
   "id": "ef5b34d0",
   "metadata": {},
   "outputs": [
    {
     "data": {
      "text/plain": [
       "['stage',\n",
       " 'ecog_diagnosis',\n",
       " 'weight_diag',\n",
       " 'bmi_diag',\n",
       " 'weight_pct_change',\n",
       " 'weight_slope',\n",
       " 'albumin_diag',\n",
       " 'alp_diag',\n",
       " 'alt_diag',\n",
       " 'ast_diag',\n",
       " 'bicarb_diag',\n",
       " 'bun_diag',\n",
       " 'calcium_diag',\n",
       " 'cea_diag',\n",
       " 'chloride_diag',\n",
       " 'creatinine_diag',\n",
       " 'hemoglobin_diag',\n",
       " 'neutrophil_count_diag',\n",
       " 'platelet_diag',\n",
       " 'potassium_diag',\n",
       " 'sodium_diag',\n",
       " 'total_bilirubin_diag',\n",
       " 'wbc_diag',\n",
       " 'alp_max',\n",
       " 'alt_max',\n",
       " 'ast_max',\n",
       " 'cea_max',\n",
       " 'creatinine_max',\n",
       " 'total_bilirubin_max',\n",
       " 'wbc_max',\n",
       " 'albumin_min',\n",
       " 'bicarb_min',\n",
       " 'hemoglobin_min',\n",
       " 'platelet_min',\n",
       " 'sodium_min',\n",
       " 'wbc_min',\n",
       " 'ses',\n",
       " 'weight_180',\n",
       " 'bmi_180',\n",
       " 'weight_pct_1yr',\n",
       " 'weight_slope_1yr',\n",
       " 'albumin_180',\n",
       " 'alp_180',\n",
       " 'alt_180',\n",
       " 'ast_180',\n",
       " 'bicarb_180',\n",
       " 'bun_180',\n",
       " 'calcium_180',\n",
       " 'cea_180',\n",
       " 'chloride_180',\n",
       " 'creatinine_180',\n",
       " 'hemoglobin_180',\n",
       " 'neutrophil_count_180',\n",
       " 'platelet_180',\n",
       " 'potassium_180',\n",
       " 'sodium_180',\n",
       " 'total_bilirubin_180',\n",
       " 'wbc_180',\n",
       " 'alp_max_f',\n",
       " 'alt_max_f',\n",
       " 'ast_max_f',\n",
       " 'cea_max_f',\n",
       " 'creatinine_max_f',\n",
       " 'total_bilirubin_max_f',\n",
       " 'wbc_max_f',\n",
       " 'albumin_min_f',\n",
       " 'bicarb_min_f',\n",
       " 'hemoglobin_min_f',\n",
       " 'platelet_min_f',\n",
       " 'sodium_min_f',\n",
       " 'wbc_min_f']"
      ]
     },
     "execution_count": 114,
     "metadata": {},
     "output_type": "execute_result"
    }
   ],
   "source": [
    "# List of variable that have missing values which MICE will impute. \n",
    "list(train_mice.columns[train_mice.isnull().any()])"
   ]
  },
  {
   "cell_type": "code",
   "execution_count": 95,
   "id": "214bae9a",
   "metadata": {},
   "outputs": [
    {
     "data": {
      "text/plain": [
       "71"
      ]
     },
     "execution_count": 115,
     "metadata": {},
     "output_type": "execute_result"
    }
   ],
   "source": [
    "len(train_mice.columns[train_mice.isnull().any()])"
   ]
  },
  {
   "cell_type": "markdown",
   "id": "820f98df",
   "metadata": {},
   "source": [
    "## 2. Building training and test set using miceforest "
   ]
  },
  {
   "cell_type": "code",
   "execution_count": 96,
   "id": "bdefb74d",
   "metadata": {},
   "outputs": [],
   "source": [
    "import miceforest as mf"
   ]
  },
  {
   "cell_type": "markdown",
   "id": "2e674e91",
   "metadata": {},
   "source": [
    "### 2.1 Finding ideal parameters"
   ]
  },
  {
   "cell_type": "code",
   "execution_count": 97,
   "id": "f3dfc666",
   "metadata": {},
   "outputs": [],
   "source": [
    "# Create kernel. \n",
    "kernel = mf.ImputationKernel(\n",
    "    train_mice,\n",
    "    datasets = 5,\n",
    "    save_all_iterations = True,\n",
    "    random_state = 42)"
   ]
  },
  {
   "cell_type": "code",
   "execution_count": 98,
   "id": "34d68c90",
   "metadata": {},
   "outputs": [
    {
     "name": "stdout",
     "output_type": "stream",
     "text": [
      "stage | 0 - 1 - 2 - 3 - 4 - \n",
      "hemoglobin_min_f | 0 - 1 - 2 - 3 - 4 - \n",
      "weight_pct_1yr | 0 - 1 - 2 - 3 - 4 - \n",
      "weight_slope_1yr | 0 - 1 - 2 - 3 - 4 - \n",
      "creatinine_max_f | 0 - 1 - 2 - 3 - 4 - \n",
      "alp_max_f | 0 - 1 - 2 - 3 - 4 - \n",
      "ast_max_f | 0 - 1 - 2 - 3 - 4 - \n",
      "alt_max_f | 0 - 1 - 2 - 3 - 4 - \n",
      "wbc_min_f | 0 - 1 - 2 - 3 - 4 - \n",
      "wbc_max_f | 0 - 1 - 2 - 3 - 4 - \n",
      "total_bilirubin_max_f | 0 - 1 - 2 - 3 - 4 - \n",
      "albumin_min_f | 0 - 1 - 2 - 3 - 4 - \n",
      "platelet_min_f | 0 - 1 - 2 - 3 - 4 - \n",
      "cea_max_f | 0 - 1 - 2 - 3 - 4 - \n",
      "weight_pct_change | 0 - 1 - 2 - 3 - 4 - \n",
      "weight_slope | 0 - 1 - 2 - 3 - 4 - \n",
      "hemoglobin_180 | 0 - 1 - 2 - 3 - 4 - \n",
      "bun_180 | 0 - 1 - 2 - 3 - 4 - \n",
      "sodium_min_f | 0 - 1 - 2 - 3 - 4 - \n",
      "creatinine_180 | 0 - 1 - 2 - 3 - 4 - \n",
      "ses | 0 - 1 - 2 - 3 - 4 - \n",
      "alp_180 | 0 - 1 - 2 - 3 - 4 - \n",
      "ast_180 | 0 - 1 - 2 - 3 - 4 - \n",
      "alt_180 | 0 - 1 - 2 - 3 - 4 - \n",
      "calcium_180 | 0 - 1 - 2 - 3 - 4 - \n",
      "wbc_180 | 0 - 1 - 2 - 3 - 4 - \n",
      "bicarb_min_f | 0 - 1 - 2 - 3 - 4 - \n",
      "total_bilirubin_180 | 0 - 1 - 2 - 3 - 4 - \n",
      "albumin_180 | 0 - 1 - 2 - 3 - 4 - \n",
      "weight_diag | 0 - 1 - 2 - 3 - 4 - \n",
      "bmi_diag | 0 - 1 - 2 - 3 - 4 - \n",
      "platelet_180 | 0 - 1 - 2 - 3 - 4 - \n",
      "hemoglobin_min | 0 - 1 - 2 - 3 - 4 - \n",
      "cea_180 | 0 - 1 - 2 - 3 - 4 - \n",
      "potassium_180 | 0 - 1 - 2 - 3 - 4 - \n",
      "sodium_180 | 0 - 1 - 2 - 3 - 4 - \n",
      "weight_180 | 0 - 1 - 2 - 3 - 4 - \n",
      "bmi_180 | 0 - 1 - 2 - 3 - 4 - \n",
      "wbc_min | 0 - 1 - 2 - 3 - 4 - \n",
      "wbc_max | 0 - 1 - 2 - 3 - 4 - \n",
      "creatinine_max | 0 - 1 - 2 - 3 - 4 - \n",
      "bicarb_180 | 0 - 1 - 2 - 3 - 4 - \n",
      "ast_max | 0 - 1 - 2 - 3 - 4 - \n",
      "alp_max | 0 - 1 - 2 - 3 - 4 - \n",
      "hemoglobin_diag | 0 - 1 - 2 - 3 - 4 - \n",
      "alt_max | 0 - 1 - 2 - 3 - 4 - \n",
      "total_bilirubin_max | 0 - 1 - 2 - 3 - 4 - \n",
      "albumin_min | 0 - 1 - 2 - 3 - 4 - \n",
      "platelet_min | 0 - 1 - 2 - 3 - 4 - \n",
      "chloride_180 | 0 - 1 - 2 - 3 - 4 - \n",
      "neutrophil_count_180 | 0 - 1 - 2 - 3 - 4 - \n",
      "creatinine_diag | 0 - 1 - 2 - 3 - 4 - \n",
      "bun_diag | 0 - 1 - 2 - 3 - 4 - \n",
      "wbc_diag | 0 - 1 - 2 - 3 - 4 - \n",
      "alp_diag | 0 - 1 - 2 - 3 - 4 - \n",
      "calcium_diag | 0 - 1 - 2 - 3 - 4 - \n",
      "ast_diag | 0 - 1 - 2 - 3 - 4 - \n",
      "alt_diag | 0 - 1 - 2 - 3 - 4 - \n",
      "total_bilirubin_diag | 0 - 1 - 2 - 3 - 4 - \n",
      "albumin_diag | 0 - 1 - 2 - 3 - 4 - \n",
      "platelet_diag | 0 - 1 - 2 - 3 - 4 - \n",
      "cea_max | 0 - 1 - 2 - 3 - 4 - \n",
      "sodium_min | 0 - 1 - 2 - 3 - 4 - \n",
      "bicarb_min | 0 - 1 - 2 - 3 - 4 - \n",
      "cea_diag | 0 - 1 - 2 - 3 - 4 - \n",
      "potassium_diag | 0 - 1 - 2 - 3 - 4 - \n",
      "sodium_diag | 0 - 1 - 2 - 3 - 4 - \n",
      "bicarb_diag | 0 - 1 - 2 - 3 - 4 - \n",
      "chloride_diag | 0 - 1 - 2 - 3 - 4 - \n",
      "neutrophil_count_diag | 0 - 1 - 2 - 3 - 4 - \n",
      "ecog_diagnosis | 0 - 1 - 2 - 3 - 4 - \n"
     ]
    }
   ],
   "source": [
    "# Using the first ImputationKernel in kernel to tune parameters with the default settings.\n",
    "optimal_parameters, losses = kernel.tune_parameters(\n",
    "    dataset = 0,\n",
    "    optimization_steps = 5,\n",
    "    verbose = 1,\n",
    "    random_state = 42)"
   ]
  },
  {
   "cell_type": "markdown",
   "id": "ebb06589",
   "metadata": {},
   "source": [
    "### 2.2 Building training datasets"
   ]
  },
  {
   "cell_type": "code",
   "execution_count": 99,
   "id": "561ac921",
   "metadata": {},
   "outputs": [],
   "source": [
    "# Run mice with our newly tuned parameters.\n",
    "kernel.mice(iterations = 5, \n",
    "            variable_parameters = optimal_parameters,\n",
    "            verbose = 0)"
   ]
  },
  {
   "cell_type": "code",
   "execution_count": 100,
   "id": "bb5b9d9d",
   "metadata": {},
   "outputs": [],
   "source": [
    "for x in range(5): \n",
    "    kernel.complete_data(dataset = x).to_csv('mice_tr'+str(x)+'.csv', index = True, header = True)"
   ]
  },
  {
   "cell_type": "markdown",
   "id": "17b09115",
   "metadata": {},
   "source": [
    "### 2.3 Building test datasets"
   ]
  },
  {
   "cell_type": "code",
   "execution_count": 101,
   "id": "19de1e06",
   "metadata": {},
   "outputs": [],
   "source": [
    "test_imputed = kernel.impute_new_data(new_data = test_mice, verbose = 0)"
   ]
  },
  {
   "cell_type": "code",
   "execution_count": 102,
   "id": "205d4ede",
   "metadata": {},
   "outputs": [],
   "source": [
    "for x in range(5): \n",
    "    test_imputed.complete_data(dataset = x).to_csv('mice_te'+str(x)+'.csv', index = True, header = True)"
   ]
  },
  {
   "cell_type": "markdown",
   "id": "e97ae2f2",
   "metadata": {},
   "source": [
    "## 3. Building gradient boosting models "
   ]
  },
  {
   "cell_type": "code",
   "execution_count": 103,
   "id": "bf851272",
   "metadata": {},
   "outputs": [],
   "source": [
    "from sklearn.pipeline import Pipeline, make_pipeline\n",
    "from sklearn.impute import SimpleImputer\n",
    "from sklearn.preprocessing import StandardScaler, OneHotEncoder, OrdinalEncoder\n",
    "from sklearn.compose import ColumnTransformer \n",
    "from sklearn.experimental import enable_halving_search_cv\n",
    "from sklearn.model_selection import StratifiedKFold, HalvingGridSearchCV\n",
    "\n",
    "from sksurv.ensemble import GradientBoostingSurvivalAnalysis\n",
    "from sksurv.metrics import cumulative_dynamic_auc, as_cumulative_dynamic_auc_scorer\n",
    "\n",
    "from joblib import dump, load\n",
    "\n",
    "import matplotlib.pyplot as plt\n",
    "\n",
    "import warnings"
   ]
  },
  {
   "cell_type": "markdown",
   "id": "a0255558",
   "metadata": {},
   "source": [
    "### 3.1 Model 0"
   ]
  },
  {
   "cell_type": "markdown",
   "id": "d1aa4794",
   "metadata": {},
   "source": [
    "#### Preprocessing and building pipeline "
   ]
  },
  {
   "cell_type": "code",
   "execution_count": 104,
   "id": "7ff0b22a",
   "metadata": {},
   "outputs": [],
   "source": [
    "# Import first training set\n",
    "train_mice0 = pd.read_csv('mice_tr0.csv', index_col = 'PatientID')\n",
    "\n",
    "# Import all test sets\n",
    "test_mice0 = pd.read_csv('mice_te0.csv', index_col = 'PatientID')\n",
    "test_mice1 = pd.read_csv('mice_te1.csv', index_col = 'PatientID')\n",
    "test_mice2 = pd.read_csv('mice_te2.csv', index_col = 'PatientID')\n",
    "test_mice3 = pd.read_csv('mice_te3.csv', index_col = 'PatientID')\n",
    "test_mice4 = pd.read_csv('mice_te4.csv', index_col = 'PatientID')"
   ]
  },
  {
   "cell_type": "code",
   "execution_count": 105,
   "id": "112057f7",
   "metadata": {},
   "outputs": [],
   "source": [
    "# Combine all test sets into 1 to get more robust estimates from models\n",
    "test_mice = pd.concat([test_mice0, test_mice1, test_mice2, test_mice3, test_mice4], ignore_index = False)"
   ]
  },
  {
   "cell_type": "code",
   "execution_count": 106,
   "id": "332bd159",
   "metadata": {},
   "outputs": [
    {
     "name": "stdout",
     "output_type": "stream",
     "text": [
      "(27452, 185)\n",
      "(34315, 185)\n"
     ]
    }
   ],
   "source": [
    "print(train_mice0.shape)\n",
    "print(test_mice.shape)"
   ]
  },
  {
   "cell_type": "code",
   "execution_count": 107,
   "id": "b6907036",
   "metadata": {},
   "outputs": [
    {
     "data": {
      "text/plain": [
       "Index(['line_1', 'line_2', 'line_3', 'line_4', 'weight_180', 'bmi_180',\n",
       "       'weight_pct_1yr', 'weight_slope_1yr', 'albumin_180', 'alp_180',\n",
       "       'alt_180', 'ast_180', 'bicarb_180', 'bun_180', 'calcium_180', 'cea_180',\n",
       "       'chloride_180', 'creatinine_180', 'hemoglobin_180',\n",
       "       'neutrophil_count_180', 'platelet_180', 'potassium_180', 'sodium_180',\n",
       "       'total_bilirubin_180', 'wbc_180', 'alp_max_f', 'alt_max_f', 'ast_max_f',\n",
       "       'cea_max_f', 'creatinine_max_f', 'total_bilirubin_max_f', 'wbc_max_f',\n",
       "       'albumin_min_f', 'bicarb_min_f', 'hemoglobin_min_f', 'platelet_min_f',\n",
       "       'sodium_min_f', 'wbc_min_f'],\n",
       "      dtype='object')"
      ]
     },
     "execution_count": 127,
     "metadata": {},
     "output_type": "execute_result"
    }
   ],
   "source": [
    "# Auxillary variables generated for MICE\n",
    "train_mice0.columns[train_mice0.columns.str.contains('_1|_2|_3|_4|_180|_1yr|x_f|n_f')]"
   ]
  },
  {
   "cell_type": "code",
   "execution_count": 108,
   "id": "a85f30eb",
   "metadata": {},
   "outputs": [],
   "source": [
    "#Remove auxillary variables for train and test sets\n",
    "mice_drop = train_mice0.columns[train_mice0.columns.str.contains('_1|_2|_3|_4|_180|_1yr|x_f|n_f')]\n",
    "\n",
    "train_mice0 = train_mice0.drop(columns = mice_drop)\n",
    "\n",
    "test_mice = test_mice.drop(columns = mice_drop)"
   ]
  },
  {
   "cell_type": "code",
   "execution_count": 109,
   "id": "dc02e7ec",
   "metadata": {},
   "outputs": [
    {
     "name": "stdout",
     "output_type": "stream",
     "text": [
      "(27452, 147)\n",
      "(34315, 147)\n"
     ]
    }
   ],
   "source": [
    "print(train_mice0.shape)\n",
    "print(test_mice.shape)"
   ]
  },
  {
   "cell_type": "code",
   "execution_count": 110,
   "id": "ab556b5e",
   "metadata": {},
   "outputs": [],
   "source": [
    "# Generate ecog_na, stage_na, and ses_na indicator variables\n",
    "train_mice0['ecog_na'] = np.where(train_mice0.index.isin(train.query('ecog_diagnosis == \"unknown\"').PatientID), 1, 0)\n",
    "train_mice0['stage_na'] = np.where(train_mice0.index.isin(train.query('stage == \"unknown\"').PatientID), 1, 0)\n",
    "train_mice0['ses_na'] = np.where(train_mice0.index.isin(train[train['ses'].isnull()].PatientID), 1, 0)\n",
    "\n",
    "test_mice['ecog_na'] = np.where(test_mice.index.isin(test.query('ecog_diagnosis == \"unknown\"').PatientID), 1, 0)\n",
    "test_mice['stage_na'] = np.where(test_mice.index.isin(test.query('stage == \"unknown\"').PatientID), 1, 0)\n",
    "test_mice['ses_na'] = np.where(test_mice.index.isin(test[test['ses'].isnull()].PatientID), 1, 0)"
   ]
  },
  {
   "cell_type": "code",
   "execution_count": 111,
   "id": "4a902ecd",
   "metadata": {},
   "outputs": [
    {
     "data": {
      "text/plain": [
       "['gender',\n",
       " 'race',\n",
       " 'ethnicity',\n",
       " 'p_type',\n",
       " 'region',\n",
       " 'stage',\n",
       " 'crc_site',\n",
       " 'KRAS',\n",
       " 'dMMR_MSIh',\n",
       " 'NRAS',\n",
       " 'BRAF',\n",
       " 'ecog_diagnosis',\n",
       " 'met_year',\n",
       " 'ses']"
      ]
     },
     "execution_count": 131,
     "metadata": {},
     "output_type": "execute_result"
    }
   ],
   "source": [
    "# List of cateogrical varaibles \n",
    "to_be_categorical"
   ]
  },
  {
   "cell_type": "code",
   "execution_count": 112,
   "id": "d644601c",
   "metadata": {},
   "outputs": [],
   "source": [
    "# Convert object variables to categorical variables for train and test \n",
    "for x in list(to_be_categorical):\n",
    "    train_mice0[x] = train_mice0[x].astype('category')\n",
    "    \n",
    "for x in list(to_be_categorical):\n",
    "    test_mice[x] = test_mice[x].astype('category')"
   ]
  },
  {
   "cell_type": "code",
   "execution_count": 113,
   "id": "383fc301",
   "metadata": {},
   "outputs": [
    {
     "data": {
      "text/plain": [
       "['gender',\n",
       " 'race',\n",
       " 'ethnicity',\n",
       " 'p_type',\n",
       " 'region',\n",
       " 'stage',\n",
       " 'met_year',\n",
       " 'crc_site',\n",
       " 'KRAS',\n",
       " 'dMMR_MSIh',\n",
       " 'NRAS',\n",
       " 'BRAF',\n",
       " 'ecog_diagnosis',\n",
       " 'ses']"
      ]
     },
     "execution_count": 133,
     "metadata": {},
     "output_type": "execute_result"
    }
   ],
   "source": [
    "list(train_mice0.select_dtypes(include = ['category']).columns)"
   ]
  },
  {
   "cell_type": "code",
   "execution_count": 114,
   "id": "789db0e9",
   "metadata": {},
   "outputs": [],
   "source": [
    "# Death status to boolean \n",
    "train_mice0['death_status'] = train_mice0['death_status'].astype('bool')\n",
    "\n",
    "test_mice['death_status'] = test_mice['death_status'].astype('bool')"
   ]
  },
  {
   "cell_type": "code",
   "execution_count": 115,
   "id": "29048a7f",
   "metadata": {},
   "outputs": [],
   "source": [
    "#Define validation and subtrain\n",
    "val_IDs = pd.read_csv('val_IDs.csv')\n",
    "\n",
    "val_mice0 = train_mice0[train_mice0.index.isin(val_IDs['PatientID'])]\n",
    "\n",
    "sub_train_mice0 = train_mice0[~train_mice0.index.isin(val_IDs['PatientID'])]"
   ]
  },
  {
   "cell_type": "code",
   "execution_count": 116,
   "id": "b440809c",
   "metadata": {},
   "outputs": [
    {
     "name": "stdout",
     "output_type": "stream",
     "text": [
      "(27452, 150)\n",
      "(20589, 150)\n",
      "(6863, 150)\n"
     ]
    }
   ],
   "source": [
    "print(train_mice0.shape)\n",
    "print(sub_train_mice0.shape)\n",
    "print(val_mice0.shape)"
   ]
  },
  {
   "cell_type": "code",
   "execution_count": 117,
   "id": "16c5841f",
   "metadata": {},
   "outputs": [],
   "source": [
    "# 'X' datasets\n",
    "train_mice0_x = train_mice0.drop(columns = ['death_status', 'timerisk_activity'])\n",
    "\n",
    "sub_train_mice0_x = sub_train_mice0.drop(columns = ['death_status', 'timerisk_activity'])\n",
    "\n",
    "val_mice0_x = val_mice0.drop(columns = ['death_status', 'timerisk_activity'])\n",
    "\n",
    "test_mice_x = test_mice.drop(columns = ['death_status', 'timerisk_activity'])"
   ]
  },
  {
   "cell_type": "code",
   "execution_count": 118,
   "id": "16e86e23",
   "metadata": {},
   "outputs": [
    {
     "name": "stdout",
     "output_type": "stream",
     "text": [
      "(27452, 148)\n",
      "(20589, 148)\n",
      "(6863, 148)\n",
      "(34315, 148)\n"
     ]
    }
   ],
   "source": [
    "print(train_mice0_x.shape)\n",
    "print(sub_train_mice0_x.shape)\n",
    "print(val_mice0_x.shape)\n",
    "print(test_mice_x.shape)"
   ]
  },
  {
   "cell_type": "code",
   "execution_count": 119,
   "id": "0621a758",
   "metadata": {},
   "outputs": [],
   "source": [
    "# 'Y' datasets \n",
    "y_dtypes = train_mice0[['death_status', 'timerisk_activity']].dtypes\n",
    "\n",
    "train_y = np.array([tuple(x) for x in train[['death_status', 'timerisk_activity']].values],\n",
    "                   dtype = list(zip(y_dtypes.index, y_dtypes)))\n",
    "\n",
    "sub_train_y = np.array([tuple(x) for x in sub_train_mice0[['death_status', 'timerisk_activity']].values],\n",
    "                       dtype = list(zip(y_dtypes.index, y_dtypes)))\n",
    "\n",
    "val_y = np.array([tuple(x) for x in val_mice0[['death_status', 'timerisk_activity']].values],\n",
    "                 dtype = list(zip(y_dtypes.index, y_dtypes)))\n",
    "\n",
    "test_y = np.array([tuple(x) for x in test_mice[['death_status', 'timerisk_activity']].values],\n",
    "                  dtype = list(zip(y_dtypes.index, y_dtypes)))"
   ]
  },
  {
   "cell_type": "code",
   "execution_count": 120,
   "id": "724bad28",
   "metadata": {},
   "outputs": [],
   "source": [
    "# List of numeric variables, excluding binary variables. \n",
    "numerical_features_red = [\n",
    "    'age',\n",
    "    'delta_met_diagnosis',\n",
    "    'weight_diag',\n",
    "    'bmi_diag',\n",
    "    'weight_pct_change',\n",
    "    'weight_slope',\n",
    "    'albumin_diag',\n",
    "    'alp_diag',\n",
    "    'alt_diag',\n",
    "    'ast_diag',\n",
    "    'bicarb_diag',\n",
    "    'bun_diag',\n",
    "    'calcium_diag',\n",
    "    'cea_diag',\n",
    "    'chloride_diag',\n",
    "    'creatinine_diag',\n",
    "    'hemoglobin_diag',\n",
    "    'neutrophil_count_diag',\n",
    "    'platelet_diag',\n",
    "    'potassium_diag',\n",
    "    'sodium_diag',\n",
    "    'total_bilirubin_diag',\n",
    "    'wbc_diag',\n",
    "    'alp_max',\n",
    "    'alt_max',\n",
    "    'ast_max',\n",
    "    'cea_max',\n",
    "    'creatinine_max',\n",
    "    'total_bilirubin_max',\n",
    "    'wbc_max',\n",
    "    'albumin_min',\n",
    "    'bicarb_min',\n",
    "    'hemoglobin_min',\n",
    "    'platelet_min',\n",
    "    'sodium_min',\n",
    "    'wbc_min',\n",
    "    'icd_count']\n",
    "\n",
    "# List of categorical features.\n",
    "categorical_features = list(train_mice0_x.select_dtypes(include = ['category']).columns)\n",
    "\n",
    "# Transformer will apply a standard scaler. \n",
    "numerical_transformer = Pipeline(steps = [\n",
    "    ('std_scaler', StandardScaler())])\n",
    "\n",
    "# One-hot-encode categorical features.\n",
    "categorical_transformer = OneHotEncoder(handle_unknown = 'ignore')"
   ]
  },
  {
   "cell_type": "code",
   "execution_count": 121,
   "id": "e02c75e5",
   "metadata": {},
   "outputs": [],
   "source": [
    "preprocessor_red = ColumnTransformer(\n",
    "    transformers = [\n",
    "        ('num', numerical_transformer, numerical_features_red),\n",
    "        ('cat', categorical_transformer, categorical_features)],\n",
    "    remainder = 'passthrough')"
   ]
  },
  {
   "cell_type": "markdown",
   "id": "8e77f451",
   "metadata": {},
   "source": [
    "#### Hyperparameter tuning"
   ]
  },
  {
   "cell_type": "code",
   "execution_count": 122,
   "id": "9a87bd2e",
   "metadata": {},
   "outputs": [
    {
     "name": "stdout",
     "output_type": "stream",
     "text": [
      "      Iter       Train Loss      OOB Improve   Remaining Time \n",
      "         1       84790.2743          13.9392          132.28m\n",
      "         2       84218.1248          15.7632          132.33m\n",
      "         3       84068.8084          13.7087          132.43m\n",
      "         4       84254.3591          12.7073          132.53m\n",
      "         5       84262.0949          12.6247          132.29m\n",
      "         6       84406.2646          12.1504          132.16m\n",
      "         7       84032.0107          11.6731          132.01m\n",
      "         8       84291.0574          11.4415          131.82m\n",
      "         9       83829.9140          11.8956          131.73m\n",
      "        10       83556.2583          10.7753          131.65m\n",
      "        20       84106.1479           8.0754          130.65m\n",
      "        30       83222.4740           5.7989          129.75m\n",
      "        40       82971.0993           4.5886          128.84m\n",
      "        50       83243.3825           3.7344          127.94m\n",
      "        60       83570.3565           2.9452          127.07m\n",
      "        70       82973.7353           2.7563          126.16m\n",
      "        80       82680.9139           2.9291          125.27m\n",
      "        90       82754.8408           2.6786          124.41m\n",
      "       100       82976.9137           2.6226          123.51m\n",
      "       200       82649.2855           0.6572          114.65m\n",
      "       300       81721.4835           0.1282          105.95m\n",
      "       400       81893.7555          -0.0539           97.25m\n",
      "       500       80947.4219          -0.2317           88.46m\n",
      "       600       81456.6821          -0.2009           79.66m\n",
      "       700       81336.3916          -0.2118           70.84m\n",
      "       800       81189.7764          -0.1388           62.01m\n",
      "       900       81134.8568          -0.2445           53.16m\n",
      "      1000       80558.7282          -0.0098           44.31m\n"
     ]
    },
    {
     "data": {
      "text/plain": [
       "GradientBoostingSurvivalAnalysis(learning_rate=0.05, n_estimators=1500,\n",
       "                                 random_state=42, subsample=0.75, verbose=1)"
      ]
     },
     "execution_count": 143,
     "metadata": {},
     "output_type": "execute_result"
    }
   ],
   "source": [
    "sub_train_mice0_xt = preprocessor_red.fit_transform(sub_train_mice0_x)\n",
    "val_mice0_xt = preprocessor_red.transform(val_mice0_x)\n",
    "\n",
    "gbm_mice0_exp = GradientBoostingSurvivalAnalysis(n_estimators = 1500,\n",
    "                                                 learning_rate = 0.05,\n",
    "                                                 max_depth = 3,\n",
    "                                                 subsample = 0.75,\n",
    "                                                 verbose = 1,\n",
    "                                                 random_state = 42)\n",
    "\n",
    "gbm_mice0_exp.fit(sub_train_mice0_xt, sub_train_y)"
   ]
  },
  {
   "cell_type": "code",
   "execution_count": 123,
   "id": "bca75681",
   "metadata": {},
   "outputs": [],
   "source": [
    "gbm0_staged_auc = [cumulative_dynamic_auc(sub_train_y, val_y, risk_score, 730)[0][0] for \n",
    "                   risk_score in gbm_mice0_exp.staged_predict(val_mice0_xt)]"
   ]
  },
  {
   "cell_type": "code",
   "execution_count": 124,
   "id": "ef38ae5a",
   "metadata": {},
   "outputs": [],
   "source": [
    "gbm0_staged_auc_tr = [cumulative_dynamic_auc(sub_train_y, sub_train_y, risk_score, 730)[0][0] for \n",
    "                      risk_score in gbm_mice0_exp.staged_predict(sub_train_mice0_xt)]"
   ]
  },
  {
   "cell_type": "code",
   "execution_count": 125,
   "id": "d79b104c",
   "metadata": {},
   "outputs": [
    {
     "data": {
      "image/png": "[encoded data removed]",
      "text/plain": [
       "<Figure size 432x288 with 1 Axes>"
      ]
     },
     "metadata": {
      "needs_background": "light"
     },
     "output_type": "display_data"
    }
   ],
   "source": [
    "fig = plt.figure()\n",
    "ax = fig.add_subplot(1, 1, 1)\n",
    "\n",
    "x = range(len(gbm0_staged_auc))\n",
    "plt.plot(x, gbm0_staged_auc, color = 'blue', label = 'validation')\n",
    "plt.plot(x, gbm0_staged_auc_tr, color = 'red', label = 'training')\n",
    "plt.legend(loc = 'lower right')\n",
    "\n",
    "plt.xlabel(\"n_estimators\")\n",
    "plt.ylabel(\"AUC at 2-years\")\n",
    "plt.title('Gradient boosting model learning curve for mice0')\n",
    "\n",
    "plt.show()"
   ]
  },
  {
   "cell_type": "code",
   "execution_count": 126,
   "id": "3d3dc295",
   "metadata": {},
   "outputs": [],
   "source": [
    "# Average AUC for every 25 additional trees. \n",
    "mean_auc_list = []\n",
    "for x in np.arange(0, len(gbm0_staged_auc), 25):\n",
    "    mean_auc_list.append(np.mean(gbm0_staged_auc[x:x+24]))"
   ]
  },
  {
   "cell_type": "code",
   "execution_count": 127,
   "id": "4663dfdf",
   "metadata": {},
   "outputs": [
    {
     "name": "stdout",
     "output_type": "stream",
     "text": [
      "Number of trees where 2 year AUC on validation dataset beings to downgrade: 1375\n",
      "Validation dataset AUC before degrading: 0.7711109027150012\n",
      "Training dataset AUC before degrading: 0.8273283153201054\n"
     ]
    }
   ],
   "source": [
    "print('Number of trees where 2 year AUC on validation dataset beings to downgrade:', np.where(np.diff(mean_auc_list) < 0)[0][0]*25)\n",
    "print('Validation dataset AUC before degrading:', gbm0_staged_auc[np.where(np.diff(mean_auc_list) < 0)[0][0]*25])\n",
    "print('Training dataset AUC before degrading:', gbm0_staged_auc_tr[np.where(np.diff(mean_auc_list) < 0)[0][0]*25])"
   ]
  },
  {
   "cell_type": "code",
   "execution_count": 128,
   "id": "409b136a",
   "metadata": {},
   "outputs": [
    {
     "name": "stdout",
     "output_type": "stream",
     "text": [
      "(27452, 148)\n",
      "(27452,)\n"
     ]
    }
   ],
   "source": [
    "print(train_mice0_x.shape)\n",
    "print(train_y.shape)"
   ]
  },
  {
   "cell_type": "code",
   "execution_count": 129,
   "id": "daa512c5",
   "metadata": {},
   "outputs": [
    {
     "name": "stdout",
     "output_type": "stream",
     "text": [
      "n_iterations: 4\n",
      "n_required_iterations: 4\n",
      "n_possible_iterations: 4\n",
      "min_resources_: 3431\n",
      "max_resources_: 27452\n",
      "aggressive_elimination: False\n",
      "factor: 2\n",
      "----------\n",
      "iter: 0\n",
      "n_candidates: 9\n",
      "n_resources: 3431\n",
      "Fitting 3 folds for each of 9 candidates, totalling 27 fits\n",
      "----------\n",
      "iter: 1\n",
      "n_candidates: 5\n",
      "n_resources: 6862\n",
      "Fitting 3 folds for each of 5 candidates, totalling 15 fits\n",
      "----------\n",
      "iter: 2\n",
      "n_candidates: 3\n",
      "n_resources: 13724\n",
      "Fitting 3 folds for each of 3 candidates, totalling 9 fits\n",
      "----------\n",
      "iter: 3\n",
      "n_candidates: 2\n",
      "n_resources: 27448\n",
      "Fitting 3 folds for each of 2 candidates, totalling 6 fits\n"
     ]
    },
    {
     "data": {
      "text/plain": [
       "HalvingGridSearchCV(cv=StratifiedKFold(n_splits=3, random_state=42, shuffle=True),\n",
       "                    estimator=as_cumulative_dynamic_auc_scorer(estimator=Pipeline(steps=[('columntransformer',\n",
       "                                                                                          ColumnTransformer(remainder='passthrough',\n",
       "                                                                                                            transformers=[('num',\n",
       "                                                                                                                           Pipeline(steps=[('std_scaler',\n",
       "                                                                                                                                            StandardScaler())]),\n",
       "                                                                                                                           ['age',\n",
       "                                                                                                                            'delta_met_diagnosis',\n",
       "                                                                                                                            'weight_diag',\n",
       "                                                                                                                            'bmi_diag',\n",
       "                                                                                                                            'weight_pct_c...\n",
       "                                                                                                                            'ecog_diagnosis',\n",
       "                                                                                                                            'ses'])])),\n",
       "                                                                                         ('gradientboostingsurvivalanalysis',\n",
       "                                                                                          GradientBoostingSurvivalAnalysis(learning_rate=0.05,\n",
       "                                                                                                                           loss=1375,\n",
       "                                                                                                                           random_state=42))]),\n",
       "                                                               times=730),\n",
       "                    factor=2, n_jobs=-1,\n",
       "                    param_grid={'estimator__gradientboostingsurvivalanalysis__max_depth': [2,\n",
       "                                                                                           3,\n",
       "                                                                                           4],\n",
       "                                'estimator__gradientboostingsurvivalanalysis__subsample': [0.5,\n",
       "                                                                                           0.75,\n",
       "                                                                                           0.9]},\n",
       "                    random_state=42, refit=False, verbose=1)"
      ]
     },
     "execution_count": 150,
     "metadata": {},
     "output_type": "execute_result"
    }
   ],
   "source": [
    "pipe = make_pipeline(preprocessor_red, GradientBoostingSurvivalAnalysis(np.where(np.diff(mean_auc_list) < 0)[0][0]*25,\n",
    "                                                                        learning_rate = 0.05,\n",
    "                                                                        random_state = 42))\n",
    "\n",
    "# 3 fold cross-validation\n",
    "cv = StratifiedKFold(n_splits = 3, shuffle = True, random_state = 42)\n",
    "\n",
    "# Parameter gird \n",
    "param_grid = {'estimator__gradientboostingsurvivalanalysis__max_depth': [2, 3, 4], \n",
    "              'estimator__gradientboostingsurvivalanalysis__subsample': [0.5, 0.75, 0.9]}\n",
    "\n",
    "gbm_search = HalvingGridSearchCV(\n",
    "    as_cumulative_dynamic_auc_scorer(pipe, 730),\n",
    "    param_grid,\n",
    "    cv = cv,\n",
    "    factor = 2,\n",
    "    resource = 'n_samples',\n",
    "    refit = False,\n",
    "    verbose = 1,\n",
    "    random_state = 42,\n",
    "    n_jobs = -1)\n",
    "\n",
    "# Run search \n",
    "warnings.filterwarnings('ignore')\n",
    "gbm_search.fit(train_mice0_x, train_y)"
   ]
  },
  {
   "cell_type": "code",
   "execution_count": 130,
   "id": "f5b45978",
   "metadata": {},
   "outputs": [
    {
     "data": {
      "text/plain": [
       "{'estimator__gradientboostingsurvivalanalysis__max_depth': 4,\n",
       " 'estimator__gradientboostingsurvivalanalysis__subsample': 0.75}"
      ]
     },
     "execution_count": 151,
     "metadata": {},
     "output_type": "execute_result"
    }
   ],
   "source": [
    "gbm_search.best_params_"
   ]
  },
  {
   "cell_type": "code",
   "execution_count": 131,
   "id": "7e187de8",
   "metadata": {},
   "outputs": [],
   "source": [
    "gbm_search_results = pd.DataFrame(gbm_search.cv_results_)"
   ]
  },
  {
   "cell_type": "code",
   "execution_count": 132,
   "id": "1622ca30",
   "metadata": {},
   "outputs": [
    {
     "data": {
      "text/html": [
       "<div>\n",
       "<style scoped>\n",
       "    .dataframe tbody tr th:only-of-type {\n",
       "        vertical-align: middle;\n",
       "    }\n",
       "\n",
       "    .dataframe tbody tr th {\n",
       "        vertical-align: top;\n",
       "    }\n",
       "\n",
       "    .dataframe thead th {\n",
       "        text-align: right;\n",
       "    }\n",
       "</style>\n",
       "<table border=\"1\" class=\"dataframe\">\n",
       "  <thead>\n",
       "    <tr style=\"text-align: right;\">\n",
       "      <th></th>\n",
       "      <th>iter</th>\n",
       "      <th>n_resources</th>\n",
       "      <th>mean_fit_time</th>\n",
       "      <th>std_fit_time</th>\n",
       "      <th>mean_score_time</th>\n",
       "      <th>std_score_time</th>\n",
       "      <th>param_estimator__gradientboostingsurvivalanalysis__max_depth</th>\n",
       "      <th>param_estimator__gradientboostingsurvivalanalysis__subsample</th>\n",
       "      <th>params</th>\n",
       "      <th>split0_test_score</th>\n",
       "      <th>split1_test_score</th>\n",
       "      <th>split2_test_score</th>\n",
       "      <th>mean_test_score</th>\n",
       "      <th>std_test_score</th>\n",
       "      <th>rank_test_score</th>\n",
       "      <th>split0_train_score</th>\n",
       "      <th>split1_train_score</th>\n",
       "      <th>split2_train_score</th>\n",
       "      <th>mean_train_score</th>\n",
       "      <th>std_train_score</th>\n",
       "    </tr>\n",
       "  </thead>\n",
       "  <tbody>\n",
       "    <tr>\n",
       "      <th>0</th>\n",
       "      <td>0</td>\n",
       "      <td>3431</td>\n",
       "      <td>0.078835</td>\n",
       "      <td>0.001342</td>\n",
       "      <td>0.0</td>\n",
       "      <td>0.0</td>\n",
       "      <td>2</td>\n",
       "      <td>0.5</td>\n",
       "      <td>{'estimator__gradientboostingsurvivalanalysis_...</td>\n",
       "      <td>NaN</td>\n",
       "      <td>NaN</td>\n",
       "      <td>NaN</td>\n",
       "      <td>NaN</td>\n",
       "      <td>NaN</td>\n",
       "      <td>1</td>\n",
       "      <td>NaN</td>\n",
       "      <td>NaN</td>\n",
       "      <td>NaN</td>\n",
       "      <td>NaN</td>\n",
       "      <td>NaN</td>\n",
       "    </tr>\n",
       "    <tr>\n",
       "      <th>16</th>\n",
       "      <td>2</td>\n",
       "      <td>13724</td>\n",
       "      <td>0.058760</td>\n",
       "      <td>0.005589</td>\n",
       "      <td>0.0</td>\n",
       "      <td>0.0</td>\n",
       "      <td>4</td>\n",
       "      <td>0.9</td>\n",
       "      <td>{'estimator__gradientboostingsurvivalanalysis_...</td>\n",
       "      <td>NaN</td>\n",
       "      <td>NaN</td>\n",
       "      <td>NaN</td>\n",
       "      <td>NaN</td>\n",
       "      <td>NaN</td>\n",
       "      <td>2</td>\n",
       "      <td>NaN</td>\n",
       "      <td>NaN</td>\n",
       "      <td>NaN</td>\n",
       "      <td>NaN</td>\n",
       "      <td>NaN</td>\n",
       "    </tr>\n",
       "    <tr>\n",
       "      <th>15</th>\n",
       "      <td>2</td>\n",
       "      <td>13724</td>\n",
       "      <td>0.077491</td>\n",
       "      <td>0.003627</td>\n",
       "      <td>0.0</td>\n",
       "      <td>0.0</td>\n",
       "      <td>4</td>\n",
       "      <td>0.75</td>\n",
       "      <td>{'estimator__gradientboostingsurvivalanalysis_...</td>\n",
       "      <td>NaN</td>\n",
       "      <td>NaN</td>\n",
       "      <td>NaN</td>\n",
       "      <td>NaN</td>\n",
       "      <td>NaN</td>\n",
       "      <td>3</td>\n",
       "      <td>NaN</td>\n",
       "      <td>NaN</td>\n",
       "      <td>NaN</td>\n",
       "      <td>NaN</td>\n",
       "      <td>NaN</td>\n",
       "    </tr>\n",
       "    <tr>\n",
       "      <th>14</th>\n",
       "      <td>2</td>\n",
       "      <td>13724</td>\n",
       "      <td>0.062741</td>\n",
       "      <td>0.002501</td>\n",
       "      <td>0.0</td>\n",
       "      <td>0.0</td>\n",
       "      <td>4</td>\n",
       "      <td>0.5</td>\n",
       "      <td>{'estimator__gradientboostingsurvivalanalysis_...</td>\n",
       "      <td>NaN</td>\n",
       "      <td>NaN</td>\n",
       "      <td>NaN</td>\n",
       "      <td>NaN</td>\n",
       "      <td>NaN</td>\n",
       "      <td>4</td>\n",
       "      <td>NaN</td>\n",
       "      <td>NaN</td>\n",
       "      <td>NaN</td>\n",
       "      <td>NaN</td>\n",
       "      <td>NaN</td>\n",
       "    </tr>\n",
       "    <tr>\n",
       "      <th>13</th>\n",
       "      <td>1</td>\n",
       "      <td>6862</td>\n",
       "      <td>0.036771</td>\n",
       "      <td>0.003473</td>\n",
       "      <td>0.0</td>\n",
       "      <td>0.0</td>\n",
       "      <td>4</td>\n",
       "      <td>0.9</td>\n",
       "      <td>{'estimator__gradientboostingsurvivalanalysis_...</td>\n",
       "      <td>NaN</td>\n",
       "      <td>NaN</td>\n",
       "      <td>NaN</td>\n",
       "      <td>NaN</td>\n",
       "      <td>NaN</td>\n",
       "      <td>5</td>\n",
       "      <td>NaN</td>\n",
       "      <td>NaN</td>\n",
       "      <td>NaN</td>\n",
       "      <td>NaN</td>\n",
       "      <td>NaN</td>\n",
       "    </tr>\n",
       "    <tr>\n",
       "      <th>12</th>\n",
       "      <td>1</td>\n",
       "      <td>6862</td>\n",
       "      <td>0.041902</td>\n",
       "      <td>0.000991</td>\n",
       "      <td>0.0</td>\n",
       "      <td>0.0</td>\n",
       "      <td>4</td>\n",
       "      <td>0.75</td>\n",
       "      <td>{'estimator__gradientboostingsurvivalanalysis_...</td>\n",
       "      <td>NaN</td>\n",
       "      <td>NaN</td>\n",
       "      <td>NaN</td>\n",
       "      <td>NaN</td>\n",
       "      <td>NaN</td>\n",
       "      <td>6</td>\n",
       "      <td>NaN</td>\n",
       "      <td>NaN</td>\n",
       "      <td>NaN</td>\n",
       "      <td>NaN</td>\n",
       "      <td>NaN</td>\n",
       "    </tr>\n",
       "    <tr>\n",
       "      <th>11</th>\n",
       "      <td>1</td>\n",
       "      <td>6862</td>\n",
       "      <td>0.041911</td>\n",
       "      <td>0.001086</td>\n",
       "      <td>0.0</td>\n",
       "      <td>0.0</td>\n",
       "      <td>4</td>\n",
       "      <td>0.5</td>\n",
       "      <td>{'estimator__gradientboostingsurvivalanalysis_...</td>\n",
       "      <td>NaN</td>\n",
       "      <td>NaN</td>\n",
       "      <td>NaN</td>\n",
       "      <td>NaN</td>\n",
       "      <td>NaN</td>\n",
       "      <td>7</td>\n",
       "      <td>NaN</td>\n",
       "      <td>NaN</td>\n",
       "      <td>NaN</td>\n",
       "      <td>NaN</td>\n",
       "      <td>NaN</td>\n",
       "    </tr>\n",
       "    <tr>\n",
       "      <th>10</th>\n",
       "      <td>1</td>\n",
       "      <td>6862</td>\n",
       "      <td>0.038414</td>\n",
       "      <td>0.000652</td>\n",
       "      <td>0.0</td>\n",
       "      <td>0.0</td>\n",
       "      <td>3</td>\n",
       "      <td>0.9</td>\n",
       "      <td>{'estimator__gradientboostingsurvivalanalysis_...</td>\n",
       "      <td>NaN</td>\n",
       "      <td>NaN</td>\n",
       "      <td>NaN</td>\n",
       "      <td>NaN</td>\n",
       "      <td>NaN</td>\n",
       "      <td>8</td>\n",
       "      <td>NaN</td>\n",
       "      <td>NaN</td>\n",
       "      <td>NaN</td>\n",
       "      <td>NaN</td>\n",
       "      <td>NaN</td>\n",
       "    </tr>\n",
       "    <tr>\n",
       "      <th>17</th>\n",
       "      <td>3</td>\n",
       "      <td>27448</td>\n",
       "      <td>0.125919</td>\n",
       "      <td>0.007822</td>\n",
       "      <td>0.0</td>\n",
       "      <td>0.0</td>\n",
       "      <td>4</td>\n",
       "      <td>0.75</td>\n",
       "      <td>{'estimator__gradientboostingsurvivalanalysis_...</td>\n",
       "      <td>NaN</td>\n",
       "      <td>NaN</td>\n",
       "      <td>NaN</td>\n",
       "      <td>NaN</td>\n",
       "      <td>NaN</td>\n",
       "      <td>9</td>\n",
       "      <td>NaN</td>\n",
       "      <td>NaN</td>\n",
       "      <td>NaN</td>\n",
       "      <td>NaN</td>\n",
       "      <td>NaN</td>\n",
       "    </tr>\n",
       "    <tr>\n",
       "      <th>9</th>\n",
       "      <td>1</td>\n",
       "      <td>6862</td>\n",
       "      <td>0.042208</td>\n",
       "      <td>0.002566</td>\n",
       "      <td>0.0</td>\n",
       "      <td>0.0</td>\n",
       "      <td>3</td>\n",
       "      <td>0.75</td>\n",
       "      <td>{'estimator__gradientboostingsurvivalanalysis_...</td>\n",
       "      <td>NaN</td>\n",
       "      <td>NaN</td>\n",
       "      <td>NaN</td>\n",
       "      <td>NaN</td>\n",
       "      <td>NaN</td>\n",
       "      <td>10</td>\n",
       "      <td>NaN</td>\n",
       "      <td>NaN</td>\n",
       "      <td>NaN</td>\n",
       "      <td>NaN</td>\n",
       "      <td>NaN</td>\n",
       "    </tr>\n",
       "  </tbody>\n",
       "</table>\n",
       "</div>"
      ],
      "text/plain": [
       "    iter  n_resources  mean_fit_time  std_fit_time  mean_score_time  \\\n",
       "0      0         3431       0.078835      0.001342              0.0   \n",
       "16     2        13724       0.058760      0.005589              0.0   \n",
       "15     2        13724       0.077491      0.003627              0.0   \n",
       "14     2        13724       0.062741      0.002501              0.0   \n",
       "13     1         6862       0.036771      0.003473              0.0   \n",
       "12     1         6862       0.041902      0.000991              0.0   \n",
       "11     1         6862       0.041911      0.001086              0.0   \n",
       "10     1         6862       0.038414      0.000652              0.0   \n",
       "17     3        27448       0.125919      0.007822              0.0   \n",
       "9      1         6862       0.042208      0.002566              0.0   \n",
       "\n",
       "    std_score_time  \\\n",
       "0              0.0   \n",
       "16             0.0   \n",
       "15             0.0   \n",
       "14             0.0   \n",
       "13             0.0   \n",
       "12             0.0   \n",
       "11             0.0   \n",
       "10             0.0   \n",
       "17             0.0   \n",
       "9              0.0   \n",
       "\n",
       "   param_estimator__gradientboostingsurvivalanalysis__max_depth  \\\n",
       "0                                                   2             \n",
       "16                                                  4             \n",
       "15                                                  4             \n",
       "14                                                  4             \n",
       "13                                                  4             \n",
       "12                                                  4             \n",
       "11                                                  4             \n",
       "10                                                  3             \n",
       "17                                                  4             \n",
       "9                                                   3             \n",
       "\n",
       "   param_estimator__gradientboostingsurvivalanalysis__subsample  \\\n",
       "0                                                 0.5             \n",
       "16                                                0.9             \n",
       "15                                               0.75             \n",
       "14                                                0.5             \n",
       "13                                                0.9             \n",
       "12                                               0.75             \n",
       "11                                                0.5             \n",
       "10                                                0.9             \n",
       "17                                               0.75             \n",
       "9                                                0.75             \n",
       "\n",
       "                                               params  split0_test_score  \\\n",
       "0   {'estimator__gradientboostingsurvivalanalysis_...                NaN   \n",
       "16  {'estimator__gradientboostingsurvivalanalysis_...                NaN   \n",
       "15  {'estimator__gradientboostingsurvivalanalysis_...                NaN   \n",
       "14  {'estimator__gradientboostingsurvivalanalysis_...                NaN   \n",
       "13  {'estimator__gradientboostingsurvivalanalysis_...                NaN   \n",
       "12  {'estimator__gradientboostingsurvivalanalysis_...                NaN   \n",
       "11  {'estimator__gradientboostingsurvivalanalysis_...                NaN   \n",
       "10  {'estimator__gradientboostingsurvivalanalysis_...                NaN   \n",
       "17  {'estimator__gradientboostingsurvivalanalysis_...                NaN   \n",
       "9   {'estimator__gradientboostingsurvivalanalysis_...                NaN   \n",
       "\n",
       "    split1_test_score  split2_test_score  mean_test_score  std_test_score  \\\n",
       "0                 NaN                NaN              NaN             NaN   \n",
       "16                NaN                NaN              NaN             NaN   \n",
       "15                NaN                NaN              NaN             NaN   \n",
       "14                NaN                NaN              NaN             NaN   \n",
       "13                NaN                NaN              NaN             NaN   \n",
       "12                NaN                NaN              NaN             NaN   \n",
       "11                NaN                NaN              NaN             NaN   \n",
       "10                NaN                NaN              NaN             NaN   \n",
       "17                NaN                NaN              NaN             NaN   \n",
       "9                 NaN                NaN              NaN             NaN   \n",
       "\n",
       "    rank_test_score  split0_train_score  split1_train_score  \\\n",
       "0                 1                 NaN                 NaN   \n",
       "16                2                 NaN                 NaN   \n",
       "15                3                 NaN                 NaN   \n",
       "14                4                 NaN                 NaN   \n",
       "13                5                 NaN                 NaN   \n",
       "12                6                 NaN                 NaN   \n",
       "11                7                 NaN                 NaN   \n",
       "10                8                 NaN                 NaN   \n",
       "17                9                 NaN                 NaN   \n",
       "9                10                 NaN                 NaN   \n",
       "\n",
       "    split2_train_score  mean_train_score  std_train_score  \n",
       "0                  NaN               NaN              NaN  \n",
       "16                 NaN               NaN              NaN  \n",
       "15                 NaN               NaN              NaN  \n",
       "14                 NaN               NaN              NaN  \n",
       "13                 NaN               NaN              NaN  \n",
       "12                 NaN               NaN              NaN  \n",
       "11                 NaN               NaN              NaN  \n",
       "10                 NaN               NaN              NaN  \n",
       "17                 NaN               NaN              NaN  \n",
       "9                  NaN               NaN              NaN  "
      ]
     },
     "execution_count": 153,
     "metadata": {},
     "output_type": "execute_result"
    }
   ],
   "source": [
    "gbm_search_results.sort_values(by = 'rank_test_score').head(10)"
   ]
  },
  {
   "cell_type": "markdown",
   "id": "435c8dea",
   "metadata": {},
   "source": [
    "**The above best tree depth and subsample will be used for all models moving forward mainly due to the computational cost of searching for these parameters for each MICE training set. It also seems likely that these two hyperparamters have small impact on test set AUC performance and are unlikely to change by much for each training set.** "
   ]
  },
  {
   "cell_type": "markdown",
   "id": "795e897c",
   "metadata": {},
   "source": [
    "#### Building model and assessing performance "
   ]
  },
  {
   "cell_type": "code",
   "execution_count": 133,
   "id": "c840e139",
   "metadata": {},
   "outputs": [
    {
     "name": "stdout",
     "output_type": "stream",
     "text": [
      "      Iter       Train Loss      OOB Improve   Remaining Time \n",
      "         1      115853.5079          24.2994          218.99m\n",
      "         2      115462.8345          22.4971          219.04m\n",
      "         3      115754.8024          21.9986          219.10m\n",
      "         4      115725.4951          20.9057          219.17m\n",
      "         5      115211.9880          19.9196          219.15m\n",
      "         6      115337.0394          19.4266          219.12m\n",
      "         7      115561.2511          18.1392          219.09m\n",
      "         8      115809.0132          18.1294          219.28m\n",
      "         9      115516.0633          17.2445          219.06m\n",
      "        10      115279.1094          17.7340          218.63m\n",
      "        20      114947.3252          11.5125          215.90m\n",
      "        30      114548.3294           8.4601          213.75m\n",
      "        40      113670.2730           7.0198          211.84m\n",
      "        50      113844.2823           5.5007          210.14m\n",
      "        60      113485.6436           4.6104          208.42m\n",
      "        70      113810.0154           3.3418          206.78m\n",
      "        80      113155.2044           2.9906          205.15m\n",
      "        90      113115.5682           2.1443          203.54m\n",
      "       100      113012.9997           2.1275          201.94m\n",
      "       200      112057.6133           0.2722          186.36m\n",
      "       300      111901.4736           0.8845          170.74m\n",
      "       400      111441.7606          -0.0631          154.96m\n",
      "       500      110893.5168           0.7060          139.13m\n",
      "       600      110862.5161          -0.4797          123.26m\n",
      "       700      110844.8919          -0.2827          107.38m\n",
      "       800      110172.5909          -0.2235           91.48m\n",
      "       900      109754.2450          -0.0611           75.59m\n",
      "      1000      109637.9067          -0.5621           59.69m\n"
     ]
    },
    {
     "data": {
      "text/plain": [
       "Pipeline(steps=[('columntransformer',\n",
       "                 ColumnTransformer(remainder='passthrough',\n",
       "                                   transformers=[('num',\n",
       "                                                  Pipeline(steps=[('std_scaler',\n",
       "                                                                   StandardScaler())]),\n",
       "                                                  ['age', 'delta_met_diagnosis',\n",
       "                                                   'weight_diag', 'bmi_diag',\n",
       "                                                   'weight_pct_change',\n",
       "                                                   'weight_slope',\n",
       "                                                   'albumin_diag', 'alp_diag',\n",
       "                                                   'alt_diag', 'ast_diag',\n",
       "                                                   'bicarb_diag', 'bun_diag',\n",
       "                                                   'calcium_diag', 'cea_diag',\n",
       "                                                   'chloride_di...\n",
       "                                                   'wbc_max', ...]),\n",
       "                                                 ('cat',\n",
       "                                                  OneHotEncoder(handle_unknown='ignore'),\n",
       "                                                  ['gender', 'race',\n",
       "                                                   'ethnicity', 'p_type',\n",
       "                                                   'region', 'stage',\n",
       "                                                   'met_year', 'crc_site',\n",
       "                                                   'KRAS', 'dMMR_MSIh', 'NRAS',\n",
       "                                                   'BRAF', 'ecog_diagnosis',\n",
       "                                                   'ses'])])),\n",
       "                ('gradientboostingsurvivalanalysis',\n",
       "                 GradientBoostingSurvivalAnalysis(learning_rate=0.05,\n",
       "                                                  max_depth=4,\n",
       "                                                  n_estimators=1375,\n",
       "                                                  random_state=42,\n",
       "                                                  subsample=0.75, verbose=1))])"
      ]
     },
     "execution_count": 155,
     "metadata": {},
     "output_type": "execute_result"
    }
   ],
   "source": [
    "gbm_mice0 = make_pipeline(preprocessor_red, GradientBoostingSurvivalAnalysis(n_estimators = np.where(np.diff(mean_auc_list) < 0)[0][0]*25,\n",
    "                                                                             learning_rate = 0.05,\n",
    "                                                                             max_depth = 4,\n",
    "                                                                             subsample = 0.75,\n",
    "                                                                             verbose = 1,\n",
    "                                                                             random_state = 42))\n",
    "\n",
    "gbm_mice0.fit(train_mice0_x, train_y)"
   ]
  },
  {
   "cell_type": "code",
   "execution_count": 134,
   "id": "43f04725",
   "metadata": {},
   "outputs": [
    {
     "data": {
      "text/plain": [
       "['gbm_mice0.joblib']"
      ]
     },
     "execution_count": 156,
     "metadata": {},
     "output_type": "execute_result"
    }
   ],
   "source": [
    "dump(gbm_mice0, 'gbm_mice0.joblib') "
   ]
  },
  {
   "cell_type": "code",
   "execution_count": 135,
   "id": "1d5bd00f",
   "metadata": {},
   "outputs": [
    {
     "name": "stdout",
     "output_type": "stream",
     "text": [
      "Test set AUC at 2 years: 0.7824983290412124\n"
     ]
    }
   ],
   "source": [
    "gbm_risk_scores_te = gbm_mice0.predict(test_mice_x)\n",
    "gbm_auc_te = cumulative_dynamic_auc(train_y, test_y, gbm_risk_scores_te, 730)[0][0]\n",
    "print('Test set AUC at 2 years:', gbm_auc_te)"
   ]
  },
  {
   "cell_type": "code",
   "execution_count": 136,
   "id": "7845146e",
   "metadata": {},
   "outputs": [
    {
     "name": "stdout",
     "output_type": "stream",
     "text": [
      "Training set AUC at 2 years: 0.8514906952328514\n"
     ]
    }
   ],
   "source": [
    "gbm_risk_scores_tr = gbm_mice0.predict(train_mice0_x)\n",
    "gbm_auc_tr = cumulative_dynamic_auc(train_y, train_y, gbm_risk_scores_tr, 730)[0][0]\n",
    "print('Training set AUC at 2 years:', gbm_auc_tr)"
   ]
  },
  {
   "cell_type": "code",
   "execution_count": 137,
   "id": "cd8dcaed",
   "metadata": {},
   "outputs": [],
   "source": [
    "# Bootstrap 10000 1 yr AUCs for test set \n",
    "n_bootstraps = 10000\n",
    "rng_seed = 42 \n",
    "bootstrapped_scores_te = []\n",
    "\n",
    "rng = np.random.RandomState(rng_seed)\n",
    "for i in range(n_bootstraps):\n",
    "    indices = rng.randint(0, len(gbm_risk_scores_te), len(gbm_risk_scores_te))\n",
    "    auc_yr = cumulative_dynamic_auc(train_y, test_y[indices], gbm_risk_scores_te[indices], 730)[0][0]\n",
    "    bootstrapped_scores_te.append(auc_yr)"
   ]
  },
  {
   "cell_type": "code",
   "execution_count": 138,
   "id": "c105d469",
   "metadata": {},
   "outputs": [
    {
     "name": "stdout",
     "output_type": "stream",
     "text": [
      "Test set AUC standard error: 0.002785059870401144\n"
     ]
    }
   ],
   "source": [
    "# Standard error of mean for test set AUC\n",
    "sorted_scores_te = np.array(bootstrapped_scores_te)\n",
    "sorted_scores_te.sort()\n",
    "\n",
    "conf_lower_te = sorted_scores_te[int(0.025 * len(sorted_scores_te))]\n",
    "conf_upper_te = sorted_scores_te[int(0.975 * len(sorted_scores_te))]\n",
    "\n",
    "standard_error_te = (conf_upper_te - conf_lower_te) / 3.92\n",
    "print('Test set AUC standard error:', standard_error_te)"
   ]
  },
  {
   "cell_type": "code",
   "execution_count": 139,
   "id": "a6a0a1e2",
   "metadata": {},
   "outputs": [],
   "source": [
    "# Bootstrap 10000 1-yr AUCs for train set \n",
    "n_bootstraps = 10000\n",
    "rng_seed = 42 \n",
    "bootstrapped_scores_tr = []\n",
    "\n",
    "rng = np.random.RandomState(rng_seed)\n",
    "for i in range(n_bootstraps):\n",
    "    indices = rng.randint(0, len(gbm_risk_scores_tr), len(gbm_risk_scores_tr))\n",
    "    auc_yr = cumulative_dynamic_auc(train_y, train_y[indices], gbm_risk_scores_tr[indices], 730)[0][0]\n",
    "    bootstrapped_scores_tr.append(auc_yr)"
   ]
  },
  {
   "cell_type": "code",
   "execution_count": 140,
   "id": "24f8239a",
   "metadata": {},
   "outputs": [
    {
     "name": "stdout",
     "output_type": "stream",
     "text": [
      "Training set AUC standard error 0.002568813402589431\n"
     ]
    }
   ],
   "source": [
    "# Standard error of mean for train set AUC\n",
    "sorted_scores_tr = np.array(bootstrapped_scores_tr)\n",
    "sorted_scores_tr.sort()\n",
    "\n",
    "conf_lower_tr = sorted_scores_tr[int(0.025 * len(sorted_scores_tr))]\n",
    "conf_upper_tr = sorted_scores_tr[int(0.975 * len(sorted_scores_tr))]\n",
    "\n",
    "standard_error_tr = (conf_upper_tr - conf_lower_tr) / 3.92\n",
    "print('Training set AUC standard error', standard_error_tr)"
   ]
  },
  {
   "cell_type": "code",
   "execution_count": 141,
   "id": "458ff456",
   "metadata": {},
   "outputs": [],
   "source": [
    "mice_auc_data = {'mice_dataset': ['mice_0'],\n",
    "                 'auc_2yr_te': [gbm_auc_te],\n",
    "                 'sem_te': [standard_error_te],\n",
    "                 'auc_2yr_tr': [gbm_auc_tr],\n",
    "                 'sem_tr': [standard_error_tr]}\n",
    "\n",
    "mice_auc_df = pd.DataFrame(mice_auc_data)"
   ]
  },
  {
   "cell_type": "code",
   "execution_count": 142,
   "id": "8623d51c",
   "metadata": {},
   "outputs": [
    {
     "data": {
      "text/html": [
       "<div>\n",
       "<style scoped>\n",
       "    .dataframe tbody tr th:only-of-type {\n",
       "        vertical-align: middle;\n",
       "    }\n",
       "\n",
       "    .dataframe tbody tr th {\n",
       "        vertical-align: top;\n",
       "    }\n",
       "\n",
       "    .dataframe thead th {\n",
       "        text-align: right;\n",
       "    }\n",
       "</style>\n",
       "<table border=\"1\" class=\"dataframe\">\n",
       "  <thead>\n",
       "    <tr style=\"text-align: right;\">\n",
       "      <th></th>\n",
       "      <th>mice_dataset</th>\n",
       "      <th>auc_2yr_te</th>\n",
       "      <th>sem_te</th>\n",
       "      <th>auc_2yr_tr</th>\n",
       "      <th>sem_tr</th>\n",
       "    </tr>\n",
       "  </thead>\n",
       "  <tbody>\n",
       "    <tr>\n",
       "      <th>0</th>\n",
       "      <td>mice_0</td>\n",
       "      <td>0.782498</td>\n",
       "      <td>0.002785</td>\n",
       "      <td>0.851491</td>\n",
       "      <td>0.002569</td>\n",
       "    </tr>\n",
       "  </tbody>\n",
       "</table>\n",
       "</div>"
      ],
      "text/plain": [
       "  mice_dataset  auc_2yr_te    sem_te  auc_2yr_tr    sem_tr\n",
       "0       mice_0    0.782498  0.002785    0.851491  0.002569"
      ]
     },
     "execution_count": 164,
     "metadata": {},
     "output_type": "execute_result"
    }
   ],
   "source": [
    "mice_auc_df"
   ]
  },
  {
   "cell_type": "code",
   "execution_count": 143,
   "id": "fab67758",
   "metadata": {},
   "outputs": [],
   "source": [
    "mice_auc_df.to_csv('mice_auc_df.csv', index = False, header = True)"
   ]
  },
  {
   "cell_type": "code",
   "execution_count": 144,
   "id": "4023c8a3",
   "metadata": {},
   "outputs": [],
   "source": [
    "times = np.arange(30, 1810, 30)\n",
    "mice0_auc_over5 = cumulative_dynamic_auc(train_y, test_y, gbm_risk_scores_te, times)[0]\n",
    "\n",
    "times_data = {}\n",
    "values = mice0_auc_over5\n",
    "time_names = []\n",
    "\n",
    "for x in range(len(times)):\n",
    "    time_names.append('time_'+str(times[x]))\n",
    "\n",
    "for i in range(len(time_names)):\n",
    "    times_data[time_names[i]] = values[i]\n",
    "    \n",
    "mice_auc_over5 = pd.DataFrame(times_data, index = ['mice_0'])"
   ]
  },
  {
   "cell_type": "code",
   "execution_count": 145,
   "id": "0bd66a0f",
   "metadata": {},
   "outputs": [
    {
     "data": {
      "text/html": [
       "<div>\n",
       "<style scoped>\n",
       "    .dataframe tbody tr th:only-of-type {\n",
       "        vertical-align: middle;\n",
       "    }\n",
       "\n",
       "    .dataframe tbody tr th {\n",
       "        vertical-align: top;\n",
       "    }\n",
       "\n",
       "    .dataframe thead th {\n",
       "        text-align: right;\n",
       "    }\n",
       "</style>\n",
       "<table border=\"1\" class=\"dataframe\">\n",
       "  <thead>\n",
       "    <tr style=\"text-align: right;\">\n",
       "      <th></th>\n",
       "      <th>time_30</th>\n",
       "      <th>time_60</th>\n",
       "      <th>time_90</th>\n",
       "      <th>time_120</th>\n",
       "      <th>time_150</th>\n",
       "      <th>time_180</th>\n",
       "      <th>time_210</th>\n",
       "      <th>time_240</th>\n",
       "      <th>time_270</th>\n",
       "      <th>time_300</th>\n",
       "      <th>...</th>\n",
       "      <th>time_1530</th>\n",
       "      <th>time_1560</th>\n",
       "      <th>time_1590</th>\n",
       "      <th>time_1620</th>\n",
       "      <th>time_1650</th>\n",
       "      <th>time_1680</th>\n",
       "      <th>time_1710</th>\n",
       "      <th>time_1740</th>\n",
       "      <th>time_1770</th>\n",
       "      <th>time_1800</th>\n",
       "    </tr>\n",
       "  </thead>\n",
       "  <tbody>\n",
       "    <tr>\n",
       "      <th>mice_0</th>\n",
       "      <td>0.88861</td>\n",
       "      <td>0.903288</td>\n",
       "      <td>0.884143</td>\n",
       "      <td>0.869969</td>\n",
       "      <td>0.864156</td>\n",
       "      <td>0.855605</td>\n",
       "      <td>0.849778</td>\n",
       "      <td>0.844226</td>\n",
       "      <td>0.839047</td>\n",
       "      <td>0.831123</td>\n",
       "      <td>...</td>\n",
       "      <td>0.750106</td>\n",
       "      <td>0.749444</td>\n",
       "      <td>0.747275</td>\n",
       "      <td>0.745356</td>\n",
       "      <td>0.746439</td>\n",
       "      <td>0.744329</td>\n",
       "      <td>0.745306</td>\n",
       "      <td>0.748618</td>\n",
       "      <td>0.746243</td>\n",
       "      <td>0.746946</td>\n",
       "    </tr>\n",
       "  </tbody>\n",
       "</table>\n",
       "<p>1 rows × 60 columns</p>\n",
       "</div>"
      ],
      "text/plain": [
       "        time_30   time_60   time_90  time_120  time_150  time_180  time_210  \\\n",
       "mice_0  0.88861  0.903288  0.884143  0.869969  0.864156  0.855605  0.849778   \n",
       "\n",
       "        time_240  time_270  time_300  ...  time_1530  time_1560  time_1590  \\\n",
       "mice_0  0.844226  0.839047  0.831123  ...   0.750106   0.749444   0.747275   \n",
       "\n",
       "        time_1620  time_1650  time_1680  time_1710  time_1740  time_1770  \\\n",
       "mice_0   0.745356   0.746439   0.744329   0.745306   0.748618   0.746243   \n",
       "\n",
       "        time_1800  \n",
       "mice_0   0.746946  \n",
       "\n",
       "[1 rows x 60 columns]"
      ]
     },
     "execution_count": 167,
     "metadata": {},
     "output_type": "execute_result"
    }
   ],
   "source": [
    "mice_auc_over5"
   ]
  },
  {
   "cell_type": "code",
   "execution_count": 146,
   "id": "47ec8581",
   "metadata": {},
   "outputs": [],
   "source": [
    "mice_auc_over5.to_csv('mice_auc_over5.csv', index = True, header = True)"
   ]
  },
  {
   "cell_type": "code",
   "execution_count": 147,
   "id": "33fac4fe",
   "metadata": {},
   "outputs": [],
   "source": [
    "# Variables passing through pipeline_rsf\n",
    "cat_encoder = list(preprocessor_red.transformers_[1][1].get_feature_names(categorical_features))\n",
    "pass_through = list(train_mice0_x.iloc[:, preprocessor_red.transformers_[2][2]].columns)\n",
    "attributes_gbm = numerical_features_red + cat_encoder + pass_through"
   ]
  },
  {
   "cell_type": "code",
   "execution_count": 148,
   "id": "67ec6b1e",
   "metadata": {},
   "outputs": [
    {
     "name": "stdout",
     "output_type": "stream",
     "text": [
      "Total number of features: 194\n",
      "Number of non-zero features in final model: 192\n"
     ]
    },
    {
     "data": {
      "image/png": "[encoded data removed]",
      "text/plain": [
       "<Figure size 432x576 with 1 Axes>"
      ]
     },
     "metadata": {
      "needs_background": "light"
     },
     "output_type": "display_data"
    }
   ],
   "source": [
    "# Dataframe of coefficients for each variable \n",
    "coefficients_mice0 = pd.DataFrame(\n",
    "    gbm_mice0.named_steps['gradientboostingsurvivalanalysis'].feature_importances_,\n",
    "    index = attributes_gbm,\n",
    "    columns = ['coefficient']\n",
    ")\n",
    "\n",
    "print('Total number of features: {}'.format(len(attributes_gbm)))\n",
    "\n",
    "non_zero = np.sum(coefficients_mice0.iloc[:, 0] != 0)\n",
    "print('Number of non-zero features in final model: {}'.format(non_zero))\n",
    "\n",
    "non_zero_coefs = coefficients_mice0.query('coefficient != 0')\n",
    "coef_order = non_zero_coefs.abs().sort_values('coefficient').tail(30).index\n",
    "\n",
    "_, ax = plt.subplots(figsize=(6, 8))\n",
    "non_zero_coefs.loc[coef_order].plot.barh(ax = ax, legend = False)\n",
    "ax.set_xlabel('coefficient')\n",
    "ax.grid(True)"
   ]
  },
  {
   "cell_type": "code",
   "execution_count": 149,
   "id": "22d800c6",
   "metadata": {},
   "outputs": [],
   "source": [
    "coefficients_mice = (\n",
    "    coefficients_mice0\n",
    "    .reset_index()\n",
    "    .rename(columns = {'index':'variable'}))"
   ]
  },
  {
   "cell_type": "code",
   "execution_count": 150,
   "id": "28ce619a",
   "metadata": {},
   "outputs": [],
   "source": [
    "coefficients_mice.to_csv('coefficients_mice.csv', index = False, header = True)"
   ]
  },
  {
   "cell_type": "markdown",
   "id": "1ba610b7",
   "metadata": {},
   "source": [
    "### 3.2 Model 1"
   ]
  },
  {
   "cell_type": "markdown",
   "id": "04159c65",
   "metadata": {},
   "source": [
    "#### Preprocessing and building pipeline "
   ]
  },
  {
   "cell_type": "code",
   "execution_count": 151,
   "id": "693d5ac8",
   "metadata": {},
   "outputs": [],
   "source": [
    "# Import second training set\n",
    "train_mice1 = pd.read_csv('mice_tr1.csv', index_col = 'PatientID')"
   ]
  },
  {
   "cell_type": "code",
   "execution_count": 152,
   "id": "0edbce8d",
   "metadata": {},
   "outputs": [
    {
     "name": "stdout",
     "output_type": "stream",
     "text": [
      "(27452, 185)\n"
     ]
    }
   ],
   "source": [
    "print(train_mice1.shape)"
   ]
  },
  {
   "cell_type": "code",
   "execution_count": 153,
   "id": "296bea58",
   "metadata": {},
   "outputs": [
    {
     "data": {
      "text/plain": [
       "0"
      ]
     },
     "execution_count": 175,
     "metadata": {},
     "output_type": "execute_result"
    }
   ],
   "source": [
    "train_mice1.isna().sum().sum()"
   ]
  },
  {
   "cell_type": "code",
   "execution_count": 154,
   "id": "c1cd924b",
   "metadata": {},
   "outputs": [],
   "source": [
    "train_mice1 = train_mice1.drop(columns = mice_drop)"
   ]
  },
  {
   "cell_type": "code",
   "execution_count": 155,
   "id": "a667e4f7",
   "metadata": {},
   "outputs": [
    {
     "name": "stdout",
     "output_type": "stream",
     "text": [
      "(27452, 147)\n",
      "(34315, 150)\n"
     ]
    }
   ],
   "source": [
    "print(train_mice1.shape)\n",
    "print(test_mice.shape)"
   ]
  },
  {
   "cell_type": "code",
   "execution_count": 156,
   "id": "46b2a1e9",
   "metadata": {},
   "outputs": [],
   "source": [
    "train_mice1['ecog_na'] = np.where(train_mice1.index.isin(train.query('ecog_diagnosis == \"unknown\"').PatientID), 1, 0)\n",
    "train_mice1['stage_na'] = np.where(train_mice1.index.isin(train.query('stage == \"unknown\"').PatientID), 1, 0)\n",
    "train_mice1['ses_na'] = np.where(train_mice1.index.isin(train[train['ses'].isnull()].PatientID), 1, 0)"
   ]
  },
  {
   "cell_type": "code",
   "execution_count": 157,
   "id": "dd0739c8",
   "metadata": {},
   "outputs": [
    {
     "data": {
      "text/plain": [
       "['gender',\n",
       " 'race',\n",
       " 'ethnicity',\n",
       " 'p_type',\n",
       " 'region',\n",
       " 'stage',\n",
       " 'met_year',\n",
       " 'crc_site',\n",
       " 'KRAS',\n",
       " 'dMMR_MSIh',\n",
       " 'NRAS',\n",
       " 'BRAF',\n",
       " 'ecog_diagnosis',\n",
       " 'ses']"
      ]
     },
     "execution_count": 179,
     "metadata": {},
     "output_type": "execute_result"
    }
   ],
   "source": [
    "for x in list(to_be_categorical):\n",
    "    train_mice1[x] = train_mice1[x].astype('category')\n",
    "    \n",
    "list(train_mice1.select_dtypes(include = ['category']).columns)"
   ]
  },
  {
   "cell_type": "code",
   "execution_count": 158,
   "id": "4f79152b",
   "metadata": {},
   "outputs": [],
   "source": [
    "train_mice1['death_status'] = train_mice1['death_status'].astype('bool')"
   ]
  },
  {
   "cell_type": "code",
   "execution_count": 159,
   "id": "0862f76e",
   "metadata": {},
   "outputs": [],
   "source": [
    "val_mice1 = train_mice1[train_mice1.index.isin(val_IDs['PatientID'])]\n",
    "\n",
    "sub_train_mice1 = train_mice1[~train_mice1.index.isin(val_IDs['PatientID'])]"
   ]
  },
  {
   "cell_type": "code",
   "execution_count": 160,
   "id": "fa5c3cdd",
   "metadata": {},
   "outputs": [
    {
     "name": "stdout",
     "output_type": "stream",
     "text": [
      "(27452, 150)\n",
      "(20589, 150)\n",
      "(6863, 150)\n"
     ]
    }
   ],
   "source": [
    "print(train_mice1.shape)\n",
    "print(sub_train_mice1.shape)\n",
    "print(val_mice1.shape)"
   ]
  },
  {
   "cell_type": "code",
   "execution_count": 161,
   "id": "0b75311c",
   "metadata": {},
   "outputs": [],
   "source": [
    "train_mice1_x = train_mice1.drop(columns = ['death_status', 'timerisk_activity'])\n",
    "\n",
    "sub_train_mice1_x = sub_train_mice1.drop(columns = ['death_status', 'timerisk_activity'])\n",
    "\n",
    "val_mice1_x = val_mice1.drop(columns = ['death_status', 'timerisk_activity'])"
   ]
  },
  {
   "cell_type": "code",
   "execution_count": 162,
   "id": "c14a36d5",
   "metadata": {},
   "outputs": [
    {
     "name": "stdout",
     "output_type": "stream",
     "text": [
      "(27452, 148)\n",
      "(20589, 148)\n",
      "(6863, 148)\n"
     ]
    }
   ],
   "source": [
    "print(train_mice1_x.shape)\n",
    "print(sub_train_mice1_x.shape)\n",
    "print(val_mice1_x.shape)"
   ]
  },
  {
   "cell_type": "markdown",
   "id": "0b459ac7",
   "metadata": {},
   "source": [
    "#### Hyperparameter tuning "
   ]
  },
  {
   "cell_type": "code",
   "execution_count": 163,
   "id": "cc6ad82a",
   "metadata": {},
   "outputs": [
    {
     "name": "stdout",
     "output_type": "stream",
     "text": [
      "      Iter       Train Loss      OOB Improve   Remaining Time \n",
      "         1       84779.3623          17.3192          135.23m\n",
      "         2       84197.9546          17.9614          135.68m\n",
      "         3       84038.5829          16.4311          135.65m\n",
      "         4       84217.4895          15.4635          135.44m\n",
      "         5       84217.5526          14.3841          135.13m\n",
      "         6       84351.2555          13.4458          134.92m\n",
      "         7       83971.8719          13.5842          134.82m\n",
      "         8       84228.0847          13.0834          134.60m\n",
      "         9       83759.6775          12.9376          134.43m\n",
      "        10       83478.5765          12.7548          134.25m\n",
      "        20       83965.2386           9.2999          132.99m\n",
      "        30       83039.5231           6.2839          131.91m\n",
      "        40       82763.4198           5.4778          130.82m\n",
      "        50       83007.5213           4.8992          129.84m\n",
      "        60       83316.3249           3.0159          128.88m\n",
      "        70       82700.3709           2.3812          127.95m\n",
      "        80       82380.3159           2.5598          127.05m\n",
      "        90       82443.7841           2.2422          126.12m\n",
      "       100       82640.9969           2.0868          125.24m\n",
      "       200       82180.3824           0.4391          116.30m\n",
      "       300       81123.8660           0.1198          107.34m\n",
      "       400       81217.6818          -0.3086           98.40m\n",
      "       500       80150.6002          -0.0281           89.48m\n",
      "       600       80579.7138           0.0687           80.53m\n",
      "       700       80352.6097          -0.2073           71.59m\n",
      "       800       80141.5152          -0.1432           62.65m\n",
      "       900       80012.9092          -0.3951           53.71m\n",
      "      1000       79391.9840          -0.2795           44.77m\n"
     ]
    },
    {
     "data": {
      "text/plain": [
       "GradientBoostingSurvivalAnalysis(learning_rate=0.05, max_depth=4,\n",
       "                                 n_estimators=1500, random_state=42,\n",
       "                                 subsample=0.75, verbose=1)"
      ]
     },
     "execution_count": 185,
     "metadata": {},
     "output_type": "execute_result"
    }
   ],
   "source": [
    "sub_train_mice1_xt = preprocessor_red.fit_transform(sub_train_mice1_x)\n",
    "val_mice1_xt = preprocessor_red.transform(val_mice1_x)\n",
    "\n",
    "gbm_mice1_exp = GradientBoostingSurvivalAnalysis(n_estimators = 1500,\n",
    "                                                 learning_rate = 0.05,\n",
    "                                                 max_depth = 4,\n",
    "                                                 subsample = 0.75,\n",
    "                                                 verbose = 1,\n",
    "                                                 random_state = 42)\n",
    "\n",
    "gbm_mice1_exp.fit(sub_train_mice1_xt, sub_train_y)"
   ]
  },
  {
   "cell_type": "code",
   "execution_count": 164,
   "id": "128ae7f4",
   "metadata": {},
   "outputs": [],
   "source": [
    "gbm1_staged_auc = [cumulative_dynamic_auc(sub_train_y, val_y, risk_score, 730)[0][0] for \n",
    "                   risk_score in gbm_mice1_exp.staged_predict(val_mice1_xt)]"
   ]
  },
  {
   "cell_type": "code",
   "execution_count": 165,
   "id": "04d54606",
   "metadata": {},
   "outputs": [],
   "source": [
    "gbm1_staged_auc_tr = [cumulative_dynamic_auc(sub_train_y, sub_train_y, risk_score, 730)[0][0] for \n",
    "                      risk_score in gbm_mice1_exp.staged_predict(sub_train_mice1_xt)]"
   ]
  },
  {
   "cell_type": "code",
   "execution_count": 166,
   "id": "5f4afbeb",
   "metadata": {},
   "outputs": [
    {
     "data": {
      "image/png": "[encoded data removed]",
      "text/plain": [
       "<Figure size 432x288 with 1 Axes>"
      ]
     },
     "metadata": {
      "needs_background": "light"
     },
     "output_type": "display_data"
    }
   ],
   "source": [
    "fig = plt.figure()\n",
    "ax = fig.add_subplot(1, 1, 1)\n",
    "\n",
    "x = range(len(gbm1_staged_auc))\n",
    "plt.plot(x, gbm1_staged_auc, color = 'blue', label = 'validation')\n",
    "plt.plot(x, gbm1_staged_auc_tr, color = 'red', label = 'training')\n",
    "plt.legend(loc = 'lower right')\n",
    "\n",
    "plt.xlabel(\"n_estimators\")\n",
    "plt.ylabel(\"AUC at 2-years\")\n",
    "plt.title('Gradient boosting model learning curve for mice1')\n",
    "\n",
    "plt.show()"
   ]
  },
  {
   "cell_type": "code",
   "execution_count": 167,
   "id": "f831629d",
   "metadata": {},
   "outputs": [],
   "source": [
    "# Average AUC for every 25 additional trees. \n",
    "mean_auc_list = []\n",
    "for x in np.arange(0, len(gbm1_staged_auc), 25):\n",
    "    mean_auc_list.append(np.mean(gbm1_staged_auc[x:x+24]))"
   ]
  },
  {
   "cell_type": "code",
   "execution_count": 168,
   "id": "7104c2de",
   "metadata": {},
   "outputs": [
    {
     "name": "stdout",
     "output_type": "stream",
     "text": [
      "Number of trees where 2 year AUC on validation dataset beings to downgrade: 900\n",
      "Validation dataset AUC before degrading: 0.7689604477995469\n",
      "Training dataset AUC before degrading: 0.845624679765183\n"
     ]
    }
   ],
   "source": [
    "print('Number of trees where 2 year AUC on validation dataset beings to downgrade:', np.where(np.diff(mean_auc_list) < 0)[0][0]*25)\n",
    "print('Validation dataset AUC before degrading:', gbm1_staged_auc[np.where(np.diff(mean_auc_list) < 0)[0][0]*25])\n",
    "print('Training dataset AUC before degrading:', gbm1_staged_auc_tr[np.where(np.diff(mean_auc_list) < 0)[0][0]*25])"
   ]
  },
  {
   "cell_type": "markdown",
   "id": "984e2e76",
   "metadata": {},
   "source": [
    "#### Building model and assessing performance "
   ]
  },
  {
   "cell_type": "code",
   "execution_count": 169,
   "id": "2c59db75",
   "metadata": {},
   "outputs": [
    {
     "name": "stdout",
     "output_type": "stream",
     "text": [
      "      Iter       Train Loss      OOB Improve   Remaining Time \n",
      "         1      115853.3566          23.6645          144.14m\n",
      "         2      115459.4543          22.3193          143.94m\n",
      "         3      115753.2939          21.6242          144.23m\n",
      "         4      115720.7876          20.0694          143.96m\n",
      "         5      115210.1272          19.9505          143.74m\n",
      "         6      115336.2405          19.3432          143.48m\n",
      "         7      115566.7127          16.8332          143.25m\n",
      "         8      115805.8560          17.3411          143.10m\n",
      "         9      115516.6513          17.0648          142.88m\n",
      "        10      115278.6140          16.8639          142.65m\n",
      "        20      114946.6651          11.8798          140.69m\n",
      "        30      114554.2647           8.9540          138.96m\n",
      "        40      113671.5148           6.7887          137.26m\n",
      "        50      113831.5152           6.4693          135.66m\n",
      "        60      113502.9581           5.1334          134.10m\n",
      "        70      113792.1792           2.6518          132.51m\n",
      "        80      113146.4652           2.6863          130.89m\n",
      "        90      113123.1318           2.6307          129.27m\n",
      "       100      113008.5269           1.7691          127.67m\n",
      "       200      112037.8928           0.6339          111.73m\n",
      "       300      111891.2231           0.7874           95.59m\n",
      "       400      111418.3693           0.6240           79.59m\n",
      "       500      110895.9749           0.5171           63.70m\n",
      "       600      110899.0551          -0.0933           47.78m\n",
      "       700      110850.5276          -0.1460           31.86m\n",
      "       800      110202.4447          -0.1408           15.93m\n",
      "       900      109759.6315          -0.4470            0.00s\n"
     ]
    },
    {
     "data": {
      "text/plain": [
       "Pipeline(steps=[('columntransformer',\n",
       "                 ColumnTransformer(remainder='passthrough',\n",
       "                                   transformers=[('num',\n",
       "                                                  Pipeline(steps=[('std_scaler',\n",
       "                                                                   StandardScaler())]),\n",
       "                                                  ['age', 'delta_met_diagnosis',\n",
       "                                                   'weight_diag', 'bmi_diag',\n",
       "                                                   'weight_pct_change',\n",
       "                                                   'weight_slope',\n",
       "                                                   'albumin_diag', 'alp_diag',\n",
       "                                                   'alt_diag', 'ast_diag',\n",
       "                                                   'bicarb_diag', 'bun_diag',\n",
       "                                                   'calcium_diag', 'cea_diag',\n",
       "                                                   'chloride_di...\n",
       "                                                   'wbc_max', ...]),\n",
       "                                                 ('cat',\n",
       "                                                  OneHotEncoder(handle_unknown='ignore'),\n",
       "                                                  ['gender', 'race',\n",
       "                                                   'ethnicity', 'p_type',\n",
       "                                                   'region', 'stage',\n",
       "                                                   'met_year', 'crc_site',\n",
       "                                                   'KRAS', 'dMMR_MSIh', 'NRAS',\n",
       "                                                   'BRAF', 'ecog_diagnosis',\n",
       "                                                   'ses'])])),\n",
       "                ('gradientboostingsurvivalanalysis',\n",
       "                 GradientBoostingSurvivalAnalysis(learning_rate=0.05,\n",
       "                                                  max_depth=4, n_estimators=900,\n",
       "                                                  random_state=42,\n",
       "                                                  subsample=0.75, verbose=1))])"
      ]
     },
     "execution_count": 191,
     "metadata": {},
     "output_type": "execute_result"
    }
   ],
   "source": [
    "gbm_mice1 = make_pipeline(preprocessor_red, GradientBoostingSurvivalAnalysis(n_estimators = np.where(np.diff(mean_auc_list) < 0)[0][0]*25,\n",
    "                                                                             learning_rate = 0.05,\n",
    "                                                                             max_depth = 4,\n",
    "                                                                             subsample = 0.75,\n",
    "                                                                             verbose = 1,\n",
    "                                                                             random_state = 42))\n",
    "\n",
    "gbm_mice1.fit(train_mice1_x, train_y)"
   ]
  },
  {
   "cell_type": "code",
   "execution_count": 170,
   "id": "e4d157e0",
   "metadata": {},
   "outputs": [
    {
     "data": {
      "text/plain": [
       "['gbm_mice1.joblib']"
      ]
     },
     "execution_count": 192,
     "metadata": {},
     "output_type": "execute_result"
    }
   ],
   "source": [
    "dump(gbm_mice1, 'gbm_mice1.joblib') "
   ]
  },
  {
   "cell_type": "code",
   "execution_count": 171,
   "id": "659e987c",
   "metadata": {},
   "outputs": [
    {
     "name": "stdout",
     "output_type": "stream",
     "text": [
      "Test set AUC at 2 years: 0.7795695792439274\n"
     ]
    }
   ],
   "source": [
    "gbm_risk_scores_te = gbm_mice1.predict(test_mice_x)\n",
    "gbm_auc_te = cumulative_dynamic_auc(train_y, test_y, gbm_risk_scores_te, 730)[0][0]\n",
    "print('Test set AUC at 2 years:', gbm_auc_te)"
   ]
  },
  {
   "cell_type": "code",
   "execution_count": 172,
   "id": "b2278fc7",
   "metadata": {},
   "outputs": [
    {
     "name": "stdout",
     "output_type": "stream",
     "text": [
      "Training set AUC at 2 years: 0.8310945173814785\n"
     ]
    }
   ],
   "source": [
    "gbm_risk_scores_tr = gbm_mice1.predict(train_mice1_x)\n",
    "gbm_auc_tr = cumulative_dynamic_auc(train_y, train_y, gbm_risk_scores_tr, 730)[0][0]\n",
    "print('Training set AUC at 2 years:', gbm_auc_tr)"
   ]
  },
  {
   "cell_type": "code",
   "execution_count": 173,
   "id": "b9f70d55",
   "metadata": {},
   "outputs": [],
   "source": [
    "# Bootstrap 10000 1 yr AUCs for test set \n",
    "n_bootstraps = 10000\n",
    "rng_seed = 42 \n",
    "bootstrapped_scores_te = []\n",
    "\n",
    "rng = np.random.RandomState(rng_seed)\n",
    "for i in range(n_bootstraps):\n",
    "    indices = rng.randint(0, len(gbm_risk_scores_te), len(gbm_risk_scores_te))\n",
    "    auc_yr = cumulative_dynamic_auc(train_y, test_y[indices], gbm_risk_scores_te[indices], 730)[0][0]\n",
    "    bootstrapped_scores_te.append(auc_yr)"
   ]
  },
  {
   "cell_type": "code",
   "execution_count": 174,
   "id": "8b3b9611",
   "metadata": {},
   "outputs": [
    {
     "name": "stdout",
     "output_type": "stream",
     "text": [
      "Test set AUC standard error: 0.002796750905250061\n"
     ]
    }
   ],
   "source": [
    "# Standard error of mean for test set AUC\n",
    "sorted_scores_te = np.array(bootstrapped_scores_te)\n",
    "sorted_scores_te.sort()\n",
    "\n",
    "conf_lower_te = sorted_scores_te[int(0.025 * len(sorted_scores_te))]\n",
    "conf_upper_te = sorted_scores_te[int(0.975 * len(sorted_scores_te))]\n",
    "\n",
    "standard_error_te = (conf_upper_te - conf_lower_te) / 3.92\n",
    "print('Test set AUC standard error:', standard_error_te)"
   ]
  },
  {
   "cell_type": "code",
   "execution_count": 175,
   "id": "0a17593d",
   "metadata": {},
   "outputs": [],
   "source": [
    "# Bootstrap 10000 1-yr AUCs for train set \n",
    "n_bootstraps = 10000\n",
    "rng_seed = 42 \n",
    "bootstrapped_scores_tr = []\n",
    "\n",
    "rng = np.random.RandomState(rng_seed)\n",
    "for i in range(n_bootstraps):\n",
    "    indices = rng.randint(0, len(gbm_risk_scores_tr), len(gbm_risk_scores_tr))\n",
    "    auc_yr = cumulative_dynamic_auc(train_y, train_y[indices], gbm_risk_scores_tr[indices], 730)[0][0]\n",
    "    bootstrapped_scores_tr.append(auc_yr)"
   ]
  },
  {
   "cell_type": "code",
   "execution_count": 176,
   "id": "d40778d6",
   "metadata": {},
   "outputs": [
    {
     "name": "stdout",
     "output_type": "stream",
     "text": [
      "Training set AUC standard error 0.002769567459328931\n"
     ]
    }
   ],
   "source": [
    "# Standard error of mean for train set AUC\n",
    "sorted_scores_tr = np.array(bootstrapped_scores_tr)\n",
    "sorted_scores_tr.sort()\n",
    "\n",
    "conf_lower_tr = sorted_scores_tr[int(0.025 * len(sorted_scores_tr))]\n",
    "conf_upper_tr = sorted_scores_tr[int(0.975 * len(sorted_scores_tr))]\n",
    "\n",
    "standard_error_tr = (conf_upper_tr - conf_lower_tr) / 3.92\n",
    "print('Training set AUC standard error', standard_error_tr)"
   ]
  },
  {
   "cell_type": "code",
   "execution_count": 177,
   "id": "d2a948d4",
   "metadata": {},
   "outputs": [],
   "source": [
    "mice_auc_data = {'mice_dataset': 'mice_1',\n",
    "                 'auc_2yr_te': gbm_auc_te,\n",
    "                 'sem_te': standard_error_te,\n",
    "                 'auc_2yr_tr': gbm_auc_tr,\n",
    "                 'sem_tr': standard_error_tr}\n",
    "\n",
    "mice_auc_df = mice_auc_df.append(mice_auc_data, ignore_index = True)"
   ]
  },
  {
   "cell_type": "code",
   "execution_count": 178,
   "id": "ffa5de11",
   "metadata": {},
   "outputs": [
    {
     "data": {
      "text/html": [
       "<div>\n",
       "<style scoped>\n",
       "    .dataframe tbody tr th:only-of-type {\n",
       "        vertical-align: middle;\n",
       "    }\n",
       "\n",
       "    .dataframe tbody tr th {\n",
       "        vertical-align: top;\n",
       "    }\n",
       "\n",
       "    .dataframe thead th {\n",
       "        text-align: right;\n",
       "    }\n",
       "</style>\n",
       "<table border=\"1\" class=\"dataframe\">\n",
       "  <thead>\n",
       "    <tr style=\"text-align: right;\">\n",
       "      <th></th>\n",
       "      <th>mice_dataset</th>\n",
       "      <th>auc_2yr_te</th>\n",
       "      <th>sem_te</th>\n",
       "      <th>auc_2yr_tr</th>\n",
       "      <th>sem_tr</th>\n",
       "    </tr>\n",
       "  </thead>\n",
       "  <tbody>\n",
       "    <tr>\n",
       "      <th>0</th>\n",
       "      <td>mice_0</td>\n",
       "      <td>0.782498</td>\n",
       "      <td>0.002785</td>\n",
       "      <td>0.851491</td>\n",
       "      <td>0.002569</td>\n",
       "    </tr>\n",
       "    <tr>\n",
       "      <th>1</th>\n",
       "      <td>mice_1</td>\n",
       "      <td>0.779570</td>\n",
       "      <td>0.002797</td>\n",
       "      <td>0.831095</td>\n",
       "      <td>0.002770</td>\n",
       "    </tr>\n",
       "  </tbody>\n",
       "</table>\n",
       "</div>"
      ],
      "text/plain": [
       "  mice_dataset  auc_2yr_te    sem_te  auc_2yr_tr    sem_tr\n",
       "0       mice_0    0.782498  0.002785    0.851491  0.002569\n",
       "1       mice_1    0.779570  0.002797    0.831095  0.002770"
      ]
     },
     "execution_count": 200,
     "metadata": {},
     "output_type": "execute_result"
    }
   ],
   "source": [
    "mice_auc_df "
   ]
  },
  {
   "cell_type": "code",
   "execution_count": 179,
   "id": "4465f721",
   "metadata": {},
   "outputs": [],
   "source": [
    "mice_auc_df.to_csv('mice_auc_df.csv', index = False, header = True)"
   ]
  },
  {
   "cell_type": "code",
   "execution_count": 180,
   "id": "7aa5be8e",
   "metadata": {},
   "outputs": [],
   "source": [
    "times = np.arange(30, 1810, 30)\n",
    "mice1_auc_over5 = cumulative_dynamic_auc(train_y, test_y, gbm_risk_scores_te, times)[0]\n",
    "\n",
    "times_data = {}\n",
    "values = mice1_auc_over5\n",
    "time_names = []\n",
    "\n",
    "for x in range(len(times)):\n",
    "    time_names.append('time_'+str(times[x]))\n",
    "\n",
    "for i in range(len(time_names)):\n",
    "    times_data[time_names[i]] = values[i]\n",
    "    \n",
    "mice1_auc_over5_df = pd.DataFrame(times_data, index = ['mice_1'])\n",
    "\n",
    "mice_auc_over5 = mice_auc_over5.append(mice1_auc_over5_df, ignore_index = False)"
   ]
  },
  {
   "cell_type": "code",
   "execution_count": 181,
   "id": "3e508c69",
   "metadata": {},
   "outputs": [
    {
     "data": {
      "text/html": [
       "<div>\n",
       "<style scoped>\n",
       "    .dataframe tbody tr th:only-of-type {\n",
       "        vertical-align: middle;\n",
       "    }\n",
       "\n",
       "    .dataframe tbody tr th {\n",
       "        vertical-align: top;\n",
       "    }\n",
       "\n",
       "    .dataframe thead th {\n",
       "        text-align: right;\n",
       "    }\n",
       "</style>\n",
       "<table border=\"1\" class=\"dataframe\">\n",
       "  <thead>\n",
       "    <tr style=\"text-align: right;\">\n",
       "      <th></th>\n",
       "      <th>time_30</th>\n",
       "      <th>time_60</th>\n",
       "      <th>time_90</th>\n",
       "      <th>time_120</th>\n",
       "      <th>time_150</th>\n",
       "      <th>time_180</th>\n",
       "      <th>time_210</th>\n",
       "      <th>time_240</th>\n",
       "      <th>time_270</th>\n",
       "      <th>time_300</th>\n",
       "      <th>...</th>\n",
       "      <th>time_1530</th>\n",
       "      <th>time_1560</th>\n",
       "      <th>time_1590</th>\n",
       "      <th>time_1620</th>\n",
       "      <th>time_1650</th>\n",
       "      <th>time_1680</th>\n",
       "      <th>time_1710</th>\n",
       "      <th>time_1740</th>\n",
       "      <th>time_1770</th>\n",
       "      <th>time_1800</th>\n",
       "    </tr>\n",
       "  </thead>\n",
       "  <tbody>\n",
       "    <tr>\n",
       "      <th>mice_0</th>\n",
       "      <td>0.888610</td>\n",
       "      <td>0.903288</td>\n",
       "      <td>0.884143</td>\n",
       "      <td>0.869969</td>\n",
       "      <td>0.864156</td>\n",
       "      <td>0.855605</td>\n",
       "      <td>0.849778</td>\n",
       "      <td>0.844226</td>\n",
       "      <td>0.839047</td>\n",
       "      <td>0.831123</td>\n",
       "      <td>...</td>\n",
       "      <td>0.750106</td>\n",
       "      <td>0.749444</td>\n",
       "      <td>0.747275</td>\n",
       "      <td>0.745356</td>\n",
       "      <td>0.746439</td>\n",
       "      <td>0.744329</td>\n",
       "      <td>0.745306</td>\n",
       "      <td>0.748618</td>\n",
       "      <td>0.746243</td>\n",
       "      <td>0.746946</td>\n",
       "    </tr>\n",
       "    <tr>\n",
       "      <th>mice_1</th>\n",
       "      <td>0.880479</td>\n",
       "      <td>0.900101</td>\n",
       "      <td>0.882442</td>\n",
       "      <td>0.867095</td>\n",
       "      <td>0.861430</td>\n",
       "      <td>0.852466</td>\n",
       "      <td>0.845465</td>\n",
       "      <td>0.839978</td>\n",
       "      <td>0.834610</td>\n",
       "      <td>0.827169</td>\n",
       "      <td>...</td>\n",
       "      <td>0.747287</td>\n",
       "      <td>0.746900</td>\n",
       "      <td>0.745429</td>\n",
       "      <td>0.742912</td>\n",
       "      <td>0.744363</td>\n",
       "      <td>0.742582</td>\n",
       "      <td>0.744016</td>\n",
       "      <td>0.746965</td>\n",
       "      <td>0.744604</td>\n",
       "      <td>0.745888</td>\n",
       "    </tr>\n",
       "  </tbody>\n",
       "</table>\n",
       "<p>2 rows × 60 columns</p>\n",
       "</div>"
      ],
      "text/plain": [
       "         time_30   time_60   time_90  time_120  time_150  time_180  time_210  \\\n",
       "mice_0  0.888610  0.903288  0.884143  0.869969  0.864156  0.855605  0.849778   \n",
       "mice_1  0.880479  0.900101  0.882442  0.867095  0.861430  0.852466  0.845465   \n",
       "\n",
       "        time_240  time_270  time_300  ...  time_1530  time_1560  time_1590  \\\n",
       "mice_0  0.844226  0.839047  0.831123  ...   0.750106   0.749444   0.747275   \n",
       "mice_1  0.839978  0.834610  0.827169  ...   0.747287   0.746900   0.745429   \n",
       "\n",
       "        time_1620  time_1650  time_1680  time_1710  time_1740  time_1770  \\\n",
       "mice_0   0.745356   0.746439   0.744329   0.745306   0.748618   0.746243   \n",
       "mice_1   0.742912   0.744363   0.742582   0.744016   0.746965   0.744604   \n",
       "\n",
       "        time_1800  \n",
       "mice_0   0.746946  \n",
       "mice_1   0.745888  \n",
       "\n",
       "[2 rows x 60 columns]"
      ]
     },
     "execution_count": 203,
     "metadata": {},
     "output_type": "execute_result"
    }
   ],
   "source": [
    "mice_auc_over5 "
   ]
  },
  {
   "cell_type": "code",
   "execution_count": 182,
   "id": "6460aa49",
   "metadata": {},
   "outputs": [],
   "source": [
    "mice_auc_over5.to_csv('mice_auc_over5.csv', index = True, header = True)"
   ]
  },
  {
   "cell_type": "code",
   "execution_count": 183,
   "id": "2c8f6904",
   "metadata": {},
   "outputs": [],
   "source": [
    "# Variables passing through pipeline_rsf\n",
    "cat_encoder = list(preprocessor_red.transformers_[1][1].get_feature_names(categorical_features))\n",
    "pass_through = list(train_mice1_x.iloc[:, preprocessor_red.transformers_[2][2]].columns)\n",
    "attributes_gbm = numerical_features_red + cat_encoder + pass_through"
   ]
  },
  {
   "cell_type": "code",
   "execution_count": 184,
   "id": "292a30aa",
   "metadata": {},
   "outputs": [
    {
     "name": "stdout",
     "output_type": "stream",
     "text": [
      "Total number of features: 194\n",
      "Number of non-zero features in final model: 191\n"
     ]
    },
    {
     "data": {
      "image/png": "[encoded data removed]",
      "text/plain": [
       "<Figure size 432x576 with 1 Axes>"
      ]
     },
     "metadata": {
      "needs_background": "light"
     },
     "output_type": "display_data"
    }
   ],
   "source": [
    "# Dataframe of coefficients for each variable \n",
    "coefficients_mice1 = pd.DataFrame(\n",
    "    gbm_mice1.named_steps['gradientboostingsurvivalanalysis'].feature_importances_,\n",
    "    index = attributes_gbm,\n",
    "    columns = ['coefficient']\n",
    ")\n",
    "\n",
    "print('Total number of features: {}'.format(len(attributes_gbm)))\n",
    "\n",
    "non_zero = np.sum(coefficients_mice1.iloc[:, 0] != 0)\n",
    "print('Number of non-zero features in final model: {}'.format(non_zero))\n",
    "\n",
    "non_zero_coefs = coefficients_mice1.query('coefficient != 0')\n",
    "coef_order = non_zero_coefs.abs().sort_values('coefficient').tail(30).index\n",
    "\n",
    "_, ax = plt.subplots(figsize=(6, 8))\n",
    "non_zero_coefs.loc[coef_order].plot.barh(ax = ax, legend = False)\n",
    "ax.set_xlabel('coefficient')\n",
    "ax.grid(True)"
   ]
  },
  {
   "cell_type": "code",
   "execution_count": 185,
   "id": "d0cbb99e",
   "metadata": {},
   "outputs": [],
   "source": [
    "coefficients_mice1_df = (\n",
    "    coefficients_mice1\n",
    "    .reset_index()\n",
    "    .rename(columns = {'index':'variable'}))"
   ]
  },
  {
   "cell_type": "code",
   "execution_count": 186,
   "id": "643bcc20",
   "metadata": {},
   "outputs": [],
   "source": [
    "coefficients_mice = coefficients_mice.append(coefficients_mice1_df, ignore_index = True)"
   ]
  },
  {
   "cell_type": "code",
   "execution_count": 187,
   "id": "7cfdd1b1",
   "metadata": {},
   "outputs": [],
   "source": [
    "coefficients_mice.to_csv('coefficients_mice.csv', index = False, header = True)"
   ]
  },
  {
   "cell_type": "markdown",
   "id": "d79f8198",
   "metadata": {},
   "source": [
    "### 3.3 Model 3"
   ]
  },
  {
   "cell_type": "markdown",
   "id": "4b9f839b",
   "metadata": {},
   "source": [
    "#### Preprocessing "
   ]
  },
  {
   "cell_type": "code",
   "execution_count": 188,
   "id": "5fbf3afe",
   "metadata": {},
   "outputs": [],
   "source": [
    "train_mice2 = pd.read_csv('mice_tr2.csv', index_col = 'PatientID')"
   ]
  },
  {
   "cell_type": "code",
   "execution_count": 189,
   "id": "e539f4fc",
   "metadata": {},
   "outputs": [
    {
     "name": "stdout",
     "output_type": "stream",
     "text": [
      "(27452, 185)\n"
     ]
    }
   ],
   "source": [
    "print(train_mice2.shape)"
   ]
  },
  {
   "cell_type": "code",
   "execution_count": 190,
   "id": "3a5c65a1",
   "metadata": {},
   "outputs": [
    {
     "data": {
      "text/plain": [
       "0"
      ]
     },
     "execution_count": 212,
     "metadata": {},
     "output_type": "execute_result"
    }
   ],
   "source": [
    "train_mice2.isna().sum().sum()"
   ]
  },
  {
   "cell_type": "code",
   "execution_count": 191,
   "id": "a959e766",
   "metadata": {},
   "outputs": [],
   "source": [
    "train_mice2 = train_mice2.drop(columns = mice_drop)"
   ]
  },
  {
   "cell_type": "code",
   "execution_count": 192,
   "id": "d3bdd4e2",
   "metadata": {},
   "outputs": [
    {
     "name": "stdout",
     "output_type": "stream",
     "text": [
      "(27452, 147)\n"
     ]
    }
   ],
   "source": [
    "print(train_mice2.shape)"
   ]
  },
  {
   "cell_type": "code",
   "execution_count": 193,
   "id": "17136451",
   "metadata": {},
   "outputs": [],
   "source": [
    "train_mice2['ecog_na'] = np.where(train_mice2.index.isin(train.query('ecog_diagnosis == \"unknown\"').PatientID), 1, 0)\n",
    "train_mice2['stage_na'] = np.where(train_mice2.index.isin(train.query('stage == \"unknown\"').PatientID), 1, 0)\n",
    "train_mice2['ses_na'] = np.where(train_mice2.index.isin(train[train['ses'].isnull()].PatientID), 1, 0)"
   ]
  },
  {
   "cell_type": "code",
   "execution_count": 194,
   "id": "6efd5563",
   "metadata": {},
   "outputs": [
    {
     "data": {
      "text/plain": [
       "['gender',\n",
       " 'race',\n",
       " 'ethnicity',\n",
       " 'p_type',\n",
       " 'region',\n",
       " 'stage',\n",
       " 'met_year',\n",
       " 'crc_site',\n",
       " 'KRAS',\n",
       " 'dMMR_MSIh',\n",
       " 'NRAS',\n",
       " 'BRAF',\n",
       " 'ecog_diagnosis',\n",
       " 'ses']"
      ]
     },
     "execution_count": 216,
     "metadata": {},
     "output_type": "execute_result"
    }
   ],
   "source": [
    "for x in list(to_be_categorical):\n",
    "    train_mice2[x] = train_mice2[x].astype('category')\n",
    "    \n",
    "list(train_mice2.select_dtypes(include = ['category']).columns)"
   ]
  },
  {
   "cell_type": "code",
   "execution_count": 195,
   "id": "7e71fb14",
   "metadata": {},
   "outputs": [],
   "source": [
    "train_mice2['death_status'] = train_mice2['death_status'].astype('bool')"
   ]
  },
  {
   "cell_type": "code",
   "execution_count": 196,
   "id": "363af015",
   "metadata": {},
   "outputs": [],
   "source": [
    "val_mice2 = train_mice2[train_mice2.index.isin(val_IDs['PatientID'])]\n",
    "\n",
    "sub_train_mice2 = train_mice2[~train_mice2.index.isin(val_IDs['PatientID'])]"
   ]
  },
  {
   "cell_type": "code",
   "execution_count": 197,
   "id": "f5e676e0",
   "metadata": {},
   "outputs": [
    {
     "name": "stdout",
     "output_type": "stream",
     "text": [
      "(27452, 150)\n",
      "(20589, 150)\n",
      "(6863, 150)\n"
     ]
    }
   ],
   "source": [
    "print(train_mice2.shape)\n",
    "print(sub_train_mice2.shape)\n",
    "print(val_mice2.shape)"
   ]
  },
  {
   "cell_type": "code",
   "execution_count": 198,
   "id": "635f4372",
   "metadata": {},
   "outputs": [],
   "source": [
    "train_mice2_x = train_mice2.drop(columns = ['death_status', 'timerisk_activity'])\n",
    "\n",
    "sub_train_mice2_x = sub_train_mice2.drop(columns = ['death_status', 'timerisk_activity'])\n",
    "\n",
    "val_mice2_x = val_mice2.drop(columns = ['death_status', 'timerisk_activity'])"
   ]
  },
  {
   "cell_type": "code",
   "execution_count": 199,
   "id": "a9909bfe",
   "metadata": {},
   "outputs": [
    {
     "name": "stdout",
     "output_type": "stream",
     "text": [
      "(27452, 148)\n",
      "(20589, 148)\n",
      "(6863, 148)\n"
     ]
    }
   ],
   "source": [
    "print(train_mice2_x.shape)\n",
    "print(sub_train_mice2_x.shape)\n",
    "print(val_mice2_x.shape)"
   ]
  },
  {
   "cell_type": "markdown",
   "id": "9b9c0b76",
   "metadata": {},
   "source": [
    "#### Hyperparameter tuning "
   ]
  },
  {
   "cell_type": "code",
   "execution_count": 200,
   "id": "10b27a9b",
   "metadata": {},
   "outputs": [
    {
     "name": "stdout",
     "output_type": "stream",
     "text": [
      "      Iter       Train Loss      OOB Improve   Remaining Time \n",
      "         1       84782.0943          17.0946          134.35m\n",
      "         2       84201.2296          17.0183          134.17m\n",
      "         3       84045.7972          16.0126          134.38m\n",
      "         4       84224.2509          14.9289          134.25m\n",
      "         5       84224.6290          15.3178          134.24m\n",
      "         6       84358.4313          13.8777          134.14m\n",
      "         7       83976.4189          12.6683          133.96m\n",
      "         8       84232.6085          13.2877          133.75m\n",
      "         9       83764.2372          12.7093          133.61m\n",
      "        10       83484.0680          11.9574          133.49m\n",
      "        20       83975.5950           8.5287          132.49m\n",
      "        30       83056.7967           6.3177          131.49m\n",
      "        40       82779.9000           4.6552          130.51m\n",
      "        50       83016.1301           3.8586          129.58m\n",
      "        60       83326.3743           3.3364          128.68m\n",
      "        70       82708.8246           3.3361          127.80m\n",
      "        80       82412.5688           1.1536          126.90m\n",
      "        90       82457.2704           1.4282          125.99m\n",
      "       100       82658.3605           1.3313          125.10m\n",
      "       200       82183.5257           0.8952          116.13m\n",
      "       300       81149.0007           0.1980          107.18m\n",
      "       400       81264.0484          -0.2254           98.24m\n",
      "       500       80234.1134           0.0328           89.30m\n",
      "       600       80646.7753          -0.1944           80.35m\n",
      "       700       80437.1655          -0.3781           71.36m\n",
      "       800       80213.0111          -0.2116           62.40m\n",
      "       900       80106.4919          -0.1764           53.46m\n",
      "      1000       79468.2153          -0.1803           44.53m\n"
     ]
    },
    {
     "data": {
      "text/plain": [
       "GradientBoostingSurvivalAnalysis(learning_rate=0.05, max_depth=4,\n",
       "                                 n_estimators=1500, random_state=42,\n",
       "                                 subsample=0.75, verbose=1)"
      ]
     },
     "execution_count": 222,
     "metadata": {},
     "output_type": "execute_result"
    }
   ],
   "source": [
    "sub_train_mice2_xt = preprocessor_red.fit_transform(sub_train_mice2_x)\n",
    "val_mice2_xt = preprocessor_red.transform(val_mice2_x)\n",
    "\n",
    "gbm_mice2_exp = GradientBoostingSurvivalAnalysis(n_estimators = 1500,\n",
    "                                                 learning_rate = 0.05,\n",
    "                                                 max_depth = 4,\n",
    "                                                 subsample = 0.75,\n",
    "                                                 verbose = 1,\n",
    "                                                 random_state = 42)\n",
    "\n",
    "gbm_mice2_exp.fit(sub_train_mice2_xt, sub_train_y)"
   ]
  },
  {
   "cell_type": "code",
   "execution_count": 201,
   "id": "07e0cb55",
   "metadata": {},
   "outputs": [],
   "source": [
    "gbm2_staged_auc = [cumulative_dynamic_auc(sub_train_y, val_y, risk_score, 730)[0][0] for \n",
    "                   risk_score in gbm_mice2_exp.staged_predict(val_mice2_xt)]"
   ]
  },
  {
   "cell_type": "code",
   "execution_count": 202,
   "id": "06f48b02",
   "metadata": {},
   "outputs": [],
   "source": [
    "gbm2_staged_auc_tr = [cumulative_dynamic_auc(sub_train_y, sub_train_y, risk_score, 730)[0][0] for \n",
    "                      risk_score in gbm_mice2_exp.staged_predict(sub_train_mice2_xt)]"
   ]
  },
  {
   "cell_type": "code",
   "execution_count": 203,
   "id": "46f96c15",
   "metadata": {},
   "outputs": [
    {
     "data": {
      "image/png": "[encoded data removed]",
      "text/plain": [
       "<Figure size 432x288 with 1 Axes>"
      ]
     },
     "metadata": {
      "needs_background": "light"
     },
     "output_type": "display_data"
    }
   ],
   "source": [
    "fig = plt.figure()\n",
    "ax = fig.add_subplot(1, 1, 1)\n",
    "\n",
    "x = range(len(gbm2_staged_auc))\n",
    "plt.plot(x, gbm2_staged_auc, color = 'blue', label = 'validation')\n",
    "plt.plot(x, gbm2_staged_auc_tr, color = 'red', label = 'training')\n",
    "plt.legend(loc = 'lower right')\n",
    "\n",
    "plt.xlabel(\"n_estimators\")\n",
    "plt.ylabel(\"AUC at 2-years\")\n",
    "plt.title('Gradient boosting model learning curve for mice2')\n",
    "\n",
    "plt.show()"
   ]
  },
  {
   "cell_type": "code",
   "execution_count": 204,
   "id": "9d6489f6",
   "metadata": {},
   "outputs": [],
   "source": [
    "# Average AUC for every 25 additional trees. \n",
    "mean_auc_list = []\n",
    "for x in np.arange(0, len(gbm2_staged_auc), 25):\n",
    "    mean_auc_list.append(np.mean(gbm2_staged_auc[x:x+24]))"
   ]
  },
  {
   "cell_type": "code",
   "execution_count": 205,
   "id": "6da0c7a9",
   "metadata": {},
   "outputs": [
    {
     "name": "stdout",
     "output_type": "stream",
     "text": [
      "Number of trees where 2 year AUC on validation dataset beings to downgrade: 1025\n",
      "Validation dataset AUC before degrading: 0.7722363243547238\n",
      "Training dataset AUC before degrading: 0.848391653835163\n"
     ]
    }
   ],
   "source": [
    "print('Number of trees where 2 year AUC on validation dataset beings to downgrade:', np.where(np.diff(mean_auc_list) < 0)[0][0]*25)\n",
    "print('Validation dataset AUC before degrading:', gbm2_staged_auc[np.where(np.diff(mean_auc_list) < 0)[0][0]*25])\n",
    "print('Training dataset AUC before degrading:', gbm2_staged_auc_tr[np.where(np.diff(mean_auc_list) < 0)[0][0]*25])"
   ]
  },
  {
   "cell_type": "code",
   "execution_count": 206,
   "id": "58cfd51c",
   "metadata": {},
   "outputs": [
    {
     "name": "stdout",
     "output_type": "stream",
     "text": [
      "(27452, 148)\n",
      "(27452,)\n"
     ]
    }
   ],
   "source": [
    "print(train_mice2_x.shape)\n",
    "print(train_y.shape)"
   ]
  },
  {
   "cell_type": "markdown",
   "id": "01f8be08",
   "metadata": {},
   "source": [
    "#### Building model and assessing performance"
   ]
  },
  {
   "cell_type": "code",
   "execution_count": 207,
   "id": "02dd4f62",
   "metadata": {},
   "outputs": [
    {
     "name": "stdout",
     "output_type": "stream",
     "text": [
      "      Iter       Train Loss      OOB Improve   Remaining Time \n",
      "         1      115856.5606          23.1952          162.40m\n",
      "         2      115465.8798          22.2201          162.58m\n",
      "         3      115761.6184          20.7767          162.53m\n",
      "         4      115736.2544          21.7917          162.42m\n",
      "         5      115219.0675          18.9402          162.32m\n",
      "         6      115347.7601          19.9089          162.19m\n",
      "         7      115574.0501          16.7440          162.16m\n",
      "         8      115819.4904          17.8834          162.00m\n",
      "         9      115535.5810          17.0456          161.85m\n",
      "        10      115290.7221          16.7642          161.69m\n",
      "        20      114960.7365          11.3997          160.24m\n",
      "        30      114568.1627           8.8015          158.61m\n",
      "        40      113698.5830           6.9810          157.08m\n",
      "        50      113864.0640           5.8866          155.43m\n",
      "        60      113514.6651           4.6732          153.88m\n",
      "        70      113828.1082           3.2946          152.28m\n",
      "        80      113159.6575           2.7912          150.72m\n",
      "        90      113133.9472           2.8060          149.15m\n",
      "       100      113022.7667           2.6868          147.56m\n",
      "       200      112053.4570           0.6679          131.68m\n",
      "       300      111900.0699           0.0950          115.76m\n",
      "       400      111439.6949          -0.1898           99.80m\n",
      "       500      110926.2096          -0.3050           83.71m\n",
      "       600      110889.5031          -0.1461           67.73m\n",
      "       700      110904.4051          -0.0979           51.80m\n",
      "       800      110226.5093          -0.5067           35.87m\n",
      "       900      109780.1735          -0.2650           19.93m\n",
      "      1000      109682.7444          -0.1232            3.98m\n"
     ]
    },
    {
     "data": {
      "text/plain": [
       "Pipeline(steps=[('columntransformer',\n",
       "                 ColumnTransformer(remainder='passthrough',\n",
       "                                   transformers=[('num',\n",
       "                                                  Pipeline(steps=[('std_scaler',\n",
       "                                                                   StandardScaler())]),\n",
       "                                                  ['age', 'delta_met_diagnosis',\n",
       "                                                   'weight_diag', 'bmi_diag',\n",
       "                                                   'weight_pct_change',\n",
       "                                                   'weight_slope',\n",
       "                                                   'albumin_diag', 'alp_diag',\n",
       "                                                   'alt_diag', 'ast_diag',\n",
       "                                                   'bicarb_diag', 'bun_diag',\n",
       "                                                   'calcium_diag', 'cea_diag',\n",
       "                                                   'chloride_di...\n",
       "                                                   'wbc_max', ...]),\n",
       "                                                 ('cat',\n",
       "                                                  OneHotEncoder(handle_unknown='ignore'),\n",
       "                                                  ['gender', 'race',\n",
       "                                                   'ethnicity', 'p_type',\n",
       "                                                   'region', 'stage',\n",
       "                                                   'met_year', 'crc_site',\n",
       "                                                   'KRAS', 'dMMR_MSIh', 'NRAS',\n",
       "                                                   'BRAF', 'ecog_diagnosis',\n",
       "                                                   'ses'])])),\n",
       "                ('gradientboostingsurvivalanalysis',\n",
       "                 GradientBoostingSurvivalAnalysis(learning_rate=0.05,\n",
       "                                                  max_depth=4,\n",
       "                                                  n_estimators=1025,\n",
       "                                                  random_state=42,\n",
       "                                                  subsample=0.75, verbose=1))])"
      ]
     },
     "execution_count": 229,
     "metadata": {},
     "output_type": "execute_result"
    }
   ],
   "source": [
    "gbm_mice2 = make_pipeline(preprocessor_red, GradientBoostingSurvivalAnalysis(n_estimators = np.where(np.diff(mean_auc_list) < 0)[0][0]*25,\n",
    "                                                                             learning_rate = 0.05,\n",
    "                                                                             max_depth = 4,\n",
    "                                                                             subsample = 0.75,\n",
    "                                                                             verbose = 1,\n",
    "                                                                             random_state = 42))\n",
    "\n",
    "gbm_mice2.fit(train_mice2_x, train_y)"
   ]
  },
  {
   "cell_type": "code",
   "execution_count": 208,
   "id": "b70bd1be",
   "metadata": {},
   "outputs": [
    {
     "data": {
      "text/plain": [
       "['gbm_mice2.joblib']"
      ]
     },
     "execution_count": 230,
     "metadata": {},
     "output_type": "execute_result"
    }
   ],
   "source": [
    "dump(gbm_mice2, 'gbm_mice2.joblib') "
   ]
  },
  {
   "cell_type": "code",
   "execution_count": 209,
   "id": "ff8f5722",
   "metadata": {},
   "outputs": [
    {
     "name": "stdout",
     "output_type": "stream",
     "text": [
      "Test set AUC at 2 year: 0.779861370825464\n"
     ]
    }
   ],
   "source": [
    "gbm_risk_scores_te = gbm_mice2.predict(test_mice_x)\n",
    "gbm_auc_te = cumulative_dynamic_auc(train_y, test_y, gbm_risk_scores_te, 730)[0][0]\n",
    "print('Test set AUC at 2 year:', gbm_auc_te)"
   ]
  },
  {
   "cell_type": "code",
   "execution_count": 210,
   "id": "9634a4bc",
   "metadata": {},
   "outputs": [
    {
     "name": "stdout",
     "output_type": "stream",
     "text": [
      "Training set AUC at 2 year: 0.8356078775726585\n"
     ]
    }
   ],
   "source": [
    "gbm_risk_scores_tr = gbm_mice2.predict(train_mice2_x)\n",
    "gbm_auc_tr = cumulative_dynamic_auc(train_y, train_y, gbm_risk_scores_tr, 730)[0][0]\n",
    "print('Training set AUC at 2 year:', gbm_auc_tr)"
   ]
  },
  {
   "cell_type": "code",
   "execution_count": 211,
   "id": "d7572f7c",
   "metadata": {},
   "outputs": [],
   "source": [
    "# Bootstrap 10000 1 yr AUCs for test set \n",
    "n_bootstraps = 10000\n",
    "rng_seed = 42 \n",
    "bootstrapped_scores_te = []\n",
    "\n",
    "rng = np.random.RandomState(rng_seed)\n",
    "for i in range(n_bootstraps):\n",
    "    indices = rng.randint(0, len(gbm_risk_scores_te), len(gbm_risk_scores_te))\n",
    "    auc_yr = cumulative_dynamic_auc(train_y, test_y[indices], gbm_risk_scores_te[indices], 730)[0][0]\n",
    "    bootstrapped_scores_te.append(auc_yr)"
   ]
  },
  {
   "cell_type": "code",
   "execution_count": 212,
   "id": "439f3497",
   "metadata": {},
   "outputs": [
    {
     "name": "stdout",
     "output_type": "stream",
     "text": [
      "Test set AUC standard error: 0.002819002855470615\n"
     ]
    }
   ],
   "source": [
    "# Standard error of mean for test set AUC\n",
    "sorted_scores_te = np.array(bootstrapped_scores_te)\n",
    "sorted_scores_te.sort()\n",
    "\n",
    "conf_lower_te = sorted_scores_te[int(0.025 * len(sorted_scores_te))]\n",
    "conf_upper_te = sorted_scores_te[int(0.975 * len(sorted_scores_te))]\n",
    "\n",
    "standard_error_te = (conf_upper_te - conf_lower_te) / 3.92\n",
    "print('Test set AUC standard error:', standard_error_te)"
   ]
  },
  {
   "cell_type": "code",
   "execution_count": 213,
   "id": "cab7836a",
   "metadata": {},
   "outputs": [],
   "source": [
    "# Bootstrap 10000 1-yr AUCs for train set \n",
    "n_bootstraps = 10000\n",
    "rng_seed = 42 \n",
    "bootstrapped_scores_tr = []\n",
    "\n",
    "rng = np.random.RandomState(rng_seed)\n",
    "for i in range(n_bootstraps):\n",
    "    indices = rng.randint(0, len(gbm_risk_scores_tr), len(gbm_risk_scores_tr))\n",
    "    auc_yr = cumulative_dynamic_auc(train_y, train_y[indices], gbm_risk_scores_tr[indices], 730)[0][0]\n",
    "    bootstrapped_scores_tr.append(auc_yr)"
   ]
  },
  {
   "cell_type": "code",
   "execution_count": 214,
   "id": "521342ce",
   "metadata": {},
   "outputs": [
    {
     "name": "stdout",
     "output_type": "stream",
     "text": [
      "Training set AUC standard error 0.0027338520789268904\n"
     ]
    }
   ],
   "source": [
    "# Standard error of mean for train set AUC\n",
    "sorted_scores_tr = np.array(bootstrapped_scores_tr)\n",
    "sorted_scores_tr.sort()\n",
    "\n",
    "conf_lower_tr = sorted_scores_tr[int(0.025 * len(sorted_scores_tr))]\n",
    "conf_upper_tr = sorted_scores_tr[int(0.975 * len(sorted_scores_tr))]\n",
    "\n",
    "standard_error_tr = (conf_upper_tr - conf_lower_tr) / 3.92\n",
    "print('Training set AUC standard error', standard_error_tr)"
   ]
  },
  {
   "cell_type": "code",
   "execution_count": 215,
   "id": "b10fc5c3",
   "metadata": {},
   "outputs": [],
   "source": [
    "mice_auc_data = {'mice_dataset': 'mice_2',\n",
    "                 'auc_2yr_te': gbm_auc_te,\n",
    "                 'sem_te': standard_error_te,\n",
    "                 'auc_2yr_tr': gbm_auc_tr,\n",
    "                 'sem_tr': standard_error_tr}\n",
    "\n",
    "mice_auc_df = mice_auc_df.append(mice_auc_data, ignore_index = True)"
   ]
  },
  {
   "cell_type": "code",
   "execution_count": 216,
   "id": "96e66b17",
   "metadata": {},
   "outputs": [
    {
     "data": {
      "text/html": [
       "<div>\n",
       "<style scoped>\n",
       "    .dataframe tbody tr th:only-of-type {\n",
       "        vertical-align: middle;\n",
       "    }\n",
       "\n",
       "    .dataframe tbody tr th {\n",
       "        vertical-align: top;\n",
       "    }\n",
       "\n",
       "    .dataframe thead th {\n",
       "        text-align: right;\n",
       "    }\n",
       "</style>\n",
       "<table border=\"1\" class=\"dataframe\">\n",
       "  <thead>\n",
       "    <tr style=\"text-align: right;\">\n",
       "      <th></th>\n",
       "      <th>mice_dataset</th>\n",
       "      <th>auc_2yr_te</th>\n",
       "      <th>sem_te</th>\n",
       "      <th>auc_2yr_tr</th>\n",
       "      <th>sem_tr</th>\n",
       "    </tr>\n",
       "  </thead>\n",
       "  <tbody>\n",
       "    <tr>\n",
       "      <th>0</th>\n",
       "      <td>mice_0</td>\n",
       "      <td>0.782498</td>\n",
       "      <td>0.002785</td>\n",
       "      <td>0.851491</td>\n",
       "      <td>0.002569</td>\n",
       "    </tr>\n",
       "    <tr>\n",
       "      <th>1</th>\n",
       "      <td>mice_1</td>\n",
       "      <td>0.779570</td>\n",
       "      <td>0.002797</td>\n",
       "      <td>0.831095</td>\n",
       "      <td>0.002770</td>\n",
       "    </tr>\n",
       "    <tr>\n",
       "      <th>2</th>\n",
       "      <td>mice_2</td>\n",
       "      <td>0.779861</td>\n",
       "      <td>0.002819</td>\n",
       "      <td>0.835608</td>\n",
       "      <td>0.002734</td>\n",
       "    </tr>\n",
       "  </tbody>\n",
       "</table>\n",
       "</div>"
      ],
      "text/plain": [
       "  mice_dataset  auc_2yr_te    sem_te  auc_2yr_tr    sem_tr\n",
       "0       mice_0    0.782498  0.002785    0.851491  0.002569\n",
       "1       mice_1    0.779570  0.002797    0.831095  0.002770\n",
       "2       mice_2    0.779861  0.002819    0.835608  0.002734"
      ]
     },
     "execution_count": 238,
     "metadata": {},
     "output_type": "execute_result"
    }
   ],
   "source": [
    "mice_auc_df "
   ]
  },
  {
   "cell_type": "code",
   "execution_count": 217,
   "id": "cf2f3be1",
   "metadata": {},
   "outputs": [],
   "source": [
    "mice_auc_df.to_csv('mice_auc_df.csv', index = False, header = True)"
   ]
  },
  {
   "cell_type": "code",
   "execution_count": 218,
   "id": "97f638c9",
   "metadata": {},
   "outputs": [],
   "source": [
    "times = np.arange(30, 1810, 30)\n",
    "mice2_auc_over5 = cumulative_dynamic_auc(train_y, test_y, gbm_risk_scores_te, times)[0]\n",
    "\n",
    "times_data = {}\n",
    "values = mice2_auc_over5\n",
    "time_names = []\n",
    "\n",
    "for x in range(len(times)):\n",
    "    time_names.append('time_'+str(times[x]))\n",
    "\n",
    "for i in range(len(time_names)):\n",
    "    times_data[time_names[i]] = values[i]\n",
    "    \n",
    "mice2_auc_over5_df = pd.DataFrame(times_data, index = ['mice_2'])\n",
    "\n",
    "mice_auc_over5 = mice_auc_over5.append(mice2_auc_over5_df, ignore_index = False)"
   ]
  },
  {
   "cell_type": "code",
   "execution_count": 219,
   "id": "9fdfd5dd",
   "metadata": {},
   "outputs": [
    {
     "data": {
      "text/html": [
       "<div>\n",
       "<style scoped>\n",
       "    .dataframe tbody tr th:only-of-type {\n",
       "        vertical-align: middle;\n",
       "    }\n",
       "\n",
       "    .dataframe tbody tr th {\n",
       "        vertical-align: top;\n",
       "    }\n",
       "\n",
       "    .dataframe thead th {\n",
       "        text-align: right;\n",
       "    }\n",
       "</style>\n",
       "<table border=\"1\" class=\"dataframe\">\n",
       "  <thead>\n",
       "    <tr style=\"text-align: right;\">\n",
       "      <th></th>\n",
       "      <th>time_30</th>\n",
       "      <th>time_60</th>\n",
       "      <th>time_90</th>\n",
       "      <th>time_120</th>\n",
       "      <th>time_150</th>\n",
       "      <th>time_180</th>\n",
       "      <th>time_210</th>\n",
       "      <th>time_240</th>\n",
       "      <th>time_270</th>\n",
       "      <th>time_300</th>\n",
       "      <th>...</th>\n",
       "      <th>time_1530</th>\n",
       "      <th>time_1560</th>\n",
       "      <th>time_1590</th>\n",
       "      <th>time_1620</th>\n",
       "      <th>time_1650</th>\n",
       "      <th>time_1680</th>\n",
       "      <th>time_1710</th>\n",
       "      <th>time_1740</th>\n",
       "      <th>time_1770</th>\n",
       "      <th>time_1800</th>\n",
       "    </tr>\n",
       "  </thead>\n",
       "  <tbody>\n",
       "    <tr>\n",
       "      <th>mice_0</th>\n",
       "      <td>0.888610</td>\n",
       "      <td>0.903288</td>\n",
       "      <td>0.884143</td>\n",
       "      <td>0.869969</td>\n",
       "      <td>0.864156</td>\n",
       "      <td>0.855605</td>\n",
       "      <td>0.849778</td>\n",
       "      <td>0.844226</td>\n",
       "      <td>0.839047</td>\n",
       "      <td>0.831123</td>\n",
       "      <td>...</td>\n",
       "      <td>0.750106</td>\n",
       "      <td>0.749444</td>\n",
       "      <td>0.747275</td>\n",
       "      <td>0.745356</td>\n",
       "      <td>0.746439</td>\n",
       "      <td>0.744329</td>\n",
       "      <td>0.745306</td>\n",
       "      <td>0.748618</td>\n",
       "      <td>0.746243</td>\n",
       "      <td>0.746946</td>\n",
       "    </tr>\n",
       "    <tr>\n",
       "      <th>mice_1</th>\n",
       "      <td>0.880479</td>\n",
       "      <td>0.900101</td>\n",
       "      <td>0.882442</td>\n",
       "      <td>0.867095</td>\n",
       "      <td>0.861430</td>\n",
       "      <td>0.852466</td>\n",
       "      <td>0.845465</td>\n",
       "      <td>0.839978</td>\n",
       "      <td>0.834610</td>\n",
       "      <td>0.827169</td>\n",
       "      <td>...</td>\n",
       "      <td>0.747287</td>\n",
       "      <td>0.746900</td>\n",
       "      <td>0.745429</td>\n",
       "      <td>0.742912</td>\n",
       "      <td>0.744363</td>\n",
       "      <td>0.742582</td>\n",
       "      <td>0.744016</td>\n",
       "      <td>0.746965</td>\n",
       "      <td>0.744604</td>\n",
       "      <td>0.745888</td>\n",
       "    </tr>\n",
       "    <tr>\n",
       "      <th>mice_2</th>\n",
       "      <td>0.886631</td>\n",
       "      <td>0.903260</td>\n",
       "      <td>0.884247</td>\n",
       "      <td>0.868483</td>\n",
       "      <td>0.862370</td>\n",
       "      <td>0.853971</td>\n",
       "      <td>0.848447</td>\n",
       "      <td>0.842964</td>\n",
       "      <td>0.838200</td>\n",
       "      <td>0.830562</td>\n",
       "      <td>...</td>\n",
       "      <td>0.747902</td>\n",
       "      <td>0.747874</td>\n",
       "      <td>0.745646</td>\n",
       "      <td>0.742923</td>\n",
       "      <td>0.744334</td>\n",
       "      <td>0.742909</td>\n",
       "      <td>0.744376</td>\n",
       "      <td>0.747515</td>\n",
       "      <td>0.745148</td>\n",
       "      <td>0.747075</td>\n",
       "    </tr>\n",
       "  </tbody>\n",
       "</table>\n",
       "<p>3 rows × 60 columns</p>\n",
       "</div>"
      ],
      "text/plain": [
       "         time_30   time_60   time_90  time_120  time_150  time_180  time_210  \\\n",
       "mice_0  0.888610  0.903288  0.884143  0.869969  0.864156  0.855605  0.849778   \n",
       "mice_1  0.880479  0.900101  0.882442  0.867095  0.861430  0.852466  0.845465   \n",
       "mice_2  0.886631  0.903260  0.884247  0.868483  0.862370  0.853971  0.848447   \n",
       "\n",
       "        time_240  time_270  time_300  ...  time_1530  time_1560  time_1590  \\\n",
       "mice_0  0.844226  0.839047  0.831123  ...   0.750106   0.749444   0.747275   \n",
       "mice_1  0.839978  0.834610  0.827169  ...   0.747287   0.746900   0.745429   \n",
       "mice_2  0.842964  0.838200  0.830562  ...   0.747902   0.747874   0.745646   \n",
       "\n",
       "        time_1620  time_1650  time_1680  time_1710  time_1740  time_1770  \\\n",
       "mice_0   0.745356   0.746439   0.744329   0.745306   0.748618   0.746243   \n",
       "mice_1   0.742912   0.744363   0.742582   0.744016   0.746965   0.744604   \n",
       "mice_2   0.742923   0.744334   0.742909   0.744376   0.747515   0.745148   \n",
       "\n",
       "        time_1800  \n",
       "mice_0   0.746946  \n",
       "mice_1   0.745888  \n",
       "mice_2   0.747075  \n",
       "\n",
       "[3 rows x 60 columns]"
      ]
     },
     "execution_count": 241,
     "metadata": {},
     "output_type": "execute_result"
    }
   ],
   "source": [
    "mice_auc_over5"
   ]
  },
  {
   "cell_type": "code",
   "execution_count": 220,
   "id": "1e8f34dd",
   "metadata": {},
   "outputs": [],
   "source": [
    "mice_auc_over5.to_csv('mice_auc_over5.csv', index = True, header = True)"
   ]
  },
  {
   "cell_type": "code",
   "execution_count": 221,
   "id": "e7f56817",
   "metadata": {},
   "outputs": [],
   "source": [
    "# Variables passing through pipeline_rsf\n",
    "cat_encoder = list(preprocessor_red.transformers_[1][1].get_feature_names(categorical_features))\n",
    "pass_through = list(train_mice2_x.iloc[:, preprocessor_red.transformers_[2][2]].columns)\n",
    "attributes_gbm = numerical_features_red + cat_encoder + pass_through"
   ]
  },
  {
   "cell_type": "code",
   "execution_count": 222,
   "id": "8fd1c8a2",
   "metadata": {},
   "outputs": [
    {
     "name": "stdout",
     "output_type": "stream",
     "text": [
      "Total number of features: 194\n",
      "Number of non-zero features in final model: 192\n"
     ]
    },
    {
     "data": {
      "image/png": "[encoded data removed]",
      "text/plain": [
       "<Figure size 432x576 with 1 Axes>"
      ]
     },
     "metadata": {
      "needs_background": "light"
     },
     "output_type": "display_data"
    }
   ],
   "source": [
    "# Dataframe of coefficients for each variable \n",
    "coefficients_mice2 = pd.DataFrame(\n",
    "    gbm_mice2.named_steps['gradientboostingsurvivalanalysis'].feature_importances_,\n",
    "    index = attributes_gbm,\n",
    "    columns = ['coefficient']\n",
    ")\n",
    "\n",
    "print('Total number of features: {}'.format(len(attributes_gbm)))\n",
    "\n",
    "non_zero = np.sum(coefficients_mice2.iloc[:, 0] != 0)\n",
    "print('Number of non-zero features in final model: {}'.format(non_zero))\n",
    "\n",
    "non_zero_coefs = coefficients_mice2.query('coefficient != 0')\n",
    "coef_order = non_zero_coefs.abs().sort_values('coefficient').tail(30).index\n",
    "\n",
    "_, ax = plt.subplots(figsize=(6, 8))\n",
    "non_zero_coefs.loc[coef_order].plot.barh(ax = ax, legend = False)\n",
    "ax.set_xlabel('coefficient')\n",
    "ax.grid(True)"
   ]
  },
  {
   "cell_type": "code",
   "execution_count": 223,
   "id": "29211566",
   "metadata": {},
   "outputs": [],
   "source": [
    "coefficients_mice2_df = (\n",
    "    coefficients_mice2\n",
    "    .reset_index()\n",
    "    .rename(columns = {'index':'variable'}))"
   ]
  },
  {
   "cell_type": "code",
   "execution_count": 224,
   "id": "a108c75f",
   "metadata": {},
   "outputs": [],
   "source": [
    "coefficients_mice = coefficients_mice.append(coefficients_mice2_df, ignore_index = True)"
   ]
  },
  {
   "cell_type": "code",
   "execution_count": 225,
   "id": "9088286d",
   "metadata": {},
   "outputs": [],
   "source": [
    "coefficients_mice.to_csv('coefficients_mice.csv', index = False, header = True)"
   ]
  },
  {
   "cell_type": "markdown",
   "id": "dc3a8612",
   "metadata": {},
   "source": [
    "### 3.4 Model 4"
   ]
  },
  {
   "cell_type": "markdown",
   "id": "de2be4c2",
   "metadata": {},
   "source": [
    "#### Preprocessing "
   ]
  },
  {
   "cell_type": "code",
   "execution_count": 226,
   "id": "c1941b32",
   "metadata": {},
   "outputs": [],
   "source": [
    "train_mice3 = pd.read_csv('mice_tr3.csv', index_col = 'PatientID')"
   ]
  },
  {
   "cell_type": "code",
   "execution_count": 227,
   "id": "f0e4697a",
   "metadata": {},
   "outputs": [
    {
     "name": "stdout",
     "output_type": "stream",
     "text": [
      "(27452, 185)\n"
     ]
    }
   ],
   "source": [
    "print(train_mice3.shape)"
   ]
  },
  {
   "cell_type": "code",
   "execution_count": 228,
   "id": "1bd0832a",
   "metadata": {},
   "outputs": [
    {
     "data": {
      "text/plain": [
       "0"
      ]
     },
     "execution_count": 250,
     "metadata": {},
     "output_type": "execute_result"
    }
   ],
   "source": [
    "train_mice3.isna().sum().sum()"
   ]
  },
  {
   "cell_type": "code",
   "execution_count": 229,
   "id": "ffd260a4",
   "metadata": {},
   "outputs": [],
   "source": [
    "train_mice3 = train_mice3.drop(columns = mice_drop)"
   ]
  },
  {
   "cell_type": "code",
   "execution_count": 230,
   "id": "6828bf7f",
   "metadata": {},
   "outputs": [
    {
     "name": "stdout",
     "output_type": "stream",
     "text": [
      "(27452, 147)\n"
     ]
    }
   ],
   "source": [
    "print(train_mice3.shape)"
   ]
  },
  {
   "cell_type": "code",
   "execution_count": 231,
   "id": "ef5160ff",
   "metadata": {},
   "outputs": [],
   "source": [
    "train_mice3['ecog_na'] = np.where(train_mice3.index.isin(train.query('ecog_diagnosis == \"unknown\"').PatientID), 1, 0)\n",
    "train_mice3['stage_na'] = np.where(train_mice3.index.isin(train.query('stage == \"unknown\"').PatientID), 1, 0)\n",
    "train_mice3['ses_na'] = np.where(train_mice3.index.isin(train[train['ses'].isnull()].PatientID), 1, 0)"
   ]
  },
  {
   "cell_type": "code",
   "execution_count": 232,
   "id": "cde224e1",
   "metadata": {},
   "outputs": [
    {
     "data": {
      "text/plain": [
       "['gender',\n",
       " 'race',\n",
       " 'ethnicity',\n",
       " 'p_type',\n",
       " 'region',\n",
       " 'stage',\n",
       " 'met_year',\n",
       " 'crc_site',\n",
       " 'KRAS',\n",
       " 'dMMR_MSIh',\n",
       " 'NRAS',\n",
       " 'BRAF',\n",
       " 'ecog_diagnosis',\n",
       " 'ses']"
      ]
     },
     "execution_count": 254,
     "metadata": {},
     "output_type": "execute_result"
    }
   ],
   "source": [
    "for x in list(to_be_categorical):\n",
    "    train_mice3[x] = train_mice3[x].astype('category')\n",
    "    \n",
    "list(train_mice3.select_dtypes(include = ['category']).columns)"
   ]
  },
  {
   "cell_type": "code",
   "execution_count": 233,
   "id": "2511ed3e",
   "metadata": {},
   "outputs": [],
   "source": [
    "train_mice3['death_status'] = train_mice3['death_status'].astype('bool')"
   ]
  },
  {
   "cell_type": "code",
   "execution_count": 234,
   "id": "e7918352",
   "metadata": {},
   "outputs": [],
   "source": [
    "val_mice3 = train_mice3[train_mice3.index.isin(val_IDs['PatientID'])]\n",
    "\n",
    "sub_train_mice3 = train_mice3[~train_mice3.index.isin(val_IDs['PatientID'])]"
   ]
  },
  {
   "cell_type": "code",
   "execution_count": 235,
   "id": "84a721be",
   "metadata": {},
   "outputs": [
    {
     "name": "stdout",
     "output_type": "stream",
     "text": [
      "(27452, 150)\n",
      "(20589, 150)\n",
      "(6863, 150)\n"
     ]
    }
   ],
   "source": [
    "print(train_mice3.shape)\n",
    "print(sub_train_mice3.shape)\n",
    "print(val_mice3.shape)"
   ]
  },
  {
   "cell_type": "code",
   "execution_count": 236,
   "id": "0d22a8b7",
   "metadata": {},
   "outputs": [],
   "source": [
    "train_mice3_x = train_mice3.drop(columns = ['death_status', 'timerisk_activity'])\n",
    "\n",
    "sub_train_mice3_x = sub_train_mice3.drop(columns = ['death_status', 'timerisk_activity'])\n",
    "\n",
    "val_mice3_x = val_mice3.drop(columns = ['death_status', 'timerisk_activity'])"
   ]
  },
  {
   "cell_type": "code",
   "execution_count": 237,
   "id": "38b8e8d9",
   "metadata": {},
   "outputs": [
    {
     "name": "stdout",
     "output_type": "stream",
     "text": [
      "(27452, 148)\n",
      "(20589, 148)\n",
      "(6863, 148)\n"
     ]
    }
   ],
   "source": [
    "print(train_mice3_x.shape)\n",
    "print(sub_train_mice3_x.shape)\n",
    "print(val_mice3_x.shape)"
   ]
  },
  {
   "cell_type": "markdown",
   "id": "4e89a687",
   "metadata": {},
   "source": [
    "#### Hyperparameter tuning "
   ]
  },
  {
   "cell_type": "code",
   "execution_count": 238,
   "id": "66719789",
   "metadata": {},
   "outputs": [
    {
     "name": "stdout",
     "output_type": "stream",
     "text": [
      "      Iter       Train Loss      OOB Improve   Remaining Time \n",
      "         1       84790.2550          15.3266          131.89m\n",
      "         2       84217.8778          15.0678          131.93m\n",
      "         3       84068.3947          13.4280          131.86m\n",
      "         4       84259.3194          12.5210          131.81m\n",
      "         5       84267.7834          12.1750          131.73m\n",
      "         6       84411.9378          11.3706          131.66m\n",
      "         7       84039.0003          11.6088          131.61m\n",
      "         8       84297.9414          11.0093          131.54m\n",
      "         9       83841.4257          11.7304          131.56m\n",
      "        10       83562.8549          10.8202          131.48m\n",
      "        20       84114.0954           7.9615          130.55m\n",
      "        30       83230.4416           6.0615          129.61m\n",
      "        40       82989.8119           5.8819          128.89m\n",
      "        50       83266.0065           4.1693          128.21m\n",
      "        60       83595.8078           3.2599          127.43m\n",
      "        70       82984.3254           2.7299          126.62m\n",
      "        80       82691.2596           2.5722          125.76m\n",
      "        90       82774.4659           1.2952          124.91m\n",
      "       100       82977.7515           1.5304          124.07m\n",
      "       200       82651.1644           0.6209          115.34m\n",
      "       300       81740.1889           0.2885          106.52m\n",
      "       400       81897.3157          -0.1410           97.74m\n",
      "       500       80976.8210          -0.1434           88.87m\n",
      "       600       81481.5619          -0.3118           79.99m\n",
      "       700       81355.0986          -0.1634           71.10m\n",
      "       800       81190.6888          -0.1796           62.22m\n",
      "       900       81140.6721          -0.0428           53.33m\n",
      "      1000       80596.2354          -0.1124           44.44m\n"
     ]
    },
    {
     "data": {
      "text/plain": [
       "GradientBoostingSurvivalAnalysis(learning_rate=0.05, n_estimators=1500,\n",
       "                                 random_state=42, subsample=0.75, verbose=1)"
      ]
     },
     "execution_count": 260,
     "metadata": {},
     "output_type": "execute_result"
    }
   ],
   "source": [
    "sub_train_mice3_xt = preprocessor_red.fit_transform(sub_train_mice3_x)\n",
    "val_mice3_xt = preprocessor_red.transform(val_mice3_x)\n",
    "\n",
    "gbm_mice3_exp = GradientBoostingSurvivalAnalysis(n_estimators = 1500,\n",
    "                                                 learning_rate = 0.05,\n",
    "                                                 max_depth = 3,\n",
    "                                                 subsample = 0.75,\n",
    "                                                 verbose = 1,\n",
    "                                                 random_state = 42)\n",
    "\n",
    "gbm_mice3_exp.fit(sub_train_mice3_xt, sub_train_y)"
   ]
  },
  {
   "cell_type": "code",
   "execution_count": 239,
   "id": "7b9be61c",
   "metadata": {},
   "outputs": [],
   "source": [
    "gbm3_staged_auc = [cumulative_dynamic_auc(sub_train_y, val_y, risk_score, 730)[0][0] for \n",
    "                   risk_score in gbm_mice3_exp.staged_predict(val_mice3_xt)]"
   ]
  },
  {
   "cell_type": "code",
   "execution_count": 240,
   "id": "36b3ee35",
   "metadata": {},
   "outputs": [],
   "source": [
    "gbm3_staged_auc_tr = [cumulative_dynamic_auc(sub_train_y, sub_train_y, risk_score, 730)[0][0] for \n",
    "                      risk_score in gbm_mice3_exp.staged_predict(sub_train_mice3_xt)]"
   ]
  },
  {
   "cell_type": "code",
   "execution_count": 241,
   "id": "b7a79d5b",
   "metadata": {},
   "outputs": [
    {
     "data": {
      "image/png": "[encoded data removed]",
      "text/plain": [
       "<Figure size 432x288 with 1 Axes>"
      ]
     },
     "metadata": {
      "needs_background": "light"
     },
     "output_type": "display_data"
    }
   ],
   "source": [
    "fig = plt.figure()\n",
    "ax = fig.add_subplot(1, 1, 1)\n",
    "\n",
    "x = range(len(gbm3_staged_auc))\n",
    "plt.plot(x, gbm3_staged_auc, color = 'blue', label = 'validation')\n",
    "plt.plot(x, gbm3_staged_auc_tr, color = 'red', label = 'training')\n",
    "plt.legend(loc = 'lower right')\n",
    "\n",
    "plt.xlabel(\"n_estimators\")\n",
    "plt.ylabel(\"AUC at 2 years\")\n",
    "plt.title('Gradient boosting model learning curve for mice3')\n",
    "\n",
    "plt.show()"
   ]
  },
  {
   "cell_type": "code",
   "execution_count": 242,
   "id": "c2388079",
   "metadata": {},
   "outputs": [],
   "source": [
    "# Average AUC for every 25 additional trees. \n",
    "mean_auc_list = []\n",
    "for x in np.arange(0, len(gbm3_staged_auc), 25):\n",
    "    mean_auc_list.append(np.mean(gbm3_staged_auc[x:x+24]))"
   ]
  },
  {
   "cell_type": "code",
   "execution_count": 243,
   "id": "1c20a4b5",
   "metadata": {},
   "outputs": [
    {
     "name": "stdout",
     "output_type": "stream",
     "text": [
      "Number of trees where 2 year AUC on validation dataset beings to downgrade: 925\n",
      "Validation dataset AUC before degrading: 0.7697548217746023\n",
      "Training dataset AUC before degrading: 0.8094569850550084\n"
     ]
    }
   ],
   "source": [
    "print('Number of trees where 2 year AUC on validation dataset beings to downgrade:', np.where(np.diff(mean_auc_list) < 0)[0][0]*25)\n",
    "print('Validation dataset AUC before degrading:', gbm3_staged_auc[np.where(np.diff(mean_auc_list) < 0)[0][0]*25])\n",
    "print('Training dataset AUC before degrading:', gbm3_staged_auc_tr[np.where(np.diff(mean_auc_list) < 0)[0][0]*25])"
   ]
  },
  {
   "cell_type": "code",
   "execution_count": 244,
   "id": "408e0a12",
   "metadata": {},
   "outputs": [
    {
     "name": "stdout",
     "output_type": "stream",
     "text": [
      "(27452, 148)\n",
      "(27452,)\n"
     ]
    }
   ],
   "source": [
    "print(train_mice3_x.shape)\n",
    "print(train_y.shape)"
   ]
  },
  {
   "cell_type": "markdown",
   "id": "bd0d2ef7",
   "metadata": {},
   "source": [
    "#### Model building and performance assessment "
   ]
  },
  {
   "cell_type": "code",
   "execution_count": 245,
   "id": "9a0db7a1",
   "metadata": {},
   "outputs": [
    {
     "name": "stdout",
     "output_type": "stream",
     "text": [
      "      Iter       Train Loss      OOB Improve   Remaining Time \n",
      "         1      115853.9173          24.3254          147.87m\n",
      "         2      115462.3845          22.1564          147.66m\n",
      "         3      115755.6414          20.6709          148.14m\n",
      "         4      115726.2555          21.4510          147.92m\n",
      "         5      115211.8927          20.1112          147.71m\n",
      "         6      115336.8731          19.7753          147.43m\n",
      "         7      115565.8695          16.9573          147.30m\n",
      "         8      115811.8404          17.7220          147.02m\n",
      "         9      115518.7697          17.7681          146.86m\n",
      "        10      115277.1284          16.5990          146.66m\n",
      "        20      114953.7653          12.4977          144.76m\n",
      "        30      114568.3634           8.7369          143.08m\n",
      "        40      113685.4277           7.4902          141.41m\n",
      "        50      113845.6670           6.0884          139.80m\n",
      "        60      113514.0974           3.7911          138.17m\n",
      "        70      113809.9796           3.4582          136.55m\n",
      "        80      113155.8202           2.8113          134.93m\n",
      "        90      113136.1505           2.4974          133.32m\n",
      "       100      113016.5180           4.1326          131.73m\n",
      "       200      112037.3581           0.1937          115.73m\n",
      "       300      111854.0181           0.4561           99.72m\n",
      "       400      111397.4579           0.1173           83.76m\n",
      "       500      110866.2957           0.2483           67.80m\n",
      "       600      110887.1622          -0.3668           51.84m\n",
      "       700      110841.7805          -0.0226           35.89m\n",
      "       800      110209.7751          -0.0032           19.94m\n",
      "       900      109740.6811          -0.5007            3.99m\n"
     ]
    },
    {
     "data": {
      "text/plain": [
       "Pipeline(steps=[('columntransformer',\n",
       "                 ColumnTransformer(remainder='passthrough',\n",
       "                                   transformers=[('num',\n",
       "                                                  Pipeline(steps=[('std_scaler',\n",
       "                                                                   StandardScaler())]),\n",
       "                                                  ['age', 'delta_met_diagnosis',\n",
       "                                                   'weight_diag', 'bmi_diag',\n",
       "                                                   'weight_pct_change',\n",
       "                                                   'weight_slope',\n",
       "                                                   'albumin_diag', 'alp_diag',\n",
       "                                                   'alt_diag', 'ast_diag',\n",
       "                                                   'bicarb_diag', 'bun_diag',\n",
       "                                                   'calcium_diag', 'cea_diag',\n",
       "                                                   'chloride_di...\n",
       "                                                   'wbc_max', ...]),\n",
       "                                                 ('cat',\n",
       "                                                  OneHotEncoder(handle_unknown='ignore'),\n",
       "                                                  ['gender', 'race',\n",
       "                                                   'ethnicity', 'p_type',\n",
       "                                                   'region', 'stage',\n",
       "                                                   'met_year', 'crc_site',\n",
       "                                                   'KRAS', 'dMMR_MSIh', 'NRAS',\n",
       "                                                   'BRAF', 'ecog_diagnosis',\n",
       "                                                   'ses'])])),\n",
       "                ('gradientboostingsurvivalanalysis',\n",
       "                 GradientBoostingSurvivalAnalysis(learning_rate=0.05,\n",
       "                                                  max_depth=4, n_estimators=925,\n",
       "                                                  random_state=42,\n",
       "                                                  subsample=0.75, verbose=1))])"
      ]
     },
     "execution_count": 267,
     "metadata": {},
     "output_type": "execute_result"
    }
   ],
   "source": [
    "gbm_mice3 = make_pipeline(preprocessor_red, GradientBoostingSurvivalAnalysis(n_estimators = np.where(np.diff(mean_auc_list) < 0)[0][0]*25,\n",
    "                                                                             learning_rate = 0.05,\n",
    "                                                                             max_depth = 4,\n",
    "                                                                             subsample = 0.75,\n",
    "                                                                             verbose = 1,\n",
    "                                                                             random_state = 42))\n",
    "\n",
    "gbm_mice3.fit(train_mice3_x, train_y)"
   ]
  },
  {
   "cell_type": "code",
   "execution_count": 246,
   "id": "8420ff40",
   "metadata": {},
   "outputs": [
    {
     "data": {
      "text/plain": [
       "['gbm_mice3.joblib']"
      ]
     },
     "execution_count": 268,
     "metadata": {},
     "output_type": "execute_result"
    }
   ],
   "source": [
    "dump(gbm_mice3, 'gbm_mice3.joblib') "
   ]
  },
  {
   "cell_type": "code",
   "execution_count": 247,
   "id": "501b59cf",
   "metadata": {},
   "outputs": [
    {
     "name": "stdout",
     "output_type": "stream",
     "text": [
      "Test set AUC at 2 years: 0.7792773529810073\n"
     ]
    }
   ],
   "source": [
    "gbm_risk_scores_te = gbm_mice3.predict(test_mice_x)\n",
    "gbm_auc_te = cumulative_dynamic_auc(train_y, test_y, gbm_risk_scores_te, 730)[0][0]\n",
    "print('Test set AUC at 2 years:', gbm_auc_te)"
   ]
  },
  {
   "cell_type": "code",
   "execution_count": 248,
   "id": "266aad3b",
   "metadata": {},
   "outputs": [
    {
     "name": "stdout",
     "output_type": "stream",
     "text": [
      "Training set AUC at 2 years: 0.8314982902714564\n"
     ]
    }
   ],
   "source": [
    "gbm_risk_scores_tr = gbm_mice3.predict(train_mice3_x)\n",
    "gbm_auc_tr = cumulative_dynamic_auc(train_y, train_y, gbm_risk_scores_tr, 730)[0][0]\n",
    "print('Training set AUC at 2 years:', gbm_auc_tr)"
   ]
  },
  {
   "cell_type": "code",
   "execution_count": 249,
   "id": "ffca84d5",
   "metadata": {},
   "outputs": [],
   "source": [
    "# Bootstrap 10000 1 yr AUCs for test set \n",
    "n_bootstraps = 10000\n",
    "rng_seed = 42 \n",
    "bootstrapped_scores_te = []\n",
    "\n",
    "rng = np.random.RandomState(rng_seed)\n",
    "for i in range(n_bootstraps):\n",
    "    indices = rng.randint(0, len(gbm_risk_scores_te), len(gbm_risk_scores_te))\n",
    "    auc_yr = cumulative_dynamic_auc(train_y, test_y[indices], gbm_risk_scores_te[indices], 730)[0][0]\n",
    "    bootstrapped_scores_te.append(auc_yr)"
   ]
  },
  {
   "cell_type": "code",
   "execution_count": 250,
   "id": "3530543e",
   "metadata": {},
   "outputs": [
    {
     "name": "stdout",
     "output_type": "stream",
     "text": [
      "Test set AUC standard error: 0.002812970755941161\n"
     ]
    }
   ],
   "source": [
    "# Standard error of mean for test set AUC\n",
    "sorted_scores_te = np.array(bootstrapped_scores_te)\n",
    "sorted_scores_te.sort()\n",
    "\n",
    "conf_lower_te = sorted_scores_te[int(0.025 * len(sorted_scores_te))]\n",
    "conf_upper_te = sorted_scores_te[int(0.975 * len(sorted_scores_te))]\n",
    "\n",
    "standard_error_te = (conf_upper_te - conf_lower_te) / 3.92\n",
    "print('Test set AUC standard error:', standard_error_te)"
   ]
  },
  {
   "cell_type": "code",
   "execution_count": 251,
   "id": "13cd2baa",
   "metadata": {},
   "outputs": [],
   "source": [
    "# Bootstrap 10000 1-yr AUCs for train set \n",
    "n_bootstraps = 10000\n",
    "rng_seed = 42 \n",
    "bootstrapped_scores_tr = []\n",
    "\n",
    "rng = np.random.RandomState(rng_seed)\n",
    "for i in range(n_bootstraps):\n",
    "    indices = rng.randint(0, len(gbm_risk_scores_tr), len(gbm_risk_scores_tr))\n",
    "    auc_yr = cumulative_dynamic_auc(train_y, train_y[indices], gbm_risk_scores_tr[indices], 730)[0][0]\n",
    "    bootstrapped_scores_tr.append(auc_yr)"
   ]
  },
  {
   "cell_type": "code",
   "execution_count": 252,
   "id": "2e1c6939",
   "metadata": {},
   "outputs": [
    {
     "name": "stdout",
     "output_type": "stream",
     "text": [
      "Training set AUC standard error 0.0027869758272653093\n"
     ]
    }
   ],
   "source": [
    "# Standard error of mean for train set AUC\n",
    "sorted_scores_tr = np.array(bootstrapped_scores_tr)\n",
    "sorted_scores_tr.sort()\n",
    "\n",
    "conf_lower_tr = sorted_scores_tr[int(0.025 * len(sorted_scores_tr))]\n",
    "conf_upper_tr = sorted_scores_tr[int(0.975 * len(sorted_scores_tr))]\n",
    "\n",
    "standard_error_tr = (conf_upper_tr - conf_lower_tr) / 3.92\n",
    "print('Training set AUC standard error', standard_error_tr)"
   ]
  },
  {
   "cell_type": "code",
   "execution_count": 253,
   "id": "8748adfe",
   "metadata": {},
   "outputs": [],
   "source": [
    "mice_auc_data = {'mice_dataset': 'mice_3',\n",
    "                 'auc_2yr_te': gbm_auc_te,\n",
    "                 'sem_te': standard_error_te,\n",
    "                 'auc_2yr_tr': gbm_auc_tr,\n",
    "                 'sem_tr': standard_error_tr}\n",
    "\n",
    "mice_auc_df = mice_auc_df.append(mice_auc_data, ignore_index = True)"
   ]
  },
  {
   "cell_type": "code",
   "execution_count": 254,
   "id": "3391ac0e",
   "metadata": {},
   "outputs": [
    {
     "data": {
      "text/html": [
       "<div>\n",
       "<style scoped>\n",
       "    .dataframe tbody tr th:only-of-type {\n",
       "        vertical-align: middle;\n",
       "    }\n",
       "\n",
       "    .dataframe tbody tr th {\n",
       "        vertical-align: top;\n",
       "    }\n",
       "\n",
       "    .dataframe thead th {\n",
       "        text-align: right;\n",
       "    }\n",
       "</style>\n",
       "<table border=\"1\" class=\"dataframe\">\n",
       "  <thead>\n",
       "    <tr style=\"text-align: right;\">\n",
       "      <th></th>\n",
       "      <th>mice_dataset</th>\n",
       "      <th>auc_2yr_te</th>\n",
       "      <th>sem_te</th>\n",
       "      <th>auc_2yr_tr</th>\n",
       "      <th>sem_tr</th>\n",
       "    </tr>\n",
       "  </thead>\n",
       "  <tbody>\n",
       "    <tr>\n",
       "      <th>0</th>\n",
       "      <td>mice_0</td>\n",
       "      <td>0.782498</td>\n",
       "      <td>0.002785</td>\n",
       "      <td>0.851491</td>\n",
       "      <td>0.002569</td>\n",
       "    </tr>\n",
       "    <tr>\n",
       "      <th>1</th>\n",
       "      <td>mice_1</td>\n",
       "      <td>0.779570</td>\n",
       "      <td>0.002797</td>\n",
       "      <td>0.831095</td>\n",
       "      <td>0.002770</td>\n",
       "    </tr>\n",
       "    <tr>\n",
       "      <th>2</th>\n",
       "      <td>mice_2</td>\n",
       "      <td>0.779861</td>\n",
       "      <td>0.002819</td>\n",
       "      <td>0.835608</td>\n",
       "      <td>0.002734</td>\n",
       "    </tr>\n",
       "    <tr>\n",
       "      <th>3</th>\n",
       "      <td>mice_3</td>\n",
       "      <td>0.779277</td>\n",
       "      <td>0.002813</td>\n",
       "      <td>0.831498</td>\n",
       "      <td>0.002787</td>\n",
       "    </tr>\n",
       "  </tbody>\n",
       "</table>\n",
       "</div>"
      ],
      "text/plain": [
       "  mice_dataset  auc_2yr_te    sem_te  auc_2yr_tr    sem_tr\n",
       "0       mice_0    0.782498  0.002785    0.851491  0.002569\n",
       "1       mice_1    0.779570  0.002797    0.831095  0.002770\n",
       "2       mice_2    0.779861  0.002819    0.835608  0.002734\n",
       "3       mice_3    0.779277  0.002813    0.831498  0.002787"
      ]
     },
     "execution_count": 276,
     "metadata": {},
     "output_type": "execute_result"
    }
   ],
   "source": [
    "mice_auc_df "
   ]
  },
  {
   "cell_type": "code",
   "execution_count": 255,
   "id": "ce38ccc2",
   "metadata": {},
   "outputs": [],
   "source": [
    "mice_auc_df.to_csv('mice_auc_df.csv', index = False, header = True)"
   ]
  },
  {
   "cell_type": "code",
   "execution_count": 256,
   "id": "3463d189",
   "metadata": {},
   "outputs": [],
   "source": [
    "times = np.arange(30, 1810, 30)\n",
    "mice3_auc_over5 = cumulative_dynamic_auc(train_y, test_y, gbm_risk_scores_te, times)[0]\n",
    "\n",
    "times_data = {}\n",
    "values = mice3_auc_over5\n",
    "time_names = []\n",
    "\n",
    "for x in range(len(times)):\n",
    "    time_names.append('time_'+str(times[x]))\n",
    "\n",
    "for i in range(len(time_names)):\n",
    "    times_data[time_names[i]] = values[i]\n",
    "    \n",
    "mice3_auc_over5_df = pd.DataFrame(times_data, index = ['mice_3'])\n",
    "\n",
    "mice_auc_over5 = mice_auc_over5.append(mice3_auc_over5_df, ignore_index = False)"
   ]
  },
  {
   "cell_type": "code",
   "execution_count": 257,
   "id": "00480679",
   "metadata": {},
   "outputs": [
    {
     "data": {
      "text/html": [
       "<div>\n",
       "<style scoped>\n",
       "    .dataframe tbody tr th:only-of-type {\n",
       "        vertical-align: middle;\n",
       "    }\n",
       "\n",
       "    .dataframe tbody tr th {\n",
       "        vertical-align: top;\n",
       "    }\n",
       "\n",
       "    .dataframe thead th {\n",
       "        text-align: right;\n",
       "    }\n",
       "</style>\n",
       "<table border=\"1\" class=\"dataframe\">\n",
       "  <thead>\n",
       "    <tr style=\"text-align: right;\">\n",
       "      <th></th>\n",
       "      <th>time_30</th>\n",
       "      <th>time_60</th>\n",
       "      <th>time_90</th>\n",
       "      <th>time_120</th>\n",
       "      <th>time_150</th>\n",
       "      <th>time_180</th>\n",
       "      <th>time_210</th>\n",
       "      <th>time_240</th>\n",
       "      <th>time_270</th>\n",
       "      <th>time_300</th>\n",
       "      <th>...</th>\n",
       "      <th>time_1530</th>\n",
       "      <th>time_1560</th>\n",
       "      <th>time_1590</th>\n",
       "      <th>time_1620</th>\n",
       "      <th>time_1650</th>\n",
       "      <th>time_1680</th>\n",
       "      <th>time_1710</th>\n",
       "      <th>time_1740</th>\n",
       "      <th>time_1770</th>\n",
       "      <th>time_1800</th>\n",
       "    </tr>\n",
       "  </thead>\n",
       "  <tbody>\n",
       "    <tr>\n",
       "      <th>mice_0</th>\n",
       "      <td>0.888610</td>\n",
       "      <td>0.903288</td>\n",
       "      <td>0.884143</td>\n",
       "      <td>0.869969</td>\n",
       "      <td>0.864156</td>\n",
       "      <td>0.855605</td>\n",
       "      <td>0.849778</td>\n",
       "      <td>0.844226</td>\n",
       "      <td>0.839047</td>\n",
       "      <td>0.831123</td>\n",
       "      <td>...</td>\n",
       "      <td>0.750106</td>\n",
       "      <td>0.749444</td>\n",
       "      <td>0.747275</td>\n",
       "      <td>0.745356</td>\n",
       "      <td>0.746439</td>\n",
       "      <td>0.744329</td>\n",
       "      <td>0.745306</td>\n",
       "      <td>0.748618</td>\n",
       "      <td>0.746243</td>\n",
       "      <td>0.746946</td>\n",
       "    </tr>\n",
       "    <tr>\n",
       "      <th>mice_1</th>\n",
       "      <td>0.880479</td>\n",
       "      <td>0.900101</td>\n",
       "      <td>0.882442</td>\n",
       "      <td>0.867095</td>\n",
       "      <td>0.861430</td>\n",
       "      <td>0.852466</td>\n",
       "      <td>0.845465</td>\n",
       "      <td>0.839978</td>\n",
       "      <td>0.834610</td>\n",
       "      <td>0.827169</td>\n",
       "      <td>...</td>\n",
       "      <td>0.747287</td>\n",
       "      <td>0.746900</td>\n",
       "      <td>0.745429</td>\n",
       "      <td>0.742912</td>\n",
       "      <td>0.744363</td>\n",
       "      <td>0.742582</td>\n",
       "      <td>0.744016</td>\n",
       "      <td>0.746965</td>\n",
       "      <td>0.744604</td>\n",
       "      <td>0.745888</td>\n",
       "    </tr>\n",
       "    <tr>\n",
       "      <th>mice_2</th>\n",
       "      <td>0.886631</td>\n",
       "      <td>0.903260</td>\n",
       "      <td>0.884247</td>\n",
       "      <td>0.868483</td>\n",
       "      <td>0.862370</td>\n",
       "      <td>0.853971</td>\n",
       "      <td>0.848447</td>\n",
       "      <td>0.842964</td>\n",
       "      <td>0.838200</td>\n",
       "      <td>0.830562</td>\n",
       "      <td>...</td>\n",
       "      <td>0.747902</td>\n",
       "      <td>0.747874</td>\n",
       "      <td>0.745646</td>\n",
       "      <td>0.742923</td>\n",
       "      <td>0.744334</td>\n",
       "      <td>0.742909</td>\n",
       "      <td>0.744376</td>\n",
       "      <td>0.747515</td>\n",
       "      <td>0.745148</td>\n",
       "      <td>0.747075</td>\n",
       "    </tr>\n",
       "    <tr>\n",
       "      <th>mice_3</th>\n",
       "      <td>0.879703</td>\n",
       "      <td>0.901007</td>\n",
       "      <td>0.880850</td>\n",
       "      <td>0.865499</td>\n",
       "      <td>0.859965</td>\n",
       "      <td>0.851633</td>\n",
       "      <td>0.845671</td>\n",
       "      <td>0.840144</td>\n",
       "      <td>0.834420</td>\n",
       "      <td>0.827436</td>\n",
       "      <td>...</td>\n",
       "      <td>0.750114</td>\n",
       "      <td>0.750168</td>\n",
       "      <td>0.748035</td>\n",
       "      <td>0.745512</td>\n",
       "      <td>0.747532</td>\n",
       "      <td>0.746046</td>\n",
       "      <td>0.747755</td>\n",
       "      <td>0.750728</td>\n",
       "      <td>0.748913</td>\n",
       "      <td>0.749524</td>\n",
       "    </tr>\n",
       "  </tbody>\n",
       "</table>\n",
       "<p>4 rows × 60 columns</p>\n",
       "</div>"
      ],
      "text/plain": [
       "         time_30   time_60   time_90  time_120  time_150  time_180  time_210  \\\n",
       "mice_0  0.888610  0.903288  0.884143  0.869969  0.864156  0.855605  0.849778   \n",
       "mice_1  0.880479  0.900101  0.882442  0.867095  0.861430  0.852466  0.845465   \n",
       "mice_2  0.886631  0.903260  0.884247  0.868483  0.862370  0.853971  0.848447   \n",
       "mice_3  0.879703  0.901007  0.880850  0.865499  0.859965  0.851633  0.845671   \n",
       "\n",
       "        time_240  time_270  time_300  ...  time_1530  time_1560  time_1590  \\\n",
       "mice_0  0.844226  0.839047  0.831123  ...   0.750106   0.749444   0.747275   \n",
       "mice_1  0.839978  0.834610  0.827169  ...   0.747287   0.746900   0.745429   \n",
       "mice_2  0.842964  0.838200  0.830562  ...   0.747902   0.747874   0.745646   \n",
       "mice_3  0.840144  0.834420  0.827436  ...   0.750114   0.750168   0.748035   \n",
       "\n",
       "        time_1620  time_1650  time_1680  time_1710  time_1740  time_1770  \\\n",
       "mice_0   0.745356   0.746439   0.744329   0.745306   0.748618   0.746243   \n",
       "mice_1   0.742912   0.744363   0.742582   0.744016   0.746965   0.744604   \n",
       "mice_2   0.742923   0.744334   0.742909   0.744376   0.747515   0.745148   \n",
       "mice_3   0.745512   0.747532   0.746046   0.747755   0.750728   0.748913   \n",
       "\n",
       "        time_1800  \n",
       "mice_0   0.746946  \n",
       "mice_1   0.745888  \n",
       "mice_2   0.747075  \n",
       "mice_3   0.749524  \n",
       "\n",
       "[4 rows x 60 columns]"
      ]
     },
     "execution_count": 279,
     "metadata": {},
     "output_type": "execute_result"
    }
   ],
   "source": [
    "mice_auc_over5"
   ]
  },
  {
   "cell_type": "code",
   "execution_count": 258,
   "id": "80eb5161",
   "metadata": {},
   "outputs": [],
   "source": [
    "mice_auc_over5.to_csv('mice_auc_over5.csv', index = True, header = True)"
   ]
  },
  {
   "cell_type": "code",
   "execution_count": 259,
   "id": "d7174445",
   "metadata": {},
   "outputs": [],
   "source": [
    "# Variables passing through pipeline_rsf\n",
    "cat_encoder = list(preprocessor_red.transformers_[1][1].get_feature_names(categorical_features))\n",
    "pass_through = list(train_mice3_x.iloc[:, preprocessor_red.transformers_[2][2]].columns)\n",
    "attributes_gbm = numerical_features_red + cat_encoder + pass_through"
   ]
  },
  {
   "cell_type": "code",
   "execution_count": 260,
   "id": "ea770014",
   "metadata": {},
   "outputs": [
    {
     "name": "stdout",
     "output_type": "stream",
     "text": [
      "Total number of features: 194\n",
      "Number of non-zero features in final model: 192\n"
     ]
    },
    {
     "data": {
      "image/png": "[encoded data removed]",
      "text/plain": [
       "<Figure size 432x576 with 1 Axes>"
      ]
     },
     "metadata": {
      "needs_background": "light"
     },
     "output_type": "display_data"
    }
   ],
   "source": [
    "# Dataframe of coefficients for each variable \n",
    "coefficients_mice3 = pd.DataFrame(\n",
    "    gbm_mice3.named_steps['gradientboostingsurvivalanalysis'].feature_importances_,\n",
    "    index = attributes_gbm,\n",
    "    columns = ['coefficient']\n",
    ")\n",
    "\n",
    "print('Total number of features: {}'.format(len(attributes_gbm)))\n",
    "\n",
    "non_zero = np.sum(coefficients_mice3.iloc[:, 0] != 0)\n",
    "print('Number of non-zero features in final model: {}'.format(non_zero))\n",
    "\n",
    "non_zero_coefs = coefficients_mice3.query('coefficient != 0')\n",
    "coef_order = non_zero_coefs.abs().sort_values('coefficient').tail(30).index\n",
    "\n",
    "_, ax = plt.subplots(figsize=(6, 8))\n",
    "non_zero_coefs.loc[coef_order].plot.barh(ax = ax, legend = False)\n",
    "ax.set_xlabel('coefficient')\n",
    "ax.grid(True)"
   ]
  },
  {
   "cell_type": "code",
   "execution_count": 261,
   "id": "126be6bc",
   "metadata": {},
   "outputs": [],
   "source": [
    "coefficients_mice3_df = (\n",
    "    coefficients_mice3\n",
    "    .reset_index()\n",
    "    .rename(columns = {'index':'variable'}))"
   ]
  },
  {
   "cell_type": "code",
   "execution_count": 262,
   "id": "608ce2cf",
   "metadata": {},
   "outputs": [],
   "source": [
    "coefficients_mice = coefficients_mice.append(coefficients_mice3_df, ignore_index = True)"
   ]
  },
  {
   "cell_type": "code",
   "execution_count": 263,
   "id": "9e6b39e1",
   "metadata": {},
   "outputs": [],
   "source": [
    "coefficients_mice.to_csv('coefficients_mice.csv', index = False, header = True)"
   ]
  },
  {
   "cell_type": "markdown",
   "id": "25f20758",
   "metadata": {},
   "source": [
    "### 3.5 Model 5"
   ]
  },
  {
   "cell_type": "markdown",
   "id": "8a7437bb",
   "metadata": {},
   "source": [
    "#### Preprocessing"
   ]
  },
  {
   "cell_type": "code",
   "execution_count": 264,
   "id": "297604a1",
   "metadata": {},
   "outputs": [],
   "source": [
    "train_mice4 = pd.read_csv('mice_tr4.csv', index_col = 'PatientID')"
   ]
  },
  {
   "cell_type": "code",
   "execution_count": 265,
   "id": "88e2457d",
   "metadata": {},
   "outputs": [
    {
     "data": {
      "text/plain": [
       "(27452, 185)"
      ]
     },
     "execution_count": 287,
     "metadata": {},
     "output_type": "execute_result"
    }
   ],
   "source": [
    "train_mice4.shape"
   ]
  },
  {
   "cell_type": "code",
   "execution_count": 266,
   "id": "b7e31827",
   "metadata": {},
   "outputs": [
    {
     "data": {
      "text/plain": [
       "0"
      ]
     },
     "execution_count": 288,
     "metadata": {},
     "output_type": "execute_result"
    }
   ],
   "source": [
    "train_mice4.isna().sum().sum()"
   ]
  },
  {
   "cell_type": "code",
   "execution_count": 267,
   "id": "c132d4aa",
   "metadata": {},
   "outputs": [],
   "source": [
    "train_mice4 = train_mice4.drop(columns = mice_drop)"
   ]
  },
  {
   "cell_type": "code",
   "execution_count": 268,
   "id": "ebeb59c2",
   "metadata": {},
   "outputs": [
    {
     "name": "stdout",
     "output_type": "stream",
     "text": [
      "(27452, 147)\n"
     ]
    }
   ],
   "source": [
    "print(train_mice4.shape)"
   ]
  },
  {
   "cell_type": "code",
   "execution_count": 269,
   "id": "fc8e05ca",
   "metadata": {},
   "outputs": [],
   "source": [
    "train_mice4['ecog_na'] = np.where(train_mice4.index.isin(train.query('ecog_diagnosis == \"unknown\"').PatientID), 1, 0)\n",
    "train_mice4['stage_na'] = np.where(train_mice4.index.isin(train.query('stage == \"unknown\"').PatientID), 1, 0)\n",
    "train_mice4['ses_na'] = np.where(train_mice4.index.isin(train[train['ses'].isnull()].PatientID), 1, 0)"
   ]
  },
  {
   "cell_type": "code",
   "execution_count": 270,
   "id": "4dd21ddc",
   "metadata": {},
   "outputs": [
    {
     "data": {
      "text/plain": [
       "['gender',\n",
       " 'race',\n",
       " 'ethnicity',\n",
       " 'p_type',\n",
       " 'region',\n",
       " 'stage',\n",
       " 'met_year',\n",
       " 'crc_site',\n",
       " 'KRAS',\n",
       " 'dMMR_MSIh',\n",
       " 'NRAS',\n",
       " 'BRAF',\n",
       " 'ecog_diagnosis',\n",
       " 'ses']"
      ]
     },
     "execution_count": 292,
     "metadata": {},
     "output_type": "execute_result"
    }
   ],
   "source": [
    "for x in list(to_be_categorical):\n",
    "    train_mice4[x] = train_mice4[x].astype('category')\n",
    "    \n",
    "list(train_mice4.select_dtypes(include = ['category']).columns)"
   ]
  },
  {
   "cell_type": "code",
   "execution_count": 271,
   "id": "cbfaaa77",
   "metadata": {},
   "outputs": [],
   "source": [
    "train_mice4['death_status'] = train_mice4['death_status'].astype('bool')"
   ]
  },
  {
   "cell_type": "code",
   "execution_count": 272,
   "id": "73a6cb67",
   "metadata": {},
   "outputs": [],
   "source": [
    "val_mice4 = train_mice4[train_mice4.index.isin(val_IDs['PatientID'])]\n",
    "\n",
    "sub_train_mice4 = train_mice4[~train_mice4.index.isin(val_IDs['PatientID'])]"
   ]
  },
  {
   "cell_type": "code",
   "execution_count": 273,
   "id": "d052a88f",
   "metadata": {},
   "outputs": [
    {
     "name": "stdout",
     "output_type": "stream",
     "text": [
      "(27452, 150)\n",
      "(20589, 150)\n",
      "(6863, 150)\n"
     ]
    }
   ],
   "source": [
    "print(train_mice4.shape)\n",
    "print(sub_train_mice4.shape)\n",
    "print(val_mice4.shape)"
   ]
  },
  {
   "cell_type": "code",
   "execution_count": 274,
   "id": "c802f576",
   "metadata": {},
   "outputs": [],
   "source": [
    "train_mice4_x = train_mice4.drop(columns = ['death_status', 'timerisk_activity'])\n",
    "\n",
    "sub_train_mice4_x = sub_train_mice4.drop(columns = ['death_status', 'timerisk_activity'])\n",
    "\n",
    "val_mice4_x = val_mice4.drop(columns = ['death_status', 'timerisk_activity'])"
   ]
  },
  {
   "cell_type": "code",
   "execution_count": 275,
   "id": "b8670a5c",
   "metadata": {},
   "outputs": [
    {
     "name": "stdout",
     "output_type": "stream",
     "text": [
      "(27452, 148)\n",
      "(20589, 148)\n",
      "(6863, 148)\n"
     ]
    }
   ],
   "source": [
    "print(train_mice4_x.shape)\n",
    "print(sub_train_mice4_x.shape)\n",
    "print(val_mice4_x.shape)"
   ]
  },
  {
   "cell_type": "markdown",
   "id": "1ebcca86",
   "metadata": {},
   "source": [
    "#### Hyperparameter tuning"
   ]
  },
  {
   "cell_type": "code",
   "execution_count": 276,
   "id": "2781908a",
   "metadata": {},
   "outputs": [
    {
     "name": "stdout",
     "output_type": "stream",
     "text": [
      "      Iter       Train Loss      OOB Improve   Remaining Time \n",
      "         1       84777.7666          18.1555          135.85m\n",
      "         2       84196.4132          18.2317          135.76m\n",
      "         3       84041.6868          15.7978          135.31m\n",
      "         4       84219.3677          15.3320          135.03m\n",
      "         5       84219.8022          14.2681          135.13m\n",
      "         6       84355.2196          13.9445          134.89m\n",
      "         7       83975.3290          12.8872          134.76m\n",
      "         8       84228.5937          13.0758          134.76m\n",
      "         9       83760.3670          12.7975          134.56m\n",
      "        10       83486.4603          12.2834          134.40m\n",
      "        20       83969.9665           8.9647          133.23m\n",
      "        30       83051.9473           6.2299          132.13m\n",
      "        40       82783.3088           4.5266          131.08m\n",
      "        50       83037.2914           3.9026          130.07m\n",
      "        60       83328.4001           3.9210          129.09m\n",
      "        70       82708.3639           2.6647          128.16m\n",
      "        80       82411.2227           3.1450          127.23m\n",
      "        90       82477.0161           1.9892          126.33m\n",
      "       100       82676.0313           1.3790          125.40m\n",
      "       200       82180.5751           0.7797          116.29m\n",
      "       300       81156.1608           0.0558          107.30m\n",
      "       400       81256.8336          -0.3459           98.33m\n",
      "       500       80205.2856          -0.0261           89.37m\n",
      "       600       80647.7577          -0.0255           80.43m\n",
      "       700       80440.5368          -0.2797           71.48m\n",
      "       800       80217.8757          -0.0515           62.54m\n",
      "       900       80114.2517          -0.2652           53.60m\n",
      "      1000       79476.5561          -0.3231           44.67m\n"
     ]
    },
    {
     "data": {
      "text/plain": [
       "GradientBoostingSurvivalAnalysis(learning_rate=0.05, max_depth=4,\n",
       "                                 n_estimators=1500, random_state=42,\n",
       "                                 subsample=0.75, verbose=1)"
      ]
     },
     "execution_count": 298,
     "metadata": {},
     "output_type": "execute_result"
    }
   ],
   "source": [
    "sub_train_mice4_xt = preprocessor_red.fit_transform(sub_train_mice4_x)\n",
    "val_mice4_xt = preprocessor_red.transform(val_mice4_x)\n",
    "\n",
    "gbm_mice4_exp = GradientBoostingSurvivalAnalysis(n_estimators = 1500,\n",
    "                                                 learning_rate = 0.05,\n",
    "                                                 max_depth = 4,\n",
    "                                                 subsample = 0.75,\n",
    "                                                 verbose = 1,\n",
    "                                                 random_state = 42)\n",
    "\n",
    "gbm_mice4_exp.fit(sub_train_mice4_xt, sub_train_y)"
   ]
  },
  {
   "cell_type": "code",
   "execution_count": 277,
   "id": "0864e988",
   "metadata": {},
   "outputs": [],
   "source": [
    "gbm4_staged_auc = [cumulative_dynamic_auc(sub_train_y, val_y, risk_score, 730)[0][0] for \n",
    "                   risk_score in gbm_mice4_exp.staged_predict(val_mice4_xt)]"
   ]
  },
  {
   "cell_type": "code",
   "execution_count": 278,
   "id": "6f5e6b81",
   "metadata": {},
   "outputs": [],
   "source": [
    "gbm4_staged_auc_tr = [cumulative_dynamic_auc(sub_train_y, sub_train_y, risk_score, 730)[0][0] for \n",
    "                      risk_score in gbm_mice4_exp.staged_predict(sub_train_mice4_xt)]"
   ]
  },
  {
   "cell_type": "code",
   "execution_count": 279,
   "id": "004744a6",
   "metadata": {},
   "outputs": [
    {
     "data": {
      "image/png": "[encoded data removed]",
      "text/plain": [
       "<Figure size 432x288 with 1 Axes>"
      ]
     },
     "metadata": {
      "needs_background": "light"
     },
     "output_type": "display_data"
    }
   ],
   "source": [
    "fig = plt.figure()\n",
    "ax = fig.add_subplot(1, 1, 1)\n",
    "\n",
    "x = range(len(gbm4_staged_auc))\n",
    "plt.plot(x, gbm4_staged_auc, color = 'blue', label = 'validation')\n",
    "plt.plot(x, gbm4_staged_auc_tr, color = 'red', label = 'training')\n",
    "plt.legend(loc = 'lower right')\n",
    "\n",
    "plt.xlabel(\"n_estimators\")\n",
    "plt.ylabel(\"AUC at 2 years\")\n",
    "plt.title('Gradient boosting model learning curve for mice4')\n",
    "\n",
    "plt.show()"
   ]
  },
  {
   "cell_type": "code",
   "execution_count": 280,
   "id": "31ea6fec",
   "metadata": {},
   "outputs": [],
   "source": [
    "# Average AUC for every 25 additional trees. \n",
    "mean_auc_list = []\n",
    "for x in np.arange(0, len(gbm4_staged_auc), 25):\n",
    "    mean_auc_list.append(np.mean(gbm4_staged_auc[x:x+24]))"
   ]
  },
  {
   "cell_type": "code",
   "execution_count": 281,
   "id": "cd4829fa",
   "metadata": {},
   "outputs": [
    {
     "name": "stdout",
     "output_type": "stream",
     "text": [
      "Number of trees where 2 year AUC on validation dataset beings to downgrade: 950\n",
      "Validation dataset AUC before degrading: 0.7706724384448883\n",
      "Training dataset AUC before degrading: 0.8433965245240238\n"
     ]
    }
   ],
   "source": [
    "print('Number of trees where 2 year AUC on validation dataset beings to downgrade:', np.where(np.diff(mean_auc_list) < 0)[0][0]*25)\n",
    "print('Validation dataset AUC before degrading:', gbm4_staged_auc[np.where(np.diff(mean_auc_list) < 0)[0][0]*25])\n",
    "print('Training dataset AUC before degrading:', gbm4_staged_auc_tr[np.where(np.diff(mean_auc_list) < 0)[0][0]*25])"
   ]
  },
  {
   "cell_type": "code",
   "execution_count": 282,
   "id": "931ef8c6",
   "metadata": {},
   "outputs": [
    {
     "name": "stdout",
     "output_type": "stream",
     "text": [
      "(27452, 148)\n",
      "(27452,)\n"
     ]
    }
   ],
   "source": [
    "print(train_mice4_x.shape)\n",
    "print(train_y.shape)"
   ]
  },
  {
   "cell_type": "markdown",
   "id": "ba5f56da",
   "metadata": {},
   "source": [
    "#### Model building and performance asssessment "
   ]
  },
  {
   "cell_type": "code",
   "execution_count": 283,
   "id": "afacbc76",
   "metadata": {},
   "outputs": [
    {
     "name": "stdout",
     "output_type": "stream",
     "text": [
      "      Iter       Train Loss      OOB Improve   Remaining Time \n",
      "         1       74062.7226          39.9403          151.91m\n",
      "         2       72768.6826          36.7539          152.47m\n",
      "         3       73489.7997          35.3697          152.67m\n",
      "         4       74391.1093          34.8188          152.66m\n",
      "         5       73448.7226          34.8336          152.48m\n",
      "         6       73162.5853          32.2112          152.39m\n",
      "         7       73802.0777          30.5700          152.25m\n",
      "         8       73883.1382          29.5048          152.06m\n",
      "         9       73456.3454          28.9502          151.89m\n",
      "        10       73782.3282          27.2894          151.83m\n",
      "        20       72815.3616          21.1391          150.27m\n",
      "        30       73093.1802          17.2202          148.73m\n",
      "        40       72808.7319          13.5869          147.04m\n",
      "        50       72940.6611          10.5247          145.38m\n",
      "        60       72244.5347           8.4048          143.77m\n",
      "        70       73147.5368           6.1176          142.16m\n",
      "        80       72119.8488           5.6582          140.54m\n",
      "        90       71831.7705           5.1871          138.92m\n",
      "       100       72399.1964           6.1290          137.31m\n",
      "       200       71455.0610           1.8193          121.13m\n",
      "       300       72006.3326           0.6420          104.98m\n",
      "       400       71403.4492          -0.4353           88.82m\n",
      "       500       71343.5925          -0.1801           72.67m\n",
      "       600       71409.4935           0.3734           56.54m\n",
      "       700       71293.9098          -0.1972           40.38m\n",
      "       800       71445.8355          -0.3431           24.23m\n",
      "       900       70851.1448          -0.4462            8.07m\n"
     ]
    },
    {
     "data": {
      "text/plain": [
       "Pipeline(steps=[('columntransformer',\n",
       "                 ColumnTransformer(remainder='passthrough',\n",
       "                                   transformers=[('num',\n",
       "                                                  Pipeline(steps=[('std_scaler',\n",
       "                                                                   StandardScaler())]),\n",
       "                                                  ['age', 'delta_met_diagnosis',\n",
       "                                                   'weight_diag', 'bmi_diag',\n",
       "                                                   'weight_pct_change',\n",
       "                                                   'weight_slope',\n",
       "                                                   'albumin_diag', 'alp_diag',\n",
       "                                                   'alt_diag', 'ast_diag',\n",
       "                                                   'bicarb_diag', 'bun_diag',\n",
       "                                                   'calcium_diag', 'cea_diag',\n",
       "                                                   'chloride_di...\n",
       "                                                   'total_bilirubin_max',\n",
       "                                                   'wbc_max', ...]),\n",
       "                                                 ('cat',\n",
       "                                                  OneHotEncoder(handle_unknown='ignore'),\n",
       "                                                  ['gender', 'race',\n",
       "                                                   'ethnicity', 'p_type',\n",
       "                                                   'region', 'stage',\n",
       "                                                   'met_year', 'crc_site',\n",
       "                                                   'KRAS', 'dMMR_MSIh', 'NRAS',\n",
       "                                                   'BRAF', 'ecog_diagnosis',\n",
       "                                                   'ses'])])),\n",
       "                ('gradientboostingsurvivalanalysis',\n",
       "                 GradientBoostingSurvivalAnalysis(learning_rate=0.05,\n",
       "                                                  n_estimators=950,\n",
       "                                                  random_state=42,\n",
       "                                                  subsample=0.5, verbose=1))])"
      ]
     },
     "execution_count": 305,
     "metadata": {},
     "output_type": "execute_result"
    }
   ],
   "source": [
    "gbm_mice4 = make_pipeline(preprocessor_red, GradientBoostingSurvivalAnalysis(n_estimators = np.where(np.diff(mean_auc_list) < 0)[0][0]*25,\n",
    "                                                                             learning_rate = 0.05,\n",
    "                                                                             max_depth = 3,\n",
    "                                                                             subsample = 0.5,\n",
    "                                                                             verbose = 1,\n",
    "                                                                             random_state = 42))\n",
    "\n",
    "gbm_mice4.fit(train_mice4_x, train_y)"
   ]
  },
  {
   "cell_type": "code",
   "execution_count": 284,
   "id": "8739bf2c",
   "metadata": {},
   "outputs": [
    {
     "data": {
      "text/plain": [
       "['gbm_mice4.joblib']"
      ]
     },
     "execution_count": 306,
     "metadata": {},
     "output_type": "execute_result"
    }
   ],
   "source": [
    "dump(gbm_mice4, 'gbm_mice4.joblib') "
   ]
  },
  {
   "cell_type": "code",
   "execution_count": 285,
   "id": "8f39997b",
   "metadata": {},
   "outputs": [
    {
     "name": "stdout",
     "output_type": "stream",
     "text": [
      "Test set AUC at 2 years: 0.7754208221582329\n"
     ]
    }
   ],
   "source": [
    "gbm_risk_scores_te = gbm_mice4.predict(test_mice_x)\n",
    "gbm_auc_te = cumulative_dynamic_auc(train_y, test_y, gbm_risk_scores_te, 730)[0][0]\n",
    "print('Test set AUC at 2 years:', gbm_auc_te)"
   ]
  },
  {
   "cell_type": "code",
   "execution_count": 286,
   "id": "c439e8bc",
   "metadata": {},
   "outputs": [
    {
     "name": "stdout",
     "output_type": "stream",
     "text": [
      "Training set AUC at 2 years: 0.8019853088110656\n"
     ]
    }
   ],
   "source": [
    "gbm_risk_scores_tr = gbm_mice4.predict(train_mice4_x)\n",
    "gbm_auc_tr = cumulative_dynamic_auc(train_y, train_y, gbm_risk_scores_tr, 730)[0][0]\n",
    "print('Training set AUC at 2 years:', gbm_auc_tr)"
   ]
  },
  {
   "cell_type": "code",
   "execution_count": 287,
   "id": "f8804f20",
   "metadata": {},
   "outputs": [],
   "source": [
    "# Bootstrap 10000 2 yr AUCs for test set \n",
    "n_bootstraps = 10000\n",
    "rng_seed = 42 \n",
    "bootstrapped_scores_te = []\n",
    "\n",
    "rng = np.random.RandomState(rng_seed)\n",
    "for i in range(n_bootstraps):\n",
    "    indices = rng.randint(0, len(gbm_risk_scores_te), len(gbm_risk_scores_te))\n",
    "    auc_yr = cumulative_dynamic_auc(train_y, test_y[indices], gbm_risk_scores_te[indices], 730)[0][0]\n",
    "    bootstrapped_scores_te.append(auc_yr)"
   ]
  },
  {
   "cell_type": "code",
   "execution_count": 288,
   "id": "30a2e982",
   "metadata": {},
   "outputs": [
    {
     "name": "stdout",
     "output_type": "stream",
     "text": [
      "Test set AUC standard error: 0.002863177262279289\n"
     ]
    }
   ],
   "source": [
    "# Standard error of mean for test set AUC\n",
    "sorted_scores_te = np.array(bootstrapped_scores_te)\n",
    "sorted_scores_te.sort()\n",
    "\n",
    "conf_lower_te = sorted_scores_te[int(0.025 * len(sorted_scores_te))]\n",
    "conf_upper_te = sorted_scores_te[int(0.975 * len(sorted_scores_te))]\n",
    "\n",
    "standard_error_te = (conf_upper_te - conf_lower_te) / 3.92\n",
    "print('Test set AUC standard error:', standard_error_te)"
   ]
  },
  {
   "cell_type": "code",
   "execution_count": 289,
   "id": "e40aa0b1",
   "metadata": {},
   "outputs": [],
   "source": [
    "# Bootstrap 10000 2 yr AUCs for train set \n",
    "n_bootstraps = 10000\n",
    "rng_seed = 42 \n",
    "bootstrapped_scores_tr = []\n",
    "\n",
    "rng = np.random.RandomState(rng_seed)\n",
    "for i in range(n_bootstraps):\n",
    "    indices = rng.randint(0, len(gbm_risk_scores_tr), len(gbm_risk_scores_tr))\n",
    "    auc_yr = cumulative_dynamic_auc(train_y, train_y[indices], gbm_risk_scores_tr[indices], 730)[0][0]\n",
    "    bootstrapped_scores_tr.append(auc_yr)"
   ]
  },
  {
   "cell_type": "code",
   "execution_count": 290,
   "id": "a019c912",
   "metadata": {},
   "outputs": [
    {
     "name": "stdout",
     "output_type": "stream",
     "text": [
      "Training set AUC standard error 0.0030502282286447614\n"
     ]
    }
   ],
   "source": [
    "# Standard error of mean for train set AUC\n",
    "sorted_scores_tr = np.array(bootstrapped_scores_tr)\n",
    "sorted_scores_tr.sort()\n",
    "\n",
    "conf_lower_tr = sorted_scores_tr[int(0.025 * len(sorted_scores_tr))]\n",
    "conf_upper_tr = sorted_scores_tr[int(0.975 * len(sorted_scores_tr))]\n",
    "\n",
    "standard_error_tr = (conf_upper_tr - conf_lower_tr) / 3.92\n",
    "print('Training set AUC standard error', standard_error_tr)"
   ]
  },
  {
   "cell_type": "code",
   "execution_count": 291,
   "id": "7c2da7a5",
   "metadata": {},
   "outputs": [],
   "source": [
    "mice_auc_data = {'mice_dataset': 'mice_4',\n",
    "                 'auc_2yr_te': gbm_auc_te,\n",
    "                 'sem_te': standard_error_te,\n",
    "                 'auc_2yr_tr': gbm_auc_tr,\n",
    "                 'sem_tr': standard_error_tr}\n",
    "\n",
    "mice_auc_df = mice_auc_df.append(mice_auc_data, ignore_index = True)"
   ]
  },
  {
   "cell_type": "code",
   "execution_count": 292,
   "id": "d895d033",
   "metadata": {},
   "outputs": [
    {
     "data": {
      "text/html": [
       "<div>\n",
       "<style scoped>\n",
       "    .dataframe tbody tr th:only-of-type {\n",
       "        vertical-align: middle;\n",
       "    }\n",
       "\n",
       "    .dataframe tbody tr th {\n",
       "        vertical-align: top;\n",
       "    }\n",
       "\n",
       "    .dataframe thead th {\n",
       "        text-align: right;\n",
       "    }\n",
       "</style>\n",
       "<table border=\"1\" class=\"dataframe\">\n",
       "  <thead>\n",
       "    <tr style=\"text-align: right;\">\n",
       "      <th></th>\n",
       "      <th>mice_dataset</th>\n",
       "      <th>auc_2yr_te</th>\n",
       "      <th>sem_te</th>\n",
       "      <th>auc_2yr_tr</th>\n",
       "      <th>sem_tr</th>\n",
       "    </tr>\n",
       "  </thead>\n",
       "  <tbody>\n",
       "    <tr>\n",
       "      <th>0</th>\n",
       "      <td>mice_0</td>\n",
       "      <td>0.782498</td>\n",
       "      <td>0.002785</td>\n",
       "      <td>0.851491</td>\n",
       "      <td>0.002569</td>\n",
       "    </tr>\n",
       "    <tr>\n",
       "      <th>1</th>\n",
       "      <td>mice_1</td>\n",
       "      <td>0.779570</td>\n",
       "      <td>0.002797</td>\n",
       "      <td>0.831095</td>\n",
       "      <td>0.002770</td>\n",
       "    </tr>\n",
       "    <tr>\n",
       "      <th>2</th>\n",
       "      <td>mice_2</td>\n",
       "      <td>0.779861</td>\n",
       "      <td>0.002819</td>\n",
       "      <td>0.835608</td>\n",
       "      <td>0.002734</td>\n",
       "    </tr>\n",
       "    <tr>\n",
       "      <th>3</th>\n",
       "      <td>mice_3</td>\n",
       "      <td>0.779277</td>\n",
       "      <td>0.002813</td>\n",
       "      <td>0.831498</td>\n",
       "      <td>0.002787</td>\n",
       "    </tr>\n",
       "    <tr>\n",
       "      <th>4</th>\n",
       "      <td>mice_4</td>\n",
       "      <td>0.775421</td>\n",
       "      <td>0.002863</td>\n",
       "      <td>0.801985</td>\n",
       "      <td>0.003050</td>\n",
       "    </tr>\n",
       "  </tbody>\n",
       "</table>\n",
       "</div>"
      ],
      "text/plain": [
       "  mice_dataset  auc_2yr_te    sem_te  auc_2yr_tr    sem_tr\n",
       "0       mice_0    0.782498  0.002785    0.851491  0.002569\n",
       "1       mice_1    0.779570  0.002797    0.831095  0.002770\n",
       "2       mice_2    0.779861  0.002819    0.835608  0.002734\n",
       "3       mice_3    0.779277  0.002813    0.831498  0.002787\n",
       "4       mice_4    0.775421  0.002863    0.801985  0.003050"
      ]
     },
     "execution_count": 314,
     "metadata": {},
     "output_type": "execute_result"
    }
   ],
   "source": [
    "mice_auc_df "
   ]
  },
  {
   "cell_type": "code",
   "execution_count": 293,
   "id": "02dc3fd8",
   "metadata": {},
   "outputs": [],
   "source": [
    "mice_auc_df.to_csv('mice_auc_df.csv', index = False, header = True)"
   ]
  },
  {
   "cell_type": "code",
   "execution_count": 294,
   "id": "4f192e9d",
   "metadata": {},
   "outputs": [],
   "source": [
    "times = np.arange(30, 1810, 30)\n",
    "mice4_auc_over5 = cumulative_dynamic_auc(train_y, test_y, gbm_risk_scores_te, times)[0]\n",
    "\n",
    "times_data = {}\n",
    "values = mice4_auc_over5\n",
    "time_names = []\n",
    "\n",
    "for x in range(len(times)):\n",
    "    time_names.append('time_'+str(times[x]))\n",
    "\n",
    "for i in range(len(time_names)):\n",
    "    times_data[time_names[i]] = values[i]\n",
    "    \n",
    "mice4_auc_over5_df = pd.DataFrame(times_data, index = ['mice_4'])\n",
    "\n",
    "mice_auc_over5 = mice_auc_over5.append(mice4_auc_over5_df, ignore_index = False)"
   ]
  },
  {
   "cell_type": "code",
   "execution_count": 295,
   "id": "20390dc5",
   "metadata": {},
   "outputs": [
    {
     "data": {
      "text/html": [
       "<div>\n",
       "<style scoped>\n",
       "    .dataframe tbody tr th:only-of-type {\n",
       "        vertical-align: middle;\n",
       "    }\n",
       "\n",
       "    .dataframe tbody tr th {\n",
       "        vertical-align: top;\n",
       "    }\n",
       "\n",
       "    .dataframe thead th {\n",
       "        text-align: right;\n",
       "    }\n",
       "</style>\n",
       "<table border=\"1\" class=\"dataframe\">\n",
       "  <thead>\n",
       "    <tr style=\"text-align: right;\">\n",
       "      <th></th>\n",
       "      <th>time_30</th>\n",
       "      <th>time_60</th>\n",
       "      <th>time_90</th>\n",
       "      <th>time_120</th>\n",
       "      <th>time_150</th>\n",
       "      <th>time_180</th>\n",
       "      <th>time_210</th>\n",
       "      <th>time_240</th>\n",
       "      <th>time_270</th>\n",
       "      <th>time_300</th>\n",
       "      <th>...</th>\n",
       "      <th>time_1530</th>\n",
       "      <th>time_1560</th>\n",
       "      <th>time_1590</th>\n",
       "      <th>time_1620</th>\n",
       "      <th>time_1650</th>\n",
       "      <th>time_1680</th>\n",
       "      <th>time_1710</th>\n",
       "      <th>time_1740</th>\n",
       "      <th>time_1770</th>\n",
       "      <th>time_1800</th>\n",
       "    </tr>\n",
       "  </thead>\n",
       "  <tbody>\n",
       "    <tr>\n",
       "      <th>mice_0</th>\n",
       "      <td>0.888610</td>\n",
       "      <td>0.903288</td>\n",
       "      <td>0.884143</td>\n",
       "      <td>0.869969</td>\n",
       "      <td>0.864156</td>\n",
       "      <td>0.855605</td>\n",
       "      <td>0.849778</td>\n",
       "      <td>0.844226</td>\n",
       "      <td>0.839047</td>\n",
       "      <td>0.831123</td>\n",
       "      <td>...</td>\n",
       "      <td>0.750106</td>\n",
       "      <td>0.749444</td>\n",
       "      <td>0.747275</td>\n",
       "      <td>0.745356</td>\n",
       "      <td>0.746439</td>\n",
       "      <td>0.744329</td>\n",
       "      <td>0.745306</td>\n",
       "      <td>0.748618</td>\n",
       "      <td>0.746243</td>\n",
       "      <td>0.746946</td>\n",
       "    </tr>\n",
       "    <tr>\n",
       "      <th>mice_1</th>\n",
       "      <td>0.880479</td>\n",
       "      <td>0.900101</td>\n",
       "      <td>0.882442</td>\n",
       "      <td>0.867095</td>\n",
       "      <td>0.861430</td>\n",
       "      <td>0.852466</td>\n",
       "      <td>0.845465</td>\n",
       "      <td>0.839978</td>\n",
       "      <td>0.834610</td>\n",
       "      <td>0.827169</td>\n",
       "      <td>...</td>\n",
       "      <td>0.747287</td>\n",
       "      <td>0.746900</td>\n",
       "      <td>0.745429</td>\n",
       "      <td>0.742912</td>\n",
       "      <td>0.744363</td>\n",
       "      <td>0.742582</td>\n",
       "      <td>0.744016</td>\n",
       "      <td>0.746965</td>\n",
       "      <td>0.744604</td>\n",
       "      <td>0.745888</td>\n",
       "    </tr>\n",
       "    <tr>\n",
       "      <th>mice_2</th>\n",
       "      <td>0.886631</td>\n",
       "      <td>0.903260</td>\n",
       "      <td>0.884247</td>\n",
       "      <td>0.868483</td>\n",
       "      <td>0.862370</td>\n",
       "      <td>0.853971</td>\n",
       "      <td>0.848447</td>\n",
       "      <td>0.842964</td>\n",
       "      <td>0.838200</td>\n",
       "      <td>0.830562</td>\n",
       "      <td>...</td>\n",
       "      <td>0.747902</td>\n",
       "      <td>0.747874</td>\n",
       "      <td>0.745646</td>\n",
       "      <td>0.742923</td>\n",
       "      <td>0.744334</td>\n",
       "      <td>0.742909</td>\n",
       "      <td>0.744376</td>\n",
       "      <td>0.747515</td>\n",
       "      <td>0.745148</td>\n",
       "      <td>0.747075</td>\n",
       "    </tr>\n",
       "    <tr>\n",
       "      <th>mice_3</th>\n",
       "      <td>0.879703</td>\n",
       "      <td>0.901007</td>\n",
       "      <td>0.880850</td>\n",
       "      <td>0.865499</td>\n",
       "      <td>0.859965</td>\n",
       "      <td>0.851633</td>\n",
       "      <td>0.845671</td>\n",
       "      <td>0.840144</td>\n",
       "      <td>0.834420</td>\n",
       "      <td>0.827436</td>\n",
       "      <td>...</td>\n",
       "      <td>0.750114</td>\n",
       "      <td>0.750168</td>\n",
       "      <td>0.748035</td>\n",
       "      <td>0.745512</td>\n",
       "      <td>0.747532</td>\n",
       "      <td>0.746046</td>\n",
       "      <td>0.747755</td>\n",
       "      <td>0.750728</td>\n",
       "      <td>0.748913</td>\n",
       "      <td>0.749524</td>\n",
       "    </tr>\n",
       "    <tr>\n",
       "      <th>mice_4</th>\n",
       "      <td>0.883876</td>\n",
       "      <td>0.899395</td>\n",
       "      <td>0.880358</td>\n",
       "      <td>0.864756</td>\n",
       "      <td>0.857891</td>\n",
       "      <td>0.849996</td>\n",
       "      <td>0.843763</td>\n",
       "      <td>0.837739</td>\n",
       "      <td>0.832711</td>\n",
       "      <td>0.824100</td>\n",
       "      <td>...</td>\n",
       "      <td>0.744723</td>\n",
       "      <td>0.744724</td>\n",
       "      <td>0.742109</td>\n",
       "      <td>0.738983</td>\n",
       "      <td>0.741044</td>\n",
       "      <td>0.738381</td>\n",
       "      <td>0.738855</td>\n",
       "      <td>0.742448</td>\n",
       "      <td>0.740151</td>\n",
       "      <td>0.741271</td>\n",
       "    </tr>\n",
       "  </tbody>\n",
       "</table>\n",
       "<p>5 rows × 60 columns</p>\n",
       "</div>"
      ],
      "text/plain": [
       "         time_30   time_60   time_90  time_120  time_150  time_180  time_210  \\\n",
       "mice_0  0.888610  0.903288  0.884143  0.869969  0.864156  0.855605  0.849778   \n",
       "mice_1  0.880479  0.900101  0.882442  0.867095  0.861430  0.852466  0.845465   \n",
       "mice_2  0.886631  0.903260  0.884247  0.868483  0.862370  0.853971  0.848447   \n",
       "mice_3  0.879703  0.901007  0.880850  0.865499  0.859965  0.851633  0.845671   \n",
       "mice_4  0.883876  0.899395  0.880358  0.864756  0.857891  0.849996  0.843763   \n",
       "\n",
       "        time_240  time_270  time_300  ...  time_1530  time_1560  time_1590  \\\n",
       "mice_0  0.844226  0.839047  0.831123  ...   0.750106   0.749444   0.747275   \n",
       "mice_1  0.839978  0.834610  0.827169  ...   0.747287   0.746900   0.745429   \n",
       "mice_2  0.842964  0.838200  0.830562  ...   0.747902   0.747874   0.745646   \n",
       "mice_3  0.840144  0.834420  0.827436  ...   0.750114   0.750168   0.748035   \n",
       "mice_4  0.837739  0.832711  0.824100  ...   0.744723   0.744724   0.742109   \n",
       "\n",
       "        time_1620  time_1650  time_1680  time_1710  time_1740  time_1770  \\\n",
       "mice_0   0.745356   0.746439   0.744329   0.745306   0.748618   0.746243   \n",
       "mice_1   0.742912   0.744363   0.742582   0.744016   0.746965   0.744604   \n",
       "mice_2   0.742923   0.744334   0.742909   0.744376   0.747515   0.745148   \n",
       "mice_3   0.745512   0.747532   0.746046   0.747755   0.750728   0.748913   \n",
       "mice_4   0.738983   0.741044   0.738381   0.738855   0.742448   0.740151   \n",
       "\n",
       "        time_1800  \n",
       "mice_0   0.746946  \n",
       "mice_1   0.745888  \n",
       "mice_2   0.747075  \n",
       "mice_3   0.749524  \n",
       "mice_4   0.741271  \n",
       "\n",
       "[5 rows x 60 columns]"
      ]
     },
     "execution_count": 317,
     "metadata": {},
     "output_type": "execute_result"
    }
   ],
   "source": [
    "mice_auc_over5 "
   ]
  },
  {
   "cell_type": "code",
   "execution_count": 296,
   "id": "e10fd8f2",
   "metadata": {},
   "outputs": [],
   "source": [
    "mice_auc_over5.to_csv('mice_auc_over5.csv', index = True, header = True)"
   ]
  },
  {
   "cell_type": "code",
   "execution_count": 297,
   "id": "3919d190",
   "metadata": {},
   "outputs": [],
   "source": [
    "# Variables passing through pipeline_rsf\n",
    "cat_encoder = list(preprocessor_red.transformers_[1][1].get_feature_names(categorical_features))\n",
    "pass_through = list(train_mice4_x.iloc[:, preprocessor_red.transformers_[2][2]].columns)\n",
    "attributes_gbm = numerical_features_red + cat_encoder + pass_through"
   ]
  },
  {
   "cell_type": "code",
   "execution_count": 298,
   "id": "dbf705bc",
   "metadata": {},
   "outputs": [
    {
     "name": "stdout",
     "output_type": "stream",
     "text": [
      "Total number of features: 194\n",
      "Number of non-zero features in final model: 184\n"
     ]
    },
    {
     "data": {
      "image/png": "[encoded data removed]",
      "text/plain": [
       "<Figure size 432x576 with 1 Axes>"
      ]
     },
     "metadata": {
      "needs_background": "light"
     },
     "output_type": "display_data"
    }
   ],
   "source": [
    "# Dataframe of coefficients for each variable \n",
    "coefficients_mice4 = pd.DataFrame(\n",
    "    gbm_mice4.named_steps['gradientboostingsurvivalanalysis'].feature_importances_,\n",
    "    index = attributes_gbm,\n",
    "    columns = ['coefficient']\n",
    ")\n",
    "\n",
    "print('Total number of features: {}'.format(len(attributes_gbm)))\n",
    "\n",
    "non_zero = np.sum(coefficients_mice4.iloc[:, 0] != 0)\n",
    "print('Number of non-zero features in final model: {}'.format(non_zero))\n",
    "\n",
    "non_zero_coefs = coefficients_mice4.query('coefficient != 0')\n",
    "coef_order = non_zero_coefs.abs().sort_values('coefficient').tail(30).index\n",
    "\n",
    "_, ax = plt.subplots(figsize=(6, 8))\n",
    "non_zero_coefs.loc[coef_order].plot.barh(ax = ax, legend = False)\n",
    "ax.set_xlabel('coefficient')\n",
    "ax.grid(True)"
   ]
  },
  {
   "cell_type": "code",
   "execution_count": 299,
   "id": "81b64798",
   "metadata": {},
   "outputs": [],
   "source": [
    "coefficients_mice4_df = (\n",
    "    coefficients_mice4\n",
    "    .reset_index()\n",
    "    .rename(columns = {'index':'variable'}))"
   ]
  },
  {
   "cell_type": "code",
   "execution_count": 300,
   "id": "f01aaa9a",
   "metadata": {},
   "outputs": [],
   "source": [
    "coefficients_mice = coefficients_mice.append(coefficients_mice4_df, ignore_index = True)"
   ]
  },
  {
   "cell_type": "code",
   "execution_count": 301,
   "id": "763aac86",
   "metadata": {},
   "outputs": [],
   "source": [
    "coefficients_mice.to_csv('coefficients_mice.csv', index = False, header = True)"
   ]
  },
  {
   "cell_type": "markdown",
   "id": "a9bddf83",
   "metadata": {},
   "source": [
    "### Part 4. Pooling results"
   ]
  },
  {
   "cell_type": "code",
   "execution_count": 302,
   "id": "d83ecae1",
   "metadata": {},
   "outputs": [],
   "source": [
    "from math import sqrt, exp \n",
    "from scipy.stats import t"
   ]
  },
  {
   "cell_type": "markdown",
   "id": "f074b875",
   "metadata": {},
   "source": [
    "**Test and training AUCs will be pooled using Rubin’s rules. This is complicated by the fact that AUCs are bounded and thus not normally distributed. The AUCs will therefore be logit transformed to an unbounded scale, then Rubin's rules will be applied to these values, and finally they will be back-transformed into a final pool estimate.** "
   ]
  },
  {
   "cell_type": "code",
   "execution_count": 303,
   "id": "ac9fefbc",
   "metadata": {},
   "outputs": [],
   "source": [
    "# This function is translated from the R package: \"psfmi: Prediction Model Selection and Performance Evaluation in\n",
    "# Multiple Imputed Datasets\"\n",
    "\n",
    "def pool_auc(auc_arr, se_arr, iterations_n):\n",
    "    \n",
    "    # pooled SE using Rubin's rules \n",
    "    def rr_se(est, se, iterations_n):\n",
    "        m = iterations_n\n",
    "        w_auc = np.mean(np.square(se)) # within variance \n",
    "        b_auc = np.var(est) # between variance \n",
    "        tv_auc = w_auc + (1 + (1/m)) * b_auc # total vairance \n",
    "        se_total = sqrt(tv_auc)\n",
    "        r = (1 + (1/ m)) * (b_auc / w_auc)\n",
    "        v = (m - 1) * (1 + (1/r))**2\n",
    "        w = t.ppf(0.975, v) # Percent point function or inverse CDF with df = v\n",
    "        res = np.array([se_total, w])\n",
    "        return(res)\n",
    "    \n",
    "    # log transform\n",
    "    auc_log = np.log(auc_arr / (1-auc_arr))\n",
    "    se_log = se_arr / (auc_arr * (1-auc_arr))\n",
    "    \n",
    "    # input log transfomred auc and se to calculat RR's total se\n",
    "    se_total = rr_se(auc_log, se_log, iterations_n = iterations_n)\n",
    "    \n",
    "    # backtransform \n",
    "    inv_auc = exp(np.mean(auc_log)) / (1 + exp(np.mean(auc_log)))\n",
    "    inv_auc_upper = exp(np.mean(auc_log) + (se_total[1]*se_total[0])) / (1 + exp(np.mean(auc_log) + (se_total[1]*se_total[0])))\n",
    "    inv_auc_lower = exp(np.mean(auc_log) - (se_total[1]*se_total[0])) / (1 + exp(np.mean(auc_log) - (se_total[1]*se_total[0])))\n",
    "    sem = (inv_auc_upper - inv_auc_lower) / 3.92\n",
    "    auc_res = np.round(np.array([inv_auc_lower, inv_auc, inv_auc_upper, sem]), 6)\n",
    "    return(auc_res)"
   ]
  },
  {
   "cell_type": "code",
   "execution_count": 304,
   "id": "ca586790",
   "metadata": {},
   "outputs": [],
   "source": [
    "mice_auc_df = pd.read_csv('mice_auc_df.csv', dtype = {'auc_2yr_te': np.float64,\n",
    "                                                      'sem_te': np.float64,\n",
    "                                                      'auc_2yr_tr': np.float64,\n",
    "                                                      'sem_tr': np.float64})"
   ]
  },
  {
   "cell_type": "code",
   "execution_count": 305,
   "id": "9e759b29",
   "metadata": {},
   "outputs": [
    {
     "data": {
      "text/html": [
       "<div>\n",
       "<style scoped>\n",
       "    .dataframe tbody tr th:only-of-type {\n",
       "        vertical-align: middle;\n",
       "    }\n",
       "\n",
       "    .dataframe tbody tr th {\n",
       "        vertical-align: top;\n",
       "    }\n",
       "\n",
       "    .dataframe thead th {\n",
       "        text-align: right;\n",
       "    }\n",
       "</style>\n",
       "<table border=\"1\" class=\"dataframe\">\n",
       "  <thead>\n",
       "    <tr style=\"text-align: right;\">\n",
       "      <th></th>\n",
       "      <th>mice_dataset</th>\n",
       "      <th>auc_2yr_te</th>\n",
       "      <th>sem_te</th>\n",
       "      <th>auc_2yr_tr</th>\n",
       "      <th>sem_tr</th>\n",
       "    </tr>\n",
       "  </thead>\n",
       "  <tbody>\n",
       "    <tr>\n",
       "      <th>0</th>\n",
       "      <td>mice_0</td>\n",
       "      <td>0.782498</td>\n",
       "      <td>0.002785</td>\n",
       "      <td>0.851491</td>\n",
       "      <td>0.002569</td>\n",
       "    </tr>\n",
       "    <tr>\n",
       "      <th>1</th>\n",
       "      <td>mice_1</td>\n",
       "      <td>0.779570</td>\n",
       "      <td>0.002797</td>\n",
       "      <td>0.831095</td>\n",
       "      <td>0.002770</td>\n",
       "    </tr>\n",
       "    <tr>\n",
       "      <th>2</th>\n",
       "      <td>mice_2</td>\n",
       "      <td>0.779861</td>\n",
       "      <td>0.002819</td>\n",
       "      <td>0.835608</td>\n",
       "      <td>0.002734</td>\n",
       "    </tr>\n",
       "    <tr>\n",
       "      <th>3</th>\n",
       "      <td>mice_3</td>\n",
       "      <td>0.779277</td>\n",
       "      <td>0.002813</td>\n",
       "      <td>0.831498</td>\n",
       "      <td>0.002787</td>\n",
       "    </tr>\n",
       "    <tr>\n",
       "      <th>4</th>\n",
       "      <td>mice_4</td>\n",
       "      <td>0.775421</td>\n",
       "      <td>0.002863</td>\n",
       "      <td>0.801985</td>\n",
       "      <td>0.003050</td>\n",
       "    </tr>\n",
       "  </tbody>\n",
       "</table>\n",
       "</div>"
      ],
      "text/plain": [
       "  mice_dataset  auc_2yr_te    sem_te  auc_2yr_tr    sem_tr\n",
       "0       mice_0    0.782498  0.002785    0.851491  0.002569\n",
       "1       mice_1    0.779570  0.002797    0.831095  0.002770\n",
       "2       mice_2    0.779861  0.002819    0.835608  0.002734\n",
       "3       mice_3    0.779277  0.002813    0.831498  0.002787\n",
       "4       mice_4    0.775421  0.002863    0.801985  0.003050"
      ]
     },
     "execution_count": 327,
     "metadata": {},
     "output_type": "execute_result"
    }
   ],
   "source": [
    "mice_auc_df"
   ]
  },
  {
   "cell_type": "code",
   "execution_count": 306,
   "id": "07b8acda",
   "metadata": {},
   "outputs": [
    {
     "name": "stdout",
     "output_type": "stream",
     "text": [
      "[0.771436 0.779334 0.787034 0.003979]\n"
     ]
    }
   ],
   "source": [
    "pool_auc_test = pool_auc(mice_auc_df['auc_2yr_te'].values, \n",
    "                         mice_auc_df['sem_te'].values, \n",
    "                         5)\n",
    "\n",
    "print(pool_auc_test)"
   ]
  },
  {
   "cell_type": "code",
   "execution_count": 307,
   "id": "4c687208",
   "metadata": {},
   "outputs": [
    {
     "name": "stdout",
     "output_type": "stream",
     "text": [
      "[0.778139 0.830916 0.873185 0.024247]\n"
     ]
    }
   ],
   "source": [
    "pool_auc_train = pool_auc(mice_auc_df['auc_2yr_tr'].values,\n",
    "                          mice_auc_df['sem_tr'].values,\n",
    "                          5)\n",
    "\n",
    "print(pool_auc_train)"
   ]
  },
  {
   "cell_type": "code",
   "execution_count": 308,
   "id": "773b1224",
   "metadata": {},
   "outputs": [],
   "source": [
    "crude_auc_df = pd.read_csv('crude_auc_df.csv', dtype = {'auc_2yr_te': np.float64,\n",
    "                                                        'sem_te': np.float64,\n",
    "                                                        'auc_2yr_tr': np.float64,\n",
    "                                                        'sem_tr': np.float64})"
   ]
  },
  {
   "cell_type": "code",
   "execution_count": 309,
   "id": "d345782a",
   "metadata": {},
   "outputs": [
    {
     "data": {
      "text/html": [
       "<div>\n",
       "<style scoped>\n",
       "    .dataframe tbody tr th:only-of-type {\n",
       "        vertical-align: middle;\n",
       "    }\n",
       "\n",
       "    .dataframe tbody tr th {\n",
       "        vertical-align: top;\n",
       "    }\n",
       "\n",
       "    .dataframe thead th {\n",
       "        text-align: right;\n",
       "    }\n",
       "</style>\n",
       "<table border=\"1\" class=\"dataframe\">\n",
       "  <thead>\n",
       "    <tr style=\"text-align: right;\">\n",
       "      <th></th>\n",
       "      <th>model</th>\n",
       "      <th>auc_2yr_te</th>\n",
       "      <th>sem_te</th>\n",
       "      <th>auc_2yr_tr</th>\n",
       "      <th>sem_tr</th>\n",
       "    </tr>\n",
       "  </thead>\n",
       "  <tbody>\n",
       "    <tr>\n",
       "      <th>0</th>\n",
       "      <td>gbm_crude</td>\n",
       "      <td>0.768810</td>\n",
       "      <td>0.006324</td>\n",
       "      <td>0.820262</td>\n",
       "      <td>0.002853</td>\n",
       "    </tr>\n",
       "    <tr>\n",
       "      <th>1</th>\n",
       "      <td>rsf_crude</td>\n",
       "      <td>0.745188</td>\n",
       "      <td>0.006629</td>\n",
       "      <td>0.888791</td>\n",
       "      <td>0.002143</td>\n",
       "    </tr>\n",
       "    <tr>\n",
       "      <th>2</th>\n",
       "      <td>ridge_crude</td>\n",
       "      <td>0.739879</td>\n",
       "      <td>0.006750</td>\n",
       "      <td>0.736821</td>\n",
       "      <td>0.003434</td>\n",
       "    </tr>\n",
       "    <tr>\n",
       "      <th>3</th>\n",
       "      <td>lasso_crude</td>\n",
       "      <td>0.721280</td>\n",
       "      <td>0.006921</td>\n",
       "      <td>0.713022</td>\n",
       "      <td>0.003523</td>\n",
       "    </tr>\n",
       "    <tr>\n",
       "      <th>4</th>\n",
       "      <td>enet_crude</td>\n",
       "      <td>0.721099</td>\n",
       "      <td>0.006912</td>\n",
       "      <td>0.712810</td>\n",
       "      <td>0.003518</td>\n",
       "    </tr>\n",
       "    <tr>\n",
       "      <th>5</th>\n",
       "      <td>linear_svm_crude</td>\n",
       "      <td>0.741701</td>\n",
       "      <td>0.006768</td>\n",
       "      <td>0.741503</td>\n",
       "      <td>0.003424</td>\n",
       "    </tr>\n",
       "  </tbody>\n",
       "</table>\n",
       "</div>"
      ],
      "text/plain": [
       "              model  auc_2yr_te    sem_te  auc_2yr_tr    sem_tr\n",
       "0         gbm_crude    0.768810  0.006324    0.820262  0.002853\n",
       "1         rsf_crude    0.745188  0.006629    0.888791  0.002143\n",
       "2       ridge_crude    0.739879  0.006750    0.736821  0.003434\n",
       "3       lasso_crude    0.721280  0.006921    0.713022  0.003523\n",
       "4        enet_crude    0.721099  0.006912    0.712810  0.003518\n",
       "5  linear_svm_crude    0.741701  0.006768    0.741503  0.003424"
      ]
     },
     "execution_count": 331,
     "metadata": {},
     "output_type": "execute_result"
    }
   ],
   "source": [
    "crude_auc_df"
   ]
  },
  {
   "cell_type": "code",
   "execution_count": 310,
   "id": "12159026",
   "metadata": {},
   "outputs": [],
   "source": [
    "mice_auc_data = {'model': 'gbm_mice',\n",
    "                 'auc_2yr_te': pool_auc_test[1],\n",
    "                 'sem_te': pool_auc_test[3],\n",
    "                 'auc_2yr_tr': pool_auc_train[1],\n",
    "                 'sem_tr': pool_auc_train[3]}"
   ]
  },
  {
   "cell_type": "code",
   "execution_count": 311,
   "id": "d7bb1d7a",
   "metadata": {},
   "outputs": [],
   "source": [
    "ml_auc_df = crude_auc_df.append(mice_auc_data, ignore_index = True)"
   ]
  },
  {
   "cell_type": "code",
   "execution_count": 312,
   "id": "4d6c6140",
   "metadata": {},
   "outputs": [
    {
     "data": {
      "text/html": [
       "<div>\n",
       "<style scoped>\n",
       "    .dataframe tbody tr th:only-of-type {\n",
       "        vertical-align: middle;\n",
       "    }\n",
       "\n",
       "    .dataframe tbody tr th {\n",
       "        vertical-align: top;\n",
       "    }\n",
       "\n",
       "    .dataframe thead th {\n",
       "        text-align: right;\n",
       "    }\n",
       "</style>\n",
       "<table border=\"1\" class=\"dataframe\">\n",
       "  <thead>\n",
       "    <tr style=\"text-align: right;\">\n",
       "      <th></th>\n",
       "      <th>model</th>\n",
       "      <th>auc_2yr_te</th>\n",
       "      <th>sem_te</th>\n",
       "      <th>auc_2yr_tr</th>\n",
       "      <th>sem_tr</th>\n",
       "    </tr>\n",
       "  </thead>\n",
       "  <tbody>\n",
       "    <tr>\n",
       "      <th>6</th>\n",
       "      <td>gbm_mice</td>\n",
       "      <td>0.779334</td>\n",
       "      <td>0.003979</td>\n",
       "      <td>0.830916</td>\n",
       "      <td>0.024247</td>\n",
       "    </tr>\n",
       "    <tr>\n",
       "      <th>0</th>\n",
       "      <td>gbm_crude</td>\n",
       "      <td>0.768810</td>\n",
       "      <td>0.006324</td>\n",
       "      <td>0.820262</td>\n",
       "      <td>0.002853</td>\n",
       "    </tr>\n",
       "    <tr>\n",
       "      <th>1</th>\n",
       "      <td>rsf_crude</td>\n",
       "      <td>0.745188</td>\n",
       "      <td>0.006629</td>\n",
       "      <td>0.888791</td>\n",
       "      <td>0.002143</td>\n",
       "    </tr>\n",
       "    <tr>\n",
       "      <th>5</th>\n",
       "      <td>linear_svm_crude</td>\n",
       "      <td>0.741701</td>\n",
       "      <td>0.006768</td>\n",
       "      <td>0.741503</td>\n",
       "      <td>0.003424</td>\n",
       "    </tr>\n",
       "    <tr>\n",
       "      <th>2</th>\n",
       "      <td>ridge_crude</td>\n",
       "      <td>0.739879</td>\n",
       "      <td>0.006750</td>\n",
       "      <td>0.736821</td>\n",
       "      <td>0.003434</td>\n",
       "    </tr>\n",
       "    <tr>\n",
       "      <th>3</th>\n",
       "      <td>lasso_crude</td>\n",
       "      <td>0.721280</td>\n",
       "      <td>0.006921</td>\n",
       "      <td>0.713022</td>\n",
       "      <td>0.003523</td>\n",
       "    </tr>\n",
       "    <tr>\n",
       "      <th>4</th>\n",
       "      <td>enet_crude</td>\n",
       "      <td>0.721099</td>\n",
       "      <td>0.006912</td>\n",
       "      <td>0.712810</td>\n",
       "      <td>0.003518</td>\n",
       "    </tr>\n",
       "  </tbody>\n",
       "</table>\n",
       "</div>"
      ],
      "text/plain": [
       "              model  auc_2yr_te    sem_te  auc_2yr_tr    sem_tr\n",
       "6          gbm_mice    0.779334  0.003979    0.830916  0.024247\n",
       "0         gbm_crude    0.768810  0.006324    0.820262  0.002853\n",
       "1         rsf_crude    0.745188  0.006629    0.888791  0.002143\n",
       "5  linear_svm_crude    0.741701  0.006768    0.741503  0.003424\n",
       "2       ridge_crude    0.739879  0.006750    0.736821  0.003434\n",
       "3       lasso_crude    0.721280  0.006921    0.713022  0.003523\n",
       "4        enet_crude    0.721099  0.006912    0.712810  0.003518"
      ]
     },
     "execution_count": 334,
     "metadata": {},
     "output_type": "execute_result"
    }
   ],
   "source": [
    "ml_auc_df.sort_values(by = 'auc_2yr_te', ascending = False)"
   ]
  },
  {
   "cell_type": "code",
   "execution_count": 313,
   "id": "3bcaa9f9",
   "metadata": {},
   "outputs": [],
   "source": [
    "ml_auc_df.to_csv('ml_auc_df.csv', index = False, header = True)"
   ]
  }
 ],
 "metadata": {
  "kernelspec": {
   "display_name": "Python 3 (ipykernel)",
   "language": "python",
   "name": "python3"
  },
  "language_info": {
   "codemirror_mode": {
    "name": "ipython",
    "version": 3
   },
   "file_extension": ".py",
   "mimetype": "text/x-python",
   "name": "python",
   "nbconvert_exporter": "python",
   "pygments_lexer": "ipython3",
   "version": "3.7.10"
  }
 },
 "nbformat": 4,
 "nbformat_minor": 5
}
