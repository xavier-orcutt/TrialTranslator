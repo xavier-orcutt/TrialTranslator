{
 "cells": [
  {
   "cell_type": "markdown",
   "id": "0307461a",
   "metadata": {},
   "source": [
    "# Flatiron Health mCRC: Strict trials with GBM crude \n",
    "\n",
    "***OBJECTIVE:*** **Inclusion criteria for trials in other notebooks were relaxed to allow for as many patients to be included as reasonably possible. In this notebook, inclusion criteria for the trials will be followed as closely as possible. Patients included in our trials will next be risk stratified using the gradient boosted model with crude imputation into 1 of 3 risk groups: high (top tertile), medium (middle tertile), and low (bottom tertile). Inverse-probability treatment weighted survival analysis will then be performed across these risk groups to get real-world estimates of survival while adjusting for measured confounders.** \n",
    "** \n",
    "\n",
    "***OUTLINE:***\n",
    "1. **Identify patients with exclusion criteria:**\n",
    "* Relevant comorbidities in the year preceding metastatic diagnosis \n",
    "* CNS metastasis at time of treatment  \n",
    "* ECOG 3 or 4 at time of treatment\n",
    "* Organ dysfunction at time of treatment   \n",
    "\n",
    "2. **In silico trial:**\n",
    "* FIRE-3 "
   ]
  },
  {
   "cell_type": "markdown",
   "id": "866df8de",
   "metadata": {},
   "source": [
    "## Part 1: Identify patients with exclusion criteria"
   ]
  },
  {
   "cell_type": "code",
   "execution_count": 1,
   "id": "58b9d8e7",
   "metadata": {},
   "outputs": [],
   "source": [
    "import numpy as np\n",
    "import pandas as pd"
   ]
  },
  {
   "cell_type": "code",
   "execution_count": 2,
   "id": "393a1f79",
   "metadata": {},
   "outputs": [],
   "source": [
    "# Function that returns number of rows and count of unique PatientIDs for a dataframe. \n",
    "def row_ID(dataframe):\n",
    "    row = dataframe.shape[0]\n",
    "    ID = dataframe['PatientID'].nunique()\n",
    "    return row, ID"
   ]
  },
  {
   "cell_type": "code",
   "execution_count": 3,
   "id": "cff21eff",
   "metadata": {},
   "outputs": [
    {
     "data": {
      "text/plain": [
       "(27452, 27452)"
      ]
     },
     "execution_count": 3,
     "metadata": {},
     "output_type": "execute_result"
    }
   ],
   "source": [
    "train = pd.read_csv('train_full.csv')\n",
    "row_ID(train)"
   ]
  },
  {
   "cell_type": "code",
   "execution_count": 4,
   "id": "2b2d6b30",
   "metadata": {},
   "outputs": [
    {
     "data": {
      "text/plain": [
       "(6863, 6863)"
      ]
     },
     "execution_count": 4,
     "metadata": {},
     "output_type": "execute_result"
    }
   ],
   "source": [
    "test = pd.read_csv('test_full.csv')\n",
    "row_ID(test)"
   ]
  },
  {
   "cell_type": "code",
   "execution_count": 5,
   "id": "0f5acb12",
   "metadata": {},
   "outputs": [
    {
     "data": {
      "text/plain": [
       "(34315, 34315)"
      ]
     },
     "execution_count": 5,
     "metadata": {},
     "output_type": "execute_result"
    }
   ],
   "source": [
    "df = pd.concat([train, test], ignore_index = True)\n",
    "row_ID(df)"
   ]
  },
  {
   "cell_type": "markdown",
   "id": "3843384c",
   "metadata": {},
   "source": [
    "### 1. Relevant comorbidities in the year preceding metastatic diagnosis \n",
    "* MI\n",
    "* Severe psychiatric history \n",
    "* Drug use disorder \n",
    "* Inflammatory bowel disease\n",
    "* Nephrotic syndrome \n",
    "* Uncontrolled hypertension\n",
    "* Coagulopathy \n",
    "* Arterial or venous thrombosis\n",
    "* Intracerebral hemmorrhage "
   ]
  },
  {
   "cell_type": "code",
   "execution_count": 6,
   "id": "235a1b3f",
   "metadata": {},
   "outputs": [],
   "source": [
    "diagnosis = pd.read_csv('Diagnosis.csv')"
   ]
  },
  {
   "cell_type": "code",
   "execution_count": 7,
   "id": "f871fa6a",
   "metadata": {},
   "outputs": [],
   "source": [
    "diagnosis = diagnosis[diagnosis['PatientID'].isin(df['PatientID'])]       "
   ]
  },
  {
   "cell_type": "code",
   "execution_count": 8,
   "id": "c96776e4",
   "metadata": {},
   "outputs": [],
   "source": [
    "diagnosis.loc[:, 'DiagnosisDate'] = pd.to_datetime(diagnosis['DiagnosisDate'])"
   ]
  },
  {
   "cell_type": "code",
   "execution_count": 9,
   "id": "028ed39f",
   "metadata": {},
   "outputs": [],
   "source": [
    "enhanced_met = pd.read_csv('Enhanced_MetastaticCRC.csv')"
   ]
  },
  {
   "cell_type": "code",
   "execution_count": 10,
   "id": "b9625962",
   "metadata": {},
   "outputs": [],
   "source": [
    "enhanced_met.loc[:, 'MetDiagnosisDate'] = pd.to_datetime(enhanced_met['MetDiagnosisDate'])"
   ]
  },
  {
   "cell_type": "code",
   "execution_count": 11,
   "id": "9c518c0e",
   "metadata": {},
   "outputs": [
    {
     "data": {
      "text/plain": [
       "(1088706, 34315)"
      ]
     },
     "execution_count": 11,
     "metadata": {},
     "output_type": "execute_result"
    }
   ],
   "source": [
    "row_ID(diagnosis)"
   ]
  },
  {
   "cell_type": "code",
   "execution_count": 12,
   "id": "b996eb3f",
   "metadata": {},
   "outputs": [],
   "source": [
    "diagnosis = pd.merge(diagnosis, enhanced_met[['PatientID', 'MetDiagnosisDate']], on = 'PatientID', how = 'left')"
   ]
  },
  {
   "cell_type": "code",
   "execution_count": 13,
   "id": "f877afd8",
   "metadata": {},
   "outputs": [
    {
     "data": {
      "text/plain": [
       "(1088706, 34315)"
      ]
     },
     "execution_count": 13,
     "metadata": {},
     "output_type": "execute_result"
    }
   ],
   "source": [
    "row_ID(diagnosis)"
   ]
  },
  {
   "cell_type": "code",
   "execution_count": 14,
   "id": "5a8696ee",
   "metadata": {},
   "outputs": [],
   "source": [
    "diagnosis.loc[:, 'date_diff'] = (diagnosis['DiagnosisDate'] - diagnosis['MetDiagnosisDate']).dt.days"
   ]
  },
  {
   "cell_type": "code",
   "execution_count": 15,
   "id": "b20a05ad",
   "metadata": {},
   "outputs": [],
   "source": [
    "diagnosis.loc[:, 'diagnosis_code'] = diagnosis['DiagnosisCode'].replace('\\.', '', regex = True)"
   ]
  },
  {
   "cell_type": "code",
   "execution_count": 16,
   "id": "e6860207",
   "metadata": {},
   "outputs": [],
   "source": [
    "# ICD-9 dataframe with unique codes for each patient. \n",
    "diagnosis_9 = (\n",
    "    diagnosis\n",
    "    .query('date_diff <= 0 and date_diff > -365')\n",
    "    .query('DiagnosisCodeSystem == \"ICD-9-CM\"')\n",
    "    .drop_duplicates(subset = (['PatientID', 'DiagnosisCode']), keep = 'first')\n",
    "    .filter(items = ['PatientID', 'DiagnosisCode', 'diagnosis_code'])\n",
    ")"
   ]
  },
  {
   "cell_type": "code",
   "execution_count": 17,
   "id": "6fcc3651",
   "metadata": {},
   "outputs": [],
   "source": [
    "comorb_9_IDs = (\n",
    "    diagnosis_9[diagnosis_9['diagnosis_code'].str.match('410|'\n",
    "                                                        '29[5789]|'\n",
    "                                                        '30[34]|'\n",
    "                                                        '55[56]|'\n",
    "                                                        '581|'\n",
    "                                                        '4010|'\n",
    "                                                        '286|'\n",
    "                                                        '444|'\n",
    "                                                        '4151|'\n",
    "                                                        '451[1289]|'\n",
    "                                                        '431')].PatientID.unique())"
   ]
  },
  {
   "cell_type": "code",
   "execution_count": 18,
   "id": "5fff3afb",
   "metadata": {},
   "outputs": [
    {
     "data": {
      "text/plain": [
       "190"
      ]
     },
     "execution_count": 18,
     "metadata": {},
     "output_type": "execute_result"
    }
   ],
   "source": [
    "len(comorb_9_IDs)"
   ]
  },
  {
   "cell_type": "code",
   "execution_count": 19,
   "id": "6afee21d",
   "metadata": {},
   "outputs": [],
   "source": [
    "# ICD-10 dataframe with unique codes for each patient. \n",
    "diagnosis_10 = (\n",
    "    diagnosis\n",
    "    .query('date_diff <= 0 and date_diff > -365')\n",
    "    .query('DiagnosisCodeSystem == \"ICD-10-CM\"')\n",
    "    .drop_duplicates(subset = (['PatientID', 'DiagnosisCode']), keep = 'first')\n",
    "    .filter(items = ['PatientID', 'DiagnosisCode', 'diagnosis_code'])\n",
    ")"
   ]
  },
  {
   "cell_type": "code",
   "execution_count": 20,
   "id": "72ab8549",
   "metadata": {},
   "outputs": [],
   "source": [
    "comorb_10_IDs = (\n",
    "    diagnosis_10[diagnosis_10['diagnosis_code'].str.match('I21|'\n",
    "                                                          'F2[0234589]|'\n",
    "                                                          'F1[0145]|'\n",
    "                                                          'K5[01]|'\n",
    "                                                          'N04|'\n",
    "                                                          'I16|'\n",
    "                                                          'D6[567]|'\n",
    "                                                          'I74|'\n",
    "                                                          'I82|'\n",
    "                                                          'I6[01]')].PatientID.unique())"
   ]
  },
  {
   "cell_type": "code",
   "execution_count": 21,
   "id": "5f7f6969",
   "metadata": {},
   "outputs": [
    {
     "data": {
      "text/plain": [
       "418"
      ]
     },
     "execution_count": 21,
     "metadata": {},
     "output_type": "execute_result"
    }
   ],
   "source": [
    "len(comorb_10_IDs)"
   ]
  },
  {
   "cell_type": "code",
   "execution_count": 22,
   "id": "4545f3fb",
   "metadata": {},
   "outputs": [],
   "source": [
    "comorb_IDs = np.unique(np.concatenate([comorb_9_IDs, comorb_10_IDs]))"
   ]
  },
  {
   "cell_type": "code",
   "execution_count": 23,
   "id": "ebe355e3",
   "metadata": {},
   "outputs": [
    {
     "data": {
      "text/plain": [
       "603"
      ]
     },
     "execution_count": 23,
     "metadata": {},
     "output_type": "execute_result"
    }
   ],
   "source": [
    "len(comorb_IDs)"
   ]
  },
  {
   "cell_type": "markdown",
   "id": "93e99f05",
   "metadata": {},
   "source": [
    "### 2. CNS metastasis at start of treatment "
   ]
  },
  {
   "cell_type": "code",
   "execution_count": 24,
   "id": "19e8a853",
   "metadata": {},
   "outputs": [],
   "source": [
    "line_therapy = pd.read_csv('LineOfTherapy.csv')"
   ]
  },
  {
   "cell_type": "code",
   "execution_count": 25,
   "id": "ec55d12c",
   "metadata": {},
   "outputs": [],
   "source": [
    "line_therapy = line_therapy[line_therapy['PatientID'].isin(df['PatientID'])]       "
   ]
  },
  {
   "cell_type": "code",
   "execution_count": 26,
   "id": "abb0c7b4",
   "metadata": {},
   "outputs": [],
   "source": [
    "line_therapy.loc[:, 'StartDate'] = pd.to_datetime(line_therapy['StartDate'])"
   ]
  },
  {
   "cell_type": "code",
   "execution_count": 27,
   "id": "7acf8503",
   "metadata": {},
   "outputs": [],
   "source": [
    "therapy_fl = line_therapy.query('LineNumber == 1').query('IsMaintenanceTherapy == False')[['PatientID', 'StartDate']]"
   ]
  },
  {
   "cell_type": "code",
   "execution_count": 28,
   "id": "7035d46a",
   "metadata": {},
   "outputs": [
    {
     "data": {
      "text/plain": [
       "(1088706, 34315)"
      ]
     },
     "execution_count": 28,
     "metadata": {},
     "output_type": "execute_result"
    }
   ],
   "source": [
    "row_ID(diagnosis)"
   ]
  },
  {
   "cell_type": "code",
   "execution_count": 29,
   "id": "a9c5cb16",
   "metadata": {},
   "outputs": [],
   "source": [
    "cns_fl = pd.merge(diagnosis, therapy_fl, on = 'PatientID', how = 'left')"
   ]
  },
  {
   "cell_type": "code",
   "execution_count": 30,
   "id": "ae80e92c",
   "metadata": {},
   "outputs": [
    {
     "data": {
      "text/plain": [
       "(1088706, 34315)"
      ]
     },
     "execution_count": 30,
     "metadata": {},
     "output_type": "execute_result"
    }
   ],
   "source": [
    "row_ID(diagnosis)"
   ]
  },
  {
   "cell_type": "code",
   "execution_count": 31,
   "id": "5290db0e",
   "metadata": {},
   "outputs": [],
   "source": [
    "cns_fl.loc[:, 'fl_date_diff'] = (cns_fl['DiagnosisDate'] - cns_fl['StartDate']).dt.days"
   ]
  },
  {
   "cell_type": "code",
   "execution_count": 32,
   "id": "fb3180b7",
   "metadata": {},
   "outputs": [],
   "source": [
    "# ICD-9 dataframe with unique codes for each patient. \n",
    "cns_fl_9 = (\n",
    "    cns_fl\n",
    "    .query('fl_date_diff <= 0 and fl_date_diff > -90')\n",
    "    .query('DiagnosisCodeSystem == \"ICD-9-CM\"')\n",
    "    .drop_duplicates(subset = (['PatientID', 'DiagnosisCode']), keep = 'first')\n",
    "    .filter(items = ['PatientID', 'DiagnosisCode', 'diagnosis_code'])\n",
    ")"
   ]
  },
  {
   "cell_type": "code",
   "execution_count": 33,
   "id": "d8e4abbf",
   "metadata": {},
   "outputs": [],
   "source": [
    "cns_fl_9_ids = (\n",
    "    cns_fl_9[cns_fl_9['diagnosis_code'].str.match('198[34]')].PatientID.unique()\n",
    ")"
   ]
  },
  {
   "cell_type": "code",
   "execution_count": 34,
   "id": "0141d5de",
   "metadata": {},
   "outputs": [
    {
     "data": {
      "text/plain": [
       "34"
      ]
     },
     "execution_count": 34,
     "metadata": {},
     "output_type": "execute_result"
    }
   ],
   "source": [
    "len(cns_fl_9_ids)"
   ]
  },
  {
   "cell_type": "code",
   "execution_count": 35,
   "id": "7cf3a81d",
   "metadata": {},
   "outputs": [],
   "source": [
    "# ICD-9 dataframe with unique codes for each patient. \n",
    "cns_fl_10 = (\n",
    "    cns_fl\n",
    "    .query('fl_date_diff <= 0 and fl_date_diff > -90')\n",
    "    .query('DiagnosisCodeSystem == \"ICD-10-CM\"')\n",
    "    .drop_duplicates(subset = (['PatientID', 'DiagnosisCode']), keep = 'first')\n",
    "    .filter(items = ['PatientID', 'DiagnosisCode', 'diagnosis_code'])\n",
    ")"
   ]
  },
  {
   "cell_type": "code",
   "execution_count": 36,
   "id": "967641bf",
   "metadata": {},
   "outputs": [],
   "source": [
    "cns_fl_10_ids = (\n",
    "    cns_fl_10[cns_fl_10['diagnosis_code'].str.match('C79[34]')].PatientID.unique()\n",
    ")"
   ]
  },
  {
   "cell_type": "code",
   "execution_count": 37,
   "id": "14e633f3",
   "metadata": {},
   "outputs": [
    {
     "data": {
      "text/plain": [
       "134"
      ]
     },
     "execution_count": 37,
     "metadata": {},
     "output_type": "execute_result"
    }
   ],
   "source": [
    "len(cns_fl_10_ids)"
   ]
  },
  {
   "cell_type": "code",
   "execution_count": 38,
   "id": "a4cec475",
   "metadata": {},
   "outputs": [],
   "source": [
    "cns_fl_IDs = np.unique(np.concatenate([cns_fl_9_ids, cns_fl_10_ids]))"
   ]
  },
  {
   "cell_type": "code",
   "execution_count": 39,
   "id": "8ede3963",
   "metadata": {},
   "outputs": [
    {
     "data": {
      "text/plain": [
       "165"
      ]
     },
     "execution_count": 39,
     "metadata": {},
     "output_type": "execute_result"
    }
   ],
   "source": [
    "len(cns_fl_IDs)"
   ]
  },
  {
   "cell_type": "markdown",
   "id": "dd29337e",
   "metadata": {},
   "source": [
    "### 3. ECOG 3 or 4 at start of treatment "
   ]
  },
  {
   "cell_type": "code",
   "execution_count": 40,
   "id": "422055aa",
   "metadata": {},
   "outputs": [],
   "source": [
    "base_ecog = pd.read_csv('BaselineECOG.csv')"
   ]
  },
  {
   "cell_type": "code",
   "execution_count": 41,
   "id": "2ce7e09d",
   "metadata": {},
   "outputs": [],
   "source": [
    "base_ecog = base_ecog[base_ecog['PatientID'].isin(df['PatientID'])]       "
   ]
  },
  {
   "cell_type": "code",
   "execution_count": 42,
   "id": "d24371e5",
   "metadata": {},
   "outputs": [],
   "source": [
    "ecog_fl_IDs = (\n",
    "    base_ecog\n",
    "    .query('LineNumber == 1')\n",
    "    .query('ECOGValue == \"3\" or ECOGValue == \"4\"')\n",
    "    .PatientID.unique())"
   ]
  },
  {
   "cell_type": "code",
   "execution_count": 43,
   "id": "ea703e47",
   "metadata": {},
   "outputs": [
    {
     "data": {
      "text/plain": [
       "599"
      ]
     },
     "execution_count": 43,
     "metadata": {},
     "output_type": "execute_result"
    }
   ],
   "source": [
    "len(ecog_fl_IDs)"
   ]
  },
  {
   "cell_type": "markdown",
   "id": "5c997a80",
   "metadata": {},
   "source": [
    "### 4. Abnormal organ function at start of treatment \n",
    "* Hemoglobin >9\n",
    "* Creatinine <2\n",
    "* Total bilirubin <3"
   ]
  },
  {
   "cell_type": "code",
   "execution_count": 44,
   "id": "734f0b7e",
   "metadata": {},
   "outputs": [],
   "source": [
    "lab = pd.read_csv('Lab.csv')"
   ]
  },
  {
   "cell_type": "code",
   "execution_count": 45,
   "id": "c40be211",
   "metadata": {},
   "outputs": [],
   "source": [
    "lab = lab[lab['PatientID'].isin(df['PatientID'])]"
   ]
  },
  {
   "cell_type": "code",
   "execution_count": 46,
   "id": "49178310",
   "metadata": {},
   "outputs": [],
   "source": [
    "lab.loc[:, 'ResultDate'] = pd.to_datetime(lab['ResultDate']) "
   ]
  },
  {
   "cell_type": "code",
   "execution_count": 47,
   "id": "032ea21e",
   "metadata": {},
   "outputs": [
    {
     "data": {
      "text/plain": [
       "(30620401, 33014)"
      ]
     },
     "execution_count": 47,
     "metadata": {},
     "output_type": "execute_result"
    }
   ],
   "source": [
    "row_ID(lab)"
   ]
  },
  {
   "cell_type": "code",
   "execution_count": 48,
   "id": "773edabb",
   "metadata": {},
   "outputs": [],
   "source": [
    "lab = pd.merge(lab, therapy_fl[['PatientID', 'StartDate']], on = 'PatientID', how = 'left')"
   ]
  },
  {
   "cell_type": "code",
   "execution_count": 49,
   "id": "df994e31",
   "metadata": {},
   "outputs": [
    {
     "data": {
      "text/plain": [
       "(31709973, 33014)"
      ]
     },
     "execution_count": 49,
     "metadata": {},
     "output_type": "execute_result"
    }
   ],
   "source": [
    "row_ID(lab)"
   ]
  },
  {
   "cell_type": "code",
   "execution_count": 50,
   "id": "09c20ca7",
   "metadata": {},
   "outputs": [],
   "source": [
    "# Select rows with clinically relevant labs.\n",
    "lab_core = (\n",
    "    lab[\n",
    "    (lab['LOINC'] == \"2160-0\") |\n",
    "    (lab['LOINC'] == \"38483-4\") | \n",
    "    (lab['LOINC'] == \"718-7\") |\n",
    "    (lab['LOINC'] == \"20509-6\") |\n",
    "    (lab['LOINC'] == \"42719-5\") |\n",
    "    (lab['LOINC'] == \"1975-2\")]\n",
    "    .filter(items = ['PatientID', \n",
    "                     'ResultDate', \n",
    "                     'LOINC', \n",
    "                     'LabComponent', \n",
    "                     'TestUnits', \n",
    "                     'TestUnitsCleaned', \n",
    "                     'TestResult', \n",
    "                     'TestResultCleaned', \n",
    "                     'StartDate'])\n",
    ")"
   ]
  },
  {
   "cell_type": "code",
   "execution_count": 51,
   "id": "f7ffd35a",
   "metadata": {},
   "outputs": [],
   "source": [
    "conditions = [\n",
    "    ((lab_core['LOINC'] == '2160-0') | (lab_core['LOINC'] == '38483-4')),\n",
    "    ((lab_core['LOINC'] == '718-7') | (lab_core['LOINC'] == '20509-6')),\n",
    "    ((lab_core['LOINC'] == '42719-5') | (lab_core['LOINC'] == '1975-2'))]\n",
    "\n",
    "choices = ['creatinine', \n",
    "           'hemoglobin', \n",
    "           'total_bilirubin']\n",
    "\n",
    "lab_core.loc[:, 'lab_name'] = np.select(conditions, choices)"
   ]
  },
  {
   "cell_type": "code",
   "execution_count": 52,
   "id": "91bc9f5e",
   "metadata": {},
   "outputs": [
    {
     "data": {
      "text/plain": [
       "(3022972, 32769)"
      ]
     },
     "execution_count": 52,
     "metadata": {},
     "output_type": "execute_result"
    }
   ],
   "source": [
    "row_ID(lab_core)"
   ]
  },
  {
   "cell_type": "code",
   "execution_count": 53,
   "id": "0cd080f2",
   "metadata": {},
   "outputs": [],
   "source": [
    "conditions = [\n",
    "    (lab_core['lab_name'] == 'hemoglobin') & (lab_core['TestUnits'] == 'g/uL')]\n",
    "\n",
    "choices = [lab_core['TestResultCleaned'] / 100000]\n",
    "\n",
    "lab_core.loc[:, 'test_result_cleaned'] = np.select(conditions, choices, default = lab_core['TestResultCleaned'])"
   ]
  },
  {
   "cell_type": "code",
   "execution_count": 54,
   "id": "c88bb947",
   "metadata": {},
   "outputs": [],
   "source": [
    "lab_f = (\n",
    "    lab_core\n",
    "    .assign(lab_date_diff = (lab_core['ResultDate'] - lab_core['StartDate']).dt.days)\n",
    "    .query('lab_date_diff <= 0 and lab_date_diff > -90')\n",
    "    .sort_values(by = ['PatientID', 'lab_name', 'lab_date_diff'], ascending = [True, True, False])\n",
    "    .drop_duplicates(subset = ['PatientID', 'lab_name'], keep = 'first' )\n",
    ")"
   ]
  },
  {
   "cell_type": "code",
   "execution_count": 55,
   "id": "a7c5c566",
   "metadata": {},
   "outputs": [],
   "source": [
    "# Select lab closest to date of advanced diagnosis and pivot to a wide table. \n",
    "lab_wide = (\n",
    "    lab_f\n",
    "    .pivot(index = 'PatientID', columns = 'lab_name', values = 'test_result_cleaned')\n",
    "    .reset_index())\n",
    "\n",
    "lab_wide.columns.name = None"
   ]
  },
  {
   "cell_type": "code",
   "execution_count": 56,
   "id": "8e29512c",
   "metadata": {},
   "outputs": [
    {
     "data": {
      "text/html": [
       "<div>\n",
       "<style scoped>\n",
       "    .dataframe tbody tr th:only-of-type {\n",
       "        vertical-align: middle;\n",
       "    }\n",
       "\n",
       "    .dataframe tbody tr th {\n",
       "        vertical-align: top;\n",
       "    }\n",
       "\n",
       "    .dataframe thead th {\n",
       "        text-align: right;\n",
       "    }\n",
       "</style>\n",
       "<table border=\"1\" class=\"dataframe\">\n",
       "  <thead>\n",
       "    <tr style=\"text-align: right;\">\n",
       "      <th></th>\n",
       "      <th>PatientID</th>\n",
       "      <th>creatinine</th>\n",
       "      <th>hemoglobin</th>\n",
       "      <th>total_bilirubin</th>\n",
       "    </tr>\n",
       "  </thead>\n",
       "  <tbody>\n",
       "    <tr>\n",
       "      <th>17736</th>\n",
       "      <td>FBA3ECDDC1508</td>\n",
       "      <td>0.70</td>\n",
       "      <td>12.8</td>\n",
       "      <td>1.0</td>\n",
       "    </tr>\n",
       "    <tr>\n",
       "      <th>24429</th>\n",
       "      <td>FFF209DE05B00</td>\n",
       "      <td>1.44</td>\n",
       "      <td>12.4</td>\n",
       "      <td>0.3</td>\n",
       "    </tr>\n",
       "    <tr>\n",
       "      <th>23706</th>\n",
       "      <td>FF7EB6C3692AC</td>\n",
       "      <td>1.85</td>\n",
       "      <td>13.0</td>\n",
       "      <td>0.5</td>\n",
       "    </tr>\n",
       "  </tbody>\n",
       "</table>\n",
       "</div>"
      ],
      "text/plain": [
       "           PatientID  creatinine  hemoglobin  total_bilirubin\n",
       "17736  FBA3ECDDC1508        0.70        12.8              1.0\n",
       "24429  FFF209DE05B00        1.44        12.4              0.3\n",
       "23706  FF7EB6C3692AC        1.85        13.0              0.5"
      ]
     },
     "execution_count": 56,
     "metadata": {},
     "output_type": "execute_result"
    }
   ],
   "source": [
    "lab_wide.sample(3)"
   ]
  },
  {
   "cell_type": "code",
   "execution_count": 57,
   "id": "6efef9f9",
   "metadata": {},
   "outputs": [],
   "source": [
    "ab_organ_IDs = lab_wide.query('creatinine > 2 or hemoglobin < 9 or total_bilirubin > 3').PatientID"
   ]
  },
  {
   "cell_type": "code",
   "execution_count": 58,
   "id": "3deaeee4",
   "metadata": {},
   "outputs": [
    {
     "data": {
      "text/plain": [
       "2363"
      ]
     },
     "execution_count": 58,
     "metadata": {},
     "output_type": "execute_result"
    }
   ],
   "source": [
    "len(ab_organ_IDs)"
   ]
  },
  {
   "cell_type": "code",
   "execution_count": 59,
   "id": "6cbd364f",
   "metadata": {},
   "outputs": [],
   "source": [
    "ab_organ_IDs.to_csv('ab_organ_IDs.csv', index = False)"
   ]
  },
  {
   "cell_type": "code",
   "execution_count": 60,
   "id": "9b586649",
   "metadata": {},
   "outputs": [],
   "source": [
    "del base_ecog\n",
    "del cns_fl_10\n",
    "del cns_fl_9\n",
    "del diagnosis\n",
    "del diagnosis_10\n",
    "del diagnosis_9\n",
    "del enhanced_met\n",
    "del lab\n",
    "del lab_core\n",
    "del lab_f\n",
    "del lab_wide \n",
    "del line_therapy\n",
    "del therapy_fl"
   ]
  },
  {
   "cell_type": "markdown",
   "id": "96cfedbe",
   "metadata": {},
   "source": [
    "## Part 2: In-silico trials "
   ]
  },
  {
   "cell_type": "markdown",
   "id": "8e631bc9",
   "metadata": {},
   "source": [
    "### Import packages and create necessary functions"
   ]
  },
  {
   "cell_type": "code",
   "execution_count": 61,
   "id": "2ee145c1",
   "metadata": {},
   "outputs": [],
   "source": [
    "import numpy as np\n",
    "import pandas as pd\n",
    "\n",
    "from scipy import stats\n",
    "\n",
    "from sksurv.nonparametric import kaplan_meier_estimator\n",
    "from survive import KaplanMeier, SurvivalData\n",
    "\n",
    "from lifelines import KaplanMeierFitter\n",
    "from lifelines.plotting import add_at_risk_counts\n",
    "from lifelines.utils import median_survival_times\n",
    "\n",
    "import matplotlib.pyplot as plt\n",
    "import matplotlib.gridspec as gridspec\n",
    "\n",
    "from sklearn.pipeline import Pipeline\n",
    "from sklearn.impute import SimpleImputer\n",
    "from sklearn.preprocessing import StandardScaler, OneHotEncoder\n",
    "from sklearn.compose import ColumnTransformer \n",
    "from sklearn.linear_model import LogisticRegression\n",
    "\n",
    "from matplotlib.lines import Line2D   "
   ]
  },
  {
   "cell_type": "code",
   "execution_count": 62,
   "id": "29793fb2",
   "metadata": {},
   "outputs": [],
   "source": [
    "# Function that returns number of rows and count of unique PatientIDs for a dataframe. \n",
    "def row_ID(dataframe):\n",
    "    row = dataframe.shape[0]\n",
    "    ID = dataframe['PatientID'].nunique()\n",
    "    return row, ID"
   ]
  },
  {
   "cell_type": "code",
   "execution_count": 63,
   "id": "4db8da4f",
   "metadata": {},
   "outputs": [],
   "source": [
    "# Find index for value closest to input value. \n",
    "def find_nearest(array, value):\n",
    "    array = np.asarray(array)\n",
    "    idx = (np.abs(array - value)).argmin()\n",
    "    return array[idx]"
   ]
  },
  {
   "cell_type": "code",
   "execution_count": 64,
   "id": "65170908",
   "metadata": {},
   "outputs": [],
   "source": [
    "# Calculates probability of survival at time t-months for risk groups. \n",
    "def psurv_t(low, med, high, t):\n",
    "    low_t = low.survival_function_at_times(find_nearest(low.timeline, t)).values[0]*100\n",
    "    med_t = med.survival_function_at_times(find_nearest(med.timeline, t)).values[0]*100\n",
    "    high_t = high.survival_function_at_times(find_nearest(high.timeline, t)).values[0]*100\n",
    "    pos_t = [low_t, med_t, high_t]\n",
    "    return (pos_t)"
   ]
  },
  {
   "cell_type": "code",
   "execution_count": 65,
   "id": "5eb8517d",
   "metadata": {},
   "outputs": [],
   "source": [
    "# Calculates median overeall suvival for risk groups. \n",
    "def mos(low, med, high, comp):\n",
    "    low_os = low.median_survival_time_\n",
    "    med_os = med.median_survival_time_\n",
    "    high_os = high.median_survival_time_\n",
    "    comp_os = comp.median_survival_time_\n",
    "    mos = [low_os, med_os, high_os, comp_os]\n",
    "    return (mos)"
   ]
  },
  {
   "cell_type": "code",
   "execution_count": 66,
   "id": "402206b7",
   "metadata": {},
   "outputs": [],
   "source": [
    "# Calculates upper and lower 95% CI for median overall survival. \n",
    "def mos_ci(kmf):\n",
    "    kmf_mos_low = (\n",
    "        kmf.confidence_interval_[['KM_estimate_lower_0.95']]\n",
    "        [kmf.confidence_interval_[['KM_estimate_lower_0.95']] == find_nearest(kmf.confidence_interval_['KM_estimate_lower_0.95'], 0.5)]\n",
    "        .idxmin()[0])\n",
    "\n",
    "    kmf_mos_up = (\n",
    "        kmf.confidence_interval_[['KM_estimate_upper_0.95']]\n",
    "        [kmf.confidence_interval_[['KM_estimate_upper_0.95']] == find_nearest(kmf.confidence_interval_['KM_estimate_upper_0.95'], 0.5)]\n",
    "        .idxmin()[0])\n",
    "    \n",
    "    mos_ci = [kmf_mos_low, kmf_mos_up]\n",
    "    return (mos_ci)"
   ]
  },
  {
   "cell_type": "code",
   "execution_count": 67,
   "id": "f280ad3b",
   "metadata": {},
   "outputs": [],
   "source": [
    "# Calculates upper and lower 95% CI for probability of survival at time t. \n",
    "def psurv_ci(kmf, t):\n",
    "    kmf_psurv_ci_low = (\n",
    "        kmf.confidence_interval_.loc[find_nearest(kmf.confidence_interval_.index, t)][0]*100)\n",
    "\n",
    "    kmf_psurv_ci_up = (\n",
    "        kmf.confidence_interval_.loc[find_nearest(kmf.confidence_interval_.index, t)][1]*100)\n",
    "    \n",
    "    psurv_ci = [kmf_psurv_ci_low, kmf_psurv_ci_up]\n",
    "    return (psurv_ci)"
   ]
  },
  {
   "cell_type": "code",
   "execution_count": 68,
   "id": "b2fb34f8",
   "metadata": {},
   "outputs": [],
   "source": [
    "# Calculate median overall survival or psurv error. \n",
    "def y_error(low_ci, med_ci, high_ci, surv_metric):\n",
    "    error = [np.array([surv_metric[0] - low_ci[0],\n",
    "                       surv_metric[1]- med_ci[0],\n",
    "                       surv_metric[2] - high_ci[0]]),\n",
    "               np.array([low_ci[1] - surv_metric[0],\n",
    "                         med_ci[1] - surv_metric[1],\n",
    "                         high_ci[1] - surv_metric[2]])]\n",
    "    return(error)"
   ]
  },
  {
   "cell_type": "code",
   "execution_count": 69,
   "id": "f0a5016a",
   "metadata": {},
   "outputs": [],
   "source": [
    "# Cutoff decimlas to length n. \n",
    "def truncate(n, decimals = 0):\n",
    "    multiplier = 10 ** decimals\n",
    "    return int(n * multiplier) / multiplier"
   ]
  },
  {
   "cell_type": "code",
   "execution_count": 70,
   "id": "bcbb845f",
   "metadata": {},
   "outputs": [],
   "source": [
    "cutoff = pd.read_csv('risk_cutoff_colorectal.csv', index_col = 0)"
   ]
  },
  {
   "cell_type": "markdown",
   "id": "51bd3548",
   "metadata": {},
   "source": [
    "### FIRE-3: FOLFIRI plus cetuximab vs. FOLFIRI plus bevacizumab in KRAS wild-type \n",
    "\n",
    "**INCLUSION**\n",
    "* Untreated metastatic colorectal cancer\n",
    "* First-line recepit of FOLFIRI/FOLFOX plus cetuximab or FOLFIRI/FOLFOX plus bevacizumab \n",
    "* KRAS wild-type \n",
    "* No relevant comorbidities in the year preceding metastatic diagnosis \n",
    "* No CNS metastasis at time of treatment\n",
    "* No ECOG 3 or 4 at time of treatment \n",
    "* Adequate organ function at time of treatment "
   ]
  },
  {
   "cell_type": "markdown",
   "id": "05e50299",
   "metadata": {},
   "source": [
    "#### FOLFIRI plus Cetuximab"
   ]
  },
  {
   "cell_type": "code",
   "execution_count": 71,
   "id": "4da591f8",
   "metadata": {},
   "outputs": [
    {
     "data": {
      "text/plain": [
       "34315"
      ]
     },
     "execution_count": 71,
     "metadata": {},
     "output_type": "execute_result"
    }
   ],
   "source": [
    "df_full = pd.read_csv('df_risk_crude.csv', index_col = 'PatientID', dtype = {'death_status': bool})\n",
    "df_full.index.nunique()"
   ]
  },
  {
   "cell_type": "code",
   "execution_count": 72,
   "id": "1c85c083",
   "metadata": {},
   "outputs": [],
   "source": [
    "line_therapy = pd.read_csv('LineOfTherapy.csv')"
   ]
  },
  {
   "cell_type": "code",
   "execution_count": 73,
   "id": "545b1d96",
   "metadata": {},
   "outputs": [],
   "source": [
    "line_therapy_fl = (\n",
    "    line_therapy[line_therapy['PatientID'].isin(df_full.index)]\n",
    "    .query('LineNumber == 1')\n",
    "    .query('IsMaintenanceTherapy == False'))"
   ]
  },
  {
   "cell_type": "code",
   "execution_count": 74,
   "id": "128e0909",
   "metadata": {},
   "outputs": [
    {
     "data": {
      "text/plain": [
       "FOLFOX,Bevacizumab            6338\n",
       "FOLFOX                        4140\n",
       "FOLFOX,Bevacizumab-Awwb       1356\n",
       "FOLFOX,Bevacizumab-Bvzr        462\n",
       "FOLFOX,Panitumumab             456\n",
       "FOLFIRI,Cetuximab              364\n",
       "FOLFOXIRI                      253\n",
       "FOLFOX,Cetuximab               245\n",
       "FOLFOXIRI,Bevacizumab          228\n",
       "FOLFOXIRI,Bevacizumab-Awwb     140\n",
       "Name: LineName, dtype: int64"
      ]
     },
     "execution_count": 74,
     "metadata": {},
     "output_type": "execute_result"
    }
   ],
   "source": [
    "line_therapy_fl[line_therapy_fl['LineName'].str.contains('FOLFOX|Cetuximab')].LineName.value_counts().head(10)"
   ]
  },
  {
   "cell_type": "code",
   "execution_count": 75,
   "id": "20fb731c",
   "metadata": {},
   "outputs": [
    {
     "data": {
      "text/plain": [
       "FOLFIRI,Bevacizumab         2240\n",
       "FOLFIRI                      914\n",
       "FOLFIRI,Bevacizumab-Awwb     557\n",
       "FOLFIRI,Cetuximab            364\n",
       "FOLFIRI,Panitumumab          261\n",
       "FOLFOX,Cetuximab             245\n",
       "FOLFIRI,Bevacizumab-Bvzr     165\n",
       "Irinotecan,Cetuximab          90\n",
       "Cetuximab                     70\n",
       "FOLFIRI,Ziv-Aflibercept       56\n",
       "Name: LineName, dtype: int64"
      ]
     },
     "execution_count": 75,
     "metadata": {},
     "output_type": "execute_result"
    }
   ],
   "source": [
    "line_therapy_fl[line_therapy_fl['LineName'].str.contains('FOLFIRI|Cetuximab')].LineName.value_counts().head(10)"
   ]
  },
  {
   "cell_type": "code",
   "execution_count": 76,
   "id": "78a49f5f",
   "metadata": {},
   "outputs": [],
   "source": [
    "fxi_cet = (\n",
    "    line_therapy_fl\n",
    "    .query('LineName == \"FOLFIRI,Cetuximab\" or LineName == \"FOLFOX,Cetuximab\"')\n",
    "    [['PatientID', 'StartDate']]\n",
    ")"
   ]
  },
  {
   "cell_type": "code",
   "execution_count": 77,
   "id": "192bf5b3",
   "metadata": {},
   "outputs": [],
   "source": [
    "fxi_cet.loc[:,'fxi_cet'] = 1"
   ]
  },
  {
   "cell_type": "code",
   "execution_count": 78,
   "id": "76e0990f",
   "metadata": {},
   "outputs": [
    {
     "data": {
      "text/plain": [
       "(609, 568)"
      ]
     },
     "execution_count": 78,
     "metadata": {},
     "output_type": "execute_result"
    }
   ],
   "source": [
    "row_ID(fxi_cet)"
   ]
  },
  {
   "cell_type": "code",
   "execution_count": 79,
   "id": "69e1370d",
   "metadata": {},
   "outputs": [],
   "source": [
    "fxi_cet['StartDate'] = pd.to_datetime(fxi_cet['StartDate'])"
   ]
  },
  {
   "cell_type": "code",
   "execution_count": 80,
   "id": "6b42b2ac",
   "metadata": {},
   "outputs": [],
   "source": [
    "fxi_cet = (\n",
    "    fxi_cet\n",
    "    .sort_values(['PatientID', 'StartDate'], ascending = [True, True])\n",
    "    .drop_duplicates(subset = 'PatientID', keep = 'first')\n",
    ")"
   ]
  },
  {
   "cell_type": "code",
   "execution_count": 81,
   "id": "9b71c0b0",
   "metadata": {},
   "outputs": [
    {
     "data": {
      "text/plain": [
       "(568, 568)"
      ]
     },
     "execution_count": 81,
     "metadata": {},
     "output_type": "execute_result"
    }
   ],
   "source": [
    "row_ID(fxi_cet)"
   ]
  },
  {
   "cell_type": "markdown",
   "id": "dc49f1d8",
   "metadata": {},
   "source": [
    "#### FOLFIRI plus Bevacizumab"
   ]
  },
  {
   "cell_type": "code",
   "execution_count": 82,
   "id": "cd14751f",
   "metadata": {},
   "outputs": [
    {
     "data": {
      "text/plain": [
       "FOLFOX,Bevacizumab                     6338\n",
       "FOLFIRI,Bevacizumab                    2240\n",
       "FOLFOX,Bevacizumab-Awwb                1356\n",
       "FOLFIRI                                 914\n",
       "CAPEOX,Bevacizumab                      764\n",
       "FOLFIRI,Bevacizumab-Awwb                557\n",
       "FOLFOX,Bevacizumab-Bvzr                 462\n",
       "Fluorouracil,Leucovorin,Bevacizumab     423\n",
       "Capecitabine,Bevacizumab                405\n",
       "FOLFIRI,Cetuximab                       364\n",
       "Name: LineName, dtype: int64"
      ]
     },
     "execution_count": 82,
     "metadata": {},
     "output_type": "execute_result"
    }
   ],
   "source": [
    "line_therapy_fl[line_therapy_fl['LineName'].str.contains('FOLFIRI|Bevacizumab')].LineName.value_counts().head(10)"
   ]
  },
  {
   "cell_type": "code",
   "execution_count": 83,
   "id": "40c139d4",
   "metadata": {},
   "outputs": [
    {
     "data": {
      "text/plain": [
       "FOLFOX,Bevacizumab                     6338\n",
       "FOLFOX                                 4140\n",
       "FOLFIRI,Bevacizumab                    2240\n",
       "FOLFOX,Bevacizumab-Awwb                1356\n",
       "CAPEOX,Bevacizumab                      764\n",
       "FOLFIRI,Bevacizumab-Awwb                557\n",
       "FOLFOX,Bevacizumab-Bvzr                 462\n",
       "FOLFOX,Panitumumab                      456\n",
       "Fluorouracil,Leucovorin,Bevacizumab     423\n",
       "Capecitabine,Bevacizumab                405\n",
       "Name: LineName, dtype: int64"
      ]
     },
     "execution_count": 83,
     "metadata": {},
     "output_type": "execute_result"
    }
   ],
   "source": [
    "line_therapy_fl[line_therapy_fl['LineName'].str.contains('FOLFOX|Bevacizumab')].LineName.value_counts().head(10)"
   ]
  },
  {
   "cell_type": "code",
   "execution_count": 84,
   "id": "e6ccf1f9",
   "metadata": {},
   "outputs": [],
   "source": [
    "fxi_bev_comb = [\n",
    "    'FOLFIRI,Bevacizumab',\n",
    "    'FOLFIRI,Bevacizumab-Awwb',\n",
    "    'FOLFIRI,Bevacizumab-Bvzr',\n",
    "    'FOLFOX,Bevacizumab',\n",
    "    'FOLFOX,Bevacizumab-Awwb',\n",
    "    'FOLFOX,Bevacizumab-Bvzr'\n",
    "]\n",
    "\n",
    "fxi_bev = (\n",
    "    line_therapy_fl\n",
    "    .query('LineName == @fxi_bev_comb')\n",
    "    [['PatientID', 'StartDate']]\n",
    ")"
   ]
  },
  {
   "cell_type": "code",
   "execution_count": 85,
   "id": "93e03b21",
   "metadata": {},
   "outputs": [],
   "source": [
    "fxi_bev.loc[:,'fxi_cet'] = 0"
   ]
  },
  {
   "cell_type": "code",
   "execution_count": 86,
   "id": "2472b2a5",
   "metadata": {},
   "outputs": [
    {
     "data": {
      "text/plain": [
       "(11118, 10785)"
      ]
     },
     "execution_count": 86,
     "metadata": {},
     "output_type": "execute_result"
    }
   ],
   "source": [
    "row_ID(fxi_bev)"
   ]
  },
  {
   "cell_type": "code",
   "execution_count": 87,
   "id": "22b5ad86",
   "metadata": {},
   "outputs": [],
   "source": [
    "fxi_bev['StartDate'] = pd.to_datetime(fxi_bev['StartDate'])"
   ]
  },
  {
   "cell_type": "code",
   "execution_count": 88,
   "id": "5f1a54da",
   "metadata": {},
   "outputs": [],
   "source": [
    "fxi_bev = (\n",
    "    fxi_bev\n",
    "    .sort_values(['PatientID', 'StartDate'], ascending = [True, True])\n",
    "    .drop_duplicates(subset = 'PatientID', keep = 'first')\n",
    ")"
   ]
  },
  {
   "cell_type": "code",
   "execution_count": 89,
   "id": "374a3d11",
   "metadata": {},
   "outputs": [
    {
     "data": {
      "text/plain": [
       "(10785, 10785)"
      ]
     },
     "execution_count": 89,
     "metadata": {},
     "output_type": "execute_result"
    }
   ],
   "source": [
    "row_ID(fxi_bev)"
   ]
  },
  {
   "cell_type": "code",
   "execution_count": 90,
   "id": "03230371",
   "metadata": {},
   "outputs": [],
   "source": [
    "fire = pd.concat([fxi_cet, fxi_bev])"
   ]
  },
  {
   "cell_type": "code",
   "execution_count": 91,
   "id": "6fcbacb5",
   "metadata": {},
   "outputs": [
    {
     "data": {
      "text/plain": [
       "(11353, 11353)"
      ]
     },
     "execution_count": 91,
     "metadata": {},
     "output_type": "execute_result"
    }
   ],
   "source": [
    "row_ID(fire)"
   ]
  },
  {
   "cell_type": "code",
   "execution_count": 92,
   "id": "29e795a2",
   "metadata": {},
   "outputs": [],
   "source": [
    "fire = pd.merge(fire, df_full, on = 'PatientID', how = 'inner')"
   ]
  },
  {
   "cell_type": "code",
   "execution_count": 93,
   "id": "688a3732",
   "metadata": {},
   "outputs": [
    {
     "data": {
      "text/plain": [
       "(11353, 11353)"
      ]
     },
     "execution_count": 93,
     "metadata": {},
     "output_type": "execute_result"
    }
   ],
   "source": [
    "row_ID(fire)"
   ]
  },
  {
   "cell_type": "markdown",
   "id": "a26845db",
   "metadata": {},
   "source": [
    "#### KRAS wild type "
   ]
  },
  {
   "cell_type": "code",
   "execution_count": 94,
   "id": "a7c3b9be",
   "metadata": {},
   "outputs": [],
   "source": [
    "biomarkers = pd.read_csv('Enhanced_MetCRCBiomarkers.csv')"
   ]
  },
  {
   "cell_type": "code",
   "execution_count": 95,
   "id": "9ab1b811",
   "metadata": {},
   "outputs": [],
   "source": [
    "biomarkers = biomarkers[biomarkers['PatientID'].isin(fire['PatientID'])]"
   ]
  },
  {
   "cell_type": "code",
   "execution_count": 96,
   "id": "512a994c",
   "metadata": {},
   "outputs": [
    {
     "data": {
      "text/plain": [
       "(46879, 10576)"
      ]
     },
     "execution_count": 96,
     "metadata": {},
     "output_type": "execute_result"
    }
   ],
   "source": [
    "row_ID(biomarkers)"
   ]
  },
  {
   "cell_type": "code",
   "execution_count": 97,
   "id": "7b6caabc",
   "metadata": {},
   "outputs": [],
   "source": [
    "biomarkers = pd.merge(biomarkers, fire[['PatientID', 'StartDate']], on = 'PatientID', how = 'left')"
   ]
  },
  {
   "cell_type": "code",
   "execution_count": 98,
   "id": "c8e33113",
   "metadata": {},
   "outputs": [
    {
     "data": {
      "text/plain": [
       "(46879, 10576)"
      ]
     },
     "execution_count": 98,
     "metadata": {},
     "output_type": "execute_result"
    }
   ],
   "source": [
    "row_ID(biomarkers)"
   ]
  },
  {
   "cell_type": "code",
   "execution_count": 99,
   "id": "af624822",
   "metadata": {},
   "outputs": [],
   "source": [
    "biomarkers['ResultDate'] = pd.to_datetime(biomarkers['ResultDate'])"
   ]
  },
  {
   "cell_type": "code",
   "execution_count": 100,
   "id": "7e274291",
   "metadata": {},
   "outputs": [],
   "source": [
    "biomarkers['SpecimenReceivedDate'] = pd.to_datetime(biomarkers['SpecimenReceivedDate'])"
   ]
  },
  {
   "cell_type": "code",
   "execution_count": 101,
   "id": "4020f1ec",
   "metadata": {},
   "outputs": [],
   "source": [
    "biomarkers.loc[:, 'result_date'] = (\n",
    "    np.where(biomarkers['ResultDate'].isna(), biomarkers['SpecimenReceivedDate'], biomarkers['ResultDate'])\n",
    ")"
   ]
  },
  {
   "cell_type": "code",
   "execution_count": 102,
   "id": "e13f9743",
   "metadata": {},
   "outputs": [],
   "source": [
    "biomarkers.loc[:, 'date_diff'] = (biomarkers['result_date'] - biomarkers['StartDate']).dt.days"
   ]
  },
  {
   "cell_type": "code",
   "execution_count": 103,
   "id": "0ae62d3f",
   "metadata": {},
   "outputs": [],
   "source": [
    "kras = (\n",
    "    biomarkers\n",
    "    .query('BiomarkerName == \"KRAS\"')\n",
    "    .query('date_diff <=30')\n",
    "    .query('BiomarkerStatus == \"Mutation negative\"')\n",
    "    [['PatientID', 'BiomarkerStatus']]\n",
    "    .rename(columns = {'BiomarkerStatus': 'kras_n'})\n",
    "    .drop_duplicates(subset = 'PatientID', keep = 'first')\n",
    ")"
   ]
  },
  {
   "cell_type": "code",
   "execution_count": 104,
   "id": "1185cc72",
   "metadata": {},
   "outputs": [
    {
     "data": {
      "text/plain": [
       "(3645, 3645)"
      ]
     },
     "execution_count": 104,
     "metadata": {},
     "output_type": "execute_result"
    }
   ],
   "source": [
    "row_ID(kras)"
   ]
  },
  {
   "cell_type": "code",
   "execution_count": 105,
   "id": "61c66fb0",
   "metadata": {},
   "outputs": [],
   "source": [
    "fire = pd.merge(fire, kras, on  = 'PatientID', how = 'outer')"
   ]
  },
  {
   "cell_type": "code",
   "execution_count": 106,
   "id": "f98333d1",
   "metadata": {},
   "outputs": [
    {
     "data": {
      "text/plain": [
       "(11353, 11353)"
      ]
     },
     "execution_count": 106,
     "metadata": {},
     "output_type": "execute_result"
    }
   ],
   "source": [
    "row_ID(fire)"
   ]
  },
  {
   "cell_type": "markdown",
   "id": "9ef4b6e7",
   "metadata": {},
   "source": [
    "#### Time from treatment to death or censor "
   ]
  },
  {
   "cell_type": "code",
   "execution_count": 107,
   "id": "2f1a6a17",
   "metadata": {},
   "outputs": [],
   "source": [
    "mortality_tr = pd.read_csv('mortality_cleaned_tr.csv')"
   ]
  },
  {
   "cell_type": "code",
   "execution_count": 108,
   "id": "041128ed",
   "metadata": {},
   "outputs": [],
   "source": [
    "mortality_te = pd.read_csv('mortality_cleaned_te.csv')"
   ]
  },
  {
   "cell_type": "code",
   "execution_count": 109,
   "id": "74247afc",
   "metadata": {},
   "outputs": [],
   "source": [
    "mortality_tr = mortality_tr[['PatientID', 'death_date', 'last_activity']]"
   ]
  },
  {
   "cell_type": "code",
   "execution_count": 110,
   "id": "6a73f7e6",
   "metadata": {},
   "outputs": [],
   "source": [
    "mortality_te = mortality_te[['PatientID', 'death_date', 'last_activity']]"
   ]
  },
  {
   "cell_type": "code",
   "execution_count": 111,
   "id": "72778ec9",
   "metadata": {},
   "outputs": [
    {
     "name": "stdout",
     "output_type": "stream",
     "text": [
      "34315 True\n"
     ]
    }
   ],
   "source": [
    "mortality = pd.concat([mortality_tr, mortality_te], ignore_index = True)\n",
    "print(len(mortality), mortality.PatientID.is_unique)"
   ]
  },
  {
   "cell_type": "code",
   "execution_count": 112,
   "id": "f7caaf67",
   "metadata": {},
   "outputs": [],
   "source": [
    "mortality.loc[:, 'last_activity'] = pd.to_datetime(mortality['last_activity'])"
   ]
  },
  {
   "cell_type": "code",
   "execution_count": 113,
   "id": "210ca4e0",
   "metadata": {},
   "outputs": [],
   "source": [
    "mortality.loc[:, 'death_date'] = pd.to_datetime(mortality['death_date'])"
   ]
  },
  {
   "cell_type": "code",
   "execution_count": 114,
   "id": "048429a7",
   "metadata": {},
   "outputs": [
    {
     "data": {
      "text/plain": [
       "34315"
      ]
     },
     "execution_count": 114,
     "metadata": {},
     "output_type": "execute_result"
    }
   ],
   "source": [
    "len(mortality)"
   ]
  },
  {
   "cell_type": "code",
   "execution_count": 115,
   "id": "1c8dc0ab",
   "metadata": {},
   "outputs": [],
   "source": [
    "fire = pd.merge(fire, mortality, on = 'PatientID')"
   ]
  },
  {
   "cell_type": "code",
   "execution_count": 116,
   "id": "85b2bd29",
   "metadata": {},
   "outputs": [
    {
     "data": {
      "text/plain": [
       "11353"
      ]
     },
     "execution_count": 116,
     "metadata": {},
     "output_type": "execute_result"
    }
   ],
   "source": [
    "len(fire)"
   ]
  },
  {
   "cell_type": "code",
   "execution_count": 117,
   "id": "b3466d3d",
   "metadata": {},
   "outputs": [],
   "source": [
    "conditions = [\n",
    "    (fire['death_status'] == 1),\n",
    "    (fire['death_status'] == 0)]\n",
    "\n",
    "choices = [\n",
    "    (fire['death_date'] - fire['StartDate']).dt.days,\n",
    "    (fire['last_activity'] - fire['StartDate']).dt.days]\n",
    "\n",
    "fire.loc[:, 'timerisk_treatment'] = np.select(conditions, choices)"
   ]
  },
  {
   "cell_type": "code",
   "execution_count": 118,
   "id": "2b20db89",
   "metadata": {},
   "outputs": [],
   "source": [
    "fire = fire.query('timerisk_treatment >= 0')"
   ]
  },
  {
   "cell_type": "code",
   "execution_count": 119,
   "id": "82ff6cd8",
   "metadata": {},
   "outputs": [
    {
     "data": {
      "text/plain": [
       "(11343, 11343)"
      ]
     },
     "execution_count": 119,
     "metadata": {},
     "output_type": "execute_result"
    }
   ],
   "source": [
    "row_ID(fire)"
   ]
  },
  {
   "cell_type": "markdown",
   "id": "27b637ad",
   "metadata": {},
   "source": [
    "#### Patient count "
   ]
  },
  {
   "cell_type": "code",
   "execution_count": 120,
   "id": "7bd97102",
   "metadata": {},
   "outputs": [],
   "source": [
    "fire = fire.query('kras_n == \"Mutation negative\"')"
   ]
  },
  {
   "cell_type": "code",
   "execution_count": 121,
   "id": "ee0c7673",
   "metadata": {},
   "outputs": [
    {
     "data": {
      "text/plain": [
       "(3641, 3641)"
      ]
     },
     "execution_count": 121,
     "metadata": {},
     "output_type": "execute_result"
    }
   ],
   "source": [
    "row_ID(fire)"
   ]
  },
  {
   "cell_type": "code",
   "execution_count": 122,
   "id": "e7178543",
   "metadata": {},
   "outputs": [],
   "source": [
    "# Exclude those with relevant comorbidities in the year preceding metastatic diagnosis \n",
    "fire = fire[~fire['PatientID'].isin(comorb_IDs)]"
   ]
  },
  {
   "cell_type": "code",
   "execution_count": 123,
   "id": "d56ad29d",
   "metadata": {},
   "outputs": [],
   "source": [
    "# Exlcude those with CNS metastasis at time of treatment \n",
    "fire = fire[~fire['PatientID'].isin(cns_fl_IDs)]"
   ]
  },
  {
   "cell_type": "code",
   "execution_count": 124,
   "id": "7a0bd0a0",
   "metadata": {},
   "outputs": [],
   "source": [
    "# Exclude those with ECOG 3 or 4 at time of treatment \n",
    "fire = fire[~fire['PatientID'].isin(ecog_fl_IDs)]"
   ]
  },
  {
   "cell_type": "code",
   "execution_count": 125,
   "id": "4083a791",
   "metadata": {},
   "outputs": [],
   "source": [
    "# Exclude those with abnormal organ function at time of treatment \n",
    "fire = fire[~fire['PatientID'].isin(ab_organ_IDs)]"
   ]
  },
  {
   "cell_type": "code",
   "execution_count": 126,
   "id": "e03dc4e9",
   "metadata": {},
   "outputs": [
    {
     "data": {
      "text/plain": [
       "(3263, 3263)"
      ]
     },
     "execution_count": 126,
     "metadata": {},
     "output_type": "execute_result"
    }
   ],
   "source": [
    "row_ID(fire)"
   ]
  },
  {
   "cell_type": "code",
   "execution_count": 127,
   "id": "f8a5760d",
   "metadata": {},
   "outputs": [],
   "source": [
    "low_cutoff_fire = cutoff.loc['fire3'].low"
   ]
  },
  {
   "cell_type": "code",
   "execution_count": 128,
   "id": "0c1f4913",
   "metadata": {},
   "outputs": [],
   "source": [
    "high_cutoff_fire = cutoff.loc['fire3'].high"
   ]
  },
  {
   "cell_type": "code",
   "execution_count": 129,
   "id": "a8709e49",
   "metadata": {},
   "outputs": [
    {
     "name": "stdout",
     "output_type": "stream",
     "text": [
      "FOLFIRI + Cetuximab total: 450\n",
      "High risk: 112\n",
      "Med risk: 173\n",
      "Low risk: 165\n"
     ]
    }
   ],
   "source": [
    "print('FOLFIRI + Cetuximab total:',  fire.query('fxi_cet == 1').shape[0])\n",
    "print('High risk:', fire.query('fxi_cet == 1').query('risk_score >= @high_cutoff_fire').shape[0])\n",
    "print('Med risk:', fire.query('fxi_cet == 1').query('risk_score < @high_cutoff_fire and risk_score > @low_cutoff_fire').shape[0])\n",
    "print('Low risk:', fire.query('fxi_cet == 1').query('risk_score <= @low_cutoff_fire').shape[0])"
   ]
  },
  {
   "cell_type": "code",
   "execution_count": 130,
   "id": "d55a8f03",
   "metadata": {},
   "outputs": [
    {
     "name": "stdout",
     "output_type": "stream",
     "text": [
      "FOLFIRI + Bevacizumab: 2813\n",
      "High risk: 860\n",
      "Med risk: 960\n",
      "Low risk: 993\n"
     ]
    }
   ],
   "source": [
    "print('FOLFIRI + Bevacizumab:',  fire.query('fxi_cet == 0').shape[0])\n",
    "print('High risk:', fire.query('fxi_cet == 0').query('risk_score >= @high_cutoff_fire').shape[0])\n",
    "print('Med risk:', fire.query('fxi_cet == 0').query('risk_score < @high_cutoff_fire and risk_score > @low_cutoff_fire').shape[0])\n",
    "print('Low risk:', fire.query('fxi_cet == 0').query('risk_score <= @low_cutoff_fire').shape[0])"
   ]
  },
  {
   "cell_type": "markdown",
   "id": "65b56336",
   "metadata": {},
   "source": [
    "#### Survival curves with covariate balancing "
   ]
  },
  {
   "cell_type": "code",
   "execution_count": 131,
   "id": "7e91443e",
   "metadata": {},
   "outputs": [],
   "source": [
    "fire = fire.set_index('PatientID')"
   ]
  },
  {
   "cell_type": "code",
   "execution_count": 132,
   "id": "38c66c8d",
   "metadata": {},
   "outputs": [],
   "source": [
    "fire['met_cat'] = pd.cut(fire['met_year'],\n",
    "                         bins = [2010, 2015, float('inf')],\n",
    "                         labels = ['11-15', '16-22'])"
   ]
  },
  {
   "cell_type": "code",
   "execution_count": 133,
   "id": "872ac95a",
   "metadata": {},
   "outputs": [],
   "source": [
    "conditions = [\n",
    "    ((fire['ecog_diagnosis'] == \"1.0\") | (fire['ecog_diagnosis'] == \"0.0\")),  \n",
    "    ((fire['ecog_diagnosis'] == \"2.0\") | (fire['ecog_diagnosis'] == \"3.0\"))\n",
    "]\n",
    "\n",
    "choices = ['lt_2', 'gte_2']\n",
    "\n",
    "fire['ecog_2'] = np.select(conditions, choices, default = 'unknown')"
   ]
  },
  {
   "cell_type": "code",
   "execution_count": 134,
   "id": "639a955e",
   "metadata": {},
   "outputs": [],
   "source": [
    "fire_iptw = fire.filter(items = ['death_status',\n",
    "                                 'timerisk_treatment',\n",
    "                                 'fxi_cet',\n",
    "                                 'age',\n",
    "                                 'gender',\n",
    "                                 'race',\n",
    "                                 'p_type',\n",
    "                                 'crc_site',\n",
    "                                 'met_cat',\n",
    "                                 'delta_met_diagnosis',\n",
    "                                 'commercial',\n",
    "                                 'medicare',\n",
    "                                 'medicaid',\n",
    "                                 'ecog_2', \n",
    "                                 'ses',\n",
    "                                 'risk_score'])"
   ]
  },
  {
   "cell_type": "code",
   "execution_count": 135,
   "id": "f858886d",
   "metadata": {},
   "outputs": [
    {
     "data": {
      "text/plain": [
       "death_status               bool\n",
       "timerisk_treatment      float64\n",
       "fxi_cet                   int64\n",
       "age                       int64\n",
       "gender                   object\n",
       "race                     object\n",
       "p_type                   object\n",
       "crc_site                 object\n",
       "met_cat                category\n",
       "delta_met_diagnosis       int64\n",
       "commercial              float64\n",
       "medicare                float64\n",
       "medicaid                float64\n",
       "ecog_2                   object\n",
       "ses                     float64\n",
       "risk_score              float64\n",
       "dtype: object"
      ]
     },
     "execution_count": 135,
     "metadata": {},
     "output_type": "execute_result"
    }
   ],
   "source": [
    "fire_iptw.dtypes"
   ]
  },
  {
   "cell_type": "code",
   "execution_count": 136,
   "id": "8041dae0",
   "metadata": {},
   "outputs": [],
   "source": [
    "to_be_categorical = list(fire_iptw.select_dtypes(include = ['object']).columns)"
   ]
  },
  {
   "cell_type": "code",
   "execution_count": 137,
   "id": "b808c0c9",
   "metadata": {},
   "outputs": [
    {
     "data": {
      "text/plain": [
       "['gender', 'race', 'p_type', 'crc_site', 'ecog_2']"
      ]
     },
     "execution_count": 137,
     "metadata": {},
     "output_type": "execute_result"
    }
   ],
   "source": [
    "to_be_categorical"
   ]
  },
  {
   "cell_type": "code",
   "execution_count": 138,
   "id": "709667f4",
   "metadata": {},
   "outputs": [],
   "source": [
    "to_be_categorical.append('met_cat')"
   ]
  },
  {
   "cell_type": "code",
   "execution_count": 139,
   "id": "f4f156d1",
   "metadata": {},
   "outputs": [],
   "source": [
    "to_be_categorical.append('ses')"
   ]
  },
  {
   "cell_type": "code",
   "execution_count": 140,
   "id": "d2df4a00",
   "metadata": {},
   "outputs": [],
   "source": [
    "# Convert variables in list to categorical.\n",
    "for x in list(to_be_categorical):\n",
    "    fire_iptw[x] = fire_iptw[x].astype('category')"
   ]
  },
  {
   "cell_type": "code",
   "execution_count": 141,
   "id": "6b6b28e6",
   "metadata": {},
   "outputs": [],
   "source": [
    "# List of numeric variables, excluding binary variables. \n",
    "numerical_features = ['age', 'delta_met_diagnosis']\n",
    "\n",
    "# Transformer will first calculate column median and impute, and then apply a standard scaler. \n",
    "numerical_transformer = Pipeline(steps = [\n",
    "    ('imputer', SimpleImputer(strategy = 'median')),\n",
    "    ('std_scaler', StandardScaler())])"
   ]
  },
  {
   "cell_type": "code",
   "execution_count": 142,
   "id": "82fc43e8",
   "metadata": {},
   "outputs": [],
   "source": [
    "# List of categorical features.\n",
    "categorical_features = list(fire_iptw.select_dtypes(include = ['category']).columns)\n",
    "\n",
    "# One-hot-encode categorical features.\n",
    "categorical_transformer = OneHotEncoder(handle_unknown = 'ignore')"
   ]
  },
  {
   "cell_type": "code",
   "execution_count": 143,
   "id": "f22ff22d",
   "metadata": {},
   "outputs": [],
   "source": [
    "preprocessor = ColumnTransformer(\n",
    "    transformers = [\n",
    "        ('num', numerical_transformer, numerical_features),\n",
    "        ('cat', categorical_transformer, categorical_features)],\n",
    "    remainder = 'passthrough')"
   ]
  },
  {
   "cell_type": "code",
   "execution_count": 144,
   "id": "e6e5ab4b",
   "metadata": {},
   "outputs": [],
   "source": [
    "fire_iptw_low = (\n",
    "    fire_iptw\n",
    "    .query('risk_score <= @low_cutoff_fire')\n",
    "    .drop(columns = ['risk_score']))\n",
    "\n",
    "fire_iptw_med = (\n",
    "    fire_iptw\n",
    "    .query('risk_score < @high_cutoff_fire and risk_score > @low_cutoff_fire')\n",
    "    .drop(columns = ['risk_score']))\n",
    "\n",
    "fire_iptw_high = (\n",
    "    fire_iptw\n",
    "    .query('risk_score >= @high_cutoff_fire')\n",
    "    .drop(columns = ['risk_score']))\n",
    "\n",
    "fire_iptw_all = (\n",
    "    fire_iptw\n",
    "    .drop(columns = ['risk_score']))"
   ]
  },
  {
   "cell_type": "code",
   "execution_count": 145,
   "id": "40a7fb23",
   "metadata": {},
   "outputs": [],
   "source": [
    "fire_low_x = preprocessor.fit_transform(fire_iptw_low.filter(items = ['age',\n",
    "                                                                      'gender',\n",
    "                                                                      'race',\n",
    "                                                                      'p_type',\n",
    "                                                                      'crc_site',\n",
    "                                                                      'met_cat',\n",
    "                                                                      'delta_met_diagnosis',\n",
    "                                                                      'commercial',\n",
    "                                                                      'medicare',\n",
    "                                                                      'medicaid',\n",
    "                                                                      'ecog_2', \n",
    "                                                                      'ses']))\n",
    "\n",
    "fire_med_x = preprocessor.fit_transform(fire_iptw_med.filter(items = ['age',\n",
    "                                                                      'gender',\n",
    "                                                                      'race',\n",
    "                                                                      'p_type',\n",
    "                                                                      'crc_site',\n",
    "                                                                      'met_cat',\n",
    "                                                                      'delta_met_diagnosis',\n",
    "                                                                      'commercial',\n",
    "                                                                      'medicare',\n",
    "                                                                      'medicaid', \n",
    "                                                                      'ecog_2',\n",
    "                                                                      'ses']))\n",
    "\n",
    "fire_high_x = preprocessor.fit_transform(fire_iptw_high.filter(items = ['age',\n",
    "                                                                        'gender',\n",
    "                                                                        'race',\n",
    "                                                                        'p_type',\n",
    "                                                                        'crc_site',\n",
    "                                                                        'met_cat',\n",
    "                                                                        'delta_met_diagnosis',\n",
    "                                                                        'commercial',\n",
    "                                                                        'medicare',\n",
    "                                                                        'medicaid',\n",
    "                                                                        'ecog_2', \n",
    "                                                                        'ses']))\n",
    "\n",
    "fire_all_x = preprocessor.fit_transform(fire_iptw_all.filter(items = ['age',\n",
    "                                                                      'gender',\n",
    "                                                                      'race',\n",
    "                                                                      'p_type',\n",
    "                                                                      'crc_site',\n",
    "                                                                      'met_cat',\n",
    "                                                                      'delta_met_diagnosis',\n",
    "                                                                      'commercial',\n",
    "                                                                      'medicare',\n",
    "                                                                      'medicaid', \n",
    "                                                                      'ecog_2',\n",
    "                                                                      'ses']))"
   ]
  },
  {
   "cell_type": "code",
   "execution_count": 146,
   "id": "d1445b3c",
   "metadata": {},
   "outputs": [
    {
     "data": {
      "text/plain": [
       "LogisticRegression(max_iter=1000)"
      ]
     },
     "execution_count": 146,
     "metadata": {},
     "output_type": "execute_result"
    }
   ],
   "source": [
    "lr_fire_low = LogisticRegression(max_iter = 1000)\n",
    "lr_fire_low.fit(fire_low_x, fire_iptw_low['fxi_cet'])"
   ]
  },
  {
   "cell_type": "code",
   "execution_count": 147,
   "id": "ed0ed965",
   "metadata": {},
   "outputs": [
    {
     "data": {
      "text/plain": [
       "LogisticRegression(max_iter=1000)"
      ]
     },
     "execution_count": 147,
     "metadata": {},
     "output_type": "execute_result"
    }
   ],
   "source": [
    "lr_fire_med = LogisticRegression(max_iter = 1000)\n",
    "lr_fire_med.fit(fire_med_x, fire_iptw_med['fxi_cet'])"
   ]
  },
  {
   "cell_type": "code",
   "execution_count": 148,
   "id": "b1783dde",
   "metadata": {},
   "outputs": [
    {
     "data": {
      "text/plain": [
       "LogisticRegression(max_iter=1000)"
      ]
     },
     "execution_count": 148,
     "metadata": {},
     "output_type": "execute_result"
    }
   ],
   "source": [
    "lr_fire_high = LogisticRegression(max_iter = 1000)\n",
    "lr_fire_high.fit(fire_high_x, fire_iptw_high['fxi_cet'])"
   ]
  },
  {
   "cell_type": "code",
   "execution_count": 149,
   "id": "be2add5c",
   "metadata": {},
   "outputs": [
    {
     "data": {
      "text/plain": [
       "LogisticRegression(max_iter=1000)"
      ]
     },
     "execution_count": 149,
     "metadata": {},
     "output_type": "execute_result"
    }
   ],
   "source": [
    "lr_fire_all = LogisticRegression(max_iter = 1000)\n",
    "lr_fire_all.fit(fire_all_x, fire_iptw_all['fxi_cet'])"
   ]
  },
  {
   "cell_type": "code",
   "execution_count": 150,
   "id": "da730ccb",
   "metadata": {},
   "outputs": [],
   "source": [
    "pred_low = lr_fire_low.predict_proba(fire_low_x)\n",
    "pred_med = lr_fire_med.predict_proba(fire_med_x)\n",
    "pred_high = lr_fire_high.predict_proba(fire_high_x)\n",
    "pred_all = lr_fire_all.predict_proba(fire_all_x)"
   ]
  },
  {
   "cell_type": "code",
   "execution_count": 151,
   "id": "9a6771cc",
   "metadata": {},
   "outputs": [],
   "source": [
    "fire_iptw_low['ps'] = pred_low[:, 1]\n",
    "fire_iptw_med['ps'] = pred_med[:, 1]\n",
    "fire_iptw_high['ps'] = pred_high[:, 1]\n",
    "fire_iptw_all['ps'] = pred_all[:, 1]"
   ]
  },
  {
   "cell_type": "code",
   "execution_count": 152,
   "id": "6c0bb3ae",
   "metadata": {},
   "outputs": [],
   "source": [
    "fire_iptw_low['weight'] = (\n",
    "    np.where(fire_iptw_low['fxi_cet'] == 1, 1/fire_iptw_low['ps'], 1/(1 - fire_iptw_low['ps'])))\n",
    "\n",
    "fire_iptw_med['weight'] = (\n",
    "    np.where(fire_iptw_med['fxi_cet'] == 1, 1/fire_iptw_med['ps'], 1/(1 - fire_iptw_med['ps'])))\n",
    "\n",
    "fire_iptw_high['weight'] = (\n",
    "    np.where(fire_iptw_high['fxi_cet'] == 1, 1/fire_iptw_high['ps'], 1/(1 - fire_iptw_high['ps'])))\n",
    "\n",
    "fire_iptw_all['weight'] = (\n",
    "    np.where(fire_iptw_all['fxi_cet'] == 1, 1/fire_iptw_all['ps'], 1/(1 - fire_iptw_all['ps'])))"
   ]
  },
  {
   "cell_type": "code",
   "execution_count": 153,
   "id": "085dde30",
   "metadata": {},
   "outputs": [
    {
     "name": "stderr",
     "output_type": "stream",
     "text": [
      "/Users/xavierorcutt/Dropbox/ist_project/myenv/lib/python3.7/site-packages/lifelines/fitters/kaplan_meier_fitter.py:344: StatisticalWarning: It looks like your weights are not integers, possibly propensity scores then?\n",
      "  It's important to know that the naive variance estimates of the coefficients are biased. Instead use Monte Carlo to\n",
      "  estimate the variances. See paper \"Variance estimation when using inverse probability of treatment weighting (IPTW) with survival analysis\"\n",
      "  or \"Adjusted Kaplan-Meier estimator and log-rank test with inverse probability of treatment weighting for survival data.\"\n",
      "                  \n",
      "  StatisticalWarning,\n"
     ]
    },
    {
     "data": {
      "text/plain": [
       "<lifelines.KaplanMeierFitter:\"KM_estimate\", fitted with 3263 total observations, 1275.18 right-censored observations>"
      ]
     },
     "execution_count": 153,
     "metadata": {},
     "output_type": "execute_result"
    }
   ],
   "source": [
    "# Low KM curves\n",
    "kmf_low_cet_f_iptw = KaplanMeierFitter()\n",
    "kmf_low_bev_f_iptw = KaplanMeierFitter()\n",
    "\n",
    "kmf_low_cet_f_iptw.fit(\n",
    "    fire_iptw_low.query('fxi_cet == 1').timerisk_treatment/30,\n",
    "    fire_iptw_low.query('fxi_cet == 1').death_status,\n",
    "    weights = fire_iptw_low.query('fxi_cet == 1')['weight'])\n",
    "\n",
    "kmf_low_bev_f_iptw.fit(\n",
    "    fire_iptw_low.query('fxi_cet == 0').timerisk_treatment/30,\n",
    "    fire_iptw_low.query('fxi_cet == 0').death_status,\n",
    "    weights = fire_iptw_low.query('fxi_cet == 0')['weight'])\n",
    "\n",
    "# Med KM curves\n",
    "kmf_med_cet_f_iptw = KaplanMeierFitter()\n",
    "kmf_med_bev_f_iptw = KaplanMeierFitter()\n",
    "\n",
    "kmf_med_cet_f_iptw.fit(\n",
    "    fire_iptw_med.query('fxi_cet == 1').timerisk_treatment/30,\n",
    "    fire_iptw_med.query('fxi_cet == 1').death_status,\n",
    "    weights = fire_iptw_med.query('fxi_cet == 1')['weight'])\n",
    "\n",
    "kmf_med_bev_f_iptw.fit(\n",
    "    fire_iptw_med.query('fxi_cet == 0').timerisk_treatment/30,\n",
    "    fire_iptw_med.query('fxi_cet == 0').death_status,\n",
    "    weights = fire_iptw_med.query('fxi_cet == 0')['weight'])\n",
    "\n",
    "# High KM curves \n",
    "kmf_high_cet_f_iptw = KaplanMeierFitter()\n",
    "kmf_high_bev_f_iptw = KaplanMeierFitter()\n",
    "\n",
    "kmf_high_cet_f_iptw.fit(\n",
    "    fire_iptw_high.query('fxi_cet == 1').timerisk_treatment/30,\n",
    "    fire_iptw_high.query('fxi_cet == 1').death_status,\n",
    "    weights = fire_iptw_high.query('fxi_cet == 1')['weight'])\n",
    "\n",
    "kmf_high_bev_f_iptw.fit(\n",
    "    fire_iptw_high.query('fxi_cet == 0').timerisk_treatment/30,\n",
    "    fire_iptw_high.query('fxi_cet == 0').death_status,\n",
    "    weights = fire_iptw_high.query('fxi_cet == 0')['weight'])\n",
    "\n",
    "# All KM curves \n",
    "kmf_all_cet_f_iptw = KaplanMeierFitter()\n",
    "kmf_all_bev_f_iptw = KaplanMeierFitter()\n",
    "\n",
    "kmf_all_cet_f_iptw.fit(\n",
    "    fire_iptw_all.query('fxi_cet == 1').timerisk_treatment/30,\n",
    "    fire_iptw_all.query('fxi_cet == 1').death_status,\n",
    "    weights = fire_iptw_all.query('fxi_cet == 1')['weight'])\n",
    "\n",
    "kmf_all_bev_f_iptw.fit(\n",
    "    fire_iptw_all.query('fxi_cet == 0').timerisk_treatment/30,\n",
    "    fire_iptw_all.query('fxi_cet == 0').death_status,\n",
    "    weights = fire_iptw_all.query('fxi_cet == 0')['weight'])"
   ]
  },
  {
   "cell_type": "code",
   "execution_count": 154,
   "id": "f52fd54f",
   "metadata": {},
   "outputs": [
    {
     "data": {
      "image/png": "[encoded data removed]",
      "text/plain": [
       "<Figure size 1800x600 with 5 Axes>"
      ]
     },
     "metadata": {},
     "output_type": "display_data"
    }
   ],
   "source": [
    "fig = plt.figure(figsize=(18, 6))\n",
    "\n",
    "# Plot survival curves for low risk group \n",
    "plt.subplot(1, 4, 1)\n",
    "\n",
    "plt.step(kmf_low_cet_f_iptw.timeline, kmf_low_cet_f_iptw.survival_function_.values*100, color = 'red', alpha = 0.5)\n",
    "\n",
    "plt.step(kmf_low_bev_f_iptw.timeline, kmf_low_bev_f_iptw.survival_function_.values*100, color = 'black', alpha = 0.5)\n",
    "\n",
    "plt.xticks(np.arange(0, 61, 6))\n",
    "plt.xlim(0, 61)\n",
    "plt.ylim(0, 100)\n",
    "\n",
    "plt.title('Low-risk', weight = 'bold')\n",
    "plt.ylabel('Overall survival (%)', size = 12, weight = 'bold')\n",
    "\n",
    "plt.gca().spines['top'].set_visible(False)\n",
    "plt.gca().spines['right'].set_visible(False)\n",
    "\n",
    "# Plot survival curves for med risk group. \n",
    "plt.subplot(1, 4, 2)\n",
    "\n",
    "plt.step(kmf_med_cet_f_iptw.timeline, kmf_med_cet_f_iptw.survival_function_.values*100, color = 'red', alpha = 0.5)\n",
    "\n",
    "plt.step(kmf_med_bev_f_iptw.timeline, kmf_med_bev_f_iptw.survival_function_.values*100, color = 'black', alpha = 0.5)\n",
    "\n",
    "plt.xticks(np.arange(0, 61, 6))\n",
    "plt.xlim(0, 61)\n",
    "plt.ylim(0, 100)\n",
    "\n",
    "plt.title('Med-risk', weight = 'bold')\n",
    "\n",
    "plt.gca().spines['top'].set_visible(False)\n",
    "plt.gca().spines['right'].set_visible(False)\n",
    "\n",
    "# Plot survival curves by treatment for high risk group. \n",
    "plt.subplot(1, 4, 3)\n",
    "\n",
    "plt.step(kmf_high_cet_f_iptw.timeline, kmf_high_cet_f_iptw.survival_function_.values*100, color = 'red', alpha = 0.5)\n",
    "\n",
    "plt.step(kmf_high_bev_f_iptw.timeline, kmf_high_bev_f_iptw.survival_function_.values*100, color = 'black', alpha = 0.5)\n",
    "\n",
    "plt.xticks(np.arange(0, 61, 6))\n",
    "plt.xlim(0, 61)\n",
    "plt.ylim(0, 100)\n",
    "\n",
    "plt.title('High-risk', weight = 'bold')\n",
    "\n",
    "plt.gca().spines['top'].set_visible(False)\n",
    "plt.gca().spines['right'].set_visible(False)\n",
    "\n",
    "# Plot survival curves by treatment for all risk group. \n",
    "plt.subplot(1, 4, 4)\n",
    "\n",
    "plt.step(kmf_all_cet_f_iptw.timeline, kmf_all_cet_f_iptw.survival_function_.values*100, color = 'red', alpha = 0.5, label = 'Cetuximab + FOLFIRI')\n",
    "\n",
    "plt.step(kmf_all_bev_f_iptw.timeline, kmf_all_bev_f_iptw.survival_function_.values*100, color = 'black', alpha = 0.5, label = 'Bevacizumab + FOLFIRI')\n",
    "\n",
    "plt.xticks(np.arange(0, 61, 6))\n",
    "plt.xlim(0, 61)\n",
    "plt.ylim(0, 100)\n",
    "\n",
    "plt.title('Full cohort', weight = 'bold')\n",
    "\n",
    "plt.gca().spines['top'].set_visible(False)\n",
    "plt.gca().spines['right'].set_visible(False)\n",
    "\n",
    "plt.legend(loc = 'lower right', prop = {'size': 9})\n",
    "\n",
    "fig.add_subplot(1, 1, 1, frameon = False)\n",
    "plt.tick_params(labelcolor = 'none', which = 'both', top = False, bottom = False, left = False, right = False)\n",
    "plt.xlabel('Months after treatment', labelpad = 15, size = 12, weight = 'bold')\n",
    "plt.title('FIRE-3: Overall survival for Cetuximab + FOLFIRI vs. Bevacizumab + FOLFIRI among KRAS wild-type', pad = 40, size = 15, weight = 'bold')\n",
    "\n",
    "plt.show()"
   ]
  },
  {
   "cell_type": "markdown",
   "id": "f95ca3f1",
   "metadata": {},
   "source": [
    "#### Summary result plot "
   ]
  },
  {
   "cell_type": "code",
   "execution_count": 155,
   "id": "33de0297",
   "metadata": {},
   "outputs": [],
   "source": [
    "cet_fire_24_os = psurv_t(kmf_low_cet_f_iptw,\n",
    "                         kmf_med_cet_f_iptw,\n",
    "                         kmf_high_cet_f_iptw,\n",
    "                         24)\n",
    "\n",
    "bev_fire_24_os = psurv_t(kmf_low_bev_f_iptw,\n",
    "                         kmf_med_bev_f_iptw,\n",
    "                         kmf_high_bev_f_iptw,\n",
    "                         24)\n",
    "\n",
    "cet_fire_36_os = psurv_t(kmf_low_cet_f_iptw,\n",
    "                         kmf_med_cet_f_iptw,\n",
    "                         kmf_high_cet_f_iptw,\n",
    "                         36)\n",
    "\n",
    "bev_fire_36_os = psurv_t(kmf_low_bev_f_iptw,\n",
    "                         kmf_med_bev_f_iptw,\n",
    "                         kmf_high_bev_f_iptw,\n",
    "                         36)\n",
    "\n",
    "cet_fire_median_os = mos(kmf_low_cet_f_iptw,\n",
    "                         kmf_med_cet_f_iptw,\n",
    "                         kmf_high_cet_f_iptw,\n",
    "                         kmf_all_cet_f_iptw)\n",
    "\n",
    "bev_fire_median_os = mos(kmf_low_bev_f_iptw,\n",
    "                         kmf_med_bev_f_iptw,\n",
    "                         kmf_high_bev_f_iptw, \n",
    "                         kmf_all_bev_f_iptw)"
   ]
  },
  {
   "cell_type": "code",
   "execution_count": 156,
   "id": "40c552ff",
   "metadata": {
    "scrolled": true
   },
   "outputs": [
    {
     "name": "stdout",
     "output_type": "stream",
     "text": [
      "All, cetuximab:  32.7\n",
      "All, bevacizumab:  26.266\n",
      "Low, cetuximab:  53.9\n",
      "Low, bevacizumab:  46.366\n",
      "Med, cetuximab:  29.766\n",
      "Med, bevacizumab:  27.4\n",
      "High, cetuximab:  12.9\n",
      "High, bevacizumab:  13.0\n"
     ]
    }
   ],
   "source": [
    "print('All, cetuximab: ',truncate(cet_fire_median_os[3], 3))\n",
    "print('All, bevacizumab: ',truncate(bev_fire_median_os[3], 3))\n",
    "\n",
    "print('Low, cetuximab: ',truncate(cet_fire_median_os[0], 3))\n",
    "print('Low, bevacizumab: ',truncate(bev_fire_median_os[0], 3))\n",
    "\n",
    "print('Med, cetuximab: ',truncate(cet_fire_median_os[1], 3))\n",
    "print('Med, bevacizumab: ',truncate(bev_fire_median_os[1], 3))\n",
    "\n",
    "print('High, cetuximab: ',truncate(cet_fire_median_os[2], 3))\n",
    "print('High, bevacizumab: ',truncate(bev_fire_median_os[2], 3))"
   ]
  },
  {
   "cell_type": "code",
   "execution_count": 157,
   "id": "d0883726",
   "metadata": {},
   "outputs": [],
   "source": [
    "cet_fire_low_24_ci = psurv_ci(kmf_low_cet_f_iptw, 24)\n",
    "cet_fire_med_24_ci = psurv_ci(kmf_med_cet_f_iptw, 24)\n",
    "cet_fire_high_24_ci = psurv_ci(kmf_high_cet_f_iptw, 24)\n",
    "\n",
    "y_error_cet_fire_24 = y_error(cet_fire_low_24_ci,\n",
    "                              cet_fire_med_24_ci,\n",
    "                              cet_fire_high_24_ci,\n",
    "                              cet_fire_24_os)"
   ]
  },
  {
   "cell_type": "code",
   "execution_count": 158,
   "id": "ee69b6e0",
   "metadata": {},
   "outputs": [],
   "source": [
    "bev_fire_low_24_ci = psurv_ci(kmf_low_bev_f_iptw, 24)\n",
    "bev_fire_med_24_ci = psurv_ci(kmf_med_bev_f_iptw, 24)\n",
    "bev_fire_high_24_ci = psurv_ci(kmf_high_bev_f_iptw, 24)\n",
    "\n",
    "y_error_bev_fire_24 = y_error(bev_fire_low_24_ci,\n",
    "                              bev_fire_med_24_ci,\n",
    "                              bev_fire_high_24_ci,\n",
    "                              bev_fire_24_os)"
   ]
  },
  {
   "cell_type": "code",
   "execution_count": 159,
   "id": "68ee2075",
   "metadata": {},
   "outputs": [],
   "source": [
    "cet_fire_low_36_ci = psurv_ci(kmf_low_cet_f_iptw, 36)\n",
    "cet_fire_med_36_ci = psurv_ci(kmf_med_cet_f_iptw, 36)\n",
    "cet_fire_high_36_ci = psurv_ci(kmf_high_cet_f_iptw, 36)\n",
    "\n",
    "y_error_cet_fire_36 = y_error(cet_fire_low_36_ci,\n",
    "                              cet_fire_med_36_ci,\n",
    "                              cet_fire_high_36_ci,\n",
    "                              cet_fire_36_os)"
   ]
  },
  {
   "cell_type": "code",
   "execution_count": 160,
   "id": "ca272386",
   "metadata": {},
   "outputs": [],
   "source": [
    "bev_fire_low_36_ci = psurv_ci(kmf_low_bev_f_iptw, 36)\n",
    "bev_fire_med_36_ci = psurv_ci(kmf_med_bev_f_iptw, 36)\n",
    "bev_fire_high_36_ci = psurv_ci(kmf_high_bev_f_iptw, 36)\n",
    "\n",
    "y_error_bev_fire_36 = y_error(bev_fire_low_36_ci,\n",
    "                              bev_fire_med_36_ci,\n",
    "                              bev_fire_high_36_ci,\n",
    "                              bev_fire_36_os)"
   ]
  },
  {
   "cell_type": "code",
   "execution_count": 161,
   "id": "35deaa50",
   "metadata": {},
   "outputs": [],
   "source": [
    "cet_fire_low_mos_ci = mos_ci(kmf_low_cet_f_iptw)\n",
    "cet_fire_med_mos_ci = mos_ci(kmf_med_cet_f_iptw)\n",
    "cet_fire_high_mos_ci = mos_ci(kmf_high_cet_f_iptw)\n",
    "\n",
    "y_error_cet_fire_mos = y_error(cet_fire_low_mos_ci,\n",
    "                               cet_fire_med_mos_ci,\n",
    "                               cet_fire_high_mos_ci,\n",
    "                               cet_fire_median_os)"
   ]
  },
  {
   "cell_type": "code",
   "execution_count": 162,
   "id": "46c9a524",
   "metadata": {},
   "outputs": [],
   "source": [
    "bev_fire_low_mos_ci = mos_ci(kmf_low_bev_f_iptw)\n",
    "bev_fire_med_mos_ci = mos_ci(kmf_med_bev_f_iptw)\n",
    "bev_fire_high_mos_ci = mos_ci(kmf_high_bev_f_iptw)\n",
    "\n",
    "y_error_bev_fire_mos = y_error(bev_fire_low_mos_ci,\n",
    "                               bev_fire_med_mos_ci,\n",
    "                               bev_fire_high_mos_ci,\n",
    "                               bev_fire_median_os)"
   ]
  },
  {
   "cell_type": "code",
   "execution_count": 163,
   "id": "4024b73c",
   "metadata": {},
   "outputs": [
    {
     "data": {
      "image/png": "[encoded data removed]",
      "text/plain": [
       "<Figure size 1800x400 with 4 Axes>"
      ]
     },
     "metadata": {},
     "output_type": "display_data"
    }
   ],
   "source": [
    "ml_risk = ['Low', 'Med',  'High']\n",
    "\n",
    "fig = plt.figure(figsize=(18, 4))\n",
    "\n",
    "# 24 month OS plot\n",
    "plt.subplot(1, 3, 1)\n",
    "plt.errorbar(ml_risk, cet_fire_24_os, yerr = y_error_cet_fire_24, marker = 'o', color = 'black', capsize = 3)\n",
    "plt.axhline(y = 55, color = 'red', linestyle = 'solid')\n",
    "\n",
    "eb1 = plt.errorbar(ml_risk, bev_fire_24_os, yerr = y_error_bev_fire_24, marker = 'o', color = 'black', linestyle = '--', capsize = 3)\n",
    "eb1[-1][0].set_linestyle(':')\n",
    "\n",
    "plt.axhline(y = 50, color = 'red', linestyle = '--')\n",
    "\n",
    "plt.yticks(np.arange(0, 110, 20))\n",
    "plt.ylim(0, 90)\n",
    "plt.ylabel('OS (%)', size = 15)\n",
    "\n",
    "plt.title('24-month OS %', size = 20)\n",
    "\n",
    "plt.gca().spines['top'].set_visible(False)\n",
    "plt.gca().spines['right'].set_visible(False)\n",
    "\n",
    "# 36 month OS plot\n",
    "plt.subplot(1, 3, 2)\n",
    "plt.errorbar(ml_risk, cet_fire_36_os, yerr = y_error_cet_fire_36, marker = 'o', color = 'black', capsize = 3)\n",
    "plt.axhline(y = 48, color = 'red', linestyle = 'solid')\n",
    "\n",
    "eb2 = plt.errorbar(ml_risk, bev_fire_36_os, yerr = y_error_bev_fire_36, marker = 'o', color = 'black', linestyle = '--', capsize = 3)\n",
    "eb2[-1][0].set_linestyle(':')\n",
    "plt.axhline(y = 25, color = 'red', linestyle = '--')\n",
    "\n",
    "plt.yticks(np.arange(0, 110, 20))\n",
    "plt.ylim(0, 90)\n",
    "plt.ylabel('OS (%)', size = 15)\n",
    "\n",
    "plt.title('36-month OS %', size = 20)\n",
    "\n",
    "plt.gca().spines['top'].set_visible(False)\n",
    "plt.gca().spines['right'].set_visible(False)\n",
    "\n",
    "# Median OS plot\n",
    "plt.subplot(1, 3, 3)\n",
    "plt.errorbar(ml_risk, cet_fire_median_os[0:3], yerr = y_error_cet_fire_mos, marker = 'o', color = 'black', capsize = 3)\n",
    "\n",
    "plt.axhline(y = 31.1, color = 'red', linestyle = 'solid')\n",
    "x_positions = [-0.1, 2.1]\n",
    "for x in x_positions:\n",
    "    plt.errorbar(x, 31.1, yerr=[np.array([31.1-25.2]), np.array([36.4-31.1])], color = 'red', capsize = 3)\n",
    "\n",
    "eb3 = plt.errorbar(ml_risk, bev_fire_median_os[0:3], yerr = y_error_bev_fire_mos, marker = 'o', color = 'black', linestyle = '--', capsize = 3)\n",
    "eb3[-1][0].set_linestyle(':')\n",
    "\n",
    "plt.axhline(y = 25.6, color = 'red', linestyle = '--')\n",
    "for x, z in zip(x_positions, [4, 5]):\n",
    "    ebz = plt.errorbar(x, 25.6, yerr=[np.array([25.6-23.2]), np.array([28.8-25.6])], color = 'red', capsize = 3)\n",
    "    ebz[-1][0].set_linestyle(':')\n",
    "\n",
    "plt.ylabel('OS (months)', size = 15)\n",
    "plt.title('Median OS', size = 20)\n",
    "\n",
    "plt.gca().spines['top'].set_visible(False)\n",
    "plt.gca().spines['right'].set_visible(False)\n",
    "\n",
    "fig.add_subplot(1, 1, 1, frameon = False)\n",
    "plt.tick_params(labelcolor = 'none', which = 'both', top = False, bottom = False, left = False, right = False)\n",
    "plt.xlabel('Machine-learning risk', labelpad = 15, size = 20)\n",
    "plt.title('FIRE-3: Cetuximab + FOLFIRI vs. Bevacizumab + FOLFIRI among KRAS wild-type', pad = 40, size = 20, weight = 'bold', loc = 'center')\n",
    "\n",
    "legend_elements = [Line2D([0], [0], color = 'red', linestyle = 'solid', label = 'FIRE-3: Cetuximab + FOLFIRI'),\n",
    "                   Line2D([0], [0], color = 'red', linestyle = '--', label = 'FIRE-3: Bevacizumab + FOLFIRI'),\n",
    "                   Line2D([0], [0], color = 'black', linestyle = 'solid', label = 'Flatiron: Cetuximab + FOLFIRI (n = {})'.format(fire.query('fxi_cet == 1').shape[0])),\n",
    "                   Line2D([0], [0], color = 'black', linestyle = '--', label = 'Flatiron: Bevacizumab + FOLFIRI (n = {})'.format(fire.query('fxi_cet == 0').shape[0]))]\n",
    "\n",
    "plt.legend(handles = legend_elements, fancybox = True, shadow = True, loc = 'lower left', prop = {'size': 9})\n",
    "\n",
    "#plt.savefig('fire3_summary_sc.png', bbox_inches = 'tight')\n",
    "\n",
    "plt.show()"
   ]
  }
 ],
 "metadata": {
  "kernelspec": {
   "display_name": "My Virtual Environment",
   "language": "python",
   "name": "myenv"
  },
  "language_info": {
   "codemirror_mode": {
    "name": "ipython",
    "version": 3
   },
   "file_extension": ".py",
   "mimetype": "text/x-python",
   "name": "python",
   "nbconvert_exporter": "python",
   "pygments_lexer": "ipython3",
   "version": "3.7.10"
  }
 },
 "nbformat": 4,
 "nbformat_minor": 5
}
